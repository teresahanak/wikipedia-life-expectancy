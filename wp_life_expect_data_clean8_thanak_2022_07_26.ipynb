{
 "cells": [
  {
   "cell_type": "markdown",
   "id": "316a0779",
   "metadata": {},
   "source": [
    "# Wikipedia Notable Life Expectancies\n",
    "# [Notebook  : Data Cleaning Part 8](https://github.com/teresahanak/wikipedia-life-expectancy/blob/main/wp_life_expect_data_clean8_thanak_2022_07_26.ipynb)\n",
    "### Context\n",
    "\n",
    "The\n",
    "### Objective\n",
    "\n",
    "The\n",
    "### Data Dictionary\n",
    "- Feature: Description"
   ]
  },
  {
   "cell_type": "markdown",
   "id": "99245d51",
   "metadata": {},
   "source": [
    "### Importing Libraries"
   ]
  },
  {
   "cell_type": "code",
   "execution_count": 1,
   "id": "453bba83",
   "metadata": {},
   "outputs": [
    {
     "data": {
      "application/javascript": [
       "\n",
       "            setTimeout(function() {\n",
       "                var nbb_cell_id = 1;\n",
       "                var nbb_unformatted_code = \"# To structure code automatically\\n%load_ext nb_black\\n\\n# To import/export sqlite databases\\nimport sqlite3 as sql\\n\\n# To save/open python objects in pickle file\\nimport pickle\\n\\n# To help with reading, cleaning, and manipulating data\\nimport pandas as pd\\nimport numpy as np\\nimport re\\n\\n# To define maximum number of columns to be displayed in a dataframe\\npd.set_option(\\\"display.max_columns\\\", None)\\n# To define the maximum number of rows to be displayed in a dataframe\\npd.set_option(\\\"display.max_rows\\\", 200)\\n\\n# To supress warnings\\n# import warnings\\n\\n# warnings.filterwarnings(\\\"ignore\\\")\\n\\n# To set some visualization attributes\\npd.set_option(\\\"max_colwidth\\\", 150)\\n\\n# To play auditory cue when cell has executed, has warning, or has error and set chime theme\\nimport chime\\n\\nchime.theme(\\\"zelda\\\")\";\n",
       "                var nbb_formatted_code = \"# To structure code automatically\\n%load_ext nb_black\\n\\n# To import/export sqlite databases\\nimport sqlite3 as sql\\n\\n# To save/open python objects in pickle file\\nimport pickle\\n\\n# To help with reading, cleaning, and manipulating data\\nimport pandas as pd\\nimport numpy as np\\nimport re\\n\\n# To define maximum number of columns to be displayed in a dataframe\\npd.set_option(\\\"display.max_columns\\\", None)\\n# To define the maximum number of rows to be displayed in a dataframe\\npd.set_option(\\\"display.max_rows\\\", 200)\\n\\n# To supress warnings\\n# import warnings\\n\\n# warnings.filterwarnings(\\\"ignore\\\")\\n\\n# To set some visualization attributes\\npd.set_option(\\\"max_colwidth\\\", 150)\\n\\n# To play auditory cue when cell has executed, has warning, or has error and set chime theme\\nimport chime\\n\\nchime.theme(\\\"zelda\\\")\";\n",
       "                var nbb_cells = Jupyter.notebook.get_cells();\n",
       "                for (var i = 0; i < nbb_cells.length; ++i) {\n",
       "                    if (nbb_cells[i].input_prompt_number == nbb_cell_id) {\n",
       "                        if (nbb_cells[i].get_text() == nbb_unformatted_code) {\n",
       "                             nbb_cells[i].set_text(nbb_formatted_code);\n",
       "                        }\n",
       "                        break;\n",
       "                    }\n",
       "                }\n",
       "            }, 500);\n",
       "            "
      ],
      "text/plain": [
       "<IPython.core.display.Javascript object>"
      ]
     },
     "metadata": {},
     "output_type": "display_data"
    }
   ],
   "source": [
    "# To structure code automatically\n",
    "%load_ext nb_black\n",
    "\n",
    "# To import/export sqlite databases\n",
    "import sqlite3 as sql\n",
    "\n",
    "# To save/open python objects in pickle file\n",
    "import pickle\n",
    "\n",
    "# To help with reading, cleaning, and manipulating data\n",
    "import pandas as pd\n",
    "import numpy as np\n",
    "import re\n",
    "\n",
    "# To define maximum number of columns to be displayed in a dataframe\n",
    "pd.set_option(\"display.max_columns\", None)\n",
    "# To define the maximum number of rows to be displayed in a dataframe\n",
    "pd.set_option(\"display.max_rows\", 200)\n",
    "\n",
    "# To supress warnings\n",
    "# import warnings\n",
    "\n",
    "# warnings.filterwarnings(\"ignore\")\n",
    "\n",
    "# To set some visualization attributes\n",
    "pd.set_option(\"max_colwidth\", 150)\n",
    "\n",
    "# To play auditory cue when cell has executed, has warning, or has error and set chime theme\n",
    "import chime\n",
    "\n",
    "chime.theme(\"zelda\")"
   ]
  },
  {
   "cell_type": "markdown",
   "id": "cc818a82",
   "metadata": {},
   "source": [
    "## Data Overview"
   ]
  },
  {
   "cell_type": "markdown",
   "id": "0ed005f6",
   "metadata": {},
   "source": [
    "### [Reading](https://github.com/teresahanak/wikipedia-life-expectancy/blob/main/wp_life_expect_clean7.db), Sampling, and Checking Data Shape"
   ]
  },
  {
   "cell_type": "code",
   "execution_count": 2,
   "id": "0ca58a95",
   "metadata": {},
   "outputs": [
    {
     "name": "stdout",
     "output_type": "stream",
     "text": [
      "There are 98040 rows and 27 columns.\n"
     ]
    },
    {
     "data": {
      "text/html": [
       "<div>\n",
       "<style scoped>\n",
       "    .dataframe tbody tr th:only-of-type {\n",
       "        vertical-align: middle;\n",
       "    }\n",
       "\n",
       "    .dataframe tbody tr th {\n",
       "        vertical-align: top;\n",
       "    }\n",
       "\n",
       "    .dataframe thead th {\n",
       "        text-align: right;\n",
       "    }\n",
       "</style>\n",
       "<table border=\"1\" class=\"dataframe\">\n",
       "  <thead>\n",
       "    <tr style=\"text-align: right;\">\n",
       "      <th></th>\n",
       "      <th>day</th>\n",
       "      <th>name</th>\n",
       "      <th>info</th>\n",
       "      <th>link</th>\n",
       "      <th>num_references</th>\n",
       "      <th>year</th>\n",
       "      <th>month</th>\n",
       "      <th>info_parenth</th>\n",
       "      <th>age</th>\n",
       "      <th>cause_of_death</th>\n",
       "      <th>place_1</th>\n",
       "      <th>place_2</th>\n",
       "      <th>info_parenth_copy</th>\n",
       "      <th>log_num_references</th>\n",
       "      <th>sciences</th>\n",
       "      <th>social</th>\n",
       "      <th>spiritual</th>\n",
       "      <th>academia_humanities</th>\n",
       "      <th>business_farming</th>\n",
       "      <th>arts</th>\n",
       "      <th>sports</th>\n",
       "      <th>law_enf_military_operator</th>\n",
       "      <th>politics_govt_law</th>\n",
       "      <th>crime</th>\n",
       "      <th>event_record_other</th>\n",
       "      <th>other_species</th>\n",
       "      <th>num_categories</th>\n",
       "    </tr>\n",
       "  </thead>\n",
       "  <tbody>\n",
       "    <tr>\n",
       "      <th>0</th>\n",
       "      <td>1</td>\n",
       "      <td>William Chappell</td>\n",
       "      <td>, 86, British dancer, ballet designer and director.</td>\n",
       "      <td>https://en.wikipedia.org/wiki/William_Chappell_(dancer)</td>\n",
       "      <td>21</td>\n",
       "      <td>1994</td>\n",
       "      <td>January</td>\n",
       "      <td>None</td>\n",
       "      <td>86.0</td>\n",
       "      <td>None</td>\n",
       "      <td>United Kingdom of Great Britain and Northern Ireland</td>\n",
       "      <td>None</td>\n",
       "      <td>None</td>\n",
       "      <td>3.091042</td>\n",
       "      <td>0</td>\n",
       "      <td>0</td>\n",
       "      <td>0</td>\n",
       "      <td>0</td>\n",
       "      <td>0</td>\n",
       "      <td>1</td>\n",
       "      <td>0</td>\n",
       "      <td>0</td>\n",
       "      <td>0</td>\n",
       "      <td>0</td>\n",
       "      <td>0</td>\n",
       "      <td>0</td>\n",
       "      <td>1</td>\n",
       "    </tr>\n",
       "    <tr>\n",
       "      <th>1</th>\n",
       "      <td>1</td>\n",
       "      <td>Raymond Crotty</td>\n",
       "      <td>, 68, Irish economist, writer, and academic.</td>\n",
       "      <td>https://en.wikipedia.org/wiki/Raymond_Crotty</td>\n",
       "      <td>12</td>\n",
       "      <td>1994</td>\n",
       "      <td>January</td>\n",
       "      <td>None</td>\n",
       "      <td>68.0</td>\n",
       "      <td>None</td>\n",
       "      <td>Ireland</td>\n",
       "      <td>None</td>\n",
       "      <td>None</td>\n",
       "      <td>2.564949</td>\n",
       "      <td>0</td>\n",
       "      <td>0</td>\n",
       "      <td>0</td>\n",
       "      <td>1</td>\n",
       "      <td>0</td>\n",
       "      <td>1</td>\n",
       "      <td>0</td>\n",
       "      <td>0</td>\n",
       "      <td>1</td>\n",
       "      <td>0</td>\n",
       "      <td>0</td>\n",
       "      <td>0</td>\n",
       "      <td>3</td>\n",
       "    </tr>\n",
       "  </tbody>\n",
       "</table>\n",
       "</div>"
      ],
      "text/plain": [
       "  day              name                                                 info  \\\n",
       "0   1  William Chappell  , 86, British dancer, ballet designer and director.   \n",
       "1   1    Raymond Crotty         , 68, Irish economist, writer, and academic.   \n",
       "\n",
       "                                                      link  num_references  \\\n",
       "0  https://en.wikipedia.org/wiki/William_Chappell_(dancer)              21   \n",
       "1             https://en.wikipedia.org/wiki/Raymond_Crotty              12   \n",
       "\n",
       "   year    month info_parenth   age cause_of_death  \\\n",
       "0  1994  January         None  86.0           None   \n",
       "1  1994  January         None  68.0           None   \n",
       "\n",
       "                                                place_1 place_2  \\\n",
       "0  United Kingdom of Great Britain and Northern Ireland    None   \n",
       "1                                               Ireland    None   \n",
       "\n",
       "  info_parenth_copy  log_num_references  sciences  social  spiritual  \\\n",
       "0              None            3.091042         0       0          0   \n",
       "1              None            2.564949         0       0          0   \n",
       "\n",
       "   academia_humanities  business_farming  arts  sports  \\\n",
       "0                    0                 0     1       0   \n",
       "1                    1                 0     1       0   \n",
       "\n",
       "   law_enf_military_operator  politics_govt_law  crime  event_record_other  \\\n",
       "0                          0                  0      0                   0   \n",
       "1                          0                  1      0                   0   \n",
       "\n",
       "   other_species  num_categories  \n",
       "0              0               1  \n",
       "1              0               3  "
      ]
     },
     "execution_count": 2,
     "metadata": {},
     "output_type": "execute_result"
    },
    {
     "data": {
      "application/javascript": [
       "\n",
       "            setTimeout(function() {\n",
       "                var nbb_cell_id = 2;\n",
       "                var nbb_unformatted_code = \"# Reading the dataset\\nconn = sql.connect(\\\"wp_life_expect_clean7.db\\\")\\ndata = pd.read_sql(\\\"SELECT * FROM wp_life_expect_clean7\\\", conn)\\n\\n# Making a working copy\\ndf = data.copy()\\n\\n# Checking the shape\\nprint(f\\\"There are {df.shape[0]} rows and {df.shape[1]} columns.\\\")\\n\\n# Checking first 2 rows of the data\\ndf.head(2)\";\n",
       "                var nbb_formatted_code = \"# Reading the dataset\\nconn = sql.connect(\\\"wp_life_expect_clean7.db\\\")\\ndata = pd.read_sql(\\\"SELECT * FROM wp_life_expect_clean7\\\", conn)\\n\\n# Making a working copy\\ndf = data.copy()\\n\\n# Checking the shape\\nprint(f\\\"There are {df.shape[0]} rows and {df.shape[1]} columns.\\\")\\n\\n# Checking first 2 rows of the data\\ndf.head(2)\";\n",
       "                var nbb_cells = Jupyter.notebook.get_cells();\n",
       "                for (var i = 0; i < nbb_cells.length; ++i) {\n",
       "                    if (nbb_cells[i].input_prompt_number == nbb_cell_id) {\n",
       "                        if (nbb_cells[i].get_text() == nbb_unformatted_code) {\n",
       "                             nbb_cells[i].set_text(nbb_formatted_code);\n",
       "                        }\n",
       "                        break;\n",
       "                    }\n",
       "                }\n",
       "            }, 500);\n",
       "            "
      ],
      "text/plain": [
       "<IPython.core.display.Javascript object>"
      ]
     },
     "metadata": {},
     "output_type": "display_data"
    }
   ],
   "source": [
    "# Reading the dataset\n",
    "conn = sql.connect(\"wp_life_expect_clean7.db\")\n",
    "data = pd.read_sql(\"SELECT * FROM wp_life_expect_clean7\", conn)\n",
    "\n",
    "# Making a working copy\n",
    "df = data.copy()\n",
    "\n",
    "# Checking the shape\n",
    "print(f\"There are {df.shape[0]} rows and {df.shape[1]} columns.\")\n",
    "\n",
    "# Checking first 2 rows of the data\n",
    "df.head(2)"
   ]
  },
  {
   "cell_type": "code",
   "execution_count": 3,
   "id": "6cca416f",
   "metadata": {},
   "outputs": [
    {
     "data": {
      "text/html": [
       "<div>\n",
       "<style scoped>\n",
       "    .dataframe tbody tr th:only-of-type {\n",
       "        vertical-align: middle;\n",
       "    }\n",
       "\n",
       "    .dataframe tbody tr th {\n",
       "        vertical-align: top;\n",
       "    }\n",
       "\n",
       "    .dataframe thead th {\n",
       "        text-align: right;\n",
       "    }\n",
       "</style>\n",
       "<table border=\"1\" class=\"dataframe\">\n",
       "  <thead>\n",
       "    <tr style=\"text-align: right;\">\n",
       "      <th></th>\n",
       "      <th>day</th>\n",
       "      <th>name</th>\n",
       "      <th>info</th>\n",
       "      <th>link</th>\n",
       "      <th>num_references</th>\n",
       "      <th>year</th>\n",
       "      <th>month</th>\n",
       "      <th>info_parenth</th>\n",
       "      <th>age</th>\n",
       "      <th>cause_of_death</th>\n",
       "      <th>place_1</th>\n",
       "      <th>place_2</th>\n",
       "      <th>info_parenth_copy</th>\n",
       "      <th>log_num_references</th>\n",
       "      <th>sciences</th>\n",
       "      <th>social</th>\n",
       "      <th>spiritual</th>\n",
       "      <th>academia_humanities</th>\n",
       "      <th>business_farming</th>\n",
       "      <th>arts</th>\n",
       "      <th>sports</th>\n",
       "      <th>law_enf_military_operator</th>\n",
       "      <th>politics_govt_law</th>\n",
       "      <th>crime</th>\n",
       "      <th>event_record_other</th>\n",
       "      <th>other_species</th>\n",
       "      <th>num_categories</th>\n",
       "    </tr>\n",
       "  </thead>\n",
       "  <tbody>\n",
       "    <tr>\n",
       "      <th>98038</th>\n",
       "      <td>9</td>\n",
       "      <td>Aamir Liaquat Hussain</td>\n",
       "      <td>, 50, Pakistani journalist and politician, MNA .</td>\n",
       "      <td>https://en.wikipedia.org/wiki/Aamir_Liaquat_Hussain</td>\n",
       "      <td>99</td>\n",
       "      <td>2022</td>\n",
       "      <td>June</td>\n",
       "      <td>2002 2007, since 2018</td>\n",
       "      <td>50.0</td>\n",
       "      <td>None</td>\n",
       "      <td>Pakistan</td>\n",
       "      <td>None</td>\n",
       "      <td>, since</td>\n",
       "      <td>4.605170</td>\n",
       "      <td>0</td>\n",
       "      <td>0</td>\n",
       "      <td>0</td>\n",
       "      <td>0</td>\n",
       "      <td>0</td>\n",
       "      <td>1</td>\n",
       "      <td>0</td>\n",
       "      <td>0</td>\n",
       "      <td>1</td>\n",
       "      <td>0</td>\n",
       "      <td>0</td>\n",
       "      <td>0</td>\n",
       "      <td>2</td>\n",
       "    </tr>\n",
       "    <tr>\n",
       "      <th>98039</th>\n",
       "      <td>9</td>\n",
       "      <td>Zou Jing</td>\n",
       "      <td>, 86, Chinese engineer, member of the Chinese Academy of Engineering.</td>\n",
       "      <td>https://en.wikipedia.org/wiki/Zou_Jing_(engineer)</td>\n",
       "      <td>3</td>\n",
       "      <td>2022</td>\n",
       "      <td>June</td>\n",
       "      <td>None</td>\n",
       "      <td>86.0</td>\n",
       "      <td>None</td>\n",
       "      <td>China, People's Republic of</td>\n",
       "      <td>None</td>\n",
       "      <td>None</td>\n",
       "      <td>1.386294</td>\n",
       "      <td>1</td>\n",
       "      <td>0</td>\n",
       "      <td>0</td>\n",
       "      <td>0</td>\n",
       "      <td>0</td>\n",
       "      <td>0</td>\n",
       "      <td>0</td>\n",
       "      <td>0</td>\n",
       "      <td>0</td>\n",
       "      <td>0</td>\n",
       "      <td>0</td>\n",
       "      <td>0</td>\n",
       "      <td>1</td>\n",
       "    </tr>\n",
       "  </tbody>\n",
       "</table>\n",
       "</div>"
      ],
      "text/plain": [
       "      day                   name  \\\n",
       "98038   9  Aamir Liaquat Hussain   \n",
       "98039   9               Zou Jing   \n",
       "\n",
       "                                                                        info  \\\n",
       "98038                       , 50, Pakistani journalist and politician, MNA .   \n",
       "98039  , 86, Chinese engineer, member of the Chinese Academy of Engineering.   \n",
       "\n",
       "                                                      link  num_references  \\\n",
       "98038  https://en.wikipedia.org/wiki/Aamir_Liaquat_Hussain              99   \n",
       "98039    https://en.wikipedia.org/wiki/Zou_Jing_(engineer)               3   \n",
       "\n",
       "       year month           info_parenth   age cause_of_death  \\\n",
       "98038  2022  June  2002 2007, since 2018  50.0           None   \n",
       "98039  2022  June                   None  86.0           None   \n",
       "\n",
       "                           place_1 place_2 info_parenth_copy  \\\n",
       "98038                     Pakistan    None           , since   \n",
       "98039  China, People's Republic of    None              None   \n",
       "\n",
       "       log_num_references  sciences  social  spiritual  academia_humanities  \\\n",
       "98038            4.605170         0       0          0                    0   \n",
       "98039            1.386294         1       0          0                    0   \n",
       "\n",
       "       business_farming  arts  sports  law_enf_military_operator  \\\n",
       "98038                 0     1       0                          0   \n",
       "98039                 0     0       0                          0   \n",
       "\n",
       "       politics_govt_law  crime  event_record_other  other_species  \\\n",
       "98038                  1      0                   0              0   \n",
       "98039                  0      0                   0              0   \n",
       "\n",
       "       num_categories  \n",
       "98038               2  \n",
       "98039               1  "
      ]
     },
     "execution_count": 3,
     "metadata": {},
     "output_type": "execute_result"
    },
    {
     "data": {
      "application/javascript": [
       "\n",
       "            setTimeout(function() {\n",
       "                var nbb_cell_id = 3;\n",
       "                var nbb_unformatted_code = \"# Checking last 2 rows of the data\\ndf.tail(2)\";\n",
       "                var nbb_formatted_code = \"# Checking last 2 rows of the data\\ndf.tail(2)\";\n",
       "                var nbb_cells = Jupyter.notebook.get_cells();\n",
       "                for (var i = 0; i < nbb_cells.length; ++i) {\n",
       "                    if (nbb_cells[i].input_prompt_number == nbb_cell_id) {\n",
       "                        if (nbb_cells[i].get_text() == nbb_unformatted_code) {\n",
       "                             nbb_cells[i].set_text(nbb_formatted_code);\n",
       "                        }\n",
       "                        break;\n",
       "                    }\n",
       "                }\n",
       "            }, 500);\n",
       "            "
      ],
      "text/plain": [
       "<IPython.core.display.Javascript object>"
      ]
     },
     "metadata": {},
     "output_type": "display_data"
    }
   ],
   "source": [
    "# Checking last 2 rows of the data\n",
    "df.tail(2)"
   ]
  },
  {
   "cell_type": "code",
   "execution_count": 4,
   "id": "de6e8ee5",
   "metadata": {},
   "outputs": [
    {
     "data": {
      "text/html": [
       "<div>\n",
       "<style scoped>\n",
       "    .dataframe tbody tr th:only-of-type {\n",
       "        vertical-align: middle;\n",
       "    }\n",
       "\n",
       "    .dataframe tbody tr th {\n",
       "        vertical-align: top;\n",
       "    }\n",
       "\n",
       "    .dataframe thead th {\n",
       "        text-align: right;\n",
       "    }\n",
       "</style>\n",
       "<table border=\"1\" class=\"dataframe\">\n",
       "  <thead>\n",
       "    <tr style=\"text-align: right;\">\n",
       "      <th></th>\n",
       "      <th>day</th>\n",
       "      <th>name</th>\n",
       "      <th>info</th>\n",
       "      <th>link</th>\n",
       "      <th>num_references</th>\n",
       "      <th>year</th>\n",
       "      <th>month</th>\n",
       "      <th>info_parenth</th>\n",
       "      <th>age</th>\n",
       "      <th>cause_of_death</th>\n",
       "      <th>place_1</th>\n",
       "      <th>place_2</th>\n",
       "      <th>info_parenth_copy</th>\n",
       "      <th>log_num_references</th>\n",
       "      <th>sciences</th>\n",
       "      <th>social</th>\n",
       "      <th>spiritual</th>\n",
       "      <th>academia_humanities</th>\n",
       "      <th>business_farming</th>\n",
       "      <th>arts</th>\n",
       "      <th>sports</th>\n",
       "      <th>law_enf_military_operator</th>\n",
       "      <th>politics_govt_law</th>\n",
       "      <th>crime</th>\n",
       "      <th>event_record_other</th>\n",
       "      <th>other_species</th>\n",
       "      <th>num_categories</th>\n",
       "    </tr>\n",
       "  </thead>\n",
       "  <tbody>\n",
       "    <tr>\n",
       "      <th>89692</th>\n",
       "      <td>2</td>\n",
       "      <td>Eric McClure</td>\n",
       "      <td>, 42, American racing driver .</td>\n",
       "      <td>https://en.wikipedia.org/wiki/Eric_McClure</td>\n",
       "      <td>24</td>\n",
       "      <td>2021</td>\n",
       "      <td>May</td>\n",
       "      <td>NASCAR Xfinity Series</td>\n",
       "      <td>42.0</td>\n",
       "      <td>None</td>\n",
       "      <td>United States of America</td>\n",
       "      <td>None</td>\n",
       "      <td>NASCAR Xfinity Series</td>\n",
       "      <td>3.218876</td>\n",
       "      <td>0</td>\n",
       "      <td>0</td>\n",
       "      <td>0</td>\n",
       "      <td>0</td>\n",
       "      <td>0</td>\n",
       "      <td>0</td>\n",
       "      <td>1</td>\n",
       "      <td>0</td>\n",
       "      <td>0</td>\n",
       "      <td>0</td>\n",
       "      <td>0</td>\n",
       "      <td>0</td>\n",
       "      <td>1</td>\n",
       "    </tr>\n",
       "    <tr>\n",
       "      <th>85538</th>\n",
       "      <td>27</td>\n",
       "      <td>Mohsen Fakhrizadeh</td>\n",
       "      <td>, 59, Iranian nuclear scientist, shot.</td>\n",
       "      <td>https://en.wikipedia.org/wiki/Mohsen_Fakhrizadeh</td>\n",
       "      <td>136</td>\n",
       "      <td>2020</td>\n",
       "      <td>November</td>\n",
       "      <td>None</td>\n",
       "      <td>59.0</td>\n",
       "      <td>shot</td>\n",
       "      <td>Iran</td>\n",
       "      <td>None</td>\n",
       "      <td>None</td>\n",
       "      <td>4.919981</td>\n",
       "      <td>1</td>\n",
       "      <td>0</td>\n",
       "      <td>0</td>\n",
       "      <td>0</td>\n",
       "      <td>0</td>\n",
       "      <td>0</td>\n",
       "      <td>0</td>\n",
       "      <td>0</td>\n",
       "      <td>0</td>\n",
       "      <td>0</td>\n",
       "      <td>0</td>\n",
       "      <td>0</td>\n",
       "      <td>1</td>\n",
       "    </tr>\n",
       "    <tr>\n",
       "      <th>81001</th>\n",
       "      <td>18</td>\n",
       "      <td>Edward Millward</td>\n",
       "      <td>, 89, Welsh nationalist and educator .</td>\n",
       "      <td>https://en.wikipedia.org/wiki/Edward_Millward</td>\n",
       "      <td>11</td>\n",
       "      <td>2020</td>\n",
       "      <td>April</td>\n",
       "      <td>Charles, Prince of Wales</td>\n",
       "      <td>89.0</td>\n",
       "      <td>None</td>\n",
       "      <td>Wales</td>\n",
       "      <td>None</td>\n",
       "      <td>Charles, Prince of</td>\n",
       "      <td>2.484907</td>\n",
       "      <td>0</td>\n",
       "      <td>0</td>\n",
       "      <td>0</td>\n",
       "      <td>1</td>\n",
       "      <td>0</td>\n",
       "      <td>0</td>\n",
       "      <td>0</td>\n",
       "      <td>0</td>\n",
       "      <td>1</td>\n",
       "      <td>0</td>\n",
       "      <td>0</td>\n",
       "      <td>0</td>\n",
       "      <td>2</td>\n",
       "    </tr>\n",
       "    <tr>\n",
       "      <th>14007</th>\n",
       "      <td>23</td>\n",
       "      <td>Jelle Zijlstra</td>\n",
       "      <td>, 83, Dutch politician and economist, prime minister ,  dementia.</td>\n",
       "      <td>https://en.wikipedia.org/wiki/Jelle_Zijlstra</td>\n",
       "      <td>11</td>\n",
       "      <td>2001</td>\n",
       "      <td>December</td>\n",
       "      <td>1966 1967</td>\n",
       "      <td>83.0</td>\n",
       "      <td>dementia</td>\n",
       "      <td>Netherlands</td>\n",
       "      <td>None</td>\n",
       "      <td></td>\n",
       "      <td>2.484907</td>\n",
       "      <td>0</td>\n",
       "      <td>0</td>\n",
       "      <td>0</td>\n",
       "      <td>0</td>\n",
       "      <td>0</td>\n",
       "      <td>0</td>\n",
       "      <td>0</td>\n",
       "      <td>0</td>\n",
       "      <td>1</td>\n",
       "      <td>0</td>\n",
       "      <td>0</td>\n",
       "      <td>0</td>\n",
       "      <td>1</td>\n",
       "    </tr>\n",
       "    <tr>\n",
       "      <th>27055</th>\n",
       "      <td>7</td>\n",
       "      <td>Roger Sonnabend</td>\n",
       "      <td>, 83, American hotelier.</td>\n",
       "      <td>https://en.wikipedia.org/wiki/Roger_Sonnabend</td>\n",
       "      <td>3</td>\n",
       "      <td>2008</td>\n",
       "      <td>December</td>\n",
       "      <td>None</td>\n",
       "      <td>83.0</td>\n",
       "      <td>None</td>\n",
       "      <td>United States of America</td>\n",
       "      <td>None</td>\n",
       "      <td>None</td>\n",
       "      <td>1.386294</td>\n",
       "      <td>0</td>\n",
       "      <td>0</td>\n",
       "      <td>0</td>\n",
       "      <td>0</td>\n",
       "      <td>1</td>\n",
       "      <td>0</td>\n",
       "      <td>0</td>\n",
       "      <td>0</td>\n",
       "      <td>0</td>\n",
       "      <td>0</td>\n",
       "      <td>0</td>\n",
       "      <td>0</td>\n",
       "      <td>1</td>\n",
       "    </tr>\n",
       "  </tbody>\n",
       "</table>\n",
       "</div>"
      ],
      "text/plain": [
       "      day                name  \\\n",
       "89692   2        Eric McClure   \n",
       "85538  27  Mohsen Fakhrizadeh   \n",
       "81001  18     Edward Millward   \n",
       "14007  23      Jelle Zijlstra   \n",
       "27055   7     Roger Sonnabend   \n",
       "\n",
       "                                                                    info  \\\n",
       "89692                                     , 42, American racing driver .   \n",
       "85538                             , 59, Iranian nuclear scientist, shot.   \n",
       "81001                             , 89, Welsh nationalist and educator .   \n",
       "14007  , 83, Dutch politician and economist, prime minister ,  dementia.   \n",
       "27055                                           , 83, American hotelier.   \n",
       "\n",
       "                                                   link  num_references  year  \\\n",
       "89692        https://en.wikipedia.org/wiki/Eric_McClure              24  2021   \n",
       "85538  https://en.wikipedia.org/wiki/Mohsen_Fakhrizadeh             136  2020   \n",
       "81001     https://en.wikipedia.org/wiki/Edward_Millward              11  2020   \n",
       "14007      https://en.wikipedia.org/wiki/Jelle_Zijlstra              11  2001   \n",
       "27055     https://en.wikipedia.org/wiki/Roger_Sonnabend               3  2008   \n",
       "\n",
       "          month              info_parenth   age cause_of_death  \\\n",
       "89692       May     NASCAR Xfinity Series  42.0           None   \n",
       "85538  November                      None  59.0           shot   \n",
       "81001     April  Charles, Prince of Wales  89.0           None   \n",
       "14007  December                 1966 1967  83.0       dementia   \n",
       "27055  December                      None  83.0           None   \n",
       "\n",
       "                        place_1 place_2      info_parenth_copy  \\\n",
       "89692  United States of America    None  NASCAR Xfinity Series   \n",
       "85538                      Iran    None                   None   \n",
       "81001                     Wales    None     Charles, Prince of   \n",
       "14007               Netherlands    None                          \n",
       "27055  United States of America    None                   None   \n",
       "\n",
       "       log_num_references  sciences  social  spiritual  academia_humanities  \\\n",
       "89692            3.218876         0       0          0                    0   \n",
       "85538            4.919981         1       0          0                    0   \n",
       "81001            2.484907         0       0          0                    1   \n",
       "14007            2.484907         0       0          0                    0   \n",
       "27055            1.386294         0       0          0                    0   \n",
       "\n",
       "       business_farming  arts  sports  law_enf_military_operator  \\\n",
       "89692                 0     0       1                          0   \n",
       "85538                 0     0       0                          0   \n",
       "81001                 0     0       0                          0   \n",
       "14007                 0     0       0                          0   \n",
       "27055                 1     0       0                          0   \n",
       "\n",
       "       politics_govt_law  crime  event_record_other  other_species  \\\n",
       "89692                  0      0                   0              0   \n",
       "85538                  0      0                   0              0   \n",
       "81001                  1      0                   0              0   \n",
       "14007                  1      0                   0              0   \n",
       "27055                  0      0                   0              0   \n",
       "\n",
       "       num_categories  \n",
       "89692               1  \n",
       "85538               1  \n",
       "81001               2  \n",
       "14007               1  \n",
       "27055               1  "
      ]
     },
     "execution_count": 4,
     "metadata": {},
     "output_type": "execute_result"
    },
    {
     "data": {
      "application/javascript": [
       "\n",
       "            setTimeout(function() {\n",
       "                var nbb_cell_id = 4;\n",
       "                var nbb_unformatted_code = \"# Checking a sample of the data\\ndf.sample(5)\";\n",
       "                var nbb_formatted_code = \"# Checking a sample of the data\\ndf.sample(5)\";\n",
       "                var nbb_cells = Jupyter.notebook.get_cells();\n",
       "                for (var i = 0; i < nbb_cells.length; ++i) {\n",
       "                    if (nbb_cells[i].input_prompt_number == nbb_cell_id) {\n",
       "                        if (nbb_cells[i].get_text() == nbb_unformatted_code) {\n",
       "                             nbb_cells[i].set_text(nbb_formatted_code);\n",
       "                        }\n",
       "                        break;\n",
       "                    }\n",
       "                }\n",
       "            }, 500);\n",
       "            "
      ],
      "text/plain": [
       "<IPython.core.display.Javascript object>"
      ]
     },
     "metadata": {},
     "output_type": "display_data"
    }
   ],
   "source": [
    "# Checking a sample of the data\n",
    "df.sample(5)"
   ]
  },
  {
   "cell_type": "markdown",
   "id": "8d5f29da",
   "metadata": {},
   "source": [
    "### Checking Data Types and Null Values"
   ]
  },
  {
   "cell_type": "code",
   "execution_count": 5,
   "id": "bf505f87",
   "metadata": {},
   "outputs": [
    {
     "name": "stdout",
     "output_type": "stream",
     "text": [
      "<class 'pandas.core.frame.DataFrame'>\n",
      "RangeIndex: 98040 entries, 0 to 98039\n",
      "Data columns (total 27 columns):\n",
      " #   Column                     Non-Null Count  Dtype  \n",
      "---  ------                     --------------  -----  \n",
      " 0   day                        98040 non-null  object \n",
      " 1   name                       98040 non-null  object \n",
      " 2   info                       98040 non-null  object \n",
      " 3   link                       98040 non-null  object \n",
      " 4   num_references             98040 non-null  int64  \n",
      " 5   year                       98040 non-null  int64  \n",
      " 6   month                      98040 non-null  object \n",
      " 7   info_parenth               36660 non-null  object \n",
      " 8   age                        98040 non-null  float64\n",
      " 9   cause_of_death             33336 non-null  object \n",
      " 10  place_1                    97887 non-null  object \n",
      " 11  place_2                    8116 non-null   object \n",
      " 12  info_parenth_copy          36660 non-null  object \n",
      " 13  log_num_references         98040 non-null  float64\n",
      " 14  sciences                   98040 non-null  int64  \n",
      " 15  social                     98040 non-null  int64  \n",
      " 16  spiritual                  98040 non-null  int64  \n",
      " 17  academia_humanities        98040 non-null  int64  \n",
      " 18  business_farming           98040 non-null  int64  \n",
      " 19  arts                       98040 non-null  int64  \n",
      " 20  sports                     98040 non-null  int64  \n",
      " 21  law_enf_military_operator  98040 non-null  int64  \n",
      " 22  politics_govt_law          98040 non-null  int64  \n",
      " 23  crime                      98040 non-null  int64  \n",
      " 24  event_record_other         98040 non-null  int64  \n",
      " 25  other_species              98040 non-null  int64  \n",
      " 26  num_categories             98040 non-null  int64  \n",
      "dtypes: float64(2), int64(15), object(10)\n",
      "memory usage: 20.2+ MB\n"
     ]
    },
    {
     "data": {
      "application/javascript": [
       "\n",
       "            setTimeout(function() {\n",
       "                var nbb_cell_id = 5;\n",
       "                var nbb_unformatted_code = \"# Checking data types and null values\\ndf.info()\";\n",
       "                var nbb_formatted_code = \"# Checking data types and null values\\ndf.info()\";\n",
       "                var nbb_cells = Jupyter.notebook.get_cells();\n",
       "                for (var i = 0; i < nbb_cells.length; ++i) {\n",
       "                    if (nbb_cells[i].input_prompt_number == nbb_cell_id) {\n",
       "                        if (nbb_cells[i].get_text() == nbb_unformatted_code) {\n",
       "                             nbb_cells[i].set_text(nbb_formatted_code);\n",
       "                        }\n",
       "                        break;\n",
       "                    }\n",
       "                }\n",
       "            }, 500);\n",
       "            "
      ],
      "text/plain": [
       "<IPython.core.display.Javascript object>"
      ]
     },
     "metadata": {},
     "output_type": "display_data"
    }
   ],
   "source": [
    "# Checking data types and null values\n",
    "df.info()"
   ]
  },
  {
   "cell_type": "markdown",
   "id": "c459d7f8",
   "metadata": {},
   "source": [
    "#### Observations:\n",
    "- With our dataset loaded, we can pick up where we left off with extracting known_for and `cause_of_death` values.\n",
    "- As all of the numbered `info_` columns have been searched and dropped, we are left with `info_parenth` (and its copy).  \n",
    "- By definition, we would expect `info_parenth` to contain non-essential values.  The column contains a lot of values, so we will begin by looking only for `known_for` information for the few entries that do not yet have a `known_for` category.\n",
    "- Then we can consider an approach to searching for any `cause_of_death` information in `info_parenth`."
   ]
  },
  {
   "cell_type": "markdown",
   "id": "5c542ec1",
   "metadata": {},
   "source": [
    "### Extracting Remaining `known_for` for Entries Still Lacking a `known_for` Category"
   ]
  },
  {
   "cell_type": "markdown",
   "id": "70ab2bf0",
   "metadata": {},
   "source": [
    "#### Checking Entries Lacking lacking `known_for` Category"
   ]
  },
  {
   "cell_type": "code",
   "execution_count": 6,
   "id": "9ea64ec6",
   "metadata": {},
   "outputs": [
    {
     "data": {
      "text/html": [
       "<div>\n",
       "<style scoped>\n",
       "    .dataframe tbody tr th:only-of-type {\n",
       "        vertical-align: middle;\n",
       "    }\n",
       "\n",
       "    .dataframe tbody tr th {\n",
       "        vertical-align: top;\n",
       "    }\n",
       "\n",
       "    .dataframe thead th {\n",
       "        text-align: right;\n",
       "    }\n",
       "</style>\n",
       "<table border=\"1\" class=\"dataframe\">\n",
       "  <thead>\n",
       "    <tr style=\"text-align: right;\">\n",
       "      <th></th>\n",
       "      <th>day</th>\n",
       "      <th>name</th>\n",
       "      <th>info</th>\n",
       "      <th>link</th>\n",
       "      <th>num_references</th>\n",
       "      <th>year</th>\n",
       "      <th>month</th>\n",
       "      <th>info_parenth</th>\n",
       "      <th>age</th>\n",
       "      <th>cause_of_death</th>\n",
       "      <th>place_1</th>\n",
       "      <th>place_2</th>\n",
       "      <th>info_parenth_copy</th>\n",
       "      <th>log_num_references</th>\n",
       "      <th>sciences</th>\n",
       "      <th>social</th>\n",
       "      <th>spiritual</th>\n",
       "      <th>academia_humanities</th>\n",
       "      <th>business_farming</th>\n",
       "      <th>arts</th>\n",
       "      <th>sports</th>\n",
       "      <th>law_enf_military_operator</th>\n",
       "      <th>politics_govt_law</th>\n",
       "      <th>crime</th>\n",
       "      <th>event_record_other</th>\n",
       "      <th>other_species</th>\n",
       "      <th>num_categories</th>\n",
       "    </tr>\n",
       "  </thead>\n",
       "  <tbody>\n",
       "    <tr>\n",
       "      <th>278</th>\n",
       "      <td>4</td>\n",
       "      <td>Aníbal</td>\n",
       "      <td>, 53, Mexican  , brain cancer.</td>\n",
       "      <td>https://en.wikipedia.org/wiki/An%C3%ADbal_(wrestler)</td>\n",
       "      <td>20</td>\n",
       "      <td>1994</td>\n",
       "      <td>March</td>\n",
       "      <td>professional wrestler</td>\n",
       "      <td>53.0</td>\n",
       "      <td>brain cancer</td>\n",
       "      <td>Mexico</td>\n",
       "      <td>None</td>\n",
       "      <td>professional wrestler</td>\n",
       "      <td>3.044522</td>\n",
       "      <td>0</td>\n",
       "      <td>0</td>\n",
       "      <td>0</td>\n",
       "      <td>0</td>\n",
       "      <td>0</td>\n",
       "      <td>0</td>\n",
       "      <td>0</td>\n",
       "      <td>0</td>\n",
       "      <td>0</td>\n",
       "      <td>0</td>\n",
       "      <td>0</td>\n",
       "      <td>0</td>\n",
       "      <td>0</td>\n",
       "    </tr>\n",
       "    <tr>\n",
       "      <th>11490</th>\n",
       "      <td>10</td>\n",
       "      <td>Chandra Khonnokyoong</td>\n",
       "      <td>, 91, Thai .</td>\n",
       "      <td>https://en.wikipedia.org/wiki/Chandra_Khonnokyoong</td>\n",
       "      <td>25</td>\n",
       "      <td>2000</td>\n",
       "      <td>September</td>\n",
       "      <td>None</td>\n",
       "      <td>91.0</td>\n",
       "      <td>None</td>\n",
       "      <td>Thailand</td>\n",
       "      <td>None</td>\n",
       "      <td>None</td>\n",
       "      <td>3.258097</td>\n",
       "      <td>0</td>\n",
       "      <td>0</td>\n",
       "      <td>0</td>\n",
       "      <td>0</td>\n",
       "      <td>0</td>\n",
       "      <td>0</td>\n",
       "      <td>0</td>\n",
       "      <td>0</td>\n",
       "      <td>0</td>\n",
       "      <td>0</td>\n",
       "      <td>0</td>\n",
       "      <td>0</td>\n",
       "      <td>0</td>\n",
       "    </tr>\n",
       "    <tr>\n",
       "      <th>12052</th>\n",
       "      <td>3</td>\n",
       "      <td>Kung Fu</td>\n",
       "      <td>, 49, Mexican , arterial hyper tension.</td>\n",
       "      <td>https://en.wikipedia.org/wiki/Kung_Fu_(wrestler)</td>\n",
       "      <td>11</td>\n",
       "      <td>2001</td>\n",
       "      <td>January</td>\n",
       "      <td>None</td>\n",
       "      <td>49.0</td>\n",
       "      <td>arterial hyper tension</td>\n",
       "      <td>Mexico</td>\n",
       "      <td>None</td>\n",
       "      <td>None</td>\n",
       "      <td>2.484907</td>\n",
       "      <td>0</td>\n",
       "      <td>0</td>\n",
       "      <td>0</td>\n",
       "      <td>0</td>\n",
       "      <td>0</td>\n",
       "      <td>0</td>\n",
       "      <td>0</td>\n",
       "      <td>0</td>\n",
       "      <td>0</td>\n",
       "      <td>0</td>\n",
       "      <td>0</td>\n",
       "      <td>0</td>\n",
       "      <td>0</td>\n",
       "    </tr>\n",
       "    <tr>\n",
       "      <th>16376</th>\n",
       "      <td>10</td>\n",
       "      <td>Little Eva</td>\n",
       "      <td>, .</td>\n",
       "      <td>https://en.wikipedia.org/wiki/Little_Eva</td>\n",
       "      <td>14</td>\n",
       "      <td>2003</td>\n",
       "      <td>April</td>\n",
       "      <td>née Eva Narcissus Boyd, ,  pop singer</td>\n",
       "      <td>59.0</td>\n",
       "      <td>None</td>\n",
       "      <td>United States of America</td>\n",
       "      <td>None</td>\n",
       "      <td>née Eva Narcissus Boyd, , pop singer</td>\n",
       "      <td>2.708050</td>\n",
       "      <td>0</td>\n",
       "      <td>0</td>\n",
       "      <td>0</td>\n",
       "      <td>0</td>\n",
       "      <td>0</td>\n",
       "      <td>0</td>\n",
       "      <td>0</td>\n",
       "      <td>0</td>\n",
       "      <td>0</td>\n",
       "      <td>0</td>\n",
       "      <td>0</td>\n",
       "      <td>0</td>\n",
       "      <td>0</td>\n",
       "    </tr>\n",
       "    <tr>\n",
       "      <th>36930</th>\n",
       "      <td>12</td>\n",
       "      <td>Natalee Holloway</td>\n",
       "      <td>, 18</td>\n",
       "      <td>https://en.wikipedia.org/wiki/Natalee_Holloway</td>\n",
       "      <td>198</td>\n",
       "      <td>2012</td>\n",
       "      <td>January</td>\n",
       "      <td>in 2005,  student, missing since 2005 declared legally dead on this date</td>\n",
       "      <td>18.0</td>\n",
       "      <td>None</td>\n",
       "      <td>United States of America</td>\n",
       "      <td>None</td>\n",
       "      <td>in , student, missing since declared legally dead on this date</td>\n",
       "      <td>5.293305</td>\n",
       "      <td>0</td>\n",
       "      <td>0</td>\n",
       "      <td>0</td>\n",
       "      <td>0</td>\n",
       "      <td>0</td>\n",
       "      <td>0</td>\n",
       "      <td>0</td>\n",
       "      <td>0</td>\n",
       "      <td>0</td>\n",
       "      <td>0</td>\n",
       "      <td>0</td>\n",
       "      <td>0</td>\n",
       "      <td>0</td>\n",
       "    </tr>\n",
       "    <tr>\n",
       "      <th>79603</th>\n",
       "      <td>27</td>\n",
       "      <td>Sudhakar Chaturvedi</td>\n",
       "      <td>, 122 .</td>\n",
       "      <td>https://en.wikipedia.org/wiki/Sudhakar_Chaturvedi</td>\n",
       "      <td>37</td>\n",
       "      <td>2020</td>\n",
       "      <td>February</td>\n",
       "      <td>claimed,  Vedic scholar and courier Mahatma Gandhi</td>\n",
       "      <td>122.0</td>\n",
       "      <td>None</td>\n",
       "      <td>India</td>\n",
       "      <td>None</td>\n",
       "      <td>claimed, Vedic scholar and courier Mahatma Gandhi</td>\n",
       "      <td>3.637586</td>\n",
       "      <td>0</td>\n",
       "      <td>0</td>\n",
       "      <td>0</td>\n",
       "      <td>0</td>\n",
       "      <td>0</td>\n",
       "      <td>0</td>\n",
       "      <td>0</td>\n",
       "      <td>0</td>\n",
       "      <td>0</td>\n",
       "      <td>0</td>\n",
       "      <td>0</td>\n",
       "      <td>0</td>\n",
       "      <td>0</td>\n",
       "    </tr>\n",
       "  </tbody>\n",
       "</table>\n",
       "</div>"
      ],
      "text/plain": [
       "      day                  name                                     info  \\\n",
       "278     4                Aníbal           , 53, Mexican  , brain cancer.   \n",
       "11490  10  Chandra Khonnokyoong                             , 91, Thai .   \n",
       "12052   3               Kung Fu  , 49, Mexican , arterial hyper tension.   \n",
       "16376  10            Little Eva                                      , .   \n",
       "36930  12      Natalee Holloway                                     , 18   \n",
       "79603  27   Sudhakar Chaturvedi                                  , 122 .   \n",
       "\n",
       "                                                       link  num_references  \\\n",
       "278    https://en.wikipedia.org/wiki/An%C3%ADbal_(wrestler)              20   \n",
       "11490    https://en.wikipedia.org/wiki/Chandra_Khonnokyoong              25   \n",
       "12052      https://en.wikipedia.org/wiki/Kung_Fu_(wrestler)              11   \n",
       "16376              https://en.wikipedia.org/wiki/Little_Eva              14   \n",
       "36930        https://en.wikipedia.org/wiki/Natalee_Holloway             198   \n",
       "79603     https://en.wikipedia.org/wiki/Sudhakar_Chaturvedi              37   \n",
       "\n",
       "       year      month  \\\n",
       "278    1994      March   \n",
       "11490  2000  September   \n",
       "12052  2001    January   \n",
       "16376  2003      April   \n",
       "36930  2012    January   \n",
       "79603  2020   February   \n",
       "\n",
       "                                                                   info_parenth  \\\n",
       "278                                                       professional wrestler   \n",
       "11490                                                                      None   \n",
       "12052                                                                      None   \n",
       "16376                                     née Eva Narcissus Boyd, ,  pop singer   \n",
       "36930  in 2005,  student, missing since 2005 declared legally dead on this date   \n",
       "79603                        claimed,  Vedic scholar and courier Mahatma Gandhi   \n",
       "\n",
       "         age          cause_of_death                   place_1 place_2  \\\n",
       "278     53.0            brain cancer                    Mexico    None   \n",
       "11490   91.0                    None                  Thailand    None   \n",
       "12052   49.0  arterial hyper tension                    Mexico    None   \n",
       "16376   59.0                    None  United States of America    None   \n",
       "36930   18.0                    None  United States of America    None   \n",
       "79603  122.0                    None                     India    None   \n",
       "\n",
       "                                                    info_parenth_copy  \\\n",
       "278                                             professional wrestler   \n",
       "11490                                                            None   \n",
       "12052                                                            None   \n",
       "16376                            née Eva Narcissus Boyd, , pop singer   \n",
       "36930  in , student, missing since declared legally dead on this date   \n",
       "79603               claimed, Vedic scholar and courier Mahatma Gandhi   \n",
       "\n",
       "       log_num_references  sciences  social  spiritual  academia_humanities  \\\n",
       "278              3.044522         0       0          0                    0   \n",
       "11490            3.258097         0       0          0                    0   \n",
       "12052            2.484907         0       0          0                    0   \n",
       "16376            2.708050         0       0          0                    0   \n",
       "36930            5.293305         0       0          0                    0   \n",
       "79603            3.637586         0       0          0                    0   \n",
       "\n",
       "       business_farming  arts  sports  law_enf_military_operator  \\\n",
       "278                   0     0       0                          0   \n",
       "11490                 0     0       0                          0   \n",
       "12052                 0     0       0                          0   \n",
       "16376                 0     0       0                          0   \n",
       "36930                 0     0       0                          0   \n",
       "79603                 0     0       0                          0   \n",
       "\n",
       "       politics_govt_law  crime  event_record_other  other_species  \\\n",
       "278                    0      0                   0              0   \n",
       "11490                  0      0                   0              0   \n",
       "12052                  0      0                   0              0   \n",
       "16376                  0      0                   0              0   \n",
       "36930                  0      0                   0              0   \n",
       "79603                  0      0                   0              0   \n",
       "\n",
       "       num_categories  \n",
       "278                 0  \n",
       "11490               0  \n",
       "12052               0  \n",
       "16376               0  \n",
       "36930               0  \n",
       "79603               0  "
      ]
     },
     "execution_count": 6,
     "metadata": {},
     "output_type": "execute_result"
    },
    {
     "data": {
      "application/javascript": [
       "\n",
       "            setTimeout(function() {\n",
       "                var nbb_cell_id = 6;\n",
       "                var nbb_unformatted_code = \"# Checking entries with num_categories == 0\\ndf[df[\\\"num_categories\\\"] == 0]\";\n",
       "                var nbb_formatted_code = \"# Checking entries with num_categories == 0\\ndf[df[\\\"num_categories\\\"] == 0]\";\n",
       "                var nbb_cells = Jupyter.notebook.get_cells();\n",
       "                for (var i = 0; i < nbb_cells.length; ++i) {\n",
       "                    if (nbb_cells[i].input_prompt_number == nbb_cell_id) {\n",
       "                        if (nbb_cells[i].get_text() == nbb_unformatted_code) {\n",
       "                             nbb_cells[i].set_text(nbb_formatted_code);\n",
       "                        }\n",
       "                        break;\n",
       "                    }\n",
       "                }\n",
       "            }, 500);\n",
       "            "
      ],
      "text/plain": [
       "<IPython.core.display.Javascript object>"
      ]
     },
     "metadata": {},
     "output_type": "display_data"
    }
   ],
   "source": [
    "# Checking entries with num_categories == 0\n",
    "df[df[\"num_categories\"] == 0]"
   ]
  },
  {
   "cell_type": "markdown",
   "id": "5209943c",
   "metadata": {},
   "source": [
    "#### Observations:\n",
    "- We can see some additional information in `info_parenth` for some of the values.\n",
    "- Since we previously separated the information contained in parentheses from the original `info` column, we will maintain `info_parenth_copy` intact, and utilize `info_parenth` for any value extraction.\n",
    "- We will hard-code the missing `known_for` info for the entries lacking that information, since there are only 2, and we have the link readily available to find it or it is apparent in the link value.  "
   ]
  },
  {
   "cell_type": "markdown",
   "id": "d68c7fb4",
   "metadata": {},
   "source": [
    "#### Finding `known_for` Roles in `info_parenth_copy` for Entries Lacking any Category"
   ]
  },
  {
   "cell_type": "code",
   "execution_count": 7,
   "id": "e392e86b",
   "metadata": {},
   "outputs": [
    {
     "data": {
      "application/javascript": [
       "\n",
       "            setTimeout(function() {\n",
       "                var nbb_cell_id = 7;\n",
       "                var nbb_unformatted_code = \"# Obtaining values for column and their counts\\nroles_list = (\\n    df[df[\\\"num_categories\\\"] == 0][\\\"info_parenth_copy\\\"]\\n    .value_counts(ascending=True)\\n    .index.tolist()\\n)\";\n",
       "                var nbb_formatted_code = \"# Obtaining values for column and their counts\\nroles_list = (\\n    df[df[\\\"num_categories\\\"] == 0][\\\"info_parenth_copy\\\"]\\n    .value_counts(ascending=True)\\n    .index.tolist()\\n)\";\n",
       "                var nbb_cells = Jupyter.notebook.get_cells();\n",
       "                for (var i = 0; i < nbb_cells.length; ++i) {\n",
       "                    if (nbb_cells[i].input_prompt_number == nbb_cell_id) {\n",
       "                        if (nbb_cells[i].get_text() == nbb_unformatted_code) {\n",
       "                             nbb_cells[i].set_text(nbb_formatted_code);\n",
       "                        }\n",
       "                        break;\n",
       "                    }\n",
       "                }\n",
       "            }, 500);\n",
       "            "
      ],
      "text/plain": [
       "<IPython.core.display.Javascript object>"
      ]
     },
     "metadata": {},
     "output_type": "display_data"
    }
   ],
   "source": [
    "# Obtaining values for column and their counts\n",
    "roles_list = (\n",
    "    df[df[\"num_categories\"] == 0][\"info_parenth_copy\"]\n",
    "    .value_counts(ascending=True)\n",
    "    .index.tolist()\n",
    ")"
   ]
  },
  {
   "cell_type": "code",
   "execution_count": 8,
   "id": "19b2f85c",
   "metadata": {},
   "outputs": [
    {
     "data": {
      "text/plain": [
       "'claimed, Vedic scholar and courier Mahatma Gandhi'"
      ]
     },
     "execution_count": 8,
     "metadata": {},
     "output_type": "execute_result"
    },
    {
     "data": {
      "application/javascript": [
       "\n",
       "            setTimeout(function() {\n",
       "                var nbb_cell_id = 8;\n",
       "                var nbb_unformatted_code = \"# Code to check each value\\nvalue = roles_list.pop()\\nvalue\";\n",
       "                var nbb_formatted_code = \"# Code to check each value\\nvalue = roles_list.pop()\\nvalue\";\n",
       "                var nbb_cells = Jupyter.notebook.get_cells();\n",
       "                for (var i = 0; i < nbb_cells.length; ++i) {\n",
       "                    if (nbb_cells[i].input_prompt_number == nbb_cell_id) {\n",
       "                        if (nbb_cells[i].get_text() == nbb_unformatted_code) {\n",
       "                             nbb_cells[i].set_text(nbb_formatted_code);\n",
       "                        }\n",
       "                        break;\n",
       "                    }\n",
       "                }\n",
       "            }, 500);\n",
       "            "
      ],
      "text/plain": [
       "<IPython.core.display.Javascript object>"
      ]
     },
     "metadata": {},
     "output_type": "display_data"
    }
   ],
   "source": [
    "# Code to check each value\n",
    "value = roles_list.pop()\n",
    "value"
   ]
  },
  {
   "cell_type": "code",
   "execution_count": 9,
   "id": "0c884b32",
   "metadata": {},
   "outputs": [
    {
     "data": {
      "application/javascript": [
       "\n",
       "            setTimeout(function() {\n",
       "                var nbb_cell_id = 9;\n",
       "                var nbb_unformatted_code = \"# # Create specific_roles_cause_list for above popped value\\n# specific_roles_list = (\\n#     df.loc[\\n#         [\\n#             index\\n#             for index in df[df[\\\"info_parenth_copy\\\"].notna()].index\\n#             if value in df.loc[index, \\\"info_parenth_copy\\\"]\\n#         ],\\n#         \\\"info_parenth_copy\\\",\\n#     ]\\n#     .value_counts()\\n#     .index.tolist()\\n# )\";\n",
       "                var nbb_formatted_code = \"# # Create specific_roles_cause_list for above popped value\\n# specific_roles_list = (\\n#     df.loc[\\n#         [\\n#             index\\n#             for index in df[df[\\\"info_parenth_copy\\\"].notna()].index\\n#             if value in df.loc[index, \\\"info_parenth_copy\\\"]\\n#         ],\\n#         \\\"info_parenth_copy\\\",\\n#     ]\\n#     .value_counts()\\n#     .index.tolist()\\n# )\";\n",
       "                var nbb_cells = Jupyter.notebook.get_cells();\n",
       "                for (var i = 0; i < nbb_cells.length; ++i) {\n",
       "                    if (nbb_cells[i].input_prompt_number == nbb_cell_id) {\n",
       "                        if (nbb_cells[i].get_text() == nbb_unformatted_code) {\n",
       "                             nbb_cells[i].set_text(nbb_formatted_code);\n",
       "                        }\n",
       "                        break;\n",
       "                    }\n",
       "                }\n",
       "            }, 500);\n",
       "            "
      ],
      "text/plain": [
       "<IPython.core.display.Javascript object>"
      ]
     },
     "metadata": {},
     "output_type": "display_data"
    }
   ],
   "source": [
    "# # Create specific_roles_cause_list for above popped value\n",
    "# specific_roles_list = (\n",
    "#     df.loc[\n",
    "#         [\n",
    "#             index\n",
    "#             for index in df[df[\"info_parenth_copy\"].notna()].index\n",
    "#             if value in df.loc[index, \"info_parenth_copy\"]\n",
    "#         ],\n",
    "#         \"info_parenth_copy\",\n",
    "#     ]\n",
    "#     .value_counts()\n",
    "#     .index.tolist()\n",
    "# )"
   ]
  },
  {
   "cell_type": "code",
   "execution_count": 10,
   "id": "7550a487",
   "metadata": {},
   "outputs": [
    {
     "data": {
      "application/javascript": [
       "\n",
       "            setTimeout(function() {\n",
       "                var nbb_cell_id = 10;\n",
       "                var nbb_unformatted_code = \"# # Viewing list sorted by descending length to copy to dictionary below and screen values\\n# sorted(specific_roles_list, key=lambda x: len(x), reverse=True)\";\n",
       "                var nbb_formatted_code = \"# # Viewing list sorted by descending length to copy to dictionary below and screen values\\n# sorted(specific_roles_list, key=lambda x: len(x), reverse=True)\";\n",
       "                var nbb_cells = Jupyter.notebook.get_cells();\n",
       "                for (var i = 0; i < nbb_cells.length; ++i) {\n",
       "                    if (nbb_cells[i].input_prompt_number == nbb_cell_id) {\n",
       "                        if (nbb_cells[i].get_text() == nbb_unformatted_code) {\n",
       "                             nbb_cells[i].set_text(nbb_formatted_code);\n",
       "                        }\n",
       "                        break;\n",
       "                    }\n",
       "                }\n",
       "            }, 500);\n",
       "            "
      ],
      "text/plain": [
       "<IPython.core.display.Javascript object>"
      ]
     },
     "metadata": {},
     "output_type": "display_data"
    }
   ],
   "source": [
    "# # Viewing list sorted by descending length to copy to dictionary below and screen values\n",
    "# sorted(specific_roles_list, key=lambda x: len(x), reverse=True)"
   ]
  },
  {
   "cell_type": "code",
   "execution_count": 11,
   "id": "d2da3d72",
   "metadata": {},
   "outputs": [
    {
     "data": {
      "application/javascript": [
       "\n",
       "            setTimeout(function() {\n",
       "                var nbb_cell_id = 11;\n",
       "                var nbb_unformatted_code = \"# # Example code to quick-check a specific entry\\n# df[df[\\\"info_parenth_copy\\\"] == value]\";\n",
       "                var nbb_formatted_code = \"# # Example code to quick-check a specific entry\\n# df[df[\\\"info_parenth_copy\\\"] == value]\";\n",
       "                var nbb_cells = Jupyter.notebook.get_cells();\n",
       "                for (var i = 0; i < nbb_cells.length; ++i) {\n",
       "                    if (nbb_cells[i].input_prompt_number == nbb_cell_id) {\n",
       "                        if (nbb_cells[i].get_text() == nbb_unformatted_code) {\n",
       "                             nbb_cells[i].set_text(nbb_formatted_code);\n",
       "                        }\n",
       "                        break;\n",
       "                    }\n",
       "                }\n",
       "            }, 500);\n",
       "            "
      ],
      "text/plain": [
       "<IPython.core.display.Javascript object>"
      ]
     },
     "metadata": {},
     "output_type": "display_data"
    }
   ],
   "source": [
    "# # Example code to quick-check a specific entry\n",
    "# df[df[\"info_parenth_copy\"] == value]"
   ]
  },
  {
   "cell_type": "markdown",
   "id": "97842e56",
   "metadata": {},
   "source": [
    "#### Creating Lists for Each `known_for` Category"
   ]
  },
  {
   "cell_type": "code",
   "execution_count": 12,
   "id": "16d92bb3",
   "metadata": {},
   "outputs": [
    {
     "data": {
      "application/javascript": [
       "\n",
       "            setTimeout(function() {\n",
       "                var nbb_cell_id = 12;\n",
       "                var nbb_unformatted_code = \"# Creating lists for each category and sorting by decreasing length and removing duplicates\\n\\npolitics_govt_law = [\\\"and courier Mahatma Gandhi\\\"]\\npolitics_govt_law = sorted(\\n    list(set(politics_govt_law)), key=lambda x: len(x), reverse=True\\n)\\n\\narts = [\\\"n\\u00e9e Eva Narcissus Boyd, , pop singer\\\"]\\narts = sorted(list(set(arts)), key=lambda x: len(x), reverse=True)\\n\\nsports = [\\\"professional wrestler\\\", \\\"wrestler\\\"]\\nsports = sorted(list(set(sports)), key=lambda x: len(x), reverse=True)\\n\\nsciences = []\\nsciences = sorted(list(set(sciences)), key=lambda x: len(x), reverse=True)\\n\\nbusiness_farming = []\\nbusiness_farming = sorted(\\n    list(set(business_farming)), key=lambda x: len(x), reverse=True\\n)\\n\\nacademia_humanities = [\\\"scholar\\\"]\\nacademia_humanities = sorted(\\n    list(set(academia_humanities)), key=lambda x: len(x), reverse=True\\n)\\n\\nlaw_enf_military_operator = []\\nlaw_enf_military_operator = sorted(\\n    list(set(law_enf_military_operator)), key=lambda x: len(x), reverse=True\\n)\\n\\nspiritual = [\\\"claimed,  Vedic\\\", \\\"spiritual teacher\\\"]\\nspiritual = sorted(list(set(spiritual)), key=lambda x: len(x), reverse=True)\\n\\nsocial = []\\nsocial = sorted(list(set(social)), key=lambda x: len(x), reverse=True)\\n\\ncrime = []\\ncrime = sorted(list(set(crime)), key=lambda x: len(x), reverse=True)\\n\\nevent_record_other = [\\\"in , student, missing since declared legally dead on this date\\\"]\\nevent_record_other = sorted(\\n    list(set(event_record_other)), key=lambda x: len(x), reverse=True\\n)\\n\\nother_species = []\\nother_species = sorted(list(set(other_species)), key=lambda x: len(x), reverse=True)\\n\\ncause_of_death = []\\ncause_of_death = sorted(list(set(cause_of_death)), key=lambda x: len(x), reverse=True)\";\n",
       "                var nbb_formatted_code = \"# Creating lists for each category and sorting by decreasing length and removing duplicates\\n\\npolitics_govt_law = [\\\"and courier Mahatma Gandhi\\\"]\\npolitics_govt_law = sorted(\\n    list(set(politics_govt_law)), key=lambda x: len(x), reverse=True\\n)\\n\\narts = [\\\"n\\u00e9e Eva Narcissus Boyd, , pop singer\\\"]\\narts = sorted(list(set(arts)), key=lambda x: len(x), reverse=True)\\n\\nsports = [\\\"professional wrestler\\\", \\\"wrestler\\\"]\\nsports = sorted(list(set(sports)), key=lambda x: len(x), reverse=True)\\n\\nsciences = []\\nsciences = sorted(list(set(sciences)), key=lambda x: len(x), reverse=True)\\n\\nbusiness_farming = []\\nbusiness_farming = sorted(\\n    list(set(business_farming)), key=lambda x: len(x), reverse=True\\n)\\n\\nacademia_humanities = [\\\"scholar\\\"]\\nacademia_humanities = sorted(\\n    list(set(academia_humanities)), key=lambda x: len(x), reverse=True\\n)\\n\\nlaw_enf_military_operator = []\\nlaw_enf_military_operator = sorted(\\n    list(set(law_enf_military_operator)), key=lambda x: len(x), reverse=True\\n)\\n\\nspiritual = [\\\"claimed,  Vedic\\\", \\\"spiritual teacher\\\"]\\nspiritual = sorted(list(set(spiritual)), key=lambda x: len(x), reverse=True)\\n\\nsocial = []\\nsocial = sorted(list(set(social)), key=lambda x: len(x), reverse=True)\\n\\ncrime = []\\ncrime = sorted(list(set(crime)), key=lambda x: len(x), reverse=True)\\n\\nevent_record_other = [\\\"in , student, missing since declared legally dead on this date\\\"]\\nevent_record_other = sorted(\\n    list(set(event_record_other)), key=lambda x: len(x), reverse=True\\n)\\n\\nother_species = []\\nother_species = sorted(list(set(other_species)), key=lambda x: len(x), reverse=True)\\n\\ncause_of_death = []\\ncause_of_death = sorted(list(set(cause_of_death)), key=lambda x: len(x), reverse=True)\";\n",
       "                var nbb_cells = Jupyter.notebook.get_cells();\n",
       "                for (var i = 0; i < nbb_cells.length; ++i) {\n",
       "                    if (nbb_cells[i].input_prompt_number == nbb_cell_id) {\n",
       "                        if (nbb_cells[i].get_text() == nbb_unformatted_code) {\n",
       "                             nbb_cells[i].set_text(nbb_formatted_code);\n",
       "                        }\n",
       "                        break;\n",
       "                    }\n",
       "                }\n",
       "            }, 500);\n",
       "            "
      ],
      "text/plain": [
       "<IPython.core.display.Javascript object>"
      ]
     },
     "metadata": {},
     "output_type": "display_data"
    }
   ],
   "source": [
    "# Creating lists for each category and sorting by decreasing length and removing duplicates\n",
    "\n",
    "politics_govt_law = [\"and courier Mahatma Gandhi\"]\n",
    "politics_govt_law = sorted(\n",
    "    list(set(politics_govt_law)), key=lambda x: len(x), reverse=True\n",
    ")\n",
    "\n",
    "arts = [\"née Eva Narcissus Boyd, , pop singer\"]\n",
    "arts = sorted(list(set(arts)), key=lambda x: len(x), reverse=True)\n",
    "\n",
    "sports = [\"professional wrestler\", \"wrestler\"]\n",
    "sports = sorted(list(set(sports)), key=lambda x: len(x), reverse=True)\n",
    "\n",
    "sciences = []\n",
    "sciences = sorted(list(set(sciences)), key=lambda x: len(x), reverse=True)\n",
    "\n",
    "business_farming = []\n",
    "business_farming = sorted(\n",
    "    list(set(business_farming)), key=lambda x: len(x), reverse=True\n",
    ")\n",
    "\n",
    "academia_humanities = [\"scholar\"]\n",
    "academia_humanities = sorted(\n",
    "    list(set(academia_humanities)), key=lambda x: len(x), reverse=True\n",
    ")\n",
    "\n",
    "law_enf_military_operator = []\n",
    "law_enf_military_operator = sorted(\n",
    "    list(set(law_enf_military_operator)), key=lambda x: len(x), reverse=True\n",
    ")\n",
    "\n",
    "spiritual = [\"claimed,  Vedic\", \"spiritual teacher\"]\n",
    "spiritual = sorted(list(set(spiritual)), key=lambda x: len(x), reverse=True)\n",
    "\n",
    "social = []\n",
    "social = sorted(list(set(social)), key=lambda x: len(x), reverse=True)\n",
    "\n",
    "crime = []\n",
    "crime = sorted(list(set(crime)), key=lambda x: len(x), reverse=True)\n",
    "\n",
    "event_record_other = [\"in , student, missing since declared legally dead on this date\"]\n",
    "event_record_other = sorted(\n",
    "    list(set(event_record_other)), key=lambda x: len(x), reverse=True\n",
    ")\n",
    "\n",
    "other_species = []\n",
    "other_species = sorted(list(set(other_species)), key=lambda x: len(x), reverse=True)\n",
    "\n",
    "cause_of_death = []\n",
    "cause_of_death = sorted(list(set(cause_of_death)), key=lambda x: len(x), reverse=True)"
   ]
  },
  {
   "cell_type": "code",
   "execution_count": 13,
   "id": "ce9ee11e",
   "metadata": {},
   "outputs": [
    {
     "data": {
      "application/javascript": [
       "\n",
       "            setTimeout(function() {\n",
       "                var nbb_cell_id = 13;\n",
       "                var nbb_unformatted_code = \"# Hard-coding info_parenth_copy for entry lacking known_for values\\ndf.loc[\\n    df[df[\\\"link\\\"] == \\\"https://en.wikipedia.org/wiki/Chandra_Khonnokyoong\\\"].index,\\n    \\\"info_parenth_copy\\\",\\n] = \\\"spiritual teacher\\\"\\n\\n\\n# Hard-coding info_parenth_copy for entry lacking known_for values\\ndf.loc[\\n    df[df[\\\"link\\\"] == \\\"https://en.wikipedia.org/wiki/Kung_Fu_(wrestler)\\\"].index,\\n    \\\"info_parenth_copy\\\",\\n] = \\\"wrestler\\\"\";\n",
       "                var nbb_formatted_code = \"# Hard-coding info_parenth_copy for entry lacking known_for values\\ndf.loc[\\n    df[df[\\\"link\\\"] == \\\"https://en.wikipedia.org/wiki/Chandra_Khonnokyoong\\\"].index,\\n    \\\"info_parenth_copy\\\",\\n] = \\\"spiritual teacher\\\"\\n\\n\\n# Hard-coding info_parenth_copy for entry lacking known_for values\\ndf.loc[\\n    df[df[\\\"link\\\"] == \\\"https://en.wikipedia.org/wiki/Kung_Fu_(wrestler)\\\"].index,\\n    \\\"info_parenth_copy\\\",\\n] = \\\"wrestler\\\"\";\n",
       "                var nbb_cells = Jupyter.notebook.get_cells();\n",
       "                for (var i = 0; i < nbb_cells.length; ++i) {\n",
       "                    if (nbb_cells[i].input_prompt_number == nbb_cell_id) {\n",
       "                        if (nbb_cells[i].get_text() == nbb_unformatted_code) {\n",
       "                             nbb_cells[i].set_text(nbb_formatted_code);\n",
       "                        }\n",
       "                        break;\n",
       "                    }\n",
       "                }\n",
       "            }, 500);\n",
       "            "
      ],
      "text/plain": [
       "<IPython.core.display.Javascript object>"
      ]
     },
     "metadata": {},
     "output_type": "display_data"
    }
   ],
   "source": [
    "# Hard-coding info_parenth_copy for entry lacking known_for values\n",
    "df.loc[\n",
    "    df[df[\"link\"] == \"https://en.wikipedia.org/wiki/Chandra_Khonnokyoong\"].index,\n",
    "    \"info_parenth_copy\",\n",
    "] = \"spiritual teacher\"\n",
    "\n",
    "\n",
    "# Hard-coding info_parenth_copy for entry lacking known_for values\n",
    "df.loc[\n",
    "    df[df[\"link\"] == \"https://en.wikipedia.org/wiki/Kung_Fu_(wrestler)\"].index,\n",
    "    \"info_parenth_copy\",\n",
    "] = \"wrestler\""
   ]
  },
  {
   "cell_type": "markdown",
   "id": "19e0f93c",
   "metadata": {},
   "source": [
    "#### Creating `known_for_dict` Dictionary of Category Keys and Specific Role Lists of Values"
   ]
  },
  {
   "cell_type": "code",
   "execution_count": 14,
   "id": "62805084",
   "metadata": {},
   "outputs": [
    {
     "data": {
      "application/javascript": [
       "\n",
       "            setTimeout(function() {\n",
       "                var nbb_cell_id = 14;\n",
       "                var nbb_unformatted_code = \"# Combining separate lists into one dictionary\\nknown_for_dict = {\\n    \\\"social\\\": social,\\n    \\\"spiritual\\\": spiritual,\\n    \\\"academia_humanities\\\": academia_humanities,\\n    \\\"business_farming\\\": business_farming,\\n    \\\"sciences\\\": sciences,\\n    \\\"politics_govt_law\\\": politics_govt_law,\\n    \\\"law_enf_military_operator\\\": law_enf_military_operator,\\n    \\\"crime\\\": crime,\\n    \\\"event_record_other\\\": event_record_other,\\n    \\\"other_species\\\": other_species,\\n    \\\"arts\\\": arts,\\n    \\\"sports\\\": sports,\\n}\";\n",
       "                var nbb_formatted_code = \"# Combining separate lists into one dictionary\\nknown_for_dict = {\\n    \\\"social\\\": social,\\n    \\\"spiritual\\\": spiritual,\\n    \\\"academia_humanities\\\": academia_humanities,\\n    \\\"business_farming\\\": business_farming,\\n    \\\"sciences\\\": sciences,\\n    \\\"politics_govt_law\\\": politics_govt_law,\\n    \\\"law_enf_military_operator\\\": law_enf_military_operator,\\n    \\\"crime\\\": crime,\\n    \\\"event_record_other\\\": event_record_other,\\n    \\\"other_species\\\": other_species,\\n    \\\"arts\\\": arts,\\n    \\\"sports\\\": sports,\\n}\";\n",
       "                var nbb_cells = Jupyter.notebook.get_cells();\n",
       "                for (var i = 0; i < nbb_cells.length; ++i) {\n",
       "                    if (nbb_cells[i].input_prompt_number == nbb_cell_id) {\n",
       "                        if (nbb_cells[i].get_text() == nbb_unformatted_code) {\n",
       "                             nbb_cells[i].set_text(nbb_formatted_code);\n",
       "                        }\n",
       "                        break;\n",
       "                    }\n",
       "                }\n",
       "            }, 500);\n",
       "            "
      ],
      "text/plain": [
       "<IPython.core.display.Javascript object>"
      ]
     },
     "metadata": {},
     "output_type": "display_data"
    }
   ],
   "source": [
    "# Combining separate lists into one dictionary\n",
    "known_for_dict = {\n",
    "    \"social\": social,\n",
    "    \"spiritual\": spiritual,\n",
    "    \"academia_humanities\": academia_humanities,\n",
    "    \"business_farming\": business_farming,\n",
    "    \"sciences\": sciences,\n",
    "    \"politics_govt_law\": politics_govt_law,\n",
    "    \"law_enf_military_operator\": law_enf_military_operator,\n",
    "    \"crime\": crime,\n",
    "    \"event_record_other\": event_record_other,\n",
    "    \"other_species\": other_species,\n",
    "    \"arts\": arts,\n",
    "    \"sports\": sports,\n",
    "}"
   ]
  },
  {
   "cell_type": "markdown",
   "id": "2300bb48",
   "metadata": {},
   "source": [
    "#### Extracting `known_for` Categories Values from `info_parenth_copy` for Entries without a Category"
   ]
  },
  {
   "cell_type": "code",
   "execution_count": 15,
   "id": "b735dd04",
   "metadata": {},
   "outputs": [
    {
     "name": "stdout",
     "output_type": "stream",
     "text": [
      "CPU times: total: 15.6 ms\n",
      "Wall time: 13 ms\n"
     ]
    },
    {
     "data": {
      "application/javascript": [
       "\n",
       "            setTimeout(function() {\n",
       "                var nbb_cell_id = 15;\n",
       "                var nbb_unformatted_code = \"%%time\\n\\n# Column to check\\ncolumn = 'info_parenth_copy'\\n\\n# Start dataframe\\ndataframe = df[(df[column].notna()) & (df['num_categories']==0)]\\n                \\n# For loop to find role in column and extract it as category\\nfor category, category_lst in known_for_dict.items():\\n    for role in category_lst:\\n        for index in dataframe.index:\\n                item = df.loc[index, column]\\n                if item:\\n                    if role in item:\\n                        df.loc[index, category] = 1\\n                        df.loc[index, column] = item.replace(role, '').strip()\\n\\n# Calculating num_categories\\ndf[\\\"num_categories\\\"] = df[known_for_dict.keys()].sum(axis=1)\";\n",
       "                var nbb_formatted_code = \"%%time\\n\\n# Column to check\\ncolumn = 'info_parenth_copy'\\n\\n# Start dataframe\\ndataframe = df[(df[column].notna()) & (df['num_categories']==0)]\\n                \\n# For loop to find role in column and extract it as category\\nfor category, category_lst in known_for_dict.items():\\n    for role in category_lst:\\n        for index in dataframe.index:\\n                item = df.loc[index, column]\\n                if item:\\n                    if role in item:\\n                        df.loc[index, category] = 1\\n                        df.loc[index, column] = item.replace(role, '').strip()\\n\\n# Calculating num_categories\\ndf[\\\"num_categories\\\"] = df[known_for_dict.keys()].sum(axis=1)\";\n",
       "                var nbb_cells = Jupyter.notebook.get_cells();\n",
       "                for (var i = 0; i < nbb_cells.length; ++i) {\n",
       "                    if (nbb_cells[i].input_prompt_number == nbb_cell_id) {\n",
       "                        if (nbb_cells[i].get_text() == nbb_unformatted_code) {\n",
       "                             nbb_cells[i].set_text(nbb_formatted_code);\n",
       "                        }\n",
       "                        break;\n",
       "                    }\n",
       "                }\n",
       "            }, 500);\n",
       "            "
      ],
      "text/plain": [
       "<IPython.core.display.Javascript object>"
      ]
     },
     "metadata": {},
     "output_type": "display_data"
    }
   ],
   "source": [
    "%%time\n",
    "\n",
    "# Column to check\n",
    "column = 'info_parenth_copy'\n",
    "\n",
    "# Start dataframe\n",
    "dataframe = df[(df[column].notna()) & (df['num_categories']==0)]\n",
    "                \n",
    "# For loop to find role in column and extract it as category\n",
    "for category, category_lst in known_for_dict.items():\n",
    "    for role in category_lst:\n",
    "        for index in dataframe.index:\n",
    "                item = df.loc[index, column]\n",
    "                if item:\n",
    "                    if role in item:\n",
    "                        df.loc[index, category] = 1\n",
    "                        df.loc[index, column] = item.replace(role, '').strip()\n",
    "\n",
    "# Calculating num_categories\n",
    "df[\"num_categories\"] = df[known_for_dict.keys()].sum(axis=1)"
   ]
  },
  {
   "cell_type": "markdown",
   "id": "be0e125e",
   "metadata": {},
   "source": [
    "#### Checking Updated `num_categories` Value Counts"
   ]
  },
  {
   "cell_type": "code",
   "execution_count": 16,
   "id": "473d5fb6",
   "metadata": {},
   "outputs": [
    {
     "data": {
      "text/plain": [
       "1    84108\n",
       "2    12805\n",
       "3     1088\n",
       "4       36\n",
       "5        3\n",
       "Name: num_categories, dtype: int64"
      ]
     },
     "execution_count": 16,
     "metadata": {},
     "output_type": "execute_result"
    },
    {
     "data": {
      "application/javascript": [
       "\n",
       "            setTimeout(function() {\n",
       "                var nbb_cell_id = 16;\n",
       "                var nbb_unformatted_code = \"# Checking Updated num_categories Value Counts\\ndf[\\\"num_categories\\\"].value_counts()\";\n",
       "                var nbb_formatted_code = \"# Checking Updated num_categories Value Counts\\ndf[\\\"num_categories\\\"].value_counts()\";\n",
       "                var nbb_cells = Jupyter.notebook.get_cells();\n",
       "                for (var i = 0; i < nbb_cells.length; ++i) {\n",
       "                    if (nbb_cells[i].input_prompt_number == nbb_cell_id) {\n",
       "                        if (nbb_cells[i].get_text() == nbb_unformatted_code) {\n",
       "                             nbb_cells[i].set_text(nbb_formatted_code);\n",
       "                        }\n",
       "                        break;\n",
       "                    }\n",
       "                }\n",
       "            }, 500);\n",
       "            "
      ],
      "text/plain": [
       "<IPython.core.display.Javascript object>"
      ]
     },
     "metadata": {},
     "output_type": "display_data"
    }
   ],
   "source": [
    "# Checking Updated num_categories Value Counts\n",
    "df[\"num_categories\"].value_counts()"
   ]
  },
  {
   "cell_type": "markdown",
   "id": "e3f042c6",
   "metadata": {},
   "source": [
    "#### Observations:\n",
    "- All entries now have at least one `known_for` category.\n",
    "- Next, we will proceed to examine the values in `cause_of_death` to potentially guide finding that information in `info_parenth_copy` for entries that lack a value for it."
   ]
  },
  {
   "cell_type": "markdown",
   "id": "b880c159",
   "metadata": {},
   "source": [
    "### Searching for Remaining `cause_of_death` Values in `info_parenth_copy`"
   ]
  },
  {
   "cell_type": "code",
   "execution_count": 17,
   "id": "d570a792",
   "metadata": {},
   "outputs": [
    {
     "data": {
      "application/javascript": [
       "\n",
       "            setTimeout(function() {\n",
       "                var nbb_cell_id = 17;\n",
       "                var nbb_unformatted_code = \"# # Creating list of cause_of_death values\\n# cause_list = df[\\\"cause_of_death\\\"].value_counts(ascending=True).index.tolist()\";\n",
       "                var nbb_formatted_code = \"# # Creating list of cause_of_death values\\n# cause_list = df[\\\"cause_of_death\\\"].value_counts(ascending=True).index.tolist()\";\n",
       "                var nbb_cells = Jupyter.notebook.get_cells();\n",
       "                for (var i = 0; i < nbb_cells.length; ++i) {\n",
       "                    if (nbb_cells[i].input_prompt_number == nbb_cell_id) {\n",
       "                        if (nbb_cells[i].get_text() == nbb_unformatted_code) {\n",
       "                             nbb_cells[i].set_text(nbb_formatted_code);\n",
       "                        }\n",
       "                        break;\n",
       "                    }\n",
       "                }\n",
       "            }, 500);\n",
       "            "
      ],
      "text/plain": [
       "<IPython.core.display.Javascript object>"
      ]
     },
     "metadata": {},
     "output_type": "display_data"
    }
   ],
   "source": [
    "# # Creating list of cause_of_death values\n",
    "# cause_list = df[\"cause_of_death\"].value_counts(ascending=True).index.tolist()"
   ]
  },
  {
   "cell_type": "code",
   "execution_count": 18,
   "id": "08096ad2",
   "metadata": {},
   "outputs": [
    {
     "data": {
      "application/javascript": [
       "\n",
       "            setTimeout(function() {\n",
       "                var nbb_cell_id = 18;\n",
       "                var nbb_unformatted_code = \"# # Updating cause_list to contain only causes that are in info_parenth_copy values\\n# cause_list = [\\n#     item\\n#     for item in cause_list\\n#     if any(\\n#         item in value\\n#         for value in df[df[\\\"info_parenth_copy\\\"].notna()][\\\"info_parenth_copy\\\"]\\n#     )\\n# ]\";\n",
       "                var nbb_formatted_code = \"# # Updating cause_list to contain only causes that are in info_parenth_copy values\\n# cause_list = [\\n#     item\\n#     for item in cause_list\\n#     if any(\\n#         item in value\\n#         for value in df[df[\\\"info_parenth_copy\\\"].notna()][\\\"info_parenth_copy\\\"]\\n#     )\\n# ]\";\n",
       "                var nbb_cells = Jupyter.notebook.get_cells();\n",
       "                for (var i = 0; i < nbb_cells.length; ++i) {\n",
       "                    if (nbb_cells[i].input_prompt_number == nbb_cell_id) {\n",
       "                        if (nbb_cells[i].get_text() == nbb_unformatted_code) {\n",
       "                             nbb_cells[i].set_text(nbb_formatted_code);\n",
       "                        }\n",
       "                        break;\n",
       "                    }\n",
       "                }\n",
       "            }, 500);\n",
       "            "
      ],
      "text/plain": [
       "<IPython.core.display.Javascript object>"
      ]
     },
     "metadata": {},
     "output_type": "display_data"
    }
   ],
   "source": [
    "# # Updating cause_list to contain only causes that are in info_parenth_copy values\n",
    "# cause_list = [\n",
    "#     item\n",
    "#     for item in cause_list\n",
    "#     if any(\n",
    "#         item in value\n",
    "#         for value in df[df[\"info_parenth_copy\"].notna()][\"info_parenth_copy\"]\n",
    "#     )\n",
    "# ]"
   ]
  },
  {
   "cell_type": "code",
   "execution_count": 19,
   "id": "11cedcdc",
   "metadata": {},
   "outputs": [
    {
     "data": {
      "application/javascript": [
       "\n",
       "            setTimeout(function() {\n",
       "                var nbb_cell_id = 19;\n",
       "                var nbb_unformatted_code = \"# # Checking the cause_of_death values starting with most frequent\\n# value = cause_list.pop()\\n# value\";\n",
       "                var nbb_formatted_code = \"# # Checking the cause_of_death values starting with most frequent\\n# value = cause_list.pop()\\n# value\";\n",
       "                var nbb_cells = Jupyter.notebook.get_cells();\n",
       "                for (var i = 0; i < nbb_cells.length; ++i) {\n",
       "                    if (nbb_cells[i].input_prompt_number == nbb_cell_id) {\n",
       "                        if (nbb_cells[i].get_text() == nbb_unformatted_code) {\n",
       "                             nbb_cells[i].set_text(nbb_formatted_code);\n",
       "                        }\n",
       "                        break;\n",
       "                    }\n",
       "                }\n",
       "            }, 500);\n",
       "            "
      ],
      "text/plain": [
       "<IPython.core.display.Javascript object>"
      ]
     },
     "metadata": {},
     "output_type": "display_data"
    }
   ],
   "source": [
    "# # Checking the cause_of_death values starting with most frequent\n",
    "# value = cause_list.pop()\n",
    "# value"
   ]
  },
  {
   "cell_type": "code",
   "execution_count": 20,
   "id": "61b8c185",
   "metadata": {},
   "outputs": [
    {
     "data": {
      "application/javascript": [
       "\n",
       "            setTimeout(function() {\n",
       "                var nbb_cell_id = 20;\n",
       "                var nbb_unformatted_code = \"# # Creating list of info_parenth_copy values that contain cause_of_death value\\n# df.loc[\\n#     [\\n#         index\\n#         for index in df[df[\\\"info_parenth_copy\\\"].notna()].index\\n#         if value in df.loc[index, \\\"info_parenth_copy\\\"]\\n#     ],\\n#     \\\"info_parenth_copy\\\",\\n# ].value_counts().index.tolist()\";\n",
       "                var nbb_formatted_code = \"# # Creating list of info_parenth_copy values that contain cause_of_death value\\n# df.loc[\\n#     [\\n#         index\\n#         for index in df[df[\\\"info_parenth_copy\\\"].notna()].index\\n#         if value in df.loc[index, \\\"info_parenth_copy\\\"]\\n#     ],\\n#     \\\"info_parenth_copy\\\",\\n# ].value_counts().index.tolist()\";\n",
       "                var nbb_cells = Jupyter.notebook.get_cells();\n",
       "                for (var i = 0; i < nbb_cells.length; ++i) {\n",
       "                    if (nbb_cells[i].input_prompt_number == nbb_cell_id) {\n",
       "                        if (nbb_cells[i].get_text() == nbb_unformatted_code) {\n",
       "                             nbb_cells[i].set_text(nbb_formatted_code);\n",
       "                        }\n",
       "                        break;\n",
       "                    }\n",
       "                }\n",
       "            }, 500);\n",
       "            "
      ],
      "text/plain": [
       "<IPython.core.display.Javascript object>"
      ]
     },
     "metadata": {},
     "output_type": "display_data"
    }
   ],
   "source": [
    "# # Creating list of info_parenth_copy values that contain cause_of_death value\n",
    "# df.loc[\n",
    "#     [\n",
    "#         index\n",
    "#         for index in df[df[\"info_parenth_copy\"].notna()].index\n",
    "#         if value in df.loc[index, \"info_parenth_copy\"]\n",
    "#     ],\n",
    "#     \"info_parenth_copy\",\n",
    "# ].value_counts().index.tolist()"
   ]
  },
  {
   "cell_type": "code",
   "execution_count": 21,
   "id": "a8a7ddc7",
   "metadata": {},
   "outputs": [
    {
     "data": {
      "application/javascript": [
       "\n",
       "            setTimeout(function() {\n",
       "                var nbb_cell_id = 21;\n",
       "                var nbb_unformatted_code = \"# # Checking specific entries\\n# df[\\n#     df[\\\"info_parenth_copy\\\"]\\n#     == \\\"1969 1974 and Foreign Affairs 1974 1982; 1982 1992, Vice Chancellor 1974 1982; 1982 1992\\\"\\n# ]\";\n",
       "                var nbb_formatted_code = \"# # Checking specific entries\\n# df[\\n#     df[\\\"info_parenth_copy\\\"]\\n#     == \\\"1969 1974 and Foreign Affairs 1974 1982; 1982 1992, Vice Chancellor 1974 1982; 1982 1992\\\"\\n# ]\";\n",
       "                var nbb_cells = Jupyter.notebook.get_cells();\n",
       "                for (var i = 0; i < nbb_cells.length; ++i) {\n",
       "                    if (nbb_cells[i].input_prompt_number == nbb_cell_id) {\n",
       "                        if (nbb_cells[i].get_text() == nbb_unformatted_code) {\n",
       "                             nbb_cells[i].set_text(nbb_formatted_code);\n",
       "                        }\n",
       "                        break;\n",
       "                    }\n",
       "                }\n",
       "            }, 500);\n",
       "            "
      ],
      "text/plain": [
       "<IPython.core.display.Javascript object>"
      ]
     },
     "metadata": {},
     "output_type": "display_data"
    }
   ],
   "source": [
    "# # Checking specific entries\n",
    "# df[\n",
    "#     df[\"info_parenth_copy\"]\n",
    "#     == \"1969 1974 and Foreign Affairs 1974 1982; 1982 1992, Vice Chancellor 1974 1982; 1982 1992\"\n",
    "# ]"
   ]
  },
  {
   "cell_type": "markdown",
   "id": "1ab4fcf5",
   "metadata": {},
   "source": [
    "#### Creating List for `cause_of_death`"
   ]
  },
  {
   "cell_type": "code",
   "execution_count": 22,
   "id": "cece2de7",
   "metadata": {},
   "outputs": [
    {
     "data": {
      "application/javascript": [
       "\n",
       "            setTimeout(function() {\n",
       "                var nbb_cell_id = 22;\n",
       "                var nbb_unformatted_code = \"# Creating list for cause_of_death\\ncause_of_death = [\\n    \\\"cancer\\\",\\n    \\\"pancreatic cancer\\\",\\n    \\\"adrenal cancer\\\",\\n    \\\"endometrial cancer\\\",\\n    \\\"nasopharynx cancer\\\",\\n    \\\"parotid cancer\\\",\\n    \\\"prostate cancer\\\",\\n    \\\"multiple myeloma, blood cancer\\\",\\n    \\\"bowel cancer\\\",\\n    \\\"oesophageal cancer\\\",\\n    \\\"liver cancer\\\",\\n    \\\"lung cancer\\\",\\n    \\\"cancer\\\",\\n    \\\"breast cancer\\\",\\n    \\\"testicular cancer\\\",\\n    \\\"ovarian cancer\\\",\\n    \\\"peritoneal cancer\\\",\\n    \\\"heart attack\\\",\\n    \\\"COVID\\\",\\n    \\\"congestive heart failure\\\",\\n    \\\"heart failure\\\",\\n    \\\"ischemic heart failure\\\",\\n    \\\"pneumonia\\\",\\n    \\\"AIDS, pneumonia\\\",\\n    \\\"pneumonia, infarctions\\\",\\n    \\\"bronchial pneumonia\\\",\\n    \\\"stroke\\\",\\n    \\\"heat stroke\\\",\\n    \\\"shot\\\",\\n    \\\"gunshot wounds\\\",\\n    \\\"traffic collision\\\",\\n    \\\"natural causes disease\\\",\\n    \\\"natural causes\\\",\\n    \\\"suicide\\\",\\n    \\\"suspected suicide\\\",\\n    \\\"suicide by drowning\\\",\\n    \\\"suicide by hydrogen sulfide\\\",\\n    \\\"suicide by hanging\\\",\\n    \\\"Alzheimer disease\\\",\\n    \\\"leukemia\\\",\\n    \\\"Parkinson disease\\\",\\n    \\\"Parkinson\\u2019s disease\\\",\\n    \\\"Creutzfeldt Jakob disease\\\",\\n    \\\"kidney disease\\\",\\n    \\\"Pick disease\\\",\\n    \\\"heart disease\\\",\\n    \\\"car accident\\\",\\n    \\\"injuries due to a fall\\\",\\n    \\\"fall\\\",\\n    \\\"subdural hematoma, fall\\\",\\n    \\\"multiple organ failure\\\",\\n    \\\"AIDS, lymphoma\\\",\\n    \\\"Hodgkin lymphoma\\\",\\n    \\\"gastric lymphoma\\\",\\n    \\\"plane crash\\\",\\n    \\\"amyotrophic lateral sclerosis\\\",\\n    \\\"euthanized\\\",\\n    \\\"uveal melanoma\\\",\\n    \\\"emphysema\\\",\\n    \\\"pulmonary emphysema\\\",\\n    \\\"emphysema, bronchitis\\\",\\n    \\\"Lewy body dementia\\\",\\n    \\\"renal failure\\\",\\n    \\\"intracerebral hemorrhage\\\",\\n    \\\"liver failure\\\",\\n    \\\"pulmonary embolism\\\",\\n    \\\"homicide\\\",\\n    \\\"pulmonary fibrosis\\\",\\n    \\\"idiopathic pulmonary fibrosis\\\",\\n    \\\"abdominal aortic aneurysm\\\",\\n    \\\"sepsis\\\",\\n    \\\"glioblastoma multiforme\\\",\\n    \\\"Jordanian bombings\\\",\\n    \\\"accidental shooting\\\",\\n    \\\"pulmonary edema\\\",\\n    \\\"septic infection\\\",\\n    \\\"myelodysplastic syndrome\\\",\\n    \\\"locked in syndrome\\\",\\n    \\\"multiple organ dysfunction syndrome\\\",\\n    \\\"superior vena cava syndrome\\\",\\n    \\\"Marfan syndrome\\\",\\n    \\\"Guillain Barr\\u00e9 syndrome\\\",\\n    \\\"multiple sclerosis\\\",\\n    \\\"AIDS\\\",\\n    \\\"multiple organ failure\\\",\\n    \\\"pulmonary emphysema\\\",\\n    \\\"emphysema\\\",\\n    \\\"emphysema, bronchitis\\\",\\n    \\\"aortic dissection\\\",\\n    \\\"progressive supranuclear palsy\\\",\\n    \\\"Hodgkin lymphoma\\\",\\n    \\\"COPD\\\",\\n    \\\"pancreatitis\\\",\\n    \\\"cerebral haemorrhage\\\",\\n    \\\"ALS\\\",\\n    \\\"AL amyloidosis\\\",\\n    \\\"car accident\\\",\\n    \\\"accidental shooting\\\",\\n    \\\"epilepsy\\\",\\n    \\\"dilated cardiomyopathy\\\",\\n    \\\"thrombosis\\\",\\n    \\\"rheumatoid arthritis\\\",\\n    \\\"beheading\\\",\\n    \\\"leiomyosarcoma\\\",\\n    \\\"Ewing sarcoma\\\",\\n    \\\"sarcoma\\\",\\n    \\\"leptomeningeal carcinomatosis\\\",\\n    \\\"nasopharyngeal carcinoma\\\",\\n    \\\"small cell carcinoma\\\",\\n    \\\"myelodysplasia\\\",\\n    \\\"pulmonary embolism\\\",\\n    \\\"embolism\\\",\\n    \\\"suffocated\\\",\\n    \\\"cerebral haemorrhage\\\",\\n    \\\"assassination\\\",\\n    \\\"gastrointestinal hemorrhage\\\",\\n    \\\"intracerebral hemorrhage\\\",\\n    \\\"anaphylaxis\\\",\\n    \\\"progressive supranuclear palsy\\\",\\n    \\\"shelling\\\",\\n    \\\"pulmonary edema\\\",\\n    \\\"Jordanian bombings\\\",\\n    \\\"posterior cortical atrophy\\\",\\n    \\\"emphysema, bronchitis\\\",\\n    \\\"West Nile virus\\\",\\n    \\\"corticobasal degeneration\\\",\\n    \\\"heat stroke\\\",\\n    \\\"glioblastoma multiforme\\\",\\n    \\\"acute endocarditis\\\",\\n    \\\"arrhythmogenic right ventricular dysplasia\\\",\\n    \\\"alcoholism\\\",\\n    \\\"plane crash\\\",\\n    \\\"normal pressure hydrocephalus\\\",\\n    \\\"primary progressive aphasia\\\",\\n    \\\"dilated cardiomyopathy\\\",\\n    \\\"subdural haematoma\\\",\\n    \\\"arrhythmia\\\",\\n    \\\"thrombus\\\",\\n    \\\"thrombosis\\\",\\n    \\\"essential thrombocytosis\\\",\\n    \\\"thrombotic thrombocytopenic purpura\\\",\\n    \\\"vasculitis\\\",\\n    \\\"self defenestration\\\",\\n    \\\"ventricular tachycardia\\\",\\n]\\n\\n# Clearing out duplicate values and sorting in descending length order to use for extracting values\\ncause_of_death = sorted(list(set(cause_of_death)), key=lambda x: len(x), reverse=True)\";\n",
       "                var nbb_formatted_code = \"# Creating list for cause_of_death\\ncause_of_death = [\\n    \\\"cancer\\\",\\n    \\\"pancreatic cancer\\\",\\n    \\\"adrenal cancer\\\",\\n    \\\"endometrial cancer\\\",\\n    \\\"nasopharynx cancer\\\",\\n    \\\"parotid cancer\\\",\\n    \\\"prostate cancer\\\",\\n    \\\"multiple myeloma, blood cancer\\\",\\n    \\\"bowel cancer\\\",\\n    \\\"oesophageal cancer\\\",\\n    \\\"liver cancer\\\",\\n    \\\"lung cancer\\\",\\n    \\\"cancer\\\",\\n    \\\"breast cancer\\\",\\n    \\\"testicular cancer\\\",\\n    \\\"ovarian cancer\\\",\\n    \\\"peritoneal cancer\\\",\\n    \\\"heart attack\\\",\\n    \\\"COVID\\\",\\n    \\\"congestive heart failure\\\",\\n    \\\"heart failure\\\",\\n    \\\"ischemic heart failure\\\",\\n    \\\"pneumonia\\\",\\n    \\\"AIDS, pneumonia\\\",\\n    \\\"pneumonia, infarctions\\\",\\n    \\\"bronchial pneumonia\\\",\\n    \\\"stroke\\\",\\n    \\\"heat stroke\\\",\\n    \\\"shot\\\",\\n    \\\"gunshot wounds\\\",\\n    \\\"traffic collision\\\",\\n    \\\"natural causes disease\\\",\\n    \\\"natural causes\\\",\\n    \\\"suicide\\\",\\n    \\\"suspected suicide\\\",\\n    \\\"suicide by drowning\\\",\\n    \\\"suicide by hydrogen sulfide\\\",\\n    \\\"suicide by hanging\\\",\\n    \\\"Alzheimer disease\\\",\\n    \\\"leukemia\\\",\\n    \\\"Parkinson disease\\\",\\n    \\\"Parkinson\\u2019s disease\\\",\\n    \\\"Creutzfeldt Jakob disease\\\",\\n    \\\"kidney disease\\\",\\n    \\\"Pick disease\\\",\\n    \\\"heart disease\\\",\\n    \\\"car accident\\\",\\n    \\\"injuries due to a fall\\\",\\n    \\\"fall\\\",\\n    \\\"subdural hematoma, fall\\\",\\n    \\\"multiple organ failure\\\",\\n    \\\"AIDS, lymphoma\\\",\\n    \\\"Hodgkin lymphoma\\\",\\n    \\\"gastric lymphoma\\\",\\n    \\\"plane crash\\\",\\n    \\\"amyotrophic lateral sclerosis\\\",\\n    \\\"euthanized\\\",\\n    \\\"uveal melanoma\\\",\\n    \\\"emphysema\\\",\\n    \\\"pulmonary emphysema\\\",\\n    \\\"emphysema, bronchitis\\\",\\n    \\\"Lewy body dementia\\\",\\n    \\\"renal failure\\\",\\n    \\\"intracerebral hemorrhage\\\",\\n    \\\"liver failure\\\",\\n    \\\"pulmonary embolism\\\",\\n    \\\"homicide\\\",\\n    \\\"pulmonary fibrosis\\\",\\n    \\\"idiopathic pulmonary fibrosis\\\",\\n    \\\"abdominal aortic aneurysm\\\",\\n    \\\"sepsis\\\",\\n    \\\"glioblastoma multiforme\\\",\\n    \\\"Jordanian bombings\\\",\\n    \\\"accidental shooting\\\",\\n    \\\"pulmonary edema\\\",\\n    \\\"septic infection\\\",\\n    \\\"myelodysplastic syndrome\\\",\\n    \\\"locked in syndrome\\\",\\n    \\\"multiple organ dysfunction syndrome\\\",\\n    \\\"superior vena cava syndrome\\\",\\n    \\\"Marfan syndrome\\\",\\n    \\\"Guillain Barr\\u00e9 syndrome\\\",\\n    \\\"multiple sclerosis\\\",\\n    \\\"AIDS\\\",\\n    \\\"multiple organ failure\\\",\\n    \\\"pulmonary emphysema\\\",\\n    \\\"emphysema\\\",\\n    \\\"emphysema, bronchitis\\\",\\n    \\\"aortic dissection\\\",\\n    \\\"progressive supranuclear palsy\\\",\\n    \\\"Hodgkin lymphoma\\\",\\n    \\\"COPD\\\",\\n    \\\"pancreatitis\\\",\\n    \\\"cerebral haemorrhage\\\",\\n    \\\"ALS\\\",\\n    \\\"AL amyloidosis\\\",\\n    \\\"car accident\\\",\\n    \\\"accidental shooting\\\",\\n    \\\"epilepsy\\\",\\n    \\\"dilated cardiomyopathy\\\",\\n    \\\"thrombosis\\\",\\n    \\\"rheumatoid arthritis\\\",\\n    \\\"beheading\\\",\\n    \\\"leiomyosarcoma\\\",\\n    \\\"Ewing sarcoma\\\",\\n    \\\"sarcoma\\\",\\n    \\\"leptomeningeal carcinomatosis\\\",\\n    \\\"nasopharyngeal carcinoma\\\",\\n    \\\"small cell carcinoma\\\",\\n    \\\"myelodysplasia\\\",\\n    \\\"pulmonary embolism\\\",\\n    \\\"embolism\\\",\\n    \\\"suffocated\\\",\\n    \\\"cerebral haemorrhage\\\",\\n    \\\"assassination\\\",\\n    \\\"gastrointestinal hemorrhage\\\",\\n    \\\"intracerebral hemorrhage\\\",\\n    \\\"anaphylaxis\\\",\\n    \\\"progressive supranuclear palsy\\\",\\n    \\\"shelling\\\",\\n    \\\"pulmonary edema\\\",\\n    \\\"Jordanian bombings\\\",\\n    \\\"posterior cortical atrophy\\\",\\n    \\\"emphysema, bronchitis\\\",\\n    \\\"West Nile virus\\\",\\n    \\\"corticobasal degeneration\\\",\\n    \\\"heat stroke\\\",\\n    \\\"glioblastoma multiforme\\\",\\n    \\\"acute endocarditis\\\",\\n    \\\"arrhythmogenic right ventricular dysplasia\\\",\\n    \\\"alcoholism\\\",\\n    \\\"plane crash\\\",\\n    \\\"normal pressure hydrocephalus\\\",\\n    \\\"primary progressive aphasia\\\",\\n    \\\"dilated cardiomyopathy\\\",\\n    \\\"subdural haematoma\\\",\\n    \\\"arrhythmia\\\",\\n    \\\"thrombus\\\",\\n    \\\"thrombosis\\\",\\n    \\\"essential thrombocytosis\\\",\\n    \\\"thrombotic thrombocytopenic purpura\\\",\\n    \\\"vasculitis\\\",\\n    \\\"self defenestration\\\",\\n    \\\"ventricular tachycardia\\\",\\n]\\n\\n# Clearing out duplicate values and sorting in descending length order to use for extracting values\\ncause_of_death = sorted(list(set(cause_of_death)), key=lambda x: len(x), reverse=True)\";\n",
       "                var nbb_cells = Jupyter.notebook.get_cells();\n",
       "                for (var i = 0; i < nbb_cells.length; ++i) {\n",
       "                    if (nbb_cells[i].input_prompt_number == nbb_cell_id) {\n",
       "                        if (nbb_cells[i].get_text() == nbb_unformatted_code) {\n",
       "                             nbb_cells[i].set_text(nbb_formatted_code);\n",
       "                        }\n",
       "                        break;\n",
       "                    }\n",
       "                }\n",
       "            }, 500);\n",
       "            "
      ],
      "text/plain": [
       "<IPython.core.display.Javascript object>"
      ]
     },
     "metadata": {},
     "output_type": "display_data"
    }
   ],
   "source": [
    "# Creating list for cause_of_death\n",
    "cause_of_death = [\n",
    "    \"cancer\",\n",
    "    \"pancreatic cancer\",\n",
    "    \"adrenal cancer\",\n",
    "    \"endometrial cancer\",\n",
    "    \"nasopharynx cancer\",\n",
    "    \"parotid cancer\",\n",
    "    \"prostate cancer\",\n",
    "    \"multiple myeloma, blood cancer\",\n",
    "    \"bowel cancer\",\n",
    "    \"oesophageal cancer\",\n",
    "    \"liver cancer\",\n",
    "    \"lung cancer\",\n",
    "    \"cancer\",\n",
    "    \"breast cancer\",\n",
    "    \"testicular cancer\",\n",
    "    \"ovarian cancer\",\n",
    "    \"peritoneal cancer\",\n",
    "    \"heart attack\",\n",
    "    \"COVID\",\n",
    "    \"congestive heart failure\",\n",
    "    \"heart failure\",\n",
    "    \"ischemic heart failure\",\n",
    "    \"pneumonia\",\n",
    "    \"AIDS, pneumonia\",\n",
    "    \"pneumonia, infarctions\",\n",
    "    \"bronchial pneumonia\",\n",
    "    \"stroke\",\n",
    "    \"heat stroke\",\n",
    "    \"shot\",\n",
    "    \"gunshot wounds\",\n",
    "    \"traffic collision\",\n",
    "    \"natural causes disease\",\n",
    "    \"natural causes\",\n",
    "    \"suicide\",\n",
    "    \"suspected suicide\",\n",
    "    \"suicide by drowning\",\n",
    "    \"suicide by hydrogen sulfide\",\n",
    "    \"suicide by hanging\",\n",
    "    \"Alzheimer disease\",\n",
    "    \"leukemia\",\n",
    "    \"Parkinson disease\",\n",
    "    \"Parkinson’s disease\",\n",
    "    \"Creutzfeldt Jakob disease\",\n",
    "    \"kidney disease\",\n",
    "    \"Pick disease\",\n",
    "    \"heart disease\",\n",
    "    \"car accident\",\n",
    "    \"injuries due to a fall\",\n",
    "    \"fall\",\n",
    "    \"subdural hematoma, fall\",\n",
    "    \"multiple organ failure\",\n",
    "    \"AIDS, lymphoma\",\n",
    "    \"Hodgkin lymphoma\",\n",
    "    \"gastric lymphoma\",\n",
    "    \"plane crash\",\n",
    "    \"amyotrophic lateral sclerosis\",\n",
    "    \"euthanized\",\n",
    "    \"uveal melanoma\",\n",
    "    \"emphysema\",\n",
    "    \"pulmonary emphysema\",\n",
    "    \"emphysema, bronchitis\",\n",
    "    \"Lewy body dementia\",\n",
    "    \"renal failure\",\n",
    "    \"intracerebral hemorrhage\",\n",
    "    \"liver failure\",\n",
    "    \"pulmonary embolism\",\n",
    "    \"homicide\",\n",
    "    \"pulmonary fibrosis\",\n",
    "    \"idiopathic pulmonary fibrosis\",\n",
    "    \"abdominal aortic aneurysm\",\n",
    "    \"sepsis\",\n",
    "    \"glioblastoma multiforme\",\n",
    "    \"Jordanian bombings\",\n",
    "    \"accidental shooting\",\n",
    "    \"pulmonary edema\",\n",
    "    \"septic infection\",\n",
    "    \"myelodysplastic syndrome\",\n",
    "    \"locked in syndrome\",\n",
    "    \"multiple organ dysfunction syndrome\",\n",
    "    \"superior vena cava syndrome\",\n",
    "    \"Marfan syndrome\",\n",
    "    \"Guillain Barré syndrome\",\n",
    "    \"multiple sclerosis\",\n",
    "    \"AIDS\",\n",
    "    \"multiple organ failure\",\n",
    "    \"pulmonary emphysema\",\n",
    "    \"emphysema\",\n",
    "    \"emphysema, bronchitis\",\n",
    "    \"aortic dissection\",\n",
    "    \"progressive supranuclear palsy\",\n",
    "    \"Hodgkin lymphoma\",\n",
    "    \"COPD\",\n",
    "    \"pancreatitis\",\n",
    "    \"cerebral haemorrhage\",\n",
    "    \"ALS\",\n",
    "    \"AL amyloidosis\",\n",
    "    \"car accident\",\n",
    "    \"accidental shooting\",\n",
    "    \"epilepsy\",\n",
    "    \"dilated cardiomyopathy\",\n",
    "    \"thrombosis\",\n",
    "    \"rheumatoid arthritis\",\n",
    "    \"beheading\",\n",
    "    \"leiomyosarcoma\",\n",
    "    \"Ewing sarcoma\",\n",
    "    \"sarcoma\",\n",
    "    \"leptomeningeal carcinomatosis\",\n",
    "    \"nasopharyngeal carcinoma\",\n",
    "    \"small cell carcinoma\",\n",
    "    \"myelodysplasia\",\n",
    "    \"pulmonary embolism\",\n",
    "    \"embolism\",\n",
    "    \"suffocated\",\n",
    "    \"cerebral haemorrhage\",\n",
    "    \"assassination\",\n",
    "    \"gastrointestinal hemorrhage\",\n",
    "    \"intracerebral hemorrhage\",\n",
    "    \"anaphylaxis\",\n",
    "    \"progressive supranuclear palsy\",\n",
    "    \"shelling\",\n",
    "    \"pulmonary edema\",\n",
    "    \"Jordanian bombings\",\n",
    "    \"posterior cortical atrophy\",\n",
    "    \"emphysema, bronchitis\",\n",
    "    \"West Nile virus\",\n",
    "    \"corticobasal degeneration\",\n",
    "    \"heat stroke\",\n",
    "    \"glioblastoma multiforme\",\n",
    "    \"acute endocarditis\",\n",
    "    \"arrhythmogenic right ventricular dysplasia\",\n",
    "    \"alcoholism\",\n",
    "    \"plane crash\",\n",
    "    \"normal pressure hydrocephalus\",\n",
    "    \"primary progressive aphasia\",\n",
    "    \"dilated cardiomyopathy\",\n",
    "    \"subdural haematoma\",\n",
    "    \"arrhythmia\",\n",
    "    \"thrombus\",\n",
    "    \"thrombosis\",\n",
    "    \"essential thrombocytosis\",\n",
    "    \"thrombotic thrombocytopenic purpura\",\n",
    "    \"vasculitis\",\n",
    "    \"self defenestration\",\n",
    "    \"ventricular tachycardia\",\n",
    "]\n",
    "\n",
    "# Clearing out duplicate values and sorting in descending length order to use for extracting values\n",
    "cause_of_death = sorted(list(set(cause_of_death)), key=lambda x: len(x), reverse=True)"
   ]
  },
  {
   "cell_type": "code",
   "execution_count": 23,
   "id": "ea62bba8",
   "metadata": {},
   "outputs": [
    {
     "data": {
      "application/javascript": [
       "\n",
       "            setTimeout(function() {\n",
       "                var nbb_cell_id = 23;\n",
       "                var nbb_unformatted_code = \"# Dropping info_parenth_copy value for entries to avoid incorrect cause_of_death\\ndf.loc[\\n    [\\n        index\\n        for index in df[df[\\\"info_parenth_copy\\\"].notna()].index\\n        if \\\"breaststroke\\\" in df.loc[index, \\\"info_parenth_copy\\\"]\\n        or \\\"backstroke\\\" in df.loc[index, \\\"info_parenth_copy\\\"]\\n    ],\\n    \\\"info_parenth_copy\\\",\\n] = \\\"\\\"\\n\\n# Dropping info_parenth_copy value for entries to avoid incorrect cause_of_death\\ndf.loc[\\n    [\\n        index\\n        for index in df[df[\\\"info_parenth_copy\\\"].notna()].index\\n        if \\\"shot put\\\" in df.loc[index, \\\"info_parenth_copy\\\"]\\n        or \\\"Aldershot\\\" in df.loc[index, \\\"info_parenth_copy\\\"]\\n    ],\\n    \\\"info_parenth_copy\\\",\\n] = \\\"\\\"\\n\\n# Dropping info_parent_copy value for entry to avoid incorrect cause_of_death\\ndf.loc[\\n    df[df[\\\"info_parenth_copy\\\"] == \\\"fallout shelter sign\\\"].index, \\\"info_parenth_copy\\\"\\n] = \\\"\\\"\\n\\n# Dropping info_parent_copy value for entry to avoid incorrect cause_of_death\\ndf.loc[\\n    df[\\n        df[\\\"info_parenth_copy\\\"]\\n        == \\\"HIV, President of the International AIDS Society 1994 1998\\\"\\n    ].index,\\n    \\\"info_parenth_copy\\\",\\n] = \\\"\\\"\\n\\n# Dropping info_parent_copy value for entry to avoid incorrect cause_of_death\\ndf.loc[\\n    df[df[\\\"info_parenth_copy\\\"] == \\\"assassination of Orlando Letelier\\\"].index,\\n    \\\"info_parenth_copy\\\",\\n] = \\\"\\\"\\n\\n# Dropping info_parenth_copy value for entries to avoid incorrect cause_of_death\\ndf.loc[\\n    [\\n        index\\n        for index in df[df[\\\"info_parenth_copy\\\"].notna()].index\\n        if \\\"Suicide\\\" in df.loc[index, \\\"info_parenth_copy\\\"]\\n    ],\\n    \\\"info_parenth_copy\\\",\\n] = \\\"\\\"\";\n",
       "                var nbb_formatted_code = \"# Dropping info_parenth_copy value for entries to avoid incorrect cause_of_death\\ndf.loc[\\n    [\\n        index\\n        for index in df[df[\\\"info_parenth_copy\\\"].notna()].index\\n        if \\\"breaststroke\\\" in df.loc[index, \\\"info_parenth_copy\\\"]\\n        or \\\"backstroke\\\" in df.loc[index, \\\"info_parenth_copy\\\"]\\n    ],\\n    \\\"info_parenth_copy\\\",\\n] = \\\"\\\"\\n\\n# Dropping info_parenth_copy value for entries to avoid incorrect cause_of_death\\ndf.loc[\\n    [\\n        index\\n        for index in df[df[\\\"info_parenth_copy\\\"].notna()].index\\n        if \\\"shot put\\\" in df.loc[index, \\\"info_parenth_copy\\\"]\\n        or \\\"Aldershot\\\" in df.loc[index, \\\"info_parenth_copy\\\"]\\n    ],\\n    \\\"info_parenth_copy\\\",\\n] = \\\"\\\"\\n\\n# Dropping info_parent_copy value for entry to avoid incorrect cause_of_death\\ndf.loc[\\n    df[df[\\\"info_parenth_copy\\\"] == \\\"fallout shelter sign\\\"].index, \\\"info_parenth_copy\\\"\\n] = \\\"\\\"\\n\\n# Dropping info_parent_copy value for entry to avoid incorrect cause_of_death\\ndf.loc[\\n    df[\\n        df[\\\"info_parenth_copy\\\"]\\n        == \\\"HIV, President of the International AIDS Society 1994 1998\\\"\\n    ].index,\\n    \\\"info_parenth_copy\\\",\\n] = \\\"\\\"\\n\\n# Dropping info_parent_copy value for entry to avoid incorrect cause_of_death\\ndf.loc[\\n    df[df[\\\"info_parenth_copy\\\"] == \\\"assassination of Orlando Letelier\\\"].index,\\n    \\\"info_parenth_copy\\\",\\n] = \\\"\\\"\\n\\n# Dropping info_parenth_copy value for entries to avoid incorrect cause_of_death\\ndf.loc[\\n    [\\n        index\\n        for index in df[df[\\\"info_parenth_copy\\\"].notna()].index\\n        if \\\"Suicide\\\" in df.loc[index, \\\"info_parenth_copy\\\"]\\n    ],\\n    \\\"info_parenth_copy\\\",\\n] = \\\"\\\"\";\n",
       "                var nbb_cells = Jupyter.notebook.get_cells();\n",
       "                for (var i = 0; i < nbb_cells.length; ++i) {\n",
       "                    if (nbb_cells[i].input_prompt_number == nbb_cell_id) {\n",
       "                        if (nbb_cells[i].get_text() == nbb_unformatted_code) {\n",
       "                             nbb_cells[i].set_text(nbb_formatted_code);\n",
       "                        }\n",
       "                        break;\n",
       "                    }\n",
       "                }\n",
       "            }, 500);\n",
       "            "
      ],
      "text/plain": [
       "<IPython.core.display.Javascript object>"
      ]
     },
     "metadata": {},
     "output_type": "display_data"
    }
   ],
   "source": [
    "# Dropping info_parenth_copy value for entries to avoid incorrect cause_of_death\n",
    "df.loc[\n",
    "    [\n",
    "        index\n",
    "        for index in df[df[\"info_parenth_copy\"].notna()].index\n",
    "        if \"breaststroke\" in df.loc[index, \"info_parenth_copy\"]\n",
    "        or \"backstroke\" in df.loc[index, \"info_parenth_copy\"]\n",
    "    ],\n",
    "    \"info_parenth_copy\",\n",
    "] = \"\"\n",
    "\n",
    "# Dropping info_parenth_copy value for entries to avoid incorrect cause_of_death\n",
    "df.loc[\n",
    "    [\n",
    "        index\n",
    "        for index in df[df[\"info_parenth_copy\"].notna()].index\n",
    "        if \"shot put\" in df.loc[index, \"info_parenth_copy\"]\n",
    "        or \"Aldershot\" in df.loc[index, \"info_parenth_copy\"]\n",
    "    ],\n",
    "    \"info_parenth_copy\",\n",
    "] = \"\"\n",
    "\n",
    "# Dropping info_parent_copy value for entry to avoid incorrect cause_of_death\n",
    "df.loc[\n",
    "    df[df[\"info_parenth_copy\"] == \"fallout shelter sign\"].index, \"info_parenth_copy\"\n",
    "] = \"\"\n",
    "\n",
    "# Dropping info_parent_copy value for entry to avoid incorrect cause_of_death\n",
    "df.loc[\n",
    "    df[\n",
    "        df[\"info_parenth_copy\"]\n",
    "        == \"HIV, President of the International AIDS Society 1994 1998\"\n",
    "    ].index,\n",
    "    \"info_parenth_copy\",\n",
    "] = \"\"\n",
    "\n",
    "# Dropping info_parent_copy value for entry to avoid incorrect cause_of_death\n",
    "df.loc[\n",
    "    df[df[\"info_parenth_copy\"] == \"assassination of Orlando Letelier\"].index,\n",
    "    \"info_parenth_copy\",\n",
    "] = \"\"\n",
    "\n",
    "# Dropping info_parenth_copy value for entries to avoid incorrect cause_of_death\n",
    "df.loc[\n",
    "    [\n",
    "        index\n",
    "        for index in df[df[\"info_parenth_copy\"].notna()].index\n",
    "        if \"Suicide\" in df.loc[index, \"info_parenth_copy\"]\n",
    "    ],\n",
    "    \"info_parenth_copy\",\n",
    "] = \"\""
   ]
  },
  {
   "cell_type": "markdown",
   "id": "6fca8dba",
   "metadata": {},
   "source": [
    "#### Extracting `cause_of_death` Values from `info_parenth_copy`"
   ]
  },
  {
   "cell_type": "code",
   "execution_count": 24,
   "id": "c8d93d36",
   "metadata": {},
   "outputs": [
    {
     "name": "stdout",
     "output_type": "stream",
     "text": [
      "There are 33461 values in cause_of_death column.\n",
      "\n",
      "CPU times: total: 27.6 s\n",
      "Wall time: 27.6 s\n"
     ]
    },
    {
     "data": {
      "application/javascript": [
       "\n",
       "            setTimeout(function() {\n",
       "                var nbb_cell_id = 24;\n",
       "                var nbb_unformatted_code = \"%%time\\n\\n# Column to search\\ncolumn = \\\"info_parenth_copy\\\"\\n\\n# Dataframe to search\\ndataframe = df[df[column].notna()]\\n\\n# For loop to extract cause from column to cause_of_death\\nfor cause in cause_of_death:\\n    for index in dataframe.index:\\n        item = df.loc[index, column]\\n        if item:\\n            if cause in item:\\n                if df.loc[index, 'cause_of_death']:\\n                    df.loc[index, 'cause_of_death'] = df.loc[index, 'cause_of_death'] + '/' + cause\\n                    df.loc[index, column] = item.replace(cause, \\\"\\\").strip()\\n                else:\\n                    df.loc[index, \\\"cause_of_death\\\"] = cause\\n                    df.loc[index, column] = item.replace(cause, \\\"\\\").strip()\\n\\n# Checking number of cause_of_death values\\nprint(\\n    f'There are {df[\\\"cause_of_death\\\"].notna().sum()} values in cause_of_death column.\\\\n'\\n)\";\n",
       "                var nbb_formatted_code = \"%%time\\n\\n# Column to search\\ncolumn = \\\"info_parenth_copy\\\"\\n\\n# Dataframe to search\\ndataframe = df[df[column].notna()]\\n\\n# For loop to extract cause from column to cause_of_death\\nfor cause in cause_of_death:\\n    for index in dataframe.index:\\n        item = df.loc[index, column]\\n        if item:\\n            if cause in item:\\n                if df.loc[index, 'cause_of_death']:\\n                    df.loc[index, 'cause_of_death'] = df.loc[index, 'cause_of_death'] + '/' + cause\\n                    df.loc[index, column] = item.replace(cause, \\\"\\\").strip()\\n                else:\\n                    df.loc[index, \\\"cause_of_death\\\"] = cause\\n                    df.loc[index, column] = item.replace(cause, \\\"\\\").strip()\\n\\n# Checking number of cause_of_death values\\nprint(\\n    f'There are {df[\\\"cause_of_death\\\"].notna().sum()} values in cause_of_death column.\\\\n'\\n)\";\n",
       "                var nbb_cells = Jupyter.notebook.get_cells();\n",
       "                for (var i = 0; i < nbb_cells.length; ++i) {\n",
       "                    if (nbb_cells[i].input_prompt_number == nbb_cell_id) {\n",
       "                        if (nbb_cells[i].get_text() == nbb_unformatted_code) {\n",
       "                             nbb_cells[i].set_text(nbb_formatted_code);\n",
       "                        }\n",
       "                        break;\n",
       "                    }\n",
       "                }\n",
       "            }, 500);\n",
       "            "
      ],
      "text/plain": [
       "<IPython.core.display.Javascript object>"
      ]
     },
     "metadata": {},
     "output_type": "display_data"
    }
   ],
   "source": [
    "%%time\n",
    "\n",
    "# Column to search\n",
    "column = \"info_parenth_copy\"\n",
    "\n",
    "# Dataframe to search\n",
    "dataframe = df[df[column].notna()]\n",
    "\n",
    "# For loop to extract cause from column to cause_of_death\n",
    "for cause in cause_of_death:\n",
    "    for index in dataframe.index:\n",
    "        item = df.loc[index, column]\n",
    "        if item:\n",
    "            if cause in item:\n",
    "                if df.loc[index, 'cause_of_death']:\n",
    "                    df.loc[index, 'cause_of_death'] = df.loc[index, 'cause_of_death'] + '/' + cause\n",
    "                    df.loc[index, column] = item.replace(cause, \"\").strip()\n",
    "                else:\n",
    "                    df.loc[index, \"cause_of_death\"] = cause\n",
    "                    df.loc[index, column] = item.replace(cause, \"\").strip()\n",
    "\n",
    "# Checking number of cause_of_death values\n",
    "print(\n",
    "    f'There are {df[\"cause_of_death\"].notna().sum()} values in cause_of_death column.\\n'\n",
    ")"
   ]
  },
  {
   "cell_type": "markdown",
   "id": "be72b4db",
   "metadata": {},
   "source": [
    "#### Observations:\n",
    "- We extracted ~130 values to `cause_of_death` with our last search.\n",
    "- There are additional category values in `info_parenth_copy` that were not previously captured.  The challenge of searching this column is that it has a very high proportion of unique values, so the cost of capturing the additional may be too high.\n",
    "- Let us attempt to narrow the search by restricting it to most frequent key words, such as \"MP\", etc., then only search `info_parenth_copy` values for them for entries that do not already have the associated category."
   ]
  },
  {
   "cell_type": "markdown",
   "id": "558ec338",
   "metadata": {},
   "source": [
    "### Search of `info_parenth_copy` for Additional `known_for` Categories with Constraints"
   ]
  },
  {
   "cell_type": "markdown",
   "id": "a2633497",
   "metadata": {},
   "source": [
    "#### Checking Initial Value Counts for `info_parenth_copy`"
   ]
  },
  {
   "cell_type": "code",
   "execution_count": 25,
   "id": "bac356d5",
   "metadata": {},
   "outputs": [
    {
     "data": {
      "text/plain": [
       "                                           12570\n",
       ", ,                                         3293\n",
       ",                                           1999\n",
       "since                                       1202\n",
       "national team                                167\n",
       "                                           ...  \n",
       "Silver Oak Cellars                             1\n",
       ", Foreign Secretary                            1\n",
       "UCLA, Milwaukee Bucks                          1\n",
       "Brownsville Station                            1\n",
       "and minister of industry and technology        1\n",
       "Name: info_parenth_copy, Length: 13248, dtype: int64"
      ]
     },
     "execution_count": 25,
     "metadata": {},
     "output_type": "execute_result"
    },
    {
     "data": {
      "application/javascript": [
       "\n",
       "            setTimeout(function() {\n",
       "                var nbb_cell_id = 25;\n",
       "                var nbb_unformatted_code = \"# Checking info_parenth_copy initial value counts\\ndf[\\\"info_parenth_copy\\\"].value_counts()\";\n",
       "                var nbb_formatted_code = \"# Checking info_parenth_copy initial value counts\\ndf[\\\"info_parenth_copy\\\"].value_counts()\";\n",
       "                var nbb_cells = Jupyter.notebook.get_cells();\n",
       "                for (var i = 0; i < nbb_cells.length; ++i) {\n",
       "                    if (nbb_cells[i].input_prompt_number == nbb_cell_id) {\n",
       "                        if (nbb_cells[i].get_text() == nbb_unformatted_code) {\n",
       "                             nbb_cells[i].set_text(nbb_formatted_code);\n",
       "                        }\n",
       "                        break;\n",
       "                    }\n",
       "                }\n",
       "            }, 500);\n",
       "            "
      ],
      "text/plain": [
       "<IPython.core.display.Javascript object>"
      ]
     },
     "metadata": {},
     "output_type": "display_data"
    }
   ],
   "source": [
    "# Checking info_parenth_copy initial value counts\n",
    "df[\"info_parenth_copy\"].value_counts()"
   ]
  },
  {
   "cell_type": "markdown",
   "id": "72d5a224",
   "metadata": {},
   "source": [
    "#### Observations:\n",
    "- Almost 1/3 of `info_parenth_copy` values are unique, so we will aim to streamline the search for information that will add a new category to an entry, but not take excessive time.  By definition, information in parentheses is anticipated to add detail that is non-essential to the primary information."
   ]
  },
  {
   "cell_type": "markdown",
   "id": "b7290cfb",
   "metadata": {},
   "source": [
    "#### Function to Save Indices of Rows Matching Regular Expressions Pattern to a List and Print Number of Rows with Match"
   ]
  },
  {
   "cell_type": "code",
   "execution_count": 26,
   "id": "b913db4f",
   "metadata": {},
   "outputs": [
    {
     "data": {
      "application/javascript": [
       "\n",
       "            setTimeout(function() {\n",
       "                var nbb_cell_id = 26;\n",
       "                var nbb_unformatted_code = \"# Define a function that takes dataframe, column name, and re pattern as arguments and returns list of indices\\n# for which column value matches re pattern\\ndef rows_with_pattern(dataframe, column, pattern):\\n    \\\"\\\"\\\"\\n    Takes input of dataframe, column name, and re pattern \\n    and returns list of indices for rows that contain match\\n    for pattern anywhere within value for given column.\\n    \\n    dataframe: dataframe\\n    column: column name\\n    pattern: re pattern\\n    \\\"\\\"\\\"\\n    index_list = []\\n\\n    for i in dataframe.index:\\n        item = dataframe.loc[i, column]\\n        match = re.search(pattern, item)\\n        if match:\\n            index_list.append(i)\\n    print(\\n        f\\\"There are {len(index_list)} rows with matching pattern in column '{column}'.\\\"\\n    )\\n    return index_list\";\n",
       "                var nbb_formatted_code = \"# Define a function that takes dataframe, column name, and re pattern as arguments and returns list of indices\\n# for which column value matches re pattern\\ndef rows_with_pattern(dataframe, column, pattern):\\n    \\\"\\\"\\\"\\n    Takes input of dataframe, column name, and re pattern \\n    and returns list of indices for rows that contain match\\n    for pattern anywhere within value for given column.\\n    \\n    dataframe: dataframe\\n    column: column name\\n    pattern: re pattern\\n    \\\"\\\"\\\"\\n    index_list = []\\n\\n    for i in dataframe.index:\\n        item = dataframe.loc[i, column]\\n        match = re.search(pattern, item)\\n        if match:\\n            index_list.append(i)\\n    print(\\n        f\\\"There are {len(index_list)} rows with matching pattern in column '{column}'.\\\"\\n    )\\n    return index_list\";\n",
       "                var nbb_cells = Jupyter.notebook.get_cells();\n",
       "                for (var i = 0; i < nbb_cells.length; ++i) {\n",
       "                    if (nbb_cells[i].input_prompt_number == nbb_cell_id) {\n",
       "                        if (nbb_cells[i].get_text() == nbb_unformatted_code) {\n",
       "                             nbb_cells[i].set_text(nbb_formatted_code);\n",
       "                        }\n",
       "                        break;\n",
       "                    }\n",
       "                }\n",
       "            }, 500);\n",
       "            "
      ],
      "text/plain": [
       "<IPython.core.display.Javascript object>"
      ]
     },
     "metadata": {},
     "output_type": "display_data"
    }
   ],
   "source": [
    "# Define a function that takes dataframe, column name, and re pattern as arguments and returns list of indices\n",
    "# for which column value matches re pattern\n",
    "def rows_with_pattern(dataframe, column, pattern):\n",
    "    \"\"\"\n",
    "    Takes input of dataframe, column name, and re pattern \n",
    "    and returns list of indices for rows that contain match\n",
    "    for pattern anywhere within value for given column.\n",
    "    \n",
    "    dataframe: dataframe\n",
    "    column: column name\n",
    "    pattern: re pattern\n",
    "    \"\"\"\n",
    "    index_list = []\n",
    "\n",
    "    for i in dataframe.index:\n",
    "        item = dataframe.loc[i, column]\n",
    "        match = re.search(pattern, item)\n",
    "        if match:\n",
    "            index_list.append(i)\n",
    "    print(\n",
    "        f\"There are {len(index_list)} rows with matching pattern in column '{column}'.\"\n",
    "    )\n",
    "    return index_list"
   ]
  },
  {
   "cell_type": "markdown",
   "id": "873819a3",
   "metadata": {},
   "source": [
    "#### Function to Use rows_with_pattern Function for Multiple Regular Expression Patterns"
   ]
  },
  {
   "cell_type": "code",
   "execution_count": 27,
   "id": "c8f2ca1b",
   "metadata": {},
   "outputs": [
    {
     "data": {
      "application/javascript": [
       "\n",
       "            setTimeout(function() {\n",
       "                var nbb_cell_id = 27;\n",
       "                var nbb_unformatted_code = \"# Define a function that calls rows_with_pattern function for multiple re patterns\\n# returning a single list of indices for all rows with any pattern match\\n\\n\\ndef multiple_patterns(dataframe, column, patterns):\\n    \\\"\\\"\\\"\\n    Takes input dataframe, column, and list of re patterns and returns single list \\n    of indices for rows in which a match for any pattern is found with re.search\\n    \\n    dataframe: dataframe\\n    column: column name\\n    patterns: list of re patterns\\n    \\\"\\\"\\\"\\n    rows_combined = []\\n\\n    # For loop to check each pattern\\n    for pattern in patterns:\\n\\n        # List and number of rows matching each pattern\\n        print(pattern)\\n        rows_to_check = rows_with_pattern(dataframe, column, pattern)\\n        print(\\\"\\\")\\n\\n        # Add list for each pattern to combined list\\n        rows_combined += rows_to_check\\n\\n    return rows_combined\";\n",
       "                var nbb_formatted_code = \"# Define a function that calls rows_with_pattern function for multiple re patterns\\n# returning a single list of indices for all rows with any pattern match\\n\\n\\ndef multiple_patterns(dataframe, column, patterns):\\n    \\\"\\\"\\\"\\n    Takes input dataframe, column, and list of re patterns and returns single list \\n    of indices for rows in which a match for any pattern is found with re.search\\n    \\n    dataframe: dataframe\\n    column: column name\\n    patterns: list of re patterns\\n    \\\"\\\"\\\"\\n    rows_combined = []\\n\\n    # For loop to check each pattern\\n    for pattern in patterns:\\n\\n        # List and number of rows matching each pattern\\n        print(pattern)\\n        rows_to_check = rows_with_pattern(dataframe, column, pattern)\\n        print(\\\"\\\")\\n\\n        # Add list for each pattern to combined list\\n        rows_combined += rows_to_check\\n\\n    return rows_combined\";\n",
       "                var nbb_cells = Jupyter.notebook.get_cells();\n",
       "                for (var i = 0; i < nbb_cells.length; ++i) {\n",
       "                    if (nbb_cells[i].input_prompt_number == nbb_cell_id) {\n",
       "                        if (nbb_cells[i].get_text() == nbb_unformatted_code) {\n",
       "                             nbb_cells[i].set_text(nbb_formatted_code);\n",
       "                        }\n",
       "                        break;\n",
       "                    }\n",
       "                }\n",
       "            }, 500);\n",
       "            "
      ],
      "text/plain": [
       "<IPython.core.display.Javascript object>"
      ]
     },
     "metadata": {},
     "output_type": "display_data"
    }
   ],
   "source": [
    "# Define a function that calls rows_with_pattern function for multiple re patterns\n",
    "# returning a single list of indices for all rows with any pattern match\n",
    "\n",
    "\n",
    "def multiple_patterns(dataframe, column, patterns):\n",
    "    \"\"\"\n",
    "    Takes input dataframe, column, and list of re patterns and returns single list \n",
    "    of indices for rows in which a match for any pattern is found with re.search\n",
    "    \n",
    "    dataframe: dataframe\n",
    "    column: column name\n",
    "    patterns: list of re patterns\n",
    "    \"\"\"\n",
    "    rows_combined = []\n",
    "\n",
    "    # For loop to check each pattern\n",
    "    for pattern in patterns:\n",
    "\n",
    "        # List and number of rows matching each pattern\n",
    "        print(pattern)\n",
    "        rows_to_check = rows_with_pattern(dataframe, column, pattern)\n",
    "        print(\"\")\n",
    "\n",
    "        # Add list for each pattern to combined list\n",
    "        rows_combined += rows_to_check\n",
    "\n",
    "    return rows_combined"
   ]
  },
  {
   "cell_type": "markdown",
   "id": "09419c27",
   "metadata": {},
   "source": [
    "#### Checking a Sample of `info_parenth_copy` Unique Values"
   ]
  },
  {
   "cell_type": "code",
   "execution_count": 28,
   "id": "dac3a08e",
   "metadata": {},
   "outputs": [
    {
     "data": {
      "text/plain": [
       "8419                                                                                            Chicago Bears, Rams\n",
       "523                                                                                                 Shrewsbury Town\n",
       "3601                                                                                       and Brigg and Scunthorpe\n",
       "6004                                                                   Tigres UANL, Atlético Español, national team\n",
       "12343                                                                House of Councillors and singer, member of the\n",
       "3481                                                             Walsall, Atlanta Chiefs and manager Worcester City\n",
       "10317                                                                                                       Bologna\n",
       "1620                                                                                     Mets, San Francisco Giants\n",
       "159                                                                                                     West Indies\n",
       "6312                                    \"Black Magic Woman\" and guitarist Fleetwood Mac, Peter Green Splinter Group\n",
       "12317                                                                                  , MLA for Vieux Fort Quarter\n",
       "9272                                                                                \"Seventeen\", \"My Boy, Flat Top\"\n",
       "6349                                                                                                     , composer\n",
       "8103                                                                                       James Madison University\n",
       "71                                                                                                    University of\n",
       "2318                                                                           Argeș Pitești, Steaua, national team\n",
       "799                                                                                           Carlton Football Club\n",
       "12837                                                                                           WWF and actress , ,\n",
       "7937                                                                                       Bangu, Östers, Madureira\n",
       "5582                                                                                                  Cork, Youghal\n",
       "44                                                                                                      and Senator\n",
       "4967                                                                                              Spice Engineering\n",
       "1836                                                                     Audi Quattro, Chairman of Volkswagen Group\n",
       "4327                                                    HITS database, investigations of Ted Bundy and Gary Ridgway\n",
       "10114                                                                                             Luciano Pavarotti\n",
       "3845                                                                                    Giants, Michigan Wolverines\n",
       "97                                                                                                             Kent\n",
       "10687                                                              Dallas Mavericks, Minnesota Timberwolves, Lakers\n",
       "13198                                                                                          Yorkshire, Somerset,\n",
       "299                                                                                                         Tony, ,\n",
       "11808                                                                                                   Casas Bahia\n",
       "7856                                                                                          Lifted Research Group\n",
       "380                                                                                                   , and actress\n",
       "9707                                                                                              Avenged Sevenfold\n",
       "8597                                                                              St Johnstone, Hamilton Academical\n",
       "6871                                                                                             UT Martin Skyhawks\n",
       "9199                                                                                                      aka Arkan\n",
       "161                                                                                                Milwaukee Braves\n",
       "9552                                                                                                   Bud & Travis\n",
       "5190                                                                                   Hiroshima Carp, Nankai Hawks\n",
       "12241                                                                              Ayrton Senna, Michael Schumacher\n",
       "5808                                                                                    and Washington State Senate\n",
       "10376                                                                                                CMLL, UWA, NWA\n",
       "7337                                                                                                     Elton John\n",
       "12857                                                                                                 Hickory Farms\n",
       "6390                                                                                    Utah State, Southern Oregon\n",
       "9108                                            Baltimore Colts, Titans and football coach Indiana State University\n",
       "5606                                                                    Al Tayaran, national team and manager Erbil\n",
       "8698                                                                   Olympics men marathon, Olympics men marathon\n",
       "12876                                                             \"The Letter\", \"Always on My Mind\", \"Neon Rainbow\"\n",
       "10289                                                                            Dynamo Moscow, Union national team\n",
       "5663                                                                                           Magherafelt, St Gall\n",
       "4655                                                         Toronto Argonauts, Dallas Cowboys and sportscaster TSN\n",
       "4817                                                                                 and archbishop of Barquisimeto\n",
       "8977                                                                                           Social Liberal Party\n",
       "11306                                                                                                     and UNCAF\n",
       "9419                                                                                         and Parkdale , Senator\n",
       "6994                                                                                            The McGuire Sisters\n",
       "11981                                                                                                 \"Sugar Shack\"\n",
       "10719                                                              \"Monster Mash\" and singer songwriter Skip & Flip\n",
       "1035                                                                             Sampdoria, Juventus, national team\n",
       "4912                                                           Chicago Cubs, Pittsburgh Pirates, St Louis Cardinals\n",
       "9839                                                                                                  snow leopards\n",
       "3255                                                       Colosseum, Colosseum II, John Mayall & the Bluesbreakers\n",
       "8086                                                                          Pittsburgh Pirates and announcer Mets\n",
       "2342                                                               Racing Club, Santiago Morning and coach Belgrano\n",
       "12657                                East Fremantle, Hawthorn, Brisbane Bears and coach Hawthorn, West Coast Eagles\n",
       "2285                                                                     Flying Apsaras Award for Outstanding Actor\n",
       "10964                                                  Clarkson, Boston College and player, Olympic silver medalist\n",
       "5224                                                                                           and mayor of Yerevan\n",
       "2227                                                                                    Ruch Chorzów, national team\n",
       "538                                                                                Leigh, Warrington, national team\n",
       "10085                                                                                  last seen alive on this date\n",
       "11282                                                                                               Funny Gay Males\n",
       "8767                                  St Louis Cardinals, Philadelphia Phillies, Boston Red Sox and manager Rangers\n",
       "1858                                                                               Pittsburgh Pirates, Chicago Cubs\n",
       "8152     member and Speaker of the Vermont House of Representatives and judge District Court, Vermont Supreme Court\n",
       "5820                                                    PGA Tour, Tour and politician, mayor of Villa Allende since\n",
       "2718                                                                                                    UCLA Bruins\n",
       "10586                                                                                                          WPLG\n",
       "13147                                                                               Sheffield United, national team\n",
       "8899                                                                                             née Mitsuru Hanada\n",
       "7678                                                                                       Milwaukee Bucks, Rockets\n",
       "6799                                                        Portimonense and manager Paços de Ferreira, Gil Vicente\n",
       "12246                                                                                                Tony The Tiger\n",
       "3722                                                                   Slovan Liberec, Sparta Prague, national team\n",
       "3407                                                                                          Tirana, national team\n",
       "321                                                                                                         and MLC\n",
       "5305                                                                                                       Nintendo\n",
       "9399                                                                         seven westerns starring Randolph Scott\n",
       "10706                                                                            St Louis Browns, Chicago White Sox\n",
       "3586                                                                             , Deputy Prime Minister and Deputy\n",
       "6133                                                                                          Yorkshire, Cumberland\n",
       "2470                                                                               Newport, Scarlets, national team\n",
       "6928                                                           Clyde, Hamilton Academical and manager Dundee United\n",
       "1948                                                                           Stockport County, Barrow, Workington\n",
       "610                                                                                              , world champion ,\n",
       "10111                                                                        Oldham East, Oldham Central and Royton\n",
       "6429                                                                                                The Long Ryders\n",
       "7551                                                                                                 \"Running Bear\"\n",
       "dtype: object"
      ]
     },
     "execution_count": 28,
     "metadata": {},
     "output_type": "execute_result"
    },
    {
     "data": {
      "application/javascript": [
       "\n",
       "            setTimeout(function() {\n",
       "                var nbb_cell_id = 28;\n",
       "                var nbb_unformatted_code = \"# Checking a sample of info_parenth_copy Unique Values\\npd.Series(df[\\\"info_parenth_copy\\\"].value_counts().index.tolist()).sample(100)\";\n",
       "                var nbb_formatted_code = \"# Checking a sample of info_parenth_copy Unique Values\\npd.Series(df[\\\"info_parenth_copy\\\"].value_counts().index.tolist()).sample(100)\";\n",
       "                var nbb_cells = Jupyter.notebook.get_cells();\n",
       "                for (var i = 0; i < nbb_cells.length; ++i) {\n",
       "                    if (nbb_cells[i].input_prompt_number == nbb_cell_id) {\n",
       "                        if (nbb_cells[i].get_text() == nbb_unformatted_code) {\n",
       "                             nbb_cells[i].set_text(nbb_formatted_code);\n",
       "                        }\n",
       "                        break;\n",
       "                    }\n",
       "                }\n",
       "            }, 500);\n",
       "            "
      ],
      "text/plain": [
       "<IPython.core.display.Javascript object>"
      ]
     },
     "metadata": {},
     "output_type": "display_data"
    }
   ],
   "source": [
    "# Checking a sample of info_parenth_copy Unique Values\n",
    "pd.Series(df[\"info_parenth_copy\"].value_counts().index.tolist()).sample(100)"
   ]
  },
  {
   "cell_type": "markdown",
   "id": "9a24aeb0",
   "metadata": {},
   "source": [
    "#### Observations:\n",
    "- We can see that many of the values are proper nouns of places, people, or titles (some in quotations).  \n",
    "- First, we can drop the titles in quotations using regular expressions.\n",
    "-  Then we will take an approach of combining all of the values into a single list, then converting to a single string, then back to a list, to reduce then reduce to a set of individual word values that can be prioritized."
   ]
  },
  {
   "cell_type": "markdown",
   "id": "387d646b",
   "metadata": {},
   "source": [
    "#### Checking and Dropping Titles in Quotations from `info_parenth_copy`"
   ]
  },
  {
   "cell_type": "code",
   "execution_count": 29,
   "id": "65ef866b",
   "metadata": {},
   "outputs": [
    {
     "name": "stdout",
     "output_type": "stream",
     "text": [
      "There are 676 rows with matching pattern in column 'info_parenth_copy'.\n"
     ]
    },
    {
     "data": {
      "text/html": [
       "<div>\n",
       "<style scoped>\n",
       "    .dataframe tbody tr th:only-of-type {\n",
       "        vertical-align: middle;\n",
       "    }\n",
       "\n",
       "    .dataframe tbody tr th {\n",
       "        vertical-align: top;\n",
       "    }\n",
       "\n",
       "    .dataframe thead th {\n",
       "        text-align: right;\n",
       "    }\n",
       "</style>\n",
       "<table border=\"1\" class=\"dataframe\">\n",
       "  <thead>\n",
       "    <tr style=\"text-align: right;\">\n",
       "      <th></th>\n",
       "      <th>day</th>\n",
       "      <th>name</th>\n",
       "      <th>info</th>\n",
       "      <th>link</th>\n",
       "      <th>num_references</th>\n",
       "      <th>year</th>\n",
       "      <th>month</th>\n",
       "      <th>info_parenth</th>\n",
       "      <th>age</th>\n",
       "      <th>cause_of_death</th>\n",
       "      <th>place_1</th>\n",
       "      <th>place_2</th>\n",
       "      <th>info_parenth_copy</th>\n",
       "      <th>log_num_references</th>\n",
       "      <th>sciences</th>\n",
       "      <th>social</th>\n",
       "      <th>spiritual</th>\n",
       "      <th>academia_humanities</th>\n",
       "      <th>business_farming</th>\n",
       "      <th>arts</th>\n",
       "      <th>sports</th>\n",
       "      <th>law_enf_military_operator</th>\n",
       "      <th>politics_govt_law</th>\n",
       "      <th>crime</th>\n",
       "      <th>event_record_other</th>\n",
       "      <th>other_species</th>\n",
       "      <th>num_categories</th>\n",
       "    </tr>\n",
       "  </thead>\n",
       "  <tbody>\n",
       "    <tr>\n",
       "      <th>34669</th>\n",
       "      <td>22</td>\n",
       "      <td>Joseph Brooks</td>\n",
       "      <td>, 73, American Grammy-winning songwriter , suicide by asphyxiation.</td>\n",
       "      <td>https://en.wikipedia.org/wiki/Joseph_Brooks_(songwriter)</td>\n",
       "      <td>38</td>\n",
       "      <td>2011</td>\n",
       "      <td>May</td>\n",
       "      <td>\"You Light Up My Life\"</td>\n",
       "      <td>73.0</td>\n",
       "      <td>suicide by asphyxiation</td>\n",
       "      <td>United States of America</td>\n",
       "      <td>None</td>\n",
       "      <td>\"You Light Up My Life\"</td>\n",
       "      <td>3.663562</td>\n",
       "      <td>0</td>\n",
       "      <td>0</td>\n",
       "      <td>0</td>\n",
       "      <td>0</td>\n",
       "      <td>0</td>\n",
       "      <td>1</td>\n",
       "      <td>0</td>\n",
       "      <td>0</td>\n",
       "      <td>0</td>\n",
       "      <td>0</td>\n",
       "      <td>0</td>\n",
       "      <td>0</td>\n",
       "      <td>1</td>\n",
       "    </tr>\n",
       "    <tr>\n",
       "      <th>53897</th>\n",
       "      <td>1</td>\n",
       "      <td>Red Lane</td>\n",
       "      <td>, 76, American country singer and songwriter , cancer.</td>\n",
       "      <td>https://en.wikipedia.org/wiki/Red_Lane</td>\n",
       "      <td>18</td>\n",
       "      <td>2015</td>\n",
       "      <td>July</td>\n",
       "      <td>\"'Til I Get It Right\"</td>\n",
       "      <td>76.0</td>\n",
       "      <td>cancer</td>\n",
       "      <td>United States of America</td>\n",
       "      <td>None</td>\n",
       "      <td>\"'Til I Get It Right\"</td>\n",
       "      <td>2.944439</td>\n",
       "      <td>0</td>\n",
       "      <td>0</td>\n",
       "      <td>0</td>\n",
       "      <td>0</td>\n",
       "      <td>0</td>\n",
       "      <td>1</td>\n",
       "      <td>0</td>\n",
       "      <td>0</td>\n",
       "      <td>0</td>\n",
       "      <td>0</td>\n",
       "      <td>0</td>\n",
       "      <td>0</td>\n",
       "      <td>1</td>\n",
       "    </tr>\n",
       "  </tbody>\n",
       "</table>\n",
       "</div>"
      ],
      "text/plain": [
       "      day           name  \\\n",
       "34669  22  Joseph Brooks   \n",
       "53897   1       Red Lane   \n",
       "\n",
       "                                                                      info  \\\n",
       "34669  , 73, American Grammy-winning songwriter , suicide by asphyxiation.   \n",
       "53897               , 76, American country singer and songwriter , cancer.   \n",
       "\n",
       "                                                           link  \\\n",
       "34669  https://en.wikipedia.org/wiki/Joseph_Brooks_(songwriter)   \n",
       "53897                    https://en.wikipedia.org/wiki/Red_Lane   \n",
       "\n",
       "       num_references  year month            info_parenth   age  \\\n",
       "34669              38  2011   May  \"You Light Up My Life\"  73.0   \n",
       "53897              18  2015  July   \"'Til I Get It Right\"  76.0   \n",
       "\n",
       "                cause_of_death                   place_1 place_2  \\\n",
       "34669  suicide by asphyxiation  United States of America    None   \n",
       "53897                   cancer  United States of America    None   \n",
       "\n",
       "            info_parenth_copy  log_num_references  sciences  social  \\\n",
       "34669  \"You Light Up My Life\"            3.663562         0       0   \n",
       "53897   \"'Til I Get It Right\"            2.944439         0       0   \n",
       "\n",
       "       spiritual  academia_humanities  business_farming  arts  sports  \\\n",
       "34669          0                    0                 0     1       0   \n",
       "53897          0                    0                 0     1       0   \n",
       "\n",
       "       law_enf_military_operator  politics_govt_law  crime  \\\n",
       "34669                          0                  0      0   \n",
       "53897                          0                  0      0   \n",
       "\n",
       "       event_record_other  other_species  num_categories  \n",
       "34669                   0              0               1  \n",
       "53897                   0              0               1  "
      ]
     },
     "execution_count": 29,
     "metadata": {},
     "output_type": "execute_result"
    },
    {
     "data": {
      "application/javascript": [
       "\n",
       "            setTimeout(function() {\n",
       "                var nbb_cell_id = 29;\n",
       "                var nbb_unformatted_code = \"# Column to check\\ncolumn = \\\"info_parenth_copy\\\"\\n\\n# Dataframe to check\\ndataframe = df[df[column].notna()]\\n\\n# Patterns for re\\npattern = f'\\\".*\\\"'\\n\\n# Finding indices of rows that do and do not have pattern\\nrows_to_check = rows_with_pattern(dataframe, column, pattern)\\n\\n# Checking a sample of rows\\ndf.loc[rows_to_check, :].sample(2)\";\n",
       "                var nbb_formatted_code = \"# Column to check\\ncolumn = \\\"info_parenth_copy\\\"\\n\\n# Dataframe to check\\ndataframe = df[df[column].notna()]\\n\\n# Patterns for re\\npattern = f'\\\".*\\\"'\\n\\n# Finding indices of rows that do and do not have pattern\\nrows_to_check = rows_with_pattern(dataframe, column, pattern)\\n\\n# Checking a sample of rows\\ndf.loc[rows_to_check, :].sample(2)\";\n",
       "                var nbb_cells = Jupyter.notebook.get_cells();\n",
       "                for (var i = 0; i < nbb_cells.length; ++i) {\n",
       "                    if (nbb_cells[i].input_prompt_number == nbb_cell_id) {\n",
       "                        if (nbb_cells[i].get_text() == nbb_unformatted_code) {\n",
       "                             nbb_cells[i].set_text(nbb_formatted_code);\n",
       "                        }\n",
       "                        break;\n",
       "                    }\n",
       "                }\n",
       "            }, 500);\n",
       "            "
      ],
      "text/plain": [
       "<IPython.core.display.Javascript object>"
      ]
     },
     "metadata": {},
     "output_type": "display_data"
    }
   ],
   "source": [
    "# Column to check\n",
    "column = \"info_parenth_copy\"\n",
    "\n",
    "# Dataframe to check\n",
    "dataframe = df[df[column].notna()]\n",
    "\n",
    "# Patterns for re\n",
    "pattern = f'\".*\"'\n",
    "\n",
    "# Finding indices of rows that do and do not have pattern\n",
    "rows_to_check = rows_with_pattern(dataframe, column, pattern)\n",
    "\n",
    "# Checking a sample of rows\n",
    "df.loc[rows_to_check, :].sample(2)"
   ]
  },
  {
   "cell_type": "code",
   "execution_count": 30,
   "id": "46437074",
   "metadata": {},
   "outputs": [
    {
     "data": {
      "text/html": [
       "<div>\n",
       "<style scoped>\n",
       "    .dataframe tbody tr th:only-of-type {\n",
       "        vertical-align: middle;\n",
       "    }\n",
       "\n",
       "    .dataframe tbody tr th {\n",
       "        vertical-align: top;\n",
       "    }\n",
       "\n",
       "    .dataframe thead th {\n",
       "        text-align: right;\n",
       "    }\n",
       "</style>\n",
       "<table border=\"1\" class=\"dataframe\">\n",
       "  <thead>\n",
       "    <tr style=\"text-align: right;\">\n",
       "      <th></th>\n",
       "      <th>day</th>\n",
       "      <th>name</th>\n",
       "      <th>info</th>\n",
       "      <th>link</th>\n",
       "      <th>num_references</th>\n",
       "      <th>year</th>\n",
       "      <th>month</th>\n",
       "      <th>info_parenth</th>\n",
       "      <th>age</th>\n",
       "      <th>cause_of_death</th>\n",
       "      <th>place_1</th>\n",
       "      <th>place_2</th>\n",
       "      <th>info_parenth_copy</th>\n",
       "      <th>log_num_references</th>\n",
       "      <th>sciences</th>\n",
       "      <th>social</th>\n",
       "      <th>spiritual</th>\n",
       "      <th>academia_humanities</th>\n",
       "      <th>business_farming</th>\n",
       "      <th>arts</th>\n",
       "      <th>sports</th>\n",
       "      <th>law_enf_military_operator</th>\n",
       "      <th>politics_govt_law</th>\n",
       "      <th>crime</th>\n",
       "      <th>event_record_other</th>\n",
       "      <th>other_species</th>\n",
       "      <th>num_categories</th>\n",
       "    </tr>\n",
       "  </thead>\n",
       "  <tbody>\n",
       "    <tr>\n",
       "      <th>10916</th>\n",
       "      <td>27</td>\n",
       "      <td>Vicki Sue Robinson</td>\n",
       "      <td>, 45, American singer  and actress, cancer.</td>\n",
       "      <td>https://en.wikipedia.org/wiki/Vicki_Sue_Robinson</td>\n",
       "      <td>17</td>\n",
       "      <td>2000</td>\n",
       "      <td>April</td>\n",
       "      <td>\"Turn the Beat Around\"</td>\n",
       "      <td>45.0</td>\n",
       "      <td>cancer</td>\n",
       "      <td>United States of America</td>\n",
       "      <td>None</td>\n",
       "      <td></td>\n",
       "      <td>2.890372</td>\n",
       "      <td>0</td>\n",
       "      <td>0</td>\n",
       "      <td>0</td>\n",
       "      <td>0</td>\n",
       "      <td>0</td>\n",
       "      <td>1</td>\n",
       "      <td>0</td>\n",
       "      <td>0</td>\n",
       "      <td>0</td>\n",
       "      <td>0</td>\n",
       "      <td>0</td>\n",
       "      <td>0</td>\n",
       "      <td>1</td>\n",
       "    </tr>\n",
       "    <tr>\n",
       "      <th>93034</th>\n",
       "      <td>29</td>\n",
       "      <td>Hayko</td>\n",
       "      <td>, 48, Armenian singer  and songwriter, COVID-19.</td>\n",
       "      <td>https://en.wikipedia.org/wiki/Hayko</td>\n",
       "      <td>3</td>\n",
       "      <td>2021</td>\n",
       "      <td>September</td>\n",
       "      <td>\"Anytime You Need\"</td>\n",
       "      <td>48.0</td>\n",
       "      <td>COVID</td>\n",
       "      <td>Armenia</td>\n",
       "      <td>None</td>\n",
       "      <td></td>\n",
       "      <td>1.386294</td>\n",
       "      <td>0</td>\n",
       "      <td>0</td>\n",
       "      <td>0</td>\n",
       "      <td>0</td>\n",
       "      <td>0</td>\n",
       "      <td>1</td>\n",
       "      <td>0</td>\n",
       "      <td>0</td>\n",
       "      <td>0</td>\n",
       "      <td>0</td>\n",
       "      <td>0</td>\n",
       "      <td>0</td>\n",
       "      <td>1</td>\n",
       "    </tr>\n",
       "  </tbody>\n",
       "</table>\n",
       "</div>"
      ],
      "text/plain": [
       "      day                name  \\\n",
       "10916  27  Vicki Sue Robinson   \n",
       "93034  29               Hayko   \n",
       "\n",
       "                                                   info  \\\n",
       "10916       , 45, American singer  and actress, cancer.   \n",
       "93034  , 48, Armenian singer  and songwriter, COVID-19.   \n",
       "\n",
       "                                                   link  num_references  year  \\\n",
       "10916  https://en.wikipedia.org/wiki/Vicki_Sue_Robinson              17  2000   \n",
       "93034               https://en.wikipedia.org/wiki/Hayko               3  2021   \n",
       "\n",
       "           month            info_parenth   age cause_of_death  \\\n",
       "10916      April  \"Turn the Beat Around\"  45.0         cancer   \n",
       "93034  September      \"Anytime You Need\"  48.0          COVID   \n",
       "\n",
       "                        place_1 place_2 info_parenth_copy  log_num_references  \\\n",
       "10916  United States of America    None                              2.890372   \n",
       "93034                   Armenia    None                              1.386294   \n",
       "\n",
       "       sciences  social  spiritual  academia_humanities  business_farming  \\\n",
       "10916         0       0          0                    0                 0   \n",
       "93034         0       0          0                    0                 0   \n",
       "\n",
       "       arts  sports  law_enf_military_operator  politics_govt_law  crime  \\\n",
       "10916     1       0                          0                  0      0   \n",
       "93034     1       0                          0                  0      0   \n",
       "\n",
       "       event_record_other  other_species  num_categories  \n",
       "10916                   0              0               1  \n",
       "93034                   0              0               1  "
      ]
     },
     "execution_count": 30,
     "metadata": {},
     "output_type": "execute_result"
    },
    {
     "data": {
      "application/javascript": [
       "\n",
       "            setTimeout(function() {\n",
       "                var nbb_cell_id = 30;\n",
       "                var nbb_unformatted_code = \"# For loop to extract quotations and characters within from info_parenth_copy\\nfor index in rows_to_check:\\n    item = df.loc[index, column]\\n    match = re.search(pattern, item)\\n    if match:\\n        df.loc[index, column] = re.sub(pattern, \\\"\\\", df.loc[index, column]).strip()\\n\\n# Recheck a sample of treated rows\\ndf.loc[rows_to_check, :].sample(2)\";\n",
       "                var nbb_formatted_code = \"# For loop to extract quotations and characters within from info_parenth_copy\\nfor index in rows_to_check:\\n    item = df.loc[index, column]\\n    match = re.search(pattern, item)\\n    if match:\\n        df.loc[index, column] = re.sub(pattern, \\\"\\\", df.loc[index, column]).strip()\\n\\n# Recheck a sample of treated rows\\ndf.loc[rows_to_check, :].sample(2)\";\n",
       "                var nbb_cells = Jupyter.notebook.get_cells();\n",
       "                for (var i = 0; i < nbb_cells.length; ++i) {\n",
       "                    if (nbb_cells[i].input_prompt_number == nbb_cell_id) {\n",
       "                        if (nbb_cells[i].get_text() == nbb_unformatted_code) {\n",
       "                             nbb_cells[i].set_text(nbb_formatted_code);\n",
       "                        }\n",
       "                        break;\n",
       "                    }\n",
       "                }\n",
       "            }, 500);\n",
       "            "
      ],
      "text/plain": [
       "<IPython.core.display.Javascript object>"
      ]
     },
     "metadata": {},
     "output_type": "display_data"
    }
   ],
   "source": [
    "# For loop to extract quotations and characters within from info_parenth_copy\n",
    "for index in rows_to_check:\n",
    "    item = df.loc[index, column]\n",
    "    match = re.search(pattern, item)\n",
    "    if match:\n",
    "        df.loc[index, column] = re.sub(pattern, \"\", df.loc[index, column]).strip()\n",
    "\n",
    "# Recheck a sample of treated rows\n",
    "df.loc[rows_to_check, :].sample(2)"
   ]
  },
  {
   "cell_type": "code",
   "execution_count": 31,
   "id": "d4e6320f",
   "metadata": {},
   "outputs": [
    {
     "data": {
      "text/plain": [
       "                                            13061\n",
       ", ,                                          3293\n",
       ",                                            2000\n",
       "since                                        1202\n",
       "national team                                 167\n",
       "                                            ...  \n",
       ", President of the Governing Council            1\n",
       "Gloucestershire, Worcestershire,                1\n",
       "North Sydney, Eastern Suburbs, New South        1\n",
       "neuroendocrine, ,                               1\n",
       "and minister of industry and technology         1\n",
       "Name: info_parenth_copy, Length: 12723, dtype: int64"
      ]
     },
     "execution_count": 31,
     "metadata": {},
     "output_type": "execute_result"
    },
    {
     "data": {
      "application/javascript": [
       "\n",
       "            setTimeout(function() {\n",
       "                var nbb_cell_id = 31;\n",
       "                var nbb_unformatted_code = \"# Rechecking info_parenth_copy value counts\\ndf[\\\"info_parenth_copy\\\"].value_counts()\";\n",
       "                var nbb_formatted_code = \"# Rechecking info_parenth_copy value counts\\ndf[\\\"info_parenth_copy\\\"].value_counts()\";\n",
       "                var nbb_cells = Jupyter.notebook.get_cells();\n",
       "                for (var i = 0; i < nbb_cells.length; ++i) {\n",
       "                    if (nbb_cells[i].input_prompt_number == nbb_cell_id) {\n",
       "                        if (nbb_cells[i].get_text() == nbb_unformatted_code) {\n",
       "                             nbb_cells[i].set_text(nbb_formatted_code);\n",
       "                        }\n",
       "                        break;\n",
       "                    }\n",
       "                }\n",
       "            }, 500);\n",
       "            "
      ],
      "text/plain": [
       "<IPython.core.display.Javascript object>"
      ]
     },
     "metadata": {},
     "output_type": "display_data"
    }
   ],
   "source": [
    "# Rechecking info_parenth_copy value counts\n",
    "df[\"info_parenth_copy\"].value_counts()"
   ]
  },
  {
   "cell_type": "markdown",
   "id": "45d0b814",
   "metadata": {},
   "source": [
    "#### Observations:\n",
    "- Dropping song and other titles in quotations simplified the remaining values.\n",
    "- Next, we will create an abbreviated single list of all of the values, then use the values to extract additional categories."
   ]
  },
  {
   "cell_type": "markdown",
   "id": "5e117c0b",
   "metadata": {},
   "source": [
    "#### Extracting Additional `known_for` Category from `info_parenth_copy` Using `roles_list`"
   ]
  },
  {
   "cell_type": "code",
   "execution_count": 32,
   "id": "a346bf02",
   "metadata": {},
   "outputs": [
    {
     "name": "stdout",
     "output_type": "stream",
     "text": [
      "There are 2497 remaining unique individual words in roles_list.\n",
      "\n"
     ]
    },
    {
     "data": {
      "application/javascript": [
       "\n",
       "            setTimeout(function() {\n",
       "                var nbb_cell_id = 32;\n",
       "                var nbb_unformatted_code = \"## Combining `info_parenth_copy` Values into a Single List of Unique Values for Searching\\n\\n# Creating a single list of info_parenth_copy values\\nroles_list = df[\\\"info_parenth_copy\\\"].value_counts().index.tolist()\\n\\n# Converting to a single string and removing commas, semicolons, and extra whitespace\\nroles_list = (\\n    \\\" \\\".join(roles_list).replace(\\\",\\\", \\\"\\\").replace(\\\";\\\", \\\"\\\").replace(\\\"  \\\", \\\" \\\").strip()\\n)\\n\\n# Splitting into a list of individual words and converting to a Series to easily check value counts\\nroles_list = roles_list.split()\\n\\n# Converting to a series for value_counts in ascending order for use of pop() on most frequent values first\\n# and dropping obvious extraneous values\\nroles_list = (\\n    pd.Series(roles_list)\\n    .value_counts(ascending=True)\\n    .drop(\\n        [\\n            \\\"and\\\",\\n            \\\"of\\\",\\n            \\\"the\\\",\\n            \\\"The\\\",\\n            \\\"since\\\",\\n            \\\"on\\\",\\n            \\\"nd\\\",\\n            \\\"th\\\",\\n            \\\"for\\\",\\n            \\\"to\\\",\\n            \\\"&\\\",\\n            \\\"de\\\",\\n            \\\"winner\\\",\\n            \\\"in\\\",\\n            \\\"at\\\",\\n            \\\"this\\\",\\n        ]\\n    )\\n)\\n\\n# Dropping values that occur fewer than 3 times\\nroles_list = roles_list[roles_list > 2]\\n\\n# Converting back to list\\nroles_list = roles_list.index.tolist()\\n\\nprint(f\\\"There are {len(roles_list)} remaining unique individual words in roles_list.\\\\n\\\")\";\n",
       "                var nbb_formatted_code = \"## Combining `info_parenth_copy` Values into a Single List of Unique Values for Searching\\n\\n# Creating a single list of info_parenth_copy values\\nroles_list = df[\\\"info_parenth_copy\\\"].value_counts().index.tolist()\\n\\n# Converting to a single string and removing commas, semicolons, and extra whitespace\\nroles_list = (\\n    \\\" \\\".join(roles_list).replace(\\\",\\\", \\\"\\\").replace(\\\";\\\", \\\"\\\").replace(\\\"  \\\", \\\" \\\").strip()\\n)\\n\\n# Splitting into a list of individual words and converting to a Series to easily check value counts\\nroles_list = roles_list.split()\\n\\n# Converting to a series for value_counts in ascending order for use of pop() on most frequent values first\\n# and dropping obvious extraneous values\\nroles_list = (\\n    pd.Series(roles_list)\\n    .value_counts(ascending=True)\\n    .drop(\\n        [\\n            \\\"and\\\",\\n            \\\"of\\\",\\n            \\\"the\\\",\\n            \\\"The\\\",\\n            \\\"since\\\",\\n            \\\"on\\\",\\n            \\\"nd\\\",\\n            \\\"th\\\",\\n            \\\"for\\\",\\n            \\\"to\\\",\\n            \\\"&\\\",\\n            \\\"de\\\",\\n            \\\"winner\\\",\\n            \\\"in\\\",\\n            \\\"at\\\",\\n            \\\"this\\\",\\n        ]\\n    )\\n)\\n\\n# Dropping values that occur fewer than 3 times\\nroles_list = roles_list[roles_list > 2]\\n\\n# Converting back to list\\nroles_list = roles_list.index.tolist()\\n\\nprint(f\\\"There are {len(roles_list)} remaining unique individual words in roles_list.\\\\n\\\")\";\n",
       "                var nbb_cells = Jupyter.notebook.get_cells();\n",
       "                for (var i = 0; i < nbb_cells.length; ++i) {\n",
       "                    if (nbb_cells[i].input_prompt_number == nbb_cell_id) {\n",
       "                        if (nbb_cells[i].get_text() == nbb_unformatted_code) {\n",
       "                             nbb_cells[i].set_text(nbb_formatted_code);\n",
       "                        }\n",
       "                        break;\n",
       "                    }\n",
       "                }\n",
       "            }, 500);\n",
       "            "
      ],
      "text/plain": [
       "<IPython.core.display.Javascript object>"
      ]
     },
     "metadata": {},
     "output_type": "display_data"
    }
   ],
   "source": [
    "## Combining `info_parenth_copy` Values into a Single List of Unique Values for Searching\n",
    "\n",
    "# Creating a single list of info_parenth_copy values\n",
    "roles_list = df[\"info_parenth_copy\"].value_counts().index.tolist()\n",
    "\n",
    "# Converting to a single string and removing commas, semicolons, and extra whitespace\n",
    "roles_list = (\n",
    "    \" \".join(roles_list).replace(\",\", \"\").replace(\";\", \"\").replace(\"  \", \" \").strip()\n",
    ")\n",
    "\n",
    "# Splitting into a list of individual words and converting to a Series to easily check value counts\n",
    "roles_list = roles_list.split()\n",
    "\n",
    "# Converting to a series for value_counts in ascending order for use of pop() on most frequent values first\n",
    "# and dropping obvious extraneous values\n",
    "roles_list = (\n",
    "    pd.Series(roles_list)\n",
    "    .value_counts(ascending=True)\n",
    "    .drop(\n",
    "        [\n",
    "            \"and\",\n",
    "            \"of\",\n",
    "            \"the\",\n",
    "            \"The\",\n",
    "            \"since\",\n",
    "            \"on\",\n",
    "            \"nd\",\n",
    "            \"th\",\n",
    "            \"for\",\n",
    "            \"to\",\n",
    "            \"&\",\n",
    "            \"de\",\n",
    "            \"winner\",\n",
    "            \"in\",\n",
    "            \"at\",\n",
    "            \"this\",\n",
    "        ]\n",
    "    )\n",
    ")\n",
    "\n",
    "# Dropping values that occur fewer than 3 times\n",
    "roles_list = roles_list[roles_list > 2]\n",
    "\n",
    "# Converting back to list\n",
    "roles_list = roles_list.index.tolist()\n",
    "\n",
    "print(f\"There are {len(roles_list)} remaining unique individual words in roles_list.\\n\")"
   ]
  },
  {
   "cell_type": "code",
   "execution_count": 33,
   "id": "04e8790b",
   "metadata": {},
   "outputs": [
    {
     "data": {
      "application/javascript": [
       "\n",
       "            setTimeout(function() {\n",
       "                var nbb_cell_id = 33;\n",
       "                var nbb_unformatted_code = \"# # Example code to check each value in roles_list in descending order of frequency\\n# value = roles_list.pop()\\n# value\";\n",
       "                var nbb_formatted_code = \"# # Example code to check each value in roles_list in descending order of frequency\\n# value = roles_list.pop()\\n# value\";\n",
       "                var nbb_cells = Jupyter.notebook.get_cells();\n",
       "                for (var i = 0; i < nbb_cells.length; ++i) {\n",
       "                    if (nbb_cells[i].input_prompt_number == nbb_cell_id) {\n",
       "                        if (nbb_cells[i].get_text() == nbb_unformatted_code) {\n",
       "                             nbb_cells[i].set_text(nbb_formatted_code);\n",
       "                        }\n",
       "                        break;\n",
       "                    }\n",
       "                }\n",
       "            }, 500);\n",
       "            "
      ],
      "text/plain": [
       "<IPython.core.display.Javascript object>"
      ]
     },
     "metadata": {},
     "output_type": "display_data"
    }
   ],
   "source": [
    "# # Example code to check each value in roles_list in descending order of frequency\n",
    "# value = roles_list.pop()\n",
    "# value"
   ]
  },
  {
   "cell_type": "code",
   "execution_count": 34,
   "id": "369db37e",
   "metadata": {},
   "outputs": [
    {
     "data": {
      "application/javascript": [
       "\n",
       "            setTimeout(function() {\n",
       "                var nbb_cell_id = 34;\n",
       "                var nbb_unformatted_code = \"# # Create specific_roles_cause_list for above popped value\\n# # only checking entries not already in category associated with popped value\\n# specific_roles_cause_list = (\\n#     df.loc[\\n#         [\\n#             index\\n#             for index in df[\\n#                 (df[\\\"info_parenth_copy\\\"].notna())\\n#                 & (df[\\\"politics_govt_law\\\"] == 0)\\n#                 #                 & (df[\\\"law_enf_military_operator\\\"] == 0)\\n#                 #                 & (df[\\\"spiritual\\\"] == 0)\\n#                 #                 & (df[\\\"sports\\\"] == 0)\\n#                 #                 & (df[\\\"academia_humanities\\\"] == 0)\\n#                 #                 & (df[\\\"arts\\\"] == 0)\\n#                 #                 & (df[\\\"business_farming\\\"] == 0)\\n#             ].index\\n#             if value in df.loc[index, \\\"info_parenth_copy\\\"]\\n#         ],\\n#         \\\"info_parenth_copy\\\",\\n#     ]\\n#     .value_counts()\\n#     .index.tolist()\\n# )\";\n",
       "                var nbb_formatted_code = \"# # Create specific_roles_cause_list for above popped value\\n# # only checking entries not already in category associated with popped value\\n# specific_roles_cause_list = (\\n#     df.loc[\\n#         [\\n#             index\\n#             for index in df[\\n#                 (df[\\\"info_parenth_copy\\\"].notna())\\n#                 & (df[\\\"politics_govt_law\\\"] == 0)\\n#                 #                 & (df[\\\"law_enf_military_operator\\\"] == 0)\\n#                 #                 & (df[\\\"spiritual\\\"] == 0)\\n#                 #                 & (df[\\\"sports\\\"] == 0)\\n#                 #                 & (df[\\\"academia_humanities\\\"] == 0)\\n#                 #                 & (df[\\\"arts\\\"] == 0)\\n#                 #                 & (df[\\\"business_farming\\\"] == 0)\\n#             ].index\\n#             if value in df.loc[index, \\\"info_parenth_copy\\\"]\\n#         ],\\n#         \\\"info_parenth_copy\\\",\\n#     ]\\n#     .value_counts()\\n#     .index.tolist()\\n# )\";\n",
       "                var nbb_cells = Jupyter.notebook.get_cells();\n",
       "                for (var i = 0; i < nbb_cells.length; ++i) {\n",
       "                    if (nbb_cells[i].input_prompt_number == nbb_cell_id) {\n",
       "                        if (nbb_cells[i].get_text() == nbb_unformatted_code) {\n",
       "                             nbb_cells[i].set_text(nbb_formatted_code);\n",
       "                        }\n",
       "                        break;\n",
       "                    }\n",
       "                }\n",
       "            }, 500);\n",
       "            "
      ],
      "text/plain": [
       "<IPython.core.display.Javascript object>"
      ]
     },
     "metadata": {},
     "output_type": "display_data"
    }
   ],
   "source": [
    "# # Create specific_roles_cause_list for above popped value\n",
    "# # only checking entries not already in category associated with popped value\n",
    "# specific_roles_cause_list = (\n",
    "#     df.loc[\n",
    "#         [\n",
    "#             index\n",
    "#             for index in df[\n",
    "#                 (df[\"info_parenth_copy\"].notna())\n",
    "#                 & (df[\"politics_govt_law\"] == 0)\n",
    "#                 #                 & (df[\"law_enf_military_operator\"] == 0)\n",
    "#                 #                 & (df[\"spiritual\"] == 0)\n",
    "#                 #                 & (df[\"sports\"] == 0)\n",
    "#                 #                 & (df[\"academia_humanities\"] == 0)\n",
    "#                 #                 & (df[\"arts\"] == 0)\n",
    "#                 #                 & (df[\"business_farming\"] == 0)\n",
    "#             ].index\n",
    "#             if value in df.loc[index, \"info_parenth_copy\"]\n",
    "#         ],\n",
    "#         \"info_parenth_copy\",\n",
    "#     ]\n",
    "#     .value_counts()\n",
    "#     .index.tolist()\n",
    "# )"
   ]
  },
  {
   "cell_type": "code",
   "execution_count": 35,
   "id": "63110c12",
   "metadata": {},
   "outputs": [
    {
     "data": {
      "application/javascript": [
       "\n",
       "            setTimeout(function() {\n",
       "                var nbb_cell_id = 35;\n",
       "                var nbb_unformatted_code = \"# # Viewing list sorted by descending length to copy to dictionary below and screen values\\n# sorted(specific_roles_cause_list, key=lambda x: len(x), reverse=True)\";\n",
       "                var nbb_formatted_code = \"# # Viewing list sorted by descending length to copy to dictionary below and screen values\\n# sorted(specific_roles_cause_list, key=lambda x: len(x), reverse=True)\";\n",
       "                var nbb_cells = Jupyter.notebook.get_cells();\n",
       "                for (var i = 0; i < nbb_cells.length; ++i) {\n",
       "                    if (nbb_cells[i].input_prompt_number == nbb_cell_id) {\n",
       "                        if (nbb_cells[i].get_text() == nbb_unformatted_code) {\n",
       "                             nbb_cells[i].set_text(nbb_formatted_code);\n",
       "                        }\n",
       "                        break;\n",
       "                    }\n",
       "                }\n",
       "            }, 500);\n",
       "            "
      ],
      "text/plain": [
       "<IPython.core.display.Javascript object>"
      ]
     },
     "metadata": {},
     "output_type": "display_data"
    }
   ],
   "source": [
    "# # Viewing list sorted by descending length to copy to dictionary below and screen values\n",
    "# sorted(specific_roles_cause_list, key=lambda x: len(x), reverse=True)"
   ]
  },
  {
   "cell_type": "code",
   "execution_count": 36,
   "id": "a33813b9",
   "metadata": {},
   "outputs": [
    {
     "data": {
      "application/javascript": [
       "\n",
       "            setTimeout(function() {\n",
       "                var nbb_cell_id = 36;\n",
       "                var nbb_unformatted_code = \"# # Checking individua entries as needed\\n# df[df[column] == \\\"The Cardinals\\\"]\";\n",
       "                var nbb_formatted_code = \"# # Checking individua entries as needed\\n# df[df[column] == \\\"The Cardinals\\\"]\";\n",
       "                var nbb_cells = Jupyter.notebook.get_cells();\n",
       "                for (var i = 0; i < nbb_cells.length; ++i) {\n",
       "                    if (nbb_cells[i].input_prompt_number == nbb_cell_id) {\n",
       "                        if (nbb_cells[i].get_text() == nbb_unformatted_code) {\n",
       "                             nbb_cells[i].set_text(nbb_formatted_code);\n",
       "                        }\n",
       "                        break;\n",
       "                    }\n",
       "                }\n",
       "            }, 500);\n",
       "            "
      ],
      "text/plain": [
       "<IPython.core.display.Javascript object>"
      ]
     },
     "metadata": {},
     "output_type": "display_data"
    }
   ],
   "source": [
    "# # Checking individua entries as needed\n",
    "# df[df[column] == \"The Cardinals\"]"
   ]
  },
  {
   "cell_type": "markdown",
   "id": "24ec1908",
   "metadata": {},
   "source": [
    "#### Creating Lists for Each `known_for` Category and for `cause_of_death`"
   ]
  },
  {
   "cell_type": "code",
   "execution_count": 37,
   "id": "2cd04466",
   "metadata": {},
   "outputs": [
    {
     "data": {
      "application/javascript": [
       "\n",
       "            setTimeout(function() {\n",
       "                var nbb_cell_id = 37;\n",
       "                var nbb_unformatted_code = \"# Creating lists for each category and sorting by decreasing length and removing duplicates\\n\\npolitics_govt_law = [\\n    \\\"Middletown and politician, Senator and Deputy First Minister\\\",\\n    \\\"Deputy Minister of Foreign Affairs and politician,\\\",\\n    \\\", Minister of Military Production\\\",\\n    \\\"and Minister of Education\\\",\\n    \\\"and politician, member of the Arizona House of Representatives and Senate\\\",\\n    \\\"and politician, member of the Tennessee House of Representatives\\\",\\n    \\\"and politician, member of the House of Representatives\\\",\\n    \\\"House of Representatives and politician, member of the Senate and\\\",\\n    \\\"Dewan Negara, director and politician, member of the\\\",\\n    \\\"Landtag of Bavaria, , and politician, member of the\\\",\\n    \\\"House of Councillors and singer, member of the\\\",\\n    \\\"Sejm, member of the\\\",\\n    \\\"John Paul II Catholic University of Lublin and member of the Senate\\\",\\n    \\\"Michigan Wolverines, Eastern Michigan Eagles and politician, member of the Michigan House of Representatives\\\",\\n    \\\"Detroit Tigers, Philadelphia Phillies and politician, member of the House of Representatives and Senator\\\",\\n    \\\"Montreal Alouettes, Duke Blue Devils, Baltimore Colts and politician, member of the Maryland Senate\\\",\\n    \\\"Winnipeg Blue Bombers and politician, member of the Washington House of Representatives and Senate\\\",\\n    \\\"San Francisco ers and politician, member of the State Assembly and County Board of Supervisors\\\",\\n    \\\"Tennessee Volunteers and politician, member of the House of Representatives and Senate\\\",\\n    \\\"Detroit Lions, businessman and politician, member of the House of Representatives\\\",\\n    \\\"St Louis Cardinals, Dolphins and politician, member of the Nebraska Legislature\\\",\\n    \\\"Giants and politician, member of the Minnesota House of Representatives\\\",\\n    \\\"WBRE TV and politician, member of the House of Representatives since\\\",\\n    \\\"Augusta National Golf Club, member of the House of Representatives\\\",\\n    \\\"Oglethorpe and politician, member of the House of Representatives\\\",\\n    \\\"Oakland Raiders and politician, member of the Minnesota Senate\\\",\\n    \\\"Gators and politician, member of the House of Representatives\\\",\\n    \\\"Cleveland Browns and politician, member of the Ohio Senate\\\",\\n    \\\"and member of the House of Lords since\\\",\\n    \\\"Random House and human rights activist Helsinki Watch\\\",\\n    \\\"and member of the House of Lords since\\\",\\n    \\\"Royal Opera House, and conductor\\\",\\n    \\\"Parliament House, Canberra\\\",\\n    \\\"Sydney Opera House\\\",\\n    \\\"Cairo Opera House\\\",\\n    \\\"Ballymaloe House\\\",\\n    \\\"Crowded House\\\",\\n    \\\"Random House\\\",\\n    \\\"Feral House\\\",\\n    \\\"Chaos theory, Chief Scientific Advisor to the Government\\\",\\n    \\\"Journalists' Union of the Athens Daily Newspapers and politician, MEP and Vice President\\\",\\n    \\\"National Rifle Association of America, Oscar, , President of the , winner\\\",\\n    \\\"Pulitzer Prize for Presidential Medal of Freedom, Order of the South,\\\",\\n    \\\"caretaker minister of information & broadcasting and politician,\\\",\\n    \\\"minister of culture, , and politician,\\\",\\n    \\\"minister of culture, ,\\\",\\n    \\\"Toronto Maple Leafs, commentator MP and politician, Stanley Cup\\\",\\n    \\\"MP and politician, Liberal People Party , and leader of the\\\",\\n    \\\"Detroit Red Wings, Toronto Maple Leafs and politician, MP\\\",\\n    \\\"Venizelos SA and politician, MP , and Deputy Speaker\\\",\\n    \\\"Interacting boson model and politician, MP\\\",\\n    \\\"MP, human rights activist and politician,\\\",\\n    \\\"WF and politician, MP for Stirling\\\",\\n    \\\"MP, civic activist and politician,\\\",\\n    \\\", , economist, and politician, MP\\\",\\n    \\\"LRT televizija and politician, MP\\\",\\n    \\\"MP, , , composer and politician,\\\",\\n    \\\"Partex Group and politician, MP\\\",\\n    \\\"MP, MEP, and politician, , , ,\\\",\\n    \\\"MLA, MP, and politician, and\\\",\\n    \\\", coach and politician, MP\\\",\\n    \\\"MP, and politician, since\\\",\\n    \\\"Rustavi Ensemble, MP\\\",\\n    \\\"MP, and politician,\\\",\\n    \\\"MP and politician,\\\",\\n    \\\"and politician, MP\\\",\\n    \\\"MP, , ,\\\",\\n    \\\", MP, ,\\\",\\n    \\\"Chicago Cardinals St Louis Cardinals and politician, mayor of Starkville,\\\",\\n    \\\"Cleveland Browns, Baltimore Ravens and politician, mayor of Tangipahoa,\\\",\\n    \\\"Brainerd International Raceway and politician, mayor of Flint, Michigan\\\",\\n    \\\"L\\u00e9zignan, national team and politician, mayor of L\\u00e9zignan Corbi\\u00e8res\\\",\\n    \\\"PGA Tour, Tour and politician, mayor of Villa Allende since\\\",\\n    \\\"and politician, mayor of Ouray, Colorado\\\",\\n]\\npolitics_govt_law = sorted(\\n    list(set(politics_govt_law)), key=lambda x: len(x), reverse=True\\n)\\n\\narts = [\\n    \\\"Minister Frederick Gray in the James Bond films\\\",\\n    \\\"WCGA and TV WTVC broadcaster\\\",\\n    \\\"The Wrecking Crew and original member of Herb Alpert Tijuana Brass\\\",\\n    \\\"Agence Presse, member\\\",\\n    \\\"Rams, member of Pro Football Hall of Fame, and actor ,\\\",\\n    \\\"Sydney Opera House\\\",\\n    \\\"News Corporation, President of the Academy of Television Arts & Sciences since\\\",\\n    \\\"Royal Court Theatre\\\",\\n]\\narts = sorted(list(set(arts)), key=lambda x: len(x), reverse=True)\\n\\nsports = [\\n    \\\"and sports team owner Islanders\\\",\\n    \\\"and rugby union player national team, Wellington\\\",\\n    \\\"and owner of the New Patriots football team\\\",\\n    \\\"and sports team owner Dolphins, Panthers\\\",\\n    \\\"and sports team owner Orlando Magic\\\",\\n    \\\"and Baseball team owner Mets\\\",\\n    \\\"and college football coach Columbia University\\\",\\n    \\\"ThyssenKrupp, member of IOC\\\",\\n    \\\"Plugged Nickle, member of National Museum of Racing and Hall of Fame\\\",\\n    \\\"FC K\\u00f6ln, member of World Cup winning team\\\",\\n    \\\"since and member of FIFA Council since\\\",\\n    \\\"TVS, CBS Sports, Sportsvision and baseball Chicago White Sox\\\",\\n    \\\"and baseball player Memphis Red Sox\\\",\\n    \\\"baseball beat and San Francisco Giants writer J G Taylor Spink Award, recipient of the\\\",\\n    \\\"Yankees, Giants\\\",\\n    \\\", Senator for Minnesota , Olympic silver medalist in ice hockey\\\",\\n    \\\", and Olympic eventing chef d'\\u00e9quipe ,\\\",\\n    \\\", President of Olympic Committee\\\",\\n    \\\", Olympic speed skater\\\",\\n    \\\", and Olympic swimmer ,\\\",\\n    \\\"Olympic medallist,\\\",\\n    \\\"Little Caesars, Detroit Red Wings, Detroit Tigers\\\",\\n]\\nsports = sorted(list(set(sports)), key=lambda x: len(x), reverse=True)\\n\\nsciences = [\\n    \\\"operated on President John Fitzgerald Kennedy and Lee Harvey Oswald\\\",\\n]\\nsciences = sorted(list(set(sciences)), key=lambda x: len(x), reverse=True)\\n\\nbusiness_farming = [\\n    \\\"Uni President Enterprises Corporation death announced on this date\\\",\\n    \\\"and Air , President of Delta Air Lines\\\",\\n]\\nbusiness_farming = sorted(\\n    list(set(business_farming)), key=lambda x: len(x), reverse=True\\n)\\n\\nacademia_humanities = [\\n    \\\"Northern Arizona University\\\",\\n    \\\"and President of Royal Society\\\",\\n    \\\"University of Chicago, President of Physical Society\\\",\\n    \\\"Graham number, President of the Mathematical Society\\\",\\n    \\\"HIV, President of the International  Society\\\",\\n    \\\"National Gypsum and academic administrator, President of the UNC\\\",\\n    \\\"Clemson Tigers and academic administrator, President of Clemson University\\\",\\n]\\nacademia_humanities = sorted(\\n    list(set(academia_humanities)), key=lambda x: len(x), reverse=True\\n)\\n\\nlaw_enf_military_operator = [\\n    \\\"People Army, Minister of Defence\\\",\\n    \\\", first Defence Minister of ia\\\",\\n    \\\"and Minister of Defence of\\\",\\n    \\\"and Minister of Defense\\\",\\n    \\\"Flying Tigers\\\",\\n]\\nlaw_enf_military_operator = sorted(\\n    list(set(law_enf_military_operator)), key=lambda x: len(x), reverse=True\\n)\\n\\nspiritual = [\\n    \\\"and dean of the College of Cardinals\\\",\\n]\\nspiritual = sorted(list(set(spiritual)), key=lambda x: len(x), reverse=True)\\n\\nsocial = []\\nsocial = sorted(list(set(social)), key=lambda x: len(x), reverse=True)\\n\\ncrime = [\\n    \\\"'Manson Family' member\\\",\\n]\\ncrime = sorted(list(set(crime)), key=lambda x: len(x), reverse=True)\\n\\nevent_record_other = []\\nevent_record_other = sorted(\\n    list(set(event_record_other)), key=lambda x: len(x), reverse=True\\n)\\n\\nother_species = []\\nother_species = sorted(list(set(other_species)), key=lambda x: len(x), reverse=True)\\n\\ncause_of_death = []\\ncause_of_death = sorted(list(set(cause_of_death)), key=lambda x: len(x), reverse=True)\";\n",
       "                var nbb_formatted_code = \"# Creating lists for each category and sorting by decreasing length and removing duplicates\\n\\npolitics_govt_law = [\\n    \\\"Middletown and politician, Senator and Deputy First Minister\\\",\\n    \\\"Deputy Minister of Foreign Affairs and politician,\\\",\\n    \\\", Minister of Military Production\\\",\\n    \\\"and Minister of Education\\\",\\n    \\\"and politician, member of the Arizona House of Representatives and Senate\\\",\\n    \\\"and politician, member of the Tennessee House of Representatives\\\",\\n    \\\"and politician, member of the House of Representatives\\\",\\n    \\\"House of Representatives and politician, member of the Senate and\\\",\\n    \\\"Dewan Negara, director and politician, member of the\\\",\\n    \\\"Landtag of Bavaria, , and politician, member of the\\\",\\n    \\\"House of Councillors and singer, member of the\\\",\\n    \\\"Sejm, member of the\\\",\\n    \\\"John Paul II Catholic University of Lublin and member of the Senate\\\",\\n    \\\"Michigan Wolverines, Eastern Michigan Eagles and politician, member of the Michigan House of Representatives\\\",\\n    \\\"Detroit Tigers, Philadelphia Phillies and politician, member of the House of Representatives and Senator\\\",\\n    \\\"Montreal Alouettes, Duke Blue Devils, Baltimore Colts and politician, member of the Maryland Senate\\\",\\n    \\\"Winnipeg Blue Bombers and politician, member of the Washington House of Representatives and Senate\\\",\\n    \\\"San Francisco ers and politician, member of the State Assembly and County Board of Supervisors\\\",\\n    \\\"Tennessee Volunteers and politician, member of the House of Representatives and Senate\\\",\\n    \\\"Detroit Lions, businessman and politician, member of the House of Representatives\\\",\\n    \\\"St Louis Cardinals, Dolphins and politician, member of the Nebraska Legislature\\\",\\n    \\\"Giants and politician, member of the Minnesota House of Representatives\\\",\\n    \\\"WBRE TV and politician, member of the House of Representatives since\\\",\\n    \\\"Augusta National Golf Club, member of the House of Representatives\\\",\\n    \\\"Oglethorpe and politician, member of the House of Representatives\\\",\\n    \\\"Oakland Raiders and politician, member of the Minnesota Senate\\\",\\n    \\\"Gators and politician, member of the House of Representatives\\\",\\n    \\\"Cleveland Browns and politician, member of the Ohio Senate\\\",\\n    \\\"and member of the House of Lords since\\\",\\n    \\\"Random House and human rights activist Helsinki Watch\\\",\\n    \\\"and member of the House of Lords since\\\",\\n    \\\"Royal Opera House, and conductor\\\",\\n    \\\"Parliament House, Canberra\\\",\\n    \\\"Sydney Opera House\\\",\\n    \\\"Cairo Opera House\\\",\\n    \\\"Ballymaloe House\\\",\\n    \\\"Crowded House\\\",\\n    \\\"Random House\\\",\\n    \\\"Feral House\\\",\\n    \\\"Chaos theory, Chief Scientific Advisor to the Government\\\",\\n    \\\"Journalists' Union of the Athens Daily Newspapers and politician, MEP and Vice President\\\",\\n    \\\"National Rifle Association of America, Oscar, , President of the , winner\\\",\\n    \\\"Pulitzer Prize for Presidential Medal of Freedom, Order of the South,\\\",\\n    \\\"caretaker minister of information & broadcasting and politician,\\\",\\n    \\\"minister of culture, , and politician,\\\",\\n    \\\"minister of culture, ,\\\",\\n    \\\"Toronto Maple Leafs, commentator MP and politician, Stanley Cup\\\",\\n    \\\"MP and politician, Liberal People Party , and leader of the\\\",\\n    \\\"Detroit Red Wings, Toronto Maple Leafs and politician, MP\\\",\\n    \\\"Venizelos SA and politician, MP , and Deputy Speaker\\\",\\n    \\\"Interacting boson model and politician, MP\\\",\\n    \\\"MP, human rights activist and politician,\\\",\\n    \\\"WF and politician, MP for Stirling\\\",\\n    \\\"MP, civic activist and politician,\\\",\\n    \\\", , economist, and politician, MP\\\",\\n    \\\"LRT televizija and politician, MP\\\",\\n    \\\"MP, , , composer and politician,\\\",\\n    \\\"Partex Group and politician, MP\\\",\\n    \\\"MP, MEP, and politician, , , ,\\\",\\n    \\\"MLA, MP, and politician, and\\\",\\n    \\\", coach and politician, MP\\\",\\n    \\\"MP, and politician, since\\\",\\n    \\\"Rustavi Ensemble, MP\\\",\\n    \\\"MP, and politician,\\\",\\n    \\\"MP and politician,\\\",\\n    \\\"and politician, MP\\\",\\n    \\\"MP, , ,\\\",\\n    \\\", MP, ,\\\",\\n    \\\"Chicago Cardinals St Louis Cardinals and politician, mayor of Starkville,\\\",\\n    \\\"Cleveland Browns, Baltimore Ravens and politician, mayor of Tangipahoa,\\\",\\n    \\\"Brainerd International Raceway and politician, mayor of Flint, Michigan\\\",\\n    \\\"L\\u00e9zignan, national team and politician, mayor of L\\u00e9zignan Corbi\\u00e8res\\\",\\n    \\\"PGA Tour, Tour and politician, mayor of Villa Allende since\\\",\\n    \\\"and politician, mayor of Ouray, Colorado\\\",\\n]\\npolitics_govt_law = sorted(\\n    list(set(politics_govt_law)), key=lambda x: len(x), reverse=True\\n)\\n\\narts = [\\n    \\\"Minister Frederick Gray in the James Bond films\\\",\\n    \\\"WCGA and TV WTVC broadcaster\\\",\\n    \\\"The Wrecking Crew and original member of Herb Alpert Tijuana Brass\\\",\\n    \\\"Agence Presse, member\\\",\\n    \\\"Rams, member of Pro Football Hall of Fame, and actor ,\\\",\\n    \\\"Sydney Opera House\\\",\\n    \\\"News Corporation, President of the Academy of Television Arts & Sciences since\\\",\\n    \\\"Royal Court Theatre\\\",\\n]\\narts = sorted(list(set(arts)), key=lambda x: len(x), reverse=True)\\n\\nsports = [\\n    \\\"and sports team owner Islanders\\\",\\n    \\\"and rugby union player national team, Wellington\\\",\\n    \\\"and owner of the New Patriots football team\\\",\\n    \\\"and sports team owner Dolphins, Panthers\\\",\\n    \\\"and sports team owner Orlando Magic\\\",\\n    \\\"and Baseball team owner Mets\\\",\\n    \\\"and college football coach Columbia University\\\",\\n    \\\"ThyssenKrupp, member of IOC\\\",\\n    \\\"Plugged Nickle, member of National Museum of Racing and Hall of Fame\\\",\\n    \\\"FC K\\u00f6ln, member of World Cup winning team\\\",\\n    \\\"since and member of FIFA Council since\\\",\\n    \\\"TVS, CBS Sports, Sportsvision and baseball Chicago White Sox\\\",\\n    \\\"and baseball player Memphis Red Sox\\\",\\n    \\\"baseball beat and San Francisco Giants writer J G Taylor Spink Award, recipient of the\\\",\\n    \\\"Yankees, Giants\\\",\\n    \\\", Senator for Minnesota , Olympic silver medalist in ice hockey\\\",\\n    \\\", and Olympic eventing chef d'\\u00e9quipe ,\\\",\\n    \\\", President of Olympic Committee\\\",\\n    \\\", Olympic speed skater\\\",\\n    \\\", and Olympic swimmer ,\\\",\\n    \\\"Olympic medallist,\\\",\\n    \\\"Little Caesars, Detroit Red Wings, Detroit Tigers\\\",\\n]\\nsports = sorted(list(set(sports)), key=lambda x: len(x), reverse=True)\\n\\nsciences = [\\n    \\\"operated on President John Fitzgerald Kennedy and Lee Harvey Oswald\\\",\\n]\\nsciences = sorted(list(set(sciences)), key=lambda x: len(x), reverse=True)\\n\\nbusiness_farming = [\\n    \\\"Uni President Enterprises Corporation death announced on this date\\\",\\n    \\\"and Air , President of Delta Air Lines\\\",\\n]\\nbusiness_farming = sorted(\\n    list(set(business_farming)), key=lambda x: len(x), reverse=True\\n)\\n\\nacademia_humanities = [\\n    \\\"Northern Arizona University\\\",\\n    \\\"and President of Royal Society\\\",\\n    \\\"University of Chicago, President of Physical Society\\\",\\n    \\\"Graham number, President of the Mathematical Society\\\",\\n    \\\"HIV, President of the International  Society\\\",\\n    \\\"National Gypsum and academic administrator, President of the UNC\\\",\\n    \\\"Clemson Tigers and academic administrator, President of Clemson University\\\",\\n]\\nacademia_humanities = sorted(\\n    list(set(academia_humanities)), key=lambda x: len(x), reverse=True\\n)\\n\\nlaw_enf_military_operator = [\\n    \\\"People Army, Minister of Defence\\\",\\n    \\\", first Defence Minister of ia\\\",\\n    \\\"and Minister of Defence of\\\",\\n    \\\"and Minister of Defense\\\",\\n    \\\"Flying Tigers\\\",\\n]\\nlaw_enf_military_operator = sorted(\\n    list(set(law_enf_military_operator)), key=lambda x: len(x), reverse=True\\n)\\n\\nspiritual = [\\n    \\\"and dean of the College of Cardinals\\\",\\n]\\nspiritual = sorted(list(set(spiritual)), key=lambda x: len(x), reverse=True)\\n\\nsocial = []\\nsocial = sorted(list(set(social)), key=lambda x: len(x), reverse=True)\\n\\ncrime = [\\n    \\\"'Manson Family' member\\\",\\n]\\ncrime = sorted(list(set(crime)), key=lambda x: len(x), reverse=True)\\n\\nevent_record_other = []\\nevent_record_other = sorted(\\n    list(set(event_record_other)), key=lambda x: len(x), reverse=True\\n)\\n\\nother_species = []\\nother_species = sorted(list(set(other_species)), key=lambda x: len(x), reverse=True)\\n\\ncause_of_death = []\\ncause_of_death = sorted(list(set(cause_of_death)), key=lambda x: len(x), reverse=True)\";\n",
       "                var nbb_cells = Jupyter.notebook.get_cells();\n",
       "                for (var i = 0; i < nbb_cells.length; ++i) {\n",
       "                    if (nbb_cells[i].input_prompt_number == nbb_cell_id) {\n",
       "                        if (nbb_cells[i].get_text() == nbb_unformatted_code) {\n",
       "                             nbb_cells[i].set_text(nbb_formatted_code);\n",
       "                        }\n",
       "                        break;\n",
       "                    }\n",
       "                }\n",
       "            }, 500);\n",
       "            "
      ],
      "text/plain": [
       "<IPython.core.display.Javascript object>"
      ]
     },
     "metadata": {},
     "output_type": "display_data"
    }
   ],
   "source": [
    "# Creating lists for each category and sorting by decreasing length and removing duplicates\n",
    "\n",
    "politics_govt_law = [\n",
    "    \"Middletown and politician, Senator and Deputy First Minister\",\n",
    "    \"Deputy Minister of Foreign Affairs and politician,\",\n",
    "    \", Minister of Military Production\",\n",
    "    \"and Minister of Education\",\n",
    "    \"and politician, member of the Arizona House of Representatives and Senate\",\n",
    "    \"and politician, member of the Tennessee House of Representatives\",\n",
    "    \"and politician, member of the House of Representatives\",\n",
    "    \"House of Representatives and politician, member of the Senate and\",\n",
    "    \"Dewan Negara, director and politician, member of the\",\n",
    "    \"Landtag of Bavaria, , and politician, member of the\",\n",
    "    \"House of Councillors and singer, member of the\",\n",
    "    \"Sejm, member of the\",\n",
    "    \"John Paul II Catholic University of Lublin and member of the Senate\",\n",
    "    \"Michigan Wolverines, Eastern Michigan Eagles and politician, member of the Michigan House of Representatives\",\n",
    "    \"Detroit Tigers, Philadelphia Phillies and politician, member of the House of Representatives and Senator\",\n",
    "    \"Montreal Alouettes, Duke Blue Devils, Baltimore Colts and politician, member of the Maryland Senate\",\n",
    "    \"Winnipeg Blue Bombers and politician, member of the Washington House of Representatives and Senate\",\n",
    "    \"San Francisco ers and politician, member of the State Assembly and County Board of Supervisors\",\n",
    "    \"Tennessee Volunteers and politician, member of the House of Representatives and Senate\",\n",
    "    \"Detroit Lions, businessman and politician, member of the House of Representatives\",\n",
    "    \"St Louis Cardinals, Dolphins and politician, member of the Nebraska Legislature\",\n",
    "    \"Giants and politician, member of the Minnesota House of Representatives\",\n",
    "    \"WBRE TV and politician, member of the House of Representatives since\",\n",
    "    \"Augusta National Golf Club, member of the House of Representatives\",\n",
    "    \"Oglethorpe and politician, member of the House of Representatives\",\n",
    "    \"Oakland Raiders and politician, member of the Minnesota Senate\",\n",
    "    \"Gators and politician, member of the House of Representatives\",\n",
    "    \"Cleveland Browns and politician, member of the Ohio Senate\",\n",
    "    \"and member of the House of Lords since\",\n",
    "    \"Random House and human rights activist Helsinki Watch\",\n",
    "    \"and member of the House of Lords since\",\n",
    "    \"Royal Opera House, and conductor\",\n",
    "    \"Parliament House, Canberra\",\n",
    "    \"Sydney Opera House\",\n",
    "    \"Cairo Opera House\",\n",
    "    \"Ballymaloe House\",\n",
    "    \"Crowded House\",\n",
    "    \"Random House\",\n",
    "    \"Feral House\",\n",
    "    \"Chaos theory, Chief Scientific Advisor to the Government\",\n",
    "    \"Journalists' Union of the Athens Daily Newspapers and politician, MEP and Vice President\",\n",
    "    \"National Rifle Association of America, Oscar, , President of the , winner\",\n",
    "    \"Pulitzer Prize for Presidential Medal of Freedom, Order of the South,\",\n",
    "    \"caretaker minister of information & broadcasting and politician,\",\n",
    "    \"minister of culture, , and politician,\",\n",
    "    \"minister of culture, ,\",\n",
    "    \"Toronto Maple Leafs, commentator MP and politician, Stanley Cup\",\n",
    "    \"MP and politician, Liberal People Party , and leader of the\",\n",
    "    \"Detroit Red Wings, Toronto Maple Leafs and politician, MP\",\n",
    "    \"Venizelos SA and politician, MP , and Deputy Speaker\",\n",
    "    \"Interacting boson model and politician, MP\",\n",
    "    \"MP, human rights activist and politician,\",\n",
    "    \"WF and politician, MP for Stirling\",\n",
    "    \"MP, civic activist and politician,\",\n",
    "    \", , economist, and politician, MP\",\n",
    "    \"LRT televizija and politician, MP\",\n",
    "    \"MP, , , composer and politician,\",\n",
    "    \"Partex Group and politician, MP\",\n",
    "    \"MP, MEP, and politician, , , ,\",\n",
    "    \"MLA, MP, and politician, and\",\n",
    "    \", coach and politician, MP\",\n",
    "    \"MP, and politician, since\",\n",
    "    \"Rustavi Ensemble, MP\",\n",
    "    \"MP, and politician,\",\n",
    "    \"MP and politician,\",\n",
    "    \"and politician, MP\",\n",
    "    \"MP, , ,\",\n",
    "    \", MP, ,\",\n",
    "    \"Chicago Cardinals St Louis Cardinals and politician, mayor of Starkville,\",\n",
    "    \"Cleveland Browns, Baltimore Ravens and politician, mayor of Tangipahoa,\",\n",
    "    \"Brainerd International Raceway and politician, mayor of Flint, Michigan\",\n",
    "    \"Lézignan, national team and politician, mayor of Lézignan Corbières\",\n",
    "    \"PGA Tour, Tour and politician, mayor of Villa Allende since\",\n",
    "    \"and politician, mayor of Ouray, Colorado\",\n",
    "]\n",
    "politics_govt_law = sorted(\n",
    "    list(set(politics_govt_law)), key=lambda x: len(x), reverse=True\n",
    ")\n",
    "\n",
    "arts = [\n",
    "    \"Minister Frederick Gray in the James Bond films\",\n",
    "    \"WCGA and TV WTVC broadcaster\",\n",
    "    \"The Wrecking Crew and original member of Herb Alpert Tijuana Brass\",\n",
    "    \"Agence Presse, member\",\n",
    "    \"Rams, member of Pro Football Hall of Fame, and actor ,\",\n",
    "    \"Sydney Opera House\",\n",
    "    \"News Corporation, President of the Academy of Television Arts & Sciences since\",\n",
    "    \"Royal Court Theatre\",\n",
    "]\n",
    "arts = sorted(list(set(arts)), key=lambda x: len(x), reverse=True)\n",
    "\n",
    "sports = [\n",
    "    \"and sports team owner Islanders\",\n",
    "    \"and rugby union player national team, Wellington\",\n",
    "    \"and owner of the New Patriots football team\",\n",
    "    \"and sports team owner Dolphins, Panthers\",\n",
    "    \"and sports team owner Orlando Magic\",\n",
    "    \"and Baseball team owner Mets\",\n",
    "    \"and college football coach Columbia University\",\n",
    "    \"ThyssenKrupp, member of IOC\",\n",
    "    \"Plugged Nickle, member of National Museum of Racing and Hall of Fame\",\n",
    "    \"FC Köln, member of World Cup winning team\",\n",
    "    \"since and member of FIFA Council since\",\n",
    "    \"TVS, CBS Sports, Sportsvision and baseball Chicago White Sox\",\n",
    "    \"and baseball player Memphis Red Sox\",\n",
    "    \"baseball beat and San Francisco Giants writer J G Taylor Spink Award, recipient of the\",\n",
    "    \"Yankees, Giants\",\n",
    "    \", Senator for Minnesota , Olympic silver medalist in ice hockey\",\n",
    "    \", and Olympic eventing chef d'équipe ,\",\n",
    "    \", President of Olympic Committee\",\n",
    "    \", Olympic speed skater\",\n",
    "    \", and Olympic swimmer ,\",\n",
    "    \"Olympic medallist,\",\n",
    "    \"Little Caesars, Detroit Red Wings, Detroit Tigers\",\n",
    "]\n",
    "sports = sorted(list(set(sports)), key=lambda x: len(x), reverse=True)\n",
    "\n",
    "sciences = [\n",
    "    \"operated on President John Fitzgerald Kennedy and Lee Harvey Oswald\",\n",
    "]\n",
    "sciences = sorted(list(set(sciences)), key=lambda x: len(x), reverse=True)\n",
    "\n",
    "business_farming = [\n",
    "    \"Uni President Enterprises Corporation death announced on this date\",\n",
    "    \"and Air , President of Delta Air Lines\",\n",
    "]\n",
    "business_farming = sorted(\n",
    "    list(set(business_farming)), key=lambda x: len(x), reverse=True\n",
    ")\n",
    "\n",
    "academia_humanities = [\n",
    "    \"Northern Arizona University\",\n",
    "    \"and President of Royal Society\",\n",
    "    \"University of Chicago, President of Physical Society\",\n",
    "    \"Graham number, President of the Mathematical Society\",\n",
    "    \"HIV, President of the International  Society\",\n",
    "    \"National Gypsum and academic administrator, President of the UNC\",\n",
    "    \"Clemson Tigers and academic administrator, President of Clemson University\",\n",
    "]\n",
    "academia_humanities = sorted(\n",
    "    list(set(academia_humanities)), key=lambda x: len(x), reverse=True\n",
    ")\n",
    "\n",
    "law_enf_military_operator = [\n",
    "    \"People Army, Minister of Defence\",\n",
    "    \", first Defence Minister of ia\",\n",
    "    \"and Minister of Defence of\",\n",
    "    \"and Minister of Defense\",\n",
    "    \"Flying Tigers\",\n",
    "]\n",
    "law_enf_military_operator = sorted(\n",
    "    list(set(law_enf_military_operator)), key=lambda x: len(x), reverse=True\n",
    ")\n",
    "\n",
    "spiritual = [\n",
    "    \"and dean of the College of Cardinals\",\n",
    "]\n",
    "spiritual = sorted(list(set(spiritual)), key=lambda x: len(x), reverse=True)\n",
    "\n",
    "social = []\n",
    "social = sorted(list(set(social)), key=lambda x: len(x), reverse=True)\n",
    "\n",
    "crime = [\n",
    "    \"'Manson Family' member\",\n",
    "]\n",
    "crime = sorted(list(set(crime)), key=lambda x: len(x), reverse=True)\n",
    "\n",
    "event_record_other = []\n",
    "event_record_other = sorted(\n",
    "    list(set(event_record_other)), key=lambda x: len(x), reverse=True\n",
    ")\n",
    "\n",
    "other_species = []\n",
    "other_species = sorted(list(set(other_species)), key=lambda x: len(x), reverse=True)\n",
    "\n",
    "cause_of_death = []\n",
    "cause_of_death = sorted(list(set(cause_of_death)), key=lambda x: len(x), reverse=True)"
   ]
  },
  {
   "cell_type": "markdown",
   "id": "0b47d598",
   "metadata": {},
   "source": [
    "#### Creating `known_for_dict` Dictionary of Category Keys and Specific Role Lists of Values"
   ]
  },
  {
   "cell_type": "code",
   "execution_count": 38,
   "id": "1af04a00",
   "metadata": {},
   "outputs": [
    {
     "data": {
      "application/javascript": [
       "\n",
       "            setTimeout(function() {\n",
       "                var nbb_cell_id = 38;\n",
       "                var nbb_unformatted_code = \"# Combining separate lists into one dictionary\\nknown_for_dict = {\\n    \\\"social\\\": social,\\n    \\\"spiritual\\\": spiritual,\\n    \\\"academia_humanities\\\": academia_humanities,\\n    \\\"business_farming\\\": business_farming,\\n    \\\"sciences\\\": sciences,\\n    \\\"politics_govt_law\\\": politics_govt_law,\\n    \\\"law_enf_military_operator\\\": law_enf_military_operator,\\n    \\\"crime\\\": crime,\\n    \\\"event_record_other\\\": event_record_other,\\n    \\\"other_species\\\": other_species,\\n    \\\"arts\\\": arts,\\n    \\\"sports\\\": sports,\\n}\";\n",
       "                var nbb_formatted_code = \"# Combining separate lists into one dictionary\\nknown_for_dict = {\\n    \\\"social\\\": social,\\n    \\\"spiritual\\\": spiritual,\\n    \\\"academia_humanities\\\": academia_humanities,\\n    \\\"business_farming\\\": business_farming,\\n    \\\"sciences\\\": sciences,\\n    \\\"politics_govt_law\\\": politics_govt_law,\\n    \\\"law_enf_military_operator\\\": law_enf_military_operator,\\n    \\\"crime\\\": crime,\\n    \\\"event_record_other\\\": event_record_other,\\n    \\\"other_species\\\": other_species,\\n    \\\"arts\\\": arts,\\n    \\\"sports\\\": sports,\\n}\";\n",
       "                var nbb_cells = Jupyter.notebook.get_cells();\n",
       "                for (var i = 0; i < nbb_cells.length; ++i) {\n",
       "                    if (nbb_cells[i].input_prompt_number == nbb_cell_id) {\n",
       "                        if (nbb_cells[i].get_text() == nbb_unformatted_code) {\n",
       "                             nbb_cells[i].set_text(nbb_formatted_code);\n",
       "                        }\n",
       "                        break;\n",
       "                    }\n",
       "                }\n",
       "            }, 500);\n",
       "            "
      ],
      "text/plain": [
       "<IPython.core.display.Javascript object>"
      ]
     },
     "metadata": {},
     "output_type": "display_data"
    }
   ],
   "source": [
    "# Combining separate lists into one dictionary\n",
    "known_for_dict = {\n",
    "    \"social\": social,\n",
    "    \"spiritual\": spiritual,\n",
    "    \"academia_humanities\": academia_humanities,\n",
    "    \"business_farming\": business_farming,\n",
    "    \"sciences\": sciences,\n",
    "    \"politics_govt_law\": politics_govt_law,\n",
    "    \"law_enf_military_operator\": law_enf_military_operator,\n",
    "    \"crime\": crime,\n",
    "    \"event_record_other\": event_record_other,\n",
    "    \"other_species\": other_species,\n",
    "    \"arts\": arts,\n",
    "    \"sports\": sports,\n",
    "}"
   ]
  },
  {
   "cell_type": "markdown",
   "id": "79e6340e",
   "metadata": {},
   "source": [
    "#### Extracting `known_for` Categories and `cause_of_death` Values from `info_parenth_copy`"
   ]
  },
  {
   "cell_type": "code",
   "execution_count": 39,
   "id": "057c97fc",
   "metadata": {},
   "outputs": [
    {
     "name": "stdout",
     "output_type": "stream",
     "text": [
      "There are 33461 values in cause_of_death column.\n",
      "\n",
      "CPU times: total: 25.3 s\n",
      "Wall time: 25.3 s\n"
     ]
    },
    {
     "data": {
      "application/javascript": [
       "\n",
       "            setTimeout(function() {\n",
       "                var nbb_cell_id = 39;\n",
       "                var nbb_unformatted_code = \"%%time\\n\\n# Column to check\\ncolumn = 'info_parenth_copy'\\n\\n# Start dataframe\\ndataframe = df[df[column].notna()]\\n\\n# For loop to find cause in column and extract it to cause_of_death\\nfor cause in cause_of_death:\\n    for index in dataframe.index:\\n        item = df.loc[index, column]\\n        if item:\\n            if cause in item:\\n                if df.loc[index, 'cause_of_death']:\\n                    df.loc[index, 'cause_of_death'] = df.loc[index, 'cause_of_death'] + '/' + cause\\n                    df.loc[index, column] = item.replace(cause, '').strip()\\n                else:\\n                    df.loc[index, 'cause_of_death'] = cause\\n                    df.loc[index, column] = item.replace(cause, '').strip()\\n                \\n                \\n# For loop to find role in column and extract it as category\\nfor category, category_lst in known_for_dict.items():\\n    for role in category_lst:\\n        for index in dataframe.index:\\n                item = df.loc[index, column]\\n                if item:\\n                    if role in item:\\n                        df.loc[index, category] = 1\\n                        df.loc[index, column] = item.replace(role, '').strip()\\n\\n# Calculating num_categories\\ndf[\\\"num_categories\\\"] = df[known_for_dict.keys()].sum(axis=1)\\n\\n# Checking number of cause_of_death values\\nprint(f'There are {df[\\\"cause_of_death\\\"].notna().sum()} values in cause_of_death column.\\\\n')\";\n",
       "                var nbb_formatted_code = \"%%time\\n\\n# Column to check\\ncolumn = 'info_parenth_copy'\\n\\n# Start dataframe\\ndataframe = df[df[column].notna()]\\n\\n# For loop to find cause in column and extract it to cause_of_death\\nfor cause in cause_of_death:\\n    for index in dataframe.index:\\n        item = df.loc[index, column]\\n        if item:\\n            if cause in item:\\n                if df.loc[index, 'cause_of_death']:\\n                    df.loc[index, 'cause_of_death'] = df.loc[index, 'cause_of_death'] + '/' + cause\\n                    df.loc[index, column] = item.replace(cause, '').strip()\\n                else:\\n                    df.loc[index, 'cause_of_death'] = cause\\n                    df.loc[index, column] = item.replace(cause, '').strip()\\n                \\n                \\n# For loop to find role in column and extract it as category\\nfor category, category_lst in known_for_dict.items():\\n    for role in category_lst:\\n        for index in dataframe.index:\\n                item = df.loc[index, column]\\n                if item:\\n                    if role in item:\\n                        df.loc[index, category] = 1\\n                        df.loc[index, column] = item.replace(role, '').strip()\\n\\n# Calculating num_categories\\ndf[\\\"num_categories\\\"] = df[known_for_dict.keys()].sum(axis=1)\\n\\n# Checking number of cause_of_death values\\nprint(f'There are {df[\\\"cause_of_death\\\"].notna().sum()} values in cause_of_death column.\\\\n')\";\n",
       "                var nbb_cells = Jupyter.notebook.get_cells();\n",
       "                for (var i = 0; i < nbb_cells.length; ++i) {\n",
       "                    if (nbb_cells[i].input_prompt_number == nbb_cell_id) {\n",
       "                        if (nbb_cells[i].get_text() == nbb_unformatted_code) {\n",
       "                             nbb_cells[i].set_text(nbb_formatted_code);\n",
       "                        }\n",
       "                        break;\n",
       "                    }\n",
       "                }\n",
       "            }, 500);\n",
       "            "
      ],
      "text/plain": [
       "<IPython.core.display.Javascript object>"
      ]
     },
     "metadata": {},
     "output_type": "display_data"
    }
   ],
   "source": [
    "%%time\n",
    "\n",
    "# Column to check\n",
    "column = 'info_parenth_copy'\n",
    "\n",
    "# Start dataframe\n",
    "dataframe = df[df[column].notna()]\n",
    "\n",
    "# For loop to find cause in column and extract it to cause_of_death\n",
    "for cause in cause_of_death:\n",
    "    for index in dataframe.index:\n",
    "        item = df.loc[index, column]\n",
    "        if item:\n",
    "            if cause in item:\n",
    "                if df.loc[index, 'cause_of_death']:\n",
    "                    df.loc[index, 'cause_of_death'] = df.loc[index, 'cause_of_death'] + '/' + cause\n",
    "                    df.loc[index, column] = item.replace(cause, '').strip()\n",
    "                else:\n",
    "                    df.loc[index, 'cause_of_death'] = cause\n",
    "                    df.loc[index, column] = item.replace(cause, '').strip()\n",
    "                \n",
    "                \n",
    "# For loop to find role in column and extract it as category\n",
    "for category, category_lst in known_for_dict.items():\n",
    "    for role in category_lst:\n",
    "        for index in dataframe.index:\n",
    "                item = df.loc[index, column]\n",
    "                if item:\n",
    "                    if role in item:\n",
    "                        df.loc[index, category] = 1\n",
    "                        df.loc[index, column] = item.replace(role, '').strip()\n",
    "\n",
    "# Calculating num_categories\n",
    "df[\"num_categories\"] = df[known_for_dict.keys()].sum(axis=1)\n",
    "\n",
    "# Checking number of cause_of_death values\n",
    "print(f'There are {df[\"cause_of_death\"].notna().sum()} values in cause_of_death column.\\n')"
   ]
  },
  {
   "cell_type": "markdown",
   "id": "87034ce2",
   "metadata": {},
   "source": [
    "#### Checking Updated `num_categories` Value Counts"
   ]
  },
  {
   "cell_type": "code",
   "execution_count": 40,
   "id": "7f8a310f",
   "metadata": {},
   "outputs": [
    {
     "data": {
      "text/plain": [
       "1    84009\n",
       "2    12896\n",
       "3     1096\n",
       "4       36\n",
       "5        3\n",
       "Name: num_categories, dtype: int64"
      ]
     },
     "execution_count": 40,
     "metadata": {},
     "output_type": "execute_result"
    },
    {
     "data": {
      "application/javascript": [
       "\n",
       "            setTimeout(function() {\n",
       "                var nbb_cell_id = 40;\n",
       "                var nbb_unformatted_code = \"# Checking Updated num_categories Value Counts\\ndf[\\\"num_categories\\\"].value_counts()\";\n",
       "                var nbb_formatted_code = \"# Checking Updated num_categories Value Counts\\ndf[\\\"num_categories\\\"].value_counts()\";\n",
       "                var nbb_cells = Jupyter.notebook.get_cells();\n",
       "                for (var i = 0; i < nbb_cells.length; ++i) {\n",
       "                    if (nbb_cells[i].input_prompt_number == nbb_cell_id) {\n",
       "                        if (nbb_cells[i].get_text() == nbb_unformatted_code) {\n",
       "                             nbb_cells[i].set_text(nbb_formatted_code);\n",
       "                        }\n",
       "                        break;\n",
       "                    }\n",
       "                }\n",
       "            }, 500);\n",
       "            "
      ],
      "text/plain": [
       "<IPython.core.display.Javascript object>"
      ]
     },
     "metadata": {},
     "output_type": "display_data"
    }
   ],
   "source": [
    "# Checking Updated num_categories Value Counts\n",
    "df[\"num_categories\"].value_counts()"
   ]
  },
  {
   "cell_type": "markdown",
   "id": "20c1ff2c",
   "metadata": {},
   "source": [
    "#### Observations:\n",
    "- We will proceed to rebuild `known_for_dict` and `cause_of_death` for the next iteration."
   ]
  },
  {
   "cell_type": "markdown",
   "id": "828d50d8",
   "metadata": {},
   "source": [
    "#### Extracting Additional `known_for` Category from `info_parenth_copy` Using `roles_list`"
   ]
  },
  {
   "cell_type": "code",
   "execution_count": 42,
   "id": "a85ba366",
   "metadata": {},
   "outputs": [
    {
     "name": "stdout",
     "output_type": "stream",
     "text": [
      "There are 2485 remaining unique individual words in roles_list.\n",
      "\n"
     ]
    },
    {
     "data": {
      "application/javascript": [
       "\n",
       "            setTimeout(function() {\n",
       "                var nbb_cell_id = 42;\n",
       "                var nbb_unformatted_code = \"## Combining `info_parenth_copy` Values into a Single List of Unique Values for Searching\\n\\n# Creating a single list of info_parenth_copy values\\nroles_list = df[\\\"info_parenth_copy\\\"].value_counts().index.tolist()\\n\\n# Converting to a single string and removing commas, semicolons, and extra whitespace\\nroles_list = (\\n    \\\" \\\".join(roles_list).replace(\\\",\\\", \\\"\\\").replace(\\\";\\\", \\\"\\\").replace(\\\"  \\\", \\\" \\\").strip()\\n)\\n\\n# Splitting into a list of individual words and converting to a Series to easily check value counts\\nroles_list = roles_list.split()\\n\\n# Converting to a series for value_counts in ascending order for use of pop() on most frequent values first\\n# and dropping obvious extraneous values\\nroles_list = (\\n    pd.Series(roles_list)\\n    .value_counts(ascending=True)\\n    .drop(\\n        [\\n            \\\"and\\\",\\n            \\\"of\\\",\\n            \\\"the\\\",\\n            \\\"The\\\",\\n            \\\"since\\\",\\n            \\\"on\\\",\\n            \\\"nd\\\",\\n            \\\"th\\\",\\n            \\\"for\\\",\\n            \\\"to\\\",\\n            \\\"&\\\",\\n            \\\"de\\\",\\n            \\\"winner\\\",\\n            \\\"in\\\",\\n            \\\"at\\\",\\n            \\\"this\\\",\\n            \\\"that\\\",\\n        ]\\n    )\\n)\\n\\n# Dropping values that occur fewer than 3 times\\nroles_list = roles_list[roles_list > 2]\\n\\n# Converting back to list\\nroles_list = roles_list.index.tolist()\\n\\nprint(f\\\"There are {len(roles_list)} remaining unique individual words in roles_list.\\\\n\\\")\";\n",
       "                var nbb_formatted_code = \"## Combining `info_parenth_copy` Values into a Single List of Unique Values for Searching\\n\\n# Creating a single list of info_parenth_copy values\\nroles_list = df[\\\"info_parenth_copy\\\"].value_counts().index.tolist()\\n\\n# Converting to a single string and removing commas, semicolons, and extra whitespace\\nroles_list = (\\n    \\\" \\\".join(roles_list).replace(\\\",\\\", \\\"\\\").replace(\\\";\\\", \\\"\\\").replace(\\\"  \\\", \\\" \\\").strip()\\n)\\n\\n# Splitting into a list of individual words and converting to a Series to easily check value counts\\nroles_list = roles_list.split()\\n\\n# Converting to a series for value_counts in ascending order for use of pop() on most frequent values first\\n# and dropping obvious extraneous values\\nroles_list = (\\n    pd.Series(roles_list)\\n    .value_counts(ascending=True)\\n    .drop(\\n        [\\n            \\\"and\\\",\\n            \\\"of\\\",\\n            \\\"the\\\",\\n            \\\"The\\\",\\n            \\\"since\\\",\\n            \\\"on\\\",\\n            \\\"nd\\\",\\n            \\\"th\\\",\\n            \\\"for\\\",\\n            \\\"to\\\",\\n            \\\"&\\\",\\n            \\\"de\\\",\\n            \\\"winner\\\",\\n            \\\"in\\\",\\n            \\\"at\\\",\\n            \\\"this\\\",\\n            \\\"that\\\",\\n        ]\\n    )\\n)\\n\\n# Dropping values that occur fewer than 3 times\\nroles_list = roles_list[roles_list > 2]\\n\\n# Converting back to list\\nroles_list = roles_list.index.tolist()\\n\\nprint(f\\\"There are {len(roles_list)} remaining unique individual words in roles_list.\\\\n\\\")\";\n",
       "                var nbb_cells = Jupyter.notebook.get_cells();\n",
       "                for (var i = 0; i < nbb_cells.length; ++i) {\n",
       "                    if (nbb_cells[i].input_prompt_number == nbb_cell_id) {\n",
       "                        if (nbb_cells[i].get_text() == nbb_unformatted_code) {\n",
       "                             nbb_cells[i].set_text(nbb_formatted_code);\n",
       "                        }\n",
       "                        break;\n",
       "                    }\n",
       "                }\n",
       "            }, 500);\n",
       "            "
      ],
      "text/plain": [
       "<IPython.core.display.Javascript object>"
      ]
     },
     "metadata": {},
     "output_type": "display_data"
    }
   ],
   "source": [
    "## Combining `info_parenth_copy` Values into a Single List of Unique Values for Searching\n",
    "\n",
    "# Creating a single list of info_parenth_copy values\n",
    "roles_list = df[\"info_parenth_copy\"].value_counts().index.tolist()\n",
    "\n",
    "# Converting to a single string and removing commas, semicolons, and extra whitespace\n",
    "roles_list = (\n",
    "    \" \".join(roles_list).replace(\",\", \"\").replace(\";\", \"\").replace(\"  \", \" \").strip()\n",
    ")\n",
    "\n",
    "# Splitting into a list of individual words and converting to a Series to easily check value counts\n",
    "roles_list = roles_list.split()\n",
    "\n",
    "# Converting to a series for value_counts in ascending order for use of pop() on most frequent values first\n",
    "# and dropping obvious extraneous values\n",
    "roles_list = (\n",
    "    pd.Series(roles_list)\n",
    "    .value_counts(ascending=True)\n",
    "    .drop(\n",
    "        [\n",
    "            \"and\",\n",
    "            \"of\",\n",
    "            \"the\",\n",
    "            \"The\",\n",
    "            \"since\",\n",
    "            \"on\",\n",
    "            \"nd\",\n",
    "            \"th\",\n",
    "            \"for\",\n",
    "            \"to\",\n",
    "            \"&\",\n",
    "            \"de\",\n",
    "            \"winner\",\n",
    "            \"in\",\n",
    "            \"at\",\n",
    "            \"this\",\n",
    "            \"that\",\n",
    "        ]\n",
    "    )\n",
    ")\n",
    "\n",
    "# Dropping values that occur fewer than 3 times\n",
    "roles_list = roles_list[roles_list > 2]\n",
    "\n",
    "# Converting back to list\n",
    "roles_list = roles_list.index.tolist()\n",
    "\n",
    "print(f\"There are {len(roles_list)} remaining unique individual words in roles_list.\\n\")"
   ]
  },
  {
   "cell_type": "code",
   "execution_count": 43,
   "id": "761797dd",
   "metadata": {},
   "outputs": [
    {
     "data": {
      "application/javascript": [
       "\n",
       "            setTimeout(function() {\n",
       "                var nbb_cell_id = 43;\n",
       "                var nbb_unformatted_code = \"# # Slicing roles_list for search\\n# roles_list_sliced = roles_list[2000:]\";\n",
       "                var nbb_formatted_code = \"# # Slicing roles_list for search\\n# roles_list_sliced = roles_list[2000:]\";\n",
       "                var nbb_cells = Jupyter.notebook.get_cells();\n",
       "                for (var i = 0; i < nbb_cells.length; ++i) {\n",
       "                    if (nbb_cells[i].input_prompt_number == nbb_cell_id) {\n",
       "                        if (nbb_cells[i].get_text() == nbb_unformatted_code) {\n",
       "                             nbb_cells[i].set_text(nbb_formatted_code);\n",
       "                        }\n",
       "                        break;\n",
       "                    }\n",
       "                }\n",
       "            }, 500);\n",
       "            "
      ],
      "text/plain": [
       "<IPython.core.display.Javascript object>"
      ]
     },
     "metadata": {},
     "output_type": "display_data"
    }
   ],
   "source": [
    "# # Slicing roles_list for search\n",
    "# roles_list_sliced = roles_list[2000:]"
   ]
  },
  {
   "cell_type": "code",
   "execution_count": 44,
   "id": "03a70852",
   "metadata": {},
   "outputs": [
    {
     "data": {
      "application/javascript": [
       "\n",
       "            setTimeout(function() {\n",
       "                var nbb_cell_id = 44;\n",
       "                var nbb_unformatted_code = \"# # Example code to check each value in slice of roles_list in descending order of frequency\\n# value = roles_list_sliced.pop()\\n# value\";\n",
       "                var nbb_formatted_code = \"# # Example code to check each value in slice of roles_list in descending order of frequency\\n# value = roles_list_sliced.pop()\\n# value\";\n",
       "                var nbb_cells = Jupyter.notebook.get_cells();\n",
       "                for (var i = 0; i < nbb_cells.length; ++i) {\n",
       "                    if (nbb_cells[i].input_prompt_number == nbb_cell_id) {\n",
       "                        if (nbb_cells[i].get_text() == nbb_unformatted_code) {\n",
       "                             nbb_cells[i].set_text(nbb_formatted_code);\n",
       "                        }\n",
       "                        break;\n",
       "                    }\n",
       "                }\n",
       "            }, 500);\n",
       "            "
      ],
      "text/plain": [
       "<IPython.core.display.Javascript object>"
      ]
     },
     "metadata": {},
     "output_type": "display_data"
    }
   ],
   "source": [
    "# # Example code to check each value in slice of roles_list in descending order of frequency\n",
    "# value = roles_list_sliced.pop()\n",
    "# value"
   ]
  },
  {
   "cell_type": "code",
   "execution_count": 45,
   "id": "9dd1e962",
   "metadata": {},
   "outputs": [
    {
     "data": {
      "application/javascript": [
       "\n",
       "            setTimeout(function() {\n",
       "                var nbb_cell_id = 45;\n",
       "                var nbb_unformatted_code = \"# # Create specific_roles_cause_list for above popped value\\n# # only checking entries not already in category associated with popped value\\n# specific_roles_cause_list = (\\n#     df.loc[\\n#         [\\n#             index\\n#             for index in df[\\n#                 (df[\\\"info_parenth_copy\\\"].notna())\\n#                 #                 & (df[\\\"politics_govt_law\\\"] == 0)\\n#                 #                 & (df[\\\"law_enf_military_operator\\\"] == 0)\\n#                 #                 & (df[\\\"spiritual\\\"] == 0)\\n#                 #                 & (df[\\\"sports\\\"] == 0)\\n#                 #                 & (df[\\\"academia_humanities\\\"] == 0)\\n#                 & (df[\\\"arts\\\"] == 0)\\n#                 #                 & (df[\\\"business_farming\\\"] == 0)\\n#                 #                 & (df['crime']==0)\\n#                 #                 & (df[\\\"sciences\\\"] == 0)\\n#                 & (df[\\\"other_species\\\"] == 0)\\n#             ].index\\n#             if value in df.loc[index, \\\"info_parenth_copy\\\"]\\n#         ],\\n#         \\\"info_parenth_copy\\\",\\n#     ]\\n#     .value_counts()\\n#     .index.tolist()\\n# )\";\n",
       "                var nbb_formatted_code = \"# # Create specific_roles_cause_list for above popped value\\n# # only checking entries not already in category associated with popped value\\n# specific_roles_cause_list = (\\n#     df.loc[\\n#         [\\n#             index\\n#             for index in df[\\n#                 (df[\\\"info_parenth_copy\\\"].notna())\\n#                 #                 & (df[\\\"politics_govt_law\\\"] == 0)\\n#                 #                 & (df[\\\"law_enf_military_operator\\\"] == 0)\\n#                 #                 & (df[\\\"spiritual\\\"] == 0)\\n#                 #                 & (df[\\\"sports\\\"] == 0)\\n#                 #                 & (df[\\\"academia_humanities\\\"] == 0)\\n#                 & (df[\\\"arts\\\"] == 0)\\n#                 #                 & (df[\\\"business_farming\\\"] == 0)\\n#                 #                 & (df['crime']==0)\\n#                 #                 & (df[\\\"sciences\\\"] == 0)\\n#                 & (df[\\\"other_species\\\"] == 0)\\n#             ].index\\n#             if value in df.loc[index, \\\"info_parenth_copy\\\"]\\n#         ],\\n#         \\\"info_parenth_copy\\\",\\n#     ]\\n#     .value_counts()\\n#     .index.tolist()\\n# )\";\n",
       "                var nbb_cells = Jupyter.notebook.get_cells();\n",
       "                for (var i = 0; i < nbb_cells.length; ++i) {\n",
       "                    if (nbb_cells[i].input_prompt_number == nbb_cell_id) {\n",
       "                        if (nbb_cells[i].get_text() == nbb_unformatted_code) {\n",
       "                             nbb_cells[i].set_text(nbb_formatted_code);\n",
       "                        }\n",
       "                        break;\n",
       "                    }\n",
       "                }\n",
       "            }, 500);\n",
       "            "
      ],
      "text/plain": [
       "<IPython.core.display.Javascript object>"
      ]
     },
     "metadata": {},
     "output_type": "display_data"
    }
   ],
   "source": [
    "# # Create specific_roles_cause_list for above popped value\n",
    "# # only checking entries not already in category associated with popped value\n",
    "# specific_roles_cause_list = (\n",
    "#     df.loc[\n",
    "#         [\n",
    "#             index\n",
    "#             for index in df[\n",
    "#                 (df[\"info_parenth_copy\"].notna())\n",
    "#                 #                 & (df[\"politics_govt_law\"] == 0)\n",
    "#                 #                 & (df[\"law_enf_military_operator\"] == 0)\n",
    "#                 #                 & (df[\"spiritual\"] == 0)\n",
    "#                 #                 & (df[\"sports\"] == 0)\n",
    "#                 #                 & (df[\"academia_humanities\"] == 0)\n",
    "#                 & (df[\"arts\"] == 0)\n",
    "#                 #                 & (df[\"business_farming\"] == 0)\n",
    "#                 #                 & (df['crime']==0)\n",
    "#                 #                 & (df[\"sciences\"] == 0)\n",
    "#                 & (df[\"other_species\"] == 0)\n",
    "#             ].index\n",
    "#             if value in df.loc[index, \"info_parenth_copy\"]\n",
    "#         ],\n",
    "#         \"info_parenth_copy\",\n",
    "#     ]\n",
    "#     .value_counts()\n",
    "#     .index.tolist()\n",
    "# )"
   ]
  },
  {
   "cell_type": "code",
   "execution_count": 46,
   "id": "db02cead",
   "metadata": {},
   "outputs": [
    {
     "data": {
      "application/javascript": [
       "\n",
       "            setTimeout(function() {\n",
       "                var nbb_cell_id = 46;\n",
       "                var nbb_unformatted_code = \"# # Viewing list sorted by descending length to copy to dictionary below and screen values\\n# sorted(specific_roles_cause_list, key=lambda x: len(x), reverse=True)\";\n",
       "                var nbb_formatted_code = \"# # Viewing list sorted by descending length to copy to dictionary below and screen values\\n# sorted(specific_roles_cause_list, key=lambda x: len(x), reverse=True)\";\n",
       "                var nbb_cells = Jupyter.notebook.get_cells();\n",
       "                for (var i = 0; i < nbb_cells.length; ++i) {\n",
       "                    if (nbb_cells[i].input_prompt_number == nbb_cell_id) {\n",
       "                        if (nbb_cells[i].get_text() == nbb_unformatted_code) {\n",
       "                             nbb_cells[i].set_text(nbb_formatted_code);\n",
       "                        }\n",
       "                        break;\n",
       "                    }\n",
       "                }\n",
       "            }, 500);\n",
       "            "
      ],
      "text/plain": [
       "<IPython.core.display.Javascript object>"
      ]
     },
     "metadata": {},
     "output_type": "display_data"
    }
   ],
   "source": [
    "# # Viewing list sorted by descending length to copy to dictionary below and screen values\n",
    "# sorted(specific_roles_cause_list, key=lambda x: len(x), reverse=True)"
   ]
  },
  {
   "cell_type": "code",
   "execution_count": 47,
   "id": "79ba017f",
   "metadata": {},
   "outputs": [
    {
     "data": {
      "application/javascript": [
       "\n",
       "            setTimeout(function() {\n",
       "                var nbb_cell_id = 47;\n",
       "                var nbb_unformatted_code = \"# # Checking individua entries as needed\\n# df[df[column] == \\\"and Permanent Secretary\\\"]\";\n",
       "                var nbb_formatted_code = \"# # Checking individua entries as needed\\n# df[df[column] == \\\"and Permanent Secretary\\\"]\";\n",
       "                var nbb_cells = Jupyter.notebook.get_cells();\n",
       "                for (var i = 0; i < nbb_cells.length; ++i) {\n",
       "                    if (nbb_cells[i].input_prompt_number == nbb_cell_id) {\n",
       "                        if (nbb_cells[i].get_text() == nbb_unformatted_code) {\n",
       "                             nbb_cells[i].set_text(nbb_formatted_code);\n",
       "                        }\n",
       "                        break;\n",
       "                    }\n",
       "                }\n",
       "            }, 500);\n",
       "            "
      ],
      "text/plain": [
       "<IPython.core.display.Javascript object>"
      ]
     },
     "metadata": {},
     "output_type": "display_data"
    }
   ],
   "source": [
    "# # Checking individua entries as needed\n",
    "# df[df[column] == \"and Permanent Secretary\"]"
   ]
  },
  {
   "cell_type": "markdown",
   "id": "c4f8d0ba",
   "metadata": {},
   "source": [
    "#### Creating Lists for Each `known_for` Category and for `cause_of_death`"
   ]
  },
  {
   "cell_type": "code",
   "execution_count": 48,
   "id": "a16ff517",
   "metadata": {},
   "outputs": [
    {
     "data": {
      "application/javascript": [
       "\n",
       "            setTimeout(function() {\n",
       "                var nbb_cell_id = 48;\n",
       "                var nbb_unformatted_code = \"# Creating lists for each category and sorting by decreasing length and removing duplicates\\n\\npolitics_govt_law = [\\n    \\\"CFRB, Senator and TV panelist\\\",\\n    \\\"FARC and politician, deputy\\\",\\n    \\\", Chairwoman of PLA\\\",\\n    \\\"Winston Churchill\\\",\\n    \\\", prefect of the CICLSAL and apostolic nuncio to\\\",\\n    \\\"Richard Nixon, Gerald Ford\\\",\\n    \\\"Jyllands Posten Muhammad cartoons controversy\\\",\\n    \\\"Koch Industries and political financier Americans for Prosperity\\\",\\n    \\\"Holocaust, political activist\\\",\\n    \\\"national team and politician, National Councillor\\\",\\n    \\\"Race Relations Conciliator\\\",\\n    \\\"Quezon City Pride Council, and LGBT activist\\\",\\n    \\\"since and Apostolic Nuncio to since\\\",\\n    \\\"since , Apostolic Nuncio to\\\",\\n    \\\"since , Apostolic Nuncio\\\",\\n    \\\"and Apostolic Nuncio to\\\",\\n    \\\"Church of the Universe and political candidate Marijuana Party\\\",\\n    \\\"Education Commission of the States\\\",\\n    \\\"Assistant Secretary of State and government official,\\\",\\n    \\\"Merrill Lynch, Assistant Secretary of the Treasury\\\",\\n    \\\"Assistant Attorney General,\\\",\\n    \\\", Prefect of the Congregation for the Clergy and President of the Pontifical Commission\\\",\\n    \\\", President of the Pontifical Commission for City State\\\",\\n    \\\"and president of the Pastoral Care of Health Care Workers\\\",\\n    \\\", prefect of the CICLSAL and apostolic nuncio to\\\",\\n    \\\"since and Apostolic nuncio\\\",\\n    \\\"MBM Arquitectes and urban planner, Barcelona city councilor and president of Fundaci\\u00f3 Joan Mir\\u00f3\\\",\\n    \\\"national team, coach Magic, and politician, Hamilton city councillor , since\\\",\\n    \\\"and Knoxville, Tennessee city councilman\\\",\\n    \\\"Radio Free Radio Liberty\\\",\\n    \\\", chief of the general staff , and governor of\\\",\\n    \\\"and chairman joint chiefs of staff committee\\\",\\n    \\\"civil rights activist, National Medal of Arts and , laureate\\\",\\n    \\\"Goldman Sachs and civil servant, Deputy Secretary of State\\\",\\n    \\\"national team, coach Magic, and politician, Hamilton city councillor , since\\\",\\n    \\\"national team and politician, Ballymena Borough councillor\\\",\\n    \\\"and political activist Black Panthers\\\",\\n    \\\"Moro Islamic Liberation Front and politician, Speaker of the Bangsamoro Parliament since\\\",\\n    \\\"Ambassador\\\",\\n    \\\"University of Arkansas at Little Rock and child development campaigner NAEYC\\\",\\n    \\\"Pulitzer Prize and political scientist, recipient of the\\\",\\n    \\\", political commentator and actor\\\",\\n    \\\"Swimming and defense lawyer Gary Ridgway\\\",\\n    \\\"Apollo , assistant secretary of state for public affairs\\\",\\n    \\\", Vice President , Director of Central Intelligence\\\",\\n    \\\"External Intelligence of the Defence Force\\\",\\n    \\\"The Tragically Hip and activist Lake Waterkeeper, residential school reconciliation\\\",\\n    \\\"Que Sera, Sera, Golden Globe, singer  and animal welfare activist, winner , , ,\\\",\\n    \\\"Nobel Prize laureate in Literature, , and anti apartheid activist,\\\",\\n    \\\"civil rights activist, National Medal of Arts and , laureate\\\",\\n    \\\"phone hacking scandal, whistleblower of the ,  body found on this date\\\",\\n    \\\"Lehman Brothers, co founder of The Blackstone Group, Secretary of Commerce\\\",\\n    \\\"Legislative Yuan, , director and politician, member of the\\\",\\n    \\\"and chairman of the Atomic Energy Commission\\\",\\n    \\\"and chairman of the UGC\\\",\\n    \\\"Randwick, New South Wales, national team, Lord Mayor of Sydney\\\",\\n    \\\"and politician, chair of the Federal Reserve Bank of Kansas City\\\",\\n    \\\"Anarchist Federation\\\",\\n    \\\"Edmonton Eskimos and politician, Premier of Alberta\\\",\\n    \\\", political commentator and actor\\\",\\n    \\\", Qualifications Authority CEO\\\",\\n    \\\"Matson, Inc , conservationist Ghirardelli Square and diplomat, Trade Representative\\\",\\n    \\\"Central News Agency and diplomat, Representative to\\\",\\n    \\\"Ambassador and diplomat, to Czechoslovakia ;\\\",\\n    \\\"Cox Enterprises and diplomat, Ambassador to\\\",\\n    \\\"Ambassador to Mexico, , and diplomat,\\\",\\n    \\\"Ambassador to and diplomat,\\\",\\n    \\\"civil rights activist\\\",\\n    \\\"Lok Sabha, Gurdaspur, and politician, member of the for ; since\\\",\\n    \\\"Idaho House of Representatives and politician, member of the\\\",\\n    \\\"Legislative Yuan, , director and politician, member of the\\\",\\n    \\\"House of Representatives and politician, member of the\\\",\\n    \\\"Del Rosario University and politician, Commandant of the Army , Governor of Magdalena\\\",\\n    \\\", Governor of Maharashtra and Rajasthan\\\",\\n    \\\", Governor of Nagaland and Manipur\\\",\\n    \\\"and Lieutenant Governor of\\\",\\n    \\\"and Governor of West\\\",\\n    \\\"Calgary Stampeders, Edmonton Eskimos and politician, Lieutenant Governor of Alberta\\\",\\n    \\\"and Governor of Bank of Scotland,\\\",\\n    \\\", Governor General\\\",\\n    \\\"Idaho House of Representatives and politician, member of the\\\",\\n    \\\"House of Representatives and politician, member of the\\\",\\n    \\\"Randwick, New South Wales, national team, Lord Mayor of Sydney\\\",\\n    \\\"Napster and politician, Mayor of San Carlos,\\\",\\n    \\\"Henderson, Nevada, Mayor of\\\",\\n    \\\", Mayor of the Gold Coast\\\",\\n    \\\"The Invincibles, rules footballer and politician, Victorian MLA for Prahran\\\",\\n    \\\"Saurashtra and politician, MLA , ,\\\",\\n    \\\"Andhra Pradesh, MLA and politician,\\\",\\n    \\\"Lehman Brothers, co founder of The Blackstone Group, Secretary of Commerce\\\",\\n    \\\"Goldman Sachs and civil servant, Deputy Secretary of State\\\",\\n    \\\"Assistant Secretary of State and government official,\\\",\\n]\\npolitics_govt_law = sorted(\\n    list(set(politics_govt_law)), key=lambda x: len(x), reverse=True\\n)\\n\\narts = [\\n    \\\"Conseil sup\\u00e9rieur de l'audiovisuel, Centre national du cin\\u00e9ma et de l'image anim\\u00e9e\\\",\\n    \\\"South Melbourne and radio broadcaster ABC Local Radio\\\",\\n    \\\"and fight choreographer , ,\\\",\\n    \\\"Canterbury region and biographer Richard Pearse, Denis Glover\\\",\\n    \\\"Green Bay Packers, Denver Broncos and stuntman\\\",\\n    \\\", stuntman and actor\\\",\\n    \\\"WWF and stuntman ,\\\",\\n    \\\", , and stuntman\\\",\\n    \\\"NJPW, WCW and reality show contestant , Olympic bronze medalist\\\",\\n    \\\"WWE, model and reality show contestant\\\",\\n    \\\"Tate LaBianca murders case and author ,\\\",\\n    \\\"Milwaukee Brewers, Yankees and announcer Cleveland Indians\\\",\\n    \\\"Pittsburgh Pirates and announcer Mets\\\",\\n    \\\"WCCO TV, Fox Sports North and sports commentator Minnesota Timberwolves\\\",\\n    \\\"WMAQ, WSNS TV and sports talk personality Sporting News Radio\\\",\\n    \\\"WHDH, The Weather Channel\\\",\\n    \\\"The Weather Channel\\\",\\n    \\\"media Prime Television\\\",\\n    \\\"Shaw Communications and mass media executive Corus Entertainment\\\",\\n    \\\"Tupac Amaru Shakur Center for the Arts, Amaru Entertainment, Makaveli Branded\\\",\\n    \\\"Playboy\\\",\\n    \\\"and lyricist national anthem\\\",\\n    \\\"child actor\\\",\\n    \\\"Cardinals, Cubs, Pirates and Hall of Fame sportscaster MLB GOTW, World Series champion\\\",\\n    \\\"Philadelphia Eagles, coach and sportscaster CBS Sports, WCAU\\\",\\n    \\\"Oakland Raiders and sportscaster Super Bowl, , champion\\\",\\n    \\\"Toronto Argonauts, Dallas Cowboys and sportscaster TSN\\\",\\n    \\\"Cleveland Browns, Dallas Cowboys and sportscaster CBS\\\",\\n    \\\"Philadelphia Eagles, Rams and sportscaster\\\",\\n    \\\"Film Society of Lincoln Center\\\",\\n    \\\"CNN, MSNBC\\\",\\n    \\\"Kingston Kings, national team and presenter Sky Sports\\\",\\n    \\\"M\\u00fcnnich Motorsport and television presenter\\\",\\n    \\\", and television presenter\\\",\\n    \\\", journalist and editor AGERPRES,\\\",\\n    \\\"and journalist\\\",\\n    \\\"national team and sports commentator ABC Sports, ESPN\\\",\\n    \\\"Dodgers, Chicago Cubs, Yankees and commentator, World Series champion ,\\\",\\n    \\\"Kaizer Chiefs, national team and commentator SuperSport\\\",\\n    \\\"national team and sports commentator ABC Sports, ESPN\\\",\\n    \\\"Dallas Cowboys and commentator\\\",\\n    \\\"WWA, WWWF and commentator\\\",\\n    \\\"chairman of ITV plc\\\",\\n    \\\"since , Ambassador to and child actor\\\",\\n    \\\", actor ,\\\",\\n    \\\"World War II and actor Oscar, winner\\\",\\n    \\\"Bible Black, Geezer Butler Band, actor\\\",\\n    \\\"Queen Mary University of and child actor kg schoolboy champion, BUCS champion ,\\\",\\n    \\\"Chicago Blackhawks, Toronto Maple Leafs and actor Stanley Cup, champion\\\",\\n    \\\"Philadelphia San Francisco Warriors, Lakers and actor\\\",\\n    \\\"Cleveland Browns, Philadelphia Eagles and actor\\\",\\n    \\\"San Francisco ers, Baltimore Colts and actor\\\",\\n    \\\"Pittsburgh Steelers and actor ,\\\",\\n    \\\"national team and child actor ,\\\",\\n    \\\"Bellator, UFC, boxer and actor\\\",\\n    \\\"Yankees, writer , and actor\\\",\\n    \\\"WWE, NWA, WCW and actor , ,\\\",\\n    \\\", stunt double and actor ,\\\",\\n    \\\"Detroit Lions and actor ,\\\",\\n    \\\"Oakland Raiders and actor\\\",\\n    \\\"Baltimore Colts and actor\\\",\\n    \\\"Dallas Cowboys and actor\\\",\\n    \\\"Stampede and actor ,\\\",\\n    \\\", stuntman and actor\\\",\\n    \\\"IWE, NJPW and actor\\\",\\n    \\\"CMLL, WCW and actor\\\",\\n    \\\"WCCW, WWF and actor\\\",\\n    \\\"WCCW and actor ,\\\",\\n    \\\"Rams and actor ,\\\",\\n    \\\"Mets and actor ,\\\",\\n    \\\"NWA and actor ,\\\",\\n    \\\"WWE and actor ,\\\",\\n    \\\"WWF and actor\\\",\\n    \\\"and actor , ,\\\",\\n    \\\"WBO and actor\\\",\\n    \\\", and actor\\\",\\n    \\\"and actor ,\\\",\\n    \\\", actor\\\",\\n]\\narts = sorted(list(set(arts)), key=lambda x: len(x), reverse=True)\\n\\nsports = [\\n    \\\"Philadelphia Eagles, and football player Baltimore Colts,\\\",\\n    \\\"Hendrick Motorsports\\\",\\n    \\\"Back Bay Restaurant Group and dog racetrack owner Wonderland Greyhound Park\\\",\\n    \\\"General Electric, owner of Albany River Rats\\\",\\n    \\\", co founder of the AFL and owner of the Chargers\\\",\\n    \\\"Cyclone Tracy and AFL player St Kilda\\\",\\n    \\\"cricketer Otago\\\",\\n    \\\"First Allied Corporation and sports franchise owner Manchester United, Tampa Bay Buccaneers\\\",\\n    \\\"A Bank , broadcast executive TV and sport administrator Cricket\\\",\\n    \\\"and sports executive\\\",\\n    \\\"Oakland Athletics, Golden State Warriors, Golden Bears football\\\",\\n    \\\"Chicago Bears, and football player\\\",\\n    \\\"football Sydney FC\\\",\\n    \\\"Mawarid Holding and horse stable owner Juddmonte\\\",\\n    \\\"Donald Trump and publicist New Generals,\\\",\\n    \\\"deputy, Olympique de Marseille and president of\\\",\\n    \\\"Baseball Hall of Fame, Yankees, Pittsburgh Pirates\\\",\\n    \\\"WCCO TV, Fox Sports North and sports commentator Minnesota Timberwolves\\\",\\n    \\\"WMAQ, WSNS TV and sports talk personality Sporting News Radio\\\",\\n    \\\"Fox Sports Media Group, CBC Sports\\\",\\n    \\\"NBC, NBC Sports, ABC Sports\\\",\\n    \\\"The Sports and composer ,\\\",\\n    \\\"CBS Sports\\\",\\n    \\\"Automobiles Gonfaronnaises Sportives\\\",\\n    \\\"Cerner, Sporting Kansas City\\\",\\n    \\\"Portland Trail Blazers and journalist\\\",\\n    \\\"NFL Films, ,\\\",\\n    \\\"NFL Films\\\",\\n    \\\"WCCO TV, Fox Sports North and sports commentator Minnesota Timberwolves\\\",\\n    \\\"WMAQ, WSNS TV and sports talk personality Sporting News Radio\\\",\\n    \\\"First Allied Corporation and sports franchise owner Manchester United, Tampa Bay Buccaneers\\\",\\n    \\\"ESPN, and reporter\\\",\\n    \\\"ESPN,\\\",\\n    \\\"since , president of the National Football Federation and minister of the interior\\\",\\n    \\\"WCCO TV, Fox Sports North and sports commentator Minnesota Timberwolves\\\",\\n    \\\"Victoria Day and footballer Djurg\\u00e5rdens IF\\\",\\n    \\\"Essendon and footballer Hawthorn\\\",\\n    \\\"First Allied Corporation and sports franchise owner Manchester United, Tampa Bay Buccaneers\\\",\\n    \\\"PizzaExpress and football club owner Peterborough United\\\",\\n    \\\"United Dairy Farmers, Cincinnati Reds\\\",\\n    \\\"Cotton Factory Club, national team\\\",\\n    \\\"Partizan and coach OKK Beograd, Cant\\u00f9, Secretary General of FIBA\\\",\\n]\\nsports = sorted(list(set(sports)), key=lambda x: len(x), reverse=True)\\n\\nsciences = [\\n    \\\"Atari, , , Director of Engineering for\\\",\\n    \\\"Bud Moore Engineering\\\",\\n    \\\"co discovered the blood test for the Rh blood factor\\\",\\n]\\nsciences = sorted(list(set(sciences)), key=lambda x: len(x), reverse=True)\\n\\nbusiness_farming = [\\n    \\\"Playboy Enterprises, businessman  and reality television personality\\\",\\n    \\\"Jimmy Dean Foods, actor and businessman\\\",\\n    \\\"Petro Canada, businessman Abu Sayyaf\\\",\\n    \\\"CA Technologies, \\\",\\n    \\\"Nintendo, , president and CEO of since\\\",\\n]\\nbusiness_farming = sorted(\\n    list(set(business_farming)), key=lambda x: len(x), reverse=True\\n)\\n\\nacademia_humanities = [\\n    \\\"Conseil sup\\u00e9rieur de l'audiovisuel, T\\u00e9l\\u00e9visions, International Francophone Press Union\\\",\\n    \\\"and Chancellor of University of Southampton since\\\",\\n    \\\"Canterbury, national team, sports administrator, and educator Auckland Grammar School\\\",\\n    \\\"Saskatchewan Wheat Pool and educator, chancellor of the University of Saskatchewan\\\",\\n    \\\"Eddie Harris, Elvin Jones and educator Conservatory of Music\\\",\\n    \\\"High Sheriff of Nottinghamshire and\\\",\\n    \\\"Warsaw Ghetto Uprising survivor\\\",\\n    \\\"University of Glasgow, Regius Professor of Zoology\\\",\\n    \\\"M\\u0101ori and coach Counties,\\\",\\n    \\\"and Rector of Pontifical Academy of Theology\\\",\\n    \\\"University of Otago and\\\",\\n    \\\"Eddie Harris, Elvin Jones and educator Conservatory of Music\\\",\\n    \\\"Division of Musical Instruments at the National Museum of History and Technology\\\",\\n    \\\"Chancellor of Queen University Belfast since\\\",\\n    \\\", Chairwoman of PLA and Chancellor of University of Southampton since\\\",\\n    \\\"Chancellor of McGill University and\\\",\\n    \\\"National Council of Jewish Women and philanthropist Cooper Hewitt, Smithsonian Design Museum\\\",\\n    \\\"Triangle Publications, TelVue and philanthropist Columbia University\\\",\\n    \\\"Washington University School of Medicine\\\",\\n    \\\"Johns Hopkins School of Medicine\\\",\\n    \\\"NSW Supreme Court, chancellor of the University of Sydney\\\",\\n    \\\", academic and chancellor of Carleton University\\\",\\n    \\\"and chancellor of the University of since\\\",\\n    \\\"Connecticut Bank and Trust Company and academic administrator, president of Trinity College Connecticut\\\",\\n    \\\"Deseret Management Corporation and academic administrator Weber State University\\\",\\n    \\\"General Electric and academic administrator Rensselaer Polytechnic Institute\\\",\\n    \\\"Chengdu J and academic Academy of Engineering\\\",\\n    \\\"Hongdu JL and academic Academy of Engineering\\\",\\n    \\\", academic and chancellor of Carleton University\\\",\\n    \\\"Ball State University, and academic\\\",\\n    \\\"Connecticut House, , judge Connecticut Superior Court, ; professor Quinnipiac\\\",\\n    \\\"All Girls Professional Baseball League and professor Suffolk University\\\",\\n    \\\"University of North Carolina Wilmington and professor\\\",\\n    \\\"CBS News and professor University of Southern\\\",\\n    \\\"Seoul Institute of the Arts and professor\\\",\\n    \\\"Medtronic and museum founder Bakken Museum\\\",\\n]\\nacademia_humanities = sorted(\\n    list(set(academia_humanities)), key=lambda x: len(x), reverse=True\\n)\\n\\nlaw_enf_military_operator = [\\n    \\\", Acting Director of FBI and Administrator of EPA ,\\\",\\n    \\\", Secretary of State for War and Minister for the Armed Forces\\\",\\n    \\\"ISIL in\\\",\\n    \\\", Sheriff of Middlesex County\\\",\\n    \\\"Colorado A&M Aggies and World War II RAF officer Tuskegee Airmen\\\",\\n    \\\", and aviator Tuskegee Airmen\\\",\\n    \\\"Tuskegee Airmen\\\",\\n    \\\"NRK and military officer Commander of Operation Gunnerside\\\",\\n    \\\"Police Department,  and police officer\\\",\\n    \\\"Assistant Secretary of Defense, Ambassador to\\\",\\n    \\\"minister of defence\\\",\\n    \\\"Al Qaeda\\\",\\n    \\\"Great Eastern Islamic Raiders' Front\\\",\\n    \\\"Islamic Jihad of\\\",\\n    \\\"Islamic State\\\",\\n    \\\"Assistant Secretary of Defense, Ambassador to\\\",\\n    \\\", Minister of Defense\\\",\\n    \\\", Defense Minister\\\",\\n    \\\"Defense Forces,\\\",\\n    \\\"Colorado A&M Aggies and World War II RAF officer Tuskegee Airmen\\\",\\n    \\\"FK Liep\\u0101jas Metalurgs, RAF Jelgava, national team\\\",\\n    \\\"NRK and military officer Commander of Operation Gunnerside\\\",\\n    \\\", minister of defense , and provisional president of the Senate\\\",\\n    \\\", since , minister of national defense and interior\\\",\\n    \\\", foreign affairs and defense since\\\",\\n    \\\"since and minister of defense\\\",\\n    \\\", secretary of the Navy\\\",\\n    \\\", , Navy Minister\\\",\\n    \\\"and Bishop to the Forces\\\",\\n    \\\"Defense Forces,\\\",\\n    \\\", Secretary of State for War and Minister for the Armed Forces\\\",\\n    \\\"and Director General of the National Police\\\",\\n    \\\"Police Department,  and police officer\\\",\\n    \\\"and Halland , Police Commissioner\\\",\\n    \\\"and Minister of Police Affairs\\\",\\n    \\\"Police Sports Club\\\",\\n    \\\", minister of defence and transport and public works since\\\",\\n    \\\", minister of the interior , and national defence\\\",\\n    \\\", minister of national defence and transport\\\",\\n    \\\", minister of defence and foreign affairs ,\\\",\\n    \\\", minister of foreign affairs and defence\\\",\\n    \\\", minister of defence and the interior\\\",\\n    \\\"since and minister of defence since\\\",\\n    \\\", deputy , and minister of defence\\\",\\n    \\\"Red Brigades\\\",\\n    \\\"Team B and professor University\\\",\\n    \\\"United Freedom Front\\\",\\n]\\nlaw_enf_military_operator = sorted(\\n    list(set(law_enf_military_operator)), key=lambda x: len(x), reverse=True\\n)\\n\\nspiritual = [\\\", auxiliary bishop of Port Moresby since\\\"]\\nspiritual = sorted(list(set(spiritual)), key=lambda x: len(x), reverse=True)\\n\\nsocial = [\\n    \\\"National Urban League, UNCF\\\",\\n    \\\"Bear Stearns, St Vincent Catholic Medical Center and philanthropist Al Smith Dinner\\\",\\n    \\\"Tesla, Wikimedia Foundation\\\",\\n    \\\"Mutual of and humanitarian Concern Worldwide,\\\",\\n    \\\"Chase Manhattan, globalist Trilateral Commission and philanthropist Rockefeller Brothers Fund\\\",\\n    \\\"James B Nutter & Company, philanthropist Children Mercy Hospital and power broker Missouri\\\",\\n    \\\"Bear Stearns, St Vincent Catholic Medical Center and philanthropist Al Smith Dinner\\\",\\n    \\\"Berkshire Hathaway and philanthropist Maine Medical Center\\\",\\n    \\\"Barrick Gold and philanthropist Toronto General Hospital\\\",\\n    \\\"philanthropist Smile Train\\\",\\n    \\\"Mencap and activist\\\",\\n]\\nsocial = sorted(list(set(social)), key=lambda x: len(x), reverse=True)\\n\\ncrime = [\\n    \\\"Richard Nixon, convicted for conspiracy to obstruct justice and wiretapping Watergate scandal\\\",\\n    \\\"CIA, Brigade and convicted criminal Watergate burglary\\\",\\n    \\\"Seattle Seahawks, Oakland Raiders, Jets and mass murderer Rock Hill shooting\\\",\\n    \\\"of Vincennes scandal\\\",\\n    \\\"Angry Brigade\\\",\\n]\\ncrime = sorted(list(set(crime)), key=lambda x: len(x), reverse=True)\\n\\nevent_record_other = [\\n    \\\"coup d'\\u00e9tat\\\",\\n    \\\"Hezbollah, FBI most wanted terrorist death announced on this date\\\",\\n    \\\"and Nobel survivor, Laureate\\\",\\n    \\\"Oscar, , and Holocaust survivor, winner ,\\\",\\n]\\nevent_record_other = sorted(\\n    list(set(event_record_other)), key=lambda x: len(x), reverse=True\\n)\\n\\nother_species = []\\nother_species = sorted(list(set(other_species)), key=lambda x: len(x), reverse=True)\\n\\ncause_of_death = []\\ncause_of_death = sorted(list(set(cause_of_death)), key=lambda x: len(x), reverse=True)\";\n",
       "                var nbb_formatted_code = \"# Creating lists for each category and sorting by decreasing length and removing duplicates\\n\\npolitics_govt_law = [\\n    \\\"CFRB, Senator and TV panelist\\\",\\n    \\\"FARC and politician, deputy\\\",\\n    \\\", Chairwoman of PLA\\\",\\n    \\\"Winston Churchill\\\",\\n    \\\", prefect of the CICLSAL and apostolic nuncio to\\\",\\n    \\\"Richard Nixon, Gerald Ford\\\",\\n    \\\"Jyllands Posten Muhammad cartoons controversy\\\",\\n    \\\"Koch Industries and political financier Americans for Prosperity\\\",\\n    \\\"Holocaust, political activist\\\",\\n    \\\"national team and politician, National Councillor\\\",\\n    \\\"Race Relations Conciliator\\\",\\n    \\\"Quezon City Pride Council, and LGBT activist\\\",\\n    \\\"since and Apostolic Nuncio to since\\\",\\n    \\\"since , Apostolic Nuncio to\\\",\\n    \\\"since , Apostolic Nuncio\\\",\\n    \\\"and Apostolic Nuncio to\\\",\\n    \\\"Church of the Universe and political candidate Marijuana Party\\\",\\n    \\\"Education Commission of the States\\\",\\n    \\\"Assistant Secretary of State and government official,\\\",\\n    \\\"Merrill Lynch, Assistant Secretary of the Treasury\\\",\\n    \\\"Assistant Attorney General,\\\",\\n    \\\", Prefect of the Congregation for the Clergy and President of the Pontifical Commission\\\",\\n    \\\", President of the Pontifical Commission for City State\\\",\\n    \\\"and president of the Pastoral Care of Health Care Workers\\\",\\n    \\\", prefect of the CICLSAL and apostolic nuncio to\\\",\\n    \\\"since and Apostolic nuncio\\\",\\n    \\\"MBM Arquitectes and urban planner, Barcelona city councilor and president of Fundaci\\u00f3 Joan Mir\\u00f3\\\",\\n    \\\"national team, coach Magic, and politician, Hamilton city councillor , since\\\",\\n    \\\"and Knoxville, Tennessee city councilman\\\",\\n    \\\"Radio Free Radio Liberty\\\",\\n    \\\", chief of the general staff , and governor of\\\",\\n    \\\"and chairman joint chiefs of staff committee\\\",\\n    \\\"civil rights activist, National Medal of Arts and , laureate\\\",\\n    \\\"Goldman Sachs and civil servant, Deputy Secretary of State\\\",\\n    \\\"national team, coach Magic, and politician, Hamilton city councillor , since\\\",\\n    \\\"national team and politician, Ballymena Borough councillor\\\",\\n    \\\"and political activist Black Panthers\\\",\\n    \\\"Moro Islamic Liberation Front and politician, Speaker of the Bangsamoro Parliament since\\\",\\n    \\\"Ambassador\\\",\\n    \\\"University of Arkansas at Little Rock and child development campaigner NAEYC\\\",\\n    \\\"Pulitzer Prize and political scientist, recipient of the\\\",\\n    \\\", political commentator and actor\\\",\\n    \\\"Swimming and defense lawyer Gary Ridgway\\\",\\n    \\\"Apollo , assistant secretary of state for public affairs\\\",\\n    \\\", Vice President , Director of Central Intelligence\\\",\\n    \\\"External Intelligence of the Defence Force\\\",\\n    \\\"The Tragically Hip and activist Lake Waterkeeper, residential school reconciliation\\\",\\n    \\\"Que Sera, Sera, Golden Globe, singer  and animal welfare activist, winner , , ,\\\",\\n    \\\"Nobel Prize laureate in Literature, , and anti apartheid activist,\\\",\\n    \\\"civil rights activist, National Medal of Arts and , laureate\\\",\\n    \\\"phone hacking scandal, whistleblower of the ,  body found on this date\\\",\\n    \\\"Lehman Brothers, co founder of The Blackstone Group, Secretary of Commerce\\\",\\n    \\\"Legislative Yuan, , director and politician, member of the\\\",\\n    \\\"and chairman of the Atomic Energy Commission\\\",\\n    \\\"and chairman of the UGC\\\",\\n    \\\"Randwick, New South Wales, national team, Lord Mayor of Sydney\\\",\\n    \\\"and politician, chair of the Federal Reserve Bank of Kansas City\\\",\\n    \\\"Anarchist Federation\\\",\\n    \\\"Edmonton Eskimos and politician, Premier of Alberta\\\",\\n    \\\", political commentator and actor\\\",\\n    \\\", Qualifications Authority CEO\\\",\\n    \\\"Matson, Inc , conservationist Ghirardelli Square and diplomat, Trade Representative\\\",\\n    \\\"Central News Agency and diplomat, Representative to\\\",\\n    \\\"Ambassador and diplomat, to Czechoslovakia ;\\\",\\n    \\\"Cox Enterprises and diplomat, Ambassador to\\\",\\n    \\\"Ambassador to Mexico, , and diplomat,\\\",\\n    \\\"Ambassador to and diplomat,\\\",\\n    \\\"civil rights activist\\\",\\n    \\\"Lok Sabha, Gurdaspur, and politician, member of the for ; since\\\",\\n    \\\"Idaho House of Representatives and politician, member of the\\\",\\n    \\\"Legislative Yuan, , director and politician, member of the\\\",\\n    \\\"House of Representatives and politician, member of the\\\",\\n    \\\"Del Rosario University and politician, Commandant of the Army , Governor of Magdalena\\\",\\n    \\\", Governor of Maharashtra and Rajasthan\\\",\\n    \\\", Governor of Nagaland and Manipur\\\",\\n    \\\"and Lieutenant Governor of\\\",\\n    \\\"and Governor of West\\\",\\n    \\\"Calgary Stampeders, Edmonton Eskimos and politician, Lieutenant Governor of Alberta\\\",\\n    \\\"and Governor of Bank of Scotland,\\\",\\n    \\\", Governor General\\\",\\n    \\\"Idaho House of Representatives and politician, member of the\\\",\\n    \\\"House of Representatives and politician, member of the\\\",\\n    \\\"Randwick, New South Wales, national team, Lord Mayor of Sydney\\\",\\n    \\\"Napster and politician, Mayor of San Carlos,\\\",\\n    \\\"Henderson, Nevada, Mayor of\\\",\\n    \\\", Mayor of the Gold Coast\\\",\\n    \\\"The Invincibles, rules footballer and politician, Victorian MLA for Prahran\\\",\\n    \\\"Saurashtra and politician, MLA , ,\\\",\\n    \\\"Andhra Pradesh, MLA and politician,\\\",\\n    \\\"Lehman Brothers, co founder of The Blackstone Group, Secretary of Commerce\\\",\\n    \\\"Goldman Sachs and civil servant, Deputy Secretary of State\\\",\\n    \\\"Assistant Secretary of State and government official,\\\",\\n]\\npolitics_govt_law = sorted(\\n    list(set(politics_govt_law)), key=lambda x: len(x), reverse=True\\n)\\n\\narts = [\\n    \\\"Conseil sup\\u00e9rieur de l'audiovisuel, Centre national du cin\\u00e9ma et de l'image anim\\u00e9e\\\",\\n    \\\"South Melbourne and radio broadcaster ABC Local Radio\\\",\\n    \\\"and fight choreographer , ,\\\",\\n    \\\"Canterbury region and biographer Richard Pearse, Denis Glover\\\",\\n    \\\"Green Bay Packers, Denver Broncos and stuntman\\\",\\n    \\\", stuntman and actor\\\",\\n    \\\"WWF and stuntman ,\\\",\\n    \\\", , and stuntman\\\",\\n    \\\"NJPW, WCW and reality show contestant , Olympic bronze medalist\\\",\\n    \\\"WWE, model and reality show contestant\\\",\\n    \\\"Tate LaBianca murders case and author ,\\\",\\n    \\\"Milwaukee Brewers, Yankees and announcer Cleveland Indians\\\",\\n    \\\"Pittsburgh Pirates and announcer Mets\\\",\\n    \\\"WCCO TV, Fox Sports North and sports commentator Minnesota Timberwolves\\\",\\n    \\\"WMAQ, WSNS TV and sports talk personality Sporting News Radio\\\",\\n    \\\"WHDH, The Weather Channel\\\",\\n    \\\"The Weather Channel\\\",\\n    \\\"media Prime Television\\\",\\n    \\\"Shaw Communications and mass media executive Corus Entertainment\\\",\\n    \\\"Tupac Amaru Shakur Center for the Arts, Amaru Entertainment, Makaveli Branded\\\",\\n    \\\"Playboy\\\",\\n    \\\"and lyricist national anthem\\\",\\n    \\\"child actor\\\",\\n    \\\"Cardinals, Cubs, Pirates and Hall of Fame sportscaster MLB GOTW, World Series champion\\\",\\n    \\\"Philadelphia Eagles, coach and sportscaster CBS Sports, WCAU\\\",\\n    \\\"Oakland Raiders and sportscaster Super Bowl, , champion\\\",\\n    \\\"Toronto Argonauts, Dallas Cowboys and sportscaster TSN\\\",\\n    \\\"Cleveland Browns, Dallas Cowboys and sportscaster CBS\\\",\\n    \\\"Philadelphia Eagles, Rams and sportscaster\\\",\\n    \\\"Film Society of Lincoln Center\\\",\\n    \\\"CNN, MSNBC\\\",\\n    \\\"Kingston Kings, national team and presenter Sky Sports\\\",\\n    \\\"M\\u00fcnnich Motorsport and television presenter\\\",\\n    \\\", and television presenter\\\",\\n    \\\", journalist and editor AGERPRES,\\\",\\n    \\\"and journalist\\\",\\n    \\\"national team and sports commentator ABC Sports, ESPN\\\",\\n    \\\"Dodgers, Chicago Cubs, Yankees and commentator, World Series champion ,\\\",\\n    \\\"Kaizer Chiefs, national team and commentator SuperSport\\\",\\n    \\\"national team and sports commentator ABC Sports, ESPN\\\",\\n    \\\"Dallas Cowboys and commentator\\\",\\n    \\\"WWA, WWWF and commentator\\\",\\n    \\\"chairman of ITV plc\\\",\\n    \\\"since , Ambassador to and child actor\\\",\\n    \\\", actor ,\\\",\\n    \\\"World War II and actor Oscar, winner\\\",\\n    \\\"Bible Black, Geezer Butler Band, actor\\\",\\n    \\\"Queen Mary University of and child actor kg schoolboy champion, BUCS champion ,\\\",\\n    \\\"Chicago Blackhawks, Toronto Maple Leafs and actor Stanley Cup, champion\\\",\\n    \\\"Philadelphia San Francisco Warriors, Lakers and actor\\\",\\n    \\\"Cleveland Browns, Philadelphia Eagles and actor\\\",\\n    \\\"San Francisco ers, Baltimore Colts and actor\\\",\\n    \\\"Pittsburgh Steelers and actor ,\\\",\\n    \\\"national team and child actor ,\\\",\\n    \\\"Bellator, UFC, boxer and actor\\\",\\n    \\\"Yankees, writer , and actor\\\",\\n    \\\"WWE, NWA, WCW and actor , ,\\\",\\n    \\\", stunt double and actor ,\\\",\\n    \\\"Detroit Lions and actor ,\\\",\\n    \\\"Oakland Raiders and actor\\\",\\n    \\\"Baltimore Colts and actor\\\",\\n    \\\"Dallas Cowboys and actor\\\",\\n    \\\"Stampede and actor ,\\\",\\n    \\\", stuntman and actor\\\",\\n    \\\"IWE, NJPW and actor\\\",\\n    \\\"CMLL, WCW and actor\\\",\\n    \\\"WCCW, WWF and actor\\\",\\n    \\\"WCCW and actor ,\\\",\\n    \\\"Rams and actor ,\\\",\\n    \\\"Mets and actor ,\\\",\\n    \\\"NWA and actor ,\\\",\\n    \\\"WWE and actor ,\\\",\\n    \\\"WWF and actor\\\",\\n    \\\"and actor , ,\\\",\\n    \\\"WBO and actor\\\",\\n    \\\", and actor\\\",\\n    \\\"and actor ,\\\",\\n    \\\", actor\\\",\\n]\\narts = sorted(list(set(arts)), key=lambda x: len(x), reverse=True)\\n\\nsports = [\\n    \\\"Philadelphia Eagles, and football player Baltimore Colts,\\\",\\n    \\\"Hendrick Motorsports\\\",\\n    \\\"Back Bay Restaurant Group and dog racetrack owner Wonderland Greyhound Park\\\",\\n    \\\"General Electric, owner of Albany River Rats\\\",\\n    \\\", co founder of the AFL and owner of the Chargers\\\",\\n    \\\"Cyclone Tracy and AFL player St Kilda\\\",\\n    \\\"cricketer Otago\\\",\\n    \\\"First Allied Corporation and sports franchise owner Manchester United, Tampa Bay Buccaneers\\\",\\n    \\\"A Bank , broadcast executive TV and sport administrator Cricket\\\",\\n    \\\"and sports executive\\\",\\n    \\\"Oakland Athletics, Golden State Warriors, Golden Bears football\\\",\\n    \\\"Chicago Bears, and football player\\\",\\n    \\\"football Sydney FC\\\",\\n    \\\"Mawarid Holding and horse stable owner Juddmonte\\\",\\n    \\\"Donald Trump and publicist New Generals,\\\",\\n    \\\"deputy, Olympique de Marseille and president of\\\",\\n    \\\"Baseball Hall of Fame, Yankees, Pittsburgh Pirates\\\",\\n    \\\"WCCO TV, Fox Sports North and sports commentator Minnesota Timberwolves\\\",\\n    \\\"WMAQ, WSNS TV and sports talk personality Sporting News Radio\\\",\\n    \\\"Fox Sports Media Group, CBC Sports\\\",\\n    \\\"NBC, NBC Sports, ABC Sports\\\",\\n    \\\"The Sports and composer ,\\\",\\n    \\\"CBS Sports\\\",\\n    \\\"Automobiles Gonfaronnaises Sportives\\\",\\n    \\\"Cerner, Sporting Kansas City\\\",\\n    \\\"Portland Trail Blazers and journalist\\\",\\n    \\\"NFL Films, ,\\\",\\n    \\\"NFL Films\\\",\\n    \\\"WCCO TV, Fox Sports North and sports commentator Minnesota Timberwolves\\\",\\n    \\\"WMAQ, WSNS TV and sports talk personality Sporting News Radio\\\",\\n    \\\"First Allied Corporation and sports franchise owner Manchester United, Tampa Bay Buccaneers\\\",\\n    \\\"ESPN, and reporter\\\",\\n    \\\"ESPN,\\\",\\n    \\\"since , president of the National Football Federation and minister of the interior\\\",\\n    \\\"WCCO TV, Fox Sports North and sports commentator Minnesota Timberwolves\\\",\\n    \\\"Victoria Day and footballer Djurg\\u00e5rdens IF\\\",\\n    \\\"Essendon and footballer Hawthorn\\\",\\n    \\\"First Allied Corporation and sports franchise owner Manchester United, Tampa Bay Buccaneers\\\",\\n    \\\"PizzaExpress and football club owner Peterborough United\\\",\\n    \\\"United Dairy Farmers, Cincinnati Reds\\\",\\n    \\\"Cotton Factory Club, national team\\\",\\n    \\\"Partizan and coach OKK Beograd, Cant\\u00f9, Secretary General of FIBA\\\",\\n]\\nsports = sorted(list(set(sports)), key=lambda x: len(x), reverse=True)\\n\\nsciences = [\\n    \\\"Atari, , , Director of Engineering for\\\",\\n    \\\"Bud Moore Engineering\\\",\\n    \\\"co discovered the blood test for the Rh blood factor\\\",\\n]\\nsciences = sorted(list(set(sciences)), key=lambda x: len(x), reverse=True)\\n\\nbusiness_farming = [\\n    \\\"Playboy Enterprises, businessman  and reality television personality\\\",\\n    \\\"Jimmy Dean Foods, actor and businessman\\\",\\n    \\\"Petro Canada, businessman Abu Sayyaf\\\",\\n    \\\"CA Technologies, \\\",\\n    \\\"Nintendo, , president and CEO of since\\\",\\n]\\nbusiness_farming = sorted(\\n    list(set(business_farming)), key=lambda x: len(x), reverse=True\\n)\\n\\nacademia_humanities = [\\n    \\\"Conseil sup\\u00e9rieur de l'audiovisuel, T\\u00e9l\\u00e9visions, International Francophone Press Union\\\",\\n    \\\"and Chancellor of University of Southampton since\\\",\\n    \\\"Canterbury, national team, sports administrator, and educator Auckland Grammar School\\\",\\n    \\\"Saskatchewan Wheat Pool and educator, chancellor of the University of Saskatchewan\\\",\\n    \\\"Eddie Harris, Elvin Jones and educator Conservatory of Music\\\",\\n    \\\"High Sheriff of Nottinghamshire and\\\",\\n    \\\"Warsaw Ghetto Uprising survivor\\\",\\n    \\\"University of Glasgow, Regius Professor of Zoology\\\",\\n    \\\"M\\u0101ori and coach Counties,\\\",\\n    \\\"and Rector of Pontifical Academy of Theology\\\",\\n    \\\"University of Otago and\\\",\\n    \\\"Eddie Harris, Elvin Jones and educator Conservatory of Music\\\",\\n    \\\"Division of Musical Instruments at the National Museum of History and Technology\\\",\\n    \\\"Chancellor of Queen University Belfast since\\\",\\n    \\\", Chairwoman of PLA and Chancellor of University of Southampton since\\\",\\n    \\\"Chancellor of McGill University and\\\",\\n    \\\"National Council of Jewish Women and philanthropist Cooper Hewitt, Smithsonian Design Museum\\\",\\n    \\\"Triangle Publications, TelVue and philanthropist Columbia University\\\",\\n    \\\"Washington University School of Medicine\\\",\\n    \\\"Johns Hopkins School of Medicine\\\",\\n    \\\"NSW Supreme Court, chancellor of the University of Sydney\\\",\\n    \\\", academic and chancellor of Carleton University\\\",\\n    \\\"and chancellor of the University of since\\\",\\n    \\\"Connecticut Bank and Trust Company and academic administrator, president of Trinity College Connecticut\\\",\\n    \\\"Deseret Management Corporation and academic administrator Weber State University\\\",\\n    \\\"General Electric and academic administrator Rensselaer Polytechnic Institute\\\",\\n    \\\"Chengdu J and academic Academy of Engineering\\\",\\n    \\\"Hongdu JL and academic Academy of Engineering\\\",\\n    \\\", academic and chancellor of Carleton University\\\",\\n    \\\"Ball State University, and academic\\\",\\n    \\\"Connecticut House, , judge Connecticut Superior Court, ; professor Quinnipiac\\\",\\n    \\\"All Girls Professional Baseball League and professor Suffolk University\\\",\\n    \\\"University of North Carolina Wilmington and professor\\\",\\n    \\\"CBS News and professor University of Southern\\\",\\n    \\\"Seoul Institute of the Arts and professor\\\",\\n    \\\"Medtronic and museum founder Bakken Museum\\\",\\n]\\nacademia_humanities = sorted(\\n    list(set(academia_humanities)), key=lambda x: len(x), reverse=True\\n)\\n\\nlaw_enf_military_operator = [\\n    \\\", Acting Director of FBI and Administrator of EPA ,\\\",\\n    \\\", Secretary of State for War and Minister for the Armed Forces\\\",\\n    \\\"ISIL in\\\",\\n    \\\", Sheriff of Middlesex County\\\",\\n    \\\"Colorado A&M Aggies and World War II RAF officer Tuskegee Airmen\\\",\\n    \\\", and aviator Tuskegee Airmen\\\",\\n    \\\"Tuskegee Airmen\\\",\\n    \\\"NRK and military officer Commander of Operation Gunnerside\\\",\\n    \\\"Police Department,  and police officer\\\",\\n    \\\"Assistant Secretary of Defense, Ambassador to\\\",\\n    \\\"minister of defence\\\",\\n    \\\"Al Qaeda\\\",\\n    \\\"Great Eastern Islamic Raiders' Front\\\",\\n    \\\"Islamic Jihad of\\\",\\n    \\\"Islamic State\\\",\\n    \\\"Assistant Secretary of Defense, Ambassador to\\\",\\n    \\\", Minister of Defense\\\",\\n    \\\", Defense Minister\\\",\\n    \\\"Defense Forces,\\\",\\n    \\\"Colorado A&M Aggies and World War II RAF officer Tuskegee Airmen\\\",\\n    \\\"FK Liep\\u0101jas Metalurgs, RAF Jelgava, national team\\\",\\n    \\\"NRK and military officer Commander of Operation Gunnerside\\\",\\n    \\\", minister of defense , and provisional president of the Senate\\\",\\n    \\\", since , minister of national defense and interior\\\",\\n    \\\", foreign affairs and defense since\\\",\\n    \\\"since and minister of defense\\\",\\n    \\\", secretary of the Navy\\\",\\n    \\\", , Navy Minister\\\",\\n    \\\"and Bishop to the Forces\\\",\\n    \\\"Defense Forces,\\\",\\n    \\\", Secretary of State for War and Minister for the Armed Forces\\\",\\n    \\\"and Director General of the National Police\\\",\\n    \\\"Police Department,  and police officer\\\",\\n    \\\"and Halland , Police Commissioner\\\",\\n    \\\"and Minister of Police Affairs\\\",\\n    \\\"Police Sports Club\\\",\\n    \\\", minister of defence and transport and public works since\\\",\\n    \\\", minister of the interior , and national defence\\\",\\n    \\\", minister of national defence and transport\\\",\\n    \\\", minister of defence and foreign affairs ,\\\",\\n    \\\", minister of foreign affairs and defence\\\",\\n    \\\", minister of defence and the interior\\\",\\n    \\\"since and minister of defence since\\\",\\n    \\\", deputy , and minister of defence\\\",\\n    \\\"Red Brigades\\\",\\n    \\\"Team B and professor University\\\",\\n    \\\"United Freedom Front\\\",\\n]\\nlaw_enf_military_operator = sorted(\\n    list(set(law_enf_military_operator)), key=lambda x: len(x), reverse=True\\n)\\n\\nspiritual = [\\\", auxiliary bishop of Port Moresby since\\\"]\\nspiritual = sorted(list(set(spiritual)), key=lambda x: len(x), reverse=True)\\n\\nsocial = [\\n    \\\"National Urban League, UNCF\\\",\\n    \\\"Bear Stearns, St Vincent Catholic Medical Center and philanthropist Al Smith Dinner\\\",\\n    \\\"Tesla, Wikimedia Foundation\\\",\\n    \\\"Mutual of and humanitarian Concern Worldwide,\\\",\\n    \\\"Chase Manhattan, globalist Trilateral Commission and philanthropist Rockefeller Brothers Fund\\\",\\n    \\\"James B Nutter & Company, philanthropist Children Mercy Hospital and power broker Missouri\\\",\\n    \\\"Bear Stearns, St Vincent Catholic Medical Center and philanthropist Al Smith Dinner\\\",\\n    \\\"Berkshire Hathaway and philanthropist Maine Medical Center\\\",\\n    \\\"Barrick Gold and philanthropist Toronto General Hospital\\\",\\n    \\\"philanthropist Smile Train\\\",\\n    \\\"Mencap and activist\\\",\\n]\\nsocial = sorted(list(set(social)), key=lambda x: len(x), reverse=True)\\n\\ncrime = [\\n    \\\"Richard Nixon, convicted for conspiracy to obstruct justice and wiretapping Watergate scandal\\\",\\n    \\\"CIA, Brigade and convicted criminal Watergate burglary\\\",\\n    \\\"Seattle Seahawks, Oakland Raiders, Jets and mass murderer Rock Hill shooting\\\",\\n    \\\"of Vincennes scandal\\\",\\n    \\\"Angry Brigade\\\",\\n]\\ncrime = sorted(list(set(crime)), key=lambda x: len(x), reverse=True)\\n\\nevent_record_other = [\\n    \\\"coup d'\\u00e9tat\\\",\\n    \\\"Hezbollah, FBI most wanted terrorist death announced on this date\\\",\\n    \\\"and Nobel survivor, Laureate\\\",\\n    \\\"Oscar, , and Holocaust survivor, winner ,\\\",\\n]\\nevent_record_other = sorted(\\n    list(set(event_record_other)), key=lambda x: len(x), reverse=True\\n)\\n\\nother_species = []\\nother_species = sorted(list(set(other_species)), key=lambda x: len(x), reverse=True)\\n\\ncause_of_death = []\\ncause_of_death = sorted(list(set(cause_of_death)), key=lambda x: len(x), reverse=True)\";\n",
       "                var nbb_cells = Jupyter.notebook.get_cells();\n",
       "                for (var i = 0; i < nbb_cells.length; ++i) {\n",
       "                    if (nbb_cells[i].input_prompt_number == nbb_cell_id) {\n",
       "                        if (nbb_cells[i].get_text() == nbb_unformatted_code) {\n",
       "                             nbb_cells[i].set_text(nbb_formatted_code);\n",
       "                        }\n",
       "                        break;\n",
       "                    }\n",
       "                }\n",
       "            }, 500);\n",
       "            "
      ],
      "text/plain": [
       "<IPython.core.display.Javascript object>"
      ]
     },
     "metadata": {},
     "output_type": "display_data"
    }
   ],
   "source": [
    "# Creating lists for each category and sorting by decreasing length and removing duplicates\n",
    "\n",
    "politics_govt_law = [\n",
    "    \"CFRB, Senator and TV panelist\",\n",
    "    \"FARC and politician, deputy\",\n",
    "    \", Chairwoman of PLA\",\n",
    "    \"Winston Churchill\",\n",
    "    \", prefect of the CICLSAL and apostolic nuncio to\",\n",
    "    \"Richard Nixon, Gerald Ford\",\n",
    "    \"Jyllands Posten Muhammad cartoons controversy\",\n",
    "    \"Koch Industries and political financier Americans for Prosperity\",\n",
    "    \"Holocaust, political activist\",\n",
    "    \"national team and politician, National Councillor\",\n",
    "    \"Race Relations Conciliator\",\n",
    "    \"Quezon City Pride Council, and LGBT activist\",\n",
    "    \"since and Apostolic Nuncio to since\",\n",
    "    \"since , Apostolic Nuncio to\",\n",
    "    \"since , Apostolic Nuncio\",\n",
    "    \"and Apostolic Nuncio to\",\n",
    "    \"Church of the Universe and political candidate Marijuana Party\",\n",
    "    \"Education Commission of the States\",\n",
    "    \"Assistant Secretary of State and government official,\",\n",
    "    \"Merrill Lynch, Assistant Secretary of the Treasury\",\n",
    "    \"Assistant Attorney General,\",\n",
    "    \", Prefect of the Congregation for the Clergy and President of the Pontifical Commission\",\n",
    "    \", President of the Pontifical Commission for City State\",\n",
    "    \"and president of the Pastoral Care of Health Care Workers\",\n",
    "    \", prefect of the CICLSAL and apostolic nuncio to\",\n",
    "    \"since and Apostolic nuncio\",\n",
    "    \"MBM Arquitectes and urban planner, Barcelona city councilor and president of Fundació Joan Miró\",\n",
    "    \"national team, coach Magic, and politician, Hamilton city councillor , since\",\n",
    "    \"and Knoxville, Tennessee city councilman\",\n",
    "    \"Radio Free Radio Liberty\",\n",
    "    \", chief of the general staff , and governor of\",\n",
    "    \"and chairman joint chiefs of staff committee\",\n",
    "    \"civil rights activist, National Medal of Arts and , laureate\",\n",
    "    \"Goldman Sachs and civil servant, Deputy Secretary of State\",\n",
    "    \"national team, coach Magic, and politician, Hamilton city councillor , since\",\n",
    "    \"national team and politician, Ballymena Borough councillor\",\n",
    "    \"and political activist Black Panthers\",\n",
    "    \"Moro Islamic Liberation Front and politician, Speaker of the Bangsamoro Parliament since\",\n",
    "    \"Ambassador\",\n",
    "    \"University of Arkansas at Little Rock and child development campaigner NAEYC\",\n",
    "    \"Pulitzer Prize and political scientist, recipient of the\",\n",
    "    \", political commentator and actor\",\n",
    "    \"Swimming and defense lawyer Gary Ridgway\",\n",
    "    \"Apollo , assistant secretary of state for public affairs\",\n",
    "    \", Vice President , Director of Central Intelligence\",\n",
    "    \"External Intelligence of the Defence Force\",\n",
    "    \"The Tragically Hip and activist Lake Waterkeeper, residential school reconciliation\",\n",
    "    \"Que Sera, Sera, Golden Globe, singer  and animal welfare activist, winner , , ,\",\n",
    "    \"Nobel Prize laureate in Literature, , and anti apartheid activist,\",\n",
    "    \"civil rights activist, National Medal of Arts and , laureate\",\n",
    "    \"phone hacking scandal, whistleblower of the ,  body found on this date\",\n",
    "    \"Lehman Brothers, co founder of The Blackstone Group, Secretary of Commerce\",\n",
    "    \"Legislative Yuan, , director and politician, member of the\",\n",
    "    \"and chairman of the Atomic Energy Commission\",\n",
    "    \"and chairman of the UGC\",\n",
    "    \"Randwick, New South Wales, national team, Lord Mayor of Sydney\",\n",
    "    \"and politician, chair of the Federal Reserve Bank of Kansas City\",\n",
    "    \"Anarchist Federation\",\n",
    "    \"Edmonton Eskimos and politician, Premier of Alberta\",\n",
    "    \", political commentator and actor\",\n",
    "    \", Qualifications Authority CEO\",\n",
    "    \"Matson, Inc , conservationist Ghirardelli Square and diplomat, Trade Representative\",\n",
    "    \"Central News Agency and diplomat, Representative to\",\n",
    "    \"Ambassador and diplomat, to Czechoslovakia ;\",\n",
    "    \"Cox Enterprises and diplomat, Ambassador to\",\n",
    "    \"Ambassador to Mexico, , and diplomat,\",\n",
    "    \"Ambassador to and diplomat,\",\n",
    "    \"civil rights activist\",\n",
    "    \"Lok Sabha, Gurdaspur, and politician, member of the for ; since\",\n",
    "    \"Idaho House of Representatives and politician, member of the\",\n",
    "    \"Legislative Yuan, , director and politician, member of the\",\n",
    "    \"House of Representatives and politician, member of the\",\n",
    "    \"Del Rosario University and politician, Commandant of the Army , Governor of Magdalena\",\n",
    "    \", Governor of Maharashtra and Rajasthan\",\n",
    "    \", Governor of Nagaland and Manipur\",\n",
    "    \"and Lieutenant Governor of\",\n",
    "    \"and Governor of West\",\n",
    "    \"Calgary Stampeders, Edmonton Eskimos and politician, Lieutenant Governor of Alberta\",\n",
    "    \"and Governor of Bank of Scotland,\",\n",
    "    \", Governor General\",\n",
    "    \"Idaho House of Representatives and politician, member of the\",\n",
    "    \"House of Representatives and politician, member of the\",\n",
    "    \"Randwick, New South Wales, national team, Lord Mayor of Sydney\",\n",
    "    \"Napster and politician, Mayor of San Carlos,\",\n",
    "    \"Henderson, Nevada, Mayor of\",\n",
    "    \", Mayor of the Gold Coast\",\n",
    "    \"The Invincibles, rules footballer and politician, Victorian MLA for Prahran\",\n",
    "    \"Saurashtra and politician, MLA , ,\",\n",
    "    \"Andhra Pradesh, MLA and politician,\",\n",
    "    \"Lehman Brothers, co founder of The Blackstone Group, Secretary of Commerce\",\n",
    "    \"Goldman Sachs and civil servant, Deputy Secretary of State\",\n",
    "    \"Assistant Secretary of State and government official,\",\n",
    "]\n",
    "politics_govt_law = sorted(\n",
    "    list(set(politics_govt_law)), key=lambda x: len(x), reverse=True\n",
    ")\n",
    "\n",
    "arts = [\n",
    "    \"Conseil supérieur de l'audiovisuel, Centre national du cinéma et de l'image animée\",\n",
    "    \"South Melbourne and radio broadcaster ABC Local Radio\",\n",
    "    \"and fight choreographer , ,\",\n",
    "    \"Canterbury region and biographer Richard Pearse, Denis Glover\",\n",
    "    \"Green Bay Packers, Denver Broncos and stuntman\",\n",
    "    \", stuntman and actor\",\n",
    "    \"WWF and stuntman ,\",\n",
    "    \", , and stuntman\",\n",
    "    \"NJPW, WCW and reality show contestant , Olympic bronze medalist\",\n",
    "    \"WWE, model and reality show contestant\",\n",
    "    \"Tate LaBianca murders case and author ,\",\n",
    "    \"Milwaukee Brewers, Yankees and announcer Cleveland Indians\",\n",
    "    \"Pittsburgh Pirates and announcer Mets\",\n",
    "    \"WCCO TV, Fox Sports North and sports commentator Minnesota Timberwolves\",\n",
    "    \"WMAQ, WSNS TV and sports talk personality Sporting News Radio\",\n",
    "    \"WHDH, The Weather Channel\",\n",
    "    \"The Weather Channel\",\n",
    "    \"media Prime Television\",\n",
    "    \"Shaw Communications and mass media executive Corus Entertainment\",\n",
    "    \"Tupac Amaru Shakur Center for the Arts, Amaru Entertainment, Makaveli Branded\",\n",
    "    \"Playboy\",\n",
    "    \"and lyricist national anthem\",\n",
    "    \"child actor\",\n",
    "    \"Cardinals, Cubs, Pirates and Hall of Fame sportscaster MLB GOTW, World Series champion\",\n",
    "    \"Philadelphia Eagles, coach and sportscaster CBS Sports, WCAU\",\n",
    "    \"Oakland Raiders and sportscaster Super Bowl, , champion\",\n",
    "    \"Toronto Argonauts, Dallas Cowboys and sportscaster TSN\",\n",
    "    \"Cleveland Browns, Dallas Cowboys and sportscaster CBS\",\n",
    "    \"Philadelphia Eagles, Rams and sportscaster\",\n",
    "    \"Film Society of Lincoln Center\",\n",
    "    \"CNN, MSNBC\",\n",
    "    \"Kingston Kings, national team and presenter Sky Sports\",\n",
    "    \"Münnich Motorsport and television presenter\",\n",
    "    \", and television presenter\",\n",
    "    \", journalist and editor AGERPRES,\",\n",
    "    \"and journalist\",\n",
    "    \"national team and sports commentator ABC Sports, ESPN\",\n",
    "    \"Dodgers, Chicago Cubs, Yankees and commentator, World Series champion ,\",\n",
    "    \"Kaizer Chiefs, national team and commentator SuperSport\",\n",
    "    \"national team and sports commentator ABC Sports, ESPN\",\n",
    "    \"Dallas Cowboys and commentator\",\n",
    "    \"WWA, WWWF and commentator\",\n",
    "    \"chairman of ITV plc\",\n",
    "    \"since , Ambassador to and child actor\",\n",
    "    \", actor ,\",\n",
    "    \"World War II and actor Oscar, winner\",\n",
    "    \"Bible Black, Geezer Butler Band, actor\",\n",
    "    \"Queen Mary University of and child actor kg schoolboy champion, BUCS champion ,\",\n",
    "    \"Chicago Blackhawks, Toronto Maple Leafs and actor Stanley Cup, champion\",\n",
    "    \"Philadelphia San Francisco Warriors, Lakers and actor\",\n",
    "    \"Cleveland Browns, Philadelphia Eagles and actor\",\n",
    "    \"San Francisco ers, Baltimore Colts and actor\",\n",
    "    \"Pittsburgh Steelers and actor ,\",\n",
    "    \"national team and child actor ,\",\n",
    "    \"Bellator, UFC, boxer and actor\",\n",
    "    \"Yankees, writer , and actor\",\n",
    "    \"WWE, NWA, WCW and actor , ,\",\n",
    "    \", stunt double and actor ,\",\n",
    "    \"Detroit Lions and actor ,\",\n",
    "    \"Oakland Raiders and actor\",\n",
    "    \"Baltimore Colts and actor\",\n",
    "    \"Dallas Cowboys and actor\",\n",
    "    \"Stampede and actor ,\",\n",
    "    \", stuntman and actor\",\n",
    "    \"IWE, NJPW and actor\",\n",
    "    \"CMLL, WCW and actor\",\n",
    "    \"WCCW, WWF and actor\",\n",
    "    \"WCCW and actor ,\",\n",
    "    \"Rams and actor ,\",\n",
    "    \"Mets and actor ,\",\n",
    "    \"NWA and actor ,\",\n",
    "    \"WWE and actor ,\",\n",
    "    \"WWF and actor\",\n",
    "    \"and actor , ,\",\n",
    "    \"WBO and actor\",\n",
    "    \", and actor\",\n",
    "    \"and actor ,\",\n",
    "    \", actor\",\n",
    "]\n",
    "arts = sorted(list(set(arts)), key=lambda x: len(x), reverse=True)\n",
    "\n",
    "sports = [\n",
    "    \"Philadelphia Eagles, and football player Baltimore Colts,\",\n",
    "    \"Hendrick Motorsports\",\n",
    "    \"Back Bay Restaurant Group and dog racetrack owner Wonderland Greyhound Park\",\n",
    "    \"General Electric, owner of Albany River Rats\",\n",
    "    \", co founder of the AFL and owner of the Chargers\",\n",
    "    \"Cyclone Tracy and AFL player St Kilda\",\n",
    "    \"cricketer Otago\",\n",
    "    \"First Allied Corporation and sports franchise owner Manchester United, Tampa Bay Buccaneers\",\n",
    "    \"A Bank , broadcast executive TV and sport administrator Cricket\",\n",
    "    \"and sports executive\",\n",
    "    \"Oakland Athletics, Golden State Warriors, Golden Bears football\",\n",
    "    \"Chicago Bears, and football player\",\n",
    "    \"football Sydney FC\",\n",
    "    \"Mawarid Holding and horse stable owner Juddmonte\",\n",
    "    \"Donald Trump and publicist New Generals,\",\n",
    "    \"deputy, Olympique de Marseille and president of\",\n",
    "    \"Baseball Hall of Fame, Yankees, Pittsburgh Pirates\",\n",
    "    \"WCCO TV, Fox Sports North and sports commentator Minnesota Timberwolves\",\n",
    "    \"WMAQ, WSNS TV and sports talk personality Sporting News Radio\",\n",
    "    \"Fox Sports Media Group, CBC Sports\",\n",
    "    \"NBC, NBC Sports, ABC Sports\",\n",
    "    \"The Sports and composer ,\",\n",
    "    \"CBS Sports\",\n",
    "    \"Automobiles Gonfaronnaises Sportives\",\n",
    "    \"Cerner, Sporting Kansas City\",\n",
    "    \"Portland Trail Blazers and journalist\",\n",
    "    \"NFL Films, ,\",\n",
    "    \"NFL Films\",\n",
    "    \"WCCO TV, Fox Sports North and sports commentator Minnesota Timberwolves\",\n",
    "    \"WMAQ, WSNS TV and sports talk personality Sporting News Radio\",\n",
    "    \"First Allied Corporation and sports franchise owner Manchester United, Tampa Bay Buccaneers\",\n",
    "    \"ESPN, and reporter\",\n",
    "    \"ESPN,\",\n",
    "    \"since , president of the National Football Federation and minister of the interior\",\n",
    "    \"WCCO TV, Fox Sports North and sports commentator Minnesota Timberwolves\",\n",
    "    \"Victoria Day and footballer Djurgårdens IF\",\n",
    "    \"Essendon and footballer Hawthorn\",\n",
    "    \"First Allied Corporation and sports franchise owner Manchester United, Tampa Bay Buccaneers\",\n",
    "    \"PizzaExpress and football club owner Peterborough United\",\n",
    "    \"United Dairy Farmers, Cincinnati Reds\",\n",
    "    \"Cotton Factory Club, national team\",\n",
    "    \"Partizan and coach OKK Beograd, Cantù, Secretary General of FIBA\",\n",
    "]\n",
    "sports = sorted(list(set(sports)), key=lambda x: len(x), reverse=True)\n",
    "\n",
    "sciences = [\n",
    "    \"Atari, , , Director of Engineering for\",\n",
    "    \"Bud Moore Engineering\",\n",
    "    \"co discovered the blood test for the Rh blood factor\",\n",
    "]\n",
    "sciences = sorted(list(set(sciences)), key=lambda x: len(x), reverse=True)\n",
    "\n",
    "business_farming = [\n",
    "    \"Playboy Enterprises, businessman  and reality television personality\",\n",
    "    \"Jimmy Dean Foods, actor and businessman\",\n",
    "    \"Petro Canada, businessman Abu Sayyaf\",\n",
    "    \"CA Technologies, \",\n",
    "    \"Nintendo, , president and CEO of since\",\n",
    "]\n",
    "business_farming = sorted(\n",
    "    list(set(business_farming)), key=lambda x: len(x), reverse=True\n",
    ")\n",
    "\n",
    "academia_humanities = [\n",
    "    \"Conseil supérieur de l'audiovisuel, Télévisions, International Francophone Press Union\",\n",
    "    \"and Chancellor of University of Southampton since\",\n",
    "    \"Canterbury, national team, sports administrator, and educator Auckland Grammar School\",\n",
    "    \"Saskatchewan Wheat Pool and educator, chancellor of the University of Saskatchewan\",\n",
    "    \"Eddie Harris, Elvin Jones and educator Conservatory of Music\",\n",
    "    \"High Sheriff of Nottinghamshire and\",\n",
    "    \"Warsaw Ghetto Uprising survivor\",\n",
    "    \"University of Glasgow, Regius Professor of Zoology\",\n",
    "    \"Māori and coach Counties,\",\n",
    "    \"and Rector of Pontifical Academy of Theology\",\n",
    "    \"University of Otago and\",\n",
    "    \"Eddie Harris, Elvin Jones and educator Conservatory of Music\",\n",
    "    \"Division of Musical Instruments at the National Museum of History and Technology\",\n",
    "    \"Chancellor of Queen University Belfast since\",\n",
    "    \", Chairwoman of PLA and Chancellor of University of Southampton since\",\n",
    "    \"Chancellor of McGill University and\",\n",
    "    \"National Council of Jewish Women and philanthropist Cooper Hewitt, Smithsonian Design Museum\",\n",
    "    \"Triangle Publications, TelVue and philanthropist Columbia University\",\n",
    "    \"Washington University School of Medicine\",\n",
    "    \"Johns Hopkins School of Medicine\",\n",
    "    \"NSW Supreme Court, chancellor of the University of Sydney\",\n",
    "    \", academic and chancellor of Carleton University\",\n",
    "    \"and chancellor of the University of since\",\n",
    "    \"Connecticut Bank and Trust Company and academic administrator, president of Trinity College Connecticut\",\n",
    "    \"Deseret Management Corporation and academic administrator Weber State University\",\n",
    "    \"General Electric and academic administrator Rensselaer Polytechnic Institute\",\n",
    "    \"Chengdu J and academic Academy of Engineering\",\n",
    "    \"Hongdu JL and academic Academy of Engineering\",\n",
    "    \", academic and chancellor of Carleton University\",\n",
    "    \"Ball State University, and academic\",\n",
    "    \"Connecticut House, , judge Connecticut Superior Court, ; professor Quinnipiac\",\n",
    "    \"All Girls Professional Baseball League and professor Suffolk University\",\n",
    "    \"University of North Carolina Wilmington and professor\",\n",
    "    \"CBS News and professor University of Southern\",\n",
    "    \"Seoul Institute of the Arts and professor\",\n",
    "    \"Medtronic and museum founder Bakken Museum\",\n",
    "]\n",
    "academia_humanities = sorted(\n",
    "    list(set(academia_humanities)), key=lambda x: len(x), reverse=True\n",
    ")\n",
    "\n",
    "law_enf_military_operator = [\n",
    "    \", Acting Director of FBI and Administrator of EPA ,\",\n",
    "    \", Secretary of State for War and Minister for the Armed Forces\",\n",
    "    \"ISIL in\",\n",
    "    \", Sheriff of Middlesex County\",\n",
    "    \"Colorado A&M Aggies and World War II RAF officer Tuskegee Airmen\",\n",
    "    \", and aviator Tuskegee Airmen\",\n",
    "    \"Tuskegee Airmen\",\n",
    "    \"NRK and military officer Commander of Operation Gunnerside\",\n",
    "    \"Police Department,  and police officer\",\n",
    "    \"Assistant Secretary of Defense, Ambassador to\",\n",
    "    \"minister of defence\",\n",
    "    \"Al Qaeda\",\n",
    "    \"Great Eastern Islamic Raiders' Front\",\n",
    "    \"Islamic Jihad of\",\n",
    "    \"Islamic State\",\n",
    "    \"Assistant Secretary of Defense, Ambassador to\",\n",
    "    \", Minister of Defense\",\n",
    "    \", Defense Minister\",\n",
    "    \"Defense Forces,\",\n",
    "    \"Colorado A&M Aggies and World War II RAF officer Tuskegee Airmen\",\n",
    "    \"FK Liepājas Metalurgs, RAF Jelgava, national team\",\n",
    "    \"NRK and military officer Commander of Operation Gunnerside\",\n",
    "    \", minister of defense , and provisional president of the Senate\",\n",
    "    \", since , minister of national defense and interior\",\n",
    "    \", foreign affairs and defense since\",\n",
    "    \"since and minister of defense\",\n",
    "    \", secretary of the Navy\",\n",
    "    \", , Navy Minister\",\n",
    "    \"and Bishop to the Forces\",\n",
    "    \"Defense Forces,\",\n",
    "    \", Secretary of State for War and Minister for the Armed Forces\",\n",
    "    \"and Director General of the National Police\",\n",
    "    \"Police Department,  and police officer\",\n",
    "    \"and Halland , Police Commissioner\",\n",
    "    \"and Minister of Police Affairs\",\n",
    "    \"Police Sports Club\",\n",
    "    \", minister of defence and transport and public works since\",\n",
    "    \", minister of the interior , and national defence\",\n",
    "    \", minister of national defence and transport\",\n",
    "    \", minister of defence and foreign affairs ,\",\n",
    "    \", minister of foreign affairs and defence\",\n",
    "    \", minister of defence and the interior\",\n",
    "    \"since and minister of defence since\",\n",
    "    \", deputy , and minister of defence\",\n",
    "    \"Red Brigades\",\n",
    "    \"Team B and professor University\",\n",
    "    \"United Freedom Front\",\n",
    "]\n",
    "law_enf_military_operator = sorted(\n",
    "    list(set(law_enf_military_operator)), key=lambda x: len(x), reverse=True\n",
    ")\n",
    "\n",
    "spiritual = [\", auxiliary bishop of Port Moresby since\"]\n",
    "spiritual = sorted(list(set(spiritual)), key=lambda x: len(x), reverse=True)\n",
    "\n",
    "social = [\n",
    "    \"National Urban League, UNCF\",\n",
    "    \"Bear Stearns, St Vincent Catholic Medical Center and philanthropist Al Smith Dinner\",\n",
    "    \"Tesla, Wikimedia Foundation\",\n",
    "    \"Mutual of and humanitarian Concern Worldwide,\",\n",
    "    \"Chase Manhattan, globalist Trilateral Commission and philanthropist Rockefeller Brothers Fund\",\n",
    "    \"James B Nutter & Company, philanthropist Children Mercy Hospital and power broker Missouri\",\n",
    "    \"Bear Stearns, St Vincent Catholic Medical Center and philanthropist Al Smith Dinner\",\n",
    "    \"Berkshire Hathaway and philanthropist Maine Medical Center\",\n",
    "    \"Barrick Gold and philanthropist Toronto General Hospital\",\n",
    "    \"philanthropist Smile Train\",\n",
    "    \"Mencap and activist\",\n",
    "]\n",
    "social = sorted(list(set(social)), key=lambda x: len(x), reverse=True)\n",
    "\n",
    "crime = [\n",
    "    \"Richard Nixon, convicted for conspiracy to obstruct justice and wiretapping Watergate scandal\",\n",
    "    \"CIA, Brigade and convicted criminal Watergate burglary\",\n",
    "    \"Seattle Seahawks, Oakland Raiders, Jets and mass murderer Rock Hill shooting\",\n",
    "    \"of Vincennes scandal\",\n",
    "    \"Angry Brigade\",\n",
    "]\n",
    "crime = sorted(list(set(crime)), key=lambda x: len(x), reverse=True)\n",
    "\n",
    "event_record_other = [\n",
    "    \"coup d'état\",\n",
    "    \"Hezbollah, FBI most wanted terrorist death announced on this date\",\n",
    "    \"and Nobel survivor, Laureate\",\n",
    "    \"Oscar, , and Holocaust survivor, winner ,\",\n",
    "]\n",
    "event_record_other = sorted(\n",
    "    list(set(event_record_other)), key=lambda x: len(x), reverse=True\n",
    ")\n",
    "\n",
    "other_species = []\n",
    "other_species = sorted(list(set(other_species)), key=lambda x: len(x), reverse=True)\n",
    "\n",
    "cause_of_death = []\n",
    "cause_of_death = sorted(list(set(cause_of_death)), key=lambda x: len(x), reverse=True)"
   ]
  },
  {
   "cell_type": "code",
   "execution_count": 49,
   "id": "3f0c3b9b",
   "metadata": {},
   "outputs": [
    {
     "data": {
      "application/javascript": [
       "\n",
       "            setTimeout(function() {\n",
       "                var nbb_cell_id = 49;\n",
       "                var nbb_unformatted_code = \"# Dropping entry with link that points to another individual's page\\ndf.drop(\\n    df[df[\\\"link\\\"] == \\\"https://en.wikipedia.org/wiki/Larry_Fisher_(murderer)\\\"].index,\\n    inplace=True,\\n)\\ndf.reset_index(inplace=True, drop=True)\\n\\n# Hard-coding cause_of_death for entry with partial value in info_parenth_copy\\ndf.loc[\\n    df[df[\\\"link\\\"] == \\\"https://en.wikipedia.org/wiki/Moustapha_Akkad\\\"].index,\\n    \\\"cause_of_death\\\",\\n] = \\\"injuries sustained in Jordanian bombings\\\"\\n\\n# Hard-coding cause_of_death for entry with value converted from apparent suicide to homicide\\ndf.loc[\\n    df[df[\\\"link\\\"] == \\\"https://en.wikipedia.org/wiki/Alberto_Nisman\\\"].index,\\n    \\\"cause_of_death\\\",\\n] = \\\"homicide\\\"\";\n",
       "                var nbb_formatted_code = \"# Dropping entry with link that points to another individual's page\\ndf.drop(\\n    df[df[\\\"link\\\"] == \\\"https://en.wikipedia.org/wiki/Larry_Fisher_(murderer)\\\"].index,\\n    inplace=True,\\n)\\ndf.reset_index(inplace=True, drop=True)\\n\\n# Hard-coding cause_of_death for entry with partial value in info_parenth_copy\\ndf.loc[\\n    df[df[\\\"link\\\"] == \\\"https://en.wikipedia.org/wiki/Moustapha_Akkad\\\"].index,\\n    \\\"cause_of_death\\\",\\n] = \\\"injuries sustained in Jordanian bombings\\\"\\n\\n# Hard-coding cause_of_death for entry with value converted from apparent suicide to homicide\\ndf.loc[\\n    df[df[\\\"link\\\"] == \\\"https://en.wikipedia.org/wiki/Alberto_Nisman\\\"].index,\\n    \\\"cause_of_death\\\",\\n] = \\\"homicide\\\"\";\n",
       "                var nbb_cells = Jupyter.notebook.get_cells();\n",
       "                for (var i = 0; i < nbb_cells.length; ++i) {\n",
       "                    if (nbb_cells[i].input_prompt_number == nbb_cell_id) {\n",
       "                        if (nbb_cells[i].get_text() == nbb_unformatted_code) {\n",
       "                             nbb_cells[i].set_text(nbb_formatted_code);\n",
       "                        }\n",
       "                        break;\n",
       "                    }\n",
       "                }\n",
       "            }, 500);\n",
       "            "
      ],
      "text/plain": [
       "<IPython.core.display.Javascript object>"
      ]
     },
     "metadata": {},
     "output_type": "display_data"
    }
   ],
   "source": [
    "# Dropping entry with link that points to another individual's page\n",
    "df.drop(\n",
    "    df[df[\"link\"] == \"https://en.wikipedia.org/wiki/Larry_Fisher_(murderer)\"].index,\n",
    "    inplace=True,\n",
    ")\n",
    "df.reset_index(inplace=True, drop=True)\n",
    "\n",
    "# Hard-coding cause_of_death for entry with partial value in info_parenth_copy\n",
    "df.loc[\n",
    "    df[df[\"link\"] == \"https://en.wikipedia.org/wiki/Moustapha_Akkad\"].index,\n",
    "    \"cause_of_death\",\n",
    "] = \"injuries sustained in Jordanian bombings\"\n",
    "\n",
    "# Hard-coding cause_of_death for entry with value converted from apparent suicide to homicide\n",
    "df.loc[\n",
    "    df[df[\"link\"] == \"https://en.wikipedia.org/wiki/Alberto_Nisman\"].index,\n",
    "    \"cause_of_death\",\n",
    "] = \"homicide\""
   ]
  },
  {
   "cell_type": "markdown",
   "id": "588a7bc7",
   "metadata": {},
   "source": [
    "#### Creating known_for_dict Dictionary of Category Keys and Specific Role Lists of Values"
   ]
  },
  {
   "cell_type": "code",
   "execution_count": 50,
   "id": "8a27257c",
   "metadata": {},
   "outputs": [
    {
     "data": {
      "application/javascript": [
       "\n",
       "            setTimeout(function() {\n",
       "                var nbb_cell_id = 50;\n",
       "                var nbb_unformatted_code = \"# Combining separate lists into one dictionary\\nknown_for_dict = {\\n    \\\"social\\\": social,\\n    \\\"spiritual\\\": spiritual,\\n    \\\"academia_humanities\\\": academia_humanities,\\n    \\\"business_farming\\\": business_farming,\\n    \\\"sciences\\\": sciences,\\n    \\\"politics_govt_law\\\": politics_govt_law,\\n    \\\"law_enf_military_operator\\\": law_enf_military_operator,\\n    \\\"crime\\\": crime,\\n    \\\"event_record_other\\\": event_record_other,\\n    \\\"other_species\\\": other_species,\\n    \\\"arts\\\": arts,\\n    \\\"sports\\\": sports,\\n}\";\n",
       "                var nbb_formatted_code = \"# Combining separate lists into one dictionary\\nknown_for_dict = {\\n    \\\"social\\\": social,\\n    \\\"spiritual\\\": spiritual,\\n    \\\"academia_humanities\\\": academia_humanities,\\n    \\\"business_farming\\\": business_farming,\\n    \\\"sciences\\\": sciences,\\n    \\\"politics_govt_law\\\": politics_govt_law,\\n    \\\"law_enf_military_operator\\\": law_enf_military_operator,\\n    \\\"crime\\\": crime,\\n    \\\"event_record_other\\\": event_record_other,\\n    \\\"other_species\\\": other_species,\\n    \\\"arts\\\": arts,\\n    \\\"sports\\\": sports,\\n}\";\n",
       "                var nbb_cells = Jupyter.notebook.get_cells();\n",
       "                for (var i = 0; i < nbb_cells.length; ++i) {\n",
       "                    if (nbb_cells[i].input_prompt_number == nbb_cell_id) {\n",
       "                        if (nbb_cells[i].get_text() == nbb_unformatted_code) {\n",
       "                             nbb_cells[i].set_text(nbb_formatted_code);\n",
       "                        }\n",
       "                        break;\n",
       "                    }\n",
       "                }\n",
       "            }, 500);\n",
       "            "
      ],
      "text/plain": [
       "<IPython.core.display.Javascript object>"
      ]
     },
     "metadata": {},
     "output_type": "display_data"
    }
   ],
   "source": [
    "# Combining separate lists into one dictionary\n",
    "known_for_dict = {\n",
    "    \"social\": social,\n",
    "    \"spiritual\": spiritual,\n",
    "    \"academia_humanities\": academia_humanities,\n",
    "    \"business_farming\": business_farming,\n",
    "    \"sciences\": sciences,\n",
    "    \"politics_govt_law\": politics_govt_law,\n",
    "    \"law_enf_military_operator\": law_enf_military_operator,\n",
    "    \"crime\": crime,\n",
    "    \"event_record_other\": event_record_other,\n",
    "    \"other_species\": other_species,\n",
    "    \"arts\": arts,\n",
    "    \"sports\": sports,\n",
    "}"
   ]
  },
  {
   "cell_type": "markdown",
   "id": "27e2e8d9",
   "metadata": {},
   "source": [
    "#### Extracting `known_for` Categories and `cause_of_death` Values from `info_parenth_copy`"
   ]
  },
  {
   "cell_type": "code",
   "execution_count": 51,
   "id": "238336c3",
   "metadata": {},
   "outputs": [
    {
     "name": "stdout",
     "output_type": "stream",
     "text": [
      "There are 33461 values in cause_of_death column.\n",
      "\n",
      "CPU times: total: 1min 11s\n",
      "Wall time: 1min 11s\n"
     ]
    },
    {
     "data": {
      "application/javascript": [
       "\n",
       "            setTimeout(function() {\n",
       "                var nbb_cell_id = 51;\n",
       "                var nbb_unformatted_code = \"%%time\\n\\n# Column to check\\ncolumn = 'info_parenth_copy'\\n\\n# Start dataframe\\ndataframe = df[df[column].notna()]\\n\\n# For loop to find cause in column and extract it to cause_of_death\\nfor cause in cause_of_death:\\n    for index in dataframe.index:\\n        item = df.loc[index, column]\\n        if item:\\n            if cause in item:\\n                if df.loc[index, 'cause_of_death']:\\n                    df.loc[index, 'cause_of_death'] = df.loc[index, 'cause_of_death'] + '/' + cause\\n                    df.loc[index, column] = item.replace(cause, '').strip()\\n                else:\\n                    df.loc[index, 'cause_of_death'] = cause\\n                    df.loc[index, column] = item.replace(cause, '').strip()\\n                \\n                \\n# For loop to find role in column and extract it as category\\nfor category, category_lst in known_for_dict.items():\\n    for role in category_lst:\\n        for index in dataframe.index:\\n                item = df.loc[index, column]\\n                if item:\\n                    if role in item:\\n                        df.loc[index, category] = 1\\n                        df.loc[index, column] = item.replace(role, '').strip()\\n\\n# Calculating num_categories\\ndf[\\\"num_categories\\\"] = df[known_for_dict.keys()].sum(axis=1)\\n\\n# Checking number of cause_of_death values\\nprint(f'There are {df[\\\"cause_of_death\\\"].notna().sum()} values in cause_of_death column.\\\\n')\";\n",
       "                var nbb_formatted_code = \"%%time\\n\\n# Column to check\\ncolumn = 'info_parenth_copy'\\n\\n# Start dataframe\\ndataframe = df[df[column].notna()]\\n\\n# For loop to find cause in column and extract it to cause_of_death\\nfor cause in cause_of_death:\\n    for index in dataframe.index:\\n        item = df.loc[index, column]\\n        if item:\\n            if cause in item:\\n                if df.loc[index, 'cause_of_death']:\\n                    df.loc[index, 'cause_of_death'] = df.loc[index, 'cause_of_death'] + '/' + cause\\n                    df.loc[index, column] = item.replace(cause, '').strip()\\n                else:\\n                    df.loc[index, 'cause_of_death'] = cause\\n                    df.loc[index, column] = item.replace(cause, '').strip()\\n                \\n                \\n# For loop to find role in column and extract it as category\\nfor category, category_lst in known_for_dict.items():\\n    for role in category_lst:\\n        for index in dataframe.index:\\n                item = df.loc[index, column]\\n                if item:\\n                    if role in item:\\n                        df.loc[index, category] = 1\\n                        df.loc[index, column] = item.replace(role, '').strip()\\n\\n# Calculating num_categories\\ndf[\\\"num_categories\\\"] = df[known_for_dict.keys()].sum(axis=1)\\n\\n# Checking number of cause_of_death values\\nprint(f'There are {df[\\\"cause_of_death\\\"].notna().sum()} values in cause_of_death column.\\\\n')\";\n",
       "                var nbb_cells = Jupyter.notebook.get_cells();\n",
       "                for (var i = 0; i < nbb_cells.length; ++i) {\n",
       "                    if (nbb_cells[i].input_prompt_number == nbb_cell_id) {\n",
       "                        if (nbb_cells[i].get_text() == nbb_unformatted_code) {\n",
       "                             nbb_cells[i].set_text(nbb_formatted_code);\n",
       "                        }\n",
       "                        break;\n",
       "                    }\n",
       "                }\n",
       "            }, 500);\n",
       "            "
      ],
      "text/plain": [
       "<IPython.core.display.Javascript object>"
      ]
     },
     "metadata": {},
     "output_type": "display_data"
    }
   ],
   "source": [
    "%%time\n",
    "\n",
    "# Column to check\n",
    "column = 'info_parenth_copy'\n",
    "\n",
    "# Start dataframe\n",
    "dataframe = df[df[column].notna()]\n",
    "\n",
    "# For loop to find cause in column and extract it to cause_of_death\n",
    "for cause in cause_of_death:\n",
    "    for index in dataframe.index:\n",
    "        item = df.loc[index, column]\n",
    "        if item:\n",
    "            if cause in item:\n",
    "                if df.loc[index, 'cause_of_death']:\n",
    "                    df.loc[index, 'cause_of_death'] = df.loc[index, 'cause_of_death'] + '/' + cause\n",
    "                    df.loc[index, column] = item.replace(cause, '').strip()\n",
    "                else:\n",
    "                    df.loc[index, 'cause_of_death'] = cause\n",
    "                    df.loc[index, column] = item.replace(cause, '').strip()\n",
    "                \n",
    "                \n",
    "# For loop to find role in column and extract it as category\n",
    "for category, category_lst in known_for_dict.items():\n",
    "    for role in category_lst:\n",
    "        for index in dataframe.index:\n",
    "                item = df.loc[index, column]\n",
    "                if item:\n",
    "                    if role in item:\n",
    "                        df.loc[index, category] = 1\n",
    "                        df.loc[index, column] = item.replace(role, '').strip()\n",
    "\n",
    "# Calculating num_categories\n",
    "df[\"num_categories\"] = df[known_for_dict.keys()].sum(axis=1)\n",
    "\n",
    "# Checking number of cause_of_death values\n",
    "print(f'There are {df[\"cause_of_death\"].notna().sum()} values in cause_of_death column.\\n')"
   ]
  },
  {
   "cell_type": "markdown",
   "id": "093bef74",
   "metadata": {},
   "source": [
    "#### Checking Updated num_categories Value Counts"
   ]
  },
  {
   "cell_type": "code",
   "execution_count": 52,
   "id": "d55f4f49",
   "metadata": {},
   "outputs": [
    {
     "data": {
      "text/plain": [
       "1    83755\n",
       "2    13128\n",
       "3     1115\n",
       "4       38\n",
       "5        3\n",
       "Name: num_categories, dtype: int64"
      ]
     },
     "execution_count": 52,
     "metadata": {},
     "output_type": "execute_result"
    },
    {
     "data": {
      "application/javascript": [
       "\n",
       "            setTimeout(function() {\n",
       "                var nbb_cell_id = 52;\n",
       "                var nbb_unformatted_code = \"# Checking Updated num_categories Value Counts\\ndf[\\\"num_categories\\\"].value_counts()\";\n",
       "                var nbb_formatted_code = \"# Checking Updated num_categories Value Counts\\ndf[\\\"num_categories\\\"].value_counts()\";\n",
       "                var nbb_cells = Jupyter.notebook.get_cells();\n",
       "                for (var i = 0; i < nbb_cells.length; ++i) {\n",
       "                    if (nbb_cells[i].input_prompt_number == nbb_cell_id) {\n",
       "                        if (nbb_cells[i].get_text() == nbb_unformatted_code) {\n",
       "                             nbb_cells[i].set_text(nbb_formatted_code);\n",
       "                        }\n",
       "                        break;\n",
       "                    }\n",
       "                }\n",
       "            }, 500);\n",
       "            "
      ],
      "text/plain": [
       "<IPython.core.display.Javascript object>"
      ]
     },
     "metadata": {},
     "output_type": "display_data"
    }
   ],
   "source": [
    "# Checking Updated num_categories Value Counts\n",
    "df[\"num_categories\"].value_counts()"
   ]
  },
  {
   "cell_type": "markdown",
   "id": "190ee37a",
   "metadata": {},
   "source": [
    "#### Observations:\n",
    "- We will proceed to rebuild known_for_dict and cause_of_death for the next iteration."
   ]
  },
  {
   "cell_type": "markdown",
   "id": "a5d3c58e",
   "metadata": {},
   "source": [
    "#### Extracting Additional `known_for` Category from `info_parenth_copy` Using `roles_list`"
   ]
  },
  {
   "cell_type": "code",
   "execution_count": 1485,
   "id": "32b67385",
   "metadata": {},
   "outputs": [
    {
     "data": {
      "application/javascript": [
       "\n",
       "            setTimeout(function() {\n",
       "                var nbb_cell_id = 1485;\n",
       "                var nbb_unformatted_code = \"# Slicing roles_list for search\\nroles_list_sliced = roles_list[2173:]\";\n",
       "                var nbb_formatted_code = \"# Slicing roles_list for search\\nroles_list_sliced = roles_list[2173:]\";\n",
       "                var nbb_cells = Jupyter.notebook.get_cells();\n",
       "                for (var i = 0; i < nbb_cells.length; ++i) {\n",
       "                    if (nbb_cells[i].input_prompt_number == nbb_cell_id) {\n",
       "                        if (nbb_cells[i].get_text() == nbb_unformatted_code) {\n",
       "                             nbb_cells[i].set_text(nbb_formatted_code);\n",
       "                        }\n",
       "                        break;\n",
       "                    }\n",
       "                }\n",
       "            }, 500);\n",
       "            "
      ],
      "text/plain": [
       "<IPython.core.display.Javascript object>"
      ]
     },
     "metadata": {},
     "output_type": "display_data"
    }
   ],
   "source": [
    "# # Slicing roles_list for search\n",
    "# roles_list_sliced = roles_list[2000:]"
   ]
  },
  {
   "cell_type": "code",
   "execution_count": 2054,
   "id": "fb414910",
   "metadata": {},
   "outputs": [
    {
     "data": {
      "application/javascript": [
       "\n",
       "            setTimeout(function() {\n",
       "                var nbb_cell_id = 2054;\n",
       "                var nbb_unformatted_code = \"# # Example code to check each value in slice of roles_list in descending order of frequency\\n# value = roles_list_sliced.pop()\\n# value\";\n",
       "                var nbb_formatted_code = \"# # Example code to check each value in slice of roles_list in descending order of frequency\\n# value = roles_list_sliced.pop()\\n# value\";\n",
       "                var nbb_cells = Jupyter.notebook.get_cells();\n",
       "                for (var i = 0; i < nbb_cells.length; ++i) {\n",
       "                    if (nbb_cells[i].input_prompt_number == nbb_cell_id) {\n",
       "                        if (nbb_cells[i].get_text() == nbb_unformatted_code) {\n",
       "                             nbb_cells[i].set_text(nbb_formatted_code);\n",
       "                        }\n",
       "                        break;\n",
       "                    }\n",
       "                }\n",
       "            }, 500);\n",
       "            "
      ],
      "text/plain": [
       "<IPython.core.display.Javascript object>"
      ]
     },
     "metadata": {},
     "output_type": "display_data"
    }
   ],
   "source": [
    "# # Example code to check each value in slice of roles_list in descending order of frequency\n",
    "# value = roles_list_sliced.pop()\n",
    "# value"
   ]
  },
  {
   "cell_type": "code",
   "execution_count": 2044,
   "id": "7b652960",
   "metadata": {},
   "outputs": [
    {
     "data": {
      "application/javascript": [
       "\n",
       "            setTimeout(function() {\n",
       "                var nbb_cell_id = 2044;\n",
       "                var nbb_unformatted_code = \"# Create specific_roles_cause_list for above popped value\\n# only checking entries not already in category associated with popped value\\nspecific_roles_cause_list = (\\n    df.loc[\\n        [\\n            index\\n            for index in df[\\n                (df[\\\"info_parenth_copy\\\"].notna())\\n                #                 & (df[\\\"politics_govt_law\\\"] == 0)\\n                #                 & (df[\\\"law_enf_military_operator\\\"] == 0)\\n                #                 & (df[\\\"spiritual\\\"] == 0)\\n                #                 & (df[\\\"sports\\\"] == 0)\\n                #                 & (df[\\\"academia_humanities\\\"] == 0)\\n                                & (df[\\\"arts\\\"] == 0)\\n                #                 & (df[\\\"business_farming\\\"] == 0)\\n                #                 & (df['crime']==0)\\n                #                 & (df[\\\"sciences\\\"] == 0)\\n                #                 & (df[\\\"social\\\"] == 0)\\n                & (df[\\\"other_species\\\"] == 0)\\n            ].index\\n            if value in df.loc[index, \\\"info_parenth_copy\\\"]\\n        ],\\n        \\\"info_parenth_copy\\\",\\n    ]\\n    .value_counts()\\n    .index.tolist()\\n)\";\n",
       "                var nbb_formatted_code = \"# Create specific_roles_cause_list for above popped value\\n# only checking entries not already in category associated with popped value\\nspecific_roles_cause_list = (\\n    df.loc[\\n        [\\n            index\\n            for index in df[\\n                (df[\\\"info_parenth_copy\\\"].notna())\\n                #                 & (df[\\\"politics_govt_law\\\"] == 0)\\n                #                 & (df[\\\"law_enf_military_operator\\\"] == 0)\\n                #                 & (df[\\\"spiritual\\\"] == 0)\\n                #                 & (df[\\\"sports\\\"] == 0)\\n                #                 & (df[\\\"academia_humanities\\\"] == 0)\\n                & (df[\\\"arts\\\"] == 0)\\n                #                 & (df[\\\"business_farming\\\"] == 0)\\n                #                 & (df['crime']==0)\\n                #                 & (df[\\\"sciences\\\"] == 0)\\n                #                 & (df[\\\"social\\\"] == 0)\\n                & (df[\\\"other_species\\\"] == 0)\\n            ].index\\n            if value in df.loc[index, \\\"info_parenth_copy\\\"]\\n        ],\\n        \\\"info_parenth_copy\\\",\\n    ]\\n    .value_counts()\\n    .index.tolist()\\n)\";\n",
       "                var nbb_cells = Jupyter.notebook.get_cells();\n",
       "                for (var i = 0; i < nbb_cells.length; ++i) {\n",
       "                    if (nbb_cells[i].input_prompt_number == nbb_cell_id) {\n",
       "                        if (nbb_cells[i].get_text() == nbb_unformatted_code) {\n",
       "                             nbb_cells[i].set_text(nbb_formatted_code);\n",
       "                        }\n",
       "                        break;\n",
       "                    }\n",
       "                }\n",
       "            }, 500);\n",
       "            "
      ],
      "text/plain": [
       "<IPython.core.display.Javascript object>"
      ]
     },
     "metadata": {},
     "output_type": "display_data"
    }
   ],
   "source": [
    "# # Create specific_roles_cause_list for above popped value\n",
    "# # only checking entries not already in category associated with popped value\n",
    "# specific_roles_cause_list = (\n",
    "#     df.loc[\n",
    "#         [\n",
    "#             index\n",
    "#             for index in df[\n",
    "#                 (df[\"info_parenth_copy\"].notna())\n",
    "#                 #                 & (df[\"politics_govt_law\"] == 0)\n",
    "#                 #                 & (df[\"law_enf_military_operator\"] == 0)\n",
    "#                 #                 & (df[\"spiritual\"] == 0)\n",
    "#                 #                 & (df[\"sports\"] == 0)\n",
    "#                 #                 & (df[\"academia_humanities\"] == 0)\n",
    "#                 #                 & (df[\"arts\"] == 0)\n",
    "#                 #                 & (df[\"business_farming\"] == 0)\n",
    "#                 #                 & (df['crime']==0)\n",
    "#                 #                 & (df[\"sciences\"] == 0)\n",
    "#                 #                 & (df[\"social\"] == 0)\n",
    "#                 & (df[\"other_species\"] == 0)\n",
    "#             ].index\n",
    "#             if value in df.loc[index, \"info_parenth_copy\"]\n",
    "#         ],\n",
    "#         \"info_parenth_copy\",\n",
    "#     ]\n",
    "#     .value_counts()\n",
    "#     .index.tolist()\n",
    "# )"
   ]
  },
  {
   "cell_type": "code",
   "execution_count": 2055,
   "id": "57729eb6",
   "metadata": {},
   "outputs": [
    {
     "data": {
      "application/javascript": [
       "\n",
       "            setTimeout(function() {\n",
       "                var nbb_cell_id = 2055;\n",
       "                var nbb_unformatted_code = \"# # Viewing list sorted by descending length to copy to dictionary below and screen values\\n# sorted(specific_roles_cause_list, key=lambda x: len(x), reverse=True)\";\n",
       "                var nbb_formatted_code = \"# # Viewing list sorted by descending length to copy to dictionary below and screen values\\n# sorted(specific_roles_cause_list, key=lambda x: len(x), reverse=True)\";\n",
       "                var nbb_cells = Jupyter.notebook.get_cells();\n",
       "                for (var i = 0; i < nbb_cells.length; ++i) {\n",
       "                    if (nbb_cells[i].input_prompt_number == nbb_cell_id) {\n",
       "                        if (nbb_cells[i].get_text() == nbb_unformatted_code) {\n",
       "                             nbb_cells[i].set_text(nbb_formatted_code);\n",
       "                        }\n",
       "                        break;\n",
       "                    }\n",
       "                }\n",
       "            }, 500);\n",
       "            "
      ],
      "text/plain": [
       "<IPython.core.display.Javascript object>"
      ]
     },
     "metadata": {},
     "output_type": "display_data"
    }
   ],
   "source": [
    "# # Viewing list sorted by descending length to copy to dictionary below and screen values\n",
    "# sorted(specific_roles_cause_list, key=lambda x: len(x), reverse=True)"
   ]
  },
  {
   "cell_type": "code",
   "execution_count": 2056,
   "id": "68321269",
   "metadata": {},
   "outputs": [
    {
     "data": {
      "application/javascript": [
       "\n",
       "            setTimeout(function() {\n",
       "                var nbb_cell_id = 2056;\n",
       "                var nbb_unformatted_code = \"# # Checking individua entries as needed\\n# df[df[column] == \\\"City Film Commissioner and executive,\\\"]\";\n",
       "                var nbb_formatted_code = \"# # Checking individua entries as needed\\n# df[df[column] == \\\"City Film Commissioner and executive,\\\"]\";\n",
       "                var nbb_cells = Jupyter.notebook.get_cells();\n",
       "                for (var i = 0; i < nbb_cells.length; ++i) {\n",
       "                    if (nbb_cells[i].input_prompt_number == nbb_cell_id) {\n",
       "                        if (nbb_cells[i].get_text() == nbb_unformatted_code) {\n",
       "                             nbb_cells[i].set_text(nbb_formatted_code);\n",
       "                        }\n",
       "                        break;\n",
       "                    }\n",
       "                }\n",
       "            }, 500);\n",
       "            "
      ],
      "text/plain": [
       "<IPython.core.display.Javascript object>"
      ]
     },
     "metadata": {},
     "output_type": "display_data"
    }
   ],
   "source": [
    "# # Checking individua entries as needed\n",
    "# df[df[column] == \"City Film Commissioner and executive,\"]"
   ]
  },
  {
   "cell_type": "markdown",
   "id": "cbecf535",
   "metadata": {},
   "source": [
    "#### Creating Lists for Each `known_for` Category and for `cause_of_death`"
   ]
  },
  {
   "cell_type": "code",
   "execution_count": 2058,
   "id": "f379ca2f",
   "metadata": {},
   "outputs": [
    {
     "data": {
      "application/javascript": [
       "\n",
       "            setTimeout(function() {\n",
       "                var nbb_cell_id = 2058;\n",
       "                var nbb_unformatted_code = \"# Creating lists for each category and sorting by decreasing length and removing duplicates\\n\\npolitics_govt_law = [\\n    \\\"Dassault Group and politician, Senator\\\",\\n    \\\"Mercury Atlas and politician, Senator from Ohio\\\",\\n    \\\"Senator and politician, MEP and\\\",\\n    \\\"Senator, , and politician,\\\",\\n    \\\"Senator, , and\\\",\\n    \\\"Senator and ,\\\",\\n    \\\"ZB, Radio Dunedin and politician Dunedin City Council\\\",\\n    \\\"Arts Council and executive, chair of\\\",\\n    \\\"Detroit City Council and politician\\\",\\n    \\\"Council for Secular Humanism\\\",\\n    \\\"deputy, , television presenter and politician,\\\",\\n    \\\"deputy, , and politician,\\\",\\n    \\\"Chernobyl disaster, Hero of the Union, deputy since\\\",\\n    \\\"ZB, Radio Dunedin and politician Dunedin City Council\\\",\\n    \\\"deputy, , television presenter and politician,\\\",\\n    \\\"Detroit City Council and politician\\\",\\n    \\\"Senator and politician, MEP and\\\",\\n    \\\"Senator, , and politician,\\\",\\n    \\\"deputy, , and politician,\\\",\\n    \\\"MEP, and politician,\\\",\\n    \\\"Dassault Group and politician, Senator\\\",\\n    \\\"Martini & Rossi and politician, Deputy\\\",\\n    \\\"Mercury Atlas and politician, Senator from Ohio\\\",\\n    \\\"Juventus, national team and politician, MEP\\\",\\n    \\\"Montreal Alouettes and politician, MNA\\\",\\n    \\\"Punjab, Lahore and politician, senator\\\",\\n    \\\"Vasco da Gama and politician, Deputy\\\",\\n    \\\"Laois and politician, TD , MEP\\\",\\n    \\\"and politician, MHA for Bass\\\",\\n    \\\"South Centre and economist, executive director of the\\\",\\n    \\\"Commissioner and executive,\\\",\\n    \\\"Arts Council and executive, chair of\\\",\\n    \\\", chairman of COSC and governor of Punjab\\\",\\n]\\npolitics_govt_law = sorted(\\n    list(set(politics_govt_law)), key=lambda x: len(x), reverse=True\\n)\\n\\narts = [\\n    \\\"Fulham and manager Coventry City, trade union leader PFA and TV presenter\\\",\\n    \\\"Stardom, Wrestle and reality TV personality\\\",\\n    \\\"and chairman of RTVE\\\",\\n    \\\"WLS TV, WMAQ TV\\\",\\n    \\\"WUSA, WJLA TV\\\",\\n    \\\"WBZ TV\\\",\\n    \\\"owner and CEO of Faberg\\u00e9 Inc and songwriter two time nominee for Academy Award for Best Original Song\\\",\\n    \\\"McCann Erickson and songwriter\\\",\\n    \\\"Tate murders, songwriter\\\",\\n    \\\"Family Radio\\\",\\n    \\\"Pragati Maidan, Institute of Management Bangalore, Salar Jung Museum\\\",\\n    \\\"Simon Property Group, producer\\\",\\n    \\\"Mann Theatres and film producer ,\\\",\\n    \\\"Univision and producer\\\",\\n    \\\"Portland Trail Blazers, Phoenix Suns and reality television personality\\\",\\n    \\\"Lakers and television broadcaster Utah Jazz\\\",\\n    \\\"County Superior Court and television personality ,\\\",\\n    \\\"County Superior Court and television personality\\\",\\n    \\\", Mayor of City , television judge\\\",\\n    \\\", and television personality\\\",\\n    \\\"Pulitzer Prize and writer , , winner ,\\\",\\n    \\\"Pulitzer Prize, winner\\\",\\n    \\\"World Trade Center, Shanghai World Financial Center, Bank of Tower\\\",\\n    \\\"Giants and broadcaster ABC\\\",\\n    \\\"War Resisters League and magazine editor\\\",\\n    \\\"DSW, NWWL, bodybuilder and actress\\\",\\n    \\\"Billy Rose Aquacade and actress ,\\\",\\n    \\\"WWF and actress , ,\\\",\\n    \\\"GLOW and actress ,\\\",\\n    \\\"and actress , ,\\\",\\n    \\\"Ford Motor Company, Chrysler and writer\\\",\\n    \\\"McCann Erickson and songwriter\\\",\\n    \\\"Yankees, Mets and writer\\\",\\n    \\\", , and writer\\\",\\n    \\\"Pulitzer Prize and writer , , winner ,\\\",\\n    \\\"City Film Commissioner and executive,\\\",\\n    \\\"and writer, ambassador to\\\",\\n    \\\"Pulitzer Prize team at Gannett and filmmaker\\\",\\n    \\\"Pulitzer Prize, , editor for team that won\\\",\\n]\\narts = sorted(list(set(arts)), key=lambda x: len(x), reverse=True)\\n\\nsports = [\\n    \\\"Seventh Judicial Circuit Court of and football player State Seminoles\\\",\\n    \\\"City Council and college football player USC\\\",\\n    \\\"San Francisco ers, and football player\\\",\\n    \\\"Nets, and basketball player\\\",\\n    \\\"Pittsburgh Steelers and football executive\\\",\\n    \\\"Indiana Pacers\\\",\\n    \\\"King Power and football club owner Leicester City\\\",\\n    \\\", owner of the Kansas City Royals\\\",\\n    \\\"HEICO and basketball franchise owner Memphis Grizzlies\\\",\\n]\\nsports = sorted(list(set(sports)), key=lambda x: len(x), reverse=True)\\n\\nsciences = []\\nsciences = sorted(list(set(sciences)), key=lambda x: len(x), reverse=True)\\n\\nbusiness_farming = []\\nbusiness_farming = sorted(\\n    list(set(business_farming)), key=lambda x: len(x), reverse=True\\n)\\n\\nacademia_humanities = [\\n    \\\"Botanical Museum of the National University of C\\u00f3rdoba\\\",\\n    \\\"High Desert Museum\\\",\\n    \\\"National Civil Rights Museum\\\",\\n    \\\"since and the National Museum\\\",\\n    \\\"City Film\\\",\\n    \\\"Symphony Orchestra, Royal Philharmonic Orchestra and teacher Canberra School of Music\\\",\\n    \\\"MIT, Medical School\\\",\\n    \\\"University and the Polaroid Corporation\\\",\\n    \\\"University of Cambridge and writer\\\",\\n]\\nacademia_humanities = sorted(\\n    list(set(academia_humanities)), key=lambda x: len(x), reverse=True\\n)\\n\\nlaw_enf_military_operator = [\\n    \\\", Chairman of the Joint Chiefs of Staff\\\",\\n    \\\"Parliament attack\\\",\\n    \\\"Trans Airways and evacuator Operation Moses\\\",\\n    \\\"Minister for the Environment, Minister for Defence, Member of the Parliament\\\",\\n    \\\", Minister of Defence and Chief Minister of Goa , , since\\\",\\n    \\\", Minister of National Defence and Foreign Affairs and\\\",\\n    \\\"since , Minister of Defence , and Finance\\\",\\n    \\\", Minister for Defence , Ceann Comhairle\\\",\\n    \\\", Minister for Defence and Territories\\\",\\n    \\\"and Minister of National Defence ,\\\",\\n    \\\", , Defence and External Affairs\\\",\\n    \\\", Minister of National Defence\\\",\\n    \\\", Minister of Defence and MP\\\",\\n    \\\", , Minister for Defence\\\",\\n    \\\", Minister of Defence ,\\\",\\n    \\\", Minister for Defence\\\",\\n    \\\"; Minister for Defence\\\",\\n    \\\", and Defence Minister\\\",\\n    \\\", Minister of Defence\\\",\\n    \\\"and Defence Minister\\\",\\n    \\\"and Defence , , MP\\\",\\n    \\\"and Defence\\\",\\n]\\nlaw_enf_military_operator = sorted(\\n    list(set(law_enf_military_operator)), key=lambda x: len(x), reverse=True\\n)\\n\\nspiritual = [\\\"Manson Family and cult leader\\\"]\\nspiritual = sorted(list(set(spiritual)), key=lambda x: len(x), reverse=True)\\n\\nsocial = [\\\"and President of the WWF\\\", \\\"Mission Alliance\\\"]\\nsocial = sorted(list(set(social)), key=lambda x: len(x), reverse=True)\\n\\ncrime = []\\ncrime = sorted(list(set(crime)), key=lambda x: len(x), reverse=True)\\n\\nevent_record_other = []\\nevent_record_other = sorted(\\n    list(set(event_record_other)), key=lambda x: len(x), reverse=True\\n)\\n\\nother_species = []\\nother_species = sorted(list(set(other_species)), key=lambda x: len(x), reverse=True)\\n\\ncause_of_death = []\\ncause_of_death = sorted(list(set(cause_of_death)), key=lambda x: len(x), reverse=True)\";\n",
       "                var nbb_formatted_code = \"# Creating lists for each category and sorting by decreasing length and removing duplicates\\n\\npolitics_govt_law = [\\n    \\\"Dassault Group and politician, Senator\\\",\\n    \\\"Mercury Atlas and politician, Senator from Ohio\\\",\\n    \\\"Senator and politician, MEP and\\\",\\n    \\\"Senator, , and politician,\\\",\\n    \\\"Senator, , and\\\",\\n    \\\"Senator and ,\\\",\\n    \\\"ZB, Radio Dunedin and politician Dunedin City Council\\\",\\n    \\\"Arts Council and executive, chair of\\\",\\n    \\\"Detroit City Council and politician\\\",\\n    \\\"Council for Secular Humanism\\\",\\n    \\\"deputy, , television presenter and politician,\\\",\\n    \\\"deputy, , and politician,\\\",\\n    \\\"Chernobyl disaster, Hero of the Union, deputy since\\\",\\n    \\\"ZB, Radio Dunedin and politician Dunedin City Council\\\",\\n    \\\"deputy, , television presenter and politician,\\\",\\n    \\\"Detroit City Council and politician\\\",\\n    \\\"Senator and politician, MEP and\\\",\\n    \\\"Senator, , and politician,\\\",\\n    \\\"deputy, , and politician,\\\",\\n    \\\"MEP, and politician,\\\",\\n    \\\"Dassault Group and politician, Senator\\\",\\n    \\\"Martini & Rossi and politician, Deputy\\\",\\n    \\\"Mercury Atlas and politician, Senator from Ohio\\\",\\n    \\\"Juventus, national team and politician, MEP\\\",\\n    \\\"Montreal Alouettes and politician, MNA\\\",\\n    \\\"Punjab, Lahore and politician, senator\\\",\\n    \\\"Vasco da Gama and politician, Deputy\\\",\\n    \\\"Laois and politician, TD , MEP\\\",\\n    \\\"and politician, MHA for Bass\\\",\\n    \\\"South Centre and economist, executive director of the\\\",\\n    \\\"Commissioner and executive,\\\",\\n    \\\"Arts Council and executive, chair of\\\",\\n    \\\", chairman of COSC and governor of Punjab\\\",\\n]\\npolitics_govt_law = sorted(\\n    list(set(politics_govt_law)), key=lambda x: len(x), reverse=True\\n)\\n\\narts = [\\n    \\\"Fulham and manager Coventry City, trade union leader PFA and TV presenter\\\",\\n    \\\"Stardom, Wrestle and reality TV personality\\\",\\n    \\\"and chairman of RTVE\\\",\\n    \\\"WLS TV, WMAQ TV\\\",\\n    \\\"WUSA, WJLA TV\\\",\\n    \\\"WBZ TV\\\",\\n    \\\"owner and CEO of Faberg\\u00e9 Inc and songwriter two time nominee for Academy Award for Best Original Song\\\",\\n    \\\"McCann Erickson and songwriter\\\",\\n    \\\"Tate murders, songwriter\\\",\\n    \\\"Family Radio\\\",\\n    \\\"Pragati Maidan, Institute of Management Bangalore, Salar Jung Museum\\\",\\n    \\\"Simon Property Group, producer\\\",\\n    \\\"Mann Theatres and film producer ,\\\",\\n    \\\"Univision and producer\\\",\\n    \\\"Portland Trail Blazers, Phoenix Suns and reality television personality\\\",\\n    \\\"Lakers and television broadcaster Utah Jazz\\\",\\n    \\\"County Superior Court and television personality ,\\\",\\n    \\\"County Superior Court and television personality\\\",\\n    \\\", Mayor of City , television judge\\\",\\n    \\\", and television personality\\\",\\n    \\\"Pulitzer Prize and writer , , winner ,\\\",\\n    \\\"Pulitzer Prize, winner\\\",\\n    \\\"World Trade Center, Shanghai World Financial Center, Bank of Tower\\\",\\n    \\\"Giants and broadcaster ABC\\\",\\n    \\\"War Resisters League and magazine editor\\\",\\n    \\\"DSW, NWWL, bodybuilder and actress\\\",\\n    \\\"Billy Rose Aquacade and actress ,\\\",\\n    \\\"WWF and actress , ,\\\",\\n    \\\"GLOW and actress ,\\\",\\n    \\\"and actress , ,\\\",\\n    \\\"Ford Motor Company, Chrysler and writer\\\",\\n    \\\"McCann Erickson and songwriter\\\",\\n    \\\"Yankees, Mets and writer\\\",\\n    \\\", , and writer\\\",\\n    \\\"Pulitzer Prize and writer , , winner ,\\\",\\n    \\\"City Film Commissioner and executive,\\\",\\n    \\\"and writer, ambassador to\\\",\\n    \\\"Pulitzer Prize team at Gannett and filmmaker\\\",\\n    \\\"Pulitzer Prize, , editor for team that won\\\",\\n]\\narts = sorted(list(set(arts)), key=lambda x: len(x), reverse=True)\\n\\nsports = [\\n    \\\"Seventh Judicial Circuit Court of and football player State Seminoles\\\",\\n    \\\"City Council and college football player USC\\\",\\n    \\\"San Francisco ers, and football player\\\",\\n    \\\"Nets, and basketball player\\\",\\n    \\\"Pittsburgh Steelers and football executive\\\",\\n    \\\"Indiana Pacers\\\",\\n    \\\"King Power and football club owner Leicester City\\\",\\n    \\\", owner of the Kansas City Royals\\\",\\n    \\\"HEICO and basketball franchise owner Memphis Grizzlies\\\",\\n]\\nsports = sorted(list(set(sports)), key=lambda x: len(x), reverse=True)\\n\\nsciences = []\\nsciences = sorted(list(set(sciences)), key=lambda x: len(x), reverse=True)\\n\\nbusiness_farming = []\\nbusiness_farming = sorted(\\n    list(set(business_farming)), key=lambda x: len(x), reverse=True\\n)\\n\\nacademia_humanities = [\\n    \\\"Botanical Museum of the National University of C\\u00f3rdoba\\\",\\n    \\\"High Desert Museum\\\",\\n    \\\"National Civil Rights Museum\\\",\\n    \\\"since and the National Museum\\\",\\n    \\\"City Film\\\",\\n    \\\"Symphony Orchestra, Royal Philharmonic Orchestra and teacher Canberra School of Music\\\",\\n    \\\"MIT, Medical School\\\",\\n    \\\"University and the Polaroid Corporation\\\",\\n    \\\"University of Cambridge and writer\\\",\\n]\\nacademia_humanities = sorted(\\n    list(set(academia_humanities)), key=lambda x: len(x), reverse=True\\n)\\n\\nlaw_enf_military_operator = [\\n    \\\", Chairman of the Joint Chiefs of Staff\\\",\\n    \\\"Parliament attack\\\",\\n    \\\"Trans Airways and evacuator Operation Moses\\\",\\n    \\\"Minister for the Environment, Minister for Defence, Member of the Parliament\\\",\\n    \\\", Minister of Defence and Chief Minister of Goa , , since\\\",\\n    \\\", Minister of National Defence and Foreign Affairs and\\\",\\n    \\\"since , Minister of Defence , and Finance\\\",\\n    \\\", Minister for Defence , Ceann Comhairle\\\",\\n    \\\", Minister for Defence and Territories\\\",\\n    \\\"and Minister of National Defence ,\\\",\\n    \\\", , Defence and External Affairs\\\",\\n    \\\", Minister of National Defence\\\",\\n    \\\", Minister of Defence and MP\\\",\\n    \\\", , Minister for Defence\\\",\\n    \\\", Minister of Defence ,\\\",\\n    \\\", Minister for Defence\\\",\\n    \\\"; Minister for Defence\\\",\\n    \\\", and Defence Minister\\\",\\n    \\\", Minister of Defence\\\",\\n    \\\"and Defence Minister\\\",\\n    \\\"and Defence , , MP\\\",\\n    \\\"and Defence\\\",\\n]\\nlaw_enf_military_operator = sorted(\\n    list(set(law_enf_military_operator)), key=lambda x: len(x), reverse=True\\n)\\n\\nspiritual = [\\\"Manson Family and cult leader\\\"]\\nspiritual = sorted(list(set(spiritual)), key=lambda x: len(x), reverse=True)\\n\\nsocial = [\\\"and President of the WWF\\\", \\\"Mission Alliance\\\"]\\nsocial = sorted(list(set(social)), key=lambda x: len(x), reverse=True)\\n\\ncrime = []\\ncrime = sorted(list(set(crime)), key=lambda x: len(x), reverse=True)\\n\\nevent_record_other = []\\nevent_record_other = sorted(\\n    list(set(event_record_other)), key=lambda x: len(x), reverse=True\\n)\\n\\nother_species = []\\nother_species = sorted(list(set(other_species)), key=lambda x: len(x), reverse=True)\\n\\ncause_of_death = []\\ncause_of_death = sorted(list(set(cause_of_death)), key=lambda x: len(x), reverse=True)\";\n",
       "                var nbb_cells = Jupyter.notebook.get_cells();\n",
       "                for (var i = 0; i < nbb_cells.length; ++i) {\n",
       "                    if (nbb_cells[i].input_prompt_number == nbb_cell_id) {\n",
       "                        if (nbb_cells[i].get_text() == nbb_unformatted_code) {\n",
       "                             nbb_cells[i].set_text(nbb_formatted_code);\n",
       "                        }\n",
       "                        break;\n",
       "                    }\n",
       "                }\n",
       "            }, 500);\n",
       "            "
      ],
      "text/plain": [
       "<IPython.core.display.Javascript object>"
      ]
     },
     "metadata": {},
     "output_type": "display_data"
    }
   ],
   "source": [
    "# Creating lists for each category and sorting by decreasing length and removing duplicates\n",
    "\n",
    "politics_govt_law = [\n",
    "    \"Dassault Group and politician, Senator\",\n",
    "    \"Mercury Atlas and politician, Senator from Ohio\",\n",
    "    \"Senator and politician, MEP and\",\n",
    "    \"Senator, , and politician,\",\n",
    "    \"Senator, , and\",\n",
    "    \"Senator and ,\",\n",
    "    \"ZB, Radio Dunedin and politician Dunedin City Council\",\n",
    "    \"Arts Council and executive, chair of\",\n",
    "    \"Detroit City Council and politician\",\n",
    "    \"Council for Secular Humanism\",\n",
    "    \"deputy, , television presenter and politician,\",\n",
    "    \"deputy, , and politician,\",\n",
    "    \"Chernobyl disaster, Hero of the Union, deputy since\",\n",
    "    \"ZB, Radio Dunedin and politician Dunedin City Council\",\n",
    "    \"deputy, , television presenter and politician,\",\n",
    "    \"Detroit City Council and politician\",\n",
    "    \"Senator and politician, MEP and\",\n",
    "    \"Senator, , and politician,\",\n",
    "    \"deputy, , and politician,\",\n",
    "    \"MEP, and politician,\",\n",
    "    \"Dassault Group and politician, Senator\",\n",
    "    \"Martini & Rossi and politician, Deputy\",\n",
    "    \"Mercury Atlas and politician, Senator from Ohio\",\n",
    "    \"Juventus, national team and politician, MEP\",\n",
    "    \"Montreal Alouettes and politician, MNA\",\n",
    "    \"Punjab, Lahore and politician, senator\",\n",
    "    \"Vasco da Gama and politician, Deputy\",\n",
    "    \"Laois and politician, TD , MEP\",\n",
    "    \"and politician, MHA for Bass\",\n",
    "    \"South Centre and economist, executive director of the\",\n",
    "    \"Commissioner and executive,\",\n",
    "    \"Arts Council and executive, chair of\",\n",
    "    \", chairman of COSC and governor of Punjab\",\n",
    "]\n",
    "politics_govt_law = sorted(\n",
    "    list(set(politics_govt_law)), key=lambda x: len(x), reverse=True\n",
    ")\n",
    "\n",
    "arts = [\n",
    "    \"Fulham and manager Coventry City, trade union leader PFA and TV presenter\",\n",
    "    \"Stardom, Wrestle and reality TV personality\",\n",
    "    \"and chairman of RTVE\",\n",
    "    \"WLS TV, WMAQ TV\",\n",
    "    \"WUSA, WJLA TV\",\n",
    "    \"WBZ TV\",\n",
    "    \"owner and CEO of Fabergé Inc and songwriter two time nominee for Academy Award for Best Original Song\",\n",
    "    \"McCann Erickson and songwriter\",\n",
    "    \"Tate murders, songwriter\",\n",
    "    \"Family Radio\",\n",
    "    \"Pragati Maidan, Institute of Management Bangalore, Salar Jung Museum\",\n",
    "    \"Simon Property Group, producer\",\n",
    "    \"Mann Theatres and film producer ,\",\n",
    "    \"Univision and producer\",\n",
    "    \"Portland Trail Blazers, Phoenix Suns and reality television personality\",\n",
    "    \"Lakers and television broadcaster Utah Jazz\",\n",
    "    \"County Superior Court and television personality ,\",\n",
    "    \"County Superior Court and television personality\",\n",
    "    \", Mayor of City , television judge\",\n",
    "    \", and television personality\",\n",
    "    \"Pulitzer Prize and writer , , winner ,\",\n",
    "    \"Pulitzer Prize, winner\",\n",
    "    \"World Trade Center, Shanghai World Financial Center, Bank of Tower\",\n",
    "    \"Giants and broadcaster ABC\",\n",
    "    \"War Resisters League and magazine editor\",\n",
    "    \"DSW, NWWL, bodybuilder and actress\",\n",
    "    \"Billy Rose Aquacade and actress ,\",\n",
    "    \"WWF and actress , ,\",\n",
    "    \"GLOW and actress ,\",\n",
    "    \"and actress , ,\",\n",
    "    \"Ford Motor Company, Chrysler and writer\",\n",
    "    \"McCann Erickson and songwriter\",\n",
    "    \"Yankees, Mets and writer\",\n",
    "    \", , and writer\",\n",
    "    \"Pulitzer Prize and writer , , winner ,\",\n",
    "    \"City Film Commissioner and executive,\",\n",
    "    \"and writer, ambassador to\",\n",
    "    \"Pulitzer Prize team at Gannett and filmmaker\",\n",
    "    \"Pulitzer Prize, , editor for team that won\",\n",
    "]\n",
    "arts = sorted(list(set(arts)), key=lambda x: len(x), reverse=True)\n",
    "\n",
    "sports = [\n",
    "    \"Seventh Judicial Circuit Court of and football player State Seminoles\",\n",
    "    \"City Council and college football player USC\",\n",
    "    \"San Francisco ers, and football player\",\n",
    "    \"Nets, and basketball player\",\n",
    "    \"Pittsburgh Steelers and football executive\",\n",
    "    \"Indiana Pacers\",\n",
    "    \"King Power and football club owner Leicester City\",\n",
    "    \", owner of the Kansas City Royals\",\n",
    "    \"HEICO and basketball franchise owner Memphis Grizzlies\",\n",
    "]\n",
    "sports = sorted(list(set(sports)), key=lambda x: len(x), reverse=True)\n",
    "\n",
    "sciences = []\n",
    "sciences = sorted(list(set(sciences)), key=lambda x: len(x), reverse=True)\n",
    "\n",
    "business_farming = []\n",
    "business_farming = sorted(\n",
    "    list(set(business_farming)), key=lambda x: len(x), reverse=True\n",
    ")\n",
    "\n",
    "academia_humanities = [\n",
    "    \"Botanical Museum of the National University of Córdoba\",\n",
    "    \"High Desert Museum\",\n",
    "    \"National Civil Rights Museum\",\n",
    "    \"since and the National Museum\",\n",
    "    \"City Film\",\n",
    "    \"Symphony Orchestra, Royal Philharmonic Orchestra and teacher Canberra School of Music\",\n",
    "    \"MIT, Medical School\",\n",
    "    \"University and the Polaroid Corporation\",\n",
    "    \"University of Cambridge and writer\",\n",
    "]\n",
    "academia_humanities = sorted(\n",
    "    list(set(academia_humanities)), key=lambda x: len(x), reverse=True\n",
    ")\n",
    "\n",
    "law_enf_military_operator = [\n",
    "    \", Chairman of the Joint Chiefs of Staff\",\n",
    "    \"Parliament attack\",\n",
    "    \"Trans Airways and evacuator Operation Moses\",\n",
    "    \"Minister for the Environment, Minister for Defence, Member of the Parliament\",\n",
    "    \", Minister of Defence and Chief Minister of Goa , , since\",\n",
    "    \", Minister of National Defence and Foreign Affairs and\",\n",
    "    \"since , Minister of Defence , and Finance\",\n",
    "    \", Minister for Defence , Ceann Comhairle\",\n",
    "    \", Minister for Defence and Territories\",\n",
    "    \"and Minister of National Defence ,\",\n",
    "    \", , Defence and External Affairs\",\n",
    "    \", Minister of National Defence\",\n",
    "    \", Minister of Defence and MP\",\n",
    "    \", , Minister for Defence\",\n",
    "    \", Minister of Defence ,\",\n",
    "    \", Minister for Defence\",\n",
    "    \"; Minister for Defence\",\n",
    "    \", and Defence Minister\",\n",
    "    \", Minister of Defence\",\n",
    "    \"and Defence Minister\",\n",
    "    \"and Defence , , MP\",\n",
    "    \"and Defence\",\n",
    "]\n",
    "law_enf_military_operator = sorted(\n",
    "    list(set(law_enf_military_operator)), key=lambda x: len(x), reverse=True\n",
    ")\n",
    "\n",
    "spiritual = [\"Manson Family and cult leader\"]\n",
    "spiritual = sorted(list(set(spiritual)), key=lambda x: len(x), reverse=True)\n",
    "\n",
    "social = [\"and President of the WWF\", \"Mission Alliance\"]\n",
    "social = sorted(list(set(social)), key=lambda x: len(x), reverse=True)\n",
    "\n",
    "crime = []\n",
    "crime = sorted(list(set(crime)), key=lambda x: len(x), reverse=True)\n",
    "\n",
    "event_record_other = []\n",
    "event_record_other = sorted(\n",
    "    list(set(event_record_other)), key=lambda x: len(x), reverse=True\n",
    ")\n",
    "\n",
    "other_species = []\n",
    "other_species = sorted(list(set(other_species)), key=lambda x: len(x), reverse=True)\n",
    "\n",
    "cause_of_death = []\n",
    "cause_of_death = sorted(list(set(cause_of_death)), key=lambda x: len(x), reverse=True)"
   ]
  },
  {
   "cell_type": "markdown",
   "id": "0abcabde",
   "metadata": {},
   "source": [
    "#### Creating known_for_dict Dictionary of Category Keys and Specific Role Lists of Values"
   ]
  },
  {
   "cell_type": "code",
   "execution_count": 2059,
   "id": "533ff459",
   "metadata": {},
   "outputs": [
    {
     "data": {
      "application/javascript": [
       "\n",
       "            setTimeout(function() {\n",
       "                var nbb_cell_id = 2059;\n",
       "                var nbb_unformatted_code = \"# Combining separate lists into one dictionary\\nknown_for_dict = {\\n    \\\"social\\\": social,\\n    \\\"spiritual\\\": spiritual,\\n    \\\"academia_humanities\\\": academia_humanities,\\n    \\\"business_farming\\\": business_farming,\\n    \\\"sciences\\\": sciences,\\n    \\\"politics_govt_law\\\": politics_govt_law,\\n    \\\"law_enf_military_operator\\\": law_enf_military_operator,\\n    \\\"crime\\\": crime,\\n    \\\"event_record_other\\\": event_record_other,\\n    \\\"other_species\\\": other_species,\\n    \\\"arts\\\": arts,\\n    \\\"sports\\\": sports,\\n\\n}\";\n",
       "                var nbb_formatted_code = \"# Combining separate lists into one dictionary\\nknown_for_dict = {\\n    \\\"social\\\": social,\\n    \\\"spiritual\\\": spiritual,\\n    \\\"academia_humanities\\\": academia_humanities,\\n    \\\"business_farming\\\": business_farming,\\n    \\\"sciences\\\": sciences,\\n    \\\"politics_govt_law\\\": politics_govt_law,\\n    \\\"law_enf_military_operator\\\": law_enf_military_operator,\\n    \\\"crime\\\": crime,\\n    \\\"event_record_other\\\": event_record_other,\\n    \\\"other_species\\\": other_species,\\n    \\\"arts\\\": arts,\\n    \\\"sports\\\": sports,\\n}\";\n",
       "                var nbb_cells = Jupyter.notebook.get_cells();\n",
       "                for (var i = 0; i < nbb_cells.length; ++i) {\n",
       "                    if (nbb_cells[i].input_prompt_number == nbb_cell_id) {\n",
       "                        if (nbb_cells[i].get_text() == nbb_unformatted_code) {\n",
       "                             nbb_cells[i].set_text(nbb_formatted_code);\n",
       "                        }\n",
       "                        break;\n",
       "                    }\n",
       "                }\n",
       "            }, 500);\n",
       "            "
      ],
      "text/plain": [
       "<IPython.core.display.Javascript object>"
      ]
     },
     "metadata": {},
     "output_type": "display_data"
    }
   ],
   "source": [
    "# Combining separate lists into one dictionary\n",
    "known_for_dict = {\n",
    "    \"social\": social,\n",
    "    \"spiritual\": spiritual,\n",
    "    \"academia_humanities\": academia_humanities,\n",
    "    \"business_farming\": business_farming,\n",
    "    \"sciences\": sciences,\n",
    "    \"politics_govt_law\": politics_govt_law,\n",
    "    \"law_enf_military_operator\": law_enf_military_operator,\n",
    "    \"crime\": crime,\n",
    "    \"event_record_other\": event_record_other,\n",
    "    \"other_species\": other_species,\n",
    "    \"arts\": arts,\n",
    "    \"sports\": sports,\n",
    "}"
   ]
  },
  {
   "cell_type": "markdown",
   "id": "b47cf8a8",
   "metadata": {},
   "source": [
    "#### Extracting `known_for` Categories and `cause_of_death` Values from `info_parenth_copy`"
   ]
  },
  {
   "cell_type": "code",
   "execution_count": 2060,
   "id": "b54f519f",
   "metadata": {},
   "outputs": [
    {
     "name": "stdout",
     "output_type": "stream",
     "text": [
      "There are 33461 values in cause_of_death column.\n",
      "\n",
      "CPU times: total: 20 s\n",
      "Wall time: 20 s\n"
     ]
    },
    {
     "data": {
      "application/javascript": [
       "\n",
       "            setTimeout(function() {\n",
       "                var nbb_cell_id = 2060;\n",
       "                var nbb_unformatted_code = \"%%time\\n\\n# Column to check\\ncolumn = 'info_parenth_copy'\\n\\n# Start dataframe\\ndataframe = df[df[column].notna()]\\n\\n# For loop to find cause in column and extract it to cause_of_death\\nfor cause in cause_of_death:\\n    for index in dataframe.index:\\n        item = df.loc[index, column]\\n        if item:\\n            if cause in item:\\n                if df.loc[index, 'cause_of_death']:\\n                    df.loc[index, 'cause_of_death'] = df.loc[index, 'cause_of_death'] + '/' + cause\\n                    df.loc[index, column] = item.replace(cause, '').strip()\\n                else:\\n                    df.loc[index, 'cause_of_death'] = cause\\n                    df.loc[index, column] = item.replace(cause, '').strip()\\n                \\n                \\n# For loop to find role in column and extract it as category\\nfor category, category_lst in known_for_dict.items():\\n    for role in category_lst:\\n        for index in dataframe.index:\\n                item = df.loc[index, column]\\n                if item:\\n                    if role in item:\\n                        df.loc[index, category] = 1\\n                        df.loc[index, column] = item.replace(role, '').strip()\\n\\n# Calculating num_categories\\ndf[\\\"num_categories\\\"] = df[known_for_dict.keys()].sum(axis=1)\\n\\n# Checking number of cause_of_death values\\nprint(f'There are {df[\\\"cause_of_death\\\"].notna().sum()} values in cause_of_death column.\\\\n')\";\n",
       "                var nbb_formatted_code = \"%%time\\n\\n# Column to check\\ncolumn = 'info_parenth_copy'\\n\\n# Start dataframe\\ndataframe = df[df[column].notna()]\\n\\n# For loop to find cause in column and extract it to cause_of_death\\nfor cause in cause_of_death:\\n    for index in dataframe.index:\\n        item = df.loc[index, column]\\n        if item:\\n            if cause in item:\\n                if df.loc[index, 'cause_of_death']:\\n                    df.loc[index, 'cause_of_death'] = df.loc[index, 'cause_of_death'] + '/' + cause\\n                    df.loc[index, column] = item.replace(cause, '').strip()\\n                else:\\n                    df.loc[index, 'cause_of_death'] = cause\\n                    df.loc[index, column] = item.replace(cause, '').strip()\\n                \\n                \\n# For loop to find role in column and extract it as category\\nfor category, category_lst in known_for_dict.items():\\n    for role in category_lst:\\n        for index in dataframe.index:\\n                item = df.loc[index, column]\\n                if item:\\n                    if role in item:\\n                        df.loc[index, category] = 1\\n                        df.loc[index, column] = item.replace(role, '').strip()\\n\\n# Calculating num_categories\\ndf[\\\"num_categories\\\"] = df[known_for_dict.keys()].sum(axis=1)\\n\\n# Checking number of cause_of_death values\\nprint(f'There are {df[\\\"cause_of_death\\\"].notna().sum()} values in cause_of_death column.\\\\n')\";\n",
       "                var nbb_cells = Jupyter.notebook.get_cells();\n",
       "                for (var i = 0; i < nbb_cells.length; ++i) {\n",
       "                    if (nbb_cells[i].input_prompt_number == nbb_cell_id) {\n",
       "                        if (nbb_cells[i].get_text() == nbb_unformatted_code) {\n",
       "                             nbb_cells[i].set_text(nbb_formatted_code);\n",
       "                        }\n",
       "                        break;\n",
       "                    }\n",
       "                }\n",
       "            }, 500);\n",
       "            "
      ],
      "text/plain": [
       "<IPython.core.display.Javascript object>"
      ]
     },
     "metadata": {},
     "output_type": "display_data"
    }
   ],
   "source": [
    "%%time\n",
    "\n",
    "# Column to check\n",
    "column = 'info_parenth_copy'\n",
    "\n",
    "# Start dataframe\n",
    "dataframe = df[df[column].notna()]\n",
    "\n",
    "# For loop to find cause in column and extract it to cause_of_death\n",
    "for cause in cause_of_death:\n",
    "    for index in dataframe.index:\n",
    "        item = df.loc[index, column]\n",
    "        if item:\n",
    "            if cause in item:\n",
    "                if df.loc[index, 'cause_of_death']:\n",
    "                    df.loc[index, 'cause_of_death'] = df.loc[index, 'cause_of_death'] + '/' + cause\n",
    "                    df.loc[index, column] = item.replace(cause, '').strip()\n",
    "                else:\n",
    "                    df.loc[index, 'cause_of_death'] = cause\n",
    "                    df.loc[index, column] = item.replace(cause, '').strip()\n",
    "                \n",
    "                \n",
    "# For loop to find role in column and extract it as category\n",
    "for category, category_lst in known_for_dict.items():\n",
    "    for role in category_lst:\n",
    "        for index in dataframe.index:\n",
    "                item = df.loc[index, column]\n",
    "                if item:\n",
    "                    if role in item:\n",
    "                        df.loc[index, category] = 1\n",
    "                        df.loc[index, column] = item.replace(role, '').strip()\n",
    "\n",
    "# Calculating num_categories\n",
    "df[\"num_categories\"] = df[known_for_dict.keys()].sum(axis=1)\n",
    "\n",
    "# Checking number of cause_of_death values\n",
    "print(f'There are {df[\"cause_of_death\"].notna().sum()} values in cause_of_death column.\\n')"
   ]
  },
  {
   "cell_type": "markdown",
   "id": "267b1843",
   "metadata": {},
   "source": [
    "#### Checking Updated num_categories Value Counts"
   ]
  },
  {
   "cell_type": "code",
   "execution_count": 2061,
   "id": "cd172215",
   "metadata": {},
   "outputs": [
    {
     "data": {
      "text/plain": [
       "1    83661\n",
       "2    13212\n",
       "3     1125\n",
       "4       38\n",
       "5        3\n",
       "Name: num_categories, dtype: int64"
      ]
     },
     "execution_count": 2061,
     "metadata": {},
     "output_type": "execute_result"
    },
    {
     "data": {
      "application/javascript": [
       "\n",
       "            setTimeout(function() {\n",
       "                var nbb_cell_id = 2061;\n",
       "                var nbb_unformatted_code = \"# Checking Updated num_categories Value Counts\\ndf[\\\"num_categories\\\"].value_counts()\";\n",
       "                var nbb_formatted_code = \"# Checking Updated num_categories Value Counts\\ndf[\\\"num_categories\\\"].value_counts()\";\n",
       "                var nbb_cells = Jupyter.notebook.get_cells();\n",
       "                for (var i = 0; i < nbb_cells.length; ++i) {\n",
       "                    if (nbb_cells[i].input_prompt_number == nbb_cell_id) {\n",
       "                        if (nbb_cells[i].get_text() == nbb_unformatted_code) {\n",
       "                             nbb_cells[i].set_text(nbb_formatted_code);\n",
       "                        }\n",
       "                        break;\n",
       "                    }\n",
       "                }\n",
       "            }, 500);\n",
       "            "
      ],
      "text/plain": [
       "<IPython.core.display.Javascript object>"
      ]
     },
     "metadata": {},
     "output_type": "display_data"
    }
   ],
   "source": [
    "# Checking Updated num_categories Value Counts\n",
    "df[\"num_categories\"].value_counts()"
   ]
  },
  {
   "cell_type": "markdown",
   "id": "86c96e27",
   "metadata": {},
   "source": [
    "#### Observations:\n",
    "- We will proceed to rebuild known_for_dict and cause_of_death for the next iteration."
   ]
  },
  {
   "cell_type": "code",
   "execution_count": null,
   "id": "39fe5460",
   "metadata": {},
   "outputs": [],
   "source": []
  },
  {
   "cell_type": "code",
   "execution_count": null,
   "id": "942515ee",
   "metadata": {},
   "outputs": [],
   "source": []
  },
  {
   "cell_type": "code",
   "execution_count": null,
   "id": "5a3f9fdd",
   "metadata": {},
   "outputs": [],
   "source": []
  },
  {
   "cell_type": "code",
   "execution_count": null,
   "id": "132beab6",
   "metadata": {},
   "outputs": [],
   "source": []
  },
  {
   "cell_type": "code",
   "execution_count": null,
   "id": "7f17ebb6",
   "metadata": {},
   "outputs": [],
   "source": []
  },
  {
   "cell_type": "code",
   "execution_count": 2062,
   "id": "2903cfa5",
   "metadata": {},
   "outputs": [
    {
     "name": "stdout",
     "output_type": "stream",
     "text": [
      "dunzo!\n"
     ]
    },
    {
     "data": {
      "application/javascript": [
       "\n",
       "            setTimeout(function() {\n",
       "                var nbb_cell_id = 2062;\n",
       "                var nbb_unformatted_code = \"print(\\\"dunzo!\\\")\\nchime.success()\";\n",
       "                var nbb_formatted_code = \"print(\\\"dunzo!\\\")\\nchime.success()\";\n",
       "                var nbb_cells = Jupyter.notebook.get_cells();\n",
       "                for (var i = 0; i < nbb_cells.length; ++i) {\n",
       "                    if (nbb_cells[i].input_prompt_number == nbb_cell_id) {\n",
       "                        if (nbb_cells[i].get_text() == nbb_unformatted_code) {\n",
       "                             nbb_cells[i].set_text(nbb_formatted_code);\n",
       "                        }\n",
       "                        break;\n",
       "                    }\n",
       "                }\n",
       "            }, 500);\n",
       "            "
      ],
      "text/plain": [
       "<IPython.core.display.Javascript object>"
      ]
     },
     "metadata": {},
     "output_type": "display_data"
    }
   ],
   "source": [
    "print(\"dunzo!\")\n",
    "chime.success()"
   ]
  },
  {
   "cell_type": "code",
   "execution_count": null,
   "id": "121c6503",
   "metadata": {},
   "outputs": [],
   "source": []
  },
  {
   "cell_type": "code",
   "execution_count": null,
   "id": "76b6eb4f",
   "metadata": {},
   "outputs": [],
   "source": []
  },
  {
   "cell_type": "code",
   "execution_count": null,
   "id": "66183c1c",
   "metadata": {},
   "outputs": [],
   "source": []
  },
  {
   "cell_type": "code",
   "execution_count": null,
   "id": "b21b2e7f",
   "metadata": {},
   "outputs": [],
   "source": []
  },
  {
   "cell_type": "code",
   "execution_count": null,
   "id": "fabbfc5a",
   "metadata": {},
   "outputs": [],
   "source": []
  },
  {
   "cell_type": "code",
   "execution_count": null,
   "id": "abc6df0e",
   "metadata": {},
   "outputs": [],
   "source": []
  },
  {
   "cell_type": "markdown",
   "id": "04892d60",
   "metadata": {},
   "source": [
    "#### Extracting Additional `known_for` Category from `info_parenth_copy` Using `roles_list`"
   ]
  },
  {
   "cell_type": "code",
   "execution_count": null,
   "id": "d3dd2bab",
   "metadata": {},
   "outputs": [],
   "source": [
    "## Combining `info_parenth_copy` Values into a Single List of Unique Values for Searching\n",
    "\n",
    "# Creating a single list of info_parenth_copy values\n",
    "roles_list = df[\"info_parenth_copy\"].value_counts().index.tolist()\n",
    "\n",
    "# Converting to a single string and removing commas, semicolons, and extra whitespace\n",
    "roles_list = (\n",
    "    \" \".join(roles_list).replace(\",\", \"\").replace(\";\", \"\").replace(\"  \", \" \").strip()\n",
    ")\n",
    "\n",
    "# Splitting into a list of individual words and converting to a Series to easily check value counts\n",
    "roles_list = roles_list.split()\n",
    "\n",
    "# Converting to a series for value_counts in ascending order for use of pop() on most frequent values first\n",
    "# and dropping obvious extraneous values\n",
    "roles_list = (\n",
    "    pd.Series(roles_list)\n",
    "    .value_counts(ascending=True)\n",
    "    .drop(\n",
    "        [\n",
    "            \"and\",\n",
    "            \"of\",\n",
    "            \"the\",\n",
    "            \"The\",\n",
    "            \"since\",\n",
    "            \"on\",\n",
    "            \"nd\",\n",
    "            \"th\",\n",
    "            \"for\",\n",
    "            \"to\",\n",
    "            \"&\",\n",
    "            \"de\",\n",
    "            \"winner\",\n",
    "            \"in\",\n",
    "            \"at\",\n",
    "            \"this\",\n",
    "        ]\n",
    "    )\n",
    ")\n",
    "\n",
    "# Dropping values that occur fewer than 3 times\n",
    "roles_list = roles_list[roles_list > 2]\n",
    "\n",
    "# Converting back to list\n",
    "roles_list = roles_list.index.tolist()\n",
    "\n",
    "print(f\"There are {len(roles_list)} remaining unique individual words in roles_list.\\n\")"
   ]
  },
  {
   "cell_type": "code",
   "execution_count": null,
   "id": "0c784c68",
   "metadata": {},
   "outputs": [],
   "source": [
    "# # Example code to check each value in roles_list in descending order of frequency\n",
    "# value = roles_list.pop()\n",
    "# value"
   ]
  },
  {
   "cell_type": "code",
   "execution_count": null,
   "id": "4377840f",
   "metadata": {},
   "outputs": [],
   "source": [
    "# # Create specific_roles_cause_list for above popped value\n",
    "# # only checking entries not already in category associated with popped value\n",
    "# specific_roles_cause_list = (\n",
    "#     df.loc[\n",
    "#         [\n",
    "#             index\n",
    "#             for index in df[\n",
    "#                 (df[\"info_parenth_copy\"].notna())\n",
    "#                 & (df[\"politics_govt_law\"] == 0)\n",
    "#                 #                 & (df[\"law_enf_military_operator\"] == 0)\n",
    "#                 #                 & (df[\"spiritual\"] == 0)\n",
    "#                 #                 & (df[\"sports\"] == 0)\n",
    "#                 #                 & (df[\"academia_humanities\"] == 0)\n",
    "#                 #                 & (df[\"arts\"] == 0)\n",
    "#                 #                 & (df[\"business_farming\"] == 0)\n",
    "#             ].index\n",
    "#             if value in df.loc[index, \"info_parenth_copy\"]\n",
    "#         ],\n",
    "#         \"info_parenth_copy\",\n",
    "#     ]\n",
    "#     .value_counts()\n",
    "#     .index.tolist()\n",
    "# )"
   ]
  },
  {
   "cell_type": "code",
   "execution_count": null,
   "id": "54debf06",
   "metadata": {},
   "outputs": [],
   "source": [
    "# # Viewing list sorted by descending length to copy to dictionary below and screen values\n",
    "# sorted(specific_roles_cause_list, key=lambda x: len(x), reverse=True)"
   ]
  },
  {
   "cell_type": "code",
   "execution_count": null,
   "id": "d9fae2c3",
   "metadata": {},
   "outputs": [],
   "source": [
    "# # Checking individua entries as needed\n",
    "# df[df[column] == \"The Cardinals\"]"
   ]
  },
  {
   "cell_type": "markdown",
   "id": "49b59e34",
   "metadata": {},
   "source": [
    "#### Creating Lists for Each `known_for` Category and for `cause_of_death`"
   ]
  },
  {
   "cell_type": "code",
   "execution_count": null,
   "id": "2ec7864f",
   "metadata": {},
   "outputs": [],
   "source": [
    "# Creating lists for each category and sorting by decreasing length and removing duplicates\n",
    "\n",
    "politics_govt_law = []\n",
    "politics_govt_law = sorted(list(set(politics_govt_law)), key=lambda x: len(x), reverse=True)  \n",
    "\n",
    "arts = []\n",
    "arts = sorted(list(set(arts)), key=lambda x: len(x), reverse=True)  \n",
    "\n",
    "sports = []\n",
    "sports = sorted(list(set(sports)), key=lambda x: len(x), reverse=True) \n",
    "\n",
    "sciences = []\n",
    "sciences = sorted(list(set(sciences)), key=lambda x: len(x), reverse=True) \n",
    "\n",
    "business_farming = []\n",
    "business_farming = sorted(list(set(business_farming)), key=lambda x: len(x), reverse=True)  \n",
    "\n",
    "academia_humanities = []\n",
    "academia_humanities = sorted(list(set(academia_humanities)), key=lambda x: len(x), reverse=True)  \n",
    "\n",
    "law_enf_military_operator = []\n",
    "law_enf_military_operator = sorted(list(set(law_enf_military_operator)), key=lambda x: len(x), reverse=True)  \n",
    "\n",
    "spiritual = []\n",
    "spiritual = sorted(list(set(spiritual)), key=lambda x: len(x), reverse=True)  \n",
    "\n",
    "social = []\n",
    "social = sorted(list(set(social)), key=lambda x: len(x), reverse=True)  \n",
    "\n",
    "crime = []\n",
    "crime = sorted(list(set(crime)), key=lambda x: len(x), reverse=True)  \n",
    "\n",
    "event_record_other = []\n",
    "event_record_other = sorted(list(set(event_record_other)), key=lambda x: len(x), reverse=True)  \n",
    "\n",
    "other_species = []\n",
    "other_species = sorted(list(set(other_species)), key=lambda x: len(x), reverse=True) \n",
    "\n",
    "cause_of_death = []\n",
    "cause_of_death = sorted(list(set(cause_of_death)), key=lambda x: len(x), reverse=True)"
   ]
  },
  {
   "cell_type": "markdown",
   "id": "1f035e76",
   "metadata": {},
   "source": [
    "#### Creating known_for_dict Dictionary of Category Keys and Specific Role Lists of Values"
   ]
  },
  {
   "cell_type": "code",
   "execution_count": null,
   "id": "fd8b8276",
   "metadata": {},
   "outputs": [],
   "source": [
    "# Combining separate lists into one dictionary\n",
    "known_for_dict = {\n",
    "    \"social\": social,\n",
    "    \"spiritual\": spiritual,\n",
    "    \"academia_humanities\": academia_humanities,\n",
    "    \"business_farming\": business_farming,\n",
    "    \"sciences\": sciences,\n",
    "    \"politics_govt_law\": politics_govt_law,\n",
    "    \"law_enf_military_operator\": law_enf_military_operator,\n",
    "    \"crime\": crime,\n",
    "    \"event_record_other\": event_record_other,\n",
    "    \"other_species\": other_species,\n",
    "    \"arts\": arts,\n",
    "    \"sports\": sports,\n",
    "\n",
    "}"
   ]
  },
  {
   "cell_type": "markdown",
   "id": "3b8e2a67",
   "metadata": {},
   "source": [
    "#### Extracting `known_for` Categories and `cause_of_death` Values from `info_parenth_copy`"
   ]
  },
  {
   "cell_type": "code",
   "execution_count": null,
   "id": "40499ddf",
   "metadata": {},
   "outputs": [],
   "source": [
    "%%time\n",
    "\n",
    "# Column to check\n",
    "column = 'info_parenth_copy'\n",
    "\n",
    "# Start dataframe\n",
    "dataframe = df[df[column].notna()]\n",
    "\n",
    "# For loop to find cause in column and extract it to cause_of_death\n",
    "for cause in cause_of_death:\n",
    "    for index in dataframe.index:\n",
    "        item = df.loc[index, column]\n",
    "        if item:\n",
    "            if cause in item:\n",
    "                if df.loc[index, 'cause_of_death']:\n",
    "                    df.loc[index, 'cause_of_death'] = df.loc[index, 'cause_of_death'] + '/' + cause\n",
    "                    df.loc[index, column] = item.replace(cause, '').strip()\n",
    "                else:\n",
    "                    df.loc[index, 'cause_of_death'] = cause\n",
    "                    df.loc[index, column] = item.replace(cause, '').strip()\n",
    "                \n",
    "                \n",
    "# For loop to find role in column and extract it as category\n",
    "for category, category_lst in known_for_dict.items():\n",
    "    for role in category_lst:\n",
    "        for index in dataframe.index:\n",
    "                item = df.loc[index, column]\n",
    "                if item:\n",
    "                    if role in item:\n",
    "                        df.loc[index, category] = 1\n",
    "                        df.loc[index, column] = item.replace(role, '').strip()\n",
    "\n",
    "# Calculating num_categories\n",
    "df[\"num_categories\"] = df[known_for_dict.keys()].sum(axis=1)\n",
    "\n",
    "# Checking number of cause_of_death values\n",
    "print(f'There are {df[\"cause_of_death\"].notna().sum()} values in cause_of_death column.\\n')"
   ]
  },
  {
   "cell_type": "markdown",
   "id": "6ee163bc",
   "metadata": {},
   "source": [
    "#### Checking Updated num_categories Value Counts"
   ]
  },
  {
   "cell_type": "code",
   "execution_count": null,
   "id": "848d495b",
   "metadata": {},
   "outputs": [],
   "source": [
    "# Checking Updated num_categories Value Counts\n",
    "df[\"num_categories\"].value_counts()"
   ]
  },
  {
   "cell_type": "markdown",
   "id": "711c3162",
   "metadata": {},
   "source": [
    "#### Observations:\n",
    "- We will proceed to rebuild known_for_dict and cause_of_death for the next iteration."
   ]
  },
  {
   "cell_type": "code",
   "execution_count": null,
   "id": "7c7f2a3e",
   "metadata": {},
   "outputs": [],
   "source": []
  },
  {
   "cell_type": "code",
   "execution_count": null,
   "id": "cf43efcc",
   "metadata": {},
   "outputs": [],
   "source": []
  },
  {
   "cell_type": "code",
   "execution_count": null,
   "id": "8681cdce",
   "metadata": {},
   "outputs": [],
   "source": []
  },
  {
   "cell_type": "code",
   "execution_count": null,
   "id": "0be1739d",
   "metadata": {},
   "outputs": [],
   "source": []
  },
  {
   "cell_type": "code",
   "execution_count": null,
   "id": "b310f0d9",
   "metadata": {},
   "outputs": [],
   "source": []
  },
  {
   "cell_type": "markdown",
   "id": "228a408c",
   "metadata": {},
   "source": [
    "#### Verifying that Values in info_3_0 Are Exhausted"
   ]
  },
  {
   "cell_type": "code",
   "execution_count": null,
   "id": "35aa9b12",
   "metadata": {},
   "outputs": [],
   "source": [
    "# # Verifying that `info_3_0` is exhausted\n",
    "# df[\"info_3_0\"].value_counts()"
   ]
  },
  {
   "cell_type": "markdown",
   "id": "bf13f70b",
   "metadata": {},
   "source": [
    "#### Dropping info_3_0"
   ]
  },
  {
   "cell_type": "code",
   "execution_count": null,
   "id": "d250ac10",
   "metadata": {},
   "outputs": [],
   "source": [
    "# # Dropping info_3_0\n",
    "# df.drop(\"info_3_0\", axis=1, inplace=True)\n",
    "\n",
    "# # Checking sample\n",
    "# df.sample()"
   ]
  },
  {
   "cell_type": "markdown",
   "id": "0f66697e",
   "metadata": {},
   "source": [
    "#### Observations:\n",
    "- Our search of column info_3_0 is finished and have dropped that column.\n",
    "- We will now save our dataset and pick back up in a new notebook."
   ]
  },
  {
   "cell_type": "markdown",
   "id": "1113a242",
   "metadata": {},
   "source": [
    "### Exporting Dataset to SQLite Database [wp_life_expect_clean8.db]()"
   ]
  },
  {
   "cell_type": "code",
   "execution_count": null,
   "id": "6008ac61",
   "metadata": {},
   "outputs": [],
   "source": [
    "# # Exporting dataframe\n",
    "\n",
    "# # Saving dataset in a SQLite database\n",
    "# conn = sql.connect(\"wp_life_expect_clean8.db\")\n",
    "# df.to_sql(\"wp_life_expect_clean8\", conn, index=False)\n",
    "\n",
    "# # Chime notification when cell executes\n",
    "# chime.success()"
   ]
  },
  {
   "cell_type": "markdown",
   "id": "11aacfcc",
   "metadata": {},
   "source": [
    "# [Proceed to Data Cleaning Part ]()"
   ]
  }
 ],
 "metadata": {
  "kernelspec": {
   "display_name": "Python 3 (ipykernel)",
   "language": "python",
   "name": "python3"
  },
  "language_info": {
   "codemirror_mode": {
    "name": "ipython",
    "version": 3
   },
   "file_extension": ".py",
   "mimetype": "text/x-python",
   "name": "python",
   "nbconvert_exporter": "python",
   "pygments_lexer": "ipython3",
   "version": "3.9.12"
  }
 },
 "nbformat": 4,
 "nbformat_minor": 5
}
