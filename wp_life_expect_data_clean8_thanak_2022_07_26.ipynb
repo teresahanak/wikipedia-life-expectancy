{
 "cells": [
  {
   "cell_type": "markdown",
   "id": "316a0779",
   "metadata": {},
   "source": [
    "# Wikipedia Notable Life Expectancies\n",
    "# [Notebook  : Data Cleaning Part 8](https://github.com/teresahanak/wikipedia-life-expectancy/blob/main/wp_life_expect_data_clean8_thanak_2022_07_26.ipynb)\n",
    "### Context\n",
    "\n",
    "The\n",
    "### Objective\n",
    "\n",
    "The\n",
    "### Data Dictionary\n",
    "- Feature: Description"
   ]
  },
  {
   "cell_type": "markdown",
   "id": "99245d51",
   "metadata": {},
   "source": [
    "### Importing Libraries"
   ]
  },
  {
   "cell_type": "code",
   "execution_count": 1,
   "id": "453bba83",
   "metadata": {},
   "outputs": [
    {
     "data": {
      "application/javascript": [
       "\n",
       "            setTimeout(function() {\n",
       "                var nbb_cell_id = 1;\n",
       "                var nbb_unformatted_code = \"# To structure code automatically\\n%load_ext nb_black\\n\\n# To import/export sqlite databases\\nimport sqlite3 as sql\\n\\n# To save/open python objects in pickle file\\nimport pickle\\n\\n# To help with reading, cleaning, and manipulating data\\nimport pandas as pd\\nimport numpy as np\\nimport re\\n\\n# To define maximum number of columns to be displayed in a dataframe\\npd.set_option(\\\"display.max_columns\\\", None)\\n# To define the maximum number of rows to be displayed in a dataframe\\npd.set_option(\\\"display.max_rows\\\", 200)\\n\\n# To supress warnings\\n# import warnings\\n\\n# warnings.filterwarnings(\\\"ignore\\\")\\n\\n# To set some visualization attributes\\npd.set_option(\\\"max_colwidth\\\", 150)\\n\\n# To play auditory cue when cell has executed, has warning, or has error and set chime theme\\nimport chime\\n\\nchime.theme(\\\"zelda\\\")\";\n",
       "                var nbb_formatted_code = \"# To structure code automatically\\n%load_ext nb_black\\n\\n# To import/export sqlite databases\\nimport sqlite3 as sql\\n\\n# To save/open python objects in pickle file\\nimport pickle\\n\\n# To help with reading, cleaning, and manipulating data\\nimport pandas as pd\\nimport numpy as np\\nimport re\\n\\n# To define maximum number of columns to be displayed in a dataframe\\npd.set_option(\\\"display.max_columns\\\", None)\\n# To define the maximum number of rows to be displayed in a dataframe\\npd.set_option(\\\"display.max_rows\\\", 200)\\n\\n# To supress warnings\\n# import warnings\\n\\n# warnings.filterwarnings(\\\"ignore\\\")\\n\\n# To set some visualization attributes\\npd.set_option(\\\"max_colwidth\\\", 150)\\n\\n# To play auditory cue when cell has executed, has warning, or has error and set chime theme\\nimport chime\\n\\nchime.theme(\\\"zelda\\\")\";\n",
       "                var nbb_cells = Jupyter.notebook.get_cells();\n",
       "                for (var i = 0; i < nbb_cells.length; ++i) {\n",
       "                    if (nbb_cells[i].input_prompt_number == nbb_cell_id) {\n",
       "                        if (nbb_cells[i].get_text() == nbb_unformatted_code) {\n",
       "                             nbb_cells[i].set_text(nbb_formatted_code);\n",
       "                        }\n",
       "                        break;\n",
       "                    }\n",
       "                }\n",
       "            }, 500);\n",
       "            "
      ],
      "text/plain": [
       "<IPython.core.display.Javascript object>"
      ]
     },
     "metadata": {},
     "output_type": "display_data"
    }
   ],
   "source": [
    "# To structure code automatically\n",
    "%load_ext nb_black\n",
    "\n",
    "# To import/export sqlite databases\n",
    "import sqlite3 as sql\n",
    "\n",
    "# To save/open python objects in pickle file\n",
    "import pickle\n",
    "\n",
    "# To help with reading, cleaning, and manipulating data\n",
    "import pandas as pd\n",
    "import numpy as np\n",
    "import re\n",
    "\n",
    "# To define maximum number of columns to be displayed in a dataframe\n",
    "pd.set_option(\"display.max_columns\", None)\n",
    "# To define the maximum number of rows to be displayed in a dataframe\n",
    "pd.set_option(\"display.max_rows\", 200)\n",
    "\n",
    "# To supress warnings\n",
    "# import warnings\n",
    "\n",
    "# warnings.filterwarnings(\"ignore\")\n",
    "\n",
    "# To set some visualization attributes\n",
    "pd.set_option(\"max_colwidth\", 150)\n",
    "\n",
    "# To play auditory cue when cell has executed, has warning, or has error and set chime theme\n",
    "import chime\n",
    "\n",
    "chime.theme(\"zelda\")"
   ]
  },
  {
   "cell_type": "markdown",
   "id": "cc818a82",
   "metadata": {},
   "source": [
    "## Data Overview"
   ]
  },
  {
   "cell_type": "markdown",
   "id": "0ed005f6",
   "metadata": {},
   "source": [
    "### [Reading](https://github.com/teresahanak/wikipedia-life-expectancy/blob/main/wp_life_expect_clean7.db), Sampling, and Checking Data Shape"
   ]
  },
  {
   "cell_type": "code",
   "execution_count": 2,
   "id": "0ca58a95",
   "metadata": {},
   "outputs": [
    {
     "name": "stdout",
     "output_type": "stream",
     "text": [
      "There are 98040 rows and 27 columns.\n"
     ]
    },
    {
     "data": {
      "text/html": [
       "<div>\n",
       "<style scoped>\n",
       "    .dataframe tbody tr th:only-of-type {\n",
       "        vertical-align: middle;\n",
       "    }\n",
       "\n",
       "    .dataframe tbody tr th {\n",
       "        vertical-align: top;\n",
       "    }\n",
       "\n",
       "    .dataframe thead th {\n",
       "        text-align: right;\n",
       "    }\n",
       "</style>\n",
       "<table border=\"1\" class=\"dataframe\">\n",
       "  <thead>\n",
       "    <tr style=\"text-align: right;\">\n",
       "      <th></th>\n",
       "      <th>day</th>\n",
       "      <th>name</th>\n",
       "      <th>info</th>\n",
       "      <th>link</th>\n",
       "      <th>num_references</th>\n",
       "      <th>year</th>\n",
       "      <th>month</th>\n",
       "      <th>info_parenth</th>\n",
       "      <th>age</th>\n",
       "      <th>cause_of_death</th>\n",
       "      <th>place_1</th>\n",
       "      <th>place_2</th>\n",
       "      <th>info_parenth_copy</th>\n",
       "      <th>log_num_references</th>\n",
       "      <th>sciences</th>\n",
       "      <th>social</th>\n",
       "      <th>spiritual</th>\n",
       "      <th>academia_humanities</th>\n",
       "      <th>business_farming</th>\n",
       "      <th>arts</th>\n",
       "      <th>sports</th>\n",
       "      <th>law_enf_military_operator</th>\n",
       "      <th>politics_govt_law</th>\n",
       "      <th>crime</th>\n",
       "      <th>event_record_other</th>\n",
       "      <th>other_species</th>\n",
       "      <th>num_categories</th>\n",
       "    </tr>\n",
       "  </thead>\n",
       "  <tbody>\n",
       "    <tr>\n",
       "      <th>0</th>\n",
       "      <td>1</td>\n",
       "      <td>William Chappell</td>\n",
       "      <td>, 86, British dancer, ballet designer and director.</td>\n",
       "      <td>https://en.wikipedia.org/wiki/William_Chappell_(dancer)</td>\n",
       "      <td>21</td>\n",
       "      <td>1994</td>\n",
       "      <td>January</td>\n",
       "      <td>None</td>\n",
       "      <td>86.0</td>\n",
       "      <td>None</td>\n",
       "      <td>United Kingdom of Great Britain and Northern Ireland</td>\n",
       "      <td>None</td>\n",
       "      <td>None</td>\n",
       "      <td>3.091042</td>\n",
       "      <td>0</td>\n",
       "      <td>0</td>\n",
       "      <td>0</td>\n",
       "      <td>0</td>\n",
       "      <td>0</td>\n",
       "      <td>1</td>\n",
       "      <td>0</td>\n",
       "      <td>0</td>\n",
       "      <td>0</td>\n",
       "      <td>0</td>\n",
       "      <td>0</td>\n",
       "      <td>0</td>\n",
       "      <td>1</td>\n",
       "    </tr>\n",
       "    <tr>\n",
       "      <th>1</th>\n",
       "      <td>1</td>\n",
       "      <td>Raymond Crotty</td>\n",
       "      <td>, 68, Irish economist, writer, and academic.</td>\n",
       "      <td>https://en.wikipedia.org/wiki/Raymond_Crotty</td>\n",
       "      <td>12</td>\n",
       "      <td>1994</td>\n",
       "      <td>January</td>\n",
       "      <td>None</td>\n",
       "      <td>68.0</td>\n",
       "      <td>None</td>\n",
       "      <td>Ireland</td>\n",
       "      <td>None</td>\n",
       "      <td>None</td>\n",
       "      <td>2.564949</td>\n",
       "      <td>0</td>\n",
       "      <td>0</td>\n",
       "      <td>0</td>\n",
       "      <td>1</td>\n",
       "      <td>0</td>\n",
       "      <td>1</td>\n",
       "      <td>0</td>\n",
       "      <td>0</td>\n",
       "      <td>1</td>\n",
       "      <td>0</td>\n",
       "      <td>0</td>\n",
       "      <td>0</td>\n",
       "      <td>3</td>\n",
       "    </tr>\n",
       "  </tbody>\n",
       "</table>\n",
       "</div>"
      ],
      "text/plain": [
       "  day              name                                                 info  \\\n",
       "0   1  William Chappell  , 86, British dancer, ballet designer and director.   \n",
       "1   1    Raymond Crotty         , 68, Irish economist, writer, and academic.   \n",
       "\n",
       "                                                      link  num_references  \\\n",
       "0  https://en.wikipedia.org/wiki/William_Chappell_(dancer)              21   \n",
       "1             https://en.wikipedia.org/wiki/Raymond_Crotty              12   \n",
       "\n",
       "   year    month info_parenth   age cause_of_death  \\\n",
       "0  1994  January         None  86.0           None   \n",
       "1  1994  January         None  68.0           None   \n",
       "\n",
       "                                                place_1 place_2  \\\n",
       "0  United Kingdom of Great Britain and Northern Ireland    None   \n",
       "1                                               Ireland    None   \n",
       "\n",
       "  info_parenth_copy  log_num_references  sciences  social  spiritual  \\\n",
       "0              None            3.091042         0       0          0   \n",
       "1              None            2.564949         0       0          0   \n",
       "\n",
       "   academia_humanities  business_farming  arts  sports  \\\n",
       "0                    0                 0     1       0   \n",
       "1                    1                 0     1       0   \n",
       "\n",
       "   law_enf_military_operator  politics_govt_law  crime  event_record_other  \\\n",
       "0                          0                  0      0                   0   \n",
       "1                          0                  1      0                   0   \n",
       "\n",
       "   other_species  num_categories  \n",
       "0              0               1  \n",
       "1              0               3  "
      ]
     },
     "execution_count": 2,
     "metadata": {},
     "output_type": "execute_result"
    },
    {
     "data": {
      "application/javascript": [
       "\n",
       "            setTimeout(function() {\n",
       "                var nbb_cell_id = 2;\n",
       "                var nbb_unformatted_code = \"# Reading the dataset\\nconn = sql.connect(\\\"wp_life_expect_clean7.db\\\")\\ndata = pd.read_sql(\\\"SELECT * FROM wp_life_expect_clean7\\\", conn)\\n\\n# Making a working copy\\ndf = data.copy()\\n\\n# Checking the shape\\nprint(f\\\"There are {df.shape[0]} rows and {df.shape[1]} columns.\\\")\\n\\n# Checking first 2 rows of the data\\ndf.head(2)\";\n",
       "                var nbb_formatted_code = \"# Reading the dataset\\nconn = sql.connect(\\\"wp_life_expect_clean7.db\\\")\\ndata = pd.read_sql(\\\"SELECT * FROM wp_life_expect_clean7\\\", conn)\\n\\n# Making a working copy\\ndf = data.copy()\\n\\n# Checking the shape\\nprint(f\\\"There are {df.shape[0]} rows and {df.shape[1]} columns.\\\")\\n\\n# Checking first 2 rows of the data\\ndf.head(2)\";\n",
       "                var nbb_cells = Jupyter.notebook.get_cells();\n",
       "                for (var i = 0; i < nbb_cells.length; ++i) {\n",
       "                    if (nbb_cells[i].input_prompt_number == nbb_cell_id) {\n",
       "                        if (nbb_cells[i].get_text() == nbb_unformatted_code) {\n",
       "                             nbb_cells[i].set_text(nbb_formatted_code);\n",
       "                        }\n",
       "                        break;\n",
       "                    }\n",
       "                }\n",
       "            }, 500);\n",
       "            "
      ],
      "text/plain": [
       "<IPython.core.display.Javascript object>"
      ]
     },
     "metadata": {},
     "output_type": "display_data"
    }
   ],
   "source": [
    "# Reading the dataset\n",
    "conn = sql.connect(\"wp_life_expect_clean7.db\")\n",
    "data = pd.read_sql(\"SELECT * FROM wp_life_expect_clean7\", conn)\n",
    "\n",
    "# Making a working copy\n",
    "df = data.copy()\n",
    "\n",
    "# Checking the shape\n",
    "print(f\"There are {df.shape[0]} rows and {df.shape[1]} columns.\")\n",
    "\n",
    "# Checking first 2 rows of the data\n",
    "df.head(2)"
   ]
  },
  {
   "cell_type": "code",
   "execution_count": 3,
   "id": "6cca416f",
   "metadata": {},
   "outputs": [
    {
     "data": {
      "text/html": [
       "<div>\n",
       "<style scoped>\n",
       "    .dataframe tbody tr th:only-of-type {\n",
       "        vertical-align: middle;\n",
       "    }\n",
       "\n",
       "    .dataframe tbody tr th {\n",
       "        vertical-align: top;\n",
       "    }\n",
       "\n",
       "    .dataframe thead th {\n",
       "        text-align: right;\n",
       "    }\n",
       "</style>\n",
       "<table border=\"1\" class=\"dataframe\">\n",
       "  <thead>\n",
       "    <tr style=\"text-align: right;\">\n",
       "      <th></th>\n",
       "      <th>day</th>\n",
       "      <th>name</th>\n",
       "      <th>info</th>\n",
       "      <th>link</th>\n",
       "      <th>num_references</th>\n",
       "      <th>year</th>\n",
       "      <th>month</th>\n",
       "      <th>info_parenth</th>\n",
       "      <th>age</th>\n",
       "      <th>cause_of_death</th>\n",
       "      <th>place_1</th>\n",
       "      <th>place_2</th>\n",
       "      <th>info_parenth_copy</th>\n",
       "      <th>log_num_references</th>\n",
       "      <th>sciences</th>\n",
       "      <th>social</th>\n",
       "      <th>spiritual</th>\n",
       "      <th>academia_humanities</th>\n",
       "      <th>business_farming</th>\n",
       "      <th>arts</th>\n",
       "      <th>sports</th>\n",
       "      <th>law_enf_military_operator</th>\n",
       "      <th>politics_govt_law</th>\n",
       "      <th>crime</th>\n",
       "      <th>event_record_other</th>\n",
       "      <th>other_species</th>\n",
       "      <th>num_categories</th>\n",
       "    </tr>\n",
       "  </thead>\n",
       "  <tbody>\n",
       "    <tr>\n",
       "      <th>98038</th>\n",
       "      <td>9</td>\n",
       "      <td>Aamir Liaquat Hussain</td>\n",
       "      <td>, 50, Pakistani journalist and politician, MNA .</td>\n",
       "      <td>https://en.wikipedia.org/wiki/Aamir_Liaquat_Hussain</td>\n",
       "      <td>99</td>\n",
       "      <td>2022</td>\n",
       "      <td>June</td>\n",
       "      <td>, since</td>\n",
       "      <td>50.0</td>\n",
       "      <td>None</td>\n",
       "      <td>Pakistan</td>\n",
       "      <td>None</td>\n",
       "      <td>2002 2007, since 2018</td>\n",
       "      <td>4.605170</td>\n",
       "      <td>0</td>\n",
       "      <td>0</td>\n",
       "      <td>0</td>\n",
       "      <td>0</td>\n",
       "      <td>0</td>\n",
       "      <td>1</td>\n",
       "      <td>0</td>\n",
       "      <td>0</td>\n",
       "      <td>1</td>\n",
       "      <td>0</td>\n",
       "      <td>0</td>\n",
       "      <td>0</td>\n",
       "      <td>2</td>\n",
       "    </tr>\n",
       "    <tr>\n",
       "      <th>98039</th>\n",
       "      <td>9</td>\n",
       "      <td>Zou Jing</td>\n",
       "      <td>, 86, Chinese engineer, member of the Chinese Academy of Engineering.</td>\n",
       "      <td>https://en.wikipedia.org/wiki/Zou_Jing_(engineer)</td>\n",
       "      <td>3</td>\n",
       "      <td>2022</td>\n",
       "      <td>June</td>\n",
       "      <td>None</td>\n",
       "      <td>86.0</td>\n",
       "      <td>None</td>\n",
       "      <td>China, People's Republic of</td>\n",
       "      <td>None</td>\n",
       "      <td>None</td>\n",
       "      <td>1.386294</td>\n",
       "      <td>1</td>\n",
       "      <td>0</td>\n",
       "      <td>0</td>\n",
       "      <td>0</td>\n",
       "      <td>0</td>\n",
       "      <td>0</td>\n",
       "      <td>0</td>\n",
       "      <td>0</td>\n",
       "      <td>0</td>\n",
       "      <td>0</td>\n",
       "      <td>0</td>\n",
       "      <td>0</td>\n",
       "      <td>1</td>\n",
       "    </tr>\n",
       "  </tbody>\n",
       "</table>\n",
       "</div>"
      ],
      "text/plain": [
       "      day                   name  \\\n",
       "98038   9  Aamir Liaquat Hussain   \n",
       "98039   9               Zou Jing   \n",
       "\n",
       "                                                                        info  \\\n",
       "98038                       , 50, Pakistani journalist and politician, MNA .   \n",
       "98039  , 86, Chinese engineer, member of the Chinese Academy of Engineering.   \n",
       "\n",
       "                                                      link  num_references  \\\n",
       "98038  https://en.wikipedia.org/wiki/Aamir_Liaquat_Hussain              99   \n",
       "98039    https://en.wikipedia.org/wiki/Zou_Jing_(engineer)               3   \n",
       "\n",
       "       year month info_parenth   age cause_of_death  \\\n",
       "98038  2022  June      , since  50.0           None   \n",
       "98039  2022  June         None  86.0           None   \n",
       "\n",
       "                           place_1 place_2      info_parenth_copy  \\\n",
       "98038                     Pakistan    None  2002 2007, since 2018   \n",
       "98039  China, People's Republic of    None                   None   \n",
       "\n",
       "       log_num_references  sciences  social  spiritual  academia_humanities  \\\n",
       "98038            4.605170         0       0          0                    0   \n",
       "98039            1.386294         1       0          0                    0   \n",
       "\n",
       "       business_farming  arts  sports  law_enf_military_operator  \\\n",
       "98038                 0     1       0                          0   \n",
       "98039                 0     0       0                          0   \n",
       "\n",
       "       politics_govt_law  crime  event_record_other  other_species  \\\n",
       "98038                  1      0                   0              0   \n",
       "98039                  0      0                   0              0   \n",
       "\n",
       "       num_categories  \n",
       "98038               2  \n",
       "98039               1  "
      ]
     },
     "execution_count": 3,
     "metadata": {},
     "output_type": "execute_result"
    },
    {
     "data": {
      "application/javascript": [
       "\n",
       "            setTimeout(function() {\n",
       "                var nbb_cell_id = 3;\n",
       "                var nbb_unformatted_code = \"# Checking last 2 rows of the data\\ndf.tail(2)\";\n",
       "                var nbb_formatted_code = \"# Checking last 2 rows of the data\\ndf.tail(2)\";\n",
       "                var nbb_cells = Jupyter.notebook.get_cells();\n",
       "                for (var i = 0; i < nbb_cells.length; ++i) {\n",
       "                    if (nbb_cells[i].input_prompt_number == nbb_cell_id) {\n",
       "                        if (nbb_cells[i].get_text() == nbb_unformatted_code) {\n",
       "                             nbb_cells[i].set_text(nbb_formatted_code);\n",
       "                        }\n",
       "                        break;\n",
       "                    }\n",
       "                }\n",
       "            }, 500);\n",
       "            "
      ],
      "text/plain": [
       "<IPython.core.display.Javascript object>"
      ]
     },
     "metadata": {},
     "output_type": "display_data"
    }
   ],
   "source": [
    "# Checking last 2 rows of the data\n",
    "df.tail(2)"
   ]
  },
  {
   "cell_type": "code",
   "execution_count": 4,
   "id": "de6e8ee5",
   "metadata": {},
   "outputs": [
    {
     "data": {
      "text/html": [
       "<div>\n",
       "<style scoped>\n",
       "    .dataframe tbody tr th:only-of-type {\n",
       "        vertical-align: middle;\n",
       "    }\n",
       "\n",
       "    .dataframe tbody tr th {\n",
       "        vertical-align: top;\n",
       "    }\n",
       "\n",
       "    .dataframe thead th {\n",
       "        text-align: right;\n",
       "    }\n",
       "</style>\n",
       "<table border=\"1\" class=\"dataframe\">\n",
       "  <thead>\n",
       "    <tr style=\"text-align: right;\">\n",
       "      <th></th>\n",
       "      <th>day</th>\n",
       "      <th>name</th>\n",
       "      <th>info</th>\n",
       "      <th>link</th>\n",
       "      <th>num_references</th>\n",
       "      <th>year</th>\n",
       "      <th>month</th>\n",
       "      <th>info_parenth</th>\n",
       "      <th>age</th>\n",
       "      <th>cause_of_death</th>\n",
       "      <th>place_1</th>\n",
       "      <th>place_2</th>\n",
       "      <th>info_parenth_copy</th>\n",
       "      <th>log_num_references</th>\n",
       "      <th>sciences</th>\n",
       "      <th>social</th>\n",
       "      <th>spiritual</th>\n",
       "      <th>academia_humanities</th>\n",
       "      <th>business_farming</th>\n",
       "      <th>arts</th>\n",
       "      <th>sports</th>\n",
       "      <th>law_enf_military_operator</th>\n",
       "      <th>politics_govt_law</th>\n",
       "      <th>crime</th>\n",
       "      <th>event_record_other</th>\n",
       "      <th>other_species</th>\n",
       "      <th>num_categories</th>\n",
       "    </tr>\n",
       "  </thead>\n",
       "  <tbody>\n",
       "    <tr>\n",
       "      <th>19918</th>\n",
       "      <td>27</td>\n",
       "      <td>Frederick G. Dutton</td>\n",
       "      <td>, 82, American lawyer, advisor to President Kennedy.</td>\n",
       "      <td>https://en.wikipedia.org/wiki/Fred_Dutton</td>\n",
       "      <td>8</td>\n",
       "      <td>2005</td>\n",
       "      <td>June</td>\n",
       "      <td>None</td>\n",
       "      <td>82.0</td>\n",
       "      <td>None</td>\n",
       "      <td>United States of America</td>\n",
       "      <td>None</td>\n",
       "      <td>None</td>\n",
       "      <td>2.197225</td>\n",
       "      <td>0</td>\n",
       "      <td>0</td>\n",
       "      <td>0</td>\n",
       "      <td>0</td>\n",
       "      <td>0</td>\n",
       "      <td>0</td>\n",
       "      <td>0</td>\n",
       "      <td>0</td>\n",
       "      <td>1</td>\n",
       "      <td>0</td>\n",
       "      <td>0</td>\n",
       "      <td>0</td>\n",
       "      <td>1</td>\n",
       "    </tr>\n",
       "    <tr>\n",
       "      <th>54732</th>\n",
       "      <td>7</td>\n",
       "      <td>Susan Allen</td>\n",
       "      <td>, 64, American harpist, brain cancer.</td>\n",
       "      <td>https://en.wikipedia.org/wiki/Susan_Allen_(musician)</td>\n",
       "      <td>36</td>\n",
       "      <td>2015</td>\n",
       "      <td>September</td>\n",
       "      <td>None</td>\n",
       "      <td>64.0</td>\n",
       "      <td>brain cancer</td>\n",
       "      <td>United States of America</td>\n",
       "      <td>None</td>\n",
       "      <td>None</td>\n",
       "      <td>3.610918</td>\n",
       "      <td>0</td>\n",
       "      <td>0</td>\n",
       "      <td>0</td>\n",
       "      <td>0</td>\n",
       "      <td>0</td>\n",
       "      <td>1</td>\n",
       "      <td>0</td>\n",
       "      <td>0</td>\n",
       "      <td>0</td>\n",
       "      <td>0</td>\n",
       "      <td>0</td>\n",
       "      <td>0</td>\n",
       "      <td>1</td>\n",
       "    </tr>\n",
       "    <tr>\n",
       "      <th>29031</th>\n",
       "      <td>14</td>\n",
       "      <td>Ted Kennedy</td>\n",
       "      <td>, 83, Canadian hockey player , heart failure.</td>\n",
       "      <td>https://en.wikipedia.org/wiki/Ted_Kennedy_(ice_hockey)</td>\n",
       "      <td>242</td>\n",
       "      <td>2009</td>\n",
       "      <td>August</td>\n",
       "      <td>Toronto Maple Leafs</td>\n",
       "      <td>83.0</td>\n",
       "      <td>heart failure</td>\n",
       "      <td>Canada</td>\n",
       "      <td>None</td>\n",
       "      <td>Toronto Maple Leafs</td>\n",
       "      <td>5.493061</td>\n",
       "      <td>0</td>\n",
       "      <td>0</td>\n",
       "      <td>0</td>\n",
       "      <td>0</td>\n",
       "      <td>0</td>\n",
       "      <td>0</td>\n",
       "      <td>1</td>\n",
       "      <td>0</td>\n",
       "      <td>0</td>\n",
       "      <td>0</td>\n",
       "      <td>0</td>\n",
       "      <td>0</td>\n",
       "      <td>1</td>\n",
       "    </tr>\n",
       "    <tr>\n",
       "      <th>64832</th>\n",
       "      <td>11</td>\n",
       "      <td>Segun Bucknor</td>\n",
       "      <td>, 71, Nigerian musician, complications from multiple strokes.</td>\n",
       "      <td>https://en.wikipedia.org/wiki/Segun_Bucknor</td>\n",
       "      <td>23</td>\n",
       "      <td>2017</td>\n",
       "      <td>August</td>\n",
       "      <td>None</td>\n",
       "      <td>71.0</td>\n",
       "      <td>complications from multiple strokes</td>\n",
       "      <td>Nigeria</td>\n",
       "      <td>None</td>\n",
       "      <td>None</td>\n",
       "      <td>3.178054</td>\n",
       "      <td>0</td>\n",
       "      <td>0</td>\n",
       "      <td>0</td>\n",
       "      <td>0</td>\n",
       "      <td>0</td>\n",
       "      <td>1</td>\n",
       "      <td>0</td>\n",
       "      <td>0</td>\n",
       "      <td>0</td>\n",
       "      <td>0</td>\n",
       "      <td>0</td>\n",
       "      <td>0</td>\n",
       "      <td>1</td>\n",
       "    </tr>\n",
       "    <tr>\n",
       "      <th>33285</th>\n",
       "      <td>23</td>\n",
       "      <td>Gordon P. Allen</td>\n",
       "      <td>, 81, American politician.</td>\n",
       "      <td>https://en.wikipedia.org/wiki/Gordon_P._Allen</td>\n",
       "      <td>4</td>\n",
       "      <td>2010</td>\n",
       "      <td>December</td>\n",
       "      <td>None</td>\n",
       "      <td>81.0</td>\n",
       "      <td>None</td>\n",
       "      <td>United States of America</td>\n",
       "      <td>None</td>\n",
       "      <td>None</td>\n",
       "      <td>1.609438</td>\n",
       "      <td>0</td>\n",
       "      <td>0</td>\n",
       "      <td>0</td>\n",
       "      <td>0</td>\n",
       "      <td>0</td>\n",
       "      <td>0</td>\n",
       "      <td>0</td>\n",
       "      <td>0</td>\n",
       "      <td>1</td>\n",
       "      <td>0</td>\n",
       "      <td>0</td>\n",
       "      <td>0</td>\n",
       "      <td>1</td>\n",
       "    </tr>\n",
       "  </tbody>\n",
       "</table>\n",
       "</div>"
      ],
      "text/plain": [
       "      day                 name  \\\n",
       "19918  27  Frederick G. Dutton   \n",
       "54732   7          Susan Allen   \n",
       "29031  14          Ted Kennedy   \n",
       "64832  11        Segun Bucknor   \n",
       "33285  23      Gordon P. Allen   \n",
       "\n",
       "                                                                info  \\\n",
       "19918           , 82, American lawyer, advisor to President Kennedy.   \n",
       "54732                          , 64, American harpist, brain cancer.   \n",
       "29031                  , 83, Canadian hockey player , heart failure.   \n",
       "64832  , 71, Nigerian musician, complications from multiple strokes.   \n",
       "33285                                     , 81, American politician.   \n",
       "\n",
       "                                                         link  num_references  \\\n",
       "19918               https://en.wikipedia.org/wiki/Fred_Dutton               8   \n",
       "54732    https://en.wikipedia.org/wiki/Susan_Allen_(musician)              36   \n",
       "29031  https://en.wikipedia.org/wiki/Ted_Kennedy_(ice_hockey)             242   \n",
       "64832             https://en.wikipedia.org/wiki/Segun_Bucknor              23   \n",
       "33285           https://en.wikipedia.org/wiki/Gordon_P._Allen               4   \n",
       "\n",
       "       year      month         info_parenth   age  \\\n",
       "19918  2005       June                 None  82.0   \n",
       "54732  2015  September                 None  64.0   \n",
       "29031  2009     August  Toronto Maple Leafs  83.0   \n",
       "64832  2017     August                 None  71.0   \n",
       "33285  2010   December                 None  81.0   \n",
       "\n",
       "                            cause_of_death                   place_1 place_2  \\\n",
       "19918                                 None  United States of America    None   \n",
       "54732                         brain cancer  United States of America    None   \n",
       "29031                        heart failure                    Canada    None   \n",
       "64832  complications from multiple strokes                   Nigeria    None   \n",
       "33285                                 None  United States of America    None   \n",
       "\n",
       "         info_parenth_copy  log_num_references  sciences  social  spiritual  \\\n",
       "19918                 None            2.197225         0       0          0   \n",
       "54732                 None            3.610918         0       0          0   \n",
       "29031  Toronto Maple Leafs            5.493061         0       0          0   \n",
       "64832                 None            3.178054         0       0          0   \n",
       "33285                 None            1.609438         0       0          0   \n",
       "\n",
       "       academia_humanities  business_farming  arts  sports  \\\n",
       "19918                    0                 0     0       0   \n",
       "54732                    0                 0     1       0   \n",
       "29031                    0                 0     0       1   \n",
       "64832                    0                 0     1       0   \n",
       "33285                    0                 0     0       0   \n",
       "\n",
       "       law_enf_military_operator  politics_govt_law  crime  \\\n",
       "19918                          0                  1      0   \n",
       "54732                          0                  0      0   \n",
       "29031                          0                  0      0   \n",
       "64832                          0                  0      0   \n",
       "33285                          0                  1      0   \n",
       "\n",
       "       event_record_other  other_species  num_categories  \n",
       "19918                   0              0               1  \n",
       "54732                   0              0               1  \n",
       "29031                   0              0               1  \n",
       "64832                   0              0               1  \n",
       "33285                   0              0               1  "
      ]
     },
     "execution_count": 4,
     "metadata": {},
     "output_type": "execute_result"
    },
    {
     "data": {
      "application/javascript": [
       "\n",
       "            setTimeout(function() {\n",
       "                var nbb_cell_id = 4;\n",
       "                var nbb_unformatted_code = \"# Checking a sample of the data\\ndf.sample(5)\";\n",
       "                var nbb_formatted_code = \"# Checking a sample of the data\\ndf.sample(5)\";\n",
       "                var nbb_cells = Jupyter.notebook.get_cells();\n",
       "                for (var i = 0; i < nbb_cells.length; ++i) {\n",
       "                    if (nbb_cells[i].input_prompt_number == nbb_cell_id) {\n",
       "                        if (nbb_cells[i].get_text() == nbb_unformatted_code) {\n",
       "                             nbb_cells[i].set_text(nbb_formatted_code);\n",
       "                        }\n",
       "                        break;\n",
       "                    }\n",
       "                }\n",
       "            }, 500);\n",
       "            "
      ],
      "text/plain": [
       "<IPython.core.display.Javascript object>"
      ]
     },
     "metadata": {},
     "output_type": "display_data"
    }
   ],
   "source": [
    "# Checking a sample of the data\n",
    "df.sample(5)"
   ]
  },
  {
   "cell_type": "markdown",
   "id": "8d5f29da",
   "metadata": {},
   "source": [
    "### Checking Data Types and Null Values"
   ]
  },
  {
   "cell_type": "code",
   "execution_count": 5,
   "id": "bf505f87",
   "metadata": {},
   "outputs": [
    {
     "name": "stdout",
     "output_type": "stream",
     "text": [
      "<class 'pandas.core.frame.DataFrame'>\n",
      "RangeIndex: 98040 entries, 0 to 98039\n",
      "Data columns (total 27 columns):\n",
      " #   Column                     Non-Null Count  Dtype  \n",
      "---  ------                     --------------  -----  \n",
      " 0   day                        98040 non-null  object \n",
      " 1   name                       98040 non-null  object \n",
      " 2   info                       98040 non-null  object \n",
      " 3   link                       98040 non-null  object \n",
      " 4   num_references             98040 non-null  int64  \n",
      " 5   year                       98040 non-null  int64  \n",
      " 6   month                      98040 non-null  object \n",
      " 7   info_parenth               36660 non-null  object \n",
      " 8   age                        98040 non-null  float64\n",
      " 9   cause_of_death             33336 non-null  object \n",
      " 10  place_1                    97887 non-null  object \n",
      " 11  place_2                    8116 non-null   object \n",
      " 12  info_parenth_copy          36660 non-null  object \n",
      " 13  log_num_references         98040 non-null  float64\n",
      " 14  sciences                   98040 non-null  int64  \n",
      " 15  social                     98040 non-null  int64  \n",
      " 16  spiritual                  98040 non-null  int64  \n",
      " 17  academia_humanities        98040 non-null  int64  \n",
      " 18  business_farming           98040 non-null  int64  \n",
      " 19  arts                       98040 non-null  int64  \n",
      " 20  sports                     98040 non-null  int64  \n",
      " 21  law_enf_military_operator  98040 non-null  int64  \n",
      " 22  politics_govt_law          98040 non-null  int64  \n",
      " 23  crime                      98040 non-null  int64  \n",
      " 24  event_record_other         98040 non-null  int64  \n",
      " 25  other_species              98040 non-null  int64  \n",
      " 26  num_categories             98040 non-null  int64  \n",
      "dtypes: float64(2), int64(15), object(10)\n",
      "memory usage: 20.2+ MB\n"
     ]
    },
    {
     "data": {
      "application/javascript": [
       "\n",
       "            setTimeout(function() {\n",
       "                var nbb_cell_id = 5;\n",
       "                var nbb_unformatted_code = \"# Checking data types and null values\\ndf.info()\";\n",
       "                var nbb_formatted_code = \"# Checking data types and null values\\ndf.info()\";\n",
       "                var nbb_cells = Jupyter.notebook.get_cells();\n",
       "                for (var i = 0; i < nbb_cells.length; ++i) {\n",
       "                    if (nbb_cells[i].input_prompt_number == nbb_cell_id) {\n",
       "                        if (nbb_cells[i].get_text() == nbb_unformatted_code) {\n",
       "                             nbb_cells[i].set_text(nbb_formatted_code);\n",
       "                        }\n",
       "                        break;\n",
       "                    }\n",
       "                }\n",
       "            }, 500);\n",
       "            "
      ],
      "text/plain": [
       "<IPython.core.display.Javascript object>"
      ]
     },
     "metadata": {},
     "output_type": "display_data"
    }
   ],
   "source": [
    "# Checking data types and null values\n",
    "df.info()"
   ]
  },
  {
   "cell_type": "markdown",
   "id": "c459d7f8",
   "metadata": {},
   "source": [
    "#### Observations:\n",
    "- With our dataset loaded, we can pick up where we left off with extracting known_for and `cause_of_death` values.\n",
    "- As all of the numbered `info_` columns have been searched and dropped, we are left with `info_parenth` (and its copy).  \n",
    "- By definition, we would expect `info_parenth` to contain non-essential values.  The column contains a lot of values, so we will begin by looking only for `known_for` information for the few entries that do not yet have a `known_for` category.\n",
    "- Then we can consider an approach to searching for any `cause_of_death` information in `info_parenth`."
   ]
  },
  {
   "cell_type": "markdown",
   "id": "5c542ec1",
   "metadata": {},
   "source": [
    "### Extracting Remaining `known_for` for Entries Still Lacking a `known_for` Category"
   ]
  },
  {
   "cell_type": "markdown",
   "id": "70ab2bf0",
   "metadata": {},
   "source": [
    "#### Checking Entries Lacking lacking `known_for` Category"
   ]
  },
  {
   "cell_type": "code",
   "execution_count": 6,
   "id": "9ea64ec6",
   "metadata": {},
   "outputs": [
    {
     "data": {
      "text/html": [
       "<div>\n",
       "<style scoped>\n",
       "    .dataframe tbody tr th:only-of-type {\n",
       "        vertical-align: middle;\n",
       "    }\n",
       "\n",
       "    .dataframe tbody tr th {\n",
       "        vertical-align: top;\n",
       "    }\n",
       "\n",
       "    .dataframe thead th {\n",
       "        text-align: right;\n",
       "    }\n",
       "</style>\n",
       "<table border=\"1\" class=\"dataframe\">\n",
       "  <thead>\n",
       "    <tr style=\"text-align: right;\">\n",
       "      <th></th>\n",
       "      <th>day</th>\n",
       "      <th>name</th>\n",
       "      <th>info</th>\n",
       "      <th>link</th>\n",
       "      <th>num_references</th>\n",
       "      <th>year</th>\n",
       "      <th>month</th>\n",
       "      <th>info_parenth</th>\n",
       "      <th>age</th>\n",
       "      <th>cause_of_death</th>\n",
       "      <th>place_1</th>\n",
       "      <th>place_2</th>\n",
       "      <th>info_parenth_copy</th>\n",
       "      <th>log_num_references</th>\n",
       "      <th>sciences</th>\n",
       "      <th>social</th>\n",
       "      <th>spiritual</th>\n",
       "      <th>academia_humanities</th>\n",
       "      <th>business_farming</th>\n",
       "      <th>arts</th>\n",
       "      <th>sports</th>\n",
       "      <th>law_enf_military_operator</th>\n",
       "      <th>politics_govt_law</th>\n",
       "      <th>crime</th>\n",
       "      <th>event_record_other</th>\n",
       "      <th>other_species</th>\n",
       "      <th>num_categories</th>\n",
       "    </tr>\n",
       "  </thead>\n",
       "  <tbody>\n",
       "    <tr>\n",
       "      <th>278</th>\n",
       "      <td>4</td>\n",
       "      <td>Aníbal</td>\n",
       "      <td>, 53, Mexican  , brain cancer.</td>\n",
       "      <td>https://en.wikipedia.org/wiki/An%C3%ADbal_(wrestler)</td>\n",
       "      <td>20</td>\n",
       "      <td>1994</td>\n",
       "      <td>March</td>\n",
       "      <td>professional wrestler</td>\n",
       "      <td>53.0</td>\n",
       "      <td>brain cancer</td>\n",
       "      <td>Mexico</td>\n",
       "      <td>None</td>\n",
       "      <td>professional wrestler</td>\n",
       "      <td>3.044522</td>\n",
       "      <td>0</td>\n",
       "      <td>0</td>\n",
       "      <td>0</td>\n",
       "      <td>0</td>\n",
       "      <td>0</td>\n",
       "      <td>0</td>\n",
       "      <td>0</td>\n",
       "      <td>0</td>\n",
       "      <td>0</td>\n",
       "      <td>0</td>\n",
       "      <td>0</td>\n",
       "      <td>0</td>\n",
       "      <td>0</td>\n",
       "    </tr>\n",
       "    <tr>\n",
       "      <th>11490</th>\n",
       "      <td>10</td>\n",
       "      <td>Chandra Khonnokyoong</td>\n",
       "      <td>, 91, Thai .</td>\n",
       "      <td>https://en.wikipedia.org/wiki/Chandra_Khonnokyoong</td>\n",
       "      <td>25</td>\n",
       "      <td>2000</td>\n",
       "      <td>September</td>\n",
       "      <td>None</td>\n",
       "      <td>91.0</td>\n",
       "      <td>None</td>\n",
       "      <td>Thailand</td>\n",
       "      <td>None</td>\n",
       "      <td>None</td>\n",
       "      <td>3.258097</td>\n",
       "      <td>0</td>\n",
       "      <td>0</td>\n",
       "      <td>0</td>\n",
       "      <td>0</td>\n",
       "      <td>0</td>\n",
       "      <td>0</td>\n",
       "      <td>0</td>\n",
       "      <td>0</td>\n",
       "      <td>0</td>\n",
       "      <td>0</td>\n",
       "      <td>0</td>\n",
       "      <td>0</td>\n",
       "      <td>0</td>\n",
       "    </tr>\n",
       "    <tr>\n",
       "      <th>12052</th>\n",
       "      <td>3</td>\n",
       "      <td>Kung Fu</td>\n",
       "      <td>, 49, Mexican , arterial hyper tension.</td>\n",
       "      <td>https://en.wikipedia.org/wiki/Kung_Fu_(wrestler)</td>\n",
       "      <td>11</td>\n",
       "      <td>2001</td>\n",
       "      <td>January</td>\n",
       "      <td>None</td>\n",
       "      <td>49.0</td>\n",
       "      <td>arterial hyper tension</td>\n",
       "      <td>Mexico</td>\n",
       "      <td>None</td>\n",
       "      <td>None</td>\n",
       "      <td>2.484907</td>\n",
       "      <td>0</td>\n",
       "      <td>0</td>\n",
       "      <td>0</td>\n",
       "      <td>0</td>\n",
       "      <td>0</td>\n",
       "      <td>0</td>\n",
       "      <td>0</td>\n",
       "      <td>0</td>\n",
       "      <td>0</td>\n",
       "      <td>0</td>\n",
       "      <td>0</td>\n",
       "      <td>0</td>\n",
       "      <td>0</td>\n",
       "    </tr>\n",
       "    <tr>\n",
       "      <th>16376</th>\n",
       "      <td>10</td>\n",
       "      <td>Little Eva</td>\n",
       "      <td>, .</td>\n",
       "      <td>https://en.wikipedia.org/wiki/Little_Eva</td>\n",
       "      <td>14</td>\n",
       "      <td>2003</td>\n",
       "      <td>April</td>\n",
       "      <td>née Eva Narcissus Boyd, , pop singer</td>\n",
       "      <td>59.0</td>\n",
       "      <td>None</td>\n",
       "      <td>United States of America</td>\n",
       "      <td>None</td>\n",
       "      <td>née Eva Narcissus Boyd, ,  pop singer</td>\n",
       "      <td>2.708050</td>\n",
       "      <td>0</td>\n",
       "      <td>0</td>\n",
       "      <td>0</td>\n",
       "      <td>0</td>\n",
       "      <td>0</td>\n",
       "      <td>0</td>\n",
       "      <td>0</td>\n",
       "      <td>0</td>\n",
       "      <td>0</td>\n",
       "      <td>0</td>\n",
       "      <td>0</td>\n",
       "      <td>0</td>\n",
       "      <td>0</td>\n",
       "    </tr>\n",
       "    <tr>\n",
       "      <th>36930</th>\n",
       "      <td>12</td>\n",
       "      <td>Natalee Holloway</td>\n",
       "      <td>, 18</td>\n",
       "      <td>https://en.wikipedia.org/wiki/Natalee_Holloway</td>\n",
       "      <td>198</td>\n",
       "      <td>2012</td>\n",
       "      <td>January</td>\n",
       "      <td>in , student, missing since declared legally dead on this date</td>\n",
       "      <td>18.0</td>\n",
       "      <td>None</td>\n",
       "      <td>United States of America</td>\n",
       "      <td>None</td>\n",
       "      <td>in 2005,  student, missing since 2005 declared legally dead on this date</td>\n",
       "      <td>5.293305</td>\n",
       "      <td>0</td>\n",
       "      <td>0</td>\n",
       "      <td>0</td>\n",
       "      <td>0</td>\n",
       "      <td>0</td>\n",
       "      <td>0</td>\n",
       "      <td>0</td>\n",
       "      <td>0</td>\n",
       "      <td>0</td>\n",
       "      <td>0</td>\n",
       "      <td>0</td>\n",
       "      <td>0</td>\n",
       "      <td>0</td>\n",
       "    </tr>\n",
       "    <tr>\n",
       "      <th>79603</th>\n",
       "      <td>27</td>\n",
       "      <td>Sudhakar Chaturvedi</td>\n",
       "      <td>, 122 .</td>\n",
       "      <td>https://en.wikipedia.org/wiki/Sudhakar_Chaturvedi</td>\n",
       "      <td>37</td>\n",
       "      <td>2020</td>\n",
       "      <td>February</td>\n",
       "      <td>claimed, Vedic scholar and courier Mahatma Gandhi</td>\n",
       "      <td>122.0</td>\n",
       "      <td>None</td>\n",
       "      <td>India</td>\n",
       "      <td>None</td>\n",
       "      <td>claimed,  Vedic scholar and courier Mahatma Gandhi</td>\n",
       "      <td>3.637586</td>\n",
       "      <td>0</td>\n",
       "      <td>0</td>\n",
       "      <td>0</td>\n",
       "      <td>0</td>\n",
       "      <td>0</td>\n",
       "      <td>0</td>\n",
       "      <td>0</td>\n",
       "      <td>0</td>\n",
       "      <td>0</td>\n",
       "      <td>0</td>\n",
       "      <td>0</td>\n",
       "      <td>0</td>\n",
       "      <td>0</td>\n",
       "    </tr>\n",
       "  </tbody>\n",
       "</table>\n",
       "</div>"
      ],
      "text/plain": [
       "      day                  name                                     info  \\\n",
       "278     4                Aníbal           , 53, Mexican  , brain cancer.   \n",
       "11490  10  Chandra Khonnokyoong                             , 91, Thai .   \n",
       "12052   3               Kung Fu  , 49, Mexican , arterial hyper tension.   \n",
       "16376  10            Little Eva                                      , .   \n",
       "36930  12      Natalee Holloway                                     , 18   \n",
       "79603  27   Sudhakar Chaturvedi                                  , 122 .   \n",
       "\n",
       "                                                       link  num_references  \\\n",
       "278    https://en.wikipedia.org/wiki/An%C3%ADbal_(wrestler)              20   \n",
       "11490    https://en.wikipedia.org/wiki/Chandra_Khonnokyoong              25   \n",
       "12052      https://en.wikipedia.org/wiki/Kung_Fu_(wrestler)              11   \n",
       "16376              https://en.wikipedia.org/wiki/Little_Eva              14   \n",
       "36930        https://en.wikipedia.org/wiki/Natalee_Holloway             198   \n",
       "79603     https://en.wikipedia.org/wiki/Sudhakar_Chaturvedi              37   \n",
       "\n",
       "       year      month  \\\n",
       "278    1994      March   \n",
       "11490  2000  September   \n",
       "12052  2001    January   \n",
       "16376  2003      April   \n",
       "36930  2012    January   \n",
       "79603  2020   February   \n",
       "\n",
       "                                                         info_parenth    age  \\\n",
       "278                                             professional wrestler   53.0   \n",
       "11490                                                            None   91.0   \n",
       "12052                                                            None   49.0   \n",
       "16376                            née Eva Narcissus Boyd, , pop singer   59.0   \n",
       "36930  in , student, missing since declared legally dead on this date   18.0   \n",
       "79603               claimed, Vedic scholar and courier Mahatma Gandhi  122.0   \n",
       "\n",
       "               cause_of_death                   place_1 place_2  \\\n",
       "278              brain cancer                    Mexico    None   \n",
       "11490                    None                  Thailand    None   \n",
       "12052  arterial hyper tension                    Mexico    None   \n",
       "16376                    None  United States of America    None   \n",
       "36930                    None  United States of America    None   \n",
       "79603                    None                     India    None   \n",
       "\n",
       "                                                              info_parenth_copy  \\\n",
       "278                                                       professional wrestler   \n",
       "11490                                                                      None   \n",
       "12052                                                                      None   \n",
       "16376                                     née Eva Narcissus Boyd, ,  pop singer   \n",
       "36930  in 2005,  student, missing since 2005 declared legally dead on this date   \n",
       "79603                        claimed,  Vedic scholar and courier Mahatma Gandhi   \n",
       "\n",
       "       log_num_references  sciences  social  spiritual  academia_humanities  \\\n",
       "278              3.044522         0       0          0                    0   \n",
       "11490            3.258097         0       0          0                    0   \n",
       "12052            2.484907         0       0          0                    0   \n",
       "16376            2.708050         0       0          0                    0   \n",
       "36930            5.293305         0       0          0                    0   \n",
       "79603            3.637586         0       0          0                    0   \n",
       "\n",
       "       business_farming  arts  sports  law_enf_military_operator  \\\n",
       "278                   0     0       0                          0   \n",
       "11490                 0     0       0                          0   \n",
       "12052                 0     0       0                          0   \n",
       "16376                 0     0       0                          0   \n",
       "36930                 0     0       0                          0   \n",
       "79603                 0     0       0                          0   \n",
       "\n",
       "       politics_govt_law  crime  event_record_other  other_species  \\\n",
       "278                    0      0                   0              0   \n",
       "11490                  0      0                   0              0   \n",
       "12052                  0      0                   0              0   \n",
       "16376                  0      0                   0              0   \n",
       "36930                  0      0                   0              0   \n",
       "79603                  0      0                   0              0   \n",
       "\n",
       "       num_categories  \n",
       "278                 0  \n",
       "11490               0  \n",
       "12052               0  \n",
       "16376               0  \n",
       "36930               0  \n",
       "79603               0  "
      ]
     },
     "execution_count": 6,
     "metadata": {},
     "output_type": "execute_result"
    },
    {
     "data": {
      "application/javascript": [
       "\n",
       "            setTimeout(function() {\n",
       "                var nbb_cell_id = 6;\n",
       "                var nbb_unformatted_code = \"# Checking entries with num_categories == 0\\ndf[df[\\\"num_categories\\\"] == 0]\";\n",
       "                var nbb_formatted_code = \"# Checking entries with num_categories == 0\\ndf[df[\\\"num_categories\\\"] == 0]\";\n",
       "                var nbb_cells = Jupyter.notebook.get_cells();\n",
       "                for (var i = 0; i < nbb_cells.length; ++i) {\n",
       "                    if (nbb_cells[i].input_prompt_number == nbb_cell_id) {\n",
       "                        if (nbb_cells[i].get_text() == nbb_unformatted_code) {\n",
       "                             nbb_cells[i].set_text(nbb_formatted_code);\n",
       "                        }\n",
       "                        break;\n",
       "                    }\n",
       "                }\n",
       "            }, 500);\n",
       "            "
      ],
      "text/plain": [
       "<IPython.core.display.Javascript object>"
      ]
     },
     "metadata": {},
     "output_type": "display_data"
    }
   ],
   "source": [
    "# Checking entries with num_categories == 0\n",
    "df[df[\"num_categories\"] == 0]"
   ]
  },
  {
   "cell_type": "markdown",
   "id": "5209943c",
   "metadata": {},
   "source": [
    "#### Observations:\n",
    "- We can see some additional information in `info_parenth` for some of the values.\n",
    "- Since we previously separated the information contained in parentheses from the original `info` column, we will maintain `info_parenth_copy` intact, and utilize `info_parenth` for any value extraction.\n",
    "- We will hard-code the missing `known_for` info for the entries lacking that information, since there are only 2, and we have the link readily available to find it or it is apparent in the link value.  "
   ]
  },
  {
   "cell_type": "markdown",
   "id": "d68c7fb4",
   "metadata": {},
   "source": [
    "#### Finding `known_for` Roles in `info_parenth` for Entries Lacking any Category"
   ]
  },
  {
   "cell_type": "code",
   "execution_count": 7,
   "id": "e392e86b",
   "metadata": {},
   "outputs": [
    {
     "data": {
      "application/javascript": [
       "\n",
       "            setTimeout(function() {\n",
       "                var nbb_cell_id = 7;\n",
       "                var nbb_unformatted_code = \"# Obtaining values for column and their counts\\nroles_list = (\\n    df[df[\\\"num_categories\\\"] == 0][\\\"info_parenth\\\"]\\n    .value_counts(ascending=True)\\n    .index.tolist()\\n)\";\n",
       "                var nbb_formatted_code = \"# Obtaining values for column and their counts\\nroles_list = (\\n    df[df[\\\"num_categories\\\"] == 0][\\\"info_parenth\\\"]\\n    .value_counts(ascending=True)\\n    .index.tolist()\\n)\";\n",
       "                var nbb_cells = Jupyter.notebook.get_cells();\n",
       "                for (var i = 0; i < nbb_cells.length; ++i) {\n",
       "                    if (nbb_cells[i].input_prompt_number == nbb_cell_id) {\n",
       "                        if (nbb_cells[i].get_text() == nbb_unformatted_code) {\n",
       "                             nbb_cells[i].set_text(nbb_formatted_code);\n",
       "                        }\n",
       "                        break;\n",
       "                    }\n",
       "                }\n",
       "            }, 500);\n",
       "            "
      ],
      "text/plain": [
       "<IPython.core.display.Javascript object>"
      ]
     },
     "metadata": {},
     "output_type": "display_data"
    }
   ],
   "source": [
    "# Obtaining values for column and their counts\n",
    "roles_list = (\n",
    "    df[df[\"num_categories\"] == 0][\"info_parenth\"]\n",
    "    .value_counts(ascending=True)\n",
    "    .index.tolist()\n",
    ")"
   ]
  },
  {
   "cell_type": "code",
   "execution_count": 8,
   "id": "19b2f85c",
   "metadata": {},
   "outputs": [
    {
     "data": {
      "text/plain": [
       "'claimed, Vedic scholar and courier Mahatma Gandhi'"
      ]
     },
     "execution_count": 8,
     "metadata": {},
     "output_type": "execute_result"
    },
    {
     "data": {
      "application/javascript": [
       "\n",
       "            setTimeout(function() {\n",
       "                var nbb_cell_id = 8;\n",
       "                var nbb_unformatted_code = \"# Code to check each value\\nvalue = roles_list.pop()\\nvalue\";\n",
       "                var nbb_formatted_code = \"# Code to check each value\\nvalue = roles_list.pop()\\nvalue\";\n",
       "                var nbb_cells = Jupyter.notebook.get_cells();\n",
       "                for (var i = 0; i < nbb_cells.length; ++i) {\n",
       "                    if (nbb_cells[i].input_prompt_number == nbb_cell_id) {\n",
       "                        if (nbb_cells[i].get_text() == nbb_unformatted_code) {\n",
       "                             nbb_cells[i].set_text(nbb_formatted_code);\n",
       "                        }\n",
       "                        break;\n",
       "                    }\n",
       "                }\n",
       "            }, 500);\n",
       "            "
      ],
      "text/plain": [
       "<IPython.core.display.Javascript object>"
      ]
     },
     "metadata": {},
     "output_type": "display_data"
    }
   ],
   "source": [
    "# Code to check each value\n",
    "value = roles_list.pop()\n",
    "value"
   ]
  },
  {
   "cell_type": "code",
   "execution_count": 9,
   "id": "0c884b32",
   "metadata": {},
   "outputs": [
    {
     "data": {
      "application/javascript": [
       "\n",
       "            setTimeout(function() {\n",
       "                var nbb_cell_id = 9;\n",
       "                var nbb_unformatted_code = \"# # Create specific_roles_cause_list for above popped value\\n# specific_roles_list = (\\n#     df.loc[\\n#         [\\n#             index\\n#             for index in df[df[\\\"info_parenth\\\"].notna()].index\\n#             if value in df.loc[index, \\\"info_parenth\\\"]\\n#         ],\\n#         \\\"info_parenth\\\",\\n#     ]\\n#     .value_counts()\\n#     .index.tolist()\\n# )\";\n",
       "                var nbb_formatted_code = \"# # Create specific_roles_cause_list for above popped value\\n# specific_roles_list = (\\n#     df.loc[\\n#         [\\n#             index\\n#             for index in df[df[\\\"info_parenth\\\"].notna()].index\\n#             if value in df.loc[index, \\\"info_parenth\\\"]\\n#         ],\\n#         \\\"info_parenth\\\",\\n#     ]\\n#     .value_counts()\\n#     .index.tolist()\\n# )\";\n",
       "                var nbb_cells = Jupyter.notebook.get_cells();\n",
       "                for (var i = 0; i < nbb_cells.length; ++i) {\n",
       "                    if (nbb_cells[i].input_prompt_number == nbb_cell_id) {\n",
       "                        if (nbb_cells[i].get_text() == nbb_unformatted_code) {\n",
       "                             nbb_cells[i].set_text(nbb_formatted_code);\n",
       "                        }\n",
       "                        break;\n",
       "                    }\n",
       "                }\n",
       "            }, 500);\n",
       "            "
      ],
      "text/plain": [
       "<IPython.core.display.Javascript object>"
      ]
     },
     "metadata": {},
     "output_type": "display_data"
    }
   ],
   "source": [
    "# # Create specific_roles_cause_list for above popped value\n",
    "# specific_roles_list = (\n",
    "#     df.loc[\n",
    "#         [\n",
    "#             index\n",
    "#             for index in df[df[\"info_parenth\"].notna()].index\n",
    "#             if value in df.loc[index, \"info_parenth\"]\n",
    "#         ],\n",
    "#         \"info_parenth\",\n",
    "#     ]\n",
    "#     .value_counts()\n",
    "#     .index.tolist()\n",
    "# )"
   ]
  },
  {
   "cell_type": "code",
   "execution_count": 10,
   "id": "7550a487",
   "metadata": {},
   "outputs": [
    {
     "data": {
      "application/javascript": [
       "\n",
       "            setTimeout(function() {\n",
       "                var nbb_cell_id = 10;\n",
       "                var nbb_unformatted_code = \"# # Viewing list sorted by descending length to copy to dictionary below and screen values\\n# sorted(specific_roles_list, key=lambda x: len(x), reverse=True)\";\n",
       "                var nbb_formatted_code = \"# # Viewing list sorted by descending length to copy to dictionary below and screen values\\n# sorted(specific_roles_list, key=lambda x: len(x), reverse=True)\";\n",
       "                var nbb_cells = Jupyter.notebook.get_cells();\n",
       "                for (var i = 0; i < nbb_cells.length; ++i) {\n",
       "                    if (nbb_cells[i].input_prompt_number == nbb_cell_id) {\n",
       "                        if (nbb_cells[i].get_text() == nbb_unformatted_code) {\n",
       "                             nbb_cells[i].set_text(nbb_formatted_code);\n",
       "                        }\n",
       "                        break;\n",
       "                    }\n",
       "                }\n",
       "            }, 500);\n",
       "            "
      ],
      "text/plain": [
       "<IPython.core.display.Javascript object>"
      ]
     },
     "metadata": {},
     "output_type": "display_data"
    }
   ],
   "source": [
    "# # Viewing list sorted by descending length to copy to dictionary below and screen values\n",
    "# sorted(specific_roles_list, key=lambda x: len(x), reverse=True)"
   ]
  },
  {
   "cell_type": "code",
   "execution_count": 11,
   "id": "d2da3d72",
   "metadata": {},
   "outputs": [
    {
     "data": {
      "application/javascript": [
       "\n",
       "            setTimeout(function() {\n",
       "                var nbb_cell_id = 11;\n",
       "                var nbb_unformatted_code = \"# # Example code to quick-check a specific entry\\n# df[df[\\\"info_parenth\\\"] == value]\";\n",
       "                var nbb_formatted_code = \"# # Example code to quick-check a specific entry\\n# df[df[\\\"info_parenth\\\"] == value]\";\n",
       "                var nbb_cells = Jupyter.notebook.get_cells();\n",
       "                for (var i = 0; i < nbb_cells.length; ++i) {\n",
       "                    if (nbb_cells[i].input_prompt_number == nbb_cell_id) {\n",
       "                        if (nbb_cells[i].get_text() == nbb_unformatted_code) {\n",
       "                             nbb_cells[i].set_text(nbb_formatted_code);\n",
       "                        }\n",
       "                        break;\n",
       "                    }\n",
       "                }\n",
       "            }, 500);\n",
       "            "
      ],
      "text/plain": [
       "<IPython.core.display.Javascript object>"
      ]
     },
     "metadata": {},
     "output_type": "display_data"
    }
   ],
   "source": [
    "# # Example code to quick-check a specific entry\n",
    "# df[df[\"info_parenth\"] == value]"
   ]
  },
  {
   "cell_type": "markdown",
   "id": "97842e56",
   "metadata": {},
   "source": [
    "#### Creating Lists for Each `known_for` Category"
   ]
  },
  {
   "cell_type": "code",
   "execution_count": 12,
   "id": "16d92bb3",
   "metadata": {},
   "outputs": [
    {
     "data": {
      "application/javascript": [
       "\n",
       "            setTimeout(function() {\n",
       "                var nbb_cell_id = 12;\n",
       "                var nbb_unformatted_code = \"# Creating lists for each category and sorting by decreasing length and removing duplicates\\n\\npolitics_govt_law = [\\\"and courier Mahatma Gandhi\\\"]\\npolitics_govt_law = sorted(\\n    list(set(politics_govt_law)), key=lambda x: len(x), reverse=True\\n)\\n\\narts = [\\\"n\\u00e9e Eva Narcissus Boyd, , pop singer\\\"]\\narts = sorted(list(set(arts)), key=lambda x: len(x), reverse=True)\\n\\nsports = [\\\"professional wrestler\\\", \\\"wrestler\\\"]\\nsports = sorted(list(set(sports)), key=lambda x: len(x), reverse=True)\\n\\nsciences = []\\nsciences = sorted(list(set(sciences)), key=lambda x: len(x), reverse=True)\\n\\nbusiness_farming = []\\nbusiness_farming = sorted(\\n    list(set(business_farming)), key=lambda x: len(x), reverse=True\\n)\\n\\nacademia_humanities = [\\\"scholar\\\"]\\nacademia_humanities = sorted(\\n    list(set(academia_humanities)), key=lambda x: len(x), reverse=True\\n)\\n\\nlaw_enf_military_operator = []\\nlaw_enf_military_operator = sorted(\\n    list(set(law_enf_military_operator)), key=lambda x: len(x), reverse=True\\n)\\n\\nspiritual = [\\\"claimed,  Vedic\\\", \\\"spiritual teacher\\\"]\\nspiritual = sorted(list(set(spiritual)), key=lambda x: len(x), reverse=True)\\n\\nsocial = []\\nsocial = sorted(list(set(social)), key=lambda x: len(x), reverse=True)\\n\\ncrime = []\\ncrime = sorted(list(set(crime)), key=lambda x: len(x), reverse=True)\\n\\nevent_record_other = [\\\"in , student, missing since declared legally dead on this date\\\"]\\nevent_record_other = sorted(\\n    list(set(event_record_other)), key=lambda x: len(x), reverse=True\\n)\\n\\nother_species = []\\nother_species = sorted(list(set(other_species)), key=lambda x: len(x), reverse=True)\\n\\ncause_of_death = []\\ncause_of_death = sorted(list(set(cause_of_death)), key=lambda x: len(x), reverse=True)\";\n",
       "                var nbb_formatted_code = \"# Creating lists for each category and sorting by decreasing length and removing duplicates\\n\\npolitics_govt_law = [\\\"and courier Mahatma Gandhi\\\"]\\npolitics_govt_law = sorted(\\n    list(set(politics_govt_law)), key=lambda x: len(x), reverse=True\\n)\\n\\narts = [\\\"n\\u00e9e Eva Narcissus Boyd, , pop singer\\\"]\\narts = sorted(list(set(arts)), key=lambda x: len(x), reverse=True)\\n\\nsports = [\\\"professional wrestler\\\", \\\"wrestler\\\"]\\nsports = sorted(list(set(sports)), key=lambda x: len(x), reverse=True)\\n\\nsciences = []\\nsciences = sorted(list(set(sciences)), key=lambda x: len(x), reverse=True)\\n\\nbusiness_farming = []\\nbusiness_farming = sorted(\\n    list(set(business_farming)), key=lambda x: len(x), reverse=True\\n)\\n\\nacademia_humanities = [\\\"scholar\\\"]\\nacademia_humanities = sorted(\\n    list(set(academia_humanities)), key=lambda x: len(x), reverse=True\\n)\\n\\nlaw_enf_military_operator = []\\nlaw_enf_military_operator = sorted(\\n    list(set(law_enf_military_operator)), key=lambda x: len(x), reverse=True\\n)\\n\\nspiritual = [\\\"claimed,  Vedic\\\", \\\"spiritual teacher\\\"]\\nspiritual = sorted(list(set(spiritual)), key=lambda x: len(x), reverse=True)\\n\\nsocial = []\\nsocial = sorted(list(set(social)), key=lambda x: len(x), reverse=True)\\n\\ncrime = []\\ncrime = sorted(list(set(crime)), key=lambda x: len(x), reverse=True)\\n\\nevent_record_other = [\\\"in , student, missing since declared legally dead on this date\\\"]\\nevent_record_other = sorted(\\n    list(set(event_record_other)), key=lambda x: len(x), reverse=True\\n)\\n\\nother_species = []\\nother_species = sorted(list(set(other_species)), key=lambda x: len(x), reverse=True)\\n\\ncause_of_death = []\\ncause_of_death = sorted(list(set(cause_of_death)), key=lambda x: len(x), reverse=True)\";\n",
       "                var nbb_cells = Jupyter.notebook.get_cells();\n",
       "                for (var i = 0; i < nbb_cells.length; ++i) {\n",
       "                    if (nbb_cells[i].input_prompt_number == nbb_cell_id) {\n",
       "                        if (nbb_cells[i].get_text() == nbb_unformatted_code) {\n",
       "                             nbb_cells[i].set_text(nbb_formatted_code);\n",
       "                        }\n",
       "                        break;\n",
       "                    }\n",
       "                }\n",
       "            }, 500);\n",
       "            "
      ],
      "text/plain": [
       "<IPython.core.display.Javascript object>"
      ]
     },
     "metadata": {},
     "output_type": "display_data"
    }
   ],
   "source": [
    "# Creating lists for each category and sorting by decreasing length and removing duplicates\n",
    "\n",
    "politics_govt_law = [\"and courier Mahatma Gandhi\"]\n",
    "politics_govt_law = sorted(\n",
    "    list(set(politics_govt_law)), key=lambda x: len(x), reverse=True\n",
    ")\n",
    "\n",
    "arts = [\"née Eva Narcissus Boyd, , pop singer\"]\n",
    "arts = sorted(list(set(arts)), key=lambda x: len(x), reverse=True)\n",
    "\n",
    "sports = [\"professional wrestler\", \"wrestler\"]\n",
    "sports = sorted(list(set(sports)), key=lambda x: len(x), reverse=True)\n",
    "\n",
    "sciences = []\n",
    "sciences = sorted(list(set(sciences)), key=lambda x: len(x), reverse=True)\n",
    "\n",
    "business_farming = []\n",
    "business_farming = sorted(\n",
    "    list(set(business_farming)), key=lambda x: len(x), reverse=True\n",
    ")\n",
    "\n",
    "academia_humanities = [\"scholar\"]\n",
    "academia_humanities = sorted(\n",
    "    list(set(academia_humanities)), key=lambda x: len(x), reverse=True\n",
    ")\n",
    "\n",
    "law_enf_military_operator = []\n",
    "law_enf_military_operator = sorted(\n",
    "    list(set(law_enf_military_operator)), key=lambda x: len(x), reverse=True\n",
    ")\n",
    "\n",
    "spiritual = [\"claimed,  Vedic\", \"spiritual teacher\"]\n",
    "spiritual = sorted(list(set(spiritual)), key=lambda x: len(x), reverse=True)\n",
    "\n",
    "social = []\n",
    "social = sorted(list(set(social)), key=lambda x: len(x), reverse=True)\n",
    "\n",
    "crime = []\n",
    "crime = sorted(list(set(crime)), key=lambda x: len(x), reverse=True)\n",
    "\n",
    "event_record_other = [\"in , student, missing since declared legally dead on this date\"]\n",
    "event_record_other = sorted(\n",
    "    list(set(event_record_other)), key=lambda x: len(x), reverse=True\n",
    ")\n",
    "\n",
    "other_species = []\n",
    "other_species = sorted(list(set(other_species)), key=lambda x: len(x), reverse=True)\n",
    "\n",
    "cause_of_death = []\n",
    "cause_of_death = sorted(list(set(cause_of_death)), key=lambda x: len(x), reverse=True)"
   ]
  },
  {
   "cell_type": "code",
   "execution_count": 13,
   "id": "ce9ee11e",
   "metadata": {},
   "outputs": [
    {
     "data": {
      "application/javascript": [
       "\n",
       "            setTimeout(function() {\n",
       "                var nbb_cell_id = 13;\n",
       "                var nbb_unformatted_code = \"# Hard-coding info_parenth for entry lacking known_for values\\ndf.loc[\\n    df[df[\\\"link\\\"] == \\\"https://en.wikipedia.org/wiki/Chandra_Khonnokyoong\\\"].index,\\n    \\\"info_parenth\\\",\\n] = \\\"spiritual teacher\\\"\\n\\n\\n# Hard-coding info_parenth for entry lacking known_for values\\ndf.loc[\\n    df[df[\\\"link\\\"] == \\\"https://en.wikipedia.org/wiki/Kung_Fu_(wrestler)\\\"].index,\\n    \\\"info_parenth\\\",\\n] = \\\"wrestler\\\"\";\n",
       "                var nbb_formatted_code = \"# Hard-coding info_parenth for entry lacking known_for values\\ndf.loc[\\n    df[df[\\\"link\\\"] == \\\"https://en.wikipedia.org/wiki/Chandra_Khonnokyoong\\\"].index,\\n    \\\"info_parenth\\\",\\n] = \\\"spiritual teacher\\\"\\n\\n\\n# Hard-coding info_parenth for entry lacking known_for values\\ndf.loc[\\n    df[df[\\\"link\\\"] == \\\"https://en.wikipedia.org/wiki/Kung_Fu_(wrestler)\\\"].index,\\n    \\\"info_parenth\\\",\\n] = \\\"wrestler\\\"\";\n",
       "                var nbb_cells = Jupyter.notebook.get_cells();\n",
       "                for (var i = 0; i < nbb_cells.length; ++i) {\n",
       "                    if (nbb_cells[i].input_prompt_number == nbb_cell_id) {\n",
       "                        if (nbb_cells[i].get_text() == nbb_unformatted_code) {\n",
       "                             nbb_cells[i].set_text(nbb_formatted_code);\n",
       "                        }\n",
       "                        break;\n",
       "                    }\n",
       "                }\n",
       "            }, 500);\n",
       "            "
      ],
      "text/plain": [
       "<IPython.core.display.Javascript object>"
      ]
     },
     "metadata": {},
     "output_type": "display_data"
    }
   ],
   "source": [
    "# Hard-coding info_parenth for entry lacking known_for values\n",
    "df.loc[\n",
    "    df[df[\"link\"] == \"https://en.wikipedia.org/wiki/Chandra_Khonnokyoong\"].index,\n",
    "    \"info_parenth\",\n",
    "] = \"spiritual teacher\"\n",
    "\n",
    "\n",
    "# Hard-coding info_parenth for entry lacking known_for values\n",
    "df.loc[\n",
    "    df[df[\"link\"] == \"https://en.wikipedia.org/wiki/Kung_Fu_(wrestler)\"].index,\n",
    "    \"info_parenth\",\n",
    "] = \"wrestler\""
   ]
  },
  {
   "cell_type": "markdown",
   "id": "19e0f93c",
   "metadata": {},
   "source": [
    "#### Creating `known_for_dict` Dictionary of Category Keys and Specific Role Lists of Values"
   ]
  },
  {
   "cell_type": "code",
   "execution_count": 14,
   "id": "62805084",
   "metadata": {},
   "outputs": [
    {
     "data": {
      "application/javascript": [
       "\n",
       "            setTimeout(function() {\n",
       "                var nbb_cell_id = 14;\n",
       "                var nbb_unformatted_code = \"# Combining separate lists into one dictionary\\nknown_for_dict = {\\n    \\\"social\\\": social,\\n    \\\"spiritual\\\": spiritual,\\n    \\\"academia_humanities\\\": academia_humanities,\\n    \\\"business_farming\\\": business_farming,\\n    \\\"sciences\\\": sciences,\\n    \\\"politics_govt_law\\\": politics_govt_law,\\n    \\\"law_enf_military_operator\\\": law_enf_military_operator,\\n    \\\"crime\\\": crime,\\n    \\\"event_record_other\\\": event_record_other,\\n    \\\"other_species\\\": other_species,\\n    \\\"arts\\\": arts,\\n    \\\"sports\\\": sports,\\n}\";\n",
       "                var nbb_formatted_code = \"# Combining separate lists into one dictionary\\nknown_for_dict = {\\n    \\\"social\\\": social,\\n    \\\"spiritual\\\": spiritual,\\n    \\\"academia_humanities\\\": academia_humanities,\\n    \\\"business_farming\\\": business_farming,\\n    \\\"sciences\\\": sciences,\\n    \\\"politics_govt_law\\\": politics_govt_law,\\n    \\\"law_enf_military_operator\\\": law_enf_military_operator,\\n    \\\"crime\\\": crime,\\n    \\\"event_record_other\\\": event_record_other,\\n    \\\"other_species\\\": other_species,\\n    \\\"arts\\\": arts,\\n    \\\"sports\\\": sports,\\n}\";\n",
       "                var nbb_cells = Jupyter.notebook.get_cells();\n",
       "                for (var i = 0; i < nbb_cells.length; ++i) {\n",
       "                    if (nbb_cells[i].input_prompt_number == nbb_cell_id) {\n",
       "                        if (nbb_cells[i].get_text() == nbb_unformatted_code) {\n",
       "                             nbb_cells[i].set_text(nbb_formatted_code);\n",
       "                        }\n",
       "                        break;\n",
       "                    }\n",
       "                }\n",
       "            }, 500);\n",
       "            "
      ],
      "text/plain": [
       "<IPython.core.display.Javascript object>"
      ]
     },
     "metadata": {},
     "output_type": "display_data"
    }
   ],
   "source": [
    "# Combining separate lists into one dictionary\n",
    "known_for_dict = {\n",
    "    \"social\": social,\n",
    "    \"spiritual\": spiritual,\n",
    "    \"academia_humanities\": academia_humanities,\n",
    "    \"business_farming\": business_farming,\n",
    "    \"sciences\": sciences,\n",
    "    \"politics_govt_law\": politics_govt_law,\n",
    "    \"law_enf_military_operator\": law_enf_military_operator,\n",
    "    \"crime\": crime,\n",
    "    \"event_record_other\": event_record_other,\n",
    "    \"other_species\": other_species,\n",
    "    \"arts\": arts,\n",
    "    \"sports\": sports,\n",
    "}"
   ]
  },
  {
   "cell_type": "markdown",
   "id": "2300bb48",
   "metadata": {},
   "source": [
    "#### Extracting `known_for` Categories Values from `info_parenth` for Entries without a Category"
   ]
  },
  {
   "cell_type": "code",
   "execution_count": 15,
   "id": "b735dd04",
   "metadata": {},
   "outputs": [
    {
     "name": "stdout",
     "output_type": "stream",
     "text": [
      "CPU times: total: 15.6 ms\n",
      "Wall time: 12 ms\n"
     ]
    },
    {
     "data": {
      "application/javascript": [
       "\n",
       "            setTimeout(function() {\n",
       "                var nbb_cell_id = 15;\n",
       "                var nbb_unformatted_code = \"%%time\\n\\n# Column to check\\ncolumn = 'info_parenth'\\n\\n# Start dataframe\\ndataframe = df[(df[column].notna()) & (df['num_categories']==0)]\\n                \\n# For loop to find role in column and extract it as category\\nfor category, category_lst in known_for_dict.items():\\n    for role in category_lst:\\n        for index in dataframe.index:\\n                item = df.loc[index, column]\\n                if item:\\n                    if role in item:\\n                        df.loc[index, category] = 1\\n                        df.loc[index, column] = item.replace(role, '').strip()\\n\\n# Calculating num_categories\\ndf[\\\"num_categories\\\"] = df[known_for_dict.keys()].sum(axis=1)\";\n",
       "                var nbb_formatted_code = \"%%time\\n\\n# Column to check\\ncolumn = 'info_parenth'\\n\\n# Start dataframe\\ndataframe = df[(df[column].notna()) & (df['num_categories']==0)]\\n                \\n# For loop to find role in column and extract it as category\\nfor category, category_lst in known_for_dict.items():\\n    for role in category_lst:\\n        for index in dataframe.index:\\n                item = df.loc[index, column]\\n                if item:\\n                    if role in item:\\n                        df.loc[index, category] = 1\\n                        df.loc[index, column] = item.replace(role, '').strip()\\n\\n# Calculating num_categories\\ndf[\\\"num_categories\\\"] = df[known_for_dict.keys()].sum(axis=1)\";\n",
       "                var nbb_cells = Jupyter.notebook.get_cells();\n",
       "                for (var i = 0; i < nbb_cells.length; ++i) {\n",
       "                    if (nbb_cells[i].input_prompt_number == nbb_cell_id) {\n",
       "                        if (nbb_cells[i].get_text() == nbb_unformatted_code) {\n",
       "                             nbb_cells[i].set_text(nbb_formatted_code);\n",
       "                        }\n",
       "                        break;\n",
       "                    }\n",
       "                }\n",
       "            }, 500);\n",
       "            "
      ],
      "text/plain": [
       "<IPython.core.display.Javascript object>"
      ]
     },
     "metadata": {},
     "output_type": "display_data"
    }
   ],
   "source": [
    "%%time\n",
    "\n",
    "# Column to check\n",
    "column = 'info_parenth'\n",
    "\n",
    "# Start dataframe\n",
    "dataframe = df[(df[column].notna()) & (df['num_categories']==0)]\n",
    "                \n",
    "# For loop to find role in column and extract it as category\n",
    "for category, category_lst in known_for_dict.items():\n",
    "    for role in category_lst:\n",
    "        for index in dataframe.index:\n",
    "                item = df.loc[index, column]\n",
    "                if item:\n",
    "                    if role in item:\n",
    "                        df.loc[index, category] = 1\n",
    "                        df.loc[index, column] = item.replace(role, '').strip()\n",
    "\n",
    "# Calculating num_categories\n",
    "df[\"num_categories\"] = df[known_for_dict.keys()].sum(axis=1)"
   ]
  },
  {
   "cell_type": "markdown",
   "id": "be0e125e",
   "metadata": {},
   "source": [
    "#### Checking Updated `num_categories` Value Counts"
   ]
  },
  {
   "cell_type": "code",
   "execution_count": 16,
   "id": "473d5fb6",
   "metadata": {},
   "outputs": [
    {
     "data": {
      "text/plain": [
       "1    84108\n",
       "2    12805\n",
       "3     1088\n",
       "4       36\n",
       "5        3\n",
       "Name: num_categories, dtype: int64"
      ]
     },
     "execution_count": 16,
     "metadata": {},
     "output_type": "execute_result"
    },
    {
     "data": {
      "application/javascript": [
       "\n",
       "            setTimeout(function() {\n",
       "                var nbb_cell_id = 16;\n",
       "                var nbb_unformatted_code = \"# Checking Updated num_categories Value Counts\\ndf[\\\"num_categories\\\"].value_counts()\";\n",
       "                var nbb_formatted_code = \"# Checking Updated num_categories Value Counts\\ndf[\\\"num_categories\\\"].value_counts()\";\n",
       "                var nbb_cells = Jupyter.notebook.get_cells();\n",
       "                for (var i = 0; i < nbb_cells.length; ++i) {\n",
       "                    if (nbb_cells[i].input_prompt_number == nbb_cell_id) {\n",
       "                        if (nbb_cells[i].get_text() == nbb_unformatted_code) {\n",
       "                             nbb_cells[i].set_text(nbb_formatted_code);\n",
       "                        }\n",
       "                        break;\n",
       "                    }\n",
       "                }\n",
       "            }, 500);\n",
       "            "
      ],
      "text/plain": [
       "<IPython.core.display.Javascript object>"
      ]
     },
     "metadata": {},
     "output_type": "display_data"
    }
   ],
   "source": [
    "# Checking Updated num_categories Value Counts\n",
    "df[\"num_categories\"].value_counts()"
   ]
  },
  {
   "cell_type": "markdown",
   "id": "e3f042c6",
   "metadata": {},
   "source": [
    "#### Observations:\n",
    "- All entries now have at least one `known_for` category.\n",
    "- Next, we will proceed to examine the values in `cause_of_death` to potentially guide finding that information in `info_parenth` for entries that lack a value for it."
   ]
  },
  {
   "cell_type": "markdown",
   "id": "b880c159",
   "metadata": {},
   "source": [
    "### Searching for Remaining `cause_of_death` Values in `info_parenth`"
   ]
  },
  {
   "cell_type": "code",
   "execution_count": 17,
   "id": "d570a792",
   "metadata": {},
   "outputs": [
    {
     "data": {
      "application/javascript": [
       "\n",
       "            setTimeout(function() {\n",
       "                var nbb_cell_id = 17;\n",
       "                var nbb_unformatted_code = \"# # Creating list of cause_of_death values\\n# cause_list = df[\\\"cause_of_death\\\"].value_counts(ascending=True).index.tolist()\";\n",
       "                var nbb_formatted_code = \"# # Creating list of cause_of_death values\\n# cause_list = df[\\\"cause_of_death\\\"].value_counts(ascending=True).index.tolist()\";\n",
       "                var nbb_cells = Jupyter.notebook.get_cells();\n",
       "                for (var i = 0; i < nbb_cells.length; ++i) {\n",
       "                    if (nbb_cells[i].input_prompt_number == nbb_cell_id) {\n",
       "                        if (nbb_cells[i].get_text() == nbb_unformatted_code) {\n",
       "                             nbb_cells[i].set_text(nbb_formatted_code);\n",
       "                        }\n",
       "                        break;\n",
       "                    }\n",
       "                }\n",
       "            }, 500);\n",
       "            "
      ],
      "text/plain": [
       "<IPython.core.display.Javascript object>"
      ]
     },
     "metadata": {},
     "output_type": "display_data"
    }
   ],
   "source": [
    "# # Creating list of cause_of_death values\n",
    "# cause_list = df[\"cause_of_death\"].value_counts(ascending=True).index.tolist()"
   ]
  },
  {
   "cell_type": "code",
   "execution_count": 18,
   "id": "35704867",
   "metadata": {},
   "outputs": [
    {
     "data": {
      "application/javascript": [
       "\n",
       "            setTimeout(function() {\n",
       "                var nbb_cell_id = 18;\n",
       "                var nbb_unformatted_code = \"# # Updating cause_list to contain only causes that are in info_parenth values\\n# cause_list = [\\n#     item\\n#     for item in cause_list\\n#     if any(\\n#         item in value\\n#         for value in df[df[\\\"info_parenth\\\"].notna()][\\\"info_parenth\\\"]\\n#     )\\n# ]\";\n",
       "                var nbb_formatted_code = \"# # Updating cause_list to contain only causes that are in info_parenth values\\n# cause_list = [\\n#     item\\n#     for item in cause_list\\n#     if any(\\n#         item in value\\n#         for value in df[df[\\\"info_parenth\\\"].notna()][\\\"info_parenth\\\"]\\n#     )\\n# ]\";\n",
       "                var nbb_cells = Jupyter.notebook.get_cells();\n",
       "                for (var i = 0; i < nbb_cells.length; ++i) {\n",
       "                    if (nbb_cells[i].input_prompt_number == nbb_cell_id) {\n",
       "                        if (nbb_cells[i].get_text() == nbb_unformatted_code) {\n",
       "                             nbb_cells[i].set_text(nbb_formatted_code);\n",
       "                        }\n",
       "                        break;\n",
       "                    }\n",
       "                }\n",
       "            }, 500);\n",
       "            "
      ],
      "text/plain": [
       "<IPython.core.display.Javascript object>"
      ]
     },
     "metadata": {},
     "output_type": "display_data"
    }
   ],
   "source": [
    "# # Updating cause_list to contain only causes that are in info_parenth values\n",
    "# cause_list = [\n",
    "#     item\n",
    "#     for item in cause_list\n",
    "#     if any(\n",
    "#         item in value\n",
    "#         for value in df[df[\"info_parenth\"].notna()][\"info_parenth\"]\n",
    "#     )\n",
    "# ]"
   ]
  },
  {
   "cell_type": "code",
   "execution_count": 19,
   "id": "11cedcdc",
   "metadata": {},
   "outputs": [
    {
     "data": {
      "application/javascript": [
       "\n",
       "            setTimeout(function() {\n",
       "                var nbb_cell_id = 19;\n",
       "                var nbb_unformatted_code = \"# # Checking the cause_of_death values starting with most frequent\\n# value = cause_list.pop()\\n# value\";\n",
       "                var nbb_formatted_code = \"# # Checking the cause_of_death values starting with most frequent\\n# value = cause_list.pop()\\n# value\";\n",
       "                var nbb_cells = Jupyter.notebook.get_cells();\n",
       "                for (var i = 0; i < nbb_cells.length; ++i) {\n",
       "                    if (nbb_cells[i].input_prompt_number == nbb_cell_id) {\n",
       "                        if (nbb_cells[i].get_text() == nbb_unformatted_code) {\n",
       "                             nbb_cells[i].set_text(nbb_formatted_code);\n",
       "                        }\n",
       "                        break;\n",
       "                    }\n",
       "                }\n",
       "            }, 500);\n",
       "            "
      ],
      "text/plain": [
       "<IPython.core.display.Javascript object>"
      ]
     },
     "metadata": {},
     "output_type": "display_data"
    }
   ],
   "source": [
    "# # Checking the cause_of_death values starting with most frequent\n",
    "# value = cause_list.pop()\n",
    "# value"
   ]
  },
  {
   "cell_type": "code",
   "execution_count": 20,
   "id": "61b8c185",
   "metadata": {},
   "outputs": [
    {
     "data": {
      "application/javascript": [
       "\n",
       "            setTimeout(function() {\n",
       "                var nbb_cell_id = 20;\n",
       "                var nbb_unformatted_code = \"# # Creating list of info_parenth values that contain cause_of_death value\\n# df.loc[\\n#     [\\n#         index\\n#         for index in df[df[\\\"info_parenth\\\"].notna()].index\\n#         if value in df.loc[index, \\\"info_parenth\\\"]\\n#     ],\\n#     \\\"info_parenth\\\",\\n# ].value_counts().index.tolist()\";\n",
       "                var nbb_formatted_code = \"# # Creating list of info_parenth values that contain cause_of_death value\\n# df.loc[\\n#     [\\n#         index\\n#         for index in df[df[\\\"info_parenth\\\"].notna()].index\\n#         if value in df.loc[index, \\\"info_parenth\\\"]\\n#     ],\\n#     \\\"info_parenth\\\",\\n# ].value_counts().index.tolist()\";\n",
       "                var nbb_cells = Jupyter.notebook.get_cells();\n",
       "                for (var i = 0; i < nbb_cells.length; ++i) {\n",
       "                    if (nbb_cells[i].input_prompt_number == nbb_cell_id) {\n",
       "                        if (nbb_cells[i].get_text() == nbb_unformatted_code) {\n",
       "                             nbb_cells[i].set_text(nbb_formatted_code);\n",
       "                        }\n",
       "                        break;\n",
       "                    }\n",
       "                }\n",
       "            }, 500);\n",
       "            "
      ],
      "text/plain": [
       "<IPython.core.display.Javascript object>"
      ]
     },
     "metadata": {},
     "output_type": "display_data"
    }
   ],
   "source": [
    "# # Creating list of info_parenth values that contain cause_of_death value\n",
    "# df.loc[\n",
    "#     [\n",
    "#         index\n",
    "#         for index in df[df[\"info_parenth\"].notna()].index\n",
    "#         if value in df.loc[index, \"info_parenth\"]\n",
    "#     ],\n",
    "#     \"info_parenth\",\n",
    "# ].value_counts().index.tolist()"
   ]
  },
  {
   "cell_type": "code",
   "execution_count": 27,
   "id": "a8a7ddc7",
   "metadata": {},
   "outputs": [
    {
     "data": {
      "application/javascript": [
       "\n",
       "            setTimeout(function() {\n",
       "                var nbb_cell_id = 27;\n",
       "                var nbb_unformatted_code = \"# # Checking specific entries\\n# df[\\n#     df[\\\"info_parenth\\\"]\\n#     == \\\"1969 1974 and Foreign Affairs 1974 1982; 1982 1992, Vice Chancellor 1974 1982; 1982 1992\\\"\\n# ]\";\n",
       "                var nbb_formatted_code = \"# # Checking specific entries\\n# df[\\n#     df[\\\"info_parenth\\\"]\\n#     == \\\"1969 1974 and Foreign Affairs 1974 1982; 1982 1992, Vice Chancellor 1974 1982; 1982 1992\\\"\\n# ]\";\n",
       "                var nbb_cells = Jupyter.notebook.get_cells();\n",
       "                for (var i = 0; i < nbb_cells.length; ++i) {\n",
       "                    if (nbb_cells[i].input_prompt_number == nbb_cell_id) {\n",
       "                        if (nbb_cells[i].get_text() == nbb_unformatted_code) {\n",
       "                             nbb_cells[i].set_text(nbb_formatted_code);\n",
       "                        }\n",
       "                        break;\n",
       "                    }\n",
       "                }\n",
       "            }, 500);\n",
       "            "
      ],
      "text/plain": [
       "<IPython.core.display.Javascript object>"
      ]
     },
     "metadata": {},
     "output_type": "display_data"
    }
   ],
   "source": [
    "# # Checking specific entries\n",
    "# df[\n",
    "#     df[\"info_parenth\"]\n",
    "#     == \"1969 1974 and Foreign Affairs 1974 1982; 1982 1992, Vice Chancellor 1974 1982; 1982 1992\"\n",
    "# ]"
   ]
  },
  {
   "cell_type": "markdown",
   "id": "8b1f08ae",
   "metadata": {},
   "source": [
    "#### Creating List for `cause_of_death`"
   ]
  },
  {
   "cell_type": "code",
   "execution_count": 22,
   "id": "cece2de7",
   "metadata": {},
   "outputs": [
    {
     "data": {
      "application/javascript": [
       "\n",
       "            setTimeout(function() {\n",
       "                var nbb_cell_id = 22;\n",
       "                var nbb_unformatted_code = \"# Creating list for cause_of_death\\ncause_of_death = [\\n    \\\"cancer\\\",\\n    \\\"pancreatic cancer\\\",\\n    \\\"adrenal cancer\\\",\\n    \\\"endometrial cancer\\\",\\n    \\\"nasopharynx cancer\\\",\\n    \\\"parotid cancer\\\",\\n    \\\"prostate cancer\\\",\\n    \\\"multiple myeloma, blood cancer\\\",\\n    \\\"bowel cancer\\\",\\n    \\\"oesophageal cancer\\\",\\n    \\\"liver cancer\\\",\\n    \\\"lung cancer\\\",\\n    \\\"cancer\\\",\\n    \\\"breast cancer\\\",\\n    \\\"testicular cancer\\\",\\n    \\\"ovarian cancer\\\",\\n    \\\"peritoneal cancer\\\",\\n    \\\"heart attack\\\",\\n    \\\"COVID\\\",\\n    \\\"congestive heart failure\\\",\\n    \\\"heart failure\\\",\\n    \\\"ischemic heart failure\\\",\\n    \\\"pneumonia\\\",\\n    \\\"AIDS, pneumonia\\\",\\n    \\\"pneumonia, infarctions\\\",\\n    \\\"bronchial pneumonia\\\",\\n    \\\"stroke\\\",\\n    \\\"heat stroke\\\",\\n    \\\"shot\\\",\\n    \\\"gunshot wounds\\\",\\n    \\\"traffic collision\\\",\\n    \\\"natural causes disease\\\",\\n    \\\"natural causes\\\",\\n    \\\"suicide\\\",\\n    \\\"suspected suicide\\\",\\n    \\\"suicide by drowning\\\",\\n    \\\"suicide by hydrogen sulfide\\\",\\n    \\\"suicide by hanging\\\",\\n    \\\"Alzheimer disease\\\",\\n    \\\"leukemia\\\",\\n    \\\"Parkinson disease\\\",\\n    \\\"Parkinson\\u2019s disease\\\",\\n    \\\"Creutzfeldt Jakob disease\\\",\\n    \\\"kidney disease\\\",\\n    \\\"Pick disease\\\",\\n    \\\"heart disease\\\",\\n    \\\"car accident\\\",\\n    \\\"injuries due to a fall\\\",\\n    \\\"fall\\\",\\n    \\\"subdural hematoma, fall\\\",\\n    \\\"multiple organ failure\\\",\\n    \\\"AIDS, lymphoma\\\",\\n    \\\"Hodgkin lymphoma\\\",\\n    \\\"gastric lymphoma\\\",\\n    \\\"plane crash\\\",\\n    \\\"amyotrophic lateral sclerosis\\\",\\n    \\\"euthanized\\\",\\n    \\\"uveal melanoma\\\",\\n    \\\"emphysema\\\",\\n    \\\"pulmonary emphysema\\\",\\n    \\\"emphysema, bronchitis\\\",\\n    \\\"Lewy body dementia\\\",\\n    \\\"renal failure\\\",\\n    \\\"intracerebral hemorrhage\\\",\\n    \\\"liver failure\\\",\\n    \\\"pulmonary embolism\\\",\\n    \\\"homicide\\\",\\n    \\\"pulmonary fibrosis\\\",\\n    \\\"idiopathic pulmonary fibrosis\\\",\\n    \\\"abdominal aortic aneurysm\\\",\\n    \\\"sepsis\\\",\\n    \\\"glioblastoma multiforme\\\",\\n    \\\"Jordanian bombings\\\",\\n    \\\"accidental shooting\\\",\\n    \\\"pulmonary edema\\\",\\n    \\\"septic infection\\\",\\n    \\\"myelodysplastic syndrome\\\",\\n    \\\"locked in syndrome\\\",\\n    \\\"multiple organ dysfunction syndrome\\\",\\n    \\\"superior vena cava syndrome\\\",\\n    \\\"Marfan syndrome\\\",\\n    \\\"Guillain Barr\\u00e9 syndrome\\\",\\n    \\\"multiple sclerosis\\\",\\n    \\\"AIDS\\\",\\n    \\\"multiple organ failure\\\",\\n    \\\"pulmonary emphysema\\\",\\n    \\\"emphysema\\\",\\n    \\\"emphysema, bronchitis\\\",\\n    \\\"aortic dissection\\\",\\n    \\\"progressive supranuclear palsy\\\",\\n    \\\"Hodgkin lymphoma\\\",\\n    \\\"COPD\\\",\\n    \\\"pancreatitis\\\",\\n    \\\"cerebral haemorrhage\\\",\\n    \\\"ALS\\\",\\n    \\\"AL amyloidosis\\\",\\n    \\\"car accident\\\",\\n    \\\"accidental shooting\\\",\\n    \\\"epilepsy\\\",\\n    \\\"dilated cardiomyopathy\\\",\\n    \\\"thrombosis\\\",\\n    \\\"rheumatoid arthritis\\\",\\n    \\\"beheading\\\",\\n    \\\"leiomyosarcoma\\\",\\n    \\\"Ewing sarcoma\\\",\\n    \\\"sarcoma\\\",\\n    \\\"leptomeningeal carcinomatosis\\\",\\n    \\\"nasopharyngeal carcinoma\\\",\\n    \\\"small cell carcinoma\\\",\\n    \\\"myelodysplasia\\\",\\n    \\\"pulmonary embolism\\\",\\n    \\\"embolism\\\",\\n    \\\"suffocated\\\",\\n    \\\"cerebral haemorrhage\\\",\\n    \\\"assassination\\\",\\n    \\\"gastrointestinal hemorrhage\\\",\\n    \\\"intracerebral hemorrhage\\\",\\n    \\\"anaphylaxis\\\",\\n    \\\"progressive supranuclear palsy\\\",\\n    \\\"shelling\\\",\\n    \\\"pulmonary edema\\\",\\n    \\\"Jordanian bombings\\\",\\n    \\\"posterior cortical atrophy\\\",\\n    \\\"emphysema, bronchitis\\\",\\n    \\\"West Nile virus\\\",\\n    \\\"corticobasal degeneration\\\",\\n    \\\"heat stroke\\\",\\n    \\\"glioblastoma multiforme\\\",\\n    \\\"acute endocarditis\\\",\\n    \\\"arrhythmogenic right ventricular dysplasia\\\",\\n    \\\"alcoholism\\\",\\n    \\\"plane crash\\\",\\n    \\\"normal pressure hydrocephalus\\\",\\n    \\\"primary progressive aphasia\\\",\\n    \\\"dilated cardiomyopathy\\\",\\n    \\\"subdural haematoma\\\",\\n    \\\"arrhythmia\\\",\\n    \\\"thrombus\\\",\\n    \\\"thrombosis\\\",\\n    \\\"essential thrombocytosis\\\",\\n    \\\"thrombotic thrombocytopenic purpura\\\",\\n    \\\"vasculitis\\\",\\n    \\\"self defenestration\\\",\\n    \\\"ventricular tachycardia\\\",\\n]\\n\\n# Clearing out duplicate values and sorting in descending length order to use for extracting values\\ncause_of_death = sorted(list(set(cause_of_death)), key=lambda x: len(x), reverse=True)\";\n",
       "                var nbb_formatted_code = \"# Creating list for cause_of_death\\ncause_of_death = [\\n    \\\"cancer\\\",\\n    \\\"pancreatic cancer\\\",\\n    \\\"adrenal cancer\\\",\\n    \\\"endometrial cancer\\\",\\n    \\\"nasopharynx cancer\\\",\\n    \\\"parotid cancer\\\",\\n    \\\"prostate cancer\\\",\\n    \\\"multiple myeloma, blood cancer\\\",\\n    \\\"bowel cancer\\\",\\n    \\\"oesophageal cancer\\\",\\n    \\\"liver cancer\\\",\\n    \\\"lung cancer\\\",\\n    \\\"cancer\\\",\\n    \\\"breast cancer\\\",\\n    \\\"testicular cancer\\\",\\n    \\\"ovarian cancer\\\",\\n    \\\"peritoneal cancer\\\",\\n    \\\"heart attack\\\",\\n    \\\"COVID\\\",\\n    \\\"congestive heart failure\\\",\\n    \\\"heart failure\\\",\\n    \\\"ischemic heart failure\\\",\\n    \\\"pneumonia\\\",\\n    \\\"AIDS, pneumonia\\\",\\n    \\\"pneumonia, infarctions\\\",\\n    \\\"bronchial pneumonia\\\",\\n    \\\"stroke\\\",\\n    \\\"heat stroke\\\",\\n    \\\"shot\\\",\\n    \\\"gunshot wounds\\\",\\n    \\\"traffic collision\\\",\\n    \\\"natural causes disease\\\",\\n    \\\"natural causes\\\",\\n    \\\"suicide\\\",\\n    \\\"suspected suicide\\\",\\n    \\\"suicide by drowning\\\",\\n    \\\"suicide by hydrogen sulfide\\\",\\n    \\\"suicide by hanging\\\",\\n    \\\"Alzheimer disease\\\",\\n    \\\"leukemia\\\",\\n    \\\"Parkinson disease\\\",\\n    \\\"Parkinson\\u2019s disease\\\",\\n    \\\"Creutzfeldt Jakob disease\\\",\\n    \\\"kidney disease\\\",\\n    \\\"Pick disease\\\",\\n    \\\"heart disease\\\",\\n    \\\"car accident\\\",\\n    \\\"injuries due to a fall\\\",\\n    \\\"fall\\\",\\n    \\\"subdural hematoma, fall\\\",\\n    \\\"multiple organ failure\\\",\\n    \\\"AIDS, lymphoma\\\",\\n    \\\"Hodgkin lymphoma\\\",\\n    \\\"gastric lymphoma\\\",\\n    \\\"plane crash\\\",\\n    \\\"amyotrophic lateral sclerosis\\\",\\n    \\\"euthanized\\\",\\n    \\\"uveal melanoma\\\",\\n    \\\"emphysema\\\",\\n    \\\"pulmonary emphysema\\\",\\n    \\\"emphysema, bronchitis\\\",\\n    \\\"Lewy body dementia\\\",\\n    \\\"renal failure\\\",\\n    \\\"intracerebral hemorrhage\\\",\\n    \\\"liver failure\\\",\\n    \\\"pulmonary embolism\\\",\\n    \\\"homicide\\\",\\n    \\\"pulmonary fibrosis\\\",\\n    \\\"idiopathic pulmonary fibrosis\\\",\\n    \\\"abdominal aortic aneurysm\\\",\\n    \\\"sepsis\\\",\\n    \\\"glioblastoma multiforme\\\",\\n    \\\"Jordanian bombings\\\",\\n    \\\"accidental shooting\\\",\\n    \\\"pulmonary edema\\\",\\n    \\\"septic infection\\\",\\n    \\\"myelodysplastic syndrome\\\",\\n    \\\"locked in syndrome\\\",\\n    \\\"multiple organ dysfunction syndrome\\\",\\n    \\\"superior vena cava syndrome\\\",\\n    \\\"Marfan syndrome\\\",\\n    \\\"Guillain Barr\\u00e9 syndrome\\\",\\n    \\\"multiple sclerosis\\\",\\n    \\\"AIDS\\\",\\n    \\\"multiple organ failure\\\",\\n    \\\"pulmonary emphysema\\\",\\n    \\\"emphysema\\\",\\n    \\\"emphysema, bronchitis\\\",\\n    \\\"aortic dissection\\\",\\n    \\\"progressive supranuclear palsy\\\",\\n    \\\"Hodgkin lymphoma\\\",\\n    \\\"COPD\\\",\\n    \\\"pancreatitis\\\",\\n    \\\"cerebral haemorrhage\\\",\\n    \\\"ALS\\\",\\n    \\\"AL amyloidosis\\\",\\n    \\\"car accident\\\",\\n    \\\"accidental shooting\\\",\\n    \\\"epilepsy\\\",\\n    \\\"dilated cardiomyopathy\\\",\\n    \\\"thrombosis\\\",\\n    \\\"rheumatoid arthritis\\\",\\n    \\\"beheading\\\",\\n    \\\"leiomyosarcoma\\\",\\n    \\\"Ewing sarcoma\\\",\\n    \\\"sarcoma\\\",\\n    \\\"leptomeningeal carcinomatosis\\\",\\n    \\\"nasopharyngeal carcinoma\\\",\\n    \\\"small cell carcinoma\\\",\\n    \\\"myelodysplasia\\\",\\n    \\\"pulmonary embolism\\\",\\n    \\\"embolism\\\",\\n    \\\"suffocated\\\",\\n    \\\"cerebral haemorrhage\\\",\\n    \\\"assassination\\\",\\n    \\\"gastrointestinal hemorrhage\\\",\\n    \\\"intracerebral hemorrhage\\\",\\n    \\\"anaphylaxis\\\",\\n    \\\"progressive supranuclear palsy\\\",\\n    \\\"shelling\\\",\\n    \\\"pulmonary edema\\\",\\n    \\\"Jordanian bombings\\\",\\n    \\\"posterior cortical atrophy\\\",\\n    \\\"emphysema, bronchitis\\\",\\n    \\\"West Nile virus\\\",\\n    \\\"corticobasal degeneration\\\",\\n    \\\"heat stroke\\\",\\n    \\\"glioblastoma multiforme\\\",\\n    \\\"acute endocarditis\\\",\\n    \\\"arrhythmogenic right ventricular dysplasia\\\",\\n    \\\"alcoholism\\\",\\n    \\\"plane crash\\\",\\n    \\\"normal pressure hydrocephalus\\\",\\n    \\\"primary progressive aphasia\\\",\\n    \\\"dilated cardiomyopathy\\\",\\n    \\\"subdural haematoma\\\",\\n    \\\"arrhythmia\\\",\\n    \\\"thrombus\\\",\\n    \\\"thrombosis\\\",\\n    \\\"essential thrombocytosis\\\",\\n    \\\"thrombotic thrombocytopenic purpura\\\",\\n    \\\"vasculitis\\\",\\n    \\\"self defenestration\\\",\\n    \\\"ventricular tachycardia\\\",\\n]\\n\\n# Clearing out duplicate values and sorting in descending length order to use for extracting values\\ncause_of_death = sorted(list(set(cause_of_death)), key=lambda x: len(x), reverse=True)\";\n",
       "                var nbb_cells = Jupyter.notebook.get_cells();\n",
       "                for (var i = 0; i < nbb_cells.length; ++i) {\n",
       "                    if (nbb_cells[i].input_prompt_number == nbb_cell_id) {\n",
       "                        if (nbb_cells[i].get_text() == nbb_unformatted_code) {\n",
       "                             nbb_cells[i].set_text(nbb_formatted_code);\n",
       "                        }\n",
       "                        break;\n",
       "                    }\n",
       "                }\n",
       "            }, 500);\n",
       "            "
      ],
      "text/plain": [
       "<IPython.core.display.Javascript object>"
      ]
     },
     "metadata": {},
     "output_type": "display_data"
    }
   ],
   "source": [
    "# Creating list for cause_of_death\n",
    "cause_of_death = [\n",
    "    \"cancer\",\n",
    "    \"pancreatic cancer\",\n",
    "    \"adrenal cancer\",\n",
    "    \"endometrial cancer\",\n",
    "    \"nasopharynx cancer\",\n",
    "    \"parotid cancer\",\n",
    "    \"prostate cancer\",\n",
    "    \"multiple myeloma, blood cancer\",\n",
    "    \"bowel cancer\",\n",
    "    \"oesophageal cancer\",\n",
    "    \"liver cancer\",\n",
    "    \"lung cancer\",\n",
    "    \"cancer\",\n",
    "    \"breast cancer\",\n",
    "    \"testicular cancer\",\n",
    "    \"ovarian cancer\",\n",
    "    \"peritoneal cancer\",\n",
    "    \"heart attack\",\n",
    "    \"COVID\",\n",
    "    \"congestive heart failure\",\n",
    "    \"heart failure\",\n",
    "    \"ischemic heart failure\",\n",
    "    \"pneumonia\",\n",
    "    \"AIDS, pneumonia\",\n",
    "    \"pneumonia, infarctions\",\n",
    "    \"bronchial pneumonia\",\n",
    "    \"stroke\",\n",
    "    \"heat stroke\",\n",
    "    \"shot\",\n",
    "    \"gunshot wounds\",\n",
    "    \"traffic collision\",\n",
    "    \"natural causes disease\",\n",
    "    \"natural causes\",\n",
    "    \"suicide\",\n",
    "    \"suspected suicide\",\n",
    "    \"suicide by drowning\",\n",
    "    \"suicide by hydrogen sulfide\",\n",
    "    \"suicide by hanging\",\n",
    "    \"Alzheimer disease\",\n",
    "    \"leukemia\",\n",
    "    \"Parkinson disease\",\n",
    "    \"Parkinson’s disease\",\n",
    "    \"Creutzfeldt Jakob disease\",\n",
    "    \"kidney disease\",\n",
    "    \"Pick disease\",\n",
    "    \"heart disease\",\n",
    "    \"car accident\",\n",
    "    \"injuries due to a fall\",\n",
    "    \"fall\",\n",
    "    \"subdural hematoma, fall\",\n",
    "    \"multiple organ failure\",\n",
    "    \"AIDS, lymphoma\",\n",
    "    \"Hodgkin lymphoma\",\n",
    "    \"gastric lymphoma\",\n",
    "    \"plane crash\",\n",
    "    \"amyotrophic lateral sclerosis\",\n",
    "    \"euthanized\",\n",
    "    \"uveal melanoma\",\n",
    "    \"emphysema\",\n",
    "    \"pulmonary emphysema\",\n",
    "    \"emphysema, bronchitis\",\n",
    "    \"Lewy body dementia\",\n",
    "    \"renal failure\",\n",
    "    \"intracerebral hemorrhage\",\n",
    "    \"liver failure\",\n",
    "    \"pulmonary embolism\",\n",
    "    \"homicide\",\n",
    "    \"pulmonary fibrosis\",\n",
    "    \"idiopathic pulmonary fibrosis\",\n",
    "    \"abdominal aortic aneurysm\",\n",
    "    \"sepsis\",\n",
    "    \"glioblastoma multiforme\",\n",
    "    \"Jordanian bombings\",\n",
    "    \"accidental shooting\",\n",
    "    \"pulmonary edema\",\n",
    "    \"septic infection\",\n",
    "    \"myelodysplastic syndrome\",\n",
    "    \"locked in syndrome\",\n",
    "    \"multiple organ dysfunction syndrome\",\n",
    "    \"superior vena cava syndrome\",\n",
    "    \"Marfan syndrome\",\n",
    "    \"Guillain Barré syndrome\",\n",
    "    \"multiple sclerosis\",\n",
    "    \"AIDS\",\n",
    "    \"multiple organ failure\",\n",
    "    \"pulmonary emphysema\",\n",
    "    \"emphysema\",\n",
    "    \"emphysema, bronchitis\",\n",
    "    \"aortic dissection\",\n",
    "    \"progressive supranuclear palsy\",\n",
    "    \"Hodgkin lymphoma\",\n",
    "    \"COPD\",\n",
    "    \"pancreatitis\",\n",
    "    \"cerebral haemorrhage\",\n",
    "    \"ALS\",\n",
    "    \"AL amyloidosis\",\n",
    "    \"car accident\",\n",
    "    \"accidental shooting\",\n",
    "    \"epilepsy\",\n",
    "    \"dilated cardiomyopathy\",\n",
    "    \"thrombosis\",\n",
    "    \"rheumatoid arthritis\",\n",
    "    \"beheading\",\n",
    "    \"leiomyosarcoma\",\n",
    "    \"Ewing sarcoma\",\n",
    "    \"sarcoma\",\n",
    "    \"leptomeningeal carcinomatosis\",\n",
    "    \"nasopharyngeal carcinoma\",\n",
    "    \"small cell carcinoma\",\n",
    "    \"myelodysplasia\",\n",
    "    \"pulmonary embolism\",\n",
    "    \"embolism\",\n",
    "    \"suffocated\",\n",
    "    \"cerebral haemorrhage\",\n",
    "    \"assassination\",\n",
    "    \"gastrointestinal hemorrhage\",\n",
    "    \"intracerebral hemorrhage\",\n",
    "    \"anaphylaxis\",\n",
    "    \"progressive supranuclear palsy\",\n",
    "    \"shelling\",\n",
    "    \"pulmonary edema\",\n",
    "    \"Jordanian bombings\",\n",
    "    \"posterior cortical atrophy\",\n",
    "    \"emphysema, bronchitis\",\n",
    "    \"West Nile virus\",\n",
    "    \"corticobasal degeneration\",\n",
    "    \"heat stroke\",\n",
    "    \"glioblastoma multiforme\",\n",
    "    \"acute endocarditis\",\n",
    "    \"arrhythmogenic right ventricular dysplasia\",\n",
    "    \"alcoholism\",\n",
    "    \"plane crash\",\n",
    "    \"normal pressure hydrocephalus\",\n",
    "    \"primary progressive aphasia\",\n",
    "    \"dilated cardiomyopathy\",\n",
    "    \"subdural haematoma\",\n",
    "    \"arrhythmia\",\n",
    "    \"thrombus\",\n",
    "    \"thrombosis\",\n",
    "    \"essential thrombocytosis\",\n",
    "    \"thrombotic thrombocytopenic purpura\",\n",
    "    \"vasculitis\",\n",
    "    \"self defenestration\",\n",
    "    \"ventricular tachycardia\",\n",
    "]\n",
    "\n",
    "# Clearing out duplicate values and sorting in descending length order to use for extracting values\n",
    "cause_of_death = sorted(list(set(cause_of_death)), key=lambda x: len(x), reverse=True)"
   ]
  },
  {
   "cell_type": "code",
   "execution_count": 23,
   "id": "ea62bba8",
   "metadata": {},
   "outputs": [
    {
     "data": {
      "application/javascript": [
       "\n",
       "            setTimeout(function() {\n",
       "                var nbb_cell_id = 23;\n",
       "                var nbb_unformatted_code = \"# Dropping info_parenth value for entries to avoid incorrect cause_of_death\\ndf.loc[\\n    [\\n        index\\n        for index in df[df[\\\"info_parenth\\\"].notna()].index\\n        if \\\"breaststroke\\\" in df.loc[index, \\\"info_parenth\\\"]\\n        or \\\"backstroke\\\" in df.loc[index, \\\"info_parenth\\\"]\\n    ],\\n    \\\"info_parenth\\\",\\n] = \\\"\\\"\\n\\n# Dropping info_parenth value for entries to avoid incorrect cause_of_death\\ndf.loc[\\n    [\\n        index\\n        for index in df[df[\\\"info_parenth\\\"].notna()].index\\n        if \\\"shot put\\\" in df.loc[index, \\\"info_parenth\\\"]\\n        or \\\"Aldershot\\\" in df.loc[index, \\\"info_parenth\\\"]\\n    ],\\n    \\\"info_parenth\\\",\\n] = \\\"\\\"\\n\\n# Dropping info_parent_copy value for entry to avoid incorrect cause_of_death\\ndf.loc[df[df[\\\"info_parenth\\\"] == \\\"fallout shelter sign\\\"].index, \\\"info_parenth\\\"] = \\\"\\\"\\n\\n# Dropping info_parent_copy value for entry to avoid incorrect cause_of_death\\ndf.loc[\\n    df[\\n        df[\\\"info_parenth\\\"]\\n        == \\\"HIV, President of the International AIDS Society 1994 1998\\\"\\n    ].index,\\n    \\\"info_parenth\\\",\\n] = \\\"\\\"\\n\\n# Dropping info_parent_copy value for entry to avoid incorrect cause_of_death\\ndf.loc[\\n    df[df[\\\"info_parenth\\\"] == \\\"assassination of Orlando Letelier\\\"].index, \\\"info_parenth\\\",\\n] = \\\"\\\"\\n\\n# Dropping info_parenth value for entries to avoid incorrect cause_of_death\\ndf.loc[\\n    [\\n        index\\n        for index in df[df[\\\"info_parenth\\\"].notna()].index\\n        if \\\"Suicide\\\" in df.loc[index, \\\"info_parenth\\\"]\\n    ],\\n    \\\"info_parenth\\\",\\n] = \\\"\\\"\";\n",
       "                var nbb_formatted_code = \"# Dropping info_parenth value for entries to avoid incorrect cause_of_death\\ndf.loc[\\n    [\\n        index\\n        for index in df[df[\\\"info_parenth\\\"].notna()].index\\n        if \\\"breaststroke\\\" in df.loc[index, \\\"info_parenth\\\"]\\n        or \\\"backstroke\\\" in df.loc[index, \\\"info_parenth\\\"]\\n    ],\\n    \\\"info_parenth\\\",\\n] = \\\"\\\"\\n\\n# Dropping info_parenth value for entries to avoid incorrect cause_of_death\\ndf.loc[\\n    [\\n        index\\n        for index in df[df[\\\"info_parenth\\\"].notna()].index\\n        if \\\"shot put\\\" in df.loc[index, \\\"info_parenth\\\"]\\n        or \\\"Aldershot\\\" in df.loc[index, \\\"info_parenth\\\"]\\n    ],\\n    \\\"info_parenth\\\",\\n] = \\\"\\\"\\n\\n# Dropping info_parent_copy value for entry to avoid incorrect cause_of_death\\ndf.loc[df[df[\\\"info_parenth\\\"] == \\\"fallout shelter sign\\\"].index, \\\"info_parenth\\\"] = \\\"\\\"\\n\\n# Dropping info_parent_copy value for entry to avoid incorrect cause_of_death\\ndf.loc[\\n    df[\\n        df[\\\"info_parenth\\\"]\\n        == \\\"HIV, President of the International AIDS Society 1994 1998\\\"\\n    ].index,\\n    \\\"info_parenth\\\",\\n] = \\\"\\\"\\n\\n# Dropping info_parent_copy value for entry to avoid incorrect cause_of_death\\ndf.loc[\\n    df[df[\\\"info_parenth\\\"] == \\\"assassination of Orlando Letelier\\\"].index, \\\"info_parenth\\\",\\n] = \\\"\\\"\\n\\n# Dropping info_parenth value for entries to avoid incorrect cause_of_death\\ndf.loc[\\n    [\\n        index\\n        for index in df[df[\\\"info_parenth\\\"].notna()].index\\n        if \\\"Suicide\\\" in df.loc[index, \\\"info_parenth\\\"]\\n    ],\\n    \\\"info_parenth\\\",\\n] = \\\"\\\"\";\n",
       "                var nbb_cells = Jupyter.notebook.get_cells();\n",
       "                for (var i = 0; i < nbb_cells.length; ++i) {\n",
       "                    if (nbb_cells[i].input_prompt_number == nbb_cell_id) {\n",
       "                        if (nbb_cells[i].get_text() == nbb_unformatted_code) {\n",
       "                             nbb_cells[i].set_text(nbb_formatted_code);\n",
       "                        }\n",
       "                        break;\n",
       "                    }\n",
       "                }\n",
       "            }, 500);\n",
       "            "
      ],
      "text/plain": [
       "<IPython.core.display.Javascript object>"
      ]
     },
     "metadata": {},
     "output_type": "display_data"
    }
   ],
   "source": [
    "# Dropping info_parenth value for entries to avoid incorrect cause_of_death\n",
    "df.loc[\n",
    "    [\n",
    "        index\n",
    "        for index in df[df[\"info_parenth\"].notna()].index\n",
    "        if \"breaststroke\" in df.loc[index, \"info_parenth\"]\n",
    "        or \"backstroke\" in df.loc[index, \"info_parenth\"]\n",
    "    ],\n",
    "    \"info_parenth\",\n",
    "] = \"\"\n",
    "\n",
    "# Dropping info_parenth value for entries to avoid incorrect cause_of_death\n",
    "df.loc[\n",
    "    [\n",
    "        index\n",
    "        for index in df[df[\"info_parenth\"].notna()].index\n",
    "        if \"shot put\" in df.loc[index, \"info_parenth\"]\n",
    "        or \"Aldershot\" in df.loc[index, \"info_parenth\"]\n",
    "    ],\n",
    "    \"info_parenth\",\n",
    "] = \"\"\n",
    "\n",
    "# Dropping info_parent_copy value for entry to avoid incorrect cause_of_death\n",
    "df.loc[df[df[\"info_parenth\"] == \"fallout shelter sign\"].index, \"info_parenth\"] = \"\"\n",
    "\n",
    "# Dropping info_parent_copy value for entry to avoid incorrect cause_of_death\n",
    "df.loc[\n",
    "    df[\n",
    "        df[\"info_parenth\"]\n",
    "        == \"HIV, President of the International AIDS Society 1994 1998\"\n",
    "    ].index,\n",
    "    \"info_parenth\",\n",
    "] = \"\"\n",
    "\n",
    "# Dropping info_parent_copy value for entry to avoid incorrect cause_of_death\n",
    "df.loc[\n",
    "    df[df[\"info_parenth\"] == \"assassination of Orlando Letelier\"].index, \"info_parenth\",\n",
    "] = \"\"\n",
    "\n",
    "# Dropping info_parenth value for entries to avoid incorrect cause_of_death\n",
    "df.loc[\n",
    "    [\n",
    "        index\n",
    "        for index in df[df[\"info_parenth\"].notna()].index\n",
    "        if \"Suicide\" in df.loc[index, \"info_parenth\"]\n",
    "    ],\n",
    "    \"info_parenth\",\n",
    "] = \"\""
   ]
  },
  {
   "cell_type": "markdown",
   "id": "10b37372",
   "metadata": {},
   "source": [
    "#### Extracting `cause_of_death` Values from `info_parenth`"
   ]
  },
  {
   "cell_type": "code",
   "execution_count": 24,
   "id": "c8d93d36",
   "metadata": {},
   "outputs": [
    {
     "name": "stdout",
     "output_type": "stream",
     "text": [
      "There are 33461 values in cause_of_death column.\n",
      "\n",
      "CPU times: total: 27.1 s\n",
      "Wall time: 27.1 s\n"
     ]
    },
    {
     "data": {
      "application/javascript": [
       "\n",
       "            setTimeout(function() {\n",
       "                var nbb_cell_id = 24;\n",
       "                var nbb_unformatted_code = \"%%time\\n\\n# Column to search\\ncolumn = \\\"info_parenth\\\"\\n\\n# Dataframe to search\\ndataframe = df[df[column].notna()]\\n\\n# For loop to extract cause from column to cause_of_death\\nfor cause in cause_of_death:\\n    for index in dataframe.index:\\n        item = df.loc[index, column]\\n        if item:\\n            if cause in item:\\n                if df.loc[index, 'cause_of_death']:\\n                    df.loc[index, 'cause_of_death'] = df.loc[index, 'cause_of_death'] + '/' + cause\\n                    df.loc[index, column] = item.replace(cause, \\\"\\\").strip()\\n                else:\\n                    df.loc[index, \\\"cause_of_death\\\"] = cause\\n                    df.loc[index, column] = item.replace(cause, \\\"\\\").strip()\\n\\n# Checking number of cause_of_death values\\nprint(\\n    f'There are {df[\\\"cause_of_death\\\"].notna().sum()} values in cause_of_death column.\\\\n'\\n)\";\n",
       "                var nbb_formatted_code = \"%%time\\n\\n# Column to search\\ncolumn = \\\"info_parenth\\\"\\n\\n# Dataframe to search\\ndataframe = df[df[column].notna()]\\n\\n# For loop to extract cause from column to cause_of_death\\nfor cause in cause_of_death:\\n    for index in dataframe.index:\\n        item = df.loc[index, column]\\n        if item:\\n            if cause in item:\\n                if df.loc[index, 'cause_of_death']:\\n                    df.loc[index, 'cause_of_death'] = df.loc[index, 'cause_of_death'] + '/' + cause\\n                    df.loc[index, column] = item.replace(cause, \\\"\\\").strip()\\n                else:\\n                    df.loc[index, \\\"cause_of_death\\\"] = cause\\n                    df.loc[index, column] = item.replace(cause, \\\"\\\").strip()\\n\\n# Checking number of cause_of_death values\\nprint(\\n    f'There are {df[\\\"cause_of_death\\\"].notna().sum()} values in cause_of_death column.\\\\n'\\n)\";\n",
       "                var nbb_cells = Jupyter.notebook.get_cells();\n",
       "                for (var i = 0; i < nbb_cells.length; ++i) {\n",
       "                    if (nbb_cells[i].input_prompt_number == nbb_cell_id) {\n",
       "                        if (nbb_cells[i].get_text() == nbb_unformatted_code) {\n",
       "                             nbb_cells[i].set_text(nbb_formatted_code);\n",
       "                        }\n",
       "                        break;\n",
       "                    }\n",
       "                }\n",
       "            }, 500);\n",
       "            "
      ],
      "text/plain": [
       "<IPython.core.display.Javascript object>"
      ]
     },
     "metadata": {},
     "output_type": "display_data"
    }
   ],
   "source": [
    "%%time\n",
    "\n",
    "# Column to search\n",
    "column = \"info_parenth\"\n",
    "\n",
    "# Dataframe to search\n",
    "dataframe = df[df[column].notna()]\n",
    "\n",
    "# For loop to extract cause from column to cause_of_death\n",
    "for cause in cause_of_death:\n",
    "    for index in dataframe.index:\n",
    "        item = df.loc[index, column]\n",
    "        if item:\n",
    "            if cause in item:\n",
    "                if df.loc[index, 'cause_of_death']:\n",
    "                    df.loc[index, 'cause_of_death'] = df.loc[index, 'cause_of_death'] + '/' + cause\n",
    "                    df.loc[index, column] = item.replace(cause, \"\").strip()\n",
    "                else:\n",
    "                    df.loc[index, \"cause_of_death\"] = cause\n",
    "                    df.loc[index, column] = item.replace(cause, \"\").strip()\n",
    "\n",
    "# Checking number of cause_of_death values\n",
    "print(\n",
    "    f'There are {df[\"cause_of_death\"].notna().sum()} values in cause_of_death column.\\n'\n",
    ")"
   ]
  },
  {
   "cell_type": "code",
   "execution_count": 26,
   "id": "ecbe5c5d",
   "metadata": {},
   "outputs": [
    {
     "name": "stdout",
     "output_type": "stream",
     "text": [
      "dunzo!\n"
     ]
    },
    {
     "data": {
      "application/javascript": [
       "\n",
       "            setTimeout(function() {\n",
       "                var nbb_cell_id = 26;\n",
       "                var nbb_unformatted_code = \"print(\\\"dunzo!\\\")\\n\\n# Sound notification when cell executes\\nchime.success()\";\n",
       "                var nbb_formatted_code = \"print(\\\"dunzo!\\\")\\n\\n# Sound notification when cell executes\\nchime.success()\";\n",
       "                var nbb_cells = Jupyter.notebook.get_cells();\n",
       "                for (var i = 0; i < nbb_cells.length; ++i) {\n",
       "                    if (nbb_cells[i].input_prompt_number == nbb_cell_id) {\n",
       "                        if (nbb_cells[i].get_text() == nbb_unformatted_code) {\n",
       "                             nbb_cells[i].set_text(nbb_formatted_code);\n",
       "                        }\n",
       "                        break;\n",
       "                    }\n",
       "                }\n",
       "            }, 500);\n",
       "            "
      ],
      "text/plain": [
       "<IPython.core.display.Javascript object>"
      ]
     },
     "metadata": {},
     "output_type": "display_data"
    }
   ],
   "source": [
    "print(\"dunzo!\")\n",
    "\n",
    "# Sound notification when cell executes\n",
    "chime.success()"
   ]
  },
  {
   "cell_type": "code",
   "execution_count": null,
   "id": "0271a07f",
   "metadata": {},
   "outputs": [],
   "source": []
  },
  {
   "cell_type": "code",
   "execution_count": null,
   "id": "e40e3f27",
   "metadata": {},
   "outputs": [],
   "source": []
  },
  {
   "cell_type": "code",
   "execution_count": null,
   "id": "db6c3c0c",
   "metadata": {},
   "outputs": [],
   "source": []
  },
  {
   "cell_type": "code",
   "execution_count": null,
   "id": "dce22fd9",
   "metadata": {},
   "outputs": [],
   "source": []
  },
  {
   "cell_type": "code",
   "execution_count": null,
   "id": "b8609f2e",
   "metadata": {},
   "outputs": [],
   "source": []
  },
  {
   "cell_type": "code",
   "execution_count": null,
   "id": "73659ec8",
   "metadata": {},
   "outputs": [],
   "source": []
  },
  {
   "cell_type": "code",
   "execution_count": null,
   "id": "a16ff517",
   "metadata": {},
   "outputs": [],
   "source": []
  },
  {
   "cell_type": "code",
   "execution_count": null,
   "id": "8992d649",
   "metadata": {},
   "outputs": [],
   "source": []
  },
  {
   "cell_type": "markdown",
   "id": "228a408c",
   "metadata": {},
   "source": [
    "#### Verifying that Values in info_3_0 Are Exhausted"
   ]
  },
  {
   "cell_type": "code",
   "execution_count": null,
   "id": "35aa9b12",
   "metadata": {},
   "outputs": [],
   "source": [
    "# # Verifying that `info_3_0` is exhausted\n",
    "# df[\"info_3_0\"].value_counts()"
   ]
  },
  {
   "cell_type": "markdown",
   "id": "bf13f70b",
   "metadata": {},
   "source": [
    "#### Dropping info_3_0"
   ]
  },
  {
   "cell_type": "code",
   "execution_count": null,
   "id": "d250ac10",
   "metadata": {},
   "outputs": [],
   "source": [
    "# # Dropping info_3_0\n",
    "# df.drop(\"info_3_0\", axis=1, inplace=True)\n",
    "\n",
    "# # Checking sample\n",
    "# df.sample()"
   ]
  },
  {
   "cell_type": "markdown",
   "id": "0f66697e",
   "metadata": {},
   "source": [
    "#### Observations:\n",
    "- Our search of column info_3_0 is finished and have dropped that column.\n",
    "- We will now save our dataset and pick back up in a new notebook."
   ]
  },
  {
   "cell_type": "markdown",
   "id": "1113a242",
   "metadata": {},
   "source": [
    "### Exporting Dataset to SQLite Database [wp_life_expect_clean8.db]()"
   ]
  },
  {
   "cell_type": "code",
   "execution_count": null,
   "id": "6008ac61",
   "metadata": {},
   "outputs": [],
   "source": [
    "# # Exporting dataframe\n",
    "\n",
    "# # Saving dataset in a SQLite database\n",
    "# conn = sql.connect(\"wp_life_expect_clean8.db\")\n",
    "# df.to_sql(\"wp_life_expect_clean8\", conn, index=False)\n",
    "\n",
    "# # Chime notification when cell executes\n",
    "# chime.success()"
   ]
  },
  {
   "cell_type": "markdown",
   "id": "11aacfcc",
   "metadata": {},
   "source": [
    "# [Proceed to Data Cleaning Part ]()"
   ]
  }
 ],
 "metadata": {
  "kernelspec": {
   "display_name": "Python 3 (ipykernel)",
   "language": "python",
   "name": "python3"
  },
  "language_info": {
   "codemirror_mode": {
    "name": "ipython",
    "version": 3
   },
   "file_extension": ".py",
   "mimetype": "text/x-python",
   "name": "python",
   "nbconvert_exporter": "python",
   "pygments_lexer": "ipython3",
   "version": "3.9.12"
  }
 },
 "nbformat": 4,
 "nbformat_minor": 5
}
