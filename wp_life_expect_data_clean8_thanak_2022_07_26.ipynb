{
 "cells": [
  {
   "cell_type": "markdown",
   "id": "316a0779",
   "metadata": {},
   "source": [
    "# Wikipedia Notable Life Expectancies\n",
    "# [Notebook  : Data Cleaning Part 8](https://github.com/teresahanak/wikipedia-life-expectancy/blob/main/wp_life_expect_data_clean8_thanak_2022_07_26.ipynb)\n",
    "### Context\n",
    "\n",
    "The\n",
    "### Objective\n",
    "\n",
    "The\n",
    "### Data Dictionary\n",
    "- Feature: Description"
   ]
  },
  {
   "cell_type": "markdown",
   "id": "99245d51",
   "metadata": {},
   "source": [
    "### Importing Libraries"
   ]
  },
  {
   "cell_type": "code",
   "execution_count": 1,
   "id": "453bba83",
   "metadata": {},
   "outputs": [
    {
     "data": {
      "application/javascript": [
       "\n",
       "            setTimeout(function() {\n",
       "                var nbb_cell_id = 1;\n",
       "                var nbb_unformatted_code = \"# To structure code automatically\\n%load_ext nb_black\\n\\n# To import/export sqlite databases\\nimport sqlite3 as sql\\n\\n# To save/open python objects in pickle file\\nimport pickle\\n\\n# To help with reading, cleaning, and manipulating data\\nimport pandas as pd\\nimport numpy as np\\nimport re\\n\\n# To define maximum number of columns to be displayed in a dataframe\\npd.set_option(\\\"display.max_columns\\\", None)\\n# To define the maximum number of rows to be displayed in a dataframe\\npd.set_option(\\\"display.max_rows\\\", 200)\\n\\n# To supress warnings\\n# import warnings\\n\\n# warnings.filterwarnings(\\\"ignore\\\")\\n\\n# To set some visualization attributes\\npd.set_option(\\\"max_colwidth\\\", 150)\\n\\n# To play auditory cue when cell has executed, has warning, or has error and set chime theme\\nimport chime\\n\\nchime.theme(\\\"zelda\\\")\";\n",
       "                var nbb_formatted_code = \"# To structure code automatically\\n%load_ext nb_black\\n\\n# To import/export sqlite databases\\nimport sqlite3 as sql\\n\\n# To save/open python objects in pickle file\\nimport pickle\\n\\n# To help with reading, cleaning, and manipulating data\\nimport pandas as pd\\nimport numpy as np\\nimport re\\n\\n# To define maximum number of columns to be displayed in a dataframe\\npd.set_option(\\\"display.max_columns\\\", None)\\n# To define the maximum number of rows to be displayed in a dataframe\\npd.set_option(\\\"display.max_rows\\\", 200)\\n\\n# To supress warnings\\n# import warnings\\n\\n# warnings.filterwarnings(\\\"ignore\\\")\\n\\n# To set some visualization attributes\\npd.set_option(\\\"max_colwidth\\\", 150)\\n\\n# To play auditory cue when cell has executed, has warning, or has error and set chime theme\\nimport chime\\n\\nchime.theme(\\\"zelda\\\")\";\n",
       "                var nbb_cells = Jupyter.notebook.get_cells();\n",
       "                for (var i = 0; i < nbb_cells.length; ++i) {\n",
       "                    if (nbb_cells[i].input_prompt_number == nbb_cell_id) {\n",
       "                        if (nbb_cells[i].get_text() == nbb_unformatted_code) {\n",
       "                             nbb_cells[i].set_text(nbb_formatted_code);\n",
       "                        }\n",
       "                        break;\n",
       "                    }\n",
       "                }\n",
       "            }, 500);\n",
       "            "
      ],
      "text/plain": [
       "<IPython.core.display.Javascript object>"
      ]
     },
     "metadata": {},
     "output_type": "display_data"
    }
   ],
   "source": [
    "# To structure code automatically\n",
    "%load_ext nb_black\n",
    "\n",
    "# To import/export sqlite databases\n",
    "import sqlite3 as sql\n",
    "\n",
    "# To save/open python objects in pickle file\n",
    "import pickle\n",
    "\n",
    "# To help with reading, cleaning, and manipulating data\n",
    "import pandas as pd\n",
    "import numpy as np\n",
    "import re\n",
    "\n",
    "# To define maximum number of columns to be displayed in a dataframe\n",
    "pd.set_option(\"display.max_columns\", None)\n",
    "# To define the maximum number of rows to be displayed in a dataframe\n",
    "pd.set_option(\"display.max_rows\", 200)\n",
    "\n",
    "# To supress warnings\n",
    "# import warnings\n",
    "\n",
    "# warnings.filterwarnings(\"ignore\")\n",
    "\n",
    "# To set some visualization attributes\n",
    "pd.set_option(\"max_colwidth\", 150)\n",
    "\n",
    "# To play auditory cue when cell has executed, has warning, or has error and set chime theme\n",
    "import chime\n",
    "\n",
    "chime.theme(\"zelda\")"
   ]
  },
  {
   "cell_type": "markdown",
   "id": "cc818a82",
   "metadata": {},
   "source": [
    "## Data Overview"
   ]
  },
  {
   "cell_type": "markdown",
   "id": "0ed005f6",
   "metadata": {},
   "source": [
    "### [Reading](https://github.com/teresahanak/wikipedia-life-expectancy/blob/main/wp_life_expect_clean7.db), Sampling, and Checking Data Shape"
   ]
  },
  {
   "cell_type": "code",
   "execution_count": 2,
   "id": "0ca58a95",
   "metadata": {},
   "outputs": [
    {
     "name": "stdout",
     "output_type": "stream",
     "text": [
      "There are 98040 rows and 27 columns.\n"
     ]
    },
    {
     "data": {
      "text/html": [
       "<div>\n",
       "<style scoped>\n",
       "    .dataframe tbody tr th:only-of-type {\n",
       "        vertical-align: middle;\n",
       "    }\n",
       "\n",
       "    .dataframe tbody tr th {\n",
       "        vertical-align: top;\n",
       "    }\n",
       "\n",
       "    .dataframe thead th {\n",
       "        text-align: right;\n",
       "    }\n",
       "</style>\n",
       "<table border=\"1\" class=\"dataframe\">\n",
       "  <thead>\n",
       "    <tr style=\"text-align: right;\">\n",
       "      <th></th>\n",
       "      <th>day</th>\n",
       "      <th>name</th>\n",
       "      <th>info</th>\n",
       "      <th>link</th>\n",
       "      <th>num_references</th>\n",
       "      <th>year</th>\n",
       "      <th>month</th>\n",
       "      <th>info_parenth</th>\n",
       "      <th>age</th>\n",
       "      <th>cause_of_death</th>\n",
       "      <th>place_1</th>\n",
       "      <th>place_2</th>\n",
       "      <th>info_parenth_copy</th>\n",
       "      <th>log_num_references</th>\n",
       "      <th>sciences</th>\n",
       "      <th>social</th>\n",
       "      <th>spiritual</th>\n",
       "      <th>academia_humanities</th>\n",
       "      <th>business_farming</th>\n",
       "      <th>arts</th>\n",
       "      <th>sports</th>\n",
       "      <th>law_enf_military_operator</th>\n",
       "      <th>politics_govt_law</th>\n",
       "      <th>crime</th>\n",
       "      <th>event_record_other</th>\n",
       "      <th>other_species</th>\n",
       "      <th>num_categories</th>\n",
       "    </tr>\n",
       "  </thead>\n",
       "  <tbody>\n",
       "    <tr>\n",
       "      <th>0</th>\n",
       "      <td>1</td>\n",
       "      <td>William Chappell</td>\n",
       "      <td>, 86, British dancer, ballet designer and director.</td>\n",
       "      <td>https://en.wikipedia.org/wiki/William_Chappell_(dancer)</td>\n",
       "      <td>21</td>\n",
       "      <td>1994</td>\n",
       "      <td>January</td>\n",
       "      <td>None</td>\n",
       "      <td>86.0</td>\n",
       "      <td>None</td>\n",
       "      <td>United Kingdom of Great Britain and Northern Ireland</td>\n",
       "      <td>None</td>\n",
       "      <td>None</td>\n",
       "      <td>3.091042</td>\n",
       "      <td>0</td>\n",
       "      <td>0</td>\n",
       "      <td>0</td>\n",
       "      <td>0</td>\n",
       "      <td>0</td>\n",
       "      <td>1</td>\n",
       "      <td>0</td>\n",
       "      <td>0</td>\n",
       "      <td>0</td>\n",
       "      <td>0</td>\n",
       "      <td>0</td>\n",
       "      <td>0</td>\n",
       "      <td>1</td>\n",
       "    </tr>\n",
       "    <tr>\n",
       "      <th>1</th>\n",
       "      <td>1</td>\n",
       "      <td>Raymond Crotty</td>\n",
       "      <td>, 68, Irish economist, writer, and academic.</td>\n",
       "      <td>https://en.wikipedia.org/wiki/Raymond_Crotty</td>\n",
       "      <td>12</td>\n",
       "      <td>1994</td>\n",
       "      <td>January</td>\n",
       "      <td>None</td>\n",
       "      <td>68.0</td>\n",
       "      <td>None</td>\n",
       "      <td>Ireland</td>\n",
       "      <td>None</td>\n",
       "      <td>None</td>\n",
       "      <td>2.564949</td>\n",
       "      <td>0</td>\n",
       "      <td>0</td>\n",
       "      <td>0</td>\n",
       "      <td>1</td>\n",
       "      <td>0</td>\n",
       "      <td>1</td>\n",
       "      <td>0</td>\n",
       "      <td>0</td>\n",
       "      <td>1</td>\n",
       "      <td>0</td>\n",
       "      <td>0</td>\n",
       "      <td>0</td>\n",
       "      <td>3</td>\n",
       "    </tr>\n",
       "  </tbody>\n",
       "</table>\n",
       "</div>"
      ],
      "text/plain": [
       "  day              name                                                 info  \\\n",
       "0   1  William Chappell  , 86, British dancer, ballet designer and director.   \n",
       "1   1    Raymond Crotty         , 68, Irish economist, writer, and academic.   \n",
       "\n",
       "                                                      link  num_references  \\\n",
       "0  https://en.wikipedia.org/wiki/William_Chappell_(dancer)              21   \n",
       "1             https://en.wikipedia.org/wiki/Raymond_Crotty              12   \n",
       "\n",
       "   year    month info_parenth   age cause_of_death  \\\n",
       "0  1994  January         None  86.0           None   \n",
       "1  1994  January         None  68.0           None   \n",
       "\n",
       "                                                place_1 place_2  \\\n",
       "0  United Kingdom of Great Britain and Northern Ireland    None   \n",
       "1                                               Ireland    None   \n",
       "\n",
       "  info_parenth_copy  log_num_references  sciences  social  spiritual  \\\n",
       "0              None            3.091042         0       0          0   \n",
       "1              None            2.564949         0       0          0   \n",
       "\n",
       "   academia_humanities  business_farming  arts  sports  \\\n",
       "0                    0                 0     1       0   \n",
       "1                    1                 0     1       0   \n",
       "\n",
       "   law_enf_military_operator  politics_govt_law  crime  event_record_other  \\\n",
       "0                          0                  0      0                   0   \n",
       "1                          0                  1      0                   0   \n",
       "\n",
       "   other_species  num_categories  \n",
       "0              0               1  \n",
       "1              0               3  "
      ]
     },
     "execution_count": 2,
     "metadata": {},
     "output_type": "execute_result"
    },
    {
     "data": {
      "application/javascript": [
       "\n",
       "            setTimeout(function() {\n",
       "                var nbb_cell_id = 2;\n",
       "                var nbb_unformatted_code = \"# Reading the dataset\\nconn = sql.connect(\\\"wp_life_expect_clean7.db\\\")\\ndata = pd.read_sql(\\\"SELECT * FROM wp_life_expect_clean7\\\", conn)\\n\\n# Making a working copy\\ndf = data.copy()\\n\\n# Checking the shape\\nprint(f\\\"There are {df.shape[0]} rows and {df.shape[1]} columns.\\\")\\n\\n# Checking first 2 rows of the data\\ndf.head(2)\";\n",
       "                var nbb_formatted_code = \"# Reading the dataset\\nconn = sql.connect(\\\"wp_life_expect_clean7.db\\\")\\ndata = pd.read_sql(\\\"SELECT * FROM wp_life_expect_clean7\\\", conn)\\n\\n# Making a working copy\\ndf = data.copy()\\n\\n# Checking the shape\\nprint(f\\\"There are {df.shape[0]} rows and {df.shape[1]} columns.\\\")\\n\\n# Checking first 2 rows of the data\\ndf.head(2)\";\n",
       "                var nbb_cells = Jupyter.notebook.get_cells();\n",
       "                for (var i = 0; i < nbb_cells.length; ++i) {\n",
       "                    if (nbb_cells[i].input_prompt_number == nbb_cell_id) {\n",
       "                        if (nbb_cells[i].get_text() == nbb_unformatted_code) {\n",
       "                             nbb_cells[i].set_text(nbb_formatted_code);\n",
       "                        }\n",
       "                        break;\n",
       "                    }\n",
       "                }\n",
       "            }, 500);\n",
       "            "
      ],
      "text/plain": [
       "<IPython.core.display.Javascript object>"
      ]
     },
     "metadata": {},
     "output_type": "display_data"
    }
   ],
   "source": [
    "# Reading the dataset\n",
    "conn = sql.connect(\"wp_life_expect_clean7.db\")\n",
    "data = pd.read_sql(\"SELECT * FROM wp_life_expect_clean7\", conn)\n",
    "\n",
    "# Making a working copy\n",
    "df = data.copy()\n",
    "\n",
    "# Checking the shape\n",
    "print(f\"There are {df.shape[0]} rows and {df.shape[1]} columns.\")\n",
    "\n",
    "# Checking first 2 rows of the data\n",
    "df.head(2)"
   ]
  },
  {
   "cell_type": "code",
   "execution_count": 3,
   "id": "6cca416f",
   "metadata": {},
   "outputs": [
    {
     "data": {
      "text/html": [
       "<div>\n",
       "<style scoped>\n",
       "    .dataframe tbody tr th:only-of-type {\n",
       "        vertical-align: middle;\n",
       "    }\n",
       "\n",
       "    .dataframe tbody tr th {\n",
       "        vertical-align: top;\n",
       "    }\n",
       "\n",
       "    .dataframe thead th {\n",
       "        text-align: right;\n",
       "    }\n",
       "</style>\n",
       "<table border=\"1\" class=\"dataframe\">\n",
       "  <thead>\n",
       "    <tr style=\"text-align: right;\">\n",
       "      <th></th>\n",
       "      <th>day</th>\n",
       "      <th>name</th>\n",
       "      <th>info</th>\n",
       "      <th>link</th>\n",
       "      <th>num_references</th>\n",
       "      <th>year</th>\n",
       "      <th>month</th>\n",
       "      <th>info_parenth</th>\n",
       "      <th>age</th>\n",
       "      <th>cause_of_death</th>\n",
       "      <th>place_1</th>\n",
       "      <th>place_2</th>\n",
       "      <th>info_parenth_copy</th>\n",
       "      <th>log_num_references</th>\n",
       "      <th>sciences</th>\n",
       "      <th>social</th>\n",
       "      <th>spiritual</th>\n",
       "      <th>academia_humanities</th>\n",
       "      <th>business_farming</th>\n",
       "      <th>arts</th>\n",
       "      <th>sports</th>\n",
       "      <th>law_enf_military_operator</th>\n",
       "      <th>politics_govt_law</th>\n",
       "      <th>crime</th>\n",
       "      <th>event_record_other</th>\n",
       "      <th>other_species</th>\n",
       "      <th>num_categories</th>\n",
       "    </tr>\n",
       "  </thead>\n",
       "  <tbody>\n",
       "    <tr>\n",
       "      <th>98038</th>\n",
       "      <td>9</td>\n",
       "      <td>Aamir Liaquat Hussain</td>\n",
       "      <td>, 50, Pakistani journalist and politician, MNA .</td>\n",
       "      <td>https://en.wikipedia.org/wiki/Aamir_Liaquat_Hussain</td>\n",
       "      <td>99</td>\n",
       "      <td>2022</td>\n",
       "      <td>June</td>\n",
       "      <td>2002 2007, since 2018</td>\n",
       "      <td>50.0</td>\n",
       "      <td>None</td>\n",
       "      <td>Pakistan</td>\n",
       "      <td>None</td>\n",
       "      <td>, since</td>\n",
       "      <td>4.605170</td>\n",
       "      <td>0</td>\n",
       "      <td>0</td>\n",
       "      <td>0</td>\n",
       "      <td>0</td>\n",
       "      <td>0</td>\n",
       "      <td>1</td>\n",
       "      <td>0</td>\n",
       "      <td>0</td>\n",
       "      <td>1</td>\n",
       "      <td>0</td>\n",
       "      <td>0</td>\n",
       "      <td>0</td>\n",
       "      <td>2</td>\n",
       "    </tr>\n",
       "    <tr>\n",
       "      <th>98039</th>\n",
       "      <td>9</td>\n",
       "      <td>Zou Jing</td>\n",
       "      <td>, 86, Chinese engineer, member of the Chinese Academy of Engineering.</td>\n",
       "      <td>https://en.wikipedia.org/wiki/Zou_Jing_(engineer)</td>\n",
       "      <td>3</td>\n",
       "      <td>2022</td>\n",
       "      <td>June</td>\n",
       "      <td>None</td>\n",
       "      <td>86.0</td>\n",
       "      <td>None</td>\n",
       "      <td>China, People's Republic of</td>\n",
       "      <td>None</td>\n",
       "      <td>None</td>\n",
       "      <td>1.386294</td>\n",
       "      <td>1</td>\n",
       "      <td>0</td>\n",
       "      <td>0</td>\n",
       "      <td>0</td>\n",
       "      <td>0</td>\n",
       "      <td>0</td>\n",
       "      <td>0</td>\n",
       "      <td>0</td>\n",
       "      <td>0</td>\n",
       "      <td>0</td>\n",
       "      <td>0</td>\n",
       "      <td>0</td>\n",
       "      <td>1</td>\n",
       "    </tr>\n",
       "  </tbody>\n",
       "</table>\n",
       "</div>"
      ],
      "text/plain": [
       "      day                   name  \\\n",
       "98038   9  Aamir Liaquat Hussain   \n",
       "98039   9               Zou Jing   \n",
       "\n",
       "                                                                        info  \\\n",
       "98038                       , 50, Pakistani journalist and politician, MNA .   \n",
       "98039  , 86, Chinese engineer, member of the Chinese Academy of Engineering.   \n",
       "\n",
       "                                                      link  num_references  \\\n",
       "98038  https://en.wikipedia.org/wiki/Aamir_Liaquat_Hussain              99   \n",
       "98039    https://en.wikipedia.org/wiki/Zou_Jing_(engineer)               3   \n",
       "\n",
       "       year month           info_parenth   age cause_of_death  \\\n",
       "98038  2022  June  2002 2007, since 2018  50.0           None   \n",
       "98039  2022  June                   None  86.0           None   \n",
       "\n",
       "                           place_1 place_2 info_parenth_copy  \\\n",
       "98038                     Pakistan    None           , since   \n",
       "98039  China, People's Republic of    None              None   \n",
       "\n",
       "       log_num_references  sciences  social  spiritual  academia_humanities  \\\n",
       "98038            4.605170         0       0          0                    0   \n",
       "98039            1.386294         1       0          0                    0   \n",
       "\n",
       "       business_farming  arts  sports  law_enf_military_operator  \\\n",
       "98038                 0     1       0                          0   \n",
       "98039                 0     0       0                          0   \n",
       "\n",
       "       politics_govt_law  crime  event_record_other  other_species  \\\n",
       "98038                  1      0                   0              0   \n",
       "98039                  0      0                   0              0   \n",
       "\n",
       "       num_categories  \n",
       "98038               2  \n",
       "98039               1  "
      ]
     },
     "execution_count": 3,
     "metadata": {},
     "output_type": "execute_result"
    },
    {
     "data": {
      "application/javascript": [
       "\n",
       "            setTimeout(function() {\n",
       "                var nbb_cell_id = 3;\n",
       "                var nbb_unformatted_code = \"# Checking last 2 rows of the data\\ndf.tail(2)\";\n",
       "                var nbb_formatted_code = \"# Checking last 2 rows of the data\\ndf.tail(2)\";\n",
       "                var nbb_cells = Jupyter.notebook.get_cells();\n",
       "                for (var i = 0; i < nbb_cells.length; ++i) {\n",
       "                    if (nbb_cells[i].input_prompt_number == nbb_cell_id) {\n",
       "                        if (nbb_cells[i].get_text() == nbb_unformatted_code) {\n",
       "                             nbb_cells[i].set_text(nbb_formatted_code);\n",
       "                        }\n",
       "                        break;\n",
       "                    }\n",
       "                }\n",
       "            }, 500);\n",
       "            "
      ],
      "text/plain": [
       "<IPython.core.display.Javascript object>"
      ]
     },
     "metadata": {},
     "output_type": "display_data"
    }
   ],
   "source": [
    "# Checking last 2 rows of the data\n",
    "df.tail(2)"
   ]
  },
  {
   "cell_type": "code",
   "execution_count": 4,
   "id": "de6e8ee5",
   "metadata": {},
   "outputs": [
    {
     "data": {
      "text/html": [
       "<div>\n",
       "<style scoped>\n",
       "    .dataframe tbody tr th:only-of-type {\n",
       "        vertical-align: middle;\n",
       "    }\n",
       "\n",
       "    .dataframe tbody tr th {\n",
       "        vertical-align: top;\n",
       "    }\n",
       "\n",
       "    .dataframe thead th {\n",
       "        text-align: right;\n",
       "    }\n",
       "</style>\n",
       "<table border=\"1\" class=\"dataframe\">\n",
       "  <thead>\n",
       "    <tr style=\"text-align: right;\">\n",
       "      <th></th>\n",
       "      <th>day</th>\n",
       "      <th>name</th>\n",
       "      <th>info</th>\n",
       "      <th>link</th>\n",
       "      <th>num_references</th>\n",
       "      <th>year</th>\n",
       "      <th>month</th>\n",
       "      <th>info_parenth</th>\n",
       "      <th>age</th>\n",
       "      <th>cause_of_death</th>\n",
       "      <th>place_1</th>\n",
       "      <th>place_2</th>\n",
       "      <th>info_parenth_copy</th>\n",
       "      <th>log_num_references</th>\n",
       "      <th>sciences</th>\n",
       "      <th>social</th>\n",
       "      <th>spiritual</th>\n",
       "      <th>academia_humanities</th>\n",
       "      <th>business_farming</th>\n",
       "      <th>arts</th>\n",
       "      <th>sports</th>\n",
       "      <th>law_enf_military_operator</th>\n",
       "      <th>politics_govt_law</th>\n",
       "      <th>crime</th>\n",
       "      <th>event_record_other</th>\n",
       "      <th>other_species</th>\n",
       "      <th>num_categories</th>\n",
       "    </tr>\n",
       "  </thead>\n",
       "  <tbody>\n",
       "    <tr>\n",
       "      <th>69174</th>\n",
       "      <td>26</td>\n",
       "      <td>Ted Dabney</td>\n",
       "      <td>, 81, American electrical engineer, co-founder of Atari, esophageal cancer.</td>\n",
       "      <td>https://en.wikipedia.org/wiki/Ted_Dabney</td>\n",
       "      <td>11</td>\n",
       "      <td>2018</td>\n",
       "      <td>May</td>\n",
       "      <td>None</td>\n",
       "      <td>81.0</td>\n",
       "      <td>esophageal cancer</td>\n",
       "      <td>United States of America</td>\n",
       "      <td>None</td>\n",
       "      <td>None</td>\n",
       "      <td>2.484907</td>\n",
       "      <td>1</td>\n",
       "      <td>0</td>\n",
       "      <td>0</td>\n",
       "      <td>0</td>\n",
       "      <td>1</td>\n",
       "      <td>0</td>\n",
       "      <td>0</td>\n",
       "      <td>0</td>\n",
       "      <td>0</td>\n",
       "      <td>0</td>\n",
       "      <td>0</td>\n",
       "      <td>0</td>\n",
       "      <td>2</td>\n",
       "    </tr>\n",
       "    <tr>\n",
       "      <th>64607</th>\n",
       "      <td>27</td>\n",
       "      <td>Perivaldo Dantas</td>\n",
       "      <td>, 64, Brazilian footballer , pneumonia.</td>\n",
       "      <td>https://en.wikipedia.org/wiki/Perivaldo_Dantas</td>\n",
       "      <td>7</td>\n",
       "      <td>2017</td>\n",
       "      <td>July</td>\n",
       "      <td>Botafogo, São Paulo, national team</td>\n",
       "      <td>64.0</td>\n",
       "      <td>pneumonia</td>\n",
       "      <td>Brazil</td>\n",
       "      <td>None</td>\n",
       "      <td>Botafogo, São Paulo, national team</td>\n",
       "      <td>2.079442</td>\n",
       "      <td>0</td>\n",
       "      <td>0</td>\n",
       "      <td>0</td>\n",
       "      <td>0</td>\n",
       "      <td>0</td>\n",
       "      <td>0</td>\n",
       "      <td>1</td>\n",
       "      <td>0</td>\n",
       "      <td>0</td>\n",
       "      <td>0</td>\n",
       "      <td>0</td>\n",
       "      <td>0</td>\n",
       "      <td>1</td>\n",
       "    </tr>\n",
       "    <tr>\n",
       "      <th>8242</th>\n",
       "      <td>6</td>\n",
       "      <td>Mark Belanger</td>\n",
       "      <td>, 54, American baseball player, lung cancer.</td>\n",
       "      <td>https://en.wikipedia.org/wiki/Mark_Belanger</td>\n",
       "      <td>6</td>\n",
       "      <td>1998</td>\n",
       "      <td>October</td>\n",
       "      <td>None</td>\n",
       "      <td>54.0</td>\n",
       "      <td>lung cancer</td>\n",
       "      <td>United States of America</td>\n",
       "      <td>None</td>\n",
       "      <td>None</td>\n",
       "      <td>1.945910</td>\n",
       "      <td>0</td>\n",
       "      <td>0</td>\n",
       "      <td>0</td>\n",
       "      <td>0</td>\n",
       "      <td>0</td>\n",
       "      <td>0</td>\n",
       "      <td>1</td>\n",
       "      <td>0</td>\n",
       "      <td>0</td>\n",
       "      <td>0</td>\n",
       "      <td>0</td>\n",
       "      <td>0</td>\n",
       "      <td>1</td>\n",
       "    </tr>\n",
       "    <tr>\n",
       "      <th>31295</th>\n",
       "      <td>4</td>\n",
       "      <td>Freddy Kottulinsky</td>\n",
       "      <td>, 77, German-born Swedish racing driver.</td>\n",
       "      <td>https://en.wikipedia.org/wiki/Freddy_Kottulinsky</td>\n",
       "      <td>4</td>\n",
       "      <td>2010</td>\n",
       "      <td>May</td>\n",
       "      <td>None</td>\n",
       "      <td>77.0</td>\n",
       "      <td>None</td>\n",
       "      <td>Germany</td>\n",
       "      <td>Sweden</td>\n",
       "      <td>None</td>\n",
       "      <td>1.609438</td>\n",
       "      <td>0</td>\n",
       "      <td>0</td>\n",
       "      <td>0</td>\n",
       "      <td>0</td>\n",
       "      <td>0</td>\n",
       "      <td>0</td>\n",
       "      <td>1</td>\n",
       "      <td>0</td>\n",
       "      <td>0</td>\n",
       "      <td>0</td>\n",
       "      <td>0</td>\n",
       "      <td>0</td>\n",
       "      <td>1</td>\n",
       "    </tr>\n",
       "    <tr>\n",
       "      <th>9006</th>\n",
       "      <td>5</td>\n",
       "      <td>Alma Hunt</td>\n",
       "      <td>, 88, Bermudian cricketer.</td>\n",
       "      <td>https://en.wikipedia.org/wiki/Alma_Hunt</td>\n",
       "      <td>3</td>\n",
       "      <td>1999</td>\n",
       "      <td>March</td>\n",
       "      <td>None</td>\n",
       "      <td>88.0</td>\n",
       "      <td>None</td>\n",
       "      <td>Central America and the Caribbean</td>\n",
       "      <td>None</td>\n",
       "      <td>None</td>\n",
       "      <td>1.386294</td>\n",
       "      <td>0</td>\n",
       "      <td>0</td>\n",
       "      <td>0</td>\n",
       "      <td>0</td>\n",
       "      <td>0</td>\n",
       "      <td>0</td>\n",
       "      <td>1</td>\n",
       "      <td>0</td>\n",
       "      <td>0</td>\n",
       "      <td>0</td>\n",
       "      <td>0</td>\n",
       "      <td>0</td>\n",
       "      <td>1</td>\n",
       "    </tr>\n",
       "  </tbody>\n",
       "</table>\n",
       "</div>"
      ],
      "text/plain": [
       "      day                name  \\\n",
       "69174  26          Ted Dabney   \n",
       "64607  27    Perivaldo Dantas   \n",
       "8242    6       Mark Belanger   \n",
       "31295   4  Freddy Kottulinsky   \n",
       "9006    5           Alma Hunt   \n",
       "\n",
       "                                                                              info  \\\n",
       "69174  , 81, American electrical engineer, co-founder of Atari, esophageal cancer.   \n",
       "64607                                      , 64, Brazilian footballer , pneumonia.   \n",
       "8242                                  , 54, American baseball player, lung cancer.   \n",
       "31295                                     , 77, German-born Swedish racing driver.   \n",
       "9006                                                    , 88, Bermudian cricketer.   \n",
       "\n",
       "                                                   link  num_references  year  \\\n",
       "69174          https://en.wikipedia.org/wiki/Ted_Dabney              11  2018   \n",
       "64607    https://en.wikipedia.org/wiki/Perivaldo_Dantas               7  2017   \n",
       "8242        https://en.wikipedia.org/wiki/Mark_Belanger               6  1998   \n",
       "31295  https://en.wikipedia.org/wiki/Freddy_Kottulinsky               4  2010   \n",
       "9006            https://en.wikipedia.org/wiki/Alma_Hunt               3  1999   \n",
       "\n",
       "         month                        info_parenth   age     cause_of_death  \\\n",
       "69174      May                                None  81.0  esophageal cancer   \n",
       "64607     July  Botafogo, São Paulo, national team  64.0          pneumonia   \n",
       "8242   October                                None  54.0        lung cancer   \n",
       "31295      May                                None  77.0               None   \n",
       "9006     March                                None  88.0               None   \n",
       "\n",
       "                                 place_1 place_2  \\\n",
       "69174           United States of America    None   \n",
       "64607                             Brazil    None   \n",
       "8242            United States of America    None   \n",
       "31295                            Germany  Sweden   \n",
       "9006   Central America and the Caribbean    None   \n",
       "\n",
       "                        info_parenth_copy  log_num_references  sciences  \\\n",
       "69174                                None            2.484907         1   \n",
       "64607  Botafogo, São Paulo, national team            2.079442         0   \n",
       "8242                                 None            1.945910         0   \n",
       "31295                                None            1.609438         0   \n",
       "9006                                 None            1.386294         0   \n",
       "\n",
       "       social  spiritual  academia_humanities  business_farming  arts  sports  \\\n",
       "69174       0          0                    0                 1     0       0   \n",
       "64607       0          0                    0                 0     0       1   \n",
       "8242        0          0                    0                 0     0       1   \n",
       "31295       0          0                    0                 0     0       1   \n",
       "9006        0          0                    0                 0     0       1   \n",
       "\n",
       "       law_enf_military_operator  politics_govt_law  crime  \\\n",
       "69174                          0                  0      0   \n",
       "64607                          0                  0      0   \n",
       "8242                           0                  0      0   \n",
       "31295                          0                  0      0   \n",
       "9006                           0                  0      0   \n",
       "\n",
       "       event_record_other  other_species  num_categories  \n",
       "69174                   0              0               2  \n",
       "64607                   0              0               1  \n",
       "8242                    0              0               1  \n",
       "31295                   0              0               1  \n",
       "9006                    0              0               1  "
      ]
     },
     "execution_count": 4,
     "metadata": {},
     "output_type": "execute_result"
    },
    {
     "data": {
      "application/javascript": [
       "\n",
       "            setTimeout(function() {\n",
       "                var nbb_cell_id = 4;\n",
       "                var nbb_unformatted_code = \"# Checking a sample of the data\\ndf.sample(5)\";\n",
       "                var nbb_formatted_code = \"# Checking a sample of the data\\ndf.sample(5)\";\n",
       "                var nbb_cells = Jupyter.notebook.get_cells();\n",
       "                for (var i = 0; i < nbb_cells.length; ++i) {\n",
       "                    if (nbb_cells[i].input_prompt_number == nbb_cell_id) {\n",
       "                        if (nbb_cells[i].get_text() == nbb_unformatted_code) {\n",
       "                             nbb_cells[i].set_text(nbb_formatted_code);\n",
       "                        }\n",
       "                        break;\n",
       "                    }\n",
       "                }\n",
       "            }, 500);\n",
       "            "
      ],
      "text/plain": [
       "<IPython.core.display.Javascript object>"
      ]
     },
     "metadata": {},
     "output_type": "display_data"
    }
   ],
   "source": [
    "# Checking a sample of the data\n",
    "df.sample(5)"
   ]
  },
  {
   "cell_type": "markdown",
   "id": "8d5f29da",
   "metadata": {},
   "source": [
    "### Checking Data Types and Null Values"
   ]
  },
  {
   "cell_type": "code",
   "execution_count": 5,
   "id": "bf505f87",
   "metadata": {},
   "outputs": [
    {
     "name": "stdout",
     "output_type": "stream",
     "text": [
      "<class 'pandas.core.frame.DataFrame'>\n",
      "RangeIndex: 98040 entries, 0 to 98039\n",
      "Data columns (total 27 columns):\n",
      " #   Column                     Non-Null Count  Dtype  \n",
      "---  ------                     --------------  -----  \n",
      " 0   day                        98040 non-null  object \n",
      " 1   name                       98040 non-null  object \n",
      " 2   info                       98040 non-null  object \n",
      " 3   link                       98040 non-null  object \n",
      " 4   num_references             98040 non-null  int64  \n",
      " 5   year                       98040 non-null  int64  \n",
      " 6   month                      98040 non-null  object \n",
      " 7   info_parenth               36660 non-null  object \n",
      " 8   age                        98040 non-null  float64\n",
      " 9   cause_of_death             33336 non-null  object \n",
      " 10  place_1                    97887 non-null  object \n",
      " 11  place_2                    8116 non-null   object \n",
      " 12  info_parenth_copy          36660 non-null  object \n",
      " 13  log_num_references         98040 non-null  float64\n",
      " 14  sciences                   98040 non-null  int64  \n",
      " 15  social                     98040 non-null  int64  \n",
      " 16  spiritual                  98040 non-null  int64  \n",
      " 17  academia_humanities        98040 non-null  int64  \n",
      " 18  business_farming           98040 non-null  int64  \n",
      " 19  arts                       98040 non-null  int64  \n",
      " 20  sports                     98040 non-null  int64  \n",
      " 21  law_enf_military_operator  98040 non-null  int64  \n",
      " 22  politics_govt_law          98040 non-null  int64  \n",
      " 23  crime                      98040 non-null  int64  \n",
      " 24  event_record_other         98040 non-null  int64  \n",
      " 25  other_species              98040 non-null  int64  \n",
      " 26  num_categories             98040 non-null  int64  \n",
      "dtypes: float64(2), int64(15), object(10)\n",
      "memory usage: 20.2+ MB\n"
     ]
    },
    {
     "data": {
      "application/javascript": [
       "\n",
       "            setTimeout(function() {\n",
       "                var nbb_cell_id = 5;\n",
       "                var nbb_unformatted_code = \"# Checking data types and null values\\ndf.info()\";\n",
       "                var nbb_formatted_code = \"# Checking data types and null values\\ndf.info()\";\n",
       "                var nbb_cells = Jupyter.notebook.get_cells();\n",
       "                for (var i = 0; i < nbb_cells.length; ++i) {\n",
       "                    if (nbb_cells[i].input_prompt_number == nbb_cell_id) {\n",
       "                        if (nbb_cells[i].get_text() == nbb_unformatted_code) {\n",
       "                             nbb_cells[i].set_text(nbb_formatted_code);\n",
       "                        }\n",
       "                        break;\n",
       "                    }\n",
       "                }\n",
       "            }, 500);\n",
       "            "
      ],
      "text/plain": [
       "<IPython.core.display.Javascript object>"
      ]
     },
     "metadata": {},
     "output_type": "display_data"
    }
   ],
   "source": [
    "# Checking data types and null values\n",
    "df.info()"
   ]
  },
  {
   "cell_type": "markdown",
   "id": "c459d7f8",
   "metadata": {},
   "source": [
    "#### Observations:\n",
    "- With our dataset loaded, we can pick up where we left off with extracting known_for and `cause_of_death` values.\n",
    "- As all of the numbered `info_` columns have been searched and dropped, we are left with `info_parenth` (and its copy).  \n",
    "- By definition, we would expect `info_parenth` to contain non-essential values.  The column contains a lot of values, so we will begin by looking only for `known_for` information for the few entries that do not yet have a `known_for` category.\n",
    "- Then we can consider an approach to searching for any `cause_of_death` information in `info_parenth`."
   ]
  },
  {
   "cell_type": "markdown",
   "id": "5c542ec1",
   "metadata": {},
   "source": [
    "### Extracting Remaining `known_for` for Entries Still Lacking a `known_for` Category"
   ]
  },
  {
   "cell_type": "markdown",
   "id": "70ab2bf0",
   "metadata": {},
   "source": [
    "#### Checking Entries Lacking lacking `known_for` Category"
   ]
  },
  {
   "cell_type": "code",
   "execution_count": 6,
   "id": "9ea64ec6",
   "metadata": {},
   "outputs": [
    {
     "data": {
      "text/html": [
       "<div>\n",
       "<style scoped>\n",
       "    .dataframe tbody tr th:only-of-type {\n",
       "        vertical-align: middle;\n",
       "    }\n",
       "\n",
       "    .dataframe tbody tr th {\n",
       "        vertical-align: top;\n",
       "    }\n",
       "\n",
       "    .dataframe thead th {\n",
       "        text-align: right;\n",
       "    }\n",
       "</style>\n",
       "<table border=\"1\" class=\"dataframe\">\n",
       "  <thead>\n",
       "    <tr style=\"text-align: right;\">\n",
       "      <th></th>\n",
       "      <th>day</th>\n",
       "      <th>name</th>\n",
       "      <th>info</th>\n",
       "      <th>link</th>\n",
       "      <th>num_references</th>\n",
       "      <th>year</th>\n",
       "      <th>month</th>\n",
       "      <th>info_parenth</th>\n",
       "      <th>age</th>\n",
       "      <th>cause_of_death</th>\n",
       "      <th>place_1</th>\n",
       "      <th>place_2</th>\n",
       "      <th>info_parenth_copy</th>\n",
       "      <th>log_num_references</th>\n",
       "      <th>sciences</th>\n",
       "      <th>social</th>\n",
       "      <th>spiritual</th>\n",
       "      <th>academia_humanities</th>\n",
       "      <th>business_farming</th>\n",
       "      <th>arts</th>\n",
       "      <th>sports</th>\n",
       "      <th>law_enf_military_operator</th>\n",
       "      <th>politics_govt_law</th>\n",
       "      <th>crime</th>\n",
       "      <th>event_record_other</th>\n",
       "      <th>other_species</th>\n",
       "      <th>num_categories</th>\n",
       "    </tr>\n",
       "  </thead>\n",
       "  <tbody>\n",
       "    <tr>\n",
       "      <th>278</th>\n",
       "      <td>4</td>\n",
       "      <td>Aníbal</td>\n",
       "      <td>, 53, Mexican  , brain cancer.</td>\n",
       "      <td>https://en.wikipedia.org/wiki/An%C3%ADbal_(wrestler)</td>\n",
       "      <td>20</td>\n",
       "      <td>1994</td>\n",
       "      <td>March</td>\n",
       "      <td>professional wrestler</td>\n",
       "      <td>53.0</td>\n",
       "      <td>brain cancer</td>\n",
       "      <td>Mexico</td>\n",
       "      <td>None</td>\n",
       "      <td>professional wrestler</td>\n",
       "      <td>3.044522</td>\n",
       "      <td>0</td>\n",
       "      <td>0</td>\n",
       "      <td>0</td>\n",
       "      <td>0</td>\n",
       "      <td>0</td>\n",
       "      <td>0</td>\n",
       "      <td>0</td>\n",
       "      <td>0</td>\n",
       "      <td>0</td>\n",
       "      <td>0</td>\n",
       "      <td>0</td>\n",
       "      <td>0</td>\n",
       "      <td>0</td>\n",
       "    </tr>\n",
       "    <tr>\n",
       "      <th>11490</th>\n",
       "      <td>10</td>\n",
       "      <td>Chandra Khonnokyoong</td>\n",
       "      <td>, 91, Thai .</td>\n",
       "      <td>https://en.wikipedia.org/wiki/Chandra_Khonnokyoong</td>\n",
       "      <td>25</td>\n",
       "      <td>2000</td>\n",
       "      <td>September</td>\n",
       "      <td>None</td>\n",
       "      <td>91.0</td>\n",
       "      <td>None</td>\n",
       "      <td>Thailand</td>\n",
       "      <td>None</td>\n",
       "      <td>None</td>\n",
       "      <td>3.258097</td>\n",
       "      <td>0</td>\n",
       "      <td>0</td>\n",
       "      <td>0</td>\n",
       "      <td>0</td>\n",
       "      <td>0</td>\n",
       "      <td>0</td>\n",
       "      <td>0</td>\n",
       "      <td>0</td>\n",
       "      <td>0</td>\n",
       "      <td>0</td>\n",
       "      <td>0</td>\n",
       "      <td>0</td>\n",
       "      <td>0</td>\n",
       "    </tr>\n",
       "    <tr>\n",
       "      <th>12052</th>\n",
       "      <td>3</td>\n",
       "      <td>Kung Fu</td>\n",
       "      <td>, 49, Mexican , arterial hyper tension.</td>\n",
       "      <td>https://en.wikipedia.org/wiki/Kung_Fu_(wrestler)</td>\n",
       "      <td>11</td>\n",
       "      <td>2001</td>\n",
       "      <td>January</td>\n",
       "      <td>None</td>\n",
       "      <td>49.0</td>\n",
       "      <td>arterial hyper tension</td>\n",
       "      <td>Mexico</td>\n",
       "      <td>None</td>\n",
       "      <td>None</td>\n",
       "      <td>2.484907</td>\n",
       "      <td>0</td>\n",
       "      <td>0</td>\n",
       "      <td>0</td>\n",
       "      <td>0</td>\n",
       "      <td>0</td>\n",
       "      <td>0</td>\n",
       "      <td>0</td>\n",
       "      <td>0</td>\n",
       "      <td>0</td>\n",
       "      <td>0</td>\n",
       "      <td>0</td>\n",
       "      <td>0</td>\n",
       "      <td>0</td>\n",
       "    </tr>\n",
       "    <tr>\n",
       "      <th>16376</th>\n",
       "      <td>10</td>\n",
       "      <td>Little Eva</td>\n",
       "      <td>, .</td>\n",
       "      <td>https://en.wikipedia.org/wiki/Little_Eva</td>\n",
       "      <td>14</td>\n",
       "      <td>2003</td>\n",
       "      <td>April</td>\n",
       "      <td>née Eva Narcissus Boyd, ,  pop singer</td>\n",
       "      <td>59.0</td>\n",
       "      <td>None</td>\n",
       "      <td>United States of America</td>\n",
       "      <td>None</td>\n",
       "      <td>née Eva Narcissus Boyd, , pop singer</td>\n",
       "      <td>2.708050</td>\n",
       "      <td>0</td>\n",
       "      <td>0</td>\n",
       "      <td>0</td>\n",
       "      <td>0</td>\n",
       "      <td>0</td>\n",
       "      <td>0</td>\n",
       "      <td>0</td>\n",
       "      <td>0</td>\n",
       "      <td>0</td>\n",
       "      <td>0</td>\n",
       "      <td>0</td>\n",
       "      <td>0</td>\n",
       "      <td>0</td>\n",
       "    </tr>\n",
       "    <tr>\n",
       "      <th>36930</th>\n",
       "      <td>12</td>\n",
       "      <td>Natalee Holloway</td>\n",
       "      <td>, 18</td>\n",
       "      <td>https://en.wikipedia.org/wiki/Natalee_Holloway</td>\n",
       "      <td>198</td>\n",
       "      <td>2012</td>\n",
       "      <td>January</td>\n",
       "      <td>in 2005,  student, missing since 2005 declared legally dead on this date</td>\n",
       "      <td>18.0</td>\n",
       "      <td>None</td>\n",
       "      <td>United States of America</td>\n",
       "      <td>None</td>\n",
       "      <td>in , student, missing since declared legally dead on this date</td>\n",
       "      <td>5.293305</td>\n",
       "      <td>0</td>\n",
       "      <td>0</td>\n",
       "      <td>0</td>\n",
       "      <td>0</td>\n",
       "      <td>0</td>\n",
       "      <td>0</td>\n",
       "      <td>0</td>\n",
       "      <td>0</td>\n",
       "      <td>0</td>\n",
       "      <td>0</td>\n",
       "      <td>0</td>\n",
       "      <td>0</td>\n",
       "      <td>0</td>\n",
       "    </tr>\n",
       "    <tr>\n",
       "      <th>79603</th>\n",
       "      <td>27</td>\n",
       "      <td>Sudhakar Chaturvedi</td>\n",
       "      <td>, 122 .</td>\n",
       "      <td>https://en.wikipedia.org/wiki/Sudhakar_Chaturvedi</td>\n",
       "      <td>37</td>\n",
       "      <td>2020</td>\n",
       "      <td>February</td>\n",
       "      <td>claimed,  Vedic scholar and courier Mahatma Gandhi</td>\n",
       "      <td>122.0</td>\n",
       "      <td>None</td>\n",
       "      <td>India</td>\n",
       "      <td>None</td>\n",
       "      <td>claimed, Vedic scholar and courier Mahatma Gandhi</td>\n",
       "      <td>3.637586</td>\n",
       "      <td>0</td>\n",
       "      <td>0</td>\n",
       "      <td>0</td>\n",
       "      <td>0</td>\n",
       "      <td>0</td>\n",
       "      <td>0</td>\n",
       "      <td>0</td>\n",
       "      <td>0</td>\n",
       "      <td>0</td>\n",
       "      <td>0</td>\n",
       "      <td>0</td>\n",
       "      <td>0</td>\n",
       "      <td>0</td>\n",
       "    </tr>\n",
       "  </tbody>\n",
       "</table>\n",
       "</div>"
      ],
      "text/plain": [
       "      day                  name                                     info  \\\n",
       "278     4                Aníbal           , 53, Mexican  , brain cancer.   \n",
       "11490  10  Chandra Khonnokyoong                             , 91, Thai .   \n",
       "12052   3               Kung Fu  , 49, Mexican , arterial hyper tension.   \n",
       "16376  10            Little Eva                                      , .   \n",
       "36930  12      Natalee Holloway                                     , 18   \n",
       "79603  27   Sudhakar Chaturvedi                                  , 122 .   \n",
       "\n",
       "                                                       link  num_references  \\\n",
       "278    https://en.wikipedia.org/wiki/An%C3%ADbal_(wrestler)              20   \n",
       "11490    https://en.wikipedia.org/wiki/Chandra_Khonnokyoong              25   \n",
       "12052      https://en.wikipedia.org/wiki/Kung_Fu_(wrestler)              11   \n",
       "16376              https://en.wikipedia.org/wiki/Little_Eva              14   \n",
       "36930        https://en.wikipedia.org/wiki/Natalee_Holloway             198   \n",
       "79603     https://en.wikipedia.org/wiki/Sudhakar_Chaturvedi              37   \n",
       "\n",
       "       year      month  \\\n",
       "278    1994      March   \n",
       "11490  2000  September   \n",
       "12052  2001    January   \n",
       "16376  2003      April   \n",
       "36930  2012    January   \n",
       "79603  2020   February   \n",
       "\n",
       "                                                                   info_parenth  \\\n",
       "278                                                       professional wrestler   \n",
       "11490                                                                      None   \n",
       "12052                                                                      None   \n",
       "16376                                     née Eva Narcissus Boyd, ,  pop singer   \n",
       "36930  in 2005,  student, missing since 2005 declared legally dead on this date   \n",
       "79603                        claimed,  Vedic scholar and courier Mahatma Gandhi   \n",
       "\n",
       "         age          cause_of_death                   place_1 place_2  \\\n",
       "278     53.0            brain cancer                    Mexico    None   \n",
       "11490   91.0                    None                  Thailand    None   \n",
       "12052   49.0  arterial hyper tension                    Mexico    None   \n",
       "16376   59.0                    None  United States of America    None   \n",
       "36930   18.0                    None  United States of America    None   \n",
       "79603  122.0                    None                     India    None   \n",
       "\n",
       "                                                    info_parenth_copy  \\\n",
       "278                                             professional wrestler   \n",
       "11490                                                            None   \n",
       "12052                                                            None   \n",
       "16376                            née Eva Narcissus Boyd, , pop singer   \n",
       "36930  in , student, missing since declared legally dead on this date   \n",
       "79603               claimed, Vedic scholar and courier Mahatma Gandhi   \n",
       "\n",
       "       log_num_references  sciences  social  spiritual  academia_humanities  \\\n",
       "278              3.044522         0       0          0                    0   \n",
       "11490            3.258097         0       0          0                    0   \n",
       "12052            2.484907         0       0          0                    0   \n",
       "16376            2.708050         0       0          0                    0   \n",
       "36930            5.293305         0       0          0                    0   \n",
       "79603            3.637586         0       0          0                    0   \n",
       "\n",
       "       business_farming  arts  sports  law_enf_military_operator  \\\n",
       "278                   0     0       0                          0   \n",
       "11490                 0     0       0                          0   \n",
       "12052                 0     0       0                          0   \n",
       "16376                 0     0       0                          0   \n",
       "36930                 0     0       0                          0   \n",
       "79603                 0     0       0                          0   \n",
       "\n",
       "       politics_govt_law  crime  event_record_other  other_species  \\\n",
       "278                    0      0                   0              0   \n",
       "11490                  0      0                   0              0   \n",
       "12052                  0      0                   0              0   \n",
       "16376                  0      0                   0              0   \n",
       "36930                  0      0                   0              0   \n",
       "79603                  0      0                   0              0   \n",
       "\n",
       "       num_categories  \n",
       "278                 0  \n",
       "11490               0  \n",
       "12052               0  \n",
       "16376               0  \n",
       "36930               0  \n",
       "79603               0  "
      ]
     },
     "execution_count": 6,
     "metadata": {},
     "output_type": "execute_result"
    },
    {
     "data": {
      "application/javascript": [
       "\n",
       "            setTimeout(function() {\n",
       "                var nbb_cell_id = 6;\n",
       "                var nbb_unformatted_code = \"# Checking entries with num_categories == 0\\ndf[df[\\\"num_categories\\\"] == 0]\";\n",
       "                var nbb_formatted_code = \"# Checking entries with num_categories == 0\\ndf[df[\\\"num_categories\\\"] == 0]\";\n",
       "                var nbb_cells = Jupyter.notebook.get_cells();\n",
       "                for (var i = 0; i < nbb_cells.length; ++i) {\n",
       "                    if (nbb_cells[i].input_prompt_number == nbb_cell_id) {\n",
       "                        if (nbb_cells[i].get_text() == nbb_unformatted_code) {\n",
       "                             nbb_cells[i].set_text(nbb_formatted_code);\n",
       "                        }\n",
       "                        break;\n",
       "                    }\n",
       "                }\n",
       "            }, 500);\n",
       "            "
      ],
      "text/plain": [
       "<IPython.core.display.Javascript object>"
      ]
     },
     "metadata": {},
     "output_type": "display_data"
    }
   ],
   "source": [
    "# Checking entries with num_categories == 0\n",
    "df[df[\"num_categories\"] == 0]"
   ]
  },
  {
   "cell_type": "markdown",
   "id": "5209943c",
   "metadata": {},
   "source": [
    "#### Observations:\n",
    "- We can see some additional information in `info_parenth` for some of the values.\n",
    "- Since we previously separated the information contained in parentheses from the original `info` column, we will maintain `info_parenth_copy` intact, and utilize `info_parenth` for any value extraction.\n",
    "- We will hard-code the missing `known_for` info for the entries lacking that information, since there are only 2, and we have the link readily available to find it or it is apparent in the link value.  "
   ]
  },
  {
   "cell_type": "markdown",
   "id": "d68c7fb4",
   "metadata": {},
   "source": [
    "#### Finding `known_for` Roles in `info_parenth_copy` for Entries Lacking any Category"
   ]
  },
  {
   "cell_type": "code",
   "execution_count": 7,
   "id": "e392e86b",
   "metadata": {},
   "outputs": [
    {
     "data": {
      "application/javascript": [
       "\n",
       "            setTimeout(function() {\n",
       "                var nbb_cell_id = 7;\n",
       "                var nbb_unformatted_code = \"# Obtaining values for column and their counts\\nroles_list = (\\n    df[df[\\\"num_categories\\\"] == 0][\\\"info_parenth_copy\\\"]\\n    .value_counts(ascending=True)\\n    .index.tolist()\\n)\";\n",
       "                var nbb_formatted_code = \"# Obtaining values for column and their counts\\nroles_list = (\\n    df[df[\\\"num_categories\\\"] == 0][\\\"info_parenth_copy\\\"]\\n    .value_counts(ascending=True)\\n    .index.tolist()\\n)\";\n",
       "                var nbb_cells = Jupyter.notebook.get_cells();\n",
       "                for (var i = 0; i < nbb_cells.length; ++i) {\n",
       "                    if (nbb_cells[i].input_prompt_number == nbb_cell_id) {\n",
       "                        if (nbb_cells[i].get_text() == nbb_unformatted_code) {\n",
       "                             nbb_cells[i].set_text(nbb_formatted_code);\n",
       "                        }\n",
       "                        break;\n",
       "                    }\n",
       "                }\n",
       "            }, 500);\n",
       "            "
      ],
      "text/plain": [
       "<IPython.core.display.Javascript object>"
      ]
     },
     "metadata": {},
     "output_type": "display_data"
    }
   ],
   "source": [
    "# Obtaining values for column and their counts\n",
    "roles_list = (\n",
    "    df[df[\"num_categories\"] == 0][\"info_parenth_copy\"]\n",
    "    .value_counts(ascending=True)\n",
    "    .index.tolist()\n",
    ")"
   ]
  },
  {
   "cell_type": "code",
   "execution_count": 8,
   "id": "19b2f85c",
   "metadata": {},
   "outputs": [
    {
     "data": {
      "text/plain": [
       "'claimed, Vedic scholar and courier Mahatma Gandhi'"
      ]
     },
     "execution_count": 8,
     "metadata": {},
     "output_type": "execute_result"
    },
    {
     "data": {
      "application/javascript": [
       "\n",
       "            setTimeout(function() {\n",
       "                var nbb_cell_id = 8;\n",
       "                var nbb_unformatted_code = \"# Code to check each value\\nvalue = roles_list.pop()\\nvalue\";\n",
       "                var nbb_formatted_code = \"# Code to check each value\\nvalue = roles_list.pop()\\nvalue\";\n",
       "                var nbb_cells = Jupyter.notebook.get_cells();\n",
       "                for (var i = 0; i < nbb_cells.length; ++i) {\n",
       "                    if (nbb_cells[i].input_prompt_number == nbb_cell_id) {\n",
       "                        if (nbb_cells[i].get_text() == nbb_unformatted_code) {\n",
       "                             nbb_cells[i].set_text(nbb_formatted_code);\n",
       "                        }\n",
       "                        break;\n",
       "                    }\n",
       "                }\n",
       "            }, 500);\n",
       "            "
      ],
      "text/plain": [
       "<IPython.core.display.Javascript object>"
      ]
     },
     "metadata": {},
     "output_type": "display_data"
    }
   ],
   "source": [
    "# Code to check each value\n",
    "value = roles_list.pop()\n",
    "value"
   ]
  },
  {
   "cell_type": "code",
   "execution_count": 9,
   "id": "0c884b32",
   "metadata": {},
   "outputs": [
    {
     "data": {
      "application/javascript": [
       "\n",
       "            setTimeout(function() {\n",
       "                var nbb_cell_id = 9;\n",
       "                var nbb_unformatted_code = \"# # Create specific_roles_cause_list for above popped value\\n# specific_roles_list = (\\n#     df.loc[\\n#         [\\n#             index\\n#             for index in df[df[\\\"info_parenth_copy\\\"].notna()].index\\n#             if value in df.loc[index, \\\"info_parenth_copy\\\"]\\n#         ],\\n#         \\\"info_parenth_copy\\\",\\n#     ]\\n#     .value_counts()\\n#     .index.tolist()\\n# )\";\n",
       "                var nbb_formatted_code = \"# # Create specific_roles_cause_list for above popped value\\n# specific_roles_list = (\\n#     df.loc[\\n#         [\\n#             index\\n#             for index in df[df[\\\"info_parenth_copy\\\"].notna()].index\\n#             if value in df.loc[index, \\\"info_parenth_copy\\\"]\\n#         ],\\n#         \\\"info_parenth_copy\\\",\\n#     ]\\n#     .value_counts()\\n#     .index.tolist()\\n# )\";\n",
       "                var nbb_cells = Jupyter.notebook.get_cells();\n",
       "                for (var i = 0; i < nbb_cells.length; ++i) {\n",
       "                    if (nbb_cells[i].input_prompt_number == nbb_cell_id) {\n",
       "                        if (nbb_cells[i].get_text() == nbb_unformatted_code) {\n",
       "                             nbb_cells[i].set_text(nbb_formatted_code);\n",
       "                        }\n",
       "                        break;\n",
       "                    }\n",
       "                }\n",
       "            }, 500);\n",
       "            "
      ],
      "text/plain": [
       "<IPython.core.display.Javascript object>"
      ]
     },
     "metadata": {},
     "output_type": "display_data"
    }
   ],
   "source": [
    "# # Create specific_roles_cause_list for above popped value\n",
    "# specific_roles_list = (\n",
    "#     df.loc[\n",
    "#         [\n",
    "#             index\n",
    "#             for index in df[df[\"info_parenth_copy\"].notna()].index\n",
    "#             if value in df.loc[index, \"info_parenth_copy\"]\n",
    "#         ],\n",
    "#         \"info_parenth_copy\",\n",
    "#     ]\n",
    "#     .value_counts()\n",
    "#     .index.tolist()\n",
    "# )"
   ]
  },
  {
   "cell_type": "code",
   "execution_count": 10,
   "id": "7550a487",
   "metadata": {},
   "outputs": [
    {
     "data": {
      "application/javascript": [
       "\n",
       "            setTimeout(function() {\n",
       "                var nbb_cell_id = 10;\n",
       "                var nbb_unformatted_code = \"# # Viewing list sorted by descending length to copy to dictionary below and screen values\\n# sorted(specific_roles_list, key=lambda x: len(x), reverse=True)\";\n",
       "                var nbb_formatted_code = \"# # Viewing list sorted by descending length to copy to dictionary below and screen values\\n# sorted(specific_roles_list, key=lambda x: len(x), reverse=True)\";\n",
       "                var nbb_cells = Jupyter.notebook.get_cells();\n",
       "                for (var i = 0; i < nbb_cells.length; ++i) {\n",
       "                    if (nbb_cells[i].input_prompt_number == nbb_cell_id) {\n",
       "                        if (nbb_cells[i].get_text() == nbb_unformatted_code) {\n",
       "                             nbb_cells[i].set_text(nbb_formatted_code);\n",
       "                        }\n",
       "                        break;\n",
       "                    }\n",
       "                }\n",
       "            }, 500);\n",
       "            "
      ],
      "text/plain": [
       "<IPython.core.display.Javascript object>"
      ]
     },
     "metadata": {},
     "output_type": "display_data"
    }
   ],
   "source": [
    "# # Viewing list sorted by descending length to copy to dictionary below and screen values\n",
    "# sorted(specific_roles_list, key=lambda x: len(x), reverse=True)"
   ]
  },
  {
   "cell_type": "code",
   "execution_count": 11,
   "id": "d2da3d72",
   "metadata": {},
   "outputs": [
    {
     "data": {
      "application/javascript": [
       "\n",
       "            setTimeout(function() {\n",
       "                var nbb_cell_id = 11;\n",
       "                var nbb_unformatted_code = \"# # Example code to quick-check a specific entry\\n# df[df[\\\"info_parenth_copy\\\"] == value]\";\n",
       "                var nbb_formatted_code = \"# # Example code to quick-check a specific entry\\n# df[df[\\\"info_parenth_copy\\\"] == value]\";\n",
       "                var nbb_cells = Jupyter.notebook.get_cells();\n",
       "                for (var i = 0; i < nbb_cells.length; ++i) {\n",
       "                    if (nbb_cells[i].input_prompt_number == nbb_cell_id) {\n",
       "                        if (nbb_cells[i].get_text() == nbb_unformatted_code) {\n",
       "                             nbb_cells[i].set_text(nbb_formatted_code);\n",
       "                        }\n",
       "                        break;\n",
       "                    }\n",
       "                }\n",
       "            }, 500);\n",
       "            "
      ],
      "text/plain": [
       "<IPython.core.display.Javascript object>"
      ]
     },
     "metadata": {},
     "output_type": "display_data"
    }
   ],
   "source": [
    "# # Example code to quick-check a specific entry\n",
    "# df[df[\"info_parenth_copy\"] == value]"
   ]
  },
  {
   "cell_type": "markdown",
   "id": "97842e56",
   "metadata": {},
   "source": [
    "#### Creating Lists for Each `known_for` Category"
   ]
  },
  {
   "cell_type": "code",
   "execution_count": 12,
   "id": "16d92bb3",
   "metadata": {},
   "outputs": [
    {
     "data": {
      "application/javascript": [
       "\n",
       "            setTimeout(function() {\n",
       "                var nbb_cell_id = 12;\n",
       "                var nbb_unformatted_code = \"# Creating lists for each category and sorting by decreasing length and removing duplicates\\n\\npolitics_govt_law = [\\\"and courier Mahatma Gandhi\\\"]\\npolitics_govt_law = sorted(\\n    list(set(politics_govt_law)), key=lambda x: len(x), reverse=True\\n)\\n\\narts = [\\\"n\\u00e9e Eva Narcissus Boyd, , pop singer\\\"]\\narts = sorted(list(set(arts)), key=lambda x: len(x), reverse=True)\\n\\nsports = [\\\"professional wrestler\\\", \\\"wrestler\\\"]\\nsports = sorted(list(set(sports)), key=lambda x: len(x), reverse=True)\\n\\nsciences = []\\nsciences = sorted(list(set(sciences)), key=lambda x: len(x), reverse=True)\\n\\nbusiness_farming = []\\nbusiness_farming = sorted(\\n    list(set(business_farming)), key=lambda x: len(x), reverse=True\\n)\\n\\nacademia_humanities = [\\\"scholar\\\"]\\nacademia_humanities = sorted(\\n    list(set(academia_humanities)), key=lambda x: len(x), reverse=True\\n)\\n\\nlaw_enf_military_operator = []\\nlaw_enf_military_operator = sorted(\\n    list(set(law_enf_military_operator)), key=lambda x: len(x), reverse=True\\n)\\n\\nspiritual = [\\\"claimed,  Vedic\\\", \\\"spiritual teacher\\\"]\\nspiritual = sorted(list(set(spiritual)), key=lambda x: len(x), reverse=True)\\n\\nsocial = []\\nsocial = sorted(list(set(social)), key=lambda x: len(x), reverse=True)\\n\\ncrime = []\\ncrime = sorted(list(set(crime)), key=lambda x: len(x), reverse=True)\\n\\nevent_record_other = [\\\"in , student, missing since declared legally dead on this date\\\"]\\nevent_record_other = sorted(\\n    list(set(event_record_other)), key=lambda x: len(x), reverse=True\\n)\\n\\nother_species = []\\nother_species = sorted(list(set(other_species)), key=lambda x: len(x), reverse=True)\\n\\ncause_of_death = []\\ncause_of_death = sorted(list(set(cause_of_death)), key=lambda x: len(x), reverse=True)\";\n",
       "                var nbb_formatted_code = \"# Creating lists for each category and sorting by decreasing length and removing duplicates\\n\\npolitics_govt_law = [\\\"and courier Mahatma Gandhi\\\"]\\npolitics_govt_law = sorted(\\n    list(set(politics_govt_law)), key=lambda x: len(x), reverse=True\\n)\\n\\narts = [\\\"n\\u00e9e Eva Narcissus Boyd, , pop singer\\\"]\\narts = sorted(list(set(arts)), key=lambda x: len(x), reverse=True)\\n\\nsports = [\\\"professional wrestler\\\", \\\"wrestler\\\"]\\nsports = sorted(list(set(sports)), key=lambda x: len(x), reverse=True)\\n\\nsciences = []\\nsciences = sorted(list(set(sciences)), key=lambda x: len(x), reverse=True)\\n\\nbusiness_farming = []\\nbusiness_farming = sorted(\\n    list(set(business_farming)), key=lambda x: len(x), reverse=True\\n)\\n\\nacademia_humanities = [\\\"scholar\\\"]\\nacademia_humanities = sorted(\\n    list(set(academia_humanities)), key=lambda x: len(x), reverse=True\\n)\\n\\nlaw_enf_military_operator = []\\nlaw_enf_military_operator = sorted(\\n    list(set(law_enf_military_operator)), key=lambda x: len(x), reverse=True\\n)\\n\\nspiritual = [\\\"claimed,  Vedic\\\", \\\"spiritual teacher\\\"]\\nspiritual = sorted(list(set(spiritual)), key=lambda x: len(x), reverse=True)\\n\\nsocial = []\\nsocial = sorted(list(set(social)), key=lambda x: len(x), reverse=True)\\n\\ncrime = []\\ncrime = sorted(list(set(crime)), key=lambda x: len(x), reverse=True)\\n\\nevent_record_other = [\\\"in , student, missing since declared legally dead on this date\\\"]\\nevent_record_other = sorted(\\n    list(set(event_record_other)), key=lambda x: len(x), reverse=True\\n)\\n\\nother_species = []\\nother_species = sorted(list(set(other_species)), key=lambda x: len(x), reverse=True)\\n\\ncause_of_death = []\\ncause_of_death = sorted(list(set(cause_of_death)), key=lambda x: len(x), reverse=True)\";\n",
       "                var nbb_cells = Jupyter.notebook.get_cells();\n",
       "                for (var i = 0; i < nbb_cells.length; ++i) {\n",
       "                    if (nbb_cells[i].input_prompt_number == nbb_cell_id) {\n",
       "                        if (nbb_cells[i].get_text() == nbb_unformatted_code) {\n",
       "                             nbb_cells[i].set_text(nbb_formatted_code);\n",
       "                        }\n",
       "                        break;\n",
       "                    }\n",
       "                }\n",
       "            }, 500);\n",
       "            "
      ],
      "text/plain": [
       "<IPython.core.display.Javascript object>"
      ]
     },
     "metadata": {},
     "output_type": "display_data"
    }
   ],
   "source": [
    "# Creating lists for each category and sorting by decreasing length and removing duplicates\n",
    "\n",
    "politics_govt_law = [\"and courier Mahatma Gandhi\"]\n",
    "politics_govt_law = sorted(\n",
    "    list(set(politics_govt_law)), key=lambda x: len(x), reverse=True\n",
    ")\n",
    "\n",
    "arts = [\"née Eva Narcissus Boyd, , pop singer\"]\n",
    "arts = sorted(list(set(arts)), key=lambda x: len(x), reverse=True)\n",
    "\n",
    "sports = [\"professional wrestler\", \"wrestler\"]\n",
    "sports = sorted(list(set(sports)), key=lambda x: len(x), reverse=True)\n",
    "\n",
    "sciences = []\n",
    "sciences = sorted(list(set(sciences)), key=lambda x: len(x), reverse=True)\n",
    "\n",
    "business_farming = []\n",
    "business_farming = sorted(\n",
    "    list(set(business_farming)), key=lambda x: len(x), reverse=True\n",
    ")\n",
    "\n",
    "academia_humanities = [\"scholar\"]\n",
    "academia_humanities = sorted(\n",
    "    list(set(academia_humanities)), key=lambda x: len(x), reverse=True\n",
    ")\n",
    "\n",
    "law_enf_military_operator = []\n",
    "law_enf_military_operator = sorted(\n",
    "    list(set(law_enf_military_operator)), key=lambda x: len(x), reverse=True\n",
    ")\n",
    "\n",
    "spiritual = [\"claimed,  Vedic\", \"spiritual teacher\"]\n",
    "spiritual = sorted(list(set(spiritual)), key=lambda x: len(x), reverse=True)\n",
    "\n",
    "social = []\n",
    "social = sorted(list(set(social)), key=lambda x: len(x), reverse=True)\n",
    "\n",
    "crime = []\n",
    "crime = sorted(list(set(crime)), key=lambda x: len(x), reverse=True)\n",
    "\n",
    "event_record_other = [\"in , student, missing since declared legally dead on this date\"]\n",
    "event_record_other = sorted(\n",
    "    list(set(event_record_other)), key=lambda x: len(x), reverse=True\n",
    ")\n",
    "\n",
    "other_species = []\n",
    "other_species = sorted(list(set(other_species)), key=lambda x: len(x), reverse=True)\n",
    "\n",
    "cause_of_death = []\n",
    "cause_of_death = sorted(list(set(cause_of_death)), key=lambda x: len(x), reverse=True)"
   ]
  },
  {
   "cell_type": "code",
   "execution_count": 13,
   "id": "ce9ee11e",
   "metadata": {},
   "outputs": [
    {
     "data": {
      "application/javascript": [
       "\n",
       "            setTimeout(function() {\n",
       "                var nbb_cell_id = 13;\n",
       "                var nbb_unformatted_code = \"# Hard-coding info_parenth_copy for entry lacking known_for values\\ndf.loc[\\n    df[df[\\\"link\\\"] == \\\"https://en.wikipedia.org/wiki/Chandra_Khonnokyoong\\\"].index,\\n    \\\"info_parenth_copy\\\",\\n] = \\\"spiritual teacher\\\"\\n\\n\\n# Hard-coding info_parenth_copy for entry lacking known_for values\\ndf.loc[\\n    df[df[\\\"link\\\"] == \\\"https://en.wikipedia.org/wiki/Kung_Fu_(wrestler)\\\"].index,\\n    \\\"info_parenth_copy\\\",\\n] = \\\"wrestler\\\"\";\n",
       "                var nbb_formatted_code = \"# Hard-coding info_parenth_copy for entry lacking known_for values\\ndf.loc[\\n    df[df[\\\"link\\\"] == \\\"https://en.wikipedia.org/wiki/Chandra_Khonnokyoong\\\"].index,\\n    \\\"info_parenth_copy\\\",\\n] = \\\"spiritual teacher\\\"\\n\\n\\n# Hard-coding info_parenth_copy for entry lacking known_for values\\ndf.loc[\\n    df[df[\\\"link\\\"] == \\\"https://en.wikipedia.org/wiki/Kung_Fu_(wrestler)\\\"].index,\\n    \\\"info_parenth_copy\\\",\\n] = \\\"wrestler\\\"\";\n",
       "                var nbb_cells = Jupyter.notebook.get_cells();\n",
       "                for (var i = 0; i < nbb_cells.length; ++i) {\n",
       "                    if (nbb_cells[i].input_prompt_number == nbb_cell_id) {\n",
       "                        if (nbb_cells[i].get_text() == nbb_unformatted_code) {\n",
       "                             nbb_cells[i].set_text(nbb_formatted_code);\n",
       "                        }\n",
       "                        break;\n",
       "                    }\n",
       "                }\n",
       "            }, 500);\n",
       "            "
      ],
      "text/plain": [
       "<IPython.core.display.Javascript object>"
      ]
     },
     "metadata": {},
     "output_type": "display_data"
    }
   ],
   "source": [
    "# Hard-coding info_parenth_copy for entry lacking known_for values\n",
    "df.loc[\n",
    "    df[df[\"link\"] == \"https://en.wikipedia.org/wiki/Chandra_Khonnokyoong\"].index,\n",
    "    \"info_parenth_copy\",\n",
    "] = \"spiritual teacher\"\n",
    "\n",
    "\n",
    "# Hard-coding info_parenth_copy for entry lacking known_for values\n",
    "df.loc[\n",
    "    df[df[\"link\"] == \"https://en.wikipedia.org/wiki/Kung_Fu_(wrestler)\"].index,\n",
    "    \"info_parenth_copy\",\n",
    "] = \"wrestler\""
   ]
  },
  {
   "cell_type": "markdown",
   "id": "19e0f93c",
   "metadata": {},
   "source": [
    "#### Creating `known_for_dict` Dictionary of Category Keys and Specific Role Lists of Values"
   ]
  },
  {
   "cell_type": "code",
   "execution_count": 14,
   "id": "62805084",
   "metadata": {},
   "outputs": [
    {
     "data": {
      "application/javascript": [
       "\n",
       "            setTimeout(function() {\n",
       "                var nbb_cell_id = 14;\n",
       "                var nbb_unformatted_code = \"# Combining separate lists into one dictionary\\nknown_for_dict = {\\n    \\\"social\\\": social,\\n    \\\"spiritual\\\": spiritual,\\n    \\\"academia_humanities\\\": academia_humanities,\\n    \\\"business_farming\\\": business_farming,\\n    \\\"sciences\\\": sciences,\\n    \\\"politics_govt_law\\\": politics_govt_law,\\n    \\\"law_enf_military_operator\\\": law_enf_military_operator,\\n    \\\"crime\\\": crime,\\n    \\\"event_record_other\\\": event_record_other,\\n    \\\"other_species\\\": other_species,\\n    \\\"arts\\\": arts,\\n    \\\"sports\\\": sports,\\n}\";\n",
       "                var nbb_formatted_code = \"# Combining separate lists into one dictionary\\nknown_for_dict = {\\n    \\\"social\\\": social,\\n    \\\"spiritual\\\": spiritual,\\n    \\\"academia_humanities\\\": academia_humanities,\\n    \\\"business_farming\\\": business_farming,\\n    \\\"sciences\\\": sciences,\\n    \\\"politics_govt_law\\\": politics_govt_law,\\n    \\\"law_enf_military_operator\\\": law_enf_military_operator,\\n    \\\"crime\\\": crime,\\n    \\\"event_record_other\\\": event_record_other,\\n    \\\"other_species\\\": other_species,\\n    \\\"arts\\\": arts,\\n    \\\"sports\\\": sports,\\n}\";\n",
       "                var nbb_cells = Jupyter.notebook.get_cells();\n",
       "                for (var i = 0; i < nbb_cells.length; ++i) {\n",
       "                    if (nbb_cells[i].input_prompt_number == nbb_cell_id) {\n",
       "                        if (nbb_cells[i].get_text() == nbb_unformatted_code) {\n",
       "                             nbb_cells[i].set_text(nbb_formatted_code);\n",
       "                        }\n",
       "                        break;\n",
       "                    }\n",
       "                }\n",
       "            }, 500);\n",
       "            "
      ],
      "text/plain": [
       "<IPython.core.display.Javascript object>"
      ]
     },
     "metadata": {},
     "output_type": "display_data"
    }
   ],
   "source": [
    "# Combining separate lists into one dictionary\n",
    "known_for_dict = {\n",
    "    \"social\": social,\n",
    "    \"spiritual\": spiritual,\n",
    "    \"academia_humanities\": academia_humanities,\n",
    "    \"business_farming\": business_farming,\n",
    "    \"sciences\": sciences,\n",
    "    \"politics_govt_law\": politics_govt_law,\n",
    "    \"law_enf_military_operator\": law_enf_military_operator,\n",
    "    \"crime\": crime,\n",
    "    \"event_record_other\": event_record_other,\n",
    "    \"other_species\": other_species,\n",
    "    \"arts\": arts,\n",
    "    \"sports\": sports,\n",
    "}"
   ]
  },
  {
   "cell_type": "markdown",
   "id": "2300bb48",
   "metadata": {},
   "source": [
    "#### Extracting `known_for` Categories Values from `info_parenth_copy` for Entries without a Category"
   ]
  },
  {
   "cell_type": "code",
   "execution_count": 15,
   "id": "b735dd04",
   "metadata": {},
   "outputs": [
    {
     "name": "stdout",
     "output_type": "stream",
     "text": [
      "CPU times: total: 15.6 ms\n",
      "Wall time: 13 ms\n"
     ]
    },
    {
     "data": {
      "application/javascript": [
       "\n",
       "            setTimeout(function() {\n",
       "                var nbb_cell_id = 15;\n",
       "                var nbb_unformatted_code = \"%%time\\n\\n# Column to check\\ncolumn = 'info_parenth_copy'\\n\\n# Start dataframe\\ndataframe = df[(df[column].notna()) & (df['num_categories']==0)]\\n                \\n# For loop to find role in column and extract it as category\\nfor category, category_lst in known_for_dict.items():\\n    for role in category_lst:\\n        for index in dataframe.index:\\n                item = df.loc[index, column]\\n                if item:\\n                    if role in item:\\n                        df.loc[index, category] = 1\\n                        df.loc[index, column] = item.replace(role, '').strip()\\n\\n# Calculating num_categories\\ndf[\\\"num_categories\\\"] = df[known_for_dict.keys()].sum(axis=1)\";\n",
       "                var nbb_formatted_code = \"%%time\\n\\n# Column to check\\ncolumn = 'info_parenth_copy'\\n\\n# Start dataframe\\ndataframe = df[(df[column].notna()) & (df['num_categories']==0)]\\n                \\n# For loop to find role in column and extract it as category\\nfor category, category_lst in known_for_dict.items():\\n    for role in category_lst:\\n        for index in dataframe.index:\\n                item = df.loc[index, column]\\n                if item:\\n                    if role in item:\\n                        df.loc[index, category] = 1\\n                        df.loc[index, column] = item.replace(role, '').strip()\\n\\n# Calculating num_categories\\ndf[\\\"num_categories\\\"] = df[known_for_dict.keys()].sum(axis=1)\";\n",
       "                var nbb_cells = Jupyter.notebook.get_cells();\n",
       "                for (var i = 0; i < nbb_cells.length; ++i) {\n",
       "                    if (nbb_cells[i].input_prompt_number == nbb_cell_id) {\n",
       "                        if (nbb_cells[i].get_text() == nbb_unformatted_code) {\n",
       "                             nbb_cells[i].set_text(nbb_formatted_code);\n",
       "                        }\n",
       "                        break;\n",
       "                    }\n",
       "                }\n",
       "            }, 500);\n",
       "            "
      ],
      "text/plain": [
       "<IPython.core.display.Javascript object>"
      ]
     },
     "metadata": {},
     "output_type": "display_data"
    }
   ],
   "source": [
    "%%time\n",
    "\n",
    "# Column to check\n",
    "column = 'info_parenth_copy'\n",
    "\n",
    "# Start dataframe\n",
    "dataframe = df[(df[column].notna()) & (df['num_categories']==0)]\n",
    "                \n",
    "# For loop to find role in column and extract it as category\n",
    "for category, category_lst in known_for_dict.items():\n",
    "    for role in category_lst:\n",
    "        for index in dataframe.index:\n",
    "                item = df.loc[index, column]\n",
    "                if item:\n",
    "                    if role in item:\n",
    "                        df.loc[index, category] = 1\n",
    "                        df.loc[index, column] = item.replace(role, '').strip()\n",
    "\n",
    "# Calculating num_categories\n",
    "df[\"num_categories\"] = df[known_for_dict.keys()].sum(axis=1)"
   ]
  },
  {
   "cell_type": "markdown",
   "id": "be0e125e",
   "metadata": {},
   "source": [
    "#### Checking Updated `num_categories` Value Counts"
   ]
  },
  {
   "cell_type": "code",
   "execution_count": 16,
   "id": "473d5fb6",
   "metadata": {},
   "outputs": [
    {
     "data": {
      "text/plain": [
       "1    84108\n",
       "2    12805\n",
       "3     1088\n",
       "4       36\n",
       "5        3\n",
       "Name: num_categories, dtype: int64"
      ]
     },
     "execution_count": 16,
     "metadata": {},
     "output_type": "execute_result"
    },
    {
     "data": {
      "application/javascript": [
       "\n",
       "            setTimeout(function() {\n",
       "                var nbb_cell_id = 16;\n",
       "                var nbb_unformatted_code = \"# Checking Updated num_categories Value Counts\\ndf[\\\"num_categories\\\"].value_counts()\";\n",
       "                var nbb_formatted_code = \"# Checking Updated num_categories Value Counts\\ndf[\\\"num_categories\\\"].value_counts()\";\n",
       "                var nbb_cells = Jupyter.notebook.get_cells();\n",
       "                for (var i = 0; i < nbb_cells.length; ++i) {\n",
       "                    if (nbb_cells[i].input_prompt_number == nbb_cell_id) {\n",
       "                        if (nbb_cells[i].get_text() == nbb_unformatted_code) {\n",
       "                             nbb_cells[i].set_text(nbb_formatted_code);\n",
       "                        }\n",
       "                        break;\n",
       "                    }\n",
       "                }\n",
       "            }, 500);\n",
       "            "
      ],
      "text/plain": [
       "<IPython.core.display.Javascript object>"
      ]
     },
     "metadata": {},
     "output_type": "display_data"
    }
   ],
   "source": [
    "# Checking Updated num_categories Value Counts\n",
    "df[\"num_categories\"].value_counts()"
   ]
  },
  {
   "cell_type": "markdown",
   "id": "e3f042c6",
   "metadata": {},
   "source": [
    "#### Observations:\n",
    "- All entries now have at least one `known_for` category.\n",
    "- Next, we will proceed to examine the values in `cause_of_death` to potentially guide finding that information in `info_parenth_copy` for entries that lack a value for it."
   ]
  },
  {
   "cell_type": "markdown",
   "id": "b880c159",
   "metadata": {},
   "source": [
    "### Searching for Remaining `cause_of_death` Values in `info_parenth_copy`"
   ]
  },
  {
   "cell_type": "code",
   "execution_count": 17,
   "id": "d570a792",
   "metadata": {},
   "outputs": [
    {
     "data": {
      "application/javascript": [
       "\n",
       "            setTimeout(function() {\n",
       "                var nbb_cell_id = 17;\n",
       "                var nbb_unformatted_code = \"# # Creating list of cause_of_death values\\n# cause_list = df[\\\"cause_of_death\\\"].value_counts(ascending=True).index.tolist()\";\n",
       "                var nbb_formatted_code = \"# # Creating list of cause_of_death values\\n# cause_list = df[\\\"cause_of_death\\\"].value_counts(ascending=True).index.tolist()\";\n",
       "                var nbb_cells = Jupyter.notebook.get_cells();\n",
       "                for (var i = 0; i < nbb_cells.length; ++i) {\n",
       "                    if (nbb_cells[i].input_prompt_number == nbb_cell_id) {\n",
       "                        if (nbb_cells[i].get_text() == nbb_unformatted_code) {\n",
       "                             nbb_cells[i].set_text(nbb_formatted_code);\n",
       "                        }\n",
       "                        break;\n",
       "                    }\n",
       "                }\n",
       "            }, 500);\n",
       "            "
      ],
      "text/plain": [
       "<IPython.core.display.Javascript object>"
      ]
     },
     "metadata": {},
     "output_type": "display_data"
    }
   ],
   "source": [
    "# # Creating list of cause_of_death values\n",
    "# cause_list = df[\"cause_of_death\"].value_counts(ascending=True).index.tolist()"
   ]
  },
  {
   "cell_type": "code",
   "execution_count": 18,
   "id": "08096ad2",
   "metadata": {},
   "outputs": [
    {
     "data": {
      "application/javascript": [
       "\n",
       "            setTimeout(function() {\n",
       "                var nbb_cell_id = 18;\n",
       "                var nbb_unformatted_code = \"# # Updating cause_list to contain only causes that are in info_parenth_copy values\\n# cause_list = [\\n#     item\\n#     for item in cause_list\\n#     if any(\\n#         item in value\\n#         for value in df[df[\\\"info_parenth_copy\\\"].notna()][\\\"info_parenth_copy\\\"]\\n#     )\\n# ]\";\n",
       "                var nbb_formatted_code = \"# # Updating cause_list to contain only causes that are in info_parenth_copy values\\n# cause_list = [\\n#     item\\n#     for item in cause_list\\n#     if any(\\n#         item in value\\n#         for value in df[df[\\\"info_parenth_copy\\\"].notna()][\\\"info_parenth_copy\\\"]\\n#     )\\n# ]\";\n",
       "                var nbb_cells = Jupyter.notebook.get_cells();\n",
       "                for (var i = 0; i < nbb_cells.length; ++i) {\n",
       "                    if (nbb_cells[i].input_prompt_number == nbb_cell_id) {\n",
       "                        if (nbb_cells[i].get_text() == nbb_unformatted_code) {\n",
       "                             nbb_cells[i].set_text(nbb_formatted_code);\n",
       "                        }\n",
       "                        break;\n",
       "                    }\n",
       "                }\n",
       "            }, 500);\n",
       "            "
      ],
      "text/plain": [
       "<IPython.core.display.Javascript object>"
      ]
     },
     "metadata": {},
     "output_type": "display_data"
    }
   ],
   "source": [
    "# # Updating cause_list to contain only causes that are in info_parenth_copy values\n",
    "# cause_list = [\n",
    "#     item\n",
    "#     for item in cause_list\n",
    "#     if any(\n",
    "#         item in value\n",
    "#         for value in df[df[\"info_parenth_copy\"].notna()][\"info_parenth_copy\"]\n",
    "#     )\n",
    "# ]"
   ]
  },
  {
   "cell_type": "code",
   "execution_count": 19,
   "id": "11cedcdc",
   "metadata": {},
   "outputs": [
    {
     "data": {
      "application/javascript": [
       "\n",
       "            setTimeout(function() {\n",
       "                var nbb_cell_id = 19;\n",
       "                var nbb_unformatted_code = \"# # Checking the cause_of_death values starting with most frequent\\n# value = cause_list.pop()\\n# value\";\n",
       "                var nbb_formatted_code = \"# # Checking the cause_of_death values starting with most frequent\\n# value = cause_list.pop()\\n# value\";\n",
       "                var nbb_cells = Jupyter.notebook.get_cells();\n",
       "                for (var i = 0; i < nbb_cells.length; ++i) {\n",
       "                    if (nbb_cells[i].input_prompt_number == nbb_cell_id) {\n",
       "                        if (nbb_cells[i].get_text() == nbb_unformatted_code) {\n",
       "                             nbb_cells[i].set_text(nbb_formatted_code);\n",
       "                        }\n",
       "                        break;\n",
       "                    }\n",
       "                }\n",
       "            }, 500);\n",
       "            "
      ],
      "text/plain": [
       "<IPython.core.display.Javascript object>"
      ]
     },
     "metadata": {},
     "output_type": "display_data"
    }
   ],
   "source": [
    "# # Checking the cause_of_death values starting with most frequent\n",
    "# value = cause_list.pop()\n",
    "# value"
   ]
  },
  {
   "cell_type": "code",
   "execution_count": 20,
   "id": "61b8c185",
   "metadata": {},
   "outputs": [
    {
     "data": {
      "application/javascript": [
       "\n",
       "            setTimeout(function() {\n",
       "                var nbb_cell_id = 20;\n",
       "                var nbb_unformatted_code = \"# # Creating list of info_parenth_copy values that contain cause_of_death value\\n# df.loc[\\n#     [\\n#         index\\n#         for index in df[df[\\\"info_parenth_copy\\\"].notna()].index\\n#         if value in df.loc[index, \\\"info_parenth_copy\\\"]\\n#     ],\\n#     \\\"info_parenth_copy\\\",\\n# ].value_counts().index.tolist()\";\n",
       "                var nbb_formatted_code = \"# # Creating list of info_parenth_copy values that contain cause_of_death value\\n# df.loc[\\n#     [\\n#         index\\n#         for index in df[df[\\\"info_parenth_copy\\\"].notna()].index\\n#         if value in df.loc[index, \\\"info_parenth_copy\\\"]\\n#     ],\\n#     \\\"info_parenth_copy\\\",\\n# ].value_counts().index.tolist()\";\n",
       "                var nbb_cells = Jupyter.notebook.get_cells();\n",
       "                for (var i = 0; i < nbb_cells.length; ++i) {\n",
       "                    if (nbb_cells[i].input_prompt_number == nbb_cell_id) {\n",
       "                        if (nbb_cells[i].get_text() == nbb_unformatted_code) {\n",
       "                             nbb_cells[i].set_text(nbb_formatted_code);\n",
       "                        }\n",
       "                        break;\n",
       "                    }\n",
       "                }\n",
       "            }, 500);\n",
       "            "
      ],
      "text/plain": [
       "<IPython.core.display.Javascript object>"
      ]
     },
     "metadata": {},
     "output_type": "display_data"
    }
   ],
   "source": [
    "# # Creating list of info_parenth_copy values that contain cause_of_death value\n",
    "# df.loc[\n",
    "#     [\n",
    "#         index\n",
    "#         for index in df[df[\"info_parenth_copy\"].notna()].index\n",
    "#         if value in df.loc[index, \"info_parenth_copy\"]\n",
    "#     ],\n",
    "#     \"info_parenth_copy\",\n",
    "# ].value_counts().index.tolist()"
   ]
  },
  {
   "cell_type": "code",
   "execution_count": 21,
   "id": "a8a7ddc7",
   "metadata": {},
   "outputs": [
    {
     "data": {
      "application/javascript": [
       "\n",
       "            setTimeout(function() {\n",
       "                var nbb_cell_id = 21;\n",
       "                var nbb_unformatted_code = \"# # Checking specific entries\\n# df[\\n#     df[\\\"info_parenth_copy\\\"]\\n#     == \\\"1969 1974 and Foreign Affairs 1974 1982; 1982 1992, Vice Chancellor 1974 1982; 1982 1992\\\"\\n# ]\";\n",
       "                var nbb_formatted_code = \"# # Checking specific entries\\n# df[\\n#     df[\\\"info_parenth_copy\\\"]\\n#     == \\\"1969 1974 and Foreign Affairs 1974 1982; 1982 1992, Vice Chancellor 1974 1982; 1982 1992\\\"\\n# ]\";\n",
       "                var nbb_cells = Jupyter.notebook.get_cells();\n",
       "                for (var i = 0; i < nbb_cells.length; ++i) {\n",
       "                    if (nbb_cells[i].input_prompt_number == nbb_cell_id) {\n",
       "                        if (nbb_cells[i].get_text() == nbb_unformatted_code) {\n",
       "                             nbb_cells[i].set_text(nbb_formatted_code);\n",
       "                        }\n",
       "                        break;\n",
       "                    }\n",
       "                }\n",
       "            }, 500);\n",
       "            "
      ],
      "text/plain": [
       "<IPython.core.display.Javascript object>"
      ]
     },
     "metadata": {},
     "output_type": "display_data"
    }
   ],
   "source": [
    "# # Checking specific entries\n",
    "# df[\n",
    "#     df[\"info_parenth_copy\"]\n",
    "#     == \"1969 1974 and Foreign Affairs 1974 1982; 1982 1992, Vice Chancellor 1974 1982; 1982 1992\"\n",
    "# ]"
   ]
  },
  {
   "cell_type": "markdown",
   "id": "1ab4fcf5",
   "metadata": {},
   "source": [
    "#### Creating List for `cause_of_death`"
   ]
  },
  {
   "cell_type": "code",
   "execution_count": 22,
   "id": "cece2de7",
   "metadata": {},
   "outputs": [
    {
     "data": {
      "application/javascript": [
       "\n",
       "            setTimeout(function() {\n",
       "                var nbb_cell_id = 22;\n",
       "                var nbb_unformatted_code = \"# Creating list for cause_of_death\\ncause_of_death = [\\n    \\\"cancer\\\",\\n    \\\"pancreatic cancer\\\",\\n    \\\"adrenal cancer\\\",\\n    \\\"endometrial cancer\\\",\\n    \\\"nasopharynx cancer\\\",\\n    \\\"parotid cancer\\\",\\n    \\\"prostate cancer\\\",\\n    \\\"multiple myeloma, blood cancer\\\",\\n    \\\"bowel cancer\\\",\\n    \\\"oesophageal cancer\\\",\\n    \\\"liver cancer\\\",\\n    \\\"lung cancer\\\",\\n    \\\"cancer\\\",\\n    \\\"breast cancer\\\",\\n    \\\"testicular cancer\\\",\\n    \\\"ovarian cancer\\\",\\n    \\\"peritoneal cancer\\\",\\n    \\\"heart attack\\\",\\n    \\\"COVID\\\",\\n    \\\"congestive heart failure\\\",\\n    \\\"heart failure\\\",\\n    \\\"ischemic heart failure\\\",\\n    \\\"pneumonia\\\",\\n    \\\"AIDS, pneumonia\\\",\\n    \\\"pneumonia, infarctions\\\",\\n    \\\"bronchial pneumonia\\\",\\n    \\\"stroke\\\",\\n    \\\"heat stroke\\\",\\n    \\\"shot\\\",\\n    \\\"gunshot wounds\\\",\\n    \\\"traffic collision\\\",\\n    \\\"natural causes disease\\\",\\n    \\\"natural causes\\\",\\n    \\\"suicide\\\",\\n    \\\"suspected suicide\\\",\\n    \\\"suicide by drowning\\\",\\n    \\\"suicide by hydrogen sulfide\\\",\\n    \\\"suicide by hanging\\\",\\n    \\\"Alzheimer disease\\\",\\n    \\\"leukemia\\\",\\n    \\\"Parkinson disease\\\",\\n    \\\"Parkinson\\u2019s disease\\\",\\n    \\\"Creutzfeldt Jakob disease\\\",\\n    \\\"kidney disease\\\",\\n    \\\"Pick disease\\\",\\n    \\\"heart disease\\\",\\n    \\\"car accident\\\",\\n    \\\"injuries due to a fall\\\",\\n    \\\"fall\\\",\\n    \\\"subdural hematoma, fall\\\",\\n    \\\"multiple organ failure\\\",\\n    \\\"AIDS, lymphoma\\\",\\n    \\\"Hodgkin lymphoma\\\",\\n    \\\"gastric lymphoma\\\",\\n    \\\"plane crash\\\",\\n    \\\"amyotrophic lateral sclerosis\\\",\\n    \\\"euthanized\\\",\\n    \\\"uveal melanoma\\\",\\n    \\\"emphysema\\\",\\n    \\\"pulmonary emphysema\\\",\\n    \\\"emphysema, bronchitis\\\",\\n    \\\"Lewy body dementia\\\",\\n    \\\"renal failure\\\",\\n    \\\"intracerebral hemorrhage\\\",\\n    \\\"liver failure\\\",\\n    \\\"pulmonary embolism\\\",\\n    \\\"homicide\\\",\\n    \\\"pulmonary fibrosis\\\",\\n    \\\"idiopathic pulmonary fibrosis\\\",\\n    \\\"abdominal aortic aneurysm\\\",\\n    \\\"sepsis\\\",\\n    \\\"glioblastoma multiforme\\\",\\n    \\\"Jordanian bombings\\\",\\n    \\\"accidental shooting\\\",\\n    \\\"pulmonary edema\\\",\\n    \\\"septic infection\\\",\\n    \\\"myelodysplastic syndrome\\\",\\n    \\\"locked in syndrome\\\",\\n    \\\"multiple organ dysfunction syndrome\\\",\\n    \\\"superior vena cava syndrome\\\",\\n    \\\"Marfan syndrome\\\",\\n    \\\"Guillain Barr\\u00e9 syndrome\\\",\\n    \\\"multiple sclerosis\\\",\\n    \\\"AIDS\\\",\\n    \\\"multiple organ failure\\\",\\n    \\\"pulmonary emphysema\\\",\\n    \\\"emphysema\\\",\\n    \\\"emphysema, bronchitis\\\",\\n    \\\"aortic dissection\\\",\\n    \\\"progressive supranuclear palsy\\\",\\n    \\\"Hodgkin lymphoma\\\",\\n    \\\"COPD\\\",\\n    \\\"pancreatitis\\\",\\n    \\\"cerebral haemorrhage\\\",\\n    \\\"ALS\\\",\\n    \\\"AL amyloidosis\\\",\\n    \\\"car accident\\\",\\n    \\\"accidental shooting\\\",\\n    \\\"epilepsy\\\",\\n    \\\"dilated cardiomyopathy\\\",\\n    \\\"thrombosis\\\",\\n    \\\"rheumatoid arthritis\\\",\\n    \\\"beheading\\\",\\n    \\\"leiomyosarcoma\\\",\\n    \\\"Ewing sarcoma\\\",\\n    \\\"sarcoma\\\",\\n    \\\"leptomeningeal carcinomatosis\\\",\\n    \\\"nasopharyngeal carcinoma\\\",\\n    \\\"small cell carcinoma\\\",\\n    \\\"myelodysplasia\\\",\\n    \\\"pulmonary embolism\\\",\\n    \\\"embolism\\\",\\n    \\\"suffocated\\\",\\n    \\\"cerebral haemorrhage\\\",\\n    \\\"assassination\\\",\\n    \\\"gastrointestinal hemorrhage\\\",\\n    \\\"intracerebral hemorrhage\\\",\\n    \\\"anaphylaxis\\\",\\n    \\\"progressive supranuclear palsy\\\",\\n    \\\"shelling\\\",\\n    \\\"pulmonary edema\\\",\\n    \\\"Jordanian bombings\\\",\\n    \\\"posterior cortical atrophy\\\",\\n    \\\"emphysema, bronchitis\\\",\\n    \\\"West Nile virus\\\",\\n    \\\"corticobasal degeneration\\\",\\n    \\\"heat stroke\\\",\\n    \\\"glioblastoma multiforme\\\",\\n    \\\"acute endocarditis\\\",\\n    \\\"arrhythmogenic right ventricular dysplasia\\\",\\n    \\\"alcoholism\\\",\\n    \\\"plane crash\\\",\\n    \\\"normal pressure hydrocephalus\\\",\\n    \\\"primary progressive aphasia\\\",\\n    \\\"dilated cardiomyopathy\\\",\\n    \\\"subdural haematoma\\\",\\n    \\\"arrhythmia\\\",\\n    \\\"thrombus\\\",\\n    \\\"thrombosis\\\",\\n    \\\"essential thrombocytosis\\\",\\n    \\\"thrombotic thrombocytopenic purpura\\\",\\n    \\\"vasculitis\\\",\\n    \\\"self defenestration\\\",\\n    \\\"ventricular tachycardia\\\",\\n]\\n\\n# Clearing out duplicate values and sorting in descending length order to use for extracting values\\ncause_of_death = sorted(list(set(cause_of_death)), key=lambda x: len(x), reverse=True)\";\n",
       "                var nbb_formatted_code = \"# Creating list for cause_of_death\\ncause_of_death = [\\n    \\\"cancer\\\",\\n    \\\"pancreatic cancer\\\",\\n    \\\"adrenal cancer\\\",\\n    \\\"endometrial cancer\\\",\\n    \\\"nasopharynx cancer\\\",\\n    \\\"parotid cancer\\\",\\n    \\\"prostate cancer\\\",\\n    \\\"multiple myeloma, blood cancer\\\",\\n    \\\"bowel cancer\\\",\\n    \\\"oesophageal cancer\\\",\\n    \\\"liver cancer\\\",\\n    \\\"lung cancer\\\",\\n    \\\"cancer\\\",\\n    \\\"breast cancer\\\",\\n    \\\"testicular cancer\\\",\\n    \\\"ovarian cancer\\\",\\n    \\\"peritoneal cancer\\\",\\n    \\\"heart attack\\\",\\n    \\\"COVID\\\",\\n    \\\"congestive heart failure\\\",\\n    \\\"heart failure\\\",\\n    \\\"ischemic heart failure\\\",\\n    \\\"pneumonia\\\",\\n    \\\"AIDS, pneumonia\\\",\\n    \\\"pneumonia, infarctions\\\",\\n    \\\"bronchial pneumonia\\\",\\n    \\\"stroke\\\",\\n    \\\"heat stroke\\\",\\n    \\\"shot\\\",\\n    \\\"gunshot wounds\\\",\\n    \\\"traffic collision\\\",\\n    \\\"natural causes disease\\\",\\n    \\\"natural causes\\\",\\n    \\\"suicide\\\",\\n    \\\"suspected suicide\\\",\\n    \\\"suicide by drowning\\\",\\n    \\\"suicide by hydrogen sulfide\\\",\\n    \\\"suicide by hanging\\\",\\n    \\\"Alzheimer disease\\\",\\n    \\\"leukemia\\\",\\n    \\\"Parkinson disease\\\",\\n    \\\"Parkinson\\u2019s disease\\\",\\n    \\\"Creutzfeldt Jakob disease\\\",\\n    \\\"kidney disease\\\",\\n    \\\"Pick disease\\\",\\n    \\\"heart disease\\\",\\n    \\\"car accident\\\",\\n    \\\"injuries due to a fall\\\",\\n    \\\"fall\\\",\\n    \\\"subdural hematoma, fall\\\",\\n    \\\"multiple organ failure\\\",\\n    \\\"AIDS, lymphoma\\\",\\n    \\\"Hodgkin lymphoma\\\",\\n    \\\"gastric lymphoma\\\",\\n    \\\"plane crash\\\",\\n    \\\"amyotrophic lateral sclerosis\\\",\\n    \\\"euthanized\\\",\\n    \\\"uveal melanoma\\\",\\n    \\\"emphysema\\\",\\n    \\\"pulmonary emphysema\\\",\\n    \\\"emphysema, bronchitis\\\",\\n    \\\"Lewy body dementia\\\",\\n    \\\"renal failure\\\",\\n    \\\"intracerebral hemorrhage\\\",\\n    \\\"liver failure\\\",\\n    \\\"pulmonary embolism\\\",\\n    \\\"homicide\\\",\\n    \\\"pulmonary fibrosis\\\",\\n    \\\"idiopathic pulmonary fibrosis\\\",\\n    \\\"abdominal aortic aneurysm\\\",\\n    \\\"sepsis\\\",\\n    \\\"glioblastoma multiforme\\\",\\n    \\\"Jordanian bombings\\\",\\n    \\\"accidental shooting\\\",\\n    \\\"pulmonary edema\\\",\\n    \\\"septic infection\\\",\\n    \\\"myelodysplastic syndrome\\\",\\n    \\\"locked in syndrome\\\",\\n    \\\"multiple organ dysfunction syndrome\\\",\\n    \\\"superior vena cava syndrome\\\",\\n    \\\"Marfan syndrome\\\",\\n    \\\"Guillain Barr\\u00e9 syndrome\\\",\\n    \\\"multiple sclerosis\\\",\\n    \\\"AIDS\\\",\\n    \\\"multiple organ failure\\\",\\n    \\\"pulmonary emphysema\\\",\\n    \\\"emphysema\\\",\\n    \\\"emphysema, bronchitis\\\",\\n    \\\"aortic dissection\\\",\\n    \\\"progressive supranuclear palsy\\\",\\n    \\\"Hodgkin lymphoma\\\",\\n    \\\"COPD\\\",\\n    \\\"pancreatitis\\\",\\n    \\\"cerebral haemorrhage\\\",\\n    \\\"ALS\\\",\\n    \\\"AL amyloidosis\\\",\\n    \\\"car accident\\\",\\n    \\\"accidental shooting\\\",\\n    \\\"epilepsy\\\",\\n    \\\"dilated cardiomyopathy\\\",\\n    \\\"thrombosis\\\",\\n    \\\"rheumatoid arthritis\\\",\\n    \\\"beheading\\\",\\n    \\\"leiomyosarcoma\\\",\\n    \\\"Ewing sarcoma\\\",\\n    \\\"sarcoma\\\",\\n    \\\"leptomeningeal carcinomatosis\\\",\\n    \\\"nasopharyngeal carcinoma\\\",\\n    \\\"small cell carcinoma\\\",\\n    \\\"myelodysplasia\\\",\\n    \\\"pulmonary embolism\\\",\\n    \\\"embolism\\\",\\n    \\\"suffocated\\\",\\n    \\\"cerebral haemorrhage\\\",\\n    \\\"assassination\\\",\\n    \\\"gastrointestinal hemorrhage\\\",\\n    \\\"intracerebral hemorrhage\\\",\\n    \\\"anaphylaxis\\\",\\n    \\\"progressive supranuclear palsy\\\",\\n    \\\"shelling\\\",\\n    \\\"pulmonary edema\\\",\\n    \\\"Jordanian bombings\\\",\\n    \\\"posterior cortical atrophy\\\",\\n    \\\"emphysema, bronchitis\\\",\\n    \\\"West Nile virus\\\",\\n    \\\"corticobasal degeneration\\\",\\n    \\\"heat stroke\\\",\\n    \\\"glioblastoma multiforme\\\",\\n    \\\"acute endocarditis\\\",\\n    \\\"arrhythmogenic right ventricular dysplasia\\\",\\n    \\\"alcoholism\\\",\\n    \\\"plane crash\\\",\\n    \\\"normal pressure hydrocephalus\\\",\\n    \\\"primary progressive aphasia\\\",\\n    \\\"dilated cardiomyopathy\\\",\\n    \\\"subdural haematoma\\\",\\n    \\\"arrhythmia\\\",\\n    \\\"thrombus\\\",\\n    \\\"thrombosis\\\",\\n    \\\"essential thrombocytosis\\\",\\n    \\\"thrombotic thrombocytopenic purpura\\\",\\n    \\\"vasculitis\\\",\\n    \\\"self defenestration\\\",\\n    \\\"ventricular tachycardia\\\",\\n]\\n\\n# Clearing out duplicate values and sorting in descending length order to use for extracting values\\ncause_of_death = sorted(list(set(cause_of_death)), key=lambda x: len(x), reverse=True)\";\n",
       "                var nbb_cells = Jupyter.notebook.get_cells();\n",
       "                for (var i = 0; i < nbb_cells.length; ++i) {\n",
       "                    if (nbb_cells[i].input_prompt_number == nbb_cell_id) {\n",
       "                        if (nbb_cells[i].get_text() == nbb_unformatted_code) {\n",
       "                             nbb_cells[i].set_text(nbb_formatted_code);\n",
       "                        }\n",
       "                        break;\n",
       "                    }\n",
       "                }\n",
       "            }, 500);\n",
       "            "
      ],
      "text/plain": [
       "<IPython.core.display.Javascript object>"
      ]
     },
     "metadata": {},
     "output_type": "display_data"
    }
   ],
   "source": [
    "# Creating list for cause_of_death\n",
    "cause_of_death = [\n",
    "    \"cancer\",\n",
    "    \"pancreatic cancer\",\n",
    "    \"adrenal cancer\",\n",
    "    \"endometrial cancer\",\n",
    "    \"nasopharynx cancer\",\n",
    "    \"parotid cancer\",\n",
    "    \"prostate cancer\",\n",
    "    \"multiple myeloma, blood cancer\",\n",
    "    \"bowel cancer\",\n",
    "    \"oesophageal cancer\",\n",
    "    \"liver cancer\",\n",
    "    \"lung cancer\",\n",
    "    \"cancer\",\n",
    "    \"breast cancer\",\n",
    "    \"testicular cancer\",\n",
    "    \"ovarian cancer\",\n",
    "    \"peritoneal cancer\",\n",
    "    \"heart attack\",\n",
    "    \"COVID\",\n",
    "    \"congestive heart failure\",\n",
    "    \"heart failure\",\n",
    "    \"ischemic heart failure\",\n",
    "    \"pneumonia\",\n",
    "    \"AIDS, pneumonia\",\n",
    "    \"pneumonia, infarctions\",\n",
    "    \"bronchial pneumonia\",\n",
    "    \"stroke\",\n",
    "    \"heat stroke\",\n",
    "    \"shot\",\n",
    "    \"gunshot wounds\",\n",
    "    \"traffic collision\",\n",
    "    \"natural causes disease\",\n",
    "    \"natural causes\",\n",
    "    \"suicide\",\n",
    "    \"suspected suicide\",\n",
    "    \"suicide by drowning\",\n",
    "    \"suicide by hydrogen sulfide\",\n",
    "    \"suicide by hanging\",\n",
    "    \"Alzheimer disease\",\n",
    "    \"leukemia\",\n",
    "    \"Parkinson disease\",\n",
    "    \"Parkinson’s disease\",\n",
    "    \"Creutzfeldt Jakob disease\",\n",
    "    \"kidney disease\",\n",
    "    \"Pick disease\",\n",
    "    \"heart disease\",\n",
    "    \"car accident\",\n",
    "    \"injuries due to a fall\",\n",
    "    \"fall\",\n",
    "    \"subdural hematoma, fall\",\n",
    "    \"multiple organ failure\",\n",
    "    \"AIDS, lymphoma\",\n",
    "    \"Hodgkin lymphoma\",\n",
    "    \"gastric lymphoma\",\n",
    "    \"plane crash\",\n",
    "    \"amyotrophic lateral sclerosis\",\n",
    "    \"euthanized\",\n",
    "    \"uveal melanoma\",\n",
    "    \"emphysema\",\n",
    "    \"pulmonary emphysema\",\n",
    "    \"emphysema, bronchitis\",\n",
    "    \"Lewy body dementia\",\n",
    "    \"renal failure\",\n",
    "    \"intracerebral hemorrhage\",\n",
    "    \"liver failure\",\n",
    "    \"pulmonary embolism\",\n",
    "    \"homicide\",\n",
    "    \"pulmonary fibrosis\",\n",
    "    \"idiopathic pulmonary fibrosis\",\n",
    "    \"abdominal aortic aneurysm\",\n",
    "    \"sepsis\",\n",
    "    \"glioblastoma multiforme\",\n",
    "    \"Jordanian bombings\",\n",
    "    \"accidental shooting\",\n",
    "    \"pulmonary edema\",\n",
    "    \"septic infection\",\n",
    "    \"myelodysplastic syndrome\",\n",
    "    \"locked in syndrome\",\n",
    "    \"multiple organ dysfunction syndrome\",\n",
    "    \"superior vena cava syndrome\",\n",
    "    \"Marfan syndrome\",\n",
    "    \"Guillain Barré syndrome\",\n",
    "    \"multiple sclerosis\",\n",
    "    \"AIDS\",\n",
    "    \"multiple organ failure\",\n",
    "    \"pulmonary emphysema\",\n",
    "    \"emphysema\",\n",
    "    \"emphysema, bronchitis\",\n",
    "    \"aortic dissection\",\n",
    "    \"progressive supranuclear palsy\",\n",
    "    \"Hodgkin lymphoma\",\n",
    "    \"COPD\",\n",
    "    \"pancreatitis\",\n",
    "    \"cerebral haemorrhage\",\n",
    "    \"ALS\",\n",
    "    \"AL amyloidosis\",\n",
    "    \"car accident\",\n",
    "    \"accidental shooting\",\n",
    "    \"epilepsy\",\n",
    "    \"dilated cardiomyopathy\",\n",
    "    \"thrombosis\",\n",
    "    \"rheumatoid arthritis\",\n",
    "    \"beheading\",\n",
    "    \"leiomyosarcoma\",\n",
    "    \"Ewing sarcoma\",\n",
    "    \"sarcoma\",\n",
    "    \"leptomeningeal carcinomatosis\",\n",
    "    \"nasopharyngeal carcinoma\",\n",
    "    \"small cell carcinoma\",\n",
    "    \"myelodysplasia\",\n",
    "    \"pulmonary embolism\",\n",
    "    \"embolism\",\n",
    "    \"suffocated\",\n",
    "    \"cerebral haemorrhage\",\n",
    "    \"assassination\",\n",
    "    \"gastrointestinal hemorrhage\",\n",
    "    \"intracerebral hemorrhage\",\n",
    "    \"anaphylaxis\",\n",
    "    \"progressive supranuclear palsy\",\n",
    "    \"shelling\",\n",
    "    \"pulmonary edema\",\n",
    "    \"Jordanian bombings\",\n",
    "    \"posterior cortical atrophy\",\n",
    "    \"emphysema, bronchitis\",\n",
    "    \"West Nile virus\",\n",
    "    \"corticobasal degeneration\",\n",
    "    \"heat stroke\",\n",
    "    \"glioblastoma multiforme\",\n",
    "    \"acute endocarditis\",\n",
    "    \"arrhythmogenic right ventricular dysplasia\",\n",
    "    \"alcoholism\",\n",
    "    \"plane crash\",\n",
    "    \"normal pressure hydrocephalus\",\n",
    "    \"primary progressive aphasia\",\n",
    "    \"dilated cardiomyopathy\",\n",
    "    \"subdural haematoma\",\n",
    "    \"arrhythmia\",\n",
    "    \"thrombus\",\n",
    "    \"thrombosis\",\n",
    "    \"essential thrombocytosis\",\n",
    "    \"thrombotic thrombocytopenic purpura\",\n",
    "    \"vasculitis\",\n",
    "    \"self defenestration\",\n",
    "    \"ventricular tachycardia\",\n",
    "]\n",
    "\n",
    "# Clearing out duplicate values and sorting in descending length order to use for extracting values\n",
    "cause_of_death = sorted(list(set(cause_of_death)), key=lambda x: len(x), reverse=True)"
   ]
  },
  {
   "cell_type": "code",
   "execution_count": 23,
   "id": "ea62bba8",
   "metadata": {},
   "outputs": [
    {
     "data": {
      "application/javascript": [
       "\n",
       "            setTimeout(function() {\n",
       "                var nbb_cell_id = 23;\n",
       "                var nbb_unformatted_code = \"# Dropping info_parenth_copy value for entries to avoid incorrect cause_of_death\\ndf.loc[\\n    [\\n        index\\n        for index in df[df[\\\"info_parenth_copy\\\"].notna()].index\\n        if \\\"breaststroke\\\" in df.loc[index, \\\"info_parenth_copy\\\"]\\n        or \\\"backstroke\\\" in df.loc[index, \\\"info_parenth_copy\\\"]\\n    ],\\n    \\\"info_parenth_copy\\\",\\n] = \\\"\\\"\\n\\n# Dropping info_parenth_copy value for entries to avoid incorrect cause_of_death\\ndf.loc[\\n    [\\n        index\\n        for index in df[df[\\\"info_parenth_copy\\\"].notna()].index\\n        if \\\"shot put\\\" in df.loc[index, \\\"info_parenth_copy\\\"]\\n        or \\\"Aldershot\\\" in df.loc[index, \\\"info_parenth_copy\\\"]\\n    ],\\n    \\\"info_parenth_copy\\\",\\n] = \\\"\\\"\\n\\n# Dropping info_parent_copy value for entry to avoid incorrect cause_of_death\\ndf.loc[\\n    df[df[\\\"info_parenth_copy\\\"] == \\\"fallout shelter sign\\\"].index, \\\"info_parenth_copy\\\"\\n] = \\\"\\\"\\n\\n# Dropping info_parent_copy value for entry to avoid incorrect cause_of_death\\ndf.loc[\\n    df[\\n        df[\\\"info_parenth_copy\\\"]\\n        == \\\"HIV, President of the International AIDS Society 1994 1998\\\"\\n    ].index,\\n    \\\"info_parenth_copy\\\",\\n] = \\\"\\\"\\n\\n# Dropping info_parent_copy value for entry to avoid incorrect cause_of_death\\ndf.loc[\\n    df[df[\\\"info_parenth_copy\\\"] == \\\"assassination of Orlando Letelier\\\"].index,\\n    \\\"info_parenth_copy\\\",\\n] = \\\"\\\"\\n\\n# Dropping info_parenth_copy value for entries to avoid incorrect cause_of_death\\ndf.loc[\\n    [\\n        index\\n        for index in df[df[\\\"info_parenth_copy\\\"].notna()].index\\n        if \\\"Suicide\\\" in df.loc[index, \\\"info_parenth_copy\\\"]\\n    ],\\n    \\\"info_parenth_copy\\\",\\n] = \\\"\\\"\";\n",
       "                var nbb_formatted_code = \"# Dropping info_parenth_copy value for entries to avoid incorrect cause_of_death\\ndf.loc[\\n    [\\n        index\\n        for index in df[df[\\\"info_parenth_copy\\\"].notna()].index\\n        if \\\"breaststroke\\\" in df.loc[index, \\\"info_parenth_copy\\\"]\\n        or \\\"backstroke\\\" in df.loc[index, \\\"info_parenth_copy\\\"]\\n    ],\\n    \\\"info_parenth_copy\\\",\\n] = \\\"\\\"\\n\\n# Dropping info_parenth_copy value for entries to avoid incorrect cause_of_death\\ndf.loc[\\n    [\\n        index\\n        for index in df[df[\\\"info_parenth_copy\\\"].notna()].index\\n        if \\\"shot put\\\" in df.loc[index, \\\"info_parenth_copy\\\"]\\n        or \\\"Aldershot\\\" in df.loc[index, \\\"info_parenth_copy\\\"]\\n    ],\\n    \\\"info_parenth_copy\\\",\\n] = \\\"\\\"\\n\\n# Dropping info_parent_copy value for entry to avoid incorrect cause_of_death\\ndf.loc[\\n    df[df[\\\"info_parenth_copy\\\"] == \\\"fallout shelter sign\\\"].index, \\\"info_parenth_copy\\\"\\n] = \\\"\\\"\\n\\n# Dropping info_parent_copy value for entry to avoid incorrect cause_of_death\\ndf.loc[\\n    df[\\n        df[\\\"info_parenth_copy\\\"]\\n        == \\\"HIV, President of the International AIDS Society 1994 1998\\\"\\n    ].index,\\n    \\\"info_parenth_copy\\\",\\n] = \\\"\\\"\\n\\n# Dropping info_parent_copy value for entry to avoid incorrect cause_of_death\\ndf.loc[\\n    df[df[\\\"info_parenth_copy\\\"] == \\\"assassination of Orlando Letelier\\\"].index,\\n    \\\"info_parenth_copy\\\",\\n] = \\\"\\\"\\n\\n# Dropping info_parenth_copy value for entries to avoid incorrect cause_of_death\\ndf.loc[\\n    [\\n        index\\n        for index in df[df[\\\"info_parenth_copy\\\"].notna()].index\\n        if \\\"Suicide\\\" in df.loc[index, \\\"info_parenth_copy\\\"]\\n    ],\\n    \\\"info_parenth_copy\\\",\\n] = \\\"\\\"\";\n",
       "                var nbb_cells = Jupyter.notebook.get_cells();\n",
       "                for (var i = 0; i < nbb_cells.length; ++i) {\n",
       "                    if (nbb_cells[i].input_prompt_number == nbb_cell_id) {\n",
       "                        if (nbb_cells[i].get_text() == nbb_unformatted_code) {\n",
       "                             nbb_cells[i].set_text(nbb_formatted_code);\n",
       "                        }\n",
       "                        break;\n",
       "                    }\n",
       "                }\n",
       "            }, 500);\n",
       "            "
      ],
      "text/plain": [
       "<IPython.core.display.Javascript object>"
      ]
     },
     "metadata": {},
     "output_type": "display_data"
    }
   ],
   "source": [
    "# Dropping info_parenth_copy value for entries to avoid incorrect cause_of_death\n",
    "df.loc[\n",
    "    [\n",
    "        index\n",
    "        for index in df[df[\"info_parenth_copy\"].notna()].index\n",
    "        if \"breaststroke\" in df.loc[index, \"info_parenth_copy\"]\n",
    "        or \"backstroke\" in df.loc[index, \"info_parenth_copy\"]\n",
    "    ],\n",
    "    \"info_parenth_copy\",\n",
    "] = \"\"\n",
    "\n",
    "# Dropping info_parenth_copy value for entries to avoid incorrect cause_of_death\n",
    "df.loc[\n",
    "    [\n",
    "        index\n",
    "        for index in df[df[\"info_parenth_copy\"].notna()].index\n",
    "        if \"shot put\" in df.loc[index, \"info_parenth_copy\"]\n",
    "        or \"Aldershot\" in df.loc[index, \"info_parenth_copy\"]\n",
    "    ],\n",
    "    \"info_parenth_copy\",\n",
    "] = \"\"\n",
    "\n",
    "# Dropping info_parent_copy value for entry to avoid incorrect cause_of_death\n",
    "df.loc[\n",
    "    df[df[\"info_parenth_copy\"] == \"fallout shelter sign\"].index, \"info_parenth_copy\"\n",
    "] = \"\"\n",
    "\n",
    "# Dropping info_parent_copy value for entry to avoid incorrect cause_of_death\n",
    "df.loc[\n",
    "    df[\n",
    "        df[\"info_parenth_copy\"]\n",
    "        == \"HIV, President of the International AIDS Society 1994 1998\"\n",
    "    ].index,\n",
    "    \"info_parenth_copy\",\n",
    "] = \"\"\n",
    "\n",
    "# Dropping info_parent_copy value for entry to avoid incorrect cause_of_death\n",
    "df.loc[\n",
    "    df[df[\"info_parenth_copy\"] == \"assassination of Orlando Letelier\"].index,\n",
    "    \"info_parenth_copy\",\n",
    "] = \"\"\n",
    "\n",
    "# Dropping info_parenth_copy value for entries to avoid incorrect cause_of_death\n",
    "df.loc[\n",
    "    [\n",
    "        index\n",
    "        for index in df[df[\"info_parenth_copy\"].notna()].index\n",
    "        if \"Suicide\" in df.loc[index, \"info_parenth_copy\"]\n",
    "    ],\n",
    "    \"info_parenth_copy\",\n",
    "] = \"\""
   ]
  },
  {
   "cell_type": "markdown",
   "id": "6fca8dba",
   "metadata": {},
   "source": [
    "#### Extracting `cause_of_death` Values from `info_parenth_copy`"
   ]
  },
  {
   "cell_type": "code",
   "execution_count": 24,
   "id": "c8d93d36",
   "metadata": {},
   "outputs": [
    {
     "name": "stdout",
     "output_type": "stream",
     "text": [
      "There are 33461 values in cause_of_death column.\n",
      "\n",
      "CPU times: total: 26.9 s\n",
      "Wall time: 27 s\n"
     ]
    },
    {
     "data": {
      "application/javascript": [
       "\n",
       "            setTimeout(function() {\n",
       "                var nbb_cell_id = 24;\n",
       "                var nbb_unformatted_code = \"%%time\\n\\n# Column to search\\ncolumn = \\\"info_parenth_copy\\\"\\n\\n# Dataframe to search\\ndataframe = df[df[column].notna()]\\n\\n# For loop to extract cause from column to cause_of_death\\nfor cause in cause_of_death:\\n    for index in dataframe.index:\\n        item = df.loc[index, column]\\n        if item:\\n            if cause in item:\\n                if df.loc[index, 'cause_of_death']:\\n                    df.loc[index, 'cause_of_death'] = df.loc[index, 'cause_of_death'] + '/' + cause\\n                    df.loc[index, column] = item.replace(cause, \\\"\\\").strip()\\n                else:\\n                    df.loc[index, \\\"cause_of_death\\\"] = cause\\n                    df.loc[index, column] = item.replace(cause, \\\"\\\").strip()\\n\\n# Checking number of cause_of_death values\\nprint(\\n    f'There are {df[\\\"cause_of_death\\\"].notna().sum()} values in cause_of_death column.\\\\n'\\n)\";\n",
       "                var nbb_formatted_code = \"%%time\\n\\n# Column to search\\ncolumn = \\\"info_parenth_copy\\\"\\n\\n# Dataframe to search\\ndataframe = df[df[column].notna()]\\n\\n# For loop to extract cause from column to cause_of_death\\nfor cause in cause_of_death:\\n    for index in dataframe.index:\\n        item = df.loc[index, column]\\n        if item:\\n            if cause in item:\\n                if df.loc[index, 'cause_of_death']:\\n                    df.loc[index, 'cause_of_death'] = df.loc[index, 'cause_of_death'] + '/' + cause\\n                    df.loc[index, column] = item.replace(cause, \\\"\\\").strip()\\n                else:\\n                    df.loc[index, \\\"cause_of_death\\\"] = cause\\n                    df.loc[index, column] = item.replace(cause, \\\"\\\").strip()\\n\\n# Checking number of cause_of_death values\\nprint(\\n    f'There are {df[\\\"cause_of_death\\\"].notna().sum()} values in cause_of_death column.\\\\n'\\n)\";\n",
       "                var nbb_cells = Jupyter.notebook.get_cells();\n",
       "                for (var i = 0; i < nbb_cells.length; ++i) {\n",
       "                    if (nbb_cells[i].input_prompt_number == nbb_cell_id) {\n",
       "                        if (nbb_cells[i].get_text() == nbb_unformatted_code) {\n",
       "                             nbb_cells[i].set_text(nbb_formatted_code);\n",
       "                        }\n",
       "                        break;\n",
       "                    }\n",
       "                }\n",
       "            }, 500);\n",
       "            "
      ],
      "text/plain": [
       "<IPython.core.display.Javascript object>"
      ]
     },
     "metadata": {},
     "output_type": "display_data"
    }
   ],
   "source": [
    "%%time\n",
    "\n",
    "# Column to search\n",
    "column = \"info_parenth_copy\"\n",
    "\n",
    "# Dataframe to search\n",
    "dataframe = df[df[column].notna()]\n",
    "\n",
    "# For loop to extract cause from column to cause_of_death\n",
    "for cause in cause_of_death:\n",
    "    for index in dataframe.index:\n",
    "        item = df.loc[index, column]\n",
    "        if item:\n",
    "            if cause in item:\n",
    "                if df.loc[index, 'cause_of_death']:\n",
    "                    df.loc[index, 'cause_of_death'] = df.loc[index, 'cause_of_death'] + '/' + cause\n",
    "                    df.loc[index, column] = item.replace(cause, \"\").strip()\n",
    "                else:\n",
    "                    df.loc[index, \"cause_of_death\"] = cause\n",
    "                    df.loc[index, column] = item.replace(cause, \"\").strip()\n",
    "\n",
    "# Checking number of cause_of_death values\n",
    "print(\n",
    "    f'There are {df[\"cause_of_death\"].notna().sum()} values in cause_of_death column.\\n'\n",
    ")"
   ]
  },
  {
   "cell_type": "markdown",
   "id": "be72b4db",
   "metadata": {},
   "source": [
    "#### Observations:\n",
    "- We extracted ~130 values to `cause_of_death` with our last search.\n",
    "- There are additional category values in `info_parenth_copy` that were not previously captured.  The challenge of searching this column is that it has a very high proportion of unique values, so the cost of capturing the additional may be too high.\n",
    "- Let us attempt to narrow the search by restricting it to most frequent key words, such as \"MP\", etc., then only search `info_parenth_copy` values for them for entries that do not already have the associated category."
   ]
  },
  {
   "cell_type": "markdown",
   "id": "2e229c4a",
   "metadata": {},
   "source": [
    "### Search of `info_parenth_copy` for Additional `known_for` Categories with Constraints"
   ]
  },
  {
   "cell_type": "markdown",
   "id": "258b972c",
   "metadata": {},
   "source": [
    "#### Checking Initial Value Counts for `info_parenth_copy`"
   ]
  },
  {
   "cell_type": "code",
   "execution_count": 25,
   "id": "8aa8c2f2",
   "metadata": {},
   "outputs": [
    {
     "data": {
      "text/plain": [
       "                                           12570\n",
       ", ,                                         3293\n",
       ",                                           1999\n",
       "since                                       1202\n",
       "national team                                167\n",
       "                                           ...  \n",
       "Silver Oak Cellars                             1\n",
       ", Foreign Secretary                            1\n",
       "UCLA, Milwaukee Bucks                          1\n",
       "Brownsville Station                            1\n",
       "and minister of industry and technology        1\n",
       "Name: info_parenth_copy, Length: 13248, dtype: int64"
      ]
     },
     "execution_count": 25,
     "metadata": {},
     "output_type": "execute_result"
    },
    {
     "data": {
      "application/javascript": [
       "\n",
       "            setTimeout(function() {\n",
       "                var nbb_cell_id = 25;\n",
       "                var nbb_unformatted_code = \"# Checking info_parenth_copy initial value counts\\ndf[\\\"info_parenth_copy\\\"].value_counts()\";\n",
       "                var nbb_formatted_code = \"# Checking info_parenth_copy initial value counts\\ndf[\\\"info_parenth_copy\\\"].value_counts()\";\n",
       "                var nbb_cells = Jupyter.notebook.get_cells();\n",
       "                for (var i = 0; i < nbb_cells.length; ++i) {\n",
       "                    if (nbb_cells[i].input_prompt_number == nbb_cell_id) {\n",
       "                        if (nbb_cells[i].get_text() == nbb_unformatted_code) {\n",
       "                             nbb_cells[i].set_text(nbb_formatted_code);\n",
       "                        }\n",
       "                        break;\n",
       "                    }\n",
       "                }\n",
       "            }, 500);\n",
       "            "
      ],
      "text/plain": [
       "<IPython.core.display.Javascript object>"
      ]
     },
     "metadata": {},
     "output_type": "display_data"
    }
   ],
   "source": [
    "# Checking info_parenth_copy initial value counts\n",
    "df[\"info_parenth_copy\"].value_counts()"
   ]
  },
  {
   "cell_type": "markdown",
   "id": "99782668",
   "metadata": {},
   "source": [
    "#### Observations:\n",
    "- Almost 1/3 of `info_parenth_copy` values are unique, so we will aim to streamline the search for information that will add a new category to an entry, but not take excessive time.  By definition, information in parentheses is anticipated to add detail that is non-essential to the primary information."
   ]
  },
  {
   "cell_type": "markdown",
   "id": "c97b1602",
   "metadata": {},
   "source": [
    "#### Function to Save Indices of Rows Matching Regular Expressions Pattern to a List and Print Number of Rows with Match"
   ]
  },
  {
   "cell_type": "code",
   "execution_count": 26,
   "id": "28f76d9c",
   "metadata": {},
   "outputs": [
    {
     "data": {
      "application/javascript": [
       "\n",
       "            setTimeout(function() {\n",
       "                var nbb_cell_id = 26;\n",
       "                var nbb_unformatted_code = \"# Define a function that takes dataframe, column name, and re pattern as arguments and returns list of indices\\n# for which column value matches re pattern\\ndef rows_with_pattern(dataframe, column, pattern):\\n    \\\"\\\"\\\"\\n    Takes input of dataframe, column name, and re pattern \\n    and returns list of indices for rows that contain match\\n    for pattern anywhere within value for given column.\\n    \\n    dataframe: dataframe\\n    column: column name\\n    pattern: re pattern\\n    \\\"\\\"\\\"\\n    index_list = []\\n\\n    for i in dataframe.index:\\n        item = dataframe.loc[i, column]\\n        match = re.search(pattern, item)\\n        if match:\\n            index_list.append(i)\\n    print(\\n        f\\\"There are {len(index_list)} rows with matching pattern in column '{column}'.\\\"\\n    )\\n    return index_list\";\n",
       "                var nbb_formatted_code = \"# Define a function that takes dataframe, column name, and re pattern as arguments and returns list of indices\\n# for which column value matches re pattern\\ndef rows_with_pattern(dataframe, column, pattern):\\n    \\\"\\\"\\\"\\n    Takes input of dataframe, column name, and re pattern \\n    and returns list of indices for rows that contain match\\n    for pattern anywhere within value for given column.\\n    \\n    dataframe: dataframe\\n    column: column name\\n    pattern: re pattern\\n    \\\"\\\"\\\"\\n    index_list = []\\n\\n    for i in dataframe.index:\\n        item = dataframe.loc[i, column]\\n        match = re.search(pattern, item)\\n        if match:\\n            index_list.append(i)\\n    print(\\n        f\\\"There are {len(index_list)} rows with matching pattern in column '{column}'.\\\"\\n    )\\n    return index_list\";\n",
       "                var nbb_cells = Jupyter.notebook.get_cells();\n",
       "                for (var i = 0; i < nbb_cells.length; ++i) {\n",
       "                    if (nbb_cells[i].input_prompt_number == nbb_cell_id) {\n",
       "                        if (nbb_cells[i].get_text() == nbb_unformatted_code) {\n",
       "                             nbb_cells[i].set_text(nbb_formatted_code);\n",
       "                        }\n",
       "                        break;\n",
       "                    }\n",
       "                }\n",
       "            }, 500);\n",
       "            "
      ],
      "text/plain": [
       "<IPython.core.display.Javascript object>"
      ]
     },
     "metadata": {},
     "output_type": "display_data"
    }
   ],
   "source": [
    "# Define a function that takes dataframe, column name, and re pattern as arguments and returns list of indices\n",
    "# for which column value matches re pattern\n",
    "def rows_with_pattern(dataframe, column, pattern):\n",
    "    \"\"\"\n",
    "    Takes input of dataframe, column name, and re pattern \n",
    "    and returns list of indices for rows that contain match\n",
    "    for pattern anywhere within value for given column.\n",
    "    \n",
    "    dataframe: dataframe\n",
    "    column: column name\n",
    "    pattern: re pattern\n",
    "    \"\"\"\n",
    "    index_list = []\n",
    "\n",
    "    for i in dataframe.index:\n",
    "        item = dataframe.loc[i, column]\n",
    "        match = re.search(pattern, item)\n",
    "        if match:\n",
    "            index_list.append(i)\n",
    "    print(\n",
    "        f\"There are {len(index_list)} rows with matching pattern in column '{column}'.\"\n",
    "    )\n",
    "    return index_list"
   ]
  },
  {
   "cell_type": "markdown",
   "id": "dfde951d",
   "metadata": {},
   "source": [
    "#### Function to Use rows_with_pattern Function for Multiple Regular Expression Patterns"
   ]
  },
  {
   "cell_type": "code",
   "execution_count": 27,
   "id": "19468d11",
   "metadata": {},
   "outputs": [
    {
     "data": {
      "application/javascript": [
       "\n",
       "            setTimeout(function() {\n",
       "                var nbb_cell_id = 27;\n",
       "                var nbb_unformatted_code = \"# Define a function that calls rows_with_pattern function for multiple re patterns\\n# returning a single list of indices for all rows with any pattern match\\n\\n\\ndef multiple_patterns(dataframe, column, patterns):\\n    \\\"\\\"\\\"\\n    Takes input dataframe, column, and list of re patterns and returns single list \\n    of indices for rows in which a match for any pattern is found with re.search\\n    \\n    dataframe: dataframe\\n    column: column name\\n    patterns: list of re patterns\\n    \\\"\\\"\\\"\\n    rows_combined = []\\n\\n    # For loop to check each pattern\\n    for pattern in patterns:\\n\\n        # List and number of rows matching each pattern\\n        print(pattern)\\n        rows_to_check = rows_with_pattern(dataframe, column, pattern)\\n        print(\\\"\\\")\\n\\n        # Add list for each pattern to combined list\\n        rows_combined += rows_to_check\\n\\n    return rows_combined\";\n",
       "                var nbb_formatted_code = \"# Define a function that calls rows_with_pattern function for multiple re patterns\\n# returning a single list of indices for all rows with any pattern match\\n\\n\\ndef multiple_patterns(dataframe, column, patterns):\\n    \\\"\\\"\\\"\\n    Takes input dataframe, column, and list of re patterns and returns single list \\n    of indices for rows in which a match for any pattern is found with re.search\\n    \\n    dataframe: dataframe\\n    column: column name\\n    patterns: list of re patterns\\n    \\\"\\\"\\\"\\n    rows_combined = []\\n\\n    # For loop to check each pattern\\n    for pattern in patterns:\\n\\n        # List and number of rows matching each pattern\\n        print(pattern)\\n        rows_to_check = rows_with_pattern(dataframe, column, pattern)\\n        print(\\\"\\\")\\n\\n        # Add list for each pattern to combined list\\n        rows_combined += rows_to_check\\n\\n    return rows_combined\";\n",
       "                var nbb_cells = Jupyter.notebook.get_cells();\n",
       "                for (var i = 0; i < nbb_cells.length; ++i) {\n",
       "                    if (nbb_cells[i].input_prompt_number == nbb_cell_id) {\n",
       "                        if (nbb_cells[i].get_text() == nbb_unformatted_code) {\n",
       "                             nbb_cells[i].set_text(nbb_formatted_code);\n",
       "                        }\n",
       "                        break;\n",
       "                    }\n",
       "                }\n",
       "            }, 500);\n",
       "            "
      ],
      "text/plain": [
       "<IPython.core.display.Javascript object>"
      ]
     },
     "metadata": {},
     "output_type": "display_data"
    }
   ],
   "source": [
    "# Define a function that calls rows_with_pattern function for multiple re patterns\n",
    "# returning a single list of indices for all rows with any pattern match\n",
    "\n",
    "\n",
    "def multiple_patterns(dataframe, column, patterns):\n",
    "    \"\"\"\n",
    "    Takes input dataframe, column, and list of re patterns and returns single list \n",
    "    of indices for rows in which a match for any pattern is found with re.search\n",
    "    \n",
    "    dataframe: dataframe\n",
    "    column: column name\n",
    "    patterns: list of re patterns\n",
    "    \"\"\"\n",
    "    rows_combined = []\n",
    "\n",
    "    # For loop to check each pattern\n",
    "    for pattern in patterns:\n",
    "\n",
    "        # List and number of rows matching each pattern\n",
    "        print(pattern)\n",
    "        rows_to_check = rows_with_pattern(dataframe, column, pattern)\n",
    "        print(\"\")\n",
    "\n",
    "        # Add list for each pattern to combined list\n",
    "        rows_combined += rows_to_check\n",
    "\n",
    "    return rows_combined"
   ]
  },
  {
   "cell_type": "markdown",
   "id": "8f2d4d3e",
   "metadata": {},
   "source": [
    "#### Checking a Sample of `info_parenth_copy` Unique Values"
   ]
  },
  {
   "cell_type": "code",
   "execution_count": 28,
   "id": "24730a5f",
   "metadata": {},
   "outputs": [
    {
     "data": {
      "text/plain": [
       "3264                                                        The Blues Brothers & Howlin' Wolf\n",
       "1669                                                                               Bodø Glimt\n",
       "10003                                                                       Waterford Crystal\n",
       "11936                                                                       The Ascent of Man\n",
       "2570                                      UCLA Bruins and coach Oregon State Beavers, Raiders\n",
       "11204                                               Lord Avie, awarded Dogwood Dominion Award\n",
       "3713                                                    Doncaster Rovers, Scarborough, Barrow\n",
       "614                                                                    Burnley, national team\n",
       "8412                                                           C D Guadalajara, national team\n",
       "2403                                                               FK Priština, FK Milicionar\n",
       "11920                                                                   , Governor of Limburg\n",
       "5686                                         CR Belouizdad, national team and manager Chéraga\n",
       "9222                        District Judge of the District Court for the Southern District of\n",
       "12817                                                                 , , world record holder\n",
       "2159                                                                   Alcorn State, Southern\n",
       "461                                                                     Celtic, national team\n",
       "7751                                                Linfield, Hibernian, Sunderland, Northern\n",
       "4098                                                                         The Memphis Boys\n",
       "1347                                                                     Bury, Crystal Palace\n",
       "8573                                                                      , Interior Minister\n",
       "4773                                                                               Blue Peter\n",
       "7752                                                                                  FreeDOS\n",
       "1210                                                                       Viennese Actionism\n",
       "1790                                                                            Albion Rovers\n",
       "639                                                       Big Brother and the Holding Company\n",
       "7326                                                                        No Use for a Name\n",
       "3126                                                                 North Carolina Tar Heels\n",
       "9097                                                             City Council, State Assembly\n",
       "11596                                                                         , , and actor ,\n",
       "11076                                                 and Mayor of Cape Regional Municipality\n",
       "878                                                                                 Berkshire\n",
       "8524                                                                              Yothu Yindi\n",
       "8105                                             Ambassador and diplomat, to Czechoslovakia ;\n",
       "11640                                                      and rector of University of Ankara\n",
       "5730                                                                         Widespread Panic\n",
       "276                                                                        Metropolitan Opera\n",
       "918                                                                                 Leicester\n",
       "4337                                                                      and cinematographer\n",
       "11205                                         Sporting de Gijón, F C Barcelona, national team\n",
       "11022                                                                         platform tennis\n",
       "8259                                                                          Cronulla Sharks\n",
       "5651                                                                    and New Brunswick MLA\n",
       "10536                                                                   Sparta, national team\n",
       "5386                             , ambassador to the and , vice president of the Senate since\n",
       "7143                                    Chicago Stags, Tri Cities Blackhawks, Milwaukee Hawks\n",
       "10333                                                                        Brooklyn Hispano\n",
       "7897                                                                  \"De vogels van Holland\"\n",
       "7902                                                     Michael Eisner, Jim Henson, Dr Seuss\n",
       "3318                          , Vice Chairman of the People Political Consultative Conference\n",
       "7318                                                              BC Lions, Toronto Argonauts\n",
       "5244                                                                             Bronski Beat\n",
       "10252                                                                           NWA, AWA, WWE\n",
       "6338                                                 Cardiacs, The Sea Nymphs, Spratleys Japs\n",
       "12927                                  , Mayor of North Shore City , High Commissioner to the\n",
       "9216                                                              Playwrights Theatre Club, ,\n",
       "10550                                                             Assistant Attorney General,\n",
       "11911                                             Lakers and television broadcaster Utah Jazz\n",
       "2702                                           \"Respect\", \"Chain of Fools\", \"A Natural Woman\"\n",
       "4739                        since , mayor of Junín Partido and Buenos Aires provincial deputy\n",
       "9871                                                                   Falkirk, Airdrieonians\n",
       "12763                                                        Auckland, and cricketer Auckland\n",
       "12330                                                            Derby County, Crystal Palace\n",
       "5779            Boston Celtics and coach Georgetown Hoyas, national champion , NBA champion ,\n",
       "5754                                                      Bihor Oradea, Siófok, national team\n",
       "4820                                                and the Rochester Institute of Technology\n",
       "12950    \"Anyone Who Had a Heart\", \"You're My World\", \"Step Inside Love\" and TV presenter , ,\n",
       "3440                                                                              Arts Centre\n",
       "5132                                               , , choreographer and television presenter\n",
       "7286                                                            , Governor of Río Negro since\n",
       "2297                                                                           Électricité de\n",
       "3328                                                      Crewe Alexandra, Port Vale, Wrexham\n",
       "9813                                                                                    Calif\n",
       "1472                                  Green Bay Packers and coach New Patriots, Buffalo Bills\n",
       "11707                                , , MP for Inverness—Richmond , and Cape Highlands—Canso\n",
       "770                                                                                    RFE RL\n",
       "5803                                             Young Africans, Ruvu Shooting, national team\n",
       "9567                                                                                    Wilco\n",
       "5025                                                  Racing Club, Fernández Vial, Concepción\n",
       "7839                                                                       , Foreign Minister\n",
       "2204                                                                           The Stranglers\n",
       "3905                                              PTT, İstanbulspor and manager national team\n",
       "5531                                             , minister of national defence and transport\n",
       "2479                 Foo Fighters, Taylor Hawkins and the Coattail Riders, The Birds of Satan\n",
       "6720                                              Crystal Palace death announced on this date\n",
       "9473                                                                        Steve Miller Band\n",
       "2748                                                                             Oilers, Jets\n",
       "8341                                            Fresno State, Wichita State, Stephen F Austin\n",
       "8099                                                                 Apollo Guidance Computer\n",
       "12605                                                            Kansas City Southern Railway\n",
       "6587                                                               Oilers, San Diego Chargers\n",
       "12706                                                                 Jets, Super Bowl winner\n",
       "12598                                        , member of the Arizona House of Representatives\n",
       "7703                           Milwaukee Braves, Kansas City Athletics, Philadelphia Phillies\n",
       "364                                                                                Stoke City\n",
       "9876                                                                                     SNC,\n",
       "11284                               Indianapolis Ice, Milwaukee Admirals and executive Hockey\n",
       "1218                                              Emmy, and television title designer, winner\n",
       "4839                                                                                      WWC\n",
       "7798                                                                        ; , MP for Skeena\n",
       "6959                                                          Leotar, Sarajevo, Dinamo Zagreb\n",
       "dtype: object"
      ]
     },
     "execution_count": 28,
     "metadata": {},
     "output_type": "execute_result"
    },
    {
     "data": {
      "application/javascript": [
       "\n",
       "            setTimeout(function() {\n",
       "                var nbb_cell_id = 28;\n",
       "                var nbb_unformatted_code = \"# Checking a sample of info_parenth_copy Unique Values\\npd.Series(df[\\\"info_parenth_copy\\\"].value_counts().index.tolist()).sample(100)\";\n",
       "                var nbb_formatted_code = \"# Checking a sample of info_parenth_copy Unique Values\\npd.Series(df[\\\"info_parenth_copy\\\"].value_counts().index.tolist()).sample(100)\";\n",
       "                var nbb_cells = Jupyter.notebook.get_cells();\n",
       "                for (var i = 0; i < nbb_cells.length; ++i) {\n",
       "                    if (nbb_cells[i].input_prompt_number == nbb_cell_id) {\n",
       "                        if (nbb_cells[i].get_text() == nbb_unformatted_code) {\n",
       "                             nbb_cells[i].set_text(nbb_formatted_code);\n",
       "                        }\n",
       "                        break;\n",
       "                    }\n",
       "                }\n",
       "            }, 500);\n",
       "            "
      ],
      "text/plain": [
       "<IPython.core.display.Javascript object>"
      ]
     },
     "metadata": {},
     "output_type": "display_data"
    }
   ],
   "source": [
    "# Checking a sample of info_parenth_copy Unique Values\n",
    "pd.Series(df[\"info_parenth_copy\"].value_counts().index.tolist()).sample(100)"
   ]
  },
  {
   "cell_type": "markdown",
   "id": "6c23a798",
   "metadata": {},
   "source": [
    "#### Observations:\n",
    "- We can see that many of the values are proper nouns of places, people, or titles (some in quotations).  \n",
    "- First, we can drop the titles in quotations using regular expressions.\n",
    "-  Then we will take an approach of combining all of the values into a single list, then converting to a single string, then back to a list, to reduce then reduce to a set of individual word values that can be prioritized."
   ]
  },
  {
   "cell_type": "markdown",
   "id": "1b8c0caa",
   "metadata": {},
   "source": [
    "#### Step 1:  Checking and Dropping Titles in Quotations from `info_parenth_copy`"
   ]
  },
  {
   "cell_type": "code",
   "execution_count": 29,
   "id": "09700fa1",
   "metadata": {},
   "outputs": [
    {
     "name": "stdout",
     "output_type": "stream",
     "text": [
      "There are 676 rows with matching pattern in column 'info_parenth_copy'.\n"
     ]
    },
    {
     "data": {
      "text/html": [
       "<div>\n",
       "<style scoped>\n",
       "    .dataframe tbody tr th:only-of-type {\n",
       "        vertical-align: middle;\n",
       "    }\n",
       "\n",
       "    .dataframe tbody tr th {\n",
       "        vertical-align: top;\n",
       "    }\n",
       "\n",
       "    .dataframe thead th {\n",
       "        text-align: right;\n",
       "    }\n",
       "</style>\n",
       "<table border=\"1\" class=\"dataframe\">\n",
       "  <thead>\n",
       "    <tr style=\"text-align: right;\">\n",
       "      <th></th>\n",
       "      <th>day</th>\n",
       "      <th>name</th>\n",
       "      <th>info</th>\n",
       "      <th>link</th>\n",
       "      <th>num_references</th>\n",
       "      <th>year</th>\n",
       "      <th>month</th>\n",
       "      <th>info_parenth</th>\n",
       "      <th>age</th>\n",
       "      <th>cause_of_death</th>\n",
       "      <th>place_1</th>\n",
       "      <th>place_2</th>\n",
       "      <th>info_parenth_copy</th>\n",
       "      <th>log_num_references</th>\n",
       "      <th>sciences</th>\n",
       "      <th>social</th>\n",
       "      <th>spiritual</th>\n",
       "      <th>academia_humanities</th>\n",
       "      <th>business_farming</th>\n",
       "      <th>arts</th>\n",
       "      <th>sports</th>\n",
       "      <th>law_enf_military_operator</th>\n",
       "      <th>politics_govt_law</th>\n",
       "      <th>crime</th>\n",
       "      <th>event_record_other</th>\n",
       "      <th>other_species</th>\n",
       "      <th>num_categories</th>\n",
       "    </tr>\n",
       "  </thead>\n",
       "  <tbody>\n",
       "    <tr>\n",
       "      <th>86722</th>\n",
       "      <td>13</td>\n",
       "      <td>Duke Bootee</td>\n",
       "      <td>, 69, American rapper and songwriter , heart failure.</td>\n",
       "      <td>https://en.wikipedia.org/wiki/Duke_Bootee</td>\n",
       "      <td>6</td>\n",
       "      <td>2021</td>\n",
       "      <td>January</td>\n",
       "      <td>\"The Message\"</td>\n",
       "      <td>69.0</td>\n",
       "      <td>heart failure</td>\n",
       "      <td>United States of America</td>\n",
       "      <td>None</td>\n",
       "      <td>\"The Message\"</td>\n",
       "      <td>1.945910</td>\n",
       "      <td>0</td>\n",
       "      <td>0</td>\n",
       "      <td>0</td>\n",
       "      <td>0</td>\n",
       "      <td>0</td>\n",
       "      <td>1</td>\n",
       "      <td>0</td>\n",
       "      <td>0</td>\n",
       "      <td>0</td>\n",
       "      <td>0</td>\n",
       "      <td>0</td>\n",
       "      <td>0</td>\n",
       "      <td>1</td>\n",
       "    </tr>\n",
       "    <tr>\n",
       "      <th>91800</th>\n",
       "      <td>4</td>\n",
       "      <td>Paul Johnson</td>\n",
       "      <td>, 50, American DJ  and record producer, COVID-19.</td>\n",
       "      <td>https://en.wikipedia.org/wiki/Paul_Johnson_(producer)</td>\n",
       "      <td>13</td>\n",
       "      <td>2021</td>\n",
       "      <td>August</td>\n",
       "      <td>\"Get Get Down\"</td>\n",
       "      <td>50.0</td>\n",
       "      <td>COVID</td>\n",
       "      <td>United States of America</td>\n",
       "      <td>None</td>\n",
       "      <td>\"Get Get Down\"</td>\n",
       "      <td>2.639057</td>\n",
       "      <td>0</td>\n",
       "      <td>0</td>\n",
       "      <td>0</td>\n",
       "      <td>0</td>\n",
       "      <td>0</td>\n",
       "      <td>1</td>\n",
       "      <td>0</td>\n",
       "      <td>0</td>\n",
       "      <td>0</td>\n",
       "      <td>0</td>\n",
       "      <td>0</td>\n",
       "      <td>0</td>\n",
       "      <td>1</td>\n",
       "    </tr>\n",
       "  </tbody>\n",
       "</table>\n",
       "</div>"
      ],
      "text/plain": [
       "      day          name  \\\n",
       "86722  13   Duke Bootee   \n",
       "91800   4  Paul Johnson   \n",
       "\n",
       "                                                        info  \\\n",
       "86722  , 69, American rapper and songwriter , heart failure.   \n",
       "91800      , 50, American DJ  and record producer, COVID-19.   \n",
       "\n",
       "                                                        link  num_references  \\\n",
       "86722              https://en.wikipedia.org/wiki/Duke_Bootee               6   \n",
       "91800  https://en.wikipedia.org/wiki/Paul_Johnson_(producer)              13   \n",
       "\n",
       "       year    month    info_parenth   age cause_of_death  \\\n",
       "86722  2021  January   \"The Message\"  69.0  heart failure   \n",
       "91800  2021   August  \"Get Get Down\"  50.0          COVID   \n",
       "\n",
       "                        place_1 place_2 info_parenth_copy  log_num_references  \\\n",
       "86722  United States of America    None     \"The Message\"            1.945910   \n",
       "91800  United States of America    None    \"Get Get Down\"            2.639057   \n",
       "\n",
       "       sciences  social  spiritual  academia_humanities  business_farming  \\\n",
       "86722         0       0          0                    0                 0   \n",
       "91800         0       0          0                    0                 0   \n",
       "\n",
       "       arts  sports  law_enf_military_operator  politics_govt_law  crime  \\\n",
       "86722     1       0                          0                  0      0   \n",
       "91800     1       0                          0                  0      0   \n",
       "\n",
       "       event_record_other  other_species  num_categories  \n",
       "86722                   0              0               1  \n",
       "91800                   0              0               1  "
      ]
     },
     "execution_count": 29,
     "metadata": {},
     "output_type": "execute_result"
    },
    {
     "data": {
      "application/javascript": [
       "\n",
       "            setTimeout(function() {\n",
       "                var nbb_cell_id = 29;\n",
       "                var nbb_unformatted_code = \"# Column to check\\ncolumn = \\\"info_parenth_copy\\\"\\n\\n# Dataframe to check\\ndataframe = df[df[column].notna()]\\n\\n# Patterns for re\\npattern = f'\\\".*\\\"'\\n\\n# Finding indices of rows that do and do not have pattern\\nrows_to_check = rows_with_pattern(dataframe, column, pattern)\\n\\n# Checking a sample of rows\\ndf.loc[rows_to_check, :].sample(2)\";\n",
       "                var nbb_formatted_code = \"# Column to check\\ncolumn = \\\"info_parenth_copy\\\"\\n\\n# Dataframe to check\\ndataframe = df[df[column].notna()]\\n\\n# Patterns for re\\npattern = f'\\\".*\\\"'\\n\\n# Finding indices of rows that do and do not have pattern\\nrows_to_check = rows_with_pattern(dataframe, column, pattern)\\n\\n# Checking a sample of rows\\ndf.loc[rows_to_check, :].sample(2)\";\n",
       "                var nbb_cells = Jupyter.notebook.get_cells();\n",
       "                for (var i = 0; i < nbb_cells.length; ++i) {\n",
       "                    if (nbb_cells[i].input_prompt_number == nbb_cell_id) {\n",
       "                        if (nbb_cells[i].get_text() == nbb_unformatted_code) {\n",
       "                             nbb_cells[i].set_text(nbb_formatted_code);\n",
       "                        }\n",
       "                        break;\n",
       "                    }\n",
       "                }\n",
       "            }, 500);\n",
       "            "
      ],
      "text/plain": [
       "<IPython.core.display.Javascript object>"
      ]
     },
     "metadata": {},
     "output_type": "display_data"
    }
   ],
   "source": [
    "# Column to check\n",
    "column = \"info_parenth_copy\"\n",
    "\n",
    "# Dataframe to check\n",
    "dataframe = df[df[column].notna()]\n",
    "\n",
    "# Patterns for re\n",
    "pattern = f'\".*\"'\n",
    "\n",
    "# Finding indices of rows that do and do not have pattern\n",
    "rows_to_check = rows_with_pattern(dataframe, column, pattern)\n",
    "\n",
    "# Checking a sample of rows\n",
    "df.loc[rows_to_check, :].sample(2)"
   ]
  },
  {
   "cell_type": "code",
   "execution_count": 30,
   "id": "fe929d76",
   "metadata": {},
   "outputs": [
    {
     "data": {
      "text/html": [
       "<div>\n",
       "<style scoped>\n",
       "    .dataframe tbody tr th:only-of-type {\n",
       "        vertical-align: middle;\n",
       "    }\n",
       "\n",
       "    .dataframe tbody tr th {\n",
       "        vertical-align: top;\n",
       "    }\n",
       "\n",
       "    .dataframe thead th {\n",
       "        text-align: right;\n",
       "    }\n",
       "</style>\n",
       "<table border=\"1\" class=\"dataframe\">\n",
       "  <thead>\n",
       "    <tr style=\"text-align: right;\">\n",
       "      <th></th>\n",
       "      <th>day</th>\n",
       "      <th>name</th>\n",
       "      <th>info</th>\n",
       "      <th>link</th>\n",
       "      <th>num_references</th>\n",
       "      <th>year</th>\n",
       "      <th>month</th>\n",
       "      <th>info_parenth</th>\n",
       "      <th>age</th>\n",
       "      <th>cause_of_death</th>\n",
       "      <th>place_1</th>\n",
       "      <th>place_2</th>\n",
       "      <th>info_parenth_copy</th>\n",
       "      <th>log_num_references</th>\n",
       "      <th>sciences</th>\n",
       "      <th>social</th>\n",
       "      <th>spiritual</th>\n",
       "      <th>academia_humanities</th>\n",
       "      <th>business_farming</th>\n",
       "      <th>arts</th>\n",
       "      <th>sports</th>\n",
       "      <th>law_enf_military_operator</th>\n",
       "      <th>politics_govt_law</th>\n",
       "      <th>crime</th>\n",
       "      <th>event_record_other</th>\n",
       "      <th>other_species</th>\n",
       "      <th>num_categories</th>\n",
       "    </tr>\n",
       "  </thead>\n",
       "  <tbody>\n",
       "    <tr>\n",
       "      <th>41221</th>\n",
       "      <td>26</td>\n",
       "      <td>Fontella Bass</td>\n",
       "      <td>, 72, American singer , complications from a heart attack.</td>\n",
       "      <td>https://en.wikipedia.org/wiki/Fontella_Bass</td>\n",
       "      <td>22</td>\n",
       "      <td>2012</td>\n",
       "      <td>December</td>\n",
       "      <td>\"Rescue Me\"</td>\n",
       "      <td>72.0</td>\n",
       "      <td>complications from a heart attack</td>\n",
       "      <td>United States of America</td>\n",
       "      <td>None</td>\n",
       "      <td></td>\n",
       "      <td>3.135494</td>\n",
       "      <td>0</td>\n",
       "      <td>0</td>\n",
       "      <td>0</td>\n",
       "      <td>0</td>\n",
       "      <td>0</td>\n",
       "      <td>1</td>\n",
       "      <td>0</td>\n",
       "      <td>0</td>\n",
       "      <td>0</td>\n",
       "      <td>0</td>\n",
       "      <td>0</td>\n",
       "      <td>0</td>\n",
       "      <td>1</td>\n",
       "    </tr>\n",
       "    <tr>\n",
       "      <th>83323</th>\n",
       "      <td>3</td>\n",
       "      <td>Michael Peter Smith</td>\n",
       "      <td>, 78, American songwriter , colon cancer.</td>\n",
       "      <td>https://en.wikipedia.org/wiki/Michael_Peter_Smith</td>\n",
       "      <td>15</td>\n",
       "      <td>2020</td>\n",
       "      <td>August</td>\n",
       "      <td>\"The Dutchman\"</td>\n",
       "      <td>78.0</td>\n",
       "      <td>colon cancer</td>\n",
       "      <td>United States of America</td>\n",
       "      <td>None</td>\n",
       "      <td></td>\n",
       "      <td>2.772589</td>\n",
       "      <td>0</td>\n",
       "      <td>0</td>\n",
       "      <td>0</td>\n",
       "      <td>0</td>\n",
       "      <td>0</td>\n",
       "      <td>1</td>\n",
       "      <td>0</td>\n",
       "      <td>0</td>\n",
       "      <td>0</td>\n",
       "      <td>0</td>\n",
       "      <td>0</td>\n",
       "      <td>0</td>\n",
       "      <td>1</td>\n",
       "    </tr>\n",
       "  </tbody>\n",
       "</table>\n",
       "</div>"
      ],
      "text/plain": [
       "      day                 name  \\\n",
       "41221  26        Fontella Bass   \n",
       "83323   3  Michael Peter Smith   \n",
       "\n",
       "                                                             info  \\\n",
       "41221  , 72, American singer , complications from a heart attack.   \n",
       "83323                   , 78, American songwriter , colon cancer.   \n",
       "\n",
       "                                                    link  num_references  \\\n",
       "41221        https://en.wikipedia.org/wiki/Fontella_Bass              22   \n",
       "83323  https://en.wikipedia.org/wiki/Michael_Peter_Smith              15   \n",
       "\n",
       "       year     month    info_parenth   age  \\\n",
       "41221  2012  December     \"Rescue Me\"  72.0   \n",
       "83323  2020    August  \"The Dutchman\"  78.0   \n",
       "\n",
       "                          cause_of_death                   place_1 place_2  \\\n",
       "41221  complications from a heart attack  United States of America    None   \n",
       "83323                       colon cancer  United States of America    None   \n",
       "\n",
       "      info_parenth_copy  log_num_references  sciences  social  spiritual  \\\n",
       "41221                              3.135494         0       0          0   \n",
       "83323                              2.772589         0       0          0   \n",
       "\n",
       "       academia_humanities  business_farming  arts  sports  \\\n",
       "41221                    0                 0     1       0   \n",
       "83323                    0                 0     1       0   \n",
       "\n",
       "       law_enf_military_operator  politics_govt_law  crime  \\\n",
       "41221                          0                  0      0   \n",
       "83323                          0                  0      0   \n",
       "\n",
       "       event_record_other  other_species  num_categories  \n",
       "41221                   0              0               1  \n",
       "83323                   0              0               1  "
      ]
     },
     "execution_count": 30,
     "metadata": {},
     "output_type": "execute_result"
    },
    {
     "data": {
      "application/javascript": [
       "\n",
       "            setTimeout(function() {\n",
       "                var nbb_cell_id = 30;\n",
       "                var nbb_unformatted_code = \"# For loop to extract quotations and characters within from info_parenth_copy\\nfor index in rows_to_check:\\n    item = df.loc[index, column]\\n    match = re.search(pattern, item)\\n    if match:\\n        df.loc[index, column] = re.sub(pattern, \\\"\\\", df.loc[index, column]).strip()\\n\\n# Recheck a sample of treated rows\\ndf.loc[rows_to_check, :].sample(2)\";\n",
       "                var nbb_formatted_code = \"# For loop to extract quotations and characters within from info_parenth_copy\\nfor index in rows_to_check:\\n    item = df.loc[index, column]\\n    match = re.search(pattern, item)\\n    if match:\\n        df.loc[index, column] = re.sub(pattern, \\\"\\\", df.loc[index, column]).strip()\\n\\n# Recheck a sample of treated rows\\ndf.loc[rows_to_check, :].sample(2)\";\n",
       "                var nbb_cells = Jupyter.notebook.get_cells();\n",
       "                for (var i = 0; i < nbb_cells.length; ++i) {\n",
       "                    if (nbb_cells[i].input_prompt_number == nbb_cell_id) {\n",
       "                        if (nbb_cells[i].get_text() == nbb_unformatted_code) {\n",
       "                             nbb_cells[i].set_text(nbb_formatted_code);\n",
       "                        }\n",
       "                        break;\n",
       "                    }\n",
       "                }\n",
       "            }, 500);\n",
       "            "
      ],
      "text/plain": [
       "<IPython.core.display.Javascript object>"
      ]
     },
     "metadata": {},
     "output_type": "display_data"
    }
   ],
   "source": [
    "# For loop to extract quotations and characters within from info_parenth_copy\n",
    "for index in rows_to_check:\n",
    "    item = df.loc[index, column]\n",
    "    match = re.search(pattern, item)\n",
    "    if match:\n",
    "        df.loc[index, column] = re.sub(pattern, \"\", df.loc[index, column]).strip()\n",
    "\n",
    "# Recheck a sample of treated rows\n",
    "df.loc[rows_to_check, :].sample(2)"
   ]
  },
  {
   "cell_type": "code",
   "execution_count": 32,
   "id": "e3acc917",
   "metadata": {},
   "outputs": [
    {
     "data": {
      "text/plain": [
       "                                            13061\n",
       ", ,                                          3293\n",
       ",                                            2000\n",
       "since                                        1202\n",
       "national team                                 167\n",
       "                                            ...  \n",
       ", President of the Governing Council            1\n",
       "Gloucestershire, Worcestershire,                1\n",
       "North Sydney, Eastern Suburbs, New South        1\n",
       "neuroendocrine, ,                               1\n",
       "and minister of industry and technology         1\n",
       "Name: info_parenth_copy, Length: 12723, dtype: int64"
      ]
     },
     "execution_count": 32,
     "metadata": {},
     "output_type": "execute_result"
    },
    {
     "data": {
      "application/javascript": [
       "\n",
       "            setTimeout(function() {\n",
       "                var nbb_cell_id = 32;\n",
       "                var nbb_unformatted_code = \"# Rechecking info_parenth_copy value counts\\ndf[\\\"info_parenth_copy\\\"].value_counts()\";\n",
       "                var nbb_formatted_code = \"# Rechecking info_parenth_copy value counts\\ndf[\\\"info_parenth_copy\\\"].value_counts()\";\n",
       "                var nbb_cells = Jupyter.notebook.get_cells();\n",
       "                for (var i = 0; i < nbb_cells.length; ++i) {\n",
       "                    if (nbb_cells[i].input_prompt_number == nbb_cell_id) {\n",
       "                        if (nbb_cells[i].get_text() == nbb_unformatted_code) {\n",
       "                             nbb_cells[i].set_text(nbb_formatted_code);\n",
       "                        }\n",
       "                        break;\n",
       "                    }\n",
       "                }\n",
       "            }, 500);\n",
       "            "
      ],
      "text/plain": [
       "<IPython.core.display.Javascript object>"
      ]
     },
     "metadata": {},
     "output_type": "display_data"
    }
   ],
   "source": [
    "# Rechecking info_parenth_copy value counts\n",
    "df[\"info_parenth_copy\"].value_counts()"
   ]
  },
  {
   "cell_type": "markdown",
   "id": "eb2bcb96",
   "metadata": {},
   "source": [
    "#### Observations:\n",
    "- Dropping song and other titles in quotations simplified the remaining values.\n",
    "- Next, we will create a single list of all of the values."
   ]
  },
  {
   "cell_type": "markdown",
   "id": "8bdb312a",
   "metadata": {},
   "source": [
    "#### Combining `info_parenth_copy` Values into a Single List of Unique Values for Searching"
   ]
  },
  {
   "cell_type": "code",
   "execution_count": 176,
   "id": "72a3030b",
   "metadata": {},
   "outputs": [
    {
     "name": "stdout",
     "output_type": "stream",
     "text": [
      "There are 2504 remaining unique individual words in roles_list.\n",
      "\n"
     ]
    },
    {
     "data": {
      "text/plain": [
       "Eels               3\n",
       "Timbers            3\n",
       "Cesena             3\n",
       "Galway             3\n",
       "Southeastern       3\n",
       "                ... \n",
       "manager          298\n",
       "University       335\n",
       "City             357\n",
       "national        1050\n",
       "team            1068\n",
       "Length: 2504, dtype: int64"
      ]
     },
     "execution_count": 176,
     "metadata": {},
     "output_type": "execute_result"
    },
    {
     "data": {
      "application/javascript": [
       "\n",
       "            setTimeout(function() {\n",
       "                var nbb_cell_id = 176;\n",
       "                var nbb_unformatted_code = \"# Creating a single list of info_parenth_copy values\\nroles_list = df[\\\"info_parenth_copy\\\"].value_counts().index.tolist()\\n\\n# Converting to a single string and removing commas, semicolons, and extra whitespace\\nroles_list = (\\n    \\\" \\\".join(roles_list).replace(\\\",\\\", \\\"\\\").replace(\\\";\\\", \\\"\\\").replace(\\\"  \\\", \\\" \\\").strip()\\n)\\n\\n# Splitting into a list of individual words and converting to a Series to easily check value counts\\nroles_list = roles_list.split()\\n\\n# Converting to a series for value_counts in ascending order for use of pop() on most frequent values first\\n# and dropping obvious extraneous values\\nroles_list = (\\n    pd.Series(roles_list)\\n    .value_counts(ascending=True)\\n    .drop([\\\"and\\\", \\\"of\\\", \\\"the\\\", \\\"The\\\", \\\"since\\\", \\\"on\\\", \\\"nd\\\", \\\"th\\\", \\\"for\\\"])\\n)\\n\\n# Dropping values that occur fewer than 3 times\\nroles_list = roles_list[roles_list > 2]\\n\\nprint(f\\\"There are {len(roles_list)} remaining unique individual words in roles_list.\\\\n\\\")\\nroles_list\";\n",
       "                var nbb_formatted_code = \"# Creating a single list of info_parenth_copy values\\nroles_list = df[\\\"info_parenth_copy\\\"].value_counts().index.tolist()\\n\\n# Converting to a single string and removing commas, semicolons, and extra whitespace\\nroles_list = (\\n    \\\" \\\".join(roles_list).replace(\\\",\\\", \\\"\\\").replace(\\\";\\\", \\\"\\\").replace(\\\"  \\\", \\\" \\\").strip()\\n)\\n\\n# Splitting into a list of individual words and converting to a Series to easily check value counts\\nroles_list = roles_list.split()\\n\\n# Converting to a series for value_counts in ascending order for use of pop() on most frequent values first\\n# and dropping obvious extraneous values\\nroles_list = (\\n    pd.Series(roles_list)\\n    .value_counts(ascending=True)\\n    .drop([\\\"and\\\", \\\"of\\\", \\\"the\\\", \\\"The\\\", \\\"since\\\", \\\"on\\\", \\\"nd\\\", \\\"th\\\", \\\"for\\\"])\\n)\\n\\n# Dropping values that occur fewer than 3 times\\nroles_list = roles_list[roles_list > 2]\\n\\nprint(f\\\"There are {len(roles_list)} remaining unique individual words in roles_list.\\\\n\\\")\\nroles_list\";\n",
       "                var nbb_cells = Jupyter.notebook.get_cells();\n",
       "                for (var i = 0; i < nbb_cells.length; ++i) {\n",
       "                    if (nbb_cells[i].input_prompt_number == nbb_cell_id) {\n",
       "                        if (nbb_cells[i].get_text() == nbb_unformatted_code) {\n",
       "                             nbb_cells[i].set_text(nbb_formatted_code);\n",
       "                        }\n",
       "                        break;\n",
       "                    }\n",
       "                }\n",
       "            }, 500);\n",
       "            "
      ],
      "text/plain": [
       "<IPython.core.display.Javascript object>"
      ]
     },
     "metadata": {},
     "output_type": "display_data"
    }
   ],
   "source": [
    "# Creating a single list of info_parenth_copy values\n",
    "roles_list = df[\"info_parenth_copy\"].value_counts().index.tolist()\n",
    "\n",
    "# Converting to a single string and removing commas, semicolons, and extra whitespace\n",
    "roles_list = (\n",
    "    \" \".join(roles_list).replace(\",\", \"\").replace(\";\", \"\").replace(\"  \", \" \").strip()\n",
    ")\n",
    "\n",
    "# Splitting into a list of individual words and converting to a Series to easily check value counts\n",
    "roles_list = roles_list.split()\n",
    "\n",
    "# Converting to a series for value_counts in ascending order for use of pop() on most frequent values first\n",
    "# and dropping obvious extraneous values\n",
    "roles_list = (\n",
    "    pd.Series(roles_list)\n",
    "    .value_counts(ascending=True)\n",
    "    .drop([\"and\", \"of\", \"the\", \"The\", \"since\", \"on\", \"nd\", \"th\", \"for\"])\n",
    ")\n",
    "\n",
    "# Dropping values that occur fewer than 3 times\n",
    "roles_list = roles_list[roles_list > 2]\n",
    "\n",
    "print(f\"There are {len(roles_list)} remaining unique individual words in roles_list.\\n\")\n",
    "roles_list"
   ]
  },
  {
   "cell_type": "code",
   "execution_count": 173,
   "id": "b9d7136f",
   "metadata": {},
   "outputs": [
    {
     "data": {
      "text/plain": [
       "Eels               3\n",
       "Timbers            3\n",
       "Cesena             3\n",
       "Galway             3\n",
       "Southeastern       3\n",
       "                ... \n",
       "manager          298\n",
       "University       335\n",
       "City             357\n",
       "national        1050\n",
       "team            1068\n",
       "Length: 2504, dtype: int64"
      ]
     },
     "execution_count": 173,
     "metadata": {},
     "output_type": "execute_result"
    },
    {
     "data": {
      "application/javascript": [
       "\n",
       "            setTimeout(function() {\n",
       "                var nbb_cell_id = 173;\n",
       "                var nbb_unformatted_code = \"roles_list\";\n",
       "                var nbb_formatted_code = \"roles_list\";\n",
       "                var nbb_cells = Jupyter.notebook.get_cells();\n",
       "                for (var i = 0; i < nbb_cells.length; ++i) {\n",
       "                    if (nbb_cells[i].input_prompt_number == nbb_cell_id) {\n",
       "                        if (nbb_cells[i].get_text() == nbb_unformatted_code) {\n",
       "                             nbb_cells[i].set_text(nbb_formatted_code);\n",
       "                        }\n",
       "                        break;\n",
       "                    }\n",
       "                }\n",
       "            }, 500);\n",
       "            "
      ],
      "text/plain": [
       "<IPython.core.display.Javascript object>"
      ]
     },
     "metadata": {},
     "output_type": "display_data"
    }
   ],
   "source": [
    "roles_list"
   ]
  },
  {
   "cell_type": "code",
   "execution_count": null,
   "id": "fc04c25b",
   "metadata": {},
   "outputs": [],
   "source": []
  },
  {
   "cell_type": "code",
   "execution_count": null,
   "id": "c3b7ad5f",
   "metadata": {},
   "outputs": [],
   "source": []
  },
  {
   "cell_type": "code",
   "execution_count": null,
   "id": "249dc649",
   "metadata": {},
   "outputs": [],
   "source": [
    "roles_list = df[\"info_parenth_copy\"].value_counts().index.tolist()\n",
    "[item.strip(\",; \") for item in roles_list].remove(\"\")"
   ]
  },
  {
   "cell_type": "code",
   "execution_count": null,
   "id": "eae483df",
   "metadata": {},
   "outputs": [],
   "source": [
    "\" \".join(roles_list)"
   ]
  },
  {
   "cell_type": "code",
   "execution_count": null,
   "id": "ba8b5a60",
   "metadata": {},
   "outputs": [],
   "source": []
  },
  {
   "cell_type": "code",
   "execution_count": null,
   "id": "1af04a00",
   "metadata": {},
   "outputs": [],
   "source": []
  },
  {
   "cell_type": "code",
   "execution_count": null,
   "id": "ecbe5c5d",
   "metadata": {},
   "outputs": [],
   "source": [
    "print(\"dunzo!\")\n",
    "\n",
    "# Sound notification when cell executes\n",
    "chime.success()"
   ]
  },
  {
   "cell_type": "code",
   "execution_count": null,
   "id": "e40e3f27",
   "metadata": {},
   "outputs": [],
   "source": []
  },
  {
   "cell_type": "code",
   "execution_count": null,
   "id": "db6c3c0c",
   "metadata": {},
   "outputs": [],
   "source": []
  },
  {
   "cell_type": "code",
   "execution_count": null,
   "id": "dce22fd9",
   "metadata": {},
   "outputs": [],
   "source": []
  },
  {
   "cell_type": "code",
   "execution_count": null,
   "id": "b8609f2e",
   "metadata": {},
   "outputs": [],
   "source": []
  },
  {
   "cell_type": "code",
   "execution_count": null,
   "id": "73659ec8",
   "metadata": {},
   "outputs": [],
   "source": []
  },
  {
   "cell_type": "code",
   "execution_count": null,
   "id": "a16ff517",
   "metadata": {},
   "outputs": [],
   "source": []
  },
  {
   "cell_type": "code",
   "execution_count": null,
   "id": "8992d649",
   "metadata": {},
   "outputs": [],
   "source": []
  },
  {
   "cell_type": "markdown",
   "id": "228a408c",
   "metadata": {},
   "source": [
    "#### Verifying that Values in info_3_0 Are Exhausted"
   ]
  },
  {
   "cell_type": "code",
   "execution_count": null,
   "id": "35aa9b12",
   "metadata": {},
   "outputs": [],
   "source": [
    "# # Verifying that `info_3_0` is exhausted\n",
    "# df[\"info_3_0\"].value_counts()"
   ]
  },
  {
   "cell_type": "markdown",
   "id": "bf13f70b",
   "metadata": {},
   "source": [
    "#### Dropping info_3_0"
   ]
  },
  {
   "cell_type": "code",
   "execution_count": null,
   "id": "d250ac10",
   "metadata": {},
   "outputs": [],
   "source": [
    "# # Dropping info_3_0\n",
    "# df.drop(\"info_3_0\", axis=1, inplace=True)\n",
    "\n",
    "# # Checking sample\n",
    "# df.sample()"
   ]
  },
  {
   "cell_type": "markdown",
   "id": "0f66697e",
   "metadata": {},
   "source": [
    "#### Observations:\n",
    "- Our search of column info_3_0 is finished and have dropped that column.\n",
    "- We will now save our dataset and pick back up in a new notebook."
   ]
  },
  {
   "cell_type": "markdown",
   "id": "1113a242",
   "metadata": {},
   "source": [
    "### Exporting Dataset to SQLite Database [wp_life_expect_clean8.db]()"
   ]
  },
  {
   "cell_type": "code",
   "execution_count": null,
   "id": "6008ac61",
   "metadata": {},
   "outputs": [],
   "source": [
    "# # Exporting dataframe\n",
    "\n",
    "# # Saving dataset in a SQLite database\n",
    "# conn = sql.connect(\"wp_life_expect_clean8.db\")\n",
    "# df.to_sql(\"wp_life_expect_clean8\", conn, index=False)\n",
    "\n",
    "# # Chime notification when cell executes\n",
    "# chime.success()"
   ]
  },
  {
   "cell_type": "markdown",
   "id": "11aacfcc",
   "metadata": {},
   "source": [
    "# [Proceed to Data Cleaning Part ]()"
   ]
  }
 ],
 "metadata": {
  "kernelspec": {
   "display_name": "Python 3 (ipykernel)",
   "language": "python",
   "name": "python3"
  },
  "language_info": {
   "codemirror_mode": {
    "name": "ipython",
    "version": 3
   },
   "file_extension": ".py",
   "mimetype": "text/x-python",
   "name": "python",
   "nbconvert_exporter": "python",
   "pygments_lexer": "ipython3",
   "version": "3.9.12"
  }
 },
 "nbformat": 4,
 "nbformat_minor": 5
}
