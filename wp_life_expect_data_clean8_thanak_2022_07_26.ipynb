{
 "cells": [
  {
   "cell_type": "markdown",
   "id": "316a0779",
   "metadata": {},
   "source": [
    "# Wikipedia Notable Life Expectancies\n",
    "# [Notebook  9: Data Cleaning Part 8](https://github.com/teresahanak/wikipedia-life-expectancy/blob/main/wp_life_expect_data_clean8_thanak_2022_07_26.ipynb)\n",
    "### Context\n",
    "\n",
    "The\n",
    "### Objective\n",
    "\n",
    "The\n",
    "### Data Dictionary\n",
    "- Feature: Description"
   ]
  },
  {
   "cell_type": "markdown",
   "id": "99245d51",
   "metadata": {},
   "source": [
    "### Importing Libraries"
   ]
  },
  {
   "cell_type": "code",
   "execution_count": 1,
   "id": "453bba83",
   "metadata": {},
   "outputs": [
    {
     "data": {
      "application/javascript": [
       "\n",
       "            setTimeout(function() {\n",
       "                var nbb_cell_id = 1;\n",
       "                var nbb_unformatted_code = \"# To structure code automatically\\n%load_ext nb_black\\n\\n# To import/export sqlite databases\\nimport sqlite3 as sql\\n\\n# To save/open python objects in pickle file\\nimport pickle\\n\\n# To help with reading, cleaning, and manipulating data\\nimport pandas as pd\\nimport numpy as np\\nimport re\\n\\n# To define maximum number of columns to be displayed in a dataframe\\npd.set_option(\\\"display.max_columns\\\", None)\\n# To define the maximum number of rows to be displayed in a dataframe\\npd.set_option(\\\"display.max_rows\\\", 200)\\n\\n# To supress warnings\\n# import warnings\\n\\n# warnings.filterwarnings(\\\"ignore\\\")\\n\\n# To set some visualization attributes\\npd.set_option(\\\"max_colwidth\\\", 150)\\n\\n# To play auditory cue when cell has executed, has warning, or has error and set chime theme\\nimport chime\\n\\nchime.theme(\\\"zelda\\\")\";\n",
       "                var nbb_formatted_code = \"# To structure code automatically\\n%load_ext nb_black\\n\\n# To import/export sqlite databases\\nimport sqlite3 as sql\\n\\n# To save/open python objects in pickle file\\nimport pickle\\n\\n# To help with reading, cleaning, and manipulating data\\nimport pandas as pd\\nimport numpy as np\\nimport re\\n\\n# To define maximum number of columns to be displayed in a dataframe\\npd.set_option(\\\"display.max_columns\\\", None)\\n# To define the maximum number of rows to be displayed in a dataframe\\npd.set_option(\\\"display.max_rows\\\", 200)\\n\\n# To supress warnings\\n# import warnings\\n\\n# warnings.filterwarnings(\\\"ignore\\\")\\n\\n# To set some visualization attributes\\npd.set_option(\\\"max_colwidth\\\", 150)\\n\\n# To play auditory cue when cell has executed, has warning, or has error and set chime theme\\nimport chime\\n\\nchime.theme(\\\"zelda\\\")\";\n",
       "                var nbb_cells = Jupyter.notebook.get_cells();\n",
       "                for (var i = 0; i < nbb_cells.length; ++i) {\n",
       "                    if (nbb_cells[i].input_prompt_number == nbb_cell_id) {\n",
       "                        if (nbb_cells[i].get_text() == nbb_unformatted_code) {\n",
       "                             nbb_cells[i].set_text(nbb_formatted_code);\n",
       "                        }\n",
       "                        break;\n",
       "                    }\n",
       "                }\n",
       "            }, 500);\n",
       "            "
      ],
      "text/plain": [
       "<IPython.core.display.Javascript object>"
      ]
     },
     "metadata": {},
     "output_type": "display_data"
    }
   ],
   "source": [
    "# To structure code automatically\n",
    "%load_ext nb_black\n",
    "\n",
    "# To import/export sqlite databases\n",
    "import sqlite3 as sql\n",
    "\n",
    "# To save/open python objects in pickle file\n",
    "import pickle\n",
    "\n",
    "# To help with reading, cleaning, and manipulating data\n",
    "import pandas as pd\n",
    "import numpy as np\n",
    "import re\n",
    "\n",
    "# To define maximum number of columns to be displayed in a dataframe\n",
    "pd.set_option(\"display.max_columns\", None)\n",
    "# To define the maximum number of rows to be displayed in a dataframe\n",
    "pd.set_option(\"display.max_rows\", 200)\n",
    "\n",
    "# To supress warnings\n",
    "# import warnings\n",
    "\n",
    "# warnings.filterwarnings(\"ignore\")\n",
    "\n",
    "# To set some visualization attributes\n",
    "pd.set_option(\"max_colwidth\", 150)\n",
    "\n",
    "# To play auditory cue when cell has executed, has warning, or has error and set chime theme\n",
    "import chime\n",
    "\n",
    "chime.theme(\"zelda\")"
   ]
  },
  {
   "cell_type": "markdown",
   "id": "cc818a82",
   "metadata": {},
   "source": [
    "## Data Overview"
   ]
  },
  {
   "cell_type": "markdown",
   "id": "0ed005f6",
   "metadata": {},
   "source": [
    "### Reading, Sampling, and Checking Data Shape"
   ]
  },
  {
   "cell_type": "code",
   "execution_count": 2,
   "id": "0ca58a95",
   "metadata": {},
   "outputs": [
    {
     "name": "stdout",
     "output_type": "stream",
     "text": [
      "There are 98059 rows and 38 columns.\n"
     ]
    },
    {
     "data": {
      "text/html": [
       "<div>\n",
       "<style scoped>\n",
       "    .dataframe tbody tr th:only-of-type {\n",
       "        vertical-align: middle;\n",
       "    }\n",
       "\n",
       "    .dataframe tbody tr th {\n",
       "        vertical-align: top;\n",
       "    }\n",
       "\n",
       "    .dataframe thead th {\n",
       "        text-align: right;\n",
       "    }\n",
       "</style>\n",
       "<table border=\"1\" class=\"dataframe\">\n",
       "  <thead>\n",
       "    <tr style=\"text-align: right;\">\n",
       "      <th></th>\n",
       "      <th>day</th>\n",
       "      <th>name</th>\n",
       "      <th>info</th>\n",
       "      <th>link</th>\n",
       "      <th>num_references</th>\n",
       "      <th>year</th>\n",
       "      <th>month</th>\n",
       "      <th>info_parenth</th>\n",
       "      <th>info_1</th>\n",
       "      <th>info_2</th>\n",
       "      <th>info_3</th>\n",
       "      <th>info_4</th>\n",
       "      <th>info_5</th>\n",
       "      <th>info_6</th>\n",
       "      <th>info_7</th>\n",
       "      <th>info_8</th>\n",
       "      <th>info_9</th>\n",
       "      <th>info_10</th>\n",
       "      <th>info_11</th>\n",
       "      <th>age</th>\n",
       "      <th>cause_of_death</th>\n",
       "      <th>place_1</th>\n",
       "      <th>place_2</th>\n",
       "      <th>info_parenth_copy</th>\n",
       "      <th>log_num_references</th>\n",
       "      <th>sciences</th>\n",
       "      <th>social</th>\n",
       "      <th>spiritual</th>\n",
       "      <th>academia_humanities</th>\n",
       "      <th>business_farming</th>\n",
       "      <th>arts</th>\n",
       "      <th>sports</th>\n",
       "      <th>law_enf_military_operator</th>\n",
       "      <th>politics_govt_law</th>\n",
       "      <th>crime</th>\n",
       "      <th>event_record_other</th>\n",
       "      <th>other_species</th>\n",
       "      <th>num_categories</th>\n",
       "    </tr>\n",
       "  </thead>\n",
       "  <tbody>\n",
       "    <tr>\n",
       "      <th>0</th>\n",
       "      <td>1</td>\n",
       "      <td>William Chappell</td>\n",
       "      <td>, 86, British dancer, ballet designer and director.</td>\n",
       "      <td>https://en.wikipedia.org/wiki/William_Chappell_(dancer)</td>\n",
       "      <td>21</td>\n",
       "      <td>1994</td>\n",
       "      <td>January</td>\n",
       "      <td>None</td>\n",
       "      <td>None</td>\n",
       "      <td>dancer</td>\n",
       "      <td>ballet designer and director</td>\n",
       "      <td>None</td>\n",
       "      <td>None</td>\n",
       "      <td>None</td>\n",
       "      <td>None</td>\n",
       "      <td>None</td>\n",
       "      <td>None</td>\n",
       "      <td>None</td>\n",
       "      <td>None</td>\n",
       "      <td>86.0</td>\n",
       "      <td>None</td>\n",
       "      <td>United Kingdom of Great Britain and Northern Ireland</td>\n",
       "      <td>None</td>\n",
       "      <td>None</td>\n",
       "      <td>3.091042</td>\n",
       "      <td>0</td>\n",
       "      <td>0</td>\n",
       "      <td>0</td>\n",
       "      <td>0</td>\n",
       "      <td>0</td>\n",
       "      <td>0</td>\n",
       "      <td>0</td>\n",
       "      <td>0</td>\n",
       "      <td>0</td>\n",
       "      <td>0</td>\n",
       "      <td>0</td>\n",
       "      <td>0</td>\n",
       "      <td>0</td>\n",
       "    </tr>\n",
       "    <tr>\n",
       "      <th>1</th>\n",
       "      <td>1</td>\n",
       "      <td>Raymond Crotty</td>\n",
       "      <td>, 68, Irish economist, writer, and academic.</td>\n",
       "      <td>https://en.wikipedia.org/wiki/Raymond_Crotty</td>\n",
       "      <td>12</td>\n",
       "      <td>1994</td>\n",
       "      <td>January</td>\n",
       "      <td>None</td>\n",
       "      <td>None</td>\n",
       "      <td></td>\n",
       "      <td>writer</td>\n",
       "      <td>and academic</td>\n",
       "      <td>None</td>\n",
       "      <td>None</td>\n",
       "      <td>None</td>\n",
       "      <td>None</td>\n",
       "      <td>None</td>\n",
       "      <td>None</td>\n",
       "      <td>None</td>\n",
       "      <td>68.0</td>\n",
       "      <td>None</td>\n",
       "      <td>Ireland</td>\n",
       "      <td>None</td>\n",
       "      <td>None</td>\n",
       "      <td>2.564949</td>\n",
       "      <td>0</td>\n",
       "      <td>0</td>\n",
       "      <td>0</td>\n",
       "      <td>0</td>\n",
       "      <td>0</td>\n",
       "      <td>0</td>\n",
       "      <td>0</td>\n",
       "      <td>0</td>\n",
       "      <td>1</td>\n",
       "      <td>0</td>\n",
       "      <td>0</td>\n",
       "      <td>0</td>\n",
       "      <td>1</td>\n",
       "    </tr>\n",
       "  </tbody>\n",
       "</table>\n",
       "</div>"
      ],
      "text/plain": [
       "  day              name                                                 info  \\\n",
       "0   1  William Chappell  , 86, British dancer, ballet designer and director.   \n",
       "1   1    Raymond Crotty         , 68, Irish economist, writer, and academic.   \n",
       "\n",
       "                                                      link  num_references  \\\n",
       "0  https://en.wikipedia.org/wiki/William_Chappell_(dancer)              21   \n",
       "1             https://en.wikipedia.org/wiki/Raymond_Crotty              12   \n",
       "\n",
       "   year    month info_parenth info_1  info_2                        info_3  \\\n",
       "0  1994  January         None   None  dancer  ballet designer and director   \n",
       "1  1994  January         None   None                                writer   \n",
       "\n",
       "         info_4 info_5 info_6 info_7 info_8 info_9 info_10 info_11   age  \\\n",
       "0          None   None   None   None   None   None    None    None  86.0   \n",
       "1  and academic   None   None   None   None   None    None    None  68.0   \n",
       "\n",
       "  cause_of_death                                               place_1  \\\n",
       "0           None  United Kingdom of Great Britain and Northern Ireland   \n",
       "1           None                                               Ireland   \n",
       "\n",
       "  place_2 info_parenth_copy  log_num_references  sciences  social  spiritual  \\\n",
       "0    None              None            3.091042         0       0          0   \n",
       "1    None              None            2.564949         0       0          0   \n",
       "\n",
       "   academia_humanities  business_farming  arts  sports  \\\n",
       "0                    0                 0     0       0   \n",
       "1                    0                 0     0       0   \n",
       "\n",
       "   law_enf_military_operator  politics_govt_law  crime  event_record_other  \\\n",
       "0                          0                  0      0                   0   \n",
       "1                          0                  1      0                   0   \n",
       "\n",
       "   other_species  num_categories  \n",
       "0              0               0  \n",
       "1              0               1  "
      ]
     },
     "execution_count": 2,
     "metadata": {},
     "output_type": "execute_result"
    },
    {
     "data": {
      "application/javascript": [
       "\n",
       "            setTimeout(function() {\n",
       "                var nbb_cell_id = 2;\n",
       "                var nbb_unformatted_code = \"# Reading the dataset\\nconn = sql.connect(\\\"wp_life_expect_clean7.db\\\")\\ndata = pd.read_sql(\\\"SELECT * FROM wp_life_expect_clean7\\\", conn)\\n\\n# Making a working copy\\ndf = data.copy()\\n\\n# Checking the shape\\nprint(f\\\"There are {df.shape[0]} rows and {df.shape[1]} columns.\\\")\\n\\n# Checking first 2 rows of the data\\ndf.head(2)\";\n",
       "                var nbb_formatted_code = \"# Reading the dataset\\nconn = sql.connect(\\\"wp_life_expect_clean7.db\\\")\\ndata = pd.read_sql(\\\"SELECT * FROM wp_life_expect_clean7\\\", conn)\\n\\n# Making a working copy\\ndf = data.copy()\\n\\n# Checking the shape\\nprint(f\\\"There are {df.shape[0]} rows and {df.shape[1]} columns.\\\")\\n\\n# Checking first 2 rows of the data\\ndf.head(2)\";\n",
       "                var nbb_cells = Jupyter.notebook.get_cells();\n",
       "                for (var i = 0; i < nbb_cells.length; ++i) {\n",
       "                    if (nbb_cells[i].input_prompt_number == nbb_cell_id) {\n",
       "                        if (nbb_cells[i].get_text() == nbb_unformatted_code) {\n",
       "                             nbb_cells[i].set_text(nbb_formatted_code);\n",
       "                        }\n",
       "                        break;\n",
       "                    }\n",
       "                }\n",
       "            }, 500);\n",
       "            "
      ],
      "text/plain": [
       "<IPython.core.display.Javascript object>"
      ]
     },
     "metadata": {},
     "output_type": "display_data"
    }
   ],
   "source": [
    "# Reading the dataset\n",
    "conn = sql.connect(\"wp_life_expect_clean7.db\")\n",
    "data = pd.read_sql(\"SELECT * FROM wp_life_expect_clean7\", conn)\n",
    "\n",
    "# Making a working copy\n",
    "df = data.copy()\n",
    "\n",
    "# Checking the shape\n",
    "print(f\"There are {df.shape[0]} rows and {df.shape[1]} columns.\")\n",
    "\n",
    "# Checking first 2 rows of the data\n",
    "df.head(2)"
   ]
  },
  {
   "cell_type": "code",
   "execution_count": 3,
   "id": "6cca416f",
   "metadata": {},
   "outputs": [
    {
     "data": {
      "text/html": [
       "<div>\n",
       "<style scoped>\n",
       "    .dataframe tbody tr th:only-of-type {\n",
       "        vertical-align: middle;\n",
       "    }\n",
       "\n",
       "    .dataframe tbody tr th {\n",
       "        vertical-align: top;\n",
       "    }\n",
       "\n",
       "    .dataframe thead th {\n",
       "        text-align: right;\n",
       "    }\n",
       "</style>\n",
       "<table border=\"1\" class=\"dataframe\">\n",
       "  <thead>\n",
       "    <tr style=\"text-align: right;\">\n",
       "      <th></th>\n",
       "      <th>day</th>\n",
       "      <th>name</th>\n",
       "      <th>info</th>\n",
       "      <th>link</th>\n",
       "      <th>num_references</th>\n",
       "      <th>year</th>\n",
       "      <th>month</th>\n",
       "      <th>info_parenth</th>\n",
       "      <th>info_1</th>\n",
       "      <th>info_2</th>\n",
       "      <th>info_3</th>\n",
       "      <th>info_4</th>\n",
       "      <th>info_5</th>\n",
       "      <th>info_6</th>\n",
       "      <th>info_7</th>\n",
       "      <th>info_8</th>\n",
       "      <th>info_9</th>\n",
       "      <th>info_10</th>\n",
       "      <th>info_11</th>\n",
       "      <th>age</th>\n",
       "      <th>cause_of_death</th>\n",
       "      <th>place_1</th>\n",
       "      <th>place_2</th>\n",
       "      <th>info_parenth_copy</th>\n",
       "      <th>log_num_references</th>\n",
       "      <th>sciences</th>\n",
       "      <th>social</th>\n",
       "      <th>spiritual</th>\n",
       "      <th>academia_humanities</th>\n",
       "      <th>business_farming</th>\n",
       "      <th>arts</th>\n",
       "      <th>sports</th>\n",
       "      <th>law_enf_military_operator</th>\n",
       "      <th>politics_govt_law</th>\n",
       "      <th>crime</th>\n",
       "      <th>event_record_other</th>\n",
       "      <th>other_species</th>\n",
       "      <th>num_categories</th>\n",
       "    </tr>\n",
       "  </thead>\n",
       "  <tbody>\n",
       "    <tr>\n",
       "      <th>98057</th>\n",
       "      <td>9</td>\n",
       "      <td>Aamir Liaquat Hussain</td>\n",
       "      <td>, 50, Pakistani journalist and politician, MNA .</td>\n",
       "      <td>https://en.wikipedia.org/wiki/Aamir_Liaquat_Hussain</td>\n",
       "      <td>99</td>\n",
       "      <td>2022</td>\n",
       "      <td>June</td>\n",
       "      <td>, since</td>\n",
       "      <td>None</td>\n",
       "      <td></td>\n",
       "      <td>MNA</td>\n",
       "      <td>None</td>\n",
       "      <td>None</td>\n",
       "      <td>None</td>\n",
       "      <td>None</td>\n",
       "      <td>None</td>\n",
       "      <td>None</td>\n",
       "      <td>None</td>\n",
       "      <td>None</td>\n",
       "      <td>50.0</td>\n",
       "      <td>None</td>\n",
       "      <td>Pakistan</td>\n",
       "      <td>None</td>\n",
       "      <td>2002 2007, since 2018</td>\n",
       "      <td>4.605170</td>\n",
       "      <td>0</td>\n",
       "      <td>0</td>\n",
       "      <td>0</td>\n",
       "      <td>0</td>\n",
       "      <td>0</td>\n",
       "      <td>1</td>\n",
       "      <td>0</td>\n",
       "      <td>0</td>\n",
       "      <td>1</td>\n",
       "      <td>0</td>\n",
       "      <td>0</td>\n",
       "      <td>0</td>\n",
       "      <td>2</td>\n",
       "    </tr>\n",
       "    <tr>\n",
       "      <th>98058</th>\n",
       "      <td>9</td>\n",
       "      <td>Zou Jing</td>\n",
       "      <td>, 86, Chinese engineer, member of the Chinese Academy of Engineering.</td>\n",
       "      <td>https://en.wikipedia.org/wiki/Zou_Jing_(engineer)</td>\n",
       "      <td>3</td>\n",
       "      <td>2022</td>\n",
       "      <td>June</td>\n",
       "      <td>None</td>\n",
       "      <td>None</td>\n",
       "      <td>engineer</td>\n",
       "      <td>member of the Academy of Engineering</td>\n",
       "      <td>None</td>\n",
       "      <td>None</td>\n",
       "      <td>None</td>\n",
       "      <td>None</td>\n",
       "      <td>None</td>\n",
       "      <td>None</td>\n",
       "      <td>None</td>\n",
       "      <td>None</td>\n",
       "      <td>86.0</td>\n",
       "      <td>None</td>\n",
       "      <td>China, People's Republic of</td>\n",
       "      <td>None</td>\n",
       "      <td>None</td>\n",
       "      <td>1.386294</td>\n",
       "      <td>0</td>\n",
       "      <td>0</td>\n",
       "      <td>0</td>\n",
       "      <td>0</td>\n",
       "      <td>0</td>\n",
       "      <td>0</td>\n",
       "      <td>0</td>\n",
       "      <td>0</td>\n",
       "      <td>0</td>\n",
       "      <td>0</td>\n",
       "      <td>0</td>\n",
       "      <td>0</td>\n",
       "      <td>0</td>\n",
       "    </tr>\n",
       "  </tbody>\n",
       "</table>\n",
       "</div>"
      ],
      "text/plain": [
       "      day                   name  \\\n",
       "98057   9  Aamir Liaquat Hussain   \n",
       "98058   9               Zou Jing   \n",
       "\n",
       "                                                                        info  \\\n",
       "98057                       , 50, Pakistani journalist and politician, MNA .   \n",
       "98058  , 86, Chinese engineer, member of the Chinese Academy of Engineering.   \n",
       "\n",
       "                                                      link  num_references  \\\n",
       "98057  https://en.wikipedia.org/wiki/Aamir_Liaquat_Hussain              99   \n",
       "98058    https://en.wikipedia.org/wiki/Zou_Jing_(engineer)               3   \n",
       "\n",
       "       year month info_parenth info_1    info_2  \\\n",
       "98057  2022  June      , since   None             \n",
       "98058  2022  June         None   None  engineer   \n",
       "\n",
       "                                     info_3 info_4 info_5 info_6 info_7  \\\n",
       "98057                                   MNA   None   None   None   None   \n",
       "98058  member of the Academy of Engineering   None   None   None   None   \n",
       "\n",
       "      info_8 info_9 info_10 info_11   age cause_of_death  \\\n",
       "98057   None   None    None    None  50.0           None   \n",
       "98058   None   None    None    None  86.0           None   \n",
       "\n",
       "                           place_1 place_2      info_parenth_copy  \\\n",
       "98057                     Pakistan    None  2002 2007, since 2018   \n",
       "98058  China, People's Republic of    None                   None   \n",
       "\n",
       "       log_num_references  sciences  social  spiritual  academia_humanities  \\\n",
       "98057            4.605170         0       0          0                    0   \n",
       "98058            1.386294         0       0          0                    0   \n",
       "\n",
       "       business_farming  arts  sports  law_enf_military_operator  \\\n",
       "98057                 0     1       0                          0   \n",
       "98058                 0     0       0                          0   \n",
       "\n",
       "       politics_govt_law  crime  event_record_other  other_species  \\\n",
       "98057                  1      0                   0              0   \n",
       "98058                  0      0                   0              0   \n",
       "\n",
       "       num_categories  \n",
       "98057               2  \n",
       "98058               0  "
      ]
     },
     "execution_count": 3,
     "metadata": {},
     "output_type": "execute_result"
    },
    {
     "data": {
      "application/javascript": [
       "\n",
       "            setTimeout(function() {\n",
       "                var nbb_cell_id = 3;\n",
       "                var nbb_unformatted_code = \"# Checking last 2 rows of the data\\ndf.tail(2)\";\n",
       "                var nbb_formatted_code = \"# Checking last 2 rows of the data\\ndf.tail(2)\";\n",
       "                var nbb_cells = Jupyter.notebook.get_cells();\n",
       "                for (var i = 0; i < nbb_cells.length; ++i) {\n",
       "                    if (nbb_cells[i].input_prompt_number == nbb_cell_id) {\n",
       "                        if (nbb_cells[i].get_text() == nbb_unformatted_code) {\n",
       "                             nbb_cells[i].set_text(nbb_formatted_code);\n",
       "                        }\n",
       "                        break;\n",
       "                    }\n",
       "                }\n",
       "            }, 500);\n",
       "            "
      ],
      "text/plain": [
       "<IPython.core.display.Javascript object>"
      ]
     },
     "metadata": {},
     "output_type": "display_data"
    }
   ],
   "source": [
    "# Checking last 2 rows of the data\n",
    "df.tail(2)"
   ]
  },
  {
   "cell_type": "code",
   "execution_count": 4,
   "id": "de6e8ee5",
   "metadata": {},
   "outputs": [
    {
     "data": {
      "text/html": [
       "<div>\n",
       "<style scoped>\n",
       "    .dataframe tbody tr th:only-of-type {\n",
       "        vertical-align: middle;\n",
       "    }\n",
       "\n",
       "    .dataframe tbody tr th {\n",
       "        vertical-align: top;\n",
       "    }\n",
       "\n",
       "    .dataframe thead th {\n",
       "        text-align: right;\n",
       "    }\n",
       "</style>\n",
       "<table border=\"1\" class=\"dataframe\">\n",
       "  <thead>\n",
       "    <tr style=\"text-align: right;\">\n",
       "      <th></th>\n",
       "      <th>day</th>\n",
       "      <th>name</th>\n",
       "      <th>info</th>\n",
       "      <th>link</th>\n",
       "      <th>num_references</th>\n",
       "      <th>year</th>\n",
       "      <th>month</th>\n",
       "      <th>info_parenth</th>\n",
       "      <th>info_1</th>\n",
       "      <th>info_2</th>\n",
       "      <th>info_3</th>\n",
       "      <th>info_4</th>\n",
       "      <th>info_5</th>\n",
       "      <th>info_6</th>\n",
       "      <th>info_7</th>\n",
       "      <th>info_8</th>\n",
       "      <th>info_9</th>\n",
       "      <th>info_10</th>\n",
       "      <th>info_11</th>\n",
       "      <th>age</th>\n",
       "      <th>cause_of_death</th>\n",
       "      <th>place_1</th>\n",
       "      <th>place_2</th>\n",
       "      <th>info_parenth_copy</th>\n",
       "      <th>log_num_references</th>\n",
       "      <th>sciences</th>\n",
       "      <th>social</th>\n",
       "      <th>spiritual</th>\n",
       "      <th>academia_humanities</th>\n",
       "      <th>business_farming</th>\n",
       "      <th>arts</th>\n",
       "      <th>sports</th>\n",
       "      <th>law_enf_military_operator</th>\n",
       "      <th>politics_govt_law</th>\n",
       "      <th>crime</th>\n",
       "      <th>event_record_other</th>\n",
       "      <th>other_species</th>\n",
       "      <th>num_categories</th>\n",
       "    </tr>\n",
       "  </thead>\n",
       "  <tbody>\n",
       "    <tr>\n",
       "      <th>67232</th>\n",
       "      <td>23</td>\n",
       "      <td>Robert Dowdell</td>\n",
       "      <td>, 85, American actor .</td>\n",
       "      <td>https://en.wikipedia.org/wiki/Robert_Dowdell</td>\n",
       "      <td>4</td>\n",
       "      <td>2018</td>\n",
       "      <td>January</td>\n",
       "      <td>,</td>\n",
       "      <td>None</td>\n",
       "      <td></td>\n",
       "      <td>None</td>\n",
       "      <td>None</td>\n",
       "      <td>None</td>\n",
       "      <td>None</td>\n",
       "      <td>None</td>\n",
       "      <td>None</td>\n",
       "      <td>None</td>\n",
       "      <td>None</td>\n",
       "      <td>None</td>\n",
       "      <td>85.0</td>\n",
       "      <td>None</td>\n",
       "      <td>United States of America</td>\n",
       "      <td>None</td>\n",
       "      <td>,</td>\n",
       "      <td>1.609438</td>\n",
       "      <td>0</td>\n",
       "      <td>0</td>\n",
       "      <td>0</td>\n",
       "      <td>0</td>\n",
       "      <td>0</td>\n",
       "      <td>1</td>\n",
       "      <td>0</td>\n",
       "      <td>0</td>\n",
       "      <td>0</td>\n",
       "      <td>0</td>\n",
       "      <td>0</td>\n",
       "      <td>0</td>\n",
       "      <td>1</td>\n",
       "    </tr>\n",
       "    <tr>\n",
       "      <th>26515</th>\n",
       "      <td>24</td>\n",
       "      <td>Vice Vukov</td>\n",
       "      <td>, 72, Croatian singer and politician.</td>\n",
       "      <td>https://en.wikipedia.org/wiki/Vice_Vukov</td>\n",
       "      <td>6</td>\n",
       "      <td>2008</td>\n",
       "      <td>September</td>\n",
       "      <td>None</td>\n",
       "      <td>None</td>\n",
       "      <td></td>\n",
       "      <td>None</td>\n",
       "      <td>None</td>\n",
       "      <td>None</td>\n",
       "      <td>None</td>\n",
       "      <td>None</td>\n",
       "      <td>None</td>\n",
       "      <td>None</td>\n",
       "      <td>None</td>\n",
       "      <td>None</td>\n",
       "      <td>72.0</td>\n",
       "      <td>None</td>\n",
       "      <td>Croatia</td>\n",
       "      <td>None</td>\n",
       "      <td>None</td>\n",
       "      <td>1.945910</td>\n",
       "      <td>0</td>\n",
       "      <td>0</td>\n",
       "      <td>0</td>\n",
       "      <td>0</td>\n",
       "      <td>0</td>\n",
       "      <td>1</td>\n",
       "      <td>0</td>\n",
       "      <td>0</td>\n",
       "      <td>1</td>\n",
       "      <td>0</td>\n",
       "      <td>0</td>\n",
       "      <td>0</td>\n",
       "      <td>2</td>\n",
       "    </tr>\n",
       "    <tr>\n",
       "      <th>54356</th>\n",
       "      <td>5</td>\n",
       "      <td>George Cole</td>\n",
       "      <td>, 90, English actor .</td>\n",
       "      <td>https://en.wikipedia.org/wiki/George_Cole_(actor)</td>\n",
       "      <td>13</td>\n",
       "      <td>2015</td>\n",
       "      <td>August</td>\n",
       "      <td>, ,</td>\n",
       "      <td>None</td>\n",
       "      <td></td>\n",
       "      <td>None</td>\n",
       "      <td>None</td>\n",
       "      <td>None</td>\n",
       "      <td>None</td>\n",
       "      <td>None</td>\n",
       "      <td>None</td>\n",
       "      <td>None</td>\n",
       "      <td>None</td>\n",
       "      <td>None</td>\n",
       "      <td>90.0</td>\n",
       "      <td>None</td>\n",
       "      <td>United Kingdom of Great Britain and Northern Ireland</td>\n",
       "      <td>None</td>\n",
       "      <td>, ,</td>\n",
       "      <td>2.639057</td>\n",
       "      <td>0</td>\n",
       "      <td>0</td>\n",
       "      <td>0</td>\n",
       "      <td>0</td>\n",
       "      <td>0</td>\n",
       "      <td>1</td>\n",
       "      <td>0</td>\n",
       "      <td>0</td>\n",
       "      <td>0</td>\n",
       "      <td>0</td>\n",
       "      <td>0</td>\n",
       "      <td>0</td>\n",
       "      <td>1</td>\n",
       "    </tr>\n",
       "    <tr>\n",
       "      <th>27535</th>\n",
       "      <td>28</td>\n",
       "      <td>Gyula Pálóczi</td>\n",
       "      <td>, 46, Hungarian athlete, heart disease.</td>\n",
       "      <td>https://en.wikipedia.org/wiki/Gyula_P%C3%A1l%C3%B3czi</td>\n",
       "      <td>11</td>\n",
       "      <td>2009</td>\n",
       "      <td>January</td>\n",
       "      <td>None</td>\n",
       "      <td>None</td>\n",
       "      <td>athlete</td>\n",
       "      <td>heart disease</td>\n",
       "      <td>None</td>\n",
       "      <td>None</td>\n",
       "      <td>None</td>\n",
       "      <td>None</td>\n",
       "      <td>None</td>\n",
       "      <td>None</td>\n",
       "      <td>None</td>\n",
       "      <td>None</td>\n",
       "      <td>46.0</td>\n",
       "      <td>None</td>\n",
       "      <td>Hungary</td>\n",
       "      <td>None</td>\n",
       "      <td>None</td>\n",
       "      <td>2.484907</td>\n",
       "      <td>0</td>\n",
       "      <td>0</td>\n",
       "      <td>0</td>\n",
       "      <td>0</td>\n",
       "      <td>0</td>\n",
       "      <td>0</td>\n",
       "      <td>0</td>\n",
       "      <td>0</td>\n",
       "      <td>0</td>\n",
       "      <td>0</td>\n",
       "      <td>0</td>\n",
       "      <td>0</td>\n",
       "      <td>0</td>\n",
       "    </tr>\n",
       "    <tr>\n",
       "      <th>68481</th>\n",
       "      <td>8</td>\n",
       "      <td>Tate Adams</td>\n",
       "      <td>, 96, Northern Irish-born Australian printmaker.</td>\n",
       "      <td>https://en.wikipedia.org/wiki/Tate_Adams</td>\n",
       "      <td>8</td>\n",
       "      <td>2018</td>\n",
       "      <td>April</td>\n",
       "      <td>None</td>\n",
       "      <td>None</td>\n",
       "      <td>printmaker</td>\n",
       "      <td>None</td>\n",
       "      <td>None</td>\n",
       "      <td>None</td>\n",
       "      <td>None</td>\n",
       "      <td>None</td>\n",
       "      <td>None</td>\n",
       "      <td>None</td>\n",
       "      <td>None</td>\n",
       "      <td>None</td>\n",
       "      <td>96.0</td>\n",
       "      <td>None</td>\n",
       "      <td>United Kingdom of Great Britain and Northern Ireland</td>\n",
       "      <td>Australia</td>\n",
       "      <td>None</td>\n",
       "      <td>2.197225</td>\n",
       "      <td>0</td>\n",
       "      <td>0</td>\n",
       "      <td>0</td>\n",
       "      <td>0</td>\n",
       "      <td>0</td>\n",
       "      <td>0</td>\n",
       "      <td>0</td>\n",
       "      <td>0</td>\n",
       "      <td>0</td>\n",
       "      <td>0</td>\n",
       "      <td>0</td>\n",
       "      <td>0</td>\n",
       "      <td>0</td>\n",
       "    </tr>\n",
       "  </tbody>\n",
       "</table>\n",
       "</div>"
      ],
      "text/plain": [
       "      day            name                                              info  \\\n",
       "67232  23  Robert Dowdell                            , 85, American actor .   \n",
       "26515  24      Vice Vukov             , 72, Croatian singer and politician.   \n",
       "54356   5     George Cole                             , 90, English actor .   \n",
       "27535  28   Gyula Pálóczi           , 46, Hungarian athlete, heart disease.   \n",
       "68481   8      Tate Adams  , 96, Northern Irish-born Australian printmaker.   \n",
       "\n",
       "                                                        link  num_references  \\\n",
       "67232           https://en.wikipedia.org/wiki/Robert_Dowdell               4   \n",
       "26515               https://en.wikipedia.org/wiki/Vice_Vukov               6   \n",
       "54356      https://en.wikipedia.org/wiki/George_Cole_(actor)              13   \n",
       "27535  https://en.wikipedia.org/wiki/Gyula_P%C3%A1l%C3%B3czi              11   \n",
       "68481               https://en.wikipedia.org/wiki/Tate_Adams               8   \n",
       "\n",
       "       year      month info_parenth info_1      info_2         info_3 info_4  \\\n",
       "67232  2018    January            ,   None                       None   None   \n",
       "26515  2008  September         None   None                       None   None   \n",
       "54356  2015     August          , ,   None                       None   None   \n",
       "27535  2009    January         None   None     athlete  heart disease   None   \n",
       "68481  2018      April         None   None  printmaker           None   None   \n",
       "\n",
       "      info_5 info_6 info_7 info_8 info_9 info_10 info_11   age cause_of_death  \\\n",
       "67232   None   None   None   None   None    None    None  85.0           None   \n",
       "26515   None   None   None   None   None    None    None  72.0           None   \n",
       "54356   None   None   None   None   None    None    None  90.0           None   \n",
       "27535   None   None   None   None   None    None    None  46.0           None   \n",
       "68481   None   None   None   None   None    None    None  96.0           None   \n",
       "\n",
       "                                                    place_1    place_2  \\\n",
       "67232                              United States of America       None   \n",
       "26515                                               Croatia       None   \n",
       "54356  United Kingdom of Great Britain and Northern Ireland       None   \n",
       "27535                                               Hungary       None   \n",
       "68481  United Kingdom of Great Britain and Northern Ireland  Australia   \n",
       "\n",
       "      info_parenth_copy  log_num_references  sciences  social  spiritual  \\\n",
       "67232                 ,            1.609438         0       0          0   \n",
       "26515              None            1.945910         0       0          0   \n",
       "54356               , ,            2.639057         0       0          0   \n",
       "27535              None            2.484907         0       0          0   \n",
       "68481              None            2.197225         0       0          0   \n",
       "\n",
       "       academia_humanities  business_farming  arts  sports  \\\n",
       "67232                    0                 0     1       0   \n",
       "26515                    0                 0     1       0   \n",
       "54356                    0                 0     1       0   \n",
       "27535                    0                 0     0       0   \n",
       "68481                    0                 0     0       0   \n",
       "\n",
       "       law_enf_military_operator  politics_govt_law  crime  \\\n",
       "67232                          0                  0      0   \n",
       "26515                          0                  1      0   \n",
       "54356                          0                  0      0   \n",
       "27535                          0                  0      0   \n",
       "68481                          0                  0      0   \n",
       "\n",
       "       event_record_other  other_species  num_categories  \n",
       "67232                   0              0               1  \n",
       "26515                   0              0               2  \n",
       "54356                   0              0               1  \n",
       "27535                   0              0               0  \n",
       "68481                   0              0               0  "
      ]
     },
     "execution_count": 4,
     "metadata": {},
     "output_type": "execute_result"
    },
    {
     "data": {
      "application/javascript": [
       "\n",
       "            setTimeout(function() {\n",
       "                var nbb_cell_id = 4;\n",
       "                var nbb_unformatted_code = \"# Checking a sample of the data\\ndf.sample(5)\";\n",
       "                var nbb_formatted_code = \"# Checking a sample of the data\\ndf.sample(5)\";\n",
       "                var nbb_cells = Jupyter.notebook.get_cells();\n",
       "                for (var i = 0; i < nbb_cells.length; ++i) {\n",
       "                    if (nbb_cells[i].input_prompt_number == nbb_cell_id) {\n",
       "                        if (nbb_cells[i].get_text() == nbb_unformatted_code) {\n",
       "                             nbb_cells[i].set_text(nbb_formatted_code);\n",
       "                        }\n",
       "                        break;\n",
       "                    }\n",
       "                }\n",
       "            }, 500);\n",
       "            "
      ],
      "text/plain": [
       "<IPython.core.display.Javascript object>"
      ]
     },
     "metadata": {},
     "output_type": "display_data"
    }
   ],
   "source": [
    "# Checking a sample of the data\n",
    "df.sample(5)"
   ]
  },
  {
   "cell_type": "markdown",
   "id": "8d5f29da",
   "metadata": {},
   "source": [
    "### Checking Data Types, Duplicates, and Null Values"
   ]
  },
  {
   "cell_type": "code",
   "execution_count": 5,
   "id": "bf505f87",
   "metadata": {},
   "outputs": [
    {
     "name": "stdout",
     "output_type": "stream",
     "text": [
      "<class 'pandas.core.frame.DataFrame'>\n",
      "RangeIndex: 98059 entries, 0 to 98058\n",
      "Data columns (total 38 columns):\n",
      " #   Column                     Non-Null Count  Dtype  \n",
      "---  ------                     --------------  -----  \n",
      " 0   day                        98059 non-null  object \n",
      " 1   name                       98059 non-null  object \n",
      " 2   info                       98059 non-null  object \n",
      " 3   link                       98059 non-null  object \n",
      " 4   num_references             98059 non-null  int64  \n",
      " 5   year                       98059 non-null  int64  \n",
      " 6   month                      98059 non-null  object \n",
      " 7   info_parenth               36661 non-null  object \n",
      " 8   info_1                     22 non-null     object \n",
      " 9   info_2                     98027 non-null  object \n",
      " 10  info_3                     48895 non-null  object \n",
      " 11  info_4                     10264 non-null  object \n",
      " 12  info_5                     1265 non-null   object \n",
      " 13  info_6                     181 non-null    object \n",
      " 14  info_7                     27 non-null     object \n",
      " 15  info_8                     5 non-null      object \n",
      " 16  info_9                     1 non-null      object \n",
      " 17  info_10                    1 non-null      object \n",
      " 18  info_11                    1 non-null      object \n",
      " 19  age                        98059 non-null  float64\n",
      " 20  cause_of_death             7 non-null      object \n",
      " 21  place_1                    97904 non-null  object \n",
      " 22  place_2                    8102 non-null   object \n",
      " 23  info_parenth_copy          36661 non-null  object \n",
      " 24  log_num_references         98059 non-null  float64\n",
      " 25  sciences                   98059 non-null  int64  \n",
      " 26  social                     98059 non-null  int64  \n",
      " 27  spiritual                  98059 non-null  int64  \n",
      " 28  academia_humanities        98059 non-null  int64  \n",
      " 29  business_farming           98059 non-null  int64  \n",
      " 30  arts                       98059 non-null  int64  \n",
      " 31  sports                     98059 non-null  int64  \n",
      " 32  law_enf_military_operator  98059 non-null  int64  \n",
      " 33  politics_govt_law          98059 non-null  int64  \n",
      " 34  crime                      98059 non-null  int64  \n",
      " 35  event_record_other         98059 non-null  int64  \n",
      " 36  other_species              98059 non-null  int64  \n",
      " 37  num_categories             98059 non-null  int64  \n",
      "dtypes: float64(2), int64(15), object(21)\n",
      "memory usage: 28.4+ MB\n"
     ]
    },
    {
     "data": {
      "application/javascript": [
       "\n",
       "            setTimeout(function() {\n",
       "                var nbb_cell_id = 5;\n",
       "                var nbb_unformatted_code = \"# Checking data types and null values\\ndf.info()\";\n",
       "                var nbb_formatted_code = \"# Checking data types and null values\\ndf.info()\";\n",
       "                var nbb_cells = Jupyter.notebook.get_cells();\n",
       "                for (var i = 0; i < nbb_cells.length; ++i) {\n",
       "                    if (nbb_cells[i].input_prompt_number == nbb_cell_id) {\n",
       "                        if (nbb_cells[i].get_text() == nbb_unformatted_code) {\n",
       "                             nbb_cells[i].set_text(nbb_formatted_code);\n",
       "                        }\n",
       "                        break;\n",
       "                    }\n",
       "                }\n",
       "            }, 500);\n",
       "            "
      ],
      "text/plain": [
       "<IPython.core.display.Javascript object>"
      ]
     },
     "metadata": {},
     "output_type": "display_data"
    }
   ],
   "source": [
    "# Checking data types and null values\n",
    "df.info()"
   ]
  },
  {
   "cell_type": "markdown",
   "id": "c459d7f8",
   "metadata": {},
   "source": [
    "#### Observations:\n",
    "- With our dataset loaded, we can pick up where we left off with extracting known_for values by rebuilding `known_for_dict`."
   ]
  },
  {
   "cell_type": "markdown",
   "id": "5c542ec1",
   "metadata": {},
   "source": [
    "### Extracting `known_for` Continued"
   ]
  },
  {
   "cell_type": "markdown",
   "id": "3ec8c225",
   "metadata": {},
   "source": [
    "#### Finding `known_for` Roles in `info_2`"
   ]
  },
  {
   "cell_type": "code",
   "execution_count": 6,
   "id": "07145e9e",
   "metadata": {},
   "outputs": [
    {
     "data": {
      "application/javascript": [
       "\n",
       "            setTimeout(function() {\n",
       "                var nbb_cell_id = 6;\n",
       "                var nbb_unformatted_code = \"# Obtaining values for column and their counts\\nroles_list = df[\\\"info_2\\\"].value_counts(ascending=True).index.tolist()\";\n",
       "                var nbb_formatted_code = \"# Obtaining values for column and their counts\\nroles_list = df[\\\"info_2\\\"].value_counts(ascending=True).index.tolist()\";\n",
       "                var nbb_cells = Jupyter.notebook.get_cells();\n",
       "                for (var i = 0; i < nbb_cells.length; ++i) {\n",
       "                    if (nbb_cells[i].input_prompt_number == nbb_cell_id) {\n",
       "                        if (nbb_cells[i].get_text() == nbb_unformatted_code) {\n",
       "                             nbb_cells[i].set_text(nbb_formatted_code);\n",
       "                        }\n",
       "                        break;\n",
       "                    }\n",
       "                }\n",
       "            }, 500);\n",
       "            "
      ],
      "text/plain": [
       "<IPython.core.display.Javascript object>"
      ]
     },
     "metadata": {},
     "output_type": "display_data"
    }
   ],
   "source": [
    "# Obtaining values for column and their counts\n",
    "roles_list = df[\"info_2\"].value_counts(ascending=True).index.tolist()"
   ]
  },
  {
   "cell_type": "code",
   "execution_count": 7,
   "id": "c3214865",
   "metadata": {},
   "outputs": [
    {
     "data": {
      "application/javascript": [
       "\n",
       "            setTimeout(function() {\n",
       "                var nbb_cell_id = 7;\n",
       "                var nbb_unformatted_code = \"# # Code to check each value\\n# roles_list.pop()\";\n",
       "                var nbb_formatted_code = \"# # Code to check each value\\n# roles_list.pop()\";\n",
       "                var nbb_cells = Jupyter.notebook.get_cells();\n",
       "                for (var i = 0; i < nbb_cells.length; ++i) {\n",
       "                    if (nbb_cells[i].input_prompt_number == nbb_cell_id) {\n",
       "                        if (nbb_cells[i].get_text() == nbb_unformatted_code) {\n",
       "                             nbb_cells[i].set_text(nbb_formatted_code);\n",
       "                        }\n",
       "                        break;\n",
       "                    }\n",
       "                }\n",
       "            }, 500);\n",
       "            "
      ],
      "text/plain": [
       "<IPython.core.display.Javascript object>"
      ]
     },
     "metadata": {},
     "output_type": "display_data"
    }
   ],
   "source": [
    "# # Code to check each value\n",
    "# roles_list.pop()"
   ]
  },
  {
   "cell_type": "code",
   "execution_count": 8,
   "id": "036d000f",
   "metadata": {},
   "outputs": [
    {
     "data": {
      "application/javascript": [
       "\n",
       "            setTimeout(function() {\n",
       "                var nbb_cell_id = 8;\n",
       "                var nbb_unformatted_code = \"# # Create specific_roles_list for above popped value\\n# specific_roles_list = (\\n#     df.loc[\\n#         [index for index in df.index if \\\"educator\\\" in df.loc[index, \\\"info\\\"]], \\\"info_2\\\",\\n#     ]\\n#     .value_counts()\\n#     .index.tolist()\\n# )\";\n",
       "                var nbb_formatted_code = \"# # Create specific_roles_list for above popped value\\n# specific_roles_list = (\\n#     df.loc[\\n#         [index for index in df.index if \\\"educator\\\" in df.loc[index, \\\"info\\\"]], \\\"info_2\\\",\\n#     ]\\n#     .value_counts()\\n#     .index.tolist()\\n# )\";\n",
       "                var nbb_cells = Jupyter.notebook.get_cells();\n",
       "                for (var i = 0; i < nbb_cells.length; ++i) {\n",
       "                    if (nbb_cells[i].input_prompt_number == nbb_cell_id) {\n",
       "                        if (nbb_cells[i].get_text() == nbb_unformatted_code) {\n",
       "                             nbb_cells[i].set_text(nbb_formatted_code);\n",
       "                        }\n",
       "                        break;\n",
       "                    }\n",
       "                }\n",
       "            }, 500);\n",
       "            "
      ],
      "text/plain": [
       "<IPython.core.display.Javascript object>"
      ]
     },
     "metadata": {},
     "output_type": "display_data"
    }
   ],
   "source": [
    "# # Create specific_roles_list for above popped value\n",
    "# specific_roles_list = (\n",
    "#     df.loc[\n",
    "#         [index for index in df.index if \"educator\" in df.loc[index, \"info\"]], \"info_2\",\n",
    "#     ]\n",
    "#     .value_counts()\n",
    "#     .index.tolist()\n",
    "# )"
   ]
  },
  {
   "cell_type": "code",
   "execution_count": 9,
   "id": "7890f870",
   "metadata": {},
   "outputs": [
    {
     "data": {
      "application/javascript": [
       "\n",
       "            setTimeout(function() {\n",
       "                var nbb_cell_id = 9;\n",
       "                var nbb_unformatted_code = \"# # Code to check each specific value\\n# specific_roles_list.pop()\";\n",
       "                var nbb_formatted_code = \"# # Code to check each specific value\\n# specific_roles_list.pop()\";\n",
       "                var nbb_cells = Jupyter.notebook.get_cells();\n",
       "                for (var i = 0; i < nbb_cells.length; ++i) {\n",
       "                    if (nbb_cells[i].input_prompt_number == nbb_cell_id) {\n",
       "                        if (nbb_cells[i].get_text() == nbb_unformatted_code) {\n",
       "                             nbb_cells[i].set_text(nbb_formatted_code);\n",
       "                        }\n",
       "                        break;\n",
       "                    }\n",
       "                }\n",
       "            }, 500);\n",
       "            "
      ],
      "text/plain": [
       "<IPython.core.display.Javascript object>"
      ]
     },
     "metadata": {},
     "output_type": "display_data"
    }
   ],
   "source": [
    "# # Code to check each specific value\n",
    "# specific_roles_list.pop()"
   ]
  },
  {
   "cell_type": "code",
   "execution_count": 10,
   "id": "abacd2a4",
   "metadata": {},
   "outputs": [
    {
     "data": {
      "application/javascript": [
       "\n",
       "            setTimeout(function() {\n",
       "                var nbb_cell_id = 10;\n",
       "                var nbb_unformatted_code = \"# # Example code to quick-screen values that may overlap categories\\n# df.loc[[index for index in df.index if \\\"sex educator\\\" in df.loc[index, \\\"info\\\"]]]\";\n",
       "                var nbb_formatted_code = \"# # Example code to quick-screen values that may overlap categories\\n# df.loc[[index for index in df.index if \\\"sex educator\\\" in df.loc[index, \\\"info\\\"]]]\";\n",
       "                var nbb_cells = Jupyter.notebook.get_cells();\n",
       "                for (var i = 0; i < nbb_cells.length; ++i) {\n",
       "                    if (nbb_cells[i].input_prompt_number == nbb_cell_id) {\n",
       "                        if (nbb_cells[i].get_text() == nbb_unformatted_code) {\n",
       "                             nbb_cells[i].set_text(nbb_formatted_code);\n",
       "                        }\n",
       "                        break;\n",
       "                    }\n",
       "                }\n",
       "            }, 500);\n",
       "            "
      ],
      "text/plain": [
       "<IPython.core.display.Javascript object>"
      ]
     },
     "metadata": {},
     "output_type": "display_data"
    }
   ],
   "source": [
    "# # Example code to quick-screen values that may overlap categories\n",
    "# df.loc[[index for index in df.index if \"sex educator\" in df.loc[index, \"info\"]]]"
   ]
  },
  {
   "cell_type": "code",
   "execution_count": 11,
   "id": "28da67f3",
   "metadata": {},
   "outputs": [
    {
     "data": {
      "application/javascript": [
       "\n",
       "            setTimeout(function() {\n",
       "                var nbb_cell_id = 11;\n",
       "                var nbb_unformatted_code = \"# # Example code to quick-screen values that may overlap categories\\n# df.loc[\\n#     [\\n#         index\\n#         for index in df.index\\n#         if \\\"outlaw country music singer songwriter\\\" in df.loc[index, \\\"info\\\"]\\n#     ]\\n# ]\";\n",
       "                var nbb_formatted_code = \"# # Example code to quick-screen values that may overlap categories\\n# df.loc[\\n#     [\\n#         index\\n#         for index in df.index\\n#         if \\\"outlaw country music singer songwriter\\\" in df.loc[index, \\\"info\\\"]\\n#     ]\\n# ]\";\n",
       "                var nbb_cells = Jupyter.notebook.get_cells();\n",
       "                for (var i = 0; i < nbb_cells.length; ++i) {\n",
       "                    if (nbb_cells[i].input_prompt_number == nbb_cell_id) {\n",
       "                        if (nbb_cells[i].get_text() == nbb_unformatted_code) {\n",
       "                             nbb_cells[i].set_text(nbb_formatted_code);\n",
       "                        }\n",
       "                        break;\n",
       "                    }\n",
       "                }\n",
       "            }, 500);\n",
       "            "
      ],
      "text/plain": [
       "<IPython.core.display.Javascript object>"
      ]
     },
     "metadata": {},
     "output_type": "display_data"
    }
   ],
   "source": [
    "# # Example code to quick-screen values that may overlap categories\n",
    "# df.loc[\n",
    "#     [\n",
    "#         index\n",
    "#         for index in df.index\n",
    "#         if \"outlaw country music singer songwriter\" in df.loc[index, \"info\"]\n",
    "#     ]\n",
    "# ]"
   ]
  },
  {
   "cell_type": "code",
   "execution_count": 12,
   "id": "728c5d8f",
   "metadata": {},
   "outputs": [
    {
     "data": {
      "application/javascript": [
       "\n",
       "            setTimeout(function() {\n",
       "                var nbb_cell_id = 12;\n",
       "                var nbb_unformatted_code = \"# # Example code to quick-check a specific entry\\n# df[df[\\\"info_2\\\"] == \\\"specialist in studies and educator\\\"]\";\n",
       "                var nbb_formatted_code = \"# # Example code to quick-check a specific entry\\n# df[df[\\\"info_2\\\"] == \\\"specialist in studies and educator\\\"]\";\n",
       "                var nbb_cells = Jupyter.notebook.get_cells();\n",
       "                for (var i = 0; i < nbb_cells.length; ++i) {\n",
       "                    if (nbb_cells[i].input_prompt_number == nbb_cell_id) {\n",
       "                        if (nbb_cells[i].get_text() == nbb_unformatted_code) {\n",
       "                             nbb_cells[i].set_text(nbb_formatted_code);\n",
       "                        }\n",
       "                        break;\n",
       "                    }\n",
       "                }\n",
       "            }, 500);\n",
       "            "
      ],
      "text/plain": [
       "<IPython.core.display.Javascript object>"
      ]
     },
     "metadata": {},
     "output_type": "display_data"
    }
   ],
   "source": [
    "# # Example code to quick-check a specific entry\n",
    "# df[df[\"info_2\"] == \"specialist in studies and educator\"]"
   ]
  },
  {
   "cell_type": "markdown",
   "id": "a1b530de",
   "metadata": {},
   "source": [
    "#### Creating Lists for Each `known_for` Category"
   ]
  },
  {
   "cell_type": "code",
   "execution_count": 13,
   "id": "22dc753a",
   "metadata": {},
   "outputs": [
    {
     "data": {
      "application/javascript": [
       "\n",
       "            setTimeout(function() {\n",
       "                var nbb_cell_id = 13;\n",
       "                var nbb_unformatted_code = \"# Creating lists for each category\\npolitics_govt_law = [\\n    \\\"struggle veteran\\\",\\n]\\n\\narts = []\\nsports = []\\nsciences = [\\n    \\\"and wonen health\\\",\\n]\\n\\nbusiness_farming = []\\nacademia_humanities = [\\n    \\\"educator and scholar\\\",\\n    \\\"educator and M\\u0101ori language proponent\\\",\\n    \\\"and early childhood educator\\\",\\n    \\\"educator and professor\\\",\\n    \\\"scholar and educator\\\",\\n    \\\"educator and public schools superintendent\\\",\\n    \\\"AIDS educator and\\\",\\n    \\\"AIDS educator\\\",\\n    \\\"educator and director of the Advanced Placement Program\\\",\\n    \\\"educator and librarian\\\",\\n    \\\"adult educator\\\",\\n    \\\"university educator\\\",\\n    \\\"linguist and educator\\\",\\n    \\\"librarian and educator\\\",\\n    \\\"specialist in studies and educator\\\",\\n    \\\"Native educator\\\",\\n    \\\"educator and debate coach\\\",\\n    \\\"language linguist and educator\\\",\\n    \\\"Sanskrit scholar and educator\\\",\\n    \\\"educator and musicologist\\\",\\n    \\\"educator and anthropologist\\\",\\n    \\\"teacher and educator\\\",\\n    \\\"educator and college administrator\\\",\\n    \\\"Inuit educator\\\",\\n    \\\"educator and university administrator\\\",\\n    \\\"translator and educator\\\",\\n    \\\"and educator\\\",\\n    \\\"educator and\\\",\\n    \\\"educator\\\",\\n]\\nlaw_enf_military_operator = []\\nspiritual = []\\nsocial = []\\ncrime = []\\nevent_record_other = []\\nother_species = []\";\n",
       "                var nbb_formatted_code = \"# Creating lists for each category\\npolitics_govt_law = [\\n    \\\"struggle veteran\\\",\\n]\\n\\narts = []\\nsports = []\\nsciences = [\\n    \\\"and wonen health\\\",\\n]\\n\\nbusiness_farming = []\\nacademia_humanities = [\\n    \\\"educator and scholar\\\",\\n    \\\"educator and M\\u0101ori language proponent\\\",\\n    \\\"and early childhood educator\\\",\\n    \\\"educator and professor\\\",\\n    \\\"scholar and educator\\\",\\n    \\\"educator and public schools superintendent\\\",\\n    \\\"AIDS educator and\\\",\\n    \\\"AIDS educator\\\",\\n    \\\"educator and director of the Advanced Placement Program\\\",\\n    \\\"educator and librarian\\\",\\n    \\\"adult educator\\\",\\n    \\\"university educator\\\",\\n    \\\"linguist and educator\\\",\\n    \\\"librarian and educator\\\",\\n    \\\"specialist in studies and educator\\\",\\n    \\\"Native educator\\\",\\n    \\\"educator and debate coach\\\",\\n    \\\"language linguist and educator\\\",\\n    \\\"Sanskrit scholar and educator\\\",\\n    \\\"educator and musicologist\\\",\\n    \\\"educator and anthropologist\\\",\\n    \\\"teacher and educator\\\",\\n    \\\"educator and college administrator\\\",\\n    \\\"Inuit educator\\\",\\n    \\\"educator and university administrator\\\",\\n    \\\"translator and educator\\\",\\n    \\\"and educator\\\",\\n    \\\"educator and\\\",\\n    \\\"educator\\\",\\n]\\nlaw_enf_military_operator = []\\nspiritual = []\\nsocial = []\\ncrime = []\\nevent_record_other = []\\nother_species = []\";\n",
       "                var nbb_cells = Jupyter.notebook.get_cells();\n",
       "                for (var i = 0; i < nbb_cells.length; ++i) {\n",
       "                    if (nbb_cells[i].input_prompt_number == nbb_cell_id) {\n",
       "                        if (nbb_cells[i].get_text() == nbb_unformatted_code) {\n",
       "                             nbb_cells[i].set_text(nbb_formatted_code);\n",
       "                        }\n",
       "                        break;\n",
       "                    }\n",
       "                }\n",
       "            }, 500);\n",
       "            "
      ],
      "text/plain": [
       "<IPython.core.display.Javascript object>"
      ]
     },
     "metadata": {},
     "output_type": "display_data"
    }
   ],
   "source": [
    "# Creating lists for each category\n",
    "politics_govt_law = [\n",
    "    \"struggle veteran\",\n",
    "]\n",
    "\n",
    "arts = []\n",
    "sports = []\n",
    "sciences = [\n",
    "    \"and wonen health\",\n",
    "]\n",
    "\n",
    "business_farming = []\n",
    "academia_humanities = [\n",
    "    \"educator and scholar\",\n",
    "    \"educator and Māori language proponent\",\n",
    "    \"and early childhood educator\",\n",
    "    \"educator and professor\",\n",
    "    \"scholar and educator\",\n",
    "    \"educator and public schools superintendent\",\n",
    "    \"AIDS educator and\",\n",
    "    \"AIDS educator\",\n",
    "    \"educator and director of the Advanced Placement Program\",\n",
    "    \"educator and librarian\",\n",
    "    \"adult educator\",\n",
    "    \"university educator\",\n",
    "    \"linguist and educator\",\n",
    "    \"librarian and educator\",\n",
    "    \"specialist in studies and educator\",\n",
    "    \"Native educator\",\n",
    "    \"educator and debate coach\",\n",
    "    \"language linguist and educator\",\n",
    "    \"Sanskrit scholar and educator\",\n",
    "    \"educator and musicologist\",\n",
    "    \"educator and anthropologist\",\n",
    "    \"teacher and educator\",\n",
    "    \"educator and college administrator\",\n",
    "    \"Inuit educator\",\n",
    "    \"educator and university administrator\",\n",
    "    \"translator and educator\",\n",
    "    \"and educator\",\n",
    "    \"educator and\",\n",
    "    \"educator\",\n",
    "]\n",
    "law_enf_military_operator = []\n",
    "spiritual = []\n",
    "social = []\n",
    "crime = []\n",
    "event_record_other = []\n",
    "other_species = []"
   ]
  },
  {
   "cell_type": "markdown",
   "id": "a8c50018",
   "metadata": {},
   "source": [
    "#### Creating `known_for_dict` Dictionary of Category Keys and Specific Role Lists of Values"
   ]
  },
  {
   "cell_type": "code",
   "execution_count": 14,
   "id": "bf7ea36c",
   "metadata": {},
   "outputs": [
    {
     "data": {
      "application/javascript": [
       "\n",
       "            setTimeout(function() {\n",
       "                var nbb_cell_id = 14;\n",
       "                var nbb_unformatted_code = \"# Combining separate lists into one dictionary\\nknown_for_dict = {\\n    \\\"social\\\": social,\\n    \\\"spiritual\\\": spiritual,\\n    \\\"academia_humanities\\\": academia_humanities,\\n    \\\"business_farming\\\": business_farming,\\n    \\\"sciences\\\": sciences,\\n    \\\"politics_govt_law\\\": politics_govt_law,\\n    \\\"law_enf_military_operator\\\": law_enf_military_operator,\\n    \\\"crime\\\": crime,\\n    \\\"event_record_other\\\": event_record_other,\\n    \\\"other_species\\\": other_species,\\n    \\\"arts\\\": arts,\\n    \\\"sports\\\": sports,\\n}\";\n",
       "                var nbb_formatted_code = \"# Combining separate lists into one dictionary\\nknown_for_dict = {\\n    \\\"social\\\": social,\\n    \\\"spiritual\\\": spiritual,\\n    \\\"academia_humanities\\\": academia_humanities,\\n    \\\"business_farming\\\": business_farming,\\n    \\\"sciences\\\": sciences,\\n    \\\"politics_govt_law\\\": politics_govt_law,\\n    \\\"law_enf_military_operator\\\": law_enf_military_operator,\\n    \\\"crime\\\": crime,\\n    \\\"event_record_other\\\": event_record_other,\\n    \\\"other_species\\\": other_species,\\n    \\\"arts\\\": arts,\\n    \\\"sports\\\": sports,\\n}\";\n",
       "                var nbb_cells = Jupyter.notebook.get_cells();\n",
       "                for (var i = 0; i < nbb_cells.length; ++i) {\n",
       "                    if (nbb_cells[i].input_prompt_number == nbb_cell_id) {\n",
       "                        if (nbb_cells[i].get_text() == nbb_unformatted_code) {\n",
       "                             nbb_cells[i].set_text(nbb_formatted_code);\n",
       "                        }\n",
       "                        break;\n",
       "                    }\n",
       "                }\n",
       "            }, 500);\n",
       "            "
      ],
      "text/plain": [
       "<IPython.core.display.Javascript object>"
      ]
     },
     "metadata": {},
     "output_type": "display_data"
    }
   ],
   "source": [
    "# Combining separate lists into one dictionary\n",
    "known_for_dict = {\n",
    "    \"social\": social,\n",
    "    \"spiritual\": spiritual,\n",
    "    \"academia_humanities\": academia_humanities,\n",
    "    \"business_farming\": business_farming,\n",
    "    \"sciences\": sciences,\n",
    "    \"politics_govt_law\": politics_govt_law,\n",
    "    \"law_enf_military_operator\": law_enf_military_operator,\n",
    "    \"crime\": crime,\n",
    "    \"event_record_other\": event_record_other,\n",
    "    \"other_species\": other_species,\n",
    "    \"arts\": arts,\n",
    "    \"sports\": sports,\n",
    "}"
   ]
  },
  {
   "cell_type": "markdown",
   "id": "e145fcfd",
   "metadata": {},
   "source": [
    "#### Extracting Category from `info_2`"
   ]
  },
  {
   "cell_type": "code",
   "execution_count": 15,
   "id": "6fb9d709",
   "metadata": {},
   "outputs": [
    {
     "name": "stdout",
     "output_type": "stream",
     "text": [
      "CPU times: total: 16 s\n",
      "Wall time: 16 s\n"
     ]
    },
    {
     "data": {
      "text/html": [
       "<div>\n",
       "<style scoped>\n",
       "    .dataframe tbody tr th:only-of-type {\n",
       "        vertical-align: middle;\n",
       "    }\n",
       "\n",
       "    .dataframe tbody tr th {\n",
       "        vertical-align: top;\n",
       "    }\n",
       "\n",
       "    .dataframe thead th {\n",
       "        text-align: right;\n",
       "    }\n",
       "</style>\n",
       "<table border=\"1\" class=\"dataframe\">\n",
       "  <thead>\n",
       "    <tr style=\"text-align: right;\">\n",
       "      <th></th>\n",
       "      <th>day</th>\n",
       "      <th>name</th>\n",
       "      <th>info</th>\n",
       "      <th>link</th>\n",
       "      <th>num_references</th>\n",
       "      <th>year</th>\n",
       "      <th>month</th>\n",
       "      <th>info_parenth</th>\n",
       "      <th>info_1</th>\n",
       "      <th>info_2</th>\n",
       "      <th>info_3</th>\n",
       "      <th>info_4</th>\n",
       "      <th>info_5</th>\n",
       "      <th>info_6</th>\n",
       "      <th>info_7</th>\n",
       "      <th>info_8</th>\n",
       "      <th>info_9</th>\n",
       "      <th>info_10</th>\n",
       "      <th>info_11</th>\n",
       "      <th>age</th>\n",
       "      <th>cause_of_death</th>\n",
       "      <th>place_1</th>\n",
       "      <th>place_2</th>\n",
       "      <th>info_parenth_copy</th>\n",
       "      <th>log_num_references</th>\n",
       "      <th>sciences</th>\n",
       "      <th>social</th>\n",
       "      <th>spiritual</th>\n",
       "      <th>academia_humanities</th>\n",
       "      <th>business_farming</th>\n",
       "      <th>arts</th>\n",
       "      <th>sports</th>\n",
       "      <th>law_enf_military_operator</th>\n",
       "      <th>politics_govt_law</th>\n",
       "      <th>crime</th>\n",
       "      <th>event_record_other</th>\n",
       "      <th>other_species</th>\n",
       "      <th>num_categories</th>\n",
       "    </tr>\n",
       "  </thead>\n",
       "  <tbody>\n",
       "    <tr>\n",
       "      <th>91899</th>\n",
       "      <td>8</td>\n",
       "      <td>Lila R. Gleitman</td>\n",
       "      <td>, 91, American academic .</td>\n",
       "      <td>https://en.wikipedia.org/wiki/Lila_R._Gleitman</td>\n",
       "      <td>16</td>\n",
       "      <td>2021</td>\n",
       "      <td>August</td>\n",
       "      <td>University of</td>\n",
       "      <td>None</td>\n",
       "      <td></td>\n",
       "      <td>None</td>\n",
       "      <td>None</td>\n",
       "      <td>None</td>\n",
       "      <td>None</td>\n",
       "      <td>None</td>\n",
       "      <td>None</td>\n",
       "      <td>None</td>\n",
       "      <td>None</td>\n",
       "      <td>None</td>\n",
       "      <td>91.0</td>\n",
       "      <td>None</td>\n",
       "      <td>United States of America</td>\n",
       "      <td>None</td>\n",
       "      <td>University of Pennsylvania</td>\n",
       "      <td>2.833213</td>\n",
       "      <td>0</td>\n",
       "      <td>0</td>\n",
       "      <td>0</td>\n",
       "      <td>1</td>\n",
       "      <td>0</td>\n",
       "      <td>0</td>\n",
       "      <td>0</td>\n",
       "      <td>0</td>\n",
       "      <td>0</td>\n",
       "      <td>0</td>\n",
       "      <td>0</td>\n",
       "      <td>0</td>\n",
       "      <td>1</td>\n",
       "    </tr>\n",
       "    <tr>\n",
       "      <th>43854</th>\n",
       "      <td>28</td>\n",
       "      <td>F.D. Reeve</td>\n",
       "      <td>, 84, American academic and author.</td>\n",
       "      <td>https://en.wikipedia.org/wiki/F.D._Reeve</td>\n",
       "      <td>5</td>\n",
       "      <td>2013</td>\n",
       "      <td>June</td>\n",
       "      <td>None</td>\n",
       "      <td>None</td>\n",
       "      <td></td>\n",
       "      <td>None</td>\n",
       "      <td>None</td>\n",
       "      <td>None</td>\n",
       "      <td>None</td>\n",
       "      <td>None</td>\n",
       "      <td>None</td>\n",
       "      <td>None</td>\n",
       "      <td>None</td>\n",
       "      <td>None</td>\n",
       "      <td>84.0</td>\n",
       "      <td>None</td>\n",
       "      <td>United States of America</td>\n",
       "      <td>None</td>\n",
       "      <td>None</td>\n",
       "      <td>1.791759</td>\n",
       "      <td>0</td>\n",
       "      <td>0</td>\n",
       "      <td>0</td>\n",
       "      <td>1</td>\n",
       "      <td>0</td>\n",
       "      <td>1</td>\n",
       "      <td>0</td>\n",
       "      <td>0</td>\n",
       "      <td>0</td>\n",
       "      <td>0</td>\n",
       "      <td>0</td>\n",
       "      <td>0</td>\n",
       "      <td>2</td>\n",
       "    </tr>\n",
       "  </tbody>\n",
       "</table>\n",
       "</div>"
      ],
      "text/plain": [
       "      day              name                                 info  \\\n",
       "91899   8  Lila R. Gleitman            , 91, American academic .   \n",
       "43854  28        F.D. Reeve  , 84, American academic and author.   \n",
       "\n",
       "                                                 link  num_references  year  \\\n",
       "91899  https://en.wikipedia.org/wiki/Lila_R._Gleitman              16  2021   \n",
       "43854        https://en.wikipedia.org/wiki/F.D._Reeve               5  2013   \n",
       "\n",
       "        month   info_parenth info_1 info_2 info_3 info_4 info_5 info_6 info_7  \\\n",
       "91899  August  University of   None          None   None   None   None   None   \n",
       "43854    June           None   None          None   None   None   None   None   \n",
       "\n",
       "      info_8 info_9 info_10 info_11   age cause_of_death  \\\n",
       "91899   None   None    None    None  91.0           None   \n",
       "43854   None   None    None    None  84.0           None   \n",
       "\n",
       "                        place_1 place_2           info_parenth_copy  \\\n",
       "91899  United States of America    None  University of Pennsylvania   \n",
       "43854  United States of America    None                        None   \n",
       "\n",
       "       log_num_references  sciences  social  spiritual  academia_humanities  \\\n",
       "91899            2.833213         0       0          0                    1   \n",
       "43854            1.791759         0       0          0                    1   \n",
       "\n",
       "       business_farming  arts  sports  law_enf_military_operator  \\\n",
       "91899                 0     0       0                          0   \n",
       "43854                 0     1       0                          0   \n",
       "\n",
       "       politics_govt_law  crime  event_record_other  other_species  \\\n",
       "91899                  0      0                   0              0   \n",
       "43854                  0      0                   0              0   \n",
       "\n",
       "       num_categories  \n",
       "91899               1  \n",
       "43854               2  "
      ]
     },
     "execution_count": 15,
     "metadata": {},
     "output_type": "execute_result"
    },
    {
     "data": {
      "application/javascript": [
       "\n",
       "            setTimeout(function() {\n",
       "                var nbb_cell_id = 15;\n",
       "                var nbb_unformatted_code = \"%%time\\n\\n# Dictionary version\\nsearch_dict = known_for_dict\\n\\n# Column to check\\ncolumn = 'info_2'\\n\\n# Dataframe\\ndataframe = df[column].notna()\\n\\n# For loop to find role in column and extract it as category\\nfor category, category_lst in search_dict.items():\\n    for role in category_lst:\\n        for index in dataframe.index:\\n            item = df.loc[index, column]\\n            if item:\\n                if role in item:\\n                    df.loc[index, category] = 1\\n                    df.loc[index, column] = item.replace(role, '').strip()\\n\\n# Updating num_categories\\ndf[\\\"num_categories\\\"] = df[known_for_dict.keys()].sum(axis=1)\\n\\n# Checking a sample of rows\\ndf[df['academia_humanities'] ==1].sample(2)\";\n",
       "                var nbb_formatted_code = \"%%time\\n\\n# Dictionary version\\nsearch_dict = known_for_dict\\n\\n# Column to check\\ncolumn = 'info_2'\\n\\n# Dataframe\\ndataframe = df[column].notna()\\n\\n# For loop to find role in column and extract it as category\\nfor category, category_lst in search_dict.items():\\n    for role in category_lst:\\n        for index in dataframe.index:\\n            item = df.loc[index, column]\\n            if item:\\n                if role in item:\\n                    df.loc[index, category] = 1\\n                    df.loc[index, column] = item.replace(role, '').strip()\\n\\n# Updating num_categories\\ndf[\\\"num_categories\\\"] = df[known_for_dict.keys()].sum(axis=1)\\n\\n# Checking a sample of rows\\ndf[df['academia_humanities'] ==1].sample(2)\";\n",
       "                var nbb_cells = Jupyter.notebook.get_cells();\n",
       "                for (var i = 0; i < nbb_cells.length; ++i) {\n",
       "                    if (nbb_cells[i].input_prompt_number == nbb_cell_id) {\n",
       "                        if (nbb_cells[i].get_text() == nbb_unformatted_code) {\n",
       "                             nbb_cells[i].set_text(nbb_formatted_code);\n",
       "                        }\n",
       "                        break;\n",
       "                    }\n",
       "                }\n",
       "            }, 500);\n",
       "            "
      ],
      "text/plain": [
       "<IPython.core.display.Javascript object>"
      ]
     },
     "metadata": {},
     "output_type": "display_data"
    }
   ],
   "source": [
    "%%time\n",
    "\n",
    "# Dictionary version\n",
    "search_dict = known_for_dict\n",
    "\n",
    "# Column to check\n",
    "column = 'info_2'\n",
    "\n",
    "# Dataframe\n",
    "dataframe = df[column].notna()\n",
    "\n",
    "# For loop to find role in column and extract it as category\n",
    "for category, category_lst in search_dict.items():\n",
    "    for role in category_lst:\n",
    "        for index in dataframe.index:\n",
    "            item = df.loc[index, column]\n",
    "            if item:\n",
    "                if role in item:\n",
    "                    df.loc[index, category] = 1\n",
    "                    df.loc[index, column] = item.replace(role, '').strip()\n",
    "\n",
    "# Updating num_categories\n",
    "df[\"num_categories\"] = df[known_for_dict.keys()].sum(axis=1)\n",
    "\n",
    "# Checking a sample of rows\n",
    "df[df['academia_humanities'] ==1].sample(2)"
   ]
  },
  {
   "cell_type": "markdown",
   "id": "7173507c",
   "metadata": {},
   "source": [
    "#### Checking the Number of Rows without a First Category"
   ]
  },
  {
   "cell_type": "code",
   "execution_count": 16,
   "id": "c855203d",
   "metadata": {},
   "outputs": [
    {
     "name": "stdout",
     "output_type": "stream",
     "text": [
      "There are 37846 entries without any known_for category.\n"
     ]
    },
    {
     "data": {
      "application/javascript": [
       "\n",
       "            setTimeout(function() {\n",
       "                var nbb_cell_id = 16;\n",
       "                var nbb_unformatted_code = \"# Checking the number of rows without a first category\\nprint(\\n    f'There are {len(df[df[\\\"num_categories\\\"]==0])} entries without any known_for category.'\\n)\";\n",
       "                var nbb_formatted_code = \"# Checking the number of rows without a first category\\nprint(\\n    f'There are {len(df[df[\\\"num_categories\\\"]==0])} entries without any known_for category.'\\n)\";\n",
       "                var nbb_cells = Jupyter.notebook.get_cells();\n",
       "                for (var i = 0; i < nbb_cells.length; ++i) {\n",
       "                    if (nbb_cells[i].input_prompt_number == nbb_cell_id) {\n",
       "                        if (nbb_cells[i].get_text() == nbb_unformatted_code) {\n",
       "                             nbb_cells[i].set_text(nbb_formatted_code);\n",
       "                        }\n",
       "                        break;\n",
       "                    }\n",
       "                }\n",
       "            }, 500);\n",
       "            "
      ],
      "text/plain": [
       "<IPython.core.display.Javascript object>"
      ]
     },
     "metadata": {},
     "output_type": "display_data"
    }
   ],
   "source": [
    "# Checking the number of rows without a first category\n",
    "print(\n",
    "    f'There are {len(df[df[\"num_categories\"]==0])} entries without any known_for category.'\n",
    ")"
   ]
  },
  {
   "cell_type": "markdown",
   "id": "5c4138bc",
   "metadata": {},
   "source": [
    "#### Observations:\n",
    "- We will proceed to rebuild `known_for_dict` for the next iteration."
   ]
  },
  {
   "cell_type": "markdown",
   "id": "f38afd4d",
   "metadata": {},
   "source": [
    "#### Finding `known_for` Roles in `info_2`"
   ]
  },
  {
   "cell_type": "code",
   "execution_count": 17,
   "id": "6f319aee",
   "metadata": {},
   "outputs": [
    {
     "data": {
      "application/javascript": [
       "\n",
       "            setTimeout(function() {\n",
       "                var nbb_cell_id = 17;\n",
       "                var nbb_unformatted_code = \"# Obtaining values for column and their counts\\nroles_list = df[\\\"info_2\\\"].value_counts(ascending=True).index.tolist()\";\n",
       "                var nbb_formatted_code = \"# Obtaining values for column and their counts\\nroles_list = df[\\\"info_2\\\"].value_counts(ascending=True).index.tolist()\";\n",
       "                var nbb_cells = Jupyter.notebook.get_cells();\n",
       "                for (var i = 0; i < nbb_cells.length; ++i) {\n",
       "                    if (nbb_cells[i].input_prompt_number == nbb_cell_id) {\n",
       "                        if (nbb_cells[i].get_text() == nbb_unformatted_code) {\n",
       "                             nbb_cells[i].set_text(nbb_formatted_code);\n",
       "                        }\n",
       "                        break;\n",
       "                    }\n",
       "                }\n",
       "            }, 500);\n",
       "            "
      ],
      "text/plain": [
       "<IPython.core.display.Javascript object>"
      ]
     },
     "metadata": {},
     "output_type": "display_data"
    }
   ],
   "source": [
    "# Obtaining values for column and their counts\n",
    "roles_list = df[\"info_2\"].value_counts(ascending=True).index.tolist()"
   ]
  },
  {
   "cell_type": "code",
   "execution_count": 18,
   "id": "e0ea6cc0",
   "metadata": {},
   "outputs": [
    {
     "data": {
      "application/javascript": [
       "\n",
       "            setTimeout(function() {\n",
       "                var nbb_cell_id = 18;\n",
       "                var nbb_unformatted_code = \"# # Code to check each value\\n# roles_list.pop()\";\n",
       "                var nbb_formatted_code = \"# # Code to check each value\\n# roles_list.pop()\";\n",
       "                var nbb_cells = Jupyter.notebook.get_cells();\n",
       "                for (var i = 0; i < nbb_cells.length; ++i) {\n",
       "                    if (nbb_cells[i].input_prompt_number == nbb_cell_id) {\n",
       "                        if (nbb_cells[i].get_text() == nbb_unformatted_code) {\n",
       "                             nbb_cells[i].set_text(nbb_formatted_code);\n",
       "                        }\n",
       "                        break;\n",
       "                    }\n",
       "                }\n",
       "            }, 500);\n",
       "            "
      ],
      "text/plain": [
       "<IPython.core.display.Javascript object>"
      ]
     },
     "metadata": {},
     "output_type": "display_data"
    }
   ],
   "source": [
    "# # Code to check each value\n",
    "# roles_list.pop()"
   ]
  },
  {
   "cell_type": "code",
   "execution_count": 19,
   "id": "a31ca592",
   "metadata": {},
   "outputs": [
    {
     "data": {
      "application/javascript": [
       "\n",
       "            setTimeout(function() {\n",
       "                var nbb_cell_id = 19;\n",
       "                var nbb_unformatted_code = \"# # Create specific_roles_list for above popped value\\n# specific_roles_list = (\\n#     df.loc[\\n#         [index for index in df.index if \\\"chemist\\\" in df.loc[index, \\\"info\\\"]], \\\"info_2\\\",\\n#     ]\\n#     .value_counts()\\n#     .index.tolist()\\n# )\";\n",
       "                var nbb_formatted_code = \"# # Create specific_roles_list for above popped value\\n# specific_roles_list = (\\n#     df.loc[\\n#         [index for index in df.index if \\\"chemist\\\" in df.loc[index, \\\"info\\\"]], \\\"info_2\\\",\\n#     ]\\n#     .value_counts()\\n#     .index.tolist()\\n# )\";\n",
       "                var nbb_cells = Jupyter.notebook.get_cells();\n",
       "                for (var i = 0; i < nbb_cells.length; ++i) {\n",
       "                    if (nbb_cells[i].input_prompt_number == nbb_cell_id) {\n",
       "                        if (nbb_cells[i].get_text() == nbb_unformatted_code) {\n",
       "                             nbb_cells[i].set_text(nbb_formatted_code);\n",
       "                        }\n",
       "                        break;\n",
       "                    }\n",
       "                }\n",
       "            }, 500);\n",
       "            "
      ],
      "text/plain": [
       "<IPython.core.display.Javascript object>"
      ]
     },
     "metadata": {},
     "output_type": "display_data"
    }
   ],
   "source": [
    "# # Create specific_roles_list for above popped value\n",
    "# specific_roles_list = (\n",
    "#     df.loc[\n",
    "#         [index for index in df.index if \"chemist\" in df.loc[index, \"info\"]], \"info_2\",\n",
    "#     ]\n",
    "#     .value_counts()\n",
    "#     .index.tolist()\n",
    "# )"
   ]
  },
  {
   "cell_type": "code",
   "execution_count": 20,
   "id": "3d583bf8",
   "metadata": {},
   "outputs": [
    {
     "data": {
      "application/javascript": [
       "\n",
       "            setTimeout(function() {\n",
       "                var nbb_cell_id = 20;\n",
       "                var nbb_unformatted_code = \"# # Code to check each specific value\\n# specific_roles_list.pop()\";\n",
       "                var nbb_formatted_code = \"# # Code to check each specific value\\n# specific_roles_list.pop()\";\n",
       "                var nbb_cells = Jupyter.notebook.get_cells();\n",
       "                for (var i = 0; i < nbb_cells.length; ++i) {\n",
       "                    if (nbb_cells[i].input_prompt_number == nbb_cell_id) {\n",
       "                        if (nbb_cells[i].get_text() == nbb_unformatted_code) {\n",
       "                             nbb_cells[i].set_text(nbb_formatted_code);\n",
       "                        }\n",
       "                        break;\n",
       "                    }\n",
       "                }\n",
       "            }, 500);\n",
       "            "
      ],
      "text/plain": [
       "<IPython.core.display.Javascript object>"
      ]
     },
     "metadata": {},
     "output_type": "display_data"
    }
   ],
   "source": [
    "# # Code to check each specific value\n",
    "# specific_roles_list.pop()"
   ]
  },
  {
   "cell_type": "code",
   "execution_count": 21,
   "id": "79a50837",
   "metadata": {},
   "outputs": [
    {
     "data": {
      "application/javascript": [
       "\n",
       "            setTimeout(function() {\n",
       "                var nbb_cell_id = 21;\n",
       "                var nbb_unformatted_code = \"# # Example code to quick-screen values that may overlap categories\\n# df.loc[[index for index in df.index if \\\"houngan\\\" in df.loc[index, \\\"info\\\"]]]\";\n",
       "                var nbb_formatted_code = \"# # Example code to quick-screen values that may overlap categories\\n# df.loc[[index for index in df.index if \\\"houngan\\\" in df.loc[index, \\\"info\\\"]]]\";\n",
       "                var nbb_cells = Jupyter.notebook.get_cells();\n",
       "                for (var i = 0; i < nbb_cells.length; ++i) {\n",
       "                    if (nbb_cells[i].input_prompt_number == nbb_cell_id) {\n",
       "                        if (nbb_cells[i].get_text() == nbb_unformatted_code) {\n",
       "                             nbb_cells[i].set_text(nbb_formatted_code);\n",
       "                        }\n",
       "                        break;\n",
       "                    }\n",
       "                }\n",
       "            }, 500);\n",
       "            "
      ],
      "text/plain": [
       "<IPython.core.display.Javascript object>"
      ]
     },
     "metadata": {},
     "output_type": "display_data"
    }
   ],
   "source": [
    "# # Example code to quick-screen values that may overlap categories\n",
    "# df.loc[[index for index in df.index if \"houngan\" in df.loc[index, \"info\"]]]"
   ]
  },
  {
   "cell_type": "code",
   "execution_count": 22,
   "id": "a98b3dba",
   "metadata": {},
   "outputs": [
    {
     "data": {
      "application/javascript": [
       "\n",
       "            setTimeout(function() {\n",
       "                var nbb_cell_id = 22;\n",
       "                var nbb_unformatted_code = \"# # Example code to quick-check a specific entry\\n# df[df[\\\"info_2\\\"] == \\\"chemist and astronaut candidate\\\"]\";\n",
       "                var nbb_formatted_code = \"# # Example code to quick-check a specific entry\\n# df[df[\\\"info_2\\\"] == \\\"chemist and astronaut candidate\\\"]\";\n",
       "                var nbb_cells = Jupyter.notebook.get_cells();\n",
       "                for (var i = 0; i < nbb_cells.length; ++i) {\n",
       "                    if (nbb_cells[i].input_prompt_number == nbb_cell_id) {\n",
       "                        if (nbb_cells[i].get_text() == nbb_unformatted_code) {\n",
       "                             nbb_cells[i].set_text(nbb_formatted_code);\n",
       "                        }\n",
       "                        break;\n",
       "                    }\n",
       "                }\n",
       "            }, 500);\n",
       "            "
      ],
      "text/plain": [
       "<IPython.core.display.Javascript object>"
      ]
     },
     "metadata": {},
     "output_type": "display_data"
    }
   ],
   "source": [
    "# # Example code to quick-check a specific entry\n",
    "# df[df[\"info_2\"] == \"chemist and astronaut candidate\"]"
   ]
  },
  {
   "cell_type": "markdown",
   "id": "d80c80ab",
   "metadata": {},
   "source": [
    "#### Creating Lists for Each `known_for` Category"
   ]
  },
  {
   "cell_type": "code",
   "execution_count": 23,
   "id": "d398163b",
   "metadata": {},
   "outputs": [
    {
     "data": {
      "application/javascript": [
       "\n",
       "            setTimeout(function() {\n",
       "                var nbb_cell_id = 23;\n",
       "                var nbb_unformatted_code = \"# Creating lists for each category\\npolitics_govt_law = []\\n\\narts = []\\nsports = []\\nsciences = [\\n    \\\"theoretical chemist and Nobel Prize winner\\\",\\n    \\\"biochemist and molecular genetics pioneer\\\",\\n    \\\"native chemist\\\",\\n    \\\"biochemist and reproductive endocrinologist\\\",\\n    \\\"chemist and a winner of the Nobel Prize in Physics in\\\",\\n    \\\"chemist and Nobel Prize Laureate\\\",\\n    \\\"Nobel Prize winner in chemistry\\\",\\n    \\\"chemist and biologist\\\",\\n    \\\"biochemist and microbiologist\\\",\\n    \\\"nutritionist and biochemist\\\",\\n    \\\"neuroscience biochemist\\\",\\n    \\\"quantum chemist\\\",\\n    \\\"research chemist\\\",\\n    \\\"theoretical chemist and computer scientist\\\",\\n    \\\"research chemist and inventor\\\",\\n    \\\"chemist known for his work on the Manhattan Project\\\",\\n    \\\"biochemist and enzymologist\\\",\\n    \\\"scientist in the field of electrochemistry\\\",\\n    \\\"physical chemist at AT&T Bell Laboratories\\\",\\n    \\\"biochemist and Nobel Prize for Chemistry laureate\\\",\\n    \\\"industrial chemist best known for his work on polymers\\\",\\n    \\\"neurochemist and glycobiologist\\\",\\n    \\\"biochemist and virologist\\\",\\n    \\\"biochemist and recipient of the Nobel Prize in Physiology or Medicine\\\",\\n    \\\"physical and theoretical chemist\\\",\\n    \\\"chemist and mineralogist\\\",\\n    \\\"biochemist and cancer researcher\\\",\\n    \\\"biochemist and pharmacologist and recipient of the Nobel Prize in Physiology or Medicine\\\",\\n    \\\"nuclear chemist and recipient of the Nobel Prize in Chemistry\\\",\\n    \\\"chemist and co winner of Nobel Prize in Chemistry in\\\",\\n    \\\"botanist and chemist\\\",\\n    \\\"biochemist and protein crystallographer\\\",\\n    \\\"South wine chemist\\\",\\n    \\\"chemist and nuclear scientist\\\",\\n    \\\"oncologist and chemist\\\",\\n    \\\"chemist and science\\\",\\n    \\\"chemist and mass spectrometrist\\\",\\n    \\\"marine and freshwater chemist\\\",\\n    \\\"biochemist and molecular biologist\\\",\\n    \\\"protein chemist\\\",\\n    \\\"chemistry doctor\\\",\\n    \\\"Southern biochemist\\\",\\n    \\\"biochemist and developmental biologist\\\",\\n    \\\"biochemist and pharmacologist\\\",\\n    \\\"chemist and materials scientist\\\",\\n    \\\"biological chemist\\\",\\n    \\\"synthetic organic chemist\\\",\\n    \\\"atmospheric chemist\\\",\\n    \\\"chemist and researcher\\\",\\n    \\\"environmental chemist\\\",\\n    \\\"geochemist and planetary scientist\\\",\\n    \\\"physiologist and biochemist\\\",\\n    \\\"chemist and crystallographer\\\",\\n    \\\"scientist and agrochemist\\\",\\n    \\\"biochemist and physiologist\\\",\\n    \\\"biochemist and medical researcher\\\",\\n    \\\"textile chemist\\\",\\n    \\\"geologist and geochemist\\\",\\n    \\\"Congress chemist\\\",\\n    \\\"polymer chemist and inventor\\\",\\n    \\\"polymer chemist\\\",\\n    \\\"metallurgist and physical chemist\\\",\\n    \\\"chemist and astronaut candidate\\\",\\n    \\\"chemist and statistician\\\",\\n    \\\"cytologist and biochemist\\\",\\n    \\\"pharmacologist and biochemist\\\",\\n    \\\"natural product chemist\\\",\\n    \\\"chemist and Nobel laureate\\\",\\n    \\\"biochemist and Nobel Prize laureate\\\",\\n    \\\"biochemist and geneticist\\\",\\n    \\\"soil chemist and\\\",\\n    \\\"soil chemist\\\",\\n    \\\"biochemist and nutritionist\\\",\\n    \\\"pharmaceutical chemist\\\",\\n    \\\"Nobel Prize winning biochemist\\\",\\n    \\\"pharmacologist and chemist\\\",\\n    \\\"chemist and Nobel Prize laureate\\\",\\n    \\\"chemist and inventor\\\",\\n    \\\"biophysical chemist\\\",\\n    \\\"analytical chemist\\\",\\n    \\\"nuclear chemist\\\",\\n    \\\"electrochemist\\\",\\n    \\\"theoretical chemist\\\",\\n    \\\"inorganic chemist\\\",\\n    \\\"Nobel Prize winning chemist\\\",\\n    \\\"geochemist and\\\",\\n    \\\"geochemist\\\",\\n    \\\"physical chemist\\\",\\n    \\\"of organic chemistry and a\\\",\\n    \\\"of organic chemistry\\\",\\n    \\\"organic chemist and\\\",\\n    \\\"organic chemist\\\",\\n    \\\"of biochemistry\\\",\\n    \\\"and biochemist\\\",\\n    \\\"biochemist and\\\",\\n    \\\"biochemist\\\",\\n    \\\"of chemistry\\\",\\n    \\\"chemistry\\\",\\n    \\\"food chemist and\\\",\\n    \\\"chemist and\\\",\\n    \\\"and chemist\\\",\\n    \\\"chemist\\\",\\n]\\n\\nbusiness_farming = []\\nacademia_humanities = [\\n    \\\"the first Rector Magnificus of the University of Twente\\\",\\n]\\nlaw_enf_military_operator = []\\nspiritual = [\\n    \\\"houngan\\\",\\n]\\nsocial = []\\ncrime = [\\n    \\\"underground LSD chemist and\\\",  # before sciences\\n]\\nevent_record_other = []\\nother_species = []\";\n",
       "                var nbb_formatted_code = \"# Creating lists for each category\\npolitics_govt_law = []\\n\\narts = []\\nsports = []\\nsciences = [\\n    \\\"theoretical chemist and Nobel Prize winner\\\",\\n    \\\"biochemist and molecular genetics pioneer\\\",\\n    \\\"native chemist\\\",\\n    \\\"biochemist and reproductive endocrinologist\\\",\\n    \\\"chemist and a winner of the Nobel Prize in Physics in\\\",\\n    \\\"chemist and Nobel Prize Laureate\\\",\\n    \\\"Nobel Prize winner in chemistry\\\",\\n    \\\"chemist and biologist\\\",\\n    \\\"biochemist and microbiologist\\\",\\n    \\\"nutritionist and biochemist\\\",\\n    \\\"neuroscience biochemist\\\",\\n    \\\"quantum chemist\\\",\\n    \\\"research chemist\\\",\\n    \\\"theoretical chemist and computer scientist\\\",\\n    \\\"research chemist and inventor\\\",\\n    \\\"chemist known for his work on the Manhattan Project\\\",\\n    \\\"biochemist and enzymologist\\\",\\n    \\\"scientist in the field of electrochemistry\\\",\\n    \\\"physical chemist at AT&T Bell Laboratories\\\",\\n    \\\"biochemist and Nobel Prize for Chemistry laureate\\\",\\n    \\\"industrial chemist best known for his work on polymers\\\",\\n    \\\"neurochemist and glycobiologist\\\",\\n    \\\"biochemist and virologist\\\",\\n    \\\"biochemist and recipient of the Nobel Prize in Physiology or Medicine\\\",\\n    \\\"physical and theoretical chemist\\\",\\n    \\\"chemist and mineralogist\\\",\\n    \\\"biochemist and cancer researcher\\\",\\n    \\\"biochemist and pharmacologist and recipient of the Nobel Prize in Physiology or Medicine\\\",\\n    \\\"nuclear chemist and recipient of the Nobel Prize in Chemistry\\\",\\n    \\\"chemist and co winner of Nobel Prize in Chemistry in\\\",\\n    \\\"botanist and chemist\\\",\\n    \\\"biochemist and protein crystallographer\\\",\\n    \\\"South wine chemist\\\",\\n    \\\"chemist and nuclear scientist\\\",\\n    \\\"oncologist and chemist\\\",\\n    \\\"chemist and science\\\",\\n    \\\"chemist and mass spectrometrist\\\",\\n    \\\"marine and freshwater chemist\\\",\\n    \\\"biochemist and molecular biologist\\\",\\n    \\\"protein chemist\\\",\\n    \\\"chemistry doctor\\\",\\n    \\\"Southern biochemist\\\",\\n    \\\"biochemist and developmental biologist\\\",\\n    \\\"biochemist and pharmacologist\\\",\\n    \\\"chemist and materials scientist\\\",\\n    \\\"biological chemist\\\",\\n    \\\"synthetic organic chemist\\\",\\n    \\\"atmospheric chemist\\\",\\n    \\\"chemist and researcher\\\",\\n    \\\"environmental chemist\\\",\\n    \\\"geochemist and planetary scientist\\\",\\n    \\\"physiologist and biochemist\\\",\\n    \\\"chemist and crystallographer\\\",\\n    \\\"scientist and agrochemist\\\",\\n    \\\"biochemist and physiologist\\\",\\n    \\\"biochemist and medical researcher\\\",\\n    \\\"textile chemist\\\",\\n    \\\"geologist and geochemist\\\",\\n    \\\"Congress chemist\\\",\\n    \\\"polymer chemist and inventor\\\",\\n    \\\"polymer chemist\\\",\\n    \\\"metallurgist and physical chemist\\\",\\n    \\\"chemist and astronaut candidate\\\",\\n    \\\"chemist and statistician\\\",\\n    \\\"cytologist and biochemist\\\",\\n    \\\"pharmacologist and biochemist\\\",\\n    \\\"natural product chemist\\\",\\n    \\\"chemist and Nobel laureate\\\",\\n    \\\"biochemist and Nobel Prize laureate\\\",\\n    \\\"biochemist and geneticist\\\",\\n    \\\"soil chemist and\\\",\\n    \\\"soil chemist\\\",\\n    \\\"biochemist and nutritionist\\\",\\n    \\\"pharmaceutical chemist\\\",\\n    \\\"Nobel Prize winning biochemist\\\",\\n    \\\"pharmacologist and chemist\\\",\\n    \\\"chemist and Nobel Prize laureate\\\",\\n    \\\"chemist and inventor\\\",\\n    \\\"biophysical chemist\\\",\\n    \\\"analytical chemist\\\",\\n    \\\"nuclear chemist\\\",\\n    \\\"electrochemist\\\",\\n    \\\"theoretical chemist\\\",\\n    \\\"inorganic chemist\\\",\\n    \\\"Nobel Prize winning chemist\\\",\\n    \\\"geochemist and\\\",\\n    \\\"geochemist\\\",\\n    \\\"physical chemist\\\",\\n    \\\"of organic chemistry and a\\\",\\n    \\\"of organic chemistry\\\",\\n    \\\"organic chemist and\\\",\\n    \\\"organic chemist\\\",\\n    \\\"of biochemistry\\\",\\n    \\\"and biochemist\\\",\\n    \\\"biochemist and\\\",\\n    \\\"biochemist\\\",\\n    \\\"of chemistry\\\",\\n    \\\"chemistry\\\",\\n    \\\"food chemist and\\\",\\n    \\\"chemist and\\\",\\n    \\\"and chemist\\\",\\n    \\\"chemist\\\",\\n]\\n\\nbusiness_farming = []\\nacademia_humanities = [\\n    \\\"the first Rector Magnificus of the University of Twente\\\",\\n]\\nlaw_enf_military_operator = []\\nspiritual = [\\n    \\\"houngan\\\",\\n]\\nsocial = []\\ncrime = [\\n    \\\"underground LSD chemist and\\\",  # before sciences\\n]\\nevent_record_other = []\\nother_species = []\";\n",
       "                var nbb_cells = Jupyter.notebook.get_cells();\n",
       "                for (var i = 0; i < nbb_cells.length; ++i) {\n",
       "                    if (nbb_cells[i].input_prompt_number == nbb_cell_id) {\n",
       "                        if (nbb_cells[i].get_text() == nbb_unformatted_code) {\n",
       "                             nbb_cells[i].set_text(nbb_formatted_code);\n",
       "                        }\n",
       "                        break;\n",
       "                    }\n",
       "                }\n",
       "            }, 500);\n",
       "            "
      ],
      "text/plain": [
       "<IPython.core.display.Javascript object>"
      ]
     },
     "metadata": {},
     "output_type": "display_data"
    }
   ],
   "source": [
    "# Creating lists for each category\n",
    "politics_govt_law = []\n",
    "\n",
    "arts = []\n",
    "sports = []\n",
    "sciences = [\n",
    "    \"theoretical chemist and Nobel Prize winner\",\n",
    "    \"biochemist and molecular genetics pioneer\",\n",
    "    \"native chemist\",\n",
    "    \"biochemist and reproductive endocrinologist\",\n",
    "    \"chemist and a winner of the Nobel Prize in Physics in\",\n",
    "    \"chemist and Nobel Prize Laureate\",\n",
    "    \"Nobel Prize winner in chemistry\",\n",
    "    \"chemist and biologist\",\n",
    "    \"biochemist and microbiologist\",\n",
    "    \"nutritionist and biochemist\",\n",
    "    \"neuroscience biochemist\",\n",
    "    \"quantum chemist\",\n",
    "    \"research chemist\",\n",
    "    \"theoretical chemist and computer scientist\",\n",
    "    \"research chemist and inventor\",\n",
    "    \"chemist known for his work on the Manhattan Project\",\n",
    "    \"biochemist and enzymologist\",\n",
    "    \"scientist in the field of electrochemistry\",\n",
    "    \"physical chemist at AT&T Bell Laboratories\",\n",
    "    \"biochemist and Nobel Prize for Chemistry laureate\",\n",
    "    \"industrial chemist best known for his work on polymers\",\n",
    "    \"neurochemist and glycobiologist\",\n",
    "    \"biochemist and virologist\",\n",
    "    \"biochemist and recipient of the Nobel Prize in Physiology or Medicine\",\n",
    "    \"physical and theoretical chemist\",\n",
    "    \"chemist and mineralogist\",\n",
    "    \"biochemist and cancer researcher\",\n",
    "    \"biochemist and pharmacologist and recipient of the Nobel Prize in Physiology or Medicine\",\n",
    "    \"nuclear chemist and recipient of the Nobel Prize in Chemistry\",\n",
    "    \"chemist and co winner of Nobel Prize in Chemistry in\",\n",
    "    \"botanist and chemist\",\n",
    "    \"biochemist and protein crystallographer\",\n",
    "    \"South wine chemist\",\n",
    "    \"chemist and nuclear scientist\",\n",
    "    \"oncologist and chemist\",\n",
    "    \"chemist and science\",\n",
    "    \"chemist and mass spectrometrist\",\n",
    "    \"marine and freshwater chemist\",\n",
    "    \"biochemist and molecular biologist\",\n",
    "    \"protein chemist\",\n",
    "    \"chemistry doctor\",\n",
    "    \"Southern biochemist\",\n",
    "    \"biochemist and developmental biologist\",\n",
    "    \"biochemist and pharmacologist\",\n",
    "    \"chemist and materials scientist\",\n",
    "    \"biological chemist\",\n",
    "    \"synthetic organic chemist\",\n",
    "    \"atmospheric chemist\",\n",
    "    \"chemist and researcher\",\n",
    "    \"environmental chemist\",\n",
    "    \"geochemist and planetary scientist\",\n",
    "    \"physiologist and biochemist\",\n",
    "    \"chemist and crystallographer\",\n",
    "    \"scientist and agrochemist\",\n",
    "    \"biochemist and physiologist\",\n",
    "    \"biochemist and medical researcher\",\n",
    "    \"textile chemist\",\n",
    "    \"geologist and geochemist\",\n",
    "    \"Congress chemist\",\n",
    "    \"polymer chemist and inventor\",\n",
    "    \"polymer chemist\",\n",
    "    \"metallurgist and physical chemist\",\n",
    "    \"chemist and astronaut candidate\",\n",
    "    \"chemist and statistician\",\n",
    "    \"cytologist and biochemist\",\n",
    "    \"pharmacologist and biochemist\",\n",
    "    \"natural product chemist\",\n",
    "    \"chemist and Nobel laureate\",\n",
    "    \"biochemist and Nobel Prize laureate\",\n",
    "    \"biochemist and geneticist\",\n",
    "    \"soil chemist and\",\n",
    "    \"soil chemist\",\n",
    "    \"biochemist and nutritionist\",\n",
    "    \"pharmaceutical chemist\",\n",
    "    \"Nobel Prize winning biochemist\",\n",
    "    \"pharmacologist and chemist\",\n",
    "    \"chemist and Nobel Prize laureate\",\n",
    "    \"chemist and inventor\",\n",
    "    \"biophysical chemist\",\n",
    "    \"analytical chemist\",\n",
    "    \"nuclear chemist\",\n",
    "    \"electrochemist\",\n",
    "    \"theoretical chemist\",\n",
    "    \"inorganic chemist\",\n",
    "    \"Nobel Prize winning chemist\",\n",
    "    \"geochemist and\",\n",
    "    \"geochemist\",\n",
    "    \"physical chemist\",\n",
    "    \"of organic chemistry and a\",\n",
    "    \"of organic chemistry\",\n",
    "    \"organic chemist and\",\n",
    "    \"organic chemist\",\n",
    "    \"of biochemistry\",\n",
    "    \"and biochemist\",\n",
    "    \"biochemist and\",\n",
    "    \"biochemist\",\n",
    "    \"of chemistry\",\n",
    "    \"chemistry\",\n",
    "    \"food chemist and\",\n",
    "    \"chemist and\",\n",
    "    \"and chemist\",\n",
    "    \"chemist\",\n",
    "]\n",
    "\n",
    "business_farming = []\n",
    "academia_humanities = [\n",
    "    \"the first Rector Magnificus of the University of Twente\",\n",
    "]\n",
    "law_enf_military_operator = []\n",
    "spiritual = [\n",
    "    \"houngan\",\n",
    "]\n",
    "social = []\n",
    "crime = [\n",
    "    \"underground LSD chemist and\",  # before sciences\n",
    "]\n",
    "event_record_other = []\n",
    "other_species = []"
   ]
  },
  {
   "cell_type": "markdown",
   "id": "c313c467",
   "metadata": {},
   "source": [
    "#### Creating `known_for_dict` Dictionary of Category Keys and Specific Role Lists of Values"
   ]
  },
  {
   "cell_type": "code",
   "execution_count": 24,
   "id": "2bbf4381",
   "metadata": {},
   "outputs": [
    {
     "data": {
      "application/javascript": [
       "\n",
       "            setTimeout(function() {\n",
       "                var nbb_cell_id = 24;\n",
       "                var nbb_unformatted_code = \"# Combining separate lists into one dictionary\\nknown_for_dict = {\\n    \\\"social\\\": social,\\n    \\\"spiritual\\\": spiritual,\\n    \\\"academia_humanities\\\": academia_humanities,\\n    \\\"business_farming\\\": business_farming,\\n    \\\"politics_govt_law\\\": politics_govt_law,\\n    \\\"law_enf_military_operator\\\": law_enf_military_operator,\\n    \\\"crime\\\": crime,\\n    \\\"sciences\\\": sciences,\\n    \\\"event_record_other\\\": event_record_other,\\n    \\\"other_species\\\": other_species,\\n    \\\"arts\\\": arts,\\n    \\\"sports\\\": sports,\\n}\";\n",
       "                var nbb_formatted_code = \"# Combining separate lists into one dictionary\\nknown_for_dict = {\\n    \\\"social\\\": social,\\n    \\\"spiritual\\\": spiritual,\\n    \\\"academia_humanities\\\": academia_humanities,\\n    \\\"business_farming\\\": business_farming,\\n    \\\"politics_govt_law\\\": politics_govt_law,\\n    \\\"law_enf_military_operator\\\": law_enf_military_operator,\\n    \\\"crime\\\": crime,\\n    \\\"sciences\\\": sciences,\\n    \\\"event_record_other\\\": event_record_other,\\n    \\\"other_species\\\": other_species,\\n    \\\"arts\\\": arts,\\n    \\\"sports\\\": sports,\\n}\";\n",
       "                var nbb_cells = Jupyter.notebook.get_cells();\n",
       "                for (var i = 0; i < nbb_cells.length; ++i) {\n",
       "                    if (nbb_cells[i].input_prompt_number == nbb_cell_id) {\n",
       "                        if (nbb_cells[i].get_text() == nbb_unformatted_code) {\n",
       "                             nbb_cells[i].set_text(nbb_formatted_code);\n",
       "                        }\n",
       "                        break;\n",
       "                    }\n",
       "                }\n",
       "            }, 500);\n",
       "            "
      ],
      "text/plain": [
       "<IPython.core.display.Javascript object>"
      ]
     },
     "metadata": {},
     "output_type": "display_data"
    }
   ],
   "source": [
    "# Combining separate lists into one dictionary\n",
    "known_for_dict = {\n",
    "    \"social\": social,\n",
    "    \"spiritual\": spiritual,\n",
    "    \"academia_humanities\": academia_humanities,\n",
    "    \"business_farming\": business_farming,\n",
    "    \"politics_govt_law\": politics_govt_law,\n",
    "    \"law_enf_military_operator\": law_enf_military_operator,\n",
    "    \"crime\": crime,\n",
    "    \"sciences\": sciences,\n",
    "    \"event_record_other\": event_record_other,\n",
    "    \"other_species\": other_species,\n",
    "    \"arts\": arts,\n",
    "    \"sports\": sports,\n",
    "}"
   ]
  },
  {
   "cell_type": "markdown",
   "id": "bd6a787c",
   "metadata": {},
   "source": [
    "#### Extracting Category from `info_2`"
   ]
  },
  {
   "cell_type": "code",
   "execution_count": 25,
   "id": "91b39431",
   "metadata": {},
   "outputs": [
    {
     "name": "stdout",
     "output_type": "stream",
     "text": [
      "CPU times: total: 53.2 s\n",
      "Wall time: 53.3 s\n"
     ]
    },
    {
     "data": {
      "text/html": [
       "<div>\n",
       "<style scoped>\n",
       "    .dataframe tbody tr th:only-of-type {\n",
       "        vertical-align: middle;\n",
       "    }\n",
       "\n",
       "    .dataframe tbody tr th {\n",
       "        vertical-align: top;\n",
       "    }\n",
       "\n",
       "    .dataframe thead th {\n",
       "        text-align: right;\n",
       "    }\n",
       "</style>\n",
       "<table border=\"1\" class=\"dataframe\">\n",
       "  <thead>\n",
       "    <tr style=\"text-align: right;\">\n",
       "      <th></th>\n",
       "      <th>day</th>\n",
       "      <th>name</th>\n",
       "      <th>info</th>\n",
       "      <th>link</th>\n",
       "      <th>num_references</th>\n",
       "      <th>year</th>\n",
       "      <th>month</th>\n",
       "      <th>info_parenth</th>\n",
       "      <th>info_1</th>\n",
       "      <th>info_2</th>\n",
       "      <th>info_3</th>\n",
       "      <th>info_4</th>\n",
       "      <th>info_5</th>\n",
       "      <th>info_6</th>\n",
       "      <th>info_7</th>\n",
       "      <th>info_8</th>\n",
       "      <th>info_9</th>\n",
       "      <th>info_10</th>\n",
       "      <th>info_11</th>\n",
       "      <th>age</th>\n",
       "      <th>cause_of_death</th>\n",
       "      <th>place_1</th>\n",
       "      <th>place_2</th>\n",
       "      <th>info_parenth_copy</th>\n",
       "      <th>log_num_references</th>\n",
       "      <th>sciences</th>\n",
       "      <th>social</th>\n",
       "      <th>spiritual</th>\n",
       "      <th>academia_humanities</th>\n",
       "      <th>business_farming</th>\n",
       "      <th>arts</th>\n",
       "      <th>sports</th>\n",
       "      <th>law_enf_military_operator</th>\n",
       "      <th>politics_govt_law</th>\n",
       "      <th>crime</th>\n",
       "      <th>event_record_other</th>\n",
       "      <th>other_species</th>\n",
       "      <th>num_categories</th>\n",
       "    </tr>\n",
       "  </thead>\n",
       "  <tbody>\n",
       "    <tr>\n",
       "      <th>91034</th>\n",
       "      <td>30</td>\n",
       "      <td>Arthur M. Poskanzer</td>\n",
       "      <td>, 90, American experimental physicist.</td>\n",
       "      <td>https://en.wikipedia.org/wiki/Arthur_M._Poskanzer</td>\n",
       "      <td>7</td>\n",
       "      <td>2021</td>\n",
       "      <td>June</td>\n",
       "      <td>None</td>\n",
       "      <td>None</td>\n",
       "      <td></td>\n",
       "      <td>None</td>\n",
       "      <td>None</td>\n",
       "      <td>None</td>\n",
       "      <td>None</td>\n",
       "      <td>None</td>\n",
       "      <td>None</td>\n",
       "      <td>None</td>\n",
       "      <td>None</td>\n",
       "      <td>None</td>\n",
       "      <td>90.0</td>\n",
       "      <td>None</td>\n",
       "      <td>United States of America</td>\n",
       "      <td>None</td>\n",
       "      <td>None</td>\n",
       "      <td>2.079442</td>\n",
       "      <td>1</td>\n",
       "      <td>0</td>\n",
       "      <td>0</td>\n",
       "      <td>0</td>\n",
       "      <td>0</td>\n",
       "      <td>0</td>\n",
       "      <td>0</td>\n",
       "      <td>0</td>\n",
       "      <td>0</td>\n",
       "      <td>0</td>\n",
       "      <td>0</td>\n",
       "      <td>0</td>\n",
       "      <td>1</td>\n",
       "    </tr>\n",
       "    <tr>\n",
       "      <th>70772</th>\n",
       "      <td>12</td>\n",
       "      <td>Shen Chun-shan</td>\n",
       "      <td>, 86, Taiwanese physicist and academic, President of National Tsing Hua University , ruptured intestine.</td>\n",
       "      <td>https://en.wikipedia.org/wiki/Shen_Chun-shan</td>\n",
       "      <td>25</td>\n",
       "      <td>2018</td>\n",
       "      <td>September</td>\n",
       "      <td></td>\n",
       "      <td>None</td>\n",
       "      <td></td>\n",
       "      <td>President of National Tsing Hua University</td>\n",
       "      <td>ruptured intestine</td>\n",
       "      <td>None</td>\n",
       "      <td>None</td>\n",
       "      <td>None</td>\n",
       "      <td>None</td>\n",
       "      <td>None</td>\n",
       "      <td>None</td>\n",
       "      <td>None</td>\n",
       "      <td>86.0</td>\n",
       "      <td>None</td>\n",
       "      <td>Taiwan</td>\n",
       "      <td>None</td>\n",
       "      <td>1994 1997</td>\n",
       "      <td>3.258097</td>\n",
       "      <td>1</td>\n",
       "      <td>0</td>\n",
       "      <td>0</td>\n",
       "      <td>1</td>\n",
       "      <td>0</td>\n",
       "      <td>0</td>\n",
       "      <td>0</td>\n",
       "      <td>0</td>\n",
       "      <td>0</td>\n",
       "      <td>0</td>\n",
       "      <td>0</td>\n",
       "      <td>0</td>\n",
       "      <td>2</td>\n",
       "    </tr>\n",
       "  </tbody>\n",
       "</table>\n",
       "</div>"
      ],
      "text/plain": [
       "      day                 name  \\\n",
       "91034  30  Arthur M. Poskanzer   \n",
       "70772  12       Shen Chun-shan   \n",
       "\n",
       "                                                                                                           info  \\\n",
       "91034                                                                    , 90, American experimental physicist.   \n",
       "70772  , 86, Taiwanese physicist and academic, President of National Tsing Hua University , ruptured intestine.   \n",
       "\n",
       "                                                    link  num_references  \\\n",
       "91034  https://en.wikipedia.org/wiki/Arthur_M._Poskanzer               7   \n",
       "70772       https://en.wikipedia.org/wiki/Shen_Chun-shan              25   \n",
       "\n",
       "       year      month info_parenth info_1 info_2  \\\n",
       "91034  2021       June         None   None          \n",
       "70772  2018  September                None          \n",
       "\n",
       "                                           info_3              info_4 info_5  \\\n",
       "91034                                        None                None   None   \n",
       "70772  President of National Tsing Hua University  ruptured intestine   None   \n",
       "\n",
       "      info_6 info_7 info_8 info_9 info_10 info_11   age cause_of_death  \\\n",
       "91034   None   None   None   None    None    None  90.0           None   \n",
       "70772   None   None   None   None    None    None  86.0           None   \n",
       "\n",
       "                        place_1 place_2 info_parenth_copy  log_num_references  \\\n",
       "91034  United States of America    None              None            2.079442   \n",
       "70772                    Taiwan    None         1994 1997            3.258097   \n",
       "\n",
       "       sciences  social  spiritual  academia_humanities  business_farming  \\\n",
       "91034         1       0          0                    0                 0   \n",
       "70772         1       0          0                    1                 0   \n",
       "\n",
       "       arts  sports  law_enf_military_operator  politics_govt_law  crime  \\\n",
       "91034     0       0                          0                  0      0   \n",
       "70772     0       0                          0                  0      0   \n",
       "\n",
       "       event_record_other  other_species  num_categories  \n",
       "91034                   0              0               1  \n",
       "70772                   0              0               2  "
      ]
     },
     "execution_count": 25,
     "metadata": {},
     "output_type": "execute_result"
    },
    {
     "data": {
      "application/javascript": [
       "\n",
       "            setTimeout(function() {\n",
       "                var nbb_cell_id = 25;\n",
       "                var nbb_unformatted_code = \"%%time\\n\\n# Dictionary version\\nsearch_dict = known_for_dict\\n\\n# Column to check\\ncolumn = 'info_2'\\n\\n# Dataframe\\ndataframe = df[column].notna()\\n\\n# For loop to find role in column and extract it as category\\nfor category, category_lst in search_dict.items():\\n    for role in category_lst:\\n        for index in dataframe.index:\\n            item = df.loc[index, column]\\n            if item:\\n                if role in item:\\n                    df.loc[index, category] = 1\\n                    df.loc[index, column] = item.replace(role, '').strip()\\n\\n# Updating num_categories\\ndf[\\\"num_categories\\\"] = df[known_for_dict.keys()].sum(axis=1)\\n\\n# Checking a sample of rows\\ndf[df['sciences'] ==1].sample(2)\";\n",
       "                var nbb_formatted_code = \"%%time\\n\\n# Dictionary version\\nsearch_dict = known_for_dict\\n\\n# Column to check\\ncolumn = 'info_2'\\n\\n# Dataframe\\ndataframe = df[column].notna()\\n\\n# For loop to find role in column and extract it as category\\nfor category, category_lst in search_dict.items():\\n    for role in category_lst:\\n        for index in dataframe.index:\\n            item = df.loc[index, column]\\n            if item:\\n                if role in item:\\n                    df.loc[index, category] = 1\\n                    df.loc[index, column] = item.replace(role, '').strip()\\n\\n# Updating num_categories\\ndf[\\\"num_categories\\\"] = df[known_for_dict.keys()].sum(axis=1)\\n\\n# Checking a sample of rows\\ndf[df['sciences'] ==1].sample(2)\";\n",
       "                var nbb_cells = Jupyter.notebook.get_cells();\n",
       "                for (var i = 0; i < nbb_cells.length; ++i) {\n",
       "                    if (nbb_cells[i].input_prompt_number == nbb_cell_id) {\n",
       "                        if (nbb_cells[i].get_text() == nbb_unformatted_code) {\n",
       "                             nbb_cells[i].set_text(nbb_formatted_code);\n",
       "                        }\n",
       "                        break;\n",
       "                    }\n",
       "                }\n",
       "            }, 500);\n",
       "            "
      ],
      "text/plain": [
       "<IPython.core.display.Javascript object>"
      ]
     },
     "metadata": {},
     "output_type": "display_data"
    }
   ],
   "source": [
    "%%time\n",
    "\n",
    "# Dictionary version\n",
    "search_dict = known_for_dict\n",
    "\n",
    "# Column to check\n",
    "column = 'info_2'\n",
    "\n",
    "# Dataframe\n",
    "dataframe = df[column].notna()\n",
    "\n",
    "# For loop to find role in column and extract it as category\n",
    "for category, category_lst in search_dict.items():\n",
    "    for role in category_lst:\n",
    "        for index in dataframe.index:\n",
    "            item = df.loc[index, column]\n",
    "            if item:\n",
    "                if role in item:\n",
    "                    df.loc[index, category] = 1\n",
    "                    df.loc[index, column] = item.replace(role, '').strip()\n",
    "\n",
    "# Updating num_categories\n",
    "df[\"num_categories\"] = df[known_for_dict.keys()].sum(axis=1)\n",
    "\n",
    "# Checking a sample of rows\n",
    "df[df['sciences'] ==1].sample(2)"
   ]
  },
  {
   "cell_type": "markdown",
   "id": "6f2adf66",
   "metadata": {},
   "source": [
    "#### Checking the Number of Rows without a First Category"
   ]
  },
  {
   "cell_type": "code",
   "execution_count": 26,
   "id": "7644f2f5",
   "metadata": {},
   "outputs": [
    {
     "name": "stdout",
     "output_type": "stream",
     "text": [
      "There are 37258 entries without any known_for category.\n"
     ]
    },
    {
     "data": {
      "application/javascript": [
       "\n",
       "            setTimeout(function() {\n",
       "                var nbb_cell_id = 26;\n",
       "                var nbb_unformatted_code = \"# Checking the number of rows without a first category\\nprint(\\n    f'There are {len(df[df[\\\"num_categories\\\"]==0])} entries without any known_for category.'\\n)\";\n",
       "                var nbb_formatted_code = \"# Checking the number of rows without a first category\\nprint(\\n    f'There are {len(df[df[\\\"num_categories\\\"]==0])} entries without any known_for category.'\\n)\";\n",
       "                var nbb_cells = Jupyter.notebook.get_cells();\n",
       "                for (var i = 0; i < nbb_cells.length; ++i) {\n",
       "                    if (nbb_cells[i].input_prompt_number == nbb_cell_id) {\n",
       "                        if (nbb_cells[i].get_text() == nbb_unformatted_code) {\n",
       "                             nbb_cells[i].set_text(nbb_formatted_code);\n",
       "                        }\n",
       "                        break;\n",
       "                    }\n",
       "                }\n",
       "            }, 500);\n",
       "            "
      ],
      "text/plain": [
       "<IPython.core.display.Javascript object>"
      ]
     },
     "metadata": {},
     "output_type": "display_data"
    }
   ],
   "source": [
    "# Checking the number of rows without a first category\n",
    "print(\n",
    "    f'There are {len(df[df[\"num_categories\"]==0])} entries without any known_for category.'\n",
    ")"
   ]
  },
  {
   "cell_type": "markdown",
   "id": "025d12f9",
   "metadata": {},
   "source": [
    "#### Observations:\n",
    "- We will proceed to rebuild `known_for_dict` for the next iteration."
   ]
  },
  {
   "cell_type": "markdown",
   "id": "5ababb44",
   "metadata": {},
   "source": [
    "#### Finding `known_for` Roles in `info_2`"
   ]
  },
  {
   "cell_type": "code",
   "execution_count": 27,
   "id": "39131a27",
   "metadata": {},
   "outputs": [
    {
     "data": {
      "application/javascript": [
       "\n",
       "            setTimeout(function() {\n",
       "                var nbb_cell_id = 27;\n",
       "                var nbb_unformatted_code = \"# Obtaining values for column and their counts\\nroles_list = df[\\\"info_2\\\"].value_counts(ascending=True).index.tolist()\";\n",
       "                var nbb_formatted_code = \"# Obtaining values for column and their counts\\nroles_list = df[\\\"info_2\\\"].value_counts(ascending=True).index.tolist()\";\n",
       "                var nbb_cells = Jupyter.notebook.get_cells();\n",
       "                for (var i = 0; i < nbb_cells.length; ++i) {\n",
       "                    if (nbb_cells[i].input_prompt_number == nbb_cell_id) {\n",
       "                        if (nbb_cells[i].get_text() == nbb_unformatted_code) {\n",
       "                             nbb_cells[i].set_text(nbb_formatted_code);\n",
       "                        }\n",
       "                        break;\n",
       "                    }\n",
       "                }\n",
       "            }, 500);\n",
       "            "
      ],
      "text/plain": [
       "<IPython.core.display.Javascript object>"
      ]
     },
     "metadata": {},
     "output_type": "display_data"
    }
   ],
   "source": [
    "# Obtaining values for column and their counts\n",
    "roles_list = df[\"info_2\"].value_counts(ascending=True).index.tolist()"
   ]
  },
  {
   "cell_type": "code",
   "execution_count": 28,
   "id": "202384ee",
   "metadata": {},
   "outputs": [
    {
     "data": {
      "application/javascript": [
       "\n",
       "            setTimeout(function() {\n",
       "                var nbb_cell_id = 28;\n",
       "                var nbb_unformatted_code = \"# # Code to check each value\\n# roles_list.pop()\";\n",
       "                var nbb_formatted_code = \"# # Code to check each value\\n# roles_list.pop()\";\n",
       "                var nbb_cells = Jupyter.notebook.get_cells();\n",
       "                for (var i = 0; i < nbb_cells.length; ++i) {\n",
       "                    if (nbb_cells[i].input_prompt_number == nbb_cell_id) {\n",
       "                        if (nbb_cells[i].get_text() == nbb_unformatted_code) {\n",
       "                             nbb_cells[i].set_text(nbb_formatted_code);\n",
       "                        }\n",
       "                        break;\n",
       "                    }\n",
       "                }\n",
       "            }, 500);\n",
       "            "
      ],
      "text/plain": [
       "<IPython.core.display.Javascript object>"
      ]
     },
     "metadata": {},
     "output_type": "display_data"
    }
   ],
   "source": [
    "# # Code to check each value\n",
    "# roles_list.pop()"
   ]
  },
  {
   "cell_type": "code",
   "execution_count": 29,
   "id": "e3821417",
   "metadata": {},
   "outputs": [
    {
     "data": {
      "application/javascript": [
       "\n",
       "            setTimeout(function() {\n",
       "                var nbb_cell_id = 29;\n",
       "                var nbb_unformatted_code = \"# # Create specific_roles_list for above popped value\\n# specific_roles_list = (\\n#     df.loc[\\n#         [index for index in df.index if \\\"rugby union player\\\" in df.loc[index, \\\"info\\\"]],\\n#         \\\"info_2\\\",\\n#     ]\\n#     .value_counts()\\n#     .index.tolist()\\n# )\";\n",
       "                var nbb_formatted_code = \"# # Create specific_roles_list for above popped value\\n# specific_roles_list = (\\n#     df.loc[\\n#         [index for index in df.index if \\\"rugby union player\\\" in df.loc[index, \\\"info\\\"]],\\n#         \\\"info_2\\\",\\n#     ]\\n#     .value_counts()\\n#     .index.tolist()\\n# )\";\n",
       "                var nbb_cells = Jupyter.notebook.get_cells();\n",
       "                for (var i = 0; i < nbb_cells.length; ++i) {\n",
       "                    if (nbb_cells[i].input_prompt_number == nbb_cell_id) {\n",
       "                        if (nbb_cells[i].get_text() == nbb_unformatted_code) {\n",
       "                             nbb_cells[i].set_text(nbb_formatted_code);\n",
       "                        }\n",
       "                        break;\n",
       "                    }\n",
       "                }\n",
       "            }, 500);\n",
       "            "
      ],
      "text/plain": [
       "<IPython.core.display.Javascript object>"
      ]
     },
     "metadata": {},
     "output_type": "display_data"
    }
   ],
   "source": [
    "# # Create specific_roles_list for above popped value\n",
    "# specific_roles_list = (\n",
    "#     df.loc[\n",
    "#         [index for index in df.index if \"rugby union player\" in df.loc[index, \"info\"]],\n",
    "#         \"info_2\",\n",
    "#     ]\n",
    "#     .value_counts()\n",
    "#     .index.tolist()\n",
    "# )"
   ]
  },
  {
   "cell_type": "code",
   "execution_count": 30,
   "id": "a03ad3f8",
   "metadata": {},
   "outputs": [
    {
     "data": {
      "application/javascript": [
       "\n",
       "            setTimeout(function() {\n",
       "                var nbb_cell_id = 30;\n",
       "                var nbb_unformatted_code = \"# # Code to check each specific value\\n# specific_roles_list.pop()\";\n",
       "                var nbb_formatted_code = \"# # Code to check each specific value\\n# specific_roles_list.pop()\";\n",
       "                var nbb_cells = Jupyter.notebook.get_cells();\n",
       "                for (var i = 0; i < nbb_cells.length; ++i) {\n",
       "                    if (nbb_cells[i].input_prompt_number == nbb_cell_id) {\n",
       "                        if (nbb_cells[i].get_text() == nbb_unformatted_code) {\n",
       "                             nbb_cells[i].set_text(nbb_formatted_code);\n",
       "                        }\n",
       "                        break;\n",
       "                    }\n",
       "                }\n",
       "            }, 500);\n",
       "            "
      ],
      "text/plain": [
       "<IPython.core.display.Javascript object>"
      ]
     },
     "metadata": {},
     "output_type": "display_data"
    }
   ],
   "source": [
    "# # Code to check each specific value\n",
    "# specific_roles_list.pop()"
   ]
  },
  {
   "cell_type": "code",
   "execution_count": 31,
   "id": "66949109",
   "metadata": {},
   "outputs": [
    {
     "data": {
      "application/javascript": [
       "\n",
       "            setTimeout(function() {\n",
       "                var nbb_cell_id = 31;\n",
       "                var nbb_unformatted_code = \"# # Example code to quick-screen values that may overlap categories\\n# df.loc[\\n#     [\\n#         index\\n#         for index in df.index\\n#         if \\\"rugby union player and administrator\\\" in df.loc[index, \\\"info\\\"]\\n#     ]\\n# ]\";\n",
       "                var nbb_formatted_code = \"# # Example code to quick-screen values that may overlap categories\\n# df.loc[\\n#     [\\n#         index\\n#         for index in df.index\\n#         if \\\"rugby union player and administrator\\\" in df.loc[index, \\\"info\\\"]\\n#     ]\\n# ]\";\n",
       "                var nbb_cells = Jupyter.notebook.get_cells();\n",
       "                for (var i = 0; i < nbb_cells.length; ++i) {\n",
       "                    if (nbb_cells[i].input_prompt_number == nbb_cell_id) {\n",
       "                        if (nbb_cells[i].get_text() == nbb_unformatted_code) {\n",
       "                             nbb_cells[i].set_text(nbb_formatted_code);\n",
       "                        }\n",
       "                        break;\n",
       "                    }\n",
       "                }\n",
       "            }, 500);\n",
       "            "
      ],
      "text/plain": [
       "<IPython.core.display.Javascript object>"
      ]
     },
     "metadata": {},
     "output_type": "display_data"
    }
   ],
   "source": [
    "# # Example code to quick-screen values that may overlap categories\n",
    "# df.loc[\n",
    "#     [\n",
    "#         index\n",
    "#         for index in df.index\n",
    "#         if \"rugby union player and administrator\" in df.loc[index, \"info\"]\n",
    "#     ]\n",
    "# ]"
   ]
  },
  {
   "cell_type": "code",
   "execution_count": 32,
   "id": "77084833",
   "metadata": {},
   "outputs": [
    {
     "data": {
      "application/javascript": [
       "\n",
       "            setTimeout(function() {\n",
       "                var nbb_cell_id = 32;\n",
       "                var nbb_unformatted_code = \"# # Example code to quick-screen values that may overlap categories\\n# df.loc[\\n#     [\\n#         index\\n#         for index in df.index\\n#         if \\\"outlaw country music singer songwriter\\\" in df.loc[index, \\\"info\\\"]\\n#     ]\\n# ]\";\n",
       "                var nbb_formatted_code = \"# # Example code to quick-screen values that may overlap categories\\n# df.loc[\\n#     [\\n#         index\\n#         for index in df.index\\n#         if \\\"outlaw country music singer songwriter\\\" in df.loc[index, \\\"info\\\"]\\n#     ]\\n# ]\";\n",
       "                var nbb_cells = Jupyter.notebook.get_cells();\n",
       "                for (var i = 0; i < nbb_cells.length; ++i) {\n",
       "                    if (nbb_cells[i].input_prompt_number == nbb_cell_id) {\n",
       "                        if (nbb_cells[i].get_text() == nbb_unformatted_code) {\n",
       "                             nbb_cells[i].set_text(nbb_formatted_code);\n",
       "                        }\n",
       "                        break;\n",
       "                    }\n",
       "                }\n",
       "            }, 500);\n",
       "            "
      ],
      "text/plain": [
       "<IPython.core.display.Javascript object>"
      ]
     },
     "metadata": {},
     "output_type": "display_data"
    }
   ],
   "source": [
    "# # Example code to quick-screen values that may overlap categories\n",
    "# df.loc[\n",
    "#     [\n",
    "#         index\n",
    "#         for index in df.index\n",
    "#         if \"outlaw country music singer songwriter\" in df.loc[index, \"info\"]\n",
    "#     ]\n",
    "# ]"
   ]
  },
  {
   "cell_type": "code",
   "execution_count": 33,
   "id": "35bf8b66",
   "metadata": {},
   "outputs": [
    {
     "data": {
      "application/javascript": [
       "\n",
       "            setTimeout(function() {\n",
       "                var nbb_cell_id = 33;\n",
       "                var nbb_unformatted_code = \"# # Example code to quick-check a specific entry\\n# df[df[\\\"info_2\\\"] == \\\"rugby union player and administrator\\\"]\";\n",
       "                var nbb_formatted_code = \"# # Example code to quick-check a specific entry\\n# df[df[\\\"info_2\\\"] == \\\"rugby union player and administrator\\\"]\";\n",
       "                var nbb_cells = Jupyter.notebook.get_cells();\n",
       "                for (var i = 0; i < nbb_cells.length; ++i) {\n",
       "                    if (nbb_cells[i].input_prompt_number == nbb_cell_id) {\n",
       "                        if (nbb_cells[i].get_text() == nbb_unformatted_code) {\n",
       "                             nbb_cells[i].set_text(nbb_formatted_code);\n",
       "                        }\n",
       "                        break;\n",
       "                    }\n",
       "                }\n",
       "            }, 500);\n",
       "            "
      ],
      "text/plain": [
       "<IPython.core.display.Javascript object>"
      ]
     },
     "metadata": {},
     "output_type": "display_data"
    }
   ],
   "source": [
    "# # Example code to quick-check a specific entry\n",
    "# df[df[\"info_2\"] == \"rugby union player and administrator\"]"
   ]
  },
  {
   "cell_type": "markdown",
   "id": "ff635f9a",
   "metadata": {},
   "source": [
    "#### Creating Lists for Each `known_for` Category"
   ]
  },
  {
   "cell_type": "code",
   "execution_count": 34,
   "id": "c6a693a2",
   "metadata": {},
   "outputs": [
    {
     "data": {
      "application/javascript": [
       "\n",
       "            setTimeout(function() {\n",
       "                var nbb_cell_id = 34;\n",
       "                var nbb_unformatted_code = \"# Creating lists for each category\\npolitics_govt_law = []\\n\\narts = []\\nsports = [\\n    \\\"rugby union player and World War II fighter\\\",\\n    \\\"rugby union player and TV\\\",\\n    \\\"former rugby union player for and Neath RFC\\\",\\n    \\\"All Blacks rugby union player\\\",\\n    \\\"rugby league and rugby union player\\\",\\n    \\\"rugby union player and president of the Rugby Union\\\",\\n    \\\"rugby union player and national team captain\\\",\\n    \\\"boxer and rugby union player\\\",\\n    \\\"Hall of Fame rugby union player and coach\\\",\\n    \\\"rugby union player and selector\\\",\\n    \\\"rugby union player and manager\\\",\\n    \\\"rugby union player and administrator\\\",\\n    \\\"rugby union player and coach\\\",\\n    \\\"international rugby union player\\\",\\n    \\\"rugby union player for\\\",\\n    \\\"rugby union player and\\\",\\n    \\\"and rugby union player\\\",\\n    \\\"rugby union player\\\",\\n]\\nsciences = []\\n\\nbusiness_farming = []\\nacademia_humanities = []\\nlaw_enf_military_operator = []\\nspiritual = []\\nsocial = []\\ncrime = []\\nevent_record_other = []\\nother_species = []\";\n",
       "                var nbb_formatted_code = \"# Creating lists for each category\\npolitics_govt_law = []\\n\\narts = []\\nsports = [\\n    \\\"rugby union player and World War II fighter\\\",\\n    \\\"rugby union player and TV\\\",\\n    \\\"former rugby union player for and Neath RFC\\\",\\n    \\\"All Blacks rugby union player\\\",\\n    \\\"rugby league and rugby union player\\\",\\n    \\\"rugby union player and president of the Rugby Union\\\",\\n    \\\"rugby union player and national team captain\\\",\\n    \\\"boxer and rugby union player\\\",\\n    \\\"Hall of Fame rugby union player and coach\\\",\\n    \\\"rugby union player and selector\\\",\\n    \\\"rugby union player and manager\\\",\\n    \\\"rugby union player and administrator\\\",\\n    \\\"rugby union player and coach\\\",\\n    \\\"international rugby union player\\\",\\n    \\\"rugby union player for\\\",\\n    \\\"rugby union player and\\\",\\n    \\\"and rugby union player\\\",\\n    \\\"rugby union player\\\",\\n]\\nsciences = []\\n\\nbusiness_farming = []\\nacademia_humanities = []\\nlaw_enf_military_operator = []\\nspiritual = []\\nsocial = []\\ncrime = []\\nevent_record_other = []\\nother_species = []\";\n",
       "                var nbb_cells = Jupyter.notebook.get_cells();\n",
       "                for (var i = 0; i < nbb_cells.length; ++i) {\n",
       "                    if (nbb_cells[i].input_prompt_number == nbb_cell_id) {\n",
       "                        if (nbb_cells[i].get_text() == nbb_unformatted_code) {\n",
       "                             nbb_cells[i].set_text(nbb_formatted_code);\n",
       "                        }\n",
       "                        break;\n",
       "                    }\n",
       "                }\n",
       "            }, 500);\n",
       "            "
      ],
      "text/plain": [
       "<IPython.core.display.Javascript object>"
      ]
     },
     "metadata": {},
     "output_type": "display_data"
    }
   ],
   "source": [
    "# Creating lists for each category\n",
    "politics_govt_law = []\n",
    "\n",
    "arts = []\n",
    "sports = [\n",
    "    \"rugby union player and World War II fighter\",\n",
    "    \"rugby union player and TV\",\n",
    "    \"former rugby union player for and Neath RFC\",\n",
    "    \"All Blacks rugby union player\",\n",
    "    \"rugby league and rugby union player\",\n",
    "    \"rugby union player and president of the Rugby Union\",\n",
    "    \"rugby union player and national team captain\",\n",
    "    \"boxer and rugby union player\",\n",
    "    \"Hall of Fame rugby union player and coach\",\n",
    "    \"rugby union player and selector\",\n",
    "    \"rugby union player and manager\",\n",
    "    \"rugby union player and administrator\",\n",
    "    \"rugby union player and coach\",\n",
    "    \"international rugby union player\",\n",
    "    \"rugby union player for\",\n",
    "    \"rugby union player and\",\n",
    "    \"and rugby union player\",\n",
    "    \"rugby union player\",\n",
    "]\n",
    "sciences = []\n",
    "\n",
    "business_farming = []\n",
    "academia_humanities = []\n",
    "law_enf_military_operator = []\n",
    "spiritual = []\n",
    "social = []\n",
    "crime = []\n",
    "event_record_other = []\n",
    "other_species = []"
   ]
  },
  {
   "cell_type": "markdown",
   "id": "981d2dbe",
   "metadata": {},
   "source": [
    "#### Creating `known_for_dict` Dictionary of Category Keys and Specific Role Lists of Values"
   ]
  },
  {
   "cell_type": "code",
   "execution_count": 35,
   "id": "aa6be6a7",
   "metadata": {},
   "outputs": [
    {
     "data": {
      "application/javascript": [
       "\n",
       "            setTimeout(function() {\n",
       "                var nbb_cell_id = 35;\n",
       "                var nbb_unformatted_code = \"# Combining separate lists into one dictionary\\nknown_for_dict = {\\n    \\\"social\\\": social,\\n    \\\"spiritual\\\": spiritual,\\n    \\\"academia_humanities\\\": academia_humanities,\\n    \\\"business_farming\\\": business_farming,\\n    \\\"sciences\\\": sciences,\\n    \\\"politics_govt_law\\\": politics_govt_law,\\n    \\\"law_enf_military_operator\\\": law_enf_military_operator,\\n    \\\"crime\\\": crime,\\n    \\\"event_record_other\\\": event_record_other,\\n    \\\"other_species\\\": other_species,\\n    \\\"arts\\\": arts,\\n    \\\"sports\\\": sports,\\n}\";\n",
       "                var nbb_formatted_code = \"# Combining separate lists into one dictionary\\nknown_for_dict = {\\n    \\\"social\\\": social,\\n    \\\"spiritual\\\": spiritual,\\n    \\\"academia_humanities\\\": academia_humanities,\\n    \\\"business_farming\\\": business_farming,\\n    \\\"sciences\\\": sciences,\\n    \\\"politics_govt_law\\\": politics_govt_law,\\n    \\\"law_enf_military_operator\\\": law_enf_military_operator,\\n    \\\"crime\\\": crime,\\n    \\\"event_record_other\\\": event_record_other,\\n    \\\"other_species\\\": other_species,\\n    \\\"arts\\\": arts,\\n    \\\"sports\\\": sports,\\n}\";\n",
       "                var nbb_cells = Jupyter.notebook.get_cells();\n",
       "                for (var i = 0; i < nbb_cells.length; ++i) {\n",
       "                    if (nbb_cells[i].input_prompt_number == nbb_cell_id) {\n",
       "                        if (nbb_cells[i].get_text() == nbb_unformatted_code) {\n",
       "                             nbb_cells[i].set_text(nbb_formatted_code);\n",
       "                        }\n",
       "                        break;\n",
       "                    }\n",
       "                }\n",
       "            }, 500);\n",
       "            "
      ],
      "text/plain": [
       "<IPython.core.display.Javascript object>"
      ]
     },
     "metadata": {},
     "output_type": "display_data"
    }
   ],
   "source": [
    "# Combining separate lists into one dictionary\n",
    "known_for_dict = {\n",
    "    \"social\": social,\n",
    "    \"spiritual\": spiritual,\n",
    "    \"academia_humanities\": academia_humanities,\n",
    "    \"business_farming\": business_farming,\n",
    "    \"sciences\": sciences,\n",
    "    \"politics_govt_law\": politics_govt_law,\n",
    "    \"law_enf_military_operator\": law_enf_military_operator,\n",
    "    \"crime\": crime,\n",
    "    \"event_record_other\": event_record_other,\n",
    "    \"other_species\": other_species,\n",
    "    \"arts\": arts,\n",
    "    \"sports\": sports,\n",
    "}"
   ]
  },
  {
   "cell_type": "markdown",
   "id": "5233e562",
   "metadata": {},
   "source": [
    "#### Extracting Category from `info_2`"
   ]
  },
  {
   "cell_type": "code",
   "execution_count": 36,
   "id": "b4992e35",
   "metadata": {},
   "outputs": [
    {
     "name": "stdout",
     "output_type": "stream",
     "text": [
      "CPU times: total: 9.64 s\n",
      "Wall time: 9.65 s\n"
     ]
    },
    {
     "data": {
      "text/html": [
       "<div>\n",
       "<style scoped>\n",
       "    .dataframe tbody tr th:only-of-type {\n",
       "        vertical-align: middle;\n",
       "    }\n",
       "\n",
       "    .dataframe tbody tr th {\n",
       "        vertical-align: top;\n",
       "    }\n",
       "\n",
       "    .dataframe thead th {\n",
       "        text-align: right;\n",
       "    }\n",
       "</style>\n",
       "<table border=\"1\" class=\"dataframe\">\n",
       "  <thead>\n",
       "    <tr style=\"text-align: right;\">\n",
       "      <th></th>\n",
       "      <th>day</th>\n",
       "      <th>name</th>\n",
       "      <th>info</th>\n",
       "      <th>link</th>\n",
       "      <th>num_references</th>\n",
       "      <th>year</th>\n",
       "      <th>month</th>\n",
       "      <th>info_parenth</th>\n",
       "      <th>info_1</th>\n",
       "      <th>info_2</th>\n",
       "      <th>info_3</th>\n",
       "      <th>info_4</th>\n",
       "      <th>info_5</th>\n",
       "      <th>info_6</th>\n",
       "      <th>info_7</th>\n",
       "      <th>info_8</th>\n",
       "      <th>info_9</th>\n",
       "      <th>info_10</th>\n",
       "      <th>info_11</th>\n",
       "      <th>age</th>\n",
       "      <th>cause_of_death</th>\n",
       "      <th>place_1</th>\n",
       "      <th>place_2</th>\n",
       "      <th>info_parenth_copy</th>\n",
       "      <th>log_num_references</th>\n",
       "      <th>sciences</th>\n",
       "      <th>social</th>\n",
       "      <th>spiritual</th>\n",
       "      <th>academia_humanities</th>\n",
       "      <th>business_farming</th>\n",
       "      <th>arts</th>\n",
       "      <th>sports</th>\n",
       "      <th>law_enf_military_operator</th>\n",
       "      <th>politics_govt_law</th>\n",
       "      <th>crime</th>\n",
       "      <th>event_record_other</th>\n",
       "      <th>other_species</th>\n",
       "      <th>num_categories</th>\n",
       "    </tr>\n",
       "  </thead>\n",
       "  <tbody>\n",
       "    <tr>\n",
       "      <th>46444</th>\n",
       "      <td>20</td>\n",
       "      <td>Pete Titanic</td>\n",
       "      <td>, 93, Canadian football player .</td>\n",
       "      <td>https://en.wikipedia.org/wiki/Pete_Titanic</td>\n",
       "      <td>3</td>\n",
       "      <td>2014</td>\n",
       "      <td>January</td>\n",
       "      <td>Toronto Argonauts</td>\n",
       "      <td>None</td>\n",
       "      <td></td>\n",
       "      <td>None</td>\n",
       "      <td>None</td>\n",
       "      <td>None</td>\n",
       "      <td>None</td>\n",
       "      <td>None</td>\n",
       "      <td>None</td>\n",
       "      <td>None</td>\n",
       "      <td>None</td>\n",
       "      <td>None</td>\n",
       "      <td>93.0</td>\n",
       "      <td>None</td>\n",
       "      <td>Canada</td>\n",
       "      <td>None</td>\n",
       "      <td>Toronto Argonauts</td>\n",
       "      <td>1.386294</td>\n",
       "      <td>0</td>\n",
       "      <td>0</td>\n",
       "      <td>0</td>\n",
       "      <td>0</td>\n",
       "      <td>0</td>\n",
       "      <td>0</td>\n",
       "      <td>1</td>\n",
       "      <td>0</td>\n",
       "      <td>0</td>\n",
       "      <td>0</td>\n",
       "      <td>0</td>\n",
       "      <td>0</td>\n",
       "      <td>1</td>\n",
       "    </tr>\n",
       "    <tr>\n",
       "      <th>72336</th>\n",
       "      <td>30</td>\n",
       "      <td>Joan Kaufman</td>\n",
       "      <td>, 83, American baseball player .</td>\n",
       "      <td>https://en.wikipedia.org/wiki/Joan_Kaufman</td>\n",
       "      <td>4</td>\n",
       "      <td>2018</td>\n",
       "      <td>December</td>\n",
       "      <td>All Girls Professional Baseball League</td>\n",
       "      <td>None</td>\n",
       "      <td></td>\n",
       "      <td>None</td>\n",
       "      <td>None</td>\n",
       "      <td>None</td>\n",
       "      <td>None</td>\n",
       "      <td>None</td>\n",
       "      <td>None</td>\n",
       "      <td>None</td>\n",
       "      <td>None</td>\n",
       "      <td>None</td>\n",
       "      <td>83.0</td>\n",
       "      <td>None</td>\n",
       "      <td>United States of America</td>\n",
       "      <td>None</td>\n",
       "      <td>All American Girls Professional Baseball League</td>\n",
       "      <td>1.609438</td>\n",
       "      <td>0</td>\n",
       "      <td>0</td>\n",
       "      <td>0</td>\n",
       "      <td>0</td>\n",
       "      <td>0</td>\n",
       "      <td>0</td>\n",
       "      <td>1</td>\n",
       "      <td>0</td>\n",
       "      <td>0</td>\n",
       "      <td>0</td>\n",
       "      <td>0</td>\n",
       "      <td>0</td>\n",
       "      <td>1</td>\n",
       "    </tr>\n",
       "  </tbody>\n",
       "</table>\n",
       "</div>"
      ],
      "text/plain": [
       "      day          name                              info  \\\n",
       "46444  20  Pete Titanic  , 93, Canadian football player .   \n",
       "72336  30  Joan Kaufman  , 83, American baseball player .   \n",
       "\n",
       "                                             link  num_references  year  \\\n",
       "46444  https://en.wikipedia.org/wiki/Pete_Titanic               3  2014   \n",
       "72336  https://en.wikipedia.org/wiki/Joan_Kaufman               4  2018   \n",
       "\n",
       "          month                            info_parenth info_1 info_2 info_3  \\\n",
       "46444   January                       Toronto Argonauts   None          None   \n",
       "72336  December  All Girls Professional Baseball League   None          None   \n",
       "\n",
       "      info_4 info_5 info_6 info_7 info_8 info_9 info_10 info_11   age  \\\n",
       "46444   None   None   None   None   None   None    None    None  93.0   \n",
       "72336   None   None   None   None   None   None    None    None  83.0   \n",
       "\n",
       "      cause_of_death                   place_1 place_2  \\\n",
       "46444           None                    Canada    None   \n",
       "72336           None  United States of America    None   \n",
       "\n",
       "                                     info_parenth_copy  log_num_references  \\\n",
       "46444                                Toronto Argonauts            1.386294   \n",
       "72336  All American Girls Professional Baseball League            1.609438   \n",
       "\n",
       "       sciences  social  spiritual  academia_humanities  business_farming  \\\n",
       "46444         0       0          0                    0                 0   \n",
       "72336         0       0          0                    0                 0   \n",
       "\n",
       "       arts  sports  law_enf_military_operator  politics_govt_law  crime  \\\n",
       "46444     0       1                          0                  0      0   \n",
       "72336     0       1                          0                  0      0   \n",
       "\n",
       "       event_record_other  other_species  num_categories  \n",
       "46444                   0              0               1  \n",
       "72336                   0              0               1  "
      ]
     },
     "execution_count": 36,
     "metadata": {},
     "output_type": "execute_result"
    },
    {
     "data": {
      "application/javascript": [
       "\n",
       "            setTimeout(function() {\n",
       "                var nbb_cell_id = 36;\n",
       "                var nbb_unformatted_code = \"%%time\\n\\n# Dictionary version\\nsearch_dict = known_for_dict\\n\\n# Column to check\\ncolumn = 'info_2'\\n\\n# Dataframe\\ndataframe = df[column].notna()\\n\\n# For loop to find role in column and extract it as category\\nfor category, category_lst in search_dict.items():\\n    for role in category_lst:\\n        for index in dataframe.index:\\n            item = df.loc[index, column]\\n            if item:\\n                if role in item:\\n                    df.loc[index, category] = 1\\n                    df.loc[index, column] = item.replace(role, '').strip()\\n\\n# Updating num_categories\\ndf[\\\"num_categories\\\"] = df[known_for_dict.keys()].sum(axis=1)\\n\\n# Checking a sample of rows\\ndf[df['sports'] ==1].sample(2)\";\n",
       "                var nbb_formatted_code = \"%%time\\n\\n# Dictionary version\\nsearch_dict = known_for_dict\\n\\n# Column to check\\ncolumn = 'info_2'\\n\\n# Dataframe\\ndataframe = df[column].notna()\\n\\n# For loop to find role in column and extract it as category\\nfor category, category_lst in search_dict.items():\\n    for role in category_lst:\\n        for index in dataframe.index:\\n            item = df.loc[index, column]\\n            if item:\\n                if role in item:\\n                    df.loc[index, category] = 1\\n                    df.loc[index, column] = item.replace(role, '').strip()\\n\\n# Updating num_categories\\ndf[\\\"num_categories\\\"] = df[known_for_dict.keys()].sum(axis=1)\\n\\n# Checking a sample of rows\\ndf[df['sports'] ==1].sample(2)\";\n",
       "                var nbb_cells = Jupyter.notebook.get_cells();\n",
       "                for (var i = 0; i < nbb_cells.length; ++i) {\n",
       "                    if (nbb_cells[i].input_prompt_number == nbb_cell_id) {\n",
       "                        if (nbb_cells[i].get_text() == nbb_unformatted_code) {\n",
       "                             nbb_cells[i].set_text(nbb_formatted_code);\n",
       "                        }\n",
       "                        break;\n",
       "                    }\n",
       "                }\n",
       "            }, 500);\n",
       "            "
      ],
      "text/plain": [
       "<IPython.core.display.Javascript object>"
      ]
     },
     "metadata": {},
     "output_type": "display_data"
    }
   ],
   "source": [
    "%%time\n",
    "\n",
    "# Dictionary version\n",
    "search_dict = known_for_dict\n",
    "\n",
    "# Column to check\n",
    "column = 'info_2'\n",
    "\n",
    "# Dataframe\n",
    "dataframe = df[column].notna()\n",
    "\n",
    "# For loop to find role in column and extract it as category\n",
    "for category, category_lst in search_dict.items():\n",
    "    for role in category_lst:\n",
    "        for index in dataframe.index:\n",
    "            item = df.loc[index, column]\n",
    "            if item:\n",
    "                if role in item:\n",
    "                    df.loc[index, category] = 1\n",
    "                    df.loc[index, column] = item.replace(role, '').strip()\n",
    "\n",
    "# Updating num_categories\n",
    "df[\"num_categories\"] = df[known_for_dict.keys()].sum(axis=1)\n",
    "\n",
    "# Checking a sample of rows\n",
    "df[df['sports'] ==1].sample(2)"
   ]
  },
  {
   "cell_type": "markdown",
   "id": "108db7e1",
   "metadata": {},
   "source": [
    "#### Checking the Number of Rows without a First Category"
   ]
  },
  {
   "cell_type": "code",
   "execution_count": 37,
   "id": "e3932940",
   "metadata": {},
   "outputs": [
    {
     "name": "stdout",
     "output_type": "stream",
     "text": [
      "There are 36986 entries without any known_for category.\n"
     ]
    },
    {
     "data": {
      "application/javascript": [
       "\n",
       "            setTimeout(function() {\n",
       "                var nbb_cell_id = 37;\n",
       "                var nbb_unformatted_code = \"# Checking the number of rows without a first category\\nprint(\\n    f'There are {len(df[df[\\\"num_categories\\\"]==0])} entries without any known_for category.'\\n)\";\n",
       "                var nbb_formatted_code = \"# Checking the number of rows without a first category\\nprint(\\n    f'There are {len(df[df[\\\"num_categories\\\"]==0])} entries without any known_for category.'\\n)\";\n",
       "                var nbb_cells = Jupyter.notebook.get_cells();\n",
       "                for (var i = 0; i < nbb_cells.length; ++i) {\n",
       "                    if (nbb_cells[i].input_prompt_number == nbb_cell_id) {\n",
       "                        if (nbb_cells[i].get_text() == nbb_unformatted_code) {\n",
       "                             nbb_cells[i].set_text(nbb_formatted_code);\n",
       "                        }\n",
       "                        break;\n",
       "                    }\n",
       "                }\n",
       "            }, 500);\n",
       "            "
      ],
      "text/plain": [
       "<IPython.core.display.Javascript object>"
      ]
     },
     "metadata": {},
     "output_type": "display_data"
    }
   ],
   "source": [
    "# Checking the number of rows without a first category\n",
    "print(\n",
    "    f'There are {len(df[df[\"num_categories\"]==0])} entries without any known_for category.'\n",
    ")"
   ]
  },
  {
   "cell_type": "markdown",
   "id": "db60dc40",
   "metadata": {},
   "source": [
    "#### Observations:\n",
    "- We will proceed to rebuild `known_for_dict` for the next iteration."
   ]
  },
  {
   "cell_type": "markdown",
   "id": "8971918d",
   "metadata": {},
   "source": [
    "#### Finding `known_for` Roles in `info_2`"
   ]
  },
  {
   "cell_type": "code",
   "execution_count": 38,
   "id": "f15a9f37",
   "metadata": {},
   "outputs": [
    {
     "data": {
      "application/javascript": [
       "\n",
       "            setTimeout(function() {\n",
       "                var nbb_cell_id = 38;\n",
       "                var nbb_unformatted_code = \"# Obtaining values for column and their counts\\nroles_list = df[\\\"info_2\\\"].value_counts(ascending=True).index.tolist()\";\n",
       "                var nbb_formatted_code = \"# Obtaining values for column and their counts\\nroles_list = df[\\\"info_2\\\"].value_counts(ascending=True).index.tolist()\";\n",
       "                var nbb_cells = Jupyter.notebook.get_cells();\n",
       "                for (var i = 0; i < nbb_cells.length; ++i) {\n",
       "                    if (nbb_cells[i].input_prompt_number == nbb_cell_id) {\n",
       "                        if (nbb_cells[i].get_text() == nbb_unformatted_code) {\n",
       "                             nbb_cells[i].set_text(nbb_formatted_code);\n",
       "                        }\n",
       "                        break;\n",
       "                    }\n",
       "                }\n",
       "            }, 500);\n",
       "            "
      ],
      "text/plain": [
       "<IPython.core.display.Javascript object>"
      ]
     },
     "metadata": {},
     "output_type": "display_data"
    }
   ],
   "source": [
    "# Obtaining values for column and their counts\n",
    "roles_list = df[\"info_2\"].value_counts(ascending=True).index.tolist()"
   ]
  },
  {
   "cell_type": "code",
   "execution_count": 39,
   "id": "4558b864",
   "metadata": {},
   "outputs": [
    {
     "data": {
      "application/javascript": [
       "\n",
       "            setTimeout(function() {\n",
       "                var nbb_cell_id = 39;\n",
       "                var nbb_unformatted_code = \"# # Code to check each value\\n# roles_list.pop()\";\n",
       "                var nbb_formatted_code = \"# # Code to check each value\\n# roles_list.pop()\";\n",
       "                var nbb_cells = Jupyter.notebook.get_cells();\n",
       "                for (var i = 0; i < nbb_cells.length; ++i) {\n",
       "                    if (nbb_cells[i].input_prompt_number == nbb_cell_id) {\n",
       "                        if (nbb_cells[i].get_text() == nbb_unformatted_code) {\n",
       "                             nbb_cells[i].set_text(nbb_formatted_code);\n",
       "                        }\n",
       "                        break;\n",
       "                    }\n",
       "                }\n",
       "            }, 500);\n",
       "            "
      ],
      "text/plain": [
       "<IPython.core.display.Javascript object>"
      ]
     },
     "metadata": {},
     "output_type": "display_data"
    }
   ],
   "source": [
    "# # Code to check each value\n",
    "# roles_list.pop()"
   ]
  },
  {
   "cell_type": "code",
   "execution_count": 40,
   "id": "edde5a94",
   "metadata": {},
   "outputs": [
    {
     "data": {
      "application/javascript": [
       "\n",
       "            setTimeout(function() {\n",
       "                var nbb_cell_id = 40;\n",
       "                var nbb_unformatted_code = \"# # Create specific_roles_list for above popped value\\n# specific_roles_list = (\\n#     df.loc[\\n#         [index for index in df.index if \\\"rugby league player\\\" in df.loc[index, \\\"info\\\"]],\\n#         \\\"info_2\\\",\\n#     ]\\n#     .value_counts()\\n#     .index.tolist()\\n# )\";\n",
       "                var nbb_formatted_code = \"# # Create specific_roles_list for above popped value\\n# specific_roles_list = (\\n#     df.loc[\\n#         [index for index in df.index if \\\"rugby league player\\\" in df.loc[index, \\\"info\\\"]],\\n#         \\\"info_2\\\",\\n#     ]\\n#     .value_counts()\\n#     .index.tolist()\\n# )\";\n",
       "                var nbb_cells = Jupyter.notebook.get_cells();\n",
       "                for (var i = 0; i < nbb_cells.length; ++i) {\n",
       "                    if (nbb_cells[i].input_prompt_number == nbb_cell_id) {\n",
       "                        if (nbb_cells[i].get_text() == nbb_unformatted_code) {\n",
       "                             nbb_cells[i].set_text(nbb_formatted_code);\n",
       "                        }\n",
       "                        break;\n",
       "                    }\n",
       "                }\n",
       "            }, 500);\n",
       "            "
      ],
      "text/plain": [
       "<IPython.core.display.Javascript object>"
      ]
     },
     "metadata": {},
     "output_type": "display_data"
    }
   ],
   "source": [
    "# # Create specific_roles_list for above popped value\n",
    "# specific_roles_list = (\n",
    "#     df.loc[\n",
    "#         [index for index in df.index if \"rugby league player\" in df.loc[index, \"info\"]],\n",
    "#         \"info_2\",\n",
    "#     ]\n",
    "#     .value_counts()\n",
    "#     .index.tolist()\n",
    "# )"
   ]
  },
  {
   "cell_type": "code",
   "execution_count": 41,
   "id": "4d34f3f1",
   "metadata": {},
   "outputs": [
    {
     "data": {
      "application/javascript": [
       "\n",
       "            setTimeout(function() {\n",
       "                var nbb_cell_id = 41;\n",
       "                var nbb_unformatted_code = \"# # Code to check each specific value\\n# specific_roles_list.pop()\";\n",
       "                var nbb_formatted_code = \"# # Code to check each specific value\\n# specific_roles_list.pop()\";\n",
       "                var nbb_cells = Jupyter.notebook.get_cells();\n",
       "                for (var i = 0; i < nbb_cells.length; ++i) {\n",
       "                    if (nbb_cells[i].input_prompt_number == nbb_cell_id) {\n",
       "                        if (nbb_cells[i].get_text() == nbb_unformatted_code) {\n",
       "                             nbb_cells[i].set_text(nbb_formatted_code);\n",
       "                        }\n",
       "                        break;\n",
       "                    }\n",
       "                }\n",
       "            }, 500);\n",
       "            "
      ],
      "text/plain": [
       "<IPython.core.display.Javascript object>"
      ]
     },
     "metadata": {},
     "output_type": "display_data"
    }
   ],
   "source": [
    "# # Code to check each specific value\n",
    "# specific_roles_list.pop()"
   ]
  },
  {
   "cell_type": "code",
   "execution_count": 42,
   "id": "27f2d126",
   "metadata": {},
   "outputs": [
    {
     "data": {
      "application/javascript": [
       "\n",
       "            setTimeout(function() {\n",
       "                var nbb_cell_id = 42;\n",
       "                var nbb_unformatted_code = \"# # Example code to quick-screen values that may overlap categories\\n# df.loc[\\n#     [\\n#         index\\n#         for index in df.index\\n#         if \\\"rugby league player and administrator\\\" in df.loc[index, \\\"info\\\"]\\n#     ]\\n# ]\";\n",
       "                var nbb_formatted_code = \"# # Example code to quick-screen values that may overlap categories\\n# df.loc[\\n#     [\\n#         index\\n#         for index in df.index\\n#         if \\\"rugby league player and administrator\\\" in df.loc[index, \\\"info\\\"]\\n#     ]\\n# ]\";\n",
       "                var nbb_cells = Jupyter.notebook.get_cells();\n",
       "                for (var i = 0; i < nbb_cells.length; ++i) {\n",
       "                    if (nbb_cells[i].input_prompt_number == nbb_cell_id) {\n",
       "                        if (nbb_cells[i].get_text() == nbb_unformatted_code) {\n",
       "                             nbb_cells[i].set_text(nbb_formatted_code);\n",
       "                        }\n",
       "                        break;\n",
       "                    }\n",
       "                }\n",
       "            }, 500);\n",
       "            "
      ],
      "text/plain": [
       "<IPython.core.display.Javascript object>"
      ]
     },
     "metadata": {},
     "output_type": "display_data"
    }
   ],
   "source": [
    "# # Example code to quick-screen values that may overlap categories\n",
    "# df.loc[\n",
    "#     [\n",
    "#         index\n",
    "#         for index in df.index\n",
    "#         if \"rugby league player and administrator\" in df.loc[index, \"info\"]\n",
    "#     ]\n",
    "# ]"
   ]
  },
  {
   "cell_type": "code",
   "execution_count": 43,
   "id": "045fac02",
   "metadata": {},
   "outputs": [
    {
     "data": {
      "application/javascript": [
       "\n",
       "            setTimeout(function() {\n",
       "                var nbb_cell_id = 43;\n",
       "                var nbb_unformatted_code = \"# # Example code to quick-check a specific entry\\n# df[df[\\\"info_2\\\"] == \\\"rugby league player involved in match fixing scandal\\\"]\";\n",
       "                var nbb_formatted_code = \"# # Example code to quick-check a specific entry\\n# df[df[\\\"info_2\\\"] == \\\"rugby league player involved in match fixing scandal\\\"]\";\n",
       "                var nbb_cells = Jupyter.notebook.get_cells();\n",
       "                for (var i = 0; i < nbb_cells.length; ++i) {\n",
       "                    if (nbb_cells[i].input_prompt_number == nbb_cell_id) {\n",
       "                        if (nbb_cells[i].get_text() == nbb_unformatted_code) {\n",
       "                             nbb_cells[i].set_text(nbb_formatted_code);\n",
       "                        }\n",
       "                        break;\n",
       "                    }\n",
       "                }\n",
       "            }, 500);\n",
       "            "
      ],
      "text/plain": [
       "<IPython.core.display.Javascript object>"
      ]
     },
     "metadata": {},
     "output_type": "display_data"
    }
   ],
   "source": [
    "# # Example code to quick-check a specific entry\n",
    "# df[df[\"info_2\"] == \"rugby league player involved in match fixing scandal\"]"
   ]
  },
  {
   "cell_type": "markdown",
   "id": "8caec567",
   "metadata": {},
   "source": [
    "#### Creating Lists for Each `known_for` Category"
   ]
  },
  {
   "cell_type": "code",
   "execution_count": 44,
   "id": "571bba60",
   "metadata": {},
   "outputs": [
    {
     "data": {
      "application/javascript": [
       "\n",
       "            setTimeout(function() {\n",
       "                var nbb_cell_id = 44;\n",
       "                var nbb_unformatted_code = \"# Creating lists for each category\\npolitics_govt_law = []\\n\\narts = []\\nsports = [\\n    \\\"Hall of Fame rugby league player\\\",\\n    \\\"Papua New rugby league player\\\",\\n    \\\"rugby league player and captain\\\",\\n    \\\"rugby league player and international coach\\\",\\n    \\\"Hall of Fame rugby league player and national team captain\\\",\\n    \\\"football and rugby league player\\\",\\n    \\\"rugby league player for Wigan and Great\\\",\\n    \\\"rugby league player for Great and Hull KR\\\",\\n    \\\"rugby league player for Great\\\",\\n    \\\"rugby league player and referee\\\",\\n    \\\"rugby league player and administrator\\\",\\n    \\\"rugby union and rugby league player\\\",\\n    \\\"rugby league player and coach\\\",\\n    \\\"and rugby league player\\\",\\n    \\\"rugby league player and\\\",\\n    \\\"rugby league player\\\",\\n]\\nsciences = []\\n\\nbusiness_farming = []\\nacademia_humanities = []\\nlaw_enf_military_operator = []\\nspiritual = []\\nsocial = []\\ncrime = [\\\"involved in match fixing scandal\\\"]\\nevent_record_other = []\\nother_species = []\";\n",
       "                var nbb_formatted_code = \"# Creating lists for each category\\npolitics_govt_law = []\\n\\narts = []\\nsports = [\\n    \\\"Hall of Fame rugby league player\\\",\\n    \\\"Papua New rugby league player\\\",\\n    \\\"rugby league player and captain\\\",\\n    \\\"rugby league player and international coach\\\",\\n    \\\"Hall of Fame rugby league player and national team captain\\\",\\n    \\\"football and rugby league player\\\",\\n    \\\"rugby league player for Wigan and Great\\\",\\n    \\\"rugby league player for Great and Hull KR\\\",\\n    \\\"rugby league player for Great\\\",\\n    \\\"rugby league player and referee\\\",\\n    \\\"rugby league player and administrator\\\",\\n    \\\"rugby union and rugby league player\\\",\\n    \\\"rugby league player and coach\\\",\\n    \\\"and rugby league player\\\",\\n    \\\"rugby league player and\\\",\\n    \\\"rugby league player\\\",\\n]\\nsciences = []\\n\\nbusiness_farming = []\\nacademia_humanities = []\\nlaw_enf_military_operator = []\\nspiritual = []\\nsocial = []\\ncrime = [\\\"involved in match fixing scandal\\\"]\\nevent_record_other = []\\nother_species = []\";\n",
       "                var nbb_cells = Jupyter.notebook.get_cells();\n",
       "                for (var i = 0; i < nbb_cells.length; ++i) {\n",
       "                    if (nbb_cells[i].input_prompt_number == nbb_cell_id) {\n",
       "                        if (nbb_cells[i].get_text() == nbb_unformatted_code) {\n",
       "                             nbb_cells[i].set_text(nbb_formatted_code);\n",
       "                        }\n",
       "                        break;\n",
       "                    }\n",
       "                }\n",
       "            }, 500);\n",
       "            "
      ],
      "text/plain": [
       "<IPython.core.display.Javascript object>"
      ]
     },
     "metadata": {},
     "output_type": "display_data"
    }
   ],
   "source": [
    "# Creating lists for each category\n",
    "politics_govt_law = []\n",
    "\n",
    "arts = []\n",
    "sports = [\n",
    "    \"Hall of Fame rugby league player\",\n",
    "    \"Papua New rugby league player\",\n",
    "    \"rugby league player and captain\",\n",
    "    \"rugby league player and international coach\",\n",
    "    \"Hall of Fame rugby league player and national team captain\",\n",
    "    \"football and rugby league player\",\n",
    "    \"rugby league player for Wigan and Great\",\n",
    "    \"rugby league player for Great and Hull KR\",\n",
    "    \"rugby league player for Great\",\n",
    "    \"rugby league player and referee\",\n",
    "    \"rugby league player and administrator\",\n",
    "    \"rugby union and rugby league player\",\n",
    "    \"rugby league player and coach\",\n",
    "    \"and rugby league player\",\n",
    "    \"rugby league player and\",\n",
    "    \"rugby league player\",\n",
    "]\n",
    "sciences = []\n",
    "\n",
    "business_farming = []\n",
    "academia_humanities = []\n",
    "law_enf_military_operator = []\n",
    "spiritual = []\n",
    "social = []\n",
    "crime = [\"involved in match fixing scandal\"]\n",
    "event_record_other = []\n",
    "other_species = []"
   ]
  },
  {
   "cell_type": "markdown",
   "id": "450d859c",
   "metadata": {},
   "source": [
    "#### Creating `known_for_dict` Dictionary of Category Keys and Specific Role Lists of Values"
   ]
  },
  {
   "cell_type": "code",
   "execution_count": 45,
   "id": "e250cb24",
   "metadata": {},
   "outputs": [
    {
     "data": {
      "application/javascript": [
       "\n",
       "            setTimeout(function() {\n",
       "                var nbb_cell_id = 45;\n",
       "                var nbb_unformatted_code = \"# Combining separate lists into one dictionary\\nknown_for_dict = {\\n    \\\"social\\\": social,\\n    \\\"spiritual\\\": spiritual,\\n    \\\"academia_humanities\\\": academia_humanities,\\n    \\\"business_farming\\\": business_farming,\\n    \\\"sciences\\\": sciences,\\n    \\\"politics_govt_law\\\": politics_govt_law,\\n    \\\"law_enf_military_operator\\\": law_enf_military_operator,\\n    \\\"crime\\\": crime,\\n    \\\"event_record_other\\\": event_record_other,\\n    \\\"other_species\\\": other_species,\\n    \\\"arts\\\": arts,\\n    \\\"sports\\\": sports,\\n}\";\n",
       "                var nbb_formatted_code = \"# Combining separate lists into one dictionary\\nknown_for_dict = {\\n    \\\"social\\\": social,\\n    \\\"spiritual\\\": spiritual,\\n    \\\"academia_humanities\\\": academia_humanities,\\n    \\\"business_farming\\\": business_farming,\\n    \\\"sciences\\\": sciences,\\n    \\\"politics_govt_law\\\": politics_govt_law,\\n    \\\"law_enf_military_operator\\\": law_enf_military_operator,\\n    \\\"crime\\\": crime,\\n    \\\"event_record_other\\\": event_record_other,\\n    \\\"other_species\\\": other_species,\\n    \\\"arts\\\": arts,\\n    \\\"sports\\\": sports,\\n}\";\n",
       "                var nbb_cells = Jupyter.notebook.get_cells();\n",
       "                for (var i = 0; i < nbb_cells.length; ++i) {\n",
       "                    if (nbb_cells[i].input_prompt_number == nbb_cell_id) {\n",
       "                        if (nbb_cells[i].get_text() == nbb_unformatted_code) {\n",
       "                             nbb_cells[i].set_text(nbb_formatted_code);\n",
       "                        }\n",
       "                        break;\n",
       "                    }\n",
       "                }\n",
       "            }, 500);\n",
       "            "
      ],
      "text/plain": [
       "<IPython.core.display.Javascript object>"
      ]
     },
     "metadata": {},
     "output_type": "display_data"
    }
   ],
   "source": [
    "# Combining separate lists into one dictionary\n",
    "known_for_dict = {\n",
    "    \"social\": social,\n",
    "    \"spiritual\": spiritual,\n",
    "    \"academia_humanities\": academia_humanities,\n",
    "    \"business_farming\": business_farming,\n",
    "    \"sciences\": sciences,\n",
    "    \"politics_govt_law\": politics_govt_law,\n",
    "    \"law_enf_military_operator\": law_enf_military_operator,\n",
    "    \"crime\": crime,\n",
    "    \"event_record_other\": event_record_other,\n",
    "    \"other_species\": other_species,\n",
    "    \"arts\": arts,\n",
    "    \"sports\": sports,\n",
    "}"
   ]
  },
  {
   "cell_type": "markdown",
   "id": "8e4b581f",
   "metadata": {},
   "source": [
    "#### Extracting Category from `info_2`"
   ]
  },
  {
   "cell_type": "code",
   "execution_count": 46,
   "id": "760bb432",
   "metadata": {},
   "outputs": [
    {
     "name": "stdout",
     "output_type": "stream",
     "text": [
      "CPU times: total: 9.53 s\n",
      "Wall time: 9.52 s\n"
     ]
    },
    {
     "data": {
      "text/html": [
       "<div>\n",
       "<style scoped>\n",
       "    .dataframe tbody tr th:only-of-type {\n",
       "        vertical-align: middle;\n",
       "    }\n",
       "\n",
       "    .dataframe tbody tr th {\n",
       "        vertical-align: top;\n",
       "    }\n",
       "\n",
       "    .dataframe thead th {\n",
       "        text-align: right;\n",
       "    }\n",
       "</style>\n",
       "<table border=\"1\" class=\"dataframe\">\n",
       "  <thead>\n",
       "    <tr style=\"text-align: right;\">\n",
       "      <th></th>\n",
       "      <th>day</th>\n",
       "      <th>name</th>\n",
       "      <th>info</th>\n",
       "      <th>link</th>\n",
       "      <th>num_references</th>\n",
       "      <th>year</th>\n",
       "      <th>month</th>\n",
       "      <th>info_parenth</th>\n",
       "      <th>info_1</th>\n",
       "      <th>info_2</th>\n",
       "      <th>info_3</th>\n",
       "      <th>info_4</th>\n",
       "      <th>info_5</th>\n",
       "      <th>info_6</th>\n",
       "      <th>info_7</th>\n",
       "      <th>info_8</th>\n",
       "      <th>info_9</th>\n",
       "      <th>info_10</th>\n",
       "      <th>info_11</th>\n",
       "      <th>age</th>\n",
       "      <th>cause_of_death</th>\n",
       "      <th>place_1</th>\n",
       "      <th>place_2</th>\n",
       "      <th>info_parenth_copy</th>\n",
       "      <th>log_num_references</th>\n",
       "      <th>sciences</th>\n",
       "      <th>social</th>\n",
       "      <th>spiritual</th>\n",
       "      <th>academia_humanities</th>\n",
       "      <th>business_farming</th>\n",
       "      <th>arts</th>\n",
       "      <th>sports</th>\n",
       "      <th>law_enf_military_operator</th>\n",
       "      <th>politics_govt_law</th>\n",
       "      <th>crime</th>\n",
       "      <th>event_record_other</th>\n",
       "      <th>other_species</th>\n",
       "      <th>num_categories</th>\n",
       "    </tr>\n",
       "  </thead>\n",
       "  <tbody>\n",
       "    <tr>\n",
       "      <th>36732</th>\n",
       "      <td>27</td>\n",
       "      <td>Mykola Koltsov</td>\n",
       "      <td>, 75, Russian-born Ukrainian footballer and youth trainer.</td>\n",
       "      <td>https://en.wikipedia.org/wiki/Mykola_Koltsov</td>\n",
       "      <td>3</td>\n",
       "      <td>2011</td>\n",
       "      <td>December</td>\n",
       "      <td>None</td>\n",
       "      <td>None</td>\n",
       "      <td></td>\n",
       "      <td>None</td>\n",
       "      <td>None</td>\n",
       "      <td>None</td>\n",
       "      <td>None</td>\n",
       "      <td>None</td>\n",
       "      <td>None</td>\n",
       "      <td>None</td>\n",
       "      <td>None</td>\n",
       "      <td>None</td>\n",
       "      <td>75.0</td>\n",
       "      <td>None</td>\n",
       "      <td>Russia</td>\n",
       "      <td>Ukraine</td>\n",
       "      <td>None</td>\n",
       "      <td>1.386294</td>\n",
       "      <td>0</td>\n",
       "      <td>0</td>\n",
       "      <td>0</td>\n",
       "      <td>0</td>\n",
       "      <td>0</td>\n",
       "      <td>0</td>\n",
       "      <td>1</td>\n",
       "      <td>0</td>\n",
       "      <td>0</td>\n",
       "      <td>0</td>\n",
       "      <td>0</td>\n",
       "      <td>0</td>\n",
       "      <td>1</td>\n",
       "    </tr>\n",
       "    <tr>\n",
       "      <th>9913</th>\n",
       "      <td>26</td>\n",
       "      <td>Malky MacDonald</td>\n",
       "      <td>, 85, Scottish football player and manager.</td>\n",
       "      <td>https://en.wikipedia.org/wiki/Malky_MacDonald</td>\n",
       "      <td>28</td>\n",
       "      <td>1999</td>\n",
       "      <td>September</td>\n",
       "      <td>None</td>\n",
       "      <td>None</td>\n",
       "      <td></td>\n",
       "      <td>None</td>\n",
       "      <td>None</td>\n",
       "      <td>None</td>\n",
       "      <td>None</td>\n",
       "      <td>None</td>\n",
       "      <td>None</td>\n",
       "      <td>None</td>\n",
       "      <td>None</td>\n",
       "      <td>None</td>\n",
       "      <td>85.0</td>\n",
       "      <td>None</td>\n",
       "      <td>Scotland</td>\n",
       "      <td>None</td>\n",
       "      <td>None</td>\n",
       "      <td>3.367296</td>\n",
       "      <td>0</td>\n",
       "      <td>0</td>\n",
       "      <td>0</td>\n",
       "      <td>0</td>\n",
       "      <td>0</td>\n",
       "      <td>0</td>\n",
       "      <td>1</td>\n",
       "      <td>0</td>\n",
       "      <td>0</td>\n",
       "      <td>0</td>\n",
       "      <td>0</td>\n",
       "      <td>0</td>\n",
       "      <td>1</td>\n",
       "    </tr>\n",
       "  </tbody>\n",
       "</table>\n",
       "</div>"
      ],
      "text/plain": [
       "      day             name  \\\n",
       "36732  27   Mykola Koltsov   \n",
       "9913   26  Malky MacDonald   \n",
       "\n",
       "                                                             info  \\\n",
       "36732  , 75, Russian-born Ukrainian footballer and youth trainer.   \n",
       "9913                  , 85, Scottish football player and manager.   \n",
       "\n",
       "                                                link  num_references  year  \\\n",
       "36732   https://en.wikipedia.org/wiki/Mykola_Koltsov               3  2011   \n",
       "9913   https://en.wikipedia.org/wiki/Malky_MacDonald              28  1999   \n",
       "\n",
       "           month info_parenth info_1 info_2 info_3 info_4 info_5 info_6  \\\n",
       "36732   December         None   None          None   None   None   None   \n",
       "9913   September         None   None          None   None   None   None   \n",
       "\n",
       "      info_7 info_8 info_9 info_10 info_11   age cause_of_death   place_1  \\\n",
       "36732   None   None   None    None    None  75.0           None    Russia   \n",
       "9913    None   None   None    None    None  85.0           None  Scotland   \n",
       "\n",
       "       place_2 info_parenth_copy  log_num_references  sciences  social  \\\n",
       "36732  Ukraine              None            1.386294         0       0   \n",
       "9913      None              None            3.367296         0       0   \n",
       "\n",
       "       spiritual  academia_humanities  business_farming  arts  sports  \\\n",
       "36732          0                    0                 0     0       1   \n",
       "9913           0                    0                 0     0       1   \n",
       "\n",
       "       law_enf_military_operator  politics_govt_law  crime  \\\n",
       "36732                          0                  0      0   \n",
       "9913                           0                  0      0   \n",
       "\n",
       "       event_record_other  other_species  num_categories  \n",
       "36732                   0              0               1  \n",
       "9913                    0              0               1  "
      ]
     },
     "execution_count": 46,
     "metadata": {},
     "output_type": "execute_result"
    },
    {
     "data": {
      "application/javascript": [
       "\n",
       "            setTimeout(function() {\n",
       "                var nbb_cell_id = 46;\n",
       "                var nbb_unformatted_code = \"%%time\\n\\n# Dictionary version\\nsearch_dict = known_for_dict\\n\\n# Column to check\\ncolumn = 'info_2'\\n\\n# Dataframe\\ndataframe = df[column].notna()\\n\\n# For loop to find role in column and extract it as category\\nfor category, category_lst in search_dict.items():\\n    for role in category_lst:\\n        for index in dataframe.index:\\n            item = df.loc[index, column]\\n            if item:\\n                if role in item:\\n                    df.loc[index, category] = 1\\n                    df.loc[index, column] = item.replace(role, '').strip()\\n\\n# Updating num_categories\\ndf[\\\"num_categories\\\"] = df[known_for_dict.keys()].sum(axis=1)\\n\\n# Checking a sample of rows\\ndf[df['sports'] ==1].sample(2)\";\n",
       "                var nbb_formatted_code = \"%%time\\n\\n# Dictionary version\\nsearch_dict = known_for_dict\\n\\n# Column to check\\ncolumn = 'info_2'\\n\\n# Dataframe\\ndataframe = df[column].notna()\\n\\n# For loop to find role in column and extract it as category\\nfor category, category_lst in search_dict.items():\\n    for role in category_lst:\\n        for index in dataframe.index:\\n            item = df.loc[index, column]\\n            if item:\\n                if role in item:\\n                    df.loc[index, category] = 1\\n                    df.loc[index, column] = item.replace(role, '').strip()\\n\\n# Updating num_categories\\ndf[\\\"num_categories\\\"] = df[known_for_dict.keys()].sum(axis=1)\\n\\n# Checking a sample of rows\\ndf[df['sports'] ==1].sample(2)\";\n",
       "                var nbb_cells = Jupyter.notebook.get_cells();\n",
       "                for (var i = 0; i < nbb_cells.length; ++i) {\n",
       "                    if (nbb_cells[i].input_prompt_number == nbb_cell_id) {\n",
       "                        if (nbb_cells[i].get_text() == nbb_unformatted_code) {\n",
       "                             nbb_cells[i].set_text(nbb_formatted_code);\n",
       "                        }\n",
       "                        break;\n",
       "                    }\n",
       "                }\n",
       "            }, 500);\n",
       "            "
      ],
      "text/plain": [
       "<IPython.core.display.Javascript object>"
      ]
     },
     "metadata": {},
     "output_type": "display_data"
    }
   ],
   "source": [
    "%%time\n",
    "\n",
    "# Dictionary version\n",
    "search_dict = known_for_dict\n",
    "\n",
    "# Column to check\n",
    "column = 'info_2'\n",
    "\n",
    "# Dataframe\n",
    "dataframe = df[column].notna()\n",
    "\n",
    "# For loop to find role in column and extract it as category\n",
    "for category, category_lst in search_dict.items():\n",
    "    for role in category_lst:\n",
    "        for index in dataframe.index:\n",
    "            item = df.loc[index, column]\n",
    "            if item:\n",
    "                if role in item:\n",
    "                    df.loc[index, category] = 1\n",
    "                    df.loc[index, column] = item.replace(role, '').strip()\n",
    "\n",
    "# Updating num_categories\n",
    "df[\"num_categories\"] = df[known_for_dict.keys()].sum(axis=1)\n",
    "\n",
    "# Checking a sample of rows\n",
    "df[df['sports'] ==1].sample(2)"
   ]
  },
  {
   "cell_type": "markdown",
   "id": "6cb08ba7",
   "metadata": {},
   "source": [
    "#### Checking the Number of Rows without a First Category"
   ]
  },
  {
   "cell_type": "code",
   "execution_count": 47,
   "id": "36b9cb57",
   "metadata": {},
   "outputs": [
    {
     "name": "stdout",
     "output_type": "stream",
     "text": [
      "There are 36706 entries without any known_for category.\n"
     ]
    },
    {
     "data": {
      "application/javascript": [
       "\n",
       "            setTimeout(function() {\n",
       "                var nbb_cell_id = 47;\n",
       "                var nbb_unformatted_code = \"# Checking the number of rows without a first category\\nprint(\\n    f'There are {len(df[df[\\\"num_categories\\\"]==0])} entries without any known_for category.'\\n)\";\n",
       "                var nbb_formatted_code = \"# Checking the number of rows without a first category\\nprint(\\n    f'There are {len(df[df[\\\"num_categories\\\"]==0])} entries without any known_for category.'\\n)\";\n",
       "                var nbb_cells = Jupyter.notebook.get_cells();\n",
       "                for (var i = 0; i < nbb_cells.length; ++i) {\n",
       "                    if (nbb_cells[i].input_prompt_number == nbb_cell_id) {\n",
       "                        if (nbb_cells[i].get_text() == nbb_unformatted_code) {\n",
       "                             nbb_cells[i].set_text(nbb_formatted_code);\n",
       "                        }\n",
       "                        break;\n",
       "                    }\n",
       "                }\n",
       "            }, 500);\n",
       "            "
      ],
      "text/plain": [
       "<IPython.core.display.Javascript object>"
      ]
     },
     "metadata": {},
     "output_type": "display_data"
    }
   ],
   "source": [
    "# Checking the number of rows without a first category\n",
    "print(\n",
    "    f'There are {len(df[df[\"num_categories\"]==0])} entries without any known_for category.'\n",
    ")"
   ]
  },
  {
   "cell_type": "markdown",
   "id": "7b142558",
   "metadata": {},
   "source": [
    "#### Observations:\n",
    "- We will proceed to rebuild `known_for_dict` for the next iteration."
   ]
  },
  {
   "cell_type": "markdown",
   "id": "87ead917",
   "metadata": {},
   "source": [
    "#### Finding `known_for` Roles in `info_2`"
   ]
  },
  {
   "cell_type": "code",
   "execution_count": 48,
   "id": "63b6150d",
   "metadata": {},
   "outputs": [
    {
     "data": {
      "application/javascript": [
       "\n",
       "            setTimeout(function() {\n",
       "                var nbb_cell_id = 48;\n",
       "                var nbb_unformatted_code = \"# Obtaining values for column and their counts\\nroles_list = df[\\\"info_2\\\"].value_counts(ascending=True).index.tolist()\";\n",
       "                var nbb_formatted_code = \"# Obtaining values for column and their counts\\nroles_list = df[\\\"info_2\\\"].value_counts(ascending=True).index.tolist()\";\n",
       "                var nbb_cells = Jupyter.notebook.get_cells();\n",
       "                for (var i = 0; i < nbb_cells.length; ++i) {\n",
       "                    if (nbb_cells[i].input_prompt_number == nbb_cell_id) {\n",
       "                        if (nbb_cells[i].get_text() == nbb_unformatted_code) {\n",
       "                             nbb_cells[i].set_text(nbb_formatted_code);\n",
       "                        }\n",
       "                        break;\n",
       "                    }\n",
       "                }\n",
       "            }, 500);\n",
       "            "
      ],
      "text/plain": [
       "<IPython.core.display.Javascript object>"
      ]
     },
     "metadata": {},
     "output_type": "display_data"
    }
   ],
   "source": [
    "# Obtaining values for column and their counts\n",
    "roles_list = df[\"info_2\"].value_counts(ascending=True).index.tolist()"
   ]
  },
  {
   "cell_type": "code",
   "execution_count": 49,
   "id": "9202081f",
   "metadata": {},
   "outputs": [
    {
     "data": {
      "application/javascript": [
       "\n",
       "            setTimeout(function() {\n",
       "                var nbb_cell_id = 49;\n",
       "                var nbb_unformatted_code = \"# # Code to check each value\\n# roles_list.pop()\";\n",
       "                var nbb_formatted_code = \"# # Code to check each value\\n# roles_list.pop()\";\n",
       "                var nbb_cells = Jupyter.notebook.get_cells();\n",
       "                for (var i = 0; i < nbb_cells.length; ++i) {\n",
       "                    if (nbb_cells[i].input_prompt_number == nbb_cell_id) {\n",
       "                        if (nbb_cells[i].get_text() == nbb_unformatted_code) {\n",
       "                             nbb_cells[i].set_text(nbb_formatted_code);\n",
       "                        }\n",
       "                        break;\n",
       "                    }\n",
       "                }\n",
       "            }, 500);\n",
       "            "
      ],
      "text/plain": [
       "<IPython.core.display.Javascript object>"
      ]
     },
     "metadata": {},
     "output_type": "display_data"
    }
   ],
   "source": [
    "# # Code to check each value\n",
    "# roles_list.pop()"
   ]
  },
  {
   "cell_type": "code",
   "execution_count": 50,
   "id": "cdd498cd",
   "metadata": {},
   "outputs": [
    {
     "data": {
      "application/javascript": [
       "\n",
       "            setTimeout(function() {\n",
       "                var nbb_cell_id = 50;\n",
       "                var nbb_unformatted_code = \"# # Create specific_roles_list for above popped value\\n# specific_roles_list = (\\n#     df.loc[\\n#         [index for index in df.index if \\\"sociologist\\\" in df.loc[index, \\\"info\\\"]],\\n#         \\\"info_2\\\",\\n#     ]\\n#     .value_counts()\\n#     .index.tolist()\\n# )\";\n",
       "                var nbb_formatted_code = \"# # Create specific_roles_list for above popped value\\n# specific_roles_list = (\\n#     df.loc[\\n#         [index for index in df.index if \\\"sociologist\\\" in df.loc[index, \\\"info\\\"]],\\n#         \\\"info_2\\\",\\n#     ]\\n#     .value_counts()\\n#     .index.tolist()\\n# )\";\n",
       "                var nbb_cells = Jupyter.notebook.get_cells();\n",
       "                for (var i = 0; i < nbb_cells.length; ++i) {\n",
       "                    if (nbb_cells[i].input_prompt_number == nbb_cell_id) {\n",
       "                        if (nbb_cells[i].get_text() == nbb_unformatted_code) {\n",
       "                             nbb_cells[i].set_text(nbb_formatted_code);\n",
       "                        }\n",
       "                        break;\n",
       "                    }\n",
       "                }\n",
       "            }, 500);\n",
       "            "
      ],
      "text/plain": [
       "<IPython.core.display.Javascript object>"
      ]
     },
     "metadata": {},
     "output_type": "display_data"
    }
   ],
   "source": [
    "# # Create specific_roles_list for above popped value\n",
    "# specific_roles_list = (\n",
    "#     df.loc[\n",
    "#         [index for index in df.index if \"sociologist\" in df.loc[index, \"info\"]],\n",
    "#         \"info_2\",\n",
    "#     ]\n",
    "#     .value_counts()\n",
    "#     .index.tolist()\n",
    "# )"
   ]
  },
  {
   "cell_type": "code",
   "execution_count": 51,
   "id": "95ace4b9",
   "metadata": {},
   "outputs": [
    {
     "data": {
      "application/javascript": [
       "\n",
       "            setTimeout(function() {\n",
       "                var nbb_cell_id = 51;\n",
       "                var nbb_unformatted_code = \"# # Code to check each specific value\\n# specific_roles_list.pop()\";\n",
       "                var nbb_formatted_code = \"# # Code to check each specific value\\n# specific_roles_list.pop()\";\n",
       "                var nbb_cells = Jupyter.notebook.get_cells();\n",
       "                for (var i = 0; i < nbb_cells.length; ++i) {\n",
       "                    if (nbb_cells[i].input_prompt_number == nbb_cell_id) {\n",
       "                        if (nbb_cells[i].get_text() == nbb_unformatted_code) {\n",
       "                             nbb_cells[i].set_text(nbb_formatted_code);\n",
       "                        }\n",
       "                        break;\n",
       "                    }\n",
       "                }\n",
       "            }, 500);\n",
       "            "
      ],
      "text/plain": [
       "<IPython.core.display.Javascript object>"
      ]
     },
     "metadata": {},
     "output_type": "display_data"
    }
   ],
   "source": [
    "# # Code to check each specific value\n",
    "# specific_roles_list.pop()"
   ]
  },
  {
   "cell_type": "code",
   "execution_count": 52,
   "id": "c6be124c",
   "metadata": {},
   "outputs": [
    {
     "data": {
      "application/javascript": [
       "\n",
       "            setTimeout(function() {\n",
       "                var nbb_cell_id = 52;\n",
       "                var nbb_unformatted_code = \"# # Example code to quick-screen values that may overlap categories\\n# df.loc[\\n#     [index for index in df.index if \\\"historical sociologist\\\" in df.loc[index, \\\"info\\\"]]\\n# ]\";\n",
       "                var nbb_formatted_code = \"# # Example code to quick-screen values that may overlap categories\\n# df.loc[\\n#     [index for index in df.index if \\\"historical sociologist\\\" in df.loc[index, \\\"info\\\"]]\\n# ]\";\n",
       "                var nbb_cells = Jupyter.notebook.get_cells();\n",
       "                for (var i = 0; i < nbb_cells.length; ++i) {\n",
       "                    if (nbb_cells[i].input_prompt_number == nbb_cell_id) {\n",
       "                        if (nbb_cells[i].get_text() == nbb_unformatted_code) {\n",
       "                             nbb_cells[i].set_text(nbb_formatted_code);\n",
       "                        }\n",
       "                        break;\n",
       "                    }\n",
       "                }\n",
       "            }, 500);\n",
       "            "
      ],
      "text/plain": [
       "<IPython.core.display.Javascript object>"
      ]
     },
     "metadata": {},
     "output_type": "display_data"
    }
   ],
   "source": [
    "# # Example code to quick-screen values that may overlap categories\n",
    "# df.loc[\n",
    "#     [index for index in df.index if \"historical sociologist\" in df.loc[index, \"info\"]]\n",
    "# ]"
   ]
  },
  {
   "cell_type": "code",
   "execution_count": 53,
   "id": "8e40d7d3",
   "metadata": {},
   "outputs": [
    {
     "data": {
      "application/javascript": [
       "\n",
       "            setTimeout(function() {\n",
       "                var nbb_cell_id = 53;\n",
       "                var nbb_unformatted_code = \"# # Example code to quick-check a specific entry\\n# df[df[\\\"info_2\\\"] == \\\"sociologist and critic of systems analysis\\\"]\";\n",
       "                var nbb_formatted_code = \"# # Example code to quick-check a specific entry\\n# df[df[\\\"info_2\\\"] == \\\"sociologist and critic of systems analysis\\\"]\";\n",
       "                var nbb_cells = Jupyter.notebook.get_cells();\n",
       "                for (var i = 0; i < nbb_cells.length; ++i) {\n",
       "                    if (nbb_cells[i].input_prompt_number == nbb_cell_id) {\n",
       "                        if (nbb_cells[i].get_text() == nbb_unformatted_code) {\n",
       "                             nbb_cells[i].set_text(nbb_formatted_code);\n",
       "                        }\n",
       "                        break;\n",
       "                    }\n",
       "                }\n",
       "            }, 500);\n",
       "            "
      ],
      "text/plain": [
       "<IPython.core.display.Javascript object>"
      ]
     },
     "metadata": {},
     "output_type": "display_data"
    }
   ],
   "source": [
    "# # Example code to quick-check a specific entry\n",
    "# df[df[\"info_2\"] == \"sociologist and critic of systems analysis\"]"
   ]
  },
  {
   "cell_type": "markdown",
   "id": "fac2df3d",
   "metadata": {},
   "source": [
    "#### Creating Lists for Each `known_for` Category"
   ]
  },
  {
   "cell_type": "code",
   "execution_count": 54,
   "id": "437a54fd",
   "metadata": {},
   "outputs": [
    {
     "data": {
      "application/javascript": [
       "\n",
       "            setTimeout(function() {\n",
       "                var nbb_cell_id = 54;\n",
       "                var nbb_unformatted_code = \"# Creating lists for each category\\npolitics_govt_law = []\\n\\narts = []\\nsports = [\\n    \\\"caver\\\",\\n]\\nsciences = [\\n    \\\"sociologist and communication scientist\\\",\\n    \\\"sociologist and social justice\\\",\\n    \\\"sociologist and social\\\",\\n    \\\"sociologist and psychiatrist\\\",\\n    \\\"sociologist and critic of systems analysis\\\",\\n    \\\"sociologist of science\\\",\\n    \\\"criminologist and sociologist\\\",\\n    \\\"gerontologist and sociologist\\\",\\n    \\\"urban sociologist\\\",\\n    \\\"sociologist and patients' rights advocate\\\",\\n    \\\"sociologist and statistician\\\",\\n    \\\"environmental sociologist\\\",\\n    \\\"sociologist and demographer\\\",\\n    \\\"sociologist and criminologist\\\",\\n    \\\"sociologist from\\\",\\n    \\\"sociologist and\\\",\\n    \\\"sociologist\\\",\\n]\\n\\nbusiness_farming = []\\nacademia_humanities = []\\nlaw_enf_military_operator = []\\nspiritual = []\\nsocial = []\\ncrime = []\\nevent_record_other = []\\nother_species = []\";\n",
       "                var nbb_formatted_code = \"# Creating lists for each category\\npolitics_govt_law = []\\n\\narts = []\\nsports = [\\n    \\\"caver\\\",\\n]\\nsciences = [\\n    \\\"sociologist and communication scientist\\\",\\n    \\\"sociologist and social justice\\\",\\n    \\\"sociologist and social\\\",\\n    \\\"sociologist and psychiatrist\\\",\\n    \\\"sociologist and critic of systems analysis\\\",\\n    \\\"sociologist of science\\\",\\n    \\\"criminologist and sociologist\\\",\\n    \\\"gerontologist and sociologist\\\",\\n    \\\"urban sociologist\\\",\\n    \\\"sociologist and patients' rights advocate\\\",\\n    \\\"sociologist and statistician\\\",\\n    \\\"environmental sociologist\\\",\\n    \\\"sociologist and demographer\\\",\\n    \\\"sociologist and criminologist\\\",\\n    \\\"sociologist from\\\",\\n    \\\"sociologist and\\\",\\n    \\\"sociologist\\\",\\n]\\n\\nbusiness_farming = []\\nacademia_humanities = []\\nlaw_enf_military_operator = []\\nspiritual = []\\nsocial = []\\ncrime = []\\nevent_record_other = []\\nother_species = []\";\n",
       "                var nbb_cells = Jupyter.notebook.get_cells();\n",
       "                for (var i = 0; i < nbb_cells.length; ++i) {\n",
       "                    if (nbb_cells[i].input_prompt_number == nbb_cell_id) {\n",
       "                        if (nbb_cells[i].get_text() == nbb_unformatted_code) {\n",
       "                             nbb_cells[i].set_text(nbb_formatted_code);\n",
       "                        }\n",
       "                        break;\n",
       "                    }\n",
       "                }\n",
       "            }, 500);\n",
       "            "
      ],
      "text/plain": [
       "<IPython.core.display.Javascript object>"
      ]
     },
     "metadata": {},
     "output_type": "display_data"
    }
   ],
   "source": [
    "# Creating lists for each category\n",
    "politics_govt_law = []\n",
    "\n",
    "arts = []\n",
    "sports = [\n",
    "    \"caver\",\n",
    "]\n",
    "sciences = [\n",
    "    \"sociologist and communication scientist\",\n",
    "    \"sociologist and social justice\",\n",
    "    \"sociologist and social\",\n",
    "    \"sociologist and psychiatrist\",\n",
    "    \"sociologist and critic of systems analysis\",\n",
    "    \"sociologist of science\",\n",
    "    \"criminologist and sociologist\",\n",
    "    \"gerontologist and sociologist\",\n",
    "    \"urban sociologist\",\n",
    "    \"sociologist and patients' rights advocate\",\n",
    "    \"sociologist and statistician\",\n",
    "    \"environmental sociologist\",\n",
    "    \"sociologist and demographer\",\n",
    "    \"sociologist and criminologist\",\n",
    "    \"sociologist from\",\n",
    "    \"sociologist and\",\n",
    "    \"sociologist\",\n",
    "]\n",
    "\n",
    "business_farming = []\n",
    "academia_humanities = []\n",
    "law_enf_military_operator = []\n",
    "spiritual = []\n",
    "social = []\n",
    "crime = []\n",
    "event_record_other = []\n",
    "other_species = []"
   ]
  },
  {
   "cell_type": "markdown",
   "id": "a50b33f5",
   "metadata": {},
   "source": [
    "#### Creating `known_for_dict` Dictionary of Category Keys and Specific Role Lists of Values"
   ]
  },
  {
   "cell_type": "code",
   "execution_count": 55,
   "id": "b39a099f",
   "metadata": {},
   "outputs": [
    {
     "data": {
      "application/javascript": [
       "\n",
       "            setTimeout(function() {\n",
       "                var nbb_cell_id = 55;\n",
       "                var nbb_unformatted_code = \"# Combining separate lists into one dictionary\\nknown_for_dict = {\\n    \\\"social\\\": social,\\n    \\\"spiritual\\\": spiritual,\\n    \\\"academia_humanities\\\": academia_humanities,\\n    \\\"business_farming\\\": business_farming,\\n    \\\"sciences\\\": sciences,\\n    \\\"politics_govt_law\\\": politics_govt_law,\\n    \\\"law_enf_military_operator\\\": law_enf_military_operator,\\n    \\\"crime\\\": crime,\\n    \\\"event_record_other\\\": event_record_other,\\n    \\\"other_species\\\": other_species,\\n    \\\"arts\\\": arts,\\n    \\\"sports\\\": sports,\\n}\";\n",
       "                var nbb_formatted_code = \"# Combining separate lists into one dictionary\\nknown_for_dict = {\\n    \\\"social\\\": social,\\n    \\\"spiritual\\\": spiritual,\\n    \\\"academia_humanities\\\": academia_humanities,\\n    \\\"business_farming\\\": business_farming,\\n    \\\"sciences\\\": sciences,\\n    \\\"politics_govt_law\\\": politics_govt_law,\\n    \\\"law_enf_military_operator\\\": law_enf_military_operator,\\n    \\\"crime\\\": crime,\\n    \\\"event_record_other\\\": event_record_other,\\n    \\\"other_species\\\": other_species,\\n    \\\"arts\\\": arts,\\n    \\\"sports\\\": sports,\\n}\";\n",
       "                var nbb_cells = Jupyter.notebook.get_cells();\n",
       "                for (var i = 0; i < nbb_cells.length; ++i) {\n",
       "                    if (nbb_cells[i].input_prompt_number == nbb_cell_id) {\n",
       "                        if (nbb_cells[i].get_text() == nbb_unformatted_code) {\n",
       "                             nbb_cells[i].set_text(nbb_formatted_code);\n",
       "                        }\n",
       "                        break;\n",
       "                    }\n",
       "                }\n",
       "            }, 500);\n",
       "            "
      ],
      "text/plain": [
       "<IPython.core.display.Javascript object>"
      ]
     },
     "metadata": {},
     "output_type": "display_data"
    }
   ],
   "source": [
    "# Combining separate lists into one dictionary\n",
    "known_for_dict = {\n",
    "    \"social\": social,\n",
    "    \"spiritual\": spiritual,\n",
    "    \"academia_humanities\": academia_humanities,\n",
    "    \"business_farming\": business_farming,\n",
    "    \"sciences\": sciences,\n",
    "    \"politics_govt_law\": politics_govt_law,\n",
    "    \"law_enf_military_operator\": law_enf_military_operator,\n",
    "    \"crime\": crime,\n",
    "    \"event_record_other\": event_record_other,\n",
    "    \"other_species\": other_species,\n",
    "    \"arts\": arts,\n",
    "    \"sports\": sports,\n",
    "}"
   ]
  },
  {
   "cell_type": "markdown",
   "id": "70fe4138",
   "metadata": {},
   "source": [
    "#### Extracting Category from `info_2`"
   ]
  },
  {
   "cell_type": "code",
   "execution_count": 56,
   "id": "af9e0b56",
   "metadata": {},
   "outputs": [
    {
     "name": "stdout",
     "output_type": "stream",
     "text": [
      "CPU times: total: 10.7 s\n",
      "Wall time: 10.7 s\n"
     ]
    },
    {
     "data": {
      "text/html": [
       "<div>\n",
       "<style scoped>\n",
       "    .dataframe tbody tr th:only-of-type {\n",
       "        vertical-align: middle;\n",
       "    }\n",
       "\n",
       "    .dataframe tbody tr th {\n",
       "        vertical-align: top;\n",
       "    }\n",
       "\n",
       "    .dataframe thead th {\n",
       "        text-align: right;\n",
       "    }\n",
       "</style>\n",
       "<table border=\"1\" class=\"dataframe\">\n",
       "  <thead>\n",
       "    <tr style=\"text-align: right;\">\n",
       "      <th></th>\n",
       "      <th>day</th>\n",
       "      <th>name</th>\n",
       "      <th>info</th>\n",
       "      <th>link</th>\n",
       "      <th>num_references</th>\n",
       "      <th>year</th>\n",
       "      <th>month</th>\n",
       "      <th>info_parenth</th>\n",
       "      <th>info_1</th>\n",
       "      <th>info_2</th>\n",
       "      <th>info_3</th>\n",
       "      <th>info_4</th>\n",
       "      <th>info_5</th>\n",
       "      <th>info_6</th>\n",
       "      <th>info_7</th>\n",
       "      <th>info_8</th>\n",
       "      <th>info_9</th>\n",
       "      <th>info_10</th>\n",
       "      <th>info_11</th>\n",
       "      <th>age</th>\n",
       "      <th>cause_of_death</th>\n",
       "      <th>place_1</th>\n",
       "      <th>place_2</th>\n",
       "      <th>info_parenth_copy</th>\n",
       "      <th>log_num_references</th>\n",
       "      <th>sciences</th>\n",
       "      <th>social</th>\n",
       "      <th>spiritual</th>\n",
       "      <th>academia_humanities</th>\n",
       "      <th>business_farming</th>\n",
       "      <th>arts</th>\n",
       "      <th>sports</th>\n",
       "      <th>law_enf_military_operator</th>\n",
       "      <th>politics_govt_law</th>\n",
       "      <th>crime</th>\n",
       "      <th>event_record_other</th>\n",
       "      <th>other_species</th>\n",
       "      <th>num_categories</th>\n",
       "    </tr>\n",
       "  </thead>\n",
       "  <tbody>\n",
       "    <tr>\n",
       "      <th>12290</th>\n",
       "      <td>14</td>\n",
       "      <td>Maurice Levitas</td>\n",
       "      <td>, 84, Irish-born British sociologist.</td>\n",
       "      <td>https://en.wikipedia.org/wiki/Maurice_Levitas</td>\n",
       "      <td>5</td>\n",
       "      <td>2001</td>\n",
       "      <td>February</td>\n",
       "      <td>None</td>\n",
       "      <td>None</td>\n",
       "      <td></td>\n",
       "      <td>None</td>\n",
       "      <td>None</td>\n",
       "      <td>None</td>\n",
       "      <td>None</td>\n",
       "      <td>None</td>\n",
       "      <td>None</td>\n",
       "      <td>None</td>\n",
       "      <td>None</td>\n",
       "      <td>None</td>\n",
       "      <td>84.0</td>\n",
       "      <td>None</td>\n",
       "      <td>Ireland</td>\n",
       "      <td>United Kingdom of Great Britain and Northern Ireland</td>\n",
       "      <td>None</td>\n",
       "      <td>1.791759</td>\n",
       "      <td>1</td>\n",
       "      <td>0</td>\n",
       "      <td>0</td>\n",
       "      <td>0</td>\n",
       "      <td>0</td>\n",
       "      <td>0</td>\n",
       "      <td>0</td>\n",
       "      <td>0</td>\n",
       "      <td>0</td>\n",
       "      <td>0</td>\n",
       "      <td>0</td>\n",
       "      <td>0</td>\n",
       "      <td>1</td>\n",
       "    </tr>\n",
       "    <tr>\n",
       "      <th>2493</th>\n",
       "      <td>25</td>\n",
       "      <td>Ernest Walton</td>\n",
       "      <td>, 91, Irish physicist.</td>\n",
       "      <td>https://en.wikipedia.org/wiki/Ernest_Walton</td>\n",
       "      <td>30</td>\n",
       "      <td>1995</td>\n",
       "      <td>June</td>\n",
       "      <td>None</td>\n",
       "      <td>None</td>\n",
       "      <td></td>\n",
       "      <td>None</td>\n",
       "      <td>None</td>\n",
       "      <td>None</td>\n",
       "      <td>None</td>\n",
       "      <td>None</td>\n",
       "      <td>None</td>\n",
       "      <td>None</td>\n",
       "      <td>None</td>\n",
       "      <td>None</td>\n",
       "      <td>91.0</td>\n",
       "      <td>None</td>\n",
       "      <td>Ireland</td>\n",
       "      <td>None</td>\n",
       "      <td>None</td>\n",
       "      <td>3.433987</td>\n",
       "      <td>1</td>\n",
       "      <td>0</td>\n",
       "      <td>0</td>\n",
       "      <td>0</td>\n",
       "      <td>0</td>\n",
       "      <td>0</td>\n",
       "      <td>0</td>\n",
       "      <td>0</td>\n",
       "      <td>0</td>\n",
       "      <td>0</td>\n",
       "      <td>0</td>\n",
       "      <td>0</td>\n",
       "      <td>1</td>\n",
       "    </tr>\n",
       "  </tbody>\n",
       "</table>\n",
       "</div>"
      ],
      "text/plain": [
       "      day             name                                   info  \\\n",
       "12290  14  Maurice Levitas  , 84, Irish-born British sociologist.   \n",
       "2493   25    Ernest Walton                 , 91, Irish physicist.   \n",
       "\n",
       "                                                link  num_references  year  \\\n",
       "12290  https://en.wikipedia.org/wiki/Maurice_Levitas               5  2001   \n",
       "2493     https://en.wikipedia.org/wiki/Ernest_Walton              30  1995   \n",
       "\n",
       "          month info_parenth info_1 info_2 info_3 info_4 info_5 info_6 info_7  \\\n",
       "12290  February         None   None          None   None   None   None   None   \n",
       "2493       June         None   None          None   None   None   None   None   \n",
       "\n",
       "      info_8 info_9 info_10 info_11   age cause_of_death  place_1  \\\n",
       "12290   None   None    None    None  84.0           None  Ireland   \n",
       "2493    None   None    None    None  91.0           None  Ireland   \n",
       "\n",
       "                                                    place_2 info_parenth_copy  \\\n",
       "12290  United Kingdom of Great Britain and Northern Ireland              None   \n",
       "2493                                                   None              None   \n",
       "\n",
       "       log_num_references  sciences  social  spiritual  academia_humanities  \\\n",
       "12290            1.791759         1       0          0                    0   \n",
       "2493             3.433987         1       0          0                    0   \n",
       "\n",
       "       business_farming  arts  sports  law_enf_military_operator  \\\n",
       "12290                 0     0       0                          0   \n",
       "2493                  0     0       0                          0   \n",
       "\n",
       "       politics_govt_law  crime  event_record_other  other_species  \\\n",
       "12290                  0      0                   0              0   \n",
       "2493                   0      0                   0              0   \n",
       "\n",
       "       num_categories  \n",
       "12290               1  \n",
       "2493                1  "
      ]
     },
     "execution_count": 56,
     "metadata": {},
     "output_type": "execute_result"
    },
    {
     "data": {
      "application/javascript": [
       "\n",
       "            setTimeout(function() {\n",
       "                var nbb_cell_id = 56;\n",
       "                var nbb_unformatted_code = \"%%time\\n\\n# Dictionary version\\nsearch_dict = known_for_dict\\n\\n# Column to check\\ncolumn = 'info_2'\\n\\n# Dataframe\\ndataframe = df[column].notna()\\n\\n# For loop to find role in column and extract it as category\\nfor category, category_lst in search_dict.items():\\n    for role in category_lst:\\n        for index in dataframe.index:\\n            item = df.loc[index, column]\\n            if item:\\n                if role in item:\\n                    df.loc[index, category] = 1\\n                    df.loc[index, column] = item.replace(role, '').strip()\\n\\n# Updating num_categories\\ndf[\\\"num_categories\\\"] = df[known_for_dict.keys()].sum(axis=1)\\n\\n# Checking a sample of rows\\ndf[df['sciences'] ==1].sample(2)\";\n",
       "                var nbb_formatted_code = \"%%time\\n\\n# Dictionary version\\nsearch_dict = known_for_dict\\n\\n# Column to check\\ncolumn = 'info_2'\\n\\n# Dataframe\\ndataframe = df[column].notna()\\n\\n# For loop to find role in column and extract it as category\\nfor category, category_lst in search_dict.items():\\n    for role in category_lst:\\n        for index in dataframe.index:\\n            item = df.loc[index, column]\\n            if item:\\n                if role in item:\\n                    df.loc[index, category] = 1\\n                    df.loc[index, column] = item.replace(role, '').strip()\\n\\n# Updating num_categories\\ndf[\\\"num_categories\\\"] = df[known_for_dict.keys()].sum(axis=1)\\n\\n# Checking a sample of rows\\ndf[df['sciences'] ==1].sample(2)\";\n",
       "                var nbb_cells = Jupyter.notebook.get_cells();\n",
       "                for (var i = 0; i < nbb_cells.length; ++i) {\n",
       "                    if (nbb_cells[i].input_prompt_number == nbb_cell_id) {\n",
       "                        if (nbb_cells[i].get_text() == nbb_unformatted_code) {\n",
       "                             nbb_cells[i].set_text(nbb_formatted_code);\n",
       "                        }\n",
       "                        break;\n",
       "                    }\n",
       "                }\n",
       "            }, 500);\n",
       "            "
      ],
      "text/plain": [
       "<IPython.core.display.Javascript object>"
      ]
     },
     "metadata": {},
     "output_type": "display_data"
    }
   ],
   "source": [
    "%%time\n",
    "\n",
    "# Dictionary version\n",
    "search_dict = known_for_dict\n",
    "\n",
    "# Column to check\n",
    "column = 'info_2'\n",
    "\n",
    "# Dataframe\n",
    "dataframe = df[column].notna()\n",
    "\n",
    "# For loop to find role in column and extract it as category\n",
    "for category, category_lst in search_dict.items():\n",
    "    for role in category_lst:\n",
    "        for index in dataframe.index:\n",
    "            item = df.loc[index, column]\n",
    "            if item:\n",
    "                if role in item:\n",
    "                    df.loc[index, category] = 1\n",
    "                    df.loc[index, column] = item.replace(role, '').strip()\n",
    "\n",
    "# Updating num_categories\n",
    "df[\"num_categories\"] = df[known_for_dict.keys()].sum(axis=1)\n",
    "\n",
    "# Checking a sample of rows\n",
    "df[df['sciences'] ==1].sample(2)"
   ]
  },
  {
   "cell_type": "markdown",
   "id": "1c2c1191",
   "metadata": {},
   "source": [
    "#### Checking the Number of Rows without a First Category"
   ]
  },
  {
   "cell_type": "code",
   "execution_count": 57,
   "id": "3a852638",
   "metadata": {},
   "outputs": [
    {
     "name": "stdout",
     "output_type": "stream",
     "text": [
      "There are 36474 entries without any known_for category.\n"
     ]
    },
    {
     "data": {
      "application/javascript": [
       "\n",
       "            setTimeout(function() {\n",
       "                var nbb_cell_id = 57;\n",
       "                var nbb_unformatted_code = \"# Checking the number of rows without a first category\\nprint(\\n    f'There are {len(df[df[\\\"num_categories\\\"]==0])} entries without any known_for category.'\\n)\";\n",
       "                var nbb_formatted_code = \"# Checking the number of rows without a first category\\nprint(\\n    f'There are {len(df[df[\\\"num_categories\\\"]==0])} entries without any known_for category.'\\n)\";\n",
       "                var nbb_cells = Jupyter.notebook.get_cells();\n",
       "                for (var i = 0; i < nbb_cells.length; ++i) {\n",
       "                    if (nbb_cells[i].input_prompt_number == nbb_cell_id) {\n",
       "                        if (nbb_cells[i].get_text() == nbb_unformatted_code) {\n",
       "                             nbb_cells[i].set_text(nbb_formatted_code);\n",
       "                        }\n",
       "                        break;\n",
       "                    }\n",
       "                }\n",
       "            }, 500);\n",
       "            "
      ],
      "text/plain": [
       "<IPython.core.display.Javascript object>"
      ]
     },
     "metadata": {},
     "output_type": "display_data"
    }
   ],
   "source": [
    "# Checking the number of rows without a first category\n",
    "print(\n",
    "    f'There are {len(df[df[\"num_categories\"]==0])} entries without any known_for category.'\n",
    ")"
   ]
  },
  {
   "cell_type": "markdown",
   "id": "1d8519f6",
   "metadata": {},
   "source": [
    "#### Observations:\n",
    "- We will proceed to rebuild `known_for_dict` for the next iteration."
   ]
  },
  {
   "cell_type": "markdown",
   "id": "a746efac",
   "metadata": {},
   "source": [
    "#### Finding `known_for` Roles in `info_2`"
   ]
  },
  {
   "cell_type": "code",
   "execution_count": 58,
   "id": "98796492",
   "metadata": {},
   "outputs": [
    {
     "data": {
      "application/javascript": [
       "\n",
       "            setTimeout(function() {\n",
       "                var nbb_cell_id = 58;\n",
       "                var nbb_unformatted_code = \"# Obtaining values for column and their counts\\nroles_list = df[\\\"info_2\\\"].value_counts(ascending=True).index.tolist()\";\n",
       "                var nbb_formatted_code = \"# Obtaining values for column and their counts\\nroles_list = df[\\\"info_2\\\"].value_counts(ascending=True).index.tolist()\";\n",
       "                var nbb_cells = Jupyter.notebook.get_cells();\n",
       "                for (var i = 0; i < nbb_cells.length; ++i) {\n",
       "                    if (nbb_cells[i].input_prompt_number == nbb_cell_id) {\n",
       "                        if (nbb_cells[i].get_text() == nbb_unformatted_code) {\n",
       "                             nbb_cells[i].set_text(nbb_formatted_code);\n",
       "                        }\n",
       "                        break;\n",
       "                    }\n",
       "                }\n",
       "            }, 500);\n",
       "            "
      ],
      "text/plain": [
       "<IPython.core.display.Javascript object>"
      ]
     },
     "metadata": {},
     "output_type": "display_data"
    }
   ],
   "source": [
    "# Obtaining values for column and their counts\n",
    "roles_list = df[\"info_2\"].value_counts(ascending=True).index.tolist()"
   ]
  },
  {
   "cell_type": "code",
   "execution_count": 59,
   "id": "279f0a73",
   "metadata": {},
   "outputs": [
    {
     "data": {
      "application/javascript": [
       "\n",
       "            setTimeout(function() {\n",
       "                var nbb_cell_id = 59;\n",
       "                var nbb_unformatted_code = \"# # Code to check each value\\n# roles_list.pop()\";\n",
       "                var nbb_formatted_code = \"# # Code to check each value\\n# roles_list.pop()\";\n",
       "                var nbb_cells = Jupyter.notebook.get_cells();\n",
       "                for (var i = 0; i < nbb_cells.length; ++i) {\n",
       "                    if (nbb_cells[i].input_prompt_number == nbb_cell_id) {\n",
       "                        if (nbb_cells[i].get_text() == nbb_unformatted_code) {\n",
       "                             nbb_cells[i].set_text(nbb_formatted_code);\n",
       "                        }\n",
       "                        break;\n",
       "                    }\n",
       "                }\n",
       "            }, 500);\n",
       "            "
      ],
      "text/plain": [
       "<IPython.core.display.Javascript object>"
      ]
     },
     "metadata": {},
     "output_type": "display_data"
    }
   ],
   "source": [
    "# # Code to check each value\n",
    "# roles_list.pop()"
   ]
  },
  {
   "cell_type": "code",
   "execution_count": 60,
   "id": "23cadbb9",
   "metadata": {},
   "outputs": [
    {
     "data": {
      "application/javascript": [
       "\n",
       "            setTimeout(function() {\n",
       "                var nbb_cell_id = 60;\n",
       "                var nbb_unformatted_code = \"# # Create specific_roles_list for above popped value\\n# specific_roles_list = (\\n#     df.loc[\\n#         [index for index in df.index if \\\"psychologist\\\" in df.loc[index, \\\"info\\\"]],\\n#         \\\"info_2\\\",\\n#     ]\\n#     .value_counts()\\n#     .index.tolist()\\n# )\";\n",
       "                var nbb_formatted_code = \"# # Create specific_roles_list for above popped value\\n# specific_roles_list = (\\n#     df.loc[\\n#         [index for index in df.index if \\\"psychologist\\\" in df.loc[index, \\\"info\\\"]],\\n#         \\\"info_2\\\",\\n#     ]\\n#     .value_counts()\\n#     .index.tolist()\\n# )\";\n",
       "                var nbb_cells = Jupyter.notebook.get_cells();\n",
       "                for (var i = 0; i < nbb_cells.length; ++i) {\n",
       "                    if (nbb_cells[i].input_prompt_number == nbb_cell_id) {\n",
       "                        if (nbb_cells[i].get_text() == nbb_unformatted_code) {\n",
       "                             nbb_cells[i].set_text(nbb_formatted_code);\n",
       "                        }\n",
       "                        break;\n",
       "                    }\n",
       "                }\n",
       "            }, 500);\n",
       "            "
      ],
      "text/plain": [
       "<IPython.core.display.Javascript object>"
      ]
     },
     "metadata": {},
     "output_type": "display_data"
    }
   ],
   "source": [
    "# # Create specific_roles_list for above popped value\n",
    "# specific_roles_list = (\n",
    "#     df.loc[\n",
    "#         [index for index in df.index if \"psychologist\" in df.loc[index, \"info\"]],\n",
    "#         \"info_2\",\n",
    "#     ]\n",
    "#     .value_counts()\n",
    "#     .index.tolist()\n",
    "# )"
   ]
  },
  {
   "cell_type": "code",
   "execution_count": 61,
   "id": "ab5b0a50",
   "metadata": {},
   "outputs": [
    {
     "data": {
      "application/javascript": [
       "\n",
       "            setTimeout(function() {\n",
       "                var nbb_cell_id = 61;\n",
       "                var nbb_unformatted_code = \"# # Code to check each specific value\\n# specific_roles_list.pop()\";\n",
       "                var nbb_formatted_code = \"# # Code to check each specific value\\n# specific_roles_list.pop()\";\n",
       "                var nbb_cells = Jupyter.notebook.get_cells();\n",
       "                for (var i = 0; i < nbb_cells.length; ++i) {\n",
       "                    if (nbb_cells[i].input_prompt_number == nbb_cell_id) {\n",
       "                        if (nbb_cells[i].get_text() == nbb_unformatted_code) {\n",
       "                             nbb_cells[i].set_text(nbb_formatted_code);\n",
       "                        }\n",
       "                        break;\n",
       "                    }\n",
       "                }\n",
       "            }, 500);\n",
       "            "
      ],
      "text/plain": [
       "<IPython.core.display.Javascript object>"
      ]
     },
     "metadata": {},
     "output_type": "display_data"
    }
   ],
   "source": [
    "# # Code to check each specific value\n",
    "# specific_roles_list.pop()"
   ]
  },
  {
   "cell_type": "code",
   "execution_count": 62,
   "id": "52f24c88",
   "metadata": {
    "scrolled": false
   },
   "outputs": [
    {
     "data": {
      "application/javascript": [
       "\n",
       "            setTimeout(function() {\n",
       "                var nbb_cell_id = 62;\n",
       "                var nbb_unformatted_code = \"# # Example code to quick-screen values that may overlap categories\\n# df.loc[\\n#     [\\n#         index\\n#         for index in df.index\\n#         if \\\"and pastoral psychologist\\\" in df.loc[index, \\\"info\\\"]\\n#     ]\\n# ]\";\n",
       "                var nbb_formatted_code = \"# # Example code to quick-screen values that may overlap categories\\n# df.loc[\\n#     [\\n#         index\\n#         for index in df.index\\n#         if \\\"and pastoral psychologist\\\" in df.loc[index, \\\"info\\\"]\\n#     ]\\n# ]\";\n",
       "                var nbb_cells = Jupyter.notebook.get_cells();\n",
       "                for (var i = 0; i < nbb_cells.length; ++i) {\n",
       "                    if (nbb_cells[i].input_prompt_number == nbb_cell_id) {\n",
       "                        if (nbb_cells[i].get_text() == nbb_unformatted_code) {\n",
       "                             nbb_cells[i].set_text(nbb_formatted_code);\n",
       "                        }\n",
       "                        break;\n",
       "                    }\n",
       "                }\n",
       "            }, 500);\n",
       "            "
      ],
      "text/plain": [
       "<IPython.core.display.Javascript object>"
      ]
     },
     "metadata": {},
     "output_type": "display_data"
    }
   ],
   "source": [
    "# # Example code to quick-screen values that may overlap categories\n",
    "# df.loc[\n",
    "#     [\n",
    "#         index\n",
    "#         for index in df.index\n",
    "#         if \"and pastoral psychologist\" in df.loc[index, \"info\"]\n",
    "#     ]\n",
    "# ]"
   ]
  },
  {
   "cell_type": "code",
   "execution_count": 63,
   "id": "21f1f47c",
   "metadata": {},
   "outputs": [
    {
     "data": {
      "application/javascript": [
       "\n",
       "            setTimeout(function() {\n",
       "                var nbb_cell_id = 63;\n",
       "                var nbb_unformatted_code = \"# # Example code to quick-screen values that may overlap categories\\n# df.loc[\\n#     [\\n#         index\\n#         for index in df.index\\n#         if \\\"outlaw country music singer songwriter\\\" in df.loc[index, \\\"info\\\"]\\n#     ]\\n# ]\";\n",
       "                var nbb_formatted_code = \"# # Example code to quick-screen values that may overlap categories\\n# df.loc[\\n#     [\\n#         index\\n#         for index in df.index\\n#         if \\\"outlaw country music singer songwriter\\\" in df.loc[index, \\\"info\\\"]\\n#     ]\\n# ]\";\n",
       "                var nbb_cells = Jupyter.notebook.get_cells();\n",
       "                for (var i = 0; i < nbb_cells.length; ++i) {\n",
       "                    if (nbb_cells[i].input_prompt_number == nbb_cell_id) {\n",
       "                        if (nbb_cells[i].get_text() == nbb_unformatted_code) {\n",
       "                             nbb_cells[i].set_text(nbb_formatted_code);\n",
       "                        }\n",
       "                        break;\n",
       "                    }\n",
       "                }\n",
       "            }, 500);\n",
       "            "
      ],
      "text/plain": [
       "<IPython.core.display.Javascript object>"
      ]
     },
     "metadata": {},
     "output_type": "display_data"
    }
   ],
   "source": [
    "# # Example code to quick-screen values that may overlap categories\n",
    "# df.loc[\n",
    "#     [\n",
    "#         index\n",
    "#         for index in df.index\n",
    "#         if \"outlaw country music singer songwriter\" in df.loc[index, \"info\"]\n",
    "#     ]\n",
    "# ]"
   ]
  },
  {
   "cell_type": "code",
   "execution_count": 64,
   "id": "ebed3838",
   "metadata": {},
   "outputs": [
    {
     "data": {
      "application/javascript": [
       "\n",
       "            setTimeout(function() {\n",
       "                var nbb_cell_id = 64;\n",
       "                var nbb_unformatted_code = \"# # Example code to quick-check a specific entry\\n# df[df[\\\"info_2\\\"] == \\\"educational psychologist\\\"]\";\n",
       "                var nbb_formatted_code = \"# # Example code to quick-check a specific entry\\n# df[df[\\\"info_2\\\"] == \\\"educational psychologist\\\"]\";\n",
       "                var nbb_cells = Jupyter.notebook.get_cells();\n",
       "                for (var i = 0; i < nbb_cells.length; ++i) {\n",
       "                    if (nbb_cells[i].input_prompt_number == nbb_cell_id) {\n",
       "                        if (nbb_cells[i].get_text() == nbb_unformatted_code) {\n",
       "                             nbb_cells[i].set_text(nbb_formatted_code);\n",
       "                        }\n",
       "                        break;\n",
       "                    }\n",
       "                }\n",
       "            }, 500);\n",
       "            "
      ],
      "text/plain": [
       "<IPython.core.display.Javascript object>"
      ]
     },
     "metadata": {},
     "output_type": "display_data"
    }
   ],
   "source": [
    "# # Example code to quick-check a specific entry\n",
    "# df[df[\"info_2\"] == \"educational psychologist\"]"
   ]
  },
  {
   "cell_type": "markdown",
   "id": "0e5c1e10",
   "metadata": {},
   "source": [
    "#### Creating Lists for Each `known_for` Category"
   ]
  },
  {
   "cell_type": "code",
   "execution_count": 65,
   "id": "e1d3a5b3",
   "metadata": {},
   "outputs": [
    {
     "data": {
      "application/javascript": [
       "\n",
       "            setTimeout(function() {\n",
       "                var nbb_cell_id = 65;\n",
       "                var nbb_unformatted_code = \"# Creating lists for each category\\npolitics_govt_law = [\\\"children ombudsman\\\"]\\n\\narts = []\\nsports = []\\nsciences = [\\n    \\\"clinical psychologist and researcher\\\",\\n    \\\"psychologist renowned for his critical studies of hypnosis\\\",\\n    \\\"psychologist and expert in the work of Alfred Adler\\\",\\n    \\\"psychologist and sex researcher at Johns Hopkins University\\\",\\n    \\\"psychologist and methodologist\\\",\\n    \\\"psychologist known for his pioneering work in autism treatment\\\",\\n    \\\"psychologist and women reproductive health\\\",\\n    \\\"traffic psychologist\\\",\\n    \\\"psychologist and researcher\\\",\\n    \\\"psychologist and former head of the Psychological Association\\\",\\n    \\\"correctional psychologist and criminologist\\\",\\n    \\\"behavioral geneticist and psychologist\\\",\\n    \\\"psychologist and psychoanalyst\\\",\\n    \\\"psychologist at University\\\",\\n    \\\"existential psychologist\\\",\\n    \\\"psychologist who specialized in developmental psychology\\\",\\n    \\\"psychologist and a pioneer in experimental psychology\\\",\\n    \\\"child development psychologist\\\",\\n    \\\"development psychologist\\\",\\n    \\\"psychologist and statistician\\\",\\n    \\\"pediatric psychologist\\\",\\n    \\\"psychologist from the Antilles\\\",\\n    \\\"social psychologist and sexologist\\\",\\n    \\\"psychologist and sleep researcher\\\",\\n    \\\"psychologist and computer science researcher\\\",\\n    \\\"social psychologist and criminologist\\\",\\n    \\\"parapsychologist and ufologist\\\",\\n    \\\"mathematical psychologist and\\\",\\n    \\\"mathematical psychologist\\\",\\n    \\\"engineering psychologist\\\",\\n    \\\"psychiatrist and parapsychologist\\\",\\n    \\\"psychologist and anti divorce\\\",\\n    \\\"evolutionary psychologist\\\",\\n    \\\"sexologist and psychologist\\\",\\n    \\\"systems psychologist\\\",\\n    \\\"environmental psychologist\\\",\\n    \\\"psychologist and self help\\\",\\n    \\\"and pastoral psychologist\\\",\\n    \\\"organizational psychologist\\\",\\n    \\\"neuroscientist and psychologist\\\",\\n    \\\"child psychologist and\\\",\\n    \\\"child psychologist\\\",\\n    \\\"psychologist and parapsychologist\\\",\\n    \\\"experimental psychologist\\\",\\n    \\\"psychologist and neuroscientist\\\",\\n    \\\"parapsychologist and\\\",\\n    \\\"and parapsychologist\\\",\\n    \\\"parapsychologist\\\",\\n    \\\"neuropsychologist\\\",\\n    \\\"cognitive psychologist\\\",\\n    \\\"developmental psychologist\\\",\\n    \\\"clinical psychologist\\\",\\n    \\\"social psychologist\\\",\\n    \\\"behavioral psychologist\\\",\\n    \\\"Jungian psychologist and\\\",\\n    \\\"and psychologist\\\",\\n    \\\"psychologist and\\\",\\n    \\\"psychologist\\\",\\n]\\n\\nbusiness_farming = []\\nacademia_humanities = []\\nlaw_enf_military_operator = []\\nspiritual = []\\nsocial = []\\ncrime = []\\nevent_record_other = []\\nother_species = []\";\n",
       "                var nbb_formatted_code = \"# Creating lists for each category\\npolitics_govt_law = [\\\"children ombudsman\\\"]\\n\\narts = []\\nsports = []\\nsciences = [\\n    \\\"clinical psychologist and researcher\\\",\\n    \\\"psychologist renowned for his critical studies of hypnosis\\\",\\n    \\\"psychologist and expert in the work of Alfred Adler\\\",\\n    \\\"psychologist and sex researcher at Johns Hopkins University\\\",\\n    \\\"psychologist and methodologist\\\",\\n    \\\"psychologist known for his pioneering work in autism treatment\\\",\\n    \\\"psychologist and women reproductive health\\\",\\n    \\\"traffic psychologist\\\",\\n    \\\"psychologist and researcher\\\",\\n    \\\"psychologist and former head of the Psychological Association\\\",\\n    \\\"correctional psychologist and criminologist\\\",\\n    \\\"behavioral geneticist and psychologist\\\",\\n    \\\"psychologist and psychoanalyst\\\",\\n    \\\"psychologist at University\\\",\\n    \\\"existential psychologist\\\",\\n    \\\"psychologist who specialized in developmental psychology\\\",\\n    \\\"psychologist and a pioneer in experimental psychology\\\",\\n    \\\"child development psychologist\\\",\\n    \\\"development psychologist\\\",\\n    \\\"psychologist and statistician\\\",\\n    \\\"pediatric psychologist\\\",\\n    \\\"psychologist from the Antilles\\\",\\n    \\\"social psychologist and sexologist\\\",\\n    \\\"psychologist and sleep researcher\\\",\\n    \\\"psychologist and computer science researcher\\\",\\n    \\\"social psychologist and criminologist\\\",\\n    \\\"parapsychologist and ufologist\\\",\\n    \\\"mathematical psychologist and\\\",\\n    \\\"mathematical psychologist\\\",\\n    \\\"engineering psychologist\\\",\\n    \\\"psychiatrist and parapsychologist\\\",\\n    \\\"psychologist and anti divorce\\\",\\n    \\\"evolutionary psychologist\\\",\\n    \\\"sexologist and psychologist\\\",\\n    \\\"systems psychologist\\\",\\n    \\\"environmental psychologist\\\",\\n    \\\"psychologist and self help\\\",\\n    \\\"and pastoral psychologist\\\",\\n    \\\"organizational psychologist\\\",\\n    \\\"neuroscientist and psychologist\\\",\\n    \\\"child psychologist and\\\",\\n    \\\"child psychologist\\\",\\n    \\\"psychologist and parapsychologist\\\",\\n    \\\"experimental psychologist\\\",\\n    \\\"psychologist and neuroscientist\\\",\\n    \\\"parapsychologist and\\\",\\n    \\\"and parapsychologist\\\",\\n    \\\"parapsychologist\\\",\\n    \\\"neuropsychologist\\\",\\n    \\\"cognitive psychologist\\\",\\n    \\\"developmental psychologist\\\",\\n    \\\"clinical psychologist\\\",\\n    \\\"social psychologist\\\",\\n    \\\"behavioral psychologist\\\",\\n    \\\"Jungian psychologist and\\\",\\n    \\\"and psychologist\\\",\\n    \\\"psychologist and\\\",\\n    \\\"psychologist\\\",\\n]\\n\\nbusiness_farming = []\\nacademia_humanities = []\\nlaw_enf_military_operator = []\\nspiritual = []\\nsocial = []\\ncrime = []\\nevent_record_other = []\\nother_species = []\";\n",
       "                var nbb_cells = Jupyter.notebook.get_cells();\n",
       "                for (var i = 0; i < nbb_cells.length; ++i) {\n",
       "                    if (nbb_cells[i].input_prompt_number == nbb_cell_id) {\n",
       "                        if (nbb_cells[i].get_text() == nbb_unformatted_code) {\n",
       "                             nbb_cells[i].set_text(nbb_formatted_code);\n",
       "                        }\n",
       "                        break;\n",
       "                    }\n",
       "                }\n",
       "            }, 500);\n",
       "            "
      ],
      "text/plain": [
       "<IPython.core.display.Javascript object>"
      ]
     },
     "metadata": {},
     "output_type": "display_data"
    }
   ],
   "source": [
    "# Creating lists for each category\n",
    "politics_govt_law = [\"children ombudsman\"]\n",
    "\n",
    "arts = []\n",
    "sports = []\n",
    "sciences = [\n",
    "    \"clinical psychologist and researcher\",\n",
    "    \"psychologist renowned for his critical studies of hypnosis\",\n",
    "    \"psychologist and expert in the work of Alfred Adler\",\n",
    "    \"psychologist and sex researcher at Johns Hopkins University\",\n",
    "    \"psychologist and methodologist\",\n",
    "    \"psychologist known for his pioneering work in autism treatment\",\n",
    "    \"psychologist and women reproductive health\",\n",
    "    \"traffic psychologist\",\n",
    "    \"psychologist and researcher\",\n",
    "    \"psychologist and former head of the Psychological Association\",\n",
    "    \"correctional psychologist and criminologist\",\n",
    "    \"behavioral geneticist and psychologist\",\n",
    "    \"psychologist and psychoanalyst\",\n",
    "    \"psychologist at University\",\n",
    "    \"existential psychologist\",\n",
    "    \"psychologist who specialized in developmental psychology\",\n",
    "    \"psychologist and a pioneer in experimental psychology\",\n",
    "    \"child development psychologist\",\n",
    "    \"development psychologist\",\n",
    "    \"psychologist and statistician\",\n",
    "    \"pediatric psychologist\",\n",
    "    \"psychologist from the Antilles\",\n",
    "    \"social psychologist and sexologist\",\n",
    "    \"psychologist and sleep researcher\",\n",
    "    \"psychologist and computer science researcher\",\n",
    "    \"social psychologist and criminologist\",\n",
    "    \"parapsychologist and ufologist\",\n",
    "    \"mathematical psychologist and\",\n",
    "    \"mathematical psychologist\",\n",
    "    \"engineering psychologist\",\n",
    "    \"psychiatrist and parapsychologist\",\n",
    "    \"psychologist and anti divorce\",\n",
    "    \"evolutionary psychologist\",\n",
    "    \"sexologist and psychologist\",\n",
    "    \"systems psychologist\",\n",
    "    \"environmental psychologist\",\n",
    "    \"psychologist and self help\",\n",
    "    \"and pastoral psychologist\",\n",
    "    \"organizational psychologist\",\n",
    "    \"neuroscientist and psychologist\",\n",
    "    \"child psychologist and\",\n",
    "    \"child psychologist\",\n",
    "    \"psychologist and parapsychologist\",\n",
    "    \"experimental psychologist\",\n",
    "    \"psychologist and neuroscientist\",\n",
    "    \"parapsychologist and\",\n",
    "    \"and parapsychologist\",\n",
    "    \"parapsychologist\",\n",
    "    \"neuropsychologist\",\n",
    "    \"cognitive psychologist\",\n",
    "    \"developmental psychologist\",\n",
    "    \"clinical psychologist\",\n",
    "    \"social psychologist\",\n",
    "    \"behavioral psychologist\",\n",
    "    \"Jungian psychologist and\",\n",
    "    \"and psychologist\",\n",
    "    \"psychologist and\",\n",
    "    \"psychologist\",\n",
    "]\n",
    "\n",
    "business_farming = []\n",
    "academia_humanities = []\n",
    "law_enf_military_operator = []\n",
    "spiritual = []\n",
    "social = []\n",
    "crime = []\n",
    "event_record_other = []\n",
    "other_species = []"
   ]
  },
  {
   "cell_type": "markdown",
   "id": "63a00670",
   "metadata": {},
   "source": [
    "#### Creating `known_for_dict` Dictionary of Category Keys and Specific Role Lists of Values"
   ]
  },
  {
   "cell_type": "code",
   "execution_count": 66,
   "id": "f8746ce5",
   "metadata": {},
   "outputs": [
    {
     "data": {
      "application/javascript": [
       "\n",
       "            setTimeout(function() {\n",
       "                var nbb_cell_id = 66;\n",
       "                var nbb_unformatted_code = \"# Combining separate lists into one dictionary\\nknown_for_dict = {\\n    \\\"social\\\": social,\\n    \\\"spiritual\\\": spiritual,\\n    \\\"academia_humanities\\\": academia_humanities,\\n    \\\"business_farming\\\": business_farming,\\n    \\\"sciences\\\": sciences,\\n    \\\"politics_govt_law\\\": politics_govt_law,\\n    \\\"law_enf_military_operator\\\": law_enf_military_operator,\\n    \\\"crime\\\": crime,\\n    \\\"event_record_other\\\": event_record_other,\\n    \\\"other_species\\\": other_species,\\n    \\\"arts\\\": arts,\\n    \\\"sports\\\": sports,\\n}\";\n",
       "                var nbb_formatted_code = \"# Combining separate lists into one dictionary\\nknown_for_dict = {\\n    \\\"social\\\": social,\\n    \\\"spiritual\\\": spiritual,\\n    \\\"academia_humanities\\\": academia_humanities,\\n    \\\"business_farming\\\": business_farming,\\n    \\\"sciences\\\": sciences,\\n    \\\"politics_govt_law\\\": politics_govt_law,\\n    \\\"law_enf_military_operator\\\": law_enf_military_operator,\\n    \\\"crime\\\": crime,\\n    \\\"event_record_other\\\": event_record_other,\\n    \\\"other_species\\\": other_species,\\n    \\\"arts\\\": arts,\\n    \\\"sports\\\": sports,\\n}\";\n",
       "                var nbb_cells = Jupyter.notebook.get_cells();\n",
       "                for (var i = 0; i < nbb_cells.length; ++i) {\n",
       "                    if (nbb_cells[i].input_prompt_number == nbb_cell_id) {\n",
       "                        if (nbb_cells[i].get_text() == nbb_unformatted_code) {\n",
       "                             nbb_cells[i].set_text(nbb_formatted_code);\n",
       "                        }\n",
       "                        break;\n",
       "                    }\n",
       "                }\n",
       "            }, 500);\n",
       "            "
      ],
      "text/plain": [
       "<IPython.core.display.Javascript object>"
      ]
     },
     "metadata": {},
     "output_type": "display_data"
    }
   ],
   "source": [
    "# Combining separate lists into one dictionary\n",
    "known_for_dict = {\n",
    "    \"social\": social,\n",
    "    \"spiritual\": spiritual,\n",
    "    \"academia_humanities\": academia_humanities,\n",
    "    \"business_farming\": business_farming,\n",
    "    \"sciences\": sciences,\n",
    "    \"politics_govt_law\": politics_govt_law,\n",
    "    \"law_enf_military_operator\": law_enf_military_operator,\n",
    "    \"crime\": crime,\n",
    "    \"event_record_other\": event_record_other,\n",
    "    \"other_species\": other_species,\n",
    "    \"arts\": arts,\n",
    "    \"sports\": sports,\n",
    "}"
   ]
  },
  {
   "cell_type": "markdown",
   "id": "516d056f",
   "metadata": {},
   "source": [
    "#### Extracting Category from `info_2`"
   ]
  },
  {
   "cell_type": "code",
   "execution_count": 67,
   "id": "ae6c936a",
   "metadata": {},
   "outputs": [
    {
     "name": "stdout",
     "output_type": "stream",
     "text": [
      "CPU times: total: 33.2 s\n",
      "Wall time: 33.2 s\n"
     ]
    },
    {
     "data": {
      "text/html": [
       "<div>\n",
       "<style scoped>\n",
       "    .dataframe tbody tr th:only-of-type {\n",
       "        vertical-align: middle;\n",
       "    }\n",
       "\n",
       "    .dataframe tbody tr th {\n",
       "        vertical-align: top;\n",
       "    }\n",
       "\n",
       "    .dataframe thead th {\n",
       "        text-align: right;\n",
       "    }\n",
       "</style>\n",
       "<table border=\"1\" class=\"dataframe\">\n",
       "  <thead>\n",
       "    <tr style=\"text-align: right;\">\n",
       "      <th></th>\n",
       "      <th>day</th>\n",
       "      <th>name</th>\n",
       "      <th>info</th>\n",
       "      <th>link</th>\n",
       "      <th>num_references</th>\n",
       "      <th>year</th>\n",
       "      <th>month</th>\n",
       "      <th>info_parenth</th>\n",
       "      <th>info_1</th>\n",
       "      <th>info_2</th>\n",
       "      <th>info_3</th>\n",
       "      <th>info_4</th>\n",
       "      <th>info_5</th>\n",
       "      <th>info_6</th>\n",
       "      <th>info_7</th>\n",
       "      <th>info_8</th>\n",
       "      <th>info_9</th>\n",
       "      <th>info_10</th>\n",
       "      <th>info_11</th>\n",
       "      <th>age</th>\n",
       "      <th>cause_of_death</th>\n",
       "      <th>place_1</th>\n",
       "      <th>place_2</th>\n",
       "      <th>info_parenth_copy</th>\n",
       "      <th>log_num_references</th>\n",
       "      <th>sciences</th>\n",
       "      <th>social</th>\n",
       "      <th>spiritual</th>\n",
       "      <th>academia_humanities</th>\n",
       "      <th>business_farming</th>\n",
       "      <th>arts</th>\n",
       "      <th>sports</th>\n",
       "      <th>law_enf_military_operator</th>\n",
       "      <th>politics_govt_law</th>\n",
       "      <th>crime</th>\n",
       "      <th>event_record_other</th>\n",
       "      <th>other_species</th>\n",
       "      <th>num_categories</th>\n",
       "    </tr>\n",
       "  </thead>\n",
       "  <tbody>\n",
       "    <tr>\n",
       "      <th>83617</th>\n",
       "      <td>16</td>\n",
       "      <td>Nina McClelland</td>\n",
       "      <td>, 90, American chemist.</td>\n",
       "      <td>https://en.wikipedia.org/wiki/Nina_McClelland</td>\n",
       "      <td>26</td>\n",
       "      <td>2020</td>\n",
       "      <td>August</td>\n",
       "      <td>None</td>\n",
       "      <td>None</td>\n",
       "      <td></td>\n",
       "      <td>None</td>\n",
       "      <td>None</td>\n",
       "      <td>None</td>\n",
       "      <td>None</td>\n",
       "      <td>None</td>\n",
       "      <td>None</td>\n",
       "      <td>None</td>\n",
       "      <td>None</td>\n",
       "      <td>None</td>\n",
       "      <td>90.0</td>\n",
       "      <td>None</td>\n",
       "      <td>United States of America</td>\n",
       "      <td>None</td>\n",
       "      <td>None</td>\n",
       "      <td>3.295837</td>\n",
       "      <td>1</td>\n",
       "      <td>0</td>\n",
       "      <td>0</td>\n",
       "      <td>0</td>\n",
       "      <td>0</td>\n",
       "      <td>0</td>\n",
       "      <td>0</td>\n",
       "      <td>0</td>\n",
       "      <td>0</td>\n",
       "      <td>0</td>\n",
       "      <td>0</td>\n",
       "      <td>0</td>\n",
       "      <td>1</td>\n",
       "    </tr>\n",
       "    <tr>\n",
       "      <th>65315</th>\n",
       "      <td>16</td>\n",
       "      <td>Sven Oluf Sørensen</td>\n",
       "      <td>, 96, Norwegian physicist.</td>\n",
       "      <td>https://en.wikipedia.org/wiki/Sven_Oluf_S%C3%B8rensen</td>\n",
       "      <td>3</td>\n",
       "      <td>2017</td>\n",
       "      <td>September</td>\n",
       "      <td>None</td>\n",
       "      <td>None</td>\n",
       "      <td></td>\n",
       "      <td>None</td>\n",
       "      <td>None</td>\n",
       "      <td>None</td>\n",
       "      <td>None</td>\n",
       "      <td>None</td>\n",
       "      <td>None</td>\n",
       "      <td>None</td>\n",
       "      <td>None</td>\n",
       "      <td>None</td>\n",
       "      <td>96.0</td>\n",
       "      <td>None</td>\n",
       "      <td>Norway</td>\n",
       "      <td>None</td>\n",
       "      <td>None</td>\n",
       "      <td>1.386294</td>\n",
       "      <td>1</td>\n",
       "      <td>0</td>\n",
       "      <td>0</td>\n",
       "      <td>0</td>\n",
       "      <td>0</td>\n",
       "      <td>0</td>\n",
       "      <td>0</td>\n",
       "      <td>0</td>\n",
       "      <td>0</td>\n",
       "      <td>0</td>\n",
       "      <td>0</td>\n",
       "      <td>0</td>\n",
       "      <td>1</td>\n",
       "    </tr>\n",
       "  </tbody>\n",
       "</table>\n",
       "</div>"
      ],
      "text/plain": [
       "      day                name                        info  \\\n",
       "83617  16     Nina McClelland     , 90, American chemist.   \n",
       "65315  16  Sven Oluf Sørensen  , 96, Norwegian physicist.   \n",
       "\n",
       "                                                        link  num_references  \\\n",
       "83617          https://en.wikipedia.org/wiki/Nina_McClelland              26   \n",
       "65315  https://en.wikipedia.org/wiki/Sven_Oluf_S%C3%B8rensen               3   \n",
       "\n",
       "       year      month info_parenth info_1 info_2 info_3 info_4 info_5 info_6  \\\n",
       "83617  2020     August         None   None          None   None   None   None   \n",
       "65315  2017  September         None   None          None   None   None   None   \n",
       "\n",
       "      info_7 info_8 info_9 info_10 info_11   age cause_of_death  \\\n",
       "83617   None   None   None    None    None  90.0           None   \n",
       "65315   None   None   None    None    None  96.0           None   \n",
       "\n",
       "                        place_1 place_2 info_parenth_copy  log_num_references  \\\n",
       "83617  United States of America    None              None            3.295837   \n",
       "65315                    Norway    None              None            1.386294   \n",
       "\n",
       "       sciences  social  spiritual  academia_humanities  business_farming  \\\n",
       "83617         1       0          0                    0                 0   \n",
       "65315         1       0          0                    0                 0   \n",
       "\n",
       "       arts  sports  law_enf_military_operator  politics_govt_law  crime  \\\n",
       "83617     0       0                          0                  0      0   \n",
       "65315     0       0                          0                  0      0   \n",
       "\n",
       "       event_record_other  other_species  num_categories  \n",
       "83617                   0              0               1  \n",
       "65315                   0              0               1  "
      ]
     },
     "execution_count": 67,
     "metadata": {},
     "output_type": "execute_result"
    },
    {
     "data": {
      "application/javascript": [
       "\n",
       "            setTimeout(function() {\n",
       "                var nbb_cell_id = 67;\n",
       "                var nbb_unformatted_code = \"%%time\\n\\n# Dictionary version\\nsearch_dict = known_for_dict\\n\\n# Column to check\\ncolumn = 'info_2'\\n\\n# Dataframe\\ndataframe = df[column].notna()\\n\\n# For loop to find role in column and extract it as category\\nfor category, category_lst in search_dict.items():\\n    for role in category_lst:\\n        for index in dataframe.index:\\n            item = df.loc[index, column]\\n            if item:\\n                if role in item:\\n                    df.loc[index, category] = 1\\n                    df.loc[index, column] = item.replace(role, '').strip()\\n\\n# Updating num_categories\\ndf[\\\"num_categories\\\"] = df[known_for_dict.keys()].sum(axis=1)\\n\\n# Checking a sample of rows\\ndf[df['sciences'] ==1].sample(2)\";\n",
       "                var nbb_formatted_code = \"%%time\\n\\n# Dictionary version\\nsearch_dict = known_for_dict\\n\\n# Column to check\\ncolumn = 'info_2'\\n\\n# Dataframe\\ndataframe = df[column].notna()\\n\\n# For loop to find role in column and extract it as category\\nfor category, category_lst in search_dict.items():\\n    for role in category_lst:\\n        for index in dataframe.index:\\n            item = df.loc[index, column]\\n            if item:\\n                if role in item:\\n                    df.loc[index, category] = 1\\n                    df.loc[index, column] = item.replace(role, '').strip()\\n\\n# Updating num_categories\\ndf[\\\"num_categories\\\"] = df[known_for_dict.keys()].sum(axis=1)\\n\\n# Checking a sample of rows\\ndf[df['sciences'] ==1].sample(2)\";\n",
       "                var nbb_cells = Jupyter.notebook.get_cells();\n",
       "                for (var i = 0; i < nbb_cells.length; ++i) {\n",
       "                    if (nbb_cells[i].input_prompt_number == nbb_cell_id) {\n",
       "                        if (nbb_cells[i].get_text() == nbb_unformatted_code) {\n",
       "                             nbb_cells[i].set_text(nbb_formatted_code);\n",
       "                        }\n",
       "                        break;\n",
       "                    }\n",
       "                }\n",
       "            }, 500);\n",
       "            "
      ],
      "text/plain": [
       "<IPython.core.display.Javascript object>"
      ]
     },
     "metadata": {},
     "output_type": "display_data"
    }
   ],
   "source": [
    "%%time\n",
    "\n",
    "# Dictionary version\n",
    "search_dict = known_for_dict\n",
    "\n",
    "# Column to check\n",
    "column = 'info_2'\n",
    "\n",
    "# Dataframe\n",
    "dataframe = df[column].notna()\n",
    "\n",
    "# For loop to find role in column and extract it as category\n",
    "for category, category_lst in search_dict.items():\n",
    "    for role in category_lst:\n",
    "        for index in dataframe.index:\n",
    "            item = df.loc[index, column]\n",
    "            if item:\n",
    "                if role in item:\n",
    "                    df.loc[index, category] = 1\n",
    "                    df.loc[index, column] = item.replace(role, '').strip()\n",
    "\n",
    "# Updating num_categories\n",
    "df[\"num_categories\"] = df[known_for_dict.keys()].sum(axis=1)\n",
    "\n",
    "# Checking a sample of rows\n",
    "df[df['sciences'] ==1].sample(2)"
   ]
  },
  {
   "cell_type": "markdown",
   "id": "a807d972",
   "metadata": {},
   "source": [
    "#### Checking the Number of Rows without a First Category"
   ]
  },
  {
   "cell_type": "code",
   "execution_count": 68,
   "id": "c7e18283",
   "metadata": {},
   "outputs": [
    {
     "name": "stdout",
     "output_type": "stream",
     "text": [
      "There are 36147 entries without any known_for category.\n"
     ]
    },
    {
     "data": {
      "application/javascript": [
       "\n",
       "            setTimeout(function() {\n",
       "                var nbb_cell_id = 68;\n",
       "                var nbb_unformatted_code = \"# Checking the number of rows without a first category\\nprint(\\n    f'There are {len(df[df[\\\"num_categories\\\"]==0])} entries without any known_for category.'\\n)\";\n",
       "                var nbb_formatted_code = \"# Checking the number of rows without a first category\\nprint(\\n    f'There are {len(df[df[\\\"num_categories\\\"]==0])} entries without any known_for category.'\\n)\";\n",
       "                var nbb_cells = Jupyter.notebook.get_cells();\n",
       "                for (var i = 0; i < nbb_cells.length; ++i) {\n",
       "                    if (nbb_cells[i].input_prompt_number == nbb_cell_id) {\n",
       "                        if (nbb_cells[i].get_text() == nbb_unformatted_code) {\n",
       "                             nbb_cells[i].set_text(nbb_formatted_code);\n",
       "                        }\n",
       "                        break;\n",
       "                    }\n",
       "                }\n",
       "            }, 500);\n",
       "            "
      ],
      "text/plain": [
       "<IPython.core.display.Javascript object>"
      ]
     },
     "metadata": {},
     "output_type": "display_data"
    }
   ],
   "source": [
    "# Checking the number of rows without a first category\n",
    "print(\n",
    "    f'There are {len(df[df[\"num_categories\"]==0])} entries without any known_for category.'\n",
    ")"
   ]
  },
  {
   "cell_type": "markdown",
   "id": "35d7e47a",
   "metadata": {},
   "source": [
    "#### Observations:\n",
    "- We will proceed to rebuild `known_for_dict` for the next iteration."
   ]
  },
  {
   "cell_type": "markdown",
   "id": "7616d110",
   "metadata": {},
   "source": [
    "#### Finding `known_for` Roles in `info_2`"
   ]
  },
  {
   "cell_type": "code",
   "execution_count": 69,
   "id": "c4cd68fd",
   "metadata": {},
   "outputs": [
    {
     "data": {
      "application/javascript": [
       "\n",
       "            setTimeout(function() {\n",
       "                var nbb_cell_id = 69;\n",
       "                var nbb_unformatted_code = \"# Obtaining values for column and their counts\\nroles_list = df[\\\"info_2\\\"].value_counts(ascending=True).index.tolist()\";\n",
       "                var nbb_formatted_code = \"# Obtaining values for column and their counts\\nroles_list = df[\\\"info_2\\\"].value_counts(ascending=True).index.tolist()\";\n",
       "                var nbb_cells = Jupyter.notebook.get_cells();\n",
       "                for (var i = 0; i < nbb_cells.length; ++i) {\n",
       "                    if (nbb_cells[i].input_prompt_number == nbb_cell_id) {\n",
       "                        if (nbb_cells[i].get_text() == nbb_unformatted_code) {\n",
       "                             nbb_cells[i].set_text(nbb_formatted_code);\n",
       "                        }\n",
       "                        break;\n",
       "                    }\n",
       "                }\n",
       "            }, 500);\n",
       "            "
      ],
      "text/plain": [
       "<IPython.core.display.Javascript object>"
      ]
     },
     "metadata": {},
     "output_type": "display_data"
    }
   ],
   "source": [
    "# Obtaining values for column and their counts\n",
    "roles_list = df[\"info_2\"].value_counts(ascending=True).index.tolist()"
   ]
  },
  {
   "cell_type": "code",
   "execution_count": 70,
   "id": "dfedd673",
   "metadata": {},
   "outputs": [
    {
     "data": {
      "application/javascript": [
       "\n",
       "            setTimeout(function() {\n",
       "                var nbb_cell_id = 70;\n",
       "                var nbb_unformatted_code = \"# # Code to check each value\\n# roles_list.pop()\";\n",
       "                var nbb_formatted_code = \"# # Code to check each value\\n# roles_list.pop()\";\n",
       "                var nbb_cells = Jupyter.notebook.get_cells();\n",
       "                for (var i = 0; i < nbb_cells.length; ++i) {\n",
       "                    if (nbb_cells[i].input_prompt_number == nbb_cell_id) {\n",
       "                        if (nbb_cells[i].get_text() == nbb_unformatted_code) {\n",
       "                             nbb_cells[i].set_text(nbb_formatted_code);\n",
       "                        }\n",
       "                        break;\n",
       "                    }\n",
       "                }\n",
       "            }, 500);\n",
       "            "
      ],
      "text/plain": [
       "<IPython.core.display.Javascript object>"
      ]
     },
     "metadata": {},
     "output_type": "display_data"
    }
   ],
   "source": [
    "# # Code to check each value\n",
    "# roles_list.pop()"
   ]
  },
  {
   "cell_type": "code",
   "execution_count": 71,
   "id": "149de8e1",
   "metadata": {},
   "outputs": [
    {
     "data": {
      "application/javascript": [
       "\n",
       "            setTimeout(function() {\n",
       "                var nbb_cell_id = 71;\n",
       "                var nbb_unformatted_code = \"# # Create specific_roles_list for above popped value\\n# specific_roles_list = (\\n#     df.loc[\\n#         [index for index in df.index if \\\"engineer\\\" in df.loc[index, \\\"info\\\"]], \\\"info_2\\\",\\n#     ]\\n#     .value_counts()\\n#     .index.tolist()\\n# )\";\n",
       "                var nbb_formatted_code = \"# # Create specific_roles_list for above popped value\\n# specific_roles_list = (\\n#     df.loc[\\n#         [index for index in df.index if \\\"engineer\\\" in df.loc[index, \\\"info\\\"]], \\\"info_2\\\",\\n#     ]\\n#     .value_counts()\\n#     .index.tolist()\\n# )\";\n",
       "                var nbb_cells = Jupyter.notebook.get_cells();\n",
       "                for (var i = 0; i < nbb_cells.length; ++i) {\n",
       "                    if (nbb_cells[i].input_prompt_number == nbb_cell_id) {\n",
       "                        if (nbb_cells[i].get_text() == nbb_unformatted_code) {\n",
       "                             nbb_cells[i].set_text(nbb_formatted_code);\n",
       "                        }\n",
       "                        break;\n",
       "                    }\n",
       "                }\n",
       "            }, 500);\n",
       "            "
      ],
      "text/plain": [
       "<IPython.core.display.Javascript object>"
      ]
     },
     "metadata": {},
     "output_type": "display_data"
    }
   ],
   "source": [
    "# # Create specific_roles_list for above popped value\n",
    "# specific_roles_list = (\n",
    "#     df.loc[\n",
    "#         [index for index in df.index if \"engineer\" in df.loc[index, \"info\"]], \"info_2\",\n",
    "#     ]\n",
    "#     .value_counts()\n",
    "#     .index.tolist()\n",
    "# )"
   ]
  },
  {
   "cell_type": "code",
   "execution_count": 72,
   "id": "404e601e",
   "metadata": {},
   "outputs": [
    {
     "data": {
      "application/javascript": [
       "\n",
       "            setTimeout(function() {\n",
       "                var nbb_cell_id = 72;\n",
       "                var nbb_unformatted_code = \"# # Code to check each specific value\\n# specific_roles_list.pop()\";\n",
       "                var nbb_formatted_code = \"# # Code to check each specific value\\n# specific_roles_list.pop()\";\n",
       "                var nbb_cells = Jupyter.notebook.get_cells();\n",
       "                for (var i = 0; i < nbb_cells.length; ++i) {\n",
       "                    if (nbb_cells[i].input_prompt_number == nbb_cell_id) {\n",
       "                        if (nbb_cells[i].get_text() == nbb_unformatted_code) {\n",
       "                             nbb_cells[i].set_text(nbb_formatted_code);\n",
       "                        }\n",
       "                        break;\n",
       "                    }\n",
       "                }\n",
       "            }, 500);\n",
       "            "
      ],
      "text/plain": [
       "<IPython.core.display.Javascript object>"
      ]
     },
     "metadata": {},
     "output_type": "display_data"
    }
   ],
   "source": [
    "# # Code to check each specific value\n",
    "# specific_roles_list.pop()"
   ]
  },
  {
   "cell_type": "code",
   "execution_count": 73,
   "id": "cc3f5038",
   "metadata": {
    "scrolled": false
   },
   "outputs": [
    {
     "data": {
      "application/javascript": [
       "\n",
       "            setTimeout(function() {\n",
       "                var nbb_cell_id = 73;\n",
       "                var nbb_unformatted_code = \"# # Example code to quick-screen values that may overlap categories\\n# df.loc[[index for index in df.index if \\\"sound engineer\\\" in df.loc[index, \\\"info\\\"]]]\";\n",
       "                var nbb_formatted_code = \"# # Example code to quick-screen values that may overlap categories\\n# df.loc[[index for index in df.index if \\\"sound engineer\\\" in df.loc[index, \\\"info\\\"]]]\";\n",
       "                var nbb_cells = Jupyter.notebook.get_cells();\n",
       "                for (var i = 0; i < nbb_cells.length; ++i) {\n",
       "                    if (nbb_cells[i].input_prompt_number == nbb_cell_id) {\n",
       "                        if (nbb_cells[i].get_text() == nbb_unformatted_code) {\n",
       "                             nbb_cells[i].set_text(nbb_formatted_code);\n",
       "                        }\n",
       "                        break;\n",
       "                    }\n",
       "                }\n",
       "            }, 500);\n",
       "            "
      ],
      "text/plain": [
       "<IPython.core.display.Javascript object>"
      ]
     },
     "metadata": {},
     "output_type": "display_data"
    }
   ],
   "source": [
    "# # Example code to quick-screen values that may overlap categories\n",
    "# df.loc[[index for index in df.index if \"sound engineer\" in df.loc[index, \"info\"]]]"
   ]
  },
  {
   "cell_type": "code",
   "execution_count": 74,
   "id": "76f74a60",
   "metadata": {},
   "outputs": [
    {
     "data": {
      "application/javascript": [
       "\n",
       "            setTimeout(function() {\n",
       "                var nbb_cell_id = 74;\n",
       "                var nbb_unformatted_code = \"# # Example code to quick-screen values that may overlap categories\\n# df.loc[\\n#     [\\n#         index\\n#         for index in df.index\\n#         if \\\"outlaw country music singer songwriter\\\" in df.loc[index, \\\"info\\\"]\\n#     ]\\n# ]\";\n",
       "                var nbb_formatted_code = \"# # Example code to quick-screen values that may overlap categories\\n# df.loc[\\n#     [\\n#         index\\n#         for index in df.index\\n#         if \\\"outlaw country music singer songwriter\\\" in df.loc[index, \\\"info\\\"]\\n#     ]\\n# ]\";\n",
       "                var nbb_cells = Jupyter.notebook.get_cells();\n",
       "                for (var i = 0; i < nbb_cells.length; ++i) {\n",
       "                    if (nbb_cells[i].input_prompt_number == nbb_cell_id) {\n",
       "                        if (nbb_cells[i].get_text() == nbb_unformatted_code) {\n",
       "                             nbb_cells[i].set_text(nbb_formatted_code);\n",
       "                        }\n",
       "                        break;\n",
       "                    }\n",
       "                }\n",
       "            }, 500);\n",
       "            "
      ],
      "text/plain": [
       "<IPython.core.display.Javascript object>"
      ]
     },
     "metadata": {},
     "output_type": "display_data"
    }
   ],
   "source": [
    "# # Example code to quick-screen values that may overlap categories\n",
    "# df.loc[\n",
    "#     [\n",
    "#         index\n",
    "#         for index in df.index\n",
    "#         if \"outlaw country music singer songwriter\" in df.loc[index, \"info\"]\n",
    "#     ]\n",
    "# ]"
   ]
  },
  {
   "cell_type": "code",
   "execution_count": 75,
   "id": "15b5c12d",
   "metadata": {},
   "outputs": [
    {
     "data": {
      "application/javascript": [
       "\n",
       "            setTimeout(function() {\n",
       "                var nbb_cell_id = 75;\n",
       "                var nbb_unformatted_code = \"# # Example code to quick-check a specific entry\\n# df[df[\\\"info_2\\\"] == \\\"recording engineer\\\"]\";\n",
       "                var nbb_formatted_code = \"# # Example code to quick-check a specific entry\\n# df[df[\\\"info_2\\\"] == \\\"recording engineer\\\"]\";\n",
       "                var nbb_cells = Jupyter.notebook.get_cells();\n",
       "                for (var i = 0; i < nbb_cells.length; ++i) {\n",
       "                    if (nbb_cells[i].input_prompt_number == nbb_cell_id) {\n",
       "                        if (nbb_cells[i].get_text() == nbb_unformatted_code) {\n",
       "                             nbb_cells[i].set_text(nbb_formatted_code);\n",
       "                        }\n",
       "                        break;\n",
       "                    }\n",
       "                }\n",
       "            }, 500);\n",
       "            "
      ],
      "text/plain": [
       "<IPython.core.display.Javascript object>"
      ]
     },
     "metadata": {},
     "output_type": "display_data"
    }
   ],
   "source": [
    "# # Example code to quick-check a specific entry\n",
    "# df[df[\"info_2\"] == \"recording engineer\"]"
   ]
  },
  {
   "cell_type": "markdown",
   "id": "2083d1cf",
   "metadata": {},
   "source": [
    "#### Creating Lists for Each `known_for` Category"
   ]
  },
  {
   "cell_type": "code",
   "execution_count": 76,
   "id": "23e7c011",
   "metadata": {},
   "outputs": [
    {
     "data": {
      "application/javascript": [
       "\n",
       "            setTimeout(function() {\n",
       "                var nbb_cell_id = 76;\n",
       "                var nbb_unformatted_code = \"# Creating lists for each category\\npolitics_govt_law = []\\n\\narts = [\\n    \\\"Grammy Award winning sound engineer and music producer\\\",\\n    \\\"sound engineer and record producer\\\",  # before sciences\\n    \\\"car design engineer\\\",\\n    \\\"recording engineer and producer\\\",\\n    \\\"recording engineer and record producer\\\",\\n    \\\"Academy Award winning sound engineer\\\",\\n    \\\"sound engineer and founder of the BBC Radiophonic Workshop\\\",\\n    \\\"recording engineer and studio owner\\\",\\n    \\\"audio engineer and producer\\\",\\n    \\\"music producer and engineer\\\",\\n    \\\"record producer and audio engineer\\\",\\n    \\\"audio engineer and video game developer\\\",\\n    \\\"audio mastering engineer\\\",\\n    \\\"recording engineer and record label owner\\\",\\n    \\\"film recording engineer\\\",\\n    \\\"Grammy award winning music engineer\\\",\\n    \\\"record producer and recording engineer\\\",\\n    \\\"music engineer and producer\\\",\\n    \\\"and recording engineer\\\",\\n    \\\"film sound engineer\\\",\\n    \\\"audio engineer and record producer\\\",\\n    \\\"sound engineer\\\",\\n    \\\"recording engineer\\\",\\n]\\nsports = []\\nsciences = [\\n    \\\"electrical and radio engineer\\\",\\n    \\\"engineer and statistician\\\",\\n    \\\"electrical engineer and co founder\\\",\\n    \\\"videogame console engineer\\\",\\n    \\\"engineer and glider pilot\\\",\\n    'engineer nicknamed the \\\"Father of the Corvette \\\"',\\n    \\\"mechanical engineer and inventor\\\",\\n    \\\"integrated circuit engineer\\\",\\n    \\\"chemical engineer in unleaded gasoline\\\",\\n    \\\"computer hardware engineer\\\",\\n    \\\"electronics engineer for Sony\\\",\\n    \\\"diving engineer\\\",\\n    \\\"executive engineer\\\",\\n    \\\"electrical engineer and university\\\",\\n    \\\"electrical engineer and scientist\\\",\\n    \\\"and rocket engineer\\\",\\n    \\\"nuclear scientist and chemical engineer\\\",\\n    \\\"welding engineer\\\",\\n    \\\"scientist and aerospace engineer\\\",\\n    \\\"ceramic engineer\\\",\\n    \\\"chemical engineer and safety consultant\\\",\\n    \\\"audio engineer and electronics engineer\\\",\\n    \\\"chemical engineer and pharmaceutical executive\\\",\\n    \\\"mining engineer and geologist\\\",\\n    \\\"consulting engineer\\\",\\n    \\\"engineer and geotechnician\\\",\\n    \\\"engineering seismologist\\\",\\n    \\\"engineer in charge during the Chernobyl disaster\\\",\\n    \\\"pioneering computer engineer\\\",\\n    \\\"spacecraft engineer\\\",\\n    \\\"engineer and bullet train pioneer\\\",\\n    \\\"engineer and optician\\\",\\n    \\\"aircraft automotive engineer\\\",\\n    \\\"helicopter and aerospace engineer\\\",\\n    \\\"engineer and electronic computing pioneer\\\",\\n    \\\"rocket engineer who worked at the Jet Propulsion Laboratory\\\",\\n    \\\"aerospace engineer and a pioneer in helicopter design\\\",\\n    \\\"ice road engineer\\\",\\n    \\\"rail engineer\\\",\\n    \\\"engineer and aerospace executive\\\",\\n    \\\"engineer and co designer of NASA Apollo Lunar Module\\\",\\n    \\\"aerospace engineer and member of the\\\",\\n    \\\"communication satellites engineer\\\",\\n    \\\"aeronautics and astronautic engineer\\\",\\n    \\\"biomedical engineering pioneer\\\",\\n    \\\"traffic engineer and inventor of the mini roundabout\\\",\\n    \\\"chemical engineer for the Procter & Gamble company\\\",\\n    \\\"aeronautical engineer who invented the tandem rotor placement in helicopter design\\\",\\n    \\\"traffic engineer\\\",\\n    \\\"Toyota engineer\\\",\\n    \\\"scientist and electrical engineer\\\",\\n    \\\"inventor and chemical engineer\\\",\\n    \\\"engineer and cryptographer\\\",\\n    \\\"computer engineer and scientist\\\",\\n    \\\"aeronautical engineer and space scientist\\\",\\n    \\\"engineer and R&D executive\\\",\\n    \\\"civil engineer and industrial\\\",\\n    \\\"thermal engineer\\\",\\n    \\\"automotive executive and engineer\\\",\\n    \\\"geologist and earthquake engineer\\\",\\n    \\\"metallurgist and chemical engineer\\\",\\n    \\\"engineer and food scientist\\\",\\n    \\\"naval electronics engineer\\\",\\n    \\\"control systems engineer\\\",\\n    \\\"automotive engineer and executive\\\",\\n    \\\"ship engineer\\\",\\n    \\\"mechanical engineer and product\\\",\\n    \\\"explosives engineer and inventor\\\",\\n    \\\"aerospace engineer and fluid dynamicist\\\",\\n    \\\"nuclear material engineer\\\",\\n    \\\"plant breeding engineer\\\",\\n    \\\"marine engineer and executive\\\",\\n    \\\"industrial engineer and cycling\\\",\\n    \\\"video game engineer\\\",\\n    \\\"materials scientist and engineer\\\",\\n    \\\"engineering manager\\\",\\n    \\\"agronomist and engineer\\\",\\n    \\\"engineer and control theorist\\\",\\n    \\\"naval engineer and\\\",\\n    \\\"construction executive and civil engineer\\\",\\n    \\\"agricultural engineer and\\\",\\n    \\\"refrigeration engineer\\\",\\n    \\\"chemical engineer and scientist\\\",\\n    \\\"engineer and scientist\\\",\\n    \\\"ice drilling engineer\\\",\\n    \\\"ornithologist and engineer\\\",\\n    \\\"motorsport engineer\\\",\\n    \\\"computer engineer and NASA official\\\",\\n    \\\"mechanical engineer and anti nuclear power\\\",\\n    \\\"bridge structural engineer\\\",\\n    \\\"aircraft engineer\\\",\\n    \\\"soil mechanics engineer\\\",\\n    \\\"microwave electronics and communications engineer\\\",\\n    \\\"camera engineer\\\",\\n    \\\"engineer and rocket scientist\\\",\\n    \\\"NASA engineer and\\\",\\n    \\\"engineer and the second Director of Lockheed Skunk Works from to\\\",\\n    \\\"aeronautics engineer\\\",\\n    \\\"earthquake engineer\\\",\\n    \\\"computational engineer\\\",\\n    \\\"engineer and chief executive\\\",\\n    \\\"computer engineer and systems scientist\\\",\\n    \\\"engineer and inventor of the hovercraft\\\",\\n    \\\"railway signal engineer\\\",\\n    \\\"and railway engineer\\\",\\n    \\\"railway engineer\\\",\\n    \\\"optoelectronic engineer\\\",\\n    \\\"materials engineer\\\",\\n    \\\"auto engineer\\\",\\n    \\\"Hall of Fame computer engineer\\\",\\n    \\\"flight engineer\\\",\\n    \\\"airplane designer and engineer\\\",\\n    \\\"and race chassis engineer\\\",\\n    \\\"consulting nuclear engineer\\\",\\n    \\\"engineering construction executive\\\",\\n    \\\"engineering scientist\\\",\\n    \\\"systems engineer\\\",\\n    \\\"aeroelasticity engineer and aircraft designer\\\",\\n    \\\"engineer and technology executive\\\",\\n    \\\"biochemical engineer\\\",\\n    \\\"particle accelerator specialist and engineer\\\",\\n    \\\"hydrogeologist and environmental engineer\\\",\\n    \\\"port and harbor engineer\\\",\\n    \\\"rocket engineer\\\",\\n    \\\"aerospace engineer and NASA manager\\\",\\n    \\\"engineer and aircraft designer\\\",\\n    \\\"chemical engineer and inventor\\\",\\n    \\\"electrical engineer and inventor\\\",\\n    \\\"metallurgical engineer\\\",\\n    \\\"of aerospace engineering\\\",\\n    \\\"and aerospace engineer\\\",\\n    \\\"space engineer\\\",\\n    \\\"electronic engineer\\\",\\n    \\\"design engineer\\\",\\n    \\\"NASA engineer\\\",\\n    \\\"naval engineer\\\",\\n    \\\"petroleum engineer\\\",\\n    \\\"motorcycle engineer\\\",\\n    \\\"satellite engineer\\\",\\n    \\\"engineer and racing car designer\\\",\\n    \\\"biomedical engineer\\\",\\n    \\\"environmental engineer\\\",\\n    \\\"agricultural engineer\\\",\\n    \\\"irrigation engineer\\\",\\n    \\\"engineer and computer scientist\\\",\\n    \\\"industrial engineer\\\",\\n    \\\"bioengineer\\\",\\n    \\\"scientist and engineer\\\",\\n    \\\"acoustical engineer\\\",\\n    \\\"mining engineer and\\\",\\n    \\\"mining engineer\\\",\\n    \\\"aviation engineer\\\",\\n    \\\"hydraulic engineer\\\",\\n    \\\"software engineer\\\",\\n    \\\"audio engineer and inventor\\\",\\n    \\\"audio engineer and\\\",\\n    \\\"audio engineer\\\",\\n    \\\"telecommunications engineer\\\",\\n    \\\"electronics engineer and\\\",\\n    \\\"electronics engineer\\\",\\n    \\\"nuclear engineer\\\",\\n    \\\"computer engineer\\\",\\n    \\\"and automotive engineer\\\",\\n    \\\"automotive engineer\\\",\\n    \\\"structural engineer and\\\",\\n    \\\"structural engineer\\\",\\n    \\\"mechanical engineer and\\\",\\n    \\\"mechanical engineering\\\",\\n    \\\"mechanical engineer\\\",\\n    \\\"and aeronautical engineer\\\",\\n    \\\"aeronautical engineer\\\",\\n    \\\"aerospace engineer\\\",\\n    \\\"and chemical engineer\\\",\\n    \\\"chemical engineer and\\\",\\n    \\\"chemical engineer\\\",\\n    \\\"civil engineering\\\",\\n    \\\"and civil engineer\\\",\\n    \\\"civil engineer and\\\",\\n    \\\"civil engineer\\\",\\n    \\\"of electrical engineering\\\",\\n    \\\"electrical engineer and\\\",\\n    \\\"electrical engineer\\\",\\n    \\\"engineer and inventor\\\",\\n    \\\"and aircraft engineer\\\",\\n    \\\"engineer and space\\\",\\n    \\\"and test engineer\\\",\\n    \\\"and engineer for NASA\\\",\\n    \\\"transportation engineer and\\\",\\n    \\\"optical engineer\\\",\\n    \\\"inventor and engineer\\\",\\n    \\\"and cycling engineer\\\",\\n    \\\"broadcast engineer\\\",\\n    \\\"and aeroplane engineer\\\",\\n    \\\"Electrical engineering\\\",\\n    \\\"paper engineer and\\\",\\n    \\\"of engineering\\\",\\n    \\\"engineering\\\",\\n    \\\"and engineer\\\",\\n    \\\"engineer and\\\",\\n    \\\"engineer\\\",\\n]\\n\\nbusiness_farming = [\\\"co founder of Matchbox Toys\\\"]\\nacademia_humanities = []\\nlaw_enf_military_operator = [\\\"Deputy Secretary of Defense\\\"]\\nspiritual = []\\nsocial = []\\ncrime = []\\nevent_record_other = [\\\"taken hostage in\\\"]\\nother_species = []\";\n",
       "                var nbb_formatted_code = \"# Creating lists for each category\\npolitics_govt_law = []\\n\\narts = [\\n    \\\"Grammy Award winning sound engineer and music producer\\\",\\n    \\\"sound engineer and record producer\\\",  # before sciences\\n    \\\"car design engineer\\\",\\n    \\\"recording engineer and producer\\\",\\n    \\\"recording engineer and record producer\\\",\\n    \\\"Academy Award winning sound engineer\\\",\\n    \\\"sound engineer and founder of the BBC Radiophonic Workshop\\\",\\n    \\\"recording engineer and studio owner\\\",\\n    \\\"audio engineer and producer\\\",\\n    \\\"music producer and engineer\\\",\\n    \\\"record producer and audio engineer\\\",\\n    \\\"audio engineer and video game developer\\\",\\n    \\\"audio mastering engineer\\\",\\n    \\\"recording engineer and record label owner\\\",\\n    \\\"film recording engineer\\\",\\n    \\\"Grammy award winning music engineer\\\",\\n    \\\"record producer and recording engineer\\\",\\n    \\\"music engineer and producer\\\",\\n    \\\"and recording engineer\\\",\\n    \\\"film sound engineer\\\",\\n    \\\"audio engineer and record producer\\\",\\n    \\\"sound engineer\\\",\\n    \\\"recording engineer\\\",\\n]\\nsports = []\\nsciences = [\\n    \\\"electrical and radio engineer\\\",\\n    \\\"engineer and statistician\\\",\\n    \\\"electrical engineer and co founder\\\",\\n    \\\"videogame console engineer\\\",\\n    \\\"engineer and glider pilot\\\",\\n    'engineer nicknamed the \\\"Father of the Corvette \\\"',\\n    \\\"mechanical engineer and inventor\\\",\\n    \\\"integrated circuit engineer\\\",\\n    \\\"chemical engineer in unleaded gasoline\\\",\\n    \\\"computer hardware engineer\\\",\\n    \\\"electronics engineer for Sony\\\",\\n    \\\"diving engineer\\\",\\n    \\\"executive engineer\\\",\\n    \\\"electrical engineer and university\\\",\\n    \\\"electrical engineer and scientist\\\",\\n    \\\"and rocket engineer\\\",\\n    \\\"nuclear scientist and chemical engineer\\\",\\n    \\\"welding engineer\\\",\\n    \\\"scientist and aerospace engineer\\\",\\n    \\\"ceramic engineer\\\",\\n    \\\"chemical engineer and safety consultant\\\",\\n    \\\"audio engineer and electronics engineer\\\",\\n    \\\"chemical engineer and pharmaceutical executive\\\",\\n    \\\"mining engineer and geologist\\\",\\n    \\\"consulting engineer\\\",\\n    \\\"engineer and geotechnician\\\",\\n    \\\"engineering seismologist\\\",\\n    \\\"engineer in charge during the Chernobyl disaster\\\",\\n    \\\"pioneering computer engineer\\\",\\n    \\\"spacecraft engineer\\\",\\n    \\\"engineer and bullet train pioneer\\\",\\n    \\\"engineer and optician\\\",\\n    \\\"aircraft automotive engineer\\\",\\n    \\\"helicopter and aerospace engineer\\\",\\n    \\\"engineer and electronic computing pioneer\\\",\\n    \\\"rocket engineer who worked at the Jet Propulsion Laboratory\\\",\\n    \\\"aerospace engineer and a pioneer in helicopter design\\\",\\n    \\\"ice road engineer\\\",\\n    \\\"rail engineer\\\",\\n    \\\"engineer and aerospace executive\\\",\\n    \\\"engineer and co designer of NASA Apollo Lunar Module\\\",\\n    \\\"aerospace engineer and member of the\\\",\\n    \\\"communication satellites engineer\\\",\\n    \\\"aeronautics and astronautic engineer\\\",\\n    \\\"biomedical engineering pioneer\\\",\\n    \\\"traffic engineer and inventor of the mini roundabout\\\",\\n    \\\"chemical engineer for the Procter & Gamble company\\\",\\n    \\\"aeronautical engineer who invented the tandem rotor placement in helicopter design\\\",\\n    \\\"traffic engineer\\\",\\n    \\\"Toyota engineer\\\",\\n    \\\"scientist and electrical engineer\\\",\\n    \\\"inventor and chemical engineer\\\",\\n    \\\"engineer and cryptographer\\\",\\n    \\\"computer engineer and scientist\\\",\\n    \\\"aeronautical engineer and space scientist\\\",\\n    \\\"engineer and R&D executive\\\",\\n    \\\"civil engineer and industrial\\\",\\n    \\\"thermal engineer\\\",\\n    \\\"automotive executive and engineer\\\",\\n    \\\"geologist and earthquake engineer\\\",\\n    \\\"metallurgist and chemical engineer\\\",\\n    \\\"engineer and food scientist\\\",\\n    \\\"naval electronics engineer\\\",\\n    \\\"control systems engineer\\\",\\n    \\\"automotive engineer and executive\\\",\\n    \\\"ship engineer\\\",\\n    \\\"mechanical engineer and product\\\",\\n    \\\"explosives engineer and inventor\\\",\\n    \\\"aerospace engineer and fluid dynamicist\\\",\\n    \\\"nuclear material engineer\\\",\\n    \\\"plant breeding engineer\\\",\\n    \\\"marine engineer and executive\\\",\\n    \\\"industrial engineer and cycling\\\",\\n    \\\"video game engineer\\\",\\n    \\\"materials scientist and engineer\\\",\\n    \\\"engineering manager\\\",\\n    \\\"agronomist and engineer\\\",\\n    \\\"engineer and control theorist\\\",\\n    \\\"naval engineer and\\\",\\n    \\\"construction executive and civil engineer\\\",\\n    \\\"agricultural engineer and\\\",\\n    \\\"refrigeration engineer\\\",\\n    \\\"chemical engineer and scientist\\\",\\n    \\\"engineer and scientist\\\",\\n    \\\"ice drilling engineer\\\",\\n    \\\"ornithologist and engineer\\\",\\n    \\\"motorsport engineer\\\",\\n    \\\"computer engineer and NASA official\\\",\\n    \\\"mechanical engineer and anti nuclear power\\\",\\n    \\\"bridge structural engineer\\\",\\n    \\\"aircraft engineer\\\",\\n    \\\"soil mechanics engineer\\\",\\n    \\\"microwave electronics and communications engineer\\\",\\n    \\\"camera engineer\\\",\\n    \\\"engineer and rocket scientist\\\",\\n    \\\"NASA engineer and\\\",\\n    \\\"engineer and the second Director of Lockheed Skunk Works from to\\\",\\n    \\\"aeronautics engineer\\\",\\n    \\\"earthquake engineer\\\",\\n    \\\"computational engineer\\\",\\n    \\\"engineer and chief executive\\\",\\n    \\\"computer engineer and systems scientist\\\",\\n    \\\"engineer and inventor of the hovercraft\\\",\\n    \\\"railway signal engineer\\\",\\n    \\\"and railway engineer\\\",\\n    \\\"railway engineer\\\",\\n    \\\"optoelectronic engineer\\\",\\n    \\\"materials engineer\\\",\\n    \\\"auto engineer\\\",\\n    \\\"Hall of Fame computer engineer\\\",\\n    \\\"flight engineer\\\",\\n    \\\"airplane designer and engineer\\\",\\n    \\\"and race chassis engineer\\\",\\n    \\\"consulting nuclear engineer\\\",\\n    \\\"engineering construction executive\\\",\\n    \\\"engineering scientist\\\",\\n    \\\"systems engineer\\\",\\n    \\\"aeroelasticity engineer and aircraft designer\\\",\\n    \\\"engineer and technology executive\\\",\\n    \\\"biochemical engineer\\\",\\n    \\\"particle accelerator specialist and engineer\\\",\\n    \\\"hydrogeologist and environmental engineer\\\",\\n    \\\"port and harbor engineer\\\",\\n    \\\"rocket engineer\\\",\\n    \\\"aerospace engineer and NASA manager\\\",\\n    \\\"engineer and aircraft designer\\\",\\n    \\\"chemical engineer and inventor\\\",\\n    \\\"electrical engineer and inventor\\\",\\n    \\\"metallurgical engineer\\\",\\n    \\\"of aerospace engineering\\\",\\n    \\\"and aerospace engineer\\\",\\n    \\\"space engineer\\\",\\n    \\\"electronic engineer\\\",\\n    \\\"design engineer\\\",\\n    \\\"NASA engineer\\\",\\n    \\\"naval engineer\\\",\\n    \\\"petroleum engineer\\\",\\n    \\\"motorcycle engineer\\\",\\n    \\\"satellite engineer\\\",\\n    \\\"engineer and racing car designer\\\",\\n    \\\"biomedical engineer\\\",\\n    \\\"environmental engineer\\\",\\n    \\\"agricultural engineer\\\",\\n    \\\"irrigation engineer\\\",\\n    \\\"engineer and computer scientist\\\",\\n    \\\"industrial engineer\\\",\\n    \\\"bioengineer\\\",\\n    \\\"scientist and engineer\\\",\\n    \\\"acoustical engineer\\\",\\n    \\\"mining engineer and\\\",\\n    \\\"mining engineer\\\",\\n    \\\"aviation engineer\\\",\\n    \\\"hydraulic engineer\\\",\\n    \\\"software engineer\\\",\\n    \\\"audio engineer and inventor\\\",\\n    \\\"audio engineer and\\\",\\n    \\\"audio engineer\\\",\\n    \\\"telecommunications engineer\\\",\\n    \\\"electronics engineer and\\\",\\n    \\\"electronics engineer\\\",\\n    \\\"nuclear engineer\\\",\\n    \\\"computer engineer\\\",\\n    \\\"and automotive engineer\\\",\\n    \\\"automotive engineer\\\",\\n    \\\"structural engineer and\\\",\\n    \\\"structural engineer\\\",\\n    \\\"mechanical engineer and\\\",\\n    \\\"mechanical engineering\\\",\\n    \\\"mechanical engineer\\\",\\n    \\\"and aeronautical engineer\\\",\\n    \\\"aeronautical engineer\\\",\\n    \\\"aerospace engineer\\\",\\n    \\\"and chemical engineer\\\",\\n    \\\"chemical engineer and\\\",\\n    \\\"chemical engineer\\\",\\n    \\\"civil engineering\\\",\\n    \\\"and civil engineer\\\",\\n    \\\"civil engineer and\\\",\\n    \\\"civil engineer\\\",\\n    \\\"of electrical engineering\\\",\\n    \\\"electrical engineer and\\\",\\n    \\\"electrical engineer\\\",\\n    \\\"engineer and inventor\\\",\\n    \\\"and aircraft engineer\\\",\\n    \\\"engineer and space\\\",\\n    \\\"and test engineer\\\",\\n    \\\"and engineer for NASA\\\",\\n    \\\"transportation engineer and\\\",\\n    \\\"optical engineer\\\",\\n    \\\"inventor and engineer\\\",\\n    \\\"and cycling engineer\\\",\\n    \\\"broadcast engineer\\\",\\n    \\\"and aeroplane engineer\\\",\\n    \\\"Electrical engineering\\\",\\n    \\\"paper engineer and\\\",\\n    \\\"of engineering\\\",\\n    \\\"engineering\\\",\\n    \\\"and engineer\\\",\\n    \\\"engineer and\\\",\\n    \\\"engineer\\\",\\n]\\n\\nbusiness_farming = [\\\"co founder of Matchbox Toys\\\"]\\nacademia_humanities = []\\nlaw_enf_military_operator = [\\\"Deputy Secretary of Defense\\\"]\\nspiritual = []\\nsocial = []\\ncrime = []\\nevent_record_other = [\\\"taken hostage in\\\"]\\nother_species = []\";\n",
       "                var nbb_cells = Jupyter.notebook.get_cells();\n",
       "                for (var i = 0; i < nbb_cells.length; ++i) {\n",
       "                    if (nbb_cells[i].input_prompt_number == nbb_cell_id) {\n",
       "                        if (nbb_cells[i].get_text() == nbb_unformatted_code) {\n",
       "                             nbb_cells[i].set_text(nbb_formatted_code);\n",
       "                        }\n",
       "                        break;\n",
       "                    }\n",
       "                }\n",
       "            }, 500);\n",
       "            "
      ],
      "text/plain": [
       "<IPython.core.display.Javascript object>"
      ]
     },
     "metadata": {},
     "output_type": "display_data"
    }
   ],
   "source": [
    "# Creating lists for each category\n",
    "politics_govt_law = []\n",
    "\n",
    "arts = [\n",
    "    \"Grammy Award winning sound engineer and music producer\",\n",
    "    \"sound engineer and record producer\",  # before sciences\n",
    "    \"car design engineer\",\n",
    "    \"recording engineer and producer\",\n",
    "    \"recording engineer and record producer\",\n",
    "    \"Academy Award winning sound engineer\",\n",
    "    \"sound engineer and founder of the BBC Radiophonic Workshop\",\n",
    "    \"recording engineer and studio owner\",\n",
    "    \"audio engineer and producer\",\n",
    "    \"music producer and engineer\",\n",
    "    \"record producer and audio engineer\",\n",
    "    \"audio engineer and video game developer\",\n",
    "    \"audio mastering engineer\",\n",
    "    \"recording engineer and record label owner\",\n",
    "    \"film recording engineer\",\n",
    "    \"Grammy award winning music engineer\",\n",
    "    \"record producer and recording engineer\",\n",
    "    \"music engineer and producer\",\n",
    "    \"and recording engineer\",\n",
    "    \"film sound engineer\",\n",
    "    \"audio engineer and record producer\",\n",
    "    \"sound engineer\",\n",
    "    \"recording engineer\",\n",
    "]\n",
    "sports = []\n",
    "sciences = [\n",
    "    \"electrical and radio engineer\",\n",
    "    \"engineer and statistician\",\n",
    "    \"electrical engineer and co founder\",\n",
    "    \"videogame console engineer\",\n",
    "    \"engineer and glider pilot\",\n",
    "    'engineer nicknamed the \"Father of the Corvette \"',\n",
    "    \"mechanical engineer and inventor\",\n",
    "    \"integrated circuit engineer\",\n",
    "    \"chemical engineer in unleaded gasoline\",\n",
    "    \"computer hardware engineer\",\n",
    "    \"electronics engineer for Sony\",\n",
    "    \"diving engineer\",\n",
    "    \"executive engineer\",\n",
    "    \"electrical engineer and university\",\n",
    "    \"electrical engineer and scientist\",\n",
    "    \"and rocket engineer\",\n",
    "    \"nuclear scientist and chemical engineer\",\n",
    "    \"welding engineer\",\n",
    "    \"scientist and aerospace engineer\",\n",
    "    \"ceramic engineer\",\n",
    "    \"chemical engineer and safety consultant\",\n",
    "    \"audio engineer and electronics engineer\",\n",
    "    \"chemical engineer and pharmaceutical executive\",\n",
    "    \"mining engineer and geologist\",\n",
    "    \"consulting engineer\",\n",
    "    \"engineer and geotechnician\",\n",
    "    \"engineering seismologist\",\n",
    "    \"engineer in charge during the Chernobyl disaster\",\n",
    "    \"pioneering computer engineer\",\n",
    "    \"spacecraft engineer\",\n",
    "    \"engineer and bullet train pioneer\",\n",
    "    \"engineer and optician\",\n",
    "    \"aircraft automotive engineer\",\n",
    "    \"helicopter and aerospace engineer\",\n",
    "    \"engineer and electronic computing pioneer\",\n",
    "    \"rocket engineer who worked at the Jet Propulsion Laboratory\",\n",
    "    \"aerospace engineer and a pioneer in helicopter design\",\n",
    "    \"ice road engineer\",\n",
    "    \"rail engineer\",\n",
    "    \"engineer and aerospace executive\",\n",
    "    \"engineer and co designer of NASA Apollo Lunar Module\",\n",
    "    \"aerospace engineer and member of the\",\n",
    "    \"communication satellites engineer\",\n",
    "    \"aeronautics and astronautic engineer\",\n",
    "    \"biomedical engineering pioneer\",\n",
    "    \"traffic engineer and inventor of the mini roundabout\",\n",
    "    \"chemical engineer for the Procter & Gamble company\",\n",
    "    \"aeronautical engineer who invented the tandem rotor placement in helicopter design\",\n",
    "    \"traffic engineer\",\n",
    "    \"Toyota engineer\",\n",
    "    \"scientist and electrical engineer\",\n",
    "    \"inventor and chemical engineer\",\n",
    "    \"engineer and cryptographer\",\n",
    "    \"computer engineer and scientist\",\n",
    "    \"aeronautical engineer and space scientist\",\n",
    "    \"engineer and R&D executive\",\n",
    "    \"civil engineer and industrial\",\n",
    "    \"thermal engineer\",\n",
    "    \"automotive executive and engineer\",\n",
    "    \"geologist and earthquake engineer\",\n",
    "    \"metallurgist and chemical engineer\",\n",
    "    \"engineer and food scientist\",\n",
    "    \"naval electronics engineer\",\n",
    "    \"control systems engineer\",\n",
    "    \"automotive engineer and executive\",\n",
    "    \"ship engineer\",\n",
    "    \"mechanical engineer and product\",\n",
    "    \"explosives engineer and inventor\",\n",
    "    \"aerospace engineer and fluid dynamicist\",\n",
    "    \"nuclear material engineer\",\n",
    "    \"plant breeding engineer\",\n",
    "    \"marine engineer and executive\",\n",
    "    \"industrial engineer and cycling\",\n",
    "    \"video game engineer\",\n",
    "    \"materials scientist and engineer\",\n",
    "    \"engineering manager\",\n",
    "    \"agronomist and engineer\",\n",
    "    \"engineer and control theorist\",\n",
    "    \"naval engineer and\",\n",
    "    \"construction executive and civil engineer\",\n",
    "    \"agricultural engineer and\",\n",
    "    \"refrigeration engineer\",\n",
    "    \"chemical engineer and scientist\",\n",
    "    \"engineer and scientist\",\n",
    "    \"ice drilling engineer\",\n",
    "    \"ornithologist and engineer\",\n",
    "    \"motorsport engineer\",\n",
    "    \"computer engineer and NASA official\",\n",
    "    \"mechanical engineer and anti nuclear power\",\n",
    "    \"bridge structural engineer\",\n",
    "    \"aircraft engineer\",\n",
    "    \"soil mechanics engineer\",\n",
    "    \"microwave electronics and communications engineer\",\n",
    "    \"camera engineer\",\n",
    "    \"engineer and rocket scientist\",\n",
    "    \"NASA engineer and\",\n",
    "    \"engineer and the second Director of Lockheed Skunk Works from to\",\n",
    "    \"aeronautics engineer\",\n",
    "    \"earthquake engineer\",\n",
    "    \"computational engineer\",\n",
    "    \"engineer and chief executive\",\n",
    "    \"computer engineer and systems scientist\",\n",
    "    \"engineer and inventor of the hovercraft\",\n",
    "    \"railway signal engineer\",\n",
    "    \"and railway engineer\",\n",
    "    \"railway engineer\",\n",
    "    \"optoelectronic engineer\",\n",
    "    \"materials engineer\",\n",
    "    \"auto engineer\",\n",
    "    \"Hall of Fame computer engineer\",\n",
    "    \"flight engineer\",\n",
    "    \"airplane designer and engineer\",\n",
    "    \"and race chassis engineer\",\n",
    "    \"consulting nuclear engineer\",\n",
    "    \"engineering construction executive\",\n",
    "    \"engineering scientist\",\n",
    "    \"systems engineer\",\n",
    "    \"aeroelasticity engineer and aircraft designer\",\n",
    "    \"engineer and technology executive\",\n",
    "    \"biochemical engineer\",\n",
    "    \"particle accelerator specialist and engineer\",\n",
    "    \"hydrogeologist and environmental engineer\",\n",
    "    \"port and harbor engineer\",\n",
    "    \"rocket engineer\",\n",
    "    \"aerospace engineer and NASA manager\",\n",
    "    \"engineer and aircraft designer\",\n",
    "    \"chemical engineer and inventor\",\n",
    "    \"electrical engineer and inventor\",\n",
    "    \"metallurgical engineer\",\n",
    "    \"of aerospace engineering\",\n",
    "    \"and aerospace engineer\",\n",
    "    \"space engineer\",\n",
    "    \"electronic engineer\",\n",
    "    \"design engineer\",\n",
    "    \"NASA engineer\",\n",
    "    \"naval engineer\",\n",
    "    \"petroleum engineer\",\n",
    "    \"motorcycle engineer\",\n",
    "    \"satellite engineer\",\n",
    "    \"engineer and racing car designer\",\n",
    "    \"biomedical engineer\",\n",
    "    \"environmental engineer\",\n",
    "    \"agricultural engineer\",\n",
    "    \"irrigation engineer\",\n",
    "    \"engineer and computer scientist\",\n",
    "    \"industrial engineer\",\n",
    "    \"bioengineer\",\n",
    "    \"scientist and engineer\",\n",
    "    \"acoustical engineer\",\n",
    "    \"mining engineer and\",\n",
    "    \"mining engineer\",\n",
    "    \"aviation engineer\",\n",
    "    \"hydraulic engineer\",\n",
    "    \"software engineer\",\n",
    "    \"audio engineer and inventor\",\n",
    "    \"audio engineer and\",\n",
    "    \"audio engineer\",\n",
    "    \"telecommunications engineer\",\n",
    "    \"electronics engineer and\",\n",
    "    \"electronics engineer\",\n",
    "    \"nuclear engineer\",\n",
    "    \"computer engineer\",\n",
    "    \"and automotive engineer\",\n",
    "    \"automotive engineer\",\n",
    "    \"structural engineer and\",\n",
    "    \"structural engineer\",\n",
    "    \"mechanical engineer and\",\n",
    "    \"mechanical engineering\",\n",
    "    \"mechanical engineer\",\n",
    "    \"and aeronautical engineer\",\n",
    "    \"aeronautical engineer\",\n",
    "    \"aerospace engineer\",\n",
    "    \"and chemical engineer\",\n",
    "    \"chemical engineer and\",\n",
    "    \"chemical engineer\",\n",
    "    \"civil engineering\",\n",
    "    \"and civil engineer\",\n",
    "    \"civil engineer and\",\n",
    "    \"civil engineer\",\n",
    "    \"of electrical engineering\",\n",
    "    \"electrical engineer and\",\n",
    "    \"electrical engineer\",\n",
    "    \"engineer and inventor\",\n",
    "    \"and aircraft engineer\",\n",
    "    \"engineer and space\",\n",
    "    \"and test engineer\",\n",
    "    \"and engineer for NASA\",\n",
    "    \"transportation engineer and\",\n",
    "    \"optical engineer\",\n",
    "    \"inventor and engineer\",\n",
    "    \"and cycling engineer\",\n",
    "    \"broadcast engineer\",\n",
    "    \"and aeroplane engineer\",\n",
    "    \"Electrical engineering\",\n",
    "    \"paper engineer and\",\n",
    "    \"of engineering\",\n",
    "    \"engineering\",\n",
    "    \"and engineer\",\n",
    "    \"engineer and\",\n",
    "    \"engineer\",\n",
    "]\n",
    "\n",
    "business_farming = [\"co founder of Matchbox Toys\"]\n",
    "academia_humanities = []\n",
    "law_enf_military_operator = [\"Deputy Secretary of Defense\"]\n",
    "spiritual = []\n",
    "social = []\n",
    "crime = []\n",
    "event_record_other = [\"taken hostage in\"]\n",
    "other_species = []"
   ]
  },
  {
   "cell_type": "code",
   "execution_count": 77,
   "id": "85f0ea43",
   "metadata": {},
   "outputs": [
    {
     "data": {
      "application/javascript": [
       "\n",
       "            setTimeout(function() {\n",
       "                var nbb_cell_id = 77;\n",
       "                var nbb_unformatted_code = \"# Hard-coding values to \\\"sound engineer\\\" which will correctly categorize entries in arts\\nindex = df[\\n    df[\\\"link\\\"] == \\\"https://en.wikipedia.org/wiki/Bruce_Jackson_(audio_engineer)\\\"\\n].index\\ndf.loc[index, \\\"info_2\\\"] = \\\"sound engineer\\\"\\n\\nindex = df[df[\\\"link\\\"] == \\\"https://en.wikipedia.org/wiki/Seth_Firkins\\\"].index\\ndf.loc[index, \\\"info_2\\\"] = \\\"sound engineer\\\"\";\n",
       "                var nbb_formatted_code = \"# Hard-coding values to \\\"sound engineer\\\" which will correctly categorize entries in arts\\nindex = df[\\n    df[\\\"link\\\"] == \\\"https://en.wikipedia.org/wiki/Bruce_Jackson_(audio_engineer)\\\"\\n].index\\ndf.loc[index, \\\"info_2\\\"] = \\\"sound engineer\\\"\\n\\nindex = df[df[\\\"link\\\"] == \\\"https://en.wikipedia.org/wiki/Seth_Firkins\\\"].index\\ndf.loc[index, \\\"info_2\\\"] = \\\"sound engineer\\\"\";\n",
       "                var nbb_cells = Jupyter.notebook.get_cells();\n",
       "                for (var i = 0; i < nbb_cells.length; ++i) {\n",
       "                    if (nbb_cells[i].input_prompt_number == nbb_cell_id) {\n",
       "                        if (nbb_cells[i].get_text() == nbb_unformatted_code) {\n",
       "                             nbb_cells[i].set_text(nbb_formatted_code);\n",
       "                        }\n",
       "                        break;\n",
       "                    }\n",
       "                }\n",
       "            }, 500);\n",
       "            "
      ],
      "text/plain": [
       "<IPython.core.display.Javascript object>"
      ]
     },
     "metadata": {},
     "output_type": "display_data"
    }
   ],
   "source": [
    "# Hard-coding values to \"sound engineer\" which will correctly categorize entries in arts\n",
    "index = df[\n",
    "    df[\"link\"] == \"https://en.wikipedia.org/wiki/Bruce_Jackson_(audio_engineer)\"\n",
    "].index\n",
    "df.loc[index, \"info_2\"] = \"sound engineer\"\n",
    "\n",
    "index = df[df[\"link\"] == \"https://en.wikipedia.org/wiki/Seth_Firkins\"].index\n",
    "df.loc[index, \"info_2\"] = \"sound engineer\""
   ]
  },
  {
   "cell_type": "code",
   "execution_count": 78,
   "id": "31380d49",
   "metadata": {},
   "outputs": [
    {
     "data": {
      "application/javascript": [
       "\n",
       "            setTimeout(function() {\n",
       "                var nbb_cell_id = 78;\n",
       "                var nbb_unformatted_code = \"# Hard-coding values to \\\"audio engineer\\\" which will correctly categorize entries in sciences\\nindex = df[df[\\\"link\\\"] == \\\"https://en.wikipedia.org/wiki/Alan_R._Pearlman\\\"].index\\ndf.loc[index, \\\"info_2\\\"] = \\\"audio engineer\\\"\\n\\nindex = df[df[\\\"link\\\"] == \\\"https://en.wikipedia.org/wiki/Bruno_Vanryb\\\"].index\\ndf.loc[index, \\\"info_2\\\"] = \\\"audio engineer\\\"\\n\\nindex = df[df[\\\"link\\\"] == \\\"https://en.wikipedia.org/wiki/Dave_Smith_(engineer)\\\"].index\\ndf.loc[index, \\\"info_2\\\"] = \\\"audio engineer\\\"\";\n",
       "                var nbb_formatted_code = \"# Hard-coding values to \\\"audio engineer\\\" which will correctly categorize entries in sciences\\nindex = df[df[\\\"link\\\"] == \\\"https://en.wikipedia.org/wiki/Alan_R._Pearlman\\\"].index\\ndf.loc[index, \\\"info_2\\\"] = \\\"audio engineer\\\"\\n\\nindex = df[df[\\\"link\\\"] == \\\"https://en.wikipedia.org/wiki/Bruno_Vanryb\\\"].index\\ndf.loc[index, \\\"info_2\\\"] = \\\"audio engineer\\\"\\n\\nindex = df[df[\\\"link\\\"] == \\\"https://en.wikipedia.org/wiki/Dave_Smith_(engineer)\\\"].index\\ndf.loc[index, \\\"info_2\\\"] = \\\"audio engineer\\\"\";\n",
       "                var nbb_cells = Jupyter.notebook.get_cells();\n",
       "                for (var i = 0; i < nbb_cells.length; ++i) {\n",
       "                    if (nbb_cells[i].input_prompt_number == nbb_cell_id) {\n",
       "                        if (nbb_cells[i].get_text() == nbb_unformatted_code) {\n",
       "                             nbb_cells[i].set_text(nbb_formatted_code);\n",
       "                        }\n",
       "                        break;\n",
       "                    }\n",
       "                }\n",
       "            }, 500);\n",
       "            "
      ],
      "text/plain": [
       "<IPython.core.display.Javascript object>"
      ]
     },
     "metadata": {},
     "output_type": "display_data"
    }
   ],
   "source": [
    "# Hard-coding values to \"audio engineer\" which will correctly categorize entries in sciences\n",
    "index = df[df[\"link\"] == \"https://en.wikipedia.org/wiki/Alan_R._Pearlman\"].index\n",
    "df.loc[index, \"info_2\"] = \"audio engineer\"\n",
    "\n",
    "index = df[df[\"link\"] == \"https://en.wikipedia.org/wiki/Bruno_Vanryb\"].index\n",
    "df.loc[index, \"info_2\"] = \"audio engineer\"\n",
    "\n",
    "index = df[df[\"link\"] == \"https://en.wikipedia.org/wiki/Dave_Smith_(engineer)\"].index\n",
    "df.loc[index, \"info_2\"] = \"audio engineer\""
   ]
  },
  {
   "cell_type": "markdown",
   "id": "b328cbca",
   "metadata": {},
   "source": [
    "#### Creating `known_for_dict` Dictionary of Category Keys and Specific Role Lists of Values"
   ]
  },
  {
   "cell_type": "code",
   "execution_count": 79,
   "id": "0e878a71",
   "metadata": {},
   "outputs": [
    {
     "data": {
      "application/javascript": [
       "\n",
       "            setTimeout(function() {\n",
       "                var nbb_cell_id = 79;\n",
       "                var nbb_unformatted_code = \"# Combining separate lists into one dictionary\\nknown_for_dict = {\\n    \\\"social\\\": social,\\n    \\\"spiritual\\\": spiritual,\\n    \\\"academia_humanities\\\": academia_humanities,\\n    \\\"business_farming\\\": business_farming,\\n    \\\"arts\\\": arts,\\n    \\\"sciences\\\": sciences,\\n    \\\"politics_govt_law\\\": politics_govt_law,\\n    \\\"law_enf_military_operator\\\": law_enf_military_operator,\\n    \\\"crime\\\": crime,\\n    \\\"event_record_other\\\": event_record_other,\\n    \\\"other_species\\\": other_species,\\n    \\\"sports\\\": sports,\\n}\";\n",
       "                var nbb_formatted_code = \"# Combining separate lists into one dictionary\\nknown_for_dict = {\\n    \\\"social\\\": social,\\n    \\\"spiritual\\\": spiritual,\\n    \\\"academia_humanities\\\": academia_humanities,\\n    \\\"business_farming\\\": business_farming,\\n    \\\"arts\\\": arts,\\n    \\\"sciences\\\": sciences,\\n    \\\"politics_govt_law\\\": politics_govt_law,\\n    \\\"law_enf_military_operator\\\": law_enf_military_operator,\\n    \\\"crime\\\": crime,\\n    \\\"event_record_other\\\": event_record_other,\\n    \\\"other_species\\\": other_species,\\n    \\\"sports\\\": sports,\\n}\";\n",
       "                var nbb_cells = Jupyter.notebook.get_cells();\n",
       "                for (var i = 0; i < nbb_cells.length; ++i) {\n",
       "                    if (nbb_cells[i].input_prompt_number == nbb_cell_id) {\n",
       "                        if (nbb_cells[i].get_text() == nbb_unformatted_code) {\n",
       "                             nbb_cells[i].set_text(nbb_formatted_code);\n",
       "                        }\n",
       "                        break;\n",
       "                    }\n",
       "                }\n",
       "            }, 500);\n",
       "            "
      ],
      "text/plain": [
       "<IPython.core.display.Javascript object>"
      ]
     },
     "metadata": {},
     "output_type": "display_data"
    }
   ],
   "source": [
    "# Combining separate lists into one dictionary\n",
    "known_for_dict = {\n",
    "    \"social\": social,\n",
    "    \"spiritual\": spiritual,\n",
    "    \"academia_humanities\": academia_humanities,\n",
    "    \"business_farming\": business_farming,\n",
    "    \"arts\": arts,\n",
    "    \"sciences\": sciences,\n",
    "    \"politics_govt_law\": politics_govt_law,\n",
    "    \"law_enf_military_operator\": law_enf_military_operator,\n",
    "    \"crime\": crime,\n",
    "    \"event_record_other\": event_record_other,\n",
    "    \"other_species\": other_species,\n",
    "    \"sports\": sports,\n",
    "}"
   ]
  },
  {
   "cell_type": "markdown",
   "id": "f20d06d3",
   "metadata": {},
   "source": [
    "#### Extracting Category from `info_2`"
   ]
  },
  {
   "cell_type": "code",
   "execution_count": 80,
   "id": "114163d5",
   "metadata": {},
   "outputs": [
    {
     "name": "stdout",
     "output_type": "stream",
     "text": [
      "CPU times: total: 1min 56s\n",
      "Wall time: 1min 56s\n"
     ]
    },
    {
     "data": {
      "text/html": [
       "<div>\n",
       "<style scoped>\n",
       "    .dataframe tbody tr th:only-of-type {\n",
       "        vertical-align: middle;\n",
       "    }\n",
       "\n",
       "    .dataframe tbody tr th {\n",
       "        vertical-align: top;\n",
       "    }\n",
       "\n",
       "    .dataframe thead th {\n",
       "        text-align: right;\n",
       "    }\n",
       "</style>\n",
       "<table border=\"1\" class=\"dataframe\">\n",
       "  <thead>\n",
       "    <tr style=\"text-align: right;\">\n",
       "      <th></th>\n",
       "      <th>day</th>\n",
       "      <th>name</th>\n",
       "      <th>info</th>\n",
       "      <th>link</th>\n",
       "      <th>num_references</th>\n",
       "      <th>year</th>\n",
       "      <th>month</th>\n",
       "      <th>info_parenth</th>\n",
       "      <th>info_1</th>\n",
       "      <th>info_2</th>\n",
       "      <th>info_3</th>\n",
       "      <th>info_4</th>\n",
       "      <th>info_5</th>\n",
       "      <th>info_6</th>\n",
       "      <th>info_7</th>\n",
       "      <th>info_8</th>\n",
       "      <th>info_9</th>\n",
       "      <th>info_10</th>\n",
       "      <th>info_11</th>\n",
       "      <th>age</th>\n",
       "      <th>cause_of_death</th>\n",
       "      <th>place_1</th>\n",
       "      <th>place_2</th>\n",
       "      <th>info_parenth_copy</th>\n",
       "      <th>log_num_references</th>\n",
       "      <th>sciences</th>\n",
       "      <th>social</th>\n",
       "      <th>spiritual</th>\n",
       "      <th>academia_humanities</th>\n",
       "      <th>business_farming</th>\n",
       "      <th>arts</th>\n",
       "      <th>sports</th>\n",
       "      <th>law_enf_military_operator</th>\n",
       "      <th>politics_govt_law</th>\n",
       "      <th>crime</th>\n",
       "      <th>event_record_other</th>\n",
       "      <th>other_species</th>\n",
       "      <th>num_categories</th>\n",
       "    </tr>\n",
       "  </thead>\n",
       "  <tbody>\n",
       "    <tr>\n",
       "      <th>78494</th>\n",
       "      <td>2</td>\n",
       "      <td>Edward Spiegel</td>\n",
       "      <td>, 88, American physicist.</td>\n",
       "      <td>https://en.wikipedia.org/wiki/Edward_Spiegel</td>\n",
       "      <td>3</td>\n",
       "      <td>2020</td>\n",
       "      <td>January</td>\n",
       "      <td>None</td>\n",
       "      <td>None</td>\n",
       "      <td></td>\n",
       "      <td>None</td>\n",
       "      <td>None</td>\n",
       "      <td>None</td>\n",
       "      <td>None</td>\n",
       "      <td>None</td>\n",
       "      <td>None</td>\n",
       "      <td>None</td>\n",
       "      <td>None</td>\n",
       "      <td>None</td>\n",
       "      <td>88.0</td>\n",
       "      <td>None</td>\n",
       "      <td>United States of America</td>\n",
       "      <td>None</td>\n",
       "      <td>None</td>\n",
       "      <td>1.386294</td>\n",
       "      <td>1</td>\n",
       "      <td>0</td>\n",
       "      <td>0</td>\n",
       "      <td>0</td>\n",
       "      <td>0</td>\n",
       "      <td>0</td>\n",
       "      <td>0</td>\n",
       "      <td>0</td>\n",
       "      <td>0</td>\n",
       "      <td>0</td>\n",
       "      <td>0</td>\n",
       "      <td>0</td>\n",
       "      <td>1</td>\n",
       "    </tr>\n",
       "    <tr>\n",
       "      <th>42699</th>\n",
       "      <td>1</td>\n",
       "      <td>Karen Muir</td>\n",
       "      <td>, 60, South African swimmer  and physician, breast cancer.</td>\n",
       "      <td>https://en.wikipedia.org/wiki/Karen_Muir</td>\n",
       "      <td>10</td>\n",
       "      <td>2013</td>\n",
       "      <td>April</td>\n",
       "      <td>youngest sporting world record holder</td>\n",
       "      <td>None</td>\n",
       "      <td>swimmer</td>\n",
       "      <td>breast cancer</td>\n",
       "      <td>None</td>\n",
       "      <td>None</td>\n",
       "      <td>None</td>\n",
       "      <td>None</td>\n",
       "      <td>None</td>\n",
       "      <td>None</td>\n",
       "      <td>None</td>\n",
       "      <td>None</td>\n",
       "      <td>60.0</td>\n",
       "      <td>None</td>\n",
       "      <td>South Africa</td>\n",
       "      <td>None</td>\n",
       "      <td>youngest sporting world record holder</td>\n",
       "      <td>2.397895</td>\n",
       "      <td>1</td>\n",
       "      <td>0</td>\n",
       "      <td>0</td>\n",
       "      <td>0</td>\n",
       "      <td>0</td>\n",
       "      <td>0</td>\n",
       "      <td>0</td>\n",
       "      <td>0</td>\n",
       "      <td>0</td>\n",
       "      <td>0</td>\n",
       "      <td>0</td>\n",
       "      <td>0</td>\n",
       "      <td>1</td>\n",
       "    </tr>\n",
       "  </tbody>\n",
       "</table>\n",
       "</div>"
      ],
      "text/plain": [
       "      day            name  \\\n",
       "78494   2  Edward Spiegel   \n",
       "42699   1      Karen Muir   \n",
       "\n",
       "                                                             info  \\\n",
       "78494                                   , 88, American physicist.   \n",
       "42699  , 60, South African swimmer  and physician, breast cancer.   \n",
       "\n",
       "                                               link  num_references  year  \\\n",
       "78494  https://en.wikipedia.org/wiki/Edward_Spiegel               3  2020   \n",
       "42699      https://en.wikipedia.org/wiki/Karen_Muir              10  2013   \n",
       "\n",
       "         month                           info_parenth info_1   info_2  \\\n",
       "78494  January                                   None   None            \n",
       "42699    April  youngest sporting world record holder   None  swimmer   \n",
       "\n",
       "              info_3 info_4 info_5 info_6 info_7 info_8 info_9 info_10  \\\n",
       "78494           None   None   None   None   None   None   None    None   \n",
       "42699  breast cancer   None   None   None   None   None   None    None   \n",
       "\n",
       "      info_11   age cause_of_death                   place_1 place_2  \\\n",
       "78494    None  88.0           None  United States of America    None   \n",
       "42699    None  60.0           None              South Africa    None   \n",
       "\n",
       "                           info_parenth_copy  log_num_references  sciences  \\\n",
       "78494                                   None            1.386294         1   \n",
       "42699  youngest sporting world record holder            2.397895         1   \n",
       "\n",
       "       social  spiritual  academia_humanities  business_farming  arts  sports  \\\n",
       "78494       0          0                    0                 0     0       0   \n",
       "42699       0          0                    0                 0     0       0   \n",
       "\n",
       "       law_enf_military_operator  politics_govt_law  crime  \\\n",
       "78494                          0                  0      0   \n",
       "42699                          0                  0      0   \n",
       "\n",
       "       event_record_other  other_species  num_categories  \n",
       "78494                   0              0               1  \n",
       "42699                   0              0               1  "
      ]
     },
     "execution_count": 80,
     "metadata": {},
     "output_type": "execute_result"
    },
    {
     "data": {
      "application/javascript": [
       "\n",
       "            setTimeout(function() {\n",
       "                var nbb_cell_id = 80;\n",
       "                var nbb_unformatted_code = \"%%time\\n\\n# Dictionary version\\nsearch_dict = known_for_dict\\n\\n# Column to check\\ncolumn = 'info_2'\\n\\n# Dataframe\\ndataframe = df[column].notna()\\n\\n# For loop to find role in column and extract it as category\\nfor category, category_lst in search_dict.items():\\n    for role in category_lst:\\n        for index in dataframe.index:\\n            item = df.loc[index, column]\\n            if item:\\n                if role in item:\\n                    df.loc[index, category] = 1\\n                    df.loc[index, column] = item.replace(role, '').strip()\\n\\n# Updating num_categories\\ndf[\\\"num_categories\\\"] = df[known_for_dict.keys()].sum(axis=1)\\n\\n# Checking a sample of rows\\ndf[df['sciences'] ==1].sample(2)\";\n",
       "                var nbb_formatted_code = \"%%time\\n\\n# Dictionary version\\nsearch_dict = known_for_dict\\n\\n# Column to check\\ncolumn = 'info_2'\\n\\n# Dataframe\\ndataframe = df[column].notna()\\n\\n# For loop to find role in column and extract it as category\\nfor category, category_lst in search_dict.items():\\n    for role in category_lst:\\n        for index in dataframe.index:\\n            item = df.loc[index, column]\\n            if item:\\n                if role in item:\\n                    df.loc[index, category] = 1\\n                    df.loc[index, column] = item.replace(role, '').strip()\\n\\n# Updating num_categories\\ndf[\\\"num_categories\\\"] = df[known_for_dict.keys()].sum(axis=1)\\n\\n# Checking a sample of rows\\ndf[df['sciences'] ==1].sample(2)\";\n",
       "                var nbb_cells = Jupyter.notebook.get_cells();\n",
       "                for (var i = 0; i < nbb_cells.length; ++i) {\n",
       "                    if (nbb_cells[i].input_prompt_number == nbb_cell_id) {\n",
       "                        if (nbb_cells[i].get_text() == nbb_unformatted_code) {\n",
       "                             nbb_cells[i].set_text(nbb_formatted_code);\n",
       "                        }\n",
       "                        break;\n",
       "                    }\n",
       "                }\n",
       "            }, 500);\n",
       "            "
      ],
      "text/plain": [
       "<IPython.core.display.Javascript object>"
      ]
     },
     "metadata": {},
     "output_type": "display_data"
    }
   ],
   "source": [
    "%%time\n",
    "\n",
    "# Dictionary version\n",
    "search_dict = known_for_dict\n",
    "\n",
    "# Column to check\n",
    "column = 'info_2'\n",
    "\n",
    "# Dataframe\n",
    "dataframe = df[column].notna()\n",
    "\n",
    "# For loop to find role in column and extract it as category\n",
    "for category, category_lst in search_dict.items():\n",
    "    for role in category_lst:\n",
    "        for index in dataframe.index:\n",
    "            item = df.loc[index, column]\n",
    "            if item:\n",
    "                if role in item:\n",
    "                    df.loc[index, category] = 1\n",
    "                    df.loc[index, column] = item.replace(role, '').strip()\n",
    "\n",
    "# Updating num_categories\n",
    "df[\"num_categories\"] = df[known_for_dict.keys()].sum(axis=1)\n",
    "\n",
    "# Checking a sample of rows\n",
    "df[df['sciences'] ==1].sample(2)"
   ]
  },
  {
   "cell_type": "markdown",
   "id": "e66f3cc2",
   "metadata": {},
   "source": [
    "#### Checking the Number of Rows without a First Category"
   ]
  },
  {
   "cell_type": "code",
   "execution_count": 81,
   "id": "81909ad0",
   "metadata": {},
   "outputs": [
    {
     "name": "stdout",
     "output_type": "stream",
     "text": [
      "There are 35348 entries without any known_for category.\n"
     ]
    },
    {
     "data": {
      "application/javascript": [
       "\n",
       "            setTimeout(function() {\n",
       "                var nbb_cell_id = 81;\n",
       "                var nbb_unformatted_code = \"# Checking the number of rows without a first category\\nprint(\\n    f'There are {len(df[df[\\\"num_categories\\\"]==0])} entries without any known_for category.'\\n)\";\n",
       "                var nbb_formatted_code = \"# Checking the number of rows without a first category\\nprint(\\n    f'There are {len(df[df[\\\"num_categories\\\"]==0])} entries without any known_for category.'\\n)\";\n",
       "                var nbb_cells = Jupyter.notebook.get_cells();\n",
       "                for (var i = 0; i < nbb_cells.length; ++i) {\n",
       "                    if (nbb_cells[i].input_prompt_number == nbb_cell_id) {\n",
       "                        if (nbb_cells[i].get_text() == nbb_unformatted_code) {\n",
       "                             nbb_cells[i].set_text(nbb_formatted_code);\n",
       "                        }\n",
       "                        break;\n",
       "                    }\n",
       "                }\n",
       "            }, 500);\n",
       "            "
      ],
      "text/plain": [
       "<IPython.core.display.Javascript object>"
      ]
     },
     "metadata": {},
     "output_type": "display_data"
    }
   ],
   "source": [
    "# Checking the number of rows without a first category\n",
    "print(\n",
    "    f'There are {len(df[df[\"num_categories\"]==0])} entries without any known_for category.'\n",
    ")"
   ]
  },
  {
   "cell_type": "markdown",
   "id": "b40f49dd",
   "metadata": {},
   "source": [
    "#### Observations:\n",
    "- We will proceed to rebuild `known_for_dict` for the next iteration."
   ]
  },
  {
   "cell_type": "markdown",
   "id": "6a528e2c",
   "metadata": {},
   "source": [
    "#### Finding `known_for` Roles in `info_2`"
   ]
  },
  {
   "cell_type": "code",
   "execution_count": 83,
   "id": "9d5910f3",
   "metadata": {},
   "outputs": [
    {
     "data": {
      "application/javascript": [
       "\n",
       "            setTimeout(function() {\n",
       "                var nbb_cell_id = 83;\n",
       "                var nbb_unformatted_code = \"# Obtaining values for column and their counts\\nroles_list = df[\\\"info_2\\\"].value_counts(ascending=True).index.tolist()\";\n",
       "                var nbb_formatted_code = \"# Obtaining values for column and their counts\\nroles_list = df[\\\"info_2\\\"].value_counts(ascending=True).index.tolist()\";\n",
       "                var nbb_cells = Jupyter.notebook.get_cells();\n",
       "                for (var i = 0; i < nbb_cells.length; ++i) {\n",
       "                    if (nbb_cells[i].input_prompt_number == nbb_cell_id) {\n",
       "                        if (nbb_cells[i].get_text() == nbb_unformatted_code) {\n",
       "                             nbb_cells[i].set_text(nbb_formatted_code);\n",
       "                        }\n",
       "                        break;\n",
       "                    }\n",
       "                }\n",
       "            }, 500);\n",
       "            "
      ],
      "text/plain": [
       "<IPython.core.display.Javascript object>"
      ]
     },
     "metadata": {},
     "output_type": "display_data"
    }
   ],
   "source": [
    "# Obtaining values for column and their counts\n",
    "roles_list = df[\"info_2\"].value_counts(ascending=True).index.tolist()"
   ]
  },
  {
   "cell_type": "code",
   "execution_count": 444,
   "id": "94956db3",
   "metadata": {},
   "outputs": [
    {
     "data": {
      "application/javascript": [
       "\n",
       "            setTimeout(function() {\n",
       "                var nbb_cell_id = 444;\n",
       "                var nbb_unformatted_code = \"# # Code to check each value\\n# roles_list.pop()\";\n",
       "                var nbb_formatted_code = \"# # Code to check each value\\n# roles_list.pop()\";\n",
       "                var nbb_cells = Jupyter.notebook.get_cells();\n",
       "                for (var i = 0; i < nbb_cells.length; ++i) {\n",
       "                    if (nbb_cells[i].input_prompt_number == nbb_cell_id) {\n",
       "                        if (nbb_cells[i].get_text() == nbb_unformatted_code) {\n",
       "                             nbb_cells[i].set_text(nbb_formatted_code);\n",
       "                        }\n",
       "                        break;\n",
       "                    }\n",
       "                }\n",
       "            }, 500);\n",
       "            "
      ],
      "text/plain": [
       "<IPython.core.display.Javascript object>"
      ]
     },
     "metadata": {},
     "output_type": "display_data"
    }
   ],
   "source": [
    "# # Code to check each value\n",
    "# roles_list.pop()"
   ]
  },
  {
   "cell_type": "code",
   "execution_count": 443,
   "id": "e1147076",
   "metadata": {},
   "outputs": [
    {
     "data": {
      "application/javascript": [
       "\n",
       "            setTimeout(function() {\n",
       "                var nbb_cell_id = 443;\n",
       "                var nbb_unformatted_code = \"# # Create specific_roles_list for above popped value\\n# specific_roles_list = (\\n#     df.loc[\\n#         [index for index in df.index if \\\"philanthropist\\\" in df.loc[index, \\\"info\\\"]],\\n#         \\\"info_2\\\",\\n#     ]\\n#     .value_counts()\\n#     .index.tolist()\\n# )\";\n",
       "                var nbb_formatted_code = \"# # Create specific_roles_list for above popped value\\n# specific_roles_list = (\\n#     df.loc[\\n#         [index for index in df.index if \\\"philanthropist\\\" in df.loc[index, \\\"info\\\"]],\\n#         \\\"info_2\\\",\\n#     ]\\n#     .value_counts()\\n#     .index.tolist()\\n# )\";\n",
       "                var nbb_cells = Jupyter.notebook.get_cells();\n",
       "                for (var i = 0; i < nbb_cells.length; ++i) {\n",
       "                    if (nbb_cells[i].input_prompt_number == nbb_cell_id) {\n",
       "                        if (nbb_cells[i].get_text() == nbb_unformatted_code) {\n",
       "                             nbb_cells[i].set_text(nbb_formatted_code);\n",
       "                        }\n",
       "                        break;\n",
       "                    }\n",
       "                }\n",
       "            }, 500);\n",
       "            "
      ],
      "text/plain": [
       "<IPython.core.display.Javascript object>"
      ]
     },
     "metadata": {},
     "output_type": "display_data"
    }
   ],
   "source": [
    "# # Create specific_roles_list for above popped value\n",
    "# specific_roles_list = (\n",
    "#     df.loc[\n",
    "#         [index for index in df.index if \"philanthropist\" in df.loc[index, \"info\"]],\n",
    "#         \"info_2\",\n",
    "#     ]\n",
    "#     .value_counts()\n",
    "#     .index.tolist()\n",
    "# )"
   ]
  },
  {
   "cell_type": "code",
   "execution_count": 442,
   "id": "985b654e",
   "metadata": {},
   "outputs": [
    {
     "data": {
      "application/javascript": [
       "\n",
       "            setTimeout(function() {\n",
       "                var nbb_cell_id = 442;\n",
       "                var nbb_unformatted_code = \"# # Code to check each specific value\\n# specific_roles_list.pop()\";\n",
       "                var nbb_formatted_code = \"# # Code to check each specific value\\n# specific_roles_list.pop()\";\n",
       "                var nbb_cells = Jupyter.notebook.get_cells();\n",
       "                for (var i = 0; i < nbb_cells.length; ++i) {\n",
       "                    if (nbb_cells[i].input_prompt_number == nbb_cell_id) {\n",
       "                        if (nbb_cells[i].get_text() == nbb_unformatted_code) {\n",
       "                             nbb_cells[i].set_text(nbb_formatted_code);\n",
       "                        }\n",
       "                        break;\n",
       "                    }\n",
       "                }\n",
       "            }, 500);\n",
       "            "
      ],
      "text/plain": [
       "<IPython.core.display.Javascript object>"
      ]
     },
     "metadata": {},
     "output_type": "display_data"
    }
   ],
   "source": [
    "# # Code to check each specific value\n",
    "# specific_roles_list.pop()"
   ]
  },
  {
   "cell_type": "code",
   "execution_count": 445,
   "id": "0da8214e",
   "metadata": {},
   "outputs": [
    {
     "data": {
      "application/javascript": [
       "\n",
       "            setTimeout(function() {\n",
       "                var nbb_cell_id = 445;\n",
       "                var nbb_unformatted_code = \"# # Example code to quick-screen values that may overlap categories\\n# df.loc[\\n#     [\\n#         index\\n#         for index in df.index\\n#         if \\\"heiress and philanthropist\\\" in df.loc[index, \\\"info\\\"]\\n#     ]\\n# ]\";\n",
       "                var nbb_formatted_code = \"# # Example code to quick-screen values that may overlap categories\\n# df.loc[\\n#     [\\n#         index\\n#         for index in df.index\\n#         if \\\"heiress and philanthropist\\\" in df.loc[index, \\\"info\\\"]\\n#     ]\\n# ]\";\n",
       "                var nbb_cells = Jupyter.notebook.get_cells();\n",
       "                for (var i = 0; i < nbb_cells.length; ++i) {\n",
       "                    if (nbb_cells[i].input_prompt_number == nbb_cell_id) {\n",
       "                        if (nbb_cells[i].get_text() == nbb_unformatted_code) {\n",
       "                             nbb_cells[i].set_text(nbb_formatted_code);\n",
       "                        }\n",
       "                        break;\n",
       "                    }\n",
       "                }\n",
       "            }, 500);\n",
       "            "
      ],
      "text/plain": [
       "<IPython.core.display.Javascript object>"
      ]
     },
     "metadata": {},
     "output_type": "display_data"
    }
   ],
   "source": [
    "# # Example code to quick-screen values that may overlap categories\n",
    "# df.loc[\n",
    "#     [\n",
    "#         index\n",
    "#         for index in df.index\n",
    "#         if \"heiress and philanthropist\" in df.loc[index, \"info\"]\n",
    "#     ]\n",
    "# ]"
   ]
  },
  {
   "cell_type": "code",
   "execution_count": null,
   "id": "d1005adc",
   "metadata": {},
   "outputs": [],
   "source": [
    "# # Example code to quick-screen values that may overlap categories\n",
    "# df.loc[\n",
    "#     [\n",
    "#         index\n",
    "#         for index in df.index\n",
    "#         if \"outlaw country music singer songwriter\" in df.loc[index, \"info\"]\n",
    "#     ]\n",
    "# ]"
   ]
  },
  {
   "cell_type": "code",
   "execution_count": 446,
   "id": "4a90aa43",
   "metadata": {},
   "outputs": [
    {
     "data": {
      "application/javascript": [
       "\n",
       "            setTimeout(function() {\n",
       "                var nbb_cell_id = 446;\n",
       "                var nbb_unformatted_code = \"# # Example code to quick-check a specific entry\\n# df[df[\\\"info_2\\\"] == \\\"philanthropist and matriarch of the Bronfman family\\\"]\";\n",
       "                var nbb_formatted_code = \"# # Example code to quick-check a specific entry\\n# df[df[\\\"info_2\\\"] == \\\"philanthropist and matriarch of the Bronfman family\\\"]\";\n",
       "                var nbb_cells = Jupyter.notebook.get_cells();\n",
       "                for (var i = 0; i < nbb_cells.length; ++i) {\n",
       "                    if (nbb_cells[i].input_prompt_number == nbb_cell_id) {\n",
       "                        if (nbb_cells[i].get_text() == nbb_unformatted_code) {\n",
       "                             nbb_cells[i].set_text(nbb_formatted_code);\n",
       "                        }\n",
       "                        break;\n",
       "                    }\n",
       "                }\n",
       "            }, 500);\n",
       "            "
      ],
      "text/plain": [
       "<IPython.core.display.Javascript object>"
      ]
     },
     "metadata": {},
     "output_type": "display_data"
    }
   ],
   "source": [
    "# # Example code to quick-check a specific entry\n",
    "# df[df[\"info_2\"] == \"philanthropist and matriarch of the Bronfman family\"]"
   ]
  },
  {
   "cell_type": "markdown",
   "id": "ad261632",
   "metadata": {},
   "source": [
    "#### Creating Lists for Each `known_for` Category"
   ]
  },
  {
   "cell_type": "code",
   "execution_count": 447,
   "id": "a94c1c36",
   "metadata": {},
   "outputs": [
    {
     "data": {
      "application/javascript": [
       "\n",
       "            setTimeout(function() {\n",
       "                var nbb_cell_id = 447;\n",
       "                var nbb_unformatted_code = \"# Creating lists for each category\\npolitics_govt_law = []\\n\\narts = []\\nsports = [\\n\\n\\n]\\nsciences = [\\n    'otorhinolaryngologist'\\n]\\n\\nbusiness_farming = []\\nacademia_humanities = [\\n    'shoe museum curator',\\n]\\nlaw_enf_military_operator = [\\n    'ATS volunteer',\\n]\\nspiritual = []\\nsocial = [\\n    'and philanthropist in West New Province',\\n    'Building Society founder and philanthropist',\\n    'philanthropist and widow of Tektronix founder Howard Vollum',\\n    'philanthropist and member of the Rothschild family',\\n    'philanthropist and matriarch of the Bronfman family',\\n    'social change philanthropist',\\n    'philanthropist known in Kansas City as \\\"Secret Santa\\\"',\\n    'philanthropist and wife of Charles Bronfman',\\n    'Ford Motor Company heiress and prominent philanthropist',\\n    'philanthropist and heiress to Mellon family fortune'\\n    'philanthropist and wife of industrialist Charles W Engelhard Jr',\\n    'philanthropist; widow of McDonald founder Ray Kroc',\\n    'philanthropist and socialite',\\n    'welfare worker and philanthropist',\\n    'riveter and philanthropist',\\n    'philanthropist and child welfare advocate',\\n    'philanthropist and social worker',\\n    'social worker and philanthropist',\\n    'community advocate and philanthropist',\\n    'heiress and philanthropist',\\n    'socialite and philanthropist',\\n    'and philanthropist',\\n    'philanthropist and',\\n    'philanthropist'\\n]\\ncrime = []\\nevent_record_other = []\\nother_species = []\";\n",
       "                var nbb_formatted_code = \"# Creating lists for each category\\npolitics_govt_law = []\\n\\narts = []\\nsports = []\\nsciences = [\\\"otorhinolaryngologist\\\"]\\n\\nbusiness_farming = []\\nacademia_humanities = [\\n    \\\"shoe museum curator\\\",\\n]\\nlaw_enf_military_operator = [\\n    \\\"ATS volunteer\\\",\\n]\\nspiritual = []\\nsocial = [\\n    \\\"and philanthropist in West New Province\\\",\\n    \\\"Building Society founder and philanthropist\\\",\\n    \\\"philanthropist and widow of Tektronix founder Howard Vollum\\\",\\n    \\\"philanthropist and member of the Rothschild family\\\",\\n    \\\"philanthropist and matriarch of the Bronfman family\\\",\\n    \\\"social change philanthropist\\\",\\n    'philanthropist known in Kansas City as \\\"Secret Santa\\\"',\\n    \\\"philanthropist and wife of Charles Bronfman\\\",\\n    \\\"Ford Motor Company heiress and prominent philanthropist\\\",\\n    \\\"philanthropist and heiress to Mellon family fortune\\\"\\n    \\\"philanthropist and wife of industrialist Charles W Engelhard Jr\\\",\\n    \\\"philanthropist; widow of McDonald founder Ray Kroc\\\",\\n    \\\"philanthropist and socialite\\\",\\n    \\\"welfare worker and philanthropist\\\",\\n    \\\"riveter and philanthropist\\\",\\n    \\\"philanthropist and child welfare advocate\\\",\\n    \\\"philanthropist and social worker\\\",\\n    \\\"social worker and philanthropist\\\",\\n    \\\"community advocate and philanthropist\\\",\\n    \\\"heiress and philanthropist\\\",\\n    \\\"socialite and philanthropist\\\",\\n    \\\"and philanthropist\\\",\\n    \\\"philanthropist and\\\",\\n    \\\"philanthropist\\\",\\n]\\ncrime = []\\nevent_record_other = []\\nother_species = []\";\n",
       "                var nbb_cells = Jupyter.notebook.get_cells();\n",
       "                for (var i = 0; i < nbb_cells.length; ++i) {\n",
       "                    if (nbb_cells[i].input_prompt_number == nbb_cell_id) {\n",
       "                        if (nbb_cells[i].get_text() == nbb_unformatted_code) {\n",
       "                             nbb_cells[i].set_text(nbb_formatted_code);\n",
       "                        }\n",
       "                        break;\n",
       "                    }\n",
       "                }\n",
       "            }, 500);\n",
       "            "
      ],
      "text/plain": [
       "<IPython.core.display.Javascript object>"
      ]
     },
     "metadata": {},
     "output_type": "display_data"
    }
   ],
   "source": [
    "# Creating lists for each category\n",
    "politics_govt_law = []\n",
    "\n",
    "arts = []\n",
    "sports = []\n",
    "sciences = [\"otorhinolaryngologist\"]\n",
    "\n",
    "business_farming = []\n",
    "academia_humanities = [\n",
    "    \"shoe museum curator\",\n",
    "]\n",
    "law_enf_military_operator = [\n",
    "    \"ATS volunteer\",\n",
    "]\n",
    "spiritual = []\n",
    "social = [\n",
    "    \"and philanthropist in West New Province\",\n",
    "    \"Building Society founder and philanthropist\",\n",
    "    \"philanthropist and widow of Tektronix founder Howard Vollum\",\n",
    "    \"philanthropist and member of the Rothschild family\",\n",
    "    \"philanthropist and matriarch of the Bronfman family\",\n",
    "    \"social change philanthropist\",\n",
    "    'philanthropist known in Kansas City as \"Secret Santa\"',\n",
    "    \"philanthropist and wife of Charles Bronfman\",\n",
    "    \"Ford Motor Company heiress and prominent philanthropist\",\n",
    "    \"philanthropist and heiress to Mellon family fortune\"\n",
    "    \"philanthropist and wife of industrialist Charles W Engelhard Jr\",\n",
    "    \"philanthropist; widow of McDonald founder Ray Kroc\",\n",
    "    \"philanthropist and socialite\",\n",
    "    \"welfare worker and philanthropist\",\n",
    "    \"riveter and philanthropist\",\n",
    "    \"philanthropist and child welfare advocate\",\n",
    "    \"philanthropist and social worker\",\n",
    "    \"social worker and philanthropist\",\n",
    "    \"community advocate and philanthropist\",\n",
    "    \"heiress and philanthropist\",\n",
    "    \"socialite and philanthropist\",\n",
    "    \"and philanthropist\",\n",
    "    \"philanthropist and\",\n",
    "    \"philanthropist\",\n",
    "]\n",
    "crime = []\n",
    "event_record_other = []\n",
    "other_species = []"
   ]
  },
  {
   "cell_type": "markdown",
   "id": "3c2bc8c2",
   "metadata": {},
   "source": [
    "#### Creating `known_for_dict` Dictionary of Category Keys and Specific Role Lists of Values"
   ]
  },
  {
   "cell_type": "code",
   "execution_count": 448,
   "id": "90b0e523",
   "metadata": {},
   "outputs": [
    {
     "data": {
      "application/javascript": [
       "\n",
       "            setTimeout(function() {\n",
       "                var nbb_cell_id = 448;\n",
       "                var nbb_unformatted_code = \"# Combining separate lists into one dictionary\\nknown_for_dict = {\\n    \\\"social\\\": social,\\n    \\\"spiritual\\\": spiritual,\\n    \\\"academia_humanities\\\": academia_humanities,\\n    \\\"business_farming\\\": business_farming,\\n    \\\"sciences\\\": sciences,\\n    \\\"politics_govt_law\\\": politics_govt_law,\\n    \\\"law_enf_military_operator\\\": law_enf_military_operator,\\n    \\\"crime\\\": crime,\\n    \\\"event_record_other\\\": event_record_other,\\n    \\\"other_species\\\": other_species,\\n    \\\"arts\\\": arts,\\n    \\\"sports\\\": sports,\\n}\";\n",
       "                var nbb_formatted_code = \"# Combining separate lists into one dictionary\\nknown_for_dict = {\\n    \\\"social\\\": social,\\n    \\\"spiritual\\\": spiritual,\\n    \\\"academia_humanities\\\": academia_humanities,\\n    \\\"business_farming\\\": business_farming,\\n    \\\"sciences\\\": sciences,\\n    \\\"politics_govt_law\\\": politics_govt_law,\\n    \\\"law_enf_military_operator\\\": law_enf_military_operator,\\n    \\\"crime\\\": crime,\\n    \\\"event_record_other\\\": event_record_other,\\n    \\\"other_species\\\": other_species,\\n    \\\"arts\\\": arts,\\n    \\\"sports\\\": sports,\\n}\";\n",
       "                var nbb_cells = Jupyter.notebook.get_cells();\n",
       "                for (var i = 0; i < nbb_cells.length; ++i) {\n",
       "                    if (nbb_cells[i].input_prompt_number == nbb_cell_id) {\n",
       "                        if (nbb_cells[i].get_text() == nbb_unformatted_code) {\n",
       "                             nbb_cells[i].set_text(nbb_formatted_code);\n",
       "                        }\n",
       "                        break;\n",
       "                    }\n",
       "                }\n",
       "            }, 500);\n",
       "            "
      ],
      "text/plain": [
       "<IPython.core.display.Javascript object>"
      ]
     },
     "metadata": {},
     "output_type": "display_data"
    }
   ],
   "source": [
    "# Combining separate lists into one dictionary\n",
    "known_for_dict = {\n",
    "    \"social\": social,\n",
    "    \"spiritual\": spiritual,\n",
    "    \"academia_humanities\": academia_humanities,\n",
    "    \"business_farming\": business_farming,\n",
    "    \"sciences\": sciences,\n",
    "    \"politics_govt_law\": politics_govt_law,\n",
    "    \"law_enf_military_operator\": law_enf_military_operator,\n",
    "    \"crime\": crime,\n",
    "    \"event_record_other\": event_record_other,\n",
    "    \"other_species\": other_species,\n",
    "    \"arts\": arts,\n",
    "    \"sports\": sports,\n",
    "}"
   ]
  },
  {
   "cell_type": "markdown",
   "id": "46ac4079",
   "metadata": {},
   "source": [
    "#### Extracting Category from `info_2`"
   ]
  },
  {
   "cell_type": "code",
   "execution_count": 449,
   "id": "fa2e6255",
   "metadata": {},
   "outputs": [
    {
     "name": "stdout",
     "output_type": "stream",
     "text": [
      "CPU times: total: 13.5 s\n",
      "Wall time: 13.6 s\n"
     ]
    },
    {
     "data": {
      "text/html": [
       "<div>\n",
       "<style scoped>\n",
       "    .dataframe tbody tr th:only-of-type {\n",
       "        vertical-align: middle;\n",
       "    }\n",
       "\n",
       "    .dataframe tbody tr th {\n",
       "        vertical-align: top;\n",
       "    }\n",
       "\n",
       "    .dataframe thead th {\n",
       "        text-align: right;\n",
       "    }\n",
       "</style>\n",
       "<table border=\"1\" class=\"dataframe\">\n",
       "  <thead>\n",
       "    <tr style=\"text-align: right;\">\n",
       "      <th></th>\n",
       "      <th>day</th>\n",
       "      <th>name</th>\n",
       "      <th>info</th>\n",
       "      <th>link</th>\n",
       "      <th>num_references</th>\n",
       "      <th>year</th>\n",
       "      <th>month</th>\n",
       "      <th>info_parenth</th>\n",
       "      <th>info_1</th>\n",
       "      <th>info_2</th>\n",
       "      <th>info_3</th>\n",
       "      <th>info_4</th>\n",
       "      <th>info_5</th>\n",
       "      <th>info_6</th>\n",
       "      <th>info_7</th>\n",
       "      <th>info_8</th>\n",
       "      <th>info_9</th>\n",
       "      <th>info_10</th>\n",
       "      <th>info_11</th>\n",
       "      <th>age</th>\n",
       "      <th>cause_of_death</th>\n",
       "      <th>place_1</th>\n",
       "      <th>place_2</th>\n",
       "      <th>info_parenth_copy</th>\n",
       "      <th>log_num_references</th>\n",
       "      <th>sciences</th>\n",
       "      <th>social</th>\n",
       "      <th>spiritual</th>\n",
       "      <th>academia_humanities</th>\n",
       "      <th>business_farming</th>\n",
       "      <th>arts</th>\n",
       "      <th>sports</th>\n",
       "      <th>law_enf_military_operator</th>\n",
       "      <th>politics_govt_law</th>\n",
       "      <th>crime</th>\n",
       "      <th>event_record_other</th>\n",
       "      <th>other_species</th>\n",
       "      <th>num_categories</th>\n",
       "    </tr>\n",
       "  </thead>\n",
       "  <tbody>\n",
       "    <tr>\n",
       "      <th>35156</th>\n",
       "      <td>11</td>\n",
       "      <td>Andy Barker</td>\n",
       "      <td>, 87, American philanthropist.</td>\n",
       "      <td>https://en.wikipedia.org/wiki/Andy_Barker_(philanthropist)</td>\n",
       "      <td>6</td>\n",
       "      <td>2011</td>\n",
       "      <td>July</td>\n",
       "      <td>None</td>\n",
       "      <td>None</td>\n",
       "      <td></td>\n",
       "      <td>None</td>\n",
       "      <td>None</td>\n",
       "      <td>None</td>\n",
       "      <td>None</td>\n",
       "      <td>None</td>\n",
       "      <td>None</td>\n",
       "      <td>None</td>\n",
       "      <td>None</td>\n",
       "      <td>None</td>\n",
       "      <td>87.0</td>\n",
       "      <td>None</td>\n",
       "      <td>United States of America</td>\n",
       "      <td>None</td>\n",
       "      <td>None</td>\n",
       "      <td>1.945910</td>\n",
       "      <td>0</td>\n",
       "      <td>1</td>\n",
       "      <td>0</td>\n",
       "      <td>0</td>\n",
       "      <td>0</td>\n",
       "      <td>0</td>\n",
       "      <td>0</td>\n",
       "      <td>0</td>\n",
       "      <td>0</td>\n",
       "      <td>0</td>\n",
       "      <td>0</td>\n",
       "      <td>0</td>\n",
       "      <td>1</td>\n",
       "    </tr>\n",
       "    <tr>\n",
       "      <th>94822</th>\n",
       "      <td>24</td>\n",
       "      <td>Shirley Bottolfsen</td>\n",
       "      <td>, 87, Irish philanthropist.</td>\n",
       "      <td>https://en.wikipedia.org/wiki/Shirley_Bottolfsen</td>\n",
       "      <td>16</td>\n",
       "      <td>2021</td>\n",
       "      <td>December</td>\n",
       "      <td>None</td>\n",
       "      <td>None</td>\n",
       "      <td></td>\n",
       "      <td>None</td>\n",
       "      <td>None</td>\n",
       "      <td>None</td>\n",
       "      <td>None</td>\n",
       "      <td>None</td>\n",
       "      <td>None</td>\n",
       "      <td>None</td>\n",
       "      <td>None</td>\n",
       "      <td>None</td>\n",
       "      <td>87.0</td>\n",
       "      <td>None</td>\n",
       "      <td>Ireland</td>\n",
       "      <td>None</td>\n",
       "      <td>None</td>\n",
       "      <td>2.833213</td>\n",
       "      <td>0</td>\n",
       "      <td>1</td>\n",
       "      <td>0</td>\n",
       "      <td>0</td>\n",
       "      <td>0</td>\n",
       "      <td>0</td>\n",
       "      <td>0</td>\n",
       "      <td>0</td>\n",
       "      <td>0</td>\n",
       "      <td>0</td>\n",
       "      <td>0</td>\n",
       "      <td>0</td>\n",
       "      <td>1</td>\n",
       "    </tr>\n",
       "  </tbody>\n",
       "</table>\n",
       "</div>"
      ],
      "text/plain": [
       "      day                name                            info  \\\n",
       "35156  11         Andy Barker  , 87, American philanthropist.   \n",
       "94822  24  Shirley Bottolfsen     , 87, Irish philanthropist.   \n",
       "\n",
       "                                                             link  \\\n",
       "35156  https://en.wikipedia.org/wiki/Andy_Barker_(philanthropist)   \n",
       "94822            https://en.wikipedia.org/wiki/Shirley_Bottolfsen   \n",
       "\n",
       "       num_references  year     month info_parenth info_1 info_2 info_3  \\\n",
       "35156               6  2011      July         None   None          None   \n",
       "94822              16  2021  December         None   None          None   \n",
       "\n",
       "      info_4 info_5 info_6 info_7 info_8 info_9 info_10 info_11   age  \\\n",
       "35156   None   None   None   None   None   None    None    None  87.0   \n",
       "94822   None   None   None   None   None   None    None    None  87.0   \n",
       "\n",
       "      cause_of_death                   place_1 place_2 info_parenth_copy  \\\n",
       "35156           None  United States of America    None              None   \n",
       "94822           None                   Ireland    None              None   \n",
       "\n",
       "       log_num_references  sciences  social  spiritual  academia_humanities  \\\n",
       "35156            1.945910         0       1          0                    0   \n",
       "94822            2.833213         0       1          0                    0   \n",
       "\n",
       "       business_farming  arts  sports  law_enf_military_operator  \\\n",
       "35156                 0     0       0                          0   \n",
       "94822                 0     0       0                          0   \n",
       "\n",
       "       politics_govt_law  crime  event_record_other  other_species  \\\n",
       "35156                  0      0                   0              0   \n",
       "94822                  0      0                   0              0   \n",
       "\n",
       "       num_categories  \n",
       "35156               1  \n",
       "94822               1  "
      ]
     },
     "execution_count": 449,
     "metadata": {},
     "output_type": "execute_result"
    },
    {
     "data": {
      "application/javascript": [
       "\n",
       "            setTimeout(function() {\n",
       "                var nbb_cell_id = 449;\n",
       "                var nbb_unformatted_code = \"%%time\\n\\n# Dictionary version\\nsearch_dict = known_for_dict\\n\\n# Column to check\\ncolumn = 'info_2'\\n\\n# Dataframe\\ndataframe = df[column].notna()\\n\\n# For loop to find role in column and extract it as category\\nfor category, category_lst in search_dict.items():\\n    for role in category_lst:\\n        for index in dataframe.index:\\n            item = df.loc[index, column]\\n            if item:\\n                if role in item:\\n                    df.loc[index, category] = 1\\n                    df.loc[index, column] = item.replace(role, '').strip()\\n\\n# Updating num_categories\\ndf[\\\"num_categories\\\"] = df[known_for_dict.keys()].sum(axis=1)\\n\\n# Checking a sample of rows\\ndf[df['social'] ==1].sample(2)\";\n",
       "                var nbb_formatted_code = \"%%time\\n\\n# Dictionary version\\nsearch_dict = known_for_dict\\n\\n# Column to check\\ncolumn = 'info_2'\\n\\n# Dataframe\\ndataframe = df[column].notna()\\n\\n# For loop to find role in column and extract it as category\\nfor category, category_lst in search_dict.items():\\n    for role in category_lst:\\n        for index in dataframe.index:\\n            item = df.loc[index, column]\\n            if item:\\n                if role in item:\\n                    df.loc[index, category] = 1\\n                    df.loc[index, column] = item.replace(role, '').strip()\\n\\n# Updating num_categories\\ndf[\\\"num_categories\\\"] = df[known_for_dict.keys()].sum(axis=1)\\n\\n# Checking a sample of rows\\ndf[df['social'] ==1].sample(2)\";\n",
       "                var nbb_cells = Jupyter.notebook.get_cells();\n",
       "                for (var i = 0; i < nbb_cells.length; ++i) {\n",
       "                    if (nbb_cells[i].input_prompt_number == nbb_cell_id) {\n",
       "                        if (nbb_cells[i].get_text() == nbb_unformatted_code) {\n",
       "                             nbb_cells[i].set_text(nbb_formatted_code);\n",
       "                        }\n",
       "                        break;\n",
       "                    }\n",
       "                }\n",
       "            }, 500);\n",
       "            "
      ],
      "text/plain": [
       "<IPython.core.display.Javascript object>"
      ]
     },
     "metadata": {},
     "output_type": "display_data"
    }
   ],
   "source": [
    "%%time\n",
    "\n",
    "# Dictionary version\n",
    "search_dict = known_for_dict\n",
    "\n",
    "# Column to check\n",
    "column = 'info_2'\n",
    "\n",
    "# Dataframe\n",
    "dataframe = df[column].notna()\n",
    "\n",
    "# For loop to find role in column and extract it as category\n",
    "for category, category_lst in search_dict.items():\n",
    "    for role in category_lst:\n",
    "        for index in dataframe.index:\n",
    "            item = df.loc[index, column]\n",
    "            if item:\n",
    "                if role in item:\n",
    "                    df.loc[index, category] = 1\n",
    "                    df.loc[index, column] = item.replace(role, '').strip()\n",
    "\n",
    "# Updating num_categories\n",
    "df[\"num_categories\"] = df[known_for_dict.keys()].sum(axis=1)\n",
    "\n",
    "# Checking a sample of rows\n",
    "df[df['social'] ==1].sample(2)"
   ]
  },
  {
   "cell_type": "markdown",
   "id": "88d8e646",
   "metadata": {},
   "source": [
    "#### Checking the Number of Rows without a First Category"
   ]
  },
  {
   "cell_type": "code",
   "execution_count": 450,
   "id": "bd9c3ece",
   "metadata": {},
   "outputs": [
    {
     "name": "stdout",
     "output_type": "stream",
     "text": [
      "There are 35058 entries without any known_for category.\n"
     ]
    },
    {
     "data": {
      "application/javascript": [
       "\n",
       "            setTimeout(function() {\n",
       "                var nbb_cell_id = 450;\n",
       "                var nbb_unformatted_code = \"# Checking the number of rows without a first category\\nprint(\\n    f'There are {len(df[df[\\\"num_categories\\\"]==0])} entries without any known_for category.'\\n)\";\n",
       "                var nbb_formatted_code = \"# Checking the number of rows without a first category\\nprint(\\n    f'There are {len(df[df[\\\"num_categories\\\"]==0])} entries without any known_for category.'\\n)\";\n",
       "                var nbb_cells = Jupyter.notebook.get_cells();\n",
       "                for (var i = 0; i < nbb_cells.length; ++i) {\n",
       "                    if (nbb_cells[i].input_prompt_number == nbb_cell_id) {\n",
       "                        if (nbb_cells[i].get_text() == nbb_unformatted_code) {\n",
       "                             nbb_cells[i].set_text(nbb_formatted_code);\n",
       "                        }\n",
       "                        break;\n",
       "                    }\n",
       "                }\n",
       "            }, 500);\n",
       "            "
      ],
      "text/plain": [
       "<IPython.core.display.Javascript object>"
      ]
     },
     "metadata": {},
     "output_type": "display_data"
    }
   ],
   "source": [
    "# Checking the number of rows without a first category\n",
    "print(\n",
    "    f'There are {len(df[df[\"num_categories\"]==0])} entries without any known_for category.'\n",
    ")"
   ]
  },
  {
   "cell_type": "markdown",
   "id": "ee20ce99",
   "metadata": {},
   "source": [
    "#### Observations:\n",
    "- We will proceed to rebuild `known_for_dict` for the next iteration."
   ]
  },
  {
   "cell_type": "markdown",
   "id": "927eaee2",
   "metadata": {},
   "source": [
    "#### Finding `known_for` Roles in `info_2`"
   ]
  },
  {
   "cell_type": "code",
   "execution_count": 554,
   "id": "51aee50a",
   "metadata": {},
   "outputs": [
    {
     "data": {
      "application/javascript": [
       "\n",
       "            setTimeout(function() {\n",
       "                var nbb_cell_id = 554;\n",
       "                var nbb_unformatted_code = \"# # Obtaining values for column and their counts\\n# roles_list = df[\\\"info_2\\\"].value_counts(ascending=True).index.tolist()\";\n",
       "                var nbb_formatted_code = \"# # Obtaining values for column and their counts\\n# roles_list = df[\\\"info_2\\\"].value_counts(ascending=True).index.tolist()\";\n",
       "                var nbb_cells = Jupyter.notebook.get_cells();\n",
       "                for (var i = 0; i < nbb_cells.length; ++i) {\n",
       "                    if (nbb_cells[i].input_prompt_number == nbb_cell_id) {\n",
       "                        if (nbb_cells[i].get_text() == nbb_unformatted_code) {\n",
       "                             nbb_cells[i].set_text(nbb_formatted_code);\n",
       "                        }\n",
       "                        break;\n",
       "                    }\n",
       "                }\n",
       "            }, 500);\n",
       "            "
      ],
      "text/plain": [
       "<IPython.core.display.Javascript object>"
      ]
     },
     "metadata": {},
     "output_type": "display_data"
    }
   ],
   "source": [
    "# # Obtaining values for column and their counts\n",
    "# roles_list = df[\"info_2\"].value_counts(ascending=True).index.tolist()"
   ]
  },
  {
   "cell_type": "code",
   "execution_count": 552,
   "id": "236a67d6",
   "metadata": {},
   "outputs": [
    {
     "data": {
      "application/javascript": [
       "\n",
       "            setTimeout(function() {\n",
       "                var nbb_cell_id = 552;\n",
       "                var nbb_unformatted_code = \"# # Code to check each value\\n# roles_list.pop()\";\n",
       "                var nbb_formatted_code = \"# # Code to check each value\\n# roles_list.pop()\";\n",
       "                var nbb_cells = Jupyter.notebook.get_cells();\n",
       "                for (var i = 0; i < nbb_cells.length; ++i) {\n",
       "                    if (nbb_cells[i].input_prompt_number == nbb_cell_id) {\n",
       "                        if (nbb_cells[i].get_text() == nbb_unformatted_code) {\n",
       "                             nbb_cells[i].set_text(nbb_formatted_code);\n",
       "                        }\n",
       "                        break;\n",
       "                    }\n",
       "                }\n",
       "            }, 500);\n",
       "            "
      ],
      "text/plain": [
       "<IPython.core.display.Javascript object>"
      ]
     },
     "metadata": {},
     "output_type": "display_data"
    }
   ],
   "source": [
    "# # Code to check each value\n",
    "# roles_list.pop()"
   ]
  },
  {
   "cell_type": "code",
   "execution_count": 551,
   "id": "e75ae12b",
   "metadata": {},
   "outputs": [
    {
     "data": {
      "application/javascript": [
       "\n",
       "            setTimeout(function() {\n",
       "                var nbb_cell_id = 551;\n",
       "                var nbb_unformatted_code = \"# # Create specific_roles_list for above popped value\\n# specific_roles_list = (\\n#     df.loc[[index for index in df.index if \\\"boxer\\\" in df.loc[index, \\\"info\\\"]], \\\"info_2\\\",]\\n#     .value_counts()\\n#     .index.tolist()\\n# )\";\n",
       "                var nbb_formatted_code = \"# # Create specific_roles_list for above popped value\\n# specific_roles_list = (\\n#     df.loc[[index for index in df.index if \\\"boxer\\\" in df.loc[index, \\\"info\\\"]], \\\"info_2\\\",]\\n#     .value_counts()\\n#     .index.tolist()\\n# )\";\n",
       "                var nbb_cells = Jupyter.notebook.get_cells();\n",
       "                for (var i = 0; i < nbb_cells.length; ++i) {\n",
       "                    if (nbb_cells[i].input_prompt_number == nbb_cell_id) {\n",
       "                        if (nbb_cells[i].get_text() == nbb_unformatted_code) {\n",
       "                             nbb_cells[i].set_text(nbb_formatted_code);\n",
       "                        }\n",
       "                        break;\n",
       "                    }\n",
       "                }\n",
       "            }, 500);\n",
       "            "
      ],
      "text/plain": [
       "<IPython.core.display.Javascript object>"
      ]
     },
     "metadata": {},
     "output_type": "display_data"
    }
   ],
   "source": [
    "# # Create specific_roles_list for above popped value\n",
    "# specific_roles_list = (\n",
    "#     df.loc[[index for index in df.index if \"boxer\" in df.loc[index, \"info\"]], \"info_2\",]\n",
    "#     .value_counts()\n",
    "#     .index.tolist()\n",
    "# )"
   ]
  },
  {
   "cell_type": "code",
   "execution_count": 550,
   "id": "22dce3b2",
   "metadata": {},
   "outputs": [
    {
     "data": {
      "application/javascript": [
       "\n",
       "            setTimeout(function() {\n",
       "                var nbb_cell_id = 550;\n",
       "                var nbb_unformatted_code = \"# # Code to check each specific value\\n# specific_roles_list.pop()\";\n",
       "                var nbb_formatted_code = \"# # Code to check each specific value\\n# specific_roles_list.pop()\";\n",
       "                var nbb_cells = Jupyter.notebook.get_cells();\n",
       "                for (var i = 0; i < nbb_cells.length; ++i) {\n",
       "                    if (nbb_cells[i].input_prompt_number == nbb_cell_id) {\n",
       "                        if (nbb_cells[i].get_text() == nbb_unformatted_code) {\n",
       "                             nbb_cells[i].set_text(nbb_formatted_code);\n",
       "                        }\n",
       "                        break;\n",
       "                    }\n",
       "                }\n",
       "            }, 500);\n",
       "            "
      ],
      "text/plain": [
       "<IPython.core.display.Javascript object>"
      ]
     },
     "metadata": {},
     "output_type": "display_data"
    }
   ],
   "source": [
    "# # Code to check each specific value\n",
    "# specific_roles_list.pop()"
   ]
  },
  {
   "cell_type": "code",
   "execution_count": 553,
   "id": "4a41e5f9",
   "metadata": {},
   "outputs": [
    {
     "data": {
      "application/javascript": [
       "\n",
       "            setTimeout(function() {\n",
       "                var nbb_cell_id = 553;\n",
       "                var nbb_unformatted_code = \"# # Example code to quick-screen values that may overlap categories\\n# df.loc[\\n#     [\\n#         index\\n#         for index in df.index\\n#         if \\\"bodyguard for boxer Kostya Tszyu\\\" in df.loc[index, \\\"info\\\"]\\n#     ]\\n# ]\";\n",
       "                var nbb_formatted_code = \"# # Example code to quick-screen values that may overlap categories\\n# df.loc[\\n#     [\\n#         index\\n#         for index in df.index\\n#         if \\\"bodyguard for boxer Kostya Tszyu\\\" in df.loc[index, \\\"info\\\"]\\n#     ]\\n# ]\";\n",
       "                var nbb_cells = Jupyter.notebook.get_cells();\n",
       "                for (var i = 0; i < nbb_cells.length; ++i) {\n",
       "                    if (nbb_cells[i].input_prompt_number == nbb_cell_id) {\n",
       "                        if (nbb_cells[i].get_text() == nbb_unformatted_code) {\n",
       "                             nbb_cells[i].set_text(nbb_formatted_code);\n",
       "                        }\n",
       "                        break;\n",
       "                    }\n",
       "                }\n",
       "            }, 500);\n",
       "            "
      ],
      "text/plain": [
       "<IPython.core.display.Javascript object>"
      ]
     },
     "metadata": {},
     "output_type": "display_data"
    }
   ],
   "source": [
    "# # Example code to quick-screen values that may overlap categories\n",
    "# df.loc[\n",
    "#     [\n",
    "#         index\n",
    "#         for index in df.index\n",
    "#         if \"bodyguard for boxer Kostya Tszyu\" in df.loc[index, \"info\"]\n",
    "#     ]\n",
    "# ]"
   ]
  },
  {
   "cell_type": "markdown",
   "id": "9f18d803",
   "metadata": {},
   "source": [
    "#### Creating Lists for Each `known_for` Category"
   ]
  },
  {
   "cell_type": "code",
   "execution_count": 547,
   "id": "f8544b4f",
   "metadata": {},
   "outputs": [
    {
     "data": {
      "application/javascript": [
       "\n",
       "            setTimeout(function() {\n",
       "                var nbb_cell_id = 547;\n",
       "                var nbb_unformatted_code = \"# Creating lists for each category\\npolitics_govt_law = []\\n\\narts = [\\n    'beatboxer', # before sports\\n]\\nsports = [\\n    'undefeated former WBA super featherweight and WBC lightweight champion boxer',\\n    'former world welterweight and super welterweight champion boxer',\\n    'Olympic boxer and former world light heavyweight champion',\\n    'boxer and WBA featherweight champion from March through May',\\n    'former WBC and WBA World lightweight champion boxer',\\n    'former WBC world light welterweight champion boxer',\\n    'boxer who won the Empire super featherweight title',\\n    'WBO flyweight and light flyweight champion boxer',\\n    'former world super featherweight champion boxer',\\n    'born former Empire heavyweight champion boxer',\\n    'former NBA world bantamweight champion boxer',\\n    'former WBC light welterweight champion boxer',\\n    'former world light welterweight champion boxer',\\n    'WBA and WBC super lightweight champion boxer',\\n    'boxer and World Light Heavyweight Champion',\\n    'champion professional boxer in the s and s',\\n    'professional and Olympic lightweight boxer',\\n    'world light middleweight champion boxer',\\n    'Olympic silver medalist lightweight boxer',\\n    'former NABF lightweight champion boxer',\\n    'former WBC heavyweight champion boxer',\\n    'former WBA heavyweight champion boxer',\\n    'NABF super lightweight champion boxer',\\n    'Hall of Fame light heavyweight boxer',\\n    'former triple world champion boxer',\\n    'former heavyweight boxing champion',\\n    'Olympic silver medal winning boxer',\\n    'Olympic bronze medal winning boxer',\\n    'former lightweight champion boxer',\\n    'Olympic gold medal winning boxer',\\n    'Hall of Fame featherweight boxer',\\n    'featherweight lightweight boxer',\\n    'Olympic light heavyweight boxer',\\n    'boxer and heavyweight champion',\\n    'fly bantam featherweight boxer',\\n    'Olympic silver medalist boxer',\\n    'WBA flyweight champion boxer',\\n    'bantamweight champion boxer',\\n    'heavyweight champion boxer',\\n    'Olympic heavyweight boxer',\\n    'boxer and Olympic wrestler',\\n    'Olympic bantamweight boxer',\\n    'Olympic middleweight boxer',\\n    'light heavyweight boxer and',\\n    'dual world champion boxer',\\n    'light middleweight boxer',\\n    'boxer and boxing trainer',\\n    'light welterweight boxer',\\n    'light heavyweight boxer',\\n    'Olympic flyweight boxer',\\n    'Hall of Fame boxer and',\\n    'boxer and rugby player',\\n    'Olympic medalist boxer',\\n    'and boxer and Olympian',\\n    'heavyweight kickboxer',\\n    'world champion boxer',\\n    'featherweight boxer',\\n    'Virgin Island boxer',\\n    'Golden Gloves boxer',\\n    'cruiserweight boxer',\\n    'boxer and kickboxer',\\n    'professional boxer',\\n    'boxer and Olympian',\\n    'middleweight boxer',\\n    'bantamweight boxer',\\n    'welterweight boxer',\\n    'Hall of Fame boxer',\\n    'heavyweight boxer',\\n    'boxer and trainer',\\n    'lightweight boxer',\\n    'boxer and manager',\\n    'unlicensed boxer',\\n    'Olympic boxer []',\\n    'flyweight boxer',\\n    'Muay kickboxer',\\n    'Olympic boxer',\\n    'and kickboxer',\\n    'kickboxer and',\\n    'amateur boxer',\\n    'Serb boxer',\\n    'kickboxer',\\n    'champion boxer',\\n    'era boxer',\\n    'boxer and',\\n    'and boxer',\\n    'boxer'\\n\\n\\n]\\nsciences = []\\n\\nbusiness_farming = []\\nacademia_humanities = []\\nlaw_enf_military_operator = [\\n    'bodyguard for boxer Kostya Tszyu', # before sports\\n]\\nspiritual = []\\nsocial = []\\ncrime = []\\nevent_record_other = []\\nother_species = []\";\n",
       "                var nbb_formatted_code = \"# Creating lists for each category\\npolitics_govt_law = []\\n\\narts = [\\n    \\\"beatboxer\\\",  # before sports\\n]\\nsports = [\\n    \\\"undefeated former WBA super featherweight and WBC lightweight champion boxer\\\",\\n    \\\"former world welterweight and super welterweight champion boxer\\\",\\n    \\\"Olympic boxer and former world light heavyweight champion\\\",\\n    \\\"boxer and WBA featherweight champion from March through May\\\",\\n    \\\"former WBC and WBA World lightweight champion boxer\\\",\\n    \\\"former WBC world light welterweight champion boxer\\\",\\n    \\\"boxer who won the Empire super featherweight title\\\",\\n    \\\"WBO flyweight and light flyweight champion boxer\\\",\\n    \\\"former world super featherweight champion boxer\\\",\\n    \\\"born former Empire heavyweight champion boxer\\\",\\n    \\\"former NBA world bantamweight champion boxer\\\",\\n    \\\"former WBC light welterweight champion boxer\\\",\\n    \\\"former world light welterweight champion boxer\\\",\\n    \\\"WBA and WBC super lightweight champion boxer\\\",\\n    \\\"boxer and World Light Heavyweight Champion\\\",\\n    \\\"champion professional boxer in the s and s\\\",\\n    \\\"professional and Olympic lightweight boxer\\\",\\n    \\\"world light middleweight champion boxer\\\",\\n    \\\"Olympic silver medalist lightweight boxer\\\",\\n    \\\"former NABF lightweight champion boxer\\\",\\n    \\\"former WBC heavyweight champion boxer\\\",\\n    \\\"former WBA heavyweight champion boxer\\\",\\n    \\\"NABF super lightweight champion boxer\\\",\\n    \\\"Hall of Fame light heavyweight boxer\\\",\\n    \\\"former triple world champion boxer\\\",\\n    \\\"former heavyweight boxing champion\\\",\\n    \\\"Olympic silver medal winning boxer\\\",\\n    \\\"Olympic bronze medal winning boxer\\\",\\n    \\\"former lightweight champion boxer\\\",\\n    \\\"Olympic gold medal winning boxer\\\",\\n    \\\"Hall of Fame featherweight boxer\\\",\\n    \\\"featherweight lightweight boxer\\\",\\n    \\\"Olympic light heavyweight boxer\\\",\\n    \\\"boxer and heavyweight champion\\\",\\n    \\\"fly bantam featherweight boxer\\\",\\n    \\\"Olympic silver medalist boxer\\\",\\n    \\\"WBA flyweight champion boxer\\\",\\n    \\\"bantamweight champion boxer\\\",\\n    \\\"heavyweight champion boxer\\\",\\n    \\\"Olympic heavyweight boxer\\\",\\n    \\\"boxer and Olympic wrestler\\\",\\n    \\\"Olympic bantamweight boxer\\\",\\n    \\\"Olympic middleweight boxer\\\",\\n    \\\"light heavyweight boxer and\\\",\\n    \\\"dual world champion boxer\\\",\\n    \\\"light middleweight boxer\\\",\\n    \\\"boxer and boxing trainer\\\",\\n    \\\"light welterweight boxer\\\",\\n    \\\"light heavyweight boxer\\\",\\n    \\\"Olympic flyweight boxer\\\",\\n    \\\"Hall of Fame boxer and\\\",\\n    \\\"boxer and rugby player\\\",\\n    \\\"Olympic medalist boxer\\\",\\n    \\\"and boxer and Olympian\\\",\\n    \\\"heavyweight kickboxer\\\",\\n    \\\"world champion boxer\\\",\\n    \\\"featherweight boxer\\\",\\n    \\\"Virgin Island boxer\\\",\\n    \\\"Golden Gloves boxer\\\",\\n    \\\"cruiserweight boxer\\\",\\n    \\\"boxer and kickboxer\\\",\\n    \\\"professional boxer\\\",\\n    \\\"boxer and Olympian\\\",\\n    \\\"middleweight boxer\\\",\\n    \\\"bantamweight boxer\\\",\\n    \\\"welterweight boxer\\\",\\n    \\\"Hall of Fame boxer\\\",\\n    \\\"heavyweight boxer\\\",\\n    \\\"boxer and trainer\\\",\\n    \\\"lightweight boxer\\\",\\n    \\\"boxer and manager\\\",\\n    \\\"unlicensed boxer\\\",\\n    \\\"Olympic boxer []\\\",\\n    \\\"flyweight boxer\\\",\\n    \\\"Muay kickboxer\\\",\\n    \\\"Olympic boxer\\\",\\n    \\\"and kickboxer\\\",\\n    \\\"kickboxer and\\\",\\n    \\\"amateur boxer\\\",\\n    \\\"Serb boxer\\\",\\n    \\\"kickboxer\\\",\\n    \\\"champion boxer\\\",\\n    \\\"era boxer\\\",\\n    \\\"boxer and\\\",\\n    \\\"and boxer\\\",\\n    \\\"boxer\\\",\\n]\\nsciences = []\\n\\nbusiness_farming = []\\nacademia_humanities = []\\nlaw_enf_military_operator = [\\n    \\\"bodyguard for boxer Kostya Tszyu\\\",  # before sports\\n]\\nspiritual = []\\nsocial = []\\ncrime = []\\nevent_record_other = []\\nother_species = []\";\n",
       "                var nbb_cells = Jupyter.notebook.get_cells();\n",
       "                for (var i = 0; i < nbb_cells.length; ++i) {\n",
       "                    if (nbb_cells[i].input_prompt_number == nbb_cell_id) {\n",
       "                        if (nbb_cells[i].get_text() == nbb_unformatted_code) {\n",
       "                             nbb_cells[i].set_text(nbb_formatted_code);\n",
       "                        }\n",
       "                        break;\n",
       "                    }\n",
       "                }\n",
       "            }, 500);\n",
       "            "
      ],
      "text/plain": [
       "<IPython.core.display.Javascript object>"
      ]
     },
     "metadata": {},
     "output_type": "display_data"
    }
   ],
   "source": [
    "# Creating lists for each category\n",
    "politics_govt_law = []\n",
    "\n",
    "arts = [\n",
    "    \"beatboxer\",  # before sports\n",
    "]\n",
    "sports = [\n",
    "    \"undefeated former WBA super featherweight and WBC lightweight champion boxer\",\n",
    "    \"former world welterweight and super welterweight champion boxer\",\n",
    "    \"Olympic boxer and former world light heavyweight champion\",\n",
    "    \"boxer and WBA featherweight champion from March through May\",\n",
    "    \"former WBC and WBA World lightweight champion boxer\",\n",
    "    \"former WBC world light welterweight champion boxer\",\n",
    "    \"boxer who won the Empire super featherweight title\",\n",
    "    \"WBO flyweight and light flyweight champion boxer\",\n",
    "    \"former world super featherweight champion boxer\",\n",
    "    \"born former Empire heavyweight champion boxer\",\n",
    "    \"former NBA world bantamweight champion boxer\",\n",
    "    \"former WBC light welterweight champion boxer\",\n",
    "    \"former world light welterweight champion boxer\",\n",
    "    \"WBA and WBC super lightweight champion boxer\",\n",
    "    \"boxer and World Light Heavyweight Champion\",\n",
    "    \"champion professional boxer in the s and s\",\n",
    "    \"professional and Olympic lightweight boxer\",\n",
    "    \"world light middleweight champion boxer\",\n",
    "    \"Olympic silver medalist lightweight boxer\",\n",
    "    \"former NABF lightweight champion boxer\",\n",
    "    \"former WBC heavyweight champion boxer\",\n",
    "    \"former WBA heavyweight champion boxer\",\n",
    "    \"NABF super lightweight champion boxer\",\n",
    "    \"Hall of Fame light heavyweight boxer\",\n",
    "    \"former triple world champion boxer\",\n",
    "    \"former heavyweight boxing champion\",\n",
    "    \"Olympic silver medal winning boxer\",\n",
    "    \"Olympic bronze medal winning boxer\",\n",
    "    \"former lightweight champion boxer\",\n",
    "    \"Olympic gold medal winning boxer\",\n",
    "    \"Hall of Fame featherweight boxer\",\n",
    "    \"featherweight lightweight boxer\",\n",
    "    \"Olympic light heavyweight boxer\",\n",
    "    \"boxer and heavyweight champion\",\n",
    "    \"fly bantam featherweight boxer\",\n",
    "    \"Olympic silver medalist boxer\",\n",
    "    \"WBA flyweight champion boxer\",\n",
    "    \"bantamweight champion boxer\",\n",
    "    \"heavyweight champion boxer\",\n",
    "    \"Olympic heavyweight boxer\",\n",
    "    \"boxer and Olympic wrestler\",\n",
    "    \"Olympic bantamweight boxer\",\n",
    "    \"Olympic middleweight boxer\",\n",
    "    \"light heavyweight boxer and\",\n",
    "    \"dual world champion boxer\",\n",
    "    \"light middleweight boxer\",\n",
    "    \"boxer and boxing trainer\",\n",
    "    \"light welterweight boxer\",\n",
    "    \"light heavyweight boxer\",\n",
    "    \"Olympic flyweight boxer\",\n",
    "    \"Hall of Fame boxer and\",\n",
    "    \"boxer and rugby player\",\n",
    "    \"Olympic medalist boxer\",\n",
    "    \"and boxer and Olympian\",\n",
    "    \"heavyweight kickboxer\",\n",
    "    \"world champion boxer\",\n",
    "    \"featherweight boxer\",\n",
    "    \"Virgin Island boxer\",\n",
    "    \"Golden Gloves boxer\",\n",
    "    \"cruiserweight boxer\",\n",
    "    \"boxer and kickboxer\",\n",
    "    \"professional boxer\",\n",
    "    \"boxer and Olympian\",\n",
    "    \"middleweight boxer\",\n",
    "    \"bantamweight boxer\",\n",
    "    \"welterweight boxer\",\n",
    "    \"Hall of Fame boxer\",\n",
    "    \"heavyweight boxer\",\n",
    "    \"boxer and trainer\",\n",
    "    \"lightweight boxer\",\n",
    "    \"boxer and manager\",\n",
    "    \"unlicensed boxer\",\n",
    "    \"Olympic boxer []\",\n",
    "    \"flyweight boxer\",\n",
    "    \"Muay kickboxer\",\n",
    "    \"Olympic boxer\",\n",
    "    \"and kickboxer\",\n",
    "    \"kickboxer and\",\n",
    "    \"amateur boxer\",\n",
    "    \"Serb boxer\",\n",
    "    \"kickboxer\",\n",
    "    \"champion boxer\",\n",
    "    \"era boxer\",\n",
    "    \"boxer and\",\n",
    "    \"and boxer\",\n",
    "    \"boxer\",\n",
    "]\n",
    "sciences = []\n",
    "\n",
    "business_farming = []\n",
    "academia_humanities = []\n",
    "law_enf_military_operator = [\n",
    "    \"bodyguard for boxer Kostya Tszyu\",  # before sports\n",
    "]\n",
    "spiritual = []\n",
    "social = []\n",
    "crime = []\n",
    "event_record_other = []\n",
    "other_species = []"
   ]
  },
  {
   "cell_type": "markdown",
   "id": "2a53a6ae",
   "metadata": {},
   "source": [
    "#### Creating `known_for_dict` Dictionary of Category Keys and Specific Role Lists of Values"
   ]
  },
  {
   "cell_type": "code",
   "execution_count": 548,
   "id": "f9ebae10",
   "metadata": {},
   "outputs": [
    {
     "data": {
      "application/javascript": [
       "\n",
       "            setTimeout(function() {\n",
       "                var nbb_cell_id = 548;\n",
       "                var nbb_unformatted_code = \"# Combining separate lists into one dictionary\\nknown_for_dict = {\\n    \\\"social\\\": social,\\n    \\\"spiritual\\\": spiritual,\\n    \\\"academia_humanities\\\": academia_humanities,\\n    \\\"business_farming\\\": business_farming,\\n    \\\"sciences\\\": sciences,\\n    \\\"politics_govt_law\\\": politics_govt_law,\\n    \\\"law_enf_military_operator\\\": law_enf_military_operator,\\n    \\\"crime\\\": crime,\\n    \\\"event_record_other\\\": event_record_other,\\n    \\\"other_species\\\": other_species,\\n    \\\"arts\\\": arts,\\n    \\\"sports\\\": sports,\\n}\";\n",
       "                var nbb_formatted_code = \"# Combining separate lists into one dictionary\\nknown_for_dict = {\\n    \\\"social\\\": social,\\n    \\\"spiritual\\\": spiritual,\\n    \\\"academia_humanities\\\": academia_humanities,\\n    \\\"business_farming\\\": business_farming,\\n    \\\"sciences\\\": sciences,\\n    \\\"politics_govt_law\\\": politics_govt_law,\\n    \\\"law_enf_military_operator\\\": law_enf_military_operator,\\n    \\\"crime\\\": crime,\\n    \\\"event_record_other\\\": event_record_other,\\n    \\\"other_species\\\": other_species,\\n    \\\"arts\\\": arts,\\n    \\\"sports\\\": sports,\\n}\";\n",
       "                var nbb_cells = Jupyter.notebook.get_cells();\n",
       "                for (var i = 0; i < nbb_cells.length; ++i) {\n",
       "                    if (nbb_cells[i].input_prompt_number == nbb_cell_id) {\n",
       "                        if (nbb_cells[i].get_text() == nbb_unformatted_code) {\n",
       "                             nbb_cells[i].set_text(nbb_formatted_code);\n",
       "                        }\n",
       "                        break;\n",
       "                    }\n",
       "                }\n",
       "            }, 500);\n",
       "            "
      ],
      "text/plain": [
       "<IPython.core.display.Javascript object>"
      ]
     },
     "metadata": {},
     "output_type": "display_data"
    }
   ],
   "source": [
    "# Combining separate lists into one dictionary\n",
    "known_for_dict = {\n",
    "    \"social\": social,\n",
    "    \"spiritual\": spiritual,\n",
    "    \"academia_humanities\": academia_humanities,\n",
    "    \"business_farming\": business_farming,\n",
    "    \"sciences\": sciences,\n",
    "    \"politics_govt_law\": politics_govt_law,\n",
    "    \"law_enf_military_operator\": law_enf_military_operator,\n",
    "    \"crime\": crime,\n",
    "    \"event_record_other\": event_record_other,\n",
    "    \"other_species\": other_species,\n",
    "    \"arts\": arts,\n",
    "    \"sports\": sports,\n",
    "}"
   ]
  },
  {
   "cell_type": "markdown",
   "id": "03ce2a80",
   "metadata": {},
   "source": [
    "#### Extracting Category from `info_2`"
   ]
  },
  {
   "cell_type": "code",
   "execution_count": 555,
   "id": "cb87bb22",
   "metadata": {},
   "outputs": [
    {
     "name": "stdout",
     "output_type": "stream",
     "text": [
      "CPU times: total: 46.4 s\n",
      "Wall time: 46.4 s\n"
     ]
    },
    {
     "data": {
      "text/html": [
       "<div>\n",
       "<style scoped>\n",
       "    .dataframe tbody tr th:only-of-type {\n",
       "        vertical-align: middle;\n",
       "    }\n",
       "\n",
       "    .dataframe tbody tr th {\n",
       "        vertical-align: top;\n",
       "    }\n",
       "\n",
       "    .dataframe thead th {\n",
       "        text-align: right;\n",
       "    }\n",
       "</style>\n",
       "<table border=\"1\" class=\"dataframe\">\n",
       "  <thead>\n",
       "    <tr style=\"text-align: right;\">\n",
       "      <th></th>\n",
       "      <th>day</th>\n",
       "      <th>name</th>\n",
       "      <th>info</th>\n",
       "      <th>link</th>\n",
       "      <th>num_references</th>\n",
       "      <th>year</th>\n",
       "      <th>month</th>\n",
       "      <th>info_parenth</th>\n",
       "      <th>info_1</th>\n",
       "      <th>info_2</th>\n",
       "      <th>info_3</th>\n",
       "      <th>info_4</th>\n",
       "      <th>info_5</th>\n",
       "      <th>info_6</th>\n",
       "      <th>info_7</th>\n",
       "      <th>info_8</th>\n",
       "      <th>info_9</th>\n",
       "      <th>info_10</th>\n",
       "      <th>info_11</th>\n",
       "      <th>age</th>\n",
       "      <th>cause_of_death</th>\n",
       "      <th>place_1</th>\n",
       "      <th>place_2</th>\n",
       "      <th>info_parenth_copy</th>\n",
       "      <th>log_num_references</th>\n",
       "      <th>sciences</th>\n",
       "      <th>social</th>\n",
       "      <th>spiritual</th>\n",
       "      <th>academia_humanities</th>\n",
       "      <th>business_farming</th>\n",
       "      <th>arts</th>\n",
       "      <th>sports</th>\n",
       "      <th>law_enf_military_operator</th>\n",
       "      <th>politics_govt_law</th>\n",
       "      <th>crime</th>\n",
       "      <th>event_record_other</th>\n",
       "      <th>other_species</th>\n",
       "      <th>num_categories</th>\n",
       "    </tr>\n",
       "  </thead>\n",
       "  <tbody>\n",
       "    <tr>\n",
       "      <th>40229</th>\n",
       "      <td>11</td>\n",
       "      <td>Seamus Bonner</td>\n",
       "      <td>, 63, Irish Gaelic footballer , short illness.</td>\n",
       "      <td>https://en.wikipedia.org/wiki/Seamus_Bonner</td>\n",
       "      <td>8</td>\n",
       "      <td>2012</td>\n",
       "      <td>October</td>\n",
       "      <td>Donegal</td>\n",
       "      <td>None</td>\n",
       "      <td></td>\n",
       "      <td>short illness</td>\n",
       "      <td>None</td>\n",
       "      <td>None</td>\n",
       "      <td>None</td>\n",
       "      <td>None</td>\n",
       "      <td>None</td>\n",
       "      <td>None</td>\n",
       "      <td>None</td>\n",
       "      <td>None</td>\n",
       "      <td>63.0</td>\n",
       "      <td>None</td>\n",
       "      <td>Ireland</td>\n",
       "      <td>Europe</td>\n",
       "      <td>Donegal</td>\n",
       "      <td>2.197225</td>\n",
       "      <td>0</td>\n",
       "      <td>0</td>\n",
       "      <td>0</td>\n",
       "      <td>0</td>\n",
       "      <td>0</td>\n",
       "      <td>0</td>\n",
       "      <td>1</td>\n",
       "      <td>0</td>\n",
       "      <td>0</td>\n",
       "      <td>0</td>\n",
       "      <td>0</td>\n",
       "      <td>0</td>\n",
       "      <td>1</td>\n",
       "    </tr>\n",
       "    <tr>\n",
       "      <th>44800</th>\n",
       "      <td>12</td>\n",
       "      <td>Frank Tripucka</td>\n",
       "      <td>, 85, American football player , heart failure.</td>\n",
       "      <td>https://en.wikipedia.org/wiki/Frank_Tripucka</td>\n",
       "      <td>15</td>\n",
       "      <td>2013</td>\n",
       "      <td>September</td>\n",
       "      <td>Denver Broncos, Detroit Lions</td>\n",
       "      <td>None</td>\n",
       "      <td></td>\n",
       "      <td>heart failure</td>\n",
       "      <td>None</td>\n",
       "      <td>None</td>\n",
       "      <td>None</td>\n",
       "      <td>None</td>\n",
       "      <td>None</td>\n",
       "      <td>None</td>\n",
       "      <td>None</td>\n",
       "      <td>None</td>\n",
       "      <td>85.0</td>\n",
       "      <td>None</td>\n",
       "      <td>United States of America</td>\n",
       "      <td>None</td>\n",
       "      <td>Denver Broncos, Detroit Lions</td>\n",
       "      <td>2.772589</td>\n",
       "      <td>0</td>\n",
       "      <td>0</td>\n",
       "      <td>0</td>\n",
       "      <td>0</td>\n",
       "      <td>0</td>\n",
       "      <td>0</td>\n",
       "      <td>1</td>\n",
       "      <td>0</td>\n",
       "      <td>0</td>\n",
       "      <td>0</td>\n",
       "      <td>0</td>\n",
       "      <td>0</td>\n",
       "      <td>1</td>\n",
       "    </tr>\n",
       "  </tbody>\n",
       "</table>\n",
       "</div>"
      ],
      "text/plain": [
       "      day            name                                             info  \\\n",
       "40229  11   Seamus Bonner   , 63, Irish Gaelic footballer , short illness.   \n",
       "44800  12  Frank Tripucka  , 85, American football player , heart failure.   \n",
       "\n",
       "                                               link  num_references  year  \\\n",
       "40229   https://en.wikipedia.org/wiki/Seamus_Bonner               8  2012   \n",
       "44800  https://en.wikipedia.org/wiki/Frank_Tripucka              15  2013   \n",
       "\n",
       "           month                   info_parenth info_1 info_2         info_3  \\\n",
       "40229    October                        Donegal   None         short illness   \n",
       "44800  September  Denver Broncos, Detroit Lions   None         heart failure   \n",
       "\n",
       "      info_4 info_5 info_6 info_7 info_8 info_9 info_10 info_11   age  \\\n",
       "40229   None   None   None   None   None   None    None    None  63.0   \n",
       "44800   None   None   None   None   None   None    None    None  85.0   \n",
       "\n",
       "      cause_of_death                   place_1 place_2  \\\n",
       "40229           None                   Ireland  Europe   \n",
       "44800           None  United States of America    None   \n",
       "\n",
       "                   info_parenth_copy  log_num_references  sciences  social  \\\n",
       "40229                        Donegal            2.197225         0       0   \n",
       "44800  Denver Broncos, Detroit Lions            2.772589         0       0   \n",
       "\n",
       "       spiritual  academia_humanities  business_farming  arts  sports  \\\n",
       "40229          0                    0                 0     0       1   \n",
       "44800          0                    0                 0     0       1   \n",
       "\n",
       "       law_enf_military_operator  politics_govt_law  crime  \\\n",
       "40229                          0                  0      0   \n",
       "44800                          0                  0      0   \n",
       "\n",
       "       event_record_other  other_species  num_categories  \n",
       "40229                   0              0               1  \n",
       "44800                   0              0               1  "
      ]
     },
     "execution_count": 555,
     "metadata": {},
     "output_type": "execute_result"
    },
    {
     "data": {
      "application/javascript": [
       "\n",
       "            setTimeout(function() {\n",
       "                var nbb_cell_id = 555;\n",
       "                var nbb_unformatted_code = \"%%time\\n\\n# Dictionary version\\nsearch_dict = known_for_dict\\n\\n# Column to check\\ncolumn = 'info_2'\\n\\n# Dataframe\\ndataframe = df[column].notna()\\n\\n# For loop to find role in column and extract it as category\\nfor category, category_lst in search_dict.items():\\n    for role in category_lst:\\n        for index in dataframe.index:\\n            item = df.loc[index, column]\\n            if item:\\n                if role in item:\\n                    df.loc[index, category] = 1\\n                    df.loc[index, column] = item.replace(role, '').strip()\\n\\n# Updating num_categories\\ndf[\\\"num_categories\\\"] = df[known_for_dict.keys()].sum(axis=1)\\n\\n# Checking a sample of rows\\ndf[df['sports'] ==1].sample(2)\";\n",
       "                var nbb_formatted_code = \"%%time\\n\\n# Dictionary version\\nsearch_dict = known_for_dict\\n\\n# Column to check\\ncolumn = 'info_2'\\n\\n# Dataframe\\ndataframe = df[column].notna()\\n\\n# For loop to find role in column and extract it as category\\nfor category, category_lst in search_dict.items():\\n    for role in category_lst:\\n        for index in dataframe.index:\\n            item = df.loc[index, column]\\n            if item:\\n                if role in item:\\n                    df.loc[index, category] = 1\\n                    df.loc[index, column] = item.replace(role, '').strip()\\n\\n# Updating num_categories\\ndf[\\\"num_categories\\\"] = df[known_for_dict.keys()].sum(axis=1)\\n\\n# Checking a sample of rows\\ndf[df['sports'] ==1].sample(2)\";\n",
       "                var nbb_cells = Jupyter.notebook.get_cells();\n",
       "                for (var i = 0; i < nbb_cells.length; ++i) {\n",
       "                    if (nbb_cells[i].input_prompt_number == nbb_cell_id) {\n",
       "                        if (nbb_cells[i].get_text() == nbb_unformatted_code) {\n",
       "                             nbb_cells[i].set_text(nbb_formatted_code);\n",
       "                        }\n",
       "                        break;\n",
       "                    }\n",
       "                }\n",
       "            }, 500);\n",
       "            "
      ],
      "text/plain": [
       "<IPython.core.display.Javascript object>"
      ]
     },
     "metadata": {},
     "output_type": "display_data"
    }
   ],
   "source": [
    "%%time\n",
    "\n",
    "# Dictionary version\n",
    "search_dict = known_for_dict\n",
    "\n",
    "# Column to check\n",
    "column = 'info_2'\n",
    "\n",
    "# Dataframe\n",
    "dataframe = df[column].notna()\n",
    "\n",
    "# For loop to find role in column and extract it as category\n",
    "for category, category_lst in search_dict.items():\n",
    "    for role in category_lst:\n",
    "        for index in dataframe.index:\n",
    "            item = df.loc[index, column]\n",
    "            if item:\n",
    "                if role in item:\n",
    "                    df.loc[index, category] = 1\n",
    "                    df.loc[index, column] = item.replace(role, '').strip()\n",
    "\n",
    "# Updating num_categories\n",
    "df[\"num_categories\"] = df[known_for_dict.keys()].sum(axis=1)\n",
    "\n",
    "# Checking a sample of rows\n",
    "df[df['sports'] ==1].sample(2)"
   ]
  },
  {
   "cell_type": "markdown",
   "id": "cebef38f",
   "metadata": {},
   "source": [
    "#### Checking the Number of Rows without a First Category"
   ]
  },
  {
   "cell_type": "code",
   "execution_count": 556,
   "id": "2b973250",
   "metadata": {},
   "outputs": [
    {
     "name": "stdout",
     "output_type": "stream",
     "text": [
      "There are 34663 entries without any known_for category.\n"
     ]
    },
    {
     "data": {
      "application/javascript": [
       "\n",
       "            setTimeout(function() {\n",
       "                var nbb_cell_id = 556;\n",
       "                var nbb_unformatted_code = \"# Checking the number of rows without a first category\\nprint(\\n    f'There are {len(df[df[\\\"num_categories\\\"]==0])} entries without any known_for category.'\\n)\";\n",
       "                var nbb_formatted_code = \"# Checking the number of rows without a first category\\nprint(\\n    f'There are {len(df[df[\\\"num_categories\\\"]==0])} entries without any known_for category.'\\n)\";\n",
       "                var nbb_cells = Jupyter.notebook.get_cells();\n",
       "                for (var i = 0; i < nbb_cells.length; ++i) {\n",
       "                    if (nbb_cells[i].input_prompt_number == nbb_cell_id) {\n",
       "                        if (nbb_cells[i].get_text() == nbb_unformatted_code) {\n",
       "                             nbb_cells[i].set_text(nbb_formatted_code);\n",
       "                        }\n",
       "                        break;\n",
       "                    }\n",
       "                }\n",
       "            }, 500);\n",
       "            "
      ],
      "text/plain": [
       "<IPython.core.display.Javascript object>"
      ]
     },
     "metadata": {},
     "output_type": "display_data"
    }
   ],
   "source": [
    "# Checking the number of rows without a first category\n",
    "print(\n",
    "    f'There are {len(df[df[\"num_categories\"]==0])} entries without any known_for category.'\n",
    ")"
   ]
  },
  {
   "cell_type": "markdown",
   "id": "3ba8a329",
   "metadata": {},
   "source": [
    "#### Observations:\n",
    "- We will proceed to rebuild `known_for_dict` for the next iteration."
   ]
  },
  {
   "cell_type": "markdown",
   "id": "53f556d7",
   "metadata": {},
   "source": [
    "#### Finding `known_for` Roles in `info_2`"
   ]
  },
  {
   "cell_type": "code",
   "execution_count": 813,
   "id": "7f723122",
   "metadata": {},
   "outputs": [
    {
     "data": {
      "application/javascript": [
       "\n",
       "            setTimeout(function() {\n",
       "                var nbb_cell_id = 813;\n",
       "                var nbb_unformatted_code = \"# # Obtaining values for column and their counts\\n# roles_list = df[\\\"info_2\\\"].value_counts(ascending=True).index.tolist()\";\n",
       "                var nbb_formatted_code = \"# # Obtaining values for column and their counts\\n# roles_list = df[\\\"info_2\\\"].value_counts(ascending=True).index.tolist()\";\n",
       "                var nbb_cells = Jupyter.notebook.get_cells();\n",
       "                for (var i = 0; i < nbb_cells.length; ++i) {\n",
       "                    if (nbb_cells[i].input_prompt_number == nbb_cell_id) {\n",
       "                        if (nbb_cells[i].get_text() == nbb_unformatted_code) {\n",
       "                             nbb_cells[i].set_text(nbb_formatted_code);\n",
       "                        }\n",
       "                        break;\n",
       "                    }\n",
       "                }\n",
       "            }, 500);\n",
       "            "
      ],
      "text/plain": [
       "<IPython.core.display.Javascript object>"
      ]
     },
     "metadata": {},
     "output_type": "display_data"
    }
   ],
   "source": [
    "# # Obtaining values for column and their counts\n",
    "# roles_list = df[\"info_2\"].value_counts(ascending=True).index.tolist()"
   ]
  },
  {
   "cell_type": "code",
   "execution_count": 812,
   "id": "687f881c",
   "metadata": {},
   "outputs": [
    {
     "data": {
      "application/javascript": [
       "\n",
       "            setTimeout(function() {\n",
       "                var nbb_cell_id = 812;\n",
       "                var nbb_unformatted_code = \"# # Code to check each value\\n# roles_list.pop()\";\n",
       "                var nbb_formatted_code = \"# # Code to check each value\\n# roles_list.pop()\";\n",
       "                var nbb_cells = Jupyter.notebook.get_cells();\n",
       "                for (var i = 0; i < nbb_cells.length; ++i) {\n",
       "                    if (nbb_cells[i].input_prompt_number == nbb_cell_id) {\n",
       "                        if (nbb_cells[i].get_text() == nbb_unformatted_code) {\n",
       "                             nbb_cells[i].set_text(nbb_formatted_code);\n",
       "                        }\n",
       "                        break;\n",
       "                    }\n",
       "                }\n",
       "            }, 500);\n",
       "            "
      ],
      "text/plain": [
       "<IPython.core.display.Javascript object>"
      ]
     },
     "metadata": {},
     "output_type": "display_data"
    }
   ],
   "source": [
    "# # Code to check each value\n",
    "# roles_list.pop()"
   ]
  },
  {
   "cell_type": "code",
   "execution_count": 811,
   "id": "8a6d1efb",
   "metadata": {},
   "outputs": [
    {
     "data": {
      "application/javascript": [
       "\n",
       "            setTimeout(function() {\n",
       "                var nbb_cell_id = 811;\n",
       "                var nbb_unformatted_code = \"# # Create specific_roles_list for above popped value\\n# specific_roles_list = (\\n#     df.loc[\\n#         [index for index in df.index if \\\"scientist\\\" in df.loc[index, \\\"info\\\"]], \\\"info_2\\\",\\n#     ]\\n#     .value_counts()\\n#     .index.tolist()\\n# )\";\n",
       "                var nbb_formatted_code = \"# # Create specific_roles_list for above popped value\\n# specific_roles_list = (\\n#     df.loc[\\n#         [index for index in df.index if \\\"scientist\\\" in df.loc[index, \\\"info\\\"]], \\\"info_2\\\",\\n#     ]\\n#     .value_counts()\\n#     .index.tolist()\\n# )\";\n",
       "                var nbb_cells = Jupyter.notebook.get_cells();\n",
       "                for (var i = 0; i < nbb_cells.length; ++i) {\n",
       "                    if (nbb_cells[i].input_prompt_number == nbb_cell_id) {\n",
       "                        if (nbb_cells[i].get_text() == nbb_unformatted_code) {\n",
       "                             nbb_cells[i].set_text(nbb_formatted_code);\n",
       "                        }\n",
       "                        break;\n",
       "                    }\n",
       "                }\n",
       "            }, 500);\n",
       "            "
      ],
      "text/plain": [
       "<IPython.core.display.Javascript object>"
      ]
     },
     "metadata": {},
     "output_type": "display_data"
    }
   ],
   "source": [
    "# # Create specific_roles_list for above popped value\n",
    "# specific_roles_list = (\n",
    "#     df.loc[\n",
    "#         [index for index in df.index if \"scientist\" in df.loc[index, \"info\"]], \"info_2\",\n",
    "#     ]\n",
    "#     .value_counts()\n",
    "#     .index.tolist()\n",
    "# )"
   ]
  },
  {
   "cell_type": "code",
   "execution_count": 810,
   "id": "3c372e9b",
   "metadata": {},
   "outputs": [
    {
     "data": {
      "application/javascript": [
       "\n",
       "            setTimeout(function() {\n",
       "                var nbb_cell_id = 810;\n",
       "                var nbb_unformatted_code = \"# # Code to check each specific value\\n# specific_roles_list.pop()\";\n",
       "                var nbb_formatted_code = \"# # Code to check each specific value\\n# specific_roles_list.pop()\";\n",
       "                var nbb_cells = Jupyter.notebook.get_cells();\n",
       "                for (var i = 0; i < nbb_cells.length; ++i) {\n",
       "                    if (nbb_cells[i].input_prompt_number == nbb_cell_id) {\n",
       "                        if (nbb_cells[i].get_text() == nbb_unformatted_code) {\n",
       "                             nbb_cells[i].set_text(nbb_formatted_code);\n",
       "                        }\n",
       "                        break;\n",
       "                    }\n",
       "                }\n",
       "            }, 500);\n",
       "            "
      ],
      "text/plain": [
       "<IPython.core.display.Javascript object>"
      ]
     },
     "metadata": {},
     "output_type": "display_data"
    }
   ],
   "source": [
    "# # Code to check each specific value\n",
    "# specific_roles_list.pop()"
   ]
  },
  {
   "cell_type": "code",
   "execution_count": 809,
   "id": "b66d3226",
   "metadata": {},
   "outputs": [
    {
     "data": {
      "application/javascript": [
       "\n",
       "            setTimeout(function() {\n",
       "                var nbb_cell_id = 809;\n",
       "                var nbb_unformatted_code = \"# # Example code to quick-screen values that may overlap categories\\n# df.loc[\\n#     [\\n#         index\\n#         for index in df.index\\n#         if \\\"scientist and administrator\\\" in df.loc[index, \\\"info\\\"]\\n#     ]\\n# ]\";\n",
       "                var nbb_formatted_code = \"# # Example code to quick-screen values that may overlap categories\\n# df.loc[\\n#     [\\n#         index\\n#         for index in df.index\\n#         if \\\"scientist and administrator\\\" in df.loc[index, \\\"info\\\"]\\n#     ]\\n# ]\";\n",
       "                var nbb_cells = Jupyter.notebook.get_cells();\n",
       "                for (var i = 0; i < nbb_cells.length; ++i) {\n",
       "                    if (nbb_cells[i].input_prompt_number == nbb_cell_id) {\n",
       "                        if (nbb_cells[i].get_text() == nbb_unformatted_code) {\n",
       "                             nbb_cells[i].set_text(nbb_formatted_code);\n",
       "                        }\n",
       "                        break;\n",
       "                    }\n",
       "                }\n",
       "            }, 500);\n",
       "            "
      ],
      "text/plain": [
       "<IPython.core.display.Javascript object>"
      ]
     },
     "metadata": {},
     "output_type": "display_data"
    }
   ],
   "source": [
    "# # Example code to quick-screen values that may overlap categories\n",
    "# df.loc[\n",
    "#     [\n",
    "#         index\n",
    "#         for index in df.index\n",
    "#         if \"scientist and administrator\" in df.loc[index, \"info\"]\n",
    "#     ]\n",
    "# ]"
   ]
  },
  {
   "cell_type": "code",
   "execution_count": 808,
   "id": "190b1cb9",
   "metadata": {},
   "outputs": [
    {
     "data": {
      "application/javascript": [
       "\n",
       "            setTimeout(function() {\n",
       "                var nbb_cell_id = 808;\n",
       "                var nbb_unformatted_code = \"# # Example code to quick-check a specific entry\\n# df[df[\\\"info_2\\\"] == \\\"farmer scientist\\\"]\";\n",
       "                var nbb_formatted_code = \"# # Example code to quick-check a specific entry\\n# df[df[\\\"info_2\\\"] == \\\"farmer scientist\\\"]\";\n",
       "                var nbb_cells = Jupyter.notebook.get_cells();\n",
       "                for (var i = 0; i < nbb_cells.length; ++i) {\n",
       "                    if (nbb_cells[i].input_prompt_number == nbb_cell_id) {\n",
       "                        if (nbb_cells[i].get_text() == nbb_unformatted_code) {\n",
       "                             nbb_cells[i].set_text(nbb_formatted_code);\n",
       "                        }\n",
       "                        break;\n",
       "                    }\n",
       "                }\n",
       "            }, 500);\n",
       "            "
      ],
      "text/plain": [
       "<IPython.core.display.Javascript object>"
      ]
     },
     "metadata": {},
     "output_type": "display_data"
    }
   ],
   "source": [
    "# # Example code to quick-check a specific entry\n",
    "# df[df[\"info_2\"] == \"farmer scientist\"]"
   ]
  },
  {
   "cell_type": "markdown",
   "id": "5c9475fc",
   "metadata": {},
   "source": [
    "#### Creating Lists for Each `known_for` Category"
   ]
  },
  {
   "cell_type": "code",
   "execution_count": 806,
   "id": "9a9eb5e3",
   "metadata": {},
   "outputs": [
    {
     "data": {
      "application/javascript": [
       "\n",
       "            setTimeout(function() {\n",
       "                var nbb_cell_id = 806;\n",
       "                var nbb_unformatted_code = \"# Creating lists for each category\\npolitics_govt_law = [\\n    'political scientist and nonviolence advocate',\\n    'political scientist and watcher',\\n    'political scientist and legal',\\n    'political scientist and',\\n    'and political scientist',\\n    'political scientist', # before sciences\\n    'Ostforschung',\\n]\\n\\narts = []\\nsports = [\\n\\n\\n]\\nsciences = [\\n    'scientist whose pioneering measurements showed a carbon dioxide buildup in the earth atmosphere',\\n    'Manhattan Project scientist and former director of Oak Ridge National Laboratory',\\n    'computer scientist and chief designer of the Ada programming language',\\n    'scientist and recipient of the Nobel Prize in Physiology or Medicine',\\n    'computer scientist who led the IBM team that developed Fortran',\\n    'cognitive scientist and pioneer in artificial intelligence',\\n    'pioneering scientist in the field of human consciousness',\\n    'scientist whose work helped develop prion theory',\\n    'nuclear scientist and father of nuclear program',\\n    'research scientist and influenza vaccine expert',\\n    'scientist credited with inventing the wetsuit',\\n    'marine biologist and environmental scientist',\\n    'scientist and X ray crystallography pioneer',\\n    'food technologist and nutritional scientist',\\n    'scientist and organ transplantation pioneer',\\n    'and social scientist who coined the term \\\"\\\"',\\n    'computer and information research scientist',\\n    'computer scientist and Turing Award winner',\\n    'scientist who co founded the Club of Rome',\\n    'neuroscientist and evolutionary biologist',\\n    'scientist and former Bell Labs president',\\n    'marine biologist and fisheries scientist',\\n    'agricultural scientist and plant breeder',\\n    'atmospheric scientist and meteorologist',\\n    'computer scientist and internet pioneer',\\n    'scientist and Down syndrome researcher',\\n    'ichthyologist and fisheries scientist',\\n    'computer scientist at Rice University',\\n    'psychological and cognitive scientist',\\n    'paleontologist and forensic scientist',\\n    'neuroscientist and autism researcher',\\n    'agricultural scientist and ecologist',\\n    'computer scientist and microcomputer',\\n    'ecologist and conservation scientist',\\n    'biologist and agricultural scientist',\\n    'scientist and co founder of the JPL',\\n    'computer scientist and statistician',\\n    'rocket scientist and NASA executive',\\n    'statistician and computer scientist',\\n    'scientist and Nobel Prize laureate',\\n    'food scientist and microbiologist',\\n    'scientist and diabetes researcher',\\n    'scientist and computer programmer',\\n    'computer scientist and astronomer',\\n    'geologist and planetary scientist',\\n    'atmospheric and climate scientist',\\n    'computer scientist and programmer',\\n    'Hall of Fame computer scientist',\\n    'scientist and earthquake expert',\\n    'inventor and forensic scientist',\\n    'neuroscientist and physiologist',\\n    'psychiatrist and neuroscientist',\\n    'computer scientist and inventor',\\n    'computer scientist and pioneer',\\n    'environmental health scientist',\\n    'interdisciplanarily scientist',\\n    'scientist and endocrinologist',\\n    'doctor and medical scientist',\\n    'computer scientist from UCSD',\\n    'computational neuroscientist',\\n    'geologist and soil scientist',\\n    'and climate change scientist',\\n    'scientist and ISRO chairman',\\n    'scientist and administrator',\\n    'medical research scientist',\\n    'missile control scientist',\\n    'earth scientist and polar',\\n    'cancer research scientist',\\n    'behavioral neuroscientist',\\n    'pulp and paper scientist',\\n    'cognitive neuroscientist',\\n    'pharmaceutical scientist',\\n    'horticultural scientist',\\n    'communication scientist',\\n    'public health scientist',\\n    'environmental scientist',\\n    'scientist and inventor',\\n    'conservation scientist',\\n    'high voltage scientist',\\n    'research scientist and',\\n    'Tatar rocket scientist',\\n    'computer scientist and',\\n    'and computer scientist',\\n    'IBM computer scientist',\\n    'biomaterials scientist',\\n    'and forensic scientist',\\n    'inventor and scientist',\\n    'aeronautical scientist',\\n    'agricultural scientist',\\n    'surgeon and scientist',\\n    'and nuclear scientist',\\n    'atmospheric scientist',\\n    'information scientist',\\n    'social scientist and',\\n    'and social scientist',\\n    'doctor and scientist',\\n    'biomedical scientist',\\n    'and rocket scientist',\\n    'veterinary scientist',\\n    'nutrition scientist',\\n    'stem cell scientist',\\n    'fuel cell scientist',\\n    'polar scientist and',\\n    'plant scientist and',\\n    'fisheries scientist',\\n    'molecular scientist',\\n    'cognitive scientist',\\n    'planetary scientist',\\n    'materials scientist',\\n    'computer scientist',\\n    'wildlife scientist',\\n    'neuroscientist and',\\n    'research scientist',\\n    'and neuroscientist',\\n    'medical  scientist',\\n    'cultural scientist',\\n    'material scientist',\\n    'medical scientist',\\n    'climate scientist',\\n    'nuclear scientist',\\n    'rocket scientist',\\n    'geoscientist and',\\n    'forest scientist',\\n    'animal scientist',\\n    'marine scientist',\\n    'social scientist',\\n    'polar scientist',\\n    'radio scientist',\\n    'neuro scientist',\\n    'space scientist',\\n    'rice scientist',\\n    'soil scientist',\\n    'food scientist',\\n    'neuroscientist',\\n    'geoscientist',\\n    'scientist and',\\n    'and scientist',\\n    'scientist'\\n]\\n\\nbusiness_farming = []\\nacademia_humanities = [\\n    'literary scientist', # before sciences\\n    'media scientist',\\n]\\nlaw_enf_military_operator = [\\n    'weapons expert'\\n]\\nspiritual = []\\nsocial = []\\ncrime = []\\nevent_record_other = [\\n    'Unabomber target'\\n]\\nother_species = []\";\n",
       "                var nbb_formatted_code = \"# Creating lists for each category\\npolitics_govt_law = [\\n    \\\"political scientist and nonviolence advocate\\\",\\n    \\\"political scientist and watcher\\\",\\n    \\\"political scientist and legal\\\",\\n    \\\"political scientist and\\\",\\n    \\\"and political scientist\\\",\\n    \\\"political scientist\\\",  # before sciences\\n    \\\"Ostforschung\\\",\\n]\\n\\narts = []\\nsports = []\\nsciences = [\\n    \\\"scientist whose pioneering measurements showed a carbon dioxide buildup in the earth atmosphere\\\",\\n    \\\"Manhattan Project scientist and former director of Oak Ridge National Laboratory\\\",\\n    \\\"computer scientist and chief designer of the Ada programming language\\\",\\n    \\\"scientist and recipient of the Nobel Prize in Physiology or Medicine\\\",\\n    \\\"computer scientist who led the IBM team that developed Fortran\\\",\\n    \\\"cognitive scientist and pioneer in artificial intelligence\\\",\\n    \\\"pioneering scientist in the field of human consciousness\\\",\\n    \\\"scientist whose work helped develop prion theory\\\",\\n    \\\"nuclear scientist and father of nuclear program\\\",\\n    \\\"research scientist and influenza vaccine expert\\\",\\n    \\\"scientist credited with inventing the wetsuit\\\",\\n    \\\"marine biologist and environmental scientist\\\",\\n    \\\"scientist and X ray crystallography pioneer\\\",\\n    \\\"food technologist and nutritional scientist\\\",\\n    \\\"scientist and organ transplantation pioneer\\\",\\n    'and social scientist who coined the term \\\"\\\"',\\n    \\\"computer and information research scientist\\\",\\n    \\\"computer scientist and Turing Award winner\\\",\\n    \\\"scientist who co founded the Club of Rome\\\",\\n    \\\"neuroscientist and evolutionary biologist\\\",\\n    \\\"scientist and former Bell Labs president\\\",\\n    \\\"marine biologist and fisheries scientist\\\",\\n    \\\"agricultural scientist and plant breeder\\\",\\n    \\\"atmospheric scientist and meteorologist\\\",\\n    \\\"computer scientist and internet pioneer\\\",\\n    \\\"scientist and Down syndrome researcher\\\",\\n    \\\"ichthyologist and fisheries scientist\\\",\\n    \\\"computer scientist at Rice University\\\",\\n    \\\"psychological and cognitive scientist\\\",\\n    \\\"paleontologist and forensic scientist\\\",\\n    \\\"neuroscientist and autism researcher\\\",\\n    \\\"agricultural scientist and ecologist\\\",\\n    \\\"computer scientist and microcomputer\\\",\\n    \\\"ecologist and conservation scientist\\\",\\n    \\\"biologist and agricultural scientist\\\",\\n    \\\"scientist and co founder of the JPL\\\",\\n    \\\"computer scientist and statistician\\\",\\n    \\\"rocket scientist and NASA executive\\\",\\n    \\\"statistician and computer scientist\\\",\\n    \\\"scientist and Nobel Prize laureate\\\",\\n    \\\"food scientist and microbiologist\\\",\\n    \\\"scientist and diabetes researcher\\\",\\n    \\\"scientist and computer programmer\\\",\\n    \\\"computer scientist and astronomer\\\",\\n    \\\"geologist and planetary scientist\\\",\\n    \\\"atmospheric and climate scientist\\\",\\n    \\\"computer scientist and programmer\\\",\\n    \\\"Hall of Fame computer scientist\\\",\\n    \\\"scientist and earthquake expert\\\",\\n    \\\"inventor and forensic scientist\\\",\\n    \\\"neuroscientist and physiologist\\\",\\n    \\\"psychiatrist and neuroscientist\\\",\\n    \\\"computer scientist and inventor\\\",\\n    \\\"computer scientist and pioneer\\\",\\n    \\\"environmental health scientist\\\",\\n    \\\"interdisciplanarily scientist\\\",\\n    \\\"scientist and endocrinologist\\\",\\n    \\\"doctor and medical scientist\\\",\\n    \\\"computer scientist from UCSD\\\",\\n    \\\"computational neuroscientist\\\",\\n    \\\"geologist and soil scientist\\\",\\n    \\\"and climate change scientist\\\",\\n    \\\"scientist and ISRO chairman\\\",\\n    \\\"scientist and administrator\\\",\\n    \\\"medical research scientist\\\",\\n    \\\"missile control scientist\\\",\\n    \\\"earth scientist and polar\\\",\\n    \\\"cancer research scientist\\\",\\n    \\\"behavioral neuroscientist\\\",\\n    \\\"pulp and paper scientist\\\",\\n    \\\"cognitive neuroscientist\\\",\\n    \\\"pharmaceutical scientist\\\",\\n    \\\"horticultural scientist\\\",\\n    \\\"communication scientist\\\",\\n    \\\"public health scientist\\\",\\n    \\\"environmental scientist\\\",\\n    \\\"scientist and inventor\\\",\\n    \\\"conservation scientist\\\",\\n    \\\"high voltage scientist\\\",\\n    \\\"research scientist and\\\",\\n    \\\"Tatar rocket scientist\\\",\\n    \\\"computer scientist and\\\",\\n    \\\"and computer scientist\\\",\\n    \\\"IBM computer scientist\\\",\\n    \\\"biomaterials scientist\\\",\\n    \\\"and forensic scientist\\\",\\n    \\\"inventor and scientist\\\",\\n    \\\"aeronautical scientist\\\",\\n    \\\"agricultural scientist\\\",\\n    \\\"surgeon and scientist\\\",\\n    \\\"and nuclear scientist\\\",\\n    \\\"atmospheric scientist\\\",\\n    \\\"information scientist\\\",\\n    \\\"social scientist and\\\",\\n    \\\"and social scientist\\\",\\n    \\\"doctor and scientist\\\",\\n    \\\"biomedical scientist\\\",\\n    \\\"and rocket scientist\\\",\\n    \\\"veterinary scientist\\\",\\n    \\\"nutrition scientist\\\",\\n    \\\"stem cell scientist\\\",\\n    \\\"fuel cell scientist\\\",\\n    \\\"polar scientist and\\\",\\n    \\\"plant scientist and\\\",\\n    \\\"fisheries scientist\\\",\\n    \\\"molecular scientist\\\",\\n    \\\"cognitive scientist\\\",\\n    \\\"planetary scientist\\\",\\n    \\\"materials scientist\\\",\\n    \\\"computer scientist\\\",\\n    \\\"wildlife scientist\\\",\\n    \\\"neuroscientist and\\\",\\n    \\\"research scientist\\\",\\n    \\\"and neuroscientist\\\",\\n    \\\"medical  scientist\\\",\\n    \\\"cultural scientist\\\",\\n    \\\"material scientist\\\",\\n    \\\"medical scientist\\\",\\n    \\\"climate scientist\\\",\\n    \\\"nuclear scientist\\\",\\n    \\\"rocket scientist\\\",\\n    \\\"geoscientist and\\\",\\n    \\\"forest scientist\\\",\\n    \\\"animal scientist\\\",\\n    \\\"marine scientist\\\",\\n    \\\"social scientist\\\",\\n    \\\"polar scientist\\\",\\n    \\\"radio scientist\\\",\\n    \\\"neuro scientist\\\",\\n    \\\"space scientist\\\",\\n    \\\"rice scientist\\\",\\n    \\\"soil scientist\\\",\\n    \\\"food scientist\\\",\\n    \\\"neuroscientist\\\",\\n    \\\"geoscientist\\\",\\n    \\\"scientist and\\\",\\n    \\\"and scientist\\\",\\n    \\\"scientist\\\",\\n]\\n\\nbusiness_farming = []\\nacademia_humanities = [\\n    \\\"literary scientist\\\",  # before sciences\\n    \\\"media scientist\\\",\\n]\\nlaw_enf_military_operator = [\\\"weapons expert\\\"]\\nspiritual = []\\nsocial = []\\ncrime = []\\nevent_record_other = [\\\"Unabomber target\\\"]\\nother_species = []\";\n",
       "                var nbb_cells = Jupyter.notebook.get_cells();\n",
       "                for (var i = 0; i < nbb_cells.length; ++i) {\n",
       "                    if (nbb_cells[i].input_prompt_number == nbb_cell_id) {\n",
       "                        if (nbb_cells[i].get_text() == nbb_unformatted_code) {\n",
       "                             nbb_cells[i].set_text(nbb_formatted_code);\n",
       "                        }\n",
       "                        break;\n",
       "                    }\n",
       "                }\n",
       "            }, 500);\n",
       "            "
      ],
      "text/plain": [
       "<IPython.core.display.Javascript object>"
      ]
     },
     "metadata": {},
     "output_type": "display_data"
    }
   ],
   "source": [
    "# Creating lists for each category\n",
    "politics_govt_law = [\n",
    "    \"political scientist and nonviolence advocate\",\n",
    "    \"political scientist and watcher\",\n",
    "    \"political scientist and legal\",\n",
    "    \"political scientist and\",\n",
    "    \"and political scientist\",\n",
    "    \"political scientist\",  # before sciences\n",
    "    \"Ostforschung\",\n",
    "]\n",
    "\n",
    "arts = []\n",
    "sports = []\n",
    "sciences = [\n",
    "    \"scientist whose pioneering measurements showed a carbon dioxide buildup in the earth atmosphere\",\n",
    "    \"Manhattan Project scientist and former director of Oak Ridge National Laboratory\",\n",
    "    \"computer scientist and chief designer of the Ada programming language\",\n",
    "    \"scientist and recipient of the Nobel Prize in Physiology or Medicine\",\n",
    "    \"computer scientist who led the IBM team that developed Fortran\",\n",
    "    \"cognitive scientist and pioneer in artificial intelligence\",\n",
    "    \"pioneering scientist in the field of human consciousness\",\n",
    "    \"scientist whose work helped develop prion theory\",\n",
    "    \"nuclear scientist and father of nuclear program\",\n",
    "    \"research scientist and influenza vaccine expert\",\n",
    "    \"scientist credited with inventing the wetsuit\",\n",
    "    \"marine biologist and environmental scientist\",\n",
    "    \"scientist and X ray crystallography pioneer\",\n",
    "    \"food technologist and nutritional scientist\",\n",
    "    \"scientist and organ transplantation pioneer\",\n",
    "    'and social scientist who coined the term \"\"',\n",
    "    \"computer and information research scientist\",\n",
    "    \"computer scientist and Turing Award winner\",\n",
    "    \"scientist who co founded the Club of Rome\",\n",
    "    \"neuroscientist and evolutionary biologist\",\n",
    "    \"scientist and former Bell Labs president\",\n",
    "    \"marine biologist and fisheries scientist\",\n",
    "    \"agricultural scientist and plant breeder\",\n",
    "    \"atmospheric scientist and meteorologist\",\n",
    "    \"computer scientist and internet pioneer\",\n",
    "    \"scientist and Down syndrome researcher\",\n",
    "    \"ichthyologist and fisheries scientist\",\n",
    "    \"computer scientist at Rice University\",\n",
    "    \"psychological and cognitive scientist\",\n",
    "    \"paleontologist and forensic scientist\",\n",
    "    \"neuroscientist and autism researcher\",\n",
    "    \"agricultural scientist and ecologist\",\n",
    "    \"computer scientist and microcomputer\",\n",
    "    \"ecologist and conservation scientist\",\n",
    "    \"biologist and agricultural scientist\",\n",
    "    \"scientist and co founder of the JPL\",\n",
    "    \"computer scientist and statistician\",\n",
    "    \"rocket scientist and NASA executive\",\n",
    "    \"statistician and computer scientist\",\n",
    "    \"scientist and Nobel Prize laureate\",\n",
    "    \"food scientist and microbiologist\",\n",
    "    \"scientist and diabetes researcher\",\n",
    "    \"scientist and computer programmer\",\n",
    "    \"computer scientist and astronomer\",\n",
    "    \"geologist and planetary scientist\",\n",
    "    \"atmospheric and climate scientist\",\n",
    "    \"computer scientist and programmer\",\n",
    "    \"Hall of Fame computer scientist\",\n",
    "    \"scientist and earthquake expert\",\n",
    "    \"inventor and forensic scientist\",\n",
    "    \"neuroscientist and physiologist\",\n",
    "    \"psychiatrist and neuroscientist\",\n",
    "    \"computer scientist and inventor\",\n",
    "    \"computer scientist and pioneer\",\n",
    "    \"environmental health scientist\",\n",
    "    \"interdisciplanarily scientist\",\n",
    "    \"scientist and endocrinologist\",\n",
    "    \"doctor and medical scientist\",\n",
    "    \"computer scientist from UCSD\",\n",
    "    \"computational neuroscientist\",\n",
    "    \"geologist and soil scientist\",\n",
    "    \"and climate change scientist\",\n",
    "    \"scientist and ISRO chairman\",\n",
    "    \"scientist and administrator\",\n",
    "    \"medical research scientist\",\n",
    "    \"missile control scientist\",\n",
    "    \"earth scientist and polar\",\n",
    "    \"cancer research scientist\",\n",
    "    \"behavioral neuroscientist\",\n",
    "    \"pulp and paper scientist\",\n",
    "    \"cognitive neuroscientist\",\n",
    "    \"pharmaceutical scientist\",\n",
    "    \"horticultural scientist\",\n",
    "    \"communication scientist\",\n",
    "    \"public health scientist\",\n",
    "    \"environmental scientist\",\n",
    "    \"scientist and inventor\",\n",
    "    \"conservation scientist\",\n",
    "    \"high voltage scientist\",\n",
    "    \"research scientist and\",\n",
    "    \"Tatar rocket scientist\",\n",
    "    \"computer scientist and\",\n",
    "    \"and computer scientist\",\n",
    "    \"IBM computer scientist\",\n",
    "    \"biomaterials scientist\",\n",
    "    \"and forensic scientist\",\n",
    "    \"inventor and scientist\",\n",
    "    \"aeronautical scientist\",\n",
    "    \"agricultural scientist\",\n",
    "    \"surgeon and scientist\",\n",
    "    \"and nuclear scientist\",\n",
    "    \"atmospheric scientist\",\n",
    "    \"information scientist\",\n",
    "    \"social scientist and\",\n",
    "    \"and social scientist\",\n",
    "    \"doctor and scientist\",\n",
    "    \"biomedical scientist\",\n",
    "    \"and rocket scientist\",\n",
    "    \"veterinary scientist\",\n",
    "    \"nutrition scientist\",\n",
    "    \"stem cell scientist\",\n",
    "    \"fuel cell scientist\",\n",
    "    \"polar scientist and\",\n",
    "    \"plant scientist and\",\n",
    "    \"fisheries scientist\",\n",
    "    \"molecular scientist\",\n",
    "    \"cognitive scientist\",\n",
    "    \"planetary scientist\",\n",
    "    \"materials scientist\",\n",
    "    \"computer scientist\",\n",
    "    \"wildlife scientist\",\n",
    "    \"neuroscientist and\",\n",
    "    \"research scientist\",\n",
    "    \"and neuroscientist\",\n",
    "    \"medical  scientist\",\n",
    "    \"cultural scientist\",\n",
    "    \"material scientist\",\n",
    "    \"medical scientist\",\n",
    "    \"climate scientist\",\n",
    "    \"nuclear scientist\",\n",
    "    \"rocket scientist\",\n",
    "    \"geoscientist and\",\n",
    "    \"forest scientist\",\n",
    "    \"animal scientist\",\n",
    "    \"marine scientist\",\n",
    "    \"social scientist\",\n",
    "    \"polar scientist\",\n",
    "    \"radio scientist\",\n",
    "    \"neuro scientist\",\n",
    "    \"space scientist\",\n",
    "    \"rice scientist\",\n",
    "    \"soil scientist\",\n",
    "    \"food scientist\",\n",
    "    \"neuroscientist\",\n",
    "    \"geoscientist\",\n",
    "    \"scientist and\",\n",
    "    \"and scientist\",\n",
    "    \"scientist\",\n",
    "]\n",
    "\n",
    "business_farming = []\n",
    "academia_humanities = [\n",
    "    \"literary scientist\",  # before sciences\n",
    "    \"media scientist\",\n",
    "]\n",
    "law_enf_military_operator = [\"weapons expert\"]\n",
    "spiritual = []\n",
    "social = []\n",
    "crime = []\n",
    "event_record_other = [\"Unabomber target\"]\n",
    "other_species = []"
   ]
  },
  {
   "cell_type": "markdown",
   "id": "132b26f5",
   "metadata": {},
   "source": [
    "#### Creating `known_for_dict` Dictionary of Category Keys and Specific Role Lists of Values"
   ]
  },
  {
   "cell_type": "code",
   "execution_count": 807,
   "id": "61100e44",
   "metadata": {},
   "outputs": [
    {
     "data": {
      "application/javascript": [
       "\n",
       "            setTimeout(function() {\n",
       "                var nbb_cell_id = 807;\n",
       "                var nbb_unformatted_code = \"# Combining separate lists into one dictionary\\nknown_for_dict = {\\n    \\\"social\\\": social,\\n    \\\"spiritual\\\": spiritual,\\n    \\\"academia_humanities\\\": academia_humanities,\\n    \\\"business_farming\\\": business_farming,\\n    \\\"politics_govt_law\\\": politics_govt_law,\\n    \\\"law_enf_military_operator\\\": law_enf_military_operator,\\n    \\\"crime\\\": crime,\\n    \\\"event_record_other\\\": event_record_other,\\n    \\\"other_species\\\": other_species,\\n    \\\"arts\\\": arts,\\n    \\\"sports\\\": sports,\\n    \\\"sciences\\\": sciences,\\n\\n}\";\n",
       "                var nbb_formatted_code = \"# Combining separate lists into one dictionary\\nknown_for_dict = {\\n    \\\"social\\\": social,\\n    \\\"spiritual\\\": spiritual,\\n    \\\"academia_humanities\\\": academia_humanities,\\n    \\\"business_farming\\\": business_farming,\\n    \\\"politics_govt_law\\\": politics_govt_law,\\n    \\\"law_enf_military_operator\\\": law_enf_military_operator,\\n    \\\"crime\\\": crime,\\n    \\\"event_record_other\\\": event_record_other,\\n    \\\"other_species\\\": other_species,\\n    \\\"arts\\\": arts,\\n    \\\"sports\\\": sports,\\n    \\\"sciences\\\": sciences,\\n}\";\n",
       "                var nbb_cells = Jupyter.notebook.get_cells();\n",
       "                for (var i = 0; i < nbb_cells.length; ++i) {\n",
       "                    if (nbb_cells[i].input_prompt_number == nbb_cell_id) {\n",
       "                        if (nbb_cells[i].get_text() == nbb_unformatted_code) {\n",
       "                             nbb_cells[i].set_text(nbb_formatted_code);\n",
       "                        }\n",
       "                        break;\n",
       "                    }\n",
       "                }\n",
       "            }, 500);\n",
       "            "
      ],
      "text/plain": [
       "<IPython.core.display.Javascript object>"
      ]
     },
     "metadata": {},
     "output_type": "display_data"
    }
   ],
   "source": [
    "# Combining separate lists into one dictionary\n",
    "known_for_dict = {\n",
    "    \"social\": social,\n",
    "    \"spiritual\": spiritual,\n",
    "    \"academia_humanities\": academia_humanities,\n",
    "    \"business_farming\": business_farming,\n",
    "    \"politics_govt_law\": politics_govt_law,\n",
    "    \"law_enf_military_operator\": law_enf_military_operator,\n",
    "    \"crime\": crime,\n",
    "    \"event_record_other\": event_record_other,\n",
    "    \"other_species\": other_species,\n",
    "    \"arts\": arts,\n",
    "    \"sports\": sports,\n",
    "    \"sciences\": sciences,\n",
    "}"
   ]
  },
  {
   "cell_type": "markdown",
   "id": "4c882c4f",
   "metadata": {},
   "source": [
    "#### Extracting Category from `info_2`"
   ]
  },
  {
   "cell_type": "code",
   "execution_count": 814,
   "id": "7084957c",
   "metadata": {},
   "outputs": [
    {
     "name": "stdout",
     "output_type": "stream",
     "text": [
      "CPU times: total: 1min 18s\n",
      "Wall time: 1min 18s\n"
     ]
    },
    {
     "data": {
      "text/html": [
       "<div>\n",
       "<style scoped>\n",
       "    .dataframe tbody tr th:only-of-type {\n",
       "        vertical-align: middle;\n",
       "    }\n",
       "\n",
       "    .dataframe tbody tr th {\n",
       "        vertical-align: top;\n",
       "    }\n",
       "\n",
       "    .dataframe thead th {\n",
       "        text-align: right;\n",
       "    }\n",
       "</style>\n",
       "<table border=\"1\" class=\"dataframe\">\n",
       "  <thead>\n",
       "    <tr style=\"text-align: right;\">\n",
       "      <th></th>\n",
       "      <th>day</th>\n",
       "      <th>name</th>\n",
       "      <th>info</th>\n",
       "      <th>link</th>\n",
       "      <th>num_references</th>\n",
       "      <th>year</th>\n",
       "      <th>month</th>\n",
       "      <th>info_parenth</th>\n",
       "      <th>info_1</th>\n",
       "      <th>info_2</th>\n",
       "      <th>info_3</th>\n",
       "      <th>info_4</th>\n",
       "      <th>info_5</th>\n",
       "      <th>info_6</th>\n",
       "      <th>info_7</th>\n",
       "      <th>info_8</th>\n",
       "      <th>info_9</th>\n",
       "      <th>info_10</th>\n",
       "      <th>info_11</th>\n",
       "      <th>age</th>\n",
       "      <th>cause_of_death</th>\n",
       "      <th>place_1</th>\n",
       "      <th>place_2</th>\n",
       "      <th>info_parenth_copy</th>\n",
       "      <th>log_num_references</th>\n",
       "      <th>sciences</th>\n",
       "      <th>social</th>\n",
       "      <th>spiritual</th>\n",
       "      <th>academia_humanities</th>\n",
       "      <th>business_farming</th>\n",
       "      <th>arts</th>\n",
       "      <th>sports</th>\n",
       "      <th>law_enf_military_operator</th>\n",
       "      <th>politics_govt_law</th>\n",
       "      <th>crime</th>\n",
       "      <th>event_record_other</th>\n",
       "      <th>other_species</th>\n",
       "      <th>num_categories</th>\n",
       "    </tr>\n",
       "  </thead>\n",
       "  <tbody>\n",
       "    <tr>\n",
       "      <th>46673</th>\n",
       "      <td>4</td>\n",
       "      <td>Alfred S. Yue</td>\n",
       "      <td>, 95, American engineer and professor emeritus.</td>\n",
       "      <td>https://en.wikipedia.org/wiki/Alfred_S._Yue</td>\n",
       "      <td>8</td>\n",
       "      <td>2014</td>\n",
       "      <td>February</td>\n",
       "      <td>None</td>\n",
       "      <td>None</td>\n",
       "      <td>professor emeritus</td>\n",
       "      <td>None</td>\n",
       "      <td>None</td>\n",
       "      <td>None</td>\n",
       "      <td>None</td>\n",
       "      <td>None</td>\n",
       "      <td>None</td>\n",
       "      <td>None</td>\n",
       "      <td>None</td>\n",
       "      <td>None</td>\n",
       "      <td>95.0</td>\n",
       "      <td>None</td>\n",
       "      <td>United States of America</td>\n",
       "      <td>None</td>\n",
       "      <td>None</td>\n",
       "      <td>2.197225</td>\n",
       "      <td>1</td>\n",
       "      <td>0</td>\n",
       "      <td>0</td>\n",
       "      <td>0</td>\n",
       "      <td>0</td>\n",
       "      <td>0</td>\n",
       "      <td>0</td>\n",
       "      <td>0</td>\n",
       "      <td>0</td>\n",
       "      <td>0</td>\n",
       "      <td>0</td>\n",
       "      <td>0</td>\n",
       "      <td>1</td>\n",
       "    </tr>\n",
       "    <tr>\n",
       "      <th>22109</th>\n",
       "      <td>27</td>\n",
       "      <td>William Horwitz</td>\n",
       "      <td>, 88, American chemist.</td>\n",
       "      <td>https://en.wikipedia.org/wiki/William_Horwitz</td>\n",
       "      <td>3</td>\n",
       "      <td>2006</td>\n",
       "      <td>September</td>\n",
       "      <td>None</td>\n",
       "      <td>None</td>\n",
       "      <td></td>\n",
       "      <td>None</td>\n",
       "      <td>None</td>\n",
       "      <td>None</td>\n",
       "      <td>None</td>\n",
       "      <td>None</td>\n",
       "      <td>None</td>\n",
       "      <td>None</td>\n",
       "      <td>None</td>\n",
       "      <td>None</td>\n",
       "      <td>88.0</td>\n",
       "      <td>None</td>\n",
       "      <td>United States of America</td>\n",
       "      <td>None</td>\n",
       "      <td>None</td>\n",
       "      <td>1.386294</td>\n",
       "      <td>1</td>\n",
       "      <td>0</td>\n",
       "      <td>0</td>\n",
       "      <td>0</td>\n",
       "      <td>0</td>\n",
       "      <td>0</td>\n",
       "      <td>0</td>\n",
       "      <td>0</td>\n",
       "      <td>0</td>\n",
       "      <td>0</td>\n",
       "      <td>0</td>\n",
       "      <td>0</td>\n",
       "      <td>1</td>\n",
       "    </tr>\n",
       "  </tbody>\n",
       "</table>\n",
       "</div>"
      ],
      "text/plain": [
       "      day             name                                             info  \\\n",
       "46673   4    Alfred S. Yue  , 95, American engineer and professor emeritus.   \n",
       "22109  27  William Horwitz                          , 88, American chemist.   \n",
       "\n",
       "                                                link  num_references  year  \\\n",
       "46673    https://en.wikipedia.org/wiki/Alfred_S._Yue               8  2014   \n",
       "22109  https://en.wikipedia.org/wiki/William_Horwitz               3  2006   \n",
       "\n",
       "           month info_parenth info_1              info_2 info_3 info_4 info_5  \\\n",
       "46673   February         None   None  professor emeritus   None   None   None   \n",
       "22109  September         None   None                       None   None   None   \n",
       "\n",
       "      info_6 info_7 info_8 info_9 info_10 info_11   age cause_of_death  \\\n",
       "46673   None   None   None   None    None    None  95.0           None   \n",
       "22109   None   None   None   None    None    None  88.0           None   \n",
       "\n",
       "                        place_1 place_2 info_parenth_copy  log_num_references  \\\n",
       "46673  United States of America    None              None            2.197225   \n",
       "22109  United States of America    None              None            1.386294   \n",
       "\n",
       "       sciences  social  spiritual  academia_humanities  business_farming  \\\n",
       "46673         1       0          0                    0                 0   \n",
       "22109         1       0          0                    0                 0   \n",
       "\n",
       "       arts  sports  law_enf_military_operator  politics_govt_law  crime  \\\n",
       "46673     0       0                          0                  0      0   \n",
       "22109     0       0                          0                  0      0   \n",
       "\n",
       "       event_record_other  other_species  num_categories  \n",
       "46673                   0              0               1  \n",
       "22109                   0              0               1  "
      ]
     },
     "execution_count": 814,
     "metadata": {},
     "output_type": "execute_result"
    },
    {
     "data": {
      "application/javascript": [
       "\n",
       "            setTimeout(function() {\n",
       "                var nbb_cell_id = 814;\n",
       "                var nbb_unformatted_code = \"%%time\\n\\n# Dictionary version\\nsearch_dict = known_for_dict\\n\\n# Column to check\\ncolumn = 'info_2'\\n\\n# Dataframe\\ndataframe = df[column].notna()\\n\\n# For loop to find role in column and extract it as category\\nfor category, category_lst in search_dict.items():\\n    for role in category_lst:\\n        for index in dataframe.index:\\n            item = df.loc[index, column]\\n            if item:\\n                if role in item:\\n                    df.loc[index, category] = 1\\n                    df.loc[index, column] = item.replace(role, '').strip()\\n\\n# Updating num_categories\\ndf[\\\"num_categories\\\"] = df[known_for_dict.keys()].sum(axis=1)\\n\\n# Checking a sample of rows\\ndf[df['sciences'] ==1].sample(2)\";\n",
       "                var nbb_formatted_code = \"%%time\\n\\n# Dictionary version\\nsearch_dict = known_for_dict\\n\\n# Column to check\\ncolumn = 'info_2'\\n\\n# Dataframe\\ndataframe = df[column].notna()\\n\\n# For loop to find role in column and extract it as category\\nfor category, category_lst in search_dict.items():\\n    for role in category_lst:\\n        for index in dataframe.index:\\n            item = df.loc[index, column]\\n            if item:\\n                if role in item:\\n                    df.loc[index, category] = 1\\n                    df.loc[index, column] = item.replace(role, '').strip()\\n\\n# Updating num_categories\\ndf[\\\"num_categories\\\"] = df[known_for_dict.keys()].sum(axis=1)\\n\\n# Checking a sample of rows\\ndf[df['sciences'] ==1].sample(2)\";\n",
       "                var nbb_cells = Jupyter.notebook.get_cells();\n",
       "                for (var i = 0; i < nbb_cells.length; ++i) {\n",
       "                    if (nbb_cells[i].input_prompt_number == nbb_cell_id) {\n",
       "                        if (nbb_cells[i].get_text() == nbb_unformatted_code) {\n",
       "                             nbb_cells[i].set_text(nbb_formatted_code);\n",
       "                        }\n",
       "                        break;\n",
       "                    }\n",
       "                }\n",
       "            }, 500);\n",
       "            "
      ],
      "text/plain": [
       "<IPython.core.display.Javascript object>"
      ]
     },
     "metadata": {},
     "output_type": "display_data"
    }
   ],
   "source": [
    "%%time\n",
    "\n",
    "# Dictionary version\n",
    "search_dict = known_for_dict\n",
    "\n",
    "# Column to check\n",
    "column = 'info_2'\n",
    "\n",
    "# Dataframe\n",
    "dataframe = df[column].notna()\n",
    "\n",
    "# For loop to find role in column and extract it as category\n",
    "for category, category_lst in search_dict.items():\n",
    "    for role in category_lst:\n",
    "        for index in dataframe.index:\n",
    "            item = df.loc[index, column]\n",
    "            if item:\n",
    "                if role in item:\n",
    "                    df.loc[index, category] = 1\n",
    "                    df.loc[index, column] = item.replace(role, '').strip()\n",
    "\n",
    "# Updating num_categories\n",
    "df[\"num_categories\"] = df[known_for_dict.keys()].sum(axis=1)\n",
    "\n",
    "# Checking a sample of rows\n",
    "df[df['sciences'] ==1].sample(2)"
   ]
  },
  {
   "cell_type": "markdown",
   "id": "c2dbad9f",
   "metadata": {},
   "source": [
    "#### Checking the Number of Rows without a First Category"
   ]
  },
  {
   "cell_type": "code",
   "execution_count": 815,
   "id": "f004ace4",
   "metadata": {},
   "outputs": [
    {
     "name": "stdout",
     "output_type": "stream",
     "text": [
      "There are 33798 entries without any known_for category.\n"
     ]
    },
    {
     "data": {
      "application/javascript": [
       "\n",
       "            setTimeout(function() {\n",
       "                var nbb_cell_id = 815;\n",
       "                var nbb_unformatted_code = \"# Checking the number of rows without a first category\\nprint(\\n    f'There are {len(df[df[\\\"num_categories\\\"]==0])} entries without any known_for category.'\\n)\";\n",
       "                var nbb_formatted_code = \"# Checking the number of rows without a first category\\nprint(\\n    f'There are {len(df[df[\\\"num_categories\\\"]==0])} entries without any known_for category.'\\n)\";\n",
       "                var nbb_cells = Jupyter.notebook.get_cells();\n",
       "                for (var i = 0; i < nbb_cells.length; ++i) {\n",
       "                    if (nbb_cells[i].input_prompt_number == nbb_cell_id) {\n",
       "                        if (nbb_cells[i].get_text() == nbb_unformatted_code) {\n",
       "                             nbb_cells[i].set_text(nbb_formatted_code);\n",
       "                        }\n",
       "                        break;\n",
       "                    }\n",
       "                }\n",
       "            }, 500);\n",
       "            "
      ],
      "text/plain": [
       "<IPython.core.display.Javascript object>"
      ]
     },
     "metadata": {},
     "output_type": "display_data"
    }
   ],
   "source": [
    "# Checking the number of rows without a first category\n",
    "print(\n",
    "    f'There are {len(df[df[\"num_categories\"]==0])} entries without any known_for category.'\n",
    ")"
   ]
  },
  {
   "cell_type": "markdown",
   "id": "cf3a7b10",
   "metadata": {},
   "source": [
    "#### Observations:\n",
    "- We will proceed to rebuild `known_for_dict` for the next iteration."
   ]
  },
  {
   "cell_type": "markdown",
   "id": "6f24e352",
   "metadata": {},
   "source": [
    "#### Finding `known_for` Roles in `info_2`"
   ]
  },
  {
   "cell_type": "code",
   "execution_count": 817,
   "id": "8f97db37",
   "metadata": {},
   "outputs": [
    {
     "data": {
      "application/javascript": [
       "\n",
       "            setTimeout(function() {\n",
       "                var nbb_cell_id = 817;\n",
       "                var nbb_unformatted_code = \"# Obtaining values for column and their counts\\nroles_list = df[\\\"info_2\\\"].value_counts(ascending=True).index.tolist()\";\n",
       "                var nbb_formatted_code = \"# Obtaining values for column and their counts\\nroles_list = df[\\\"info_2\\\"].value_counts(ascending=True).index.tolist()\";\n",
       "                var nbb_cells = Jupyter.notebook.get_cells();\n",
       "                for (var i = 0; i < nbb_cells.length; ++i) {\n",
       "                    if (nbb_cells[i].input_prompt_number == nbb_cell_id) {\n",
       "                        if (nbb_cells[i].get_text() == nbb_unformatted_code) {\n",
       "                             nbb_cells[i].set_text(nbb_formatted_code);\n",
       "                        }\n",
       "                        break;\n",
       "                    }\n",
       "                }\n",
       "            }, 500);\n",
       "            "
      ],
      "text/plain": [
       "<IPython.core.display.Javascript object>"
      ]
     },
     "metadata": {},
     "output_type": "display_data"
    }
   ],
   "source": [
    "# Obtaining values for column and their counts\n",
    "roles_list = df[\"info_2\"].value_counts(ascending=True).index.tolist()"
   ]
  },
  {
   "cell_type": "code",
   "execution_count": 819,
   "id": "8eda46b1",
   "metadata": {},
   "outputs": [
    {
     "data": {
      "text/plain": [
       "'activist'"
      ]
     },
     "execution_count": 819,
     "metadata": {},
     "output_type": "execute_result"
    },
    {
     "data": {
      "application/javascript": [
       "\n",
       "            setTimeout(function() {\n",
       "                var nbb_cell_id = 819;\n",
       "                var nbb_unformatted_code = \"# Code to check each value\\nroles_list.pop()\";\n",
       "                var nbb_formatted_code = \"# Code to check each value\\nroles_list.pop()\";\n",
       "                var nbb_cells = Jupyter.notebook.get_cells();\n",
       "                for (var i = 0; i < nbb_cells.length; ++i) {\n",
       "                    if (nbb_cells[i].input_prompt_number == nbb_cell_id) {\n",
       "                        if (nbb_cells[i].get_text() == nbb_unformatted_code) {\n",
       "                             nbb_cells[i].set_text(nbb_formatted_code);\n",
       "                        }\n",
       "                        break;\n",
       "                    }\n",
       "                }\n",
       "            }, 500);\n",
       "            "
      ],
      "text/plain": [
       "<IPython.core.display.Javascript object>"
      ]
     },
     "metadata": {},
     "output_type": "display_data"
    }
   ],
   "source": [
    "# Code to check each value\n",
    "roles_list.pop()"
   ]
  },
  {
   "cell_type": "code",
   "execution_count": 961,
   "id": "f243586f",
   "metadata": {},
   "outputs": [
    {
     "data": {
      "application/javascript": [
       "\n",
       "            setTimeout(function() {\n",
       "                var nbb_cell_id = 961;\n",
       "                var nbb_unformatted_code = \"# Create specific_roles_list for above popped value\\nspecific_roles_list = (\\n    df.loc[\\n        [index for index in df.index if \\\"activist\\\" in df.loc[index, \\\"info\\\"]], \\\"info_2\\\",\\n    ]\\n    .value_counts()\\n    .index.tolist()\\n)\";\n",
       "                var nbb_formatted_code = \"# Create specific_roles_list for above popped value\\nspecific_roles_list = (\\n    df.loc[\\n        [index for index in df.index if \\\"activist\\\" in df.loc[index, \\\"info\\\"]], \\\"info_2\\\",\\n    ]\\n    .value_counts()\\n    .index.tolist()\\n)\";\n",
       "                var nbb_cells = Jupyter.notebook.get_cells();\n",
       "                for (var i = 0; i < nbb_cells.length; ++i) {\n",
       "                    if (nbb_cells[i].input_prompt_number == nbb_cell_id) {\n",
       "                        if (nbb_cells[i].get_text() == nbb_unformatted_code) {\n",
       "                             nbb_cells[i].set_text(nbb_formatted_code);\n",
       "                        }\n",
       "                        break;\n",
       "                    }\n",
       "                }\n",
       "            }, 500);\n",
       "            "
      ],
      "text/plain": [
       "<IPython.core.display.Javascript object>"
      ]
     },
     "metadata": {},
     "output_type": "display_data"
    }
   ],
   "source": [
    "# Create specific_roles_list for above popped value\n",
    "specific_roles_list = (\n",
    "    df.loc[\n",
    "        [index for index in df.index if \"activist\" in df.loc[index, \"info\"]], \"info_2\",\n",
    "    ]\n",
    "    .value_counts()\n",
    "    .index.tolist()\n",
    ")"
   ]
  },
  {
   "cell_type": "code",
   "execution_count": 962,
   "id": "cba31b6e",
   "metadata": {},
   "outputs": [
    {
     "data": {
      "text/plain": [
       "585"
      ]
     },
     "execution_count": 962,
     "metadata": {},
     "output_type": "execute_result"
    },
    {
     "data": {
      "application/javascript": [
       "\n",
       "            setTimeout(function() {\n",
       "                var nbb_cell_id = 962;\n",
       "                var nbb_unformatted_code = \"specific_roles_list.index('programmer and internet activist')\";\n",
       "                var nbb_formatted_code = \"specific_roles_list.index(\\\"programmer and internet activist\\\")\";\n",
       "                var nbb_cells = Jupyter.notebook.get_cells();\n",
       "                for (var i = 0; i < nbb_cells.length; ++i) {\n",
       "                    if (nbb_cells[i].input_prompt_number == nbb_cell_id) {\n",
       "                        if (nbb_cells[i].get_text() == nbb_unformatted_code) {\n",
       "                             nbb_cells[i].set_text(nbb_formatted_code);\n",
       "                        }\n",
       "                        break;\n",
       "                    }\n",
       "                }\n",
       "            }, 500);\n",
       "            "
      ],
      "text/plain": [
       "<IPython.core.display.Javascript object>"
      ]
     },
     "metadata": {},
     "output_type": "display_data"
    }
   ],
   "source": [
    "specific_roles_list.index(\"programmer and internet activist\")"
   ]
  },
  {
   "cell_type": "code",
   "execution_count": 963,
   "id": "875664a4",
   "metadata": {},
   "outputs": [
    {
     "data": {
      "application/javascript": [
       "\n",
       "            setTimeout(function() {\n",
       "                var nbb_cell_id = 963;\n",
       "                var nbb_unformatted_code = \"specific_roles_list = specific_roles_list[:589]\";\n",
       "                var nbb_formatted_code = \"specific_roles_list = specific_roles_list[:589]\";\n",
       "                var nbb_cells = Jupyter.notebook.get_cells();\n",
       "                for (var i = 0; i < nbb_cells.length; ++i) {\n",
       "                    if (nbb_cells[i].input_prompt_number == nbb_cell_id) {\n",
       "                        if (nbb_cells[i].get_text() == nbb_unformatted_code) {\n",
       "                             nbb_cells[i].set_text(nbb_formatted_code);\n",
       "                        }\n",
       "                        break;\n",
       "                    }\n",
       "                }\n",
       "            }, 500);\n",
       "            "
      ],
      "text/plain": [
       "<IPython.core.display.Javascript object>"
      ]
     },
     "metadata": {},
     "output_type": "display_data"
    }
   ],
   "source": [
    "specific_roles_list = specific_roles_list[:589]"
   ]
  },
  {
   "cell_type": "code",
   "execution_count": 1509,
   "id": "01f2244e",
   "metadata": {},
   "outputs": [
    {
     "data": {
      "text/plain": [
       "'community activist and Holocaust survivor'"
      ]
     },
     "execution_count": 1509,
     "metadata": {},
     "output_type": "execute_result"
    },
    {
     "data": {
      "application/javascript": [
       "\n",
       "            setTimeout(function() {\n",
       "                var nbb_cell_id = 1509;\n",
       "                var nbb_unformatted_code = \"# Code to check each specific value\\nspecific_roles_list.pop()\";\n",
       "                var nbb_formatted_code = \"# Code to check each specific value\\nspecific_roles_list.pop()\";\n",
       "                var nbb_cells = Jupyter.notebook.get_cells();\n",
       "                for (var i = 0; i < nbb_cells.length; ++i) {\n",
       "                    if (nbb_cells[i].input_prompt_number == nbb_cell_id) {\n",
       "                        if (nbb_cells[i].get_text() == nbb_unformatted_code) {\n",
       "                             nbb_cells[i].set_text(nbb_formatted_code);\n",
       "                        }\n",
       "                        break;\n",
       "                    }\n",
       "                }\n",
       "            }, 500);\n",
       "            "
      ],
      "text/plain": [
       "<IPython.core.display.Javascript object>"
      ]
     },
     "metadata": {},
     "output_type": "display_data"
    }
   ],
   "source": [
    "# Code to check each specific value\n",
    "specific_roles_list.pop()"
   ]
  },
  {
   "cell_type": "code",
   "execution_count": 1510,
   "id": "0c63c496",
   "metadata": {
    "scrolled": false
   },
   "outputs": [
    {
     "data": {
      "text/html": [
       "<div>\n",
       "<style scoped>\n",
       "    .dataframe tbody tr th:only-of-type {\n",
       "        vertical-align: middle;\n",
       "    }\n",
       "\n",
       "    .dataframe tbody tr th {\n",
       "        vertical-align: top;\n",
       "    }\n",
       "\n",
       "    .dataframe thead th {\n",
       "        text-align: right;\n",
       "    }\n",
       "</style>\n",
       "<table border=\"1\" class=\"dataframe\">\n",
       "  <thead>\n",
       "    <tr style=\"text-align: right;\">\n",
       "      <th></th>\n",
       "      <th>day</th>\n",
       "      <th>name</th>\n",
       "      <th>info</th>\n",
       "      <th>link</th>\n",
       "      <th>num_references</th>\n",
       "      <th>year</th>\n",
       "      <th>month</th>\n",
       "      <th>info_parenth</th>\n",
       "      <th>info_1</th>\n",
       "      <th>info_2</th>\n",
       "      <th>info_3</th>\n",
       "      <th>info_4</th>\n",
       "      <th>info_5</th>\n",
       "      <th>info_6</th>\n",
       "      <th>info_7</th>\n",
       "      <th>info_8</th>\n",
       "      <th>info_9</th>\n",
       "      <th>info_10</th>\n",
       "      <th>info_11</th>\n",
       "      <th>age</th>\n",
       "      <th>cause_of_death</th>\n",
       "      <th>place_1</th>\n",
       "      <th>place_2</th>\n",
       "      <th>info_parenth_copy</th>\n",
       "      <th>log_num_references</th>\n",
       "      <th>sciences</th>\n",
       "      <th>social</th>\n",
       "      <th>spiritual</th>\n",
       "      <th>academia_humanities</th>\n",
       "      <th>business_farming</th>\n",
       "      <th>arts</th>\n",
       "      <th>sports</th>\n",
       "      <th>law_enf_military_operator</th>\n",
       "      <th>politics_govt_law</th>\n",
       "      <th>crime</th>\n",
       "      <th>event_record_other</th>\n",
       "      <th>other_species</th>\n",
       "      <th>num_categories</th>\n",
       "    </tr>\n",
       "  </thead>\n",
       "  <tbody>\n",
       "    <tr>\n",
       "      <th>42888</th>\n",
       "      <td>15</td>\n",
       "      <td>Sal Castro</td>\n",
       "      <td>, 79, American community activist and teacher, thyroid cancer.</td>\n",
       "      <td>https://en.wikipedia.org/wiki/Sal_Castro</td>\n",
       "      <td>4</td>\n",
       "      <td>2013</td>\n",
       "      <td>April</td>\n",
       "      <td>None</td>\n",
       "      <td>None</td>\n",
       "      <td>community activist and teacher</td>\n",
       "      <td>thyroid cancer</td>\n",
       "      <td>None</td>\n",
       "      <td>None</td>\n",
       "      <td>None</td>\n",
       "      <td>None</td>\n",
       "      <td>None</td>\n",
       "      <td>None</td>\n",
       "      <td>None</td>\n",
       "      <td>None</td>\n",
       "      <td>79.0</td>\n",
       "      <td>None</td>\n",
       "      <td>United States of America</td>\n",
       "      <td>None</td>\n",
       "      <td>None</td>\n",
       "      <td>1.609438</td>\n",
       "      <td>0</td>\n",
       "      <td>0</td>\n",
       "      <td>0</td>\n",
       "      <td>0</td>\n",
       "      <td>0</td>\n",
       "      <td>0</td>\n",
       "      <td>0</td>\n",
       "      <td>0</td>\n",
       "      <td>0</td>\n",
       "      <td>0</td>\n",
       "      <td>0</td>\n",
       "      <td>0</td>\n",
       "      <td>0</td>\n",
       "    </tr>\n",
       "    <tr>\n",
       "      <th>65672</th>\n",
       "      <td>13</td>\n",
       "      <td>Betty Campbell</td>\n",
       "      <td>, 82, Welsh community activist and head teacher.</td>\n",
       "      <td>https://en.wikipedia.org/wiki/Betty_Campbell</td>\n",
       "      <td>21</td>\n",
       "      <td>2017</td>\n",
       "      <td>October</td>\n",
       "      <td>None</td>\n",
       "      <td>None</td>\n",
       "      <td>community activist and head teacher</td>\n",
       "      <td>None</td>\n",
       "      <td>None</td>\n",
       "      <td>None</td>\n",
       "      <td>None</td>\n",
       "      <td>None</td>\n",
       "      <td>None</td>\n",
       "      <td>None</td>\n",
       "      <td>None</td>\n",
       "      <td>None</td>\n",
       "      <td>82.0</td>\n",
       "      <td>None</td>\n",
       "      <td>Wales</td>\n",
       "      <td>None</td>\n",
       "      <td>None</td>\n",
       "      <td>3.091042</td>\n",
       "      <td>0</td>\n",
       "      <td>0</td>\n",
       "      <td>0</td>\n",
       "      <td>0</td>\n",
       "      <td>0</td>\n",
       "      <td>0</td>\n",
       "      <td>0</td>\n",
       "      <td>0</td>\n",
       "      <td>0</td>\n",
       "      <td>0</td>\n",
       "      <td>0</td>\n",
       "      <td>0</td>\n",
       "      <td>0</td>\n",
       "    </tr>\n",
       "    <tr>\n",
       "      <th>80712</th>\n",
       "      <td>9</td>\n",
       "      <td>Dame Jocelyn Barrow</td>\n",
       "      <td>, 90, British educator, community activist and politician.</td>\n",
       "      <td>https://en.wikipedia.org/wiki/Jocelyn_Barrow</td>\n",
       "      <td>23</td>\n",
       "      <td>2020</td>\n",
       "      <td>April</td>\n",
       "      <td>None</td>\n",
       "      <td>None</td>\n",
       "      <td></td>\n",
       "      <td>community activist and politician</td>\n",
       "      <td>None</td>\n",
       "      <td>None</td>\n",
       "      <td>None</td>\n",
       "      <td>None</td>\n",
       "      <td>None</td>\n",
       "      <td>None</td>\n",
       "      <td>None</td>\n",
       "      <td>None</td>\n",
       "      <td>90.0</td>\n",
       "      <td>None</td>\n",
       "      <td>United Kingdom of Great Britain and Northern Ireland</td>\n",
       "      <td>None</td>\n",
       "      <td>None</td>\n",
       "      <td>3.178054</td>\n",
       "      <td>0</td>\n",
       "      <td>0</td>\n",
       "      <td>0</td>\n",
       "      <td>1</td>\n",
       "      <td>0</td>\n",
       "      <td>0</td>\n",
       "      <td>0</td>\n",
       "      <td>0</td>\n",
       "      <td>0</td>\n",
       "      <td>0</td>\n",
       "      <td>0</td>\n",
       "      <td>0</td>\n",
       "      <td>1</td>\n",
       "    </tr>\n",
       "    <tr>\n",
       "      <th>91633</th>\n",
       "      <td>27</td>\n",
       "      <td>Rudi Leavor</td>\n",
       "      <td>, 95, German-born British community activist and Holocaust survivor.</td>\n",
       "      <td>https://en.wikipedia.org/wiki/Rudi_Leavor</td>\n",
       "      <td>9</td>\n",
       "      <td>2021</td>\n",
       "      <td>July</td>\n",
       "      <td>None</td>\n",
       "      <td>None</td>\n",
       "      <td>community activist and Holocaust survivor</td>\n",
       "      <td>None</td>\n",
       "      <td>None</td>\n",
       "      <td>None</td>\n",
       "      <td>None</td>\n",
       "      <td>None</td>\n",
       "      <td>None</td>\n",
       "      <td>None</td>\n",
       "      <td>None</td>\n",
       "      <td>None</td>\n",
       "      <td>95.0</td>\n",
       "      <td>None</td>\n",
       "      <td>Germany</td>\n",
       "      <td>United Kingdom of Great Britain and Northern Ireland</td>\n",
       "      <td>None</td>\n",
       "      <td>2.302585</td>\n",
       "      <td>0</td>\n",
       "      <td>0</td>\n",
       "      <td>0</td>\n",
       "      <td>0</td>\n",
       "      <td>0</td>\n",
       "      <td>0</td>\n",
       "      <td>0</td>\n",
       "      <td>0</td>\n",
       "      <td>0</td>\n",
       "      <td>0</td>\n",
       "      <td>0</td>\n",
       "      <td>0</td>\n",
       "      <td>0</td>\n",
       "    </tr>\n",
       "  </tbody>\n",
       "</table>\n",
       "</div>"
      ],
      "text/plain": [
       "      day                 name  \\\n",
       "42888  15           Sal Castro   \n",
       "65672  13       Betty Campbell   \n",
       "80712   9  Dame Jocelyn Barrow   \n",
       "91633  27          Rudi Leavor   \n",
       "\n",
       "                                                                       info  \\\n",
       "42888        , 79, American community activist and teacher, thyroid cancer.   \n",
       "65672                      , 82, Welsh community activist and head teacher.   \n",
       "80712            , 90, British educator, community activist and politician.   \n",
       "91633  , 95, German-born British community activist and Holocaust survivor.   \n",
       "\n",
       "                                               link  num_references  year  \\\n",
       "42888      https://en.wikipedia.org/wiki/Sal_Castro               4  2013   \n",
       "65672  https://en.wikipedia.org/wiki/Betty_Campbell              21  2017   \n",
       "80712  https://en.wikipedia.org/wiki/Jocelyn_Barrow              23  2020   \n",
       "91633     https://en.wikipedia.org/wiki/Rudi_Leavor               9  2021   \n",
       "\n",
       "         month info_parenth info_1                                     info_2  \\\n",
       "42888    April         None   None             community activist and teacher   \n",
       "65672  October         None   None        community activist and head teacher   \n",
       "80712    April         None   None                                              \n",
       "91633     July         None   None  community activist and Holocaust survivor   \n",
       "\n",
       "                                  info_3 info_4 info_5 info_6 info_7 info_8  \\\n",
       "42888                     thyroid cancer   None   None   None   None   None   \n",
       "65672                               None   None   None   None   None   None   \n",
       "80712  community activist and politician   None   None   None   None   None   \n",
       "91633                               None   None   None   None   None   None   \n",
       "\n",
       "      info_9 info_10 info_11   age cause_of_death  \\\n",
       "42888   None    None    None  79.0           None   \n",
       "65672   None    None    None  82.0           None   \n",
       "80712   None    None    None  90.0           None   \n",
       "91633   None    None    None  95.0           None   \n",
       "\n",
       "                                                    place_1  \\\n",
       "42888                              United States of America   \n",
       "65672                                                 Wales   \n",
       "80712  United Kingdom of Great Britain and Northern Ireland   \n",
       "91633                                               Germany   \n",
       "\n",
       "                                                    place_2 info_parenth_copy  \\\n",
       "42888                                                  None              None   \n",
       "65672                                                  None              None   \n",
       "80712                                                  None              None   \n",
       "91633  United Kingdom of Great Britain and Northern Ireland              None   \n",
       "\n",
       "       log_num_references  sciences  social  spiritual  academia_humanities  \\\n",
       "42888            1.609438         0       0          0                    0   \n",
       "65672            3.091042         0       0          0                    0   \n",
       "80712            3.178054         0       0          0                    1   \n",
       "91633            2.302585         0       0          0                    0   \n",
       "\n",
       "       business_farming  arts  sports  law_enf_military_operator  \\\n",
       "42888                 0     0       0                          0   \n",
       "65672                 0     0       0                          0   \n",
       "80712                 0     0       0                          0   \n",
       "91633                 0     0       0                          0   \n",
       "\n",
       "       politics_govt_law  crime  event_record_other  other_species  \\\n",
       "42888                  0      0                   0              0   \n",
       "65672                  0      0                   0              0   \n",
       "80712                  0      0                   0              0   \n",
       "91633                  0      0                   0              0   \n",
       "\n",
       "       num_categories  \n",
       "42888               0  \n",
       "65672               0  \n",
       "80712               1  \n",
       "91633               0  "
      ]
     },
     "execution_count": 1510,
     "metadata": {},
     "output_type": "execute_result"
    },
    {
     "data": {
      "application/javascript": [
       "\n",
       "            setTimeout(function() {\n",
       "                var nbb_cell_id = 1510;\n",
       "                var nbb_unformatted_code = \"# Example code to quick-screen values that may overlap categories\\ndf.loc[[index for index in df.index if \\\"community activist and\\\" in df.loc[index, \\\"info\\\"]]]\";\n",
       "                var nbb_formatted_code = \"# Example code to quick-screen values that may overlap categories\\ndf.loc[\\n    [index for index in df.index if \\\"community activist and\\\" in df.loc[index, \\\"info\\\"]]\\n]\";\n",
       "                var nbb_cells = Jupyter.notebook.get_cells();\n",
       "                for (var i = 0; i < nbb_cells.length; ++i) {\n",
       "                    if (nbb_cells[i].input_prompt_number == nbb_cell_id) {\n",
       "                        if (nbb_cells[i].get_text() == nbb_unformatted_code) {\n",
       "                             nbb_cells[i].set_text(nbb_formatted_code);\n",
       "                        }\n",
       "                        break;\n",
       "                    }\n",
       "                }\n",
       "            }, 500);\n",
       "            "
      ],
      "text/plain": [
       "<IPython.core.display.Javascript object>"
      ]
     },
     "metadata": {},
     "output_type": "display_data"
    }
   ],
   "source": [
    "# Example code to quick-screen values that may overlap categories\n",
    "df.loc[\n",
    "    [index for index in df.index if \"community activist and\" in df.loc[index, \"info\"]]\n",
    "]"
   ]
  },
  {
   "cell_type": "code",
   "execution_count": null,
   "id": "cdc5915c",
   "metadata": {},
   "outputs": [],
   "source": [
    "# # Example code to quick-screen values that may overlap categories\n",
    "# df.loc[\n",
    "#     [\n",
    "#         index\n",
    "#         for index in df.index\n",
    "#         if \"outlaw country music singer songwriter\" in df.loc[index, \"info\"]\n",
    "#     ]\n",
    "# ]"
   ]
  },
  {
   "cell_type": "code",
   "execution_count": 1475,
   "id": "d2d9ae52",
   "metadata": {},
   "outputs": [
    {
     "data": {
      "text/html": [
       "<div>\n",
       "<style scoped>\n",
       "    .dataframe tbody tr th:only-of-type {\n",
       "        vertical-align: middle;\n",
       "    }\n",
       "\n",
       "    .dataframe tbody tr th {\n",
       "        vertical-align: top;\n",
       "    }\n",
       "\n",
       "    .dataframe thead th {\n",
       "        text-align: right;\n",
       "    }\n",
       "</style>\n",
       "<table border=\"1\" class=\"dataframe\">\n",
       "  <thead>\n",
       "    <tr style=\"text-align: right;\">\n",
       "      <th></th>\n",
       "      <th>day</th>\n",
       "      <th>name</th>\n",
       "      <th>info</th>\n",
       "      <th>link</th>\n",
       "      <th>num_references</th>\n",
       "      <th>year</th>\n",
       "      <th>month</th>\n",
       "      <th>info_parenth</th>\n",
       "      <th>info_1</th>\n",
       "      <th>info_2</th>\n",
       "      <th>info_3</th>\n",
       "      <th>info_4</th>\n",
       "      <th>info_5</th>\n",
       "      <th>info_6</th>\n",
       "      <th>info_7</th>\n",
       "      <th>info_8</th>\n",
       "      <th>info_9</th>\n",
       "      <th>info_10</th>\n",
       "      <th>info_11</th>\n",
       "      <th>age</th>\n",
       "      <th>cause_of_death</th>\n",
       "      <th>place_1</th>\n",
       "      <th>place_2</th>\n",
       "      <th>info_parenth_copy</th>\n",
       "      <th>log_num_references</th>\n",
       "      <th>sciences</th>\n",
       "      <th>social</th>\n",
       "      <th>spiritual</th>\n",
       "      <th>academia_humanities</th>\n",
       "      <th>business_farming</th>\n",
       "      <th>arts</th>\n",
       "      <th>sports</th>\n",
       "      <th>law_enf_military_operator</th>\n",
       "      <th>politics_govt_law</th>\n",
       "      <th>crime</th>\n",
       "      <th>event_record_other</th>\n",
       "      <th>other_species</th>\n",
       "      <th>num_categories</th>\n",
       "    </tr>\n",
       "  </thead>\n",
       "  <tbody>\n",
       "    <tr>\n",
       "      <th>61062</th>\n",
       "      <td>5</td>\n",
       "      <td>Geydar Dzhemal</td>\n",
       "      <td>, 69, Russian Islamic revolutionist and activist.</td>\n",
       "      <td>https://en.wikipedia.org/wiki/Geydar_Dzhemal</td>\n",
       "      <td>10</td>\n",
       "      <td>2016</td>\n",
       "      <td>December</td>\n",
       "      <td>None</td>\n",
       "      <td>None</td>\n",
       "      <td>Islamic revolutionist and activist</td>\n",
       "      <td>None</td>\n",
       "      <td>None</td>\n",
       "      <td>None</td>\n",
       "      <td>None</td>\n",
       "      <td>None</td>\n",
       "      <td>None</td>\n",
       "      <td>None</td>\n",
       "      <td>None</td>\n",
       "      <td>None</td>\n",
       "      <td>69.0</td>\n",
       "      <td>None</td>\n",
       "      <td>Russia</td>\n",
       "      <td>None</td>\n",
       "      <td>None</td>\n",
       "      <td>2.397895</td>\n",
       "      <td>0</td>\n",
       "      <td>0</td>\n",
       "      <td>0</td>\n",
       "      <td>0</td>\n",
       "      <td>0</td>\n",
       "      <td>0</td>\n",
       "      <td>0</td>\n",
       "      <td>0</td>\n",
       "      <td>0</td>\n",
       "      <td>0</td>\n",
       "      <td>0</td>\n",
       "      <td>0</td>\n",
       "      <td>0</td>\n",
       "    </tr>\n",
       "  </tbody>\n",
       "</table>\n",
       "</div>"
      ],
      "text/plain": [
       "      day            name                                               info  \\\n",
       "61062   5  Geydar Dzhemal  , 69, Russian Islamic revolutionist and activist.   \n",
       "\n",
       "                                               link  num_references  year  \\\n",
       "61062  https://en.wikipedia.org/wiki/Geydar_Dzhemal              10  2016   \n",
       "\n",
       "          month info_parenth info_1                              info_2  \\\n",
       "61062  December         None   None  Islamic revolutionist and activist   \n",
       "\n",
       "      info_3 info_4 info_5 info_6 info_7 info_8 info_9 info_10 info_11   age  \\\n",
       "61062   None   None   None   None   None   None   None    None    None  69.0   \n",
       "\n",
       "      cause_of_death place_1 place_2 info_parenth_copy  log_num_references  \\\n",
       "61062           None  Russia    None              None            2.397895   \n",
       "\n",
       "       sciences  social  spiritual  academia_humanities  business_farming  \\\n",
       "61062         0       0          0                    0                 0   \n",
       "\n",
       "       arts  sports  law_enf_military_operator  politics_govt_law  crime  \\\n",
       "61062     0       0                          0                  0      0   \n",
       "\n",
       "       event_record_other  other_species  num_categories  \n",
       "61062                   0              0               0  "
      ]
     },
     "execution_count": 1475,
     "metadata": {},
     "output_type": "execute_result"
    },
    {
     "data": {
      "application/javascript": [
       "\n",
       "            setTimeout(function() {\n",
       "                var nbb_cell_id = 1475;\n",
       "                var nbb_unformatted_code = \"# Example code to quick-check a specific entry\\ndf[df[\\\"info_2\\\"] == \\\"Islamic revolutionist and activist\\\"]\";\n",
       "                var nbb_formatted_code = \"# Example code to quick-check a specific entry\\ndf[df[\\\"info_2\\\"] == \\\"Islamic revolutionist and activist\\\"]\";\n",
       "                var nbb_cells = Jupyter.notebook.get_cells();\n",
       "                for (var i = 0; i < nbb_cells.length; ++i) {\n",
       "                    if (nbb_cells[i].input_prompt_number == nbb_cell_id) {\n",
       "                        if (nbb_cells[i].get_text() == nbb_unformatted_code) {\n",
       "                             nbb_cells[i].set_text(nbb_formatted_code);\n",
       "                        }\n",
       "                        break;\n",
       "                    }\n",
       "                }\n",
       "            }, 500);\n",
       "            "
      ],
      "text/plain": [
       "<IPython.core.display.Javascript object>"
      ]
     },
     "metadata": {},
     "output_type": "display_data"
    }
   ],
   "source": [
    "# Example code to quick-check a specific entry\n",
    "df[df[\"info_2\"] == \"Islamic revolutionist and activist\"]"
   ]
  },
  {
   "cell_type": "markdown",
   "id": "a9f0ea9d",
   "metadata": {},
   "source": [
    "#### Creating Lists for Each `known_for` Category"
   ]
  },
  {
   "cell_type": "code",
   "execution_count": null,
   "id": "4a43c929",
   "metadata": {},
   "outputs": [],
   "source": [
    "# Creating lists for each category\n",
    "politics_govt_law = [\n",
    "    \"civil rights activist and member of the Citizens' Commission to Investigate the FBI\"\n",
    "    'World War II conscientious objector and peace activist with War Resisters League',\n",
    "    'of Birmingham and environmental activist with Friends of the Earth',\n",
    "    'UNDP human rights activist and Amnesty International board member',\n",
    "    'civil rights activist and Socialist candidate for President in',\n",
    "    'labor union activist and President of the United Auto Workers',\n",
    "    'former Ku Klux Klan member turned civil rights activist',\n",
    "    'political activist and opposition leader in Ingushetia',\n",
    "    'esthesioneuroblastoma sufferer and euthanasia activist',\n",
    "    'political activist and Philadelphia City Councilwoman',\n",
    "    'and co founder of the Crips turned anti gang activist',\n",
    "    'elephant conservationist and anti poaching activist',\n",
    "    'exonerated prisoner and anti death penalty activist',\n",
    "    'Western Shoshone leader and environmental activist',\n",
    "    'activist and founder of the Gray Panthers movement',\n",
    "    'gay rights activist and Mattachine Society founder',\n",
    "    'activist and advocate for people with disabilities',\n",
    "    'internment camp detainee and civil rights activist',\n",
    "    'activist and leader of the Communist Party of the',\n",
    "    'activist and first wife of president Václav Havel',\n",
    "    'activist and Berkeley Free Speech Movement member',\n",
    "    'human rights activist in the fields of gay women',\n",
    "    'human rights activist in Chechnya and Ingushetia',\n",
    "    'political activist; former wife of Charles Vidor',\n",
    "    'political activist and daughter of Ronald Reagan',\n",
    "    'Western Shoshone indigenous rights activist and',\n",
    "    'and jailed Tiananmen Square democracy activist',\n",
    "    'environmentalist and anti consumerism activist',\n",
    "    'revolutionary figure and women rights activist',\n",
    "    'anti apartheid activist and political prisoner',\n",
    "    'human rights activist and political dissident',\n",
    "    'pro democracy activist and political prisoner',\n",
    "    'political activist and trades union official',\n",
    "    'Prime Minister of and human rights activist',\n",
    "    'pro choice activist and co founder of NARAL',\n",
    "    'radical feminist  anti pornography activist',\n",
    "    'trade unionist and Māori language activist',\n",
    "    'human rights activist and environmentalist',\n",
    "    'ex Black Panthers and anti police activist',\n",
    "    'atomic bomb survivor and anti war activist',\n",
    "    'International Solidarity Movement activist',\n",
    "    'trade unionist and environmental activist',\n",
    "    'Cree elder and indigenous rights activist',\n",
    "    'gay rights activist and founder of J Flag',\n",
    "    'civil rights and civil liberties activist',\n",
    "    'anti apartheid activist and civil servant',\n",
    "    'union organizer and women rights activist',\n",
    "    'white civil rights activist and lobbyist',\n",
    "    'human rights activist and hunger striker',\n",
    "    'equality and alternative energy activist',\n",
    "    'Nisqually tribal fishing rights activist',\n",
    "    'gay liberation and transgender activist',\n",
    "    'attorney and disability rights activist',\n",
    "    'aboriginal activist and Wiradjuri elder',\n",
    "    'environmentalist and anti war activist',\n",
    "    'anti apartheid and gay rights activist',\n",
    "    'conservationist and political activist',\n",
    "    'loyalist activist and victims advocate',\n",
    "    'political lobbyist and Jewish activist',\n",
    "    'women rights and LGBT rights activist',\n",
    "    'civic and voter registration activist',\n",
    "    'gay rights pioneer and peace activist',\n",
    "    'political activist and public servant',\n",
    "    'social activist and community leader',\n",
    "    'neo Pétainist and political activist',\n",
    "    'anarchist and Romani rights activist',\n",
    "    'Congresswoman; women rights activist',\n",
    "    'legislative aide and Jewish activist',\n",
    "    'women rights activist and sex worker',\n",
    "    'extreme right activist and Wehrmacht',\n",
    "    'anti apartheid and intersex activist',\n",
    "    'Cahuilla tribal leader and activist',\n",
    "    'President of Fish & Game Commission',\n",
    "    'Kootenai tribal leader and activist',\n",
    "    'dissident and human rights activist',\n",
    "    'worker and consumer rights activist',\n",
    "    'community and human rights activist',\n",
    "    'barrister and human rights activist',\n",
    "    'anti caste discrimination activist',\n",
    "    'New activist for West independence',\n",
    "    'human rights activist and attorney',\n",
    "    'anti apartheid activist and member',\n",
    "    'civil rights activist and attorney',\n",
    "    'civil rights activist and feminist',\n",
    "    'Māori activist and public servant',\n",
    "    'republican political activist and',\n",
    "    'healthcare activist and political',\n",
    "    'activist and wife of Oliver Tambo',\n",
    "    'anti communist political activist',\n",
    "    'civil rights and freedom activist',\n",
    "    'civil rights pioneer and activist',\n",
    "    'Trotskyist activist and Civil War',\n",
    "    'political activist and campaigner',\n",
    "    'attorney and LGBT rights activist',\n",
    "    'and nuclear disarmament activist',\n",
    "    'barrister and political activist',\n",
    "    'Indigenous women rights activist',\n",
    "    'Native and women rights activist',\n",
    "    'anti role playing games activist',\n",
    "    'medical cannabis rights activist',\n",
    "    'activist and gay rights advocate',\n",
    "    'communist and political activist',\n",
    "    'political activist and life peer',\n",
    "    'childhood immunizations activist',\n",
    "    'Trotskyist and anti war activist',\n",
    "    'peace and anti nuclear activist',\n",
    "    'activist and ATSIC commissioner',\n",
    "    'religious and cultural activist',\n",
    "    'Equal Rights Amendment activist',\n",
    "    'communist and activist of birth',\n",
    "    'The anti apartheid and activist',\n",
    "    'secularist and atheist activist',\n",
    "    'and transgender rights activist',\n",
    "    'peace and human rights activist',\n",
    "    'activist and political prisoner',\n",
    "    'activist in the peace movement',\n",
    "    'and disability rights activist',\n",
    "    'indigenous rights activist and',\n",
    "    'AIDS and tuberculosis activist',\n",
    "    'Communist Party labor activist',\n",
    "    'independence movement activist',\n",
    "    'nationalist political activist',\n",
    "    'independence activist for West',\n",
    "    'activist for Jewish and causes',\n",
    "    'environmentalist and activist',\n",
    "    'comfort women rights activist',\n",
    "    'student and anti war activist',\n",
    "    'activist and environmentalist',\n",
    "    'social and political activist',\n",
    "    'and early gay rights activist',\n",
    "    'activist for human rights and',\n",
    "    'and Jewish community activist',\n",
    "    'and anti pornography activist',\n",
    "    'activist for assisted suicide',\n",
    "    'social activist and feminist',\n",
    "    'reproductive health activist',\n",
    "    'left wing political activist',\n",
    "    'counter culture activist and',\n",
    "    'and family planning activist',\n",
    "    'socialist and peace activist',\n",
    "    'and ex gay movement activist',\n",
    "    'children television activist',\n",
    "    'anti apartheid activist and',\n",
    "    'and anti apartheid activist',\n",
    "    'anti nuclear power activist',\n",
    "    'anti communist activist and',\n",
    "    'feminist and peace activist',\n",
    "    'community activist and head',\n",
    "    'and pro euthanasia activist',\n",
    "    'and sustainability activist',\n",
    "    'housing rights activist and',\n",
    "    'natural childbirth activist',\n",
    "    'and anti communism activist',\n",
    "    'and tribal rights activist',\n",
    "    'pro establishment activist',\n",
    "    'cannabis and LGBT activist',\n",
    "    'Anishinaabe water activist',\n",
    "    'and anti abortion activist',\n",
    "    'environmental activist and',\n",
    "    'sex worker rights activist',\n",
    "    'anti White Terror activist',\n",
    "    'language movement activist',\n",
    "    'and prison reform activist',\n",
    "    'Takelma elder and activist',\n",
    "    'Indigenous social activist',\n",
    "    'and environmental activist',\n",
    "    'revolutionist and activist',\n",
    "    'and Romani people activist',\n",
    "    \"Kwakwaka'wakw activist and\",\n",
    "    'activist and film subject',\n",
    "    'and civil rights activist',\n",
    "    'Civil Rights activist and',\n",
    "    'activist for independence',\n",
    "    'and independence activist',\n",
    "    'gay rights legal activist',\n",
    "    'and women rights activist',\n",
    "    'and anti nuclear activist',\n",
    "    'independence activist and',\n",
    "    'conservative activist and',\n",
    "    'and human rights activist',\n",
    "    'and trans rights activist',\n",
    "    'exiled political activist',\n",
    "    'and transvestite activist',\n",
    "    'turned political activist',\n",
    "    'football fan and activist',\n",
    "    'anti immigration activist',\n",
    "    'human rights activist and',\n",
    "    'anti pornography activist',\n",
    "    'assisted suicide activist',\n",
    "    'civil rights activist and',\n",
    "    'and LGBT rights activist',\n",
    "    'anti government activist',\n",
    "    'LGBT rights activist and',\n",
    "    'palliative care activist',\n",
    "    'civil liberties activist',\n",
    "    'anti psychiatry activist',\n",
    "    'disabled rights activist',\n",
    "    'bisexual rights activist',\n",
    "    'and trade union activist',\n",
    "    'children rights activist',\n",
    "    \"workers' rights activist\",\n",
    "    'transgender activist and',\n",
    "    'and gun rights activist',\n",
    "    'white supremacy activist,\n",
    "    'life extension activist',\n",
    "    'anti communist activist',\n",
    "    'sexual freedom activist',\n",
    "    'welfare rights activist',\n",
    "    'and gay rights activist',\n",
    "    'anti abortion activist;',\n",
    "    'East political activist',\n",
    "    'anti polygraph activist',\n",
    "    'and men rights activist',\n",
    "    'animal welfare activist',\n",
    "    'anti drug activist and',\n",
    "    'victim rights activist',\n",
    "    'and HIV AIDS activists',\n",
    "    'Navajo Nation activist',\n",
    "    'community activist and',\n",
    "    'labour rights activist',\n",
    "    'birth control activist',\n",
    "    'political activist and',\n",
    "    'and political activist',\n",
    "    'Neo political activist',\n",
    "    'native people activist',\n",
    "    'dissident and activist',\n",
    "    'activist and communist',\n",
    "    'Communist activist and',\n",
    "    'voting rights activist',\n",
    "    'and communist activist',\n",
    "    'Burkinabè activist and',\n",
    "    'desegregation activist',\n",
    "    'and paralysis activist',\n",
    "    'native rights activist',\n",
    "    'attorney and activist',\n",
    "    'and maritime activist',\n",
    "    'and anti war activist',\n",
    "    'civil rights activist',\n",
    "    'Raja freedom activist',\n",
    "    'women rights activist',\n",
    "    'political activist in',\n",
    "    'Ogala Lakota activist',\n",
    "    'Māori rights activist',\n",
    "    'conservation activist',\n",
    "    'prostitution activist',\n",
    "    'and internet activist',\n",
    "    'women health activist',\n",
    "    'open housing activist',\n",
    "    'anti tobacco activist',\n",
    "    'anti logging activist',\n",
    "    'and pro life activist',\n",
    "    'and anti gay activist',\n",
    "    'civil right activist',\n",
    "    'and antiwar activist',\n",
    "    'land rights activist',\n",
    "    'drug policy activist',\n",
    "    'Sikh rights activist',\n",
    "    'nationalist activist',\n",
    "    'trade union activist',\n",
    "    'social activist and',\n",
    "    'and social activist',\n",
    "    'Trotskyist activist',\n",
    "    'republican activist',\n",
    "    'euthanasia activist',\n",
    "    'Indigenous activist',\n",
    "    'anti junta activist',\n",
    "    'neofascist activist',\n",
    "    'ti Kremlin activist',\n",
    "    'aboriginal activist',\n",
    "    'vegetarian activist',\n",
    "    'healthcare activist',\n",
    "    'rap music activist',\n",
    "    'Winnebago activist',\n",
    "    'Sioux activist and',\n",
    "    'and civic activist',\n",
    "    'women activist and',\n",
    "    'and peace activist',\n",
    "    'religious activist',\n",
    "    'far right activist',\n",
    "    \"'AIDS activist and\",\n",
    "    'political activist',\n",
    "    'and labor activist',\n",
    "    'and Roma activist',\n",
    "    'and BDSM activist',\n",
    "    'anti gun activist',\n",
    "    'and AIDS activist',\n",
    "    'Native s activist',\n",
    "    'cannabis activist',\n",
    "    'Zainichi activist',\n",
    "    'peace activist in',\n",
    "    'anti War activist',\n",
    "    'anti gay activist',\n",
    "    'loyalist activist',\n",
    "    'equality activist',\n",
    "    'Chicano activist',\n",
    "    'and gay activist',\n",
    "    'lesbian activist',\n",
    "    'Native  activist',\n",
    "    'POW MIA activist',\n",
    "    'JDL activist and',\n",
    "    'zionist activist',\n",
    "    'and HIV activist',\n",
    "    'cycling activist',\n",
    "    'Zionist activist',\n",
    "    'Navajo activist',\n",
    "    'albino activist',\n",
    "    'Maoist activist',\n",
    "    'Romani activist',\n",
    "    'Native activist',\n",
    "    'media activist',\n",
    "    'NAACP activist',\n",
    "    'urban activist',\n",
    "    'Dalit activist',\n",
    "    'peace activist',\n",
    "    'union activist',\n",
    "    'Tatar activist',\n",
    "    'anti activist',\n",
    "    'food activist',\n",
    "    'BDSM activist',\n",
    "    'Pan activist',\n",
    "    'activist and',\n",
    "    'and activist',\n",
    "    'PEN activist',\n",
    "]\n",
    "\n",
    "arts = [\n",
    "    'feminist activist and cultural', # before politics_govt_law\n",
    "    'Internet vlogger',\n",
    "    'vlogger',\n",
    "]\n",
    "sports = [\n",
    "\n",
    "\n",
    "]\n",
    "sciences = []\n",
    "\n",
    "business_farming = [ \n",
    "]\n",
    "academia_humanities = []\n",
    "law_enf_military_operator = [\n",
    "    'PIRA volunteer',\n",
    "    'who fought in the Civil War',\n",
    "    'member of The Weatherman'\n",
    "]\n",
    "spiritual = [\n",
    "    'anti Catholic religious activist', # before politics_govt_law\n",
    "    'and church activist',\n",
    "    'evangelical Christian activist'\n",
    "]\n",
    "social = [\n",
    "    'Director of Action Aid', # before politics_govt_law\n",
    "    'youth activist and Order of recipient',\n",
    "    'National Treasure',\n",
    "    'cancer research activist',\n",
    "    'AIDS and nutrition activist',\n",
    "    'amyotrophic lateral sclerosis activist',\n",
    "    'leader and social activist',\n",
    "    'and community activist',\n",
    "    'literacy activist',\n",
    "    'and anti suicide activist'\n",
    "\n",
    "]\n",
    "crime = [\n",
    "    'aircraft hijacker',\n",
    "    'convicted bomber',\n",
    "    'convicted bank robber',\n",
    "]\n",
    "event_record_other = [\n",
    "    'kidnapping victim',\n",
    "    'neo victim',\n",
    "]\n",
    "other_species = []"
   ]
  },
  {
   "cell_type": "code",
   "execution_count": null,
   "id": "c0df3431",
   "metadata": {},
   "outputs": [],
   "source": [
    "# Hard-coding cause_of_death and info_3 to clarify values found in info_2 for entry\n",
    "index = df[df['link'] == 'https://en.wikipedia.org/wiki/Paul_Jennings_Hill'].index\n",
    "df.loc[index, 'cause_of_death'] = 'executed'\n",
    "df.loc[index, 'info_3']= 'murderer'"
   ]
  },
  {
   "cell_type": "markdown",
   "id": "193ccd0a",
   "metadata": {},
   "source": [
    "#### Creating `known_for_dict` Dictionary of Category Keys and Specific Role Lists of Values"
   ]
  },
  {
   "cell_type": "code",
   "execution_count": null,
   "id": "672ead79",
   "metadata": {},
   "outputs": [],
   "source": [
    "# Combining separate lists into one dictionary\n",
    "known_for_dict = {\n",
    "    \"social\": social,\n",
    "    \"spiritual\": spiritual,\n",
    "    \"academia_humanities\": academia_humanities,\n",
    "    \"business_farming\": business_farming,\n",
    "    \"sciences\": sciences,\n",
    "    \"politics_govt_law\": politics_govt_law,\n",
    "    \"law_enf_military_operator\": law_enf_military_operator,\n",
    "    \"crime\": crime,\n",
    "    \"event_record_other\": event_record_other,\n",
    "    \"other_species\": other_species,\n",
    "    \"arts\": arts,\n",
    "    \"sports\": sports,\n",
    "}"
   ]
  },
  {
   "cell_type": "markdown",
   "id": "00f38a5b",
   "metadata": {},
   "source": [
    "#### Extracting Category from `info_2`"
   ]
  },
  {
   "cell_type": "code",
   "execution_count": null,
   "id": "6e305b9f",
   "metadata": {},
   "outputs": [],
   "source": [
    "%%time\n",
    "\n",
    "# Dictionary version\n",
    "search_dict = known_for_dict\n",
    "\n",
    "# Column to check\n",
    "column = 'info_2'\n",
    "\n",
    "# Dataframe\n",
    "dataframe = df[column].notna()\n",
    "\n",
    "# For loop to find role in column and extract it as category\n",
    "for category, category_lst in search_dict.items():\n",
    "    for role in category_lst:\n",
    "        for index in dataframe.index:\n",
    "            item = df.loc[index, column]\n",
    "            if item:\n",
    "                if role in item:\n",
    "                    df.loc[index, category] = 1\n",
    "                    df.loc[index, column] = item.replace(role, '').strip()\n",
    "\n",
    "# Updating num_categories\n",
    "df[\"num_categories\"] = df[known_for_dict.keys()].sum(axis=1)\n",
    "\n",
    "# Checking a sample of rows\n",
    "df[df['arts'] ==1].sample(2)"
   ]
  },
  {
   "cell_type": "markdown",
   "id": "560b813c",
   "metadata": {},
   "source": [
    "#### Checking the Number of Rows without a First Category"
   ]
  },
  {
   "cell_type": "code",
   "execution_count": null,
   "id": "25d4b195",
   "metadata": {},
   "outputs": [],
   "source": [
    "# Checking the number of rows without a first category\n",
    "print(\n",
    "    f'There are {len(df[df[\"num_categories\"]==0])} entries without any known_for category.'\n",
    ")"
   ]
  },
  {
   "cell_type": "markdown",
   "id": "3f6e983e",
   "metadata": {},
   "source": [
    "#### Observations:\n",
    "- We will proceed to rebuild `known_for_dict` for the next iteration."
   ]
  },
  {
   "cell_type": "code",
   "execution_count": null,
   "id": "748dda39",
   "metadata": {},
   "outputs": [],
   "source": []
  },
  {
   "cell_type": "code",
   "execution_count": null,
   "id": "aa0710fe",
   "metadata": {},
   "outputs": [],
   "source": []
  },
  {
   "cell_type": "code",
   "execution_count": null,
   "id": "87fccaff",
   "metadata": {},
   "outputs": [],
   "source": []
  },
  {
   "cell_type": "code",
   "execution_count": 816,
   "id": "ecbe5c5d",
   "metadata": {},
   "outputs": [
    {
     "name": "stdout",
     "output_type": "stream",
     "text": [
      "dunzo!\n"
     ]
    },
    {
     "data": {
      "application/javascript": [
       "\n",
       "            setTimeout(function() {\n",
       "                var nbb_cell_id = 816;\n",
       "                var nbb_unformatted_code = \"print(\\\"dunzo!\\\")\\n\\n# Sound notification when cell executes\\nchime.success()\";\n",
       "                var nbb_formatted_code = \"print(\\\"dunzo!\\\")\\n\\n# Sound notification when cell executes\\nchime.success()\";\n",
       "                var nbb_cells = Jupyter.notebook.get_cells();\n",
       "                for (var i = 0; i < nbb_cells.length; ++i) {\n",
       "                    if (nbb_cells[i].input_prompt_number == nbb_cell_id) {\n",
       "                        if (nbb_cells[i].get_text() == nbb_unformatted_code) {\n",
       "                             nbb_cells[i].set_text(nbb_formatted_code);\n",
       "                        }\n",
       "                        break;\n",
       "                    }\n",
       "                }\n",
       "            }, 500);\n",
       "            "
      ],
      "text/plain": [
       "<IPython.core.display.Javascript object>"
      ]
     },
     "metadata": {},
     "output_type": "display_data"
    }
   ],
   "source": [
    "print(\"dunzo!\")\n",
    "\n",
    "# Sound notification when cell executes\n",
    "chime.success()"
   ]
  },
  {
   "cell_type": "code",
   "execution_count": null,
   "id": "0271a07f",
   "metadata": {},
   "outputs": [],
   "source": []
  },
  {
   "cell_type": "code",
   "execution_count": null,
   "id": "e40e3f27",
   "metadata": {},
   "outputs": [],
   "source": []
  },
  {
   "cell_type": "code",
   "execution_count": null,
   "id": "db6c3c0c",
   "metadata": {},
   "outputs": [],
   "source": []
  },
  {
   "cell_type": "markdown",
   "id": "cbea7ecf",
   "metadata": {},
   "source": [
    "#### Finding `known_for` Roles in `info_2`"
   ]
  },
  {
   "cell_type": "code",
   "execution_count": null,
   "id": "e392e86b",
   "metadata": {},
   "outputs": [],
   "source": [
    "# Obtaining values for column and their counts\n",
    "roles_list = df[\"info_2\"].value_counts(ascending=True).index.tolist()"
   ]
  },
  {
   "cell_type": "code",
   "execution_count": null,
   "id": "19b2f85c",
   "metadata": {},
   "outputs": [],
   "source": [
    "# Code to check each value\n",
    "roles_list.pop()"
   ]
  },
  {
   "cell_type": "code",
   "execution_count": null,
   "id": "0c884b32",
   "metadata": {},
   "outputs": [],
   "source": [
    "# # Create specific_roles_list for above popped value\n",
    "# specific_roles_list = (\n",
    "#     df.loc[\n",
    "#         [index for index in df.index if \"writer\" in df.loc[index, \"info\"]], \"info_2\",\n",
    "#     ]\n",
    "#     .value_counts()\n",
    "#     .index.tolist()\n",
    "# )"
   ]
  },
  {
   "cell_type": "code",
   "execution_count": null,
   "id": "7550a487",
   "metadata": {},
   "outputs": [],
   "source": [
    "# # Code to check each specific value\n",
    "# specific_roles_list.pop()"
   ]
  },
  {
   "cell_type": "code",
   "execution_count": null,
   "id": "35fad222",
   "metadata": {},
   "outputs": [],
   "source": [
    "# # Example code to quick-screen values that may overlap categories\n",
    "# df.loc[[index for index in df.index if \"and science writer\" in df.loc[index, \"info\"]]]"
   ]
  },
  {
   "cell_type": "code",
   "execution_count": null,
   "id": "fe645b46",
   "metadata": {},
   "outputs": [],
   "source": [
    "# # Example code to quick-screen values that may overlap categories\n",
    "# df.loc[\n",
    "#     [\n",
    "#         index\n",
    "#         for index in df.index\n",
    "#         if \"outlaw country music singer songwriter\" in df.loc[index, \"info\"]\n",
    "#     ]\n",
    "# ]"
   ]
  },
  {
   "cell_type": "code",
   "execution_count": null,
   "id": "d2da3d72",
   "metadata": {},
   "outputs": [],
   "source": [
    "# # Example code to quick-check a specific entry\n",
    "# df[df[\"info_2\"] == \"outlaw country music singer songwriter\"]"
   ]
  },
  {
   "cell_type": "markdown",
   "id": "97842e56",
   "metadata": {},
   "source": [
    "#### Creating Lists for Each `known_for` Category"
   ]
  },
  {
   "cell_type": "code",
   "execution_count": null,
   "id": "16d92bb3",
   "metadata": {},
   "outputs": [],
   "source": [
    "# Creating lists for each category\n",
    "politics_govt_law = []\n",
    "\n",
    "arts = []\n",
    "sports = [\n",
    "\n",
    "\n",
    "]\n",
    "sciences = []\n",
    "\n",
    "business_farming = []\n",
    "academia_humanities = []\n",
    "law_enf_military_operator = []\n",
    "spiritual = []\n",
    "social = []\n",
    "crime = []\n",
    "event_record_other = []\n",
    "other_species = []"
   ]
  },
  {
   "cell_type": "markdown",
   "id": "19e0f93c",
   "metadata": {},
   "source": [
    "#### Creating `known_for_dict` Dictionary of Category Keys and Specific Role Lists of Values"
   ]
  },
  {
   "cell_type": "code",
   "execution_count": null,
   "id": "62805084",
   "metadata": {},
   "outputs": [],
   "source": [
    "# Combining separate lists into one dictionary\n",
    "known_for_dict = {\n",
    "    \"social\": social,\n",
    "    \"spiritual\": spiritual,\n",
    "    \"academia_humanities\": academia_humanities,\n",
    "    \"business_farming\": business_farming,\n",
    "    \"sciences\": sciences,\n",
    "    \"politics_govt_law\": politics_govt_law,\n",
    "    \"law_enf_military_operator\": law_enf_military_operator,\n",
    "    \"crime\": crime,\n",
    "    \"event_record_other\": event_record_other,\n",
    "    \"other_species\": other_species,\n",
    "    \"arts\": arts,\n",
    "    \"sports\": sports,\n",
    "}"
   ]
  },
  {
   "cell_type": "markdown",
   "id": "2300bb48",
   "metadata": {},
   "source": [
    "#### Extracting Category from `info_2`"
   ]
  },
  {
   "cell_type": "code",
   "execution_count": null,
   "id": "b735dd04",
   "metadata": {},
   "outputs": [],
   "source": [
    "%%time\n",
    "\n",
    "# Dictionary version\n",
    "search_dict = known_for_dict\n",
    "\n",
    "# Column to check\n",
    "column = 'info_2'\n",
    "\n",
    "# Dataframe\n",
    "dataframe = df[column].notna()\n",
    "\n",
    "# For loop to find role in column and extract it as category\n",
    "for category, category_lst in search_dict.items():\n",
    "    for role in category_lst:\n",
    "        for index in dataframe.index:\n",
    "            item = df.loc[index, column]\n",
    "            if item:\n",
    "                if role in item:\n",
    "                    df.loc[index, category] = 1\n",
    "                    df.loc[index, column] = item.replace(role, '').strip()\n",
    "\n",
    "# Updating num_categories\n",
    "df[\"num_categories\"] = df[known_for_dict.keys()].sum(axis=1)\n",
    "\n",
    "# Checking a sample of rows\n",
    "df[df['arts'] ==1].sample(2)"
   ]
  },
  {
   "cell_type": "markdown",
   "id": "be0e125e",
   "metadata": {},
   "source": [
    "#### Checking the Number of Rows without a First Category"
   ]
  },
  {
   "cell_type": "code",
   "execution_count": null,
   "id": "473d5fb6",
   "metadata": {},
   "outputs": [],
   "source": [
    "# Checking the number of rows without a first category\n",
    "print(\n",
    "    f'There are {len(df[df[\"num_categories\"]==0])} entries without any known_for category.'\n",
    ")"
   ]
  },
  {
   "cell_type": "markdown",
   "id": "e3c8da75",
   "metadata": {},
   "source": [
    "#### Observations:\n",
    "- We will proceed to rebuild `known_for_dict` for the next iteration."
   ]
  },
  {
   "cell_type": "code",
   "execution_count": null,
   "id": "dce22fd9",
   "metadata": {},
   "outputs": [],
   "source": []
  },
  {
   "cell_type": "code",
   "execution_count": null,
   "id": "b8609f2e",
   "metadata": {},
   "outputs": [],
   "source": []
  },
  {
   "cell_type": "code",
   "execution_count": null,
   "id": "b3a30f11",
   "metadata": {},
   "outputs": [],
   "source": []
  },
  {
   "cell_type": "markdown",
   "id": "0f66697e",
   "metadata": {},
   "source": [
    "#### Observations:\n",
    "- It is time to export our dataframe and start a new notebook."
   ]
  },
  {
   "cell_type": "markdown",
   "id": "1113a242",
   "metadata": {},
   "source": [
    "### Exporting Dataset to SQLite Database [wp_life_expect_clean8.db]()"
   ]
  },
  {
   "cell_type": "code",
   "execution_count": null,
   "id": "6008ac61",
   "metadata": {},
   "outputs": [],
   "source": [
    "# # Exporting dataframe\n",
    "\n",
    "# # Saving dataset in a SQLite database\n",
    "# conn = sql.connect(\"wp_life_expect_clean8.db\")\n",
    "# df.to_sql(\"wp_life_expect_clean8\", conn, index=False)\n",
    "\n",
    "# # Chime notification when cell executes\n",
    "# chime.success()"
   ]
  },
  {
   "cell_type": "markdown",
   "id": "11aacfcc",
   "metadata": {},
   "source": [
    "# [Proceed to Data Cleaning Part 9 ]()"
   ]
  }
 ],
 "metadata": {
  "kernelspec": {
   "display_name": "Python 3 (ipykernel)",
   "language": "python",
   "name": "python3"
  },
  "language_info": {
   "codemirror_mode": {
    "name": "ipython",
    "version": 3
   },
   "file_extension": ".py",
   "mimetype": "text/x-python",
   "name": "python",
   "nbconvert_exporter": "python",
   "pygments_lexer": "ipython3",
   "version": "3.9.12"
  }
 },
 "nbformat": 4,
 "nbformat_minor": 5
}
