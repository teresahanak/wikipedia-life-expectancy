{
 "cells": [
  {
   "cell_type": "markdown",
   "id": "316a0779",
   "metadata": {},
   "source": [
    "# Wikipedia Notable Life Expectancies\n",
    "# [Notebook  9: Data Cleaning Part 8](https://github.com/teresahanak/wikipedia-life-expectancy/blob/main/wp_life_expect_data_clean8_thanak_2022_07_26.ipynb)\n",
    "### Context\n",
    "\n",
    "The\n",
    "### Objective\n",
    "\n",
    "The\n",
    "### Data Dictionary\n",
    "- Feature: Description"
   ]
  },
  {
   "cell_type": "markdown",
   "id": "99245d51",
   "metadata": {},
   "source": [
    "### Importing Libraries"
   ]
  },
  {
   "cell_type": "code",
   "execution_count": 1,
   "id": "453bba83",
   "metadata": {},
   "outputs": [
    {
     "data": {
      "application/javascript": [
       "\n",
       "            setTimeout(function() {\n",
       "                var nbb_cell_id = 1;\n",
       "                var nbb_unformatted_code = \"# To structure code automatically\\n%load_ext nb_black\\n\\n# To import/export sqlite databases\\nimport sqlite3 as sql\\n\\n# To save/open python objects in pickle file\\nimport pickle\\n\\n# To help with reading, cleaning, and manipulating data\\nimport pandas as pd\\nimport numpy as np\\nimport re\\n\\n# To define maximum number of columns to be displayed in a dataframe\\npd.set_option(\\\"display.max_columns\\\", None)\\n# To define the maximum number of rows to be displayed in a dataframe\\npd.set_option(\\\"display.max_rows\\\", 200)\\n\\n# To supress warnings\\n# import warnings\\n\\n# warnings.filterwarnings(\\\"ignore\\\")\\n\\n# To set some visualization attributes\\npd.set_option(\\\"max_colwidth\\\", 150)\\n\\n# To play auditory cue when cell has executed, has warning, or has error and set chime theme\\nimport chime\\n\\nchime.theme(\\\"zelda\\\")\";\n",
       "                var nbb_formatted_code = \"# To structure code automatically\\n%load_ext nb_black\\n\\n# To import/export sqlite databases\\nimport sqlite3 as sql\\n\\n# To save/open python objects in pickle file\\nimport pickle\\n\\n# To help with reading, cleaning, and manipulating data\\nimport pandas as pd\\nimport numpy as np\\nimport re\\n\\n# To define maximum number of columns to be displayed in a dataframe\\npd.set_option(\\\"display.max_columns\\\", None)\\n# To define the maximum number of rows to be displayed in a dataframe\\npd.set_option(\\\"display.max_rows\\\", 200)\\n\\n# To supress warnings\\n# import warnings\\n\\n# warnings.filterwarnings(\\\"ignore\\\")\\n\\n# To set some visualization attributes\\npd.set_option(\\\"max_colwidth\\\", 150)\\n\\n# To play auditory cue when cell has executed, has warning, or has error and set chime theme\\nimport chime\\n\\nchime.theme(\\\"zelda\\\")\";\n",
       "                var nbb_cells = Jupyter.notebook.get_cells();\n",
       "                for (var i = 0; i < nbb_cells.length; ++i) {\n",
       "                    if (nbb_cells[i].input_prompt_number == nbb_cell_id) {\n",
       "                        if (nbb_cells[i].get_text() == nbb_unformatted_code) {\n",
       "                             nbb_cells[i].set_text(nbb_formatted_code);\n",
       "                        }\n",
       "                        break;\n",
       "                    }\n",
       "                }\n",
       "            }, 500);\n",
       "            "
      ],
      "text/plain": [
       "<IPython.core.display.Javascript object>"
      ]
     },
     "metadata": {},
     "output_type": "display_data"
    }
   ],
   "source": [
    "# To structure code automatically\n",
    "%load_ext nb_black\n",
    "\n",
    "# To import/export sqlite databases\n",
    "import sqlite3 as sql\n",
    "\n",
    "# To save/open python objects in pickle file\n",
    "import pickle\n",
    "\n",
    "# To help with reading, cleaning, and manipulating data\n",
    "import pandas as pd\n",
    "import numpy as np\n",
    "import re\n",
    "\n",
    "# To define maximum number of columns to be displayed in a dataframe\n",
    "pd.set_option(\"display.max_columns\", None)\n",
    "# To define the maximum number of rows to be displayed in a dataframe\n",
    "pd.set_option(\"display.max_rows\", 200)\n",
    "\n",
    "# To supress warnings\n",
    "# import warnings\n",
    "\n",
    "# warnings.filterwarnings(\"ignore\")\n",
    "\n",
    "# To set some visualization attributes\n",
    "pd.set_option(\"max_colwidth\", 150)\n",
    "\n",
    "# To play auditory cue when cell has executed, has warning, or has error and set chime theme\n",
    "import chime\n",
    "\n",
    "chime.theme(\"zelda\")"
   ]
  },
  {
   "cell_type": "markdown",
   "id": "cc818a82",
   "metadata": {},
   "source": [
    "## Data Overview"
   ]
  },
  {
   "cell_type": "markdown",
   "id": "0ed005f6",
   "metadata": {},
   "source": [
    "### Reading, Sampling, and Checking Data Shape"
   ]
  },
  {
   "cell_type": "code",
   "execution_count": 2,
   "id": "0ca58a95",
   "metadata": {},
   "outputs": [
    {
     "name": "stdout",
     "output_type": "stream",
     "text": [
      "There are 98059 rows and 38 columns.\n"
     ]
    },
    {
     "data": {
      "text/html": [
       "<div>\n",
       "<style scoped>\n",
       "    .dataframe tbody tr th:only-of-type {\n",
       "        vertical-align: middle;\n",
       "    }\n",
       "\n",
       "    .dataframe tbody tr th {\n",
       "        vertical-align: top;\n",
       "    }\n",
       "\n",
       "    .dataframe thead th {\n",
       "        text-align: right;\n",
       "    }\n",
       "</style>\n",
       "<table border=\"1\" class=\"dataframe\">\n",
       "  <thead>\n",
       "    <tr style=\"text-align: right;\">\n",
       "      <th></th>\n",
       "      <th>day</th>\n",
       "      <th>name</th>\n",
       "      <th>info</th>\n",
       "      <th>link</th>\n",
       "      <th>num_references</th>\n",
       "      <th>year</th>\n",
       "      <th>month</th>\n",
       "      <th>info_parenth</th>\n",
       "      <th>info_1</th>\n",
       "      <th>info_2</th>\n",
       "      <th>info_3</th>\n",
       "      <th>info_4</th>\n",
       "      <th>info_5</th>\n",
       "      <th>info_6</th>\n",
       "      <th>info_7</th>\n",
       "      <th>info_8</th>\n",
       "      <th>info_9</th>\n",
       "      <th>info_10</th>\n",
       "      <th>info_11</th>\n",
       "      <th>age</th>\n",
       "      <th>cause_of_death</th>\n",
       "      <th>place_1</th>\n",
       "      <th>place_2</th>\n",
       "      <th>info_parenth_copy</th>\n",
       "      <th>log_num_references</th>\n",
       "      <th>sciences</th>\n",
       "      <th>social</th>\n",
       "      <th>spiritual</th>\n",
       "      <th>academia_humanities</th>\n",
       "      <th>business_farming</th>\n",
       "      <th>arts</th>\n",
       "      <th>sports</th>\n",
       "      <th>law_enf_military_operator</th>\n",
       "      <th>politics_govt_law</th>\n",
       "      <th>crime</th>\n",
       "      <th>event_record_other</th>\n",
       "      <th>other_species</th>\n",
       "      <th>num_categories</th>\n",
       "    </tr>\n",
       "  </thead>\n",
       "  <tbody>\n",
       "    <tr>\n",
       "      <th>0</th>\n",
       "      <td>1</td>\n",
       "      <td>William Chappell</td>\n",
       "      <td>, 86, British dancer, ballet designer and director.</td>\n",
       "      <td>https://en.wikipedia.org/wiki/William_Chappell_(dancer)</td>\n",
       "      <td>21</td>\n",
       "      <td>1994</td>\n",
       "      <td>January</td>\n",
       "      <td>None</td>\n",
       "      <td>None</td>\n",
       "      <td>dancer</td>\n",
       "      <td>ballet designer and director</td>\n",
       "      <td>None</td>\n",
       "      <td>None</td>\n",
       "      <td>None</td>\n",
       "      <td>None</td>\n",
       "      <td>None</td>\n",
       "      <td>None</td>\n",
       "      <td>None</td>\n",
       "      <td>None</td>\n",
       "      <td>86.0</td>\n",
       "      <td>None</td>\n",
       "      <td>United Kingdom of Great Britain and Northern Ireland</td>\n",
       "      <td>None</td>\n",
       "      <td>None</td>\n",
       "      <td>3.091042</td>\n",
       "      <td>0</td>\n",
       "      <td>0</td>\n",
       "      <td>0</td>\n",
       "      <td>0</td>\n",
       "      <td>0</td>\n",
       "      <td>0</td>\n",
       "      <td>0</td>\n",
       "      <td>0</td>\n",
       "      <td>0</td>\n",
       "      <td>0</td>\n",
       "      <td>0</td>\n",
       "      <td>0</td>\n",
       "      <td>0</td>\n",
       "    </tr>\n",
       "    <tr>\n",
       "      <th>1</th>\n",
       "      <td>1</td>\n",
       "      <td>Raymond Crotty</td>\n",
       "      <td>, 68, Irish economist, writer, and academic.</td>\n",
       "      <td>https://en.wikipedia.org/wiki/Raymond_Crotty</td>\n",
       "      <td>12</td>\n",
       "      <td>1994</td>\n",
       "      <td>January</td>\n",
       "      <td>None</td>\n",
       "      <td>None</td>\n",
       "      <td></td>\n",
       "      <td>writer</td>\n",
       "      <td>and academic</td>\n",
       "      <td>None</td>\n",
       "      <td>None</td>\n",
       "      <td>None</td>\n",
       "      <td>None</td>\n",
       "      <td>None</td>\n",
       "      <td>None</td>\n",
       "      <td>None</td>\n",
       "      <td>68.0</td>\n",
       "      <td>None</td>\n",
       "      <td>Ireland</td>\n",
       "      <td>None</td>\n",
       "      <td>None</td>\n",
       "      <td>2.564949</td>\n",
       "      <td>0</td>\n",
       "      <td>0</td>\n",
       "      <td>0</td>\n",
       "      <td>0</td>\n",
       "      <td>0</td>\n",
       "      <td>0</td>\n",
       "      <td>0</td>\n",
       "      <td>0</td>\n",
       "      <td>1</td>\n",
       "      <td>0</td>\n",
       "      <td>0</td>\n",
       "      <td>0</td>\n",
       "      <td>1</td>\n",
       "    </tr>\n",
       "  </tbody>\n",
       "</table>\n",
       "</div>"
      ],
      "text/plain": [
       "  day              name                                                 info  \\\n",
       "0   1  William Chappell  , 86, British dancer, ballet designer and director.   \n",
       "1   1    Raymond Crotty         , 68, Irish economist, writer, and academic.   \n",
       "\n",
       "                                                      link  num_references  \\\n",
       "0  https://en.wikipedia.org/wiki/William_Chappell_(dancer)              21   \n",
       "1             https://en.wikipedia.org/wiki/Raymond_Crotty              12   \n",
       "\n",
       "   year    month info_parenth info_1  info_2                        info_3  \\\n",
       "0  1994  January         None   None  dancer  ballet designer and director   \n",
       "1  1994  January         None   None                                writer   \n",
       "\n",
       "         info_4 info_5 info_6 info_7 info_8 info_9 info_10 info_11   age  \\\n",
       "0          None   None   None   None   None   None    None    None  86.0   \n",
       "1  and academic   None   None   None   None   None    None    None  68.0   \n",
       "\n",
       "  cause_of_death                                               place_1  \\\n",
       "0           None  United Kingdom of Great Britain and Northern Ireland   \n",
       "1           None                                               Ireland   \n",
       "\n",
       "  place_2 info_parenth_copy  log_num_references  sciences  social  spiritual  \\\n",
       "0    None              None            3.091042         0       0          0   \n",
       "1    None              None            2.564949         0       0          0   \n",
       "\n",
       "   academia_humanities  business_farming  arts  sports  \\\n",
       "0                    0                 0     0       0   \n",
       "1                    0                 0     0       0   \n",
       "\n",
       "   law_enf_military_operator  politics_govt_law  crime  event_record_other  \\\n",
       "0                          0                  0      0                   0   \n",
       "1                          0                  1      0                   0   \n",
       "\n",
       "   other_species  num_categories  \n",
       "0              0               0  \n",
       "1              0               1  "
      ]
     },
     "execution_count": 2,
     "metadata": {},
     "output_type": "execute_result"
    },
    {
     "data": {
      "application/javascript": [
       "\n",
       "            setTimeout(function() {\n",
       "                var nbb_cell_id = 2;\n",
       "                var nbb_unformatted_code = \"# Reading the dataset\\nconn = sql.connect(\\\"wp_life_expect_clean7.db\\\")\\ndata = pd.read_sql(\\\"SELECT * FROM wp_life_expect_clean7\\\", conn)\\n\\n# Making a working copy\\ndf = data.copy()\\n\\n# Checking the shape\\nprint(f\\\"There are {df.shape[0]} rows and {df.shape[1]} columns.\\\")\\n\\n# Checking first 2 rows of the data\\ndf.head(2)\";\n",
       "                var nbb_formatted_code = \"# Reading the dataset\\nconn = sql.connect(\\\"wp_life_expect_clean7.db\\\")\\ndata = pd.read_sql(\\\"SELECT * FROM wp_life_expect_clean7\\\", conn)\\n\\n# Making a working copy\\ndf = data.copy()\\n\\n# Checking the shape\\nprint(f\\\"There are {df.shape[0]} rows and {df.shape[1]} columns.\\\")\\n\\n# Checking first 2 rows of the data\\ndf.head(2)\";\n",
       "                var nbb_cells = Jupyter.notebook.get_cells();\n",
       "                for (var i = 0; i < nbb_cells.length; ++i) {\n",
       "                    if (nbb_cells[i].input_prompt_number == nbb_cell_id) {\n",
       "                        if (nbb_cells[i].get_text() == nbb_unformatted_code) {\n",
       "                             nbb_cells[i].set_text(nbb_formatted_code);\n",
       "                        }\n",
       "                        break;\n",
       "                    }\n",
       "                }\n",
       "            }, 500);\n",
       "            "
      ],
      "text/plain": [
       "<IPython.core.display.Javascript object>"
      ]
     },
     "metadata": {},
     "output_type": "display_data"
    }
   ],
   "source": [
    "# Reading the dataset\n",
    "conn = sql.connect(\"wp_life_expect_clean7.db\")\n",
    "data = pd.read_sql(\"SELECT * FROM wp_life_expect_clean7\", conn)\n",
    "\n",
    "# Making a working copy\n",
    "df = data.copy()\n",
    "\n",
    "# Checking the shape\n",
    "print(f\"There are {df.shape[0]} rows and {df.shape[1]} columns.\")\n",
    "\n",
    "# Checking first 2 rows of the data\n",
    "df.head(2)"
   ]
  },
  {
   "cell_type": "code",
   "execution_count": 3,
   "id": "6cca416f",
   "metadata": {},
   "outputs": [
    {
     "data": {
      "text/html": [
       "<div>\n",
       "<style scoped>\n",
       "    .dataframe tbody tr th:only-of-type {\n",
       "        vertical-align: middle;\n",
       "    }\n",
       "\n",
       "    .dataframe tbody tr th {\n",
       "        vertical-align: top;\n",
       "    }\n",
       "\n",
       "    .dataframe thead th {\n",
       "        text-align: right;\n",
       "    }\n",
       "</style>\n",
       "<table border=\"1\" class=\"dataframe\">\n",
       "  <thead>\n",
       "    <tr style=\"text-align: right;\">\n",
       "      <th></th>\n",
       "      <th>day</th>\n",
       "      <th>name</th>\n",
       "      <th>info</th>\n",
       "      <th>link</th>\n",
       "      <th>num_references</th>\n",
       "      <th>year</th>\n",
       "      <th>month</th>\n",
       "      <th>info_parenth</th>\n",
       "      <th>info_1</th>\n",
       "      <th>info_2</th>\n",
       "      <th>info_3</th>\n",
       "      <th>info_4</th>\n",
       "      <th>info_5</th>\n",
       "      <th>info_6</th>\n",
       "      <th>info_7</th>\n",
       "      <th>info_8</th>\n",
       "      <th>info_9</th>\n",
       "      <th>info_10</th>\n",
       "      <th>info_11</th>\n",
       "      <th>age</th>\n",
       "      <th>cause_of_death</th>\n",
       "      <th>place_1</th>\n",
       "      <th>place_2</th>\n",
       "      <th>info_parenth_copy</th>\n",
       "      <th>log_num_references</th>\n",
       "      <th>sciences</th>\n",
       "      <th>social</th>\n",
       "      <th>spiritual</th>\n",
       "      <th>academia_humanities</th>\n",
       "      <th>business_farming</th>\n",
       "      <th>arts</th>\n",
       "      <th>sports</th>\n",
       "      <th>law_enf_military_operator</th>\n",
       "      <th>politics_govt_law</th>\n",
       "      <th>crime</th>\n",
       "      <th>event_record_other</th>\n",
       "      <th>other_species</th>\n",
       "      <th>num_categories</th>\n",
       "    </tr>\n",
       "  </thead>\n",
       "  <tbody>\n",
       "    <tr>\n",
       "      <th>98057</th>\n",
       "      <td>9</td>\n",
       "      <td>Aamir Liaquat Hussain</td>\n",
       "      <td>, 50, Pakistani journalist and politician, MNA .</td>\n",
       "      <td>https://en.wikipedia.org/wiki/Aamir_Liaquat_Hussain</td>\n",
       "      <td>99</td>\n",
       "      <td>2022</td>\n",
       "      <td>June</td>\n",
       "      <td>, since</td>\n",
       "      <td>None</td>\n",
       "      <td></td>\n",
       "      <td>MNA</td>\n",
       "      <td>None</td>\n",
       "      <td>None</td>\n",
       "      <td>None</td>\n",
       "      <td>None</td>\n",
       "      <td>None</td>\n",
       "      <td>None</td>\n",
       "      <td>None</td>\n",
       "      <td>None</td>\n",
       "      <td>50.0</td>\n",
       "      <td>None</td>\n",
       "      <td>Pakistan</td>\n",
       "      <td>None</td>\n",
       "      <td>2002 2007, since 2018</td>\n",
       "      <td>4.605170</td>\n",
       "      <td>0</td>\n",
       "      <td>0</td>\n",
       "      <td>0</td>\n",
       "      <td>0</td>\n",
       "      <td>0</td>\n",
       "      <td>1</td>\n",
       "      <td>0</td>\n",
       "      <td>0</td>\n",
       "      <td>1</td>\n",
       "      <td>0</td>\n",
       "      <td>0</td>\n",
       "      <td>0</td>\n",
       "      <td>2</td>\n",
       "    </tr>\n",
       "    <tr>\n",
       "      <th>98058</th>\n",
       "      <td>9</td>\n",
       "      <td>Zou Jing</td>\n",
       "      <td>, 86, Chinese engineer, member of the Chinese Academy of Engineering.</td>\n",
       "      <td>https://en.wikipedia.org/wiki/Zou_Jing_(engineer)</td>\n",
       "      <td>3</td>\n",
       "      <td>2022</td>\n",
       "      <td>June</td>\n",
       "      <td>None</td>\n",
       "      <td>None</td>\n",
       "      <td>engineer</td>\n",
       "      <td>member of the Academy of Engineering</td>\n",
       "      <td>None</td>\n",
       "      <td>None</td>\n",
       "      <td>None</td>\n",
       "      <td>None</td>\n",
       "      <td>None</td>\n",
       "      <td>None</td>\n",
       "      <td>None</td>\n",
       "      <td>None</td>\n",
       "      <td>86.0</td>\n",
       "      <td>None</td>\n",
       "      <td>China, People's Republic of</td>\n",
       "      <td>None</td>\n",
       "      <td>None</td>\n",
       "      <td>1.386294</td>\n",
       "      <td>0</td>\n",
       "      <td>0</td>\n",
       "      <td>0</td>\n",
       "      <td>0</td>\n",
       "      <td>0</td>\n",
       "      <td>0</td>\n",
       "      <td>0</td>\n",
       "      <td>0</td>\n",
       "      <td>0</td>\n",
       "      <td>0</td>\n",
       "      <td>0</td>\n",
       "      <td>0</td>\n",
       "      <td>0</td>\n",
       "    </tr>\n",
       "  </tbody>\n",
       "</table>\n",
       "</div>"
      ],
      "text/plain": [
       "      day                   name  \\\n",
       "98057   9  Aamir Liaquat Hussain   \n",
       "98058   9               Zou Jing   \n",
       "\n",
       "                                                                        info  \\\n",
       "98057                       , 50, Pakistani journalist and politician, MNA .   \n",
       "98058  , 86, Chinese engineer, member of the Chinese Academy of Engineering.   \n",
       "\n",
       "                                                      link  num_references  \\\n",
       "98057  https://en.wikipedia.org/wiki/Aamir_Liaquat_Hussain              99   \n",
       "98058    https://en.wikipedia.org/wiki/Zou_Jing_(engineer)               3   \n",
       "\n",
       "       year month info_parenth info_1    info_2  \\\n",
       "98057  2022  June      , since   None             \n",
       "98058  2022  June         None   None  engineer   \n",
       "\n",
       "                                     info_3 info_4 info_5 info_6 info_7  \\\n",
       "98057                                   MNA   None   None   None   None   \n",
       "98058  member of the Academy of Engineering   None   None   None   None   \n",
       "\n",
       "      info_8 info_9 info_10 info_11   age cause_of_death  \\\n",
       "98057   None   None    None    None  50.0           None   \n",
       "98058   None   None    None    None  86.0           None   \n",
       "\n",
       "                           place_1 place_2      info_parenth_copy  \\\n",
       "98057                     Pakistan    None  2002 2007, since 2018   \n",
       "98058  China, People's Republic of    None                   None   \n",
       "\n",
       "       log_num_references  sciences  social  spiritual  academia_humanities  \\\n",
       "98057            4.605170         0       0          0                    0   \n",
       "98058            1.386294         0       0          0                    0   \n",
       "\n",
       "       business_farming  arts  sports  law_enf_military_operator  \\\n",
       "98057                 0     1       0                          0   \n",
       "98058                 0     0       0                          0   \n",
       "\n",
       "       politics_govt_law  crime  event_record_other  other_species  \\\n",
       "98057                  1      0                   0              0   \n",
       "98058                  0      0                   0              0   \n",
       "\n",
       "       num_categories  \n",
       "98057               2  \n",
       "98058               0  "
      ]
     },
     "execution_count": 3,
     "metadata": {},
     "output_type": "execute_result"
    },
    {
     "data": {
      "application/javascript": [
       "\n",
       "            setTimeout(function() {\n",
       "                var nbb_cell_id = 3;\n",
       "                var nbb_unformatted_code = \"# Checking last 2 rows of the data\\ndf.tail(2)\";\n",
       "                var nbb_formatted_code = \"# Checking last 2 rows of the data\\ndf.tail(2)\";\n",
       "                var nbb_cells = Jupyter.notebook.get_cells();\n",
       "                for (var i = 0; i < nbb_cells.length; ++i) {\n",
       "                    if (nbb_cells[i].input_prompt_number == nbb_cell_id) {\n",
       "                        if (nbb_cells[i].get_text() == nbb_unformatted_code) {\n",
       "                             nbb_cells[i].set_text(nbb_formatted_code);\n",
       "                        }\n",
       "                        break;\n",
       "                    }\n",
       "                }\n",
       "            }, 500);\n",
       "            "
      ],
      "text/plain": [
       "<IPython.core.display.Javascript object>"
      ]
     },
     "metadata": {},
     "output_type": "display_data"
    }
   ],
   "source": [
    "# Checking last 2 rows of the data\n",
    "df.tail(2)"
   ]
  },
  {
   "cell_type": "code",
   "execution_count": 4,
   "id": "de6e8ee5",
   "metadata": {},
   "outputs": [
    {
     "data": {
      "text/html": [
       "<div>\n",
       "<style scoped>\n",
       "    .dataframe tbody tr th:only-of-type {\n",
       "        vertical-align: middle;\n",
       "    }\n",
       "\n",
       "    .dataframe tbody tr th {\n",
       "        vertical-align: top;\n",
       "    }\n",
       "\n",
       "    .dataframe thead th {\n",
       "        text-align: right;\n",
       "    }\n",
       "</style>\n",
       "<table border=\"1\" class=\"dataframe\">\n",
       "  <thead>\n",
       "    <tr style=\"text-align: right;\">\n",
       "      <th></th>\n",
       "      <th>day</th>\n",
       "      <th>name</th>\n",
       "      <th>info</th>\n",
       "      <th>link</th>\n",
       "      <th>num_references</th>\n",
       "      <th>year</th>\n",
       "      <th>month</th>\n",
       "      <th>info_parenth</th>\n",
       "      <th>info_1</th>\n",
       "      <th>info_2</th>\n",
       "      <th>info_3</th>\n",
       "      <th>info_4</th>\n",
       "      <th>info_5</th>\n",
       "      <th>info_6</th>\n",
       "      <th>info_7</th>\n",
       "      <th>info_8</th>\n",
       "      <th>info_9</th>\n",
       "      <th>info_10</th>\n",
       "      <th>info_11</th>\n",
       "      <th>age</th>\n",
       "      <th>cause_of_death</th>\n",
       "      <th>place_1</th>\n",
       "      <th>place_2</th>\n",
       "      <th>info_parenth_copy</th>\n",
       "      <th>log_num_references</th>\n",
       "      <th>sciences</th>\n",
       "      <th>social</th>\n",
       "      <th>spiritual</th>\n",
       "      <th>academia_humanities</th>\n",
       "      <th>business_farming</th>\n",
       "      <th>arts</th>\n",
       "      <th>sports</th>\n",
       "      <th>law_enf_military_operator</th>\n",
       "      <th>politics_govt_law</th>\n",
       "      <th>crime</th>\n",
       "      <th>event_record_other</th>\n",
       "      <th>other_species</th>\n",
       "      <th>num_categories</th>\n",
       "    </tr>\n",
       "  </thead>\n",
       "  <tbody>\n",
       "    <tr>\n",
       "      <th>57270</th>\n",
       "      <td>4</td>\n",
       "      <td>Enriquito López</td>\n",
       "      <td>, 60, Dominican Republic politician, member of the Senate .</td>\n",
       "      <td>https://en.wikipedia.org/wiki/Enriquito_L%C3%B3pez</td>\n",
       "      <td>4</td>\n",
       "      <td>2016</td>\n",
       "      <td>March</td>\n",
       "      <td></td>\n",
       "      <td>None</td>\n",
       "      <td></td>\n",
       "      <td>member of the Senate</td>\n",
       "      <td>None</td>\n",
       "      <td>None</td>\n",
       "      <td>None</td>\n",
       "      <td>None</td>\n",
       "      <td>None</td>\n",
       "      <td>None</td>\n",
       "      <td>None</td>\n",
       "      <td>None</td>\n",
       "      <td>60.0</td>\n",
       "      <td>None</td>\n",
       "      <td>Dominican Republic</td>\n",
       "      <td>None</td>\n",
       "      <td>2000 2004</td>\n",
       "      <td>1.609438</td>\n",
       "      <td>0</td>\n",
       "      <td>0</td>\n",
       "      <td>0</td>\n",
       "      <td>0</td>\n",
       "      <td>0</td>\n",
       "      <td>0</td>\n",
       "      <td>0</td>\n",
       "      <td>0</td>\n",
       "      <td>1</td>\n",
       "      <td>0</td>\n",
       "      <td>0</td>\n",
       "      <td>0</td>\n",
       "      <td>1</td>\n",
       "    </tr>\n",
       "    <tr>\n",
       "      <th>30815</th>\n",
       "      <td>12</td>\n",
       "      <td>Hanna-Renate Laurien</td>\n",
       "      <td>, 81, German politician.</td>\n",
       "      <td>https://en.wikipedia.org/wiki/Hanna-Renate_Laurien</td>\n",
       "      <td>3</td>\n",
       "      <td>2010</td>\n",
       "      <td>March</td>\n",
       "      <td>None</td>\n",
       "      <td>None</td>\n",
       "      <td></td>\n",
       "      <td>None</td>\n",
       "      <td>None</td>\n",
       "      <td>None</td>\n",
       "      <td>None</td>\n",
       "      <td>None</td>\n",
       "      <td>None</td>\n",
       "      <td>None</td>\n",
       "      <td>None</td>\n",
       "      <td>None</td>\n",
       "      <td>81.0</td>\n",
       "      <td>None</td>\n",
       "      <td>Germany</td>\n",
       "      <td>None</td>\n",
       "      <td>None</td>\n",
       "      <td>1.386294</td>\n",
       "      <td>0</td>\n",
       "      <td>0</td>\n",
       "      <td>0</td>\n",
       "      <td>0</td>\n",
       "      <td>0</td>\n",
       "      <td>0</td>\n",
       "      <td>0</td>\n",
       "      <td>0</td>\n",
       "      <td>1</td>\n",
       "      <td>0</td>\n",
       "      <td>0</td>\n",
       "      <td>0</td>\n",
       "      <td>1</td>\n",
       "    </tr>\n",
       "    <tr>\n",
       "      <th>42508</th>\n",
       "      <td>19</td>\n",
       "      <td>Harry Reems</td>\n",
       "      <td>, 65, American porn actor , pancreatic cancer.</td>\n",
       "      <td>https://en.wikipedia.org/wiki/Harry_Reems</td>\n",
       "      <td>28</td>\n",
       "      <td>2013</td>\n",
       "      <td>March</td>\n",
       "      <td></td>\n",
       "      <td>None</td>\n",
       "      <td></td>\n",
       "      <td>pancreatic cancer</td>\n",
       "      <td>None</td>\n",
       "      <td>None</td>\n",
       "      <td>None</td>\n",
       "      <td>None</td>\n",
       "      <td>None</td>\n",
       "      <td>None</td>\n",
       "      <td>None</td>\n",
       "      <td>None</td>\n",
       "      <td>65.0</td>\n",
       "      <td>None</td>\n",
       "      <td>United States of America</td>\n",
       "      <td>None</td>\n",
       "      <td></td>\n",
       "      <td>3.367296</td>\n",
       "      <td>0</td>\n",
       "      <td>0</td>\n",
       "      <td>0</td>\n",
       "      <td>0</td>\n",
       "      <td>0</td>\n",
       "      <td>1</td>\n",
       "      <td>0</td>\n",
       "      <td>0</td>\n",
       "      <td>0</td>\n",
       "      <td>0</td>\n",
       "      <td>0</td>\n",
       "      <td>0</td>\n",
       "      <td>1</td>\n",
       "    </tr>\n",
       "    <tr>\n",
       "      <th>67655</th>\n",
       "      <td>18</td>\n",
       "      <td>Günter Blobel</td>\n",
       "      <td>, 81, German-born American biologist, Nobel Prize laureate , cancer.</td>\n",
       "      <td>https://en.wikipedia.org/wiki/G%C3%BCnter_Blobel</td>\n",
       "      <td>15</td>\n",
       "      <td>2018</td>\n",
       "      <td>February</td>\n",
       "      <td></td>\n",
       "      <td>None</td>\n",
       "      <td>biologist</td>\n",
       "      <td>Nobel Prize laureate</td>\n",
       "      <td>cancer</td>\n",
       "      <td>None</td>\n",
       "      <td>None</td>\n",
       "      <td>None</td>\n",
       "      <td>None</td>\n",
       "      <td>None</td>\n",
       "      <td>None</td>\n",
       "      <td>None</td>\n",
       "      <td>81.0</td>\n",
       "      <td>None</td>\n",
       "      <td>Germany</td>\n",
       "      <td>United States of America</td>\n",
       "      <td>1999</td>\n",
       "      <td>2.772589</td>\n",
       "      <td>0</td>\n",
       "      <td>0</td>\n",
       "      <td>0</td>\n",
       "      <td>0</td>\n",
       "      <td>0</td>\n",
       "      <td>0</td>\n",
       "      <td>0</td>\n",
       "      <td>0</td>\n",
       "      <td>0</td>\n",
       "      <td>0</td>\n",
       "      <td>0</td>\n",
       "      <td>0</td>\n",
       "      <td>0</td>\n",
       "    </tr>\n",
       "    <tr>\n",
       "      <th>35909</th>\n",
       "      <td>5</td>\n",
       "      <td>Fred Shuttlesworth</td>\n",
       "      <td>, 89, American civil rights leader.</td>\n",
       "      <td>https://en.wikipedia.org/wiki/Fred_Shuttlesworth</td>\n",
       "      <td>29</td>\n",
       "      <td>2011</td>\n",
       "      <td>October</td>\n",
       "      <td>None</td>\n",
       "      <td>None</td>\n",
       "      <td>civil rights leader</td>\n",
       "      <td>None</td>\n",
       "      <td>None</td>\n",
       "      <td>None</td>\n",
       "      <td>None</td>\n",
       "      <td>None</td>\n",
       "      <td>None</td>\n",
       "      <td>None</td>\n",
       "      <td>None</td>\n",
       "      <td>None</td>\n",
       "      <td>89.0</td>\n",
       "      <td>None</td>\n",
       "      <td>United States of America</td>\n",
       "      <td>None</td>\n",
       "      <td>None</td>\n",
       "      <td>3.401197</td>\n",
       "      <td>0</td>\n",
       "      <td>0</td>\n",
       "      <td>0</td>\n",
       "      <td>0</td>\n",
       "      <td>0</td>\n",
       "      <td>0</td>\n",
       "      <td>0</td>\n",
       "      <td>0</td>\n",
       "      <td>0</td>\n",
       "      <td>0</td>\n",
       "      <td>0</td>\n",
       "      <td>0</td>\n",
       "      <td>0</td>\n",
       "    </tr>\n",
       "  </tbody>\n",
       "</table>\n",
       "</div>"
      ],
      "text/plain": [
       "      day                  name  \\\n",
       "57270   4       Enriquito López   \n",
       "30815  12  Hanna-Renate Laurien   \n",
       "42508  19           Harry Reems   \n",
       "67655  18         Günter Blobel   \n",
       "35909   5    Fred Shuttlesworth   \n",
       "\n",
       "                                                                       info  \\\n",
       "57270           , 60, Dominican Republic politician, member of the Senate .   \n",
       "30815                                              , 81, German politician.   \n",
       "42508                        , 65, American porn actor , pancreatic cancer.   \n",
       "67655  , 81, German-born American biologist, Nobel Prize laureate , cancer.   \n",
       "35909                                   , 89, American civil rights leader.   \n",
       "\n",
       "                                                     link  num_references  \\\n",
       "57270  https://en.wikipedia.org/wiki/Enriquito_L%C3%B3pez               4   \n",
       "30815  https://en.wikipedia.org/wiki/Hanna-Renate_Laurien               3   \n",
       "42508           https://en.wikipedia.org/wiki/Harry_Reems              28   \n",
       "67655    https://en.wikipedia.org/wiki/G%C3%BCnter_Blobel              15   \n",
       "35909    https://en.wikipedia.org/wiki/Fred_Shuttlesworth              29   \n",
       "\n",
       "       year     month info_parenth info_1               info_2  \\\n",
       "57270  2016     March                None                        \n",
       "30815  2010     March         None   None                        \n",
       "42508  2013     March                None                        \n",
       "67655  2018  February                None            biologist   \n",
       "35909  2011   October         None   None  civil rights leader   \n",
       "\n",
       "                     info_3  info_4 info_5 info_6 info_7 info_8 info_9  \\\n",
       "57270  member of the Senate    None   None   None   None   None   None   \n",
       "30815                  None    None   None   None   None   None   None   \n",
       "42508     pancreatic cancer    None   None   None   None   None   None   \n",
       "67655  Nobel Prize laureate  cancer   None   None   None   None   None   \n",
       "35909                  None    None   None   None   None   None   None   \n",
       "\n",
       "      info_10 info_11   age cause_of_death                   place_1  \\\n",
       "57270    None    None  60.0           None        Dominican Republic   \n",
       "30815    None    None  81.0           None                   Germany   \n",
       "42508    None    None  65.0           None  United States of America   \n",
       "67655    None    None  81.0           None                   Germany   \n",
       "35909    None    None  89.0           None  United States of America   \n",
       "\n",
       "                        place_2 info_parenth_copy  log_num_references  \\\n",
       "57270                      None         2000 2004            1.609438   \n",
       "30815                      None              None            1.386294   \n",
       "42508                      None                              3.367296   \n",
       "67655  United States of America              1999            2.772589   \n",
       "35909                      None              None            3.401197   \n",
       "\n",
       "       sciences  social  spiritual  academia_humanities  business_farming  \\\n",
       "57270         0       0          0                    0                 0   \n",
       "30815         0       0          0                    0                 0   \n",
       "42508         0       0          0                    0                 0   \n",
       "67655         0       0          0                    0                 0   \n",
       "35909         0       0          0                    0                 0   \n",
       "\n",
       "       arts  sports  law_enf_military_operator  politics_govt_law  crime  \\\n",
       "57270     0       0                          0                  1      0   \n",
       "30815     0       0                          0                  1      0   \n",
       "42508     1       0                          0                  0      0   \n",
       "67655     0       0                          0                  0      0   \n",
       "35909     0       0                          0                  0      0   \n",
       "\n",
       "       event_record_other  other_species  num_categories  \n",
       "57270                   0              0               1  \n",
       "30815                   0              0               1  \n",
       "42508                   0              0               1  \n",
       "67655                   0              0               0  \n",
       "35909                   0              0               0  "
      ]
     },
     "execution_count": 4,
     "metadata": {},
     "output_type": "execute_result"
    },
    {
     "data": {
      "application/javascript": [
       "\n",
       "            setTimeout(function() {\n",
       "                var nbb_cell_id = 4;\n",
       "                var nbb_unformatted_code = \"# Checking a sample of the data\\ndf.sample(5)\";\n",
       "                var nbb_formatted_code = \"# Checking a sample of the data\\ndf.sample(5)\";\n",
       "                var nbb_cells = Jupyter.notebook.get_cells();\n",
       "                for (var i = 0; i < nbb_cells.length; ++i) {\n",
       "                    if (nbb_cells[i].input_prompt_number == nbb_cell_id) {\n",
       "                        if (nbb_cells[i].get_text() == nbb_unformatted_code) {\n",
       "                             nbb_cells[i].set_text(nbb_formatted_code);\n",
       "                        }\n",
       "                        break;\n",
       "                    }\n",
       "                }\n",
       "            }, 500);\n",
       "            "
      ],
      "text/plain": [
       "<IPython.core.display.Javascript object>"
      ]
     },
     "metadata": {},
     "output_type": "display_data"
    }
   ],
   "source": [
    "# Checking a sample of the data\n",
    "df.sample(5)"
   ]
  },
  {
   "cell_type": "markdown",
   "id": "8d5f29da",
   "metadata": {},
   "source": [
    "### Checking Data Types, Duplicates, and Null Values"
   ]
  },
  {
   "cell_type": "code",
   "execution_count": 5,
   "id": "bf505f87",
   "metadata": {},
   "outputs": [
    {
     "name": "stdout",
     "output_type": "stream",
     "text": [
      "<class 'pandas.core.frame.DataFrame'>\n",
      "RangeIndex: 98059 entries, 0 to 98058\n",
      "Data columns (total 38 columns):\n",
      " #   Column                     Non-Null Count  Dtype  \n",
      "---  ------                     --------------  -----  \n",
      " 0   day                        98059 non-null  object \n",
      " 1   name                       98059 non-null  object \n",
      " 2   info                       98059 non-null  object \n",
      " 3   link                       98059 non-null  object \n",
      " 4   num_references             98059 non-null  int64  \n",
      " 5   year                       98059 non-null  int64  \n",
      " 6   month                      98059 non-null  object \n",
      " 7   info_parenth               36661 non-null  object \n",
      " 8   info_1                     22 non-null     object \n",
      " 9   info_2                     98027 non-null  object \n",
      " 10  info_3                     48895 non-null  object \n",
      " 11  info_4                     10264 non-null  object \n",
      " 12  info_5                     1265 non-null   object \n",
      " 13  info_6                     181 non-null    object \n",
      " 14  info_7                     27 non-null     object \n",
      " 15  info_8                     5 non-null      object \n",
      " 16  info_9                     1 non-null      object \n",
      " 17  info_10                    1 non-null      object \n",
      " 18  info_11                    1 non-null      object \n",
      " 19  age                        98059 non-null  float64\n",
      " 20  cause_of_death             7 non-null      object \n",
      " 21  place_1                    97905 non-null  object \n",
      " 22  place_2                    8115 non-null   object \n",
      " 23  info_parenth_copy          36661 non-null  object \n",
      " 24  log_num_references         98059 non-null  float64\n",
      " 25  sciences                   98059 non-null  int64  \n",
      " 26  social                     98059 non-null  int64  \n",
      " 27  spiritual                  98059 non-null  int64  \n",
      " 28  academia_humanities        98059 non-null  int64  \n",
      " 29  business_farming           98059 non-null  int64  \n",
      " 30  arts                       98059 non-null  int64  \n",
      " 31  sports                     98059 non-null  int64  \n",
      " 32  law_enf_military_operator  98059 non-null  int64  \n",
      " 33  politics_govt_law          98059 non-null  int64  \n",
      " 34  crime                      98059 non-null  int64  \n",
      " 35  event_record_other         98059 non-null  int64  \n",
      " 36  other_species              98059 non-null  int64  \n",
      " 37  num_categories             98059 non-null  int64  \n",
      "dtypes: float64(2), int64(15), object(21)\n",
      "memory usage: 28.4+ MB\n"
     ]
    },
    {
     "data": {
      "application/javascript": [
       "\n",
       "            setTimeout(function() {\n",
       "                var nbb_cell_id = 5;\n",
       "                var nbb_unformatted_code = \"# Checking data types and null values\\ndf.info()\";\n",
       "                var nbb_formatted_code = \"# Checking data types and null values\\ndf.info()\";\n",
       "                var nbb_cells = Jupyter.notebook.get_cells();\n",
       "                for (var i = 0; i < nbb_cells.length; ++i) {\n",
       "                    if (nbb_cells[i].input_prompt_number == nbb_cell_id) {\n",
       "                        if (nbb_cells[i].get_text() == nbb_unformatted_code) {\n",
       "                             nbb_cells[i].set_text(nbb_formatted_code);\n",
       "                        }\n",
       "                        break;\n",
       "                    }\n",
       "                }\n",
       "            }, 500);\n",
       "            "
      ],
      "text/plain": [
       "<IPython.core.display.Javascript object>"
      ]
     },
     "metadata": {},
     "output_type": "display_data"
    }
   ],
   "source": [
    "# Checking data types and null values\n",
    "df.info()"
   ]
  },
  {
   "cell_type": "markdown",
   "id": "c459d7f8",
   "metadata": {},
   "source": [
    "#### Observations:\n",
    "- With our dataset loaded, we can pick up where we left off with extracting known_for values by rebuilding `known_for_dict`."
   ]
  },
  {
   "cell_type": "markdown",
   "id": "5c542ec1",
   "metadata": {},
   "source": [
    "### Extracting `known_for` Continued"
   ]
  },
  {
   "cell_type": "markdown",
   "id": "3ec8c225",
   "metadata": {},
   "source": [
    "#### Finding `known_for` Roles in `info_2`"
   ]
  },
  {
   "cell_type": "code",
   "execution_count": 6,
   "id": "07145e9e",
   "metadata": {},
   "outputs": [
    {
     "data": {
      "application/javascript": [
       "\n",
       "            setTimeout(function() {\n",
       "                var nbb_cell_id = 6;\n",
       "                var nbb_unformatted_code = \"# Obtaining values for column and their counts\\nroles_list = df[\\\"info_2\\\"].value_counts(ascending=True).index.tolist()\";\n",
       "                var nbb_formatted_code = \"# Obtaining values for column and their counts\\nroles_list = df[\\\"info_2\\\"].value_counts(ascending=True).index.tolist()\";\n",
       "                var nbb_cells = Jupyter.notebook.get_cells();\n",
       "                for (var i = 0; i < nbb_cells.length; ++i) {\n",
       "                    if (nbb_cells[i].input_prompt_number == nbb_cell_id) {\n",
       "                        if (nbb_cells[i].get_text() == nbb_unformatted_code) {\n",
       "                             nbb_cells[i].set_text(nbb_formatted_code);\n",
       "                        }\n",
       "                        break;\n",
       "                    }\n",
       "                }\n",
       "            }, 500);\n",
       "            "
      ],
      "text/plain": [
       "<IPython.core.display.Javascript object>"
      ]
     },
     "metadata": {},
     "output_type": "display_data"
    }
   ],
   "source": [
    "# Obtaining values for column and their counts\n",
    "roles_list = df[\"info_2\"].value_counts(ascending=True).index.tolist()"
   ]
  },
  {
   "cell_type": "code",
   "execution_count": 7,
   "id": "c3214865",
   "metadata": {},
   "outputs": [
    {
     "data": {
      "application/javascript": [
       "\n",
       "            setTimeout(function() {\n",
       "                var nbb_cell_id = 7;\n",
       "                var nbb_unformatted_code = \"# # Code to check each value\\n# roles_list.pop()\";\n",
       "                var nbb_formatted_code = \"# # Code to check each value\\n# roles_list.pop()\";\n",
       "                var nbb_cells = Jupyter.notebook.get_cells();\n",
       "                for (var i = 0; i < nbb_cells.length; ++i) {\n",
       "                    if (nbb_cells[i].input_prompt_number == nbb_cell_id) {\n",
       "                        if (nbb_cells[i].get_text() == nbb_unformatted_code) {\n",
       "                             nbb_cells[i].set_text(nbb_formatted_code);\n",
       "                        }\n",
       "                        break;\n",
       "                    }\n",
       "                }\n",
       "            }, 500);\n",
       "            "
      ],
      "text/plain": [
       "<IPython.core.display.Javascript object>"
      ]
     },
     "metadata": {},
     "output_type": "display_data"
    }
   ],
   "source": [
    "# # Code to check each value\n",
    "# roles_list.pop()"
   ]
  },
  {
   "cell_type": "code",
   "execution_count": 8,
   "id": "036d000f",
   "metadata": {},
   "outputs": [
    {
     "data": {
      "application/javascript": [
       "\n",
       "            setTimeout(function() {\n",
       "                var nbb_cell_id = 8;\n",
       "                var nbb_unformatted_code = \"# # Create specific_roles_list for above popped value\\n# specific_roles_list = (\\n#     df.loc[\\n#         [index for index in df.index if \\\"educator\\\" in df.loc[index, \\\"info\\\"]], \\\"info_2\\\",\\n#     ]\\n#     .value_counts()\\n#     .index.tolist()\\n# )\";\n",
       "                var nbb_formatted_code = \"# # Create specific_roles_list for above popped value\\n# specific_roles_list = (\\n#     df.loc[\\n#         [index for index in df.index if \\\"educator\\\" in df.loc[index, \\\"info\\\"]], \\\"info_2\\\",\\n#     ]\\n#     .value_counts()\\n#     .index.tolist()\\n# )\";\n",
       "                var nbb_cells = Jupyter.notebook.get_cells();\n",
       "                for (var i = 0; i < nbb_cells.length; ++i) {\n",
       "                    if (nbb_cells[i].input_prompt_number == nbb_cell_id) {\n",
       "                        if (nbb_cells[i].get_text() == nbb_unformatted_code) {\n",
       "                             nbb_cells[i].set_text(nbb_formatted_code);\n",
       "                        }\n",
       "                        break;\n",
       "                    }\n",
       "                }\n",
       "            }, 500);\n",
       "            "
      ],
      "text/plain": [
       "<IPython.core.display.Javascript object>"
      ]
     },
     "metadata": {},
     "output_type": "display_data"
    }
   ],
   "source": [
    "# # Create specific_roles_list for above popped value\n",
    "# specific_roles_list = (\n",
    "#     df.loc[\n",
    "#         [index for index in df.index if \"educator\" in df.loc[index, \"info\"]], \"info_2\",\n",
    "#     ]\n",
    "#     .value_counts()\n",
    "#     .index.tolist()\n",
    "# )"
   ]
  },
  {
   "cell_type": "code",
   "execution_count": 9,
   "id": "7890f870",
   "metadata": {},
   "outputs": [
    {
     "data": {
      "application/javascript": [
       "\n",
       "            setTimeout(function() {\n",
       "                var nbb_cell_id = 9;\n",
       "                var nbb_unformatted_code = \"# # Code to check each specific value\\n# specific_roles_list.pop()\";\n",
       "                var nbb_formatted_code = \"# # Code to check each specific value\\n# specific_roles_list.pop()\";\n",
       "                var nbb_cells = Jupyter.notebook.get_cells();\n",
       "                for (var i = 0; i < nbb_cells.length; ++i) {\n",
       "                    if (nbb_cells[i].input_prompt_number == nbb_cell_id) {\n",
       "                        if (nbb_cells[i].get_text() == nbb_unformatted_code) {\n",
       "                             nbb_cells[i].set_text(nbb_formatted_code);\n",
       "                        }\n",
       "                        break;\n",
       "                    }\n",
       "                }\n",
       "            }, 500);\n",
       "            "
      ],
      "text/plain": [
       "<IPython.core.display.Javascript object>"
      ]
     },
     "metadata": {},
     "output_type": "display_data"
    }
   ],
   "source": [
    "# # Code to check each specific value\n",
    "# specific_roles_list.pop()"
   ]
  },
  {
   "cell_type": "code",
   "execution_count": 10,
   "id": "abacd2a4",
   "metadata": {},
   "outputs": [
    {
     "data": {
      "application/javascript": [
       "\n",
       "            setTimeout(function() {\n",
       "                var nbb_cell_id = 10;\n",
       "                var nbb_unformatted_code = \"# # Example code to quick-screen values that may overlap categories\\n# df.loc[[index for index in df.index if \\\"sex educator\\\" in df.loc[index, \\\"info\\\"]]]\";\n",
       "                var nbb_formatted_code = \"# # Example code to quick-screen values that may overlap categories\\n# df.loc[[index for index in df.index if \\\"sex educator\\\" in df.loc[index, \\\"info\\\"]]]\";\n",
       "                var nbb_cells = Jupyter.notebook.get_cells();\n",
       "                for (var i = 0; i < nbb_cells.length; ++i) {\n",
       "                    if (nbb_cells[i].input_prompt_number == nbb_cell_id) {\n",
       "                        if (nbb_cells[i].get_text() == nbb_unformatted_code) {\n",
       "                             nbb_cells[i].set_text(nbb_formatted_code);\n",
       "                        }\n",
       "                        break;\n",
       "                    }\n",
       "                }\n",
       "            }, 500);\n",
       "            "
      ],
      "text/plain": [
       "<IPython.core.display.Javascript object>"
      ]
     },
     "metadata": {},
     "output_type": "display_data"
    }
   ],
   "source": [
    "# # Example code to quick-screen values that may overlap categories\n",
    "# df.loc[[index for index in df.index if \"sex educator\" in df.loc[index, \"info\"]]]"
   ]
  },
  {
   "cell_type": "code",
   "execution_count": 11,
   "id": "28da67f3",
   "metadata": {},
   "outputs": [
    {
     "data": {
      "application/javascript": [
       "\n",
       "            setTimeout(function() {\n",
       "                var nbb_cell_id = 11;\n",
       "                var nbb_unformatted_code = \"# # Example code to quick-screen values that may overlap categories\\n# df.loc[\\n#     [\\n#         index\\n#         for index in df.index\\n#         if \\\"outlaw country music singer songwriter\\\" in df.loc[index, \\\"info\\\"]\\n#     ]\\n# ]\";\n",
       "                var nbb_formatted_code = \"# # Example code to quick-screen values that may overlap categories\\n# df.loc[\\n#     [\\n#         index\\n#         for index in df.index\\n#         if \\\"outlaw country music singer songwriter\\\" in df.loc[index, \\\"info\\\"]\\n#     ]\\n# ]\";\n",
       "                var nbb_cells = Jupyter.notebook.get_cells();\n",
       "                for (var i = 0; i < nbb_cells.length; ++i) {\n",
       "                    if (nbb_cells[i].input_prompt_number == nbb_cell_id) {\n",
       "                        if (nbb_cells[i].get_text() == nbb_unformatted_code) {\n",
       "                             nbb_cells[i].set_text(nbb_formatted_code);\n",
       "                        }\n",
       "                        break;\n",
       "                    }\n",
       "                }\n",
       "            }, 500);\n",
       "            "
      ],
      "text/plain": [
       "<IPython.core.display.Javascript object>"
      ]
     },
     "metadata": {},
     "output_type": "display_data"
    }
   ],
   "source": [
    "# # Example code to quick-screen values that may overlap categories\n",
    "# df.loc[\n",
    "#     [\n",
    "#         index\n",
    "#         for index in df.index\n",
    "#         if \"outlaw country music singer songwriter\" in df.loc[index, \"info\"]\n",
    "#     ]\n",
    "# ]"
   ]
  },
  {
   "cell_type": "code",
   "execution_count": 12,
   "id": "728c5d8f",
   "metadata": {},
   "outputs": [
    {
     "data": {
      "application/javascript": [
       "\n",
       "            setTimeout(function() {\n",
       "                var nbb_cell_id = 12;\n",
       "                var nbb_unformatted_code = \"# # Example code to quick-check a specific entry\\n# df[df[\\\"info_2\\\"] == \\\"specialist in studies and educator\\\"]\";\n",
       "                var nbb_formatted_code = \"# # Example code to quick-check a specific entry\\n# df[df[\\\"info_2\\\"] == \\\"specialist in studies and educator\\\"]\";\n",
       "                var nbb_cells = Jupyter.notebook.get_cells();\n",
       "                for (var i = 0; i < nbb_cells.length; ++i) {\n",
       "                    if (nbb_cells[i].input_prompt_number == nbb_cell_id) {\n",
       "                        if (nbb_cells[i].get_text() == nbb_unformatted_code) {\n",
       "                             nbb_cells[i].set_text(nbb_formatted_code);\n",
       "                        }\n",
       "                        break;\n",
       "                    }\n",
       "                }\n",
       "            }, 500);\n",
       "            "
      ],
      "text/plain": [
       "<IPython.core.display.Javascript object>"
      ]
     },
     "metadata": {},
     "output_type": "display_data"
    }
   ],
   "source": [
    "# # Example code to quick-check a specific entry\n",
    "# df[df[\"info_2\"] == \"specialist in studies and educator\"]"
   ]
  },
  {
   "cell_type": "markdown",
   "id": "a1b530de",
   "metadata": {},
   "source": [
    "#### Creating Lists for Each `known_for` Category"
   ]
  },
  {
   "cell_type": "code",
   "execution_count": 13,
   "id": "22dc753a",
   "metadata": {},
   "outputs": [
    {
     "data": {
      "application/javascript": [
       "\n",
       "            setTimeout(function() {\n",
       "                var nbb_cell_id = 13;\n",
       "                var nbb_unformatted_code = \"# Creating lists for each category\\npolitics_govt_law = [\\n    \\\"struggle veteran\\\",\\n]\\n\\narts = []\\nsports = []\\nsciences = [\\n    \\\"and wonen health\\\",\\n]\\n\\nbusiness_farming = []\\nacademia_humanities = [\\n    \\\"educator and scholar\\\",\\n    \\\"educator and M\\u0101ori language proponent\\\",\\n    \\\"and early childhood educator\\\",\\n    \\\"educator and professor\\\",\\n    \\\"scholar and educator\\\",\\n    \\\"educator and public schools superintendent\\\",\\n    \\\"AIDS educator and\\\",\\n    \\\"AIDS educator\\\",\\n    \\\"educator and director of the Advanced Placement Program\\\",\\n    \\\"educator and librarian\\\",\\n    \\\"adult educator\\\",\\n    \\\"university educator\\\",\\n    \\\"linguist and educator\\\",\\n    \\\"librarian and educator\\\",\\n    \\\"specialist in studies and educator\\\",\\n    \\\"Native educator\\\",\\n    \\\"educator and debate coach\\\",\\n    \\\"language linguist and educator\\\",\\n    \\\"Sanskrit scholar and educator\\\",\\n    \\\"educator and musicologist\\\",\\n    \\\"educator and anthropologist\\\",\\n    \\\"teacher and educator\\\",\\n    \\\"educator and college administrator\\\",\\n    \\\"Inuit educator\\\",\\n    \\\"educator and university administrator\\\",\\n    \\\"translator and educator\\\",\\n    \\\"and educator\\\",\\n    \\\"educator and\\\",\\n    \\\"educator\\\",\\n]\\nlaw_enf_military_operator = []\\nspiritual = []\\nsocial = []\\ncrime = []\\nevent_record_other = []\\nother_species = []\";\n",
       "                var nbb_formatted_code = \"# Creating lists for each category\\npolitics_govt_law = [\\n    \\\"struggle veteran\\\",\\n]\\n\\narts = []\\nsports = []\\nsciences = [\\n    \\\"and wonen health\\\",\\n]\\n\\nbusiness_farming = []\\nacademia_humanities = [\\n    \\\"educator and scholar\\\",\\n    \\\"educator and M\\u0101ori language proponent\\\",\\n    \\\"and early childhood educator\\\",\\n    \\\"educator and professor\\\",\\n    \\\"scholar and educator\\\",\\n    \\\"educator and public schools superintendent\\\",\\n    \\\"AIDS educator and\\\",\\n    \\\"AIDS educator\\\",\\n    \\\"educator and director of the Advanced Placement Program\\\",\\n    \\\"educator and librarian\\\",\\n    \\\"adult educator\\\",\\n    \\\"university educator\\\",\\n    \\\"linguist and educator\\\",\\n    \\\"librarian and educator\\\",\\n    \\\"specialist in studies and educator\\\",\\n    \\\"Native educator\\\",\\n    \\\"educator and debate coach\\\",\\n    \\\"language linguist and educator\\\",\\n    \\\"Sanskrit scholar and educator\\\",\\n    \\\"educator and musicologist\\\",\\n    \\\"educator and anthropologist\\\",\\n    \\\"teacher and educator\\\",\\n    \\\"educator and college administrator\\\",\\n    \\\"Inuit educator\\\",\\n    \\\"educator and university administrator\\\",\\n    \\\"translator and educator\\\",\\n    \\\"and educator\\\",\\n    \\\"educator and\\\",\\n    \\\"educator\\\",\\n]\\nlaw_enf_military_operator = []\\nspiritual = []\\nsocial = []\\ncrime = []\\nevent_record_other = []\\nother_species = []\";\n",
       "                var nbb_cells = Jupyter.notebook.get_cells();\n",
       "                for (var i = 0; i < nbb_cells.length; ++i) {\n",
       "                    if (nbb_cells[i].input_prompt_number == nbb_cell_id) {\n",
       "                        if (nbb_cells[i].get_text() == nbb_unformatted_code) {\n",
       "                             nbb_cells[i].set_text(nbb_formatted_code);\n",
       "                        }\n",
       "                        break;\n",
       "                    }\n",
       "                }\n",
       "            }, 500);\n",
       "            "
      ],
      "text/plain": [
       "<IPython.core.display.Javascript object>"
      ]
     },
     "metadata": {},
     "output_type": "display_data"
    }
   ],
   "source": [
    "# Creating lists for each category\n",
    "politics_govt_law = [\n",
    "    \"struggle veteran\",\n",
    "]\n",
    "\n",
    "arts = []\n",
    "sports = []\n",
    "sciences = [\n",
    "    \"and wonen health\",\n",
    "]\n",
    "\n",
    "business_farming = []\n",
    "academia_humanities = [\n",
    "    \"educator and scholar\",\n",
    "    \"educator and Māori language proponent\",\n",
    "    \"and early childhood educator\",\n",
    "    \"educator and professor\",\n",
    "    \"scholar and educator\",\n",
    "    \"educator and public schools superintendent\",\n",
    "    \"AIDS educator and\",\n",
    "    \"AIDS educator\",\n",
    "    \"educator and director of the Advanced Placement Program\",\n",
    "    \"educator and librarian\",\n",
    "    \"adult educator\",\n",
    "    \"university educator\",\n",
    "    \"linguist and educator\",\n",
    "    \"librarian and educator\",\n",
    "    \"specialist in studies and educator\",\n",
    "    \"Native educator\",\n",
    "    \"educator and debate coach\",\n",
    "    \"language linguist and educator\",\n",
    "    \"Sanskrit scholar and educator\",\n",
    "    \"educator and musicologist\",\n",
    "    \"educator and anthropologist\",\n",
    "    \"teacher and educator\",\n",
    "    \"educator and college administrator\",\n",
    "    \"Inuit educator\",\n",
    "    \"educator and university administrator\",\n",
    "    \"translator and educator\",\n",
    "    \"and educator\",\n",
    "    \"educator and\",\n",
    "    \"educator\",\n",
    "]\n",
    "law_enf_military_operator = []\n",
    "spiritual = []\n",
    "social = []\n",
    "crime = []\n",
    "event_record_other = []\n",
    "other_species = []"
   ]
  },
  {
   "cell_type": "markdown",
   "id": "a8c50018",
   "metadata": {},
   "source": [
    "#### Creating `known_for_dict` Dictionary of Category Keys and Specific Role Lists of Values"
   ]
  },
  {
   "cell_type": "code",
   "execution_count": 14,
   "id": "bf7ea36c",
   "metadata": {},
   "outputs": [
    {
     "data": {
      "application/javascript": [
       "\n",
       "            setTimeout(function() {\n",
       "                var nbb_cell_id = 14;\n",
       "                var nbb_unformatted_code = \"# Combining separate lists into one dictionary\\nknown_for_dict = {\\n    \\\"social\\\": social,\\n    \\\"spiritual\\\": spiritual,\\n    \\\"academia_humanities\\\": academia_humanities,\\n    \\\"business_farming\\\": business_farming,\\n    \\\"sciences\\\": sciences,\\n    \\\"politics_govt_law\\\": politics_govt_law,\\n    \\\"law_enf_military_operator\\\": law_enf_military_operator,\\n    \\\"crime\\\": crime,\\n    \\\"event_record_other\\\": event_record_other,\\n    \\\"other_species\\\": other_species,\\n    \\\"arts\\\": arts,\\n    \\\"sports\\\": sports,\\n}\";\n",
       "                var nbb_formatted_code = \"# Combining separate lists into one dictionary\\nknown_for_dict = {\\n    \\\"social\\\": social,\\n    \\\"spiritual\\\": spiritual,\\n    \\\"academia_humanities\\\": academia_humanities,\\n    \\\"business_farming\\\": business_farming,\\n    \\\"sciences\\\": sciences,\\n    \\\"politics_govt_law\\\": politics_govt_law,\\n    \\\"law_enf_military_operator\\\": law_enf_military_operator,\\n    \\\"crime\\\": crime,\\n    \\\"event_record_other\\\": event_record_other,\\n    \\\"other_species\\\": other_species,\\n    \\\"arts\\\": arts,\\n    \\\"sports\\\": sports,\\n}\";\n",
       "                var nbb_cells = Jupyter.notebook.get_cells();\n",
       "                for (var i = 0; i < nbb_cells.length; ++i) {\n",
       "                    if (nbb_cells[i].input_prompt_number == nbb_cell_id) {\n",
       "                        if (nbb_cells[i].get_text() == nbb_unformatted_code) {\n",
       "                             nbb_cells[i].set_text(nbb_formatted_code);\n",
       "                        }\n",
       "                        break;\n",
       "                    }\n",
       "                }\n",
       "            }, 500);\n",
       "            "
      ],
      "text/plain": [
       "<IPython.core.display.Javascript object>"
      ]
     },
     "metadata": {},
     "output_type": "display_data"
    }
   ],
   "source": [
    "# Combining separate lists into one dictionary\n",
    "known_for_dict = {\n",
    "    \"social\": social,\n",
    "    \"spiritual\": spiritual,\n",
    "    \"academia_humanities\": academia_humanities,\n",
    "    \"business_farming\": business_farming,\n",
    "    \"sciences\": sciences,\n",
    "    \"politics_govt_law\": politics_govt_law,\n",
    "    \"law_enf_military_operator\": law_enf_military_operator,\n",
    "    \"crime\": crime,\n",
    "    \"event_record_other\": event_record_other,\n",
    "    \"other_species\": other_species,\n",
    "    \"arts\": arts,\n",
    "    \"sports\": sports,\n",
    "}"
   ]
  },
  {
   "cell_type": "markdown",
   "id": "e145fcfd",
   "metadata": {},
   "source": [
    "#### Extracting Category from `info_2`"
   ]
  },
  {
   "cell_type": "code",
   "execution_count": 15,
   "id": "6fb9d709",
   "metadata": {},
   "outputs": [
    {
     "name": "stdout",
     "output_type": "stream",
     "text": [
      "CPU times: total: 16.6 s\n",
      "Wall time: 16.6 s\n"
     ]
    },
    {
     "data": {
      "text/html": [
       "<div>\n",
       "<style scoped>\n",
       "    .dataframe tbody tr th:only-of-type {\n",
       "        vertical-align: middle;\n",
       "    }\n",
       "\n",
       "    .dataframe tbody tr th {\n",
       "        vertical-align: top;\n",
       "    }\n",
       "\n",
       "    .dataframe thead th {\n",
       "        text-align: right;\n",
       "    }\n",
       "</style>\n",
       "<table border=\"1\" class=\"dataframe\">\n",
       "  <thead>\n",
       "    <tr style=\"text-align: right;\">\n",
       "      <th></th>\n",
       "      <th>day</th>\n",
       "      <th>name</th>\n",
       "      <th>info</th>\n",
       "      <th>link</th>\n",
       "      <th>num_references</th>\n",
       "      <th>year</th>\n",
       "      <th>month</th>\n",
       "      <th>info_parenth</th>\n",
       "      <th>info_1</th>\n",
       "      <th>info_2</th>\n",
       "      <th>info_3</th>\n",
       "      <th>info_4</th>\n",
       "      <th>info_5</th>\n",
       "      <th>info_6</th>\n",
       "      <th>info_7</th>\n",
       "      <th>info_8</th>\n",
       "      <th>info_9</th>\n",
       "      <th>info_10</th>\n",
       "      <th>info_11</th>\n",
       "      <th>age</th>\n",
       "      <th>cause_of_death</th>\n",
       "      <th>place_1</th>\n",
       "      <th>place_2</th>\n",
       "      <th>info_parenth_copy</th>\n",
       "      <th>log_num_references</th>\n",
       "      <th>sciences</th>\n",
       "      <th>social</th>\n",
       "      <th>spiritual</th>\n",
       "      <th>academia_humanities</th>\n",
       "      <th>business_farming</th>\n",
       "      <th>arts</th>\n",
       "      <th>sports</th>\n",
       "      <th>law_enf_military_operator</th>\n",
       "      <th>politics_govt_law</th>\n",
       "      <th>crime</th>\n",
       "      <th>event_record_other</th>\n",
       "      <th>other_species</th>\n",
       "      <th>num_categories</th>\n",
       "    </tr>\n",
       "  </thead>\n",
       "  <tbody>\n",
       "    <tr>\n",
       "      <th>19433</th>\n",
       "      <td>17</td>\n",
       "      <td>George F. Kennan</td>\n",
       "      <td>, 101, U.S. diplomat and historian.</td>\n",
       "      <td>https://en.wikipedia.org/wiki/George_F._Kennan</td>\n",
       "      <td>149</td>\n",
       "      <td>2005</td>\n",
       "      <td>March</td>\n",
       "      <td>None</td>\n",
       "      <td>None</td>\n",
       "      <td></td>\n",
       "      <td>None</td>\n",
       "      <td>None</td>\n",
       "      <td>None</td>\n",
       "      <td>None</td>\n",
       "      <td>None</td>\n",
       "      <td>None</td>\n",
       "      <td>None</td>\n",
       "      <td>None</td>\n",
       "      <td>None</td>\n",
       "      <td>101.0</td>\n",
       "      <td>None</td>\n",
       "      <td>United States of America</td>\n",
       "      <td>None</td>\n",
       "      <td>None</td>\n",
       "      <td>5.010635</td>\n",
       "      <td>0</td>\n",
       "      <td>0</td>\n",
       "      <td>0</td>\n",
       "      <td>1</td>\n",
       "      <td>0</td>\n",
       "      <td>0</td>\n",
       "      <td>0</td>\n",
       "      <td>0</td>\n",
       "      <td>1</td>\n",
       "      <td>0</td>\n",
       "      <td>0</td>\n",
       "      <td>0</td>\n",
       "      <td>2</td>\n",
       "    </tr>\n",
       "    <tr>\n",
       "      <th>96933</th>\n",
       "      <td>28</td>\n",
       "      <td>Serhiy Kot</td>\n",
       "      <td>, 63, Ukrainian historian.</td>\n",
       "      <td>https://en.wikipedia.org/wiki/Serhiy_Kot</td>\n",
       "      <td>9</td>\n",
       "      <td>2022</td>\n",
       "      <td>March</td>\n",
       "      <td>None</td>\n",
       "      <td>None</td>\n",
       "      <td></td>\n",
       "      <td>None</td>\n",
       "      <td>None</td>\n",
       "      <td>None</td>\n",
       "      <td>None</td>\n",
       "      <td>None</td>\n",
       "      <td>None</td>\n",
       "      <td>None</td>\n",
       "      <td>None</td>\n",
       "      <td>None</td>\n",
       "      <td>63.0</td>\n",
       "      <td>None</td>\n",
       "      <td>Ukraine</td>\n",
       "      <td>None</td>\n",
       "      <td>None</td>\n",
       "      <td>2.302585</td>\n",
       "      <td>0</td>\n",
       "      <td>0</td>\n",
       "      <td>0</td>\n",
       "      <td>1</td>\n",
       "      <td>0</td>\n",
       "      <td>0</td>\n",
       "      <td>0</td>\n",
       "      <td>0</td>\n",
       "      <td>0</td>\n",
       "      <td>0</td>\n",
       "      <td>0</td>\n",
       "      <td>0</td>\n",
       "      <td>1</td>\n",
       "    </tr>\n",
       "  </tbody>\n",
       "</table>\n",
       "</div>"
      ],
      "text/plain": [
       "      day              name                                 info  \\\n",
       "19433  17  George F. Kennan  , 101, U.S. diplomat and historian.   \n",
       "96933  28        Serhiy Kot           , 63, Ukrainian historian.   \n",
       "\n",
       "                                                 link  num_references  year  \\\n",
       "19433  https://en.wikipedia.org/wiki/George_F._Kennan             149  2005   \n",
       "96933        https://en.wikipedia.org/wiki/Serhiy_Kot               9  2022   \n",
       "\n",
       "       month info_parenth info_1 info_2 info_3 info_4 info_5 info_6 info_7  \\\n",
       "19433  March         None   None          None   None   None   None   None   \n",
       "96933  March         None   None          None   None   None   None   None   \n",
       "\n",
       "      info_8 info_9 info_10 info_11    age cause_of_death  \\\n",
       "19433   None   None    None    None  101.0           None   \n",
       "96933   None   None    None    None   63.0           None   \n",
       "\n",
       "                        place_1 place_2 info_parenth_copy  log_num_references  \\\n",
       "19433  United States of America    None              None            5.010635   \n",
       "96933                   Ukraine    None              None            2.302585   \n",
       "\n",
       "       sciences  social  spiritual  academia_humanities  business_farming  \\\n",
       "19433         0       0          0                    1                 0   \n",
       "96933         0       0          0                    1                 0   \n",
       "\n",
       "       arts  sports  law_enf_military_operator  politics_govt_law  crime  \\\n",
       "19433     0       0                          0                  1      0   \n",
       "96933     0       0                          0                  0      0   \n",
       "\n",
       "       event_record_other  other_species  num_categories  \n",
       "19433                   0              0               2  \n",
       "96933                   0              0               1  "
      ]
     },
     "execution_count": 15,
     "metadata": {},
     "output_type": "execute_result"
    },
    {
     "data": {
      "application/javascript": [
       "\n",
       "            setTimeout(function() {\n",
       "                var nbb_cell_id = 15;\n",
       "                var nbb_unformatted_code = \"%%time\\n\\n# Dictionary version\\nsearch_dict = known_for_dict\\n\\n# Column to check\\ncolumn = 'info_2'\\n\\n# Dataframe\\ndataframe = df[column].notna()\\n\\n# For loop to find role in column and extract it as category\\nfor category, category_lst in search_dict.items():\\n    for role in category_lst:\\n        for index in dataframe.index:\\n            item = df.loc[index, column]\\n            if item:\\n                if role in item:\\n                    df.loc[index, category] = 1\\n                    df.loc[index, column] = item.replace(role, '').strip()\\n\\n# Updating num_categories\\ndf[\\\"num_categories\\\"] = df[known_for_dict.keys()].sum(axis=1)\\n\\n# Checking a sample of rows\\ndf[df['academia_humanities'] ==1].sample(2)\";\n",
       "                var nbb_formatted_code = \"%%time\\n\\n# Dictionary version\\nsearch_dict = known_for_dict\\n\\n# Column to check\\ncolumn = 'info_2'\\n\\n# Dataframe\\ndataframe = df[column].notna()\\n\\n# For loop to find role in column and extract it as category\\nfor category, category_lst in search_dict.items():\\n    for role in category_lst:\\n        for index in dataframe.index:\\n            item = df.loc[index, column]\\n            if item:\\n                if role in item:\\n                    df.loc[index, category] = 1\\n                    df.loc[index, column] = item.replace(role, '').strip()\\n\\n# Updating num_categories\\ndf[\\\"num_categories\\\"] = df[known_for_dict.keys()].sum(axis=1)\\n\\n# Checking a sample of rows\\ndf[df['academia_humanities'] ==1].sample(2)\";\n",
       "                var nbb_cells = Jupyter.notebook.get_cells();\n",
       "                for (var i = 0; i < nbb_cells.length; ++i) {\n",
       "                    if (nbb_cells[i].input_prompt_number == nbb_cell_id) {\n",
       "                        if (nbb_cells[i].get_text() == nbb_unformatted_code) {\n",
       "                             nbb_cells[i].set_text(nbb_formatted_code);\n",
       "                        }\n",
       "                        break;\n",
       "                    }\n",
       "                }\n",
       "            }, 500);\n",
       "            "
      ],
      "text/plain": [
       "<IPython.core.display.Javascript object>"
      ]
     },
     "metadata": {},
     "output_type": "display_data"
    }
   ],
   "source": [
    "%%time\n",
    "\n",
    "# Dictionary version\n",
    "search_dict = known_for_dict\n",
    "\n",
    "# Column to check\n",
    "column = 'info_2'\n",
    "\n",
    "# Dataframe\n",
    "dataframe = df[column].notna()\n",
    "\n",
    "# For loop to find role in column and extract it as category\n",
    "for category, category_lst in search_dict.items():\n",
    "    for role in category_lst:\n",
    "        for index in dataframe.index:\n",
    "            item = df.loc[index, column]\n",
    "            if item:\n",
    "                if role in item:\n",
    "                    df.loc[index, category] = 1\n",
    "                    df.loc[index, column] = item.replace(role, '').strip()\n",
    "\n",
    "# Updating num_categories\n",
    "df[\"num_categories\"] = df[known_for_dict.keys()].sum(axis=1)\n",
    "\n",
    "# Checking a sample of rows\n",
    "df[df['academia_humanities'] ==1].sample(2)"
   ]
  },
  {
   "cell_type": "markdown",
   "id": "7173507c",
   "metadata": {},
   "source": [
    "#### Checking the Number of Rows without a First Category"
   ]
  },
  {
   "cell_type": "code",
   "execution_count": 16,
   "id": "c855203d",
   "metadata": {},
   "outputs": [
    {
     "name": "stdout",
     "output_type": "stream",
     "text": [
      "There are 37846 entries without any known_for category.\n"
     ]
    },
    {
     "data": {
      "application/javascript": [
       "\n",
       "            setTimeout(function() {\n",
       "                var nbb_cell_id = 16;\n",
       "                var nbb_unformatted_code = \"# Checking the number of rows without a first category\\nprint(\\n    f'There are {len(df[df[\\\"num_categories\\\"]==0])} entries without any known_for category.'\\n)\";\n",
       "                var nbb_formatted_code = \"# Checking the number of rows without a first category\\nprint(\\n    f'There are {len(df[df[\\\"num_categories\\\"]==0])} entries without any known_for category.'\\n)\";\n",
       "                var nbb_cells = Jupyter.notebook.get_cells();\n",
       "                for (var i = 0; i < nbb_cells.length; ++i) {\n",
       "                    if (nbb_cells[i].input_prompt_number == nbb_cell_id) {\n",
       "                        if (nbb_cells[i].get_text() == nbb_unformatted_code) {\n",
       "                             nbb_cells[i].set_text(nbb_formatted_code);\n",
       "                        }\n",
       "                        break;\n",
       "                    }\n",
       "                }\n",
       "            }, 500);\n",
       "            "
      ],
      "text/plain": [
       "<IPython.core.display.Javascript object>"
      ]
     },
     "metadata": {},
     "output_type": "display_data"
    }
   ],
   "source": [
    "# Checking the number of rows without a first category\n",
    "print(\n",
    "    f'There are {len(df[df[\"num_categories\"]==0])} entries without any known_for category.'\n",
    ")"
   ]
  },
  {
   "cell_type": "markdown",
   "id": "5c4138bc",
   "metadata": {},
   "source": [
    "#### Observations:\n",
    "- We will proceed to rebuild `known_for_dict` for the next iteration."
   ]
  },
  {
   "cell_type": "markdown",
   "id": "f38afd4d",
   "metadata": {},
   "source": [
    "#### Finding `known_for` Roles in `info_2`"
   ]
  },
  {
   "cell_type": "code",
   "execution_count": 17,
   "id": "6f319aee",
   "metadata": {},
   "outputs": [
    {
     "data": {
      "application/javascript": [
       "\n",
       "            setTimeout(function() {\n",
       "                var nbb_cell_id = 17;\n",
       "                var nbb_unformatted_code = \"# Obtaining values for column and their counts\\nroles_list = df[\\\"info_2\\\"].value_counts(ascending=True).index.tolist()\";\n",
       "                var nbb_formatted_code = \"# Obtaining values for column and their counts\\nroles_list = df[\\\"info_2\\\"].value_counts(ascending=True).index.tolist()\";\n",
       "                var nbb_cells = Jupyter.notebook.get_cells();\n",
       "                for (var i = 0; i < nbb_cells.length; ++i) {\n",
       "                    if (nbb_cells[i].input_prompt_number == nbb_cell_id) {\n",
       "                        if (nbb_cells[i].get_text() == nbb_unformatted_code) {\n",
       "                             nbb_cells[i].set_text(nbb_formatted_code);\n",
       "                        }\n",
       "                        break;\n",
       "                    }\n",
       "                }\n",
       "            }, 500);\n",
       "            "
      ],
      "text/plain": [
       "<IPython.core.display.Javascript object>"
      ]
     },
     "metadata": {},
     "output_type": "display_data"
    }
   ],
   "source": [
    "# Obtaining values for column and their counts\n",
    "roles_list = df[\"info_2\"].value_counts(ascending=True).index.tolist()"
   ]
  },
  {
   "cell_type": "code",
   "execution_count": 18,
   "id": "e0ea6cc0",
   "metadata": {},
   "outputs": [
    {
     "data": {
      "application/javascript": [
       "\n",
       "            setTimeout(function() {\n",
       "                var nbb_cell_id = 18;\n",
       "                var nbb_unformatted_code = \"# # Code to check each value\\n# roles_list.pop()\";\n",
       "                var nbb_formatted_code = \"# # Code to check each value\\n# roles_list.pop()\";\n",
       "                var nbb_cells = Jupyter.notebook.get_cells();\n",
       "                for (var i = 0; i < nbb_cells.length; ++i) {\n",
       "                    if (nbb_cells[i].input_prompt_number == nbb_cell_id) {\n",
       "                        if (nbb_cells[i].get_text() == nbb_unformatted_code) {\n",
       "                             nbb_cells[i].set_text(nbb_formatted_code);\n",
       "                        }\n",
       "                        break;\n",
       "                    }\n",
       "                }\n",
       "            }, 500);\n",
       "            "
      ],
      "text/plain": [
       "<IPython.core.display.Javascript object>"
      ]
     },
     "metadata": {},
     "output_type": "display_data"
    }
   ],
   "source": [
    "# # Code to check each value\n",
    "# roles_list.pop()"
   ]
  },
  {
   "cell_type": "code",
   "execution_count": 19,
   "id": "a31ca592",
   "metadata": {},
   "outputs": [
    {
     "data": {
      "application/javascript": [
       "\n",
       "            setTimeout(function() {\n",
       "                var nbb_cell_id = 19;\n",
       "                var nbb_unformatted_code = \"# # Create specific_roles_list for above popped value\\n# specific_roles_list = (\\n#     df.loc[\\n#         [index for index in df.index if \\\"chemist\\\" in df.loc[index, \\\"info\\\"]], \\\"info_2\\\",\\n#     ]\\n#     .value_counts()\\n#     .index.tolist()\\n# )\";\n",
       "                var nbb_formatted_code = \"# # Create specific_roles_list for above popped value\\n# specific_roles_list = (\\n#     df.loc[\\n#         [index for index in df.index if \\\"chemist\\\" in df.loc[index, \\\"info\\\"]], \\\"info_2\\\",\\n#     ]\\n#     .value_counts()\\n#     .index.tolist()\\n# )\";\n",
       "                var nbb_cells = Jupyter.notebook.get_cells();\n",
       "                for (var i = 0; i < nbb_cells.length; ++i) {\n",
       "                    if (nbb_cells[i].input_prompt_number == nbb_cell_id) {\n",
       "                        if (nbb_cells[i].get_text() == nbb_unformatted_code) {\n",
       "                             nbb_cells[i].set_text(nbb_formatted_code);\n",
       "                        }\n",
       "                        break;\n",
       "                    }\n",
       "                }\n",
       "            }, 500);\n",
       "            "
      ],
      "text/plain": [
       "<IPython.core.display.Javascript object>"
      ]
     },
     "metadata": {},
     "output_type": "display_data"
    }
   ],
   "source": [
    "# # Create specific_roles_list for above popped value\n",
    "# specific_roles_list = (\n",
    "#     df.loc[\n",
    "#         [index for index in df.index if \"chemist\" in df.loc[index, \"info\"]], \"info_2\",\n",
    "#     ]\n",
    "#     .value_counts()\n",
    "#     .index.tolist()\n",
    "# )"
   ]
  },
  {
   "cell_type": "code",
   "execution_count": 20,
   "id": "3d583bf8",
   "metadata": {},
   "outputs": [
    {
     "data": {
      "application/javascript": [
       "\n",
       "            setTimeout(function() {\n",
       "                var nbb_cell_id = 20;\n",
       "                var nbb_unformatted_code = \"# # Code to check each specific value\\n# specific_roles_list.pop()\";\n",
       "                var nbb_formatted_code = \"# # Code to check each specific value\\n# specific_roles_list.pop()\";\n",
       "                var nbb_cells = Jupyter.notebook.get_cells();\n",
       "                for (var i = 0; i < nbb_cells.length; ++i) {\n",
       "                    if (nbb_cells[i].input_prompt_number == nbb_cell_id) {\n",
       "                        if (nbb_cells[i].get_text() == nbb_unformatted_code) {\n",
       "                             nbb_cells[i].set_text(nbb_formatted_code);\n",
       "                        }\n",
       "                        break;\n",
       "                    }\n",
       "                }\n",
       "            }, 500);\n",
       "            "
      ],
      "text/plain": [
       "<IPython.core.display.Javascript object>"
      ]
     },
     "metadata": {},
     "output_type": "display_data"
    }
   ],
   "source": [
    "# # Code to check each specific value\n",
    "# specific_roles_list.pop()"
   ]
  },
  {
   "cell_type": "code",
   "execution_count": 21,
   "id": "79a50837",
   "metadata": {},
   "outputs": [
    {
     "data": {
      "application/javascript": [
       "\n",
       "            setTimeout(function() {\n",
       "                var nbb_cell_id = 21;\n",
       "                var nbb_unformatted_code = \"# # Example code to quick-screen values that may overlap categories\\n# df.loc[[index for index in df.index if \\\"houngan\\\" in df.loc[index, \\\"info\\\"]]]\";\n",
       "                var nbb_formatted_code = \"# # Example code to quick-screen values that may overlap categories\\n# df.loc[[index for index in df.index if \\\"houngan\\\" in df.loc[index, \\\"info\\\"]]]\";\n",
       "                var nbb_cells = Jupyter.notebook.get_cells();\n",
       "                for (var i = 0; i < nbb_cells.length; ++i) {\n",
       "                    if (nbb_cells[i].input_prompt_number == nbb_cell_id) {\n",
       "                        if (nbb_cells[i].get_text() == nbb_unformatted_code) {\n",
       "                             nbb_cells[i].set_text(nbb_formatted_code);\n",
       "                        }\n",
       "                        break;\n",
       "                    }\n",
       "                }\n",
       "            }, 500);\n",
       "            "
      ],
      "text/plain": [
       "<IPython.core.display.Javascript object>"
      ]
     },
     "metadata": {},
     "output_type": "display_data"
    }
   ],
   "source": [
    "# # Example code to quick-screen values that may overlap categories\n",
    "# df.loc[[index for index in df.index if \"houngan\" in df.loc[index, \"info\"]]]"
   ]
  },
  {
   "cell_type": "code",
   "execution_count": 22,
   "id": "a98b3dba",
   "metadata": {},
   "outputs": [
    {
     "data": {
      "application/javascript": [
       "\n",
       "            setTimeout(function() {\n",
       "                var nbb_cell_id = 22;\n",
       "                var nbb_unformatted_code = \"# # Example code to quick-check a specific entry\\n# df[df[\\\"info_2\\\"] == \\\"chemist and astronaut candidate\\\"]\";\n",
       "                var nbb_formatted_code = \"# # Example code to quick-check a specific entry\\n# df[df[\\\"info_2\\\"] == \\\"chemist and astronaut candidate\\\"]\";\n",
       "                var nbb_cells = Jupyter.notebook.get_cells();\n",
       "                for (var i = 0; i < nbb_cells.length; ++i) {\n",
       "                    if (nbb_cells[i].input_prompt_number == nbb_cell_id) {\n",
       "                        if (nbb_cells[i].get_text() == nbb_unformatted_code) {\n",
       "                             nbb_cells[i].set_text(nbb_formatted_code);\n",
       "                        }\n",
       "                        break;\n",
       "                    }\n",
       "                }\n",
       "            }, 500);\n",
       "            "
      ],
      "text/plain": [
       "<IPython.core.display.Javascript object>"
      ]
     },
     "metadata": {},
     "output_type": "display_data"
    }
   ],
   "source": [
    "# # Example code to quick-check a specific entry\n",
    "# df[df[\"info_2\"] == \"chemist and astronaut candidate\"]"
   ]
  },
  {
   "cell_type": "markdown",
   "id": "d80c80ab",
   "metadata": {},
   "source": [
    "#### Creating Lists for Each `known_for` Category"
   ]
  },
  {
   "cell_type": "code",
   "execution_count": 23,
   "id": "d398163b",
   "metadata": {},
   "outputs": [
    {
     "data": {
      "application/javascript": [
       "\n",
       "            setTimeout(function() {\n",
       "                var nbb_cell_id = 23;\n",
       "                var nbb_unformatted_code = \"# Creating lists for each category\\npolitics_govt_law = []\\n\\narts = []\\nsports = []\\nsciences = [\\n    \\\"theoretical chemist and Nobel Prize winner\\\",\\n    \\\"biochemist and molecular genetics pioneer\\\",\\n    \\\"native chemist\\\",\\n    \\\"biochemist and reproductive endocrinologist\\\",\\n    \\\"chemist and a winner of the Nobel Prize in Physics in\\\",\\n    \\\"chemist and Nobel Prize Laureate\\\",\\n    \\\"Nobel Prize winner in chemistry\\\",\\n    \\\"chemist and biologist\\\",\\n    \\\"biochemist and microbiologist\\\",\\n    \\\"nutritionist and biochemist\\\",\\n    \\\"neuroscience biochemist\\\",\\n    \\\"quantum chemist\\\",\\n    \\\"research chemist\\\",\\n    \\\"theoretical chemist and computer scientist\\\",\\n    \\\"research chemist and inventor\\\",\\n    \\\"chemist known for his work on the Manhattan Project\\\",\\n    \\\"biochemist and enzymologist\\\",\\n    \\\"scientist in the field of electrochemistry\\\",\\n    \\\"physical chemist at AT&T Bell Laboratories\\\",\\n    \\\"biochemist and Nobel Prize for Chemistry laureate\\\",\\n    \\\"industrial chemist best known for his work on polymers\\\",\\n    \\\"neurochemist and glycobiologist\\\",\\n    \\\"biochemist and virologist\\\",\\n    \\\"biochemist and recipient of the Nobel Prize in Physiology or Medicine\\\",\\n    \\\"physical and theoretical chemist\\\",\\n    \\\"chemist and mineralogist\\\",\\n    \\\"biochemist and cancer researcher\\\",\\n    \\\"biochemist and pharmacologist and recipient of the Nobel Prize in Physiology or Medicine\\\",\\n    \\\"nuclear chemist and recipient of the Nobel Prize in Chemistry\\\",\\n    \\\"chemist and co winner of Nobel Prize in Chemistry in\\\",\\n    \\\"botanist and chemist\\\",\\n    \\\"biochemist and protein crystallographer\\\",\\n    \\\"South wine chemist\\\",\\n    \\\"chemist and nuclear scientist\\\",\\n    \\\"oncologist and chemist\\\",\\n    \\\"chemist and science\\\",\\n    \\\"chemist and mass spectrometrist\\\",\\n    \\\"marine and freshwater chemist\\\",\\n    \\\"biochemist and molecular biologist\\\",\\n    \\\"protein chemist\\\",\\n    \\\"chemistry doctor\\\",\\n    \\\"Southern biochemist\\\",\\n    \\\"biochemist and developmental biologist\\\",\\n    \\\"biochemist and pharmacologist\\\",\\n    \\\"chemist and materials scientist\\\",\\n    \\\"biological chemist\\\",\\n    \\\"synthetic organic chemist\\\",\\n    \\\"atmospheric chemist\\\",\\n    \\\"chemist and researcher\\\",\\n    \\\"environmental chemist\\\",\\n    \\\"geochemist and planetary scientist\\\",\\n    \\\"physiologist and biochemist\\\",\\n    \\\"chemist and crystallographer\\\",\\n    \\\"scientist and agrochemist\\\",\\n    \\\"biochemist and physiologist\\\",\\n    \\\"biochemist and medical researcher\\\",\\n    \\\"textile chemist\\\",\\n    \\\"geologist and geochemist\\\",\\n    \\\"Congress chemist\\\",\\n    \\\"polymer chemist and inventor\\\",\\n    \\\"polymer chemist\\\",\\n    \\\"metallurgist and physical chemist\\\",\\n    \\\"chemist and astronaut candidate\\\",\\n    \\\"chemist and statistician\\\",\\n    \\\"cytologist and biochemist\\\",\\n    \\\"pharmacologist and biochemist\\\",\\n    \\\"natural product chemist\\\",\\n    \\\"chemist and Nobel laureate\\\",\\n    \\\"biochemist and Nobel Prize laureate\\\",\\n    \\\"biochemist and geneticist\\\",\\n    \\\"soil chemist and\\\",\\n    \\\"soil chemist\\\",\\n    \\\"biochemist and nutritionist\\\",\\n    \\\"pharmaceutical chemist\\\",\\n    \\\"Nobel Prize winning biochemist\\\",\\n    \\\"pharmacologist and chemist\\\",\\n    \\\"chemist and Nobel Prize laureate\\\",\\n    \\\"chemist and inventor\\\",\\n    \\\"biophysical chemist\\\",\\n    \\\"analytical chemist\\\",\\n    \\\"nuclear chemist\\\",\\n    \\\"electrochemist\\\",\\n    \\\"theoretical chemist\\\",\\n    \\\"inorganic chemist\\\",\\n    \\\"Nobel Prize winning chemist\\\",\\n    \\\"geochemist and\\\",\\n    \\\"geochemist\\\",\\n    \\\"physical chemist\\\",\\n    \\\"of organic chemistry and a\\\",\\n    \\\"of organic chemistry\\\",\\n    \\\"organic chemist and\\\",\\n    \\\"organic chemist\\\",\\n    \\\"of biochemistry\\\",\\n    \\\"and biochemist\\\",\\n    \\\"biochemist and\\\",\\n    \\\"biochemist\\\",\\n    \\\"of chemistry\\\",\\n    \\\"chemistry\\\",\\n    \\\"food chemist and\\\",\\n    \\\"chemist and\\\",\\n    \\\"and chemist\\\",\\n    \\\"chemist\\\",\\n]\\n\\nbusiness_farming = []\\nacademia_humanities = [\\n    \\\"the first Rector Magnificus of the University of Twente\\\",\\n]\\nlaw_enf_military_operator = []\\nspiritual = [\\n    \\\"houngan\\\",\\n]\\nsocial = []\\ncrime = [\\n    \\\"underground LSD chemist and\\\",  # before sciences\\n]\\nevent_record_other = []\\nother_species = []\";\n",
       "                var nbb_formatted_code = \"# Creating lists for each category\\npolitics_govt_law = []\\n\\narts = []\\nsports = []\\nsciences = [\\n    \\\"theoretical chemist and Nobel Prize winner\\\",\\n    \\\"biochemist and molecular genetics pioneer\\\",\\n    \\\"native chemist\\\",\\n    \\\"biochemist and reproductive endocrinologist\\\",\\n    \\\"chemist and a winner of the Nobel Prize in Physics in\\\",\\n    \\\"chemist and Nobel Prize Laureate\\\",\\n    \\\"Nobel Prize winner in chemistry\\\",\\n    \\\"chemist and biologist\\\",\\n    \\\"biochemist and microbiologist\\\",\\n    \\\"nutritionist and biochemist\\\",\\n    \\\"neuroscience biochemist\\\",\\n    \\\"quantum chemist\\\",\\n    \\\"research chemist\\\",\\n    \\\"theoretical chemist and computer scientist\\\",\\n    \\\"research chemist and inventor\\\",\\n    \\\"chemist known for his work on the Manhattan Project\\\",\\n    \\\"biochemist and enzymologist\\\",\\n    \\\"scientist in the field of electrochemistry\\\",\\n    \\\"physical chemist at AT&T Bell Laboratories\\\",\\n    \\\"biochemist and Nobel Prize for Chemistry laureate\\\",\\n    \\\"industrial chemist best known for his work on polymers\\\",\\n    \\\"neurochemist and glycobiologist\\\",\\n    \\\"biochemist and virologist\\\",\\n    \\\"biochemist and recipient of the Nobel Prize in Physiology or Medicine\\\",\\n    \\\"physical and theoretical chemist\\\",\\n    \\\"chemist and mineralogist\\\",\\n    \\\"biochemist and cancer researcher\\\",\\n    \\\"biochemist and pharmacologist and recipient of the Nobel Prize in Physiology or Medicine\\\",\\n    \\\"nuclear chemist and recipient of the Nobel Prize in Chemistry\\\",\\n    \\\"chemist and co winner of Nobel Prize in Chemistry in\\\",\\n    \\\"botanist and chemist\\\",\\n    \\\"biochemist and protein crystallographer\\\",\\n    \\\"South wine chemist\\\",\\n    \\\"chemist and nuclear scientist\\\",\\n    \\\"oncologist and chemist\\\",\\n    \\\"chemist and science\\\",\\n    \\\"chemist and mass spectrometrist\\\",\\n    \\\"marine and freshwater chemist\\\",\\n    \\\"biochemist and molecular biologist\\\",\\n    \\\"protein chemist\\\",\\n    \\\"chemistry doctor\\\",\\n    \\\"Southern biochemist\\\",\\n    \\\"biochemist and developmental biologist\\\",\\n    \\\"biochemist and pharmacologist\\\",\\n    \\\"chemist and materials scientist\\\",\\n    \\\"biological chemist\\\",\\n    \\\"synthetic organic chemist\\\",\\n    \\\"atmospheric chemist\\\",\\n    \\\"chemist and researcher\\\",\\n    \\\"environmental chemist\\\",\\n    \\\"geochemist and planetary scientist\\\",\\n    \\\"physiologist and biochemist\\\",\\n    \\\"chemist and crystallographer\\\",\\n    \\\"scientist and agrochemist\\\",\\n    \\\"biochemist and physiologist\\\",\\n    \\\"biochemist and medical researcher\\\",\\n    \\\"textile chemist\\\",\\n    \\\"geologist and geochemist\\\",\\n    \\\"Congress chemist\\\",\\n    \\\"polymer chemist and inventor\\\",\\n    \\\"polymer chemist\\\",\\n    \\\"metallurgist and physical chemist\\\",\\n    \\\"chemist and astronaut candidate\\\",\\n    \\\"chemist and statistician\\\",\\n    \\\"cytologist and biochemist\\\",\\n    \\\"pharmacologist and biochemist\\\",\\n    \\\"natural product chemist\\\",\\n    \\\"chemist and Nobel laureate\\\",\\n    \\\"biochemist and Nobel Prize laureate\\\",\\n    \\\"biochemist and geneticist\\\",\\n    \\\"soil chemist and\\\",\\n    \\\"soil chemist\\\",\\n    \\\"biochemist and nutritionist\\\",\\n    \\\"pharmaceutical chemist\\\",\\n    \\\"Nobel Prize winning biochemist\\\",\\n    \\\"pharmacologist and chemist\\\",\\n    \\\"chemist and Nobel Prize laureate\\\",\\n    \\\"chemist and inventor\\\",\\n    \\\"biophysical chemist\\\",\\n    \\\"analytical chemist\\\",\\n    \\\"nuclear chemist\\\",\\n    \\\"electrochemist\\\",\\n    \\\"theoretical chemist\\\",\\n    \\\"inorganic chemist\\\",\\n    \\\"Nobel Prize winning chemist\\\",\\n    \\\"geochemist and\\\",\\n    \\\"geochemist\\\",\\n    \\\"physical chemist\\\",\\n    \\\"of organic chemistry and a\\\",\\n    \\\"of organic chemistry\\\",\\n    \\\"organic chemist and\\\",\\n    \\\"organic chemist\\\",\\n    \\\"of biochemistry\\\",\\n    \\\"and biochemist\\\",\\n    \\\"biochemist and\\\",\\n    \\\"biochemist\\\",\\n    \\\"of chemistry\\\",\\n    \\\"chemistry\\\",\\n    \\\"food chemist and\\\",\\n    \\\"chemist and\\\",\\n    \\\"and chemist\\\",\\n    \\\"chemist\\\",\\n]\\n\\nbusiness_farming = []\\nacademia_humanities = [\\n    \\\"the first Rector Magnificus of the University of Twente\\\",\\n]\\nlaw_enf_military_operator = []\\nspiritual = [\\n    \\\"houngan\\\",\\n]\\nsocial = []\\ncrime = [\\n    \\\"underground LSD chemist and\\\",  # before sciences\\n]\\nevent_record_other = []\\nother_species = []\";\n",
       "                var nbb_cells = Jupyter.notebook.get_cells();\n",
       "                for (var i = 0; i < nbb_cells.length; ++i) {\n",
       "                    if (nbb_cells[i].input_prompt_number == nbb_cell_id) {\n",
       "                        if (nbb_cells[i].get_text() == nbb_unformatted_code) {\n",
       "                             nbb_cells[i].set_text(nbb_formatted_code);\n",
       "                        }\n",
       "                        break;\n",
       "                    }\n",
       "                }\n",
       "            }, 500);\n",
       "            "
      ],
      "text/plain": [
       "<IPython.core.display.Javascript object>"
      ]
     },
     "metadata": {},
     "output_type": "display_data"
    }
   ],
   "source": [
    "# Creating lists for each category\n",
    "politics_govt_law = []\n",
    "\n",
    "arts = []\n",
    "sports = []\n",
    "sciences = [\n",
    "    \"theoretical chemist and Nobel Prize winner\",\n",
    "    \"biochemist and molecular genetics pioneer\",\n",
    "    \"native chemist\",\n",
    "    \"biochemist and reproductive endocrinologist\",\n",
    "    \"chemist and a winner of the Nobel Prize in Physics in\",\n",
    "    \"chemist and Nobel Prize Laureate\",\n",
    "    \"Nobel Prize winner in chemistry\",\n",
    "    \"chemist and biologist\",\n",
    "    \"biochemist and microbiologist\",\n",
    "    \"nutritionist and biochemist\",\n",
    "    \"neuroscience biochemist\",\n",
    "    \"quantum chemist\",\n",
    "    \"research chemist\",\n",
    "    \"theoretical chemist and computer scientist\",\n",
    "    \"research chemist and inventor\",\n",
    "    \"chemist known for his work on the Manhattan Project\",\n",
    "    \"biochemist and enzymologist\",\n",
    "    \"scientist in the field of electrochemistry\",\n",
    "    \"physical chemist at AT&T Bell Laboratories\",\n",
    "    \"biochemist and Nobel Prize for Chemistry laureate\",\n",
    "    \"industrial chemist best known for his work on polymers\",\n",
    "    \"neurochemist and glycobiologist\",\n",
    "    \"biochemist and virologist\",\n",
    "    \"biochemist and recipient of the Nobel Prize in Physiology or Medicine\",\n",
    "    \"physical and theoretical chemist\",\n",
    "    \"chemist and mineralogist\",\n",
    "    \"biochemist and cancer researcher\",\n",
    "    \"biochemist and pharmacologist and recipient of the Nobel Prize in Physiology or Medicine\",\n",
    "    \"nuclear chemist and recipient of the Nobel Prize in Chemistry\",\n",
    "    \"chemist and co winner of Nobel Prize in Chemistry in\",\n",
    "    \"botanist and chemist\",\n",
    "    \"biochemist and protein crystallographer\",\n",
    "    \"South wine chemist\",\n",
    "    \"chemist and nuclear scientist\",\n",
    "    \"oncologist and chemist\",\n",
    "    \"chemist and science\",\n",
    "    \"chemist and mass spectrometrist\",\n",
    "    \"marine and freshwater chemist\",\n",
    "    \"biochemist and molecular biologist\",\n",
    "    \"protein chemist\",\n",
    "    \"chemistry doctor\",\n",
    "    \"Southern biochemist\",\n",
    "    \"biochemist and developmental biologist\",\n",
    "    \"biochemist and pharmacologist\",\n",
    "    \"chemist and materials scientist\",\n",
    "    \"biological chemist\",\n",
    "    \"synthetic organic chemist\",\n",
    "    \"atmospheric chemist\",\n",
    "    \"chemist and researcher\",\n",
    "    \"environmental chemist\",\n",
    "    \"geochemist and planetary scientist\",\n",
    "    \"physiologist and biochemist\",\n",
    "    \"chemist and crystallographer\",\n",
    "    \"scientist and agrochemist\",\n",
    "    \"biochemist and physiologist\",\n",
    "    \"biochemist and medical researcher\",\n",
    "    \"textile chemist\",\n",
    "    \"geologist and geochemist\",\n",
    "    \"Congress chemist\",\n",
    "    \"polymer chemist and inventor\",\n",
    "    \"polymer chemist\",\n",
    "    \"metallurgist and physical chemist\",\n",
    "    \"chemist and astronaut candidate\",\n",
    "    \"chemist and statistician\",\n",
    "    \"cytologist and biochemist\",\n",
    "    \"pharmacologist and biochemist\",\n",
    "    \"natural product chemist\",\n",
    "    \"chemist and Nobel laureate\",\n",
    "    \"biochemist and Nobel Prize laureate\",\n",
    "    \"biochemist and geneticist\",\n",
    "    \"soil chemist and\",\n",
    "    \"soil chemist\",\n",
    "    \"biochemist and nutritionist\",\n",
    "    \"pharmaceutical chemist\",\n",
    "    \"Nobel Prize winning biochemist\",\n",
    "    \"pharmacologist and chemist\",\n",
    "    \"chemist and Nobel Prize laureate\",\n",
    "    \"chemist and inventor\",\n",
    "    \"biophysical chemist\",\n",
    "    \"analytical chemist\",\n",
    "    \"nuclear chemist\",\n",
    "    \"electrochemist\",\n",
    "    \"theoretical chemist\",\n",
    "    \"inorganic chemist\",\n",
    "    \"Nobel Prize winning chemist\",\n",
    "    \"geochemist and\",\n",
    "    \"geochemist\",\n",
    "    \"physical chemist\",\n",
    "    \"of organic chemistry and a\",\n",
    "    \"of organic chemistry\",\n",
    "    \"organic chemist and\",\n",
    "    \"organic chemist\",\n",
    "    \"of biochemistry\",\n",
    "    \"and biochemist\",\n",
    "    \"biochemist and\",\n",
    "    \"biochemist\",\n",
    "    \"of chemistry\",\n",
    "    \"chemistry\",\n",
    "    \"food chemist and\",\n",
    "    \"chemist and\",\n",
    "    \"and chemist\",\n",
    "    \"chemist\",\n",
    "]\n",
    "\n",
    "business_farming = []\n",
    "academia_humanities = [\n",
    "    \"the first Rector Magnificus of the University of Twente\",\n",
    "]\n",
    "law_enf_military_operator = []\n",
    "spiritual = [\n",
    "    \"houngan\",\n",
    "]\n",
    "social = []\n",
    "crime = [\n",
    "    \"underground LSD chemist and\",  # before sciences\n",
    "]\n",
    "event_record_other = []\n",
    "other_species = []"
   ]
  },
  {
   "cell_type": "markdown",
   "id": "c313c467",
   "metadata": {},
   "source": [
    "#### Creating `known_for_dict` Dictionary of Category Keys and Specific Role Lists of Values"
   ]
  },
  {
   "cell_type": "code",
   "execution_count": 24,
   "id": "2bbf4381",
   "metadata": {},
   "outputs": [
    {
     "data": {
      "application/javascript": [
       "\n",
       "            setTimeout(function() {\n",
       "                var nbb_cell_id = 24;\n",
       "                var nbb_unformatted_code = \"# Combining separate lists into one dictionary\\nknown_for_dict = {\\n    \\\"social\\\": social,\\n    \\\"spiritual\\\": spiritual,\\n    \\\"academia_humanities\\\": academia_humanities,\\n    \\\"business_farming\\\": business_farming,\\n    \\\"politics_govt_law\\\": politics_govt_law,\\n    \\\"law_enf_military_operator\\\": law_enf_military_operator,\\n    \\\"crime\\\": crime,\\n    \\\"sciences\\\": sciences,\\n    \\\"event_record_other\\\": event_record_other,\\n    \\\"other_species\\\": other_species,\\n    \\\"arts\\\": arts,\\n    \\\"sports\\\": sports,\\n}\";\n",
       "                var nbb_formatted_code = \"# Combining separate lists into one dictionary\\nknown_for_dict = {\\n    \\\"social\\\": social,\\n    \\\"spiritual\\\": spiritual,\\n    \\\"academia_humanities\\\": academia_humanities,\\n    \\\"business_farming\\\": business_farming,\\n    \\\"politics_govt_law\\\": politics_govt_law,\\n    \\\"law_enf_military_operator\\\": law_enf_military_operator,\\n    \\\"crime\\\": crime,\\n    \\\"sciences\\\": sciences,\\n    \\\"event_record_other\\\": event_record_other,\\n    \\\"other_species\\\": other_species,\\n    \\\"arts\\\": arts,\\n    \\\"sports\\\": sports,\\n}\";\n",
       "                var nbb_cells = Jupyter.notebook.get_cells();\n",
       "                for (var i = 0; i < nbb_cells.length; ++i) {\n",
       "                    if (nbb_cells[i].input_prompt_number == nbb_cell_id) {\n",
       "                        if (nbb_cells[i].get_text() == nbb_unformatted_code) {\n",
       "                             nbb_cells[i].set_text(nbb_formatted_code);\n",
       "                        }\n",
       "                        break;\n",
       "                    }\n",
       "                }\n",
       "            }, 500);\n",
       "            "
      ],
      "text/plain": [
       "<IPython.core.display.Javascript object>"
      ]
     },
     "metadata": {},
     "output_type": "display_data"
    }
   ],
   "source": [
    "# Combining separate lists into one dictionary\n",
    "known_for_dict = {\n",
    "    \"social\": social,\n",
    "    \"spiritual\": spiritual,\n",
    "    \"academia_humanities\": academia_humanities,\n",
    "    \"business_farming\": business_farming,\n",
    "    \"politics_govt_law\": politics_govt_law,\n",
    "    \"law_enf_military_operator\": law_enf_military_operator,\n",
    "    \"crime\": crime,\n",
    "    \"sciences\": sciences,\n",
    "    \"event_record_other\": event_record_other,\n",
    "    \"other_species\": other_species,\n",
    "    \"arts\": arts,\n",
    "    \"sports\": sports,\n",
    "}"
   ]
  },
  {
   "cell_type": "markdown",
   "id": "bd6a787c",
   "metadata": {},
   "source": [
    "#### Extracting Category from `info_2`"
   ]
  },
  {
   "cell_type": "code",
   "execution_count": 25,
   "id": "91b39431",
   "metadata": {},
   "outputs": [
    {
     "name": "stdout",
     "output_type": "stream",
     "text": [
      "CPU times: total: 57.5 s\n",
      "Wall time: 57.6 s\n"
     ]
    },
    {
     "data": {
      "text/html": [
       "<div>\n",
       "<style scoped>\n",
       "    .dataframe tbody tr th:only-of-type {\n",
       "        vertical-align: middle;\n",
       "    }\n",
       "\n",
       "    .dataframe tbody tr th {\n",
       "        vertical-align: top;\n",
       "    }\n",
       "\n",
       "    .dataframe thead th {\n",
       "        text-align: right;\n",
       "    }\n",
       "</style>\n",
       "<table border=\"1\" class=\"dataframe\">\n",
       "  <thead>\n",
       "    <tr style=\"text-align: right;\">\n",
       "      <th></th>\n",
       "      <th>day</th>\n",
       "      <th>name</th>\n",
       "      <th>info</th>\n",
       "      <th>link</th>\n",
       "      <th>num_references</th>\n",
       "      <th>year</th>\n",
       "      <th>month</th>\n",
       "      <th>info_parenth</th>\n",
       "      <th>info_1</th>\n",
       "      <th>info_2</th>\n",
       "      <th>info_3</th>\n",
       "      <th>info_4</th>\n",
       "      <th>info_5</th>\n",
       "      <th>info_6</th>\n",
       "      <th>info_7</th>\n",
       "      <th>info_8</th>\n",
       "      <th>info_9</th>\n",
       "      <th>info_10</th>\n",
       "      <th>info_11</th>\n",
       "      <th>age</th>\n",
       "      <th>cause_of_death</th>\n",
       "      <th>place_1</th>\n",
       "      <th>place_2</th>\n",
       "      <th>info_parenth_copy</th>\n",
       "      <th>log_num_references</th>\n",
       "      <th>sciences</th>\n",
       "      <th>social</th>\n",
       "      <th>spiritual</th>\n",
       "      <th>academia_humanities</th>\n",
       "      <th>business_farming</th>\n",
       "      <th>arts</th>\n",
       "      <th>sports</th>\n",
       "      <th>law_enf_military_operator</th>\n",
       "      <th>politics_govt_law</th>\n",
       "      <th>crime</th>\n",
       "      <th>event_record_other</th>\n",
       "      <th>other_species</th>\n",
       "      <th>num_categories</th>\n",
       "    </tr>\n",
       "  </thead>\n",
       "  <tbody>\n",
       "    <tr>\n",
       "      <th>10678</th>\n",
       "      <td>4</td>\n",
       "      <td>Xie Xide</td>\n",
       "      <td>, 78, Chinese physicist.</td>\n",
       "      <td>https://en.wikipedia.org/wiki/Xie_Xide</td>\n",
       "      <td>9</td>\n",
       "      <td>2000</td>\n",
       "      <td>March</td>\n",
       "      <td>None</td>\n",
       "      <td>None</td>\n",
       "      <td></td>\n",
       "      <td>None</td>\n",
       "      <td>None</td>\n",
       "      <td>None</td>\n",
       "      <td>None</td>\n",
       "      <td>None</td>\n",
       "      <td>None</td>\n",
       "      <td>None</td>\n",
       "      <td>None</td>\n",
       "      <td>None</td>\n",
       "      <td>78.0</td>\n",
       "      <td>None</td>\n",
       "      <td>China, People's Republic of</td>\n",
       "      <td>None</td>\n",
       "      <td>None</td>\n",
       "      <td>2.302585</td>\n",
       "      <td>1</td>\n",
       "      <td>0</td>\n",
       "      <td>0</td>\n",
       "      <td>0</td>\n",
       "      <td>0</td>\n",
       "      <td>0</td>\n",
       "      <td>0</td>\n",
       "      <td>0</td>\n",
       "      <td>0</td>\n",
       "      <td>0</td>\n",
       "      <td>0</td>\n",
       "      <td>0</td>\n",
       "      <td>1</td>\n",
       "    </tr>\n",
       "    <tr>\n",
       "      <th>4748</th>\n",
       "      <td>23</td>\n",
       "      <td>Kurt Freund</td>\n",
       "      <td>, 82, Czech-Canadian physician and sexologist, suicide.</td>\n",
       "      <td>https://en.wikipedia.org/wiki/Kurt_Freund</td>\n",
       "      <td>19</td>\n",
       "      <td>1996</td>\n",
       "      <td>October</td>\n",
       "      <td>None</td>\n",
       "      <td>None</td>\n",
       "      <td></td>\n",
       "      <td>suicide</td>\n",
       "      <td>None</td>\n",
       "      <td>None</td>\n",
       "      <td>None</td>\n",
       "      <td>None</td>\n",
       "      <td>None</td>\n",
       "      <td>None</td>\n",
       "      <td>None</td>\n",
       "      <td>None</td>\n",
       "      <td>82.0</td>\n",
       "      <td>None</td>\n",
       "      <td>Czech Republic</td>\n",
       "      <td>Canada</td>\n",
       "      <td>None</td>\n",
       "      <td>2.995732</td>\n",
       "      <td>1</td>\n",
       "      <td>0</td>\n",
       "      <td>0</td>\n",
       "      <td>0</td>\n",
       "      <td>0</td>\n",
       "      <td>0</td>\n",
       "      <td>0</td>\n",
       "      <td>0</td>\n",
       "      <td>0</td>\n",
       "      <td>0</td>\n",
       "      <td>0</td>\n",
       "      <td>0</td>\n",
       "      <td>1</td>\n",
       "    </tr>\n",
       "  </tbody>\n",
       "</table>\n",
       "</div>"
      ],
      "text/plain": [
       "      day         name  \\\n",
       "10678   4     Xie Xide   \n",
       "4748   23  Kurt Freund   \n",
       "\n",
       "                                                          info  \\\n",
       "10678                                 , 78, Chinese physicist.   \n",
       "4748   , 82, Czech-Canadian physician and sexologist, suicide.   \n",
       "\n",
       "                                            link  num_references  year  \\\n",
       "10678     https://en.wikipedia.org/wiki/Xie_Xide               9  2000   \n",
       "4748   https://en.wikipedia.org/wiki/Kurt_Freund              19  1996   \n",
       "\n",
       "         month info_parenth info_1 info_2   info_3 info_4 info_5 info_6  \\\n",
       "10678    March         None   None            None   None   None   None   \n",
       "4748   October         None   None         suicide   None   None   None   \n",
       "\n",
       "      info_7 info_8 info_9 info_10 info_11   age cause_of_death  \\\n",
       "10678   None   None   None    None    None  78.0           None   \n",
       "4748    None   None   None    None    None  82.0           None   \n",
       "\n",
       "                           place_1 place_2 info_parenth_copy  \\\n",
       "10678  China, People's Republic of    None              None   \n",
       "4748                Czech Republic  Canada              None   \n",
       "\n",
       "       log_num_references  sciences  social  spiritual  academia_humanities  \\\n",
       "10678            2.302585         1       0          0                    0   \n",
       "4748             2.995732         1       0          0                    0   \n",
       "\n",
       "       business_farming  arts  sports  law_enf_military_operator  \\\n",
       "10678                 0     0       0                          0   \n",
       "4748                  0     0       0                          0   \n",
       "\n",
       "       politics_govt_law  crime  event_record_other  other_species  \\\n",
       "10678                  0      0                   0              0   \n",
       "4748                   0      0                   0              0   \n",
       "\n",
       "       num_categories  \n",
       "10678               1  \n",
       "4748                1  "
      ]
     },
     "execution_count": 25,
     "metadata": {},
     "output_type": "execute_result"
    },
    {
     "data": {
      "application/javascript": [
       "\n",
       "            setTimeout(function() {\n",
       "                var nbb_cell_id = 25;\n",
       "                var nbb_unformatted_code = \"%%time\\n\\n# Dictionary version\\nsearch_dict = known_for_dict\\n\\n# Column to check\\ncolumn = 'info_2'\\n\\n# Dataframe\\ndataframe = df[column].notna()\\n\\n# For loop to find role in column and extract it as category\\nfor category, category_lst in search_dict.items():\\n    for role in category_lst:\\n        for index in dataframe.index:\\n            item = df.loc[index, column]\\n            if item:\\n                if role in item:\\n                    df.loc[index, category] = 1\\n                    df.loc[index, column] = item.replace(role, '').strip()\\n\\n# Updating num_categories\\ndf[\\\"num_categories\\\"] = df[known_for_dict.keys()].sum(axis=1)\\n\\n# Checking a sample of rows\\ndf[df['sciences'] ==1].sample(2)\";\n",
       "                var nbb_formatted_code = \"%%time\\n\\n# Dictionary version\\nsearch_dict = known_for_dict\\n\\n# Column to check\\ncolumn = 'info_2'\\n\\n# Dataframe\\ndataframe = df[column].notna()\\n\\n# For loop to find role in column and extract it as category\\nfor category, category_lst in search_dict.items():\\n    for role in category_lst:\\n        for index in dataframe.index:\\n            item = df.loc[index, column]\\n            if item:\\n                if role in item:\\n                    df.loc[index, category] = 1\\n                    df.loc[index, column] = item.replace(role, '').strip()\\n\\n# Updating num_categories\\ndf[\\\"num_categories\\\"] = df[known_for_dict.keys()].sum(axis=1)\\n\\n# Checking a sample of rows\\ndf[df['sciences'] ==1].sample(2)\";\n",
       "                var nbb_cells = Jupyter.notebook.get_cells();\n",
       "                for (var i = 0; i < nbb_cells.length; ++i) {\n",
       "                    if (nbb_cells[i].input_prompt_number == nbb_cell_id) {\n",
       "                        if (nbb_cells[i].get_text() == nbb_unformatted_code) {\n",
       "                             nbb_cells[i].set_text(nbb_formatted_code);\n",
       "                        }\n",
       "                        break;\n",
       "                    }\n",
       "                }\n",
       "            }, 500);\n",
       "            "
      ],
      "text/plain": [
       "<IPython.core.display.Javascript object>"
      ]
     },
     "metadata": {},
     "output_type": "display_data"
    }
   ],
   "source": [
    "%%time\n",
    "\n",
    "# Dictionary version\n",
    "search_dict = known_for_dict\n",
    "\n",
    "# Column to check\n",
    "column = 'info_2'\n",
    "\n",
    "# Dataframe\n",
    "dataframe = df[column].notna()\n",
    "\n",
    "# For loop to find role in column and extract it as category\n",
    "for category, category_lst in search_dict.items():\n",
    "    for role in category_lst:\n",
    "        for index in dataframe.index:\n",
    "            item = df.loc[index, column]\n",
    "            if item:\n",
    "                if role in item:\n",
    "                    df.loc[index, category] = 1\n",
    "                    df.loc[index, column] = item.replace(role, '').strip()\n",
    "\n",
    "# Updating num_categories\n",
    "df[\"num_categories\"] = df[known_for_dict.keys()].sum(axis=1)\n",
    "\n",
    "# Checking a sample of rows\n",
    "df[df['sciences'] ==1].sample(2)"
   ]
  },
  {
   "cell_type": "markdown",
   "id": "6f2adf66",
   "metadata": {},
   "source": [
    "#### Checking the Number of Rows without a First Category"
   ]
  },
  {
   "cell_type": "code",
   "execution_count": 26,
   "id": "7644f2f5",
   "metadata": {},
   "outputs": [
    {
     "name": "stdout",
     "output_type": "stream",
     "text": [
      "There are 37258 entries without any known_for category.\n"
     ]
    },
    {
     "data": {
      "application/javascript": [
       "\n",
       "            setTimeout(function() {\n",
       "                var nbb_cell_id = 26;\n",
       "                var nbb_unformatted_code = \"# Checking the number of rows without a first category\\nprint(\\n    f'There are {len(df[df[\\\"num_categories\\\"]==0])} entries without any known_for category.'\\n)\";\n",
       "                var nbb_formatted_code = \"# Checking the number of rows without a first category\\nprint(\\n    f'There are {len(df[df[\\\"num_categories\\\"]==0])} entries without any known_for category.'\\n)\";\n",
       "                var nbb_cells = Jupyter.notebook.get_cells();\n",
       "                for (var i = 0; i < nbb_cells.length; ++i) {\n",
       "                    if (nbb_cells[i].input_prompt_number == nbb_cell_id) {\n",
       "                        if (nbb_cells[i].get_text() == nbb_unformatted_code) {\n",
       "                             nbb_cells[i].set_text(nbb_formatted_code);\n",
       "                        }\n",
       "                        break;\n",
       "                    }\n",
       "                }\n",
       "            }, 500);\n",
       "            "
      ],
      "text/plain": [
       "<IPython.core.display.Javascript object>"
      ]
     },
     "metadata": {},
     "output_type": "display_data"
    }
   ],
   "source": [
    "# Checking the number of rows without a first category\n",
    "print(\n",
    "    f'There are {len(df[df[\"num_categories\"]==0])} entries without any known_for category.'\n",
    ")"
   ]
  },
  {
   "cell_type": "markdown",
   "id": "025d12f9",
   "metadata": {},
   "source": [
    "#### Observations:\n",
    "- We will proceed to rebuild `known_for_dict` for the next iteration."
   ]
  },
  {
   "cell_type": "markdown",
   "id": "5ababb44",
   "metadata": {},
   "source": [
    "#### Finding `known_for` Roles in `info_2`"
   ]
  },
  {
   "cell_type": "code",
   "execution_count": 27,
   "id": "39131a27",
   "metadata": {},
   "outputs": [
    {
     "data": {
      "application/javascript": [
       "\n",
       "            setTimeout(function() {\n",
       "                var nbb_cell_id = 27;\n",
       "                var nbb_unformatted_code = \"# Obtaining values for column and their counts\\nroles_list = df[\\\"info_2\\\"].value_counts(ascending=True).index.tolist()\";\n",
       "                var nbb_formatted_code = \"# Obtaining values for column and their counts\\nroles_list = df[\\\"info_2\\\"].value_counts(ascending=True).index.tolist()\";\n",
       "                var nbb_cells = Jupyter.notebook.get_cells();\n",
       "                for (var i = 0; i < nbb_cells.length; ++i) {\n",
       "                    if (nbb_cells[i].input_prompt_number == nbb_cell_id) {\n",
       "                        if (nbb_cells[i].get_text() == nbb_unformatted_code) {\n",
       "                             nbb_cells[i].set_text(nbb_formatted_code);\n",
       "                        }\n",
       "                        break;\n",
       "                    }\n",
       "                }\n",
       "            }, 500);\n",
       "            "
      ],
      "text/plain": [
       "<IPython.core.display.Javascript object>"
      ]
     },
     "metadata": {},
     "output_type": "display_data"
    }
   ],
   "source": [
    "# Obtaining values for column and their counts\n",
    "roles_list = df[\"info_2\"].value_counts(ascending=True).index.tolist()"
   ]
  },
  {
   "cell_type": "code",
   "execution_count": 28,
   "id": "202384ee",
   "metadata": {},
   "outputs": [
    {
     "data": {
      "application/javascript": [
       "\n",
       "            setTimeout(function() {\n",
       "                var nbb_cell_id = 28;\n",
       "                var nbb_unformatted_code = \"# # Code to check each value\\n# roles_list.pop()\";\n",
       "                var nbb_formatted_code = \"# # Code to check each value\\n# roles_list.pop()\";\n",
       "                var nbb_cells = Jupyter.notebook.get_cells();\n",
       "                for (var i = 0; i < nbb_cells.length; ++i) {\n",
       "                    if (nbb_cells[i].input_prompt_number == nbb_cell_id) {\n",
       "                        if (nbb_cells[i].get_text() == nbb_unformatted_code) {\n",
       "                             nbb_cells[i].set_text(nbb_formatted_code);\n",
       "                        }\n",
       "                        break;\n",
       "                    }\n",
       "                }\n",
       "            }, 500);\n",
       "            "
      ],
      "text/plain": [
       "<IPython.core.display.Javascript object>"
      ]
     },
     "metadata": {},
     "output_type": "display_data"
    }
   ],
   "source": [
    "# # Code to check each value\n",
    "# roles_list.pop()"
   ]
  },
  {
   "cell_type": "code",
   "execution_count": 29,
   "id": "e3821417",
   "metadata": {},
   "outputs": [
    {
     "data": {
      "application/javascript": [
       "\n",
       "            setTimeout(function() {\n",
       "                var nbb_cell_id = 29;\n",
       "                var nbb_unformatted_code = \"# # Create specific_roles_list for above popped value\\n# specific_roles_list = (\\n#     df.loc[\\n#         [index for index in df.index if \\\"rugby union player\\\" in df.loc[index, \\\"info\\\"]],\\n#         \\\"info_2\\\",\\n#     ]\\n#     .value_counts()\\n#     .index.tolist()\\n# )\";\n",
       "                var nbb_formatted_code = \"# # Create specific_roles_list for above popped value\\n# specific_roles_list = (\\n#     df.loc[\\n#         [index for index in df.index if \\\"rugby union player\\\" in df.loc[index, \\\"info\\\"]],\\n#         \\\"info_2\\\",\\n#     ]\\n#     .value_counts()\\n#     .index.tolist()\\n# )\";\n",
       "                var nbb_cells = Jupyter.notebook.get_cells();\n",
       "                for (var i = 0; i < nbb_cells.length; ++i) {\n",
       "                    if (nbb_cells[i].input_prompt_number == nbb_cell_id) {\n",
       "                        if (nbb_cells[i].get_text() == nbb_unformatted_code) {\n",
       "                             nbb_cells[i].set_text(nbb_formatted_code);\n",
       "                        }\n",
       "                        break;\n",
       "                    }\n",
       "                }\n",
       "            }, 500);\n",
       "            "
      ],
      "text/plain": [
       "<IPython.core.display.Javascript object>"
      ]
     },
     "metadata": {},
     "output_type": "display_data"
    }
   ],
   "source": [
    "# # Create specific_roles_list for above popped value\n",
    "# specific_roles_list = (\n",
    "#     df.loc[\n",
    "#         [index for index in df.index if \"rugby union player\" in df.loc[index, \"info\"]],\n",
    "#         \"info_2\",\n",
    "#     ]\n",
    "#     .value_counts()\n",
    "#     .index.tolist()\n",
    "# )"
   ]
  },
  {
   "cell_type": "code",
   "execution_count": 30,
   "id": "a03ad3f8",
   "metadata": {},
   "outputs": [
    {
     "data": {
      "application/javascript": [
       "\n",
       "            setTimeout(function() {\n",
       "                var nbb_cell_id = 30;\n",
       "                var nbb_unformatted_code = \"# # Code to check each specific value\\n# specific_roles_list.pop()\";\n",
       "                var nbb_formatted_code = \"# # Code to check each specific value\\n# specific_roles_list.pop()\";\n",
       "                var nbb_cells = Jupyter.notebook.get_cells();\n",
       "                for (var i = 0; i < nbb_cells.length; ++i) {\n",
       "                    if (nbb_cells[i].input_prompt_number == nbb_cell_id) {\n",
       "                        if (nbb_cells[i].get_text() == nbb_unformatted_code) {\n",
       "                             nbb_cells[i].set_text(nbb_formatted_code);\n",
       "                        }\n",
       "                        break;\n",
       "                    }\n",
       "                }\n",
       "            }, 500);\n",
       "            "
      ],
      "text/plain": [
       "<IPython.core.display.Javascript object>"
      ]
     },
     "metadata": {},
     "output_type": "display_data"
    }
   ],
   "source": [
    "# # Code to check each specific value\n",
    "# specific_roles_list.pop()"
   ]
  },
  {
   "cell_type": "code",
   "execution_count": 31,
   "id": "66949109",
   "metadata": {},
   "outputs": [
    {
     "data": {
      "application/javascript": [
       "\n",
       "            setTimeout(function() {\n",
       "                var nbb_cell_id = 31;\n",
       "                var nbb_unformatted_code = \"# # Example code to quick-screen values that may overlap categories\\n# df.loc[\\n#     [\\n#         index\\n#         for index in df.index\\n#         if \\\"rugby union player and administrator\\\" in df.loc[index, \\\"info\\\"]\\n#     ]\\n# ]\";\n",
       "                var nbb_formatted_code = \"# # Example code to quick-screen values that may overlap categories\\n# df.loc[\\n#     [\\n#         index\\n#         for index in df.index\\n#         if \\\"rugby union player and administrator\\\" in df.loc[index, \\\"info\\\"]\\n#     ]\\n# ]\";\n",
       "                var nbb_cells = Jupyter.notebook.get_cells();\n",
       "                for (var i = 0; i < nbb_cells.length; ++i) {\n",
       "                    if (nbb_cells[i].input_prompt_number == nbb_cell_id) {\n",
       "                        if (nbb_cells[i].get_text() == nbb_unformatted_code) {\n",
       "                             nbb_cells[i].set_text(nbb_formatted_code);\n",
       "                        }\n",
       "                        break;\n",
       "                    }\n",
       "                }\n",
       "            }, 500);\n",
       "            "
      ],
      "text/plain": [
       "<IPython.core.display.Javascript object>"
      ]
     },
     "metadata": {},
     "output_type": "display_data"
    }
   ],
   "source": [
    "# # Example code to quick-screen values that may overlap categories\n",
    "# df.loc[\n",
    "#     [\n",
    "#         index\n",
    "#         for index in df.index\n",
    "#         if \"rugby union player and administrator\" in df.loc[index, \"info\"]\n",
    "#     ]\n",
    "# ]"
   ]
  },
  {
   "cell_type": "code",
   "execution_count": 32,
   "id": "77084833",
   "metadata": {},
   "outputs": [
    {
     "data": {
      "application/javascript": [
       "\n",
       "            setTimeout(function() {\n",
       "                var nbb_cell_id = 32;\n",
       "                var nbb_unformatted_code = \"# # Example code to quick-screen values that may overlap categories\\n# df.loc[\\n#     [\\n#         index\\n#         for index in df.index\\n#         if \\\"outlaw country music singer songwriter\\\" in df.loc[index, \\\"info\\\"]\\n#     ]\\n# ]\";\n",
       "                var nbb_formatted_code = \"# # Example code to quick-screen values that may overlap categories\\n# df.loc[\\n#     [\\n#         index\\n#         for index in df.index\\n#         if \\\"outlaw country music singer songwriter\\\" in df.loc[index, \\\"info\\\"]\\n#     ]\\n# ]\";\n",
       "                var nbb_cells = Jupyter.notebook.get_cells();\n",
       "                for (var i = 0; i < nbb_cells.length; ++i) {\n",
       "                    if (nbb_cells[i].input_prompt_number == nbb_cell_id) {\n",
       "                        if (nbb_cells[i].get_text() == nbb_unformatted_code) {\n",
       "                             nbb_cells[i].set_text(nbb_formatted_code);\n",
       "                        }\n",
       "                        break;\n",
       "                    }\n",
       "                }\n",
       "            }, 500);\n",
       "            "
      ],
      "text/plain": [
       "<IPython.core.display.Javascript object>"
      ]
     },
     "metadata": {},
     "output_type": "display_data"
    }
   ],
   "source": [
    "# # Example code to quick-screen values that may overlap categories\n",
    "# df.loc[\n",
    "#     [\n",
    "#         index\n",
    "#         for index in df.index\n",
    "#         if \"outlaw country music singer songwriter\" in df.loc[index, \"info\"]\n",
    "#     ]\n",
    "# ]"
   ]
  },
  {
   "cell_type": "code",
   "execution_count": 33,
   "id": "35bf8b66",
   "metadata": {},
   "outputs": [
    {
     "data": {
      "application/javascript": [
       "\n",
       "            setTimeout(function() {\n",
       "                var nbb_cell_id = 33;\n",
       "                var nbb_unformatted_code = \"# # Example code to quick-check a specific entry\\n# df[df[\\\"info_2\\\"] == \\\"rugby union player and administrator\\\"]\";\n",
       "                var nbb_formatted_code = \"# # Example code to quick-check a specific entry\\n# df[df[\\\"info_2\\\"] == \\\"rugby union player and administrator\\\"]\";\n",
       "                var nbb_cells = Jupyter.notebook.get_cells();\n",
       "                for (var i = 0; i < nbb_cells.length; ++i) {\n",
       "                    if (nbb_cells[i].input_prompt_number == nbb_cell_id) {\n",
       "                        if (nbb_cells[i].get_text() == nbb_unformatted_code) {\n",
       "                             nbb_cells[i].set_text(nbb_formatted_code);\n",
       "                        }\n",
       "                        break;\n",
       "                    }\n",
       "                }\n",
       "            }, 500);\n",
       "            "
      ],
      "text/plain": [
       "<IPython.core.display.Javascript object>"
      ]
     },
     "metadata": {},
     "output_type": "display_data"
    }
   ],
   "source": [
    "# # Example code to quick-check a specific entry\n",
    "# df[df[\"info_2\"] == \"rugby union player and administrator\"]"
   ]
  },
  {
   "cell_type": "markdown",
   "id": "ff635f9a",
   "metadata": {},
   "source": [
    "#### Creating Lists for Each `known_for` Category"
   ]
  },
  {
   "cell_type": "code",
   "execution_count": 34,
   "id": "c6a693a2",
   "metadata": {},
   "outputs": [
    {
     "data": {
      "application/javascript": [
       "\n",
       "            setTimeout(function() {\n",
       "                var nbb_cell_id = 34;\n",
       "                var nbb_unformatted_code = \"# Creating lists for each category\\npolitics_govt_law = []\\n\\narts = []\\nsports = [\\n    \\\"rugby union player and World War II fighter\\\",\\n    \\\"rugby union player and TV\\\",\\n    \\\"former rugby union player for and Neath RFC\\\",\\n    \\\"All Blacks rugby union player\\\",\\n    \\\"rugby league and rugby union player\\\",\\n    \\\"rugby union player and president of the Rugby Union\\\",\\n    \\\"rugby union player and national team captain\\\",\\n    \\\"boxer and rugby union player\\\",\\n    \\\"Hall of Fame rugby union player and coach\\\",\\n    \\\"rugby union player and selector\\\",\\n    \\\"rugby union player and manager\\\",\\n    \\\"rugby union player and administrator\\\",\\n    \\\"rugby union player and coach\\\",\\n    \\\"international rugby union player\\\",\\n    \\\"rugby union player for\\\",\\n    \\\"rugby union player and\\\",\\n    \\\"and rugby union player\\\",\\n    \\\"rugby union player\\\",\\n]\\nsciences = []\\n\\nbusiness_farming = []\\nacademia_humanities = []\\nlaw_enf_military_operator = []\\nspiritual = []\\nsocial = []\\ncrime = []\\nevent_record_other = []\\nother_species = []\";\n",
       "                var nbb_formatted_code = \"# Creating lists for each category\\npolitics_govt_law = []\\n\\narts = []\\nsports = [\\n    \\\"rugby union player and World War II fighter\\\",\\n    \\\"rugby union player and TV\\\",\\n    \\\"former rugby union player for and Neath RFC\\\",\\n    \\\"All Blacks rugby union player\\\",\\n    \\\"rugby league and rugby union player\\\",\\n    \\\"rugby union player and president of the Rugby Union\\\",\\n    \\\"rugby union player and national team captain\\\",\\n    \\\"boxer and rugby union player\\\",\\n    \\\"Hall of Fame rugby union player and coach\\\",\\n    \\\"rugby union player and selector\\\",\\n    \\\"rugby union player and manager\\\",\\n    \\\"rugby union player and administrator\\\",\\n    \\\"rugby union player and coach\\\",\\n    \\\"international rugby union player\\\",\\n    \\\"rugby union player for\\\",\\n    \\\"rugby union player and\\\",\\n    \\\"and rugby union player\\\",\\n    \\\"rugby union player\\\",\\n]\\nsciences = []\\n\\nbusiness_farming = []\\nacademia_humanities = []\\nlaw_enf_military_operator = []\\nspiritual = []\\nsocial = []\\ncrime = []\\nevent_record_other = []\\nother_species = []\";\n",
       "                var nbb_cells = Jupyter.notebook.get_cells();\n",
       "                for (var i = 0; i < nbb_cells.length; ++i) {\n",
       "                    if (nbb_cells[i].input_prompt_number == nbb_cell_id) {\n",
       "                        if (nbb_cells[i].get_text() == nbb_unformatted_code) {\n",
       "                             nbb_cells[i].set_text(nbb_formatted_code);\n",
       "                        }\n",
       "                        break;\n",
       "                    }\n",
       "                }\n",
       "            }, 500);\n",
       "            "
      ],
      "text/plain": [
       "<IPython.core.display.Javascript object>"
      ]
     },
     "metadata": {},
     "output_type": "display_data"
    }
   ],
   "source": [
    "# Creating lists for each category\n",
    "politics_govt_law = []\n",
    "\n",
    "arts = []\n",
    "sports = [\n",
    "    \"rugby union player and World War II fighter\",\n",
    "    \"rugby union player and TV\",\n",
    "    \"former rugby union player for and Neath RFC\",\n",
    "    \"All Blacks rugby union player\",\n",
    "    \"rugby league and rugby union player\",\n",
    "    \"rugby union player and president of the Rugby Union\",\n",
    "    \"rugby union player and national team captain\",\n",
    "    \"boxer and rugby union player\",\n",
    "    \"Hall of Fame rugby union player and coach\",\n",
    "    \"rugby union player and selector\",\n",
    "    \"rugby union player and manager\",\n",
    "    \"rugby union player and administrator\",\n",
    "    \"rugby union player and coach\",\n",
    "    \"international rugby union player\",\n",
    "    \"rugby union player for\",\n",
    "    \"rugby union player and\",\n",
    "    \"and rugby union player\",\n",
    "    \"rugby union player\",\n",
    "]\n",
    "sciences = []\n",
    "\n",
    "business_farming = []\n",
    "academia_humanities = []\n",
    "law_enf_military_operator = []\n",
    "spiritual = []\n",
    "social = []\n",
    "crime = []\n",
    "event_record_other = []\n",
    "other_species = []"
   ]
  },
  {
   "cell_type": "markdown",
   "id": "981d2dbe",
   "metadata": {},
   "source": [
    "#### Creating `known_for_dict` Dictionary of Category Keys and Specific Role Lists of Values"
   ]
  },
  {
   "cell_type": "code",
   "execution_count": 35,
   "id": "aa6be6a7",
   "metadata": {},
   "outputs": [
    {
     "data": {
      "application/javascript": [
       "\n",
       "            setTimeout(function() {\n",
       "                var nbb_cell_id = 35;\n",
       "                var nbb_unformatted_code = \"# Combining separate lists into one dictionary\\nknown_for_dict = {\\n    \\\"social\\\": social,\\n    \\\"spiritual\\\": spiritual,\\n    \\\"academia_humanities\\\": academia_humanities,\\n    \\\"business_farming\\\": business_farming,\\n    \\\"sciences\\\": sciences,\\n    \\\"politics_govt_law\\\": politics_govt_law,\\n    \\\"law_enf_military_operator\\\": law_enf_military_operator,\\n    \\\"crime\\\": crime,\\n    \\\"event_record_other\\\": event_record_other,\\n    \\\"other_species\\\": other_species,\\n    \\\"arts\\\": arts,\\n    \\\"sports\\\": sports,\\n}\";\n",
       "                var nbb_formatted_code = \"# Combining separate lists into one dictionary\\nknown_for_dict = {\\n    \\\"social\\\": social,\\n    \\\"spiritual\\\": spiritual,\\n    \\\"academia_humanities\\\": academia_humanities,\\n    \\\"business_farming\\\": business_farming,\\n    \\\"sciences\\\": sciences,\\n    \\\"politics_govt_law\\\": politics_govt_law,\\n    \\\"law_enf_military_operator\\\": law_enf_military_operator,\\n    \\\"crime\\\": crime,\\n    \\\"event_record_other\\\": event_record_other,\\n    \\\"other_species\\\": other_species,\\n    \\\"arts\\\": arts,\\n    \\\"sports\\\": sports,\\n}\";\n",
       "                var nbb_cells = Jupyter.notebook.get_cells();\n",
       "                for (var i = 0; i < nbb_cells.length; ++i) {\n",
       "                    if (nbb_cells[i].input_prompt_number == nbb_cell_id) {\n",
       "                        if (nbb_cells[i].get_text() == nbb_unformatted_code) {\n",
       "                             nbb_cells[i].set_text(nbb_formatted_code);\n",
       "                        }\n",
       "                        break;\n",
       "                    }\n",
       "                }\n",
       "            }, 500);\n",
       "            "
      ],
      "text/plain": [
       "<IPython.core.display.Javascript object>"
      ]
     },
     "metadata": {},
     "output_type": "display_data"
    }
   ],
   "source": [
    "# Combining separate lists into one dictionary\n",
    "known_for_dict = {\n",
    "    \"social\": social,\n",
    "    \"spiritual\": spiritual,\n",
    "    \"academia_humanities\": academia_humanities,\n",
    "    \"business_farming\": business_farming,\n",
    "    \"sciences\": sciences,\n",
    "    \"politics_govt_law\": politics_govt_law,\n",
    "    \"law_enf_military_operator\": law_enf_military_operator,\n",
    "    \"crime\": crime,\n",
    "    \"event_record_other\": event_record_other,\n",
    "    \"other_species\": other_species,\n",
    "    \"arts\": arts,\n",
    "    \"sports\": sports,\n",
    "}"
   ]
  },
  {
   "cell_type": "markdown",
   "id": "5233e562",
   "metadata": {},
   "source": [
    "#### Extracting Category from `info_2`"
   ]
  },
  {
   "cell_type": "code",
   "execution_count": 36,
   "id": "b4992e35",
   "metadata": {},
   "outputs": [
    {
     "name": "stdout",
     "output_type": "stream",
     "text": [
      "CPU times: total: 9.89 s\n",
      "Wall time: 9.88 s\n"
     ]
    },
    {
     "data": {
      "text/html": [
       "<div>\n",
       "<style scoped>\n",
       "    .dataframe tbody tr th:only-of-type {\n",
       "        vertical-align: middle;\n",
       "    }\n",
       "\n",
       "    .dataframe tbody tr th {\n",
       "        vertical-align: top;\n",
       "    }\n",
       "\n",
       "    .dataframe thead th {\n",
       "        text-align: right;\n",
       "    }\n",
       "</style>\n",
       "<table border=\"1\" class=\"dataframe\">\n",
       "  <thead>\n",
       "    <tr style=\"text-align: right;\">\n",
       "      <th></th>\n",
       "      <th>day</th>\n",
       "      <th>name</th>\n",
       "      <th>info</th>\n",
       "      <th>link</th>\n",
       "      <th>num_references</th>\n",
       "      <th>year</th>\n",
       "      <th>month</th>\n",
       "      <th>info_parenth</th>\n",
       "      <th>info_1</th>\n",
       "      <th>info_2</th>\n",
       "      <th>info_3</th>\n",
       "      <th>info_4</th>\n",
       "      <th>info_5</th>\n",
       "      <th>info_6</th>\n",
       "      <th>info_7</th>\n",
       "      <th>info_8</th>\n",
       "      <th>info_9</th>\n",
       "      <th>info_10</th>\n",
       "      <th>info_11</th>\n",
       "      <th>age</th>\n",
       "      <th>cause_of_death</th>\n",
       "      <th>place_1</th>\n",
       "      <th>place_2</th>\n",
       "      <th>info_parenth_copy</th>\n",
       "      <th>log_num_references</th>\n",
       "      <th>sciences</th>\n",
       "      <th>social</th>\n",
       "      <th>spiritual</th>\n",
       "      <th>academia_humanities</th>\n",
       "      <th>business_farming</th>\n",
       "      <th>arts</th>\n",
       "      <th>sports</th>\n",
       "      <th>law_enf_military_operator</th>\n",
       "      <th>politics_govt_law</th>\n",
       "      <th>crime</th>\n",
       "      <th>event_record_other</th>\n",
       "      <th>other_species</th>\n",
       "      <th>num_categories</th>\n",
       "    </tr>\n",
       "  </thead>\n",
       "  <tbody>\n",
       "    <tr>\n",
       "      <th>44511</th>\n",
       "      <td>18</td>\n",
       "      <td>José Luis Montes</td>\n",
       "      <td>, 57, Spanish football player and coach.</td>\n",
       "      <td>https://en.wikipedia.org/wiki/Jos%C3%A9_Luis_Montes</td>\n",
       "      <td>3</td>\n",
       "      <td>2013</td>\n",
       "      <td>August</td>\n",
       "      <td>None</td>\n",
       "      <td>None</td>\n",
       "      <td></td>\n",
       "      <td>None</td>\n",
       "      <td>None</td>\n",
       "      <td>None</td>\n",
       "      <td>None</td>\n",
       "      <td>None</td>\n",
       "      <td>None</td>\n",
       "      <td>None</td>\n",
       "      <td>None</td>\n",
       "      <td>None</td>\n",
       "      <td>57.0</td>\n",
       "      <td>None</td>\n",
       "      <td>Spain</td>\n",
       "      <td>None</td>\n",
       "      <td>None</td>\n",
       "      <td>1.386294</td>\n",
       "      <td>0</td>\n",
       "      <td>0</td>\n",
       "      <td>0</td>\n",
       "      <td>0</td>\n",
       "      <td>0</td>\n",
       "      <td>0</td>\n",
       "      <td>1</td>\n",
       "      <td>0</td>\n",
       "      <td>0</td>\n",
       "      <td>0</td>\n",
       "      <td>0</td>\n",
       "      <td>0</td>\n",
       "      <td>1</td>\n",
       "    </tr>\n",
       "    <tr>\n",
       "      <th>96917</th>\n",
       "      <td>27</td>\n",
       "      <td>John LaGrone</td>\n",
       "      <td>, 77, American football player .</td>\n",
       "      <td>https://en.wikipedia.org/wiki/John_LaGrone</td>\n",
       "      <td>4</td>\n",
       "      <td>2022</td>\n",
       "      <td>March</td>\n",
       "      <td>Edmonton Eskimos</td>\n",
       "      <td>None</td>\n",
       "      <td></td>\n",
       "      <td>None</td>\n",
       "      <td>None</td>\n",
       "      <td>None</td>\n",
       "      <td>None</td>\n",
       "      <td>None</td>\n",
       "      <td>None</td>\n",
       "      <td>None</td>\n",
       "      <td>None</td>\n",
       "      <td>None</td>\n",
       "      <td>77.0</td>\n",
       "      <td>None</td>\n",
       "      <td>United States of America</td>\n",
       "      <td>None</td>\n",
       "      <td>Edmonton Eskimos</td>\n",
       "      <td>1.609438</td>\n",
       "      <td>0</td>\n",
       "      <td>0</td>\n",
       "      <td>0</td>\n",
       "      <td>0</td>\n",
       "      <td>0</td>\n",
       "      <td>0</td>\n",
       "      <td>1</td>\n",
       "      <td>0</td>\n",
       "      <td>0</td>\n",
       "      <td>0</td>\n",
       "      <td>0</td>\n",
       "      <td>0</td>\n",
       "      <td>1</td>\n",
       "    </tr>\n",
       "  </tbody>\n",
       "</table>\n",
       "</div>"
      ],
      "text/plain": [
       "      day              name                                      info  \\\n",
       "44511  18  José Luis Montes  , 57, Spanish football player and coach.   \n",
       "96917  27      John LaGrone          , 77, American football player .   \n",
       "\n",
       "                                                      link  num_references  \\\n",
       "44511  https://en.wikipedia.org/wiki/Jos%C3%A9_Luis_Montes               3   \n",
       "96917           https://en.wikipedia.org/wiki/John_LaGrone               4   \n",
       "\n",
       "       year   month      info_parenth info_1 info_2 info_3 info_4 info_5  \\\n",
       "44511  2013  August              None   None          None   None   None   \n",
       "96917  2022   March  Edmonton Eskimos   None          None   None   None   \n",
       "\n",
       "      info_6 info_7 info_8 info_9 info_10 info_11   age cause_of_death  \\\n",
       "44511   None   None   None   None    None    None  57.0           None   \n",
       "96917   None   None   None   None    None    None  77.0           None   \n",
       "\n",
       "                        place_1 place_2 info_parenth_copy  log_num_references  \\\n",
       "44511                     Spain    None              None            1.386294   \n",
       "96917  United States of America    None  Edmonton Eskimos            1.609438   \n",
       "\n",
       "       sciences  social  spiritual  academia_humanities  business_farming  \\\n",
       "44511         0       0          0                    0                 0   \n",
       "96917         0       0          0                    0                 0   \n",
       "\n",
       "       arts  sports  law_enf_military_operator  politics_govt_law  crime  \\\n",
       "44511     0       1                          0                  0      0   \n",
       "96917     0       1                          0                  0      0   \n",
       "\n",
       "       event_record_other  other_species  num_categories  \n",
       "44511                   0              0               1  \n",
       "96917                   0              0               1  "
      ]
     },
     "execution_count": 36,
     "metadata": {},
     "output_type": "execute_result"
    },
    {
     "data": {
      "application/javascript": [
       "\n",
       "            setTimeout(function() {\n",
       "                var nbb_cell_id = 36;\n",
       "                var nbb_unformatted_code = \"%%time\\n\\n# Dictionary version\\nsearch_dict = known_for_dict\\n\\n# Column to check\\ncolumn = 'info_2'\\n\\n# Dataframe\\ndataframe = df[column].notna()\\n\\n# For loop to find role in column and extract it as category\\nfor category, category_lst in search_dict.items():\\n    for role in category_lst:\\n        for index in dataframe.index:\\n            item = df.loc[index, column]\\n            if item:\\n                if role in item:\\n                    df.loc[index, category] = 1\\n                    df.loc[index, column] = item.replace(role, '').strip()\\n\\n# Updating num_categories\\ndf[\\\"num_categories\\\"] = df[known_for_dict.keys()].sum(axis=1)\\n\\n# Checking a sample of rows\\ndf[df['sports'] ==1].sample(2)\";\n",
       "                var nbb_formatted_code = \"%%time\\n\\n# Dictionary version\\nsearch_dict = known_for_dict\\n\\n# Column to check\\ncolumn = 'info_2'\\n\\n# Dataframe\\ndataframe = df[column].notna()\\n\\n# For loop to find role in column and extract it as category\\nfor category, category_lst in search_dict.items():\\n    for role in category_lst:\\n        for index in dataframe.index:\\n            item = df.loc[index, column]\\n            if item:\\n                if role in item:\\n                    df.loc[index, category] = 1\\n                    df.loc[index, column] = item.replace(role, '').strip()\\n\\n# Updating num_categories\\ndf[\\\"num_categories\\\"] = df[known_for_dict.keys()].sum(axis=1)\\n\\n# Checking a sample of rows\\ndf[df['sports'] ==1].sample(2)\";\n",
       "                var nbb_cells = Jupyter.notebook.get_cells();\n",
       "                for (var i = 0; i < nbb_cells.length; ++i) {\n",
       "                    if (nbb_cells[i].input_prompt_number == nbb_cell_id) {\n",
       "                        if (nbb_cells[i].get_text() == nbb_unformatted_code) {\n",
       "                             nbb_cells[i].set_text(nbb_formatted_code);\n",
       "                        }\n",
       "                        break;\n",
       "                    }\n",
       "                }\n",
       "            }, 500);\n",
       "            "
      ],
      "text/plain": [
       "<IPython.core.display.Javascript object>"
      ]
     },
     "metadata": {},
     "output_type": "display_data"
    }
   ],
   "source": [
    "%%time\n",
    "\n",
    "# Dictionary version\n",
    "search_dict = known_for_dict\n",
    "\n",
    "# Column to check\n",
    "column = 'info_2'\n",
    "\n",
    "# Dataframe\n",
    "dataframe = df[column].notna()\n",
    "\n",
    "# For loop to find role in column and extract it as category\n",
    "for category, category_lst in search_dict.items():\n",
    "    for role in category_lst:\n",
    "        for index in dataframe.index:\n",
    "            item = df.loc[index, column]\n",
    "            if item:\n",
    "                if role in item:\n",
    "                    df.loc[index, category] = 1\n",
    "                    df.loc[index, column] = item.replace(role, '').strip()\n",
    "\n",
    "# Updating num_categories\n",
    "df[\"num_categories\"] = df[known_for_dict.keys()].sum(axis=1)\n",
    "\n",
    "# Checking a sample of rows\n",
    "df[df['sports'] ==1].sample(2)"
   ]
  },
  {
   "cell_type": "markdown",
   "id": "108db7e1",
   "metadata": {},
   "source": [
    "#### Checking the Number of Rows without a First Category"
   ]
  },
  {
   "cell_type": "code",
   "execution_count": 37,
   "id": "e3932940",
   "metadata": {},
   "outputs": [
    {
     "name": "stdout",
     "output_type": "stream",
     "text": [
      "There are 36986 entries without any known_for category.\n"
     ]
    },
    {
     "data": {
      "application/javascript": [
       "\n",
       "            setTimeout(function() {\n",
       "                var nbb_cell_id = 37;\n",
       "                var nbb_unformatted_code = \"# Checking the number of rows without a first category\\nprint(\\n    f'There are {len(df[df[\\\"num_categories\\\"]==0])} entries without any known_for category.'\\n)\";\n",
       "                var nbb_formatted_code = \"# Checking the number of rows without a first category\\nprint(\\n    f'There are {len(df[df[\\\"num_categories\\\"]==0])} entries without any known_for category.'\\n)\";\n",
       "                var nbb_cells = Jupyter.notebook.get_cells();\n",
       "                for (var i = 0; i < nbb_cells.length; ++i) {\n",
       "                    if (nbb_cells[i].input_prompt_number == nbb_cell_id) {\n",
       "                        if (nbb_cells[i].get_text() == nbb_unformatted_code) {\n",
       "                             nbb_cells[i].set_text(nbb_formatted_code);\n",
       "                        }\n",
       "                        break;\n",
       "                    }\n",
       "                }\n",
       "            }, 500);\n",
       "            "
      ],
      "text/plain": [
       "<IPython.core.display.Javascript object>"
      ]
     },
     "metadata": {},
     "output_type": "display_data"
    }
   ],
   "source": [
    "# Checking the number of rows without a first category\n",
    "print(\n",
    "    f'There are {len(df[df[\"num_categories\"]==0])} entries without any known_for category.'\n",
    ")"
   ]
  },
  {
   "cell_type": "markdown",
   "id": "db60dc40",
   "metadata": {},
   "source": [
    "#### Observations:\n",
    "- We will proceed to rebuild `known_for_dict` for the next iteration."
   ]
  },
  {
   "cell_type": "markdown",
   "id": "8971918d",
   "metadata": {},
   "source": [
    "#### Finding `known_for` Roles in `info_2`"
   ]
  },
  {
   "cell_type": "code",
   "execution_count": 38,
   "id": "f15a9f37",
   "metadata": {},
   "outputs": [
    {
     "data": {
      "application/javascript": [
       "\n",
       "            setTimeout(function() {\n",
       "                var nbb_cell_id = 38;\n",
       "                var nbb_unformatted_code = \"# Obtaining values for column and their counts\\nroles_list = df[\\\"info_2\\\"].value_counts(ascending=True).index.tolist()\";\n",
       "                var nbb_formatted_code = \"# Obtaining values for column and their counts\\nroles_list = df[\\\"info_2\\\"].value_counts(ascending=True).index.tolist()\";\n",
       "                var nbb_cells = Jupyter.notebook.get_cells();\n",
       "                for (var i = 0; i < nbb_cells.length; ++i) {\n",
       "                    if (nbb_cells[i].input_prompt_number == nbb_cell_id) {\n",
       "                        if (nbb_cells[i].get_text() == nbb_unformatted_code) {\n",
       "                             nbb_cells[i].set_text(nbb_formatted_code);\n",
       "                        }\n",
       "                        break;\n",
       "                    }\n",
       "                }\n",
       "            }, 500);\n",
       "            "
      ],
      "text/plain": [
       "<IPython.core.display.Javascript object>"
      ]
     },
     "metadata": {},
     "output_type": "display_data"
    }
   ],
   "source": [
    "# Obtaining values for column and their counts\n",
    "roles_list = df[\"info_2\"].value_counts(ascending=True).index.tolist()"
   ]
  },
  {
   "cell_type": "code",
   "execution_count": 39,
   "id": "4558b864",
   "metadata": {},
   "outputs": [
    {
     "data": {
      "application/javascript": [
       "\n",
       "            setTimeout(function() {\n",
       "                var nbb_cell_id = 39;\n",
       "                var nbb_unformatted_code = \"# # Code to check each value\\n# roles_list.pop()\";\n",
       "                var nbb_formatted_code = \"# # Code to check each value\\n# roles_list.pop()\";\n",
       "                var nbb_cells = Jupyter.notebook.get_cells();\n",
       "                for (var i = 0; i < nbb_cells.length; ++i) {\n",
       "                    if (nbb_cells[i].input_prompt_number == nbb_cell_id) {\n",
       "                        if (nbb_cells[i].get_text() == nbb_unformatted_code) {\n",
       "                             nbb_cells[i].set_text(nbb_formatted_code);\n",
       "                        }\n",
       "                        break;\n",
       "                    }\n",
       "                }\n",
       "            }, 500);\n",
       "            "
      ],
      "text/plain": [
       "<IPython.core.display.Javascript object>"
      ]
     },
     "metadata": {},
     "output_type": "display_data"
    }
   ],
   "source": [
    "# # Code to check each value\n",
    "# roles_list.pop()"
   ]
  },
  {
   "cell_type": "code",
   "execution_count": 40,
   "id": "edde5a94",
   "metadata": {},
   "outputs": [
    {
     "data": {
      "application/javascript": [
       "\n",
       "            setTimeout(function() {\n",
       "                var nbb_cell_id = 40;\n",
       "                var nbb_unformatted_code = \"# # Create specific_roles_list for above popped value\\n# specific_roles_list = (\\n#     df.loc[\\n#         [index for index in df.index if \\\"rugby league player\\\" in df.loc[index, \\\"info\\\"]],\\n#         \\\"info_2\\\",\\n#     ]\\n#     .value_counts()\\n#     .index.tolist()\\n# )\";\n",
       "                var nbb_formatted_code = \"# # Create specific_roles_list for above popped value\\n# specific_roles_list = (\\n#     df.loc[\\n#         [index for index in df.index if \\\"rugby league player\\\" in df.loc[index, \\\"info\\\"]],\\n#         \\\"info_2\\\",\\n#     ]\\n#     .value_counts()\\n#     .index.tolist()\\n# )\";\n",
       "                var nbb_cells = Jupyter.notebook.get_cells();\n",
       "                for (var i = 0; i < nbb_cells.length; ++i) {\n",
       "                    if (nbb_cells[i].input_prompt_number == nbb_cell_id) {\n",
       "                        if (nbb_cells[i].get_text() == nbb_unformatted_code) {\n",
       "                             nbb_cells[i].set_text(nbb_formatted_code);\n",
       "                        }\n",
       "                        break;\n",
       "                    }\n",
       "                }\n",
       "            }, 500);\n",
       "            "
      ],
      "text/plain": [
       "<IPython.core.display.Javascript object>"
      ]
     },
     "metadata": {},
     "output_type": "display_data"
    }
   ],
   "source": [
    "# # Create specific_roles_list for above popped value\n",
    "# specific_roles_list = (\n",
    "#     df.loc[\n",
    "#         [index for index in df.index if \"rugby league player\" in df.loc[index, \"info\"]],\n",
    "#         \"info_2\",\n",
    "#     ]\n",
    "#     .value_counts()\n",
    "#     .index.tolist()\n",
    "# )"
   ]
  },
  {
   "cell_type": "code",
   "execution_count": 41,
   "id": "4d34f3f1",
   "metadata": {},
   "outputs": [
    {
     "data": {
      "application/javascript": [
       "\n",
       "            setTimeout(function() {\n",
       "                var nbb_cell_id = 41;\n",
       "                var nbb_unformatted_code = \"# # Code to check each specific value\\n# specific_roles_list.pop()\";\n",
       "                var nbb_formatted_code = \"# # Code to check each specific value\\n# specific_roles_list.pop()\";\n",
       "                var nbb_cells = Jupyter.notebook.get_cells();\n",
       "                for (var i = 0; i < nbb_cells.length; ++i) {\n",
       "                    if (nbb_cells[i].input_prompt_number == nbb_cell_id) {\n",
       "                        if (nbb_cells[i].get_text() == nbb_unformatted_code) {\n",
       "                             nbb_cells[i].set_text(nbb_formatted_code);\n",
       "                        }\n",
       "                        break;\n",
       "                    }\n",
       "                }\n",
       "            }, 500);\n",
       "            "
      ],
      "text/plain": [
       "<IPython.core.display.Javascript object>"
      ]
     },
     "metadata": {},
     "output_type": "display_data"
    }
   ],
   "source": [
    "# # Code to check each specific value\n",
    "# specific_roles_list.pop()"
   ]
  },
  {
   "cell_type": "code",
   "execution_count": 42,
   "id": "27f2d126",
   "metadata": {},
   "outputs": [
    {
     "data": {
      "application/javascript": [
       "\n",
       "            setTimeout(function() {\n",
       "                var nbb_cell_id = 42;\n",
       "                var nbb_unformatted_code = \"# # Example code to quick-screen values that may overlap categories\\n# df.loc[\\n#     [\\n#         index\\n#         for index in df.index\\n#         if \\\"rugby league player and administrator\\\" in df.loc[index, \\\"info\\\"]\\n#     ]\\n# ]\";\n",
       "                var nbb_formatted_code = \"# # Example code to quick-screen values that may overlap categories\\n# df.loc[\\n#     [\\n#         index\\n#         for index in df.index\\n#         if \\\"rugby league player and administrator\\\" in df.loc[index, \\\"info\\\"]\\n#     ]\\n# ]\";\n",
       "                var nbb_cells = Jupyter.notebook.get_cells();\n",
       "                for (var i = 0; i < nbb_cells.length; ++i) {\n",
       "                    if (nbb_cells[i].input_prompt_number == nbb_cell_id) {\n",
       "                        if (nbb_cells[i].get_text() == nbb_unformatted_code) {\n",
       "                             nbb_cells[i].set_text(nbb_formatted_code);\n",
       "                        }\n",
       "                        break;\n",
       "                    }\n",
       "                }\n",
       "            }, 500);\n",
       "            "
      ],
      "text/plain": [
       "<IPython.core.display.Javascript object>"
      ]
     },
     "metadata": {},
     "output_type": "display_data"
    }
   ],
   "source": [
    "# # Example code to quick-screen values that may overlap categories\n",
    "# df.loc[\n",
    "#     [\n",
    "#         index\n",
    "#         for index in df.index\n",
    "#         if \"rugby league player and administrator\" in df.loc[index, \"info\"]\n",
    "#     ]\n",
    "# ]"
   ]
  },
  {
   "cell_type": "code",
   "execution_count": 43,
   "id": "045fac02",
   "metadata": {},
   "outputs": [
    {
     "data": {
      "application/javascript": [
       "\n",
       "            setTimeout(function() {\n",
       "                var nbb_cell_id = 43;\n",
       "                var nbb_unformatted_code = \"# # Example code to quick-check a specific entry\\n# df[df[\\\"info_2\\\"] == \\\"rugby league player involved in match fixing scandal\\\"]\";\n",
       "                var nbb_formatted_code = \"# # Example code to quick-check a specific entry\\n# df[df[\\\"info_2\\\"] == \\\"rugby league player involved in match fixing scandal\\\"]\";\n",
       "                var nbb_cells = Jupyter.notebook.get_cells();\n",
       "                for (var i = 0; i < nbb_cells.length; ++i) {\n",
       "                    if (nbb_cells[i].input_prompt_number == nbb_cell_id) {\n",
       "                        if (nbb_cells[i].get_text() == nbb_unformatted_code) {\n",
       "                             nbb_cells[i].set_text(nbb_formatted_code);\n",
       "                        }\n",
       "                        break;\n",
       "                    }\n",
       "                }\n",
       "            }, 500);\n",
       "            "
      ],
      "text/plain": [
       "<IPython.core.display.Javascript object>"
      ]
     },
     "metadata": {},
     "output_type": "display_data"
    }
   ],
   "source": [
    "# # Example code to quick-check a specific entry\n",
    "# df[df[\"info_2\"] == \"rugby league player involved in match fixing scandal\"]"
   ]
  },
  {
   "cell_type": "markdown",
   "id": "8caec567",
   "metadata": {},
   "source": [
    "#### Creating Lists for Each `known_for` Category"
   ]
  },
  {
   "cell_type": "code",
   "execution_count": 44,
   "id": "571bba60",
   "metadata": {},
   "outputs": [
    {
     "data": {
      "application/javascript": [
       "\n",
       "            setTimeout(function() {\n",
       "                var nbb_cell_id = 44;\n",
       "                var nbb_unformatted_code = \"# Creating lists for each category\\npolitics_govt_law = []\\n\\narts = []\\nsports = [\\n    \\\"Hall of Fame rugby league player\\\",\\n    \\\"Papua New rugby league player\\\",\\n    \\\"rugby league player and captain\\\",\\n    \\\"rugby league player and international coach\\\",\\n    \\\"Hall of Fame rugby league player and national team captain\\\",\\n    \\\"football and rugby league player\\\",\\n    \\\"rugby league player for Wigan and Great\\\",\\n    \\\"rugby league player for Great and Hull KR\\\",\\n    \\\"rugby league player for Great\\\",\\n    \\\"rugby league player and referee\\\",\\n    \\\"rugby league player and administrator\\\",\\n    \\\"rugby union and rugby league player\\\",\\n    \\\"rugby league player and coach\\\",\\n    \\\"and rugby league player\\\",\\n    \\\"rugby league player and\\\",\\n    \\\"rugby league player\\\",\\n]\\nsciences = []\\n\\nbusiness_farming = []\\nacademia_humanities = []\\nlaw_enf_military_operator = []\\nspiritual = []\\nsocial = []\\ncrime = [\\\"involved in match fixing scandal\\\"]\\nevent_record_other = []\\nother_species = []\";\n",
       "                var nbb_formatted_code = \"# Creating lists for each category\\npolitics_govt_law = []\\n\\narts = []\\nsports = [\\n    \\\"Hall of Fame rugby league player\\\",\\n    \\\"Papua New rugby league player\\\",\\n    \\\"rugby league player and captain\\\",\\n    \\\"rugby league player and international coach\\\",\\n    \\\"Hall of Fame rugby league player and national team captain\\\",\\n    \\\"football and rugby league player\\\",\\n    \\\"rugby league player for Wigan and Great\\\",\\n    \\\"rugby league player for Great and Hull KR\\\",\\n    \\\"rugby league player for Great\\\",\\n    \\\"rugby league player and referee\\\",\\n    \\\"rugby league player and administrator\\\",\\n    \\\"rugby union and rugby league player\\\",\\n    \\\"rugby league player and coach\\\",\\n    \\\"and rugby league player\\\",\\n    \\\"rugby league player and\\\",\\n    \\\"rugby league player\\\",\\n]\\nsciences = []\\n\\nbusiness_farming = []\\nacademia_humanities = []\\nlaw_enf_military_operator = []\\nspiritual = []\\nsocial = []\\ncrime = [\\\"involved in match fixing scandal\\\"]\\nevent_record_other = []\\nother_species = []\";\n",
       "                var nbb_cells = Jupyter.notebook.get_cells();\n",
       "                for (var i = 0; i < nbb_cells.length; ++i) {\n",
       "                    if (nbb_cells[i].input_prompt_number == nbb_cell_id) {\n",
       "                        if (nbb_cells[i].get_text() == nbb_unformatted_code) {\n",
       "                             nbb_cells[i].set_text(nbb_formatted_code);\n",
       "                        }\n",
       "                        break;\n",
       "                    }\n",
       "                }\n",
       "            }, 500);\n",
       "            "
      ],
      "text/plain": [
       "<IPython.core.display.Javascript object>"
      ]
     },
     "metadata": {},
     "output_type": "display_data"
    }
   ],
   "source": [
    "# Creating lists for each category\n",
    "politics_govt_law = []\n",
    "\n",
    "arts = []\n",
    "sports = [\n",
    "    \"Hall of Fame rugby league player\",\n",
    "    \"Papua New rugby league player\",\n",
    "    \"rugby league player and captain\",\n",
    "    \"rugby league player and international coach\",\n",
    "    \"Hall of Fame rugby league player and national team captain\",\n",
    "    \"football and rugby league player\",\n",
    "    \"rugby league player for Wigan and Great\",\n",
    "    \"rugby league player for Great and Hull KR\",\n",
    "    \"rugby league player for Great\",\n",
    "    \"rugby league player and referee\",\n",
    "    \"rugby league player and administrator\",\n",
    "    \"rugby union and rugby league player\",\n",
    "    \"rugby league player and coach\",\n",
    "    \"and rugby league player\",\n",
    "    \"rugby league player and\",\n",
    "    \"rugby league player\",\n",
    "]\n",
    "sciences = []\n",
    "\n",
    "business_farming = []\n",
    "academia_humanities = []\n",
    "law_enf_military_operator = []\n",
    "spiritual = []\n",
    "social = []\n",
    "crime = [\"involved in match fixing scandal\"]\n",
    "event_record_other = []\n",
    "other_species = []"
   ]
  },
  {
   "cell_type": "markdown",
   "id": "450d859c",
   "metadata": {},
   "source": [
    "#### Creating `known_for_dict` Dictionary of Category Keys and Specific Role Lists of Values"
   ]
  },
  {
   "cell_type": "code",
   "execution_count": 45,
   "id": "e250cb24",
   "metadata": {},
   "outputs": [
    {
     "data": {
      "application/javascript": [
       "\n",
       "            setTimeout(function() {\n",
       "                var nbb_cell_id = 45;\n",
       "                var nbb_unformatted_code = \"# Combining separate lists into one dictionary\\nknown_for_dict = {\\n    \\\"social\\\": social,\\n    \\\"spiritual\\\": spiritual,\\n    \\\"academia_humanities\\\": academia_humanities,\\n    \\\"business_farming\\\": business_farming,\\n    \\\"sciences\\\": sciences,\\n    \\\"politics_govt_law\\\": politics_govt_law,\\n    \\\"law_enf_military_operator\\\": law_enf_military_operator,\\n    \\\"crime\\\": crime,\\n    \\\"event_record_other\\\": event_record_other,\\n    \\\"other_species\\\": other_species,\\n    \\\"arts\\\": arts,\\n    \\\"sports\\\": sports,\\n}\";\n",
       "                var nbb_formatted_code = \"# Combining separate lists into one dictionary\\nknown_for_dict = {\\n    \\\"social\\\": social,\\n    \\\"spiritual\\\": spiritual,\\n    \\\"academia_humanities\\\": academia_humanities,\\n    \\\"business_farming\\\": business_farming,\\n    \\\"sciences\\\": sciences,\\n    \\\"politics_govt_law\\\": politics_govt_law,\\n    \\\"law_enf_military_operator\\\": law_enf_military_operator,\\n    \\\"crime\\\": crime,\\n    \\\"event_record_other\\\": event_record_other,\\n    \\\"other_species\\\": other_species,\\n    \\\"arts\\\": arts,\\n    \\\"sports\\\": sports,\\n}\";\n",
       "                var nbb_cells = Jupyter.notebook.get_cells();\n",
       "                for (var i = 0; i < nbb_cells.length; ++i) {\n",
       "                    if (nbb_cells[i].input_prompt_number == nbb_cell_id) {\n",
       "                        if (nbb_cells[i].get_text() == nbb_unformatted_code) {\n",
       "                             nbb_cells[i].set_text(nbb_formatted_code);\n",
       "                        }\n",
       "                        break;\n",
       "                    }\n",
       "                }\n",
       "            }, 500);\n",
       "            "
      ],
      "text/plain": [
       "<IPython.core.display.Javascript object>"
      ]
     },
     "metadata": {},
     "output_type": "display_data"
    }
   ],
   "source": [
    "# Combining separate lists into one dictionary\n",
    "known_for_dict = {\n",
    "    \"social\": social,\n",
    "    \"spiritual\": spiritual,\n",
    "    \"academia_humanities\": academia_humanities,\n",
    "    \"business_farming\": business_farming,\n",
    "    \"sciences\": sciences,\n",
    "    \"politics_govt_law\": politics_govt_law,\n",
    "    \"law_enf_military_operator\": law_enf_military_operator,\n",
    "    \"crime\": crime,\n",
    "    \"event_record_other\": event_record_other,\n",
    "    \"other_species\": other_species,\n",
    "    \"arts\": arts,\n",
    "    \"sports\": sports,\n",
    "}"
   ]
  },
  {
   "cell_type": "markdown",
   "id": "8e4b581f",
   "metadata": {},
   "source": [
    "#### Extracting Category from `info_2`"
   ]
  },
  {
   "cell_type": "code",
   "execution_count": 46,
   "id": "760bb432",
   "metadata": {},
   "outputs": [
    {
     "name": "stdout",
     "output_type": "stream",
     "text": [
      "CPU times: total: 8.94 s\n",
      "Wall time: 8.93 s\n"
     ]
    },
    {
     "data": {
      "text/html": [
       "<div>\n",
       "<style scoped>\n",
       "    .dataframe tbody tr th:only-of-type {\n",
       "        vertical-align: middle;\n",
       "    }\n",
       "\n",
       "    .dataframe tbody tr th {\n",
       "        vertical-align: top;\n",
       "    }\n",
       "\n",
       "    .dataframe thead th {\n",
       "        text-align: right;\n",
       "    }\n",
       "</style>\n",
       "<table border=\"1\" class=\"dataframe\">\n",
       "  <thead>\n",
       "    <tr style=\"text-align: right;\">\n",
       "      <th></th>\n",
       "      <th>day</th>\n",
       "      <th>name</th>\n",
       "      <th>info</th>\n",
       "      <th>link</th>\n",
       "      <th>num_references</th>\n",
       "      <th>year</th>\n",
       "      <th>month</th>\n",
       "      <th>info_parenth</th>\n",
       "      <th>info_1</th>\n",
       "      <th>info_2</th>\n",
       "      <th>info_3</th>\n",
       "      <th>info_4</th>\n",
       "      <th>info_5</th>\n",
       "      <th>info_6</th>\n",
       "      <th>info_7</th>\n",
       "      <th>info_8</th>\n",
       "      <th>info_9</th>\n",
       "      <th>info_10</th>\n",
       "      <th>info_11</th>\n",
       "      <th>age</th>\n",
       "      <th>cause_of_death</th>\n",
       "      <th>place_1</th>\n",
       "      <th>place_2</th>\n",
       "      <th>info_parenth_copy</th>\n",
       "      <th>log_num_references</th>\n",
       "      <th>sciences</th>\n",
       "      <th>social</th>\n",
       "      <th>spiritual</th>\n",
       "      <th>academia_humanities</th>\n",
       "      <th>business_farming</th>\n",
       "      <th>arts</th>\n",
       "      <th>sports</th>\n",
       "      <th>law_enf_military_operator</th>\n",
       "      <th>politics_govt_law</th>\n",
       "      <th>crime</th>\n",
       "      <th>event_record_other</th>\n",
       "      <th>other_species</th>\n",
       "      <th>num_categories</th>\n",
       "    </tr>\n",
       "  </thead>\n",
       "  <tbody>\n",
       "    <tr>\n",
       "      <th>32510</th>\n",
       "      <td>16</td>\n",
       "      <td>Wayne Twitchell</td>\n",
       "      <td>, 62, American baseball player , cancer.</td>\n",
       "      <td>https://en.wikipedia.org/wiki/Wayne_Twitchell</td>\n",
       "      <td>32</td>\n",
       "      <td>2010</td>\n",
       "      <td>September</td>\n",
       "      <td>Milwaukee Brewers, Mets</td>\n",
       "      <td>None</td>\n",
       "      <td></td>\n",
       "      <td>cancer</td>\n",
       "      <td>None</td>\n",
       "      <td>None</td>\n",
       "      <td>None</td>\n",
       "      <td>None</td>\n",
       "      <td>None</td>\n",
       "      <td>None</td>\n",
       "      <td>None</td>\n",
       "      <td>None</td>\n",
       "      <td>62.0</td>\n",
       "      <td>None</td>\n",
       "      <td>United States of America</td>\n",
       "      <td>None</td>\n",
       "      <td>Milwaukee Brewers, New York Mets</td>\n",
       "      <td>3.496508</td>\n",
       "      <td>0</td>\n",
       "      <td>0</td>\n",
       "      <td>0</td>\n",
       "      <td>0</td>\n",
       "      <td>0</td>\n",
       "      <td>0</td>\n",
       "      <td>1</td>\n",
       "      <td>0</td>\n",
       "      <td>0</td>\n",
       "      <td>0</td>\n",
       "      <td>0</td>\n",
       "      <td>0</td>\n",
       "      <td>1</td>\n",
       "    </tr>\n",
       "    <tr>\n",
       "      <th>43136</th>\n",
       "      <td>2</td>\n",
       "      <td>Ivan Turina</td>\n",
       "      <td>, 32, Croatian footballer , cardiac dysrhythmia.</td>\n",
       "      <td>https://en.wikipedia.org/wiki/Ivan_Turina</td>\n",
       "      <td>21</td>\n",
       "      <td>2013</td>\n",
       "      <td>May</td>\n",
       "      <td>AIK Stockholm</td>\n",
       "      <td>None</td>\n",
       "      <td></td>\n",
       "      <td>cardiac dysrhythmia</td>\n",
       "      <td>None</td>\n",
       "      <td>None</td>\n",
       "      <td>None</td>\n",
       "      <td>None</td>\n",
       "      <td>None</td>\n",
       "      <td>None</td>\n",
       "      <td>None</td>\n",
       "      <td>None</td>\n",
       "      <td>32.0</td>\n",
       "      <td>None</td>\n",
       "      <td>Croatia</td>\n",
       "      <td>None</td>\n",
       "      <td>AIK Stockholm</td>\n",
       "      <td>3.091042</td>\n",
       "      <td>0</td>\n",
       "      <td>0</td>\n",
       "      <td>0</td>\n",
       "      <td>0</td>\n",
       "      <td>0</td>\n",
       "      <td>0</td>\n",
       "      <td>1</td>\n",
       "      <td>0</td>\n",
       "      <td>0</td>\n",
       "      <td>0</td>\n",
       "      <td>0</td>\n",
       "      <td>0</td>\n",
       "      <td>1</td>\n",
       "    </tr>\n",
       "  </tbody>\n",
       "</table>\n",
       "</div>"
      ],
      "text/plain": [
       "      day             name                                              info  \\\n",
       "32510  16  Wayne Twitchell          , 62, American baseball player , cancer.   \n",
       "43136   2      Ivan Turina  , 32, Croatian footballer , cardiac dysrhythmia.   \n",
       "\n",
       "                                                link  num_references  year  \\\n",
       "32510  https://en.wikipedia.org/wiki/Wayne_Twitchell              32  2010   \n",
       "43136      https://en.wikipedia.org/wiki/Ivan_Turina              21  2013   \n",
       "\n",
       "           month             info_parenth info_1 info_2               info_3  \\\n",
       "32510  September  Milwaukee Brewers, Mets   None                      cancer   \n",
       "43136        May            AIK Stockholm   None         cardiac dysrhythmia   \n",
       "\n",
       "      info_4 info_5 info_6 info_7 info_8 info_9 info_10 info_11   age  \\\n",
       "32510   None   None   None   None   None   None    None    None  62.0   \n",
       "43136   None   None   None   None   None   None    None    None  32.0   \n",
       "\n",
       "      cause_of_death                   place_1 place_2  \\\n",
       "32510           None  United States of America    None   \n",
       "43136           None                   Croatia    None   \n",
       "\n",
       "                      info_parenth_copy  log_num_references  sciences  social  \\\n",
       "32510  Milwaukee Brewers, New York Mets            3.496508         0       0   \n",
       "43136                     AIK Stockholm            3.091042         0       0   \n",
       "\n",
       "       spiritual  academia_humanities  business_farming  arts  sports  \\\n",
       "32510          0                    0                 0     0       1   \n",
       "43136          0                    0                 0     0       1   \n",
       "\n",
       "       law_enf_military_operator  politics_govt_law  crime  \\\n",
       "32510                          0                  0      0   \n",
       "43136                          0                  0      0   \n",
       "\n",
       "       event_record_other  other_species  num_categories  \n",
       "32510                   0              0               1  \n",
       "43136                   0              0               1  "
      ]
     },
     "execution_count": 46,
     "metadata": {},
     "output_type": "execute_result"
    },
    {
     "data": {
      "application/javascript": [
       "\n",
       "            setTimeout(function() {\n",
       "                var nbb_cell_id = 46;\n",
       "                var nbb_unformatted_code = \"%%time\\n\\n# Dictionary version\\nsearch_dict = known_for_dict\\n\\n# Column to check\\ncolumn = 'info_2'\\n\\n# Dataframe\\ndataframe = df[column].notna()\\n\\n# For loop to find role in column and extract it as category\\nfor category, category_lst in search_dict.items():\\n    for role in category_lst:\\n        for index in dataframe.index:\\n            item = df.loc[index, column]\\n            if item:\\n                if role in item:\\n                    df.loc[index, category] = 1\\n                    df.loc[index, column] = item.replace(role, '').strip()\\n\\n# Updating num_categories\\ndf[\\\"num_categories\\\"] = df[known_for_dict.keys()].sum(axis=1)\\n\\n# Checking a sample of rows\\ndf[df['sports'] ==1].sample(2)\";\n",
       "                var nbb_formatted_code = \"%%time\\n\\n# Dictionary version\\nsearch_dict = known_for_dict\\n\\n# Column to check\\ncolumn = 'info_2'\\n\\n# Dataframe\\ndataframe = df[column].notna()\\n\\n# For loop to find role in column and extract it as category\\nfor category, category_lst in search_dict.items():\\n    for role in category_lst:\\n        for index in dataframe.index:\\n            item = df.loc[index, column]\\n            if item:\\n                if role in item:\\n                    df.loc[index, category] = 1\\n                    df.loc[index, column] = item.replace(role, '').strip()\\n\\n# Updating num_categories\\ndf[\\\"num_categories\\\"] = df[known_for_dict.keys()].sum(axis=1)\\n\\n# Checking a sample of rows\\ndf[df['sports'] ==1].sample(2)\";\n",
       "                var nbb_cells = Jupyter.notebook.get_cells();\n",
       "                for (var i = 0; i < nbb_cells.length; ++i) {\n",
       "                    if (nbb_cells[i].input_prompt_number == nbb_cell_id) {\n",
       "                        if (nbb_cells[i].get_text() == nbb_unformatted_code) {\n",
       "                             nbb_cells[i].set_text(nbb_formatted_code);\n",
       "                        }\n",
       "                        break;\n",
       "                    }\n",
       "                }\n",
       "            }, 500);\n",
       "            "
      ],
      "text/plain": [
       "<IPython.core.display.Javascript object>"
      ]
     },
     "metadata": {},
     "output_type": "display_data"
    }
   ],
   "source": [
    "%%time\n",
    "\n",
    "# Dictionary version\n",
    "search_dict = known_for_dict\n",
    "\n",
    "# Column to check\n",
    "column = 'info_2'\n",
    "\n",
    "# Dataframe\n",
    "dataframe = df[column].notna()\n",
    "\n",
    "# For loop to find role in column and extract it as category\n",
    "for category, category_lst in search_dict.items():\n",
    "    for role in category_lst:\n",
    "        for index in dataframe.index:\n",
    "            item = df.loc[index, column]\n",
    "            if item:\n",
    "                if role in item:\n",
    "                    df.loc[index, category] = 1\n",
    "                    df.loc[index, column] = item.replace(role, '').strip()\n",
    "\n",
    "# Updating num_categories\n",
    "df[\"num_categories\"] = df[known_for_dict.keys()].sum(axis=1)\n",
    "\n",
    "# Checking a sample of rows\n",
    "df[df['sports'] ==1].sample(2)"
   ]
  },
  {
   "cell_type": "markdown",
   "id": "6cb08ba7",
   "metadata": {},
   "source": [
    "#### Checking the Number of Rows without a First Category"
   ]
  },
  {
   "cell_type": "code",
   "execution_count": 47,
   "id": "36b9cb57",
   "metadata": {},
   "outputs": [
    {
     "name": "stdout",
     "output_type": "stream",
     "text": [
      "There are 36706 entries without any known_for category.\n"
     ]
    },
    {
     "data": {
      "application/javascript": [
       "\n",
       "            setTimeout(function() {\n",
       "                var nbb_cell_id = 47;\n",
       "                var nbb_unformatted_code = \"# Checking the number of rows without a first category\\nprint(\\n    f'There are {len(df[df[\\\"num_categories\\\"]==0])} entries without any known_for category.'\\n)\";\n",
       "                var nbb_formatted_code = \"# Checking the number of rows without a first category\\nprint(\\n    f'There are {len(df[df[\\\"num_categories\\\"]==0])} entries without any known_for category.'\\n)\";\n",
       "                var nbb_cells = Jupyter.notebook.get_cells();\n",
       "                for (var i = 0; i < nbb_cells.length; ++i) {\n",
       "                    if (nbb_cells[i].input_prompt_number == nbb_cell_id) {\n",
       "                        if (nbb_cells[i].get_text() == nbb_unformatted_code) {\n",
       "                             nbb_cells[i].set_text(nbb_formatted_code);\n",
       "                        }\n",
       "                        break;\n",
       "                    }\n",
       "                }\n",
       "            }, 500);\n",
       "            "
      ],
      "text/plain": [
       "<IPython.core.display.Javascript object>"
      ]
     },
     "metadata": {},
     "output_type": "display_data"
    }
   ],
   "source": [
    "# Checking the number of rows without a first category\n",
    "print(\n",
    "    f'There are {len(df[df[\"num_categories\"]==0])} entries without any known_for category.'\n",
    ")"
   ]
  },
  {
   "cell_type": "markdown",
   "id": "7b142558",
   "metadata": {},
   "source": [
    "#### Observations:\n",
    "- We will proceed to rebuild `known_for_dict` for the next iteration."
   ]
  },
  {
   "cell_type": "markdown",
   "id": "87ead917",
   "metadata": {},
   "source": [
    "#### Finding `known_for` Roles in `info_2`"
   ]
  },
  {
   "cell_type": "code",
   "execution_count": 48,
   "id": "63b6150d",
   "metadata": {},
   "outputs": [
    {
     "data": {
      "application/javascript": [
       "\n",
       "            setTimeout(function() {\n",
       "                var nbb_cell_id = 48;\n",
       "                var nbb_unformatted_code = \"# Obtaining values for column and their counts\\nroles_list = df[\\\"info_2\\\"].value_counts(ascending=True).index.tolist()\";\n",
       "                var nbb_formatted_code = \"# Obtaining values for column and their counts\\nroles_list = df[\\\"info_2\\\"].value_counts(ascending=True).index.tolist()\";\n",
       "                var nbb_cells = Jupyter.notebook.get_cells();\n",
       "                for (var i = 0; i < nbb_cells.length; ++i) {\n",
       "                    if (nbb_cells[i].input_prompt_number == nbb_cell_id) {\n",
       "                        if (nbb_cells[i].get_text() == nbb_unformatted_code) {\n",
       "                             nbb_cells[i].set_text(nbb_formatted_code);\n",
       "                        }\n",
       "                        break;\n",
       "                    }\n",
       "                }\n",
       "            }, 500);\n",
       "            "
      ],
      "text/plain": [
       "<IPython.core.display.Javascript object>"
      ]
     },
     "metadata": {},
     "output_type": "display_data"
    }
   ],
   "source": [
    "# Obtaining values for column and their counts\n",
    "roles_list = df[\"info_2\"].value_counts(ascending=True).index.tolist()"
   ]
  },
  {
   "cell_type": "code",
   "execution_count": 49,
   "id": "9202081f",
   "metadata": {},
   "outputs": [
    {
     "data": {
      "application/javascript": [
       "\n",
       "            setTimeout(function() {\n",
       "                var nbb_cell_id = 49;\n",
       "                var nbb_unformatted_code = \"# # Code to check each value\\n# roles_list.pop()\";\n",
       "                var nbb_formatted_code = \"# # Code to check each value\\n# roles_list.pop()\";\n",
       "                var nbb_cells = Jupyter.notebook.get_cells();\n",
       "                for (var i = 0; i < nbb_cells.length; ++i) {\n",
       "                    if (nbb_cells[i].input_prompt_number == nbb_cell_id) {\n",
       "                        if (nbb_cells[i].get_text() == nbb_unformatted_code) {\n",
       "                             nbb_cells[i].set_text(nbb_formatted_code);\n",
       "                        }\n",
       "                        break;\n",
       "                    }\n",
       "                }\n",
       "            }, 500);\n",
       "            "
      ],
      "text/plain": [
       "<IPython.core.display.Javascript object>"
      ]
     },
     "metadata": {},
     "output_type": "display_data"
    }
   ],
   "source": [
    "# # Code to check each value\n",
    "# roles_list.pop()"
   ]
  },
  {
   "cell_type": "code",
   "execution_count": 50,
   "id": "cdd498cd",
   "metadata": {},
   "outputs": [
    {
     "data": {
      "application/javascript": [
       "\n",
       "            setTimeout(function() {\n",
       "                var nbb_cell_id = 50;\n",
       "                var nbb_unformatted_code = \"# # Create specific_roles_list for above popped value\\n# specific_roles_list = (\\n#     df.loc[\\n#         [index for index in df.index if \\\"sociologist\\\" in df.loc[index, \\\"info\\\"]],\\n#         \\\"info_2\\\",\\n#     ]\\n#     .value_counts()\\n#     .index.tolist()\\n# )\";\n",
       "                var nbb_formatted_code = \"# # Create specific_roles_list for above popped value\\n# specific_roles_list = (\\n#     df.loc[\\n#         [index for index in df.index if \\\"sociologist\\\" in df.loc[index, \\\"info\\\"]],\\n#         \\\"info_2\\\",\\n#     ]\\n#     .value_counts()\\n#     .index.tolist()\\n# )\";\n",
       "                var nbb_cells = Jupyter.notebook.get_cells();\n",
       "                for (var i = 0; i < nbb_cells.length; ++i) {\n",
       "                    if (nbb_cells[i].input_prompt_number == nbb_cell_id) {\n",
       "                        if (nbb_cells[i].get_text() == nbb_unformatted_code) {\n",
       "                             nbb_cells[i].set_text(nbb_formatted_code);\n",
       "                        }\n",
       "                        break;\n",
       "                    }\n",
       "                }\n",
       "            }, 500);\n",
       "            "
      ],
      "text/plain": [
       "<IPython.core.display.Javascript object>"
      ]
     },
     "metadata": {},
     "output_type": "display_data"
    }
   ],
   "source": [
    "# # Create specific_roles_list for above popped value\n",
    "# specific_roles_list = (\n",
    "#     df.loc[\n",
    "#         [index for index in df.index if \"sociologist\" in df.loc[index, \"info\"]],\n",
    "#         \"info_2\",\n",
    "#     ]\n",
    "#     .value_counts()\n",
    "#     .index.tolist()\n",
    "# )"
   ]
  },
  {
   "cell_type": "code",
   "execution_count": 51,
   "id": "95ace4b9",
   "metadata": {},
   "outputs": [
    {
     "data": {
      "application/javascript": [
       "\n",
       "            setTimeout(function() {\n",
       "                var nbb_cell_id = 51;\n",
       "                var nbb_unformatted_code = \"# # Code to check each specific value\\n# specific_roles_list.pop()\";\n",
       "                var nbb_formatted_code = \"# # Code to check each specific value\\n# specific_roles_list.pop()\";\n",
       "                var nbb_cells = Jupyter.notebook.get_cells();\n",
       "                for (var i = 0; i < nbb_cells.length; ++i) {\n",
       "                    if (nbb_cells[i].input_prompt_number == nbb_cell_id) {\n",
       "                        if (nbb_cells[i].get_text() == nbb_unformatted_code) {\n",
       "                             nbb_cells[i].set_text(nbb_formatted_code);\n",
       "                        }\n",
       "                        break;\n",
       "                    }\n",
       "                }\n",
       "            }, 500);\n",
       "            "
      ],
      "text/plain": [
       "<IPython.core.display.Javascript object>"
      ]
     },
     "metadata": {},
     "output_type": "display_data"
    }
   ],
   "source": [
    "# # Code to check each specific value\n",
    "# specific_roles_list.pop()"
   ]
  },
  {
   "cell_type": "code",
   "execution_count": 52,
   "id": "c6be124c",
   "metadata": {},
   "outputs": [
    {
     "data": {
      "application/javascript": [
       "\n",
       "            setTimeout(function() {\n",
       "                var nbb_cell_id = 52;\n",
       "                var nbb_unformatted_code = \"# # Example code to quick-screen values that may overlap categories\\n# df.loc[\\n#     [index for index in df.index if \\\"historical sociologist\\\" in df.loc[index, \\\"info\\\"]]\\n# ]\";\n",
       "                var nbb_formatted_code = \"# # Example code to quick-screen values that may overlap categories\\n# df.loc[\\n#     [index for index in df.index if \\\"historical sociologist\\\" in df.loc[index, \\\"info\\\"]]\\n# ]\";\n",
       "                var nbb_cells = Jupyter.notebook.get_cells();\n",
       "                for (var i = 0; i < nbb_cells.length; ++i) {\n",
       "                    if (nbb_cells[i].input_prompt_number == nbb_cell_id) {\n",
       "                        if (nbb_cells[i].get_text() == nbb_unformatted_code) {\n",
       "                             nbb_cells[i].set_text(nbb_formatted_code);\n",
       "                        }\n",
       "                        break;\n",
       "                    }\n",
       "                }\n",
       "            }, 500);\n",
       "            "
      ],
      "text/plain": [
       "<IPython.core.display.Javascript object>"
      ]
     },
     "metadata": {},
     "output_type": "display_data"
    }
   ],
   "source": [
    "# # Example code to quick-screen values that may overlap categories\n",
    "# df.loc[\n",
    "#     [index for index in df.index if \"historical sociologist\" in df.loc[index, \"info\"]]\n",
    "# ]"
   ]
  },
  {
   "cell_type": "code",
   "execution_count": 53,
   "id": "8e40d7d3",
   "metadata": {},
   "outputs": [
    {
     "data": {
      "application/javascript": [
       "\n",
       "            setTimeout(function() {\n",
       "                var nbb_cell_id = 53;\n",
       "                var nbb_unformatted_code = \"# # Example code to quick-check a specific entry\\n# df[df[\\\"info_2\\\"] == \\\"sociologist and critic of systems analysis\\\"]\";\n",
       "                var nbb_formatted_code = \"# # Example code to quick-check a specific entry\\n# df[df[\\\"info_2\\\"] == \\\"sociologist and critic of systems analysis\\\"]\";\n",
       "                var nbb_cells = Jupyter.notebook.get_cells();\n",
       "                for (var i = 0; i < nbb_cells.length; ++i) {\n",
       "                    if (nbb_cells[i].input_prompt_number == nbb_cell_id) {\n",
       "                        if (nbb_cells[i].get_text() == nbb_unformatted_code) {\n",
       "                             nbb_cells[i].set_text(nbb_formatted_code);\n",
       "                        }\n",
       "                        break;\n",
       "                    }\n",
       "                }\n",
       "            }, 500);\n",
       "            "
      ],
      "text/plain": [
       "<IPython.core.display.Javascript object>"
      ]
     },
     "metadata": {},
     "output_type": "display_data"
    }
   ],
   "source": [
    "# # Example code to quick-check a specific entry\n",
    "# df[df[\"info_2\"] == \"sociologist and critic of systems analysis\"]"
   ]
  },
  {
   "cell_type": "markdown",
   "id": "fac2df3d",
   "metadata": {},
   "source": [
    "#### Creating Lists for Each `known_for` Category"
   ]
  },
  {
   "cell_type": "code",
   "execution_count": 54,
   "id": "437a54fd",
   "metadata": {},
   "outputs": [
    {
     "data": {
      "application/javascript": [
       "\n",
       "            setTimeout(function() {\n",
       "                var nbb_cell_id = 54;\n",
       "                var nbb_unformatted_code = \"# Creating lists for each category\\npolitics_govt_law = []\\n\\narts = []\\nsports = [\\n    \\\"caver\\\",\\n]\\nsciences = [\\n    \\\"sociologist and communication scientist\\\",\\n    \\\"sociologist and social justice\\\",\\n    \\\"sociologist and social\\\",\\n    \\\"sociologist and psychiatrist\\\",\\n    \\\"sociologist and critic of systems analysis\\\",\\n    \\\"sociologist of science\\\",\\n    \\\"criminologist and sociologist\\\",\\n    \\\"gerontologist and sociologist\\\",\\n    \\\"urban sociologist\\\",\\n    \\\"sociologist and patients' rights advocate\\\",\\n    \\\"sociologist and statistician\\\",\\n    \\\"environmental sociologist\\\",\\n    \\\"sociologist and demographer\\\",\\n    \\\"sociologist and criminologist\\\",\\n    \\\"sociologist from\\\",\\n    \\\"sociologist and\\\",\\n    \\\"sociologist\\\",\\n]\\n\\nbusiness_farming = []\\nacademia_humanities = []\\nlaw_enf_military_operator = []\\nspiritual = []\\nsocial = []\\ncrime = []\\nevent_record_other = []\\nother_species = []\";\n",
       "                var nbb_formatted_code = \"# Creating lists for each category\\npolitics_govt_law = []\\n\\narts = []\\nsports = [\\n    \\\"caver\\\",\\n]\\nsciences = [\\n    \\\"sociologist and communication scientist\\\",\\n    \\\"sociologist and social justice\\\",\\n    \\\"sociologist and social\\\",\\n    \\\"sociologist and psychiatrist\\\",\\n    \\\"sociologist and critic of systems analysis\\\",\\n    \\\"sociologist of science\\\",\\n    \\\"criminologist and sociologist\\\",\\n    \\\"gerontologist and sociologist\\\",\\n    \\\"urban sociologist\\\",\\n    \\\"sociologist and patients' rights advocate\\\",\\n    \\\"sociologist and statistician\\\",\\n    \\\"environmental sociologist\\\",\\n    \\\"sociologist and demographer\\\",\\n    \\\"sociologist and criminologist\\\",\\n    \\\"sociologist from\\\",\\n    \\\"sociologist and\\\",\\n    \\\"sociologist\\\",\\n]\\n\\nbusiness_farming = []\\nacademia_humanities = []\\nlaw_enf_military_operator = []\\nspiritual = []\\nsocial = []\\ncrime = []\\nevent_record_other = []\\nother_species = []\";\n",
       "                var nbb_cells = Jupyter.notebook.get_cells();\n",
       "                for (var i = 0; i < nbb_cells.length; ++i) {\n",
       "                    if (nbb_cells[i].input_prompt_number == nbb_cell_id) {\n",
       "                        if (nbb_cells[i].get_text() == nbb_unformatted_code) {\n",
       "                             nbb_cells[i].set_text(nbb_formatted_code);\n",
       "                        }\n",
       "                        break;\n",
       "                    }\n",
       "                }\n",
       "            }, 500);\n",
       "            "
      ],
      "text/plain": [
       "<IPython.core.display.Javascript object>"
      ]
     },
     "metadata": {},
     "output_type": "display_data"
    }
   ],
   "source": [
    "# Creating lists for each category\n",
    "politics_govt_law = []\n",
    "\n",
    "arts = []\n",
    "sports = [\n",
    "    \"caver\",\n",
    "]\n",
    "sciences = [\n",
    "    \"sociologist and communication scientist\",\n",
    "    \"sociologist and social justice\",\n",
    "    \"sociologist and social\",\n",
    "    \"sociologist and psychiatrist\",\n",
    "    \"sociologist and critic of systems analysis\",\n",
    "    \"sociologist of science\",\n",
    "    \"criminologist and sociologist\",\n",
    "    \"gerontologist and sociologist\",\n",
    "    \"urban sociologist\",\n",
    "    \"sociologist and patients' rights advocate\",\n",
    "    \"sociologist and statistician\",\n",
    "    \"environmental sociologist\",\n",
    "    \"sociologist and demographer\",\n",
    "    \"sociologist and criminologist\",\n",
    "    \"sociologist from\",\n",
    "    \"sociologist and\",\n",
    "    \"sociologist\",\n",
    "]\n",
    "\n",
    "business_farming = []\n",
    "academia_humanities = []\n",
    "law_enf_military_operator = []\n",
    "spiritual = []\n",
    "social = []\n",
    "crime = []\n",
    "event_record_other = []\n",
    "other_species = []"
   ]
  },
  {
   "cell_type": "markdown",
   "id": "a50b33f5",
   "metadata": {},
   "source": [
    "#### Creating `known_for_dict` Dictionary of Category Keys and Specific Role Lists of Values"
   ]
  },
  {
   "cell_type": "code",
   "execution_count": 55,
   "id": "b39a099f",
   "metadata": {},
   "outputs": [
    {
     "data": {
      "application/javascript": [
       "\n",
       "            setTimeout(function() {\n",
       "                var nbb_cell_id = 55;\n",
       "                var nbb_unformatted_code = \"# Combining separate lists into one dictionary\\nknown_for_dict = {\\n    \\\"social\\\": social,\\n    \\\"spiritual\\\": spiritual,\\n    \\\"academia_humanities\\\": academia_humanities,\\n    \\\"business_farming\\\": business_farming,\\n    \\\"sciences\\\": sciences,\\n    \\\"politics_govt_law\\\": politics_govt_law,\\n    \\\"law_enf_military_operator\\\": law_enf_military_operator,\\n    \\\"crime\\\": crime,\\n    \\\"event_record_other\\\": event_record_other,\\n    \\\"other_species\\\": other_species,\\n    \\\"arts\\\": arts,\\n    \\\"sports\\\": sports,\\n}\";\n",
       "                var nbb_formatted_code = \"# Combining separate lists into one dictionary\\nknown_for_dict = {\\n    \\\"social\\\": social,\\n    \\\"spiritual\\\": spiritual,\\n    \\\"academia_humanities\\\": academia_humanities,\\n    \\\"business_farming\\\": business_farming,\\n    \\\"sciences\\\": sciences,\\n    \\\"politics_govt_law\\\": politics_govt_law,\\n    \\\"law_enf_military_operator\\\": law_enf_military_operator,\\n    \\\"crime\\\": crime,\\n    \\\"event_record_other\\\": event_record_other,\\n    \\\"other_species\\\": other_species,\\n    \\\"arts\\\": arts,\\n    \\\"sports\\\": sports,\\n}\";\n",
       "                var nbb_cells = Jupyter.notebook.get_cells();\n",
       "                for (var i = 0; i < nbb_cells.length; ++i) {\n",
       "                    if (nbb_cells[i].input_prompt_number == nbb_cell_id) {\n",
       "                        if (nbb_cells[i].get_text() == nbb_unformatted_code) {\n",
       "                             nbb_cells[i].set_text(nbb_formatted_code);\n",
       "                        }\n",
       "                        break;\n",
       "                    }\n",
       "                }\n",
       "            }, 500);\n",
       "            "
      ],
      "text/plain": [
       "<IPython.core.display.Javascript object>"
      ]
     },
     "metadata": {},
     "output_type": "display_data"
    }
   ],
   "source": [
    "# Combining separate lists into one dictionary\n",
    "known_for_dict = {\n",
    "    \"social\": social,\n",
    "    \"spiritual\": spiritual,\n",
    "    \"academia_humanities\": academia_humanities,\n",
    "    \"business_farming\": business_farming,\n",
    "    \"sciences\": sciences,\n",
    "    \"politics_govt_law\": politics_govt_law,\n",
    "    \"law_enf_military_operator\": law_enf_military_operator,\n",
    "    \"crime\": crime,\n",
    "    \"event_record_other\": event_record_other,\n",
    "    \"other_species\": other_species,\n",
    "    \"arts\": arts,\n",
    "    \"sports\": sports,\n",
    "}"
   ]
  },
  {
   "cell_type": "markdown",
   "id": "70fe4138",
   "metadata": {},
   "source": [
    "#### Extracting Category from `info_2`"
   ]
  },
  {
   "cell_type": "code",
   "execution_count": 56,
   "id": "af9e0b56",
   "metadata": {},
   "outputs": [
    {
     "name": "stdout",
     "output_type": "stream",
     "text": [
      "CPU times: total: 9.59 s\n",
      "Wall time: 9.6 s\n"
     ]
    },
    {
     "data": {
      "text/html": [
       "<div>\n",
       "<style scoped>\n",
       "    .dataframe tbody tr th:only-of-type {\n",
       "        vertical-align: middle;\n",
       "    }\n",
       "\n",
       "    .dataframe tbody tr th {\n",
       "        vertical-align: top;\n",
       "    }\n",
       "\n",
       "    .dataframe thead th {\n",
       "        text-align: right;\n",
       "    }\n",
       "</style>\n",
       "<table border=\"1\" class=\"dataframe\">\n",
       "  <thead>\n",
       "    <tr style=\"text-align: right;\">\n",
       "      <th></th>\n",
       "      <th>day</th>\n",
       "      <th>name</th>\n",
       "      <th>info</th>\n",
       "      <th>link</th>\n",
       "      <th>num_references</th>\n",
       "      <th>year</th>\n",
       "      <th>month</th>\n",
       "      <th>info_parenth</th>\n",
       "      <th>info_1</th>\n",
       "      <th>info_2</th>\n",
       "      <th>info_3</th>\n",
       "      <th>info_4</th>\n",
       "      <th>info_5</th>\n",
       "      <th>info_6</th>\n",
       "      <th>info_7</th>\n",
       "      <th>info_8</th>\n",
       "      <th>info_9</th>\n",
       "      <th>info_10</th>\n",
       "      <th>info_11</th>\n",
       "      <th>age</th>\n",
       "      <th>cause_of_death</th>\n",
       "      <th>place_1</th>\n",
       "      <th>place_2</th>\n",
       "      <th>info_parenth_copy</th>\n",
       "      <th>log_num_references</th>\n",
       "      <th>sciences</th>\n",
       "      <th>social</th>\n",
       "      <th>spiritual</th>\n",
       "      <th>academia_humanities</th>\n",
       "      <th>business_farming</th>\n",
       "      <th>arts</th>\n",
       "      <th>sports</th>\n",
       "      <th>law_enf_military_operator</th>\n",
       "      <th>politics_govt_law</th>\n",
       "      <th>crime</th>\n",
       "      <th>event_record_other</th>\n",
       "      <th>other_species</th>\n",
       "      <th>num_categories</th>\n",
       "    </tr>\n",
       "  </thead>\n",
       "  <tbody>\n",
       "    <tr>\n",
       "      <th>7567</th>\n",
       "      <td>7</td>\n",
       "      <td>Allan McLeod Cormack</td>\n",
       "      <td>, 74, South African American physicist, cancer.</td>\n",
       "      <td>https://en.wikipedia.org/wiki/Allan_MacLeod_Cormack</td>\n",
       "      <td>4</td>\n",
       "      <td>1998</td>\n",
       "      <td>May</td>\n",
       "      <td>None</td>\n",
       "      <td>None</td>\n",
       "      <td></td>\n",
       "      <td>cancer</td>\n",
       "      <td>None</td>\n",
       "      <td>None</td>\n",
       "      <td>None</td>\n",
       "      <td>None</td>\n",
       "      <td>None</td>\n",
       "      <td>None</td>\n",
       "      <td>None</td>\n",
       "      <td>None</td>\n",
       "      <td>74.0</td>\n",
       "      <td>None</td>\n",
       "      <td>South Africa</td>\n",
       "      <td>United States of America</td>\n",
       "      <td>None</td>\n",
       "      <td>1.609438</td>\n",
       "      <td>1</td>\n",
       "      <td>0</td>\n",
       "      <td>0</td>\n",
       "      <td>0</td>\n",
       "      <td>0</td>\n",
       "      <td>0</td>\n",
       "      <td>0</td>\n",
       "      <td>0</td>\n",
       "      <td>0</td>\n",
       "      <td>0</td>\n",
       "      <td>0</td>\n",
       "      <td>0</td>\n",
       "      <td>1</td>\n",
       "    </tr>\n",
       "    <tr>\n",
       "      <th>81874</th>\n",
       "      <td>26</td>\n",
       "      <td>Oleh Hornykiewicz</td>\n",
       "      <td>, 93, Austrian biochemist, Wolf Prize winner .</td>\n",
       "      <td>https://en.wikipedia.org/wiki/Oleh_Hornykiewicz</td>\n",
       "      <td>7</td>\n",
       "      <td>2020</td>\n",
       "      <td>May</td>\n",
       "      <td></td>\n",
       "      <td>None</td>\n",
       "      <td></td>\n",
       "      <td>Wolf Prize winner</td>\n",
       "      <td>None</td>\n",
       "      <td>None</td>\n",
       "      <td>None</td>\n",
       "      <td>None</td>\n",
       "      <td>None</td>\n",
       "      <td>None</td>\n",
       "      <td>None</td>\n",
       "      <td>None</td>\n",
       "      <td>93.0</td>\n",
       "      <td>None</td>\n",
       "      <td>Austria</td>\n",
       "      <td>None</td>\n",
       "      <td>1979</td>\n",
       "      <td>2.079442</td>\n",
       "      <td>1</td>\n",
       "      <td>0</td>\n",
       "      <td>0</td>\n",
       "      <td>0</td>\n",
       "      <td>0</td>\n",
       "      <td>0</td>\n",
       "      <td>0</td>\n",
       "      <td>0</td>\n",
       "      <td>0</td>\n",
       "      <td>0</td>\n",
       "      <td>0</td>\n",
       "      <td>0</td>\n",
       "      <td>1</td>\n",
       "    </tr>\n",
       "  </tbody>\n",
       "</table>\n",
       "</div>"
      ],
      "text/plain": [
       "      day                  name  \\\n",
       "7567    7  Allan McLeod Cormack   \n",
       "81874  26     Oleh Hornykiewicz   \n",
       "\n",
       "                                                  info  \\\n",
       "7567   , 74, South African American physicist, cancer.   \n",
       "81874   , 93, Austrian biochemist, Wolf Prize winner .   \n",
       "\n",
       "                                                      link  num_references  \\\n",
       "7567   https://en.wikipedia.org/wiki/Allan_MacLeod_Cormack               4   \n",
       "81874      https://en.wikipedia.org/wiki/Oleh_Hornykiewicz               7   \n",
       "\n",
       "       year month info_parenth info_1 info_2             info_3 info_4 info_5  \\\n",
       "7567   1998   May         None   None                    cancer   None   None   \n",
       "81874  2020   May                None         Wolf Prize winner   None   None   \n",
       "\n",
       "      info_6 info_7 info_8 info_9 info_10 info_11   age cause_of_death  \\\n",
       "7567    None   None   None   None    None    None  74.0           None   \n",
       "81874   None   None   None   None    None    None  93.0           None   \n",
       "\n",
       "            place_1                   place_2 info_parenth_copy  \\\n",
       "7567   South Africa  United States of America              None   \n",
       "81874       Austria                      None              1979   \n",
       "\n",
       "       log_num_references  sciences  social  spiritual  academia_humanities  \\\n",
       "7567             1.609438         1       0          0                    0   \n",
       "81874            2.079442         1       0          0                    0   \n",
       "\n",
       "       business_farming  arts  sports  law_enf_military_operator  \\\n",
       "7567                  0     0       0                          0   \n",
       "81874                 0     0       0                          0   \n",
       "\n",
       "       politics_govt_law  crime  event_record_other  other_species  \\\n",
       "7567                   0      0                   0              0   \n",
       "81874                  0      0                   0              0   \n",
       "\n",
       "       num_categories  \n",
       "7567                1  \n",
       "81874               1  "
      ]
     },
     "execution_count": 56,
     "metadata": {},
     "output_type": "execute_result"
    },
    {
     "data": {
      "application/javascript": [
       "\n",
       "            setTimeout(function() {\n",
       "                var nbb_cell_id = 56;\n",
       "                var nbb_unformatted_code = \"%%time\\n\\n# Dictionary version\\nsearch_dict = known_for_dict\\n\\n# Column to check\\ncolumn = 'info_2'\\n\\n# Dataframe\\ndataframe = df[column].notna()\\n\\n# For loop to find role in column and extract it as category\\nfor category, category_lst in search_dict.items():\\n    for role in category_lst:\\n        for index in dataframe.index:\\n            item = df.loc[index, column]\\n            if item:\\n                if role in item:\\n                    df.loc[index, category] = 1\\n                    df.loc[index, column] = item.replace(role, '').strip()\\n\\n# Updating num_categories\\ndf[\\\"num_categories\\\"] = df[known_for_dict.keys()].sum(axis=1)\\n\\n# Checking a sample of rows\\ndf[df['sciences'] ==1].sample(2)\";\n",
       "                var nbb_formatted_code = \"%%time\\n\\n# Dictionary version\\nsearch_dict = known_for_dict\\n\\n# Column to check\\ncolumn = 'info_2'\\n\\n# Dataframe\\ndataframe = df[column].notna()\\n\\n# For loop to find role in column and extract it as category\\nfor category, category_lst in search_dict.items():\\n    for role in category_lst:\\n        for index in dataframe.index:\\n            item = df.loc[index, column]\\n            if item:\\n                if role in item:\\n                    df.loc[index, category] = 1\\n                    df.loc[index, column] = item.replace(role, '').strip()\\n\\n# Updating num_categories\\ndf[\\\"num_categories\\\"] = df[known_for_dict.keys()].sum(axis=1)\\n\\n# Checking a sample of rows\\ndf[df['sciences'] ==1].sample(2)\";\n",
       "                var nbb_cells = Jupyter.notebook.get_cells();\n",
       "                for (var i = 0; i < nbb_cells.length; ++i) {\n",
       "                    if (nbb_cells[i].input_prompt_number == nbb_cell_id) {\n",
       "                        if (nbb_cells[i].get_text() == nbb_unformatted_code) {\n",
       "                             nbb_cells[i].set_text(nbb_formatted_code);\n",
       "                        }\n",
       "                        break;\n",
       "                    }\n",
       "                }\n",
       "            }, 500);\n",
       "            "
      ],
      "text/plain": [
       "<IPython.core.display.Javascript object>"
      ]
     },
     "metadata": {},
     "output_type": "display_data"
    }
   ],
   "source": [
    "%%time\n",
    "\n",
    "# Dictionary version\n",
    "search_dict = known_for_dict\n",
    "\n",
    "# Column to check\n",
    "column = 'info_2'\n",
    "\n",
    "# Dataframe\n",
    "dataframe = df[column].notna()\n",
    "\n",
    "# For loop to find role in column and extract it as category\n",
    "for category, category_lst in search_dict.items():\n",
    "    for role in category_lst:\n",
    "        for index in dataframe.index:\n",
    "            item = df.loc[index, column]\n",
    "            if item:\n",
    "                if role in item:\n",
    "                    df.loc[index, category] = 1\n",
    "                    df.loc[index, column] = item.replace(role, '').strip()\n",
    "\n",
    "# Updating num_categories\n",
    "df[\"num_categories\"] = df[known_for_dict.keys()].sum(axis=1)\n",
    "\n",
    "# Checking a sample of rows\n",
    "df[df['sciences'] ==1].sample(2)"
   ]
  },
  {
   "cell_type": "markdown",
   "id": "1c2c1191",
   "metadata": {},
   "source": [
    "#### Checking the Number of Rows without a First Category"
   ]
  },
  {
   "cell_type": "code",
   "execution_count": 57,
   "id": "3a852638",
   "metadata": {},
   "outputs": [
    {
     "name": "stdout",
     "output_type": "stream",
     "text": [
      "There are 36474 entries without any known_for category.\n"
     ]
    },
    {
     "data": {
      "application/javascript": [
       "\n",
       "            setTimeout(function() {\n",
       "                var nbb_cell_id = 57;\n",
       "                var nbb_unformatted_code = \"# Checking the number of rows without a first category\\nprint(\\n    f'There are {len(df[df[\\\"num_categories\\\"]==0])} entries without any known_for category.'\\n)\";\n",
       "                var nbb_formatted_code = \"# Checking the number of rows without a first category\\nprint(\\n    f'There are {len(df[df[\\\"num_categories\\\"]==0])} entries without any known_for category.'\\n)\";\n",
       "                var nbb_cells = Jupyter.notebook.get_cells();\n",
       "                for (var i = 0; i < nbb_cells.length; ++i) {\n",
       "                    if (nbb_cells[i].input_prompt_number == nbb_cell_id) {\n",
       "                        if (nbb_cells[i].get_text() == nbb_unformatted_code) {\n",
       "                             nbb_cells[i].set_text(nbb_formatted_code);\n",
       "                        }\n",
       "                        break;\n",
       "                    }\n",
       "                }\n",
       "            }, 500);\n",
       "            "
      ],
      "text/plain": [
       "<IPython.core.display.Javascript object>"
      ]
     },
     "metadata": {},
     "output_type": "display_data"
    }
   ],
   "source": [
    "# Checking the number of rows without a first category\n",
    "print(\n",
    "    f'There are {len(df[df[\"num_categories\"]==0])} entries without any known_for category.'\n",
    ")"
   ]
  },
  {
   "cell_type": "markdown",
   "id": "1d8519f6",
   "metadata": {},
   "source": [
    "#### Observations:\n",
    "- We will proceed to rebuild `known_for_dict` for the next iteration."
   ]
  },
  {
   "cell_type": "markdown",
   "id": "a746efac",
   "metadata": {},
   "source": [
    "#### Finding `known_for` Roles in `info_2`"
   ]
  },
  {
   "cell_type": "code",
   "execution_count": 58,
   "id": "98796492",
   "metadata": {},
   "outputs": [
    {
     "data": {
      "application/javascript": [
       "\n",
       "            setTimeout(function() {\n",
       "                var nbb_cell_id = 58;\n",
       "                var nbb_unformatted_code = \"# Obtaining values for column and their counts\\nroles_list = df[\\\"info_2\\\"].value_counts(ascending=True).index.tolist()\";\n",
       "                var nbb_formatted_code = \"# Obtaining values for column and their counts\\nroles_list = df[\\\"info_2\\\"].value_counts(ascending=True).index.tolist()\";\n",
       "                var nbb_cells = Jupyter.notebook.get_cells();\n",
       "                for (var i = 0; i < nbb_cells.length; ++i) {\n",
       "                    if (nbb_cells[i].input_prompt_number == nbb_cell_id) {\n",
       "                        if (nbb_cells[i].get_text() == nbb_unformatted_code) {\n",
       "                             nbb_cells[i].set_text(nbb_formatted_code);\n",
       "                        }\n",
       "                        break;\n",
       "                    }\n",
       "                }\n",
       "            }, 500);\n",
       "            "
      ],
      "text/plain": [
       "<IPython.core.display.Javascript object>"
      ]
     },
     "metadata": {},
     "output_type": "display_data"
    }
   ],
   "source": [
    "# Obtaining values for column and their counts\n",
    "roles_list = df[\"info_2\"].value_counts(ascending=True).index.tolist()"
   ]
  },
  {
   "cell_type": "code",
   "execution_count": 59,
   "id": "279f0a73",
   "metadata": {},
   "outputs": [
    {
     "data": {
      "application/javascript": [
       "\n",
       "            setTimeout(function() {\n",
       "                var nbb_cell_id = 59;\n",
       "                var nbb_unformatted_code = \"# # Code to check each value\\n# roles_list.pop()\";\n",
       "                var nbb_formatted_code = \"# # Code to check each value\\n# roles_list.pop()\";\n",
       "                var nbb_cells = Jupyter.notebook.get_cells();\n",
       "                for (var i = 0; i < nbb_cells.length; ++i) {\n",
       "                    if (nbb_cells[i].input_prompt_number == nbb_cell_id) {\n",
       "                        if (nbb_cells[i].get_text() == nbb_unformatted_code) {\n",
       "                             nbb_cells[i].set_text(nbb_formatted_code);\n",
       "                        }\n",
       "                        break;\n",
       "                    }\n",
       "                }\n",
       "            }, 500);\n",
       "            "
      ],
      "text/plain": [
       "<IPython.core.display.Javascript object>"
      ]
     },
     "metadata": {},
     "output_type": "display_data"
    }
   ],
   "source": [
    "# # Code to check each value\n",
    "# roles_list.pop()"
   ]
  },
  {
   "cell_type": "code",
   "execution_count": 60,
   "id": "23cadbb9",
   "metadata": {},
   "outputs": [
    {
     "data": {
      "application/javascript": [
       "\n",
       "            setTimeout(function() {\n",
       "                var nbb_cell_id = 60;\n",
       "                var nbb_unformatted_code = \"# # Create specific_roles_list for above popped value\\n# specific_roles_list = (\\n#     df.loc[\\n#         [index for index in df.index if \\\"psychologist\\\" in df.loc[index, \\\"info\\\"]],\\n#         \\\"info_2\\\",\\n#     ]\\n#     .value_counts()\\n#     .index.tolist()\\n# )\";\n",
       "                var nbb_formatted_code = \"# # Create specific_roles_list for above popped value\\n# specific_roles_list = (\\n#     df.loc[\\n#         [index for index in df.index if \\\"psychologist\\\" in df.loc[index, \\\"info\\\"]],\\n#         \\\"info_2\\\",\\n#     ]\\n#     .value_counts()\\n#     .index.tolist()\\n# )\";\n",
       "                var nbb_cells = Jupyter.notebook.get_cells();\n",
       "                for (var i = 0; i < nbb_cells.length; ++i) {\n",
       "                    if (nbb_cells[i].input_prompt_number == nbb_cell_id) {\n",
       "                        if (nbb_cells[i].get_text() == nbb_unformatted_code) {\n",
       "                             nbb_cells[i].set_text(nbb_formatted_code);\n",
       "                        }\n",
       "                        break;\n",
       "                    }\n",
       "                }\n",
       "            }, 500);\n",
       "            "
      ],
      "text/plain": [
       "<IPython.core.display.Javascript object>"
      ]
     },
     "metadata": {},
     "output_type": "display_data"
    }
   ],
   "source": [
    "# # Create specific_roles_list for above popped value\n",
    "# specific_roles_list = (\n",
    "#     df.loc[\n",
    "#         [index for index in df.index if \"psychologist\" in df.loc[index, \"info\"]],\n",
    "#         \"info_2\",\n",
    "#     ]\n",
    "#     .value_counts()\n",
    "#     .index.tolist()\n",
    "# )"
   ]
  },
  {
   "cell_type": "code",
   "execution_count": 61,
   "id": "ab5b0a50",
   "metadata": {},
   "outputs": [
    {
     "data": {
      "application/javascript": [
       "\n",
       "            setTimeout(function() {\n",
       "                var nbb_cell_id = 61;\n",
       "                var nbb_unformatted_code = \"# # Code to check each specific value\\n# specific_roles_list.pop()\";\n",
       "                var nbb_formatted_code = \"# # Code to check each specific value\\n# specific_roles_list.pop()\";\n",
       "                var nbb_cells = Jupyter.notebook.get_cells();\n",
       "                for (var i = 0; i < nbb_cells.length; ++i) {\n",
       "                    if (nbb_cells[i].input_prompt_number == nbb_cell_id) {\n",
       "                        if (nbb_cells[i].get_text() == nbb_unformatted_code) {\n",
       "                             nbb_cells[i].set_text(nbb_formatted_code);\n",
       "                        }\n",
       "                        break;\n",
       "                    }\n",
       "                }\n",
       "            }, 500);\n",
       "            "
      ],
      "text/plain": [
       "<IPython.core.display.Javascript object>"
      ]
     },
     "metadata": {},
     "output_type": "display_data"
    }
   ],
   "source": [
    "# # Code to check each specific value\n",
    "# specific_roles_list.pop()"
   ]
  },
  {
   "cell_type": "code",
   "execution_count": 62,
   "id": "52f24c88",
   "metadata": {
    "scrolled": false
   },
   "outputs": [
    {
     "data": {
      "application/javascript": [
       "\n",
       "            setTimeout(function() {\n",
       "                var nbb_cell_id = 62;\n",
       "                var nbb_unformatted_code = \"# # Example code to quick-screen values that may overlap categories\\n# df.loc[\\n#     [\\n#         index\\n#         for index in df.index\\n#         if \\\"and pastoral psychologist\\\" in df.loc[index, \\\"info\\\"]\\n#     ]\\n# ]\";\n",
       "                var nbb_formatted_code = \"# # Example code to quick-screen values that may overlap categories\\n# df.loc[\\n#     [\\n#         index\\n#         for index in df.index\\n#         if \\\"and pastoral psychologist\\\" in df.loc[index, \\\"info\\\"]\\n#     ]\\n# ]\";\n",
       "                var nbb_cells = Jupyter.notebook.get_cells();\n",
       "                for (var i = 0; i < nbb_cells.length; ++i) {\n",
       "                    if (nbb_cells[i].input_prompt_number == nbb_cell_id) {\n",
       "                        if (nbb_cells[i].get_text() == nbb_unformatted_code) {\n",
       "                             nbb_cells[i].set_text(nbb_formatted_code);\n",
       "                        }\n",
       "                        break;\n",
       "                    }\n",
       "                }\n",
       "            }, 500);\n",
       "            "
      ],
      "text/plain": [
       "<IPython.core.display.Javascript object>"
      ]
     },
     "metadata": {},
     "output_type": "display_data"
    }
   ],
   "source": [
    "# # Example code to quick-screen values that may overlap categories\n",
    "# df.loc[\n",
    "#     [\n",
    "#         index\n",
    "#         for index in df.index\n",
    "#         if \"and pastoral psychologist\" in df.loc[index, \"info\"]\n",
    "#     ]\n",
    "# ]"
   ]
  },
  {
   "cell_type": "code",
   "execution_count": 63,
   "id": "21f1f47c",
   "metadata": {},
   "outputs": [
    {
     "data": {
      "application/javascript": [
       "\n",
       "            setTimeout(function() {\n",
       "                var nbb_cell_id = 63;\n",
       "                var nbb_unformatted_code = \"# # Example code to quick-screen values that may overlap categories\\n# df.loc[\\n#     [\\n#         index\\n#         for index in df.index\\n#         if \\\"outlaw country music singer songwriter\\\" in df.loc[index, \\\"info\\\"]\\n#     ]\\n# ]\";\n",
       "                var nbb_formatted_code = \"# # Example code to quick-screen values that may overlap categories\\n# df.loc[\\n#     [\\n#         index\\n#         for index in df.index\\n#         if \\\"outlaw country music singer songwriter\\\" in df.loc[index, \\\"info\\\"]\\n#     ]\\n# ]\";\n",
       "                var nbb_cells = Jupyter.notebook.get_cells();\n",
       "                for (var i = 0; i < nbb_cells.length; ++i) {\n",
       "                    if (nbb_cells[i].input_prompt_number == nbb_cell_id) {\n",
       "                        if (nbb_cells[i].get_text() == nbb_unformatted_code) {\n",
       "                             nbb_cells[i].set_text(nbb_formatted_code);\n",
       "                        }\n",
       "                        break;\n",
       "                    }\n",
       "                }\n",
       "            }, 500);\n",
       "            "
      ],
      "text/plain": [
       "<IPython.core.display.Javascript object>"
      ]
     },
     "metadata": {},
     "output_type": "display_data"
    }
   ],
   "source": [
    "# # Example code to quick-screen values that may overlap categories\n",
    "# df.loc[\n",
    "#     [\n",
    "#         index\n",
    "#         for index in df.index\n",
    "#         if \"outlaw country music singer songwriter\" in df.loc[index, \"info\"]\n",
    "#     ]\n",
    "# ]"
   ]
  },
  {
   "cell_type": "code",
   "execution_count": 64,
   "id": "ebed3838",
   "metadata": {},
   "outputs": [
    {
     "data": {
      "application/javascript": [
       "\n",
       "            setTimeout(function() {\n",
       "                var nbb_cell_id = 64;\n",
       "                var nbb_unformatted_code = \"# # Example code to quick-check a specific entry\\n# df[df[\\\"info_2\\\"] == \\\"educational psychologist\\\"]\";\n",
       "                var nbb_formatted_code = \"# # Example code to quick-check a specific entry\\n# df[df[\\\"info_2\\\"] == \\\"educational psychologist\\\"]\";\n",
       "                var nbb_cells = Jupyter.notebook.get_cells();\n",
       "                for (var i = 0; i < nbb_cells.length; ++i) {\n",
       "                    if (nbb_cells[i].input_prompt_number == nbb_cell_id) {\n",
       "                        if (nbb_cells[i].get_text() == nbb_unformatted_code) {\n",
       "                             nbb_cells[i].set_text(nbb_formatted_code);\n",
       "                        }\n",
       "                        break;\n",
       "                    }\n",
       "                }\n",
       "            }, 500);\n",
       "            "
      ],
      "text/plain": [
       "<IPython.core.display.Javascript object>"
      ]
     },
     "metadata": {},
     "output_type": "display_data"
    }
   ],
   "source": [
    "# # Example code to quick-check a specific entry\n",
    "# df[df[\"info_2\"] == \"educational psychologist\"]"
   ]
  },
  {
   "cell_type": "markdown",
   "id": "0e5c1e10",
   "metadata": {},
   "source": [
    "#### Creating Lists for Each `known_for` Category"
   ]
  },
  {
   "cell_type": "code",
   "execution_count": 65,
   "id": "e1d3a5b3",
   "metadata": {},
   "outputs": [
    {
     "data": {
      "application/javascript": [
       "\n",
       "            setTimeout(function() {\n",
       "                var nbb_cell_id = 65;\n",
       "                var nbb_unformatted_code = \"# Creating lists for each category\\npolitics_govt_law = [\\\"children ombudsman\\\"]\\n\\narts = []\\nsports = []\\nsciences = [\\n    \\\"clinical psychologist and researcher\\\",\\n    \\\"psychologist renowned for his critical studies of hypnosis\\\",\\n    \\\"psychologist and expert in the work of Alfred Adler\\\",\\n    \\\"psychologist and sex researcher at Johns Hopkins University\\\",\\n    \\\"psychologist and methodologist\\\",\\n    \\\"psychologist known for his pioneering work in autism treatment\\\",\\n    \\\"psychologist and women reproductive health\\\",\\n    \\\"traffic psychologist\\\",\\n    \\\"psychologist and researcher\\\",\\n    \\\"psychologist and former head of the Psychological Association\\\",\\n    \\\"correctional psychologist and criminologist\\\",\\n    \\\"behavioral geneticist and psychologist\\\",\\n    \\\"psychologist and psychoanalyst\\\",\\n    \\\"psychologist at University\\\",\\n    \\\"existential psychologist\\\",\\n    \\\"psychologist who specialized in developmental psychology\\\",\\n    \\\"psychologist and a pioneer in experimental psychology\\\",\\n    \\\"child development psychologist\\\",\\n    \\\"development psychologist\\\",\\n    \\\"psychologist and statistician\\\",\\n    \\\"pediatric psychologist\\\",\\n    \\\"psychologist from the Antilles\\\",\\n    \\\"social psychologist and sexologist\\\",\\n    \\\"psychologist and sleep researcher\\\",\\n    \\\"psychologist and computer science researcher\\\",\\n    \\\"social psychologist and criminologist\\\",\\n    \\\"parapsychologist and ufologist\\\",\\n    \\\"mathematical psychologist and\\\",\\n    \\\"mathematical psychologist\\\",\\n    \\\"engineering psychologist\\\",\\n    \\\"psychiatrist and parapsychologist\\\",\\n    \\\"psychologist and anti divorce\\\",\\n    \\\"evolutionary psychologist\\\",\\n    \\\"sexologist and psychologist\\\",\\n    \\\"systems psychologist\\\",\\n    \\\"environmental psychologist\\\",\\n    \\\"psychologist and self help\\\",\\n    \\\"and pastoral psychologist\\\",\\n    \\\"organizational psychologist\\\",\\n    \\\"neuroscientist and psychologist\\\",\\n    \\\"child psychologist and\\\",\\n    \\\"child psychologist\\\",\\n    \\\"psychologist and parapsychologist\\\",\\n    \\\"experimental psychologist\\\",\\n    \\\"psychologist and neuroscientist\\\",\\n    \\\"parapsychologist and\\\",\\n    \\\"and parapsychologist\\\",\\n    \\\"parapsychologist\\\",\\n    \\\"neuropsychologist\\\",\\n    \\\"cognitive psychologist\\\",\\n    \\\"developmental psychologist\\\",\\n    \\\"clinical psychologist\\\",\\n    \\\"social psychologist\\\",\\n    \\\"behavioral psychologist\\\",\\n    \\\"Jungian psychologist and\\\",\\n    \\\"and psychologist\\\",\\n    \\\"psychologist and\\\",\\n    \\\"psychologist\\\",\\n]\\n\\nbusiness_farming = []\\nacademia_humanities = []\\nlaw_enf_military_operator = []\\nspiritual = []\\nsocial = []\\ncrime = []\\nevent_record_other = []\\nother_species = []\";\n",
       "                var nbb_formatted_code = \"# Creating lists for each category\\npolitics_govt_law = [\\\"children ombudsman\\\"]\\n\\narts = []\\nsports = []\\nsciences = [\\n    \\\"clinical psychologist and researcher\\\",\\n    \\\"psychologist renowned for his critical studies of hypnosis\\\",\\n    \\\"psychologist and expert in the work of Alfred Adler\\\",\\n    \\\"psychologist and sex researcher at Johns Hopkins University\\\",\\n    \\\"psychologist and methodologist\\\",\\n    \\\"psychologist known for his pioneering work in autism treatment\\\",\\n    \\\"psychologist and women reproductive health\\\",\\n    \\\"traffic psychologist\\\",\\n    \\\"psychologist and researcher\\\",\\n    \\\"psychologist and former head of the Psychological Association\\\",\\n    \\\"correctional psychologist and criminologist\\\",\\n    \\\"behavioral geneticist and psychologist\\\",\\n    \\\"psychologist and psychoanalyst\\\",\\n    \\\"psychologist at University\\\",\\n    \\\"existential psychologist\\\",\\n    \\\"psychologist who specialized in developmental psychology\\\",\\n    \\\"psychologist and a pioneer in experimental psychology\\\",\\n    \\\"child development psychologist\\\",\\n    \\\"development psychologist\\\",\\n    \\\"psychologist and statistician\\\",\\n    \\\"pediatric psychologist\\\",\\n    \\\"psychologist from the Antilles\\\",\\n    \\\"social psychologist and sexologist\\\",\\n    \\\"psychologist and sleep researcher\\\",\\n    \\\"psychologist and computer science researcher\\\",\\n    \\\"social psychologist and criminologist\\\",\\n    \\\"parapsychologist and ufologist\\\",\\n    \\\"mathematical psychologist and\\\",\\n    \\\"mathematical psychologist\\\",\\n    \\\"engineering psychologist\\\",\\n    \\\"psychiatrist and parapsychologist\\\",\\n    \\\"psychologist and anti divorce\\\",\\n    \\\"evolutionary psychologist\\\",\\n    \\\"sexologist and psychologist\\\",\\n    \\\"systems psychologist\\\",\\n    \\\"environmental psychologist\\\",\\n    \\\"psychologist and self help\\\",\\n    \\\"and pastoral psychologist\\\",\\n    \\\"organizational psychologist\\\",\\n    \\\"neuroscientist and psychologist\\\",\\n    \\\"child psychologist and\\\",\\n    \\\"child psychologist\\\",\\n    \\\"psychologist and parapsychologist\\\",\\n    \\\"experimental psychologist\\\",\\n    \\\"psychologist and neuroscientist\\\",\\n    \\\"parapsychologist and\\\",\\n    \\\"and parapsychologist\\\",\\n    \\\"parapsychologist\\\",\\n    \\\"neuropsychologist\\\",\\n    \\\"cognitive psychologist\\\",\\n    \\\"developmental psychologist\\\",\\n    \\\"clinical psychologist\\\",\\n    \\\"social psychologist\\\",\\n    \\\"behavioral psychologist\\\",\\n    \\\"Jungian psychologist and\\\",\\n    \\\"and psychologist\\\",\\n    \\\"psychologist and\\\",\\n    \\\"psychologist\\\",\\n]\\n\\nbusiness_farming = []\\nacademia_humanities = []\\nlaw_enf_military_operator = []\\nspiritual = []\\nsocial = []\\ncrime = []\\nevent_record_other = []\\nother_species = []\";\n",
       "                var nbb_cells = Jupyter.notebook.get_cells();\n",
       "                for (var i = 0; i < nbb_cells.length; ++i) {\n",
       "                    if (nbb_cells[i].input_prompt_number == nbb_cell_id) {\n",
       "                        if (nbb_cells[i].get_text() == nbb_unformatted_code) {\n",
       "                             nbb_cells[i].set_text(nbb_formatted_code);\n",
       "                        }\n",
       "                        break;\n",
       "                    }\n",
       "                }\n",
       "            }, 500);\n",
       "            "
      ],
      "text/plain": [
       "<IPython.core.display.Javascript object>"
      ]
     },
     "metadata": {},
     "output_type": "display_data"
    }
   ],
   "source": [
    "# Creating lists for each category\n",
    "politics_govt_law = [\"children ombudsman\"]\n",
    "\n",
    "arts = []\n",
    "sports = []\n",
    "sciences = [\n",
    "    \"clinical psychologist and researcher\",\n",
    "    \"psychologist renowned for his critical studies of hypnosis\",\n",
    "    \"psychologist and expert in the work of Alfred Adler\",\n",
    "    \"psychologist and sex researcher at Johns Hopkins University\",\n",
    "    \"psychologist and methodologist\",\n",
    "    \"psychologist known for his pioneering work in autism treatment\",\n",
    "    \"psychologist and women reproductive health\",\n",
    "    \"traffic psychologist\",\n",
    "    \"psychologist and researcher\",\n",
    "    \"psychologist and former head of the Psychological Association\",\n",
    "    \"correctional psychologist and criminologist\",\n",
    "    \"behavioral geneticist and psychologist\",\n",
    "    \"psychologist and psychoanalyst\",\n",
    "    \"psychologist at University\",\n",
    "    \"existential psychologist\",\n",
    "    \"psychologist who specialized in developmental psychology\",\n",
    "    \"psychologist and a pioneer in experimental psychology\",\n",
    "    \"child development psychologist\",\n",
    "    \"development psychologist\",\n",
    "    \"psychologist and statistician\",\n",
    "    \"pediatric psychologist\",\n",
    "    \"psychologist from the Antilles\",\n",
    "    \"social psychologist and sexologist\",\n",
    "    \"psychologist and sleep researcher\",\n",
    "    \"psychologist and computer science researcher\",\n",
    "    \"social psychologist and criminologist\",\n",
    "    \"parapsychologist and ufologist\",\n",
    "    \"mathematical psychologist and\",\n",
    "    \"mathematical psychologist\",\n",
    "    \"engineering psychologist\",\n",
    "    \"psychiatrist and parapsychologist\",\n",
    "    \"psychologist and anti divorce\",\n",
    "    \"evolutionary psychologist\",\n",
    "    \"sexologist and psychologist\",\n",
    "    \"systems psychologist\",\n",
    "    \"environmental psychologist\",\n",
    "    \"psychologist and self help\",\n",
    "    \"and pastoral psychologist\",\n",
    "    \"organizational psychologist\",\n",
    "    \"neuroscientist and psychologist\",\n",
    "    \"child psychologist and\",\n",
    "    \"child psychologist\",\n",
    "    \"psychologist and parapsychologist\",\n",
    "    \"experimental psychologist\",\n",
    "    \"psychologist and neuroscientist\",\n",
    "    \"parapsychologist and\",\n",
    "    \"and parapsychologist\",\n",
    "    \"parapsychologist\",\n",
    "    \"neuropsychologist\",\n",
    "    \"cognitive psychologist\",\n",
    "    \"developmental psychologist\",\n",
    "    \"clinical psychologist\",\n",
    "    \"social psychologist\",\n",
    "    \"behavioral psychologist\",\n",
    "    \"Jungian psychologist and\",\n",
    "    \"and psychologist\",\n",
    "    \"psychologist and\",\n",
    "    \"psychologist\",\n",
    "]\n",
    "\n",
    "business_farming = []\n",
    "academia_humanities = []\n",
    "law_enf_military_operator = []\n",
    "spiritual = []\n",
    "social = []\n",
    "crime = []\n",
    "event_record_other = []\n",
    "other_species = []"
   ]
  },
  {
   "cell_type": "markdown",
   "id": "63a00670",
   "metadata": {},
   "source": [
    "#### Creating `known_for_dict` Dictionary of Category Keys and Specific Role Lists of Values"
   ]
  },
  {
   "cell_type": "code",
   "execution_count": 66,
   "id": "f8746ce5",
   "metadata": {},
   "outputs": [
    {
     "data": {
      "application/javascript": [
       "\n",
       "            setTimeout(function() {\n",
       "                var nbb_cell_id = 66;\n",
       "                var nbb_unformatted_code = \"# Combining separate lists into one dictionary\\nknown_for_dict = {\\n    \\\"social\\\": social,\\n    \\\"spiritual\\\": spiritual,\\n    \\\"academia_humanities\\\": academia_humanities,\\n    \\\"business_farming\\\": business_farming,\\n    \\\"sciences\\\": sciences,\\n    \\\"politics_govt_law\\\": politics_govt_law,\\n    \\\"law_enf_military_operator\\\": law_enf_military_operator,\\n    \\\"crime\\\": crime,\\n    \\\"event_record_other\\\": event_record_other,\\n    \\\"other_species\\\": other_species,\\n    \\\"arts\\\": arts,\\n    \\\"sports\\\": sports,\\n}\";\n",
       "                var nbb_formatted_code = \"# Combining separate lists into one dictionary\\nknown_for_dict = {\\n    \\\"social\\\": social,\\n    \\\"spiritual\\\": spiritual,\\n    \\\"academia_humanities\\\": academia_humanities,\\n    \\\"business_farming\\\": business_farming,\\n    \\\"sciences\\\": sciences,\\n    \\\"politics_govt_law\\\": politics_govt_law,\\n    \\\"law_enf_military_operator\\\": law_enf_military_operator,\\n    \\\"crime\\\": crime,\\n    \\\"event_record_other\\\": event_record_other,\\n    \\\"other_species\\\": other_species,\\n    \\\"arts\\\": arts,\\n    \\\"sports\\\": sports,\\n}\";\n",
       "                var nbb_cells = Jupyter.notebook.get_cells();\n",
       "                for (var i = 0; i < nbb_cells.length; ++i) {\n",
       "                    if (nbb_cells[i].input_prompt_number == nbb_cell_id) {\n",
       "                        if (nbb_cells[i].get_text() == nbb_unformatted_code) {\n",
       "                             nbb_cells[i].set_text(nbb_formatted_code);\n",
       "                        }\n",
       "                        break;\n",
       "                    }\n",
       "                }\n",
       "            }, 500);\n",
       "            "
      ],
      "text/plain": [
       "<IPython.core.display.Javascript object>"
      ]
     },
     "metadata": {},
     "output_type": "display_data"
    }
   ],
   "source": [
    "# Combining separate lists into one dictionary\n",
    "known_for_dict = {\n",
    "    \"social\": social,\n",
    "    \"spiritual\": spiritual,\n",
    "    \"academia_humanities\": academia_humanities,\n",
    "    \"business_farming\": business_farming,\n",
    "    \"sciences\": sciences,\n",
    "    \"politics_govt_law\": politics_govt_law,\n",
    "    \"law_enf_military_operator\": law_enf_military_operator,\n",
    "    \"crime\": crime,\n",
    "    \"event_record_other\": event_record_other,\n",
    "    \"other_species\": other_species,\n",
    "    \"arts\": arts,\n",
    "    \"sports\": sports,\n",
    "}"
   ]
  },
  {
   "cell_type": "markdown",
   "id": "516d056f",
   "metadata": {},
   "source": [
    "#### Extracting Category from `info_2`"
   ]
  },
  {
   "cell_type": "code",
   "execution_count": 67,
   "id": "ae6c936a",
   "metadata": {},
   "outputs": [
    {
     "name": "stdout",
     "output_type": "stream",
     "text": [
      "CPU times: total: 30.4 s\n",
      "Wall time: 30.4 s\n"
     ]
    },
    {
     "data": {
      "text/html": [
       "<div>\n",
       "<style scoped>\n",
       "    .dataframe tbody tr th:only-of-type {\n",
       "        vertical-align: middle;\n",
       "    }\n",
       "\n",
       "    .dataframe tbody tr th {\n",
       "        vertical-align: top;\n",
       "    }\n",
       "\n",
       "    .dataframe thead th {\n",
       "        text-align: right;\n",
       "    }\n",
       "</style>\n",
       "<table border=\"1\" class=\"dataframe\">\n",
       "  <thead>\n",
       "    <tr style=\"text-align: right;\">\n",
       "      <th></th>\n",
       "      <th>day</th>\n",
       "      <th>name</th>\n",
       "      <th>info</th>\n",
       "      <th>link</th>\n",
       "      <th>num_references</th>\n",
       "      <th>year</th>\n",
       "      <th>month</th>\n",
       "      <th>info_parenth</th>\n",
       "      <th>info_1</th>\n",
       "      <th>info_2</th>\n",
       "      <th>info_3</th>\n",
       "      <th>info_4</th>\n",
       "      <th>info_5</th>\n",
       "      <th>info_6</th>\n",
       "      <th>info_7</th>\n",
       "      <th>info_8</th>\n",
       "      <th>info_9</th>\n",
       "      <th>info_10</th>\n",
       "      <th>info_11</th>\n",
       "      <th>age</th>\n",
       "      <th>cause_of_death</th>\n",
       "      <th>place_1</th>\n",
       "      <th>place_2</th>\n",
       "      <th>info_parenth_copy</th>\n",
       "      <th>log_num_references</th>\n",
       "      <th>sciences</th>\n",
       "      <th>social</th>\n",
       "      <th>spiritual</th>\n",
       "      <th>academia_humanities</th>\n",
       "      <th>business_farming</th>\n",
       "      <th>arts</th>\n",
       "      <th>sports</th>\n",
       "      <th>law_enf_military_operator</th>\n",
       "      <th>politics_govt_law</th>\n",
       "      <th>crime</th>\n",
       "      <th>event_record_other</th>\n",
       "      <th>other_species</th>\n",
       "      <th>num_categories</th>\n",
       "    </tr>\n",
       "  </thead>\n",
       "  <tbody>\n",
       "    <tr>\n",
       "      <th>10194</th>\n",
       "      <td>30</td>\n",
       "      <td>Sam Treiman</td>\n",
       "      <td>, 74, American theoretical physicist, leukemia.</td>\n",
       "      <td>https://en.wikipedia.org/wiki/Sam_Treiman</td>\n",
       "      <td>9</td>\n",
       "      <td>1999</td>\n",
       "      <td>November</td>\n",
       "      <td>None</td>\n",
       "      <td>None</td>\n",
       "      <td></td>\n",
       "      <td>leukemia</td>\n",
       "      <td>None</td>\n",
       "      <td>None</td>\n",
       "      <td>None</td>\n",
       "      <td>None</td>\n",
       "      <td>None</td>\n",
       "      <td>None</td>\n",
       "      <td>None</td>\n",
       "      <td>None</td>\n",
       "      <td>74.0</td>\n",
       "      <td>None</td>\n",
       "      <td>United States of America</td>\n",
       "      <td>None</td>\n",
       "      <td>None</td>\n",
       "      <td>2.302585</td>\n",
       "      <td>1</td>\n",
       "      <td>0</td>\n",
       "      <td>0</td>\n",
       "      <td>0</td>\n",
       "      <td>0</td>\n",
       "      <td>0</td>\n",
       "      <td>0</td>\n",
       "      <td>0</td>\n",
       "      <td>0</td>\n",
       "      <td>0</td>\n",
       "      <td>0</td>\n",
       "      <td>0</td>\n",
       "      <td>1</td>\n",
       "    </tr>\n",
       "    <tr>\n",
       "      <th>25564</th>\n",
       "      <td>9</td>\n",
       "      <td>James Atkinson</td>\n",
       "      <td>, 92, British physicist.</td>\n",
       "      <td>https://en.wikipedia.org/wiki/James_Atkinson_(physicist)</td>\n",
       "      <td>6</td>\n",
       "      <td>2008</td>\n",
       "      <td>May</td>\n",
       "      <td>None</td>\n",
       "      <td>None</td>\n",
       "      <td></td>\n",
       "      <td>None</td>\n",
       "      <td>None</td>\n",
       "      <td>None</td>\n",
       "      <td>None</td>\n",
       "      <td>None</td>\n",
       "      <td>None</td>\n",
       "      <td>None</td>\n",
       "      <td>None</td>\n",
       "      <td>None</td>\n",
       "      <td>92.0</td>\n",
       "      <td>None</td>\n",
       "      <td>United Kingdom of Great Britain and Northern Ireland</td>\n",
       "      <td>None</td>\n",
       "      <td>None</td>\n",
       "      <td>1.945910</td>\n",
       "      <td>1</td>\n",
       "      <td>0</td>\n",
       "      <td>0</td>\n",
       "      <td>0</td>\n",
       "      <td>0</td>\n",
       "      <td>0</td>\n",
       "      <td>0</td>\n",
       "      <td>0</td>\n",
       "      <td>0</td>\n",
       "      <td>0</td>\n",
       "      <td>0</td>\n",
       "      <td>0</td>\n",
       "      <td>1</td>\n",
       "    </tr>\n",
       "  </tbody>\n",
       "</table>\n",
       "</div>"
      ],
      "text/plain": [
       "      day            name                                             info  \\\n",
       "10194  30     Sam Treiman  , 74, American theoretical physicist, leukemia.   \n",
       "25564   9  James Atkinson                         , 92, British physicist.   \n",
       "\n",
       "                                                           link  \\\n",
       "10194                 https://en.wikipedia.org/wiki/Sam_Treiman   \n",
       "25564  https://en.wikipedia.org/wiki/James_Atkinson_(physicist)   \n",
       "\n",
       "       num_references  year     month info_parenth info_1 info_2    info_3  \\\n",
       "10194               9  1999  November         None   None         leukemia   \n",
       "25564               6  2008       May         None   None             None   \n",
       "\n",
       "      info_4 info_5 info_6 info_7 info_8 info_9 info_10 info_11   age  \\\n",
       "10194   None   None   None   None   None   None    None    None  74.0   \n",
       "25564   None   None   None   None   None   None    None    None  92.0   \n",
       "\n",
       "      cause_of_death                                               place_1  \\\n",
       "10194           None                              United States of America   \n",
       "25564           None  United Kingdom of Great Britain and Northern Ireland   \n",
       "\n",
       "      place_2 info_parenth_copy  log_num_references  sciences  social  \\\n",
       "10194    None              None            2.302585         1       0   \n",
       "25564    None              None            1.945910         1       0   \n",
       "\n",
       "       spiritual  academia_humanities  business_farming  arts  sports  \\\n",
       "10194          0                    0                 0     0       0   \n",
       "25564          0                    0                 0     0       0   \n",
       "\n",
       "       law_enf_military_operator  politics_govt_law  crime  \\\n",
       "10194                          0                  0      0   \n",
       "25564                          0                  0      0   \n",
       "\n",
       "       event_record_other  other_species  num_categories  \n",
       "10194                   0              0               1  \n",
       "25564                   0              0               1  "
      ]
     },
     "execution_count": 67,
     "metadata": {},
     "output_type": "execute_result"
    },
    {
     "data": {
      "application/javascript": [
       "\n",
       "            setTimeout(function() {\n",
       "                var nbb_cell_id = 67;\n",
       "                var nbb_unformatted_code = \"%%time\\n\\n# Dictionary version\\nsearch_dict = known_for_dict\\n\\n# Column to check\\ncolumn = 'info_2'\\n\\n# Dataframe\\ndataframe = df[column].notna()\\n\\n# For loop to find role in column and extract it as category\\nfor category, category_lst in search_dict.items():\\n    for role in category_lst:\\n        for index in dataframe.index:\\n            item = df.loc[index, column]\\n            if item:\\n                if role in item:\\n                    df.loc[index, category] = 1\\n                    df.loc[index, column] = item.replace(role, '').strip()\\n\\n# Updating num_categories\\ndf[\\\"num_categories\\\"] = df[known_for_dict.keys()].sum(axis=1)\\n\\n# Checking a sample of rows\\ndf[df['sciences'] ==1].sample(2)\";\n",
       "                var nbb_formatted_code = \"%%time\\n\\n# Dictionary version\\nsearch_dict = known_for_dict\\n\\n# Column to check\\ncolumn = 'info_2'\\n\\n# Dataframe\\ndataframe = df[column].notna()\\n\\n# For loop to find role in column and extract it as category\\nfor category, category_lst in search_dict.items():\\n    for role in category_lst:\\n        for index in dataframe.index:\\n            item = df.loc[index, column]\\n            if item:\\n                if role in item:\\n                    df.loc[index, category] = 1\\n                    df.loc[index, column] = item.replace(role, '').strip()\\n\\n# Updating num_categories\\ndf[\\\"num_categories\\\"] = df[known_for_dict.keys()].sum(axis=1)\\n\\n# Checking a sample of rows\\ndf[df['sciences'] ==1].sample(2)\";\n",
       "                var nbb_cells = Jupyter.notebook.get_cells();\n",
       "                for (var i = 0; i < nbb_cells.length; ++i) {\n",
       "                    if (nbb_cells[i].input_prompt_number == nbb_cell_id) {\n",
       "                        if (nbb_cells[i].get_text() == nbb_unformatted_code) {\n",
       "                             nbb_cells[i].set_text(nbb_formatted_code);\n",
       "                        }\n",
       "                        break;\n",
       "                    }\n",
       "                }\n",
       "            }, 500);\n",
       "            "
      ],
      "text/plain": [
       "<IPython.core.display.Javascript object>"
      ]
     },
     "metadata": {},
     "output_type": "display_data"
    }
   ],
   "source": [
    "%%time\n",
    "\n",
    "# Dictionary version\n",
    "search_dict = known_for_dict\n",
    "\n",
    "# Column to check\n",
    "column = 'info_2'\n",
    "\n",
    "# Dataframe\n",
    "dataframe = df[column].notna()\n",
    "\n",
    "# For loop to find role in column and extract it as category\n",
    "for category, category_lst in search_dict.items():\n",
    "    for role in category_lst:\n",
    "        for index in dataframe.index:\n",
    "            item = df.loc[index, column]\n",
    "            if item:\n",
    "                if role in item:\n",
    "                    df.loc[index, category] = 1\n",
    "                    df.loc[index, column] = item.replace(role, '').strip()\n",
    "\n",
    "# Updating num_categories\n",
    "df[\"num_categories\"] = df[known_for_dict.keys()].sum(axis=1)\n",
    "\n",
    "# Checking a sample of rows\n",
    "df[df['sciences'] ==1].sample(2)"
   ]
  },
  {
   "cell_type": "markdown",
   "id": "a807d972",
   "metadata": {},
   "source": [
    "#### Checking the Number of Rows without a First Category"
   ]
  },
  {
   "cell_type": "code",
   "execution_count": 68,
   "id": "c7e18283",
   "metadata": {},
   "outputs": [
    {
     "name": "stdout",
     "output_type": "stream",
     "text": [
      "There are 36147 entries without any known_for category.\n"
     ]
    },
    {
     "data": {
      "application/javascript": [
       "\n",
       "            setTimeout(function() {\n",
       "                var nbb_cell_id = 68;\n",
       "                var nbb_unformatted_code = \"# Checking the number of rows without a first category\\nprint(\\n    f'There are {len(df[df[\\\"num_categories\\\"]==0])} entries without any known_for category.'\\n)\";\n",
       "                var nbb_formatted_code = \"# Checking the number of rows without a first category\\nprint(\\n    f'There are {len(df[df[\\\"num_categories\\\"]==0])} entries without any known_for category.'\\n)\";\n",
       "                var nbb_cells = Jupyter.notebook.get_cells();\n",
       "                for (var i = 0; i < nbb_cells.length; ++i) {\n",
       "                    if (nbb_cells[i].input_prompt_number == nbb_cell_id) {\n",
       "                        if (nbb_cells[i].get_text() == nbb_unformatted_code) {\n",
       "                             nbb_cells[i].set_text(nbb_formatted_code);\n",
       "                        }\n",
       "                        break;\n",
       "                    }\n",
       "                }\n",
       "            }, 500);\n",
       "            "
      ],
      "text/plain": [
       "<IPython.core.display.Javascript object>"
      ]
     },
     "metadata": {},
     "output_type": "display_data"
    }
   ],
   "source": [
    "# Checking the number of rows without a first category\n",
    "print(\n",
    "    f'There are {len(df[df[\"num_categories\"]==0])} entries without any known_for category.'\n",
    ")"
   ]
  },
  {
   "cell_type": "markdown",
   "id": "35d7e47a",
   "metadata": {},
   "source": [
    "#### Observations:\n",
    "- We will proceed to rebuild `known_for_dict` for the next iteration."
   ]
  },
  {
   "cell_type": "markdown",
   "id": "7616d110",
   "metadata": {},
   "source": [
    "#### Finding `known_for` Roles in `info_2`"
   ]
  },
  {
   "cell_type": "code",
   "execution_count": 69,
   "id": "c4cd68fd",
   "metadata": {},
   "outputs": [
    {
     "data": {
      "application/javascript": [
       "\n",
       "            setTimeout(function() {\n",
       "                var nbb_cell_id = 69;\n",
       "                var nbb_unformatted_code = \"# Obtaining values for column and their counts\\nroles_list = df[\\\"info_2\\\"].value_counts(ascending=True).index.tolist()\";\n",
       "                var nbb_formatted_code = \"# Obtaining values for column and their counts\\nroles_list = df[\\\"info_2\\\"].value_counts(ascending=True).index.tolist()\";\n",
       "                var nbb_cells = Jupyter.notebook.get_cells();\n",
       "                for (var i = 0; i < nbb_cells.length; ++i) {\n",
       "                    if (nbb_cells[i].input_prompt_number == nbb_cell_id) {\n",
       "                        if (nbb_cells[i].get_text() == nbb_unformatted_code) {\n",
       "                             nbb_cells[i].set_text(nbb_formatted_code);\n",
       "                        }\n",
       "                        break;\n",
       "                    }\n",
       "                }\n",
       "            }, 500);\n",
       "            "
      ],
      "text/plain": [
       "<IPython.core.display.Javascript object>"
      ]
     },
     "metadata": {},
     "output_type": "display_data"
    }
   ],
   "source": [
    "# Obtaining values for column and their counts\n",
    "roles_list = df[\"info_2\"].value_counts(ascending=True).index.tolist()"
   ]
  },
  {
   "cell_type": "code",
   "execution_count": 70,
   "id": "dfedd673",
   "metadata": {},
   "outputs": [
    {
     "data": {
      "application/javascript": [
       "\n",
       "            setTimeout(function() {\n",
       "                var nbb_cell_id = 70;\n",
       "                var nbb_unformatted_code = \"# # Code to check each value\\n# roles_list.pop()\";\n",
       "                var nbb_formatted_code = \"# # Code to check each value\\n# roles_list.pop()\";\n",
       "                var nbb_cells = Jupyter.notebook.get_cells();\n",
       "                for (var i = 0; i < nbb_cells.length; ++i) {\n",
       "                    if (nbb_cells[i].input_prompt_number == nbb_cell_id) {\n",
       "                        if (nbb_cells[i].get_text() == nbb_unformatted_code) {\n",
       "                             nbb_cells[i].set_text(nbb_formatted_code);\n",
       "                        }\n",
       "                        break;\n",
       "                    }\n",
       "                }\n",
       "            }, 500);\n",
       "            "
      ],
      "text/plain": [
       "<IPython.core.display.Javascript object>"
      ]
     },
     "metadata": {},
     "output_type": "display_data"
    }
   ],
   "source": [
    "# # Code to check each value\n",
    "# roles_list.pop()"
   ]
  },
  {
   "cell_type": "code",
   "execution_count": 71,
   "id": "149de8e1",
   "metadata": {},
   "outputs": [
    {
     "data": {
      "application/javascript": [
       "\n",
       "            setTimeout(function() {\n",
       "                var nbb_cell_id = 71;\n",
       "                var nbb_unformatted_code = \"# # Create specific_roles_list for above popped value\\n# specific_roles_list = (\\n#     df.loc[\\n#         [index for index in df.index if \\\"engineer\\\" in df.loc[index, \\\"info\\\"]], \\\"info_2\\\",\\n#     ]\\n#     .value_counts()\\n#     .index.tolist()\\n# )\";\n",
       "                var nbb_formatted_code = \"# # Create specific_roles_list for above popped value\\n# specific_roles_list = (\\n#     df.loc[\\n#         [index for index in df.index if \\\"engineer\\\" in df.loc[index, \\\"info\\\"]], \\\"info_2\\\",\\n#     ]\\n#     .value_counts()\\n#     .index.tolist()\\n# )\";\n",
       "                var nbb_cells = Jupyter.notebook.get_cells();\n",
       "                for (var i = 0; i < nbb_cells.length; ++i) {\n",
       "                    if (nbb_cells[i].input_prompt_number == nbb_cell_id) {\n",
       "                        if (nbb_cells[i].get_text() == nbb_unformatted_code) {\n",
       "                             nbb_cells[i].set_text(nbb_formatted_code);\n",
       "                        }\n",
       "                        break;\n",
       "                    }\n",
       "                }\n",
       "            }, 500);\n",
       "            "
      ],
      "text/plain": [
       "<IPython.core.display.Javascript object>"
      ]
     },
     "metadata": {},
     "output_type": "display_data"
    }
   ],
   "source": [
    "# # Create specific_roles_list for above popped value\n",
    "# specific_roles_list = (\n",
    "#     df.loc[\n",
    "#         [index for index in df.index if \"engineer\" in df.loc[index, \"info\"]], \"info_2\",\n",
    "#     ]\n",
    "#     .value_counts()\n",
    "#     .index.tolist()\n",
    "# )"
   ]
  },
  {
   "cell_type": "code",
   "execution_count": 72,
   "id": "404e601e",
   "metadata": {},
   "outputs": [
    {
     "data": {
      "application/javascript": [
       "\n",
       "            setTimeout(function() {\n",
       "                var nbb_cell_id = 72;\n",
       "                var nbb_unformatted_code = \"# # Code to check each specific value\\n# specific_roles_list.pop()\";\n",
       "                var nbb_formatted_code = \"# # Code to check each specific value\\n# specific_roles_list.pop()\";\n",
       "                var nbb_cells = Jupyter.notebook.get_cells();\n",
       "                for (var i = 0; i < nbb_cells.length; ++i) {\n",
       "                    if (nbb_cells[i].input_prompt_number == nbb_cell_id) {\n",
       "                        if (nbb_cells[i].get_text() == nbb_unformatted_code) {\n",
       "                             nbb_cells[i].set_text(nbb_formatted_code);\n",
       "                        }\n",
       "                        break;\n",
       "                    }\n",
       "                }\n",
       "            }, 500);\n",
       "            "
      ],
      "text/plain": [
       "<IPython.core.display.Javascript object>"
      ]
     },
     "metadata": {},
     "output_type": "display_data"
    }
   ],
   "source": [
    "# # Code to check each specific value\n",
    "# specific_roles_list.pop()"
   ]
  },
  {
   "cell_type": "code",
   "execution_count": 73,
   "id": "cc3f5038",
   "metadata": {
    "scrolled": false
   },
   "outputs": [
    {
     "data": {
      "application/javascript": [
       "\n",
       "            setTimeout(function() {\n",
       "                var nbb_cell_id = 73;\n",
       "                var nbb_unformatted_code = \"# # Example code to quick-screen values that may overlap categories\\n# df.loc[[index for index in df.index if \\\"sound engineer\\\" in df.loc[index, \\\"info\\\"]]]\";\n",
       "                var nbb_formatted_code = \"# # Example code to quick-screen values that may overlap categories\\n# df.loc[[index for index in df.index if \\\"sound engineer\\\" in df.loc[index, \\\"info\\\"]]]\";\n",
       "                var nbb_cells = Jupyter.notebook.get_cells();\n",
       "                for (var i = 0; i < nbb_cells.length; ++i) {\n",
       "                    if (nbb_cells[i].input_prompt_number == nbb_cell_id) {\n",
       "                        if (nbb_cells[i].get_text() == nbb_unformatted_code) {\n",
       "                             nbb_cells[i].set_text(nbb_formatted_code);\n",
       "                        }\n",
       "                        break;\n",
       "                    }\n",
       "                }\n",
       "            }, 500);\n",
       "            "
      ],
      "text/plain": [
       "<IPython.core.display.Javascript object>"
      ]
     },
     "metadata": {},
     "output_type": "display_data"
    }
   ],
   "source": [
    "# # Example code to quick-screen values that may overlap categories\n",
    "# df.loc[[index for index in df.index if \"sound engineer\" in df.loc[index, \"info\"]]]"
   ]
  },
  {
   "cell_type": "code",
   "execution_count": 74,
   "id": "76f74a60",
   "metadata": {},
   "outputs": [
    {
     "data": {
      "application/javascript": [
       "\n",
       "            setTimeout(function() {\n",
       "                var nbb_cell_id = 74;\n",
       "                var nbb_unformatted_code = \"# # Example code to quick-screen values that may overlap categories\\n# df.loc[\\n#     [\\n#         index\\n#         for index in df.index\\n#         if \\\"outlaw country music singer songwriter\\\" in df.loc[index, \\\"info\\\"]\\n#     ]\\n# ]\";\n",
       "                var nbb_formatted_code = \"# # Example code to quick-screen values that may overlap categories\\n# df.loc[\\n#     [\\n#         index\\n#         for index in df.index\\n#         if \\\"outlaw country music singer songwriter\\\" in df.loc[index, \\\"info\\\"]\\n#     ]\\n# ]\";\n",
       "                var nbb_cells = Jupyter.notebook.get_cells();\n",
       "                for (var i = 0; i < nbb_cells.length; ++i) {\n",
       "                    if (nbb_cells[i].input_prompt_number == nbb_cell_id) {\n",
       "                        if (nbb_cells[i].get_text() == nbb_unformatted_code) {\n",
       "                             nbb_cells[i].set_text(nbb_formatted_code);\n",
       "                        }\n",
       "                        break;\n",
       "                    }\n",
       "                }\n",
       "            }, 500);\n",
       "            "
      ],
      "text/plain": [
       "<IPython.core.display.Javascript object>"
      ]
     },
     "metadata": {},
     "output_type": "display_data"
    }
   ],
   "source": [
    "# # Example code to quick-screen values that may overlap categories\n",
    "# df.loc[\n",
    "#     [\n",
    "#         index\n",
    "#         for index in df.index\n",
    "#         if \"outlaw country music singer songwriter\" in df.loc[index, \"info\"]\n",
    "#     ]\n",
    "# ]"
   ]
  },
  {
   "cell_type": "code",
   "execution_count": 75,
   "id": "15b5c12d",
   "metadata": {},
   "outputs": [
    {
     "data": {
      "application/javascript": [
       "\n",
       "            setTimeout(function() {\n",
       "                var nbb_cell_id = 75;\n",
       "                var nbb_unformatted_code = \"# # Example code to quick-check a specific entry\\n# df[df[\\\"info_2\\\"] == \\\"recording engineer\\\"]\";\n",
       "                var nbb_formatted_code = \"# # Example code to quick-check a specific entry\\n# df[df[\\\"info_2\\\"] == \\\"recording engineer\\\"]\";\n",
       "                var nbb_cells = Jupyter.notebook.get_cells();\n",
       "                for (var i = 0; i < nbb_cells.length; ++i) {\n",
       "                    if (nbb_cells[i].input_prompt_number == nbb_cell_id) {\n",
       "                        if (nbb_cells[i].get_text() == nbb_unformatted_code) {\n",
       "                             nbb_cells[i].set_text(nbb_formatted_code);\n",
       "                        }\n",
       "                        break;\n",
       "                    }\n",
       "                }\n",
       "            }, 500);\n",
       "            "
      ],
      "text/plain": [
       "<IPython.core.display.Javascript object>"
      ]
     },
     "metadata": {},
     "output_type": "display_data"
    }
   ],
   "source": [
    "# # Example code to quick-check a specific entry\n",
    "# df[df[\"info_2\"] == \"recording engineer\"]"
   ]
  },
  {
   "cell_type": "markdown",
   "id": "2083d1cf",
   "metadata": {},
   "source": [
    "#### Creating Lists for Each `known_for` Category"
   ]
  },
  {
   "cell_type": "code",
   "execution_count": 76,
   "id": "23e7c011",
   "metadata": {},
   "outputs": [
    {
     "data": {
      "application/javascript": [
       "\n",
       "            setTimeout(function() {\n",
       "                var nbb_cell_id = 76;\n",
       "                var nbb_unformatted_code = \"# Creating lists for each category\\npolitics_govt_law = []\\n\\narts = [\\n    \\\"Grammy Award winning sound engineer and music producer\\\",\\n    \\\"sound engineer and record producer\\\",  # before sciences\\n    \\\"car design engineer\\\",\\n    \\\"recording engineer and producer\\\",\\n    \\\"recording engineer and record producer\\\",\\n    \\\"Academy Award winning sound engineer\\\",\\n    \\\"sound engineer and founder of the BBC Radiophonic Workshop\\\",\\n    \\\"recording engineer and studio owner\\\",\\n    \\\"audio engineer and producer\\\",\\n    \\\"music producer and engineer\\\",\\n    \\\"record producer and audio engineer\\\",\\n    \\\"audio engineer and video game developer\\\",\\n    \\\"audio mastering engineer\\\",\\n    \\\"recording engineer and record label owner\\\",\\n    \\\"film recording engineer\\\",\\n    \\\"Grammy award winning music engineer\\\",\\n    \\\"record producer and recording engineer\\\",\\n    \\\"music engineer and producer\\\",\\n    \\\"and recording engineer\\\",\\n    \\\"film sound engineer\\\",\\n    \\\"audio engineer and record producer\\\",\\n    \\\"sound engineer\\\",\\n    \\\"recording engineer\\\",\\n]\\nsports = []\\nsciences = [\\n    \\\"electrical and radio engineer\\\",\\n    \\\"engineer and statistician\\\",\\n    \\\"electrical engineer and co founder\\\",\\n    \\\"videogame console engineer\\\",\\n    \\\"engineer and glider pilot\\\",\\n    'engineer nicknamed the \\\"Father of the Corvette \\\"',\\n    \\\"mechanical engineer and inventor\\\",\\n    \\\"integrated circuit engineer\\\",\\n    \\\"chemical engineer in unleaded gasoline\\\",\\n    \\\"computer hardware engineer\\\",\\n    \\\"electronics engineer for Sony\\\",\\n    \\\"diving engineer\\\",\\n    \\\"executive engineer\\\",\\n    \\\"electrical engineer and university\\\",\\n    \\\"electrical engineer and scientist\\\",\\n    \\\"and rocket engineer\\\",\\n    \\\"nuclear scientist and chemical engineer\\\",\\n    \\\"welding engineer\\\",\\n    \\\"scientist and aerospace engineer\\\",\\n    \\\"ceramic engineer\\\",\\n    \\\"chemical engineer and safety consultant\\\",\\n    \\\"audio engineer and electronics engineer\\\",\\n    \\\"chemical engineer and pharmaceutical executive\\\",\\n    \\\"mining engineer and geologist\\\",\\n    \\\"consulting engineer\\\",\\n    \\\"engineer and geotechnician\\\",\\n    \\\"engineering seismologist\\\",\\n    \\\"engineer in charge during the Chernobyl disaster\\\",\\n    \\\"pioneering computer engineer\\\",\\n    \\\"spacecraft engineer\\\",\\n    \\\"engineer and bullet train pioneer\\\",\\n    \\\"engineer and optician\\\",\\n    \\\"aircraft automotive engineer\\\",\\n    \\\"helicopter and aerospace engineer\\\",\\n    \\\"engineer and electronic computing pioneer\\\",\\n    \\\"rocket engineer who worked at the Jet Propulsion Laboratory\\\",\\n    \\\"aerospace engineer and a pioneer in helicopter design\\\",\\n    \\\"ice road engineer\\\",\\n    \\\"rail engineer\\\",\\n    \\\"engineer and aerospace executive\\\",\\n    \\\"engineer and co designer of NASA Apollo Lunar Module\\\",\\n    \\\"aerospace engineer and member of the\\\",\\n    \\\"communication satellites engineer\\\",\\n    \\\"aeronautics and astronautic engineer\\\",\\n    \\\"biomedical engineering pioneer\\\",\\n    \\\"traffic engineer and inventor of the mini roundabout\\\",\\n    \\\"chemical engineer for the Procter & Gamble company\\\",\\n    \\\"aeronautical engineer who invented the tandem rotor placement in helicopter design\\\",\\n    \\\"traffic engineer\\\",\\n    \\\"Toyota engineer\\\",\\n    \\\"scientist and electrical engineer\\\",\\n    \\\"inventor and chemical engineer\\\",\\n    \\\"engineer and cryptographer\\\",\\n    \\\"computer engineer and scientist\\\",\\n    \\\"aeronautical engineer and space scientist\\\",\\n    \\\"engineer and R&D executive\\\",\\n    \\\"civil engineer and industrial\\\",\\n    \\\"thermal engineer\\\",\\n    \\\"automotive executive and engineer\\\",\\n    \\\"geologist and earthquake engineer\\\",\\n    \\\"metallurgist and chemical engineer\\\",\\n    \\\"engineer and food scientist\\\",\\n    \\\"naval electronics engineer\\\",\\n    \\\"control systems engineer\\\",\\n    \\\"automotive engineer and executive\\\",\\n    \\\"ship engineer\\\",\\n    \\\"mechanical engineer and product\\\",\\n    \\\"explosives engineer and inventor\\\",\\n    \\\"aerospace engineer and fluid dynamicist\\\",\\n    \\\"nuclear material engineer\\\",\\n    \\\"plant breeding engineer\\\",\\n    \\\"marine engineer and executive\\\",\\n    \\\"industrial engineer and cycling\\\",\\n    \\\"video game engineer\\\",\\n    \\\"materials scientist and engineer\\\",\\n    \\\"engineering manager\\\",\\n    \\\"agronomist and engineer\\\",\\n    \\\"engineer and control theorist\\\",\\n    \\\"naval engineer and\\\",\\n    \\\"construction executive and civil engineer\\\",\\n    \\\"agricultural engineer and\\\",\\n    \\\"refrigeration engineer\\\",\\n    \\\"chemical engineer and scientist\\\",\\n    \\\"engineer and scientist\\\",\\n    \\\"ice drilling engineer\\\",\\n    \\\"ornithologist and engineer\\\",\\n    \\\"motorsport engineer\\\",\\n    \\\"computer engineer and NASA official\\\",\\n    \\\"mechanical engineer and anti nuclear power\\\",\\n    \\\"bridge structural engineer\\\",\\n    \\\"aircraft engineer\\\",\\n    \\\"soil mechanics engineer\\\",\\n    \\\"microwave electronics and communications engineer\\\",\\n    \\\"camera engineer\\\",\\n    \\\"engineer and rocket scientist\\\",\\n    \\\"NASA engineer and\\\",\\n    \\\"engineer and the second Director of Lockheed Skunk Works from to\\\",\\n    \\\"aeronautics engineer\\\",\\n    \\\"earthquake engineer\\\",\\n    \\\"computational engineer\\\",\\n    \\\"engineer and chief executive\\\",\\n    \\\"computer engineer and systems scientist\\\",\\n    \\\"engineer and inventor of the hovercraft\\\",\\n    \\\"railway signal engineer\\\",\\n    \\\"and railway engineer\\\",\\n    \\\"railway engineer\\\",\\n    \\\"optoelectronic engineer\\\",\\n    \\\"materials engineer\\\",\\n    \\\"auto engineer\\\",\\n    \\\"Hall of Fame computer engineer\\\",\\n    \\\"flight engineer\\\",\\n    \\\"airplane designer and engineer\\\",\\n    \\\"and race chassis engineer\\\",\\n    \\\"consulting nuclear engineer\\\",\\n    \\\"engineering construction executive\\\",\\n    \\\"engineering scientist\\\",\\n    \\\"systems engineer\\\",\\n    \\\"aeroelasticity engineer and aircraft designer\\\",\\n    \\\"engineer and technology executive\\\",\\n    \\\"biochemical engineer\\\",\\n    \\\"particle accelerator specialist and engineer\\\",\\n    \\\"hydrogeologist and environmental engineer\\\",\\n    \\\"port and harbor engineer\\\",\\n    \\\"rocket engineer\\\",\\n    \\\"aerospace engineer and NASA manager\\\",\\n    \\\"engineer and aircraft designer\\\",\\n    \\\"chemical engineer and inventor\\\",\\n    \\\"electrical engineer and inventor\\\",\\n    \\\"metallurgical engineer\\\",\\n    \\\"of aerospace engineering\\\",\\n    \\\"and aerospace engineer\\\",\\n    \\\"space engineer\\\",\\n    \\\"electronic engineer\\\",\\n    \\\"design engineer\\\",\\n    \\\"NASA engineer\\\",\\n    \\\"naval engineer\\\",\\n    \\\"petroleum engineer\\\",\\n    \\\"motorcycle engineer\\\",\\n    \\\"satellite engineer\\\",\\n    \\\"engineer and racing car designer\\\",\\n    \\\"biomedical engineer\\\",\\n    \\\"environmental engineer\\\",\\n    \\\"agricultural engineer\\\",\\n    \\\"irrigation engineer\\\",\\n    \\\"engineer and computer scientist\\\",\\n    \\\"industrial engineer\\\",\\n    \\\"bioengineer\\\",\\n    \\\"scientist and engineer\\\",\\n    \\\"acoustical engineer\\\",\\n    \\\"mining engineer and\\\",\\n    \\\"mining engineer\\\",\\n    \\\"aviation engineer\\\",\\n    \\\"hydraulic engineer\\\",\\n    \\\"software engineer\\\",\\n    \\\"audio engineer and inventor\\\",\\n    \\\"audio engineer and\\\",\\n    \\\"audio engineer\\\",\\n    \\\"telecommunications engineer\\\",\\n    \\\"electronics engineer and\\\",\\n    \\\"electronics engineer\\\",\\n    \\\"nuclear engineer\\\",\\n    \\\"computer engineer\\\",\\n    \\\"and automotive engineer\\\",\\n    \\\"automotive engineer\\\",\\n    \\\"structural engineer and\\\",\\n    \\\"structural engineer\\\",\\n    \\\"mechanical engineer and\\\",\\n    \\\"mechanical engineering\\\",\\n    \\\"mechanical engineer\\\",\\n    \\\"and aeronautical engineer\\\",\\n    \\\"aeronautical engineer\\\",\\n    \\\"aerospace engineer\\\",\\n    \\\"and chemical engineer\\\",\\n    \\\"chemical engineer and\\\",\\n    \\\"chemical engineer\\\",\\n    \\\"civil engineering\\\",\\n    \\\"and civil engineer\\\",\\n    \\\"civil engineer and\\\",\\n    \\\"civil engineer\\\",\\n    \\\"of electrical engineering\\\",\\n    \\\"electrical engineer and\\\",\\n    \\\"electrical engineer\\\",\\n    \\\"engineer and inventor\\\",\\n    \\\"and aircraft engineer\\\",\\n    \\\"engineer and space\\\",\\n    \\\"and test engineer\\\",\\n    \\\"and engineer for NASA\\\",\\n    \\\"transportation engineer and\\\",\\n    \\\"optical engineer\\\",\\n    \\\"inventor and engineer\\\",\\n    \\\"and cycling engineer\\\",\\n    \\\"broadcast engineer\\\",\\n    \\\"and aeroplane engineer\\\",\\n    \\\"Electrical engineering\\\",\\n    \\\"paper engineer and\\\",\\n    \\\"of engineering\\\",\\n    \\\"engineering\\\",\\n    \\\"and engineer\\\",\\n    \\\"engineer and\\\",\\n    \\\"engineer\\\",\\n]\\n\\nbusiness_farming = [\\\"co founder of Matchbox Toys\\\"]\\nacademia_humanities = []\\nlaw_enf_military_operator = [\\\"Deputy Secretary of Defense\\\"]\\nspiritual = []\\nsocial = []\\ncrime = []\\nevent_record_other = [\\\"taken hostage in\\\"]\\nother_species = []\";\n",
       "                var nbb_formatted_code = \"# Creating lists for each category\\npolitics_govt_law = []\\n\\narts = [\\n    \\\"Grammy Award winning sound engineer and music producer\\\",\\n    \\\"sound engineer and record producer\\\",  # before sciences\\n    \\\"car design engineer\\\",\\n    \\\"recording engineer and producer\\\",\\n    \\\"recording engineer and record producer\\\",\\n    \\\"Academy Award winning sound engineer\\\",\\n    \\\"sound engineer and founder of the BBC Radiophonic Workshop\\\",\\n    \\\"recording engineer and studio owner\\\",\\n    \\\"audio engineer and producer\\\",\\n    \\\"music producer and engineer\\\",\\n    \\\"record producer and audio engineer\\\",\\n    \\\"audio engineer and video game developer\\\",\\n    \\\"audio mastering engineer\\\",\\n    \\\"recording engineer and record label owner\\\",\\n    \\\"film recording engineer\\\",\\n    \\\"Grammy award winning music engineer\\\",\\n    \\\"record producer and recording engineer\\\",\\n    \\\"music engineer and producer\\\",\\n    \\\"and recording engineer\\\",\\n    \\\"film sound engineer\\\",\\n    \\\"audio engineer and record producer\\\",\\n    \\\"sound engineer\\\",\\n    \\\"recording engineer\\\",\\n]\\nsports = []\\nsciences = [\\n    \\\"electrical and radio engineer\\\",\\n    \\\"engineer and statistician\\\",\\n    \\\"electrical engineer and co founder\\\",\\n    \\\"videogame console engineer\\\",\\n    \\\"engineer and glider pilot\\\",\\n    'engineer nicknamed the \\\"Father of the Corvette \\\"',\\n    \\\"mechanical engineer and inventor\\\",\\n    \\\"integrated circuit engineer\\\",\\n    \\\"chemical engineer in unleaded gasoline\\\",\\n    \\\"computer hardware engineer\\\",\\n    \\\"electronics engineer for Sony\\\",\\n    \\\"diving engineer\\\",\\n    \\\"executive engineer\\\",\\n    \\\"electrical engineer and university\\\",\\n    \\\"electrical engineer and scientist\\\",\\n    \\\"and rocket engineer\\\",\\n    \\\"nuclear scientist and chemical engineer\\\",\\n    \\\"welding engineer\\\",\\n    \\\"scientist and aerospace engineer\\\",\\n    \\\"ceramic engineer\\\",\\n    \\\"chemical engineer and safety consultant\\\",\\n    \\\"audio engineer and electronics engineer\\\",\\n    \\\"chemical engineer and pharmaceutical executive\\\",\\n    \\\"mining engineer and geologist\\\",\\n    \\\"consulting engineer\\\",\\n    \\\"engineer and geotechnician\\\",\\n    \\\"engineering seismologist\\\",\\n    \\\"engineer in charge during the Chernobyl disaster\\\",\\n    \\\"pioneering computer engineer\\\",\\n    \\\"spacecraft engineer\\\",\\n    \\\"engineer and bullet train pioneer\\\",\\n    \\\"engineer and optician\\\",\\n    \\\"aircraft automotive engineer\\\",\\n    \\\"helicopter and aerospace engineer\\\",\\n    \\\"engineer and electronic computing pioneer\\\",\\n    \\\"rocket engineer who worked at the Jet Propulsion Laboratory\\\",\\n    \\\"aerospace engineer and a pioneer in helicopter design\\\",\\n    \\\"ice road engineer\\\",\\n    \\\"rail engineer\\\",\\n    \\\"engineer and aerospace executive\\\",\\n    \\\"engineer and co designer of NASA Apollo Lunar Module\\\",\\n    \\\"aerospace engineer and member of the\\\",\\n    \\\"communication satellites engineer\\\",\\n    \\\"aeronautics and astronautic engineer\\\",\\n    \\\"biomedical engineering pioneer\\\",\\n    \\\"traffic engineer and inventor of the mini roundabout\\\",\\n    \\\"chemical engineer for the Procter & Gamble company\\\",\\n    \\\"aeronautical engineer who invented the tandem rotor placement in helicopter design\\\",\\n    \\\"traffic engineer\\\",\\n    \\\"Toyota engineer\\\",\\n    \\\"scientist and electrical engineer\\\",\\n    \\\"inventor and chemical engineer\\\",\\n    \\\"engineer and cryptographer\\\",\\n    \\\"computer engineer and scientist\\\",\\n    \\\"aeronautical engineer and space scientist\\\",\\n    \\\"engineer and R&D executive\\\",\\n    \\\"civil engineer and industrial\\\",\\n    \\\"thermal engineer\\\",\\n    \\\"automotive executive and engineer\\\",\\n    \\\"geologist and earthquake engineer\\\",\\n    \\\"metallurgist and chemical engineer\\\",\\n    \\\"engineer and food scientist\\\",\\n    \\\"naval electronics engineer\\\",\\n    \\\"control systems engineer\\\",\\n    \\\"automotive engineer and executive\\\",\\n    \\\"ship engineer\\\",\\n    \\\"mechanical engineer and product\\\",\\n    \\\"explosives engineer and inventor\\\",\\n    \\\"aerospace engineer and fluid dynamicist\\\",\\n    \\\"nuclear material engineer\\\",\\n    \\\"plant breeding engineer\\\",\\n    \\\"marine engineer and executive\\\",\\n    \\\"industrial engineer and cycling\\\",\\n    \\\"video game engineer\\\",\\n    \\\"materials scientist and engineer\\\",\\n    \\\"engineering manager\\\",\\n    \\\"agronomist and engineer\\\",\\n    \\\"engineer and control theorist\\\",\\n    \\\"naval engineer and\\\",\\n    \\\"construction executive and civil engineer\\\",\\n    \\\"agricultural engineer and\\\",\\n    \\\"refrigeration engineer\\\",\\n    \\\"chemical engineer and scientist\\\",\\n    \\\"engineer and scientist\\\",\\n    \\\"ice drilling engineer\\\",\\n    \\\"ornithologist and engineer\\\",\\n    \\\"motorsport engineer\\\",\\n    \\\"computer engineer and NASA official\\\",\\n    \\\"mechanical engineer and anti nuclear power\\\",\\n    \\\"bridge structural engineer\\\",\\n    \\\"aircraft engineer\\\",\\n    \\\"soil mechanics engineer\\\",\\n    \\\"microwave electronics and communications engineer\\\",\\n    \\\"camera engineer\\\",\\n    \\\"engineer and rocket scientist\\\",\\n    \\\"NASA engineer and\\\",\\n    \\\"engineer and the second Director of Lockheed Skunk Works from to\\\",\\n    \\\"aeronautics engineer\\\",\\n    \\\"earthquake engineer\\\",\\n    \\\"computational engineer\\\",\\n    \\\"engineer and chief executive\\\",\\n    \\\"computer engineer and systems scientist\\\",\\n    \\\"engineer and inventor of the hovercraft\\\",\\n    \\\"railway signal engineer\\\",\\n    \\\"and railway engineer\\\",\\n    \\\"railway engineer\\\",\\n    \\\"optoelectronic engineer\\\",\\n    \\\"materials engineer\\\",\\n    \\\"auto engineer\\\",\\n    \\\"Hall of Fame computer engineer\\\",\\n    \\\"flight engineer\\\",\\n    \\\"airplane designer and engineer\\\",\\n    \\\"and race chassis engineer\\\",\\n    \\\"consulting nuclear engineer\\\",\\n    \\\"engineering construction executive\\\",\\n    \\\"engineering scientist\\\",\\n    \\\"systems engineer\\\",\\n    \\\"aeroelasticity engineer and aircraft designer\\\",\\n    \\\"engineer and technology executive\\\",\\n    \\\"biochemical engineer\\\",\\n    \\\"particle accelerator specialist and engineer\\\",\\n    \\\"hydrogeologist and environmental engineer\\\",\\n    \\\"port and harbor engineer\\\",\\n    \\\"rocket engineer\\\",\\n    \\\"aerospace engineer and NASA manager\\\",\\n    \\\"engineer and aircraft designer\\\",\\n    \\\"chemical engineer and inventor\\\",\\n    \\\"electrical engineer and inventor\\\",\\n    \\\"metallurgical engineer\\\",\\n    \\\"of aerospace engineering\\\",\\n    \\\"and aerospace engineer\\\",\\n    \\\"space engineer\\\",\\n    \\\"electronic engineer\\\",\\n    \\\"design engineer\\\",\\n    \\\"NASA engineer\\\",\\n    \\\"naval engineer\\\",\\n    \\\"petroleum engineer\\\",\\n    \\\"motorcycle engineer\\\",\\n    \\\"satellite engineer\\\",\\n    \\\"engineer and racing car designer\\\",\\n    \\\"biomedical engineer\\\",\\n    \\\"environmental engineer\\\",\\n    \\\"agricultural engineer\\\",\\n    \\\"irrigation engineer\\\",\\n    \\\"engineer and computer scientist\\\",\\n    \\\"industrial engineer\\\",\\n    \\\"bioengineer\\\",\\n    \\\"scientist and engineer\\\",\\n    \\\"acoustical engineer\\\",\\n    \\\"mining engineer and\\\",\\n    \\\"mining engineer\\\",\\n    \\\"aviation engineer\\\",\\n    \\\"hydraulic engineer\\\",\\n    \\\"software engineer\\\",\\n    \\\"audio engineer and inventor\\\",\\n    \\\"audio engineer and\\\",\\n    \\\"audio engineer\\\",\\n    \\\"telecommunications engineer\\\",\\n    \\\"electronics engineer and\\\",\\n    \\\"electronics engineer\\\",\\n    \\\"nuclear engineer\\\",\\n    \\\"computer engineer\\\",\\n    \\\"and automotive engineer\\\",\\n    \\\"automotive engineer\\\",\\n    \\\"structural engineer and\\\",\\n    \\\"structural engineer\\\",\\n    \\\"mechanical engineer and\\\",\\n    \\\"mechanical engineering\\\",\\n    \\\"mechanical engineer\\\",\\n    \\\"and aeronautical engineer\\\",\\n    \\\"aeronautical engineer\\\",\\n    \\\"aerospace engineer\\\",\\n    \\\"and chemical engineer\\\",\\n    \\\"chemical engineer and\\\",\\n    \\\"chemical engineer\\\",\\n    \\\"civil engineering\\\",\\n    \\\"and civil engineer\\\",\\n    \\\"civil engineer and\\\",\\n    \\\"civil engineer\\\",\\n    \\\"of electrical engineering\\\",\\n    \\\"electrical engineer and\\\",\\n    \\\"electrical engineer\\\",\\n    \\\"engineer and inventor\\\",\\n    \\\"and aircraft engineer\\\",\\n    \\\"engineer and space\\\",\\n    \\\"and test engineer\\\",\\n    \\\"and engineer for NASA\\\",\\n    \\\"transportation engineer and\\\",\\n    \\\"optical engineer\\\",\\n    \\\"inventor and engineer\\\",\\n    \\\"and cycling engineer\\\",\\n    \\\"broadcast engineer\\\",\\n    \\\"and aeroplane engineer\\\",\\n    \\\"Electrical engineering\\\",\\n    \\\"paper engineer and\\\",\\n    \\\"of engineering\\\",\\n    \\\"engineering\\\",\\n    \\\"and engineer\\\",\\n    \\\"engineer and\\\",\\n    \\\"engineer\\\",\\n]\\n\\nbusiness_farming = [\\\"co founder of Matchbox Toys\\\"]\\nacademia_humanities = []\\nlaw_enf_military_operator = [\\\"Deputy Secretary of Defense\\\"]\\nspiritual = []\\nsocial = []\\ncrime = []\\nevent_record_other = [\\\"taken hostage in\\\"]\\nother_species = []\";\n",
       "                var nbb_cells = Jupyter.notebook.get_cells();\n",
       "                for (var i = 0; i < nbb_cells.length; ++i) {\n",
       "                    if (nbb_cells[i].input_prompt_number == nbb_cell_id) {\n",
       "                        if (nbb_cells[i].get_text() == nbb_unformatted_code) {\n",
       "                             nbb_cells[i].set_text(nbb_formatted_code);\n",
       "                        }\n",
       "                        break;\n",
       "                    }\n",
       "                }\n",
       "            }, 500);\n",
       "            "
      ],
      "text/plain": [
       "<IPython.core.display.Javascript object>"
      ]
     },
     "metadata": {},
     "output_type": "display_data"
    }
   ],
   "source": [
    "# Creating lists for each category\n",
    "politics_govt_law = []\n",
    "\n",
    "arts = [\n",
    "    \"Grammy Award winning sound engineer and music producer\",\n",
    "    \"sound engineer and record producer\",  # before sciences\n",
    "    \"car design engineer\",\n",
    "    \"recording engineer and producer\",\n",
    "    \"recording engineer and record producer\",\n",
    "    \"Academy Award winning sound engineer\",\n",
    "    \"sound engineer and founder of the BBC Radiophonic Workshop\",\n",
    "    \"recording engineer and studio owner\",\n",
    "    \"audio engineer and producer\",\n",
    "    \"music producer and engineer\",\n",
    "    \"record producer and audio engineer\",\n",
    "    \"audio engineer and video game developer\",\n",
    "    \"audio mastering engineer\",\n",
    "    \"recording engineer and record label owner\",\n",
    "    \"film recording engineer\",\n",
    "    \"Grammy award winning music engineer\",\n",
    "    \"record producer and recording engineer\",\n",
    "    \"music engineer and producer\",\n",
    "    \"and recording engineer\",\n",
    "    \"film sound engineer\",\n",
    "    \"audio engineer and record producer\",\n",
    "    \"sound engineer\",\n",
    "    \"recording engineer\",\n",
    "]\n",
    "sports = []\n",
    "sciences = [\n",
    "    \"electrical and radio engineer\",\n",
    "    \"engineer and statistician\",\n",
    "    \"electrical engineer and co founder\",\n",
    "    \"videogame console engineer\",\n",
    "    \"engineer and glider pilot\",\n",
    "    'engineer nicknamed the \"Father of the Corvette \"',\n",
    "    \"mechanical engineer and inventor\",\n",
    "    \"integrated circuit engineer\",\n",
    "    \"chemical engineer in unleaded gasoline\",\n",
    "    \"computer hardware engineer\",\n",
    "    \"electronics engineer for Sony\",\n",
    "    \"diving engineer\",\n",
    "    \"executive engineer\",\n",
    "    \"electrical engineer and university\",\n",
    "    \"electrical engineer and scientist\",\n",
    "    \"and rocket engineer\",\n",
    "    \"nuclear scientist and chemical engineer\",\n",
    "    \"welding engineer\",\n",
    "    \"scientist and aerospace engineer\",\n",
    "    \"ceramic engineer\",\n",
    "    \"chemical engineer and safety consultant\",\n",
    "    \"audio engineer and electronics engineer\",\n",
    "    \"chemical engineer and pharmaceutical executive\",\n",
    "    \"mining engineer and geologist\",\n",
    "    \"consulting engineer\",\n",
    "    \"engineer and geotechnician\",\n",
    "    \"engineering seismologist\",\n",
    "    \"engineer in charge during the Chernobyl disaster\",\n",
    "    \"pioneering computer engineer\",\n",
    "    \"spacecraft engineer\",\n",
    "    \"engineer and bullet train pioneer\",\n",
    "    \"engineer and optician\",\n",
    "    \"aircraft automotive engineer\",\n",
    "    \"helicopter and aerospace engineer\",\n",
    "    \"engineer and electronic computing pioneer\",\n",
    "    \"rocket engineer who worked at the Jet Propulsion Laboratory\",\n",
    "    \"aerospace engineer and a pioneer in helicopter design\",\n",
    "    \"ice road engineer\",\n",
    "    \"rail engineer\",\n",
    "    \"engineer and aerospace executive\",\n",
    "    \"engineer and co designer of NASA Apollo Lunar Module\",\n",
    "    \"aerospace engineer and member of the\",\n",
    "    \"communication satellites engineer\",\n",
    "    \"aeronautics and astronautic engineer\",\n",
    "    \"biomedical engineering pioneer\",\n",
    "    \"traffic engineer and inventor of the mini roundabout\",\n",
    "    \"chemical engineer for the Procter & Gamble company\",\n",
    "    \"aeronautical engineer who invented the tandem rotor placement in helicopter design\",\n",
    "    \"traffic engineer\",\n",
    "    \"Toyota engineer\",\n",
    "    \"scientist and electrical engineer\",\n",
    "    \"inventor and chemical engineer\",\n",
    "    \"engineer and cryptographer\",\n",
    "    \"computer engineer and scientist\",\n",
    "    \"aeronautical engineer and space scientist\",\n",
    "    \"engineer and R&D executive\",\n",
    "    \"civil engineer and industrial\",\n",
    "    \"thermal engineer\",\n",
    "    \"automotive executive and engineer\",\n",
    "    \"geologist and earthquake engineer\",\n",
    "    \"metallurgist and chemical engineer\",\n",
    "    \"engineer and food scientist\",\n",
    "    \"naval electronics engineer\",\n",
    "    \"control systems engineer\",\n",
    "    \"automotive engineer and executive\",\n",
    "    \"ship engineer\",\n",
    "    \"mechanical engineer and product\",\n",
    "    \"explosives engineer and inventor\",\n",
    "    \"aerospace engineer and fluid dynamicist\",\n",
    "    \"nuclear material engineer\",\n",
    "    \"plant breeding engineer\",\n",
    "    \"marine engineer and executive\",\n",
    "    \"industrial engineer and cycling\",\n",
    "    \"video game engineer\",\n",
    "    \"materials scientist and engineer\",\n",
    "    \"engineering manager\",\n",
    "    \"agronomist and engineer\",\n",
    "    \"engineer and control theorist\",\n",
    "    \"naval engineer and\",\n",
    "    \"construction executive and civil engineer\",\n",
    "    \"agricultural engineer and\",\n",
    "    \"refrigeration engineer\",\n",
    "    \"chemical engineer and scientist\",\n",
    "    \"engineer and scientist\",\n",
    "    \"ice drilling engineer\",\n",
    "    \"ornithologist and engineer\",\n",
    "    \"motorsport engineer\",\n",
    "    \"computer engineer and NASA official\",\n",
    "    \"mechanical engineer and anti nuclear power\",\n",
    "    \"bridge structural engineer\",\n",
    "    \"aircraft engineer\",\n",
    "    \"soil mechanics engineer\",\n",
    "    \"microwave electronics and communications engineer\",\n",
    "    \"camera engineer\",\n",
    "    \"engineer and rocket scientist\",\n",
    "    \"NASA engineer and\",\n",
    "    \"engineer and the second Director of Lockheed Skunk Works from to\",\n",
    "    \"aeronautics engineer\",\n",
    "    \"earthquake engineer\",\n",
    "    \"computational engineer\",\n",
    "    \"engineer and chief executive\",\n",
    "    \"computer engineer and systems scientist\",\n",
    "    \"engineer and inventor of the hovercraft\",\n",
    "    \"railway signal engineer\",\n",
    "    \"and railway engineer\",\n",
    "    \"railway engineer\",\n",
    "    \"optoelectronic engineer\",\n",
    "    \"materials engineer\",\n",
    "    \"auto engineer\",\n",
    "    \"Hall of Fame computer engineer\",\n",
    "    \"flight engineer\",\n",
    "    \"airplane designer and engineer\",\n",
    "    \"and race chassis engineer\",\n",
    "    \"consulting nuclear engineer\",\n",
    "    \"engineering construction executive\",\n",
    "    \"engineering scientist\",\n",
    "    \"systems engineer\",\n",
    "    \"aeroelasticity engineer and aircraft designer\",\n",
    "    \"engineer and technology executive\",\n",
    "    \"biochemical engineer\",\n",
    "    \"particle accelerator specialist and engineer\",\n",
    "    \"hydrogeologist and environmental engineer\",\n",
    "    \"port and harbor engineer\",\n",
    "    \"rocket engineer\",\n",
    "    \"aerospace engineer and NASA manager\",\n",
    "    \"engineer and aircraft designer\",\n",
    "    \"chemical engineer and inventor\",\n",
    "    \"electrical engineer and inventor\",\n",
    "    \"metallurgical engineer\",\n",
    "    \"of aerospace engineering\",\n",
    "    \"and aerospace engineer\",\n",
    "    \"space engineer\",\n",
    "    \"electronic engineer\",\n",
    "    \"design engineer\",\n",
    "    \"NASA engineer\",\n",
    "    \"naval engineer\",\n",
    "    \"petroleum engineer\",\n",
    "    \"motorcycle engineer\",\n",
    "    \"satellite engineer\",\n",
    "    \"engineer and racing car designer\",\n",
    "    \"biomedical engineer\",\n",
    "    \"environmental engineer\",\n",
    "    \"agricultural engineer\",\n",
    "    \"irrigation engineer\",\n",
    "    \"engineer and computer scientist\",\n",
    "    \"industrial engineer\",\n",
    "    \"bioengineer\",\n",
    "    \"scientist and engineer\",\n",
    "    \"acoustical engineer\",\n",
    "    \"mining engineer and\",\n",
    "    \"mining engineer\",\n",
    "    \"aviation engineer\",\n",
    "    \"hydraulic engineer\",\n",
    "    \"software engineer\",\n",
    "    \"audio engineer and inventor\",\n",
    "    \"audio engineer and\",\n",
    "    \"audio engineer\",\n",
    "    \"telecommunications engineer\",\n",
    "    \"electronics engineer and\",\n",
    "    \"electronics engineer\",\n",
    "    \"nuclear engineer\",\n",
    "    \"computer engineer\",\n",
    "    \"and automotive engineer\",\n",
    "    \"automotive engineer\",\n",
    "    \"structural engineer and\",\n",
    "    \"structural engineer\",\n",
    "    \"mechanical engineer and\",\n",
    "    \"mechanical engineering\",\n",
    "    \"mechanical engineer\",\n",
    "    \"and aeronautical engineer\",\n",
    "    \"aeronautical engineer\",\n",
    "    \"aerospace engineer\",\n",
    "    \"and chemical engineer\",\n",
    "    \"chemical engineer and\",\n",
    "    \"chemical engineer\",\n",
    "    \"civil engineering\",\n",
    "    \"and civil engineer\",\n",
    "    \"civil engineer and\",\n",
    "    \"civil engineer\",\n",
    "    \"of electrical engineering\",\n",
    "    \"electrical engineer and\",\n",
    "    \"electrical engineer\",\n",
    "    \"engineer and inventor\",\n",
    "    \"and aircraft engineer\",\n",
    "    \"engineer and space\",\n",
    "    \"and test engineer\",\n",
    "    \"and engineer for NASA\",\n",
    "    \"transportation engineer and\",\n",
    "    \"optical engineer\",\n",
    "    \"inventor and engineer\",\n",
    "    \"and cycling engineer\",\n",
    "    \"broadcast engineer\",\n",
    "    \"and aeroplane engineer\",\n",
    "    \"Electrical engineering\",\n",
    "    \"paper engineer and\",\n",
    "    \"of engineering\",\n",
    "    \"engineering\",\n",
    "    \"and engineer\",\n",
    "    \"engineer and\",\n",
    "    \"engineer\",\n",
    "]\n",
    "\n",
    "business_farming = [\"co founder of Matchbox Toys\"]\n",
    "academia_humanities = []\n",
    "law_enf_military_operator = [\"Deputy Secretary of Defense\"]\n",
    "spiritual = []\n",
    "social = []\n",
    "crime = []\n",
    "event_record_other = [\"taken hostage in\"]\n",
    "other_species = []"
   ]
  },
  {
   "cell_type": "code",
   "execution_count": 77,
   "id": "85f0ea43",
   "metadata": {},
   "outputs": [
    {
     "data": {
      "application/javascript": [
       "\n",
       "            setTimeout(function() {\n",
       "                var nbb_cell_id = 77;\n",
       "                var nbb_unformatted_code = \"# Hard-coding values to \\\"sound engineer\\\" which will correctly categorize entries in arts\\nindex = df[\\n    df[\\\"link\\\"] == \\\"https://en.wikipedia.org/wiki/Bruce_Jackson_(audio_engineer)\\\"\\n].index\\ndf.loc[index, \\\"info_2\\\"] = \\\"sound engineer\\\"\\n\\nindex = df[df[\\\"link\\\"] == \\\"https://en.wikipedia.org/wiki/Seth_Firkins\\\"].index\\ndf.loc[index, \\\"info_2\\\"] = \\\"sound engineer\\\"\";\n",
       "                var nbb_formatted_code = \"# Hard-coding values to \\\"sound engineer\\\" which will correctly categorize entries in arts\\nindex = df[\\n    df[\\\"link\\\"] == \\\"https://en.wikipedia.org/wiki/Bruce_Jackson_(audio_engineer)\\\"\\n].index\\ndf.loc[index, \\\"info_2\\\"] = \\\"sound engineer\\\"\\n\\nindex = df[df[\\\"link\\\"] == \\\"https://en.wikipedia.org/wiki/Seth_Firkins\\\"].index\\ndf.loc[index, \\\"info_2\\\"] = \\\"sound engineer\\\"\";\n",
       "                var nbb_cells = Jupyter.notebook.get_cells();\n",
       "                for (var i = 0; i < nbb_cells.length; ++i) {\n",
       "                    if (nbb_cells[i].input_prompt_number == nbb_cell_id) {\n",
       "                        if (nbb_cells[i].get_text() == nbb_unformatted_code) {\n",
       "                             nbb_cells[i].set_text(nbb_formatted_code);\n",
       "                        }\n",
       "                        break;\n",
       "                    }\n",
       "                }\n",
       "            }, 500);\n",
       "            "
      ],
      "text/plain": [
       "<IPython.core.display.Javascript object>"
      ]
     },
     "metadata": {},
     "output_type": "display_data"
    }
   ],
   "source": [
    "# Hard-coding values to \"sound engineer\" which will correctly categorize entries in arts\n",
    "index = df[\n",
    "    df[\"link\"] == \"https://en.wikipedia.org/wiki/Bruce_Jackson_(audio_engineer)\"\n",
    "].index\n",
    "df.loc[index, \"info_2\"] = \"sound engineer\"\n",
    "\n",
    "index = df[df[\"link\"] == \"https://en.wikipedia.org/wiki/Seth_Firkins\"].index\n",
    "df.loc[index, \"info_2\"] = \"sound engineer\""
   ]
  },
  {
   "cell_type": "code",
   "execution_count": 78,
   "id": "31380d49",
   "metadata": {},
   "outputs": [
    {
     "data": {
      "application/javascript": [
       "\n",
       "            setTimeout(function() {\n",
       "                var nbb_cell_id = 78;\n",
       "                var nbb_unformatted_code = \"# Hard-coding values to \\\"audio engineer\\\" which will correctly categorize entries in sciences\\nindex = df[df[\\\"link\\\"] == \\\"https://en.wikipedia.org/wiki/Alan_R._Pearlman\\\"].index\\ndf.loc[index, \\\"info_2\\\"] = \\\"audio engineer\\\"\\n\\nindex = df[df[\\\"link\\\"] == \\\"https://en.wikipedia.org/wiki/Bruno_Vanryb\\\"].index\\ndf.loc[index, \\\"info_2\\\"] = \\\"audio engineer\\\"\\n\\nindex = df[df[\\\"link\\\"] == \\\"https://en.wikipedia.org/wiki/Dave_Smith_(engineer)\\\"].index\\ndf.loc[index, \\\"info_2\\\"] = \\\"audio engineer\\\"\";\n",
       "                var nbb_formatted_code = \"# Hard-coding values to \\\"audio engineer\\\" which will correctly categorize entries in sciences\\nindex = df[df[\\\"link\\\"] == \\\"https://en.wikipedia.org/wiki/Alan_R._Pearlman\\\"].index\\ndf.loc[index, \\\"info_2\\\"] = \\\"audio engineer\\\"\\n\\nindex = df[df[\\\"link\\\"] == \\\"https://en.wikipedia.org/wiki/Bruno_Vanryb\\\"].index\\ndf.loc[index, \\\"info_2\\\"] = \\\"audio engineer\\\"\\n\\nindex = df[df[\\\"link\\\"] == \\\"https://en.wikipedia.org/wiki/Dave_Smith_(engineer)\\\"].index\\ndf.loc[index, \\\"info_2\\\"] = \\\"audio engineer\\\"\";\n",
       "                var nbb_cells = Jupyter.notebook.get_cells();\n",
       "                for (var i = 0; i < nbb_cells.length; ++i) {\n",
       "                    if (nbb_cells[i].input_prompt_number == nbb_cell_id) {\n",
       "                        if (nbb_cells[i].get_text() == nbb_unformatted_code) {\n",
       "                             nbb_cells[i].set_text(nbb_formatted_code);\n",
       "                        }\n",
       "                        break;\n",
       "                    }\n",
       "                }\n",
       "            }, 500);\n",
       "            "
      ],
      "text/plain": [
       "<IPython.core.display.Javascript object>"
      ]
     },
     "metadata": {},
     "output_type": "display_data"
    }
   ],
   "source": [
    "# Hard-coding values to \"audio engineer\" which will correctly categorize entries in sciences\n",
    "index = df[df[\"link\"] == \"https://en.wikipedia.org/wiki/Alan_R._Pearlman\"].index\n",
    "df.loc[index, \"info_2\"] = \"audio engineer\"\n",
    "\n",
    "index = df[df[\"link\"] == \"https://en.wikipedia.org/wiki/Bruno_Vanryb\"].index\n",
    "df.loc[index, \"info_2\"] = \"audio engineer\"\n",
    "\n",
    "index = df[df[\"link\"] == \"https://en.wikipedia.org/wiki/Dave_Smith_(engineer)\"].index\n",
    "df.loc[index, \"info_2\"] = \"audio engineer\""
   ]
  },
  {
   "cell_type": "markdown",
   "id": "b328cbca",
   "metadata": {},
   "source": [
    "#### Creating `known_for_dict` Dictionary of Category Keys and Specific Role Lists of Values"
   ]
  },
  {
   "cell_type": "code",
   "execution_count": 79,
   "id": "0e878a71",
   "metadata": {},
   "outputs": [
    {
     "data": {
      "application/javascript": [
       "\n",
       "            setTimeout(function() {\n",
       "                var nbb_cell_id = 79;\n",
       "                var nbb_unformatted_code = \"# Combining separate lists into one dictionary\\nknown_for_dict = {\\n    \\\"social\\\": social,\\n    \\\"spiritual\\\": spiritual,\\n    \\\"academia_humanities\\\": academia_humanities,\\n    \\\"business_farming\\\": business_farming,\\n    \\\"arts\\\": arts,\\n    \\\"sciences\\\": sciences,\\n    \\\"politics_govt_law\\\": politics_govt_law,\\n    \\\"law_enf_military_operator\\\": law_enf_military_operator,\\n    \\\"crime\\\": crime,\\n    \\\"event_record_other\\\": event_record_other,\\n    \\\"other_species\\\": other_species,\\n    \\\"sports\\\": sports,\\n}\";\n",
       "                var nbb_formatted_code = \"# Combining separate lists into one dictionary\\nknown_for_dict = {\\n    \\\"social\\\": social,\\n    \\\"spiritual\\\": spiritual,\\n    \\\"academia_humanities\\\": academia_humanities,\\n    \\\"business_farming\\\": business_farming,\\n    \\\"arts\\\": arts,\\n    \\\"sciences\\\": sciences,\\n    \\\"politics_govt_law\\\": politics_govt_law,\\n    \\\"law_enf_military_operator\\\": law_enf_military_operator,\\n    \\\"crime\\\": crime,\\n    \\\"event_record_other\\\": event_record_other,\\n    \\\"other_species\\\": other_species,\\n    \\\"sports\\\": sports,\\n}\";\n",
       "                var nbb_cells = Jupyter.notebook.get_cells();\n",
       "                for (var i = 0; i < nbb_cells.length; ++i) {\n",
       "                    if (nbb_cells[i].input_prompt_number == nbb_cell_id) {\n",
       "                        if (nbb_cells[i].get_text() == nbb_unformatted_code) {\n",
       "                             nbb_cells[i].set_text(nbb_formatted_code);\n",
       "                        }\n",
       "                        break;\n",
       "                    }\n",
       "                }\n",
       "            }, 500);\n",
       "            "
      ],
      "text/plain": [
       "<IPython.core.display.Javascript object>"
      ]
     },
     "metadata": {},
     "output_type": "display_data"
    }
   ],
   "source": [
    "# Combining separate lists into one dictionary\n",
    "known_for_dict = {\n",
    "    \"social\": social,\n",
    "    \"spiritual\": spiritual,\n",
    "    \"academia_humanities\": academia_humanities,\n",
    "    \"business_farming\": business_farming,\n",
    "    \"arts\": arts,\n",
    "    \"sciences\": sciences,\n",
    "    \"politics_govt_law\": politics_govt_law,\n",
    "    \"law_enf_military_operator\": law_enf_military_operator,\n",
    "    \"crime\": crime,\n",
    "    \"event_record_other\": event_record_other,\n",
    "    \"other_species\": other_species,\n",
    "    \"sports\": sports,\n",
    "}"
   ]
  },
  {
   "cell_type": "markdown",
   "id": "f20d06d3",
   "metadata": {},
   "source": [
    "#### Extracting Category from `info_2`"
   ]
  },
  {
   "cell_type": "code",
   "execution_count": 80,
   "id": "114163d5",
   "metadata": {},
   "outputs": [
    {
     "name": "stdout",
     "output_type": "stream",
     "text": [
      "CPU times: total: 1min 59s\n",
      "Wall time: 1min 59s\n"
     ]
    },
    {
     "data": {
      "text/html": [
       "<div>\n",
       "<style scoped>\n",
       "    .dataframe tbody tr th:only-of-type {\n",
       "        vertical-align: middle;\n",
       "    }\n",
       "\n",
       "    .dataframe tbody tr th {\n",
       "        vertical-align: top;\n",
       "    }\n",
       "\n",
       "    .dataframe thead th {\n",
       "        text-align: right;\n",
       "    }\n",
       "</style>\n",
       "<table border=\"1\" class=\"dataframe\">\n",
       "  <thead>\n",
       "    <tr style=\"text-align: right;\">\n",
       "      <th></th>\n",
       "      <th>day</th>\n",
       "      <th>name</th>\n",
       "      <th>info</th>\n",
       "      <th>link</th>\n",
       "      <th>num_references</th>\n",
       "      <th>year</th>\n",
       "      <th>month</th>\n",
       "      <th>info_parenth</th>\n",
       "      <th>info_1</th>\n",
       "      <th>info_2</th>\n",
       "      <th>info_3</th>\n",
       "      <th>info_4</th>\n",
       "      <th>info_5</th>\n",
       "      <th>info_6</th>\n",
       "      <th>info_7</th>\n",
       "      <th>info_8</th>\n",
       "      <th>info_9</th>\n",
       "      <th>info_10</th>\n",
       "      <th>info_11</th>\n",
       "      <th>age</th>\n",
       "      <th>cause_of_death</th>\n",
       "      <th>place_1</th>\n",
       "      <th>place_2</th>\n",
       "      <th>info_parenth_copy</th>\n",
       "      <th>log_num_references</th>\n",
       "      <th>sciences</th>\n",
       "      <th>social</th>\n",
       "      <th>spiritual</th>\n",
       "      <th>academia_humanities</th>\n",
       "      <th>business_farming</th>\n",
       "      <th>arts</th>\n",
       "      <th>sports</th>\n",
       "      <th>law_enf_military_operator</th>\n",
       "      <th>politics_govt_law</th>\n",
       "      <th>crime</th>\n",
       "      <th>event_record_other</th>\n",
       "      <th>other_species</th>\n",
       "      <th>num_categories</th>\n",
       "    </tr>\n",
       "  </thead>\n",
       "  <tbody>\n",
       "    <tr>\n",
       "      <th>44232</th>\n",
       "      <td>29</td>\n",
       "      <td>Godfrey Stafford</td>\n",
       "      <td>, 93, British physicist.</td>\n",
       "      <td>https://en.wikipedia.org/wiki/Godfrey_Stafford</td>\n",
       "      <td>4</td>\n",
       "      <td>2013</td>\n",
       "      <td>July</td>\n",
       "      <td>None</td>\n",
       "      <td>None</td>\n",
       "      <td></td>\n",
       "      <td>None</td>\n",
       "      <td>None</td>\n",
       "      <td>None</td>\n",
       "      <td>None</td>\n",
       "      <td>None</td>\n",
       "      <td>None</td>\n",
       "      <td>None</td>\n",
       "      <td>None</td>\n",
       "      <td>None</td>\n",
       "      <td>93.0</td>\n",
       "      <td>None</td>\n",
       "      <td>United Kingdom of Great Britain and Northern Ireland</td>\n",
       "      <td>None</td>\n",
       "      <td>None</td>\n",
       "      <td>1.609438</td>\n",
       "      <td>1</td>\n",
       "      <td>0</td>\n",
       "      <td>0</td>\n",
       "      <td>0</td>\n",
       "      <td>0</td>\n",
       "      <td>0</td>\n",
       "      <td>0</td>\n",
       "      <td>0</td>\n",
       "      <td>0</td>\n",
       "      <td>0</td>\n",
       "      <td>0</td>\n",
       "      <td>0</td>\n",
       "      <td>1</td>\n",
       "    </tr>\n",
       "    <tr>\n",
       "      <th>47635</th>\n",
       "      <td>11</td>\n",
       "      <td>Bernard J. Lechner</td>\n",
       "      <td>, 82, American electronics engineer .</td>\n",
       "      <td>https://en.wikipedia.org/wiki/Bernard_J._Lechner</td>\n",
       "      <td>10</td>\n",
       "      <td>2014</td>\n",
       "      <td>April</td>\n",
       "      <td>RCA</td>\n",
       "      <td>None</td>\n",
       "      <td></td>\n",
       "      <td>None</td>\n",
       "      <td>None</td>\n",
       "      <td>None</td>\n",
       "      <td>None</td>\n",
       "      <td>None</td>\n",
       "      <td>None</td>\n",
       "      <td>None</td>\n",
       "      <td>None</td>\n",
       "      <td>None</td>\n",
       "      <td>82.0</td>\n",
       "      <td>None</td>\n",
       "      <td>United States of America</td>\n",
       "      <td>None</td>\n",
       "      <td>RCA</td>\n",
       "      <td>2.397895</td>\n",
       "      <td>1</td>\n",
       "      <td>0</td>\n",
       "      <td>0</td>\n",
       "      <td>0</td>\n",
       "      <td>0</td>\n",
       "      <td>0</td>\n",
       "      <td>0</td>\n",
       "      <td>0</td>\n",
       "      <td>0</td>\n",
       "      <td>0</td>\n",
       "      <td>0</td>\n",
       "      <td>0</td>\n",
       "      <td>1</td>\n",
       "    </tr>\n",
       "  </tbody>\n",
       "</table>\n",
       "</div>"
      ],
      "text/plain": [
       "      day                name                                   info  \\\n",
       "44232  29    Godfrey Stafford               , 93, British physicist.   \n",
       "47635  11  Bernard J. Lechner  , 82, American electronics engineer .   \n",
       "\n",
       "                                                   link  num_references  year  \\\n",
       "44232    https://en.wikipedia.org/wiki/Godfrey_Stafford               4  2013   \n",
       "47635  https://en.wikipedia.org/wiki/Bernard_J._Lechner              10  2014   \n",
       "\n",
       "       month info_parenth info_1 info_2 info_3 info_4 info_5 info_6 info_7  \\\n",
       "44232   July         None   None          None   None   None   None   None   \n",
       "47635  April          RCA   None          None   None   None   None   None   \n",
       "\n",
       "      info_8 info_9 info_10 info_11   age cause_of_death  \\\n",
       "44232   None   None    None    None  93.0           None   \n",
       "47635   None   None    None    None  82.0           None   \n",
       "\n",
       "                                                    place_1 place_2  \\\n",
       "44232  United Kingdom of Great Britain and Northern Ireland    None   \n",
       "47635                              United States of America    None   \n",
       "\n",
       "      info_parenth_copy  log_num_references  sciences  social  spiritual  \\\n",
       "44232              None            1.609438         1       0          0   \n",
       "47635               RCA            2.397895         1       0          0   \n",
       "\n",
       "       academia_humanities  business_farming  arts  sports  \\\n",
       "44232                    0                 0     0       0   \n",
       "47635                    0                 0     0       0   \n",
       "\n",
       "       law_enf_military_operator  politics_govt_law  crime  \\\n",
       "44232                          0                  0      0   \n",
       "47635                          0                  0      0   \n",
       "\n",
       "       event_record_other  other_species  num_categories  \n",
       "44232                   0              0               1  \n",
       "47635                   0              0               1  "
      ]
     },
     "execution_count": 80,
     "metadata": {},
     "output_type": "execute_result"
    },
    {
     "data": {
      "application/javascript": [
       "\n",
       "            setTimeout(function() {\n",
       "                var nbb_cell_id = 80;\n",
       "                var nbb_unformatted_code = \"%%time\\n\\n# Dictionary version\\nsearch_dict = known_for_dict\\n\\n# Column to check\\ncolumn = 'info_2'\\n\\n# Dataframe\\ndataframe = df[column].notna()\\n\\n# For loop to find role in column and extract it as category\\nfor category, category_lst in search_dict.items():\\n    for role in category_lst:\\n        for index in dataframe.index:\\n            item = df.loc[index, column]\\n            if item:\\n                if role in item:\\n                    df.loc[index, category] = 1\\n                    df.loc[index, column] = item.replace(role, '').strip()\\n\\n# Updating num_categories\\ndf[\\\"num_categories\\\"] = df[known_for_dict.keys()].sum(axis=1)\\n\\n# Checking a sample of rows\\ndf[df['sciences'] ==1].sample(2)\";\n",
       "                var nbb_formatted_code = \"%%time\\n\\n# Dictionary version\\nsearch_dict = known_for_dict\\n\\n# Column to check\\ncolumn = 'info_2'\\n\\n# Dataframe\\ndataframe = df[column].notna()\\n\\n# For loop to find role in column and extract it as category\\nfor category, category_lst in search_dict.items():\\n    for role in category_lst:\\n        for index in dataframe.index:\\n            item = df.loc[index, column]\\n            if item:\\n                if role in item:\\n                    df.loc[index, category] = 1\\n                    df.loc[index, column] = item.replace(role, '').strip()\\n\\n# Updating num_categories\\ndf[\\\"num_categories\\\"] = df[known_for_dict.keys()].sum(axis=1)\\n\\n# Checking a sample of rows\\ndf[df['sciences'] ==1].sample(2)\";\n",
       "                var nbb_cells = Jupyter.notebook.get_cells();\n",
       "                for (var i = 0; i < nbb_cells.length; ++i) {\n",
       "                    if (nbb_cells[i].input_prompt_number == nbb_cell_id) {\n",
       "                        if (nbb_cells[i].get_text() == nbb_unformatted_code) {\n",
       "                             nbb_cells[i].set_text(nbb_formatted_code);\n",
       "                        }\n",
       "                        break;\n",
       "                    }\n",
       "                }\n",
       "            }, 500);\n",
       "            "
      ],
      "text/plain": [
       "<IPython.core.display.Javascript object>"
      ]
     },
     "metadata": {},
     "output_type": "display_data"
    }
   ],
   "source": [
    "%%time\n",
    "\n",
    "# Dictionary version\n",
    "search_dict = known_for_dict\n",
    "\n",
    "# Column to check\n",
    "column = 'info_2'\n",
    "\n",
    "# Dataframe\n",
    "dataframe = df[column].notna()\n",
    "\n",
    "# For loop to find role in column and extract it as category\n",
    "for category, category_lst in search_dict.items():\n",
    "    for role in category_lst:\n",
    "        for index in dataframe.index:\n",
    "            item = df.loc[index, column]\n",
    "            if item:\n",
    "                if role in item:\n",
    "                    df.loc[index, category] = 1\n",
    "                    df.loc[index, column] = item.replace(role, '').strip()\n",
    "\n",
    "# Updating num_categories\n",
    "df[\"num_categories\"] = df[known_for_dict.keys()].sum(axis=1)\n",
    "\n",
    "# Checking a sample of rows\n",
    "df[df['sciences'] ==1].sample(2)"
   ]
  },
  {
   "cell_type": "markdown",
   "id": "e66f3cc2",
   "metadata": {},
   "source": [
    "#### Checking the Number of Rows without a First Category"
   ]
  },
  {
   "cell_type": "code",
   "execution_count": 81,
   "id": "81909ad0",
   "metadata": {},
   "outputs": [
    {
     "name": "stdout",
     "output_type": "stream",
     "text": [
      "There are 35348 entries without any known_for category.\n"
     ]
    },
    {
     "data": {
      "application/javascript": [
       "\n",
       "            setTimeout(function() {\n",
       "                var nbb_cell_id = 81;\n",
       "                var nbb_unformatted_code = \"# Checking the number of rows without a first category\\nprint(\\n    f'There are {len(df[df[\\\"num_categories\\\"]==0])} entries without any known_for category.'\\n)\";\n",
       "                var nbb_formatted_code = \"# Checking the number of rows without a first category\\nprint(\\n    f'There are {len(df[df[\\\"num_categories\\\"]==0])} entries without any known_for category.'\\n)\";\n",
       "                var nbb_cells = Jupyter.notebook.get_cells();\n",
       "                for (var i = 0; i < nbb_cells.length; ++i) {\n",
       "                    if (nbb_cells[i].input_prompt_number == nbb_cell_id) {\n",
       "                        if (nbb_cells[i].get_text() == nbb_unformatted_code) {\n",
       "                             nbb_cells[i].set_text(nbb_formatted_code);\n",
       "                        }\n",
       "                        break;\n",
       "                    }\n",
       "                }\n",
       "            }, 500);\n",
       "            "
      ],
      "text/plain": [
       "<IPython.core.display.Javascript object>"
      ]
     },
     "metadata": {},
     "output_type": "display_data"
    }
   ],
   "source": [
    "# Checking the number of rows without a first category\n",
    "print(\n",
    "    f'There are {len(df[df[\"num_categories\"]==0])} entries without any known_for category.'\n",
    ")"
   ]
  },
  {
   "cell_type": "markdown",
   "id": "b40f49dd",
   "metadata": {},
   "source": [
    "#### Observations:\n",
    "- We will proceed to rebuild `known_for_dict` for the next iteration."
   ]
  },
  {
   "cell_type": "markdown",
   "id": "6a528e2c",
   "metadata": {},
   "source": [
    "#### Finding `known_for` Roles in `info_2`"
   ]
  },
  {
   "cell_type": "code",
   "execution_count": 82,
   "id": "9d5910f3",
   "metadata": {},
   "outputs": [
    {
     "data": {
      "application/javascript": [
       "\n",
       "            setTimeout(function() {\n",
       "                var nbb_cell_id = 82;\n",
       "                var nbb_unformatted_code = \"# Obtaining values for column and their counts\\nroles_list = df[\\\"info_2\\\"].value_counts(ascending=True).index.tolist()\";\n",
       "                var nbb_formatted_code = \"# Obtaining values for column and their counts\\nroles_list = df[\\\"info_2\\\"].value_counts(ascending=True).index.tolist()\";\n",
       "                var nbb_cells = Jupyter.notebook.get_cells();\n",
       "                for (var i = 0; i < nbb_cells.length; ++i) {\n",
       "                    if (nbb_cells[i].input_prompt_number == nbb_cell_id) {\n",
       "                        if (nbb_cells[i].get_text() == nbb_unformatted_code) {\n",
       "                             nbb_cells[i].set_text(nbb_formatted_code);\n",
       "                        }\n",
       "                        break;\n",
       "                    }\n",
       "                }\n",
       "            }, 500);\n",
       "            "
      ],
      "text/plain": [
       "<IPython.core.display.Javascript object>"
      ]
     },
     "metadata": {},
     "output_type": "display_data"
    }
   ],
   "source": [
    "# Obtaining values for column and their counts\n",
    "roles_list = df[\"info_2\"].value_counts(ascending=True).index.tolist()"
   ]
  },
  {
   "cell_type": "code",
   "execution_count": 83,
   "id": "94956db3",
   "metadata": {},
   "outputs": [
    {
     "data": {
      "application/javascript": [
       "\n",
       "            setTimeout(function() {\n",
       "                var nbb_cell_id = 83;\n",
       "                var nbb_unformatted_code = \"# # Code to check each value\\n# roles_list.pop()\";\n",
       "                var nbb_formatted_code = \"# # Code to check each value\\n# roles_list.pop()\";\n",
       "                var nbb_cells = Jupyter.notebook.get_cells();\n",
       "                for (var i = 0; i < nbb_cells.length; ++i) {\n",
       "                    if (nbb_cells[i].input_prompt_number == nbb_cell_id) {\n",
       "                        if (nbb_cells[i].get_text() == nbb_unformatted_code) {\n",
       "                             nbb_cells[i].set_text(nbb_formatted_code);\n",
       "                        }\n",
       "                        break;\n",
       "                    }\n",
       "                }\n",
       "            }, 500);\n",
       "            "
      ],
      "text/plain": [
       "<IPython.core.display.Javascript object>"
      ]
     },
     "metadata": {},
     "output_type": "display_data"
    }
   ],
   "source": [
    "# # Code to check each value\n",
    "# roles_list.pop()"
   ]
  },
  {
   "cell_type": "code",
   "execution_count": 84,
   "id": "e1147076",
   "metadata": {},
   "outputs": [
    {
     "data": {
      "application/javascript": [
       "\n",
       "            setTimeout(function() {\n",
       "                var nbb_cell_id = 84;\n",
       "                var nbb_unformatted_code = \"# # Create specific_roles_list for above popped value\\n# specific_roles_list = (\\n#     df.loc[\\n#         [index for index in df.index if \\\"philanthropist\\\" in df.loc[index, \\\"info\\\"]],\\n#         \\\"info_2\\\",\\n#     ]\\n#     .value_counts()\\n#     .index.tolist()\\n# )\";\n",
       "                var nbb_formatted_code = \"# # Create specific_roles_list for above popped value\\n# specific_roles_list = (\\n#     df.loc[\\n#         [index for index in df.index if \\\"philanthropist\\\" in df.loc[index, \\\"info\\\"]],\\n#         \\\"info_2\\\",\\n#     ]\\n#     .value_counts()\\n#     .index.tolist()\\n# )\";\n",
       "                var nbb_cells = Jupyter.notebook.get_cells();\n",
       "                for (var i = 0; i < nbb_cells.length; ++i) {\n",
       "                    if (nbb_cells[i].input_prompt_number == nbb_cell_id) {\n",
       "                        if (nbb_cells[i].get_text() == nbb_unformatted_code) {\n",
       "                             nbb_cells[i].set_text(nbb_formatted_code);\n",
       "                        }\n",
       "                        break;\n",
       "                    }\n",
       "                }\n",
       "            }, 500);\n",
       "            "
      ],
      "text/plain": [
       "<IPython.core.display.Javascript object>"
      ]
     },
     "metadata": {},
     "output_type": "display_data"
    }
   ],
   "source": [
    "# # Create specific_roles_list for above popped value\n",
    "# specific_roles_list = (\n",
    "#     df.loc[\n",
    "#         [index for index in df.index if \"philanthropist\" in df.loc[index, \"info\"]],\n",
    "#         \"info_2\",\n",
    "#     ]\n",
    "#     .value_counts()\n",
    "#     .index.tolist()\n",
    "# )"
   ]
  },
  {
   "cell_type": "code",
   "execution_count": 85,
   "id": "985b654e",
   "metadata": {},
   "outputs": [
    {
     "data": {
      "application/javascript": [
       "\n",
       "            setTimeout(function() {\n",
       "                var nbb_cell_id = 85;\n",
       "                var nbb_unformatted_code = \"# # Code to check each specific value\\n# specific_roles_list.pop()\";\n",
       "                var nbb_formatted_code = \"# # Code to check each specific value\\n# specific_roles_list.pop()\";\n",
       "                var nbb_cells = Jupyter.notebook.get_cells();\n",
       "                for (var i = 0; i < nbb_cells.length; ++i) {\n",
       "                    if (nbb_cells[i].input_prompt_number == nbb_cell_id) {\n",
       "                        if (nbb_cells[i].get_text() == nbb_unformatted_code) {\n",
       "                             nbb_cells[i].set_text(nbb_formatted_code);\n",
       "                        }\n",
       "                        break;\n",
       "                    }\n",
       "                }\n",
       "            }, 500);\n",
       "            "
      ],
      "text/plain": [
       "<IPython.core.display.Javascript object>"
      ]
     },
     "metadata": {},
     "output_type": "display_data"
    }
   ],
   "source": [
    "# # Code to check each specific value\n",
    "# specific_roles_list.pop()"
   ]
  },
  {
   "cell_type": "code",
   "execution_count": 86,
   "id": "0da8214e",
   "metadata": {},
   "outputs": [
    {
     "data": {
      "application/javascript": [
       "\n",
       "            setTimeout(function() {\n",
       "                var nbb_cell_id = 86;\n",
       "                var nbb_unformatted_code = \"# # Example code to quick-screen values that may overlap categories\\n# df.loc[\\n#     [\\n#         index\\n#         for index in df.index\\n#         if \\\"heiress and philanthropist\\\" in df.loc[index, \\\"info\\\"]\\n#     ]\\n# ]\";\n",
       "                var nbb_formatted_code = \"# # Example code to quick-screen values that may overlap categories\\n# df.loc[\\n#     [\\n#         index\\n#         for index in df.index\\n#         if \\\"heiress and philanthropist\\\" in df.loc[index, \\\"info\\\"]\\n#     ]\\n# ]\";\n",
       "                var nbb_cells = Jupyter.notebook.get_cells();\n",
       "                for (var i = 0; i < nbb_cells.length; ++i) {\n",
       "                    if (nbb_cells[i].input_prompt_number == nbb_cell_id) {\n",
       "                        if (nbb_cells[i].get_text() == nbb_unformatted_code) {\n",
       "                             nbb_cells[i].set_text(nbb_formatted_code);\n",
       "                        }\n",
       "                        break;\n",
       "                    }\n",
       "                }\n",
       "            }, 500);\n",
       "            "
      ],
      "text/plain": [
       "<IPython.core.display.Javascript object>"
      ]
     },
     "metadata": {},
     "output_type": "display_data"
    }
   ],
   "source": [
    "# # Example code to quick-screen values that may overlap categories\n",
    "# df.loc[\n",
    "#     [\n",
    "#         index\n",
    "#         for index in df.index\n",
    "#         if \"heiress and philanthropist\" in df.loc[index, \"info\"]\n",
    "#     ]\n",
    "# ]"
   ]
  },
  {
   "cell_type": "code",
   "execution_count": 87,
   "id": "d1005adc",
   "metadata": {},
   "outputs": [
    {
     "data": {
      "application/javascript": [
       "\n",
       "            setTimeout(function() {\n",
       "                var nbb_cell_id = 87;\n",
       "                var nbb_unformatted_code = \"# # Example code to quick-screen values that may overlap categories\\n# df.loc[\\n#     [\\n#         index\\n#         for index in df.index\\n#         if \\\"outlaw country music singer songwriter\\\" in df.loc[index, \\\"info\\\"]\\n#     ]\\n# ]\";\n",
       "                var nbb_formatted_code = \"# # Example code to quick-screen values that may overlap categories\\n# df.loc[\\n#     [\\n#         index\\n#         for index in df.index\\n#         if \\\"outlaw country music singer songwriter\\\" in df.loc[index, \\\"info\\\"]\\n#     ]\\n# ]\";\n",
       "                var nbb_cells = Jupyter.notebook.get_cells();\n",
       "                for (var i = 0; i < nbb_cells.length; ++i) {\n",
       "                    if (nbb_cells[i].input_prompt_number == nbb_cell_id) {\n",
       "                        if (nbb_cells[i].get_text() == nbb_unformatted_code) {\n",
       "                             nbb_cells[i].set_text(nbb_formatted_code);\n",
       "                        }\n",
       "                        break;\n",
       "                    }\n",
       "                }\n",
       "            }, 500);\n",
       "            "
      ],
      "text/plain": [
       "<IPython.core.display.Javascript object>"
      ]
     },
     "metadata": {},
     "output_type": "display_data"
    }
   ],
   "source": [
    "# # Example code to quick-screen values that may overlap categories\n",
    "# df.loc[\n",
    "#     [\n",
    "#         index\n",
    "#         for index in df.index\n",
    "#         if \"outlaw country music singer songwriter\" in df.loc[index, \"info\"]\n",
    "#     ]\n",
    "# ]"
   ]
  },
  {
   "cell_type": "code",
   "execution_count": 88,
   "id": "4a90aa43",
   "metadata": {},
   "outputs": [
    {
     "data": {
      "application/javascript": [
       "\n",
       "            setTimeout(function() {\n",
       "                var nbb_cell_id = 88;\n",
       "                var nbb_unformatted_code = \"# # Example code to quick-check a specific entry\\n# df[df[\\\"info_2\\\"] == \\\"philanthropist and matriarch of the Bronfman family\\\"]\";\n",
       "                var nbb_formatted_code = \"# # Example code to quick-check a specific entry\\n# df[df[\\\"info_2\\\"] == \\\"philanthropist and matriarch of the Bronfman family\\\"]\";\n",
       "                var nbb_cells = Jupyter.notebook.get_cells();\n",
       "                for (var i = 0; i < nbb_cells.length; ++i) {\n",
       "                    if (nbb_cells[i].input_prompt_number == nbb_cell_id) {\n",
       "                        if (nbb_cells[i].get_text() == nbb_unformatted_code) {\n",
       "                             nbb_cells[i].set_text(nbb_formatted_code);\n",
       "                        }\n",
       "                        break;\n",
       "                    }\n",
       "                }\n",
       "            }, 500);\n",
       "            "
      ],
      "text/plain": [
       "<IPython.core.display.Javascript object>"
      ]
     },
     "metadata": {},
     "output_type": "display_data"
    }
   ],
   "source": [
    "# # Example code to quick-check a specific entry\n",
    "# df[df[\"info_2\"] == \"philanthropist and matriarch of the Bronfman family\"]"
   ]
  },
  {
   "cell_type": "markdown",
   "id": "ad261632",
   "metadata": {},
   "source": [
    "#### Creating Lists for Each `known_for` Category"
   ]
  },
  {
   "cell_type": "code",
   "execution_count": 89,
   "id": "a94c1c36",
   "metadata": {},
   "outputs": [
    {
     "data": {
      "application/javascript": [
       "\n",
       "            setTimeout(function() {\n",
       "                var nbb_cell_id = 89;\n",
       "                var nbb_unformatted_code = \"# Creating lists for each category\\npolitics_govt_law = []\\n\\narts = []\\nsports = []\\nsciences = [\\\"otorhinolaryngologist\\\"]\\n\\nbusiness_farming = []\\nacademia_humanities = [\\n    \\\"shoe museum curator\\\",\\n]\\nlaw_enf_military_operator = [\\n    \\\"ATS volunteer\\\",\\n]\\nspiritual = []\\nsocial = [\\n    \\\"and philanthropist in West New Province\\\",\\n    \\\"Building Society founder and philanthropist\\\",\\n    \\\"philanthropist and widow of Tektronix founder Howard Vollum\\\",\\n    \\\"philanthropist and member of the Rothschild family\\\",\\n    \\\"philanthropist and matriarch of the Bronfman family\\\",\\n    \\\"social change philanthropist\\\",\\n    'philanthropist known in Kansas City as \\\"Secret Santa\\\"',\\n    \\\"philanthropist and wife of Charles Bronfman\\\",\\n    \\\"Ford Motor Company heiress and prominent philanthropist\\\",\\n    \\\"philanthropist and heiress to Mellon family fortune\\\"\\n    \\\"philanthropist and wife of industrialist Charles W Engelhard Jr\\\",\\n    \\\"philanthropist; widow of McDonald founder Ray Kroc\\\",\\n    \\\"philanthropist and socialite\\\",\\n    \\\"welfare worker and philanthropist\\\",\\n    \\\"riveter and philanthropist\\\",\\n    \\\"philanthropist and child welfare advocate\\\",\\n    \\\"philanthropist and social worker\\\",\\n    \\\"social worker and philanthropist\\\",\\n    \\\"community advocate and philanthropist\\\",\\n    \\\"heiress and philanthropist\\\",\\n    \\\"socialite and philanthropist\\\",\\n    \\\"and philanthropist\\\",\\n    \\\"philanthropist and\\\",\\n    \\\"philanthropist\\\",\\n]\\ncrime = []\\nevent_record_other = []\\nother_species = []\";\n",
       "                var nbb_formatted_code = \"# Creating lists for each category\\npolitics_govt_law = []\\n\\narts = []\\nsports = []\\nsciences = [\\\"otorhinolaryngologist\\\"]\\n\\nbusiness_farming = []\\nacademia_humanities = [\\n    \\\"shoe museum curator\\\",\\n]\\nlaw_enf_military_operator = [\\n    \\\"ATS volunteer\\\",\\n]\\nspiritual = []\\nsocial = [\\n    \\\"and philanthropist in West New Province\\\",\\n    \\\"Building Society founder and philanthropist\\\",\\n    \\\"philanthropist and widow of Tektronix founder Howard Vollum\\\",\\n    \\\"philanthropist and member of the Rothschild family\\\",\\n    \\\"philanthropist and matriarch of the Bronfman family\\\",\\n    \\\"social change philanthropist\\\",\\n    'philanthropist known in Kansas City as \\\"Secret Santa\\\"',\\n    \\\"philanthropist and wife of Charles Bronfman\\\",\\n    \\\"Ford Motor Company heiress and prominent philanthropist\\\",\\n    \\\"philanthropist and heiress to Mellon family fortune\\\"\\n    \\\"philanthropist and wife of industrialist Charles W Engelhard Jr\\\",\\n    \\\"philanthropist; widow of McDonald founder Ray Kroc\\\",\\n    \\\"philanthropist and socialite\\\",\\n    \\\"welfare worker and philanthropist\\\",\\n    \\\"riveter and philanthropist\\\",\\n    \\\"philanthropist and child welfare advocate\\\",\\n    \\\"philanthropist and social worker\\\",\\n    \\\"social worker and philanthropist\\\",\\n    \\\"community advocate and philanthropist\\\",\\n    \\\"heiress and philanthropist\\\",\\n    \\\"socialite and philanthropist\\\",\\n    \\\"and philanthropist\\\",\\n    \\\"philanthropist and\\\",\\n    \\\"philanthropist\\\",\\n]\\ncrime = []\\nevent_record_other = []\\nother_species = []\";\n",
       "                var nbb_cells = Jupyter.notebook.get_cells();\n",
       "                for (var i = 0; i < nbb_cells.length; ++i) {\n",
       "                    if (nbb_cells[i].input_prompt_number == nbb_cell_id) {\n",
       "                        if (nbb_cells[i].get_text() == nbb_unformatted_code) {\n",
       "                             nbb_cells[i].set_text(nbb_formatted_code);\n",
       "                        }\n",
       "                        break;\n",
       "                    }\n",
       "                }\n",
       "            }, 500);\n",
       "            "
      ],
      "text/plain": [
       "<IPython.core.display.Javascript object>"
      ]
     },
     "metadata": {},
     "output_type": "display_data"
    }
   ],
   "source": [
    "# Creating lists for each category\n",
    "politics_govt_law = []\n",
    "\n",
    "arts = []\n",
    "sports = []\n",
    "sciences = [\"otorhinolaryngologist\"]\n",
    "\n",
    "business_farming = []\n",
    "academia_humanities = [\n",
    "    \"shoe museum curator\",\n",
    "]\n",
    "law_enf_military_operator = [\n",
    "    \"ATS volunteer\",\n",
    "]\n",
    "spiritual = []\n",
    "social = [\n",
    "    \"and philanthropist in West New Province\",\n",
    "    \"Building Society founder and philanthropist\",\n",
    "    \"philanthropist and widow of Tektronix founder Howard Vollum\",\n",
    "    \"philanthropist and member of the Rothschild family\",\n",
    "    \"philanthropist and matriarch of the Bronfman family\",\n",
    "    \"social change philanthropist\",\n",
    "    'philanthropist known in Kansas City as \"Secret Santa\"',\n",
    "    \"philanthropist and wife of Charles Bronfman\",\n",
    "    \"Ford Motor Company heiress and prominent philanthropist\",\n",
    "    \"philanthropist and heiress to Mellon family fortune\"\n",
    "    \"philanthropist and wife of industrialist Charles W Engelhard Jr\",\n",
    "    \"philanthropist; widow of McDonald founder Ray Kroc\",\n",
    "    \"philanthropist and socialite\",\n",
    "    \"welfare worker and philanthropist\",\n",
    "    \"riveter and philanthropist\",\n",
    "    \"philanthropist and child welfare advocate\",\n",
    "    \"philanthropist and social worker\",\n",
    "    \"social worker and philanthropist\",\n",
    "    \"community advocate and philanthropist\",\n",
    "    \"heiress and philanthropist\",\n",
    "    \"socialite and philanthropist\",\n",
    "    \"and philanthropist\",\n",
    "    \"philanthropist and\",\n",
    "    \"philanthropist\",\n",
    "]\n",
    "crime = []\n",
    "event_record_other = []\n",
    "other_species = []"
   ]
  },
  {
   "cell_type": "markdown",
   "id": "3c2bc8c2",
   "metadata": {},
   "source": [
    "#### Creating `known_for_dict` Dictionary of Category Keys and Specific Role Lists of Values"
   ]
  },
  {
   "cell_type": "code",
   "execution_count": 90,
   "id": "90b0e523",
   "metadata": {},
   "outputs": [
    {
     "data": {
      "application/javascript": [
       "\n",
       "            setTimeout(function() {\n",
       "                var nbb_cell_id = 90;\n",
       "                var nbb_unformatted_code = \"# Combining separate lists into one dictionary\\nknown_for_dict = {\\n    \\\"social\\\": social,\\n    \\\"spiritual\\\": spiritual,\\n    \\\"academia_humanities\\\": academia_humanities,\\n    \\\"business_farming\\\": business_farming,\\n    \\\"sciences\\\": sciences,\\n    \\\"politics_govt_law\\\": politics_govt_law,\\n    \\\"law_enf_military_operator\\\": law_enf_military_operator,\\n    \\\"crime\\\": crime,\\n    \\\"event_record_other\\\": event_record_other,\\n    \\\"other_species\\\": other_species,\\n    \\\"arts\\\": arts,\\n    \\\"sports\\\": sports,\\n}\";\n",
       "                var nbb_formatted_code = \"# Combining separate lists into one dictionary\\nknown_for_dict = {\\n    \\\"social\\\": social,\\n    \\\"spiritual\\\": spiritual,\\n    \\\"academia_humanities\\\": academia_humanities,\\n    \\\"business_farming\\\": business_farming,\\n    \\\"sciences\\\": sciences,\\n    \\\"politics_govt_law\\\": politics_govt_law,\\n    \\\"law_enf_military_operator\\\": law_enf_military_operator,\\n    \\\"crime\\\": crime,\\n    \\\"event_record_other\\\": event_record_other,\\n    \\\"other_species\\\": other_species,\\n    \\\"arts\\\": arts,\\n    \\\"sports\\\": sports,\\n}\";\n",
       "                var nbb_cells = Jupyter.notebook.get_cells();\n",
       "                for (var i = 0; i < nbb_cells.length; ++i) {\n",
       "                    if (nbb_cells[i].input_prompt_number == nbb_cell_id) {\n",
       "                        if (nbb_cells[i].get_text() == nbb_unformatted_code) {\n",
       "                             nbb_cells[i].set_text(nbb_formatted_code);\n",
       "                        }\n",
       "                        break;\n",
       "                    }\n",
       "                }\n",
       "            }, 500);\n",
       "            "
      ],
      "text/plain": [
       "<IPython.core.display.Javascript object>"
      ]
     },
     "metadata": {},
     "output_type": "display_data"
    }
   ],
   "source": [
    "# Combining separate lists into one dictionary\n",
    "known_for_dict = {\n",
    "    \"social\": social,\n",
    "    \"spiritual\": spiritual,\n",
    "    \"academia_humanities\": academia_humanities,\n",
    "    \"business_farming\": business_farming,\n",
    "    \"sciences\": sciences,\n",
    "    \"politics_govt_law\": politics_govt_law,\n",
    "    \"law_enf_military_operator\": law_enf_military_operator,\n",
    "    \"crime\": crime,\n",
    "    \"event_record_other\": event_record_other,\n",
    "    \"other_species\": other_species,\n",
    "    \"arts\": arts,\n",
    "    \"sports\": sports,\n",
    "}"
   ]
  },
  {
   "cell_type": "markdown",
   "id": "46ac4079",
   "metadata": {},
   "source": [
    "#### Extracting Category from `info_2`"
   ]
  },
  {
   "cell_type": "code",
   "execution_count": 91,
   "id": "fa2e6255",
   "metadata": {},
   "outputs": [
    {
     "name": "stdout",
     "output_type": "stream",
     "text": [
      "CPU times: total: 14.2 s\n",
      "Wall time: 14.2 s\n"
     ]
    },
    {
     "data": {
      "text/html": [
       "<div>\n",
       "<style scoped>\n",
       "    .dataframe tbody tr th:only-of-type {\n",
       "        vertical-align: middle;\n",
       "    }\n",
       "\n",
       "    .dataframe tbody tr th {\n",
       "        vertical-align: top;\n",
       "    }\n",
       "\n",
       "    .dataframe thead th {\n",
       "        text-align: right;\n",
       "    }\n",
       "</style>\n",
       "<table border=\"1\" class=\"dataframe\">\n",
       "  <thead>\n",
       "    <tr style=\"text-align: right;\">\n",
       "      <th></th>\n",
       "      <th>day</th>\n",
       "      <th>name</th>\n",
       "      <th>info</th>\n",
       "      <th>link</th>\n",
       "      <th>num_references</th>\n",
       "      <th>year</th>\n",
       "      <th>month</th>\n",
       "      <th>info_parenth</th>\n",
       "      <th>info_1</th>\n",
       "      <th>info_2</th>\n",
       "      <th>info_3</th>\n",
       "      <th>info_4</th>\n",
       "      <th>info_5</th>\n",
       "      <th>info_6</th>\n",
       "      <th>info_7</th>\n",
       "      <th>info_8</th>\n",
       "      <th>info_9</th>\n",
       "      <th>info_10</th>\n",
       "      <th>info_11</th>\n",
       "      <th>age</th>\n",
       "      <th>cause_of_death</th>\n",
       "      <th>place_1</th>\n",
       "      <th>place_2</th>\n",
       "      <th>info_parenth_copy</th>\n",
       "      <th>log_num_references</th>\n",
       "      <th>sciences</th>\n",
       "      <th>social</th>\n",
       "      <th>spiritual</th>\n",
       "      <th>academia_humanities</th>\n",
       "      <th>business_farming</th>\n",
       "      <th>arts</th>\n",
       "      <th>sports</th>\n",
       "      <th>law_enf_military_operator</th>\n",
       "      <th>politics_govt_law</th>\n",
       "      <th>crime</th>\n",
       "      <th>event_record_other</th>\n",
       "      <th>other_species</th>\n",
       "      <th>num_categories</th>\n",
       "    </tr>\n",
       "  </thead>\n",
       "  <tbody>\n",
       "    <tr>\n",
       "      <th>78612</th>\n",
       "      <td>9</td>\n",
       "      <td>Galen Cole</td>\n",
       "      <td>, 94, American World War II veteran and philanthropist.</td>\n",
       "      <td>https://en.wikipedia.org/wiki/Galen_Cole</td>\n",
       "      <td>8</td>\n",
       "      <td>2020</td>\n",
       "      <td>January</td>\n",
       "      <td>None</td>\n",
       "      <td>None</td>\n",
       "      <td>World War II veteran</td>\n",
       "      <td>None</td>\n",
       "      <td>None</td>\n",
       "      <td>None</td>\n",
       "      <td>None</td>\n",
       "      <td>None</td>\n",
       "      <td>None</td>\n",
       "      <td>None</td>\n",
       "      <td>None</td>\n",
       "      <td>None</td>\n",
       "      <td>94.0</td>\n",
       "      <td>None</td>\n",
       "      <td>United States of America</td>\n",
       "      <td>None</td>\n",
       "      <td>None</td>\n",
       "      <td>2.197225</td>\n",
       "      <td>0</td>\n",
       "      <td>1</td>\n",
       "      <td>0</td>\n",
       "      <td>0</td>\n",
       "      <td>0</td>\n",
       "      <td>0</td>\n",
       "      <td>0</td>\n",
       "      <td>0</td>\n",
       "      <td>0</td>\n",
       "      <td>0</td>\n",
       "      <td>0</td>\n",
       "      <td>0</td>\n",
       "      <td>1</td>\n",
       "    </tr>\n",
       "    <tr>\n",
       "      <th>47577</th>\n",
       "      <td>7</td>\n",
       "      <td>Emilio Yap</td>\n",
       "      <td>, 88, Filipino businessman and philanthropist.</td>\n",
       "      <td>https://en.wikipedia.org/wiki/Emilio_Yap</td>\n",
       "      <td>5</td>\n",
       "      <td>2014</td>\n",
       "      <td>April</td>\n",
       "      <td>None</td>\n",
       "      <td>None</td>\n",
       "      <td></td>\n",
       "      <td>None</td>\n",
       "      <td>None</td>\n",
       "      <td>None</td>\n",
       "      <td>None</td>\n",
       "      <td>None</td>\n",
       "      <td>None</td>\n",
       "      <td>None</td>\n",
       "      <td>None</td>\n",
       "      <td>None</td>\n",
       "      <td>88.0</td>\n",
       "      <td>None</td>\n",
       "      <td>Philippines</td>\n",
       "      <td>None</td>\n",
       "      <td>None</td>\n",
       "      <td>1.791759</td>\n",
       "      <td>0</td>\n",
       "      <td>1</td>\n",
       "      <td>0</td>\n",
       "      <td>0</td>\n",
       "      <td>1</td>\n",
       "      <td>0</td>\n",
       "      <td>0</td>\n",
       "      <td>0</td>\n",
       "      <td>0</td>\n",
       "      <td>0</td>\n",
       "      <td>0</td>\n",
       "      <td>0</td>\n",
       "      <td>2</td>\n",
       "    </tr>\n",
       "  </tbody>\n",
       "</table>\n",
       "</div>"
      ],
      "text/plain": [
       "      day        name  \\\n",
       "78612   9  Galen Cole   \n",
       "47577   7  Emilio Yap   \n",
       "\n",
       "                                                          info  \\\n",
       "78612  , 94, American World War II veteran and philanthropist.   \n",
       "47577           , 88, Filipino businessman and philanthropist.   \n",
       "\n",
       "                                           link  num_references  year  \\\n",
       "78612  https://en.wikipedia.org/wiki/Galen_Cole               8  2020   \n",
       "47577  https://en.wikipedia.org/wiki/Emilio_Yap               5  2014   \n",
       "\n",
       "         month info_parenth info_1                info_2 info_3 info_4 info_5  \\\n",
       "78612  January         None   None  World War II veteran   None   None   None   \n",
       "47577    April         None   None                         None   None   None   \n",
       "\n",
       "      info_6 info_7 info_8 info_9 info_10 info_11   age cause_of_death  \\\n",
       "78612   None   None   None   None    None    None  94.0           None   \n",
       "47577   None   None   None   None    None    None  88.0           None   \n",
       "\n",
       "                        place_1 place_2 info_parenth_copy  log_num_references  \\\n",
       "78612  United States of America    None              None            2.197225   \n",
       "47577               Philippines    None              None            1.791759   \n",
       "\n",
       "       sciences  social  spiritual  academia_humanities  business_farming  \\\n",
       "78612         0       1          0                    0                 0   \n",
       "47577         0       1          0                    0                 1   \n",
       "\n",
       "       arts  sports  law_enf_military_operator  politics_govt_law  crime  \\\n",
       "78612     0       0                          0                  0      0   \n",
       "47577     0       0                          0                  0      0   \n",
       "\n",
       "       event_record_other  other_species  num_categories  \n",
       "78612                   0              0               1  \n",
       "47577                   0              0               2  "
      ]
     },
     "execution_count": 91,
     "metadata": {},
     "output_type": "execute_result"
    },
    {
     "data": {
      "application/javascript": [
       "\n",
       "            setTimeout(function() {\n",
       "                var nbb_cell_id = 91;\n",
       "                var nbb_unformatted_code = \"%%time\\n\\n# Dictionary version\\nsearch_dict = known_for_dict\\n\\n# Column to check\\ncolumn = 'info_2'\\n\\n# Dataframe\\ndataframe = df[column].notna()\\n\\n# For loop to find role in column and extract it as category\\nfor category, category_lst in search_dict.items():\\n    for role in category_lst:\\n        for index in dataframe.index:\\n            item = df.loc[index, column]\\n            if item:\\n                if role in item:\\n                    df.loc[index, category] = 1\\n                    df.loc[index, column] = item.replace(role, '').strip()\\n\\n# Updating num_categories\\ndf[\\\"num_categories\\\"] = df[known_for_dict.keys()].sum(axis=1)\\n\\n# Checking a sample of rows\\ndf[df['social'] ==1].sample(2)\";\n",
       "                var nbb_formatted_code = \"%%time\\n\\n# Dictionary version\\nsearch_dict = known_for_dict\\n\\n# Column to check\\ncolumn = 'info_2'\\n\\n# Dataframe\\ndataframe = df[column].notna()\\n\\n# For loop to find role in column and extract it as category\\nfor category, category_lst in search_dict.items():\\n    for role in category_lst:\\n        for index in dataframe.index:\\n            item = df.loc[index, column]\\n            if item:\\n                if role in item:\\n                    df.loc[index, category] = 1\\n                    df.loc[index, column] = item.replace(role, '').strip()\\n\\n# Updating num_categories\\ndf[\\\"num_categories\\\"] = df[known_for_dict.keys()].sum(axis=1)\\n\\n# Checking a sample of rows\\ndf[df['social'] ==1].sample(2)\";\n",
       "                var nbb_cells = Jupyter.notebook.get_cells();\n",
       "                for (var i = 0; i < nbb_cells.length; ++i) {\n",
       "                    if (nbb_cells[i].input_prompt_number == nbb_cell_id) {\n",
       "                        if (nbb_cells[i].get_text() == nbb_unformatted_code) {\n",
       "                             nbb_cells[i].set_text(nbb_formatted_code);\n",
       "                        }\n",
       "                        break;\n",
       "                    }\n",
       "                }\n",
       "            }, 500);\n",
       "            "
      ],
      "text/plain": [
       "<IPython.core.display.Javascript object>"
      ]
     },
     "metadata": {},
     "output_type": "display_data"
    }
   ],
   "source": [
    "%%time\n",
    "\n",
    "# Dictionary version\n",
    "search_dict = known_for_dict\n",
    "\n",
    "# Column to check\n",
    "column = 'info_2'\n",
    "\n",
    "# Dataframe\n",
    "dataframe = df[column].notna()\n",
    "\n",
    "# For loop to find role in column and extract it as category\n",
    "for category, category_lst in search_dict.items():\n",
    "    for role in category_lst:\n",
    "        for index in dataframe.index:\n",
    "            item = df.loc[index, column]\n",
    "            if item:\n",
    "                if role in item:\n",
    "                    df.loc[index, category] = 1\n",
    "                    df.loc[index, column] = item.replace(role, '').strip()\n",
    "\n",
    "# Updating num_categories\n",
    "df[\"num_categories\"] = df[known_for_dict.keys()].sum(axis=1)\n",
    "\n",
    "# Checking a sample of rows\n",
    "df[df['social'] ==1].sample(2)"
   ]
  },
  {
   "cell_type": "markdown",
   "id": "88d8e646",
   "metadata": {},
   "source": [
    "#### Checking the Number of Rows without a First Category"
   ]
  },
  {
   "cell_type": "code",
   "execution_count": 92,
   "id": "bd9c3ece",
   "metadata": {},
   "outputs": [
    {
     "name": "stdout",
     "output_type": "stream",
     "text": [
      "There are 35058 entries without any known_for category.\n"
     ]
    },
    {
     "data": {
      "application/javascript": [
       "\n",
       "            setTimeout(function() {\n",
       "                var nbb_cell_id = 92;\n",
       "                var nbb_unformatted_code = \"# Checking the number of rows without a first category\\nprint(\\n    f'There are {len(df[df[\\\"num_categories\\\"]==0])} entries without any known_for category.'\\n)\";\n",
       "                var nbb_formatted_code = \"# Checking the number of rows without a first category\\nprint(\\n    f'There are {len(df[df[\\\"num_categories\\\"]==0])} entries without any known_for category.'\\n)\";\n",
       "                var nbb_cells = Jupyter.notebook.get_cells();\n",
       "                for (var i = 0; i < nbb_cells.length; ++i) {\n",
       "                    if (nbb_cells[i].input_prompt_number == nbb_cell_id) {\n",
       "                        if (nbb_cells[i].get_text() == nbb_unformatted_code) {\n",
       "                             nbb_cells[i].set_text(nbb_formatted_code);\n",
       "                        }\n",
       "                        break;\n",
       "                    }\n",
       "                }\n",
       "            }, 500);\n",
       "            "
      ],
      "text/plain": [
       "<IPython.core.display.Javascript object>"
      ]
     },
     "metadata": {},
     "output_type": "display_data"
    }
   ],
   "source": [
    "# Checking the number of rows without a first category\n",
    "print(\n",
    "    f'There are {len(df[df[\"num_categories\"]==0])} entries without any known_for category.'\n",
    ")"
   ]
  },
  {
   "cell_type": "markdown",
   "id": "ee20ce99",
   "metadata": {},
   "source": [
    "#### Observations:\n",
    "- We will proceed to rebuild `known_for_dict` for the next iteration."
   ]
  },
  {
   "cell_type": "markdown",
   "id": "9a32db03",
   "metadata": {},
   "source": [
    "#### Finding `known_for` Roles in `info_2`"
   ]
  },
  {
   "cell_type": "code",
   "execution_count": 93,
   "id": "8c8ea4ca",
   "metadata": {},
   "outputs": [
    {
     "data": {
      "application/javascript": [
       "\n",
       "            setTimeout(function() {\n",
       "                var nbb_cell_id = 93;\n",
       "                var nbb_unformatted_code = \"# # Obtaining values for column and their counts\\n# roles_list = df[\\\"info_2\\\"].value_counts(ascending=True).index.tolist()\";\n",
       "                var nbb_formatted_code = \"# # Obtaining values for column and their counts\\n# roles_list = df[\\\"info_2\\\"].value_counts(ascending=True).index.tolist()\";\n",
       "                var nbb_cells = Jupyter.notebook.get_cells();\n",
       "                for (var i = 0; i < nbb_cells.length; ++i) {\n",
       "                    if (nbb_cells[i].input_prompt_number == nbb_cell_id) {\n",
       "                        if (nbb_cells[i].get_text() == nbb_unformatted_code) {\n",
       "                             nbb_cells[i].set_text(nbb_formatted_code);\n",
       "                        }\n",
       "                        break;\n",
       "                    }\n",
       "                }\n",
       "            }, 500);\n",
       "            "
      ],
      "text/plain": [
       "<IPython.core.display.Javascript object>"
      ]
     },
     "metadata": {},
     "output_type": "display_data"
    }
   ],
   "source": [
    "# # Obtaining values for column and their counts\n",
    "# roles_list = df[\"info_2\"].value_counts(ascending=True).index.tolist()"
   ]
  },
  {
   "cell_type": "code",
   "execution_count": 94,
   "id": "9d048a6f",
   "metadata": {},
   "outputs": [
    {
     "data": {
      "application/javascript": [
       "\n",
       "            setTimeout(function() {\n",
       "                var nbb_cell_id = 94;\n",
       "                var nbb_unformatted_code = \"# # Code to check each value\\n# roles_list.pop()\";\n",
       "                var nbb_formatted_code = \"# # Code to check each value\\n# roles_list.pop()\";\n",
       "                var nbb_cells = Jupyter.notebook.get_cells();\n",
       "                for (var i = 0; i < nbb_cells.length; ++i) {\n",
       "                    if (nbb_cells[i].input_prompt_number == nbb_cell_id) {\n",
       "                        if (nbb_cells[i].get_text() == nbb_unformatted_code) {\n",
       "                             nbb_cells[i].set_text(nbb_formatted_code);\n",
       "                        }\n",
       "                        break;\n",
       "                    }\n",
       "                }\n",
       "            }, 500);\n",
       "            "
      ],
      "text/plain": [
       "<IPython.core.display.Javascript object>"
      ]
     },
     "metadata": {},
     "output_type": "display_data"
    }
   ],
   "source": [
    "# # Code to check each value\n",
    "# roles_list.pop()"
   ]
  },
  {
   "cell_type": "code",
   "execution_count": 95,
   "id": "4e875f2a",
   "metadata": {},
   "outputs": [
    {
     "data": {
      "application/javascript": [
       "\n",
       "            setTimeout(function() {\n",
       "                var nbb_cell_id = 95;\n",
       "                var nbb_unformatted_code = \"# # Create specific_roles_list for above popped value\\n# specific_roles_list = (\\n#     df.loc[[index for index in df.index if \\\"boxer\\\" in df.loc[index, \\\"info\\\"]], \\\"info_2\\\",]\\n#     .value_counts()\\n#     .index.tolist()\\n# )\";\n",
       "                var nbb_formatted_code = \"# # Create specific_roles_list for above popped value\\n# specific_roles_list = (\\n#     df.loc[[index for index in df.index if \\\"boxer\\\" in df.loc[index, \\\"info\\\"]], \\\"info_2\\\",]\\n#     .value_counts()\\n#     .index.tolist()\\n# )\";\n",
       "                var nbb_cells = Jupyter.notebook.get_cells();\n",
       "                for (var i = 0; i < nbb_cells.length; ++i) {\n",
       "                    if (nbb_cells[i].input_prompt_number == nbb_cell_id) {\n",
       "                        if (nbb_cells[i].get_text() == nbb_unformatted_code) {\n",
       "                             nbb_cells[i].set_text(nbb_formatted_code);\n",
       "                        }\n",
       "                        break;\n",
       "                    }\n",
       "                }\n",
       "            }, 500);\n",
       "            "
      ],
      "text/plain": [
       "<IPython.core.display.Javascript object>"
      ]
     },
     "metadata": {},
     "output_type": "display_data"
    }
   ],
   "source": [
    "# # Create specific_roles_list for above popped value\n",
    "# specific_roles_list = (\n",
    "#     df.loc[[index for index in df.index if \"boxer\" in df.loc[index, \"info\"]], \"info_2\",]\n",
    "#     .value_counts()\n",
    "#     .index.tolist()\n",
    "# )"
   ]
  },
  {
   "cell_type": "code",
   "execution_count": 96,
   "id": "3ffc3273",
   "metadata": {},
   "outputs": [
    {
     "data": {
      "application/javascript": [
       "\n",
       "            setTimeout(function() {\n",
       "                var nbb_cell_id = 96;\n",
       "                var nbb_unformatted_code = \"# # Code to check each specific value\\n# specific_roles_list.pop()\";\n",
       "                var nbb_formatted_code = \"# # Code to check each specific value\\n# specific_roles_list.pop()\";\n",
       "                var nbb_cells = Jupyter.notebook.get_cells();\n",
       "                for (var i = 0; i < nbb_cells.length; ++i) {\n",
       "                    if (nbb_cells[i].input_prompt_number == nbb_cell_id) {\n",
       "                        if (nbb_cells[i].get_text() == nbb_unformatted_code) {\n",
       "                             nbb_cells[i].set_text(nbb_formatted_code);\n",
       "                        }\n",
       "                        break;\n",
       "                    }\n",
       "                }\n",
       "            }, 500);\n",
       "            "
      ],
      "text/plain": [
       "<IPython.core.display.Javascript object>"
      ]
     },
     "metadata": {},
     "output_type": "display_data"
    }
   ],
   "source": [
    "# # Code to check each specific value\n",
    "# specific_roles_list.pop()"
   ]
  },
  {
   "cell_type": "code",
   "execution_count": 97,
   "id": "f7f31526",
   "metadata": {},
   "outputs": [
    {
     "data": {
      "application/javascript": [
       "\n",
       "            setTimeout(function() {\n",
       "                var nbb_cell_id = 97;\n",
       "                var nbb_unformatted_code = \"# # Example code to quick-screen values that may overlap categories\\n# df.loc[\\n#     [\\n#         index\\n#         for index in df.index\\n#         if \\\"bodyguard for boxer Kostya Tszyu\\\" in df.loc[index, \\\"info\\\"]\\n#     ]\\n# ]\";\n",
       "                var nbb_formatted_code = \"# # Example code to quick-screen values that may overlap categories\\n# df.loc[\\n#     [\\n#         index\\n#         for index in df.index\\n#         if \\\"bodyguard for boxer Kostya Tszyu\\\" in df.loc[index, \\\"info\\\"]\\n#     ]\\n# ]\";\n",
       "                var nbb_cells = Jupyter.notebook.get_cells();\n",
       "                for (var i = 0; i < nbb_cells.length; ++i) {\n",
       "                    if (nbb_cells[i].input_prompt_number == nbb_cell_id) {\n",
       "                        if (nbb_cells[i].get_text() == nbb_unformatted_code) {\n",
       "                             nbb_cells[i].set_text(nbb_formatted_code);\n",
       "                        }\n",
       "                        break;\n",
       "                    }\n",
       "                }\n",
       "            }, 500);\n",
       "            "
      ],
      "text/plain": [
       "<IPython.core.display.Javascript object>"
      ]
     },
     "metadata": {},
     "output_type": "display_data"
    }
   ],
   "source": [
    "# # Example code to quick-screen values that may overlap categories\n",
    "# df.loc[\n",
    "#     [\n",
    "#         index\n",
    "#         for index in df.index\n",
    "#         if \"bodyguard for boxer Kostya Tszyu\" in df.loc[index, \"info\"]\n",
    "#     ]\n",
    "# ]"
   ]
  },
  {
   "cell_type": "markdown",
   "id": "37bdb29f",
   "metadata": {},
   "source": [
    "#### Creating Lists for Each `known_for` Category"
   ]
  },
  {
   "cell_type": "code",
   "execution_count": 98,
   "id": "ebae7e56",
   "metadata": {},
   "outputs": [
    {
     "data": {
      "application/javascript": [
       "\n",
       "            setTimeout(function() {\n",
       "                var nbb_cell_id = 98;\n",
       "                var nbb_unformatted_code = \"# Creating lists for each category\\npolitics_govt_law = []\\n\\narts = [\\n    \\\"beatboxer\\\",  # before sports\\n]\\nsports = [\\n    \\\"undefeated former WBA super featherweight and WBC lightweight champion boxer\\\",\\n    \\\"former world welterweight and super welterweight champion boxer\\\",\\n    \\\"Olympic boxer and former world light heavyweight champion\\\",\\n    \\\"boxer and WBA featherweight champion from March through May\\\",\\n    \\\"former WBC and WBA World lightweight champion boxer\\\",\\n    \\\"former WBC world light welterweight champion boxer\\\",\\n    \\\"boxer who won the Empire super featherweight title\\\",\\n    \\\"WBO flyweight and light flyweight champion boxer\\\",\\n    \\\"former world super featherweight champion boxer\\\",\\n    \\\"born former Empire heavyweight champion boxer\\\",\\n    \\\"former NBA world bantamweight champion boxer\\\",\\n    \\\"former WBC light welterweight champion boxer\\\",\\n    \\\"former world light welterweight champion boxer\\\",\\n    \\\"WBA and WBC super lightweight champion boxer\\\",\\n    \\\"boxer and World Light Heavyweight Champion\\\",\\n    \\\"champion professional boxer in the s and s\\\",\\n    \\\"professional and Olympic lightweight boxer\\\",\\n    \\\"world light middleweight champion boxer\\\",\\n    \\\"Olympic silver medalist lightweight boxer\\\",\\n    \\\"former NABF lightweight champion boxer\\\",\\n    \\\"former WBC heavyweight champion boxer\\\",\\n    \\\"former WBA heavyweight champion boxer\\\",\\n    \\\"NABF super lightweight champion boxer\\\",\\n    \\\"Hall of Fame light heavyweight boxer\\\",\\n    \\\"former triple world champion boxer\\\",\\n    \\\"former heavyweight boxing champion\\\",\\n    \\\"Olympic silver medal winning boxer\\\",\\n    \\\"Olympic bronze medal winning boxer\\\",\\n    \\\"former lightweight champion boxer\\\",\\n    \\\"Olympic gold medal winning boxer\\\",\\n    \\\"Hall of Fame featherweight boxer\\\",\\n    \\\"featherweight lightweight boxer\\\",\\n    \\\"Olympic light heavyweight boxer\\\",\\n    \\\"boxer and heavyweight champion\\\",\\n    \\\"fly bantam featherweight boxer\\\",\\n    \\\"Olympic silver medalist boxer\\\",\\n    \\\"WBA flyweight champion boxer\\\",\\n    \\\"bantamweight champion boxer\\\",\\n    \\\"heavyweight champion boxer\\\",\\n    \\\"Olympic heavyweight boxer\\\",\\n    \\\"boxer and Olympic wrestler\\\",\\n    \\\"Olympic bantamweight boxer\\\",\\n    \\\"Olympic middleweight boxer\\\",\\n    \\\"light heavyweight boxer and\\\",\\n    \\\"dual world champion boxer\\\",\\n    \\\"light middleweight boxer\\\",\\n    \\\"boxer and boxing trainer\\\",\\n    \\\"light welterweight boxer\\\",\\n    \\\"light heavyweight boxer\\\",\\n    \\\"Olympic flyweight boxer\\\",\\n    \\\"Hall of Fame boxer and\\\",\\n    \\\"boxer and rugby player\\\",\\n    \\\"Olympic medalist boxer\\\",\\n    \\\"and boxer and Olympian\\\",\\n    \\\"heavyweight kickboxer\\\",\\n    \\\"world champion boxer\\\",\\n    \\\"featherweight boxer\\\",\\n    \\\"Virgin Island boxer\\\",\\n    \\\"Golden Gloves boxer\\\",\\n    \\\"cruiserweight boxer\\\",\\n    \\\"boxer and kickboxer\\\",\\n    \\\"professional boxer\\\",\\n    \\\"boxer and Olympian\\\",\\n    \\\"middleweight boxer\\\",\\n    \\\"bantamweight boxer\\\",\\n    \\\"welterweight boxer\\\",\\n    \\\"Hall of Fame boxer\\\",\\n    \\\"heavyweight boxer\\\",\\n    \\\"boxer and trainer\\\",\\n    \\\"lightweight boxer\\\",\\n    \\\"boxer and manager\\\",\\n    \\\"unlicensed boxer\\\",\\n    \\\"Olympic boxer []\\\",\\n    \\\"flyweight boxer\\\",\\n    \\\"Muay kickboxer\\\",\\n    \\\"Olympic boxer\\\",\\n    \\\"and kickboxer\\\",\\n    \\\"kickboxer and\\\",\\n    \\\"amateur boxer\\\",\\n    \\\"Serb boxer\\\",\\n    \\\"kickboxer\\\",\\n    \\\"champion boxer\\\",\\n    \\\"era boxer\\\",\\n    \\\"boxer and\\\",\\n    \\\"and boxer\\\",\\n    \\\"boxer\\\",\\n]\\nsciences = []\\n\\nbusiness_farming = []\\nacademia_humanities = []\\nlaw_enf_military_operator = [\\n    \\\"bodyguard for boxer Kostya Tszyu\\\",  # before sports\\n]\\nspiritual = []\\nsocial = []\\ncrime = []\\nevent_record_other = []\\nother_species = []\";\n",
       "                var nbb_formatted_code = \"# Creating lists for each category\\npolitics_govt_law = []\\n\\narts = [\\n    \\\"beatboxer\\\",  # before sports\\n]\\nsports = [\\n    \\\"undefeated former WBA super featherweight and WBC lightweight champion boxer\\\",\\n    \\\"former world welterweight and super welterweight champion boxer\\\",\\n    \\\"Olympic boxer and former world light heavyweight champion\\\",\\n    \\\"boxer and WBA featherweight champion from March through May\\\",\\n    \\\"former WBC and WBA World lightweight champion boxer\\\",\\n    \\\"former WBC world light welterweight champion boxer\\\",\\n    \\\"boxer who won the Empire super featherweight title\\\",\\n    \\\"WBO flyweight and light flyweight champion boxer\\\",\\n    \\\"former world super featherweight champion boxer\\\",\\n    \\\"born former Empire heavyweight champion boxer\\\",\\n    \\\"former NBA world bantamweight champion boxer\\\",\\n    \\\"former WBC light welterweight champion boxer\\\",\\n    \\\"former world light welterweight champion boxer\\\",\\n    \\\"WBA and WBC super lightweight champion boxer\\\",\\n    \\\"boxer and World Light Heavyweight Champion\\\",\\n    \\\"champion professional boxer in the s and s\\\",\\n    \\\"professional and Olympic lightweight boxer\\\",\\n    \\\"world light middleweight champion boxer\\\",\\n    \\\"Olympic silver medalist lightweight boxer\\\",\\n    \\\"former NABF lightweight champion boxer\\\",\\n    \\\"former WBC heavyweight champion boxer\\\",\\n    \\\"former WBA heavyweight champion boxer\\\",\\n    \\\"NABF super lightweight champion boxer\\\",\\n    \\\"Hall of Fame light heavyweight boxer\\\",\\n    \\\"former triple world champion boxer\\\",\\n    \\\"former heavyweight boxing champion\\\",\\n    \\\"Olympic silver medal winning boxer\\\",\\n    \\\"Olympic bronze medal winning boxer\\\",\\n    \\\"former lightweight champion boxer\\\",\\n    \\\"Olympic gold medal winning boxer\\\",\\n    \\\"Hall of Fame featherweight boxer\\\",\\n    \\\"featherweight lightweight boxer\\\",\\n    \\\"Olympic light heavyweight boxer\\\",\\n    \\\"boxer and heavyweight champion\\\",\\n    \\\"fly bantam featherweight boxer\\\",\\n    \\\"Olympic silver medalist boxer\\\",\\n    \\\"WBA flyweight champion boxer\\\",\\n    \\\"bantamweight champion boxer\\\",\\n    \\\"heavyweight champion boxer\\\",\\n    \\\"Olympic heavyweight boxer\\\",\\n    \\\"boxer and Olympic wrestler\\\",\\n    \\\"Olympic bantamweight boxer\\\",\\n    \\\"Olympic middleweight boxer\\\",\\n    \\\"light heavyweight boxer and\\\",\\n    \\\"dual world champion boxer\\\",\\n    \\\"light middleweight boxer\\\",\\n    \\\"boxer and boxing trainer\\\",\\n    \\\"light welterweight boxer\\\",\\n    \\\"light heavyweight boxer\\\",\\n    \\\"Olympic flyweight boxer\\\",\\n    \\\"Hall of Fame boxer and\\\",\\n    \\\"boxer and rugby player\\\",\\n    \\\"Olympic medalist boxer\\\",\\n    \\\"and boxer and Olympian\\\",\\n    \\\"heavyweight kickboxer\\\",\\n    \\\"world champion boxer\\\",\\n    \\\"featherweight boxer\\\",\\n    \\\"Virgin Island boxer\\\",\\n    \\\"Golden Gloves boxer\\\",\\n    \\\"cruiserweight boxer\\\",\\n    \\\"boxer and kickboxer\\\",\\n    \\\"professional boxer\\\",\\n    \\\"boxer and Olympian\\\",\\n    \\\"middleweight boxer\\\",\\n    \\\"bantamweight boxer\\\",\\n    \\\"welterweight boxer\\\",\\n    \\\"Hall of Fame boxer\\\",\\n    \\\"heavyweight boxer\\\",\\n    \\\"boxer and trainer\\\",\\n    \\\"lightweight boxer\\\",\\n    \\\"boxer and manager\\\",\\n    \\\"unlicensed boxer\\\",\\n    \\\"Olympic boxer []\\\",\\n    \\\"flyweight boxer\\\",\\n    \\\"Muay kickboxer\\\",\\n    \\\"Olympic boxer\\\",\\n    \\\"and kickboxer\\\",\\n    \\\"kickboxer and\\\",\\n    \\\"amateur boxer\\\",\\n    \\\"Serb boxer\\\",\\n    \\\"kickboxer\\\",\\n    \\\"champion boxer\\\",\\n    \\\"era boxer\\\",\\n    \\\"boxer and\\\",\\n    \\\"and boxer\\\",\\n    \\\"boxer\\\",\\n]\\nsciences = []\\n\\nbusiness_farming = []\\nacademia_humanities = []\\nlaw_enf_military_operator = [\\n    \\\"bodyguard for boxer Kostya Tszyu\\\",  # before sports\\n]\\nspiritual = []\\nsocial = []\\ncrime = []\\nevent_record_other = []\\nother_species = []\";\n",
       "                var nbb_cells = Jupyter.notebook.get_cells();\n",
       "                for (var i = 0; i < nbb_cells.length; ++i) {\n",
       "                    if (nbb_cells[i].input_prompt_number == nbb_cell_id) {\n",
       "                        if (nbb_cells[i].get_text() == nbb_unformatted_code) {\n",
       "                             nbb_cells[i].set_text(nbb_formatted_code);\n",
       "                        }\n",
       "                        break;\n",
       "                    }\n",
       "                }\n",
       "            }, 500);\n",
       "            "
      ],
      "text/plain": [
       "<IPython.core.display.Javascript object>"
      ]
     },
     "metadata": {},
     "output_type": "display_data"
    }
   ],
   "source": [
    "# Creating lists for each category\n",
    "politics_govt_law = []\n",
    "\n",
    "arts = [\n",
    "    \"beatboxer\",  # before sports\n",
    "]\n",
    "sports = [\n",
    "    \"undefeated former WBA super featherweight and WBC lightweight champion boxer\",\n",
    "    \"former world welterweight and super welterweight champion boxer\",\n",
    "    \"Olympic boxer and former world light heavyweight champion\",\n",
    "    \"boxer and WBA featherweight champion from March through May\",\n",
    "    \"former WBC and WBA World lightweight champion boxer\",\n",
    "    \"former WBC world light welterweight champion boxer\",\n",
    "    \"boxer who won the Empire super featherweight title\",\n",
    "    \"WBO flyweight and light flyweight champion boxer\",\n",
    "    \"former world super featherweight champion boxer\",\n",
    "    \"born former Empire heavyweight champion boxer\",\n",
    "    \"former NBA world bantamweight champion boxer\",\n",
    "    \"former WBC light welterweight champion boxer\",\n",
    "    \"former world light welterweight champion boxer\",\n",
    "    \"WBA and WBC super lightweight champion boxer\",\n",
    "    \"boxer and World Light Heavyweight Champion\",\n",
    "    \"champion professional boxer in the s and s\",\n",
    "    \"professional and Olympic lightweight boxer\",\n",
    "    \"world light middleweight champion boxer\",\n",
    "    \"Olympic silver medalist lightweight boxer\",\n",
    "    \"former NABF lightweight champion boxer\",\n",
    "    \"former WBC heavyweight champion boxer\",\n",
    "    \"former WBA heavyweight champion boxer\",\n",
    "    \"NABF super lightweight champion boxer\",\n",
    "    \"Hall of Fame light heavyweight boxer\",\n",
    "    \"former triple world champion boxer\",\n",
    "    \"former heavyweight boxing champion\",\n",
    "    \"Olympic silver medal winning boxer\",\n",
    "    \"Olympic bronze medal winning boxer\",\n",
    "    \"former lightweight champion boxer\",\n",
    "    \"Olympic gold medal winning boxer\",\n",
    "    \"Hall of Fame featherweight boxer\",\n",
    "    \"featherweight lightweight boxer\",\n",
    "    \"Olympic light heavyweight boxer\",\n",
    "    \"boxer and heavyweight champion\",\n",
    "    \"fly bantam featherweight boxer\",\n",
    "    \"Olympic silver medalist boxer\",\n",
    "    \"WBA flyweight champion boxer\",\n",
    "    \"bantamweight champion boxer\",\n",
    "    \"heavyweight champion boxer\",\n",
    "    \"Olympic heavyweight boxer\",\n",
    "    \"boxer and Olympic wrestler\",\n",
    "    \"Olympic bantamweight boxer\",\n",
    "    \"Olympic middleweight boxer\",\n",
    "    \"light heavyweight boxer and\",\n",
    "    \"dual world champion boxer\",\n",
    "    \"light middleweight boxer\",\n",
    "    \"boxer and boxing trainer\",\n",
    "    \"light welterweight boxer\",\n",
    "    \"light heavyweight boxer\",\n",
    "    \"Olympic flyweight boxer\",\n",
    "    \"Hall of Fame boxer and\",\n",
    "    \"boxer and rugby player\",\n",
    "    \"Olympic medalist boxer\",\n",
    "    \"and boxer and Olympian\",\n",
    "    \"heavyweight kickboxer\",\n",
    "    \"world champion boxer\",\n",
    "    \"featherweight boxer\",\n",
    "    \"Virgin Island boxer\",\n",
    "    \"Golden Gloves boxer\",\n",
    "    \"cruiserweight boxer\",\n",
    "    \"boxer and kickboxer\",\n",
    "    \"professional boxer\",\n",
    "    \"boxer and Olympian\",\n",
    "    \"middleweight boxer\",\n",
    "    \"bantamweight boxer\",\n",
    "    \"welterweight boxer\",\n",
    "    \"Hall of Fame boxer\",\n",
    "    \"heavyweight boxer\",\n",
    "    \"boxer and trainer\",\n",
    "    \"lightweight boxer\",\n",
    "    \"boxer and manager\",\n",
    "    \"unlicensed boxer\",\n",
    "    \"Olympic boxer []\",\n",
    "    \"flyweight boxer\",\n",
    "    \"Muay kickboxer\",\n",
    "    \"Olympic boxer\",\n",
    "    \"and kickboxer\",\n",
    "    \"kickboxer and\",\n",
    "    \"amateur boxer\",\n",
    "    \"Serb boxer\",\n",
    "    \"kickboxer\",\n",
    "    \"champion boxer\",\n",
    "    \"era boxer\",\n",
    "    \"boxer and\",\n",
    "    \"and boxer\",\n",
    "    \"boxer\",\n",
    "]\n",
    "sciences = []\n",
    "\n",
    "business_farming = []\n",
    "academia_humanities = []\n",
    "law_enf_military_operator = [\n",
    "    \"bodyguard for boxer Kostya Tszyu\",  # before sports\n",
    "]\n",
    "spiritual = []\n",
    "social = []\n",
    "crime = []\n",
    "event_record_other = []\n",
    "other_species = []"
   ]
  },
  {
   "cell_type": "markdown",
   "id": "e528d591",
   "metadata": {},
   "source": [
    "#### Creating `known_for_dict` Dictionary of Category Keys and Specific Role Lists of Values"
   ]
  },
  {
   "cell_type": "code",
   "execution_count": 99,
   "id": "fc46b83c",
   "metadata": {},
   "outputs": [
    {
     "data": {
      "application/javascript": [
       "\n",
       "            setTimeout(function() {\n",
       "                var nbb_cell_id = 99;\n",
       "                var nbb_unformatted_code = \"# Combining separate lists into one dictionary\\nknown_for_dict = {\\n    \\\"social\\\": social,\\n    \\\"spiritual\\\": spiritual,\\n    \\\"academia_humanities\\\": academia_humanities,\\n    \\\"business_farming\\\": business_farming,\\n    \\\"sciences\\\": sciences,\\n    \\\"politics_govt_law\\\": politics_govt_law,\\n    \\\"law_enf_military_operator\\\": law_enf_military_operator,\\n    \\\"crime\\\": crime,\\n    \\\"event_record_other\\\": event_record_other,\\n    \\\"other_species\\\": other_species,\\n    \\\"arts\\\": arts,\\n    \\\"sports\\\": sports,\\n}\";\n",
       "                var nbb_formatted_code = \"# Combining separate lists into one dictionary\\nknown_for_dict = {\\n    \\\"social\\\": social,\\n    \\\"spiritual\\\": spiritual,\\n    \\\"academia_humanities\\\": academia_humanities,\\n    \\\"business_farming\\\": business_farming,\\n    \\\"sciences\\\": sciences,\\n    \\\"politics_govt_law\\\": politics_govt_law,\\n    \\\"law_enf_military_operator\\\": law_enf_military_operator,\\n    \\\"crime\\\": crime,\\n    \\\"event_record_other\\\": event_record_other,\\n    \\\"other_species\\\": other_species,\\n    \\\"arts\\\": arts,\\n    \\\"sports\\\": sports,\\n}\";\n",
       "                var nbb_cells = Jupyter.notebook.get_cells();\n",
       "                for (var i = 0; i < nbb_cells.length; ++i) {\n",
       "                    if (nbb_cells[i].input_prompt_number == nbb_cell_id) {\n",
       "                        if (nbb_cells[i].get_text() == nbb_unformatted_code) {\n",
       "                             nbb_cells[i].set_text(nbb_formatted_code);\n",
       "                        }\n",
       "                        break;\n",
       "                    }\n",
       "                }\n",
       "            }, 500);\n",
       "            "
      ],
      "text/plain": [
       "<IPython.core.display.Javascript object>"
      ]
     },
     "metadata": {},
     "output_type": "display_data"
    }
   ],
   "source": [
    "# Combining separate lists into one dictionary\n",
    "known_for_dict = {\n",
    "    \"social\": social,\n",
    "    \"spiritual\": spiritual,\n",
    "    \"academia_humanities\": academia_humanities,\n",
    "    \"business_farming\": business_farming,\n",
    "    \"sciences\": sciences,\n",
    "    \"politics_govt_law\": politics_govt_law,\n",
    "    \"law_enf_military_operator\": law_enf_military_operator,\n",
    "    \"crime\": crime,\n",
    "    \"event_record_other\": event_record_other,\n",
    "    \"other_species\": other_species,\n",
    "    \"arts\": arts,\n",
    "    \"sports\": sports,\n",
    "}"
   ]
  },
  {
   "cell_type": "markdown",
   "id": "b1185c2d",
   "metadata": {},
   "source": [
    "#### Extracting Category from `info_2`"
   ]
  },
  {
   "cell_type": "code",
   "execution_count": 100,
   "id": "2d3e3770",
   "metadata": {},
   "outputs": [
    {
     "name": "stdout",
     "output_type": "stream",
     "text": [
      "CPU times: total: 46.3 s\n",
      "Wall time: 46.3 s\n"
     ]
    },
    {
     "data": {
      "text/html": [
       "<div>\n",
       "<style scoped>\n",
       "    .dataframe tbody tr th:only-of-type {\n",
       "        vertical-align: middle;\n",
       "    }\n",
       "\n",
       "    .dataframe tbody tr th {\n",
       "        vertical-align: top;\n",
       "    }\n",
       "\n",
       "    .dataframe thead th {\n",
       "        text-align: right;\n",
       "    }\n",
       "</style>\n",
       "<table border=\"1\" class=\"dataframe\">\n",
       "  <thead>\n",
       "    <tr style=\"text-align: right;\">\n",
       "      <th></th>\n",
       "      <th>day</th>\n",
       "      <th>name</th>\n",
       "      <th>info</th>\n",
       "      <th>link</th>\n",
       "      <th>num_references</th>\n",
       "      <th>year</th>\n",
       "      <th>month</th>\n",
       "      <th>info_parenth</th>\n",
       "      <th>info_1</th>\n",
       "      <th>info_2</th>\n",
       "      <th>info_3</th>\n",
       "      <th>info_4</th>\n",
       "      <th>info_5</th>\n",
       "      <th>info_6</th>\n",
       "      <th>info_7</th>\n",
       "      <th>info_8</th>\n",
       "      <th>info_9</th>\n",
       "      <th>info_10</th>\n",
       "      <th>info_11</th>\n",
       "      <th>age</th>\n",
       "      <th>cause_of_death</th>\n",
       "      <th>place_1</th>\n",
       "      <th>place_2</th>\n",
       "      <th>info_parenth_copy</th>\n",
       "      <th>log_num_references</th>\n",
       "      <th>sciences</th>\n",
       "      <th>social</th>\n",
       "      <th>spiritual</th>\n",
       "      <th>academia_humanities</th>\n",
       "      <th>business_farming</th>\n",
       "      <th>arts</th>\n",
       "      <th>sports</th>\n",
       "      <th>law_enf_military_operator</th>\n",
       "      <th>politics_govt_law</th>\n",
       "      <th>crime</th>\n",
       "      <th>event_record_other</th>\n",
       "      <th>other_species</th>\n",
       "      <th>num_categories</th>\n",
       "    </tr>\n",
       "  </thead>\n",
       "  <tbody>\n",
       "    <tr>\n",
       "      <th>92483</th>\n",
       "      <td>2</td>\n",
       "      <td>David Patten</td>\n",
       "      <td>, 47, American football player , traffic collision.</td>\n",
       "      <td>https://en.wikipedia.org/wiki/David_Patten</td>\n",
       "      <td>22</td>\n",
       "      <td>2021</td>\n",
       "      <td>September</td>\n",
       "      <td>Giants, New Patriots, Washington Redskins</td>\n",
       "      <td>None</td>\n",
       "      <td></td>\n",
       "      <td>traffic collision</td>\n",
       "      <td>None</td>\n",
       "      <td>None</td>\n",
       "      <td>None</td>\n",
       "      <td>None</td>\n",
       "      <td>None</td>\n",
       "      <td>None</td>\n",
       "      <td>None</td>\n",
       "      <td>None</td>\n",
       "      <td>47.0</td>\n",
       "      <td>None</td>\n",
       "      <td>United States of America</td>\n",
       "      <td>United States of America</td>\n",
       "      <td>Giants, New England Patriots, Washington Redskins</td>\n",
       "      <td>3.135494</td>\n",
       "      <td>0</td>\n",
       "      <td>0</td>\n",
       "      <td>0</td>\n",
       "      <td>0</td>\n",
       "      <td>0</td>\n",
       "      <td>0</td>\n",
       "      <td>1</td>\n",
       "      <td>0</td>\n",
       "      <td>0</td>\n",
       "      <td>0</td>\n",
       "      <td>0</td>\n",
       "      <td>0</td>\n",
       "      <td>1</td>\n",
       "    </tr>\n",
       "    <tr>\n",
       "      <th>27793</th>\n",
       "      <td>2</td>\n",
       "      <td>Chris Finnegan</td>\n",
       "      <td>, 64, British boxer, Olympic middleweight champion , complications from pneumonia.</td>\n",
       "      <td>https://en.wikipedia.org/wiki/Chris_Finnegan</td>\n",
       "      <td>26</td>\n",
       "      <td>2009</td>\n",
       "      <td>March</td>\n",
       "      <td></td>\n",
       "      <td>None</td>\n",
       "      <td></td>\n",
       "      <td>Olympic middleweight champion</td>\n",
       "      <td>complications from pneumonia</td>\n",
       "      <td>None</td>\n",
       "      <td>None</td>\n",
       "      <td>None</td>\n",
       "      <td>None</td>\n",
       "      <td>None</td>\n",
       "      <td>None</td>\n",
       "      <td>None</td>\n",
       "      <td>64.0</td>\n",
       "      <td>None</td>\n",
       "      <td>United Kingdom of Great Britain and Northern Ireland</td>\n",
       "      <td>None</td>\n",
       "      <td>1968</td>\n",
       "      <td>3.295837</td>\n",
       "      <td>0</td>\n",
       "      <td>0</td>\n",
       "      <td>0</td>\n",
       "      <td>0</td>\n",
       "      <td>0</td>\n",
       "      <td>0</td>\n",
       "      <td>1</td>\n",
       "      <td>0</td>\n",
       "      <td>0</td>\n",
       "      <td>0</td>\n",
       "      <td>0</td>\n",
       "      <td>0</td>\n",
       "      <td>1</td>\n",
       "    </tr>\n",
       "  </tbody>\n",
       "</table>\n",
       "</div>"
      ],
      "text/plain": [
       "      day            name  \\\n",
       "92483   2    David Patten   \n",
       "27793   2  Chris Finnegan   \n",
       "\n",
       "                                                                                     info  \\\n",
       "92483                                 , 47, American football player , traffic collision.   \n",
       "27793  , 64, British boxer, Olympic middleweight champion , complications from pneumonia.   \n",
       "\n",
       "                                               link  num_references  year  \\\n",
       "92483    https://en.wikipedia.org/wiki/David_Patten              22  2021   \n",
       "27793  https://en.wikipedia.org/wiki/Chris_Finnegan              26  2009   \n",
       "\n",
       "           month                               info_parenth info_1 info_2  \\\n",
       "92483  September  Giants, New Patriots, Washington Redskins   None          \n",
       "27793      March                                              None          \n",
       "\n",
       "                              info_3                        info_4 info_5  \\\n",
       "92483              traffic collision                          None   None   \n",
       "27793  Olympic middleweight champion  complications from pneumonia   None   \n",
       "\n",
       "      info_6 info_7 info_8 info_9 info_10 info_11   age cause_of_death  \\\n",
       "92483   None   None   None   None    None    None  47.0           None   \n",
       "27793   None   None   None   None    None    None  64.0           None   \n",
       "\n",
       "                                                    place_1  \\\n",
       "92483                              United States of America   \n",
       "27793  United Kingdom of Great Britain and Northern Ireland   \n",
       "\n",
       "                        place_2  \\\n",
       "92483  United States of America   \n",
       "27793                      None   \n",
       "\n",
       "                                       info_parenth_copy  log_num_references  \\\n",
       "92483  Giants, New England Patriots, Washington Redskins            3.135494   \n",
       "27793                                               1968            3.295837   \n",
       "\n",
       "       sciences  social  spiritual  academia_humanities  business_farming  \\\n",
       "92483         0       0          0                    0                 0   \n",
       "27793         0       0          0                    0                 0   \n",
       "\n",
       "       arts  sports  law_enf_military_operator  politics_govt_law  crime  \\\n",
       "92483     0       1                          0                  0      0   \n",
       "27793     0       1                          0                  0      0   \n",
       "\n",
       "       event_record_other  other_species  num_categories  \n",
       "92483                   0              0               1  \n",
       "27793                   0              0               1  "
      ]
     },
     "execution_count": 100,
     "metadata": {},
     "output_type": "execute_result"
    },
    {
     "data": {
      "application/javascript": [
       "\n",
       "            setTimeout(function() {\n",
       "                var nbb_cell_id = 100;\n",
       "                var nbb_unformatted_code = \"%%time\\n\\n# Dictionary version\\nsearch_dict = known_for_dict\\n\\n# Column to check\\ncolumn = 'info_2'\\n\\n# Dataframe\\ndataframe = df[column].notna()\\n\\n# For loop to find role in column and extract it as category\\nfor category, category_lst in search_dict.items():\\n    for role in category_lst:\\n        for index in dataframe.index:\\n            item = df.loc[index, column]\\n            if item:\\n                if role in item:\\n                    df.loc[index, category] = 1\\n                    df.loc[index, column] = item.replace(role, '').strip()\\n\\n# Updating num_categories\\ndf[\\\"num_categories\\\"] = df[known_for_dict.keys()].sum(axis=1)\\n\\n# Checking a sample of rows\\ndf[df['sports'] ==1].sample(2)\";\n",
       "                var nbb_formatted_code = \"%%time\\n\\n# Dictionary version\\nsearch_dict = known_for_dict\\n\\n# Column to check\\ncolumn = 'info_2'\\n\\n# Dataframe\\ndataframe = df[column].notna()\\n\\n# For loop to find role in column and extract it as category\\nfor category, category_lst in search_dict.items():\\n    for role in category_lst:\\n        for index in dataframe.index:\\n            item = df.loc[index, column]\\n            if item:\\n                if role in item:\\n                    df.loc[index, category] = 1\\n                    df.loc[index, column] = item.replace(role, '').strip()\\n\\n# Updating num_categories\\ndf[\\\"num_categories\\\"] = df[known_for_dict.keys()].sum(axis=1)\\n\\n# Checking a sample of rows\\ndf[df['sports'] ==1].sample(2)\";\n",
       "                var nbb_cells = Jupyter.notebook.get_cells();\n",
       "                for (var i = 0; i < nbb_cells.length; ++i) {\n",
       "                    if (nbb_cells[i].input_prompt_number == nbb_cell_id) {\n",
       "                        if (nbb_cells[i].get_text() == nbb_unformatted_code) {\n",
       "                             nbb_cells[i].set_text(nbb_formatted_code);\n",
       "                        }\n",
       "                        break;\n",
       "                    }\n",
       "                }\n",
       "            }, 500);\n",
       "            "
      ],
      "text/plain": [
       "<IPython.core.display.Javascript object>"
      ]
     },
     "metadata": {},
     "output_type": "display_data"
    }
   ],
   "source": [
    "%%time\n",
    "\n",
    "# Dictionary version\n",
    "search_dict = known_for_dict\n",
    "\n",
    "# Column to check\n",
    "column = 'info_2'\n",
    "\n",
    "# Dataframe\n",
    "dataframe = df[column].notna()\n",
    "\n",
    "# For loop to find role in column and extract it as category\n",
    "for category, category_lst in search_dict.items():\n",
    "    for role in category_lst:\n",
    "        for index in dataframe.index:\n",
    "            item = df.loc[index, column]\n",
    "            if item:\n",
    "                if role in item:\n",
    "                    df.loc[index, category] = 1\n",
    "                    df.loc[index, column] = item.replace(role, '').strip()\n",
    "\n",
    "# Updating num_categories\n",
    "df[\"num_categories\"] = df[known_for_dict.keys()].sum(axis=1)\n",
    "\n",
    "# Checking a sample of rows\n",
    "df[df['sports'] ==1].sample(2)"
   ]
  },
  {
   "cell_type": "markdown",
   "id": "af02e7bb",
   "metadata": {},
   "source": [
    "#### Checking the Number of Rows without a First Category"
   ]
  },
  {
   "cell_type": "code",
   "execution_count": 101,
   "id": "16f78027",
   "metadata": {},
   "outputs": [
    {
     "name": "stdout",
     "output_type": "stream",
     "text": [
      "There are 34663 entries without any known_for category.\n"
     ]
    },
    {
     "data": {
      "application/javascript": [
       "\n",
       "            setTimeout(function() {\n",
       "                var nbb_cell_id = 101;\n",
       "                var nbb_unformatted_code = \"# Checking the number of rows without a first category\\nprint(\\n    f'There are {len(df[df[\\\"num_categories\\\"]==0])} entries without any known_for category.'\\n)\";\n",
       "                var nbb_formatted_code = \"# Checking the number of rows without a first category\\nprint(\\n    f'There are {len(df[df[\\\"num_categories\\\"]==0])} entries without any known_for category.'\\n)\";\n",
       "                var nbb_cells = Jupyter.notebook.get_cells();\n",
       "                for (var i = 0; i < nbb_cells.length; ++i) {\n",
       "                    if (nbb_cells[i].input_prompt_number == nbb_cell_id) {\n",
       "                        if (nbb_cells[i].get_text() == nbb_unformatted_code) {\n",
       "                             nbb_cells[i].set_text(nbb_formatted_code);\n",
       "                        }\n",
       "                        break;\n",
       "                    }\n",
       "                }\n",
       "            }, 500);\n",
       "            "
      ],
      "text/plain": [
       "<IPython.core.display.Javascript object>"
      ]
     },
     "metadata": {},
     "output_type": "display_data"
    }
   ],
   "source": [
    "# Checking the number of rows without a first category\n",
    "print(\n",
    "    f'There are {len(df[df[\"num_categories\"]==0])} entries without any known_for category.'\n",
    ")"
   ]
  },
  {
   "cell_type": "markdown",
   "id": "afa6ff3c",
   "metadata": {},
   "source": [
    "#### Observations:\n",
    "- We will proceed to rebuild `known_for_dict` for the next iteration."
   ]
  },
  {
   "cell_type": "markdown",
   "id": "ccb48763",
   "metadata": {},
   "source": [
    "#### Finding `known_for` Roles in `info_2`"
   ]
  },
  {
   "cell_type": "code",
   "execution_count": 102,
   "id": "f9ac9dfb",
   "metadata": {},
   "outputs": [
    {
     "data": {
      "application/javascript": [
       "\n",
       "            setTimeout(function() {\n",
       "                var nbb_cell_id = 102;\n",
       "                var nbb_unformatted_code = \"# # Obtaining values for column and their counts\\n# roles_list = df[\\\"info_2\\\"].value_counts(ascending=True).index.tolist()\";\n",
       "                var nbb_formatted_code = \"# # Obtaining values for column and their counts\\n# roles_list = df[\\\"info_2\\\"].value_counts(ascending=True).index.tolist()\";\n",
       "                var nbb_cells = Jupyter.notebook.get_cells();\n",
       "                for (var i = 0; i < nbb_cells.length; ++i) {\n",
       "                    if (nbb_cells[i].input_prompt_number == nbb_cell_id) {\n",
       "                        if (nbb_cells[i].get_text() == nbb_unformatted_code) {\n",
       "                             nbb_cells[i].set_text(nbb_formatted_code);\n",
       "                        }\n",
       "                        break;\n",
       "                    }\n",
       "                }\n",
       "            }, 500);\n",
       "            "
      ],
      "text/plain": [
       "<IPython.core.display.Javascript object>"
      ]
     },
     "metadata": {},
     "output_type": "display_data"
    }
   ],
   "source": [
    "# # Obtaining values for column and their counts\n",
    "# roles_list = df[\"info_2\"].value_counts(ascending=True).index.tolist()"
   ]
  },
  {
   "cell_type": "code",
   "execution_count": 103,
   "id": "3fe2846a",
   "metadata": {},
   "outputs": [
    {
     "data": {
      "application/javascript": [
       "\n",
       "            setTimeout(function() {\n",
       "                var nbb_cell_id = 103;\n",
       "                var nbb_unformatted_code = \"# # Code to check each value\\n# roles_list.pop()\";\n",
       "                var nbb_formatted_code = \"# # Code to check each value\\n# roles_list.pop()\";\n",
       "                var nbb_cells = Jupyter.notebook.get_cells();\n",
       "                for (var i = 0; i < nbb_cells.length; ++i) {\n",
       "                    if (nbb_cells[i].input_prompt_number == nbb_cell_id) {\n",
       "                        if (nbb_cells[i].get_text() == nbb_unformatted_code) {\n",
       "                             nbb_cells[i].set_text(nbb_formatted_code);\n",
       "                        }\n",
       "                        break;\n",
       "                    }\n",
       "                }\n",
       "            }, 500);\n",
       "            "
      ],
      "text/plain": [
       "<IPython.core.display.Javascript object>"
      ]
     },
     "metadata": {},
     "output_type": "display_data"
    }
   ],
   "source": [
    "# # Code to check each value\n",
    "# roles_list.pop()"
   ]
  },
  {
   "cell_type": "code",
   "execution_count": 104,
   "id": "27991baf",
   "metadata": {},
   "outputs": [
    {
     "data": {
      "application/javascript": [
       "\n",
       "            setTimeout(function() {\n",
       "                var nbb_cell_id = 104;\n",
       "                var nbb_unformatted_code = \"# # Create specific_roles_list for above popped value\\n# specific_roles_list = (\\n#     df.loc[\\n#         [index for index in df.index if \\\"scientist\\\" in df.loc[index, \\\"info\\\"]], \\\"info_2\\\",\\n#     ]\\n#     .value_counts()\\n#     .index.tolist()\\n# )\";\n",
       "                var nbb_formatted_code = \"# # Create specific_roles_list for above popped value\\n# specific_roles_list = (\\n#     df.loc[\\n#         [index for index in df.index if \\\"scientist\\\" in df.loc[index, \\\"info\\\"]], \\\"info_2\\\",\\n#     ]\\n#     .value_counts()\\n#     .index.tolist()\\n# )\";\n",
       "                var nbb_cells = Jupyter.notebook.get_cells();\n",
       "                for (var i = 0; i < nbb_cells.length; ++i) {\n",
       "                    if (nbb_cells[i].input_prompt_number == nbb_cell_id) {\n",
       "                        if (nbb_cells[i].get_text() == nbb_unformatted_code) {\n",
       "                             nbb_cells[i].set_text(nbb_formatted_code);\n",
       "                        }\n",
       "                        break;\n",
       "                    }\n",
       "                }\n",
       "            }, 500);\n",
       "            "
      ],
      "text/plain": [
       "<IPython.core.display.Javascript object>"
      ]
     },
     "metadata": {},
     "output_type": "display_data"
    }
   ],
   "source": [
    "# # Create specific_roles_list for above popped value\n",
    "# specific_roles_list = (\n",
    "#     df.loc[\n",
    "#         [index for index in df.index if \"scientist\" in df.loc[index, \"info\"]], \"info_2\",\n",
    "#     ]\n",
    "#     .value_counts()\n",
    "#     .index.tolist()\n",
    "# )"
   ]
  },
  {
   "cell_type": "code",
   "execution_count": 105,
   "id": "c3632750",
   "metadata": {},
   "outputs": [
    {
     "data": {
      "application/javascript": [
       "\n",
       "            setTimeout(function() {\n",
       "                var nbb_cell_id = 105;\n",
       "                var nbb_unformatted_code = \"# # Code to check each specific value\\n# specific_roles_list.pop()\";\n",
       "                var nbb_formatted_code = \"# # Code to check each specific value\\n# specific_roles_list.pop()\";\n",
       "                var nbb_cells = Jupyter.notebook.get_cells();\n",
       "                for (var i = 0; i < nbb_cells.length; ++i) {\n",
       "                    if (nbb_cells[i].input_prompt_number == nbb_cell_id) {\n",
       "                        if (nbb_cells[i].get_text() == nbb_unformatted_code) {\n",
       "                             nbb_cells[i].set_text(nbb_formatted_code);\n",
       "                        }\n",
       "                        break;\n",
       "                    }\n",
       "                }\n",
       "            }, 500);\n",
       "            "
      ],
      "text/plain": [
       "<IPython.core.display.Javascript object>"
      ]
     },
     "metadata": {},
     "output_type": "display_data"
    }
   ],
   "source": [
    "# # Code to check each specific value\n",
    "# specific_roles_list.pop()"
   ]
  },
  {
   "cell_type": "code",
   "execution_count": 106,
   "id": "216bf8eb",
   "metadata": {},
   "outputs": [
    {
     "data": {
      "application/javascript": [
       "\n",
       "            setTimeout(function() {\n",
       "                var nbb_cell_id = 106;\n",
       "                var nbb_unformatted_code = \"# # Example code to quick-screen values that may overlap categories\\n# df.loc[\\n#     [\\n#         index\\n#         for index in df.index\\n#         if \\\"scientist and administrator\\\" in df.loc[index, \\\"info\\\"]\\n#     ]\\n# ]\";\n",
       "                var nbb_formatted_code = \"# # Example code to quick-screen values that may overlap categories\\n# df.loc[\\n#     [\\n#         index\\n#         for index in df.index\\n#         if \\\"scientist and administrator\\\" in df.loc[index, \\\"info\\\"]\\n#     ]\\n# ]\";\n",
       "                var nbb_cells = Jupyter.notebook.get_cells();\n",
       "                for (var i = 0; i < nbb_cells.length; ++i) {\n",
       "                    if (nbb_cells[i].input_prompt_number == nbb_cell_id) {\n",
       "                        if (nbb_cells[i].get_text() == nbb_unformatted_code) {\n",
       "                             nbb_cells[i].set_text(nbb_formatted_code);\n",
       "                        }\n",
       "                        break;\n",
       "                    }\n",
       "                }\n",
       "            }, 500);\n",
       "            "
      ],
      "text/plain": [
       "<IPython.core.display.Javascript object>"
      ]
     },
     "metadata": {},
     "output_type": "display_data"
    }
   ],
   "source": [
    "# # Example code to quick-screen values that may overlap categories\n",
    "# df.loc[\n",
    "#     [\n",
    "#         index\n",
    "#         for index in df.index\n",
    "#         if \"scientist and administrator\" in df.loc[index, \"info\"]\n",
    "#     ]\n",
    "# ]"
   ]
  },
  {
   "cell_type": "code",
   "execution_count": 107,
   "id": "b0160a47",
   "metadata": {},
   "outputs": [
    {
     "data": {
      "application/javascript": [
       "\n",
       "            setTimeout(function() {\n",
       "                var nbb_cell_id = 107;\n",
       "                var nbb_unformatted_code = \"# # Example code to quick-check a specific entry\\n# df[df[\\\"info_2\\\"] == \\\"farmer scientist\\\"]\";\n",
       "                var nbb_formatted_code = \"# # Example code to quick-check a specific entry\\n# df[df[\\\"info_2\\\"] == \\\"farmer scientist\\\"]\";\n",
       "                var nbb_cells = Jupyter.notebook.get_cells();\n",
       "                for (var i = 0; i < nbb_cells.length; ++i) {\n",
       "                    if (nbb_cells[i].input_prompt_number == nbb_cell_id) {\n",
       "                        if (nbb_cells[i].get_text() == nbb_unformatted_code) {\n",
       "                             nbb_cells[i].set_text(nbb_formatted_code);\n",
       "                        }\n",
       "                        break;\n",
       "                    }\n",
       "                }\n",
       "            }, 500);\n",
       "            "
      ],
      "text/plain": [
       "<IPython.core.display.Javascript object>"
      ]
     },
     "metadata": {},
     "output_type": "display_data"
    }
   ],
   "source": [
    "# # Example code to quick-check a specific entry\n",
    "# df[df[\"info_2\"] == \"farmer scientist\"]"
   ]
  },
  {
   "cell_type": "markdown",
   "id": "b2214e71",
   "metadata": {},
   "source": [
    "#### Creating Lists for Each `known_for` Category"
   ]
  },
  {
   "cell_type": "code",
   "execution_count": 108,
   "id": "7172ae17",
   "metadata": {},
   "outputs": [
    {
     "data": {
      "application/javascript": [
       "\n",
       "            setTimeout(function() {\n",
       "                var nbb_cell_id = 108;\n",
       "                var nbb_unformatted_code = \"# Creating lists for each category\\npolitics_govt_law = [\\n    \\\"political scientist and nonviolence advocate\\\",\\n    \\\"political scientist and watcher\\\",\\n    \\\"political scientist and legal\\\",\\n    \\\"political scientist and\\\",\\n    \\\"and political scientist\\\",\\n    \\\"political scientist\\\",  # before sciences\\n    \\\"Ostforschung\\\",\\n]\\n\\narts = []\\nsports = []\\nsciences = [\\n    \\\"scientist whose pioneering measurements showed a carbon dioxide buildup in the earth atmosphere\\\",\\n    \\\"Manhattan Project scientist and former director of Oak Ridge National Laboratory\\\",\\n    \\\"computer scientist and chief designer of the Ada programming language\\\",\\n    \\\"scientist and recipient of the Nobel Prize in Physiology or Medicine\\\",\\n    \\\"computer scientist who led the IBM team that developed Fortran\\\",\\n    \\\"cognitive scientist and pioneer in artificial intelligence\\\",\\n    \\\"pioneering scientist in the field of human consciousness\\\",\\n    \\\"scientist whose work helped develop prion theory\\\",\\n    \\\"nuclear scientist and father of nuclear program\\\",\\n    \\\"research scientist and influenza vaccine expert\\\",\\n    \\\"scientist credited with inventing the wetsuit\\\",\\n    \\\"marine biologist and environmental scientist\\\",\\n    \\\"scientist and X ray crystallography pioneer\\\",\\n    \\\"food technologist and nutritional scientist\\\",\\n    \\\"scientist and organ transplantation pioneer\\\",\\n    'and social scientist who coined the term \\\"\\\"',\\n    \\\"computer and information research scientist\\\",\\n    \\\"computer scientist and Turing Award winner\\\",\\n    \\\"scientist who co founded the Club of Rome\\\",\\n    \\\"neuroscientist and evolutionary biologist\\\",\\n    \\\"scientist and former Bell Labs president\\\",\\n    \\\"marine biologist and fisheries scientist\\\",\\n    \\\"agricultural scientist and plant breeder\\\",\\n    \\\"atmospheric scientist and meteorologist\\\",\\n    \\\"computer scientist and internet pioneer\\\",\\n    \\\"scientist and Down syndrome researcher\\\",\\n    \\\"ichthyologist and fisheries scientist\\\",\\n    \\\"computer scientist at Rice University\\\",\\n    \\\"psychological and cognitive scientist\\\",\\n    \\\"paleontologist and forensic scientist\\\",\\n    \\\"neuroscientist and autism researcher\\\",\\n    \\\"agricultural scientist and ecologist\\\",\\n    \\\"computer scientist and microcomputer\\\",\\n    \\\"ecologist and conservation scientist\\\",\\n    \\\"biologist and agricultural scientist\\\",\\n    \\\"scientist and co founder of the JPL\\\",\\n    \\\"computer scientist and statistician\\\",\\n    \\\"rocket scientist and NASA executive\\\",\\n    \\\"statistician and computer scientist\\\",\\n    \\\"scientist and Nobel Prize laureate\\\",\\n    \\\"food scientist and microbiologist\\\",\\n    \\\"scientist and diabetes researcher\\\",\\n    \\\"scientist and computer programmer\\\",\\n    \\\"computer scientist and astronomer\\\",\\n    \\\"geologist and planetary scientist\\\",\\n    \\\"atmospheric and climate scientist\\\",\\n    \\\"computer scientist and programmer\\\",\\n    \\\"Hall of Fame computer scientist\\\",\\n    \\\"scientist and earthquake expert\\\",\\n    \\\"inventor and forensic scientist\\\",\\n    \\\"neuroscientist and physiologist\\\",\\n    \\\"psychiatrist and neuroscientist\\\",\\n    \\\"computer scientist and inventor\\\",\\n    \\\"computer scientist and pioneer\\\",\\n    \\\"environmental health scientist\\\",\\n    \\\"interdisciplanarily scientist\\\",\\n    \\\"scientist and endocrinologist\\\",\\n    \\\"doctor and medical scientist\\\",\\n    \\\"computer scientist from UCSD\\\",\\n    \\\"computational neuroscientist\\\",\\n    \\\"geologist and soil scientist\\\",\\n    \\\"and climate change scientist\\\",\\n    \\\"scientist and ISRO chairman\\\",\\n    \\\"scientist and administrator\\\",\\n    \\\"medical research scientist\\\",\\n    \\\"missile control scientist\\\",\\n    \\\"earth scientist and polar\\\",\\n    \\\"cancer research scientist\\\",\\n    \\\"behavioral neuroscientist\\\",\\n    \\\"pulp and paper scientist\\\",\\n    \\\"cognitive neuroscientist\\\",\\n    \\\"pharmaceutical scientist\\\",\\n    \\\"horticultural scientist\\\",\\n    \\\"communication scientist\\\",\\n    \\\"public health scientist\\\",\\n    \\\"environmental scientist\\\",\\n    \\\"scientist and inventor\\\",\\n    \\\"conservation scientist\\\",\\n    \\\"high voltage scientist\\\",\\n    \\\"research scientist and\\\",\\n    \\\"Tatar rocket scientist\\\",\\n    \\\"computer scientist and\\\",\\n    \\\"and computer scientist\\\",\\n    \\\"IBM computer scientist\\\",\\n    \\\"biomaterials scientist\\\",\\n    \\\"and forensic scientist\\\",\\n    \\\"inventor and scientist\\\",\\n    \\\"aeronautical scientist\\\",\\n    \\\"agricultural scientist\\\",\\n    \\\"surgeon and scientist\\\",\\n    \\\"and nuclear scientist\\\",\\n    \\\"atmospheric scientist\\\",\\n    \\\"information scientist\\\",\\n    \\\"social scientist and\\\",\\n    \\\"and social scientist\\\",\\n    \\\"doctor and scientist\\\",\\n    \\\"biomedical scientist\\\",\\n    \\\"and rocket scientist\\\",\\n    \\\"veterinary scientist\\\",\\n    \\\"nutrition scientist\\\",\\n    \\\"stem cell scientist\\\",\\n    \\\"fuel cell scientist\\\",\\n    \\\"polar scientist and\\\",\\n    \\\"plant scientist and\\\",\\n    \\\"fisheries scientist\\\",\\n    \\\"molecular scientist\\\",\\n    \\\"cognitive scientist\\\",\\n    \\\"planetary scientist\\\",\\n    \\\"materials scientist\\\",\\n    \\\"computer scientist\\\",\\n    \\\"wildlife scientist\\\",\\n    \\\"neuroscientist and\\\",\\n    \\\"research scientist\\\",\\n    \\\"and neuroscientist\\\",\\n    \\\"medical  scientist\\\",\\n    \\\"cultural scientist\\\",\\n    \\\"material scientist\\\",\\n    \\\"medical scientist\\\",\\n    \\\"climate scientist\\\",\\n    \\\"nuclear scientist\\\",\\n    \\\"rocket scientist\\\",\\n    \\\"geoscientist and\\\",\\n    \\\"forest scientist\\\",\\n    \\\"animal scientist\\\",\\n    \\\"marine scientist\\\",\\n    \\\"social scientist\\\",\\n    \\\"polar scientist\\\",\\n    \\\"radio scientist\\\",\\n    \\\"neuro scientist\\\",\\n    \\\"space scientist\\\",\\n    \\\"rice scientist\\\",\\n    \\\"soil scientist\\\",\\n    \\\"food scientist\\\",\\n    \\\"neuroscientist\\\",\\n    \\\"geoscientist\\\",\\n    \\\"scientist and\\\",\\n    \\\"and scientist\\\",\\n    \\\"scientist\\\",\\n]\\n\\nbusiness_farming = []\\nacademia_humanities = [\\n    \\\"literary scientist\\\",  # before sciences\\n    \\\"media scientist\\\",\\n]\\nlaw_enf_military_operator = [\\\"weapons expert\\\"]\\nspiritual = []\\nsocial = []\\ncrime = []\\nevent_record_other = [\\\"Unabomber target\\\"]\\nother_species = []\";\n",
       "                var nbb_formatted_code = \"# Creating lists for each category\\npolitics_govt_law = [\\n    \\\"political scientist and nonviolence advocate\\\",\\n    \\\"political scientist and watcher\\\",\\n    \\\"political scientist and legal\\\",\\n    \\\"political scientist and\\\",\\n    \\\"and political scientist\\\",\\n    \\\"political scientist\\\",  # before sciences\\n    \\\"Ostforschung\\\",\\n]\\n\\narts = []\\nsports = []\\nsciences = [\\n    \\\"scientist whose pioneering measurements showed a carbon dioxide buildup in the earth atmosphere\\\",\\n    \\\"Manhattan Project scientist and former director of Oak Ridge National Laboratory\\\",\\n    \\\"computer scientist and chief designer of the Ada programming language\\\",\\n    \\\"scientist and recipient of the Nobel Prize in Physiology or Medicine\\\",\\n    \\\"computer scientist who led the IBM team that developed Fortran\\\",\\n    \\\"cognitive scientist and pioneer in artificial intelligence\\\",\\n    \\\"pioneering scientist in the field of human consciousness\\\",\\n    \\\"scientist whose work helped develop prion theory\\\",\\n    \\\"nuclear scientist and father of nuclear program\\\",\\n    \\\"research scientist and influenza vaccine expert\\\",\\n    \\\"scientist credited with inventing the wetsuit\\\",\\n    \\\"marine biologist and environmental scientist\\\",\\n    \\\"scientist and X ray crystallography pioneer\\\",\\n    \\\"food technologist and nutritional scientist\\\",\\n    \\\"scientist and organ transplantation pioneer\\\",\\n    'and social scientist who coined the term \\\"\\\"',\\n    \\\"computer and information research scientist\\\",\\n    \\\"computer scientist and Turing Award winner\\\",\\n    \\\"scientist who co founded the Club of Rome\\\",\\n    \\\"neuroscientist and evolutionary biologist\\\",\\n    \\\"scientist and former Bell Labs president\\\",\\n    \\\"marine biologist and fisheries scientist\\\",\\n    \\\"agricultural scientist and plant breeder\\\",\\n    \\\"atmospheric scientist and meteorologist\\\",\\n    \\\"computer scientist and internet pioneer\\\",\\n    \\\"scientist and Down syndrome researcher\\\",\\n    \\\"ichthyologist and fisheries scientist\\\",\\n    \\\"computer scientist at Rice University\\\",\\n    \\\"psychological and cognitive scientist\\\",\\n    \\\"paleontologist and forensic scientist\\\",\\n    \\\"neuroscientist and autism researcher\\\",\\n    \\\"agricultural scientist and ecologist\\\",\\n    \\\"computer scientist and microcomputer\\\",\\n    \\\"ecologist and conservation scientist\\\",\\n    \\\"biologist and agricultural scientist\\\",\\n    \\\"scientist and co founder of the JPL\\\",\\n    \\\"computer scientist and statistician\\\",\\n    \\\"rocket scientist and NASA executive\\\",\\n    \\\"statistician and computer scientist\\\",\\n    \\\"scientist and Nobel Prize laureate\\\",\\n    \\\"food scientist and microbiologist\\\",\\n    \\\"scientist and diabetes researcher\\\",\\n    \\\"scientist and computer programmer\\\",\\n    \\\"computer scientist and astronomer\\\",\\n    \\\"geologist and planetary scientist\\\",\\n    \\\"atmospheric and climate scientist\\\",\\n    \\\"computer scientist and programmer\\\",\\n    \\\"Hall of Fame computer scientist\\\",\\n    \\\"scientist and earthquake expert\\\",\\n    \\\"inventor and forensic scientist\\\",\\n    \\\"neuroscientist and physiologist\\\",\\n    \\\"psychiatrist and neuroscientist\\\",\\n    \\\"computer scientist and inventor\\\",\\n    \\\"computer scientist and pioneer\\\",\\n    \\\"environmental health scientist\\\",\\n    \\\"interdisciplanarily scientist\\\",\\n    \\\"scientist and endocrinologist\\\",\\n    \\\"doctor and medical scientist\\\",\\n    \\\"computer scientist from UCSD\\\",\\n    \\\"computational neuroscientist\\\",\\n    \\\"geologist and soil scientist\\\",\\n    \\\"and climate change scientist\\\",\\n    \\\"scientist and ISRO chairman\\\",\\n    \\\"scientist and administrator\\\",\\n    \\\"medical research scientist\\\",\\n    \\\"missile control scientist\\\",\\n    \\\"earth scientist and polar\\\",\\n    \\\"cancer research scientist\\\",\\n    \\\"behavioral neuroscientist\\\",\\n    \\\"pulp and paper scientist\\\",\\n    \\\"cognitive neuroscientist\\\",\\n    \\\"pharmaceutical scientist\\\",\\n    \\\"horticultural scientist\\\",\\n    \\\"communication scientist\\\",\\n    \\\"public health scientist\\\",\\n    \\\"environmental scientist\\\",\\n    \\\"scientist and inventor\\\",\\n    \\\"conservation scientist\\\",\\n    \\\"high voltage scientist\\\",\\n    \\\"research scientist and\\\",\\n    \\\"Tatar rocket scientist\\\",\\n    \\\"computer scientist and\\\",\\n    \\\"and computer scientist\\\",\\n    \\\"IBM computer scientist\\\",\\n    \\\"biomaterials scientist\\\",\\n    \\\"and forensic scientist\\\",\\n    \\\"inventor and scientist\\\",\\n    \\\"aeronautical scientist\\\",\\n    \\\"agricultural scientist\\\",\\n    \\\"surgeon and scientist\\\",\\n    \\\"and nuclear scientist\\\",\\n    \\\"atmospheric scientist\\\",\\n    \\\"information scientist\\\",\\n    \\\"social scientist and\\\",\\n    \\\"and social scientist\\\",\\n    \\\"doctor and scientist\\\",\\n    \\\"biomedical scientist\\\",\\n    \\\"and rocket scientist\\\",\\n    \\\"veterinary scientist\\\",\\n    \\\"nutrition scientist\\\",\\n    \\\"stem cell scientist\\\",\\n    \\\"fuel cell scientist\\\",\\n    \\\"polar scientist and\\\",\\n    \\\"plant scientist and\\\",\\n    \\\"fisheries scientist\\\",\\n    \\\"molecular scientist\\\",\\n    \\\"cognitive scientist\\\",\\n    \\\"planetary scientist\\\",\\n    \\\"materials scientist\\\",\\n    \\\"computer scientist\\\",\\n    \\\"wildlife scientist\\\",\\n    \\\"neuroscientist and\\\",\\n    \\\"research scientist\\\",\\n    \\\"and neuroscientist\\\",\\n    \\\"medical  scientist\\\",\\n    \\\"cultural scientist\\\",\\n    \\\"material scientist\\\",\\n    \\\"medical scientist\\\",\\n    \\\"climate scientist\\\",\\n    \\\"nuclear scientist\\\",\\n    \\\"rocket scientist\\\",\\n    \\\"geoscientist and\\\",\\n    \\\"forest scientist\\\",\\n    \\\"animal scientist\\\",\\n    \\\"marine scientist\\\",\\n    \\\"social scientist\\\",\\n    \\\"polar scientist\\\",\\n    \\\"radio scientist\\\",\\n    \\\"neuro scientist\\\",\\n    \\\"space scientist\\\",\\n    \\\"rice scientist\\\",\\n    \\\"soil scientist\\\",\\n    \\\"food scientist\\\",\\n    \\\"neuroscientist\\\",\\n    \\\"geoscientist\\\",\\n    \\\"scientist and\\\",\\n    \\\"and scientist\\\",\\n    \\\"scientist\\\",\\n]\\n\\nbusiness_farming = []\\nacademia_humanities = [\\n    \\\"literary scientist\\\",  # before sciences\\n    \\\"media scientist\\\",\\n]\\nlaw_enf_military_operator = [\\\"weapons expert\\\"]\\nspiritual = []\\nsocial = []\\ncrime = []\\nevent_record_other = [\\\"Unabomber target\\\"]\\nother_species = []\";\n",
       "                var nbb_cells = Jupyter.notebook.get_cells();\n",
       "                for (var i = 0; i < nbb_cells.length; ++i) {\n",
       "                    if (nbb_cells[i].input_prompt_number == nbb_cell_id) {\n",
       "                        if (nbb_cells[i].get_text() == nbb_unformatted_code) {\n",
       "                             nbb_cells[i].set_text(nbb_formatted_code);\n",
       "                        }\n",
       "                        break;\n",
       "                    }\n",
       "                }\n",
       "            }, 500);\n",
       "            "
      ],
      "text/plain": [
       "<IPython.core.display.Javascript object>"
      ]
     },
     "metadata": {},
     "output_type": "display_data"
    }
   ],
   "source": [
    "# Creating lists for each category\n",
    "politics_govt_law = [\n",
    "    \"political scientist and nonviolence advocate\",\n",
    "    \"political scientist and watcher\",\n",
    "    \"political scientist and legal\",\n",
    "    \"political scientist and\",\n",
    "    \"and political scientist\",\n",
    "    \"political scientist\",  # before sciences\n",
    "    \"Ostforschung\",\n",
    "]\n",
    "\n",
    "arts = []\n",
    "sports = []\n",
    "sciences = [\n",
    "    \"scientist whose pioneering measurements showed a carbon dioxide buildup in the earth atmosphere\",\n",
    "    \"Manhattan Project scientist and former director of Oak Ridge National Laboratory\",\n",
    "    \"computer scientist and chief designer of the Ada programming language\",\n",
    "    \"scientist and recipient of the Nobel Prize in Physiology or Medicine\",\n",
    "    \"computer scientist who led the IBM team that developed Fortran\",\n",
    "    \"cognitive scientist and pioneer in artificial intelligence\",\n",
    "    \"pioneering scientist in the field of human consciousness\",\n",
    "    \"scientist whose work helped develop prion theory\",\n",
    "    \"nuclear scientist and father of nuclear program\",\n",
    "    \"research scientist and influenza vaccine expert\",\n",
    "    \"scientist credited with inventing the wetsuit\",\n",
    "    \"marine biologist and environmental scientist\",\n",
    "    \"scientist and X ray crystallography pioneer\",\n",
    "    \"food technologist and nutritional scientist\",\n",
    "    \"scientist and organ transplantation pioneer\",\n",
    "    'and social scientist who coined the term \"\"',\n",
    "    \"computer and information research scientist\",\n",
    "    \"computer scientist and Turing Award winner\",\n",
    "    \"scientist who co founded the Club of Rome\",\n",
    "    \"neuroscientist and evolutionary biologist\",\n",
    "    \"scientist and former Bell Labs president\",\n",
    "    \"marine biologist and fisheries scientist\",\n",
    "    \"agricultural scientist and plant breeder\",\n",
    "    \"atmospheric scientist and meteorologist\",\n",
    "    \"computer scientist and internet pioneer\",\n",
    "    \"scientist and Down syndrome researcher\",\n",
    "    \"ichthyologist and fisheries scientist\",\n",
    "    \"computer scientist at Rice University\",\n",
    "    \"psychological and cognitive scientist\",\n",
    "    \"paleontologist and forensic scientist\",\n",
    "    \"neuroscientist and autism researcher\",\n",
    "    \"agricultural scientist and ecologist\",\n",
    "    \"computer scientist and microcomputer\",\n",
    "    \"ecologist and conservation scientist\",\n",
    "    \"biologist and agricultural scientist\",\n",
    "    \"scientist and co founder of the JPL\",\n",
    "    \"computer scientist and statistician\",\n",
    "    \"rocket scientist and NASA executive\",\n",
    "    \"statistician and computer scientist\",\n",
    "    \"scientist and Nobel Prize laureate\",\n",
    "    \"food scientist and microbiologist\",\n",
    "    \"scientist and diabetes researcher\",\n",
    "    \"scientist and computer programmer\",\n",
    "    \"computer scientist and astronomer\",\n",
    "    \"geologist and planetary scientist\",\n",
    "    \"atmospheric and climate scientist\",\n",
    "    \"computer scientist and programmer\",\n",
    "    \"Hall of Fame computer scientist\",\n",
    "    \"scientist and earthquake expert\",\n",
    "    \"inventor and forensic scientist\",\n",
    "    \"neuroscientist and physiologist\",\n",
    "    \"psychiatrist and neuroscientist\",\n",
    "    \"computer scientist and inventor\",\n",
    "    \"computer scientist and pioneer\",\n",
    "    \"environmental health scientist\",\n",
    "    \"interdisciplanarily scientist\",\n",
    "    \"scientist and endocrinologist\",\n",
    "    \"doctor and medical scientist\",\n",
    "    \"computer scientist from UCSD\",\n",
    "    \"computational neuroscientist\",\n",
    "    \"geologist and soil scientist\",\n",
    "    \"and climate change scientist\",\n",
    "    \"scientist and ISRO chairman\",\n",
    "    \"scientist and administrator\",\n",
    "    \"medical research scientist\",\n",
    "    \"missile control scientist\",\n",
    "    \"earth scientist and polar\",\n",
    "    \"cancer research scientist\",\n",
    "    \"behavioral neuroscientist\",\n",
    "    \"pulp and paper scientist\",\n",
    "    \"cognitive neuroscientist\",\n",
    "    \"pharmaceutical scientist\",\n",
    "    \"horticultural scientist\",\n",
    "    \"communication scientist\",\n",
    "    \"public health scientist\",\n",
    "    \"environmental scientist\",\n",
    "    \"scientist and inventor\",\n",
    "    \"conservation scientist\",\n",
    "    \"high voltage scientist\",\n",
    "    \"research scientist and\",\n",
    "    \"Tatar rocket scientist\",\n",
    "    \"computer scientist and\",\n",
    "    \"and computer scientist\",\n",
    "    \"IBM computer scientist\",\n",
    "    \"biomaterials scientist\",\n",
    "    \"and forensic scientist\",\n",
    "    \"inventor and scientist\",\n",
    "    \"aeronautical scientist\",\n",
    "    \"agricultural scientist\",\n",
    "    \"surgeon and scientist\",\n",
    "    \"and nuclear scientist\",\n",
    "    \"atmospheric scientist\",\n",
    "    \"information scientist\",\n",
    "    \"social scientist and\",\n",
    "    \"and social scientist\",\n",
    "    \"doctor and scientist\",\n",
    "    \"biomedical scientist\",\n",
    "    \"and rocket scientist\",\n",
    "    \"veterinary scientist\",\n",
    "    \"nutrition scientist\",\n",
    "    \"stem cell scientist\",\n",
    "    \"fuel cell scientist\",\n",
    "    \"polar scientist and\",\n",
    "    \"plant scientist and\",\n",
    "    \"fisheries scientist\",\n",
    "    \"molecular scientist\",\n",
    "    \"cognitive scientist\",\n",
    "    \"planetary scientist\",\n",
    "    \"materials scientist\",\n",
    "    \"computer scientist\",\n",
    "    \"wildlife scientist\",\n",
    "    \"neuroscientist and\",\n",
    "    \"research scientist\",\n",
    "    \"and neuroscientist\",\n",
    "    \"medical  scientist\",\n",
    "    \"cultural scientist\",\n",
    "    \"material scientist\",\n",
    "    \"medical scientist\",\n",
    "    \"climate scientist\",\n",
    "    \"nuclear scientist\",\n",
    "    \"rocket scientist\",\n",
    "    \"geoscientist and\",\n",
    "    \"forest scientist\",\n",
    "    \"animal scientist\",\n",
    "    \"marine scientist\",\n",
    "    \"social scientist\",\n",
    "    \"polar scientist\",\n",
    "    \"radio scientist\",\n",
    "    \"neuro scientist\",\n",
    "    \"space scientist\",\n",
    "    \"rice scientist\",\n",
    "    \"soil scientist\",\n",
    "    \"food scientist\",\n",
    "    \"neuroscientist\",\n",
    "    \"geoscientist\",\n",
    "    \"scientist and\",\n",
    "    \"and scientist\",\n",
    "    \"scientist\",\n",
    "]\n",
    "\n",
    "business_farming = []\n",
    "academia_humanities = [\n",
    "    \"literary scientist\",  # before sciences\n",
    "    \"media scientist\",\n",
    "]\n",
    "law_enf_military_operator = [\"weapons expert\"]\n",
    "spiritual = []\n",
    "social = []\n",
    "crime = []\n",
    "event_record_other = [\"Unabomber target\"]\n",
    "other_species = []"
   ]
  },
  {
   "cell_type": "markdown",
   "id": "17b59cb7",
   "metadata": {},
   "source": [
    "#### Creating `known_for_dict` Dictionary of Category Keys and Specific Role Lists of Values"
   ]
  },
  {
   "cell_type": "code",
   "execution_count": 109,
   "id": "35df69f6",
   "metadata": {},
   "outputs": [
    {
     "data": {
      "application/javascript": [
       "\n",
       "            setTimeout(function() {\n",
       "                var nbb_cell_id = 109;\n",
       "                var nbb_unformatted_code = \"# Combining separate lists into one dictionary\\nknown_for_dict = {\\n    \\\"social\\\": social,\\n    \\\"spiritual\\\": spiritual,\\n    \\\"academia_humanities\\\": academia_humanities,\\n    \\\"business_farming\\\": business_farming,\\n    \\\"politics_govt_law\\\": politics_govt_law,\\n    \\\"law_enf_military_operator\\\": law_enf_military_operator,\\n    \\\"crime\\\": crime,\\n    \\\"event_record_other\\\": event_record_other,\\n    \\\"other_species\\\": other_species,\\n    \\\"arts\\\": arts,\\n    \\\"sports\\\": sports,\\n    \\\"sciences\\\": sciences,\\n}\";\n",
       "                var nbb_formatted_code = \"# Combining separate lists into one dictionary\\nknown_for_dict = {\\n    \\\"social\\\": social,\\n    \\\"spiritual\\\": spiritual,\\n    \\\"academia_humanities\\\": academia_humanities,\\n    \\\"business_farming\\\": business_farming,\\n    \\\"politics_govt_law\\\": politics_govt_law,\\n    \\\"law_enf_military_operator\\\": law_enf_military_operator,\\n    \\\"crime\\\": crime,\\n    \\\"event_record_other\\\": event_record_other,\\n    \\\"other_species\\\": other_species,\\n    \\\"arts\\\": arts,\\n    \\\"sports\\\": sports,\\n    \\\"sciences\\\": sciences,\\n}\";\n",
       "                var nbb_cells = Jupyter.notebook.get_cells();\n",
       "                for (var i = 0; i < nbb_cells.length; ++i) {\n",
       "                    if (nbb_cells[i].input_prompt_number == nbb_cell_id) {\n",
       "                        if (nbb_cells[i].get_text() == nbb_unformatted_code) {\n",
       "                             nbb_cells[i].set_text(nbb_formatted_code);\n",
       "                        }\n",
       "                        break;\n",
       "                    }\n",
       "                }\n",
       "            }, 500);\n",
       "            "
      ],
      "text/plain": [
       "<IPython.core.display.Javascript object>"
      ]
     },
     "metadata": {},
     "output_type": "display_data"
    }
   ],
   "source": [
    "# Combining separate lists into one dictionary\n",
    "known_for_dict = {\n",
    "    \"social\": social,\n",
    "    \"spiritual\": spiritual,\n",
    "    \"academia_humanities\": academia_humanities,\n",
    "    \"business_farming\": business_farming,\n",
    "    \"politics_govt_law\": politics_govt_law,\n",
    "    \"law_enf_military_operator\": law_enf_military_operator,\n",
    "    \"crime\": crime,\n",
    "    \"event_record_other\": event_record_other,\n",
    "    \"other_species\": other_species,\n",
    "    \"arts\": arts,\n",
    "    \"sports\": sports,\n",
    "    \"sciences\": sciences,\n",
    "}"
   ]
  },
  {
   "cell_type": "markdown",
   "id": "c48a3a15",
   "metadata": {},
   "source": [
    "#### Extracting Category from `info_2`"
   ]
  },
  {
   "cell_type": "code",
   "execution_count": 110,
   "id": "0764c3c6",
   "metadata": {},
   "outputs": [
    {
     "name": "stdout",
     "output_type": "stream",
     "text": [
      "CPU times: total: 1min 18s\n",
      "Wall time: 1min 18s\n"
     ]
    },
    {
     "data": {
      "text/html": [
       "<div>\n",
       "<style scoped>\n",
       "    .dataframe tbody tr th:only-of-type {\n",
       "        vertical-align: middle;\n",
       "    }\n",
       "\n",
       "    .dataframe tbody tr th {\n",
       "        vertical-align: top;\n",
       "    }\n",
       "\n",
       "    .dataframe thead th {\n",
       "        text-align: right;\n",
       "    }\n",
       "</style>\n",
       "<table border=\"1\" class=\"dataframe\">\n",
       "  <thead>\n",
       "    <tr style=\"text-align: right;\">\n",
       "      <th></th>\n",
       "      <th>day</th>\n",
       "      <th>name</th>\n",
       "      <th>info</th>\n",
       "      <th>link</th>\n",
       "      <th>num_references</th>\n",
       "      <th>year</th>\n",
       "      <th>month</th>\n",
       "      <th>info_parenth</th>\n",
       "      <th>info_1</th>\n",
       "      <th>info_2</th>\n",
       "      <th>info_3</th>\n",
       "      <th>info_4</th>\n",
       "      <th>info_5</th>\n",
       "      <th>info_6</th>\n",
       "      <th>info_7</th>\n",
       "      <th>info_8</th>\n",
       "      <th>info_9</th>\n",
       "      <th>info_10</th>\n",
       "      <th>info_11</th>\n",
       "      <th>age</th>\n",
       "      <th>cause_of_death</th>\n",
       "      <th>place_1</th>\n",
       "      <th>place_2</th>\n",
       "      <th>info_parenth_copy</th>\n",
       "      <th>log_num_references</th>\n",
       "      <th>sciences</th>\n",
       "      <th>social</th>\n",
       "      <th>spiritual</th>\n",
       "      <th>academia_humanities</th>\n",
       "      <th>business_farming</th>\n",
       "      <th>arts</th>\n",
       "      <th>sports</th>\n",
       "      <th>law_enf_military_operator</th>\n",
       "      <th>politics_govt_law</th>\n",
       "      <th>crime</th>\n",
       "      <th>event_record_other</th>\n",
       "      <th>other_species</th>\n",
       "      <th>num_categories</th>\n",
       "    </tr>\n",
       "  </thead>\n",
       "  <tbody>\n",
       "    <tr>\n",
       "      <th>78445</th>\n",
       "      <td>1</td>\n",
       "      <td>János Aczél</td>\n",
       "      <td>, 95, Hungarian-Canadian mathematician.</td>\n",
       "      <td>https://en.wikipedia.org/wiki/J%C3%A1nos_Acz%C3%A9l_(mathematician)</td>\n",
       "      <td>21</td>\n",
       "      <td>2020</td>\n",
       "      <td>January</td>\n",
       "      <td>None</td>\n",
       "      <td>None</td>\n",
       "      <td></td>\n",
       "      <td>None</td>\n",
       "      <td>None</td>\n",
       "      <td>None</td>\n",
       "      <td>None</td>\n",
       "      <td>None</td>\n",
       "      <td>None</td>\n",
       "      <td>None</td>\n",
       "      <td>None</td>\n",
       "      <td>None</td>\n",
       "      <td>95.0</td>\n",
       "      <td>None</td>\n",
       "      <td>Hungary</td>\n",
       "      <td>Canada</td>\n",
       "      <td>None</td>\n",
       "      <td>3.091042</td>\n",
       "      <td>1</td>\n",
       "      <td>0</td>\n",
       "      <td>0</td>\n",
       "      <td>0</td>\n",
       "      <td>0</td>\n",
       "      <td>0</td>\n",
       "      <td>0</td>\n",
       "      <td>0</td>\n",
       "      <td>0</td>\n",
       "      <td>0</td>\n",
       "      <td>0</td>\n",
       "      <td>0</td>\n",
       "      <td>1</td>\n",
       "    </tr>\n",
       "    <tr>\n",
       "      <th>80334</th>\n",
       "      <td>29</td>\n",
       "      <td>Emilia Currás</td>\n",
       "      <td>, 92, Spanish information scientist and academic, COVID-19.</td>\n",
       "      <td>https://en.wikipedia.org/wiki/Emilia_Curr%C3%A1s</td>\n",
       "      <td>12</td>\n",
       "      <td>2020</td>\n",
       "      <td>March</td>\n",
       "      <td>None</td>\n",
       "      <td>None</td>\n",
       "      <td></td>\n",
       "      <td>COVID</td>\n",
       "      <td>None</td>\n",
       "      <td>None</td>\n",
       "      <td>None</td>\n",
       "      <td>None</td>\n",
       "      <td>None</td>\n",
       "      <td>None</td>\n",
       "      <td>None</td>\n",
       "      <td>None</td>\n",
       "      <td>92.0</td>\n",
       "      <td>None</td>\n",
       "      <td>Spain</td>\n",
       "      <td>None</td>\n",
       "      <td>None</td>\n",
       "      <td>2.564949</td>\n",
       "      <td>1</td>\n",
       "      <td>0</td>\n",
       "      <td>0</td>\n",
       "      <td>1</td>\n",
       "      <td>0</td>\n",
       "      <td>0</td>\n",
       "      <td>0</td>\n",
       "      <td>0</td>\n",
       "      <td>0</td>\n",
       "      <td>0</td>\n",
       "      <td>0</td>\n",
       "      <td>0</td>\n",
       "      <td>2</td>\n",
       "    </tr>\n",
       "  </tbody>\n",
       "</table>\n",
       "</div>"
      ],
      "text/plain": [
       "      day           name  \\\n",
       "78445   1    János Aczél   \n",
       "80334  29  Emilia Currás   \n",
       "\n",
       "                                                              info  \\\n",
       "78445                      , 95, Hungarian-Canadian mathematician.   \n",
       "80334  , 92, Spanish information scientist and academic, COVID-19.   \n",
       "\n",
       "                                                                      link  \\\n",
       "78445  https://en.wikipedia.org/wiki/J%C3%A1nos_Acz%C3%A9l_(mathematician)   \n",
       "80334                     https://en.wikipedia.org/wiki/Emilia_Curr%C3%A1s   \n",
       "\n",
       "       num_references  year    month info_parenth info_1 info_2 info_3 info_4  \\\n",
       "78445              21  2020  January         None   None          None   None   \n",
       "80334              12  2020    March         None   None         COVID   None   \n",
       "\n",
       "      info_5 info_6 info_7 info_8 info_9 info_10 info_11   age cause_of_death  \\\n",
       "78445   None   None   None   None   None    None    None  95.0           None   \n",
       "80334   None   None   None   None   None    None    None  92.0           None   \n",
       "\n",
       "       place_1 place_2 info_parenth_copy  log_num_references  sciences  \\\n",
       "78445  Hungary  Canada              None            3.091042         1   \n",
       "80334    Spain    None              None            2.564949         1   \n",
       "\n",
       "       social  spiritual  academia_humanities  business_farming  arts  sports  \\\n",
       "78445       0          0                    0                 0     0       0   \n",
       "80334       0          0                    1                 0     0       0   \n",
       "\n",
       "       law_enf_military_operator  politics_govt_law  crime  \\\n",
       "78445                          0                  0      0   \n",
       "80334                          0                  0      0   \n",
       "\n",
       "       event_record_other  other_species  num_categories  \n",
       "78445                   0              0               1  \n",
       "80334                   0              0               2  "
      ]
     },
     "execution_count": 110,
     "metadata": {},
     "output_type": "execute_result"
    },
    {
     "data": {
      "application/javascript": [
       "\n",
       "            setTimeout(function() {\n",
       "                var nbb_cell_id = 110;\n",
       "                var nbb_unformatted_code = \"%%time\\n\\n# Dictionary version\\nsearch_dict = known_for_dict\\n\\n# Column to check\\ncolumn = 'info_2'\\n\\n# Dataframe\\ndataframe = df[column].notna()\\n\\n# For loop to find role in column and extract it as category\\nfor category, category_lst in search_dict.items():\\n    for role in category_lst:\\n        for index in dataframe.index:\\n            item = df.loc[index, column]\\n            if item:\\n                if role in item:\\n                    df.loc[index, category] = 1\\n                    df.loc[index, column] = item.replace(role, '').strip()\\n\\n# Updating num_categories\\ndf[\\\"num_categories\\\"] = df[known_for_dict.keys()].sum(axis=1)\\n\\n# Checking a sample of rows\\ndf[df['sciences'] ==1].sample(2)\";\n",
       "                var nbb_formatted_code = \"%%time\\n\\n# Dictionary version\\nsearch_dict = known_for_dict\\n\\n# Column to check\\ncolumn = 'info_2'\\n\\n# Dataframe\\ndataframe = df[column].notna()\\n\\n# For loop to find role in column and extract it as category\\nfor category, category_lst in search_dict.items():\\n    for role in category_lst:\\n        for index in dataframe.index:\\n            item = df.loc[index, column]\\n            if item:\\n                if role in item:\\n                    df.loc[index, category] = 1\\n                    df.loc[index, column] = item.replace(role, '').strip()\\n\\n# Updating num_categories\\ndf[\\\"num_categories\\\"] = df[known_for_dict.keys()].sum(axis=1)\\n\\n# Checking a sample of rows\\ndf[df['sciences'] ==1].sample(2)\";\n",
       "                var nbb_cells = Jupyter.notebook.get_cells();\n",
       "                for (var i = 0; i < nbb_cells.length; ++i) {\n",
       "                    if (nbb_cells[i].input_prompt_number == nbb_cell_id) {\n",
       "                        if (nbb_cells[i].get_text() == nbb_unformatted_code) {\n",
       "                             nbb_cells[i].set_text(nbb_formatted_code);\n",
       "                        }\n",
       "                        break;\n",
       "                    }\n",
       "                }\n",
       "            }, 500);\n",
       "            "
      ],
      "text/plain": [
       "<IPython.core.display.Javascript object>"
      ]
     },
     "metadata": {},
     "output_type": "display_data"
    }
   ],
   "source": [
    "%%time\n",
    "\n",
    "# Dictionary version\n",
    "search_dict = known_for_dict\n",
    "\n",
    "# Column to check\n",
    "column = 'info_2'\n",
    "\n",
    "# Dataframe\n",
    "dataframe = df[column].notna()\n",
    "\n",
    "# For loop to find role in column and extract it as category\n",
    "for category, category_lst in search_dict.items():\n",
    "    for role in category_lst:\n",
    "        for index in dataframe.index:\n",
    "            item = df.loc[index, column]\n",
    "            if item:\n",
    "                if role in item:\n",
    "                    df.loc[index, category] = 1\n",
    "                    df.loc[index, column] = item.replace(role, '').strip()\n",
    "\n",
    "# Updating num_categories\n",
    "df[\"num_categories\"] = df[known_for_dict.keys()].sum(axis=1)\n",
    "\n",
    "# Checking a sample of rows\n",
    "df[df['sciences'] ==1].sample(2)"
   ]
  },
  {
   "cell_type": "markdown",
   "id": "5c18fdbb",
   "metadata": {},
   "source": [
    "#### Checking the Number of Rows without a First Category"
   ]
  },
  {
   "cell_type": "code",
   "execution_count": 111,
   "id": "f1276b01",
   "metadata": {},
   "outputs": [
    {
     "name": "stdout",
     "output_type": "stream",
     "text": [
      "There are 33798 entries without any known_for category.\n"
     ]
    },
    {
     "data": {
      "application/javascript": [
       "\n",
       "            setTimeout(function() {\n",
       "                var nbb_cell_id = 111;\n",
       "                var nbb_unformatted_code = \"# Checking the number of rows without a first category\\nprint(\\n    f'There are {len(df[df[\\\"num_categories\\\"]==0])} entries without any known_for category.'\\n)\";\n",
       "                var nbb_formatted_code = \"# Checking the number of rows without a first category\\nprint(\\n    f'There are {len(df[df[\\\"num_categories\\\"]==0])} entries without any known_for category.'\\n)\";\n",
       "                var nbb_cells = Jupyter.notebook.get_cells();\n",
       "                for (var i = 0; i < nbb_cells.length; ++i) {\n",
       "                    if (nbb_cells[i].input_prompt_number == nbb_cell_id) {\n",
       "                        if (nbb_cells[i].get_text() == nbb_unformatted_code) {\n",
       "                             nbb_cells[i].set_text(nbb_formatted_code);\n",
       "                        }\n",
       "                        break;\n",
       "                    }\n",
       "                }\n",
       "            }, 500);\n",
       "            "
      ],
      "text/plain": [
       "<IPython.core.display.Javascript object>"
      ]
     },
     "metadata": {},
     "output_type": "display_data"
    }
   ],
   "source": [
    "# Checking the number of rows without a first category\n",
    "print(\n",
    "    f'There are {len(df[df[\"num_categories\"]==0])} entries without any known_for category.'\n",
    ")"
   ]
  },
  {
   "cell_type": "markdown",
   "id": "8d5bbf75",
   "metadata": {},
   "source": [
    "#### Observations:\n",
    "- We will proceed to rebuild `known_for_dict` for the next iteration."
   ]
  },
  {
   "cell_type": "markdown",
   "id": "2621485f",
   "metadata": {},
   "source": [
    "#### Finding `known_for` Roles in `info_2`"
   ]
  },
  {
   "cell_type": "code",
   "execution_count": 112,
   "id": "efb0f9e9",
   "metadata": {},
   "outputs": [
    {
     "data": {
      "application/javascript": [
       "\n",
       "            setTimeout(function() {\n",
       "                var nbb_cell_id = 112;\n",
       "                var nbb_unformatted_code = \"# # Obtaining values for column and their counts\\n# roles_list = df[\\\"info_2\\\"].value_counts(ascending=True).index.tolist()\";\n",
       "                var nbb_formatted_code = \"# # Obtaining values for column and their counts\\n# roles_list = df[\\\"info_2\\\"].value_counts(ascending=True).index.tolist()\";\n",
       "                var nbb_cells = Jupyter.notebook.get_cells();\n",
       "                for (var i = 0; i < nbb_cells.length; ++i) {\n",
       "                    if (nbb_cells[i].input_prompt_number == nbb_cell_id) {\n",
       "                        if (nbb_cells[i].get_text() == nbb_unformatted_code) {\n",
       "                             nbb_cells[i].set_text(nbb_formatted_code);\n",
       "                        }\n",
       "                        break;\n",
       "                    }\n",
       "                }\n",
       "            }, 500);\n",
       "            "
      ],
      "text/plain": [
       "<IPython.core.display.Javascript object>"
      ]
     },
     "metadata": {},
     "output_type": "display_data"
    }
   ],
   "source": [
    "# # Obtaining values for column and their counts\n",
    "# roles_list = df[\"info_2\"].value_counts(ascending=True).index.tolist()"
   ]
  },
  {
   "cell_type": "code",
   "execution_count": 113,
   "id": "51c8d033",
   "metadata": {},
   "outputs": [
    {
     "data": {
      "application/javascript": [
       "\n",
       "            setTimeout(function() {\n",
       "                var nbb_cell_id = 113;\n",
       "                var nbb_unformatted_code = \"# # Code to check each value\\n# roles_list.pop()\";\n",
       "                var nbb_formatted_code = \"# # Code to check each value\\n# roles_list.pop()\";\n",
       "                var nbb_cells = Jupyter.notebook.get_cells();\n",
       "                for (var i = 0; i < nbb_cells.length; ++i) {\n",
       "                    if (nbb_cells[i].input_prompt_number == nbb_cell_id) {\n",
       "                        if (nbb_cells[i].get_text() == nbb_unformatted_code) {\n",
       "                             nbb_cells[i].set_text(nbb_formatted_code);\n",
       "                        }\n",
       "                        break;\n",
       "                    }\n",
       "                }\n",
       "            }, 500);\n",
       "            "
      ],
      "text/plain": [
       "<IPython.core.display.Javascript object>"
      ]
     },
     "metadata": {},
     "output_type": "display_data"
    }
   ],
   "source": [
    "# # Code to check each value\n",
    "# roles_list.pop()"
   ]
  },
  {
   "cell_type": "code",
   "execution_count": 114,
   "id": "84ec67da",
   "metadata": {},
   "outputs": [
    {
     "data": {
      "application/javascript": [
       "\n",
       "            setTimeout(function() {\n",
       "                var nbb_cell_id = 114;\n",
       "                var nbb_unformatted_code = \"# # Create specific_roles_list for above popped value\\n# specific_roles_list = (\\n#     df.loc[\\n#         [index for index in df.index if \\\"activist\\\" in df.loc[index, \\\"info\\\"]], \\\"info_2\\\",\\n#     ]\\n#     .value_counts()\\n#     .index.tolist()\\n# )\";\n",
       "                var nbb_formatted_code = \"# # Create specific_roles_list for above popped value\\n# specific_roles_list = (\\n#     df.loc[\\n#         [index for index in df.index if \\\"activist\\\" in df.loc[index, \\\"info\\\"]], \\\"info_2\\\",\\n#     ]\\n#     .value_counts()\\n#     .index.tolist()\\n# )\";\n",
       "                var nbb_cells = Jupyter.notebook.get_cells();\n",
       "                for (var i = 0; i < nbb_cells.length; ++i) {\n",
       "                    if (nbb_cells[i].input_prompt_number == nbb_cell_id) {\n",
       "                        if (nbb_cells[i].get_text() == nbb_unformatted_code) {\n",
       "                             nbb_cells[i].set_text(nbb_formatted_code);\n",
       "                        }\n",
       "                        break;\n",
       "                    }\n",
       "                }\n",
       "            }, 500);\n",
       "            "
      ],
      "text/plain": [
       "<IPython.core.display.Javascript object>"
      ]
     },
     "metadata": {},
     "output_type": "display_data"
    }
   ],
   "source": [
    "# # Create specific_roles_list for above popped value\n",
    "# specific_roles_list = (\n",
    "#     df.loc[\n",
    "#         [index for index in df.index if \"activist\" in df.loc[index, \"info\"]], \"info_2\",\n",
    "#     ]\n",
    "#     .value_counts()\n",
    "#     .index.tolist()\n",
    "# )"
   ]
  },
  {
   "cell_type": "code",
   "execution_count": 115,
   "id": "13831a8a",
   "metadata": {},
   "outputs": [
    {
     "data": {
      "application/javascript": [
       "\n",
       "            setTimeout(function() {\n",
       "                var nbb_cell_id = 115;\n",
       "                var nbb_unformatted_code = \"# # Code to check each specific value\\n# specific_roles_list.pop()\";\n",
       "                var nbb_formatted_code = \"# # Code to check each specific value\\n# specific_roles_list.pop()\";\n",
       "                var nbb_cells = Jupyter.notebook.get_cells();\n",
       "                for (var i = 0; i < nbb_cells.length; ++i) {\n",
       "                    if (nbb_cells[i].input_prompt_number == nbb_cell_id) {\n",
       "                        if (nbb_cells[i].get_text() == nbb_unformatted_code) {\n",
       "                             nbb_cells[i].set_text(nbb_formatted_code);\n",
       "                        }\n",
       "                        break;\n",
       "                    }\n",
       "                }\n",
       "            }, 500);\n",
       "            "
      ],
      "text/plain": [
       "<IPython.core.display.Javascript object>"
      ]
     },
     "metadata": {},
     "output_type": "display_data"
    }
   ],
   "source": [
    "# # Code to check each specific value\n",
    "# specific_roles_list.pop()"
   ]
  },
  {
   "cell_type": "code",
   "execution_count": 116,
   "id": "3dc0d63e",
   "metadata": {
    "scrolled": false
   },
   "outputs": [
    {
     "data": {
      "application/javascript": [
       "\n",
       "            setTimeout(function() {\n",
       "                var nbb_cell_id = 116;\n",
       "                var nbb_unformatted_code = \"# # Example code to quick-screen values that may overlap categories\\n# df.loc[[index for index in df.index if \\\"social activist\\\" in df.loc[index, \\\"info\\\"]]]\";\n",
       "                var nbb_formatted_code = \"# # Example code to quick-screen values that may overlap categories\\n# df.loc[[index for index in df.index if \\\"social activist\\\" in df.loc[index, \\\"info\\\"]]]\";\n",
       "                var nbb_cells = Jupyter.notebook.get_cells();\n",
       "                for (var i = 0; i < nbb_cells.length; ++i) {\n",
       "                    if (nbb_cells[i].input_prompt_number == nbb_cell_id) {\n",
       "                        if (nbb_cells[i].get_text() == nbb_unformatted_code) {\n",
       "                             nbb_cells[i].set_text(nbb_formatted_code);\n",
       "                        }\n",
       "                        break;\n",
       "                    }\n",
       "                }\n",
       "            }, 500);\n",
       "            "
      ],
      "text/plain": [
       "<IPython.core.display.Javascript object>"
      ]
     },
     "metadata": {},
     "output_type": "display_data"
    }
   ],
   "source": [
    "# # Example code to quick-screen values that may overlap categories\n",
    "# df.loc[[index for index in df.index if \"social activist\" in df.loc[index, \"info\"]]]"
   ]
  },
  {
   "cell_type": "code",
   "execution_count": 117,
   "id": "8aeafc8d",
   "metadata": {},
   "outputs": [
    {
     "data": {
      "application/javascript": [
       "\n",
       "            setTimeout(function() {\n",
       "                var nbb_cell_id = 117;\n",
       "                var nbb_unformatted_code = \"# # Example code to quick-check a specific entry\\n# df[df[\\\"info_2\\\"] == \\\"Jewish activist\\\"]\";\n",
       "                var nbb_formatted_code = \"# # Example code to quick-check a specific entry\\n# df[df[\\\"info_2\\\"] == \\\"Jewish activist\\\"]\";\n",
       "                var nbb_cells = Jupyter.notebook.get_cells();\n",
       "                for (var i = 0; i < nbb_cells.length; ++i) {\n",
       "                    if (nbb_cells[i].input_prompt_number == nbb_cell_id) {\n",
       "                        if (nbb_cells[i].get_text() == nbb_unformatted_code) {\n",
       "                             nbb_cells[i].set_text(nbb_formatted_code);\n",
       "                        }\n",
       "                        break;\n",
       "                    }\n",
       "                }\n",
       "            }, 500);\n",
       "            "
      ],
      "text/plain": [
       "<IPython.core.display.Javascript object>"
      ]
     },
     "metadata": {},
     "output_type": "display_data"
    }
   ],
   "source": [
    "# # Example code to quick-check a specific entry\n",
    "# df[df[\"info_2\"] == \"Jewish activist\"]"
   ]
  },
  {
   "cell_type": "markdown",
   "id": "688da52e",
   "metadata": {},
   "source": [
    "#### Creating Lists for Each `known_for` Category"
   ]
  },
  {
   "cell_type": "code",
   "execution_count": 118,
   "id": "63aa7a43",
   "metadata": {},
   "outputs": [
    {
     "data": {
      "application/javascript": [
       "\n",
       "            setTimeout(function() {\n",
       "                var nbb_cell_id = 118;\n",
       "                var nbb_unformatted_code = \"# Creating lists for each category\\npolitics_govt_law = [\\n    \\\"civil rights activist and member of the Citizens' Commission to Investigate the FBI\\\"\\n    \\\"World War II conscientious objector and peace activist with War Resisters League\\\",\\n    \\\"of Birmingham and environmental activist with Friends of the Earth\\\",\\n    \\\"UNDP human rights activist and Amnesty International board member\\\",\\n    \\\"civil rights activist and Socialist candidate for President in\\\",\\n    \\\"labor union activist and President of the United Auto Workers\\\",\\n    \\\"former Ku Klux Klan member turned civil rights activist\\\",\\n    \\\"political activist and opposition leader in Ingushetia\\\",\\n    \\\"esthesioneuroblastoma sufferer and euthanasia activist\\\",\\n    \\\"political activist and Philadelphia City Councilwoman\\\",\\n    \\\"and co founder of the Crips turned anti gang activist\\\",\\n    \\\"elephant conservationist and anti poaching activist\\\",\\n    \\\"exonerated prisoner and anti death penalty activist\\\",\\n    \\\"Western Shoshone leader and environmental activist\\\",\\n    \\\"activist and founder of the Gray Panthers movement\\\",\\n    \\\"gay rights activist and Mattachine Society founder\\\",\\n    \\\"activist and advocate for people with disabilities\\\",\\n    \\\"internment camp detainee and civil rights activist\\\",\\n    \\\"activist and leader of the Communist Party of the\\\",\\n    \\\"activist and first wife of president V\\u00e1clav Havel\\\",\\n    \\\"activist and Berkeley Free Speech Movement member\\\",\\n    \\\"human rights activist in the fields of gay women\\\",\\n    \\\"human rights activist in Chechnya and Ingushetia\\\",\\n    \\\"political activist; former wife of Charles Vidor\\\",\\n    \\\"political activist and daughter of Ronald Reagan\\\",\\n    \\\"Western Shoshone indigenous rights activist and\\\",\\n    \\\"and jailed Tiananmen Square democracy activist\\\",\\n    \\\"environmentalist and anti consumerism activist\\\",\\n    \\\"revolutionary figure and women rights activist\\\",\\n    \\\"anti apartheid activist and political prisoner\\\",\\n    \\\"human rights activist and political dissident\\\",\\n    \\\"pro democracy activist and political prisoner\\\",\\n    \\\"environmental and indigenous affairs activist\\\",\\n    \\\"political activist and trades union official\\\",\\n    \\\"Prime Minister of and human rights activist\\\",\\n    \\\"pro choice activist and co founder of NARAL\\\",\\n    \\\"radical feminist  anti pornography activist\\\",\\n    \\\"trade unionist and M\\u0101ori language activist\\\",\\n    \\\"human rights activist and environmentalist\\\",\\n    \\\"ex Black Panthers and anti police activist\\\",\\n    \\\"atomic bomb survivor and anti war activist\\\",\\n    \\\"International Solidarity Movement activist\\\",\\n    \\\"Indigenous human and women rights activist\\\",\\n    \\\"trade unionist and environmental activist\\\",\\n    \\\"Cree elder and indigenous rights activist\\\",\\n    \\\"gay rights activist and founder of J Flag\\\",\\n    \\\"civil rights and civil liberties activist\\\",\\n    \\\"anti apartheid activist and civil servant\\\",\\n    \\\"union organizer and women rights activist\\\",\\n    \\\"white civil rights activist and lobbyist\\\",\\n    \\\"human rights activist and hunger striker\\\",\\n    \\\"equality and alternative energy activist\\\",\\n    \\\"Nisqually tribal fishing rights activist\\\",\\n    \\\"gay liberation and transgender activist\\\",\\n    \\\"attorney and disability rights activist\\\",\\n    \\\"aboriginal activist and Wiradjuri elder\\\",\\n    \\\"environmentalist and anti war activist\\\",\\n    \\\"anti apartheid and gay rights activist\\\",\\n    \\\"conservationist and political activist\\\",\\n    \\\"loyalist activist and victims advocate\\\",\\n    \\\"political lobbyist and Jewish activist\\\",\\n    \\\"trade unionist and political activist\\\",\\n    \\\"women rights and LGBT rights activist\\\",\\n    \\\"civic and voter registration activist\\\",\\n    \\\"gay rights pioneer and peace activist\\\",\\n    \\\"political activist and public servant\\\",\\n    \\\"social activist and community leader\\\",\\n    \\\"neo P\\u00e9tainist and political activist\\\",\\n    \\\"anarchist and Romani rights activist\\\",\\n    \\\"Congresswoman; women rights activist\\\",\\n    \\\"legislative aide and Jewish activist\\\",\\n    \\\"women rights activist and sex worker\\\",\\n    \\\"extreme right activist and Wehrmacht\\\",\\n    \\\"anti apartheid and intersex activist\\\",\\n    \\\"M\\u0101ori language activist and unionist\\\",\\n    \\\"Cahuilla tribal leader and activist\\\",\\n    \\\"President of Fish & Game Commission\\\",\\n    \\\"Kootenai tribal leader and activist\\\",\\n    \\\"dissident and human rights activist\\\",\\n    \\\"worker and consumer rights activist\\\",\\n    \\\"community and human rights activist\\\",\\n    \\\"barrister and human rights activist\\\",\\n    \\\"human rights and democracy activist\\\",\\n    \\\"attorney and civil rights activist\\\",\\n    \\\"political activist and syndicalist\\\",\\n    \\\"Gandhian and anti alcohol activist\\\",\\n    \\\"anti caste discrimination activist\\\",\\n    \\\"New activist for West independence\\\",\\n    \\\"human rights activist and attorney\\\",\\n    \\\"anti apartheid activist and member\\\",\\n    \\\"civil rights activist and attorney\\\",\\n    \\\"civil rights activist and feminist\\\",\\n    \\\"M\\u0101ori activist and public servant\\\",\\n    \\\"republican political activist and\\\",\\n    \\\"healthcare activist and political\\\",\\n    \\\"activist and wife of Oliver Tambo\\\",\\n    \\\"anti communist political activist\\\",\\n    \\\"civil rights and freedom activist\\\",\\n    \\\"civil rights pioneer and activist\\\",\\n    \\\"Trotskyist activist and Civil War\\\",\\n    \\\"political activist and campaigner\\\",\\n    \\\"attorney and LGBT rights activist\\\",\\n    \\\"political activist and dissident\\\",\\n    \\\"and nuclear disarmament activist\\\",\\n    \\\"barrister and political activist\\\",\\n    \\\"Indigenous women rights activist\\\",\\n    \\\"Native and women rights activist\\\",\\n    \\\"anti role playing games activist\\\",\\n    \\\"medical cannabis rights activist\\\",\\n    \\\"activist and gay rights advocate\\\",\\n    \\\"communist and political activist\\\",\\n    \\\"political activist and life peer\\\",\\n    \\\"childhood immunizations activist\\\",\\n    \\\"Trotskyist and anti war activist\\\",\\n    \\\"conservative political activist\\\",\\n    \\\"and anti death penalty activist\\\",\\n    \\\"peace and anti nuclear activist\\\",\\n    \\\"activist and ATSIC commissioner\\\",\\n    \\\"religious and cultural activist\\\",\\n    \\\"Equal Rights Amendment activist\\\",\\n    \\\"communist and activist of birth\\\",\\n    \\\"The anti apartheid and activist\\\",\\n    \\\"secularist and atheist activist\\\",\\n    \\\"and transgender rights activist\\\",\\n    \\\"peace and human rights activist\\\",\\n    \\\"activist and political prisoner\\\",\\n    \\\"feminist and political activist\\\",\\n    \\\"women rights and peace activist\\\",\\n    \\\"activist in the peace movement\\\",\\n    \\\"and disability rights activist\\\",\\n    \\\"indigenous rights activist and\\\",\\n    \\\"AIDS and tuberculosis activist\\\",\\n    \\\"Communist Party labor activist\\\",\\n    \\\"independence movement activist\\\",\\n    \\\"nationalist political activist\\\",\\n    \\\"independence activist for West\\\",\\n    \\\"activist for Jewish and causes\\\",\\n    \\\"environmentalist and activist\\\",\\n    \\\"comfort women rights activist\\\",\\n    \\\"student and anti war activist\\\",\\n    \\\"activist and environmentalist\\\",\\n    \\\"social and political activist\\\",\\n    \\\"and early gay rights activist\\\",\\n    \\\"activist for human rights and\\\",\\n    \\\"and Jewish community activist\\\",\\n    \\\"and anti pornography activist\\\",\\n    \\\"activist for assisted suicide\\\",\\n    \\\"Hawaii sovereign activist and\\\",\\n    \\\"activist and political figure\\\",\\n    \\\"anti nuclear weapons activist\\\",\\n    \\\"political and social activist\\\",\\n    \\\"social activist and feminist\\\",\\n    \\\"reproductive health activist\\\",\\n    \\\"left wing political activist\\\",\\n    \\\"counter culture activist and\\\",\\n    \\\"and family planning activist\\\",\\n    \\\"socialist and peace activist\\\",\\n    \\\"and ex gay movement activist\\\",\\n    \\\"children television activist\\\",\\n    \\\"anti apartheid activist and\\\",\\n    \\\"and anti apartheid activist\\\",\\n    \\\"anti nuclear power activist\\\",\\n    \\\"anti communist activist and\\\",\\n    \\\"feminist and peace activist\\\",\\n    \\\"community activist and head\\\",\\n    \\\"and pro euthanasia activist\\\",\\n    \\\"and sustainability activist\\\",\\n    \\\"housing rights activist and\\\",\\n    \\\"natural childbirth activist\\\",\\n    \\\"and anti communism activist\\\",\\n    \\\"Kashmir separatism activist\\\",\\n    \\\"trade unionist and activist\\\",\\n    \\\"transgender rights activist\\\",\\n    \\\"anti death penalty activist\\\",\\n    \\\"and tribal rights activist\\\",\\n    \\\"pro establishment activist\\\",\\n    \\\"cannabis and LGBT activist\\\",\\n    \\\"Anishinaabe water activist\\\",\\n    \\\"and anti abortion activist\\\",\\n    \\\"environmental activist and\\\",\\n    \\\"sex worker rights activist\\\",\\n    \\\"anti White Terror activist\\\",\\n    \\\"language movement activist\\\",\\n    \\\"and prison reform activist\\\",\\n    \\\"Takelma elder and activist\\\",\\n    \\\"Indigenous social activist\\\",\\n    \\\"and environmental activist\\\",\\n    \\\"revolutionist and activist\\\",\\n    \\\"and Romani people activist\\\",\\n    \\\"Kwakwaka'wakw activist and\\\",\\n    \\\"indigenous rights activist\\\",\\n    \\\"disability rights activist\\\",\\n    \\\"activist and film subject\\\",\\n    \\\"and civil rights activist\\\",\\n    \\\"Civil Rights activist and\\\",\\n    \\\"activist for independence\\\",\\n    \\\"and independence activist\\\",\\n    \\\"gay rights legal activist\\\",\\n    \\\"and women rights activist\\\",\\n    \\\"and anti nuclear activist\\\",\\n    \\\"independence activist and\\\",\\n    \\\"conservative activist and\\\",\\n    \\\"and human rights activist\\\",\\n    \\\"and trans rights activist\\\",\\n    \\\"exiled political activist\\\",\\n    \\\"and transvestite activist\\\",\\n    \\\"turned political activist\\\",\\n    \\\"football fan and activist\\\",\\n    \\\"anti immigration activist\\\",\\n    \\\"human rights activist and\\\",\\n    \\\"anti pornography activist\\\",\\n    \\\"assisted suicide activist\\\",\\n    \\\"civil rights activist and\\\",\\n    \\\"abortion rights activist\\\",\\n    \\\"and LGBT rights activist\\\",\\n    \\\"anti government activist\\\",\\n    \\\"LGBT rights activist and\\\",\\n    \\\"palliative care activist\\\",\\n    \\\"civil liberties activist\\\",\\n    \\\"anti psychiatry activist\\\",\\n    \\\"disabled rights activist\\\",\\n    \\\"bisexual rights activist\\\",\\n    \\\"and trade union activist\\\",\\n    \\\"children rights activist\\\",\\n    \\\"workers' rights activist\\\",\\n    \\\"transgender activist and\\\",\\n    \\\"consumer rights activist\\\",\\n    \\\"social justice activist\\\",\\n    \\\"and gun rights activist\\\",\\n    \\\"white supremacy activist\\\",\\n    \\\"life extension activist\\\",\\n    \\\"anti communist activist\\\",\\n    \\\"sexual freedom activist\\\",\\n    \\\"welfare rights activist\\\",\\n    \\\"and gay rights activist\\\",\\n    \\\"anti abortion activist;\\\",\\n    \\\"East political activist\\\",\\n    \\\"anti polygraph activist\\\",\\n    \\\"and men rights activist\\\",\\n    \\\"animal welfare activist\\\",\\n    \\\"justice reform activist\\\",\\n    \\\"anti Communist activist\\\",\\n    \\\"anti Apartheid activist\\\",\\n    \\\"anti apartheid activist\\\",\\n    \\\"animal rights activist\\\",\\n    \\\"Native rights activist\\\",\\n    \\\"pro communist activist\\\",\\n    \\\"anti drug activist and\\\",\\n    \\\"victim rights activist\\\",\\n    \\\"and HIV AIDS activists\\\",\\n    \\\"Navajo Nation activist\\\",\\n    \\\"community activist and\\\",\\n    \\\"labour rights activist\\\",\\n    \\\"birth control activist\\\",\\n    \\\"political activist and\\\",\\n    \\\"and political activist\\\",\\n    \\\"Neo political activist\\\",\\n    \\\"native people activist\\\",\\n    \\\"dissident and activist\\\",\\n    \\\"activist and communist\\\",\\n    \\\"Communist activist and\\\",\\n    \\\"voting rights activist\\\",\\n    \\\"and communist activist\\\",\\n    \\\"Burkinab\\u00e8 activist and\\\",\\n    \\\"desegregation activist\\\",\\n    \\\"and paralysis activist\\\",\\n    \\\"native rights activist\\\",\\n    \\\"pro democracy activist\\\",\\n    \\\"communist activist and\\\",\\n    \\\"mental health activist\\\",\\n    \\\"anti abortion activist\\\",\\n    \\\"environmental activist\\\",\\n    \\\"anti nuclear activist\\\",\\n    \\\"right to die activist\\\",\\n    \\\"feminist and activist\\\",\\n    \\\"anti smoking activist\\\",\\n    \\\"anti fascist activist\\\",\\n    \\\"arms control activist\\\",\\n    \\\"conservative activist\\\",\\n    \\\"attorney and activist\\\",\\n    \\\"and maritime activist\\\",\\n    \\\"and anti war activist\\\",\\n    \\\"civil rights activist\\\",\\n    \\\"Raja freedom activist\\\",\\n    \\\"women rights activist\\\",\\n    \\\"political activist in\\\",\\n    \\\"Ogala Lakota activist\\\",\\n    \\\"M\\u0101ori rights activist\\\",\\n    \\\"conservation activist\\\",\\n    \\\"prostitution activist\\\",\\n    \\\"and internet activist\\\",\\n    \\\"women health activist\\\",\\n    \\\"open housing activist\\\",\\n    \\\"anti tobacco activist\\\",\\n    \\\"anti logging activist\\\",\\n    \\\"and pro life activist\\\",\\n    \\\"and anti gay activist\\\",\\n    \\\"activist and feminist\\\",\\n    \\\"anti poverty activist\\\",\\n    \\\"independence activist\\\",\\n    \\\"human rights activist\\\",\\n    \\\"civil right activist\\\",\\n    \\\"and antiwar activist\\\",\\n    \\\"land rights activist\\\",\\n    \\\"drug policy activist\\\",\\n    \\\"Sikh rights activist\\\",\\n    \\\"nationalist activist\\\",\\n    \\\"trade union activist\\\",\\n    \\\"transgender activist\\\",\\n    \\\"LGBT rights activist\\\",\\n    \\\"disability activist\\\",\\n    \\\"social activist and\\\",\\n    \\\"and social activist\\\",\\n    \\\"Trotskyist activist\\\",\\n    \\\"republican activist\\\",\\n    \\\"euthanasia activist\\\",\\n    \\\"Indigenous activist\\\",\\n    \\\"anti junta activist\\\",\\n    \\\"neofascist activist\\\",\\n    \\\"ti Kremlin activist\\\",\\n    \\\"aboriginal activist\\\",\\n    \\\"vegetarian activist\\\",\\n    \\\"healthcare activist\\\",\\n    \\\"indigenous activist\\\",\\n    \\\"gay rights activist\\\",\\n    \\\"community activist\\\",\\n    \\\"communist activist\\\",\\n    \\\"rap music activist\\\",\\n    \\\"Winnebago activist\\\",\\n    \\\"Sioux activist and\\\",\\n    \\\"and civic activist\\\",\\n    \\\"women activist and\\\",\\n    \\\"and peace activist\\\",\\n    \\\"religious activist\\\",\\n    \\\"far right activist\\\",\\n    \\\"'AIDS activist and\\\",\\n    \\\"political activist\\\",\\n    \\\"and labor activist\\\",\\n    \\\"socialist activist\\\",\\n    \\\"democracy activist\\\",\\n    \\\"cultural activist\\\",\\n    \\\"HIV AIDS activist\\\",\\n    \\\"and Roma activist\\\",\\n    \\\"and BDSM activist\\\",\\n    \\\"anti gun activist\\\",\\n    \\\"and AIDS activist\\\",\\n    \\\"Native s activist\\\",\\n    \\\"cannabis activist\\\",\\n    \\\"Zainichi activist\\\",\\n    \\\"peace activist in\\\",\\n    \\\"anti War activist\\\",\\n    \\\"anti gay activist\\\",\\n    \\\"loyalist activist\\\",\\n    \\\"equality activist\\\",\\n    \\\"pro life activist\\\",\\n    \\\"homeless activist\\\",\\n    \\\"language activist\\\",\\n    \\\"anti war activist\\\",\\n    \\\"feminist activist\\\",\\n    \\\"Chicano activist\\\",\\n    \\\"and gay activist\\\",\\n    \\\"lesbian activist\\\",\\n    \\\"Native  activist\\\",\\n    \\\"POW MIA activist\\\",\\n    \\\"JDL activist and\\\",\\n    \\\"zionist activist\\\",\\n    \\\"and HIV activist\\\",\\n    \\\"cycling activist\\\",\\n    \\\"Zionist activist\\\",\\n    \\\"student activist\\\",\\n    \\\"antiwar activist\\\",\\n    \\\"Navajo activist\\\",\\n    \\\"albino activist\\\",\\n    \\\"Maoist activist\\\",\\n    \\\"Romani activist\\\",\\n    \\\"Native activist\\\",\\n    \\\"health activist\\\",\\n    \\\"cancer activist\\\",\\n    \\\"Jewish activist\\\",\\n    \\\"rights activist\\\",\\n    \\\"social activist\\\",\\n    \\\"media activist\\\",\\n    \\\"NAACP activist\\\",\\n    \\\"urban activist\\\",\\n    \\\"Dalit activist\\\",\\n    \\\"peace activist\\\",\\n    \\\"union activist\\\",\\n    \\\"Tatar activist\\\",\\n    \\\"women activist\\\",\\n    \\\"LGBTQ activist\\\",\\n    \\\"labor activist\\\",\\n    \\\"anti activist\\\",\\n    \\\"food activist\\\",\\n    \\\"BDSM activist\\\",\\n    \\\"AIDS activist\\\",\\n    \\\"LGBT activist\\\",\\n    \\\"HIV activist\\\",\\n    \\\"gay activist\\\",\\n    \\\"Pan activist\\\",\\n    \\\"activist and\\\",\\n    \\\"and activist\\\",\\n    \\\"PEN activist\\\",\\n    \\\"activist\\\",\\n]\\n\\narts = [\\n    \\\"feminist activist and cultural\\\",  # before politics_govt_law\\n    \\\"Internet vlogger\\\",\\n    \\\"vlogger\\\",\\n]\\nsports = []\\nsciences = []\\n\\nbusiness_farming = []\\nacademia_humanities = []\\nlaw_enf_military_operator = [\\n    \\\"PIRA volunteer\\\",\\n    \\\"who fought in the Civil War\\\",\\n    \\\"member of The Weatherman\\\",\\n    \\\"resistance activist\\\",  # before politics_govt_law\\n]\\nspiritual = [\\n    \\\"anti Catholic religious activist\\\",  # before politics_govt_law\\n    \\\"and church activist\\\",\\n    \\\"evangelical Christian activist\\\",\\n]\\nsocial = [\\n    \\\"Director of Action Aid\\\",  # before politics_govt_law\\n    \\\"youth activist and Order of recipient\\\",\\n    \\\"National Treasure\\\",\\n    \\\"cancer research activist\\\",\\n    \\\"AIDS and nutrition activist\\\",\\n    \\\"amyotrophic lateral sclerosis activist\\\",\\n    \\\"leader and social activist\\\",\\n    \\\"and community activist\\\",\\n    \\\"literacy activist\\\",\\n    \\\"and anti suicide activist\\\",\\n]\\ncrime = [\\n    \\\"aircraft hijacker\\\",\\n    \\\"convicted bomber\\\",\\n    \\\"convicted bank robber\\\",\\n]\\nevent_record_other = [\\n    \\\"kidnapping victim\\\",\\n    \\\"neo victim\\\",\\n]\\nother_species = []\";\n",
       "                var nbb_formatted_code = \"# Creating lists for each category\\npolitics_govt_law = [\\n    \\\"civil rights activist and member of the Citizens' Commission to Investigate the FBI\\\"\\n    \\\"World War II conscientious objector and peace activist with War Resisters League\\\",\\n    \\\"of Birmingham and environmental activist with Friends of the Earth\\\",\\n    \\\"UNDP human rights activist and Amnesty International board member\\\",\\n    \\\"civil rights activist and Socialist candidate for President in\\\",\\n    \\\"labor union activist and President of the United Auto Workers\\\",\\n    \\\"former Ku Klux Klan member turned civil rights activist\\\",\\n    \\\"political activist and opposition leader in Ingushetia\\\",\\n    \\\"esthesioneuroblastoma sufferer and euthanasia activist\\\",\\n    \\\"political activist and Philadelphia City Councilwoman\\\",\\n    \\\"and co founder of the Crips turned anti gang activist\\\",\\n    \\\"elephant conservationist and anti poaching activist\\\",\\n    \\\"exonerated prisoner and anti death penalty activist\\\",\\n    \\\"Western Shoshone leader and environmental activist\\\",\\n    \\\"activist and founder of the Gray Panthers movement\\\",\\n    \\\"gay rights activist and Mattachine Society founder\\\",\\n    \\\"activist and advocate for people with disabilities\\\",\\n    \\\"internment camp detainee and civil rights activist\\\",\\n    \\\"activist and leader of the Communist Party of the\\\",\\n    \\\"activist and first wife of president V\\u00e1clav Havel\\\",\\n    \\\"activist and Berkeley Free Speech Movement member\\\",\\n    \\\"human rights activist in the fields of gay women\\\",\\n    \\\"human rights activist in Chechnya and Ingushetia\\\",\\n    \\\"political activist; former wife of Charles Vidor\\\",\\n    \\\"political activist and daughter of Ronald Reagan\\\",\\n    \\\"Western Shoshone indigenous rights activist and\\\",\\n    \\\"and jailed Tiananmen Square democracy activist\\\",\\n    \\\"environmentalist and anti consumerism activist\\\",\\n    \\\"revolutionary figure and women rights activist\\\",\\n    \\\"anti apartheid activist and political prisoner\\\",\\n    \\\"human rights activist and political dissident\\\",\\n    \\\"pro democracy activist and political prisoner\\\",\\n    \\\"environmental and indigenous affairs activist\\\",\\n    \\\"political activist and trades union official\\\",\\n    \\\"Prime Minister of and human rights activist\\\",\\n    \\\"pro choice activist and co founder of NARAL\\\",\\n    \\\"radical feminist  anti pornography activist\\\",\\n    \\\"trade unionist and M\\u0101ori language activist\\\",\\n    \\\"human rights activist and environmentalist\\\",\\n    \\\"ex Black Panthers and anti police activist\\\",\\n    \\\"atomic bomb survivor and anti war activist\\\",\\n    \\\"International Solidarity Movement activist\\\",\\n    \\\"Indigenous human and women rights activist\\\",\\n    \\\"trade unionist and environmental activist\\\",\\n    \\\"Cree elder and indigenous rights activist\\\",\\n    \\\"gay rights activist and founder of J Flag\\\",\\n    \\\"civil rights and civil liberties activist\\\",\\n    \\\"anti apartheid activist and civil servant\\\",\\n    \\\"union organizer and women rights activist\\\",\\n    \\\"white civil rights activist and lobbyist\\\",\\n    \\\"human rights activist and hunger striker\\\",\\n    \\\"equality and alternative energy activist\\\",\\n    \\\"Nisqually tribal fishing rights activist\\\",\\n    \\\"gay liberation and transgender activist\\\",\\n    \\\"attorney and disability rights activist\\\",\\n    \\\"aboriginal activist and Wiradjuri elder\\\",\\n    \\\"environmentalist and anti war activist\\\",\\n    \\\"anti apartheid and gay rights activist\\\",\\n    \\\"conservationist and political activist\\\",\\n    \\\"loyalist activist and victims advocate\\\",\\n    \\\"political lobbyist and Jewish activist\\\",\\n    \\\"trade unionist and political activist\\\",\\n    \\\"women rights and LGBT rights activist\\\",\\n    \\\"civic and voter registration activist\\\",\\n    \\\"gay rights pioneer and peace activist\\\",\\n    \\\"political activist and public servant\\\",\\n    \\\"social activist and community leader\\\",\\n    \\\"neo P\\u00e9tainist and political activist\\\",\\n    \\\"anarchist and Romani rights activist\\\",\\n    \\\"Congresswoman; women rights activist\\\",\\n    \\\"legislative aide and Jewish activist\\\",\\n    \\\"women rights activist and sex worker\\\",\\n    \\\"extreme right activist and Wehrmacht\\\",\\n    \\\"anti apartheid and intersex activist\\\",\\n    \\\"M\\u0101ori language activist and unionist\\\",\\n    \\\"Cahuilla tribal leader and activist\\\",\\n    \\\"President of Fish & Game Commission\\\",\\n    \\\"Kootenai tribal leader and activist\\\",\\n    \\\"dissident and human rights activist\\\",\\n    \\\"worker and consumer rights activist\\\",\\n    \\\"community and human rights activist\\\",\\n    \\\"barrister and human rights activist\\\",\\n    \\\"human rights and democracy activist\\\",\\n    \\\"attorney and civil rights activist\\\",\\n    \\\"political activist and syndicalist\\\",\\n    \\\"Gandhian and anti alcohol activist\\\",\\n    \\\"anti caste discrimination activist\\\",\\n    \\\"New activist for West independence\\\",\\n    \\\"human rights activist and attorney\\\",\\n    \\\"anti apartheid activist and member\\\",\\n    \\\"civil rights activist and attorney\\\",\\n    \\\"civil rights activist and feminist\\\",\\n    \\\"M\\u0101ori activist and public servant\\\",\\n    \\\"republican political activist and\\\",\\n    \\\"healthcare activist and political\\\",\\n    \\\"activist and wife of Oliver Tambo\\\",\\n    \\\"anti communist political activist\\\",\\n    \\\"civil rights and freedom activist\\\",\\n    \\\"civil rights pioneer and activist\\\",\\n    \\\"Trotskyist activist and Civil War\\\",\\n    \\\"political activist and campaigner\\\",\\n    \\\"attorney and LGBT rights activist\\\",\\n    \\\"political activist and dissident\\\",\\n    \\\"and nuclear disarmament activist\\\",\\n    \\\"barrister and political activist\\\",\\n    \\\"Indigenous women rights activist\\\",\\n    \\\"Native and women rights activist\\\",\\n    \\\"anti role playing games activist\\\",\\n    \\\"medical cannabis rights activist\\\",\\n    \\\"activist and gay rights advocate\\\",\\n    \\\"communist and political activist\\\",\\n    \\\"political activist and life peer\\\",\\n    \\\"childhood immunizations activist\\\",\\n    \\\"Trotskyist and anti war activist\\\",\\n    \\\"conservative political activist\\\",\\n    \\\"and anti death penalty activist\\\",\\n    \\\"peace and anti nuclear activist\\\",\\n    \\\"activist and ATSIC commissioner\\\",\\n    \\\"religious and cultural activist\\\",\\n    \\\"Equal Rights Amendment activist\\\",\\n    \\\"communist and activist of birth\\\",\\n    \\\"The anti apartheid and activist\\\",\\n    \\\"secularist and atheist activist\\\",\\n    \\\"and transgender rights activist\\\",\\n    \\\"peace and human rights activist\\\",\\n    \\\"activist and political prisoner\\\",\\n    \\\"feminist and political activist\\\",\\n    \\\"women rights and peace activist\\\",\\n    \\\"activist in the peace movement\\\",\\n    \\\"and disability rights activist\\\",\\n    \\\"indigenous rights activist and\\\",\\n    \\\"AIDS and tuberculosis activist\\\",\\n    \\\"Communist Party labor activist\\\",\\n    \\\"independence movement activist\\\",\\n    \\\"nationalist political activist\\\",\\n    \\\"independence activist for West\\\",\\n    \\\"activist for Jewish and causes\\\",\\n    \\\"environmentalist and activist\\\",\\n    \\\"comfort women rights activist\\\",\\n    \\\"student and anti war activist\\\",\\n    \\\"activist and environmentalist\\\",\\n    \\\"social and political activist\\\",\\n    \\\"and early gay rights activist\\\",\\n    \\\"activist for human rights and\\\",\\n    \\\"and Jewish community activist\\\",\\n    \\\"and anti pornography activist\\\",\\n    \\\"activist for assisted suicide\\\",\\n    \\\"Hawaii sovereign activist and\\\",\\n    \\\"activist and political figure\\\",\\n    \\\"anti nuclear weapons activist\\\",\\n    \\\"political and social activist\\\",\\n    \\\"social activist and feminist\\\",\\n    \\\"reproductive health activist\\\",\\n    \\\"left wing political activist\\\",\\n    \\\"counter culture activist and\\\",\\n    \\\"and family planning activist\\\",\\n    \\\"socialist and peace activist\\\",\\n    \\\"and ex gay movement activist\\\",\\n    \\\"children television activist\\\",\\n    \\\"anti apartheid activist and\\\",\\n    \\\"and anti apartheid activist\\\",\\n    \\\"anti nuclear power activist\\\",\\n    \\\"anti communist activist and\\\",\\n    \\\"feminist and peace activist\\\",\\n    \\\"community activist and head\\\",\\n    \\\"and pro euthanasia activist\\\",\\n    \\\"and sustainability activist\\\",\\n    \\\"housing rights activist and\\\",\\n    \\\"natural childbirth activist\\\",\\n    \\\"and anti communism activist\\\",\\n    \\\"Kashmir separatism activist\\\",\\n    \\\"trade unionist and activist\\\",\\n    \\\"transgender rights activist\\\",\\n    \\\"anti death penalty activist\\\",\\n    \\\"and tribal rights activist\\\",\\n    \\\"pro establishment activist\\\",\\n    \\\"cannabis and LGBT activist\\\",\\n    \\\"Anishinaabe water activist\\\",\\n    \\\"and anti abortion activist\\\",\\n    \\\"environmental activist and\\\",\\n    \\\"sex worker rights activist\\\",\\n    \\\"anti White Terror activist\\\",\\n    \\\"language movement activist\\\",\\n    \\\"and prison reform activist\\\",\\n    \\\"Takelma elder and activist\\\",\\n    \\\"Indigenous social activist\\\",\\n    \\\"and environmental activist\\\",\\n    \\\"revolutionist and activist\\\",\\n    \\\"and Romani people activist\\\",\\n    \\\"Kwakwaka'wakw activist and\\\",\\n    \\\"indigenous rights activist\\\",\\n    \\\"disability rights activist\\\",\\n    \\\"activist and film subject\\\",\\n    \\\"and civil rights activist\\\",\\n    \\\"Civil Rights activist and\\\",\\n    \\\"activist for independence\\\",\\n    \\\"and independence activist\\\",\\n    \\\"gay rights legal activist\\\",\\n    \\\"and women rights activist\\\",\\n    \\\"and anti nuclear activist\\\",\\n    \\\"independence activist and\\\",\\n    \\\"conservative activist and\\\",\\n    \\\"and human rights activist\\\",\\n    \\\"and trans rights activist\\\",\\n    \\\"exiled political activist\\\",\\n    \\\"and transvestite activist\\\",\\n    \\\"turned political activist\\\",\\n    \\\"football fan and activist\\\",\\n    \\\"anti immigration activist\\\",\\n    \\\"human rights activist and\\\",\\n    \\\"anti pornography activist\\\",\\n    \\\"assisted suicide activist\\\",\\n    \\\"civil rights activist and\\\",\\n    \\\"abortion rights activist\\\",\\n    \\\"and LGBT rights activist\\\",\\n    \\\"anti government activist\\\",\\n    \\\"LGBT rights activist and\\\",\\n    \\\"palliative care activist\\\",\\n    \\\"civil liberties activist\\\",\\n    \\\"anti psychiatry activist\\\",\\n    \\\"disabled rights activist\\\",\\n    \\\"bisexual rights activist\\\",\\n    \\\"and trade union activist\\\",\\n    \\\"children rights activist\\\",\\n    \\\"workers' rights activist\\\",\\n    \\\"transgender activist and\\\",\\n    \\\"consumer rights activist\\\",\\n    \\\"social justice activist\\\",\\n    \\\"and gun rights activist\\\",\\n    \\\"white supremacy activist\\\",\\n    \\\"life extension activist\\\",\\n    \\\"anti communist activist\\\",\\n    \\\"sexual freedom activist\\\",\\n    \\\"welfare rights activist\\\",\\n    \\\"and gay rights activist\\\",\\n    \\\"anti abortion activist;\\\",\\n    \\\"East political activist\\\",\\n    \\\"anti polygraph activist\\\",\\n    \\\"and men rights activist\\\",\\n    \\\"animal welfare activist\\\",\\n    \\\"justice reform activist\\\",\\n    \\\"anti Communist activist\\\",\\n    \\\"anti Apartheid activist\\\",\\n    \\\"anti apartheid activist\\\",\\n    \\\"animal rights activist\\\",\\n    \\\"Native rights activist\\\",\\n    \\\"pro communist activist\\\",\\n    \\\"anti drug activist and\\\",\\n    \\\"victim rights activist\\\",\\n    \\\"and HIV AIDS activists\\\",\\n    \\\"Navajo Nation activist\\\",\\n    \\\"community activist and\\\",\\n    \\\"labour rights activist\\\",\\n    \\\"birth control activist\\\",\\n    \\\"political activist and\\\",\\n    \\\"and political activist\\\",\\n    \\\"Neo political activist\\\",\\n    \\\"native people activist\\\",\\n    \\\"dissident and activist\\\",\\n    \\\"activist and communist\\\",\\n    \\\"Communist activist and\\\",\\n    \\\"voting rights activist\\\",\\n    \\\"and communist activist\\\",\\n    \\\"Burkinab\\u00e8 activist and\\\",\\n    \\\"desegregation activist\\\",\\n    \\\"and paralysis activist\\\",\\n    \\\"native rights activist\\\",\\n    \\\"pro democracy activist\\\",\\n    \\\"communist activist and\\\",\\n    \\\"mental health activist\\\",\\n    \\\"anti abortion activist\\\",\\n    \\\"environmental activist\\\",\\n    \\\"anti nuclear activist\\\",\\n    \\\"right to die activist\\\",\\n    \\\"feminist and activist\\\",\\n    \\\"anti smoking activist\\\",\\n    \\\"anti fascist activist\\\",\\n    \\\"arms control activist\\\",\\n    \\\"conservative activist\\\",\\n    \\\"attorney and activist\\\",\\n    \\\"and maritime activist\\\",\\n    \\\"and anti war activist\\\",\\n    \\\"civil rights activist\\\",\\n    \\\"Raja freedom activist\\\",\\n    \\\"women rights activist\\\",\\n    \\\"political activist in\\\",\\n    \\\"Ogala Lakota activist\\\",\\n    \\\"M\\u0101ori rights activist\\\",\\n    \\\"conservation activist\\\",\\n    \\\"prostitution activist\\\",\\n    \\\"and internet activist\\\",\\n    \\\"women health activist\\\",\\n    \\\"open housing activist\\\",\\n    \\\"anti tobacco activist\\\",\\n    \\\"anti logging activist\\\",\\n    \\\"and pro life activist\\\",\\n    \\\"and anti gay activist\\\",\\n    \\\"activist and feminist\\\",\\n    \\\"anti poverty activist\\\",\\n    \\\"independence activist\\\",\\n    \\\"human rights activist\\\",\\n    \\\"civil right activist\\\",\\n    \\\"and antiwar activist\\\",\\n    \\\"land rights activist\\\",\\n    \\\"drug policy activist\\\",\\n    \\\"Sikh rights activist\\\",\\n    \\\"nationalist activist\\\",\\n    \\\"trade union activist\\\",\\n    \\\"transgender activist\\\",\\n    \\\"LGBT rights activist\\\",\\n    \\\"disability activist\\\",\\n    \\\"social activist and\\\",\\n    \\\"and social activist\\\",\\n    \\\"Trotskyist activist\\\",\\n    \\\"republican activist\\\",\\n    \\\"euthanasia activist\\\",\\n    \\\"Indigenous activist\\\",\\n    \\\"anti junta activist\\\",\\n    \\\"neofascist activist\\\",\\n    \\\"ti Kremlin activist\\\",\\n    \\\"aboriginal activist\\\",\\n    \\\"vegetarian activist\\\",\\n    \\\"healthcare activist\\\",\\n    \\\"indigenous activist\\\",\\n    \\\"gay rights activist\\\",\\n    \\\"community activist\\\",\\n    \\\"communist activist\\\",\\n    \\\"rap music activist\\\",\\n    \\\"Winnebago activist\\\",\\n    \\\"Sioux activist and\\\",\\n    \\\"and civic activist\\\",\\n    \\\"women activist and\\\",\\n    \\\"and peace activist\\\",\\n    \\\"religious activist\\\",\\n    \\\"far right activist\\\",\\n    \\\"'AIDS activist and\\\",\\n    \\\"political activist\\\",\\n    \\\"and labor activist\\\",\\n    \\\"socialist activist\\\",\\n    \\\"democracy activist\\\",\\n    \\\"cultural activist\\\",\\n    \\\"HIV AIDS activist\\\",\\n    \\\"and Roma activist\\\",\\n    \\\"and BDSM activist\\\",\\n    \\\"anti gun activist\\\",\\n    \\\"and AIDS activist\\\",\\n    \\\"Native s activist\\\",\\n    \\\"cannabis activist\\\",\\n    \\\"Zainichi activist\\\",\\n    \\\"peace activist in\\\",\\n    \\\"anti War activist\\\",\\n    \\\"anti gay activist\\\",\\n    \\\"loyalist activist\\\",\\n    \\\"equality activist\\\",\\n    \\\"pro life activist\\\",\\n    \\\"homeless activist\\\",\\n    \\\"language activist\\\",\\n    \\\"anti war activist\\\",\\n    \\\"feminist activist\\\",\\n    \\\"Chicano activist\\\",\\n    \\\"and gay activist\\\",\\n    \\\"lesbian activist\\\",\\n    \\\"Native  activist\\\",\\n    \\\"POW MIA activist\\\",\\n    \\\"JDL activist and\\\",\\n    \\\"zionist activist\\\",\\n    \\\"and HIV activist\\\",\\n    \\\"cycling activist\\\",\\n    \\\"Zionist activist\\\",\\n    \\\"student activist\\\",\\n    \\\"antiwar activist\\\",\\n    \\\"Navajo activist\\\",\\n    \\\"albino activist\\\",\\n    \\\"Maoist activist\\\",\\n    \\\"Romani activist\\\",\\n    \\\"Native activist\\\",\\n    \\\"health activist\\\",\\n    \\\"cancer activist\\\",\\n    \\\"Jewish activist\\\",\\n    \\\"rights activist\\\",\\n    \\\"social activist\\\",\\n    \\\"media activist\\\",\\n    \\\"NAACP activist\\\",\\n    \\\"urban activist\\\",\\n    \\\"Dalit activist\\\",\\n    \\\"peace activist\\\",\\n    \\\"union activist\\\",\\n    \\\"Tatar activist\\\",\\n    \\\"women activist\\\",\\n    \\\"LGBTQ activist\\\",\\n    \\\"labor activist\\\",\\n    \\\"anti activist\\\",\\n    \\\"food activist\\\",\\n    \\\"BDSM activist\\\",\\n    \\\"AIDS activist\\\",\\n    \\\"LGBT activist\\\",\\n    \\\"HIV activist\\\",\\n    \\\"gay activist\\\",\\n    \\\"Pan activist\\\",\\n    \\\"activist and\\\",\\n    \\\"and activist\\\",\\n    \\\"PEN activist\\\",\\n    \\\"activist\\\",\\n]\\n\\narts = [\\n    \\\"feminist activist and cultural\\\",  # before politics_govt_law\\n    \\\"Internet vlogger\\\",\\n    \\\"vlogger\\\",\\n]\\nsports = []\\nsciences = []\\n\\nbusiness_farming = []\\nacademia_humanities = []\\nlaw_enf_military_operator = [\\n    \\\"PIRA volunteer\\\",\\n    \\\"who fought in the Civil War\\\",\\n    \\\"member of The Weatherman\\\",\\n    \\\"resistance activist\\\",  # before politics_govt_law\\n]\\nspiritual = [\\n    \\\"anti Catholic religious activist\\\",  # before politics_govt_law\\n    \\\"and church activist\\\",\\n    \\\"evangelical Christian activist\\\",\\n]\\nsocial = [\\n    \\\"Director of Action Aid\\\",  # before politics_govt_law\\n    \\\"youth activist and Order of recipient\\\",\\n    \\\"National Treasure\\\",\\n    \\\"cancer research activist\\\",\\n    \\\"AIDS and nutrition activist\\\",\\n    \\\"amyotrophic lateral sclerosis activist\\\",\\n    \\\"leader and social activist\\\",\\n    \\\"and community activist\\\",\\n    \\\"literacy activist\\\",\\n    \\\"and anti suicide activist\\\",\\n]\\ncrime = [\\n    \\\"aircraft hijacker\\\",\\n    \\\"convicted bomber\\\",\\n    \\\"convicted bank robber\\\",\\n]\\nevent_record_other = [\\n    \\\"kidnapping victim\\\",\\n    \\\"neo victim\\\",\\n]\\nother_species = []\";\n",
       "                var nbb_cells = Jupyter.notebook.get_cells();\n",
       "                for (var i = 0; i < nbb_cells.length; ++i) {\n",
       "                    if (nbb_cells[i].input_prompt_number == nbb_cell_id) {\n",
       "                        if (nbb_cells[i].get_text() == nbb_unformatted_code) {\n",
       "                             nbb_cells[i].set_text(nbb_formatted_code);\n",
       "                        }\n",
       "                        break;\n",
       "                    }\n",
       "                }\n",
       "            }, 500);\n",
       "            "
      ],
      "text/plain": [
       "<IPython.core.display.Javascript object>"
      ]
     },
     "metadata": {},
     "output_type": "display_data"
    }
   ],
   "source": [
    "# Creating lists for each category\n",
    "politics_govt_law = [\n",
    "    \"civil rights activist and member of the Citizens' Commission to Investigate the FBI\"\n",
    "    \"World War II conscientious objector and peace activist with War Resisters League\",\n",
    "    \"of Birmingham and environmental activist with Friends of the Earth\",\n",
    "    \"UNDP human rights activist and Amnesty International board member\",\n",
    "    \"civil rights activist and Socialist candidate for President in\",\n",
    "    \"labor union activist and President of the United Auto Workers\",\n",
    "    \"former Ku Klux Klan member turned civil rights activist\",\n",
    "    \"political activist and opposition leader in Ingushetia\",\n",
    "    \"esthesioneuroblastoma sufferer and euthanasia activist\",\n",
    "    \"political activist and Philadelphia City Councilwoman\",\n",
    "    \"and co founder of the Crips turned anti gang activist\",\n",
    "    \"elephant conservationist and anti poaching activist\",\n",
    "    \"exonerated prisoner and anti death penalty activist\",\n",
    "    \"Western Shoshone leader and environmental activist\",\n",
    "    \"activist and founder of the Gray Panthers movement\",\n",
    "    \"gay rights activist and Mattachine Society founder\",\n",
    "    \"activist and advocate for people with disabilities\",\n",
    "    \"internment camp detainee and civil rights activist\",\n",
    "    \"activist and leader of the Communist Party of the\",\n",
    "    \"activist and first wife of president Václav Havel\",\n",
    "    \"activist and Berkeley Free Speech Movement member\",\n",
    "    \"human rights activist in the fields of gay women\",\n",
    "    \"human rights activist in Chechnya and Ingushetia\",\n",
    "    \"political activist; former wife of Charles Vidor\",\n",
    "    \"political activist and daughter of Ronald Reagan\",\n",
    "    \"Western Shoshone indigenous rights activist and\",\n",
    "    \"and jailed Tiananmen Square democracy activist\",\n",
    "    \"environmentalist and anti consumerism activist\",\n",
    "    \"revolutionary figure and women rights activist\",\n",
    "    \"anti apartheid activist and political prisoner\",\n",
    "    \"human rights activist and political dissident\",\n",
    "    \"pro democracy activist and political prisoner\",\n",
    "    \"environmental and indigenous affairs activist\",\n",
    "    \"political activist and trades union official\",\n",
    "    \"Prime Minister of and human rights activist\",\n",
    "    \"pro choice activist and co founder of NARAL\",\n",
    "    \"radical feminist  anti pornography activist\",\n",
    "    \"trade unionist and Māori language activist\",\n",
    "    \"human rights activist and environmentalist\",\n",
    "    \"ex Black Panthers and anti police activist\",\n",
    "    \"atomic bomb survivor and anti war activist\",\n",
    "    \"International Solidarity Movement activist\",\n",
    "    \"Indigenous human and women rights activist\",\n",
    "    \"trade unionist and environmental activist\",\n",
    "    \"Cree elder and indigenous rights activist\",\n",
    "    \"gay rights activist and founder of J Flag\",\n",
    "    \"civil rights and civil liberties activist\",\n",
    "    \"anti apartheid activist and civil servant\",\n",
    "    \"union organizer and women rights activist\",\n",
    "    \"white civil rights activist and lobbyist\",\n",
    "    \"human rights activist and hunger striker\",\n",
    "    \"equality and alternative energy activist\",\n",
    "    \"Nisqually tribal fishing rights activist\",\n",
    "    \"gay liberation and transgender activist\",\n",
    "    \"attorney and disability rights activist\",\n",
    "    \"aboriginal activist and Wiradjuri elder\",\n",
    "    \"environmentalist and anti war activist\",\n",
    "    \"anti apartheid and gay rights activist\",\n",
    "    \"conservationist and political activist\",\n",
    "    \"loyalist activist and victims advocate\",\n",
    "    \"political lobbyist and Jewish activist\",\n",
    "    \"trade unionist and political activist\",\n",
    "    \"women rights and LGBT rights activist\",\n",
    "    \"civic and voter registration activist\",\n",
    "    \"gay rights pioneer and peace activist\",\n",
    "    \"political activist and public servant\",\n",
    "    \"social activist and community leader\",\n",
    "    \"neo Pétainist and political activist\",\n",
    "    \"anarchist and Romani rights activist\",\n",
    "    \"Congresswoman; women rights activist\",\n",
    "    \"legislative aide and Jewish activist\",\n",
    "    \"women rights activist and sex worker\",\n",
    "    \"extreme right activist and Wehrmacht\",\n",
    "    \"anti apartheid and intersex activist\",\n",
    "    \"Māori language activist and unionist\",\n",
    "    \"Cahuilla tribal leader and activist\",\n",
    "    \"President of Fish & Game Commission\",\n",
    "    \"Kootenai tribal leader and activist\",\n",
    "    \"dissident and human rights activist\",\n",
    "    \"worker and consumer rights activist\",\n",
    "    \"community and human rights activist\",\n",
    "    \"barrister and human rights activist\",\n",
    "    \"human rights and democracy activist\",\n",
    "    \"attorney and civil rights activist\",\n",
    "    \"political activist and syndicalist\",\n",
    "    \"Gandhian and anti alcohol activist\",\n",
    "    \"anti caste discrimination activist\",\n",
    "    \"New activist for West independence\",\n",
    "    \"human rights activist and attorney\",\n",
    "    \"anti apartheid activist and member\",\n",
    "    \"civil rights activist and attorney\",\n",
    "    \"civil rights activist and feminist\",\n",
    "    \"Māori activist and public servant\",\n",
    "    \"republican political activist and\",\n",
    "    \"healthcare activist and political\",\n",
    "    \"activist and wife of Oliver Tambo\",\n",
    "    \"anti communist political activist\",\n",
    "    \"civil rights and freedom activist\",\n",
    "    \"civil rights pioneer and activist\",\n",
    "    \"Trotskyist activist and Civil War\",\n",
    "    \"political activist and campaigner\",\n",
    "    \"attorney and LGBT rights activist\",\n",
    "    \"political activist and dissident\",\n",
    "    \"and nuclear disarmament activist\",\n",
    "    \"barrister and political activist\",\n",
    "    \"Indigenous women rights activist\",\n",
    "    \"Native and women rights activist\",\n",
    "    \"anti role playing games activist\",\n",
    "    \"medical cannabis rights activist\",\n",
    "    \"activist and gay rights advocate\",\n",
    "    \"communist and political activist\",\n",
    "    \"political activist and life peer\",\n",
    "    \"childhood immunizations activist\",\n",
    "    \"Trotskyist and anti war activist\",\n",
    "    \"conservative political activist\",\n",
    "    \"and anti death penalty activist\",\n",
    "    \"peace and anti nuclear activist\",\n",
    "    \"activist and ATSIC commissioner\",\n",
    "    \"religious and cultural activist\",\n",
    "    \"Equal Rights Amendment activist\",\n",
    "    \"communist and activist of birth\",\n",
    "    \"The anti apartheid and activist\",\n",
    "    \"secularist and atheist activist\",\n",
    "    \"and transgender rights activist\",\n",
    "    \"peace and human rights activist\",\n",
    "    \"activist and political prisoner\",\n",
    "    \"feminist and political activist\",\n",
    "    \"women rights and peace activist\",\n",
    "    \"activist in the peace movement\",\n",
    "    \"and disability rights activist\",\n",
    "    \"indigenous rights activist and\",\n",
    "    \"AIDS and tuberculosis activist\",\n",
    "    \"Communist Party labor activist\",\n",
    "    \"independence movement activist\",\n",
    "    \"nationalist political activist\",\n",
    "    \"independence activist for West\",\n",
    "    \"activist for Jewish and causes\",\n",
    "    \"environmentalist and activist\",\n",
    "    \"comfort women rights activist\",\n",
    "    \"student and anti war activist\",\n",
    "    \"activist and environmentalist\",\n",
    "    \"social and political activist\",\n",
    "    \"and early gay rights activist\",\n",
    "    \"activist for human rights and\",\n",
    "    \"and Jewish community activist\",\n",
    "    \"and anti pornography activist\",\n",
    "    \"activist for assisted suicide\",\n",
    "    \"Hawaii sovereign activist and\",\n",
    "    \"activist and political figure\",\n",
    "    \"anti nuclear weapons activist\",\n",
    "    \"political and social activist\",\n",
    "    \"social activist and feminist\",\n",
    "    \"reproductive health activist\",\n",
    "    \"left wing political activist\",\n",
    "    \"counter culture activist and\",\n",
    "    \"and family planning activist\",\n",
    "    \"socialist and peace activist\",\n",
    "    \"and ex gay movement activist\",\n",
    "    \"children television activist\",\n",
    "    \"anti apartheid activist and\",\n",
    "    \"and anti apartheid activist\",\n",
    "    \"anti nuclear power activist\",\n",
    "    \"anti communist activist and\",\n",
    "    \"feminist and peace activist\",\n",
    "    \"community activist and head\",\n",
    "    \"and pro euthanasia activist\",\n",
    "    \"and sustainability activist\",\n",
    "    \"housing rights activist and\",\n",
    "    \"natural childbirth activist\",\n",
    "    \"and anti communism activist\",\n",
    "    \"Kashmir separatism activist\",\n",
    "    \"trade unionist and activist\",\n",
    "    \"transgender rights activist\",\n",
    "    \"anti death penalty activist\",\n",
    "    \"and tribal rights activist\",\n",
    "    \"pro establishment activist\",\n",
    "    \"cannabis and LGBT activist\",\n",
    "    \"Anishinaabe water activist\",\n",
    "    \"and anti abortion activist\",\n",
    "    \"environmental activist and\",\n",
    "    \"sex worker rights activist\",\n",
    "    \"anti White Terror activist\",\n",
    "    \"language movement activist\",\n",
    "    \"and prison reform activist\",\n",
    "    \"Takelma elder and activist\",\n",
    "    \"Indigenous social activist\",\n",
    "    \"and environmental activist\",\n",
    "    \"revolutionist and activist\",\n",
    "    \"and Romani people activist\",\n",
    "    \"Kwakwaka'wakw activist and\",\n",
    "    \"indigenous rights activist\",\n",
    "    \"disability rights activist\",\n",
    "    \"activist and film subject\",\n",
    "    \"and civil rights activist\",\n",
    "    \"Civil Rights activist and\",\n",
    "    \"activist for independence\",\n",
    "    \"and independence activist\",\n",
    "    \"gay rights legal activist\",\n",
    "    \"and women rights activist\",\n",
    "    \"and anti nuclear activist\",\n",
    "    \"independence activist and\",\n",
    "    \"conservative activist and\",\n",
    "    \"and human rights activist\",\n",
    "    \"and trans rights activist\",\n",
    "    \"exiled political activist\",\n",
    "    \"and transvestite activist\",\n",
    "    \"turned political activist\",\n",
    "    \"football fan and activist\",\n",
    "    \"anti immigration activist\",\n",
    "    \"human rights activist and\",\n",
    "    \"anti pornography activist\",\n",
    "    \"assisted suicide activist\",\n",
    "    \"civil rights activist and\",\n",
    "    \"abortion rights activist\",\n",
    "    \"and LGBT rights activist\",\n",
    "    \"anti government activist\",\n",
    "    \"LGBT rights activist and\",\n",
    "    \"palliative care activist\",\n",
    "    \"civil liberties activist\",\n",
    "    \"anti psychiatry activist\",\n",
    "    \"disabled rights activist\",\n",
    "    \"bisexual rights activist\",\n",
    "    \"and trade union activist\",\n",
    "    \"children rights activist\",\n",
    "    \"workers' rights activist\",\n",
    "    \"transgender activist and\",\n",
    "    \"consumer rights activist\",\n",
    "    \"social justice activist\",\n",
    "    \"and gun rights activist\",\n",
    "    \"white supremacy activist\",\n",
    "    \"life extension activist\",\n",
    "    \"anti communist activist\",\n",
    "    \"sexual freedom activist\",\n",
    "    \"welfare rights activist\",\n",
    "    \"and gay rights activist\",\n",
    "    \"anti abortion activist;\",\n",
    "    \"East political activist\",\n",
    "    \"anti polygraph activist\",\n",
    "    \"and men rights activist\",\n",
    "    \"animal welfare activist\",\n",
    "    \"justice reform activist\",\n",
    "    \"anti Communist activist\",\n",
    "    \"anti Apartheid activist\",\n",
    "    \"anti apartheid activist\",\n",
    "    \"animal rights activist\",\n",
    "    \"Native rights activist\",\n",
    "    \"pro communist activist\",\n",
    "    \"anti drug activist and\",\n",
    "    \"victim rights activist\",\n",
    "    \"and HIV AIDS activists\",\n",
    "    \"Navajo Nation activist\",\n",
    "    \"community activist and\",\n",
    "    \"labour rights activist\",\n",
    "    \"birth control activist\",\n",
    "    \"political activist and\",\n",
    "    \"and political activist\",\n",
    "    \"Neo political activist\",\n",
    "    \"native people activist\",\n",
    "    \"dissident and activist\",\n",
    "    \"activist and communist\",\n",
    "    \"Communist activist and\",\n",
    "    \"voting rights activist\",\n",
    "    \"and communist activist\",\n",
    "    \"Burkinabè activist and\",\n",
    "    \"desegregation activist\",\n",
    "    \"and paralysis activist\",\n",
    "    \"native rights activist\",\n",
    "    \"pro democracy activist\",\n",
    "    \"communist activist and\",\n",
    "    \"mental health activist\",\n",
    "    \"anti abortion activist\",\n",
    "    \"environmental activist\",\n",
    "    \"anti nuclear activist\",\n",
    "    \"right to die activist\",\n",
    "    \"feminist and activist\",\n",
    "    \"anti smoking activist\",\n",
    "    \"anti fascist activist\",\n",
    "    \"arms control activist\",\n",
    "    \"conservative activist\",\n",
    "    \"attorney and activist\",\n",
    "    \"and maritime activist\",\n",
    "    \"and anti war activist\",\n",
    "    \"civil rights activist\",\n",
    "    \"Raja freedom activist\",\n",
    "    \"women rights activist\",\n",
    "    \"political activist in\",\n",
    "    \"Ogala Lakota activist\",\n",
    "    \"Māori rights activist\",\n",
    "    \"conservation activist\",\n",
    "    \"prostitution activist\",\n",
    "    \"and internet activist\",\n",
    "    \"women health activist\",\n",
    "    \"open housing activist\",\n",
    "    \"anti tobacco activist\",\n",
    "    \"anti logging activist\",\n",
    "    \"and pro life activist\",\n",
    "    \"and anti gay activist\",\n",
    "    \"activist and feminist\",\n",
    "    \"anti poverty activist\",\n",
    "    \"independence activist\",\n",
    "    \"human rights activist\",\n",
    "    \"civil right activist\",\n",
    "    \"and antiwar activist\",\n",
    "    \"land rights activist\",\n",
    "    \"drug policy activist\",\n",
    "    \"Sikh rights activist\",\n",
    "    \"nationalist activist\",\n",
    "    \"trade union activist\",\n",
    "    \"transgender activist\",\n",
    "    \"LGBT rights activist\",\n",
    "    \"disability activist\",\n",
    "    \"social activist and\",\n",
    "    \"and social activist\",\n",
    "    \"Trotskyist activist\",\n",
    "    \"republican activist\",\n",
    "    \"euthanasia activist\",\n",
    "    \"Indigenous activist\",\n",
    "    \"anti junta activist\",\n",
    "    \"neofascist activist\",\n",
    "    \"ti Kremlin activist\",\n",
    "    \"aboriginal activist\",\n",
    "    \"vegetarian activist\",\n",
    "    \"healthcare activist\",\n",
    "    \"indigenous activist\",\n",
    "    \"gay rights activist\",\n",
    "    \"community activist\",\n",
    "    \"communist activist\",\n",
    "    \"rap music activist\",\n",
    "    \"Winnebago activist\",\n",
    "    \"Sioux activist and\",\n",
    "    \"and civic activist\",\n",
    "    \"women activist and\",\n",
    "    \"and peace activist\",\n",
    "    \"religious activist\",\n",
    "    \"far right activist\",\n",
    "    \"'AIDS activist and\",\n",
    "    \"political activist\",\n",
    "    \"and labor activist\",\n",
    "    \"socialist activist\",\n",
    "    \"democracy activist\",\n",
    "    \"cultural activist\",\n",
    "    \"HIV AIDS activist\",\n",
    "    \"and Roma activist\",\n",
    "    \"and BDSM activist\",\n",
    "    \"anti gun activist\",\n",
    "    \"and AIDS activist\",\n",
    "    \"Native s activist\",\n",
    "    \"cannabis activist\",\n",
    "    \"Zainichi activist\",\n",
    "    \"peace activist in\",\n",
    "    \"anti War activist\",\n",
    "    \"anti gay activist\",\n",
    "    \"loyalist activist\",\n",
    "    \"equality activist\",\n",
    "    \"pro life activist\",\n",
    "    \"homeless activist\",\n",
    "    \"language activist\",\n",
    "    \"anti war activist\",\n",
    "    \"feminist activist\",\n",
    "    \"Chicano activist\",\n",
    "    \"and gay activist\",\n",
    "    \"lesbian activist\",\n",
    "    \"Native  activist\",\n",
    "    \"POW MIA activist\",\n",
    "    \"JDL activist and\",\n",
    "    \"zionist activist\",\n",
    "    \"and HIV activist\",\n",
    "    \"cycling activist\",\n",
    "    \"Zionist activist\",\n",
    "    \"student activist\",\n",
    "    \"antiwar activist\",\n",
    "    \"Navajo activist\",\n",
    "    \"albino activist\",\n",
    "    \"Maoist activist\",\n",
    "    \"Romani activist\",\n",
    "    \"Native activist\",\n",
    "    \"health activist\",\n",
    "    \"cancer activist\",\n",
    "    \"Jewish activist\",\n",
    "    \"rights activist\",\n",
    "    \"social activist\",\n",
    "    \"media activist\",\n",
    "    \"NAACP activist\",\n",
    "    \"urban activist\",\n",
    "    \"Dalit activist\",\n",
    "    \"peace activist\",\n",
    "    \"union activist\",\n",
    "    \"Tatar activist\",\n",
    "    \"women activist\",\n",
    "    \"LGBTQ activist\",\n",
    "    \"labor activist\",\n",
    "    \"anti activist\",\n",
    "    \"food activist\",\n",
    "    \"BDSM activist\",\n",
    "    \"AIDS activist\",\n",
    "    \"LGBT activist\",\n",
    "    \"HIV activist\",\n",
    "    \"gay activist\",\n",
    "    \"Pan activist\",\n",
    "    \"activist and\",\n",
    "    \"and activist\",\n",
    "    \"PEN activist\",\n",
    "    \"activist\",\n",
    "]\n",
    "\n",
    "arts = [\n",
    "    \"feminist activist and cultural\",  # before politics_govt_law\n",
    "    \"Internet vlogger\",\n",
    "    \"vlogger\",\n",
    "]\n",
    "sports = []\n",
    "sciences = []\n",
    "\n",
    "business_farming = []\n",
    "academia_humanities = []\n",
    "law_enf_military_operator = [\n",
    "    \"PIRA volunteer\",\n",
    "    \"who fought in the Civil War\",\n",
    "    \"member of The Weatherman\",\n",
    "    \"resistance activist\",  # before politics_govt_law\n",
    "]\n",
    "spiritual = [\n",
    "    \"anti Catholic religious activist\",  # before politics_govt_law\n",
    "    \"and church activist\",\n",
    "    \"evangelical Christian activist\",\n",
    "]\n",
    "social = [\n",
    "    \"Director of Action Aid\",  # before politics_govt_law\n",
    "    \"youth activist and Order of recipient\",\n",
    "    \"National Treasure\",\n",
    "    \"cancer research activist\",\n",
    "    \"AIDS and nutrition activist\",\n",
    "    \"amyotrophic lateral sclerosis activist\",\n",
    "    \"leader and social activist\",\n",
    "    \"and community activist\",\n",
    "    \"literacy activist\",\n",
    "    \"and anti suicide activist\",\n",
    "]\n",
    "crime = [\n",
    "    \"aircraft hijacker\",\n",
    "    \"convicted bomber\",\n",
    "    \"convicted bank robber\",\n",
    "]\n",
    "event_record_other = [\n",
    "    \"kidnapping victim\",\n",
    "    \"neo victim\",\n",
    "]\n",
    "other_species = []"
   ]
  },
  {
   "cell_type": "code",
   "execution_count": 119,
   "id": "79b59728",
   "metadata": {},
   "outputs": [
    {
     "data": {
      "application/javascript": [
       "\n",
       "            setTimeout(function() {\n",
       "                var nbb_cell_id = 119;\n",
       "                var nbb_unformatted_code = \"# Hard-coding cause_of_death and info_3 to clarify values found in info_2 for entry\\nindex = df[df[\\\"link\\\"] == \\\"https://en.wikipedia.org/wiki/Paul_Jennings_Hill\\\"].index\\ndf.loc[index, \\\"cause_of_death\\\"] = \\\"executed\\\"\\ndf.loc[index, \\\"info_3\\\"] = \\\"murderer\\\"\\n\\n# Hard-coding info_2 value to categorize entry as social\\nindex = df[df[\\\"link\\\"] == \\\"https://en.wikipedia.org/wiki/Jane_Tomlinson\\\"].index\\ndf.loc[index, \\\"info_2\\\"] = \\\"humanitarian\\\"\";\n",
       "                var nbb_formatted_code = \"# Hard-coding cause_of_death and info_3 to clarify values found in info_2 for entry\\nindex = df[df[\\\"link\\\"] == \\\"https://en.wikipedia.org/wiki/Paul_Jennings_Hill\\\"].index\\ndf.loc[index, \\\"cause_of_death\\\"] = \\\"executed\\\"\\ndf.loc[index, \\\"info_3\\\"] = \\\"murderer\\\"\\n\\n# Hard-coding info_2 value to categorize entry as social\\nindex = df[df[\\\"link\\\"] == \\\"https://en.wikipedia.org/wiki/Jane_Tomlinson\\\"].index\\ndf.loc[index, \\\"info_2\\\"] = \\\"humanitarian\\\"\";\n",
       "                var nbb_cells = Jupyter.notebook.get_cells();\n",
       "                for (var i = 0; i < nbb_cells.length; ++i) {\n",
       "                    if (nbb_cells[i].input_prompt_number == nbb_cell_id) {\n",
       "                        if (nbb_cells[i].get_text() == nbb_unformatted_code) {\n",
       "                             nbb_cells[i].set_text(nbb_formatted_code);\n",
       "                        }\n",
       "                        break;\n",
       "                    }\n",
       "                }\n",
       "            }, 500);\n",
       "            "
      ],
      "text/plain": [
       "<IPython.core.display.Javascript object>"
      ]
     },
     "metadata": {},
     "output_type": "display_data"
    }
   ],
   "source": [
    "# Hard-coding cause_of_death and info_3 to clarify values found in info_2 for entry\n",
    "index = df[df[\"link\"] == \"https://en.wikipedia.org/wiki/Paul_Jennings_Hill\"].index\n",
    "df.loc[index, \"cause_of_death\"] = \"executed\"\n",
    "df.loc[index, \"info_3\"] = \"murderer\"\n",
    "\n",
    "# Hard-coding info_2 value to categorize entry as social\n",
    "index = df[df[\"link\"] == \"https://en.wikipedia.org/wiki/Jane_Tomlinson\"].index\n",
    "df.loc[index, \"info_2\"] = \"humanitarian\""
   ]
  },
  {
   "cell_type": "markdown",
   "id": "ffcc9aa8",
   "metadata": {},
   "source": [
    "#### Creating `known_for_dict` Dictionary of Category Keys and Specific Role Lists of Values"
   ]
  },
  {
   "cell_type": "code",
   "execution_count": 120,
   "id": "2f06e344",
   "metadata": {},
   "outputs": [
    {
     "data": {
      "application/javascript": [
       "\n",
       "            setTimeout(function() {\n",
       "                var nbb_cell_id = 120;\n",
       "                var nbb_unformatted_code = \"# Combining separate lists into one dictionary\\nknown_for_dict = {\\n    \\\"social\\\": social,\\n    \\\"spiritual\\\": spiritual,\\n    \\\"academia_humanities\\\": academia_humanities,\\n    \\\"business_farming\\\": business_farming,\\n    \\\"sciences\\\": sciences,\\n    \\\"law_enf_military_operator\\\": law_enf_military_operator,\\n    \\\"crime\\\": crime,\\n    \\\"event_record_other\\\": event_record_other,\\n    \\\"other_species\\\": other_species,\\n    \\\"arts\\\": arts,\\n    \\\"sports\\\": sports,\\n    \\\"politics_govt_law\\\": politics_govt_law,\\n}\";\n",
       "                var nbb_formatted_code = \"# Combining separate lists into one dictionary\\nknown_for_dict = {\\n    \\\"social\\\": social,\\n    \\\"spiritual\\\": spiritual,\\n    \\\"academia_humanities\\\": academia_humanities,\\n    \\\"business_farming\\\": business_farming,\\n    \\\"sciences\\\": sciences,\\n    \\\"law_enf_military_operator\\\": law_enf_military_operator,\\n    \\\"crime\\\": crime,\\n    \\\"event_record_other\\\": event_record_other,\\n    \\\"other_species\\\": other_species,\\n    \\\"arts\\\": arts,\\n    \\\"sports\\\": sports,\\n    \\\"politics_govt_law\\\": politics_govt_law,\\n}\";\n",
       "                var nbb_cells = Jupyter.notebook.get_cells();\n",
       "                for (var i = 0; i < nbb_cells.length; ++i) {\n",
       "                    if (nbb_cells[i].input_prompt_number == nbb_cell_id) {\n",
       "                        if (nbb_cells[i].get_text() == nbb_unformatted_code) {\n",
       "                             nbb_cells[i].set_text(nbb_formatted_code);\n",
       "                        }\n",
       "                        break;\n",
       "                    }\n",
       "                }\n",
       "            }, 500);\n",
       "            "
      ],
      "text/plain": [
       "<IPython.core.display.Javascript object>"
      ]
     },
     "metadata": {},
     "output_type": "display_data"
    }
   ],
   "source": [
    "# Combining separate lists into one dictionary\n",
    "known_for_dict = {\n",
    "    \"social\": social,\n",
    "    \"spiritual\": spiritual,\n",
    "    \"academia_humanities\": academia_humanities,\n",
    "    \"business_farming\": business_farming,\n",
    "    \"sciences\": sciences,\n",
    "    \"law_enf_military_operator\": law_enf_military_operator,\n",
    "    \"crime\": crime,\n",
    "    \"event_record_other\": event_record_other,\n",
    "    \"other_species\": other_species,\n",
    "    \"arts\": arts,\n",
    "    \"sports\": sports,\n",
    "    \"politics_govt_law\": politics_govt_law,\n",
    "}"
   ]
  },
  {
   "cell_type": "markdown",
   "id": "76137736",
   "metadata": {},
   "source": [
    "#### Extracting Category from `info_2`"
   ]
  },
  {
   "cell_type": "code",
   "execution_count": 121,
   "id": "0e19afc3",
   "metadata": {},
   "outputs": [
    {
     "name": "stdout",
     "output_type": "stream",
     "text": [
      "CPU times: total: 3min 45s\n",
      "Wall time: 3min 45s\n"
     ]
    },
    {
     "data": {
      "text/html": [
       "<div>\n",
       "<style scoped>\n",
       "    .dataframe tbody tr th:only-of-type {\n",
       "        vertical-align: middle;\n",
       "    }\n",
       "\n",
       "    .dataframe tbody tr th {\n",
       "        vertical-align: top;\n",
       "    }\n",
       "\n",
       "    .dataframe thead th {\n",
       "        text-align: right;\n",
       "    }\n",
       "</style>\n",
       "<table border=\"1\" class=\"dataframe\">\n",
       "  <thead>\n",
       "    <tr style=\"text-align: right;\">\n",
       "      <th></th>\n",
       "      <th>day</th>\n",
       "      <th>name</th>\n",
       "      <th>info</th>\n",
       "      <th>link</th>\n",
       "      <th>num_references</th>\n",
       "      <th>year</th>\n",
       "      <th>month</th>\n",
       "      <th>info_parenth</th>\n",
       "      <th>info_1</th>\n",
       "      <th>info_2</th>\n",
       "      <th>info_3</th>\n",
       "      <th>info_4</th>\n",
       "      <th>info_5</th>\n",
       "      <th>info_6</th>\n",
       "      <th>info_7</th>\n",
       "      <th>info_8</th>\n",
       "      <th>info_9</th>\n",
       "      <th>info_10</th>\n",
       "      <th>info_11</th>\n",
       "      <th>age</th>\n",
       "      <th>cause_of_death</th>\n",
       "      <th>place_1</th>\n",
       "      <th>place_2</th>\n",
       "      <th>info_parenth_copy</th>\n",
       "      <th>log_num_references</th>\n",
       "      <th>sciences</th>\n",
       "      <th>social</th>\n",
       "      <th>spiritual</th>\n",
       "      <th>academia_humanities</th>\n",
       "      <th>business_farming</th>\n",
       "      <th>arts</th>\n",
       "      <th>sports</th>\n",
       "      <th>law_enf_military_operator</th>\n",
       "      <th>politics_govt_law</th>\n",
       "      <th>crime</th>\n",
       "      <th>event_record_other</th>\n",
       "      <th>other_species</th>\n",
       "      <th>num_categories</th>\n",
       "    </tr>\n",
       "  </thead>\n",
       "  <tbody>\n",
       "    <tr>\n",
       "      <th>24265</th>\n",
       "      <td>29</td>\n",
       "      <td>Carrie Rozelle</td>\n",
       "      <td>, 69, Canadian-born education activist, wife of Pete Rozelle, cancer.</td>\n",
       "      <td>https://en.wikipedia.org/wiki/Carrie_Rozelle</td>\n",
       "      <td>4</td>\n",
       "      <td>2007</td>\n",
       "      <td>October</td>\n",
       "      <td>None</td>\n",
       "      <td>None</td>\n",
       "      <td>education</td>\n",
       "      <td>wife of Pete Rozelle</td>\n",
       "      <td>cancer</td>\n",
       "      <td>None</td>\n",
       "      <td>None</td>\n",
       "      <td>None</td>\n",
       "      <td>None</td>\n",
       "      <td>None</td>\n",
       "      <td>None</td>\n",
       "      <td>None</td>\n",
       "      <td>69.0</td>\n",
       "      <td>None</td>\n",
       "      <td>Canada</td>\n",
       "      <td>None</td>\n",
       "      <td>None</td>\n",
       "      <td>1.609438</td>\n",
       "      <td>0</td>\n",
       "      <td>0</td>\n",
       "      <td>0</td>\n",
       "      <td>0</td>\n",
       "      <td>0</td>\n",
       "      <td>0</td>\n",
       "      <td>0</td>\n",
       "      <td>0</td>\n",
       "      <td>1</td>\n",
       "      <td>0</td>\n",
       "      <td>0</td>\n",
       "      <td>0</td>\n",
       "      <td>1</td>\n",
       "    </tr>\n",
       "    <tr>\n",
       "      <th>6380</th>\n",
       "      <td>26</td>\n",
       "      <td>Richard Geoffrey Gerard</td>\n",
       "      <td>, 92, New Zealand politician and cabinet minister.</td>\n",
       "      <td>https://en.wikipedia.org/wiki/Geoff_Gerard_(politician)</td>\n",
       "      <td>6</td>\n",
       "      <td>1997</td>\n",
       "      <td>September</td>\n",
       "      <td>None</td>\n",
       "      <td>None</td>\n",
       "      <td></td>\n",
       "      <td>None</td>\n",
       "      <td>None</td>\n",
       "      <td>None</td>\n",
       "      <td>None</td>\n",
       "      <td>None</td>\n",
       "      <td>None</td>\n",
       "      <td>None</td>\n",
       "      <td>None</td>\n",
       "      <td>None</td>\n",
       "      <td>92.0</td>\n",
       "      <td>None</td>\n",
       "      <td>New Zealand</td>\n",
       "      <td>None</td>\n",
       "      <td>None</td>\n",
       "      <td>1.945910</td>\n",
       "      <td>0</td>\n",
       "      <td>0</td>\n",
       "      <td>0</td>\n",
       "      <td>0</td>\n",
       "      <td>0</td>\n",
       "      <td>0</td>\n",
       "      <td>0</td>\n",
       "      <td>0</td>\n",
       "      <td>1</td>\n",
       "      <td>0</td>\n",
       "      <td>0</td>\n",
       "      <td>0</td>\n",
       "      <td>1</td>\n",
       "    </tr>\n",
       "  </tbody>\n",
       "</table>\n",
       "</div>"
      ],
      "text/plain": [
       "      day                     name  \\\n",
       "24265  29           Carrie Rozelle   \n",
       "6380   26  Richard Geoffrey Gerard   \n",
       "\n",
       "                                                                        info  \\\n",
       "24265  , 69, Canadian-born education activist, wife of Pete Rozelle, cancer.   \n",
       "6380                      , 92, New Zealand politician and cabinet minister.   \n",
       "\n",
       "                                                          link  \\\n",
       "24265             https://en.wikipedia.org/wiki/Carrie_Rozelle   \n",
       "6380   https://en.wikipedia.org/wiki/Geoff_Gerard_(politician)   \n",
       "\n",
       "       num_references  year      month info_parenth info_1     info_2  \\\n",
       "24265               4  2007    October         None   None  education   \n",
       "6380                6  1997  September         None   None              \n",
       "\n",
       "                     info_3  info_4 info_5 info_6 info_7 info_8 info_9  \\\n",
       "24265  wife of Pete Rozelle  cancer   None   None   None   None   None   \n",
       "6380                   None    None   None   None   None   None   None   \n",
       "\n",
       "      info_10 info_11   age cause_of_death      place_1 place_2  \\\n",
       "24265    None    None  69.0           None       Canada    None   \n",
       "6380     None    None  92.0           None  New Zealand    None   \n",
       "\n",
       "      info_parenth_copy  log_num_references  sciences  social  spiritual  \\\n",
       "24265              None            1.609438         0       0          0   \n",
       "6380               None            1.945910         0       0          0   \n",
       "\n",
       "       academia_humanities  business_farming  arts  sports  \\\n",
       "24265                    0                 0     0       0   \n",
       "6380                     0                 0     0       0   \n",
       "\n",
       "       law_enf_military_operator  politics_govt_law  crime  \\\n",
       "24265                          0                  1      0   \n",
       "6380                           0                  1      0   \n",
       "\n",
       "       event_record_other  other_species  num_categories  \n",
       "24265                   0              0               1  \n",
       "6380                    0              0               1  "
      ]
     },
     "execution_count": 121,
     "metadata": {},
     "output_type": "execute_result"
    },
    {
     "data": {
      "application/javascript": [
       "\n",
       "            setTimeout(function() {\n",
       "                var nbb_cell_id = 121;\n",
       "                var nbb_unformatted_code = \"%%time\\n\\n# Dictionary version\\nsearch_dict = known_for_dict\\n\\n# Column to check\\ncolumn = 'info_2'\\n\\n# Dataframe\\ndataframe = df[column].notna()\\n\\n# For loop to find role in column and extract it as category\\nfor category, category_lst in search_dict.items():\\n    for role in category_lst:\\n        for index in dataframe.index:\\n            item = df.loc[index, column]\\n            if item:\\n                if role in item:\\n                    df.loc[index, category] = 1\\n                    df.loc[index, column] = item.replace(role, '').strip()\\n\\n# Updating num_categories\\ndf[\\\"num_categories\\\"] = df[known_for_dict.keys()].sum(axis=1)\\n\\n# Checking a sample of rows\\ndf[df['politics_govt_law'] ==1].sample(2)\";\n",
       "                var nbb_formatted_code = \"%%time\\n\\n# Dictionary version\\nsearch_dict = known_for_dict\\n\\n# Column to check\\ncolumn = 'info_2'\\n\\n# Dataframe\\ndataframe = df[column].notna()\\n\\n# For loop to find role in column and extract it as category\\nfor category, category_lst in search_dict.items():\\n    for role in category_lst:\\n        for index in dataframe.index:\\n            item = df.loc[index, column]\\n            if item:\\n                if role in item:\\n                    df.loc[index, category] = 1\\n                    df.loc[index, column] = item.replace(role, '').strip()\\n\\n# Updating num_categories\\ndf[\\\"num_categories\\\"] = df[known_for_dict.keys()].sum(axis=1)\\n\\n# Checking a sample of rows\\ndf[df['politics_govt_law'] ==1].sample(2)\";\n",
       "                var nbb_cells = Jupyter.notebook.get_cells();\n",
       "                for (var i = 0; i < nbb_cells.length; ++i) {\n",
       "                    if (nbb_cells[i].input_prompt_number == nbb_cell_id) {\n",
       "                        if (nbb_cells[i].get_text() == nbb_unformatted_code) {\n",
       "                             nbb_cells[i].set_text(nbb_formatted_code);\n",
       "                        }\n",
       "                        break;\n",
       "                    }\n",
       "                }\n",
       "            }, 500);\n",
       "            "
      ],
      "text/plain": [
       "<IPython.core.display.Javascript object>"
      ]
     },
     "metadata": {},
     "output_type": "display_data"
    }
   ],
   "source": [
    "%%time\n",
    "\n",
    "# Dictionary version\n",
    "search_dict = known_for_dict\n",
    "\n",
    "# Column to check\n",
    "column = 'info_2'\n",
    "\n",
    "# Dataframe\n",
    "dataframe = df[column].notna()\n",
    "\n",
    "# For loop to find role in column and extract it as category\n",
    "for category, category_lst in search_dict.items():\n",
    "    for role in category_lst:\n",
    "        for index in dataframe.index:\n",
    "            item = df.loc[index, column]\n",
    "            if item:\n",
    "                if role in item:\n",
    "                    df.loc[index, category] = 1\n",
    "                    df.loc[index, column] = item.replace(role, '').strip()\n",
    "\n",
    "# Updating num_categories\n",
    "df[\"num_categories\"] = df[known_for_dict.keys()].sum(axis=1)\n",
    "\n",
    "# Checking a sample of rows\n",
    "df[df['politics_govt_law'] ==1].sample(2)"
   ]
  },
  {
   "cell_type": "markdown",
   "id": "1d0321cf",
   "metadata": {},
   "source": [
    "#### Checking the Number of Rows without a First Category"
   ]
  },
  {
   "cell_type": "code",
   "execution_count": 122,
   "id": "ea883681",
   "metadata": {},
   "outputs": [
    {
     "name": "stdout",
     "output_type": "stream",
     "text": [
      "There are 32649 entries without any known_for category.\n"
     ]
    },
    {
     "data": {
      "application/javascript": [
       "\n",
       "            setTimeout(function() {\n",
       "                var nbb_cell_id = 122;\n",
       "                var nbb_unformatted_code = \"# Checking the number of rows without a first category\\nprint(\\n    f'There are {len(df[df[\\\"num_categories\\\"]==0])} entries without any known_for category.'\\n)\";\n",
       "                var nbb_formatted_code = \"# Checking the number of rows without a first category\\nprint(\\n    f'There are {len(df[df[\\\"num_categories\\\"]==0])} entries without any known_for category.'\\n)\";\n",
       "                var nbb_cells = Jupyter.notebook.get_cells();\n",
       "                for (var i = 0; i < nbb_cells.length; ++i) {\n",
       "                    if (nbb_cells[i].input_prompt_number == nbb_cell_id) {\n",
       "                        if (nbb_cells[i].get_text() == nbb_unformatted_code) {\n",
       "                             nbb_cells[i].set_text(nbb_formatted_code);\n",
       "                        }\n",
       "                        break;\n",
       "                    }\n",
       "                }\n",
       "            }, 500);\n",
       "            "
      ],
      "text/plain": [
       "<IPython.core.display.Javascript object>"
      ]
     },
     "metadata": {},
     "output_type": "display_data"
    }
   ],
   "source": [
    "# Checking the number of rows without a first category\n",
    "print(\n",
    "    f'There are {len(df[df[\"num_categories\"]==0])} entries without any known_for category.'\n",
    ")"
   ]
  },
  {
   "cell_type": "markdown",
   "id": "0f66697e",
   "metadata": {},
   "source": [
    "#### Observations:\n",
    "- It is time to export our dataframe and start a new notebook."
   ]
  },
  {
   "cell_type": "markdown",
   "id": "1113a242",
   "metadata": {},
   "source": [
    "### Exporting Dataset to SQLite Database [wp_life_expect_clean8.db](https://github.com/teresahanak/wikipedia-life-expectancy/blob/main/wp_life_expect_clean8.db)"
   ]
  },
  {
   "cell_type": "code",
   "execution_count": 123,
   "id": "6008ac61",
   "metadata": {},
   "outputs": [
    {
     "data": {
      "application/javascript": [
       "\n",
       "            setTimeout(function() {\n",
       "                var nbb_cell_id = 123;\n",
       "                var nbb_unformatted_code = \"# Exporting dataframe\\n\\n# Saving dataset in a SQLite database\\nconn = sql.connect(\\\"wp_life_expect_clean8.db\\\")\\ndf.to_sql(\\\"wp_life_expect_clean8\\\", conn, index=False)\\n\\n# Chime notification when cell executes\\nchime.success()\";\n",
       "                var nbb_formatted_code = \"# Exporting dataframe\\n\\n# Saving dataset in a SQLite database\\nconn = sql.connect(\\\"wp_life_expect_clean8.db\\\")\\ndf.to_sql(\\\"wp_life_expect_clean8\\\", conn, index=False)\\n\\n# Chime notification when cell executes\\nchime.success()\";\n",
       "                var nbb_cells = Jupyter.notebook.get_cells();\n",
       "                for (var i = 0; i < nbb_cells.length; ++i) {\n",
       "                    if (nbb_cells[i].input_prompt_number == nbb_cell_id) {\n",
       "                        if (nbb_cells[i].get_text() == nbb_unformatted_code) {\n",
       "                             nbb_cells[i].set_text(nbb_formatted_code);\n",
       "                        }\n",
       "                        break;\n",
       "                    }\n",
       "                }\n",
       "            }, 500);\n",
       "            "
      ],
      "text/plain": [
       "<IPython.core.display.Javascript object>"
      ]
     },
     "metadata": {},
     "output_type": "display_data"
    }
   ],
   "source": [
    "# Exporting dataframe\n",
    "\n",
    "# Saving dataset in a SQLite database\n",
    "conn = sql.connect(\"wp_life_expect_clean8.db\")\n",
    "df.to_sql(\"wp_life_expect_clean8\", conn, index=False)\n",
    "\n",
    "# Chime notification when cell executes\n",
    "chime.success()"
   ]
  },
  {
   "cell_type": "markdown",
   "id": "11aacfcc",
   "metadata": {},
   "source": [
    "# [Proceed to Data Cleaning Part 9 ](https://github.com/teresahanak/wikipedia-life-expectancy/blob/main/wp_life_expect_data_clean9_thanak_2022_07_26.ipynb)"
   ]
  }
 ],
 "metadata": {
  "kernelspec": {
   "display_name": "Python 3 (ipykernel)",
   "language": "python",
   "name": "python3"
  },
  "language_info": {
   "codemirror_mode": {
    "name": "ipython",
    "version": 3
   },
   "file_extension": ".py",
   "mimetype": "text/x-python",
   "name": "python",
   "nbconvert_exporter": "python",
   "pygments_lexer": "ipython3",
   "version": "3.9.12"
  }
 },
 "nbformat": 4,
 "nbformat_minor": 5
}
