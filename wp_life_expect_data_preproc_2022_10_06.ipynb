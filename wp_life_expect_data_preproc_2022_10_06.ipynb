{
 "cells": [
  {
   "cell_type": "markdown",
   "id": "316a0779",
   "metadata": {},
   "source": [
    "# Wikipedia Notable Life Expectancies\n",
    "# [Notebook 11: Data Pre-processing ](https://github.com/teresahanak/wikipedia-life-expectancy/blob/main/wp_life_expect_data_preproc_2022_10_06.ipynb)\n",
    "### Context\n",
    "\n",
    "The\n",
    "### Objective\n",
    "\n",
    "The\n",
    "### Data Dictionary\n",
    "- Feature: Description"
   ]
  },
  {
   "cell_type": "markdown",
   "id": "99245d51",
   "metadata": {},
   "source": [
    "### Importing Libraries"
   ]
  },
  {
   "cell_type": "code",
   "execution_count": 1,
   "id": "453bba83",
   "metadata": {},
   "outputs": [
    {
     "data": {
      "application/javascript": [
       "\n",
       "            setTimeout(function() {\n",
       "                var nbb_cell_id = 1;\n",
       "                var nbb_unformatted_code = \"# To structure code automatically\\n%load_ext nb_black\\n\\n# To import/export sqlite databases\\nimport sqlite3 as sql\\n\\n# To save/open python objects in pickle file\\n# import pickle\\n\\n# To help with reading, cleaning, and manipulating data\\nimport pandas as pd\\nimport numpy as np\\n\\n# To help with data visualization\\nimport matplotlib.pyplot as plt\\nimport seaborn as sns\\n\\n# randomized data splitting\\nfrom sklearn.model_selection import train_test_split\\n\\n# building regression model\\nimport statsmodels.api as sm\\n\\n# check model performance\\nfrom sklearn.metrics import mean_absolute_error, mean_squared_error, r2_score\\n\\n# check linear regression assumptions\\nfrom statsmodels.stats.outliers_influence import variance_inflation_factor\\nimport pylab\\nimport scipy.stats as stats\\nimport statsmodels.stats.api as sms\\nfrom statsmodels.compat import lzip\\n\\n# to compare fit between models\\nfrom scipy.stats.distributions import chi2\\n\\n# To define maximum number of columns to be displayed in a dataframe\\npd.set_option(\\\"display.max_columns\\\", None)\\n# To define the maximum number of rows to be displayed in a dataframe\\npd.set_option(\\\"display.max_rows\\\", 211)\\n\\n# To set some dataframe visualization attributes\\npd.set_option(\\\"max_colwidth\\\", 150)\\n\\n# To supress scientific notations for a dataframe\\npd.set_option(\\\"display.float_format\\\", lambda x: \\\"%.3f\\\" % x)\\n\\n# To supress warnings\\n# import warnings\\n\\n# warnings.filterwarnings(\\\"ignore\\\")\\n\\n# To set some plot visualization attributes\\nsns.set_theme()\\nsns.set_palette(\\n    (\\n        \\\"midnightblue\\\",\\n        \\\"goldenrod\\\",\\n        \\\"maroon\\\",\\n        \\\"darkolivegreen\\\",\\n        \\\"cadetblue\\\",\\n        \\\"tab:purple\\\",\\n        \\\"yellowgreen\\\",\\n    )\\n)\\nplt.rc(\\\"font\\\", size=12)\\nplt.rc(\\\"axes\\\", titlesize=15)\\nplt.rc(\\\"axes\\\", labelsize=14)\\nplt.rc(\\\"xtick\\\", labelsize=13)\\nplt.rc(\\\"ytick\\\", labelsize=13)\\nplt.rc(\\\"legend\\\", fontsize=13)\\nplt.rc(\\\"legend\\\", fontsize=14)\\nplt.rc(\\\"figure\\\", titlesize=16)\\n\\n# To play auditory cue when cell has executed, has warning, or has error and set chime theme\\nimport chime\\n\\nchime.theme(\\\"zelda\\\")\";\n",
       "                var nbb_formatted_code = \"# To structure code automatically\\n%load_ext nb_black\\n\\n# To import/export sqlite databases\\nimport sqlite3 as sql\\n\\n# To save/open python objects in pickle file\\n# import pickle\\n\\n# To help with reading, cleaning, and manipulating data\\nimport pandas as pd\\nimport numpy as np\\n\\n# To help with data visualization\\nimport matplotlib.pyplot as plt\\nimport seaborn as sns\\n\\n# randomized data splitting\\nfrom sklearn.model_selection import train_test_split\\n\\n# building regression model\\nimport statsmodels.api as sm\\n\\n# check model performance\\nfrom sklearn.metrics import mean_absolute_error, mean_squared_error, r2_score\\n\\n# check linear regression assumptions\\nfrom statsmodels.stats.outliers_influence import variance_inflation_factor\\nimport pylab\\nimport scipy.stats as stats\\nimport statsmodels.stats.api as sms\\nfrom statsmodels.compat import lzip\\n\\n# to compare fit between models\\nfrom scipy.stats.distributions import chi2\\n\\n# To define maximum number of columns to be displayed in a dataframe\\npd.set_option(\\\"display.max_columns\\\", None)\\n# To define the maximum number of rows to be displayed in a dataframe\\npd.set_option(\\\"display.max_rows\\\", 211)\\n\\n# To set some dataframe visualization attributes\\npd.set_option(\\\"max_colwidth\\\", 150)\\n\\n# To supress scientific notations for a dataframe\\npd.set_option(\\\"display.float_format\\\", lambda x: \\\"%.3f\\\" % x)\\n\\n# To supress warnings\\n# import warnings\\n\\n# warnings.filterwarnings(\\\"ignore\\\")\\n\\n# To set some plot visualization attributes\\nsns.set_theme()\\nsns.set_palette(\\n    (\\n        \\\"midnightblue\\\",\\n        \\\"goldenrod\\\",\\n        \\\"maroon\\\",\\n        \\\"darkolivegreen\\\",\\n        \\\"cadetblue\\\",\\n        \\\"tab:purple\\\",\\n        \\\"yellowgreen\\\",\\n    )\\n)\\nplt.rc(\\\"font\\\", size=12)\\nplt.rc(\\\"axes\\\", titlesize=15)\\nplt.rc(\\\"axes\\\", labelsize=14)\\nplt.rc(\\\"xtick\\\", labelsize=13)\\nplt.rc(\\\"ytick\\\", labelsize=13)\\nplt.rc(\\\"legend\\\", fontsize=13)\\nplt.rc(\\\"legend\\\", fontsize=14)\\nplt.rc(\\\"figure\\\", titlesize=16)\\n\\n# To play auditory cue when cell has executed, has warning, or has error and set chime theme\\nimport chime\\n\\nchime.theme(\\\"zelda\\\")\";\n",
       "                var nbb_cells = Jupyter.notebook.get_cells();\n",
       "                for (var i = 0; i < nbb_cells.length; ++i) {\n",
       "                    if (nbb_cells[i].input_prompt_number == nbb_cell_id) {\n",
       "                        if (nbb_cells[i].get_text() == nbb_unformatted_code) {\n",
       "                             nbb_cells[i].set_text(nbb_formatted_code);\n",
       "                        }\n",
       "                        break;\n",
       "                    }\n",
       "                }\n",
       "            }, 500);\n",
       "            "
      ],
      "text/plain": [
       "<IPython.core.display.Javascript object>"
      ]
     },
     "metadata": {},
     "output_type": "display_data"
    }
   ],
   "source": [
    "# To structure code automatically\n",
    "%load_ext nb_black\n",
    "\n",
    "# To import/export sqlite databases\n",
    "import sqlite3 as sql\n",
    "\n",
    "# To save/open python objects in pickle file\n",
    "# import pickle\n",
    "\n",
    "# To help with reading, cleaning, and manipulating data\n",
    "import pandas as pd\n",
    "import numpy as np\n",
    "\n",
    "# To help with data visualization\n",
    "import matplotlib.pyplot as plt\n",
    "import seaborn as sns\n",
    "\n",
    "# randomized data splitting\n",
    "from sklearn.model_selection import train_test_split\n",
    "\n",
    "# building regression model\n",
    "import statsmodels.api as sm\n",
    "\n",
    "# check model performance\n",
    "from sklearn.metrics import mean_absolute_error, mean_squared_error, r2_score\n",
    "\n",
    "# check linear regression assumptions\n",
    "from statsmodels.stats.outliers_influence import variance_inflation_factor\n",
    "import pylab\n",
    "import scipy.stats as stats\n",
    "import statsmodels.stats.api as sms\n",
    "from statsmodels.compat import lzip\n",
    "\n",
    "# to compare fit between models\n",
    "from scipy.stats.distributions import chi2\n",
    "\n",
    "# To define maximum number of columns to be displayed in a dataframe\n",
    "pd.set_option(\"display.max_columns\", None)\n",
    "# To define the maximum number of rows to be displayed in a dataframe\n",
    "pd.set_option(\"display.max_rows\", 211)\n",
    "\n",
    "# To set some dataframe visualization attributes\n",
    "pd.set_option(\"max_colwidth\", 150)\n",
    "\n",
    "# To supress scientific notations for a dataframe\n",
    "pd.set_option(\"display.float_format\", lambda x: \"%.3f\" % x)\n",
    "\n",
    "# To supress warnings\n",
    "# import warnings\n",
    "\n",
    "# warnings.filterwarnings(\"ignore\")\n",
    "\n",
    "# To set some plot visualization attributes\n",
    "sns.set_theme()\n",
    "sns.set_palette(\n",
    "    (\n",
    "        \"midnightblue\",\n",
    "        \"goldenrod\",\n",
    "        \"maroon\",\n",
    "        \"darkolivegreen\",\n",
    "        \"cadetblue\",\n",
    "        \"tab:purple\",\n",
    "        \"yellowgreen\",\n",
    "    )\n",
    ")\n",
    "plt.rc(\"font\", size=12)\n",
    "plt.rc(\"axes\", titlesize=15)\n",
    "plt.rc(\"axes\", labelsize=14)\n",
    "plt.rc(\"xtick\", labelsize=13)\n",
    "plt.rc(\"ytick\", labelsize=13)\n",
    "plt.rc(\"legend\", fontsize=13)\n",
    "plt.rc(\"legend\", fontsize=14)\n",
    "plt.rc(\"figure\", titlesize=16)\n",
    "\n",
    "# To play auditory cue when cell has executed, has warning, or has error and set chime theme\n",
    "import chime\n",
    "\n",
    "chime.theme(\"zelda\")"
   ]
  },
  {
   "cell_type": "markdown",
   "id": "cc818a82",
   "metadata": {},
   "source": [
    "## Data Overview"
   ]
  },
  {
   "cell_type": "markdown",
   "id": "0ed005f6",
   "metadata": {},
   "source": [
    "### [Reading](https://github.com/teresahanak/wikipedia-life-expectancy/blob/main/wp_life_expect_EDA.db), Sampling, and Checking Data Shape"
   ]
  },
  {
   "cell_type": "code",
   "execution_count": 2,
   "id": "0ca58a95",
   "metadata": {},
   "outputs": [
    {
     "name": "stdout",
     "output_type": "stream",
     "text": [
      "There are 97549 rows and 25 columns.\n"
     ]
    },
    {
     "data": {
      "text/html": [
       "<div>\n",
       "<style scoped>\n",
       "    .dataframe tbody tr th:only-of-type {\n",
       "        vertical-align: middle;\n",
       "    }\n",
       "\n",
       "    .dataframe tbody tr th {\n",
       "        vertical-align: top;\n",
       "    }\n",
       "\n",
       "    .dataframe thead th {\n",
       "        text-align: right;\n",
       "    }\n",
       "</style>\n",
       "<table border=\"1\" class=\"dataframe\">\n",
       "  <thead>\n",
       "    <tr style=\"text-align: right;\">\n",
       "      <th></th>\n",
       "      <th>info</th>\n",
       "      <th>link</th>\n",
       "      <th>num_references</th>\n",
       "      <th>year</th>\n",
       "      <th>info_parenth</th>\n",
       "      <th>age</th>\n",
       "      <th>cause_of_death</th>\n",
       "      <th>place_1</th>\n",
       "      <th>place_2</th>\n",
       "      <th>sciences</th>\n",
       "      <th>social</th>\n",
       "      <th>spiritual</th>\n",
       "      <th>academia_humanities</th>\n",
       "      <th>business_farming</th>\n",
       "      <th>arts</th>\n",
       "      <th>sports</th>\n",
       "      <th>law_enf_military_operator</th>\n",
       "      <th>politics_govt_law</th>\n",
       "      <th>crime</th>\n",
       "      <th>event_record_other</th>\n",
       "      <th>num_categories</th>\n",
       "      <th>recip_num_references</th>\n",
       "      <th>region</th>\n",
       "      <th>prior_region</th>\n",
       "      <th>known_for</th>\n",
       "    </tr>\n",
       "  </thead>\n",
       "  <tbody>\n",
       "    <tr>\n",
       "      <th>0</th>\n",
       "      <td>, 86, British dancer, ballet designer and director.</td>\n",
       "      <td>https://en.wikipedia.org/wiki/William_Chappell_(dancer)</td>\n",
       "      <td>21</td>\n",
       "      <td>1994</td>\n",
       "      <td>None</td>\n",
       "      <td>86.000</td>\n",
       "      <td>None</td>\n",
       "      <td>United Kingdom of Great Britain and Northern Ireland</td>\n",
       "      <td>None</td>\n",
       "      <td>0</td>\n",
       "      <td>0</td>\n",
       "      <td>0</td>\n",
       "      <td>0</td>\n",
       "      <td>0</td>\n",
       "      <td>1</td>\n",
       "      <td>0</td>\n",
       "      <td>0</td>\n",
       "      <td>0</td>\n",
       "      <td>0</td>\n",
       "      <td>0</td>\n",
       "      <td>1</td>\n",
       "      <td>0.048</td>\n",
       "      <td>Europe</td>\n",
       "      <td>N/A</td>\n",
       "      <td>arts</td>\n",
       "    </tr>\n",
       "    <tr>\n",
       "      <th>1</th>\n",
       "      <td>, 68, Irish economist, writer, and academic.</td>\n",
       "      <td>https://en.wikipedia.org/wiki/Raymond_Crotty</td>\n",
       "      <td>12</td>\n",
       "      <td>1994</td>\n",
       "      <td>None</td>\n",
       "      <td>68.000</td>\n",
       "      <td>None</td>\n",
       "      <td>Ireland</td>\n",
       "      <td>None</td>\n",
       "      <td>0</td>\n",
       "      <td>0</td>\n",
       "      <td>0</td>\n",
       "      <td>1</td>\n",
       "      <td>0</td>\n",
       "      <td>1</td>\n",
       "      <td>0</td>\n",
       "      <td>0</td>\n",
       "      <td>1</td>\n",
       "      <td>0</td>\n",
       "      <td>0</td>\n",
       "      <td>3</td>\n",
       "      <td>0.083</td>\n",
       "      <td>Europe</td>\n",
       "      <td>N/A</td>\n",
       "      <td>three_to_five</td>\n",
       "    </tr>\n",
       "  </tbody>\n",
       "</table>\n",
       "</div>"
      ],
      "text/plain": [
       "                                                  info  \\\n",
       "0  , 86, British dancer, ballet designer and director.   \n",
       "1         , 68, Irish economist, writer, and academic.   \n",
       "\n",
       "                                                      link  num_references  \\\n",
       "0  https://en.wikipedia.org/wiki/William_Chappell_(dancer)              21   \n",
       "1             https://en.wikipedia.org/wiki/Raymond_Crotty              12   \n",
       "\n",
       "   year info_parenth    age cause_of_death  \\\n",
       "0  1994         None 86.000           None   \n",
       "1  1994         None 68.000           None   \n",
       "\n",
       "                                                place_1 place_2  sciences  \\\n",
       "0  United Kingdom of Great Britain and Northern Ireland    None         0   \n",
       "1                                               Ireland    None         0   \n",
       "\n",
       "   social  spiritual  academia_humanities  business_farming  arts  sports  \\\n",
       "0       0          0                    0                 0     1       0   \n",
       "1       0          0                    1                 0     1       0   \n",
       "\n",
       "   law_enf_military_operator  politics_govt_law  crime  event_record_other  \\\n",
       "0                          0                  0      0                   0   \n",
       "1                          0                  1      0                   0   \n",
       "\n",
       "   num_categories  recip_num_references  region prior_region      known_for  \n",
       "0               1                 0.048  Europe          N/A           arts  \n",
       "1               3                 0.083  Europe          N/A  three_to_five  "
      ]
     },
     "execution_count": 2,
     "metadata": {},
     "output_type": "execute_result"
    },
    {
     "data": {
      "application/javascript": [
       "\n",
       "            setTimeout(function() {\n",
       "                var nbb_cell_id = 2;\n",
       "                var nbb_unformatted_code = \"# Reading the dataset\\nconn = sql.connect(\\\"wp_life_expect_EDA.db\\\")\\ndata = pd.read_sql(\\\"SELECT * FROM wp_life_expect_EDA\\\", conn)\\n\\n# Making a working copy\\ndf = data.copy()\\n\\n# Checking the shape\\nprint(f\\\"There are {df.shape[0]} rows and {df.shape[1]} columns.\\\")\\n\\n# Checking first 2 rows of the data\\ndf.head(2)\";\n",
       "                var nbb_formatted_code = \"# Reading the dataset\\nconn = sql.connect(\\\"wp_life_expect_EDA.db\\\")\\ndata = pd.read_sql(\\\"SELECT * FROM wp_life_expect_EDA\\\", conn)\\n\\n# Making a working copy\\ndf = data.copy()\\n\\n# Checking the shape\\nprint(f\\\"There are {df.shape[0]} rows and {df.shape[1]} columns.\\\")\\n\\n# Checking first 2 rows of the data\\ndf.head(2)\";\n",
       "                var nbb_cells = Jupyter.notebook.get_cells();\n",
       "                for (var i = 0; i < nbb_cells.length; ++i) {\n",
       "                    if (nbb_cells[i].input_prompt_number == nbb_cell_id) {\n",
       "                        if (nbb_cells[i].get_text() == nbb_unformatted_code) {\n",
       "                             nbb_cells[i].set_text(nbb_formatted_code);\n",
       "                        }\n",
       "                        break;\n",
       "                    }\n",
       "                }\n",
       "            }, 500);\n",
       "            "
      ],
      "text/plain": [
       "<IPython.core.display.Javascript object>"
      ]
     },
     "metadata": {},
     "output_type": "display_data"
    }
   ],
   "source": [
    "# Reading the dataset\n",
    "conn = sql.connect(\"wp_life_expect_EDA.db\")\n",
    "data = pd.read_sql(\"SELECT * FROM wp_life_expect_EDA\", conn)\n",
    "\n",
    "# Making a working copy\n",
    "df = data.copy()\n",
    "\n",
    "# Checking the shape\n",
    "print(f\"There are {df.shape[0]} rows and {df.shape[1]} columns.\")\n",
    "\n",
    "# Checking first 2 rows of the data\n",
    "df.head(2)"
   ]
  },
  {
   "cell_type": "code",
   "execution_count": 3,
   "id": "6cca416f",
   "metadata": {},
   "outputs": [
    {
     "data": {
      "text/html": [
       "<div>\n",
       "<style scoped>\n",
       "    .dataframe tbody tr th:only-of-type {\n",
       "        vertical-align: middle;\n",
       "    }\n",
       "\n",
       "    .dataframe tbody tr th {\n",
       "        vertical-align: top;\n",
       "    }\n",
       "\n",
       "    .dataframe thead th {\n",
       "        text-align: right;\n",
       "    }\n",
       "</style>\n",
       "<table border=\"1\" class=\"dataframe\">\n",
       "  <thead>\n",
       "    <tr style=\"text-align: right;\">\n",
       "      <th></th>\n",
       "      <th>info</th>\n",
       "      <th>link</th>\n",
       "      <th>num_references</th>\n",
       "      <th>year</th>\n",
       "      <th>info_parenth</th>\n",
       "      <th>age</th>\n",
       "      <th>cause_of_death</th>\n",
       "      <th>place_1</th>\n",
       "      <th>place_2</th>\n",
       "      <th>sciences</th>\n",
       "      <th>social</th>\n",
       "      <th>spiritual</th>\n",
       "      <th>academia_humanities</th>\n",
       "      <th>business_farming</th>\n",
       "      <th>arts</th>\n",
       "      <th>sports</th>\n",
       "      <th>law_enf_military_operator</th>\n",
       "      <th>politics_govt_law</th>\n",
       "      <th>crime</th>\n",
       "      <th>event_record_other</th>\n",
       "      <th>num_categories</th>\n",
       "      <th>recip_num_references</th>\n",
       "      <th>region</th>\n",
       "      <th>prior_region</th>\n",
       "      <th>known_for</th>\n",
       "    </tr>\n",
       "  </thead>\n",
       "  <tbody>\n",
       "    <tr>\n",
       "      <th>97547</th>\n",
       "      <td>, 50, Pakistani journalist and politician, MNA .</td>\n",
       "      <td>https://en.wikipedia.org/wiki/Aamir_Liaquat_Hussain</td>\n",
       "      <td>99</td>\n",
       "      <td>2022</td>\n",
       "      <td>2002 2007, since 2018</td>\n",
       "      <td>50.000</td>\n",
       "      <td>None</td>\n",
       "      <td>Pakistan</td>\n",
       "      <td>None</td>\n",
       "      <td>0</td>\n",
       "      <td>0</td>\n",
       "      <td>0</td>\n",
       "      <td>0</td>\n",
       "      <td>0</td>\n",
       "      <td>1</td>\n",
       "      <td>0</td>\n",
       "      <td>0</td>\n",
       "      <td>1</td>\n",
       "      <td>0</td>\n",
       "      <td>0</td>\n",
       "      <td>2</td>\n",
       "      <td>0.010</td>\n",
       "      <td>Asia</td>\n",
       "      <td>N/A</td>\n",
       "      <td>two</td>\n",
       "    </tr>\n",
       "    <tr>\n",
       "      <th>97548</th>\n",
       "      <td>, 86, Chinese engineer, member of the Chinese Academy of Engineering.</td>\n",
       "      <td>https://en.wikipedia.org/wiki/Zou_Jing_(engineer)</td>\n",
       "      <td>3</td>\n",
       "      <td>2022</td>\n",
       "      <td>None</td>\n",
       "      <td>86.000</td>\n",
       "      <td>None</td>\n",
       "      <td>China, People's Republic of</td>\n",
       "      <td>None</td>\n",
       "      <td>1</td>\n",
       "      <td>0</td>\n",
       "      <td>0</td>\n",
       "      <td>0</td>\n",
       "      <td>0</td>\n",
       "      <td>0</td>\n",
       "      <td>0</td>\n",
       "      <td>0</td>\n",
       "      <td>0</td>\n",
       "      <td>0</td>\n",
       "      <td>0</td>\n",
       "      <td>1</td>\n",
       "      <td>0.333</td>\n",
       "      <td>Asia</td>\n",
       "      <td>N/A</td>\n",
       "      <td>sciences</td>\n",
       "    </tr>\n",
       "  </tbody>\n",
       "</table>\n",
       "</div>"
      ],
      "text/plain": [
       "                                                                        info  \\\n",
       "97547                       , 50, Pakistani journalist and politician, MNA .   \n",
       "97548  , 86, Chinese engineer, member of the Chinese Academy of Engineering.   \n",
       "\n",
       "                                                      link  num_references  \\\n",
       "97547  https://en.wikipedia.org/wiki/Aamir_Liaquat_Hussain              99   \n",
       "97548    https://en.wikipedia.org/wiki/Zou_Jing_(engineer)               3   \n",
       "\n",
       "       year           info_parenth    age cause_of_death  \\\n",
       "97547  2022  2002 2007, since 2018 50.000           None   \n",
       "97548  2022                   None 86.000           None   \n",
       "\n",
       "                           place_1 place_2  sciences  social  spiritual  \\\n",
       "97547                     Pakistan    None         0       0          0   \n",
       "97548  China, People's Republic of    None         1       0          0   \n",
       "\n",
       "       academia_humanities  business_farming  arts  sports  \\\n",
       "97547                    0                 0     1       0   \n",
       "97548                    0                 0     0       0   \n",
       "\n",
       "       law_enf_military_operator  politics_govt_law  crime  \\\n",
       "97547                          0                  1      0   \n",
       "97548                          0                  0      0   \n",
       "\n",
       "       event_record_other  num_categories  recip_num_references region  \\\n",
       "97547                   0               2                 0.010   Asia   \n",
       "97548                   0               1                 0.333   Asia   \n",
       "\n",
       "      prior_region known_for  \n",
       "97547          N/A       two  \n",
       "97548          N/A  sciences  "
      ]
     },
     "execution_count": 3,
     "metadata": {},
     "output_type": "execute_result"
    },
    {
     "data": {
      "application/javascript": [
       "\n",
       "            setTimeout(function() {\n",
       "                var nbb_cell_id = 3;\n",
       "                var nbb_unformatted_code = \"# Checking last 2 rows of the data\\ndf.tail(2)\";\n",
       "                var nbb_formatted_code = \"# Checking last 2 rows of the data\\ndf.tail(2)\";\n",
       "                var nbb_cells = Jupyter.notebook.get_cells();\n",
       "                for (var i = 0; i < nbb_cells.length; ++i) {\n",
       "                    if (nbb_cells[i].input_prompt_number == nbb_cell_id) {\n",
       "                        if (nbb_cells[i].get_text() == nbb_unformatted_code) {\n",
       "                             nbb_cells[i].set_text(nbb_formatted_code);\n",
       "                        }\n",
       "                        break;\n",
       "                    }\n",
       "                }\n",
       "            }, 500);\n",
       "            "
      ],
      "text/plain": [
       "<IPython.core.display.Javascript object>"
      ]
     },
     "metadata": {},
     "output_type": "display_data"
    }
   ],
   "source": [
    "# Checking last 2 rows of the data\n",
    "df.tail(2)"
   ]
  },
  {
   "cell_type": "code",
   "execution_count": 4,
   "id": "de6e8ee5",
   "metadata": {},
   "outputs": [
    {
     "data": {
      "text/html": [
       "<div>\n",
       "<style scoped>\n",
       "    .dataframe tbody tr th:only-of-type {\n",
       "        vertical-align: middle;\n",
       "    }\n",
       "\n",
       "    .dataframe tbody tr th {\n",
       "        vertical-align: top;\n",
       "    }\n",
       "\n",
       "    .dataframe thead th {\n",
       "        text-align: right;\n",
       "    }\n",
       "</style>\n",
       "<table border=\"1\" class=\"dataframe\">\n",
       "  <thead>\n",
       "    <tr style=\"text-align: right;\">\n",
       "      <th></th>\n",
       "      <th>info</th>\n",
       "      <th>link</th>\n",
       "      <th>num_references</th>\n",
       "      <th>year</th>\n",
       "      <th>info_parenth</th>\n",
       "      <th>age</th>\n",
       "      <th>cause_of_death</th>\n",
       "      <th>place_1</th>\n",
       "      <th>place_2</th>\n",
       "      <th>sciences</th>\n",
       "      <th>social</th>\n",
       "      <th>spiritual</th>\n",
       "      <th>academia_humanities</th>\n",
       "      <th>business_farming</th>\n",
       "      <th>arts</th>\n",
       "      <th>sports</th>\n",
       "      <th>law_enf_military_operator</th>\n",
       "      <th>politics_govt_law</th>\n",
       "      <th>crime</th>\n",
       "      <th>event_record_other</th>\n",
       "      <th>num_categories</th>\n",
       "      <th>recip_num_references</th>\n",
       "      <th>region</th>\n",
       "      <th>prior_region</th>\n",
       "      <th>known_for</th>\n",
       "    </tr>\n",
       "  </thead>\n",
       "  <tbody>\n",
       "    <tr>\n",
       "      <th>73792</th>\n",
       "      <td>, 62, Portuguese singer, pulmonary fibrosis.</td>\n",
       "      <td>https://en.wikipedia.org/wiki/Dina_(singer)</td>\n",
       "      <td>7</td>\n",
       "      <td>2019</td>\n",
       "      <td>None</td>\n",
       "      <td>62.000</td>\n",
       "      <td>pulmonary fibrosis</td>\n",
       "      <td>Portugal</td>\n",
       "      <td>None</td>\n",
       "      <td>0</td>\n",
       "      <td>0</td>\n",
       "      <td>0</td>\n",
       "      <td>0</td>\n",
       "      <td>0</td>\n",
       "      <td>1</td>\n",
       "      <td>0</td>\n",
       "      <td>0</td>\n",
       "      <td>0</td>\n",
       "      <td>0</td>\n",
       "      <td>0</td>\n",
       "      <td>1</td>\n",
       "      <td>0.143</td>\n",
       "      <td>Europe</td>\n",
       "      <td>N/A</td>\n",
       "      <td>arts</td>\n",
       "    </tr>\n",
       "    <tr>\n",
       "      <th>71049</th>\n",
       "      <td>, 86, Czech football player .</td>\n",
       "      <td>https://en.wikipedia.org/wiki/Tadeusz_Kraus</td>\n",
       "      <td>4</td>\n",
       "      <td>2018</td>\n",
       "      <td>Sparta Prague, national team and manager Aris Limassol</td>\n",
       "      <td>86.000</td>\n",
       "      <td>None</td>\n",
       "      <td>Czech Republic</td>\n",
       "      <td>None</td>\n",
       "      <td>0</td>\n",
       "      <td>0</td>\n",
       "      <td>0</td>\n",
       "      <td>0</td>\n",
       "      <td>0</td>\n",
       "      <td>0</td>\n",
       "      <td>1</td>\n",
       "      <td>0</td>\n",
       "      <td>0</td>\n",
       "      <td>0</td>\n",
       "      <td>0</td>\n",
       "      <td>1</td>\n",
       "      <td>0.250</td>\n",
       "      <td>Europe</td>\n",
       "      <td>N/A</td>\n",
       "      <td>sports</td>\n",
       "    </tr>\n",
       "    <tr>\n",
       "      <th>47760</th>\n",
       "      <td>, 79, American Emmy Award-winning producer, director , leukemia-induced pneumonia.</td>\n",
       "      <td>https://en.wikipedia.org/wiki/Nancy_Malone</td>\n",
       "      <td>7</td>\n",
       "      <td>2014</td>\n",
       "      <td>and actress</td>\n",
       "      <td>79.000</td>\n",
       "      <td>leukemia induced pneumonia</td>\n",
       "      <td>United States of America</td>\n",
       "      <td>None</td>\n",
       "      <td>0</td>\n",
       "      <td>0</td>\n",
       "      <td>0</td>\n",
       "      <td>0</td>\n",
       "      <td>0</td>\n",
       "      <td>1</td>\n",
       "      <td>0</td>\n",
       "      <td>0</td>\n",
       "      <td>0</td>\n",
       "      <td>0</td>\n",
       "      <td>0</td>\n",
       "      <td>1</td>\n",
       "      <td>0.143</td>\n",
       "      <td>North America</td>\n",
       "      <td>N/A</td>\n",
       "      <td>arts</td>\n",
       "    </tr>\n",
       "    <tr>\n",
       "      <th>44173</th>\n",
       "      <td>, 67, Canadian actress .</td>\n",
       "      <td>https://en.wikipedia.org/wiki/Haji_(actress)</td>\n",
       "      <td>8</td>\n",
       "      <td>2013</td>\n",
       "      <td></td>\n",
       "      <td>67.000</td>\n",
       "      <td>None</td>\n",
       "      <td>Canada</td>\n",
       "      <td>None</td>\n",
       "      <td>0</td>\n",
       "      <td>0</td>\n",
       "      <td>0</td>\n",
       "      <td>0</td>\n",
       "      <td>0</td>\n",
       "      <td>1</td>\n",
       "      <td>0</td>\n",
       "      <td>0</td>\n",
       "      <td>0</td>\n",
       "      <td>0</td>\n",
       "      <td>0</td>\n",
       "      <td>1</td>\n",
       "      <td>0.125</td>\n",
       "      <td>North America</td>\n",
       "      <td>N/A</td>\n",
       "      <td>arts</td>\n",
       "    </tr>\n",
       "    <tr>\n",
       "      <th>18382</th>\n",
       "      <td>, 89, American oil well fire-fighter.</td>\n",
       "      <td>https://en.wikipedia.org/wiki/Red_Adair</td>\n",
       "      <td>9</td>\n",
       "      <td>2004</td>\n",
       "      <td>None</td>\n",
       "      <td>89.000</td>\n",
       "      <td>None</td>\n",
       "      <td>United States of America</td>\n",
       "      <td>None</td>\n",
       "      <td>0</td>\n",
       "      <td>0</td>\n",
       "      <td>0</td>\n",
       "      <td>0</td>\n",
       "      <td>0</td>\n",
       "      <td>0</td>\n",
       "      <td>0</td>\n",
       "      <td>1</td>\n",
       "      <td>0</td>\n",
       "      <td>0</td>\n",
       "      <td>0</td>\n",
       "      <td>1</td>\n",
       "      <td>0.111</td>\n",
       "      <td>North America</td>\n",
       "      <td>N/A</td>\n",
       "      <td>law_enf_military_operator</td>\n",
       "    </tr>\n",
       "  </tbody>\n",
       "</table>\n",
       "</div>"
      ],
      "text/plain": [
       "                                                                                     info  \\\n",
       "73792                                        , 62, Portuguese singer, pulmonary fibrosis.   \n",
       "71049                                                       , 86, Czech football player .   \n",
       "47760  , 79, American Emmy Award-winning producer, director , leukemia-induced pneumonia.   \n",
       "44173                                                            , 67, Canadian actress .   \n",
       "18382                                               , 89, American oil well fire-fighter.   \n",
       "\n",
       "                                               link  num_references  year  \\\n",
       "73792   https://en.wikipedia.org/wiki/Dina_(singer)               7  2019   \n",
       "71049   https://en.wikipedia.org/wiki/Tadeusz_Kraus               4  2018   \n",
       "47760    https://en.wikipedia.org/wiki/Nancy_Malone               7  2014   \n",
       "44173  https://en.wikipedia.org/wiki/Haji_(actress)               8  2013   \n",
       "18382       https://en.wikipedia.org/wiki/Red_Adair               9  2004   \n",
       "\n",
       "                                                 info_parenth    age  \\\n",
       "73792                                                    None 62.000   \n",
       "71049  Sparta Prague, national team and manager Aris Limassol 86.000   \n",
       "47760                                             and actress 79.000   \n",
       "44173                                                         67.000   \n",
       "18382                                                    None 89.000   \n",
       "\n",
       "                   cause_of_death                   place_1 place_2  sciences  \\\n",
       "73792          pulmonary fibrosis                  Portugal    None         0   \n",
       "71049                        None            Czech Republic    None         0   \n",
       "47760  leukemia induced pneumonia  United States of America    None         0   \n",
       "44173                        None                    Canada    None         0   \n",
       "18382                        None  United States of America    None         0   \n",
       "\n",
       "       social  spiritual  academia_humanities  business_farming  arts  sports  \\\n",
       "73792       0          0                    0                 0     1       0   \n",
       "71049       0          0                    0                 0     0       1   \n",
       "47760       0          0                    0                 0     1       0   \n",
       "44173       0          0                    0                 0     1       0   \n",
       "18382       0          0                    0                 0     0       0   \n",
       "\n",
       "       law_enf_military_operator  politics_govt_law  crime  \\\n",
       "73792                          0                  0      0   \n",
       "71049                          0                  0      0   \n",
       "47760                          0                  0      0   \n",
       "44173                          0                  0      0   \n",
       "18382                          1                  0      0   \n",
       "\n",
       "       event_record_other  num_categories  recip_num_references  \\\n",
       "73792                   0               1                 0.143   \n",
       "71049                   0               1                 0.250   \n",
       "47760                   0               1                 0.143   \n",
       "44173                   0               1                 0.125   \n",
       "18382                   0               1                 0.111   \n",
       "\n",
       "              region prior_region                  known_for  \n",
       "73792         Europe          N/A                       arts  \n",
       "71049         Europe          N/A                     sports  \n",
       "47760  North America          N/A                       arts  \n",
       "44173  North America          N/A                       arts  \n",
       "18382  North America          N/A  law_enf_military_operator  "
      ]
     },
     "execution_count": 4,
     "metadata": {},
     "output_type": "execute_result"
    },
    {
     "data": {
      "application/javascript": [
       "\n",
       "            setTimeout(function() {\n",
       "                var nbb_cell_id = 4;\n",
       "                var nbb_unformatted_code = \"# Checking a sample of the data\\ndf.sample(5)\";\n",
       "                var nbb_formatted_code = \"# Checking a sample of the data\\ndf.sample(5)\";\n",
       "                var nbb_cells = Jupyter.notebook.get_cells();\n",
       "                for (var i = 0; i < nbb_cells.length; ++i) {\n",
       "                    if (nbb_cells[i].input_prompt_number == nbb_cell_id) {\n",
       "                        if (nbb_cells[i].get_text() == nbb_unformatted_code) {\n",
       "                             nbb_cells[i].set_text(nbb_formatted_code);\n",
       "                        }\n",
       "                        break;\n",
       "                    }\n",
       "                }\n",
       "            }, 500);\n",
       "            "
      ],
      "text/plain": [
       "<IPython.core.display.Javascript object>"
      ]
     },
     "metadata": {},
     "output_type": "display_data"
    }
   ],
   "source": [
    "# Checking a sample of the data\n",
    "df.sample(5)"
   ]
  },
  {
   "cell_type": "markdown",
   "id": "8d5f29da",
   "metadata": {},
   "source": [
    "### Checking Data Types and Null Values"
   ]
  },
  {
   "cell_type": "code",
   "execution_count": 5,
   "id": "bf505f87",
   "metadata": {},
   "outputs": [
    {
     "name": "stdout",
     "output_type": "stream",
     "text": [
      "<class 'pandas.core.frame.DataFrame'>\n",
      "RangeIndex: 97549 entries, 0 to 97548\n",
      "Data columns (total 25 columns):\n",
      " #   Column                     Non-Null Count  Dtype  \n",
      "---  ------                     --------------  -----  \n",
      " 0   info                       97549 non-null  object \n",
      " 1   link                       97549 non-null  object \n",
      " 2   num_references             97549 non-null  int64  \n",
      " 3   year                       97549 non-null  int64  \n",
      " 4   info_parenth               36536 non-null  object \n",
      " 5   age                        97549 non-null  float64\n",
      " 6   cause_of_death             33179 non-null  object \n",
      " 7   place_1                    97406 non-null  object \n",
      " 8   place_2                    5442 non-null   object \n",
      " 9   sciences                   97549 non-null  int64  \n",
      " 10  social                     97549 non-null  int64  \n",
      " 11  spiritual                  97549 non-null  int64  \n",
      " 12  academia_humanities        97549 non-null  int64  \n",
      " 13  business_farming           97549 non-null  int64  \n",
      " 14  arts                       97549 non-null  int64  \n",
      " 15  sports                     97549 non-null  int64  \n",
      " 16  law_enf_military_operator  97549 non-null  int64  \n",
      " 17  politics_govt_law          97549 non-null  int64  \n",
      " 18  crime                      97549 non-null  int64  \n",
      " 19  event_record_other         97549 non-null  int64  \n",
      " 20  num_categories             97549 non-null  int64  \n",
      " 21  recip_num_references       97549 non-null  float64\n",
      " 22  region                     97406 non-null  object \n",
      " 23  prior_region               97549 non-null  object \n",
      " 24  known_for                  97549 non-null  object \n",
      "dtypes: float64(2), int64(14), object(9)\n",
      "memory usage: 18.6+ MB\n"
     ]
    },
    {
     "data": {
      "application/javascript": [
       "\n",
       "            setTimeout(function() {\n",
       "                var nbb_cell_id = 5;\n",
       "                var nbb_unformatted_code = \"# Checking data types and null values\\ndf.info()\";\n",
       "                var nbb_formatted_code = \"# Checking data types and null values\\ndf.info()\";\n",
       "                var nbb_cells = Jupyter.notebook.get_cells();\n",
       "                for (var i = 0; i < nbb_cells.length; ++i) {\n",
       "                    if (nbb_cells[i].input_prompt_number == nbb_cell_id) {\n",
       "                        if (nbb_cells[i].get_text() == nbb_unformatted_code) {\n",
       "                             nbb_cells[i].set_text(nbb_formatted_code);\n",
       "                        }\n",
       "                        break;\n",
       "                    }\n",
       "                }\n",
       "            }, 500);\n",
       "            "
      ],
      "text/plain": [
       "<IPython.core.display.Javascript object>"
      ]
     },
     "metadata": {},
     "output_type": "display_data"
    }
   ],
   "source": [
    "# Checking data types and null values\n",
    "df.info()"
   ]
  },
  {
   "cell_type": "markdown",
   "id": "c459d7f8",
   "metadata": {},
   "source": [
    "#### Observations:\n",
    "- There are 97549 rows and 25 columns.\n",
    "- With our dataset loaded, we begin data pre-processing.\n",
    "- We will need to typecast our categorical columns again, after dropping unnecessary columns."
   ]
  },
  {
   "cell_type": "markdown",
   "id": "dd2b9ebb",
   "metadata": {},
   "source": [
    "## Data Pre-processing\n",
    "- At the outset, we can drop the following columns:\n",
    "    - `num_references`\n",
    "    - `cause_of_death`\n",
    "    - `place_1`\n",
    "    - `place_2`\n",
    "- We can also drop the entries with `event_record_other` as their sole `known_for` category.\n",
    "- Let us convert `year` to elapsed `years`, equating 1994 with 0, and assigning the accumulated years.\n",
    "- We will make a decision regarding `known_for`, `num_categories`, and `known for` category columns and drop the extraneous columns after treatment.\n",
    "- After outlier detection is complete, we can drop `info`, `info_parenth`, and `link` columns."
   ]
  },
  {
   "cell_type": "code",
   "execution_count": 6,
   "id": "1247f8ed",
   "metadata": {},
   "outputs": [
    {
     "data": {
      "text/plain": [
       "(97549, 21)"
      ]
     },
     "execution_count": 6,
     "metadata": {},
     "output_type": "execute_result"
    },
    {
     "data": {
      "application/javascript": [
       "\n",
       "            setTimeout(function() {\n",
       "                var nbb_cell_id = 6;\n",
       "                var nbb_unformatted_code = \"# Dropping unnecessary columns\\ncols_to_drop = [\\\"num_references\\\", \\\"cause_of_death\\\", \\\"place_1\\\", \\\"place_2\\\"]\\ndf.drop(cols_to_drop, axis=1, inplace=True)\\n\\n# Checking new shape\\ndf.shape\";\n",
       "                var nbb_formatted_code = \"# Dropping unnecessary columns\\ncols_to_drop = [\\\"num_references\\\", \\\"cause_of_death\\\", \\\"place_1\\\", \\\"place_2\\\"]\\ndf.drop(cols_to_drop, axis=1, inplace=True)\\n\\n# Checking new shape\\ndf.shape\";\n",
       "                var nbb_cells = Jupyter.notebook.get_cells();\n",
       "                for (var i = 0; i < nbb_cells.length; ++i) {\n",
       "                    if (nbb_cells[i].input_prompt_number == nbb_cell_id) {\n",
       "                        if (nbb_cells[i].get_text() == nbb_unformatted_code) {\n",
       "                             nbb_cells[i].set_text(nbb_formatted_code);\n",
       "                        }\n",
       "                        break;\n",
       "                    }\n",
       "                }\n",
       "            }, 500);\n",
       "            "
      ],
      "text/plain": [
       "<IPython.core.display.Javascript object>"
      ]
     },
     "metadata": {},
     "output_type": "display_data"
    }
   ],
   "source": [
    "# Dropping unnecessary columns\n",
    "cols_to_drop = [\"num_references\", \"cause_of_death\", \"place_1\", \"place_2\"]\n",
    "df.drop(cols_to_drop, axis=1, inplace=True)\n",
    "\n",
    "# Checking new shape\n",
    "df.shape"
   ]
  },
  {
   "cell_type": "markdown",
   "id": "10611afd",
   "metadata": {},
   "source": [
    "#### Dropping Entries with `event_record_other` as Sole Category"
   ]
  },
  {
   "cell_type": "code",
   "execution_count": 7,
   "id": "38fc921b",
   "metadata": {},
   "outputs": [
    {
     "data": {
      "text/plain": [
       "(97092, 21)"
      ]
     },
     "execution_count": 7,
     "metadata": {},
     "output_type": "execute_result"
    },
    {
     "data": {
      "application/javascript": [
       "\n",
       "            setTimeout(function() {\n",
       "                var nbb_cell_id = 7;\n",
       "                var nbb_unformatted_code = \"# Dropping entries with event_record_other as sole category\\nindex = df[df[\\\"known_for\\\"] == \\\"event_record_other\\\"].index\\ndf.drop(index, inplace=True)\\ndf.reset_index(inplace=True, drop=True)\\n\\n# Check new shape\\ndf.shape\";\n",
       "                var nbb_formatted_code = \"# Dropping entries with event_record_other as sole category\\nindex = df[df[\\\"known_for\\\"] == \\\"event_record_other\\\"].index\\ndf.drop(index, inplace=True)\\ndf.reset_index(inplace=True, drop=True)\\n\\n# Check new shape\\ndf.shape\";\n",
       "                var nbb_cells = Jupyter.notebook.get_cells();\n",
       "                for (var i = 0; i < nbb_cells.length; ++i) {\n",
       "                    if (nbb_cells[i].input_prompt_number == nbb_cell_id) {\n",
       "                        if (nbb_cells[i].get_text() == nbb_unformatted_code) {\n",
       "                             nbb_cells[i].set_text(nbb_formatted_code);\n",
       "                        }\n",
       "                        break;\n",
       "                    }\n",
       "                }\n",
       "            }, 500);\n",
       "            "
      ],
      "text/plain": [
       "<IPython.core.display.Javascript object>"
      ]
     },
     "metadata": {},
     "output_type": "display_data"
    }
   ],
   "source": [
    "# Dropping entries with event_record_other as sole category\n",
    "index = df[df[\"known_for\"] == \"event_record_other\"].index\n",
    "df.drop(index, inplace=True)\n",
    "df.reset_index(inplace=True, drop=True)\n",
    "\n",
    "# Check new shape\n",
    "df.shape"
   ]
  },
  {
   "cell_type": "markdown",
   "id": "0bf8ebcc",
   "metadata": {},
   "source": [
    "#### Typecasting Categorical Columns"
   ]
  },
  {
   "cell_type": "code",
   "execution_count": 8,
   "id": "0a666ba3",
   "metadata": {},
   "outputs": [
    {
     "data": {
      "application/javascript": [
       "\n",
       "            setTimeout(function() {\n",
       "                var nbb_cell_id = 8;\n",
       "                var nbb_unformatted_code = \"# Typecasting categorical columns\\ncols_to_cast = [\\\"region\\\", \\\"prior_region\\\", \\\"known_for\\\"]\\ndf[cols_to_cast] = df[cols_to_cast].astype(\\\"category\\\")\";\n",
       "                var nbb_formatted_code = \"# Typecasting categorical columns\\ncols_to_cast = [\\\"region\\\", \\\"prior_region\\\", \\\"known_for\\\"]\\ndf[cols_to_cast] = df[cols_to_cast].astype(\\\"category\\\")\";\n",
       "                var nbb_cells = Jupyter.notebook.get_cells();\n",
       "                for (var i = 0; i < nbb_cells.length; ++i) {\n",
       "                    if (nbb_cells[i].input_prompt_number == nbb_cell_id) {\n",
       "                        if (nbb_cells[i].get_text() == nbb_unformatted_code) {\n",
       "                             nbb_cells[i].set_text(nbb_formatted_code);\n",
       "                        }\n",
       "                        break;\n",
       "                    }\n",
       "                }\n",
       "            }, 500);\n",
       "            "
      ],
      "text/plain": [
       "<IPython.core.display.Javascript object>"
      ]
     },
     "metadata": {},
     "output_type": "display_data"
    }
   ],
   "source": [
    "# Typecasting categorical columns\n",
    "cols_to_cast = [\"region\", \"prior_region\", \"known_for\"]\n",
    "df[cols_to_cast] = df[cols_to_cast].astype(\"category\")"
   ]
  },
  {
   "cell_type": "markdown",
   "id": "9c840b76",
   "metadata": {},
   "source": [
    "#### Adding `years_elapsed`"
   ]
  },
  {
   "cell_type": "code",
   "execution_count": 9,
   "id": "956c63dc",
   "metadata": {},
   "outputs": [
    {
     "data": {
      "text/html": [
       "<div>\n",
       "<style scoped>\n",
       "    .dataframe tbody tr th:only-of-type {\n",
       "        vertical-align: middle;\n",
       "    }\n",
       "\n",
       "    .dataframe tbody tr th {\n",
       "        vertical-align: top;\n",
       "    }\n",
       "\n",
       "    .dataframe thead th {\n",
       "        text-align: right;\n",
       "    }\n",
       "</style>\n",
       "<table border=\"1\" class=\"dataframe\">\n",
       "  <thead>\n",
       "    <tr style=\"text-align: right;\">\n",
       "      <th></th>\n",
       "      <th>info</th>\n",
       "      <th>link</th>\n",
       "      <th>year</th>\n",
       "      <th>info_parenth</th>\n",
       "      <th>age</th>\n",
       "      <th>sciences</th>\n",
       "      <th>social</th>\n",
       "      <th>spiritual</th>\n",
       "      <th>academia_humanities</th>\n",
       "      <th>business_farming</th>\n",
       "      <th>arts</th>\n",
       "      <th>sports</th>\n",
       "      <th>law_enf_military_operator</th>\n",
       "      <th>politics_govt_law</th>\n",
       "      <th>crime</th>\n",
       "      <th>event_record_other</th>\n",
       "      <th>num_categories</th>\n",
       "      <th>recip_num_references</th>\n",
       "      <th>region</th>\n",
       "      <th>prior_region</th>\n",
       "      <th>known_for</th>\n",
       "      <th>years</th>\n",
       "    </tr>\n",
       "  </thead>\n",
       "  <tbody>\n",
       "    <tr>\n",
       "      <th>18031</th>\n",
       "      <td>, 52, American actor, best known for playing Marco Dane on the TV show .</td>\n",
       "      <td>https://en.wikipedia.org/wiki/Gerald_Anthony</td>\n",
       "      <td>2004</td>\n",
       "      <td>None</td>\n",
       "      <td>52.000</td>\n",
       "      <td>0</td>\n",
       "      <td>0</td>\n",
       "      <td>0</td>\n",
       "      <td>0</td>\n",
       "      <td>0</td>\n",
       "      <td>1</td>\n",
       "      <td>0</td>\n",
       "      <td>0</td>\n",
       "      <td>0</td>\n",
       "      <td>0</td>\n",
       "      <td>0</td>\n",
       "      <td>1</td>\n",
       "      <td>0.167</td>\n",
       "      <td>North America</td>\n",
       "      <td>N/A</td>\n",
       "      <td>arts</td>\n",
       "      <td>10</td>\n",
       "    </tr>\n",
       "    <tr>\n",
       "      <th>79801</th>\n",
       "      <td>, 80, Bangladeshi politician, MP .</td>\n",
       "      <td>https://en.wikipedia.org/wiki/M._A._Jabbar_(politician,_born_1940)</td>\n",
       "      <td>2020</td>\n",
       "      <td>2008 2014</td>\n",
       "      <td>80.000</td>\n",
       "      <td>0</td>\n",
       "      <td>0</td>\n",
       "      <td>0</td>\n",
       "      <td>0</td>\n",
       "      <td>0</td>\n",
       "      <td>0</td>\n",
       "      <td>0</td>\n",
       "      <td>0</td>\n",
       "      <td>1</td>\n",
       "      <td>0</td>\n",
       "      <td>0</td>\n",
       "      <td>1</td>\n",
       "      <td>0.250</td>\n",
       "      <td>Asia</td>\n",
       "      <td>N/A</td>\n",
       "      <td>politics_govt_law</td>\n",
       "      <td>26</td>\n",
       "    </tr>\n",
       "  </tbody>\n",
       "</table>\n",
       "</div>"
      ],
      "text/plain": [
       "                                                                           info  \\\n",
       "18031  , 52, American actor, best known for playing Marco Dane on the TV show .   \n",
       "79801                                        , 80, Bangladeshi politician, MP .   \n",
       "\n",
       "                                                                     link  \\\n",
       "18031                        https://en.wikipedia.org/wiki/Gerald_Anthony   \n",
       "79801  https://en.wikipedia.org/wiki/M._A._Jabbar_(politician,_born_1940)   \n",
       "\n",
       "       year info_parenth    age  sciences  social  spiritual  \\\n",
       "18031  2004         None 52.000         0       0          0   \n",
       "79801  2020    2008 2014 80.000         0       0          0   \n",
       "\n",
       "       academia_humanities  business_farming  arts  sports  \\\n",
       "18031                    0                 0     1       0   \n",
       "79801                    0                 0     0       0   \n",
       "\n",
       "       law_enf_military_operator  politics_govt_law  crime  \\\n",
       "18031                          0                  0      0   \n",
       "79801                          0                  1      0   \n",
       "\n",
       "       event_record_other  num_categories  recip_num_references  \\\n",
       "18031                   0               1                 0.167   \n",
       "79801                   0               1                 0.250   \n",
       "\n",
       "              region prior_region          known_for  years  \n",
       "18031  North America          N/A               arts     10  \n",
       "79801           Asia          N/A  politics_govt_law     26  "
      ]
     },
     "execution_count": 9,
     "metadata": {},
     "output_type": "execute_result"
    },
    {
     "data": {
      "application/javascript": [
       "\n",
       "            setTimeout(function() {\n",
       "                var nbb_cell_id = 9;\n",
       "                var nbb_unformatted_code = \"# Adding years_elapsed column\\ndf[\\\"years\\\"] = df[\\\"year\\\"].apply(lambda x: x - 1994)\\n\\n# Checking a sample\\ndf.sample(2)\";\n",
       "                var nbb_formatted_code = \"# Adding years_elapsed column\\ndf[\\\"years\\\"] = df[\\\"year\\\"].apply(lambda x: x - 1994)\\n\\n# Checking a sample\\ndf.sample(2)\";\n",
       "                var nbb_cells = Jupyter.notebook.get_cells();\n",
       "                for (var i = 0; i < nbb_cells.length; ++i) {\n",
       "                    if (nbb_cells[i].input_prompt_number == nbb_cell_id) {\n",
       "                        if (nbb_cells[i].get_text() == nbb_unformatted_code) {\n",
       "                             nbb_cells[i].set_text(nbb_formatted_code);\n",
       "                        }\n",
       "                        break;\n",
       "                    }\n",
       "                }\n",
       "            }, 500);\n",
       "            "
      ],
      "text/plain": [
       "<IPython.core.display.Javascript object>"
      ]
     },
     "metadata": {},
     "output_type": "display_data"
    }
   ],
   "source": [
    "# Adding years_elapsed column\n",
    "df[\"years\"] = df[\"year\"].apply(lambda x: x - 1994)\n",
    "\n",
    "# Checking a sample\n",
    "df.sample(2)"
   ]
  },
  {
   "cell_type": "markdown",
   "id": "ecb99825",
   "metadata": {},
   "source": [
    "#### Dropping `year`"
   ]
  },
  {
   "cell_type": "code",
   "execution_count": 10,
   "id": "adf6b2f6",
   "metadata": {},
   "outputs": [
    {
     "data": {
      "application/javascript": [
       "\n",
       "            setTimeout(function() {\n",
       "                var nbb_cell_id = 10;\n",
       "                var nbb_unformatted_code = \"# Dropping year column\\ndf.drop(\\\"year\\\", axis=1, inplace=True)\";\n",
       "                var nbb_formatted_code = \"# Dropping year column\\ndf.drop(\\\"year\\\", axis=1, inplace=True)\";\n",
       "                var nbb_cells = Jupyter.notebook.get_cells();\n",
       "                for (var i = 0; i < nbb_cells.length; ++i) {\n",
       "                    if (nbb_cells[i].input_prompt_number == nbb_cell_id) {\n",
       "                        if (nbb_cells[i].get_text() == nbb_unformatted_code) {\n",
       "                             nbb_cells[i].set_text(nbb_formatted_code);\n",
       "                        }\n",
       "                        break;\n",
       "                    }\n",
       "                }\n",
       "            }, 500);\n",
       "            "
      ],
      "text/plain": [
       "<IPython.core.display.Javascript object>"
      ]
     },
     "metadata": {},
     "output_type": "display_data"
    }
   ],
   "source": [
    "# Dropping year column\n",
    "df.drop(\"year\", axis=1, inplace=True)"
   ]
  },
  {
   "cell_type": "markdown",
   "id": "6cb06925",
   "metadata": {},
   "source": [
    "### Treating `known_for` Categories\n",
    "We will take the approach of dropping the `known_for`column that was added during EDA and keeping and treating the individual `known for` category columns.\n",
    "\n",
    "We will replace each value with its value divided by then entries total `num_categories`.  So, the resulting `num_categories` for any individual will equal 1.  Entries with multiple categories will have evenly split values for their respective `known for` categories.  Strictly speaking, it's not feasible to accurately assign proportions of these categories, which is why the approach of creating a single `known_for` column was applied during EDA, with additional categories for individuals with multiple categories.  The thought process here is that relatively more information is lost with that approach than noise will be introduced with equal division between categories."
   ]
  },
  {
   "cell_type": "markdown",
   "id": "f86a30f2",
   "metadata": {},
   "source": [
    "#### Dividing `known for` Category Column Value by `num_categories`"
   ]
  },
  {
   "cell_type": "code",
   "execution_count": 11,
   "id": "28461ec6",
   "metadata": {},
   "outputs": [
    {
     "name": "stdout",
     "output_type": "stream",
     "text": [
      "Unique values in num_categories:\n",
      "\n",
      " 1.000    97092\n",
      "Name: num_categories, dtype: int64\n"
     ]
    },
    {
     "data": {
      "text/html": [
       "<div>\n",
       "<style scoped>\n",
       "    .dataframe tbody tr th:only-of-type {\n",
       "        vertical-align: middle;\n",
       "    }\n",
       "\n",
       "    .dataframe tbody tr th {\n",
       "        vertical-align: top;\n",
       "    }\n",
       "\n",
       "    .dataframe thead th {\n",
       "        text-align: right;\n",
       "    }\n",
       "</style>\n",
       "<table border=\"1\" class=\"dataframe\">\n",
       "  <thead>\n",
       "    <tr style=\"text-align: right;\">\n",
       "      <th></th>\n",
       "      <th>info</th>\n",
       "      <th>link</th>\n",
       "      <th>info_parenth</th>\n",
       "      <th>age</th>\n",
       "      <th>sciences</th>\n",
       "      <th>social</th>\n",
       "      <th>spiritual</th>\n",
       "      <th>academia_humanities</th>\n",
       "      <th>business_farming</th>\n",
       "      <th>arts</th>\n",
       "      <th>sports</th>\n",
       "      <th>law_enf_military_operator</th>\n",
       "      <th>politics_govt_law</th>\n",
       "      <th>crime</th>\n",
       "      <th>event_record_other</th>\n",
       "      <th>num_categories</th>\n",
       "      <th>recip_num_references</th>\n",
       "      <th>region</th>\n",
       "      <th>prior_region</th>\n",
       "      <th>known_for</th>\n",
       "      <th>years</th>\n",
       "    </tr>\n",
       "  </thead>\n",
       "  <tbody>\n",
       "    <tr>\n",
       "      <th>75029</th>\n",
       "      <td>, 70, American senior judge , liver cancer.</td>\n",
       "      <td>https://en.wikipedia.org/wiki/Jerome_B._Simandle</td>\n",
       "      <td>U S District Court for the District of New Jersey</td>\n",
       "      <td>70.000</td>\n",
       "      <td>0.000</td>\n",
       "      <td>0.000</td>\n",
       "      <td>0.000</td>\n",
       "      <td>0.000</td>\n",
       "      <td>0.000</td>\n",
       "      <td>0.000</td>\n",
       "      <td>0.000</td>\n",
       "      <td>0.000</td>\n",
       "      <td>1.000</td>\n",
       "      <td>0.000</td>\n",
       "      <td>0.000</td>\n",
       "      <td>1.000</td>\n",
       "      <td>0.333</td>\n",
       "      <td>North America</td>\n",
       "      <td>N/A</td>\n",
       "      <td>politics_govt_law</td>\n",
       "      <td>25</td>\n",
       "    </tr>\n",
       "    <tr>\n",
       "      <th>43797</th>\n",
       "      <td>, 73, American anthropologist, cancer.</td>\n",
       "      <td>https://en.wikipedia.org/wiki/Keith_H._Basso</td>\n",
       "      <td>None</td>\n",
       "      <td>73.000</td>\n",
       "      <td>0.000</td>\n",
       "      <td>0.000</td>\n",
       "      <td>0.000</td>\n",
       "      <td>1.000</td>\n",
       "      <td>0.000</td>\n",
       "      <td>0.000</td>\n",
       "      <td>0.000</td>\n",
       "      <td>0.000</td>\n",
       "      <td>0.000</td>\n",
       "      <td>0.000</td>\n",
       "      <td>0.000</td>\n",
       "      <td>1.000</td>\n",
       "      <td>0.167</td>\n",
       "      <td>North America</td>\n",
       "      <td>N/A</td>\n",
       "      <td>academia_humanities</td>\n",
       "      <td>19</td>\n",
       "    </tr>\n",
       "  </tbody>\n",
       "</table>\n",
       "</div>"
      ],
      "text/plain": [
       "                                              info  \\\n",
       "75029  , 70, American senior judge , liver cancer.   \n",
       "43797       , 73, American anthropologist, cancer.   \n",
       "\n",
       "                                                   link  \\\n",
       "75029  https://en.wikipedia.org/wiki/Jerome_B._Simandle   \n",
       "43797      https://en.wikipedia.org/wiki/Keith_H._Basso   \n",
       "\n",
       "                                            info_parenth    age  sciences  \\\n",
       "75029  U S District Court for the District of New Jersey 70.000     0.000   \n",
       "43797                                               None 73.000     0.000   \n",
       "\n",
       "       social  spiritual  academia_humanities  business_farming  arts  sports  \\\n",
       "75029   0.000      0.000                0.000             0.000 0.000   0.000   \n",
       "43797   0.000      0.000                1.000             0.000 0.000   0.000   \n",
       "\n",
       "       law_enf_military_operator  politics_govt_law  crime  \\\n",
       "75029                      0.000              1.000  0.000   \n",
       "43797                      0.000              0.000  0.000   \n",
       "\n",
       "       event_record_other  num_categories  recip_num_references  \\\n",
       "75029               0.000           1.000                 0.333   \n",
       "43797               0.000           1.000                 0.167   \n",
       "\n",
       "              region prior_region            known_for  years  \n",
       "75029  North America          N/A    politics_govt_law     25  \n",
       "43797  North America          N/A  academia_humanities     19  "
      ]
     },
     "execution_count": 11,
     "metadata": {},
     "output_type": "execute_result"
    },
    {
     "data": {
      "application/javascript": [
       "\n",
       "            setTimeout(function() {\n",
       "                var nbb_cell_id = 11;\n",
       "                var nbb_unformatted_code = \"# Replacing known for category column values with value/num_categories\\ncategory_cols = [\\n    \\\"sciences\\\",\\n    \\\"social\\\",\\n    \\\"spiritual\\\",\\n    \\\"academia_humanities\\\",\\n    \\\"business_farming\\\",\\n    \\\"arts\\\",\\n    \\\"sports\\\",\\n    \\\"law_enf_military_operator\\\",\\n    \\\"politics_govt_law\\\",\\n    \\\"crime\\\",\\n    \\\"event_record_other\\\",\\n]\\n\\n# For loop to calculate new known for value for entries with multiple categories\\nfor column in category_cols:\\n    for index in df[\\n        (df[\\\"known_for\\\"] == \\\"three_to_five\\\") | (df[\\\"known_for\\\"] == \\\"two\\\")\\n    ].index:\\n        value = df.loc[index, column]\\n        total = df.loc[index, \\\"num_categories\\\"]\\n        df.loc[index, column] = value / total\\n\\n# Updating num_references column\\ndf[\\\"num_categories\\\"] = df[category_cols].sum(axis=1)\\n\\n# Checking unique values in num_categories\\nprint(\\\"Unique values in num_categories:\\\\n\\\\n\\\", df[\\\"num_categories\\\"].value_counts())\\n\\n# Checking a sample of rows\\ndf.sample(2)\";\n",
       "                var nbb_formatted_code = \"# Replacing known for category column values with value/num_categories\\ncategory_cols = [\\n    \\\"sciences\\\",\\n    \\\"social\\\",\\n    \\\"spiritual\\\",\\n    \\\"academia_humanities\\\",\\n    \\\"business_farming\\\",\\n    \\\"arts\\\",\\n    \\\"sports\\\",\\n    \\\"law_enf_military_operator\\\",\\n    \\\"politics_govt_law\\\",\\n    \\\"crime\\\",\\n    \\\"event_record_other\\\",\\n]\\n\\n# For loop to calculate new known for value for entries with multiple categories\\nfor column in category_cols:\\n    for index in df[\\n        (df[\\\"known_for\\\"] == \\\"three_to_five\\\") | (df[\\\"known_for\\\"] == \\\"two\\\")\\n    ].index:\\n        value = df.loc[index, column]\\n        total = df.loc[index, \\\"num_categories\\\"]\\n        df.loc[index, column] = value / total\\n\\n# Updating num_references column\\ndf[\\\"num_categories\\\"] = df[category_cols].sum(axis=1)\\n\\n# Checking unique values in num_categories\\nprint(\\\"Unique values in num_categories:\\\\n\\\\n\\\", df[\\\"num_categories\\\"].value_counts())\\n\\n# Checking a sample of rows\\ndf.sample(2)\";\n",
       "                var nbb_cells = Jupyter.notebook.get_cells();\n",
       "                for (var i = 0; i < nbb_cells.length; ++i) {\n",
       "                    if (nbb_cells[i].input_prompt_number == nbb_cell_id) {\n",
       "                        if (nbb_cells[i].get_text() == nbb_unformatted_code) {\n",
       "                             nbb_cells[i].set_text(nbb_formatted_code);\n",
       "                        }\n",
       "                        break;\n",
       "                    }\n",
       "                }\n",
       "            }, 500);\n",
       "            "
      ],
      "text/plain": [
       "<IPython.core.display.Javascript object>"
      ]
     },
     "metadata": {},
     "output_type": "display_data"
    }
   ],
   "source": [
    "# Replacing known for category column values with value/num_categories\n",
    "category_cols = [\n",
    "    \"sciences\",\n",
    "    \"social\",\n",
    "    \"spiritual\",\n",
    "    \"academia_humanities\",\n",
    "    \"business_farming\",\n",
    "    \"arts\",\n",
    "    \"sports\",\n",
    "    \"law_enf_military_operator\",\n",
    "    \"politics_govt_law\",\n",
    "    \"crime\",\n",
    "    \"event_record_other\",\n",
    "]\n",
    "\n",
    "# For loop to calculate new known for value for entries with multiple categories\n",
    "for column in category_cols:\n",
    "    for index in df[\n",
    "        (df[\"known_for\"] == \"three_to_five\") | (df[\"known_for\"] == \"two\")\n",
    "    ].index:\n",
    "        value = df.loc[index, column]\n",
    "        total = df.loc[index, \"num_categories\"]\n",
    "        df.loc[index, column] = value / total\n",
    "\n",
    "# Updating num_references column\n",
    "df[\"num_categories\"] = df[category_cols].sum(axis=1)\n",
    "\n",
    "# Checking unique values in num_categories\n",
    "print(\"Unique values in num_categories:\\n\\n\", df[\"num_categories\"].value_counts())\n",
    "\n",
    "# Checking a sample of rows\n",
    "df.sample(2)"
   ]
  },
  {
   "cell_type": "markdown",
   "id": "3b7b7456",
   "metadata": {},
   "source": [
    "#### Observations:\n",
    "- With the updated `known for` category column values, we can proceed to drop `num_categories` and `known_for` columns."
   ]
  },
  {
   "cell_type": "markdown",
   "id": "4912c31b",
   "metadata": {},
   "source": [
    "#### Dropping `num_categories` and `known_for`"
   ]
  },
  {
   "cell_type": "code",
   "execution_count": 12,
   "id": "94a98ac6",
   "metadata": {},
   "outputs": [
    {
     "data": {
      "text/plain": [
       "(97092, 19)"
      ]
     },
     "execution_count": 12,
     "metadata": {},
     "output_type": "execute_result"
    },
    {
     "data": {
      "application/javascript": [
       "\n",
       "            setTimeout(function() {\n",
       "                var nbb_cell_id = 12;\n",
       "                var nbb_unformatted_code = \"# Dropping num_categories and known_for columns\\ncols_to_drop = [\\\"num_categories\\\", \\\"known_for\\\"]\\ndf.drop(cols_to_drop, axis=1, inplace=True)\\n\\n# Check new shape\\ndf.shape\";\n",
       "                var nbb_formatted_code = \"# Dropping num_categories and known_for columns\\ncols_to_drop = [\\\"num_categories\\\", \\\"known_for\\\"]\\ndf.drop(cols_to_drop, axis=1, inplace=True)\\n\\n# Check new shape\\ndf.shape\";\n",
       "                var nbb_cells = Jupyter.notebook.get_cells();\n",
       "                for (var i = 0; i < nbb_cells.length; ++i) {\n",
       "                    if (nbb_cells[i].input_prompt_number == nbb_cell_id) {\n",
       "                        if (nbb_cells[i].get_text() == nbb_unformatted_code) {\n",
       "                             nbb_cells[i].set_text(nbb_formatted_code);\n",
       "                        }\n",
       "                        break;\n",
       "                    }\n",
       "                }\n",
       "            }, 500);\n",
       "            "
      ],
      "text/plain": [
       "<IPython.core.display.Javascript object>"
      ]
     },
     "metadata": {},
     "output_type": "display_data"
    }
   ],
   "source": [
    "# Dropping num_categories and known_for columns\n",
    "cols_to_drop = [\"num_categories\", \"known_for\"]\n",
    "df.drop(cols_to_drop, axis=1, inplace=True)\n",
    "\n",
    "# Check new shape\n",
    "df.shape"
   ]
  },
  {
   "cell_type": "markdown",
   "id": "8b926df1",
   "metadata": {},
   "source": [
    "## Splitting Dataset"
   ]
  },
  {
   "cell_type": "code",
   "execution_count": null,
   "id": "4291e2e9",
   "metadata": {},
   "outputs": [],
   "source": []
  },
  {
   "cell_type": "code",
   "execution_count": null,
   "id": "3025996b",
   "metadata": {},
   "outputs": [],
   "source": []
  },
  {
   "cell_type": "code",
   "execution_count": null,
   "id": "799e7592",
   "metadata": {},
   "outputs": [],
   "source": []
  },
  {
   "cell_type": "code",
   "execution_count": null,
   "id": "9908b3b2",
   "metadata": {},
   "outputs": [],
   "source": []
  },
  {
   "cell_type": "code",
   "execution_count": null,
   "id": "b099e1e5",
   "metadata": {},
   "outputs": [],
   "source": []
  },
  {
   "cell_type": "code",
   "execution_count": 13,
   "id": "711a7623",
   "metadata": {},
   "outputs": [
    {
     "name": "stdout",
     "output_type": "stream",
     "text": [
      "<class 'pandas.core.frame.DataFrame'>\n",
      "RangeIndex: 97092 entries, 0 to 97091\n",
      "Data columns (total 19 columns):\n",
      " #   Column                     Non-Null Count  Dtype   \n",
      "---  ------                     --------------  -----   \n",
      " 0   info                       97092 non-null  object  \n",
      " 1   link                       97092 non-null  object  \n",
      " 2   info_parenth               36507 non-null  object  \n",
      " 3   age                        97092 non-null  float64 \n",
      " 4   sciences                   97092 non-null  float64 \n",
      " 5   social                     97092 non-null  float64 \n",
      " 6   spiritual                  97092 non-null  float64 \n",
      " 7   academia_humanities        97092 non-null  float64 \n",
      " 8   business_farming           97092 non-null  float64 \n",
      " 9   arts                       97092 non-null  float64 \n",
      " 10  sports                     97092 non-null  float64 \n",
      " 11  law_enf_military_operator  97092 non-null  float64 \n",
      " 12  politics_govt_law          97092 non-null  float64 \n",
      " 13  crime                      97092 non-null  float64 \n",
      " 14  event_record_other         97092 non-null  float64 \n",
      " 15  recip_num_references       97092 non-null  float64 \n",
      " 16  region                     96957 non-null  category\n",
      " 17  prior_region               97092 non-null  category\n",
      " 18  years                      97092 non-null  int64   \n",
      "dtypes: category(2), float64(13), int64(1), object(3)\n",
      "memory usage: 12.8+ MB\n"
     ]
    },
    {
     "data": {
      "application/javascript": [
       "\n",
       "            setTimeout(function() {\n",
       "                var nbb_cell_id = 13;\n",
       "                var nbb_unformatted_code = \"df.info()\";\n",
       "                var nbb_formatted_code = \"df.info()\";\n",
       "                var nbb_cells = Jupyter.notebook.get_cells();\n",
       "                for (var i = 0; i < nbb_cells.length; ++i) {\n",
       "                    if (nbb_cells[i].input_prompt_number == nbb_cell_id) {\n",
       "                        if (nbb_cells[i].get_text() == nbb_unformatted_code) {\n",
       "                             nbb_cells[i].set_text(nbb_formatted_code);\n",
       "                        }\n",
       "                        break;\n",
       "                    }\n",
       "                }\n",
       "            }, 500);\n",
       "            "
      ],
      "text/plain": [
       "<IPython.core.display.Javascript object>"
      ]
     },
     "metadata": {},
     "output_type": "display_data"
    }
   ],
   "source": [
    "df.info()"
   ]
  },
  {
   "cell_type": "code",
   "execution_count": null,
   "id": "fc39800b",
   "metadata": {},
   "outputs": [],
   "source": []
  },
  {
   "cell_type": "code",
   "execution_count": null,
   "id": "2075858e",
   "metadata": {},
   "outputs": [],
   "source": []
  },
  {
   "cell_type": "code",
   "execution_count": null,
   "id": "e6a97655",
   "metadata": {},
   "outputs": [],
   "source": []
  },
  {
   "cell_type": "code",
   "execution_count": null,
   "id": "79fcfe21",
   "metadata": {},
   "outputs": [],
   "source": []
  },
  {
   "cell_type": "markdown",
   "id": "0caa2c25",
   "metadata": {},
   "source": [
    "## Outlier Detection"
   ]
  },
  {
   "cell_type": "markdown",
   "id": "e955257c",
   "metadata": {},
   "source": [
    "#### Function to View Outliers for Each Predictor Column"
   ]
  },
  {
   "cell_type": "code",
   "execution_count": 14,
   "id": "2f1215fe",
   "metadata": {},
   "outputs": [
    {
     "data": {
      "application/javascript": [
       "\n",
       "            setTimeout(function() {\n",
       "                var nbb_cell_id = 14;\n",
       "                var nbb_unformatted_code = \"# Define a function that returns new dataframe of count and percentage of outliers of input dataframe columns\\ndef outside_IQRends_pls1pt5(dataframe):\\n    \\\"\\\"\\\"\\n    Takes input numeric dataframe and returns a dataframe of the column count \\n    and percentage of values that are outliers, defined by \\n    x < (Q1 - 1.5*IQR) \\u222a (Q3 + 1.5*IQR) > x, where x is the value of the outlier.\\n\\n    \\\"\\\"\\\"\\n    count_lst = []\\n    perc_lst = []\\n\\n    for column in dataframe:\\n        Q1 = dataframe[column].quantile(0.25)\\n        Q3 = dataframe[column].quantile(0.75)\\n        IQR = Q3 - Q1\\n        lower_whisker = Q1 - 1.5 * IQR\\n        upper_whisker = Q3 + 1.5 * IQR\\n\\n        count = len(\\n            dataframe[\\n                (dataframe[column] < lower_whisker)\\n                | (dataframe[column] > upper_whisker)\\n            ]\\n        )\\n        percentage = round(count / len(dataframe[column]) * 100, 2)\\n\\n        count_lst.append(count)\\n        perc_lst.append(percentage)\\n\\n    outlier_dict = {\\\"outlier_count\\\": count_lst, \\\"percentage_outliers\\\": perc_lst}\\n\\n    return pd.DataFrame(data=outlier_dict, index=dataframe.columns).sort_values(\\n        by=\\\"outlier_count\\\", ascending=False\\n    )\";\n",
       "                var nbb_formatted_code = \"# Define a function that returns new dataframe of count and percentage of outliers of input dataframe columns\\ndef outside_IQRends_pls1pt5(dataframe):\\n    \\\"\\\"\\\"\\n    Takes input numeric dataframe and returns a dataframe of the column count \\n    and percentage of values that are outliers, defined by \\n    x < (Q1 - 1.5*IQR) \\u222a (Q3 + 1.5*IQR) > x, where x is the value of the outlier.\\n\\n    \\\"\\\"\\\"\\n    count_lst = []\\n    perc_lst = []\\n\\n    for column in dataframe:\\n        Q1 = dataframe[column].quantile(0.25)\\n        Q3 = dataframe[column].quantile(0.75)\\n        IQR = Q3 - Q1\\n        lower_whisker = Q1 - 1.5 * IQR\\n        upper_whisker = Q3 + 1.5 * IQR\\n\\n        count = len(\\n            dataframe[\\n                (dataframe[column] < lower_whisker)\\n                | (dataframe[column] > upper_whisker)\\n            ]\\n        )\\n        percentage = round(count / len(dataframe[column]) * 100, 2)\\n\\n        count_lst.append(count)\\n        perc_lst.append(percentage)\\n\\n    outlier_dict = {\\\"outlier_count\\\": count_lst, \\\"percentage_outliers\\\": perc_lst}\\n\\n    return pd.DataFrame(data=outlier_dict, index=dataframe.columns).sort_values(\\n        by=\\\"outlier_count\\\", ascending=False\\n    )\";\n",
       "                var nbb_cells = Jupyter.notebook.get_cells();\n",
       "                for (var i = 0; i < nbb_cells.length; ++i) {\n",
       "                    if (nbb_cells[i].input_prompt_number == nbb_cell_id) {\n",
       "                        if (nbb_cells[i].get_text() == nbb_unformatted_code) {\n",
       "                             nbb_cells[i].set_text(nbb_formatted_code);\n",
       "                        }\n",
       "                        break;\n",
       "                    }\n",
       "                }\n",
       "            }, 500);\n",
       "            "
      ],
      "text/plain": [
       "<IPython.core.display.Javascript object>"
      ]
     },
     "metadata": {},
     "output_type": "display_data"
    }
   ],
   "source": [
    "# Define a function that returns new dataframe of count and percentage of outliers of input dataframe columns\n",
    "def outside_IQRends_pls1pt5(dataframe):\n",
    "    \"\"\"\n",
    "    Takes input numeric dataframe and returns a dataframe of the column count \n",
    "    and percentage of values that are outliers, defined by \n",
    "    x < (Q1 - 1.5*IQR) ∪ (Q3 + 1.5*IQR) > x, where x is the value of the outlier.\n",
    "\n",
    "    \"\"\"\n",
    "    count_lst = []\n",
    "    perc_lst = []\n",
    "\n",
    "    for column in dataframe:\n",
    "        Q1 = dataframe[column].quantile(0.25)\n",
    "        Q3 = dataframe[column].quantile(0.75)\n",
    "        IQR = Q3 - Q1\n",
    "        lower_whisker = Q1 - 1.5 * IQR\n",
    "        upper_whisker = Q3 + 1.5 * IQR\n",
    "\n",
    "        count = len(\n",
    "            dataframe[\n",
    "                (dataframe[column] < lower_whisker)\n",
    "                | (dataframe[column] > upper_whisker)\n",
    "            ]\n",
    "        )\n",
    "        percentage = round(count / len(dataframe[column]) * 100, 2)\n",
    "\n",
    "        count_lst.append(count)\n",
    "        perc_lst.append(percentage)\n",
    "\n",
    "    outlier_dict = {\"outlier_count\": count_lst, \"percentage_outliers\": perc_lst}\n",
    "\n",
    "    return pd.DataFrame(data=outlier_dict, index=dataframe.columns).sort_values(\n",
    "        by=\"outlier_count\", ascending=False\n",
    "    )"
   ]
  },
  {
   "cell_type": "markdown",
   "id": "5bcca322",
   "metadata": {},
   "source": [
    "#### Visualization of outliers"
   ]
  },
  {
   "cell_type": "code",
   "execution_count": 15,
   "id": "c7cd6ab0",
   "metadata": {
    "scrolled": false
   },
   "outputs": [
    {
     "data": {
      "image/png": "[encoded data removed]",
      "text/plain": [
       "<Figure size 1440x576 with 3 Axes>"
      ]
     },
     "metadata": {},
     "output_type": "display_data"
    },
    {
     "data": {
      "text/html": [
       "<div>\n",
       "<style scoped>\n",
       "    .dataframe tbody tr th:only-of-type {\n",
       "        vertical-align: middle;\n",
       "    }\n",
       "\n",
       "    .dataframe tbody tr th {\n",
       "        vertical-align: top;\n",
       "    }\n",
       "\n",
       "    .dataframe thead th {\n",
       "        text-align: right;\n",
       "    }\n",
       "</style>\n",
       "<table border=\"1\" class=\"dataframe\">\n",
       "  <thead>\n",
       "    <tr style=\"text-align: right;\">\n",
       "      <th></th>\n",
       "      <th>outlier_count</th>\n",
       "      <th>percentage_outliers</th>\n",
       "    </tr>\n",
       "  </thead>\n",
       "  <tbody>\n",
       "    <tr>\n",
       "      <th>age</th>\n",
       "      <td>3841</td>\n",
       "      <td>3.960</td>\n",
       "    </tr>\n",
       "    <tr>\n",
       "      <th>recip_num_references</th>\n",
       "      <td>0</td>\n",
       "      <td>0.000</td>\n",
       "    </tr>\n",
       "    <tr>\n",
       "      <th>years</th>\n",
       "      <td>0</td>\n",
       "      <td>0.000</td>\n",
       "    </tr>\n",
       "  </tbody>\n",
       "</table>\n",
       "</div>"
      ],
      "text/plain": [
       "                      outlier_count  percentage_outliers\n",
       "age                            3841                3.960\n",
       "recip_num_references              0                0.000\n",
       "years                             0                0.000"
      ]
     },
     "execution_count": 15,
     "metadata": {},
     "output_type": "execute_result"
    },
    {
     "data": {
      "application/javascript": [
       "\n",
       "            setTimeout(function() {\n",
       "                var nbb_cell_id = 15;\n",
       "                var nbb_unformatted_code = \"# Boxplots of numerical features to view outliers\\ndf[[\\\"age\\\", \\\"recip_num_references\\\", \\\"years\\\"]].plot.box(\\n    subplots=True, figsize=(20, 8), layout=(1, 3)\\n)\\nplt.show()\\n\\n# Outliers outside of IQR ends +/- 1.5 * IQR for each numerical column\\noutside_IQRends_pls1pt5(df[[\\\"age\\\", \\\"recip_num_references\\\", \\\"years\\\"]])\";\n",
       "                var nbb_formatted_code = \"# Boxplots of numerical features to view outliers\\ndf[[\\\"age\\\", \\\"recip_num_references\\\", \\\"years\\\"]].plot.box(\\n    subplots=True, figsize=(20, 8), layout=(1, 3)\\n)\\nplt.show()\\n\\n# Outliers outside of IQR ends +/- 1.5 * IQR for each numerical column\\noutside_IQRends_pls1pt5(df[[\\\"age\\\", \\\"recip_num_references\\\", \\\"years\\\"]])\";\n",
       "                var nbb_cells = Jupyter.notebook.get_cells();\n",
       "                for (var i = 0; i < nbb_cells.length; ++i) {\n",
       "                    if (nbb_cells[i].input_prompt_number == nbb_cell_id) {\n",
       "                        if (nbb_cells[i].get_text() == nbb_unformatted_code) {\n",
       "                             nbb_cells[i].set_text(nbb_formatted_code);\n",
       "                        }\n",
       "                        break;\n",
       "                    }\n",
       "                }\n",
       "            }, 500);\n",
       "            "
      ],
      "text/plain": [
       "<IPython.core.display.Javascript object>"
      ]
     },
     "metadata": {},
     "output_type": "display_data"
    }
   ],
   "source": [
    "# Boxplots of numerical features to view outliers\n",
    "df[[\"age\", \"recip_num_references\", \"years\"]].plot.box(\n",
    "    subplots=True, figsize=(20, 8), layout=(1, 3)\n",
    ")\n",
    "plt.show()\n",
    "\n",
    "# Outliers outside of IQR ends +/- 1.5 * IQR for each numerical column\n",
    "outside_IQRends_pls1pt5(df[[\"age\", \"recip_num_references\", \"years\"]])"
   ]
  },
  {
   "cell_type": "markdown",
   "id": "e890ce23",
   "metadata": {},
   "source": [
    "#### Observations:\n",
    "- Our numeric predictors do not have any outliers.  Recall that `recip_num_references` is already a transformation.\n",
    "- The target, `age`, has at least one upper-end outlier and numerous lower-end outliers.\n",
    "- In general, we would not treat the target's outliers.  However, the two most extreme values, one on either end, are worth examining more closely as they don't follow the trend of the data."
   ]
  },
  {
   "cell_type": "markdown",
   "id": "f10178e6",
   "metadata": {},
   "source": [
    "#### Examining the Most Extreme Values for Target `age`"
   ]
  },
  {
   "cell_type": "code",
   "execution_count": 16,
   "id": "b454b891",
   "metadata": {},
   "outputs": [
    {
     "data": {
      "text/html": [
       "<div>\n",
       "<style scoped>\n",
       "    .dataframe tbody tr th:only-of-type {\n",
       "        vertical-align: middle;\n",
       "    }\n",
       "\n",
       "    .dataframe tbody tr th {\n",
       "        vertical-align: top;\n",
       "    }\n",
       "\n",
       "    .dataframe thead th {\n",
       "        text-align: right;\n",
       "    }\n",
       "</style>\n",
       "<table border=\"1\" class=\"dataframe\">\n",
       "  <thead>\n",
       "    <tr style=\"text-align: right;\">\n",
       "      <th></th>\n",
       "      <th>info</th>\n",
       "      <th>link</th>\n",
       "      <th>info_parenth</th>\n",
       "      <th>age</th>\n",
       "      <th>sciences</th>\n",
       "      <th>social</th>\n",
       "      <th>spiritual</th>\n",
       "      <th>academia_humanities</th>\n",
       "      <th>business_farming</th>\n",
       "      <th>arts</th>\n",
       "      <th>sports</th>\n",
       "      <th>law_enf_military_operator</th>\n",
       "      <th>politics_govt_law</th>\n",
       "      <th>crime</th>\n",
       "      <th>event_record_other</th>\n",
       "      <th>recip_num_references</th>\n",
       "      <th>region</th>\n",
       "      <th>prior_region</th>\n",
       "      <th>years</th>\n",
       "    </tr>\n",
       "  </thead>\n",
       "  <tbody>\n",
       "    <tr>\n",
       "      <th>5030</th>\n",
       "      <td>, 6, American child beauty queen, asphyxia by strangulation and craniocerebral trauma.</td>\n",
       "      <td>https://en.wikipedia.org/wiki/Killing_of_JonBen%C3%A9t_Ramsey</td>\n",
       "      <td>None</td>\n",
       "      <td>6.000</td>\n",
       "      <td>0.000</td>\n",
       "      <td>0.000</td>\n",
       "      <td>0.000</td>\n",
       "      <td>0.000</td>\n",
       "      <td>0.000</td>\n",
       "      <td>1.000</td>\n",
       "      <td>0.000</td>\n",
       "      <td>0.000</td>\n",
       "      <td>0.000</td>\n",
       "      <td>0.000</td>\n",
       "      <td>0.000</td>\n",
       "      <td>0.009</td>\n",
       "      <td>North America</td>\n",
       "      <td>N/A</td>\n",
       "      <td>2</td>\n",
       "    </tr>\n",
       "    <tr>\n",
       "      <th>78789</th>\n",
       "      <td>, 122 .</td>\n",
       "      <td>https://en.wikipedia.org/wiki/Sudhakar_Chaturvedi</td>\n",
       "      <td>claimed, Indian Vedic scholar and courier Mahatma Gandhi</td>\n",
       "      <td>122.000</td>\n",
       "      <td>0.000</td>\n",
       "      <td>0.000</td>\n",
       "      <td>0.000</td>\n",
       "      <td>0.500</td>\n",
       "      <td>0.000</td>\n",
       "      <td>0.000</td>\n",
       "      <td>0.000</td>\n",
       "      <td>0.000</td>\n",
       "      <td>0.500</td>\n",
       "      <td>0.000</td>\n",
       "      <td>0.000</td>\n",
       "      <td>0.027</td>\n",
       "      <td>Asia</td>\n",
       "      <td>N/A</td>\n",
       "      <td>26</td>\n",
       "    </tr>\n",
       "  </tbody>\n",
       "</table>\n",
       "</div>"
      ],
      "text/plain": [
       "                                                                                         info  \\\n",
       "5030   , 6, American child beauty queen, asphyxia by strangulation and craniocerebral trauma.   \n",
       "78789                                                                                 , 122 .   \n",
       "\n",
       "                                                                link  \\\n",
       "5030   https://en.wikipedia.org/wiki/Killing_of_JonBen%C3%A9t_Ramsey   \n",
       "78789              https://en.wikipedia.org/wiki/Sudhakar_Chaturvedi   \n",
       "\n",
       "                                                   info_parenth     age  \\\n",
       "5030                                                       None   6.000   \n",
       "78789  claimed, Indian Vedic scholar and courier Mahatma Gandhi 122.000   \n",
       "\n",
       "       sciences  social  spiritual  academia_humanities  business_farming  \\\n",
       "5030      0.000   0.000      0.000                0.000             0.000   \n",
       "78789     0.000   0.000      0.000                0.500             0.000   \n",
       "\n",
       "       arts  sports  law_enf_military_operator  politics_govt_law  crime  \\\n",
       "5030  1.000   0.000                      0.000              0.000  0.000   \n",
       "78789 0.000   0.000                      0.000              0.500  0.000   \n",
       "\n",
       "       event_record_other  recip_num_references         region prior_region  \\\n",
       "5030                0.000                 0.009  North America          N/A   \n",
       "78789               0.000                 0.027           Asia          N/A   \n",
       "\n",
       "       years  \n",
       "5030       2  \n",
       "78789     26  "
      ]
     },
     "execution_count": 16,
     "metadata": {},
     "output_type": "execute_result"
    },
    {
     "data": {
      "application/javascript": [
       "\n",
       "            setTimeout(function() {\n",
       "                var nbb_cell_id = 16;\n",
       "                var nbb_unformatted_code = \"df[(df[\\\"age\\\"] > 120) | (df[\\\"age\\\"] < 7)]\";\n",
       "                var nbb_formatted_code = \"df[(df[\\\"age\\\"] > 120) | (df[\\\"age\\\"] < 7)]\";\n",
       "                var nbb_cells = Jupyter.notebook.get_cells();\n",
       "                for (var i = 0; i < nbb_cells.length; ++i) {\n",
       "                    if (nbb_cells[i].input_prompt_number == nbb_cell_id) {\n",
       "                        if (nbb_cells[i].get_text() == nbb_unformatted_code) {\n",
       "                             nbb_cells[i].set_text(nbb_formatted_code);\n",
       "                        }\n",
       "                        break;\n",
       "                    }\n",
       "                }\n",
       "            }, 500);\n",
       "            "
      ],
      "text/plain": [
       "<IPython.core.display.Javascript object>"
      ]
     },
     "metadata": {},
     "output_type": "display_data"
    }
   ],
   "source": [
    "df[(df[\"age\"] > 120) | (df[\"age\"] < 7)]"
   ]
  },
  {
   "cell_type": "markdown",
   "id": "21bb0a3f",
   "metadata": {},
   "source": [
    "#### Observations:\n",
    "- We will drop the lower end outlier as the entry is more correctly categorized solely as event_record_other.  It is unlikely the individual would have been known if not for the manner of her death.\n",
    "- In contrast, we will keep the upper-end outlier, who was noteworthy in life beyond his age alone."
   ]
  },
  {
   "cell_type": "markdown",
   "id": "b87b5ce4",
   "metadata": {},
   "source": [
    "#### Dropping Lower-end Outlier for `age`"
   ]
  },
  {
   "cell_type": "code",
   "execution_count": 17,
   "id": "ed20bc6c",
   "metadata": {},
   "outputs": [
    {
     "data": {
      "application/javascript": [
       "\n",
       "            setTimeout(function() {\n",
       "                var nbb_cell_id = 17;\n",
       "                var nbb_unformatted_code = \"# Dropping single entry with lowest age\\nindex = df[\\n    df[\\\"link\\\"] == \\\"https://en.wikipedia.org/wiki/Killing_of_JonBen%C3%A9t_Ramsey\\\"\\n].index\\ndf.drop(index, inplace=True)\\ndf.reset_index(inplace=True, drop=True)\";\n",
       "                var nbb_formatted_code = \"# Dropping single entry with lowest age\\nindex = df[\\n    df[\\\"link\\\"] == \\\"https://en.wikipedia.org/wiki/Killing_of_JonBen%C3%A9t_Ramsey\\\"\\n].index\\ndf.drop(index, inplace=True)\\ndf.reset_index(inplace=True, drop=True)\";\n",
       "                var nbb_cells = Jupyter.notebook.get_cells();\n",
       "                for (var i = 0; i < nbb_cells.length; ++i) {\n",
       "                    if (nbb_cells[i].input_prompt_number == nbb_cell_id) {\n",
       "                        if (nbb_cells[i].get_text() == nbb_unformatted_code) {\n",
       "                             nbb_cells[i].set_text(nbb_formatted_code);\n",
       "                        }\n",
       "                        break;\n",
       "                    }\n",
       "                }\n",
       "            }, 500);\n",
       "            "
      ],
      "text/plain": [
       "<IPython.core.display.Javascript object>"
      ]
     },
     "metadata": {},
     "output_type": "display_data"
    }
   ],
   "source": [
    "# Dropping single entry with lowest age\n",
    "index = df[\n",
    "    df[\"link\"] == \"https://en.wikipedia.org/wiki/Killing_of_JonBen%C3%A9t_Ramsey\"\n",
    "].index\n",
    "df.drop(index, inplace=True)\n",
    "df.reset_index(inplace=True, drop=True)"
   ]
  },
  {
   "cell_type": "markdown",
   "id": "344d3969",
   "metadata": {},
   "source": [
    "#### Visualization of Outliers after Treatment"
   ]
  },
  {
   "cell_type": "code",
   "execution_count": 18,
   "id": "d9f38577",
   "metadata": {
    "scrolled": false
   },
   "outputs": [
    {
     "data": {
      "image/png": "[encoded data removed]",
      "text/plain": [
       "<Figure size 1440x576 with 3 Axes>"
      ]
     },
     "metadata": {},
     "output_type": "display_data"
    },
    {
     "data": {
      "text/html": [
       "<div>\n",
       "<style scoped>\n",
       "    .dataframe tbody tr th:only-of-type {\n",
       "        vertical-align: middle;\n",
       "    }\n",
       "\n",
       "    .dataframe tbody tr th {\n",
       "        vertical-align: top;\n",
       "    }\n",
       "\n",
       "    .dataframe thead th {\n",
       "        text-align: right;\n",
       "    }\n",
       "</style>\n",
       "<table border=\"1\" class=\"dataframe\">\n",
       "  <thead>\n",
       "    <tr style=\"text-align: right;\">\n",
       "      <th></th>\n",
       "      <th>outlier_count</th>\n",
       "      <th>percentage_outliers</th>\n",
       "    </tr>\n",
       "  </thead>\n",
       "  <tbody>\n",
       "    <tr>\n",
       "      <th>age</th>\n",
       "      <td>3840</td>\n",
       "      <td>3.960</td>\n",
       "    </tr>\n",
       "    <tr>\n",
       "      <th>recip_num_references</th>\n",
       "      <td>0</td>\n",
       "      <td>0.000</td>\n",
       "    </tr>\n",
       "    <tr>\n",
       "      <th>years</th>\n",
       "      <td>0</td>\n",
       "      <td>0.000</td>\n",
       "    </tr>\n",
       "  </tbody>\n",
       "</table>\n",
       "</div>"
      ],
      "text/plain": [
       "                      outlier_count  percentage_outliers\n",
       "age                            3840                3.960\n",
       "recip_num_references              0                0.000\n",
       "years                             0                0.000"
      ]
     },
     "execution_count": 18,
     "metadata": {},
     "output_type": "execute_result"
    },
    {
     "data": {
      "application/javascript": [
       "\n",
       "            setTimeout(function() {\n",
       "                var nbb_cell_id = 18;\n",
       "                var nbb_unformatted_code = \"# Boxplots of numerical features to view outliers\\ndf[[\\\"age\\\", \\\"recip_num_references\\\", \\\"years\\\"]].plot.box(\\n    subplots=True, figsize=(20, 8), layout=(1, 3)\\n)\\nplt.show()\\n\\n# Outliers outside of IQR ends +/- 1.5 * IQR for each numerical column\\noutside_IQRends_pls1pt5(df[[\\\"age\\\", \\\"recip_num_references\\\", \\\"years\\\"]])\";\n",
       "                var nbb_formatted_code = \"# Boxplots of numerical features to view outliers\\ndf[[\\\"age\\\", \\\"recip_num_references\\\", \\\"years\\\"]].plot.box(\\n    subplots=True, figsize=(20, 8), layout=(1, 3)\\n)\\nplt.show()\\n\\n# Outliers outside of IQR ends +/- 1.5 * IQR for each numerical column\\noutside_IQRends_pls1pt5(df[[\\\"age\\\", \\\"recip_num_references\\\", \\\"years\\\"]])\";\n",
       "                var nbb_cells = Jupyter.notebook.get_cells();\n",
       "                for (var i = 0; i < nbb_cells.length; ++i) {\n",
       "                    if (nbb_cells[i].input_prompt_number == nbb_cell_id) {\n",
       "                        if (nbb_cells[i].get_text() == nbb_unformatted_code) {\n",
       "                             nbb_cells[i].set_text(nbb_formatted_code);\n",
       "                        }\n",
       "                        break;\n",
       "                    }\n",
       "                }\n",
       "            }, 500);\n",
       "            "
      ],
      "text/plain": [
       "<IPython.core.display.Javascript object>"
      ]
     },
     "metadata": {},
     "output_type": "display_data"
    }
   ],
   "source": [
    "# Boxplots of numerical features to view outliers\n",
    "df[[\"age\", \"recip_num_references\", \"years\"]].plot.box(\n",
    "    subplots=True, figsize=(20, 8), layout=(1, 3)\n",
    ")\n",
    "plt.show()\n",
    "\n",
    "# Outliers outside of IQR ends +/- 1.5 * IQR for each numerical column\n",
    "outside_IQRends_pls1pt5(df[[\"age\", \"recip_num_references\", \"years\"]])"
   ]
  },
  {
   "cell_type": "code",
   "execution_count": null,
   "id": "53acf6f4",
   "metadata": {},
   "outputs": [],
   "source": []
  },
  {
   "cell_type": "code",
   "execution_count": null,
   "id": "8c4e2839",
   "metadata": {},
   "outputs": [],
   "source": []
  },
  {
   "cell_type": "code",
   "execution_count": null,
   "id": "d5e2d143",
   "metadata": {},
   "outputs": [],
   "source": []
  },
  {
   "cell_type": "code",
   "execution_count": null,
   "id": "e1fe8b86",
   "metadata": {},
   "outputs": [],
   "source": []
  },
  {
   "cell_type": "code",
   "execution_count": null,
   "id": "7f8f08df",
   "metadata": {},
   "outputs": [],
   "source": []
  },
  {
   "cell_type": "markdown",
   "id": "0f66697e",
   "metadata": {},
   "source": [
    "#### Observations:\n",
    "- We will now save our dataset and pick back up in a new notebook."
   ]
  },
  {
   "cell_type": "markdown",
   "id": "1113a242",
   "metadata": {},
   "source": [
    "### Exporting Dataset to SQLite Database [wp_life_expect_clean.db]()"
   ]
  },
  {
   "cell_type": "code",
   "execution_count": null,
   "id": "6008ac61",
   "metadata": {},
   "outputs": [],
   "source": [
    "# # Exporting dataframe\n",
    "\n",
    "# # Saving dataset in a SQLite database\n",
    "# conn = sql.connect(\"wp_life_expect_clean.db\")\n",
    "# df.to_sql(\"wp_life_expect_clean\", conn, index=False)"
   ]
  },
  {
   "cell_type": "code",
   "execution_count": null,
   "id": "a36c0663",
   "metadata": {},
   "outputs": [],
   "source": [
    "print('Complete')\n",
    "\n",
    "# Chime notification when cell executes\n",
    "chime.success()"
   ]
  },
  {
   "cell_type": "markdown",
   "id": "11aacfcc",
   "metadata": {},
   "source": [
    "# [Proceed to Data Cleaning Part ]()"
   ]
  }
 ],
 "metadata": {
  "kernelspec": {
   "display_name": "Python 3 (ipykernel)",
   "language": "python",
   "name": "python3"
  },
  "language_info": {
   "codemirror_mode": {
    "name": "ipython",
    "version": 3
   },
   "file_extension": ".py",
   "mimetype": "text/x-python",
   "name": "python",
   "nbconvert_exporter": "python",
   "pygments_lexer": "ipython3",
   "version": "3.9.12"
  }
 },
 "nbformat": 4,
 "nbformat_minor": 5
}
