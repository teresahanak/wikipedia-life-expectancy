{
 "cells": [
  {
   "cell_type": "markdown",
   "id": "316a0779",
   "metadata": {},
   "source": [
    "# Wikipedia Notable Life Expectancies\n",
    "# [Notebook 11: Data Pre-processing ](https://github.com/teresahanak/wikipedia-life-expectancy/blob/main/wp_life_expect_data_preproc_2022_10_06.ipynb)\n",
    "### Context\n",
    "\n",
    "The\n",
    "### Objective\n",
    "\n",
    "The\n",
    "### Data Dictionary\n",
    "- Feature: Description"
   ]
  },
  {
   "cell_type": "markdown",
   "id": "99245d51",
   "metadata": {},
   "source": [
    "### Importing Libraries"
   ]
  },
  {
   "cell_type": "code",
   "execution_count": 1,
   "id": "453bba83",
   "metadata": {},
   "outputs": [
    {
     "data": {
      "application/javascript": [
       "\n",
       "            setTimeout(function() {\n",
       "                var nbb_cell_id = 1;\n",
       "                var nbb_unformatted_code = \"# To structure code automatically\\n%load_ext nb_black\\n\\n# To import/export sqlite databases\\n# import sqlite3 as sql\\n\\n# To save/open python objects in pickle file\\nimport pickle\\n\\n# To help with reading, cleaning, and manipulating data\\nimport pandas as pd\\nimport numpy as np\\n\\n# To help with data visualization\\nimport matplotlib.pyplot as plt\\nimport seaborn as sns\\n\\n# randomized data splitting\\nfrom sklearn.model_selection import train_test_split\\n\\n# To define maximum number of columns to be displayed in a dataframe\\npd.set_option(\\\"display.max_columns\\\", None)\\n# To define the maximum number of rows to be displayed in a dataframe\\npd.set_option(\\\"display.max_rows\\\", 211)\\n\\n# To set some dataframe visualization attributes\\npd.set_option(\\\"max_colwidth\\\", 150)\\n\\n# To supress scientific notations for a dataframe\\npd.set_option(\\\"display.float_format\\\", lambda x: \\\"%.3f\\\" % x)\\n\\n# To supress warnings\\n# import warnings\\n\\n# warnings.filterwarnings(\\\"ignore\\\")\\n\\n# To set some plot visualization attributes\\nsns.set_theme()\\nsns.set_palette(\\n    (\\n        \\\"midnightblue\\\",\\n        \\\"goldenrod\\\",\\n        \\\"maroon\\\",\\n        \\\"darkolivegreen\\\",\\n        \\\"cadetblue\\\",\\n        \\\"tab:purple\\\",\\n        \\\"yellowgreen\\\",\\n    )\\n)\\nplt.rc(\\\"font\\\", size=12)\\nplt.rc(\\\"axes\\\", titlesize=15)\\nplt.rc(\\\"axes\\\", labelsize=14)\\nplt.rc(\\\"xtick\\\", labelsize=13)\\nplt.rc(\\\"ytick\\\", labelsize=13)\\nplt.rc(\\\"legend\\\", fontsize=13)\\nplt.rc(\\\"legend\\\", fontsize=14)\\nplt.rc(\\\"figure\\\", titlesize=16)\\n\\n# To play auditory cue when cell has executed, has warning, or has error and set chime theme\\nimport chime\\n\\nchime.theme(\\\"zelda\\\")\";\n",
       "                var nbb_formatted_code = \"# To structure code automatically\\n%load_ext nb_black\\n\\n# To import/export sqlite databases\\n# import sqlite3 as sql\\n\\n# To save/open python objects in pickle file\\nimport pickle\\n\\n# To help with reading, cleaning, and manipulating data\\nimport pandas as pd\\nimport numpy as np\\n\\n# To help with data visualization\\nimport matplotlib.pyplot as plt\\nimport seaborn as sns\\n\\n# randomized data splitting\\nfrom sklearn.model_selection import train_test_split\\n\\n# To define maximum number of columns to be displayed in a dataframe\\npd.set_option(\\\"display.max_columns\\\", None)\\n# To define the maximum number of rows to be displayed in a dataframe\\npd.set_option(\\\"display.max_rows\\\", 211)\\n\\n# To set some dataframe visualization attributes\\npd.set_option(\\\"max_colwidth\\\", 150)\\n\\n# To supress scientific notations for a dataframe\\npd.set_option(\\\"display.float_format\\\", lambda x: \\\"%.3f\\\" % x)\\n\\n# To supress warnings\\n# import warnings\\n\\n# warnings.filterwarnings(\\\"ignore\\\")\\n\\n# To set some plot visualization attributes\\nsns.set_theme()\\nsns.set_palette(\\n    (\\n        \\\"midnightblue\\\",\\n        \\\"goldenrod\\\",\\n        \\\"maroon\\\",\\n        \\\"darkolivegreen\\\",\\n        \\\"cadetblue\\\",\\n        \\\"tab:purple\\\",\\n        \\\"yellowgreen\\\",\\n    )\\n)\\nplt.rc(\\\"font\\\", size=12)\\nplt.rc(\\\"axes\\\", titlesize=15)\\nplt.rc(\\\"axes\\\", labelsize=14)\\nplt.rc(\\\"xtick\\\", labelsize=13)\\nplt.rc(\\\"ytick\\\", labelsize=13)\\nplt.rc(\\\"legend\\\", fontsize=13)\\nplt.rc(\\\"legend\\\", fontsize=14)\\nplt.rc(\\\"figure\\\", titlesize=16)\\n\\n# To play auditory cue when cell has executed, has warning, or has error and set chime theme\\nimport chime\\n\\nchime.theme(\\\"zelda\\\")\";\n",
       "                var nbb_cells = Jupyter.notebook.get_cells();\n",
       "                for (var i = 0; i < nbb_cells.length; ++i) {\n",
       "                    if (nbb_cells[i].input_prompt_number == nbb_cell_id) {\n",
       "                        if (nbb_cells[i].get_text() == nbb_unformatted_code) {\n",
       "                             nbb_cells[i].set_text(nbb_formatted_code);\n",
       "                        }\n",
       "                        break;\n",
       "                    }\n",
       "                }\n",
       "            }, 500);\n",
       "            "
      ],
      "text/plain": [
       "<IPython.core.display.Javascript object>"
      ]
     },
     "metadata": {},
     "output_type": "display_data"
    }
   ],
   "source": [
    "# To structure code automatically\n",
    "%load_ext nb_black\n",
    "\n",
    "# To import/export sqlite databases\n",
    "# import sqlite3 as sql\n",
    "\n",
    "# To save/open python objects in pickle file\n",
    "import pickle\n",
    "\n",
    "# To help with reading, cleaning, and manipulating data\n",
    "import pandas as pd\n",
    "import numpy as np\n",
    "\n",
    "# To help with data visualization\n",
    "import matplotlib.pyplot as plt\n",
    "import seaborn as sns\n",
    "\n",
    "# randomized data splitting\n",
    "from sklearn.model_selection import train_test_split\n",
    "\n",
    "# To define maximum number of columns to be displayed in a dataframe\n",
    "pd.set_option(\"display.max_columns\", None)\n",
    "# To define the maximum number of rows to be displayed in a dataframe\n",
    "pd.set_option(\"display.max_rows\", 211)\n",
    "\n",
    "# To set some dataframe visualization attributes\n",
    "pd.set_option(\"max_colwidth\", 150)\n",
    "\n",
    "# To supress scientific notations for a dataframe\n",
    "pd.set_option(\"display.float_format\", lambda x: \"%.3f\" % x)\n",
    "\n",
    "# To supress warnings\n",
    "# import warnings\n",
    "\n",
    "# warnings.filterwarnings(\"ignore\")\n",
    "\n",
    "# To set some plot visualization attributes\n",
    "sns.set_theme()\n",
    "sns.set\n",
    "sns.set_palette(\n",
    "    (\n",
    "        \"midnightblue\",\n",
    "        \"goldenrod\",\n",
    "        \"maroon\",\n",
    "        \"darkolivegreen\",\n",
    "        \"cadetblue\",\n",
    "        \"tab:purple\",\n",
    "        \"yellowgreen\",\n",
    "    )\n",
    ")\n",
    "# plt.rc(\"font\", size=12)\n",
    "# plt.rc(\"axes\", titlesize=15)\n",
    "# plt.rc(\"axes\", labelsize=14)\n",
    "# plt.rc(\"xtick\", labelsize=13)\n",
    "# plt.rc(\"ytick\", labelsize=13)\n",
    "# plt.rc(\"legend\", fontsize=13)\n",
    "# plt.rc(\"legend\", fontsize=14)\n",
    "# plt.rc(\"figure\", titlesize=16)\n",
    "\n",
    "# To play auditory cue when cell has executed, has warning, or has error and set chime theme\n",
    "import chime\n",
    "\n",
    "chime.theme(\"zelda\")"
   ]
  },
  {
   "cell_type": "markdown",
   "id": "cc818a82",
   "metadata": {},
   "source": [
    "## Data Overview"
   ]
  },
  {
   "cell_type": "markdown",
   "id": "0ed005f6",
   "metadata": {},
   "source": [
    "### [Reading](https://github.com/teresahanak/wikipedia-life-expectancy/blob/main/wp_life_expect_train.csv), Sampling, and Checking Data Shape"
   ]
  },
  {
   "cell_type": "code",
   "execution_count": 2,
   "id": "0ca58a95",
   "metadata": {},
   "outputs": [
    {
     "name": "stdout",
     "output_type": "stream",
     "text": [
      "There are 78040 rows and 25 columns.\n"
     ]
    },
    {
     "data": {
      "text/html": [
       "<div>\n",
       "<style scoped>\n",
       "    .dataframe tbody tr th:only-of-type {\n",
       "        vertical-align: middle;\n",
       "    }\n",
       "\n",
       "    .dataframe tbody tr th {\n",
       "        vertical-align: top;\n",
       "    }\n",
       "\n",
       "    .dataframe thead th {\n",
       "        text-align: right;\n",
       "    }\n",
       "</style>\n",
       "<table border=\"1\" class=\"dataframe\">\n",
       "  <thead>\n",
       "    <tr style=\"text-align: right;\">\n",
       "      <th></th>\n",
       "      <th>info</th>\n",
       "      <th>link</th>\n",
       "      <th>num_references</th>\n",
       "      <th>year</th>\n",
       "      <th>info_parenth</th>\n",
       "      <th>age</th>\n",
       "      <th>cause_of_death</th>\n",
       "      <th>place_1</th>\n",
       "      <th>place_2</th>\n",
       "      <th>sciences</th>\n",
       "      <th>social</th>\n",
       "      <th>spiritual</th>\n",
       "      <th>academia_humanities</th>\n",
       "      <th>business_farming</th>\n",
       "      <th>arts</th>\n",
       "      <th>sports</th>\n",
       "      <th>law_enf_military_operator</th>\n",
       "      <th>politics_govt_law</th>\n",
       "      <th>crime</th>\n",
       "      <th>event_record_other</th>\n",
       "      <th>num_categories</th>\n",
       "      <th>recip_num_references</th>\n",
       "      <th>region</th>\n",
       "      <th>prior_region</th>\n",
       "      <th>known_for</th>\n",
       "    </tr>\n",
       "  </thead>\n",
       "  <tbody>\n",
       "    <tr>\n",
       "      <th>0</th>\n",
       "      <td>, 73, British Anglican prelate, Bishop of Tonbridge.</td>\n",
       "      <td>https://en.wikipedia.org/wiki/David_Bartleet</td>\n",
       "      <td>4</td>\n",
       "      <td>2002</td>\n",
       "      <td>NaN</td>\n",
       "      <td>73.000</td>\n",
       "      <td>NaN</td>\n",
       "      <td>United Kingdom of Great Britain and Northern Ireland</td>\n",
       "      <td>NaN</td>\n",
       "      <td>0</td>\n",
       "      <td>0</td>\n",
       "      <td>1</td>\n",
       "      <td>0</td>\n",
       "      <td>0</td>\n",
       "      <td>0</td>\n",
       "      <td>0</td>\n",
       "      <td>0</td>\n",
       "      <td>0</td>\n",
       "      <td>0</td>\n",
       "      <td>0</td>\n",
       "      <td>1</td>\n",
       "      <td>0.250</td>\n",
       "      <td>Europe</td>\n",
       "      <td>No Prior Region</td>\n",
       "      <td>spiritual</td>\n",
       "    </tr>\n",
       "    <tr>\n",
       "      <th>1</th>\n",
       "      <td>, 90, American radiologist and university professor.</td>\n",
       "      <td>https://en.wikipedia.org/wiki/Eugene_Saenger</td>\n",
       "      <td>3</td>\n",
       "      <td>2007</td>\n",
       "      <td>NaN</td>\n",
       "      <td>90.000</td>\n",
       "      <td>NaN</td>\n",
       "      <td>United States of America</td>\n",
       "      <td>NaN</td>\n",
       "      <td>1</td>\n",
       "      <td>0</td>\n",
       "      <td>0</td>\n",
       "      <td>1</td>\n",
       "      <td>0</td>\n",
       "      <td>0</td>\n",
       "      <td>0</td>\n",
       "      <td>0</td>\n",
       "      <td>0</td>\n",
       "      <td>0</td>\n",
       "      <td>0</td>\n",
       "      <td>2</td>\n",
       "      <td>0.333</td>\n",
       "      <td>North America</td>\n",
       "      <td>No Prior Region</td>\n",
       "      <td>two</td>\n",
       "    </tr>\n",
       "  </tbody>\n",
       "</table>\n",
       "</div>"
      ],
      "text/plain": [
       "                                                   info  \\\n",
       "0  , 73, British Anglican prelate, Bishop of Tonbridge.   \n",
       "1  , 90, American radiologist and university professor.   \n",
       "\n",
       "                                           link  num_references  year  \\\n",
       "0  https://en.wikipedia.org/wiki/David_Bartleet               4  2002   \n",
       "1  https://en.wikipedia.org/wiki/Eugene_Saenger               3  2007   \n",
       "\n",
       "  info_parenth    age cause_of_death  \\\n",
       "0          NaN 73.000            NaN   \n",
       "1          NaN 90.000            NaN   \n",
       "\n",
       "                                                place_1 place_2  sciences  \\\n",
       "0  United Kingdom of Great Britain and Northern Ireland     NaN         0   \n",
       "1                              United States of America     NaN         1   \n",
       "\n",
       "   social  spiritual  academia_humanities  business_farming  arts  sports  \\\n",
       "0       0          1                    0                 0     0       0   \n",
       "1       0          0                    1                 0     0       0   \n",
       "\n",
       "   law_enf_military_operator  politics_govt_law  crime  event_record_other  \\\n",
       "0                          0                  0      0                   0   \n",
       "1                          0                  0      0                   0   \n",
       "\n",
       "   num_categories  recip_num_references         region     prior_region  \\\n",
       "0               1                 0.250         Europe  No Prior Region   \n",
       "1               2                 0.333  North America  No Prior Region   \n",
       "\n",
       "   known_for  \n",
       "0  spiritual  \n",
       "1        two  "
      ]
     },
     "execution_count": 2,
     "metadata": {},
     "output_type": "execute_result"
    },
    {
     "data": {
      "application/javascript": [
       "\n",
       "            setTimeout(function() {\n",
       "                var nbb_cell_id = 2;\n",
       "                var nbb_unformatted_code = \"# Reading the train set\\ndata = pd.read_csv(\\\"wp_life_expect_train.csv\\\")\\n\\n# Making a working copy\\ndf = data.copy()\\n\\n# Checking the shape\\nprint(f\\\"There are {df.shape[0]} rows and {df.shape[1]} columns.\\\")\\n\\n# Checking first 2 rows of the data\\ndf.head(2)\";\n",
       "                var nbb_formatted_code = \"# Reading the train set\\ndata = pd.read_csv(\\\"wp_life_expect_train.csv\\\")\\n\\n# Making a working copy\\ndf = data.copy()\\n\\n# Checking the shape\\nprint(f\\\"There are {df.shape[0]} rows and {df.shape[1]} columns.\\\")\\n\\n# Checking first 2 rows of the data\\ndf.head(2)\";\n",
       "                var nbb_cells = Jupyter.notebook.get_cells();\n",
       "                for (var i = 0; i < nbb_cells.length; ++i) {\n",
       "                    if (nbb_cells[i].input_prompt_number == nbb_cell_id) {\n",
       "                        if (nbb_cells[i].get_text() == nbb_unformatted_code) {\n",
       "                             nbb_cells[i].set_text(nbb_formatted_code);\n",
       "                        }\n",
       "                        break;\n",
       "                    }\n",
       "                }\n",
       "            }, 500);\n",
       "            "
      ],
      "text/plain": [
       "<IPython.core.display.Javascript object>"
      ]
     },
     "metadata": {},
     "output_type": "display_data"
    }
   ],
   "source": [
    "# Reading the train set\n",
    "data = pd.read_csv(\"wp_life_expect_train.csv\")\n",
    "\n",
    "# Making a working copy\n",
    "df = data.copy()\n",
    "\n",
    "# Checking the shape\n",
    "print(f\"There are {df.shape[0]} rows and {df.shape[1]} columns.\")\n",
    "\n",
    "# Checking first 2 rows of the data\n",
    "df.head(2)"
   ]
  },
  {
   "cell_type": "code",
   "execution_count": 3,
   "id": "6cca416f",
   "metadata": {},
   "outputs": [
    {
     "data": {
      "text/html": [
       "<div>\n",
       "<style scoped>\n",
       "    .dataframe tbody tr th:only-of-type {\n",
       "        vertical-align: middle;\n",
       "    }\n",
       "\n",
       "    .dataframe tbody tr th {\n",
       "        vertical-align: top;\n",
       "    }\n",
       "\n",
       "    .dataframe thead th {\n",
       "        text-align: right;\n",
       "    }\n",
       "</style>\n",
       "<table border=\"1\" class=\"dataframe\">\n",
       "  <thead>\n",
       "    <tr style=\"text-align: right;\">\n",
       "      <th></th>\n",
       "      <th>info</th>\n",
       "      <th>link</th>\n",
       "      <th>num_references</th>\n",
       "      <th>year</th>\n",
       "      <th>info_parenth</th>\n",
       "      <th>age</th>\n",
       "      <th>cause_of_death</th>\n",
       "      <th>place_1</th>\n",
       "      <th>place_2</th>\n",
       "      <th>sciences</th>\n",
       "      <th>social</th>\n",
       "      <th>spiritual</th>\n",
       "      <th>academia_humanities</th>\n",
       "      <th>business_farming</th>\n",
       "      <th>arts</th>\n",
       "      <th>sports</th>\n",
       "      <th>law_enf_military_operator</th>\n",
       "      <th>politics_govt_law</th>\n",
       "      <th>crime</th>\n",
       "      <th>event_record_other</th>\n",
       "      <th>num_categories</th>\n",
       "      <th>recip_num_references</th>\n",
       "      <th>region</th>\n",
       "      <th>prior_region</th>\n",
       "      <th>known_for</th>\n",
       "    </tr>\n",
       "  </thead>\n",
       "  <tbody>\n",
       "    <tr>\n",
       "      <th>78038</th>\n",
       "      <td>, 74, Canadian journalist and author.</td>\n",
       "      <td>https://en.wikipedia.org/wiki/Charles_Lynch_(journalist)</td>\n",
       "      <td>7</td>\n",
       "      <td>1994</td>\n",
       "      <td>NaN</td>\n",
       "      <td>74.000</td>\n",
       "      <td>NaN</td>\n",
       "      <td>Canada</td>\n",
       "      <td>NaN</td>\n",
       "      <td>0</td>\n",
       "      <td>0</td>\n",
       "      <td>0</td>\n",
       "      <td>0</td>\n",
       "      <td>0</td>\n",
       "      <td>1</td>\n",
       "      <td>0</td>\n",
       "      <td>0</td>\n",
       "      <td>0</td>\n",
       "      <td>0</td>\n",
       "      <td>0</td>\n",
       "      <td>1</td>\n",
       "      <td>0.143</td>\n",
       "      <td>North America</td>\n",
       "      <td>No Prior Region</td>\n",
       "      <td>arts</td>\n",
       "    </tr>\n",
       "    <tr>\n",
       "      <th>78039</th>\n",
       "      <td>, 92, English cricketer and squash player.</td>\n",
       "      <td>https://en.wikipedia.org/wiki/Edward_Harrison_(cricketer)</td>\n",
       "      <td>5</td>\n",
       "      <td>2002</td>\n",
       "      <td>NaN</td>\n",
       "      <td>92.000</td>\n",
       "      <td>NaN</td>\n",
       "      <td>United Kingdom of Great Britain and Northern Ireland</td>\n",
       "      <td>NaN</td>\n",
       "      <td>0</td>\n",
       "      <td>0</td>\n",
       "      <td>0</td>\n",
       "      <td>0</td>\n",
       "      <td>0</td>\n",
       "      <td>0</td>\n",
       "      <td>1</td>\n",
       "      <td>0</td>\n",
       "      <td>0</td>\n",
       "      <td>0</td>\n",
       "      <td>0</td>\n",
       "      <td>1</td>\n",
       "      <td>0.200</td>\n",
       "      <td>Europe</td>\n",
       "      <td>No Prior Region</td>\n",
       "      <td>sports</td>\n",
       "    </tr>\n",
       "  </tbody>\n",
       "</table>\n",
       "</div>"
      ],
      "text/plain": [
       "                                             info  \\\n",
       "78038       , 74, Canadian journalist and author.   \n",
       "78039  , 92, English cricketer and squash player.   \n",
       "\n",
       "                                                            link  \\\n",
       "78038   https://en.wikipedia.org/wiki/Charles_Lynch_(journalist)   \n",
       "78039  https://en.wikipedia.org/wiki/Edward_Harrison_(cricketer)   \n",
       "\n",
       "       num_references  year info_parenth    age cause_of_death  \\\n",
       "78038               7  1994          NaN 74.000            NaN   \n",
       "78039               5  2002          NaN 92.000            NaN   \n",
       "\n",
       "                                                    place_1 place_2  sciences  \\\n",
       "78038                                                Canada     NaN         0   \n",
       "78039  United Kingdom of Great Britain and Northern Ireland     NaN         0   \n",
       "\n",
       "       social  spiritual  academia_humanities  business_farming  arts  sports  \\\n",
       "78038       0          0                    0                 0     1       0   \n",
       "78039       0          0                    0                 0     0       1   \n",
       "\n",
       "       law_enf_military_operator  politics_govt_law  crime  \\\n",
       "78038                          0                  0      0   \n",
       "78039                          0                  0      0   \n",
       "\n",
       "       event_record_other  num_categories  recip_num_references  \\\n",
       "78038                   0               1                 0.143   \n",
       "78039                   0               1                 0.200   \n",
       "\n",
       "              region     prior_region known_for  \n",
       "78038  North America  No Prior Region      arts  \n",
       "78039         Europe  No Prior Region    sports  "
      ]
     },
     "execution_count": 3,
     "metadata": {},
     "output_type": "execute_result"
    },
    {
     "data": {
      "application/javascript": [
       "\n",
       "            setTimeout(function() {\n",
       "                var nbb_cell_id = 3;\n",
       "                var nbb_unformatted_code = \"# Checking last 2 rows of the data\\ndf.tail(2)\";\n",
       "                var nbb_formatted_code = \"# Checking last 2 rows of the data\\ndf.tail(2)\";\n",
       "                var nbb_cells = Jupyter.notebook.get_cells();\n",
       "                for (var i = 0; i < nbb_cells.length; ++i) {\n",
       "                    if (nbb_cells[i].input_prompt_number == nbb_cell_id) {\n",
       "                        if (nbb_cells[i].get_text() == nbb_unformatted_code) {\n",
       "                             nbb_cells[i].set_text(nbb_formatted_code);\n",
       "                        }\n",
       "                        break;\n",
       "                    }\n",
       "                }\n",
       "            }, 500);\n",
       "            "
      ],
      "text/plain": [
       "<IPython.core.display.Javascript object>"
      ]
     },
     "metadata": {},
     "output_type": "display_data"
    }
   ],
   "source": [
    "# Checking last 2 rows of the data\n",
    "df.tail(2)"
   ]
  },
  {
   "cell_type": "code",
   "execution_count": 4,
   "id": "de6e8ee5",
   "metadata": {},
   "outputs": [
    {
     "data": {
      "text/html": [
       "<div>\n",
       "<style scoped>\n",
       "    .dataframe tbody tr th:only-of-type {\n",
       "        vertical-align: middle;\n",
       "    }\n",
       "\n",
       "    .dataframe tbody tr th {\n",
       "        vertical-align: top;\n",
       "    }\n",
       "\n",
       "    .dataframe thead th {\n",
       "        text-align: right;\n",
       "    }\n",
       "</style>\n",
       "<table border=\"1\" class=\"dataframe\">\n",
       "  <thead>\n",
       "    <tr style=\"text-align: right;\">\n",
       "      <th></th>\n",
       "      <th>info</th>\n",
       "      <th>link</th>\n",
       "      <th>num_references</th>\n",
       "      <th>year</th>\n",
       "      <th>info_parenth</th>\n",
       "      <th>age</th>\n",
       "      <th>cause_of_death</th>\n",
       "      <th>place_1</th>\n",
       "      <th>place_2</th>\n",
       "      <th>sciences</th>\n",
       "      <th>social</th>\n",
       "      <th>spiritual</th>\n",
       "      <th>academia_humanities</th>\n",
       "      <th>business_farming</th>\n",
       "      <th>arts</th>\n",
       "      <th>sports</th>\n",
       "      <th>law_enf_military_operator</th>\n",
       "      <th>politics_govt_law</th>\n",
       "      <th>crime</th>\n",
       "      <th>event_record_other</th>\n",
       "      <th>num_categories</th>\n",
       "      <th>recip_num_references</th>\n",
       "      <th>region</th>\n",
       "      <th>prior_region</th>\n",
       "      <th>known_for</th>\n",
       "    </tr>\n",
       "  </thead>\n",
       "  <tbody>\n",
       "    <tr>\n",
       "      <th>33911</th>\n",
       "      <td>, 56, Australian-born British Grammy Award-winning sound engineer and music producer , apparent suicide.</td>\n",
       "      <td>https://en.wikipedia.org/wiki/Mike_Shipley</td>\n",
       "      <td>6</td>\n",
       "      <td>2013</td>\n",
       "      <td>Def Leppard</td>\n",
       "      <td>56.000</td>\n",
       "      <td>apparent suicide</td>\n",
       "      <td>Australia</td>\n",
       "      <td>United Kingdom of Great Britain and Northern Ireland</td>\n",
       "      <td>0</td>\n",
       "      <td>0</td>\n",
       "      <td>0</td>\n",
       "      <td>0</td>\n",
       "      <td>0</td>\n",
       "      <td>1</td>\n",
       "      <td>0</td>\n",
       "      <td>0</td>\n",
       "      <td>0</td>\n",
       "      <td>0</td>\n",
       "      <td>0</td>\n",
       "      <td>1</td>\n",
       "      <td>0.167</td>\n",
       "      <td>Europe</td>\n",
       "      <td>Oceania</td>\n",
       "      <td>arts</td>\n",
       "    </tr>\n",
       "    <tr>\n",
       "      <th>34229</th>\n",
       "      <td>, 81, American business executive, CEO of Ben &amp; Jerry's .</td>\n",
       "      <td>https://en.wikipedia.org/wiki/Robert_Holland_(executive)</td>\n",
       "      <td>5</td>\n",
       "      <td>2021</td>\n",
       "      <td>1995 1996</td>\n",
       "      <td>81.000</td>\n",
       "      <td>NaN</td>\n",
       "      <td>United States of America</td>\n",
       "      <td>NaN</td>\n",
       "      <td>0</td>\n",
       "      <td>0</td>\n",
       "      <td>0</td>\n",
       "      <td>0</td>\n",
       "      <td>1</td>\n",
       "      <td>0</td>\n",
       "      <td>0</td>\n",
       "      <td>0</td>\n",
       "      <td>0</td>\n",
       "      <td>0</td>\n",
       "      <td>0</td>\n",
       "      <td>1</td>\n",
       "      <td>0.200</td>\n",
       "      <td>North America</td>\n",
       "      <td>No Prior Region</td>\n",
       "      <td>business_farming</td>\n",
       "    </tr>\n",
       "    <tr>\n",
       "      <th>44111</th>\n",
       "      <td>, 97, American fashion designer, dementia.</td>\n",
       "      <td>https://en.wikipedia.org/wiki/Frankie_Welch</td>\n",
       "      <td>32</td>\n",
       "      <td>2021</td>\n",
       "      <td>NaN</td>\n",
       "      <td>97.000</td>\n",
       "      <td>dementia</td>\n",
       "      <td>United States of America</td>\n",
       "      <td>NaN</td>\n",
       "      <td>0</td>\n",
       "      <td>0</td>\n",
       "      <td>0</td>\n",
       "      <td>0</td>\n",
       "      <td>0</td>\n",
       "      <td>1</td>\n",
       "      <td>0</td>\n",
       "      <td>0</td>\n",
       "      <td>0</td>\n",
       "      <td>0</td>\n",
       "      <td>0</td>\n",
       "      <td>1</td>\n",
       "      <td>0.031</td>\n",
       "      <td>North America</td>\n",
       "      <td>No Prior Region</td>\n",
       "      <td>arts</td>\n",
       "    </tr>\n",
       "    <tr>\n",
       "      <th>48184</th>\n",
       "      <td>, 91, American architect, heart attack.</td>\n",
       "      <td>https://en.wikipedia.org/wiki/Judith_Edelman</td>\n",
       "      <td>6</td>\n",
       "      <td>2014</td>\n",
       "      <td>NaN</td>\n",
       "      <td>91.000</td>\n",
       "      <td>heart attack</td>\n",
       "      <td>United States of America</td>\n",
       "      <td>NaN</td>\n",
       "      <td>0</td>\n",
       "      <td>0</td>\n",
       "      <td>0</td>\n",
       "      <td>0</td>\n",
       "      <td>0</td>\n",
       "      <td>1</td>\n",
       "      <td>0</td>\n",
       "      <td>0</td>\n",
       "      <td>0</td>\n",
       "      <td>0</td>\n",
       "      <td>0</td>\n",
       "      <td>1</td>\n",
       "      <td>0.167</td>\n",
       "      <td>North America</td>\n",
       "      <td>No Prior Region</td>\n",
       "      <td>arts</td>\n",
       "    </tr>\n",
       "    <tr>\n",
       "      <th>59915</th>\n",
       "      <td>, 82, American chemist and co-winner of Nobel Prize in Chemistry in 1987.</td>\n",
       "      <td>https://en.wikipedia.org/wiki/Donald_J._Cram</td>\n",
       "      <td>10</td>\n",
       "      <td>2001</td>\n",
       "      <td>NaN</td>\n",
       "      <td>82.000</td>\n",
       "      <td>NaN</td>\n",
       "      <td>United States of America</td>\n",
       "      <td>NaN</td>\n",
       "      <td>1</td>\n",
       "      <td>0</td>\n",
       "      <td>0</td>\n",
       "      <td>0</td>\n",
       "      <td>0</td>\n",
       "      <td>0</td>\n",
       "      <td>0</td>\n",
       "      <td>0</td>\n",
       "      <td>0</td>\n",
       "      <td>0</td>\n",
       "      <td>0</td>\n",
       "      <td>1</td>\n",
       "      <td>0.100</td>\n",
       "      <td>North America</td>\n",
       "      <td>No Prior Region</td>\n",
       "      <td>sciences</td>\n",
       "    </tr>\n",
       "  </tbody>\n",
       "</table>\n",
       "</div>"
      ],
      "text/plain": [
       "                                                                                                           info  \\\n",
       "33911  , 56, Australian-born British Grammy Award-winning sound engineer and music producer , apparent suicide.   \n",
       "34229                                                 , 81, American business executive, CEO of Ben & Jerry's .   \n",
       "44111                                                                , 97, American fashion designer, dementia.   \n",
       "48184                                                                   , 91, American architect, heart attack.   \n",
       "59915                                 , 82, American chemist and co-winner of Nobel Prize in Chemistry in 1987.   \n",
       "\n",
       "                                                           link  \\\n",
       "33911                https://en.wikipedia.org/wiki/Mike_Shipley   \n",
       "34229  https://en.wikipedia.org/wiki/Robert_Holland_(executive)   \n",
       "44111               https://en.wikipedia.org/wiki/Frankie_Welch   \n",
       "48184              https://en.wikipedia.org/wiki/Judith_Edelman   \n",
       "59915              https://en.wikipedia.org/wiki/Donald_J._Cram   \n",
       "\n",
       "       num_references  year info_parenth    age    cause_of_death  \\\n",
       "33911               6  2013  Def Leppard 56.000  apparent suicide   \n",
       "34229               5  2021    1995 1996 81.000               NaN   \n",
       "44111              32  2021          NaN 97.000          dementia   \n",
       "48184               6  2014          NaN 91.000      heart attack   \n",
       "59915              10  2001          NaN 82.000               NaN   \n",
       "\n",
       "                        place_1  \\\n",
       "33911                 Australia   \n",
       "34229  United States of America   \n",
       "44111  United States of America   \n",
       "48184  United States of America   \n",
       "59915  United States of America   \n",
       "\n",
       "                                                    place_2  sciences  social  \\\n",
       "33911  United Kingdom of Great Britain and Northern Ireland         0       0   \n",
       "34229                                                   NaN         0       0   \n",
       "44111                                                   NaN         0       0   \n",
       "48184                                                   NaN         0       0   \n",
       "59915                                                   NaN         1       0   \n",
       "\n",
       "       spiritual  academia_humanities  business_farming  arts  sports  \\\n",
       "33911          0                    0                 0     1       0   \n",
       "34229          0                    0                 1     0       0   \n",
       "44111          0                    0                 0     1       0   \n",
       "48184          0                    0                 0     1       0   \n",
       "59915          0                    0                 0     0       0   \n",
       "\n",
       "       law_enf_military_operator  politics_govt_law  crime  \\\n",
       "33911                          0                  0      0   \n",
       "34229                          0                  0      0   \n",
       "44111                          0                  0      0   \n",
       "48184                          0                  0      0   \n",
       "59915                          0                  0      0   \n",
       "\n",
       "       event_record_other  num_categories  recip_num_references  \\\n",
       "33911                   0               1                 0.167   \n",
       "34229                   0               1                 0.200   \n",
       "44111                   0               1                 0.031   \n",
       "48184                   0               1                 0.167   \n",
       "59915                   0               1                 0.100   \n",
       "\n",
       "              region     prior_region         known_for  \n",
       "33911         Europe          Oceania              arts  \n",
       "34229  North America  No Prior Region  business_farming  \n",
       "44111  North America  No Prior Region              arts  \n",
       "48184  North America  No Prior Region              arts  \n",
       "59915  North America  No Prior Region          sciences  "
      ]
     },
     "execution_count": 4,
     "metadata": {},
     "output_type": "execute_result"
    },
    {
     "data": {
      "application/javascript": [
       "\n",
       "            setTimeout(function() {\n",
       "                var nbb_cell_id = 4;\n",
       "                var nbb_unformatted_code = \"# Checking a sample of the data\\ndf.sample(5)\";\n",
       "                var nbb_formatted_code = \"# Checking a sample of the data\\ndf.sample(5)\";\n",
       "                var nbb_cells = Jupyter.notebook.get_cells();\n",
       "                for (var i = 0; i < nbb_cells.length; ++i) {\n",
       "                    if (nbb_cells[i].input_prompt_number == nbb_cell_id) {\n",
       "                        if (nbb_cells[i].get_text() == nbb_unformatted_code) {\n",
       "                             nbb_cells[i].set_text(nbb_formatted_code);\n",
       "                        }\n",
       "                        break;\n",
       "                    }\n",
       "                }\n",
       "            }, 500);\n",
       "            "
      ],
      "text/plain": [
       "<IPython.core.display.Javascript object>"
      ]
     },
     "metadata": {},
     "output_type": "display_data"
    }
   ],
   "source": [
    "# Checking a sample of the data\n",
    "df.sample(5)"
   ]
  },
  {
   "cell_type": "markdown",
   "id": "8d5f29da",
   "metadata": {},
   "source": [
    "### Checking Data Types and Null Values"
   ]
  },
  {
   "cell_type": "code",
   "execution_count": 5,
   "id": "bf505f87",
   "metadata": {},
   "outputs": [
    {
     "name": "stdout",
     "output_type": "stream",
     "text": [
      "<class 'pandas.core.frame.DataFrame'>\n",
      "RangeIndex: 78040 entries, 0 to 78039\n",
      "Data columns (total 25 columns):\n",
      " #   Column                     Non-Null Count  Dtype  \n",
      "---  ------                     --------------  -----  \n",
      " 0   info                       78040 non-null  object \n",
      " 1   link                       78040 non-null  object \n",
      " 2   num_references             78040 non-null  int64  \n",
      " 3   year                       78040 non-null  int64  \n",
      " 4   info_parenth               26884 non-null  object \n",
      " 5   age                        78040 non-null  float64\n",
      " 6   cause_of_death             26604 non-null  object \n",
      " 7   place_1                    77919 non-null  object \n",
      " 8   place_2                    4339 non-null   object \n",
      " 9   sciences                   78040 non-null  int64  \n",
      " 10  social                     78040 non-null  int64  \n",
      " 11  spiritual                  78040 non-null  int64  \n",
      " 12  academia_humanities        78040 non-null  int64  \n",
      " 13  business_farming           78040 non-null  int64  \n",
      " 14  arts                       78040 non-null  int64  \n",
      " 15  sports                     78040 non-null  int64  \n",
      " 16  law_enf_military_operator  78040 non-null  int64  \n",
      " 17  politics_govt_law          78040 non-null  int64  \n",
      " 18  crime                      78040 non-null  int64  \n",
      " 19  event_record_other         78040 non-null  int64  \n",
      " 20  num_categories             78040 non-null  int64  \n",
      " 21  recip_num_references       78040 non-null  float64\n",
      " 22  region                     77919 non-null  object \n",
      " 23  prior_region               78040 non-null  object \n",
      " 24  known_for                  78040 non-null  object \n",
      "dtypes: float64(2), int64(14), object(9)\n",
      "memory usage: 14.9+ MB\n"
     ]
    },
    {
     "data": {
      "application/javascript": [
       "\n",
       "            setTimeout(function() {\n",
       "                var nbb_cell_id = 5;\n",
       "                var nbb_unformatted_code = \"# Checking data types and null values\\ndf.info()\";\n",
       "                var nbb_formatted_code = \"# Checking data types and null values\\ndf.info()\";\n",
       "                var nbb_cells = Jupyter.notebook.get_cells();\n",
       "                for (var i = 0; i < nbb_cells.length; ++i) {\n",
       "                    if (nbb_cells[i].input_prompt_number == nbb_cell_id) {\n",
       "                        if (nbb_cells[i].get_text() == nbb_unformatted_code) {\n",
       "                             nbb_cells[i].set_text(nbb_formatted_code);\n",
       "                        }\n",
       "                        break;\n",
       "                    }\n",
       "                }\n",
       "            }, 500);\n",
       "            "
      ],
      "text/plain": [
       "<IPython.core.display.Javascript object>"
      ]
     },
     "metadata": {},
     "output_type": "display_data"
    }
   ],
   "source": [
    "# Checking data types and null values\n",
    "df.info()"
   ]
  },
  {
   "cell_type": "code",
   "execution_count": 6,
   "id": "89a6774a",
   "metadata": {},
   "outputs": [
    {
     "data": {
      "text/plain": [
       "info                             0\n",
       "link                             0\n",
       "num_references                   0\n",
       "year                             0\n",
       "info_parenth                 51156\n",
       "age                              0\n",
       "cause_of_death               51436\n",
       "place_1                        121\n",
       "place_2                      73701\n",
       "sciences                         0\n",
       "social                           0\n",
       "spiritual                        0\n",
       "academia_humanities              0\n",
       "business_farming                 0\n",
       "arts                             0\n",
       "sports                           0\n",
       "law_enf_military_operator        0\n",
       "politics_govt_law                0\n",
       "crime                            0\n",
       "event_record_other               0\n",
       "num_categories                   0\n",
       "recip_num_references             0\n",
       "region                         121\n",
       "prior_region                     0\n",
       "known_for                        0\n",
       "dtype: int64"
      ]
     },
     "execution_count": 6,
     "metadata": {},
     "output_type": "execute_result"
    },
    {
     "data": {
      "application/javascript": [
       "\n",
       "            setTimeout(function() {\n",
       "                var nbb_cell_id = 6;\n",
       "                var nbb_unformatted_code = \"# Checking sum of null values by column\\ndf.isnull().sum()\";\n",
       "                var nbb_formatted_code = \"# Checking sum of null values by column\\ndf.isnull().sum()\";\n",
       "                var nbb_cells = Jupyter.notebook.get_cells();\n",
       "                for (var i = 0; i < nbb_cells.length; ++i) {\n",
       "                    if (nbb_cells[i].input_prompt_number == nbb_cell_id) {\n",
       "                        if (nbb_cells[i].get_text() == nbb_unformatted_code) {\n",
       "                             nbb_cells[i].set_text(nbb_formatted_code);\n",
       "                        }\n",
       "                        break;\n",
       "                    }\n",
       "                }\n",
       "            }, 500);\n",
       "            "
      ],
      "text/plain": [
       "<IPython.core.display.Javascript object>"
      ]
     },
     "metadata": {},
     "output_type": "display_data"
    }
   ],
   "source": [
    "# Checking sum of null values by column\n",
    "df.isnull().sum()"
   ]
  },
  {
   "cell_type": "markdown",
   "id": "fe2b47d0",
   "metadata": {},
   "source": [
    "## Data Pre-processing\n",
    "- There are 78,040 rows and 25 columns in the training set.\n",
    "- We will need to typecast our categorical columns again.\n",
    "- At the outset, we can drop the following columns:\n",
    "    - `num_references`\n",
    "    - `cause_of_death`\n",
    "    - `place_1`\n",
    "    - `place_2`\n",
    "- We can also drop the entries with `event_record_other` as their sole `known_for` category.\n",
    "- Let us convert `year` to elapsed `years`, equating 1994 with 0, and assigning the accumulated years.\n",
    "- We will make a decision regarding `known_for`, `num_categories`, and `known for` category columns and drop the extraneous columns after treatment.\n",
    "- After outlier detection is complete, we can drop `info`, `info_parenth`, and `link` columns.\n",
    "- The missing values for `region` will need treatment."
   ]
  },
  {
   "cell_type": "markdown",
   "id": "732f4c34",
   "metadata": {},
   "source": [
    "#### Dropping Unnecessary Columns"
   ]
  },
  {
   "cell_type": "code",
   "execution_count": 7,
   "id": "7557eb7f",
   "metadata": {},
   "outputs": [
    {
     "name": "stdout",
     "output_type": "stream",
     "text": [
      "There are 78040 rows and 21 columns.\n"
     ]
    },
    {
     "data": {
      "application/javascript": [
       "\n",
       "            setTimeout(function() {\n",
       "                var nbb_cell_id = 7;\n",
       "                var nbb_unformatted_code = \"# Dropping unnecessary columns\\ncols_to_drop = [\\\"num_references\\\", \\\"cause_of_death\\\", \\\"place_1\\\", \\\"place_2\\\"]\\ndf.drop(cols_to_drop, axis=1, inplace=True)\\n\\n# Checking new shape\\nprint(f\\\"There are {df.shape[0]} rows and {df.shape[1]} columns.\\\")\";\n",
       "                var nbb_formatted_code = \"# Dropping unnecessary columns\\ncols_to_drop = [\\\"num_references\\\", \\\"cause_of_death\\\", \\\"place_1\\\", \\\"place_2\\\"]\\ndf.drop(cols_to_drop, axis=1, inplace=True)\\n\\n# Checking new shape\\nprint(f\\\"There are {df.shape[0]} rows and {df.shape[1]} columns.\\\")\";\n",
       "                var nbb_cells = Jupyter.notebook.get_cells();\n",
       "                for (var i = 0; i < nbb_cells.length; ++i) {\n",
       "                    if (nbb_cells[i].input_prompt_number == nbb_cell_id) {\n",
       "                        if (nbb_cells[i].get_text() == nbb_unformatted_code) {\n",
       "                             nbb_cells[i].set_text(nbb_formatted_code);\n",
       "                        }\n",
       "                        break;\n",
       "                    }\n",
       "                }\n",
       "            }, 500);\n",
       "            "
      ],
      "text/plain": [
       "<IPython.core.display.Javascript object>"
      ]
     },
     "metadata": {},
     "output_type": "display_data"
    }
   ],
   "source": [
    "# Dropping unnecessary columns\n",
    "cols_to_drop = [\"num_references\", \"cause_of_death\", \"place_1\", \"place_2\"]\n",
    "df.drop(cols_to_drop, axis=1, inplace=True)\n",
    "\n",
    "# Checking new shape\n",
    "print(f\"There are {df.shape[0]} rows and {df.shape[1]} columns.\")"
   ]
  },
  {
   "cell_type": "markdown",
   "id": "26547b1a",
   "metadata": {},
   "source": [
    "#### Dropping Entries with `event_record_other` as Sole Category"
   ]
  },
  {
   "cell_type": "code",
   "execution_count": 8,
   "id": "cd72c5a8",
   "metadata": {},
   "outputs": [
    {
     "name": "stdout",
     "output_type": "stream",
     "text": [
      "There are 77662 rows and 21 columns.\n"
     ]
    },
    {
     "data": {
      "application/javascript": [
       "\n",
       "            setTimeout(function() {\n",
       "                var nbb_cell_id = 8;\n",
       "                var nbb_unformatted_code = \"# Dropping entries with event_record_other as sole category\\nindex = df[df[\\\"known_for\\\"] == \\\"event_record_other\\\"].index\\ndf.drop(index, inplace=True)\\ndf.reset_index(inplace=True, drop=True)\\n\\n# Check new shape\\nprint(f\\\"There are {df.shape[0]} rows and {df.shape[1]} columns.\\\")\";\n",
       "                var nbb_formatted_code = \"# Dropping entries with event_record_other as sole category\\nindex = df[df[\\\"known_for\\\"] == \\\"event_record_other\\\"].index\\ndf.drop(index, inplace=True)\\ndf.reset_index(inplace=True, drop=True)\\n\\n# Check new shape\\nprint(f\\\"There are {df.shape[0]} rows and {df.shape[1]} columns.\\\")\";\n",
       "                var nbb_cells = Jupyter.notebook.get_cells();\n",
       "                for (var i = 0; i < nbb_cells.length; ++i) {\n",
       "                    if (nbb_cells[i].input_prompt_number == nbb_cell_id) {\n",
       "                        if (nbb_cells[i].get_text() == nbb_unformatted_code) {\n",
       "                             nbb_cells[i].set_text(nbb_formatted_code);\n",
       "                        }\n",
       "                        break;\n",
       "                    }\n",
       "                }\n",
       "            }, 500);\n",
       "            "
      ],
      "text/plain": [
       "<IPython.core.display.Javascript object>"
      ]
     },
     "metadata": {},
     "output_type": "display_data"
    }
   ],
   "source": [
    "# Dropping entries with event_record_other as sole category\n",
    "index = df[df[\"known_for\"] == \"event_record_other\"].index\n",
    "df.drop(index, inplace=True)\n",
    "df.reset_index(inplace=True, drop=True)\n",
    "\n",
    "# Check new shape\n",
    "print(f\"There are {df.shape[0]} rows and {df.shape[1]} columns.\")"
   ]
  },
  {
   "cell_type": "markdown",
   "id": "12d5d60a",
   "metadata": {},
   "source": [
    "#### Typecasting Categorical Columns"
   ]
  },
  {
   "cell_type": "code",
   "execution_count": 9,
   "id": "e68ad931",
   "metadata": {},
   "outputs": [
    {
     "data": {
      "application/javascript": [
       "\n",
       "            setTimeout(function() {\n",
       "                var nbb_cell_id = 9;\n",
       "                var nbb_unformatted_code = \"# Typecasting categorical columns\\ncols_to_cast = [\\\"region\\\", \\\"prior_region\\\", \\\"known_for\\\"]\\ndf[cols_to_cast] = df[cols_to_cast].astype(\\\"category\\\")\";\n",
       "                var nbb_formatted_code = \"# Typecasting categorical columns\\ncols_to_cast = [\\\"region\\\", \\\"prior_region\\\", \\\"known_for\\\"]\\ndf[cols_to_cast] = df[cols_to_cast].astype(\\\"category\\\")\";\n",
       "                var nbb_cells = Jupyter.notebook.get_cells();\n",
       "                for (var i = 0; i < nbb_cells.length; ++i) {\n",
       "                    if (nbb_cells[i].input_prompt_number == nbb_cell_id) {\n",
       "                        if (nbb_cells[i].get_text() == nbb_unformatted_code) {\n",
       "                             nbb_cells[i].set_text(nbb_formatted_code);\n",
       "                        }\n",
       "                        break;\n",
       "                    }\n",
       "                }\n",
       "            }, 500);\n",
       "            "
      ],
      "text/plain": [
       "<IPython.core.display.Javascript object>"
      ]
     },
     "metadata": {},
     "output_type": "display_data"
    }
   ],
   "source": [
    "# Typecasting categorical columns\n",
    "cols_to_cast = [\"region\", \"prior_region\", \"known_for\"]\n",
    "df[cols_to_cast] = df[cols_to_cast].astype(\"category\")"
   ]
  },
  {
   "cell_type": "markdown",
   "id": "5b031bd7",
   "metadata": {},
   "source": [
    "#### Adding `years`"
   ]
  },
  {
   "cell_type": "code",
   "execution_count": 10,
   "id": "b9dad781",
   "metadata": {},
   "outputs": [
    {
     "data": {
      "text/html": [
       "<div>\n",
       "<style scoped>\n",
       "    .dataframe tbody tr th:only-of-type {\n",
       "        vertical-align: middle;\n",
       "    }\n",
       "\n",
       "    .dataframe tbody tr th {\n",
       "        vertical-align: top;\n",
       "    }\n",
       "\n",
       "    .dataframe thead th {\n",
       "        text-align: right;\n",
       "    }\n",
       "</style>\n",
       "<table border=\"1\" class=\"dataframe\">\n",
       "  <thead>\n",
       "    <tr style=\"text-align: right;\">\n",
       "      <th></th>\n",
       "      <th>info</th>\n",
       "      <th>link</th>\n",
       "      <th>year</th>\n",
       "      <th>info_parenth</th>\n",
       "      <th>age</th>\n",
       "      <th>sciences</th>\n",
       "      <th>social</th>\n",
       "      <th>spiritual</th>\n",
       "      <th>academia_humanities</th>\n",
       "      <th>business_farming</th>\n",
       "      <th>arts</th>\n",
       "      <th>sports</th>\n",
       "      <th>law_enf_military_operator</th>\n",
       "      <th>politics_govt_law</th>\n",
       "      <th>crime</th>\n",
       "      <th>event_record_other</th>\n",
       "      <th>num_categories</th>\n",
       "      <th>recip_num_references</th>\n",
       "      <th>region</th>\n",
       "      <th>prior_region</th>\n",
       "      <th>known_for</th>\n",
       "      <th>years</th>\n",
       "    </tr>\n",
       "  </thead>\n",
       "  <tbody>\n",
       "    <tr>\n",
       "      <th>32894</th>\n",
       "      <td>, 83, Belgian singer, cerebral hemorrhage.</td>\n",
       "      <td>https://en.wikipedia.org/wiki/Eddy_Wally</td>\n",
       "      <td>2016</td>\n",
       "      <td>NaN</td>\n",
       "      <td>83.000</td>\n",
       "      <td>0</td>\n",
       "      <td>0</td>\n",
       "      <td>0</td>\n",
       "      <td>0</td>\n",
       "      <td>0</td>\n",
       "      <td>1</td>\n",
       "      <td>0</td>\n",
       "      <td>0</td>\n",
       "      <td>0</td>\n",
       "      <td>0</td>\n",
       "      <td>0</td>\n",
       "      <td>1</td>\n",
       "      <td>0.083</td>\n",
       "      <td>Europe</td>\n",
       "      <td>No Prior Region</td>\n",
       "      <td>arts</td>\n",
       "      <td>22</td>\n",
       "    </tr>\n",
       "    <tr>\n",
       "      <th>38744</th>\n",
       "      <td>, 41, American comedian , fall.</td>\n",
       "      <td>https://en.wikipedia.org/wiki/Trevor_Moore_(comedian)</td>\n",
       "      <td>2021</td>\n",
       "      <td>and actor</td>\n",
       "      <td>41.000</td>\n",
       "      <td>0</td>\n",
       "      <td>0</td>\n",
       "      <td>0</td>\n",
       "      <td>0</td>\n",
       "      <td>0</td>\n",
       "      <td>1</td>\n",
       "      <td>0</td>\n",
       "      <td>0</td>\n",
       "      <td>0</td>\n",
       "      <td>0</td>\n",
       "      <td>0</td>\n",
       "      <td>1</td>\n",
       "      <td>0.020</td>\n",
       "      <td>North America</td>\n",
       "      <td>No Prior Region</td>\n",
       "      <td>arts</td>\n",
       "      <td>27</td>\n",
       "    </tr>\n",
       "  </tbody>\n",
       "</table>\n",
       "</div>"
      ],
      "text/plain": [
       "                                             info  \\\n",
       "32894  , 83, Belgian singer, cerebral hemorrhage.   \n",
       "38744             , 41, American comedian , fall.   \n",
       "\n",
       "                                                        link  year  \\\n",
       "32894               https://en.wikipedia.org/wiki/Eddy_Wally  2016   \n",
       "38744  https://en.wikipedia.org/wiki/Trevor_Moore_(comedian)  2021   \n",
       "\n",
       "      info_parenth    age  sciences  social  spiritual  academia_humanities  \\\n",
       "32894          NaN 83.000         0       0          0                    0   \n",
       "38744    and actor 41.000         0       0          0                    0   \n",
       "\n",
       "       business_farming  arts  sports  law_enf_military_operator  \\\n",
       "32894                 0     1       0                          0   \n",
       "38744                 0     1       0                          0   \n",
       "\n",
       "       politics_govt_law  crime  event_record_other  num_categories  \\\n",
       "32894                  0      0                   0               1   \n",
       "38744                  0      0                   0               1   \n",
       "\n",
       "       recip_num_references         region     prior_region known_for  years  \n",
       "32894                 0.083         Europe  No Prior Region      arts     22  \n",
       "38744                 0.020  North America  No Prior Region      arts     27  "
      ]
     },
     "execution_count": 10,
     "metadata": {},
     "output_type": "execute_result"
    },
    {
     "data": {
      "application/javascript": [
       "\n",
       "            setTimeout(function() {\n",
       "                var nbb_cell_id = 10;\n",
       "                var nbb_unformatted_code = \"# Adding years_elapsed column\\ndf[\\\"years\\\"] = df[\\\"year\\\"].apply(lambda x: x - 1994)\\n\\n# Checking a sample\\ndf.sample(2)\";\n",
       "                var nbb_formatted_code = \"# Adding years_elapsed column\\ndf[\\\"years\\\"] = df[\\\"year\\\"].apply(lambda x: x - 1994)\\n\\n# Checking a sample\\ndf.sample(2)\";\n",
       "                var nbb_cells = Jupyter.notebook.get_cells();\n",
       "                for (var i = 0; i < nbb_cells.length; ++i) {\n",
       "                    if (nbb_cells[i].input_prompt_number == nbb_cell_id) {\n",
       "                        if (nbb_cells[i].get_text() == nbb_unformatted_code) {\n",
       "                             nbb_cells[i].set_text(nbb_formatted_code);\n",
       "                        }\n",
       "                        break;\n",
       "                    }\n",
       "                }\n",
       "            }, 500);\n",
       "            "
      ],
      "text/plain": [
       "<IPython.core.display.Javascript object>"
      ]
     },
     "metadata": {},
     "output_type": "display_data"
    }
   ],
   "source": [
    "# Adding years_elapsed column\n",
    "df[\"years\"] = df[\"year\"].apply(lambda x: x - 1994)\n",
    "\n",
    "# Checking a sample\n",
    "df.sample(2)"
   ]
  },
  {
   "cell_type": "markdown",
   "id": "e90e9569",
   "metadata": {},
   "source": [
    "#### Dropping `year`"
   ]
  },
  {
   "cell_type": "code",
   "execution_count": 11,
   "id": "c2baa2f0",
   "metadata": {},
   "outputs": [
    {
     "data": {
      "application/javascript": [
       "\n",
       "            setTimeout(function() {\n",
       "                var nbb_cell_id = 11;\n",
       "                var nbb_unformatted_code = \"# Dropping year column\\ndf.drop(\\\"year\\\", axis=1, inplace=True)\";\n",
       "                var nbb_formatted_code = \"# Dropping year column\\ndf.drop(\\\"year\\\", axis=1, inplace=True)\";\n",
       "                var nbb_cells = Jupyter.notebook.get_cells();\n",
       "                for (var i = 0; i < nbb_cells.length; ++i) {\n",
       "                    if (nbb_cells[i].input_prompt_number == nbb_cell_id) {\n",
       "                        if (nbb_cells[i].get_text() == nbb_unformatted_code) {\n",
       "                             nbb_cells[i].set_text(nbb_formatted_code);\n",
       "                        }\n",
       "                        break;\n",
       "                    }\n",
       "                }\n",
       "            }, 500);\n",
       "            "
      ],
      "text/plain": [
       "<IPython.core.display.Javascript object>"
      ]
     },
     "metadata": {},
     "output_type": "display_data"
    }
   ],
   "source": [
    "# Dropping year column\n",
    "df.drop(\"year\", axis=1, inplace=True)"
   ]
  },
  {
   "cell_type": "markdown",
   "id": "efca7a46",
   "metadata": {},
   "source": [
    "### Treating `known_for` Categories\n",
    "We will take the approach of dropping the `known_for`column that was added during EDA and keeping and treating the individual `known for` category columns.\n",
    "\n",
    "We will replace each value with its value divided by then entries total `num_categories`.  So, the resulting `num_categories` for any individual will equal 1.  Entries with multiple categories will have evenly split values for their respective `known for` categories.  Strictly speaking, it's not feasible to accurately assign proportions of these categories, which is why the approach of creating a single `known_for` column was applied during EDA, with additional categories for individuals with multiple categories.  The thought process here is that relatively more information is lost with that approach than noise will be introduced with equal division between categories."
   ]
  },
  {
   "cell_type": "markdown",
   "id": "02af6601",
   "metadata": {},
   "source": [
    "#### Dividing `known for` Category Column Value by `num_categories`"
   ]
  },
  {
   "cell_type": "code",
   "execution_count": 12,
   "id": "37152f97",
   "metadata": {},
   "outputs": [
    {
     "name": "stdout",
     "output_type": "stream",
     "text": [
      "Unique values in num_categories:\n",
      "\n",
      " 1.000    77662\n",
      "Name: num_categories, dtype: int64\n"
     ]
    },
    {
     "data": {
      "text/html": [
       "<div>\n",
       "<style scoped>\n",
       "    .dataframe tbody tr th:only-of-type {\n",
       "        vertical-align: middle;\n",
       "    }\n",
       "\n",
       "    .dataframe tbody tr th {\n",
       "        vertical-align: top;\n",
       "    }\n",
       "\n",
       "    .dataframe thead th {\n",
       "        text-align: right;\n",
       "    }\n",
       "</style>\n",
       "<table border=\"1\" class=\"dataframe\">\n",
       "  <thead>\n",
       "    <tr style=\"text-align: right;\">\n",
       "      <th></th>\n",
       "      <th>info</th>\n",
       "      <th>link</th>\n",
       "      <th>info_parenth</th>\n",
       "      <th>age</th>\n",
       "      <th>sciences</th>\n",
       "      <th>social</th>\n",
       "      <th>spiritual</th>\n",
       "      <th>academia_humanities</th>\n",
       "      <th>business_farming</th>\n",
       "      <th>arts</th>\n",
       "      <th>sports</th>\n",
       "      <th>law_enf_military_operator</th>\n",
       "      <th>politics_govt_law</th>\n",
       "      <th>crime</th>\n",
       "      <th>event_record_other</th>\n",
       "      <th>num_categories</th>\n",
       "      <th>recip_num_references</th>\n",
       "      <th>region</th>\n",
       "      <th>prior_region</th>\n",
       "      <th>known_for</th>\n",
       "      <th>years</th>\n",
       "    </tr>\n",
       "  </thead>\n",
       "  <tbody>\n",
       "    <tr>\n",
       "      <th>51647</th>\n",
       "      <td>, 89, Japanese mathematician .</td>\n",
       "      <td>https://en.wikipedia.org/wiki/Goro_Shimura</td>\n",
       "      <td>Shimura variety, Taniyama Shimura conjecture</td>\n",
       "      <td>89.000</td>\n",
       "      <td>1.000</td>\n",
       "      <td>0.000</td>\n",
       "      <td>0.000</td>\n",
       "      <td>0.000</td>\n",
       "      <td>0.000</td>\n",
       "      <td>0.000</td>\n",
       "      <td>0.000</td>\n",
       "      <td>0.000</td>\n",
       "      <td>0.000</td>\n",
       "      <td>0.000</td>\n",
       "      <td>0.000</td>\n",
       "      <td>1.000</td>\n",
       "      <td>0.050</td>\n",
       "      <td>Asia</td>\n",
       "      <td>No Prior Region</td>\n",
       "      <td>sciences</td>\n",
       "      <td>25</td>\n",
       "    </tr>\n",
       "    <tr>\n",
       "      <th>11611</th>\n",
       "      <td>, 87, American production designer .</td>\n",
       "      <td>https://en.wikipedia.org/wiki/Harold_Michelson</td>\n",
       "      <td>, ,</td>\n",
       "      <td>87.000</td>\n",
       "      <td>0.000</td>\n",
       "      <td>0.000</td>\n",
       "      <td>0.000</td>\n",
       "      <td>0.000</td>\n",
       "      <td>0.000</td>\n",
       "      <td>1.000</td>\n",
       "      <td>0.000</td>\n",
       "      <td>0.000</td>\n",
       "      <td>0.000</td>\n",
       "      <td>0.000</td>\n",
       "      <td>0.000</td>\n",
       "      <td>1.000</td>\n",
       "      <td>0.200</td>\n",
       "      <td>North America</td>\n",
       "      <td>No Prior Region</td>\n",
       "      <td>arts</td>\n",
       "      <td>13</td>\n",
       "    </tr>\n",
       "  </tbody>\n",
       "</table>\n",
       "</div>"
      ],
      "text/plain": [
       "                                       info  \\\n",
       "51647        , 89, Japanese mathematician .   \n",
       "11611  , 87, American production designer .   \n",
       "\n",
       "                                                 link  \\\n",
       "51647      https://en.wikipedia.org/wiki/Goro_Shimura   \n",
       "11611  https://en.wikipedia.org/wiki/Harold_Michelson   \n",
       "\n",
       "                                       info_parenth    age  sciences  social  \\\n",
       "51647  Shimura variety, Taniyama Shimura conjecture 89.000     1.000   0.000   \n",
       "11611                                           , , 87.000     0.000   0.000   \n",
       "\n",
       "       spiritual  academia_humanities  business_farming  arts  sports  \\\n",
       "51647      0.000                0.000             0.000 0.000   0.000   \n",
       "11611      0.000                0.000             0.000 1.000   0.000   \n",
       "\n",
       "       law_enf_military_operator  politics_govt_law  crime  \\\n",
       "51647                      0.000              0.000  0.000   \n",
       "11611                      0.000              0.000  0.000   \n",
       "\n",
       "       event_record_other  num_categories  recip_num_references  \\\n",
       "51647               0.000           1.000                 0.050   \n",
       "11611               0.000           1.000                 0.200   \n",
       "\n",
       "              region     prior_region known_for  years  \n",
       "51647           Asia  No Prior Region  sciences     25  \n",
       "11611  North America  No Prior Region      arts     13  "
      ]
     },
     "execution_count": 12,
     "metadata": {},
     "output_type": "execute_result"
    },
    {
     "data": {
      "application/javascript": [
       "\n",
       "            setTimeout(function() {\n",
       "                var nbb_cell_id = 12;\n",
       "                var nbb_unformatted_code = \"# Replacing known for category column values with value/num_categories\\ncategory_cols = [\\n    \\\"sciences\\\",\\n    \\\"social\\\",\\n    \\\"spiritual\\\",\\n    \\\"academia_humanities\\\",\\n    \\\"business_farming\\\",\\n    \\\"arts\\\",\\n    \\\"sports\\\",\\n    \\\"law_enf_military_operator\\\",\\n    \\\"politics_govt_law\\\",\\n    \\\"crime\\\",\\n    \\\"event_record_other\\\",\\n]\\n\\n# For loop to calculate new known for value for entries with multiple categories\\nfor column in category_cols:\\n    for index in df[\\n        (df[\\\"known_for\\\"] == \\\"three_to_five\\\") | (df[\\\"known_for\\\"] == \\\"two\\\")\\n    ].index:\\n        value = df.loc[index, column]\\n        total = df.loc[index, \\\"num_categories\\\"]\\n        df.loc[index, column] = value / total\\n\\n# Updating num_references column\\ndf[\\\"num_categories\\\"] = df[category_cols].sum(axis=1)\\n\\n# Checking unique values in num_categories\\nprint(\\\"Unique values in num_categories:\\\\n\\\\n\\\", df[\\\"num_categories\\\"].value_counts())\\n\\n# Checking a sample of rows\\ndf.sample(2)\";\n",
       "                var nbb_formatted_code = \"# Replacing known for category column values with value/num_categories\\ncategory_cols = [\\n    \\\"sciences\\\",\\n    \\\"social\\\",\\n    \\\"spiritual\\\",\\n    \\\"academia_humanities\\\",\\n    \\\"business_farming\\\",\\n    \\\"arts\\\",\\n    \\\"sports\\\",\\n    \\\"law_enf_military_operator\\\",\\n    \\\"politics_govt_law\\\",\\n    \\\"crime\\\",\\n    \\\"event_record_other\\\",\\n]\\n\\n# For loop to calculate new known for value for entries with multiple categories\\nfor column in category_cols:\\n    for index in df[\\n        (df[\\\"known_for\\\"] == \\\"three_to_five\\\") | (df[\\\"known_for\\\"] == \\\"two\\\")\\n    ].index:\\n        value = df.loc[index, column]\\n        total = df.loc[index, \\\"num_categories\\\"]\\n        df.loc[index, column] = value / total\\n\\n# Updating num_references column\\ndf[\\\"num_categories\\\"] = df[category_cols].sum(axis=1)\\n\\n# Checking unique values in num_categories\\nprint(\\\"Unique values in num_categories:\\\\n\\\\n\\\", df[\\\"num_categories\\\"].value_counts())\\n\\n# Checking a sample of rows\\ndf.sample(2)\";\n",
       "                var nbb_cells = Jupyter.notebook.get_cells();\n",
       "                for (var i = 0; i < nbb_cells.length; ++i) {\n",
       "                    if (nbb_cells[i].input_prompt_number == nbb_cell_id) {\n",
       "                        if (nbb_cells[i].get_text() == nbb_unformatted_code) {\n",
       "                             nbb_cells[i].set_text(nbb_formatted_code);\n",
       "                        }\n",
       "                        break;\n",
       "                    }\n",
       "                }\n",
       "            }, 500);\n",
       "            "
      ],
      "text/plain": [
       "<IPython.core.display.Javascript object>"
      ]
     },
     "metadata": {},
     "output_type": "display_data"
    }
   ],
   "source": [
    "# Replacing known for category column values with value/num_categories\n",
    "category_cols = [\n",
    "    \"sciences\",\n",
    "    \"social\",\n",
    "    \"spiritual\",\n",
    "    \"academia_humanities\",\n",
    "    \"business_farming\",\n",
    "    \"arts\",\n",
    "    \"sports\",\n",
    "    \"law_enf_military_operator\",\n",
    "    \"politics_govt_law\",\n",
    "    \"crime\",\n",
    "    \"event_record_other\",\n",
    "]\n",
    "\n",
    "# For loop to calculate new known for value for entries with multiple categories\n",
    "for column in category_cols:\n",
    "    for index in df[\n",
    "        (df[\"known_for\"] == \"three_to_five\") | (df[\"known_for\"] == \"two\")\n",
    "    ].index:\n",
    "        value = df.loc[index, column]\n",
    "        total = df.loc[index, \"num_categories\"]\n",
    "        df.loc[index, column] = value / total\n",
    "\n",
    "# Updating num_references column\n",
    "df[\"num_categories\"] = df[category_cols].sum(axis=1)\n",
    "\n",
    "# Checking unique values in num_categories\n",
    "print(\"Unique values in num_categories:\\n\\n\", df[\"num_categories\"].value_counts())\n",
    "\n",
    "# Checking a sample of rows\n",
    "df.sample(2)"
   ]
  },
  {
   "cell_type": "markdown",
   "id": "21a3e3fc",
   "metadata": {},
   "source": [
    "#### Observations:\n",
    "- With the updated `known for` category column values, we can proceed to drop `num_categories`.\n",
    "- We will retain the `known_for` column until after we have treated missing values for `region`."
   ]
  },
  {
   "cell_type": "markdown",
   "id": "85566095",
   "metadata": {},
   "source": [
    "#### Dropping `num_categories`"
   ]
  },
  {
   "cell_type": "code",
   "execution_count": 13,
   "id": "13f9d1d1",
   "metadata": {},
   "outputs": [
    {
     "name": "stdout",
     "output_type": "stream",
     "text": [
      "There are 77662 rows and 20 columns.\n"
     ]
    },
    {
     "data": {
      "application/javascript": [
       "\n",
       "            setTimeout(function() {\n",
       "                var nbb_cell_id = 13;\n",
       "                var nbb_unformatted_code = \"# Dropping num_categories column\\ndf.drop(\\\"num_categories\\\", axis=1, inplace=True)\\n\\n# Check new shape\\nprint(f\\\"There are {df.shape[0]} rows and {df.shape[1]} columns.\\\")\";\n",
       "                var nbb_formatted_code = \"# Dropping num_categories column\\ndf.drop(\\\"num_categories\\\", axis=1, inplace=True)\\n\\n# Check new shape\\nprint(f\\\"There are {df.shape[0]} rows and {df.shape[1]} columns.\\\")\";\n",
       "                var nbb_cells = Jupyter.notebook.get_cells();\n",
       "                for (var i = 0; i < nbb_cells.length; ++i) {\n",
       "                    if (nbb_cells[i].input_prompt_number == nbb_cell_id) {\n",
       "                        if (nbb_cells[i].get_text() == nbb_unformatted_code) {\n",
       "                             nbb_cells[i].set_text(nbb_formatted_code);\n",
       "                        }\n",
       "                        break;\n",
       "                    }\n",
       "                }\n",
       "            }, 500);\n",
       "            "
      ],
      "text/plain": [
       "<IPython.core.display.Javascript object>"
      ]
     },
     "metadata": {},
     "output_type": "display_data"
    }
   ],
   "source": [
    "# Dropping num_categories column\n",
    "df.drop(\"num_categories\", axis=1, inplace=True)\n",
    "\n",
    "# Check new shape\n",
    "print(f\"There are {df.shape[0]} rows and {df.shape[1]} columns.\")"
   ]
  },
  {
   "cell_type": "markdown",
   "id": "6e0c43e5",
   "metadata": {},
   "source": [
    "#### Confirming Updated Columns"
   ]
  },
  {
   "cell_type": "code",
   "execution_count": 14,
   "id": "abc7b2f0",
   "metadata": {},
   "outputs": [
    {
     "name": "stdout",
     "output_type": "stream",
     "text": [
      "<class 'pandas.core.frame.DataFrame'>\n",
      "RangeIndex: 77662 entries, 0 to 77661\n",
      "Data columns (total 20 columns):\n",
      " #   Column                     Non-Null Count  Dtype   \n",
      "---  ------                     --------------  -----   \n",
      " 0   info                       77662 non-null  object  \n",
      " 1   link                       77662 non-null  object  \n",
      " 2   info_parenth               26865 non-null  object  \n",
      " 3   age                        77662 non-null  float64 \n",
      " 4   sciences                   77662 non-null  float64 \n",
      " 5   social                     77662 non-null  float64 \n",
      " 6   spiritual                  77662 non-null  float64 \n",
      " 7   academia_humanities        77662 non-null  float64 \n",
      " 8   business_farming           77662 non-null  float64 \n",
      " 9   arts                       77662 non-null  float64 \n",
      " 10  sports                     77662 non-null  float64 \n",
      " 11  law_enf_military_operator  77662 non-null  float64 \n",
      " 12  politics_govt_law          77662 non-null  float64 \n",
      " 13  crime                      77662 non-null  float64 \n",
      " 14  event_record_other         77662 non-null  float64 \n",
      " 15  recip_num_references       77662 non-null  float64 \n",
      " 16  region                     77546 non-null  category\n",
      " 17  prior_region               77662 non-null  category\n",
      " 18  known_for                  77662 non-null  category\n",
      " 19  years                      77662 non-null  int64   \n",
      "dtypes: category(3), float64(13), int64(1), object(3)\n",
      "memory usage: 10.3+ MB\n"
     ]
    },
    {
     "data": {
      "application/javascript": [
       "\n",
       "            setTimeout(function() {\n",
       "                var nbb_cell_id = 14;\n",
       "                var nbb_unformatted_code = \"# Recheck info\\ndf.info()\";\n",
       "                var nbb_formatted_code = \"# Recheck info\\ndf.info()\";\n",
       "                var nbb_cells = Jupyter.notebook.get_cells();\n",
       "                for (var i = 0; i < nbb_cells.length; ++i) {\n",
       "                    if (nbb_cells[i].input_prompt_number == nbb_cell_id) {\n",
       "                        if (nbb_cells[i].get_text() == nbb_unformatted_code) {\n",
       "                             nbb_cells[i].set_text(nbb_formatted_code);\n",
       "                        }\n",
       "                        break;\n",
       "                    }\n",
       "                }\n",
       "            }, 500);\n",
       "            "
      ],
      "text/plain": [
       "<IPython.core.display.Javascript object>"
      ]
     },
     "metadata": {},
     "output_type": "display_data"
    }
   ],
   "source": [
    "# Recheck info\n",
    "df.info()"
   ]
  },
  {
   "cell_type": "markdown",
   "id": "82e011c3",
   "metadata": {},
   "source": [
    "## Outlier Detection and Treatment"
   ]
  },
  {
   "cell_type": "markdown",
   "id": "06f48557",
   "metadata": {},
   "source": [
    "#### Function to View Outliers for Each Predictor Column"
   ]
  },
  {
   "cell_type": "code",
   "execution_count": 15,
   "id": "d7cb21c0",
   "metadata": {},
   "outputs": [
    {
     "data": {
      "application/javascript": [
       "\n",
       "            setTimeout(function() {\n",
       "                var nbb_cell_id = 15;\n",
       "                var nbb_unformatted_code = \"# Define a function that returns new dataframe of count and percentage of outliers of input dataframe columns\\ndef outside_IQRends_pls1pt5(dataframe):\\n    \\\"\\\"\\\"\\n    Takes input numeric dataframe and returns a dataframe of the column count \\n    and percentage of values that are outliers, defined by \\n    x < (Q1 - 1.5*IQR) \\u222a (Q3 + 1.5*IQR) > x, where x is the value of the outlier.\\n\\n    \\\"\\\"\\\"\\n    count_lst = []\\n    perc_lst = []\\n\\n    for column in dataframe:\\n        Q1 = dataframe[column].quantile(0.25)\\n        Q3 = dataframe[column].quantile(0.75)\\n        IQR = Q3 - Q1\\n        lower_whisker = Q1 - 1.5 * IQR\\n        upper_whisker = Q3 + 1.5 * IQR\\n\\n        count = len(\\n            dataframe[\\n                (dataframe[column] < lower_whisker)\\n                | (dataframe[column] > upper_whisker)\\n            ]\\n        )\\n        percentage = round(count / len(dataframe[column]) * 100, 2)\\n\\n        count_lst.append(count)\\n        perc_lst.append(percentage)\\n\\n    outlier_dict = {\\\"outlier_count\\\": count_lst, \\\"percentage_outliers\\\": perc_lst}\\n\\n    return pd.DataFrame(data=outlier_dict, index=dataframe.columns).sort_values(\\n        by=\\\"outlier_count\\\", ascending=False\\n    )\";\n",
       "                var nbb_formatted_code = \"# Define a function that returns new dataframe of count and percentage of outliers of input dataframe columns\\ndef outside_IQRends_pls1pt5(dataframe):\\n    \\\"\\\"\\\"\\n    Takes input numeric dataframe and returns a dataframe of the column count \\n    and percentage of values that are outliers, defined by \\n    x < (Q1 - 1.5*IQR) \\u222a (Q3 + 1.5*IQR) > x, where x is the value of the outlier.\\n\\n    \\\"\\\"\\\"\\n    count_lst = []\\n    perc_lst = []\\n\\n    for column in dataframe:\\n        Q1 = dataframe[column].quantile(0.25)\\n        Q3 = dataframe[column].quantile(0.75)\\n        IQR = Q3 - Q1\\n        lower_whisker = Q1 - 1.5 * IQR\\n        upper_whisker = Q3 + 1.5 * IQR\\n\\n        count = len(\\n            dataframe[\\n                (dataframe[column] < lower_whisker)\\n                | (dataframe[column] > upper_whisker)\\n            ]\\n        )\\n        percentage = round(count / len(dataframe[column]) * 100, 2)\\n\\n        count_lst.append(count)\\n        perc_lst.append(percentage)\\n\\n    outlier_dict = {\\\"outlier_count\\\": count_lst, \\\"percentage_outliers\\\": perc_lst}\\n\\n    return pd.DataFrame(data=outlier_dict, index=dataframe.columns).sort_values(\\n        by=\\\"outlier_count\\\", ascending=False\\n    )\";\n",
       "                var nbb_cells = Jupyter.notebook.get_cells();\n",
       "                for (var i = 0; i < nbb_cells.length; ++i) {\n",
       "                    if (nbb_cells[i].input_prompt_number == nbb_cell_id) {\n",
       "                        if (nbb_cells[i].get_text() == nbb_unformatted_code) {\n",
       "                             nbb_cells[i].set_text(nbb_formatted_code);\n",
       "                        }\n",
       "                        break;\n",
       "                    }\n",
       "                }\n",
       "            }, 500);\n",
       "            "
      ],
      "text/plain": [
       "<IPython.core.display.Javascript object>"
      ]
     },
     "metadata": {},
     "output_type": "display_data"
    }
   ],
   "source": [
    "# Define a function that returns new dataframe of count and percentage of outliers of input dataframe columns\n",
    "def outside_IQRends_pls1pt5(dataframe):\n",
    "    \"\"\"\n",
    "    Takes input numeric dataframe and returns a dataframe of the column count \n",
    "    and percentage of values that are outliers, defined by \n",
    "    x < (Q1 - 1.5*IQR) ∪ (Q3 + 1.5*IQR) > x, where x is the value of the outlier.\n",
    "\n",
    "    \"\"\"\n",
    "    count_lst = []\n",
    "    perc_lst = []\n",
    "\n",
    "    for column in dataframe:\n",
    "        Q1 = dataframe[column].quantile(0.25)\n",
    "        Q3 = dataframe[column].quantile(0.75)\n",
    "        IQR = Q3 - Q1\n",
    "        lower_whisker = Q1 - 1.5 * IQR\n",
    "        upper_whisker = Q3 + 1.5 * IQR\n",
    "\n",
    "        count = len(\n",
    "            dataframe[\n",
    "                (dataframe[column] < lower_whisker)\n",
    "                | (dataframe[column] > upper_whisker)\n",
    "            ]\n",
    "        )\n",
    "        percentage = round(count / len(dataframe[column]) * 100, 2)\n",
    "\n",
    "        count_lst.append(count)\n",
    "        perc_lst.append(percentage)\n",
    "\n",
    "    outlier_dict = {\"outlier_count\": count_lst, \"percentage_outliers\": perc_lst}\n",
    "\n",
    "    return pd.DataFrame(data=outlier_dict, index=dataframe.columns).sort_values(\n",
    "        by=\"outlier_count\", ascending=False\n",
    "    )"
   ]
  },
  {
   "cell_type": "markdown",
   "id": "10eda386",
   "metadata": {},
   "source": [
    "#### Visualization of outliers"
   ]
  },
  {
   "cell_type": "code",
   "execution_count": 16,
   "id": "feaaed4e",
   "metadata": {
    "scrolled": false
   },
   "outputs": [
    {
     "data": {
      "image/png": "[encoded data removed]",
      "text/plain": [
       "<Figure size 1440x576 with 3 Axes>"
      ]
     },
     "metadata": {},
     "output_type": "display_data"
    },
    {
     "data": {
      "text/html": [
       "<div>\n",
       "<style scoped>\n",
       "    .dataframe tbody tr th:only-of-type {\n",
       "        vertical-align: middle;\n",
       "    }\n",
       "\n",
       "    .dataframe tbody tr th {\n",
       "        vertical-align: top;\n",
       "    }\n",
       "\n",
       "    .dataframe thead th {\n",
       "        text-align: right;\n",
       "    }\n",
       "</style>\n",
       "<table border=\"1\" class=\"dataframe\">\n",
       "  <thead>\n",
       "    <tr style=\"text-align: right;\">\n",
       "      <th></th>\n",
       "      <th>outlier_count</th>\n",
       "      <th>percentage_outliers</th>\n",
       "    </tr>\n",
       "  </thead>\n",
       "  <tbody>\n",
       "    <tr>\n",
       "      <th>age</th>\n",
       "      <td>3096</td>\n",
       "      <td>3.990</td>\n",
       "    </tr>\n",
       "    <tr>\n",
       "      <th>recip_num_references</th>\n",
       "      <td>0</td>\n",
       "      <td>0.000</td>\n",
       "    </tr>\n",
       "    <tr>\n",
       "      <th>years</th>\n",
       "      <td>0</td>\n",
       "      <td>0.000</td>\n",
       "    </tr>\n",
       "  </tbody>\n",
       "</table>\n",
       "</div>"
      ],
      "text/plain": [
       "                      outlier_count  percentage_outliers\n",
       "age                            3096                3.990\n",
       "recip_num_references              0                0.000\n",
       "years                             0                0.000"
      ]
     },
     "execution_count": 16,
     "metadata": {},
     "output_type": "execute_result"
    },
    {
     "data": {
      "application/javascript": [
       "\n",
       "            setTimeout(function() {\n",
       "                var nbb_cell_id = 16;\n",
       "                var nbb_unformatted_code = \"# Boxplots of numerical features to view outliers\\ndf[[\\\"age\\\", \\\"recip_num_references\\\", \\\"years\\\"]].plot.box(\\n    subplots=True, figsize=(20, 8), layout=(1, 3)\\n)\\nplt.show()\\n\\n# Outliers outside of IQR ends +/- 1.5 * IQR for each numerical column\\noutside_IQRends_pls1pt5(df[[\\\"age\\\", \\\"recip_num_references\\\", \\\"years\\\"]])\";\n",
       "                var nbb_formatted_code = \"# Boxplots of numerical features to view outliers\\ndf[[\\\"age\\\", \\\"recip_num_references\\\", \\\"years\\\"]].plot.box(\\n    subplots=True, figsize=(20, 8), layout=(1, 3)\\n)\\nplt.show()\\n\\n# Outliers outside of IQR ends +/- 1.5 * IQR for each numerical column\\noutside_IQRends_pls1pt5(df[[\\\"age\\\", \\\"recip_num_references\\\", \\\"years\\\"]])\";\n",
       "                var nbb_cells = Jupyter.notebook.get_cells();\n",
       "                for (var i = 0; i < nbb_cells.length; ++i) {\n",
       "                    if (nbb_cells[i].input_prompt_number == nbb_cell_id) {\n",
       "                        if (nbb_cells[i].get_text() == nbb_unformatted_code) {\n",
       "                             nbb_cells[i].set_text(nbb_formatted_code);\n",
       "                        }\n",
       "                        break;\n",
       "                    }\n",
       "                }\n",
       "            }, 500);\n",
       "            "
      ],
      "text/plain": [
       "<IPython.core.display.Javascript object>"
      ]
     },
     "metadata": {},
     "output_type": "display_data"
    }
   ],
   "source": [
    "# Boxplots of numerical features to view outliers\n",
    "df[[\"age\", \"recip_num_references\", \"years\"]].plot.box(\n",
    "    subplots=True, figsize=(20, 8), layout=(1, 3)\n",
    ")\n",
    "plt.show()\n",
    "\n",
    "# Outliers outside of IQR ends +/- 1.5 * IQR for each numerical column\n",
    "outside_IQRends_pls1pt5(df[[\"age\", \"recip_num_references\", \"years\"]])"
   ]
  },
  {
   "cell_type": "markdown",
   "id": "bb77df2f",
   "metadata": {},
   "source": [
    "#### Observations:\n",
    "- Our numeric predictors do not have any outliers.  Recall that `recip_num_references` is already a multiplicative inverse ransformation.\n",
    "- The target, `age`, has at least one upper-end outlier and numerous lower-end outliers.\n",
    "- In general, we would not treat the target's outliers.  However, the two most extreme values, one on either end, are worth examining more closely as they don't follow the trend of the data."
   ]
  },
  {
   "cell_type": "markdown",
   "id": "fa5cbe22",
   "metadata": {},
   "source": [
    "#### Examining the Most Extreme Values for Target `age`"
   ]
  },
  {
   "cell_type": "code",
   "execution_count": 17,
   "id": "ef719f63",
   "metadata": {},
   "outputs": [
    {
     "data": {
      "text/html": [
       "<div>\n",
       "<style scoped>\n",
       "    .dataframe tbody tr th:only-of-type {\n",
       "        vertical-align: middle;\n",
       "    }\n",
       "\n",
       "    .dataframe tbody tr th {\n",
       "        vertical-align: top;\n",
       "    }\n",
       "\n",
       "    .dataframe thead th {\n",
       "        text-align: right;\n",
       "    }\n",
       "</style>\n",
       "<table border=\"1\" class=\"dataframe\">\n",
       "  <thead>\n",
       "    <tr style=\"text-align: right;\">\n",
       "      <th></th>\n",
       "      <th>info</th>\n",
       "      <th>link</th>\n",
       "      <th>info_parenth</th>\n",
       "      <th>age</th>\n",
       "      <th>sciences</th>\n",
       "      <th>social</th>\n",
       "      <th>spiritual</th>\n",
       "      <th>academia_humanities</th>\n",
       "      <th>business_farming</th>\n",
       "      <th>arts</th>\n",
       "      <th>sports</th>\n",
       "      <th>law_enf_military_operator</th>\n",
       "      <th>politics_govt_law</th>\n",
       "      <th>crime</th>\n",
       "      <th>event_record_other</th>\n",
       "      <th>recip_num_references</th>\n",
       "      <th>region</th>\n",
       "      <th>prior_region</th>\n",
       "      <th>known_for</th>\n",
       "      <th>years</th>\n",
       "    </tr>\n",
       "  </thead>\n",
       "  <tbody>\n",
       "    <tr>\n",
       "      <th>45752</th>\n",
       "      <td>, 6, American child beauty queen, asphyxia by strangulation and craniocerebral trauma.</td>\n",
       "      <td>https://en.wikipedia.org/wiki/Killing_of_JonBen%C3%A9t_Ramsey</td>\n",
       "      <td>NaN</td>\n",
       "      <td>6.000</td>\n",
       "      <td>0.000</td>\n",
       "      <td>0.000</td>\n",
       "      <td>0.000</td>\n",
       "      <td>0.000</td>\n",
       "      <td>0.000</td>\n",
       "      <td>1.000</td>\n",
       "      <td>0.000</td>\n",
       "      <td>0.000</td>\n",
       "      <td>0.000</td>\n",
       "      <td>0.000</td>\n",
       "      <td>0.000</td>\n",
       "      <td>0.009</td>\n",
       "      <td>North America</td>\n",
       "      <td>No Prior Region</td>\n",
       "      <td>arts</td>\n",
       "      <td>2</td>\n",
       "    </tr>\n",
       "    <tr>\n",
       "      <th>47182</th>\n",
       "      <td>, 122 .</td>\n",
       "      <td>https://en.wikipedia.org/wiki/Sudhakar_Chaturvedi</td>\n",
       "      <td>claimed, Indian Vedic scholar and courier Mahatma Gandhi</td>\n",
       "      <td>122.000</td>\n",
       "      <td>0.000</td>\n",
       "      <td>0.000</td>\n",
       "      <td>0.000</td>\n",
       "      <td>0.500</td>\n",
       "      <td>0.000</td>\n",
       "      <td>0.000</td>\n",
       "      <td>0.000</td>\n",
       "      <td>0.000</td>\n",
       "      <td>0.500</td>\n",
       "      <td>0.000</td>\n",
       "      <td>0.000</td>\n",
       "      <td>0.027</td>\n",
       "      <td>Asia</td>\n",
       "      <td>No Prior Region</td>\n",
       "      <td>two</td>\n",
       "      <td>26</td>\n",
       "    </tr>\n",
       "  </tbody>\n",
       "</table>\n",
       "</div>"
      ],
      "text/plain": [
       "                                                                                         info  \\\n",
       "45752  , 6, American child beauty queen, asphyxia by strangulation and craniocerebral trauma.   \n",
       "47182                                                                                 , 122 .   \n",
       "\n",
       "                                                                link  \\\n",
       "45752  https://en.wikipedia.org/wiki/Killing_of_JonBen%C3%A9t_Ramsey   \n",
       "47182              https://en.wikipedia.org/wiki/Sudhakar_Chaturvedi   \n",
       "\n",
       "                                                   info_parenth     age  \\\n",
       "45752                                                       NaN   6.000   \n",
       "47182  claimed, Indian Vedic scholar and courier Mahatma Gandhi 122.000   \n",
       "\n",
       "       sciences  social  spiritual  academia_humanities  business_farming  \\\n",
       "45752     0.000   0.000      0.000                0.000             0.000   \n",
       "47182     0.000   0.000      0.000                0.500             0.000   \n",
       "\n",
       "       arts  sports  law_enf_military_operator  politics_govt_law  crime  \\\n",
       "45752 1.000   0.000                      0.000              0.000  0.000   \n",
       "47182 0.000   0.000                      0.000              0.500  0.000   \n",
       "\n",
       "       event_record_other  recip_num_references         region  \\\n",
       "45752               0.000                 0.009  North America   \n",
       "47182               0.000                 0.027           Asia   \n",
       "\n",
       "          prior_region known_for  years  \n",
       "45752  No Prior Region      arts      2  \n",
       "47182  No Prior Region       two     26  "
      ]
     },
     "execution_count": 17,
     "metadata": {},
     "output_type": "execute_result"
    },
    {
     "data": {
      "application/javascript": [
       "\n",
       "            setTimeout(function() {\n",
       "                var nbb_cell_id = 17;\n",
       "                var nbb_unformatted_code = \"df[(df[\\\"age\\\"] > 120) | (df[\\\"age\\\"] < 7)]\";\n",
       "                var nbb_formatted_code = \"df[(df[\\\"age\\\"] > 120) | (df[\\\"age\\\"] < 7)]\";\n",
       "                var nbb_cells = Jupyter.notebook.get_cells();\n",
       "                for (var i = 0; i < nbb_cells.length; ++i) {\n",
       "                    if (nbb_cells[i].input_prompt_number == nbb_cell_id) {\n",
       "                        if (nbb_cells[i].get_text() == nbb_unformatted_code) {\n",
       "                             nbb_cells[i].set_text(nbb_formatted_code);\n",
       "                        }\n",
       "                        break;\n",
       "                    }\n",
       "                }\n",
       "            }, 500);\n",
       "            "
      ],
      "text/plain": [
       "<IPython.core.display.Javascript object>"
      ]
     },
     "metadata": {},
     "output_type": "display_data"
    }
   ],
   "source": [
    "df[(df[\"age\"] > 120) | (df[\"age\"] < 7)]"
   ]
  },
  {
   "cell_type": "markdown",
   "id": "ebcfcfee",
   "metadata": {},
   "source": [
    "#### Observations:\n",
    "- We will drop the lower end outlier as the entry is more correctly categorized solely as `event_record_other`.  It is unlikely the individual would have been known if not for the manner of her death.\n",
    "- In contrast, we will keep the upper-end outlier, who was noteworthy in life beyond his exceptional age alone."
   ]
  },
  {
   "cell_type": "markdown",
   "id": "c9f865f7",
   "metadata": {},
   "source": [
    "#### Dropping Lower-end Outlier for `age`"
   ]
  },
  {
   "cell_type": "code",
   "execution_count": 18,
   "id": "84a338b4",
   "metadata": {},
   "outputs": [
    {
     "data": {
      "application/javascript": [
       "\n",
       "            setTimeout(function() {\n",
       "                var nbb_cell_id = 18;\n",
       "                var nbb_unformatted_code = \"# Dropping single entry with lowest age\\nindex = df[\\n    df[\\\"link\\\"] == \\\"https://en.wikipedia.org/wiki/Killing_of_JonBen%C3%A9t_Ramsey\\\"\\n].index\\ndf.drop(index, inplace=True)\\ndf.reset_index(inplace=True, drop=True)\";\n",
       "                var nbb_formatted_code = \"# Dropping single entry with lowest age\\nindex = df[\\n    df[\\\"link\\\"] == \\\"https://en.wikipedia.org/wiki/Killing_of_JonBen%C3%A9t_Ramsey\\\"\\n].index\\ndf.drop(index, inplace=True)\\ndf.reset_index(inplace=True, drop=True)\";\n",
       "                var nbb_cells = Jupyter.notebook.get_cells();\n",
       "                for (var i = 0; i < nbb_cells.length; ++i) {\n",
       "                    if (nbb_cells[i].input_prompt_number == nbb_cell_id) {\n",
       "                        if (nbb_cells[i].get_text() == nbb_unformatted_code) {\n",
       "                             nbb_cells[i].set_text(nbb_formatted_code);\n",
       "                        }\n",
       "                        break;\n",
       "                    }\n",
       "                }\n",
       "            }, 500);\n",
       "            "
      ],
      "text/plain": [
       "<IPython.core.display.Javascript object>"
      ]
     },
     "metadata": {},
     "output_type": "display_data"
    }
   ],
   "source": [
    "# Dropping single entry with lowest age\n",
    "index = df[\n",
    "    df[\"link\"] == \"https://en.wikipedia.org/wiki/Killing_of_JonBen%C3%A9t_Ramsey\"\n",
    "].index\n",
    "df.drop(index, inplace=True)\n",
    "df.reset_index(inplace=True, drop=True)"
   ]
  },
  {
   "cell_type": "markdown",
   "id": "9a9b17cb",
   "metadata": {},
   "source": [
    "#### Visualization of Outliers after Treatment"
   ]
  },
  {
   "cell_type": "code",
   "execution_count": 19,
   "id": "14047694",
   "metadata": {
    "scrolled": false
   },
   "outputs": [
    {
     "data": {
      "image/png": "[encoded data removed]",
      "text/plain": [
       "<Figure size 1440x576 with 3 Axes>"
      ]
     },
     "metadata": {},
     "output_type": "display_data"
    },
    {
     "data": {
      "text/html": [
       "<div>\n",
       "<style scoped>\n",
       "    .dataframe tbody tr th:only-of-type {\n",
       "        vertical-align: middle;\n",
       "    }\n",
       "\n",
       "    .dataframe tbody tr th {\n",
       "        vertical-align: top;\n",
       "    }\n",
       "\n",
       "    .dataframe thead th {\n",
       "        text-align: right;\n",
       "    }\n",
       "</style>\n",
       "<table border=\"1\" class=\"dataframe\">\n",
       "  <thead>\n",
       "    <tr style=\"text-align: right;\">\n",
       "      <th></th>\n",
       "      <th>outlier_count</th>\n",
       "      <th>percentage_outliers</th>\n",
       "    </tr>\n",
       "  </thead>\n",
       "  <tbody>\n",
       "    <tr>\n",
       "      <th>age</th>\n",
       "      <td>3095</td>\n",
       "      <td>3.990</td>\n",
       "    </tr>\n",
       "    <tr>\n",
       "      <th>recip_num_references</th>\n",
       "      <td>0</td>\n",
       "      <td>0.000</td>\n",
       "    </tr>\n",
       "    <tr>\n",
       "      <th>years</th>\n",
       "      <td>0</td>\n",
       "      <td>0.000</td>\n",
       "    </tr>\n",
       "  </tbody>\n",
       "</table>\n",
       "</div>"
      ],
      "text/plain": [
       "                      outlier_count  percentage_outliers\n",
       "age                            3095                3.990\n",
       "recip_num_references              0                0.000\n",
       "years                             0                0.000"
      ]
     },
     "execution_count": 19,
     "metadata": {},
     "output_type": "execute_result"
    },
    {
     "data": {
      "application/javascript": [
       "\n",
       "            setTimeout(function() {\n",
       "                var nbb_cell_id = 19;\n",
       "                var nbb_unformatted_code = \"# Boxplots of numerical features to view outliers\\ndf[[\\\"age\\\", \\\"recip_num_references\\\", \\\"years\\\"]].plot.box(\\n    subplots=True, figsize=(20, 8), layout=(1, 3)\\n)\\nplt.show()\\n\\n# Outliers outside of IQR ends +/- 1.5 * IQR for each numerical column\\noutside_IQRends_pls1pt5(df[[\\\"age\\\", \\\"recip_num_references\\\", \\\"years\\\"]])\";\n",
       "                var nbb_formatted_code = \"# Boxplots of numerical features to view outliers\\ndf[[\\\"age\\\", \\\"recip_num_references\\\", \\\"years\\\"]].plot.box(\\n    subplots=True, figsize=(20, 8), layout=(1, 3)\\n)\\nplt.show()\\n\\n# Outliers outside of IQR ends +/- 1.5 * IQR for each numerical column\\noutside_IQRends_pls1pt5(df[[\\\"age\\\", \\\"recip_num_references\\\", \\\"years\\\"]])\";\n",
       "                var nbb_cells = Jupyter.notebook.get_cells();\n",
       "                for (var i = 0; i < nbb_cells.length; ++i) {\n",
       "                    if (nbb_cells[i].input_prompt_number == nbb_cell_id) {\n",
       "                        if (nbb_cells[i].get_text() == nbb_unformatted_code) {\n",
       "                             nbb_cells[i].set_text(nbb_formatted_code);\n",
       "                        }\n",
       "                        break;\n",
       "                    }\n",
       "                }\n",
       "            }, 500);\n",
       "            "
      ],
      "text/plain": [
       "<IPython.core.display.Javascript object>"
      ]
     },
     "metadata": {},
     "output_type": "display_data"
    }
   ],
   "source": [
    "# Boxplots of numerical features to view outliers\n",
    "df[[\"age\", \"recip_num_references\", \"years\"]].plot.box(\n",
    "    subplots=True, figsize=(20, 8), layout=(1, 3)\n",
    ")\n",
    "plt.show()\n",
    "\n",
    "# Outliers outside of IQR ends +/- 1.5 * IQR for each numerical column\n",
    "outside_IQRends_pls1pt5(df[[\"age\", \"recip_num_references\", \"years\"]])"
   ]
  },
  {
   "cell_type": "markdown",
   "id": "65fd1265",
   "metadata": {},
   "source": [
    "#### Dropping `info`, `info_parenth`, and `link`"
   ]
  },
  {
   "cell_type": "code",
   "execution_count": 20,
   "id": "63024dd2",
   "metadata": {},
   "outputs": [
    {
     "name": "stdout",
     "output_type": "stream",
     "text": [
      "There are 77661 rows and 17 columns.\n"
     ]
    },
    {
     "data": {
      "application/javascript": [
       "\n",
       "            setTimeout(function() {\n",
       "                var nbb_cell_id = 20;\n",
       "                var nbb_unformatted_code = \"# Dropping info, info_parenth, and link\\ncols_to_drop = [\\\"info\\\", \\\"info_parenth\\\", \\\"link\\\"]\\ndf.drop(cols_to_drop, axis=1, inplace=True)\\n\\n# Re-check shape\\nprint(f\\\"There are {df.shape[0]} rows and {df.shape[1]} columns.\\\")\";\n",
       "                var nbb_formatted_code = \"# Dropping info, info_parenth, and link\\ncols_to_drop = [\\\"info\\\", \\\"info_parenth\\\", \\\"link\\\"]\\ndf.drop(cols_to_drop, axis=1, inplace=True)\\n\\n# Re-check shape\\nprint(f\\\"There are {df.shape[0]} rows and {df.shape[1]} columns.\\\")\";\n",
       "                var nbb_cells = Jupyter.notebook.get_cells();\n",
       "                for (var i = 0; i < nbb_cells.length; ++i) {\n",
       "                    if (nbb_cells[i].input_prompt_number == nbb_cell_id) {\n",
       "                        if (nbb_cells[i].get_text() == nbb_unformatted_code) {\n",
       "                             nbb_cells[i].set_text(nbb_formatted_code);\n",
       "                        }\n",
       "                        break;\n",
       "                    }\n",
       "                }\n",
       "            }, 500);\n",
       "            "
      ],
      "text/plain": [
       "<IPython.core.display.Javascript object>"
      ]
     },
     "metadata": {},
     "output_type": "display_data"
    }
   ],
   "source": [
    "# Dropping info, info_parenth, and link\n",
    "cols_to_drop = [\"info\", \"info_parenth\", \"link\"]\n",
    "df.drop(cols_to_drop, axis=1, inplace=True)\n",
    "\n",
    "# Re-check shape\n",
    "print(f\"There are {df.shape[0]} rows and {df.shape[1]} columns.\")"
   ]
  },
  {
   "cell_type": "markdown",
   "id": "2aceb7f3",
   "metadata": {},
   "source": [
    "#### Observations:\n",
    "- We are finished with the outliers and have dropped `info`, `info_parenth`, and `link` columns."
   ]
  },
  {
   "cell_type": "markdown",
   "id": "baf3c63f",
   "metadata": {},
   "source": [
    "## Missing Values"
   ]
  },
  {
   "cell_type": "code",
   "execution_count": 22,
   "id": "4c2172e1",
   "metadata": {},
   "outputs": [
    {
     "data": {
      "application/javascript": [
       "\n",
       "            setTimeout(function() {\n",
       "                var nbb_cell_id = 22;\n",
       "                var nbb_unformatted_code = \"cat_cols = [\\n    \\\"sciences\\\",\\n    \\\"social\\\",\\n    \\\"spiritual\\\",\\n    \\\"academia_humanities\\\",\\n    \\\"business_farming\\\",\\n    \\\"arts\\\",\\n    \\\"sports\\\",\\n    \\\"law_enf_military_operator\\\",\\n    \\\"politics_govt_law\\\",\\n    \\\"crime\\\",\\n    \\\"event_record_other\\\",\\n]\";\n",
       "                var nbb_formatted_code = \"cat_cols = [\\n    \\\"sciences\\\",\\n    \\\"social\\\",\\n    \\\"spiritual\\\",\\n    \\\"academia_humanities\\\",\\n    \\\"business_farming\\\",\\n    \\\"arts\\\",\\n    \\\"sports\\\",\\n    \\\"law_enf_military_operator\\\",\\n    \\\"politics_govt_law\\\",\\n    \\\"crime\\\",\\n    \\\"event_record_other\\\",\\n]\";\n",
       "                var nbb_cells = Jupyter.notebook.get_cells();\n",
       "                for (var i = 0; i < nbb_cells.length; ++i) {\n",
       "                    if (nbb_cells[i].input_prompt_number == nbb_cell_id) {\n",
       "                        if (nbb_cells[i].get_text() == nbb_unformatted_code) {\n",
       "                             nbb_cells[i].set_text(nbb_formatted_code);\n",
       "                        }\n",
       "                        break;\n",
       "                    }\n",
       "                }\n",
       "            }, 500);\n",
       "            "
      ],
      "text/plain": [
       "<IPython.core.display.Javascript object>"
      ]
     },
     "metadata": {},
     "output_type": "display_data"
    }
   ],
   "source": [
    "cat_cols = [\n",
    "    \"sciences\",\n",
    "    \"social\",\n",
    "    \"spiritual\",\n",
    "    \"academia_humanities\",\n",
    "    \"business_farming\",\n",
    "    \"arts\",\n",
    "    \"sports\",\n",
    "    \"law_enf_military_operator\",\n",
    "    \"politics_govt_law\",\n",
    "    \"crime\",\n",
    "    \"event_record_other\",\n",
    "]"
   ]
  },
  {
   "cell_type": "code",
   "execution_count": 29,
   "id": "31f01aa7",
   "metadata": {},
   "outputs": [
    {
     "data": {
      "text/html": [
       "<div>\n",
       "<style scoped>\n",
       "    .dataframe tbody tr th:only-of-type {\n",
       "        vertical-align: middle;\n",
       "    }\n",
       "\n",
       "    .dataframe tbody tr th {\n",
       "        vertical-align: top;\n",
       "    }\n",
       "\n",
       "    .dataframe thead th {\n",
       "        text-align: right;\n",
       "    }\n",
       "</style>\n",
       "<table border=\"1\" class=\"dataframe\">\n",
       "  <thead>\n",
       "    <tr style=\"text-align: right;\">\n",
       "      <th></th>\n",
       "      <th>academia_humanities</th>\n",
       "      <th>arts</th>\n",
       "      <th>business_farming</th>\n",
       "      <th>crime</th>\n",
       "      <th>event_record_other</th>\n",
       "      <th>law_enf_military_operator</th>\n",
       "      <th>politics_govt_law</th>\n",
       "      <th>sciences</th>\n",
       "      <th>social</th>\n",
       "      <th>spiritual</th>\n",
       "      <th>sports</th>\n",
       "    </tr>\n",
       "    <tr>\n",
       "      <th>region</th>\n",
       "      <th></th>\n",
       "      <th></th>\n",
       "      <th></th>\n",
       "      <th></th>\n",
       "      <th></th>\n",
       "      <th></th>\n",
       "      <th></th>\n",
       "      <th></th>\n",
       "      <th></th>\n",
       "      <th></th>\n",
       "      <th></th>\n",
       "    </tr>\n",
       "  </thead>\n",
       "  <tbody>\n",
       "    <tr>\n",
       "      <th>Africa</th>\n",
       "      <td>0.036</td>\n",
       "      <td>0.231</td>\n",
       "      <td>0.019</td>\n",
       "      <td>0.006</td>\n",
       "      <td>0.001</td>\n",
       "      <td>0.057</td>\n",
       "      <td>0.404</td>\n",
       "      <td>0.035</td>\n",
       "      <td>0.002</td>\n",
       "      <td>0.044</td>\n",
       "      <td>0.165</td>\n",
       "    </tr>\n",
       "    <tr>\n",
       "      <th>Asia</th>\n",
       "      <td>0.058</td>\n",
       "      <td>0.407</td>\n",
       "      <td>0.024</td>\n",
       "      <td>0.007</td>\n",
       "      <td>0.001</td>\n",
       "      <td>0.039</td>\n",
       "      <td>0.277</td>\n",
       "      <td>0.066</td>\n",
       "      <td>0.006</td>\n",
       "      <td>0.037</td>\n",
       "      <td>0.079</td>\n",
       "    </tr>\n",
       "    <tr>\n",
       "      <th>Central Asia</th>\n",
       "      <td>0.073</td>\n",
       "      <td>0.375</td>\n",
       "      <td>0.016</td>\n",
       "      <td>0.000</td>\n",
       "      <td>0.000</td>\n",
       "      <td>0.015</td>\n",
       "      <td>0.245</td>\n",
       "      <td>0.055</td>\n",
       "      <td>0.000</td>\n",
       "      <td>0.022</td>\n",
       "      <td>0.198</td>\n",
       "    </tr>\n",
       "    <tr>\n",
       "      <th>Europe</th>\n",
       "      <td>0.065</td>\n",
       "      <td>0.376</td>\n",
       "      <td>0.023</td>\n",
       "      <td>0.005</td>\n",
       "      <td>0.002</td>\n",
       "      <td>0.046</td>\n",
       "      <td>0.143</td>\n",
       "      <td>0.074</td>\n",
       "      <td>0.003</td>\n",
       "      <td>0.029</td>\n",
       "      <td>0.233</td>\n",
       "    </tr>\n",
       "    <tr>\n",
       "      <th>Mid-Cent America/Caribbean</th>\n",
       "      <td>0.033</td>\n",
       "      <td>0.388</td>\n",
       "      <td>0.021</td>\n",
       "      <td>0.017</td>\n",
       "      <td>0.002</td>\n",
       "      <td>0.021</td>\n",
       "      <td>0.247</td>\n",
       "      <td>0.021</td>\n",
       "      <td>0.002</td>\n",
       "      <td>0.026</td>\n",
       "      <td>0.224</td>\n",
       "    </tr>\n",
       "    <tr>\n",
       "      <th>Middle East</th>\n",
       "      <td>0.079</td>\n",
       "      <td>0.307</td>\n",
       "      <td>0.022</td>\n",
       "      <td>0.011</td>\n",
       "      <td>0.002</td>\n",
       "      <td>0.088</td>\n",
       "      <td>0.274</td>\n",
       "      <td>0.051</td>\n",
       "      <td>0.003</td>\n",
       "      <td>0.062</td>\n",
       "      <td>0.101</td>\n",
       "    </tr>\n",
       "    <tr>\n",
       "      <th>North America</th>\n",
       "      <td>0.058</td>\n",
       "      <td>0.392</td>\n",
       "      <td>0.032</td>\n",
       "      <td>0.014</td>\n",
       "      <td>0.002</td>\n",
       "      <td>0.032</td>\n",
       "      <td>0.172</td>\n",
       "      <td>0.088</td>\n",
       "      <td>0.007</td>\n",
       "      <td>0.023</td>\n",
       "      <td>0.180</td>\n",
       "    </tr>\n",
       "    <tr>\n",
       "      <th>Oceania</th>\n",
       "      <td>0.041</td>\n",
       "      <td>0.270</td>\n",
       "      <td>0.026</td>\n",
       "      <td>0.008</td>\n",
       "      <td>0.001</td>\n",
       "      <td>0.028</td>\n",
       "      <td>0.224</td>\n",
       "      <td>0.061</td>\n",
       "      <td>0.006</td>\n",
       "      <td>0.023</td>\n",
       "      <td>0.312</td>\n",
       "    </tr>\n",
       "    <tr>\n",
       "      <th>Russian Federation</th>\n",
       "      <td>0.058</td>\n",
       "      <td>0.388</td>\n",
       "      <td>0.009</td>\n",
       "      <td>0.009</td>\n",
       "      <td>0.001</td>\n",
       "      <td>0.122</td>\n",
       "      <td>0.123</td>\n",
       "      <td>0.092</td>\n",
       "      <td>0.001</td>\n",
       "      <td>0.011</td>\n",
       "      <td>0.186</td>\n",
       "    </tr>\n",
       "    <tr>\n",
       "      <th>South America</th>\n",
       "      <td>0.035</td>\n",
       "      <td>0.352</td>\n",
       "      <td>0.023</td>\n",
       "      <td>0.011</td>\n",
       "      <td>0.001</td>\n",
       "      <td>0.027</td>\n",
       "      <td>0.231</td>\n",
       "      <td>0.047</td>\n",
       "      <td>0.001</td>\n",
       "      <td>0.030</td>\n",
       "      <td>0.242</td>\n",
       "    </tr>\n",
       "    <tr>\n",
       "      <th>South East Asia</th>\n",
       "      <td>0.026</td>\n",
       "      <td>0.294</td>\n",
       "      <td>0.035</td>\n",
       "      <td>0.012</td>\n",
       "      <td>0.001</td>\n",
       "      <td>0.064</td>\n",
       "      <td>0.383</td>\n",
       "      <td>0.020</td>\n",
       "      <td>0.005</td>\n",
       "      <td>0.057</td>\n",
       "      <td>0.103</td>\n",
       "    </tr>\n",
       "  </tbody>\n",
       "</table>\n",
       "</div>"
      ],
      "text/plain": [
       "                            academia_humanities  arts  business_farming  \\\n",
       "region                                                                    \n",
       "Africa                                    0.036 0.231             0.019   \n",
       "Asia                                      0.058 0.407             0.024   \n",
       "Central Asia                              0.073 0.375             0.016   \n",
       "Europe                                    0.065 0.376             0.023   \n",
       "Mid-Cent America/Caribbean                0.033 0.388             0.021   \n",
       "Middle East                               0.079 0.307             0.022   \n",
       "North America                             0.058 0.392             0.032   \n",
       "Oceania                                   0.041 0.270             0.026   \n",
       "Russian Federation                        0.058 0.388             0.009   \n",
       "South America                             0.035 0.352             0.023   \n",
       "South East Asia                           0.026 0.294             0.035   \n",
       "\n",
       "                            crime  event_record_other  \\\n",
       "region                                                  \n",
       "Africa                      0.006               0.001   \n",
       "Asia                        0.007               0.001   \n",
       "Central Asia                0.000               0.000   \n",
       "Europe                      0.005               0.002   \n",
       "Mid-Cent America/Caribbean  0.017               0.002   \n",
       "Middle East                 0.011               0.002   \n",
       "North America               0.014               0.002   \n",
       "Oceania                     0.008               0.001   \n",
       "Russian Federation          0.009               0.001   \n",
       "South America               0.011               0.001   \n",
       "South East Asia             0.012               0.001   \n",
       "\n",
       "                            law_enf_military_operator  politics_govt_law  \\\n",
       "region                                                                     \n",
       "Africa                                          0.057              0.404   \n",
       "Asia                                            0.039              0.277   \n",
       "Central Asia                                    0.015              0.245   \n",
       "Europe                                          0.046              0.143   \n",
       "Mid-Cent America/Caribbean                      0.021              0.247   \n",
       "Middle East                                     0.088              0.274   \n",
       "North America                                   0.032              0.172   \n",
       "Oceania                                         0.028              0.224   \n",
       "Russian Federation                              0.122              0.123   \n",
       "South America                                   0.027              0.231   \n",
       "South East Asia                                 0.064              0.383   \n",
       "\n",
       "                            sciences  social  spiritual  sports  \n",
       "region                                                           \n",
       "Africa                         0.035   0.002      0.044   0.165  \n",
       "Asia                           0.066   0.006      0.037   0.079  \n",
       "Central Asia                   0.055   0.000      0.022   0.198  \n",
       "Europe                         0.074   0.003      0.029   0.233  \n",
       "Mid-Cent America/Caribbean     0.021   0.002      0.026   0.224  \n",
       "Middle East                    0.051   0.003      0.062   0.101  \n",
       "North America                  0.088   0.007      0.023   0.180  \n",
       "Oceania                        0.061   0.006      0.023   0.312  \n",
       "Russian Federation             0.092   0.001      0.011   0.186  \n",
       "South America                  0.047   0.001      0.030   0.242  \n",
       "South East Asia                0.020   0.005      0.057   0.103  "
      ]
     },
     "execution_count": 29,
     "metadata": {},
     "output_type": "execute_result"
    },
    {
     "data": {
      "application/javascript": [
       "\n",
       "            setTimeout(function() {\n",
       "                var nbb_cell_id = 29;\n",
       "                var nbb_unformatted_code = \"cols = cat_cols + [\\\"region\\\"]\\ndf[cols].pivot_table(index=\\\"region\\\")\";\n",
       "                var nbb_formatted_code = \"cols = cat_cols + [\\\"region\\\"]\\ndf[cols].pivot_table(index=\\\"region\\\")\";\n",
       "                var nbb_cells = Jupyter.notebook.get_cells();\n",
       "                for (var i = 0; i < nbb_cells.length; ++i) {\n",
       "                    if (nbb_cells[i].input_prompt_number == nbb_cell_id) {\n",
       "                        if (nbb_cells[i].get_text() == nbb_unformatted_code) {\n",
       "                             nbb_cells[i].set_text(nbb_formatted_code);\n",
       "                        }\n",
       "                        break;\n",
       "                    }\n",
       "                }\n",
       "            }, 500);\n",
       "            "
      ],
      "text/plain": [
       "<IPython.core.display.Javascript object>"
      ]
     },
     "metadata": {},
     "output_type": "display_data"
    }
   ],
   "source": [
    "cols = cat_cols + [\"region\"]\n",
    "df[cols].pivot_table(index=\"region\")"
   ]
  },
  {
   "cell_type": "code",
   "execution_count": 44,
   "id": "f48f9a10",
   "metadata": {},
   "outputs": [
    {
     "data": {
      "image/png": "[encoded data removed]",
      "text/plain": [
       "<Figure size 1080x720 with 2 Axes>"
      ]
     },
     "metadata": {},
     "output_type": "display_data"
    },
    {
     "data": {
      "application/javascript": [
       "\n",
       "            setTimeout(function() {\n",
       "                var nbb_cell_id = 44;\n",
       "                var nbb_unformatted_code = \"plt.figure(figsize=(15, 10))\\nsns.heatmap(\\n    df[cols].pivot_table(index=\\\"region\\\"), annot=True, linewidths=0.5, cmap=\\\"BuPu\\\", annot_kws={'fontsize': 14}\\n)\\nplt.show()\";\n",
       "                var nbb_formatted_code = \"plt.figure(figsize=(15, 10))\\nsns.heatmap(\\n    df[cols].pivot_table(index=\\\"region\\\"),\\n    annot=True,\\n    linewidths=0.5,\\n    cmap=\\\"BuPu\\\",\\n    annot_kws={\\\"fontsize\\\": 14},\\n)\\nplt.show()\";\n",
       "                var nbb_cells = Jupyter.notebook.get_cells();\n",
       "                for (var i = 0; i < nbb_cells.length; ++i) {\n",
       "                    if (nbb_cells[i].input_prompt_number == nbb_cell_id) {\n",
       "                        if (nbb_cells[i].get_text() == nbb_unformatted_code) {\n",
       "                             nbb_cells[i].set_text(nbb_formatted_code);\n",
       "                        }\n",
       "                        break;\n",
       "                    }\n",
       "                }\n",
       "            }, 500);\n",
       "            "
      ],
      "text/plain": [
       "<IPython.core.display.Javascript object>"
      ]
     },
     "metadata": {},
     "output_type": "display_data"
    }
   ],
   "source": [
    "plt.figure(figsize=(15, 10))\n",
    "sns.heatmap(\n",
    "    df[cols].pivot_table(index=\"region\"),\n",
    "    annot=True,\n",
    "    linewidths=0.5,\n",
    "    cmap=\"BuPu\",\n",
    ")\n",
    "plt.show()"
   ]
  },
  {
   "cell_type": "code",
   "execution_count": null,
   "id": "e61f8a55",
   "metadata": {},
   "outputs": [],
   "source": []
  },
  {
   "cell_type": "code",
   "execution_count": null,
   "id": "d1e36ea9",
   "metadata": {},
   "outputs": [],
   "source": []
  },
  {
   "cell_type": "markdown",
   "id": "0f66697e",
   "metadata": {},
   "source": [
    "#### Observations:\n",
    "- We will now save our dataset and pick back up in a new notebook."
   ]
  },
  {
   "cell_type": "markdown",
   "id": "1113a242",
   "metadata": {},
   "source": [
    "### Exporting Dataset to SQLite Database [wp_life_expect_clean.db]()"
   ]
  },
  {
   "cell_type": "code",
   "execution_count": null,
   "id": "6008ac61",
   "metadata": {},
   "outputs": [],
   "source": [
    "# # Exporting dataframe\n",
    "\n",
    "# # Saving dataset in a SQLite database\n",
    "# conn = sql.connect(\"wp_life_expect_clean.db\")\n",
    "# df.to_sql(\"wp_life_expect_clean\", conn, index=False)"
   ]
  },
  {
   "cell_type": "code",
   "execution_count": null,
   "id": "a36c0663",
   "metadata": {},
   "outputs": [],
   "source": [
    "print('Complete')\n",
    "\n",
    "# Chime notification when cell executes\n",
    "chime.success()"
   ]
  },
  {
   "cell_type": "markdown",
   "id": "11aacfcc",
   "metadata": {},
   "source": [
    "# [Proceed to Data Cleaning Part ]()"
   ]
  }
 ],
 "metadata": {
  "kernelspec": {
   "display_name": "Python 3 (ipykernel)",
   "language": "python",
   "name": "python3"
  },
  "language_info": {
   "codemirror_mode": {
    "name": "ipython",
    "version": 3
   },
   "file_extension": ".py",
   "mimetype": "text/x-python",
   "name": "python",
   "nbconvert_exporter": "python",
   "pygments_lexer": "ipython3",
   "version": "3.9.12"
  }
 },
 "nbformat": 4,
 "nbformat_minor": 5
}
