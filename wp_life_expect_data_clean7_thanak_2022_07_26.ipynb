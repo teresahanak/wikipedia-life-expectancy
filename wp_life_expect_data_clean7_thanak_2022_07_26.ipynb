{
 "cells": [
  {
   "cell_type": "markdown",
   "id": "316a0779",
   "metadata": {},
   "source": [
    "# Wikipedia Notable Life Expectancies\n",
    "# [Notebook  : Data Cleaning Part 7](https://github.com/teresahanak/wikipedia-life-expectancy/blob/main/wp_life_expect_data_clean7_thanak_2022_07_26.ipynb)\n",
    "### Context\n",
    "\n",
    "The\n",
    "### Objective\n",
    "\n",
    "The\n",
    "### Data Dictionary\n",
    "- Feature: Description"
   ]
  },
  {
   "cell_type": "markdown",
   "id": "99245d51",
   "metadata": {},
   "source": [
    "### Importing Libraries"
   ]
  },
  {
   "cell_type": "code",
   "execution_count": 1,
   "id": "453bba83",
   "metadata": {},
   "outputs": [
    {
     "data": {
      "application/javascript": [
       "\n",
       "            setTimeout(function() {\n",
       "                var nbb_cell_id = 1;\n",
       "                var nbb_unformatted_code = \"# To structure code automatically\\n%load_ext nb_black\\n\\n# To import/export sqlite databases\\nimport sqlite3 as sql\\n\\n# To save/open python objects in pickle file\\nimport pickle\\n\\n# To help with reading, cleaning, and manipulating data\\nimport pandas as pd\\nimport numpy as np\\nimport re\\n\\n# To define maximum number of columns to be displayed in a dataframe\\npd.set_option(\\\"display.max_columns\\\", None)\\n# To define the maximum number of rows to be displayed in a dataframe\\npd.set_option(\\\"display.max_rows\\\", 200)\\n\\n# To supress warnings\\n# import warnings\\n\\n# warnings.filterwarnings(\\\"ignore\\\")\\n\\n# To set some visualization attributes\\npd.set_option(\\\"max_colwidth\\\", 150)\\n\\n# To play auditory cue when cell has executed, has warning, or has error and set chime theme\\nimport chime\\n\\nchime.theme(\\\"zelda\\\")\";\n",
       "                var nbb_formatted_code = \"# To structure code automatically\\n%load_ext nb_black\\n\\n# To import/export sqlite databases\\nimport sqlite3 as sql\\n\\n# To save/open python objects in pickle file\\nimport pickle\\n\\n# To help with reading, cleaning, and manipulating data\\nimport pandas as pd\\nimport numpy as np\\nimport re\\n\\n# To define maximum number of columns to be displayed in a dataframe\\npd.set_option(\\\"display.max_columns\\\", None)\\n# To define the maximum number of rows to be displayed in a dataframe\\npd.set_option(\\\"display.max_rows\\\", 200)\\n\\n# To supress warnings\\n# import warnings\\n\\n# warnings.filterwarnings(\\\"ignore\\\")\\n\\n# To set some visualization attributes\\npd.set_option(\\\"max_colwidth\\\", 150)\\n\\n# To play auditory cue when cell has executed, has warning, or has error and set chime theme\\nimport chime\\n\\nchime.theme(\\\"zelda\\\")\";\n",
       "                var nbb_cells = Jupyter.notebook.get_cells();\n",
       "                for (var i = 0; i < nbb_cells.length; ++i) {\n",
       "                    if (nbb_cells[i].input_prompt_number == nbb_cell_id) {\n",
       "                        if (nbb_cells[i].get_text() == nbb_unformatted_code) {\n",
       "                             nbb_cells[i].set_text(nbb_formatted_code);\n",
       "                        }\n",
       "                        break;\n",
       "                    }\n",
       "                }\n",
       "            }, 500);\n",
       "            "
      ],
      "text/plain": [
       "<IPython.core.display.Javascript object>"
      ]
     },
     "metadata": {},
     "output_type": "display_data"
    }
   ],
   "source": [
    "# To structure code automatically\n",
    "%load_ext nb_black\n",
    "\n",
    "# To import/export sqlite databases\n",
    "import sqlite3 as sql\n",
    "\n",
    "# To save/open python objects in pickle file\n",
    "import pickle\n",
    "\n",
    "# To help with reading, cleaning, and manipulating data\n",
    "import pandas as pd\n",
    "import numpy as np\n",
    "import re\n",
    "\n",
    "# To define maximum number of columns to be displayed in a dataframe\n",
    "pd.set_option(\"display.max_columns\", None)\n",
    "# To define the maximum number of rows to be displayed in a dataframe\n",
    "pd.set_option(\"display.max_rows\", 200)\n",
    "\n",
    "# To supress warnings\n",
    "# import warnings\n",
    "\n",
    "# warnings.filterwarnings(\"ignore\")\n",
    "\n",
    "# To set some visualization attributes\n",
    "pd.set_option(\"max_colwidth\", 150)\n",
    "\n",
    "# To play auditory cue when cell has executed, has warning, or has error and set chime theme\n",
    "import chime\n",
    "\n",
    "chime.theme(\"zelda\")"
   ]
  },
  {
   "cell_type": "markdown",
   "id": "cc818a82",
   "metadata": {},
   "source": [
    "## Data Overview"
   ]
  },
  {
   "cell_type": "markdown",
   "id": "0ed005f6",
   "metadata": {},
   "source": [
    "### [Reading](https://github.com/teresahanak/wikipedia-life-expectancy/blob/main/wp_life_expect_clean6.db), Sampling, and Checking Data Shape"
   ]
  },
  {
   "cell_type": "code",
   "execution_count": 2,
   "id": "0ca58a95",
   "metadata": {},
   "outputs": [
    {
     "name": "stdout",
     "output_type": "stream",
     "text": [
      "There are 98040 rows and 43 columns.\n"
     ]
    },
    {
     "data": {
      "text/html": [
       "<div>\n",
       "<style scoped>\n",
       "    .dataframe tbody tr th:only-of-type {\n",
       "        vertical-align: middle;\n",
       "    }\n",
       "\n",
       "    .dataframe tbody tr th {\n",
       "        vertical-align: top;\n",
       "    }\n",
       "\n",
       "    .dataframe thead th {\n",
       "        text-align: right;\n",
       "    }\n",
       "</style>\n",
       "<table border=\"1\" class=\"dataframe\">\n",
       "  <thead>\n",
       "    <tr style=\"text-align: right;\">\n",
       "      <th></th>\n",
       "      <th>day</th>\n",
       "      <th>name</th>\n",
       "      <th>info</th>\n",
       "      <th>link</th>\n",
       "      <th>num_references</th>\n",
       "      <th>year</th>\n",
       "      <th>month</th>\n",
       "      <th>info_parenth</th>\n",
       "      <th>age</th>\n",
       "      <th>cause_of_death</th>\n",
       "      <th>place_1</th>\n",
       "      <th>place_2</th>\n",
       "      <th>info_parenth_copy</th>\n",
       "      <th>log_num_references</th>\n",
       "      <th>info_3_1</th>\n",
       "      <th>info_3_2</th>\n",
       "      <th>info_4_0</th>\n",
       "      <th>info_4_1</th>\n",
       "      <th>info_4_2</th>\n",
       "      <th>info_5_0</th>\n",
       "      <th>info_5_1</th>\n",
       "      <th>info_5_2</th>\n",
       "      <th>info_6_0</th>\n",
       "      <th>info_6_1</th>\n",
       "      <th>info_7_0</th>\n",
       "      <th>info_8_0</th>\n",
       "      <th>info_8_1</th>\n",
       "      <th>info_9_0</th>\n",
       "      <th>info_10_0</th>\n",
       "      <th>info_11_0</th>\n",
       "      <th>sciences</th>\n",
       "      <th>social</th>\n",
       "      <th>spiritual</th>\n",
       "      <th>academia_humanities</th>\n",
       "      <th>business_farming</th>\n",
       "      <th>arts</th>\n",
       "      <th>sports</th>\n",
       "      <th>law_enf_military_operator</th>\n",
       "      <th>politics_govt_law</th>\n",
       "      <th>crime</th>\n",
       "      <th>event_record_other</th>\n",
       "      <th>other_species</th>\n",
       "      <th>num_categories</th>\n",
       "    </tr>\n",
       "  </thead>\n",
       "  <tbody>\n",
       "    <tr>\n",
       "      <th>0</th>\n",
       "      <td>1</td>\n",
       "      <td>William Chappell</td>\n",
       "      <td>, 86, British dancer, ballet designer and director.</td>\n",
       "      <td>https://en.wikipedia.org/wiki/William_Chappell_(dancer)</td>\n",
       "      <td>21</td>\n",
       "      <td>1994</td>\n",
       "      <td>January</td>\n",
       "      <td>None</td>\n",
       "      <td>86.0</td>\n",
       "      <td>None</td>\n",
       "      <td>United Kingdom of Great Britain and Northern Ireland</td>\n",
       "      <td>None</td>\n",
       "      <td>None</td>\n",
       "      <td>3.091042</td>\n",
       "      <td>director</td>\n",
       "      <td>None</td>\n",
       "      <td>None</td>\n",
       "      <td>None</td>\n",
       "      <td>None</td>\n",
       "      <td>None</td>\n",
       "      <td>None</td>\n",
       "      <td>None</td>\n",
       "      <td>None</td>\n",
       "      <td>None</td>\n",
       "      <td>None</td>\n",
       "      <td>None</td>\n",
       "      <td>None</td>\n",
       "      <td>None</td>\n",
       "      <td>None</td>\n",
       "      <td>None</td>\n",
       "      <td>0</td>\n",
       "      <td>0</td>\n",
       "      <td>0</td>\n",
       "      <td>0</td>\n",
       "      <td>0</td>\n",
       "      <td>1</td>\n",
       "      <td>0</td>\n",
       "      <td>0</td>\n",
       "      <td>0</td>\n",
       "      <td>0</td>\n",
       "      <td>0</td>\n",
       "      <td>0</td>\n",
       "      <td>1</td>\n",
       "    </tr>\n",
       "    <tr>\n",
       "      <th>1</th>\n",
       "      <td>1</td>\n",
       "      <td>Raymond Crotty</td>\n",
       "      <td>, 68, Irish economist, writer, and academic.</td>\n",
       "      <td>https://en.wikipedia.org/wiki/Raymond_Crotty</td>\n",
       "      <td>12</td>\n",
       "      <td>1994</td>\n",
       "      <td>January</td>\n",
       "      <td>None</td>\n",
       "      <td>68.0</td>\n",
       "      <td>None</td>\n",
       "      <td>Ireland</td>\n",
       "      <td>None</td>\n",
       "      <td>None</td>\n",
       "      <td>2.564949</td>\n",
       "      <td>None</td>\n",
       "      <td>None</td>\n",
       "      <td>and academic</td>\n",
       "      <td>None</td>\n",
       "      <td>None</td>\n",
       "      <td>None</td>\n",
       "      <td>None</td>\n",
       "      <td>None</td>\n",
       "      <td>None</td>\n",
       "      <td>None</td>\n",
       "      <td>None</td>\n",
       "      <td>None</td>\n",
       "      <td>None</td>\n",
       "      <td>None</td>\n",
       "      <td>None</td>\n",
       "      <td>None</td>\n",
       "      <td>0</td>\n",
       "      <td>0</td>\n",
       "      <td>0</td>\n",
       "      <td>0</td>\n",
       "      <td>0</td>\n",
       "      <td>1</td>\n",
       "      <td>0</td>\n",
       "      <td>0</td>\n",
       "      <td>1</td>\n",
       "      <td>0</td>\n",
       "      <td>0</td>\n",
       "      <td>0</td>\n",
       "      <td>2</td>\n",
       "    </tr>\n",
       "  </tbody>\n",
       "</table>\n",
       "</div>"
      ],
      "text/plain": [
       "  day              name                                                 info  \\\n",
       "0   1  William Chappell  , 86, British dancer, ballet designer and director.   \n",
       "1   1    Raymond Crotty         , 68, Irish economist, writer, and academic.   \n",
       "\n",
       "                                                      link  num_references  \\\n",
       "0  https://en.wikipedia.org/wiki/William_Chappell_(dancer)              21   \n",
       "1             https://en.wikipedia.org/wiki/Raymond_Crotty              12   \n",
       "\n",
       "   year    month info_parenth   age cause_of_death  \\\n",
       "0  1994  January         None  86.0           None   \n",
       "1  1994  January         None  68.0           None   \n",
       "\n",
       "                                                place_1 place_2  \\\n",
       "0  United Kingdom of Great Britain and Northern Ireland    None   \n",
       "1                                               Ireland    None   \n",
       "\n",
       "  info_parenth_copy  log_num_references  info_3_1 info_3_2      info_4_0  \\\n",
       "0              None            3.091042  director     None          None   \n",
       "1              None            2.564949      None     None  and academic   \n",
       "\n",
       "  info_4_1 info_4_2 info_5_0 info_5_1 info_5_2 info_6_0 info_6_1 info_7_0  \\\n",
       "0     None     None     None     None     None     None     None     None   \n",
       "1     None     None     None     None     None     None     None     None   \n",
       "\n",
       "  info_8_0 info_8_1 info_9_0 info_10_0 info_11_0  sciences  social  spiritual  \\\n",
       "0     None     None     None      None      None         0       0          0   \n",
       "1     None     None     None      None      None         0       0          0   \n",
       "\n",
       "   academia_humanities  business_farming  arts  sports  \\\n",
       "0                    0                 0     1       0   \n",
       "1                    0                 0     1       0   \n",
       "\n",
       "   law_enf_military_operator  politics_govt_law  crime  event_record_other  \\\n",
       "0                          0                  0      0                   0   \n",
       "1                          0                  1      0                   0   \n",
       "\n",
       "   other_species  num_categories  \n",
       "0              0               1  \n",
       "1              0               2  "
      ]
     },
     "execution_count": 2,
     "metadata": {},
     "output_type": "execute_result"
    },
    {
     "data": {
      "application/javascript": [
       "\n",
       "            setTimeout(function() {\n",
       "                var nbb_cell_id = 2;\n",
       "                var nbb_unformatted_code = \"# Reading the dataset\\nconn = sql.connect(\\\"wp_life_expect_clean6.db\\\")\\ndata = pd.read_sql(\\\"SELECT * FROM wp_life_expect_clean6\\\", conn)\\n\\n# Making a working copy\\ndf = data.copy()\\n\\n# Checking the shape\\nprint(f\\\"There are {df.shape[0]} rows and {df.shape[1]} columns.\\\")\\n\\n# Checking first 2 rows of the data\\ndf.head(2)\";\n",
       "                var nbb_formatted_code = \"# Reading the dataset\\nconn = sql.connect(\\\"wp_life_expect_clean6.db\\\")\\ndata = pd.read_sql(\\\"SELECT * FROM wp_life_expect_clean6\\\", conn)\\n\\n# Making a working copy\\ndf = data.copy()\\n\\n# Checking the shape\\nprint(f\\\"There are {df.shape[0]} rows and {df.shape[1]} columns.\\\")\\n\\n# Checking first 2 rows of the data\\ndf.head(2)\";\n",
       "                var nbb_cells = Jupyter.notebook.get_cells();\n",
       "                for (var i = 0; i < nbb_cells.length; ++i) {\n",
       "                    if (nbb_cells[i].input_prompt_number == nbb_cell_id) {\n",
       "                        if (nbb_cells[i].get_text() == nbb_unformatted_code) {\n",
       "                             nbb_cells[i].set_text(nbb_formatted_code);\n",
       "                        }\n",
       "                        break;\n",
       "                    }\n",
       "                }\n",
       "            }, 500);\n",
       "            "
      ],
      "text/plain": [
       "<IPython.core.display.Javascript object>"
      ]
     },
     "metadata": {},
     "output_type": "display_data"
    }
   ],
   "source": [
    "# Reading the dataset\n",
    "conn = sql.connect(\"wp_life_expect_clean6.db\")\n",
    "data = pd.read_sql(\"SELECT * FROM wp_life_expect_clean6\", conn)\n",
    "\n",
    "# Making a working copy\n",
    "df = data.copy()\n",
    "\n",
    "# Checking the shape\n",
    "print(f\"There are {df.shape[0]} rows and {df.shape[1]} columns.\")\n",
    "\n",
    "# Checking first 2 rows of the data\n",
    "df.head(2)"
   ]
  },
  {
   "cell_type": "code",
   "execution_count": 3,
   "id": "6cca416f",
   "metadata": {},
   "outputs": [
    {
     "data": {
      "text/html": [
       "<div>\n",
       "<style scoped>\n",
       "    .dataframe tbody tr th:only-of-type {\n",
       "        vertical-align: middle;\n",
       "    }\n",
       "\n",
       "    .dataframe tbody tr th {\n",
       "        vertical-align: top;\n",
       "    }\n",
       "\n",
       "    .dataframe thead th {\n",
       "        text-align: right;\n",
       "    }\n",
       "</style>\n",
       "<table border=\"1\" class=\"dataframe\">\n",
       "  <thead>\n",
       "    <tr style=\"text-align: right;\">\n",
       "      <th></th>\n",
       "      <th>day</th>\n",
       "      <th>name</th>\n",
       "      <th>info</th>\n",
       "      <th>link</th>\n",
       "      <th>num_references</th>\n",
       "      <th>year</th>\n",
       "      <th>month</th>\n",
       "      <th>info_parenth</th>\n",
       "      <th>age</th>\n",
       "      <th>cause_of_death</th>\n",
       "      <th>place_1</th>\n",
       "      <th>place_2</th>\n",
       "      <th>info_parenth_copy</th>\n",
       "      <th>log_num_references</th>\n",
       "      <th>info_3_1</th>\n",
       "      <th>info_3_2</th>\n",
       "      <th>info_4_0</th>\n",
       "      <th>info_4_1</th>\n",
       "      <th>info_4_2</th>\n",
       "      <th>info_5_0</th>\n",
       "      <th>info_5_1</th>\n",
       "      <th>info_5_2</th>\n",
       "      <th>info_6_0</th>\n",
       "      <th>info_6_1</th>\n",
       "      <th>info_7_0</th>\n",
       "      <th>info_8_0</th>\n",
       "      <th>info_8_1</th>\n",
       "      <th>info_9_0</th>\n",
       "      <th>info_10_0</th>\n",
       "      <th>info_11_0</th>\n",
       "      <th>sciences</th>\n",
       "      <th>social</th>\n",
       "      <th>spiritual</th>\n",
       "      <th>academia_humanities</th>\n",
       "      <th>business_farming</th>\n",
       "      <th>arts</th>\n",
       "      <th>sports</th>\n",
       "      <th>law_enf_military_operator</th>\n",
       "      <th>politics_govt_law</th>\n",
       "      <th>crime</th>\n",
       "      <th>event_record_other</th>\n",
       "      <th>other_species</th>\n",
       "      <th>num_categories</th>\n",
       "    </tr>\n",
       "  </thead>\n",
       "  <tbody>\n",
       "    <tr>\n",
       "      <th>98038</th>\n",
       "      <td>9</td>\n",
       "      <td>Aamir Liaquat Hussain</td>\n",
       "      <td>, 50, Pakistani journalist and politician, MNA .</td>\n",
       "      <td>https://en.wikipedia.org/wiki/Aamir_Liaquat_Hussain</td>\n",
       "      <td>99</td>\n",
       "      <td>2022</td>\n",
       "      <td>June</td>\n",
       "      <td>, since</td>\n",
       "      <td>50.0</td>\n",
       "      <td>None</td>\n",
       "      <td>Pakistan</td>\n",
       "      <td>None</td>\n",
       "      <td>2002 2007, since 2018</td>\n",
       "      <td>4.605170</td>\n",
       "      <td>None</td>\n",
       "      <td>None</td>\n",
       "      <td>None</td>\n",
       "      <td>None</td>\n",
       "      <td>None</td>\n",
       "      <td>None</td>\n",
       "      <td>None</td>\n",
       "      <td>None</td>\n",
       "      <td>None</td>\n",
       "      <td>None</td>\n",
       "      <td>None</td>\n",
       "      <td>None</td>\n",
       "      <td>None</td>\n",
       "      <td>None</td>\n",
       "      <td>None</td>\n",
       "      <td>None</td>\n",
       "      <td>0</td>\n",
       "      <td>0</td>\n",
       "      <td>0</td>\n",
       "      <td>0</td>\n",
       "      <td>0</td>\n",
       "      <td>1</td>\n",
       "      <td>0</td>\n",
       "      <td>0</td>\n",
       "      <td>1</td>\n",
       "      <td>0</td>\n",
       "      <td>0</td>\n",
       "      <td>0</td>\n",
       "      <td>2</td>\n",
       "    </tr>\n",
       "    <tr>\n",
       "      <th>98039</th>\n",
       "      <td>9</td>\n",
       "      <td>Zou Jing</td>\n",
       "      <td>, 86, Chinese engineer, member of the Chinese Academy of Engineering.</td>\n",
       "      <td>https://en.wikipedia.org/wiki/Zou_Jing_(engineer)</td>\n",
       "      <td>3</td>\n",
       "      <td>2022</td>\n",
       "      <td>June</td>\n",
       "      <td>None</td>\n",
       "      <td>86.0</td>\n",
       "      <td>None</td>\n",
       "      <td>China, People's Republic of</td>\n",
       "      <td>None</td>\n",
       "      <td>None</td>\n",
       "      <td>1.386294</td>\n",
       "      <td>None</td>\n",
       "      <td>None</td>\n",
       "      <td>None</td>\n",
       "      <td>None</td>\n",
       "      <td>None</td>\n",
       "      <td>None</td>\n",
       "      <td>None</td>\n",
       "      <td>None</td>\n",
       "      <td>None</td>\n",
       "      <td>None</td>\n",
       "      <td>None</td>\n",
       "      <td>None</td>\n",
       "      <td>None</td>\n",
       "      <td>None</td>\n",
       "      <td>None</td>\n",
       "      <td>None</td>\n",
       "      <td>1</td>\n",
       "      <td>0</td>\n",
       "      <td>0</td>\n",
       "      <td>0</td>\n",
       "      <td>0</td>\n",
       "      <td>0</td>\n",
       "      <td>0</td>\n",
       "      <td>0</td>\n",
       "      <td>0</td>\n",
       "      <td>0</td>\n",
       "      <td>0</td>\n",
       "      <td>0</td>\n",
       "      <td>1</td>\n",
       "    </tr>\n",
       "  </tbody>\n",
       "</table>\n",
       "</div>"
      ],
      "text/plain": [
       "      day                   name  \\\n",
       "98038   9  Aamir Liaquat Hussain   \n",
       "98039   9               Zou Jing   \n",
       "\n",
       "                                                                        info  \\\n",
       "98038                       , 50, Pakistani journalist and politician, MNA .   \n",
       "98039  , 86, Chinese engineer, member of the Chinese Academy of Engineering.   \n",
       "\n",
       "                                                      link  num_references  \\\n",
       "98038  https://en.wikipedia.org/wiki/Aamir_Liaquat_Hussain              99   \n",
       "98039    https://en.wikipedia.org/wiki/Zou_Jing_(engineer)               3   \n",
       "\n",
       "       year month info_parenth   age cause_of_death  \\\n",
       "98038  2022  June      , since  50.0           None   \n",
       "98039  2022  June         None  86.0           None   \n",
       "\n",
       "                           place_1 place_2      info_parenth_copy  \\\n",
       "98038                     Pakistan    None  2002 2007, since 2018   \n",
       "98039  China, People's Republic of    None                   None   \n",
       "\n",
       "       log_num_references info_3_1 info_3_2 info_4_0 info_4_1 info_4_2  \\\n",
       "98038            4.605170     None     None     None     None     None   \n",
       "98039            1.386294     None     None     None     None     None   \n",
       "\n",
       "      info_5_0 info_5_1 info_5_2 info_6_0 info_6_1 info_7_0 info_8_0 info_8_1  \\\n",
       "98038     None     None     None     None     None     None     None     None   \n",
       "98039     None     None     None     None     None     None     None     None   \n",
       "\n",
       "      info_9_0 info_10_0 info_11_0  sciences  social  spiritual  \\\n",
       "98038     None      None      None         0       0          0   \n",
       "98039     None      None      None         1       0          0   \n",
       "\n",
       "       academia_humanities  business_farming  arts  sports  \\\n",
       "98038                    0                 0     1       0   \n",
       "98039                    0                 0     0       0   \n",
       "\n",
       "       law_enf_military_operator  politics_govt_law  crime  \\\n",
       "98038                          0                  1      0   \n",
       "98039                          0                  0      0   \n",
       "\n",
       "       event_record_other  other_species  num_categories  \n",
       "98038                   0              0               2  \n",
       "98039                   0              0               1  "
      ]
     },
     "execution_count": 3,
     "metadata": {},
     "output_type": "execute_result"
    },
    {
     "data": {
      "application/javascript": [
       "\n",
       "            setTimeout(function() {\n",
       "                var nbb_cell_id = 3;\n",
       "                var nbb_unformatted_code = \"# Checking last 2 rows of the data\\ndf.tail(2)\";\n",
       "                var nbb_formatted_code = \"# Checking last 2 rows of the data\\ndf.tail(2)\";\n",
       "                var nbb_cells = Jupyter.notebook.get_cells();\n",
       "                for (var i = 0; i < nbb_cells.length; ++i) {\n",
       "                    if (nbb_cells[i].input_prompt_number == nbb_cell_id) {\n",
       "                        if (nbb_cells[i].get_text() == nbb_unformatted_code) {\n",
       "                             nbb_cells[i].set_text(nbb_formatted_code);\n",
       "                        }\n",
       "                        break;\n",
       "                    }\n",
       "                }\n",
       "            }, 500);\n",
       "            "
      ],
      "text/plain": [
       "<IPython.core.display.Javascript object>"
      ]
     },
     "metadata": {},
     "output_type": "display_data"
    }
   ],
   "source": [
    "# Checking last 2 rows of the data\n",
    "df.tail(2)"
   ]
  },
  {
   "cell_type": "code",
   "execution_count": 4,
   "id": "de6e8ee5",
   "metadata": {},
   "outputs": [
    {
     "data": {
      "text/html": [
       "<div>\n",
       "<style scoped>\n",
       "    .dataframe tbody tr th:only-of-type {\n",
       "        vertical-align: middle;\n",
       "    }\n",
       "\n",
       "    .dataframe tbody tr th {\n",
       "        vertical-align: top;\n",
       "    }\n",
       "\n",
       "    .dataframe thead th {\n",
       "        text-align: right;\n",
       "    }\n",
       "</style>\n",
       "<table border=\"1\" class=\"dataframe\">\n",
       "  <thead>\n",
       "    <tr style=\"text-align: right;\">\n",
       "      <th></th>\n",
       "      <th>day</th>\n",
       "      <th>name</th>\n",
       "      <th>info</th>\n",
       "      <th>link</th>\n",
       "      <th>num_references</th>\n",
       "      <th>year</th>\n",
       "      <th>month</th>\n",
       "      <th>info_parenth</th>\n",
       "      <th>age</th>\n",
       "      <th>cause_of_death</th>\n",
       "      <th>place_1</th>\n",
       "      <th>place_2</th>\n",
       "      <th>info_parenth_copy</th>\n",
       "      <th>log_num_references</th>\n",
       "      <th>info_3_1</th>\n",
       "      <th>info_3_2</th>\n",
       "      <th>info_4_0</th>\n",
       "      <th>info_4_1</th>\n",
       "      <th>info_4_2</th>\n",
       "      <th>info_5_0</th>\n",
       "      <th>info_5_1</th>\n",
       "      <th>info_5_2</th>\n",
       "      <th>info_6_0</th>\n",
       "      <th>info_6_1</th>\n",
       "      <th>info_7_0</th>\n",
       "      <th>info_8_0</th>\n",
       "      <th>info_8_1</th>\n",
       "      <th>info_9_0</th>\n",
       "      <th>info_10_0</th>\n",
       "      <th>info_11_0</th>\n",
       "      <th>sciences</th>\n",
       "      <th>social</th>\n",
       "      <th>spiritual</th>\n",
       "      <th>academia_humanities</th>\n",
       "      <th>business_farming</th>\n",
       "      <th>arts</th>\n",
       "      <th>sports</th>\n",
       "      <th>law_enf_military_operator</th>\n",
       "      <th>politics_govt_law</th>\n",
       "      <th>crime</th>\n",
       "      <th>event_record_other</th>\n",
       "      <th>other_species</th>\n",
       "      <th>num_categories</th>\n",
       "    </tr>\n",
       "  </thead>\n",
       "  <tbody>\n",
       "    <tr>\n",
       "      <th>89993</th>\n",
       "      <td>14</td>\n",
       "      <td>Kanaka Murthy</td>\n",
       "      <td>, 78, Indian sculptor, COVID-19.</td>\n",
       "      <td>https://en.wikipedia.org/wiki/Kanaka_Murthy</td>\n",
       "      <td>13</td>\n",
       "      <td>2021</td>\n",
       "      <td>May</td>\n",
       "      <td>None</td>\n",
       "      <td>78.0</td>\n",
       "      <td>COVID</td>\n",
       "      <td>India</td>\n",
       "      <td>None</td>\n",
       "      <td>None</td>\n",
       "      <td>2.639057</td>\n",
       "      <td>None</td>\n",
       "      <td>None</td>\n",
       "      <td>None</td>\n",
       "      <td>None</td>\n",
       "      <td>None</td>\n",
       "      <td>None</td>\n",
       "      <td>None</td>\n",
       "      <td>None</td>\n",
       "      <td>None</td>\n",
       "      <td>None</td>\n",
       "      <td>None</td>\n",
       "      <td>None</td>\n",
       "      <td>None</td>\n",
       "      <td>None</td>\n",
       "      <td>None</td>\n",
       "      <td>None</td>\n",
       "      <td>0</td>\n",
       "      <td>0</td>\n",
       "      <td>0</td>\n",
       "      <td>0</td>\n",
       "      <td>0</td>\n",
       "      <td>1</td>\n",
       "      <td>0</td>\n",
       "      <td>0</td>\n",
       "      <td>0</td>\n",
       "      <td>0</td>\n",
       "      <td>0</td>\n",
       "      <td>0</td>\n",
       "      <td>1</td>\n",
       "    </tr>\n",
       "    <tr>\n",
       "      <th>10179</th>\n",
       "      <td>28</td>\n",
       "      <td>Eric Bryant</td>\n",
       "      <td>, 63, British cricket player.</td>\n",
       "      <td>https://en.wikipedia.org/wiki/Eric_Bryant_(cricketer)</td>\n",
       "      <td>5</td>\n",
       "      <td>1999</td>\n",
       "      <td>November</td>\n",
       "      <td>None</td>\n",
       "      <td>63.0</td>\n",
       "      <td>None</td>\n",
       "      <td>United Kingdom of Great Britain and Northern Ireland</td>\n",
       "      <td>None</td>\n",
       "      <td>None</td>\n",
       "      <td>1.791759</td>\n",
       "      <td>None</td>\n",
       "      <td>None</td>\n",
       "      <td>None</td>\n",
       "      <td>None</td>\n",
       "      <td>None</td>\n",
       "      <td>None</td>\n",
       "      <td>None</td>\n",
       "      <td>None</td>\n",
       "      <td>None</td>\n",
       "      <td>None</td>\n",
       "      <td>None</td>\n",
       "      <td>None</td>\n",
       "      <td>None</td>\n",
       "      <td>None</td>\n",
       "      <td>None</td>\n",
       "      <td>None</td>\n",
       "      <td>0</td>\n",
       "      <td>0</td>\n",
       "      <td>0</td>\n",
       "      <td>0</td>\n",
       "      <td>0</td>\n",
       "      <td>0</td>\n",
       "      <td>1</td>\n",
       "      <td>0</td>\n",
       "      <td>0</td>\n",
       "      <td>0</td>\n",
       "      <td>0</td>\n",
       "      <td>0</td>\n",
       "      <td>1</td>\n",
       "    </tr>\n",
       "    <tr>\n",
       "      <th>78981</th>\n",
       "      <td>28</td>\n",
       "      <td>Mohammad Munaf</td>\n",
       "      <td>, 84, Pakistani cricketer .</td>\n",
       "      <td>https://en.wikipedia.org/wiki/Mohammad_Munaf_(cricketer)</td>\n",
       "      <td>8</td>\n",
       "      <td>2020</td>\n",
       "      <td>January</td>\n",
       "      <td>national team</td>\n",
       "      <td>84.0</td>\n",
       "      <td>None</td>\n",
       "      <td>Pakistan</td>\n",
       "      <td>None</td>\n",
       "      <td>national team</td>\n",
       "      <td>2.197225</td>\n",
       "      <td>None</td>\n",
       "      <td>None</td>\n",
       "      <td>None</td>\n",
       "      <td>None</td>\n",
       "      <td>None</td>\n",
       "      <td>None</td>\n",
       "      <td>None</td>\n",
       "      <td>None</td>\n",
       "      <td>None</td>\n",
       "      <td>None</td>\n",
       "      <td>None</td>\n",
       "      <td>None</td>\n",
       "      <td>None</td>\n",
       "      <td>None</td>\n",
       "      <td>None</td>\n",
       "      <td>None</td>\n",
       "      <td>0</td>\n",
       "      <td>0</td>\n",
       "      <td>0</td>\n",
       "      <td>0</td>\n",
       "      <td>0</td>\n",
       "      <td>0</td>\n",
       "      <td>1</td>\n",
       "      <td>0</td>\n",
       "      <td>0</td>\n",
       "      <td>0</td>\n",
       "      <td>0</td>\n",
       "      <td>0</td>\n",
       "      <td>1</td>\n",
       "    </tr>\n",
       "    <tr>\n",
       "      <th>21099</th>\n",
       "      <td>9</td>\n",
       "      <td>Erik Elmsäter</td>\n",
       "      <td>, 86,  Swedish athlete, first Swede to compete in both Summer and Winter Olympics.</td>\n",
       "      <td>https://en.wikipedia.org/wiki/Erik_Elms%C3%A4ter</td>\n",
       "      <td>4</td>\n",
       "      <td>2006</td>\n",
       "      <td>March</td>\n",
       "      <td>None</td>\n",
       "      <td>86.0</td>\n",
       "      <td>None</td>\n",
       "      <td>Sweden</td>\n",
       "      <td>None</td>\n",
       "      <td>None</td>\n",
       "      <td>1.609438</td>\n",
       "      <td>Winter Olympics</td>\n",
       "      <td>None</td>\n",
       "      <td>None</td>\n",
       "      <td>None</td>\n",
       "      <td>None</td>\n",
       "      <td>None</td>\n",
       "      <td>None</td>\n",
       "      <td>None</td>\n",
       "      <td>None</td>\n",
       "      <td>None</td>\n",
       "      <td>None</td>\n",
       "      <td>None</td>\n",
       "      <td>None</td>\n",
       "      <td>None</td>\n",
       "      <td>None</td>\n",
       "      <td>None</td>\n",
       "      <td>0</td>\n",
       "      <td>0</td>\n",
       "      <td>0</td>\n",
       "      <td>0</td>\n",
       "      <td>0</td>\n",
       "      <td>0</td>\n",
       "      <td>1</td>\n",
       "      <td>0</td>\n",
       "      <td>0</td>\n",
       "      <td>0</td>\n",
       "      <td>0</td>\n",
       "      <td>0</td>\n",
       "      <td>1</td>\n",
       "    </tr>\n",
       "    <tr>\n",
       "      <th>80945</th>\n",
       "      <td>16</td>\n",
       "      <td>William Pulgram</td>\n",
       "      <td>, 99, Austrian-born American architect.</td>\n",
       "      <td>https://en.wikipedia.org/wiki/William_Pulgram</td>\n",
       "      <td>21</td>\n",
       "      <td>2020</td>\n",
       "      <td>April</td>\n",
       "      <td>None</td>\n",
       "      <td>99.0</td>\n",
       "      <td>None</td>\n",
       "      <td>Austria</td>\n",
       "      <td>United States of America</td>\n",
       "      <td>None</td>\n",
       "      <td>3.091042</td>\n",
       "      <td>None</td>\n",
       "      <td>None</td>\n",
       "      <td>None</td>\n",
       "      <td>None</td>\n",
       "      <td>None</td>\n",
       "      <td>None</td>\n",
       "      <td>None</td>\n",
       "      <td>None</td>\n",
       "      <td>None</td>\n",
       "      <td>None</td>\n",
       "      <td>None</td>\n",
       "      <td>None</td>\n",
       "      <td>None</td>\n",
       "      <td>None</td>\n",
       "      <td>None</td>\n",
       "      <td>None</td>\n",
       "      <td>0</td>\n",
       "      <td>0</td>\n",
       "      <td>0</td>\n",
       "      <td>0</td>\n",
       "      <td>0</td>\n",
       "      <td>1</td>\n",
       "      <td>0</td>\n",
       "      <td>0</td>\n",
       "      <td>0</td>\n",
       "      <td>0</td>\n",
       "      <td>0</td>\n",
       "      <td>0</td>\n",
       "      <td>1</td>\n",
       "    </tr>\n",
       "  </tbody>\n",
       "</table>\n",
       "</div>"
      ],
      "text/plain": [
       "      day             name  \\\n",
       "89993  14    Kanaka Murthy   \n",
       "10179  28      Eric Bryant   \n",
       "78981  28   Mohammad Munaf   \n",
       "21099   9    Erik Elmsäter   \n",
       "80945  16  William Pulgram   \n",
       "\n",
       "                                                                                     info  \\\n",
       "89993                                                    , 78, Indian sculptor, COVID-19.   \n",
       "10179                                                       , 63, British cricket player.   \n",
       "78981                                                         , 84, Pakistani cricketer .   \n",
       "21099  , 86,  Swedish athlete, first Swede to compete in both Summer and Winter Olympics.   \n",
       "80945                                             , 99, Austrian-born American architect.   \n",
       "\n",
       "                                                           link  \\\n",
       "89993               https://en.wikipedia.org/wiki/Kanaka_Murthy   \n",
       "10179     https://en.wikipedia.org/wiki/Eric_Bryant_(cricketer)   \n",
       "78981  https://en.wikipedia.org/wiki/Mohammad_Munaf_(cricketer)   \n",
       "21099          https://en.wikipedia.org/wiki/Erik_Elms%C3%A4ter   \n",
       "80945             https://en.wikipedia.org/wiki/William_Pulgram   \n",
       "\n",
       "       num_references  year     month   info_parenth   age cause_of_death  \\\n",
       "89993              13  2021       May           None  78.0          COVID   \n",
       "10179               5  1999  November           None  63.0           None   \n",
       "78981               8  2020   January  national team  84.0           None   \n",
       "21099               4  2006     March           None  86.0           None   \n",
       "80945              21  2020     April           None  99.0           None   \n",
       "\n",
       "                                                    place_1  \\\n",
       "89993                                                 India   \n",
       "10179  United Kingdom of Great Britain and Northern Ireland   \n",
       "78981                                              Pakistan   \n",
       "21099                                                Sweden   \n",
       "80945                                               Austria   \n",
       "\n",
       "                        place_2 info_parenth_copy  log_num_references  \\\n",
       "89993                      None              None            2.639057   \n",
       "10179                      None              None            1.791759   \n",
       "78981                      None     national team            2.197225   \n",
       "21099                      None              None            1.609438   \n",
       "80945  United States of America              None            3.091042   \n",
       "\n",
       "              info_3_1 info_3_2 info_4_0 info_4_1 info_4_2 info_5_0 info_5_1  \\\n",
       "89993             None     None     None     None     None     None     None   \n",
       "10179             None     None     None     None     None     None     None   \n",
       "78981             None     None     None     None     None     None     None   \n",
       "21099  Winter Olympics     None     None     None     None     None     None   \n",
       "80945             None     None     None     None     None     None     None   \n",
       "\n",
       "      info_5_2 info_6_0 info_6_1 info_7_0 info_8_0 info_8_1 info_9_0  \\\n",
       "89993     None     None     None     None     None     None     None   \n",
       "10179     None     None     None     None     None     None     None   \n",
       "78981     None     None     None     None     None     None     None   \n",
       "21099     None     None     None     None     None     None     None   \n",
       "80945     None     None     None     None     None     None     None   \n",
       "\n",
       "      info_10_0 info_11_0  sciences  social  spiritual  academia_humanities  \\\n",
       "89993      None      None         0       0          0                    0   \n",
       "10179      None      None         0       0          0                    0   \n",
       "78981      None      None         0       0          0                    0   \n",
       "21099      None      None         0       0          0                    0   \n",
       "80945      None      None         0       0          0                    0   \n",
       "\n",
       "       business_farming  arts  sports  law_enf_military_operator  \\\n",
       "89993                 0     1       0                          0   \n",
       "10179                 0     0       1                          0   \n",
       "78981                 0     0       1                          0   \n",
       "21099                 0     0       1                          0   \n",
       "80945                 0     1       0                          0   \n",
       "\n",
       "       politics_govt_law  crime  event_record_other  other_species  \\\n",
       "89993                  0      0                   0              0   \n",
       "10179                  0      0                   0              0   \n",
       "78981                  0      0                   0              0   \n",
       "21099                  0      0                   0              0   \n",
       "80945                  0      0                   0              0   \n",
       "\n",
       "       num_categories  \n",
       "89993               1  \n",
       "10179               1  \n",
       "78981               1  \n",
       "21099               1  \n",
       "80945               1  "
      ]
     },
     "execution_count": 4,
     "metadata": {},
     "output_type": "execute_result"
    },
    {
     "data": {
      "application/javascript": [
       "\n",
       "            setTimeout(function() {\n",
       "                var nbb_cell_id = 4;\n",
       "                var nbb_unformatted_code = \"# Checking a sample of the data\\ndf.sample(5)\";\n",
       "                var nbb_formatted_code = \"# Checking a sample of the data\\ndf.sample(5)\";\n",
       "                var nbb_cells = Jupyter.notebook.get_cells();\n",
       "                for (var i = 0; i < nbb_cells.length; ++i) {\n",
       "                    if (nbb_cells[i].input_prompt_number == nbb_cell_id) {\n",
       "                        if (nbb_cells[i].get_text() == nbb_unformatted_code) {\n",
       "                             nbb_cells[i].set_text(nbb_formatted_code);\n",
       "                        }\n",
       "                        break;\n",
       "                    }\n",
       "                }\n",
       "            }, 500);\n",
       "            "
      ],
      "text/plain": [
       "<IPython.core.display.Javascript object>"
      ]
     },
     "metadata": {},
     "output_type": "display_data"
    }
   ],
   "source": [
    "# Checking a sample of the data\n",
    "df.sample(5)"
   ]
  },
  {
   "cell_type": "markdown",
   "id": "8d5f29da",
   "metadata": {},
   "source": [
    "### Checking Data Types, Duplicates, and Null Values"
   ]
  },
  {
   "cell_type": "code",
   "execution_count": 5,
   "id": "bf505f87",
   "metadata": {},
   "outputs": [
    {
     "name": "stdout",
     "output_type": "stream",
     "text": [
      "<class 'pandas.core.frame.DataFrame'>\n",
      "RangeIndex: 98040 entries, 0 to 98039\n",
      "Data columns (total 43 columns):\n",
      " #   Column                     Non-Null Count  Dtype  \n",
      "---  ------                     --------------  -----  \n",
      " 0   day                        98040 non-null  object \n",
      " 1   name                       98040 non-null  object \n",
      " 2   info                       98040 non-null  object \n",
      " 3   link                       98040 non-null  object \n",
      " 4   num_references             98040 non-null  int64  \n",
      " 5   year                       98040 non-null  int64  \n",
      " 6   month                      98040 non-null  object \n",
      " 7   info_parenth               36660 non-null  object \n",
      " 8   age                        98040 non-null  float64\n",
      " 9   cause_of_death             25122 non-null  object \n",
      " 10  place_1                    97887 non-null  object \n",
      " 11  place_2                    8116 non-null   object \n",
      " 12  info_parenth_copy          36660 non-null  object \n",
      " 13  log_num_references         98040 non-null  float64\n",
      " 14  info_3_1                   4664 non-null   object \n",
      " 15  info_3_2                   46 non-null     object \n",
      " 16  info_4_0                   10124 non-null  object \n",
      " 17  info_4_1                   697 non-null    object \n",
      " 18  info_4_2                   4 non-null      object \n",
      " 19  info_5_0                   1252 non-null   object \n",
      " 20  info_5_1                   88 non-null     object \n",
      " 21  info_5_2                   1 non-null      object \n",
      " 22  info_6_0                   179 non-null    object \n",
      " 23  info_6_1                   7 non-null      object \n",
      " 24  info_7_0                   27 non-null     object \n",
      " 25  info_8_0                   5 non-null      object \n",
      " 26  info_8_1                   1 non-null      object \n",
      " 27  info_9_0                   1 non-null      object \n",
      " 28  info_10_0                  1 non-null      object \n",
      " 29  info_11_0                  1 non-null      object \n",
      " 30  sciences                   98040 non-null  int64  \n",
      " 31  social                     98040 non-null  int64  \n",
      " 32  spiritual                  98040 non-null  int64  \n",
      " 33  academia_humanities        98040 non-null  int64  \n",
      " 34  business_farming           98040 non-null  int64  \n",
      " 35  arts                       98040 non-null  int64  \n",
      " 36  sports                     98040 non-null  int64  \n",
      " 37  law_enf_military_operator  98040 non-null  int64  \n",
      " 38  politics_govt_law          98040 non-null  int64  \n",
      " 39  crime                      98040 non-null  int64  \n",
      " 40  event_record_other         98040 non-null  int64  \n",
      " 41  other_species              98040 non-null  int64  \n",
      " 42  num_categories             98040 non-null  int64  \n",
      "dtypes: float64(2), int64(15), object(26)\n",
      "memory usage: 32.2+ MB\n"
     ]
    },
    {
     "data": {
      "application/javascript": [
       "\n",
       "            setTimeout(function() {\n",
       "                var nbb_cell_id = 5;\n",
       "                var nbb_unformatted_code = \"# Checking data types and null values\\ndf.info()\";\n",
       "                var nbb_formatted_code = \"# Checking data types and null values\\ndf.info()\";\n",
       "                var nbb_cells = Jupyter.notebook.get_cells();\n",
       "                for (var i = 0; i < nbb_cells.length; ++i) {\n",
       "                    if (nbb_cells[i].input_prompt_number == nbb_cell_id) {\n",
       "                        if (nbb_cells[i].get_text() == nbb_unformatted_code) {\n",
       "                             nbb_cells[i].set_text(nbb_formatted_code);\n",
       "                        }\n",
       "                        break;\n",
       "                    }\n",
       "                }\n",
       "            }, 500);\n",
       "            "
      ],
      "text/plain": [
       "<IPython.core.display.Javascript object>"
      ]
     },
     "metadata": {},
     "output_type": "display_data"
    }
   ],
   "source": [
    "# Checking data types and null values\n",
    "df.info()"
   ]
  },
  {
   "cell_type": "markdown",
   "id": "c459d7f8",
   "metadata": {},
   "source": [
    "#### Observations:\n",
    "- With our dataset loaded, we can pick up where we left off with extracting known_for and `cause_of_death` values.\n",
    "- To avoid overwriting any existing `cause_of_death` values that might flow into 2 columns, such as, \"heart and lung problems\", we will update the code to combine the values."
   ]
  },
  {
   "cell_type": "markdown",
   "id": "5c542ec1",
   "metadata": {},
   "source": [
    "### Extracting Remaining `known_for` and `cause_of_death` Values Continued"
   ]
  },
  {
   "cell_type": "markdown",
   "id": "ebfdff20",
   "metadata": {},
   "source": [
    "#### Finding `known_for` Roles and `cause_of_death` in `info_3_1`"
   ]
  },
  {
   "cell_type": "code",
   "execution_count": 6,
   "id": "9e4051c6",
   "metadata": {},
   "outputs": [
    {
     "data": {
      "application/javascript": [
       "\n",
       "            setTimeout(function() {\n",
       "                var nbb_cell_id = 6;\n",
       "                var nbb_unformatted_code = \"# # Obtaining values for column and their counts\\n# roles_cause_list = df[\\\"info_3_1\\\"].value_counts(ascending=True).index.tolist()\";\n",
       "                var nbb_formatted_code = \"# # Obtaining values for column and their counts\\n# roles_cause_list = df[\\\"info_3_1\\\"].value_counts(ascending=True).index.tolist()\";\n",
       "                var nbb_cells = Jupyter.notebook.get_cells();\n",
       "                for (var i = 0; i < nbb_cells.length; ++i) {\n",
       "                    if (nbb_cells[i].input_prompt_number == nbb_cell_id) {\n",
       "                        if (nbb_cells[i].get_text() == nbb_unformatted_code) {\n",
       "                             nbb_cells[i].set_text(nbb_formatted_code);\n",
       "                        }\n",
       "                        break;\n",
       "                    }\n",
       "                }\n",
       "            }, 500);\n",
       "            "
      ],
      "text/plain": [
       "<IPython.core.display.Javascript object>"
      ]
     },
     "metadata": {},
     "output_type": "display_data"
    }
   ],
   "source": [
    "# # Obtaining values for column and their counts\n",
    "# roles_cause_list = df[\"info_3_1\"].value_counts(ascending=True).index.tolist()"
   ]
  },
  {
   "cell_type": "code",
   "execution_count": 7,
   "id": "8a4219f8",
   "metadata": {},
   "outputs": [
    {
     "data": {
      "application/javascript": [
       "\n",
       "            setTimeout(function() {\n",
       "                var nbb_cell_id = 7;\n",
       "                var nbb_unformatted_code = \"# # Code to check each value\\n# roles_cause_list.pop()\";\n",
       "                var nbb_formatted_code = \"# # Code to check each value\\n# roles_cause_list.pop()\";\n",
       "                var nbb_cells = Jupyter.notebook.get_cells();\n",
       "                for (var i = 0; i < nbb_cells.length; ++i) {\n",
       "                    if (nbb_cells[i].input_prompt_number == nbb_cell_id) {\n",
       "                        if (nbb_cells[i].get_text() == nbb_unformatted_code) {\n",
       "                             nbb_cells[i].set_text(nbb_formatted_code);\n",
       "                        }\n",
       "                        break;\n",
       "                    }\n",
       "                }\n",
       "            }, 500);\n",
       "            "
      ],
      "text/plain": [
       "<IPython.core.display.Javascript object>"
      ]
     },
     "metadata": {},
     "output_type": "display_data"
    }
   ],
   "source": [
    "# # Code to check each value\n",
    "# roles_cause_list.pop()"
   ]
  },
  {
   "cell_type": "code",
   "execution_count": 8,
   "id": "cd7ffd68",
   "metadata": {},
   "outputs": [
    {
     "data": {
      "application/javascript": [
       "\n",
       "            setTimeout(function() {\n",
       "                var nbb_cell_id = 8;\n",
       "                var nbb_unformatted_code = \"# # Create specific_roles_cause_list for above popped value\\n# specific_roles_list = (\\n#     df.loc[\\n#         [\\n#             index\\n#             for index in df[df[\\\"info_3_1\\\"].notna()].index\\n#             if \\\"diabetes\\\" in df.loc[index, \\\"info_3_1\\\"]\\n#             #             and df.loc[index, \\\"politics_govt_law\\\"] == 0\\n#             #             and df.loc[index, \\\"arts\\\"] == 1\\n#             #             and df.loc[index, \\\"sciences\\\"] == 0\\n#             #             and df.loc[index, \\\"spiritual\\\"] == 0\\n#             #             and df.loc[index, \\\"law_enf_military_operator\\\"] == 0\\n#             #             and df.loc[index, \\\"sports\\\"] == 0\\n#             #             and df.loc[index, \\\"event_record_other\\\"] == 0\\n#             #             and df.loc[index, \\\"crime\\\"] == 0\\n#             #             and df.loc[index, \\\"academia_humanities\\\"] == 0\\n#             #             and df.loc[index, \\\"business_farming\\\"] == 0\\n#             #                         and df.loc[index, \\\"other_species\\\"] == 0\\n#             #             and df.loc[index, \\\"num_categories\\\"] == 0\\n#         ],\\n#         \\\"info_3_1\\\",\\n#     ]\\n#     .value_counts()\\n#     .index.tolist()\\n# )\";\n",
       "                var nbb_formatted_code = \"# # Create specific_roles_cause_list for above popped value\\n# specific_roles_list = (\\n#     df.loc[\\n#         [\\n#             index\\n#             for index in df[df[\\\"info_3_1\\\"].notna()].index\\n#             if \\\"diabetes\\\" in df.loc[index, \\\"info_3_1\\\"]\\n#             #             and df.loc[index, \\\"politics_govt_law\\\"] == 0\\n#             #             and df.loc[index, \\\"arts\\\"] == 1\\n#             #             and df.loc[index, \\\"sciences\\\"] == 0\\n#             #             and df.loc[index, \\\"spiritual\\\"] == 0\\n#             #             and df.loc[index, \\\"law_enf_military_operator\\\"] == 0\\n#             #             and df.loc[index, \\\"sports\\\"] == 0\\n#             #             and df.loc[index, \\\"event_record_other\\\"] == 0\\n#             #             and df.loc[index, \\\"crime\\\"] == 0\\n#             #             and df.loc[index, \\\"academia_humanities\\\"] == 0\\n#             #             and df.loc[index, \\\"business_farming\\\"] == 0\\n#             #                         and df.loc[index, \\\"other_species\\\"] == 0\\n#             #             and df.loc[index, \\\"num_categories\\\"] == 0\\n#         ],\\n#         \\\"info_3_1\\\",\\n#     ]\\n#     .value_counts()\\n#     .index.tolist()\\n# )\";\n",
       "                var nbb_cells = Jupyter.notebook.get_cells();\n",
       "                for (var i = 0; i < nbb_cells.length; ++i) {\n",
       "                    if (nbb_cells[i].input_prompt_number == nbb_cell_id) {\n",
       "                        if (nbb_cells[i].get_text() == nbb_unformatted_code) {\n",
       "                             nbb_cells[i].set_text(nbb_formatted_code);\n",
       "                        }\n",
       "                        break;\n",
       "                    }\n",
       "                }\n",
       "            }, 500);\n",
       "            "
      ],
      "text/plain": [
       "<IPython.core.display.Javascript object>"
      ]
     },
     "metadata": {},
     "output_type": "display_data"
    }
   ],
   "source": [
    "# # Create specific_roles_cause_list for above popped value\n",
    "# specific_roles_list = (\n",
    "#     df.loc[\n",
    "#         [\n",
    "#             index\n",
    "#             for index in df[df[\"info_3_1\"].notna()].index\n",
    "#             if \"diabetes\" in df.loc[index, \"info_3_1\"]\n",
    "#             #             and df.loc[index, \"politics_govt_law\"] == 0\n",
    "#             #             and df.loc[index, \"arts\"] == 1\n",
    "#             #             and df.loc[index, \"sciences\"] == 0\n",
    "#             #             and df.loc[index, \"spiritual\"] == 0\n",
    "#             #             and df.loc[index, \"law_enf_military_operator\"] == 0\n",
    "#             #             and df.loc[index, \"sports\"] == 0\n",
    "#             #             and df.loc[index, \"event_record_other\"] == 0\n",
    "#             #             and df.loc[index, \"crime\"] == 0\n",
    "#             #             and df.loc[index, \"academia_humanities\"] == 0\n",
    "#             #             and df.loc[index, \"business_farming\"] == 0\n",
    "#             #                         and df.loc[index, \"other_species\"] == 0\n",
    "#             #             and df.loc[index, \"num_categories\"] == 0\n",
    "#         ],\n",
    "#         \"info_3_1\",\n",
    "#     ]\n",
    "#     .value_counts()\n",
    "#     .index.tolist()\n",
    "# )"
   ]
  },
  {
   "cell_type": "code",
   "execution_count": 9,
   "id": "94a93a93",
   "metadata": {},
   "outputs": [
    {
     "data": {
      "application/javascript": [
       "\n",
       "            setTimeout(function() {\n",
       "                var nbb_cell_id = 9;\n",
       "                var nbb_unformatted_code = \"# # Viewing list sorted by descending length to copy to dictionary below and screen values\\n# sorted(specific_roles_list, key=lambda x: len(x), reverse=True)\";\n",
       "                var nbb_formatted_code = \"# # Viewing list sorted by descending length to copy to dictionary below and screen values\\n# sorted(specific_roles_list, key=lambda x: len(x), reverse=True)\";\n",
       "                var nbb_cells = Jupyter.notebook.get_cells();\n",
       "                for (var i = 0; i < nbb_cells.length; ++i) {\n",
       "                    if (nbb_cells[i].input_prompt_number == nbb_cell_id) {\n",
       "                        if (nbb_cells[i].get_text() == nbb_unformatted_code) {\n",
       "                             nbb_cells[i].set_text(nbb_formatted_code);\n",
       "                        }\n",
       "                        break;\n",
       "                    }\n",
       "                }\n",
       "            }, 500);\n",
       "            "
      ],
      "text/plain": [
       "<IPython.core.display.Javascript object>"
      ]
     },
     "metadata": {},
     "output_type": "display_data"
    }
   ],
   "source": [
    "# # Viewing list sorted by descending length to copy to dictionary below and screen values\n",
    "# sorted(specific_roles_list, key=lambda x: len(x), reverse=True)"
   ]
  },
  {
   "cell_type": "code",
   "execution_count": 10,
   "id": "19358b7f",
   "metadata": {},
   "outputs": [
    {
     "data": {
      "application/javascript": [
       "\n",
       "            setTimeout(function() {\n",
       "                var nbb_cell_id = 10;\n",
       "                var nbb_unformatted_code = \"# # Example code to quick-check a specific entry\\n# df[df[\\\"info_3_1\\\"] == \\\"diabetes\\\"]\";\n",
       "                var nbb_formatted_code = \"# # Example code to quick-check a specific entry\\n# df[df[\\\"info_3_1\\\"] == \\\"diabetes\\\"]\";\n",
       "                var nbb_cells = Jupyter.notebook.get_cells();\n",
       "                for (var i = 0; i < nbb_cells.length; ++i) {\n",
       "                    if (nbb_cells[i].input_prompt_number == nbb_cell_id) {\n",
       "                        if (nbb_cells[i].get_text() == nbb_unformatted_code) {\n",
       "                             nbb_cells[i].set_text(nbb_formatted_code);\n",
       "                        }\n",
       "                        break;\n",
       "                    }\n",
       "                }\n",
       "            }, 500);\n",
       "            "
      ],
      "text/plain": [
       "<IPython.core.display.Javascript object>"
      ]
     },
     "metadata": {},
     "output_type": "display_data"
    }
   ],
   "source": [
    "# # Example code to quick-check a specific entry\n",
    "# df[df[\"info_3_1\"] == \"diabetes\"]"
   ]
  },
  {
   "cell_type": "markdown",
   "id": "072350d2",
   "metadata": {},
   "source": [
    "#### Creating Lists for Each `known_for` Category and for `cause_of_death`"
   ]
  },
  {
   "cell_type": "code",
   "execution_count": 11,
   "id": "ed90a7ec",
   "metadata": {},
   "outputs": [
    {
     "data": {
      "application/javascript": [
       "\n",
       "            setTimeout(function() {\n",
       "                var nbb_cell_id = 11;\n",
       "                var nbb_unformatted_code = \"# Creating lists for each category and sorting by decreasing length and removing duplicates\\n\\npolitics_govt_law = [\\n    \\\"an National Congress politician\\\",\\n    \\\"politician Sir Abe Bailey\\\",\\n    \\\"Conservative politician\\\",\\n    \\\"neo fascist politician\\\",\\n    \\\"provincial politician\\\",\\n    \\\"former politician\\\",\\n    \\\"politician\\\",\\n    \\\"author of the Declaration of Independence of\\\",\\n    \\\"editorial director of Antiwar com\\\",\\n    \\\"Housing\\\",\\n    \\\"housing\\\",\\n    \\\"medical education\\\",\\n    \\\"activist against animal testing\\\",\\n    \\\"activist for victims of Nazism\\\",\\n    \\\"transgender rights activist\\\",\\n    \\\"anti apartheid activist\\\",\\n    \\\"anti Communist activist\\\",\\n    \\\"lesbian rights activist\\\",\\n    \\\"environmental activist\\\",\\n    \\\"animal rights activist\\\",\\n    \\\"Black lesbian activist\\\",\\n    \\\"human rights activist\\\",\\n    \\\"civil rights activist\\\",\\n    \\\"women rights activist\\\",\\n    \\\"LGTBI rights activist\\\",\\n    \\\"Lingayatism activist\\\",\\n    \\\"health care activist\\\",\\n    \\\"LGBT rights activist\\\",\\n    \\\"gay rights activist\\\",\\n    \\\"political activist\\\",\\n    \\\"anti war activist\\\",\\n    \\\"feminist activist\\\",\\n    \\\"cannabis activist\\\",\\n    \\\"internet activist\\\",\\n    \\\"cultural activist\\\",\\n    \\\"Garifuna activist\\\",\\n    \\\"consumer activist\\\",\\n    \\\"literary activist\\\",\\n    \\\"Marxist activist\\\",\\n    \\\"social activist\\\",\\n    \\\"public activist\\\",\\n    \\\"Native activist\\\",\\n    \\\"gender activist\\\",\\n    \\\"rights activist\\\",\\n    \\\"LGBTQ activist\\\",\\n    \\\"peace activist\\\",\\n    \\\"AIDS activist\\\",\\n    \\\"diplomat\\\",\\n    \\\"outspoken critic of President Vladimir Putin\\\",\\n    \\\"government critic\\\",\\n    \\\"social critic\\\",\\n]\\npolitics_govt_law = sorted(\\n    list(set(politics_govt_law)), key=lambda x: len(x), reverse=True\\n)\\n\\narts = [\\n    \\\"songwriter in the country music genre\\\",\\n    \\\"writer of children books\\\",\\n    \\\"funk singer songwriter\\\",\\n    \\\"science fiction writer\\\",\\n    \\\"writer of literature\\\",\\n    \\\"television writer\\\",\\n    \\\"singer songwriter\\\",\\n    \\\"screenplay writer\\\",\\n    \\\"nonfiction writer\\\",\\n    \\\"children writer\\\",\\n    \\\"fantasy writer\\\",\\n    \\\"fiction writer\\\",\\n    \\\"travel writer\\\",\\n    \\\"comics writer\\\",\\n    \\\"screenwriter\\\",\\n    \\\"scriptwriter\\\",\\n    \\\"songwriter\\\",\\n    \\\"was the author of two books on Parliament\\\",\\n    \\\"author of more than music instruction books\\\",\\n    \\\"popular science author\\\",\\n    \\\"book author\\\",\\n    \\\"children book author\\\",\\n    \\\"relationship author\\\",\\n    \\\"best selling author\\\",\\n    \\\"short story author\\\",\\n    \\\"children author\\\",\\n    \\\"cookbook author\\\",\\n    \\\"textbook author\\\",\\n    \\\"actor land National Artist\\\",\\n    \\\"big screen movie actor\\\",\\n    \\\"television actor\\\",\\n    \\\"theatre actor\\\",\\n    \\\"voice actor\\\",\\n    \\\"child actor\\\",\\n    \\\"stage actor\\\",\\n    \\\"film actor\\\",\\n    \\\"actor\\\",\\n    \\\"independent producer\\\",\\n    \\\"television producer\\\",\\n    \\\"theatrical producer\\\",\\n    \\\"R&B record producer\\\",\\n    \\\"theatre producer\\\",\\n    \\\"record producer\\\",\\n    \\\"music producer\\\",\\n    \\\"blues producer\\\",\\n    \\\"movie producer\\\",\\n    \\\"film producer\\\",\\n    \\\"BBC producer\\\",\\n    \\\"TV producer\\\",\\n    \\\"television producer\\\",\\n    \\\"video game journalist\\\",\\n    \\\"literary journalist\\\",\\n    \\\"music journalist\\\",\\n    \\\"art journalist\\\",\\n    \\\"television composer\\\",\\n    \\\"film score composer\\\",\\n    \\\"music composer\\\",\\n    \\\"samba composer\\\",\\n    \\\"film composer\\\",\\n    \\\"executive director of the Producers Guild of\\\",\\n    \\\"artistic director of the National Ballet of\\\",\\n    \\\"former deputy managing director of\\\",\\n    \\\"documentary film director\\\",\\n    \\\"pornographic director\\\",\\n    \\\"television director\\\",\\n    \\\"artistic director\\\",\\n    \\\"theatre director\\\",\\n    \\\"dubbing director\\\",\\n    \\\"theater director\\\",\\n    \\\"musical director\\\",\\n    \\\"stage director\\\",\\n    \\\"music director\\\",\\n    \\\"opera director\\\",\\n    \\\"film director\\\",\\n    \\\"wife of singing cowboy Roy Rogers\\\",\\n    \\\"singer for The Lovin' Spoonful\\\",\\n    \\\"funk singer songwriter\\\",\\n    \\\"musical comedy singer\\\",\\n    \\\"singer songwriter\\\",\\n    \\\"rockabilly singer\\\",\\n    \\\"j\\u00edbaro singer\\\",\\n    \\\"bolero singer\\\",\\n    \\\"reggae singer\\\",\\n    \\\"opera singer\\\",\\n    \\\"funk singer\\\",\\n    \\\"pop singer\\\",\\n    \\\"singer\\\",\\n    \\\"Urdu poet\\\",\\n    \\\"photography historian\\\",\\n    \\\"multi instrumental session musician\\\",\\n    \\\"musician on early Tamla sessions\\\",\\n    \\\"jazz musician\\\",\\n    \\\"soul musician\\\",\\n    \\\"R&B musician\\\",\\n    \\\"a musician\\\",\\n    \\\"musician\\\",\\n    \\\"playwright\\\",\\n    \\\"theatre activist\\\",\\n    \\\"son of novelist Ernest Hemingway\\\",\\n    \\\"novelist\\\",\\n    \\\"novels\\\",\\n    \\\"broadcaster on public media\\\",\\n    \\\"radio broadcaster\\\",\\n    \\\"broadcaster\\\",\\n    \\\"podcaster\\\",\\n    \\\"literary magazine editor\\\",\\n    \\\"chief editorialist of\\\",\\n    \\\"contributing editor\\\",\\n    \\\"editor in chief of\\\",\\n    \\\"thesaurus editor\\\",\\n    \\\"newspaper editor\\\",\\n    \\\"magazine editor\\\",\\n    \\\"first editor of\\\",\\n    \\\"graphic editor\\\",\\n    \\\"story editor\\\",\\n    \\\"editor of\\\",\\n    \\\"editor\\\",\\n    \\\"film critic for The Times\\\",\\n    \\\"literary critic\\\",\\n    \\\"theater critic\\\",\\n    \\\"theatre critic\\\",\\n    \\\"music critic\\\",\\n    \\\"film critic\\\",\\n    \\\"art critic\\\",\\n]\\narts = sorted(list(set(arts)), key=lambda x: len(x), reverse=True)\\n\\nsports = [\\n    \\\"rules writer\\\",\\n    \\\"automobile journalist\\\",\\n    \\\"radio sports journalist\\\",\\n    \\\"athletic director\\\",\\n]\\nsports = sorted(list(set(sports)), key=lambda x: len(x), reverse=True)\\n\\nsciences = [\\n    \\\"rose authority\\\",\\n    \\\"flight director in the Mission Control Center at Johnson Space Center\\\",\\n    \\\"the first director of Institute for Biological Research\\\",\\n    \\\"managing director of ONGC\\\",\\n    \\\"reprocessing\\\",\\n]\\nsciences = sorted(list(set(sciences)), key=lambda x: len(x), reverse=True)\\n\\nbusiness_farming = [\\n    \\\"agricultural producer\\\",\\n    \\\"executive director of the Mori Building Company\\\",\\n    \\\"managing director of AmBank\\\",\\n    \\\"Housing Association\\\",\\n]\\nbusiness_farming = sorted(\\n    list(set(business_farming)), key=lambda x: len(x), reverse=True\\n)\\n\\nacademia_humanities = [\\n    \\\"authority on\\\",\\n    \\\"director of the Curtis Institute of Music\\\",\\n    \\\"director of the Head Start Program\\\",\\n    \\\"director of Georgetown Day School\\\",\\n    \\\"director of the Planetarium\\\",\\n    \\\"museum director\\\",\\n    \\\"academic; Chancellor of the University of Dublin\\\",\\n    \\\"an academician of the Academy of Sciences\\\",\\n    \\\"academic administrator\\\",\\n    \\\"academician\\\",\\n    \\\"academic\\\",\\n    \\\"poetry teacher\\\",\\n    \\\"translator of ancient epics\\\",\\n    \\\"translator of literature\\\",\\n    \\\"comic book translator\\\",\\n    \\\"translator of\\\",\\n    \\\"translator\\\",\\n    \\\"literary historian\\\",\\n    \\\"language historian\\\",\\n    \\\"ethno historian\\\",\\n    \\\"urban historian\\\",\\n    \\\"art historian\\\",\\n    \\\"historian of medieval and\\\",\\n    \\\"historic preservationist\\\",\\n    \\\"ecclesiastical historian\\\",\\n    \\\"military historian\\\",\\n    \\\"culinary historian\\\",\\n    \\\"science historian\\\",\\n    \\\"naval historian\\\",\\n    \\\"film historian\\\",\\n    \\\"music educator\\\",\\n    \\\"art educator\\\",\\n    \\\"educationist\\\",\\n    \\\"education\\\",\\n    \\\"educator\\\",\\n]\\nacademia_humanities = sorted(\\n    list(set(academia_humanities)), key=lambda x: len(x), reverse=True\\n)\\n\\nlaw_enf_military_operator = []\\nlaw_enf_military_operator = sorted(\\n    list(set(law_enf_military_operator)), key=lambda x: len(x), reverse=True\\n)\\n\\nspiritual = [\\n    \\\"prominent Latter day Saint author\\\",\\n    \\\"church music composer\\\",\\n]\\nspiritual = sorted(list(set(spiritual)), key=lambda x: len(x), reverse=True)\\n\\nsocial = [\\\"philanthropist\\\"]\\nsocial = sorted(list(set(social)), key=lambda x: len(x), reverse=True)\\n\\ncrime = []\\ncrime = sorted(list(set(crime)), key=lambda x: len(x), reverse=True)\\n\\nevent_record_other = []\\nevent_record_other = sorted(\\n    list(set(event_record_other)), key=lambda x: len(x), reverse=True\\n)\\n\\nother_species = []\\nother_species = sorted(list(set(other_species)), key=lambda x: len(x), reverse=True)\\n\\ncause_of_death = [\\n    \\\"complications of pneumonia\\\",\\n    \\\"pneumonia\\\",\\n    \\\"congestive heart failure\\\",\\n    \\\"multiple organ failure\\\",\\n    \\\"chronic renal failure\\\",\\n    \\\"respiratory failure\\\",\\n    \\\"pulmonary failure\\\",\\n    \\\"cardiac failure\\\",\\n    \\\"kidney failure\\\",\\n    \\\"heart failure\\\",\\n    \\\"renal failure\\\",\\n    \\\"liver failure\\\",\\n    \\\"organ failure\\\",\\n    \\\"lung failure\\\",\\n    \\\"kidney complications\\\",\\n    \\\"kidney problems\\\",\\n    \\\"kidney ailments\\\",\\n    \\\"kidney disease\\\",\\n    \\\"kidney cancer\\\",\\n    \\\"complications from COVID\\\",\\n    \\\"COVID\\\",\\n    \\\"complications of diabetes\\\",\\n    \\\"diabetes\\\",\\n]\\ncause_of_death = sorted(list(set(cause_of_death)), key=lambda x: len(x), reverse=True)\";\n",
       "                var nbb_formatted_code = \"# Creating lists for each category and sorting by decreasing length and removing duplicates\\n\\npolitics_govt_law = [\\n    \\\"an National Congress politician\\\",\\n    \\\"politician Sir Abe Bailey\\\",\\n    \\\"Conservative politician\\\",\\n    \\\"neo fascist politician\\\",\\n    \\\"provincial politician\\\",\\n    \\\"former politician\\\",\\n    \\\"politician\\\",\\n    \\\"author of the Declaration of Independence of\\\",\\n    \\\"editorial director of Antiwar com\\\",\\n    \\\"Housing\\\",\\n    \\\"housing\\\",\\n    \\\"medical education\\\",\\n    \\\"activist against animal testing\\\",\\n    \\\"activist for victims of Nazism\\\",\\n    \\\"transgender rights activist\\\",\\n    \\\"anti apartheid activist\\\",\\n    \\\"anti Communist activist\\\",\\n    \\\"lesbian rights activist\\\",\\n    \\\"environmental activist\\\",\\n    \\\"animal rights activist\\\",\\n    \\\"Black lesbian activist\\\",\\n    \\\"human rights activist\\\",\\n    \\\"civil rights activist\\\",\\n    \\\"women rights activist\\\",\\n    \\\"LGTBI rights activist\\\",\\n    \\\"Lingayatism activist\\\",\\n    \\\"health care activist\\\",\\n    \\\"LGBT rights activist\\\",\\n    \\\"gay rights activist\\\",\\n    \\\"political activist\\\",\\n    \\\"anti war activist\\\",\\n    \\\"feminist activist\\\",\\n    \\\"cannabis activist\\\",\\n    \\\"internet activist\\\",\\n    \\\"cultural activist\\\",\\n    \\\"Garifuna activist\\\",\\n    \\\"consumer activist\\\",\\n    \\\"literary activist\\\",\\n    \\\"Marxist activist\\\",\\n    \\\"social activist\\\",\\n    \\\"public activist\\\",\\n    \\\"Native activist\\\",\\n    \\\"gender activist\\\",\\n    \\\"rights activist\\\",\\n    \\\"LGBTQ activist\\\",\\n    \\\"peace activist\\\",\\n    \\\"AIDS activist\\\",\\n    \\\"diplomat\\\",\\n    \\\"outspoken critic of President Vladimir Putin\\\",\\n    \\\"government critic\\\",\\n    \\\"social critic\\\",\\n]\\npolitics_govt_law = sorted(\\n    list(set(politics_govt_law)), key=lambda x: len(x), reverse=True\\n)\\n\\narts = [\\n    \\\"songwriter in the country music genre\\\",\\n    \\\"writer of children books\\\",\\n    \\\"funk singer songwriter\\\",\\n    \\\"science fiction writer\\\",\\n    \\\"writer of literature\\\",\\n    \\\"television writer\\\",\\n    \\\"singer songwriter\\\",\\n    \\\"screenplay writer\\\",\\n    \\\"nonfiction writer\\\",\\n    \\\"children writer\\\",\\n    \\\"fantasy writer\\\",\\n    \\\"fiction writer\\\",\\n    \\\"travel writer\\\",\\n    \\\"comics writer\\\",\\n    \\\"screenwriter\\\",\\n    \\\"scriptwriter\\\",\\n    \\\"songwriter\\\",\\n    \\\"was the author of two books on Parliament\\\",\\n    \\\"author of more than music instruction books\\\",\\n    \\\"popular science author\\\",\\n    \\\"book author\\\",\\n    \\\"children book author\\\",\\n    \\\"relationship author\\\",\\n    \\\"best selling author\\\",\\n    \\\"short story author\\\",\\n    \\\"children author\\\",\\n    \\\"cookbook author\\\",\\n    \\\"textbook author\\\",\\n    \\\"actor land National Artist\\\",\\n    \\\"big screen movie actor\\\",\\n    \\\"television actor\\\",\\n    \\\"theatre actor\\\",\\n    \\\"voice actor\\\",\\n    \\\"child actor\\\",\\n    \\\"stage actor\\\",\\n    \\\"film actor\\\",\\n    \\\"actor\\\",\\n    \\\"independent producer\\\",\\n    \\\"television producer\\\",\\n    \\\"theatrical producer\\\",\\n    \\\"R&B record producer\\\",\\n    \\\"theatre producer\\\",\\n    \\\"record producer\\\",\\n    \\\"music producer\\\",\\n    \\\"blues producer\\\",\\n    \\\"movie producer\\\",\\n    \\\"film producer\\\",\\n    \\\"BBC producer\\\",\\n    \\\"TV producer\\\",\\n    \\\"television producer\\\",\\n    \\\"video game journalist\\\",\\n    \\\"literary journalist\\\",\\n    \\\"music journalist\\\",\\n    \\\"art journalist\\\",\\n    \\\"television composer\\\",\\n    \\\"film score composer\\\",\\n    \\\"music composer\\\",\\n    \\\"samba composer\\\",\\n    \\\"film composer\\\",\\n    \\\"executive director of the Producers Guild of\\\",\\n    \\\"artistic director of the National Ballet of\\\",\\n    \\\"former deputy managing director of\\\",\\n    \\\"documentary film director\\\",\\n    \\\"pornographic director\\\",\\n    \\\"television director\\\",\\n    \\\"artistic director\\\",\\n    \\\"theatre director\\\",\\n    \\\"dubbing director\\\",\\n    \\\"theater director\\\",\\n    \\\"musical director\\\",\\n    \\\"stage director\\\",\\n    \\\"music director\\\",\\n    \\\"opera director\\\",\\n    \\\"film director\\\",\\n    \\\"wife of singing cowboy Roy Rogers\\\",\\n    \\\"singer for The Lovin' Spoonful\\\",\\n    \\\"funk singer songwriter\\\",\\n    \\\"musical comedy singer\\\",\\n    \\\"singer songwriter\\\",\\n    \\\"rockabilly singer\\\",\\n    \\\"j\\u00edbaro singer\\\",\\n    \\\"bolero singer\\\",\\n    \\\"reggae singer\\\",\\n    \\\"opera singer\\\",\\n    \\\"funk singer\\\",\\n    \\\"pop singer\\\",\\n    \\\"singer\\\",\\n    \\\"Urdu poet\\\",\\n    \\\"photography historian\\\",\\n    \\\"multi instrumental session musician\\\",\\n    \\\"musician on early Tamla sessions\\\",\\n    \\\"jazz musician\\\",\\n    \\\"soul musician\\\",\\n    \\\"R&B musician\\\",\\n    \\\"a musician\\\",\\n    \\\"musician\\\",\\n    \\\"playwright\\\",\\n    \\\"theatre activist\\\",\\n    \\\"son of novelist Ernest Hemingway\\\",\\n    \\\"novelist\\\",\\n    \\\"novels\\\",\\n    \\\"broadcaster on public media\\\",\\n    \\\"radio broadcaster\\\",\\n    \\\"broadcaster\\\",\\n    \\\"podcaster\\\",\\n    \\\"literary magazine editor\\\",\\n    \\\"chief editorialist of\\\",\\n    \\\"contributing editor\\\",\\n    \\\"editor in chief of\\\",\\n    \\\"thesaurus editor\\\",\\n    \\\"newspaper editor\\\",\\n    \\\"magazine editor\\\",\\n    \\\"first editor of\\\",\\n    \\\"graphic editor\\\",\\n    \\\"story editor\\\",\\n    \\\"editor of\\\",\\n    \\\"editor\\\",\\n    \\\"film critic for The Times\\\",\\n    \\\"literary critic\\\",\\n    \\\"theater critic\\\",\\n    \\\"theatre critic\\\",\\n    \\\"music critic\\\",\\n    \\\"film critic\\\",\\n    \\\"art critic\\\",\\n]\\narts = sorted(list(set(arts)), key=lambda x: len(x), reverse=True)\\n\\nsports = [\\n    \\\"rules writer\\\",\\n    \\\"automobile journalist\\\",\\n    \\\"radio sports journalist\\\",\\n    \\\"athletic director\\\",\\n]\\nsports = sorted(list(set(sports)), key=lambda x: len(x), reverse=True)\\n\\nsciences = [\\n    \\\"rose authority\\\",\\n    \\\"flight director in the Mission Control Center at Johnson Space Center\\\",\\n    \\\"the first director of Institute for Biological Research\\\",\\n    \\\"managing director of ONGC\\\",\\n    \\\"reprocessing\\\",\\n]\\nsciences = sorted(list(set(sciences)), key=lambda x: len(x), reverse=True)\\n\\nbusiness_farming = [\\n    \\\"agricultural producer\\\",\\n    \\\"executive director of the Mori Building Company\\\",\\n    \\\"managing director of AmBank\\\",\\n    \\\"Housing Association\\\",\\n]\\nbusiness_farming = sorted(\\n    list(set(business_farming)), key=lambda x: len(x), reverse=True\\n)\\n\\nacademia_humanities = [\\n    \\\"authority on\\\",\\n    \\\"director of the Curtis Institute of Music\\\",\\n    \\\"director of the Head Start Program\\\",\\n    \\\"director of Georgetown Day School\\\",\\n    \\\"director of the Planetarium\\\",\\n    \\\"museum director\\\",\\n    \\\"academic; Chancellor of the University of Dublin\\\",\\n    \\\"an academician of the Academy of Sciences\\\",\\n    \\\"academic administrator\\\",\\n    \\\"academician\\\",\\n    \\\"academic\\\",\\n    \\\"poetry teacher\\\",\\n    \\\"translator of ancient epics\\\",\\n    \\\"translator of literature\\\",\\n    \\\"comic book translator\\\",\\n    \\\"translator of\\\",\\n    \\\"translator\\\",\\n    \\\"literary historian\\\",\\n    \\\"language historian\\\",\\n    \\\"ethno historian\\\",\\n    \\\"urban historian\\\",\\n    \\\"art historian\\\",\\n    \\\"historian of medieval and\\\",\\n    \\\"historic preservationist\\\",\\n    \\\"ecclesiastical historian\\\",\\n    \\\"military historian\\\",\\n    \\\"culinary historian\\\",\\n    \\\"science historian\\\",\\n    \\\"naval historian\\\",\\n    \\\"film historian\\\",\\n    \\\"music educator\\\",\\n    \\\"art educator\\\",\\n    \\\"educationist\\\",\\n    \\\"education\\\",\\n    \\\"educator\\\",\\n]\\nacademia_humanities = sorted(\\n    list(set(academia_humanities)), key=lambda x: len(x), reverse=True\\n)\\n\\nlaw_enf_military_operator = []\\nlaw_enf_military_operator = sorted(\\n    list(set(law_enf_military_operator)), key=lambda x: len(x), reverse=True\\n)\\n\\nspiritual = [\\n    \\\"prominent Latter day Saint author\\\",\\n    \\\"church music composer\\\",\\n]\\nspiritual = sorted(list(set(spiritual)), key=lambda x: len(x), reverse=True)\\n\\nsocial = [\\\"philanthropist\\\"]\\nsocial = sorted(list(set(social)), key=lambda x: len(x), reverse=True)\\n\\ncrime = []\\ncrime = sorted(list(set(crime)), key=lambda x: len(x), reverse=True)\\n\\nevent_record_other = []\\nevent_record_other = sorted(\\n    list(set(event_record_other)), key=lambda x: len(x), reverse=True\\n)\\n\\nother_species = []\\nother_species = sorted(list(set(other_species)), key=lambda x: len(x), reverse=True)\\n\\ncause_of_death = [\\n    \\\"complications of pneumonia\\\",\\n    \\\"pneumonia\\\",\\n    \\\"congestive heart failure\\\",\\n    \\\"multiple organ failure\\\",\\n    \\\"chronic renal failure\\\",\\n    \\\"respiratory failure\\\",\\n    \\\"pulmonary failure\\\",\\n    \\\"cardiac failure\\\",\\n    \\\"kidney failure\\\",\\n    \\\"heart failure\\\",\\n    \\\"renal failure\\\",\\n    \\\"liver failure\\\",\\n    \\\"organ failure\\\",\\n    \\\"lung failure\\\",\\n    \\\"kidney complications\\\",\\n    \\\"kidney problems\\\",\\n    \\\"kidney ailments\\\",\\n    \\\"kidney disease\\\",\\n    \\\"kidney cancer\\\",\\n    \\\"complications from COVID\\\",\\n    \\\"COVID\\\",\\n    \\\"complications of diabetes\\\",\\n    \\\"diabetes\\\",\\n]\\ncause_of_death = sorted(list(set(cause_of_death)), key=lambda x: len(x), reverse=True)\";\n",
       "                var nbb_cells = Jupyter.notebook.get_cells();\n",
       "                for (var i = 0; i < nbb_cells.length; ++i) {\n",
       "                    if (nbb_cells[i].input_prompt_number == nbb_cell_id) {\n",
       "                        if (nbb_cells[i].get_text() == nbb_unformatted_code) {\n",
       "                             nbb_cells[i].set_text(nbb_formatted_code);\n",
       "                        }\n",
       "                        break;\n",
       "                    }\n",
       "                }\n",
       "            }, 500);\n",
       "            "
      ],
      "text/plain": [
       "<IPython.core.display.Javascript object>"
      ]
     },
     "metadata": {},
     "output_type": "display_data"
    }
   ],
   "source": [
    "# Creating lists for each category and sorting by decreasing length and removing duplicates\n",
    "\n",
    "politics_govt_law = [\n",
    "    \"an National Congress politician\",\n",
    "    \"politician Sir Abe Bailey\",\n",
    "    \"Conservative politician\",\n",
    "    \"neo fascist politician\",\n",
    "    \"provincial politician\",\n",
    "    \"former politician\",\n",
    "    \"politician\",\n",
    "    \"author of the Declaration of Independence of\",\n",
    "    \"editorial director of Antiwar com\",\n",
    "    \"Housing\",\n",
    "    \"housing\",\n",
    "    \"medical education\",\n",
    "    \"activist against animal testing\",\n",
    "    \"activist for victims of Nazism\",\n",
    "    \"transgender rights activist\",\n",
    "    \"anti apartheid activist\",\n",
    "    \"anti Communist activist\",\n",
    "    \"lesbian rights activist\",\n",
    "    \"environmental activist\",\n",
    "    \"animal rights activist\",\n",
    "    \"Black lesbian activist\",\n",
    "    \"human rights activist\",\n",
    "    \"civil rights activist\",\n",
    "    \"women rights activist\",\n",
    "    \"LGTBI rights activist\",\n",
    "    \"Lingayatism activist\",\n",
    "    \"health care activist\",\n",
    "    \"LGBT rights activist\",\n",
    "    \"gay rights activist\",\n",
    "    \"political activist\",\n",
    "    \"anti war activist\",\n",
    "    \"feminist activist\",\n",
    "    \"cannabis activist\",\n",
    "    \"internet activist\",\n",
    "    \"cultural activist\",\n",
    "    \"Garifuna activist\",\n",
    "    \"consumer activist\",\n",
    "    \"literary activist\",\n",
    "    \"Marxist activist\",\n",
    "    \"social activist\",\n",
    "    \"public activist\",\n",
    "    \"Native activist\",\n",
    "    \"gender activist\",\n",
    "    \"rights activist\",\n",
    "    \"LGBTQ activist\",\n",
    "    \"peace activist\",\n",
    "    \"AIDS activist\",\n",
    "    \"diplomat\",\n",
    "    \"outspoken critic of President Vladimir Putin\",\n",
    "    \"government critic\",\n",
    "    \"social critic\",\n",
    "]\n",
    "politics_govt_law = sorted(\n",
    "    list(set(politics_govt_law)), key=lambda x: len(x), reverse=True\n",
    ")\n",
    "\n",
    "arts = [\n",
    "    \"songwriter in the country music genre\",\n",
    "    \"writer of children books\",\n",
    "    \"funk singer songwriter\",\n",
    "    \"science fiction writer\",\n",
    "    \"writer of literature\",\n",
    "    \"television writer\",\n",
    "    \"singer songwriter\",\n",
    "    \"screenplay writer\",\n",
    "    \"nonfiction writer\",\n",
    "    \"children writer\",\n",
    "    \"fantasy writer\",\n",
    "    \"fiction writer\",\n",
    "    \"travel writer\",\n",
    "    \"comics writer\",\n",
    "    \"screenwriter\",\n",
    "    \"scriptwriter\",\n",
    "    \"songwriter\",\n",
    "    \"was the author of two books on Parliament\",\n",
    "    \"author of more than music instruction books\",\n",
    "    \"popular science author\",\n",
    "    \"book author\",\n",
    "    \"children book author\",\n",
    "    \"relationship author\",\n",
    "    \"best selling author\",\n",
    "    \"short story author\",\n",
    "    \"children author\",\n",
    "    \"cookbook author\",\n",
    "    \"textbook author\",\n",
    "    \"actor land National Artist\",\n",
    "    \"big screen movie actor\",\n",
    "    \"television actor\",\n",
    "    \"theatre actor\",\n",
    "    \"voice actor\",\n",
    "    \"child actor\",\n",
    "    \"stage actor\",\n",
    "    \"film actor\",\n",
    "    \"actor\",\n",
    "    \"independent producer\",\n",
    "    \"television producer\",\n",
    "    \"theatrical producer\",\n",
    "    \"R&B record producer\",\n",
    "    \"theatre producer\",\n",
    "    \"record producer\",\n",
    "    \"music producer\",\n",
    "    \"blues producer\",\n",
    "    \"movie producer\",\n",
    "    \"film producer\",\n",
    "    \"BBC producer\",\n",
    "    \"TV producer\",\n",
    "    \"television producer\",\n",
    "    \"video game journalist\",\n",
    "    \"literary journalist\",\n",
    "    \"music journalist\",\n",
    "    \"art journalist\",\n",
    "    \"television composer\",\n",
    "    \"film score composer\",\n",
    "    \"music composer\",\n",
    "    \"samba composer\",\n",
    "    \"film composer\",\n",
    "    \"executive director of the Producers Guild of\",\n",
    "    \"artistic director of the National Ballet of\",\n",
    "    \"former deputy managing director of\",\n",
    "    \"documentary film director\",\n",
    "    \"pornographic director\",\n",
    "    \"television director\",\n",
    "    \"artistic director\",\n",
    "    \"theatre director\",\n",
    "    \"dubbing director\",\n",
    "    \"theater director\",\n",
    "    \"musical director\",\n",
    "    \"stage director\",\n",
    "    \"music director\",\n",
    "    \"opera director\",\n",
    "    \"film director\",\n",
    "    \"wife of singing cowboy Roy Rogers\",\n",
    "    \"singer for The Lovin' Spoonful\",\n",
    "    \"funk singer songwriter\",\n",
    "    \"musical comedy singer\",\n",
    "    \"singer songwriter\",\n",
    "    \"rockabilly singer\",\n",
    "    \"jíbaro singer\",\n",
    "    \"bolero singer\",\n",
    "    \"reggae singer\",\n",
    "    \"opera singer\",\n",
    "    \"funk singer\",\n",
    "    \"pop singer\",\n",
    "    \"singer\",\n",
    "    \"Urdu poet\",\n",
    "    \"photography historian\",\n",
    "    \"multi instrumental session musician\",\n",
    "    \"musician on early Tamla sessions\",\n",
    "    \"jazz musician\",\n",
    "    \"soul musician\",\n",
    "    \"R&B musician\",\n",
    "    \"a musician\",\n",
    "    \"musician\",\n",
    "    \"playwright\",\n",
    "    \"theatre activist\",\n",
    "    \"son of novelist Ernest Hemingway\",\n",
    "    \"novelist\",\n",
    "    \"novels\",\n",
    "    \"broadcaster on public media\",\n",
    "    \"radio broadcaster\",\n",
    "    \"broadcaster\",\n",
    "    \"podcaster\",\n",
    "    \"literary magazine editor\",\n",
    "    \"chief editorialist of\",\n",
    "    \"contributing editor\",\n",
    "    \"editor in chief of\",\n",
    "    \"thesaurus editor\",\n",
    "    \"newspaper editor\",\n",
    "    \"magazine editor\",\n",
    "    \"first editor of\",\n",
    "    \"graphic editor\",\n",
    "    \"story editor\",\n",
    "    \"editor of\",\n",
    "    \"editor\",\n",
    "    \"film critic for The Times\",\n",
    "    \"literary critic\",\n",
    "    \"theater critic\",\n",
    "    \"theatre critic\",\n",
    "    \"music critic\",\n",
    "    \"film critic\",\n",
    "    \"art critic\",\n",
    "]\n",
    "arts = sorted(list(set(arts)), key=lambda x: len(x), reverse=True)\n",
    "\n",
    "sports = [\n",
    "    \"rules writer\",\n",
    "    \"automobile journalist\",\n",
    "    \"radio sports journalist\",\n",
    "    \"athletic director\",\n",
    "]\n",
    "sports = sorted(list(set(sports)), key=lambda x: len(x), reverse=True)\n",
    "\n",
    "sciences = [\n",
    "    \"rose authority\",\n",
    "    \"flight director in the Mission Control Center at Johnson Space Center\",\n",
    "    \"the first director of Institute for Biological Research\",\n",
    "    \"managing director of ONGC\",\n",
    "    \"reprocessing\",\n",
    "]\n",
    "sciences = sorted(list(set(sciences)), key=lambda x: len(x), reverse=True)\n",
    "\n",
    "business_farming = [\n",
    "    \"agricultural producer\",\n",
    "    \"executive director of the Mori Building Company\",\n",
    "    \"managing director of AmBank\",\n",
    "    \"Housing Association\",\n",
    "]\n",
    "business_farming = sorted(\n",
    "    list(set(business_farming)), key=lambda x: len(x), reverse=True\n",
    ")\n",
    "\n",
    "academia_humanities = [\n",
    "    \"authority on\",\n",
    "    \"director of the Curtis Institute of Music\",\n",
    "    \"director of the Head Start Program\",\n",
    "    \"director of Georgetown Day School\",\n",
    "    \"director of the Planetarium\",\n",
    "    \"museum director\",\n",
    "    \"academic; Chancellor of the University of Dublin\",\n",
    "    \"an academician of the Academy of Sciences\",\n",
    "    \"academic administrator\",\n",
    "    \"academician\",\n",
    "    \"academic\",\n",
    "    \"poetry teacher\",\n",
    "    \"translator of ancient epics\",\n",
    "    \"translator of literature\",\n",
    "    \"comic book translator\",\n",
    "    \"translator of\",\n",
    "    \"translator\",\n",
    "    \"literary historian\",\n",
    "    \"language historian\",\n",
    "    \"ethno historian\",\n",
    "    \"urban historian\",\n",
    "    \"art historian\",\n",
    "    \"historian of medieval and\",\n",
    "    \"historic preservationist\",\n",
    "    \"ecclesiastical historian\",\n",
    "    \"military historian\",\n",
    "    \"culinary historian\",\n",
    "    \"science historian\",\n",
    "    \"naval historian\",\n",
    "    \"film historian\",\n",
    "    \"music educator\",\n",
    "    \"art educator\",\n",
    "    \"educationist\",\n",
    "    \"education\",\n",
    "    \"educator\",\n",
    "]\n",
    "academia_humanities = sorted(\n",
    "    list(set(academia_humanities)), key=lambda x: len(x), reverse=True\n",
    ")\n",
    "\n",
    "law_enf_military_operator = []\n",
    "law_enf_military_operator = sorted(\n",
    "    list(set(law_enf_military_operator)), key=lambda x: len(x), reverse=True\n",
    ")\n",
    "\n",
    "spiritual = [\n",
    "    \"prominent Latter day Saint author\",\n",
    "    \"church music composer\",\n",
    "]\n",
    "spiritual = sorted(list(set(spiritual)), key=lambda x: len(x), reverse=True)\n",
    "\n",
    "social = [\"philanthropist\"]\n",
    "social = sorted(list(set(social)), key=lambda x: len(x), reverse=True)\n",
    "\n",
    "crime = []\n",
    "crime = sorted(list(set(crime)), key=lambda x: len(x), reverse=True)\n",
    "\n",
    "event_record_other = []\n",
    "event_record_other = sorted(\n",
    "    list(set(event_record_other)), key=lambda x: len(x), reverse=True\n",
    ")\n",
    "\n",
    "other_species = []\n",
    "other_species = sorted(list(set(other_species)), key=lambda x: len(x), reverse=True)\n",
    "\n",
    "cause_of_death = [\n",
    "    \"complications of pneumonia\",\n",
    "    \"pneumonia\",\n",
    "    \"congestive heart failure\",\n",
    "    \"multiple organ failure\",\n",
    "    \"chronic renal failure\",\n",
    "    \"respiratory failure\",\n",
    "    \"pulmonary failure\",\n",
    "    \"cardiac failure\",\n",
    "    \"kidney failure\",\n",
    "    \"heart failure\",\n",
    "    \"renal failure\",\n",
    "    \"liver failure\",\n",
    "    \"organ failure\",\n",
    "    \"lung failure\",\n",
    "    \"kidney complications\",\n",
    "    \"kidney problems\",\n",
    "    \"kidney ailments\",\n",
    "    \"kidney disease\",\n",
    "    \"kidney cancer\",\n",
    "    \"complications from COVID\",\n",
    "    \"COVID\",\n",
    "    \"complications of diabetes\",\n",
    "    \"diabetes\",\n",
    "]\n",
    "cause_of_death = sorted(list(set(cause_of_death)), key=lambda x: len(x), reverse=True)"
   ]
  },
  {
   "cell_type": "markdown",
   "id": "afd8ed29",
   "metadata": {},
   "source": [
    "#### Creating `known_for_dict` Dictionary of Category Keys and Specific Role Lists of Values"
   ]
  },
  {
   "cell_type": "code",
   "execution_count": 12,
   "id": "7c0ca871",
   "metadata": {},
   "outputs": [
    {
     "data": {
      "application/javascript": [
       "\n",
       "            setTimeout(function() {\n",
       "                var nbb_cell_id = 12;\n",
       "                var nbb_unformatted_code = \"# Combining separate lists into one dictionary\\nknown_for_dict = {\\n    \\\"social\\\": social,\\n    \\\"spiritual\\\": spiritual,\\n    \\\"academia_humanities\\\": academia_humanities,\\n    \\\"business_farming\\\": business_farming,\\n    \\\"sciences\\\": sciences,\\n    \\\"politics_govt_law\\\": politics_govt_law,\\n    \\\"law_enf_military_operator\\\": law_enf_military_operator,\\n    \\\"crime\\\": crime,\\n    \\\"event_record_other\\\": event_record_other,\\n    \\\"other_species\\\": other_species,\\n    \\\"arts\\\": arts,\\n    \\\"sports\\\": sports,\\n}\";\n",
       "                var nbb_formatted_code = \"# Combining separate lists into one dictionary\\nknown_for_dict = {\\n    \\\"social\\\": social,\\n    \\\"spiritual\\\": spiritual,\\n    \\\"academia_humanities\\\": academia_humanities,\\n    \\\"business_farming\\\": business_farming,\\n    \\\"sciences\\\": sciences,\\n    \\\"politics_govt_law\\\": politics_govt_law,\\n    \\\"law_enf_military_operator\\\": law_enf_military_operator,\\n    \\\"crime\\\": crime,\\n    \\\"event_record_other\\\": event_record_other,\\n    \\\"other_species\\\": other_species,\\n    \\\"arts\\\": arts,\\n    \\\"sports\\\": sports,\\n}\";\n",
       "                var nbb_cells = Jupyter.notebook.get_cells();\n",
       "                for (var i = 0; i < nbb_cells.length; ++i) {\n",
       "                    if (nbb_cells[i].input_prompt_number == nbb_cell_id) {\n",
       "                        if (nbb_cells[i].get_text() == nbb_unformatted_code) {\n",
       "                             nbb_cells[i].set_text(nbb_formatted_code);\n",
       "                        }\n",
       "                        break;\n",
       "                    }\n",
       "                }\n",
       "            }, 500);\n",
       "            "
      ],
      "text/plain": [
       "<IPython.core.display.Javascript object>"
      ]
     },
     "metadata": {},
     "output_type": "display_data"
    }
   ],
   "source": [
    "# Combining separate lists into one dictionary\n",
    "known_for_dict = {\n",
    "    \"social\": social,\n",
    "    \"spiritual\": spiritual,\n",
    "    \"academia_humanities\": academia_humanities,\n",
    "    \"business_farming\": business_farming,\n",
    "    \"sciences\": sciences,\n",
    "    \"politics_govt_law\": politics_govt_law,\n",
    "    \"law_enf_military_operator\": law_enf_military_operator,\n",
    "    \"crime\": crime,\n",
    "    \"event_record_other\": event_record_other,\n",
    "    \"other_species\": other_species,\n",
    "    \"arts\": arts,\n",
    "    \"sports\": sports,\n",
    "}"
   ]
  },
  {
   "cell_type": "markdown",
   "id": "5cbeb1da",
   "metadata": {},
   "source": [
    "#### Extracting `known_for` Categories and `cause_of_death` Values from `info_3_1`"
   ]
  },
  {
   "cell_type": "code",
   "execution_count": 13,
   "id": "3c164383",
   "metadata": {},
   "outputs": [
    {
     "name": "stdout",
     "output_type": "stream",
     "text": [
      "There are 25123 values in cause_of_death column.\n",
      "\n",
      "CPU times: total: 22 s\n",
      "Wall time: 22.7 s\n"
     ]
    },
    {
     "data": {
      "application/javascript": [
       "\n",
       "            setTimeout(function() {\n",
       "                var nbb_cell_id = 13;\n",
       "                var nbb_unformatted_code = \"%%time\\n\\n# Column to check\\ncolumn = 'info_3_1'\\n\\n# Start dataframe\\ndataframe = df[df[column].notna()]\\n\\n# For loop to find cause in column and extract it to cause_of_death\\nfor cause in cause_of_death:\\n    for index in dataframe.index:\\n        item = df.loc[index, column]\\n        if item:\\n            if cause in item:\\n                if df.loc[index, 'cause_of_death']:\\n                    df.loc[index, 'cause_of_death'] = df.loc[index, 'cause_of_death'] + '/' + cause\\n                    df.loc[index, column] = item.replace(cause, '').strip()\\n                else:\\n                    df.loc[index, 'cause_of_death'] = cause\\n                    df.loc[index, column] = item.replace(cause, '').strip()\\n                \\n                \\n# For loop to find role in column and extract it as category\\nfor category, category_lst in known_for_dict.items():\\n    for role in category_lst:\\n        for index in dataframe.index:\\n                item = df.loc[index, column]\\n                if item:\\n                    if role in item:\\n                        df.loc[index, category] = 1\\n                        df.loc[index, column] = item.replace(role, '').strip()\\n\\n# Calculating num_categories\\ndf[\\\"num_categories\\\"] = df[known_for_dict.keys()].sum(axis=1)\\n\\n# Checking number of cause_of_death values\\nprint(f'There are {df[\\\"cause_of_death\\\"].notna().sum()} values in cause_of_death column.\\\\n')\";\n",
       "                var nbb_formatted_code = \"%%time\\n\\n# Column to check\\ncolumn = 'info_3_1'\\n\\n# Start dataframe\\ndataframe = df[df[column].notna()]\\n\\n# For loop to find cause in column and extract it to cause_of_death\\nfor cause in cause_of_death:\\n    for index in dataframe.index:\\n        item = df.loc[index, column]\\n        if item:\\n            if cause in item:\\n                if df.loc[index, 'cause_of_death']:\\n                    df.loc[index, 'cause_of_death'] = df.loc[index, 'cause_of_death'] + '/' + cause\\n                    df.loc[index, column] = item.replace(cause, '').strip()\\n                else:\\n                    df.loc[index, 'cause_of_death'] = cause\\n                    df.loc[index, column] = item.replace(cause, '').strip()\\n                \\n                \\n# For loop to find role in column and extract it as category\\nfor category, category_lst in known_for_dict.items():\\n    for role in category_lst:\\n        for index in dataframe.index:\\n                item = df.loc[index, column]\\n                if item:\\n                    if role in item:\\n                        df.loc[index, category] = 1\\n                        df.loc[index, column] = item.replace(role, '').strip()\\n\\n# Calculating num_categories\\ndf[\\\"num_categories\\\"] = df[known_for_dict.keys()].sum(axis=1)\\n\\n# Checking number of cause_of_death values\\nprint(f'There are {df[\\\"cause_of_death\\\"].notna().sum()} values in cause_of_death column.\\\\n')\";\n",
       "                var nbb_cells = Jupyter.notebook.get_cells();\n",
       "                for (var i = 0; i < nbb_cells.length; ++i) {\n",
       "                    if (nbb_cells[i].input_prompt_number == nbb_cell_id) {\n",
       "                        if (nbb_cells[i].get_text() == nbb_unformatted_code) {\n",
       "                             nbb_cells[i].set_text(nbb_formatted_code);\n",
       "                        }\n",
       "                        break;\n",
       "                    }\n",
       "                }\n",
       "            }, 500);\n",
       "            "
      ],
      "text/plain": [
       "<IPython.core.display.Javascript object>"
      ]
     },
     "metadata": {},
     "output_type": "display_data"
    }
   ],
   "source": [
    "%%time\n",
    "\n",
    "# Column to check\n",
    "column = 'info_3_1'\n",
    "\n",
    "# Start dataframe\n",
    "dataframe = df[df[column].notna()]\n",
    "\n",
    "# For loop to find cause in column and extract it to cause_of_death\n",
    "for cause in cause_of_death:\n",
    "    for index in dataframe.index:\n",
    "        item = df.loc[index, column]\n",
    "        if item:\n",
    "            if cause in item:\n",
    "                if df.loc[index, 'cause_of_death']:\n",
    "                    df.loc[index, 'cause_of_death'] = df.loc[index, 'cause_of_death'] + '/' + cause\n",
    "                    df.loc[index, column] = item.replace(cause, '').strip()\n",
    "                else:\n",
    "                    df.loc[index, 'cause_of_death'] = cause\n",
    "                    df.loc[index, column] = item.replace(cause, '').strip()\n",
    "                \n",
    "                \n",
    "# For loop to find role in column and extract it as category\n",
    "for category, category_lst in known_for_dict.items():\n",
    "    for role in category_lst:\n",
    "        for index in dataframe.index:\n",
    "                item = df.loc[index, column]\n",
    "                if item:\n",
    "                    if role in item:\n",
    "                        df.loc[index, category] = 1\n",
    "                        df.loc[index, column] = item.replace(role, '').strip()\n",
    "\n",
    "# Calculating num_categories\n",
    "df[\"num_categories\"] = df[known_for_dict.keys()].sum(axis=1)\n",
    "\n",
    "# Checking number of cause_of_death values\n",
    "print(f'There are {df[\"cause_of_death\"].notna().sum()} values in cause_of_death column.\\n')"
   ]
  },
  {
   "cell_type": "markdown",
   "id": "01b0b321",
   "metadata": {},
   "source": [
    "#### Checking Updated `num_categories` Value Counts"
   ]
  },
  {
   "cell_type": "code",
   "execution_count": 14,
   "id": "0e9d9453",
   "metadata": {},
   "outputs": [
    {
     "data": {
      "text/plain": [
       "1    84980\n",
       "2    12537\n",
       "3      510\n",
       "0        8\n",
       "4        5\n",
       "Name: num_categories, dtype: int64"
      ]
     },
     "execution_count": 14,
     "metadata": {},
     "output_type": "execute_result"
    },
    {
     "data": {
      "application/javascript": [
       "\n",
       "            setTimeout(function() {\n",
       "                var nbb_cell_id = 14;\n",
       "                var nbb_unformatted_code = \"# Checking Updated num_categories Value Counts\\ndf[\\\"num_categories\\\"].value_counts()\";\n",
       "                var nbb_formatted_code = \"# Checking Updated num_categories Value Counts\\ndf[\\\"num_categories\\\"].value_counts()\";\n",
       "                var nbb_cells = Jupyter.notebook.get_cells();\n",
       "                for (var i = 0; i < nbb_cells.length; ++i) {\n",
       "                    if (nbb_cells[i].input_prompt_number == nbb_cell_id) {\n",
       "                        if (nbb_cells[i].get_text() == nbb_unformatted_code) {\n",
       "                             nbb_cells[i].set_text(nbb_formatted_code);\n",
       "                        }\n",
       "                        break;\n",
       "                    }\n",
       "                }\n",
       "            }, 500);\n",
       "            "
      ],
      "text/plain": [
       "<IPython.core.display.Javascript object>"
      ]
     },
     "metadata": {},
     "output_type": "display_data"
    }
   ],
   "source": [
    "# Checking Updated num_categories Value Counts\n",
    "df[\"num_categories\"].value_counts()"
   ]
  },
  {
   "cell_type": "markdown",
   "id": "728db608",
   "metadata": {},
   "source": [
    "#### Observations:\n",
    "- We will proceed to rebuild `known_for_dict` and `cause_of_death` for the next iteration."
   ]
  },
  {
   "cell_type": "markdown",
   "id": "5b75e94c",
   "metadata": {},
   "source": [
    "#### Finding `known_for` Roles and `cause_of_death` in `info_3_1`"
   ]
  },
  {
   "cell_type": "code",
   "execution_count": 15,
   "id": "9be5884f",
   "metadata": {},
   "outputs": [
    {
     "data": {
      "application/javascript": [
       "\n",
       "            setTimeout(function() {\n",
       "                var nbb_cell_id = 15;\n",
       "                var nbb_unformatted_code = \"# # Obtaining values for column and their counts\\n# roles_cause_list = df[\\\"info_3_1\\\"].value_counts(ascending=True).index.tolist()\";\n",
       "                var nbb_formatted_code = \"# # Obtaining values for column and their counts\\n# roles_cause_list = df[\\\"info_3_1\\\"].value_counts(ascending=True).index.tolist()\";\n",
       "                var nbb_cells = Jupyter.notebook.get_cells();\n",
       "                for (var i = 0; i < nbb_cells.length; ++i) {\n",
       "                    if (nbb_cells[i].input_prompt_number == nbb_cell_id) {\n",
       "                        if (nbb_cells[i].get_text() == nbb_unformatted_code) {\n",
       "                             nbb_cells[i].set_text(nbb_formatted_code);\n",
       "                        }\n",
       "                        break;\n",
       "                    }\n",
       "                }\n",
       "            }, 500);\n",
       "            "
      ],
      "text/plain": [
       "<IPython.core.display.Javascript object>"
      ]
     },
     "metadata": {},
     "output_type": "display_data"
    }
   ],
   "source": [
    "# # Obtaining values for column and their counts\n",
    "# roles_cause_list = df[\"info_3_1\"].value_counts(ascending=True).index.tolist()"
   ]
  },
  {
   "cell_type": "code",
   "execution_count": 16,
   "id": "32ad0704",
   "metadata": {},
   "outputs": [
    {
     "data": {
      "application/javascript": [
       "\n",
       "            setTimeout(function() {\n",
       "                var nbb_cell_id = 16;\n",
       "                var nbb_unformatted_code = \"# # Code to check each value\\n# roles_cause_list.pop()\";\n",
       "                var nbb_formatted_code = \"# # Code to check each value\\n# roles_cause_list.pop()\";\n",
       "                var nbb_cells = Jupyter.notebook.get_cells();\n",
       "                for (var i = 0; i < nbb_cells.length; ++i) {\n",
       "                    if (nbb_cells[i].input_prompt_number == nbb_cell_id) {\n",
       "                        if (nbb_cells[i].get_text() == nbb_unformatted_code) {\n",
       "                             nbb_cells[i].set_text(nbb_formatted_code);\n",
       "                        }\n",
       "                        break;\n",
       "                    }\n",
       "                }\n",
       "            }, 500);\n",
       "            "
      ],
      "text/plain": [
       "<IPython.core.display.Javascript object>"
      ]
     },
     "metadata": {},
     "output_type": "display_data"
    }
   ],
   "source": [
    "# # Code to check each value\n",
    "# roles_cause_list.pop()"
   ]
  },
  {
   "cell_type": "code",
   "execution_count": 17,
   "id": "e2370f90",
   "metadata": {},
   "outputs": [
    {
     "data": {
      "application/javascript": [
       "\n",
       "            setTimeout(function() {\n",
       "                var nbb_cell_id = 17;\n",
       "                var nbb_unformatted_code = \"# # Create specific_roles_cause_list for above popped value\\n# specific_roles_cause_list = (\\n#     df.loc[\\n#         [\\n#             index\\n#             for index in df[df[\\\"info_3_1\\\"].notna()].index\\n#             if \\\"House\\\" in df.loc[index, \\\"info_3_1\\\"]\\n#             #             and df.loc[index, \\\"politics_govt_law\\\"] == 1\\n#             #             and df.loc[index, \\\"arts\\\"] == 0\\n#             #             and df.loc[index, \\\"sciences\\\"] == 0\\n#             #             and df.loc[index, \\\"spiritual\\\"] == 0\\n#             #             and df.loc[index, \\\"law_enf_military_operator\\\"] == 0\\n#             #             and df.loc[index, \\\"sports\\\"] == 1\\n#             #             and df.loc[index, \\\"event_record_other\\\"] == 0\\n#             #             and df.loc[index, \\\"crime\\\"] == 0\\n#             #             and df.loc[index, \\\"academia_humanities\\\"] == 0\\n#             #             and df.loc[index, \\\"business_farming\\\"] == 0\\n#             #                         and df.loc[index, \\\"other_species\\\"] == 0\\n#             #             and df.loc[index, \\\"num_categories\\\"] == 0\\n#         ],\\n#         \\\"info_3_1\\\",\\n#     ]\\n#     .value_counts()\\n#     .index.tolist()\\n# )\";\n",
       "                var nbb_formatted_code = \"# # Create specific_roles_cause_list for above popped value\\n# specific_roles_cause_list = (\\n#     df.loc[\\n#         [\\n#             index\\n#             for index in df[df[\\\"info_3_1\\\"].notna()].index\\n#             if \\\"House\\\" in df.loc[index, \\\"info_3_1\\\"]\\n#             #             and df.loc[index, \\\"politics_govt_law\\\"] == 1\\n#             #             and df.loc[index, \\\"arts\\\"] == 0\\n#             #             and df.loc[index, \\\"sciences\\\"] == 0\\n#             #             and df.loc[index, \\\"spiritual\\\"] == 0\\n#             #             and df.loc[index, \\\"law_enf_military_operator\\\"] == 0\\n#             #             and df.loc[index, \\\"sports\\\"] == 1\\n#             #             and df.loc[index, \\\"event_record_other\\\"] == 0\\n#             #             and df.loc[index, \\\"crime\\\"] == 0\\n#             #             and df.loc[index, \\\"academia_humanities\\\"] == 0\\n#             #             and df.loc[index, \\\"business_farming\\\"] == 0\\n#             #                         and df.loc[index, \\\"other_species\\\"] == 0\\n#             #             and df.loc[index, \\\"num_categories\\\"] == 0\\n#         ],\\n#         \\\"info_3_1\\\",\\n#     ]\\n#     .value_counts()\\n#     .index.tolist()\\n# )\";\n",
       "                var nbb_cells = Jupyter.notebook.get_cells();\n",
       "                for (var i = 0; i < nbb_cells.length; ++i) {\n",
       "                    if (nbb_cells[i].input_prompt_number == nbb_cell_id) {\n",
       "                        if (nbb_cells[i].get_text() == nbb_unformatted_code) {\n",
       "                             nbb_cells[i].set_text(nbb_formatted_code);\n",
       "                        }\n",
       "                        break;\n",
       "                    }\n",
       "                }\n",
       "            }, 500);\n",
       "            "
      ],
      "text/plain": [
       "<IPython.core.display.Javascript object>"
      ]
     },
     "metadata": {},
     "output_type": "display_data"
    }
   ],
   "source": [
    "# # Create specific_roles_cause_list for above popped value\n",
    "# specific_roles_cause_list = (\n",
    "#     df.loc[\n",
    "#         [\n",
    "#             index\n",
    "#             for index in df[df[\"info_3_1\"].notna()].index\n",
    "#             if \"House\" in df.loc[index, \"info_3_1\"]\n",
    "#             #             and df.loc[index, \"politics_govt_law\"] == 1\n",
    "#             #             and df.loc[index, \"arts\"] == 0\n",
    "#             #             and df.loc[index, \"sciences\"] == 0\n",
    "#             #             and df.loc[index, \"spiritual\"] == 0\n",
    "#             #             and df.loc[index, \"law_enf_military_operator\"] == 0\n",
    "#             #             and df.loc[index, \"sports\"] == 1\n",
    "#             #             and df.loc[index, \"event_record_other\"] == 0\n",
    "#             #             and df.loc[index, \"crime\"] == 0\n",
    "#             #             and df.loc[index, \"academia_humanities\"] == 0\n",
    "#             #             and df.loc[index, \"business_farming\"] == 0\n",
    "#             #                         and df.loc[index, \"other_species\"] == 0\n",
    "#             #             and df.loc[index, \"num_categories\"] == 0\n",
    "#         ],\n",
    "#         \"info_3_1\",\n",
    "#     ]\n",
    "#     .value_counts()\n",
    "#     .index.tolist()\n",
    "# )"
   ]
  },
  {
   "cell_type": "code",
   "execution_count": 18,
   "id": "6d4ca3fa",
   "metadata": {},
   "outputs": [
    {
     "data": {
      "application/javascript": [
       "\n",
       "            setTimeout(function() {\n",
       "                var nbb_cell_id = 18;\n",
       "                var nbb_unformatted_code = \"# # Viewing list sorted by descending length to copy to dictionary below and screen values\\n# sorted(specific_roles_cause_list, key=lambda x: len(x), reverse=True)\";\n",
       "                var nbb_formatted_code = \"# # Viewing list sorted by descending length to copy to dictionary below and screen values\\n# sorted(specific_roles_cause_list, key=lambda x: len(x), reverse=True)\";\n",
       "                var nbb_cells = Jupyter.notebook.get_cells();\n",
       "                for (var i = 0; i < nbb_cells.length; ++i) {\n",
       "                    if (nbb_cells[i].input_prompt_number == nbb_cell_id) {\n",
       "                        if (nbb_cells[i].get_text() == nbb_unformatted_code) {\n",
       "                             nbb_cells[i].set_text(nbb_formatted_code);\n",
       "                        }\n",
       "                        break;\n",
       "                    }\n",
       "                }\n",
       "            }, 500);\n",
       "            "
      ],
      "text/plain": [
       "<IPython.core.display.Javascript object>"
      ]
     },
     "metadata": {},
     "output_type": "display_data"
    }
   ],
   "source": [
    "# # Viewing list sorted by descending length to copy to dictionary below and screen values\n",
    "# sorted(specific_roles_cause_list, key=lambda x: len(x), reverse=True)"
   ]
  },
  {
   "cell_type": "code",
   "execution_count": 19,
   "id": "14b8d55f",
   "metadata": {},
   "outputs": [
    {
     "data": {
      "application/javascript": [
       "\n",
       "            setTimeout(function() {\n",
       "                var nbb_cell_id = 19;\n",
       "                var nbb_unformatted_code = \"# # Example code to quick-check a specific entry\\n# df[df[\\\"info_3_1\\\"] == \\\"Crime Commissioner\\\"]\";\n",
       "                var nbb_formatted_code = \"# # Example code to quick-check a specific entry\\n# df[df[\\\"info_3_1\\\"] == \\\"Crime Commissioner\\\"]\";\n",
       "                var nbb_cells = Jupyter.notebook.get_cells();\n",
       "                for (var i = 0; i < nbb_cells.length; ++i) {\n",
       "                    if (nbb_cells[i].input_prompt_number == nbb_cell_id) {\n",
       "                        if (nbb_cells[i].get_text() == nbb_unformatted_code) {\n",
       "                             nbb_cells[i].set_text(nbb_formatted_code);\n",
       "                        }\n",
       "                        break;\n",
       "                    }\n",
       "                }\n",
       "            }, 500);\n",
       "            "
      ],
      "text/plain": [
       "<IPython.core.display.Javascript object>"
      ]
     },
     "metadata": {},
     "output_type": "display_data"
    }
   ],
   "source": [
    "# # Example code to quick-check a specific entry\n",
    "# df[df[\"info_3_1\"] == \"Crime Commissioner\"]"
   ]
  },
  {
   "cell_type": "markdown",
   "id": "59c9e664",
   "metadata": {},
   "source": [
    "#### Creating Lists for Each `known_for` Category and for `cause_of_death`"
   ]
  },
  {
   "cell_type": "code",
   "execution_count": 20,
   "id": "8072bf47",
   "metadata": {},
   "outputs": [
    {
     "data": {
      "application/javascript": [
       "\n",
       "            setTimeout(function() {\n",
       "                var nbb_cell_id = 20;\n",
       "                var nbb_unformatted_code = \"# Creating lists for each category and sorting by decreasing length and removing duplicates\\n\\npolitics_govt_law = [\\n    \\\"activist\\\",\\n    \\\"lawyer\\\",\\n    \\\"colonial administrator\\\",\\n    \\\"life peer\\\",\\n    \\\"peer\\\",\\n    \\\"convicted dissident\\\",\\n    \\\"political dissident\\\",\\n    \\\"Castro dissident\\\",\\n    \\\"dissident\\\",\\n    \\\"Technology Policy\\\",\\n    \\\"Labrador MHA for Conception Bay East\\\",\\n    \\\"Labrador MHA\\\",\\n    \\\"conservationist\\\",\\n    \\\"Labrador House of Assembly member for St George\\\",\\n    \\\"Labrador House of Assembly for Gander\\\",\\n    \\\"Labrador House of Assembly\\\",\\n    \\\"Communications\\\",\\n    \\\"United Nations civil servant\\\",\\n    \\\"public servant\\\",\\n    \\\"civil servant\\\",\\n    \\\"attorney\\\",\\n    \\\"Finance\\\",\\n    \\\"environmentalist\\\",\\n    \\\"Majority Leader of the NY Senate\\\",\\n    \\\"deputy president of the Senate\\\",\\n    \\\"member of the State Senate\\\",\\n    \\\"Senator\\\",\\n    \\\"Senate\\\",\\n    \\\"senior judge of the District Court for the Central District of\\\",\\n    \\\"High Court judge\\\",\\n    \\\"th congressional districts\\\",\\n    \\\"nd congressional districts\\\",\\n    \\\"congressman\\\",\\n    \\\"feminist\\\",\\n    \\\"Trademark Office\\\",\\n    \\\"Foreign Trade\\\",\\n    \\\"Trade\\\",\\n    \\\"Budget\\\",\\n    \\\"ambassador to\\\",\\n    \\\"ambassador\\\",\\n    \\\"founder of the Saba Labour Party\\\",\\n    \\\"Labour Party donor\\\",\\n    \\\"Labour\\\",\\n    \\\"Health Service Commissioner\\\",\\n    \\\"Islamic Affairs; Member of the House of Representatives\\\",\\n    \\\"four time member of the House of Representatives\\\",\\n    \\\"Labrador House of Assembly member for St George\\\",\\n    \\\"Speaker of the Maine House of Representatives\\\",\\n    \\\"th Speaker of the House of Representatives\\\",\\n    \\\"Labrador House of Assembly for Gander\\\",\\n    \\\"member of the House of Lords\\\",\\n    \\\"Christel House International\\\",\\n    \\\"Labrador House of Assembly\\\",\\n]\\npolitics_govt_law = sorted(\\n    list(set(politics_govt_law)), key=lambda x: len(x), reverse=True\\n)\\n\\narts = [\\n    \\\"writer\\\",\\n    \\\"author of\\\",\\n    \\\"author\\\",\\n    \\\"producer\\\",\\n    \\\"journalist\\\",\\n    \\\"composer\\\",\\n    \\\"director\\\",\\n    \\\"poet\\\",\\n    \\\"critic\\\",\\n    \\\"newspaper publisher\\\",\\n    \\\"music publisher\\\",\\n    \\\"book publisher\\\",\\n    \\\"publisher\\\",\\n    \\\"arranger of music for television\\\",\\n    \\\"music arranger\\\",\\n    \\\"arranger\\\",\\n    \\\"essayist\\\",\\n    \\\"television presenter\\\",\\n    \\\"radio presenter\\\",\\n    \\\"TV presenter\\\",\\n    \\\"presenter\\\",\\n    \\\"Nine Network television commentator\\\",\\n    \\\"arranger of music for television\\\",\\n    \\\"reality television cast member\\\",\\n    \\\"television hostess on cuisine\\\",\\n    \\\"television quiz contestant\\\",\\n    \\\"television talk show host\\\",\\n    \\\"reality television judge\\\",\\n    \\\"television personality\\\",\\n    \\\"CBS television network\\\",\\n    \\\"television presenter\\\",\\n    \\\"television announcer\\\",\\n    \\\"television executive\\\",\\n    \\\"television actress\\\",\\n    \\\"television host\\\",\\n    \\\"television\\\",\\n    \\\"photographer\\\",\\n    \\\"manager of actress Brooke Shields\\\",\\n    \\\"mother of actress Candice Bergen\\\",\\n    \\\"Oscar winning film actress\\\",\\n    '\\\"B\\\" actress in the s',\\n    \\\"television actress\\\",\\n    \\\"stage actress\\\",\\n    \\\"voice actress\\\",\\n    \\\"film actress\\\",\\n    \\\"actress\\\",\\n    \\\"multimedia fine artist\\\",\\n    \\\"record jacket artist\\\",\\n    \\\"installation artist\\\",\\n    \\\"performance artist\\\",\\n    \\\"comic strip artist\\\",\\n    \\\"recording artist\\\",\\n    \\\"make up artist\\\",\\n    \\\"digital artist\\\",\\n    \\\"plastic artist\\\",\\n    \\\"variety artist\\\",\\n    \\\"graphic artist\\\",\\n    \\\"visual artist\\\",\\n    \\\"comics artist\\\",\\n    \\\"escape artist\\\",\\n    \\\"light artist\\\",\\n    \\\"cyber artist\\\",\\n    \\\"mime artist\\\",\\n    \\\"sculptor\\\",\\n    \\\"guitarist\\\",\\n    \\\"dancer\\\",\\n    \\\"botanical illustrator\\\",\\n    \\\"book illustrator\\\",\\n    \\\"illustrator\\\",\\n    \\\"paintings of World War II\\\",\\n    \\\"painter\\\",\\n    \\\"orchestra conductor\\\",\\n    \\\"conductor\\\",\\n    \\\"Rolling Stones manager\\\",\\n    \\\"country music manager\\\",\\n    \\\"manager of Five Star\\\",\\n    \\\"cultural manager\\\",\\n    \\\"theatre manager\\\",\\n    \\\"stage manager\\\",\\n    \\\"jazz pianist\\\",\\n    \\\"pianist\\\",\\n    \\\"Oscar winning film actress\\\",\\n    \\\"conspiracy film maker\\\",\\n    \\\"underwater filmmaker\\\",\\n    \\\"film set designer\\\",\\n    \\\"sound film star\\\",\\n    \\\"film actress\\\",\\n    \\\"film censor\\\",\\n    \\\"film music\\\",\\n    \\\"film maker\\\",\\n    \\\"filmmaker\\\",\\n    \\\"film\\\",\\n    \\\"lyricist\\\",\\n    \\\"syndicated columnist\\\",\\n    \\\"columnist for the\\\",\\n    \\\"columnist\\\",\\n    \\\"administrator of the Old Globe Theatre\\\",\\n    \\\"musical administrator\\\",\\n    \\\"music administrator\\\",\\n    \\\"arts administrator\\\",\\n    \\\"acting coach\\\",\\n    \\\"vocal coach\\\",\\n    \\\"leader of comedic group The Drifters\\\",\\n    \\\"stand up comedian\\\",\\n    \\\"comedian\\\",\\n    \\\"last surviving husband\\\",\\n    \\\"Sonora Ponce\\u00f1a bands\\\",\\n    \\\"bandleader\\\",\\n    \\\"agent of TV entertainer Michael Barrymore\\\",\\n    \\\"comic entertainer\\\",\\n    \\\"entertainer\\\",\\n    \\\"radio personality\\\",\\n    \\\"radio presenter\\\",\\n    \\\"radio announcer\\\",\\n    \\\"radio host\\\",\\n    \\\"radio DJ\\\",\\n    \\\"radio show host\\\",\\n    \\\"art collector\\\",\\n    \\\"collector\\\",\\n    \\\"fashion model\\\",\\n    \\\"model\\\",\\n    \\\"record industry executive\\\",\\n    \\\"broadcasting executive\\\",\\n    \\\"record label executive\\\",\\n    \\\"studio executive\\\",\\n    \\\"chief executive\\\",\\n    \\\"news executive\\\",\\n    \\\"reality television judge\\\",\\n    \\\"competition judge\\\",\\n    \\\"socialite\\\",\\n    \\\"blogger\\\",\\n    \\\"choreographer\\\",\\n    \\\"performance artist\\\",\\n    \\\"cabaret performer\\\",\\n    \\\"stunt performer\\\",\\n    \\\"comic performer\\\",\\n    \\\"performer\\\",\\n    \\\"autobiographer\\\",\\n    \\\"biographer\\\",\\n    \\\"dramaturge\\\",\\n    \\\"dramatist\\\",\\n    \\\"reporter\\\",\\n]\\narts = sorted(list(set(arts)), key=lambda x: len(x), reverse=True)\\n\\nsports = [\\n    \\\"martial artist\\\",\\n    \\\"t'ai chi teacher\\\",\\n    \\\"Capirossi team manager\\\",\\n    \\\"booking manager\\\",\\n    \\\"general manager\\\",\\n    'last survivor of the Philadelphia Phillies\\\\' \\\"Whiz Kids\\\" that won the National League championship',\\n    \\\"athletics administrator\\\",\\n    \\\"games administrator\\\",\\n    \\\"former coach of golfer Tiger Woods\\\",\\n    \\\"basketball coach\\\",\\n    \\\"assistant coach\\\",\\n    \\\"football coach\\\",\\n    \\\"bandy player\\\",\\n    \\\"scout\\\",\\n    \\\"sports executive\\\",\\n    \\\"vice president of the International Olympic Committee\\\",\\n    \\\"two bronze medals at the Summer Olympics\\\",\\n    \\\"Olympic silver medallist\\\",\\n    \\\"Olympic figure skater\\\",\\n    \\\"silver medal Olympiad\\\",\\n    \\\"Olympic champion\\\",\\n    \\\"National Olympic\\\",\\n    \\\"Olympic sprinter\\\",\\n    \\\"Olympic medalist\\\",\\n    \\\"Olympic official\\\",\\n    \\\"Olympic athlete\\\",\\n    \\\"Winter Olympics\\\",\\n    \\\"Olympic gymnast\\\",\\n    \\\"Olympic fencer\\\",\\n    \\\"Olympic sailor\\\",\\n    \\\"Olympian\\\",\\n    \\\"Olympics\\\",\\n    \\\"MMA fighter\\\",\\n    \\\"speedway entrepreneur\\\",\\n    \\\"polar explorer\\\",\\n    \\\"explorer\\\",\\n]\\nsports = sorted(list(set(sports)), key=lambda x: len(x), reverse=True)\\n\\nsciences = [\\n    \\\"Technology Beijing\\\",\\n    \\\"Technology Prize\\\",\\n    \\\"radio amateur\\\",\\n    \\\"various radio developments\\\",\\n    \\\"radio astronomy\\\",\\n    \\\"Director of the MIT Laboratory for Computer Science from to\\\",\\n    \\\"Biomedical Sciences\\\",\\n    \\\"sociologist\\\",\\n    \\\"mathematician\\\",\\n]\\nsciences = sorted(list(set(sciences)), key=lambda x: len(x), reverse=True)\\n\\nbusiness_farming = [\\n    \\\"business executive\\\",\\n    \\\"small business\\\",\\n    \\\"businesswoman\\\",\\n    \\\"businessman\\\",\\n    \\\"hospital administrator\\\",\\n    \\\"business executive\\\",\\n    \\\"retail executive\\\",\\n    \\\"entrepreneur\\\",\\n]\\nbusiness_farming = sorted(\\n    list(set(business_farming)), key=lambda x: len(x), reverse=True\\n)\\n\\nacademia_humanities = [\\n    \\\"historian\\\",\\n    \\\"philosophy professor\\\",\\n    \\\"philosopher\\\",\\n    \\\"professor at George Washington University\\\",\\n    \\\"constitutional law professor\\\",\\n    \\\"professor of literature\\\",\\n    \\\"professor of medicine\\\",\\n    \\\"university professor\\\",\\n    \\\"philosophy professor\\\",\\n    \\\"professor of music\\\",\\n    \\\"college professor\\\",\\n    \\\"professor\\\",\\n    \\\"scholar of medieval literature\\\",\\n    \\\"Shakespeare scholar\\\",\\n    \\\"literary scholar\\\",\\n    \\\"scholar\\\",\\n    \\\"university administrator\\\",\\n    \\\"ethnomusicologist\\\",\\n    \\\"musicologist\\\",\\n    \\\"art lecturer\\\",\\n    \\\"lecturer\\\",\\n    \\\"museum curator\\\",\\n    \\\"curator\\\",\\n    \\\"founder of the Boston Museum of Science\\\",\\n    \\\"member of the Academy of Sciences\\\",\\n    \\\"the Academy of Social Sciences\\\",\\n    \\\"The World Academy of Sciences\\\",\\n    \\\"theatrical pedagogue\\\",\\n    \\\"pedagogue\\\",\\n]\\nacademia_humanities = sorted(\\n    list(set(academia_humanities)), key=lambda x: len(x), reverse=True\\n)\\n\\nlaw_enf_military_operator = [\\n    \\\"son of a professor who became a rebel leader\\\",\\n    \\\"resistance fighter during World War II\\\",\\n    \\\"guerrilla fighter\\\",\\n    \\\"freedom fighter\\\",\\n    \\\"fighter ace\\\",\\n    \\\"architect of the Air Force space\\\",\\n    \\\"Crime Commissioner\\\",\\n]\\nlaw_enf_military_operator = sorted(\\n    list(set(law_enf_military_operator)), key=lambda x: len(x), reverse=True\\n)\\n\\nspiritual = [\\\"islamic theologist\\\", \\\"theologian\\\"]\\nspiritual = sorted(list(set(spiritual)), key=lambda x: len(x), reverse=True)\\n\\nsocial = [\\n    \\\"charitable organization executive\\\",\\n]\\nsocial = sorted(list(set(social)), key=lambda x: len(x), reverse=True)\\n\\ncrime = [\\\"convicted murderer\\\", \\\"murderer\\\"]\\ncrime = sorted(list(set(crime)), key=lambda x: len(x), reverse=True)\\n\\nevent_record_other = [\\\"concentration camp survivor\\\", \\\"Holocaust survivor\\\"]\\nevent_record_other = sorted(\\n    list(set(event_record_other)), key=lambda x: len(x), reverse=True\\n)\\n\\nother_species = [\\\"sire\\\"]\\nother_species = sorted(list(set(other_species)), key=lambda x: len(x), reverse=True)\\n\\ncause_of_death = [\\n    \\\"prostate cancer\\\",\\n    \\\"influenza following skin cancer\\\",\\n    \\\"complications from cancer\\\",\\n    \\\"bone marrow cancer\\\",\\n    \\\"colorectal cancer\\\",\\n    \\\"lymph node cancer\\\",\\n    \\\"pancreatic cancer\\\",\\n    \\\"peritoneal cancer\\\",\\n    \\\"prostate cancer\\\",\\n    \\\"tracheal cancer\\\",\\n    \\\"bladder cancer\\\",\\n    \\\"stomach cancer\\\",\\n    \\\"throat cancer\\\",\\n    \\\"breast cancer\\\",\\n    \\\"spinal cancer\\\",\\n    \\\"liver cancer\\\",\\n    \\\"colon cancer\\\",\\n    \\\"brain cancer\\\",\\n    \\\"spine cancer\\\",\\n    \\\"bowel cancer\\\",\\n    \\\"lung cancer\\\",\\n    \\\"bone cancer\\\",\\n    \\\"neck cancer\\\",\\n    \\\"cancer\\\",\\n    \\\"chronic obstructive pulmonary disease\\\",\\n    \\\"complications from Alzheimer disease\\\",\\n    \\\"complications of Alzheimer disease\\\",\\n    \\\"coronary artery disease\\\",\\n    \\\"cardiovascular disease\\\",\\n    \\\"valvular heart disease\\\",\\n    \\\"pulmonary diseases\\\",\\n    \\\"Parkinson disease\\\",\\n    \\\"Alzheimer disease\\\",\\n    \\\"heart disease\\\",\\n    \\\"liver disease\\\",\\n    \\\"lung disease\\\",\\n    \\\"complications from a stroke\\\",\\n    \\\"multiple strokes\\\",\\n    \\\"a stroke\\\",\\n    \\\"stroke\\\",\\n    \\\"emphysema\\\",\\n    \\\"Possible heart attack\\\",\\n    \\\"valvular heart disease\\\",\\n    \\\"heart complications\\\",\\n    \\\"heart condition\\\",\\n    \\\"heart problems\\\",\\n    \\\"heart disease\\\",\\n    \\\"heart attack\\\",\\n    \\\"heart failur\\\",\\n    \\\"Lewy body dementia\\\",\\n    \\\"dementia\\\",\\n    \\\"complications of multiple sclerosis\\\",\\n    \\\"amyotrophic lateral sclerosis\\\",\\n    \\\"multiple sclerosis\\\",\\n    \\\"barbiturate overdose\\\",\\n    \\\"accidental overdose\\\",\\n    \\\"morphine overdose\\\",\\n    \\\"alcohol overdose\\\",\\n    \\\"heroin overdose\\\",\\n    \\\"drug overdose\\\",\\n    \\\"cardiac complications\\\",\\n    \\\"cardiac ailment\\\",\\n    \\\"cardiac arrest\\\",\\n]\\ncause_of_death = sorted(list(set(cause_of_death)), key=lambda x: len(x), reverse=True)\";\n",
       "                var nbb_formatted_code = \"# Creating lists for each category and sorting by decreasing length and removing duplicates\\n\\npolitics_govt_law = [\\n    \\\"activist\\\",\\n    \\\"lawyer\\\",\\n    \\\"colonial administrator\\\",\\n    \\\"life peer\\\",\\n    \\\"peer\\\",\\n    \\\"convicted dissident\\\",\\n    \\\"political dissident\\\",\\n    \\\"Castro dissident\\\",\\n    \\\"dissident\\\",\\n    \\\"Technology Policy\\\",\\n    \\\"Labrador MHA for Conception Bay East\\\",\\n    \\\"Labrador MHA\\\",\\n    \\\"conservationist\\\",\\n    \\\"Labrador House of Assembly member for St George\\\",\\n    \\\"Labrador House of Assembly for Gander\\\",\\n    \\\"Labrador House of Assembly\\\",\\n    \\\"Communications\\\",\\n    \\\"United Nations civil servant\\\",\\n    \\\"public servant\\\",\\n    \\\"civil servant\\\",\\n    \\\"attorney\\\",\\n    \\\"Finance\\\",\\n    \\\"environmentalist\\\",\\n    \\\"Majority Leader of the NY Senate\\\",\\n    \\\"deputy president of the Senate\\\",\\n    \\\"member of the State Senate\\\",\\n    \\\"Senator\\\",\\n    \\\"Senate\\\",\\n    \\\"senior judge of the District Court for the Central District of\\\",\\n    \\\"High Court judge\\\",\\n    \\\"th congressional districts\\\",\\n    \\\"nd congressional districts\\\",\\n    \\\"congressman\\\",\\n    \\\"feminist\\\",\\n    \\\"Trademark Office\\\",\\n    \\\"Foreign Trade\\\",\\n    \\\"Trade\\\",\\n    \\\"Budget\\\",\\n    \\\"ambassador to\\\",\\n    \\\"ambassador\\\",\\n    \\\"founder of the Saba Labour Party\\\",\\n    \\\"Labour Party donor\\\",\\n    \\\"Labour\\\",\\n    \\\"Health Service Commissioner\\\",\\n    \\\"Islamic Affairs; Member of the House of Representatives\\\",\\n    \\\"four time member of the House of Representatives\\\",\\n    \\\"Labrador House of Assembly member for St George\\\",\\n    \\\"Speaker of the Maine House of Representatives\\\",\\n    \\\"th Speaker of the House of Representatives\\\",\\n    \\\"Labrador House of Assembly for Gander\\\",\\n    \\\"member of the House of Lords\\\",\\n    \\\"Christel House International\\\",\\n    \\\"Labrador House of Assembly\\\",\\n]\\npolitics_govt_law = sorted(\\n    list(set(politics_govt_law)), key=lambda x: len(x), reverse=True\\n)\\n\\narts = [\\n    \\\"writer\\\",\\n    \\\"author of\\\",\\n    \\\"author\\\",\\n    \\\"producer\\\",\\n    \\\"journalist\\\",\\n    \\\"composer\\\",\\n    \\\"director\\\",\\n    \\\"poet\\\",\\n    \\\"critic\\\",\\n    \\\"newspaper publisher\\\",\\n    \\\"music publisher\\\",\\n    \\\"book publisher\\\",\\n    \\\"publisher\\\",\\n    \\\"arranger of music for television\\\",\\n    \\\"music arranger\\\",\\n    \\\"arranger\\\",\\n    \\\"essayist\\\",\\n    \\\"television presenter\\\",\\n    \\\"radio presenter\\\",\\n    \\\"TV presenter\\\",\\n    \\\"presenter\\\",\\n    \\\"Nine Network television commentator\\\",\\n    \\\"arranger of music for television\\\",\\n    \\\"reality television cast member\\\",\\n    \\\"television hostess on cuisine\\\",\\n    \\\"television quiz contestant\\\",\\n    \\\"television talk show host\\\",\\n    \\\"reality television judge\\\",\\n    \\\"television personality\\\",\\n    \\\"CBS television network\\\",\\n    \\\"television presenter\\\",\\n    \\\"television announcer\\\",\\n    \\\"television executive\\\",\\n    \\\"television actress\\\",\\n    \\\"television host\\\",\\n    \\\"television\\\",\\n    \\\"photographer\\\",\\n    \\\"manager of actress Brooke Shields\\\",\\n    \\\"mother of actress Candice Bergen\\\",\\n    \\\"Oscar winning film actress\\\",\\n    '\\\"B\\\" actress in the s',\\n    \\\"television actress\\\",\\n    \\\"stage actress\\\",\\n    \\\"voice actress\\\",\\n    \\\"film actress\\\",\\n    \\\"actress\\\",\\n    \\\"multimedia fine artist\\\",\\n    \\\"record jacket artist\\\",\\n    \\\"installation artist\\\",\\n    \\\"performance artist\\\",\\n    \\\"comic strip artist\\\",\\n    \\\"recording artist\\\",\\n    \\\"make up artist\\\",\\n    \\\"digital artist\\\",\\n    \\\"plastic artist\\\",\\n    \\\"variety artist\\\",\\n    \\\"graphic artist\\\",\\n    \\\"visual artist\\\",\\n    \\\"comics artist\\\",\\n    \\\"escape artist\\\",\\n    \\\"light artist\\\",\\n    \\\"cyber artist\\\",\\n    \\\"mime artist\\\",\\n    \\\"sculptor\\\",\\n    \\\"guitarist\\\",\\n    \\\"dancer\\\",\\n    \\\"botanical illustrator\\\",\\n    \\\"book illustrator\\\",\\n    \\\"illustrator\\\",\\n    \\\"paintings of World War II\\\",\\n    \\\"painter\\\",\\n    \\\"orchestra conductor\\\",\\n    \\\"conductor\\\",\\n    \\\"Rolling Stones manager\\\",\\n    \\\"country music manager\\\",\\n    \\\"manager of Five Star\\\",\\n    \\\"cultural manager\\\",\\n    \\\"theatre manager\\\",\\n    \\\"stage manager\\\",\\n    \\\"jazz pianist\\\",\\n    \\\"pianist\\\",\\n    \\\"Oscar winning film actress\\\",\\n    \\\"conspiracy film maker\\\",\\n    \\\"underwater filmmaker\\\",\\n    \\\"film set designer\\\",\\n    \\\"sound film star\\\",\\n    \\\"film actress\\\",\\n    \\\"film censor\\\",\\n    \\\"film music\\\",\\n    \\\"film maker\\\",\\n    \\\"filmmaker\\\",\\n    \\\"film\\\",\\n    \\\"lyricist\\\",\\n    \\\"syndicated columnist\\\",\\n    \\\"columnist for the\\\",\\n    \\\"columnist\\\",\\n    \\\"administrator of the Old Globe Theatre\\\",\\n    \\\"musical administrator\\\",\\n    \\\"music administrator\\\",\\n    \\\"arts administrator\\\",\\n    \\\"acting coach\\\",\\n    \\\"vocal coach\\\",\\n    \\\"leader of comedic group The Drifters\\\",\\n    \\\"stand up comedian\\\",\\n    \\\"comedian\\\",\\n    \\\"last surviving husband\\\",\\n    \\\"Sonora Ponce\\u00f1a bands\\\",\\n    \\\"bandleader\\\",\\n    \\\"agent of TV entertainer Michael Barrymore\\\",\\n    \\\"comic entertainer\\\",\\n    \\\"entertainer\\\",\\n    \\\"radio personality\\\",\\n    \\\"radio presenter\\\",\\n    \\\"radio announcer\\\",\\n    \\\"radio host\\\",\\n    \\\"radio DJ\\\",\\n    \\\"radio show host\\\",\\n    \\\"art collector\\\",\\n    \\\"collector\\\",\\n    \\\"fashion model\\\",\\n    \\\"model\\\",\\n    \\\"record industry executive\\\",\\n    \\\"broadcasting executive\\\",\\n    \\\"record label executive\\\",\\n    \\\"studio executive\\\",\\n    \\\"chief executive\\\",\\n    \\\"news executive\\\",\\n    \\\"reality television judge\\\",\\n    \\\"competition judge\\\",\\n    \\\"socialite\\\",\\n    \\\"blogger\\\",\\n    \\\"choreographer\\\",\\n    \\\"performance artist\\\",\\n    \\\"cabaret performer\\\",\\n    \\\"stunt performer\\\",\\n    \\\"comic performer\\\",\\n    \\\"performer\\\",\\n    \\\"autobiographer\\\",\\n    \\\"biographer\\\",\\n    \\\"dramaturge\\\",\\n    \\\"dramatist\\\",\\n    \\\"reporter\\\",\\n]\\narts = sorted(list(set(arts)), key=lambda x: len(x), reverse=True)\\n\\nsports = [\\n    \\\"martial artist\\\",\\n    \\\"t'ai chi teacher\\\",\\n    \\\"Capirossi team manager\\\",\\n    \\\"booking manager\\\",\\n    \\\"general manager\\\",\\n    'last survivor of the Philadelphia Phillies\\\\' \\\"Whiz Kids\\\" that won the National League championship',\\n    \\\"athletics administrator\\\",\\n    \\\"games administrator\\\",\\n    \\\"former coach of golfer Tiger Woods\\\",\\n    \\\"basketball coach\\\",\\n    \\\"assistant coach\\\",\\n    \\\"football coach\\\",\\n    \\\"bandy player\\\",\\n    \\\"scout\\\",\\n    \\\"sports executive\\\",\\n    \\\"vice president of the International Olympic Committee\\\",\\n    \\\"two bronze medals at the Summer Olympics\\\",\\n    \\\"Olympic silver medallist\\\",\\n    \\\"Olympic figure skater\\\",\\n    \\\"silver medal Olympiad\\\",\\n    \\\"Olympic champion\\\",\\n    \\\"National Olympic\\\",\\n    \\\"Olympic sprinter\\\",\\n    \\\"Olympic medalist\\\",\\n    \\\"Olympic official\\\",\\n    \\\"Olympic athlete\\\",\\n    \\\"Winter Olympics\\\",\\n    \\\"Olympic gymnast\\\",\\n    \\\"Olympic fencer\\\",\\n    \\\"Olympic sailor\\\",\\n    \\\"Olympian\\\",\\n    \\\"Olympics\\\",\\n    \\\"MMA fighter\\\",\\n    \\\"speedway entrepreneur\\\",\\n    \\\"polar explorer\\\",\\n    \\\"explorer\\\",\\n]\\nsports = sorted(list(set(sports)), key=lambda x: len(x), reverse=True)\\n\\nsciences = [\\n    \\\"Technology Beijing\\\",\\n    \\\"Technology Prize\\\",\\n    \\\"radio amateur\\\",\\n    \\\"various radio developments\\\",\\n    \\\"radio astronomy\\\",\\n    \\\"Director of the MIT Laboratory for Computer Science from to\\\",\\n    \\\"Biomedical Sciences\\\",\\n    \\\"sociologist\\\",\\n    \\\"mathematician\\\",\\n]\\nsciences = sorted(list(set(sciences)), key=lambda x: len(x), reverse=True)\\n\\nbusiness_farming = [\\n    \\\"business executive\\\",\\n    \\\"small business\\\",\\n    \\\"businesswoman\\\",\\n    \\\"businessman\\\",\\n    \\\"hospital administrator\\\",\\n    \\\"business executive\\\",\\n    \\\"retail executive\\\",\\n    \\\"entrepreneur\\\",\\n]\\nbusiness_farming = sorted(\\n    list(set(business_farming)), key=lambda x: len(x), reverse=True\\n)\\n\\nacademia_humanities = [\\n    \\\"historian\\\",\\n    \\\"philosophy professor\\\",\\n    \\\"philosopher\\\",\\n    \\\"professor at George Washington University\\\",\\n    \\\"constitutional law professor\\\",\\n    \\\"professor of literature\\\",\\n    \\\"professor of medicine\\\",\\n    \\\"university professor\\\",\\n    \\\"philosophy professor\\\",\\n    \\\"professor of music\\\",\\n    \\\"college professor\\\",\\n    \\\"professor\\\",\\n    \\\"scholar of medieval literature\\\",\\n    \\\"Shakespeare scholar\\\",\\n    \\\"literary scholar\\\",\\n    \\\"scholar\\\",\\n    \\\"university administrator\\\",\\n    \\\"ethnomusicologist\\\",\\n    \\\"musicologist\\\",\\n    \\\"art lecturer\\\",\\n    \\\"lecturer\\\",\\n    \\\"museum curator\\\",\\n    \\\"curator\\\",\\n    \\\"founder of the Boston Museum of Science\\\",\\n    \\\"member of the Academy of Sciences\\\",\\n    \\\"the Academy of Social Sciences\\\",\\n    \\\"The World Academy of Sciences\\\",\\n    \\\"theatrical pedagogue\\\",\\n    \\\"pedagogue\\\",\\n]\\nacademia_humanities = sorted(\\n    list(set(academia_humanities)), key=lambda x: len(x), reverse=True\\n)\\n\\nlaw_enf_military_operator = [\\n    \\\"son of a professor who became a rebel leader\\\",\\n    \\\"resistance fighter during World War II\\\",\\n    \\\"guerrilla fighter\\\",\\n    \\\"freedom fighter\\\",\\n    \\\"fighter ace\\\",\\n    \\\"architect of the Air Force space\\\",\\n    \\\"Crime Commissioner\\\",\\n]\\nlaw_enf_military_operator = sorted(\\n    list(set(law_enf_military_operator)), key=lambda x: len(x), reverse=True\\n)\\n\\nspiritual = [\\\"islamic theologist\\\", \\\"theologian\\\"]\\nspiritual = sorted(list(set(spiritual)), key=lambda x: len(x), reverse=True)\\n\\nsocial = [\\n    \\\"charitable organization executive\\\",\\n]\\nsocial = sorted(list(set(social)), key=lambda x: len(x), reverse=True)\\n\\ncrime = [\\\"convicted murderer\\\", \\\"murderer\\\"]\\ncrime = sorted(list(set(crime)), key=lambda x: len(x), reverse=True)\\n\\nevent_record_other = [\\\"concentration camp survivor\\\", \\\"Holocaust survivor\\\"]\\nevent_record_other = sorted(\\n    list(set(event_record_other)), key=lambda x: len(x), reverse=True\\n)\\n\\nother_species = [\\\"sire\\\"]\\nother_species = sorted(list(set(other_species)), key=lambda x: len(x), reverse=True)\\n\\ncause_of_death = [\\n    \\\"prostate cancer\\\",\\n    \\\"influenza following skin cancer\\\",\\n    \\\"complications from cancer\\\",\\n    \\\"bone marrow cancer\\\",\\n    \\\"colorectal cancer\\\",\\n    \\\"lymph node cancer\\\",\\n    \\\"pancreatic cancer\\\",\\n    \\\"peritoneal cancer\\\",\\n    \\\"prostate cancer\\\",\\n    \\\"tracheal cancer\\\",\\n    \\\"bladder cancer\\\",\\n    \\\"stomach cancer\\\",\\n    \\\"throat cancer\\\",\\n    \\\"breast cancer\\\",\\n    \\\"spinal cancer\\\",\\n    \\\"liver cancer\\\",\\n    \\\"colon cancer\\\",\\n    \\\"brain cancer\\\",\\n    \\\"spine cancer\\\",\\n    \\\"bowel cancer\\\",\\n    \\\"lung cancer\\\",\\n    \\\"bone cancer\\\",\\n    \\\"neck cancer\\\",\\n    \\\"cancer\\\",\\n    \\\"chronic obstructive pulmonary disease\\\",\\n    \\\"complications from Alzheimer disease\\\",\\n    \\\"complications of Alzheimer disease\\\",\\n    \\\"coronary artery disease\\\",\\n    \\\"cardiovascular disease\\\",\\n    \\\"valvular heart disease\\\",\\n    \\\"pulmonary diseases\\\",\\n    \\\"Parkinson disease\\\",\\n    \\\"Alzheimer disease\\\",\\n    \\\"heart disease\\\",\\n    \\\"liver disease\\\",\\n    \\\"lung disease\\\",\\n    \\\"complications from a stroke\\\",\\n    \\\"multiple strokes\\\",\\n    \\\"a stroke\\\",\\n    \\\"stroke\\\",\\n    \\\"emphysema\\\",\\n    \\\"Possible heart attack\\\",\\n    \\\"valvular heart disease\\\",\\n    \\\"heart complications\\\",\\n    \\\"heart condition\\\",\\n    \\\"heart problems\\\",\\n    \\\"heart disease\\\",\\n    \\\"heart attack\\\",\\n    \\\"heart failur\\\",\\n    \\\"Lewy body dementia\\\",\\n    \\\"dementia\\\",\\n    \\\"complications of multiple sclerosis\\\",\\n    \\\"amyotrophic lateral sclerosis\\\",\\n    \\\"multiple sclerosis\\\",\\n    \\\"barbiturate overdose\\\",\\n    \\\"accidental overdose\\\",\\n    \\\"morphine overdose\\\",\\n    \\\"alcohol overdose\\\",\\n    \\\"heroin overdose\\\",\\n    \\\"drug overdose\\\",\\n    \\\"cardiac complications\\\",\\n    \\\"cardiac ailment\\\",\\n    \\\"cardiac arrest\\\",\\n]\\ncause_of_death = sorted(list(set(cause_of_death)), key=lambda x: len(x), reverse=True)\";\n",
       "                var nbb_cells = Jupyter.notebook.get_cells();\n",
       "                for (var i = 0; i < nbb_cells.length; ++i) {\n",
       "                    if (nbb_cells[i].input_prompt_number == nbb_cell_id) {\n",
       "                        if (nbb_cells[i].get_text() == nbb_unformatted_code) {\n",
       "                             nbb_cells[i].set_text(nbb_formatted_code);\n",
       "                        }\n",
       "                        break;\n",
       "                    }\n",
       "                }\n",
       "            }, 500);\n",
       "            "
      ],
      "text/plain": [
       "<IPython.core.display.Javascript object>"
      ]
     },
     "metadata": {},
     "output_type": "display_data"
    }
   ],
   "source": [
    "# Creating lists for each category and sorting by decreasing length and removing duplicates\n",
    "\n",
    "politics_govt_law = [\n",
    "    \"activist\",\n",
    "    \"lawyer\",\n",
    "    \"colonial administrator\",\n",
    "    \"life peer\",\n",
    "    \"peer\",\n",
    "    \"convicted dissident\",\n",
    "    \"political dissident\",\n",
    "    \"Castro dissident\",\n",
    "    \"dissident\",\n",
    "    \"Technology Policy\",\n",
    "    \"Labrador MHA for Conception Bay East\",\n",
    "    \"Labrador MHA\",\n",
    "    \"conservationist\",\n",
    "    \"Labrador House of Assembly member for St George\",\n",
    "    \"Labrador House of Assembly for Gander\",\n",
    "    \"Labrador House of Assembly\",\n",
    "    \"Communications\",\n",
    "    \"United Nations civil servant\",\n",
    "    \"public servant\",\n",
    "    \"civil servant\",\n",
    "    \"attorney\",\n",
    "    \"Finance\",\n",
    "    \"environmentalist\",\n",
    "    \"Majority Leader of the NY Senate\",\n",
    "    \"deputy president of the Senate\",\n",
    "    \"member of the State Senate\",\n",
    "    \"Senator\",\n",
    "    \"Senate\",\n",
    "    \"senior judge of the District Court for the Central District of\",\n",
    "    \"High Court judge\",\n",
    "    \"th congressional districts\",\n",
    "    \"nd congressional districts\",\n",
    "    \"congressman\",\n",
    "    \"feminist\",\n",
    "    \"Trademark Office\",\n",
    "    \"Foreign Trade\",\n",
    "    \"Trade\",\n",
    "    \"Budget\",\n",
    "    \"ambassador to\",\n",
    "    \"ambassador\",\n",
    "    \"founder of the Saba Labour Party\",\n",
    "    \"Labour Party donor\",\n",
    "    \"Labour\",\n",
    "    \"Health Service Commissioner\",\n",
    "    \"Islamic Affairs; Member of the House of Representatives\",\n",
    "    \"four time member of the House of Representatives\",\n",
    "    \"Labrador House of Assembly member for St George\",\n",
    "    \"Speaker of the Maine House of Representatives\",\n",
    "    \"th Speaker of the House of Representatives\",\n",
    "    \"Labrador House of Assembly for Gander\",\n",
    "    \"member of the House of Lords\",\n",
    "    \"Christel House International\",\n",
    "    \"Labrador House of Assembly\",\n",
    "]\n",
    "politics_govt_law = sorted(\n",
    "    list(set(politics_govt_law)), key=lambda x: len(x), reverse=True\n",
    ")\n",
    "\n",
    "arts = [\n",
    "    \"writer\",\n",
    "    \"author of\",\n",
    "    \"author\",\n",
    "    \"producer\",\n",
    "    \"journalist\",\n",
    "    \"composer\",\n",
    "    \"director\",\n",
    "    \"poet\",\n",
    "    \"critic\",\n",
    "    \"newspaper publisher\",\n",
    "    \"music publisher\",\n",
    "    \"book publisher\",\n",
    "    \"publisher\",\n",
    "    \"arranger of music for television\",\n",
    "    \"music arranger\",\n",
    "    \"arranger\",\n",
    "    \"essayist\",\n",
    "    \"television presenter\",\n",
    "    \"radio presenter\",\n",
    "    \"TV presenter\",\n",
    "    \"presenter\",\n",
    "    \"Nine Network television commentator\",\n",
    "    \"arranger of music for television\",\n",
    "    \"reality television cast member\",\n",
    "    \"television hostess on cuisine\",\n",
    "    \"television quiz contestant\",\n",
    "    \"television talk show host\",\n",
    "    \"reality television judge\",\n",
    "    \"television personality\",\n",
    "    \"CBS television network\",\n",
    "    \"television presenter\",\n",
    "    \"television announcer\",\n",
    "    \"television executive\",\n",
    "    \"television actress\",\n",
    "    \"television host\",\n",
    "    \"television\",\n",
    "    \"photographer\",\n",
    "    \"manager of actress Brooke Shields\",\n",
    "    \"mother of actress Candice Bergen\",\n",
    "    \"Oscar winning film actress\",\n",
    "    '\"B\" actress in the s',\n",
    "    \"television actress\",\n",
    "    \"stage actress\",\n",
    "    \"voice actress\",\n",
    "    \"film actress\",\n",
    "    \"actress\",\n",
    "    \"multimedia fine artist\",\n",
    "    \"record jacket artist\",\n",
    "    \"installation artist\",\n",
    "    \"performance artist\",\n",
    "    \"comic strip artist\",\n",
    "    \"recording artist\",\n",
    "    \"make up artist\",\n",
    "    \"digital artist\",\n",
    "    \"plastic artist\",\n",
    "    \"variety artist\",\n",
    "    \"graphic artist\",\n",
    "    \"visual artist\",\n",
    "    \"comics artist\",\n",
    "    \"escape artist\",\n",
    "    \"light artist\",\n",
    "    \"cyber artist\",\n",
    "    \"mime artist\",\n",
    "    \"sculptor\",\n",
    "    \"guitarist\",\n",
    "    \"dancer\",\n",
    "    \"botanical illustrator\",\n",
    "    \"book illustrator\",\n",
    "    \"illustrator\",\n",
    "    \"paintings of World War II\",\n",
    "    \"painter\",\n",
    "    \"orchestra conductor\",\n",
    "    \"conductor\",\n",
    "    \"Rolling Stones manager\",\n",
    "    \"country music manager\",\n",
    "    \"manager of Five Star\",\n",
    "    \"cultural manager\",\n",
    "    \"theatre manager\",\n",
    "    \"stage manager\",\n",
    "    \"jazz pianist\",\n",
    "    \"pianist\",\n",
    "    \"Oscar winning film actress\",\n",
    "    \"conspiracy film maker\",\n",
    "    \"underwater filmmaker\",\n",
    "    \"film set designer\",\n",
    "    \"sound film star\",\n",
    "    \"film actress\",\n",
    "    \"film censor\",\n",
    "    \"film music\",\n",
    "    \"film maker\",\n",
    "    \"filmmaker\",\n",
    "    \"film\",\n",
    "    \"lyricist\",\n",
    "    \"syndicated columnist\",\n",
    "    \"columnist for the\",\n",
    "    \"columnist\",\n",
    "    \"administrator of the Old Globe Theatre\",\n",
    "    \"musical administrator\",\n",
    "    \"music administrator\",\n",
    "    \"arts administrator\",\n",
    "    \"acting coach\",\n",
    "    \"vocal coach\",\n",
    "    \"leader of comedic group The Drifters\",\n",
    "    \"stand up comedian\",\n",
    "    \"comedian\",\n",
    "    \"last surviving husband\",\n",
    "    \"Sonora Ponceña bands\",\n",
    "    \"bandleader\",\n",
    "    \"agent of TV entertainer Michael Barrymore\",\n",
    "    \"comic entertainer\",\n",
    "    \"entertainer\",\n",
    "    \"radio personality\",\n",
    "    \"radio presenter\",\n",
    "    \"radio announcer\",\n",
    "    \"radio host\",\n",
    "    \"radio DJ\",\n",
    "    \"radio show host\",\n",
    "    \"art collector\",\n",
    "    \"collector\",\n",
    "    \"fashion model\",\n",
    "    \"model\",\n",
    "    \"record industry executive\",\n",
    "    \"broadcasting executive\",\n",
    "    \"record label executive\",\n",
    "    \"studio executive\",\n",
    "    \"chief executive\",\n",
    "    \"news executive\",\n",
    "    \"reality television judge\",\n",
    "    \"competition judge\",\n",
    "    \"socialite\",\n",
    "    \"blogger\",\n",
    "    \"choreographer\",\n",
    "    \"performance artist\",\n",
    "    \"cabaret performer\",\n",
    "    \"stunt performer\",\n",
    "    \"comic performer\",\n",
    "    \"performer\",\n",
    "    \"autobiographer\",\n",
    "    \"biographer\",\n",
    "    \"dramaturge\",\n",
    "    \"dramatist\",\n",
    "    \"reporter\",\n",
    "]\n",
    "arts = sorted(list(set(arts)), key=lambda x: len(x), reverse=True)\n",
    "\n",
    "sports = [\n",
    "    \"martial artist\",\n",
    "    \"t'ai chi teacher\",\n",
    "    \"Capirossi team manager\",\n",
    "    \"booking manager\",\n",
    "    \"general manager\",\n",
    "    'last survivor of the Philadelphia Phillies\\' \"Whiz Kids\" that won the National League championship',\n",
    "    \"athletics administrator\",\n",
    "    \"games administrator\",\n",
    "    \"former coach of golfer Tiger Woods\",\n",
    "    \"basketball coach\",\n",
    "    \"assistant coach\",\n",
    "    \"football coach\",\n",
    "    \"bandy player\",\n",
    "    \"scout\",\n",
    "    \"sports executive\",\n",
    "    \"vice president of the International Olympic Committee\",\n",
    "    \"two bronze medals at the Summer Olympics\",\n",
    "    \"Olympic silver medallist\",\n",
    "    \"Olympic figure skater\",\n",
    "    \"silver medal Olympiad\",\n",
    "    \"Olympic champion\",\n",
    "    \"National Olympic\",\n",
    "    \"Olympic sprinter\",\n",
    "    \"Olympic medalist\",\n",
    "    \"Olympic official\",\n",
    "    \"Olympic athlete\",\n",
    "    \"Winter Olympics\",\n",
    "    \"Olympic gymnast\",\n",
    "    \"Olympic fencer\",\n",
    "    \"Olympic sailor\",\n",
    "    \"Olympian\",\n",
    "    \"Olympics\",\n",
    "    \"MMA fighter\",\n",
    "    \"speedway entrepreneur\",\n",
    "    \"polar explorer\",\n",
    "    \"explorer\",\n",
    "]\n",
    "sports = sorted(list(set(sports)), key=lambda x: len(x), reverse=True)\n",
    "\n",
    "sciences = [\n",
    "    \"Technology Beijing\",\n",
    "    \"Technology Prize\",\n",
    "    \"radio amateur\",\n",
    "    \"various radio developments\",\n",
    "    \"radio astronomy\",\n",
    "    \"Director of the MIT Laboratory for Computer Science from to\",\n",
    "    \"Biomedical Sciences\",\n",
    "    \"sociologist\",\n",
    "    \"mathematician\",\n",
    "]\n",
    "sciences = sorted(list(set(sciences)), key=lambda x: len(x), reverse=True)\n",
    "\n",
    "business_farming = [\n",
    "    \"business executive\",\n",
    "    \"small business\",\n",
    "    \"businesswoman\",\n",
    "    \"businessman\",\n",
    "    \"hospital administrator\",\n",
    "    \"business executive\",\n",
    "    \"retail executive\",\n",
    "    \"entrepreneur\",\n",
    "]\n",
    "business_farming = sorted(\n",
    "    list(set(business_farming)), key=lambda x: len(x), reverse=True\n",
    ")\n",
    "\n",
    "academia_humanities = [\n",
    "    \"historian\",\n",
    "    \"philosophy professor\",\n",
    "    \"philosopher\",\n",
    "    \"professor at George Washington University\",\n",
    "    \"constitutional law professor\",\n",
    "    \"professor of literature\",\n",
    "    \"professor of medicine\",\n",
    "    \"university professor\",\n",
    "    \"philosophy professor\",\n",
    "    \"professor of music\",\n",
    "    \"college professor\",\n",
    "    \"professor\",\n",
    "    \"scholar of medieval literature\",\n",
    "    \"Shakespeare scholar\",\n",
    "    \"literary scholar\",\n",
    "    \"scholar\",\n",
    "    \"university administrator\",\n",
    "    \"ethnomusicologist\",\n",
    "    \"musicologist\",\n",
    "    \"art lecturer\",\n",
    "    \"lecturer\",\n",
    "    \"museum curator\",\n",
    "    \"curator\",\n",
    "    \"founder of the Boston Museum of Science\",\n",
    "    \"member of the Academy of Sciences\",\n",
    "    \"the Academy of Social Sciences\",\n",
    "    \"The World Academy of Sciences\",\n",
    "    \"theatrical pedagogue\",\n",
    "    \"pedagogue\",\n",
    "]\n",
    "academia_humanities = sorted(\n",
    "    list(set(academia_humanities)), key=lambda x: len(x), reverse=True\n",
    ")\n",
    "\n",
    "law_enf_military_operator = [\n",
    "    \"son of a professor who became a rebel leader\",\n",
    "    \"resistance fighter during World War II\",\n",
    "    \"guerrilla fighter\",\n",
    "    \"freedom fighter\",\n",
    "    \"fighter ace\",\n",
    "    \"architect of the Air Force space\",\n",
    "    \"Crime Commissioner\",\n",
    "]\n",
    "law_enf_military_operator = sorted(\n",
    "    list(set(law_enf_military_operator)), key=lambda x: len(x), reverse=True\n",
    ")\n",
    "\n",
    "spiritual = [\"islamic theologist\", \"theologian\"]\n",
    "spiritual = sorted(list(set(spiritual)), key=lambda x: len(x), reverse=True)\n",
    "\n",
    "social = [\n",
    "    \"charitable organization executive\",\n",
    "]\n",
    "social = sorted(list(set(social)), key=lambda x: len(x), reverse=True)\n",
    "\n",
    "crime = [\"convicted murderer\", \"murderer\"]\n",
    "crime = sorted(list(set(crime)), key=lambda x: len(x), reverse=True)\n",
    "\n",
    "event_record_other = [\"concentration camp survivor\", \"Holocaust survivor\"]\n",
    "event_record_other = sorted(\n",
    "    list(set(event_record_other)), key=lambda x: len(x), reverse=True\n",
    ")\n",
    "\n",
    "other_species = [\"sire\"]\n",
    "other_species = sorted(list(set(other_species)), key=lambda x: len(x), reverse=True)\n",
    "\n",
    "cause_of_death = [\n",
    "    \"prostate cancer\",\n",
    "    \"influenza following skin cancer\",\n",
    "    \"complications from cancer\",\n",
    "    \"bone marrow cancer\",\n",
    "    \"colorectal cancer\",\n",
    "    \"lymph node cancer\",\n",
    "    \"pancreatic cancer\",\n",
    "    \"peritoneal cancer\",\n",
    "    \"prostate cancer\",\n",
    "    \"tracheal cancer\",\n",
    "    \"bladder cancer\",\n",
    "    \"stomach cancer\",\n",
    "    \"throat cancer\",\n",
    "    \"breast cancer\",\n",
    "    \"spinal cancer\",\n",
    "    \"liver cancer\",\n",
    "    \"colon cancer\",\n",
    "    \"brain cancer\",\n",
    "    \"spine cancer\",\n",
    "    \"bowel cancer\",\n",
    "    \"lung cancer\",\n",
    "    \"bone cancer\",\n",
    "    \"neck cancer\",\n",
    "    \"cancer\",\n",
    "    \"chronic obstructive pulmonary disease\",\n",
    "    \"complications from Alzheimer disease\",\n",
    "    \"complications of Alzheimer disease\",\n",
    "    \"coronary artery disease\",\n",
    "    \"cardiovascular disease\",\n",
    "    \"valvular heart disease\",\n",
    "    \"pulmonary diseases\",\n",
    "    \"Parkinson disease\",\n",
    "    \"Alzheimer disease\",\n",
    "    \"heart disease\",\n",
    "    \"liver disease\",\n",
    "    \"lung disease\",\n",
    "    \"complications from a stroke\",\n",
    "    \"multiple strokes\",\n",
    "    \"a stroke\",\n",
    "    \"stroke\",\n",
    "    \"emphysema\",\n",
    "    \"Possible heart attack\",\n",
    "    \"valvular heart disease\",\n",
    "    \"heart complications\",\n",
    "    \"heart condition\",\n",
    "    \"heart problems\",\n",
    "    \"heart disease\",\n",
    "    \"heart attack\",\n",
    "    \"heart failur\",\n",
    "    \"Lewy body dementia\",\n",
    "    \"dementia\",\n",
    "    \"complications of multiple sclerosis\",\n",
    "    \"amyotrophic lateral sclerosis\",\n",
    "    \"multiple sclerosis\",\n",
    "    \"barbiturate overdose\",\n",
    "    \"accidental overdose\",\n",
    "    \"morphine overdose\",\n",
    "    \"alcohol overdose\",\n",
    "    \"heroin overdose\",\n",
    "    \"drug overdose\",\n",
    "    \"cardiac complications\",\n",
    "    \"cardiac ailment\",\n",
    "    \"cardiac arrest\",\n",
    "]\n",
    "cause_of_death = sorted(list(set(cause_of_death)), key=lambda x: len(x), reverse=True)"
   ]
  },
  {
   "cell_type": "code",
   "execution_count": 21,
   "id": "5aaa3488",
   "metadata": {},
   "outputs": [
    {
     "data": {
      "application/javascript": [
       "\n",
       "            setTimeout(function() {\n",
       "                var nbb_cell_id = 21;\n",
       "                var nbb_unformatted_code = \"# Dropping info_3_1 value for entries with duplicate category value\\ndf.loc[[index for index in df[df[\\\"info_3_1\\\"] == \\\"manager\\\"].index], \\\"info_3_1\\\"] = \\\"\\\"\\n\\n# Dropping info_3_1 value for entries with duplicate category value\\ndf.loc[[index for index in df[df[\\\"info_3_1\\\"] == \\\"administrator\\\"].index], \\\"info_3_1\\\"] = \\\"\\\"\\n\\n# Dropping info_3_1 value for entries with duplicate category value\\ndf.loc[[index for index in df[df[\\\"info_3_1\\\"] == \\\"Labrador\\\"].index], \\\"info_3_1\\\"] = \\\"\\\"\";\n",
       "                var nbb_formatted_code = \"# Dropping info_3_1 value for entries with duplicate category value\\ndf.loc[[index for index in df[df[\\\"info_3_1\\\"] == \\\"manager\\\"].index], \\\"info_3_1\\\"] = \\\"\\\"\\n\\n# Dropping info_3_1 value for entries with duplicate category value\\ndf.loc[\\n    [index for index in df[df[\\\"info_3_1\\\"] == \\\"administrator\\\"].index], \\\"info_3_1\\\"\\n] = \\\"\\\"\\n\\n# Dropping info_3_1 value for entries with duplicate category value\\ndf.loc[[index for index in df[df[\\\"info_3_1\\\"] == \\\"Labrador\\\"].index], \\\"info_3_1\\\"] = \\\"\\\"\";\n",
       "                var nbb_cells = Jupyter.notebook.get_cells();\n",
       "                for (var i = 0; i < nbb_cells.length; ++i) {\n",
       "                    if (nbb_cells[i].input_prompt_number == nbb_cell_id) {\n",
       "                        if (nbb_cells[i].get_text() == nbb_unformatted_code) {\n",
       "                             nbb_cells[i].set_text(nbb_formatted_code);\n",
       "                        }\n",
       "                        break;\n",
       "                    }\n",
       "                }\n",
       "            }, 500);\n",
       "            "
      ],
      "text/plain": [
       "<IPython.core.display.Javascript object>"
      ]
     },
     "metadata": {},
     "output_type": "display_data"
    }
   ],
   "source": [
    "# Dropping info_3_1 value for entries with duplicate category value\n",
    "df.loc[[index for index in df[df[\"info_3_1\"] == \"manager\"].index], \"info_3_1\"] = \"\"\n",
    "\n",
    "# Dropping info_3_1 value for entries with duplicate category value\n",
    "df.loc[[index for index in df[df[\"info_3_1\"] == \"administrator\"].index], \"info_3_1\"] = \"\"\n",
    "\n",
    "# Dropping info_3_1 value for entries with duplicate category value\n",
    "df.loc[[index for index in df[df[\"info_3_1\"] == \"Labrador\"].index], \"info_3_1\"] = \"\"\n"
   ]
  },
  {
   "cell_type": "markdown",
   "id": "71e2fd96",
   "metadata": {},
   "source": [
    "#### Creating `known_for_dict` Dictionary of Category Keys and Specific Role Lists of Values"
   ]
  },
  {
   "cell_type": "code",
   "execution_count": 22,
   "id": "25f3b7e6",
   "metadata": {},
   "outputs": [
    {
     "data": {
      "application/javascript": [
       "\n",
       "            setTimeout(function() {\n",
       "                var nbb_cell_id = 22;\n",
       "                var nbb_unformatted_code = \"# Combining separate lists into one dictionary\\nknown_for_dict = {\\n    \\\"social\\\": social,\\n    \\\"spiritual\\\": spiritual,\\n    \\\"academia_humanities\\\": academia_humanities,\\n    \\\"business_farming\\\": business_farming,\\n    \\\"sciences\\\": sciences,\\n    \\\"politics_govt_law\\\": politics_govt_law,\\n    \\\"law_enf_military_operator\\\": law_enf_military_operator,\\n    \\\"crime\\\": crime,\\n    \\\"event_record_other\\\": event_record_other,\\n    \\\"other_species\\\": other_species,\\n    \\\"arts\\\": arts,\\n    \\\"sports\\\": sports,\\n}\";\n",
       "                var nbb_formatted_code = \"# Combining separate lists into one dictionary\\nknown_for_dict = {\\n    \\\"social\\\": social,\\n    \\\"spiritual\\\": spiritual,\\n    \\\"academia_humanities\\\": academia_humanities,\\n    \\\"business_farming\\\": business_farming,\\n    \\\"sciences\\\": sciences,\\n    \\\"politics_govt_law\\\": politics_govt_law,\\n    \\\"law_enf_military_operator\\\": law_enf_military_operator,\\n    \\\"crime\\\": crime,\\n    \\\"event_record_other\\\": event_record_other,\\n    \\\"other_species\\\": other_species,\\n    \\\"arts\\\": arts,\\n    \\\"sports\\\": sports,\\n}\";\n",
       "                var nbb_cells = Jupyter.notebook.get_cells();\n",
       "                for (var i = 0; i < nbb_cells.length; ++i) {\n",
       "                    if (nbb_cells[i].input_prompt_number == nbb_cell_id) {\n",
       "                        if (nbb_cells[i].get_text() == nbb_unformatted_code) {\n",
       "                             nbb_cells[i].set_text(nbb_formatted_code);\n",
       "                        }\n",
       "                        break;\n",
       "                    }\n",
       "                }\n",
       "            }, 500);\n",
       "            "
      ],
      "text/plain": [
       "<IPython.core.display.Javascript object>"
      ]
     },
     "metadata": {},
     "output_type": "display_data"
    }
   ],
   "source": [
    "# Combining separate lists into one dictionary\n",
    "known_for_dict = {\n",
    "    \"social\": social,\n",
    "    \"spiritual\": spiritual,\n",
    "    \"academia_humanities\": academia_humanities,\n",
    "    \"business_farming\": business_farming,\n",
    "    \"sciences\": sciences,\n",
    "    \"politics_govt_law\": politics_govt_law,\n",
    "    \"law_enf_military_operator\": law_enf_military_operator,\n",
    "    \"crime\": crime,\n",
    "    \"event_record_other\": event_record_other,\n",
    "    \"other_species\": other_species,\n",
    "    \"arts\": arts,\n",
    "    \"sports\": sports,\n",
    "}"
   ]
  },
  {
   "cell_type": "markdown",
   "id": "2f97d117",
   "metadata": {},
   "source": [
    "#### Extracting `known_for` Categories and `cause_of_death` Values from `info_3_1`"
   ]
  },
  {
   "cell_type": "code",
   "execution_count": 23,
   "id": "b9670890",
   "metadata": {},
   "outputs": [
    {
     "name": "stdout",
     "output_type": "stream",
     "text": [
      "There are 25129 values in cause_of_death column.\n",
      "\n",
      "CPU times: total: 27.1 s\n",
      "Wall time: 27.3 s\n"
     ]
    },
    {
     "data": {
      "application/javascript": [
       "\n",
       "            setTimeout(function() {\n",
       "                var nbb_cell_id = 23;\n",
       "                var nbb_unformatted_code = \"%%time\\n\\n# Column to check\\ncolumn = 'info_3_1'\\n\\n# Start dataframe\\ndataframe = df[df[column].notna()]\\n\\n# For loop to find cause in column and extract it to cause_of_death\\nfor cause in cause_of_death:\\n    for index in dataframe.index:\\n        item = df.loc[index, column]\\n        if item:\\n            if cause in item:\\n                if df.loc[index, 'cause_of_death']:\\n                    df.loc[index, 'cause_of_death'] = df.loc[index, 'cause_of_death'] + '/' + cause\\n                    df.loc[index, column] = item.replace(cause, '').strip()\\n                else:\\n                    df.loc[index, 'cause_of_death'] = cause\\n                    df.loc[index, column] = item.replace(cause, '').strip()\\n                \\n                \\n# For loop to find role in column and extract it as category\\nfor category, category_lst in known_for_dict.items():\\n    for role in category_lst:\\n        for index in dataframe.index:\\n                item = df.loc[index, column]\\n                if item:\\n                    if role in item:\\n                        df.loc[index, category] = 1\\n                        df.loc[index, column] = item.replace(role, '').strip()\\n\\n# Calculating num_categories\\ndf[\\\"num_categories\\\"] = df[known_for_dict.keys()].sum(axis=1)\\n\\n# Checking number of cause_of_death values\\nprint(f'There are {df[\\\"cause_of_death\\\"].notna().sum()} values in cause_of_death column.\\\\n')\";\n",
       "                var nbb_formatted_code = \"%%time\\n\\n# Column to check\\ncolumn = 'info_3_1'\\n\\n# Start dataframe\\ndataframe = df[df[column].notna()]\\n\\n# For loop to find cause in column and extract it to cause_of_death\\nfor cause in cause_of_death:\\n    for index in dataframe.index:\\n        item = df.loc[index, column]\\n        if item:\\n            if cause in item:\\n                if df.loc[index, 'cause_of_death']:\\n                    df.loc[index, 'cause_of_death'] = df.loc[index, 'cause_of_death'] + '/' + cause\\n                    df.loc[index, column] = item.replace(cause, '').strip()\\n                else:\\n                    df.loc[index, 'cause_of_death'] = cause\\n                    df.loc[index, column] = item.replace(cause, '').strip()\\n                \\n                \\n# For loop to find role in column and extract it as category\\nfor category, category_lst in known_for_dict.items():\\n    for role in category_lst:\\n        for index in dataframe.index:\\n                item = df.loc[index, column]\\n                if item:\\n                    if role in item:\\n                        df.loc[index, category] = 1\\n                        df.loc[index, column] = item.replace(role, '').strip()\\n\\n# Calculating num_categories\\ndf[\\\"num_categories\\\"] = df[known_for_dict.keys()].sum(axis=1)\\n\\n# Checking number of cause_of_death values\\nprint(f'There are {df[\\\"cause_of_death\\\"].notna().sum()} values in cause_of_death column.\\\\n')\";\n",
       "                var nbb_cells = Jupyter.notebook.get_cells();\n",
       "                for (var i = 0; i < nbb_cells.length; ++i) {\n",
       "                    if (nbb_cells[i].input_prompt_number == nbb_cell_id) {\n",
       "                        if (nbb_cells[i].get_text() == nbb_unformatted_code) {\n",
       "                             nbb_cells[i].set_text(nbb_formatted_code);\n",
       "                        }\n",
       "                        break;\n",
       "                    }\n",
       "                }\n",
       "            }, 500);\n",
       "            "
      ],
      "text/plain": [
       "<IPython.core.display.Javascript object>"
      ]
     },
     "metadata": {},
     "output_type": "display_data"
    }
   ],
   "source": [
    "%%time\n",
    "\n",
    "# Column to check\n",
    "column = 'info_3_1'\n",
    "\n",
    "# Start dataframe\n",
    "dataframe = df[df[column].notna()]\n",
    "\n",
    "# For loop to find cause in column and extract it to cause_of_death\n",
    "for cause in cause_of_death:\n",
    "    for index in dataframe.index:\n",
    "        item = df.loc[index, column]\n",
    "        if item:\n",
    "            if cause in item:\n",
    "                if df.loc[index, 'cause_of_death']:\n",
    "                    df.loc[index, 'cause_of_death'] = df.loc[index, 'cause_of_death'] + '/' + cause\n",
    "                    df.loc[index, column] = item.replace(cause, '').strip()\n",
    "                else:\n",
    "                    df.loc[index, 'cause_of_death'] = cause\n",
    "                    df.loc[index, column] = item.replace(cause, '').strip()\n",
    "                \n",
    "                \n",
    "# For loop to find role in column and extract it as category\n",
    "for category, category_lst in known_for_dict.items():\n",
    "    for role in category_lst:\n",
    "        for index in dataframe.index:\n",
    "                item = df.loc[index, column]\n",
    "                if item:\n",
    "                    if role in item:\n",
    "                        df.loc[index, category] = 1\n",
    "                        df.loc[index, column] = item.replace(role, '').strip()\n",
    "\n",
    "# Calculating num_categories\n",
    "df[\"num_categories\"] = df[known_for_dict.keys()].sum(axis=1)\n",
    "\n",
    "# Checking number of cause_of_death values\n",
    "print(f'There are {df[\"cause_of_death\"].notna().sum()} values in cause_of_death column.\\n')"
   ]
  },
  {
   "cell_type": "markdown",
   "id": "39e9029a",
   "metadata": {},
   "source": [
    "#### Checking Updated `num_categories` Value Counts"
   ]
  },
  {
   "cell_type": "code",
   "execution_count": 24,
   "id": "6a7f086d",
   "metadata": {},
   "outputs": [
    {
     "data": {
      "text/plain": [
       "1    84760\n",
       "2    12578\n",
       "3      688\n",
       "0        8\n",
       "4        6\n",
       "Name: num_categories, dtype: int64"
      ]
     },
     "execution_count": 24,
     "metadata": {},
     "output_type": "execute_result"
    },
    {
     "data": {
      "application/javascript": [
       "\n",
       "            setTimeout(function() {\n",
       "                var nbb_cell_id = 24;\n",
       "                var nbb_unformatted_code = \"# Checking Updated num_categories Value Counts\\ndf[\\\"num_categories\\\"].value_counts()\";\n",
       "                var nbb_formatted_code = \"# Checking Updated num_categories Value Counts\\ndf[\\\"num_categories\\\"].value_counts()\";\n",
       "                var nbb_cells = Jupyter.notebook.get_cells();\n",
       "                for (var i = 0; i < nbb_cells.length; ++i) {\n",
       "                    if (nbb_cells[i].input_prompt_number == nbb_cell_id) {\n",
       "                        if (nbb_cells[i].get_text() == nbb_unformatted_code) {\n",
       "                             nbb_cells[i].set_text(nbb_formatted_code);\n",
       "                        }\n",
       "                        break;\n",
       "                    }\n",
       "                }\n",
       "            }, 500);\n",
       "            "
      ],
      "text/plain": [
       "<IPython.core.display.Javascript object>"
      ]
     },
     "metadata": {},
     "output_type": "display_data"
    }
   ],
   "source": [
    "# Checking Updated num_categories Value Counts\n",
    "df[\"num_categories\"].value_counts()"
   ]
  },
  {
   "cell_type": "markdown",
   "id": "0a85b59a",
   "metadata": {},
   "source": [
    "#### Observations:\n",
    "- We will proceed to rebuild `known_for_dict` and `cause_of_death` for the next iteration."
   ]
  },
  {
   "cell_type": "markdown",
   "id": "80b97ecc",
   "metadata": {},
   "source": [
    "#### Finding `known_for` Roles and `cause_of_death` in `info_3_1`"
   ]
  },
  {
   "cell_type": "code",
   "execution_count": 25,
   "id": "1a8f0e95",
   "metadata": {},
   "outputs": [
    {
     "data": {
      "application/javascript": [
       "\n",
       "            setTimeout(function() {\n",
       "                var nbb_cell_id = 25;\n",
       "                var nbb_unformatted_code = \"# # Obtaining values for column and their counts\\n# roles_cause_list = df[\\\"info_3_1\\\"].value_counts(ascending=True).index.tolist()\";\n",
       "                var nbb_formatted_code = \"# # Obtaining values for column and their counts\\n# roles_cause_list = df[\\\"info_3_1\\\"].value_counts(ascending=True).index.tolist()\";\n",
       "                var nbb_cells = Jupyter.notebook.get_cells();\n",
       "                for (var i = 0; i < nbb_cells.length; ++i) {\n",
       "                    if (nbb_cells[i].input_prompt_number == nbb_cell_id) {\n",
       "                        if (nbb_cells[i].get_text() == nbb_unformatted_code) {\n",
       "                             nbb_cells[i].set_text(nbb_formatted_code);\n",
       "                        }\n",
       "                        break;\n",
       "                    }\n",
       "                }\n",
       "            }, 500);\n",
       "            "
      ],
      "text/plain": [
       "<IPython.core.display.Javascript object>"
      ]
     },
     "metadata": {},
     "output_type": "display_data"
    }
   ],
   "source": [
    "# # Obtaining values for column and their counts\n",
    "# roles_cause_list = df[\"info_3_1\"].value_counts(ascending=True).index.tolist()"
   ]
  },
  {
   "cell_type": "code",
   "execution_count": 26,
   "id": "c6f0ba5d",
   "metadata": {},
   "outputs": [
    {
     "data": {
      "application/javascript": [
       "\n",
       "            setTimeout(function() {\n",
       "                var nbb_cell_id = 26;\n",
       "                var nbb_unformatted_code = \"# # Code to check each value\\n# roles_cause_list.pop()\";\n",
       "                var nbb_formatted_code = \"# # Code to check each value\\n# roles_cause_list.pop()\";\n",
       "                var nbb_cells = Jupyter.notebook.get_cells();\n",
       "                for (var i = 0; i < nbb_cells.length; ++i) {\n",
       "                    if (nbb_cells[i].input_prompt_number == nbb_cell_id) {\n",
       "                        if (nbb_cells[i].get_text() == nbb_unformatted_code) {\n",
       "                             nbb_cells[i].set_text(nbb_formatted_code);\n",
       "                        }\n",
       "                        break;\n",
       "                    }\n",
       "                }\n",
       "            }, 500);\n",
       "            "
      ],
      "text/plain": [
       "<IPython.core.display.Javascript object>"
      ]
     },
     "metadata": {},
     "output_type": "display_data"
    }
   ],
   "source": [
    "# # Code to check each value\n",
    "# roles_cause_list.pop()"
   ]
  },
  {
   "cell_type": "code",
   "execution_count": 27,
   "id": "0be2ce21",
   "metadata": {},
   "outputs": [
    {
     "data": {
      "application/javascript": [
       "\n",
       "            setTimeout(function() {\n",
       "                var nbb_cell_id = 27;\n",
       "                var nbb_unformatted_code = \"# # Create specific_roles_cause_list for above popped value\\n# specific_roles_cause_list = (\\n#     df.loc[\\n#         [\\n#             index\\n#             for index in df[df[\\\"info_3_1\\\"].notna()].index\\n#             if \\\"osis\\\" in df.loc[index, \\\"info_3_1\\\"]\\n#             #             and df.loc[index, \\\"politics_govt_law\\\"] == 0\\n#             #             and df.loc[index, \\\"arts\\\"] == 1\\n#             #             and df.loc[index, \\\"sciences\\\"] == 0\\n#             #             and df.loc[index, \\\"spiritual\\\"] == 0\\n#             #             and df.loc[index, \\\"law_enf_military_operator\\\"] == 0\\n#             #             and df.loc[index, \\\"sports\\\"] == 1\\n#             #             and df.loc[index, \\\"event_record_other\\\"] == 0\\n#             #             and df.loc[index, \\\"crime\\\"] == 0\\n#             #             and df.loc[index, \\\"academia_humanities\\\"] == 0\\n#             #             and df.loc[index, \\\"business_farming\\\"] == 0\\n#             #                         and df.loc[index, \\\"other_species\\\"] == 0\\n#             #             and df.loc[index, \\\"num_categories\\\"] == 0\\n#         ],\\n#         \\\"info_3_1\\\",\\n#     ]\\n#     .value_counts()\\n#     .index.tolist()\\n# )\";\n",
       "                var nbb_formatted_code = \"# # Create specific_roles_cause_list for above popped value\\n# specific_roles_cause_list = (\\n#     df.loc[\\n#         [\\n#             index\\n#             for index in df[df[\\\"info_3_1\\\"].notna()].index\\n#             if \\\"osis\\\" in df.loc[index, \\\"info_3_1\\\"]\\n#             #             and df.loc[index, \\\"politics_govt_law\\\"] == 0\\n#             #             and df.loc[index, \\\"arts\\\"] == 1\\n#             #             and df.loc[index, \\\"sciences\\\"] == 0\\n#             #             and df.loc[index, \\\"spiritual\\\"] == 0\\n#             #             and df.loc[index, \\\"law_enf_military_operator\\\"] == 0\\n#             #             and df.loc[index, \\\"sports\\\"] == 1\\n#             #             and df.loc[index, \\\"event_record_other\\\"] == 0\\n#             #             and df.loc[index, \\\"crime\\\"] == 0\\n#             #             and df.loc[index, \\\"academia_humanities\\\"] == 0\\n#             #             and df.loc[index, \\\"business_farming\\\"] == 0\\n#             #                         and df.loc[index, \\\"other_species\\\"] == 0\\n#             #             and df.loc[index, \\\"num_categories\\\"] == 0\\n#         ],\\n#         \\\"info_3_1\\\",\\n#     ]\\n#     .value_counts()\\n#     .index.tolist()\\n# )\";\n",
       "                var nbb_cells = Jupyter.notebook.get_cells();\n",
       "                for (var i = 0; i < nbb_cells.length; ++i) {\n",
       "                    if (nbb_cells[i].input_prompt_number == nbb_cell_id) {\n",
       "                        if (nbb_cells[i].get_text() == nbb_unformatted_code) {\n",
       "                             nbb_cells[i].set_text(nbb_formatted_code);\n",
       "                        }\n",
       "                        break;\n",
       "                    }\n",
       "                }\n",
       "            }, 500);\n",
       "            "
      ],
      "text/plain": [
       "<IPython.core.display.Javascript object>"
      ]
     },
     "metadata": {},
     "output_type": "display_data"
    }
   ],
   "source": [
    "# # Create specific_roles_cause_list for above popped value\n",
    "# specific_roles_cause_list = (\n",
    "#     df.loc[\n",
    "#         [\n",
    "#             index\n",
    "#             for index in df[df[\"info_3_1\"].notna()].index\n",
    "#             if \"osis\" in df.loc[index, \"info_3_1\"]\n",
    "#             #             and df.loc[index, \"politics_govt_law\"] == 0\n",
    "#             #             and df.loc[index, \"arts\"] == 1\n",
    "#             #             and df.loc[index, \"sciences\"] == 0\n",
    "#             #             and df.loc[index, \"spiritual\"] == 0\n",
    "#             #             and df.loc[index, \"law_enf_military_operator\"] == 0\n",
    "#             #             and df.loc[index, \"sports\"] == 1\n",
    "#             #             and df.loc[index, \"event_record_other\"] == 0\n",
    "#             #             and df.loc[index, \"crime\"] == 0\n",
    "#             #             and df.loc[index, \"academia_humanities\"] == 0\n",
    "#             #             and df.loc[index, \"business_farming\"] == 0\n",
    "#             #                         and df.loc[index, \"other_species\"] == 0\n",
    "#             #             and df.loc[index, \"num_categories\"] == 0\n",
    "#         ],\n",
    "#         \"info_3_1\",\n",
    "#     ]\n",
    "#     .value_counts()\n",
    "#     .index.tolist()\n",
    "# )"
   ]
  },
  {
   "cell_type": "code",
   "execution_count": 28,
   "id": "1660057d",
   "metadata": {},
   "outputs": [
    {
     "data": {
      "application/javascript": [
       "\n",
       "            setTimeout(function() {\n",
       "                var nbb_cell_id = 28;\n",
       "                var nbb_unformatted_code = \"# # Viewing list sorted by descending length to copy to dictionary below and screen values\\n# sorted(specific_roles_cause_list, key=lambda x: len(x), reverse=True)\";\n",
       "                var nbb_formatted_code = \"# # Viewing list sorted by descending length to copy to dictionary below and screen values\\n# sorted(specific_roles_cause_list, key=lambda x: len(x), reverse=True)\";\n",
       "                var nbb_cells = Jupyter.notebook.get_cells();\n",
       "                for (var i = 0; i < nbb_cells.length; ++i) {\n",
       "                    if (nbb_cells[i].input_prompt_number == nbb_cell_id) {\n",
       "                        if (nbb_cells[i].get_text() == nbb_unformatted_code) {\n",
       "                             nbb_cells[i].set_text(nbb_formatted_code);\n",
       "                        }\n",
       "                        break;\n",
       "                    }\n",
       "                }\n",
       "            }, 500);\n",
       "            "
      ],
      "text/plain": [
       "<IPython.core.display.Javascript object>"
      ]
     },
     "metadata": {},
     "output_type": "display_data"
    }
   ],
   "source": [
    "# # Viewing list sorted by descending length to copy to dictionary below and screen values\n",
    "# sorted(specific_roles_cause_list, key=lambda x: len(x), reverse=True)"
   ]
  },
  {
   "cell_type": "code",
   "execution_count": 29,
   "id": "90fd506c",
   "metadata": {},
   "outputs": [
    {
     "data": {
      "application/javascript": [
       "\n",
       "            setTimeout(function() {\n",
       "                var nbb_cell_id = 29;\n",
       "                var nbb_unformatted_code = \"# # Example code to quick-check a specific entry\\n# df[df[\\\"info_3_1\\\"] == \\\"all\\\"]\";\n",
       "                var nbb_formatted_code = \"# # Example code to quick-check a specific entry\\n# df[df[\\\"info_3_1\\\"] == \\\"all\\\"]\";\n",
       "                var nbb_cells = Jupyter.notebook.get_cells();\n",
       "                for (var i = 0; i < nbb_cells.length; ++i) {\n",
       "                    if (nbb_cells[i].input_prompt_number == nbb_cell_id) {\n",
       "                        if (nbb_cells[i].get_text() == nbb_unformatted_code) {\n",
       "                             nbb_cells[i].set_text(nbb_formatted_code);\n",
       "                        }\n",
       "                        break;\n",
       "                    }\n",
       "                }\n",
       "            }, 500);\n",
       "            "
      ],
      "text/plain": [
       "<IPython.core.display.Javascript object>"
      ]
     },
     "metadata": {},
     "output_type": "display_data"
    }
   ],
   "source": [
    "# # Example code to quick-check a specific entry\n",
    "# df[df[\"info_3_1\"] == \"all\"]"
   ]
  },
  {
   "cell_type": "markdown",
   "id": "ac560bfd",
   "metadata": {},
   "source": [
    "#### Creating Lists for Each `known_for` Category and for `cause_of_death`"
   ]
  },
  {
   "cell_type": "code",
   "execution_count": 30,
   "id": "3b94d03c",
   "metadata": {},
   "outputs": [
    {
     "data": {
      "application/javascript": [
       "\n",
       "            setTimeout(function() {\n",
       "                var nbb_cell_id = 30;\n",
       "                var nbb_unformatted_code = \"# Creating lists for each category and sorting by decreasing length and removing duplicates\\n\\npolitics_govt_law = [\\n    \\\"social commentator\\\",\\n    \\\"judge\\\",\\n    \\\"barrister\\\",\\n    \\\"Chiswick\\\",\\n    \\\"Industry\\\",\\n    \\\"railroad worker\\\",\\n    \\\"Kennedy Administration official\\\",\\n    \\\"elected official in Toledo\\\",\\n    \\\"government official\\\",\\n    \\\"public official\\\",\\n    \\\"CCPPC official\\\",\\n    \\\"behavioral economist\\\",\\n    \\\"political economist\\\",\\n    \\\"economist\\\",\\n    \\\"political scientist\\\",\\n    \\\"Natural Resources\\\",\\n    \\\"anti communist zealot who helped set the stage for McCarthyism\\\",\\n    \\\"anti communist\\\",\\n    \\\"communist\\\",\\n    \\\"three time president of the senate\\\",\\n    \\\"senator\\\",\\n    \\\"Tirunelveli\\\",\\n    \\\"Social Security\\\",\\n    \\\"Nicobar Islands\\\",\\n    \\\"Caicos Islands\\\",\\n    \\\"the Islands\\\",\\n    \\\"conspiracy theorist\\\",\\n    \\\"social theorist\\\",\\n    \\\"Forestry\\\",\\n    \\\"th districts\\\",\\n    \\\"Cultural Affairs\\\",\\n    \\\"Kennedy Administration official\\\",\\n    \\\"Drug Administration reviewer\\\",\\n    \\\"Administration Commission\\\",\\n    \\\"Drug Administration\\\",\\n    \\\"political prisoner\\\",\\n    \\\"Tourism\\\",\\n    \\\"Associate Justice of the Supreme Court of the\\\",\\n    \\\"Justice of the Michigan Supreme Court\\\",\\n    \\\"Justice\\\",\\n    \\\"Energy\\\",\\n]\\npolitics_govt_law = sorted(\\n    list(set(politics_govt_law)), key=lambda x: len(x), reverse=True\\n)\\n\\narts = [\\n    \\\"artist\\\",\\n    \\\"printmaker\\\",\\n    \\\"dog trainer\\\",\\n    \\\"public speaker\\\",\\n    \\\"memoirist\\\",\\n    \\\"a promoter of culture\\\",\\n    \\\"hip hop promoter\\\",\\n    \\\"publicist\\\",\\n    \\\"humorist\\\",\\n    \\\"cabaret impresario\\\",\\n    \\\"impresario\\\",\\n    \\\"architect\\\",\\n    \\\"vocalist for Robin Trower\\\",\\n    \\\"vocalist\\\",\\n    \\\"Emmy winning documentarian\\\",\\n    \\\"documentarian\\\",\\n    \\\"talent agent\\\",\\n    \\\"theater production designer\\\",\\n    \\\"pinball machine designer\\\",\\n    \\\"album cover designer\\\",\\n    \\\"typeface designer\\\",\\n    \\\"interior designer\\\",\\n    \\\"fashion designer\\\",\\n    \\\"costume designer\\\",\\n    \\\"garden designer\\\",\\n    \\\"stage designer\\\",\\n    \\\"font designer\\\",\\n    \\\"set designer\\\",\\n    \\\"Roll Hall of Fame\\\",\\n    \\\"foreign correspondent\\\",\\n    \\\"correspondent\\\",\\n    \\\"stuntman\\\",\\n    \\\"recorded with Linda Ronstadt\\\",\\n    \\\"multitrack tape recording\\\",\\n    \\\"recording studio owner\\\",\\n    \\\"record label founder\\\",\\n    \\\"record label owner\\\",\\n    \\\"matchbox\\\",\\n    \\\"chairman of San Diego Comic Con International\\\",\\n    \\\"reality TV personality\\\",\\n    \\\"Internet personality\\\",\\n    \\\"theatre personality\\\",\\n    \\\"TV personality\\\",\\n    \\\"flag\\\",\\n    \\\"harmonica player\\\",\\n    \\\"bukkehorn player\\\",\\n    \\\"banjo player\\\",\\n    \\\"organ player\\\",\\n    \\\"bass player\\\",\\n    \\\"concertmaster\\\",\\n    \\\"newsreader\\\",\\n    \\\"magazine cartoonist\\\",\\n    \\\"cartoonist\\\",\\n]\\narts = sorted(list(set(arts)), key=lambda x: len(x), reverse=True)\\n\\nsports = [\\n    \\\"coach\\\",\\n    \\\"executive\\\",\\n    \\\"sports official\\\",\\n    \\\"professional wrestler\\\",\\n    \\\"endurance runner\\\",\\n    \\\"runner\\\",\\n    \\\"member of the Pro Football Hall of Fame\\\",\\n    \\\"a member of the Baseball Hall of Fame\\\",\\n    \\\"Sports Hall of Fame\\\",\\n    \\\"FIBA Hall of Fame\\\",\\n    \\\"holder of nine world records\\\",\\n    \\\"world record holder for\\\",\\n    \\\"world record holder\\\",\\n    \\\"world champion kickboxer\\\",\\n    \\\"boxing referee\\\",\\n    \\\"boxer\\\",\\n    \\\"former Clemson football player\\\",\\n    \\\"table tennis player\\\",\\n    \\\"rugby union player\\\",\\n    \\\"ice hockey player\\\",\\n    \\\"baseball player\\\",\\n    \\\"handball player\\\",\\n    \\\"football player\\\",\\n    \\\"cricket player\\\",\\n    \\\"bridge player\\\",\\n    \\\"polo player\\\",\\n]\\nsports = sorted(list(set(sports)), key=lambda x: len(x), reverse=True)\\n\\nsciences = [\\n    \\\"physician\\\",\\n    \\\"psychiatrist\\\",\\n    \\\"computer scientist\\\",\\n    \\\"computer engineer\\\",\\n    \\\"behavioral physiologist\\\",\\n    \\\"micropaleontologist\\\",\\n    \\\"plant pathologist\\\",\\n    \\\"parapsychologist\\\",\\n    \\\"pharmacologist\\\",\\n    \\\"epileptologist\\\",\\n    \\\"copepodologist\\\",\\n    \\\"epistemologist\\\",\\n    \\\"meteorologist\\\",\\n    \\\"criminologist\\\",\\n    \\\"methodologist\\\",\\n    \\\"ornithologist\\\",\\n    \\\"haematologist\\\",\\n    \\\"entomologist\\\",\\n    \\\"neurologist\\\",\\n    \\\"cosmologist\\\",\\n    \\\"pathologist\\\",\\n    \\\"serologist\\\",\\n    \\\"sexologist\\\",\\n    \\\"ufologist\\\",\\n    \\\"ecologist\\\",\\n    \\\"clinical psychologist\\\",\\n    \\\"petrologist\\\",\\n    \\\"neuroscientist\\\",\\n    \\\"neurologist\\\",\\n    \\\"designer of GPS\\\",\\n    \\\"Higgs boson theorist\\\",\\n]\\nsciences = sorted(list(set(sciences)), key=lambda x: len(x), reverse=True)\\n\\nbusiness_farming = [\\n    \\\"inventor of the fast food system\\\",\\n    \\\"investment banker\\\",\\n    \\\"banker\\\",\\n    'Apple as the \\\"computer for the rest of us\\\"',\\n    \\\"restaurateur\\\",\\n    \\\"farmer\\\",\\n    \\\"multi millionaire industrialist\\\",\\n    \\\"industrialist\\\",\\n    \\\"Director of the Institute of Business Administration\\\",\\n]\\nbusiness_farming = sorted(\\n    list(set(business_farming)), key=lambda x: len(x), reverse=True\\n)\\n\\nacademia_humanities = [\\n    \\\"teacher\\\",\\n    \\\"inventor of Cued Speech\\\",\\n    \\\"Sciences of\\\",\\n    \\\"anthropologist\\\",\\n    \\\"anthropologist\\\",\\n    \\\"archaeologist\\\",\\n    \\\"paremiologist\\\",\\n    \\\"japanologist\\\",\\n    \\\"philologist\\\",\\n    \\\"museologist\\\",\\n    \\\"indologist\\\",\\n    \\\"sinologist\\\",\\n    \\\"evolutionary theorist\\\",\\n    \\\"intellectual\\\",\\n    \\\"linguist\\\",\\n]\\nacademia_humanities = sorted(\\n    list(set(academia_humanities)), key=lambda x: len(x), reverse=True\\n)\\n\\nlaw_enf_military_operator = [\\n    \\\"cryptologist\\\",\\n    \\\"intelligence officer\\\",\\n    \\\"military officer\\\",\\n    \\\"police officer\\\",\\n    \\\"army officer\\\",\\n    \\\"Army officer\\\",\\n    \\\"veteran of World War II\\\",\\n    \\\"veteran of World War I\\\",\\n    \\\"World War II veteran\\\",\\n    \\\"World War I veteran\\\",\\n    \\\"oldest WWII veteran\\\",\\n    \\\"war veteran\\\",\\n    \\\"Atmospheric Administration Commissioned Officer Corps\\\",\\n    \\\"Colditz prisoner\\\",\\n    \\\"prisoner of war\\\",\\n]\\nlaw_enf_military_operator = sorted(\\n    list(set(law_enf_military_operator)), key=lambda x: len(x), reverse=True\\n)\\n\\nspiritual = [\\n    \\\"motivational speaker\\\",\\n    \\\"gospel\\\",\\n    \\\"Anglican priest\\\",\\n    \\\"Wiccan priest\\\",\\n    \\\"Jesuit priest\\\",\\n    \\\"priestess\\\",\\n    \\\"priest\\\",\\n    \\\"archbishop of the Anglican Church of Papua New\\\",\\n    \\\"the Cayman Islands\\\",\\n    \\\"Brecon\\\",\\n]\\nspiritual = sorted(list(set(spiritual)), key=lambda x: len(x), reverse=True)\\n\\nsocial = [\\n    \\\"humanitarian\\\",\\n    \\\"social worker\\\",\\n    \\\"project designer in the Boy Scouts of\\\",\\n]\\nsocial = sorted(list(set(social)), key=lambda x: len(x), reverse=True)\\n\\ncrime = [\\n    \\\"convicted fraudster\\\",\\n    \\\"convicted terrorist\\\",\\n    \\\"convicted criminal\\\",\\n    \\\"convicted perjurer\\\",\\n    \\\"convicted rapist\\\",\\n    \\\"extortionist\\\",\\n]\\ncrime = sorted(list(set(crime)), key=lambda x: len(x), reverse=True)\\n\\nevent_record_other = [\\n    \\\"documentary subject\\\",\\n]\\nevent_record_other = sorted(\\n    list(set(event_record_other)), key=lambda x: len(x), reverse=True\\n)\\n\\nother_species = []\\nother_species = sorted(list(set(other_species)), key=lambda x: len(x), reverse=True)\\n\\ncause_of_death = [\\n    \\\"hypertension\\\",\\n    \\\"acute myeloid leukemia\\\",\\n    \\\"leukemia\\\",\\n    \\\"stabbed\\\",\\n    \\\"run motorcycle accident\\\",\\n    \\\"run car accident\\\",\\n    \\\"run car crash\\\",\\n    \\\"run accident\\\",\\n    \\\"murdered by the Lukashenko regime\\\",\\n    \\\"murdered\\\",\\n    \\\"liver related problems\\\",\\n    \\\"respiratory problems\\\",\\n    \\\"COPD\\\",\\n    \\\"shot\\\",\\n    \\\"pancreatitis\\\",\\n    \\\"encephalitis\\\",\\n    \\\"hepatitis B\\\",\\n    \\\"hepatitis C\\\",\\n    \\\"peritonitis\\\",\\n    \\\"meningitis\\\",\\n    \\\"hepatitis\\\",\\n    \\\"sepsis\\\",\\n    \\\"lung ailments\\\",\\n    \\\"lung ailment\\\",\\n    \\\"lung transplant surgery\\\",\\n    \\\"lung infections\\\",\\n    \\\"lung condition\\\",\\n    \\\"urinary tract infection\\\",\\n    \\\"brain infection\\\",\\n    \\\"chest infection\\\",\\n    \\\"lung infections\\\",\\n    \\\"liver infection\\\",\\n    \\\"tuberculosis\\\",\\n    \\\"cirrhosis\\\",\\n]\\ncause_of_death = sorted(list(set(cause_of_death)), key=lambda x: len(x), reverse=True)\";\n",
       "                var nbb_formatted_code = \"# Creating lists for each category and sorting by decreasing length and removing duplicates\\n\\npolitics_govt_law = [\\n    \\\"social commentator\\\",\\n    \\\"judge\\\",\\n    \\\"barrister\\\",\\n    \\\"Chiswick\\\",\\n    \\\"Industry\\\",\\n    \\\"railroad worker\\\",\\n    \\\"Kennedy Administration official\\\",\\n    \\\"elected official in Toledo\\\",\\n    \\\"government official\\\",\\n    \\\"public official\\\",\\n    \\\"CCPPC official\\\",\\n    \\\"behavioral economist\\\",\\n    \\\"political economist\\\",\\n    \\\"economist\\\",\\n    \\\"political scientist\\\",\\n    \\\"Natural Resources\\\",\\n    \\\"anti communist zealot who helped set the stage for McCarthyism\\\",\\n    \\\"anti communist\\\",\\n    \\\"communist\\\",\\n    \\\"three time president of the senate\\\",\\n    \\\"senator\\\",\\n    \\\"Tirunelveli\\\",\\n    \\\"Social Security\\\",\\n    \\\"Nicobar Islands\\\",\\n    \\\"Caicos Islands\\\",\\n    \\\"the Islands\\\",\\n    \\\"conspiracy theorist\\\",\\n    \\\"social theorist\\\",\\n    \\\"Forestry\\\",\\n    \\\"th districts\\\",\\n    \\\"Cultural Affairs\\\",\\n    \\\"Kennedy Administration official\\\",\\n    \\\"Drug Administration reviewer\\\",\\n    \\\"Administration Commission\\\",\\n    \\\"Drug Administration\\\",\\n    \\\"political prisoner\\\",\\n    \\\"Tourism\\\",\\n    \\\"Associate Justice of the Supreme Court of the\\\",\\n    \\\"Justice of the Michigan Supreme Court\\\",\\n    \\\"Justice\\\",\\n    \\\"Energy\\\",\\n]\\npolitics_govt_law = sorted(\\n    list(set(politics_govt_law)), key=lambda x: len(x), reverse=True\\n)\\n\\narts = [\\n    \\\"artist\\\",\\n    \\\"printmaker\\\",\\n    \\\"dog trainer\\\",\\n    \\\"public speaker\\\",\\n    \\\"memoirist\\\",\\n    \\\"a promoter of culture\\\",\\n    \\\"hip hop promoter\\\",\\n    \\\"publicist\\\",\\n    \\\"humorist\\\",\\n    \\\"cabaret impresario\\\",\\n    \\\"impresario\\\",\\n    \\\"architect\\\",\\n    \\\"vocalist for Robin Trower\\\",\\n    \\\"vocalist\\\",\\n    \\\"Emmy winning documentarian\\\",\\n    \\\"documentarian\\\",\\n    \\\"talent agent\\\",\\n    \\\"theater production designer\\\",\\n    \\\"pinball machine designer\\\",\\n    \\\"album cover designer\\\",\\n    \\\"typeface designer\\\",\\n    \\\"interior designer\\\",\\n    \\\"fashion designer\\\",\\n    \\\"costume designer\\\",\\n    \\\"garden designer\\\",\\n    \\\"stage designer\\\",\\n    \\\"font designer\\\",\\n    \\\"set designer\\\",\\n    \\\"Roll Hall of Fame\\\",\\n    \\\"foreign correspondent\\\",\\n    \\\"correspondent\\\",\\n    \\\"stuntman\\\",\\n    \\\"recorded with Linda Ronstadt\\\",\\n    \\\"multitrack tape recording\\\",\\n    \\\"recording studio owner\\\",\\n    \\\"record label founder\\\",\\n    \\\"record label owner\\\",\\n    \\\"matchbox\\\",\\n    \\\"chairman of San Diego Comic Con International\\\",\\n    \\\"reality TV personality\\\",\\n    \\\"Internet personality\\\",\\n    \\\"theatre personality\\\",\\n    \\\"TV personality\\\",\\n    \\\"flag\\\",\\n    \\\"harmonica player\\\",\\n    \\\"bukkehorn player\\\",\\n    \\\"banjo player\\\",\\n    \\\"organ player\\\",\\n    \\\"bass player\\\",\\n    \\\"concertmaster\\\",\\n    \\\"newsreader\\\",\\n    \\\"magazine cartoonist\\\",\\n    \\\"cartoonist\\\",\\n]\\narts = sorted(list(set(arts)), key=lambda x: len(x), reverse=True)\\n\\nsports = [\\n    \\\"coach\\\",\\n    \\\"executive\\\",\\n    \\\"sports official\\\",\\n    \\\"professional wrestler\\\",\\n    \\\"endurance runner\\\",\\n    \\\"runner\\\",\\n    \\\"member of the Pro Football Hall of Fame\\\",\\n    \\\"a member of the Baseball Hall of Fame\\\",\\n    \\\"Sports Hall of Fame\\\",\\n    \\\"FIBA Hall of Fame\\\",\\n    \\\"holder of nine world records\\\",\\n    \\\"world record holder for\\\",\\n    \\\"world record holder\\\",\\n    \\\"world champion kickboxer\\\",\\n    \\\"boxing referee\\\",\\n    \\\"boxer\\\",\\n    \\\"former Clemson football player\\\",\\n    \\\"table tennis player\\\",\\n    \\\"rugby union player\\\",\\n    \\\"ice hockey player\\\",\\n    \\\"baseball player\\\",\\n    \\\"handball player\\\",\\n    \\\"football player\\\",\\n    \\\"cricket player\\\",\\n    \\\"bridge player\\\",\\n    \\\"polo player\\\",\\n]\\nsports = sorted(list(set(sports)), key=lambda x: len(x), reverse=True)\\n\\nsciences = [\\n    \\\"physician\\\",\\n    \\\"psychiatrist\\\",\\n    \\\"computer scientist\\\",\\n    \\\"computer engineer\\\",\\n    \\\"behavioral physiologist\\\",\\n    \\\"micropaleontologist\\\",\\n    \\\"plant pathologist\\\",\\n    \\\"parapsychologist\\\",\\n    \\\"pharmacologist\\\",\\n    \\\"epileptologist\\\",\\n    \\\"copepodologist\\\",\\n    \\\"epistemologist\\\",\\n    \\\"meteorologist\\\",\\n    \\\"criminologist\\\",\\n    \\\"methodologist\\\",\\n    \\\"ornithologist\\\",\\n    \\\"haematologist\\\",\\n    \\\"entomologist\\\",\\n    \\\"neurologist\\\",\\n    \\\"cosmologist\\\",\\n    \\\"pathologist\\\",\\n    \\\"serologist\\\",\\n    \\\"sexologist\\\",\\n    \\\"ufologist\\\",\\n    \\\"ecologist\\\",\\n    \\\"clinical psychologist\\\",\\n    \\\"petrologist\\\",\\n    \\\"neuroscientist\\\",\\n    \\\"neurologist\\\",\\n    \\\"designer of GPS\\\",\\n    \\\"Higgs boson theorist\\\",\\n]\\nsciences = sorted(list(set(sciences)), key=lambda x: len(x), reverse=True)\\n\\nbusiness_farming = [\\n    \\\"inventor of the fast food system\\\",\\n    \\\"investment banker\\\",\\n    \\\"banker\\\",\\n    'Apple as the \\\"computer for the rest of us\\\"',\\n    \\\"restaurateur\\\",\\n    \\\"farmer\\\",\\n    \\\"multi millionaire industrialist\\\",\\n    \\\"industrialist\\\",\\n    \\\"Director of the Institute of Business Administration\\\",\\n]\\nbusiness_farming = sorted(\\n    list(set(business_farming)), key=lambda x: len(x), reverse=True\\n)\\n\\nacademia_humanities = [\\n    \\\"teacher\\\",\\n    \\\"inventor of Cued Speech\\\",\\n    \\\"Sciences of\\\",\\n    \\\"anthropologist\\\",\\n    \\\"anthropologist\\\",\\n    \\\"archaeologist\\\",\\n    \\\"paremiologist\\\",\\n    \\\"japanologist\\\",\\n    \\\"philologist\\\",\\n    \\\"museologist\\\",\\n    \\\"indologist\\\",\\n    \\\"sinologist\\\",\\n    \\\"evolutionary theorist\\\",\\n    \\\"intellectual\\\",\\n    \\\"linguist\\\",\\n]\\nacademia_humanities = sorted(\\n    list(set(academia_humanities)), key=lambda x: len(x), reverse=True\\n)\\n\\nlaw_enf_military_operator = [\\n    \\\"cryptologist\\\",\\n    \\\"intelligence officer\\\",\\n    \\\"military officer\\\",\\n    \\\"police officer\\\",\\n    \\\"army officer\\\",\\n    \\\"Army officer\\\",\\n    \\\"veteran of World War II\\\",\\n    \\\"veteran of World War I\\\",\\n    \\\"World War II veteran\\\",\\n    \\\"World War I veteran\\\",\\n    \\\"oldest WWII veteran\\\",\\n    \\\"war veteran\\\",\\n    \\\"Atmospheric Administration Commissioned Officer Corps\\\",\\n    \\\"Colditz prisoner\\\",\\n    \\\"prisoner of war\\\",\\n]\\nlaw_enf_military_operator = sorted(\\n    list(set(law_enf_military_operator)), key=lambda x: len(x), reverse=True\\n)\\n\\nspiritual = [\\n    \\\"motivational speaker\\\",\\n    \\\"gospel\\\",\\n    \\\"Anglican priest\\\",\\n    \\\"Wiccan priest\\\",\\n    \\\"Jesuit priest\\\",\\n    \\\"priestess\\\",\\n    \\\"priest\\\",\\n    \\\"archbishop of the Anglican Church of Papua New\\\",\\n    \\\"the Cayman Islands\\\",\\n    \\\"Brecon\\\",\\n]\\nspiritual = sorted(list(set(spiritual)), key=lambda x: len(x), reverse=True)\\n\\nsocial = [\\n    \\\"humanitarian\\\",\\n    \\\"social worker\\\",\\n    \\\"project designer in the Boy Scouts of\\\",\\n]\\nsocial = sorted(list(set(social)), key=lambda x: len(x), reverse=True)\\n\\ncrime = [\\n    \\\"convicted fraudster\\\",\\n    \\\"convicted terrorist\\\",\\n    \\\"convicted criminal\\\",\\n    \\\"convicted perjurer\\\",\\n    \\\"convicted rapist\\\",\\n    \\\"extortionist\\\",\\n]\\ncrime = sorted(list(set(crime)), key=lambda x: len(x), reverse=True)\\n\\nevent_record_other = [\\n    \\\"documentary subject\\\",\\n]\\nevent_record_other = sorted(\\n    list(set(event_record_other)), key=lambda x: len(x), reverse=True\\n)\\n\\nother_species = []\\nother_species = sorted(list(set(other_species)), key=lambda x: len(x), reverse=True)\\n\\ncause_of_death = [\\n    \\\"hypertension\\\",\\n    \\\"acute myeloid leukemia\\\",\\n    \\\"leukemia\\\",\\n    \\\"stabbed\\\",\\n    \\\"run motorcycle accident\\\",\\n    \\\"run car accident\\\",\\n    \\\"run car crash\\\",\\n    \\\"run accident\\\",\\n    \\\"murdered by the Lukashenko regime\\\",\\n    \\\"murdered\\\",\\n    \\\"liver related problems\\\",\\n    \\\"respiratory problems\\\",\\n    \\\"COPD\\\",\\n    \\\"shot\\\",\\n    \\\"pancreatitis\\\",\\n    \\\"encephalitis\\\",\\n    \\\"hepatitis B\\\",\\n    \\\"hepatitis C\\\",\\n    \\\"peritonitis\\\",\\n    \\\"meningitis\\\",\\n    \\\"hepatitis\\\",\\n    \\\"sepsis\\\",\\n    \\\"lung ailments\\\",\\n    \\\"lung ailment\\\",\\n    \\\"lung transplant surgery\\\",\\n    \\\"lung infections\\\",\\n    \\\"lung condition\\\",\\n    \\\"urinary tract infection\\\",\\n    \\\"brain infection\\\",\\n    \\\"chest infection\\\",\\n    \\\"lung infections\\\",\\n    \\\"liver infection\\\",\\n    \\\"tuberculosis\\\",\\n    \\\"cirrhosis\\\",\\n]\\ncause_of_death = sorted(list(set(cause_of_death)), key=lambda x: len(x), reverse=True)\";\n",
       "                var nbb_cells = Jupyter.notebook.get_cells();\n",
       "                for (var i = 0; i < nbb_cells.length; ++i) {\n",
       "                    if (nbb_cells[i].input_prompt_number == nbb_cell_id) {\n",
       "                        if (nbb_cells[i].get_text() == nbb_unformatted_code) {\n",
       "                             nbb_cells[i].set_text(nbb_formatted_code);\n",
       "                        }\n",
       "                        break;\n",
       "                    }\n",
       "                }\n",
       "            }, 500);\n",
       "            "
      ],
      "text/plain": [
       "<IPython.core.display.Javascript object>"
      ]
     },
     "metadata": {},
     "output_type": "display_data"
    }
   ],
   "source": [
    "# Creating lists for each category and sorting by decreasing length and removing duplicates\n",
    "\n",
    "politics_govt_law = [\n",
    "    \"social commentator\",\n",
    "    \"judge\",\n",
    "    \"barrister\",\n",
    "    \"Chiswick\",\n",
    "    \"Industry\",\n",
    "    \"railroad worker\",\n",
    "    \"Kennedy Administration official\",\n",
    "    \"elected official in Toledo\",\n",
    "    \"government official\",\n",
    "    \"public official\",\n",
    "    \"CCPPC official\",\n",
    "    \"behavioral economist\",\n",
    "    \"political economist\",\n",
    "    \"economist\",\n",
    "    \"political scientist\",\n",
    "    \"Natural Resources\",\n",
    "    \"anti communist zealot who helped set the stage for McCarthyism\",\n",
    "    \"anti communist\",\n",
    "    \"communist\",\n",
    "    \"three time president of the senate\",\n",
    "    \"senator\",\n",
    "    \"Tirunelveli\",\n",
    "    \"Social Security\",\n",
    "    \"Nicobar Islands\",\n",
    "    \"Caicos Islands\",\n",
    "    \"the Islands\",\n",
    "    \"conspiracy theorist\",\n",
    "    \"social theorist\",\n",
    "    \"Forestry\",\n",
    "    \"th districts\",\n",
    "    \"Cultural Affairs\",\n",
    "    \"Kennedy Administration official\",\n",
    "    \"Drug Administration reviewer\",\n",
    "    \"Administration Commission\",\n",
    "    \"Drug Administration\",\n",
    "    \"political prisoner\",\n",
    "    \"Tourism\",\n",
    "    \"Associate Justice of the Supreme Court of the\",\n",
    "    \"Justice of the Michigan Supreme Court\",\n",
    "    \"Justice\",\n",
    "    \"Energy\",\n",
    "]\n",
    "politics_govt_law = sorted(\n",
    "    list(set(politics_govt_law)), key=lambda x: len(x), reverse=True\n",
    ")\n",
    "\n",
    "arts = [\n",
    "    \"artist\",\n",
    "    \"printmaker\",\n",
    "    \"dog trainer\",\n",
    "    \"public speaker\",\n",
    "    \"memoirist\",\n",
    "    \"a promoter of culture\",\n",
    "    \"hip hop promoter\",\n",
    "    \"publicist\",\n",
    "    \"humorist\",\n",
    "    \"cabaret impresario\",\n",
    "    \"impresario\",\n",
    "    \"architect\",\n",
    "    \"vocalist for Robin Trower\",\n",
    "    \"vocalist\",\n",
    "    \"Emmy winning documentarian\",\n",
    "    \"documentarian\",\n",
    "    \"talent agent\",\n",
    "    \"theater production designer\",\n",
    "    \"pinball machine designer\",\n",
    "    \"album cover designer\",\n",
    "    \"typeface designer\",\n",
    "    \"interior designer\",\n",
    "    \"fashion designer\",\n",
    "    \"costume designer\",\n",
    "    \"garden designer\",\n",
    "    \"stage designer\",\n",
    "    \"font designer\",\n",
    "    \"set designer\",\n",
    "    \"Roll Hall of Fame\",\n",
    "    \"foreign correspondent\",\n",
    "    \"correspondent\",\n",
    "    \"stuntman\",\n",
    "    \"recorded with Linda Ronstadt\",\n",
    "    \"multitrack tape recording\",\n",
    "    \"recording studio owner\",\n",
    "    \"record label founder\",\n",
    "    \"record label owner\",\n",
    "    \"matchbox\",\n",
    "    \"chairman of San Diego Comic Con International\",\n",
    "    \"reality TV personality\",\n",
    "    \"Internet personality\",\n",
    "    \"theatre personality\",\n",
    "    \"TV personality\",\n",
    "    \"flag\",\n",
    "    \"harmonica player\",\n",
    "    \"bukkehorn player\",\n",
    "    \"banjo player\",\n",
    "    \"organ player\",\n",
    "    \"bass player\",\n",
    "    \"concertmaster\",\n",
    "    \"newsreader\",\n",
    "    \"magazine cartoonist\",\n",
    "    \"cartoonist\",\n",
    "]\n",
    "arts = sorted(list(set(arts)), key=lambda x: len(x), reverse=True)\n",
    "\n",
    "sports = [\n",
    "    \"coach\",\n",
    "    \"executive\",\n",
    "    \"sports official\",\n",
    "    \"professional wrestler\",\n",
    "    \"endurance runner\",\n",
    "    \"runner\",\n",
    "    \"member of the Pro Football Hall of Fame\",\n",
    "    \"a member of the Baseball Hall of Fame\",\n",
    "    \"Sports Hall of Fame\",\n",
    "    \"FIBA Hall of Fame\",\n",
    "    \"holder of nine world records\",\n",
    "    \"world record holder for\",\n",
    "    \"world record holder\",\n",
    "    \"world champion kickboxer\",\n",
    "    \"boxing referee\",\n",
    "    \"boxer\",\n",
    "    \"former Clemson football player\",\n",
    "    \"table tennis player\",\n",
    "    \"rugby union player\",\n",
    "    \"ice hockey player\",\n",
    "    \"baseball player\",\n",
    "    \"handball player\",\n",
    "    \"football player\",\n",
    "    \"cricket player\",\n",
    "    \"bridge player\",\n",
    "    \"polo player\",\n",
    "]\n",
    "sports = sorted(list(set(sports)), key=lambda x: len(x), reverse=True)\n",
    "\n",
    "sciences = [\n",
    "    \"physician\",\n",
    "    \"psychiatrist\",\n",
    "    \"computer scientist\",\n",
    "    \"computer engineer\",\n",
    "    \"behavioral physiologist\",\n",
    "    \"micropaleontologist\",\n",
    "    \"plant pathologist\",\n",
    "    \"parapsychologist\",\n",
    "    \"pharmacologist\",\n",
    "    \"epileptologist\",\n",
    "    \"copepodologist\",\n",
    "    \"epistemologist\",\n",
    "    \"meteorologist\",\n",
    "    \"criminologist\",\n",
    "    \"methodologist\",\n",
    "    \"ornithologist\",\n",
    "    \"haematologist\",\n",
    "    \"entomologist\",\n",
    "    \"neurologist\",\n",
    "    \"cosmologist\",\n",
    "    \"pathologist\",\n",
    "    \"serologist\",\n",
    "    \"sexologist\",\n",
    "    \"ufologist\",\n",
    "    \"ecologist\",\n",
    "    \"clinical psychologist\",\n",
    "    \"petrologist\",\n",
    "    \"neuroscientist\",\n",
    "    \"neurologist\",\n",
    "    \"designer of GPS\",\n",
    "    \"Higgs boson theorist\",\n",
    "]\n",
    "sciences = sorted(list(set(sciences)), key=lambda x: len(x), reverse=True)\n",
    "\n",
    "business_farming = [\n",
    "    \"inventor of the fast food system\",\n",
    "    \"investment banker\",\n",
    "    \"banker\",\n",
    "    'Apple as the \"computer for the rest of us\"',\n",
    "    \"restaurateur\",\n",
    "    \"farmer\",\n",
    "    \"multi millionaire industrialist\",\n",
    "    \"industrialist\",\n",
    "    \"Director of the Institute of Business Administration\",\n",
    "]\n",
    "business_farming = sorted(\n",
    "    list(set(business_farming)), key=lambda x: len(x), reverse=True\n",
    ")\n",
    "\n",
    "academia_humanities = [\n",
    "    \"teacher\",\n",
    "    \"inventor of Cued Speech\",\n",
    "    \"Sciences of\",\n",
    "    \"anthropologist\",\n",
    "    \"anthropologist\",\n",
    "    \"archaeologist\",\n",
    "    \"paremiologist\",\n",
    "    \"japanologist\",\n",
    "    \"philologist\",\n",
    "    \"museologist\",\n",
    "    \"indologist\",\n",
    "    \"sinologist\",\n",
    "    \"evolutionary theorist\",\n",
    "    \"intellectual\",\n",
    "    \"linguist\",\n",
    "]\n",
    "academia_humanities = sorted(\n",
    "    list(set(academia_humanities)), key=lambda x: len(x), reverse=True\n",
    ")\n",
    "\n",
    "law_enf_military_operator = [\n",
    "    \"cryptologist\",\n",
    "    \"intelligence officer\",\n",
    "    \"military officer\",\n",
    "    \"police officer\",\n",
    "    \"army officer\",\n",
    "    \"Army officer\",\n",
    "    \"veteran of World War II\",\n",
    "    \"veteran of World War I\",\n",
    "    \"World War II veteran\",\n",
    "    \"World War I veteran\",\n",
    "    \"oldest WWII veteran\",\n",
    "    \"war veteran\",\n",
    "    \"Atmospheric Administration Commissioned Officer Corps\",\n",
    "    \"Colditz prisoner\",\n",
    "    \"prisoner of war\",\n",
    "]\n",
    "law_enf_military_operator = sorted(\n",
    "    list(set(law_enf_military_operator)), key=lambda x: len(x), reverse=True\n",
    ")\n",
    "\n",
    "spiritual = [\n",
    "    \"motivational speaker\",\n",
    "    \"gospel\",\n",
    "    \"Anglican priest\",\n",
    "    \"Wiccan priest\",\n",
    "    \"Jesuit priest\",\n",
    "    \"priestess\",\n",
    "    \"priest\",\n",
    "    \"archbishop of the Anglican Church of Papua New\",\n",
    "    \"the Cayman Islands\",\n",
    "    \"Brecon\",\n",
    "]\n",
    "spiritual = sorted(list(set(spiritual)), key=lambda x: len(x), reverse=True)\n",
    "\n",
    "social = [\n",
    "    \"humanitarian\",\n",
    "    \"social worker\",\n",
    "    \"project designer in the Boy Scouts of\",\n",
    "]\n",
    "social = sorted(list(set(social)), key=lambda x: len(x), reverse=True)\n",
    "\n",
    "crime = [\n",
    "    \"convicted fraudster\",\n",
    "    \"convicted terrorist\",\n",
    "    \"convicted criminal\",\n",
    "    \"convicted perjurer\",\n",
    "    \"convicted rapist\",\n",
    "    \"extortionist\",\n",
    "]\n",
    "crime = sorted(list(set(crime)), key=lambda x: len(x), reverse=True)\n",
    "\n",
    "event_record_other = [\n",
    "    \"documentary subject\",\n",
    "]\n",
    "event_record_other = sorted(\n",
    "    list(set(event_record_other)), key=lambda x: len(x), reverse=True\n",
    ")\n",
    "\n",
    "other_species = []\n",
    "other_species = sorted(list(set(other_species)), key=lambda x: len(x), reverse=True)\n",
    "\n",
    "cause_of_death = [\n",
    "    \"hypertension\",\n",
    "    \"acute myeloid leukemia\",\n",
    "    \"leukemia\",\n",
    "    \"stabbed\",\n",
    "    \"run motorcycle accident\",\n",
    "    \"run car accident\",\n",
    "    \"run car crash\",\n",
    "    \"run accident\",\n",
    "    \"murdered by the Lukashenko regime\",\n",
    "    \"murdered\",\n",
    "    \"liver related problems\",\n",
    "    \"respiratory problems\",\n",
    "    \"COPD\",\n",
    "    \"shot\",\n",
    "    \"pancreatitis\",\n",
    "    \"encephalitis\",\n",
    "    \"hepatitis B\",\n",
    "    \"hepatitis C\",\n",
    "    \"peritonitis\",\n",
    "    \"meningitis\",\n",
    "    \"hepatitis\",\n",
    "    \"sepsis\",\n",
    "    \"lung ailments\",\n",
    "    \"lung ailment\",\n",
    "    \"lung transplant surgery\",\n",
    "    \"lung infections\",\n",
    "    \"lung condition\",\n",
    "    \"urinary tract infection\",\n",
    "    \"brain infection\",\n",
    "    \"chest infection\",\n",
    "    \"lung infections\",\n",
    "    \"liver infection\",\n",
    "    \"tuberculosis\",\n",
    "    \"cirrhosis\",\n",
    "]\n",
    "cause_of_death = sorted(list(set(cause_of_death)), key=lambda x: len(x), reverse=True)"
   ]
  },
  {
   "cell_type": "code",
   "execution_count": 31,
   "id": "7205795a",
   "metadata": {},
   "outputs": [
    {
     "data": {
      "application/javascript": [
       "\n",
       "            setTimeout(function() {\n",
       "                var nbb_cell_id = 31;\n",
       "                var nbb_unformatted_code = \"# Dropping info_3_1 value for entries with duplicate category value\\ndf.loc[[index for index in df[df[\\\"info_3_1\\\"] == \\\"Technology\\\"].index], \\\"info_3_1\\\"] = \\\"\\\"\\n\\n# Dropping info_3_1 value for entries with duplicate category value\\ndf.loc[\\n    [\\n        index\\n        for index in df[df[\\\"info_3_1\\\"].notna()].index\\n        if \\\"Science\\\" in df.loc[index, \\\"info_3_1\\\"]\\n    ],\\n    \\\"info_3_1\\\",\\n] = \\\"\\\"\\n\\n# Dropping info_3_1 value for entries with duplicate category value\\ndf.loc[[index for index in df[df[\\\"info_3_1\\\"] == \\\"the\\\"].index], \\\"info_3_1\\\"] = \\\"\\\"\\n\\n# Dropping info_3_1 value for entries with duplicate category value\\ndf.loc[[index for index in df[df[\\\"info_3_1\\\"] == \\\"promoter\\\"].index], \\\"info_3_1\\\"] = \\\"\\\"\\n\\n# Dropping info_3_1 value for entries with duplicate category value\\ndf.loc[[index for index in df[df[\\\"info_3_1\\\"] == \\\"s\\\"].index], \\\"info_3_1\\\"] = \\\"\\\"\\n\\n# Dropping info_3_1 value for entries with duplicate category value\\ndf.loc[[index for index in df[df[\\\"info_3_1\\\"] == \\\"all\\\"].index], \\\"info_3_1\\\"] = \\\"\\\"\";\n",
       "                var nbb_formatted_code = \"# Dropping info_3_1 value for entries with duplicate category value\\ndf.loc[[index for index in df[df[\\\"info_3_1\\\"] == \\\"Technology\\\"].index], \\\"info_3_1\\\"] = \\\"\\\"\\n\\n# Dropping info_3_1 value for entries with duplicate category value\\ndf.loc[\\n    [\\n        index\\n        for index in df[df[\\\"info_3_1\\\"].notna()].index\\n        if \\\"Science\\\" in df.loc[index, \\\"info_3_1\\\"]\\n    ],\\n    \\\"info_3_1\\\",\\n] = \\\"\\\"\\n\\n# Dropping info_3_1 value for entries with duplicate category value\\ndf.loc[[index for index in df[df[\\\"info_3_1\\\"] == \\\"the\\\"].index], \\\"info_3_1\\\"] = \\\"\\\"\\n\\n# Dropping info_3_1 value for entries with duplicate category value\\ndf.loc[[index for index in df[df[\\\"info_3_1\\\"] == \\\"promoter\\\"].index], \\\"info_3_1\\\"] = \\\"\\\"\\n\\n# Dropping info_3_1 value for entries with duplicate category value\\ndf.loc[[index for index in df[df[\\\"info_3_1\\\"] == \\\"s\\\"].index], \\\"info_3_1\\\"] = \\\"\\\"\\n\\n# Dropping info_3_1 value for entries with duplicate category value\\ndf.loc[[index for index in df[df[\\\"info_3_1\\\"] == \\\"all\\\"].index], \\\"info_3_1\\\"] = \\\"\\\"\";\n",
       "                var nbb_cells = Jupyter.notebook.get_cells();\n",
       "                for (var i = 0; i < nbb_cells.length; ++i) {\n",
       "                    if (nbb_cells[i].input_prompt_number == nbb_cell_id) {\n",
       "                        if (nbb_cells[i].get_text() == nbb_unformatted_code) {\n",
       "                             nbb_cells[i].set_text(nbb_formatted_code);\n",
       "                        }\n",
       "                        break;\n",
       "                    }\n",
       "                }\n",
       "            }, 500);\n",
       "            "
      ],
      "text/plain": [
       "<IPython.core.display.Javascript object>"
      ]
     },
     "metadata": {},
     "output_type": "display_data"
    }
   ],
   "source": [
    "# Dropping info_3_1 value for entries with duplicate category value\n",
    "df.loc[[index for index in df[df[\"info_3_1\"] == \"Technology\"].index], \"info_3_1\"] = \"\"\n",
    "\n",
    "# Dropping info_3_1 value for entries with duplicate category value\n",
    "df.loc[\n",
    "    [\n",
    "        index\n",
    "        for index in df[df[\"info_3_1\"].notna()].index\n",
    "        if \"Science\" in df.loc[index, \"info_3_1\"]\n",
    "    ],\n",
    "    \"info_3_1\",\n",
    "] = \"\"\n",
    "\n",
    "# Dropping info_3_1 value for entries with duplicate category value\n",
    "df.loc[[index for index in df[df[\"info_3_1\"] == \"the\"].index], \"info_3_1\"] = \"\"\n",
    "\n",
    "# Dropping info_3_1 value for entries with duplicate category value\n",
    "df.loc[[index for index in df[df[\"info_3_1\"] == \"promoter\"].index], \"info_3_1\"] = \"\"\n",
    "\n",
    "# Dropping info_3_1 value for entries with duplicate category value\n",
    "df.loc[[index for index in df[df[\"info_3_1\"] == \"s\"].index], \"info_3_1\"] = \"\"\n",
    "\n",
    "# Dropping info_3_1 value for entries with duplicate category value\n",
    "df.loc[[index for index in df[df[\"info_3_1\"] == \"all\"].index], \"info_3_1\"] = \"\"\n"
   ]
  },
  {
   "cell_type": "markdown",
   "id": "c08636d4",
   "metadata": {},
   "source": [
    "#### Creating `known_for_dict` Dictionary of Category Keys and Specific Role Lists of Values"
   ]
  },
  {
   "cell_type": "code",
   "execution_count": 32,
   "id": "9dd82018",
   "metadata": {},
   "outputs": [
    {
     "data": {
      "application/javascript": [
       "\n",
       "            setTimeout(function() {\n",
       "                var nbb_cell_id = 32;\n",
       "                var nbb_unformatted_code = \"# Combining separate lists into one dictionary\\nknown_for_dict = {\\n    \\\"social\\\": social,\\n    \\\"spiritual\\\": spiritual,\\n    \\\"academia_humanities\\\": academia_humanities,\\n    \\\"business_farming\\\": business_farming,\\n    \\\"sciences\\\": sciences,\\n    \\\"politics_govt_law\\\": politics_govt_law,\\n    \\\"law_enf_military_operator\\\": law_enf_military_operator,\\n    \\\"crime\\\": crime,\\n    \\\"event_record_other\\\": event_record_other,\\n    \\\"other_species\\\": other_species,\\n    \\\"arts\\\": arts,\\n    \\\"sports\\\": sports,\\n}\";\n",
       "                var nbb_formatted_code = \"# Combining separate lists into one dictionary\\nknown_for_dict = {\\n    \\\"social\\\": social,\\n    \\\"spiritual\\\": spiritual,\\n    \\\"academia_humanities\\\": academia_humanities,\\n    \\\"business_farming\\\": business_farming,\\n    \\\"sciences\\\": sciences,\\n    \\\"politics_govt_law\\\": politics_govt_law,\\n    \\\"law_enf_military_operator\\\": law_enf_military_operator,\\n    \\\"crime\\\": crime,\\n    \\\"event_record_other\\\": event_record_other,\\n    \\\"other_species\\\": other_species,\\n    \\\"arts\\\": arts,\\n    \\\"sports\\\": sports,\\n}\";\n",
       "                var nbb_cells = Jupyter.notebook.get_cells();\n",
       "                for (var i = 0; i < nbb_cells.length; ++i) {\n",
       "                    if (nbb_cells[i].input_prompt_number == nbb_cell_id) {\n",
       "                        if (nbb_cells[i].get_text() == nbb_unformatted_code) {\n",
       "                             nbb_cells[i].set_text(nbb_formatted_code);\n",
       "                        }\n",
       "                        break;\n",
       "                    }\n",
       "                }\n",
       "            }, 500);\n",
       "            "
      ],
      "text/plain": [
       "<IPython.core.display.Javascript object>"
      ]
     },
     "metadata": {},
     "output_type": "display_data"
    }
   ],
   "source": [
    "# Combining separate lists into one dictionary\n",
    "known_for_dict = {\n",
    "    \"social\": social,\n",
    "    \"spiritual\": spiritual,\n",
    "    \"academia_humanities\": academia_humanities,\n",
    "    \"business_farming\": business_farming,\n",
    "    \"sciences\": sciences,\n",
    "    \"politics_govt_law\": politics_govt_law,\n",
    "    \"law_enf_military_operator\": law_enf_military_operator,\n",
    "    \"crime\": crime,\n",
    "    \"event_record_other\": event_record_other,\n",
    "    \"other_species\": other_species,\n",
    "    \"arts\": arts,\n",
    "    \"sports\": sports,\n",
    "}"
   ]
  },
  {
   "cell_type": "markdown",
   "id": "3dbae3a3",
   "metadata": {},
   "source": [
    "#### Extracting `known_for` Categories and `cause_of_death` Values from `info_3_1`"
   ]
  },
  {
   "cell_type": "code",
   "execution_count": 33,
   "id": "b794a95d",
   "metadata": {},
   "outputs": [
    {
     "name": "stdout",
     "output_type": "stream",
     "text": [
      "There are 25134 values in cause_of_death column.\n",
      "\n",
      "CPU times: total: 20.4 s\n",
      "Wall time: 20.9 s\n"
     ]
    },
    {
     "data": {
      "application/javascript": [
       "\n",
       "            setTimeout(function() {\n",
       "                var nbb_cell_id = 33;\n",
       "                var nbb_unformatted_code = \"%%time\\n\\n# Column to check\\ncolumn = 'info_3_1'\\n\\n# Start dataframe\\ndataframe = df[df[column].notna()]\\n\\n# For loop to find cause in column and extract it to cause_of_death\\nfor cause in cause_of_death:\\n    for index in dataframe.index:\\n        item = df.loc[index, column]\\n        if item:\\n            if cause in item:\\n                if df.loc[index, 'cause_of_death']:\\n                    df.loc[index, 'cause_of_death'] = df.loc[index, 'cause_of_death'] + '/' + cause\\n                    df.loc[index, column] = item.replace(cause, '').strip()\\n                else:\\n                    df.loc[index, 'cause_of_death'] = cause\\n                    df.loc[index, column] = item.replace(cause, '').strip()\\n                \\n                \\n# For loop to find role in column and extract it as category\\nfor category, category_lst in known_for_dict.items():\\n    for role in category_lst:\\n        for index in dataframe.index:\\n                item = df.loc[index, column]\\n                if item:\\n                    if role in item:\\n                        df.loc[index, category] = 1\\n                        df.loc[index, column] = item.replace(role, '').strip()\\n\\n# Calculating num_categories\\ndf[\\\"num_categories\\\"] = df[known_for_dict.keys()].sum(axis=1)\\n\\n# Checking number of cause_of_death values\\nprint(f'There are {df[\\\"cause_of_death\\\"].notna().sum()} values in cause_of_death column.\\\\n')\";\n",
       "                var nbb_formatted_code = \"%%time\\n\\n# Column to check\\ncolumn = 'info_3_1'\\n\\n# Start dataframe\\ndataframe = df[df[column].notna()]\\n\\n# For loop to find cause in column and extract it to cause_of_death\\nfor cause in cause_of_death:\\n    for index in dataframe.index:\\n        item = df.loc[index, column]\\n        if item:\\n            if cause in item:\\n                if df.loc[index, 'cause_of_death']:\\n                    df.loc[index, 'cause_of_death'] = df.loc[index, 'cause_of_death'] + '/' + cause\\n                    df.loc[index, column] = item.replace(cause, '').strip()\\n                else:\\n                    df.loc[index, 'cause_of_death'] = cause\\n                    df.loc[index, column] = item.replace(cause, '').strip()\\n                \\n                \\n# For loop to find role in column and extract it as category\\nfor category, category_lst in known_for_dict.items():\\n    for role in category_lst:\\n        for index in dataframe.index:\\n                item = df.loc[index, column]\\n                if item:\\n                    if role in item:\\n                        df.loc[index, category] = 1\\n                        df.loc[index, column] = item.replace(role, '').strip()\\n\\n# Calculating num_categories\\ndf[\\\"num_categories\\\"] = df[known_for_dict.keys()].sum(axis=1)\\n\\n# Checking number of cause_of_death values\\nprint(f'There are {df[\\\"cause_of_death\\\"].notna().sum()} values in cause_of_death column.\\\\n')\";\n",
       "                var nbb_cells = Jupyter.notebook.get_cells();\n",
       "                for (var i = 0; i < nbb_cells.length; ++i) {\n",
       "                    if (nbb_cells[i].input_prompt_number == nbb_cell_id) {\n",
       "                        if (nbb_cells[i].get_text() == nbb_unformatted_code) {\n",
       "                             nbb_cells[i].set_text(nbb_formatted_code);\n",
       "                        }\n",
       "                        break;\n",
       "                    }\n",
       "                }\n",
       "            }, 500);\n",
       "            "
      ],
      "text/plain": [
       "<IPython.core.display.Javascript object>"
      ]
     },
     "metadata": {},
     "output_type": "display_data"
    }
   ],
   "source": [
    "%%time\n",
    "\n",
    "# Column to check\n",
    "column = 'info_3_1'\n",
    "\n",
    "# Start dataframe\n",
    "dataframe = df[df[column].notna()]\n",
    "\n",
    "# For loop to find cause in column and extract it to cause_of_death\n",
    "for cause in cause_of_death:\n",
    "    for index in dataframe.index:\n",
    "        item = df.loc[index, column]\n",
    "        if item:\n",
    "            if cause in item:\n",
    "                if df.loc[index, 'cause_of_death']:\n",
    "                    df.loc[index, 'cause_of_death'] = df.loc[index, 'cause_of_death'] + '/' + cause\n",
    "                    df.loc[index, column] = item.replace(cause, '').strip()\n",
    "                else:\n",
    "                    df.loc[index, 'cause_of_death'] = cause\n",
    "                    df.loc[index, column] = item.replace(cause, '').strip()\n",
    "                \n",
    "                \n",
    "# For loop to find role in column and extract it as category\n",
    "for category, category_lst in known_for_dict.items():\n",
    "    for role in category_lst:\n",
    "        for index in dataframe.index:\n",
    "                item = df.loc[index, column]\n",
    "                if item:\n",
    "                    if role in item:\n",
    "                        df.loc[index, category] = 1\n",
    "                        df.loc[index, column] = item.replace(role, '').strip()\n",
    "\n",
    "# Calculating num_categories\n",
    "df[\"num_categories\"] = df[known_for_dict.keys()].sum(axis=1)\n",
    "\n",
    "# Checking number of cause_of_death values\n",
    "print(f'There are {df[\"cause_of_death\"].notna().sum()} values in cause_of_death column.\\n')"
   ]
  },
  {
   "cell_type": "markdown",
   "id": "3404b57b",
   "metadata": {},
   "source": [
    "#### Checking Updated `num_categories` Value Counts"
   ]
  },
  {
   "cell_type": "code",
   "execution_count": 34,
   "id": "9f0e2dc1",
   "metadata": {},
   "outputs": [
    {
     "data": {
      "text/plain": [
       "1    84685\n",
       "2    12607\n",
       "3      734\n",
       "0        8\n",
       "4        6\n",
       "Name: num_categories, dtype: int64"
      ]
     },
     "execution_count": 34,
     "metadata": {},
     "output_type": "execute_result"
    },
    {
     "data": {
      "application/javascript": [
       "\n",
       "            setTimeout(function() {\n",
       "                var nbb_cell_id = 34;\n",
       "                var nbb_unformatted_code = \"# Checking Updated num_categories Value Counts\\ndf[\\\"num_categories\\\"].value_counts()\";\n",
       "                var nbb_formatted_code = \"# Checking Updated num_categories Value Counts\\ndf[\\\"num_categories\\\"].value_counts()\";\n",
       "                var nbb_cells = Jupyter.notebook.get_cells();\n",
       "                for (var i = 0; i < nbb_cells.length; ++i) {\n",
       "                    if (nbb_cells[i].input_prompt_number == nbb_cell_id) {\n",
       "                        if (nbb_cells[i].get_text() == nbb_unformatted_code) {\n",
       "                             nbb_cells[i].set_text(nbb_formatted_code);\n",
       "                        }\n",
       "                        break;\n",
       "                    }\n",
       "                }\n",
       "            }, 500);\n",
       "            "
      ],
      "text/plain": [
       "<IPython.core.display.Javascript object>"
      ]
     },
     "metadata": {},
     "output_type": "display_data"
    }
   ],
   "source": [
    "# Checking Updated num_categories Value Counts\n",
    "df[\"num_categories\"].value_counts()"
   ]
  },
  {
   "cell_type": "markdown",
   "id": "a513485a",
   "metadata": {},
   "source": [
    "#### Observations:\n",
    "- We will proceed to rebuild `known_for_dict` and `cause_of_death` for the next iteration."
   ]
  },
  {
   "cell_type": "markdown",
   "id": "76cf71c5",
   "metadata": {},
   "source": [
    "#### Finding `known_for` Roles and `cause_of_death` in `info_3_1`"
   ]
  },
  {
   "cell_type": "code",
   "execution_count": 35,
   "id": "2918553f",
   "metadata": {},
   "outputs": [
    {
     "data": {
      "application/javascript": [
       "\n",
       "            setTimeout(function() {\n",
       "                var nbb_cell_id = 35;\n",
       "                var nbb_unformatted_code = \"# # Obtaining values for column and their counts\\n# roles_cause_list = df[\\\"info_3_1\\\"].value_counts(ascending=True).index.tolist()\";\n",
       "                var nbb_formatted_code = \"# # Obtaining values for column and their counts\\n# roles_cause_list = df[\\\"info_3_1\\\"].value_counts(ascending=True).index.tolist()\";\n",
       "                var nbb_cells = Jupyter.notebook.get_cells();\n",
       "                for (var i = 0; i < nbb_cells.length; ++i) {\n",
       "                    if (nbb_cells[i].input_prompt_number == nbb_cell_id) {\n",
       "                        if (nbb_cells[i].get_text() == nbb_unformatted_code) {\n",
       "                             nbb_cells[i].set_text(nbb_formatted_code);\n",
       "                        }\n",
       "                        break;\n",
       "                    }\n",
       "                }\n",
       "            }, 500);\n",
       "            "
      ],
      "text/plain": [
       "<IPython.core.display.Javascript object>"
      ]
     },
     "metadata": {},
     "output_type": "display_data"
    }
   ],
   "source": [
    "# # Obtaining values for column and their counts\n",
    "# roles_cause_list = df[\"info_3_1\"].value_counts(ascending=True).index.tolist()"
   ]
  },
  {
   "cell_type": "code",
   "execution_count": 36,
   "id": "f610d1f2",
   "metadata": {},
   "outputs": [
    {
     "data": {
      "application/javascript": [
       "\n",
       "            setTimeout(function() {\n",
       "                var nbb_cell_id = 36;\n",
       "                var nbb_unformatted_code = \"# # Code to check each value\\n# roles_cause_list.pop()\";\n",
       "                var nbb_formatted_code = \"# # Code to check each value\\n# roles_cause_list.pop()\";\n",
       "                var nbb_cells = Jupyter.notebook.get_cells();\n",
       "                for (var i = 0; i < nbb_cells.length; ++i) {\n",
       "                    if (nbb_cells[i].input_prompt_number == nbb_cell_id) {\n",
       "                        if (nbb_cells[i].get_text() == nbb_unformatted_code) {\n",
       "                             nbb_cells[i].set_text(nbb_formatted_code);\n",
       "                        }\n",
       "                        break;\n",
       "                    }\n",
       "                }\n",
       "            }, 500);\n",
       "            "
      ],
      "text/plain": [
       "<IPython.core.display.Javascript object>"
      ]
     },
     "metadata": {},
     "output_type": "display_data"
    }
   ],
   "source": [
    "# # Code to check each value\n",
    "# roles_cause_list.pop()"
   ]
  },
  {
   "cell_type": "code",
   "execution_count": 37,
   "id": "dc94a7c2",
   "metadata": {},
   "outputs": [
    {
     "data": {
      "application/javascript": [
       "\n",
       "            setTimeout(function() {\n",
       "                var nbb_cell_id = 37;\n",
       "                var nbb_unformatted_code = \"# # Create specific_roles_cause_list for above popped value\\n# specific_roles_cause_list = (\\n#     df.loc[\\n#         [\\n#             index\\n#             for index in df[df[\\\"info_3_1\\\"].notna()].index\\n#             if \\\"cardinal\\\" in df.loc[index, \\\"info_3_1\\\"]\\n#             #             and df.loc[index, \\\"politics_govt_law\\\"] == 0\\n#             #             and df.loc[index, \\\"arts\\\"] == 0\\n#             #             and df.loc[index, \\\"sciences\\\"] == 0\\n#             #             and df.loc[index, \\\"spiritual\\\"] == 0\\n#             #             and df.loc[index, \\\"law_enf_military_operator\\\"] == 0\\n#             #             and df.loc[index, \\\"sports\\\"] == 0\\n#             #             and df.loc[index, \\\"event_record_other\\\"] == 0\\n#             #             and df.loc[index, \\\"crime\\\"] == 0\\n#             #             and df.loc[index, \\\"academia_humanities\\\"] == 0\\n#             #             and df.loc[index, \\\"business_farming\\\"] == 0\\n#             #             and df.loc[index, \\\"other_species\\\"] == 0\\n#             #             and df.loc[index, \\\"num_categories\\\"] == 0\\n#         ],\\n#         \\\"info_3_1\\\",\\n#     ]\\n#     .value_counts()\\n#     .index.tolist()\\n# )\";\n",
       "                var nbb_formatted_code = \"# # Create specific_roles_cause_list for above popped value\\n# specific_roles_cause_list = (\\n#     df.loc[\\n#         [\\n#             index\\n#             for index in df[df[\\\"info_3_1\\\"].notna()].index\\n#             if \\\"cardinal\\\" in df.loc[index, \\\"info_3_1\\\"]\\n#             #             and df.loc[index, \\\"politics_govt_law\\\"] == 0\\n#             #             and df.loc[index, \\\"arts\\\"] == 0\\n#             #             and df.loc[index, \\\"sciences\\\"] == 0\\n#             #             and df.loc[index, \\\"spiritual\\\"] == 0\\n#             #             and df.loc[index, \\\"law_enf_military_operator\\\"] == 0\\n#             #             and df.loc[index, \\\"sports\\\"] == 0\\n#             #             and df.loc[index, \\\"event_record_other\\\"] == 0\\n#             #             and df.loc[index, \\\"crime\\\"] == 0\\n#             #             and df.loc[index, \\\"academia_humanities\\\"] == 0\\n#             #             and df.loc[index, \\\"business_farming\\\"] == 0\\n#             #             and df.loc[index, \\\"other_species\\\"] == 0\\n#             #             and df.loc[index, \\\"num_categories\\\"] == 0\\n#         ],\\n#         \\\"info_3_1\\\",\\n#     ]\\n#     .value_counts()\\n#     .index.tolist()\\n# )\";\n",
       "                var nbb_cells = Jupyter.notebook.get_cells();\n",
       "                for (var i = 0; i < nbb_cells.length; ++i) {\n",
       "                    if (nbb_cells[i].input_prompt_number == nbb_cell_id) {\n",
       "                        if (nbb_cells[i].get_text() == nbb_unformatted_code) {\n",
       "                             nbb_cells[i].set_text(nbb_formatted_code);\n",
       "                        }\n",
       "                        break;\n",
       "                    }\n",
       "                }\n",
       "            }, 500);\n",
       "            "
      ],
      "text/plain": [
       "<IPython.core.display.Javascript object>"
      ]
     },
     "metadata": {},
     "output_type": "display_data"
    }
   ],
   "source": [
    "# # Create specific_roles_cause_list for above popped value\n",
    "# specific_roles_cause_list = (\n",
    "#     df.loc[\n",
    "#         [\n",
    "#             index\n",
    "#             for index in df[df[\"info_3_1\"].notna()].index\n",
    "#             if \"cardinal\" in df.loc[index, \"info_3_1\"]\n",
    "#             #             and df.loc[index, \"politics_govt_law\"] == 0\n",
    "#             #             and df.loc[index, \"arts\"] == 0\n",
    "#             #             and df.loc[index, \"sciences\"] == 0\n",
    "#             #             and df.loc[index, \"spiritual\"] == 0\n",
    "#             #             and df.loc[index, \"law_enf_military_operator\"] == 0\n",
    "#             #             and df.loc[index, \"sports\"] == 0\n",
    "#             #             and df.loc[index, \"event_record_other\"] == 0\n",
    "#             #             and df.loc[index, \"crime\"] == 0\n",
    "#             #             and df.loc[index, \"academia_humanities\"] == 0\n",
    "#             #             and df.loc[index, \"business_farming\"] == 0\n",
    "#             #             and df.loc[index, \"other_species\"] == 0\n",
    "#             #             and df.loc[index, \"num_categories\"] == 0\n",
    "#         ],\n",
    "#         \"info_3_1\",\n",
    "#     ]\n",
    "#     .value_counts()\n",
    "#     .index.tolist()\n",
    "# )"
   ]
  },
  {
   "cell_type": "code",
   "execution_count": 38,
   "id": "f8a6ec5c",
   "metadata": {},
   "outputs": [
    {
     "data": {
      "application/javascript": [
       "\n",
       "            setTimeout(function() {\n",
       "                var nbb_cell_id = 38;\n",
       "                var nbb_unformatted_code = \"# # Viewing list sorted by descending length to copy to dictionary below and screen values\\n# sorted(specific_roles_cause_list, key=lambda x: len(x), reverse=True)\";\n",
       "                var nbb_formatted_code = \"# # Viewing list sorted by descending length to copy to dictionary below and screen values\\n# sorted(specific_roles_cause_list, key=lambda x: len(x), reverse=True)\";\n",
       "                var nbb_cells = Jupyter.notebook.get_cells();\n",
       "                for (var i = 0; i < nbb_cells.length; ++i) {\n",
       "                    if (nbb_cells[i].input_prompt_number == nbb_cell_id) {\n",
       "                        if (nbb_cells[i].get_text() == nbb_unformatted_code) {\n",
       "                             nbb_cells[i].set_text(nbb_formatted_code);\n",
       "                        }\n",
       "                        break;\n",
       "                    }\n",
       "                }\n",
       "            }, 500);\n",
       "            "
      ],
      "text/plain": [
       "<IPython.core.display.Javascript object>"
      ]
     },
     "metadata": {},
     "output_type": "display_data"
    }
   ],
   "source": [
    "# # Viewing list sorted by descending length to copy to dictionary below and screen values\n",
    "# sorted(specific_roles_cause_list, key=lambda x: len(x), reverse=True)"
   ]
  },
  {
   "cell_type": "code",
   "execution_count": 39,
   "id": "36ac6e14",
   "metadata": {},
   "outputs": [
    {
     "data": {
      "application/javascript": [
       "\n",
       "            setTimeout(function() {\n",
       "                var nbb_cell_id = 39;\n",
       "                var nbb_unformatted_code = \"# # Example code to quick-check a specific entry\\n# df[df[\\\"info_3_1\\\"] == \\\"cardinal\\\"]\";\n",
       "                var nbb_formatted_code = \"# # Example code to quick-check a specific entry\\n# df[df[\\\"info_3_1\\\"] == \\\"cardinal\\\"]\";\n",
       "                var nbb_cells = Jupyter.notebook.get_cells();\n",
       "                for (var i = 0; i < nbb_cells.length; ++i) {\n",
       "                    if (nbb_cells[i].input_prompt_number == nbb_cell_id) {\n",
       "                        if (nbb_cells[i].get_text() == nbb_unformatted_code) {\n",
       "                             nbb_cells[i].set_text(nbb_formatted_code);\n",
       "                        }\n",
       "                        break;\n",
       "                    }\n",
       "                }\n",
       "            }, 500);\n",
       "            "
      ],
      "text/plain": [
       "<IPython.core.display.Javascript object>"
      ]
     },
     "metadata": {},
     "output_type": "display_data"
    }
   ],
   "source": [
    "# # Example code to quick-check a specific entry\n",
    "# df[df[\"info_3_1\"] == \"cardinal\"]"
   ]
  },
  {
   "cell_type": "markdown",
   "id": "42b131a2",
   "metadata": {},
   "source": [
    "#### Creating Lists for Each `known_for` Category and for `cause_of_death`"
   ]
  },
  {
   "cell_type": "code",
   "execution_count": 40,
   "id": "44d030e0",
   "metadata": {},
   "outputs": [
    {
     "data": {
      "application/javascript": [
       "\n",
       "            setTimeout(function() {\n",
       "                var nbb_cell_id = 40;\n",
       "                var nbb_unformatted_code = \"# Creating lists for each category and sorting by decreasing length and removing duplicates\\n\\npolitics_govt_law = [\\n    \\\"political corruption was the subject of the Flood Tribunal\\\",\\n    \\\"leader of main political opposition party\\\",\\n    \\\"geopolitical energy specialist\\\",\\n    \\\"political consultant\\\",\\n    \\\"political theorist\\\",\\n    \\\"political analyst\\\",\\n    \\\"political figure\\\",\\n    \\\"political\\\",\\n    \\\"missile development\\\",\\n    \\\"development\\\",\\n    \\\"delegate to the National People Congress\\\",\\n    \\\"delegate to the Arab League\\\",\\n    \\\"three time MP\\\",\\n    \\\"MP\\\",\\n    \\\"Planning\\\",\\n    \\\"pacifist\\\",\\n    \\\"Agriculture Organization\\\",\\n    \\\"presidential primary candidate\\\",\\n    \\\"presidential candidate\\\",\\n    \\\"presidential adviser\\\",\\n    \\\"Vice Minister of the Ministry of Water Resources\\\",\\n    \\\"Executive Vice Mayor of Beijing\\\",\\n    \\\"Vice Presidential nominee\\\",\\n    \\\"Vice Minister of the Ministry of Water Resources\\\",\\n    \\\"Prime Minister of the Donetsk People Republic\\\",\\n    \\\"acting Minister of Internal Affairs of\\\",\\n    \\\"Consumer Protection Minister\\\",\\n    \\\"Minister for East Affairs\\\",\\n    \\\"Islamic Affairs Minister\\\",\\n    \\\"nine term Prime Minister\\\",\\n    \\\"Federalism Minister of a\\\",\\n    \\\"Minister of Employment\\\",\\n    \\\"Deputy Prime Minister\\\",\\n    \\\"Prime Minister of the\\\",\\n    \\\"Minister of Borders\\\",\\n    \\\"Prime Minister\\\",\\n    \\\"Health\\\",\\n    \\\"founder of Drachmi Democratic Movement Five Stars\\\",\\n    \\\"founder of the National Regeneration Movement\\\",\\n    \\\"founder of the Council for a Beautiful\\\",\\n    \\\"co founder of Jatiya Samajtantrik Dal\\\",\\n    \\\"founder of the Progress Party\\\",\\n    \\\"co founder of the Mass Party\\\",\\n    \\\"founder of Occupy Pedophilia\\\",\\n    \\\"founder of Common Cause\\\",\\n    \\\"co founder of the PSDB\\\",\\n    \\\"co founder of the Gapminder Foundation\\\",\\n    \\\"natural resources\\\",\\n    \\\"Administration\\\",\\n    \\\"minister of agriculture\\\",\\n    \\\"Agriculture Organization\\\",\\n    \\\"defector\\\",\\n    \\\"first child of civil rights leader Martin Luther King Jr\\\",\\n    \\\"leader of main political opposition party\\\",\\n    \\\"widow of fascist leader Oswald Mosley\\\",\\n    \\\"leader of the Mothers of Srebrenica\\\",\\n    \\\"leader of the Independent Party\\\",\\n    \\\"prominent Pashtun leader\\\",\\n    \\\"revolutionary leader\\\",\\n    \\\"secessionist leader\\\",\\n    \\\"civil rights leader\\\",\\n    \\\"traditional leader\\\",\\n    \\\"peasant leader\\\",\\n    \\\"tribal leader\\\",\\n    \\\"labor leader\\\",\\n    \\\"reformed Ku Klux Klan leader\\\",\\n    \\\"community leader\\\",\\n    \\\"Consumer Affairs\\\",\\n    \\\"Clerk of the Crown in Chancery\\\",\\n    \\\"Nobel Peace Prize winner\\\",\\n    \\\"Landtag of North Rhine Westphalia\\\",\\n    \\\"chairman of the Communist Party of\\\",\\n    \\\"chairman of Memorial\\\",\\n    \\\"chairman of the Ocean Affairs Council\\\",\\n    \\\"the United Nations Development Program\\\",\\n    \\\"Urban Development\\\",\\n    \\\"Rural Development\\\",\\n    \\\"Development\\\",\\n    \\\"Toronto city councillor\\\",\\n    \\\"the General Secretary of the National Union of Railwaymen\\\",\\n]\\npolitics_govt_law = sorted(\\n    list(set(politics_govt_law)), key=lambda x: len(x), reverse=True\\n)\\n\\narts = [\\n    \\\"commentator\\\",\\n    \\\"a pioneer of electronic music\\\",\\n    \\\"early music specialist\\\",\\n    \\\"popular music\\\",\\n    \\\"music\\\",\\n    \\\"drama\\\",\\n    \\\"subject of the Oscar winning animated short\\\",\\n    \\\"animator\\\",\\n    \\\"storyteller\\\",\\n    \\\"cinematographer\\\",\\n    \\\"bibliographer\\\",\\n    \\\"mastering engineer\\\",\\n    \\\"satirist\\\",\\n    \\\"CBS Vice President\\\",\\n    \\\"game show panelist\\\",\\n    \\\"panelist\\\",\\n    \\\"narrator of the PBS series\\\",\\n    \\\"narrator\\\",\\n    \\\"co founder of the Chicago Surrealist Group\\\",\\n    \\\"co founder of The Mamas & the Papas\\\",\\n    \\\"co founder of Disneyland Records\\\",\\n    \\\"founder of Food Network\\\",\\n    \\\"co founder of magazine\\\",\\n    \\\"founder of fratricide\\\",\\n    \\\"founder of Apotex\\\",\\n    \\\"camera operator\\\",\\n    \\\"silk screen printer\\\",\\n    \\\"screenplays\\\",\\n    \\\"leader of the Philharmonia Orchestra\\\",\\n    \\\"Walk of Fame\\\",\\n    \\\"Pullitzer Prize winner\\\",\\n    \\\"Pulitzer Prize winner\\\",\\n    \\\"pageant winner\\\",\\n    \\\"Grammy winner\\\",\\n    \\\"Tony winner\\\",\\n    \\\"Prince Claus Award winner\\\",\\n    \\\"clavichordist\\\",\\n    \\\"Gracie Allen\\\",\\n    \\\"chairman of Sanlih E Television\\\",\\n    \\\"Marie Curie\\\",\\n]\\narts = sorted(list(set(arts)), key=lambda x: len(x), reverse=True)\\n\\nsports = [\\n    \\\"official\\\",\\n    \\\"trainer\\\",\\n    \\\"medical delegate\\\",\\n    \\\"bodybuilder\\\",\\n    \\\"co founder of the Marathon\\\",\\n    \\\"founder of Gresini Racing\\\",\\n    \\\"Commonwealth Games gold medallist\\\",\\n    \\\"championships bronze medalist\\\",\\n    \\\"Commonwealth silver medalist\\\",\\n    \\\"bronze medallist\\\",\\n    \\\"silver medallist\\\",\\n    \\\"bronze medalist\\\",\\n    \\\"silver medalist\\\",\\n    \\\"expedition leader\\\",\\n    \\\"raced Triple Crown champion\\\",\\n    \\\"two time Boat Race winner\\\",\\n    \\\"chairman of the All Jumping Course\\\",\\n    \\\"chairman of Polo\\\",\\n    \\\"World Boxing Council light heavyweight champion\\\",\\n    \\\"WBC world light middleweight champion\\\",\\n    \\\"WBC Bantamweight Champion\\\",\\n    \\\"WBC heavyweight champion\\\",\\n]\\nsports = sorted(list(set(sports)), key=lambda x: len(x), reverse=True)\\n\\nsciences = [\\n    \\\"inventor\\\",\\n    \\\"medical researcher\\\",\\n    \\\"conspiracy theory researcher\\\",\\n    \\\"designer\\\",\\n    \\\"co founder of the CSI\\\",\\n    \\\"founder of the NASL\\\",\\n    \\\"proponent of natural childbirth\\\",\\n    \\\"naturalist\\\",\\n    \\\"the physical properties of materials\\\",\\n    \\\"physics Nobel prize winner\\\",\\n    \\\"geophysicist\\\",\\n    \\\"physicist\\\",\\n    \\\"physics Nobel prize winner\\\",\\n]\\nsciences = sorted(list(set(sciences)), key=lambda x: len(x), reverse=True)\\n\\nbusiness_farming = [\\n    \\\"hotelier\\\",\\n    \\\"co founder of INSEAD\\\",\\n    \\\"founder of Berkley\\\",\\n    \\\"co founder of Pat King of Steaks cheesesteak emporium\\\",\\n    \\\"founder of R J Corman Railroad Group\\\",\\n    \\\"co founder of Bing Lee superstores\\\",\\n    \\\"founder of the Hyundai Group\\\",\\n    \\\"co founder of Wanxiang\\\",\\n    \\\"co founder of Garmin\\\",\\n    \\\"founder of Biovail\\\",\\n    \\\"chairman of Airways from to\\\",\\n    \\\"chairman of Imasco\\\",\\n    \\\"chairman of NEC\\\",\\n    \\\"chairman of off price clothier SYMS\\\",\\n    \\\"chairman of The Leela Palaces\\\",\\n    \\\"chairman of Intel Corporation\\\",\\n    \\\"chairman of The Swatch Group\\\",\\n    \\\"chairman of Trident Seafoods\\\",\\n    \\\"chairman of Sandals Resorts\\\",\\n    \\\"chairman of Biltmore Farms\\\",\\n    \\\"chairman of Banco Safra\\\",\\n    \\\"chairman of Chen Hsong\\\",\\n    \\\"chairman of Alltech\\\",\\n    \\\"chairman of IDG\\\",\\n    \\\"Santa Fe Railway\\\",\\n]\\nbusiness_farming = sorted(\\n    list(set(business_farming)), key=lambda x: len(x), reverse=True\\n)\\n\\nacademia_humanities = [\\n    \\\"literary theorist\\\",\\n    \\\"theorist\\\",\\n    \\\"lexicographer\\\",\\n    \\\"epigraphist\\\",\\n    \\\"geographer\\\",\\n    \\\"Vice Chancellor of University of Oxford\\\",\\n    \\\"founder of Project Gutenberg\\\",\\n    \\\"librarian\\\",\\n    \\\"folklorist\\\",\\n    \\\"a champion of culture\\\",\\n    \\\"head of the Tamarind Institute at the University of New\\\",\\n    \\\"Vice Chancellor of University of Oxford\\\",\\n    \\\"chancellor of Sathyabama University\\\",\\n    \\\"president of Brandeis University\\\",\\n    \\\"Rector of the Central University\\\",\\n    \\\"president of Emory University\\\",\\n    \\\"Warden of Durham University\\\",\\n    \\\"Wichita State University\\\",\\n    \\\"the University of Iowa\\\",\\n    \\\"Temple University\\\",\\n    \\\"State University\\\",\\n    \\\"Akal University\\\",\\n]\\nacademia_humanities = sorted(\\n    list(set(academia_humanities)), key=lambda x: len(x), reverse=True\\n)\\n\\nlaw_enf_military_operator = [\\n    \\\"cryptographer\\\",\\n    \\\"Minister of National Defence\\\",\\n    \\\"Defense Minister of South\\\",\\n    \\\"Defense Minister\\\",\\n    \\\"founder of militant organization Fatah\\\",\\n    \\\"founder of the Experimental Aircraft Association\\\",\\n    \\\"founder of the Police Force\\\",\\n    \\\"leader of the Provisional Republican Army\\\",\\n    \\\"leader of For\\u00e7as Populares de Abril\\\",\\n    \\\"the second highest leader of Hamas\\\",\\n    \\\"former leader of PCAA\\\",\\n    \\\"leader of Tehreek e Nafaz e Shariat e Mohammadi\\\",\\n    \\\"son of a  who became a rebel leader\\\",\\n    \\\"leader of the PFLP GC\\\",\\n    \\\"paramilitary leader\\\",\\n]\\nlaw_enf_military_operator = sorted(\\n    list(set(law_enf_military_operator)), key=lambda x: len(x), reverse=True\\n)\\n\\nspiritual = [\\n    \\\"Galloway\\\",\\n    \\\"religious leader\\\",\\n    \\\"sect leader\\\",\\n    \\\"Catholic religious leader\\\",\\n    \\\"ecumenical leader\\\",\\n    \\\"chairman of the Bishops' Conference\\\",\\n    \\\"Lismore\\\",\\n    \\\"self help consultant\\\",\\n    \\\"self help\\\",\\n    \\\"cardinal\\\",\\n]\\nspiritual = sorted(list(set(spiritual)), key=lambda x: len(x), reverse=True)\\n\\nsocial = [\\n    \\\"founder of Neville Fernando Teaching Hospital\\\",\\n    \\\"founder of the Bandhua Mukti Morcha\\\",\\n    \\\"commune founder\\\",\\n    \\\"a leader in the pro  movement\\\",\\n]\\nsocial = sorted(list(set(social)), key=lambda x: len(x), reverse=True)\\n\\ncrime = [\\\"war criminal\\\", \\\"criminal\\\", \\\"cannibal\\\"]\\ncrime = sorted(list(set(crime)), key=lambda x: len(x), reverse=True)\\n\\nevent_record_other = []\\nevent_record_other = sorted(\\n    list(set(event_record_other)), key=lambda x: len(x), reverse=True\\n)\\n\\nother_species = [\\n    \\\"the Preakness Stakes\\\",\\n    \\\"Blue Grass Stakes\\\",\\n    \\\"Preakness Stakes\\\",\\n    \\\"Champagne Stakes\\\",\\n]\\nother_species = sorted(list(set(other_species)), key=lambda x: len(x), reverse=True)\\n\\ncause_of_death = [\\n    \\\"run\\\",\\n    \\\"injuries sustained in a fall\\\",\\n    \\\"fall\\\",\\n    \\\"subsequently found dead\\\",\\n    \\\"is presumed dead\\\",\\n]\\ncause_of_death = sorted(list(set(cause_of_death)), key=lambda x: len(x), reverse=True)\";\n",
       "                var nbb_formatted_code = \"# Creating lists for each category and sorting by decreasing length and removing duplicates\\n\\npolitics_govt_law = [\\n    \\\"political corruption was the subject of the Flood Tribunal\\\",\\n    \\\"leader of main political opposition party\\\",\\n    \\\"geopolitical energy specialist\\\",\\n    \\\"political consultant\\\",\\n    \\\"political theorist\\\",\\n    \\\"political analyst\\\",\\n    \\\"political figure\\\",\\n    \\\"political\\\",\\n    \\\"missile development\\\",\\n    \\\"development\\\",\\n    \\\"delegate to the National People Congress\\\",\\n    \\\"delegate to the Arab League\\\",\\n    \\\"three time MP\\\",\\n    \\\"MP\\\",\\n    \\\"Planning\\\",\\n    \\\"pacifist\\\",\\n    \\\"Agriculture Organization\\\",\\n    \\\"presidential primary candidate\\\",\\n    \\\"presidential candidate\\\",\\n    \\\"presidential adviser\\\",\\n    \\\"Vice Minister of the Ministry of Water Resources\\\",\\n    \\\"Executive Vice Mayor of Beijing\\\",\\n    \\\"Vice Presidential nominee\\\",\\n    \\\"Vice Minister of the Ministry of Water Resources\\\",\\n    \\\"Prime Minister of the Donetsk People Republic\\\",\\n    \\\"acting Minister of Internal Affairs of\\\",\\n    \\\"Consumer Protection Minister\\\",\\n    \\\"Minister for East Affairs\\\",\\n    \\\"Islamic Affairs Minister\\\",\\n    \\\"nine term Prime Minister\\\",\\n    \\\"Federalism Minister of a\\\",\\n    \\\"Minister of Employment\\\",\\n    \\\"Deputy Prime Minister\\\",\\n    \\\"Prime Minister of the\\\",\\n    \\\"Minister of Borders\\\",\\n    \\\"Prime Minister\\\",\\n    \\\"Health\\\",\\n    \\\"founder of Drachmi Democratic Movement Five Stars\\\",\\n    \\\"founder of the National Regeneration Movement\\\",\\n    \\\"founder of the Council for a Beautiful\\\",\\n    \\\"co founder of Jatiya Samajtantrik Dal\\\",\\n    \\\"founder of the Progress Party\\\",\\n    \\\"co founder of the Mass Party\\\",\\n    \\\"founder of Occupy Pedophilia\\\",\\n    \\\"founder of Common Cause\\\",\\n    \\\"co founder of the PSDB\\\",\\n    \\\"co founder of the Gapminder Foundation\\\",\\n    \\\"natural resources\\\",\\n    \\\"Administration\\\",\\n    \\\"minister of agriculture\\\",\\n    \\\"Agriculture Organization\\\",\\n    \\\"defector\\\",\\n    \\\"first child of civil rights leader Martin Luther King Jr\\\",\\n    \\\"leader of main political opposition party\\\",\\n    \\\"widow of fascist leader Oswald Mosley\\\",\\n    \\\"leader of the Mothers of Srebrenica\\\",\\n    \\\"leader of the Independent Party\\\",\\n    \\\"prominent Pashtun leader\\\",\\n    \\\"revolutionary leader\\\",\\n    \\\"secessionist leader\\\",\\n    \\\"civil rights leader\\\",\\n    \\\"traditional leader\\\",\\n    \\\"peasant leader\\\",\\n    \\\"tribal leader\\\",\\n    \\\"labor leader\\\",\\n    \\\"reformed Ku Klux Klan leader\\\",\\n    \\\"community leader\\\",\\n    \\\"Consumer Affairs\\\",\\n    \\\"Clerk of the Crown in Chancery\\\",\\n    \\\"Nobel Peace Prize winner\\\",\\n    \\\"Landtag of North Rhine Westphalia\\\",\\n    \\\"chairman of the Communist Party of\\\",\\n    \\\"chairman of Memorial\\\",\\n    \\\"chairman of the Ocean Affairs Council\\\",\\n    \\\"the United Nations Development Program\\\",\\n    \\\"Urban Development\\\",\\n    \\\"Rural Development\\\",\\n    \\\"Development\\\",\\n    \\\"Toronto city councillor\\\",\\n    \\\"the General Secretary of the National Union of Railwaymen\\\",\\n]\\npolitics_govt_law = sorted(\\n    list(set(politics_govt_law)), key=lambda x: len(x), reverse=True\\n)\\n\\narts = [\\n    \\\"commentator\\\",\\n    \\\"a pioneer of electronic music\\\",\\n    \\\"early music specialist\\\",\\n    \\\"popular music\\\",\\n    \\\"music\\\",\\n    \\\"drama\\\",\\n    \\\"subject of the Oscar winning animated short\\\",\\n    \\\"animator\\\",\\n    \\\"storyteller\\\",\\n    \\\"cinematographer\\\",\\n    \\\"bibliographer\\\",\\n    \\\"mastering engineer\\\",\\n    \\\"satirist\\\",\\n    \\\"CBS Vice President\\\",\\n    \\\"game show panelist\\\",\\n    \\\"panelist\\\",\\n    \\\"narrator of the PBS series\\\",\\n    \\\"narrator\\\",\\n    \\\"co founder of the Chicago Surrealist Group\\\",\\n    \\\"co founder of The Mamas & the Papas\\\",\\n    \\\"co founder of Disneyland Records\\\",\\n    \\\"founder of Food Network\\\",\\n    \\\"co founder of magazine\\\",\\n    \\\"founder of fratricide\\\",\\n    \\\"founder of Apotex\\\",\\n    \\\"camera operator\\\",\\n    \\\"silk screen printer\\\",\\n    \\\"screenplays\\\",\\n    \\\"leader of the Philharmonia Orchestra\\\",\\n    \\\"Walk of Fame\\\",\\n    \\\"Pullitzer Prize winner\\\",\\n    \\\"Pulitzer Prize winner\\\",\\n    \\\"pageant winner\\\",\\n    \\\"Grammy winner\\\",\\n    \\\"Tony winner\\\",\\n    \\\"Prince Claus Award winner\\\",\\n    \\\"clavichordist\\\",\\n    \\\"Gracie Allen\\\",\\n    \\\"chairman of Sanlih E Television\\\",\\n    \\\"Marie Curie\\\",\\n]\\narts = sorted(list(set(arts)), key=lambda x: len(x), reverse=True)\\n\\nsports = [\\n    \\\"official\\\",\\n    \\\"trainer\\\",\\n    \\\"medical delegate\\\",\\n    \\\"bodybuilder\\\",\\n    \\\"co founder of the Marathon\\\",\\n    \\\"founder of Gresini Racing\\\",\\n    \\\"Commonwealth Games gold medallist\\\",\\n    \\\"championships bronze medalist\\\",\\n    \\\"Commonwealth silver medalist\\\",\\n    \\\"bronze medallist\\\",\\n    \\\"silver medallist\\\",\\n    \\\"bronze medalist\\\",\\n    \\\"silver medalist\\\",\\n    \\\"expedition leader\\\",\\n    \\\"raced Triple Crown champion\\\",\\n    \\\"two time Boat Race winner\\\",\\n    \\\"chairman of the All Jumping Course\\\",\\n    \\\"chairman of Polo\\\",\\n    \\\"World Boxing Council light heavyweight champion\\\",\\n    \\\"WBC world light middleweight champion\\\",\\n    \\\"WBC Bantamweight Champion\\\",\\n    \\\"WBC heavyweight champion\\\",\\n]\\nsports = sorted(list(set(sports)), key=lambda x: len(x), reverse=True)\\n\\nsciences = [\\n    \\\"inventor\\\",\\n    \\\"medical researcher\\\",\\n    \\\"conspiracy theory researcher\\\",\\n    \\\"designer\\\",\\n    \\\"co founder of the CSI\\\",\\n    \\\"founder of the NASL\\\",\\n    \\\"proponent of natural childbirth\\\",\\n    \\\"naturalist\\\",\\n    \\\"the physical properties of materials\\\",\\n    \\\"physics Nobel prize winner\\\",\\n    \\\"geophysicist\\\",\\n    \\\"physicist\\\",\\n    \\\"physics Nobel prize winner\\\",\\n]\\nsciences = sorted(list(set(sciences)), key=lambda x: len(x), reverse=True)\\n\\nbusiness_farming = [\\n    \\\"hotelier\\\",\\n    \\\"co founder of INSEAD\\\",\\n    \\\"founder of Berkley\\\",\\n    \\\"co founder of Pat King of Steaks cheesesteak emporium\\\",\\n    \\\"founder of R J Corman Railroad Group\\\",\\n    \\\"co founder of Bing Lee superstores\\\",\\n    \\\"founder of the Hyundai Group\\\",\\n    \\\"co founder of Wanxiang\\\",\\n    \\\"co founder of Garmin\\\",\\n    \\\"founder of Biovail\\\",\\n    \\\"chairman of Airways from to\\\",\\n    \\\"chairman of Imasco\\\",\\n    \\\"chairman of NEC\\\",\\n    \\\"chairman of off price clothier SYMS\\\",\\n    \\\"chairman of The Leela Palaces\\\",\\n    \\\"chairman of Intel Corporation\\\",\\n    \\\"chairman of The Swatch Group\\\",\\n    \\\"chairman of Trident Seafoods\\\",\\n    \\\"chairman of Sandals Resorts\\\",\\n    \\\"chairman of Biltmore Farms\\\",\\n    \\\"chairman of Banco Safra\\\",\\n    \\\"chairman of Chen Hsong\\\",\\n    \\\"chairman of Alltech\\\",\\n    \\\"chairman of IDG\\\",\\n    \\\"Santa Fe Railway\\\",\\n]\\nbusiness_farming = sorted(\\n    list(set(business_farming)), key=lambda x: len(x), reverse=True\\n)\\n\\nacademia_humanities = [\\n    \\\"literary theorist\\\",\\n    \\\"theorist\\\",\\n    \\\"lexicographer\\\",\\n    \\\"epigraphist\\\",\\n    \\\"geographer\\\",\\n    \\\"Vice Chancellor of University of Oxford\\\",\\n    \\\"founder of Project Gutenberg\\\",\\n    \\\"librarian\\\",\\n    \\\"folklorist\\\",\\n    \\\"a champion of culture\\\",\\n    \\\"head of the Tamarind Institute at the University of New\\\",\\n    \\\"Vice Chancellor of University of Oxford\\\",\\n    \\\"chancellor of Sathyabama University\\\",\\n    \\\"president of Brandeis University\\\",\\n    \\\"Rector of the Central University\\\",\\n    \\\"president of Emory University\\\",\\n    \\\"Warden of Durham University\\\",\\n    \\\"Wichita State University\\\",\\n    \\\"the University of Iowa\\\",\\n    \\\"Temple University\\\",\\n    \\\"State University\\\",\\n    \\\"Akal University\\\",\\n]\\nacademia_humanities = sorted(\\n    list(set(academia_humanities)), key=lambda x: len(x), reverse=True\\n)\\n\\nlaw_enf_military_operator = [\\n    \\\"cryptographer\\\",\\n    \\\"Minister of National Defence\\\",\\n    \\\"Defense Minister of South\\\",\\n    \\\"Defense Minister\\\",\\n    \\\"founder of militant organization Fatah\\\",\\n    \\\"founder of the Experimental Aircraft Association\\\",\\n    \\\"founder of the Police Force\\\",\\n    \\\"leader of the Provisional Republican Army\\\",\\n    \\\"leader of For\\u00e7as Populares de Abril\\\",\\n    \\\"the second highest leader of Hamas\\\",\\n    \\\"former leader of PCAA\\\",\\n    \\\"leader of Tehreek e Nafaz e Shariat e Mohammadi\\\",\\n    \\\"son of a  who became a rebel leader\\\",\\n    \\\"leader of the PFLP GC\\\",\\n    \\\"paramilitary leader\\\",\\n]\\nlaw_enf_military_operator = sorted(\\n    list(set(law_enf_military_operator)), key=lambda x: len(x), reverse=True\\n)\\n\\nspiritual = [\\n    \\\"Galloway\\\",\\n    \\\"religious leader\\\",\\n    \\\"sect leader\\\",\\n    \\\"Catholic religious leader\\\",\\n    \\\"ecumenical leader\\\",\\n    \\\"chairman of the Bishops' Conference\\\",\\n    \\\"Lismore\\\",\\n    \\\"self help consultant\\\",\\n    \\\"self help\\\",\\n    \\\"cardinal\\\",\\n]\\nspiritual = sorted(list(set(spiritual)), key=lambda x: len(x), reverse=True)\\n\\nsocial = [\\n    \\\"founder of Neville Fernando Teaching Hospital\\\",\\n    \\\"founder of the Bandhua Mukti Morcha\\\",\\n    \\\"commune founder\\\",\\n    \\\"a leader in the pro  movement\\\",\\n]\\nsocial = sorted(list(set(social)), key=lambda x: len(x), reverse=True)\\n\\ncrime = [\\\"war criminal\\\", \\\"criminal\\\", \\\"cannibal\\\"]\\ncrime = sorted(list(set(crime)), key=lambda x: len(x), reverse=True)\\n\\nevent_record_other = []\\nevent_record_other = sorted(\\n    list(set(event_record_other)), key=lambda x: len(x), reverse=True\\n)\\n\\nother_species = [\\n    \\\"the Preakness Stakes\\\",\\n    \\\"Blue Grass Stakes\\\",\\n    \\\"Preakness Stakes\\\",\\n    \\\"Champagne Stakes\\\",\\n]\\nother_species = sorted(list(set(other_species)), key=lambda x: len(x), reverse=True)\\n\\ncause_of_death = [\\n    \\\"run\\\",\\n    \\\"injuries sustained in a fall\\\",\\n    \\\"fall\\\",\\n    \\\"subsequently found dead\\\",\\n    \\\"is presumed dead\\\",\\n]\\ncause_of_death = sorted(list(set(cause_of_death)), key=lambda x: len(x), reverse=True)\";\n",
       "                var nbb_cells = Jupyter.notebook.get_cells();\n",
       "                for (var i = 0; i < nbb_cells.length; ++i) {\n",
       "                    if (nbb_cells[i].input_prompt_number == nbb_cell_id) {\n",
       "                        if (nbb_cells[i].get_text() == nbb_unformatted_code) {\n",
       "                             nbb_cells[i].set_text(nbb_formatted_code);\n",
       "                        }\n",
       "                        break;\n",
       "                    }\n",
       "                }\n",
       "            }, 500);\n",
       "            "
      ],
      "text/plain": [
       "<IPython.core.display.Javascript object>"
      ]
     },
     "metadata": {},
     "output_type": "display_data"
    }
   ],
   "source": [
    "# Creating lists for each category and sorting by decreasing length and removing duplicates\n",
    "\n",
    "politics_govt_law = [\n",
    "    \"political corruption was the subject of the Flood Tribunal\",\n",
    "    \"leader of main political opposition party\",\n",
    "    \"geopolitical energy specialist\",\n",
    "    \"political consultant\",\n",
    "    \"political theorist\",\n",
    "    \"political analyst\",\n",
    "    \"political figure\",\n",
    "    \"political\",\n",
    "    \"missile development\",\n",
    "    \"development\",\n",
    "    \"delegate to the National People Congress\",\n",
    "    \"delegate to the Arab League\",\n",
    "    \"three time MP\",\n",
    "    \"MP\",\n",
    "    \"Planning\",\n",
    "    \"pacifist\",\n",
    "    \"Agriculture Organization\",\n",
    "    \"presidential primary candidate\",\n",
    "    \"presidential candidate\",\n",
    "    \"presidential adviser\",\n",
    "    \"Vice Minister of the Ministry of Water Resources\",\n",
    "    \"Executive Vice Mayor of Beijing\",\n",
    "    \"Vice Presidential nominee\",\n",
    "    \"Vice Minister of the Ministry of Water Resources\",\n",
    "    \"Prime Minister of the Donetsk People Republic\",\n",
    "    \"acting Minister of Internal Affairs of\",\n",
    "    \"Consumer Protection Minister\",\n",
    "    \"Minister for East Affairs\",\n",
    "    \"Islamic Affairs Minister\",\n",
    "    \"nine term Prime Minister\",\n",
    "    \"Federalism Minister of a\",\n",
    "    \"Minister of Employment\",\n",
    "    \"Deputy Prime Minister\",\n",
    "    \"Prime Minister of the\",\n",
    "    \"Minister of Borders\",\n",
    "    \"Prime Minister\",\n",
    "    \"Health\",\n",
    "    \"founder of Drachmi Democratic Movement Five Stars\",\n",
    "    \"founder of the National Regeneration Movement\",\n",
    "    \"founder of the Council for a Beautiful\",\n",
    "    \"co founder of Jatiya Samajtantrik Dal\",\n",
    "    \"founder of the Progress Party\",\n",
    "    \"co founder of the Mass Party\",\n",
    "    \"founder of Occupy Pedophilia\",\n",
    "    \"founder of Common Cause\",\n",
    "    \"co founder of the PSDB\",\n",
    "    \"co founder of the Gapminder Foundation\",\n",
    "    \"natural resources\",\n",
    "    \"Administration\",\n",
    "    \"minister of agriculture\",\n",
    "    \"Agriculture Organization\",\n",
    "    \"defector\",\n",
    "    \"first child of civil rights leader Martin Luther King Jr\",\n",
    "    \"leader of main political opposition party\",\n",
    "    \"widow of fascist leader Oswald Mosley\",\n",
    "    \"leader of the Mothers of Srebrenica\",\n",
    "    \"leader of the Independent Party\",\n",
    "    \"prominent Pashtun leader\",\n",
    "    \"revolutionary leader\",\n",
    "    \"secessionist leader\",\n",
    "    \"civil rights leader\",\n",
    "    \"traditional leader\",\n",
    "    \"peasant leader\",\n",
    "    \"tribal leader\",\n",
    "    \"labor leader\",\n",
    "    \"reformed Ku Klux Klan leader\",\n",
    "    \"community leader\",\n",
    "    \"Consumer Affairs\",\n",
    "    \"Clerk of the Crown in Chancery\",\n",
    "    \"Nobel Peace Prize winner\",\n",
    "    \"Landtag of North Rhine Westphalia\",\n",
    "    \"chairman of the Communist Party of\",\n",
    "    \"chairman of Memorial\",\n",
    "    \"chairman of the Ocean Affairs Council\",\n",
    "    \"the United Nations Development Program\",\n",
    "    \"Urban Development\",\n",
    "    \"Rural Development\",\n",
    "    \"Development\",\n",
    "    \"Toronto city councillor\",\n",
    "    \"the General Secretary of the National Union of Railwaymen\",\n",
    "]\n",
    "politics_govt_law = sorted(\n",
    "    list(set(politics_govt_law)), key=lambda x: len(x), reverse=True\n",
    ")\n",
    "\n",
    "arts = [\n",
    "    \"commentator\",\n",
    "    \"a pioneer of electronic music\",\n",
    "    \"early music specialist\",\n",
    "    \"popular music\",\n",
    "    \"music\",\n",
    "    \"drama\",\n",
    "    \"subject of the Oscar winning animated short\",\n",
    "    \"animator\",\n",
    "    \"storyteller\",\n",
    "    \"cinematographer\",\n",
    "    \"bibliographer\",\n",
    "    \"mastering engineer\",\n",
    "    \"satirist\",\n",
    "    \"CBS Vice President\",\n",
    "    \"game show panelist\",\n",
    "    \"panelist\",\n",
    "    \"narrator of the PBS series\",\n",
    "    \"narrator\",\n",
    "    \"co founder of the Chicago Surrealist Group\",\n",
    "    \"co founder of The Mamas & the Papas\",\n",
    "    \"co founder of Disneyland Records\",\n",
    "    \"founder of Food Network\",\n",
    "    \"co founder of magazine\",\n",
    "    \"founder of fratricide\",\n",
    "    \"founder of Apotex\",\n",
    "    \"camera operator\",\n",
    "    \"silk screen printer\",\n",
    "    \"screenplays\",\n",
    "    \"leader of the Philharmonia Orchestra\",\n",
    "    \"Walk of Fame\",\n",
    "    \"Pullitzer Prize winner\",\n",
    "    \"Pulitzer Prize winner\",\n",
    "    \"pageant winner\",\n",
    "    \"Grammy winner\",\n",
    "    \"Tony winner\",\n",
    "    \"Prince Claus Award winner\",\n",
    "    \"clavichordist\",\n",
    "    \"Gracie Allen\",\n",
    "    \"chairman of Sanlih E Television\",\n",
    "    \"Marie Curie\",\n",
    "]\n",
    "arts = sorted(list(set(arts)), key=lambda x: len(x), reverse=True)\n",
    "\n",
    "sports = [\n",
    "    \"official\",\n",
    "    \"trainer\",\n",
    "    \"medical delegate\",\n",
    "    \"bodybuilder\",\n",
    "    \"co founder of the Marathon\",\n",
    "    \"founder of Gresini Racing\",\n",
    "    \"Commonwealth Games gold medallist\",\n",
    "    \"championships bronze medalist\",\n",
    "    \"Commonwealth silver medalist\",\n",
    "    \"bronze medallist\",\n",
    "    \"silver medallist\",\n",
    "    \"bronze medalist\",\n",
    "    \"silver medalist\",\n",
    "    \"expedition leader\",\n",
    "    \"raced Triple Crown champion\",\n",
    "    \"two time Boat Race winner\",\n",
    "    \"chairman of the All Jumping Course\",\n",
    "    \"chairman of Polo\",\n",
    "    \"World Boxing Council light heavyweight champion\",\n",
    "    \"WBC world light middleweight champion\",\n",
    "    \"WBC Bantamweight Champion\",\n",
    "    \"WBC heavyweight champion\",\n",
    "]\n",
    "sports = sorted(list(set(sports)), key=lambda x: len(x), reverse=True)\n",
    "\n",
    "sciences = [\n",
    "    \"inventor\",\n",
    "    \"medical researcher\",\n",
    "    \"conspiracy theory researcher\",\n",
    "    \"designer\",\n",
    "    \"co founder of the CSI\",\n",
    "    \"founder of the NASL\",\n",
    "    \"proponent of natural childbirth\",\n",
    "    \"naturalist\",\n",
    "    \"the physical properties of materials\",\n",
    "    \"physics Nobel prize winner\",\n",
    "    \"geophysicist\",\n",
    "    \"physicist\",\n",
    "    \"physics Nobel prize winner\",\n",
    "]\n",
    "sciences = sorted(list(set(sciences)), key=lambda x: len(x), reverse=True)\n",
    "\n",
    "business_farming = [\n",
    "    \"hotelier\",\n",
    "    \"co founder of INSEAD\",\n",
    "    \"founder of Berkley\",\n",
    "    \"co founder of Pat King of Steaks cheesesteak emporium\",\n",
    "    \"founder of R J Corman Railroad Group\",\n",
    "    \"co founder of Bing Lee superstores\",\n",
    "    \"founder of the Hyundai Group\",\n",
    "    \"co founder of Wanxiang\",\n",
    "    \"co founder of Garmin\",\n",
    "    \"founder of Biovail\",\n",
    "    \"chairman of Airways from to\",\n",
    "    \"chairman of Imasco\",\n",
    "    \"chairman of NEC\",\n",
    "    \"chairman of off price clothier SYMS\",\n",
    "    \"chairman of The Leela Palaces\",\n",
    "    \"chairman of Intel Corporation\",\n",
    "    \"chairman of The Swatch Group\",\n",
    "    \"chairman of Trident Seafoods\",\n",
    "    \"chairman of Sandals Resorts\",\n",
    "    \"chairman of Biltmore Farms\",\n",
    "    \"chairman of Banco Safra\",\n",
    "    \"chairman of Chen Hsong\",\n",
    "    \"chairman of Alltech\",\n",
    "    \"chairman of IDG\",\n",
    "    \"Santa Fe Railway\",\n",
    "]\n",
    "business_farming = sorted(\n",
    "    list(set(business_farming)), key=lambda x: len(x), reverse=True\n",
    ")\n",
    "\n",
    "academia_humanities = [\n",
    "    \"literary theorist\",\n",
    "    \"theorist\",\n",
    "    \"lexicographer\",\n",
    "    \"epigraphist\",\n",
    "    \"geographer\",\n",
    "    \"Vice Chancellor of University of Oxford\",\n",
    "    \"founder of Project Gutenberg\",\n",
    "    \"librarian\",\n",
    "    \"folklorist\",\n",
    "    \"a champion of culture\",\n",
    "    \"head of the Tamarind Institute at the University of New\",\n",
    "    \"Vice Chancellor of University of Oxford\",\n",
    "    \"chancellor of Sathyabama University\",\n",
    "    \"president of Brandeis University\",\n",
    "    \"Rector of the Central University\",\n",
    "    \"president of Emory University\",\n",
    "    \"Warden of Durham University\",\n",
    "    \"Wichita State University\",\n",
    "    \"the University of Iowa\",\n",
    "    \"Temple University\",\n",
    "    \"State University\",\n",
    "    \"Akal University\",\n",
    "]\n",
    "academia_humanities = sorted(\n",
    "    list(set(academia_humanities)), key=lambda x: len(x), reverse=True\n",
    ")\n",
    "\n",
    "law_enf_military_operator = [\n",
    "    \"cryptographer\",\n",
    "    \"Minister of National Defence\",\n",
    "    \"Defense Minister of South\",\n",
    "    \"Defense Minister\",\n",
    "    \"founder of militant organization Fatah\",\n",
    "    \"founder of the Experimental Aircraft Association\",\n",
    "    \"founder of the Police Force\",\n",
    "    \"leader of the Provisional Republican Army\",\n",
    "    \"leader of Forças Populares de Abril\",\n",
    "    \"the second highest leader of Hamas\",\n",
    "    \"former leader of PCAA\",\n",
    "    \"leader of Tehreek e Nafaz e Shariat e Mohammadi\",\n",
    "    \"son of a  who became a rebel leader\",\n",
    "    \"leader of the PFLP GC\",\n",
    "    \"paramilitary leader\",\n",
    "]\n",
    "law_enf_military_operator = sorted(\n",
    "    list(set(law_enf_military_operator)), key=lambda x: len(x), reverse=True\n",
    ")\n",
    "\n",
    "spiritual = [\n",
    "    \"Galloway\",\n",
    "    \"religious leader\",\n",
    "    \"sect leader\",\n",
    "    \"Catholic religious leader\",\n",
    "    \"ecumenical leader\",\n",
    "    \"chairman of the Bishops' Conference\",\n",
    "    \"Lismore\",\n",
    "    \"self help consultant\",\n",
    "    \"self help\",\n",
    "    \"cardinal\",\n",
    "]\n",
    "spiritual = sorted(list(set(spiritual)), key=lambda x: len(x), reverse=True)\n",
    "\n",
    "social = [\n",
    "    \"founder of Neville Fernando Teaching Hospital\",\n",
    "    \"founder of the Bandhua Mukti Morcha\",\n",
    "    \"commune founder\",\n",
    "    \"a leader in the pro  movement\",\n",
    "]\n",
    "social = sorted(list(set(social)), key=lambda x: len(x), reverse=True)\n",
    "\n",
    "crime = [\"war criminal\", \"criminal\", \"cannibal\"]\n",
    "crime = sorted(list(set(crime)), key=lambda x: len(x), reverse=True)\n",
    "\n",
    "event_record_other = []\n",
    "event_record_other = sorted(\n",
    "    list(set(event_record_other)), key=lambda x: len(x), reverse=True\n",
    ")\n",
    "\n",
    "other_species = [\n",
    "    \"the Preakness Stakes\",\n",
    "    \"Blue Grass Stakes\",\n",
    "    \"Preakness Stakes\",\n",
    "    \"Champagne Stakes\",\n",
    "]\n",
    "other_species = sorted(list(set(other_species)), key=lambda x: len(x), reverse=True)\n",
    "\n",
    "cause_of_death = [\n",
    "    \"run\",\n",
    "    \"injuries sustained in a fall\",\n",
    "    \"fall\",\n",
    "    \"subsequently found dead\",\n",
    "    \"is presumed dead\",\n",
    "]\n",
    "cause_of_death = sorted(list(set(cause_of_death)), key=lambda x: len(x), reverse=True)"
   ]
  },
  {
   "cell_type": "code",
   "execution_count": 41,
   "id": "68295387",
   "metadata": {},
   "outputs": [
    {
     "data": {
      "application/javascript": [
       "\n",
       "            setTimeout(function() {\n",
       "                var nbb_cell_id = 41;\n",
       "                var nbb_unformatted_code = \"# Dropping info_3_1 value for entry with redundant category value\\ndf.loc[df[df['link']=='https://en.wikipedia.org/wiki/Jacques_Carelman'].index, 'info_3_1']=''\";\n",
       "                var nbb_formatted_code = \"# Dropping info_3_1 value for entry with redundant category value\\ndf.loc[\\n    df[df[\\\"link\\\"] == \\\"https://en.wikipedia.org/wiki/Jacques_Carelman\\\"].index, \\\"info_3_1\\\"\\n] = \\\"\\\"\";\n",
       "                var nbb_cells = Jupyter.notebook.get_cells();\n",
       "                for (var i = 0; i < nbb_cells.length; ++i) {\n",
       "                    if (nbb_cells[i].input_prompt_number == nbb_cell_id) {\n",
       "                        if (nbb_cells[i].get_text() == nbb_unformatted_code) {\n",
       "                             nbb_cells[i].set_text(nbb_formatted_code);\n",
       "                        }\n",
       "                        break;\n",
       "                    }\n",
       "                }\n",
       "            }, 500);\n",
       "            "
      ],
      "text/plain": [
       "<IPython.core.display.Javascript object>"
      ]
     },
     "metadata": {},
     "output_type": "display_data"
    }
   ],
   "source": [
    "# Dropping info_3_1 value for entry with redundant category value\n",
    "df.loc[\n",
    "    df[df[\"link\"] == \"https://en.wikipedia.org/wiki/Jacques_Carelman\"].index, \"info_3_1\"\n",
    "] = \"\""
   ]
  },
  {
   "cell_type": "markdown",
   "id": "f6b62992",
   "metadata": {},
   "source": [
    "#### Creating `known_for_dict` Dictionary of Category Keys and Specific Role Lists of Values"
   ]
  },
  {
   "cell_type": "code",
   "execution_count": 42,
   "id": "d9190e48",
   "metadata": {},
   "outputs": [
    {
     "data": {
      "application/javascript": [
       "\n",
       "            setTimeout(function() {\n",
       "                var nbb_cell_id = 42;\n",
       "                var nbb_unformatted_code = \"# Combining separate lists into one dictionary\\nknown_for_dict = {\\n    \\\"social\\\": social,\\n    \\\"spiritual\\\": spiritual,\\n    \\\"academia_humanities\\\": academia_humanities,\\n    \\\"business_farming\\\": business_farming,\\n    \\\"sciences\\\": sciences,\\n    \\\"politics_govt_law\\\": politics_govt_law,\\n    \\\"law_enf_military_operator\\\": law_enf_military_operator,\\n    \\\"crime\\\": crime,\\n    \\\"event_record_other\\\": event_record_other,\\n    \\\"other_species\\\": other_species,\\n    \\\"arts\\\": arts,\\n    \\\"sports\\\": sports,\\n}\";\n",
       "                var nbb_formatted_code = \"# Combining separate lists into one dictionary\\nknown_for_dict = {\\n    \\\"social\\\": social,\\n    \\\"spiritual\\\": spiritual,\\n    \\\"academia_humanities\\\": academia_humanities,\\n    \\\"business_farming\\\": business_farming,\\n    \\\"sciences\\\": sciences,\\n    \\\"politics_govt_law\\\": politics_govt_law,\\n    \\\"law_enf_military_operator\\\": law_enf_military_operator,\\n    \\\"crime\\\": crime,\\n    \\\"event_record_other\\\": event_record_other,\\n    \\\"other_species\\\": other_species,\\n    \\\"arts\\\": arts,\\n    \\\"sports\\\": sports,\\n}\";\n",
       "                var nbb_cells = Jupyter.notebook.get_cells();\n",
       "                for (var i = 0; i < nbb_cells.length; ++i) {\n",
       "                    if (nbb_cells[i].input_prompt_number == nbb_cell_id) {\n",
       "                        if (nbb_cells[i].get_text() == nbb_unformatted_code) {\n",
       "                             nbb_cells[i].set_text(nbb_formatted_code);\n",
       "                        }\n",
       "                        break;\n",
       "                    }\n",
       "                }\n",
       "            }, 500);\n",
       "            "
      ],
      "text/plain": [
       "<IPython.core.display.Javascript object>"
      ]
     },
     "metadata": {},
     "output_type": "display_data"
    }
   ],
   "source": [
    "# Combining separate lists into one dictionary\n",
    "known_for_dict = {\n",
    "    \"social\": social,\n",
    "    \"spiritual\": spiritual,\n",
    "    \"academia_humanities\": academia_humanities,\n",
    "    \"business_farming\": business_farming,\n",
    "    \"sciences\": sciences,\n",
    "    \"politics_govt_law\": politics_govt_law,\n",
    "    \"law_enf_military_operator\": law_enf_military_operator,\n",
    "    \"crime\": crime,\n",
    "    \"event_record_other\": event_record_other,\n",
    "    \"other_species\": other_species,\n",
    "    \"arts\": arts,\n",
    "    \"sports\": sports,\n",
    "}"
   ]
  },
  {
   "cell_type": "markdown",
   "id": "a67380de",
   "metadata": {},
   "source": [
    "#### Extracting `known_for` Categories and `cause_of_death` Values from `info_3_1`"
   ]
  },
  {
   "cell_type": "code",
   "execution_count": 43,
   "id": "086958df",
   "metadata": {},
   "outputs": [
    {
     "name": "stdout",
     "output_type": "stream",
     "text": [
      "There are 25134 values in cause_of_death column.\n",
      "\n",
      "CPU times: total: 18.7 s\n",
      "Wall time: 19 s\n"
     ]
    },
    {
     "data": {
      "application/javascript": [
       "\n",
       "            setTimeout(function() {\n",
       "                var nbb_cell_id = 43;\n",
       "                var nbb_unformatted_code = \"%%time\\n\\n# Column to check\\ncolumn = 'info_3_1'\\n\\n# Start dataframe\\ndataframe = df[df[column].notna()]\\n\\n# For loop to find cause in column and extract it to cause_of_death\\nfor cause in cause_of_death:\\n    for index in dataframe.index:\\n        item = df.loc[index, column]\\n        if item:\\n            if cause in item:\\n                if df.loc[index, 'cause_of_death']:\\n                    df.loc[index, 'cause_of_death'] = df.loc[index, 'cause_of_death'] + '/' + cause\\n                    df.loc[index, column] = item.replace(cause, '').strip()\\n                else:\\n                    df.loc[index, 'cause_of_death'] = cause\\n                    df.loc[index, column] = item.replace(cause, '').strip()\\n                \\n                \\n# For loop to find role in column and extract it as category\\nfor category, category_lst in known_for_dict.items():\\n    for role in category_lst:\\n        for index in dataframe.index:\\n                item = df.loc[index, column]\\n                if item:\\n                    if role in item:\\n                        df.loc[index, category] = 1\\n                        df.loc[index, column] = item.replace(role, '').strip()\\n\\n# Calculating num_categories\\ndf[\\\"num_categories\\\"] = df[known_for_dict.keys()].sum(axis=1)\\n\\n# Checking number of cause_of_death values\\nprint(f'There are {df[\\\"cause_of_death\\\"].notna().sum()} values in cause_of_death column.\\\\n')\";\n",
       "                var nbb_formatted_code = \"%%time\\n\\n# Column to check\\ncolumn = 'info_3_1'\\n\\n# Start dataframe\\ndataframe = df[df[column].notna()]\\n\\n# For loop to find cause in column and extract it to cause_of_death\\nfor cause in cause_of_death:\\n    for index in dataframe.index:\\n        item = df.loc[index, column]\\n        if item:\\n            if cause in item:\\n                if df.loc[index, 'cause_of_death']:\\n                    df.loc[index, 'cause_of_death'] = df.loc[index, 'cause_of_death'] + '/' + cause\\n                    df.loc[index, column] = item.replace(cause, '').strip()\\n                else:\\n                    df.loc[index, 'cause_of_death'] = cause\\n                    df.loc[index, column] = item.replace(cause, '').strip()\\n                \\n                \\n# For loop to find role in column and extract it as category\\nfor category, category_lst in known_for_dict.items():\\n    for role in category_lst:\\n        for index in dataframe.index:\\n                item = df.loc[index, column]\\n                if item:\\n                    if role in item:\\n                        df.loc[index, category] = 1\\n                        df.loc[index, column] = item.replace(role, '').strip()\\n\\n# Calculating num_categories\\ndf[\\\"num_categories\\\"] = df[known_for_dict.keys()].sum(axis=1)\\n\\n# Checking number of cause_of_death values\\nprint(f'There are {df[\\\"cause_of_death\\\"].notna().sum()} values in cause_of_death column.\\\\n')\";\n",
       "                var nbb_cells = Jupyter.notebook.get_cells();\n",
       "                for (var i = 0; i < nbb_cells.length; ++i) {\n",
       "                    if (nbb_cells[i].input_prompt_number == nbb_cell_id) {\n",
       "                        if (nbb_cells[i].get_text() == nbb_unformatted_code) {\n",
       "                             nbb_cells[i].set_text(nbb_formatted_code);\n",
       "                        }\n",
       "                        break;\n",
       "                    }\n",
       "                }\n",
       "            }, 500);\n",
       "            "
      ],
      "text/plain": [
       "<IPython.core.display.Javascript object>"
      ]
     },
     "metadata": {},
     "output_type": "display_data"
    }
   ],
   "source": [
    "%%time\n",
    "\n",
    "# Column to check\n",
    "column = 'info_3_1'\n",
    "\n",
    "# Start dataframe\n",
    "dataframe = df[df[column].notna()]\n",
    "\n",
    "# For loop to find cause in column and extract it to cause_of_death\n",
    "for cause in cause_of_death:\n",
    "    for index in dataframe.index:\n",
    "        item = df.loc[index, column]\n",
    "        if item:\n",
    "            if cause in item:\n",
    "                if df.loc[index, 'cause_of_death']:\n",
    "                    df.loc[index, 'cause_of_death'] = df.loc[index, 'cause_of_death'] + '/' + cause\n",
    "                    df.loc[index, column] = item.replace(cause, '').strip()\n",
    "                else:\n",
    "                    df.loc[index, 'cause_of_death'] = cause\n",
    "                    df.loc[index, column] = item.replace(cause, '').strip()\n",
    "                \n",
    "                \n",
    "# For loop to find role in column and extract it as category\n",
    "for category, category_lst in known_for_dict.items():\n",
    "    for role in category_lst:\n",
    "        for index in dataframe.index:\n",
    "                item = df.loc[index, column]\n",
    "                if item:\n",
    "                    if role in item:\n",
    "                        df.loc[index, category] = 1\n",
    "                        df.loc[index, column] = item.replace(role, '').strip()\n",
    "\n",
    "# Calculating num_categories\n",
    "df[\"num_categories\"] = df[known_for_dict.keys()].sum(axis=1)\n",
    "\n",
    "# Checking number of cause_of_death values\n",
    "print(f'There are {df[\"cause_of_death\"].notna().sum()} values in cause_of_death column.\\n')"
   ]
  },
  {
   "cell_type": "markdown",
   "id": "e2c66141",
   "metadata": {},
   "source": [
    "#### Checking Updated `num_categories` Value Counts"
   ]
  },
  {
   "cell_type": "code",
   "execution_count": 44,
   "id": "adbb4bf5",
   "metadata": {},
   "outputs": [
    {
     "data": {
      "text/plain": [
       "1    84646\n",
       "2    12624\n",
       "3      755\n",
       "0        8\n",
       "4        7\n",
       "Name: num_categories, dtype: int64"
      ]
     },
     "execution_count": 44,
     "metadata": {},
     "output_type": "execute_result"
    },
    {
     "data": {
      "application/javascript": [
       "\n",
       "            setTimeout(function() {\n",
       "                var nbb_cell_id = 44;\n",
       "                var nbb_unformatted_code = \"# Checking Updated num_categories Value Counts\\ndf[\\\"num_categories\\\"].value_counts()\";\n",
       "                var nbb_formatted_code = \"# Checking Updated num_categories Value Counts\\ndf[\\\"num_categories\\\"].value_counts()\";\n",
       "                var nbb_cells = Jupyter.notebook.get_cells();\n",
       "                for (var i = 0; i < nbb_cells.length; ++i) {\n",
       "                    if (nbb_cells[i].input_prompt_number == nbb_cell_id) {\n",
       "                        if (nbb_cells[i].get_text() == nbb_unformatted_code) {\n",
       "                             nbb_cells[i].set_text(nbb_formatted_code);\n",
       "                        }\n",
       "                        break;\n",
       "                    }\n",
       "                }\n",
       "            }, 500);\n",
       "            "
      ],
      "text/plain": [
       "<IPython.core.display.Javascript object>"
      ]
     },
     "metadata": {},
     "output_type": "display_data"
    }
   ],
   "source": [
    "# Checking Updated num_categories Value Counts\n",
    "df[\"num_categories\"].value_counts()"
   ]
  },
  {
   "cell_type": "markdown",
   "id": "ddcb5efd",
   "metadata": {},
   "source": [
    "#### Observations:\n",
    "- We will proceed to rebuild `known_for_dict` and `cause_of_death` for the next iteration."
   ]
  },
  {
   "cell_type": "markdown",
   "id": "d3ec3f87",
   "metadata": {},
   "source": [
    "#### Finding `known_for` Roles and `cause_of_death` in `info_3_1`"
   ]
  },
  {
   "cell_type": "code",
   "execution_count": 45,
   "id": "07bdf3bb",
   "metadata": {},
   "outputs": [
    {
     "data": {
      "application/javascript": [
       "\n",
       "            setTimeout(function() {\n",
       "                var nbb_cell_id = 45;\n",
       "                var nbb_unformatted_code = \"# # Obtaining values for column and their counts\\n# roles_cause_list = df[\\\"info_3_1\\\"].value_counts(ascending=True).index.tolist()\";\n",
       "                var nbb_formatted_code = \"# # Obtaining values for column and their counts\\n# roles_cause_list = df[\\\"info_3_1\\\"].value_counts(ascending=True).index.tolist()\";\n",
       "                var nbb_cells = Jupyter.notebook.get_cells();\n",
       "                for (var i = 0; i < nbb_cells.length; ++i) {\n",
       "                    if (nbb_cells[i].input_prompt_number == nbb_cell_id) {\n",
       "                        if (nbb_cells[i].get_text() == nbb_unformatted_code) {\n",
       "                             nbb_cells[i].set_text(nbb_formatted_code);\n",
       "                        }\n",
       "                        break;\n",
       "                    }\n",
       "                }\n",
       "            }, 500);\n",
       "            "
      ],
      "text/plain": [
       "<IPython.core.display.Javascript object>"
      ]
     },
     "metadata": {},
     "output_type": "display_data"
    }
   ],
   "source": [
    "# # Obtaining values for column and their counts\n",
    "# roles_cause_list = df[\"info_3_1\"].value_counts(ascending=True).index.tolist()"
   ]
  },
  {
   "cell_type": "code",
   "execution_count": 46,
   "id": "29f72024",
   "metadata": {},
   "outputs": [
    {
     "data": {
      "application/javascript": [
       "\n",
       "            setTimeout(function() {\n",
       "                var nbb_cell_id = 46;\n",
       "                var nbb_unformatted_code = \"# # Code to check each value\\n# roles_cause_list.pop()\";\n",
       "                var nbb_formatted_code = \"# # Code to check each value\\n# roles_cause_list.pop()\";\n",
       "                var nbb_cells = Jupyter.notebook.get_cells();\n",
       "                for (var i = 0; i < nbb_cells.length; ++i) {\n",
       "                    if (nbb_cells[i].input_prompt_number == nbb_cell_id) {\n",
       "                        if (nbb_cells[i].get_text() == nbb_unformatted_code) {\n",
       "                             nbb_cells[i].set_text(nbb_formatted_code);\n",
       "                        }\n",
       "                        break;\n",
       "                    }\n",
       "                }\n",
       "            }, 500);\n",
       "            "
      ],
      "text/plain": [
       "<IPython.core.display.Javascript object>"
      ]
     },
     "metadata": {},
     "output_type": "display_data"
    }
   ],
   "source": [
    "# # Code to check each value\n",
    "# roles_cause_list.pop()"
   ]
  },
  {
   "cell_type": "code",
   "execution_count": 47,
   "id": "0dde7366",
   "metadata": {},
   "outputs": [
    {
     "data": {
      "application/javascript": [
       "\n",
       "            setTimeout(function() {\n",
       "                var nbb_cell_id = 47;\n",
       "                var nbb_unformatted_code = \"# # Create specific_roles_cause_list for above popped value\\n# specific_roles_cause_list = (\\n#     df.loc[\\n#         [\\n#             index\\n#             for index in df[df[\\\"info_3_1\\\"].notna()].index\\n#             if \\\"mixed doubles\\\" in df.loc[index, \\\"info_3_1\\\"]\\n#             #             and df.loc[index, \\\"politics_govt_law\\\"] == 0\\n#             #             and df.loc[index, \\\"arts\\\"] == 0\\n#             #             and df.loc[index, \\\"sciences\\\"] == 0\\n#             #             and df.loc[index, \\\"spiritual\\\"] == 0\\n#             #             and df.loc[index, \\\"law_enf_military_operator\\\"] == 0\\n#             #             and df.loc[index, \\\"sports\\\"] == 0\\n#             #             and df.loc[index, \\\"event_record_other\\\"] == 0\\n#             #             and df.loc[index, \\\"crime\\\"] == 0\\n#             #             and df.loc[index, \\\"academia_humanities\\\"] == 0\\n#             #             and df.loc[index, \\\"business_farming\\\"] == 0\\n#             #                         and df.loc[index, \\\"other_species\\\"] == 0\\n#             #             and df.loc[index, \\\"num_categories\\\"] == 0\\n#         ],\\n#         \\\"info_3_1\\\",\\n#     ]\\n#     .value_counts()\\n#     .index.tolist()\\n# )\";\n",
       "                var nbb_formatted_code = \"# # Create specific_roles_cause_list for above popped value\\n# specific_roles_cause_list = (\\n#     df.loc[\\n#         [\\n#             index\\n#             for index in df[df[\\\"info_3_1\\\"].notna()].index\\n#             if \\\"mixed doubles\\\" in df.loc[index, \\\"info_3_1\\\"]\\n#             #             and df.loc[index, \\\"politics_govt_law\\\"] == 0\\n#             #             and df.loc[index, \\\"arts\\\"] == 0\\n#             #             and df.loc[index, \\\"sciences\\\"] == 0\\n#             #             and df.loc[index, \\\"spiritual\\\"] == 0\\n#             #             and df.loc[index, \\\"law_enf_military_operator\\\"] == 0\\n#             #             and df.loc[index, \\\"sports\\\"] == 0\\n#             #             and df.loc[index, \\\"event_record_other\\\"] == 0\\n#             #             and df.loc[index, \\\"crime\\\"] == 0\\n#             #             and df.loc[index, \\\"academia_humanities\\\"] == 0\\n#             #             and df.loc[index, \\\"business_farming\\\"] == 0\\n#             #                         and df.loc[index, \\\"other_species\\\"] == 0\\n#             #             and df.loc[index, \\\"num_categories\\\"] == 0\\n#         ],\\n#         \\\"info_3_1\\\",\\n#     ]\\n#     .value_counts()\\n#     .index.tolist()\\n# )\";\n",
       "                var nbb_cells = Jupyter.notebook.get_cells();\n",
       "                for (var i = 0; i < nbb_cells.length; ++i) {\n",
       "                    if (nbb_cells[i].input_prompt_number == nbb_cell_id) {\n",
       "                        if (nbb_cells[i].get_text() == nbb_unformatted_code) {\n",
       "                             nbb_cells[i].set_text(nbb_formatted_code);\n",
       "                        }\n",
       "                        break;\n",
       "                    }\n",
       "                }\n",
       "            }, 500);\n",
       "            "
      ],
      "text/plain": [
       "<IPython.core.display.Javascript object>"
      ]
     },
     "metadata": {},
     "output_type": "display_data"
    }
   ],
   "source": [
    "# # Create specific_roles_cause_list for above popped value\n",
    "# specific_roles_cause_list = (\n",
    "#     df.loc[\n",
    "#         [\n",
    "#             index\n",
    "#             for index in df[df[\"info_3_1\"].notna()].index\n",
    "#             if \"mixed doubles\" in df.loc[index, \"info_3_1\"]\n",
    "#             #             and df.loc[index, \"politics_govt_law\"] == 0\n",
    "#             #             and df.loc[index, \"arts\"] == 0\n",
    "#             #             and df.loc[index, \"sciences\"] == 0\n",
    "#             #             and df.loc[index, \"spiritual\"] == 0\n",
    "#             #             and df.loc[index, \"law_enf_military_operator\"] == 0\n",
    "#             #             and df.loc[index, \"sports\"] == 0\n",
    "#             #             and df.loc[index, \"event_record_other\"] == 0\n",
    "#             #             and df.loc[index, \"crime\"] == 0\n",
    "#             #             and df.loc[index, \"academia_humanities\"] == 0\n",
    "#             #             and df.loc[index, \"business_farming\"] == 0\n",
    "#             #                         and df.loc[index, \"other_species\"] == 0\n",
    "#             #             and df.loc[index, \"num_categories\"] == 0\n",
    "#         ],\n",
    "#         \"info_3_1\",\n",
    "#     ]\n",
    "#     .value_counts()\n",
    "#     .index.tolist()\n",
    "# )"
   ]
  },
  {
   "cell_type": "code",
   "execution_count": 48,
   "id": "a9cdf48d",
   "metadata": {},
   "outputs": [
    {
     "data": {
      "application/javascript": [
       "\n",
       "            setTimeout(function() {\n",
       "                var nbb_cell_id = 48;\n",
       "                var nbb_unformatted_code = \"# # Viewing list sorted by descending length to copy to dictionary below and screen values\\n# sorted(specific_roles_cause_list, key=lambda x: len(x), reverse=True)\";\n",
       "                var nbb_formatted_code = \"# # Viewing list sorted by descending length to copy to dictionary below and screen values\\n# sorted(specific_roles_cause_list, key=lambda x: len(x), reverse=True)\";\n",
       "                var nbb_cells = Jupyter.notebook.get_cells();\n",
       "                for (var i = 0; i < nbb_cells.length; ++i) {\n",
       "                    if (nbb_cells[i].input_prompt_number == nbb_cell_id) {\n",
       "                        if (nbb_cells[i].get_text() == nbb_unformatted_code) {\n",
       "                             nbb_cells[i].set_text(nbb_formatted_code);\n",
       "                        }\n",
       "                        break;\n",
       "                    }\n",
       "                }\n",
       "            }, 500);\n",
       "            "
      ],
      "text/plain": [
       "<IPython.core.display.Javascript object>"
      ]
     },
     "metadata": {},
     "output_type": "display_data"
    }
   ],
   "source": [
    "# # Viewing list sorted by descending length to copy to dictionary below and screen values\n",
    "# sorted(specific_roles_cause_list, key=lambda x: len(x), reverse=True)"
   ]
  },
  {
   "cell_type": "code",
   "execution_count": 49,
   "id": "59ad6a83",
   "metadata": {},
   "outputs": [
    {
     "data": {
      "application/javascript": [
       "\n",
       "            setTimeout(function() {\n",
       "                var nbb_cell_id = 49;\n",
       "                var nbb_unformatted_code = \"# # Example code to quick-check a specific entry\\n# df[df[\\\"info_3_1\\\"] == \\\"mixed doubles\\\"]\";\n",
       "                var nbb_formatted_code = \"# # Example code to quick-check a specific entry\\n# df[df[\\\"info_3_1\\\"] == \\\"mixed doubles\\\"]\";\n",
       "                var nbb_cells = Jupyter.notebook.get_cells();\n",
       "                for (var i = 0; i < nbb_cells.length; ++i) {\n",
       "                    if (nbb_cells[i].input_prompt_number == nbb_cell_id) {\n",
       "                        if (nbb_cells[i].get_text() == nbb_unformatted_code) {\n",
       "                             nbb_cells[i].set_text(nbb_formatted_code);\n",
       "                        }\n",
       "                        break;\n",
       "                    }\n",
       "                }\n",
       "            }, 500);\n",
       "            "
      ],
      "text/plain": [
       "<IPython.core.display.Javascript object>"
      ]
     },
     "metadata": {},
     "output_type": "display_data"
    }
   ],
   "source": [
    "# # Example code to quick-check a specific entry\n",
    "# df[df[\"info_3_1\"] == \"mixed doubles\"]"
   ]
  },
  {
   "cell_type": "markdown",
   "id": "5a8eb8fd",
   "metadata": {},
   "source": [
    "#### Creating Lists for Each `known_for` Category and for `cause_of_death`"
   ]
  },
  {
   "cell_type": "code",
   "execution_count": 50,
   "id": "8ee6ee68",
   "metadata": {},
   "outputs": [
    {
     "data": {
      "application/javascript": [
       "\n",
       "            setTimeout(function() {\n",
       "                var nbb_cell_id = 50;\n",
       "                var nbb_unformatted_code = \"# Creating lists for each category and sorting by decreasing length and removing duplicates\\n\\npolitics_govt_law = [\\n    \\\"Vice President\\\",\\n    \\\"first president of the Republic of Northern\\\",\\n    \\\"president of the Chamber of Deputies\\\",\\n    \\\"president of the Democratic Union\\\",\\n    \\\"son of president Hafez al Assad\\\",\\n    \\\"an advisor to several presidents\\\",\\n    \\\"Gerakan Party founding president\\\",\\n    \\\"president of Johnny & Associates\\\",\\n    \\\"president of Research Council\\\",\\n    \\\"founding member of Amnesty International\\\",\\n    \\\"member of the Assembly of Experts\\\",\\n    \\\"Legislative Assembly member\\\",\\n    \\\"member of Parliament\\\",\\n    \\\"member of the CAE\\\",\\n    \\\"cabinet member\\\",\\n    \\\"military junta member\\\",\\n    \\\"lesbian policy\\\",\\n    \\\"employment\\\",\\n    \\\"conscription\\\",\\n    \\\"Pro President of City State\\\",\\n    \\\"President of Biafra\\\",\\n    \\\"Guidance Department of the Workers' Party of Korea\\\",\\n    \\\"last Socialist Party of mayor of a major city\\\",\\n    \\\"Communist Party Chief of Henan province\\\",\\n    \\\"the Earth Party\\\",\\n    \\\"Freedoms Party\\\",\\n    \\\"Life Party\\\",\\n    \\\"neo\\\",\\n    \\\"Mid Kent\\\",\\n    \\\"government co minister in the internal settlement government of\\\",\\n    \\\"minister in the Whitlam government\\\",\\n    \\\"advisor to two prime ministers\\\",\\n    \\\"twice minister of the interior\\\",\\n    \\\"twice deputy prime minister\\\",\\n    \\\"former foreign minister\\\",\\n    \\\"minister of Education\\\",\\n    \\\"deputy prime minister\\\",\\n    \\\"foreign minister of\\\",\\n    \\\"government minister\\\",\\n    \\\"cabinet minister\\\",\\n    \\\"Central Fife\\\",\\n    \\\"expert of affairs\\\",\\n    \\\"founding member of Amnesty International\\\",\\n    \\\"AM\\\",\\n    \\\"last Socialist Party of mayor of a major city\\\",\\n    \\\"former mayor of Bay City\\\",\\n    \\\"press secretary for Ronald Reagan\\\",\\n    \\\"under secretary of the Congregation for the Evangelization of Peoples\\\",\\n    \\\"secretary in charge of nuclear weapons\\\",\\n    \\\"personal secretary of Saddam Hussein\\\",\\n    \\\"conscientious objector\\\",\\n    \\\"first president of the Republic of Northern\\\",\\n    \\\"jurist\\\",\\n    \\\"Leader Of Islami Shashontantra Andolan\\\",\\n    \\\"supervisor of elections\\\",\\n    \\\"Commerce\\\",\\n    \\\"Guidance Department of the Workers' Party of Korea\\\",\\n    \\\"last Nawab of Pataudi\\\",\\n    \\\"Apostolic Nuncio to the\\\",\\n]\\npolitics_govt_law = sorted(\\n    list(set(politics_govt_law)), key=lambda x: len(x), reverse=True\\n)\\n\\narts = [\\n    \\\"acting\\\",\\n    \\\"Frances Dee\\\",\\n    \\\"member of the Rock Steady Crew\\\",\\n    \\\"Billie Burke\\\",\\n    \\\"popularizer of the Chicken Dance\\\",\\n    \\\"Life President of the Sydney International Piano Competition\\\",\\n    \\\"draughtswoman\\\",\\n    \\\"CEO of Warner Bros Records\\\",\\n    \\\"CEO of Ruth Eckerd Hall\\\",\\n    \\\"CEO of EMI Worldwide\\\",\\n    \\\"CEO of Off White\\\",\\n    \\\"CEO of Fox News\\\",\\n    \\\"CEO of NBC\\\",\\n    \\\"Tony Orlando\\\",\\n    \\\"John Coltrane\\\",\\n    \\\"creator of Sudoku\\\",\\n    \\\"chef who worked as Michael Barry\\\",\\n    \\\"master chef\\\",\\n    \\\"chef\\\",\\n    \\\"blues saxophonist\\\",\\n    \\\"saxophonist\\\",\\n    \\\"Helene Weigel\\\",\\n    \\\"nightclub owner\\\",\\n    \\\"gallery owner\\\",\\n    \\\"club owner\\\",\\n    \\\"librettist\\\",\\n    \\\"Larbey\\\",\\n    \\\"caricaturist\\\",\\n    \\\"WABC TV anchorman\\\",\\n    \\\"news anchor\\\",\\n    \\\"Warner Bros shorts from his tenure at\\\",\\n    \\\"the Daleks\\\",\\n    'David Letterman sidekick known as Larry \\\"Bud\\\" Melman',\\n    \\\"dancing partner of Buddy Ebsen\\\",\\n    'Bows\\\"',\\n    \\\"Wood Quay\\\",\\n    \\\"illustrated\\\",\\n    \\\"arts patron\\\",\\n    \\\"horticulturalist\\\",\\n    \\\"horticulturist\\\",\\n    \\\"proponent of Odissi dance\\\",\\n    \\\"dance\\\",\\n]\\narts = sorted(list(set(arts)), key=lambda x: len(x), reverse=True)\\n\\nsports = [\\n    \\\"player\\\",\\n    \\\"president of the Lancashire County Cricket Club\\\",\\n    \\\"President of Cricket\\\",\\n    \\\"ARU president\\\",\\n    \\\"member of the IOC\\\",\\n    \\\"former WRU President\\\",\\n    \\\"Timberwolves\\\",\\n    \\\"owner breeder of thoroughbred race horses\\\",\\n    \\\"former owner of Baseball Astros\\\",\\n    \\\"owner of the Toronto Blue Jays\\\",\\n    \\\"owner of the Buffalo Sabres\\\",\\n    \\\"owner of San Antonio Spurs\\\",\\n    \\\"football franchise owner\\\",\\n    \\\"sports franchise owner\\\",\\n    \\\"football team owner\\\",\\n    \\\"sports team owner\\\",\\n    \\\"racehorse owner\\\",\\n    \\\"horse owner\\\",\\n    \\\"team owner\\\",\\n    \\\"Grand Prix race car driver\\\",\\n    \\\"race car driver\\\",\\n    \\\"helped found Wrestling\\\",\\n    \\\"rugby league\\\",\\n    \\\"Detroit Tigers between and\\\",\\n    \\\"cricket for\\\",\\n    \\\"cricketer\\\",\\n    \\\"Leigh\\\",\\n    \\\"cc World Championships\\\",\\n    \\\"golfer\\\",\\n    \\\"named Lake Vostok\\\",\\n    \\\"mixed doubles\\\",\\n]\\nsports = sorted(list(set(sports)), key=lambda x: len(x), reverse=True)\\n\\nsciences = [\\n    \\\"researcher\\\",\\n    \\\"engineer\\\",\\n    \\\"president of NASSCOM\\\",\\n    \\\"discoverer of LSD\\\",\\n    \\\"Yngling class\\\",\\n    \\\"Nobel prize laureate\\\",\\n    \\\"Nobel laureate\\\",\\n    \\\"Ted Hughes\\\",\\n    \\\"Production Space Center\\\",\\n    \\\"principal investigator for STIS on the Hubble Space Telescope\\\",\\n    \\\"the Marshall Space Flight Center\\\",\\n    \\\"Life breakfast cereals\\\",\\n    \\\"moths\\\",\\n    \\\"processes\\\",\\n    \\\"the term AI\\\",\\n    \\\"the Unix operating system\\\",\\n]\\nsciences = sorted(list(set(sciences)), key=lambda x: len(x), reverse=True)\\n\\nbusiness_farming = [\\n    \\\"retailer\\\",\\n    \\\"President of Jer\\u00f3nimo Martins\\\",\\n    \\\"CEO of MVM Group\\\",\\n    \\\"former CEO of Wegmans Food Markets\\\",\\n    \\\"CEO of Scholastic Corporation\\\",\\n    \\\"CEO of Marriott International\\\",\\n    \\\"CEO of the Ford Motor Company\\\",\\n    \\\"CEO of Pacific Lumber Company\\\",\\n    \\\"CEO of International Group\\\",\\n    \\\"CEO of the Ford Foundation\\\",\\n    \\\"CEO of Braun Corporation\\\",\\n    \\\"CEO of Drummond Company\\\",\\n    \\\"CEO of Alaska Airlines\\\",\\n    \\\"CEO of Ashland Oil Inc\\\",\\n    \\\"CEO of General Motors\\\",\\n    \\\"CEO of ZeniMax Media\\\",\\n    \\\"CEO of Merrill Lynch\\\",\\n    \\\"CEO of Bear Stearns\\\",\\n    \\\"CEO of ITC Limited\\\",\\n    \\\"CEO of Jaguar Cars\\\",\\n    \\\"CEO of Paul Stuart\\\",\\n    \\\"CEO of Roadhouse\\\",\\n    \\\"CEO of Starbucks\\\",\\n    \\\"CEO of Trafigura\\\",\\n    \\\"CEO of Cintas\\\",\\n    \\\"CEO of Qualys\\\",\\n    \\\"CEO of Amtrak\\\",\\n    \\\"CEO of Vitol\\\",\\n    \\\"CEO of Atari\\\",\\n    \\\"CEO of Sony\\\",\\n    \\\"CEO of AOL\\\",\\n    \\\"CEO of IBM\\\",\\n    \\\"pioneer of low cost airlines\\\",\\n    \\\"owner of Parma Calcio\\\",\\n    \\\"owner of Tut By\\\",\\n    \\\"Anna Nicole Smith stepson\\\",\\n]\\nbusiness_farming = sorted(\\n    list(set(business_farming)), key=lambda x: len(x), reverse=True\\n)\\n\\nacademia_humanities = [\\n    \\\"preservationist\\\",\\n    \\\"president of the Union Nationale Inter universitaire\\\",\\n    \\\"president of multiple colleges\\\",\\n    \\\"the genetic classification of languages\\\",\\n    \\\"Chancellor of UC Berkeley\\\",\\n    \\\"chair of the Wordsworth Trust\\\",\\n    \\\"contributor to the Auschwitz Protocol\\\",\\n    \\\"Women Studies pioneer\\\",\\n    \\\"supporter of Esperanto\\\",\\n    \\\"archivist\\\",\\n]\\nacademia_humanities = sorted(\\n    list(set(academia_humanities)), key=lambda x: len(x), reverse=True\\n)\\n\\nlaw_enf_military_operator = [\\n    \\\"resistance member during World War II\\\",\\n    \\\"member of the Joint Chiefs of Staff\\\",\\n    \\\"Order of recipient\\\",\\n    \\\"knight of the Military Order of William\\\",\\n    \\\"noted PoW\\\",\\n    \\\"defence minister\\\",\\n    \\\"WRAF\\\",\\n    \\\"pilot of the world smallest jet\\\",\\n    \\\"defence secretary of\\\",\\n    \\\"Aviation\\\",\\n    \\\"Cornwall Constabulary\\\",\\n]\\nlaw_enf_military_operator = sorted(\\n    list(set(law_enf_military_operator)), key=lambda x: len(x), reverse=True\\n)\\n\\nspiritual = [\\n    \\\"two term president of the Southern Baptist Convention from to\\\",\\n    \\\"Humanistic Judaism movement\\\",\\n    \\\"Grand Master of the Sovereign Military Order of\\\",\\n    \\\"Baptist minister\\\",\\n    \\\"fundamentalist Christian minister\\\",\\n    \\\"baptist minister\\\",\\n    \\\"the Gulf\\\",\\n]\\nspiritual = sorted(list(set(spiritual)), key=lambda x: len(x), reverse=True)\\n\\nsocial = [\\n    \\\"founding member of World Wide Fund for Nature\\\",\\n]\\nsocial = sorted(list(set(social)), key=lambda x: len(x), reverse=True)\\n\\ncrime = []\\ncrime = sorted(list(set(crime)), key=lambda x: len(x), reverse=True)\\n\\nevent_record_other = [\\\"world second oldest living person\\\"]\\nevent_record_other = sorted(\\n    list(set(event_record_other)), key=lambda x: len(x), reverse=True\\n)\\n\\nother_species = [\\\"Hurricane Katrina\\\", \\\"Preakness winner\\\"]\\nother_species = sorted(list(set(other_species)), key=lambda x: len(x), reverse=True)\\n\\ncause_of_death = [\\n    \\\"stomach aneurysm\\\",\\n    \\\"lymphoma\\\",\\n    \\\"melanoma\\\",\\n    \\\"coma\\\",\\n    \\\"anti depressants\\\",\\n    \\\"stomach aneurysm\\\",\\n    \\\"rupture of the pancreas\\\",\\n    \\\"injuries from a car accident\\\",\\n    \\\"neck injuries\\\",\\n    \\\"killed at a midnight Christmas Mass\\\",\\n    \\\"killed during the Second Intifada\\\",\\n    \\\"killed in\\\",\\n    \\\"scleroderma\\\",\\n    \\\"septic shock\\\",\\n    \\\"complications from Alzheimer\\\",\\n    \\\"drug related complications\\\",\\n    \\\"respiratory complications\\\",\\n    \\\"complications from\\\",\\n    \\\"hypothermia\\\",\\n    \\\"torture\\\",\\n    \\\"benzodiazepine intoxication\\\",\\n    \\\"alcohol intoxication\\\",\\n    \\\"drug intoxication\\\",\\n    \\\"blood clots\\\",\\n    \\\"pulmonary hemorrhage\\\",\\n    \\\"brain hemorrhage\\\",\\n    \\\"ran over\\\",\\n]\\ncause_of_death = sorted(list(set(cause_of_death)), key=lambda x: len(x), reverse=True)\";\n",
       "                var nbb_formatted_code = \"# Creating lists for each category and sorting by decreasing length and removing duplicates\\n\\npolitics_govt_law = [\\n    \\\"Vice President\\\",\\n    \\\"first president of the Republic of Northern\\\",\\n    \\\"president of the Chamber of Deputies\\\",\\n    \\\"president of the Democratic Union\\\",\\n    \\\"son of president Hafez al Assad\\\",\\n    \\\"an advisor to several presidents\\\",\\n    \\\"Gerakan Party founding president\\\",\\n    \\\"president of Johnny & Associates\\\",\\n    \\\"president of Research Council\\\",\\n    \\\"founding member of Amnesty International\\\",\\n    \\\"member of the Assembly of Experts\\\",\\n    \\\"Legislative Assembly member\\\",\\n    \\\"member of Parliament\\\",\\n    \\\"member of the CAE\\\",\\n    \\\"cabinet member\\\",\\n    \\\"military junta member\\\",\\n    \\\"lesbian policy\\\",\\n    \\\"employment\\\",\\n    \\\"conscription\\\",\\n    \\\"Pro President of City State\\\",\\n    \\\"President of Biafra\\\",\\n    \\\"Guidance Department of the Workers' Party of Korea\\\",\\n    \\\"last Socialist Party of mayor of a major city\\\",\\n    \\\"Communist Party Chief of Henan province\\\",\\n    \\\"the Earth Party\\\",\\n    \\\"Freedoms Party\\\",\\n    \\\"Life Party\\\",\\n    \\\"neo\\\",\\n    \\\"Mid Kent\\\",\\n    \\\"government co minister in the internal settlement government of\\\",\\n    \\\"minister in the Whitlam government\\\",\\n    \\\"advisor to two prime ministers\\\",\\n    \\\"twice minister of the interior\\\",\\n    \\\"twice deputy prime minister\\\",\\n    \\\"former foreign minister\\\",\\n    \\\"minister of Education\\\",\\n    \\\"deputy prime minister\\\",\\n    \\\"foreign minister of\\\",\\n    \\\"government minister\\\",\\n    \\\"cabinet minister\\\",\\n    \\\"Central Fife\\\",\\n    \\\"expert of affairs\\\",\\n    \\\"founding member of Amnesty International\\\",\\n    \\\"AM\\\",\\n    \\\"last Socialist Party of mayor of a major city\\\",\\n    \\\"former mayor of Bay City\\\",\\n    \\\"press secretary for Ronald Reagan\\\",\\n    \\\"under secretary of the Congregation for the Evangelization of Peoples\\\",\\n    \\\"secretary in charge of nuclear weapons\\\",\\n    \\\"personal secretary of Saddam Hussein\\\",\\n    \\\"conscientious objector\\\",\\n    \\\"first president of the Republic of Northern\\\",\\n    \\\"jurist\\\",\\n    \\\"Leader Of Islami Shashontantra Andolan\\\",\\n    \\\"supervisor of elections\\\",\\n    \\\"Commerce\\\",\\n    \\\"Guidance Department of the Workers' Party of Korea\\\",\\n    \\\"last Nawab of Pataudi\\\",\\n    \\\"Apostolic Nuncio to the\\\",\\n]\\npolitics_govt_law = sorted(\\n    list(set(politics_govt_law)), key=lambda x: len(x), reverse=True\\n)\\n\\narts = [\\n    \\\"acting\\\",\\n    \\\"Frances Dee\\\",\\n    \\\"member of the Rock Steady Crew\\\",\\n    \\\"Billie Burke\\\",\\n    \\\"popularizer of the Chicken Dance\\\",\\n    \\\"Life President of the Sydney International Piano Competition\\\",\\n    \\\"draughtswoman\\\",\\n    \\\"CEO of Warner Bros Records\\\",\\n    \\\"CEO of Ruth Eckerd Hall\\\",\\n    \\\"CEO of EMI Worldwide\\\",\\n    \\\"CEO of Off White\\\",\\n    \\\"CEO of Fox News\\\",\\n    \\\"CEO of NBC\\\",\\n    \\\"Tony Orlando\\\",\\n    \\\"John Coltrane\\\",\\n    \\\"creator of Sudoku\\\",\\n    \\\"chef who worked as Michael Barry\\\",\\n    \\\"master chef\\\",\\n    \\\"chef\\\",\\n    \\\"blues saxophonist\\\",\\n    \\\"saxophonist\\\",\\n    \\\"Helene Weigel\\\",\\n    \\\"nightclub owner\\\",\\n    \\\"gallery owner\\\",\\n    \\\"club owner\\\",\\n    \\\"librettist\\\",\\n    \\\"Larbey\\\",\\n    \\\"caricaturist\\\",\\n    \\\"WABC TV anchorman\\\",\\n    \\\"news anchor\\\",\\n    \\\"Warner Bros shorts from his tenure at\\\",\\n    \\\"the Daleks\\\",\\n    'David Letterman sidekick known as Larry \\\"Bud\\\" Melman',\\n    \\\"dancing partner of Buddy Ebsen\\\",\\n    'Bows\\\"',\\n    \\\"Wood Quay\\\",\\n    \\\"illustrated\\\",\\n    \\\"arts patron\\\",\\n    \\\"horticulturalist\\\",\\n    \\\"horticulturist\\\",\\n    \\\"proponent of Odissi dance\\\",\\n    \\\"dance\\\",\\n]\\narts = sorted(list(set(arts)), key=lambda x: len(x), reverse=True)\\n\\nsports = [\\n    \\\"player\\\",\\n    \\\"president of the Lancashire County Cricket Club\\\",\\n    \\\"President of Cricket\\\",\\n    \\\"ARU president\\\",\\n    \\\"member of the IOC\\\",\\n    \\\"former WRU President\\\",\\n    \\\"Timberwolves\\\",\\n    \\\"owner breeder of thoroughbred race horses\\\",\\n    \\\"former owner of Baseball Astros\\\",\\n    \\\"owner of the Toronto Blue Jays\\\",\\n    \\\"owner of the Buffalo Sabres\\\",\\n    \\\"owner of San Antonio Spurs\\\",\\n    \\\"football franchise owner\\\",\\n    \\\"sports franchise owner\\\",\\n    \\\"football team owner\\\",\\n    \\\"sports team owner\\\",\\n    \\\"racehorse owner\\\",\\n    \\\"horse owner\\\",\\n    \\\"team owner\\\",\\n    \\\"Grand Prix race car driver\\\",\\n    \\\"race car driver\\\",\\n    \\\"helped found Wrestling\\\",\\n    \\\"rugby league\\\",\\n    \\\"Detroit Tigers between and\\\",\\n    \\\"cricket for\\\",\\n    \\\"cricketer\\\",\\n    \\\"Leigh\\\",\\n    \\\"cc World Championships\\\",\\n    \\\"golfer\\\",\\n    \\\"named Lake Vostok\\\",\\n    \\\"mixed doubles\\\",\\n]\\nsports = sorted(list(set(sports)), key=lambda x: len(x), reverse=True)\\n\\nsciences = [\\n    \\\"researcher\\\",\\n    \\\"engineer\\\",\\n    \\\"president of NASSCOM\\\",\\n    \\\"discoverer of LSD\\\",\\n    \\\"Yngling class\\\",\\n    \\\"Nobel prize laureate\\\",\\n    \\\"Nobel laureate\\\",\\n    \\\"Ted Hughes\\\",\\n    \\\"Production Space Center\\\",\\n    \\\"principal investigator for STIS on the Hubble Space Telescope\\\",\\n    \\\"the Marshall Space Flight Center\\\",\\n    \\\"Life breakfast cereals\\\",\\n    \\\"moths\\\",\\n    \\\"processes\\\",\\n    \\\"the term AI\\\",\\n    \\\"the Unix operating system\\\",\\n]\\nsciences = sorted(list(set(sciences)), key=lambda x: len(x), reverse=True)\\n\\nbusiness_farming = [\\n    \\\"retailer\\\",\\n    \\\"President of Jer\\u00f3nimo Martins\\\",\\n    \\\"CEO of MVM Group\\\",\\n    \\\"former CEO of Wegmans Food Markets\\\",\\n    \\\"CEO of Scholastic Corporation\\\",\\n    \\\"CEO of Marriott International\\\",\\n    \\\"CEO of the Ford Motor Company\\\",\\n    \\\"CEO of Pacific Lumber Company\\\",\\n    \\\"CEO of International Group\\\",\\n    \\\"CEO of the Ford Foundation\\\",\\n    \\\"CEO of Braun Corporation\\\",\\n    \\\"CEO of Drummond Company\\\",\\n    \\\"CEO of Alaska Airlines\\\",\\n    \\\"CEO of Ashland Oil Inc\\\",\\n    \\\"CEO of General Motors\\\",\\n    \\\"CEO of ZeniMax Media\\\",\\n    \\\"CEO of Merrill Lynch\\\",\\n    \\\"CEO of Bear Stearns\\\",\\n    \\\"CEO of ITC Limited\\\",\\n    \\\"CEO of Jaguar Cars\\\",\\n    \\\"CEO of Paul Stuart\\\",\\n    \\\"CEO of Roadhouse\\\",\\n    \\\"CEO of Starbucks\\\",\\n    \\\"CEO of Trafigura\\\",\\n    \\\"CEO of Cintas\\\",\\n    \\\"CEO of Qualys\\\",\\n    \\\"CEO of Amtrak\\\",\\n    \\\"CEO of Vitol\\\",\\n    \\\"CEO of Atari\\\",\\n    \\\"CEO of Sony\\\",\\n    \\\"CEO of AOL\\\",\\n    \\\"CEO of IBM\\\",\\n    \\\"pioneer of low cost airlines\\\",\\n    \\\"owner of Parma Calcio\\\",\\n    \\\"owner of Tut By\\\",\\n    \\\"Anna Nicole Smith stepson\\\",\\n]\\nbusiness_farming = sorted(\\n    list(set(business_farming)), key=lambda x: len(x), reverse=True\\n)\\n\\nacademia_humanities = [\\n    \\\"preservationist\\\",\\n    \\\"president of the Union Nationale Inter universitaire\\\",\\n    \\\"president of multiple colleges\\\",\\n    \\\"the genetic classification of languages\\\",\\n    \\\"Chancellor of UC Berkeley\\\",\\n    \\\"chair of the Wordsworth Trust\\\",\\n    \\\"contributor to the Auschwitz Protocol\\\",\\n    \\\"Women Studies pioneer\\\",\\n    \\\"supporter of Esperanto\\\",\\n    \\\"archivist\\\",\\n]\\nacademia_humanities = sorted(\\n    list(set(academia_humanities)), key=lambda x: len(x), reverse=True\\n)\\n\\nlaw_enf_military_operator = [\\n    \\\"resistance member during World War II\\\",\\n    \\\"member of the Joint Chiefs of Staff\\\",\\n    \\\"Order of recipient\\\",\\n    \\\"knight of the Military Order of William\\\",\\n    \\\"noted PoW\\\",\\n    \\\"defence minister\\\",\\n    \\\"WRAF\\\",\\n    \\\"pilot of the world smallest jet\\\",\\n    \\\"defence secretary of\\\",\\n    \\\"Aviation\\\",\\n    \\\"Cornwall Constabulary\\\",\\n]\\nlaw_enf_military_operator = sorted(\\n    list(set(law_enf_military_operator)), key=lambda x: len(x), reverse=True\\n)\\n\\nspiritual = [\\n    \\\"two term president of the Southern Baptist Convention from to\\\",\\n    \\\"Humanistic Judaism movement\\\",\\n    \\\"Grand Master of the Sovereign Military Order of\\\",\\n    \\\"Baptist minister\\\",\\n    \\\"fundamentalist Christian minister\\\",\\n    \\\"baptist minister\\\",\\n    \\\"the Gulf\\\",\\n]\\nspiritual = sorted(list(set(spiritual)), key=lambda x: len(x), reverse=True)\\n\\nsocial = [\\n    \\\"founding member of World Wide Fund for Nature\\\",\\n]\\nsocial = sorted(list(set(social)), key=lambda x: len(x), reverse=True)\\n\\ncrime = []\\ncrime = sorted(list(set(crime)), key=lambda x: len(x), reverse=True)\\n\\nevent_record_other = [\\\"world second oldest living person\\\"]\\nevent_record_other = sorted(\\n    list(set(event_record_other)), key=lambda x: len(x), reverse=True\\n)\\n\\nother_species = [\\\"Hurricane Katrina\\\", \\\"Preakness winner\\\"]\\nother_species = sorted(list(set(other_species)), key=lambda x: len(x), reverse=True)\\n\\ncause_of_death = [\\n    \\\"stomach aneurysm\\\",\\n    \\\"lymphoma\\\",\\n    \\\"melanoma\\\",\\n    \\\"coma\\\",\\n    \\\"anti depressants\\\",\\n    \\\"stomach aneurysm\\\",\\n    \\\"rupture of the pancreas\\\",\\n    \\\"injuries from a car accident\\\",\\n    \\\"neck injuries\\\",\\n    \\\"killed at a midnight Christmas Mass\\\",\\n    \\\"killed during the Second Intifada\\\",\\n    \\\"killed in\\\",\\n    \\\"scleroderma\\\",\\n    \\\"septic shock\\\",\\n    \\\"complications from Alzheimer\\\",\\n    \\\"drug related complications\\\",\\n    \\\"respiratory complications\\\",\\n    \\\"complications from\\\",\\n    \\\"hypothermia\\\",\\n    \\\"torture\\\",\\n    \\\"benzodiazepine intoxication\\\",\\n    \\\"alcohol intoxication\\\",\\n    \\\"drug intoxication\\\",\\n    \\\"blood clots\\\",\\n    \\\"pulmonary hemorrhage\\\",\\n    \\\"brain hemorrhage\\\",\\n    \\\"ran over\\\",\\n]\\ncause_of_death = sorted(list(set(cause_of_death)), key=lambda x: len(x), reverse=True)\";\n",
       "                var nbb_cells = Jupyter.notebook.get_cells();\n",
       "                for (var i = 0; i < nbb_cells.length; ++i) {\n",
       "                    if (nbb_cells[i].input_prompt_number == nbb_cell_id) {\n",
       "                        if (nbb_cells[i].get_text() == nbb_unformatted_code) {\n",
       "                             nbb_cells[i].set_text(nbb_formatted_code);\n",
       "                        }\n",
       "                        break;\n",
       "                    }\n",
       "                }\n",
       "            }, 500);\n",
       "            "
      ],
      "text/plain": [
       "<IPython.core.display.Javascript object>"
      ]
     },
     "metadata": {},
     "output_type": "display_data"
    }
   ],
   "source": [
    "# Creating lists for each category and sorting by decreasing length and removing duplicates\n",
    "\n",
    "politics_govt_law = [\n",
    "    \"Vice President\",\n",
    "    \"first president of the Republic of Northern\",\n",
    "    \"president of the Chamber of Deputies\",\n",
    "    \"president of the Democratic Union\",\n",
    "    \"son of president Hafez al Assad\",\n",
    "    \"an advisor to several presidents\",\n",
    "    \"Gerakan Party founding president\",\n",
    "    \"president of Johnny & Associates\",\n",
    "    \"president of Research Council\",\n",
    "    \"founding member of Amnesty International\",\n",
    "    \"member of the Assembly of Experts\",\n",
    "    \"Legislative Assembly member\",\n",
    "    \"member of Parliament\",\n",
    "    \"member of the CAE\",\n",
    "    \"cabinet member\",\n",
    "    \"military junta member\",\n",
    "    \"lesbian policy\",\n",
    "    \"employment\",\n",
    "    \"conscription\",\n",
    "    \"Pro President of City State\",\n",
    "    \"President of Biafra\",\n",
    "    \"Guidance Department of the Workers' Party of Korea\",\n",
    "    \"last Socialist Party of mayor of a major city\",\n",
    "    \"Communist Party Chief of Henan province\",\n",
    "    \"the Earth Party\",\n",
    "    \"Freedoms Party\",\n",
    "    \"Life Party\",\n",
    "    \"neo\",\n",
    "    \"Mid Kent\",\n",
    "    \"government co minister in the internal settlement government of\",\n",
    "    \"minister in the Whitlam government\",\n",
    "    \"advisor to two prime ministers\",\n",
    "    \"twice minister of the interior\",\n",
    "    \"twice deputy prime minister\",\n",
    "    \"former foreign minister\",\n",
    "    \"minister of Education\",\n",
    "    \"deputy prime minister\",\n",
    "    \"foreign minister of\",\n",
    "    \"government minister\",\n",
    "    \"cabinet minister\",\n",
    "    \"Central Fife\",\n",
    "    \"expert of affairs\",\n",
    "    \"founding member of Amnesty International\",\n",
    "    \"AM\",\n",
    "    \"last Socialist Party of mayor of a major city\",\n",
    "    \"former mayor of Bay City\",\n",
    "    \"press secretary for Ronald Reagan\",\n",
    "    \"under secretary of the Congregation for the Evangelization of Peoples\",\n",
    "    \"secretary in charge of nuclear weapons\",\n",
    "    \"personal secretary of Saddam Hussein\",\n",
    "    \"conscientious objector\",\n",
    "    \"first president of the Republic of Northern\",\n",
    "    \"jurist\",\n",
    "    \"Leader Of Islami Shashontantra Andolan\",\n",
    "    \"supervisor of elections\",\n",
    "    \"Commerce\",\n",
    "    \"Guidance Department of the Workers' Party of Korea\",\n",
    "    \"last Nawab of Pataudi\",\n",
    "    \"Apostolic Nuncio to the\",\n",
    "]\n",
    "politics_govt_law = sorted(\n",
    "    list(set(politics_govt_law)), key=lambda x: len(x), reverse=True\n",
    ")\n",
    "\n",
    "arts = [\n",
    "    \"acting\",\n",
    "    \"Frances Dee\",\n",
    "    \"member of the Rock Steady Crew\",\n",
    "    \"Billie Burke\",\n",
    "    \"popularizer of the Chicken Dance\",\n",
    "    \"Life President of the Sydney International Piano Competition\",\n",
    "    \"draughtswoman\",\n",
    "    \"CEO of Warner Bros Records\",\n",
    "    \"CEO of Ruth Eckerd Hall\",\n",
    "    \"CEO of EMI Worldwide\",\n",
    "    \"CEO of Off White\",\n",
    "    \"CEO of Fox News\",\n",
    "    \"CEO of NBC\",\n",
    "    \"Tony Orlando\",\n",
    "    \"John Coltrane\",\n",
    "    \"creator of Sudoku\",\n",
    "    \"chef who worked as Michael Barry\",\n",
    "    \"master chef\",\n",
    "    \"chef\",\n",
    "    \"blues saxophonist\",\n",
    "    \"saxophonist\",\n",
    "    \"Helene Weigel\",\n",
    "    \"nightclub owner\",\n",
    "    \"gallery owner\",\n",
    "    \"club owner\",\n",
    "    \"librettist\",\n",
    "    \"Larbey\",\n",
    "    \"caricaturist\",\n",
    "    \"WABC TV anchorman\",\n",
    "    \"news anchor\",\n",
    "    \"Warner Bros shorts from his tenure at\",\n",
    "    \"the Daleks\",\n",
    "    'David Letterman sidekick known as Larry \"Bud\" Melman',\n",
    "    \"dancing partner of Buddy Ebsen\",\n",
    "    'Bows\"',\n",
    "    \"Wood Quay\",\n",
    "    \"illustrated\",\n",
    "    \"arts patron\",\n",
    "    \"horticulturalist\",\n",
    "    \"horticulturist\",\n",
    "    \"proponent of Odissi dance\",\n",
    "    \"dance\",\n",
    "]\n",
    "arts = sorted(list(set(arts)), key=lambda x: len(x), reverse=True)\n",
    "\n",
    "sports = [\n",
    "    \"player\",\n",
    "    \"president of the Lancashire County Cricket Club\",\n",
    "    \"President of Cricket\",\n",
    "    \"ARU president\",\n",
    "    \"member of the IOC\",\n",
    "    \"former WRU President\",\n",
    "    \"Timberwolves\",\n",
    "    \"owner breeder of thoroughbred race horses\",\n",
    "    \"former owner of Baseball Astros\",\n",
    "    \"owner of the Toronto Blue Jays\",\n",
    "    \"owner of the Buffalo Sabres\",\n",
    "    \"owner of San Antonio Spurs\",\n",
    "    \"football franchise owner\",\n",
    "    \"sports franchise owner\",\n",
    "    \"football team owner\",\n",
    "    \"sports team owner\",\n",
    "    \"racehorse owner\",\n",
    "    \"horse owner\",\n",
    "    \"team owner\",\n",
    "    \"Grand Prix race car driver\",\n",
    "    \"race car driver\",\n",
    "    \"helped found Wrestling\",\n",
    "    \"rugby league\",\n",
    "    \"Detroit Tigers between and\",\n",
    "    \"cricket for\",\n",
    "    \"cricketer\",\n",
    "    \"Leigh\",\n",
    "    \"cc World Championships\",\n",
    "    \"golfer\",\n",
    "    \"named Lake Vostok\",\n",
    "    \"mixed doubles\",\n",
    "]\n",
    "sports = sorted(list(set(sports)), key=lambda x: len(x), reverse=True)\n",
    "\n",
    "sciences = [\n",
    "    \"researcher\",\n",
    "    \"engineer\",\n",
    "    \"president of NASSCOM\",\n",
    "    \"discoverer of LSD\",\n",
    "    \"Yngling class\",\n",
    "    \"Nobel prize laureate\",\n",
    "    \"Nobel laureate\",\n",
    "    \"Ted Hughes\",\n",
    "    \"Production Space Center\",\n",
    "    \"principal investigator for STIS on the Hubble Space Telescope\",\n",
    "    \"the Marshall Space Flight Center\",\n",
    "    \"Life breakfast cereals\",\n",
    "    \"moths\",\n",
    "    \"processes\",\n",
    "    \"the term AI\",\n",
    "    \"the Unix operating system\",\n",
    "]\n",
    "sciences = sorted(list(set(sciences)), key=lambda x: len(x), reverse=True)\n",
    "\n",
    "business_farming = [\n",
    "    \"retailer\",\n",
    "    \"President of Jerónimo Martins\",\n",
    "    \"CEO of MVM Group\",\n",
    "    \"former CEO of Wegmans Food Markets\",\n",
    "    \"CEO of Scholastic Corporation\",\n",
    "    \"CEO of Marriott International\",\n",
    "    \"CEO of the Ford Motor Company\",\n",
    "    \"CEO of Pacific Lumber Company\",\n",
    "    \"CEO of International Group\",\n",
    "    \"CEO of the Ford Foundation\",\n",
    "    \"CEO of Braun Corporation\",\n",
    "    \"CEO of Drummond Company\",\n",
    "    \"CEO of Alaska Airlines\",\n",
    "    \"CEO of Ashland Oil Inc\",\n",
    "    \"CEO of General Motors\",\n",
    "    \"CEO of ZeniMax Media\",\n",
    "    \"CEO of Merrill Lynch\",\n",
    "    \"CEO of Bear Stearns\",\n",
    "    \"CEO of ITC Limited\",\n",
    "    \"CEO of Jaguar Cars\",\n",
    "    \"CEO of Paul Stuart\",\n",
    "    \"CEO of Roadhouse\",\n",
    "    \"CEO of Starbucks\",\n",
    "    \"CEO of Trafigura\",\n",
    "    \"CEO of Cintas\",\n",
    "    \"CEO of Qualys\",\n",
    "    \"CEO of Amtrak\",\n",
    "    \"CEO of Vitol\",\n",
    "    \"CEO of Atari\",\n",
    "    \"CEO of Sony\",\n",
    "    \"CEO of AOL\",\n",
    "    \"CEO of IBM\",\n",
    "    \"pioneer of low cost airlines\",\n",
    "    \"owner of Parma Calcio\",\n",
    "    \"owner of Tut By\",\n",
    "    \"Anna Nicole Smith stepson\",\n",
    "]\n",
    "business_farming = sorted(\n",
    "    list(set(business_farming)), key=lambda x: len(x), reverse=True\n",
    ")\n",
    "\n",
    "academia_humanities = [\n",
    "    \"preservationist\",\n",
    "    \"president of the Union Nationale Inter universitaire\",\n",
    "    \"president of multiple colleges\",\n",
    "    \"the genetic classification of languages\",\n",
    "    \"Chancellor of UC Berkeley\",\n",
    "    \"chair of the Wordsworth Trust\",\n",
    "    \"contributor to the Auschwitz Protocol\",\n",
    "    \"Women Studies pioneer\",\n",
    "    \"supporter of Esperanto\",\n",
    "    \"archivist\",\n",
    "]\n",
    "academia_humanities = sorted(\n",
    "    list(set(academia_humanities)), key=lambda x: len(x), reverse=True\n",
    ")\n",
    "\n",
    "law_enf_military_operator = [\n",
    "    \"resistance member during World War II\",\n",
    "    \"member of the Joint Chiefs of Staff\",\n",
    "    \"Order of recipient\",\n",
    "    \"knight of the Military Order of William\",\n",
    "    \"noted PoW\",\n",
    "    \"defence minister\",\n",
    "    \"WRAF\",\n",
    "    \"pilot of the world smallest jet\",\n",
    "    \"defence secretary of\",\n",
    "    \"Aviation\",\n",
    "    \"Cornwall Constabulary\",\n",
    "]\n",
    "law_enf_military_operator = sorted(\n",
    "    list(set(law_enf_military_operator)), key=lambda x: len(x), reverse=True\n",
    ")\n",
    "\n",
    "spiritual = [\n",
    "    \"two term president of the Southern Baptist Convention from to\",\n",
    "    \"Humanistic Judaism movement\",\n",
    "    \"Grand Master of the Sovereign Military Order of\",\n",
    "    \"Baptist minister\",\n",
    "    \"fundamentalist Christian minister\",\n",
    "    \"baptist minister\",\n",
    "    \"the Gulf\",\n",
    "]\n",
    "spiritual = sorted(list(set(spiritual)), key=lambda x: len(x), reverse=True)\n",
    "\n",
    "social = [\n",
    "    \"founding member of World Wide Fund for Nature\",\n",
    "]\n",
    "social = sorted(list(set(social)), key=lambda x: len(x), reverse=True)\n",
    "\n",
    "crime = []\n",
    "crime = sorted(list(set(crime)), key=lambda x: len(x), reverse=True)\n",
    "\n",
    "event_record_other = [\"world second oldest living person\"]\n",
    "event_record_other = sorted(\n",
    "    list(set(event_record_other)), key=lambda x: len(x), reverse=True\n",
    ")\n",
    "\n",
    "other_species = [\"Hurricane Katrina\", \"Preakness winner\"]\n",
    "other_species = sorted(list(set(other_species)), key=lambda x: len(x), reverse=True)\n",
    "\n",
    "cause_of_death = [\n",
    "    \"stomach aneurysm\",\n",
    "    \"lymphoma\",\n",
    "    \"melanoma\",\n",
    "    \"coma\",\n",
    "    \"anti depressants\",\n",
    "    \"stomach aneurysm\",\n",
    "    \"rupture of the pancreas\",\n",
    "    \"injuries from a car accident\",\n",
    "    \"neck injuries\",\n",
    "    \"killed at a midnight Christmas Mass\",\n",
    "    \"killed during the Second Intifada\",\n",
    "    \"killed in\",\n",
    "    \"scleroderma\",\n",
    "    \"septic shock\",\n",
    "    \"complications from Alzheimer\",\n",
    "    \"drug related complications\",\n",
    "    \"respiratory complications\",\n",
    "    \"complications from\",\n",
    "    \"hypothermia\",\n",
    "    \"torture\",\n",
    "    \"benzodiazepine intoxication\",\n",
    "    \"alcohol intoxication\",\n",
    "    \"drug intoxication\",\n",
    "    \"blood clots\",\n",
    "    \"pulmonary hemorrhage\",\n",
    "    \"brain hemorrhage\",\n",
    "    \"ran over\",\n",
    "]\n",
    "cause_of_death = sorted(list(set(cause_of_death)), key=lambda x: len(x), reverse=True)"
   ]
  },
  {
   "cell_type": "code",
   "execution_count": 51,
   "id": "a13a06ab",
   "metadata": {},
   "outputs": [
    {
     "data": {
      "application/javascript": [
       "\n",
       "            setTimeout(function() {\n",
       "                var nbb_cell_id = 51;\n",
       "                var nbb_unformatted_code = \"# Dropping info_3_1 value for entries with redundant category value\\ndf.loc[\\n    [\\n        index\\n        for index in df[df[\\\"info_3_1\\\"].notna()].index\\n        if \\\"culture\\\" in df.loc[index, \\\"info_3_1\\\"]\\n    ],\\n    \\\"info_3_1\\\",\\n] = \\\"\\\"\\n\\n# Dropping info_3_1 value for entries with redundant category value\\ndf.loc[\\n    [\\n        index\\n        for index in df[df[\\\"info_3_1\\\"].notna()].index\\n        if \\\"founder\\\" in df.loc[index, \\\"info_3_1\\\"]\\n    ],\\n    \\\"info_3_1\\\",\\n] = \\\"\\\"\";\n",
       "                var nbb_formatted_code = \"# Dropping info_3_1 value for entries with redundant category value\\ndf.loc[\\n    [\\n        index\\n        for index in df[df[\\\"info_3_1\\\"].notna()].index\\n        if \\\"culture\\\" in df.loc[index, \\\"info_3_1\\\"]\\n    ],\\n    \\\"info_3_1\\\",\\n] = \\\"\\\"\\n\\n# Dropping info_3_1 value for entries with redundant category value\\ndf.loc[\\n    [\\n        index\\n        for index in df[df[\\\"info_3_1\\\"].notna()].index\\n        if \\\"founder\\\" in df.loc[index, \\\"info_3_1\\\"]\\n    ],\\n    \\\"info_3_1\\\",\\n] = \\\"\\\"\";\n",
       "                var nbb_cells = Jupyter.notebook.get_cells();\n",
       "                for (var i = 0; i < nbb_cells.length; ++i) {\n",
       "                    if (nbb_cells[i].input_prompt_number == nbb_cell_id) {\n",
       "                        if (nbb_cells[i].get_text() == nbb_unformatted_code) {\n",
       "                             nbb_cells[i].set_text(nbb_formatted_code);\n",
       "                        }\n",
       "                        break;\n",
       "                    }\n",
       "                }\n",
       "            }, 500);\n",
       "            "
      ],
      "text/plain": [
       "<IPython.core.display.Javascript object>"
      ]
     },
     "metadata": {},
     "output_type": "display_data"
    }
   ],
   "source": [
    "# Dropping info_3_1 value for entries with redundant category value\n",
    "df.loc[\n",
    "    [\n",
    "        index\n",
    "        for index in df[df[\"info_3_1\"].notna()].index\n",
    "        if \"culture\" in df.loc[index, \"info_3_1\"]\n",
    "    ],\n",
    "    \"info_3_1\",\n",
    "] = \"\"\n",
    "\n",
    "# Dropping info_3_1 value for entries with redundant category value\n",
    "df.loc[\n",
    "    [\n",
    "        index\n",
    "        for index in df[df[\"info_3_1\"].notna()].index\n",
    "        if \"founder\" in df.loc[index, \"info_3_1\"]\n",
    "    ],\n",
    "    \"info_3_1\",\n",
    "] = \"\""
   ]
  },
  {
   "cell_type": "markdown",
   "id": "7f2ae8b6",
   "metadata": {},
   "source": [
    "#### Creating `known_for_dict` Dictionary of Category Keys and Specific Role Lists of Values"
   ]
  },
  {
   "cell_type": "code",
   "execution_count": 52,
   "id": "b1d690df",
   "metadata": {},
   "outputs": [
    {
     "data": {
      "application/javascript": [
       "\n",
       "            setTimeout(function() {\n",
       "                var nbb_cell_id = 52;\n",
       "                var nbb_unformatted_code = \"# Combining separate lists into one dictionary\\nknown_for_dict = {\\n    \\\"social\\\": social,\\n    \\\"spiritual\\\": spiritual,\\n    \\\"academia_humanities\\\": academia_humanities,\\n    \\\"business_farming\\\": business_farming,\\n    \\\"sciences\\\": sciences,\\n    \\\"politics_govt_law\\\": politics_govt_law,\\n    \\\"law_enf_military_operator\\\": law_enf_military_operator,\\n    \\\"crime\\\": crime,\\n    \\\"event_record_other\\\": event_record_other,\\n    \\\"other_species\\\": other_species,\\n    \\\"arts\\\": arts,\\n    \\\"sports\\\": sports,\\n}\";\n",
       "                var nbb_formatted_code = \"# Combining separate lists into one dictionary\\nknown_for_dict = {\\n    \\\"social\\\": social,\\n    \\\"spiritual\\\": spiritual,\\n    \\\"academia_humanities\\\": academia_humanities,\\n    \\\"business_farming\\\": business_farming,\\n    \\\"sciences\\\": sciences,\\n    \\\"politics_govt_law\\\": politics_govt_law,\\n    \\\"law_enf_military_operator\\\": law_enf_military_operator,\\n    \\\"crime\\\": crime,\\n    \\\"event_record_other\\\": event_record_other,\\n    \\\"other_species\\\": other_species,\\n    \\\"arts\\\": arts,\\n    \\\"sports\\\": sports,\\n}\";\n",
       "                var nbb_cells = Jupyter.notebook.get_cells();\n",
       "                for (var i = 0; i < nbb_cells.length; ++i) {\n",
       "                    if (nbb_cells[i].input_prompt_number == nbb_cell_id) {\n",
       "                        if (nbb_cells[i].get_text() == nbb_unformatted_code) {\n",
       "                             nbb_cells[i].set_text(nbb_formatted_code);\n",
       "                        }\n",
       "                        break;\n",
       "                    }\n",
       "                }\n",
       "            }, 500);\n",
       "            "
      ],
      "text/plain": [
       "<IPython.core.display.Javascript object>"
      ]
     },
     "metadata": {},
     "output_type": "display_data"
    }
   ],
   "source": [
    "# Combining separate lists into one dictionary\n",
    "known_for_dict = {\n",
    "    \"social\": social,\n",
    "    \"spiritual\": spiritual,\n",
    "    \"academia_humanities\": academia_humanities,\n",
    "    \"business_farming\": business_farming,\n",
    "    \"sciences\": sciences,\n",
    "    \"politics_govt_law\": politics_govt_law,\n",
    "    \"law_enf_military_operator\": law_enf_military_operator,\n",
    "    \"crime\": crime,\n",
    "    \"event_record_other\": event_record_other,\n",
    "    \"other_species\": other_species,\n",
    "    \"arts\": arts,\n",
    "    \"sports\": sports,\n",
    "}"
   ]
  },
  {
   "cell_type": "markdown",
   "id": "2b01de2c",
   "metadata": {},
   "source": [
    "#### Extracting `known_for` Categories and `cause_of_death` Values from `info_3_1`"
   ]
  },
  {
   "cell_type": "code",
   "execution_count": 53,
   "id": "f9497942",
   "metadata": {},
   "outputs": [
    {
     "name": "stdout",
     "output_type": "stream",
     "text": [
      "There are 25136 values in cause_of_death column.\n",
      "\n",
      "CPU times: total: 21.2 s\n",
      "Wall time: 21.6 s\n"
     ]
    },
    {
     "data": {
      "application/javascript": [
       "\n",
       "            setTimeout(function() {\n",
       "                var nbb_cell_id = 53;\n",
       "                var nbb_unformatted_code = \"%%time\\n\\n# Column to check\\ncolumn = 'info_3_1'\\n\\n# Start dataframe\\ndataframe = df[df[column].notna()]\\n\\n# For loop to find cause in column and extract it to cause_of_death\\nfor cause in cause_of_death:\\n    for index in dataframe.index:\\n        item = df.loc[index, column]\\n        if item:\\n            if cause in item:\\n                if df.loc[index, 'cause_of_death']:\\n                    df.loc[index, 'cause_of_death'] = df.loc[index, 'cause_of_death'] + '/' + cause\\n                    df.loc[index, column] = item.replace(cause, '').strip()\\n                else:\\n                    df.loc[index, 'cause_of_death'] = cause\\n                    df.loc[index, column] = item.replace(cause, '').strip()\\n                \\n                \\n# For loop to find role in column and extract it as category\\nfor category, category_lst in known_for_dict.items():\\n    for role in category_lst:\\n        for index in dataframe.index:\\n                item = df.loc[index, column]\\n                if item:\\n                    if role in item:\\n                        df.loc[index, category] = 1\\n                        df.loc[index, column] = item.replace(role, '').strip()\\n\\n# Calculating num_categories\\ndf[\\\"num_categories\\\"] = df[known_for_dict.keys()].sum(axis=1)\\n\\n# Checking number of cause_of_death values\\nprint(f'There are {df[\\\"cause_of_death\\\"].notna().sum()} values in cause_of_death column.\\\\n')\";\n",
       "                var nbb_formatted_code = \"%%time\\n\\n# Column to check\\ncolumn = 'info_3_1'\\n\\n# Start dataframe\\ndataframe = df[df[column].notna()]\\n\\n# For loop to find cause in column and extract it to cause_of_death\\nfor cause in cause_of_death:\\n    for index in dataframe.index:\\n        item = df.loc[index, column]\\n        if item:\\n            if cause in item:\\n                if df.loc[index, 'cause_of_death']:\\n                    df.loc[index, 'cause_of_death'] = df.loc[index, 'cause_of_death'] + '/' + cause\\n                    df.loc[index, column] = item.replace(cause, '').strip()\\n                else:\\n                    df.loc[index, 'cause_of_death'] = cause\\n                    df.loc[index, column] = item.replace(cause, '').strip()\\n                \\n                \\n# For loop to find role in column and extract it as category\\nfor category, category_lst in known_for_dict.items():\\n    for role in category_lst:\\n        for index in dataframe.index:\\n                item = df.loc[index, column]\\n                if item:\\n                    if role in item:\\n                        df.loc[index, category] = 1\\n                        df.loc[index, column] = item.replace(role, '').strip()\\n\\n# Calculating num_categories\\ndf[\\\"num_categories\\\"] = df[known_for_dict.keys()].sum(axis=1)\\n\\n# Checking number of cause_of_death values\\nprint(f'There are {df[\\\"cause_of_death\\\"].notna().sum()} values in cause_of_death column.\\\\n')\";\n",
       "                var nbb_cells = Jupyter.notebook.get_cells();\n",
       "                for (var i = 0; i < nbb_cells.length; ++i) {\n",
       "                    if (nbb_cells[i].input_prompt_number == nbb_cell_id) {\n",
       "                        if (nbb_cells[i].get_text() == nbb_unformatted_code) {\n",
       "                             nbb_cells[i].set_text(nbb_formatted_code);\n",
       "                        }\n",
       "                        break;\n",
       "                    }\n",
       "                }\n",
       "            }, 500);\n",
       "            "
      ],
      "text/plain": [
       "<IPython.core.display.Javascript object>"
      ]
     },
     "metadata": {},
     "output_type": "display_data"
    }
   ],
   "source": [
    "%%time\n",
    "\n",
    "# Column to check\n",
    "column = 'info_3_1'\n",
    "\n",
    "# Start dataframe\n",
    "dataframe = df[df[column].notna()]\n",
    "\n",
    "# For loop to find cause in column and extract it to cause_of_death\n",
    "for cause in cause_of_death:\n",
    "    for index in dataframe.index:\n",
    "        item = df.loc[index, column]\n",
    "        if item:\n",
    "            if cause in item:\n",
    "                if df.loc[index, 'cause_of_death']:\n",
    "                    df.loc[index, 'cause_of_death'] = df.loc[index, 'cause_of_death'] + '/' + cause\n",
    "                    df.loc[index, column] = item.replace(cause, '').strip()\n",
    "                else:\n",
    "                    df.loc[index, 'cause_of_death'] = cause\n",
    "                    df.loc[index, column] = item.replace(cause, '').strip()\n",
    "                \n",
    "                \n",
    "# For loop to find role in column and extract it as category\n",
    "for category, category_lst in known_for_dict.items():\n",
    "    for role in category_lst:\n",
    "        for index in dataframe.index:\n",
    "                item = df.loc[index, column]\n",
    "                if item:\n",
    "                    if role in item:\n",
    "                        df.loc[index, category] = 1\n",
    "                        df.loc[index, column] = item.replace(role, '').strip()\n",
    "\n",
    "# Calculating num_categories\n",
    "df[\"num_categories\"] = df[known_for_dict.keys()].sum(axis=1)\n",
    "\n",
    "# Checking number of cause_of_death values\n",
    "print(f'There are {df[\"cause_of_death\"].notna().sum()} values in cause_of_death column.\\n')"
   ]
  },
  {
   "cell_type": "markdown",
   "id": "27d1d787",
   "metadata": {},
   "source": [
    "#### Checking Updated `num_categories` Value Counts"
   ]
  },
  {
   "cell_type": "code",
   "execution_count": 54,
   "id": "23797e46",
   "metadata": {},
   "outputs": [
    {
     "data": {
      "text/plain": [
       "1    84625\n",
       "2    12624\n",
       "3      776\n",
       "0        8\n",
       "4        7\n",
       "Name: num_categories, dtype: int64"
      ]
     },
     "execution_count": 54,
     "metadata": {},
     "output_type": "execute_result"
    },
    {
     "data": {
      "application/javascript": [
       "\n",
       "            setTimeout(function() {\n",
       "                var nbb_cell_id = 54;\n",
       "                var nbb_unformatted_code = \"# Checking Updated num_categories Value Counts\\ndf[\\\"num_categories\\\"].value_counts()\";\n",
       "                var nbb_formatted_code = \"# Checking Updated num_categories Value Counts\\ndf[\\\"num_categories\\\"].value_counts()\";\n",
       "                var nbb_cells = Jupyter.notebook.get_cells();\n",
       "                for (var i = 0; i < nbb_cells.length; ++i) {\n",
       "                    if (nbb_cells[i].input_prompt_number == nbb_cell_id) {\n",
       "                        if (nbb_cells[i].get_text() == nbb_unformatted_code) {\n",
       "                             nbb_cells[i].set_text(nbb_formatted_code);\n",
       "                        }\n",
       "                        break;\n",
       "                    }\n",
       "                }\n",
       "            }, 500);\n",
       "            "
      ],
      "text/plain": [
       "<IPython.core.display.Javascript object>"
      ]
     },
     "metadata": {},
     "output_type": "display_data"
    }
   ],
   "source": [
    "# Checking Updated num_categories Value Counts\n",
    "df[\"num_categories\"].value_counts()"
   ]
  },
  {
   "cell_type": "markdown",
   "id": "56cda203",
   "metadata": {},
   "source": [
    "#### Observations:\n",
    "- We will proceed to rebuild `known_for_dict` and `cause_of_death` for the next iteration."
   ]
  },
  {
   "cell_type": "markdown",
   "id": "1af3e270",
   "metadata": {},
   "source": [
    "#### Finding `known_for` Roles and `cause_of_death` in `info_3_1`"
   ]
  },
  {
   "cell_type": "code",
   "execution_count": 811,
   "id": "ae4efc74",
   "metadata": {},
   "outputs": [
    {
     "data": {
      "application/javascript": [
       "\n",
       "            setTimeout(function() {\n",
       "                var nbb_cell_id = 811;\n",
       "                var nbb_unformatted_code = \"# # Obtaining values for column and their counts\\n# roles_cause_list = df[\\\"info_3_1\\\"].value_counts(ascending=True).index.tolist()\";\n",
       "                var nbb_formatted_code = \"# # Obtaining values for column and their counts\\n# roles_cause_list = df[\\\"info_3_1\\\"].value_counts(ascending=True).index.tolist()\";\n",
       "                var nbb_cells = Jupyter.notebook.get_cells();\n",
       "                for (var i = 0; i < nbb_cells.length; ++i) {\n",
       "                    if (nbb_cells[i].input_prompt_number == nbb_cell_id) {\n",
       "                        if (nbb_cells[i].get_text() == nbb_unformatted_code) {\n",
       "                             nbb_cells[i].set_text(nbb_formatted_code);\n",
       "                        }\n",
       "                        break;\n",
       "                    }\n",
       "                }\n",
       "            }, 500);\n",
       "            "
      ],
      "text/plain": [
       "<IPython.core.display.Javascript object>"
      ]
     },
     "metadata": {},
     "output_type": "display_data"
    }
   ],
   "source": [
    "# # Obtaining values for column and their counts\n",
    "# roles_cause_list = df[\"info_3_1\"].value_counts(ascending=True).index.tolist()"
   ]
  },
  {
   "cell_type": "code",
   "execution_count": 810,
   "id": "68625a4e",
   "metadata": {},
   "outputs": [
    {
     "data": {
      "application/javascript": [
       "\n",
       "            setTimeout(function() {\n",
       "                var nbb_cell_id = 810;\n",
       "                var nbb_unformatted_code = \"# # Code to check each value\\n# value = roles_cause_list.pop()\\n# value\";\n",
       "                var nbb_formatted_code = \"# # Code to check each value\\n# value = roles_cause_list.pop()\\n# value\";\n",
       "                var nbb_cells = Jupyter.notebook.get_cells();\n",
       "                for (var i = 0; i < nbb_cells.length; ++i) {\n",
       "                    if (nbb_cells[i].input_prompt_number == nbb_cell_id) {\n",
       "                        if (nbb_cells[i].get_text() == nbb_unformatted_code) {\n",
       "                             nbb_cells[i].set_text(nbb_formatted_code);\n",
       "                        }\n",
       "                        break;\n",
       "                    }\n",
       "                }\n",
       "            }, 500);\n",
       "            "
      ],
      "text/plain": [
       "<IPython.core.display.Javascript object>"
      ]
     },
     "metadata": {},
     "output_type": "display_data"
    }
   ],
   "source": [
    "# # Code to check each value\n",
    "# value = roles_cause_list.pop()\n",
    "# value"
   ]
  },
  {
   "cell_type": "code",
   "execution_count": 809,
   "id": "1be824dc",
   "metadata": {},
   "outputs": [
    {
     "data": {
      "application/javascript": [
       "\n",
       "            setTimeout(function() {\n",
       "                var nbb_cell_id = 809;\n",
       "                var nbb_unformatted_code = \"# # Create specific_roles_cause_list for above popped value\\n# specific_roles_cause_list = (\\n#     df.loc[\\n#         [\\n#             index\\n#             for index in df[df[\\\"info_3_1\\\"].notna()].index\\n#             if value in df.loc[index, \\\"info_3_1\\\"]\\n#         ],\\n#         \\\"info_3_1\\\",\\n#     ]\\n#     .value_counts()\\n#     .index.tolist()\\n# )\";\n",
       "                var nbb_formatted_code = \"# # Create specific_roles_cause_list for above popped value\\n# specific_roles_cause_list = (\\n#     df.loc[\\n#         [\\n#             index\\n#             for index in df[df[\\\"info_3_1\\\"].notna()].index\\n#             if value in df.loc[index, \\\"info_3_1\\\"]\\n#         ],\\n#         \\\"info_3_1\\\",\\n#     ]\\n#     .value_counts()\\n#     .index.tolist()\\n# )\";\n",
       "                var nbb_cells = Jupyter.notebook.get_cells();\n",
       "                for (var i = 0; i < nbb_cells.length; ++i) {\n",
       "                    if (nbb_cells[i].input_prompt_number == nbb_cell_id) {\n",
       "                        if (nbb_cells[i].get_text() == nbb_unformatted_code) {\n",
       "                             nbb_cells[i].set_text(nbb_formatted_code);\n",
       "                        }\n",
       "                        break;\n",
       "                    }\n",
       "                }\n",
       "            }, 500);\n",
       "            "
      ],
      "text/plain": [
       "<IPython.core.display.Javascript object>"
      ]
     },
     "metadata": {},
     "output_type": "display_data"
    }
   ],
   "source": [
    "# # Create specific_roles_cause_list for above popped value\n",
    "# specific_roles_cause_list = (\n",
    "#     df.loc[\n",
    "#         [\n",
    "#             index\n",
    "#             for index in df[df[\"info_3_1\"].notna()].index\n",
    "#             if value in df.loc[index, \"info_3_1\"]\n",
    "#         ],\n",
    "#         \"info_3_1\",\n",
    "#     ]\n",
    "#     .value_counts()\n",
    "#     .index.tolist()\n",
    "# )"
   ]
  },
  {
   "cell_type": "code",
   "execution_count": 806,
   "id": "c48e4853",
   "metadata": {},
   "outputs": [
    {
     "data": {
      "application/javascript": [
       "\n",
       "            setTimeout(function() {\n",
       "                var nbb_cell_id = 806;\n",
       "                var nbb_unformatted_code = \"# # Viewing list sorted by descending length to copy to dictionary below and screen values\\n# sorted(specific_roles_cause_list, key=lambda x: len(x), reverse=True)\";\n",
       "                var nbb_formatted_code = \"# # Viewing list sorted by descending length to copy to dictionary below and screen values\\n# sorted(specific_roles_cause_list, key=lambda x: len(x), reverse=True)\";\n",
       "                var nbb_cells = Jupyter.notebook.get_cells();\n",
       "                for (var i = 0; i < nbb_cells.length; ++i) {\n",
       "                    if (nbb_cells[i].input_prompt_number == nbb_cell_id) {\n",
       "                        if (nbb_cells[i].get_text() == nbb_unformatted_code) {\n",
       "                             nbb_cells[i].set_text(nbb_formatted_code);\n",
       "                        }\n",
       "                        break;\n",
       "                    }\n",
       "                }\n",
       "            }, 500);\n",
       "            "
      ],
      "text/plain": [
       "<IPython.core.display.Javascript object>"
      ]
     },
     "metadata": {},
     "output_type": "display_data"
    }
   ],
   "source": [
    "# # Viewing list sorted by descending length to copy to dictionary below and screen values\n",
    "# sorted(specific_roles_cause_list, key=lambda x: len(x), reverse=True)"
   ]
  },
  {
   "cell_type": "code",
   "execution_count": 805,
   "id": "bb7557c5",
   "metadata": {},
   "outputs": [
    {
     "data": {
      "application/javascript": [
       "\n",
       "            setTimeout(function() {\n",
       "                var nbb_cell_id = 805;\n",
       "                var nbb_unformatted_code = \"# # Example code to quick-check a specific entry\\n# df[df[\\\"info_3_1\\\"] == value]\";\n",
       "                var nbb_formatted_code = \"# # Example code to quick-check a specific entry\\n# df[df[\\\"info_3_1\\\"] == value]\";\n",
       "                var nbb_cells = Jupyter.notebook.get_cells();\n",
       "                for (var i = 0; i < nbb_cells.length; ++i) {\n",
       "                    if (nbb_cells[i].input_prompt_number == nbb_cell_id) {\n",
       "                        if (nbb_cells[i].get_text() == nbb_unformatted_code) {\n",
       "                             nbb_cells[i].set_text(nbb_formatted_code);\n",
       "                        }\n",
       "                        break;\n",
       "                    }\n",
       "                }\n",
       "            }, 500);\n",
       "            "
      ],
      "text/plain": [
       "<IPython.core.display.Javascript object>"
      ]
     },
     "metadata": {},
     "output_type": "display_data"
    }
   ],
   "source": [
    "# # Example code to quick-check a specific entry\n",
    "# df[df[\"info_3_1\"] == value]"
   ]
  },
  {
   "cell_type": "markdown",
   "id": "615e96e4",
   "metadata": {},
   "source": [
    "#### Creating Lists for Each `known_for` Category and for `cause_of_death`"
   ]
  },
  {
   "cell_type": "code",
   "execution_count": 812,
   "id": "784792a8",
   "metadata": {},
   "outputs": [
    {
     "data": {
      "application/javascript": [
       "\n",
       "            setTimeout(function() {\n",
       "                var nbb_cell_id = 812;\n",
       "                var nbb_unformatted_code = \"# Creating lists for each category and sorting by decreasing length and removing duplicates\\n\\npolitics_govt_law = [\\n    \\\"Golders Green\\\",\\n    \\\"Zita of Bourbon Parma\\\",\\n    \\\"Public Policy Center\\\",\\n    \\\"Chairman of Millbrook First Nation\\\",\\n    \\\"Radnorshire\\\",\\n    \\\"Pacific Affairs\\\",\\n    \\\"Press Secretary to John Fitzgerald Kennedy\\\",\\n    \\\"key Watergate figure\\\",\\n    \\\"Social Welfare\\\",\\n    \\\"eventual nuclear disarmament advocate\\\",\\n    \\\"women rights advocate\\\",\\n    \\\"women rights\\\",\\n    \\\"Clinton\\\",\\n    \\\"former Secretary of State\\\",\\n    \\\"governor general of\\\",\\n    \\\"anti prohibitionist\\\",\\n    \\\"senior counsel\\\",\\n    \\\"Commander in Chief of the\\\",\\n    \\\"Marine Resources\\\",\\n    \\\"Information\\\",\\n    \\\"human rights campaigner\\\",\\n    \\\"Isleworth\\\",\\n    \\\"Refugee Board of\\\",\\n    \\\"Rajasthan\\\",\\n    \\\"mother of Benazir Bhutto\\\",\\n    \\\"Customs\\\",\\n    \\\"Welfare\\\",\\n    \\\"Heston\\\",\\n    \\\"Castleford\\\",\\n    \\\"Inverclyde\\\",\\n    \\\"Territories\\\",\\n    \\\"Prevention\\\",\\n    \\\"Traditional Affairs\\\",\\n    \\\"Eastern Stirlingshire\\\",\\n    \\\"Fife\\\",\\n    \\\"revolutionist of the independence movement\\\",\\n    \\\"Black Rod\\\",\\n    \\\"Recreation\\\",\\n    \\\"Tipton\\\",\\n    \\\"three time governor of\\\",\\n    \\\"governor of\\\",\\n    \\\"dictator\\\",\\n    \\\"Lord Advocate\\\",\\n    \\\"Treasury Solicitor\\\",\\n    \\\"Governor General of\\\",\\n    \\\"Hebei\\\",\\n    \\\"SACP\\\",\\n]\\npolitics_govt_law = sorted(\\n    list(set(politics_govt_law)), key=lambda x: len(x), reverse=True\\n)\\n\\narts = [\\n    \\\"showman\\\",\\n    \\\"ballet master\\\",\\n    \\\"Twitter\\\",\\n    \\\"miniseries\\\",\\n    \\\"amateur illusionist\\\",\\n    \\\"nightclub proprietor\\\",\\n    \\\"Guitar Company\\\",\\n    \\\"Bad Writing Contest\\\",\\n    '\\\"Fergus Lamont\\\"',\\n    \\\"Mayor Phineas T Bluster\\\",\\n    \\\"ethnic community advocate\\\",\\n    \\\"Blake Prize\\\",\\n    \\\"smooth countrypolitan stylist of the s\\\",\\n    \\\"Sun Records\\\",\\n    \\\"Split Enz\\\",\\n    \\\"concert violinist\\\",\\n    \\\"violinist\\\",\\n    \\\"Eddie Albert\\\",\\n    \\\"former wife of Keith Moon\\\",\\n    \\\"partner of Sir No\\u00ebl Coward\\\",\\n    \\\"widow of Cyril Fletcher\\\",\\n    \\\"draughtsman\\\",\\n    \\\"maestro\\\",\\n    \\\"speaker\\\",\\n    \\\"postage stamps\\\",\\n    \\\"D expert\\\",\\n    \\\"announcer\\\",\\n    \\\"The Rolling Stones to the\\\",\\n    \\\"art connoisseur\\\",\\n    \\\"planner\\\",\\n    \\\"embroiderer\\\",\\n    \\\"Cinema\\\",\\n    \\\"special effects supervisor\\\",\\n    \\\"George Burns\\\",\\n    \\\"tenor\\\",\\n    \\\"public relations expert\\\",\\n    \\\"multi instrumentalist\\\",\\n    \\\"instrumentalist\\\",\\n    \\\"frontman of\\\",\\n    \\\"soprano\\\",\\n    \\\"father of Prince\\\",\\n]\\narts = sorted(list(set(arts)), key=lambda x: len(x), reverse=True)\\n\\nsports = [\\n    \\\"international master\\\",\\n    \\\"Washington Capitals\\\",\\n    \\\"Lions\\\",\\n    \\\"VJ\\\",\\n    \\\"breeder\\\",\\n    \\\"Tour de\\\",\\n    \\\"Northern\\\",\\n    \\\"Dallas Cowboys\\\",\\n    \\\"national team\\\",\\n    \\\"Sports\\\",\\n    \\\"Sport\\\",\\n    \\\"commissioner\\\",\\n    \\\"speedway\\\",\\n    \\\"referee\\\",\\n    \\\"brother of PM Justin Trudeau\\\",\\n]\\nsports = sorted(list(set(sports)), key=lambda x: len(x), reverse=True)\\n\\nsciences = [\\n    \\\"Telecommunications\\\",\\n    \\\"Tang drink mix\\\",\\n    \\\"doctor\\\",\\n    \\\"was at the forefront of work on Read Only Memory\\\",\\n    \\\"pioneer work on Stellar nucleosynthesis\\\",\\n    \\\"rehabilitation of disabled children\\\",\\n    \\\"hypnotist\\\",\\n    \\\"parasitology\\\",\\n    \\\"probability theory\\\",\\n    \\\"nutritionist\\\",\\n    \\\"research scientist\\\",\\n]\\nsciences = sorted(list(set(sciences)), key=lambda x: len(x), reverse=True)\\n\\nbusiness_farming = [\\n    \\\"stock broker\\\",\\n    \\\"Pan Am\\\",\\n    \\\"Ovation\\\",\\n    \\\"Chairman of the Board at General Motors Corporation\\\",\\n    \\\"Chairman of the Chicago Board Options Exchange\\\",\\n    \\\"Chairman of Ford Motor Company\\\",\\n    \\\"Chairman of City National Bank\\\",\\n    \\\"Chairman of Johnson & Johnson\\\",\\n    \\\"Chairman of the Sowind Group\\\",\\n    \\\"Chairman of Target\\\",\\n    \\\"Chairman of Mobil\\\",\\n    \\\"Segway\\\",\\n    \\\"Pebble Beach\\\",\\n    \\\"CEO of the\\\",\\n    \\\"David Attenborough\\\",\\n    \\\"Chairman of Ford Motor Company\\\",\\n    \\\"financier\\\",\\n]\\nbusiness_farming = sorted(\\n    list(set(business_farming)), key=lambda x: len(x), reverse=True\\n)\\n\\nacademia_humanities = [\\n    \\\"Hebrew literature\\\",\\n    \\\"Chairman of the Befaqul Madarisil Arabia\\\",\\n    \\\"first dictionary\\\",\\n    \\\"Life\\\",\\n    \\\"Director of the National Air\\\",\\n    \\\"preservation of endangered aboriginal languages\\\",\\n    \\\"the Academy of Arts\\\",\\n]\\nacademia_humanities = sorted(\\n    list(set(academia_humanities)), key=lambda x: len(x), reverse=True\\n)\\n\\nlaw_enf_military_operator = [\\n    \\\"spymaster\\\",\\n    \\\"commander of the Selous Scouts\\\",\\n    \\\"Times war\\\",\\n    \\\"Tactics\\\",\\n    \\\"War flight nurse\\\",\\n    \\\"Purple Heart\\\",\\n    \\\"flying ace\\\",\\n    \\\"Analysis Wing\\\",\\n    \\\"Army Materiel Command\\\",\\n    \\\"recovery effort after the September attacks\\\",\\n    \\\"typed Oskar Schindler list\\\",\\n    \\\"Hero of the Federation\\\",\\n    \\\"Medal of Honor recipient\\\",\\n    \\\"WWII Air Force pilot\\\",\\n]\\nlaw_enf_military_operator = sorted(\\n    list(set(law_enf_military_operator)), key=lambda x: len(x), reverse=True\\n)\\n\\nspiritual = [\\n    \\\"Man\\\",\\n    \\\"New Testament\\\",\\n    'Liberation\\\" Catholic youth movement',\\n    \\\"Archdeacon of Portsmouth\\\",\\n    \\\"Fili\\\",\\n    \\\"astrologer\\\",\\n    \\\"Archbishop of Maring\\u00e1\\\",\\n    \\\"Archbishop of Toronto\\\",\\n    \\\"archbishop\\\",\\n    \\\"bishop\\\",\\n    \\\"Veliki Preslav\\\",\\n    \\\"Titular Bishop of Flenucleta\\\",\\n    \\\"Chakma raja\\\",\\n    \\\"reformer\\\",\\n    \\\"Edmonton\\\",\\n    \\\"muhaddith\\\",\\n]\\nspiritual = sorted(list(set(spiritual)), key=lambda x: len(x), reverse=True)\\n\\nsocial = [\\\"matron of Glasgow Victoria Infirmary\\\"]\\nsocial = sorted(list(set(social)), key=lambda x: len(x), reverse=True)\\n\\ncrime = [\\\"illegal oil broker\\\", \\\"gangster\\\"]\\ncrime = sorted(list(set(crime)), key=lambda x: len(x), reverse=True)\\n\\nevent_record_other = [\\n    \\\"involved in Raymond Caruana murder\\\",\\n    \\\"oldest person ever born in\\\",\\n    \\\"renounced the office of bishop\\\",\\n    \\\"oldest ever citizen\\\",\\n    \\\"inspiration for the movie character shootout\\\",\\n]\\nevent_record_other = sorted(\\n    list(set(event_record_other)), key=lambda x: len(x), reverse=True\\n)\\n\\nother_species = [\\n    \\\"Christmas Hurdle\\\",\\n    \\\"terrier mix\\\",\\n    \\\"mascot for the Trenton Thunder\\\",\\n    \\\"Breeders' Cup Turf\\\",\\n    \\\"broodmare\\\",\\n    \\\"Prix Vermeille\\\",\\n]\\nother_species = sorted(list(set(other_species)), key=lambda x: len(x), reverse=True)\\n\\ncause_of_death = [\\n    \\\"Stevens Johnson syndrome\\\",\\n    \\\"or cerebral edema\\\",\\n    \\\"pulmonary edema\\\",\\n    \\\"drowned\\\",\\n    \\\"blunt force trauma\\\",\\n    \\\"lacerations\\\",\\n    \\\"morphine\\\",\\n    \\\"coronary artery plaque\\\",\\n    \\\"Valium\\\",\\n    \\\"a broken hip\\\",\\n    \\\"oxycodone\\\",\\n    \\\"myelodysplastic syndromes\\\",\\n]\\ncause_of_death = sorted(list(set(cause_of_death)), key=lambda x: len(x), reverse=True)\";\n",
       "                var nbb_formatted_code = \"# Creating lists for each category and sorting by decreasing length and removing duplicates\\n\\npolitics_govt_law = [\\n    \\\"Golders Green\\\",\\n    \\\"Zita of Bourbon Parma\\\",\\n    \\\"Public Policy Center\\\",\\n    \\\"Chairman of Millbrook First Nation\\\",\\n    \\\"Radnorshire\\\",\\n    \\\"Pacific Affairs\\\",\\n    \\\"Press Secretary to John Fitzgerald Kennedy\\\",\\n    \\\"key Watergate figure\\\",\\n    \\\"Social Welfare\\\",\\n    \\\"eventual nuclear disarmament advocate\\\",\\n    \\\"women rights advocate\\\",\\n    \\\"women rights\\\",\\n    \\\"Clinton\\\",\\n    \\\"former Secretary of State\\\",\\n    \\\"governor general of\\\",\\n    \\\"anti prohibitionist\\\",\\n    \\\"senior counsel\\\",\\n    \\\"Commander in Chief of the\\\",\\n    \\\"Marine Resources\\\",\\n    \\\"Information\\\",\\n    \\\"human rights campaigner\\\",\\n    \\\"Isleworth\\\",\\n    \\\"Refugee Board of\\\",\\n    \\\"Rajasthan\\\",\\n    \\\"mother of Benazir Bhutto\\\",\\n    \\\"Customs\\\",\\n    \\\"Welfare\\\",\\n    \\\"Heston\\\",\\n    \\\"Castleford\\\",\\n    \\\"Inverclyde\\\",\\n    \\\"Territories\\\",\\n    \\\"Prevention\\\",\\n    \\\"Traditional Affairs\\\",\\n    \\\"Eastern Stirlingshire\\\",\\n    \\\"Fife\\\",\\n    \\\"revolutionist of the independence movement\\\",\\n    \\\"Black Rod\\\",\\n    \\\"Recreation\\\",\\n    \\\"Tipton\\\",\\n    \\\"three time governor of\\\",\\n    \\\"governor of\\\",\\n    \\\"dictator\\\",\\n    \\\"Lord Advocate\\\",\\n    \\\"Treasury Solicitor\\\",\\n    \\\"Governor General of\\\",\\n    \\\"Hebei\\\",\\n    \\\"SACP\\\",\\n]\\npolitics_govt_law = sorted(\\n    list(set(politics_govt_law)), key=lambda x: len(x), reverse=True\\n)\\n\\narts = [\\n    \\\"showman\\\",\\n    \\\"ballet master\\\",\\n    \\\"Twitter\\\",\\n    \\\"miniseries\\\",\\n    \\\"amateur illusionist\\\",\\n    \\\"nightclub proprietor\\\",\\n    \\\"Guitar Company\\\",\\n    \\\"Bad Writing Contest\\\",\\n    '\\\"Fergus Lamont\\\"',\\n    \\\"Mayor Phineas T Bluster\\\",\\n    \\\"ethnic community advocate\\\",\\n    \\\"Blake Prize\\\",\\n    \\\"smooth countrypolitan stylist of the s\\\",\\n    \\\"Sun Records\\\",\\n    \\\"Split Enz\\\",\\n    \\\"concert violinist\\\",\\n    \\\"violinist\\\",\\n    \\\"Eddie Albert\\\",\\n    \\\"former wife of Keith Moon\\\",\\n    \\\"partner of Sir No\\u00ebl Coward\\\",\\n    \\\"widow of Cyril Fletcher\\\",\\n    \\\"draughtsman\\\",\\n    \\\"maestro\\\",\\n    \\\"speaker\\\",\\n    \\\"postage stamps\\\",\\n    \\\"D expert\\\",\\n    \\\"announcer\\\",\\n    \\\"The Rolling Stones to the\\\",\\n    \\\"art connoisseur\\\",\\n    \\\"planner\\\",\\n    \\\"embroiderer\\\",\\n    \\\"Cinema\\\",\\n    \\\"special effects supervisor\\\",\\n    \\\"George Burns\\\",\\n    \\\"tenor\\\",\\n    \\\"public relations expert\\\",\\n    \\\"multi instrumentalist\\\",\\n    \\\"instrumentalist\\\",\\n    \\\"frontman of\\\",\\n    \\\"soprano\\\",\\n    \\\"father of Prince\\\",\\n]\\narts = sorted(list(set(arts)), key=lambda x: len(x), reverse=True)\\n\\nsports = [\\n    \\\"international master\\\",\\n    \\\"Washington Capitals\\\",\\n    \\\"Lions\\\",\\n    \\\"VJ\\\",\\n    \\\"breeder\\\",\\n    \\\"Tour de\\\",\\n    \\\"Northern\\\",\\n    \\\"Dallas Cowboys\\\",\\n    \\\"national team\\\",\\n    \\\"Sports\\\",\\n    \\\"Sport\\\",\\n    \\\"commissioner\\\",\\n    \\\"speedway\\\",\\n    \\\"referee\\\",\\n    \\\"brother of PM Justin Trudeau\\\",\\n]\\nsports = sorted(list(set(sports)), key=lambda x: len(x), reverse=True)\\n\\nsciences = [\\n    \\\"Telecommunications\\\",\\n    \\\"Tang drink mix\\\",\\n    \\\"doctor\\\",\\n    \\\"was at the forefront of work on Read Only Memory\\\",\\n    \\\"pioneer work on Stellar nucleosynthesis\\\",\\n    \\\"rehabilitation of disabled children\\\",\\n    \\\"hypnotist\\\",\\n    \\\"parasitology\\\",\\n    \\\"probability theory\\\",\\n    \\\"nutritionist\\\",\\n    \\\"research scientist\\\",\\n]\\nsciences = sorted(list(set(sciences)), key=lambda x: len(x), reverse=True)\\n\\nbusiness_farming = [\\n    \\\"stock broker\\\",\\n    \\\"Pan Am\\\",\\n    \\\"Ovation\\\",\\n    \\\"Chairman of the Board at General Motors Corporation\\\",\\n    \\\"Chairman of the Chicago Board Options Exchange\\\",\\n    \\\"Chairman of Ford Motor Company\\\",\\n    \\\"Chairman of City National Bank\\\",\\n    \\\"Chairman of Johnson & Johnson\\\",\\n    \\\"Chairman of the Sowind Group\\\",\\n    \\\"Chairman of Target\\\",\\n    \\\"Chairman of Mobil\\\",\\n    \\\"Segway\\\",\\n    \\\"Pebble Beach\\\",\\n    \\\"CEO of the\\\",\\n    \\\"David Attenborough\\\",\\n    \\\"Chairman of Ford Motor Company\\\",\\n    \\\"financier\\\",\\n]\\nbusiness_farming = sorted(\\n    list(set(business_farming)), key=lambda x: len(x), reverse=True\\n)\\n\\nacademia_humanities = [\\n    \\\"Hebrew literature\\\",\\n    \\\"Chairman of the Befaqul Madarisil Arabia\\\",\\n    \\\"first dictionary\\\",\\n    \\\"Life\\\",\\n    \\\"Director of the National Air\\\",\\n    \\\"preservation of endangered aboriginal languages\\\",\\n    \\\"the Academy of Arts\\\",\\n]\\nacademia_humanities = sorted(\\n    list(set(academia_humanities)), key=lambda x: len(x), reverse=True\\n)\\n\\nlaw_enf_military_operator = [\\n    \\\"spymaster\\\",\\n    \\\"commander of the Selous Scouts\\\",\\n    \\\"Times war\\\",\\n    \\\"Tactics\\\",\\n    \\\"War flight nurse\\\",\\n    \\\"Purple Heart\\\",\\n    \\\"flying ace\\\",\\n    \\\"Analysis Wing\\\",\\n    \\\"Army Materiel Command\\\",\\n    \\\"recovery effort after the September attacks\\\",\\n    \\\"typed Oskar Schindler list\\\",\\n    \\\"Hero of the Federation\\\",\\n    \\\"Medal of Honor recipient\\\",\\n    \\\"WWII Air Force pilot\\\",\\n]\\nlaw_enf_military_operator = sorted(\\n    list(set(law_enf_military_operator)), key=lambda x: len(x), reverse=True\\n)\\n\\nspiritual = [\\n    \\\"Man\\\",\\n    \\\"New Testament\\\",\\n    'Liberation\\\" Catholic youth movement',\\n    \\\"Archdeacon of Portsmouth\\\",\\n    \\\"Fili\\\",\\n    \\\"astrologer\\\",\\n    \\\"Archbishop of Maring\\u00e1\\\",\\n    \\\"Archbishop of Toronto\\\",\\n    \\\"archbishop\\\",\\n    \\\"bishop\\\",\\n    \\\"Veliki Preslav\\\",\\n    \\\"Titular Bishop of Flenucleta\\\",\\n    \\\"Chakma raja\\\",\\n    \\\"reformer\\\",\\n    \\\"Edmonton\\\",\\n    \\\"muhaddith\\\",\\n]\\nspiritual = sorted(list(set(spiritual)), key=lambda x: len(x), reverse=True)\\n\\nsocial = [\\\"matron of Glasgow Victoria Infirmary\\\"]\\nsocial = sorted(list(set(social)), key=lambda x: len(x), reverse=True)\\n\\ncrime = [\\\"illegal oil broker\\\", \\\"gangster\\\"]\\ncrime = sorted(list(set(crime)), key=lambda x: len(x), reverse=True)\\n\\nevent_record_other = [\\n    \\\"involved in Raymond Caruana murder\\\",\\n    \\\"oldest person ever born in\\\",\\n    \\\"renounced the office of bishop\\\",\\n    \\\"oldest ever citizen\\\",\\n    \\\"inspiration for the movie character shootout\\\",\\n]\\nevent_record_other = sorted(\\n    list(set(event_record_other)), key=lambda x: len(x), reverse=True\\n)\\n\\nother_species = [\\n    \\\"Christmas Hurdle\\\",\\n    \\\"terrier mix\\\",\\n    \\\"mascot for the Trenton Thunder\\\",\\n    \\\"Breeders' Cup Turf\\\",\\n    \\\"broodmare\\\",\\n    \\\"Prix Vermeille\\\",\\n]\\nother_species = sorted(list(set(other_species)), key=lambda x: len(x), reverse=True)\\n\\ncause_of_death = [\\n    \\\"Stevens Johnson syndrome\\\",\\n    \\\"or cerebral edema\\\",\\n    \\\"pulmonary edema\\\",\\n    \\\"drowned\\\",\\n    \\\"blunt force trauma\\\",\\n    \\\"lacerations\\\",\\n    \\\"morphine\\\",\\n    \\\"coronary artery plaque\\\",\\n    \\\"Valium\\\",\\n    \\\"a broken hip\\\",\\n    \\\"oxycodone\\\",\\n    \\\"myelodysplastic syndromes\\\",\\n]\\ncause_of_death = sorted(list(set(cause_of_death)), key=lambda x: len(x), reverse=True)\";\n",
       "                var nbb_cells = Jupyter.notebook.get_cells();\n",
       "                for (var i = 0; i < nbb_cells.length; ++i) {\n",
       "                    if (nbb_cells[i].input_prompt_number == nbb_cell_id) {\n",
       "                        if (nbb_cells[i].get_text() == nbb_unformatted_code) {\n",
       "                             nbb_cells[i].set_text(nbb_formatted_code);\n",
       "                        }\n",
       "                        break;\n",
       "                    }\n",
       "                }\n",
       "            }, 500);\n",
       "            "
      ],
      "text/plain": [
       "<IPython.core.display.Javascript object>"
      ]
     },
     "metadata": {},
     "output_type": "display_data"
    }
   ],
   "source": [
    "# Creating lists for each category and sorting by decreasing length and removing duplicates\n",
    "\n",
    "politics_govt_law = [\n",
    "    \"Golders Green\",\n",
    "    \"Zita of Bourbon Parma\",\n",
    "    \"Public Policy Center\",\n",
    "    \"Chairman of Millbrook First Nation\",\n",
    "    \"Radnorshire\",\n",
    "    \"Pacific Affairs\",\n",
    "    \"Press Secretary to John Fitzgerald Kennedy\",\n",
    "    \"key Watergate figure\",\n",
    "    \"Social Welfare\",\n",
    "    \"eventual nuclear disarmament advocate\",\n",
    "    \"women rights advocate\",\n",
    "    \"women rights\",\n",
    "    \"Clinton\",\n",
    "    \"former Secretary of State\",\n",
    "    \"governor general of\",\n",
    "    \"anti prohibitionist\",\n",
    "    \"senior counsel\",\n",
    "    \"Commander in Chief of the\",\n",
    "    \"Marine Resources\",\n",
    "    \"Information\",\n",
    "    \"human rights campaigner\",\n",
    "    \"Isleworth\",\n",
    "    \"Refugee Board of\",\n",
    "    \"Rajasthan\",\n",
    "    \"mother of Benazir Bhutto\",\n",
    "    \"Customs\",\n",
    "    \"Welfare\",\n",
    "    \"Heston\",\n",
    "    \"Castleford\",\n",
    "    \"Inverclyde\",\n",
    "    \"Territories\",\n",
    "    \"Prevention\",\n",
    "    \"Traditional Affairs\",\n",
    "    \"Eastern Stirlingshire\",\n",
    "    \"Fife\",\n",
    "    \"revolutionist of the independence movement\",\n",
    "    \"Black Rod\",\n",
    "    \"Recreation\",\n",
    "    \"Tipton\",\n",
    "    \"three time governor of\",\n",
    "    \"governor of\",\n",
    "    \"dictator\",\n",
    "    \"Lord Advocate\",\n",
    "    \"Treasury Solicitor\",\n",
    "    \"Governor General of\",\n",
    "    \"Hebei\",\n",
    "    \"SACP\",\n",
    "]\n",
    "politics_govt_law = sorted(\n",
    "    list(set(politics_govt_law)), key=lambda x: len(x), reverse=True\n",
    ")\n",
    "\n",
    "arts = [\n",
    "    \"showman\",\n",
    "    \"ballet master\",\n",
    "    \"Twitter\",\n",
    "    \"miniseries\",\n",
    "    \"amateur illusionist\",\n",
    "    \"nightclub proprietor\",\n",
    "    \"Guitar Company\",\n",
    "    \"Bad Writing Contest\",\n",
    "    '\"Fergus Lamont\"',\n",
    "    \"Mayor Phineas T Bluster\",\n",
    "    \"ethnic community advocate\",\n",
    "    \"Blake Prize\",\n",
    "    \"smooth countrypolitan stylist of the s\",\n",
    "    \"Sun Records\",\n",
    "    \"Split Enz\",\n",
    "    \"concert violinist\",\n",
    "    \"violinist\",\n",
    "    \"Eddie Albert\",\n",
    "    \"former wife of Keith Moon\",\n",
    "    \"partner of Sir Noël Coward\",\n",
    "    \"widow of Cyril Fletcher\",\n",
    "    \"draughtsman\",\n",
    "    \"maestro\",\n",
    "    \"speaker\",\n",
    "    \"postage stamps\",\n",
    "    \"D expert\",\n",
    "    \"announcer\",\n",
    "    \"The Rolling Stones to the\",\n",
    "    \"art connoisseur\",\n",
    "    \"planner\",\n",
    "    \"embroiderer\",\n",
    "    \"Cinema\",\n",
    "    \"special effects supervisor\",\n",
    "    \"George Burns\",\n",
    "    \"tenor\",\n",
    "    \"public relations expert\",\n",
    "    \"multi instrumentalist\",\n",
    "    \"instrumentalist\",\n",
    "    \"frontman of\",\n",
    "    \"soprano\",\n",
    "    \"father of Prince\",\n",
    "]\n",
    "arts = sorted(list(set(arts)), key=lambda x: len(x), reverse=True)\n",
    "\n",
    "sports = [\n",
    "    \"international master\",\n",
    "    \"Washington Capitals\",\n",
    "    \"Lions\",\n",
    "    \"VJ\",\n",
    "    \"breeder\",\n",
    "    \"Tour de\",\n",
    "    \"Northern\",\n",
    "    \"Dallas Cowboys\",\n",
    "    \"national team\",\n",
    "    \"Sports\",\n",
    "    \"Sport\",\n",
    "    \"commissioner\",\n",
    "    \"speedway\",\n",
    "    \"referee\",\n",
    "    \"brother of PM Justin Trudeau\",\n",
    "]\n",
    "sports = sorted(list(set(sports)), key=lambda x: len(x), reverse=True)\n",
    "\n",
    "sciences = [\n",
    "    \"Telecommunications\",\n",
    "    \"Tang drink mix\",\n",
    "    \"doctor\",\n",
    "    \"was at the forefront of work on Read Only Memory\",\n",
    "    \"pioneer work on Stellar nucleosynthesis\",\n",
    "    \"rehabilitation of disabled children\",\n",
    "    \"hypnotist\",\n",
    "    \"parasitology\",\n",
    "    \"probability theory\",\n",
    "    \"nutritionist\",\n",
    "    \"research scientist\",\n",
    "]\n",
    "sciences = sorted(list(set(sciences)), key=lambda x: len(x), reverse=True)\n",
    "\n",
    "business_farming = [\n",
    "    \"stock broker\",\n",
    "    \"Pan Am\",\n",
    "    \"Ovation\",\n",
    "    \"Chairman of the Board at General Motors Corporation\",\n",
    "    \"Chairman of the Chicago Board Options Exchange\",\n",
    "    \"Chairman of Ford Motor Company\",\n",
    "    \"Chairman of City National Bank\",\n",
    "    \"Chairman of Johnson & Johnson\",\n",
    "    \"Chairman of the Sowind Group\",\n",
    "    \"Chairman of Target\",\n",
    "    \"Chairman of Mobil\",\n",
    "    \"Segway\",\n",
    "    \"Pebble Beach\",\n",
    "    \"CEO of the\",\n",
    "    \"David Attenborough\",\n",
    "    \"Chairman of Ford Motor Company\",\n",
    "    \"financier\",\n",
    "]\n",
    "business_farming = sorted(\n",
    "    list(set(business_farming)), key=lambda x: len(x), reverse=True\n",
    ")\n",
    "\n",
    "academia_humanities = [\n",
    "    \"Hebrew literature\",\n",
    "    \"Chairman of the Befaqul Madarisil Arabia\",\n",
    "    \"first dictionary\",\n",
    "    \"Life\",\n",
    "    \"Director of the National Air\",\n",
    "    \"preservation of endangered aboriginal languages\",\n",
    "    \"the Academy of Arts\",\n",
    "]\n",
    "academia_humanities = sorted(\n",
    "    list(set(academia_humanities)), key=lambda x: len(x), reverse=True\n",
    ")\n",
    "\n",
    "law_enf_military_operator = [\n",
    "    \"spymaster\",\n",
    "    \"commander of the Selous Scouts\",\n",
    "    \"Times war\",\n",
    "    \"Tactics\",\n",
    "    \"War flight nurse\",\n",
    "    \"Purple Heart\",\n",
    "    \"flying ace\",\n",
    "    \"Analysis Wing\",\n",
    "    \"Army Materiel Command\",\n",
    "    \"recovery effort after the September attacks\",\n",
    "    \"typed Oskar Schindler list\",\n",
    "    \"Hero of the Federation\",\n",
    "    \"Medal of Honor recipient\",\n",
    "    \"WWII Air Force pilot\",\n",
    "]\n",
    "law_enf_military_operator = sorted(\n",
    "    list(set(law_enf_military_operator)), key=lambda x: len(x), reverse=True\n",
    ")\n",
    "\n",
    "spiritual = [\n",
    "    \"New Testament\",\n",
    "    'Liberation\" Catholic youth movement',\n",
    "    \"Archdeacon of Portsmouth\",\n",
    "    \"Fili\",\n",
    "    \"astrologer\",\n",
    "    \"Archbishop of Maringá\",\n",
    "    \"Archbishop of Toronto\",\n",
    "    \"archbishop\",\n",
    "    \"bishop\",\n",
    "    \"Veliki Preslav\",\n",
    "    \"Titular Bishop of Flenucleta\",\n",
    "    \"Chakma raja\",\n",
    "    \"reformer\",\n",
    "    \"Edmonton\",\n",
    "    \"muhaddith\",\n",
    "]\n",
    "spiritual = sorted(list(set(spiritual)), key=lambda x: len(x), reverse=True)\n",
    "\n",
    "social = [\"matron of Glasgow Victoria Infirmary\"]\n",
    "social = sorted(list(set(social)), key=lambda x: len(x), reverse=True)\n",
    "\n",
    "crime = [\"illegal oil broker\", \"gangster\"]\n",
    "crime = sorted(list(set(crime)), key=lambda x: len(x), reverse=True)\n",
    "\n",
    "event_record_other = [\n",
    "    \"involved in Raymond Caruana murder\",\n",
    "    \"oldest person ever born in\",\n",
    "    \"oldest ever citizen\",\n",
    "    \"inspiration for the movie character shootout\",\n",
    "]\n",
    "event_record_other = sorted(\n",
    "    list(set(event_record_other)), key=lambda x: len(x), reverse=True\n",
    ")\n",
    "\n",
    "other_species = [\n",
    "    \"Christmas Hurdle\",\n",
    "    \"terrier mix\",\n",
    "    \"mascot for the Trenton Thunder\",\n",
    "    \"Breeders' Cup Turf\",\n",
    "    \"broodmare\",\n",
    "    \"Prix Vermeille\",\n",
    "]\n",
    "other_species = sorted(list(set(other_species)), key=lambda x: len(x), reverse=True)\n",
    "\n",
    "cause_of_death = [\n",
    "    \"Stevens Johnson syndrome\",\n",
    "    \"or cerebral edema\",\n",
    "    \"pulmonary edema\",\n",
    "    \"drowned\",\n",
    "    \"blunt force trauma\",\n",
    "    \"lacerations\",\n",
    "    \"morphine\",\n",
    "    \"coronary artery plaque\",\n",
    "    \"Valium\",\n",
    "    \"a broken hip\",\n",
    "    \"oxycodone\",\n",
    "    \"myelodysplastic syndromes\",\n",
    "]\n",
    "cause_of_death = sorted(list(set(cause_of_death)), key=lambda x: len(x), reverse=True)"
   ]
  },
  {
   "cell_type": "code",
   "execution_count": 813,
   "id": "2ee3e105",
   "metadata": {},
   "outputs": [
    {
     "data": {
      "application/javascript": [
       "\n",
       "            setTimeout(function() {\n",
       "                var nbb_cell_id = 813;\n",
       "                var nbb_unformatted_code = \"# Dropping info_3_1 value for entries with duplicate category value\\ndf.loc[\\n    [\\n        index\\n        for index in df[df[\\\"info_3_1\\\"].notna()].index\\n        if \\\"creator\\\" in df.loc[index, \\\"info_3_1\\\"]\\n    ],\\n    \\\"info_3_1\\\",\\n] = \\\"\\\"\";\n",
       "                var nbb_formatted_code = \"# Dropping info_3_1 value for entries with duplicate category value\\ndf.loc[\\n    [\\n        index\\n        for index in df[df[\\\"info_3_1\\\"].notna()].index\\n        if \\\"creator\\\" in df.loc[index, \\\"info_3_1\\\"]\\n    ],\\n    \\\"info_3_1\\\",\\n] = \\\"\\\"\";\n",
       "                var nbb_cells = Jupyter.notebook.get_cells();\n",
       "                for (var i = 0; i < nbb_cells.length; ++i) {\n",
       "                    if (nbb_cells[i].input_prompt_number == nbb_cell_id) {\n",
       "                        if (nbb_cells[i].get_text() == nbb_unformatted_code) {\n",
       "                             nbb_cells[i].set_text(nbb_formatted_code);\n",
       "                        }\n",
       "                        break;\n",
       "                    }\n",
       "                }\n",
       "            }, 500);\n",
       "            "
      ],
      "text/plain": [
       "<IPython.core.display.Javascript object>"
      ]
     },
     "metadata": {},
     "output_type": "display_data"
    }
   ],
   "source": [
    "# Dropping info_3_1 value for entries with duplicate category value\n",
    "df.loc[\n",
    "    [\n",
    "        index\n",
    "        for index in df[df[\"info_3_1\"].notna()].index\n",
    "        if \"creator\" in df.loc[index, \"info_3_1\"]\n",
    "    ],\n",
    "    \"info_3_1\",\n",
    "] = \"\""
   ]
  },
  {
   "cell_type": "markdown",
   "id": "43e44b85",
   "metadata": {},
   "source": [
    "#### Creating `known_for_dict` Dictionary of Category Keys and Specific Role Lists of Values"
   ]
  },
  {
   "cell_type": "code",
   "execution_count": 814,
   "id": "607a8e6d",
   "metadata": {},
   "outputs": [
    {
     "data": {
      "application/javascript": [
       "\n",
       "            setTimeout(function() {\n",
       "                var nbb_cell_id = 814;\n",
       "                var nbb_unformatted_code = \"# Combining separate lists into one dictionary\\nknown_for_dict = {\\n    \\\"social\\\": social,\\n    \\\"spiritual\\\": spiritual,\\n    \\\"academia_humanities\\\": academia_humanities,\\n    \\\"business_farming\\\": business_farming,\\n    \\\"sciences\\\": sciences,\\n    \\\"politics_govt_law\\\": politics_govt_law,\\n    \\\"law_enf_military_operator\\\": law_enf_military_operator,\\n    \\\"crime\\\": crime,\\n    \\\"event_record_other\\\": event_record_other,\\n    \\\"other_species\\\": other_species,\\n    \\\"arts\\\": arts,\\n    \\\"sports\\\": sports,\\n\\n}\";\n",
       "                var nbb_formatted_code = \"# Combining separate lists into one dictionary\\nknown_for_dict = {\\n    \\\"social\\\": social,\\n    \\\"spiritual\\\": spiritual,\\n    \\\"academia_humanities\\\": academia_humanities,\\n    \\\"business_farming\\\": business_farming,\\n    \\\"sciences\\\": sciences,\\n    \\\"politics_govt_law\\\": politics_govt_law,\\n    \\\"law_enf_military_operator\\\": law_enf_military_operator,\\n    \\\"crime\\\": crime,\\n    \\\"event_record_other\\\": event_record_other,\\n    \\\"other_species\\\": other_species,\\n    \\\"arts\\\": arts,\\n    \\\"sports\\\": sports,\\n}\";\n",
       "                var nbb_cells = Jupyter.notebook.get_cells();\n",
       "                for (var i = 0; i < nbb_cells.length; ++i) {\n",
       "                    if (nbb_cells[i].input_prompt_number == nbb_cell_id) {\n",
       "                        if (nbb_cells[i].get_text() == nbb_unformatted_code) {\n",
       "                             nbb_cells[i].set_text(nbb_formatted_code);\n",
       "                        }\n",
       "                        break;\n",
       "                    }\n",
       "                }\n",
       "            }, 500);\n",
       "            "
      ],
      "text/plain": [
       "<IPython.core.display.Javascript object>"
      ]
     },
     "metadata": {},
     "output_type": "display_data"
    }
   ],
   "source": [
    "# Combining separate lists into one dictionary\n",
    "known_for_dict = {\n",
    "    \"social\": social,\n",
    "    \"spiritual\": spiritual,\n",
    "    \"academia_humanities\": academia_humanities,\n",
    "    \"business_farming\": business_farming,\n",
    "    \"sciences\": sciences,\n",
    "    \"politics_govt_law\": politics_govt_law,\n",
    "    \"law_enf_military_operator\": law_enf_military_operator,\n",
    "    \"crime\": crime,\n",
    "    \"event_record_other\": event_record_other,\n",
    "    \"other_species\": other_species,\n",
    "    \"arts\": arts,\n",
    "    \"sports\": sports,\n",
    "}"
   ]
  },
  {
   "cell_type": "markdown",
   "id": "f4114d59",
   "metadata": {},
   "source": [
    "#### Extracting `known_for` Categories and `cause_of_death` Values from `info_3_1`"
   ]
  },
  {
   "cell_type": "code",
   "execution_count": 815,
   "id": "fab7ca1b",
   "metadata": {},
   "outputs": [
    {
     "name": "stdout",
     "output_type": "stream",
     "text": [
      "There are 25136 values in cause_of_death column.\n",
      "\n",
      "CPU times: total: 22.2 s\n",
      "Wall time: 23.8 s\n"
     ]
    },
    {
     "data": {
      "application/javascript": [
       "\n",
       "            setTimeout(function() {\n",
       "                var nbb_cell_id = 815;\n",
       "                var nbb_unformatted_code = \"%%time\\n\\n# Column to check\\ncolumn = 'info_3_1'\\n\\n# Start dataframe\\ndataframe = df[df[column].notna()]\\n\\n# For loop to find cause in column and extract it to cause_of_death\\nfor cause in cause_of_death:\\n    for index in dataframe.index:\\n        item = df.loc[index, column]\\n        if item:\\n            if cause in item:\\n                if df.loc[index, 'cause_of_death']:\\n                    df.loc[index, 'cause_of_death'] = df.loc[index, 'cause_of_death'] + '/' + cause\\n                    df.loc[index, column] = item.replace(cause, '').strip()\\n                else:\\n                    df.loc[index, 'cause_of_death'] = cause\\n                    df.loc[index, column] = item.replace(cause, '').strip()\\n                \\n                \\n# For loop to find role in column and extract it as category\\nfor category, category_lst in known_for_dict.items():\\n    for role in category_lst:\\n        for index in dataframe.index:\\n                item = df.loc[index, column]\\n                if item:\\n                    if role in item:\\n                        df.loc[index, category] = 1\\n                        df.loc[index, column] = item.replace(role, '').strip()\\n\\n# Calculating num_categories\\ndf[\\\"num_categories\\\"] = df[known_for_dict.keys()].sum(axis=1)\\n\\n# Checking number of cause_of_death values\\nprint(f'There are {df[\\\"cause_of_death\\\"].notna().sum()} values in cause_of_death column.\\\\n')\";\n",
       "                var nbb_formatted_code = \"%%time\\n\\n# Column to check\\ncolumn = 'info_3_1'\\n\\n# Start dataframe\\ndataframe = df[df[column].notna()]\\n\\n# For loop to find cause in column and extract it to cause_of_death\\nfor cause in cause_of_death:\\n    for index in dataframe.index:\\n        item = df.loc[index, column]\\n        if item:\\n            if cause in item:\\n                if df.loc[index, 'cause_of_death']:\\n                    df.loc[index, 'cause_of_death'] = df.loc[index, 'cause_of_death'] + '/' + cause\\n                    df.loc[index, column] = item.replace(cause, '').strip()\\n                else:\\n                    df.loc[index, 'cause_of_death'] = cause\\n                    df.loc[index, column] = item.replace(cause, '').strip()\\n                \\n                \\n# For loop to find role in column and extract it as category\\nfor category, category_lst in known_for_dict.items():\\n    for role in category_lst:\\n        for index in dataframe.index:\\n                item = df.loc[index, column]\\n                if item:\\n                    if role in item:\\n                        df.loc[index, category] = 1\\n                        df.loc[index, column] = item.replace(role, '').strip()\\n\\n# Calculating num_categories\\ndf[\\\"num_categories\\\"] = df[known_for_dict.keys()].sum(axis=1)\\n\\n# Checking number of cause_of_death values\\nprint(f'There are {df[\\\"cause_of_death\\\"].notna().sum()} values in cause_of_death column.\\\\n')\";\n",
       "                var nbb_cells = Jupyter.notebook.get_cells();\n",
       "                for (var i = 0; i < nbb_cells.length; ++i) {\n",
       "                    if (nbb_cells[i].input_prompt_number == nbb_cell_id) {\n",
       "                        if (nbb_cells[i].get_text() == nbb_unformatted_code) {\n",
       "                             nbb_cells[i].set_text(nbb_formatted_code);\n",
       "                        }\n",
       "                        break;\n",
       "                    }\n",
       "                }\n",
       "            }, 500);\n",
       "            "
      ],
      "text/plain": [
       "<IPython.core.display.Javascript object>"
      ]
     },
     "metadata": {},
     "output_type": "display_data"
    }
   ],
   "source": [
    "%%time\n",
    "\n",
    "# Column to check\n",
    "column = 'info_3_1'\n",
    "\n",
    "# Start dataframe\n",
    "dataframe = df[df[column].notna()]\n",
    "\n",
    "# For loop to find cause in column and extract it to cause_of_death\n",
    "for cause in cause_of_death:\n",
    "    for index in dataframe.index:\n",
    "        item = df.loc[index, column]\n",
    "        if item:\n",
    "            if cause in item:\n",
    "                if df.loc[index, 'cause_of_death']:\n",
    "                    df.loc[index, 'cause_of_death'] = df.loc[index, 'cause_of_death'] + '/' + cause\n",
    "                    df.loc[index, column] = item.replace(cause, '').strip()\n",
    "                else:\n",
    "                    df.loc[index, 'cause_of_death'] = cause\n",
    "                    df.loc[index, column] = item.replace(cause, '').strip()\n",
    "                \n",
    "                \n",
    "# For loop to find role in column and extract it as category\n",
    "for category, category_lst in known_for_dict.items():\n",
    "    for role in category_lst:\n",
    "        for index in dataframe.index:\n",
    "                item = df.loc[index, column]\n",
    "                if item:\n",
    "                    if role in item:\n",
    "                        df.loc[index, category] = 1\n",
    "                        df.loc[index, column] = item.replace(role, '').strip()\n",
    "\n",
    "# Calculating num_categories\n",
    "df[\"num_categories\"] = df[known_for_dict.keys()].sum(axis=1)\n",
    "\n",
    "# Checking number of cause_of_death values\n",
    "print(f'There are {df[\"cause_of_death\"].notna().sum()} values in cause_of_death column.\\n')"
   ]
  },
  {
   "cell_type": "markdown",
   "id": "754c4fe0",
   "metadata": {},
   "source": [
    "#### Checking Updated `num_categories` Value Counts"
   ]
  },
  {
   "cell_type": "code",
   "execution_count": 816,
   "id": "672ac589",
   "metadata": {},
   "outputs": [
    {
     "data": {
      "text/plain": [
       "1    84607\n",
       "2    12630\n",
       "3      788\n",
       "0        8\n",
       "4        7\n",
       "Name: num_categories, dtype: int64"
      ]
     },
     "execution_count": 816,
     "metadata": {},
     "output_type": "execute_result"
    },
    {
     "data": {
      "application/javascript": [
       "\n",
       "            setTimeout(function() {\n",
       "                var nbb_cell_id = 816;\n",
       "                var nbb_unformatted_code = \"# Checking Updated num_categories Value Counts\\ndf[\\\"num_categories\\\"].value_counts()\";\n",
       "                var nbb_formatted_code = \"# Checking Updated num_categories Value Counts\\ndf[\\\"num_categories\\\"].value_counts()\";\n",
       "                var nbb_cells = Jupyter.notebook.get_cells();\n",
       "                for (var i = 0; i < nbb_cells.length; ++i) {\n",
       "                    if (nbb_cells[i].input_prompt_number == nbb_cell_id) {\n",
       "                        if (nbb_cells[i].get_text() == nbb_unformatted_code) {\n",
       "                             nbb_cells[i].set_text(nbb_formatted_code);\n",
       "                        }\n",
       "                        break;\n",
       "                    }\n",
       "                }\n",
       "            }, 500);\n",
       "            "
      ],
      "text/plain": [
       "<IPython.core.display.Javascript object>"
      ]
     },
     "metadata": {},
     "output_type": "display_data"
    }
   ],
   "source": [
    "# Checking Updated num_categories Value Counts\n",
    "df[\"num_categories\"].value_counts()"
   ]
  },
  {
   "cell_type": "markdown",
   "id": "3f6669c9",
   "metadata": {},
   "source": [
    "#### Observations:\n",
    "- We will proceed to rebuild `known_for_dict` and `cause_of_death` for the next iteration."
   ]
  },
  {
   "cell_type": "markdown",
   "id": "b6a445e0",
   "metadata": {},
   "source": [
    "#### Finding `known_for` Roles and `cause_of_death` in `info_3_1`"
   ]
  },
  {
   "cell_type": "code",
   "execution_count": 818,
   "id": "8a1b45d1",
   "metadata": {},
   "outputs": [
    {
     "data": {
      "application/javascript": [
       "\n",
       "            setTimeout(function() {\n",
       "                var nbb_cell_id = 818;\n",
       "                var nbb_unformatted_code = \"# Obtaining values for column and their counts\\nroles_cause_list = df[\\\"info_3_1\\\"].value_counts(ascending=True).index.tolist()\";\n",
       "                var nbb_formatted_code = \"# Obtaining values for column and their counts\\nroles_cause_list = df[\\\"info_3_1\\\"].value_counts(ascending=True).index.tolist()\";\n",
       "                var nbb_cells = Jupyter.notebook.get_cells();\n",
       "                for (var i = 0; i < nbb_cells.length; ++i) {\n",
       "                    if (nbb_cells[i].input_prompt_number == nbb_cell_id) {\n",
       "                        if (nbb_cells[i].get_text() == nbb_unformatted_code) {\n",
       "                             nbb_cells[i].set_text(nbb_formatted_code);\n",
       "                        }\n",
       "                        break;\n",
       "                    }\n",
       "                }\n",
       "            }, 500);\n",
       "            "
      ],
      "text/plain": [
       "<IPython.core.display.Javascript object>"
      ]
     },
     "metadata": {},
     "output_type": "display_data"
    }
   ],
   "source": [
    "# # Obtaining values for column and their counts\n",
    "# roles_cause_list = df[\"info_3_1\"].value_counts(ascending=True).index.tolist()"
   ]
  },
  {
   "cell_type": "code",
   "execution_count": 1669,
   "id": "80392a77",
   "metadata": {},
   "outputs": [
    {
     "data": {
      "application/javascript": [
       "\n",
       "            setTimeout(function() {\n",
       "                var nbb_cell_id = 1669;\n",
       "                var nbb_unformatted_code = \"# # Code to check each value\\n# value = roles_cause_list.pop()\\n# value\";\n",
       "                var nbb_formatted_code = \"# # Code to check each value\\n# value = roles_cause_list.pop()\\n# value\";\n",
       "                var nbb_cells = Jupyter.notebook.get_cells();\n",
       "                for (var i = 0; i < nbb_cells.length; ++i) {\n",
       "                    if (nbb_cells[i].input_prompt_number == nbb_cell_id) {\n",
       "                        if (nbb_cells[i].get_text() == nbb_unformatted_code) {\n",
       "                             nbb_cells[i].set_text(nbb_formatted_code);\n",
       "                        }\n",
       "                        break;\n",
       "                    }\n",
       "                }\n",
       "            }, 500);\n",
       "            "
      ],
      "text/plain": [
       "<IPython.core.display.Javascript object>"
      ]
     },
     "metadata": {},
     "output_type": "display_data"
    }
   ],
   "source": [
    "# # Code to check each value\n",
    "# value = roles_cause_list.pop()\n",
    "# value"
   ]
  },
  {
   "cell_type": "code",
   "execution_count": 1670,
   "id": "1e347a36",
   "metadata": {},
   "outputs": [
    {
     "data": {
      "application/javascript": [
       "\n",
       "            setTimeout(function() {\n",
       "                var nbb_cell_id = 1670;\n",
       "                var nbb_unformatted_code = \"# # Create specific_roles_cause_list for above popped value\\n# specific_roles_cause_list = (\\n#     df.loc[\\n#         [\\n#             index\\n#             for index in df[df[\\\"info_3_1\\\"].notna()].index\\n#             if value in df.loc[index, \\\"info_3_1\\\"]\\n#         ],\\n#         \\\"info_3_1\\\",\\n#     ]\\n#     .value_counts()\\n#     .index.tolist()\\n# )\";\n",
       "                var nbb_formatted_code = \"# # Create specific_roles_cause_list for above popped value\\n# specific_roles_cause_list = (\\n#     df.loc[\\n#         [\\n#             index\\n#             for index in df[df[\\\"info_3_1\\\"].notna()].index\\n#             if value in df.loc[index, \\\"info_3_1\\\"]\\n#         ],\\n#         \\\"info_3_1\\\",\\n#     ]\\n#     .value_counts()\\n#     .index.tolist()\\n# )\";\n",
       "                var nbb_cells = Jupyter.notebook.get_cells();\n",
       "                for (var i = 0; i < nbb_cells.length; ++i) {\n",
       "                    if (nbb_cells[i].input_prompt_number == nbb_cell_id) {\n",
       "                        if (nbb_cells[i].get_text() == nbb_unformatted_code) {\n",
       "                             nbb_cells[i].set_text(nbb_formatted_code);\n",
       "                        }\n",
       "                        break;\n",
       "                    }\n",
       "                }\n",
       "            }, 500);\n",
       "            "
      ],
      "text/plain": [
       "<IPython.core.display.Javascript object>"
      ]
     },
     "metadata": {},
     "output_type": "display_data"
    }
   ],
   "source": [
    "# # Create specific_roles_cause_list for above popped value\n",
    "# specific_roles_cause_list = (\n",
    "#     df.loc[\n",
    "#         [\n",
    "#             index\n",
    "#             for index in df[df[\"info_3_1\"].notna()].index\n",
    "#             if value in df.loc[index, \"info_3_1\"]\n",
    "#         ],\n",
    "#         \"info_3_1\",\n",
    "#     ]\n",
    "#     .value_counts()\n",
    "#     .index.tolist()\n",
    "# )"
   ]
  },
  {
   "cell_type": "code",
   "execution_count": 1671,
   "id": "f8417b50",
   "metadata": {},
   "outputs": [
    {
     "data": {
      "application/javascript": [
       "\n",
       "            setTimeout(function() {\n",
       "                var nbb_cell_id = 1671;\n",
       "                var nbb_unformatted_code = \"# # Viewing list sorted by descending length to copy to dictionary below and screen values\\n# sorted(specific_roles_cause_list, key=lambda x: len(x), reverse=True)\";\n",
       "                var nbb_formatted_code = \"# # Viewing list sorted by descending length to copy to dictionary below and screen values\\n# sorted(specific_roles_cause_list, key=lambda x: len(x), reverse=True)\";\n",
       "                var nbb_cells = Jupyter.notebook.get_cells();\n",
       "                for (var i = 0; i < nbb_cells.length; ++i) {\n",
       "                    if (nbb_cells[i].input_prompt_number == nbb_cell_id) {\n",
       "                        if (nbb_cells[i].get_text() == nbb_unformatted_code) {\n",
       "                             nbb_cells[i].set_text(nbb_formatted_code);\n",
       "                        }\n",
       "                        break;\n",
       "                    }\n",
       "                }\n",
       "            }, 500);\n",
       "            "
      ],
      "text/plain": [
       "<IPython.core.display.Javascript object>"
      ]
     },
     "metadata": {},
     "output_type": "display_data"
    }
   ],
   "source": [
    "# # Viewing list sorted by descending length to copy to dictionary below and screen values\n",
    "# sorted(specific_roles_cause_list, key=lambda x: len(x), reverse=True)"
   ]
  },
  {
   "cell_type": "code",
   "execution_count": 1672,
   "id": "27a902b5",
   "metadata": {},
   "outputs": [
    {
     "data": {
      "application/javascript": [
       "\n",
       "            setTimeout(function() {\n",
       "                var nbb_cell_id = 1672;\n",
       "                var nbb_unformatted_code = \"# # Example code to quick-check a specific entry\\n# df[df[\\\"info_3_1\\\"] == value]\";\n",
       "                var nbb_formatted_code = \"# # Example code to quick-check a specific entry\\n# df[df[\\\"info_3_1\\\"] == value]\";\n",
       "                var nbb_cells = Jupyter.notebook.get_cells();\n",
       "                for (var i = 0; i < nbb_cells.length; ++i) {\n",
       "                    if (nbb_cells[i].input_prompt_number == nbb_cell_id) {\n",
       "                        if (nbb_cells[i].get_text() == nbb_unformatted_code) {\n",
       "                             nbb_cells[i].set_text(nbb_formatted_code);\n",
       "                        }\n",
       "                        break;\n",
       "                    }\n",
       "                }\n",
       "            }, 500);\n",
       "            "
      ],
      "text/plain": [
       "<IPython.core.display.Javascript object>"
      ]
     },
     "metadata": {},
     "output_type": "display_data"
    }
   ],
   "source": [
    "# # Example code to quick-check a specific entry\n",
    "# df[df[\"info_3_1\"] == value]"
   ]
  },
  {
   "cell_type": "markdown",
   "id": "6ab45032",
   "metadata": {},
   "source": [
    "#### Creating Lists for Each `known_for` Category and for `cause_of_death`"
   ]
  },
  {
   "cell_type": "code",
   "execution_count": 1674,
   "id": "390fadaf",
   "metadata": {},
   "outputs": [
    {
     "data": {
      "application/javascript": [
       "\n",
       "            setTimeout(function() {\n",
       "                var nbb_cell_id = 1674;\n",
       "                var nbb_unformatted_code = \"# Creating lists for each category and sorting by decreasing length and removing duplicates\\n\\npolitics_govt_law = [\\n    \\\"Promotion of Employment\\\",\\n    \\\"Employment\\\",\\n    \\\"Sale East\\\",\\n    \\\"Levies\\\",\\n    \\\"United Nations\\\",\\n    \\\"ZANLA\\\",\\n    \\\"OPEC\\\",\\n    \\\"Chief Judge of the Supreme Court\\\",\\n    \\\"Wadiyar dynasty\\\",\\n    \\\"South Tyrone\\\",\\n    \\\"Marxist\\\",\\n    \\\"Services\\\",\\n    \\\"President of\\\",\\n    \\\"sister of Robert Mugabe\\\",\\n    \\\"MSP for Strathkelvin\\\",\\n    \\\"Middleton\\\",\\n    \\\"public health expert\\\",\\n    \\\"Hillsborough\\\",\\n    \\\"Dublin West\\\",\\n    \\\"Poplar\\\",\\n    \\\"legalisation campaigner\\\",\\n    \\\"Spen\\\",\\n    \\\"campaigner\\\",\\n    \\\"Arthabaska\\\",\\n    \\\"Loudoun\\\",\\n    \\\"Thrace\\\",\\n    \\\"trans nations builder\\\",\\n    \\\"Chatham\\\",\\n    \\\"Exchange Commission\\\",\\n    \\\"Royton\\\",\\n    \\\"Bohus\\\",\\n    \\\"Food\\\",\\n    \\\"Natural Gas\\\",\\n    \\\"Nixon Enemy\\\",\\n    \\\"Redditch\\\",\\n    \\\"Public Service Reform\\\",\\n    \\\"NTUC\\\",\\n    \\\"civil rights litigator\\\",\\n    \\\"aristocrat\\\",\\n    \\\"zionist\\\",\\n    \\\"Minister\\\",\\n    \\\"Native rights\\\",\\n    \\\"Commercial Workers Int'l\\\",\\n    \\\"segregationist\\\",\\n    \\\"legislator\\\",\\n    \\\"animal rights advocate\\\",\\n    \\\"civil rights advocat\\\",\\n    \\\"Solicitor General of the\\\",\\n    \\\"Elena Ceau\\u0219escu\\\",\\n    \\\"courtier\\\",\\n    \\\"pretender to the throne\\\",\\n    \\\"labor organizer\\\",\\n    \\\"banking regulator\\\",\\n    \\\"State Treasurer for West Virginia\\\",\\n    \\\"economic affairs\\\",\\n    \\\"Urban Habitat\\\",\\n    \\\"gay rights campaigner\\\",\\n]\\npolitics_govt_law = sorted(\\n    list(set(politics_govt_law)), key=lambda x: len(x), reverse=True\\n)\\n\\narts = [\\n    \\\"piper\\\",\\n    \\\"Dean\\\",\\n    \\\"other game shows\\\",\\n    \\\"mother of Daniel Day Lewis\\\",\\n    \\\"father of Nicolas Cage\\\",\\n    \\\"piano\\\",\\n    \\\"Premio Campiello recipient\\\",\\n    \\\"humourist\\\",\\n    \\\"stage practitioner\\\",\\n    \\\"CEO of\\\",\\n    \\\"muralist\\\",\\n    \\\"beauty queen\\\",\\n    \\\"clown\\\",\\n    \\\"Roses\\\",\\n    \\\"won nine Grammy Awards\\\",\\n    \\\"Cologne\\\",\\n    \\\"the Road Runner\\\",\\n    \\\"antiquities dealer\\\",\\n    \\\"orator\\\",\\n    \\\"auctioneer\\\",\\n    \\\"TV scripts\\\",\\n    \\\"radio\\\",\\n    \\\"baritone\\\",\\n    \\\"Eva Gabor\\\",\\n    \\\"stamp auctioneer\\\",\\n    \\\"advocate of the arts\\\",\\n    \\\"art supporter\\\",\\n    \\\"Sci Fi movies\\\",\\n    \\\"Charlie Parker\\\",\\n    \\\"furniture maker\\\",\\n    \\\"Apollo Theater\\\",\\n    \\\"De Facto\\\",\\n    \\\"companion of Gore Vidal\\\",\\n    \\\"drummer\\\",\\n    \\\"harpsichordist\\\",\\n    \\\"non fiction on Native s\\\",\\n    '\\\" Mogul\\\"',\\n    \\\"Ella Fitzgerald\\\",\\n    \\\"magazine covers\\\",\\n    \\\"produced Top albums\\\",\\n    \\\"six time Academy Awards nominee\\\",\\n]\\narts = sorted(list(set(arts)), key=lambda x: len(x), reverse=True)\\n\\nsports = [\\n    \\\"surfer\\\",\\n    \\\"Giro d'Italia in\\\",\\n    \\\"waterskier\\\",\\n    \\\"sailmaker\\\",\\n    \\\"alpinist\\\",\\n    \\\"long jumper\\\",\\n    \\\"father of Hugh Laurie\\\",\\n    \\\"athlete\\\",\\n    \\\"javelin thrower\\\",\\n    \\\"mountaineer\\\",\\n    \\\"ski orienteer\\\",\\n    \\\"the Philadelphia Phillies\\\",\\n    \\\"Mike Tyson\\\",\\n    \\\"world champion\\\",\\n    \\\"climber\\\",\\n]\\nsports = sorted(list(set(sports)), key=lambda x: len(x), reverse=True)\\n\\nsciences = [\\n    \\\"chemist\\\",\\n    \\\"wear fabrics\\\",\\n    \\\"assigned use of @ sign\\\",\\n    \\\"motorcycle builder\\\",\\n    \\\"paranormalist\\\",\\n    \\\"the Executive Director of the Gerontology Research Group\\\",\\n    \\\"the folding ping pong table\\\",\\n    \\\"the Nanchang J\\\",\\n    \\\"pediatrician\\\",\\n    \\\"statistics\\\",\\n    \\\"Carboniferous periods\\\",\\n    \\\"patent holder\\\",\\n    \\\"builder\\\",\\n    'coined the term \\\"transistor\\\"',\\n    \\\"society\\\",\\n    \\\"design scientist\\\",\\n    \\\"color vision\\\",\\n    \\\"chloroplast biology\\\",\\n    \\\"quantum optics\\\",\\n    \\\"fats\\\",\\n    \\\"the likelihood principle\\\",\\n    \\\"solar plasma spectroscopy\\\",\\n    \\\"fractals\\\",\\n]\\nsciences = sorted(list(set(sciences)), key=lambda x: len(x), reverse=True)\\n\\nbusiness_farming = [\\n    \\\"Esprit\\\",\\n    \\\"Goodyear\\\",\\n    \\\"billionaire\\\",\\n    \\\"Popsicles\\\",\\n    \\\"restaurant proprietor\\\",\\n    \\\"corporate raider\\\",\\n    \\\"viticulturist\\\",\\n]\\nbusiness_farming = sorted(\\n    list(set(business_farming)), key=lambda x: len(x), reverse=True\\n)\\n\\nacademia_humanities = [\\n    \\\"semiotician\\\",\\n    \\\"theatre instructor\\\",\\n    \\\"instructor\\\",\\n    \\\"language\\\",\\n    \\\"a specialist in the Berber languages\\\",\\n    \\\"Heritage Center\\\",\\n    \\\"reading advocate\\\",\\n    \\\"cultural analysis\\\",\\n    \\\"Syriacist\\\",\\n    \\\"an expert on Pascal\\\",\\n]\\nacademia_humanities = sorted(\\n    list(set(academia_humanities)), key=lambda x: len(x), reverse=True\\n)\\n\\nlaw_enf_military_operator = [\\n    \\\"Atmospheric ed Officer Corps\\\",\\n    \\\"G I Joe\\\",\\n    \\\"Chief of the Navy General Staff\\\",\\n    \\\"Border Patrol\\\",\\n    \\\"missions\\\",\\n    \\\"Defence Staff Chief\\\",\\n    \\\"mercenary\\\",\\n    \\\"Army Ranger\\\",\\n    \\\"linked to al Qaeda\\\",\\n    \\\"war hero\\\",\\n    \\\"aquanaut\\\",\\n    \\\"CIA operative\\\",\\n    \\\"Al Itihaad al Islamiya\\\",\\n    \\\"test pilot\\\",\\n    \\\"militant for the independence of\\\",\\n    \\\"Federal Bureau of Investigation informer\\\",\\n    \\\"World War II OSS operative\\\",\\n    \\\"Management at the U.S. Department of Defense\\\",\\n    \\\"a confessed spy for the KGB\\\",\\n    \\\"Corregidor\\\",\\n    \\\"last known person to see Anne Franke\\\",\\n    \\\"World War II war\\\",\\n]\\nlaw_enf_military_operator = sorted(\\n    list(set(law_enf_military_operator)), key=lambda x: len(x), reverse=True\\n)\\n\\nspiritual = [\\n    \\\"Furness\\\",\\n    \\\"Malankara Metropolitan\\\",\\n    \\\"The Isles\\\",\\n    \\\"All\\\",\\n    \\\"Eastern\\\",\\n    \\\"Ossory\\\",\\n    \\\"Biblical revisionist\\\",\\n    \\\"Byblos\\\",\\n    \\\"Bishop of Nitra\\\",\\n    \\\"creationist\\\",\\n    \\\"father of Christian Reconstructionism\\\",\\n    \\\"Islamic\\\",\\n    \\\"rabbi\\\",\\n]\\nspiritual = sorted(list(set(spiritual)), key=lambda x: len(x), reverse=True)\\n\\nsocial = [\\\"the Odebrecht Foundation\\\", \\\"Chicago\\\", \\\"Family Centres\\\"]\\nsocial = sorted(list(set(social)), key=lambda x: len(x), reverse=True)\\n\\ncrime = [\\n    \\\"loan crisis\\\",\\n    \\\"firearms possession\\\",\\n    \\\"crimes against humanity during the Civil War\\\",\\n    \\\"rapist\\\",\\n]\\ncrime = sorted(list(set(crime)), key=lambda x: len(x), reverse=True)\\n\\nevent_record_other = [\\n    \\\"supercentenarian\\\",\\n    \\\"renounced the office of\\\",\\n    \\\"father of Balthazar Getty\\\",\\n    \\\"envoy to the Republic\\\",\\n    \\\"yoga adept\\\",\\n]\\nevent_record_other = sorted(\\n    list(set(event_record_other)), key=lambda x: len(x), reverse=True\\n)\\n\\nother_species = [\\\"Racehorse of the Year\\\"]\\nother_species = sorted(list(set(other_species)), key=lambda x: len(x), reverse=True)\\n\\ncause_of_death = [\\n    \\\"exhaustion\\\",\\n    \\\"hoof inflammation\\\",\\n    \\\"helmet to shield others from a grenade explosion\\\",\\n    \\\"methyl alcohol poisoning\\\",\\n    \\\"acute respiratory distress syndrome\\\",\\n    \\\"craniocerebral trauma\\\",\\n    \\\"asthma\\\",\\n]\\ncause_of_death = sorted(list(set(cause_of_death)), key=lambda x: len(x), reverse=True)\";\n",
       "                var nbb_formatted_code = \"# Creating lists for each category and sorting by decreasing length and removing duplicates\\n\\npolitics_govt_law = [\\n    \\\"Promotion of Employment\\\",\\n    \\\"Employment\\\",\\n    \\\"Sale East\\\",\\n    \\\"Levies\\\",\\n    \\\"United Nations\\\",\\n    \\\"ZANLA\\\",\\n    \\\"OPEC\\\",\\n    \\\"Chief Judge of the Supreme Court\\\",\\n    \\\"Wadiyar dynasty\\\",\\n    \\\"South Tyrone\\\",\\n    \\\"Marxist\\\",\\n    \\\"Services\\\",\\n    \\\"President of\\\",\\n    \\\"sister of Robert Mugabe\\\",\\n    \\\"MSP for Strathkelvin\\\",\\n    \\\"Middleton\\\",\\n    \\\"public health expert\\\",\\n    \\\"Hillsborough\\\",\\n    \\\"Dublin West\\\",\\n    \\\"Poplar\\\",\\n    \\\"legalisation campaigner\\\",\\n    \\\"Spen\\\",\\n    \\\"campaigner\\\",\\n    \\\"Arthabaska\\\",\\n    \\\"Loudoun\\\",\\n    \\\"Thrace\\\",\\n    \\\"trans nations builder\\\",\\n    \\\"Chatham\\\",\\n    \\\"Exchange Commission\\\",\\n    \\\"Royton\\\",\\n    \\\"Bohus\\\",\\n    \\\"Food\\\",\\n    \\\"Natural Gas\\\",\\n    \\\"Nixon Enemy\\\",\\n    \\\"Redditch\\\",\\n    \\\"Public Service Reform\\\",\\n    \\\"NTUC\\\",\\n    \\\"civil rights litigator\\\",\\n    \\\"aristocrat\\\",\\n    \\\"zionist\\\",\\n    \\\"Minister\\\",\\n    \\\"Native rights\\\",\\n    \\\"Commercial Workers Int'l\\\",\\n    \\\"segregationist\\\",\\n    \\\"legislator\\\",\\n    \\\"animal rights advocate\\\",\\n    \\\"civil rights advocat\\\",\\n    \\\"Solicitor General of the\\\",\\n    \\\"Elena Ceau\\u0219escu\\\",\\n    \\\"courtier\\\",\\n    \\\"pretender to the throne\\\",\\n    \\\"labor organizer\\\",\\n    \\\"banking regulator\\\",\\n    \\\"State Treasurer for West Virginia\\\",\\n    \\\"economic affairs\\\",\\n    \\\"Urban Habitat\\\",\\n    \\\"gay rights campaigner\\\",\\n]\\npolitics_govt_law = sorted(\\n    list(set(politics_govt_law)), key=lambda x: len(x), reverse=True\\n)\\n\\narts = [\\n    \\\"piper\\\",\\n    \\\"Dean\\\",\\n    \\\"other game shows\\\",\\n    \\\"mother of Daniel Day Lewis\\\",\\n    \\\"father of Nicolas Cage\\\",\\n    \\\"piano\\\",\\n    \\\"Premio Campiello recipient\\\",\\n    \\\"humourist\\\",\\n    \\\"stage practitioner\\\",\\n    \\\"CEO of\\\",\\n    \\\"muralist\\\",\\n    \\\"beauty queen\\\",\\n    \\\"clown\\\",\\n    \\\"Roses\\\",\\n    \\\"won nine Grammy Awards\\\",\\n    \\\"Cologne\\\",\\n    \\\"the Road Runner\\\",\\n    \\\"antiquities dealer\\\",\\n    \\\"orator\\\",\\n    \\\"auctioneer\\\",\\n    \\\"TV scripts\\\",\\n    \\\"radio\\\",\\n    \\\"baritone\\\",\\n    \\\"Eva Gabor\\\",\\n    \\\"stamp auctioneer\\\",\\n    \\\"advocate of the arts\\\",\\n    \\\"art supporter\\\",\\n    \\\"Sci Fi movies\\\",\\n    \\\"Charlie Parker\\\",\\n    \\\"furniture maker\\\",\\n    \\\"Apollo Theater\\\",\\n    \\\"De Facto\\\",\\n    \\\"companion of Gore Vidal\\\",\\n    \\\"drummer\\\",\\n    \\\"harpsichordist\\\",\\n    \\\"non fiction on Native s\\\",\\n    '\\\" Mogul\\\"',\\n    \\\"Ella Fitzgerald\\\",\\n    \\\"magazine covers\\\",\\n    \\\"produced Top albums\\\",\\n    \\\"six time Academy Awards nominee\\\",\\n]\\narts = sorted(list(set(arts)), key=lambda x: len(x), reverse=True)\\n\\nsports = [\\n    \\\"surfer\\\",\\n    \\\"Giro d'Italia in\\\",\\n    \\\"waterskier\\\",\\n    \\\"sailmaker\\\",\\n    \\\"alpinist\\\",\\n    \\\"long jumper\\\",\\n    \\\"father of Hugh Laurie\\\",\\n    \\\"athlete\\\",\\n    \\\"javelin thrower\\\",\\n    \\\"mountaineer\\\",\\n    \\\"ski orienteer\\\",\\n    \\\"the Philadelphia Phillies\\\",\\n    \\\"Mike Tyson\\\",\\n    \\\"world champion\\\",\\n    \\\"climber\\\",\\n]\\nsports = sorted(list(set(sports)), key=lambda x: len(x), reverse=True)\\n\\nsciences = [\\n    \\\"chemist\\\",\\n    \\\"wear fabrics\\\",\\n    \\\"assigned use of @ sign\\\",\\n    \\\"motorcycle builder\\\",\\n    \\\"paranormalist\\\",\\n    \\\"the Executive Director of the Gerontology Research Group\\\",\\n    \\\"the folding ping pong table\\\",\\n    \\\"the Nanchang J\\\",\\n    \\\"pediatrician\\\",\\n    \\\"statistics\\\",\\n    \\\"Carboniferous periods\\\",\\n    \\\"patent holder\\\",\\n    \\\"builder\\\",\\n    'coined the term \\\"transistor\\\"',\\n    \\\"society\\\",\\n    \\\"design scientist\\\",\\n    \\\"color vision\\\",\\n    \\\"chloroplast biology\\\",\\n    \\\"quantum optics\\\",\\n    \\\"fats\\\",\\n    \\\"the likelihood principle\\\",\\n    \\\"solar plasma spectroscopy\\\",\\n    \\\"fractals\\\",\\n]\\nsciences = sorted(list(set(sciences)), key=lambda x: len(x), reverse=True)\\n\\nbusiness_farming = [\\n    \\\"Esprit\\\",\\n    \\\"Goodyear\\\",\\n    \\\"billionaire\\\",\\n    \\\"Popsicles\\\",\\n    \\\"restaurant proprietor\\\",\\n    \\\"corporate raider\\\",\\n    \\\"viticulturist\\\",\\n]\\nbusiness_farming = sorted(\\n    list(set(business_farming)), key=lambda x: len(x), reverse=True\\n)\\n\\nacademia_humanities = [\\n    \\\"semiotician\\\",\\n    \\\"theatre instructor\\\",\\n    \\\"instructor\\\",\\n    \\\"language\\\",\\n    \\\"a specialist in the Berber languages\\\",\\n    \\\"Heritage Center\\\",\\n    \\\"reading advocate\\\",\\n    \\\"cultural analysis\\\",\\n    \\\"Syriacist\\\",\\n    \\\"an expert on Pascal\\\",\\n]\\nacademia_humanities = sorted(\\n    list(set(academia_humanities)), key=lambda x: len(x), reverse=True\\n)\\n\\nlaw_enf_military_operator = [\\n    \\\"Atmospheric ed Officer Corps\\\",\\n    \\\"G I Joe\\\",\\n    \\\"Chief of the Navy General Staff\\\",\\n    \\\"Border Patrol\\\",\\n    \\\"missions\\\",\\n    \\\"Defence Staff Chief\\\",\\n    \\\"mercenary\\\",\\n    \\\"Army Ranger\\\",\\n    \\\"linked to al Qaeda\\\",\\n    \\\"war hero\\\",\\n    \\\"aquanaut\\\",\\n    \\\"CIA operative\\\",\\n    \\\"Al Itihaad al Islamiya\\\",\\n    \\\"test pilot\\\",\\n    \\\"militant for the independence of\\\",\\n    \\\"Federal Bureau of Investigation informer\\\",\\n    \\\"World War II OSS operative\\\",\\n    \\\"Management at the U.S. Department of Defense\\\",\\n    \\\"a confessed spy for the KGB\\\",\\n    \\\"Corregidor\\\",\\n    \\\"last known person to see Anne Franke\\\",\\n    \\\"World War II war\\\",\\n]\\nlaw_enf_military_operator = sorted(\\n    list(set(law_enf_military_operator)), key=lambda x: len(x), reverse=True\\n)\\n\\nspiritual = [\\n    \\\"Furness\\\",\\n    \\\"Malankara Metropolitan\\\",\\n    \\\"The Isles\\\",\\n    \\\"All\\\",\\n    \\\"Eastern\\\",\\n    \\\"Ossory\\\",\\n    \\\"Biblical revisionist\\\",\\n    \\\"Byblos\\\",\\n    \\\"Bishop of Nitra\\\",\\n    \\\"creationist\\\",\\n    \\\"father of Christian Reconstructionism\\\",\\n    \\\"Islamic\\\",\\n    \\\"rabbi\\\",\\n]\\nspiritual = sorted(list(set(spiritual)), key=lambda x: len(x), reverse=True)\\n\\nsocial = [\\\"the Odebrecht Foundation\\\", \\\"Chicago\\\", \\\"Family Centres\\\"]\\nsocial = sorted(list(set(social)), key=lambda x: len(x), reverse=True)\\n\\ncrime = [\\n    \\\"loan crisis\\\",\\n    \\\"firearms possession\\\",\\n    \\\"crimes against humanity during the Civil War\\\",\\n    \\\"rapist\\\",\\n]\\ncrime = sorted(list(set(crime)), key=lambda x: len(x), reverse=True)\\n\\nevent_record_other = [\\n    \\\"supercentenarian\\\",\\n    \\\"renounced the office of\\\",\\n    \\\"father of Balthazar Getty\\\",\\n    \\\"envoy to the Republic\\\",\\n    \\\"yoga adept\\\",\\n]\\nevent_record_other = sorted(\\n    list(set(event_record_other)), key=lambda x: len(x), reverse=True\\n)\\n\\nother_species = [\\\"Racehorse of the Year\\\"]\\nother_species = sorted(list(set(other_species)), key=lambda x: len(x), reverse=True)\\n\\ncause_of_death = [\\n    \\\"exhaustion\\\",\\n    \\\"hoof inflammation\\\",\\n    \\\"helmet to shield others from a grenade explosion\\\",\\n    \\\"methyl alcohol poisoning\\\",\\n    \\\"acute respiratory distress syndrome\\\",\\n    \\\"craniocerebral trauma\\\",\\n    \\\"asthma\\\",\\n]\\ncause_of_death = sorted(list(set(cause_of_death)), key=lambda x: len(x), reverse=True)\";\n",
       "                var nbb_cells = Jupyter.notebook.get_cells();\n",
       "                for (var i = 0; i < nbb_cells.length; ++i) {\n",
       "                    if (nbb_cells[i].input_prompt_number == nbb_cell_id) {\n",
       "                        if (nbb_cells[i].get_text() == nbb_unformatted_code) {\n",
       "                             nbb_cells[i].set_text(nbb_formatted_code);\n",
       "                        }\n",
       "                        break;\n",
       "                    }\n",
       "                }\n",
       "            }, 500);\n",
       "            "
      ],
      "text/plain": [
       "<IPython.core.display.Javascript object>"
      ]
     },
     "metadata": {},
     "output_type": "display_data"
    }
   ],
   "source": [
    "# Creating lists for each category and sorting by decreasing length and removing duplicates\n",
    "\n",
    "politics_govt_law = [\n",
    "    \"Promotion of Employment\",\n",
    "    \"Employment\",\n",
    "    \"Sale East\",\n",
    "    \"Levies\",\n",
    "    \"United Nations\",\n",
    "    \"ZANLA\",\n",
    "    \"OPEC\",\n",
    "    \"Chief Judge of the Supreme Court\",\n",
    "    \"Wadiyar dynasty\",\n",
    "    \"South Tyrone\",\n",
    "    \"Marxist\",\n",
    "    \"Services\",\n",
    "    \"President of\",\n",
    "    \"sister of Robert Mugabe\",\n",
    "    \"MSP for Strathkelvin\",\n",
    "    \"Middleton\",\n",
    "    \"public health expert\",\n",
    "    \"Hillsborough\",\n",
    "    \"Dublin West\",\n",
    "    \"Poplar\",\n",
    "    \"legalisation campaigner\",\n",
    "    \"campaigner\",\n",
    "    \"Arthabaska\",\n",
    "    \"Loudoun\",\n",
    "    \"Thrace\",\n",
    "    \"trans nations builder\",\n",
    "    \"Chatham\",\n",
    "    \"Exchange Commission\",\n",
    "    \"Royton\",\n",
    "    \"Bohus\",\n",
    "    \"Food\",\n",
    "    \"Natural Gas\",\n",
    "    \"Nixon Enemy\",\n",
    "    \"Redditch\",\n",
    "    \"Public Service Reform\",\n",
    "    \"NTUC\",\n",
    "    \"civil rights litigator\",\n",
    "    \"aristocrat\",\n",
    "    \"zionist\",\n",
    "    \"Minister\",\n",
    "    \"Native rights\",\n",
    "    \"Commercial Workers Int'l\",\n",
    "    \"segregationist\",\n",
    "    \"legislator\",\n",
    "    \"animal rights advocate\",\n",
    "    \"civil rights advocat\",\n",
    "    \"Solicitor General of the\",\n",
    "    \"Elena Ceaușescu\",\n",
    "    \"courtier\",\n",
    "    \"pretender to the throne\",\n",
    "    \"labor organizer\",\n",
    "    \"banking regulator\",\n",
    "    \"State Treasurer for West Virginia\",\n",
    "    \"economic affairs\",\n",
    "    \"Urban Habitat\",\n",
    "    \"gay rights campaigner\",\n",
    "]\n",
    "politics_govt_law = sorted(\n",
    "    list(set(politics_govt_law)), key=lambda x: len(x), reverse=True\n",
    ")\n",
    "\n",
    "arts = [\n",
    "    \"piper\",\n",
    "    \"Dean\",\n",
    "    \"other game shows\",\n",
    "    \"mother of Daniel Day Lewis\",\n",
    "    \"father of Nicolas Cage\",\n",
    "    \"piano\",\n",
    "    \"Premio Campiello recipient\",\n",
    "    \"humourist\",\n",
    "    \"stage practitioner\",\n",
    "    \"CEO of\",\n",
    "    \"muralist\",\n",
    "    \"beauty queen\",\n",
    "    \"clown\",\n",
    "    \"Roses\",\n",
    "    \"won nine Grammy Awards\",\n",
    "    \"Cologne\",\n",
    "    \"the Road Runner\",\n",
    "    \"antiquities dealer\",\n",
    "    \"orator\",\n",
    "    \"auctioneer\",\n",
    "    \"TV scripts\",\n",
    "    \"radio\",\n",
    "    \"baritone\",\n",
    "    \"Eva Gabor\",\n",
    "    \"stamp auctioneer\",\n",
    "    \"advocate of the arts\",\n",
    "    \"art supporter\",\n",
    "    \"Sci Fi movies\",\n",
    "    \"Charlie Parker\",\n",
    "    \"furniture maker\",\n",
    "    \"Apollo Theater\",\n",
    "    \"De Facto\",\n",
    "    \"companion of Gore Vidal\",\n",
    "    \"drummer\",\n",
    "    \"harpsichordist\",\n",
    "    \"non fiction on Native s\",\n",
    "    '\" Mogul\"',\n",
    "    \"Ella Fitzgerald\",\n",
    "    \"magazine covers\",\n",
    "    \"produced Top albums\",\n",
    "    \"six time Academy Awards nominee\",\n",
    "]\n",
    "arts = sorted(list(set(arts)), key=lambda x: len(x), reverse=True)\n",
    "\n",
    "sports = [\n",
    "    \"surfer\",\n",
    "    \"Giro d'Italia in\",\n",
    "    \"waterskier\",\n",
    "    \"sailmaker\",\n",
    "    \"alpinist\",\n",
    "    \"long jumper\",\n",
    "    \"father of Hugh Laurie\",\n",
    "    \"athlete\",\n",
    "    \"javelin thrower\",\n",
    "    \"mountaineer\",\n",
    "    \"ski orienteer\",\n",
    "    \"the Philadelphia Phillies\",\n",
    "    \"Mike Tyson\",\n",
    "    \"world champion\",\n",
    "    \"climber\",\n",
    "]\n",
    "sports = sorted(list(set(sports)), key=lambda x: len(x), reverse=True)\n",
    "\n",
    "sciences = [\n",
    "    \"chemist\",\n",
    "    \"wear fabrics\",\n",
    "    \"assigned use of @ sign\",\n",
    "    \"motorcycle builder\",\n",
    "    \"paranormalist\",\n",
    "    \"the Executive Director of the Gerontology Research Group\",\n",
    "    \"the folding ping pong table\",\n",
    "    \"the Nanchang J\",\n",
    "    \"pediatrician\",\n",
    "    \"statistics\",\n",
    "    \"Carboniferous periods\",\n",
    "    \"patent holder\",\n",
    "    'coined the term \"transistor\"',\n",
    "    \"design scientist\",\n",
    "    \"color vision\",\n",
    "    \"chloroplast biology\",\n",
    "    \"quantum optics\",\n",
    "    \"fats\",\n",
    "    \"the likelihood principle\",\n",
    "    \"solar plasma spectroscopy\",\n",
    "    \"fractals\",\n",
    "]\n",
    "sciences = sorted(list(set(sciences)), key=lambda x: len(x), reverse=True)\n",
    "\n",
    "business_farming = [\n",
    "    \"Esprit\",\n",
    "    \"Goodyear\",\n",
    "    \"billionaire\",\n",
    "    \"Popsicles\",\n",
    "    \"restaurant proprietor\",\n",
    "    \"corporate raider\",\n",
    "    \"viticulturist\",\n",
    "]\n",
    "business_farming = sorted(\n",
    "    list(set(business_farming)), key=lambda x: len(x), reverse=True\n",
    ")\n",
    "\n",
    "academia_humanities = [\n",
    "    \"semiotician\",\n",
    "    \"theatre instructor\",\n",
    "    \"instructor\",\n",
    "    \"language\",\n",
    "    \"a specialist in the Berber languages\",\n",
    "    \"Heritage Center\",\n",
    "    \"reading advocate\",\n",
    "    \"cultural analysis\",\n",
    "    \"Syriacist\",\n",
    "    \"an expert on Pascal\",\n",
    "]\n",
    "academia_humanities = sorted(\n",
    "    list(set(academia_humanities)), key=lambda x: len(x), reverse=True\n",
    ")\n",
    "\n",
    "law_enf_military_operator = [\n",
    "    \"Atmospheric ed Officer Corps\",\n",
    "    \"G I Joe\",\n",
    "    \"Chief of the Navy General Staff\",\n",
    "    \"Border Patrol\",\n",
    "    \"missions\",\n",
    "    \"Defence Staff Chief\",\n",
    "    \"mercenary\",\n",
    "    \"Army Ranger\",\n",
    "    \"linked to al Qaeda\",\n",
    "    \"war hero\",\n",
    "    \"aquanaut\",\n",
    "    \"CIA operative\",\n",
    "    \"Al Itihaad al Islamiya\",\n",
    "    \"test pilot\",\n",
    "    \"militant for the independence of\",\n",
    "    \"Federal Bureau of Investigation informer\",\n",
    "    \"World War II OSS operative\",\n",
    "    \"Management at the U.S. Department of Defense\",\n",
    "    \"a confessed spy for the KGB\",\n",
    "    \"Corregidor\",\n",
    "    \"last known person to see Anne Franke\",\n",
    "    \"World War II war\",\n",
    "]\n",
    "law_enf_military_operator = sorted(\n",
    "    list(set(law_enf_military_operator)), key=lambda x: len(x), reverse=True\n",
    ")\n",
    "\n",
    "spiritual = [\n",
    "    \"Furness\",\n",
    "    \"Malankara Metropolitan\",\n",
    "    \"The Isles\",\n",
    "    \"All\",\n",
    "    \"Eastern\",\n",
    "    \"Ossory\",\n",
    "    \"Biblical revisionist\",\n",
    "    \"Byblos\",\n",
    "    \"Bishop of Nitra\",\n",
    "    \"creationist\",\n",
    "    \"father of Christian Reconstructionism\",\n",
    "    \"Islamic\",\n",
    "    \"rabbi\",\n",
    "]\n",
    "spiritual = sorted(list(set(spiritual)), key=lambda x: len(x), reverse=True)\n",
    "\n",
    "social = [\"the Odebrecht Foundation\", \"Chicago\", \"Family Centres\"]\n",
    "social = sorted(list(set(social)), key=lambda x: len(x), reverse=True)\n",
    "\n",
    "crime = [\n",
    "    \"loan crisis\",\n",
    "    \"firearms possession\",\n",
    "    \"crimes against humanity during the Civil War\",\n",
    "    \"rapist\",\n",
    "]\n",
    "crime = sorted(list(set(crime)), key=lambda x: len(x), reverse=True)\n",
    "\n",
    "event_record_other = [\n",
    "    \"supercentenarian\",\n",
    "    \"renounced the office of\",\n",
    "    \"father of Balthazar Getty\",\n",
    "    \"envoy to the Republic\",\n",
    "    \"yoga adept\",\n",
    "]\n",
    "event_record_other = sorted(\n",
    "    list(set(event_record_other)), key=lambda x: len(x), reverse=True\n",
    ")\n",
    "\n",
    "other_species = [\"Racehorse of the Year\"]\n",
    "other_species = sorted(list(set(other_species)), key=lambda x: len(x), reverse=True)\n",
    "\n",
    "cause_of_death = [\n",
    "    \"exhaustion\",\n",
    "    \"hoof inflammation\",\n",
    "    \"helmet to shield others from a grenade explosion\",\n",
    "    \"methyl alcohol poisoning\",\n",
    "    \"acute respiratory distress syndrome\",\n",
    "    \"craniocerebral trauma\",\n",
    "    \"asthma\",\n",
    "]\n",
    "cause_of_death = sorted(list(set(cause_of_death)), key=lambda x: len(x), reverse=True)"
   ]
  },
  {
   "cell_type": "markdown",
   "id": "443134c7",
   "metadata": {},
   "source": [
    "#### Creating `known_for_dict` Dictionary of Category Keys and Specific Role Lists of Values"
   ]
  },
  {
   "cell_type": "code",
   "execution_count": 1675,
   "id": "9fda5598",
   "metadata": {},
   "outputs": [
    {
     "data": {
      "application/javascript": [
       "\n",
       "            setTimeout(function() {\n",
       "                var nbb_cell_id = 1675;\n",
       "                var nbb_unformatted_code = \"# Combining separate lists into one dictionary\\nknown_for_dict = {\\n    \\\"social\\\": social,\\n    \\\"spiritual\\\": spiritual,\\n    \\\"academia_humanities\\\": academia_humanities,\\n    \\\"business_farming\\\": business_farming,\\n    \\\"sciences\\\": sciences,\\n    \\\"politics_govt_law\\\": politics_govt_law,\\n    \\\"law_enf_military_operator\\\": law_enf_military_operator,\\n    \\\"crime\\\": crime,\\n    \\\"event_record_other\\\": event_record_other,\\n    \\\"other_species\\\": other_species,\\n    \\\"arts\\\": arts,\\n    \\\"sports\\\": sports,\\n\\n}\";\n",
       "                var nbb_formatted_code = \"# Combining separate lists into one dictionary\\nknown_for_dict = {\\n    \\\"social\\\": social,\\n    \\\"spiritual\\\": spiritual,\\n    \\\"academia_humanities\\\": academia_humanities,\\n    \\\"business_farming\\\": business_farming,\\n    \\\"sciences\\\": sciences,\\n    \\\"politics_govt_law\\\": politics_govt_law,\\n    \\\"law_enf_military_operator\\\": law_enf_military_operator,\\n    \\\"crime\\\": crime,\\n    \\\"event_record_other\\\": event_record_other,\\n    \\\"other_species\\\": other_species,\\n    \\\"arts\\\": arts,\\n    \\\"sports\\\": sports,\\n}\";\n",
       "                var nbb_cells = Jupyter.notebook.get_cells();\n",
       "                for (var i = 0; i < nbb_cells.length; ++i) {\n",
       "                    if (nbb_cells[i].input_prompt_number == nbb_cell_id) {\n",
       "                        if (nbb_cells[i].get_text() == nbb_unformatted_code) {\n",
       "                             nbb_cells[i].set_text(nbb_formatted_code);\n",
       "                        }\n",
       "                        break;\n",
       "                    }\n",
       "                }\n",
       "            }, 500);\n",
       "            "
      ],
      "text/plain": [
       "<IPython.core.display.Javascript object>"
      ]
     },
     "metadata": {},
     "output_type": "display_data"
    }
   ],
   "source": [
    "# Combining separate lists into one dictionary\n",
    "known_for_dict = {\n",
    "    \"social\": social,\n",
    "    \"spiritual\": spiritual,\n",
    "    \"academia_humanities\": academia_humanities,\n",
    "    \"business_farming\": business_farming,\n",
    "    \"sciences\": sciences,\n",
    "    \"politics_govt_law\": politics_govt_law,\n",
    "    \"law_enf_military_operator\": law_enf_military_operator,\n",
    "    \"crime\": crime,\n",
    "    \"event_record_other\": event_record_other,\n",
    "    \"other_species\": other_species,\n",
    "    \"arts\": arts,\n",
    "    \"sports\": sports,\n",
    "}"
   ]
  },
  {
   "cell_type": "markdown",
   "id": "fbebde9e",
   "metadata": {},
   "source": [
    "#### Extracting `known_for` Categories and `cause_of_death` Values from `info_3_1`"
   ]
  },
  {
   "cell_type": "code",
   "execution_count": 1676,
   "id": "325db105",
   "metadata": {},
   "outputs": [
    {
     "name": "stdout",
     "output_type": "stream",
     "text": [
      "There are 25136 values in cause_of_death column.\n",
      "\n",
      "CPU times: total: 17.5 s\n",
      "Wall time: 18.1 s\n"
     ]
    },
    {
     "data": {
      "application/javascript": [
       "\n",
       "            setTimeout(function() {\n",
       "                var nbb_cell_id = 1676;\n",
       "                var nbb_unformatted_code = \"%%time\\n\\n# Column to check\\ncolumn = 'info_3_1'\\n\\n# Start dataframe\\ndataframe = df[df[column].notna()]\\n\\n# For loop to find cause in column and extract it to cause_of_death\\nfor cause in cause_of_death:\\n    for index in dataframe.index:\\n        item = df.loc[index, column]\\n        if item:\\n            if cause in item:\\n                if df.loc[index, 'cause_of_death']:\\n                    df.loc[index, 'cause_of_death'] = df.loc[index, 'cause_of_death'] + '/' + cause\\n                    df.loc[index, column] = item.replace(cause, '').strip()\\n                else:\\n                    df.loc[index, 'cause_of_death'] = cause\\n                    df.loc[index, column] = item.replace(cause, '').strip()\\n                \\n                \\n# For loop to find role in column and extract it as category\\nfor category, category_lst in known_for_dict.items():\\n    for role in category_lst:\\n        for index in dataframe.index:\\n                item = df.loc[index, column]\\n                if item:\\n                    if role in item:\\n                        df.loc[index, category] = 1\\n                        df.loc[index, column] = item.replace(role, '').strip()\\n\\n# Calculating num_categories\\ndf[\\\"num_categories\\\"] = df[known_for_dict.keys()].sum(axis=1)\\n\\n# Checking number of cause_of_death values\\nprint(f'There are {df[\\\"cause_of_death\\\"].notna().sum()} values in cause_of_death column.\\\\n')\";\n",
       "                var nbb_formatted_code = \"%%time\\n\\n# Column to check\\ncolumn = 'info_3_1'\\n\\n# Start dataframe\\ndataframe = df[df[column].notna()]\\n\\n# For loop to find cause in column and extract it to cause_of_death\\nfor cause in cause_of_death:\\n    for index in dataframe.index:\\n        item = df.loc[index, column]\\n        if item:\\n            if cause in item:\\n                if df.loc[index, 'cause_of_death']:\\n                    df.loc[index, 'cause_of_death'] = df.loc[index, 'cause_of_death'] + '/' + cause\\n                    df.loc[index, column] = item.replace(cause, '').strip()\\n                else:\\n                    df.loc[index, 'cause_of_death'] = cause\\n                    df.loc[index, column] = item.replace(cause, '').strip()\\n                \\n                \\n# For loop to find role in column and extract it as category\\nfor category, category_lst in known_for_dict.items():\\n    for role in category_lst:\\n        for index in dataframe.index:\\n                item = df.loc[index, column]\\n                if item:\\n                    if role in item:\\n                        df.loc[index, category] = 1\\n                        df.loc[index, column] = item.replace(role, '').strip()\\n\\n# Calculating num_categories\\ndf[\\\"num_categories\\\"] = df[known_for_dict.keys()].sum(axis=1)\\n\\n# Checking number of cause_of_death values\\nprint(f'There are {df[\\\"cause_of_death\\\"].notna().sum()} values in cause_of_death column.\\\\n')\";\n",
       "                var nbb_cells = Jupyter.notebook.get_cells();\n",
       "                for (var i = 0; i < nbb_cells.length; ++i) {\n",
       "                    if (nbb_cells[i].input_prompt_number == nbb_cell_id) {\n",
       "                        if (nbb_cells[i].get_text() == nbb_unformatted_code) {\n",
       "                             nbb_cells[i].set_text(nbb_formatted_code);\n",
       "                        }\n",
       "                        break;\n",
       "                    }\n",
       "                }\n",
       "            }, 500);\n",
       "            "
      ],
      "text/plain": [
       "<IPython.core.display.Javascript object>"
      ]
     },
     "metadata": {},
     "output_type": "display_data"
    }
   ],
   "source": [
    "%%time\n",
    "\n",
    "# Column to check\n",
    "column = 'info_3_1'\n",
    "\n",
    "# Start dataframe\n",
    "dataframe = df[df[column].notna()]\n",
    "\n",
    "# For loop to find cause in column and extract it to cause_of_death\n",
    "for cause in cause_of_death:\n",
    "    for index in dataframe.index:\n",
    "        item = df.loc[index, column]\n",
    "        if item:\n",
    "            if cause in item:\n",
    "                if df.loc[index, 'cause_of_death']:\n",
    "                    df.loc[index, 'cause_of_death'] = df.loc[index, 'cause_of_death'] + '/' + cause\n",
    "                    df.loc[index, column] = item.replace(cause, '').strip()\n",
    "                else:\n",
    "                    df.loc[index, 'cause_of_death'] = cause\n",
    "                    df.loc[index, column] = item.replace(cause, '').strip()\n",
    "                \n",
    "                \n",
    "# For loop to find role in column and extract it as category\n",
    "for category, category_lst in known_for_dict.items():\n",
    "    for role in category_lst:\n",
    "        for index in dataframe.index:\n",
    "                item = df.loc[index, column]\n",
    "                if item:\n",
    "                    if role in item:\n",
    "                        df.loc[index, category] = 1\n",
    "                        df.loc[index, column] = item.replace(role, '').strip()\n",
    "\n",
    "# Calculating num_categories\n",
    "df[\"num_categories\"] = df[known_for_dict.keys()].sum(axis=1)\n",
    "\n",
    "# Checking number of cause_of_death values\n",
    "print(f'There are {df[\"cause_of_death\"].notna().sum()} values in cause_of_death column.\\n')"
   ]
  },
  {
   "cell_type": "markdown",
   "id": "a82b1ac2",
   "metadata": {},
   "source": [
    "#### Checking Updated `num_categories` Value Counts"
   ]
  },
  {
   "cell_type": "code",
   "execution_count": 1677,
   "id": "20c2d8cb",
   "metadata": {},
   "outputs": [
    {
     "data": {
      "text/plain": [
       "1    84577\n",
       "2    12639\n",
       "3      808\n",
       "0        8\n",
       "4        8\n",
       "Name: num_categories, dtype: int64"
      ]
     },
     "execution_count": 1677,
     "metadata": {},
     "output_type": "execute_result"
    },
    {
     "data": {
      "application/javascript": [
       "\n",
       "            setTimeout(function() {\n",
       "                var nbb_cell_id = 1677;\n",
       "                var nbb_unformatted_code = \"# Checking Updated num_categories Value Counts\\ndf[\\\"num_categories\\\"].value_counts()\";\n",
       "                var nbb_formatted_code = \"# Checking Updated num_categories Value Counts\\ndf[\\\"num_categories\\\"].value_counts()\";\n",
       "                var nbb_cells = Jupyter.notebook.get_cells();\n",
       "                for (var i = 0; i < nbb_cells.length; ++i) {\n",
       "                    if (nbb_cells[i].input_prompt_number == nbb_cell_id) {\n",
       "                        if (nbb_cells[i].get_text() == nbb_unformatted_code) {\n",
       "                             nbb_cells[i].set_text(nbb_formatted_code);\n",
       "                        }\n",
       "                        break;\n",
       "                    }\n",
       "                }\n",
       "            }, 500);\n",
       "            "
      ],
      "text/plain": [
       "<IPython.core.display.Javascript object>"
      ]
     },
     "metadata": {},
     "output_type": "display_data"
    }
   ],
   "source": [
    "# Checking Updated num_categories Value Counts\n",
    "df[\"num_categories\"].value_counts()"
   ]
  },
  {
   "cell_type": "markdown",
   "id": "5a3cf211",
   "metadata": {},
   "source": [
    "#### Observations:\n",
    "- We will proceed to rebuild `known_for_dict` and `cause_of_death` for the next iteration."
   ]
  },
  {
   "cell_type": "markdown",
   "id": "fa293825",
   "metadata": {},
   "source": [
    "#### Finding `known_for` Roles and `cause_of_death` in `info_3_1`"
   ]
  },
  {
   "cell_type": "code",
   "execution_count": 2604,
   "id": "3b5fc7f4",
   "metadata": {},
   "outputs": [
    {
     "data": {
      "application/javascript": [
       "\n",
       "            setTimeout(function() {\n",
       "                var nbb_cell_id = 2604;\n",
       "                var nbb_unformatted_code = \"# # Obtaining values for column and their counts\\n# roles_cause_list = df[\\\"info_3_1\\\"].value_counts(ascending=True).index.tolist()\";\n",
       "                var nbb_formatted_code = \"# # Obtaining values for column and their counts\\n# roles_cause_list = df[\\\"info_3_1\\\"].value_counts(ascending=True).index.tolist()\";\n",
       "                var nbb_cells = Jupyter.notebook.get_cells();\n",
       "                for (var i = 0; i < nbb_cells.length; ++i) {\n",
       "                    if (nbb_cells[i].input_prompt_number == nbb_cell_id) {\n",
       "                        if (nbb_cells[i].get_text() == nbb_unformatted_code) {\n",
       "                             nbb_cells[i].set_text(nbb_formatted_code);\n",
       "                        }\n",
       "                        break;\n",
       "                    }\n",
       "                }\n",
       "            }, 500);\n",
       "            "
      ],
      "text/plain": [
       "<IPython.core.display.Javascript object>"
      ]
     },
     "metadata": {},
     "output_type": "display_data"
    }
   ],
   "source": [
    "# # Obtaining values for column and their counts\n",
    "# roles_cause_list = df[\"info_3_1\"].value_counts(ascending=True).index.tolist()"
   ]
  },
  {
   "cell_type": "code",
   "execution_count": 2606,
   "id": "f7410085",
   "metadata": {},
   "outputs": [
    {
     "data": {
      "application/javascript": [
       "\n",
       "            setTimeout(function() {\n",
       "                var nbb_cell_id = 2606;\n",
       "                var nbb_unformatted_code = \"# # Code to check each value\\n# value = roles_cause_list.pop()\\n# value\";\n",
       "                var nbb_formatted_code = \"# # Code to check each value\\n# value = roles_cause_list.pop()\\n# value\";\n",
       "                var nbb_cells = Jupyter.notebook.get_cells();\n",
       "                for (var i = 0; i < nbb_cells.length; ++i) {\n",
       "                    if (nbb_cells[i].input_prompt_number == nbb_cell_id) {\n",
       "                        if (nbb_cells[i].get_text() == nbb_unformatted_code) {\n",
       "                             nbb_cells[i].set_text(nbb_formatted_code);\n",
       "                        }\n",
       "                        break;\n",
       "                    }\n",
       "                }\n",
       "            }, 500);\n",
       "            "
      ],
      "text/plain": [
       "<IPython.core.display.Javascript object>"
      ]
     },
     "metadata": {},
     "output_type": "display_data"
    }
   ],
   "source": [
    "# # Code to check each value\n",
    "# value = roles_cause_list.pop()\n",
    "# value"
   ]
  },
  {
   "cell_type": "code",
   "execution_count": 2607,
   "id": "97aab14c",
   "metadata": {},
   "outputs": [
    {
     "data": {
      "application/javascript": [
       "\n",
       "            setTimeout(function() {\n",
       "                var nbb_cell_id = 2607;\n",
       "                var nbb_unformatted_code = \"# # Create specific_roles_cause_list for above popped value\\n# specific_roles_cause_list = (\\n#     df.loc[\\n#         [\\n#             index\\n#             for index in df[df[\\\"info_3_1\\\"].notna()].index\\n#             if value in df.loc[index, \\\"info_3_1\\\"]\\n#         ],\\n#         \\\"info_3_1\\\",\\n#     ]\\n#     .value_counts()\\n#     .index.tolist()\\n# )\";\n",
       "                var nbb_formatted_code = \"# # Create specific_roles_cause_list for above popped value\\n# specific_roles_cause_list = (\\n#     df.loc[\\n#         [\\n#             index\\n#             for index in df[df[\\\"info_3_1\\\"].notna()].index\\n#             if value in df.loc[index, \\\"info_3_1\\\"]\\n#         ],\\n#         \\\"info_3_1\\\",\\n#     ]\\n#     .value_counts()\\n#     .index.tolist()\\n# )\";\n",
       "                var nbb_cells = Jupyter.notebook.get_cells();\n",
       "                for (var i = 0; i < nbb_cells.length; ++i) {\n",
       "                    if (nbb_cells[i].input_prompt_number == nbb_cell_id) {\n",
       "                        if (nbb_cells[i].get_text() == nbb_unformatted_code) {\n",
       "                             nbb_cells[i].set_text(nbb_formatted_code);\n",
       "                        }\n",
       "                        break;\n",
       "                    }\n",
       "                }\n",
       "            }, 500);\n",
       "            "
      ],
      "text/plain": [
       "<IPython.core.display.Javascript object>"
      ]
     },
     "metadata": {},
     "output_type": "display_data"
    }
   ],
   "source": [
    "# # Create specific_roles_cause_list for above popped value\n",
    "# specific_roles_cause_list = (\n",
    "#     df.loc[\n",
    "#         [\n",
    "#             index\n",
    "#             for index in df[df[\"info_3_1\"].notna()].index\n",
    "#             if value in df.loc[index, \"info_3_1\"]\n",
    "#         ],\n",
    "#         \"info_3_1\",\n",
    "#     ]\n",
    "#     .value_counts()\n",
    "#     .index.tolist()\n",
    "# )"
   ]
  },
  {
   "cell_type": "code",
   "execution_count": 2608,
   "id": "0195ab91",
   "metadata": {},
   "outputs": [
    {
     "data": {
      "application/javascript": [
       "\n",
       "            setTimeout(function() {\n",
       "                var nbb_cell_id = 2608;\n",
       "                var nbb_unformatted_code = \"# # Viewing list sorted by descending length to copy to dictionary below and screen values\\n# sorted(specific_roles_cause_list, key=lambda x: len(x), reverse=True)\";\n",
       "                var nbb_formatted_code = \"# # Viewing list sorted by descending length to copy to dictionary below and screen values\\n# sorted(specific_roles_cause_list, key=lambda x: len(x), reverse=True)\";\n",
       "                var nbb_cells = Jupyter.notebook.get_cells();\n",
       "                for (var i = 0; i < nbb_cells.length; ++i) {\n",
       "                    if (nbb_cells[i].input_prompt_number == nbb_cell_id) {\n",
       "                        if (nbb_cells[i].get_text() == nbb_unformatted_code) {\n",
       "                             nbb_cells[i].set_text(nbb_formatted_code);\n",
       "                        }\n",
       "                        break;\n",
       "                    }\n",
       "                }\n",
       "            }, 500);\n",
       "            "
      ],
      "text/plain": [
       "<IPython.core.display.Javascript object>"
      ]
     },
     "metadata": {},
     "output_type": "display_data"
    }
   ],
   "source": [
    "# # Viewing list sorted by descending length to copy to dictionary below and screen values\n",
    "# sorted(specific_roles_cause_list, key=lambda x: len(x), reverse=True)"
   ]
  },
  {
   "cell_type": "code",
   "execution_count": 2609,
   "id": "9acfb8e6",
   "metadata": {},
   "outputs": [
    {
     "data": {
      "application/javascript": [
       "\n",
       "            setTimeout(function() {\n",
       "                var nbb_cell_id = 2609;\n",
       "                var nbb_unformatted_code = \"# # Example code to quick-check a specific entry\\n# df[df[\\\"info_3_1\\\"] == value]\";\n",
       "                var nbb_formatted_code = \"# # Example code to quick-check a specific entry\\n# df[df[\\\"info_3_1\\\"] == value]\";\n",
       "                var nbb_cells = Jupyter.notebook.get_cells();\n",
       "                for (var i = 0; i < nbb_cells.length; ++i) {\n",
       "                    if (nbb_cells[i].input_prompt_number == nbb_cell_id) {\n",
       "                        if (nbb_cells[i].get_text() == nbb_unformatted_code) {\n",
       "                             nbb_cells[i].set_text(nbb_formatted_code);\n",
       "                        }\n",
       "                        break;\n",
       "                    }\n",
       "                }\n",
       "            }, 500);\n",
       "            "
      ],
      "text/plain": [
       "<IPython.core.display.Javascript object>"
      ]
     },
     "metadata": {},
     "output_type": "display_data"
    }
   ],
   "source": [
    "# # Example code to quick-check a specific entry\n",
    "# df[df[\"info_3_1\"] == value]"
   ]
  },
  {
   "cell_type": "markdown",
   "id": "a9145bdf",
   "metadata": {},
   "source": [
    "#### Creating Lists for Each `known_for` Category and for `cause_of_death`"
   ]
  },
  {
   "cell_type": "code",
   "execution_count": 2610,
   "id": "81b9cfd0",
   "metadata": {},
   "outputs": [
    {
     "data": {
      "application/javascript": [
       "\n",
       "            setTimeout(function() {\n",
       "                var nbb_cell_id = 2610;\n",
       "                var nbb_unformatted_code = \"# Creating lists for each category and sorting by decreasing length and removing duplicates\\n\\npolitics_govt_law = [\\n    \\\"Fine Arts\\\",\\n    \\\"MLA for Haidergarh\\\",\\n    \\\"Skegness\\\",\\n    \\\"lobbyist\\\",\\n    \\\"Home Affairs\\\",\\n    \\\"nd Districts\\\",\\n    \\\"Receiver General of Massachusetts\\\",\\n    \\\"New\\\",\\n    \\\"Industrial Research\\\",\\n    \\\"International Security Affairs\\\",\\n    \\\"Wisconsin State Assembly\\\",\\n    \\\"government advisor\\\",\\n    \\\"Korea\\\",\\n    \\\"Mines\\\",\\n    \\\"Legal Affairs Commission\\\",\\n    \\\"IAWG\\\",\\n    \\\"Nicobar Island\\\",\\n    \\\"Patagonia\\\",\\n    \\\"Livestock\\\",\\n    \\\"Nevis\\\",\\n    \\\"counsel\\\",\\n    \\\"Wallington\\\",\\n    \\\"Family Affairs\\\",\\n    \\\"Camborne\\\",\\n    \\\"Constitutional Convention\\\",\\n    \\\"Industrial Research\\\",\\n    \\\"Research\\\",\\n    \\\"Aged Care\\\",\\n    \\\"Spenborough\\\",\\n    \\\"Spen\\\",\\n    \\\"Arab tolerance\\\",\\n    \\\"East Perthshire\\\",\\n    \\\"social insurance\\\",\\n    \\\"information\\\",\\n    \\\"sports\\\",\\n    \\\"Bihar MLC\\\",\\n    \\\"shipping\\\",\\n    \\\"energy\\\",\\n    \\\"mineral resources\\\",\\n    \\\"treasury solicitor\\\",\\n    \\\"emigrants\\\",\\n    \\\"Social Council\\\",\\n    \\\"human services\\\",\\n    \\\"public affairs\\\",\\n    \\\"industry\\\",\\n    \\\"family welfare\\\",\\n    \\\"monopolies\\\",\\n    \\\"co prince of\\\",\\n    \\\"treasurer of Queensland\\\",\\n    \\\"the International Center on Nonviolent Conflict\\\",\\n    \\\"whistleblower\\\",\\n    \\\"three term TD\\\",\\n    \\\"environment protection\\\",\\n    \\\"urbanism\\\",\\n    \\\"Sarawak\\\",\\n    \\\"tourism\\\",\\n    \\\"science\\\",\\n    \\\"foreign affairs of the PDNC\\\",\\n    \\\"social security\\\",\\n    \\\"plenipotentiary of\\\",\\n    \\\"signatory of the Act of the Re Establishment of the State of\\\",\\n    \\\"commerce\\\",\\n    \\\"Chippewa Indians\\\",\\n    'literacy',\\n    'coiner of country name',\\n    'Haryana High Court',\\n    'Mass Education',\\n    'Drugs',\\n    'Acting Surgeon General of the',\\n    'Democracy',\\n    'Co Prince of',\\n    'Leader of the Opposition',\\n    'chief ideologist of Khmer Rouge',\\n    'Treasurer of UKIP',\\n    'Social Affairs',\\n    'Deputy Speaker of Parliament',\\n    'animal rights',\\n    'Political Rights Association',\\n    'Transportation'\\n]\\npolitics_govt_law = sorted(\\n    list(set(politics_govt_law)), key=lambda x: len(x), reverse=True\\n)\\n\\narts = [\\n    \\\"mixer\\\",\\n    \\\"organist\\\",\\n    \\\"flautist\\\",\\n    \\\"society figure\\\",\\n    \\\"gossip celebrity\\\",\\n    \\\"trombonist\\\",\\n    \\\"personal assistant to\\\",\\n    \\\"art\\\",\\n    \\\"Colossus Records\\\",\\n    \\\"Imagineer\\\",\\n    \\\"cook\\\",\\n    \\\"gardener\\\",\\n    'talk show host',\\n    'clarinetist',\\n    'book binder',\\n    'talkback host',\\n    'accordionist',\\n    'televangelist'\\n]\\narts = sorted(list(set(arts)), key=lambda x: len(x), reverse=True)\\n\\nsports = [\\n    \\\"sport fisherman\\\",\\n    \\\"Commonwealth Games champion\\\",\\n    \\\"sportsman\\\",\\n    \\\"larger than life persona\\\",\\n    \\\"Thoroughbred racehorse\\\",\\n    \\\"Colorado Avalanche\\\",\\n    \\\"football\\\",\\n    'World Hockey Association',\\n    'Rushden & Diamonds F C',\\n    'jetpack pilot',\\n    'Atlanta Braves',\\n    'racehorse',\\n    'Open women doubles champion',\\n    'the Washington Wizards',\\n    'lawn bowler'\\n]\\nsports = sorted(list(set(sports)), key=lambda x: len(x), reverse=True)\\n\\nsciences = [\\n    \\\"asteroids\\\",\\n    \\\"the Arctic\\\",\\n    \\\"soil science\\\",\\n    \\\"HQ Trivia\\\",\\n    \\\"LBO\\\",\\n    \\\"the Draper Prize\\\",\\n    \\\"pharmacist\\\",\\n    \\\"builder\\\",\\n    \\\"electron spin resonance spectroscopy\\\",\\n    \\\"organ transplantation\\\",\\n    \\\"chemotherapy\\\",\\n    \\\"medical scientist\\\",\\n    \\\"scientist\\\",\\n    \\\"discoverer of REM sleep\\\",\\n    \\\"statistician\\\",\\n    \\\"medical scientist\\\",\\n    \\\"medical\\\",\\n    \\\"Academy of Engineering\\\",\\n    'Yaogan satellites',\\n    'first flight simulator',\\n    'Computational Chemists',\\n    'developer of the image scanner',\\n    'engine'\\n]\\nsciences = sorted(list(set(sciences)), key=lambda x: len(x), reverse=True)\\n\\nbusiness_farming = [\\n    \\\"HNA Group\\\",\\n    \\\"Semapa\\\",\\n    \\\"the CITIC Group\\\",\\n    \\\"marketer\\\",\\n    \\\"Yulon\\\",\\n    \\\"Roland Corporation\\\",\\n    \\\"grazier\\\",\\n    \\\"SGV & Company\\\",\\n    \\\"real estate developer\\\",\\n    \\\"chairman of Primark\\\",\\n    \\\"EasyJet\\\",\\n    'Sun International'\\n]\\nbusiness_farming = sorted(\\n    list(set(business_farming)), key=lambda x: len(x), reverse=True\\n)\\n\\nacademia_humanities = [\\n    \\\"design at the Museum of Modern Art\\\",\\n    \\\"Education Center\\\",\\n    \\\"CQUT\\\",\\n    \\\"orientalist\\\",\\n    \\\"celebrated the evolution of type\\\",\\n    \\\"Albert Museum\\\",\\n    \\\"president\\\",\\n    'Tape Archive',\\n    'archdruid',\\n    'dean of the Padma Seshadri Bala Bhavan',\\n    'Design',\\n    'Surgeons',\\n    'study'\\n]\\nacademia_humanities = sorted(\\n    list(set(academia_humanities)), key=lambda x: len(x), reverse=True\\n)\\n\\nlaw_enf_military_operator = [\\n    \\\"Artillery\\\",\\n    \\\"recovery following\\\",\\n    \\\"adviser to the National Security Council\\\",\\n    \\\"Springhill mining disasters\\\",\\n    \\\"CICPC investigator\\\",\\n    \\\"PIRA\\\",\\n    \\\"the No Fighter Squadrons\\\",\\n    \\\"spy\\\",\\n    'paramilitary',\\n    'aviator',\\n    'Guangzhou Military Region Air Forces',\\n    'Marshal of the Union',\\n    'tank commander',\\n    'Security Service',\\n    'Air Defence Forces Army',\\n    'Artillery',\\n    'chief of Haro lockdown'\\n]\\nlaw_enf_military_operator = sorted(\\n    list(set(law_enf_military_operator)), key=lambda x: len(x), reverse=True\\n)\\n\\nspiritual = [\\n    \\\"theistic evolutionist\\\",\\n    \\\"Edinburgh\\\",\\n    \\\"Wells\\\",\\n    \\\"Mashonaland\\\",\\n    \\\"pagan revivalist\\\",\\n    \\\"Jews\\\",\\n    \\\"Kilmacduagh\\\",\\n    \\\"Pihopa o Aotearoa\\\",\\n    \\\"Opus Dei\\\",\\n    \\\"preacher\\\",\\n    \\\"esotericist\\\",\\n    \\\"Forzol\\\",\\n    \\\"Fort de\\\",\\n    \\\"Brighton\\\",\\n    \\\"Herzegovina\\\",\\n    \\\"Lorraine\\\",\\n    \\\"Slutsk\\\",\\n    \\\"Prizren\\\",\\n    \\\"Chukotka\\\",\\n    \\\"St Vincent\\\",\\n    'Kuruman',\\n    'Raphoe',\\n    'Minneapolis',\\n    'Ipswich',\\n    'Suzdal'\\n]\\nspiritual = sorted(list(set(spiritual)), key=lambda x: len(x), reverse=True)\\n\\nsocial = []\\nsocial = sorted(list(set(social)), key=lambda x: len(x), reverse=True)\\n\\ncrime = [\\\"informant\\\", \\\"human rights violator\\\", \\\"embezzlement\\\",'kidnapper']\\ncrime = sorted(list(set(crime)), key=lambda x: len(x), reverse=True)\\n\\nevent_record_other = [\\n    \\\"last living verified person born in the th century\\\",\\n    \\\"kidnap victim\\\",\\n    \\\"parental rights case\\\",\\n    \\\"imprisoned by\\\",\\n    \\\"murder\\\",\\n    \\\"the Siege of Sarajevo\\\",\\n]\\nevent_record_other = sorted(\\n    list(set(event_record_other)), key=lambda x: len(x), reverse=True\\n)\\n\\nother_species = [\\\"Ascot Gold Cup\\\", \\\"Derby winner\\\", \\\"hatched in captivity\\\"]\\nother_species = sorted(list(set(other_species)), key=lambda x: len(x), reverse=True)\\n\\ncause_of_death = [\\n    \\\"ALS\\\",\\n    \\\"esophageal dysphagia\\\",\\n    \\\"swine flu\\\",\\n    \\\"brain trauma\\\",\\n    \\\"respiratory stress syndrome\\\",\\n    \\\"chronic traumatic encephalopathy\\\",\\n    'strangled',\\n    'brutality',\\n    'traffic collision'\\n]\\ncause_of_death = sorted(list(set(cause_of_death)), key=lambda x: len(x), reverse=True)\";\n",
       "                var nbb_formatted_code = \"# Creating lists for each category and sorting by decreasing length and removing duplicates\\n\\npolitics_govt_law = [\\n    \\\"Fine Arts\\\",\\n    \\\"MLA for Haidergarh\\\",\\n    \\\"Skegness\\\",\\n    \\\"lobbyist\\\",\\n    \\\"Home Affairs\\\",\\n    \\\"nd Districts\\\",\\n    \\\"Receiver General of Massachusetts\\\",\\n    \\\"New\\\",\\n    \\\"Industrial Research\\\",\\n    \\\"International Security Affairs\\\",\\n    \\\"Wisconsin State Assembly\\\",\\n    \\\"government advisor\\\",\\n    \\\"Korea\\\",\\n    \\\"Mines\\\",\\n    \\\"Legal Affairs Commission\\\",\\n    \\\"IAWG\\\",\\n    \\\"Nicobar Island\\\",\\n    \\\"Patagonia\\\",\\n    \\\"Livestock\\\",\\n    \\\"Nevis\\\",\\n    \\\"counsel\\\",\\n    \\\"Wallington\\\",\\n    \\\"Family Affairs\\\",\\n    \\\"Camborne\\\",\\n    \\\"Constitutional Convention\\\",\\n    \\\"Industrial Research\\\",\\n    \\\"Research\\\",\\n    \\\"Aged Care\\\",\\n    \\\"Spenborough\\\",\\n    \\\"Spen\\\",\\n    \\\"Arab tolerance\\\",\\n    \\\"East Perthshire\\\",\\n    \\\"social insurance\\\",\\n    \\\"information\\\",\\n    \\\"sports\\\",\\n    \\\"Bihar MLC\\\",\\n    \\\"shipping\\\",\\n    \\\"energy\\\",\\n    \\\"mineral resources\\\",\\n    \\\"treasury solicitor\\\",\\n    \\\"emigrants\\\",\\n    \\\"Social Council\\\",\\n    \\\"human services\\\",\\n    \\\"public affairs\\\",\\n    \\\"industry\\\",\\n    \\\"family welfare\\\",\\n    \\\"monopolies\\\",\\n    \\\"co prince of\\\",\\n    \\\"treasurer of Queensland\\\",\\n    \\\"the International Center on Nonviolent Conflict\\\",\\n    \\\"whistleblower\\\",\\n    \\\"three term TD\\\",\\n    \\\"environment protection\\\",\\n    \\\"urbanism\\\",\\n    \\\"Sarawak\\\",\\n    \\\"tourism\\\",\\n    \\\"science\\\",\\n    \\\"foreign affairs of the PDNC\\\",\\n    \\\"social security\\\",\\n    \\\"plenipotentiary of\\\",\\n    \\\"signatory of the Act of the Re Establishment of the State of\\\",\\n    \\\"commerce\\\",\\n    \\\"Chippewa Indians\\\",\\n    \\\"literacy\\\",\\n    \\\"coiner of country name\\\",\\n    \\\"Haryana High Court\\\",\\n    \\\"Mass Education\\\",\\n    \\\"Drugs\\\",\\n    \\\"Acting Surgeon General of the\\\",\\n    \\\"Democracy\\\",\\n    \\\"Co Prince of\\\",\\n    \\\"Leader of the Opposition\\\",\\n    \\\"chief ideologist of Khmer Rouge\\\",\\n    \\\"Treasurer of UKIP\\\",\\n    \\\"Social Affairs\\\",\\n    \\\"Deputy Speaker of Parliament\\\",\\n    \\\"animal rights\\\",\\n    \\\"Political Rights Association\\\",\\n    \\\"Transportation\\\",\\n]\\npolitics_govt_law = sorted(\\n    list(set(politics_govt_law)), key=lambda x: len(x), reverse=True\\n)\\n\\narts = [\\n    \\\"mixer\\\",\\n    \\\"organist\\\",\\n    \\\"flautist\\\",\\n    \\\"society figure\\\",\\n    \\\"gossip celebrity\\\",\\n    \\\"trombonist\\\",\\n    \\\"personal assistant to\\\",\\n    \\\"art\\\",\\n    \\\"Colossus Records\\\",\\n    \\\"Imagineer\\\",\\n    \\\"cook\\\",\\n    \\\"gardener\\\",\\n    \\\"talk show host\\\",\\n    \\\"clarinetist\\\",\\n    \\\"book binder\\\",\\n    \\\"talkback host\\\",\\n    \\\"accordionist\\\",\\n    \\\"televangelist\\\",\\n]\\narts = sorted(list(set(arts)), key=lambda x: len(x), reverse=True)\\n\\nsports = [\\n    \\\"sport fisherman\\\",\\n    \\\"Commonwealth Games champion\\\",\\n    \\\"sportsman\\\",\\n    \\\"larger than life persona\\\",\\n    \\\"Thoroughbred racehorse\\\",\\n    \\\"Colorado Avalanche\\\",\\n    \\\"football\\\",\\n    \\\"World Hockey Association\\\",\\n    \\\"Rushden & Diamonds F C\\\",\\n    \\\"jetpack pilot\\\",\\n    \\\"Atlanta Braves\\\",\\n    \\\"racehorse\\\",\\n    \\\"Open women doubles champion\\\",\\n    \\\"the Washington Wizards\\\",\\n    \\\"lawn bowler\\\",\\n]\\nsports = sorted(list(set(sports)), key=lambda x: len(x), reverse=True)\\n\\nsciences = [\\n    \\\"asteroids\\\",\\n    \\\"the Arctic\\\",\\n    \\\"soil science\\\",\\n    \\\"HQ Trivia\\\",\\n    \\\"LBO\\\",\\n    \\\"the Draper Prize\\\",\\n    \\\"pharmacist\\\",\\n    \\\"builder\\\",\\n    \\\"electron spin resonance spectroscopy\\\",\\n    \\\"organ transplantation\\\",\\n    \\\"chemotherapy\\\",\\n    \\\"medical scientist\\\",\\n    \\\"scientist\\\",\\n    \\\"discoverer of REM sleep\\\",\\n    \\\"statistician\\\",\\n    \\\"medical scientist\\\",\\n    \\\"medical\\\",\\n    \\\"Academy of Engineering\\\",\\n    \\\"Yaogan satellites\\\",\\n    \\\"first flight simulator\\\",\\n    \\\"Computational Chemists\\\",\\n    \\\"developer of the image scanner\\\",\\n    \\\"engine\\\",\\n]\\nsciences = sorted(list(set(sciences)), key=lambda x: len(x), reverse=True)\\n\\nbusiness_farming = [\\n    \\\"HNA Group\\\",\\n    \\\"Semapa\\\",\\n    \\\"the CITIC Group\\\",\\n    \\\"marketer\\\",\\n    \\\"Yulon\\\",\\n    \\\"Roland Corporation\\\",\\n    \\\"grazier\\\",\\n    \\\"SGV & Company\\\",\\n    \\\"real estate developer\\\",\\n    \\\"chairman of Primark\\\",\\n    \\\"EasyJet\\\",\\n    \\\"Sun International\\\",\\n]\\nbusiness_farming = sorted(\\n    list(set(business_farming)), key=lambda x: len(x), reverse=True\\n)\\n\\nacademia_humanities = [\\n    \\\"design at the Museum of Modern Art\\\",\\n    \\\"Education Center\\\",\\n    \\\"CQUT\\\",\\n    \\\"orientalist\\\",\\n    \\\"celebrated the evolution of type\\\",\\n    \\\"Albert Museum\\\",\\n    \\\"president\\\",\\n    \\\"Tape Archive\\\",\\n    \\\"archdruid\\\",\\n    \\\"dean of the Padma Seshadri Bala Bhavan\\\",\\n    \\\"Design\\\",\\n    \\\"Surgeons\\\",\\n    \\\"study\\\",\\n]\\nacademia_humanities = sorted(\\n    list(set(academia_humanities)), key=lambda x: len(x), reverse=True\\n)\\n\\nlaw_enf_military_operator = [\\n    \\\"Artillery\\\",\\n    \\\"recovery following\\\",\\n    \\\"adviser to the National Security Council\\\",\\n    \\\"Springhill mining disasters\\\",\\n    \\\"CICPC investigator\\\",\\n    \\\"PIRA\\\",\\n    \\\"the No Fighter Squadrons\\\",\\n    \\\"spy\\\",\\n    \\\"paramilitary\\\",\\n    \\\"aviator\\\",\\n    \\\"Guangzhou Military Region Air Forces\\\",\\n    \\\"Marshal of the Union\\\",\\n    \\\"tank commander\\\",\\n    \\\"Security Service\\\",\\n    \\\"Air Defence Forces Army\\\",\\n    \\\"Artillery\\\",\\n    \\\"chief of Haro lockdown\\\",\\n]\\nlaw_enf_military_operator = sorted(\\n    list(set(law_enf_military_operator)), key=lambda x: len(x), reverse=True\\n)\\n\\nspiritual = [\\n    \\\"theistic evolutionist\\\",\\n    \\\"Edinburgh\\\",\\n    \\\"Wells\\\",\\n    \\\"Mashonaland\\\",\\n    \\\"pagan revivalist\\\",\\n    \\\"Jews\\\",\\n    \\\"Kilmacduagh\\\",\\n    \\\"Pihopa o Aotearoa\\\",\\n    \\\"Opus Dei\\\",\\n    \\\"preacher\\\",\\n    \\\"esotericist\\\",\\n    \\\"Forzol\\\",\\n    \\\"Fort de\\\",\\n    \\\"Brighton\\\",\\n    \\\"Herzegovina\\\",\\n    \\\"Lorraine\\\",\\n    \\\"Slutsk\\\",\\n    \\\"Prizren\\\",\\n    \\\"Chukotka\\\",\\n    \\\"St Vincent\\\",\\n    \\\"Kuruman\\\",\\n    \\\"Raphoe\\\",\\n    \\\"Minneapolis\\\",\\n    \\\"Ipswich\\\",\\n    \\\"Suzdal\\\",\\n]\\nspiritual = sorted(list(set(spiritual)), key=lambda x: len(x), reverse=True)\\n\\nsocial = []\\nsocial = sorted(list(set(social)), key=lambda x: len(x), reverse=True)\\n\\ncrime = [\\\"informant\\\", \\\"human rights violator\\\", \\\"embezzlement\\\", \\\"kidnapper\\\"]\\ncrime = sorted(list(set(crime)), key=lambda x: len(x), reverse=True)\\n\\nevent_record_other = [\\n    \\\"last living verified person born in the th century\\\",\\n    \\\"kidnap victim\\\",\\n    \\\"parental rights case\\\",\\n    \\\"imprisoned by\\\",\\n    \\\"murder\\\",\\n    \\\"the Siege of Sarajevo\\\",\\n]\\nevent_record_other = sorted(\\n    list(set(event_record_other)), key=lambda x: len(x), reverse=True\\n)\\n\\nother_species = [\\\"Ascot Gold Cup\\\", \\\"Derby winner\\\", \\\"hatched in captivity\\\"]\\nother_species = sorted(list(set(other_species)), key=lambda x: len(x), reverse=True)\\n\\ncause_of_death = [\\n    \\\"ALS\\\",\\n    \\\"esophageal dysphagia\\\",\\n    \\\"swine flu\\\",\\n    \\\"brain trauma\\\",\\n    \\\"respiratory stress syndrome\\\",\\n    \\\"chronic traumatic encephalopathy\\\",\\n    \\\"strangled\\\",\\n    \\\"brutality\\\",\\n    \\\"traffic collision\\\",\\n]\\ncause_of_death = sorted(list(set(cause_of_death)), key=lambda x: len(x), reverse=True)\";\n",
       "                var nbb_cells = Jupyter.notebook.get_cells();\n",
       "                for (var i = 0; i < nbb_cells.length; ++i) {\n",
       "                    if (nbb_cells[i].input_prompt_number == nbb_cell_id) {\n",
       "                        if (nbb_cells[i].get_text() == nbb_unformatted_code) {\n",
       "                             nbb_cells[i].set_text(nbb_formatted_code);\n",
       "                        }\n",
       "                        break;\n",
       "                    }\n",
       "                }\n",
       "            }, 500);\n",
       "            "
      ],
      "text/plain": [
       "<IPython.core.display.Javascript object>"
      ]
     },
     "metadata": {},
     "output_type": "display_data"
    }
   ],
   "source": [
    "# Creating lists for each category and sorting by decreasing length and removing duplicates\n",
    "\n",
    "politics_govt_law = [\n",
    "    \"Fine Arts\",\n",
    "    \"MLA for Haidergarh\",\n",
    "    \"Skegness\",\n",
    "    \"lobbyist\",\n",
    "    \"Home Affairs\",\n",
    "    \"nd Districts\",\n",
    "    \"Receiver General of Massachusetts\",\n",
    "    \"New\",\n",
    "    \"Industrial Research\",\n",
    "    \"International Security Affairs\",\n",
    "    \"Wisconsin State Assembly\",\n",
    "    \"government advisor\",\n",
    "    \"Korea\",\n",
    "    \"Mines\",\n",
    "    \"Legal Affairs Commission\",\n",
    "    \"IAWG\",\n",
    "    \"Nicobar Island\",\n",
    "    \"Patagonia\",\n",
    "    \"Livestock\",\n",
    "    \"Nevis\",\n",
    "    \"counsel\",\n",
    "    \"Wallington\",\n",
    "    \"Family Affairs\",\n",
    "    \"Camborne\",\n",
    "    \"Constitutional Convention\",\n",
    "    \"Industrial Research\",\n",
    "    \"Research\",\n",
    "    \"Aged Care\",\n",
    "    \"Spenborough\",\n",
    "    \"Spen\",\n",
    "    \"Arab tolerance\",\n",
    "    \"East Perthshire\",\n",
    "    \"social insurance\",\n",
    "    \"information\",\n",
    "    \"sports\",\n",
    "    \"Bihar MLC\",\n",
    "    \"shipping\",\n",
    "    \"energy\",\n",
    "    \"mineral resources\",\n",
    "    \"treasury solicitor\",\n",
    "    \"emigrants\",\n",
    "    \"Social Council\",\n",
    "    \"human services\",\n",
    "    \"public affairs\",\n",
    "    \"industry\",\n",
    "    \"family welfare\",\n",
    "    \"monopolies\",\n",
    "    \"co prince of\",\n",
    "    \"treasurer of Queensland\",\n",
    "    \"the International Center on Nonviolent Conflict\",\n",
    "    \"whistleblower\",\n",
    "    \"three term TD\",\n",
    "    \"environment protection\",\n",
    "    \"urbanism\",\n",
    "    \"Sarawak\",\n",
    "    \"tourism\",\n",
    "    \"science\",\n",
    "    \"foreign affairs of the PDNC\",\n",
    "    \"social security\",\n",
    "    \"plenipotentiary of\",\n",
    "    \"signatory of the Act of the Re Establishment of the State of\",\n",
    "    \"commerce\",\n",
    "    \"Chippewa Indians\",\n",
    "    \"literacy\",\n",
    "    \"coiner of country name\",\n",
    "    \"Haryana High Court\",\n",
    "    \"Mass Education\",\n",
    "    \"Drugs\",\n",
    "    \"Acting Surgeon General of the\",\n",
    "    \"Democracy\",\n",
    "    \"Co Prince of\",\n",
    "    \"Leader of the Opposition\",\n",
    "    \"chief ideologist of Khmer Rouge\",\n",
    "    \"Treasurer of UKIP\",\n",
    "    \"Social Affairs\",\n",
    "    \"Deputy Speaker of Parliament\",\n",
    "    \"animal rights\",\n",
    "    \"Political Rights Association\",\n",
    "    \"Transportation\",\n",
    "]\n",
    "politics_govt_law = sorted(\n",
    "    list(set(politics_govt_law)), key=lambda x: len(x), reverse=True\n",
    ")\n",
    "\n",
    "arts = [\n",
    "    \"mixer\",\n",
    "    \"organist\",\n",
    "    \"flautist\",\n",
    "    \"society figure\",\n",
    "    \"gossip celebrity\",\n",
    "    \"trombonist\",\n",
    "    \"personal assistant to\",\n",
    "    \"art\",\n",
    "    \"Colossus Records\",\n",
    "    \"Imagineer\",\n",
    "    \"cook\",\n",
    "    \"gardener\",\n",
    "    \"talk show host\",\n",
    "    \"clarinetist\",\n",
    "    \"book binder\",\n",
    "    \"talkback host\",\n",
    "    \"accordionist\",\n",
    "    \"televangelist\",\n",
    "]\n",
    "arts = sorted(list(set(arts)), key=lambda x: len(x), reverse=True)\n",
    "\n",
    "sports = [\n",
    "    \"sport fisherman\",\n",
    "    \"Commonwealth Games champion\",\n",
    "    \"sportsman\",\n",
    "    \"larger than life persona\",\n",
    "    \"Thoroughbred racehorse\",\n",
    "    \"Colorado Avalanche\",\n",
    "    \"football\",\n",
    "    \"World Hockey Association\",\n",
    "    \"Rushden & Diamonds F C\",\n",
    "    \"jetpack pilot\",\n",
    "    \"Atlanta Braves\",\n",
    "    \"racehorse\",\n",
    "    \"Open women doubles champion\",\n",
    "    \"the Washington Wizards\",\n",
    "    \"lawn bowler\",\n",
    "]\n",
    "sports = sorted(list(set(sports)), key=lambda x: len(x), reverse=True)\n",
    "\n",
    "sciences = [\n",
    "    \"asteroids\",\n",
    "    \"the Arctic\",\n",
    "    \"soil science\",\n",
    "    \"HQ Trivia\",\n",
    "    \"LBO\",\n",
    "    \"the Draper Prize\",\n",
    "    \"pharmacist\",\n",
    "    \"builder\",\n",
    "    \"electron spin resonance spectroscopy\",\n",
    "    \"organ transplantation\",\n",
    "    \"chemotherapy\",\n",
    "    \"medical scientist\",\n",
    "    \"scientist\",\n",
    "    \"discoverer of REM sleep\",\n",
    "    \"statistician\",\n",
    "    \"medical scientist\",\n",
    "    \"medical\",\n",
    "    \"Academy of Engineering\",\n",
    "    \"Yaogan satellites\",\n",
    "    \"first flight simulator\",\n",
    "    \"Computational Chemists\",\n",
    "    \"developer of the image scanner\",\n",
    "    \"engine\",\n",
    "]\n",
    "sciences = sorted(list(set(sciences)), key=lambda x: len(x), reverse=True)\n",
    "\n",
    "business_farming = [\n",
    "    \"HNA Group\",\n",
    "    \"Semapa\",\n",
    "    \"the CITIC Group\",\n",
    "    \"marketer\",\n",
    "    \"Yulon\",\n",
    "    \"Roland Corporation\",\n",
    "    \"grazier\",\n",
    "    \"SGV & Company\",\n",
    "    \"real estate developer\",\n",
    "    \"chairman of Primark\",\n",
    "    \"EasyJet\",\n",
    "    \"Sun International\",\n",
    "]\n",
    "business_farming = sorted(\n",
    "    list(set(business_farming)), key=lambda x: len(x), reverse=True\n",
    ")\n",
    "\n",
    "academia_humanities = [\n",
    "    \"design at the Museum of Modern Art\",\n",
    "    \"Education Center\",\n",
    "    \"CQUT\",\n",
    "    \"orientalist\",\n",
    "    \"celebrated the evolution of type\",\n",
    "    \"Albert Museum\",\n",
    "    \"president\",\n",
    "    \"Tape Archive\",\n",
    "    \"archdruid\",\n",
    "    \"dean of the Padma Seshadri Bala Bhavan\",\n",
    "    \"Design\",\n",
    "    \"Surgeons\",\n",
    "    \"study\",\n",
    "]\n",
    "academia_humanities = sorted(\n",
    "    list(set(academia_humanities)), key=lambda x: len(x), reverse=True\n",
    ")\n",
    "\n",
    "law_enf_military_operator = [\n",
    "    \"Artillery\",\n",
    "    \"recovery following\",\n",
    "    \"adviser to the National Security Council\",\n",
    "    \"Springhill mining disasters\",\n",
    "    \"CICPC investigator\",\n",
    "    \"PIRA\",\n",
    "    \"the No Fighter Squadrons\",\n",
    "    \"spy\",\n",
    "    \"paramilitary\",\n",
    "    \"aviator\",\n",
    "    \"Guangzhou Military Region Air Forces\",\n",
    "    \"Marshal of the Union\",\n",
    "    \"tank commander\",\n",
    "    \"Security Service\",\n",
    "    \"Air Defence Forces Army\",\n",
    "    \"Artillery\",\n",
    "    \"chief of Haro lockdown\",\n",
    "]\n",
    "law_enf_military_operator = sorted(\n",
    "    list(set(law_enf_military_operator)), key=lambda x: len(x), reverse=True\n",
    ")\n",
    "\n",
    "spiritual = [\n",
    "    \"theistic evolutionist\",\n",
    "    \"Edinburgh\",\n",
    "    \"Wells\",\n",
    "    \"Mashonaland\",\n",
    "    \"pagan revivalist\",\n",
    "    \"Jews\",\n",
    "    \"Kilmacduagh\",\n",
    "    \"Pihopa o Aotearoa\",\n",
    "    \"Opus Dei\",\n",
    "    \"preacher\",\n",
    "    \"esotericist\",\n",
    "    \"Forzol\",\n",
    "    \"Fort de\",\n",
    "    \"Brighton\",\n",
    "    \"Herzegovina\",\n",
    "    \"Lorraine\",\n",
    "    \"Slutsk\",\n",
    "    \"Prizren\",\n",
    "    \"Chukotka\",\n",
    "    \"St Vincent\",\n",
    "    \"Kuruman\",\n",
    "    \"Raphoe\",\n",
    "    \"Minneapolis\",\n",
    "    \"Ipswich\",\n",
    "    \"Suzdal\",\n",
    "]\n",
    "spiritual = sorted(list(set(spiritual)), key=lambda x: len(x), reverse=True)\n",
    "\n",
    "social = []\n",
    "social = sorted(list(set(social)), key=lambda x: len(x), reverse=True)\n",
    "\n",
    "crime = [\"informant\", \"human rights violator\", \"embezzlement\", \"kidnapper\"]\n",
    "crime = sorted(list(set(crime)), key=lambda x: len(x), reverse=True)\n",
    "\n",
    "event_record_other = [\n",
    "    \"last living verified person born in the th century\",\n",
    "    \"kidnap victim\",\n",
    "    \"parental rights case\",\n",
    "    \"imprisoned by\",\n",
    "    \"murder\",\n",
    "    \"the Siege of Sarajevo\",\n",
    "]\n",
    "event_record_other = sorted(\n",
    "    list(set(event_record_other)), key=lambda x: len(x), reverse=True\n",
    ")\n",
    "\n",
    "other_species = [\"Ascot Gold Cup\", \"Derby winner\", \"hatched in captivity\"]\n",
    "other_species = sorted(list(set(other_species)), key=lambda x: len(x), reverse=True)\n",
    "\n",
    "cause_of_death = [\n",
    "    \"ALS\",\n",
    "    \"esophageal dysphagia\",\n",
    "    \"swine flu\",\n",
    "    \"brain trauma\",\n",
    "    \"respiratory stress syndrome\",\n",
    "    \"chronic traumatic encephalopathy\",\n",
    "    \"strangled\",\n",
    "    \"brutality\",\n",
    "    \"traffic collision\",\n",
    "]\n",
    "cause_of_death = sorted(list(set(cause_of_death)), key=lambda x: len(x), reverse=True)"
   ]
  },
  {
   "cell_type": "code",
   "execution_count": 2611,
   "id": "dd4cd860",
   "metadata": {},
   "outputs": [
    {
     "data": {
      "application/javascript": [
       "\n",
       "            setTimeout(function() {\n",
       "                var nbb_cell_id = 2611;\n",
       "                var nbb_unformatted_code = \"# Hard-coding cause_of_death for entry\\ndf.loc[\\n    df[df[\\\"link\\\"] == \\\"https://en.wikipedia.org/wiki/Regis_Korchinski-Paquet\\\"].index,\\n    \\\"cause_of_death\\\",\\n] = \\\"possible police interference\\\"\";\n",
       "                var nbb_formatted_code = \"# Hard-coding cause_of_death for entry\\ndf.loc[\\n    df[df[\\\"link\\\"] == \\\"https://en.wikipedia.org/wiki/Regis_Korchinski-Paquet\\\"].index,\\n    \\\"cause_of_death\\\",\\n] = \\\"possible police interference\\\"\";\n",
       "                var nbb_cells = Jupyter.notebook.get_cells();\n",
       "                for (var i = 0; i < nbb_cells.length; ++i) {\n",
       "                    if (nbb_cells[i].input_prompt_number == nbb_cell_id) {\n",
       "                        if (nbb_cells[i].get_text() == nbb_unformatted_code) {\n",
       "                             nbb_cells[i].set_text(nbb_formatted_code);\n",
       "                        }\n",
       "                        break;\n",
       "                    }\n",
       "                }\n",
       "            }, 500);\n",
       "            "
      ],
      "text/plain": [
       "<IPython.core.display.Javascript object>"
      ]
     },
     "metadata": {},
     "output_type": "display_data"
    }
   ],
   "source": [
    "# Hard-coding cause_of_death for entry\n",
    "df.loc[\n",
    "    df[df[\"link\"] == \"https://en.wikipedia.org/wiki/Regis_Korchinski-Paquet\"].index,\n",
    "    \"cause_of_death\",\n",
    "] = \"possible police interference\""
   ]
  },
  {
   "cell_type": "markdown",
   "id": "607771be",
   "metadata": {},
   "source": [
    "#### Creating `known_for_dict` Dictionary of Category Keys and Specific Role Lists of Values"
   ]
  },
  {
   "cell_type": "code",
   "execution_count": 2612,
   "id": "8d833c72",
   "metadata": {},
   "outputs": [
    {
     "data": {
      "application/javascript": [
       "\n",
       "            setTimeout(function() {\n",
       "                var nbb_cell_id = 2612;\n",
       "                var nbb_unformatted_code = \"# Combining separate lists into one dictionary\\nknown_for_dict = {\\n    \\\"social\\\": social,\\n    \\\"spiritual\\\": spiritual,\\n    \\\"academia_humanities\\\": academia_humanities,\\n    \\\"business_farming\\\": business_farming,\\n    \\\"sciences\\\": sciences,\\n    \\\"politics_govt_law\\\": politics_govt_law,\\n    \\\"law_enf_military_operator\\\": law_enf_military_operator,\\n    \\\"crime\\\": crime,\\n    \\\"event_record_other\\\": event_record_other,\\n    \\\"other_species\\\": other_species,\\n    \\\"arts\\\": arts,\\n    \\\"sports\\\": sports,\\n\\n}\";\n",
       "                var nbb_formatted_code = \"# Combining separate lists into one dictionary\\nknown_for_dict = {\\n    \\\"social\\\": social,\\n    \\\"spiritual\\\": spiritual,\\n    \\\"academia_humanities\\\": academia_humanities,\\n    \\\"business_farming\\\": business_farming,\\n    \\\"sciences\\\": sciences,\\n    \\\"politics_govt_law\\\": politics_govt_law,\\n    \\\"law_enf_military_operator\\\": law_enf_military_operator,\\n    \\\"crime\\\": crime,\\n    \\\"event_record_other\\\": event_record_other,\\n    \\\"other_species\\\": other_species,\\n    \\\"arts\\\": arts,\\n    \\\"sports\\\": sports,\\n}\";\n",
       "                var nbb_cells = Jupyter.notebook.get_cells();\n",
       "                for (var i = 0; i < nbb_cells.length; ++i) {\n",
       "                    if (nbb_cells[i].input_prompt_number == nbb_cell_id) {\n",
       "                        if (nbb_cells[i].get_text() == nbb_unformatted_code) {\n",
       "                             nbb_cells[i].set_text(nbb_formatted_code);\n",
       "                        }\n",
       "                        break;\n",
       "                    }\n",
       "                }\n",
       "            }, 500);\n",
       "            "
      ],
      "text/plain": [
       "<IPython.core.display.Javascript object>"
      ]
     },
     "metadata": {},
     "output_type": "display_data"
    }
   ],
   "source": [
    "# Combining separate lists into one dictionary\n",
    "known_for_dict = {\n",
    "    \"social\": social,\n",
    "    \"spiritual\": spiritual,\n",
    "    \"academia_humanities\": academia_humanities,\n",
    "    \"business_farming\": business_farming,\n",
    "    \"sciences\": sciences,\n",
    "    \"politics_govt_law\": politics_govt_law,\n",
    "    \"law_enf_military_operator\": law_enf_military_operator,\n",
    "    \"crime\": crime,\n",
    "    \"event_record_other\": event_record_other,\n",
    "    \"other_species\": other_species,\n",
    "    \"arts\": arts,\n",
    "    \"sports\": sports,\n",
    "}"
   ]
  },
  {
   "cell_type": "markdown",
   "id": "cbe8a5e8",
   "metadata": {},
   "source": [
    "#### Extracting `known_for` Categories and `cause_of_death` Values from `info_3_1`"
   ]
  },
  {
   "cell_type": "code",
   "execution_count": 2613,
   "id": "4de3784a",
   "metadata": {},
   "outputs": [
    {
     "name": "stdout",
     "output_type": "stream",
     "text": [
      "There are 25137 values in cause_of_death column.\n",
      "\n",
      "CPU times: total: 21.9 s\n",
      "Wall time: 22.9 s\n"
     ]
    },
    {
     "data": {
      "application/javascript": [
       "\n",
       "            setTimeout(function() {\n",
       "                var nbb_cell_id = 2613;\n",
       "                var nbb_unformatted_code = \"%%time\\n\\n# Column to check\\ncolumn = 'info_3_1'\\n\\n# Start dataframe\\ndataframe = df[df[column].notna()]\\n\\n# For loop to find cause in column and extract it to cause_of_death\\nfor cause in cause_of_death:\\n    for index in dataframe.index:\\n        item = df.loc[index, column]\\n        if item:\\n            if cause in item:\\n                if df.loc[index, 'cause_of_death']:\\n                    df.loc[index, 'cause_of_death'] = df.loc[index, 'cause_of_death'] + '/' + cause\\n                    df.loc[index, column] = item.replace(cause, '').strip()\\n                else:\\n                    df.loc[index, 'cause_of_death'] = cause\\n                    df.loc[index, column] = item.replace(cause, '').strip()\\n                \\n                \\n# For loop to find role in column and extract it as category\\nfor category, category_lst in known_for_dict.items():\\n    for role in category_lst:\\n        for index in dataframe.index:\\n                item = df.loc[index, column]\\n                if item:\\n                    if role in item:\\n                        df.loc[index, category] = 1\\n                        df.loc[index, column] = item.replace(role, '').strip()\\n\\n# Calculating num_categories\\ndf[\\\"num_categories\\\"] = df[known_for_dict.keys()].sum(axis=1)\\n\\n# Checking number of cause_of_death values\\nprint(f'There are {df[\\\"cause_of_death\\\"].notna().sum()} values in cause_of_death column.\\\\n')\";\n",
       "                var nbb_formatted_code = \"%%time\\n\\n# Column to check\\ncolumn = 'info_3_1'\\n\\n# Start dataframe\\ndataframe = df[df[column].notna()]\\n\\n# For loop to find cause in column and extract it to cause_of_death\\nfor cause in cause_of_death:\\n    for index in dataframe.index:\\n        item = df.loc[index, column]\\n        if item:\\n            if cause in item:\\n                if df.loc[index, 'cause_of_death']:\\n                    df.loc[index, 'cause_of_death'] = df.loc[index, 'cause_of_death'] + '/' + cause\\n                    df.loc[index, column] = item.replace(cause, '').strip()\\n                else:\\n                    df.loc[index, 'cause_of_death'] = cause\\n                    df.loc[index, column] = item.replace(cause, '').strip()\\n                \\n                \\n# For loop to find role in column and extract it as category\\nfor category, category_lst in known_for_dict.items():\\n    for role in category_lst:\\n        for index in dataframe.index:\\n                item = df.loc[index, column]\\n                if item:\\n                    if role in item:\\n                        df.loc[index, category] = 1\\n                        df.loc[index, column] = item.replace(role, '').strip()\\n\\n# Calculating num_categories\\ndf[\\\"num_categories\\\"] = df[known_for_dict.keys()].sum(axis=1)\\n\\n# Checking number of cause_of_death values\\nprint(f'There are {df[\\\"cause_of_death\\\"].notna().sum()} values in cause_of_death column.\\\\n')\";\n",
       "                var nbb_cells = Jupyter.notebook.get_cells();\n",
       "                for (var i = 0; i < nbb_cells.length; ++i) {\n",
       "                    if (nbb_cells[i].input_prompt_number == nbb_cell_id) {\n",
       "                        if (nbb_cells[i].get_text() == nbb_unformatted_code) {\n",
       "                             nbb_cells[i].set_text(nbb_formatted_code);\n",
       "                        }\n",
       "                        break;\n",
       "                    }\n",
       "                }\n",
       "            }, 500);\n",
       "            "
      ],
      "text/plain": [
       "<IPython.core.display.Javascript object>"
      ]
     },
     "metadata": {},
     "output_type": "display_data"
    }
   ],
   "source": [
    "%%time\n",
    "\n",
    "# Column to check\n",
    "column = 'info_3_1'\n",
    "\n",
    "# Start dataframe\n",
    "dataframe = df[df[column].notna()]\n",
    "\n",
    "# For loop to find cause in column and extract it to cause_of_death\n",
    "for cause in cause_of_death:\n",
    "    for index in dataframe.index:\n",
    "        item = df.loc[index, column]\n",
    "        if item:\n",
    "            if cause in item:\n",
    "                if df.loc[index, 'cause_of_death']:\n",
    "                    df.loc[index, 'cause_of_death'] = df.loc[index, 'cause_of_death'] + '/' + cause\n",
    "                    df.loc[index, column] = item.replace(cause, '').strip()\n",
    "                else:\n",
    "                    df.loc[index, 'cause_of_death'] = cause\n",
    "                    df.loc[index, column] = item.replace(cause, '').strip()\n",
    "                \n",
    "                \n",
    "# For loop to find role in column and extract it as category\n",
    "for category, category_lst in known_for_dict.items():\n",
    "    for role in category_lst:\n",
    "        for index in dataframe.index:\n",
    "                item = df.loc[index, column]\n",
    "                if item:\n",
    "                    if role in item:\n",
    "                        df.loc[index, category] = 1\n",
    "                        df.loc[index, column] = item.replace(role, '').strip()\n",
    "\n",
    "# Calculating num_categories\n",
    "df[\"num_categories\"] = df[known_for_dict.keys()].sum(axis=1)\n",
    "\n",
    "# Checking number of cause_of_death values\n",
    "print(f'There are {df[\"cause_of_death\"].notna().sum()} values in cause_of_death column.\\n')"
   ]
  },
  {
   "cell_type": "markdown",
   "id": "e2135412",
   "metadata": {},
   "source": [
    "#### Checking Updated `num_categories` Value Counts"
   ]
  },
  {
   "cell_type": "code",
   "execution_count": 2614,
   "id": "99447800",
   "metadata": {},
   "outputs": [
    {
     "data": {
      "text/plain": [
       "1    84567\n",
       "2    12636\n",
       "3      820\n",
       "4        9\n",
       "0        8\n",
       "Name: num_categories, dtype: int64"
      ]
     },
     "execution_count": 2614,
     "metadata": {},
     "output_type": "execute_result"
    },
    {
     "data": {
      "application/javascript": [
       "\n",
       "            setTimeout(function() {\n",
       "                var nbb_cell_id = 2614;\n",
       "                var nbb_unformatted_code = \"# Checking Updated num_categories Value Counts\\ndf[\\\"num_categories\\\"].value_counts()\";\n",
       "                var nbb_formatted_code = \"# Checking Updated num_categories Value Counts\\ndf[\\\"num_categories\\\"].value_counts()\";\n",
       "                var nbb_cells = Jupyter.notebook.get_cells();\n",
       "                for (var i = 0; i < nbb_cells.length; ++i) {\n",
       "                    if (nbb_cells[i].input_prompt_number == nbb_cell_id) {\n",
       "                        if (nbb_cells[i].get_text() == nbb_unformatted_code) {\n",
       "                             nbb_cells[i].set_text(nbb_formatted_code);\n",
       "                        }\n",
       "                        break;\n",
       "                    }\n",
       "                }\n",
       "            }, 500);\n",
       "            "
      ],
      "text/plain": [
       "<IPython.core.display.Javascript object>"
      ]
     },
     "metadata": {},
     "output_type": "display_data"
    }
   ],
   "source": [
    "# Checking Updated num_categories Value Counts\n",
    "df[\"num_categories\"].value_counts()"
   ]
  },
  {
   "cell_type": "markdown",
   "id": "7fe74f38",
   "metadata": {},
   "source": [
    "#### Observations:\n",
    "- We will proceed to rebuild `known_for_dict` and `cause_of_death` for the next iteration."
   ]
  },
  {
   "cell_type": "markdown",
   "id": "524daa60",
   "metadata": {},
   "source": [
    "#### Finding `known_for` Roles and `cause_of_death` in `info_3_1`"
   ]
  },
  {
   "cell_type": "code",
   "execution_count": 811,
   "id": "1a14d44b",
   "metadata": {},
   "outputs": [
    {
     "data": {
      "application/javascript": [
       "\n",
       "            setTimeout(function() {\n",
       "                var nbb_cell_id = 811;\n",
       "                var nbb_unformatted_code = \"# # Obtaining values for column and their counts\\n# roles_cause_list = df[\\\"info_3_1\\\"].value_counts(ascending=True).index.tolist()\";\n",
       "                var nbb_formatted_code = \"# # Obtaining values for column and their counts\\n# roles_cause_list = df[\\\"info_3_1\\\"].value_counts(ascending=True).index.tolist()\";\n",
       "                var nbb_cells = Jupyter.notebook.get_cells();\n",
       "                for (var i = 0; i < nbb_cells.length; ++i) {\n",
       "                    if (nbb_cells[i].input_prompt_number == nbb_cell_id) {\n",
       "                        if (nbb_cells[i].get_text() == nbb_unformatted_code) {\n",
       "                             nbb_cells[i].set_text(nbb_formatted_code);\n",
       "                        }\n",
       "                        break;\n",
       "                    }\n",
       "                }\n",
       "            }, 500);\n",
       "            "
      ],
      "text/plain": [
       "<IPython.core.display.Javascript object>"
      ]
     },
     "metadata": {},
     "output_type": "display_data"
    }
   ],
   "source": [
    "# Obtaining values for column and their counts\n",
    "roles_cause_list = df[\"info_3_1\"].value_counts(ascending=True).index.tolist()"
   ]
  },
  {
   "cell_type": "code",
   "execution_count": 810,
   "id": "a64f6cb6",
   "metadata": {},
   "outputs": [
    {
     "data": {
      "application/javascript": [
       "\n",
       "            setTimeout(function() {\n",
       "                var nbb_cell_id = 810;\n",
       "                var nbb_unformatted_code = \"# # Code to check each value\\n# value = roles_cause_list.pop()\\n# value\";\n",
       "                var nbb_formatted_code = \"# # Code to check each value\\n# value = roles_cause_list.pop()\\n# value\";\n",
       "                var nbb_cells = Jupyter.notebook.get_cells();\n",
       "                for (var i = 0; i < nbb_cells.length; ++i) {\n",
       "                    if (nbb_cells[i].input_prompt_number == nbb_cell_id) {\n",
       "                        if (nbb_cells[i].get_text() == nbb_unformatted_code) {\n",
       "                             nbb_cells[i].set_text(nbb_formatted_code);\n",
       "                        }\n",
       "                        break;\n",
       "                    }\n",
       "                }\n",
       "            }, 500);\n",
       "            "
      ],
      "text/plain": [
       "<IPython.core.display.Javascript object>"
      ]
     },
     "metadata": {},
     "output_type": "display_data"
    }
   ],
   "source": [
    "# Code to check each value\n",
    "value = roles_cause_list.pop()\n",
    "value"
   ]
  },
  {
   "cell_type": "code",
   "execution_count": 809,
   "id": "130fedc7",
   "metadata": {},
   "outputs": [
    {
     "data": {
      "application/javascript": [
       "\n",
       "            setTimeout(function() {\n",
       "                var nbb_cell_id = 809;\n",
       "                var nbb_unformatted_code = \"# # Create specific_roles_cause_list for above popped value\\n# specific_roles_cause_list = (\\n#     df.loc[\\n#         [\\n#             index\\n#             for index in df[df[\\\"info_3_1\\\"].notna()].index\\n#             if value in df.loc[index, \\\"info_3_1\\\"]\\n#         ],\\n#         \\\"info_3_1\\\",\\n#     ]\\n#     .value_counts()\\n#     .index.tolist()\\n# )\";\n",
       "                var nbb_formatted_code = \"# # Create specific_roles_cause_list for above popped value\\n# specific_roles_cause_list = (\\n#     df.loc[\\n#         [\\n#             index\\n#             for index in df[df[\\\"info_3_1\\\"].notna()].index\\n#             if value in df.loc[index, \\\"info_3_1\\\"]\\n#         ],\\n#         \\\"info_3_1\\\",\\n#     ]\\n#     .value_counts()\\n#     .index.tolist()\\n# )\";\n",
       "                var nbb_cells = Jupyter.notebook.get_cells();\n",
       "                for (var i = 0; i < nbb_cells.length; ++i) {\n",
       "                    if (nbb_cells[i].input_prompt_number == nbb_cell_id) {\n",
       "                        if (nbb_cells[i].get_text() == nbb_unformatted_code) {\n",
       "                             nbb_cells[i].set_text(nbb_formatted_code);\n",
       "                        }\n",
       "                        break;\n",
       "                    }\n",
       "                }\n",
       "            }, 500);\n",
       "            "
      ],
      "text/plain": [
       "<IPython.core.display.Javascript object>"
      ]
     },
     "metadata": {},
     "output_type": "display_data"
    }
   ],
   "source": [
    "# Create specific_roles_cause_list for above popped value\n",
    "specific_roles_cause_list = (\n",
    "    df.loc[\n",
    "        [\n",
    "            index\n",
    "            for index in df[df[\"info_3_1\"].notna()].index\n",
    "            if value in df.loc[index, \"info_3_1\"]\n",
    "        ],\n",
    "        \"info_3_1\",\n",
    "    ]\n",
    "    .value_counts()\n",
    "    .index.tolist()\n",
    ")"
   ]
  },
  {
   "cell_type": "code",
   "execution_count": 806,
   "id": "ef9ea5c5",
   "metadata": {},
   "outputs": [
    {
     "data": {
      "application/javascript": [
       "\n",
       "            setTimeout(function() {\n",
       "                var nbb_cell_id = 806;\n",
       "                var nbb_unformatted_code = \"# # Viewing list sorted by descending length to copy to dictionary below and screen values\\n# sorted(specific_roles_cause_list, key=lambda x: len(x), reverse=True)\";\n",
       "                var nbb_formatted_code = \"# # Viewing list sorted by descending length to copy to dictionary below and screen values\\n# sorted(specific_roles_cause_list, key=lambda x: len(x), reverse=True)\";\n",
       "                var nbb_cells = Jupyter.notebook.get_cells();\n",
       "                for (var i = 0; i < nbb_cells.length; ++i) {\n",
       "                    if (nbb_cells[i].input_prompt_number == nbb_cell_id) {\n",
       "                        if (nbb_cells[i].get_text() == nbb_unformatted_code) {\n",
       "                             nbb_cells[i].set_text(nbb_formatted_code);\n",
       "                        }\n",
       "                        break;\n",
       "                    }\n",
       "                }\n",
       "            }, 500);\n",
       "            "
      ],
      "text/plain": [
       "<IPython.core.display.Javascript object>"
      ]
     },
     "metadata": {},
     "output_type": "display_data"
    }
   ],
   "source": [
    "# Viewing list sorted by descending length to copy to dictionary below and screen values\n",
    "sorted(specific_roles_cause_list, key=lambda x: len(x), reverse=True)"
   ]
  },
  {
   "cell_type": "code",
   "execution_count": 805,
   "id": "b9dc034f",
   "metadata": {},
   "outputs": [
    {
     "data": {
      "application/javascript": [
       "\n",
       "            setTimeout(function() {\n",
       "                var nbb_cell_id = 805;\n",
       "                var nbb_unformatted_code = \"# # Example code to quick-check a specific entry\\n# df[df[\\\"info_3_1\\\"] == value]\";\n",
       "                var nbb_formatted_code = \"# # Example code to quick-check a specific entry\\n# df[df[\\\"info_3_1\\\"] == value]\";\n",
       "                var nbb_cells = Jupyter.notebook.get_cells();\n",
       "                for (var i = 0; i < nbb_cells.length; ++i) {\n",
       "                    if (nbb_cells[i].input_prompt_number == nbb_cell_id) {\n",
       "                        if (nbb_cells[i].get_text() == nbb_unformatted_code) {\n",
       "                             nbb_cells[i].set_text(nbb_formatted_code);\n",
       "                        }\n",
       "                        break;\n",
       "                    }\n",
       "                }\n",
       "            }, 500);\n",
       "            "
      ],
      "text/plain": [
       "<IPython.core.display.Javascript object>"
      ]
     },
     "metadata": {},
     "output_type": "display_data"
    }
   ],
   "source": [
    "# Example code to quick-check a specific entry\n",
    "df[df[\"info_3_1\"] == value]"
   ]
  },
  {
   "cell_type": "markdown",
   "id": "dd22f4c1",
   "metadata": {},
   "source": [
    "#### Creating Lists for Each `known_for` Category and for `cause_of_death`"
   ]
  },
  {
   "cell_type": "code",
   "execution_count": null,
   "id": "46a713d6",
   "metadata": {},
   "outputs": [],
   "source": [
    "# Creating lists for each category and sorting by decreasing length and removing duplicates\n",
    "\n",
    "politics_govt_law = []\n",
    "politics_govt_law = sorted(list(set(politics_govt_law)), key=lambda x: len(x), reverse=True)  \n",
    "\n",
    "arts = []\n",
    "arts = sorted(list(set(arts)), key=lambda x: len(x), reverse=True)  \n",
    "\n",
    "sports = []\n",
    "sports = sorted(list(set(sports)), key=lambda x: len(x), reverse=True) \n",
    "\n",
    "sciences = []\n",
    "sciences = sorted(list(set(sciences)), key=lambda x: len(x), reverse=True) \n",
    "\n",
    "business_farming = []\n",
    "business_farming = sorted(list(set(business_farming)), key=lambda x: len(x), reverse=True)  \n",
    "\n",
    "academia_humanities = []\n",
    "academia_humanities = sorted(list(set(academia_humanities)), key=lambda x: len(x), reverse=True)  \n",
    "\n",
    "law_enf_military_operator = []\n",
    "law_enf_military_operator = sorted(list(set(law_enf_military_operator)), key=lambda x: len(x), reverse=True)  \n",
    "\n",
    "spiritual = []\n",
    "spiritual = sorted(list(set(spiritual)), key=lambda x: len(x), reverse=True)  \n",
    "\n",
    "social = []\n",
    "social = sorted(list(set(social)), key=lambda x: len(x), reverse=True)  \n",
    "\n",
    "crime = []\n",
    "crime = sorted(list(set(crime)), key=lambda x: len(x), reverse=True)  \n",
    "\n",
    "event_record_other = []\n",
    "event_record_other = sorted(list(set(event_record_other)), key=lambda x: len(x), reverse=True)  \n",
    "\n",
    "other_species = []\n",
    "other_species = sorted(list(set(other_species)), key=lambda x: len(x), reverse=True) \n",
    "\n",
    "cause_of_death = []\n",
    "cause_of_death = sorted(list(set(cause_of_death)), key=lambda x: len(x), reverse=True)"
   ]
  },
  {
   "cell_type": "markdown",
   "id": "5f5edcbe",
   "metadata": {},
   "source": [
    "#### Creating `known_for_dict` Dictionary of Category Keys and Specific Role Lists of Values"
   ]
  },
  {
   "cell_type": "code",
   "execution_count": null,
   "id": "48809a63",
   "metadata": {},
   "outputs": [],
   "source": [
    "# Combining separate lists into one dictionary\n",
    "known_for_dict = {\n",
    "    \"social\": social,\n",
    "    \"spiritual\": spiritual,\n",
    "    \"academia_humanities\": academia_humanities,\n",
    "    \"business_farming\": business_farming,\n",
    "    \"sciences\": sciences,\n",
    "    \"politics_govt_law\": politics_govt_law,\n",
    "    \"law_enf_military_operator\": law_enf_military_operator,\n",
    "    \"crime\": crime,\n",
    "    \"event_record_other\": event_record_other,\n",
    "    \"other_species\": other_species,\n",
    "    \"arts\": arts,\n",
    "    \"sports\": sports,\n",
    "\n",
    "}"
   ]
  },
  {
   "cell_type": "markdown",
   "id": "58c9715f",
   "metadata": {},
   "source": [
    "#### Extracting `known_for` Categories and `cause_of_death` Values from `info_3_1`"
   ]
  },
  {
   "cell_type": "code",
   "execution_count": null,
   "id": "80c57e7b",
   "metadata": {},
   "outputs": [],
   "source": [
    "%%time\n",
    "\n",
    "# Column to check\n",
    "column = 'info_3_1'\n",
    "\n",
    "# Start dataframe\n",
    "dataframe = df[df[column].notna()]\n",
    "\n",
    "# For loop to find cause in column and extract it to cause_of_death\n",
    "for cause in cause_of_death:\n",
    "    for index in dataframe.index:\n",
    "        item = df.loc[index, column]\n",
    "        if item:\n",
    "            if cause in item:\n",
    "                if df.loc[index, 'cause_of_death']:\n",
    "                    df.loc[index, 'cause_of_death'] = df.loc[index, 'cause_of_death'] + '/' + cause\n",
    "                    df.loc[index, column] = item.replace(cause, '').strip()\n",
    "                else:\n",
    "                    df.loc[index, 'cause_of_death'] = cause\n",
    "                    df.loc[index, column] = item.replace(cause, '').strip()\n",
    "                \n",
    "                \n",
    "# For loop to find role in column and extract it as category\n",
    "for category, category_lst in known_for_dict.items():\n",
    "    for role in category_lst:\n",
    "        for index in dataframe.index:\n",
    "                item = df.loc[index, column]\n",
    "                if item:\n",
    "                    if role in item:\n",
    "                        df.loc[index, category] = 1\n",
    "                        df.loc[index, column] = item.replace(role, '').strip()\n",
    "\n",
    "# Calculating num_categories\n",
    "df[\"num_categories\"] = df[known_for_dict.keys()].sum(axis=1)\n",
    "\n",
    "# Checking number of cause_of_death values\n",
    "print(f'There are {df[\"cause_of_death\"].notna().sum()} values in cause_of_death column.\\n')"
   ]
  },
  {
   "cell_type": "markdown",
   "id": "2cdac72a",
   "metadata": {},
   "source": [
    "#### Checking Updated `num_categories` Value Counts"
   ]
  },
  {
   "cell_type": "code",
   "execution_count": null,
   "id": "55593426",
   "metadata": {},
   "outputs": [],
   "source": [
    "# Checking Updated num_categories Value Counts\n",
    "df[\"num_categories\"].value_counts()"
   ]
  },
  {
   "cell_type": "markdown",
   "id": "64724376",
   "metadata": {},
   "source": [
    "#### Observations:\n",
    "- We will proceed to rebuild `known_for_dict` and `cause_of_death` for the next iteration."
   ]
  },
  {
   "cell_type": "code",
   "execution_count": null,
   "id": "922d6d64",
   "metadata": {},
   "outputs": [],
   "source": []
  },
  {
   "cell_type": "code",
   "execution_count": null,
   "id": "a779b673",
   "metadata": {},
   "outputs": [],
   "source": []
  },
  {
   "cell_type": "code",
   "execution_count": null,
   "id": "63a0a8d4",
   "metadata": {},
   "outputs": [],
   "source": []
  },
  {
   "cell_type": "code",
   "execution_count": 1678,
   "id": "ecbe5c5d",
   "metadata": {},
   "outputs": [
    {
     "name": "stdout",
     "output_type": "stream",
     "text": [
      "dunzo!\n"
     ]
    },
    {
     "data": {
      "application/javascript": [
       "\n",
       "            setTimeout(function() {\n",
       "                var nbb_cell_id = 1678;\n",
       "                var nbb_unformatted_code = \"print(\\\"dunzo!\\\")\\n\\n# Sound notification when cell executes\\nchime.success()\";\n",
       "                var nbb_formatted_code = \"print(\\\"dunzo!\\\")\\n\\n# Sound notification when cell executes\\nchime.success()\";\n",
       "                var nbb_cells = Jupyter.notebook.get_cells();\n",
       "                for (var i = 0; i < nbb_cells.length; ++i) {\n",
       "                    if (nbb_cells[i].input_prompt_number == nbb_cell_id) {\n",
       "                        if (nbb_cells[i].get_text() == nbb_unformatted_code) {\n",
       "                             nbb_cells[i].set_text(nbb_formatted_code);\n",
       "                        }\n",
       "                        break;\n",
       "                    }\n",
       "                }\n",
       "            }, 500);\n",
       "            "
      ],
      "text/plain": [
       "<IPython.core.display.Javascript object>"
      ]
     },
     "metadata": {},
     "output_type": "display_data"
    }
   ],
   "source": [
    "print(\"dunzo!\")\n",
    "\n",
    "# Sound notification when cell executes\n",
    "chime.success()"
   ]
  },
  {
   "cell_type": "code",
   "execution_count": null,
   "id": "0271a07f",
   "metadata": {},
   "outputs": [],
   "source": []
  },
  {
   "cell_type": "code",
   "execution_count": null,
   "id": "e40e3f27",
   "metadata": {},
   "outputs": [],
   "source": []
  },
  {
   "cell_type": "code",
   "execution_count": null,
   "id": "db6c3c0c",
   "metadata": {},
   "outputs": [],
   "source": []
  },
  {
   "cell_type": "markdown",
   "id": "cbea7ecf",
   "metadata": {},
   "source": [
    "#### Finding `known_for` Roles and `cause_of_death` in `info_3_1`"
   ]
  },
  {
   "cell_type": "code",
   "execution_count": 811,
   "id": "826e943e",
   "metadata": {},
   "outputs": [
    {
     "data": {
      "application/javascript": [
       "\n",
       "            setTimeout(function() {\n",
       "                var nbb_cell_id = 811;\n",
       "                var nbb_unformatted_code = \"# # Obtaining values for column and their counts\\n# roles_cause_list = df[\\\"info_3_1\\\"].value_counts(ascending=True).index.tolist()\";\n",
       "                var nbb_formatted_code = \"# # Obtaining values for column and their counts\\n# roles_cause_list = df[\\\"info_3_1\\\"].value_counts(ascending=True).index.tolist()\";\n",
       "                var nbb_cells = Jupyter.notebook.get_cells();\n",
       "                for (var i = 0; i < nbb_cells.length; ++i) {\n",
       "                    if (nbb_cells[i].input_prompt_number == nbb_cell_id) {\n",
       "                        if (nbb_cells[i].get_text() == nbb_unformatted_code) {\n",
       "                             nbb_cells[i].set_text(nbb_formatted_code);\n",
       "                        }\n",
       "                        break;\n",
       "                    }\n",
       "                }\n",
       "            }, 500);\n",
       "            "
      ],
      "text/plain": [
       "<IPython.core.display.Javascript object>"
      ]
     },
     "metadata": {},
     "output_type": "display_data"
    }
   ],
   "source": [
    "# Obtaining values for column and their counts\n",
    "roles_cause_list = df[\"info_3_1\"].value_counts(ascending=True).index.tolist()"
   ]
  },
  {
   "cell_type": "code",
   "execution_count": 810,
   "id": "ba17533c",
   "metadata": {},
   "outputs": [
    {
     "data": {
      "application/javascript": [
       "\n",
       "            setTimeout(function() {\n",
       "                var nbb_cell_id = 810;\n",
       "                var nbb_unformatted_code = \"# # Code to check each value\\n# value = roles_cause_list.pop()\\n# value\";\n",
       "                var nbb_formatted_code = \"# # Code to check each value\\n# value = roles_cause_list.pop()\\n# value\";\n",
       "                var nbb_cells = Jupyter.notebook.get_cells();\n",
       "                for (var i = 0; i < nbb_cells.length; ++i) {\n",
       "                    if (nbb_cells[i].input_prompt_number == nbb_cell_id) {\n",
       "                        if (nbb_cells[i].get_text() == nbb_unformatted_code) {\n",
       "                             nbb_cells[i].set_text(nbb_formatted_code);\n",
       "                        }\n",
       "                        break;\n",
       "                    }\n",
       "                }\n",
       "            }, 500);\n",
       "            "
      ],
      "text/plain": [
       "<IPython.core.display.Javascript object>"
      ]
     },
     "metadata": {},
     "output_type": "display_data"
    }
   ],
   "source": [
    "# Code to check each value\n",
    "value = roles_cause_list.pop()\n",
    "value"
   ]
  },
  {
   "cell_type": "code",
   "execution_count": 809,
   "id": "0be2c1d9",
   "metadata": {},
   "outputs": [
    {
     "data": {
      "application/javascript": [
       "\n",
       "            setTimeout(function() {\n",
       "                var nbb_cell_id = 809;\n",
       "                var nbb_unformatted_code = \"# # Create specific_roles_cause_list for above popped value\\n# specific_roles_cause_list = (\\n#     df.loc[\\n#         [\\n#             index\\n#             for index in df[df[\\\"info_3_1\\\"].notna()].index\\n#             if value in df.loc[index, \\\"info_3_1\\\"]\\n#         ],\\n#         \\\"info_3_1\\\",\\n#     ]\\n#     .value_counts()\\n#     .index.tolist()\\n# )\";\n",
       "                var nbb_formatted_code = \"# # Create specific_roles_cause_list for above popped value\\n# specific_roles_cause_list = (\\n#     df.loc[\\n#         [\\n#             index\\n#             for index in df[df[\\\"info_3_1\\\"].notna()].index\\n#             if value in df.loc[index, \\\"info_3_1\\\"]\\n#         ],\\n#         \\\"info_3_1\\\",\\n#     ]\\n#     .value_counts()\\n#     .index.tolist()\\n# )\";\n",
       "                var nbb_cells = Jupyter.notebook.get_cells();\n",
       "                for (var i = 0; i < nbb_cells.length; ++i) {\n",
       "                    if (nbb_cells[i].input_prompt_number == nbb_cell_id) {\n",
       "                        if (nbb_cells[i].get_text() == nbb_unformatted_code) {\n",
       "                             nbb_cells[i].set_text(nbb_formatted_code);\n",
       "                        }\n",
       "                        break;\n",
       "                    }\n",
       "                }\n",
       "            }, 500);\n",
       "            "
      ],
      "text/plain": [
       "<IPython.core.display.Javascript object>"
      ]
     },
     "metadata": {},
     "output_type": "display_data"
    }
   ],
   "source": [
    "# Create specific_roles_cause_list for above popped value\n",
    "specific_roles_cause_list = (\n",
    "    df.loc[\n",
    "        [\n",
    "            index\n",
    "            for index in df[df[\"info_3_1\"].notna()].index\n",
    "            if value in df.loc[index, \"info_3_1\"]\n",
    "        ],\n",
    "        \"info_3_1\",\n",
    "    ]\n",
    "    .value_counts()\n",
    "    .index.tolist()\n",
    ")"
   ]
  },
  {
   "cell_type": "code",
   "execution_count": 806,
   "id": "45c74558",
   "metadata": {},
   "outputs": [
    {
     "data": {
      "application/javascript": [
       "\n",
       "            setTimeout(function() {\n",
       "                var nbb_cell_id = 806;\n",
       "                var nbb_unformatted_code = \"# # Viewing list sorted by descending length to copy to dictionary below and screen values\\n# sorted(specific_roles_cause_list, key=lambda x: len(x), reverse=True)\";\n",
       "                var nbb_formatted_code = \"# # Viewing list sorted by descending length to copy to dictionary below and screen values\\n# sorted(specific_roles_cause_list, key=lambda x: len(x), reverse=True)\";\n",
       "                var nbb_cells = Jupyter.notebook.get_cells();\n",
       "                for (var i = 0; i < nbb_cells.length; ++i) {\n",
       "                    if (nbb_cells[i].input_prompt_number == nbb_cell_id) {\n",
       "                        if (nbb_cells[i].get_text() == nbb_unformatted_code) {\n",
       "                             nbb_cells[i].set_text(nbb_formatted_code);\n",
       "                        }\n",
       "                        break;\n",
       "                    }\n",
       "                }\n",
       "            }, 500);\n",
       "            "
      ],
      "text/plain": [
       "<IPython.core.display.Javascript object>"
      ]
     },
     "metadata": {},
     "output_type": "display_data"
    }
   ],
   "source": [
    "# Viewing list sorted by descending length to copy to dictionary below and screen values\n",
    "sorted(specific_roles_cause_list, key=lambda x: len(x), reverse=True)"
   ]
  },
  {
   "cell_type": "code",
   "execution_count": 805,
   "id": "30694aa0",
   "metadata": {},
   "outputs": [
    {
     "data": {
      "application/javascript": [
       "\n",
       "            setTimeout(function() {\n",
       "                var nbb_cell_id = 805;\n",
       "                var nbb_unformatted_code = \"# # Example code to quick-check a specific entry\\n# df[df[\\\"info_3_1\\\"] == value]\";\n",
       "                var nbb_formatted_code = \"# # Example code to quick-check a specific entry\\n# df[df[\\\"info_3_1\\\"] == value]\";\n",
       "                var nbb_cells = Jupyter.notebook.get_cells();\n",
       "                for (var i = 0; i < nbb_cells.length; ++i) {\n",
       "                    if (nbb_cells[i].input_prompt_number == nbb_cell_id) {\n",
       "                        if (nbb_cells[i].get_text() == nbb_unformatted_code) {\n",
       "                             nbb_cells[i].set_text(nbb_formatted_code);\n",
       "                        }\n",
       "                        break;\n",
       "                    }\n",
       "                }\n",
       "            }, 500);\n",
       "            "
      ],
      "text/plain": [
       "<IPython.core.display.Javascript object>"
      ]
     },
     "metadata": {},
     "output_type": "display_data"
    }
   ],
   "source": [
    "# Example code to quick-check a specific entry\n",
    "df[df[\"info_3_1\"] == value]"
   ]
  },
  {
   "cell_type": "markdown",
   "id": "97842e56",
   "metadata": {},
   "source": [
    "#### Creating Lists for Each `known_for` Category and for `cause_of_death`"
   ]
  },
  {
   "cell_type": "code",
   "execution_count": null,
   "id": "16d92bb3",
   "metadata": {},
   "outputs": [],
   "source": [
    "# Creating lists for each category and sorting by decreasing length and removing duplicates\n",
    "\n",
    "politics_govt_law = []\n",
    "politics_govt_law = sorted(list(set(politics_govt_law)), key=lambda x: len(x), reverse=True)  \n",
    "\n",
    "arts = []\n",
    "arts = sorted(list(set(arts)), key=lambda x: len(x), reverse=True)  \n",
    "\n",
    "sports = []\n",
    "sports = sorted(list(set(sports)), key=lambda x: len(x), reverse=True) \n",
    "\n",
    "sciences = []\n",
    "sciences = sorted(list(set(sciences)), key=lambda x: len(x), reverse=True) \n",
    "\n",
    "business_farming = []\n",
    "business_farming = sorted(list(set(business_farming)), key=lambda x: len(x), reverse=True)  \n",
    "\n",
    "academia_humanities = []\n",
    "academia_humanities = sorted(list(set(academia_humanities)), key=lambda x: len(x), reverse=True)  \n",
    "\n",
    "law_enf_military_operator = []\n",
    "law_enf_military_operator = sorted(list(set(law_enf_military_operator)), key=lambda x: len(x), reverse=True)  \n",
    "\n",
    "spiritual = []\n",
    "spiritual = sorted(list(set(spiritual)), key=lambda x: len(x), reverse=True)  \n",
    "\n",
    "social = []\n",
    "social = sorted(list(set(social)), key=lambda x: len(x), reverse=True)  \n",
    "\n",
    "crime = []\n",
    "crime = sorted(list(set(crime)), key=lambda x: len(x), reverse=True)  \n",
    "\n",
    "event_record_other = []\n",
    "event_record_other = sorted(list(set(event_record_other)), key=lambda x: len(x), reverse=True)  \n",
    "\n",
    "other_species = []\n",
    "other_species = sorted(list(set(other_species)), key=lambda x: len(x), reverse=True) \n",
    "\n",
    "cause_of_death = []\n",
    "cause_of_death = sorted(list(set(cause_of_death)), key=lambda x: len(x), reverse=True)"
   ]
  },
  {
   "cell_type": "markdown",
   "id": "19e0f93c",
   "metadata": {},
   "source": [
    "#### Creating `known_for_dict` Dictionary of Category Keys and Specific Role Lists of Values"
   ]
  },
  {
   "cell_type": "code",
   "execution_count": null,
   "id": "62805084",
   "metadata": {},
   "outputs": [],
   "source": [
    "# Combining separate lists into one dictionary\n",
    "known_for_dict = {\n",
    "    \"social\": social,\n",
    "    \"spiritual\": spiritual,\n",
    "    \"academia_humanities\": academia_humanities,\n",
    "    \"business_farming\": business_farming,\n",
    "    \"sciences\": sciences,\n",
    "    \"politics_govt_law\": politics_govt_law,\n",
    "    \"law_enf_military_operator\": law_enf_military_operator,\n",
    "    \"crime\": crime,\n",
    "    \"event_record_other\": event_record_other,\n",
    "    \"other_species\": other_species,\n",
    "    \"arts\": arts,\n",
    "    \"sports\": sports,\n",
    "\n",
    "}"
   ]
  },
  {
   "cell_type": "markdown",
   "id": "2300bb48",
   "metadata": {},
   "source": [
    "#### Extracting `known_for` Categories and `cause_of_death` Values from `info_3_1`"
   ]
  },
  {
   "cell_type": "code",
   "execution_count": null,
   "id": "b735dd04",
   "metadata": {},
   "outputs": [],
   "source": [
    "%%time\n",
    "\n",
    "# Column to check\n",
    "column = 'info_3_1'\n",
    "\n",
    "# Start dataframe\n",
    "dataframe = df[df[column].notna()]\n",
    "\n",
    "# For loop to find cause in column and extract it to cause_of_death\n",
    "for cause in cause_of_death:\n",
    "    for index in dataframe.index:\n",
    "        item = df.loc[index, column]\n",
    "        if item:\n",
    "            if cause in item:\n",
    "                if df.loc[index, 'cause_of_death']:\n",
    "                    df.loc[index, 'cause_of_death'] = df.loc[index, 'cause_of_death'] + '/' + cause\n",
    "                    df.loc[index, column] = item.replace(cause, '').strip()\n",
    "                else:\n",
    "                    df.loc[index, 'cause_of_death'] = cause\n",
    "                    df.loc[index, column] = item.replace(cause, '').strip()\n",
    "                \n",
    "                \n",
    "# For loop to find role in column and extract it as category\n",
    "for category, category_lst in known_for_dict.items():\n",
    "    for role in category_lst:\n",
    "        for index in dataframe.index:\n",
    "                item = df.loc[index, column]\n",
    "                if item:\n",
    "                    if role in item:\n",
    "                        df.loc[index, category] = 1\n",
    "                        df.loc[index, column] = item.replace(role, '').strip()\n",
    "\n",
    "# Calculating num_categories\n",
    "df[\"num_categories\"] = df[known_for_dict.keys()].sum(axis=1)\n",
    "\n",
    "# Checking number of cause_of_death values\n",
    "print(f'There are {df[\"cause_of_death\"].notna().sum()} values in cause_of_death column.\\n')"
   ]
  },
  {
   "cell_type": "markdown",
   "id": "be0e125e",
   "metadata": {},
   "source": [
    "#### Checking Updated `num_categories` Value Counts"
   ]
  },
  {
   "cell_type": "code",
   "execution_count": null,
   "id": "473d5fb6",
   "metadata": {},
   "outputs": [],
   "source": [
    "# Checking Updated num_categories Value Counts\n",
    "df[\"num_categories\"].value_counts()"
   ]
  },
  {
   "cell_type": "markdown",
   "id": "e3f042c6",
   "metadata": {},
   "source": [
    "#### Observations:\n",
    "- We will proceed to rebuild `known_for_dict` and `cause_of_death` for the next iteration."
   ]
  },
  {
   "cell_type": "code",
   "execution_count": null,
   "id": "dce22fd9",
   "metadata": {},
   "outputs": [],
   "source": []
  },
  {
   "cell_type": "code",
   "execution_count": null,
   "id": "b8609f2e",
   "metadata": {},
   "outputs": [],
   "source": []
  },
  {
   "cell_type": "code",
   "execution_count": null,
   "id": "73659ec8",
   "metadata": {},
   "outputs": [],
   "source": []
  },
  {
   "cell_type": "code",
   "execution_count": null,
   "id": "a16ff517",
   "metadata": {},
   "outputs": [],
   "source": []
  },
  {
   "cell_type": "code",
   "execution_count": null,
   "id": "8992d649",
   "metadata": {},
   "outputs": [],
   "source": []
  },
  {
   "cell_type": "markdown",
   "id": "228a408c",
   "metadata": {},
   "source": [
    "#### Verifying that Values in info_3_0 Are Exhausted"
   ]
  },
  {
   "cell_type": "code",
   "execution_count": null,
   "id": "35aa9b12",
   "metadata": {},
   "outputs": [],
   "source": [
    "# # Verifying that `info_3_0` is exhausted\n",
    "# df[\"info_3_0\"].value_counts()"
   ]
  },
  {
   "cell_type": "markdown",
   "id": "bf13f70b",
   "metadata": {},
   "source": [
    "#### Dropping info_3_0"
   ]
  },
  {
   "cell_type": "code",
   "execution_count": null,
   "id": "d250ac10",
   "metadata": {},
   "outputs": [],
   "source": [
    "# # Dropping info_3_0\n",
    "# df.drop(\"info_3_0\", axis=1, inplace=True)\n",
    "\n",
    "# # Checking sample\n",
    "# df.sample()"
   ]
  },
  {
   "cell_type": "markdown",
   "id": "0f66697e",
   "metadata": {},
   "source": [
    "#### Observations:\n",
    "- Our search of column info_3_0 is finished and have dropped that column.\n",
    "- We will now save our dataset and pick back up in a new notebook."
   ]
  },
  {
   "cell_type": "markdown",
   "id": "1113a242",
   "metadata": {},
   "source": [
    "### Exporting Dataset to SQLite Database [wp_life_expect_clean7.db]()"
   ]
  },
  {
   "cell_type": "code",
   "execution_count": null,
   "id": "6008ac61",
   "metadata": {},
   "outputs": [],
   "source": [
    "# # Exporting dataframe\n",
    "\n",
    "# # Saving dataset in a SQLite database\n",
    "# conn = sql.connect(\"wp_life_expect_clean7.db\")\n",
    "# df.to_sql(\"wp_life_expect_clean7\", conn, index=False)\n",
    "\n",
    "# # Chime notification when cell executes\n",
    "# chime.success()"
   ]
  },
  {
   "cell_type": "markdown",
   "id": "11aacfcc",
   "metadata": {},
   "source": [
    "# [Proceed to Data Cleaning Part ]()"
   ]
  }
 ],
 "metadata": {
  "kernelspec": {
   "display_name": "Python 3 (ipykernel)",
   "language": "python",
   "name": "python3"
  },
  "language_info": {
   "codemirror_mode": {
    "name": "ipython",
    "version": 3
   },
   "file_extension": ".py",
   "mimetype": "text/x-python",
   "name": "python",
   "nbconvert_exporter": "python",
   "pygments_lexer": "ipython3",
   "version": "3.9.12"
  }
 },
 "nbformat": 4,
 "nbformat_minor": 5
}
