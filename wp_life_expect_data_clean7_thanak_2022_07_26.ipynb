{
 "cells": [
  {
   "cell_type": "markdown",
   "id": "316a0779",
   "metadata": {},
   "source": [
    "# Wikipedia Notable Life Expectancies\n",
    "# [Notebook 8: Data Cleaning Part 7](https://github.com/teresahanak/wikipedia-life-expectancy/blob/main/wp_life_expect_data_clean7_thanak_2022_07_26.ipynb)\n",
    "### Context\n",
    "\n",
    "The\n",
    "### Objective\n",
    "\n",
    "The\n",
    "### Data Dictionary\n",
    "- Feature: Description"
   ]
  },
  {
   "cell_type": "markdown",
   "id": "99245d51",
   "metadata": {},
   "source": [
    "### Importing Libraries"
   ]
  },
  {
   "cell_type": "code",
   "execution_count": 1,
   "id": "453bba83",
   "metadata": {},
   "outputs": [
    {
     "data": {
      "application/javascript": [
       "\n",
       "            setTimeout(function() {\n",
       "                var nbb_cell_id = 1;\n",
       "                var nbb_unformatted_code = \"# To structure code automatically\\n%load_ext nb_black\\n\\n# To import/export sqlite databases\\nimport sqlite3 as sql\\n\\n# To save/open python objects in pickle file\\nimport pickle\\n\\n# To help with reading, cleaning, and manipulating data\\nimport pandas as pd\\nimport numpy as np\\nimport re\\n\\n# To define maximum number of columns to be displayed in a dataframe\\npd.set_option(\\\"display.max_columns\\\", None)\\n# To define the maximum number of rows to be displayed in a dataframe\\npd.set_option(\\\"display.max_rows\\\", 200)\\n\\n# To supress warnings\\n# import warnings\\n\\n# warnings.filterwarnings(\\\"ignore\\\")\\n\\n# To set some visualization attributes\\npd.set_option(\\\"max_colwidth\\\", 150)\\n\\n# To play auditory cue when cell has executed, has warning, or has error and set chime theme\\nimport chime\\n\\nchime.theme(\\\"zelda\\\")\";\n",
       "                var nbb_formatted_code = \"# To structure code automatically\\n%load_ext nb_black\\n\\n# To import/export sqlite databases\\nimport sqlite3 as sql\\n\\n# To save/open python objects in pickle file\\nimport pickle\\n\\n# To help with reading, cleaning, and manipulating data\\nimport pandas as pd\\nimport numpy as np\\nimport re\\n\\n# To define maximum number of columns to be displayed in a dataframe\\npd.set_option(\\\"display.max_columns\\\", None)\\n# To define the maximum number of rows to be displayed in a dataframe\\npd.set_option(\\\"display.max_rows\\\", 200)\\n\\n# To supress warnings\\n# import warnings\\n\\n# warnings.filterwarnings(\\\"ignore\\\")\\n\\n# To set some visualization attributes\\npd.set_option(\\\"max_colwidth\\\", 150)\\n\\n# To play auditory cue when cell has executed, has warning, or has error and set chime theme\\nimport chime\\n\\nchime.theme(\\\"zelda\\\")\";\n",
       "                var nbb_cells = Jupyter.notebook.get_cells();\n",
       "                for (var i = 0; i < nbb_cells.length; ++i) {\n",
       "                    if (nbb_cells[i].input_prompt_number == nbb_cell_id) {\n",
       "                        if (nbb_cells[i].get_text() == nbb_unformatted_code) {\n",
       "                             nbb_cells[i].set_text(nbb_formatted_code);\n",
       "                        }\n",
       "                        break;\n",
       "                    }\n",
       "                }\n",
       "            }, 500);\n",
       "            "
      ],
      "text/plain": [
       "<IPython.core.display.Javascript object>"
      ]
     },
     "metadata": {},
     "output_type": "display_data"
    }
   ],
   "source": [
    "# To structure code automatically\n",
    "%load_ext nb_black\n",
    "\n",
    "# To import/export sqlite databases\n",
    "import sqlite3 as sql\n",
    "\n",
    "# To save/open python objects in pickle file\n",
    "import pickle\n",
    "\n",
    "# To help with reading, cleaning, and manipulating data\n",
    "import pandas as pd\n",
    "import numpy as np\n",
    "import re\n",
    "\n",
    "# To define maximum number of columns to be displayed in a dataframe\n",
    "pd.set_option(\"display.max_columns\", None)\n",
    "# To define the maximum number of rows to be displayed in a dataframe\n",
    "pd.set_option(\"display.max_rows\", 200)\n",
    "\n",
    "# To supress warnings\n",
    "# import warnings\n",
    "\n",
    "# warnings.filterwarnings(\"ignore\")\n",
    "\n",
    "# To set some visualization attributes\n",
    "pd.set_option(\"max_colwidth\", 150)\n",
    "\n",
    "# To play auditory cue when cell has executed, has warning, or has error and set chime theme\n",
    "import chime\n",
    "\n",
    "chime.theme(\"zelda\")"
   ]
  },
  {
   "cell_type": "markdown",
   "id": "cc818a82",
   "metadata": {},
   "source": [
    "## Data Overview"
   ]
  },
  {
   "cell_type": "markdown",
   "id": "0ed005f6",
   "metadata": {},
   "source": [
    "### Reading, Sampling, and Checking Data Shape"
   ]
  },
  {
   "cell_type": "code",
   "execution_count": 2,
   "id": "0ca58a95",
   "metadata": {},
   "outputs": [
    {
     "name": "stdout",
     "output_type": "stream",
     "text": [
      "There are 98060 rows and 38 columns.\n"
     ]
    },
    {
     "data": {
      "text/html": [
       "<div>\n",
       "<style scoped>\n",
       "    .dataframe tbody tr th:only-of-type {\n",
       "        vertical-align: middle;\n",
       "    }\n",
       "\n",
       "    .dataframe tbody tr th {\n",
       "        vertical-align: top;\n",
       "    }\n",
       "\n",
       "    .dataframe thead th {\n",
       "        text-align: right;\n",
       "    }\n",
       "</style>\n",
       "<table border=\"1\" class=\"dataframe\">\n",
       "  <thead>\n",
       "    <tr style=\"text-align: right;\">\n",
       "      <th></th>\n",
       "      <th>day</th>\n",
       "      <th>name</th>\n",
       "      <th>info</th>\n",
       "      <th>link</th>\n",
       "      <th>num_references</th>\n",
       "      <th>year</th>\n",
       "      <th>month</th>\n",
       "      <th>info_parenth</th>\n",
       "      <th>info_1</th>\n",
       "      <th>info_2</th>\n",
       "      <th>info_3</th>\n",
       "      <th>info_4</th>\n",
       "      <th>info_5</th>\n",
       "      <th>info_6</th>\n",
       "      <th>info_7</th>\n",
       "      <th>info_8</th>\n",
       "      <th>info_9</th>\n",
       "      <th>info_10</th>\n",
       "      <th>info_11</th>\n",
       "      <th>age</th>\n",
       "      <th>cause_of_death</th>\n",
       "      <th>place_1</th>\n",
       "      <th>place_2</th>\n",
       "      <th>info_parenth_copy</th>\n",
       "      <th>log_num_references</th>\n",
       "      <th>sciences</th>\n",
       "      <th>social</th>\n",
       "      <th>spiritual</th>\n",
       "      <th>academia_humanities</th>\n",
       "      <th>business_farming</th>\n",
       "      <th>arts</th>\n",
       "      <th>sports</th>\n",
       "      <th>law_enf_military_operator</th>\n",
       "      <th>politics_govt_law</th>\n",
       "      <th>crime</th>\n",
       "      <th>event_record_other</th>\n",
       "      <th>other_species</th>\n",
       "      <th>num_categories</th>\n",
       "    </tr>\n",
       "  </thead>\n",
       "  <tbody>\n",
       "    <tr>\n",
       "      <th>0</th>\n",
       "      <td>1</td>\n",
       "      <td>William Chappell</td>\n",
       "      <td>, 86, British dancer, ballet designer and director.</td>\n",
       "      <td>https://en.wikipedia.org/wiki/William_Chappell_(dancer)</td>\n",
       "      <td>21</td>\n",
       "      <td>1994</td>\n",
       "      <td>January</td>\n",
       "      <td>None</td>\n",
       "      <td>None</td>\n",
       "      <td>dancer</td>\n",
       "      <td>ballet designer and director</td>\n",
       "      <td>None</td>\n",
       "      <td>None</td>\n",
       "      <td>None</td>\n",
       "      <td>None</td>\n",
       "      <td>None</td>\n",
       "      <td>None</td>\n",
       "      <td>None</td>\n",
       "      <td>None</td>\n",
       "      <td>86.0</td>\n",
       "      <td>None</td>\n",
       "      <td>United Kingdom of Great Britain and Northern Ireland</td>\n",
       "      <td>None</td>\n",
       "      <td>None</td>\n",
       "      <td>3.091042</td>\n",
       "      <td>0</td>\n",
       "      <td>0</td>\n",
       "      <td>0</td>\n",
       "      <td>0</td>\n",
       "      <td>0</td>\n",
       "      <td>0</td>\n",
       "      <td>0</td>\n",
       "      <td>0</td>\n",
       "      <td>0</td>\n",
       "      <td>0</td>\n",
       "      <td>0</td>\n",
       "      <td>0</td>\n",
       "      <td>0</td>\n",
       "    </tr>\n",
       "    <tr>\n",
       "      <th>1</th>\n",
       "      <td>1</td>\n",
       "      <td>Raymond Crotty</td>\n",
       "      <td>, 68, Irish economist, writer, and academic.</td>\n",
       "      <td>https://en.wikipedia.org/wiki/Raymond_Crotty</td>\n",
       "      <td>12</td>\n",
       "      <td>1994</td>\n",
       "      <td>January</td>\n",
       "      <td>None</td>\n",
       "      <td>None</td>\n",
       "      <td>economist</td>\n",
       "      <td>writer</td>\n",
       "      <td>and academic</td>\n",
       "      <td>None</td>\n",
       "      <td>None</td>\n",
       "      <td>None</td>\n",
       "      <td>None</td>\n",
       "      <td>None</td>\n",
       "      <td>None</td>\n",
       "      <td>None</td>\n",
       "      <td>68.0</td>\n",
       "      <td>None</td>\n",
       "      <td>Ireland</td>\n",
       "      <td>None</td>\n",
       "      <td>None</td>\n",
       "      <td>2.564949</td>\n",
       "      <td>0</td>\n",
       "      <td>0</td>\n",
       "      <td>0</td>\n",
       "      <td>0</td>\n",
       "      <td>0</td>\n",
       "      <td>0</td>\n",
       "      <td>0</td>\n",
       "      <td>0</td>\n",
       "      <td>0</td>\n",
       "      <td>0</td>\n",
       "      <td>0</td>\n",
       "      <td>0</td>\n",
       "      <td>0</td>\n",
       "    </tr>\n",
       "  </tbody>\n",
       "</table>\n",
       "</div>"
      ],
      "text/plain": [
       "  day              name                                                 info  \\\n",
       "0   1  William Chappell  , 86, British dancer, ballet designer and director.   \n",
       "1   1    Raymond Crotty         , 68, Irish economist, writer, and academic.   \n",
       "\n",
       "                                                      link  num_references  \\\n",
       "0  https://en.wikipedia.org/wiki/William_Chappell_(dancer)              21   \n",
       "1             https://en.wikipedia.org/wiki/Raymond_Crotty              12   \n",
       "\n",
       "   year    month info_parenth info_1     info_2                        info_3  \\\n",
       "0  1994  January         None   None     dancer  ballet designer and director   \n",
       "1  1994  January         None   None  economist                        writer   \n",
       "\n",
       "         info_4 info_5 info_6 info_7 info_8 info_9 info_10 info_11   age  \\\n",
       "0          None   None   None   None   None   None    None    None  86.0   \n",
       "1  and academic   None   None   None   None   None    None    None  68.0   \n",
       "\n",
       "  cause_of_death                                               place_1  \\\n",
       "0           None  United Kingdom of Great Britain and Northern Ireland   \n",
       "1           None                                               Ireland   \n",
       "\n",
       "  place_2 info_parenth_copy  log_num_references  sciences  social  spiritual  \\\n",
       "0    None              None            3.091042         0       0          0   \n",
       "1    None              None            2.564949         0       0          0   \n",
       "\n",
       "   academia_humanities  business_farming  arts  sports  \\\n",
       "0                    0                 0     0       0   \n",
       "1                    0                 0     0       0   \n",
       "\n",
       "   law_enf_military_operator  politics_govt_law  crime  event_record_other  \\\n",
       "0                          0                  0      0                   0   \n",
       "1                          0                  0      0                   0   \n",
       "\n",
       "   other_species  num_categories  \n",
       "0              0               0  \n",
       "1              0               0  "
      ]
     },
     "execution_count": 2,
     "metadata": {},
     "output_type": "execute_result"
    },
    {
     "data": {
      "application/javascript": [
       "\n",
       "            setTimeout(function() {\n",
       "                var nbb_cell_id = 2;\n",
       "                var nbb_unformatted_code = \"# Reading the dataset\\nconn = sql.connect(\\\"wp_life_expect_clean6.db\\\")\\ndata = pd.read_sql(\\\"SELECT * FROM wp_life_expect_clean6\\\", conn)\\n\\n# Making a working copy\\ndf = data.copy()\\n\\n# Checking the shape\\nprint(f\\\"There are {df.shape[0]} rows and {df.shape[1]} columns.\\\")\\n\\n# Checking first 2 rows of the data\\ndf.head(2)\";\n",
       "                var nbb_formatted_code = \"# Reading the dataset\\nconn = sql.connect(\\\"wp_life_expect_clean6.db\\\")\\ndata = pd.read_sql(\\\"SELECT * FROM wp_life_expect_clean6\\\", conn)\\n\\n# Making a working copy\\ndf = data.copy()\\n\\n# Checking the shape\\nprint(f\\\"There are {df.shape[0]} rows and {df.shape[1]} columns.\\\")\\n\\n# Checking first 2 rows of the data\\ndf.head(2)\";\n",
       "                var nbb_cells = Jupyter.notebook.get_cells();\n",
       "                for (var i = 0; i < nbb_cells.length; ++i) {\n",
       "                    if (nbb_cells[i].input_prompt_number == nbb_cell_id) {\n",
       "                        if (nbb_cells[i].get_text() == nbb_unformatted_code) {\n",
       "                             nbb_cells[i].set_text(nbb_formatted_code);\n",
       "                        }\n",
       "                        break;\n",
       "                    }\n",
       "                }\n",
       "            }, 500);\n",
       "            "
      ],
      "text/plain": [
       "<IPython.core.display.Javascript object>"
      ]
     },
     "metadata": {},
     "output_type": "display_data"
    }
   ],
   "source": [
    "# Reading the dataset\n",
    "conn = sql.connect(\"wp_life_expect_clean6.db\")\n",
    "data = pd.read_sql(\"SELECT * FROM wp_life_expect_clean6\", conn)\n",
    "\n",
    "# Making a working copy\n",
    "df = data.copy()\n",
    "\n",
    "# Checking the shape\n",
    "print(f\"There are {df.shape[0]} rows and {df.shape[1]} columns.\")\n",
    "\n",
    "# Checking first 2 rows of the data\n",
    "df.head(2)"
   ]
  },
  {
   "cell_type": "code",
   "execution_count": 3,
   "id": "6cca416f",
   "metadata": {},
   "outputs": [
    {
     "data": {
      "text/html": [
       "<div>\n",
       "<style scoped>\n",
       "    .dataframe tbody tr th:only-of-type {\n",
       "        vertical-align: middle;\n",
       "    }\n",
       "\n",
       "    .dataframe tbody tr th {\n",
       "        vertical-align: top;\n",
       "    }\n",
       "\n",
       "    .dataframe thead th {\n",
       "        text-align: right;\n",
       "    }\n",
       "</style>\n",
       "<table border=\"1\" class=\"dataframe\">\n",
       "  <thead>\n",
       "    <tr style=\"text-align: right;\">\n",
       "      <th></th>\n",
       "      <th>day</th>\n",
       "      <th>name</th>\n",
       "      <th>info</th>\n",
       "      <th>link</th>\n",
       "      <th>num_references</th>\n",
       "      <th>year</th>\n",
       "      <th>month</th>\n",
       "      <th>info_parenth</th>\n",
       "      <th>info_1</th>\n",
       "      <th>info_2</th>\n",
       "      <th>info_3</th>\n",
       "      <th>info_4</th>\n",
       "      <th>info_5</th>\n",
       "      <th>info_6</th>\n",
       "      <th>info_7</th>\n",
       "      <th>info_8</th>\n",
       "      <th>info_9</th>\n",
       "      <th>info_10</th>\n",
       "      <th>info_11</th>\n",
       "      <th>age</th>\n",
       "      <th>cause_of_death</th>\n",
       "      <th>place_1</th>\n",
       "      <th>place_2</th>\n",
       "      <th>info_parenth_copy</th>\n",
       "      <th>log_num_references</th>\n",
       "      <th>sciences</th>\n",
       "      <th>social</th>\n",
       "      <th>spiritual</th>\n",
       "      <th>academia_humanities</th>\n",
       "      <th>business_farming</th>\n",
       "      <th>arts</th>\n",
       "      <th>sports</th>\n",
       "      <th>law_enf_military_operator</th>\n",
       "      <th>politics_govt_law</th>\n",
       "      <th>crime</th>\n",
       "      <th>event_record_other</th>\n",
       "      <th>other_species</th>\n",
       "      <th>num_categories</th>\n",
       "    </tr>\n",
       "  </thead>\n",
       "  <tbody>\n",
       "    <tr>\n",
       "      <th>98058</th>\n",
       "      <td>9</td>\n",
       "      <td>Aamir Liaquat Hussain</td>\n",
       "      <td>, 50, Pakistani journalist and politician, MNA .</td>\n",
       "      <td>https://en.wikipedia.org/wiki/Aamir_Liaquat_Hussain</td>\n",
       "      <td>99</td>\n",
       "      <td>2022</td>\n",
       "      <td>June</td>\n",
       "      <td>, since</td>\n",
       "      <td>None</td>\n",
       "      <td></td>\n",
       "      <td>MNA</td>\n",
       "      <td>None</td>\n",
       "      <td>None</td>\n",
       "      <td>None</td>\n",
       "      <td>None</td>\n",
       "      <td>None</td>\n",
       "      <td>None</td>\n",
       "      <td>None</td>\n",
       "      <td>None</td>\n",
       "      <td>50.0</td>\n",
       "      <td>None</td>\n",
       "      <td>Pakistan</td>\n",
       "      <td>None</td>\n",
       "      <td>2002 2007, since 2018</td>\n",
       "      <td>4.605170</td>\n",
       "      <td>0</td>\n",
       "      <td>0</td>\n",
       "      <td>0</td>\n",
       "      <td>0</td>\n",
       "      <td>0</td>\n",
       "      <td>1</td>\n",
       "      <td>0</td>\n",
       "      <td>0</td>\n",
       "      <td>1</td>\n",
       "      <td>0</td>\n",
       "      <td>0</td>\n",
       "      <td>0</td>\n",
       "      <td>2</td>\n",
       "    </tr>\n",
       "    <tr>\n",
       "      <th>98059</th>\n",
       "      <td>9</td>\n",
       "      <td>Zou Jing</td>\n",
       "      <td>, 86, Chinese engineer, member of the Chinese Academy of Engineering.</td>\n",
       "      <td>https://en.wikipedia.org/wiki/Zou_Jing_(engineer)</td>\n",
       "      <td>3</td>\n",
       "      <td>2022</td>\n",
       "      <td>June</td>\n",
       "      <td>None</td>\n",
       "      <td>None</td>\n",
       "      <td>engineer</td>\n",
       "      <td>member of the Academy of Engineering</td>\n",
       "      <td>None</td>\n",
       "      <td>None</td>\n",
       "      <td>None</td>\n",
       "      <td>None</td>\n",
       "      <td>None</td>\n",
       "      <td>None</td>\n",
       "      <td>None</td>\n",
       "      <td>None</td>\n",
       "      <td>86.0</td>\n",
       "      <td>None</td>\n",
       "      <td>China, People's Republic of</td>\n",
       "      <td>None</td>\n",
       "      <td>None</td>\n",
       "      <td>1.386294</td>\n",
       "      <td>0</td>\n",
       "      <td>0</td>\n",
       "      <td>0</td>\n",
       "      <td>0</td>\n",
       "      <td>0</td>\n",
       "      <td>0</td>\n",
       "      <td>0</td>\n",
       "      <td>0</td>\n",
       "      <td>0</td>\n",
       "      <td>0</td>\n",
       "      <td>0</td>\n",
       "      <td>0</td>\n",
       "      <td>0</td>\n",
       "    </tr>\n",
       "  </tbody>\n",
       "</table>\n",
       "</div>"
      ],
      "text/plain": [
       "      day                   name  \\\n",
       "98058   9  Aamir Liaquat Hussain   \n",
       "98059   9               Zou Jing   \n",
       "\n",
       "                                                                        info  \\\n",
       "98058                       , 50, Pakistani journalist and politician, MNA .   \n",
       "98059  , 86, Chinese engineer, member of the Chinese Academy of Engineering.   \n",
       "\n",
       "                                                      link  num_references  \\\n",
       "98058  https://en.wikipedia.org/wiki/Aamir_Liaquat_Hussain              99   \n",
       "98059    https://en.wikipedia.org/wiki/Zou_Jing_(engineer)               3   \n",
       "\n",
       "       year month info_parenth info_1    info_2  \\\n",
       "98058  2022  June      , since   None             \n",
       "98059  2022  June         None   None  engineer   \n",
       "\n",
       "                                     info_3 info_4 info_5 info_6 info_7  \\\n",
       "98058                                   MNA   None   None   None   None   \n",
       "98059  member of the Academy of Engineering   None   None   None   None   \n",
       "\n",
       "      info_8 info_9 info_10 info_11   age cause_of_death  \\\n",
       "98058   None   None    None    None  50.0           None   \n",
       "98059   None   None    None    None  86.0           None   \n",
       "\n",
       "                           place_1 place_2      info_parenth_copy  \\\n",
       "98058                     Pakistan    None  2002 2007, since 2018   \n",
       "98059  China, People's Republic of    None                   None   \n",
       "\n",
       "       log_num_references  sciences  social  spiritual  academia_humanities  \\\n",
       "98058            4.605170         0       0          0                    0   \n",
       "98059            1.386294         0       0          0                    0   \n",
       "\n",
       "       business_farming  arts  sports  law_enf_military_operator  \\\n",
       "98058                 0     1       0                          0   \n",
       "98059                 0     0       0                          0   \n",
       "\n",
       "       politics_govt_law  crime  event_record_other  other_species  \\\n",
       "98058                  1      0                   0              0   \n",
       "98059                  0      0                   0              0   \n",
       "\n",
       "       num_categories  \n",
       "98058               2  \n",
       "98059               0  "
      ]
     },
     "execution_count": 3,
     "metadata": {},
     "output_type": "execute_result"
    },
    {
     "data": {
      "application/javascript": [
       "\n",
       "            setTimeout(function() {\n",
       "                var nbb_cell_id = 3;\n",
       "                var nbb_unformatted_code = \"# Checking last 2 rows of the data\\ndf.tail(2)\";\n",
       "                var nbb_formatted_code = \"# Checking last 2 rows of the data\\ndf.tail(2)\";\n",
       "                var nbb_cells = Jupyter.notebook.get_cells();\n",
       "                for (var i = 0; i < nbb_cells.length; ++i) {\n",
       "                    if (nbb_cells[i].input_prompt_number == nbb_cell_id) {\n",
       "                        if (nbb_cells[i].get_text() == nbb_unformatted_code) {\n",
       "                             nbb_cells[i].set_text(nbb_formatted_code);\n",
       "                        }\n",
       "                        break;\n",
       "                    }\n",
       "                }\n",
       "            }, 500);\n",
       "            "
      ],
      "text/plain": [
       "<IPython.core.display.Javascript object>"
      ]
     },
     "metadata": {},
     "output_type": "display_data"
    }
   ],
   "source": [
    "# Checking last 2 rows of the data\n",
    "df.tail(2)"
   ]
  },
  {
   "cell_type": "code",
   "execution_count": 4,
   "id": "de6e8ee5",
   "metadata": {},
   "outputs": [
    {
     "data": {
      "text/html": [
       "<div>\n",
       "<style scoped>\n",
       "    .dataframe tbody tr th:only-of-type {\n",
       "        vertical-align: middle;\n",
       "    }\n",
       "\n",
       "    .dataframe tbody tr th {\n",
       "        vertical-align: top;\n",
       "    }\n",
       "\n",
       "    .dataframe thead th {\n",
       "        text-align: right;\n",
       "    }\n",
       "</style>\n",
       "<table border=\"1\" class=\"dataframe\">\n",
       "  <thead>\n",
       "    <tr style=\"text-align: right;\">\n",
       "      <th></th>\n",
       "      <th>day</th>\n",
       "      <th>name</th>\n",
       "      <th>info</th>\n",
       "      <th>link</th>\n",
       "      <th>num_references</th>\n",
       "      <th>year</th>\n",
       "      <th>month</th>\n",
       "      <th>info_parenth</th>\n",
       "      <th>info_1</th>\n",
       "      <th>info_2</th>\n",
       "      <th>info_3</th>\n",
       "      <th>info_4</th>\n",
       "      <th>info_5</th>\n",
       "      <th>info_6</th>\n",
       "      <th>info_7</th>\n",
       "      <th>info_8</th>\n",
       "      <th>info_9</th>\n",
       "      <th>info_10</th>\n",
       "      <th>info_11</th>\n",
       "      <th>age</th>\n",
       "      <th>cause_of_death</th>\n",
       "      <th>place_1</th>\n",
       "      <th>place_2</th>\n",
       "      <th>info_parenth_copy</th>\n",
       "      <th>log_num_references</th>\n",
       "      <th>sciences</th>\n",
       "      <th>social</th>\n",
       "      <th>spiritual</th>\n",
       "      <th>academia_humanities</th>\n",
       "      <th>business_farming</th>\n",
       "      <th>arts</th>\n",
       "      <th>sports</th>\n",
       "      <th>law_enf_military_operator</th>\n",
       "      <th>politics_govt_law</th>\n",
       "      <th>crime</th>\n",
       "      <th>event_record_other</th>\n",
       "      <th>other_species</th>\n",
       "      <th>num_categories</th>\n",
       "    </tr>\n",
       "  </thead>\n",
       "  <tbody>\n",
       "    <tr>\n",
       "      <th>32150</th>\n",
       "      <td>6</td>\n",
       "      <td>Cacilda Borges Barbosa</td>\n",
       "      <td>, 96, Brazilian electronic musician.</td>\n",
       "      <td>https://en.wikipedia.org/wiki/Cacilda_Borges_Barbosa</td>\n",
       "      <td>7</td>\n",
       "      <td>2010</td>\n",
       "      <td>August</td>\n",
       "      <td>None</td>\n",
       "      <td>None</td>\n",
       "      <td></td>\n",
       "      <td>None</td>\n",
       "      <td>None</td>\n",
       "      <td>None</td>\n",
       "      <td>None</td>\n",
       "      <td>None</td>\n",
       "      <td>None</td>\n",
       "      <td>None</td>\n",
       "      <td>None</td>\n",
       "      <td>None</td>\n",
       "      <td>96.0</td>\n",
       "      <td>None</td>\n",
       "      <td>Brazil</td>\n",
       "      <td>None</td>\n",
       "      <td>None</td>\n",
       "      <td>2.079442</td>\n",
       "      <td>0</td>\n",
       "      <td>0</td>\n",
       "      <td>0</td>\n",
       "      <td>0</td>\n",
       "      <td>0</td>\n",
       "      <td>1</td>\n",
       "      <td>0</td>\n",
       "      <td>0</td>\n",
       "      <td>0</td>\n",
       "      <td>0</td>\n",
       "      <td>0</td>\n",
       "      <td>0</td>\n",
       "      <td>1</td>\n",
       "    </tr>\n",
       "    <tr>\n",
       "      <th>72620</th>\n",
       "      <td>12</td>\n",
       "      <td>Batton Lash</td>\n",
       "      <td>, 65, American comic book writer and artist , brain cancer.</td>\n",
       "      <td>https://en.wikipedia.org/wiki/Batton_Lash</td>\n",
       "      <td>15</td>\n",
       "      <td>2019</td>\n",
       "      <td>January</td>\n",
       "      <td>,</td>\n",
       "      <td>None</td>\n",
       "      <td></td>\n",
       "      <td>brain cancer</td>\n",
       "      <td>None</td>\n",
       "      <td>None</td>\n",
       "      <td>None</td>\n",
       "      <td>None</td>\n",
       "      <td>None</td>\n",
       "      <td>None</td>\n",
       "      <td>None</td>\n",
       "      <td>None</td>\n",
       "      <td>65.0</td>\n",
       "      <td>None</td>\n",
       "      <td>United States of America</td>\n",
       "      <td>None</td>\n",
       "      <td>,</td>\n",
       "      <td>2.772589</td>\n",
       "      <td>0</td>\n",
       "      <td>0</td>\n",
       "      <td>0</td>\n",
       "      <td>0</td>\n",
       "      <td>0</td>\n",
       "      <td>1</td>\n",
       "      <td>0</td>\n",
       "      <td>0</td>\n",
       "      <td>0</td>\n",
       "      <td>0</td>\n",
       "      <td>0</td>\n",
       "      <td>0</td>\n",
       "      <td>1</td>\n",
       "    </tr>\n",
       "    <tr>\n",
       "      <th>89352</th>\n",
       "      <td>19</td>\n",
       "      <td>Nasir Durrani</td>\n",
       "      <td>, 64, Pakistani police officer, inspector general of the Khyber Pakhtunkhwa Police , COVID-19.</td>\n",
       "      <td>https://en.wikipedia.org/wiki/Nasir_Durrani</td>\n",
       "      <td>5</td>\n",
       "      <td>2021</td>\n",
       "      <td>April</td>\n",
       "      <td></td>\n",
       "      <td>None</td>\n",
       "      <td>police officer</td>\n",
       "      <td>inspector general of the Khyber Pakhtunkhwa Police</td>\n",
       "      <td>COVID</td>\n",
       "      <td>None</td>\n",
       "      <td>None</td>\n",
       "      <td>None</td>\n",
       "      <td>None</td>\n",
       "      <td>None</td>\n",
       "      <td>None</td>\n",
       "      <td>None</td>\n",
       "      <td>64.0</td>\n",
       "      <td>None</td>\n",
       "      <td>Pakistan</td>\n",
       "      <td>None</td>\n",
       "      <td>2013 2017</td>\n",
       "      <td>1.791759</td>\n",
       "      <td>0</td>\n",
       "      <td>0</td>\n",
       "      <td>0</td>\n",
       "      <td>0</td>\n",
       "      <td>0</td>\n",
       "      <td>0</td>\n",
       "      <td>0</td>\n",
       "      <td>0</td>\n",
       "      <td>0</td>\n",
       "      <td>0</td>\n",
       "      <td>0</td>\n",
       "      <td>0</td>\n",
       "      <td>0</td>\n",
       "    </tr>\n",
       "    <tr>\n",
       "      <th>63046</th>\n",
       "      <td>6</td>\n",
       "      <td>Michael McPartland</td>\n",
       "      <td>, 77, British Roman Catholic priest.</td>\n",
       "      <td>https://en.wikipedia.org/wiki/Michael_McPartland</td>\n",
       "      <td>4</td>\n",
       "      <td>2017</td>\n",
       "      <td>April</td>\n",
       "      <td>None</td>\n",
       "      <td>None</td>\n",
       "      <td>Catholic priest</td>\n",
       "      <td>None</td>\n",
       "      <td>None</td>\n",
       "      <td>None</td>\n",
       "      <td>None</td>\n",
       "      <td>None</td>\n",
       "      <td>None</td>\n",
       "      <td>None</td>\n",
       "      <td>None</td>\n",
       "      <td>None</td>\n",
       "      <td>77.0</td>\n",
       "      <td>None</td>\n",
       "      <td>United Kingdom of Great Britain and Northern Ireland</td>\n",
       "      <td>Italy</td>\n",
       "      <td>None</td>\n",
       "      <td>1.609438</td>\n",
       "      <td>0</td>\n",
       "      <td>0</td>\n",
       "      <td>0</td>\n",
       "      <td>0</td>\n",
       "      <td>0</td>\n",
       "      <td>0</td>\n",
       "      <td>0</td>\n",
       "      <td>0</td>\n",
       "      <td>0</td>\n",
       "      <td>0</td>\n",
       "      <td>0</td>\n",
       "      <td>0</td>\n",
       "      <td>0</td>\n",
       "    </tr>\n",
       "    <tr>\n",
       "      <th>35587</th>\n",
       "      <td>26</td>\n",
       "      <td>Patrick C. Fischer</td>\n",
       "      <td>, 75, American computer scientist and Unabomber target.</td>\n",
       "      <td>https://en.wikipedia.org/wiki/Patrick_C._Fischer</td>\n",
       "      <td>13</td>\n",
       "      <td>2011</td>\n",
       "      <td>August</td>\n",
       "      <td>None</td>\n",
       "      <td>None</td>\n",
       "      <td>computer scientist and Unabomber target</td>\n",
       "      <td>None</td>\n",
       "      <td>None</td>\n",
       "      <td>None</td>\n",
       "      <td>None</td>\n",
       "      <td>None</td>\n",
       "      <td>None</td>\n",
       "      <td>None</td>\n",
       "      <td>None</td>\n",
       "      <td>None</td>\n",
       "      <td>75.0</td>\n",
       "      <td>None</td>\n",
       "      <td>United States of America</td>\n",
       "      <td>None</td>\n",
       "      <td>None</td>\n",
       "      <td>2.639057</td>\n",
       "      <td>0</td>\n",
       "      <td>0</td>\n",
       "      <td>0</td>\n",
       "      <td>0</td>\n",
       "      <td>0</td>\n",
       "      <td>0</td>\n",
       "      <td>0</td>\n",
       "      <td>0</td>\n",
       "      <td>0</td>\n",
       "      <td>0</td>\n",
       "      <td>0</td>\n",
       "      <td>0</td>\n",
       "      <td>0</td>\n",
       "    </tr>\n",
       "  </tbody>\n",
       "</table>\n",
       "</div>"
      ],
      "text/plain": [
       "      day                    name  \\\n",
       "32150   6  Cacilda Borges Barbosa   \n",
       "72620  12             Batton Lash   \n",
       "89352  19           Nasir Durrani   \n",
       "63046   6      Michael McPartland   \n",
       "35587  26      Patrick C. Fischer   \n",
       "\n",
       "                                                                                                 info  \\\n",
       "32150                                                            , 96, Brazilian electronic musician.   \n",
       "72620                                     , 65, American comic book writer and artist , brain cancer.   \n",
       "89352  , 64, Pakistani police officer, inspector general of the Khyber Pakhtunkhwa Police , COVID-19.   \n",
       "63046                                                            , 77, British Roman Catholic priest.   \n",
       "35587                                         , 75, American computer scientist and Unabomber target.   \n",
       "\n",
       "                                                       link  num_references  \\\n",
       "32150  https://en.wikipedia.org/wiki/Cacilda_Borges_Barbosa               7   \n",
       "72620             https://en.wikipedia.org/wiki/Batton_Lash              15   \n",
       "89352           https://en.wikipedia.org/wiki/Nasir_Durrani               5   \n",
       "63046      https://en.wikipedia.org/wiki/Michael_McPartland               4   \n",
       "35587      https://en.wikipedia.org/wiki/Patrick_C._Fischer              13   \n",
       "\n",
       "       year    month info_parenth info_1  \\\n",
       "32150  2010   August         None   None   \n",
       "72620  2019  January            ,   None   \n",
       "89352  2021    April                None   \n",
       "63046  2017    April         None   None   \n",
       "35587  2011   August         None   None   \n",
       "\n",
       "                                        info_2  \\\n",
       "32150                                            \n",
       "72620                                            \n",
       "89352                           police officer   \n",
       "63046                          Catholic priest   \n",
       "35587  computer scientist and Unabomber target   \n",
       "\n",
       "                                                   info_3 info_4 info_5  \\\n",
       "32150                                                None   None   None   \n",
       "72620                                        brain cancer   None   None   \n",
       "89352  inspector general of the Khyber Pakhtunkhwa Police  COVID   None   \n",
       "63046                                                None   None   None   \n",
       "35587                                                None   None   None   \n",
       "\n",
       "      info_6 info_7 info_8 info_9 info_10 info_11   age cause_of_death  \\\n",
       "32150   None   None   None   None    None    None  96.0           None   \n",
       "72620   None   None   None   None    None    None  65.0           None   \n",
       "89352   None   None   None   None    None    None  64.0           None   \n",
       "63046   None   None   None   None    None    None  77.0           None   \n",
       "35587   None   None   None   None    None    None  75.0           None   \n",
       "\n",
       "                                                    place_1 place_2  \\\n",
       "32150                                                Brazil    None   \n",
       "72620                              United States of America    None   \n",
       "89352                                              Pakistan    None   \n",
       "63046  United Kingdom of Great Britain and Northern Ireland   Italy   \n",
       "35587                              United States of America    None   \n",
       "\n",
       "      info_parenth_copy  log_num_references  sciences  social  spiritual  \\\n",
       "32150              None            2.079442         0       0          0   \n",
       "72620                 ,            2.772589         0       0          0   \n",
       "89352         2013 2017            1.791759         0       0          0   \n",
       "63046              None            1.609438         0       0          0   \n",
       "35587              None            2.639057         0       0          0   \n",
       "\n",
       "       academia_humanities  business_farming  arts  sports  \\\n",
       "32150                    0                 0     1       0   \n",
       "72620                    0                 0     1       0   \n",
       "89352                    0                 0     0       0   \n",
       "63046                    0                 0     0       0   \n",
       "35587                    0                 0     0       0   \n",
       "\n",
       "       law_enf_military_operator  politics_govt_law  crime  \\\n",
       "32150                          0                  0      0   \n",
       "72620                          0                  0      0   \n",
       "89352                          0                  0      0   \n",
       "63046                          0                  0      0   \n",
       "35587                          0                  0      0   \n",
       "\n",
       "       event_record_other  other_species  num_categories  \n",
       "32150                   0              0               1  \n",
       "72620                   0              0               1  \n",
       "89352                   0              0               0  \n",
       "63046                   0              0               0  \n",
       "35587                   0              0               0  "
      ]
     },
     "execution_count": 4,
     "metadata": {},
     "output_type": "execute_result"
    },
    {
     "data": {
      "application/javascript": [
       "\n",
       "            setTimeout(function() {\n",
       "                var nbb_cell_id = 4;\n",
       "                var nbb_unformatted_code = \"# Checking a sample of the data\\ndf.sample(5)\";\n",
       "                var nbb_formatted_code = \"# Checking a sample of the data\\ndf.sample(5)\";\n",
       "                var nbb_cells = Jupyter.notebook.get_cells();\n",
       "                for (var i = 0; i < nbb_cells.length; ++i) {\n",
       "                    if (nbb_cells[i].input_prompt_number == nbb_cell_id) {\n",
       "                        if (nbb_cells[i].get_text() == nbb_unformatted_code) {\n",
       "                             nbb_cells[i].set_text(nbb_formatted_code);\n",
       "                        }\n",
       "                        break;\n",
       "                    }\n",
       "                }\n",
       "            }, 500);\n",
       "            "
      ],
      "text/plain": [
       "<IPython.core.display.Javascript object>"
      ]
     },
     "metadata": {},
     "output_type": "display_data"
    }
   ],
   "source": [
    "# Checking a sample of the data\n",
    "df.sample(5)"
   ]
  },
  {
   "cell_type": "markdown",
   "id": "8d5f29da",
   "metadata": {},
   "source": [
    "### Checking Data Types, Duplicates, and Null Values"
   ]
  },
  {
   "cell_type": "code",
   "execution_count": 5,
   "id": "bf505f87",
   "metadata": {},
   "outputs": [
    {
     "name": "stdout",
     "output_type": "stream",
     "text": [
      "<class 'pandas.core.frame.DataFrame'>\n",
      "RangeIndex: 98060 entries, 0 to 98059\n",
      "Data columns (total 38 columns):\n",
      " #   Column                     Non-Null Count  Dtype  \n",
      "---  ------                     --------------  -----  \n",
      " 0   day                        98060 non-null  object \n",
      " 1   name                       98060 non-null  object \n",
      " 2   info                       98060 non-null  object \n",
      " 3   link                       98060 non-null  object \n",
      " 4   num_references             98060 non-null  int64  \n",
      " 5   year                       98060 non-null  int64  \n",
      " 6   month                      98060 non-null  object \n",
      " 7   info_parenth               36661 non-null  object \n",
      " 8   info_1                     22 non-null     object \n",
      " 9   info_2                     98028 non-null  object \n",
      " 10  info_3                     48896 non-null  object \n",
      " 11  info_4                     10264 non-null  object \n",
      " 12  info_5                     1265 non-null   object \n",
      " 13  info_6                     181 non-null    object \n",
      " 14  info_7                     27 non-null     object \n",
      " 15  info_8                     5 non-null      object \n",
      " 16  info_9                     1 non-null      object \n",
      " 17  info_10                    1 non-null      object \n",
      " 18  info_11                    1 non-null      object \n",
      " 19  age                        98060 non-null  float64\n",
      " 20  cause_of_death             6 non-null      object \n",
      " 21  place_1                    97906 non-null  object \n",
      " 22  place_2                    8115 non-null   object \n",
      " 23  info_parenth_copy          36661 non-null  object \n",
      " 24  log_num_references         98060 non-null  float64\n",
      " 25  sciences                   98060 non-null  int64  \n",
      " 26  social                     98060 non-null  int64  \n",
      " 27  spiritual                  98060 non-null  int64  \n",
      " 28  academia_humanities        98060 non-null  int64  \n",
      " 29  business_farming           98060 non-null  int64  \n",
      " 30  arts                       98060 non-null  int64  \n",
      " 31  sports                     98060 non-null  int64  \n",
      " 32  law_enf_military_operator  98060 non-null  int64  \n",
      " 33  politics_govt_law          98060 non-null  int64  \n",
      " 34  crime                      98060 non-null  int64  \n",
      " 35  event_record_other         98060 non-null  int64  \n",
      " 36  other_species              98060 non-null  int64  \n",
      " 37  num_categories             98060 non-null  int64  \n",
      "dtypes: float64(2), int64(15), object(21)\n",
      "memory usage: 28.4+ MB\n"
     ]
    },
    {
     "data": {
      "application/javascript": [
       "\n",
       "            setTimeout(function() {\n",
       "                var nbb_cell_id = 5;\n",
       "                var nbb_unformatted_code = \"# Checking data types and null values\\ndf.info()\";\n",
       "                var nbb_formatted_code = \"# Checking data types and null values\\ndf.info()\";\n",
       "                var nbb_cells = Jupyter.notebook.get_cells();\n",
       "                for (var i = 0; i < nbb_cells.length; ++i) {\n",
       "                    if (nbb_cells[i].input_prompt_number == nbb_cell_id) {\n",
       "                        if (nbb_cells[i].get_text() == nbb_unformatted_code) {\n",
       "                             nbb_cells[i].set_text(nbb_formatted_code);\n",
       "                        }\n",
       "                        break;\n",
       "                    }\n",
       "                }\n",
       "            }, 500);\n",
       "            "
      ],
      "text/plain": [
       "<IPython.core.display.Javascript object>"
      ]
     },
     "metadata": {},
     "output_type": "display_data"
    }
   ],
   "source": [
    "# Checking data types and null values\n",
    "df.info()"
   ]
  },
  {
   "cell_type": "markdown",
   "id": "c459d7f8",
   "metadata": {},
   "source": [
    "#### Observations:\n",
    "- With our dataset loaded, we can pick up where we left off with extracting known_for values by rebuilding `known_for_dict`."
   ]
  },
  {
   "cell_type": "markdown",
   "id": "5c542ec1",
   "metadata": {},
   "source": [
    "### Extracting `known_for` Continued"
   ]
  },
  {
   "cell_type": "markdown",
   "id": "1fafeb4a",
   "metadata": {},
   "source": [
    "#### Finding `known_for` Roles in `info_2`"
   ]
  },
  {
   "cell_type": "code",
   "execution_count": 6,
   "id": "0f287214",
   "metadata": {},
   "outputs": [
    {
     "data": {
      "application/javascript": [
       "\n",
       "            setTimeout(function() {\n",
       "                var nbb_cell_id = 6;\n",
       "                var nbb_unformatted_code = \"# Obtaining values for column and their counts\\nroles_list = df[\\\"info_2\\\"].value_counts(ascending=True).index.tolist()\";\n",
       "                var nbb_formatted_code = \"# Obtaining values for column and their counts\\nroles_list = df[\\\"info_2\\\"].value_counts(ascending=True).index.tolist()\";\n",
       "                var nbb_cells = Jupyter.notebook.get_cells();\n",
       "                for (var i = 0; i < nbb_cells.length; ++i) {\n",
       "                    if (nbb_cells[i].input_prompt_number == nbb_cell_id) {\n",
       "                        if (nbb_cells[i].get_text() == nbb_unformatted_code) {\n",
       "                             nbb_cells[i].set_text(nbb_formatted_code);\n",
       "                        }\n",
       "                        break;\n",
       "                    }\n",
       "                }\n",
       "            }, 500);\n",
       "            "
      ],
      "text/plain": [
       "<IPython.core.display.Javascript object>"
      ]
     },
     "metadata": {},
     "output_type": "display_data"
    }
   ],
   "source": [
    "# Obtaining values for column and their counts\n",
    "roles_list = df[\"info_2\"].value_counts(ascending=True).index.tolist()"
   ]
  },
  {
   "cell_type": "code",
   "execution_count": 7,
   "id": "71f79aa4",
   "metadata": {},
   "outputs": [
    {
     "data": {
      "application/javascript": [
       "\n",
       "            setTimeout(function() {\n",
       "                var nbb_cell_id = 7;\n",
       "                var nbb_unformatted_code = \"# # Code to check each value\\n# roles_list.pop()\";\n",
       "                var nbb_formatted_code = \"# # Code to check each value\\n# roles_list.pop()\";\n",
       "                var nbb_cells = Jupyter.notebook.get_cells();\n",
       "                for (var i = 0; i < nbb_cells.length; ++i) {\n",
       "                    if (nbb_cells[i].input_prompt_number == nbb_cell_id) {\n",
       "                        if (nbb_cells[i].get_text() == nbb_unformatted_code) {\n",
       "                             nbb_cells[i].set_text(nbb_formatted_code);\n",
       "                        }\n",
       "                        break;\n",
       "                    }\n",
       "                }\n",
       "            }, 500);\n",
       "            "
      ],
      "text/plain": [
       "<IPython.core.display.Javascript object>"
      ]
     },
     "metadata": {},
     "output_type": "display_data"
    }
   ],
   "source": [
    "# # Code to check each value\n",
    "# roles_list.pop()"
   ]
  },
  {
   "cell_type": "code",
   "execution_count": 8,
   "id": "f50de133",
   "metadata": {},
   "outputs": [
    {
     "data": {
      "application/javascript": [
       "\n",
       "            setTimeout(function() {\n",
       "                var nbb_cell_id = 8;\n",
       "                var nbb_unformatted_code = \"# # Create specific_roles_list for above popped value\\n# specific_roles_list = (\\n#     df.loc[\\n#         [index for index in df.index if \\\"Catholic prelate\\\" in df.loc[index, \\\"info\\\"]],\\n#         \\\"info_2\\\",\\n#     ]\\n#     .value_counts()\\n#     .index.tolist()\\n# )\";\n",
       "                var nbb_formatted_code = \"# # Create specific_roles_list for above popped value\\n# specific_roles_list = (\\n#     df.loc[\\n#         [index for index in df.index if \\\"Catholic prelate\\\" in df.loc[index, \\\"info\\\"]],\\n#         \\\"info_2\\\",\\n#     ]\\n#     .value_counts()\\n#     .index.tolist()\\n# )\";\n",
       "                var nbb_cells = Jupyter.notebook.get_cells();\n",
       "                for (var i = 0; i < nbb_cells.length; ++i) {\n",
       "                    if (nbb_cells[i].input_prompt_number == nbb_cell_id) {\n",
       "                        if (nbb_cells[i].get_text() == nbb_unformatted_code) {\n",
       "                             nbb_cells[i].set_text(nbb_formatted_code);\n",
       "                        }\n",
       "                        break;\n",
       "                    }\n",
       "                }\n",
       "            }, 500);\n",
       "            "
      ],
      "text/plain": [
       "<IPython.core.display.Javascript object>"
      ]
     },
     "metadata": {},
     "output_type": "display_data"
    }
   ],
   "source": [
    "# # Create specific_roles_list for above popped value\n",
    "# specific_roles_list = (\n",
    "#     df.loc[\n",
    "#         [index for index in df.index if \"Catholic prelate\" in df.loc[index, \"info\"]],\n",
    "#         \"info_2\",\n",
    "#     ]\n",
    "#     .value_counts()\n",
    "#     .index.tolist()\n",
    "# )"
   ]
  },
  {
   "cell_type": "code",
   "execution_count": 9,
   "id": "4e133ac8",
   "metadata": {},
   "outputs": [
    {
     "data": {
      "application/javascript": [
       "\n",
       "            setTimeout(function() {\n",
       "                var nbb_cell_id = 9;\n",
       "                var nbb_unformatted_code = \"# # Code to check each specific value\\n# specific_roles_list.pop()\";\n",
       "                var nbb_formatted_code = \"# # Code to check each specific value\\n# specific_roles_list.pop()\";\n",
       "                var nbb_cells = Jupyter.notebook.get_cells();\n",
       "                for (var i = 0; i < nbb_cells.length; ++i) {\n",
       "                    if (nbb_cells[i].input_prompt_number == nbb_cell_id) {\n",
       "                        if (nbb_cells[i].get_text() == nbb_unformatted_code) {\n",
       "                             nbb_cells[i].set_text(nbb_formatted_code);\n",
       "                        }\n",
       "                        break;\n",
       "                    }\n",
       "                }\n",
       "            }, 500);\n",
       "            "
      ],
      "text/plain": [
       "<IPython.core.display.Javascript object>"
      ]
     },
     "metadata": {},
     "output_type": "display_data"
    }
   ],
   "source": [
    "# # Code to check each specific value\n",
    "# specific_roles_list.pop()"
   ]
  },
  {
   "cell_type": "code",
   "execution_count": 10,
   "id": "05e0e4ad",
   "metadata": {},
   "outputs": [
    {
     "data": {
      "application/javascript": [
       "\n",
       "            setTimeout(function() {\n",
       "                var nbb_cell_id = 10;\n",
       "                var nbb_unformatted_code = \"# # Example code to quick-screen values that may overlap categories\\n# df.loc[[index for index in df.index if \\\"defrocked\\\" in df.loc[index, \\\"info\\\"]]]\";\n",
       "                var nbb_formatted_code = \"# # Example code to quick-screen values that may overlap categories\\n# df.loc[[index for index in df.index if \\\"defrocked\\\" in df.loc[index, \\\"info\\\"]]]\";\n",
       "                var nbb_cells = Jupyter.notebook.get_cells();\n",
       "                for (var i = 0; i < nbb_cells.length; ++i) {\n",
       "                    if (nbb_cells[i].input_prompt_number == nbb_cell_id) {\n",
       "                        if (nbb_cells[i].get_text() == nbb_unformatted_code) {\n",
       "                             nbb_cells[i].set_text(nbb_formatted_code);\n",
       "                        }\n",
       "                        break;\n",
       "                    }\n",
       "                }\n",
       "            }, 500);\n",
       "            "
      ],
      "text/plain": [
       "<IPython.core.display.Javascript object>"
      ]
     },
     "metadata": {},
     "output_type": "display_data"
    }
   ],
   "source": [
    "# # Example code to quick-screen values that may overlap categories\n",
    "# df.loc[[index for index in df.index if \"defrocked\" in df.loc[index, \"info\"]]]"
   ]
  },
  {
   "cell_type": "code",
   "execution_count": 11,
   "id": "dc22b74c",
   "metadata": {},
   "outputs": [
    {
     "data": {
      "application/javascript": [
       "\n",
       "            setTimeout(function() {\n",
       "                var nbb_cell_id = 11;\n",
       "                var nbb_unformatted_code = \"# # Example code to quick-check a specific entry\\n# df[df[\\\"info_2\\\"] == \\\"defrocked Catholic prelate\\\"]\";\n",
       "                var nbb_formatted_code = \"# # Example code to quick-check a specific entry\\n# df[df[\\\"info_2\\\"] == \\\"defrocked Catholic prelate\\\"]\";\n",
       "                var nbb_cells = Jupyter.notebook.get_cells();\n",
       "                for (var i = 0; i < nbb_cells.length; ++i) {\n",
       "                    if (nbb_cells[i].input_prompt_number == nbb_cell_id) {\n",
       "                        if (nbb_cells[i].get_text() == nbb_unformatted_code) {\n",
       "                             nbb_cells[i].set_text(nbb_formatted_code);\n",
       "                        }\n",
       "                        break;\n",
       "                    }\n",
       "                }\n",
       "            }, 500);\n",
       "            "
      ],
      "text/plain": [
       "<IPython.core.display.Javascript object>"
      ]
     },
     "metadata": {},
     "output_type": "display_data"
    }
   ],
   "source": [
    "# # Example code to quick-check a specific entry\n",
    "# df[df[\"info_2\"] == \"defrocked Catholic prelate\"]"
   ]
  },
  {
   "cell_type": "markdown",
   "id": "7ef46319",
   "metadata": {},
   "source": [
    "#### Creating Lists for Each `known_for` Category"
   ]
  },
  {
   "cell_type": "code",
   "execution_count": 12,
   "id": "08ee092c",
   "metadata": {},
   "outputs": [
    {
     "data": {
      "application/javascript": [
       "\n",
       "            setTimeout(function() {\n",
       "                var nbb_cell_id = 12;\n",
       "                var nbb_unformatted_code = \"# Creating lists for each category\\npolitics_govt_law = [\\n    \\\"Patriotic\\\",\\n]\\n\\narts = []\\nsports = []\\nsciences = []\\n\\nbusiness_farming = []\\nacademia_humanities = []\\nlaw_enf_military_operator = []\\nspiritual = [\\n    \\\"Syro Malabar Catholic prelate\\\",\\n    \\\"Eastern Catholic prelate\\\",\\n    \\\"clandestine Catholic prelate\\\",\\n    \\\"Old Catholic prelate\\\",\\n    \\\"Catholic prelate and theologian\\\",\\n    \\\"Catholic prelate and first cardinal\\\",\\n    \\\"Maronite Catholic prelate\\\",\\n    \\\"Catholic prelate and Cardinal\\\",\\n    \\\"Coptic Catholic prelate\\\",\\n    \\\"Catholic prelate and bishop\\\",\\n    \\\"Catholic prelate and cardinal\\\",\\n    \\\"Catholic prelate and\\\",\\n    \\\"and Catholic prelate\\\",\\n    \\\"Catholic prelate\\\",\\n]\\nsocial = []\\ncrime = [\\n    \\\"defrocked\\\",\\n]\\nevent_record_other = []\\nother_species = []\";\n",
       "                var nbb_formatted_code = \"# Creating lists for each category\\npolitics_govt_law = [\\n    \\\"Patriotic\\\",\\n]\\n\\narts = []\\nsports = []\\nsciences = []\\n\\nbusiness_farming = []\\nacademia_humanities = []\\nlaw_enf_military_operator = []\\nspiritual = [\\n    \\\"Syro Malabar Catholic prelate\\\",\\n    \\\"Eastern Catholic prelate\\\",\\n    \\\"clandestine Catholic prelate\\\",\\n    \\\"Old Catholic prelate\\\",\\n    \\\"Catholic prelate and theologian\\\",\\n    \\\"Catholic prelate and first cardinal\\\",\\n    \\\"Maronite Catholic prelate\\\",\\n    \\\"Catholic prelate and Cardinal\\\",\\n    \\\"Coptic Catholic prelate\\\",\\n    \\\"Catholic prelate and bishop\\\",\\n    \\\"Catholic prelate and cardinal\\\",\\n    \\\"Catholic prelate and\\\",\\n    \\\"and Catholic prelate\\\",\\n    \\\"Catholic prelate\\\",\\n]\\nsocial = []\\ncrime = [\\n    \\\"defrocked\\\",\\n]\\nevent_record_other = []\\nother_species = []\";\n",
       "                var nbb_cells = Jupyter.notebook.get_cells();\n",
       "                for (var i = 0; i < nbb_cells.length; ++i) {\n",
       "                    if (nbb_cells[i].input_prompt_number == nbb_cell_id) {\n",
       "                        if (nbb_cells[i].get_text() == nbb_unformatted_code) {\n",
       "                             nbb_cells[i].set_text(nbb_formatted_code);\n",
       "                        }\n",
       "                        break;\n",
       "                    }\n",
       "                }\n",
       "            }, 500);\n",
       "            "
      ],
      "text/plain": [
       "<IPython.core.display.Javascript object>"
      ]
     },
     "metadata": {},
     "output_type": "display_data"
    }
   ],
   "source": [
    "# Creating lists for each category\n",
    "politics_govt_law = [\n",
    "    \"Patriotic\",\n",
    "]\n",
    "\n",
    "arts = []\n",
    "sports = []\n",
    "sciences = []\n",
    "\n",
    "business_farming = []\n",
    "academia_humanities = []\n",
    "law_enf_military_operator = []\n",
    "spiritual = [\n",
    "    \"Syro Malabar Catholic prelate\",\n",
    "    \"Eastern Catholic prelate\",\n",
    "    \"clandestine Catholic prelate\",\n",
    "    \"Old Catholic prelate\",\n",
    "    \"Catholic prelate and theologian\",\n",
    "    \"Catholic prelate and first cardinal\",\n",
    "    \"Maronite Catholic prelate\",\n",
    "    \"Catholic prelate and Cardinal\",\n",
    "    \"Coptic Catholic prelate\",\n",
    "    \"Catholic prelate and bishop\",\n",
    "    \"Catholic prelate and cardinal\",\n",
    "    \"Catholic prelate and\",\n",
    "    \"and Catholic prelate\",\n",
    "    \"Catholic prelate\",\n",
    "]\n",
    "social = []\n",
    "crime = [\n",
    "    \"defrocked\",\n",
    "]\n",
    "event_record_other = []\n",
    "other_species = []"
   ]
  },
  {
   "cell_type": "markdown",
   "id": "be3a9f1f",
   "metadata": {},
   "source": [
    "#### Creating `known_for_dict` Dictionary of Category Keys and Specific Role Lists of Values"
   ]
  },
  {
   "cell_type": "code",
   "execution_count": 13,
   "id": "624f57d9",
   "metadata": {},
   "outputs": [
    {
     "data": {
      "application/javascript": [
       "\n",
       "            setTimeout(function() {\n",
       "                var nbb_cell_id = 13;\n",
       "                var nbb_unformatted_code = \"# Combining separate lists into one dictionary\\nknown_for_dict = {\\n    \\\"social\\\": social,\\n    \\\"spiritual\\\": spiritual,\\n    \\\"academia_humanities\\\": academia_humanities,\\n    \\\"business_farming\\\": business_farming,\\n    \\\"sciences\\\": sciences,\\n    \\\"politics_govt_law\\\": politics_govt_law,\\n    \\\"law_enf_military_operator\\\": law_enf_military_operator,\\n    \\\"crime\\\": crime,\\n    \\\"event_record_other\\\": event_record_other,\\n    \\\"other_species\\\": other_species,\\n    \\\"arts\\\": arts,\\n    \\\"sports\\\": sports,\\n}\";\n",
       "                var nbb_formatted_code = \"# Combining separate lists into one dictionary\\nknown_for_dict = {\\n    \\\"social\\\": social,\\n    \\\"spiritual\\\": spiritual,\\n    \\\"academia_humanities\\\": academia_humanities,\\n    \\\"business_farming\\\": business_farming,\\n    \\\"sciences\\\": sciences,\\n    \\\"politics_govt_law\\\": politics_govt_law,\\n    \\\"law_enf_military_operator\\\": law_enf_military_operator,\\n    \\\"crime\\\": crime,\\n    \\\"event_record_other\\\": event_record_other,\\n    \\\"other_species\\\": other_species,\\n    \\\"arts\\\": arts,\\n    \\\"sports\\\": sports,\\n}\";\n",
       "                var nbb_cells = Jupyter.notebook.get_cells();\n",
       "                for (var i = 0; i < nbb_cells.length; ++i) {\n",
       "                    if (nbb_cells[i].input_prompt_number == nbb_cell_id) {\n",
       "                        if (nbb_cells[i].get_text() == nbb_unformatted_code) {\n",
       "                             nbb_cells[i].set_text(nbb_formatted_code);\n",
       "                        }\n",
       "                        break;\n",
       "                    }\n",
       "                }\n",
       "            }, 500);\n",
       "            "
      ],
      "text/plain": [
       "<IPython.core.display.Javascript object>"
      ]
     },
     "metadata": {},
     "output_type": "display_data"
    }
   ],
   "source": [
    "# Combining separate lists into one dictionary\n",
    "known_for_dict = {\n",
    "    \"social\": social,\n",
    "    \"spiritual\": spiritual,\n",
    "    \"academia_humanities\": academia_humanities,\n",
    "    \"business_farming\": business_farming,\n",
    "    \"sciences\": sciences,\n",
    "    \"politics_govt_law\": politics_govt_law,\n",
    "    \"law_enf_military_operator\": law_enf_military_operator,\n",
    "    \"crime\": crime,\n",
    "    \"event_record_other\": event_record_other,\n",
    "    \"other_species\": other_species,\n",
    "    \"arts\": arts,\n",
    "    \"sports\": sports,\n",
    "}"
   ]
  },
  {
   "cell_type": "markdown",
   "id": "21226ac6",
   "metadata": {},
   "source": [
    "#### Extracting Category from `info_2`"
   ]
  },
  {
   "cell_type": "code",
   "execution_count": 14,
   "id": "5b4cac58",
   "metadata": {},
   "outputs": [
    {
     "name": "stdout",
     "output_type": "stream",
     "text": [
      "CPU times: total: 8.33 s\n",
      "Wall time: 8.33 s\n"
     ]
    },
    {
     "data": {
      "text/html": [
       "<div>\n",
       "<style scoped>\n",
       "    .dataframe tbody tr th:only-of-type {\n",
       "        vertical-align: middle;\n",
       "    }\n",
       "\n",
       "    .dataframe tbody tr th {\n",
       "        vertical-align: top;\n",
       "    }\n",
       "\n",
       "    .dataframe thead th {\n",
       "        text-align: right;\n",
       "    }\n",
       "</style>\n",
       "<table border=\"1\" class=\"dataframe\">\n",
       "  <thead>\n",
       "    <tr style=\"text-align: right;\">\n",
       "      <th></th>\n",
       "      <th>day</th>\n",
       "      <th>name</th>\n",
       "      <th>info</th>\n",
       "      <th>link</th>\n",
       "      <th>num_references</th>\n",
       "      <th>year</th>\n",
       "      <th>month</th>\n",
       "      <th>info_parenth</th>\n",
       "      <th>info_1</th>\n",
       "      <th>info_2</th>\n",
       "      <th>info_3</th>\n",
       "      <th>info_4</th>\n",
       "      <th>info_5</th>\n",
       "      <th>info_6</th>\n",
       "      <th>info_7</th>\n",
       "      <th>info_8</th>\n",
       "      <th>info_9</th>\n",
       "      <th>info_10</th>\n",
       "      <th>info_11</th>\n",
       "      <th>age</th>\n",
       "      <th>cause_of_death</th>\n",
       "      <th>place_1</th>\n",
       "      <th>place_2</th>\n",
       "      <th>info_parenth_copy</th>\n",
       "      <th>log_num_references</th>\n",
       "      <th>sciences</th>\n",
       "      <th>social</th>\n",
       "      <th>spiritual</th>\n",
       "      <th>academia_humanities</th>\n",
       "      <th>business_farming</th>\n",
       "      <th>arts</th>\n",
       "      <th>sports</th>\n",
       "      <th>law_enf_military_operator</th>\n",
       "      <th>politics_govt_law</th>\n",
       "      <th>crime</th>\n",
       "      <th>event_record_other</th>\n",
       "      <th>other_species</th>\n",
       "      <th>num_categories</th>\n",
       "    </tr>\n",
       "  </thead>\n",
       "  <tbody>\n",
       "    <tr>\n",
       "      <th>86950</th>\n",
       "      <td>20</td>\n",
       "      <td>John Baptist Kaggwa</td>\n",
       "      <td>, 77, Ugandan Roman Catholic prelate, bishop of Masaka , COVID-19.</td>\n",
       "      <td>https://en.wikipedia.org/wiki/John_Baptist_Kaggwa</td>\n",
       "      <td>9</td>\n",
       "      <td>2021</td>\n",
       "      <td>January</td>\n",
       "      <td></td>\n",
       "      <td>None</td>\n",
       "      <td></td>\n",
       "      <td>bishop of Masaka</td>\n",
       "      <td>COVID</td>\n",
       "      <td>None</td>\n",
       "      <td>None</td>\n",
       "      <td>None</td>\n",
       "      <td>None</td>\n",
       "      <td>None</td>\n",
       "      <td>None</td>\n",
       "      <td>None</td>\n",
       "      <td>77.0</td>\n",
       "      <td>None</td>\n",
       "      <td>Uganda</td>\n",
       "      <td>Italy</td>\n",
       "      <td>1998 2019</td>\n",
       "      <td>2.302585</td>\n",
       "      <td>0</td>\n",
       "      <td>0</td>\n",
       "      <td>1</td>\n",
       "      <td>0</td>\n",
       "      <td>0</td>\n",
       "      <td>0</td>\n",
       "      <td>0</td>\n",
       "      <td>0</td>\n",
       "      <td>0</td>\n",
       "      <td>0</td>\n",
       "      <td>0</td>\n",
       "      <td>0</td>\n",
       "      <td>1</td>\n",
       "    </tr>\n",
       "    <tr>\n",
       "      <th>10945</th>\n",
       "      <td>3</td>\n",
       "      <td>John Joseph O'Connor</td>\n",
       "      <td>, 80, American Roman Catholic prelate.</td>\n",
       "      <td>https://en.wikipedia.org/wiki/John_O%27Connor_(cardinal)</td>\n",
       "      <td>86</td>\n",
       "      <td>2000</td>\n",
       "      <td>May</td>\n",
       "      <td>None</td>\n",
       "      <td>None</td>\n",
       "      <td></td>\n",
       "      <td>None</td>\n",
       "      <td>None</td>\n",
       "      <td>None</td>\n",
       "      <td>None</td>\n",
       "      <td>None</td>\n",
       "      <td>None</td>\n",
       "      <td>None</td>\n",
       "      <td>None</td>\n",
       "      <td>None</td>\n",
       "      <td>80.0</td>\n",
       "      <td>None</td>\n",
       "      <td>United States of America</td>\n",
       "      <td>Italy</td>\n",
       "      <td>None</td>\n",
       "      <td>4.465908</td>\n",
       "      <td>0</td>\n",
       "      <td>0</td>\n",
       "      <td>1</td>\n",
       "      <td>0</td>\n",
       "      <td>0</td>\n",
       "      <td>0</td>\n",
       "      <td>0</td>\n",
       "      <td>0</td>\n",
       "      <td>0</td>\n",
       "      <td>0</td>\n",
       "      <td>0</td>\n",
       "      <td>0</td>\n",
       "      <td>1</td>\n",
       "    </tr>\n",
       "  </tbody>\n",
       "</table>\n",
       "</div>"
      ],
      "text/plain": [
       "      day                  name  \\\n",
       "86950  20   John Baptist Kaggwa   \n",
       "10945   3  John Joseph O'Connor   \n",
       "\n",
       "                                                                     info  \\\n",
       "86950  , 77, Ugandan Roman Catholic prelate, bishop of Masaka , COVID-19.   \n",
       "10945                              , 80, American Roman Catholic prelate.   \n",
       "\n",
       "                                                           link  \\\n",
       "86950         https://en.wikipedia.org/wiki/John_Baptist_Kaggwa   \n",
       "10945  https://en.wikipedia.org/wiki/John_O%27Connor_(cardinal)   \n",
       "\n",
       "       num_references  year    month info_parenth info_1 info_2  \\\n",
       "86950               9  2021  January                None          \n",
       "10945              86  2000      May         None   None          \n",
       "\n",
       "                 info_3 info_4 info_5 info_6 info_7 info_8 info_9 info_10  \\\n",
       "86950  bishop of Masaka  COVID   None   None   None   None   None    None   \n",
       "10945              None   None   None   None   None   None   None    None   \n",
       "\n",
       "      info_11   age cause_of_death                   place_1 place_2  \\\n",
       "86950    None  77.0           None                    Uganda   Italy   \n",
       "10945    None  80.0           None  United States of America   Italy   \n",
       "\n",
       "      info_parenth_copy  log_num_references  sciences  social  spiritual  \\\n",
       "86950         1998 2019            2.302585         0       0          1   \n",
       "10945              None            4.465908         0       0          1   \n",
       "\n",
       "       academia_humanities  business_farming  arts  sports  \\\n",
       "86950                    0                 0     0       0   \n",
       "10945                    0                 0     0       0   \n",
       "\n",
       "       law_enf_military_operator  politics_govt_law  crime  \\\n",
       "86950                          0                  0      0   \n",
       "10945                          0                  0      0   \n",
       "\n",
       "       event_record_other  other_species  num_categories  \n",
       "86950                   0              0               1  \n",
       "10945                   0              0               1  "
      ]
     },
     "execution_count": 14,
     "metadata": {},
     "output_type": "execute_result"
    },
    {
     "data": {
      "application/javascript": [
       "\n",
       "            setTimeout(function() {\n",
       "                var nbb_cell_id = 14;\n",
       "                var nbb_unformatted_code = \"%%time\\n\\n# Dictionary version\\nsearch_dict = known_for_dict\\n\\n# Column to check\\ncolumn = 'info_2'\\n\\n# Dataframe\\ndataframe = df[column].notna()\\n\\n# For loop to find role in column and extract it as category\\nfor category, category_lst in search_dict.items():\\n    for role in category_lst:\\n        for index in dataframe.index:\\n            item = df.loc[index, column]\\n            if item:\\n                if role in item:\\n                    df.loc[index, category] = 1\\n                    df.loc[index, column] = item.replace(role, '').strip()\\n\\n# Updating num_categories\\ndf[\\\"num_categories\\\"] = df[known_for_dict.keys()].sum(axis=1)\\n\\n# Checking a sample of rows\\ndf[df['spiritual'] ==1].sample(2)\";\n",
       "                var nbb_formatted_code = \"%%time\\n\\n# Dictionary version\\nsearch_dict = known_for_dict\\n\\n# Column to check\\ncolumn = 'info_2'\\n\\n# Dataframe\\ndataframe = df[column].notna()\\n\\n# For loop to find role in column and extract it as category\\nfor category, category_lst in search_dict.items():\\n    for role in category_lst:\\n        for index in dataframe.index:\\n            item = df.loc[index, column]\\n            if item:\\n                if role in item:\\n                    df.loc[index, category] = 1\\n                    df.loc[index, column] = item.replace(role, '').strip()\\n\\n# Updating num_categories\\ndf[\\\"num_categories\\\"] = df[known_for_dict.keys()].sum(axis=1)\\n\\n# Checking a sample of rows\\ndf[df['spiritual'] ==1].sample(2)\";\n",
       "                var nbb_cells = Jupyter.notebook.get_cells();\n",
       "                for (var i = 0; i < nbb_cells.length; ++i) {\n",
       "                    if (nbb_cells[i].input_prompt_number == nbb_cell_id) {\n",
       "                        if (nbb_cells[i].get_text() == nbb_unformatted_code) {\n",
       "                             nbb_cells[i].set_text(nbb_formatted_code);\n",
       "                        }\n",
       "                        break;\n",
       "                    }\n",
       "                }\n",
       "            }, 500);\n",
       "            "
      ],
      "text/plain": [
       "<IPython.core.display.Javascript object>"
      ]
     },
     "metadata": {},
     "output_type": "display_data"
    }
   ],
   "source": [
    "%%time\n",
    "\n",
    "# Dictionary version\n",
    "search_dict = known_for_dict\n",
    "\n",
    "# Column to check\n",
    "column = 'info_2'\n",
    "\n",
    "# Dataframe\n",
    "dataframe = df[column].notna()\n",
    "\n",
    "# For loop to find role in column and extract it as category\n",
    "for category, category_lst in search_dict.items():\n",
    "    for role in category_lst:\n",
    "        for index in dataframe.index:\n",
    "            item = df.loc[index, column]\n",
    "            if item:\n",
    "                if role in item:\n",
    "                    df.loc[index, category] = 1\n",
    "                    df.loc[index, column] = item.replace(role, '').strip()\n",
    "\n",
    "# Updating num_categories\n",
    "df[\"num_categories\"] = df[known_for_dict.keys()].sum(axis=1)\n",
    "\n",
    "# Checking a sample of rows\n",
    "df[df['spiritual'] ==1].sample(2)"
   ]
  },
  {
   "cell_type": "markdown",
   "id": "d0b73da5",
   "metadata": {},
   "source": [
    "#### Checking the Number of Rows without a First Category"
   ]
  },
  {
   "cell_type": "code",
   "execution_count": 15,
   "id": "61a1b437",
   "metadata": {},
   "outputs": [
    {
     "name": "stdout",
     "output_type": "stream",
     "text": [
      "There are 44902 entries without any known_for category.\n"
     ]
    },
    {
     "data": {
      "application/javascript": [
       "\n",
       "            setTimeout(function() {\n",
       "                var nbb_cell_id = 15;\n",
       "                var nbb_unformatted_code = \"#### Checking the number of rows without a first category\\nprint(\\n    f'There are {len(df[df[\\\"num_categories\\\"]==0])} entries without any known_for category.'\\n)\";\n",
       "                var nbb_formatted_code = \"#### Checking the number of rows without a first category\\nprint(\\n    f'There are {len(df[df[\\\"num_categories\\\"]==0])} entries without any known_for category.'\\n)\";\n",
       "                var nbb_cells = Jupyter.notebook.get_cells();\n",
       "                for (var i = 0; i < nbb_cells.length; ++i) {\n",
       "                    if (nbb_cells[i].input_prompt_number == nbb_cell_id) {\n",
       "                        if (nbb_cells[i].get_text() == nbb_unformatted_code) {\n",
       "                             nbb_cells[i].set_text(nbb_formatted_code);\n",
       "                        }\n",
       "                        break;\n",
       "                    }\n",
       "                }\n",
       "            }, 500);\n",
       "            "
      ],
      "text/plain": [
       "<IPython.core.display.Javascript object>"
      ]
     },
     "metadata": {},
     "output_type": "display_data"
    }
   ],
   "source": [
    "#### Checking the number of rows without a first category\n",
    "print(\n",
    "    f'There are {len(df[df[\"num_categories\"]==0])} entries without any known_for category.'\n",
    ")"
   ]
  },
  {
   "cell_type": "markdown",
   "id": "26c2381b",
   "metadata": {},
   "source": [
    "#### Observations:\n",
    "- We will proceed to rebuild `known_for_dict` for the next iteration."
   ]
  },
  {
   "cell_type": "markdown",
   "id": "2b50c5b4",
   "metadata": {},
   "source": [
    "#### Finding `known_for` Roles in `info_2`"
   ]
  },
  {
   "cell_type": "code",
   "execution_count": 16,
   "id": "e2c9c3e0",
   "metadata": {},
   "outputs": [
    {
     "data": {
      "application/javascript": [
       "\n",
       "            setTimeout(function() {\n",
       "                var nbb_cell_id = 16;\n",
       "                var nbb_unformatted_code = \"# Obtaining values for column and their counts\\nroles_list = df[\\\"info_2\\\"].value_counts(ascending=True).index.tolist()\";\n",
       "                var nbb_formatted_code = \"# Obtaining values for column and their counts\\nroles_list = df[\\\"info_2\\\"].value_counts(ascending=True).index.tolist()\";\n",
       "                var nbb_cells = Jupyter.notebook.get_cells();\n",
       "                for (var i = 0; i < nbb_cells.length; ++i) {\n",
       "                    if (nbb_cells[i].input_prompt_number == nbb_cell_id) {\n",
       "                        if (nbb_cells[i].get_text() == nbb_unformatted_code) {\n",
       "                             nbb_cells[i].set_text(nbb_formatted_code);\n",
       "                        }\n",
       "                        break;\n",
       "                    }\n",
       "                }\n",
       "            }, 500);\n",
       "            "
      ],
      "text/plain": [
       "<IPython.core.display.Javascript object>"
      ]
     },
     "metadata": {},
     "output_type": "display_data"
    }
   ],
   "source": [
    "# Obtaining values for column and their counts\n",
    "roles_list = df[\"info_2\"].value_counts(ascending=True).index.tolist()"
   ]
  },
  {
   "cell_type": "code",
   "execution_count": 17,
   "id": "dee4b2ce",
   "metadata": {},
   "outputs": [
    {
     "data": {
      "application/javascript": [
       "\n",
       "            setTimeout(function() {\n",
       "                var nbb_cell_id = 17;\n",
       "                var nbb_unformatted_code = \"# # Code to check each value\\n# roles_list.pop()\";\n",
       "                var nbb_formatted_code = \"# # Code to check each value\\n# roles_list.pop()\";\n",
       "                var nbb_cells = Jupyter.notebook.get_cells();\n",
       "                for (var i = 0; i < nbb_cells.length; ++i) {\n",
       "                    if (nbb_cells[i].input_prompt_number == nbb_cell_id) {\n",
       "                        if (nbb_cells[i].get_text() == nbb_unformatted_code) {\n",
       "                             nbb_cells[i].set_text(nbb_formatted_code);\n",
       "                        }\n",
       "                        break;\n",
       "                    }\n",
       "                }\n",
       "            }, 500);\n",
       "            "
      ],
      "text/plain": [
       "<IPython.core.display.Javascript object>"
      ]
     },
     "metadata": {},
     "output_type": "display_data"
    }
   ],
   "source": [
    "# # Code to check each value\n",
    "# roles_list.pop()"
   ]
  },
  {
   "cell_type": "code",
   "execution_count": 18,
   "id": "ad5dfeec",
   "metadata": {},
   "outputs": [
    {
     "data": {
      "application/javascript": [
       "\n",
       "            setTimeout(function() {\n",
       "                var nbb_cell_id = 18;\n",
       "                var nbb_unformatted_code = \"# # Create specific_roles_list for above popped value\\n# specific_roles_list = (\\n#     df.loc[\\n#         [index for index in df.index if \\\"physicist\\\" in df.loc[index, \\\"info\\\"]], \\\"info_2\\\",\\n#     ]\\n#     .value_counts()\\n#     .index.tolist()\\n# )\";\n",
       "                var nbb_formatted_code = \"# # Create specific_roles_list for above popped value\\n# specific_roles_list = (\\n#     df.loc[\\n#         [index for index in df.index if \\\"physicist\\\" in df.loc[index, \\\"info\\\"]], \\\"info_2\\\",\\n#     ]\\n#     .value_counts()\\n#     .index.tolist()\\n# )\";\n",
       "                var nbb_cells = Jupyter.notebook.get_cells();\n",
       "                for (var i = 0; i < nbb_cells.length; ++i) {\n",
       "                    if (nbb_cells[i].input_prompt_number == nbb_cell_id) {\n",
       "                        if (nbb_cells[i].get_text() == nbb_unformatted_code) {\n",
       "                             nbb_cells[i].set_text(nbb_formatted_code);\n",
       "                        }\n",
       "                        break;\n",
       "                    }\n",
       "                }\n",
       "            }, 500);\n",
       "            "
      ],
      "text/plain": [
       "<IPython.core.display.Javascript object>"
      ]
     },
     "metadata": {},
     "output_type": "display_data"
    }
   ],
   "source": [
    "# # Create specific_roles_list for above popped value\n",
    "# specific_roles_list = (\n",
    "#     df.loc[\n",
    "#         [index for index in df.index if \"physicist\" in df.loc[index, \"info\"]], \"info_2\",\n",
    "#     ]\n",
    "#     .value_counts()\n",
    "#     .index.tolist()\n",
    "# )"
   ]
  },
  {
   "cell_type": "code",
   "execution_count": 19,
   "id": "ee700fba",
   "metadata": {},
   "outputs": [
    {
     "data": {
      "application/javascript": [
       "\n",
       "            setTimeout(function() {\n",
       "                var nbb_cell_id = 19;\n",
       "                var nbb_unformatted_code = \"# # Code to check each specific value\\n# specific_roles_list.pop()\";\n",
       "                var nbb_formatted_code = \"# # Code to check each specific value\\n# specific_roles_list.pop()\";\n",
       "                var nbb_cells = Jupyter.notebook.get_cells();\n",
       "                for (var i = 0; i < nbb_cells.length; ++i) {\n",
       "                    if (nbb_cells[i].input_prompt_number == nbb_cell_id) {\n",
       "                        if (nbb_cells[i].get_text() == nbb_unformatted_code) {\n",
       "                             nbb_cells[i].set_text(nbb_formatted_code);\n",
       "                        }\n",
       "                        break;\n",
       "                    }\n",
       "                }\n",
       "            }, 500);\n",
       "            "
      ],
      "text/plain": [
       "<IPython.core.display.Javascript object>"
      ]
     },
     "metadata": {},
     "output_type": "display_data"
    }
   ],
   "source": [
    "# # Code to check each specific value\n",
    "# specific_roles_list.pop()"
   ]
  },
  {
   "cell_type": "code",
   "execution_count": 20,
   "id": "cdecadd8",
   "metadata": {},
   "outputs": [
    {
     "data": {
      "application/javascript": [
       "\n",
       "            setTimeout(function() {\n",
       "                var nbb_cell_id = 20;\n",
       "                var nbb_unformatted_code = \"# # Example code to quick-screen values that may overlap categories\\n# df.loc[\\n#     [index for index in df.index if \\\"physicist and science\\\" in df.loc[index, \\\"info\\\"]]\\n# ]\";\n",
       "                var nbb_formatted_code = \"# # Example code to quick-screen values that may overlap categories\\n# df.loc[\\n#     [index for index in df.index if \\\"physicist and science\\\" in df.loc[index, \\\"info\\\"]]\\n# ]\";\n",
       "                var nbb_cells = Jupyter.notebook.get_cells();\n",
       "                for (var i = 0; i < nbb_cells.length; ++i) {\n",
       "                    if (nbb_cells[i].input_prompt_number == nbb_cell_id) {\n",
       "                        if (nbb_cells[i].get_text() == nbb_unformatted_code) {\n",
       "                             nbb_cells[i].set_text(nbb_formatted_code);\n",
       "                        }\n",
       "                        break;\n",
       "                    }\n",
       "                }\n",
       "            }, 500);\n",
       "            "
      ],
      "text/plain": [
       "<IPython.core.display.Javascript object>"
      ]
     },
     "metadata": {},
     "output_type": "display_data"
    }
   ],
   "source": [
    "# # Example code to quick-screen values that may overlap categories\n",
    "# df.loc[\n",
    "#     [index for index in df.index if \"physicist and science\" in df.loc[index, \"info\"]]\n",
    "# ]"
   ]
  },
  {
   "cell_type": "code",
   "execution_count": 21,
   "id": "69131474",
   "metadata": {},
   "outputs": [
    {
     "data": {
      "application/javascript": [
       "\n",
       "            setTimeout(function() {\n",
       "                var nbb_cell_id = 21;\n",
       "                var nbb_unformatted_code = \"# # Example code to quick-check a specific entry\\n# df[df[\\\"info_2\\\"] == \\\"health physicist\\\"]\";\n",
       "                var nbb_formatted_code = \"# # Example code to quick-check a specific entry\\n# df[df[\\\"info_2\\\"] == \\\"health physicist\\\"]\";\n",
       "                var nbb_cells = Jupyter.notebook.get_cells();\n",
       "                for (var i = 0; i < nbb_cells.length; ++i) {\n",
       "                    if (nbb_cells[i].input_prompt_number == nbb_cell_id) {\n",
       "                        if (nbb_cells[i].get_text() == nbb_unformatted_code) {\n",
       "                             nbb_cells[i].set_text(nbb_formatted_code);\n",
       "                        }\n",
       "                        break;\n",
       "                    }\n",
       "                }\n",
       "            }, 500);\n",
       "            "
      ],
      "text/plain": [
       "<IPython.core.display.Javascript object>"
      ]
     },
     "metadata": {},
     "output_type": "display_data"
    }
   ],
   "source": [
    "# # Example code to quick-check a specific entry\n",
    "# df[df[\"info_2\"] == \"health physicist\"]"
   ]
  },
  {
   "cell_type": "markdown",
   "id": "dbaf9195",
   "metadata": {},
   "source": [
    "#### Creating Lists for Each `known_for` Category"
   ]
  },
  {
   "cell_type": "code",
   "execution_count": 22,
   "id": "68dd5b05",
   "metadata": {},
   "outputs": [
    {
     "data": {
      "application/javascript": [
       "\n",
       "            setTimeout(function() {\n",
       "                var nbb_cell_id = 22;\n",
       "                var nbb_unformatted_code = \"# Creating lists for each category\\npolitics_govt_law = [\\\"arms control expert\\\", \\\"refusenik\\\"]\\n\\narts = []\\nsports = []\\nsciences = [\\n    \\\"physicist and group leader in the Manhattan Project\\\",\\n    \\\"physicist and molecular biologist\\\",\\n    \\\"physicist and computer research executive\\\",\\n    \\\"Nobel Prize winning biophysicist\\\",\\n    \\\"physicist and grandson of Yuan Shikai\\\",\\n    \\\"physicist and polymer researcher\\\",\\n    \\\"physicist and hydrodynamicist\\\",\\n    \\\"nuclear physicist and inventor\\\",\\n    \\\"physicist and a leader in controlled fusion research\\\",\\n    \\\"computational physicist and the father of plasma based acceleration techniques\\\",\\n    \\\"biophysicist and theoretical ecologist\\\",\\n    \\\"physicist and co winner of Nobel Prize in Physics in\\\",\\n    \\\"leading physicist in the study of waves\\\",\\n    \\\"physicist and Nobel laureate\\\",\\n    \\\"physicist ane engineer\\\",\\n    \\\"astrophysicist and radio astronomer\\\",\\n    \\\"physicist and artificial intelligence pioneer\\\",\\n    \\\"physicist and civil engineer\\\",\\n    'physicist who coined the term \\\"black hole\\\"',\\n    \\\"physicist who co discovered the Wigner Seitz cell\\\",\\n    \\\"physicist and former director of SLAC\\\",\\n    \\\"physicist at Uppsala University\\\",\\n    \\\"physicist who won the Nobel Prize for Physics in\\\",\\n    \\\"physicist who built the first laser\\\",\\n    \\\"physicist who was a pioneer of solid state physics\\\",\\n    \\\"molecular biophysicist and crystallographer\\\",\\n    \\\"physicist and member of the Manhattan Project\\\",\\n    \\\"physicist and color scientist\\\",\\n    \\\"marine geologist and geophysicist\\\",\\n    \\\"theoretical physicist and astronomer\\\",\\n    \\\"physicist and electronics engineer\\\",\\n    \\\"physicist and inventor of the first digital computer\\\",\\n    \\\"pioneering biophysicist and virologist\\\",\\n    \\\"physicist Nobel Prize in Physics laureate\\\",\\n    \\\"theoretical physicist and magneto ionic theory pioneer\\\",\\n    \\\"theoretical physicist and Nobel Prize laureate\\\",\\n    \\\"physicist and jet engine designer\\\",\\n    \\\"geophysicist and oceanographer\\\",\\n    \\\"physicist and winner of the Nobel Prize in Physics\\\",\\n    \\\"physicist known for the Casimir effect\\\",\\n    \\\"nuclear physicist who worked at the Manhattan Project Metallurgical Laboratory\\\",\\n    \\\"physicist and team member of the Manhattan Project\\\",\\n    \\\"biophysicist and biochemist\\\",\\n    \\\"experimental physicist and scientist\\\",\\n    \\\"physicist and radiation health physics pioneer\\\",\\n    \\\"physicist and co inventor of the laser with Charles Townes\\\",\\n    \\\"nuclear engineer and physicist\\\",\\n    'physicist known as \\\"the father of Pulsed Power\\\"',\\n    \\\"physicist and physical chemist\\\",\\n    \\\"chemist and nuclear physicist\\\",\\n    \\\"physicist and recipient of the Nobel Prize in Physics\\\",\\n    \\\"differential geometer and mathematical physicist\\\",\\n    \\\"physicist and statistician\\\",\\n    \\\"physicist and father of Joan Baez and Mimi Fari\\u00f1a\\\",\\n    \\\"nuclear physicist and engineer\\\",\\n    \\\"physicist and microbiologist\\\",\\n    \\\"nuclear physicist and ufologist\\\",\\n    \\\"chemist and biophysicist\\\",\\n    \\\"condensed matter physicist\\\",\\n    \\\"physicist and researcher\\\",\\n    \\\"geophysicist and structural geologist\\\",\\n    \\\"mesoscopic physicist\\\",\\n    \\\"physicist and specialist in solid state laser\\\",\\n    \\\"physicist and aircraft designer\\\",\\n    \\\"physicist specialized in theoretical catalysis\\\",\\n    \\\"biologist and biophysicist\\\",\\n    \\\"thermal physicist\\\",\\n    \\\"atomic physicist\\\",\\n    \\\"biophysicist and science\\\",\\n    \\\"research physicist\\\",\\n    \\\"theoretical physicist and nuclear engineer\\\",\\n    \\\"neurophysicist\\\",\\n    \\\"experimental nuclear physicist\\\",\\n    \\\"health physicist\\\",\\n    \\\"physicist and parapsychologist\\\",\\n    \\\"physicist and skeptic\\\",\\n    \\\"solid state physicist\\\",\\n    \\\"biophysicist and virologist\\\",\\n    \\\"atmospheric physicist\\\",\\n    \\\"physicist and geneticist\\\",\\n    \\\"electrical engineer and physicist\\\",\\n    \\\"climate physicist\\\",\\n    \\\"nuclear and particle physicist\\\",\\n    \\\"explosives engineer and physicist\\\",\\n    \\\"physicist and neurobiologist\\\",\\n    \\\"mathematical physicist and cosmologist\\\",\\n    \\\"metallurgist and physicist\\\",\\n    \\\"mathematical geophysicist and seismologist\\\",\\n    \\\"East physicist\\\",\\n    \\\"theoretical physicist and astrophysicist\\\",\\n    \\\"Nobel Prize winning physicist\\\",\\n    \\\"optical physicist\\\",\\n    \\\"metal physicist\\\",\\n    \\\"metal and detonation physicist\\\",\\n    \\\"solar physicist\\\",\\n    \\\"oceanographic physicist\\\",\\n    \\\"geophysicist and planetary scientist\\\",\\n    \\\"astroparticle physicist\\\",\\n    \\\"accelerator physicist\\\",\\n    \\\"engineer and physicist\\\",\\n    \\\"molecular biophysicist\\\",\\n    \\\"physicist and radio astronomer\\\",\\n    \\\"physicist and meteorologist\\\",\\n    \\\"physicist and computer scientist\\\",\\n    \\\"astronomer and physicist\\\",\\n    \\\"physicist and chemist\\\",\\n    \\\"chemical physicist\\\",\\n    \\\"physicist and electrical engineer\\\",\\n    \\\"physicist and astronomer\\\",\\n    \\\"astronomer and astrophysicist\\\",\\n    \\\"medical physicist\\\",\\n    \\\"space physicist\\\",\\n    \\\"plasma physicist\\\",\\n    \\\"chemist and physicist\\\",\\n    \\\"physicist and inventor\\\",\\n    \\\"experimental physicist\\\",\\n    \\\"physicist and engineer\\\",\\n    \\\"mathematical physicist\\\",\\n    \\\"particle physicist\\\",\\n    \\\"biophysicist\\\",\\n    \\\"geophysicist\\\",\\n    \\\"and nuclear physicist\\\",\\n    \\\"nuclear physicist and\\\",\\n    \\\"nuclear physicist\\\",\\n    \\\"and astrophysicist\\\",\\n    \\\"astrophysicist and\\\",\\n    \\\"astrophysicist\\\",\\n    \\\"and theoretical physicist\\\",\\n    \\\"theoretical physicist and\\\",\\n    \\\"theoretical physicist\\\",\\n    \\\"physicist and\\\",\\n    \\\"and physicist\\\",\\n    \\\"physicist\\\",\\n]\\n\\nbusiness_farming = []\\nacademia_humanities = []\\nlaw_enf_military_operator = []\\nspiritual = []\\nsocial = []\\ncrime = []\\nevent_record_other = []\\nother_species = []\";\n",
       "                var nbb_formatted_code = \"# Creating lists for each category\\npolitics_govt_law = [\\\"arms control expert\\\", \\\"refusenik\\\"]\\n\\narts = []\\nsports = []\\nsciences = [\\n    \\\"physicist and group leader in the Manhattan Project\\\",\\n    \\\"physicist and molecular biologist\\\",\\n    \\\"physicist and computer research executive\\\",\\n    \\\"Nobel Prize winning biophysicist\\\",\\n    \\\"physicist and grandson of Yuan Shikai\\\",\\n    \\\"physicist and polymer researcher\\\",\\n    \\\"physicist and hydrodynamicist\\\",\\n    \\\"nuclear physicist and inventor\\\",\\n    \\\"physicist and a leader in controlled fusion research\\\",\\n    \\\"computational physicist and the father of plasma based acceleration techniques\\\",\\n    \\\"biophysicist and theoretical ecologist\\\",\\n    \\\"physicist and co winner of Nobel Prize in Physics in\\\",\\n    \\\"leading physicist in the study of waves\\\",\\n    \\\"physicist and Nobel laureate\\\",\\n    \\\"physicist ane engineer\\\",\\n    \\\"astrophysicist and radio astronomer\\\",\\n    \\\"physicist and artificial intelligence pioneer\\\",\\n    \\\"physicist and civil engineer\\\",\\n    'physicist who coined the term \\\"black hole\\\"',\\n    \\\"physicist who co discovered the Wigner Seitz cell\\\",\\n    \\\"physicist and former director of SLAC\\\",\\n    \\\"physicist at Uppsala University\\\",\\n    \\\"physicist who won the Nobel Prize for Physics in\\\",\\n    \\\"physicist who built the first laser\\\",\\n    \\\"physicist who was a pioneer of solid state physics\\\",\\n    \\\"molecular biophysicist and crystallographer\\\",\\n    \\\"physicist and member of the Manhattan Project\\\",\\n    \\\"physicist and color scientist\\\",\\n    \\\"marine geologist and geophysicist\\\",\\n    \\\"theoretical physicist and astronomer\\\",\\n    \\\"physicist and electronics engineer\\\",\\n    \\\"physicist and inventor of the first digital computer\\\",\\n    \\\"pioneering biophysicist and virologist\\\",\\n    \\\"physicist Nobel Prize in Physics laureate\\\",\\n    \\\"theoretical physicist and magneto ionic theory pioneer\\\",\\n    \\\"theoretical physicist and Nobel Prize laureate\\\",\\n    \\\"physicist and jet engine designer\\\",\\n    \\\"geophysicist and oceanographer\\\",\\n    \\\"physicist and winner of the Nobel Prize in Physics\\\",\\n    \\\"physicist known for the Casimir effect\\\",\\n    \\\"nuclear physicist who worked at the Manhattan Project Metallurgical Laboratory\\\",\\n    \\\"physicist and team member of the Manhattan Project\\\",\\n    \\\"biophysicist and biochemist\\\",\\n    \\\"experimental physicist and scientist\\\",\\n    \\\"physicist and radiation health physics pioneer\\\",\\n    \\\"physicist and co inventor of the laser with Charles Townes\\\",\\n    \\\"nuclear engineer and physicist\\\",\\n    'physicist known as \\\"the father of Pulsed Power\\\"',\\n    \\\"physicist and physical chemist\\\",\\n    \\\"chemist and nuclear physicist\\\",\\n    \\\"physicist and recipient of the Nobel Prize in Physics\\\",\\n    \\\"differential geometer and mathematical physicist\\\",\\n    \\\"physicist and statistician\\\",\\n    \\\"physicist and father of Joan Baez and Mimi Fari\\u00f1a\\\",\\n    \\\"nuclear physicist and engineer\\\",\\n    \\\"physicist and microbiologist\\\",\\n    \\\"nuclear physicist and ufologist\\\",\\n    \\\"chemist and biophysicist\\\",\\n    \\\"condensed matter physicist\\\",\\n    \\\"physicist and researcher\\\",\\n    \\\"geophysicist and structural geologist\\\",\\n    \\\"mesoscopic physicist\\\",\\n    \\\"physicist and specialist in solid state laser\\\",\\n    \\\"physicist and aircraft designer\\\",\\n    \\\"physicist specialized in theoretical catalysis\\\",\\n    \\\"biologist and biophysicist\\\",\\n    \\\"thermal physicist\\\",\\n    \\\"atomic physicist\\\",\\n    \\\"biophysicist and science\\\",\\n    \\\"research physicist\\\",\\n    \\\"theoretical physicist and nuclear engineer\\\",\\n    \\\"neurophysicist\\\",\\n    \\\"experimental nuclear physicist\\\",\\n    \\\"health physicist\\\",\\n    \\\"physicist and parapsychologist\\\",\\n    \\\"physicist and skeptic\\\",\\n    \\\"solid state physicist\\\",\\n    \\\"biophysicist and virologist\\\",\\n    \\\"atmospheric physicist\\\",\\n    \\\"physicist and geneticist\\\",\\n    \\\"electrical engineer and physicist\\\",\\n    \\\"climate physicist\\\",\\n    \\\"nuclear and particle physicist\\\",\\n    \\\"explosives engineer and physicist\\\",\\n    \\\"physicist and neurobiologist\\\",\\n    \\\"mathematical physicist and cosmologist\\\",\\n    \\\"metallurgist and physicist\\\",\\n    \\\"mathematical geophysicist and seismologist\\\",\\n    \\\"East physicist\\\",\\n    \\\"theoretical physicist and astrophysicist\\\",\\n    \\\"Nobel Prize winning physicist\\\",\\n    \\\"optical physicist\\\",\\n    \\\"metal physicist\\\",\\n    \\\"metal and detonation physicist\\\",\\n    \\\"solar physicist\\\",\\n    \\\"oceanographic physicist\\\",\\n    \\\"geophysicist and planetary scientist\\\",\\n    \\\"astroparticle physicist\\\",\\n    \\\"accelerator physicist\\\",\\n    \\\"engineer and physicist\\\",\\n    \\\"molecular biophysicist\\\",\\n    \\\"physicist and radio astronomer\\\",\\n    \\\"physicist and meteorologist\\\",\\n    \\\"physicist and computer scientist\\\",\\n    \\\"astronomer and physicist\\\",\\n    \\\"physicist and chemist\\\",\\n    \\\"chemical physicist\\\",\\n    \\\"physicist and electrical engineer\\\",\\n    \\\"physicist and astronomer\\\",\\n    \\\"astronomer and astrophysicist\\\",\\n    \\\"medical physicist\\\",\\n    \\\"space physicist\\\",\\n    \\\"plasma physicist\\\",\\n    \\\"chemist and physicist\\\",\\n    \\\"physicist and inventor\\\",\\n    \\\"experimental physicist\\\",\\n    \\\"physicist and engineer\\\",\\n    \\\"mathematical physicist\\\",\\n    \\\"particle physicist\\\",\\n    \\\"biophysicist\\\",\\n    \\\"geophysicist\\\",\\n    \\\"and nuclear physicist\\\",\\n    \\\"nuclear physicist and\\\",\\n    \\\"nuclear physicist\\\",\\n    \\\"and astrophysicist\\\",\\n    \\\"astrophysicist and\\\",\\n    \\\"astrophysicist\\\",\\n    \\\"and theoretical physicist\\\",\\n    \\\"theoretical physicist and\\\",\\n    \\\"theoretical physicist\\\",\\n    \\\"physicist and\\\",\\n    \\\"and physicist\\\",\\n    \\\"physicist\\\",\\n]\\n\\nbusiness_farming = []\\nacademia_humanities = []\\nlaw_enf_military_operator = []\\nspiritual = []\\nsocial = []\\ncrime = []\\nevent_record_other = []\\nother_species = []\";\n",
       "                var nbb_cells = Jupyter.notebook.get_cells();\n",
       "                for (var i = 0; i < nbb_cells.length; ++i) {\n",
       "                    if (nbb_cells[i].input_prompt_number == nbb_cell_id) {\n",
       "                        if (nbb_cells[i].get_text() == nbb_unformatted_code) {\n",
       "                             nbb_cells[i].set_text(nbb_formatted_code);\n",
       "                        }\n",
       "                        break;\n",
       "                    }\n",
       "                }\n",
       "            }, 500);\n",
       "            "
      ],
      "text/plain": [
       "<IPython.core.display.Javascript object>"
      ]
     },
     "metadata": {},
     "output_type": "display_data"
    }
   ],
   "source": [
    "# Creating lists for each category\n",
    "politics_govt_law = [\"arms control expert\", \"refusenik\"]\n",
    "\n",
    "arts = []\n",
    "sports = []\n",
    "sciences = [\n",
    "    \"physicist and group leader in the Manhattan Project\",\n",
    "    \"physicist and molecular biologist\",\n",
    "    \"physicist and computer research executive\",\n",
    "    \"Nobel Prize winning biophysicist\",\n",
    "    \"physicist and grandson of Yuan Shikai\",\n",
    "    \"physicist and polymer researcher\",\n",
    "    \"physicist and hydrodynamicist\",\n",
    "    \"nuclear physicist and inventor\",\n",
    "    \"physicist and a leader in controlled fusion research\",\n",
    "    \"computational physicist and the father of plasma based acceleration techniques\",\n",
    "    \"biophysicist and theoretical ecologist\",\n",
    "    \"physicist and co winner of Nobel Prize in Physics in\",\n",
    "    \"leading physicist in the study of waves\",\n",
    "    \"physicist and Nobel laureate\",\n",
    "    \"physicist ane engineer\",\n",
    "    \"astrophysicist and radio astronomer\",\n",
    "    \"physicist and artificial intelligence pioneer\",\n",
    "    \"physicist and civil engineer\",\n",
    "    'physicist who coined the term \"black hole\"',\n",
    "    \"physicist who co discovered the Wigner Seitz cell\",\n",
    "    \"physicist and former director of SLAC\",\n",
    "    \"physicist at Uppsala University\",\n",
    "    \"physicist who won the Nobel Prize for Physics in\",\n",
    "    \"physicist who built the first laser\",\n",
    "    \"physicist who was a pioneer of solid state physics\",\n",
    "    \"molecular biophysicist and crystallographer\",\n",
    "    \"physicist and member of the Manhattan Project\",\n",
    "    \"physicist and color scientist\",\n",
    "    \"marine geologist and geophysicist\",\n",
    "    \"theoretical physicist and astronomer\",\n",
    "    \"physicist and electronics engineer\",\n",
    "    \"physicist and inventor of the first digital computer\",\n",
    "    \"pioneering biophysicist and virologist\",\n",
    "    \"physicist Nobel Prize in Physics laureate\",\n",
    "    \"theoretical physicist and magneto ionic theory pioneer\",\n",
    "    \"theoretical physicist and Nobel Prize laureate\",\n",
    "    \"physicist and jet engine designer\",\n",
    "    \"geophysicist and oceanographer\",\n",
    "    \"physicist and winner of the Nobel Prize in Physics\",\n",
    "    \"physicist known for the Casimir effect\",\n",
    "    \"nuclear physicist who worked at the Manhattan Project Metallurgical Laboratory\",\n",
    "    \"physicist and team member of the Manhattan Project\",\n",
    "    \"biophysicist and biochemist\",\n",
    "    \"experimental physicist and scientist\",\n",
    "    \"physicist and radiation health physics pioneer\",\n",
    "    \"physicist and co inventor of the laser with Charles Townes\",\n",
    "    \"nuclear engineer and physicist\",\n",
    "    'physicist known as \"the father of Pulsed Power\"',\n",
    "    \"physicist and physical chemist\",\n",
    "    \"chemist and nuclear physicist\",\n",
    "    \"physicist and recipient of the Nobel Prize in Physics\",\n",
    "    \"differential geometer and mathematical physicist\",\n",
    "    \"physicist and statistician\",\n",
    "    \"physicist and father of Joan Baez and Mimi Fariña\",\n",
    "    \"nuclear physicist and engineer\",\n",
    "    \"physicist and microbiologist\",\n",
    "    \"nuclear physicist and ufologist\",\n",
    "    \"chemist and biophysicist\",\n",
    "    \"condensed matter physicist\",\n",
    "    \"physicist and researcher\",\n",
    "    \"geophysicist and structural geologist\",\n",
    "    \"mesoscopic physicist\",\n",
    "    \"physicist and specialist in solid state laser\",\n",
    "    \"physicist and aircraft designer\",\n",
    "    \"physicist specialized in theoretical catalysis\",\n",
    "    \"biologist and biophysicist\",\n",
    "    \"thermal physicist\",\n",
    "    \"atomic physicist\",\n",
    "    \"biophysicist and science\",\n",
    "    \"research physicist\",\n",
    "    \"theoretical physicist and nuclear engineer\",\n",
    "    \"neurophysicist\",\n",
    "    \"experimental nuclear physicist\",\n",
    "    \"health physicist\",\n",
    "    \"physicist and parapsychologist\",\n",
    "    \"physicist and skeptic\",\n",
    "    \"solid state physicist\",\n",
    "    \"biophysicist and virologist\",\n",
    "    \"atmospheric physicist\",\n",
    "    \"physicist and geneticist\",\n",
    "    \"electrical engineer and physicist\",\n",
    "    \"climate physicist\",\n",
    "    \"nuclear and particle physicist\",\n",
    "    \"explosives engineer and physicist\",\n",
    "    \"physicist and neurobiologist\",\n",
    "    \"mathematical physicist and cosmologist\",\n",
    "    \"metallurgist and physicist\",\n",
    "    \"mathematical geophysicist and seismologist\",\n",
    "    \"East physicist\",\n",
    "    \"theoretical physicist and astrophysicist\",\n",
    "    \"Nobel Prize winning physicist\",\n",
    "    \"optical physicist\",\n",
    "    \"metal physicist\",\n",
    "    \"metal and detonation physicist\",\n",
    "    \"solar physicist\",\n",
    "    \"oceanographic physicist\",\n",
    "    \"geophysicist and planetary scientist\",\n",
    "    \"astroparticle physicist\",\n",
    "    \"accelerator physicist\",\n",
    "    \"engineer and physicist\",\n",
    "    \"molecular biophysicist\",\n",
    "    \"physicist and radio astronomer\",\n",
    "    \"physicist and meteorologist\",\n",
    "    \"physicist and computer scientist\",\n",
    "    \"astronomer and physicist\",\n",
    "    \"physicist and chemist\",\n",
    "    \"chemical physicist\",\n",
    "    \"physicist and electrical engineer\",\n",
    "    \"physicist and astronomer\",\n",
    "    \"astronomer and astrophysicist\",\n",
    "    \"medical physicist\",\n",
    "    \"space physicist\",\n",
    "    \"plasma physicist\",\n",
    "    \"chemist and physicist\",\n",
    "    \"physicist and inventor\",\n",
    "    \"experimental physicist\",\n",
    "    \"physicist and engineer\",\n",
    "    \"mathematical physicist\",\n",
    "    \"particle physicist\",\n",
    "    \"biophysicist\",\n",
    "    \"geophysicist\",\n",
    "    \"and nuclear physicist\",\n",
    "    \"nuclear physicist and\",\n",
    "    \"nuclear physicist\",\n",
    "    \"and astrophysicist\",\n",
    "    \"astrophysicist and\",\n",
    "    \"astrophysicist\",\n",
    "    \"and theoretical physicist\",\n",
    "    \"theoretical physicist and\",\n",
    "    \"theoretical physicist\",\n",
    "    \"physicist and\",\n",
    "    \"and physicist\",\n",
    "    \"physicist\",\n",
    "]\n",
    "\n",
    "business_farming = []\n",
    "academia_humanities = []\n",
    "law_enf_military_operator = []\n",
    "spiritual = []\n",
    "social = []\n",
    "crime = []\n",
    "event_record_other = []\n",
    "other_species = []"
   ]
  },
  {
   "cell_type": "markdown",
   "id": "bae1460d",
   "metadata": {},
   "source": [
    "#### Creating `known_for_dict` Dictionary of Category Keys and Specific Role Lists of Values"
   ]
  },
  {
   "cell_type": "code",
   "execution_count": 23,
   "id": "e3d3d699",
   "metadata": {},
   "outputs": [
    {
     "data": {
      "application/javascript": [
       "\n",
       "            setTimeout(function() {\n",
       "                var nbb_cell_id = 23;\n",
       "                var nbb_unformatted_code = \"# Combining separate lists into one dictionary\\nknown_for_dict = {\\n    \\\"social\\\": social,\\n    \\\"spiritual\\\": spiritual,\\n    \\\"academia_humanities\\\": academia_humanities,\\n    \\\"business_farming\\\": business_farming,\\n    \\\"sciences\\\": sciences,\\n    \\\"politics_govt_law\\\": politics_govt_law,\\n    \\\"law_enf_military_operator\\\": law_enf_military_operator,\\n    \\\"crime\\\": crime,\\n    \\\"event_record_other\\\": event_record_other,\\n    \\\"other_species\\\": other_species,\\n    \\\"arts\\\": arts,\\n    \\\"sports\\\": sports,\\n}\";\n",
       "                var nbb_formatted_code = \"# Combining separate lists into one dictionary\\nknown_for_dict = {\\n    \\\"social\\\": social,\\n    \\\"spiritual\\\": spiritual,\\n    \\\"academia_humanities\\\": academia_humanities,\\n    \\\"business_farming\\\": business_farming,\\n    \\\"sciences\\\": sciences,\\n    \\\"politics_govt_law\\\": politics_govt_law,\\n    \\\"law_enf_military_operator\\\": law_enf_military_operator,\\n    \\\"crime\\\": crime,\\n    \\\"event_record_other\\\": event_record_other,\\n    \\\"other_species\\\": other_species,\\n    \\\"arts\\\": arts,\\n    \\\"sports\\\": sports,\\n}\";\n",
       "                var nbb_cells = Jupyter.notebook.get_cells();\n",
       "                for (var i = 0; i < nbb_cells.length; ++i) {\n",
       "                    if (nbb_cells[i].input_prompt_number == nbb_cell_id) {\n",
       "                        if (nbb_cells[i].get_text() == nbb_unformatted_code) {\n",
       "                             nbb_cells[i].set_text(nbb_formatted_code);\n",
       "                        }\n",
       "                        break;\n",
       "                    }\n",
       "                }\n",
       "            }, 500);\n",
       "            "
      ],
      "text/plain": [
       "<IPython.core.display.Javascript object>"
      ]
     },
     "metadata": {},
     "output_type": "display_data"
    }
   ],
   "source": [
    "# Combining separate lists into one dictionary\n",
    "known_for_dict = {\n",
    "    \"social\": social,\n",
    "    \"spiritual\": spiritual,\n",
    "    \"academia_humanities\": academia_humanities,\n",
    "    \"business_farming\": business_farming,\n",
    "    \"sciences\": sciences,\n",
    "    \"politics_govt_law\": politics_govt_law,\n",
    "    \"law_enf_military_operator\": law_enf_military_operator,\n",
    "    \"crime\": crime,\n",
    "    \"event_record_other\": event_record_other,\n",
    "    \"other_species\": other_species,\n",
    "    \"arts\": arts,\n",
    "    \"sports\": sports,\n",
    "}"
   ]
  },
  {
   "cell_type": "markdown",
   "id": "a25f07ec",
   "metadata": {},
   "source": [
    "#### Extracting Category from `info_2`"
   ]
  },
  {
   "cell_type": "code",
   "execution_count": 24,
   "id": "d3de0fab",
   "metadata": {},
   "outputs": [
    {
     "name": "stdout",
     "output_type": "stream",
     "text": [
      "CPU times: total: 1min 21s\n",
      "Wall time: 1min 21s\n"
     ]
    },
    {
     "data": {
      "text/html": [
       "<div>\n",
       "<style scoped>\n",
       "    .dataframe tbody tr th:only-of-type {\n",
       "        vertical-align: middle;\n",
       "    }\n",
       "\n",
       "    .dataframe tbody tr th {\n",
       "        vertical-align: top;\n",
       "    }\n",
       "\n",
       "    .dataframe thead th {\n",
       "        text-align: right;\n",
       "    }\n",
       "</style>\n",
       "<table border=\"1\" class=\"dataframe\">\n",
       "  <thead>\n",
       "    <tr style=\"text-align: right;\">\n",
       "      <th></th>\n",
       "      <th>day</th>\n",
       "      <th>name</th>\n",
       "      <th>info</th>\n",
       "      <th>link</th>\n",
       "      <th>num_references</th>\n",
       "      <th>year</th>\n",
       "      <th>month</th>\n",
       "      <th>info_parenth</th>\n",
       "      <th>info_1</th>\n",
       "      <th>info_2</th>\n",
       "      <th>info_3</th>\n",
       "      <th>info_4</th>\n",
       "      <th>info_5</th>\n",
       "      <th>info_6</th>\n",
       "      <th>info_7</th>\n",
       "      <th>info_8</th>\n",
       "      <th>info_9</th>\n",
       "      <th>info_10</th>\n",
       "      <th>info_11</th>\n",
       "      <th>age</th>\n",
       "      <th>cause_of_death</th>\n",
       "      <th>place_1</th>\n",
       "      <th>place_2</th>\n",
       "      <th>info_parenth_copy</th>\n",
       "      <th>log_num_references</th>\n",
       "      <th>sciences</th>\n",
       "      <th>social</th>\n",
       "      <th>spiritual</th>\n",
       "      <th>academia_humanities</th>\n",
       "      <th>business_farming</th>\n",
       "      <th>arts</th>\n",
       "      <th>sports</th>\n",
       "      <th>law_enf_military_operator</th>\n",
       "      <th>politics_govt_law</th>\n",
       "      <th>crime</th>\n",
       "      <th>event_record_other</th>\n",
       "      <th>other_species</th>\n",
       "      <th>num_categories</th>\n",
       "    </tr>\n",
       "  </thead>\n",
       "  <tbody>\n",
       "    <tr>\n",
       "      <th>75685</th>\n",
       "      <td>10</td>\n",
       "      <td>Reinhard Bortfeld</td>\n",
       "      <td>, 92, German geophysicist.</td>\n",
       "      <td>https://en.wikipedia.org/wiki/Reinhard_Bortfeld</td>\n",
       "      <td>10</td>\n",
       "      <td>2019</td>\n",
       "      <td>July</td>\n",
       "      <td>None</td>\n",
       "      <td>None</td>\n",
       "      <td></td>\n",
       "      <td>None</td>\n",
       "      <td>None</td>\n",
       "      <td>None</td>\n",
       "      <td>None</td>\n",
       "      <td>None</td>\n",
       "      <td>None</td>\n",
       "      <td>None</td>\n",
       "      <td>None</td>\n",
       "      <td>None</td>\n",
       "      <td>92.0</td>\n",
       "      <td>None</td>\n",
       "      <td>Germany</td>\n",
       "      <td>None</td>\n",
       "      <td>None</td>\n",
       "      <td>2.397895</td>\n",
       "      <td>1</td>\n",
       "      <td>0</td>\n",
       "      <td>0</td>\n",
       "      <td>0</td>\n",
       "      <td>0</td>\n",
       "      <td>0</td>\n",
       "      <td>0</td>\n",
       "      <td>0</td>\n",
       "      <td>0</td>\n",
       "      <td>0</td>\n",
       "      <td>0</td>\n",
       "      <td>0</td>\n",
       "      <td>1</td>\n",
       "    </tr>\n",
       "    <tr>\n",
       "      <th>10678</th>\n",
       "      <td>4</td>\n",
       "      <td>Xie Xide</td>\n",
       "      <td>, 78, Chinese physicist.</td>\n",
       "      <td>https://en.wikipedia.org/wiki/Xie_Xide</td>\n",
       "      <td>9</td>\n",
       "      <td>2000</td>\n",
       "      <td>March</td>\n",
       "      <td>None</td>\n",
       "      <td>None</td>\n",
       "      <td></td>\n",
       "      <td>None</td>\n",
       "      <td>None</td>\n",
       "      <td>None</td>\n",
       "      <td>None</td>\n",
       "      <td>None</td>\n",
       "      <td>None</td>\n",
       "      <td>None</td>\n",
       "      <td>None</td>\n",
       "      <td>None</td>\n",
       "      <td>78.0</td>\n",
       "      <td>None</td>\n",
       "      <td>China, People's Republic of</td>\n",
       "      <td>None</td>\n",
       "      <td>None</td>\n",
       "      <td>2.302585</td>\n",
       "      <td>1</td>\n",
       "      <td>0</td>\n",
       "      <td>0</td>\n",
       "      <td>0</td>\n",
       "      <td>0</td>\n",
       "      <td>0</td>\n",
       "      <td>0</td>\n",
       "      <td>0</td>\n",
       "      <td>0</td>\n",
       "      <td>0</td>\n",
       "      <td>0</td>\n",
       "      <td>0</td>\n",
       "      <td>1</td>\n",
       "    </tr>\n",
       "  </tbody>\n",
       "</table>\n",
       "</div>"
      ],
      "text/plain": [
       "      day               name                        info  \\\n",
       "75685  10  Reinhard Bortfeld  , 92, German geophysicist.   \n",
       "10678   4           Xie Xide    , 78, Chinese physicist.   \n",
       "\n",
       "                                                  link  num_references  year  \\\n",
       "75685  https://en.wikipedia.org/wiki/Reinhard_Bortfeld              10  2019   \n",
       "10678           https://en.wikipedia.org/wiki/Xie_Xide               9  2000   \n",
       "\n",
       "       month info_parenth info_1 info_2 info_3 info_4 info_5 info_6 info_7  \\\n",
       "75685   July         None   None          None   None   None   None   None   \n",
       "10678  March         None   None          None   None   None   None   None   \n",
       "\n",
       "      info_8 info_9 info_10 info_11   age cause_of_death  \\\n",
       "75685   None   None    None    None  92.0           None   \n",
       "10678   None   None    None    None  78.0           None   \n",
       "\n",
       "                           place_1 place_2 info_parenth_copy  \\\n",
       "75685                      Germany    None              None   \n",
       "10678  China, People's Republic of    None              None   \n",
       "\n",
       "       log_num_references  sciences  social  spiritual  academia_humanities  \\\n",
       "75685            2.397895         1       0          0                    0   \n",
       "10678            2.302585         1       0          0                    0   \n",
       "\n",
       "       business_farming  arts  sports  law_enf_military_operator  \\\n",
       "75685                 0     0       0                          0   \n",
       "10678                 0     0       0                          0   \n",
       "\n",
       "       politics_govt_law  crime  event_record_other  other_species  \\\n",
       "75685                  0      0                   0              0   \n",
       "10678                  0      0                   0              0   \n",
       "\n",
       "       num_categories  \n",
       "75685               1  \n",
       "10678               1  "
      ]
     },
     "execution_count": 24,
     "metadata": {},
     "output_type": "execute_result"
    },
    {
     "data": {
      "application/javascript": [
       "\n",
       "            setTimeout(function() {\n",
       "                var nbb_cell_id = 24;\n",
       "                var nbb_unformatted_code = \"%%time\\n\\n# Dictionary version\\nsearch_dict = known_for_dict\\n\\n# Column to check\\ncolumn = 'info_2'\\n\\n# Dataframe\\ndataframe = df[column].notna()\\n\\n# For loop to find role in column and extract it as category\\nfor category, category_lst in search_dict.items():\\n    for role in category_lst:\\n        for index in dataframe.index:\\n            item = df.loc[index, column]\\n            if item:\\n                if role in item:\\n                    df.loc[index, category] = 1\\n                    df.loc[index, column] = item.replace(role, '').strip()\\n\\n# Updating num_categories\\ndf[\\\"num_categories\\\"] = df[known_for_dict.keys()].sum(axis=1)\\n\\n# Checking a sample of rows\\ndf[df['sciences'] ==1].sample(2)\";\n",
       "                var nbb_formatted_code = \"%%time\\n\\n# Dictionary version\\nsearch_dict = known_for_dict\\n\\n# Column to check\\ncolumn = 'info_2'\\n\\n# Dataframe\\ndataframe = df[column].notna()\\n\\n# For loop to find role in column and extract it as category\\nfor category, category_lst in search_dict.items():\\n    for role in category_lst:\\n        for index in dataframe.index:\\n            item = df.loc[index, column]\\n            if item:\\n                if role in item:\\n                    df.loc[index, category] = 1\\n                    df.loc[index, column] = item.replace(role, '').strip()\\n\\n# Updating num_categories\\ndf[\\\"num_categories\\\"] = df[known_for_dict.keys()].sum(axis=1)\\n\\n# Checking a sample of rows\\ndf[df['sciences'] ==1].sample(2)\";\n",
       "                var nbb_cells = Jupyter.notebook.get_cells();\n",
       "                for (var i = 0; i < nbb_cells.length; ++i) {\n",
       "                    if (nbb_cells[i].input_prompt_number == nbb_cell_id) {\n",
       "                        if (nbb_cells[i].get_text() == nbb_unformatted_code) {\n",
       "                             nbb_cells[i].set_text(nbb_formatted_code);\n",
       "                        }\n",
       "                        break;\n",
       "                    }\n",
       "                }\n",
       "            }, 500);\n",
       "            "
      ],
      "text/plain": [
       "<IPython.core.display.Javascript object>"
      ]
     },
     "metadata": {},
     "output_type": "display_data"
    }
   ],
   "source": [
    "%%time\n",
    "\n",
    "# Dictionary version\n",
    "search_dict = known_for_dict\n",
    "\n",
    "# Column to check\n",
    "column = 'info_2'\n",
    "\n",
    "# Dataframe\n",
    "dataframe = df[column].notna()\n",
    "\n",
    "# For loop to find role in column and extract it as category\n",
    "for category, category_lst in search_dict.items():\n",
    "    for role in category_lst:\n",
    "        for index in dataframe.index:\n",
    "            item = df.loc[index, column]\n",
    "            if item:\n",
    "                if role in item:\n",
    "                    df.loc[index, category] = 1\n",
    "                    df.loc[index, column] = item.replace(role, '').strip()\n",
    "\n",
    "# Updating num_categories\n",
    "df[\"num_categories\"] = df[known_for_dict.keys()].sum(axis=1)\n",
    "\n",
    "# Checking a sample of rows\n",
    "df[df['sciences'] ==1].sample(2)"
   ]
  },
  {
   "cell_type": "markdown",
   "id": "7b373c16",
   "metadata": {},
   "source": [
    "#### Checking the Number of Rows without a First Category"
   ]
  },
  {
   "cell_type": "code",
   "execution_count": 25,
   "id": "5770813c",
   "metadata": {},
   "outputs": [
    {
     "name": "stdout",
     "output_type": "stream",
     "text": [
      "There are 44009 entries without any known_for category.\n"
     ]
    },
    {
     "data": {
      "application/javascript": [
       "\n",
       "            setTimeout(function() {\n",
       "                var nbb_cell_id = 25;\n",
       "                var nbb_unformatted_code = \"#### Checking the number of rows without a first category\\nprint(\\n    f'There are {len(df[df[\\\"num_categories\\\"]==0])} entries without any known_for category.'\\n)\";\n",
       "                var nbb_formatted_code = \"#### Checking the number of rows without a first category\\nprint(\\n    f'There are {len(df[df[\\\"num_categories\\\"]==0])} entries without any known_for category.'\\n)\";\n",
       "                var nbb_cells = Jupyter.notebook.get_cells();\n",
       "                for (var i = 0; i < nbb_cells.length; ++i) {\n",
       "                    if (nbb_cells[i].input_prompt_number == nbb_cell_id) {\n",
       "                        if (nbb_cells[i].get_text() == nbb_unformatted_code) {\n",
       "                             nbb_cells[i].set_text(nbb_formatted_code);\n",
       "                        }\n",
       "                        break;\n",
       "                    }\n",
       "                }\n",
       "            }, 500);\n",
       "            "
      ],
      "text/plain": [
       "<IPython.core.display.Javascript object>"
      ]
     },
     "metadata": {},
     "output_type": "display_data"
    }
   ],
   "source": [
    "#### Checking the number of rows without a first category\n",
    "print(\n",
    "    f'There are {len(df[df[\"num_categories\"]==0])} entries without any known_for category.'\n",
    ")"
   ]
  },
  {
   "cell_type": "markdown",
   "id": "45e3a06d",
   "metadata": {},
   "source": [
    "#### Observations:\n",
    "- We will proceed to rebuild `known_for_dict` for the next iteration."
   ]
  },
  {
   "cell_type": "markdown",
   "id": "0e13fd03",
   "metadata": {},
   "source": [
    "#### Finding `known_for` Roles in `info_2`"
   ]
  },
  {
   "cell_type": "code",
   "execution_count": 26,
   "id": "fb8c8fd5",
   "metadata": {},
   "outputs": [
    {
     "data": {
      "application/javascript": [
       "\n",
       "            setTimeout(function() {\n",
       "                var nbb_cell_id = 26;\n",
       "                var nbb_unformatted_code = \"# Obtaining values for column and their counts\\nroles_list = df[\\\"info_2\\\"].value_counts(ascending=True).index.tolist()\";\n",
       "                var nbb_formatted_code = \"# Obtaining values for column and their counts\\nroles_list = df[\\\"info_2\\\"].value_counts(ascending=True).index.tolist()\";\n",
       "                var nbb_cells = Jupyter.notebook.get_cells();\n",
       "                for (var i = 0; i < nbb_cells.length; ++i) {\n",
       "                    if (nbb_cells[i].input_prompt_number == nbb_cell_id) {\n",
       "                        if (nbb_cells[i].get_text() == nbb_unformatted_code) {\n",
       "                             nbb_cells[i].set_text(nbb_formatted_code);\n",
       "                        }\n",
       "                        break;\n",
       "                    }\n",
       "                }\n",
       "            }, 500);\n",
       "            "
      ],
      "text/plain": [
       "<IPython.core.display.Javascript object>"
      ]
     },
     "metadata": {},
     "output_type": "display_data"
    }
   ],
   "source": [
    "# Obtaining values for column and their counts\n",
    "roles_list = df[\"info_2\"].value_counts(ascending=True).index.tolist()"
   ]
  },
  {
   "cell_type": "code",
   "execution_count": 27,
   "id": "60e116e7",
   "metadata": {},
   "outputs": [
    {
     "data": {
      "application/javascript": [
       "\n",
       "            setTimeout(function() {\n",
       "                var nbb_cell_id = 27;\n",
       "                var nbb_unformatted_code = \"# # Code to check each value\\n# roles_list.pop()\";\n",
       "                var nbb_formatted_code = \"# # Code to check each value\\n# roles_list.pop()\";\n",
       "                var nbb_cells = Jupyter.notebook.get_cells();\n",
       "                for (var i = 0; i < nbb_cells.length; ++i) {\n",
       "                    if (nbb_cells[i].input_prompt_number == nbb_cell_id) {\n",
       "                        if (nbb_cells[i].get_text() == nbb_unformatted_code) {\n",
       "                             nbb_cells[i].set_text(nbb_formatted_code);\n",
       "                        }\n",
       "                        break;\n",
       "                    }\n",
       "                }\n",
       "            }, 500);\n",
       "            "
      ],
      "text/plain": [
       "<IPython.core.display.Javascript object>"
      ]
     },
     "metadata": {},
     "output_type": "display_data"
    }
   ],
   "source": [
    "# # Code to check each value\n",
    "# roles_list.pop()"
   ]
  },
  {
   "cell_type": "code",
   "execution_count": 28,
   "id": "59fc44f5",
   "metadata": {},
   "outputs": [
    {
     "data": {
      "application/javascript": [
       "\n",
       "            setTimeout(function() {\n",
       "                var nbb_cell_id = 28;\n",
       "                var nbb_unformatted_code = \"# # Create specific_roles_list for above popped value\\n# specific_roles_list = (\\n#     df.loc[\\n#         [index for index in df.index if \\\"architect\\\" in df.loc[index, \\\"info\\\"]], \\\"info_2\\\",\\n#     ]\\n#     .value_counts()\\n#     .index.tolist()\\n# )\";\n",
       "                var nbb_formatted_code = \"# # Create specific_roles_list for above popped value\\n# specific_roles_list = (\\n#     df.loc[\\n#         [index for index in df.index if \\\"architect\\\" in df.loc[index, \\\"info\\\"]], \\\"info_2\\\",\\n#     ]\\n#     .value_counts()\\n#     .index.tolist()\\n# )\";\n",
       "                var nbb_cells = Jupyter.notebook.get_cells();\n",
       "                for (var i = 0; i < nbb_cells.length; ++i) {\n",
       "                    if (nbb_cells[i].input_prompt_number == nbb_cell_id) {\n",
       "                        if (nbb_cells[i].get_text() == nbb_unformatted_code) {\n",
       "                             nbb_cells[i].set_text(nbb_formatted_code);\n",
       "                        }\n",
       "                        break;\n",
       "                    }\n",
       "                }\n",
       "            }, 500);\n",
       "            "
      ],
      "text/plain": [
       "<IPython.core.display.Javascript object>"
      ]
     },
     "metadata": {},
     "output_type": "display_data"
    }
   ],
   "source": [
    "# # Create specific_roles_list for above popped value\n",
    "# specific_roles_list = (\n",
    "#     df.loc[\n",
    "#         [index for index in df.index if \"architect\" in df.loc[index, \"info\"]], \"info_2\",\n",
    "#     ]\n",
    "#     .value_counts()\n",
    "#     .index.tolist()\n",
    "# )"
   ]
  },
  {
   "cell_type": "code",
   "execution_count": 29,
   "id": "18d4160a",
   "metadata": {},
   "outputs": [
    {
     "data": {
      "application/javascript": [
       "\n",
       "            setTimeout(function() {\n",
       "                var nbb_cell_id = 29;\n",
       "                var nbb_unformatted_code = \"# # Code to check each specific value\\n# specific_roles_list.pop()\";\n",
       "                var nbb_formatted_code = \"# # Code to check each specific value\\n# specific_roles_list.pop()\";\n",
       "                var nbb_cells = Jupyter.notebook.get_cells();\n",
       "                for (var i = 0; i < nbb_cells.length; ++i) {\n",
       "                    if (nbb_cells[i].input_prompt_number == nbb_cell_id) {\n",
       "                        if (nbb_cells[i].get_text() == nbb_unformatted_code) {\n",
       "                             nbb_cells[i].set_text(nbb_formatted_code);\n",
       "                        }\n",
       "                        break;\n",
       "                    }\n",
       "                }\n",
       "            }, 500);\n",
       "            "
      ],
      "text/plain": [
       "<IPython.core.display.Javascript object>"
      ]
     },
     "metadata": {},
     "output_type": "display_data"
    }
   ],
   "source": [
    "# # Code to check each specific value\n",
    "# specific_roles_list.pop()"
   ]
  },
  {
   "cell_type": "code",
   "execution_count": 30,
   "id": "459e64b6",
   "metadata": {},
   "outputs": [
    {
     "data": {
      "application/javascript": [
       "\n",
       "            setTimeout(function() {\n",
       "                var nbb_cell_id = 30;\n",
       "                var nbb_unformatted_code = \"# # Example code to quick-screen values that may overlap categories\\n# df.loc[[index for index in df.index if \\\"architect and art\\\" in df.loc[index, \\\"info\\\"]]]\";\n",
       "                var nbb_formatted_code = \"# # Example code to quick-screen values that may overlap categories\\n# df.loc[[index for index in df.index if \\\"architect and art\\\" in df.loc[index, \\\"info\\\"]]]\";\n",
       "                var nbb_cells = Jupyter.notebook.get_cells();\n",
       "                for (var i = 0; i < nbb_cells.length; ++i) {\n",
       "                    if (nbb_cells[i].input_prompt_number == nbb_cell_id) {\n",
       "                        if (nbb_cells[i].get_text() == nbb_unformatted_code) {\n",
       "                             nbb_cells[i].set_text(nbb_formatted_code);\n",
       "                        }\n",
       "                        break;\n",
       "                    }\n",
       "                }\n",
       "            }, 500);\n",
       "            "
      ],
      "text/plain": [
       "<IPython.core.display.Javascript object>"
      ]
     },
     "metadata": {},
     "output_type": "display_data"
    }
   ],
   "source": [
    "# # Example code to quick-screen values that may overlap categories\n",
    "# df.loc[[index for index in df.index if \"architect and art\" in df.loc[index, \"info\"]]]"
   ]
  },
  {
   "cell_type": "code",
   "execution_count": 31,
   "id": "aa6ea3b3",
   "metadata": {},
   "outputs": [
    {
     "data": {
      "application/javascript": [
       "\n",
       "            setTimeout(function() {\n",
       "                var nbb_cell_id = 31;\n",
       "                var nbb_unformatted_code = \"# # Example code to quick-check a specific entry\\n# df[df[\\\"info_2\\\"] == \\\"naval architect\\\"]\";\n",
       "                var nbb_formatted_code = \"# # Example code to quick-check a specific entry\\n# df[df[\\\"info_2\\\"] == \\\"naval architect\\\"]\";\n",
       "                var nbb_cells = Jupyter.notebook.get_cells();\n",
       "                for (var i = 0; i < nbb_cells.length; ++i) {\n",
       "                    if (nbb_cells[i].input_prompt_number == nbb_cell_id) {\n",
       "                        if (nbb_cells[i].get_text() == nbb_unformatted_code) {\n",
       "                             nbb_cells[i].set_text(nbb_formatted_code);\n",
       "                        }\n",
       "                        break;\n",
       "                    }\n",
       "                }\n",
       "            }, 500);\n",
       "            "
      ],
      "text/plain": [
       "<IPython.core.display.Javascript object>"
      ]
     },
     "metadata": {},
     "output_type": "display_data"
    }
   ],
   "source": [
    "# # Example code to quick-check a specific entry\n",
    "# df[df[\"info_2\"] == \"naval architect\"]"
   ]
  },
  {
   "cell_type": "markdown",
   "id": "39042df8",
   "metadata": {},
   "source": [
    "#### Creating Lists for Each `known_for` Category"
   ]
  },
  {
   "cell_type": "code",
   "execution_count": 32,
   "id": "c3f4546e",
   "metadata": {},
   "outputs": [
    {
     "data": {
      "application/javascript": [
       "\n",
       "            setTimeout(function() {\n",
       "                var nbb_cell_id = 32;\n",
       "                var nbb_unformatted_code = \"# Creating lists for each category\\npolitics_govt_law = [\\\"asylum seeker\\\"]\\n\\narts = [\\n    \\\"architectural and interior designer\\\",\\n    \\\"photographer and architect\\\",\\n    \\\"Southwestern style architect\\\",\\n    \\\"architectural lighting designer\\\",\\n    \\\"church architect and Gothic Revival designer\\\",\\n    \\\"medieval architectural\\\",\\n    \\\"architect and organ designer\\\",\\n    \\\"landscape and garden architect\\\",\\n    \\\"set costume designer and architect\\\",\\n    \\\"architect and raconteur\\\",\\n    \\\"architect in Oregon\\\",\\n    \\\"architect of perestroika\\\",\\n    \\\"architect and acoustician\\\",\\n    \\\"architecture critic for\\\",\\n    \\\"interior designer and architect\\\",\\n    \\\"architect and historic\\\",\\n    \\\"architect and photographer\\\",\\n    \\\"furniture designer and architect\\\",\\n    \\\"architect and interior designer\\\",\\n    \\\"architect and graphic designer\\\",\\n    \\\"architect and art collector\\\",\\n    \\\"and course architect\\\",\\n    \\\"horticultural architect\\\",\\n    \\\"architect and designer of the flag of\\\",\\n    \\\"architect and furniture designer\\\",\\n    \\\"furniture designer and interior architect\\\",\\n    \\\"architect and landscape architect\\\",\\n    \\\"architecture and blues\\\",\\n    \\\"temple architect and sculptor\\\",\\n    \\\"bridge architect\\\",\\n    \\\"architectural critic\\\",\\n    \\\"industrial designer and architect\\\",\\n    \\\"architect and caveman\\\",\\n    \\\"literature and architecture\\\",\\n    \\\"space architect and spaceport planner\\\",\\n    \\\"architect and industrial designer\\\",\\n    \\\"town planner and architect\\\",\\n    \\\"architectural photographer\\\",\\n    \\\"architect and sculptor\\\",\\n    \\\"potter and architect\\\",\\n    \\\"architecture critic\\\",\\n    \\\"naval architect\\\",\\n    \\\"architect and urban designer\\\",\\n    \\\"golf course architect\\\",\\n    \\\"designer and architect\\\",\\n    \\\"architect and architectural\\\",\\n    \\\"sculptor and architect\\\",\\n    \\\"architect and town planner\\\",\\n    \\\"modernist architect\\\",\\n    \\\"architect and urban planner\\\",\\n    \\\"architect and designer\\\",\\n    \\\"landscape architect and\\\",\\n    \\\"landscape architect\\\",\\n    \\\"and architectural\\\",\\n    \\\"architectural\\\",\\n    \\\"of architecture\\\",\\n    \\\"and restoration architect\\\",\\n    \\\"architecture\\\",\\n    \\\"architect and\\\",\\n    \\\"and architect\\\",\\n    \\\"architect\\\",\\n]\\nsports = []\\nsciences = [\\n    \\\"computer architect and high tech\\\",  # before arts\\n]\\n\\nbusiness_farming = []\\nacademia_humanities = [\\n    \\\"antique and architecture preservationist\\\",  # before arts\\n]\\nlaw_enf_military_operator = []\\nspiritual = []\\nsocial = []\\ncrime = []\\nevent_record_other = []\\nother_species = []\";\n",
       "                var nbb_formatted_code = \"# Creating lists for each category\\npolitics_govt_law = [\\\"asylum seeker\\\"]\\n\\narts = [\\n    \\\"architectural and interior designer\\\",\\n    \\\"photographer and architect\\\",\\n    \\\"Southwestern style architect\\\",\\n    \\\"architectural lighting designer\\\",\\n    \\\"church architect and Gothic Revival designer\\\",\\n    \\\"medieval architectural\\\",\\n    \\\"architect and organ designer\\\",\\n    \\\"landscape and garden architect\\\",\\n    \\\"set costume designer and architect\\\",\\n    \\\"architect and raconteur\\\",\\n    \\\"architect in Oregon\\\",\\n    \\\"architect of perestroika\\\",\\n    \\\"architect and acoustician\\\",\\n    \\\"architecture critic for\\\",\\n    \\\"interior designer and architect\\\",\\n    \\\"architect and historic\\\",\\n    \\\"architect and photographer\\\",\\n    \\\"furniture designer and architect\\\",\\n    \\\"architect and interior designer\\\",\\n    \\\"architect and graphic designer\\\",\\n    \\\"architect and art collector\\\",\\n    \\\"and course architect\\\",\\n    \\\"horticultural architect\\\",\\n    \\\"architect and designer of the flag of\\\",\\n    \\\"architect and furniture designer\\\",\\n    \\\"furniture designer and interior architect\\\",\\n    \\\"architect and landscape architect\\\",\\n    \\\"architecture and blues\\\",\\n    \\\"temple architect and sculptor\\\",\\n    \\\"bridge architect\\\",\\n    \\\"architectural critic\\\",\\n    \\\"industrial designer and architect\\\",\\n    \\\"architect and caveman\\\",\\n    \\\"literature and architecture\\\",\\n    \\\"space architect and spaceport planner\\\",\\n    \\\"architect and industrial designer\\\",\\n    \\\"town planner and architect\\\",\\n    \\\"architectural photographer\\\",\\n    \\\"architect and sculptor\\\",\\n    \\\"potter and architect\\\",\\n    \\\"architecture critic\\\",\\n    \\\"naval architect\\\",\\n    \\\"architect and urban designer\\\",\\n    \\\"golf course architect\\\",\\n    \\\"designer and architect\\\",\\n    \\\"architect and architectural\\\",\\n    \\\"sculptor and architect\\\",\\n    \\\"architect and town planner\\\",\\n    \\\"modernist architect\\\",\\n    \\\"architect and urban planner\\\",\\n    \\\"architect and designer\\\",\\n    \\\"landscape architect and\\\",\\n    \\\"landscape architect\\\",\\n    \\\"and architectural\\\",\\n    \\\"architectural\\\",\\n    \\\"of architecture\\\",\\n    \\\"and restoration architect\\\",\\n    \\\"architecture\\\",\\n    \\\"architect and\\\",\\n    \\\"and architect\\\",\\n    \\\"architect\\\",\\n]\\nsports = []\\nsciences = [\\n    \\\"computer architect and high tech\\\",  # before arts\\n]\\n\\nbusiness_farming = []\\nacademia_humanities = [\\n    \\\"antique and architecture preservationist\\\",  # before arts\\n]\\nlaw_enf_military_operator = []\\nspiritual = []\\nsocial = []\\ncrime = []\\nevent_record_other = []\\nother_species = []\";\n",
       "                var nbb_cells = Jupyter.notebook.get_cells();\n",
       "                for (var i = 0; i < nbb_cells.length; ++i) {\n",
       "                    if (nbb_cells[i].input_prompt_number == nbb_cell_id) {\n",
       "                        if (nbb_cells[i].get_text() == nbb_unformatted_code) {\n",
       "                             nbb_cells[i].set_text(nbb_formatted_code);\n",
       "                        }\n",
       "                        break;\n",
       "                    }\n",
       "                }\n",
       "            }, 500);\n",
       "            "
      ],
      "text/plain": [
       "<IPython.core.display.Javascript object>"
      ]
     },
     "metadata": {},
     "output_type": "display_data"
    }
   ],
   "source": [
    "# Creating lists for each category\n",
    "politics_govt_law = [\"asylum seeker\"]\n",
    "\n",
    "arts = [\n",
    "    \"architectural and interior designer\",\n",
    "    \"photographer and architect\",\n",
    "    \"Southwestern style architect\",\n",
    "    \"architectural lighting designer\",\n",
    "    \"church architect and Gothic Revival designer\",\n",
    "    \"medieval architectural\",\n",
    "    \"architect and organ designer\",\n",
    "    \"landscape and garden architect\",\n",
    "    \"set costume designer and architect\",\n",
    "    \"architect and raconteur\",\n",
    "    \"architect in Oregon\",\n",
    "    \"architect of perestroika\",\n",
    "    \"architect and acoustician\",\n",
    "    \"architecture critic for\",\n",
    "    \"interior designer and architect\",\n",
    "    \"architect and historic\",\n",
    "    \"architect and photographer\",\n",
    "    \"furniture designer and architect\",\n",
    "    \"architect and interior designer\",\n",
    "    \"architect and graphic designer\",\n",
    "    \"architect and art collector\",\n",
    "    \"and course architect\",\n",
    "    \"horticultural architect\",\n",
    "    \"architect and designer of the flag of\",\n",
    "    \"architect and furniture designer\",\n",
    "    \"furniture designer and interior architect\",\n",
    "    \"architect and landscape architect\",\n",
    "    \"architecture and blues\",\n",
    "    \"temple architect and sculptor\",\n",
    "    \"bridge architect\",\n",
    "    \"architectural critic\",\n",
    "    \"industrial designer and architect\",\n",
    "    \"architect and caveman\",\n",
    "    \"literature and architecture\",\n",
    "    \"space architect and spaceport planner\",\n",
    "    \"architect and industrial designer\",\n",
    "    \"town planner and architect\",\n",
    "    \"architectural photographer\",\n",
    "    \"architect and sculptor\",\n",
    "    \"potter and architect\",\n",
    "    \"architecture critic\",\n",
    "    \"naval architect\",\n",
    "    \"architect and urban designer\",\n",
    "    \"golf course architect\",\n",
    "    \"designer and architect\",\n",
    "    \"architect and architectural\",\n",
    "    \"sculptor and architect\",\n",
    "    \"architect and town planner\",\n",
    "    \"modernist architect\",\n",
    "    \"architect and urban planner\",\n",
    "    \"architect and designer\",\n",
    "    \"landscape architect and\",\n",
    "    \"landscape architect\",\n",
    "    \"and architectural\",\n",
    "    \"architectural\",\n",
    "    \"of architecture\",\n",
    "    \"and restoration architect\",\n",
    "    \"architecture\",\n",
    "    \"architect and\",\n",
    "    \"and architect\",\n",
    "    \"architect\",\n",
    "]\n",
    "sports = []\n",
    "sciences = [\n",
    "    \"computer architect and high tech\",  # before arts\n",
    "]\n",
    "\n",
    "business_farming = []\n",
    "academia_humanities = [\n",
    "    \"antique and architecture preservationist\",  # before arts\n",
    "]\n",
    "law_enf_military_operator = []\n",
    "spiritual = []\n",
    "social = []\n",
    "crime = []\n",
    "event_record_other = []\n",
    "other_species = []"
   ]
  },
  {
   "cell_type": "markdown",
   "id": "4aeac9a1",
   "metadata": {},
   "source": [
    "#### Creating `known_for_dict` Dictionary of Category Keys and Specific Role Lists of Values"
   ]
  },
  {
   "cell_type": "code",
   "execution_count": 33,
   "id": "8040d1cf",
   "metadata": {},
   "outputs": [
    {
     "data": {
      "application/javascript": [
       "\n",
       "            setTimeout(function() {\n",
       "                var nbb_cell_id = 33;\n",
       "                var nbb_unformatted_code = \"# Combining separate lists into one dictionary\\nknown_for_dict = {\\n    \\\"social\\\": social,\\n    \\\"spiritual\\\": spiritual,\\n    \\\"academia_humanities\\\": academia_humanities,\\n    \\\"business_farming\\\": business_farming,\\n    \\\"sciences\\\": sciences,\\n    \\\"politics_govt_law\\\": politics_govt_law,\\n    \\\"law_enf_military_operator\\\": law_enf_military_operator,\\n    \\\"crime\\\": crime,\\n    \\\"event_record_other\\\": event_record_other,\\n    \\\"other_species\\\": other_species,\\n    \\\"arts\\\": arts,\\n    \\\"sports\\\": sports,\\n}\";\n",
       "                var nbb_formatted_code = \"# Combining separate lists into one dictionary\\nknown_for_dict = {\\n    \\\"social\\\": social,\\n    \\\"spiritual\\\": spiritual,\\n    \\\"academia_humanities\\\": academia_humanities,\\n    \\\"business_farming\\\": business_farming,\\n    \\\"sciences\\\": sciences,\\n    \\\"politics_govt_law\\\": politics_govt_law,\\n    \\\"law_enf_military_operator\\\": law_enf_military_operator,\\n    \\\"crime\\\": crime,\\n    \\\"event_record_other\\\": event_record_other,\\n    \\\"other_species\\\": other_species,\\n    \\\"arts\\\": arts,\\n    \\\"sports\\\": sports,\\n}\";\n",
       "                var nbb_cells = Jupyter.notebook.get_cells();\n",
       "                for (var i = 0; i < nbb_cells.length; ++i) {\n",
       "                    if (nbb_cells[i].input_prompt_number == nbb_cell_id) {\n",
       "                        if (nbb_cells[i].get_text() == nbb_unformatted_code) {\n",
       "                             nbb_cells[i].set_text(nbb_formatted_code);\n",
       "                        }\n",
       "                        break;\n",
       "                    }\n",
       "                }\n",
       "            }, 500);\n",
       "            "
      ],
      "text/plain": [
       "<IPython.core.display.Javascript object>"
      ]
     },
     "metadata": {},
     "output_type": "display_data"
    }
   ],
   "source": [
    "# Combining separate lists into one dictionary\n",
    "known_for_dict = {\n",
    "    \"social\": social,\n",
    "    \"spiritual\": spiritual,\n",
    "    \"academia_humanities\": academia_humanities,\n",
    "    \"business_farming\": business_farming,\n",
    "    \"sciences\": sciences,\n",
    "    \"politics_govt_law\": politics_govt_law,\n",
    "    \"law_enf_military_operator\": law_enf_military_operator,\n",
    "    \"crime\": crime,\n",
    "    \"event_record_other\": event_record_other,\n",
    "    \"other_species\": other_species,\n",
    "    \"arts\": arts,\n",
    "    \"sports\": sports,\n",
    "}"
   ]
  },
  {
   "cell_type": "markdown",
   "id": "1f09e802",
   "metadata": {},
   "source": [
    "#### Extracting Category from `info_2`"
   ]
  },
  {
   "cell_type": "code",
   "execution_count": 34,
   "id": "59915ce7",
   "metadata": {},
   "outputs": [
    {
     "name": "stdout",
     "output_type": "stream",
     "text": [
      "CPU times: total: 34.9 s\n",
      "Wall time: 34.9 s\n"
     ]
    },
    {
     "data": {
      "text/html": [
       "<div>\n",
       "<style scoped>\n",
       "    .dataframe tbody tr th:only-of-type {\n",
       "        vertical-align: middle;\n",
       "    }\n",
       "\n",
       "    .dataframe tbody tr th {\n",
       "        vertical-align: top;\n",
       "    }\n",
       "\n",
       "    .dataframe thead th {\n",
       "        text-align: right;\n",
       "    }\n",
       "</style>\n",
       "<table border=\"1\" class=\"dataframe\">\n",
       "  <thead>\n",
       "    <tr style=\"text-align: right;\">\n",
       "      <th></th>\n",
       "      <th>day</th>\n",
       "      <th>name</th>\n",
       "      <th>info</th>\n",
       "      <th>link</th>\n",
       "      <th>num_references</th>\n",
       "      <th>year</th>\n",
       "      <th>month</th>\n",
       "      <th>info_parenth</th>\n",
       "      <th>info_1</th>\n",
       "      <th>info_2</th>\n",
       "      <th>info_3</th>\n",
       "      <th>info_4</th>\n",
       "      <th>info_5</th>\n",
       "      <th>info_6</th>\n",
       "      <th>info_7</th>\n",
       "      <th>info_8</th>\n",
       "      <th>info_9</th>\n",
       "      <th>info_10</th>\n",
       "      <th>info_11</th>\n",
       "      <th>age</th>\n",
       "      <th>cause_of_death</th>\n",
       "      <th>place_1</th>\n",
       "      <th>place_2</th>\n",
       "      <th>info_parenth_copy</th>\n",
       "      <th>log_num_references</th>\n",
       "      <th>sciences</th>\n",
       "      <th>social</th>\n",
       "      <th>spiritual</th>\n",
       "      <th>academia_humanities</th>\n",
       "      <th>business_farming</th>\n",
       "      <th>arts</th>\n",
       "      <th>sports</th>\n",
       "      <th>law_enf_military_operator</th>\n",
       "      <th>politics_govt_law</th>\n",
       "      <th>crime</th>\n",
       "      <th>event_record_other</th>\n",
       "      <th>other_species</th>\n",
       "      <th>num_categories</th>\n",
       "    </tr>\n",
       "  </thead>\n",
       "  <tbody>\n",
       "    <tr>\n",
       "      <th>19742</th>\n",
       "      <td>20</td>\n",
       "      <td>J. D. Cannon</td>\n",
       "      <td>, 83, American actor.</td>\n",
       "      <td>https://en.wikipedia.org/wiki/J._D._Cannon</td>\n",
       "      <td>4</td>\n",
       "      <td>2005</td>\n",
       "      <td>May</td>\n",
       "      <td>None</td>\n",
       "      <td>None</td>\n",
       "      <td></td>\n",
       "      <td>None</td>\n",
       "      <td>None</td>\n",
       "      <td>None</td>\n",
       "      <td>None</td>\n",
       "      <td>None</td>\n",
       "      <td>None</td>\n",
       "      <td>None</td>\n",
       "      <td>None</td>\n",
       "      <td>None</td>\n",
       "      <td>83.0</td>\n",
       "      <td>None</td>\n",
       "      <td>United States of America</td>\n",
       "      <td>None</td>\n",
       "      <td>None</td>\n",
       "      <td>1.609438</td>\n",
       "      <td>0</td>\n",
       "      <td>0</td>\n",
       "      <td>0</td>\n",
       "      <td>0</td>\n",
       "      <td>0</td>\n",
       "      <td>1</td>\n",
       "      <td>0</td>\n",
       "      <td>0</td>\n",
       "      <td>0</td>\n",
       "      <td>0</td>\n",
       "      <td>0</td>\n",
       "      <td>0</td>\n",
       "      <td>1</td>\n",
       "    </tr>\n",
       "    <tr>\n",
       "      <th>10227</th>\n",
       "      <td>4</td>\n",
       "      <td>John Douglas Pringle</td>\n",
       "      <td>, 87, Australian journalist.</td>\n",
       "      <td>https://en.wikipedia.org/wiki/John_Douglas_Pringle</td>\n",
       "      <td>11</td>\n",
       "      <td>1999</td>\n",
       "      <td>December</td>\n",
       "      <td>None</td>\n",
       "      <td>None</td>\n",
       "      <td></td>\n",
       "      <td>None</td>\n",
       "      <td>None</td>\n",
       "      <td>None</td>\n",
       "      <td>None</td>\n",
       "      <td>None</td>\n",
       "      <td>None</td>\n",
       "      <td>None</td>\n",
       "      <td>None</td>\n",
       "      <td>None</td>\n",
       "      <td>87.0</td>\n",
       "      <td>None</td>\n",
       "      <td>Australia</td>\n",
       "      <td>None</td>\n",
       "      <td>None</td>\n",
       "      <td>2.484907</td>\n",
       "      <td>0</td>\n",
       "      <td>0</td>\n",
       "      <td>0</td>\n",
       "      <td>0</td>\n",
       "      <td>0</td>\n",
       "      <td>1</td>\n",
       "      <td>0</td>\n",
       "      <td>0</td>\n",
       "      <td>0</td>\n",
       "      <td>0</td>\n",
       "      <td>0</td>\n",
       "      <td>0</td>\n",
       "      <td>1</td>\n",
       "    </tr>\n",
       "  </tbody>\n",
       "</table>\n",
       "</div>"
      ],
      "text/plain": [
       "      day                  name                          info  \\\n",
       "19742  20          J. D. Cannon         , 83, American actor.   \n",
       "10227   4  John Douglas Pringle  , 87, Australian journalist.   \n",
       "\n",
       "                                                     link  num_references  \\\n",
       "19742          https://en.wikipedia.org/wiki/J._D._Cannon               4   \n",
       "10227  https://en.wikipedia.org/wiki/John_Douglas_Pringle              11   \n",
       "\n",
       "       year     month info_parenth info_1 info_2 info_3 info_4 info_5 info_6  \\\n",
       "19742  2005       May         None   None          None   None   None   None   \n",
       "10227  1999  December         None   None          None   None   None   None   \n",
       "\n",
       "      info_7 info_8 info_9 info_10 info_11   age cause_of_death  \\\n",
       "19742   None   None   None    None    None  83.0           None   \n",
       "10227   None   None   None    None    None  87.0           None   \n",
       "\n",
       "                        place_1 place_2 info_parenth_copy  log_num_references  \\\n",
       "19742  United States of America    None              None            1.609438   \n",
       "10227                 Australia    None              None            2.484907   \n",
       "\n",
       "       sciences  social  spiritual  academia_humanities  business_farming  \\\n",
       "19742         0       0          0                    0                 0   \n",
       "10227         0       0          0                    0                 0   \n",
       "\n",
       "       arts  sports  law_enf_military_operator  politics_govt_law  crime  \\\n",
       "19742     1       0                          0                  0      0   \n",
       "10227     1       0                          0                  0      0   \n",
       "\n",
       "       event_record_other  other_species  num_categories  \n",
       "19742                   0              0               1  \n",
       "10227                   0              0               1  "
      ]
     },
     "execution_count": 34,
     "metadata": {},
     "output_type": "execute_result"
    },
    {
     "data": {
      "application/javascript": [
       "\n",
       "            setTimeout(function() {\n",
       "                var nbb_cell_id = 34;\n",
       "                var nbb_unformatted_code = \"%%time\\n\\n# Dictionary version\\nsearch_dict = known_for_dict\\n\\n# Column to check\\ncolumn = 'info_2'\\n\\n# Dataframe\\ndataframe = df[column].notna()\\n\\n# For loop to find role in column and extract it as category\\nfor category, category_lst in search_dict.items():\\n    for role in category_lst:\\n        for index in dataframe.index:\\n            item = df.loc[index, column]\\n            if item:\\n                if role in item:\\n                    df.loc[index, category] = 1\\n                    df.loc[index, column] = item.replace(role, '').strip()\\n\\n# Updating num_categories\\ndf[\\\"num_categories\\\"] = df[known_for_dict.keys()].sum(axis=1)\\n\\n# Checking a sample of rows\\ndf[df['arts'] ==1].sample(2)\";\n",
       "                var nbb_formatted_code = \"%%time\\n\\n# Dictionary version\\nsearch_dict = known_for_dict\\n\\n# Column to check\\ncolumn = 'info_2'\\n\\n# Dataframe\\ndataframe = df[column].notna()\\n\\n# For loop to find role in column and extract it as category\\nfor category, category_lst in search_dict.items():\\n    for role in category_lst:\\n        for index in dataframe.index:\\n            item = df.loc[index, column]\\n            if item:\\n                if role in item:\\n                    df.loc[index, category] = 1\\n                    df.loc[index, column] = item.replace(role, '').strip()\\n\\n# Updating num_categories\\ndf[\\\"num_categories\\\"] = df[known_for_dict.keys()].sum(axis=1)\\n\\n# Checking a sample of rows\\ndf[df['arts'] ==1].sample(2)\";\n",
       "                var nbb_cells = Jupyter.notebook.get_cells();\n",
       "                for (var i = 0; i < nbb_cells.length; ++i) {\n",
       "                    if (nbb_cells[i].input_prompt_number == nbb_cell_id) {\n",
       "                        if (nbb_cells[i].get_text() == nbb_unformatted_code) {\n",
       "                             nbb_cells[i].set_text(nbb_formatted_code);\n",
       "                        }\n",
       "                        break;\n",
       "                    }\n",
       "                }\n",
       "            }, 500);\n",
       "            "
      ],
      "text/plain": [
       "<IPython.core.display.Javascript object>"
      ]
     },
     "metadata": {},
     "output_type": "display_data"
    }
   ],
   "source": [
    "%%time\n",
    "\n",
    "# Dictionary version\n",
    "search_dict = known_for_dict\n",
    "\n",
    "# Column to check\n",
    "column = 'info_2'\n",
    "\n",
    "# Dataframe\n",
    "dataframe = df[column].notna()\n",
    "\n",
    "# For loop to find role in column and extract it as category\n",
    "for category, category_lst in search_dict.items():\n",
    "    for role in category_lst:\n",
    "        for index in dataframe.index:\n",
    "            item = df.loc[index, column]\n",
    "            if item:\n",
    "                if role in item:\n",
    "                    df.loc[index, category] = 1\n",
    "                    df.loc[index, column] = item.replace(role, '').strip()\n",
    "\n",
    "# Updating num_categories\n",
    "df[\"num_categories\"] = df[known_for_dict.keys()].sum(axis=1)\n",
    "\n",
    "# Checking a sample of rows\n",
    "df[df['arts'] ==1].sample(2)"
   ]
  },
  {
   "cell_type": "markdown",
   "id": "361e3e92",
   "metadata": {},
   "source": [
    "#### Checking the Number of Rows without a First Category"
   ]
  },
  {
   "cell_type": "code",
   "execution_count": 35,
   "id": "d8c4f286",
   "metadata": {},
   "outputs": [
    {
     "name": "stdout",
     "output_type": "stream",
     "text": [
      "There are 43450 entries without any known_for category.\n"
     ]
    },
    {
     "data": {
      "application/javascript": [
       "\n",
       "            setTimeout(function() {\n",
       "                var nbb_cell_id = 35;\n",
       "                var nbb_unformatted_code = \"#### Checking the number of rows without a first category\\nprint(\\n    f'There are {len(df[df[\\\"num_categories\\\"]==0])} entries without any known_for category.'\\n)\";\n",
       "                var nbb_formatted_code = \"#### Checking the number of rows without a first category\\nprint(\\n    f'There are {len(df[df[\\\"num_categories\\\"]==0])} entries without any known_for category.'\\n)\";\n",
       "                var nbb_cells = Jupyter.notebook.get_cells();\n",
       "                for (var i = 0; i < nbb_cells.length; ++i) {\n",
       "                    if (nbb_cells[i].input_prompt_number == nbb_cell_id) {\n",
       "                        if (nbb_cells[i].get_text() == nbb_unformatted_code) {\n",
       "                             nbb_cells[i].set_text(nbb_formatted_code);\n",
       "                        }\n",
       "                        break;\n",
       "                    }\n",
       "                }\n",
       "            }, 500);\n",
       "            "
      ],
      "text/plain": [
       "<IPython.core.display.Javascript object>"
      ]
     },
     "metadata": {},
     "output_type": "display_data"
    }
   ],
   "source": [
    "#### Checking the number of rows without a first category\n",
    "print(\n",
    "    f'There are {len(df[df[\"num_categories\"]==0])} entries without any known_for category.'\n",
    ")"
   ]
  },
  {
   "cell_type": "markdown",
   "id": "c99bd2f0",
   "metadata": {},
   "source": [
    "#### Observations:\n",
    "- We will proceed to rebuild `known_for_dict` for the next iteration."
   ]
  },
  {
   "cell_type": "markdown",
   "id": "60d94465",
   "metadata": {},
   "source": [
    "#### Finding `known_for` Roles in `info_2`"
   ]
  },
  {
   "cell_type": "code",
   "execution_count": 36,
   "id": "070fab0a",
   "metadata": {},
   "outputs": [
    {
     "data": {
      "application/javascript": [
       "\n",
       "            setTimeout(function() {\n",
       "                var nbb_cell_id = 36;\n",
       "                var nbb_unformatted_code = \"# Obtaining values for column and their counts\\nroles_list = df[\\\"info_2\\\"].value_counts(ascending=True).index.tolist()\";\n",
       "                var nbb_formatted_code = \"# Obtaining values for column and their counts\\nroles_list = df[\\\"info_2\\\"].value_counts(ascending=True).index.tolist()\";\n",
       "                var nbb_cells = Jupyter.notebook.get_cells();\n",
       "                for (var i = 0; i < nbb_cells.length; ++i) {\n",
       "                    if (nbb_cells[i].input_prompt_number == nbb_cell_id) {\n",
       "                        if (nbb_cells[i].get_text() == nbb_unformatted_code) {\n",
       "                             nbb_cells[i].set_text(nbb_formatted_code);\n",
       "                        }\n",
       "                        break;\n",
       "                    }\n",
       "                }\n",
       "            }, 500);\n",
       "            "
      ],
      "text/plain": [
       "<IPython.core.display.Javascript object>"
      ]
     },
     "metadata": {},
     "output_type": "display_data"
    }
   ],
   "source": [
    "# Obtaining values for column and their counts\n",
    "roles_list = df[\"info_2\"].value_counts(ascending=True).index.tolist()"
   ]
  },
  {
   "cell_type": "code",
   "execution_count": 37,
   "id": "a6db2c45",
   "metadata": {},
   "outputs": [
    {
     "data": {
      "application/javascript": [
       "\n",
       "            setTimeout(function() {\n",
       "                var nbb_cell_id = 37;\n",
       "                var nbb_unformatted_code = \"# # Code to check each value\\n# roles_list.pop()\";\n",
       "                var nbb_formatted_code = \"# # Code to check each value\\n# roles_list.pop()\";\n",
       "                var nbb_cells = Jupyter.notebook.get_cells();\n",
       "                for (var i = 0; i < nbb_cells.length; ++i) {\n",
       "                    if (nbb_cells[i].input_prompt_number == nbb_cell_id) {\n",
       "                        if (nbb_cells[i].get_text() == nbb_unformatted_code) {\n",
       "                             nbb_cells[i].set_text(nbb_formatted_code);\n",
       "                        }\n",
       "                        break;\n",
       "                    }\n",
       "                }\n",
       "            }, 500);\n",
       "            "
      ],
      "text/plain": [
       "<IPython.core.display.Javascript object>"
      ]
     },
     "metadata": {},
     "output_type": "display_data"
    }
   ],
   "source": [
    "# # Code to check each value\n",
    "# roles_list.pop()"
   ]
  },
  {
   "cell_type": "code",
   "execution_count": 38,
   "id": "a74e8196",
   "metadata": {},
   "outputs": [
    {
     "data": {
      "application/javascript": [
       "\n",
       "            setTimeout(function() {\n",
       "                var nbb_cell_id = 38;\n",
       "                var nbb_unformatted_code = \"# # Create specific_roles_list for above popped value\\n# specific_roles_list = (\\n#     df.loc[\\n#         [index for index in df.index if \\\"photographer\\\" in df.loc[index, \\\"info\\\"]],\\n#         \\\"info_2\\\",\\n#     ]\\n#     .value_counts()\\n#     .index.tolist()\\n# )\";\n",
       "                var nbb_formatted_code = \"# # Create specific_roles_list for above popped value\\n# specific_roles_list = (\\n#     df.loc[\\n#         [index for index in df.index if \\\"photographer\\\" in df.loc[index, \\\"info\\\"]],\\n#         \\\"info_2\\\",\\n#     ]\\n#     .value_counts()\\n#     .index.tolist()\\n# )\";\n",
       "                var nbb_cells = Jupyter.notebook.get_cells();\n",
       "                for (var i = 0; i < nbb_cells.length; ++i) {\n",
       "                    if (nbb_cells[i].input_prompt_number == nbb_cell_id) {\n",
       "                        if (nbb_cells[i].get_text() == nbb_unformatted_code) {\n",
       "                             nbb_cells[i].set_text(nbb_formatted_code);\n",
       "                        }\n",
       "                        break;\n",
       "                    }\n",
       "                }\n",
       "            }, 500);\n",
       "            "
      ],
      "text/plain": [
       "<IPython.core.display.Javascript object>"
      ]
     },
     "metadata": {},
     "output_type": "display_data"
    }
   ],
   "source": [
    "# # Create specific_roles_list for above popped value\n",
    "# specific_roles_list = (\n",
    "#     df.loc[\n",
    "#         [index for index in df.index if \"photographer\" in df.loc[index, \"info\"]],\n",
    "#         \"info_2\",\n",
    "#     ]\n",
    "#     .value_counts()\n",
    "#     .index.tolist()\n",
    "# )"
   ]
  },
  {
   "cell_type": "code",
   "execution_count": 39,
   "id": "942e552e",
   "metadata": {},
   "outputs": [
    {
     "data": {
      "application/javascript": [
       "\n",
       "            setTimeout(function() {\n",
       "                var nbb_cell_id = 39;\n",
       "                var nbb_unformatted_code = \"# # Code to check each specific value\\n# specific_roles_list.pop()\";\n",
       "                var nbb_formatted_code = \"# # Code to check each specific value\\n# specific_roles_list.pop()\";\n",
       "                var nbb_cells = Jupyter.notebook.get_cells();\n",
       "                for (var i = 0; i < nbb_cells.length; ++i) {\n",
       "                    if (nbb_cells[i].input_prompt_number == nbb_cell_id) {\n",
       "                        if (nbb_cells[i].get_text() == nbb_unformatted_code) {\n",
       "                             nbb_cells[i].set_text(nbb_formatted_code);\n",
       "                        }\n",
       "                        break;\n",
       "                    }\n",
       "                }\n",
       "            }, 500);\n",
       "            "
      ],
      "text/plain": [
       "<IPython.core.display.Javascript object>"
      ]
     },
     "metadata": {},
     "output_type": "display_data"
    }
   ],
   "source": [
    "# # Code to check each specific value\n",
    "# specific_roles_list.pop()"
   ]
  },
  {
   "cell_type": "code",
   "execution_count": 40,
   "id": "6d475c2b",
   "metadata": {},
   "outputs": [
    {
     "data": {
      "application/javascript": [
       "\n",
       "            setTimeout(function() {\n",
       "                var nbb_cell_id = 40;\n",
       "                var nbb_unformatted_code = \"# # Example code to quick-screen values that may overlap categories\\n# df.loc[[index for index in df.index if \\\"photographer of the\\\" in df.loc[index, \\\"info\\\"]]]\";\n",
       "                var nbb_formatted_code = \"# # Example code to quick-screen values that may overlap categories\\n# df.loc[[index for index in df.index if \\\"photographer of the\\\" in df.loc[index, \\\"info\\\"]]]\";\n",
       "                var nbb_cells = Jupyter.notebook.get_cells();\n",
       "                for (var i = 0; i < nbb_cells.length; ++i) {\n",
       "                    if (nbb_cells[i].input_prompt_number == nbb_cell_id) {\n",
       "                        if (nbb_cells[i].get_text() == nbb_unformatted_code) {\n",
       "                             nbb_cells[i].set_text(nbb_formatted_code);\n",
       "                        }\n",
       "                        break;\n",
       "                    }\n",
       "                }\n",
       "            }, 500);\n",
       "            "
      ],
      "text/plain": [
       "<IPython.core.display.Javascript object>"
      ]
     },
     "metadata": {},
     "output_type": "display_data"
    }
   ],
   "source": [
    "# # Example code to quick-screen values that may overlap categories\n",
    "# df.loc[[index for index in df.index if \"photographer of the\" in df.loc[index, \"info\"]]]"
   ]
  },
  {
   "cell_type": "code",
   "execution_count": 41,
   "id": "cf3988dc",
   "metadata": {},
   "outputs": [
    {
     "data": {
      "application/javascript": [
       "\n",
       "            setTimeout(function() {\n",
       "                var nbb_cell_id = 41;\n",
       "                var nbb_unformatted_code = \"# # Example code to quick-check a specific entry\\n# df[df[\\\"info_2\\\"] == \\\"public relations executive and photographer\\\"]\";\n",
       "                var nbb_formatted_code = \"# # Example code to quick-check a specific entry\\n# df[df[\\\"info_2\\\"] == \\\"public relations executive and photographer\\\"]\";\n",
       "                var nbb_cells = Jupyter.notebook.get_cells();\n",
       "                for (var i = 0; i < nbb_cells.length; ++i) {\n",
       "                    if (nbb_cells[i].input_prompt_number == nbb_cell_id) {\n",
       "                        if (nbb_cells[i].get_text() == nbb_unformatted_code) {\n",
       "                             nbb_cells[i].set_text(nbb_formatted_code);\n",
       "                        }\n",
       "                        break;\n",
       "                    }\n",
       "                }\n",
       "            }, 500);\n",
       "            "
      ],
      "text/plain": [
       "<IPython.core.display.Javascript object>"
      ]
     },
     "metadata": {},
     "output_type": "display_data"
    }
   ],
   "source": [
    "# # Example code to quick-check a specific entry\n",
    "# df[df[\"info_2\"] == \"public relations executive and photographer\"]"
   ]
  },
  {
   "cell_type": "markdown",
   "id": "5d3e2719",
   "metadata": {},
   "source": [
    "#### Creating Lists for Each `known_for` Category"
   ]
  },
  {
   "cell_type": "code",
   "execution_count": 42,
   "id": "4925d697",
   "metadata": {},
   "outputs": [
    {
     "data": {
      "application/javascript": [
       "\n",
       "            setTimeout(function() {\n",
       "                var nbb_cell_id = 42;\n",
       "                var nbb_unformatted_code = \"# Creating lists for each category\\npolitics_govt_law = []\\n\\narts = [\\n    \\\"crime photographer\\\",\\n    \\\"photographer and illustrator\\\",\\n    \\\"adult photographer\\\",\\n    \\\"photographer of children\\\",\\n    'photographer who pioneered \\\"environmental portraiture\\\"',\\n    \\\"photographer at the fall of Saigon\\\",\\n    \\\"photographer of indigenous peoples in\\\",\\n    \\\"underwater photographer and filmmaker\\\",\\n    \\\"photographer and founder of\\\",\\n    \\\"photographer and editor\\\",\\n    \\\"photographer and camera operator\\\",\\n    \\\"underwater nature photographer\\\",\\n    \\\"photographer and news executive\\\",\\n    \\\"fashion and portrait photographer\\\",\\n    \\\"photographer based in San Francisco\\\",\\n    \\\"photographer born in M\\u00e9rida\\\",\\n    \\\"photographer and secret FBI\\\",\\n    \\\"photographer during World War II\\\",\\n    \\\"glamour photographer and director of pornographic films\\\",\\n    \\\"photographer and war correspondent\\\",\\n    \\\"newspaper photographer\\\",\\n    \\\"double bassist and photographer\\\",\\n    \\\"photographer and photo essayist\\\",\\n    \\\"portrait photographer\\\",\\n    \\\"wilderness photographer\\\",\\n    \\\"press photographer\\\",\\n    \\\"music producer and photographer\\\",\\n    \\\"publisher and photographer\\\",\\n    \\\"photographer and art critic\\\",\\n    \\\"photographer and ballet dancer\\\",\\n    \\\"photographer and publicist\\\",\\n    \\\"photographer and theatre director\\\",\\n    \\\"engraver and photographer\\\",\\n    \\\"advertising photographer\\\",\\n    \\\"erotic photographer\\\",\\n    \\\"graphic designer and photographer\\\",\\n    \\\"photographer and art director\\\",\\n    \\\"public relations executive and photographer\\\",\\n    \\\"punk rock and art photographer\\\",\\n    \\\"fine art photographer\\\",\\n    \\\"photographer and documentary filmmaker\\\",\\n    \\\"environmental photographer\\\",\\n    \\\"photographer and blogger\\\",\\n    \\\"photographer and cinematographer\\\",\\n    \\\"photographer and biographer\\\",\\n    \\\"printmaker and photographer\\\",\\n    \\\"jazz and blues photographer\\\",\\n    \\\"commercial photographer\\\",\\n    \\\"aerial photographer and director\\\",\\n    \\\"newspaper and magazine photographer\\\",\\n    \\\"photographer and film maker\\\",\\n    \\\"filmmaker and photographer\\\",\\n    \\\"photographer and graphic designer\\\",\\n    \\\"street photographer\\\",\\n    \\\"photographer and model\\\",\\n    \\\"model and photographer\\\",\\n    \\\"news photographer\\\",\\n    \\\"and wildlife photographer\\\",\\n    \\\"wildlife photographer\\\",\\n    \\\"jazz photographer\\\",\\n    \\\"aerial photographer\\\",\\n    \\\"documentary photographer\\\",\\n    \\\"celebrity photographer\\\",\\n    \\\"photographer and filmmaker\\\",\\n    \\\"art photographer\\\",\\n    \\\"Pulitzer Prize winning photographer\\\",\\n    \\\"fashion photographer and\\\",\\n    \\\"fashion photographer\\\",\\n    \\\"photographer of the\\\",\\n    \\\"and Holocaust photographer\\\",\\n    \\\"photographer and\\\",\\n    \\\"and photographer\\\",\\n    \\\"photographer\\\",\\n]\\nsports = []\\nsciences = []\\n\\nbusiness_farming = []\\nacademia_humanities = []\\nlaw_enf_military_operator = []\\nspiritual = []\\nsocial = []\\ncrime = []\\nevent_record_other = []\\nother_species = []\";\n",
       "                var nbb_formatted_code = \"# Creating lists for each category\\npolitics_govt_law = []\\n\\narts = [\\n    \\\"crime photographer\\\",\\n    \\\"photographer and illustrator\\\",\\n    \\\"adult photographer\\\",\\n    \\\"photographer of children\\\",\\n    'photographer who pioneered \\\"environmental portraiture\\\"',\\n    \\\"photographer at the fall of Saigon\\\",\\n    \\\"photographer of indigenous peoples in\\\",\\n    \\\"underwater photographer and filmmaker\\\",\\n    \\\"photographer and founder of\\\",\\n    \\\"photographer and editor\\\",\\n    \\\"photographer and camera operator\\\",\\n    \\\"underwater nature photographer\\\",\\n    \\\"photographer and news executive\\\",\\n    \\\"fashion and portrait photographer\\\",\\n    \\\"photographer based in San Francisco\\\",\\n    \\\"photographer born in M\\u00e9rida\\\",\\n    \\\"photographer and secret FBI\\\",\\n    \\\"photographer during World War II\\\",\\n    \\\"glamour photographer and director of pornographic films\\\",\\n    \\\"photographer and war correspondent\\\",\\n    \\\"newspaper photographer\\\",\\n    \\\"double bassist and photographer\\\",\\n    \\\"photographer and photo essayist\\\",\\n    \\\"portrait photographer\\\",\\n    \\\"wilderness photographer\\\",\\n    \\\"press photographer\\\",\\n    \\\"music producer and photographer\\\",\\n    \\\"publisher and photographer\\\",\\n    \\\"photographer and art critic\\\",\\n    \\\"photographer and ballet dancer\\\",\\n    \\\"photographer and publicist\\\",\\n    \\\"photographer and theatre director\\\",\\n    \\\"engraver and photographer\\\",\\n    \\\"advertising photographer\\\",\\n    \\\"erotic photographer\\\",\\n    \\\"graphic designer and photographer\\\",\\n    \\\"photographer and art director\\\",\\n    \\\"public relations executive and photographer\\\",\\n    \\\"punk rock and art photographer\\\",\\n    \\\"fine art photographer\\\",\\n    \\\"photographer and documentary filmmaker\\\",\\n    \\\"environmental photographer\\\",\\n    \\\"photographer and blogger\\\",\\n    \\\"photographer and cinematographer\\\",\\n    \\\"photographer and biographer\\\",\\n    \\\"printmaker and photographer\\\",\\n    \\\"jazz and blues photographer\\\",\\n    \\\"commercial photographer\\\",\\n    \\\"aerial photographer and director\\\",\\n    \\\"newspaper and magazine photographer\\\",\\n    \\\"photographer and film maker\\\",\\n    \\\"filmmaker and photographer\\\",\\n    \\\"photographer and graphic designer\\\",\\n    \\\"street photographer\\\",\\n    \\\"photographer and model\\\",\\n    \\\"model and photographer\\\",\\n    \\\"news photographer\\\",\\n    \\\"and wildlife photographer\\\",\\n    \\\"wildlife photographer\\\",\\n    \\\"jazz photographer\\\",\\n    \\\"aerial photographer\\\",\\n    \\\"documentary photographer\\\",\\n    \\\"celebrity photographer\\\",\\n    \\\"photographer and filmmaker\\\",\\n    \\\"art photographer\\\",\\n    \\\"Pulitzer Prize winning photographer\\\",\\n    \\\"fashion photographer and\\\",\\n    \\\"fashion photographer\\\",\\n    \\\"photographer of the\\\",\\n    \\\"and Holocaust photographer\\\",\\n    \\\"photographer and\\\",\\n    \\\"and photographer\\\",\\n    \\\"photographer\\\",\\n]\\nsports = []\\nsciences = []\\n\\nbusiness_farming = []\\nacademia_humanities = []\\nlaw_enf_military_operator = []\\nspiritual = []\\nsocial = []\\ncrime = []\\nevent_record_other = []\\nother_species = []\";\n",
       "                var nbb_cells = Jupyter.notebook.get_cells();\n",
       "                for (var i = 0; i < nbb_cells.length; ++i) {\n",
       "                    if (nbb_cells[i].input_prompt_number == nbb_cell_id) {\n",
       "                        if (nbb_cells[i].get_text() == nbb_unformatted_code) {\n",
       "                             nbb_cells[i].set_text(nbb_formatted_code);\n",
       "                        }\n",
       "                        break;\n",
       "                    }\n",
       "                }\n",
       "            }, 500);\n",
       "            "
      ],
      "text/plain": [
       "<IPython.core.display.Javascript object>"
      ]
     },
     "metadata": {},
     "output_type": "display_data"
    }
   ],
   "source": [
    "# Creating lists for each category\n",
    "politics_govt_law = []\n",
    "\n",
    "arts = [\n",
    "    \"crime photographer\",\n",
    "    \"photographer and illustrator\",\n",
    "    \"adult photographer\",\n",
    "    \"photographer of children\",\n",
    "    'photographer who pioneered \"environmental portraiture\"',\n",
    "    \"photographer at the fall of Saigon\",\n",
    "    \"photographer of indigenous peoples in\",\n",
    "    \"underwater photographer and filmmaker\",\n",
    "    \"photographer and founder of\",\n",
    "    \"photographer and editor\",\n",
    "    \"photographer and camera operator\",\n",
    "    \"underwater nature photographer\",\n",
    "    \"photographer and news executive\",\n",
    "    \"fashion and portrait photographer\",\n",
    "    \"photographer based in San Francisco\",\n",
    "    \"photographer born in Mérida\",\n",
    "    \"photographer and secret FBI\",\n",
    "    \"photographer during World War II\",\n",
    "    \"glamour photographer and director of pornographic films\",\n",
    "    \"photographer and war correspondent\",\n",
    "    \"newspaper photographer\",\n",
    "    \"double bassist and photographer\",\n",
    "    \"photographer and photo essayist\",\n",
    "    \"portrait photographer\",\n",
    "    \"wilderness photographer\",\n",
    "    \"press photographer\",\n",
    "    \"music producer and photographer\",\n",
    "    \"publisher and photographer\",\n",
    "    \"photographer and art critic\",\n",
    "    \"photographer and ballet dancer\",\n",
    "    \"photographer and publicist\",\n",
    "    \"photographer and theatre director\",\n",
    "    \"engraver and photographer\",\n",
    "    \"advertising photographer\",\n",
    "    \"erotic photographer\",\n",
    "    \"graphic designer and photographer\",\n",
    "    \"photographer and art director\",\n",
    "    \"public relations executive and photographer\",\n",
    "    \"punk rock and art photographer\",\n",
    "    \"fine art photographer\",\n",
    "    \"photographer and documentary filmmaker\",\n",
    "    \"environmental photographer\",\n",
    "    \"photographer and blogger\",\n",
    "    \"photographer and cinematographer\",\n",
    "    \"photographer and biographer\",\n",
    "    \"printmaker and photographer\",\n",
    "    \"jazz and blues photographer\",\n",
    "    \"commercial photographer\",\n",
    "    \"aerial photographer and director\",\n",
    "    \"newspaper and magazine photographer\",\n",
    "    \"photographer and film maker\",\n",
    "    \"filmmaker and photographer\",\n",
    "    \"photographer and graphic designer\",\n",
    "    \"street photographer\",\n",
    "    \"photographer and model\",\n",
    "    \"model and photographer\",\n",
    "    \"news photographer\",\n",
    "    \"and wildlife photographer\",\n",
    "    \"wildlife photographer\",\n",
    "    \"jazz photographer\",\n",
    "    \"aerial photographer\",\n",
    "    \"documentary photographer\",\n",
    "    \"celebrity photographer\",\n",
    "    \"photographer and filmmaker\",\n",
    "    \"art photographer\",\n",
    "    \"Pulitzer Prize winning photographer\",\n",
    "    \"fashion photographer and\",\n",
    "    \"fashion photographer\",\n",
    "    \"photographer of the\",\n",
    "    \"and Holocaust photographer\",\n",
    "    \"photographer and\",\n",
    "    \"and photographer\",\n",
    "    \"photographer\",\n",
    "]\n",
    "sports = []\n",
    "sciences = []\n",
    "\n",
    "business_farming = []\n",
    "academia_humanities = []\n",
    "law_enf_military_operator = []\n",
    "spiritual = []\n",
    "social = []\n",
    "crime = []\n",
    "event_record_other = []\n",
    "other_species = []"
   ]
  },
  {
   "cell_type": "markdown",
   "id": "88a7135f",
   "metadata": {},
   "source": [
    "#### Creating `known_for_dict` Dictionary of Category Keys and Specific Role Lists of Values"
   ]
  },
  {
   "cell_type": "code",
   "execution_count": 43,
   "id": "462f1434",
   "metadata": {},
   "outputs": [
    {
     "data": {
      "application/javascript": [
       "\n",
       "            setTimeout(function() {\n",
       "                var nbb_cell_id = 43;\n",
       "                var nbb_unformatted_code = \"# Combining separate lists into one dictionary\\nknown_for_dict = {\\n    \\\"social\\\": social,\\n    \\\"spiritual\\\": spiritual,\\n    \\\"academia_humanities\\\": academia_humanities,\\n    \\\"business_farming\\\": business_farming,\\n    \\\"sciences\\\": sciences,\\n    \\\"politics_govt_law\\\": politics_govt_law,\\n    \\\"law_enf_military_operator\\\": law_enf_military_operator,\\n    \\\"crime\\\": crime,\\n    \\\"event_record_other\\\": event_record_other,\\n    \\\"other_species\\\": other_species,\\n    \\\"arts\\\": arts,\\n    \\\"sports\\\": sports,\\n}\";\n",
       "                var nbb_formatted_code = \"# Combining separate lists into one dictionary\\nknown_for_dict = {\\n    \\\"social\\\": social,\\n    \\\"spiritual\\\": spiritual,\\n    \\\"academia_humanities\\\": academia_humanities,\\n    \\\"business_farming\\\": business_farming,\\n    \\\"sciences\\\": sciences,\\n    \\\"politics_govt_law\\\": politics_govt_law,\\n    \\\"law_enf_military_operator\\\": law_enf_military_operator,\\n    \\\"crime\\\": crime,\\n    \\\"event_record_other\\\": event_record_other,\\n    \\\"other_species\\\": other_species,\\n    \\\"arts\\\": arts,\\n    \\\"sports\\\": sports,\\n}\";\n",
       "                var nbb_cells = Jupyter.notebook.get_cells();\n",
       "                for (var i = 0; i < nbb_cells.length; ++i) {\n",
       "                    if (nbb_cells[i].input_prompt_number == nbb_cell_id) {\n",
       "                        if (nbb_cells[i].get_text() == nbb_unformatted_code) {\n",
       "                             nbb_cells[i].set_text(nbb_formatted_code);\n",
       "                        }\n",
       "                        break;\n",
       "                    }\n",
       "                }\n",
       "            }, 500);\n",
       "            "
      ],
      "text/plain": [
       "<IPython.core.display.Javascript object>"
      ]
     },
     "metadata": {},
     "output_type": "display_data"
    }
   ],
   "source": [
    "# Combining separate lists into one dictionary\n",
    "known_for_dict = {\n",
    "    \"social\": social,\n",
    "    \"spiritual\": spiritual,\n",
    "    \"academia_humanities\": academia_humanities,\n",
    "    \"business_farming\": business_farming,\n",
    "    \"sciences\": sciences,\n",
    "    \"politics_govt_law\": politics_govt_law,\n",
    "    \"law_enf_military_operator\": law_enf_military_operator,\n",
    "    \"crime\": crime,\n",
    "    \"event_record_other\": event_record_other,\n",
    "    \"other_species\": other_species,\n",
    "    \"arts\": arts,\n",
    "    \"sports\": sports,\n",
    "}"
   ]
  },
  {
   "cell_type": "markdown",
   "id": "0ef2b1ba",
   "metadata": {},
   "source": [
    "#### Extracting Category from `info_2`"
   ]
  },
  {
   "cell_type": "code",
   "execution_count": 44,
   "id": "29fe04b6",
   "metadata": {},
   "outputs": [
    {
     "name": "stdout",
     "output_type": "stream",
     "text": [
      "CPU times: total: 40 s\n",
      "Wall time: 40 s\n"
     ]
    },
    {
     "data": {
      "text/html": [
       "<div>\n",
       "<style scoped>\n",
       "    .dataframe tbody tr th:only-of-type {\n",
       "        vertical-align: middle;\n",
       "    }\n",
       "\n",
       "    .dataframe tbody tr th {\n",
       "        vertical-align: top;\n",
       "    }\n",
       "\n",
       "    .dataframe thead th {\n",
       "        text-align: right;\n",
       "    }\n",
       "</style>\n",
       "<table border=\"1\" class=\"dataframe\">\n",
       "  <thead>\n",
       "    <tr style=\"text-align: right;\">\n",
       "      <th></th>\n",
       "      <th>day</th>\n",
       "      <th>name</th>\n",
       "      <th>info</th>\n",
       "      <th>link</th>\n",
       "      <th>num_references</th>\n",
       "      <th>year</th>\n",
       "      <th>month</th>\n",
       "      <th>info_parenth</th>\n",
       "      <th>info_1</th>\n",
       "      <th>info_2</th>\n",
       "      <th>info_3</th>\n",
       "      <th>info_4</th>\n",
       "      <th>info_5</th>\n",
       "      <th>info_6</th>\n",
       "      <th>info_7</th>\n",
       "      <th>info_8</th>\n",
       "      <th>info_9</th>\n",
       "      <th>info_10</th>\n",
       "      <th>info_11</th>\n",
       "      <th>age</th>\n",
       "      <th>cause_of_death</th>\n",
       "      <th>place_1</th>\n",
       "      <th>place_2</th>\n",
       "      <th>info_parenth_copy</th>\n",
       "      <th>log_num_references</th>\n",
       "      <th>sciences</th>\n",
       "      <th>social</th>\n",
       "      <th>spiritual</th>\n",
       "      <th>academia_humanities</th>\n",
       "      <th>business_farming</th>\n",
       "      <th>arts</th>\n",
       "      <th>sports</th>\n",
       "      <th>law_enf_military_operator</th>\n",
       "      <th>politics_govt_law</th>\n",
       "      <th>crime</th>\n",
       "      <th>event_record_other</th>\n",
       "      <th>other_species</th>\n",
       "      <th>num_categories</th>\n",
       "    </tr>\n",
       "  </thead>\n",
       "  <tbody>\n",
       "    <tr>\n",
       "      <th>76355</th>\n",
       "      <td>23</td>\n",
       "      <td>Mary Abbott</td>\n",
       "      <td>, 98, American painter.</td>\n",
       "      <td>https://en.wikipedia.org/wiki/Mary_Abbott_(artist)</td>\n",
       "      <td>12</td>\n",
       "      <td>2019</td>\n",
       "      <td>August</td>\n",
       "      <td>None</td>\n",
       "      <td>None</td>\n",
       "      <td></td>\n",
       "      <td>None</td>\n",
       "      <td>None</td>\n",
       "      <td>None</td>\n",
       "      <td>None</td>\n",
       "      <td>None</td>\n",
       "      <td>None</td>\n",
       "      <td>None</td>\n",
       "      <td>None</td>\n",
       "      <td>None</td>\n",
       "      <td>98.0</td>\n",
       "      <td>None</td>\n",
       "      <td>United States of America</td>\n",
       "      <td>None</td>\n",
       "      <td>None</td>\n",
       "      <td>2.564949</td>\n",
       "      <td>0</td>\n",
       "      <td>0</td>\n",
       "      <td>0</td>\n",
       "      <td>0</td>\n",
       "      <td>0</td>\n",
       "      <td>1</td>\n",
       "      <td>0</td>\n",
       "      <td>0</td>\n",
       "      <td>0</td>\n",
       "      <td>0</td>\n",
       "      <td>0</td>\n",
       "      <td>0</td>\n",
       "      <td>1</td>\n",
       "    </tr>\n",
       "    <tr>\n",
       "      <th>60409</th>\n",
       "      <td>18</td>\n",
       "      <td>Anthony Addabbo</td>\n",
       "      <td>, 56, American actor .</td>\n",
       "      <td>https://en.wikipedia.org/wiki/Anthony_Addabbo</td>\n",
       "      <td>35</td>\n",
       "      <td>2016</td>\n",
       "      <td>October</td>\n",
       "      <td>, ,</td>\n",
       "      <td>None</td>\n",
       "      <td></td>\n",
       "      <td>None</td>\n",
       "      <td>None</td>\n",
       "      <td>None</td>\n",
       "      <td>None</td>\n",
       "      <td>None</td>\n",
       "      <td>None</td>\n",
       "      <td>None</td>\n",
       "      <td>None</td>\n",
       "      <td>None</td>\n",
       "      <td>56.0</td>\n",
       "      <td>None</td>\n",
       "      <td>United States of America</td>\n",
       "      <td>None</td>\n",
       "      <td>, ,</td>\n",
       "      <td>3.583519</td>\n",
       "      <td>0</td>\n",
       "      <td>0</td>\n",
       "      <td>0</td>\n",
       "      <td>0</td>\n",
       "      <td>0</td>\n",
       "      <td>1</td>\n",
       "      <td>0</td>\n",
       "      <td>0</td>\n",
       "      <td>0</td>\n",
       "      <td>0</td>\n",
       "      <td>0</td>\n",
       "      <td>0</td>\n",
       "      <td>1</td>\n",
       "    </tr>\n",
       "  </tbody>\n",
       "</table>\n",
       "</div>"
      ],
      "text/plain": [
       "      day             name                     info  \\\n",
       "76355  23      Mary Abbott  , 98, American painter.   \n",
       "60409  18  Anthony Addabbo   , 56, American actor .   \n",
       "\n",
       "                                                     link  num_references  \\\n",
       "76355  https://en.wikipedia.org/wiki/Mary_Abbott_(artist)              12   \n",
       "60409       https://en.wikipedia.org/wiki/Anthony_Addabbo              35   \n",
       "\n",
       "       year    month info_parenth info_1 info_2 info_3 info_4 info_5 info_6  \\\n",
       "76355  2019   August         None   None          None   None   None   None   \n",
       "60409  2016  October          , ,   None          None   None   None   None   \n",
       "\n",
       "      info_7 info_8 info_9 info_10 info_11   age cause_of_death  \\\n",
       "76355   None   None   None    None    None  98.0           None   \n",
       "60409   None   None   None    None    None  56.0           None   \n",
       "\n",
       "                        place_1 place_2 info_parenth_copy  log_num_references  \\\n",
       "76355  United States of America    None              None            2.564949   \n",
       "60409  United States of America    None               , ,            3.583519   \n",
       "\n",
       "       sciences  social  spiritual  academia_humanities  business_farming  \\\n",
       "76355         0       0          0                    0                 0   \n",
       "60409         0       0          0                    0                 0   \n",
       "\n",
       "       arts  sports  law_enf_military_operator  politics_govt_law  crime  \\\n",
       "76355     1       0                          0                  0      0   \n",
       "60409     1       0                          0                  0      0   \n",
       "\n",
       "       event_record_other  other_species  num_categories  \n",
       "76355                   0              0               1  \n",
       "60409                   0              0               1  "
      ]
     },
     "execution_count": 44,
     "metadata": {},
     "output_type": "execute_result"
    },
    {
     "data": {
      "application/javascript": [
       "\n",
       "            setTimeout(function() {\n",
       "                var nbb_cell_id = 44;\n",
       "                var nbb_unformatted_code = \"%%time\\n\\n# Dictionary version\\nsearch_dict = known_for_dict\\n\\n# Column to check\\ncolumn = 'info_2'\\n\\n# Dataframe\\ndataframe = df[column].notna()\\n\\n# For loop to find role in column and extract it as category\\nfor category, category_lst in search_dict.items():\\n    for role in category_lst:\\n        for index in dataframe.index:\\n            item = df.loc[index, column]\\n            if item:\\n                if role in item:\\n                    df.loc[index, category] = 1\\n                    df.loc[index, column] = item.replace(role, '').strip()\\n\\n# Updating num_categories\\ndf[\\\"num_categories\\\"] = df[known_for_dict.keys()].sum(axis=1)\\n\\n# Checking a sample of rows\\ndf[df['arts'] ==1].sample(2)\";\n",
       "                var nbb_formatted_code = \"%%time\\n\\n# Dictionary version\\nsearch_dict = known_for_dict\\n\\n# Column to check\\ncolumn = 'info_2'\\n\\n# Dataframe\\ndataframe = df[column].notna()\\n\\n# For loop to find role in column and extract it as category\\nfor category, category_lst in search_dict.items():\\n    for role in category_lst:\\n        for index in dataframe.index:\\n            item = df.loc[index, column]\\n            if item:\\n                if role in item:\\n                    df.loc[index, category] = 1\\n                    df.loc[index, column] = item.replace(role, '').strip()\\n\\n# Updating num_categories\\ndf[\\\"num_categories\\\"] = df[known_for_dict.keys()].sum(axis=1)\\n\\n# Checking a sample of rows\\ndf[df['arts'] ==1].sample(2)\";\n",
       "                var nbb_cells = Jupyter.notebook.get_cells();\n",
       "                for (var i = 0; i < nbb_cells.length; ++i) {\n",
       "                    if (nbb_cells[i].input_prompt_number == nbb_cell_id) {\n",
       "                        if (nbb_cells[i].get_text() == nbb_unformatted_code) {\n",
       "                             nbb_cells[i].set_text(nbb_formatted_code);\n",
       "                        }\n",
       "                        break;\n",
       "                    }\n",
       "                }\n",
       "            }, 500);\n",
       "            "
      ],
      "text/plain": [
       "<IPython.core.display.Javascript object>"
      ]
     },
     "metadata": {},
     "output_type": "display_data"
    }
   ],
   "source": [
    "%%time\n",
    "\n",
    "# Dictionary version\n",
    "search_dict = known_for_dict\n",
    "\n",
    "# Column to check\n",
    "column = 'info_2'\n",
    "\n",
    "# Dataframe\n",
    "dataframe = df[column].notna()\n",
    "\n",
    "# For loop to find role in column and extract it as category\n",
    "for category, category_lst in search_dict.items():\n",
    "    for role in category_lst:\n",
    "        for index in dataframe.index:\n",
    "            item = df.loc[index, column]\n",
    "            if item:\n",
    "                if role in item:\n",
    "                    df.loc[index, category] = 1\n",
    "                    df.loc[index, column] = item.replace(role, '').strip()\n",
    "\n",
    "# Updating num_categories\n",
    "df[\"num_categories\"] = df[known_for_dict.keys()].sum(axis=1)\n",
    "\n",
    "# Checking a sample of rows\n",
    "df[df['arts'] ==1].sample(2)"
   ]
  },
  {
   "cell_type": "markdown",
   "id": "cdfb5095",
   "metadata": {},
   "source": [
    "#### Checking the Number of Rows without a First Category"
   ]
  },
  {
   "cell_type": "code",
   "execution_count": 45,
   "id": "2e20d0d7",
   "metadata": {},
   "outputs": [
    {
     "name": "stdout",
     "output_type": "stream",
     "text": [
      "There are 42922 entries without any known_for category.\n"
     ]
    },
    {
     "data": {
      "application/javascript": [
       "\n",
       "            setTimeout(function() {\n",
       "                var nbb_cell_id = 45;\n",
       "                var nbb_unformatted_code = \"#### Checking the number of rows without a first category\\nprint(\\n    f'There are {len(df[df[\\\"num_categories\\\"]==0])} entries without any known_for category.'\\n)\";\n",
       "                var nbb_formatted_code = \"#### Checking the number of rows without a first category\\nprint(\\n    f'There are {len(df[df[\\\"num_categories\\\"]==0])} entries without any known_for category.'\\n)\";\n",
       "                var nbb_cells = Jupyter.notebook.get_cells();\n",
       "                for (var i = 0; i < nbb_cells.length; ++i) {\n",
       "                    if (nbb_cells[i].input_prompt_number == nbb_cell_id) {\n",
       "                        if (nbb_cells[i].get_text() == nbb_unformatted_code) {\n",
       "                             nbb_cells[i].set_text(nbb_formatted_code);\n",
       "                        }\n",
       "                        break;\n",
       "                    }\n",
       "                }\n",
       "            }, 500);\n",
       "            "
      ],
      "text/plain": [
       "<IPython.core.display.Javascript object>"
      ]
     },
     "metadata": {},
     "output_type": "display_data"
    }
   ],
   "source": [
    "#### Checking the number of rows without a first category\n",
    "print(\n",
    "    f'There are {len(df[df[\"num_categories\"]==0])} entries without any known_for category.'\n",
    ")"
   ]
  },
  {
   "cell_type": "markdown",
   "id": "c0da9ef6",
   "metadata": {},
   "source": [
    "#### Observations:\n",
    "- We will proceed to rebuild `known_for_dict` for the next iteration."
   ]
  },
  {
   "cell_type": "markdown",
   "id": "ad6f4cbf",
   "metadata": {},
   "source": [
    "#### Finding `known_for` Roles in `info_2`"
   ]
  },
  {
   "cell_type": "code",
   "execution_count": 46,
   "id": "579000c7",
   "metadata": {},
   "outputs": [
    {
     "data": {
      "application/javascript": [
       "\n",
       "            setTimeout(function() {\n",
       "                var nbb_cell_id = 46;\n",
       "                var nbb_unformatted_code = \"# Obtaining values for column and their counts\\nroles_list = df[\\\"info_2\\\"].value_counts(ascending=True).index.tolist()\";\n",
       "                var nbb_formatted_code = \"# Obtaining values for column and their counts\\nroles_list = df[\\\"info_2\\\"].value_counts(ascending=True).index.tolist()\";\n",
       "                var nbb_cells = Jupyter.notebook.get_cells();\n",
       "                for (var i = 0; i < nbb_cells.length; ++i) {\n",
       "                    if (nbb_cells[i].input_prompt_number == nbb_cell_id) {\n",
       "                        if (nbb_cells[i].get_text() == nbb_unformatted_code) {\n",
       "                             nbb_cells[i].set_text(nbb_formatted_code);\n",
       "                        }\n",
       "                        break;\n",
       "                    }\n",
       "                }\n",
       "            }, 500);\n",
       "            "
      ],
      "text/plain": [
       "<IPython.core.display.Javascript object>"
      ]
     },
     "metadata": {},
     "output_type": "display_data"
    }
   ],
   "source": [
    "# Obtaining values for column and their counts\n",
    "roles_list = df[\"info_2\"].value_counts(ascending=True).index.tolist()"
   ]
  },
  {
   "cell_type": "code",
   "execution_count": 47,
   "id": "6a8297a3",
   "metadata": {},
   "outputs": [
    {
     "data": {
      "application/javascript": [
       "\n",
       "            setTimeout(function() {\n",
       "                var nbb_cell_id = 47;\n",
       "                var nbb_unformatted_code = \"# # Code to check each value\\n# roles_list.pop()\";\n",
       "                var nbb_formatted_code = \"# # Code to check each value\\n# roles_list.pop()\";\n",
       "                var nbb_cells = Jupyter.notebook.get_cells();\n",
       "                for (var i = 0; i < nbb_cells.length; ++i) {\n",
       "                    if (nbb_cells[i].input_prompt_number == nbb_cell_id) {\n",
       "                        if (nbb_cells[i].get_text() == nbb_unformatted_code) {\n",
       "                             nbb_cells[i].set_text(nbb_formatted_code);\n",
       "                        }\n",
       "                        break;\n",
       "                    }\n",
       "                }\n",
       "            }, 500);\n",
       "            "
      ],
      "text/plain": [
       "<IPython.core.display.Javascript object>"
      ]
     },
     "metadata": {},
     "output_type": "display_data"
    }
   ],
   "source": [
    "# # Code to check each value\n",
    "# roles_list.pop()"
   ]
  },
  {
   "cell_type": "code",
   "execution_count": 48,
   "id": "b98b3698",
   "metadata": {},
   "outputs": [
    {
     "data": {
      "application/javascript": [
       "\n",
       "            setTimeout(function() {\n",
       "                var nbb_cell_id = 48;\n",
       "                var nbb_unformatted_code = \"# # Create specific_roles_list for above popped value\\n# specific_roles_list = (\\n#     df.loc[\\n#         [index for index in df.index if \\\"economist\\\" in df.loc[index, \\\"info\\\"]], \\\"info_2\\\",\\n#     ]\\n#     .value_counts()\\n#     .index.tolist()\\n# )\";\n",
       "                var nbb_formatted_code = \"# # Create specific_roles_list for above popped value\\n# specific_roles_list = (\\n#     df.loc[\\n#         [index for index in df.index if \\\"economist\\\" in df.loc[index, \\\"info\\\"]], \\\"info_2\\\",\\n#     ]\\n#     .value_counts()\\n#     .index.tolist()\\n# )\";\n",
       "                var nbb_cells = Jupyter.notebook.get_cells();\n",
       "                for (var i = 0; i < nbb_cells.length; ++i) {\n",
       "                    if (nbb_cells[i].input_prompt_number == nbb_cell_id) {\n",
       "                        if (nbb_cells[i].get_text() == nbb_unformatted_code) {\n",
       "                             nbb_cells[i].set_text(nbb_formatted_code);\n",
       "                        }\n",
       "                        break;\n",
       "                    }\n",
       "                }\n",
       "            }, 500);\n",
       "            "
      ],
      "text/plain": [
       "<IPython.core.display.Javascript object>"
      ]
     },
     "metadata": {},
     "output_type": "display_data"
    }
   ],
   "source": [
    "# # Create specific_roles_list for above popped value\n",
    "# specific_roles_list = (\n",
    "#     df.loc[\n",
    "#         [index for index in df.index if \"economist\" in df.loc[index, \"info\"]], \"info_2\",\n",
    "#     ]\n",
    "#     .value_counts()\n",
    "#     .index.tolist()\n",
    "# )"
   ]
  },
  {
   "cell_type": "code",
   "execution_count": 49,
   "id": "f0ef4fce",
   "metadata": {},
   "outputs": [
    {
     "data": {
      "application/javascript": [
       "\n",
       "            setTimeout(function() {\n",
       "                var nbb_cell_id = 49;\n",
       "                var nbb_unformatted_code = \"# # Code to check each specific value\\n# specific_roles_list.pop()\";\n",
       "                var nbb_formatted_code = \"# # Code to check each specific value\\n# specific_roles_list.pop()\";\n",
       "                var nbb_cells = Jupyter.notebook.get_cells();\n",
       "                for (var i = 0; i < nbb_cells.length; ++i) {\n",
       "                    if (nbb_cells[i].input_prompt_number == nbb_cell_id) {\n",
       "                        if (nbb_cells[i].get_text() == nbb_unformatted_code) {\n",
       "                             nbb_cells[i].set_text(nbb_formatted_code);\n",
       "                        }\n",
       "                        break;\n",
       "                    }\n",
       "                }\n",
       "            }, 500);\n",
       "            "
      ],
      "text/plain": [
       "<IPython.core.display.Javascript object>"
      ]
     },
     "metadata": {},
     "output_type": "display_data"
    }
   ],
   "source": [
    "# # Code to check each specific value\n",
    "# specific_roles_list.pop()"
   ]
  },
  {
   "cell_type": "code",
   "execution_count": 50,
   "id": "849f94bb",
   "metadata": {},
   "outputs": [
    {
     "data": {
      "application/javascript": [
       "\n",
       "            setTimeout(function() {\n",
       "                var nbb_cell_id = 50;\n",
       "                var nbb_unformatted_code = \"# # Example code to quick-screen values that may overlap categories\\n# df.loc[[index for index in df.index if \\\"health economist\\\" in df.loc[index, \\\"info\\\"]]]\";\n",
       "                var nbb_formatted_code = \"# # Example code to quick-screen values that may overlap categories\\n# df.loc[[index for index in df.index if \\\"health economist\\\" in df.loc[index, \\\"info\\\"]]]\";\n",
       "                var nbb_cells = Jupyter.notebook.get_cells();\n",
       "                for (var i = 0; i < nbb_cells.length; ++i) {\n",
       "                    if (nbb_cells[i].input_prompt_number == nbb_cell_id) {\n",
       "                        if (nbb_cells[i].get_text() == nbb_unformatted_code) {\n",
       "                             nbb_cells[i].set_text(nbb_formatted_code);\n",
       "                        }\n",
       "                        break;\n",
       "                    }\n",
       "                }\n",
       "            }, 500);\n",
       "            "
      ],
      "text/plain": [
       "<IPython.core.display.Javascript object>"
      ]
     },
     "metadata": {},
     "output_type": "display_data"
    }
   ],
   "source": [
    "# # Example code to quick-screen values that may overlap categories\n",
    "# df.loc[[index for index in df.index if \"health economist\" in df.loc[index, \"info\"]]]"
   ]
  },
  {
   "cell_type": "code",
   "execution_count": 51,
   "id": "5545949d",
   "metadata": {},
   "outputs": [
    {
     "data": {
      "application/javascript": [
       "\n",
       "            setTimeout(function() {\n",
       "                var nbb_cell_id = 51;\n",
       "                var nbb_unformatted_code = \"# # Example code to quick-check a specific entry\\n# df[\\n#     df[\\\"info_2\\\"]\\n#     == \\\"economist who did pioneering research in linear programming and environmental economics\\\"\\n# ]\";\n",
       "                var nbb_formatted_code = \"# # Example code to quick-check a specific entry\\n# df[\\n#     df[\\\"info_2\\\"]\\n#     == \\\"economist who did pioneering research in linear programming and environmental economics\\\"\\n# ]\";\n",
       "                var nbb_cells = Jupyter.notebook.get_cells();\n",
       "                for (var i = 0; i < nbb_cells.length; ++i) {\n",
       "                    if (nbb_cells[i].input_prompt_number == nbb_cell_id) {\n",
       "                        if (nbb_cells[i].get_text() == nbb_unformatted_code) {\n",
       "                             nbb_cells[i].set_text(nbb_formatted_code);\n",
       "                        }\n",
       "                        break;\n",
       "                    }\n",
       "                }\n",
       "            }, 500);\n",
       "            "
      ],
      "text/plain": [
       "<IPython.core.display.Javascript object>"
      ]
     },
     "metadata": {},
     "output_type": "display_data"
    }
   ],
   "source": [
    "# # Example code to quick-check a specific entry\n",
    "# df[\n",
    "#     df[\"info_2\"]\n",
    "#     == \"economist who did pioneering research in linear programming and environmental economics\"\n",
    "# ]"
   ]
  },
  {
   "cell_type": "markdown",
   "id": "eae1b596",
   "metadata": {},
   "source": [
    "#### Creating Lists for Each `known_for` Category"
   ]
  },
  {
   "cell_type": "code",
   "execution_count": 52,
   "id": "fbd1eee5",
   "metadata": {},
   "outputs": [
    {
     "data": {
      "application/javascript": [
       "\n",
       "            setTimeout(function() {\n",
       "                var nbb_cell_id = 52;\n",
       "                var nbb_unformatted_code = \"# Creating lists for each category\\npolitics_govt_law = [\\n    \\\"jurist and economist\\\",\\n    \\\"Marxian economist and founding editor of the\\\",\\n    \\\"economist specializing in public economics and information economics\\\",\\n    \\\"supply side economist\\\",\\n    \\\"libertarian economist\\\",\\n    \\\"monetarist and free market economist\\\",\\n    \\\"economist and government adviser\\\",\\n    \\\"economist and banking official\\\",\\n    \\\"economist and government advisor\\\",\\n    \\\"Marxian economist and a Trotskyist activist and\\\",\\n    \\\"economist and government minister\\\",\\n    \\\"economist and Nobel laureate\\\",\\n    \\\"macroeconomist\\\",\\n    \\\"monetary economist\\\",\\n    \\\"economist and government official\\\",\\n    \\\"public servant and economist\\\",\\n    \\\"labor economist\\\",\\n    \\\"economist and communist\\\",\\n    \\\"economist who did pioneering research in linear\\\",\\n    \\\"development economist and\\\",\\n    \\\"Marxist economist\\\",\\n    \\\"political scientist and economist\\\",\\n    \\\"Gandhian economist\\\",\\n    \\\"aristocrat and economist\\\",\\n    \\\"economist and PZPR activist\\\",\\n    \\\"economist and political scientist\\\",\\n    \\\"economist and politologist\\\",\\n    \\\"economist and taxpayer activist\\\",\\n    \\\"administrator and economist\\\",\\n    \\\"economist and government policy advisor\\\",\\n    \\\"economist and policy adviser\\\",\\n    \\\"economist and social activist\\\",\\n    \\\"economist and political adviser\\\",\\n    \\\"economist and lobbyist\\\",\\n    \\\"economist and laureate of the Nobel Memorial Prize in Economic Sciences\\\",\\n    \\\"political economist and activist\\\",\\n    \\\"lawyer and economist\\\",\\n    \\\"economist and Nobel Prize laureate\\\",\\n    \\\"Marxian economist\\\",\\n    \\\"development economist\\\",\\n    \\\"civil servant and economist\\\",\\n    \\\"economist and political activist\\\",\\n    \\\"feminist economist\\\",\\n    \\\"economist and public servant\\\",\\n    \\\"Nobel Prize winning economist\\\",\\n    \\\"health economist\\\",\\n    \\\"agricultural economist\\\",\\n    \\\"and political economist\\\",\\n    \\\"political economist\\\",\\n    \\\"economist and an\\\",\\n    \\\"and economist\\\",\\n    \\\"economist and\\\",\\n    \\\"economist\\\",\\n]\\n\\narts = []\\nsports = []\\nsciences = [\\n    \\\"home economist\\\",  # before politics_govt_law\\n]\\n\\nbusiness_farming = []\\nacademia_humanities = []\\nlaw_enf_military_operator = []\\nspiritual = []\\nsocial = []\\ncrime = [\\\"convicted embezzler\\\"]\\nevent_record_other = []\\nother_species = []\";\n",
       "                var nbb_formatted_code = \"# Creating lists for each category\\npolitics_govt_law = [\\n    \\\"jurist and economist\\\",\\n    \\\"Marxian economist and founding editor of the\\\",\\n    \\\"economist specializing in public economics and information economics\\\",\\n    \\\"supply side economist\\\",\\n    \\\"libertarian economist\\\",\\n    \\\"monetarist and free market economist\\\",\\n    \\\"economist and government adviser\\\",\\n    \\\"economist and banking official\\\",\\n    \\\"economist and government advisor\\\",\\n    \\\"Marxian economist and a Trotskyist activist and\\\",\\n    \\\"economist and government minister\\\",\\n    \\\"economist and Nobel laureate\\\",\\n    \\\"macroeconomist\\\",\\n    \\\"monetary economist\\\",\\n    \\\"economist and government official\\\",\\n    \\\"public servant and economist\\\",\\n    \\\"labor economist\\\",\\n    \\\"economist and communist\\\",\\n    \\\"economist who did pioneering research in linear\\\",\\n    \\\"development economist and\\\",\\n    \\\"Marxist economist\\\",\\n    \\\"political scientist and economist\\\",\\n    \\\"Gandhian economist\\\",\\n    \\\"aristocrat and economist\\\",\\n    \\\"economist and PZPR activist\\\",\\n    \\\"economist and political scientist\\\",\\n    \\\"economist and politologist\\\",\\n    \\\"economist and taxpayer activist\\\",\\n    \\\"administrator and economist\\\",\\n    \\\"economist and government policy advisor\\\",\\n    \\\"economist and policy adviser\\\",\\n    \\\"economist and social activist\\\",\\n    \\\"economist and political adviser\\\",\\n    \\\"economist and lobbyist\\\",\\n    \\\"economist and laureate of the Nobel Memorial Prize in Economic Sciences\\\",\\n    \\\"political economist and activist\\\",\\n    \\\"lawyer and economist\\\",\\n    \\\"economist and Nobel Prize laureate\\\",\\n    \\\"Marxian economist\\\",\\n    \\\"development economist\\\",\\n    \\\"civil servant and economist\\\",\\n    \\\"economist and political activist\\\",\\n    \\\"feminist economist\\\",\\n    \\\"economist and public servant\\\",\\n    \\\"Nobel Prize winning economist\\\",\\n    \\\"health economist\\\",\\n    \\\"agricultural economist\\\",\\n    \\\"and political economist\\\",\\n    \\\"political economist\\\",\\n    \\\"economist and an\\\",\\n    \\\"and economist\\\",\\n    \\\"economist and\\\",\\n    \\\"economist\\\",\\n]\\n\\narts = []\\nsports = []\\nsciences = [\\n    \\\"home economist\\\",  # before politics_govt_law\\n]\\n\\nbusiness_farming = []\\nacademia_humanities = []\\nlaw_enf_military_operator = []\\nspiritual = []\\nsocial = []\\ncrime = [\\\"convicted embezzler\\\"]\\nevent_record_other = []\\nother_species = []\";\n",
       "                var nbb_cells = Jupyter.notebook.get_cells();\n",
       "                for (var i = 0; i < nbb_cells.length; ++i) {\n",
       "                    if (nbb_cells[i].input_prompt_number == nbb_cell_id) {\n",
       "                        if (nbb_cells[i].get_text() == nbb_unformatted_code) {\n",
       "                             nbb_cells[i].set_text(nbb_formatted_code);\n",
       "                        }\n",
       "                        break;\n",
       "                    }\n",
       "                }\n",
       "            }, 500);\n",
       "            "
      ],
      "text/plain": [
       "<IPython.core.display.Javascript object>"
      ]
     },
     "metadata": {},
     "output_type": "display_data"
    }
   ],
   "source": [
    "# Creating lists for each category\n",
    "politics_govt_law = [\n",
    "    \"jurist and economist\",\n",
    "    \"Marxian economist and founding editor of the\",\n",
    "    \"economist specializing in public economics and information economics\",\n",
    "    \"supply side economist\",\n",
    "    \"libertarian economist\",\n",
    "    \"monetarist and free market economist\",\n",
    "    \"economist and government adviser\",\n",
    "    \"economist and banking official\",\n",
    "    \"economist and government advisor\",\n",
    "    \"Marxian economist and a Trotskyist activist and\",\n",
    "    \"economist and government minister\",\n",
    "    \"economist and Nobel laureate\",\n",
    "    \"macroeconomist\",\n",
    "    \"monetary economist\",\n",
    "    \"economist and government official\",\n",
    "    \"public servant and economist\",\n",
    "    \"labor economist\",\n",
    "    \"economist and communist\",\n",
    "    \"economist who did pioneering research in linear\",\n",
    "    \"development economist and\",\n",
    "    \"Marxist economist\",\n",
    "    \"political scientist and economist\",\n",
    "    \"Gandhian economist\",\n",
    "    \"aristocrat and economist\",\n",
    "    \"economist and PZPR activist\",\n",
    "    \"economist and political scientist\",\n",
    "    \"economist and politologist\",\n",
    "    \"economist and taxpayer activist\",\n",
    "    \"administrator and economist\",\n",
    "    \"economist and government policy advisor\",\n",
    "    \"economist and policy adviser\",\n",
    "    \"economist and social activist\",\n",
    "    \"economist and political adviser\",\n",
    "    \"economist and lobbyist\",\n",
    "    \"economist and laureate of the Nobel Memorial Prize in Economic Sciences\",\n",
    "    \"political economist and activist\",\n",
    "    \"lawyer and economist\",\n",
    "    \"economist and Nobel Prize laureate\",\n",
    "    \"Marxian economist\",\n",
    "    \"development economist\",\n",
    "    \"civil servant and economist\",\n",
    "    \"economist and political activist\",\n",
    "    \"feminist economist\",\n",
    "    \"economist and public servant\",\n",
    "    \"Nobel Prize winning economist\",\n",
    "    \"health economist\",\n",
    "    \"agricultural economist\",\n",
    "    \"and political economist\",\n",
    "    \"political economist\",\n",
    "    \"economist and an\",\n",
    "    \"and economist\",\n",
    "    \"economist and\",\n",
    "    \"economist\",\n",
    "]\n",
    "\n",
    "arts = []\n",
    "sports = []\n",
    "sciences = [\n",
    "    \"home economist\",  # before politics_govt_law\n",
    "]\n",
    "\n",
    "business_farming = []\n",
    "academia_humanities = []\n",
    "law_enf_military_operator = []\n",
    "spiritual = []\n",
    "social = []\n",
    "crime = [\"convicted embezzler\"]\n",
    "event_record_other = []\n",
    "other_species = []"
   ]
  },
  {
   "cell_type": "markdown",
   "id": "28864415",
   "metadata": {},
   "source": [
    "#### Creating `known_for_dict` Dictionary of Category Keys and Specific Role Lists of Values"
   ]
  },
  {
   "cell_type": "code",
   "execution_count": 53,
   "id": "643e50e9",
   "metadata": {},
   "outputs": [
    {
     "data": {
      "application/javascript": [
       "\n",
       "            setTimeout(function() {\n",
       "                var nbb_cell_id = 53;\n",
       "                var nbb_unformatted_code = \"# Combining separate lists into one dictionary\\nknown_for_dict = {\\n    \\\"social\\\": social,\\n    \\\"spiritual\\\": spiritual,\\n    \\\"academia_humanities\\\": academia_humanities,\\n    \\\"business_farming\\\": business_farming,\\n    \\\"sciences\\\": sciences,\\n    \\\"politics_govt_law\\\": politics_govt_law,\\n    \\\"law_enf_military_operator\\\": law_enf_military_operator,\\n    \\\"crime\\\": crime,\\n    \\\"event_record_other\\\": event_record_other,\\n    \\\"other_species\\\": other_species,\\n    \\\"arts\\\": arts,\\n    \\\"sports\\\": sports,\\n}\";\n",
       "                var nbb_formatted_code = \"# Combining separate lists into one dictionary\\nknown_for_dict = {\\n    \\\"social\\\": social,\\n    \\\"spiritual\\\": spiritual,\\n    \\\"academia_humanities\\\": academia_humanities,\\n    \\\"business_farming\\\": business_farming,\\n    \\\"sciences\\\": sciences,\\n    \\\"politics_govt_law\\\": politics_govt_law,\\n    \\\"law_enf_military_operator\\\": law_enf_military_operator,\\n    \\\"crime\\\": crime,\\n    \\\"event_record_other\\\": event_record_other,\\n    \\\"other_species\\\": other_species,\\n    \\\"arts\\\": arts,\\n    \\\"sports\\\": sports,\\n}\";\n",
       "                var nbb_cells = Jupyter.notebook.get_cells();\n",
       "                for (var i = 0; i < nbb_cells.length; ++i) {\n",
       "                    if (nbb_cells[i].input_prompt_number == nbb_cell_id) {\n",
       "                        if (nbb_cells[i].get_text() == nbb_unformatted_code) {\n",
       "                             nbb_cells[i].set_text(nbb_formatted_code);\n",
       "                        }\n",
       "                        break;\n",
       "                    }\n",
       "                }\n",
       "            }, 500);\n",
       "            "
      ],
      "text/plain": [
       "<IPython.core.display.Javascript object>"
      ]
     },
     "metadata": {},
     "output_type": "display_data"
    }
   ],
   "source": [
    "# Combining separate lists into one dictionary\n",
    "known_for_dict = {\n",
    "    \"social\": social,\n",
    "    \"spiritual\": spiritual,\n",
    "    \"academia_humanities\": academia_humanities,\n",
    "    \"business_farming\": business_farming,\n",
    "    \"sciences\": sciences,\n",
    "    \"politics_govt_law\": politics_govt_law,\n",
    "    \"law_enf_military_operator\": law_enf_military_operator,\n",
    "    \"crime\": crime,\n",
    "    \"event_record_other\": event_record_other,\n",
    "    \"other_species\": other_species,\n",
    "    \"arts\": arts,\n",
    "    \"sports\": sports,\n",
    "}"
   ]
  },
  {
   "cell_type": "markdown",
   "id": "35d16389",
   "metadata": {},
   "source": [
    "#### Extracting Category from `info_2`"
   ]
  },
  {
   "cell_type": "code",
   "execution_count": 54,
   "id": "126f4f07",
   "metadata": {},
   "outputs": [
    {
     "name": "stdout",
     "output_type": "stream",
     "text": [
      "CPU times: total: 34.6 s\n",
      "Wall time: 34.6 s\n"
     ]
    },
    {
     "data": {
      "text/html": [
       "<div>\n",
       "<style scoped>\n",
       "    .dataframe tbody tr th:only-of-type {\n",
       "        vertical-align: middle;\n",
       "    }\n",
       "\n",
       "    .dataframe tbody tr th {\n",
       "        vertical-align: top;\n",
       "    }\n",
       "\n",
       "    .dataframe thead th {\n",
       "        text-align: right;\n",
       "    }\n",
       "</style>\n",
       "<table border=\"1\" class=\"dataframe\">\n",
       "  <thead>\n",
       "    <tr style=\"text-align: right;\">\n",
       "      <th></th>\n",
       "      <th>day</th>\n",
       "      <th>name</th>\n",
       "      <th>info</th>\n",
       "      <th>link</th>\n",
       "      <th>num_references</th>\n",
       "      <th>year</th>\n",
       "      <th>month</th>\n",
       "      <th>info_parenth</th>\n",
       "      <th>info_1</th>\n",
       "      <th>info_2</th>\n",
       "      <th>info_3</th>\n",
       "      <th>info_4</th>\n",
       "      <th>info_5</th>\n",
       "      <th>info_6</th>\n",
       "      <th>info_7</th>\n",
       "      <th>info_8</th>\n",
       "      <th>info_9</th>\n",
       "      <th>info_10</th>\n",
       "      <th>info_11</th>\n",
       "      <th>age</th>\n",
       "      <th>cause_of_death</th>\n",
       "      <th>place_1</th>\n",
       "      <th>place_2</th>\n",
       "      <th>info_parenth_copy</th>\n",
       "      <th>log_num_references</th>\n",
       "      <th>sciences</th>\n",
       "      <th>social</th>\n",
       "      <th>spiritual</th>\n",
       "      <th>academia_humanities</th>\n",
       "      <th>business_farming</th>\n",
       "      <th>arts</th>\n",
       "      <th>sports</th>\n",
       "      <th>law_enf_military_operator</th>\n",
       "      <th>politics_govt_law</th>\n",
       "      <th>crime</th>\n",
       "      <th>event_record_other</th>\n",
       "      <th>other_species</th>\n",
       "      <th>num_categories</th>\n",
       "    </tr>\n",
       "  </thead>\n",
       "  <tbody>\n",
       "    <tr>\n",
       "      <th>32384</th>\n",
       "      <td>31</td>\n",
       "      <td>John Rowswell</td>\n",
       "      <td>, 55, Canadian politician, Mayor of Sault Ste. Marie, Ontario.</td>\n",
       "      <td>https://en.wikipedia.org/wiki/John_Rowswell</td>\n",
       "      <td>6</td>\n",
       "      <td>2010</td>\n",
       "      <td>August</td>\n",
       "      <td>None</td>\n",
       "      <td>None</td>\n",
       "      <td></td>\n",
       "      <td>Mayor of Sault Ste Marie</td>\n",
       "      <td></td>\n",
       "      <td>None</td>\n",
       "      <td>None</td>\n",
       "      <td>None</td>\n",
       "      <td>None</td>\n",
       "      <td>None</td>\n",
       "      <td>None</td>\n",
       "      <td>None</td>\n",
       "      <td>55.0</td>\n",
       "      <td>None</td>\n",
       "      <td>Canada</td>\n",
       "      <td>Canada</td>\n",
       "      <td>None</td>\n",
       "      <td>1.945910</td>\n",
       "      <td>0</td>\n",
       "      <td>0</td>\n",
       "      <td>0</td>\n",
       "      <td>0</td>\n",
       "      <td>0</td>\n",
       "      <td>0</td>\n",
       "      <td>0</td>\n",
       "      <td>0</td>\n",
       "      <td>1</td>\n",
       "      <td>0</td>\n",
       "      <td>0</td>\n",
       "      <td>0</td>\n",
       "      <td>1</td>\n",
       "    </tr>\n",
       "    <tr>\n",
       "      <th>5227</th>\n",
       "      <td>29</td>\n",
       "      <td>Ken Harada</td>\n",
       "      <td>, 77, Japanese politician.</td>\n",
       "      <td>https://en.wikipedia.org/wiki/Ken_Harada_(politician)</td>\n",
       "      <td>13</td>\n",
       "      <td>1997</td>\n",
       "      <td>January</td>\n",
       "      <td>None</td>\n",
       "      <td>None</td>\n",
       "      <td></td>\n",
       "      <td>None</td>\n",
       "      <td>None</td>\n",
       "      <td>None</td>\n",
       "      <td>None</td>\n",
       "      <td>None</td>\n",
       "      <td>None</td>\n",
       "      <td>None</td>\n",
       "      <td>None</td>\n",
       "      <td>None</td>\n",
       "      <td>77.0</td>\n",
       "      <td>None</td>\n",
       "      <td>Japan</td>\n",
       "      <td>None</td>\n",
       "      <td>None</td>\n",
       "      <td>2.639057</td>\n",
       "      <td>0</td>\n",
       "      <td>0</td>\n",
       "      <td>0</td>\n",
       "      <td>0</td>\n",
       "      <td>0</td>\n",
       "      <td>0</td>\n",
       "      <td>0</td>\n",
       "      <td>0</td>\n",
       "      <td>1</td>\n",
       "      <td>0</td>\n",
       "      <td>0</td>\n",
       "      <td>0</td>\n",
       "      <td>1</td>\n",
       "    </tr>\n",
       "  </tbody>\n",
       "</table>\n",
       "</div>"
      ],
      "text/plain": [
       "      day           name  \\\n",
       "32384  31  John Rowswell   \n",
       "5227   29     Ken Harada   \n",
       "\n",
       "                                                                 info  \\\n",
       "32384  , 55, Canadian politician, Mayor of Sault Ste. Marie, Ontario.   \n",
       "5227                                       , 77, Japanese politician.   \n",
       "\n",
       "                                                        link  num_references  \\\n",
       "32384            https://en.wikipedia.org/wiki/John_Rowswell               6   \n",
       "5227   https://en.wikipedia.org/wiki/Ken_Harada_(politician)              13   \n",
       "\n",
       "       year    month info_parenth info_1 info_2                    info_3  \\\n",
       "32384  2010   August         None   None         Mayor of Sault Ste Marie   \n",
       "5227   1997  January         None   None                             None   \n",
       "\n",
       "      info_4 info_5 info_6 info_7 info_8 info_9 info_10 info_11   age  \\\n",
       "32384          None   None   None   None   None    None    None  55.0   \n",
       "5227    None   None   None   None   None   None    None    None  77.0   \n",
       "\n",
       "      cause_of_death place_1 place_2 info_parenth_copy  log_num_references  \\\n",
       "32384           None  Canada  Canada              None            1.945910   \n",
       "5227            None   Japan    None              None            2.639057   \n",
       "\n",
       "       sciences  social  spiritual  academia_humanities  business_farming  \\\n",
       "32384         0       0          0                    0                 0   \n",
       "5227          0       0          0                    0                 0   \n",
       "\n",
       "       arts  sports  law_enf_military_operator  politics_govt_law  crime  \\\n",
       "32384     0       0                          0                  1      0   \n",
       "5227      0       0                          0                  1      0   \n",
       "\n",
       "       event_record_other  other_species  num_categories  \n",
       "32384                   0              0               1  \n",
       "5227                    0              0               1  "
      ]
     },
     "execution_count": 54,
     "metadata": {},
     "output_type": "execute_result"
    },
    {
     "data": {
      "application/javascript": [
       "\n",
       "            setTimeout(function() {\n",
       "                var nbb_cell_id = 54;\n",
       "                var nbb_unformatted_code = \"%%time\\n\\n# Dictionary version\\nsearch_dict = known_for_dict\\n\\n# Column to check\\ncolumn = 'info_2'\\n\\n# Dataframe\\ndataframe = df[column].notna()\\n\\n# For loop to find role in column and extract it as category\\nfor category, category_lst in search_dict.items():\\n    for role in category_lst:\\n        for index in dataframe.index:\\n            item = df.loc[index, column]\\n            if item:\\n                if role in item:\\n                    df.loc[index, category] = 1\\n                    df.loc[index, column] = item.replace(role, '').strip()\\n\\n# Updating num_categories\\ndf[\\\"num_categories\\\"] = df[known_for_dict.keys()].sum(axis=1)\\n\\n# Checking a sample of rows\\ndf[df['politics_govt_law'] ==1].sample(2)\";\n",
       "                var nbb_formatted_code = \"%%time\\n\\n# Dictionary version\\nsearch_dict = known_for_dict\\n\\n# Column to check\\ncolumn = 'info_2'\\n\\n# Dataframe\\ndataframe = df[column].notna()\\n\\n# For loop to find role in column and extract it as category\\nfor category, category_lst in search_dict.items():\\n    for role in category_lst:\\n        for index in dataframe.index:\\n            item = df.loc[index, column]\\n            if item:\\n                if role in item:\\n                    df.loc[index, category] = 1\\n                    df.loc[index, column] = item.replace(role, '').strip()\\n\\n# Updating num_categories\\ndf[\\\"num_categories\\\"] = df[known_for_dict.keys()].sum(axis=1)\\n\\n# Checking a sample of rows\\ndf[df['politics_govt_law'] ==1].sample(2)\";\n",
       "                var nbb_cells = Jupyter.notebook.get_cells();\n",
       "                for (var i = 0; i < nbb_cells.length; ++i) {\n",
       "                    if (nbb_cells[i].input_prompt_number == nbb_cell_id) {\n",
       "                        if (nbb_cells[i].get_text() == nbb_unformatted_code) {\n",
       "                             nbb_cells[i].set_text(nbb_formatted_code);\n",
       "                        }\n",
       "                        break;\n",
       "                    }\n",
       "                }\n",
       "            }, 500);\n",
       "            "
      ],
      "text/plain": [
       "<IPython.core.display.Javascript object>"
      ]
     },
     "metadata": {},
     "output_type": "display_data"
    }
   ],
   "source": [
    "%%time\n",
    "\n",
    "# Dictionary version\n",
    "search_dict = known_for_dict\n",
    "\n",
    "# Column to check\n",
    "column = 'info_2'\n",
    "\n",
    "# Dataframe\n",
    "dataframe = df[column].notna()\n",
    "\n",
    "# For loop to find role in column and extract it as category\n",
    "for category, category_lst in search_dict.items():\n",
    "    for role in category_lst:\n",
    "        for index in dataframe.index:\n",
    "            item = df.loc[index, column]\n",
    "            if item:\n",
    "                if role in item:\n",
    "                    df.loc[index, category] = 1\n",
    "                    df.loc[index, column] = item.replace(role, '').strip()\n",
    "\n",
    "# Updating num_categories\n",
    "df[\"num_categories\"] = df[known_for_dict.keys()].sum(axis=1)\n",
    "\n",
    "# Checking a sample of rows\n",
    "df[df['politics_govt_law'] ==1].sample(2)"
   ]
  },
  {
   "cell_type": "markdown",
   "id": "1d5f00a5",
   "metadata": {},
   "source": [
    "#### Checking the Number of Rows without a First Category"
   ]
  },
  {
   "cell_type": "code",
   "execution_count": 55,
   "id": "50b5830a",
   "metadata": {},
   "outputs": [
    {
     "name": "stdout",
     "output_type": "stream",
     "text": [
      "There are 42456 entries without any known_for category.\n"
     ]
    },
    {
     "data": {
      "application/javascript": [
       "\n",
       "            setTimeout(function() {\n",
       "                var nbb_cell_id = 55;\n",
       "                var nbb_unformatted_code = \"#### Checking the number of rows without a first category\\nprint(\\n    f'There are {len(df[df[\\\"num_categories\\\"]==0])} entries without any known_for category.'\\n)\";\n",
       "                var nbb_formatted_code = \"#### Checking the number of rows without a first category\\nprint(\\n    f'There are {len(df[df[\\\"num_categories\\\"]==0])} entries without any known_for category.'\\n)\";\n",
       "                var nbb_cells = Jupyter.notebook.get_cells();\n",
       "                for (var i = 0; i < nbb_cells.length; ++i) {\n",
       "                    if (nbb_cells[i].input_prompt_number == nbb_cell_id) {\n",
       "                        if (nbb_cells[i].get_text() == nbb_unformatted_code) {\n",
       "                             nbb_cells[i].set_text(nbb_formatted_code);\n",
       "                        }\n",
       "                        break;\n",
       "                    }\n",
       "                }\n",
       "            }, 500);\n",
       "            "
      ],
      "text/plain": [
       "<IPython.core.display.Javascript object>"
      ]
     },
     "metadata": {},
     "output_type": "display_data"
    }
   ],
   "source": [
    "#### Checking the number of rows without a first category\n",
    "print(\n",
    "    f'There are {len(df[df[\"num_categories\"]==0])} entries without any known_for category.'\n",
    ")"
   ]
  },
  {
   "cell_type": "markdown",
   "id": "93e2e17d",
   "metadata": {},
   "source": [
    "#### Observations:\n",
    "- We will proceed to rebuild `known_for_dict` for the next iteration."
   ]
  },
  {
   "cell_type": "markdown",
   "id": "398d37dd",
   "metadata": {},
   "source": [
    "#### Finding `known_for` Roles in `info_2`"
   ]
  },
  {
   "cell_type": "code",
   "execution_count": 56,
   "id": "4b4854cc",
   "metadata": {},
   "outputs": [
    {
     "data": {
      "application/javascript": [
       "\n",
       "            setTimeout(function() {\n",
       "                var nbb_cell_id = 56;\n",
       "                var nbb_unformatted_code = \"# Obtaining values for column and their counts\\nroles_list = df[\\\"info_2\\\"].value_counts(ascending=True).index.tolist()\";\n",
       "                var nbb_formatted_code = \"# Obtaining values for column and their counts\\nroles_list = df[\\\"info_2\\\"].value_counts(ascending=True).index.tolist()\";\n",
       "                var nbb_cells = Jupyter.notebook.get_cells();\n",
       "                for (var i = 0; i < nbb_cells.length; ++i) {\n",
       "                    if (nbb_cells[i].input_prompt_number == nbb_cell_id) {\n",
       "                        if (nbb_cells[i].get_text() == nbb_unformatted_code) {\n",
       "                             nbb_cells[i].set_text(nbb_formatted_code);\n",
       "                        }\n",
       "                        break;\n",
       "                    }\n",
       "                }\n",
       "            }, 500);\n",
       "            "
      ],
      "text/plain": [
       "<IPython.core.display.Javascript object>"
      ]
     },
     "metadata": {},
     "output_type": "display_data"
    }
   ],
   "source": [
    "# Obtaining values for column and their counts\n",
    "roles_list = df[\"info_2\"].value_counts(ascending=True).index.tolist()"
   ]
  },
  {
   "cell_type": "code",
   "execution_count": 57,
   "id": "ad625696",
   "metadata": {},
   "outputs": [
    {
     "data": {
      "application/javascript": [
       "\n",
       "            setTimeout(function() {\n",
       "                var nbb_cell_id = 57;\n",
       "                var nbb_unformatted_code = \"# # Code to check each value\\n# roles_list.pop()\";\n",
       "                var nbb_formatted_code = \"# # Code to check each value\\n# roles_list.pop()\";\n",
       "                var nbb_cells = Jupyter.notebook.get_cells();\n",
       "                for (var i = 0; i < nbb_cells.length; ++i) {\n",
       "                    if (nbb_cells[i].input_prompt_number == nbb_cell_id) {\n",
       "                        if (nbb_cells[i].get_text() == nbb_unformatted_code) {\n",
       "                             nbb_cells[i].set_text(nbb_formatted_code);\n",
       "                        }\n",
       "                        break;\n",
       "                    }\n",
       "                }\n",
       "            }, 500);\n",
       "            "
      ],
      "text/plain": [
       "<IPython.core.display.Javascript object>"
      ]
     },
     "metadata": {},
     "output_type": "display_data"
    }
   ],
   "source": [
    "# # Code to check each value\n",
    "# roles_list.pop()"
   ]
  },
  {
   "cell_type": "code",
   "execution_count": 58,
   "id": "d3285840",
   "metadata": {},
   "outputs": [
    {
     "data": {
      "application/javascript": [
       "\n",
       "            setTimeout(function() {\n",
       "                var nbb_cell_id = 58;\n",
       "                var nbb_unformatted_code = \"# # Create specific_roles_list for above popped value\\n# specific_roles_list = (\\n#     df.loc[[index for index in df.index if \\\"judge\\\" in df.loc[index, \\\"info\\\"]], \\\"info_2\\\",]\\n#     .value_counts()\\n#     .index.tolist()\\n# )\";\n",
       "                var nbb_formatted_code = \"# # Create specific_roles_list for above popped value\\n# specific_roles_list = (\\n#     df.loc[[index for index in df.index if \\\"judge\\\" in df.loc[index, \\\"info\\\"]], \\\"info_2\\\",]\\n#     .value_counts()\\n#     .index.tolist()\\n# )\";\n",
       "                var nbb_cells = Jupyter.notebook.get_cells();\n",
       "                for (var i = 0; i < nbb_cells.length; ++i) {\n",
       "                    if (nbb_cells[i].input_prompt_number == nbb_cell_id) {\n",
       "                        if (nbb_cells[i].get_text() == nbb_unformatted_code) {\n",
       "                             nbb_cells[i].set_text(nbb_formatted_code);\n",
       "                        }\n",
       "                        break;\n",
       "                    }\n",
       "                }\n",
       "            }, 500);\n",
       "            "
      ],
      "text/plain": [
       "<IPython.core.display.Javascript object>"
      ]
     },
     "metadata": {},
     "output_type": "display_data"
    }
   ],
   "source": [
    "# # Create specific_roles_list for above popped value\n",
    "# specific_roles_list = (\n",
    "#     df.loc[[index for index in df.index if \"judge\" in df.loc[index, \"info\"]], \"info_2\",]\n",
    "#     .value_counts()\n",
    "#     .index.tolist()\n",
    "# )"
   ]
  },
  {
   "cell_type": "code",
   "execution_count": 59,
   "id": "d5b3717c",
   "metadata": {},
   "outputs": [
    {
     "data": {
      "application/javascript": [
       "\n",
       "            setTimeout(function() {\n",
       "                var nbb_cell_id = 59;\n",
       "                var nbb_unformatted_code = \"# # Code to check each specific value\\n# specific_roles_list.pop()\";\n",
       "                var nbb_formatted_code = \"# # Code to check each specific value\\n# specific_roles_list.pop()\";\n",
       "                var nbb_cells = Jupyter.notebook.get_cells();\n",
       "                for (var i = 0; i < nbb_cells.length; ++i) {\n",
       "                    if (nbb_cells[i].input_prompt_number == nbb_cell_id) {\n",
       "                        if (nbb_cells[i].get_text() == nbb_unformatted_code) {\n",
       "                             nbb_cells[i].set_text(nbb_formatted_code);\n",
       "                        }\n",
       "                        break;\n",
       "                    }\n",
       "                }\n",
       "            }, 500);\n",
       "            "
      ],
      "text/plain": [
       "<IPython.core.display.Javascript object>"
      ]
     },
     "metadata": {},
     "output_type": "display_data"
    }
   ],
   "source": [
    "# # Code to check each specific value\n",
    "# specific_roles_list.pop()"
   ]
  },
  {
   "cell_type": "code",
   "execution_count": 60,
   "id": "d51d213c",
   "metadata": {},
   "outputs": [
    {
     "data": {
      "application/javascript": [
       "\n",
       "            setTimeout(function() {\n",
       "                var nbb_cell_id = 60;\n",
       "                var nbb_unformatted_code = \"# # Example code to quick-screen values that may overlap categories\\n# df.loc[[index for index in df.index if \\\"judge and legal\\\" in df.loc[index, \\\"info\\\"]]]\";\n",
       "                var nbb_formatted_code = \"# # Example code to quick-screen values that may overlap categories\\n# df.loc[[index for index in df.index if \\\"judge and legal\\\" in df.loc[index, \\\"info\\\"]]]\";\n",
       "                var nbb_cells = Jupyter.notebook.get_cells();\n",
       "                for (var i = 0; i < nbb_cells.length; ++i) {\n",
       "                    if (nbb_cells[i].input_prompt_number == nbb_cell_id) {\n",
       "                        if (nbb_cells[i].get_text() == nbb_unformatted_code) {\n",
       "                             nbb_cells[i].set_text(nbb_formatted_code);\n",
       "                        }\n",
       "                        break;\n",
       "                    }\n",
       "                }\n",
       "            }, 500);\n",
       "            "
      ],
      "text/plain": [
       "<IPython.core.display.Javascript object>"
      ]
     },
     "metadata": {},
     "output_type": "display_data"
    }
   ],
   "source": [
    "# # Example code to quick-screen values that may overlap categories\n",
    "# df.loc[[index for index in df.index if \"judge and legal\" in df.loc[index, \"info\"]]]"
   ]
  },
  {
   "cell_type": "code",
   "execution_count": 61,
   "id": "90c22ecf",
   "metadata": {},
   "outputs": [
    {
     "data": {
      "application/javascript": [
       "\n",
       "            setTimeout(function() {\n",
       "                var nbb_cell_id = 61;\n",
       "                var nbb_unformatted_code = \"# # Example code to quick-check a specific entry\\n# df[df[\\\"info_2\\\"] == \\\"circuit judge and tabloid columnist\\\"]\";\n",
       "                var nbb_formatted_code = \"# # Example code to quick-check a specific entry\\n# df[df[\\\"info_2\\\"] == \\\"circuit judge and tabloid columnist\\\"]\";\n",
       "                var nbb_cells = Jupyter.notebook.get_cells();\n",
       "                for (var i = 0; i < nbb_cells.length; ++i) {\n",
       "                    if (nbb_cells[i].input_prompt_number == nbb_cell_id) {\n",
       "                        if (nbb_cells[i].get_text() == nbb_unformatted_code) {\n",
       "                             nbb_cells[i].set_text(nbb_formatted_code);\n",
       "                        }\n",
       "                        break;\n",
       "                    }\n",
       "                }\n",
       "            }, 500);\n",
       "            "
      ],
      "text/plain": [
       "<IPython.core.display.Javascript object>"
      ]
     },
     "metadata": {},
     "output_type": "display_data"
    }
   ],
   "source": [
    "# # Example code to quick-check a specific entry\n",
    "# df[df[\"info_2\"] == \"circuit judge and tabloid columnist\"]"
   ]
  },
  {
   "cell_type": "markdown",
   "id": "b574b826",
   "metadata": {},
   "source": [
    "#### Creating Lists for Each `known_for` Category"
   ]
  },
  {
   "cell_type": "code",
   "execution_count": 62,
   "id": "30e9aa99",
   "metadata": {},
   "outputs": [
    {
     "data": {
      "application/javascript": [
       "\n",
       "            setTimeout(function() {\n",
       "                var nbb_cell_id = 62;\n",
       "                var nbb_unformatted_code = \"# Creating lists for each category\\npolitics_govt_law = [\\n    \\\"military judge and\\\",\\n    \\\"judge on the Supreme Court of Queensland\\\",\\n    \\\"judge on the Oregon Supreme Court\\\",\\n    \\\"senior judge for the Central District Court\\\",\\n    \\\"judge and Representative from Alabama\\\",\\n    \\\"appeals court judge\\\",\\n    \\\"High Court judge\\\",\\n    \\\"intellectual property lawyer and High Court judge\\\",\\n    \\\"judge of the ACT Supreme Court\\\",\\n    \\\"judge and hereditary peer\\\",\\n    \\\"judge and Law Lord\\\",\\n    \\\"circuit judge for the Court of Appeals for the Ninth Circuit\\\",\\n    \\\"senior judge of the District Court for the Southern District of\\\",\\n    \\\"judge and feminist\\\",\\n    \\\"judge of the District Court for the Western District of Missouri\\\",\\n    \\\"judge and public servant\\\",\\n    \\\"District Court judge\\\",\\n    \\\"Bankruptcy Court judge\\\",\\n    \\\"who was the first female Supreme Court judge\\\",\\n    \\\"State judge and prosecutor at the Nuremberg war crimes trials\\\",\\n    \\\"judge and influential patent attorney\\\",\\n    \\\"district judge overseeing desegregation in the South\\\",\\n    \\\"judge and former Lord Chief Justice\\\",\\n    \\\"judge and peer\\\",\\n    \\\"civil rights lawyer and the first female federal judge\\\",\\n    \\\"federal judge who crafted the mass settlement of asbestos lawsuits\\\",\\n    \\\"senior federal judge and the first black federal prosecutor in history\\\",\\n    \\\"judge on the Court of Appeals for the Third Circuit\\\",\\n    \\\"prominent judge sitting in highest court\\\",\\n    \\\"former chief judge of the Court of Appeals for the Third Circuit\\\",\\n    \\\"Superior Court judge who presided over the Charles Manson trial\\\",\\n    \\\"and Ohio judge for years\\\",\\n    \\\"judge and Vice Chancellor of the Supreme Court\\\",\\n    \\\"City family court judge and first female judge\\\",\\n    \\\"senior judge of the Family Division of the High Court\\\",\\n    \\\"former chief judge\\\",\\n    \\\"senior judge of the District Court for the Southern District of Alabama and judge for the Middle District of Alabama\\\",\\n    \\\"senior federal appellate judge\\\",\\n    \\\"civil rights activist and judge\\\",\\n    \\\"first female judge of\\\",\\n    \\\"judge in the\\\",\\n    \\\"judge and chairperson of the Electoral Commission\\\",\\n    \\\"judge and political activist\\\",\\n    \\\"judge and anti apartheid activist\\\",\\n    \\\"lawyer and Supreme Court judge\\\",\\n    \\\"judge and disability rights campaigner\\\",\\n    \\\"senior judge of the Court of Appeals for the Ninth Circuit\\\",\\n    \\\"jurist and judge\\\",\\n    \\\"judge and independence activist\\\",\\n    \\\"senior judge of the District Court for the District of New\\\",\\n    \\\"attorney and tribal judge\\\",\\n    \\\"judge and prosecutor\\\",\\n    \\\"judge and civil servant\\\",\\n    \\\"judge and ombudsman\\\",\\n    \\\"jurist and Supreme Court judge\\\",\\n    \\\"senior federal judge\\\",\\n    \\\"lawyer and state judge\\\",\\n    \\\"colonial official and judge\\\",\\n    \\\"judge of the High Court of and\\\",\\n    \\\"Navajo judge\\\",\\n    \\\"senior and chief judge\\\",\\n    \\\"legislator and federal judge\\\",\\n    \\\"senior circuit judge\\\",\\n    \\\"judge and legal\\\",\\n    \\\"judge and barrister\\\",\\n    \\\"judge and law lord\\\",\\n    \\\"district judge and\\\",\\n    \\\"district judge\\\",\\n    \\\"judge and life peer\\\",\\n    \\\"chief judge\\\",\\n    \\\"senior judge of the District Court for the Eastern District of\\\",\\n    \\\"attorney and judge\\\",\\n    \\\"district court judge\\\",\\n    \\\"judge and lawyer\\\",\\n    \\\"judge and jurist\\\",\\n    \\\"state judge\\\",\\n    \\\"Supreme Court judge\\\",\\n    \\\"barrister and judge\\\",\\n    \\\"senior judge\\\",\\n    \\\"lawyer and judge\\\",\\n    \\\"federal judge and\\\",\\n    \\\"federal judge\\\",\\n    \\\"circuit judge and\\\",\\n    \\\"judge and\\\",\\n    \\\"and judge\\\",\\n    \\\"judge\\\",\\n]\\n\\narts = []\\nsports = [\\n    \\\"dog show judge\\\",  # before politics_govt_law\\n    \\\"boxing judge and\\\",\\n    \\\"draughts player and judge\\\",\\n]\\nsciences = []\\n\\nbusiness_farming = []\\nacademia_humanities = []\\nlaw_enf_military_operator = []\\nspiritual = []\\nsocial = []\\ncrime = []\\nevent_record_other = []\\nother_species = []\";\n",
       "                var nbb_formatted_code = \"# Creating lists for each category\\npolitics_govt_law = [\\n    \\\"military judge and\\\",\\n    \\\"judge on the Supreme Court of Queensland\\\",\\n    \\\"judge on the Oregon Supreme Court\\\",\\n    \\\"senior judge for the Central District Court\\\",\\n    \\\"judge and Representative from Alabama\\\",\\n    \\\"appeals court judge\\\",\\n    \\\"High Court judge\\\",\\n    \\\"intellectual property lawyer and High Court judge\\\",\\n    \\\"judge of the ACT Supreme Court\\\",\\n    \\\"judge and hereditary peer\\\",\\n    \\\"judge and Law Lord\\\",\\n    \\\"circuit judge for the Court of Appeals for the Ninth Circuit\\\",\\n    \\\"senior judge of the District Court for the Southern District of\\\",\\n    \\\"judge and feminist\\\",\\n    \\\"judge of the District Court for the Western District of Missouri\\\",\\n    \\\"judge and public servant\\\",\\n    \\\"District Court judge\\\",\\n    \\\"Bankruptcy Court judge\\\",\\n    \\\"who was the first female Supreme Court judge\\\",\\n    \\\"State judge and prosecutor at the Nuremberg war crimes trials\\\",\\n    \\\"judge and influential patent attorney\\\",\\n    \\\"district judge overseeing desegregation in the South\\\",\\n    \\\"judge and former Lord Chief Justice\\\",\\n    \\\"judge and peer\\\",\\n    \\\"civil rights lawyer and the first female federal judge\\\",\\n    \\\"federal judge who crafted the mass settlement of asbestos lawsuits\\\",\\n    \\\"senior federal judge and the first black federal prosecutor in history\\\",\\n    \\\"judge on the Court of Appeals for the Third Circuit\\\",\\n    \\\"prominent judge sitting in highest court\\\",\\n    \\\"former chief judge of the Court of Appeals for the Third Circuit\\\",\\n    \\\"Superior Court judge who presided over the Charles Manson trial\\\",\\n    \\\"and Ohio judge for years\\\",\\n    \\\"judge and Vice Chancellor of the Supreme Court\\\",\\n    \\\"City family court judge and first female judge\\\",\\n    \\\"senior judge of the Family Division of the High Court\\\",\\n    \\\"former chief judge\\\",\\n    \\\"senior judge of the District Court for the Southern District of Alabama and judge for the Middle District of Alabama\\\",\\n    \\\"senior federal appellate judge\\\",\\n    \\\"civil rights activist and judge\\\",\\n    \\\"first female judge of\\\",\\n    \\\"judge in the\\\",\\n    \\\"judge and chairperson of the Electoral Commission\\\",\\n    \\\"judge and political activist\\\",\\n    \\\"judge and anti apartheid activist\\\",\\n    \\\"lawyer and Supreme Court judge\\\",\\n    \\\"judge and disability rights campaigner\\\",\\n    \\\"senior judge of the Court of Appeals for the Ninth Circuit\\\",\\n    \\\"jurist and judge\\\",\\n    \\\"judge and independence activist\\\",\\n    \\\"senior judge of the District Court for the District of New\\\",\\n    \\\"attorney and tribal judge\\\",\\n    \\\"judge and prosecutor\\\",\\n    \\\"judge and civil servant\\\",\\n    \\\"judge and ombudsman\\\",\\n    \\\"jurist and Supreme Court judge\\\",\\n    \\\"senior federal judge\\\",\\n    \\\"lawyer and state judge\\\",\\n    \\\"colonial official and judge\\\",\\n    \\\"judge of the High Court of and\\\",\\n    \\\"Navajo judge\\\",\\n    \\\"senior and chief judge\\\",\\n    \\\"legislator and federal judge\\\",\\n    \\\"senior circuit judge\\\",\\n    \\\"judge and legal\\\",\\n    \\\"judge and barrister\\\",\\n    \\\"judge and law lord\\\",\\n    \\\"district judge and\\\",\\n    \\\"district judge\\\",\\n    \\\"judge and life peer\\\",\\n    \\\"chief judge\\\",\\n    \\\"senior judge of the District Court for the Eastern District of\\\",\\n    \\\"attorney and judge\\\",\\n    \\\"district court judge\\\",\\n    \\\"judge and lawyer\\\",\\n    \\\"judge and jurist\\\",\\n    \\\"state judge\\\",\\n    \\\"Supreme Court judge\\\",\\n    \\\"barrister and judge\\\",\\n    \\\"senior judge\\\",\\n    \\\"lawyer and judge\\\",\\n    \\\"federal judge and\\\",\\n    \\\"federal judge\\\",\\n    \\\"circuit judge and\\\",\\n    \\\"judge and\\\",\\n    \\\"and judge\\\",\\n    \\\"judge\\\",\\n]\\n\\narts = []\\nsports = [\\n    \\\"dog show judge\\\",  # before politics_govt_law\\n    \\\"boxing judge and\\\",\\n    \\\"draughts player and judge\\\",\\n]\\nsciences = []\\n\\nbusiness_farming = []\\nacademia_humanities = []\\nlaw_enf_military_operator = []\\nspiritual = []\\nsocial = []\\ncrime = []\\nevent_record_other = []\\nother_species = []\";\n",
       "                var nbb_cells = Jupyter.notebook.get_cells();\n",
       "                for (var i = 0; i < nbb_cells.length; ++i) {\n",
       "                    if (nbb_cells[i].input_prompt_number == nbb_cell_id) {\n",
       "                        if (nbb_cells[i].get_text() == nbb_unformatted_code) {\n",
       "                             nbb_cells[i].set_text(nbb_formatted_code);\n",
       "                        }\n",
       "                        break;\n",
       "                    }\n",
       "                }\n",
       "            }, 500);\n",
       "            "
      ],
      "text/plain": [
       "<IPython.core.display.Javascript object>"
      ]
     },
     "metadata": {},
     "output_type": "display_data"
    }
   ],
   "source": [
    "# Creating lists for each category\n",
    "politics_govt_law = [\n",
    "    \"military judge and\",\n",
    "    \"judge on the Supreme Court of Queensland\",\n",
    "    \"judge on the Oregon Supreme Court\",\n",
    "    \"senior judge for the Central District Court\",\n",
    "    \"judge and Representative from Alabama\",\n",
    "    \"appeals court judge\",\n",
    "    \"High Court judge\",\n",
    "    \"intellectual property lawyer and High Court judge\",\n",
    "    \"judge of the ACT Supreme Court\",\n",
    "    \"judge and hereditary peer\",\n",
    "    \"judge and Law Lord\",\n",
    "    \"circuit judge for the Court of Appeals for the Ninth Circuit\",\n",
    "    \"senior judge of the District Court for the Southern District of\",\n",
    "    \"judge and feminist\",\n",
    "    \"judge of the District Court for the Western District of Missouri\",\n",
    "    \"judge and public servant\",\n",
    "    \"District Court judge\",\n",
    "    \"Bankruptcy Court judge\",\n",
    "    \"who was the first female Supreme Court judge\",\n",
    "    \"State judge and prosecutor at the Nuremberg war crimes trials\",\n",
    "    \"judge and influential patent attorney\",\n",
    "    \"district judge overseeing desegregation in the South\",\n",
    "    \"judge and former Lord Chief Justice\",\n",
    "    \"judge and peer\",\n",
    "    \"civil rights lawyer and the first female federal judge\",\n",
    "    \"federal judge who crafted the mass settlement of asbestos lawsuits\",\n",
    "    \"senior federal judge and the first black federal prosecutor in history\",\n",
    "    \"judge on the Court of Appeals for the Third Circuit\",\n",
    "    \"prominent judge sitting in highest court\",\n",
    "    \"former chief judge of the Court of Appeals for the Third Circuit\",\n",
    "    \"Superior Court judge who presided over the Charles Manson trial\",\n",
    "    \"and Ohio judge for years\",\n",
    "    \"judge and Vice Chancellor of the Supreme Court\",\n",
    "    \"City family court judge and first female judge\",\n",
    "    \"senior judge of the Family Division of the High Court\",\n",
    "    \"former chief judge\",\n",
    "    \"senior judge of the District Court for the Southern District of Alabama and judge for the Middle District of Alabama\",\n",
    "    \"senior federal appellate judge\",\n",
    "    \"civil rights activist and judge\",\n",
    "    \"first female judge of\",\n",
    "    \"judge in the\",\n",
    "    \"judge and chairperson of the Electoral Commission\",\n",
    "    \"judge and political activist\",\n",
    "    \"judge and anti apartheid activist\",\n",
    "    \"lawyer and Supreme Court judge\",\n",
    "    \"judge and disability rights campaigner\",\n",
    "    \"senior judge of the Court of Appeals for the Ninth Circuit\",\n",
    "    \"jurist and judge\",\n",
    "    \"judge and independence activist\",\n",
    "    \"senior judge of the District Court for the District of New\",\n",
    "    \"attorney and tribal judge\",\n",
    "    \"judge and prosecutor\",\n",
    "    \"judge and civil servant\",\n",
    "    \"judge and ombudsman\",\n",
    "    \"jurist and Supreme Court judge\",\n",
    "    \"senior federal judge\",\n",
    "    \"lawyer and state judge\",\n",
    "    \"colonial official and judge\",\n",
    "    \"judge of the High Court of and\",\n",
    "    \"Navajo judge\",\n",
    "    \"senior and chief judge\",\n",
    "    \"legislator and federal judge\",\n",
    "    \"senior circuit judge\",\n",
    "    \"judge and legal\",\n",
    "    \"judge and barrister\",\n",
    "    \"judge and law lord\",\n",
    "    \"district judge and\",\n",
    "    \"district judge\",\n",
    "    \"judge and life peer\",\n",
    "    \"chief judge\",\n",
    "    \"senior judge of the District Court for the Eastern District of\",\n",
    "    \"attorney and judge\",\n",
    "    \"district court judge\",\n",
    "    \"judge and lawyer\",\n",
    "    \"judge and jurist\",\n",
    "    \"state judge\",\n",
    "    \"Supreme Court judge\",\n",
    "    \"barrister and judge\",\n",
    "    \"senior judge\",\n",
    "    \"lawyer and judge\",\n",
    "    \"federal judge and\",\n",
    "    \"federal judge\",\n",
    "    \"circuit judge and\",\n",
    "    \"judge and\",\n",
    "    \"and judge\",\n",
    "    \"judge\",\n",
    "]\n",
    "\n",
    "arts = []\n",
    "sports = [\n",
    "    \"dog show judge\",  # before politics_govt_law\n",
    "    \"boxing judge and\",\n",
    "    \"draughts player and judge\",\n",
    "]\n",
    "sciences = []\n",
    "\n",
    "business_farming = []\n",
    "academia_humanities = []\n",
    "law_enf_military_operator = []\n",
    "spiritual = []\n",
    "social = []\n",
    "crime = []\n",
    "event_record_other = []\n",
    "other_species = []"
   ]
  },
  {
   "cell_type": "markdown",
   "id": "78b54bd8",
   "metadata": {},
   "source": [
    "#### Creating `known_for_dict` Dictionary of Category Keys and Specific Role Lists of Values"
   ]
  },
  {
   "cell_type": "code",
   "execution_count": 63,
   "id": "3631044b",
   "metadata": {},
   "outputs": [
    {
     "data": {
      "application/javascript": [
       "\n",
       "            setTimeout(function() {\n",
       "                var nbb_cell_id = 63;\n",
       "                var nbb_unformatted_code = \"# Combining separate lists into one dictionary\\nknown_for_dict = {\\n    \\\"social\\\": social,\\n    \\\"spiritual\\\": spiritual,\\n    \\\"academia_humanities\\\": academia_humanities,\\n    \\\"business_farming\\\": business_farming,\\n    \\\"sciences\\\": sciences,\\n    \\\"sports\\\": sports,\\n    \\\"politics_govt_law\\\": politics_govt_law,\\n    \\\"law_enf_military_operator\\\": law_enf_military_operator,\\n    \\\"crime\\\": crime,\\n    \\\"event_record_other\\\": event_record_other,\\n    \\\"other_species\\\": other_species,\\n    \\\"arts\\\": arts,\\n}\";\n",
       "                var nbb_formatted_code = \"# Combining separate lists into one dictionary\\nknown_for_dict = {\\n    \\\"social\\\": social,\\n    \\\"spiritual\\\": spiritual,\\n    \\\"academia_humanities\\\": academia_humanities,\\n    \\\"business_farming\\\": business_farming,\\n    \\\"sciences\\\": sciences,\\n    \\\"sports\\\": sports,\\n    \\\"politics_govt_law\\\": politics_govt_law,\\n    \\\"law_enf_military_operator\\\": law_enf_military_operator,\\n    \\\"crime\\\": crime,\\n    \\\"event_record_other\\\": event_record_other,\\n    \\\"other_species\\\": other_species,\\n    \\\"arts\\\": arts,\\n}\";\n",
       "                var nbb_cells = Jupyter.notebook.get_cells();\n",
       "                for (var i = 0; i < nbb_cells.length; ++i) {\n",
       "                    if (nbb_cells[i].input_prompt_number == nbb_cell_id) {\n",
       "                        if (nbb_cells[i].get_text() == nbb_unformatted_code) {\n",
       "                             nbb_cells[i].set_text(nbb_formatted_code);\n",
       "                        }\n",
       "                        break;\n",
       "                    }\n",
       "                }\n",
       "            }, 500);\n",
       "            "
      ],
      "text/plain": [
       "<IPython.core.display.Javascript object>"
      ]
     },
     "metadata": {},
     "output_type": "display_data"
    }
   ],
   "source": [
    "# Combining separate lists into one dictionary\n",
    "known_for_dict = {\n",
    "    \"social\": social,\n",
    "    \"spiritual\": spiritual,\n",
    "    \"academia_humanities\": academia_humanities,\n",
    "    \"business_farming\": business_farming,\n",
    "    \"sciences\": sciences,\n",
    "    \"sports\": sports,\n",
    "    \"politics_govt_law\": politics_govt_law,\n",
    "    \"law_enf_military_operator\": law_enf_military_operator,\n",
    "    \"crime\": crime,\n",
    "    \"event_record_other\": event_record_other,\n",
    "    \"other_species\": other_species,\n",
    "    \"arts\": arts,\n",
    "}"
   ]
  },
  {
   "cell_type": "markdown",
   "id": "aaa851b6",
   "metadata": {},
   "source": [
    "#### Extracting Category from `info_2`"
   ]
  },
  {
   "cell_type": "code",
   "execution_count": 64,
   "id": "8b40b9a6",
   "metadata": {},
   "outputs": [
    {
     "name": "stdout",
     "output_type": "stream",
     "text": [
      "CPU times: total: 49.7 s\n",
      "Wall time: 49.7 s\n"
     ]
    },
    {
     "data": {
      "text/html": [
       "<div>\n",
       "<style scoped>\n",
       "    .dataframe tbody tr th:only-of-type {\n",
       "        vertical-align: middle;\n",
       "    }\n",
       "\n",
       "    .dataframe tbody tr th {\n",
       "        vertical-align: top;\n",
       "    }\n",
       "\n",
       "    .dataframe thead th {\n",
       "        text-align: right;\n",
       "    }\n",
       "</style>\n",
       "<table border=\"1\" class=\"dataframe\">\n",
       "  <thead>\n",
       "    <tr style=\"text-align: right;\">\n",
       "      <th></th>\n",
       "      <th>day</th>\n",
       "      <th>name</th>\n",
       "      <th>info</th>\n",
       "      <th>link</th>\n",
       "      <th>num_references</th>\n",
       "      <th>year</th>\n",
       "      <th>month</th>\n",
       "      <th>info_parenth</th>\n",
       "      <th>info_1</th>\n",
       "      <th>info_2</th>\n",
       "      <th>info_3</th>\n",
       "      <th>info_4</th>\n",
       "      <th>info_5</th>\n",
       "      <th>info_6</th>\n",
       "      <th>info_7</th>\n",
       "      <th>info_8</th>\n",
       "      <th>info_9</th>\n",
       "      <th>info_10</th>\n",
       "      <th>info_11</th>\n",
       "      <th>age</th>\n",
       "      <th>cause_of_death</th>\n",
       "      <th>place_1</th>\n",
       "      <th>place_2</th>\n",
       "      <th>info_parenth_copy</th>\n",
       "      <th>log_num_references</th>\n",
       "      <th>sciences</th>\n",
       "      <th>social</th>\n",
       "      <th>spiritual</th>\n",
       "      <th>academia_humanities</th>\n",
       "      <th>business_farming</th>\n",
       "      <th>arts</th>\n",
       "      <th>sports</th>\n",
       "      <th>law_enf_military_operator</th>\n",
       "      <th>politics_govt_law</th>\n",
       "      <th>crime</th>\n",
       "      <th>event_record_other</th>\n",
       "      <th>other_species</th>\n",
       "      <th>num_categories</th>\n",
       "    </tr>\n",
       "  </thead>\n",
       "  <tbody>\n",
       "    <tr>\n",
       "      <th>93706</th>\n",
       "      <td>31</td>\n",
       "      <td>James Jemut Masing</td>\n",
       "      <td>, 72, Malaysian politician, Sarawak MLA , complications from COVID-19.</td>\n",
       "      <td>https://en.wikipedia.org/wiki/James_Jemut_Masing</td>\n",
       "      <td>34</td>\n",
       "      <td>2021</td>\n",
       "      <td>October</td>\n",
       "      <td>since</td>\n",
       "      <td>None</td>\n",
       "      <td></td>\n",
       "      <td>Sarawak MLA</td>\n",
       "      <td>complications from COVID</td>\n",
       "      <td>None</td>\n",
       "      <td>None</td>\n",
       "      <td>None</td>\n",
       "      <td>None</td>\n",
       "      <td>None</td>\n",
       "      <td>None</td>\n",
       "      <td>None</td>\n",
       "      <td>72.0</td>\n",
       "      <td>None</td>\n",
       "      <td>Malaysia</td>\n",
       "      <td>None</td>\n",
       "      <td>since 1983</td>\n",
       "      <td>3.555348</td>\n",
       "      <td>0</td>\n",
       "      <td>0</td>\n",
       "      <td>0</td>\n",
       "      <td>0</td>\n",
       "      <td>0</td>\n",
       "      <td>0</td>\n",
       "      <td>0</td>\n",
       "      <td>0</td>\n",
       "      <td>1</td>\n",
       "      <td>0</td>\n",
       "      <td>0</td>\n",
       "      <td>0</td>\n",
       "      <td>1</td>\n",
       "    </tr>\n",
       "    <tr>\n",
       "      <th>44704</th>\n",
       "      <td>4</td>\n",
       "      <td>Raphael Dinyando</td>\n",
       "      <td>, 53, Namibian politician and diplomat, Ambassador to Austria , cancer.</td>\n",
       "      <td>https://en.wikipedia.org/wiki/Raphael_Dinyando</td>\n",
       "      <td>3</td>\n",
       "      <td>2013</td>\n",
       "      <td>September</td>\n",
       "      <td>since , MP for Rundu , Mayor of Rundu</td>\n",
       "      <td>None</td>\n",
       "      <td></td>\n",
       "      <td>Ambassador to</td>\n",
       "      <td>cancer</td>\n",
       "      <td>None</td>\n",
       "      <td>None</td>\n",
       "      <td>None</td>\n",
       "      <td>None</td>\n",
       "      <td>None</td>\n",
       "      <td>None</td>\n",
       "      <td>None</td>\n",
       "      <td>53.0</td>\n",
       "      <td>None</td>\n",
       "      <td>Namibia</td>\n",
       "      <td>None</td>\n",
       "      <td>since 2010, MP for Rundu 2000 2010, Mayor of Rundu 1993 1998</td>\n",
       "      <td>1.386294</td>\n",
       "      <td>0</td>\n",
       "      <td>0</td>\n",
       "      <td>0</td>\n",
       "      <td>0</td>\n",
       "      <td>0</td>\n",
       "      <td>0</td>\n",
       "      <td>0</td>\n",
       "      <td>0</td>\n",
       "      <td>1</td>\n",
       "      <td>0</td>\n",
       "      <td>0</td>\n",
       "      <td>0</td>\n",
       "      <td>1</td>\n",
       "    </tr>\n",
       "  </tbody>\n",
       "</table>\n",
       "</div>"
      ],
      "text/plain": [
       "      day                name  \\\n",
       "93706  31  James Jemut Masing   \n",
       "44704   4    Raphael Dinyando   \n",
       "\n",
       "                                                                          info  \\\n",
       "93706   , 72, Malaysian politician, Sarawak MLA , complications from COVID-19.   \n",
       "44704  , 53, Namibian politician and diplomat, Ambassador to Austria , cancer.   \n",
       "\n",
       "                                                   link  num_references  year  \\\n",
       "93706  https://en.wikipedia.org/wiki/James_Jemut_Masing              34  2021   \n",
       "44704    https://en.wikipedia.org/wiki/Raphael_Dinyando               3  2013   \n",
       "\n",
       "           month                           info_parenth info_1 info_2  \\\n",
       "93706    October                                  since   None          \n",
       "44704  September  since , MP for Rundu , Mayor of Rundu   None          \n",
       "\n",
       "              info_3                    info_4 info_5 info_6 info_7 info_8  \\\n",
       "93706    Sarawak MLA  complications from COVID   None   None   None   None   \n",
       "44704  Ambassador to                    cancer   None   None   None   None   \n",
       "\n",
       "      info_9 info_10 info_11   age cause_of_death   place_1 place_2  \\\n",
       "93706   None    None    None  72.0           None  Malaysia    None   \n",
       "44704   None    None    None  53.0           None   Namibia    None   \n",
       "\n",
       "                                                  info_parenth_copy  \\\n",
       "93706                                                    since 1983   \n",
       "44704  since 2010, MP for Rundu 2000 2010, Mayor of Rundu 1993 1998   \n",
       "\n",
       "       log_num_references  sciences  social  spiritual  academia_humanities  \\\n",
       "93706            3.555348         0       0          0                    0   \n",
       "44704            1.386294         0       0          0                    0   \n",
       "\n",
       "       business_farming  arts  sports  law_enf_military_operator  \\\n",
       "93706                 0     0       0                          0   \n",
       "44704                 0     0       0                          0   \n",
       "\n",
       "       politics_govt_law  crime  event_record_other  other_species  \\\n",
       "93706                  1      0                   0              0   \n",
       "44704                  1      0                   0              0   \n",
       "\n",
       "       num_categories  \n",
       "93706               1  \n",
       "44704               1  "
      ]
     },
     "execution_count": 64,
     "metadata": {},
     "output_type": "execute_result"
    },
    {
     "data": {
      "application/javascript": [
       "\n",
       "            setTimeout(function() {\n",
       "                var nbb_cell_id = 64;\n",
       "                var nbb_unformatted_code = \"%%time\\n\\n# Dictionary version\\nsearch_dict = known_for_dict\\n\\n# Column to check\\ncolumn = 'info_2'\\n\\n# Dataframe\\ndataframe = df[column].notna()\\n\\n# For loop to find role in column and extract it as category\\nfor category, category_lst in search_dict.items():\\n    for role in category_lst:\\n        for index in dataframe.index:\\n            item = df.loc[index, column]\\n            if item:\\n                if role in item:\\n                    df.loc[index, category] = 1\\n                    df.loc[index, column] = item.replace(role, '').strip()\\n\\n# Updating num_categories\\ndf[\\\"num_categories\\\"] = df[known_for_dict.keys()].sum(axis=1)\\n\\n# Checking a sample of rows\\ndf[df['politics_govt_law'] ==1].sample(2)\";\n",
       "                var nbb_formatted_code = \"%%time\\n\\n# Dictionary version\\nsearch_dict = known_for_dict\\n\\n# Column to check\\ncolumn = 'info_2'\\n\\n# Dataframe\\ndataframe = df[column].notna()\\n\\n# For loop to find role in column and extract it as category\\nfor category, category_lst in search_dict.items():\\n    for role in category_lst:\\n        for index in dataframe.index:\\n            item = df.loc[index, column]\\n            if item:\\n                if role in item:\\n                    df.loc[index, category] = 1\\n                    df.loc[index, column] = item.replace(role, '').strip()\\n\\n# Updating num_categories\\ndf[\\\"num_categories\\\"] = df[known_for_dict.keys()].sum(axis=1)\\n\\n# Checking a sample of rows\\ndf[df['politics_govt_law'] ==1].sample(2)\";\n",
       "                var nbb_cells = Jupyter.notebook.get_cells();\n",
       "                for (var i = 0; i < nbb_cells.length; ++i) {\n",
       "                    if (nbb_cells[i].input_prompt_number == nbb_cell_id) {\n",
       "                        if (nbb_cells[i].get_text() == nbb_unformatted_code) {\n",
       "                             nbb_cells[i].set_text(nbb_formatted_code);\n",
       "                        }\n",
       "                        break;\n",
       "                    }\n",
       "                }\n",
       "            }, 500);\n",
       "            "
      ],
      "text/plain": [
       "<IPython.core.display.Javascript object>"
      ]
     },
     "metadata": {},
     "output_type": "display_data"
    }
   ],
   "source": [
    "%%time\n",
    "\n",
    "# Dictionary version\n",
    "search_dict = known_for_dict\n",
    "\n",
    "# Column to check\n",
    "column = 'info_2'\n",
    "\n",
    "# Dataframe\n",
    "dataframe = df[column].notna()\n",
    "\n",
    "# For loop to find role in column and extract it as category\n",
    "for category, category_lst in search_dict.items():\n",
    "    for role in category_lst:\n",
    "        for index in dataframe.index:\n",
    "            item = df.loc[index, column]\n",
    "            if item:\n",
    "                if role in item:\n",
    "                    df.loc[index, category] = 1\n",
    "                    df.loc[index, column] = item.replace(role, '').strip()\n",
    "\n",
    "# Updating num_categories\n",
    "df[\"num_categories\"] = df[known_for_dict.keys()].sum(axis=1)\n",
    "\n",
    "# Checking a sample of rows\n",
    "df[df['politics_govt_law'] ==1].sample(2)"
   ]
  },
  {
   "cell_type": "markdown",
   "id": "eafff1d8",
   "metadata": {},
   "source": [
    "#### Checking the Number of Rows without a First Category"
   ]
  },
  {
   "cell_type": "code",
   "execution_count": 65,
   "id": "8d9e733c",
   "metadata": {},
   "outputs": [
    {
     "name": "stdout",
     "output_type": "stream",
     "text": [
      "There are 41858 entries without any known_for category.\n"
     ]
    },
    {
     "data": {
      "application/javascript": [
       "\n",
       "            setTimeout(function() {\n",
       "                var nbb_cell_id = 65;\n",
       "                var nbb_unformatted_code = \"#### Checking the number of rows without a first category\\nprint(\\n    f'There are {len(df[df[\\\"num_categories\\\"]==0])} entries without any known_for category.'\\n)\";\n",
       "                var nbb_formatted_code = \"#### Checking the number of rows without a first category\\nprint(\\n    f'There are {len(df[df[\\\"num_categories\\\"]==0])} entries without any known_for category.'\\n)\";\n",
       "                var nbb_cells = Jupyter.notebook.get_cells();\n",
       "                for (var i = 0; i < nbb_cells.length; ++i) {\n",
       "                    if (nbb_cells[i].input_prompt_number == nbb_cell_id) {\n",
       "                        if (nbb_cells[i].get_text() == nbb_unformatted_code) {\n",
       "                             nbb_cells[i].set_text(nbb_formatted_code);\n",
       "                        }\n",
       "                        break;\n",
       "                    }\n",
       "                }\n",
       "            }, 500);\n",
       "            "
      ],
      "text/plain": [
       "<IPython.core.display.Javascript object>"
      ]
     },
     "metadata": {},
     "output_type": "display_data"
    }
   ],
   "source": [
    "#### Checking the number of rows without a first category\n",
    "print(\n",
    "    f'There are {len(df[df[\"num_categories\"]==0])} entries without any known_for category.'\n",
    ")"
   ]
  },
  {
   "cell_type": "markdown",
   "id": "022d695e",
   "metadata": {},
   "source": [
    "#### Observations:\n",
    "- We will proceed to rebuild `known_for_dict` for the next iteration."
   ]
  },
  {
   "cell_type": "markdown",
   "id": "1de8d38a",
   "metadata": {},
   "source": [
    "#### Finding `known_for` Roles in `info_2`"
   ]
  },
  {
   "cell_type": "code",
   "execution_count": 66,
   "id": "9cb5dd54",
   "metadata": {},
   "outputs": [
    {
     "data": {
      "application/javascript": [
       "\n",
       "            setTimeout(function() {\n",
       "                var nbb_cell_id = 66;\n",
       "                var nbb_unformatted_code = \"# Obtaining values for column and their counts\\nroles_list = df[\\\"info_2\\\"].value_counts(ascending=True).index.tolist()\";\n",
       "                var nbb_formatted_code = \"# Obtaining values for column and their counts\\nroles_list = df[\\\"info_2\\\"].value_counts(ascending=True).index.tolist()\";\n",
       "                var nbb_cells = Jupyter.notebook.get_cells();\n",
       "                for (var i = 0; i < nbb_cells.length; ++i) {\n",
       "                    if (nbb_cells[i].input_prompt_number == nbb_cell_id) {\n",
       "                        if (nbb_cells[i].get_text() == nbb_unformatted_code) {\n",
       "                             nbb_cells[i].set_text(nbb_formatted_code);\n",
       "                        }\n",
       "                        break;\n",
       "                    }\n",
       "                }\n",
       "            }, 500);\n",
       "            "
      ],
      "text/plain": [
       "<IPython.core.display.Javascript object>"
      ]
     },
     "metadata": {},
     "output_type": "display_data"
    }
   ],
   "source": [
    "# Obtaining values for column and their counts\n",
    "roles_list = df[\"info_2\"].value_counts(ascending=True).index.tolist()"
   ]
  },
  {
   "cell_type": "code",
   "execution_count": 67,
   "id": "dd63cbf7",
   "metadata": {},
   "outputs": [
    {
     "data": {
      "application/javascript": [
       "\n",
       "            setTimeout(function() {\n",
       "                var nbb_cell_id = 67;\n",
       "                var nbb_unformatted_code = \"# # Code to check each value\\n# roles_list.pop()\";\n",
       "                var nbb_formatted_code = \"# # Code to check each value\\n# roles_list.pop()\";\n",
       "                var nbb_cells = Jupyter.notebook.get_cells();\n",
       "                for (var i = 0; i < nbb_cells.length; ++i) {\n",
       "                    if (nbb_cells[i].input_prompt_number == nbb_cell_id) {\n",
       "                        if (nbb_cells[i].get_text() == nbb_unformatted_code) {\n",
       "                             nbb_cells[i].set_text(nbb_formatted_code);\n",
       "                        }\n",
       "                        break;\n",
       "                    }\n",
       "                }\n",
       "            }, 500);\n",
       "            "
      ],
      "text/plain": [
       "<IPython.core.display.Javascript object>"
      ]
     },
     "metadata": {},
     "output_type": "display_data"
    }
   ],
   "source": [
    "# # Code to check each value\n",
    "# roles_list.pop()"
   ]
  },
  {
   "cell_type": "code",
   "execution_count": 68,
   "id": "e5bb9835",
   "metadata": {},
   "outputs": [
    {
     "data": {
      "application/javascript": [
       "\n",
       "            setTimeout(function() {\n",
       "                var nbb_cell_id = 68;\n",
       "                var nbb_unformatted_code = \"# # Create specific_roles_list for above popped value\\n# specific_roles_list = (\\n#     df.loc[\\n#         [index for index in df.index if \\\"military officer\\\" in df.loc[index, \\\"info\\\"]],\\n#         \\\"info_2\\\",\\n#     ]\\n#     .value_counts()\\n#     .index.tolist()\\n# )\";\n",
       "                var nbb_formatted_code = \"# # Create specific_roles_list for above popped value\\n# specific_roles_list = (\\n#     df.loc[\\n#         [index for index in df.index if \\\"military officer\\\" in df.loc[index, \\\"info\\\"]],\\n#         \\\"info_2\\\",\\n#     ]\\n#     .value_counts()\\n#     .index.tolist()\\n# )\";\n",
       "                var nbb_cells = Jupyter.notebook.get_cells();\n",
       "                for (var i = 0; i < nbb_cells.length; ++i) {\n",
       "                    if (nbb_cells[i].input_prompt_number == nbb_cell_id) {\n",
       "                        if (nbb_cells[i].get_text() == nbb_unformatted_code) {\n",
       "                             nbb_cells[i].set_text(nbb_formatted_code);\n",
       "                        }\n",
       "                        break;\n",
       "                    }\n",
       "                }\n",
       "            }, 500);\n",
       "            "
      ],
      "text/plain": [
       "<IPython.core.display.Javascript object>"
      ]
     },
     "metadata": {},
     "output_type": "display_data"
    }
   ],
   "source": [
    "# # Create specific_roles_list for above popped value\n",
    "# specific_roles_list = (\n",
    "#     df.loc[\n",
    "#         [index for index in df.index if \"military officer\" in df.loc[index, \"info\"]],\n",
    "#         \"info_2\",\n",
    "#     ]\n",
    "#     .value_counts()\n",
    "#     .index.tolist()\n",
    "# )"
   ]
  },
  {
   "cell_type": "code",
   "execution_count": 69,
   "id": "497e71e6",
   "metadata": {},
   "outputs": [
    {
     "data": {
      "application/javascript": [
       "\n",
       "            setTimeout(function() {\n",
       "                var nbb_cell_id = 69;\n",
       "                var nbb_unformatted_code = \"# # Code to check each specific value\\n# specific_roles_list.pop()\";\n",
       "                var nbb_formatted_code = \"# # Code to check each specific value\\n# specific_roles_list.pop()\";\n",
       "                var nbb_cells = Jupyter.notebook.get_cells();\n",
       "                for (var i = 0; i < nbb_cells.length; ++i) {\n",
       "                    if (nbb_cells[i].input_prompt_number == nbb_cell_id) {\n",
       "                        if (nbb_cells[i].get_text() == nbb_unformatted_code) {\n",
       "                             nbb_cells[i].set_text(nbb_formatted_code);\n",
       "                        }\n",
       "                        break;\n",
       "                    }\n",
       "                }\n",
       "            }, 500);\n",
       "            "
      ],
      "text/plain": [
       "<IPython.core.display.Javascript object>"
      ]
     },
     "metadata": {},
     "output_type": "display_data"
    }
   ],
   "source": [
    "# # Code to check each specific value\n",
    "# specific_roles_list.pop()"
   ]
  },
  {
   "cell_type": "code",
   "execution_count": 70,
   "id": "a0ec4da7",
   "metadata": {},
   "outputs": [
    {
     "data": {
      "application/javascript": [
       "\n",
       "            setTimeout(function() {\n",
       "                var nbb_cell_id = 70;\n",
       "                var nbb_unformatted_code = \"# # Example code to quick-screen values that may overlap categories\\n# df.loc[[index for index in df.index if \\\"coup leader\\\" in df.loc[index, \\\"info\\\"]]]\";\n",
       "                var nbb_formatted_code = \"# # Example code to quick-screen values that may overlap categories\\n# df.loc[[index for index in df.index if \\\"coup leader\\\" in df.loc[index, \\\"info\\\"]]]\";\n",
       "                var nbb_cells = Jupyter.notebook.get_cells();\n",
       "                for (var i = 0; i < nbb_cells.length; ++i) {\n",
       "                    if (nbb_cells[i].input_prompt_number == nbb_cell_id) {\n",
       "                        if (nbb_cells[i].get_text() == nbb_unformatted_code) {\n",
       "                             nbb_cells[i].set_text(nbb_formatted_code);\n",
       "                        }\n",
       "                        break;\n",
       "                    }\n",
       "                }\n",
       "            }, 500);\n",
       "            "
      ],
      "text/plain": [
       "<IPython.core.display.Javascript object>"
      ]
     },
     "metadata": {},
     "output_type": "display_data"
    }
   ],
   "source": [
    "# # Example code to quick-screen values that may overlap categories\n",
    "# df.loc[[index for index in df.index if \"coup leader\" in df.loc[index, \"info\"]]]"
   ]
  },
  {
   "cell_type": "code",
   "execution_count": 71,
   "id": "f16af960",
   "metadata": {},
   "outputs": [
    {
     "data": {
      "application/javascript": [
       "\n",
       "            setTimeout(function() {\n",
       "                var nbb_cell_id = 71;\n",
       "                var nbb_unformatted_code = \"# # Example code to quick-check a specific entry\\n# df[df[\\\"info_2\\\"] == \\\"Karen military officer\\\"]\";\n",
       "                var nbb_formatted_code = \"# # Example code to quick-check a specific entry\\n# df[df[\\\"info_2\\\"] == \\\"Karen military officer\\\"]\";\n",
       "                var nbb_cells = Jupyter.notebook.get_cells();\n",
       "                for (var i = 0; i < nbb_cells.length; ++i) {\n",
       "                    if (nbb_cells[i].input_prompt_number == nbb_cell_id) {\n",
       "                        if (nbb_cells[i].get_text() == nbb_unformatted_code) {\n",
       "                             nbb_cells[i].set_text(nbb_formatted_code);\n",
       "                        }\n",
       "                        break;\n",
       "                    }\n",
       "                }\n",
       "            }, 500);\n",
       "            "
      ],
      "text/plain": [
       "<IPython.core.display.Javascript object>"
      ]
     },
     "metadata": {},
     "output_type": "display_data"
    }
   ],
   "source": [
    "# # Example code to quick-check a specific entry\n",
    "# df[df[\"info_2\"] == \"Karen military officer\"]"
   ]
  },
  {
   "cell_type": "markdown",
   "id": "fb410b51",
   "metadata": {},
   "source": [
    "#### Creating Lists for Each `known_for` Category"
   ]
  },
  {
   "cell_type": "code",
   "execution_count": 72,
   "id": "27fb0aa7",
   "metadata": {},
   "outputs": [
    {
     "data": {
      "application/javascript": [
       "\n",
       "            setTimeout(function() {\n",
       "                var nbb_cell_id = 72;\n",
       "                var nbb_unformatted_code = \"# Creating lists for each category\\npolitics_govt_law = []\\n\\narts = []\\nsports = []\\nsciences = []\\n\\nbusiness_farming = []\\nacademia_humanities = []\\nlaw_enf_military_operator = [\\n    \\\"WWII military officer\\\",\\n    \\\"military officer and intelligence official\\\",\\n    \\\"Karen military officer\\\",\\n    \\\"Air Force military officer\\\",\\n    \\\"military officer and war veteran\\\",\\n    \\\"Resistance member and military officer\\\",\\n    \\\"military officer and resistance fighter\\\",\\n    \\\"military officer and National Hero of\\\",\\n    \\\"military officer of World War I and World War II\\\",\\n    \\\"and later military officer\\\",\\n    \\\"military officer and veteran affairs\\\",\\n    \\\"CIA paramilitary officer\\\",\\n    \\\"military officer and Hero of the Union\\\",\\n    \\\"military officer and coup leader\\\",\\n    \\\"military officer and pilot\\\",\\n    \\\"and military officer\\\",\\n    \\\"military officer and\\\",\\n    \\\"military officer\\\",\\n]\\nspiritual = []\\nsocial = []\\ncrime = [\\n    \\\"human trafficker\\\",\\n]\\nevent_record_other = []\\nother_species = []\";\n",
       "                var nbb_formatted_code = \"# Creating lists for each category\\npolitics_govt_law = []\\n\\narts = []\\nsports = []\\nsciences = []\\n\\nbusiness_farming = []\\nacademia_humanities = []\\nlaw_enf_military_operator = [\\n    \\\"WWII military officer\\\",\\n    \\\"military officer and intelligence official\\\",\\n    \\\"Karen military officer\\\",\\n    \\\"Air Force military officer\\\",\\n    \\\"military officer and war veteran\\\",\\n    \\\"Resistance member and military officer\\\",\\n    \\\"military officer and resistance fighter\\\",\\n    \\\"military officer and National Hero of\\\",\\n    \\\"military officer of World War I and World War II\\\",\\n    \\\"and later military officer\\\",\\n    \\\"military officer and veteran affairs\\\",\\n    \\\"CIA paramilitary officer\\\",\\n    \\\"military officer and Hero of the Union\\\",\\n    \\\"military officer and coup leader\\\",\\n    \\\"military officer and pilot\\\",\\n    \\\"and military officer\\\",\\n    \\\"military officer and\\\",\\n    \\\"military officer\\\",\\n]\\nspiritual = []\\nsocial = []\\ncrime = [\\n    \\\"human trafficker\\\",\\n]\\nevent_record_other = []\\nother_species = []\";\n",
       "                var nbb_cells = Jupyter.notebook.get_cells();\n",
       "                for (var i = 0; i < nbb_cells.length; ++i) {\n",
       "                    if (nbb_cells[i].input_prompt_number == nbb_cell_id) {\n",
       "                        if (nbb_cells[i].get_text() == nbb_unformatted_code) {\n",
       "                             nbb_cells[i].set_text(nbb_formatted_code);\n",
       "                        }\n",
       "                        break;\n",
       "                    }\n",
       "                }\n",
       "            }, 500);\n",
       "            "
      ],
      "text/plain": [
       "<IPython.core.display.Javascript object>"
      ]
     },
     "metadata": {},
     "output_type": "display_data"
    }
   ],
   "source": [
    "# Creating lists for each category\n",
    "politics_govt_law = []\n",
    "\n",
    "arts = []\n",
    "sports = []\n",
    "sciences = []\n",
    "\n",
    "business_farming = []\n",
    "academia_humanities = []\n",
    "law_enf_military_operator = [\n",
    "    \"WWII military officer\",\n",
    "    \"military officer and intelligence official\",\n",
    "    \"Karen military officer\",\n",
    "    \"Air Force military officer\",\n",
    "    \"military officer and war veteran\",\n",
    "    \"Resistance member and military officer\",\n",
    "    \"military officer and resistance fighter\",\n",
    "    \"military officer and National Hero of\",\n",
    "    \"military officer of World War I and World War II\",\n",
    "    \"and later military officer\",\n",
    "    \"military officer and veteran affairs\",\n",
    "    \"CIA paramilitary officer\",\n",
    "    \"military officer and Hero of the Union\",\n",
    "    \"military officer and coup leader\",\n",
    "    \"military officer and pilot\",\n",
    "    \"and military officer\",\n",
    "    \"military officer and\",\n",
    "    \"military officer\",\n",
    "]\n",
    "spiritual = []\n",
    "social = []\n",
    "crime = [\n",
    "    \"human trafficker\",\n",
    "]\n",
    "event_record_other = []\n",
    "other_species = []"
   ]
  },
  {
   "cell_type": "markdown",
   "id": "47b0b360",
   "metadata": {},
   "source": [
    "#### Creating `known_for_dict` Dictionary of Category Keys and Specific Role Lists of Values"
   ]
  },
  {
   "cell_type": "code",
   "execution_count": 73,
   "id": "bc93da61",
   "metadata": {},
   "outputs": [
    {
     "data": {
      "application/javascript": [
       "\n",
       "            setTimeout(function() {\n",
       "                var nbb_cell_id = 73;\n",
       "                var nbb_unformatted_code = \"# Combining separate lists into one dictionary\\nknown_for_dict = {\\n    \\\"social\\\": social,\\n    \\\"spiritual\\\": spiritual,\\n    \\\"academia_humanities\\\": academia_humanities,\\n    \\\"business_farming\\\": business_farming,\\n    \\\"sciences\\\": sciences,\\n    \\\"politics_govt_law\\\": politics_govt_law,\\n    \\\"law_enf_military_operator\\\": law_enf_military_operator,\\n    \\\"crime\\\": crime,\\n    \\\"event_record_other\\\": event_record_other,\\n    \\\"other_species\\\": other_species,\\n    \\\"arts\\\": arts,\\n    \\\"sports\\\": sports,\\n}\";\n",
       "                var nbb_formatted_code = \"# Combining separate lists into one dictionary\\nknown_for_dict = {\\n    \\\"social\\\": social,\\n    \\\"spiritual\\\": spiritual,\\n    \\\"academia_humanities\\\": academia_humanities,\\n    \\\"business_farming\\\": business_farming,\\n    \\\"sciences\\\": sciences,\\n    \\\"politics_govt_law\\\": politics_govt_law,\\n    \\\"law_enf_military_operator\\\": law_enf_military_operator,\\n    \\\"crime\\\": crime,\\n    \\\"event_record_other\\\": event_record_other,\\n    \\\"other_species\\\": other_species,\\n    \\\"arts\\\": arts,\\n    \\\"sports\\\": sports,\\n}\";\n",
       "                var nbb_cells = Jupyter.notebook.get_cells();\n",
       "                for (var i = 0; i < nbb_cells.length; ++i) {\n",
       "                    if (nbb_cells[i].input_prompt_number == nbb_cell_id) {\n",
       "                        if (nbb_cells[i].get_text() == nbb_unformatted_code) {\n",
       "                             nbb_cells[i].set_text(nbb_formatted_code);\n",
       "                        }\n",
       "                        break;\n",
       "                    }\n",
       "                }\n",
       "            }, 500);\n",
       "            "
      ],
      "text/plain": [
       "<IPython.core.display.Javascript object>"
      ]
     },
     "metadata": {},
     "output_type": "display_data"
    }
   ],
   "source": [
    "# Combining separate lists into one dictionary\n",
    "known_for_dict = {\n",
    "    \"social\": social,\n",
    "    \"spiritual\": spiritual,\n",
    "    \"academia_humanities\": academia_humanities,\n",
    "    \"business_farming\": business_farming,\n",
    "    \"sciences\": sciences,\n",
    "    \"politics_govt_law\": politics_govt_law,\n",
    "    \"law_enf_military_operator\": law_enf_military_operator,\n",
    "    \"crime\": crime,\n",
    "    \"event_record_other\": event_record_other,\n",
    "    \"other_species\": other_species,\n",
    "    \"arts\": arts,\n",
    "    \"sports\": sports,\n",
    "}"
   ]
  },
  {
   "cell_type": "markdown",
   "id": "f2e27041",
   "metadata": {},
   "source": [
    "#### Extracting Category from `info_2`"
   ]
  },
  {
   "cell_type": "code",
   "execution_count": 74,
   "id": "537a5ad7",
   "metadata": {},
   "outputs": [
    {
     "name": "stdout",
     "output_type": "stream",
     "text": [
      "CPU times: total: 11.7 s\n",
      "Wall time: 11.7 s\n"
     ]
    },
    {
     "data": {
      "text/html": [
       "<div>\n",
       "<style scoped>\n",
       "    .dataframe tbody tr th:only-of-type {\n",
       "        vertical-align: middle;\n",
       "    }\n",
       "\n",
       "    .dataframe tbody tr th {\n",
       "        vertical-align: top;\n",
       "    }\n",
       "\n",
       "    .dataframe thead th {\n",
       "        text-align: right;\n",
       "    }\n",
       "</style>\n",
       "<table border=\"1\" class=\"dataframe\">\n",
       "  <thead>\n",
       "    <tr style=\"text-align: right;\">\n",
       "      <th></th>\n",
       "      <th>day</th>\n",
       "      <th>name</th>\n",
       "      <th>info</th>\n",
       "      <th>link</th>\n",
       "      <th>num_references</th>\n",
       "      <th>year</th>\n",
       "      <th>month</th>\n",
       "      <th>info_parenth</th>\n",
       "      <th>info_1</th>\n",
       "      <th>info_2</th>\n",
       "      <th>info_3</th>\n",
       "      <th>info_4</th>\n",
       "      <th>info_5</th>\n",
       "      <th>info_6</th>\n",
       "      <th>info_7</th>\n",
       "      <th>info_8</th>\n",
       "      <th>info_9</th>\n",
       "      <th>info_10</th>\n",
       "      <th>info_11</th>\n",
       "      <th>age</th>\n",
       "      <th>cause_of_death</th>\n",
       "      <th>place_1</th>\n",
       "      <th>place_2</th>\n",
       "      <th>info_parenth_copy</th>\n",
       "      <th>log_num_references</th>\n",
       "      <th>sciences</th>\n",
       "      <th>social</th>\n",
       "      <th>spiritual</th>\n",
       "      <th>academia_humanities</th>\n",
       "      <th>business_farming</th>\n",
       "      <th>arts</th>\n",
       "      <th>sports</th>\n",
       "      <th>law_enf_military_operator</th>\n",
       "      <th>politics_govt_law</th>\n",
       "      <th>crime</th>\n",
       "      <th>event_record_other</th>\n",
       "      <th>other_species</th>\n",
       "      <th>num_categories</th>\n",
       "    </tr>\n",
       "  </thead>\n",
       "  <tbody>\n",
       "    <tr>\n",
       "      <th>68569</th>\n",
       "      <td>14</td>\n",
       "      <td>Michael D. Healy</td>\n",
       "      <td>, 91, American military officer.</td>\n",
       "      <td>https://en.wikipedia.org/wiki/Michael_D._Healy</td>\n",
       "      <td>11</td>\n",
       "      <td>2018</td>\n",
       "      <td>April</td>\n",
       "      <td>None</td>\n",
       "      <td>None</td>\n",
       "      <td></td>\n",
       "      <td>None</td>\n",
       "      <td>None</td>\n",
       "      <td>None</td>\n",
       "      <td>None</td>\n",
       "      <td>None</td>\n",
       "      <td>None</td>\n",
       "      <td>None</td>\n",
       "      <td>None</td>\n",
       "      <td>None</td>\n",
       "      <td>91.0</td>\n",
       "      <td>None</td>\n",
       "      <td>United States of America</td>\n",
       "      <td>None</td>\n",
       "      <td>None</td>\n",
       "      <td>2.484907</td>\n",
       "      <td>0</td>\n",
       "      <td>0</td>\n",
       "      <td>0</td>\n",
       "      <td>0</td>\n",
       "      <td>0</td>\n",
       "      <td>0</td>\n",
       "      <td>0</td>\n",
       "      <td>1</td>\n",
       "      <td>0</td>\n",
       "      <td>0</td>\n",
       "      <td>0</td>\n",
       "      <td>0</td>\n",
       "      <td>1</td>\n",
       "    </tr>\n",
       "    <tr>\n",
       "      <th>64949</th>\n",
       "      <td>19</td>\n",
       "      <td>Pyotr Deynekin</td>\n",
       "      <td>, 79, Russian military officer, commander of the Russian Air Force .</td>\n",
       "      <td>https://en.wikipedia.org/wiki/Pyotr_Deynekin</td>\n",
       "      <td>7</td>\n",
       "      <td>2017</td>\n",
       "      <td>August</td>\n",
       "      <td>, Hero of the Federation</td>\n",
       "      <td>None</td>\n",
       "      <td></td>\n",
       "      <td>commander of the Air Force</td>\n",
       "      <td>None</td>\n",
       "      <td>None</td>\n",
       "      <td>None</td>\n",
       "      <td>None</td>\n",
       "      <td>None</td>\n",
       "      <td>None</td>\n",
       "      <td>None</td>\n",
       "      <td>None</td>\n",
       "      <td>79.0</td>\n",
       "      <td>None</td>\n",
       "      <td>Russia</td>\n",
       "      <td>None</td>\n",
       "      <td>1992 1998, Hero of the Russian Federation 1997</td>\n",
       "      <td>2.079442</td>\n",
       "      <td>0</td>\n",
       "      <td>0</td>\n",
       "      <td>0</td>\n",
       "      <td>0</td>\n",
       "      <td>0</td>\n",
       "      <td>0</td>\n",
       "      <td>0</td>\n",
       "      <td>1</td>\n",
       "      <td>0</td>\n",
       "      <td>0</td>\n",
       "      <td>0</td>\n",
       "      <td>0</td>\n",
       "      <td>1</td>\n",
       "    </tr>\n",
       "  </tbody>\n",
       "</table>\n",
       "</div>"
      ],
      "text/plain": [
       "      day              name  \\\n",
       "68569  14  Michael D. Healy   \n",
       "64949  19    Pyotr Deynekin   \n",
       "\n",
       "                                                                       info  \\\n",
       "68569                                      , 91, American military officer.   \n",
       "64949  , 79, Russian military officer, commander of the Russian Air Force .   \n",
       "\n",
       "                                                 link  num_references  year  \\\n",
       "68569  https://en.wikipedia.org/wiki/Michael_D._Healy              11  2018   \n",
       "64949    https://en.wikipedia.org/wiki/Pyotr_Deynekin               7  2017   \n",
       "\n",
       "        month              info_parenth info_1 info_2  \\\n",
       "68569   April                      None   None          \n",
       "64949  August  , Hero of the Federation   None          \n",
       "\n",
       "                           info_3 info_4 info_5 info_6 info_7 info_8 info_9  \\\n",
       "68569                        None   None   None   None   None   None   None   \n",
       "64949  commander of the Air Force   None   None   None   None   None   None   \n",
       "\n",
       "      info_10 info_11   age cause_of_death                   place_1 place_2  \\\n",
       "68569    None    None  91.0           None  United States of America    None   \n",
       "64949    None    None  79.0           None                    Russia    None   \n",
       "\n",
       "                                    info_parenth_copy  log_num_references  \\\n",
       "68569                                            None            2.484907   \n",
       "64949  1992 1998, Hero of the Russian Federation 1997            2.079442   \n",
       "\n",
       "       sciences  social  spiritual  academia_humanities  business_farming  \\\n",
       "68569         0       0          0                    0                 0   \n",
       "64949         0       0          0                    0                 0   \n",
       "\n",
       "       arts  sports  law_enf_military_operator  politics_govt_law  crime  \\\n",
       "68569     0       0                          1                  0      0   \n",
       "64949     0       0                          1                  0      0   \n",
       "\n",
       "       event_record_other  other_species  num_categories  \n",
       "68569                   0              0               1  \n",
       "64949                   0              0               1  "
      ]
     },
     "execution_count": 74,
     "metadata": {},
     "output_type": "execute_result"
    },
    {
     "data": {
      "application/javascript": [
       "\n",
       "            setTimeout(function() {\n",
       "                var nbb_cell_id = 74;\n",
       "                var nbb_unformatted_code = \"%%time\\n\\n# Dictionary version\\nsearch_dict = known_for_dict\\n\\n# Column to check\\ncolumn = 'info_2'\\n\\n# Dataframe\\ndataframe = df[column].notna()\\n\\n# For loop to find role in column and extract it as category\\nfor category, category_lst in search_dict.items():\\n    for role in category_lst:\\n        for index in dataframe.index:\\n            item = df.loc[index, column]\\n            if item:\\n                if role in item:\\n                    df.loc[index, category] = 1\\n                    df.loc[index, column] = item.replace(role, '').strip()\\n\\n# Updating num_categories\\ndf[\\\"num_categories\\\"] = df[known_for_dict.keys()].sum(axis=1)\\n\\n# Checking a sample of rows\\ndf[df['law_enf_military_operator'] ==1].sample(2)\";\n",
       "                var nbb_formatted_code = \"%%time\\n\\n# Dictionary version\\nsearch_dict = known_for_dict\\n\\n# Column to check\\ncolumn = 'info_2'\\n\\n# Dataframe\\ndataframe = df[column].notna()\\n\\n# For loop to find role in column and extract it as category\\nfor category, category_lst in search_dict.items():\\n    for role in category_lst:\\n        for index in dataframe.index:\\n            item = df.loc[index, column]\\n            if item:\\n                if role in item:\\n                    df.loc[index, category] = 1\\n                    df.loc[index, column] = item.replace(role, '').strip()\\n\\n# Updating num_categories\\ndf[\\\"num_categories\\\"] = df[known_for_dict.keys()].sum(axis=1)\\n\\n# Checking a sample of rows\\ndf[df['law_enf_military_operator'] ==1].sample(2)\";\n",
       "                var nbb_cells = Jupyter.notebook.get_cells();\n",
       "                for (var i = 0; i < nbb_cells.length; ++i) {\n",
       "                    if (nbb_cells[i].input_prompt_number == nbb_cell_id) {\n",
       "                        if (nbb_cells[i].get_text() == nbb_unformatted_code) {\n",
       "                             nbb_cells[i].set_text(nbb_formatted_code);\n",
       "                        }\n",
       "                        break;\n",
       "                    }\n",
       "                }\n",
       "            }, 500);\n",
       "            "
      ],
      "text/plain": [
       "<IPython.core.display.Javascript object>"
      ]
     },
     "metadata": {},
     "output_type": "display_data"
    }
   ],
   "source": [
    "%%time\n",
    "\n",
    "# Dictionary version\n",
    "search_dict = known_for_dict\n",
    "\n",
    "# Column to check\n",
    "column = 'info_2'\n",
    "\n",
    "# Dataframe\n",
    "dataframe = df[column].notna()\n",
    "\n",
    "# For loop to find role in column and extract it as category\n",
    "for category, category_lst in search_dict.items():\n",
    "    for role in category_lst:\n",
    "        for index in dataframe.index:\n",
    "            item = df.loc[index, column]\n",
    "            if item:\n",
    "                if role in item:\n",
    "                    df.loc[index, category] = 1\n",
    "                    df.loc[index, column] = item.replace(role, '').strip()\n",
    "\n",
    "# Updating num_categories\n",
    "df[\"num_categories\"] = df[known_for_dict.keys()].sum(axis=1)\n",
    "\n",
    "# Checking a sample of rows\n",
    "df[df['law_enf_military_operator'] ==1].sample(2)"
   ]
  },
  {
   "cell_type": "markdown",
   "id": "05c49a38",
   "metadata": {},
   "source": [
    "#### Checking the Number of Rows without a First Category"
   ]
  },
  {
   "cell_type": "code",
   "execution_count": 75,
   "id": "d16a6e31",
   "metadata": {},
   "outputs": [
    {
     "name": "stdout",
     "output_type": "stream",
     "text": [
      "There are 41548 entries without any known_for category.\n"
     ]
    },
    {
     "data": {
      "application/javascript": [
       "\n",
       "            setTimeout(function() {\n",
       "                var nbb_cell_id = 75;\n",
       "                var nbb_unformatted_code = \"#### Checking the number of rows without a first category\\nprint(\\n    f'There are {len(df[df[\\\"num_categories\\\"]==0])} entries without any known_for category.'\\n)\";\n",
       "                var nbb_formatted_code = \"#### Checking the number of rows without a first category\\nprint(\\n    f'There are {len(df[df[\\\"num_categories\\\"]==0])} entries without any known_for category.'\\n)\";\n",
       "                var nbb_cells = Jupyter.notebook.get_cells();\n",
       "                for (var i = 0; i < nbb_cells.length; ++i) {\n",
       "                    if (nbb_cells[i].input_prompt_number == nbb_cell_id) {\n",
       "                        if (nbb_cells[i].get_text() == nbb_unformatted_code) {\n",
       "                             nbb_cells[i].set_text(nbb_formatted_code);\n",
       "                        }\n",
       "                        break;\n",
       "                    }\n",
       "                }\n",
       "            }, 500);\n",
       "            "
      ],
      "text/plain": [
       "<IPython.core.display.Javascript object>"
      ]
     },
     "metadata": {},
     "output_type": "display_data"
    }
   ],
   "source": [
    "#### Checking the number of rows without a first category\n",
    "print(\n",
    "    f'There are {len(df[df[\"num_categories\"]==0])} entries without any known_for category.'\n",
    ")"
   ]
  },
  {
   "cell_type": "markdown",
   "id": "7e74e1fb",
   "metadata": {},
   "source": [
    "#### Observations:\n",
    "- We will proceed to rebuild `known_for_dict` for the next iteration."
   ]
  },
  {
   "cell_type": "markdown",
   "id": "91c5ce98",
   "metadata": {},
   "source": [
    "#### Finding `known_for` Roles in `info_2`"
   ]
  },
  {
   "cell_type": "code",
   "execution_count": 76,
   "id": "92f2ad33",
   "metadata": {},
   "outputs": [
    {
     "data": {
      "application/javascript": [
       "\n",
       "            setTimeout(function() {\n",
       "                var nbb_cell_id = 76;\n",
       "                var nbb_unformatted_code = \"# Obtaining values for column and their counts\\nroles_list = df[\\\"info_2\\\"].value_counts(ascending=True).index.tolist()\";\n",
       "                var nbb_formatted_code = \"# Obtaining values for column and their counts\\nroles_list = df[\\\"info_2\\\"].value_counts(ascending=True).index.tolist()\";\n",
       "                var nbb_cells = Jupyter.notebook.get_cells();\n",
       "                for (var i = 0; i < nbb_cells.length; ++i) {\n",
       "                    if (nbb_cells[i].input_prompt_number == nbb_cell_id) {\n",
       "                        if (nbb_cells[i].get_text() == nbb_unformatted_code) {\n",
       "                             nbb_cells[i].set_text(nbb_formatted_code);\n",
       "                        }\n",
       "                        break;\n",
       "                    }\n",
       "                }\n",
       "            }, 500);\n",
       "            "
      ],
      "text/plain": [
       "<IPython.core.display.Javascript object>"
      ]
     },
     "metadata": {},
     "output_type": "display_data"
    }
   ],
   "source": [
    "# Obtaining values for column and their counts\n",
    "roles_list = df[\"info_2\"].value_counts(ascending=True).index.tolist()"
   ]
  },
  {
   "cell_type": "code",
   "execution_count": 77,
   "id": "329ec9a3",
   "metadata": {},
   "outputs": [
    {
     "data": {
      "application/javascript": [
       "\n",
       "            setTimeout(function() {\n",
       "                var nbb_cell_id = 77;\n",
       "                var nbb_unformatted_code = \"# # Code to check each value\\n# roles_list.pop()\";\n",
       "                var nbb_formatted_code = \"# # Code to check each value\\n# roles_list.pop()\";\n",
       "                var nbb_cells = Jupyter.notebook.get_cells();\n",
       "                for (var i = 0; i < nbb_cells.length; ++i) {\n",
       "                    if (nbb_cells[i].input_prompt_number == nbb_cell_id) {\n",
       "                        if (nbb_cells[i].get_text() == nbb_unformatted_code) {\n",
       "                             nbb_cells[i].set_text(nbb_formatted_code);\n",
       "                        }\n",
       "                        break;\n",
       "                    }\n",
       "                }\n",
       "            }, 500);\n",
       "            "
      ],
      "text/plain": [
       "<IPython.core.display.Javascript object>"
      ]
     },
     "metadata": {},
     "output_type": "display_data"
    }
   ],
   "source": [
    "# # Code to check each value\n",
    "# roles_list.pop()"
   ]
  },
  {
   "cell_type": "code",
   "execution_count": 78,
   "id": "76bd692c",
   "metadata": {},
   "outputs": [
    {
     "data": {
      "application/javascript": [
       "\n",
       "            setTimeout(function() {\n",
       "                var nbb_cell_id = 78;\n",
       "                var nbb_unformatted_code = \"# # Create specific_roles_list for above popped value\\n# specific_roles_list = (\\n#     df.loc[\\n#         [index for index in df.index if \\\"jurist\\\" in df.loc[index, \\\"info\\\"]], \\\"info_2\\\",\\n#     ]\\n#     .value_counts()\\n#     .index.tolist()\\n# )\";\n",
       "                var nbb_formatted_code = \"# # Create specific_roles_list for above popped value\\n# specific_roles_list = (\\n#     df.loc[\\n#         [index for index in df.index if \\\"jurist\\\" in df.loc[index, \\\"info\\\"]], \\\"info_2\\\",\\n#     ]\\n#     .value_counts()\\n#     .index.tolist()\\n# )\";\n",
       "                var nbb_cells = Jupyter.notebook.get_cells();\n",
       "                for (var i = 0; i < nbb_cells.length; ++i) {\n",
       "                    if (nbb_cells[i].input_prompt_number == nbb_cell_id) {\n",
       "                        if (nbb_cells[i].get_text() == nbb_unformatted_code) {\n",
       "                             nbb_cells[i].set_text(nbb_formatted_code);\n",
       "                        }\n",
       "                        break;\n",
       "                    }\n",
       "                }\n",
       "            }, 500);\n",
       "            "
      ],
      "text/plain": [
       "<IPython.core.display.Javascript object>"
      ]
     },
     "metadata": {},
     "output_type": "display_data"
    }
   ],
   "source": [
    "# # Create specific_roles_list for above popped value\n",
    "# specific_roles_list = (\n",
    "#     df.loc[\n",
    "#         [index for index in df.index if \"jurist\" in df.loc[index, \"info\"]], \"info_2\",\n",
    "#     ]\n",
    "#     .value_counts()\n",
    "#     .index.tolist()\n",
    "# )"
   ]
  },
  {
   "cell_type": "code",
   "execution_count": 79,
   "id": "c0d6a1e5",
   "metadata": {},
   "outputs": [
    {
     "data": {
      "application/javascript": [
       "\n",
       "            setTimeout(function() {\n",
       "                var nbb_cell_id = 79;\n",
       "                var nbb_unformatted_code = \"# # Code to check each specific value\\n# specific_roles_list.pop()\";\n",
       "                var nbb_formatted_code = \"# # Code to check each specific value\\n# specific_roles_list.pop()\";\n",
       "                var nbb_cells = Jupyter.notebook.get_cells();\n",
       "                for (var i = 0; i < nbb_cells.length; ++i) {\n",
       "                    if (nbb_cells[i].input_prompt_number == nbb_cell_id) {\n",
       "                        if (nbb_cells[i].get_text() == nbb_unformatted_code) {\n",
       "                             nbb_cells[i].set_text(nbb_formatted_code);\n",
       "                        }\n",
       "                        break;\n",
       "                    }\n",
       "                }\n",
       "            }, 500);\n",
       "            "
      ],
      "text/plain": [
       "<IPython.core.display.Javascript object>"
      ]
     },
     "metadata": {},
     "output_type": "display_data"
    }
   ],
   "source": [
    "# # Code to check each specific value\n",
    "# specific_roles_list.pop()"
   ]
  },
  {
   "cell_type": "code",
   "execution_count": 80,
   "id": "51abdef9",
   "metadata": {},
   "outputs": [
    {
     "data": {
      "application/javascript": [
       "\n",
       "            setTimeout(function() {\n",
       "                var nbb_cell_id = 80;\n",
       "                var nbb_unformatted_code = \"# # Example code to quick-screen values that may overlap categories\\n# df.loc[[index for index in df.index if \\\"jurist and lecturer\\\" in df.loc[index, \\\"info\\\"]]]\";\n",
       "                var nbb_formatted_code = \"# # Example code to quick-screen values that may overlap categories\\n# df.loc[[index for index in df.index if \\\"jurist and lecturer\\\" in df.loc[index, \\\"info\\\"]]]\";\n",
       "                var nbb_cells = Jupyter.notebook.get_cells();\n",
       "                for (var i = 0; i < nbb_cells.length; ++i) {\n",
       "                    if (nbb_cells[i].input_prompt_number == nbb_cell_id) {\n",
       "                        if (nbb_cells[i].get_text() == nbb_unformatted_code) {\n",
       "                             nbb_cells[i].set_text(nbb_formatted_code);\n",
       "                        }\n",
       "                        break;\n",
       "                    }\n",
       "                }\n",
       "            }, 500);\n",
       "            "
      ],
      "text/plain": [
       "<IPython.core.display.Javascript object>"
      ]
     },
     "metadata": {},
     "output_type": "display_data"
    }
   ],
   "source": [
    "# # Example code to quick-screen values that may overlap categories\n",
    "# df.loc[[index for index in df.index if \"jurist and lecturer\" in df.loc[index, \"info\"]]]"
   ]
  },
  {
   "cell_type": "markdown",
   "id": "d56ee3c0",
   "metadata": {},
   "source": [
    "#### Creating Lists for Each `known_for` Category"
   ]
  },
  {
   "cell_type": "code",
   "execution_count": 81,
   "id": "11fcacc7",
   "metadata": {},
   "outputs": [
    {
     "data": {
      "application/javascript": [
       "\n",
       "            setTimeout(function() {\n",
       "                var nbb_cell_id = 81;\n",
       "                var nbb_unformatted_code = \"# Creating lists for each category\\npolitics_govt_law = [\\n    \\\"federal jurist\\\",\\n    \\\"barrister and jurist\\\",\\n    \\\"jurist and legal analyst\\\",\\n    \\\"jurist and blind rights campaigner\\\",\\n    \\\"jurist and last known World War I\\\",\\n    \\\"jurist and law lord\\\",\\n    \\\"jurist and Judge of the International Criminal Tribunal for the Former\\\",\\n    \\\"jurist and Chief Judge\\\",\\n    \\\"jurist and Chief Justice\\\",\\n    \\\"jurist and statesman\\\",\\n    \\\"jurist and women rights activist\\\",\\n    \\\"jurist and first female chief justice of the North Carolina Supreme Court\\\",\\n    \\\"jurist and former Governor of Sindh province\\\",\\n    \\\"jurist and Governor General\\\",\\n    \\\"jurist and human rights advocate\\\",\\n    \\\"Virgin Islander jurist\\\",\\n    \\\"jurist and human rights activist\\\",\\n    \\\"jurist and legal\\\",\\n    \\\"civil rights lawyer and jurist\\\",\\n    \\\"jurist and magistrate\\\",\\n    \\\"civil rights activist and jurist\\\",\\n    \\\"jurist and prosecutor\\\",\\n    \\\"jurist and public servant\\\",\\n    \\\"jurist and lawyer\\\",\\n    \\\"jurist and life peer\\\",\\n    \\\"attorney and jurist\\\",\\n    \\\"lawyer and jurist\\\",\\n    \\\"and jurist\\\",\\n    \\\"jurist and\\\",\\n    \\\"jurist\\\",\\n]\\n\\narts = []\\nsports = []\\nsciences = []\\n\\nbusiness_farming = []\\nacademia_humanities = []\\nlaw_enf_military_operator = []\\nspiritual = []\\nsocial = []\\ncrime = []\\nevent_record_other = []\\nother_species = []\";\n",
       "                var nbb_formatted_code = \"# Creating lists for each category\\npolitics_govt_law = [\\n    \\\"federal jurist\\\",\\n    \\\"barrister and jurist\\\",\\n    \\\"jurist and legal analyst\\\",\\n    \\\"jurist and blind rights campaigner\\\",\\n    \\\"jurist and last known World War I\\\",\\n    \\\"jurist and law lord\\\",\\n    \\\"jurist and Judge of the International Criminal Tribunal for the Former\\\",\\n    \\\"jurist and Chief Judge\\\",\\n    \\\"jurist and Chief Justice\\\",\\n    \\\"jurist and statesman\\\",\\n    \\\"jurist and women rights activist\\\",\\n    \\\"jurist and first female chief justice of the North Carolina Supreme Court\\\",\\n    \\\"jurist and former Governor of Sindh province\\\",\\n    \\\"jurist and Governor General\\\",\\n    \\\"jurist and human rights advocate\\\",\\n    \\\"Virgin Islander jurist\\\",\\n    \\\"jurist and human rights activist\\\",\\n    \\\"jurist and legal\\\",\\n    \\\"civil rights lawyer and jurist\\\",\\n    \\\"jurist and magistrate\\\",\\n    \\\"civil rights activist and jurist\\\",\\n    \\\"jurist and prosecutor\\\",\\n    \\\"jurist and public servant\\\",\\n    \\\"jurist and lawyer\\\",\\n    \\\"jurist and life peer\\\",\\n    \\\"attorney and jurist\\\",\\n    \\\"lawyer and jurist\\\",\\n    \\\"and jurist\\\",\\n    \\\"jurist and\\\",\\n    \\\"jurist\\\",\\n]\\n\\narts = []\\nsports = []\\nsciences = []\\n\\nbusiness_farming = []\\nacademia_humanities = []\\nlaw_enf_military_operator = []\\nspiritual = []\\nsocial = []\\ncrime = []\\nevent_record_other = []\\nother_species = []\";\n",
       "                var nbb_cells = Jupyter.notebook.get_cells();\n",
       "                for (var i = 0; i < nbb_cells.length; ++i) {\n",
       "                    if (nbb_cells[i].input_prompt_number == nbb_cell_id) {\n",
       "                        if (nbb_cells[i].get_text() == nbb_unformatted_code) {\n",
       "                             nbb_cells[i].set_text(nbb_formatted_code);\n",
       "                        }\n",
       "                        break;\n",
       "                    }\n",
       "                }\n",
       "            }, 500);\n",
       "            "
      ],
      "text/plain": [
       "<IPython.core.display.Javascript object>"
      ]
     },
     "metadata": {},
     "output_type": "display_data"
    }
   ],
   "source": [
    "# Creating lists for each category\n",
    "politics_govt_law = [\n",
    "    \"federal jurist\",\n",
    "    \"barrister and jurist\",\n",
    "    \"jurist and legal analyst\",\n",
    "    \"jurist and blind rights campaigner\",\n",
    "    \"jurist and last known World War I\",\n",
    "    \"jurist and law lord\",\n",
    "    \"jurist and Judge of the International Criminal Tribunal for the Former\",\n",
    "    \"jurist and Chief Judge\",\n",
    "    \"jurist and Chief Justice\",\n",
    "    \"jurist and statesman\",\n",
    "    \"jurist and women rights activist\",\n",
    "    \"jurist and first female chief justice of the North Carolina Supreme Court\",\n",
    "    \"jurist and former Governor of Sindh province\",\n",
    "    \"jurist and Governor General\",\n",
    "    \"jurist and human rights advocate\",\n",
    "    \"Virgin Islander jurist\",\n",
    "    \"jurist and human rights activist\",\n",
    "    \"jurist and legal\",\n",
    "    \"civil rights lawyer and jurist\",\n",
    "    \"jurist and magistrate\",\n",
    "    \"civil rights activist and jurist\",\n",
    "    \"jurist and prosecutor\",\n",
    "    \"jurist and public servant\",\n",
    "    \"jurist and lawyer\",\n",
    "    \"jurist and life peer\",\n",
    "    \"attorney and jurist\",\n",
    "    \"lawyer and jurist\",\n",
    "    \"and jurist\",\n",
    "    \"jurist and\",\n",
    "    \"jurist\",\n",
    "]\n",
    "\n",
    "arts = []\n",
    "sports = []\n",
    "sciences = []\n",
    "\n",
    "business_farming = []\n",
    "academia_humanities = []\n",
    "law_enf_military_operator = []\n",
    "spiritual = []\n",
    "social = []\n",
    "crime = []\n",
    "event_record_other = []\n",
    "other_species = []"
   ]
  },
  {
   "cell_type": "markdown",
   "id": "53eac6c5",
   "metadata": {},
   "source": [
    "#### Creating `known_for_dict` Dictionary of Category Keys and Specific Role Lists of Values"
   ]
  },
  {
   "cell_type": "code",
   "execution_count": 82,
   "id": "e770502e",
   "metadata": {},
   "outputs": [
    {
     "data": {
      "application/javascript": [
       "\n",
       "            setTimeout(function() {\n",
       "                var nbb_cell_id = 82;\n",
       "                var nbb_unformatted_code = \"# Combining separate lists into one dictionary\\nknown_for_dict = {\\n    \\\"social\\\": social,\\n    \\\"spiritual\\\": spiritual,\\n    \\\"academia_humanities\\\": academia_humanities,\\n    \\\"business_farming\\\": business_farming,\\n    \\\"sciences\\\": sciences,\\n    \\\"politics_govt_law\\\": politics_govt_law,\\n    \\\"law_enf_military_operator\\\": law_enf_military_operator,\\n    \\\"crime\\\": crime,\\n    \\\"event_record_other\\\": event_record_other,\\n    \\\"other_species\\\": other_species,\\n    \\\"arts\\\": arts,\\n    \\\"sports\\\": sports,\\n}\";\n",
       "                var nbb_formatted_code = \"# Combining separate lists into one dictionary\\nknown_for_dict = {\\n    \\\"social\\\": social,\\n    \\\"spiritual\\\": spiritual,\\n    \\\"academia_humanities\\\": academia_humanities,\\n    \\\"business_farming\\\": business_farming,\\n    \\\"sciences\\\": sciences,\\n    \\\"politics_govt_law\\\": politics_govt_law,\\n    \\\"law_enf_military_operator\\\": law_enf_military_operator,\\n    \\\"crime\\\": crime,\\n    \\\"event_record_other\\\": event_record_other,\\n    \\\"other_species\\\": other_species,\\n    \\\"arts\\\": arts,\\n    \\\"sports\\\": sports,\\n}\";\n",
       "                var nbb_cells = Jupyter.notebook.get_cells();\n",
       "                for (var i = 0; i < nbb_cells.length; ++i) {\n",
       "                    if (nbb_cells[i].input_prompt_number == nbb_cell_id) {\n",
       "                        if (nbb_cells[i].get_text() == nbb_unformatted_code) {\n",
       "                             nbb_cells[i].set_text(nbb_formatted_code);\n",
       "                        }\n",
       "                        break;\n",
       "                    }\n",
       "                }\n",
       "            }, 500);\n",
       "            "
      ],
      "text/plain": [
       "<IPython.core.display.Javascript object>"
      ]
     },
     "metadata": {},
     "output_type": "display_data"
    }
   ],
   "source": [
    "# Combining separate lists into one dictionary\n",
    "known_for_dict = {\n",
    "    \"social\": social,\n",
    "    \"spiritual\": spiritual,\n",
    "    \"academia_humanities\": academia_humanities,\n",
    "    \"business_farming\": business_farming,\n",
    "    \"sciences\": sciences,\n",
    "    \"politics_govt_law\": politics_govt_law,\n",
    "    \"law_enf_military_operator\": law_enf_military_operator,\n",
    "    \"crime\": crime,\n",
    "    \"event_record_other\": event_record_other,\n",
    "    \"other_species\": other_species,\n",
    "    \"arts\": arts,\n",
    "    \"sports\": sports,\n",
    "}"
   ]
  },
  {
   "cell_type": "markdown",
   "id": "b1419d4c",
   "metadata": {},
   "source": [
    "#### Extracting Category from `info_2`"
   ]
  },
  {
   "cell_type": "code",
   "execution_count": 83,
   "id": "412edb97",
   "metadata": {},
   "outputs": [
    {
     "name": "stdout",
     "output_type": "stream",
     "text": [
      "CPU times: total: 16.8 s\n",
      "Wall time: 16.8 s\n"
     ]
    },
    {
     "data": {
      "text/html": [
       "<div>\n",
       "<style scoped>\n",
       "    .dataframe tbody tr th:only-of-type {\n",
       "        vertical-align: middle;\n",
       "    }\n",
       "\n",
       "    .dataframe tbody tr th {\n",
       "        vertical-align: top;\n",
       "    }\n",
       "\n",
       "    .dataframe thead th {\n",
       "        text-align: right;\n",
       "    }\n",
       "</style>\n",
       "<table border=\"1\" class=\"dataframe\">\n",
       "  <thead>\n",
       "    <tr style=\"text-align: right;\">\n",
       "      <th></th>\n",
       "      <th>day</th>\n",
       "      <th>name</th>\n",
       "      <th>info</th>\n",
       "      <th>link</th>\n",
       "      <th>num_references</th>\n",
       "      <th>year</th>\n",
       "      <th>month</th>\n",
       "      <th>info_parenth</th>\n",
       "      <th>info_1</th>\n",
       "      <th>info_2</th>\n",
       "      <th>info_3</th>\n",
       "      <th>info_4</th>\n",
       "      <th>info_5</th>\n",
       "      <th>info_6</th>\n",
       "      <th>info_7</th>\n",
       "      <th>info_8</th>\n",
       "      <th>info_9</th>\n",
       "      <th>info_10</th>\n",
       "      <th>info_11</th>\n",
       "      <th>age</th>\n",
       "      <th>cause_of_death</th>\n",
       "      <th>place_1</th>\n",
       "      <th>place_2</th>\n",
       "      <th>info_parenth_copy</th>\n",
       "      <th>log_num_references</th>\n",
       "      <th>sciences</th>\n",
       "      <th>social</th>\n",
       "      <th>spiritual</th>\n",
       "      <th>academia_humanities</th>\n",
       "      <th>business_farming</th>\n",
       "      <th>arts</th>\n",
       "      <th>sports</th>\n",
       "      <th>law_enf_military_operator</th>\n",
       "      <th>politics_govt_law</th>\n",
       "      <th>crime</th>\n",
       "      <th>event_record_other</th>\n",
       "      <th>other_species</th>\n",
       "      <th>num_categories</th>\n",
       "    </tr>\n",
       "  </thead>\n",
       "  <tbody>\n",
       "    <tr>\n",
       "      <th>85045</th>\n",
       "      <td>2</td>\n",
       "      <td>Baron Wolman</td>\n",
       "      <td>, 83, American photographer , complications from amyotrophic lateral sclerosis.</td>\n",
       "      <td>https://en.wikipedia.org/wiki/Baron_Wolman</td>\n",
       "      <td>9</td>\n",
       "      <td>2020</td>\n",
       "      <td>November</td>\n",
       "      <td></td>\n",
       "      <td>None</td>\n",
       "      <td></td>\n",
       "      <td>complications from amyotrophic lateral sclerosis</td>\n",
       "      <td>None</td>\n",
       "      <td>None</td>\n",
       "      <td>None</td>\n",
       "      <td>None</td>\n",
       "      <td>None</td>\n",
       "      <td>None</td>\n",
       "      <td>None</td>\n",
       "      <td>None</td>\n",
       "      <td>83.0</td>\n",
       "      <td>None</td>\n",
       "      <td>United States of America</td>\n",
       "      <td>None</td>\n",
       "      <td></td>\n",
       "      <td>2.302585</td>\n",
       "      <td>0</td>\n",
       "      <td>0</td>\n",
       "      <td>0</td>\n",
       "      <td>0</td>\n",
       "      <td>0</td>\n",
       "      <td>1</td>\n",
       "      <td>0</td>\n",
       "      <td>0</td>\n",
       "      <td>0</td>\n",
       "      <td>0</td>\n",
       "      <td>0</td>\n",
       "      <td>0</td>\n",
       "      <td>1</td>\n",
       "    </tr>\n",
       "    <tr>\n",
       "      <th>97505</th>\n",
       "      <td>2</td>\n",
       "      <td>Đuro Seder</td>\n",
       "      <td>, 94, Croatian painter.</td>\n",
       "      <td>https://en.wikipedia.org/wiki/%C4%90uro_Seder</td>\n",
       "      <td>3</td>\n",
       "      <td>2022</td>\n",
       "      <td>May</td>\n",
       "      <td>None</td>\n",
       "      <td>None</td>\n",
       "      <td></td>\n",
       "      <td>None</td>\n",
       "      <td>None</td>\n",
       "      <td>None</td>\n",
       "      <td>None</td>\n",
       "      <td>None</td>\n",
       "      <td>None</td>\n",
       "      <td>None</td>\n",
       "      <td>None</td>\n",
       "      <td>None</td>\n",
       "      <td>94.0</td>\n",
       "      <td>None</td>\n",
       "      <td>Croatia</td>\n",
       "      <td>None</td>\n",
       "      <td>None</td>\n",
       "      <td>1.386294</td>\n",
       "      <td>0</td>\n",
       "      <td>0</td>\n",
       "      <td>0</td>\n",
       "      <td>0</td>\n",
       "      <td>0</td>\n",
       "      <td>1</td>\n",
       "      <td>0</td>\n",
       "      <td>0</td>\n",
       "      <td>0</td>\n",
       "      <td>0</td>\n",
       "      <td>0</td>\n",
       "      <td>0</td>\n",
       "      <td>1</td>\n",
       "    </tr>\n",
       "  </tbody>\n",
       "</table>\n",
       "</div>"
      ],
      "text/plain": [
       "      day          name  \\\n",
       "85045   2  Baron Wolman   \n",
       "97505   2    Đuro Seder   \n",
       "\n",
       "                                                                                  info  \\\n",
       "85045  , 83, American photographer , complications from amyotrophic lateral sclerosis.   \n",
       "97505                                                          , 94, Croatian painter.   \n",
       "\n",
       "                                                link  num_references  year  \\\n",
       "85045     https://en.wikipedia.org/wiki/Baron_Wolman               9  2020   \n",
       "97505  https://en.wikipedia.org/wiki/%C4%90uro_Seder               3  2022   \n",
       "\n",
       "          month info_parenth info_1 info_2  \\\n",
       "85045  November                None          \n",
       "97505       May         None   None          \n",
       "\n",
       "                                                 info_3 info_4 info_5 info_6  \\\n",
       "85045  complications from amyotrophic lateral sclerosis   None   None   None   \n",
       "97505                                              None   None   None   None   \n",
       "\n",
       "      info_7 info_8 info_9 info_10 info_11   age cause_of_death  \\\n",
       "85045   None   None   None    None    None  83.0           None   \n",
       "97505   None   None   None    None    None  94.0           None   \n",
       "\n",
       "                        place_1 place_2 info_parenth_copy  log_num_references  \\\n",
       "85045  United States of America    None                              2.302585   \n",
       "97505                   Croatia    None              None            1.386294   \n",
       "\n",
       "       sciences  social  spiritual  academia_humanities  business_farming  \\\n",
       "85045         0       0          0                    0                 0   \n",
       "97505         0       0          0                    0                 0   \n",
       "\n",
       "       arts  sports  law_enf_military_operator  politics_govt_law  crime  \\\n",
       "85045     1       0                          0                  0      0   \n",
       "97505     1       0                          0                  0      0   \n",
       "\n",
       "       event_record_other  other_species  num_categories  \n",
       "85045                   0              0               1  \n",
       "97505                   0              0               1  "
      ]
     },
     "execution_count": 83,
     "metadata": {},
     "output_type": "execute_result"
    },
    {
     "data": {
      "application/javascript": [
       "\n",
       "            setTimeout(function() {\n",
       "                var nbb_cell_id = 83;\n",
       "                var nbb_unformatted_code = \"%%time\\n\\n# Dictionary version\\nsearch_dict = known_for_dict\\n\\n# Column to check\\ncolumn = 'info_2'\\n\\n# Dataframe\\ndataframe = df[column].notna()\\n\\n# For loop to find role in column and extract it as category\\nfor category, category_lst in search_dict.items():\\n    for role in category_lst:\\n        for index in dataframe.index:\\n            item = df.loc[index, column]\\n            if item:\\n                if role in item:\\n                    df.loc[index, category] = 1\\n                    df.loc[index, column] = item.replace(role, '').strip()\\n\\n# Updating num_categories\\ndf[\\\"num_categories\\\"] = df[known_for_dict.keys()].sum(axis=1)\\n\\n# Checking a sample of rows\\ndf[df['arts'] ==1].sample(2)\";\n",
       "                var nbb_formatted_code = \"%%time\\n\\n# Dictionary version\\nsearch_dict = known_for_dict\\n\\n# Column to check\\ncolumn = 'info_2'\\n\\n# Dataframe\\ndataframe = df[column].notna()\\n\\n# For loop to find role in column and extract it as category\\nfor category, category_lst in search_dict.items():\\n    for role in category_lst:\\n        for index in dataframe.index:\\n            item = df.loc[index, column]\\n            if item:\\n                if role in item:\\n                    df.loc[index, category] = 1\\n                    df.loc[index, column] = item.replace(role, '').strip()\\n\\n# Updating num_categories\\ndf[\\\"num_categories\\\"] = df[known_for_dict.keys()].sum(axis=1)\\n\\n# Checking a sample of rows\\ndf[df['arts'] ==1].sample(2)\";\n",
       "                var nbb_cells = Jupyter.notebook.get_cells();\n",
       "                for (var i = 0; i < nbb_cells.length; ++i) {\n",
       "                    if (nbb_cells[i].input_prompt_number == nbb_cell_id) {\n",
       "                        if (nbb_cells[i].get_text() == nbb_unformatted_code) {\n",
       "                             nbb_cells[i].set_text(nbb_formatted_code);\n",
       "                        }\n",
       "                        break;\n",
       "                    }\n",
       "                }\n",
       "            }, 500);\n",
       "            "
      ],
      "text/plain": [
       "<IPython.core.display.Javascript object>"
      ]
     },
     "metadata": {},
     "output_type": "display_data"
    }
   ],
   "source": [
    "%%time\n",
    "\n",
    "# Dictionary version\n",
    "search_dict = known_for_dict\n",
    "\n",
    "# Column to check\n",
    "column = 'info_2'\n",
    "\n",
    "# Dataframe\n",
    "dataframe = df[column].notna()\n",
    "\n",
    "# For loop to find role in column and extract it as category\n",
    "for category, category_lst in search_dict.items():\n",
    "    for role in category_lst:\n",
    "        for index in dataframe.index:\n",
    "            item = df.loc[index, column]\n",
    "            if item:\n",
    "                if role in item:\n",
    "                    df.loc[index, category] = 1\n",
    "                    df.loc[index, column] = item.replace(role, '').strip()\n",
    "\n",
    "# Updating num_categories\n",
    "df[\"num_categories\"] = df[known_for_dict.keys()].sum(axis=1)\n",
    "\n",
    "# Checking a sample of rows\n",
    "df[df['arts'] ==1].sample(2)"
   ]
  },
  {
   "cell_type": "markdown",
   "id": "cf3c3ac8",
   "metadata": {},
   "source": [
    "#### Checking the Number of Rows without a First Category"
   ]
  },
  {
   "cell_type": "code",
   "execution_count": 84,
   "id": "a382ce3d",
   "metadata": {},
   "outputs": [
    {
     "name": "stdout",
     "output_type": "stream",
     "text": [
      "There are 41124 entries without any known_for category.\n"
     ]
    },
    {
     "data": {
      "application/javascript": [
       "\n",
       "            setTimeout(function() {\n",
       "                var nbb_cell_id = 84;\n",
       "                var nbb_unformatted_code = \"#### Checking the number of rows without a first category\\nprint(\\n    f'There are {len(df[df[\\\"num_categories\\\"]==0])} entries without any known_for category.'\\n)\";\n",
       "                var nbb_formatted_code = \"#### Checking the number of rows without a first category\\nprint(\\n    f'There are {len(df[df[\\\"num_categories\\\"]==0])} entries without any known_for category.'\\n)\";\n",
       "                var nbb_cells = Jupyter.notebook.get_cells();\n",
       "                for (var i = 0; i < nbb_cells.length; ++i) {\n",
       "                    if (nbb_cells[i].input_prompt_number == nbb_cell_id) {\n",
       "                        if (nbb_cells[i].get_text() == nbb_unformatted_code) {\n",
       "                             nbb_cells[i].set_text(nbb_formatted_code);\n",
       "                        }\n",
       "                        break;\n",
       "                    }\n",
       "                }\n",
       "            }, 500);\n",
       "            "
      ],
      "text/plain": [
       "<IPython.core.display.Javascript object>"
      ]
     },
     "metadata": {},
     "output_type": "display_data"
    }
   ],
   "source": [
    "#### Checking the number of rows without a first category\n",
    "print(\n",
    "    f'There are {len(df[df[\"num_categories\"]==0])} entries without any known_for category.'\n",
    ")"
   ]
  },
  {
   "cell_type": "markdown",
   "id": "82b901da",
   "metadata": {},
   "source": [
    "#### Observations:\n",
    "- We will proceed to rebuild `known_for_dict` for the next iteration."
   ]
  },
  {
   "cell_type": "markdown",
   "id": "247d82e0",
   "metadata": {},
   "source": [
    "#### Finding `known_for` Roles in `info_2`"
   ]
  },
  {
   "cell_type": "code",
   "execution_count": 85,
   "id": "a0aaca24",
   "metadata": {},
   "outputs": [
    {
     "data": {
      "application/javascript": [
       "\n",
       "            setTimeout(function() {\n",
       "                var nbb_cell_id = 85;\n",
       "                var nbb_unformatted_code = \"# Obtaining values for column and their counts\\nroles_list = df[\\\"info_2\\\"].value_counts(ascending=True).index.tolist()\";\n",
       "                var nbb_formatted_code = \"# Obtaining values for column and their counts\\nroles_list = df[\\\"info_2\\\"].value_counts(ascending=True).index.tolist()\";\n",
       "                var nbb_cells = Jupyter.notebook.get_cells();\n",
       "                for (var i = 0; i < nbb_cells.length; ++i) {\n",
       "                    if (nbb_cells[i].input_prompt_number == nbb_cell_id) {\n",
       "                        if (nbb_cells[i].get_text() == nbb_unformatted_code) {\n",
       "                             nbb_cells[i].set_text(nbb_formatted_code);\n",
       "                        }\n",
       "                        break;\n",
       "                    }\n",
       "                }\n",
       "            }, 500);\n",
       "            "
      ],
      "text/plain": [
       "<IPython.core.display.Javascript object>"
      ]
     },
     "metadata": {},
     "output_type": "display_data"
    }
   ],
   "source": [
    "# Obtaining values for column and their counts\n",
    "roles_list = df[\"info_2\"].value_counts(ascending=True).index.tolist()"
   ]
  },
  {
   "cell_type": "code",
   "execution_count": 86,
   "id": "db07a02e",
   "metadata": {},
   "outputs": [
    {
     "data": {
      "application/javascript": [
       "\n",
       "            setTimeout(function() {\n",
       "                var nbb_cell_id = 86;\n",
       "                var nbb_unformatted_code = \"# # Code to check each value\\n# roles_list.pop()\";\n",
       "                var nbb_formatted_code = \"# # Code to check each value\\n# roles_list.pop()\";\n",
       "                var nbb_cells = Jupyter.notebook.get_cells();\n",
       "                for (var i = 0; i < nbb_cells.length; ++i) {\n",
       "                    if (nbb_cells[i].input_prompt_number == nbb_cell_id) {\n",
       "                        if (nbb_cells[i].get_text() == nbb_unformatted_code) {\n",
       "                             nbb_cells[i].set_text(nbb_formatted_code);\n",
       "                        }\n",
       "                        break;\n",
       "                    }\n",
       "                }\n",
       "            }, 500);\n",
       "            "
      ],
      "text/plain": [
       "<IPython.core.display.Javascript object>"
      ]
     },
     "metadata": {},
     "output_type": "display_data"
    }
   ],
   "source": [
    "# # Code to check each value\n",
    "# roles_list.pop()"
   ]
  },
  {
   "cell_type": "code",
   "execution_count": 87,
   "id": "ea5fae9c",
   "metadata": {},
   "outputs": [
    {
     "data": {
      "application/javascript": [
       "\n",
       "            setTimeout(function() {\n",
       "                var nbb_cell_id = 87;\n",
       "                var nbb_unformatted_code = \"# # Create specific_roles_list for above popped value\\n# specific_roles_list = (\\n#     df.loc[\\n#         [index for index in df.index if \\\"novelist\\\" in df.loc[index, \\\"info\\\"]], \\\"info_2\\\",\\n#     ]\\n#     .value_counts()\\n#     .index.tolist()\\n# )\";\n",
       "                var nbb_formatted_code = \"# # Create specific_roles_list for above popped value\\n# specific_roles_list = (\\n#     df.loc[\\n#         [index for index in df.index if \\\"novelist\\\" in df.loc[index, \\\"info\\\"]], \\\"info_2\\\",\\n#     ]\\n#     .value_counts()\\n#     .index.tolist()\\n# )\";\n",
       "                var nbb_cells = Jupyter.notebook.get_cells();\n",
       "                for (var i = 0; i < nbb_cells.length; ++i) {\n",
       "                    if (nbb_cells[i].input_prompt_number == nbb_cell_id) {\n",
       "                        if (nbb_cells[i].get_text() == nbb_unformatted_code) {\n",
       "                             nbb_cells[i].set_text(nbb_formatted_code);\n",
       "                        }\n",
       "                        break;\n",
       "                    }\n",
       "                }\n",
       "            }, 500);\n",
       "            "
      ],
      "text/plain": [
       "<IPython.core.display.Javascript object>"
      ]
     },
     "metadata": {},
     "output_type": "display_data"
    }
   ],
   "source": [
    "# # Create specific_roles_list for above popped value\n",
    "# specific_roles_list = (\n",
    "#     df.loc[\n",
    "#         [index for index in df.index if \"novelist\" in df.loc[index, \"info\"]], \"info_2\",\n",
    "#     ]\n",
    "#     .value_counts()\n",
    "#     .index.tolist()\n",
    "# )"
   ]
  },
  {
   "cell_type": "code",
   "execution_count": 88,
   "id": "0ecc0743",
   "metadata": {},
   "outputs": [
    {
     "data": {
      "application/javascript": [
       "\n",
       "            setTimeout(function() {\n",
       "                var nbb_cell_id = 88;\n",
       "                var nbb_unformatted_code = \"# # Code to check each specific value\\n# specific_roles_list.pop()\";\n",
       "                var nbb_formatted_code = \"# # Code to check each specific value\\n# specific_roles_list.pop()\";\n",
       "                var nbb_cells = Jupyter.notebook.get_cells();\n",
       "                for (var i = 0; i < nbb_cells.length; ++i) {\n",
       "                    if (nbb_cells[i].input_prompt_number == nbb_cell_id) {\n",
       "                        if (nbb_cells[i].get_text() == nbb_unformatted_code) {\n",
       "                             nbb_cells[i].set_text(nbb_formatted_code);\n",
       "                        }\n",
       "                        break;\n",
       "                    }\n",
       "                }\n",
       "            }, 500);\n",
       "            "
      ],
      "text/plain": [
       "<IPython.core.display.Javascript object>"
      ]
     },
     "metadata": {},
     "output_type": "display_data"
    }
   ],
   "source": [
    "# # Code to check each specific value\n",
    "# specific_roles_list.pop()"
   ]
  },
  {
   "cell_type": "code",
   "execution_count": 89,
   "id": "a9867b85",
   "metadata": {},
   "outputs": [
    {
     "data": {
      "application/javascript": [
       "\n",
       "            setTimeout(function() {\n",
       "                var nbb_cell_id = 89;\n",
       "                var nbb_unformatted_code = \"# # Example code to quick-check a specific entry\\n# df[df[\\\"info_2\\\"] == \\\"n novelist\\\"]\";\n",
       "                var nbb_formatted_code = \"# # Example code to quick-check a specific entry\\n# df[df[\\\"info_2\\\"] == \\\"n novelist\\\"]\";\n",
       "                var nbb_cells = Jupyter.notebook.get_cells();\n",
       "                for (var i = 0; i < nbb_cells.length; ++i) {\n",
       "                    if (nbb_cells[i].input_prompt_number == nbb_cell_id) {\n",
       "                        if (nbb_cells[i].get_text() == nbb_unformatted_code) {\n",
       "                             nbb_cells[i].set_text(nbb_formatted_code);\n",
       "                        }\n",
       "                        break;\n",
       "                    }\n",
       "                }\n",
       "            }, 500);\n",
       "            "
      ],
      "text/plain": [
       "<IPython.core.display.Javascript object>"
      ]
     },
     "metadata": {},
     "output_type": "display_data"
    }
   ],
   "source": [
    "# # Example code to quick-check a specific entry\n",
    "# df[df[\"info_2\"] == \"n novelist\"]"
   ]
  },
  {
   "cell_type": "markdown",
   "id": "37dddc77",
   "metadata": {},
   "source": [
    "#### Creating Lists for Each `known_for` Category"
   ]
  },
  {
   "cell_type": "code",
   "execution_count": 90,
   "id": "ae907a93",
   "metadata": {},
   "outputs": [
    {
     "data": {
      "application/javascript": [
       "\n",
       "            setTimeout(function() {\n",
       "                var nbb_cell_id = 90;\n",
       "                var nbb_unformatted_code = \"# Creating lists for each category\\npolitics_govt_law = [\\n    \\\"peer and son of novelist John Buchan\\\",  # before arts\\n]\\n\\narts = [\\n    \\\"publisher and novelist\\\",\\n    \\\"novelist and editor\\\",\\n    \\\"novelist under pseudonyms\\\",\\n    \\\"Booker Prize winning novelist\\\",\\n    \\\"novelist whose books were popular in the s and s\\\",\\n    \\\"novelist and memoirist\\\",\\n    \\\"novelist who wrote a book shortlisted for the Booker Prize in\\\",\\n    \\\"food  novelist\\\",\\n    \\\"and mystery novelist\\\",\\n    \\\"Western novelist\\\",\\n    \\\"experimental novelist\\\",\\n    \\\"novelist and Pullizer Prize winner\\\",\\n    \\\"horror novelist and playwright\\\",\\n    \\\"young adult novelist\\\",\\n    \\\"dancer and novelist\\\",\\n    \\\"children novelist\\\",\\n    \\\"Nisei novelist and playwright\\\",\\n    \\\"novelist and critic\\\",\\n    \\\"wuxia novelist\\\",\\n    \\\"literary editor and novelist\\\",\\n    \\\"science fiction novelist\\\",\\n    \\\"editor and novelist\\\",\\n    \\\"novelist and filmmaker\\\",\\n    \\\"novelist and literary columnist\\\",\\n    \\\"adaption novelist\\\",\\n    \\\"book publisher and novelist\\\",\\n    \\\"novelist and literary agent\\\",\\n    \\\"children novelist and illustrator\\\",\\n    \\\"giallo novelist\\\",\\n    \\\"Konkani litterateur and novelist\\\",\\n    \\\"literary and jazz critic\\\",\\n    \\\"film producer and novelist\\\",\\n    \\\"novelist and essayist\\\",\\n    \\\"playwright and novelist\\\",\\n    \\\"romance novelist\\\",\\n    \\\"biographer and novelist\\\",\\n    \\\"spy novelist\\\",\\n    \\\"novelist and television producer\\\",\\n    \\\"fantasy novelist\\\",\\n    \\\"novelist and dramatist\\\",\\n    \\\"mystery novelist\\\",\\n    \\\"romantic novelist\\\",\\n    \\\"historical novelist\\\",\\n    \\\"literary critic and novelist\\\",\\n    \\\"critic and novelist\\\",\\n    \\\"novelist and biographer\\\",\\n    \\\"novelist and literary critic\\\",\\n    \\\"and crime novelist\\\",\\n    \\\"crime novelist\\\",\\n    \\\"novelist and playwright\\\",\\n    \\\"adventure novelist and\\\",\\n    \\\"n novelist\\\",\\n    \\\"and novelist\\\",\\n    \\\"novelist and\\\",\\n    \\\"novelist\\\",\\n]\\nsports = []\\nsciences = []\\n\\nbusiness_farming = []\\nacademia_humanities = []\\nlaw_enf_military_operator = []\\nspiritual = []\\nsocial = []\\ncrime = []\\nevent_record_other = []\\nother_species = []\";\n",
       "                var nbb_formatted_code = \"# Creating lists for each category\\npolitics_govt_law = [\\n    \\\"peer and son of novelist John Buchan\\\",  # before arts\\n]\\n\\narts = [\\n    \\\"publisher and novelist\\\",\\n    \\\"novelist and editor\\\",\\n    \\\"novelist under pseudonyms\\\",\\n    \\\"Booker Prize winning novelist\\\",\\n    \\\"novelist whose books were popular in the s and s\\\",\\n    \\\"novelist and memoirist\\\",\\n    \\\"novelist who wrote a book shortlisted for the Booker Prize in\\\",\\n    \\\"food  novelist\\\",\\n    \\\"and mystery novelist\\\",\\n    \\\"Western novelist\\\",\\n    \\\"experimental novelist\\\",\\n    \\\"novelist and Pullizer Prize winner\\\",\\n    \\\"horror novelist and playwright\\\",\\n    \\\"young adult novelist\\\",\\n    \\\"dancer and novelist\\\",\\n    \\\"children novelist\\\",\\n    \\\"Nisei novelist and playwright\\\",\\n    \\\"novelist and critic\\\",\\n    \\\"wuxia novelist\\\",\\n    \\\"literary editor and novelist\\\",\\n    \\\"science fiction novelist\\\",\\n    \\\"editor and novelist\\\",\\n    \\\"novelist and filmmaker\\\",\\n    \\\"novelist and literary columnist\\\",\\n    \\\"adaption novelist\\\",\\n    \\\"book publisher and novelist\\\",\\n    \\\"novelist and literary agent\\\",\\n    \\\"children novelist and illustrator\\\",\\n    \\\"giallo novelist\\\",\\n    \\\"Konkani litterateur and novelist\\\",\\n    \\\"literary and jazz critic\\\",\\n    \\\"film producer and novelist\\\",\\n    \\\"novelist and essayist\\\",\\n    \\\"playwright and novelist\\\",\\n    \\\"romance novelist\\\",\\n    \\\"biographer and novelist\\\",\\n    \\\"spy novelist\\\",\\n    \\\"novelist and television producer\\\",\\n    \\\"fantasy novelist\\\",\\n    \\\"novelist and dramatist\\\",\\n    \\\"mystery novelist\\\",\\n    \\\"romantic novelist\\\",\\n    \\\"historical novelist\\\",\\n    \\\"literary critic and novelist\\\",\\n    \\\"critic and novelist\\\",\\n    \\\"novelist and biographer\\\",\\n    \\\"novelist and literary critic\\\",\\n    \\\"and crime novelist\\\",\\n    \\\"crime novelist\\\",\\n    \\\"novelist and playwright\\\",\\n    \\\"adventure novelist and\\\",\\n    \\\"n novelist\\\",\\n    \\\"and novelist\\\",\\n    \\\"novelist and\\\",\\n    \\\"novelist\\\",\\n]\\nsports = []\\nsciences = []\\n\\nbusiness_farming = []\\nacademia_humanities = []\\nlaw_enf_military_operator = []\\nspiritual = []\\nsocial = []\\ncrime = []\\nevent_record_other = []\\nother_species = []\";\n",
       "                var nbb_cells = Jupyter.notebook.get_cells();\n",
       "                for (var i = 0; i < nbb_cells.length; ++i) {\n",
       "                    if (nbb_cells[i].input_prompt_number == nbb_cell_id) {\n",
       "                        if (nbb_cells[i].get_text() == nbb_unformatted_code) {\n",
       "                             nbb_cells[i].set_text(nbb_formatted_code);\n",
       "                        }\n",
       "                        break;\n",
       "                    }\n",
       "                }\n",
       "            }, 500);\n",
       "            "
      ],
      "text/plain": [
       "<IPython.core.display.Javascript object>"
      ]
     },
     "metadata": {},
     "output_type": "display_data"
    }
   ],
   "source": [
    "# Creating lists for each category\n",
    "politics_govt_law = [\n",
    "    \"peer and son of novelist John Buchan\",  # before arts\n",
    "]\n",
    "\n",
    "arts = [\n",
    "    \"publisher and novelist\",\n",
    "    \"novelist and editor\",\n",
    "    \"novelist under pseudonyms\",\n",
    "    \"Booker Prize winning novelist\",\n",
    "    \"novelist whose books were popular in the s and s\",\n",
    "    \"novelist and memoirist\",\n",
    "    \"novelist who wrote a book shortlisted for the Booker Prize in\",\n",
    "    \"food  novelist\",\n",
    "    \"and mystery novelist\",\n",
    "    \"Western novelist\",\n",
    "    \"experimental novelist\",\n",
    "    \"novelist and Pullizer Prize winner\",\n",
    "    \"horror novelist and playwright\",\n",
    "    \"young adult novelist\",\n",
    "    \"dancer and novelist\",\n",
    "    \"children novelist\",\n",
    "    \"Nisei novelist and playwright\",\n",
    "    \"novelist and critic\",\n",
    "    \"wuxia novelist\",\n",
    "    \"literary editor and novelist\",\n",
    "    \"science fiction novelist\",\n",
    "    \"editor and novelist\",\n",
    "    \"novelist and filmmaker\",\n",
    "    \"novelist and literary columnist\",\n",
    "    \"adaption novelist\",\n",
    "    \"book publisher and novelist\",\n",
    "    \"novelist and literary agent\",\n",
    "    \"children novelist and illustrator\",\n",
    "    \"giallo novelist\",\n",
    "    \"Konkani litterateur and novelist\",\n",
    "    \"literary and jazz critic\",\n",
    "    \"film producer and novelist\",\n",
    "    \"novelist and essayist\",\n",
    "    \"playwright and novelist\",\n",
    "    \"romance novelist\",\n",
    "    \"biographer and novelist\",\n",
    "    \"spy novelist\",\n",
    "    \"novelist and television producer\",\n",
    "    \"fantasy novelist\",\n",
    "    \"novelist and dramatist\",\n",
    "    \"mystery novelist\",\n",
    "    \"romantic novelist\",\n",
    "    \"historical novelist\",\n",
    "    \"literary critic and novelist\",\n",
    "    \"critic and novelist\",\n",
    "    \"novelist and biographer\",\n",
    "    \"novelist and literary critic\",\n",
    "    \"and crime novelist\",\n",
    "    \"crime novelist\",\n",
    "    \"novelist and playwright\",\n",
    "    \"adventure novelist and\",\n",
    "    \"n novelist\",\n",
    "    \"and novelist\",\n",
    "    \"novelist and\",\n",
    "    \"novelist\",\n",
    "]\n",
    "sports = []\n",
    "sciences = []\n",
    "\n",
    "business_farming = []\n",
    "academia_humanities = []\n",
    "law_enf_military_operator = []\n",
    "spiritual = []\n",
    "social = []\n",
    "crime = []\n",
    "event_record_other = []\n",
    "other_species = []"
   ]
  },
  {
   "cell_type": "markdown",
   "id": "73c54ffa",
   "metadata": {},
   "source": [
    "#### Creating `known_for_dict` Dictionary of Category Keys and Specific Role Lists of Values"
   ]
  },
  {
   "cell_type": "code",
   "execution_count": 91,
   "id": "ee57049a",
   "metadata": {},
   "outputs": [
    {
     "data": {
      "application/javascript": [
       "\n",
       "            setTimeout(function() {\n",
       "                var nbb_cell_id = 91;\n",
       "                var nbb_unformatted_code = \"# Combining separate lists into one dictionary\\nknown_for_dict = {\\n    \\\"social\\\": social,\\n    \\\"spiritual\\\": spiritual,\\n    \\\"academia_humanities\\\": academia_humanities,\\n    \\\"business_farming\\\": business_farming,\\n    \\\"sciences\\\": sciences,\\n    \\\"law_enf_military_operator\\\": law_enf_military_operator,\\n    \\\"crime\\\": crime,\\n    \\\"event_record_other\\\": event_record_other,\\n    \\\"other_species\\\": other_species,\\n    \\\"arts\\\": arts,\\n    \\\"politics_govt_law\\\": politics_govt_law,\\n    \\\"sports\\\": sports,\\n}\";\n",
       "                var nbb_formatted_code = \"# Combining separate lists into one dictionary\\nknown_for_dict = {\\n    \\\"social\\\": social,\\n    \\\"spiritual\\\": spiritual,\\n    \\\"academia_humanities\\\": academia_humanities,\\n    \\\"business_farming\\\": business_farming,\\n    \\\"sciences\\\": sciences,\\n    \\\"law_enf_military_operator\\\": law_enf_military_operator,\\n    \\\"crime\\\": crime,\\n    \\\"event_record_other\\\": event_record_other,\\n    \\\"other_species\\\": other_species,\\n    \\\"arts\\\": arts,\\n    \\\"politics_govt_law\\\": politics_govt_law,\\n    \\\"sports\\\": sports,\\n}\";\n",
       "                var nbb_cells = Jupyter.notebook.get_cells();\n",
       "                for (var i = 0; i < nbb_cells.length; ++i) {\n",
       "                    if (nbb_cells[i].input_prompt_number == nbb_cell_id) {\n",
       "                        if (nbb_cells[i].get_text() == nbb_unformatted_code) {\n",
       "                             nbb_cells[i].set_text(nbb_formatted_code);\n",
       "                        }\n",
       "                        break;\n",
       "                    }\n",
       "                }\n",
       "            }, 500);\n",
       "            "
      ],
      "text/plain": [
       "<IPython.core.display.Javascript object>"
      ]
     },
     "metadata": {},
     "output_type": "display_data"
    }
   ],
   "source": [
    "# Combining separate lists into one dictionary\n",
    "known_for_dict = {\n",
    "    \"social\": social,\n",
    "    \"spiritual\": spiritual,\n",
    "    \"academia_humanities\": academia_humanities,\n",
    "    \"business_farming\": business_farming,\n",
    "    \"sciences\": sciences,\n",
    "    \"law_enf_military_operator\": law_enf_military_operator,\n",
    "    \"crime\": crime,\n",
    "    \"event_record_other\": event_record_other,\n",
    "    \"other_species\": other_species,\n",
    "    \"arts\": arts,\n",
    "    \"politics_govt_law\": politics_govt_law,\n",
    "    \"sports\": sports,\n",
    "}"
   ]
  },
  {
   "cell_type": "markdown",
   "id": "df266152",
   "metadata": {},
   "source": [
    "#### Extracting Category from `info_2`"
   ]
  },
  {
   "cell_type": "code",
   "execution_count": 92,
   "id": "24921843",
   "metadata": {},
   "outputs": [
    {
     "name": "stdout",
     "output_type": "stream",
     "text": [
      "CPU times: total: 30 s\n",
      "Wall time: 30 s\n"
     ]
    },
    {
     "data": {
      "text/html": [
       "<div>\n",
       "<style scoped>\n",
       "    .dataframe tbody tr th:only-of-type {\n",
       "        vertical-align: middle;\n",
       "    }\n",
       "\n",
       "    .dataframe tbody tr th {\n",
       "        vertical-align: top;\n",
       "    }\n",
       "\n",
       "    .dataframe thead th {\n",
       "        text-align: right;\n",
       "    }\n",
       "</style>\n",
       "<table border=\"1\" class=\"dataframe\">\n",
       "  <thead>\n",
       "    <tr style=\"text-align: right;\">\n",
       "      <th></th>\n",
       "      <th>day</th>\n",
       "      <th>name</th>\n",
       "      <th>info</th>\n",
       "      <th>link</th>\n",
       "      <th>num_references</th>\n",
       "      <th>year</th>\n",
       "      <th>month</th>\n",
       "      <th>info_parenth</th>\n",
       "      <th>info_1</th>\n",
       "      <th>info_2</th>\n",
       "      <th>info_3</th>\n",
       "      <th>info_4</th>\n",
       "      <th>info_5</th>\n",
       "      <th>info_6</th>\n",
       "      <th>info_7</th>\n",
       "      <th>info_8</th>\n",
       "      <th>info_9</th>\n",
       "      <th>info_10</th>\n",
       "      <th>info_11</th>\n",
       "      <th>age</th>\n",
       "      <th>cause_of_death</th>\n",
       "      <th>place_1</th>\n",
       "      <th>place_2</th>\n",
       "      <th>info_parenth_copy</th>\n",
       "      <th>log_num_references</th>\n",
       "      <th>sciences</th>\n",
       "      <th>social</th>\n",
       "      <th>spiritual</th>\n",
       "      <th>academia_humanities</th>\n",
       "      <th>business_farming</th>\n",
       "      <th>arts</th>\n",
       "      <th>sports</th>\n",
       "      <th>law_enf_military_operator</th>\n",
       "      <th>politics_govt_law</th>\n",
       "      <th>crime</th>\n",
       "      <th>event_record_other</th>\n",
       "      <th>other_species</th>\n",
       "      <th>num_categories</th>\n",
       "    </tr>\n",
       "  </thead>\n",
       "  <tbody>\n",
       "    <tr>\n",
       "      <th>3704</th>\n",
       "      <td>16</td>\n",
       "      <td>Roger Bowen</td>\n",
       "      <td>, 63, American actor , heart attack.</td>\n",
       "      <td>https://en.wikipedia.org/wiki/Roger_Bowen</td>\n",
       "      <td>3</td>\n",
       "      <td>1996</td>\n",
       "      <td>February</td>\n",
       "      <td>, ,</td>\n",
       "      <td>None</td>\n",
       "      <td></td>\n",
       "      <td>heart attack</td>\n",
       "      <td>None</td>\n",
       "      <td>None</td>\n",
       "      <td>None</td>\n",
       "      <td>None</td>\n",
       "      <td>None</td>\n",
       "      <td>None</td>\n",
       "      <td>None</td>\n",
       "      <td>None</td>\n",
       "      <td>63.0</td>\n",
       "      <td>None</td>\n",
       "      <td>United States of America</td>\n",
       "      <td>None</td>\n",
       "      <td>, ,</td>\n",
       "      <td>1.386294</td>\n",
       "      <td>0</td>\n",
       "      <td>0</td>\n",
       "      <td>0</td>\n",
       "      <td>0</td>\n",
       "      <td>0</td>\n",
       "      <td>1</td>\n",
       "      <td>0</td>\n",
       "      <td>0</td>\n",
       "      <td>0</td>\n",
       "      <td>0</td>\n",
       "      <td>0</td>\n",
       "      <td>0</td>\n",
       "      <td>1</td>\n",
       "    </tr>\n",
       "    <tr>\n",
       "      <th>52722</th>\n",
       "      <td>3</td>\n",
       "      <td>Paul Grigoriu</td>\n",
       "      <td>, 70, Romanian radio personality .</td>\n",
       "      <td>https://en.wikipedia.org/wiki/Paul_Grigoriu</td>\n",
       "      <td>4</td>\n",
       "      <td>2015</td>\n",
       "      <td>April</td>\n",
       "      <td>SRR</td>\n",
       "      <td>None</td>\n",
       "      <td></td>\n",
       "      <td>None</td>\n",
       "      <td>None</td>\n",
       "      <td>None</td>\n",
       "      <td>None</td>\n",
       "      <td>None</td>\n",
       "      <td>None</td>\n",
       "      <td>None</td>\n",
       "      <td>None</td>\n",
       "      <td>None</td>\n",
       "      <td>70.0</td>\n",
       "      <td>None</td>\n",
       "      <td>Romania</td>\n",
       "      <td>None</td>\n",
       "      <td>SRR</td>\n",
       "      <td>1.609438</td>\n",
       "      <td>0</td>\n",
       "      <td>0</td>\n",
       "      <td>0</td>\n",
       "      <td>0</td>\n",
       "      <td>0</td>\n",
       "      <td>1</td>\n",
       "      <td>0</td>\n",
       "      <td>0</td>\n",
       "      <td>0</td>\n",
       "      <td>0</td>\n",
       "      <td>0</td>\n",
       "      <td>0</td>\n",
       "      <td>1</td>\n",
       "    </tr>\n",
       "  </tbody>\n",
       "</table>\n",
       "</div>"
      ],
      "text/plain": [
       "      day           name                                  info  \\\n",
       "3704   16    Roger Bowen  , 63, American actor , heart attack.   \n",
       "52722   3  Paul Grigoriu    , 70, Romanian radio personality .   \n",
       "\n",
       "                                              link  num_references  year  \\\n",
       "3704     https://en.wikipedia.org/wiki/Roger_Bowen               3  1996   \n",
       "52722  https://en.wikipedia.org/wiki/Paul_Grigoriu               4  2015   \n",
       "\n",
       "          month info_parenth info_1 info_2        info_3 info_4 info_5 info_6  \\\n",
       "3704   February          , ,   None         heart attack   None   None   None   \n",
       "52722     April          SRR   None                 None   None   None   None   \n",
       "\n",
       "      info_7 info_8 info_9 info_10 info_11   age cause_of_death  \\\n",
       "3704    None   None   None    None    None  63.0           None   \n",
       "52722   None   None   None    None    None  70.0           None   \n",
       "\n",
       "                        place_1 place_2 info_parenth_copy  log_num_references  \\\n",
       "3704   United States of America    None               , ,            1.386294   \n",
       "52722                   Romania    None               SRR            1.609438   \n",
       "\n",
       "       sciences  social  spiritual  academia_humanities  business_farming  \\\n",
       "3704          0       0          0                    0                 0   \n",
       "52722         0       0          0                    0                 0   \n",
       "\n",
       "       arts  sports  law_enf_military_operator  politics_govt_law  crime  \\\n",
       "3704      1       0                          0                  0      0   \n",
       "52722     1       0                          0                  0      0   \n",
       "\n",
       "       event_record_other  other_species  num_categories  \n",
       "3704                    0              0               1  \n",
       "52722                   0              0               1  "
      ]
     },
     "execution_count": 92,
     "metadata": {},
     "output_type": "execute_result"
    },
    {
     "data": {
      "application/javascript": [
       "\n",
       "            setTimeout(function() {\n",
       "                var nbb_cell_id = 92;\n",
       "                var nbb_unformatted_code = \"%%time\\n\\n# Dictionary version\\nsearch_dict = known_for_dict\\n\\n# Column to check\\ncolumn = 'info_2'\\n\\n# Dataframe\\ndataframe = df[column].notna()\\n\\n# For loop to find role in column and extract it as category\\nfor category, category_lst in search_dict.items():\\n    for role in category_lst:\\n        for index in dataframe.index:\\n            item = df.loc[index, column]\\n            if item:\\n                if role in item:\\n                    df.loc[index, category] = 1\\n                    df.loc[index, column] = item.replace(role, '').strip()\\n\\n# Updating num_categories\\ndf[\\\"num_categories\\\"] = df[known_for_dict.keys()].sum(axis=1)\\n\\n# Checking a sample of rows\\ndf[df['arts'] ==1].sample(2)\";\n",
       "                var nbb_formatted_code = \"%%time\\n\\n# Dictionary version\\nsearch_dict = known_for_dict\\n\\n# Column to check\\ncolumn = 'info_2'\\n\\n# Dataframe\\ndataframe = df[column].notna()\\n\\n# For loop to find role in column and extract it as category\\nfor category, category_lst in search_dict.items():\\n    for role in category_lst:\\n        for index in dataframe.index:\\n            item = df.loc[index, column]\\n            if item:\\n                if role in item:\\n                    df.loc[index, category] = 1\\n                    df.loc[index, column] = item.replace(role, '').strip()\\n\\n# Updating num_categories\\ndf[\\\"num_categories\\\"] = df[known_for_dict.keys()].sum(axis=1)\\n\\n# Checking a sample of rows\\ndf[df['arts'] ==1].sample(2)\";\n",
       "                var nbb_cells = Jupyter.notebook.get_cells();\n",
       "                for (var i = 0; i < nbb_cells.length; ++i) {\n",
       "                    if (nbb_cells[i].input_prompt_number == nbb_cell_id) {\n",
       "                        if (nbb_cells[i].get_text() == nbb_unformatted_code) {\n",
       "                             nbb_cells[i].set_text(nbb_formatted_code);\n",
       "                        }\n",
       "                        break;\n",
       "                    }\n",
       "                }\n",
       "            }, 500);\n",
       "            "
      ],
      "text/plain": [
       "<IPython.core.display.Javascript object>"
      ]
     },
     "metadata": {},
     "output_type": "display_data"
    }
   ],
   "source": [
    "%%time\n",
    "\n",
    "# Dictionary version\n",
    "search_dict = known_for_dict\n",
    "\n",
    "# Column to check\n",
    "column = 'info_2'\n",
    "\n",
    "# Dataframe\n",
    "dataframe = df[column].notna()\n",
    "\n",
    "# For loop to find role in column and extract it as category\n",
    "for category, category_lst in search_dict.items():\n",
    "    for role in category_lst:\n",
    "        for index in dataframe.index:\n",
    "            item = df.loc[index, column]\n",
    "            if item:\n",
    "                if role in item:\n",
    "                    df.loc[index, category] = 1\n",
    "                    df.loc[index, column] = item.replace(role, '').strip()\n",
    "\n",
    "# Updating num_categories\n",
    "df[\"num_categories\"] = df[known_for_dict.keys()].sum(axis=1)\n",
    "\n",
    "# Checking a sample of rows\n",
    "df[df['arts'] ==1].sample(2)"
   ]
  },
  {
   "cell_type": "markdown",
   "id": "dc87c055",
   "metadata": {},
   "source": [
    "#### Checking the Number of Rows without a First Category"
   ]
  },
  {
   "cell_type": "code",
   "execution_count": 93,
   "id": "2450733d",
   "metadata": {},
   "outputs": [
    {
     "name": "stdout",
     "output_type": "stream",
     "text": [
      "There are 40662 entries without any known_for category.\n"
     ]
    },
    {
     "data": {
      "application/javascript": [
       "\n",
       "            setTimeout(function() {\n",
       "                var nbb_cell_id = 93;\n",
       "                var nbb_unformatted_code = \"#### Checking the number of rows without a first category\\nprint(\\n    f'There are {len(df[df[\\\"num_categories\\\"]==0])} entries without any known_for category.'\\n)\";\n",
       "                var nbb_formatted_code = \"#### Checking the number of rows without a first category\\nprint(\\n    f'There are {len(df[df[\\\"num_categories\\\"]==0])} entries without any known_for category.'\\n)\";\n",
       "                var nbb_cells = Jupyter.notebook.get_cells();\n",
       "                for (var i = 0; i < nbb_cells.length; ++i) {\n",
       "                    if (nbb_cells[i].input_prompt_number == nbb_cell_id) {\n",
       "                        if (nbb_cells[i].get_text() == nbb_unformatted_code) {\n",
       "                             nbb_cells[i].set_text(nbb_formatted_code);\n",
       "                        }\n",
       "                        break;\n",
       "                    }\n",
       "                }\n",
       "            }, 500);\n",
       "            "
      ],
      "text/plain": [
       "<IPython.core.display.Javascript object>"
      ]
     },
     "metadata": {},
     "output_type": "display_data"
    }
   ],
   "source": [
    "#### Checking the number of rows without a first category\n",
    "print(\n",
    "    f'There are {len(df[df[\"num_categories\"]==0])} entries without any known_for category.'\n",
    ")"
   ]
  },
  {
   "cell_type": "markdown",
   "id": "4470257e",
   "metadata": {},
   "source": [
    "#### Observations:\n",
    "- We will proceed to rebuild `known_for_dict` for the next iteration."
   ]
  },
  {
   "cell_type": "markdown",
   "id": "5e344a14",
   "metadata": {},
   "source": [
    "#### Finding `known_for` Roles in `info_2`"
   ]
  },
  {
   "cell_type": "code",
   "execution_count": 94,
   "id": "b603e248",
   "metadata": {},
   "outputs": [
    {
     "data": {
      "application/javascript": [
       "\n",
       "            setTimeout(function() {\n",
       "                var nbb_cell_id = 94;\n",
       "                var nbb_unformatted_code = \"# Obtaining values for column and their counts\\nroles_list = df[\\\"info_2\\\"].value_counts(ascending=True).index.tolist()\";\n",
       "                var nbb_formatted_code = \"# Obtaining values for column and their counts\\nroles_list = df[\\\"info_2\\\"].value_counts(ascending=True).index.tolist()\";\n",
       "                var nbb_cells = Jupyter.notebook.get_cells();\n",
       "                for (var i = 0; i < nbb_cells.length; ++i) {\n",
       "                    if (nbb_cells[i].input_prompt_number == nbb_cell_id) {\n",
       "                        if (nbb_cells[i].get_text() == nbb_unformatted_code) {\n",
       "                             nbb_cells[i].set_text(nbb_formatted_code);\n",
       "                        }\n",
       "                        break;\n",
       "                    }\n",
       "                }\n",
       "            }, 500);\n",
       "            "
      ],
      "text/plain": [
       "<IPython.core.display.Javascript object>"
      ]
     },
     "metadata": {},
     "output_type": "display_data"
    }
   ],
   "source": [
    "# Obtaining values for column and their counts\n",
    "roles_list = df[\"info_2\"].value_counts(ascending=True).index.tolist()"
   ]
  },
  {
   "cell_type": "code",
   "execution_count": 95,
   "id": "b61b9a7a",
   "metadata": {},
   "outputs": [
    {
     "data": {
      "application/javascript": [
       "\n",
       "            setTimeout(function() {\n",
       "                var nbb_cell_id = 95;\n",
       "                var nbb_unformatted_code = \"# # Code to check each value\\n# roles_list.pop()\";\n",
       "                var nbb_formatted_code = \"# # Code to check each value\\n# roles_list.pop()\";\n",
       "                var nbb_cells = Jupyter.notebook.get_cells();\n",
       "                for (var i = 0; i < nbb_cells.length; ++i) {\n",
       "                    if (nbb_cells[i].input_prompt_number == nbb_cell_id) {\n",
       "                        if (nbb_cells[i].get_text() == nbb_unformatted_code) {\n",
       "                             nbb_cells[i].set_text(nbb_formatted_code);\n",
       "                        }\n",
       "                        break;\n",
       "                    }\n",
       "                }\n",
       "            }, 500);\n",
       "            "
      ],
      "text/plain": [
       "<IPython.core.display.Javascript object>"
      ]
     },
     "metadata": {},
     "output_type": "display_data"
    }
   ],
   "source": [
    "# # Code to check each value\n",
    "# roles_list.pop()"
   ]
  },
  {
   "cell_type": "code",
   "execution_count": 96,
   "id": "17c90b19",
   "metadata": {},
   "outputs": [
    {
     "data": {
      "application/javascript": [
       "\n",
       "            setTimeout(function() {\n",
       "                var nbb_cell_id = 96;\n",
       "                var nbb_unformatted_code = \"# # Create specific_roles_list for above popped value\\n# specific_roles_list = (\\n#     df.loc[\\n#         [index for index in df.index if \\\"lawyer\\\" in df.loc[index, \\\"info\\\"]], \\\"info_2\\\",\\n#     ]\\n#     .value_counts()\\n#     .index.tolist()\\n# )\";\n",
       "                var nbb_formatted_code = \"# # Create specific_roles_list for above popped value\\n# specific_roles_list = (\\n#     df.loc[\\n#         [index for index in df.index if \\\"lawyer\\\" in df.loc[index, \\\"info\\\"]], \\\"info_2\\\",\\n#     ]\\n#     .value_counts()\\n#     .index.tolist()\\n# )\";\n",
       "                var nbb_cells = Jupyter.notebook.get_cells();\n",
       "                for (var i = 0; i < nbb_cells.length; ++i) {\n",
       "                    if (nbb_cells[i].input_prompt_number == nbb_cell_id) {\n",
       "                        if (nbb_cells[i].get_text() == nbb_unformatted_code) {\n",
       "                             nbb_cells[i].set_text(nbb_formatted_code);\n",
       "                        }\n",
       "                        break;\n",
       "                    }\n",
       "                }\n",
       "            }, 500);\n",
       "            "
      ],
      "text/plain": [
       "<IPython.core.display.Javascript object>"
      ]
     },
     "metadata": {},
     "output_type": "display_data"
    }
   ],
   "source": [
    "# # Create specific_roles_list for above popped value\n",
    "# specific_roles_list = (\n",
    "#     df.loc[\n",
    "#         [index for index in df.index if \"lawyer\" in df.loc[index, \"info\"]], \"info_2\",\n",
    "#     ]\n",
    "#     .value_counts()\n",
    "#     .index.tolist()\n",
    "# )"
   ]
  },
  {
   "cell_type": "code",
   "execution_count": 97,
   "id": "0690faf9",
   "metadata": {},
   "outputs": [
    {
     "data": {
      "application/javascript": [
       "\n",
       "            setTimeout(function() {\n",
       "                var nbb_cell_id = 97;\n",
       "                var nbb_unformatted_code = \"# # Code to check each specific value\\n# specific_roles_list.pop()\";\n",
       "                var nbb_formatted_code = \"# # Code to check each specific value\\n# specific_roles_list.pop()\";\n",
       "                var nbb_cells = Jupyter.notebook.get_cells();\n",
       "                for (var i = 0; i < nbb_cells.length; ++i) {\n",
       "                    if (nbb_cells[i].input_prompt_number == nbb_cell_id) {\n",
       "                        if (nbb_cells[i].get_text() == nbb_unformatted_code) {\n",
       "                             nbb_cells[i].set_text(nbb_formatted_code);\n",
       "                        }\n",
       "                        break;\n",
       "                    }\n",
       "                }\n",
       "            }, 500);\n",
       "            "
      ],
      "text/plain": [
       "<IPython.core.display.Javascript object>"
      ]
     },
     "metadata": {},
     "output_type": "display_data"
    }
   ],
   "source": [
    "# # Code to check each specific value\n",
    "# specific_roles_list.pop()"
   ]
  },
  {
   "cell_type": "code",
   "execution_count": 98,
   "id": "52d681bf",
   "metadata": {},
   "outputs": [
    {
     "data": {
      "application/javascript": [
       "\n",
       "            setTimeout(function() {\n",
       "                var nbb_cell_id = 98;\n",
       "                var nbb_unformatted_code = \"# # Example code to quick-screen values that may overlap categories\\n# df.loc[\\n#     [index for index in df.index if \\\"labor leader and lawyer\\\" in df.loc[index, \\\"info\\\"]]\\n# ]\";\n",
       "                var nbb_formatted_code = \"# # Example code to quick-screen values that may overlap categories\\n# df.loc[\\n#     [index for index in df.index if \\\"labor leader and lawyer\\\" in df.loc[index, \\\"info\\\"]]\\n# ]\";\n",
       "                var nbb_cells = Jupyter.notebook.get_cells();\n",
       "                for (var i = 0; i < nbb_cells.length; ++i) {\n",
       "                    if (nbb_cells[i].input_prompt_number == nbb_cell_id) {\n",
       "                        if (nbb_cells[i].get_text() == nbb_unformatted_code) {\n",
       "                             nbb_cells[i].set_text(nbb_formatted_code);\n",
       "                        }\n",
       "                        break;\n",
       "                    }\n",
       "                }\n",
       "            }, 500);\n",
       "            "
      ],
      "text/plain": [
       "<IPython.core.display.Javascript object>"
      ]
     },
     "metadata": {},
     "output_type": "display_data"
    }
   ],
   "source": [
    "# # Example code to quick-screen values that may overlap categories\n",
    "# df.loc[\n",
    "#     [index for index in df.index if \"labor leader and lawyer\" in df.loc[index, \"info\"]]\n",
    "# ]"
   ]
  },
  {
   "cell_type": "code",
   "execution_count": 99,
   "id": "46a1350d",
   "metadata": {},
   "outputs": [
    {
     "data": {
      "application/javascript": [
       "\n",
       "            setTimeout(function() {\n",
       "                var nbb_cell_id = 99;\n",
       "                var nbb_unformatted_code = \"# # Example code to quick-check a specific entry\\n# df[df[\\\"info_2\\\"] == \\\"lawyer and administrator\\\"]\";\n",
       "                var nbb_formatted_code = \"# # Example code to quick-check a specific entry\\n# df[df[\\\"info_2\\\"] == \\\"lawyer and administrator\\\"]\";\n",
       "                var nbb_cells = Jupyter.notebook.get_cells();\n",
       "                for (var i = 0; i < nbb_cells.length; ++i) {\n",
       "                    if (nbb_cells[i].input_prompt_number == nbb_cell_id) {\n",
       "                        if (nbb_cells[i].get_text() == nbb_unformatted_code) {\n",
       "                             nbb_cells[i].set_text(nbb_formatted_code);\n",
       "                        }\n",
       "                        break;\n",
       "                    }\n",
       "                }\n",
       "            }, 500);\n",
       "            "
      ],
      "text/plain": [
       "<IPython.core.display.Javascript object>"
      ]
     },
     "metadata": {},
     "output_type": "display_data"
    }
   ],
   "source": [
    "# # Example code to quick-check a specific entry\n",
    "# df[df[\"info_2\"] == \"lawyer and administrator\"]"
   ]
  },
  {
   "cell_type": "code",
   "execution_count": 100,
   "id": "4375a32a",
   "metadata": {},
   "outputs": [
    {
     "data": {
      "application/javascript": [
       "\n",
       "            setTimeout(function() {\n",
       "                var nbb_cell_id = 100;\n",
       "                var nbb_unformatted_code = \"# Dropping entry that points to game show page rather than page for individual\\nindex = df[df[\\\"link\\\"] == \\\"https://en.wikipedia.org/wiki/Vivienne_Nearing\\\"].index\\ndf.drop(index, inplace=True)\\ndf.reset_index(inplace=True, drop=True)\";\n",
       "                var nbb_formatted_code = \"# Dropping entry that points to game show page rather than page for individual\\nindex = df[df[\\\"link\\\"] == \\\"https://en.wikipedia.org/wiki/Vivienne_Nearing\\\"].index\\ndf.drop(index, inplace=True)\\ndf.reset_index(inplace=True, drop=True)\";\n",
       "                var nbb_cells = Jupyter.notebook.get_cells();\n",
       "                for (var i = 0; i < nbb_cells.length; ++i) {\n",
       "                    if (nbb_cells[i].input_prompt_number == nbb_cell_id) {\n",
       "                        if (nbb_cells[i].get_text() == nbb_unformatted_code) {\n",
       "                             nbb_cells[i].set_text(nbb_formatted_code);\n",
       "                        }\n",
       "                        break;\n",
       "                    }\n",
       "                }\n",
       "            }, 500);\n",
       "            "
      ],
      "text/plain": [
       "<IPython.core.display.Javascript object>"
      ]
     },
     "metadata": {},
     "output_type": "display_data"
    }
   ],
   "source": [
    "# Dropping entry that points to game show page rather than page for individual\n",
    "index = df[df[\"link\"] == \"https://en.wikipedia.org/wiki/Vivienne_Nearing\"].index\n",
    "df.drop(index, inplace=True)\n",
    "df.reset_index(inplace=True, drop=True)"
   ]
  },
  {
   "cell_type": "markdown",
   "id": "3bf76dde",
   "metadata": {},
   "source": [
    "#### Creating Lists for Each `known_for` Category"
   ]
  },
  {
   "cell_type": "code",
   "execution_count": 101,
   "id": "d2b26cff",
   "metadata": {},
   "outputs": [
    {
     "data": {
      "application/javascript": [
       "\n",
       "            setTimeout(function() {\n",
       "                var nbb_cell_id = 101;\n",
       "                var nbb_unformatted_code = \"# Creating lists for each category\\npolitics_govt_law = [\\n    \\\"public interest lawyer\\\",\\n    \\\"lawyer and anti Apartheid activist\\\",\\n    \\\"lawyer and Chief Justice of\\\",\\n    \\\"lawyer for left wing clients and causes\\\",\\n    \\\"lawyer and key witness in the trial of Willem Holleeder\\\",\\n    \\\"Alabama state senator and lawyer\\\",\\n    \\\"labor lawyer and women rights advocate\\\",\\n    \\\"lawyer who fought for equitable access to legal services\\\",\\n    \\\"lawyer who defended dissidents\\\",\\n    \\\"defense lawyer for Saddam Hussein\\\",\\n    \\\"lawyer and civil liberties activist\\\",\\n    \\\"lawyer and former Lord of Appeal\\\",\\n    \\\"trial lawyer and political fundraiser\\\",\\n    \\\"trial lawyer and political power broker\\\",\\n    \\\"activist and lawyer\\\",\\n    \\\"pro life activist and lawyer\\\",\\n    \\\"South lawyer\\\",\\n    \\\"lawyer and partner in Jacoby & Meyers\\\",\\n    \\\"lawyer and political insider\\\",\\n    \\\"lawyer and white nationalist\\\",\\n    \\\"First Amendment lawyer\\\",\\n    \\\"lawyer and clan chief\\\",\\n    \\\"labor lawyer\\\",\\n    \\\"jailhouse lawyer\\\",\\n    \\\"lawyer and royal commissioner\\\",\\n    \\\"immigration lawyer\\\",\\n    \\\"lawyer and founder of Amnesty International\\\",\\n    \\\"libel lawyer\\\",\\n    \\\"lawyer and first Alabama Supreme Court justice\\\",\\n    \\\"lawyer and Postmaster General\\\",\\n    \\\"lawyer and longtime advisor to Jimmy Carter\\\",\\n    \\\"lawyer and Solicitor General\\\",\\n    'lawyer and \\\"fixer\\\" for the Chicago Mafia',\\n    \\\"lawyer who co founded the National Lawyers Guild\\\",\\n    \\\"lawyer and chief legal counsel to the RNC\\\",\\n    \\\"lawyer and communications executive and ambassador\\\",\\n    \\\"prosecuting lawyer who was the first attorney in the to achieve a murder conviction with exclusively circumstantial evidence\\\",\\n    \\\"lawyer who defended pacifist Ezra Pound\\\",\\n    \\\"lawyer and movie studio chairman\\\",\\n    \\\"civil rights and human rights lawyer\\\",\\n    \\\"lawyer and political advisor\\\",\\n    \\\"divorce lawyer\\\",\\n    \\\"lawyer and official\\\",\\n    \\\"criminal defense lawyer\\\",\\n    \\\"lawyer and dissident\\\",\\n    \\\"lawyer political advisor\\\",\\n    \\\"lawyer and Associate Justice of the Supreme Court of the\\\",\\n    \\\"lawyer civil rights activist\\\",\\n    \\\"lawyer and president of the ICTR\\\",\\n    \\\"lawyer and Governor of Kansas\\\",\\n    \\\"lawyer and Governor of South\\\",\\n    \\\"lawyer at the Department of Justice\\\",\\n    \\\"lawyer and a key figure in the Watergate investigation\\\",\\n    \\\"lawyer and civil rights advocate\\\",\\n    \\\"and criminal lawyer\\\",\\n    \\\"criminal lawyer and\\\",\\n    \\\"criminal lawyer\\\",\\n    \\\"lawyer and environmental activist\\\",\\n    \\\"human rights lawyer and anti apartheid activist\\\",\\n    \\\"lawyer and civil servant\\\",\\n    \\\"lawyer and civic activist\\\",\\n    \\\"lawyer and human rights advocate\\\",\\n    \\\"defense lawyer and prosecutor\\\",\\n    \\\"lawyer and presidential adviser\\\",\\n    \\\"lawyer and parliamentary draftsman\\\",\\n    \\\"landowner and lawyer\\\",\\n    \\\"lawyer and social activist\\\",\\n    \\\"lawyer and government official\\\",\\n    \\\"M\\u0101ori lawyer\\\",\\n    \\\"lawyer and community leader\\\",\\n    \\\"arbitration lawyer\\\",\\n    \\\"disability activist and lawyer\\\",\\n    \\\"lawyer and legal analyst\\\",\\n    \\\"lawyer and labor activist\\\",\\n    \\\"lawyer and eminent domain\\\",\\n    \\\"lawyer and magistrate\\\",\\n    \\\"bankruptcy lawyer\\\",\\n    \\\"pro lawyer\\\",\\n    \\\"lawyer and prisoner rights activist\\\",\\n    \\\"lawyer and anti apartheid activist\\\",\\n    \\\"lawyer and right to die campaigner\\\",\\n    \\\"lawyer and prosecutor\\\",\\n    \\\"intellectual property lawyer and\\\",\\n    \\\"intellectual property lawyer\\\",\\n    \\\"lawyer and policy adviser\\\",\\n    \\\"environmental lawyer\\\",\\n    \\\"abor lawyer\\\",\\n    \\\"human rights lawyer and life peer\\\",\\n    \\\"animal welfare lawyer\\\",\\n    \\\"LGBT rights lawyer\\\",\\n    \\\"reproductive rights activist and lawyer\\\",\\n    \\\"lawyer and political strategist\\\",\\n    \\\"lawyer and LGBT activist\\\",\\n    \\\"defense lawyer\\\",\\n    \\\"trial lawyer\\\",\\n    \\\"civil servant and lawyer\\\",\\n    \\\"lawyer and public official\\\",\\n    \\\"lawyer and activist\\\",\\n    \\\"lawyer and political activist\\\",\\n    \\\"lawyer and life peer\\\",\\n    \\\"lawyer and lobbyist\\\",\\n    \\\"lawyer and feminist\\\",\\n    \\\"civil rights lawyer and activist\\\",\\n    \\\"lawyer and women rights activist\\\",\\n    \\\"human rights activist and lawyer\\\",\\n    \\\"constitutional lawyer\\\",\\n    \\\"human rights lawyer\\\",\\n    \\\"lawyer and public servant\\\",\\n    \\\"and civil rights lawyer\\\",\\n    \\\"civil rights lawyer\\\",\\n    \\\"lawyer and civil rights activist\\\",\\n    \\\"lawyer and human rights activist\\\",\\n    \\\"tax lawyer and\\\",\\n    \\\"and Native rights lawyer\\\",\\n    \\\"anti segregation lawyer and\\\",\\n    \\\"lawyer and\\\",\\n    \\\"and lawyer\\\",\\n    \\\"lawyer\\\",\\n]\\n\\narts = [\\\"for the Grateful Dead\\\", \\\"to the stars\\\"]  # before politics_govt_law\\nsports = []\\nsciences = []\\n\\nbusiness_farming = []\\nacademia_humanities = []\\nlaw_enf_military_operator = []\\nspiritual = []\\nsocial = []\\ncrime = [\\\"gangland criminal\\\", \\\"disbarred\\\"]\\nevent_record_other = []\\nother_species = []\";\n",
       "                var nbb_formatted_code = \"# Creating lists for each category\\npolitics_govt_law = [\\n    \\\"public interest lawyer\\\",\\n    \\\"lawyer and anti Apartheid activist\\\",\\n    \\\"lawyer and Chief Justice of\\\",\\n    \\\"lawyer for left wing clients and causes\\\",\\n    \\\"lawyer and key witness in the trial of Willem Holleeder\\\",\\n    \\\"Alabama state senator and lawyer\\\",\\n    \\\"labor lawyer and women rights advocate\\\",\\n    \\\"lawyer who fought for equitable access to legal services\\\",\\n    \\\"lawyer who defended dissidents\\\",\\n    \\\"defense lawyer for Saddam Hussein\\\",\\n    \\\"lawyer and civil liberties activist\\\",\\n    \\\"lawyer and former Lord of Appeal\\\",\\n    \\\"trial lawyer and political fundraiser\\\",\\n    \\\"trial lawyer and political power broker\\\",\\n    \\\"activist and lawyer\\\",\\n    \\\"pro life activist and lawyer\\\",\\n    \\\"South lawyer\\\",\\n    \\\"lawyer and partner in Jacoby & Meyers\\\",\\n    \\\"lawyer and political insider\\\",\\n    \\\"lawyer and white nationalist\\\",\\n    \\\"First Amendment lawyer\\\",\\n    \\\"lawyer and clan chief\\\",\\n    \\\"labor lawyer\\\",\\n    \\\"jailhouse lawyer\\\",\\n    \\\"lawyer and royal commissioner\\\",\\n    \\\"immigration lawyer\\\",\\n    \\\"lawyer and founder of Amnesty International\\\",\\n    \\\"libel lawyer\\\",\\n    \\\"lawyer and first Alabama Supreme Court justice\\\",\\n    \\\"lawyer and Postmaster General\\\",\\n    \\\"lawyer and longtime advisor to Jimmy Carter\\\",\\n    \\\"lawyer and Solicitor General\\\",\\n    'lawyer and \\\"fixer\\\" for the Chicago Mafia',\\n    \\\"lawyer who co founded the National Lawyers Guild\\\",\\n    \\\"lawyer and chief legal counsel to the RNC\\\",\\n    \\\"lawyer and communications executive and ambassador\\\",\\n    \\\"prosecuting lawyer who was the first attorney in the to achieve a murder conviction with exclusively circumstantial evidence\\\",\\n    \\\"lawyer who defended pacifist Ezra Pound\\\",\\n    \\\"lawyer and movie studio chairman\\\",\\n    \\\"civil rights and human rights lawyer\\\",\\n    \\\"lawyer and political advisor\\\",\\n    \\\"divorce lawyer\\\",\\n    \\\"lawyer and official\\\",\\n    \\\"criminal defense lawyer\\\",\\n    \\\"lawyer and dissident\\\",\\n    \\\"lawyer political advisor\\\",\\n    \\\"lawyer and Associate Justice of the Supreme Court of the\\\",\\n    \\\"lawyer civil rights activist\\\",\\n    \\\"lawyer and president of the ICTR\\\",\\n    \\\"lawyer and Governor of Kansas\\\",\\n    \\\"lawyer and Governor of South\\\",\\n    \\\"lawyer at the Department of Justice\\\",\\n    \\\"lawyer and a key figure in the Watergate investigation\\\",\\n    \\\"lawyer and civil rights advocate\\\",\\n    \\\"and criminal lawyer\\\",\\n    \\\"criminal lawyer and\\\",\\n    \\\"criminal lawyer\\\",\\n    \\\"lawyer and environmental activist\\\",\\n    \\\"human rights lawyer and anti apartheid activist\\\",\\n    \\\"lawyer and civil servant\\\",\\n    \\\"lawyer and civic activist\\\",\\n    \\\"lawyer and human rights advocate\\\",\\n    \\\"defense lawyer and prosecutor\\\",\\n    \\\"lawyer and presidential adviser\\\",\\n    \\\"lawyer and parliamentary draftsman\\\",\\n    \\\"landowner and lawyer\\\",\\n    \\\"lawyer and social activist\\\",\\n    \\\"lawyer and government official\\\",\\n    \\\"M\\u0101ori lawyer\\\",\\n    \\\"lawyer and community leader\\\",\\n    \\\"arbitration lawyer\\\",\\n    \\\"disability activist and lawyer\\\",\\n    \\\"lawyer and legal analyst\\\",\\n    \\\"lawyer and labor activist\\\",\\n    \\\"lawyer and eminent domain\\\",\\n    \\\"lawyer and magistrate\\\",\\n    \\\"bankruptcy lawyer\\\",\\n    \\\"pro lawyer\\\",\\n    \\\"lawyer and prisoner rights activist\\\",\\n    \\\"lawyer and anti apartheid activist\\\",\\n    \\\"lawyer and right to die campaigner\\\",\\n    \\\"lawyer and prosecutor\\\",\\n    \\\"intellectual property lawyer and\\\",\\n    \\\"intellectual property lawyer\\\",\\n    \\\"lawyer and policy adviser\\\",\\n    \\\"environmental lawyer\\\",\\n    \\\"abor lawyer\\\",\\n    \\\"human rights lawyer and life peer\\\",\\n    \\\"animal welfare lawyer\\\",\\n    \\\"LGBT rights lawyer\\\",\\n    \\\"reproductive rights activist and lawyer\\\",\\n    \\\"lawyer and political strategist\\\",\\n    \\\"lawyer and LGBT activist\\\",\\n    \\\"defense lawyer\\\",\\n    \\\"trial lawyer\\\",\\n    \\\"civil servant and lawyer\\\",\\n    \\\"lawyer and public official\\\",\\n    \\\"lawyer and activist\\\",\\n    \\\"lawyer and political activist\\\",\\n    \\\"lawyer and life peer\\\",\\n    \\\"lawyer and lobbyist\\\",\\n    \\\"lawyer and feminist\\\",\\n    \\\"civil rights lawyer and activist\\\",\\n    \\\"lawyer and women rights activist\\\",\\n    \\\"human rights activist and lawyer\\\",\\n    \\\"constitutional lawyer\\\",\\n    \\\"human rights lawyer\\\",\\n    \\\"lawyer and public servant\\\",\\n    \\\"and civil rights lawyer\\\",\\n    \\\"civil rights lawyer\\\",\\n    \\\"lawyer and civil rights activist\\\",\\n    \\\"lawyer and human rights activist\\\",\\n    \\\"tax lawyer and\\\",\\n    \\\"and Native rights lawyer\\\",\\n    \\\"anti segregation lawyer and\\\",\\n    \\\"lawyer and\\\",\\n    \\\"and lawyer\\\",\\n    \\\"lawyer\\\",\\n]\\n\\narts = [\\\"for the Grateful Dead\\\", \\\"to the stars\\\"]  # before politics_govt_law\\nsports = []\\nsciences = []\\n\\nbusiness_farming = []\\nacademia_humanities = []\\nlaw_enf_military_operator = []\\nspiritual = []\\nsocial = []\\ncrime = [\\\"gangland criminal\\\", \\\"disbarred\\\"]\\nevent_record_other = []\\nother_species = []\";\n",
       "                var nbb_cells = Jupyter.notebook.get_cells();\n",
       "                for (var i = 0; i < nbb_cells.length; ++i) {\n",
       "                    if (nbb_cells[i].input_prompt_number == nbb_cell_id) {\n",
       "                        if (nbb_cells[i].get_text() == nbb_unformatted_code) {\n",
       "                             nbb_cells[i].set_text(nbb_formatted_code);\n",
       "                        }\n",
       "                        break;\n",
       "                    }\n",
       "                }\n",
       "            }, 500);\n",
       "            "
      ],
      "text/plain": [
       "<IPython.core.display.Javascript object>"
      ]
     },
     "metadata": {},
     "output_type": "display_data"
    }
   ],
   "source": [
    "# Creating lists for each category\n",
    "politics_govt_law = [\n",
    "    \"public interest lawyer\",\n",
    "    \"lawyer and anti Apartheid activist\",\n",
    "    \"lawyer and Chief Justice of\",\n",
    "    \"lawyer for left wing clients and causes\",\n",
    "    \"lawyer and key witness in the trial of Willem Holleeder\",\n",
    "    \"Alabama state senator and lawyer\",\n",
    "    \"labor lawyer and women rights advocate\",\n",
    "    \"lawyer who fought for equitable access to legal services\",\n",
    "    \"lawyer who defended dissidents\",\n",
    "    \"defense lawyer for Saddam Hussein\",\n",
    "    \"lawyer and civil liberties activist\",\n",
    "    \"lawyer and former Lord of Appeal\",\n",
    "    \"trial lawyer and political fundraiser\",\n",
    "    \"trial lawyer and political power broker\",\n",
    "    \"activist and lawyer\",\n",
    "    \"pro life activist and lawyer\",\n",
    "    \"South lawyer\",\n",
    "    \"lawyer and partner in Jacoby & Meyers\",\n",
    "    \"lawyer and political insider\",\n",
    "    \"lawyer and white nationalist\",\n",
    "    \"First Amendment lawyer\",\n",
    "    \"lawyer and clan chief\",\n",
    "    \"labor lawyer\",\n",
    "    \"jailhouse lawyer\",\n",
    "    \"lawyer and royal commissioner\",\n",
    "    \"immigration lawyer\",\n",
    "    \"lawyer and founder of Amnesty International\",\n",
    "    \"libel lawyer\",\n",
    "    \"lawyer and first Alabama Supreme Court justice\",\n",
    "    \"lawyer and Postmaster General\",\n",
    "    \"lawyer and longtime advisor to Jimmy Carter\",\n",
    "    \"lawyer and Solicitor General\",\n",
    "    'lawyer and \"fixer\" for the Chicago Mafia',\n",
    "    \"lawyer who co founded the National Lawyers Guild\",\n",
    "    \"lawyer and chief legal counsel to the RNC\",\n",
    "    \"lawyer and communications executive and ambassador\",\n",
    "    \"prosecuting lawyer who was the first attorney in the to achieve a murder conviction with exclusively circumstantial evidence\",\n",
    "    \"lawyer who defended pacifist Ezra Pound\",\n",
    "    \"lawyer and movie studio chairman\",\n",
    "    \"civil rights and human rights lawyer\",\n",
    "    \"lawyer and political advisor\",\n",
    "    \"divorce lawyer\",\n",
    "    \"lawyer and official\",\n",
    "    \"criminal defense lawyer\",\n",
    "    \"lawyer and dissident\",\n",
    "    \"lawyer political advisor\",\n",
    "    \"lawyer and Associate Justice of the Supreme Court of the\",\n",
    "    \"lawyer civil rights activist\",\n",
    "    \"lawyer and president of the ICTR\",\n",
    "    \"lawyer and Governor of Kansas\",\n",
    "    \"lawyer and Governor of South\",\n",
    "    \"lawyer at the Department of Justice\",\n",
    "    \"lawyer and a key figure in the Watergate investigation\",\n",
    "    \"lawyer and civil rights advocate\",\n",
    "    \"and criminal lawyer\",\n",
    "    \"criminal lawyer and\",\n",
    "    \"criminal lawyer\",\n",
    "    \"lawyer and environmental activist\",\n",
    "    \"human rights lawyer and anti apartheid activist\",\n",
    "    \"lawyer and civil servant\",\n",
    "    \"lawyer and civic activist\",\n",
    "    \"lawyer and human rights advocate\",\n",
    "    \"defense lawyer and prosecutor\",\n",
    "    \"lawyer and presidential adviser\",\n",
    "    \"lawyer and parliamentary draftsman\",\n",
    "    \"landowner and lawyer\",\n",
    "    \"lawyer and social activist\",\n",
    "    \"lawyer and government official\",\n",
    "    \"Māori lawyer\",\n",
    "    \"lawyer and community leader\",\n",
    "    \"arbitration lawyer\",\n",
    "    \"disability activist and lawyer\",\n",
    "    \"lawyer and legal analyst\",\n",
    "    \"lawyer and labor activist\",\n",
    "    \"lawyer and eminent domain\",\n",
    "    \"lawyer and magistrate\",\n",
    "    \"bankruptcy lawyer\",\n",
    "    \"pro lawyer\",\n",
    "    \"lawyer and prisoner rights activist\",\n",
    "    \"lawyer and anti apartheid activist\",\n",
    "    \"lawyer and right to die campaigner\",\n",
    "    \"lawyer and prosecutor\",\n",
    "    \"intellectual property lawyer and\",\n",
    "    \"intellectual property lawyer\",\n",
    "    \"lawyer and policy adviser\",\n",
    "    \"environmental lawyer\",\n",
    "    \"abor lawyer\",\n",
    "    \"human rights lawyer and life peer\",\n",
    "    \"animal welfare lawyer\",\n",
    "    \"LGBT rights lawyer\",\n",
    "    \"reproductive rights activist and lawyer\",\n",
    "    \"lawyer and political strategist\",\n",
    "    \"lawyer and LGBT activist\",\n",
    "    \"defense lawyer\",\n",
    "    \"trial lawyer\",\n",
    "    \"civil servant and lawyer\",\n",
    "    \"lawyer and public official\",\n",
    "    \"lawyer and activist\",\n",
    "    \"lawyer and political activist\",\n",
    "    \"lawyer and life peer\",\n",
    "    \"lawyer and lobbyist\",\n",
    "    \"lawyer and feminist\",\n",
    "    \"civil rights lawyer and activist\",\n",
    "    \"lawyer and women rights activist\",\n",
    "    \"human rights activist and lawyer\",\n",
    "    \"constitutional lawyer\",\n",
    "    \"human rights lawyer\",\n",
    "    \"lawyer and public servant\",\n",
    "    \"and civil rights lawyer\",\n",
    "    \"civil rights lawyer\",\n",
    "    \"lawyer and civil rights activist\",\n",
    "    \"lawyer and human rights activist\",\n",
    "    \"tax lawyer and\",\n",
    "    \"and Native rights lawyer\",\n",
    "    \"anti segregation lawyer and\",\n",
    "    \"lawyer and\",\n",
    "    \"and lawyer\",\n",
    "    \"lawyer\",\n",
    "]\n",
    "\n",
    "arts = [\"for the Grateful Dead\", \"to the stars\"]  # before politics_govt_law\n",
    "sports = []\n",
    "sciences = []\n",
    "\n",
    "business_farming = []\n",
    "academia_humanities = []\n",
    "law_enf_military_operator = []\n",
    "spiritual = []\n",
    "social = []\n",
    "crime = [\"gangland criminal\", \"disbarred\"]\n",
    "event_record_other = []\n",
    "other_species = []"
   ]
  },
  {
   "cell_type": "markdown",
   "id": "b590d52d",
   "metadata": {},
   "source": [
    "#### Creating `known_for_dict` Dictionary of Category Keys and Specific Role Lists of Values"
   ]
  },
  {
   "cell_type": "code",
   "execution_count": 102,
   "id": "8ff8dad4",
   "metadata": {},
   "outputs": [
    {
     "data": {
      "application/javascript": [
       "\n",
       "            setTimeout(function() {\n",
       "                var nbb_cell_id = 102;\n",
       "                var nbb_unformatted_code = \"# Combining separate lists into one dictionary\\nknown_for_dict = {\\n    \\\"social\\\": social,\\n    \\\"spiritual\\\": spiritual,\\n    \\\"academia_humanities\\\": academia_humanities,\\n    \\\"business_farming\\\": business_farming,\\n    \\\"sciences\\\": sciences,\\n    \\\"arts\\\": arts,\\n    \\\"politics_govt_law\\\": politics_govt_law,\\n    \\\"law_enf_military_operator\\\": law_enf_military_operator,\\n    \\\"crime\\\": crime,\\n    \\\"event_record_other\\\": event_record_other,\\n    \\\"other_species\\\": other_species,\\n    \\\"sports\\\": sports,\\n}\";\n",
       "                var nbb_formatted_code = \"# Combining separate lists into one dictionary\\nknown_for_dict = {\\n    \\\"social\\\": social,\\n    \\\"spiritual\\\": spiritual,\\n    \\\"academia_humanities\\\": academia_humanities,\\n    \\\"business_farming\\\": business_farming,\\n    \\\"sciences\\\": sciences,\\n    \\\"arts\\\": arts,\\n    \\\"politics_govt_law\\\": politics_govt_law,\\n    \\\"law_enf_military_operator\\\": law_enf_military_operator,\\n    \\\"crime\\\": crime,\\n    \\\"event_record_other\\\": event_record_other,\\n    \\\"other_species\\\": other_species,\\n    \\\"sports\\\": sports,\\n}\";\n",
       "                var nbb_cells = Jupyter.notebook.get_cells();\n",
       "                for (var i = 0; i < nbb_cells.length; ++i) {\n",
       "                    if (nbb_cells[i].input_prompt_number == nbb_cell_id) {\n",
       "                        if (nbb_cells[i].get_text() == nbb_unformatted_code) {\n",
       "                             nbb_cells[i].set_text(nbb_formatted_code);\n",
       "                        }\n",
       "                        break;\n",
       "                    }\n",
       "                }\n",
       "            }, 500);\n",
       "            "
      ],
      "text/plain": [
       "<IPython.core.display.Javascript object>"
      ]
     },
     "metadata": {},
     "output_type": "display_data"
    }
   ],
   "source": [
    "# Combining separate lists into one dictionary\n",
    "known_for_dict = {\n",
    "    \"social\": social,\n",
    "    \"spiritual\": spiritual,\n",
    "    \"academia_humanities\": academia_humanities,\n",
    "    \"business_farming\": business_farming,\n",
    "    \"sciences\": sciences,\n",
    "    \"arts\": arts,\n",
    "    \"politics_govt_law\": politics_govt_law,\n",
    "    \"law_enf_military_operator\": law_enf_military_operator,\n",
    "    \"crime\": crime,\n",
    "    \"event_record_other\": event_record_other,\n",
    "    \"other_species\": other_species,\n",
    "    \"sports\": sports,\n",
    "}"
   ]
  },
  {
   "cell_type": "markdown",
   "id": "13778fb5",
   "metadata": {},
   "source": [
    "#### Extracting Category from `info_2`"
   ]
  },
  {
   "cell_type": "code",
   "execution_count": 103,
   "id": "1f516fc0",
   "metadata": {},
   "outputs": [
    {
     "name": "stdout",
     "output_type": "stream",
     "text": [
      "CPU times: total: 1min 11s\n",
      "Wall time: 1min 11s\n"
     ]
    },
    {
     "data": {
      "text/html": [
       "<div>\n",
       "<style scoped>\n",
       "    .dataframe tbody tr th:only-of-type {\n",
       "        vertical-align: middle;\n",
       "    }\n",
       "\n",
       "    .dataframe tbody tr th {\n",
       "        vertical-align: top;\n",
       "    }\n",
       "\n",
       "    .dataframe thead th {\n",
       "        text-align: right;\n",
       "    }\n",
       "</style>\n",
       "<table border=\"1\" class=\"dataframe\">\n",
       "  <thead>\n",
       "    <tr style=\"text-align: right;\">\n",
       "      <th></th>\n",
       "      <th>day</th>\n",
       "      <th>name</th>\n",
       "      <th>info</th>\n",
       "      <th>link</th>\n",
       "      <th>num_references</th>\n",
       "      <th>year</th>\n",
       "      <th>month</th>\n",
       "      <th>info_parenth</th>\n",
       "      <th>info_1</th>\n",
       "      <th>info_2</th>\n",
       "      <th>info_3</th>\n",
       "      <th>info_4</th>\n",
       "      <th>info_5</th>\n",
       "      <th>info_6</th>\n",
       "      <th>info_7</th>\n",
       "      <th>info_8</th>\n",
       "      <th>info_9</th>\n",
       "      <th>info_10</th>\n",
       "      <th>info_11</th>\n",
       "      <th>age</th>\n",
       "      <th>cause_of_death</th>\n",
       "      <th>place_1</th>\n",
       "      <th>place_2</th>\n",
       "      <th>info_parenth_copy</th>\n",
       "      <th>log_num_references</th>\n",
       "      <th>sciences</th>\n",
       "      <th>social</th>\n",
       "      <th>spiritual</th>\n",
       "      <th>academia_humanities</th>\n",
       "      <th>business_farming</th>\n",
       "      <th>arts</th>\n",
       "      <th>sports</th>\n",
       "      <th>law_enf_military_operator</th>\n",
       "      <th>politics_govt_law</th>\n",
       "      <th>crime</th>\n",
       "      <th>event_record_other</th>\n",
       "      <th>other_species</th>\n",
       "      <th>num_categories</th>\n",
       "    </tr>\n",
       "  </thead>\n",
       "  <tbody>\n",
       "    <tr>\n",
       "      <th>44058</th>\n",
       "      <td>15</td>\n",
       "      <td>Tom Greenwell</td>\n",
       "      <td>, 57, American judge, suicide by gunshot.</td>\n",
       "      <td>https://en.wikipedia.org/wiki/Tom_Greenwell</td>\n",
       "      <td>8</td>\n",
       "      <td>2013</td>\n",
       "      <td>July</td>\n",
       "      <td>None</td>\n",
       "      <td>None</td>\n",
       "      <td></td>\n",
       "      <td>suicide by gunshot</td>\n",
       "      <td>None</td>\n",
       "      <td>None</td>\n",
       "      <td>None</td>\n",
       "      <td>None</td>\n",
       "      <td>None</td>\n",
       "      <td>None</td>\n",
       "      <td>None</td>\n",
       "      <td>None</td>\n",
       "      <td>57.0</td>\n",
       "      <td>None</td>\n",
       "      <td>United States of America</td>\n",
       "      <td>None</td>\n",
       "      <td>None</td>\n",
       "      <td>2.197225</td>\n",
       "      <td>0</td>\n",
       "      <td>0</td>\n",
       "      <td>0</td>\n",
       "      <td>0</td>\n",
       "      <td>0</td>\n",
       "      <td>0</td>\n",
       "      <td>0</td>\n",
       "      <td>0</td>\n",
       "      <td>1</td>\n",
       "      <td>0</td>\n",
       "      <td>0</td>\n",
       "      <td>0</td>\n",
       "      <td>1</td>\n",
       "    </tr>\n",
       "    <tr>\n",
       "      <th>97467</th>\n",
       "      <td>30</td>\n",
       "      <td>Ricardo Alarcón</td>\n",
       "      <td>, 84, Cuban politician, minister of foreign affairs .</td>\n",
       "      <td>https://en.wikipedia.org/wiki/Ricardo_Alarc%C3%B3n</td>\n",
       "      <td>20</td>\n",
       "      <td>2022</td>\n",
       "      <td>April</td>\n",
       "      <td>and president of the National Assembly of People Power</td>\n",
       "      <td>None</td>\n",
       "      <td></td>\n",
       "      <td>minister of foreign affairs</td>\n",
       "      <td>None</td>\n",
       "      <td>None</td>\n",
       "      <td>None</td>\n",
       "      <td>None</td>\n",
       "      <td>None</td>\n",
       "      <td>None</td>\n",
       "      <td>None</td>\n",
       "      <td>None</td>\n",
       "      <td>84.0</td>\n",
       "      <td>None</td>\n",
       "      <td>Cuba</td>\n",
       "      <td>None</td>\n",
       "      <td>1992 1993 and president of the National Assembly of People Power 1993 2013</td>\n",
       "      <td>3.044522</td>\n",
       "      <td>0</td>\n",
       "      <td>0</td>\n",
       "      <td>0</td>\n",
       "      <td>0</td>\n",
       "      <td>0</td>\n",
       "      <td>0</td>\n",
       "      <td>0</td>\n",
       "      <td>0</td>\n",
       "      <td>1</td>\n",
       "      <td>0</td>\n",
       "      <td>0</td>\n",
       "      <td>0</td>\n",
       "      <td>1</td>\n",
       "    </tr>\n",
       "  </tbody>\n",
       "</table>\n",
       "</div>"
      ],
      "text/plain": [
       "      day             name  \\\n",
       "44058  15    Tom Greenwell   \n",
       "97467  30  Ricardo Alarcón   \n",
       "\n",
       "                                                        info  \\\n",
       "44058              , 57, American judge, suicide by gunshot.   \n",
       "97467  , 84, Cuban politician, minister of foreign affairs .   \n",
       "\n",
       "                                                     link  num_references  \\\n",
       "44058         https://en.wikipedia.org/wiki/Tom_Greenwell               8   \n",
       "97467  https://en.wikipedia.org/wiki/Ricardo_Alarc%C3%B3n              20   \n",
       "\n",
       "       year  month                                            info_parenth  \\\n",
       "44058  2013   July                                                    None   \n",
       "97467  2022  April  and president of the National Assembly of People Power   \n",
       "\n",
       "      info_1 info_2                       info_3 info_4 info_5 info_6 info_7  \\\n",
       "44058   None                  suicide by gunshot   None   None   None   None   \n",
       "97467   None         minister of foreign affairs   None   None   None   None   \n",
       "\n",
       "      info_8 info_9 info_10 info_11   age cause_of_death  \\\n",
       "44058   None   None    None    None  57.0           None   \n",
       "97467   None   None    None    None  84.0           None   \n",
       "\n",
       "                        place_1 place_2  \\\n",
       "44058  United States of America    None   \n",
       "97467                      Cuba    None   \n",
       "\n",
       "                                                                info_parenth_copy  \\\n",
       "44058                                                                        None   \n",
       "97467  1992 1993 and president of the National Assembly of People Power 1993 2013   \n",
       "\n",
       "       log_num_references  sciences  social  spiritual  academia_humanities  \\\n",
       "44058            2.197225         0       0          0                    0   \n",
       "97467            3.044522         0       0          0                    0   \n",
       "\n",
       "       business_farming  arts  sports  law_enf_military_operator  \\\n",
       "44058                 0     0       0                          0   \n",
       "97467                 0     0       0                          0   \n",
       "\n",
       "       politics_govt_law  crime  event_record_other  other_species  \\\n",
       "44058                  1      0                   0              0   \n",
       "97467                  1      0                   0              0   \n",
       "\n",
       "       num_categories  \n",
       "44058               1  \n",
       "97467               1  "
      ]
     },
     "execution_count": 103,
     "metadata": {},
     "output_type": "execute_result"
    },
    {
     "data": {
      "application/javascript": [
       "\n",
       "            setTimeout(function() {\n",
       "                var nbb_cell_id = 103;\n",
       "                var nbb_unformatted_code = \"%%time\\n\\n# Dictionary version\\nsearch_dict = known_for_dict\\n\\n# Column to check\\ncolumn = 'info_2'\\n\\n# Dataframe\\ndataframe = df[column].notna()\\n\\n# For loop to find role in column and extract it as category\\nfor category, category_lst in search_dict.items():\\n    for role in category_lst:\\n        for index in dataframe.index:\\n            item = df.loc[index, column]\\n            if item:\\n                if role in item:\\n                    df.loc[index, category] = 1\\n                    df.loc[index, column] = item.replace(role, '').strip()\\n\\n# Updating num_categories\\ndf[\\\"num_categories\\\"] = df[known_for_dict.keys()].sum(axis=1)\\n\\n# Checking a sample of rows\\ndf[df['politics_govt_law'] ==1].sample(2)\";\n",
       "                var nbb_formatted_code = \"%%time\\n\\n# Dictionary version\\nsearch_dict = known_for_dict\\n\\n# Column to check\\ncolumn = 'info_2'\\n\\n# Dataframe\\ndataframe = df[column].notna()\\n\\n# For loop to find role in column and extract it as category\\nfor category, category_lst in search_dict.items():\\n    for role in category_lst:\\n        for index in dataframe.index:\\n            item = df.loc[index, column]\\n            if item:\\n                if role in item:\\n                    df.loc[index, category] = 1\\n                    df.loc[index, column] = item.replace(role, '').strip()\\n\\n# Updating num_categories\\ndf[\\\"num_categories\\\"] = df[known_for_dict.keys()].sum(axis=1)\\n\\n# Checking a sample of rows\\ndf[df['politics_govt_law'] ==1].sample(2)\";\n",
       "                var nbb_cells = Jupyter.notebook.get_cells();\n",
       "                for (var i = 0; i < nbb_cells.length; ++i) {\n",
       "                    if (nbb_cells[i].input_prompt_number == nbb_cell_id) {\n",
       "                        if (nbb_cells[i].get_text() == nbb_unformatted_code) {\n",
       "                             nbb_cells[i].set_text(nbb_formatted_code);\n",
       "                        }\n",
       "                        break;\n",
       "                    }\n",
       "                }\n",
       "            }, 500);\n",
       "            "
      ],
      "text/plain": [
       "<IPython.core.display.Javascript object>"
      ]
     },
     "metadata": {},
     "output_type": "display_data"
    }
   ],
   "source": [
    "%%time\n",
    "\n",
    "# Dictionary version\n",
    "search_dict = known_for_dict\n",
    "\n",
    "# Column to check\n",
    "column = 'info_2'\n",
    "\n",
    "# Dataframe\n",
    "dataframe = df[column].notna()\n",
    "\n",
    "# For loop to find role in column and extract it as category\n",
    "for category, category_lst in search_dict.items():\n",
    "    for role in category_lst:\n",
    "        for index in dataframe.index:\n",
    "            item = df.loc[index, column]\n",
    "            if item:\n",
    "                if role in item:\n",
    "                    df.loc[index, category] = 1\n",
    "                    df.loc[index, column] = item.replace(role, '').strip()\n",
    "\n",
    "# Updating num_categories\n",
    "df[\"num_categories\"] = df[known_for_dict.keys()].sum(axis=1)\n",
    "\n",
    "# Checking a sample of rows\n",
    "df[df['politics_govt_law'] ==1].sample(2)"
   ]
  },
  {
   "cell_type": "markdown",
   "id": "ce7ffcd1",
   "metadata": {},
   "source": [
    "#### Checking the Number of Rows without a First Category"
   ]
  },
  {
   "cell_type": "code",
   "execution_count": 104,
   "id": "905ad618",
   "metadata": {},
   "outputs": [
    {
     "name": "stdout",
     "output_type": "stream",
     "text": [
      "There are 40126 entries without any known_for category.\n"
     ]
    },
    {
     "data": {
      "application/javascript": [
       "\n",
       "            setTimeout(function() {\n",
       "                var nbb_cell_id = 104;\n",
       "                var nbb_unformatted_code = \"#### Checking the number of rows without a first category\\nprint(\\n    f'There are {len(df[df[\\\"num_categories\\\"]==0])} entries without any known_for category.'\\n)\";\n",
       "                var nbb_formatted_code = \"#### Checking the number of rows without a first category\\nprint(\\n    f'There are {len(df[df[\\\"num_categories\\\"]==0])} entries without any known_for category.'\\n)\";\n",
       "                var nbb_cells = Jupyter.notebook.get_cells();\n",
       "                for (var i = 0; i < nbb_cells.length; ++i) {\n",
       "                    if (nbb_cells[i].input_prompt_number == nbb_cell_id) {\n",
       "                        if (nbb_cells[i].get_text() == nbb_unformatted_code) {\n",
       "                             nbb_cells[i].set_text(nbb_formatted_code);\n",
       "                        }\n",
       "                        break;\n",
       "                    }\n",
       "                }\n",
       "            }, 500);\n",
       "            "
      ],
      "text/plain": [
       "<IPython.core.display.Javascript object>"
      ]
     },
     "metadata": {},
     "output_type": "display_data"
    }
   ],
   "source": [
    "#### Checking the number of rows without a first category\n",
    "print(\n",
    "    f'There are {len(df[df[\"num_categories\"]==0])} entries without any known_for category.'\n",
    ")"
   ]
  },
  {
   "cell_type": "markdown",
   "id": "a66f4ffe",
   "metadata": {},
   "source": [
    "#### Observations:\n",
    "- We will proceed to rebuild `known_for_dict` for the next iteration."
   ]
  },
  {
   "cell_type": "markdown",
   "id": "d245002e",
   "metadata": {},
   "source": [
    "#### Finding `known_for` Roles in `info_2`"
   ]
  },
  {
   "cell_type": "code",
   "execution_count": 105,
   "id": "d52c7f49",
   "metadata": {},
   "outputs": [
    {
     "data": {
      "application/javascript": [
       "\n",
       "            setTimeout(function() {\n",
       "                var nbb_cell_id = 105;\n",
       "                var nbb_unformatted_code = \"# Obtaining values for column and their counts\\nroles_list = df[\\\"info_2\\\"].value_counts(ascending=True).index.tolist()\";\n",
       "                var nbb_formatted_code = \"# Obtaining values for column and their counts\\nroles_list = df[\\\"info_2\\\"].value_counts(ascending=True).index.tolist()\";\n",
       "                var nbb_cells = Jupyter.notebook.get_cells();\n",
       "                for (var i = 0; i < nbb_cells.length; ++i) {\n",
       "                    if (nbb_cells[i].input_prompt_number == nbb_cell_id) {\n",
       "                        if (nbb_cells[i].get_text() == nbb_unformatted_code) {\n",
       "                             nbb_cells[i].set_text(nbb_formatted_code);\n",
       "                        }\n",
       "                        break;\n",
       "                    }\n",
       "                }\n",
       "            }, 500);\n",
       "            "
      ],
      "text/plain": [
       "<IPython.core.display.Javascript object>"
      ]
     },
     "metadata": {},
     "output_type": "display_data"
    }
   ],
   "source": [
    "# Obtaining values for column and their counts\n",
    "roles_list = df[\"info_2\"].value_counts(ascending=True).index.tolist()"
   ]
  },
  {
   "cell_type": "code",
   "execution_count": 106,
   "id": "ef2c12cc",
   "metadata": {},
   "outputs": [
    {
     "data": {
      "application/javascript": [
       "\n",
       "            setTimeout(function() {\n",
       "                var nbb_cell_id = 106;\n",
       "                var nbb_unformatted_code = \"# # Code to check each value\\n# roles_list.pop()\";\n",
       "                var nbb_formatted_code = \"# # Code to check each value\\n# roles_list.pop()\";\n",
       "                var nbb_cells = Jupyter.notebook.get_cells();\n",
       "                for (var i = 0; i < nbb_cells.length; ++i) {\n",
       "                    if (nbb_cells[i].input_prompt_number == nbb_cell_id) {\n",
       "                        if (nbb_cells[i].get_text() == nbb_unformatted_code) {\n",
       "                             nbb_cells[i].set_text(nbb_formatted_code);\n",
       "                        }\n",
       "                        break;\n",
       "                    }\n",
       "                }\n",
       "            }, 500);\n",
       "            "
      ],
      "text/plain": [
       "<IPython.core.display.Javascript object>"
      ]
     },
     "metadata": {},
     "output_type": "display_data"
    }
   ],
   "source": [
    "# # Code to check each value\n",
    "# roles_list.pop()"
   ]
  },
  {
   "cell_type": "code",
   "execution_count": 107,
   "id": "0a25069a",
   "metadata": {},
   "outputs": [
    {
     "data": {
      "application/javascript": [
       "\n",
       "            setTimeout(function() {\n",
       "                var nbb_cell_id = 107;\n",
       "                var nbb_unformatted_code = \"# # Create specific_roles_list for above popped value\\n# specific_roles_list = (\\n#     df.loc[\\n#         [\\n#             index\\n#             for index in df.index\\n#             if \\\"professional wrestler\\\" in df.loc[index, \\\"info\\\"]\\n#         ],\\n#         \\\"info_2\\\",\\n#     ]\\n#     .value_counts()\\n#     .index.tolist()\\n# )\";\n",
       "                var nbb_formatted_code = \"# # Create specific_roles_list for above popped value\\n# specific_roles_list = (\\n#     df.loc[\\n#         [\\n#             index\\n#             for index in df.index\\n#             if \\\"professional wrestler\\\" in df.loc[index, \\\"info\\\"]\\n#         ],\\n#         \\\"info_2\\\",\\n#     ]\\n#     .value_counts()\\n#     .index.tolist()\\n# )\";\n",
       "                var nbb_cells = Jupyter.notebook.get_cells();\n",
       "                for (var i = 0; i < nbb_cells.length; ++i) {\n",
       "                    if (nbb_cells[i].input_prompt_number == nbb_cell_id) {\n",
       "                        if (nbb_cells[i].get_text() == nbb_unformatted_code) {\n",
       "                             nbb_cells[i].set_text(nbb_formatted_code);\n",
       "                        }\n",
       "                        break;\n",
       "                    }\n",
       "                }\n",
       "            }, 500);\n",
       "            "
      ],
      "text/plain": [
       "<IPython.core.display.Javascript object>"
      ]
     },
     "metadata": {},
     "output_type": "display_data"
    }
   ],
   "source": [
    "# # Create specific_roles_list for above popped value\n",
    "# specific_roles_list = (\n",
    "#     df.loc[\n",
    "#         [\n",
    "#             index\n",
    "#             for index in df.index\n",
    "#             if \"professional wrestler\" in df.loc[index, \"info\"]\n",
    "#         ],\n",
    "#         \"info_2\",\n",
    "#     ]\n",
    "#     .value_counts()\n",
    "#     .index.tolist()\n",
    "# )"
   ]
  },
  {
   "cell_type": "code",
   "execution_count": 108,
   "id": "b80003f0",
   "metadata": {},
   "outputs": [
    {
     "data": {
      "application/javascript": [
       "\n",
       "            setTimeout(function() {\n",
       "                var nbb_cell_id = 108;\n",
       "                var nbb_unformatted_code = \"# # Code to check each specific value\\n# specific_roles_list.pop()\";\n",
       "                var nbb_formatted_code = \"# # Code to check each specific value\\n# specific_roles_list.pop()\";\n",
       "                var nbb_cells = Jupyter.notebook.get_cells();\n",
       "                for (var i = 0; i < nbb_cells.length; ++i) {\n",
       "                    if (nbb_cells[i].input_prompt_number == nbb_cell_id) {\n",
       "                        if (nbb_cells[i].get_text() == nbb_unformatted_code) {\n",
       "                             nbb_cells[i].set_text(nbb_formatted_code);\n",
       "                        }\n",
       "                        break;\n",
       "                    }\n",
       "                }\n",
       "            }, 500);\n",
       "            "
      ],
      "text/plain": [
       "<IPython.core.display.Javascript object>"
      ]
     },
     "metadata": {},
     "output_type": "display_data"
    }
   ],
   "source": [
    "# # Code to check each specific value\n",
    "# specific_roles_list.pop()"
   ]
  },
  {
   "cell_type": "code",
   "execution_count": 109,
   "id": "d24403db",
   "metadata": {},
   "outputs": [
    {
     "data": {
      "application/javascript": [
       "\n",
       "            setTimeout(function() {\n",
       "                var nbb_cell_id = 109;\n",
       "                var nbb_unformatted_code = \"# # Example code to quick-check a specific entry\\n# df[df[\\\"info_2\\\"] == \\\"professional wrestler and valet\\\"]\";\n",
       "                var nbb_formatted_code = \"# # Example code to quick-check a specific entry\\n# df[df[\\\"info_2\\\"] == \\\"professional wrestler and valet\\\"]\";\n",
       "                var nbb_cells = Jupyter.notebook.get_cells();\n",
       "                for (var i = 0; i < nbb_cells.length; ++i) {\n",
       "                    if (nbb_cells[i].input_prompt_number == nbb_cell_id) {\n",
       "                        if (nbb_cells[i].get_text() == nbb_unformatted_code) {\n",
       "                             nbb_cells[i].set_text(nbb_formatted_code);\n",
       "                        }\n",
       "                        break;\n",
       "                    }\n",
       "                }\n",
       "            }, 500);\n",
       "            "
      ],
      "text/plain": [
       "<IPython.core.display.Javascript object>"
      ]
     },
     "metadata": {},
     "output_type": "display_data"
    }
   ],
   "source": [
    "# # Example code to quick-check a specific entry\n",
    "# df[df[\"info_2\"] == \"professional wrestler and valet\"]"
   ]
  },
  {
   "cell_type": "code",
   "execution_count": 110,
   "id": "aad828bb",
   "metadata": {},
   "outputs": [
    {
     "data": {
      "application/javascript": [
       "\n",
       "            setTimeout(function() {\n",
       "                var nbb_cell_id = 110;\n",
       "                var nbb_unformatted_code = \"# # Hard-coding cause_of_death for entry with value in info_2\\n# index = df[df[\\\"link\\\"] == \\\"https://en.wikipedia.org/wiki/Tony_Parisi_(wrestler)\\\"].index\\n# df.loc[index, \\\"cause_of_death\\\"] = \\\"aneurysm\\\"\";\n",
       "                var nbb_formatted_code = \"# # Hard-coding cause_of_death for entry with value in info_2\\n# index = df[df[\\\"link\\\"] == \\\"https://en.wikipedia.org/wiki/Tony_Parisi_(wrestler)\\\"].index\\n# df.loc[index, \\\"cause_of_death\\\"] = \\\"aneurysm\\\"\";\n",
       "                var nbb_cells = Jupyter.notebook.get_cells();\n",
       "                for (var i = 0; i < nbb_cells.length; ++i) {\n",
       "                    if (nbb_cells[i].input_prompt_number == nbb_cell_id) {\n",
       "                        if (nbb_cells[i].get_text() == nbb_unformatted_code) {\n",
       "                             nbb_cells[i].set_text(nbb_formatted_code);\n",
       "                        }\n",
       "                        break;\n",
       "                    }\n",
       "                }\n",
       "            }, 500);\n",
       "            "
      ],
      "text/plain": [
       "<IPython.core.display.Javascript object>"
      ]
     },
     "metadata": {},
     "output_type": "display_data"
    }
   ],
   "source": [
    "# # Hard-coding cause_of_death for entry with value in info_2\n",
    "# index = df[df[\"link\"] == \"https://en.wikipedia.org/wiki/Tony_Parisi_(wrestler)\"].index\n",
    "# df.loc[index, \"cause_of_death\"] = \"aneurysm\""
   ]
  },
  {
   "cell_type": "markdown",
   "id": "3b32c9b0",
   "metadata": {},
   "source": [
    "#### Creating Lists for Each `known_for` Category"
   ]
  },
  {
   "cell_type": "code",
   "execution_count": 111,
   "id": "9f62b551",
   "metadata": {},
   "outputs": [
    {
     "data": {
      "application/javascript": [
       "\n",
       "            setTimeout(function() {\n",
       "                var nbb_cell_id = 111;\n",
       "                var nbb_unformatted_code = \"# Creating lists for each category\\npolitics_govt_law = []\\n\\narts = []\\nsports = [\\n    \\\"professional wrestler and kickboxer\\\",\\n    \\\"women professional wrestler\\\",\\n    \\\"professional wrestler known as liver transplant\\\",\\n    \\\"professional wrestler known as aneurysm\\\",\\n    \\\"professional wrestler of descent\\\",\\n    'professional wrestler best known as \\\"Hercules Hernandez\\\" or simply just \\\"Hercules\\\"',\\n    'professional wrestler best known as \\\"Moondog King\\\"',\\n    'professional wrestler known as \\\"The Crusher\\\"',\\n    \\\"professional wrestler and booker\\\",\\n    \\\"professional wrestler for the World Wrestling Federation\\\",\\n    'Olympic judo bronze medalist and professional wrestler known as \\\"Bad News Brown\\\"',\\n    'professional wrestler known as \\\"The Black Shadow\\\"',\\n    \\\"professional wrestler during the Great Depression era\\\",\\n    \\\"WWE professional wrestler\\\",\\n    'professional wrestler known as \\\"Biff Wellington\\\"',\\n    \\\"sumo and professional wrestler\\\",\\n    \\\"professional wrestler and talent agent\\\",\\n    \\\"professional wrestler of the s s famous for feuds with Buddy Rogers\\\",\\n    \\\"bodybuilder and professional wrestler\\\",\\n    \\\"professional wrestler and wrestling manager\\\",\\n    \\\"professional wrestler and valet\\\",\\n    \\\"professional wrestler and referee\\\",\\n    \\\"Hall of Fame professional wrestler and trainer\\\",\\n    \\\"female professional wrestler\\\",\\n    \\\"lucha libre professional wrestler\\\",\\n    \\\"professional wrestler and trainer\\\",\\n    \\\"professional wrestler and promoter\\\",\\n    \\\"professional wrestler and manager\\\",\\n    \\\"Hall of Fame professional wrestler\\\",\\n    \\\"professional wrestler known as\\\",\\n    \\\"professional wrestler and\\\",\\n    \\\"and professional wrestler\\\",\\n    \\\"professional wrestler\\\",\\n]\\nsciences = []\\n\\nbusiness_farming = []\\nacademia_humanities = []\\nlaw_enf_military_operator = []\\nspiritual = []\\nsocial = []\\ncrime = []\\nevent_record_other = []\\nother_species = []\";\n",
       "                var nbb_formatted_code = \"# Creating lists for each category\\npolitics_govt_law = []\\n\\narts = []\\nsports = [\\n    \\\"professional wrestler and kickboxer\\\",\\n    \\\"women professional wrestler\\\",\\n    \\\"professional wrestler known as liver transplant\\\",\\n    \\\"professional wrestler known as aneurysm\\\",\\n    \\\"professional wrestler of descent\\\",\\n    'professional wrestler best known as \\\"Hercules Hernandez\\\" or simply just \\\"Hercules\\\"',\\n    'professional wrestler best known as \\\"Moondog King\\\"',\\n    'professional wrestler known as \\\"The Crusher\\\"',\\n    \\\"professional wrestler and booker\\\",\\n    \\\"professional wrestler for the World Wrestling Federation\\\",\\n    'Olympic judo bronze medalist and professional wrestler known as \\\"Bad News Brown\\\"',\\n    'professional wrestler known as \\\"The Black Shadow\\\"',\\n    \\\"professional wrestler during the Great Depression era\\\",\\n    \\\"WWE professional wrestler\\\",\\n    'professional wrestler known as \\\"Biff Wellington\\\"',\\n    \\\"sumo and professional wrestler\\\",\\n    \\\"professional wrestler and talent agent\\\",\\n    \\\"professional wrestler of the s s famous for feuds with Buddy Rogers\\\",\\n    \\\"bodybuilder and professional wrestler\\\",\\n    \\\"professional wrestler and wrestling manager\\\",\\n    \\\"professional wrestler and valet\\\",\\n    \\\"professional wrestler and referee\\\",\\n    \\\"Hall of Fame professional wrestler and trainer\\\",\\n    \\\"female professional wrestler\\\",\\n    \\\"lucha libre professional wrestler\\\",\\n    \\\"professional wrestler and trainer\\\",\\n    \\\"professional wrestler and promoter\\\",\\n    \\\"professional wrestler and manager\\\",\\n    \\\"Hall of Fame professional wrestler\\\",\\n    \\\"professional wrestler known as\\\",\\n    \\\"professional wrestler and\\\",\\n    \\\"and professional wrestler\\\",\\n    \\\"professional wrestler\\\",\\n]\\nsciences = []\\n\\nbusiness_farming = []\\nacademia_humanities = []\\nlaw_enf_military_operator = []\\nspiritual = []\\nsocial = []\\ncrime = []\\nevent_record_other = []\\nother_species = []\";\n",
       "                var nbb_cells = Jupyter.notebook.get_cells();\n",
       "                for (var i = 0; i < nbb_cells.length; ++i) {\n",
       "                    if (nbb_cells[i].input_prompt_number == nbb_cell_id) {\n",
       "                        if (nbb_cells[i].get_text() == nbb_unformatted_code) {\n",
       "                             nbb_cells[i].set_text(nbb_formatted_code);\n",
       "                        }\n",
       "                        break;\n",
       "                    }\n",
       "                }\n",
       "            }, 500);\n",
       "            "
      ],
      "text/plain": [
       "<IPython.core.display.Javascript object>"
      ]
     },
     "metadata": {},
     "output_type": "display_data"
    }
   ],
   "source": [
    "# Creating lists for each category\n",
    "politics_govt_law = []\n",
    "\n",
    "arts = []\n",
    "sports = [\n",
    "    \"professional wrestler and kickboxer\",\n",
    "    \"women professional wrestler\",\n",
    "    \"professional wrestler known as liver transplant\",\n",
    "    \"professional wrestler known as aneurysm\",\n",
    "    \"professional wrestler of descent\",\n",
    "    'professional wrestler best known as \"Hercules Hernandez\" or simply just \"Hercules\"',\n",
    "    'professional wrestler best known as \"Moondog King\"',\n",
    "    'professional wrestler known as \"The Crusher\"',\n",
    "    \"professional wrestler and booker\",\n",
    "    \"professional wrestler for the World Wrestling Federation\",\n",
    "    'Olympic judo bronze medalist and professional wrestler known as \"Bad News Brown\"',\n",
    "    'professional wrestler known as \"The Black Shadow\"',\n",
    "    \"professional wrestler during the Great Depression era\",\n",
    "    \"WWE professional wrestler\",\n",
    "    'professional wrestler known as \"Biff Wellington\"',\n",
    "    \"sumo and professional wrestler\",\n",
    "    \"professional wrestler and talent agent\",\n",
    "    \"professional wrestler of the s s famous for feuds with Buddy Rogers\",\n",
    "    \"bodybuilder and professional wrestler\",\n",
    "    \"professional wrestler and wrestling manager\",\n",
    "    \"professional wrestler and valet\",\n",
    "    \"professional wrestler and referee\",\n",
    "    \"Hall of Fame professional wrestler and trainer\",\n",
    "    \"female professional wrestler\",\n",
    "    \"lucha libre professional wrestler\",\n",
    "    \"professional wrestler and trainer\",\n",
    "    \"professional wrestler and promoter\",\n",
    "    \"professional wrestler and manager\",\n",
    "    \"Hall of Fame professional wrestler\",\n",
    "    \"professional wrestler known as\",\n",
    "    \"professional wrestler and\",\n",
    "    \"and professional wrestler\",\n",
    "    \"professional wrestler\",\n",
    "]\n",
    "sciences = []\n",
    "\n",
    "business_farming = []\n",
    "academia_humanities = []\n",
    "law_enf_military_operator = []\n",
    "spiritual = []\n",
    "social = []\n",
    "crime = []\n",
    "event_record_other = []\n",
    "other_species = []"
   ]
  },
  {
   "cell_type": "code",
   "execution_count": 112,
   "id": "4b5dfb29",
   "metadata": {},
   "outputs": [
    {
     "data": {
      "application/javascript": [
       "\n",
       "            setTimeout(function() {\n",
       "                var nbb_cell_id = 112;\n",
       "                var nbb_unformatted_code = \"# Hard-coding cause_of_death for entry with value in info_2\\nindex = df[df[\\\"link\\\"] == \\\"https://en.wikipedia.org/wiki/Jumbo_Tsuruta\\\"].index\\ndf.loc[index, \\\"cause_of_death\\\"] = \\\"complications from liver transplant\\\"\";\n",
       "                var nbb_formatted_code = \"# Hard-coding cause_of_death for entry with value in info_2\\nindex = df[df[\\\"link\\\"] == \\\"https://en.wikipedia.org/wiki/Jumbo_Tsuruta\\\"].index\\ndf.loc[index, \\\"cause_of_death\\\"] = \\\"complications from liver transplant\\\"\";\n",
       "                var nbb_cells = Jupyter.notebook.get_cells();\n",
       "                for (var i = 0; i < nbb_cells.length; ++i) {\n",
       "                    if (nbb_cells[i].input_prompt_number == nbb_cell_id) {\n",
       "                        if (nbb_cells[i].get_text() == nbb_unformatted_code) {\n",
       "                             nbb_cells[i].set_text(nbb_formatted_code);\n",
       "                        }\n",
       "                        break;\n",
       "                    }\n",
       "                }\n",
       "            }, 500);\n",
       "            "
      ],
      "text/plain": [
       "<IPython.core.display.Javascript object>"
      ]
     },
     "metadata": {},
     "output_type": "display_data"
    }
   ],
   "source": [
    "# Hard-coding cause_of_death for entry with value in info_2\n",
    "index = df[df[\"link\"] == \"https://en.wikipedia.org/wiki/Jumbo_Tsuruta\"].index\n",
    "df.loc[index, \"cause_of_death\"] = \"complications from liver transplant\""
   ]
  },
  {
   "cell_type": "markdown",
   "id": "e401e58a",
   "metadata": {},
   "source": [
    "#### Creating `known_for_dict` Dictionary of Category Keys and Specific Role Lists of Values"
   ]
  },
  {
   "cell_type": "code",
   "execution_count": 113,
   "id": "c058b154",
   "metadata": {},
   "outputs": [
    {
     "data": {
      "application/javascript": [
       "\n",
       "            setTimeout(function() {\n",
       "                var nbb_cell_id = 113;\n",
       "                var nbb_unformatted_code = \"# Combining separate lists into one dictionary\\nknown_for_dict = {\\n    \\\"social\\\": social,\\n    \\\"spiritual\\\": spiritual,\\n    \\\"academia_humanities\\\": academia_humanities,\\n    \\\"business_farming\\\": business_farming,\\n    \\\"sciences\\\": sciences,\\n    \\\"politics_govt_law\\\": politics_govt_law,\\n    \\\"law_enf_military_operator\\\": law_enf_military_operator,\\n    \\\"crime\\\": crime,\\n    \\\"event_record_other\\\": event_record_other,\\n    \\\"other_species\\\": other_species,\\n    \\\"arts\\\": arts,\\n    \\\"sports\\\": sports,\\n}\";\n",
       "                var nbb_formatted_code = \"# Combining separate lists into one dictionary\\nknown_for_dict = {\\n    \\\"social\\\": social,\\n    \\\"spiritual\\\": spiritual,\\n    \\\"academia_humanities\\\": academia_humanities,\\n    \\\"business_farming\\\": business_farming,\\n    \\\"sciences\\\": sciences,\\n    \\\"politics_govt_law\\\": politics_govt_law,\\n    \\\"law_enf_military_operator\\\": law_enf_military_operator,\\n    \\\"crime\\\": crime,\\n    \\\"event_record_other\\\": event_record_other,\\n    \\\"other_species\\\": other_species,\\n    \\\"arts\\\": arts,\\n    \\\"sports\\\": sports,\\n}\";\n",
       "                var nbb_cells = Jupyter.notebook.get_cells();\n",
       "                for (var i = 0; i < nbb_cells.length; ++i) {\n",
       "                    if (nbb_cells[i].input_prompt_number == nbb_cell_id) {\n",
       "                        if (nbb_cells[i].get_text() == nbb_unformatted_code) {\n",
       "                             nbb_cells[i].set_text(nbb_formatted_code);\n",
       "                        }\n",
       "                        break;\n",
       "                    }\n",
       "                }\n",
       "            }, 500);\n",
       "            "
      ],
      "text/plain": [
       "<IPython.core.display.Javascript object>"
      ]
     },
     "metadata": {},
     "output_type": "display_data"
    }
   ],
   "source": [
    "# Combining separate lists into one dictionary\n",
    "known_for_dict = {\n",
    "    \"social\": social,\n",
    "    \"spiritual\": spiritual,\n",
    "    \"academia_humanities\": academia_humanities,\n",
    "    \"business_farming\": business_farming,\n",
    "    \"sciences\": sciences,\n",
    "    \"politics_govt_law\": politics_govt_law,\n",
    "    \"law_enf_military_operator\": law_enf_military_operator,\n",
    "    \"crime\": crime,\n",
    "    \"event_record_other\": event_record_other,\n",
    "    \"other_species\": other_species,\n",
    "    \"arts\": arts,\n",
    "    \"sports\": sports,\n",
    "}"
   ]
  },
  {
   "cell_type": "markdown",
   "id": "dd250c16",
   "metadata": {},
   "source": [
    "#### Extracting Category from `info_2`"
   ]
  },
  {
   "cell_type": "code",
   "execution_count": 114,
   "id": "dd5697d5",
   "metadata": {},
   "outputs": [
    {
     "name": "stdout",
     "output_type": "stream",
     "text": [
      "CPU times: total: 22.1 s\n",
      "Wall time: 22.2 s\n"
     ]
    },
    {
     "data": {
      "text/html": [
       "<div>\n",
       "<style scoped>\n",
       "    .dataframe tbody tr th:only-of-type {\n",
       "        vertical-align: middle;\n",
       "    }\n",
       "\n",
       "    .dataframe tbody tr th {\n",
       "        vertical-align: top;\n",
       "    }\n",
       "\n",
       "    .dataframe thead th {\n",
       "        text-align: right;\n",
       "    }\n",
       "</style>\n",
       "<table border=\"1\" class=\"dataframe\">\n",
       "  <thead>\n",
       "    <tr style=\"text-align: right;\">\n",
       "      <th></th>\n",
       "      <th>day</th>\n",
       "      <th>name</th>\n",
       "      <th>info</th>\n",
       "      <th>link</th>\n",
       "      <th>num_references</th>\n",
       "      <th>year</th>\n",
       "      <th>month</th>\n",
       "      <th>info_parenth</th>\n",
       "      <th>info_1</th>\n",
       "      <th>info_2</th>\n",
       "      <th>info_3</th>\n",
       "      <th>info_4</th>\n",
       "      <th>info_5</th>\n",
       "      <th>info_6</th>\n",
       "      <th>info_7</th>\n",
       "      <th>info_8</th>\n",
       "      <th>info_9</th>\n",
       "      <th>info_10</th>\n",
       "      <th>info_11</th>\n",
       "      <th>age</th>\n",
       "      <th>cause_of_death</th>\n",
       "      <th>place_1</th>\n",
       "      <th>place_2</th>\n",
       "      <th>info_parenth_copy</th>\n",
       "      <th>log_num_references</th>\n",
       "      <th>sciences</th>\n",
       "      <th>social</th>\n",
       "      <th>spiritual</th>\n",
       "      <th>academia_humanities</th>\n",
       "      <th>business_farming</th>\n",
       "      <th>arts</th>\n",
       "      <th>sports</th>\n",
       "      <th>law_enf_military_operator</th>\n",
       "      <th>politics_govt_law</th>\n",
       "      <th>crime</th>\n",
       "      <th>event_record_other</th>\n",
       "      <th>other_species</th>\n",
       "      <th>num_categories</th>\n",
       "    </tr>\n",
       "  </thead>\n",
       "  <tbody>\n",
       "    <tr>\n",
       "      <th>12353</th>\n",
       "      <td>25</td>\n",
       "      <td>Sir Donald Bradman</td>\n",
       "      <td>, 92, Australian cricketer.</td>\n",
       "      <td>https://en.wikipedia.org/wiki/Don_Bradman</td>\n",
       "      <td>274</td>\n",
       "      <td>2001</td>\n",
       "      <td>February</td>\n",
       "      <td>None</td>\n",
       "      <td>None</td>\n",
       "      <td></td>\n",
       "      <td>None</td>\n",
       "      <td>None</td>\n",
       "      <td>None</td>\n",
       "      <td>None</td>\n",
       "      <td>None</td>\n",
       "      <td>None</td>\n",
       "      <td>None</td>\n",
       "      <td>None</td>\n",
       "      <td>None</td>\n",
       "      <td>92.0</td>\n",
       "      <td>None</td>\n",
       "      <td>Australia</td>\n",
       "      <td>None</td>\n",
       "      <td>None</td>\n",
       "      <td>5.616771</td>\n",
       "      <td>0</td>\n",
       "      <td>0</td>\n",
       "      <td>0</td>\n",
       "      <td>0</td>\n",
       "      <td>0</td>\n",
       "      <td>0</td>\n",
       "      <td>1</td>\n",
       "      <td>0</td>\n",
       "      <td>0</td>\n",
       "      <td>0</td>\n",
       "      <td>0</td>\n",
       "      <td>0</td>\n",
       "      <td>1</td>\n",
       "    </tr>\n",
       "    <tr>\n",
       "      <th>14702</th>\n",
       "      <td>29</td>\n",
       "      <td>Liam O'Sullivan</td>\n",
       "      <td>, 20, Scottish footballer, drugs overdose. [1]</td>\n",
       "      <td>https://en.wikipedia.org/wiki/Liam_O%27Sullivan</td>\n",
       "      <td>3</td>\n",
       "      <td>2002</td>\n",
       "      <td>April</td>\n",
       "      <td>None</td>\n",
       "      <td>None</td>\n",
       "      <td></td>\n",
       "      <td>drugs overdose []</td>\n",
       "      <td>None</td>\n",
       "      <td>None</td>\n",
       "      <td>None</td>\n",
       "      <td>None</td>\n",
       "      <td>None</td>\n",
       "      <td>None</td>\n",
       "      <td>None</td>\n",
       "      <td>None</td>\n",
       "      <td>20.0</td>\n",
       "      <td>None</td>\n",
       "      <td>Scotland</td>\n",
       "      <td>None</td>\n",
       "      <td>None</td>\n",
       "      <td>1.386294</td>\n",
       "      <td>0</td>\n",
       "      <td>0</td>\n",
       "      <td>0</td>\n",
       "      <td>0</td>\n",
       "      <td>0</td>\n",
       "      <td>0</td>\n",
       "      <td>1</td>\n",
       "      <td>0</td>\n",
       "      <td>0</td>\n",
       "      <td>0</td>\n",
       "      <td>0</td>\n",
       "      <td>0</td>\n",
       "      <td>1</td>\n",
       "    </tr>\n",
       "  </tbody>\n",
       "</table>\n",
       "</div>"
      ],
      "text/plain": [
       "      day                name                                            info  \\\n",
       "12353  25  Sir Donald Bradman                     , 92, Australian cricketer.   \n",
       "14702  29     Liam O'Sullivan  , 20, Scottish footballer, drugs overdose. [1]   \n",
       "\n",
       "                                                  link  num_references  year  \\\n",
       "12353        https://en.wikipedia.org/wiki/Don_Bradman             274  2001   \n",
       "14702  https://en.wikipedia.org/wiki/Liam_O%27Sullivan               3  2002   \n",
       "\n",
       "          month info_parenth info_1 info_2             info_3 info_4 info_5  \\\n",
       "12353  February         None   None                      None   None   None   \n",
       "14702     April         None   None         drugs overdose []   None   None   \n",
       "\n",
       "      info_6 info_7 info_8 info_9 info_10 info_11   age cause_of_death  \\\n",
       "12353   None   None   None   None    None    None  92.0           None   \n",
       "14702   None   None   None   None    None    None  20.0           None   \n",
       "\n",
       "         place_1 place_2 info_parenth_copy  log_num_references  sciences  \\\n",
       "12353  Australia    None              None            5.616771         0   \n",
       "14702   Scotland    None              None            1.386294         0   \n",
       "\n",
       "       social  spiritual  academia_humanities  business_farming  arts  sports  \\\n",
       "12353       0          0                    0                 0     0       1   \n",
       "14702       0          0                    0                 0     0       1   \n",
       "\n",
       "       law_enf_military_operator  politics_govt_law  crime  \\\n",
       "12353                          0                  0      0   \n",
       "14702                          0                  0      0   \n",
       "\n",
       "       event_record_other  other_species  num_categories  \n",
       "12353                   0              0               1  \n",
       "14702                   0              0               1  "
      ]
     },
     "execution_count": 114,
     "metadata": {},
     "output_type": "execute_result"
    },
    {
     "data": {
      "application/javascript": [
       "\n",
       "            setTimeout(function() {\n",
       "                var nbb_cell_id = 114;\n",
       "                var nbb_unformatted_code = \"%%time\\n\\n# Dictionary version\\nsearch_dict = known_for_dict\\n\\n# Column to check\\ncolumn = 'info_2'\\n\\n# Dataframe\\ndataframe = df[column].notna()\\n\\n# For loop to find role in column and extract it as category\\nfor category, category_lst in search_dict.items():\\n    for role in category_lst:\\n        for index in dataframe.index:\\n            item = df.loc[index, column]\\n            if item:\\n                if role in item:\\n                    df.loc[index, category] = 1\\n                    df.loc[index, column] = item.replace(role, '').strip()\\n\\n# Updating num_categories\\ndf[\\\"num_categories\\\"] = df[known_for_dict.keys()].sum(axis=1)\\n\\n# Checking a sample of rows\\ndf[df['sports'] ==1].sample(2)\";\n",
       "                var nbb_formatted_code = \"%%time\\n\\n# Dictionary version\\nsearch_dict = known_for_dict\\n\\n# Column to check\\ncolumn = 'info_2'\\n\\n# Dataframe\\ndataframe = df[column].notna()\\n\\n# For loop to find role in column and extract it as category\\nfor category, category_lst in search_dict.items():\\n    for role in category_lst:\\n        for index in dataframe.index:\\n            item = df.loc[index, column]\\n            if item:\\n                if role in item:\\n                    df.loc[index, category] = 1\\n                    df.loc[index, column] = item.replace(role, '').strip()\\n\\n# Updating num_categories\\ndf[\\\"num_categories\\\"] = df[known_for_dict.keys()].sum(axis=1)\\n\\n# Checking a sample of rows\\ndf[df['sports'] ==1].sample(2)\";\n",
       "                var nbb_cells = Jupyter.notebook.get_cells();\n",
       "                for (var i = 0; i < nbb_cells.length; ++i) {\n",
       "                    if (nbb_cells[i].input_prompt_number == nbb_cell_id) {\n",
       "                        if (nbb_cells[i].get_text() == nbb_unformatted_code) {\n",
       "                             nbb_cells[i].set_text(nbb_formatted_code);\n",
       "                        }\n",
       "                        break;\n",
       "                    }\n",
       "                }\n",
       "            }, 500);\n",
       "            "
      ],
      "text/plain": [
       "<IPython.core.display.Javascript object>"
      ]
     },
     "metadata": {},
     "output_type": "display_data"
    }
   ],
   "source": [
    "%%time\n",
    "\n",
    "# Dictionary version\n",
    "search_dict = known_for_dict\n",
    "\n",
    "# Column to check\n",
    "column = 'info_2'\n",
    "\n",
    "# Dataframe\n",
    "dataframe = df[column].notna()\n",
    "\n",
    "# For loop to find role in column and extract it as category\n",
    "for category, category_lst in search_dict.items():\n",
    "    for role in category_lst:\n",
    "        for index in dataframe.index:\n",
    "            item = df.loc[index, column]\n",
    "            if item:\n",
    "                if role in item:\n",
    "                    df.loc[index, category] = 1\n",
    "                    df.loc[index, column] = item.replace(role, '').strip()\n",
    "\n",
    "# Updating num_categories\n",
    "df[\"num_categories\"] = df[known_for_dict.keys()].sum(axis=1)\n",
    "\n",
    "# Checking a sample of rows\n",
    "df[df['sports'] ==1].sample(2)"
   ]
  },
  {
   "cell_type": "markdown",
   "id": "d4455bfe",
   "metadata": {},
   "source": [
    "#### Checking the Number of Rows without a First Category"
   ]
  },
  {
   "cell_type": "code",
   "execution_count": 115,
   "id": "c34b7671",
   "metadata": {},
   "outputs": [
    {
     "name": "stdout",
     "output_type": "stream",
     "text": [
      "There are 39727 entries without any known_for category.\n"
     ]
    },
    {
     "data": {
      "application/javascript": [
       "\n",
       "            setTimeout(function() {\n",
       "                var nbb_cell_id = 115;\n",
       "                var nbb_unformatted_code = \"#### Checking the number of rows without a first category\\nprint(\\n    f'There are {len(df[df[\\\"num_categories\\\"]==0])} entries without any known_for category.'\\n)\";\n",
       "                var nbb_formatted_code = \"#### Checking the number of rows without a first category\\nprint(\\n    f'There are {len(df[df[\\\"num_categories\\\"]==0])} entries without any known_for category.'\\n)\";\n",
       "                var nbb_cells = Jupyter.notebook.get_cells();\n",
       "                for (var i = 0; i < nbb_cells.length; ++i) {\n",
       "                    if (nbb_cells[i].input_prompt_number == nbb_cell_id) {\n",
       "                        if (nbb_cells[i].get_text() == nbb_unformatted_code) {\n",
       "                             nbb_cells[i].set_text(nbb_formatted_code);\n",
       "                        }\n",
       "                        break;\n",
       "                    }\n",
       "                }\n",
       "            }, 500);\n",
       "            "
      ],
      "text/plain": [
       "<IPython.core.display.Javascript object>"
      ]
     },
     "metadata": {},
     "output_type": "display_data"
    }
   ],
   "source": [
    "#### Checking the number of rows without a first category\n",
    "print(\n",
    "    f'There are {len(df[df[\"num_categories\"]==0])} entries without any known_for category.'\n",
    ")"
   ]
  },
  {
   "cell_type": "markdown",
   "id": "842ba66b",
   "metadata": {},
   "source": [
    "#### Observations:\n",
    "- We will proceed to rebuild `known_for_dict` for the next iteration."
   ]
  },
  {
   "cell_type": "markdown",
   "id": "4862970b",
   "metadata": {},
   "source": [
    "#### Finding `known_for` Roles in `info_2`"
   ]
  },
  {
   "cell_type": "code",
   "execution_count": 116,
   "id": "0f3f2769",
   "metadata": {},
   "outputs": [
    {
     "data": {
      "application/javascript": [
       "\n",
       "            setTimeout(function() {\n",
       "                var nbb_cell_id = 116;\n",
       "                var nbb_unformatted_code = \"# Obtaining values for column and their counts\\nroles_list = df[\\\"info_2\\\"].value_counts(ascending=True).index.tolist()\";\n",
       "                var nbb_formatted_code = \"# Obtaining values for column and their counts\\nroles_list = df[\\\"info_2\\\"].value_counts(ascending=True).index.tolist()\";\n",
       "                var nbb_cells = Jupyter.notebook.get_cells();\n",
       "                for (var i = 0; i < nbb_cells.length; ++i) {\n",
       "                    if (nbb_cells[i].input_prompt_number == nbb_cell_id) {\n",
       "                        if (nbb_cells[i].get_text() == nbb_unformatted_code) {\n",
       "                             nbb_cells[i].set_text(nbb_formatted_code);\n",
       "                        }\n",
       "                        break;\n",
       "                    }\n",
       "                }\n",
       "            }, 500);\n",
       "            "
      ],
      "text/plain": [
       "<IPython.core.display.Javascript object>"
      ]
     },
     "metadata": {},
     "output_type": "display_data"
    }
   ],
   "source": [
    "# Obtaining values for column and their counts\n",
    "roles_list = df[\"info_2\"].value_counts(ascending=True).index.tolist()"
   ]
  },
  {
   "cell_type": "code",
   "execution_count": 117,
   "id": "35273d58",
   "metadata": {},
   "outputs": [
    {
     "data": {
      "application/javascript": [
       "\n",
       "            setTimeout(function() {\n",
       "                var nbb_cell_id = 117;\n",
       "                var nbb_unformatted_code = \"# # Code to check each value\\n# roles_list.pop()\";\n",
       "                var nbb_formatted_code = \"# # Code to check each value\\n# roles_list.pop()\";\n",
       "                var nbb_cells = Jupyter.notebook.get_cells();\n",
       "                for (var i = 0; i < nbb_cells.length; ++i) {\n",
       "                    if (nbb_cells[i].input_prompt_number == nbb_cell_id) {\n",
       "                        if (nbb_cells[i].get_text() == nbb_unformatted_code) {\n",
       "                             nbb_cells[i].set_text(nbb_formatted_code);\n",
       "                        }\n",
       "                        break;\n",
       "                    }\n",
       "                }\n",
       "            }, 500);\n",
       "            "
      ],
      "text/plain": [
       "<IPython.core.display.Javascript object>"
      ]
     },
     "metadata": {},
     "output_type": "display_data"
    }
   ],
   "source": [
    "# # Code to check each value\n",
    "# roles_list.pop()"
   ]
  },
  {
   "cell_type": "code",
   "execution_count": 118,
   "id": "cf764175",
   "metadata": {},
   "outputs": [
    {
     "data": {
      "application/javascript": [
       "\n",
       "            setTimeout(function() {\n",
       "                var nbb_cell_id = 118;\n",
       "                var nbb_unformatted_code = \"# # Create specific_roles_list for above popped value\\n# specific_roles_list = (\\n#     df.loc[\\n#         [index for index in df.index if \\\"philosopher\\\" in df.loc[index, \\\"info\\\"]],\\n#         \\\"info_2\\\",\\n#     ]\\n#     .value_counts()\\n#     .index.tolist()\\n# )\";\n",
       "                var nbb_formatted_code = \"# # Create specific_roles_list for above popped value\\n# specific_roles_list = (\\n#     df.loc[\\n#         [index for index in df.index if \\\"philosopher\\\" in df.loc[index, \\\"info\\\"]],\\n#         \\\"info_2\\\",\\n#     ]\\n#     .value_counts()\\n#     .index.tolist()\\n# )\";\n",
       "                var nbb_cells = Jupyter.notebook.get_cells();\n",
       "                for (var i = 0; i < nbb_cells.length; ++i) {\n",
       "                    if (nbb_cells[i].input_prompt_number == nbb_cell_id) {\n",
       "                        if (nbb_cells[i].get_text() == nbb_unformatted_code) {\n",
       "                             nbb_cells[i].set_text(nbb_formatted_code);\n",
       "                        }\n",
       "                        break;\n",
       "                    }\n",
       "                }\n",
       "            }, 500);\n",
       "            "
      ],
      "text/plain": [
       "<IPython.core.display.Javascript object>"
      ]
     },
     "metadata": {},
     "output_type": "display_data"
    }
   ],
   "source": [
    "# # Create specific_roles_list for above popped value\n",
    "# specific_roles_list = (\n",
    "#     df.loc[\n",
    "#         [index for index in df.index if \"philosopher\" in df.loc[index, \"info\"]],\n",
    "#         \"info_2\",\n",
    "#     ]\n",
    "#     .value_counts()\n",
    "#     .index.tolist()\n",
    "# )"
   ]
  },
  {
   "cell_type": "code",
   "execution_count": 119,
   "id": "5c4ffd2b",
   "metadata": {},
   "outputs": [
    {
     "data": {
      "application/javascript": [
       "\n",
       "            setTimeout(function() {\n",
       "                var nbb_cell_id = 119;\n",
       "                var nbb_unformatted_code = \"# # Code to check each specific value\\n# specific_roles_list.pop()\";\n",
       "                var nbb_formatted_code = \"# # Code to check each specific value\\n# specific_roles_list.pop()\";\n",
       "                var nbb_cells = Jupyter.notebook.get_cells();\n",
       "                for (var i = 0; i < nbb_cells.length; ++i) {\n",
       "                    if (nbb_cells[i].input_prompt_number == nbb_cell_id) {\n",
       "                        if (nbb_cells[i].get_text() == nbb_unformatted_code) {\n",
       "                             nbb_cells[i].set_text(nbb_formatted_code);\n",
       "                        }\n",
       "                        break;\n",
       "                    }\n",
       "                }\n",
       "            }, 500);\n",
       "            "
      ],
      "text/plain": [
       "<IPython.core.display.Javascript object>"
      ]
     },
     "metadata": {},
     "output_type": "display_data"
    }
   ],
   "source": [
    "# # Code to check each specific value\n",
    "# specific_roles_list.pop()"
   ]
  },
  {
   "cell_type": "code",
   "execution_count": 120,
   "id": "966d89ac",
   "metadata": {},
   "outputs": [
    {
     "data": {
      "application/javascript": [
       "\n",
       "            setTimeout(function() {\n",
       "                var nbb_cell_id = 120;\n",
       "                var nbb_unformatted_code = \"# # Example code to quick-screen values that may overlap categories\\n# df.loc[\\n#     [index for index in df.index if \\\"religious philosopher\\\" in df.loc[index, \\\"info\\\"]]\\n# ]\";\n",
       "                var nbb_formatted_code = \"# # Example code to quick-screen values that may overlap categories\\n# df.loc[\\n#     [index for index in df.index if \\\"religious philosopher\\\" in df.loc[index, \\\"info\\\"]]\\n# ]\";\n",
       "                var nbb_cells = Jupyter.notebook.get_cells();\n",
       "                for (var i = 0; i < nbb_cells.length; ++i) {\n",
       "                    if (nbb_cells[i].input_prompt_number == nbb_cell_id) {\n",
       "                        if (nbb_cells[i].get_text() == nbb_unformatted_code) {\n",
       "                             nbb_cells[i].set_text(nbb_formatted_code);\n",
       "                        }\n",
       "                        break;\n",
       "                    }\n",
       "                }\n",
       "            }, 500);\n",
       "            "
      ],
      "text/plain": [
       "<IPython.core.display.Javascript object>"
      ]
     },
     "metadata": {},
     "output_type": "display_data"
    }
   ],
   "source": [
    "# # Example code to quick-screen values that may overlap categories\n",
    "# df.loc[\n",
    "#     [index for index in df.index if \"religious philosopher\" in df.loc[index, \"info\"]]\n",
    "# ]"
   ]
  },
  {
   "cell_type": "code",
   "execution_count": 121,
   "id": "652346eb",
   "metadata": {},
   "outputs": [
    {
     "data": {
      "application/javascript": [
       "\n",
       "            setTimeout(function() {\n",
       "                var nbb_cell_id = 121;\n",
       "                var nbb_unformatted_code = \"# # Example code to quick-check a specific entry\\n# df[df[\\\"info_2\\\"] == \\\"and humanist philosopher\\\"]\";\n",
       "                var nbb_formatted_code = \"# # Example code to quick-check a specific entry\\n# df[df[\\\"info_2\\\"] == \\\"and humanist philosopher\\\"]\";\n",
       "                var nbb_cells = Jupyter.notebook.get_cells();\n",
       "                for (var i = 0; i < nbb_cells.length; ++i) {\n",
       "                    if (nbb_cells[i].input_prompt_number == nbb_cell_id) {\n",
       "                        if (nbb_cells[i].get_text() == nbb_unformatted_code) {\n",
       "                             nbb_cells[i].set_text(nbb_formatted_code);\n",
       "                        }\n",
       "                        break;\n",
       "                    }\n",
       "                }\n",
       "            }, 500);\n",
       "            "
      ],
      "text/plain": [
       "<IPython.core.display.Javascript object>"
      ]
     },
     "metadata": {},
     "output_type": "display_data"
    }
   ],
   "source": [
    "# # Example code to quick-check a specific entry\n",
    "# df[df[\"info_2\"] == \"and humanist philosopher\"]"
   ]
  },
  {
   "cell_type": "markdown",
   "id": "35e02c68",
   "metadata": {},
   "source": [
    "#### Creating Lists for Each `known_for` Category"
   ]
  },
  {
   "cell_type": "code",
   "execution_count": 122,
   "id": "b8522387",
   "metadata": {},
   "outputs": [
    {
     "data": {
      "application/javascript": [
       "\n",
       "            setTimeout(function() {\n",
       "                var nbb_cell_id = 122;\n",
       "                var nbb_unformatted_code = \"# Creating lists for each category\\npolitics_govt_law = []\\n\\narts = []\\nsports = []\\nsciences = []\\n\\nbusiness_farming = []\\nacademia_humanities = [\\n    \\\"philosopher and education worker in Eastern\\\",\\n    \\\"Jewish philosopher and Reform\\\",\\n    \\\"and cultural philosopher\\\",\\n    \\\"classicist and philosopher\\\",\\n    \\\"philosopher and teacher\\\",\\n    \\\"postmodernist philosopher and\\\",\\n    \\\"idealist philosopher\\\",\\n    \\\"North philosopher\\\",\\n    \\\"sinologist and philosopher\\\",\\n    \\\"philosopher and the founder of the School of Economic Science\\\",\\n    \\\"existentialist philosopher\\\",\\n    \\\"East philosopher\\\",\\n    \\\"philosopher and Vice Chancellor of Oxford University\\\",\\n    \\\"philosopher and social anthropologist\\\",\\n    \\\"educator and philosopher\\\",\\n    \\\"philosopher and professor in\\\",\\n    \\\"philosopher and professor of philosophy\\\",\\n    \\\"and philosopher of social science\\\",\\n    \\\"philosopher and professor of\\\",\\n    \\\"anthropologist and philosopher of\\\",\\n    \\\"cultural theorist and philosopher\\\",\\n    \\\"philosopher and Holocaust denier\\\",\\n    \\\"philosopher and anthropologist\\\",\\n    \\\"Islamologist and philosopher\\\",\\n    \\\"New Confucian philosopher\\\",\\n    \\\"philosopher and cultural theorist\\\",\\n    \\\"philosopher and epistemologist\\\",\\n    \\\"philosopher of language\\\",\\n    \\\"philosopher and humanist\\\",\\n    \\\"philosopher and translator\\\",\\n    \\\"educational philosopher\\\",\\n    \\\"translator and philosopher\\\",\\n    \\\"philosopher of religion\\\",\\n    \\\"anthropologist and philosopher\\\",\\n    \\\"philosopher and linguist\\\",\\n    \\\"philosopher and scholar\\\",\\n    \\\"social philosopher\\\",\\n    \\\"philosopher and professor\\\",\\n    \\\"moral philosopher\\\",\\n    \\\"philosopher of\\\",\\n    \\\"and humanist philosopher\\\",\\n    \\\"and philosopher and\\\",\\n    \\\"and philosopher\\\",\\n    \\\"philosopher and\\\",\\n    \\\"philosopher\\\",\\n]\\nlaw_enf_military_operator = []\\nspiritual = []\\nsocial = []\\ncrime = []\\nevent_record_other = []\\nother_species = []\";\n",
       "                var nbb_formatted_code = \"# Creating lists for each category\\npolitics_govt_law = []\\n\\narts = []\\nsports = []\\nsciences = []\\n\\nbusiness_farming = []\\nacademia_humanities = [\\n    \\\"philosopher and education worker in Eastern\\\",\\n    \\\"Jewish philosopher and Reform\\\",\\n    \\\"and cultural philosopher\\\",\\n    \\\"classicist and philosopher\\\",\\n    \\\"philosopher and teacher\\\",\\n    \\\"postmodernist philosopher and\\\",\\n    \\\"idealist philosopher\\\",\\n    \\\"North philosopher\\\",\\n    \\\"sinologist and philosopher\\\",\\n    \\\"philosopher and the founder of the School of Economic Science\\\",\\n    \\\"existentialist philosopher\\\",\\n    \\\"East philosopher\\\",\\n    \\\"philosopher and Vice Chancellor of Oxford University\\\",\\n    \\\"philosopher and social anthropologist\\\",\\n    \\\"educator and philosopher\\\",\\n    \\\"philosopher and professor in\\\",\\n    \\\"philosopher and professor of philosophy\\\",\\n    \\\"and philosopher of social science\\\",\\n    \\\"philosopher and professor of\\\",\\n    \\\"anthropologist and philosopher of\\\",\\n    \\\"cultural theorist and philosopher\\\",\\n    \\\"philosopher and Holocaust denier\\\",\\n    \\\"philosopher and anthropologist\\\",\\n    \\\"Islamologist and philosopher\\\",\\n    \\\"New Confucian philosopher\\\",\\n    \\\"philosopher and cultural theorist\\\",\\n    \\\"philosopher and epistemologist\\\",\\n    \\\"philosopher of language\\\",\\n    \\\"philosopher and humanist\\\",\\n    \\\"philosopher and translator\\\",\\n    \\\"educational philosopher\\\",\\n    \\\"translator and philosopher\\\",\\n    \\\"philosopher of religion\\\",\\n    \\\"anthropologist and philosopher\\\",\\n    \\\"philosopher and linguist\\\",\\n    \\\"philosopher and scholar\\\",\\n    \\\"social philosopher\\\",\\n    \\\"philosopher and professor\\\",\\n    \\\"moral philosopher\\\",\\n    \\\"philosopher of\\\",\\n    \\\"and humanist philosopher\\\",\\n    \\\"and philosopher and\\\",\\n    \\\"and philosopher\\\",\\n    \\\"philosopher and\\\",\\n    \\\"philosopher\\\",\\n]\\nlaw_enf_military_operator = []\\nspiritual = []\\nsocial = []\\ncrime = []\\nevent_record_other = []\\nother_species = []\";\n",
       "                var nbb_cells = Jupyter.notebook.get_cells();\n",
       "                for (var i = 0; i < nbb_cells.length; ++i) {\n",
       "                    if (nbb_cells[i].input_prompt_number == nbb_cell_id) {\n",
       "                        if (nbb_cells[i].get_text() == nbb_unformatted_code) {\n",
       "                             nbb_cells[i].set_text(nbb_formatted_code);\n",
       "                        }\n",
       "                        break;\n",
       "                    }\n",
       "                }\n",
       "            }, 500);\n",
       "            "
      ],
      "text/plain": [
       "<IPython.core.display.Javascript object>"
      ]
     },
     "metadata": {},
     "output_type": "display_data"
    }
   ],
   "source": [
    "# Creating lists for each category\n",
    "politics_govt_law = []\n",
    "\n",
    "arts = []\n",
    "sports = []\n",
    "sciences = []\n",
    "\n",
    "business_farming = []\n",
    "academia_humanities = [\n",
    "    \"philosopher and education worker in Eastern\",\n",
    "    \"Jewish philosopher and Reform\",\n",
    "    \"and cultural philosopher\",\n",
    "    \"classicist and philosopher\",\n",
    "    \"philosopher and teacher\",\n",
    "    \"postmodernist philosopher and\",\n",
    "    \"idealist philosopher\",\n",
    "    \"North philosopher\",\n",
    "    \"sinologist and philosopher\",\n",
    "    \"philosopher and the founder of the School of Economic Science\",\n",
    "    \"existentialist philosopher\",\n",
    "    \"East philosopher\",\n",
    "    \"philosopher and Vice Chancellor of Oxford University\",\n",
    "    \"philosopher and social anthropologist\",\n",
    "    \"educator and philosopher\",\n",
    "    \"philosopher and professor in\",\n",
    "    \"philosopher and professor of philosophy\",\n",
    "    \"and philosopher of social science\",\n",
    "    \"philosopher and professor of\",\n",
    "    \"anthropologist and philosopher of\",\n",
    "    \"cultural theorist and philosopher\",\n",
    "    \"philosopher and Holocaust denier\",\n",
    "    \"philosopher and anthropologist\",\n",
    "    \"Islamologist and philosopher\",\n",
    "    \"New Confucian philosopher\",\n",
    "    \"philosopher and cultural theorist\",\n",
    "    \"philosopher and epistemologist\",\n",
    "    \"philosopher of language\",\n",
    "    \"philosopher and humanist\",\n",
    "    \"philosopher and translator\",\n",
    "    \"educational philosopher\",\n",
    "    \"translator and philosopher\",\n",
    "    \"philosopher of religion\",\n",
    "    \"anthropologist and philosopher\",\n",
    "    \"philosopher and linguist\",\n",
    "    \"philosopher and scholar\",\n",
    "    \"social philosopher\",\n",
    "    \"philosopher and professor\",\n",
    "    \"moral philosopher\",\n",
    "    \"philosopher of\",\n",
    "    \"and humanist philosopher\",\n",
    "    \"and philosopher and\",\n",
    "    \"and philosopher\",\n",
    "    \"philosopher and\",\n",
    "    \"philosopher\",\n",
    "]\n",
    "law_enf_military_operator = []\n",
    "spiritual = []\n",
    "social = []\n",
    "crime = []\n",
    "event_record_other = []\n",
    "other_species = []"
   ]
  },
  {
   "cell_type": "markdown",
   "id": "0bb0d225",
   "metadata": {},
   "source": [
    "#### Creating `known_for_dict` Dictionary of Category Keys and Specific Role Lists of Values"
   ]
  },
  {
   "cell_type": "code",
   "execution_count": 123,
   "id": "3c05b545",
   "metadata": {},
   "outputs": [
    {
     "data": {
      "application/javascript": [
       "\n",
       "            setTimeout(function() {\n",
       "                var nbb_cell_id = 123;\n",
       "                var nbb_unformatted_code = \"# Combining separate lists into one dictionary\\nknown_for_dict = {\\n    \\\"social\\\": social,\\n    \\\"spiritual\\\": spiritual,\\n    \\\"academia_humanities\\\": academia_humanities,\\n    \\\"business_farming\\\": business_farming,\\n    \\\"sciences\\\": sciences,\\n    \\\"politics_govt_law\\\": politics_govt_law,\\n    \\\"law_enf_military_operator\\\": law_enf_military_operator,\\n    \\\"crime\\\": crime,\\n    \\\"event_record_other\\\": event_record_other,\\n    \\\"other_species\\\": other_species,\\n    \\\"arts\\\": arts,\\n    \\\"sports\\\": sports,\\n}\";\n",
       "                var nbb_formatted_code = \"# Combining separate lists into one dictionary\\nknown_for_dict = {\\n    \\\"social\\\": social,\\n    \\\"spiritual\\\": spiritual,\\n    \\\"academia_humanities\\\": academia_humanities,\\n    \\\"business_farming\\\": business_farming,\\n    \\\"sciences\\\": sciences,\\n    \\\"politics_govt_law\\\": politics_govt_law,\\n    \\\"law_enf_military_operator\\\": law_enf_military_operator,\\n    \\\"crime\\\": crime,\\n    \\\"event_record_other\\\": event_record_other,\\n    \\\"other_species\\\": other_species,\\n    \\\"arts\\\": arts,\\n    \\\"sports\\\": sports,\\n}\";\n",
       "                var nbb_cells = Jupyter.notebook.get_cells();\n",
       "                for (var i = 0; i < nbb_cells.length; ++i) {\n",
       "                    if (nbb_cells[i].input_prompt_number == nbb_cell_id) {\n",
       "                        if (nbb_cells[i].get_text() == nbb_unformatted_code) {\n",
       "                             nbb_cells[i].set_text(nbb_formatted_code);\n",
       "                        }\n",
       "                        break;\n",
       "                    }\n",
       "                }\n",
       "            }, 500);\n",
       "            "
      ],
      "text/plain": [
       "<IPython.core.display.Javascript object>"
      ]
     },
     "metadata": {},
     "output_type": "display_data"
    }
   ],
   "source": [
    "# Combining separate lists into one dictionary\n",
    "known_for_dict = {\n",
    "    \"social\": social,\n",
    "    \"spiritual\": spiritual,\n",
    "    \"academia_humanities\": academia_humanities,\n",
    "    \"business_farming\": business_farming,\n",
    "    \"sciences\": sciences,\n",
    "    \"politics_govt_law\": politics_govt_law,\n",
    "    \"law_enf_military_operator\": law_enf_military_operator,\n",
    "    \"crime\": crime,\n",
    "    \"event_record_other\": event_record_other,\n",
    "    \"other_species\": other_species,\n",
    "    \"arts\": arts,\n",
    "    \"sports\": sports,\n",
    "}"
   ]
  },
  {
   "cell_type": "markdown",
   "id": "0313505e",
   "metadata": {},
   "source": [
    "#### Extracting Category from `info_2`"
   ]
  },
  {
   "cell_type": "code",
   "execution_count": 124,
   "id": "333858cd",
   "metadata": {},
   "outputs": [
    {
     "name": "stdout",
     "output_type": "stream",
     "text": [
      "CPU times: total: 26.2 s\n",
      "Wall time: 26.2 s\n"
     ]
    },
    {
     "data": {
      "text/html": [
       "<div>\n",
       "<style scoped>\n",
       "    .dataframe tbody tr th:only-of-type {\n",
       "        vertical-align: middle;\n",
       "    }\n",
       "\n",
       "    .dataframe tbody tr th {\n",
       "        vertical-align: top;\n",
       "    }\n",
       "\n",
       "    .dataframe thead th {\n",
       "        text-align: right;\n",
       "    }\n",
       "</style>\n",
       "<table border=\"1\" class=\"dataframe\">\n",
       "  <thead>\n",
       "    <tr style=\"text-align: right;\">\n",
       "      <th></th>\n",
       "      <th>day</th>\n",
       "      <th>name</th>\n",
       "      <th>info</th>\n",
       "      <th>link</th>\n",
       "      <th>num_references</th>\n",
       "      <th>year</th>\n",
       "      <th>month</th>\n",
       "      <th>info_parenth</th>\n",
       "      <th>info_1</th>\n",
       "      <th>info_2</th>\n",
       "      <th>info_3</th>\n",
       "      <th>info_4</th>\n",
       "      <th>info_5</th>\n",
       "      <th>info_6</th>\n",
       "      <th>info_7</th>\n",
       "      <th>info_8</th>\n",
       "      <th>info_9</th>\n",
       "      <th>info_10</th>\n",
       "      <th>info_11</th>\n",
       "      <th>age</th>\n",
       "      <th>cause_of_death</th>\n",
       "      <th>place_1</th>\n",
       "      <th>place_2</th>\n",
       "      <th>info_parenth_copy</th>\n",
       "      <th>log_num_references</th>\n",
       "      <th>sciences</th>\n",
       "      <th>social</th>\n",
       "      <th>spiritual</th>\n",
       "      <th>academia_humanities</th>\n",
       "      <th>business_farming</th>\n",
       "      <th>arts</th>\n",
       "      <th>sports</th>\n",
       "      <th>law_enf_military_operator</th>\n",
       "      <th>politics_govt_law</th>\n",
       "      <th>crime</th>\n",
       "      <th>event_record_other</th>\n",
       "      <th>other_species</th>\n",
       "      <th>num_categories</th>\n",
       "    </tr>\n",
       "  </thead>\n",
       "  <tbody>\n",
       "    <tr>\n",
       "      <th>63881</th>\n",
       "      <td>4</td>\n",
       "      <td>Patrick G. Johnston</td>\n",
       "      <td>, 58, Northern Irish scientist and academic administrator, Vice-Chancellor of Queen's University, Belfast .</td>\n",
       "      <td>https://en.wikipedia.org/wiki/Patrick_G._Johnston</td>\n",
       "      <td>14</td>\n",
       "      <td>2017</td>\n",
       "      <td>June</td>\n",
       "      <td></td>\n",
       "      <td>None</td>\n",
       "      <td>scientist</td>\n",
       "      <td>Vice Chancellor of Queen University</td>\n",
       "      <td>Belfast</td>\n",
       "      <td>None</td>\n",
       "      <td>None</td>\n",
       "      <td>None</td>\n",
       "      <td>None</td>\n",
       "      <td>None</td>\n",
       "      <td>None</td>\n",
       "      <td>None</td>\n",
       "      <td>58.0</td>\n",
       "      <td>None</td>\n",
       "      <td>United Kingdom of Great Britain and Northern Ireland</td>\n",
       "      <td>None</td>\n",
       "      <td>2014 2017</td>\n",
       "      <td>2.708050</td>\n",
       "      <td>0</td>\n",
       "      <td>0</td>\n",
       "      <td>0</td>\n",
       "      <td>1</td>\n",
       "      <td>0</td>\n",
       "      <td>0</td>\n",
       "      <td>0</td>\n",
       "      <td>0</td>\n",
       "      <td>0</td>\n",
       "      <td>0</td>\n",
       "      <td>0</td>\n",
       "      <td>0</td>\n",
       "      <td>1</td>\n",
       "    </tr>\n",
       "    <tr>\n",
       "      <th>94449</th>\n",
       "      <td>5</td>\n",
       "      <td>Michel Rouche</td>\n",
       "      <td>, 87, French historian and academic.</td>\n",
       "      <td>https://en.wikipedia.org/wiki/Michel_Rouche</td>\n",
       "      <td>4</td>\n",
       "      <td>2021</td>\n",
       "      <td>December</td>\n",
       "      <td>None</td>\n",
       "      <td>None</td>\n",
       "      <td></td>\n",
       "      <td>None</td>\n",
       "      <td>None</td>\n",
       "      <td>None</td>\n",
       "      <td>None</td>\n",
       "      <td>None</td>\n",
       "      <td>None</td>\n",
       "      <td>None</td>\n",
       "      <td>None</td>\n",
       "      <td>None</td>\n",
       "      <td>87.0</td>\n",
       "      <td>None</td>\n",
       "      <td>France</td>\n",
       "      <td>None</td>\n",
       "      <td>None</td>\n",
       "      <td>1.609438</td>\n",
       "      <td>0</td>\n",
       "      <td>0</td>\n",
       "      <td>0</td>\n",
       "      <td>1</td>\n",
       "      <td>0</td>\n",
       "      <td>0</td>\n",
       "      <td>0</td>\n",
       "      <td>0</td>\n",
       "      <td>0</td>\n",
       "      <td>0</td>\n",
       "      <td>0</td>\n",
       "      <td>0</td>\n",
       "      <td>1</td>\n",
       "    </tr>\n",
       "  </tbody>\n",
       "</table>\n",
       "</div>"
      ],
      "text/plain": [
       "      day                 name  \\\n",
       "63881   4  Patrick G. Johnston   \n",
       "94449   5        Michel Rouche   \n",
       "\n",
       "                                                                                                              info  \\\n",
       "63881  , 58, Northern Irish scientist and academic administrator, Vice-Chancellor of Queen's University, Belfast .   \n",
       "94449                                                                         , 87, French historian and academic.   \n",
       "\n",
       "                                                    link  num_references  \\\n",
       "63881  https://en.wikipedia.org/wiki/Patrick_G._Johnston              14   \n",
       "94449        https://en.wikipedia.org/wiki/Michel_Rouche               4   \n",
       "\n",
       "       year     month info_parenth info_1     info_2  \\\n",
       "63881  2017      June                None  scientist   \n",
       "94449  2021  December         None   None              \n",
       "\n",
       "                                    info_3   info_4 info_5 info_6 info_7  \\\n",
       "63881  Vice Chancellor of Queen University  Belfast   None   None   None   \n",
       "94449                                 None     None   None   None   None   \n",
       "\n",
       "      info_8 info_9 info_10 info_11   age cause_of_death  \\\n",
       "63881   None   None    None    None  58.0           None   \n",
       "94449   None   None    None    None  87.0           None   \n",
       "\n",
       "                                                    place_1 place_2  \\\n",
       "63881  United Kingdom of Great Britain and Northern Ireland    None   \n",
       "94449                                                France    None   \n",
       "\n",
       "      info_parenth_copy  log_num_references  sciences  social  spiritual  \\\n",
       "63881         2014 2017            2.708050         0       0          0   \n",
       "94449              None            1.609438         0       0          0   \n",
       "\n",
       "       academia_humanities  business_farming  arts  sports  \\\n",
       "63881                    1                 0     0       0   \n",
       "94449                    1                 0     0       0   \n",
       "\n",
       "       law_enf_military_operator  politics_govt_law  crime  \\\n",
       "63881                          0                  0      0   \n",
       "94449                          0                  0      0   \n",
       "\n",
       "       event_record_other  other_species  num_categories  \n",
       "63881                   0              0               1  \n",
       "94449                   0              0               1  "
      ]
     },
     "execution_count": 124,
     "metadata": {},
     "output_type": "execute_result"
    },
    {
     "data": {
      "application/javascript": [
       "\n",
       "            setTimeout(function() {\n",
       "                var nbb_cell_id = 124;\n",
       "                var nbb_unformatted_code = \"%%time\\n\\n# Dictionary version\\nsearch_dict = known_for_dict\\n\\n# Column to check\\ncolumn = 'info_2'\\n\\n# Dataframe\\ndataframe = df[column].notna()\\n\\n# For loop to find role in column and extract it as category\\nfor category, category_lst in search_dict.items():\\n    for role in category_lst:\\n        for index in dataframe.index:\\n            item = df.loc[index, column]\\n            if item:\\n                if role in item:\\n                    df.loc[index, category] = 1\\n                    df.loc[index, column] = item.replace(role, '').strip()\\n\\n# Updating num_categories\\ndf[\\\"num_categories\\\"] = df[known_for_dict.keys()].sum(axis=1)\\n\\n# Checking a sample of rows\\ndf[df['academia_humanities'] ==1].sample(2)\";\n",
       "                var nbb_formatted_code = \"%%time\\n\\n# Dictionary version\\nsearch_dict = known_for_dict\\n\\n# Column to check\\ncolumn = 'info_2'\\n\\n# Dataframe\\ndataframe = df[column].notna()\\n\\n# For loop to find role in column and extract it as category\\nfor category, category_lst in search_dict.items():\\n    for role in category_lst:\\n        for index in dataframe.index:\\n            item = df.loc[index, column]\\n            if item:\\n                if role in item:\\n                    df.loc[index, category] = 1\\n                    df.loc[index, column] = item.replace(role, '').strip()\\n\\n# Updating num_categories\\ndf[\\\"num_categories\\\"] = df[known_for_dict.keys()].sum(axis=1)\\n\\n# Checking a sample of rows\\ndf[df['academia_humanities'] ==1].sample(2)\";\n",
       "                var nbb_cells = Jupyter.notebook.get_cells();\n",
       "                for (var i = 0; i < nbb_cells.length; ++i) {\n",
       "                    if (nbb_cells[i].input_prompt_number == nbb_cell_id) {\n",
       "                        if (nbb_cells[i].get_text() == nbb_unformatted_code) {\n",
       "                             nbb_cells[i].set_text(nbb_formatted_code);\n",
       "                        }\n",
       "                        break;\n",
       "                    }\n",
       "                }\n",
       "            }, 500);\n",
       "            "
      ],
      "text/plain": [
       "<IPython.core.display.Javascript object>"
      ]
     },
     "metadata": {},
     "output_type": "display_data"
    }
   ],
   "source": [
    "%%time\n",
    "\n",
    "# Dictionary version\n",
    "search_dict = known_for_dict\n",
    "\n",
    "# Column to check\n",
    "column = 'info_2'\n",
    "\n",
    "# Dataframe\n",
    "dataframe = df[column].notna()\n",
    "\n",
    "# For loop to find role in column and extract it as category\n",
    "for category, category_lst in search_dict.items():\n",
    "    for role in category_lst:\n",
    "        for index in dataframe.index:\n",
    "            item = df.loc[index, column]\n",
    "            if item:\n",
    "                if role in item:\n",
    "                    df.loc[index, category] = 1\n",
    "                    df.loc[index, column] = item.replace(role, '').strip()\n",
    "\n",
    "# Updating num_categories\n",
    "df[\"num_categories\"] = df[known_for_dict.keys()].sum(axis=1)\n",
    "\n",
    "# Checking a sample of rows\n",
    "df[df['academia_humanities'] ==1].sample(2)"
   ]
  },
  {
   "cell_type": "markdown",
   "id": "e372e50a",
   "metadata": {},
   "source": [
    "#### Checking the Number of Rows without a First Category"
   ]
  },
  {
   "cell_type": "code",
   "execution_count": 125,
   "id": "313356d2",
   "metadata": {},
   "outputs": [
    {
     "name": "stdout",
     "output_type": "stream",
     "text": [
      "There are 39291 entries without any known_for category.\n"
     ]
    },
    {
     "data": {
      "application/javascript": [
       "\n",
       "            setTimeout(function() {\n",
       "                var nbb_cell_id = 125;\n",
       "                var nbb_unformatted_code = \"#### Checking the number of rows without a first category\\nprint(\\n    f'There are {len(df[df[\\\"num_categories\\\"]==0])} entries without any known_for category.'\\n)\";\n",
       "                var nbb_formatted_code = \"#### Checking the number of rows without a first category\\nprint(\\n    f'There are {len(df[df[\\\"num_categories\\\"]==0])} entries without any known_for category.'\\n)\";\n",
       "                var nbb_cells = Jupyter.notebook.get_cells();\n",
       "                for (var i = 0; i < nbb_cells.length; ++i) {\n",
       "                    if (nbb_cells[i].input_prompt_number == nbb_cell_id) {\n",
       "                        if (nbb_cells[i].get_text() == nbb_unformatted_code) {\n",
       "                             nbb_cells[i].set_text(nbb_formatted_code);\n",
       "                        }\n",
       "                        break;\n",
       "                    }\n",
       "                }\n",
       "            }, 500);\n",
       "            "
      ],
      "text/plain": [
       "<IPython.core.display.Javascript object>"
      ]
     },
     "metadata": {},
     "output_type": "display_data"
    }
   ],
   "source": [
    "#### Checking the number of rows without a first category\n",
    "print(\n",
    "    f'There are {len(df[df[\"num_categories\"]==0])} entries without any known_for category.'\n",
    ")"
   ]
  },
  {
   "cell_type": "markdown",
   "id": "b2c5aa71",
   "metadata": {},
   "source": [
    "#### Observations:\n",
    "- We will proceed to rebuild `known_for_dict` for the next iteration."
   ]
  },
  {
   "cell_type": "markdown",
   "id": "e0ff810a",
   "metadata": {},
   "source": [
    "#### Finding `known_for` Roles in `info_2`"
   ]
  },
  {
   "cell_type": "code",
   "execution_count": 126,
   "id": "bebdbfa6",
   "metadata": {},
   "outputs": [
    {
     "data": {
      "application/javascript": [
       "\n",
       "            setTimeout(function() {\n",
       "                var nbb_cell_id = 126;\n",
       "                var nbb_unformatted_code = \"# Obtaining values for column and their counts\\nroles_list = df[\\\"info_2\\\"].value_counts(ascending=True).index.tolist()\";\n",
       "                var nbb_formatted_code = \"# Obtaining values for column and their counts\\nroles_list = df[\\\"info_2\\\"].value_counts(ascending=True).index.tolist()\";\n",
       "                var nbb_cells = Jupyter.notebook.get_cells();\n",
       "                for (var i = 0; i < nbb_cells.length; ++i) {\n",
       "                    if (nbb_cells[i].input_prompt_number == nbb_cell_id) {\n",
       "                        if (nbb_cells[i].get_text() == nbb_unformatted_code) {\n",
       "                             nbb_cells[i].set_text(nbb_formatted_code);\n",
       "                        }\n",
       "                        break;\n",
       "                    }\n",
       "                }\n",
       "            }, 500);\n",
       "            "
      ],
      "text/plain": [
       "<IPython.core.display.Javascript object>"
      ]
     },
     "metadata": {},
     "output_type": "display_data"
    }
   ],
   "source": [
    "# Obtaining values for column and their counts\n",
    "roles_list = df[\"info_2\"].value_counts(ascending=True).index.tolist()"
   ]
  },
  {
   "cell_type": "code",
   "execution_count": 127,
   "id": "f0e767ad",
   "metadata": {},
   "outputs": [
    {
     "data": {
      "application/javascript": [
       "\n",
       "            setTimeout(function() {\n",
       "                var nbb_cell_id = 127;\n",
       "                var nbb_unformatted_code = \"# # Code to check each value\\n# roles_list.pop()\";\n",
       "                var nbb_formatted_code = \"# # Code to check each value\\n# roles_list.pop()\";\n",
       "                var nbb_cells = Jupyter.notebook.get_cells();\n",
       "                for (var i = 0; i < nbb_cells.length; ++i) {\n",
       "                    if (nbb_cells[i].input_prompt_number == nbb_cell_id) {\n",
       "                        if (nbb_cells[i].get_text() == nbb_unformatted_code) {\n",
       "                             nbb_cells[i].set_text(nbb_formatted_code);\n",
       "                        }\n",
       "                        break;\n",
       "                    }\n",
       "                }\n",
       "            }, 500);\n",
       "            "
      ],
      "text/plain": [
       "<IPython.core.display.Javascript object>"
      ]
     },
     "metadata": {},
     "output_type": "display_data"
    }
   ],
   "source": [
    "# # Code to check each value\n",
    "# roles_list.pop()"
   ]
  },
  {
   "cell_type": "code",
   "execution_count": 128,
   "id": "1378177d",
   "metadata": {},
   "outputs": [
    {
     "data": {
      "application/javascript": [
       "\n",
       "            setTimeout(function() {\n",
       "                var nbb_cell_id = 128;\n",
       "                var nbb_unformatted_code = \"# # Create specific_roles_list for above popped value\\n# specific_roles_list = (\\n#     df.loc[\\n#         [index for index in df.index if \\\"sculptor\\\" in df.loc[index, \\\"info\\\"]], \\\"info_2\\\",\\n#     ]\\n#     .value_counts()\\n#     .index.tolist()\\n# )\";\n",
       "                var nbb_formatted_code = \"# # Create specific_roles_list for above popped value\\n# specific_roles_list = (\\n#     df.loc[\\n#         [index for index in df.index if \\\"sculptor\\\" in df.loc[index, \\\"info\\\"]], \\\"info_2\\\",\\n#     ]\\n#     .value_counts()\\n#     .index.tolist()\\n# )\";\n",
       "                var nbb_cells = Jupyter.notebook.get_cells();\n",
       "                for (var i = 0; i < nbb_cells.length; ++i) {\n",
       "                    if (nbb_cells[i].input_prompt_number == nbb_cell_id) {\n",
       "                        if (nbb_cells[i].get_text() == nbb_unformatted_code) {\n",
       "                             nbb_cells[i].set_text(nbb_formatted_code);\n",
       "                        }\n",
       "                        break;\n",
       "                    }\n",
       "                }\n",
       "            }, 500);\n",
       "            "
      ],
      "text/plain": [
       "<IPython.core.display.Javascript object>"
      ]
     },
     "metadata": {},
     "output_type": "display_data"
    }
   ],
   "source": [
    "# # Create specific_roles_list for above popped value\n",
    "# specific_roles_list = (\n",
    "#     df.loc[\n",
    "#         [index for index in df.index if \"sculptor\" in df.loc[index, \"info\"]], \"info_2\",\n",
    "#     ]\n",
    "#     .value_counts()\n",
    "#     .index.tolist()\n",
    "# )"
   ]
  },
  {
   "cell_type": "code",
   "execution_count": 129,
   "id": "3d9930d9",
   "metadata": {},
   "outputs": [
    {
     "data": {
      "application/javascript": [
       "\n",
       "            setTimeout(function() {\n",
       "                var nbb_cell_id = 129;\n",
       "                var nbb_unformatted_code = \"# # Code to check each specific value\\n# specific_roles_list.pop()\";\n",
       "                var nbb_formatted_code = \"# # Code to check each specific value\\n# specific_roles_list.pop()\";\n",
       "                var nbb_cells = Jupyter.notebook.get_cells();\n",
       "                for (var i = 0; i < nbb_cells.length; ++i) {\n",
       "                    if (nbb_cells[i].input_prompt_number == nbb_cell_id) {\n",
       "                        if (nbb_cells[i].get_text() == nbb_unformatted_code) {\n",
       "                             nbb_cells[i].set_text(nbb_formatted_code);\n",
       "                        }\n",
       "                        break;\n",
       "                    }\n",
       "                }\n",
       "            }, 500);\n",
       "            "
      ],
      "text/plain": [
       "<IPython.core.display.Javascript object>"
      ]
     },
     "metadata": {},
     "output_type": "display_data"
    }
   ],
   "source": [
    "# # Code to check each specific value\n",
    "# specific_roles_list.pop()"
   ]
  },
  {
   "cell_type": "code",
   "execution_count": 130,
   "id": "cc4d67a8",
   "metadata": {},
   "outputs": [
    {
     "data": {
      "application/javascript": [
       "\n",
       "            setTimeout(function() {\n",
       "                var nbb_cell_id = 130;\n",
       "                var nbb_unformatted_code = \"# # Example code to quick-screen values that may overlap categories\\n# df.loc[[index for index in df.index if \\\"sculptor and art\\\" in df.loc[index, \\\"info\\\"]]]\";\n",
       "                var nbb_formatted_code = \"# # Example code to quick-screen values that may overlap categories\\n# df.loc[[index for index in df.index if \\\"sculptor and art\\\" in df.loc[index, \\\"info\\\"]]]\";\n",
       "                var nbb_cells = Jupyter.notebook.get_cells();\n",
       "                for (var i = 0; i < nbb_cells.length; ++i) {\n",
       "                    if (nbb_cells[i].input_prompt_number == nbb_cell_id) {\n",
       "                        if (nbb_cells[i].get_text() == nbb_unformatted_code) {\n",
       "                             nbb_cells[i].set_text(nbb_formatted_code);\n",
       "                        }\n",
       "                        break;\n",
       "                    }\n",
       "                }\n",
       "            }, 500);\n",
       "            "
      ],
      "text/plain": [
       "<IPython.core.display.Javascript object>"
      ]
     },
     "metadata": {},
     "output_type": "display_data"
    }
   ],
   "source": [
    "# # Example code to quick-screen values that may overlap categories\n",
    "# df.loc[[index for index in df.index if \"sculptor and art\" in df.loc[index, \"info\"]]]"
   ]
  },
  {
   "cell_type": "code",
   "execution_count": 131,
   "id": "42857816",
   "metadata": {},
   "outputs": [
    {
     "data": {
      "application/javascript": [
       "\n",
       "            setTimeout(function() {\n",
       "                var nbb_cell_id = 131;\n",
       "                var nbb_unformatted_code = \"# # Example code to quick-screen values that may overlap categories\\n# df.loc[\\n#     [\\n#         index\\n#         for index in df.index\\n#         if \\\"outlaw country music singer songwriter\\\" in df.loc[index, \\\"info\\\"]\\n#     ]\\n# ]\";\n",
       "                var nbb_formatted_code = \"# # Example code to quick-screen values that may overlap categories\\n# df.loc[\\n#     [\\n#         index\\n#         for index in df.index\\n#         if \\\"outlaw country music singer songwriter\\\" in df.loc[index, \\\"info\\\"]\\n#     ]\\n# ]\";\n",
       "                var nbb_cells = Jupyter.notebook.get_cells();\n",
       "                for (var i = 0; i < nbb_cells.length; ++i) {\n",
       "                    if (nbb_cells[i].input_prompt_number == nbb_cell_id) {\n",
       "                        if (nbb_cells[i].get_text() == nbb_unformatted_code) {\n",
       "                             nbb_cells[i].set_text(nbb_formatted_code);\n",
       "                        }\n",
       "                        break;\n",
       "                    }\n",
       "                }\n",
       "            }, 500);\n",
       "            "
      ],
      "text/plain": [
       "<IPython.core.display.Javascript object>"
      ]
     },
     "metadata": {},
     "output_type": "display_data"
    }
   ],
   "source": [
    "# # Example code to quick-screen values that may overlap categories\n",
    "# df.loc[\n",
    "#     [\n",
    "#         index\n",
    "#         for index in df.index\n",
    "#         if \"outlaw country music singer songwriter\" in df.loc[index, \"info\"]\n",
    "#     ]\n",
    "# ]"
   ]
  },
  {
   "cell_type": "code",
   "execution_count": 132,
   "id": "469ec548",
   "metadata": {},
   "outputs": [
    {
     "data": {
      "application/javascript": [
       "\n",
       "            setTimeout(function() {\n",
       "                var nbb_cell_id = 132;\n",
       "                var nbb_unformatted_code = \"# # Example code to quick-check a specific entry\\n# df[df[\\\"info_2\\\"] == \\\"ice hockey player and general manager\\\"]\";\n",
       "                var nbb_formatted_code = \"# # Example code to quick-check a specific entry\\n# df[df[\\\"info_2\\\"] == \\\"ice hockey player and general manager\\\"]\";\n",
       "                var nbb_cells = Jupyter.notebook.get_cells();\n",
       "                for (var i = 0; i < nbb_cells.length; ++i) {\n",
       "                    if (nbb_cells[i].input_prompt_number == nbb_cell_id) {\n",
       "                        if (nbb_cells[i].get_text() == nbb_unformatted_code) {\n",
       "                             nbb_cells[i].set_text(nbb_formatted_code);\n",
       "                        }\n",
       "                        break;\n",
       "                    }\n",
       "                }\n",
       "            }, 500);\n",
       "            "
      ],
      "text/plain": [
       "<IPython.core.display.Javascript object>"
      ]
     },
     "metadata": {},
     "output_type": "display_data"
    }
   ],
   "source": [
    "# # Example code to quick-check a specific entry\n",
    "# df[df[\"info_2\"] == \"ice hockey player and general manager\"]"
   ]
  },
  {
   "cell_type": "markdown",
   "id": "e80b8af6",
   "metadata": {},
   "source": [
    "#### Creating Lists for Each `known_for` Category"
   ]
  },
  {
   "cell_type": "code",
   "execution_count": 133,
   "id": "db204276",
   "metadata": {},
   "outputs": [
    {
     "data": {
      "application/javascript": [
       "\n",
       "            setTimeout(function() {\n",
       "                var nbb_cell_id = 133;\n",
       "                var nbb_unformatted_code = \"# Creating lists for each category\\npolitics_govt_law = []\\n\\narts = [\\n    \\\"sculptor and puzzle creator\\\",\\n    \\\"steel sculptor\\\",\\n    \\\"sculptor and studio potter\\\",\\n    \\\"modernist sculptor\\\",\\n    \\\"abstract expressionist sculptor\\\",\\n    \\\"figure sculptor\\\",\\n    \\\"sculptor and computer art pioneer\\\",\\n    \\\"Apache sculptor\\\",\\n    \\\"portrait sculptor\\\",\\n    \\\"surrealist sculptor\\\",\\n    \\\"ceramic sculptor\\\",\\n    \\\"sculptor and metalworker\\\",\\n    \\\"sculptor and medallist\\\",\\n    \\\"monumental sculptor\\\",\\n    \\\"sculptor and art impresario\\\",\\n    \\\"ceramicist and sculptor\\\",\\n    \\\"sculptor and publisher\\\",\\n    \\\"muralist and sculptor\\\",\\n    \\\"minimalist sculptor\\\",\\n    \\\"folk sculptor\\\",\\n    \\\"sculptor and muralist\\\",\\n    \\\"portrait and bust sculptor\\\",\\n    \\\"sculptor and ceramicist\\\",\\n    \\\"sculptor and illustrator\\\",\\n    \\\"kinetic sculptor\\\",\\n    \\\"sculptor and coin designer\\\",\\n    \\\"abstract sculptor\\\",\\n    \\\"potter and sculptor\\\",\\n    \\\"sculptor and printmaker\\\",\\n    \\\"sculptor and arts\\\",\\n    \\\"sculptor and art\\\",\\n    \\\"sculptor and\\\",\\n    \\\"and sculptor\\\",\\n    \\\"sculptor\\\",\\n]\\nsports = [\\n    \\\"ice hockey player and coach in the National Hockey League\\\",\\n    \\\"ice hockey player and referee\\\",\\n    \\\"Olympic ice hockey player and sports administrator\\\",\\n    \\\"professional ice hockey player and coach\\\",\\n    \\\"ice hockey player and head coach\\\",\\n    \\\"ice hockey player and general manager\\\",\\n    \\\"ice hockey player and speed skater\\\",\\n    \\\"college ice hockey player\\\",\\n    \\\"Hall of Fame ice hockey player and official\\\",\\n    \\\"Olympic bronze medalist ice hockey player\\\",\\n    \\\"ice hockey player and manager\\\",\\n    \\\"ice hockey player and goaltending coach\\\",\\n    \\\"ice hockey player and scout\\\",\\n    \\\"Olympic silver medalist ice hockey player\\\",\\n    \\\"ice hockey player and Hall of Fame member\\\",\\n    \\\"Olympic ice hockey player and coach\\\",\\n    \\\"Hall of Fame ice hockey player and coach\\\",\\n    \\\"football and ice hockey player\\\",\\n    \\\"ice hockey player and executive\\\",\\n    \\\"Olympic silver medallist ice hockey player\\\",\\n    \\\"Olympic champion ice hockey player\\\",\\n    \\\"Olympic ice hockey player and sailor\\\",\\n    \\\"professional ice hockey player and\\\",\\n    \\\"professional ice hockey player\\\",\\n    \\\"ice hockey player and coach\\\",\\n    \\\"Hall of Fame ice hockey player\\\",\\n    \\\"Olympic ice hockey player\\\",\\n    \\\"ice hockey player and\\\",\\n    \\\"and ice hockey player\\\",\\n    \\\"ice hockey player\\\",\\n]\\nsciences = []\\n\\nbusiness_farming = []\\nacademia_humanities = []\\nlaw_enf_military_operator = []\\nspiritual = []\\nsocial = []\\ncrime = []\\nevent_record_other = []\\nother_species = []\";\n",
       "                var nbb_formatted_code = \"# Creating lists for each category\\npolitics_govt_law = []\\n\\narts = [\\n    \\\"sculptor and puzzle creator\\\",\\n    \\\"steel sculptor\\\",\\n    \\\"sculptor and studio potter\\\",\\n    \\\"modernist sculptor\\\",\\n    \\\"abstract expressionist sculptor\\\",\\n    \\\"figure sculptor\\\",\\n    \\\"sculptor and computer art pioneer\\\",\\n    \\\"Apache sculptor\\\",\\n    \\\"portrait sculptor\\\",\\n    \\\"surrealist sculptor\\\",\\n    \\\"ceramic sculptor\\\",\\n    \\\"sculptor and metalworker\\\",\\n    \\\"sculptor and medallist\\\",\\n    \\\"monumental sculptor\\\",\\n    \\\"sculptor and art impresario\\\",\\n    \\\"ceramicist and sculptor\\\",\\n    \\\"sculptor and publisher\\\",\\n    \\\"muralist and sculptor\\\",\\n    \\\"minimalist sculptor\\\",\\n    \\\"folk sculptor\\\",\\n    \\\"sculptor and muralist\\\",\\n    \\\"portrait and bust sculptor\\\",\\n    \\\"sculptor and ceramicist\\\",\\n    \\\"sculptor and illustrator\\\",\\n    \\\"kinetic sculptor\\\",\\n    \\\"sculptor and coin designer\\\",\\n    \\\"abstract sculptor\\\",\\n    \\\"potter and sculptor\\\",\\n    \\\"sculptor and printmaker\\\",\\n    \\\"sculptor and arts\\\",\\n    \\\"sculptor and art\\\",\\n    \\\"sculptor and\\\",\\n    \\\"and sculptor\\\",\\n    \\\"sculptor\\\",\\n]\\nsports = [\\n    \\\"ice hockey player and coach in the National Hockey League\\\",\\n    \\\"ice hockey player and referee\\\",\\n    \\\"Olympic ice hockey player and sports administrator\\\",\\n    \\\"professional ice hockey player and coach\\\",\\n    \\\"ice hockey player and head coach\\\",\\n    \\\"ice hockey player and general manager\\\",\\n    \\\"ice hockey player and speed skater\\\",\\n    \\\"college ice hockey player\\\",\\n    \\\"Hall of Fame ice hockey player and official\\\",\\n    \\\"Olympic bronze medalist ice hockey player\\\",\\n    \\\"ice hockey player and manager\\\",\\n    \\\"ice hockey player and goaltending coach\\\",\\n    \\\"ice hockey player and scout\\\",\\n    \\\"Olympic silver medalist ice hockey player\\\",\\n    \\\"ice hockey player and Hall of Fame member\\\",\\n    \\\"Olympic ice hockey player and coach\\\",\\n    \\\"Hall of Fame ice hockey player and coach\\\",\\n    \\\"football and ice hockey player\\\",\\n    \\\"ice hockey player and executive\\\",\\n    \\\"Olympic silver medallist ice hockey player\\\",\\n    \\\"Olympic champion ice hockey player\\\",\\n    \\\"Olympic ice hockey player and sailor\\\",\\n    \\\"professional ice hockey player and\\\",\\n    \\\"professional ice hockey player\\\",\\n    \\\"ice hockey player and coach\\\",\\n    \\\"Hall of Fame ice hockey player\\\",\\n    \\\"Olympic ice hockey player\\\",\\n    \\\"ice hockey player and\\\",\\n    \\\"and ice hockey player\\\",\\n    \\\"ice hockey player\\\",\\n]\\nsciences = []\\n\\nbusiness_farming = []\\nacademia_humanities = []\\nlaw_enf_military_operator = []\\nspiritual = []\\nsocial = []\\ncrime = []\\nevent_record_other = []\\nother_species = []\";\n",
       "                var nbb_cells = Jupyter.notebook.get_cells();\n",
       "                for (var i = 0; i < nbb_cells.length; ++i) {\n",
       "                    if (nbb_cells[i].input_prompt_number == nbb_cell_id) {\n",
       "                        if (nbb_cells[i].get_text() == nbb_unformatted_code) {\n",
       "                             nbb_cells[i].set_text(nbb_formatted_code);\n",
       "                        }\n",
       "                        break;\n",
       "                    }\n",
       "                }\n",
       "            }, 500);\n",
       "            "
      ],
      "text/plain": [
       "<IPython.core.display.Javascript object>"
      ]
     },
     "metadata": {},
     "output_type": "display_data"
    }
   ],
   "source": [
    "# Creating lists for each category\n",
    "politics_govt_law = []\n",
    "\n",
    "arts = [\n",
    "    \"sculptor and puzzle creator\",\n",
    "    \"steel sculptor\",\n",
    "    \"sculptor and studio potter\",\n",
    "    \"modernist sculptor\",\n",
    "    \"abstract expressionist sculptor\",\n",
    "    \"figure sculptor\",\n",
    "    \"sculptor and computer art pioneer\",\n",
    "    \"Apache sculptor\",\n",
    "    \"portrait sculptor\",\n",
    "    \"surrealist sculptor\",\n",
    "    \"ceramic sculptor\",\n",
    "    \"sculptor and metalworker\",\n",
    "    \"sculptor and medallist\",\n",
    "    \"monumental sculptor\",\n",
    "    \"sculptor and art impresario\",\n",
    "    \"ceramicist and sculptor\",\n",
    "    \"sculptor and publisher\",\n",
    "    \"muralist and sculptor\",\n",
    "    \"minimalist sculptor\",\n",
    "    \"folk sculptor\",\n",
    "    \"sculptor and muralist\",\n",
    "    \"portrait and bust sculptor\",\n",
    "    \"sculptor and ceramicist\",\n",
    "    \"sculptor and illustrator\",\n",
    "    \"kinetic sculptor\",\n",
    "    \"sculptor and coin designer\",\n",
    "    \"abstract sculptor\",\n",
    "    \"potter and sculptor\",\n",
    "    \"sculptor and printmaker\",\n",
    "    \"sculptor and arts\",\n",
    "    \"sculptor and art\",\n",
    "    \"sculptor and\",\n",
    "    \"and sculptor\",\n",
    "    \"sculptor\",\n",
    "]\n",
    "sports = [\n",
    "    \"ice hockey player and coach in the National Hockey League\",\n",
    "    \"ice hockey player and referee\",\n",
    "    \"Olympic ice hockey player and sports administrator\",\n",
    "    \"professional ice hockey player and coach\",\n",
    "    \"ice hockey player and head coach\",\n",
    "    \"ice hockey player and general manager\",\n",
    "    \"ice hockey player and speed skater\",\n",
    "    \"college ice hockey player\",\n",
    "    \"Hall of Fame ice hockey player and official\",\n",
    "    \"Olympic bronze medalist ice hockey player\",\n",
    "    \"ice hockey player and manager\",\n",
    "    \"ice hockey player and goaltending coach\",\n",
    "    \"ice hockey player and scout\",\n",
    "    \"Olympic silver medalist ice hockey player\",\n",
    "    \"ice hockey player and Hall of Fame member\",\n",
    "    \"Olympic ice hockey player and coach\",\n",
    "    \"Hall of Fame ice hockey player and coach\",\n",
    "    \"football and ice hockey player\",\n",
    "    \"ice hockey player and executive\",\n",
    "    \"Olympic silver medallist ice hockey player\",\n",
    "    \"Olympic champion ice hockey player\",\n",
    "    \"Olympic ice hockey player and sailor\",\n",
    "    \"professional ice hockey player and\",\n",
    "    \"professional ice hockey player\",\n",
    "    \"ice hockey player and coach\",\n",
    "    \"Hall of Fame ice hockey player\",\n",
    "    \"Olympic ice hockey player\",\n",
    "    \"ice hockey player and\",\n",
    "    \"and ice hockey player\",\n",
    "    \"ice hockey player\",\n",
    "]\n",
    "sciences = []\n",
    "\n",
    "business_farming = []\n",
    "academia_humanities = []\n",
    "law_enf_military_operator = []\n",
    "spiritual = []\n",
    "social = []\n",
    "crime = []\n",
    "event_record_other = []\n",
    "other_species = []"
   ]
  },
  {
   "cell_type": "markdown",
   "id": "9a306691",
   "metadata": {},
   "source": [
    "#### Creating `known_for_dict` Dictionary of Category Keys and Specific Role Lists of Values"
   ]
  },
  {
   "cell_type": "code",
   "execution_count": 134,
   "id": "6ec1fd24",
   "metadata": {},
   "outputs": [
    {
     "data": {
      "application/javascript": [
       "\n",
       "            setTimeout(function() {\n",
       "                var nbb_cell_id = 134;\n",
       "                var nbb_unformatted_code = \"# Combining separate lists into one dictionary\\nknown_for_dict = {\\n    \\\"social\\\": social,\\n    \\\"spiritual\\\": spiritual,\\n    \\\"academia_humanities\\\": academia_humanities,\\n    \\\"business_farming\\\": business_farming,\\n    \\\"sciences\\\": sciences,\\n    \\\"politics_govt_law\\\": politics_govt_law,\\n    \\\"law_enf_military_operator\\\": law_enf_military_operator,\\n    \\\"crime\\\": crime,\\n    \\\"event_record_other\\\": event_record_other,\\n    \\\"other_species\\\": other_species,\\n    \\\"sports\\\": sports,\\n    \\\"arts\\\": arts,\\n}\";\n",
       "                var nbb_formatted_code = \"# Combining separate lists into one dictionary\\nknown_for_dict = {\\n    \\\"social\\\": social,\\n    \\\"spiritual\\\": spiritual,\\n    \\\"academia_humanities\\\": academia_humanities,\\n    \\\"business_farming\\\": business_farming,\\n    \\\"sciences\\\": sciences,\\n    \\\"politics_govt_law\\\": politics_govt_law,\\n    \\\"law_enf_military_operator\\\": law_enf_military_operator,\\n    \\\"crime\\\": crime,\\n    \\\"event_record_other\\\": event_record_other,\\n    \\\"other_species\\\": other_species,\\n    \\\"sports\\\": sports,\\n    \\\"arts\\\": arts,\\n}\";\n",
       "                var nbb_cells = Jupyter.notebook.get_cells();\n",
       "                for (var i = 0; i < nbb_cells.length; ++i) {\n",
       "                    if (nbb_cells[i].input_prompt_number == nbb_cell_id) {\n",
       "                        if (nbb_cells[i].get_text() == nbb_unformatted_code) {\n",
       "                             nbb_cells[i].set_text(nbb_formatted_code);\n",
       "                        }\n",
       "                        break;\n",
       "                    }\n",
       "                }\n",
       "            }, 500);\n",
       "            "
      ],
      "text/plain": [
       "<IPython.core.display.Javascript object>"
      ]
     },
     "metadata": {},
     "output_type": "display_data"
    }
   ],
   "source": [
    "# Combining separate lists into one dictionary\n",
    "known_for_dict = {\n",
    "    \"social\": social,\n",
    "    \"spiritual\": spiritual,\n",
    "    \"academia_humanities\": academia_humanities,\n",
    "    \"business_farming\": business_farming,\n",
    "    \"sciences\": sciences,\n",
    "    \"politics_govt_law\": politics_govt_law,\n",
    "    \"law_enf_military_operator\": law_enf_military_operator,\n",
    "    \"crime\": crime,\n",
    "    \"event_record_other\": event_record_other,\n",
    "    \"other_species\": other_species,\n",
    "    \"sports\": sports,\n",
    "    \"arts\": arts,\n",
    "}"
   ]
  },
  {
   "cell_type": "markdown",
   "id": "0f088a85",
   "metadata": {},
   "source": [
    "#### Extracting Category from `info_2`"
   ]
  },
  {
   "cell_type": "code",
   "execution_count": 135,
   "id": "335585ac",
   "metadata": {},
   "outputs": [
    {
     "name": "stdout",
     "output_type": "stream",
     "text": [
      "CPU times: total: 34.8 s\n",
      "Wall time: 34.8 s\n"
     ]
    },
    {
     "data": {
      "text/html": [
       "<div>\n",
       "<style scoped>\n",
       "    .dataframe tbody tr th:only-of-type {\n",
       "        vertical-align: middle;\n",
       "    }\n",
       "\n",
       "    .dataframe tbody tr th {\n",
       "        vertical-align: top;\n",
       "    }\n",
       "\n",
       "    .dataframe thead th {\n",
       "        text-align: right;\n",
       "    }\n",
       "</style>\n",
       "<table border=\"1\" class=\"dataframe\">\n",
       "  <thead>\n",
       "    <tr style=\"text-align: right;\">\n",
       "      <th></th>\n",
       "      <th>day</th>\n",
       "      <th>name</th>\n",
       "      <th>info</th>\n",
       "      <th>link</th>\n",
       "      <th>num_references</th>\n",
       "      <th>year</th>\n",
       "      <th>month</th>\n",
       "      <th>info_parenth</th>\n",
       "      <th>info_1</th>\n",
       "      <th>info_2</th>\n",
       "      <th>info_3</th>\n",
       "      <th>info_4</th>\n",
       "      <th>info_5</th>\n",
       "      <th>info_6</th>\n",
       "      <th>info_7</th>\n",
       "      <th>info_8</th>\n",
       "      <th>info_9</th>\n",
       "      <th>info_10</th>\n",
       "      <th>info_11</th>\n",
       "      <th>age</th>\n",
       "      <th>cause_of_death</th>\n",
       "      <th>place_1</th>\n",
       "      <th>place_2</th>\n",
       "      <th>info_parenth_copy</th>\n",
       "      <th>log_num_references</th>\n",
       "      <th>sciences</th>\n",
       "      <th>social</th>\n",
       "      <th>spiritual</th>\n",
       "      <th>academia_humanities</th>\n",
       "      <th>business_farming</th>\n",
       "      <th>arts</th>\n",
       "      <th>sports</th>\n",
       "      <th>law_enf_military_operator</th>\n",
       "      <th>politics_govt_law</th>\n",
       "      <th>crime</th>\n",
       "      <th>event_record_other</th>\n",
       "      <th>other_species</th>\n",
       "      <th>num_categories</th>\n",
       "    </tr>\n",
       "  </thead>\n",
       "  <tbody>\n",
       "    <tr>\n",
       "      <th>12283</th>\n",
       "      <td>12</td>\n",
       "      <td>Johnny Warangkula Tjupurrula</td>\n",
       "      <td>, 75/76, Australian aboriginal painter.</td>\n",
       "      <td>https://en.wikipedia.org/wiki/Johnny_Warangkula_Tjupurrula</td>\n",
       "      <td>13</td>\n",
       "      <td>2001</td>\n",
       "      <td>February</td>\n",
       "      <td>None</td>\n",
       "      <td>None</td>\n",
       "      <td></td>\n",
       "      <td>None</td>\n",
       "      <td>None</td>\n",
       "      <td>None</td>\n",
       "      <td>None</td>\n",
       "      <td>None</td>\n",
       "      <td>None</td>\n",
       "      <td>None</td>\n",
       "      <td>None</td>\n",
       "      <td>None</td>\n",
       "      <td>75.5</td>\n",
       "      <td>None</td>\n",
       "      <td>Australia</td>\n",
       "      <td>None</td>\n",
       "      <td>None</td>\n",
       "      <td>2.639057</td>\n",
       "      <td>0</td>\n",
       "      <td>0</td>\n",
       "      <td>0</td>\n",
       "      <td>0</td>\n",
       "      <td>0</td>\n",
       "      <td>1</td>\n",
       "      <td>0</td>\n",
       "      <td>0</td>\n",
       "      <td>0</td>\n",
       "      <td>0</td>\n",
       "      <td>0</td>\n",
       "      <td>0</td>\n",
       "      <td>1</td>\n",
       "    </tr>\n",
       "    <tr>\n",
       "      <th>75166</th>\n",
       "      <td>8</td>\n",
       "      <td>Milan Asadurov</td>\n",
       "      <td>, 69, Bulgarian science fiction writer.</td>\n",
       "      <td>https://en.wikipedia.org/wiki/Milan_Asadurov</td>\n",
       "      <td>3</td>\n",
       "      <td>2019</td>\n",
       "      <td>June</td>\n",
       "      <td>None</td>\n",
       "      <td>None</td>\n",
       "      <td></td>\n",
       "      <td>None</td>\n",
       "      <td>None</td>\n",
       "      <td>None</td>\n",
       "      <td>None</td>\n",
       "      <td>None</td>\n",
       "      <td>None</td>\n",
       "      <td>None</td>\n",
       "      <td>None</td>\n",
       "      <td>None</td>\n",
       "      <td>69.0</td>\n",
       "      <td>None</td>\n",
       "      <td>Bulgaria</td>\n",
       "      <td>None</td>\n",
       "      <td>None</td>\n",
       "      <td>1.386294</td>\n",
       "      <td>0</td>\n",
       "      <td>0</td>\n",
       "      <td>0</td>\n",
       "      <td>0</td>\n",
       "      <td>0</td>\n",
       "      <td>1</td>\n",
       "      <td>0</td>\n",
       "      <td>0</td>\n",
       "      <td>0</td>\n",
       "      <td>0</td>\n",
       "      <td>0</td>\n",
       "      <td>0</td>\n",
       "      <td>1</td>\n",
       "    </tr>\n",
       "  </tbody>\n",
       "</table>\n",
       "</div>"
      ],
      "text/plain": [
       "      day                          name  \\\n",
       "12283  12  Johnny Warangkula Tjupurrula   \n",
       "75166   8                Milan Asadurov   \n",
       "\n",
       "                                          info  \\\n",
       "12283  , 75/76, Australian aboriginal painter.   \n",
       "75166  , 69, Bulgarian science fiction writer.   \n",
       "\n",
       "                                                             link  \\\n",
       "12283  https://en.wikipedia.org/wiki/Johnny_Warangkula_Tjupurrula   \n",
       "75166                https://en.wikipedia.org/wiki/Milan_Asadurov   \n",
       "\n",
       "       num_references  year     month info_parenth info_1 info_2 info_3  \\\n",
       "12283              13  2001  February         None   None          None   \n",
       "75166               3  2019      June         None   None          None   \n",
       "\n",
       "      info_4 info_5 info_6 info_7 info_8 info_9 info_10 info_11   age  \\\n",
       "12283   None   None   None   None   None   None    None    None  75.5   \n",
       "75166   None   None   None   None   None   None    None    None  69.0   \n",
       "\n",
       "      cause_of_death    place_1 place_2 info_parenth_copy  log_num_references  \\\n",
       "12283           None  Australia    None              None            2.639057   \n",
       "75166           None   Bulgaria    None              None            1.386294   \n",
       "\n",
       "       sciences  social  spiritual  academia_humanities  business_farming  \\\n",
       "12283         0       0          0                    0                 0   \n",
       "75166         0       0          0                    0                 0   \n",
       "\n",
       "       arts  sports  law_enf_military_operator  politics_govt_law  crime  \\\n",
       "12283     1       0                          0                  0      0   \n",
       "75166     1       0                          0                  0      0   \n",
       "\n",
       "       event_record_other  other_species  num_categories  \n",
       "12283                   0              0               1  \n",
       "75166                   0              0               1  "
      ]
     },
     "execution_count": 135,
     "metadata": {},
     "output_type": "execute_result"
    },
    {
     "data": {
      "application/javascript": [
       "\n",
       "            setTimeout(function() {\n",
       "                var nbb_cell_id = 135;\n",
       "                var nbb_unformatted_code = \"%%time\\n\\n# Dictionary version\\nsearch_dict = known_for_dict\\n\\n# Column to check\\ncolumn = 'info_2'\\n\\n# Dataframe\\ndataframe = df[column].notna()\\n\\n# For loop to find role in column and extract it as category\\nfor category, category_lst in search_dict.items():\\n    for role in category_lst:\\n        for index in dataframe.index:\\n            item = df.loc[index, column]\\n            if item:\\n                if role in item:\\n                    df.loc[index, category] = 1\\n                    df.loc[index, column] = item.replace(role, '').strip()\\n\\n# Updating num_categories\\ndf[\\\"num_categories\\\"] = df[known_for_dict.keys()].sum(axis=1)\\n\\n# Checking a sample of rows\\ndf[df['arts'] ==1].sample(2)\";\n",
       "                var nbb_formatted_code = \"%%time\\n\\n# Dictionary version\\nsearch_dict = known_for_dict\\n\\n# Column to check\\ncolumn = 'info_2'\\n\\n# Dataframe\\ndataframe = df[column].notna()\\n\\n# For loop to find role in column and extract it as category\\nfor category, category_lst in search_dict.items():\\n    for role in category_lst:\\n        for index in dataframe.index:\\n            item = df.loc[index, column]\\n            if item:\\n                if role in item:\\n                    df.loc[index, category] = 1\\n                    df.loc[index, column] = item.replace(role, '').strip()\\n\\n# Updating num_categories\\ndf[\\\"num_categories\\\"] = df[known_for_dict.keys()].sum(axis=1)\\n\\n# Checking a sample of rows\\ndf[df['arts'] ==1].sample(2)\";\n",
       "                var nbb_cells = Jupyter.notebook.get_cells();\n",
       "                for (var i = 0; i < nbb_cells.length; ++i) {\n",
       "                    if (nbb_cells[i].input_prompt_number == nbb_cell_id) {\n",
       "                        if (nbb_cells[i].get_text() == nbb_unformatted_code) {\n",
       "                             nbb_cells[i].set_text(nbb_formatted_code);\n",
       "                        }\n",
       "                        break;\n",
       "                    }\n",
       "                }\n",
       "            }, 500);\n",
       "            "
      ],
      "text/plain": [
       "<IPython.core.display.Javascript object>"
      ]
     },
     "metadata": {},
     "output_type": "display_data"
    }
   ],
   "source": [
    "%%time\n",
    "\n",
    "# Dictionary version\n",
    "search_dict = known_for_dict\n",
    "\n",
    "# Column to check\n",
    "column = 'info_2'\n",
    "\n",
    "# Dataframe\n",
    "dataframe = df[column].notna()\n",
    "\n",
    "# For loop to find role in column and extract it as category\n",
    "for category, category_lst in search_dict.items():\n",
    "    for role in category_lst:\n",
    "        for index in dataframe.index:\n",
    "            item = df.loc[index, column]\n",
    "            if item:\n",
    "                if role in item:\n",
    "                    df.loc[index, category] = 1\n",
    "                    df.loc[index, column] = item.replace(role, '').strip()\n",
    "\n",
    "# Updating num_categories\n",
    "df[\"num_categories\"] = df[known_for_dict.keys()].sum(axis=1)\n",
    "\n",
    "# Checking a sample of rows\n",
    "df[df['arts'] ==1].sample(2)"
   ]
  },
  {
   "cell_type": "markdown",
   "id": "5f93ba22",
   "metadata": {},
   "source": [
    "#### Checking the Number of Rows without a First Category"
   ]
  },
  {
   "cell_type": "code",
   "execution_count": 136,
   "id": "c497f88e",
   "metadata": {},
   "outputs": [
    {
     "name": "stdout",
     "output_type": "stream",
     "text": [
      "There are 38540 entries without any known_for category.\n"
     ]
    },
    {
     "data": {
      "application/javascript": [
       "\n",
       "            setTimeout(function() {\n",
       "                var nbb_cell_id = 136;\n",
       "                var nbb_unformatted_code = \"#### Checking the number of rows without a first category\\nprint(\\n    f'There are {len(df[df[\\\"num_categories\\\"]==0])} entries without any known_for category.'\\n)\";\n",
       "                var nbb_formatted_code = \"#### Checking the number of rows without a first category\\nprint(\\n    f'There are {len(df[df[\\\"num_categories\\\"]==0])} entries without any known_for category.'\\n)\";\n",
       "                var nbb_cells = Jupyter.notebook.get_cells();\n",
       "                for (var i = 0; i < nbb_cells.length; ++i) {\n",
       "                    if (nbb_cells[i].input_prompt_number == nbb_cell_id) {\n",
       "                        if (nbb_cells[i].get_text() == nbb_unformatted_code) {\n",
       "                             nbb_cells[i].set_text(nbb_formatted_code);\n",
       "                        }\n",
       "                        break;\n",
       "                    }\n",
       "                }\n",
       "            }, 500);\n",
       "            "
      ],
      "text/plain": [
       "<IPython.core.display.Javascript object>"
      ]
     },
     "metadata": {},
     "output_type": "display_data"
    }
   ],
   "source": [
    "#### Checking the number of rows without a first category\n",
    "print(\n",
    "    f'There are {len(df[df[\"num_categories\"]==0])} entries without any known_for category.'\n",
    ")"
   ]
  },
  {
   "cell_type": "markdown",
   "id": "a661e7e1",
   "metadata": {},
   "source": [
    "#### Observations:\n",
    "- We will proceed to rebuild `known_for_dict` for the next iteration."
   ]
  },
  {
   "cell_type": "markdown",
   "id": "e4bc3ad0",
   "metadata": {},
   "source": [
    "#### Finding `known_for` Roles in `info_2`"
   ]
  },
  {
   "cell_type": "code",
   "execution_count": 137,
   "id": "06ca1235",
   "metadata": {},
   "outputs": [
    {
     "data": {
      "application/javascript": [
       "\n",
       "            setTimeout(function() {\n",
       "                var nbb_cell_id = 137;\n",
       "                var nbb_unformatted_code = \"# Obtaining values for column and their counts\\nroles_list = df[\\\"info_2\\\"].value_counts(ascending=True).index.tolist()\";\n",
       "                var nbb_formatted_code = \"# Obtaining values for column and their counts\\nroles_list = df[\\\"info_2\\\"].value_counts(ascending=True).index.tolist()\";\n",
       "                var nbb_cells = Jupyter.notebook.get_cells();\n",
       "                for (var i = 0; i < nbb_cells.length; ++i) {\n",
       "                    if (nbb_cells[i].input_prompt_number == nbb_cell_id) {\n",
       "                        if (nbb_cells[i].get_text() == nbb_unformatted_code) {\n",
       "                             nbb_cells[i].set_text(nbb_formatted_code);\n",
       "                        }\n",
       "                        break;\n",
       "                    }\n",
       "                }\n",
       "            }, 500);\n",
       "            "
      ],
      "text/plain": [
       "<IPython.core.display.Javascript object>"
      ]
     },
     "metadata": {},
     "output_type": "display_data"
    }
   ],
   "source": [
    "# Obtaining values for column and their counts\n",
    "roles_list = df[\"info_2\"].value_counts(ascending=True).index.tolist()"
   ]
  },
  {
   "cell_type": "code",
   "execution_count": 138,
   "id": "79608b03",
   "metadata": {},
   "outputs": [
    {
     "data": {
      "application/javascript": [
       "\n",
       "            setTimeout(function() {\n",
       "                var nbb_cell_id = 138;\n",
       "                var nbb_unformatted_code = \"# # Code to check each value\\n# roles_list.pop()\";\n",
       "                var nbb_formatted_code = \"# # Code to check each value\\n# roles_list.pop()\";\n",
       "                var nbb_cells = Jupyter.notebook.get_cells();\n",
       "                for (var i = 0; i < nbb_cells.length; ++i) {\n",
       "                    if (nbb_cells[i].input_prompt_number == nbb_cell_id) {\n",
       "                        if (nbb_cells[i].get_text() == nbb_unformatted_code) {\n",
       "                             nbb_cells[i].set_text(nbb_formatted_code);\n",
       "                        }\n",
       "                        break;\n",
       "                    }\n",
       "                }\n",
       "            }, 500);\n",
       "            "
      ],
      "text/plain": [
       "<IPython.core.display.Javascript object>"
      ]
     },
     "metadata": {},
     "output_type": "display_data"
    }
   ],
   "source": [
    "# # Code to check each value\n",
    "# roles_list.pop()"
   ]
  },
  {
   "cell_type": "code",
   "execution_count": 139,
   "id": "ca0eef2b",
   "metadata": {},
   "outputs": [
    {
     "data": {
      "application/javascript": [
       "\n",
       "            setTimeout(function() {\n",
       "                var nbb_cell_id = 139;\n",
       "                var nbb_unformatted_code = \"# # Create specific_roles_list for above popped value\\n# specific_roles_list = (\\n#     df.loc[\\n#         [index for index in df.index if \\\"physician\\\" in df.loc[index, \\\"info\\\"]], \\\"info_2\\\",\\n#     ]\\n#     .value_counts()\\n#     .index.tolist()\\n# )\";\n",
       "                var nbb_formatted_code = \"# # Create specific_roles_list for above popped value\\n# specific_roles_list = (\\n#     df.loc[\\n#         [index for index in df.index if \\\"physician\\\" in df.loc[index, \\\"info\\\"]], \\\"info_2\\\",\\n#     ]\\n#     .value_counts()\\n#     .index.tolist()\\n# )\";\n",
       "                var nbb_cells = Jupyter.notebook.get_cells();\n",
       "                for (var i = 0; i < nbb_cells.length; ++i) {\n",
       "                    if (nbb_cells[i].input_prompt_number == nbb_cell_id) {\n",
       "                        if (nbb_cells[i].get_text() == nbb_unformatted_code) {\n",
       "                             nbb_cells[i].set_text(nbb_formatted_code);\n",
       "                        }\n",
       "                        break;\n",
       "                    }\n",
       "                }\n",
       "            }, 500);\n",
       "            "
      ],
      "text/plain": [
       "<IPython.core.display.Javascript object>"
      ]
     },
     "metadata": {},
     "output_type": "display_data"
    }
   ],
   "source": [
    "# # Create specific_roles_list for above popped value\n",
    "# specific_roles_list = (\n",
    "#     df.loc[\n",
    "#         [index for index in df.index if \"physician\" in df.loc[index, \"info\"]], \"info_2\",\n",
    "#     ]\n",
    "#     .value_counts()\n",
    "#     .index.tolist()\n",
    "# )"
   ]
  },
  {
   "cell_type": "code",
   "execution_count": 140,
   "id": "77a87a9b",
   "metadata": {},
   "outputs": [
    {
     "data": {
      "application/javascript": [
       "\n",
       "            setTimeout(function() {\n",
       "                var nbb_cell_id = 140;\n",
       "                var nbb_unformatted_code = \"# # Code to check each specific value\\n# specific_roles_list.pop()\";\n",
       "                var nbb_formatted_code = \"# # Code to check each specific value\\n# specific_roles_list.pop()\";\n",
       "                var nbb_cells = Jupyter.notebook.get_cells();\n",
       "                for (var i = 0; i < nbb_cells.length; ++i) {\n",
       "                    if (nbb_cells[i].input_prompt_number == nbb_cell_id) {\n",
       "                        if (nbb_cells[i].get_text() == nbb_unformatted_code) {\n",
       "                             nbb_cells[i].set_text(nbb_formatted_code);\n",
       "                        }\n",
       "                        break;\n",
       "                    }\n",
       "                }\n",
       "            }, 500);\n",
       "            "
      ],
      "text/plain": [
       "<IPython.core.display.Javascript object>"
      ]
     },
     "metadata": {},
     "output_type": "display_data"
    }
   ],
   "source": [
    "# # Code to check each specific value\n",
    "# specific_roles_list.pop()"
   ]
  },
  {
   "cell_type": "code",
   "execution_count": 141,
   "id": "95a8192d",
   "metadata": {},
   "outputs": [
    {
     "data": {
      "application/javascript": [
       "\n",
       "            setTimeout(function() {\n",
       "                var nbb_cell_id = 141;\n",
       "                var nbb_unformatted_code = \"# # Example code to quick-screen values that may overlap categories\\n# df.loc[\\n#     [\\n#         index\\n#         for index in df.index\\n#         if \\\"physician and medical unionist\\\" in df.loc[index, \\\"info\\\"]\\n#     ]\\n# ]\";\n",
       "                var nbb_formatted_code = \"# # Example code to quick-screen values that may overlap categories\\n# df.loc[\\n#     [\\n#         index\\n#         for index in df.index\\n#         if \\\"physician and medical unionist\\\" in df.loc[index, \\\"info\\\"]\\n#     ]\\n# ]\";\n",
       "                var nbb_cells = Jupyter.notebook.get_cells();\n",
       "                for (var i = 0; i < nbb_cells.length; ++i) {\n",
       "                    if (nbb_cells[i].input_prompt_number == nbb_cell_id) {\n",
       "                        if (nbb_cells[i].get_text() == nbb_unformatted_code) {\n",
       "                             nbb_cells[i].set_text(nbb_formatted_code);\n",
       "                        }\n",
       "                        break;\n",
       "                    }\n",
       "                }\n",
       "            }, 500);\n",
       "            "
      ],
      "text/plain": [
       "<IPython.core.display.Javascript object>"
      ]
     },
     "metadata": {},
     "output_type": "display_data"
    }
   ],
   "source": [
    "# # Example code to quick-screen values that may overlap categories\n",
    "# df.loc[\n",
    "#     [\n",
    "#         index\n",
    "#         for index in df.index\n",
    "#         if \"physician and medical unionist\" in df.loc[index, \"info\"]\n",
    "#     ]\n",
    "# ]"
   ]
  },
  {
   "cell_type": "code",
   "execution_count": 142,
   "id": "8679e0c7",
   "metadata": {},
   "outputs": [
    {
     "data": {
      "application/javascript": [
       "\n",
       "            setTimeout(function() {\n",
       "                var nbb_cell_id = 142;\n",
       "                var nbb_unformatted_code = \"# # Example code to quick-check a specific entry\\n# df[df[\\\"info_2\\\"] == \\\"billionare physician\\\"]\";\n",
       "                var nbb_formatted_code = \"# # Example code to quick-check a specific entry\\n# df[df[\\\"info_2\\\"] == \\\"billionare physician\\\"]\";\n",
       "                var nbb_cells = Jupyter.notebook.get_cells();\n",
       "                for (var i = 0; i < nbb_cells.length; ++i) {\n",
       "                    if (nbb_cells[i].input_prompt_number == nbb_cell_id) {\n",
       "                        if (nbb_cells[i].get_text() == nbb_unformatted_code) {\n",
       "                             nbb_cells[i].set_text(nbb_formatted_code);\n",
       "                        }\n",
       "                        break;\n",
       "                    }\n",
       "                }\n",
       "            }, 500);\n",
       "            "
      ],
      "text/plain": [
       "<IPython.core.display.Javascript object>"
      ]
     },
     "metadata": {},
     "output_type": "display_data"
    }
   ],
   "source": [
    "# # Example code to quick-check a specific entry\n",
    "# df[df[\"info_2\"] == \"billionare physician\"]"
   ]
  },
  {
   "cell_type": "markdown",
   "id": "ea1ae121",
   "metadata": {},
   "source": [
    "#### Creating Lists for Each `known_for` Category"
   ]
  },
  {
   "cell_type": "code",
   "execution_count": 143,
   "id": "2b79532b",
   "metadata": {},
   "outputs": [
    {
     "data": {
      "application/javascript": [
       "\n",
       "            setTimeout(function() {\n",
       "                var nbb_cell_id = 143;\n",
       "                var nbb_unformatted_code = \"# Creating lists for each category\\npolitics_govt_law = [\\n    \\\"former head of the WHO AIDS program\\\",\\n    \\\"head of the F D A\\\",\\n    \\\"faithless elector\\\",\\n    \\\"medical unionist\\\",  # before sciences\\n]\\n\\narts = [\\\"chairwoman of the Bromsgrove Festival\\\"]\\nsports = []\\nsciences = [\\n    \\\"biochemist and physician\\\",\\n    \\\"physician and cytologist\\\",\\n    \\\"physician and pioneer in sex reassignment surgery\\\",\\n    \\\"physician who delivered first test tube baby\\\",\\n    \\\"medical researcher and physician\\\",\\n    \\\"physician and abortion provider\\\",\\n    \\\"physician and pioneer in AIDS detection\\\",\\n    \\\"physician and inventor\\\",\\n    \\\"attending physician to President John F Kennedy after his assassination\\\",\\n    \\\"physician and expert on international health\\\",\\n    \\\"physician and geneticist\\\",\\n    \\\"physician and histologist\\\",\\n    \\\"transplant physician and immunologist\\\",\\n    \\\"physician and toxicologist\\\",\\n    \\\"physician and haematologist\\\",\\n    \\\"physician and physiologist\\\",\\n    \\\"respiratory physician\\\",\\n    \\\"physician and family therapy pioneer\\\",\\n    \\\"orthopedic physician\\\",\\n    \\\"physician and sexologist\\\",\\n    \\\"physician and medical scientist\\\",\\n    \\\"physician and virologist\\\",\\n    \\\"physician and pioneer in prolotherapy\\\",\\n    \\\"physician and research scientist\\\",\\n    \\\"physician and suspect in several murders\\\",\\n    \\\"physician and psychiatrist\\\",\\n    \\\"pediatric surgeon\\\",\\n    \\\"physician and a NASA\\\",\\n    \\\"physician and son of Ernest Hemingway\\\",\\n    \\\"tropical physician\\\",\\n    \\\"EMS physician\\\",\\n    \\\"research physician\\\",\\n    \\\"physician and toxicology researcher\\\",\\n    \\\"physician and leukemia researcher\\\",\\n    \\\"family health physician\\\",\\n    \\\"physician and organ transplant expert\\\",\\n    \\\"aerospace physician\\\",\\n    \\\"physician and cancer genetic researcher\\\",\\n    \\\"physician and molecular geneticist\\\",\\n    \\\"cardiologist and emergency physician\\\",\\n    \\\"physician and chemist\\\",\\n    \\\"physician and stem cell researcher\\\",\\n    \\\"physician and scientist\\\",\\n    \\\"physician and cancer researcher\\\",\\n    \\\"Ayurvedic physician\\\",\\n    \\\"physician and gastroenterologist\\\",\\n    \\\"physician and radiologist\\\",\\n    \\\"pharmacologist and physician\\\",\\n    \\\"pediatric cardiac surgeon and physician\\\",\\n    \\\"physician and neuropathologist\\\",\\n    \\\"physician and scientific\\\",\\n    \\\"ayurvedic physician\\\",\\n    \\\"physician and HIV AIDS researcher\\\",\\n    \\\"physician and pharmacologist\\\",\\n    \\\"physician and thoracic specialist\\\",\\n    \\\"physician and anatomist\\\",\\n    \\\"chief physician\\\",\\n    \\\"pediatrician and family physician\\\",\\n    \\\"physician known for alternative cancer treatments\\\",\\n    \\\"nutritionist and physician\\\",\\n    \\\"physician and clinical researcher\\\",\\n    \\\"physician and cardiologist\\\",\\n    \\\"physician and psychoanalyst\\\",\\n    \\\"physician and epidemiologist\\\",\\n    \\\"physician and pathologist\\\",\\n    \\\"consultant physician\\\",\\n    \\\"physician and medical researcher\\\",\\n    \\\"physician and medical\\\",\\n    \\\"physician and\\\",\\n    \\\"and physician\\\",\\n    \\\"physician\\\",\\n]\\n\\nbusiness_farming = [\\\"founder of Janssen Pharmaceutica\\\"]\\nacademia_humanities = []\\nlaw_enf_military_operator = []\\nspiritual = []\\nsocial = [\\\"hospice founder\\\", \\\"in chief of Children Hospital\\\"]\\ncrime = []\\nevent_record_other = []\\nother_species = []\";\n",
       "                var nbb_formatted_code = \"# Creating lists for each category\\npolitics_govt_law = [\\n    \\\"former head of the WHO AIDS program\\\",\\n    \\\"head of the F D A\\\",\\n    \\\"faithless elector\\\",\\n    \\\"medical unionist\\\",  # before sciences\\n]\\n\\narts = [\\\"chairwoman of the Bromsgrove Festival\\\"]\\nsports = []\\nsciences = [\\n    \\\"biochemist and physician\\\",\\n    \\\"physician and cytologist\\\",\\n    \\\"physician and pioneer in sex reassignment surgery\\\",\\n    \\\"physician who delivered first test tube baby\\\",\\n    \\\"medical researcher and physician\\\",\\n    \\\"physician and abortion provider\\\",\\n    \\\"physician and pioneer in AIDS detection\\\",\\n    \\\"physician and inventor\\\",\\n    \\\"attending physician to President John F Kennedy after his assassination\\\",\\n    \\\"physician and expert on international health\\\",\\n    \\\"physician and geneticist\\\",\\n    \\\"physician and histologist\\\",\\n    \\\"transplant physician and immunologist\\\",\\n    \\\"physician and toxicologist\\\",\\n    \\\"physician and haematologist\\\",\\n    \\\"physician and physiologist\\\",\\n    \\\"respiratory physician\\\",\\n    \\\"physician and family therapy pioneer\\\",\\n    \\\"orthopedic physician\\\",\\n    \\\"physician and sexologist\\\",\\n    \\\"physician and medical scientist\\\",\\n    \\\"physician and virologist\\\",\\n    \\\"physician and pioneer in prolotherapy\\\",\\n    \\\"physician and research scientist\\\",\\n    \\\"physician and suspect in several murders\\\",\\n    \\\"physician and psychiatrist\\\",\\n    \\\"pediatric surgeon\\\",\\n    \\\"physician and a NASA\\\",\\n    \\\"physician and son of Ernest Hemingway\\\",\\n    \\\"tropical physician\\\",\\n    \\\"EMS physician\\\",\\n    \\\"research physician\\\",\\n    \\\"physician and toxicology researcher\\\",\\n    \\\"physician and leukemia researcher\\\",\\n    \\\"family health physician\\\",\\n    \\\"physician and organ transplant expert\\\",\\n    \\\"aerospace physician\\\",\\n    \\\"physician and cancer genetic researcher\\\",\\n    \\\"physician and molecular geneticist\\\",\\n    \\\"cardiologist and emergency physician\\\",\\n    \\\"physician and chemist\\\",\\n    \\\"physician and stem cell researcher\\\",\\n    \\\"physician and scientist\\\",\\n    \\\"physician and cancer researcher\\\",\\n    \\\"Ayurvedic physician\\\",\\n    \\\"physician and gastroenterologist\\\",\\n    \\\"physician and radiologist\\\",\\n    \\\"pharmacologist and physician\\\",\\n    \\\"pediatric cardiac surgeon and physician\\\",\\n    \\\"physician and neuropathologist\\\",\\n    \\\"physician and scientific\\\",\\n    \\\"ayurvedic physician\\\",\\n    \\\"physician and HIV AIDS researcher\\\",\\n    \\\"physician and pharmacologist\\\",\\n    \\\"physician and thoracic specialist\\\",\\n    \\\"physician and anatomist\\\",\\n    \\\"chief physician\\\",\\n    \\\"pediatrician and family physician\\\",\\n    \\\"physician known for alternative cancer treatments\\\",\\n    \\\"nutritionist and physician\\\",\\n    \\\"physician and clinical researcher\\\",\\n    \\\"physician and cardiologist\\\",\\n    \\\"physician and psychoanalyst\\\",\\n    \\\"physician and epidemiologist\\\",\\n    \\\"physician and pathologist\\\",\\n    \\\"consultant physician\\\",\\n    \\\"physician and medical researcher\\\",\\n    \\\"physician and medical\\\",\\n    \\\"physician and\\\",\\n    \\\"and physician\\\",\\n    \\\"physician\\\",\\n]\\n\\nbusiness_farming = [\\\"founder of Janssen Pharmaceutica\\\"]\\nacademia_humanities = []\\nlaw_enf_military_operator = []\\nspiritual = []\\nsocial = [\\\"hospice founder\\\", \\\"in chief of Children Hospital\\\"]\\ncrime = []\\nevent_record_other = []\\nother_species = []\";\n",
       "                var nbb_cells = Jupyter.notebook.get_cells();\n",
       "                for (var i = 0; i < nbb_cells.length; ++i) {\n",
       "                    if (nbb_cells[i].input_prompt_number == nbb_cell_id) {\n",
       "                        if (nbb_cells[i].get_text() == nbb_unformatted_code) {\n",
       "                             nbb_cells[i].set_text(nbb_formatted_code);\n",
       "                        }\n",
       "                        break;\n",
       "                    }\n",
       "                }\n",
       "            }, 500);\n",
       "            "
      ],
      "text/plain": [
       "<IPython.core.display.Javascript object>"
      ]
     },
     "metadata": {},
     "output_type": "display_data"
    }
   ],
   "source": [
    "# Creating lists for each category\n",
    "politics_govt_law = [\n",
    "    \"former head of the WHO AIDS program\",\n",
    "    \"head of the F D A\",\n",
    "    \"faithless elector\",\n",
    "    \"medical unionist\",  # before sciences\n",
    "]\n",
    "\n",
    "arts = [\"chairwoman of the Bromsgrove Festival\"]\n",
    "sports = []\n",
    "sciences = [\n",
    "    \"biochemist and physician\",\n",
    "    \"physician and cytologist\",\n",
    "    \"physician and pioneer in sex reassignment surgery\",\n",
    "    \"physician who delivered first test tube baby\",\n",
    "    \"medical researcher and physician\",\n",
    "    \"physician and abortion provider\",\n",
    "    \"physician and pioneer in AIDS detection\",\n",
    "    \"physician and inventor\",\n",
    "    \"attending physician to President John F Kennedy after his assassination\",\n",
    "    \"physician and expert on international health\",\n",
    "    \"physician and geneticist\",\n",
    "    \"physician and histologist\",\n",
    "    \"transplant physician and immunologist\",\n",
    "    \"physician and toxicologist\",\n",
    "    \"physician and haematologist\",\n",
    "    \"physician and physiologist\",\n",
    "    \"respiratory physician\",\n",
    "    \"physician and family therapy pioneer\",\n",
    "    \"orthopedic physician\",\n",
    "    \"physician and sexologist\",\n",
    "    \"physician and medical scientist\",\n",
    "    \"physician and virologist\",\n",
    "    \"physician and pioneer in prolotherapy\",\n",
    "    \"physician and research scientist\",\n",
    "    \"physician and suspect in several murders\",\n",
    "    \"physician and psychiatrist\",\n",
    "    \"pediatric surgeon\",\n",
    "    \"physician and a NASA\",\n",
    "    \"physician and son of Ernest Hemingway\",\n",
    "    \"tropical physician\",\n",
    "    \"EMS physician\",\n",
    "    \"research physician\",\n",
    "    \"physician and toxicology researcher\",\n",
    "    \"physician and leukemia researcher\",\n",
    "    \"family health physician\",\n",
    "    \"physician and organ transplant expert\",\n",
    "    \"aerospace physician\",\n",
    "    \"physician and cancer genetic researcher\",\n",
    "    \"physician and molecular geneticist\",\n",
    "    \"cardiologist and emergency physician\",\n",
    "    \"physician and chemist\",\n",
    "    \"physician and stem cell researcher\",\n",
    "    \"physician and scientist\",\n",
    "    \"physician and cancer researcher\",\n",
    "    \"Ayurvedic physician\",\n",
    "    \"physician and gastroenterologist\",\n",
    "    \"physician and radiologist\",\n",
    "    \"pharmacologist and physician\",\n",
    "    \"pediatric cardiac surgeon and physician\",\n",
    "    \"physician and neuropathologist\",\n",
    "    \"physician and scientific\",\n",
    "    \"ayurvedic physician\",\n",
    "    \"physician and HIV AIDS researcher\",\n",
    "    \"physician and pharmacologist\",\n",
    "    \"physician and thoracic specialist\",\n",
    "    \"physician and anatomist\",\n",
    "    \"chief physician\",\n",
    "    \"pediatrician and family physician\",\n",
    "    \"physician known for alternative cancer treatments\",\n",
    "    \"nutritionist and physician\",\n",
    "    \"physician and clinical researcher\",\n",
    "    \"physician and cardiologist\",\n",
    "    \"physician and psychoanalyst\",\n",
    "    \"physician and epidemiologist\",\n",
    "    \"physician and pathologist\",\n",
    "    \"consultant physician\",\n",
    "    \"physician and medical researcher\",\n",
    "    \"physician and medical\",\n",
    "    \"physician and\",\n",
    "    \"and physician\",\n",
    "    \"physician\",\n",
    "]\n",
    "\n",
    "business_farming = [\"founder of Janssen Pharmaceutica\"]\n",
    "academia_humanities = []\n",
    "law_enf_military_operator = []\n",
    "spiritual = []\n",
    "social = [\"hospice founder\", \"in chief of Children Hospital\"]\n",
    "crime = []\n",
    "event_record_other = []\n",
    "other_species = []"
   ]
  },
  {
   "cell_type": "markdown",
   "id": "fbeafdce",
   "metadata": {},
   "source": [
    "#### Creating `known_for_dict` Dictionary of Category Keys and Specific Role Lists of Values"
   ]
  },
  {
   "cell_type": "code",
   "execution_count": 144,
   "id": "957425ab",
   "metadata": {},
   "outputs": [
    {
     "data": {
      "application/javascript": [
       "\n",
       "            setTimeout(function() {\n",
       "                var nbb_cell_id = 144;\n",
       "                var nbb_unformatted_code = \"# Combining separate lists into one dictionary\\nknown_for_dict = {\\n    \\\"social\\\": social,\\n    \\\"spiritual\\\": spiritual,\\n    \\\"academia_humanities\\\": academia_humanities,\\n    \\\"business_farming\\\": business_farming,\\n    \\\"politics_govt_law\\\": politics_govt_law,\\n    \\\"sciences\\\": sciences,\\n    \\\"law_enf_military_operator\\\": law_enf_military_operator,\\n    \\\"crime\\\": crime,\\n    \\\"event_record_other\\\": event_record_other,\\n    \\\"other_species\\\": other_species,\\n    \\\"arts\\\": arts,\\n    \\\"sports\\\": sports,\\n}\";\n",
       "                var nbb_formatted_code = \"# Combining separate lists into one dictionary\\nknown_for_dict = {\\n    \\\"social\\\": social,\\n    \\\"spiritual\\\": spiritual,\\n    \\\"academia_humanities\\\": academia_humanities,\\n    \\\"business_farming\\\": business_farming,\\n    \\\"politics_govt_law\\\": politics_govt_law,\\n    \\\"sciences\\\": sciences,\\n    \\\"law_enf_military_operator\\\": law_enf_military_operator,\\n    \\\"crime\\\": crime,\\n    \\\"event_record_other\\\": event_record_other,\\n    \\\"other_species\\\": other_species,\\n    \\\"arts\\\": arts,\\n    \\\"sports\\\": sports,\\n}\";\n",
       "                var nbb_cells = Jupyter.notebook.get_cells();\n",
       "                for (var i = 0; i < nbb_cells.length; ++i) {\n",
       "                    if (nbb_cells[i].input_prompt_number == nbb_cell_id) {\n",
       "                        if (nbb_cells[i].get_text() == nbb_unformatted_code) {\n",
       "                             nbb_cells[i].set_text(nbb_formatted_code);\n",
       "                        }\n",
       "                        break;\n",
       "                    }\n",
       "                }\n",
       "            }, 500);\n",
       "            "
      ],
      "text/plain": [
       "<IPython.core.display.Javascript object>"
      ]
     },
     "metadata": {},
     "output_type": "display_data"
    }
   ],
   "source": [
    "# Combining separate lists into one dictionary\n",
    "known_for_dict = {\n",
    "    \"social\": social,\n",
    "    \"spiritual\": spiritual,\n",
    "    \"academia_humanities\": academia_humanities,\n",
    "    \"business_farming\": business_farming,\n",
    "    \"politics_govt_law\": politics_govt_law,\n",
    "    \"sciences\": sciences,\n",
    "    \"law_enf_military_operator\": law_enf_military_operator,\n",
    "    \"crime\": crime,\n",
    "    \"event_record_other\": event_record_other,\n",
    "    \"other_species\": other_species,\n",
    "    \"arts\": arts,\n",
    "    \"sports\": sports,\n",
    "}"
   ]
  },
  {
   "cell_type": "markdown",
   "id": "2937de04",
   "metadata": {},
   "source": [
    "#### Extracting Category from `info_2`"
   ]
  },
  {
   "cell_type": "code",
   "execution_count": 145,
   "id": "e4721601",
   "metadata": {},
   "outputs": [
    {
     "name": "stdout",
     "output_type": "stream",
     "text": [
      "CPU times: total: 40.9 s\n",
      "Wall time: 40.9 s\n"
     ]
    },
    {
     "data": {
      "text/html": [
       "<div>\n",
       "<style scoped>\n",
       "    .dataframe tbody tr th:only-of-type {\n",
       "        vertical-align: middle;\n",
       "    }\n",
       "\n",
       "    .dataframe tbody tr th {\n",
       "        vertical-align: top;\n",
       "    }\n",
       "\n",
       "    .dataframe thead th {\n",
       "        text-align: right;\n",
       "    }\n",
       "</style>\n",
       "<table border=\"1\" class=\"dataframe\">\n",
       "  <thead>\n",
       "    <tr style=\"text-align: right;\">\n",
       "      <th></th>\n",
       "      <th>day</th>\n",
       "      <th>name</th>\n",
       "      <th>info</th>\n",
       "      <th>link</th>\n",
       "      <th>num_references</th>\n",
       "      <th>year</th>\n",
       "      <th>month</th>\n",
       "      <th>info_parenth</th>\n",
       "      <th>info_1</th>\n",
       "      <th>info_2</th>\n",
       "      <th>info_3</th>\n",
       "      <th>info_4</th>\n",
       "      <th>info_5</th>\n",
       "      <th>info_6</th>\n",
       "      <th>info_7</th>\n",
       "      <th>info_8</th>\n",
       "      <th>info_9</th>\n",
       "      <th>info_10</th>\n",
       "      <th>info_11</th>\n",
       "      <th>age</th>\n",
       "      <th>cause_of_death</th>\n",
       "      <th>place_1</th>\n",
       "      <th>place_2</th>\n",
       "      <th>info_parenth_copy</th>\n",
       "      <th>log_num_references</th>\n",
       "      <th>sciences</th>\n",
       "      <th>social</th>\n",
       "      <th>spiritual</th>\n",
       "      <th>academia_humanities</th>\n",
       "      <th>business_farming</th>\n",
       "      <th>arts</th>\n",
       "      <th>sports</th>\n",
       "      <th>law_enf_military_operator</th>\n",
       "      <th>politics_govt_law</th>\n",
       "      <th>crime</th>\n",
       "      <th>event_record_other</th>\n",
       "      <th>other_species</th>\n",
       "      <th>num_categories</th>\n",
       "    </tr>\n",
       "  </thead>\n",
       "  <tbody>\n",
       "    <tr>\n",
       "      <th>88820</th>\n",
       "      <td>30</td>\n",
       "      <td>Francis Otunta</td>\n",
       "      <td>, 62, Nigerian mathematician and academic administrator, vice-chancellor of Michael Okpara University of Agriculture , traffic collision.</td>\n",
       "      <td>https://en.wikipedia.org/wiki/Francis_Otunta</td>\n",
       "      <td>5</td>\n",
       "      <td>2021</td>\n",
       "      <td>March</td>\n",
       "      <td></td>\n",
       "      <td>None</td>\n",
       "      <td></td>\n",
       "      <td>vice chancellor of Michael Okpara University of Agriculture</td>\n",
       "      <td>traffic collision</td>\n",
       "      <td>None</td>\n",
       "      <td>None</td>\n",
       "      <td>None</td>\n",
       "      <td>None</td>\n",
       "      <td>None</td>\n",
       "      <td>None</td>\n",
       "      <td>None</td>\n",
       "      <td>62.0</td>\n",
       "      <td>None</td>\n",
       "      <td>Nigeria</td>\n",
       "      <td>None</td>\n",
       "      <td>2016 2021</td>\n",
       "      <td>1.791759</td>\n",
       "      <td>1</td>\n",
       "      <td>0</td>\n",
       "      <td>0</td>\n",
       "      <td>1</td>\n",
       "      <td>0</td>\n",
       "      <td>0</td>\n",
       "      <td>0</td>\n",
       "      <td>0</td>\n",
       "      <td>0</td>\n",
       "      <td>0</td>\n",
       "      <td>0</td>\n",
       "      <td>0</td>\n",
       "      <td>2</td>\n",
       "    </tr>\n",
       "    <tr>\n",
       "      <th>8078</th>\n",
       "      <td>30</td>\n",
       "      <td>Irving Segal</td>\n",
       "      <td>, 79, American mathematician.</td>\n",
       "      <td>https://en.wikipedia.org/wiki/Irving_Segal</td>\n",
       "      <td>12</td>\n",
       "      <td>1998</td>\n",
       "      <td>August</td>\n",
       "      <td>None</td>\n",
       "      <td>None</td>\n",
       "      <td></td>\n",
       "      <td>None</td>\n",
       "      <td>None</td>\n",
       "      <td>None</td>\n",
       "      <td>None</td>\n",
       "      <td>None</td>\n",
       "      <td>None</td>\n",
       "      <td>None</td>\n",
       "      <td>None</td>\n",
       "      <td>None</td>\n",
       "      <td>79.0</td>\n",
       "      <td>None</td>\n",
       "      <td>United States of America</td>\n",
       "      <td>None</td>\n",
       "      <td>None</td>\n",
       "      <td>2.564949</td>\n",
       "      <td>1</td>\n",
       "      <td>0</td>\n",
       "      <td>0</td>\n",
       "      <td>0</td>\n",
       "      <td>0</td>\n",
       "      <td>0</td>\n",
       "      <td>0</td>\n",
       "      <td>0</td>\n",
       "      <td>0</td>\n",
       "      <td>0</td>\n",
       "      <td>0</td>\n",
       "      <td>0</td>\n",
       "      <td>1</td>\n",
       "    </tr>\n",
       "  </tbody>\n",
       "</table>\n",
       "</div>"
      ],
      "text/plain": [
       "      day            name  \\\n",
       "88820  30  Francis Otunta   \n",
       "8078   30    Irving Segal   \n",
       "\n",
       "                                                                                                                                            info  \\\n",
       "88820  , 62, Nigerian mathematician and academic administrator, vice-chancellor of Michael Okpara University of Agriculture , traffic collision.   \n",
       "8078                                                                                                               , 79, American mathematician.   \n",
       "\n",
       "                                               link  num_references  year  \\\n",
       "88820  https://en.wikipedia.org/wiki/Francis_Otunta               5  2021   \n",
       "8078     https://en.wikipedia.org/wiki/Irving_Segal              12  1998   \n",
       "\n",
       "        month info_parenth info_1 info_2  \\\n",
       "88820   March                None          \n",
       "8078   August         None   None          \n",
       "\n",
       "                                                            info_3  \\\n",
       "88820  vice chancellor of Michael Okpara University of Agriculture   \n",
       "8078                                                          None   \n",
       "\n",
       "                  info_4 info_5 info_6 info_7 info_8 info_9 info_10 info_11  \\\n",
       "88820  traffic collision   None   None   None   None   None    None    None   \n",
       "8078                None   None   None   None   None   None    None    None   \n",
       "\n",
       "        age cause_of_death                   place_1 place_2  \\\n",
       "88820  62.0           None                   Nigeria    None   \n",
       "8078   79.0           None  United States of America    None   \n",
       "\n",
       "      info_parenth_copy  log_num_references  sciences  social  spiritual  \\\n",
       "88820         2016 2021            1.791759         1       0          0   \n",
       "8078               None            2.564949         1       0          0   \n",
       "\n",
       "       academia_humanities  business_farming  arts  sports  \\\n",
       "88820                    1                 0     0       0   \n",
       "8078                     0                 0     0       0   \n",
       "\n",
       "       law_enf_military_operator  politics_govt_law  crime  \\\n",
       "88820                          0                  0      0   \n",
       "8078                           0                  0      0   \n",
       "\n",
       "       event_record_other  other_species  num_categories  \n",
       "88820                   0              0               2  \n",
       "8078                    0              0               1  "
      ]
     },
     "execution_count": 145,
     "metadata": {},
     "output_type": "execute_result"
    },
    {
     "data": {
      "application/javascript": [
       "\n",
       "            setTimeout(function() {\n",
       "                var nbb_cell_id = 145;\n",
       "                var nbb_unformatted_code = \"%%time\\n\\n# Dictionary version\\nsearch_dict = known_for_dict\\n\\n# Column to check\\ncolumn = 'info_2'\\n\\n# Dataframe\\ndataframe = df[column].notna()\\n\\n# For loop to find role in column and extract it as category\\nfor category, category_lst in search_dict.items():\\n    for role in category_lst:\\n        for index in dataframe.index:\\n            item = df.loc[index, column]\\n            if item:\\n                if role in item:\\n                    df.loc[index, category] = 1\\n                    df.loc[index, column] = item.replace(role, '').strip()\\n\\n# Updating num_categories\\ndf[\\\"num_categories\\\"] = df[known_for_dict.keys()].sum(axis=1)\\n\\n# Checking a sample of rows\\ndf[df['sciences'] ==1].sample(2)\";\n",
       "                var nbb_formatted_code = \"%%time\\n\\n# Dictionary version\\nsearch_dict = known_for_dict\\n\\n# Column to check\\ncolumn = 'info_2'\\n\\n# Dataframe\\ndataframe = df[column].notna()\\n\\n# For loop to find role in column and extract it as category\\nfor category, category_lst in search_dict.items():\\n    for role in category_lst:\\n        for index in dataframe.index:\\n            item = df.loc[index, column]\\n            if item:\\n                if role in item:\\n                    df.loc[index, category] = 1\\n                    df.loc[index, column] = item.replace(role, '').strip()\\n\\n# Updating num_categories\\ndf[\\\"num_categories\\\"] = df[known_for_dict.keys()].sum(axis=1)\\n\\n# Checking a sample of rows\\ndf[df['sciences'] ==1].sample(2)\";\n",
       "                var nbb_cells = Jupyter.notebook.get_cells();\n",
       "                for (var i = 0; i < nbb_cells.length; ++i) {\n",
       "                    if (nbb_cells[i].input_prompt_number == nbb_cell_id) {\n",
       "                        if (nbb_cells[i].get_text() == nbb_unformatted_code) {\n",
       "                             nbb_cells[i].set_text(nbb_formatted_code);\n",
       "                        }\n",
       "                        break;\n",
       "                    }\n",
       "                }\n",
       "            }, 500);\n",
       "            "
      ],
      "text/plain": [
       "<IPython.core.display.Javascript object>"
      ]
     },
     "metadata": {},
     "output_type": "display_data"
    }
   ],
   "source": [
    "%%time\n",
    "\n",
    "# Dictionary version\n",
    "search_dict = known_for_dict\n",
    "\n",
    "# Column to check\n",
    "column = 'info_2'\n",
    "\n",
    "# Dataframe\n",
    "dataframe = df[column].notna()\n",
    "\n",
    "# For loop to find role in column and extract it as category\n",
    "for category, category_lst in search_dict.items():\n",
    "    for role in category_lst:\n",
    "        for index in dataframe.index:\n",
    "            item = df.loc[index, column]\n",
    "            if item:\n",
    "                if role in item:\n",
    "                    df.loc[index, category] = 1\n",
    "                    df.loc[index, column] = item.replace(role, '').strip()\n",
    "\n",
    "# Updating num_categories\n",
    "df[\"num_categories\"] = df[known_for_dict.keys()].sum(axis=1)\n",
    "\n",
    "# Checking a sample of rows\n",
    "df[df['sciences'] ==1].sample(2)"
   ]
  },
  {
   "cell_type": "markdown",
   "id": "57fc8d1c",
   "metadata": {},
   "source": [
    "#### Checking the Number of Rows without a First Category"
   ]
  },
  {
   "cell_type": "code",
   "execution_count": 146,
   "id": "b83b0967",
   "metadata": {},
   "outputs": [
    {
     "name": "stdout",
     "output_type": "stream",
     "text": [
      "There are 38171 entries without any known_for category.\n"
     ]
    },
    {
     "data": {
      "application/javascript": [
       "\n",
       "            setTimeout(function() {\n",
       "                var nbb_cell_id = 146;\n",
       "                var nbb_unformatted_code = \"#### Checking the number of rows without a first category\\nprint(\\n    f'There are {len(df[df[\\\"num_categories\\\"]==0])} entries without any known_for category.'\\n)\";\n",
       "                var nbb_formatted_code = \"#### Checking the number of rows without a first category\\nprint(\\n    f'There are {len(df[df[\\\"num_categories\\\"]==0])} entries without any known_for category.'\\n)\";\n",
       "                var nbb_cells = Jupyter.notebook.get_cells();\n",
       "                for (var i = 0; i < nbb_cells.length; ++i) {\n",
       "                    if (nbb_cells[i].input_prompt_number == nbb_cell_id) {\n",
       "                        if (nbb_cells[i].get_text() == nbb_unformatted_code) {\n",
       "                             nbb_cells[i].set_text(nbb_formatted_code);\n",
       "                        }\n",
       "                        break;\n",
       "                    }\n",
       "                }\n",
       "            }, 500);\n",
       "            "
      ],
      "text/plain": [
       "<IPython.core.display.Javascript object>"
      ]
     },
     "metadata": {},
     "output_type": "display_data"
    }
   ],
   "source": [
    "#### Checking the number of rows without a first category\n",
    "print(\n",
    "    f'There are {len(df[df[\"num_categories\"]==0])} entries without any known_for category.'\n",
    ")"
   ]
  },
  {
   "cell_type": "markdown",
   "id": "b929b50f",
   "metadata": {},
   "source": [
    "#### Observations:\n",
    "- Before performing the next iteration, we will export our database and start a new notebook."
   ]
  },
  {
   "cell_type": "markdown",
   "id": "1113a242",
   "metadata": {},
   "source": [
    "### Exporting Dataset to SQLite Database [wp_life_expect_clean7.db](https://github.com/teresahanak/wikipedia-life-expectancy/blob/main/wp_life_expect_clean7.db)"
   ]
  },
  {
   "cell_type": "code",
   "execution_count": 147,
   "id": "6008ac61",
   "metadata": {},
   "outputs": [
    {
     "data": {
      "application/javascript": [
       "\n",
       "            setTimeout(function() {\n",
       "                var nbb_cell_id = 147;\n",
       "                var nbb_unformatted_code = \"# Exporting dataframe\\n\\n# Saving dataset in a SQLite database\\nconn = sql.connect(\\\"wp_life_expect_clean7.db\\\")\\ndf.to_sql(\\\"wp_life_expect_clean7\\\", conn, index=False)\\n\\n# Chime notification when cell executes\\nchime.success()\";\n",
       "                var nbb_formatted_code = \"# Exporting dataframe\\n\\n# Saving dataset in a SQLite database\\nconn = sql.connect(\\\"wp_life_expect_clean7.db\\\")\\ndf.to_sql(\\\"wp_life_expect_clean7\\\", conn, index=False)\\n\\n# Chime notification when cell executes\\nchime.success()\";\n",
       "                var nbb_cells = Jupyter.notebook.get_cells();\n",
       "                for (var i = 0; i < nbb_cells.length; ++i) {\n",
       "                    if (nbb_cells[i].input_prompt_number == nbb_cell_id) {\n",
       "                        if (nbb_cells[i].get_text() == nbb_unformatted_code) {\n",
       "                             nbb_cells[i].set_text(nbb_formatted_code);\n",
       "                        }\n",
       "                        break;\n",
       "                    }\n",
       "                }\n",
       "            }, 500);\n",
       "            "
      ],
      "text/plain": [
       "<IPython.core.display.Javascript object>"
      ]
     },
     "metadata": {},
     "output_type": "display_data"
    }
   ],
   "source": [
    "# Exporting dataframe\n",
    "\n",
    "# Saving dataset in a SQLite database\n",
    "conn = sql.connect(\"wp_life_expect_clean7.db\")\n",
    "df.to_sql(\"wp_life_expect_clean7\", conn, index=False)\n",
    "\n",
    "# Chime notification when cell executes\n",
    "chime.success()"
   ]
  },
  {
   "cell_type": "markdown",
   "id": "11aacfcc",
   "metadata": {},
   "source": [
    "# [Proceed to Data Cleaning Part 8 ](https://github.com/teresahanak/wikipedia-life-expectancy/blob/main/wp_life_expect_data_clean8_thanak_2022_07_26.ipynb)"
   ]
  }
 ],
 "metadata": {
  "kernelspec": {
   "display_name": "Python 3 (ipykernel)",
   "language": "python",
   "name": "python3"
  },
  "language_info": {
   "codemirror_mode": {
    "name": "ipython",
    "version": 3
   },
   "file_extension": ".py",
   "mimetype": "text/x-python",
   "name": "python",
   "nbconvert_exporter": "python",
   "pygments_lexer": "ipython3",
   "version": "3.9.12"
  }
 },
 "nbformat": 4,
 "nbformat_minor": 5
}
