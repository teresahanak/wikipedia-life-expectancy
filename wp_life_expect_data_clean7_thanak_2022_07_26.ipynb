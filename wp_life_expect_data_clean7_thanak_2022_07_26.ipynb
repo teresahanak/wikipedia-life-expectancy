{
 "cells": [
  {
   "cell_type": "markdown",
   "id": "316a0779",
   "metadata": {},
   "source": [
    "# Wikipedia Notable Life Expectancies\n",
    "# [Notebook  : Data Cleaning Part 7](https://github.com/teresahanak/wikipedia-life-expectancy/blob/main/wp_life_expect_data_clean7_thanak_2022_07_26.ipynb)\n",
    "### Context\n",
    "\n",
    "The\n",
    "### Objective\n",
    "\n",
    "The\n",
    "### Data Dictionary\n",
    "- Feature: Description"
   ]
  },
  {
   "cell_type": "markdown",
   "id": "99245d51",
   "metadata": {},
   "source": [
    "### Importing Libraries"
   ]
  },
  {
   "cell_type": "code",
   "execution_count": 1,
   "id": "453bba83",
   "metadata": {},
   "outputs": [
    {
     "data": {
      "application/javascript": [
       "\n",
       "            setTimeout(function() {\n",
       "                var nbb_cell_id = 1;\n",
       "                var nbb_unformatted_code = \"# To structure code automatically\\n%load_ext nb_black\\n\\n# To import/export sqlite databases\\nimport sqlite3 as sql\\n\\n# To save/open python objects in pickle file\\nimport pickle\\n\\n# To help with reading, cleaning, and manipulating data\\nimport pandas as pd\\nimport numpy as np\\nimport re\\n\\n# To define maximum number of columns to be displayed in a dataframe\\npd.set_option(\\\"display.max_columns\\\", None)\\n# To define the maximum number of rows to be displayed in a dataframe\\npd.set_option(\\\"display.max_rows\\\", 200)\\n\\n# To supress warnings\\n# import warnings\\n\\n# warnings.filterwarnings(\\\"ignore\\\")\\n\\n# To set some visualization attributes\\npd.set_option(\\\"max_colwidth\\\", 150)\\n\\n# To play auditory cue when cell has executed, has warning, or has error and set chime theme\\nimport chime\\n\\nchime.theme(\\\"zelda\\\")\";\n",
       "                var nbb_formatted_code = \"# To structure code automatically\\n%load_ext nb_black\\n\\n# To import/export sqlite databases\\nimport sqlite3 as sql\\n\\n# To save/open python objects in pickle file\\nimport pickle\\n\\n# To help with reading, cleaning, and manipulating data\\nimport pandas as pd\\nimport numpy as np\\nimport re\\n\\n# To define maximum number of columns to be displayed in a dataframe\\npd.set_option(\\\"display.max_columns\\\", None)\\n# To define the maximum number of rows to be displayed in a dataframe\\npd.set_option(\\\"display.max_rows\\\", 200)\\n\\n# To supress warnings\\n# import warnings\\n\\n# warnings.filterwarnings(\\\"ignore\\\")\\n\\n# To set some visualization attributes\\npd.set_option(\\\"max_colwidth\\\", 150)\\n\\n# To play auditory cue when cell has executed, has warning, or has error and set chime theme\\nimport chime\\n\\nchime.theme(\\\"zelda\\\")\";\n",
       "                var nbb_cells = Jupyter.notebook.get_cells();\n",
       "                for (var i = 0; i < nbb_cells.length; ++i) {\n",
       "                    if (nbb_cells[i].input_prompt_number == nbb_cell_id) {\n",
       "                        if (nbb_cells[i].get_text() == nbb_unformatted_code) {\n",
       "                             nbb_cells[i].set_text(nbb_formatted_code);\n",
       "                        }\n",
       "                        break;\n",
       "                    }\n",
       "                }\n",
       "            }, 500);\n",
       "            "
      ],
      "text/plain": [
       "<IPython.core.display.Javascript object>"
      ]
     },
     "metadata": {},
     "output_type": "display_data"
    }
   ],
   "source": [
    "# To structure code automatically\n",
    "%load_ext nb_black\n",
    "\n",
    "# To import/export sqlite databases\n",
    "import sqlite3 as sql\n",
    "\n",
    "# To save/open python objects in pickle file\n",
    "import pickle\n",
    "\n",
    "# To help with reading, cleaning, and manipulating data\n",
    "import pandas as pd\n",
    "import numpy as np\n",
    "import re\n",
    "\n",
    "# To define maximum number of columns to be displayed in a dataframe\n",
    "pd.set_option(\"display.max_columns\", None)\n",
    "# To define the maximum number of rows to be displayed in a dataframe\n",
    "pd.set_option(\"display.max_rows\", 200)\n",
    "\n",
    "# To supress warnings\n",
    "# import warnings\n",
    "\n",
    "# warnings.filterwarnings(\"ignore\")\n",
    "\n",
    "# To set some visualization attributes\n",
    "pd.set_option(\"max_colwidth\", 150)\n",
    "\n",
    "# To play auditory cue when cell has executed, has warning, or has error and set chime theme\n",
    "import chime\n",
    "\n",
    "chime.theme(\"zelda\")"
   ]
  },
  {
   "cell_type": "markdown",
   "id": "cc818a82",
   "metadata": {},
   "source": [
    "## Data Overview"
   ]
  },
  {
   "cell_type": "markdown",
   "id": "0ed005f6",
   "metadata": {},
   "source": [
    "### [Reading](https://github.com/teresahanak/wikipedia-life-expectancy/blob/main/wp_life_expect_clean6.db), Sampling, and Checking Data Shape"
   ]
  },
  {
   "cell_type": "code",
   "execution_count": 2,
   "id": "0ca58a95",
   "metadata": {},
   "outputs": [
    {
     "name": "stdout",
     "output_type": "stream",
     "text": [
      "There are 98040 rows and 43 columns.\n"
     ]
    },
    {
     "data": {
      "text/html": [
       "<div>\n",
       "<style scoped>\n",
       "    .dataframe tbody tr th:only-of-type {\n",
       "        vertical-align: middle;\n",
       "    }\n",
       "\n",
       "    .dataframe tbody tr th {\n",
       "        vertical-align: top;\n",
       "    }\n",
       "\n",
       "    .dataframe thead th {\n",
       "        text-align: right;\n",
       "    }\n",
       "</style>\n",
       "<table border=\"1\" class=\"dataframe\">\n",
       "  <thead>\n",
       "    <tr style=\"text-align: right;\">\n",
       "      <th></th>\n",
       "      <th>day</th>\n",
       "      <th>name</th>\n",
       "      <th>info</th>\n",
       "      <th>link</th>\n",
       "      <th>num_references</th>\n",
       "      <th>year</th>\n",
       "      <th>month</th>\n",
       "      <th>info_parenth</th>\n",
       "      <th>age</th>\n",
       "      <th>cause_of_death</th>\n",
       "      <th>place_1</th>\n",
       "      <th>place_2</th>\n",
       "      <th>info_parenth_copy</th>\n",
       "      <th>log_num_references</th>\n",
       "      <th>info_3_1</th>\n",
       "      <th>info_3_2</th>\n",
       "      <th>info_4_0</th>\n",
       "      <th>info_4_1</th>\n",
       "      <th>info_4_2</th>\n",
       "      <th>info_5_0</th>\n",
       "      <th>info_5_1</th>\n",
       "      <th>info_5_2</th>\n",
       "      <th>info_6_0</th>\n",
       "      <th>info_6_1</th>\n",
       "      <th>info_7_0</th>\n",
       "      <th>info_8_0</th>\n",
       "      <th>info_8_1</th>\n",
       "      <th>info_9_0</th>\n",
       "      <th>info_10_0</th>\n",
       "      <th>info_11_0</th>\n",
       "      <th>sciences</th>\n",
       "      <th>social</th>\n",
       "      <th>spiritual</th>\n",
       "      <th>academia_humanities</th>\n",
       "      <th>business_farming</th>\n",
       "      <th>arts</th>\n",
       "      <th>sports</th>\n",
       "      <th>law_enf_military_operator</th>\n",
       "      <th>politics_govt_law</th>\n",
       "      <th>crime</th>\n",
       "      <th>event_record_other</th>\n",
       "      <th>other_species</th>\n",
       "      <th>num_categories</th>\n",
       "    </tr>\n",
       "  </thead>\n",
       "  <tbody>\n",
       "    <tr>\n",
       "      <th>0</th>\n",
       "      <td>1</td>\n",
       "      <td>William Chappell</td>\n",
       "      <td>, 86, British dancer, ballet designer and director.</td>\n",
       "      <td>https://en.wikipedia.org/wiki/William_Chappell_(dancer)</td>\n",
       "      <td>21</td>\n",
       "      <td>1994</td>\n",
       "      <td>January</td>\n",
       "      <td>None</td>\n",
       "      <td>86.0</td>\n",
       "      <td>None</td>\n",
       "      <td>United Kingdom of Great Britain and Northern Ireland</td>\n",
       "      <td>None</td>\n",
       "      <td>None</td>\n",
       "      <td>3.091042</td>\n",
       "      <td>director</td>\n",
       "      <td>None</td>\n",
       "      <td>None</td>\n",
       "      <td>None</td>\n",
       "      <td>None</td>\n",
       "      <td>None</td>\n",
       "      <td>None</td>\n",
       "      <td>None</td>\n",
       "      <td>None</td>\n",
       "      <td>None</td>\n",
       "      <td>None</td>\n",
       "      <td>None</td>\n",
       "      <td>None</td>\n",
       "      <td>None</td>\n",
       "      <td>None</td>\n",
       "      <td>None</td>\n",
       "      <td>0</td>\n",
       "      <td>0</td>\n",
       "      <td>0</td>\n",
       "      <td>0</td>\n",
       "      <td>0</td>\n",
       "      <td>1</td>\n",
       "      <td>0</td>\n",
       "      <td>0</td>\n",
       "      <td>0</td>\n",
       "      <td>0</td>\n",
       "      <td>0</td>\n",
       "      <td>0</td>\n",
       "      <td>1</td>\n",
       "    </tr>\n",
       "    <tr>\n",
       "      <th>1</th>\n",
       "      <td>1</td>\n",
       "      <td>Raymond Crotty</td>\n",
       "      <td>, 68, Irish economist, writer, and academic.</td>\n",
       "      <td>https://en.wikipedia.org/wiki/Raymond_Crotty</td>\n",
       "      <td>12</td>\n",
       "      <td>1994</td>\n",
       "      <td>January</td>\n",
       "      <td>None</td>\n",
       "      <td>68.0</td>\n",
       "      <td>None</td>\n",
       "      <td>Ireland</td>\n",
       "      <td>None</td>\n",
       "      <td>None</td>\n",
       "      <td>2.564949</td>\n",
       "      <td>None</td>\n",
       "      <td>None</td>\n",
       "      <td>and academic</td>\n",
       "      <td>None</td>\n",
       "      <td>None</td>\n",
       "      <td>None</td>\n",
       "      <td>None</td>\n",
       "      <td>None</td>\n",
       "      <td>None</td>\n",
       "      <td>None</td>\n",
       "      <td>None</td>\n",
       "      <td>None</td>\n",
       "      <td>None</td>\n",
       "      <td>None</td>\n",
       "      <td>None</td>\n",
       "      <td>None</td>\n",
       "      <td>0</td>\n",
       "      <td>0</td>\n",
       "      <td>0</td>\n",
       "      <td>0</td>\n",
       "      <td>0</td>\n",
       "      <td>1</td>\n",
       "      <td>0</td>\n",
       "      <td>0</td>\n",
       "      <td>1</td>\n",
       "      <td>0</td>\n",
       "      <td>0</td>\n",
       "      <td>0</td>\n",
       "      <td>2</td>\n",
       "    </tr>\n",
       "  </tbody>\n",
       "</table>\n",
       "</div>"
      ],
      "text/plain": [
       "  day              name                                                 info  \\\n",
       "0   1  William Chappell  , 86, British dancer, ballet designer and director.   \n",
       "1   1    Raymond Crotty         , 68, Irish economist, writer, and academic.   \n",
       "\n",
       "                                                      link  num_references  \\\n",
       "0  https://en.wikipedia.org/wiki/William_Chappell_(dancer)              21   \n",
       "1             https://en.wikipedia.org/wiki/Raymond_Crotty              12   \n",
       "\n",
       "   year    month info_parenth   age cause_of_death  \\\n",
       "0  1994  January         None  86.0           None   \n",
       "1  1994  January         None  68.0           None   \n",
       "\n",
       "                                                place_1 place_2  \\\n",
       "0  United Kingdom of Great Britain and Northern Ireland    None   \n",
       "1                                               Ireland    None   \n",
       "\n",
       "  info_parenth_copy  log_num_references  info_3_1 info_3_2      info_4_0  \\\n",
       "0              None            3.091042  director     None          None   \n",
       "1              None            2.564949      None     None  and academic   \n",
       "\n",
       "  info_4_1 info_4_2 info_5_0 info_5_1 info_5_2 info_6_0 info_6_1 info_7_0  \\\n",
       "0     None     None     None     None     None     None     None     None   \n",
       "1     None     None     None     None     None     None     None     None   \n",
       "\n",
       "  info_8_0 info_8_1 info_9_0 info_10_0 info_11_0  sciences  social  spiritual  \\\n",
       "0     None     None     None      None      None         0       0          0   \n",
       "1     None     None     None      None      None         0       0          0   \n",
       "\n",
       "   academia_humanities  business_farming  arts  sports  \\\n",
       "0                    0                 0     1       0   \n",
       "1                    0                 0     1       0   \n",
       "\n",
       "   law_enf_military_operator  politics_govt_law  crime  event_record_other  \\\n",
       "0                          0                  0      0                   0   \n",
       "1                          0                  1      0                   0   \n",
       "\n",
       "   other_species  num_categories  \n",
       "0              0               1  \n",
       "1              0               2  "
      ]
     },
     "execution_count": 2,
     "metadata": {},
     "output_type": "execute_result"
    },
    {
     "data": {
      "application/javascript": [
       "\n",
       "            setTimeout(function() {\n",
       "                var nbb_cell_id = 2;\n",
       "                var nbb_unformatted_code = \"# Reading the dataset\\nconn = sql.connect(\\\"wp_life_expect_clean6.db\\\")\\ndata = pd.read_sql(\\\"SELECT * FROM wp_life_expect_clean6\\\", conn)\\n\\n# Making a working copy\\ndf = data.copy()\\n\\n# Checking the shape\\nprint(f\\\"There are {df.shape[0]} rows and {df.shape[1]} columns.\\\")\\n\\n# Checking first 2 rows of the data\\ndf.head(2)\";\n",
       "                var nbb_formatted_code = \"# Reading the dataset\\nconn = sql.connect(\\\"wp_life_expect_clean6.db\\\")\\ndata = pd.read_sql(\\\"SELECT * FROM wp_life_expect_clean6\\\", conn)\\n\\n# Making a working copy\\ndf = data.copy()\\n\\n# Checking the shape\\nprint(f\\\"There are {df.shape[0]} rows and {df.shape[1]} columns.\\\")\\n\\n# Checking first 2 rows of the data\\ndf.head(2)\";\n",
       "                var nbb_cells = Jupyter.notebook.get_cells();\n",
       "                for (var i = 0; i < nbb_cells.length; ++i) {\n",
       "                    if (nbb_cells[i].input_prompt_number == nbb_cell_id) {\n",
       "                        if (nbb_cells[i].get_text() == nbb_unformatted_code) {\n",
       "                             nbb_cells[i].set_text(nbb_formatted_code);\n",
       "                        }\n",
       "                        break;\n",
       "                    }\n",
       "                }\n",
       "            }, 500);\n",
       "            "
      ],
      "text/plain": [
       "<IPython.core.display.Javascript object>"
      ]
     },
     "metadata": {},
     "output_type": "display_data"
    }
   ],
   "source": [
    "# Reading the dataset\n",
    "conn = sql.connect(\"wp_life_expect_clean6.db\")\n",
    "data = pd.read_sql(\"SELECT * FROM wp_life_expect_clean6\", conn)\n",
    "\n",
    "# Making a working copy\n",
    "df = data.copy()\n",
    "\n",
    "# Checking the shape\n",
    "print(f\"There are {df.shape[0]} rows and {df.shape[1]} columns.\")\n",
    "\n",
    "# Checking first 2 rows of the data\n",
    "df.head(2)"
   ]
  },
  {
   "cell_type": "code",
   "execution_count": 3,
   "id": "6cca416f",
   "metadata": {},
   "outputs": [
    {
     "data": {
      "text/html": [
       "<div>\n",
       "<style scoped>\n",
       "    .dataframe tbody tr th:only-of-type {\n",
       "        vertical-align: middle;\n",
       "    }\n",
       "\n",
       "    .dataframe tbody tr th {\n",
       "        vertical-align: top;\n",
       "    }\n",
       "\n",
       "    .dataframe thead th {\n",
       "        text-align: right;\n",
       "    }\n",
       "</style>\n",
       "<table border=\"1\" class=\"dataframe\">\n",
       "  <thead>\n",
       "    <tr style=\"text-align: right;\">\n",
       "      <th></th>\n",
       "      <th>day</th>\n",
       "      <th>name</th>\n",
       "      <th>info</th>\n",
       "      <th>link</th>\n",
       "      <th>num_references</th>\n",
       "      <th>year</th>\n",
       "      <th>month</th>\n",
       "      <th>info_parenth</th>\n",
       "      <th>age</th>\n",
       "      <th>cause_of_death</th>\n",
       "      <th>place_1</th>\n",
       "      <th>place_2</th>\n",
       "      <th>info_parenth_copy</th>\n",
       "      <th>log_num_references</th>\n",
       "      <th>info_3_1</th>\n",
       "      <th>info_3_2</th>\n",
       "      <th>info_4_0</th>\n",
       "      <th>info_4_1</th>\n",
       "      <th>info_4_2</th>\n",
       "      <th>info_5_0</th>\n",
       "      <th>info_5_1</th>\n",
       "      <th>info_5_2</th>\n",
       "      <th>info_6_0</th>\n",
       "      <th>info_6_1</th>\n",
       "      <th>info_7_0</th>\n",
       "      <th>info_8_0</th>\n",
       "      <th>info_8_1</th>\n",
       "      <th>info_9_0</th>\n",
       "      <th>info_10_0</th>\n",
       "      <th>info_11_0</th>\n",
       "      <th>sciences</th>\n",
       "      <th>social</th>\n",
       "      <th>spiritual</th>\n",
       "      <th>academia_humanities</th>\n",
       "      <th>business_farming</th>\n",
       "      <th>arts</th>\n",
       "      <th>sports</th>\n",
       "      <th>law_enf_military_operator</th>\n",
       "      <th>politics_govt_law</th>\n",
       "      <th>crime</th>\n",
       "      <th>event_record_other</th>\n",
       "      <th>other_species</th>\n",
       "      <th>num_categories</th>\n",
       "    </tr>\n",
       "  </thead>\n",
       "  <tbody>\n",
       "    <tr>\n",
       "      <th>98038</th>\n",
       "      <td>9</td>\n",
       "      <td>Aamir Liaquat Hussain</td>\n",
       "      <td>, 50, Pakistani journalist and politician, MNA .</td>\n",
       "      <td>https://en.wikipedia.org/wiki/Aamir_Liaquat_Hussain</td>\n",
       "      <td>99</td>\n",
       "      <td>2022</td>\n",
       "      <td>June</td>\n",
       "      <td>, since</td>\n",
       "      <td>50.0</td>\n",
       "      <td>None</td>\n",
       "      <td>Pakistan</td>\n",
       "      <td>None</td>\n",
       "      <td>2002 2007, since 2018</td>\n",
       "      <td>4.605170</td>\n",
       "      <td>None</td>\n",
       "      <td>None</td>\n",
       "      <td>None</td>\n",
       "      <td>None</td>\n",
       "      <td>None</td>\n",
       "      <td>None</td>\n",
       "      <td>None</td>\n",
       "      <td>None</td>\n",
       "      <td>None</td>\n",
       "      <td>None</td>\n",
       "      <td>None</td>\n",
       "      <td>None</td>\n",
       "      <td>None</td>\n",
       "      <td>None</td>\n",
       "      <td>None</td>\n",
       "      <td>None</td>\n",
       "      <td>0</td>\n",
       "      <td>0</td>\n",
       "      <td>0</td>\n",
       "      <td>0</td>\n",
       "      <td>0</td>\n",
       "      <td>1</td>\n",
       "      <td>0</td>\n",
       "      <td>0</td>\n",
       "      <td>1</td>\n",
       "      <td>0</td>\n",
       "      <td>0</td>\n",
       "      <td>0</td>\n",
       "      <td>2</td>\n",
       "    </tr>\n",
       "    <tr>\n",
       "      <th>98039</th>\n",
       "      <td>9</td>\n",
       "      <td>Zou Jing</td>\n",
       "      <td>, 86, Chinese engineer, member of the Chinese Academy of Engineering.</td>\n",
       "      <td>https://en.wikipedia.org/wiki/Zou_Jing_(engineer)</td>\n",
       "      <td>3</td>\n",
       "      <td>2022</td>\n",
       "      <td>June</td>\n",
       "      <td>None</td>\n",
       "      <td>86.0</td>\n",
       "      <td>None</td>\n",
       "      <td>China, People's Republic of</td>\n",
       "      <td>None</td>\n",
       "      <td>None</td>\n",
       "      <td>1.386294</td>\n",
       "      <td>None</td>\n",
       "      <td>None</td>\n",
       "      <td>None</td>\n",
       "      <td>None</td>\n",
       "      <td>None</td>\n",
       "      <td>None</td>\n",
       "      <td>None</td>\n",
       "      <td>None</td>\n",
       "      <td>None</td>\n",
       "      <td>None</td>\n",
       "      <td>None</td>\n",
       "      <td>None</td>\n",
       "      <td>None</td>\n",
       "      <td>None</td>\n",
       "      <td>None</td>\n",
       "      <td>None</td>\n",
       "      <td>1</td>\n",
       "      <td>0</td>\n",
       "      <td>0</td>\n",
       "      <td>0</td>\n",
       "      <td>0</td>\n",
       "      <td>0</td>\n",
       "      <td>0</td>\n",
       "      <td>0</td>\n",
       "      <td>0</td>\n",
       "      <td>0</td>\n",
       "      <td>0</td>\n",
       "      <td>0</td>\n",
       "      <td>1</td>\n",
       "    </tr>\n",
       "  </tbody>\n",
       "</table>\n",
       "</div>"
      ],
      "text/plain": [
       "      day                   name  \\\n",
       "98038   9  Aamir Liaquat Hussain   \n",
       "98039   9               Zou Jing   \n",
       "\n",
       "                                                                        info  \\\n",
       "98038                       , 50, Pakistani journalist and politician, MNA .   \n",
       "98039  , 86, Chinese engineer, member of the Chinese Academy of Engineering.   \n",
       "\n",
       "                                                      link  num_references  \\\n",
       "98038  https://en.wikipedia.org/wiki/Aamir_Liaquat_Hussain              99   \n",
       "98039    https://en.wikipedia.org/wiki/Zou_Jing_(engineer)               3   \n",
       "\n",
       "       year month info_parenth   age cause_of_death  \\\n",
       "98038  2022  June      , since  50.0           None   \n",
       "98039  2022  June         None  86.0           None   \n",
       "\n",
       "                           place_1 place_2      info_parenth_copy  \\\n",
       "98038                     Pakistan    None  2002 2007, since 2018   \n",
       "98039  China, People's Republic of    None                   None   \n",
       "\n",
       "       log_num_references info_3_1 info_3_2 info_4_0 info_4_1 info_4_2  \\\n",
       "98038            4.605170     None     None     None     None     None   \n",
       "98039            1.386294     None     None     None     None     None   \n",
       "\n",
       "      info_5_0 info_5_1 info_5_2 info_6_0 info_6_1 info_7_0 info_8_0 info_8_1  \\\n",
       "98038     None     None     None     None     None     None     None     None   \n",
       "98039     None     None     None     None     None     None     None     None   \n",
       "\n",
       "      info_9_0 info_10_0 info_11_0  sciences  social  spiritual  \\\n",
       "98038     None      None      None         0       0          0   \n",
       "98039     None      None      None         1       0          0   \n",
       "\n",
       "       academia_humanities  business_farming  arts  sports  \\\n",
       "98038                    0                 0     1       0   \n",
       "98039                    0                 0     0       0   \n",
       "\n",
       "       law_enf_military_operator  politics_govt_law  crime  \\\n",
       "98038                          0                  1      0   \n",
       "98039                          0                  0      0   \n",
       "\n",
       "       event_record_other  other_species  num_categories  \n",
       "98038                   0              0               2  \n",
       "98039                   0              0               1  "
      ]
     },
     "execution_count": 3,
     "metadata": {},
     "output_type": "execute_result"
    },
    {
     "data": {
      "application/javascript": [
       "\n",
       "            setTimeout(function() {\n",
       "                var nbb_cell_id = 3;\n",
       "                var nbb_unformatted_code = \"# Checking last 2 rows of the data\\ndf.tail(2)\";\n",
       "                var nbb_formatted_code = \"# Checking last 2 rows of the data\\ndf.tail(2)\";\n",
       "                var nbb_cells = Jupyter.notebook.get_cells();\n",
       "                for (var i = 0; i < nbb_cells.length; ++i) {\n",
       "                    if (nbb_cells[i].input_prompt_number == nbb_cell_id) {\n",
       "                        if (nbb_cells[i].get_text() == nbb_unformatted_code) {\n",
       "                             nbb_cells[i].set_text(nbb_formatted_code);\n",
       "                        }\n",
       "                        break;\n",
       "                    }\n",
       "                }\n",
       "            }, 500);\n",
       "            "
      ],
      "text/plain": [
       "<IPython.core.display.Javascript object>"
      ]
     },
     "metadata": {},
     "output_type": "display_data"
    }
   ],
   "source": [
    "# Checking last 2 rows of the data\n",
    "df.tail(2)"
   ]
  },
  {
   "cell_type": "code",
   "execution_count": 4,
   "id": "de6e8ee5",
   "metadata": {},
   "outputs": [
    {
     "data": {
      "text/html": [
       "<div>\n",
       "<style scoped>\n",
       "    .dataframe tbody tr th:only-of-type {\n",
       "        vertical-align: middle;\n",
       "    }\n",
       "\n",
       "    .dataframe tbody tr th {\n",
       "        vertical-align: top;\n",
       "    }\n",
       "\n",
       "    .dataframe thead th {\n",
       "        text-align: right;\n",
       "    }\n",
       "</style>\n",
       "<table border=\"1\" class=\"dataframe\">\n",
       "  <thead>\n",
       "    <tr style=\"text-align: right;\">\n",
       "      <th></th>\n",
       "      <th>day</th>\n",
       "      <th>name</th>\n",
       "      <th>info</th>\n",
       "      <th>link</th>\n",
       "      <th>num_references</th>\n",
       "      <th>year</th>\n",
       "      <th>month</th>\n",
       "      <th>info_parenth</th>\n",
       "      <th>age</th>\n",
       "      <th>cause_of_death</th>\n",
       "      <th>place_1</th>\n",
       "      <th>place_2</th>\n",
       "      <th>info_parenth_copy</th>\n",
       "      <th>log_num_references</th>\n",
       "      <th>info_3_1</th>\n",
       "      <th>info_3_2</th>\n",
       "      <th>info_4_0</th>\n",
       "      <th>info_4_1</th>\n",
       "      <th>info_4_2</th>\n",
       "      <th>info_5_0</th>\n",
       "      <th>info_5_1</th>\n",
       "      <th>info_5_2</th>\n",
       "      <th>info_6_0</th>\n",
       "      <th>info_6_1</th>\n",
       "      <th>info_7_0</th>\n",
       "      <th>info_8_0</th>\n",
       "      <th>info_8_1</th>\n",
       "      <th>info_9_0</th>\n",
       "      <th>info_10_0</th>\n",
       "      <th>info_11_0</th>\n",
       "      <th>sciences</th>\n",
       "      <th>social</th>\n",
       "      <th>spiritual</th>\n",
       "      <th>academia_humanities</th>\n",
       "      <th>business_farming</th>\n",
       "      <th>arts</th>\n",
       "      <th>sports</th>\n",
       "      <th>law_enf_military_operator</th>\n",
       "      <th>politics_govt_law</th>\n",
       "      <th>crime</th>\n",
       "      <th>event_record_other</th>\n",
       "      <th>other_species</th>\n",
       "      <th>num_categories</th>\n",
       "    </tr>\n",
       "  </thead>\n",
       "  <tbody>\n",
       "    <tr>\n",
       "      <th>84307</th>\n",
       "      <td>23</td>\n",
       "      <td>Arthur A. Dugoni</td>\n",
       "      <td>, 95, American dentist.</td>\n",
       "      <td>https://en.wikipedia.org/wiki/Arthur_A._Dugoni</td>\n",
       "      <td>11</td>\n",
       "      <td>2020</td>\n",
       "      <td>September</td>\n",
       "      <td>None</td>\n",
       "      <td>95.0</td>\n",
       "      <td>None</td>\n",
       "      <td>United States of America</td>\n",
       "      <td>None</td>\n",
       "      <td>None</td>\n",
       "      <td>2.484907</td>\n",
       "      <td>None</td>\n",
       "      <td>None</td>\n",
       "      <td>None</td>\n",
       "      <td>None</td>\n",
       "      <td>None</td>\n",
       "      <td>None</td>\n",
       "      <td>None</td>\n",
       "      <td>None</td>\n",
       "      <td>None</td>\n",
       "      <td>None</td>\n",
       "      <td>None</td>\n",
       "      <td>None</td>\n",
       "      <td>None</td>\n",
       "      <td>None</td>\n",
       "      <td>None</td>\n",
       "      <td>None</td>\n",
       "      <td>1</td>\n",
       "      <td>0</td>\n",
       "      <td>0</td>\n",
       "      <td>0</td>\n",
       "      <td>0</td>\n",
       "      <td>0</td>\n",
       "      <td>0</td>\n",
       "      <td>0</td>\n",
       "      <td>0</td>\n",
       "      <td>0</td>\n",
       "      <td>0</td>\n",
       "      <td>0</td>\n",
       "      <td>1</td>\n",
       "    </tr>\n",
       "    <tr>\n",
       "      <th>63696</th>\n",
       "      <td>22</td>\n",
       "      <td>Mickey Roker</td>\n",
       "      <td>, 84, American jazz drummer, lung cancer.</td>\n",
       "      <td>https://en.wikipedia.org/wiki/Mickey_Roker</td>\n",
       "      <td>5</td>\n",
       "      <td>2017</td>\n",
       "      <td>May</td>\n",
       "      <td>None</td>\n",
       "      <td>84.0</td>\n",
       "      <td>lung cancer</td>\n",
       "      <td>United States of America</td>\n",
       "      <td>None</td>\n",
       "      <td>None</td>\n",
       "      <td>1.791759</td>\n",
       "      <td>None</td>\n",
       "      <td>None</td>\n",
       "      <td>None</td>\n",
       "      <td>None</td>\n",
       "      <td>None</td>\n",
       "      <td>None</td>\n",
       "      <td>None</td>\n",
       "      <td>None</td>\n",
       "      <td>None</td>\n",
       "      <td>None</td>\n",
       "      <td>None</td>\n",
       "      <td>None</td>\n",
       "      <td>None</td>\n",
       "      <td>None</td>\n",
       "      <td>None</td>\n",
       "      <td>None</td>\n",
       "      <td>0</td>\n",
       "      <td>0</td>\n",
       "      <td>0</td>\n",
       "      <td>0</td>\n",
       "      <td>0</td>\n",
       "      <td>1</td>\n",
       "      <td>0</td>\n",
       "      <td>0</td>\n",
       "      <td>0</td>\n",
       "      <td>0</td>\n",
       "      <td>0</td>\n",
       "      <td>0</td>\n",
       "      <td>1</td>\n",
       "    </tr>\n",
       "    <tr>\n",
       "      <th>65002</th>\n",
       "      <td>24</td>\n",
       "      <td>Alan Boswell</td>\n",
       "      <td>, 74, English footballer .</td>\n",
       "      <td>https://en.wikipedia.org/wiki/Alan_Boswell</td>\n",
       "      <td>8</td>\n",
       "      <td>2017</td>\n",
       "      <td>August</td>\n",
       "      <td>Shrewsbury Town, Bolton Wanderers</td>\n",
       "      <td>74.0</td>\n",
       "      <td>None</td>\n",
       "      <td>United Kingdom of Great Britain and Northern Ireland</td>\n",
       "      <td>None</td>\n",
       "      <td>Shrewsbury Town, Bolton Wanderers</td>\n",
       "      <td>2.197225</td>\n",
       "      <td>None</td>\n",
       "      <td>None</td>\n",
       "      <td>None</td>\n",
       "      <td>None</td>\n",
       "      <td>None</td>\n",
       "      <td>None</td>\n",
       "      <td>None</td>\n",
       "      <td>None</td>\n",
       "      <td>None</td>\n",
       "      <td>None</td>\n",
       "      <td>None</td>\n",
       "      <td>None</td>\n",
       "      <td>None</td>\n",
       "      <td>None</td>\n",
       "      <td>None</td>\n",
       "      <td>None</td>\n",
       "      <td>0</td>\n",
       "      <td>0</td>\n",
       "      <td>0</td>\n",
       "      <td>0</td>\n",
       "      <td>0</td>\n",
       "      <td>0</td>\n",
       "      <td>1</td>\n",
       "      <td>0</td>\n",
       "      <td>0</td>\n",
       "      <td>0</td>\n",
       "      <td>0</td>\n",
       "      <td>0</td>\n",
       "      <td>1</td>\n",
       "    </tr>\n",
       "    <tr>\n",
       "      <th>85262</th>\n",
       "      <td>13</td>\n",
       "      <td>Jan van Toorn</td>\n",
       "      <td>, 88, Dutch graphic designer.</td>\n",
       "      <td>https://en.wikipedia.org/wiki/Jan_van_Toorn</td>\n",
       "      <td>5</td>\n",
       "      <td>2020</td>\n",
       "      <td>November</td>\n",
       "      <td>None</td>\n",
       "      <td>88.0</td>\n",
       "      <td>None</td>\n",
       "      <td>Netherlands</td>\n",
       "      <td>None</td>\n",
       "      <td>None</td>\n",
       "      <td>1.791759</td>\n",
       "      <td>None</td>\n",
       "      <td>None</td>\n",
       "      <td>None</td>\n",
       "      <td>None</td>\n",
       "      <td>None</td>\n",
       "      <td>None</td>\n",
       "      <td>None</td>\n",
       "      <td>None</td>\n",
       "      <td>None</td>\n",
       "      <td>None</td>\n",
       "      <td>None</td>\n",
       "      <td>None</td>\n",
       "      <td>None</td>\n",
       "      <td>None</td>\n",
       "      <td>None</td>\n",
       "      <td>None</td>\n",
       "      <td>0</td>\n",
       "      <td>0</td>\n",
       "      <td>0</td>\n",
       "      <td>0</td>\n",
       "      <td>0</td>\n",
       "      <td>1</td>\n",
       "      <td>0</td>\n",
       "      <td>0</td>\n",
       "      <td>0</td>\n",
       "      <td>0</td>\n",
       "      <td>0</td>\n",
       "      <td>0</td>\n",
       "      <td>1</td>\n",
       "    </tr>\n",
       "    <tr>\n",
       "      <th>34014</th>\n",
       "      <td>9</td>\n",
       "      <td>Doris Burn</td>\n",
       "      <td>, 87, American children's book author and illustrator.</td>\n",
       "      <td>https://en.wikipedia.org/wiki/Doris_Burn</td>\n",
       "      <td>10</td>\n",
       "      <td>2011</td>\n",
       "      <td>March</td>\n",
       "      <td>None</td>\n",
       "      <td>87.0</td>\n",
       "      <td>None</td>\n",
       "      <td>United States of America</td>\n",
       "      <td>None</td>\n",
       "      <td>None</td>\n",
       "      <td>2.397895</td>\n",
       "      <td>None</td>\n",
       "      <td>None</td>\n",
       "      <td>None</td>\n",
       "      <td>None</td>\n",
       "      <td>None</td>\n",
       "      <td>None</td>\n",
       "      <td>None</td>\n",
       "      <td>None</td>\n",
       "      <td>None</td>\n",
       "      <td>None</td>\n",
       "      <td>None</td>\n",
       "      <td>None</td>\n",
       "      <td>None</td>\n",
       "      <td>None</td>\n",
       "      <td>None</td>\n",
       "      <td>None</td>\n",
       "      <td>0</td>\n",
       "      <td>0</td>\n",
       "      <td>0</td>\n",
       "      <td>0</td>\n",
       "      <td>0</td>\n",
       "      <td>1</td>\n",
       "      <td>0</td>\n",
       "      <td>0</td>\n",
       "      <td>0</td>\n",
       "      <td>0</td>\n",
       "      <td>0</td>\n",
       "      <td>0</td>\n",
       "      <td>1</td>\n",
       "    </tr>\n",
       "  </tbody>\n",
       "</table>\n",
       "</div>"
      ],
      "text/plain": [
       "      day              name  \\\n",
       "84307  23  Arthur A. Dugoni   \n",
       "63696  22      Mickey Roker   \n",
       "65002  24      Alan Boswell   \n",
       "85262  13     Jan van Toorn   \n",
       "34014   9        Doris Burn   \n",
       "\n",
       "                                                         info  \\\n",
       "84307                                 , 95, American dentist.   \n",
       "63696               , 84, American jazz drummer, lung cancer.   \n",
       "65002                              , 74, English footballer .   \n",
       "85262                           , 88, Dutch graphic designer.   \n",
       "34014  , 87, American children's book author and illustrator.   \n",
       "\n",
       "                                                 link  num_references  year  \\\n",
       "84307  https://en.wikipedia.org/wiki/Arthur_A._Dugoni              11  2020   \n",
       "63696      https://en.wikipedia.org/wiki/Mickey_Roker               5  2017   \n",
       "65002      https://en.wikipedia.org/wiki/Alan_Boswell               8  2017   \n",
       "85262     https://en.wikipedia.org/wiki/Jan_van_Toorn               5  2020   \n",
       "34014        https://en.wikipedia.org/wiki/Doris_Burn              10  2011   \n",
       "\n",
       "           month                       info_parenth   age cause_of_death  \\\n",
       "84307  September                               None  95.0           None   \n",
       "63696        May                               None  84.0    lung cancer   \n",
       "65002     August  Shrewsbury Town, Bolton Wanderers  74.0           None   \n",
       "85262   November                               None  88.0           None   \n",
       "34014      March                               None  87.0           None   \n",
       "\n",
       "                                                    place_1 place_2  \\\n",
       "84307                              United States of America    None   \n",
       "63696                              United States of America    None   \n",
       "65002  United Kingdom of Great Britain and Northern Ireland    None   \n",
       "85262                                           Netherlands    None   \n",
       "34014                              United States of America    None   \n",
       "\n",
       "                       info_parenth_copy  log_num_references info_3_1  \\\n",
       "84307                               None            2.484907     None   \n",
       "63696                               None            1.791759     None   \n",
       "65002  Shrewsbury Town, Bolton Wanderers            2.197225     None   \n",
       "85262                               None            1.791759     None   \n",
       "34014                               None            2.397895     None   \n",
       "\n",
       "      info_3_2 info_4_0 info_4_1 info_4_2 info_5_0 info_5_1 info_5_2 info_6_0  \\\n",
       "84307     None     None     None     None     None     None     None     None   \n",
       "63696     None     None     None     None     None     None     None     None   \n",
       "65002     None     None     None     None     None     None     None     None   \n",
       "85262     None     None     None     None     None     None     None     None   \n",
       "34014     None     None     None     None     None     None     None     None   \n",
       "\n",
       "      info_6_1 info_7_0 info_8_0 info_8_1 info_9_0 info_10_0 info_11_0  \\\n",
       "84307     None     None     None     None     None      None      None   \n",
       "63696     None     None     None     None     None      None      None   \n",
       "65002     None     None     None     None     None      None      None   \n",
       "85262     None     None     None     None     None      None      None   \n",
       "34014     None     None     None     None     None      None      None   \n",
       "\n",
       "       sciences  social  spiritual  academia_humanities  business_farming  \\\n",
       "84307         1       0          0                    0                 0   \n",
       "63696         0       0          0                    0                 0   \n",
       "65002         0       0          0                    0                 0   \n",
       "85262         0       0          0                    0                 0   \n",
       "34014         0       0          0                    0                 0   \n",
       "\n",
       "       arts  sports  law_enf_military_operator  politics_govt_law  crime  \\\n",
       "84307     0       0                          0                  0      0   \n",
       "63696     1       0                          0                  0      0   \n",
       "65002     0       1                          0                  0      0   \n",
       "85262     1       0                          0                  0      0   \n",
       "34014     1       0                          0                  0      0   \n",
       "\n",
       "       event_record_other  other_species  num_categories  \n",
       "84307                   0              0               1  \n",
       "63696                   0              0               1  \n",
       "65002                   0              0               1  \n",
       "85262                   0              0               1  \n",
       "34014                   0              0               1  "
      ]
     },
     "execution_count": 4,
     "metadata": {},
     "output_type": "execute_result"
    },
    {
     "data": {
      "application/javascript": [
       "\n",
       "            setTimeout(function() {\n",
       "                var nbb_cell_id = 4;\n",
       "                var nbb_unformatted_code = \"# Checking a sample of the data\\ndf.sample(5)\";\n",
       "                var nbb_formatted_code = \"# Checking a sample of the data\\ndf.sample(5)\";\n",
       "                var nbb_cells = Jupyter.notebook.get_cells();\n",
       "                for (var i = 0; i < nbb_cells.length; ++i) {\n",
       "                    if (nbb_cells[i].input_prompt_number == nbb_cell_id) {\n",
       "                        if (nbb_cells[i].get_text() == nbb_unformatted_code) {\n",
       "                             nbb_cells[i].set_text(nbb_formatted_code);\n",
       "                        }\n",
       "                        break;\n",
       "                    }\n",
       "                }\n",
       "            }, 500);\n",
       "            "
      ],
      "text/plain": [
       "<IPython.core.display.Javascript object>"
      ]
     },
     "metadata": {},
     "output_type": "display_data"
    }
   ],
   "source": [
    "# Checking a sample of the data\n",
    "df.sample(5)"
   ]
  },
  {
   "cell_type": "markdown",
   "id": "8d5f29da",
   "metadata": {},
   "source": [
    "### Checking Data Types, Duplicates, and Null Values"
   ]
  },
  {
   "cell_type": "code",
   "execution_count": 5,
   "id": "bf505f87",
   "metadata": {},
   "outputs": [
    {
     "name": "stdout",
     "output_type": "stream",
     "text": [
      "<class 'pandas.core.frame.DataFrame'>\n",
      "RangeIndex: 98040 entries, 0 to 98039\n",
      "Data columns (total 43 columns):\n",
      " #   Column                     Non-Null Count  Dtype  \n",
      "---  ------                     --------------  -----  \n",
      " 0   day                        98040 non-null  object \n",
      " 1   name                       98040 non-null  object \n",
      " 2   info                       98040 non-null  object \n",
      " 3   link                       98040 non-null  object \n",
      " 4   num_references             98040 non-null  int64  \n",
      " 5   year                       98040 non-null  int64  \n",
      " 6   month                      98040 non-null  object \n",
      " 7   info_parenth               36660 non-null  object \n",
      " 8   age                        98040 non-null  float64\n",
      " 9   cause_of_death             25122 non-null  object \n",
      " 10  place_1                    97887 non-null  object \n",
      " 11  place_2                    8116 non-null   object \n",
      " 12  info_parenth_copy          36660 non-null  object \n",
      " 13  log_num_references         98040 non-null  float64\n",
      " 14  info_3_1                   4664 non-null   object \n",
      " 15  info_3_2                   46 non-null     object \n",
      " 16  info_4_0                   10124 non-null  object \n",
      " 17  info_4_1                   697 non-null    object \n",
      " 18  info_4_2                   4 non-null      object \n",
      " 19  info_5_0                   1252 non-null   object \n",
      " 20  info_5_1                   88 non-null     object \n",
      " 21  info_5_2                   1 non-null      object \n",
      " 22  info_6_0                   179 non-null    object \n",
      " 23  info_6_1                   7 non-null      object \n",
      " 24  info_7_0                   27 non-null     object \n",
      " 25  info_8_0                   5 non-null      object \n",
      " 26  info_8_1                   1 non-null      object \n",
      " 27  info_9_0                   1 non-null      object \n",
      " 28  info_10_0                  1 non-null      object \n",
      " 29  info_11_0                  1 non-null      object \n",
      " 30  sciences                   98040 non-null  int64  \n",
      " 31  social                     98040 non-null  int64  \n",
      " 32  spiritual                  98040 non-null  int64  \n",
      " 33  academia_humanities        98040 non-null  int64  \n",
      " 34  business_farming           98040 non-null  int64  \n",
      " 35  arts                       98040 non-null  int64  \n",
      " 36  sports                     98040 non-null  int64  \n",
      " 37  law_enf_military_operator  98040 non-null  int64  \n",
      " 38  politics_govt_law          98040 non-null  int64  \n",
      " 39  crime                      98040 non-null  int64  \n",
      " 40  event_record_other         98040 non-null  int64  \n",
      " 41  other_species              98040 non-null  int64  \n",
      " 42  num_categories             98040 non-null  int64  \n",
      "dtypes: float64(2), int64(15), object(26)\n",
      "memory usage: 32.2+ MB\n"
     ]
    },
    {
     "data": {
      "application/javascript": [
       "\n",
       "            setTimeout(function() {\n",
       "                var nbb_cell_id = 5;\n",
       "                var nbb_unformatted_code = \"# Checking data types and null values\\ndf.info()\";\n",
       "                var nbb_formatted_code = \"# Checking data types and null values\\ndf.info()\";\n",
       "                var nbb_cells = Jupyter.notebook.get_cells();\n",
       "                for (var i = 0; i < nbb_cells.length; ++i) {\n",
       "                    if (nbb_cells[i].input_prompt_number == nbb_cell_id) {\n",
       "                        if (nbb_cells[i].get_text() == nbb_unformatted_code) {\n",
       "                             nbb_cells[i].set_text(nbb_formatted_code);\n",
       "                        }\n",
       "                        break;\n",
       "                    }\n",
       "                }\n",
       "            }, 500);\n",
       "            "
      ],
      "text/plain": [
       "<IPython.core.display.Javascript object>"
      ]
     },
     "metadata": {},
     "output_type": "display_data"
    }
   ],
   "source": [
    "# Checking data types and null values\n",
    "df.info()"
   ]
  },
  {
   "cell_type": "markdown",
   "id": "c459d7f8",
   "metadata": {},
   "source": [
    "#### Observations:\n",
    "- With our dataset loaded, we can pick up where we left off with extracting known_for and `cause_of_death` values.\n",
    "- To avoid overwriting any existing `cause_of_death` values that might flow into 2 columns, such as, \"heart and lung problems\", we will update the code to combine the values."
   ]
  },
  {
   "cell_type": "markdown",
   "id": "5c542ec1",
   "metadata": {},
   "source": [
    "### Extracting Remaining `known_for` and `cause_of_death` Values Continued"
   ]
  },
  {
   "cell_type": "markdown",
   "id": "ebfdff20",
   "metadata": {},
   "source": [
    "#### Finding `known_for` Roles and `cause_of_death` in `info_3_1`"
   ]
  },
  {
   "cell_type": "code",
   "execution_count": 6,
   "id": "9e4051c6",
   "metadata": {},
   "outputs": [
    {
     "data": {
      "application/javascript": [
       "\n",
       "            setTimeout(function() {\n",
       "                var nbb_cell_id = 6;\n",
       "                var nbb_unformatted_code = \"# # Obtaining values for column and their counts\\n# roles_cause_list = df[\\\"info_3_1\\\"].value_counts(ascending=True).index.tolist()\";\n",
       "                var nbb_formatted_code = \"# # Obtaining values for column and their counts\\n# roles_cause_list = df[\\\"info_3_1\\\"].value_counts(ascending=True).index.tolist()\";\n",
       "                var nbb_cells = Jupyter.notebook.get_cells();\n",
       "                for (var i = 0; i < nbb_cells.length; ++i) {\n",
       "                    if (nbb_cells[i].input_prompt_number == nbb_cell_id) {\n",
       "                        if (nbb_cells[i].get_text() == nbb_unformatted_code) {\n",
       "                             nbb_cells[i].set_text(nbb_formatted_code);\n",
       "                        }\n",
       "                        break;\n",
       "                    }\n",
       "                }\n",
       "            }, 500);\n",
       "            "
      ],
      "text/plain": [
       "<IPython.core.display.Javascript object>"
      ]
     },
     "metadata": {},
     "output_type": "display_data"
    }
   ],
   "source": [
    "# # Obtaining values for column and their counts\n",
    "# roles_cause_list = df[\"info_3_1\"].value_counts(ascending=True).index.tolist()"
   ]
  },
  {
   "cell_type": "code",
   "execution_count": 7,
   "id": "8a4219f8",
   "metadata": {},
   "outputs": [
    {
     "data": {
      "application/javascript": [
       "\n",
       "            setTimeout(function() {\n",
       "                var nbb_cell_id = 7;\n",
       "                var nbb_unformatted_code = \"# # Code to check each value\\n# roles_cause_list.pop()\";\n",
       "                var nbb_formatted_code = \"# # Code to check each value\\n# roles_cause_list.pop()\";\n",
       "                var nbb_cells = Jupyter.notebook.get_cells();\n",
       "                for (var i = 0; i < nbb_cells.length; ++i) {\n",
       "                    if (nbb_cells[i].input_prompt_number == nbb_cell_id) {\n",
       "                        if (nbb_cells[i].get_text() == nbb_unformatted_code) {\n",
       "                             nbb_cells[i].set_text(nbb_formatted_code);\n",
       "                        }\n",
       "                        break;\n",
       "                    }\n",
       "                }\n",
       "            }, 500);\n",
       "            "
      ],
      "text/plain": [
       "<IPython.core.display.Javascript object>"
      ]
     },
     "metadata": {},
     "output_type": "display_data"
    }
   ],
   "source": [
    "# # Code to check each value\n",
    "# roles_cause_list.pop()"
   ]
  },
  {
   "cell_type": "code",
   "execution_count": 8,
   "id": "cd7ffd68",
   "metadata": {},
   "outputs": [
    {
     "data": {
      "application/javascript": [
       "\n",
       "            setTimeout(function() {\n",
       "                var nbb_cell_id = 8;\n",
       "                var nbb_unformatted_code = \"# # Create specific_roles_cause_list for above popped value\\n# specific_roles_list = (\\n#     df.loc[\\n#         [\\n#             index\\n#             for index in df[df[\\\"info_3_1\\\"].notna()].index\\n#             if \\\"diabetes\\\" in df.loc[index, \\\"info_3_1\\\"]\\n#             #             and df.loc[index, \\\"politics_govt_law\\\"] == 0\\n#             #             and df.loc[index, \\\"arts\\\"] == 1\\n#             #             and df.loc[index, \\\"sciences\\\"] == 0\\n#             #             and df.loc[index, \\\"spiritual\\\"] == 0\\n#             #             and df.loc[index, \\\"law_enf_military_operator\\\"] == 0\\n#             #             and df.loc[index, \\\"sports\\\"] == 0\\n#             #             and df.loc[index, \\\"event_record_other\\\"] == 0\\n#             #             and df.loc[index, \\\"crime\\\"] == 0\\n#             #             and df.loc[index, \\\"academia_humanities\\\"] == 0\\n#             #             and df.loc[index, \\\"business_farming\\\"] == 0\\n#             #                         and df.loc[index, \\\"other_species\\\"] == 0\\n#             #             and df.loc[index, \\\"num_categories\\\"] == 0\\n#         ],\\n#         \\\"info_3_1\\\",\\n#     ]\\n#     .value_counts()\\n#     .index.tolist()\\n# )\";\n",
       "                var nbb_formatted_code = \"# # Create specific_roles_cause_list for above popped value\\n# specific_roles_list = (\\n#     df.loc[\\n#         [\\n#             index\\n#             for index in df[df[\\\"info_3_1\\\"].notna()].index\\n#             if \\\"diabetes\\\" in df.loc[index, \\\"info_3_1\\\"]\\n#             #             and df.loc[index, \\\"politics_govt_law\\\"] == 0\\n#             #             and df.loc[index, \\\"arts\\\"] == 1\\n#             #             and df.loc[index, \\\"sciences\\\"] == 0\\n#             #             and df.loc[index, \\\"spiritual\\\"] == 0\\n#             #             and df.loc[index, \\\"law_enf_military_operator\\\"] == 0\\n#             #             and df.loc[index, \\\"sports\\\"] == 0\\n#             #             and df.loc[index, \\\"event_record_other\\\"] == 0\\n#             #             and df.loc[index, \\\"crime\\\"] == 0\\n#             #             and df.loc[index, \\\"academia_humanities\\\"] == 0\\n#             #             and df.loc[index, \\\"business_farming\\\"] == 0\\n#             #                         and df.loc[index, \\\"other_species\\\"] == 0\\n#             #             and df.loc[index, \\\"num_categories\\\"] == 0\\n#         ],\\n#         \\\"info_3_1\\\",\\n#     ]\\n#     .value_counts()\\n#     .index.tolist()\\n# )\";\n",
       "                var nbb_cells = Jupyter.notebook.get_cells();\n",
       "                for (var i = 0; i < nbb_cells.length; ++i) {\n",
       "                    if (nbb_cells[i].input_prompt_number == nbb_cell_id) {\n",
       "                        if (nbb_cells[i].get_text() == nbb_unformatted_code) {\n",
       "                             nbb_cells[i].set_text(nbb_formatted_code);\n",
       "                        }\n",
       "                        break;\n",
       "                    }\n",
       "                }\n",
       "            }, 500);\n",
       "            "
      ],
      "text/plain": [
       "<IPython.core.display.Javascript object>"
      ]
     },
     "metadata": {},
     "output_type": "display_data"
    }
   ],
   "source": [
    "# # Create specific_roles_cause_list for above popped value\n",
    "# specific_roles_list = (\n",
    "#     df.loc[\n",
    "#         [\n",
    "#             index\n",
    "#             for index in df[df[\"info_3_1\"].notna()].index\n",
    "#             if \"diabetes\" in df.loc[index, \"info_3_1\"]\n",
    "#             #             and df.loc[index, \"politics_govt_law\"] == 0\n",
    "#             #             and df.loc[index, \"arts\"] == 1\n",
    "#             #             and df.loc[index, \"sciences\"] == 0\n",
    "#             #             and df.loc[index, \"spiritual\"] == 0\n",
    "#             #             and df.loc[index, \"law_enf_military_operator\"] == 0\n",
    "#             #             and df.loc[index, \"sports\"] == 0\n",
    "#             #             and df.loc[index, \"event_record_other\"] == 0\n",
    "#             #             and df.loc[index, \"crime\"] == 0\n",
    "#             #             and df.loc[index, \"academia_humanities\"] == 0\n",
    "#             #             and df.loc[index, \"business_farming\"] == 0\n",
    "#             #                         and df.loc[index, \"other_species\"] == 0\n",
    "#             #             and df.loc[index, \"num_categories\"] == 0\n",
    "#         ],\n",
    "#         \"info_3_1\",\n",
    "#     ]\n",
    "#     .value_counts()\n",
    "#     .index.tolist()\n",
    "# )"
   ]
  },
  {
   "cell_type": "code",
   "execution_count": 9,
   "id": "94a93a93",
   "metadata": {},
   "outputs": [
    {
     "data": {
      "application/javascript": [
       "\n",
       "            setTimeout(function() {\n",
       "                var nbb_cell_id = 9;\n",
       "                var nbb_unformatted_code = \"# # Viewing list sorted by descending length to copy to dictionary below and screen values\\n# sorted(specific_roles_list, key=lambda x: len(x), reverse=True)\";\n",
       "                var nbb_formatted_code = \"# # Viewing list sorted by descending length to copy to dictionary below and screen values\\n# sorted(specific_roles_list, key=lambda x: len(x), reverse=True)\";\n",
       "                var nbb_cells = Jupyter.notebook.get_cells();\n",
       "                for (var i = 0; i < nbb_cells.length; ++i) {\n",
       "                    if (nbb_cells[i].input_prompt_number == nbb_cell_id) {\n",
       "                        if (nbb_cells[i].get_text() == nbb_unformatted_code) {\n",
       "                             nbb_cells[i].set_text(nbb_formatted_code);\n",
       "                        }\n",
       "                        break;\n",
       "                    }\n",
       "                }\n",
       "            }, 500);\n",
       "            "
      ],
      "text/plain": [
       "<IPython.core.display.Javascript object>"
      ]
     },
     "metadata": {},
     "output_type": "display_data"
    }
   ],
   "source": [
    "# # Viewing list sorted by descending length to copy to dictionary below and screen values\n",
    "# sorted(specific_roles_list, key=lambda x: len(x), reverse=True)"
   ]
  },
  {
   "cell_type": "code",
   "execution_count": 10,
   "id": "19358b7f",
   "metadata": {},
   "outputs": [
    {
     "data": {
      "application/javascript": [
       "\n",
       "            setTimeout(function() {\n",
       "                var nbb_cell_id = 10;\n",
       "                var nbb_unformatted_code = \"# # Example code to quick-check a specific entry\\n# df[df[\\\"info_3_1\\\"] == \\\"diabetes\\\"]\";\n",
       "                var nbb_formatted_code = \"# # Example code to quick-check a specific entry\\n# df[df[\\\"info_3_1\\\"] == \\\"diabetes\\\"]\";\n",
       "                var nbb_cells = Jupyter.notebook.get_cells();\n",
       "                for (var i = 0; i < nbb_cells.length; ++i) {\n",
       "                    if (nbb_cells[i].input_prompt_number == nbb_cell_id) {\n",
       "                        if (nbb_cells[i].get_text() == nbb_unformatted_code) {\n",
       "                             nbb_cells[i].set_text(nbb_formatted_code);\n",
       "                        }\n",
       "                        break;\n",
       "                    }\n",
       "                }\n",
       "            }, 500);\n",
       "            "
      ],
      "text/plain": [
       "<IPython.core.display.Javascript object>"
      ]
     },
     "metadata": {},
     "output_type": "display_data"
    }
   ],
   "source": [
    "# # Example code to quick-check a specific entry\n",
    "# df[df[\"info_3_1\"] == \"diabetes\"]"
   ]
  },
  {
   "cell_type": "markdown",
   "id": "072350d2",
   "metadata": {},
   "source": [
    "#### Creating Lists for Each `known_for` Category and for `cause_of_death`"
   ]
  },
  {
   "cell_type": "code",
   "execution_count": 11,
   "id": "ed90a7ec",
   "metadata": {},
   "outputs": [
    {
     "data": {
      "application/javascript": [
       "\n",
       "            setTimeout(function() {\n",
       "                var nbb_cell_id = 11;\n",
       "                var nbb_unformatted_code = \"# Creating lists for each category and sorting by decreasing length and removing duplicates\\n\\npolitics_govt_law = [\\n    \\\"an National Congress politician\\\",\\n    \\\"politician Sir Abe Bailey\\\",\\n    \\\"Conservative politician\\\",\\n    \\\"neo fascist politician\\\",\\n    \\\"provincial politician\\\",\\n    \\\"former politician\\\",\\n    \\\"politician\\\",\\n    \\\"author of the Declaration of Independence of\\\",\\n    \\\"editorial director of Antiwar com\\\",\\n    \\\"Housing\\\",\\n    \\\"housing\\\",\\n    \\\"medical education\\\",\\n    \\\"activist against animal testing\\\",\\n    \\\"activist for victims of Nazism\\\",\\n    \\\"transgender rights activist\\\",\\n    \\\"anti apartheid activist\\\",\\n    \\\"anti Communist activist\\\",\\n    \\\"lesbian rights activist\\\",\\n    \\\"environmental activist\\\",\\n    \\\"animal rights activist\\\",\\n    \\\"Black lesbian activist\\\",\\n    \\\"human rights activist\\\",\\n    \\\"civil rights activist\\\",\\n    \\\"women rights activist\\\",\\n    \\\"LGTBI rights activist\\\",\\n    \\\"Lingayatism activist\\\",\\n    \\\"health care activist\\\",\\n    \\\"LGBT rights activist\\\",\\n    \\\"gay rights activist\\\",\\n    \\\"political activist\\\",\\n    \\\"anti war activist\\\",\\n    \\\"feminist activist\\\",\\n    \\\"cannabis activist\\\",\\n    \\\"internet activist\\\",\\n    \\\"cultural activist\\\",\\n    \\\"Garifuna activist\\\",\\n    \\\"consumer activist\\\",\\n    \\\"literary activist\\\",\\n    \\\"Marxist activist\\\",\\n    \\\"social activist\\\",\\n    \\\"public activist\\\",\\n    \\\"Native activist\\\",\\n    \\\"gender activist\\\",\\n    \\\"rights activist\\\",\\n    \\\"LGBTQ activist\\\",\\n    \\\"peace activist\\\",\\n    \\\"AIDS activist\\\",\\n    \\\"diplomat\\\",\\n    \\\"outspoken critic of President Vladimir Putin\\\",\\n    \\\"government critic\\\",\\n    \\\"social critic\\\",\\n]\\npolitics_govt_law = sorted(\\n    list(set(politics_govt_law)), key=lambda x: len(x), reverse=True\\n)\\n\\narts = [\\n    \\\"songwriter in the country music genre\\\",\\n    \\\"writer of children books\\\",\\n    \\\"funk singer songwriter\\\",\\n    \\\"science fiction writer\\\",\\n    \\\"writer of literature\\\",\\n    \\\"television writer\\\",\\n    \\\"singer songwriter\\\",\\n    \\\"screenplay writer\\\",\\n    \\\"nonfiction writer\\\",\\n    \\\"children writer\\\",\\n    \\\"fantasy writer\\\",\\n    \\\"fiction writer\\\",\\n    \\\"travel writer\\\",\\n    \\\"comics writer\\\",\\n    \\\"screenwriter\\\",\\n    \\\"scriptwriter\\\",\\n    \\\"songwriter\\\",\\n    \\\"was the author of two books on Parliament\\\",\\n    \\\"author of more than music instruction books\\\",\\n    \\\"popular science author\\\",\\n    \\\"book author\\\",\\n    \\\"children book author\\\",\\n    \\\"relationship author\\\",\\n    \\\"best selling author\\\",\\n    \\\"short story author\\\",\\n    \\\"children author\\\",\\n    \\\"cookbook author\\\",\\n    \\\"textbook author\\\",\\n    \\\"actor land National Artist\\\",\\n    \\\"big screen movie actor\\\",\\n    \\\"television actor\\\",\\n    \\\"theatre actor\\\",\\n    \\\"voice actor\\\",\\n    \\\"child actor\\\",\\n    \\\"stage actor\\\",\\n    \\\"film actor\\\",\\n    \\\"actor\\\",\\n    \\\"independent producer\\\",\\n    \\\"television producer\\\",\\n    \\\"theatrical producer\\\",\\n    \\\"R&B record producer\\\",\\n    \\\"theatre producer\\\",\\n    \\\"record producer\\\",\\n    \\\"music producer\\\",\\n    \\\"blues producer\\\",\\n    \\\"movie producer\\\",\\n    \\\"film producer\\\",\\n    \\\"BBC producer\\\",\\n    \\\"TV producer\\\",\\n    \\\"television producer\\\",\\n    \\\"video game journalist\\\",\\n    \\\"literary journalist\\\",\\n    \\\"music journalist\\\",\\n    \\\"art journalist\\\",\\n    \\\"television composer\\\",\\n    \\\"film score composer\\\",\\n    \\\"music composer\\\",\\n    \\\"samba composer\\\",\\n    \\\"film composer\\\",\\n    \\\"executive director of the Producers Guild of\\\",\\n    \\\"artistic director of the National Ballet of\\\",\\n    \\\"former deputy managing director of\\\",\\n    \\\"documentary film director\\\",\\n    \\\"pornographic director\\\",\\n    \\\"television director\\\",\\n    \\\"artistic director\\\",\\n    \\\"theatre director\\\",\\n    \\\"dubbing director\\\",\\n    \\\"theater director\\\",\\n    \\\"musical director\\\",\\n    \\\"stage director\\\",\\n    \\\"music director\\\",\\n    \\\"opera director\\\",\\n    \\\"film director\\\",\\n    \\\"wife of singing cowboy Roy Rogers\\\",\\n    \\\"singer for The Lovin' Spoonful\\\",\\n    \\\"funk singer songwriter\\\",\\n    \\\"musical comedy singer\\\",\\n    \\\"singer songwriter\\\",\\n    \\\"rockabilly singer\\\",\\n    \\\"j\\u00edbaro singer\\\",\\n    \\\"bolero singer\\\",\\n    \\\"reggae singer\\\",\\n    \\\"opera singer\\\",\\n    \\\"funk singer\\\",\\n    \\\"pop singer\\\",\\n    \\\"singer\\\",\\n    \\\"Urdu poet\\\",\\n    \\\"photography historian\\\",\\n    \\\"multi instrumental session musician\\\",\\n    \\\"musician on early Tamla sessions\\\",\\n    \\\"jazz musician\\\",\\n    \\\"soul musician\\\",\\n    \\\"R&B musician\\\",\\n    \\\"a musician\\\",\\n    \\\"musician\\\",\\n    \\\"playwright\\\",\\n    \\\"theatre activist\\\",\\n    \\\"son of novelist Ernest Hemingway\\\",\\n    \\\"novelist\\\",\\n    \\\"novels\\\",\\n    \\\"broadcaster on public media\\\",\\n    \\\"radio broadcaster\\\",\\n    \\\"broadcaster\\\",\\n    \\\"podcaster\\\",\\n    \\\"literary magazine editor\\\",\\n    \\\"chief editorialist of\\\",\\n    \\\"contributing editor\\\",\\n    \\\"editor in chief of\\\",\\n    \\\"thesaurus editor\\\",\\n    \\\"newspaper editor\\\",\\n    \\\"magazine editor\\\",\\n    \\\"first editor of\\\",\\n    \\\"graphic editor\\\",\\n    \\\"story editor\\\",\\n    \\\"editor of\\\",\\n    \\\"editor\\\",\\n    \\\"film critic for The Times\\\",\\n    \\\"literary critic\\\",\\n    \\\"theater critic\\\",\\n    \\\"theatre critic\\\",\\n    \\\"music critic\\\",\\n    \\\"film critic\\\",\\n    \\\"art critic\\\",\\n]\\narts = sorted(list(set(arts)), key=lambda x: len(x), reverse=True)\\n\\nsports = [\\n    \\\"rules writer\\\",\\n    \\\"automobile journalist\\\",\\n    \\\"radio sports journalist\\\",\\n    \\\"athletic director\\\",\\n]\\nsports = sorted(list(set(sports)), key=lambda x: len(x), reverse=True)\\n\\nsciences = [\\n    \\\"rose authority\\\",\\n    \\\"flight director in the Mission Control Center at Johnson Space Center\\\",\\n    \\\"the first director of Institute for Biological Research\\\",\\n    \\\"managing director of ONGC\\\",\\n    \\\"reprocessing\\\",\\n]\\nsciences = sorted(list(set(sciences)), key=lambda x: len(x), reverse=True)\\n\\nbusiness_farming = [\\n    \\\"agricultural producer\\\",\\n    \\\"executive director of the Mori Building Company\\\",\\n    \\\"managing director of AmBank\\\",\\n    \\\"Housing Association\\\",\\n]\\nbusiness_farming = sorted(\\n    list(set(business_farming)), key=lambda x: len(x), reverse=True\\n)\\n\\nacademia_humanities = [\\n    \\\"authority on\\\",\\n    \\\"director of the Curtis Institute of Music\\\",\\n    \\\"director of the Head Start Program\\\",\\n    \\\"director of Georgetown Day School\\\",\\n    \\\"director of the Planetarium\\\",\\n    \\\"museum director\\\",\\n    \\\"academic; Chancellor of the University of Dublin\\\",\\n    \\\"an academician of the Academy of Sciences\\\",\\n    \\\"academic administrator\\\",\\n    \\\"academician\\\",\\n    \\\"academic\\\",\\n    \\\"poetry teacher\\\",\\n    \\\"translator of ancient epics\\\",\\n    \\\"translator of literature\\\",\\n    \\\"comic book translator\\\",\\n    \\\"translator of\\\",\\n    \\\"translator\\\",\\n    \\\"literary historian\\\",\\n    \\\"language historian\\\",\\n    \\\"ethno historian\\\",\\n    \\\"urban historian\\\",\\n    \\\"art historian\\\",\\n    \\\"historian of medieval and\\\",\\n    \\\"historic preservationist\\\",\\n    \\\"ecclesiastical historian\\\",\\n    \\\"military historian\\\",\\n    \\\"culinary historian\\\",\\n    \\\"science historian\\\",\\n    \\\"naval historian\\\",\\n    \\\"film historian\\\",\\n    \\\"music educator\\\",\\n    \\\"art educator\\\",\\n    \\\"educationist\\\",\\n    \\\"education\\\",\\n    \\\"educator\\\",\\n]\\nacademia_humanities = sorted(\\n    list(set(academia_humanities)), key=lambda x: len(x), reverse=True\\n)\\n\\nlaw_enf_military_operator = []\\nlaw_enf_military_operator = sorted(\\n    list(set(law_enf_military_operator)), key=lambda x: len(x), reverse=True\\n)\\n\\nspiritual = [\\n    \\\"prominent Latter day Saint author\\\",\\n    \\\"church music composer\\\",\\n]\\nspiritual = sorted(list(set(spiritual)), key=lambda x: len(x), reverse=True)\\n\\nsocial = [\\\"philanthropist\\\"]\\nsocial = sorted(list(set(social)), key=lambda x: len(x), reverse=True)\\n\\ncrime = []\\ncrime = sorted(list(set(crime)), key=lambda x: len(x), reverse=True)\\n\\nevent_record_other = []\\nevent_record_other = sorted(\\n    list(set(event_record_other)), key=lambda x: len(x), reverse=True\\n)\\n\\nother_species = []\\nother_species = sorted(list(set(other_species)), key=lambda x: len(x), reverse=True)\\n\\ncause_of_death = [\\n    \\\"complications of pneumonia\\\",\\n    \\\"pneumonia\\\",\\n    \\\"congestive heart failure\\\",\\n    \\\"multiple organ failure\\\",\\n    \\\"chronic renal failure\\\",\\n    \\\"respiratory failure\\\",\\n    \\\"pulmonary failure\\\",\\n    \\\"cardiac failure\\\",\\n    \\\"kidney failure\\\",\\n    \\\"heart failure\\\",\\n    \\\"renal failure\\\",\\n    \\\"liver failure\\\",\\n    \\\"organ failure\\\",\\n    \\\"lung failure\\\",\\n    \\\"kidney complications\\\",\\n    \\\"kidney problems\\\",\\n    \\\"kidney ailments\\\",\\n    \\\"kidney disease\\\",\\n    \\\"kidney cancer\\\",\\n    \\\"complications from COVID\\\",\\n    \\\"COVID\\\",\\n    \\\"complications of diabetes\\\",\\n    \\\"diabetes\\\",\\n]\\ncause_of_death = sorted(list(set(cause_of_death)), key=lambda x: len(x), reverse=True)\";\n",
       "                var nbb_formatted_code = \"# Creating lists for each category and sorting by decreasing length and removing duplicates\\n\\npolitics_govt_law = [\\n    \\\"an National Congress politician\\\",\\n    \\\"politician Sir Abe Bailey\\\",\\n    \\\"Conservative politician\\\",\\n    \\\"neo fascist politician\\\",\\n    \\\"provincial politician\\\",\\n    \\\"former politician\\\",\\n    \\\"politician\\\",\\n    \\\"author of the Declaration of Independence of\\\",\\n    \\\"editorial director of Antiwar com\\\",\\n    \\\"Housing\\\",\\n    \\\"housing\\\",\\n    \\\"medical education\\\",\\n    \\\"activist against animal testing\\\",\\n    \\\"activist for victims of Nazism\\\",\\n    \\\"transgender rights activist\\\",\\n    \\\"anti apartheid activist\\\",\\n    \\\"anti Communist activist\\\",\\n    \\\"lesbian rights activist\\\",\\n    \\\"environmental activist\\\",\\n    \\\"animal rights activist\\\",\\n    \\\"Black lesbian activist\\\",\\n    \\\"human rights activist\\\",\\n    \\\"civil rights activist\\\",\\n    \\\"women rights activist\\\",\\n    \\\"LGTBI rights activist\\\",\\n    \\\"Lingayatism activist\\\",\\n    \\\"health care activist\\\",\\n    \\\"LGBT rights activist\\\",\\n    \\\"gay rights activist\\\",\\n    \\\"political activist\\\",\\n    \\\"anti war activist\\\",\\n    \\\"feminist activist\\\",\\n    \\\"cannabis activist\\\",\\n    \\\"internet activist\\\",\\n    \\\"cultural activist\\\",\\n    \\\"Garifuna activist\\\",\\n    \\\"consumer activist\\\",\\n    \\\"literary activist\\\",\\n    \\\"Marxist activist\\\",\\n    \\\"social activist\\\",\\n    \\\"public activist\\\",\\n    \\\"Native activist\\\",\\n    \\\"gender activist\\\",\\n    \\\"rights activist\\\",\\n    \\\"LGBTQ activist\\\",\\n    \\\"peace activist\\\",\\n    \\\"AIDS activist\\\",\\n    \\\"diplomat\\\",\\n    \\\"outspoken critic of President Vladimir Putin\\\",\\n    \\\"government critic\\\",\\n    \\\"social critic\\\",\\n]\\npolitics_govt_law = sorted(\\n    list(set(politics_govt_law)), key=lambda x: len(x), reverse=True\\n)\\n\\narts = [\\n    \\\"songwriter in the country music genre\\\",\\n    \\\"writer of children books\\\",\\n    \\\"funk singer songwriter\\\",\\n    \\\"science fiction writer\\\",\\n    \\\"writer of literature\\\",\\n    \\\"television writer\\\",\\n    \\\"singer songwriter\\\",\\n    \\\"screenplay writer\\\",\\n    \\\"nonfiction writer\\\",\\n    \\\"children writer\\\",\\n    \\\"fantasy writer\\\",\\n    \\\"fiction writer\\\",\\n    \\\"travel writer\\\",\\n    \\\"comics writer\\\",\\n    \\\"screenwriter\\\",\\n    \\\"scriptwriter\\\",\\n    \\\"songwriter\\\",\\n    \\\"was the author of two books on Parliament\\\",\\n    \\\"author of more than music instruction books\\\",\\n    \\\"popular science author\\\",\\n    \\\"book author\\\",\\n    \\\"children book author\\\",\\n    \\\"relationship author\\\",\\n    \\\"best selling author\\\",\\n    \\\"short story author\\\",\\n    \\\"children author\\\",\\n    \\\"cookbook author\\\",\\n    \\\"textbook author\\\",\\n    \\\"actor land National Artist\\\",\\n    \\\"big screen movie actor\\\",\\n    \\\"television actor\\\",\\n    \\\"theatre actor\\\",\\n    \\\"voice actor\\\",\\n    \\\"child actor\\\",\\n    \\\"stage actor\\\",\\n    \\\"film actor\\\",\\n    \\\"actor\\\",\\n    \\\"independent producer\\\",\\n    \\\"television producer\\\",\\n    \\\"theatrical producer\\\",\\n    \\\"R&B record producer\\\",\\n    \\\"theatre producer\\\",\\n    \\\"record producer\\\",\\n    \\\"music producer\\\",\\n    \\\"blues producer\\\",\\n    \\\"movie producer\\\",\\n    \\\"film producer\\\",\\n    \\\"BBC producer\\\",\\n    \\\"TV producer\\\",\\n    \\\"television producer\\\",\\n    \\\"video game journalist\\\",\\n    \\\"literary journalist\\\",\\n    \\\"music journalist\\\",\\n    \\\"art journalist\\\",\\n    \\\"television composer\\\",\\n    \\\"film score composer\\\",\\n    \\\"music composer\\\",\\n    \\\"samba composer\\\",\\n    \\\"film composer\\\",\\n    \\\"executive director of the Producers Guild of\\\",\\n    \\\"artistic director of the National Ballet of\\\",\\n    \\\"former deputy managing director of\\\",\\n    \\\"documentary film director\\\",\\n    \\\"pornographic director\\\",\\n    \\\"television director\\\",\\n    \\\"artistic director\\\",\\n    \\\"theatre director\\\",\\n    \\\"dubbing director\\\",\\n    \\\"theater director\\\",\\n    \\\"musical director\\\",\\n    \\\"stage director\\\",\\n    \\\"music director\\\",\\n    \\\"opera director\\\",\\n    \\\"film director\\\",\\n    \\\"wife of singing cowboy Roy Rogers\\\",\\n    \\\"singer for The Lovin' Spoonful\\\",\\n    \\\"funk singer songwriter\\\",\\n    \\\"musical comedy singer\\\",\\n    \\\"singer songwriter\\\",\\n    \\\"rockabilly singer\\\",\\n    \\\"j\\u00edbaro singer\\\",\\n    \\\"bolero singer\\\",\\n    \\\"reggae singer\\\",\\n    \\\"opera singer\\\",\\n    \\\"funk singer\\\",\\n    \\\"pop singer\\\",\\n    \\\"singer\\\",\\n    \\\"Urdu poet\\\",\\n    \\\"photography historian\\\",\\n    \\\"multi instrumental session musician\\\",\\n    \\\"musician on early Tamla sessions\\\",\\n    \\\"jazz musician\\\",\\n    \\\"soul musician\\\",\\n    \\\"R&B musician\\\",\\n    \\\"a musician\\\",\\n    \\\"musician\\\",\\n    \\\"playwright\\\",\\n    \\\"theatre activist\\\",\\n    \\\"son of novelist Ernest Hemingway\\\",\\n    \\\"novelist\\\",\\n    \\\"novels\\\",\\n    \\\"broadcaster on public media\\\",\\n    \\\"radio broadcaster\\\",\\n    \\\"broadcaster\\\",\\n    \\\"podcaster\\\",\\n    \\\"literary magazine editor\\\",\\n    \\\"chief editorialist of\\\",\\n    \\\"contributing editor\\\",\\n    \\\"editor in chief of\\\",\\n    \\\"thesaurus editor\\\",\\n    \\\"newspaper editor\\\",\\n    \\\"magazine editor\\\",\\n    \\\"first editor of\\\",\\n    \\\"graphic editor\\\",\\n    \\\"story editor\\\",\\n    \\\"editor of\\\",\\n    \\\"editor\\\",\\n    \\\"film critic for The Times\\\",\\n    \\\"literary critic\\\",\\n    \\\"theater critic\\\",\\n    \\\"theatre critic\\\",\\n    \\\"music critic\\\",\\n    \\\"film critic\\\",\\n    \\\"art critic\\\",\\n]\\narts = sorted(list(set(arts)), key=lambda x: len(x), reverse=True)\\n\\nsports = [\\n    \\\"rules writer\\\",\\n    \\\"automobile journalist\\\",\\n    \\\"radio sports journalist\\\",\\n    \\\"athletic director\\\",\\n]\\nsports = sorted(list(set(sports)), key=lambda x: len(x), reverse=True)\\n\\nsciences = [\\n    \\\"rose authority\\\",\\n    \\\"flight director in the Mission Control Center at Johnson Space Center\\\",\\n    \\\"the first director of Institute for Biological Research\\\",\\n    \\\"managing director of ONGC\\\",\\n    \\\"reprocessing\\\",\\n]\\nsciences = sorted(list(set(sciences)), key=lambda x: len(x), reverse=True)\\n\\nbusiness_farming = [\\n    \\\"agricultural producer\\\",\\n    \\\"executive director of the Mori Building Company\\\",\\n    \\\"managing director of AmBank\\\",\\n    \\\"Housing Association\\\",\\n]\\nbusiness_farming = sorted(\\n    list(set(business_farming)), key=lambda x: len(x), reverse=True\\n)\\n\\nacademia_humanities = [\\n    \\\"authority on\\\",\\n    \\\"director of the Curtis Institute of Music\\\",\\n    \\\"director of the Head Start Program\\\",\\n    \\\"director of Georgetown Day School\\\",\\n    \\\"director of the Planetarium\\\",\\n    \\\"museum director\\\",\\n    \\\"academic; Chancellor of the University of Dublin\\\",\\n    \\\"an academician of the Academy of Sciences\\\",\\n    \\\"academic administrator\\\",\\n    \\\"academician\\\",\\n    \\\"academic\\\",\\n    \\\"poetry teacher\\\",\\n    \\\"translator of ancient epics\\\",\\n    \\\"translator of literature\\\",\\n    \\\"comic book translator\\\",\\n    \\\"translator of\\\",\\n    \\\"translator\\\",\\n    \\\"literary historian\\\",\\n    \\\"language historian\\\",\\n    \\\"ethno historian\\\",\\n    \\\"urban historian\\\",\\n    \\\"art historian\\\",\\n    \\\"historian of medieval and\\\",\\n    \\\"historic preservationist\\\",\\n    \\\"ecclesiastical historian\\\",\\n    \\\"military historian\\\",\\n    \\\"culinary historian\\\",\\n    \\\"science historian\\\",\\n    \\\"naval historian\\\",\\n    \\\"film historian\\\",\\n    \\\"music educator\\\",\\n    \\\"art educator\\\",\\n    \\\"educationist\\\",\\n    \\\"education\\\",\\n    \\\"educator\\\",\\n]\\nacademia_humanities = sorted(\\n    list(set(academia_humanities)), key=lambda x: len(x), reverse=True\\n)\\n\\nlaw_enf_military_operator = []\\nlaw_enf_military_operator = sorted(\\n    list(set(law_enf_military_operator)), key=lambda x: len(x), reverse=True\\n)\\n\\nspiritual = [\\n    \\\"prominent Latter day Saint author\\\",\\n    \\\"church music composer\\\",\\n]\\nspiritual = sorted(list(set(spiritual)), key=lambda x: len(x), reverse=True)\\n\\nsocial = [\\\"philanthropist\\\"]\\nsocial = sorted(list(set(social)), key=lambda x: len(x), reverse=True)\\n\\ncrime = []\\ncrime = sorted(list(set(crime)), key=lambda x: len(x), reverse=True)\\n\\nevent_record_other = []\\nevent_record_other = sorted(\\n    list(set(event_record_other)), key=lambda x: len(x), reverse=True\\n)\\n\\nother_species = []\\nother_species = sorted(list(set(other_species)), key=lambda x: len(x), reverse=True)\\n\\ncause_of_death = [\\n    \\\"complications of pneumonia\\\",\\n    \\\"pneumonia\\\",\\n    \\\"congestive heart failure\\\",\\n    \\\"multiple organ failure\\\",\\n    \\\"chronic renal failure\\\",\\n    \\\"respiratory failure\\\",\\n    \\\"pulmonary failure\\\",\\n    \\\"cardiac failure\\\",\\n    \\\"kidney failure\\\",\\n    \\\"heart failure\\\",\\n    \\\"renal failure\\\",\\n    \\\"liver failure\\\",\\n    \\\"organ failure\\\",\\n    \\\"lung failure\\\",\\n    \\\"kidney complications\\\",\\n    \\\"kidney problems\\\",\\n    \\\"kidney ailments\\\",\\n    \\\"kidney disease\\\",\\n    \\\"kidney cancer\\\",\\n    \\\"complications from COVID\\\",\\n    \\\"COVID\\\",\\n    \\\"complications of diabetes\\\",\\n    \\\"diabetes\\\",\\n]\\ncause_of_death = sorted(list(set(cause_of_death)), key=lambda x: len(x), reverse=True)\";\n",
       "                var nbb_cells = Jupyter.notebook.get_cells();\n",
       "                for (var i = 0; i < nbb_cells.length; ++i) {\n",
       "                    if (nbb_cells[i].input_prompt_number == nbb_cell_id) {\n",
       "                        if (nbb_cells[i].get_text() == nbb_unformatted_code) {\n",
       "                             nbb_cells[i].set_text(nbb_formatted_code);\n",
       "                        }\n",
       "                        break;\n",
       "                    }\n",
       "                }\n",
       "            }, 500);\n",
       "            "
      ],
      "text/plain": [
       "<IPython.core.display.Javascript object>"
      ]
     },
     "metadata": {},
     "output_type": "display_data"
    }
   ],
   "source": [
    "# Creating lists for each category and sorting by decreasing length and removing duplicates\n",
    "\n",
    "politics_govt_law = [\n",
    "    \"an National Congress politician\",\n",
    "    \"politician Sir Abe Bailey\",\n",
    "    \"Conservative politician\",\n",
    "    \"neo fascist politician\",\n",
    "    \"provincial politician\",\n",
    "    \"former politician\",\n",
    "    \"politician\",\n",
    "    \"author of the Declaration of Independence of\",\n",
    "    \"editorial director of Antiwar com\",\n",
    "    \"Housing\",\n",
    "    \"housing\",\n",
    "    \"medical education\",\n",
    "    \"activist against animal testing\",\n",
    "    \"activist for victims of Nazism\",\n",
    "    \"transgender rights activist\",\n",
    "    \"anti apartheid activist\",\n",
    "    \"anti Communist activist\",\n",
    "    \"lesbian rights activist\",\n",
    "    \"environmental activist\",\n",
    "    \"animal rights activist\",\n",
    "    \"Black lesbian activist\",\n",
    "    \"human rights activist\",\n",
    "    \"civil rights activist\",\n",
    "    \"women rights activist\",\n",
    "    \"LGTBI rights activist\",\n",
    "    \"Lingayatism activist\",\n",
    "    \"health care activist\",\n",
    "    \"LGBT rights activist\",\n",
    "    \"gay rights activist\",\n",
    "    \"political activist\",\n",
    "    \"anti war activist\",\n",
    "    \"feminist activist\",\n",
    "    \"cannabis activist\",\n",
    "    \"internet activist\",\n",
    "    \"cultural activist\",\n",
    "    \"Garifuna activist\",\n",
    "    \"consumer activist\",\n",
    "    \"literary activist\",\n",
    "    \"Marxist activist\",\n",
    "    \"social activist\",\n",
    "    \"public activist\",\n",
    "    \"Native activist\",\n",
    "    \"gender activist\",\n",
    "    \"rights activist\",\n",
    "    \"LGBTQ activist\",\n",
    "    \"peace activist\",\n",
    "    \"AIDS activist\",\n",
    "    \"diplomat\",\n",
    "    \"outspoken critic of President Vladimir Putin\",\n",
    "    \"government critic\",\n",
    "    \"social critic\",\n",
    "]\n",
    "politics_govt_law = sorted(\n",
    "    list(set(politics_govt_law)), key=lambda x: len(x), reverse=True\n",
    ")\n",
    "\n",
    "arts = [\n",
    "    \"songwriter in the country music genre\",\n",
    "    \"writer of children books\",\n",
    "    \"funk singer songwriter\",\n",
    "    \"science fiction writer\",\n",
    "    \"writer of literature\",\n",
    "    \"television writer\",\n",
    "    \"singer songwriter\",\n",
    "    \"screenplay writer\",\n",
    "    \"nonfiction writer\",\n",
    "    \"children writer\",\n",
    "    \"fantasy writer\",\n",
    "    \"fiction writer\",\n",
    "    \"travel writer\",\n",
    "    \"comics writer\",\n",
    "    \"screenwriter\",\n",
    "    \"scriptwriter\",\n",
    "    \"songwriter\",\n",
    "    \"was the author of two books on Parliament\",\n",
    "    \"author of more than music instruction books\",\n",
    "    \"popular science author\",\n",
    "    \"book author\",\n",
    "    \"children book author\",\n",
    "    \"relationship author\",\n",
    "    \"best selling author\",\n",
    "    \"short story author\",\n",
    "    \"children author\",\n",
    "    \"cookbook author\",\n",
    "    \"textbook author\",\n",
    "    \"actor land National Artist\",\n",
    "    \"big screen movie actor\",\n",
    "    \"television actor\",\n",
    "    \"theatre actor\",\n",
    "    \"voice actor\",\n",
    "    \"child actor\",\n",
    "    \"stage actor\",\n",
    "    \"film actor\",\n",
    "    \"actor\",\n",
    "    \"independent producer\",\n",
    "    \"television producer\",\n",
    "    \"theatrical producer\",\n",
    "    \"R&B record producer\",\n",
    "    \"theatre producer\",\n",
    "    \"record producer\",\n",
    "    \"music producer\",\n",
    "    \"blues producer\",\n",
    "    \"movie producer\",\n",
    "    \"film producer\",\n",
    "    \"BBC producer\",\n",
    "    \"TV producer\",\n",
    "    \"television producer\",\n",
    "    \"video game journalist\",\n",
    "    \"literary journalist\",\n",
    "    \"music journalist\",\n",
    "    \"art journalist\",\n",
    "    \"television composer\",\n",
    "    \"film score composer\",\n",
    "    \"music composer\",\n",
    "    \"samba composer\",\n",
    "    \"film composer\",\n",
    "    \"executive director of the Producers Guild of\",\n",
    "    \"artistic director of the National Ballet of\",\n",
    "    \"former deputy managing director of\",\n",
    "    \"documentary film director\",\n",
    "    \"pornographic director\",\n",
    "    \"television director\",\n",
    "    \"artistic director\",\n",
    "    \"theatre director\",\n",
    "    \"dubbing director\",\n",
    "    \"theater director\",\n",
    "    \"musical director\",\n",
    "    \"stage director\",\n",
    "    \"music director\",\n",
    "    \"opera director\",\n",
    "    \"film director\",\n",
    "    \"wife of singing cowboy Roy Rogers\",\n",
    "    \"singer for The Lovin' Spoonful\",\n",
    "    \"funk singer songwriter\",\n",
    "    \"musical comedy singer\",\n",
    "    \"singer songwriter\",\n",
    "    \"rockabilly singer\",\n",
    "    \"jíbaro singer\",\n",
    "    \"bolero singer\",\n",
    "    \"reggae singer\",\n",
    "    \"opera singer\",\n",
    "    \"funk singer\",\n",
    "    \"pop singer\",\n",
    "    \"singer\",\n",
    "    \"Urdu poet\",\n",
    "    \"photography historian\",\n",
    "    \"multi instrumental session musician\",\n",
    "    \"musician on early Tamla sessions\",\n",
    "    \"jazz musician\",\n",
    "    \"soul musician\",\n",
    "    \"R&B musician\",\n",
    "    \"a musician\",\n",
    "    \"musician\",\n",
    "    \"playwright\",\n",
    "    \"theatre activist\",\n",
    "    \"son of novelist Ernest Hemingway\",\n",
    "    \"novelist\",\n",
    "    \"novels\",\n",
    "    \"broadcaster on public media\",\n",
    "    \"radio broadcaster\",\n",
    "    \"broadcaster\",\n",
    "    \"podcaster\",\n",
    "    \"literary magazine editor\",\n",
    "    \"chief editorialist of\",\n",
    "    \"contributing editor\",\n",
    "    \"editor in chief of\",\n",
    "    \"thesaurus editor\",\n",
    "    \"newspaper editor\",\n",
    "    \"magazine editor\",\n",
    "    \"first editor of\",\n",
    "    \"graphic editor\",\n",
    "    \"story editor\",\n",
    "    \"editor of\",\n",
    "    \"editor\",\n",
    "    \"film critic for The Times\",\n",
    "    \"literary critic\",\n",
    "    \"theater critic\",\n",
    "    \"theatre critic\",\n",
    "    \"music critic\",\n",
    "    \"film critic\",\n",
    "    \"art critic\",\n",
    "]\n",
    "arts = sorted(list(set(arts)), key=lambda x: len(x), reverse=True)\n",
    "\n",
    "sports = [\n",
    "    \"rules writer\",\n",
    "    \"automobile journalist\",\n",
    "    \"radio sports journalist\",\n",
    "    \"athletic director\",\n",
    "]\n",
    "sports = sorted(list(set(sports)), key=lambda x: len(x), reverse=True)\n",
    "\n",
    "sciences = [\n",
    "    \"rose authority\",\n",
    "    \"flight director in the Mission Control Center at Johnson Space Center\",\n",
    "    \"the first director of Institute for Biological Research\",\n",
    "    \"managing director of ONGC\",\n",
    "    \"reprocessing\",\n",
    "]\n",
    "sciences = sorted(list(set(sciences)), key=lambda x: len(x), reverse=True)\n",
    "\n",
    "business_farming = [\n",
    "    \"agricultural producer\",\n",
    "    \"executive director of the Mori Building Company\",\n",
    "    \"managing director of AmBank\",\n",
    "    \"Housing Association\",\n",
    "]\n",
    "business_farming = sorted(\n",
    "    list(set(business_farming)), key=lambda x: len(x), reverse=True\n",
    ")\n",
    "\n",
    "academia_humanities = [\n",
    "    \"authority on\",\n",
    "    \"director of the Curtis Institute of Music\",\n",
    "    \"director of the Head Start Program\",\n",
    "    \"director of Georgetown Day School\",\n",
    "    \"director of the Planetarium\",\n",
    "    \"museum director\",\n",
    "    \"academic; Chancellor of the University of Dublin\",\n",
    "    \"an academician of the Academy of Sciences\",\n",
    "    \"academic administrator\",\n",
    "    \"academician\",\n",
    "    \"academic\",\n",
    "    \"poetry teacher\",\n",
    "    \"translator of ancient epics\",\n",
    "    \"translator of literature\",\n",
    "    \"comic book translator\",\n",
    "    \"translator of\",\n",
    "    \"translator\",\n",
    "    \"literary historian\",\n",
    "    \"language historian\",\n",
    "    \"ethno historian\",\n",
    "    \"urban historian\",\n",
    "    \"art historian\",\n",
    "    \"historian of medieval and\",\n",
    "    \"historic preservationist\",\n",
    "    \"ecclesiastical historian\",\n",
    "    \"military historian\",\n",
    "    \"culinary historian\",\n",
    "    \"science historian\",\n",
    "    \"naval historian\",\n",
    "    \"film historian\",\n",
    "    \"music educator\",\n",
    "    \"art educator\",\n",
    "    \"educationist\",\n",
    "    \"education\",\n",
    "    \"educator\",\n",
    "]\n",
    "academia_humanities = sorted(\n",
    "    list(set(academia_humanities)), key=lambda x: len(x), reverse=True\n",
    ")\n",
    "\n",
    "law_enf_military_operator = []\n",
    "law_enf_military_operator = sorted(\n",
    "    list(set(law_enf_military_operator)), key=lambda x: len(x), reverse=True\n",
    ")\n",
    "\n",
    "spiritual = [\n",
    "    \"prominent Latter day Saint author\",\n",
    "    \"church music composer\",\n",
    "]\n",
    "spiritual = sorted(list(set(spiritual)), key=lambda x: len(x), reverse=True)\n",
    "\n",
    "social = [\"philanthropist\"]\n",
    "social = sorted(list(set(social)), key=lambda x: len(x), reverse=True)\n",
    "\n",
    "crime = []\n",
    "crime = sorted(list(set(crime)), key=lambda x: len(x), reverse=True)\n",
    "\n",
    "event_record_other = []\n",
    "event_record_other = sorted(\n",
    "    list(set(event_record_other)), key=lambda x: len(x), reverse=True\n",
    ")\n",
    "\n",
    "other_species = []\n",
    "other_species = sorted(list(set(other_species)), key=lambda x: len(x), reverse=True)\n",
    "\n",
    "cause_of_death = [\n",
    "    \"complications of pneumonia\",\n",
    "    \"pneumonia\",\n",
    "    \"congestive heart failure\",\n",
    "    \"multiple organ failure\",\n",
    "    \"chronic renal failure\",\n",
    "    \"respiratory failure\",\n",
    "    \"pulmonary failure\",\n",
    "    \"cardiac failure\",\n",
    "    \"kidney failure\",\n",
    "    \"heart failure\",\n",
    "    \"renal failure\",\n",
    "    \"liver failure\",\n",
    "    \"organ failure\",\n",
    "    \"lung failure\",\n",
    "    \"kidney complications\",\n",
    "    \"kidney problems\",\n",
    "    \"kidney ailments\",\n",
    "    \"kidney disease\",\n",
    "    \"kidney cancer\",\n",
    "    \"complications from COVID\",\n",
    "    \"COVID\",\n",
    "    \"complications of diabetes\",\n",
    "    \"diabetes\",\n",
    "]\n",
    "cause_of_death = sorted(list(set(cause_of_death)), key=lambda x: len(x), reverse=True)"
   ]
  },
  {
   "cell_type": "markdown",
   "id": "afd8ed29",
   "metadata": {},
   "source": [
    "#### Creating `known_for_dict` Dictionary of Category Keys and Specific Role Lists of Values"
   ]
  },
  {
   "cell_type": "code",
   "execution_count": 12,
   "id": "7c0ca871",
   "metadata": {},
   "outputs": [
    {
     "data": {
      "application/javascript": [
       "\n",
       "            setTimeout(function() {\n",
       "                var nbb_cell_id = 12;\n",
       "                var nbb_unformatted_code = \"# Combining separate lists into one dictionary\\nknown_for_dict = {\\n    \\\"social\\\": social,\\n    \\\"spiritual\\\": spiritual,\\n    \\\"academia_humanities\\\": academia_humanities,\\n    \\\"business_farming\\\": business_farming,\\n    \\\"sciences\\\": sciences,\\n    \\\"politics_govt_law\\\": politics_govt_law,\\n    \\\"law_enf_military_operator\\\": law_enf_military_operator,\\n    \\\"crime\\\": crime,\\n    \\\"event_record_other\\\": event_record_other,\\n    \\\"other_species\\\": other_species,\\n    \\\"arts\\\": arts,\\n    \\\"sports\\\": sports,\\n}\";\n",
       "                var nbb_formatted_code = \"# Combining separate lists into one dictionary\\nknown_for_dict = {\\n    \\\"social\\\": social,\\n    \\\"spiritual\\\": spiritual,\\n    \\\"academia_humanities\\\": academia_humanities,\\n    \\\"business_farming\\\": business_farming,\\n    \\\"sciences\\\": sciences,\\n    \\\"politics_govt_law\\\": politics_govt_law,\\n    \\\"law_enf_military_operator\\\": law_enf_military_operator,\\n    \\\"crime\\\": crime,\\n    \\\"event_record_other\\\": event_record_other,\\n    \\\"other_species\\\": other_species,\\n    \\\"arts\\\": arts,\\n    \\\"sports\\\": sports,\\n}\";\n",
       "                var nbb_cells = Jupyter.notebook.get_cells();\n",
       "                for (var i = 0; i < nbb_cells.length; ++i) {\n",
       "                    if (nbb_cells[i].input_prompt_number == nbb_cell_id) {\n",
       "                        if (nbb_cells[i].get_text() == nbb_unformatted_code) {\n",
       "                             nbb_cells[i].set_text(nbb_formatted_code);\n",
       "                        }\n",
       "                        break;\n",
       "                    }\n",
       "                }\n",
       "            }, 500);\n",
       "            "
      ],
      "text/plain": [
       "<IPython.core.display.Javascript object>"
      ]
     },
     "metadata": {},
     "output_type": "display_data"
    }
   ],
   "source": [
    "# Combining separate lists into one dictionary\n",
    "known_for_dict = {\n",
    "    \"social\": social,\n",
    "    \"spiritual\": spiritual,\n",
    "    \"academia_humanities\": academia_humanities,\n",
    "    \"business_farming\": business_farming,\n",
    "    \"sciences\": sciences,\n",
    "    \"politics_govt_law\": politics_govt_law,\n",
    "    \"law_enf_military_operator\": law_enf_military_operator,\n",
    "    \"crime\": crime,\n",
    "    \"event_record_other\": event_record_other,\n",
    "    \"other_species\": other_species,\n",
    "    \"arts\": arts,\n",
    "    \"sports\": sports,\n",
    "}"
   ]
  },
  {
   "cell_type": "markdown",
   "id": "5cbeb1da",
   "metadata": {},
   "source": [
    "#### Extracting `known_for` Categories and `cause_of_death` Values from `info_3_1`"
   ]
  },
  {
   "cell_type": "code",
   "execution_count": 13,
   "id": "3c164383",
   "metadata": {},
   "outputs": [
    {
     "name": "stdout",
     "output_type": "stream",
     "text": [
      "There are 25123 values in cause_of_death column.\n",
      "\n",
      "CPU times: total: 6.22 s\n",
      "Wall time: 6.21 s\n"
     ]
    },
    {
     "data": {
      "application/javascript": [
       "\n",
       "            setTimeout(function() {\n",
       "                var nbb_cell_id = 13;\n",
       "                var nbb_unformatted_code = \"%%time\\n\\n# Column to check\\ncolumn = 'info_3_1'\\n\\n# Start dataframe\\ndataframe = df[df[column].notna()]\\n\\n# For loop to find cause in column and extract it to cause_of_death\\nfor cause in cause_of_death:\\n    for index in dataframe.index:\\n        item = df.loc[index, column]\\n        if item:\\n            if cause in item:\\n                if df.loc[index, 'cause_of_death']:\\n                    df.loc[index, 'cause_of_death'] = df.loc[index, 'cause_of_death'] + '/' + cause\\n                    df.loc[index, column] = item.replace(cause, '').strip()\\n                else:\\n                    df.loc[index, 'cause_of_death'] = cause\\n                    df.loc[index, column] = item.replace(cause, '').strip()\\n                \\n                \\n# For loop to find role in column and extract it as category\\nfor category, category_lst in known_for_dict.items():\\n    for role in category_lst:\\n        for index in dataframe.index:\\n                item = df.loc[index, column]\\n                if item:\\n                    if role in item:\\n                        df.loc[index, category] = 1\\n                        df.loc[index, column] = item.replace(role, '').strip()\\n\\n# Calculating num_categories\\ndf[\\\"num_categories\\\"] = df[known_for_dict.keys()].sum(axis=1)\\n\\n# Checking number of cause_of_death values\\nprint(f'There are {df[\\\"cause_of_death\\\"].notna().sum()} values in cause_of_death column.\\\\n')\";\n",
       "                var nbb_formatted_code = \"%%time\\n\\n# Column to check\\ncolumn = 'info_3_1'\\n\\n# Start dataframe\\ndataframe = df[df[column].notna()]\\n\\n# For loop to find cause in column and extract it to cause_of_death\\nfor cause in cause_of_death:\\n    for index in dataframe.index:\\n        item = df.loc[index, column]\\n        if item:\\n            if cause in item:\\n                if df.loc[index, 'cause_of_death']:\\n                    df.loc[index, 'cause_of_death'] = df.loc[index, 'cause_of_death'] + '/' + cause\\n                    df.loc[index, column] = item.replace(cause, '').strip()\\n                else:\\n                    df.loc[index, 'cause_of_death'] = cause\\n                    df.loc[index, column] = item.replace(cause, '').strip()\\n                \\n                \\n# For loop to find role in column and extract it as category\\nfor category, category_lst in known_for_dict.items():\\n    for role in category_lst:\\n        for index in dataframe.index:\\n                item = df.loc[index, column]\\n                if item:\\n                    if role in item:\\n                        df.loc[index, category] = 1\\n                        df.loc[index, column] = item.replace(role, '').strip()\\n\\n# Calculating num_categories\\ndf[\\\"num_categories\\\"] = df[known_for_dict.keys()].sum(axis=1)\\n\\n# Checking number of cause_of_death values\\nprint(f'There are {df[\\\"cause_of_death\\\"].notna().sum()} values in cause_of_death column.\\\\n')\";\n",
       "                var nbb_cells = Jupyter.notebook.get_cells();\n",
       "                for (var i = 0; i < nbb_cells.length; ++i) {\n",
       "                    if (nbb_cells[i].input_prompt_number == nbb_cell_id) {\n",
       "                        if (nbb_cells[i].get_text() == nbb_unformatted_code) {\n",
       "                             nbb_cells[i].set_text(nbb_formatted_code);\n",
       "                        }\n",
       "                        break;\n",
       "                    }\n",
       "                }\n",
       "            }, 500);\n",
       "            "
      ],
      "text/plain": [
       "<IPython.core.display.Javascript object>"
      ]
     },
     "metadata": {},
     "output_type": "display_data"
    }
   ],
   "source": [
    "%%time\n",
    "\n",
    "# Column to check\n",
    "column = 'info_3_1'\n",
    "\n",
    "# Start dataframe\n",
    "dataframe = df[df[column].notna()]\n",
    "\n",
    "# For loop to find cause in column and extract it to cause_of_death\n",
    "for cause in cause_of_death:\n",
    "    for index in dataframe.index:\n",
    "        item = df.loc[index, column]\n",
    "        if item:\n",
    "            if cause in item:\n",
    "                if df.loc[index, 'cause_of_death']:\n",
    "                    df.loc[index, 'cause_of_death'] = df.loc[index, 'cause_of_death'] + '/' + cause\n",
    "                    df.loc[index, column] = item.replace(cause, '').strip()\n",
    "                else:\n",
    "                    df.loc[index, 'cause_of_death'] = cause\n",
    "                    df.loc[index, column] = item.replace(cause, '').strip()\n",
    "                \n",
    "                \n",
    "# For loop to find role in column and extract it as category\n",
    "for category, category_lst in known_for_dict.items():\n",
    "    for role in category_lst:\n",
    "        for index in dataframe.index:\n",
    "                item = df.loc[index, column]\n",
    "                if item:\n",
    "                    if role in item:\n",
    "                        df.loc[index, category] = 1\n",
    "                        df.loc[index, column] = item.replace(role, '').strip()\n",
    "\n",
    "# Calculating num_categories\n",
    "df[\"num_categories\"] = df[known_for_dict.keys()].sum(axis=1)\n",
    "\n",
    "# Checking number of cause_of_death values\n",
    "print(f'There are {df[\"cause_of_death\"].notna().sum()} values in cause_of_death column.\\n')"
   ]
  },
  {
   "cell_type": "markdown",
   "id": "01b0b321",
   "metadata": {},
   "source": [
    "#### Checking Updated `num_categories` Value Counts"
   ]
  },
  {
   "cell_type": "code",
   "execution_count": 14,
   "id": "0e9d9453",
   "metadata": {},
   "outputs": [
    {
     "data": {
      "text/plain": [
       "1    84981\n",
       "2    12536\n",
       "3      510\n",
       "0        8\n",
       "4        5\n",
       "Name: num_categories, dtype: int64"
      ]
     },
     "execution_count": 14,
     "metadata": {},
     "output_type": "execute_result"
    },
    {
     "data": {
      "application/javascript": [
       "\n",
       "            setTimeout(function() {\n",
       "                var nbb_cell_id = 14;\n",
       "                var nbb_unformatted_code = \"# Checking Updated num_categories Value Counts\\ndf[\\\"num_categories\\\"].value_counts()\";\n",
       "                var nbb_formatted_code = \"# Checking Updated num_categories Value Counts\\ndf[\\\"num_categories\\\"].value_counts()\";\n",
       "                var nbb_cells = Jupyter.notebook.get_cells();\n",
       "                for (var i = 0; i < nbb_cells.length; ++i) {\n",
       "                    if (nbb_cells[i].input_prompt_number == nbb_cell_id) {\n",
       "                        if (nbb_cells[i].get_text() == nbb_unformatted_code) {\n",
       "                             nbb_cells[i].set_text(nbb_formatted_code);\n",
       "                        }\n",
       "                        break;\n",
       "                    }\n",
       "                }\n",
       "            }, 500);\n",
       "            "
      ],
      "text/plain": [
       "<IPython.core.display.Javascript object>"
      ]
     },
     "metadata": {},
     "output_type": "display_data"
    }
   ],
   "source": [
    "# Checking Updated num_categories Value Counts\n",
    "df[\"num_categories\"].value_counts()"
   ]
  },
  {
   "cell_type": "markdown",
   "id": "728db608",
   "metadata": {},
   "source": [
    "#### Observations:\n",
    "- We will proceed to rebuild `known_for_dict` and `cause_of_death` for the next iteration."
   ]
  },
  {
   "cell_type": "markdown",
   "id": "5b75e94c",
   "metadata": {},
   "source": [
    "#### Finding `known_for` Roles and `cause_of_death` in `info_3_1`"
   ]
  },
  {
   "cell_type": "code",
   "execution_count": 15,
   "id": "9be5884f",
   "metadata": {},
   "outputs": [
    {
     "data": {
      "application/javascript": [
       "\n",
       "            setTimeout(function() {\n",
       "                var nbb_cell_id = 15;\n",
       "                var nbb_unformatted_code = \"# # Obtaining values for column and their counts\\n# roles_cause_list = df[\\\"info_3_1\\\"].value_counts(ascending=True).index.tolist()\";\n",
       "                var nbb_formatted_code = \"# # Obtaining values for column and their counts\\n# roles_cause_list = df[\\\"info_3_1\\\"].value_counts(ascending=True).index.tolist()\";\n",
       "                var nbb_cells = Jupyter.notebook.get_cells();\n",
       "                for (var i = 0; i < nbb_cells.length; ++i) {\n",
       "                    if (nbb_cells[i].input_prompt_number == nbb_cell_id) {\n",
       "                        if (nbb_cells[i].get_text() == nbb_unformatted_code) {\n",
       "                             nbb_cells[i].set_text(nbb_formatted_code);\n",
       "                        }\n",
       "                        break;\n",
       "                    }\n",
       "                }\n",
       "            }, 500);\n",
       "            "
      ],
      "text/plain": [
       "<IPython.core.display.Javascript object>"
      ]
     },
     "metadata": {},
     "output_type": "display_data"
    }
   ],
   "source": [
    "# # Obtaining values for column and their counts\n",
    "# roles_cause_list = df[\"info_3_1\"].value_counts(ascending=True).index.tolist()"
   ]
  },
  {
   "cell_type": "code",
   "execution_count": 16,
   "id": "32ad0704",
   "metadata": {},
   "outputs": [
    {
     "data": {
      "application/javascript": [
       "\n",
       "            setTimeout(function() {\n",
       "                var nbb_cell_id = 16;\n",
       "                var nbb_unformatted_code = \"# # Code to check each value\\n# roles_cause_list.pop()\";\n",
       "                var nbb_formatted_code = \"# # Code to check each value\\n# roles_cause_list.pop()\";\n",
       "                var nbb_cells = Jupyter.notebook.get_cells();\n",
       "                for (var i = 0; i < nbb_cells.length; ++i) {\n",
       "                    if (nbb_cells[i].input_prompt_number == nbb_cell_id) {\n",
       "                        if (nbb_cells[i].get_text() == nbb_unformatted_code) {\n",
       "                             nbb_cells[i].set_text(nbb_formatted_code);\n",
       "                        }\n",
       "                        break;\n",
       "                    }\n",
       "                }\n",
       "            }, 500);\n",
       "            "
      ],
      "text/plain": [
       "<IPython.core.display.Javascript object>"
      ]
     },
     "metadata": {},
     "output_type": "display_data"
    }
   ],
   "source": [
    "# # Code to check each value\n",
    "# roles_cause_list.pop()"
   ]
  },
  {
   "cell_type": "code",
   "execution_count": 17,
   "id": "e2370f90",
   "metadata": {},
   "outputs": [
    {
     "data": {
      "application/javascript": [
       "\n",
       "            setTimeout(function() {\n",
       "                var nbb_cell_id = 17;\n",
       "                var nbb_unformatted_code = \"# # Create specific_roles_cause_list for above popped value\\n# specific_roles_cause_list = (\\n#     df.loc[\\n#         [\\n#             index\\n#             for index in df[df[\\\"info_3_1\\\"].notna()].index\\n#             if \\\"House\\\" in df.loc[index, \\\"info_3_1\\\"]\\n#             #             and df.loc[index, \\\"politics_govt_law\\\"] == 1\\n#             #             and df.loc[index, \\\"arts\\\"] == 0\\n#             #             and df.loc[index, \\\"sciences\\\"] == 0\\n#             #             and df.loc[index, \\\"spiritual\\\"] == 0\\n#             #             and df.loc[index, \\\"law_enf_military_operator\\\"] == 0\\n#             #             and df.loc[index, \\\"sports\\\"] == 1\\n#             #             and df.loc[index, \\\"event_record_other\\\"] == 0\\n#             #             and df.loc[index, \\\"crime\\\"] == 0\\n#             #             and df.loc[index, \\\"academia_humanities\\\"] == 0\\n#             #             and df.loc[index, \\\"business_farming\\\"] == 0\\n#             #                         and df.loc[index, \\\"other_species\\\"] == 0\\n#             #             and df.loc[index, \\\"num_categories\\\"] == 0\\n#         ],\\n#         \\\"info_3_1\\\",\\n#     ]\\n#     .value_counts()\\n#     .index.tolist()\\n# )\";\n",
       "                var nbb_formatted_code = \"# # Create specific_roles_cause_list for above popped value\\n# specific_roles_cause_list = (\\n#     df.loc[\\n#         [\\n#             index\\n#             for index in df[df[\\\"info_3_1\\\"].notna()].index\\n#             if \\\"House\\\" in df.loc[index, \\\"info_3_1\\\"]\\n#             #             and df.loc[index, \\\"politics_govt_law\\\"] == 1\\n#             #             and df.loc[index, \\\"arts\\\"] == 0\\n#             #             and df.loc[index, \\\"sciences\\\"] == 0\\n#             #             and df.loc[index, \\\"spiritual\\\"] == 0\\n#             #             and df.loc[index, \\\"law_enf_military_operator\\\"] == 0\\n#             #             and df.loc[index, \\\"sports\\\"] == 1\\n#             #             and df.loc[index, \\\"event_record_other\\\"] == 0\\n#             #             and df.loc[index, \\\"crime\\\"] == 0\\n#             #             and df.loc[index, \\\"academia_humanities\\\"] == 0\\n#             #             and df.loc[index, \\\"business_farming\\\"] == 0\\n#             #                         and df.loc[index, \\\"other_species\\\"] == 0\\n#             #             and df.loc[index, \\\"num_categories\\\"] == 0\\n#         ],\\n#         \\\"info_3_1\\\",\\n#     ]\\n#     .value_counts()\\n#     .index.tolist()\\n# )\";\n",
       "                var nbb_cells = Jupyter.notebook.get_cells();\n",
       "                for (var i = 0; i < nbb_cells.length; ++i) {\n",
       "                    if (nbb_cells[i].input_prompt_number == nbb_cell_id) {\n",
       "                        if (nbb_cells[i].get_text() == nbb_unformatted_code) {\n",
       "                             nbb_cells[i].set_text(nbb_formatted_code);\n",
       "                        }\n",
       "                        break;\n",
       "                    }\n",
       "                }\n",
       "            }, 500);\n",
       "            "
      ],
      "text/plain": [
       "<IPython.core.display.Javascript object>"
      ]
     },
     "metadata": {},
     "output_type": "display_data"
    }
   ],
   "source": [
    "# # Create specific_roles_cause_list for above popped value\n",
    "# specific_roles_cause_list = (\n",
    "#     df.loc[\n",
    "#         [\n",
    "#             index\n",
    "#             for index in df[df[\"info_3_1\"].notna()].index\n",
    "#             if \"House\" in df.loc[index, \"info_3_1\"]\n",
    "#             #             and df.loc[index, \"politics_govt_law\"] == 1\n",
    "#             #             and df.loc[index, \"arts\"] == 0\n",
    "#             #             and df.loc[index, \"sciences\"] == 0\n",
    "#             #             and df.loc[index, \"spiritual\"] == 0\n",
    "#             #             and df.loc[index, \"law_enf_military_operator\"] == 0\n",
    "#             #             and df.loc[index, \"sports\"] == 1\n",
    "#             #             and df.loc[index, \"event_record_other\"] == 0\n",
    "#             #             and df.loc[index, \"crime\"] == 0\n",
    "#             #             and df.loc[index, \"academia_humanities\"] == 0\n",
    "#             #             and df.loc[index, \"business_farming\"] == 0\n",
    "#             #                         and df.loc[index, \"other_species\"] == 0\n",
    "#             #             and df.loc[index, \"num_categories\"] == 0\n",
    "#         ],\n",
    "#         \"info_3_1\",\n",
    "#     ]\n",
    "#     .value_counts()\n",
    "#     .index.tolist()\n",
    "# )"
   ]
  },
  {
   "cell_type": "code",
   "execution_count": 18,
   "id": "6d4ca3fa",
   "metadata": {},
   "outputs": [
    {
     "data": {
      "application/javascript": [
       "\n",
       "            setTimeout(function() {\n",
       "                var nbb_cell_id = 18;\n",
       "                var nbb_unformatted_code = \"# # Viewing list sorted by descending length to copy to dictionary below and screen values\\n# sorted(specific_roles_cause_list, key=lambda x: len(x), reverse=True)\";\n",
       "                var nbb_formatted_code = \"# # Viewing list sorted by descending length to copy to dictionary below and screen values\\n# sorted(specific_roles_cause_list, key=lambda x: len(x), reverse=True)\";\n",
       "                var nbb_cells = Jupyter.notebook.get_cells();\n",
       "                for (var i = 0; i < nbb_cells.length; ++i) {\n",
       "                    if (nbb_cells[i].input_prompt_number == nbb_cell_id) {\n",
       "                        if (nbb_cells[i].get_text() == nbb_unformatted_code) {\n",
       "                             nbb_cells[i].set_text(nbb_formatted_code);\n",
       "                        }\n",
       "                        break;\n",
       "                    }\n",
       "                }\n",
       "            }, 500);\n",
       "            "
      ],
      "text/plain": [
       "<IPython.core.display.Javascript object>"
      ]
     },
     "metadata": {},
     "output_type": "display_data"
    }
   ],
   "source": [
    "# # Viewing list sorted by descending length to copy to dictionary below and screen values\n",
    "# sorted(specific_roles_cause_list, key=lambda x: len(x), reverse=True)"
   ]
  },
  {
   "cell_type": "code",
   "execution_count": 19,
   "id": "14b8d55f",
   "metadata": {},
   "outputs": [
    {
     "data": {
      "application/javascript": [
       "\n",
       "            setTimeout(function() {\n",
       "                var nbb_cell_id = 19;\n",
       "                var nbb_unformatted_code = \"# # Example code to quick-check a specific entry\\n# df[df[\\\"info_3_1\\\"] == \\\"Crime Commissioner\\\"]\";\n",
       "                var nbb_formatted_code = \"# # Example code to quick-check a specific entry\\n# df[df[\\\"info_3_1\\\"] == \\\"Crime Commissioner\\\"]\";\n",
       "                var nbb_cells = Jupyter.notebook.get_cells();\n",
       "                for (var i = 0; i < nbb_cells.length; ++i) {\n",
       "                    if (nbb_cells[i].input_prompt_number == nbb_cell_id) {\n",
       "                        if (nbb_cells[i].get_text() == nbb_unformatted_code) {\n",
       "                             nbb_cells[i].set_text(nbb_formatted_code);\n",
       "                        }\n",
       "                        break;\n",
       "                    }\n",
       "                }\n",
       "            }, 500);\n",
       "            "
      ],
      "text/plain": [
       "<IPython.core.display.Javascript object>"
      ]
     },
     "metadata": {},
     "output_type": "display_data"
    }
   ],
   "source": [
    "# # Example code to quick-check a specific entry\n",
    "# df[df[\"info_3_1\"] == \"Crime Commissioner\"]"
   ]
  },
  {
   "cell_type": "markdown",
   "id": "59c9e664",
   "metadata": {},
   "source": [
    "#### Creating Lists for Each `known_for` Category and for `cause_of_death`"
   ]
  },
  {
   "cell_type": "code",
   "execution_count": 20,
   "id": "8072bf47",
   "metadata": {},
   "outputs": [
    {
     "data": {
      "application/javascript": [
       "\n",
       "            setTimeout(function() {\n",
       "                var nbb_cell_id = 20;\n",
       "                var nbb_unformatted_code = \"# Creating lists for each category and sorting by decreasing length and removing duplicates\\n\\npolitics_govt_law = [\\n    \\\"activist\\\",\\n    \\\"lawyer\\\",\\n    \\\"colonial administrator\\\",\\n    \\\"life peer\\\",\\n    \\\"peer\\\",\\n    \\\"convicted dissident\\\",\\n    \\\"political dissident\\\",\\n    \\\"Castro dissident\\\",\\n    \\\"dissident\\\",\\n    \\\"Technology Policy\\\",\\n    \\\"Labrador MHA for Conception Bay East\\\",\\n    \\\"Labrador MHA\\\",\\n    \\\"conservationist\\\",\\n    \\\"Labrador House of Assembly member for St George\\\",\\n    \\\"Labrador House of Assembly for Gander\\\",\\n    \\\"Labrador House of Assembly\\\",\\n    \\\"Communications\\\",\\n    \\\"United Nations civil servant\\\",\\n    \\\"public servant\\\",\\n    \\\"civil servant\\\",\\n    \\\"attorney\\\",\\n    \\\"Finance\\\",\\n    \\\"environmentalist\\\",\\n    \\\"Majority Leader of the NY Senate\\\",\\n    \\\"deputy president of the Senate\\\",\\n    \\\"member of the State Senate\\\",\\n    \\\"Senator\\\",\\n    \\\"Senate\\\",\\n    \\\"senior judge of the District Court for the Central District of\\\",\\n    \\\"High Court judge\\\",\\n    \\\"th congressional districts\\\",\\n    \\\"nd congressional districts\\\",\\n    \\\"congressman\\\",\\n    \\\"feminist\\\",\\n    \\\"Trademark Office\\\",\\n    \\\"Foreign Trade\\\",\\n    \\\"Trade\\\",\\n    \\\"Budget\\\",\\n    \\\"ambassador to\\\",\\n    \\\"ambassador\\\",\\n    \\\"founder of the Saba Labour Party\\\",\\n    \\\"Labour Party donor\\\",\\n    \\\"Labour\\\",\\n    \\\"Health Service Commissioner\\\",\\n    \\\"Islamic Affairs; Member of the House of Representatives\\\",\\n    \\\"four time member of the House of Representatives\\\",\\n    \\\"Labrador House of Assembly member for St George\\\",\\n    \\\"Speaker of the Maine House of Representatives\\\",\\n    \\\"th Speaker of the House of Representatives\\\",\\n    \\\"Labrador House of Assembly for Gander\\\",\\n    \\\"member of the House of Lords\\\",\\n    \\\"Christel House International\\\",\\n    \\\"Labrador House of Assembly\\\",\\n]\\npolitics_govt_law = sorted(\\n    list(set(politics_govt_law)), key=lambda x: len(x), reverse=True\\n)\\n\\narts = [\\n    \\\"writer\\\",\\n    \\\"author of\\\",\\n    \\\"author\\\",\\n    \\\"producer\\\",\\n    \\\"journalist\\\",\\n    \\\"composer\\\",\\n    \\\"director\\\",\\n    \\\"poet\\\",\\n    \\\"critic\\\",\\n    \\\"newspaper publisher\\\",\\n    \\\"music publisher\\\",\\n    \\\"book publisher\\\",\\n    \\\"publisher\\\",\\n    \\\"arranger of music for television\\\",\\n    \\\"music arranger\\\",\\n    \\\"arranger\\\",\\n    \\\"essayist\\\",\\n    \\\"television presenter\\\",\\n    \\\"radio presenter\\\",\\n    \\\"TV presenter\\\",\\n    \\\"presenter\\\",\\n    \\\"Nine Network television commentator\\\",\\n    \\\"arranger of music for television\\\",\\n    \\\"reality television cast member\\\",\\n    \\\"television hostess on cuisine\\\",\\n    \\\"television quiz contestant\\\",\\n    \\\"television talk show host\\\",\\n    \\\"reality television judge\\\",\\n    \\\"television personality\\\",\\n    \\\"CBS television network\\\",\\n    \\\"television presenter\\\",\\n    \\\"television announcer\\\",\\n    \\\"television executive\\\",\\n    \\\"television actress\\\",\\n    \\\"television host\\\",\\n    \\\"television\\\",\\n    \\\"photographer\\\",\\n    \\\"manager of actress Brooke Shields\\\",\\n    \\\"mother of actress Candice Bergen\\\",\\n    \\\"Oscar winning film actress\\\",\\n    '\\\"B\\\" actress in the s',\\n    \\\"television actress\\\",\\n    \\\"stage actress\\\",\\n    \\\"voice actress\\\",\\n    \\\"film actress\\\",\\n    \\\"actress\\\",\\n    \\\"multimedia fine artist\\\",\\n    \\\"record jacket artist\\\",\\n    \\\"installation artist\\\",\\n    \\\"performance artist\\\",\\n    \\\"comic strip artist\\\",\\n    \\\"recording artist\\\",\\n    \\\"make up artist\\\",\\n    \\\"digital artist\\\",\\n    \\\"plastic artist\\\",\\n    \\\"variety artist\\\",\\n    \\\"graphic artist\\\",\\n    \\\"visual artist\\\",\\n    \\\"comics artist\\\",\\n    \\\"escape artist\\\",\\n    \\\"light artist\\\",\\n    \\\"cyber artist\\\",\\n    \\\"mime artist\\\",\\n    \\\"sculptor\\\",\\n    \\\"guitarist\\\",\\n    \\\"dancer\\\",\\n    \\\"botanical illustrator\\\",\\n    \\\"book illustrator\\\",\\n    \\\"illustrator\\\",\\n    \\\"paintings of World War II\\\",\\n    \\\"painter\\\",\\n    \\\"orchestra conductor\\\",\\n    \\\"conductor\\\",\\n    \\\"Rolling Stones manager\\\",\\n    \\\"country music manager\\\",\\n    \\\"manager of Five Star\\\",\\n    \\\"cultural manager\\\",\\n    \\\"theatre manager\\\",\\n    \\\"stage manager\\\",\\n    \\\"jazz pianist\\\",\\n    \\\"pianist\\\",\\n    \\\"Oscar winning film actress\\\",\\n    \\\"conspiracy film maker\\\",\\n    \\\"underwater filmmaker\\\",\\n    \\\"film set designer\\\",\\n    \\\"sound film star\\\",\\n    \\\"film actress\\\",\\n    \\\"film censor\\\",\\n    \\\"film music\\\",\\n    \\\"film maker\\\",\\n    \\\"filmmaker\\\",\\n    \\\"film\\\",\\n    \\\"lyricist\\\",\\n    \\\"syndicated columnist\\\",\\n    \\\"columnist for the\\\",\\n    \\\"columnist\\\",\\n    \\\"administrator of the Old Globe Theatre\\\",\\n    \\\"musical administrator\\\",\\n    \\\"music administrator\\\",\\n    \\\"arts administrator\\\",\\n    \\\"acting coach\\\",\\n    \\\"vocal coach\\\",\\n    \\\"leader of comedic group The Drifters\\\",\\n    \\\"stand up comedian\\\",\\n    \\\"comedian\\\",\\n    \\\"last surviving husband\\\",\\n    \\\"Sonora Ponce\\u00f1a bands\\\",\\n    \\\"bandleader\\\",\\n    \\\"agent of TV entertainer Michael Barrymore\\\",\\n    \\\"comic entertainer\\\",\\n    \\\"entertainer\\\",\\n    \\\"radio personality\\\",\\n    \\\"radio presenter\\\",\\n    \\\"radio announcer\\\",\\n    \\\"radio host\\\",\\n    \\\"radio DJ\\\",\\n    \\\"radio show host\\\",\\n    \\\"art collector\\\",\\n    \\\"collector\\\",\\n    \\\"fashion model\\\",\\n    \\\"model\\\",\\n    \\\"record industry executive\\\",\\n    \\\"broadcasting executive\\\",\\n    \\\"record label executive\\\",\\n    \\\"studio executive\\\",\\n    \\\"chief executive\\\",\\n    \\\"news executive\\\",\\n    \\\"reality television judge\\\",\\n    \\\"competition judge\\\",\\n    \\\"socialite\\\",\\n    \\\"blogger\\\",\\n    \\\"choreographer\\\",\\n    \\\"performance artist\\\",\\n    \\\"cabaret performer\\\",\\n    \\\"stunt performer\\\",\\n    \\\"comic performer\\\",\\n    \\\"performer\\\",\\n    \\\"autobiographer\\\",\\n    \\\"biographer\\\",\\n    \\\"dramaturge\\\",\\n    \\\"dramatist\\\",\\n    \\\"reporter\\\",\\n]\\narts = sorted(list(set(arts)), key=lambda x: len(x), reverse=True)\\n\\nsports = [\\n    \\\"martial artist\\\",\\n    \\\"t'ai chi teacher\\\",\\n    \\\"Capirossi team manager\\\",\\n    \\\"booking manager\\\",\\n    \\\"general manager\\\",\\n    'last survivor of the Philadelphia Phillies\\\\' \\\"Whiz Kids\\\" that won the National League championship',\\n    \\\"athletics administrator\\\",\\n    \\\"games administrator\\\",\\n    \\\"former coach of golfer Tiger Woods\\\",\\n    \\\"basketball coach\\\",\\n    \\\"assistant coach\\\",\\n    \\\"football coach\\\",\\n    \\\"bandy player\\\",\\n    \\\"scout\\\",\\n    \\\"sports executive\\\",\\n    \\\"vice president of the International Olympic Committee\\\",\\n    \\\"two bronze medals at the Summer Olympics\\\",\\n    \\\"Olympic silver medallist\\\",\\n    \\\"Olympic figure skater\\\",\\n    \\\"silver medal Olympiad\\\",\\n    \\\"Olympic champion\\\",\\n    \\\"National Olympic\\\",\\n    \\\"Olympic sprinter\\\",\\n    \\\"Olympic medalist\\\",\\n    \\\"Olympic official\\\",\\n    \\\"Olympic athlete\\\",\\n    \\\"Winter Olympics\\\",\\n    \\\"Olympic gymnast\\\",\\n    \\\"Olympic fencer\\\",\\n    \\\"Olympic sailor\\\",\\n    \\\"Olympian\\\",\\n    \\\"Olympics\\\",\\n    \\\"MMA fighter\\\",\\n    \\\"speedway entrepreneur\\\",\\n    \\\"polar explorer\\\",\\n    \\\"explorer\\\",\\n]\\nsports = sorted(list(set(sports)), key=lambda x: len(x), reverse=True)\\n\\nsciences = [\\n    \\\"Technology Beijing\\\",\\n    \\\"Technology Prize\\\",\\n    \\\"radio amateur\\\",\\n    \\\"various radio developments\\\",\\n    \\\"radio astronomy\\\",\\n    \\\"Director of the MIT Laboratory for Computer Science from to\\\",\\n    \\\"Biomedical Sciences\\\",\\n    \\\"sociologist\\\",\\n    \\\"mathematician\\\",\\n]\\nsciences = sorted(list(set(sciences)), key=lambda x: len(x), reverse=True)\\n\\nbusiness_farming = [\\n    \\\"business executive\\\",\\n    \\\"small business\\\",\\n    \\\"businesswoman\\\",\\n    \\\"businessman\\\",\\n    \\\"hospital administrator\\\",\\n    \\\"business executive\\\",\\n    \\\"retail executive\\\",\\n    \\\"entrepreneur\\\",\\n]\\nbusiness_farming = sorted(\\n    list(set(business_farming)), key=lambda x: len(x), reverse=True\\n)\\n\\nacademia_humanities = [\\n    \\\"historian\\\",\\n    \\\"philosophy professor\\\",\\n    \\\"philosopher\\\",\\n    \\\"professor at George Washington University\\\",\\n    \\\"constitutional law professor\\\",\\n    \\\"professor of literature\\\",\\n    \\\"professor of medicine\\\",\\n    \\\"university professor\\\",\\n    \\\"philosophy professor\\\",\\n    \\\"professor of music\\\",\\n    \\\"college professor\\\",\\n    \\\"professor\\\",\\n    \\\"scholar of medieval literature\\\",\\n    \\\"Shakespeare scholar\\\",\\n    \\\"literary scholar\\\",\\n    \\\"scholar\\\",\\n    \\\"university administrator\\\",\\n    \\\"ethnomusicologist\\\",\\n    \\\"musicologist\\\",\\n    \\\"art lecturer\\\",\\n    \\\"lecturer\\\",\\n    \\\"museum curator\\\",\\n    \\\"curator\\\",\\n    \\\"founder of the Boston Museum of Science\\\",\\n    \\\"member of the Academy of Sciences\\\",\\n    \\\"the Academy of Social Sciences\\\",\\n    \\\"The World Academy of Sciences\\\",\\n    \\\"theatrical pedagogue\\\",\\n    \\\"pedagogue\\\",\\n]\\nacademia_humanities = sorted(\\n    list(set(academia_humanities)), key=lambda x: len(x), reverse=True\\n)\\n\\nlaw_enf_military_operator = [\\n    \\\"son of a professor who became a rebel leader\\\",\\n    \\\"resistance fighter during World War II\\\",\\n    \\\"guerrilla fighter\\\",\\n    \\\"freedom fighter\\\",\\n    \\\"fighter ace\\\",\\n    \\\"architect of the Air Force space\\\",\\n    \\\"Crime Commissioner\\\",\\n]\\nlaw_enf_military_operator = sorted(\\n    list(set(law_enf_military_operator)), key=lambda x: len(x), reverse=True\\n)\\n\\nspiritual = [\\\"islamic theologist\\\", \\\"theologian\\\"]\\nspiritual = sorted(list(set(spiritual)), key=lambda x: len(x), reverse=True)\\n\\nsocial = [\\n    \\\"charitable organization executive\\\",\\n]\\nsocial = sorted(list(set(social)), key=lambda x: len(x), reverse=True)\\n\\ncrime = [\\\"convicted murderer\\\", \\\"murderer\\\"]\\ncrime = sorted(list(set(crime)), key=lambda x: len(x), reverse=True)\\n\\nevent_record_other = [\\\"concentration camp survivor\\\", \\\"Holocaust survivor\\\"]\\nevent_record_other = sorted(\\n    list(set(event_record_other)), key=lambda x: len(x), reverse=True\\n)\\n\\nother_species = [\\\"sire\\\"]\\nother_species = sorted(list(set(other_species)), key=lambda x: len(x), reverse=True)\\n\\ncause_of_death = [\\n    \\\"prostate cancer\\\",\\n    \\\"influenza following skin cancer\\\",\\n    \\\"complications from cancer\\\",\\n    \\\"bone marrow cancer\\\",\\n    \\\"colorectal cancer\\\",\\n    \\\"lymph node cancer\\\",\\n    \\\"pancreatic cancer\\\",\\n    \\\"peritoneal cancer\\\",\\n    \\\"prostate cancer\\\",\\n    \\\"tracheal cancer\\\",\\n    \\\"bladder cancer\\\",\\n    \\\"stomach cancer\\\",\\n    \\\"throat cancer\\\",\\n    \\\"breast cancer\\\",\\n    \\\"spinal cancer\\\",\\n    \\\"liver cancer\\\",\\n    \\\"colon cancer\\\",\\n    \\\"brain cancer\\\",\\n    \\\"spine cancer\\\",\\n    \\\"bowel cancer\\\",\\n    \\\"lung cancer\\\",\\n    \\\"bone cancer\\\",\\n    \\\"neck cancer\\\",\\n    \\\"cancer\\\",\\n    \\\"chronic obstructive pulmonary disease\\\",\\n    \\\"complications from Alzheimer disease\\\",\\n    \\\"complications of Alzheimer disease\\\",\\n    \\\"coronary artery disease\\\",\\n    \\\"cardiovascular disease\\\",\\n    \\\"valvular heart disease\\\",\\n    \\\"pulmonary diseases\\\",\\n    \\\"Parkinson disease\\\",\\n    \\\"Alzheimer disease\\\",\\n    \\\"heart disease\\\",\\n    \\\"liver disease\\\",\\n    \\\"lung disease\\\",\\n    \\\"complications from a stroke\\\",\\n    \\\"multiple strokes\\\",\\n    \\\"a stroke\\\",\\n    \\\"stroke\\\",\\n    \\\"emphysema\\\",\\n    \\\"Possible heart attack\\\",\\n    \\\"valvular heart disease\\\",\\n    \\\"heart complications\\\",\\n    \\\"heart condition\\\",\\n    \\\"heart problems\\\",\\n    \\\"heart disease\\\",\\n    \\\"heart attack\\\",\\n    \\\"heart failur\\\",\\n    \\\"Lewy body dementia\\\",\\n    \\\"dementia\\\",\\n    \\\"complications of multiple sclerosis\\\",\\n    \\\"amyotrophic lateral sclerosis\\\",\\n    \\\"multiple sclerosis\\\",\\n    \\\"barbiturate overdose\\\",\\n    \\\"accidental overdose\\\",\\n    \\\"morphine overdose\\\",\\n    \\\"alcohol overdose\\\",\\n    \\\"heroin overdose\\\",\\n    \\\"drug overdose\\\",\\n    \\\"cardiac complications\\\",\\n    \\\"cardiac ailment\\\",\\n    \\\"cardiac arrest\\\",\\n]\\ncause_of_death = sorted(list(set(cause_of_death)), key=lambda x: len(x), reverse=True)\";\n",
       "                var nbb_formatted_code = \"# Creating lists for each category and sorting by decreasing length and removing duplicates\\n\\npolitics_govt_law = [\\n    \\\"activist\\\",\\n    \\\"lawyer\\\",\\n    \\\"colonial administrator\\\",\\n    \\\"life peer\\\",\\n    \\\"peer\\\",\\n    \\\"convicted dissident\\\",\\n    \\\"political dissident\\\",\\n    \\\"Castro dissident\\\",\\n    \\\"dissident\\\",\\n    \\\"Technology Policy\\\",\\n    \\\"Labrador MHA for Conception Bay East\\\",\\n    \\\"Labrador MHA\\\",\\n    \\\"conservationist\\\",\\n    \\\"Labrador House of Assembly member for St George\\\",\\n    \\\"Labrador House of Assembly for Gander\\\",\\n    \\\"Labrador House of Assembly\\\",\\n    \\\"Communications\\\",\\n    \\\"United Nations civil servant\\\",\\n    \\\"public servant\\\",\\n    \\\"civil servant\\\",\\n    \\\"attorney\\\",\\n    \\\"Finance\\\",\\n    \\\"environmentalist\\\",\\n    \\\"Majority Leader of the NY Senate\\\",\\n    \\\"deputy president of the Senate\\\",\\n    \\\"member of the State Senate\\\",\\n    \\\"Senator\\\",\\n    \\\"Senate\\\",\\n    \\\"senior judge of the District Court for the Central District of\\\",\\n    \\\"High Court judge\\\",\\n    \\\"th congressional districts\\\",\\n    \\\"nd congressional districts\\\",\\n    \\\"congressman\\\",\\n    \\\"feminist\\\",\\n    \\\"Trademark Office\\\",\\n    \\\"Foreign Trade\\\",\\n    \\\"Trade\\\",\\n    \\\"Budget\\\",\\n    \\\"ambassador to\\\",\\n    \\\"ambassador\\\",\\n    \\\"founder of the Saba Labour Party\\\",\\n    \\\"Labour Party donor\\\",\\n    \\\"Labour\\\",\\n    \\\"Health Service Commissioner\\\",\\n    \\\"Islamic Affairs; Member of the House of Representatives\\\",\\n    \\\"four time member of the House of Representatives\\\",\\n    \\\"Labrador House of Assembly member for St George\\\",\\n    \\\"Speaker of the Maine House of Representatives\\\",\\n    \\\"th Speaker of the House of Representatives\\\",\\n    \\\"Labrador House of Assembly for Gander\\\",\\n    \\\"member of the House of Lords\\\",\\n    \\\"Christel House International\\\",\\n    \\\"Labrador House of Assembly\\\",\\n]\\npolitics_govt_law = sorted(\\n    list(set(politics_govt_law)), key=lambda x: len(x), reverse=True\\n)\\n\\narts = [\\n    \\\"writer\\\",\\n    \\\"author of\\\",\\n    \\\"author\\\",\\n    \\\"producer\\\",\\n    \\\"journalist\\\",\\n    \\\"composer\\\",\\n    \\\"director\\\",\\n    \\\"poet\\\",\\n    \\\"critic\\\",\\n    \\\"newspaper publisher\\\",\\n    \\\"music publisher\\\",\\n    \\\"book publisher\\\",\\n    \\\"publisher\\\",\\n    \\\"arranger of music for television\\\",\\n    \\\"music arranger\\\",\\n    \\\"arranger\\\",\\n    \\\"essayist\\\",\\n    \\\"television presenter\\\",\\n    \\\"radio presenter\\\",\\n    \\\"TV presenter\\\",\\n    \\\"presenter\\\",\\n    \\\"Nine Network television commentator\\\",\\n    \\\"arranger of music for television\\\",\\n    \\\"reality television cast member\\\",\\n    \\\"television hostess on cuisine\\\",\\n    \\\"television quiz contestant\\\",\\n    \\\"television talk show host\\\",\\n    \\\"reality television judge\\\",\\n    \\\"television personality\\\",\\n    \\\"CBS television network\\\",\\n    \\\"television presenter\\\",\\n    \\\"television announcer\\\",\\n    \\\"television executive\\\",\\n    \\\"television actress\\\",\\n    \\\"television host\\\",\\n    \\\"television\\\",\\n    \\\"photographer\\\",\\n    \\\"manager of actress Brooke Shields\\\",\\n    \\\"mother of actress Candice Bergen\\\",\\n    \\\"Oscar winning film actress\\\",\\n    '\\\"B\\\" actress in the s',\\n    \\\"television actress\\\",\\n    \\\"stage actress\\\",\\n    \\\"voice actress\\\",\\n    \\\"film actress\\\",\\n    \\\"actress\\\",\\n    \\\"multimedia fine artist\\\",\\n    \\\"record jacket artist\\\",\\n    \\\"installation artist\\\",\\n    \\\"performance artist\\\",\\n    \\\"comic strip artist\\\",\\n    \\\"recording artist\\\",\\n    \\\"make up artist\\\",\\n    \\\"digital artist\\\",\\n    \\\"plastic artist\\\",\\n    \\\"variety artist\\\",\\n    \\\"graphic artist\\\",\\n    \\\"visual artist\\\",\\n    \\\"comics artist\\\",\\n    \\\"escape artist\\\",\\n    \\\"light artist\\\",\\n    \\\"cyber artist\\\",\\n    \\\"mime artist\\\",\\n    \\\"sculptor\\\",\\n    \\\"guitarist\\\",\\n    \\\"dancer\\\",\\n    \\\"botanical illustrator\\\",\\n    \\\"book illustrator\\\",\\n    \\\"illustrator\\\",\\n    \\\"paintings of World War II\\\",\\n    \\\"painter\\\",\\n    \\\"orchestra conductor\\\",\\n    \\\"conductor\\\",\\n    \\\"Rolling Stones manager\\\",\\n    \\\"country music manager\\\",\\n    \\\"manager of Five Star\\\",\\n    \\\"cultural manager\\\",\\n    \\\"theatre manager\\\",\\n    \\\"stage manager\\\",\\n    \\\"jazz pianist\\\",\\n    \\\"pianist\\\",\\n    \\\"Oscar winning film actress\\\",\\n    \\\"conspiracy film maker\\\",\\n    \\\"underwater filmmaker\\\",\\n    \\\"film set designer\\\",\\n    \\\"sound film star\\\",\\n    \\\"film actress\\\",\\n    \\\"film censor\\\",\\n    \\\"film music\\\",\\n    \\\"film maker\\\",\\n    \\\"filmmaker\\\",\\n    \\\"film\\\",\\n    \\\"lyricist\\\",\\n    \\\"syndicated columnist\\\",\\n    \\\"columnist for the\\\",\\n    \\\"columnist\\\",\\n    \\\"administrator of the Old Globe Theatre\\\",\\n    \\\"musical administrator\\\",\\n    \\\"music administrator\\\",\\n    \\\"arts administrator\\\",\\n    \\\"acting coach\\\",\\n    \\\"vocal coach\\\",\\n    \\\"leader of comedic group The Drifters\\\",\\n    \\\"stand up comedian\\\",\\n    \\\"comedian\\\",\\n    \\\"last surviving husband\\\",\\n    \\\"Sonora Ponce\\u00f1a bands\\\",\\n    \\\"bandleader\\\",\\n    \\\"agent of TV entertainer Michael Barrymore\\\",\\n    \\\"comic entertainer\\\",\\n    \\\"entertainer\\\",\\n    \\\"radio personality\\\",\\n    \\\"radio presenter\\\",\\n    \\\"radio announcer\\\",\\n    \\\"radio host\\\",\\n    \\\"radio DJ\\\",\\n    \\\"radio show host\\\",\\n    \\\"art collector\\\",\\n    \\\"collector\\\",\\n    \\\"fashion model\\\",\\n    \\\"model\\\",\\n    \\\"record industry executive\\\",\\n    \\\"broadcasting executive\\\",\\n    \\\"record label executive\\\",\\n    \\\"studio executive\\\",\\n    \\\"chief executive\\\",\\n    \\\"news executive\\\",\\n    \\\"reality television judge\\\",\\n    \\\"competition judge\\\",\\n    \\\"socialite\\\",\\n    \\\"blogger\\\",\\n    \\\"choreographer\\\",\\n    \\\"performance artist\\\",\\n    \\\"cabaret performer\\\",\\n    \\\"stunt performer\\\",\\n    \\\"comic performer\\\",\\n    \\\"performer\\\",\\n    \\\"autobiographer\\\",\\n    \\\"biographer\\\",\\n    \\\"dramaturge\\\",\\n    \\\"dramatist\\\",\\n    \\\"reporter\\\",\\n]\\narts = sorted(list(set(arts)), key=lambda x: len(x), reverse=True)\\n\\nsports = [\\n    \\\"martial artist\\\",\\n    \\\"t'ai chi teacher\\\",\\n    \\\"Capirossi team manager\\\",\\n    \\\"booking manager\\\",\\n    \\\"general manager\\\",\\n    'last survivor of the Philadelphia Phillies\\\\' \\\"Whiz Kids\\\" that won the National League championship',\\n    \\\"athletics administrator\\\",\\n    \\\"games administrator\\\",\\n    \\\"former coach of golfer Tiger Woods\\\",\\n    \\\"basketball coach\\\",\\n    \\\"assistant coach\\\",\\n    \\\"football coach\\\",\\n    \\\"bandy player\\\",\\n    \\\"scout\\\",\\n    \\\"sports executive\\\",\\n    \\\"vice president of the International Olympic Committee\\\",\\n    \\\"two bronze medals at the Summer Olympics\\\",\\n    \\\"Olympic silver medallist\\\",\\n    \\\"Olympic figure skater\\\",\\n    \\\"silver medal Olympiad\\\",\\n    \\\"Olympic champion\\\",\\n    \\\"National Olympic\\\",\\n    \\\"Olympic sprinter\\\",\\n    \\\"Olympic medalist\\\",\\n    \\\"Olympic official\\\",\\n    \\\"Olympic athlete\\\",\\n    \\\"Winter Olympics\\\",\\n    \\\"Olympic gymnast\\\",\\n    \\\"Olympic fencer\\\",\\n    \\\"Olympic sailor\\\",\\n    \\\"Olympian\\\",\\n    \\\"Olympics\\\",\\n    \\\"MMA fighter\\\",\\n    \\\"speedway entrepreneur\\\",\\n    \\\"polar explorer\\\",\\n    \\\"explorer\\\",\\n]\\nsports = sorted(list(set(sports)), key=lambda x: len(x), reverse=True)\\n\\nsciences = [\\n    \\\"Technology Beijing\\\",\\n    \\\"Technology Prize\\\",\\n    \\\"radio amateur\\\",\\n    \\\"various radio developments\\\",\\n    \\\"radio astronomy\\\",\\n    \\\"Director of the MIT Laboratory for Computer Science from to\\\",\\n    \\\"Biomedical Sciences\\\",\\n    \\\"sociologist\\\",\\n    \\\"mathematician\\\",\\n]\\nsciences = sorted(list(set(sciences)), key=lambda x: len(x), reverse=True)\\n\\nbusiness_farming = [\\n    \\\"business executive\\\",\\n    \\\"small business\\\",\\n    \\\"businesswoman\\\",\\n    \\\"businessman\\\",\\n    \\\"hospital administrator\\\",\\n    \\\"business executive\\\",\\n    \\\"retail executive\\\",\\n    \\\"entrepreneur\\\",\\n]\\nbusiness_farming = sorted(\\n    list(set(business_farming)), key=lambda x: len(x), reverse=True\\n)\\n\\nacademia_humanities = [\\n    \\\"historian\\\",\\n    \\\"philosophy professor\\\",\\n    \\\"philosopher\\\",\\n    \\\"professor at George Washington University\\\",\\n    \\\"constitutional law professor\\\",\\n    \\\"professor of literature\\\",\\n    \\\"professor of medicine\\\",\\n    \\\"university professor\\\",\\n    \\\"philosophy professor\\\",\\n    \\\"professor of music\\\",\\n    \\\"college professor\\\",\\n    \\\"professor\\\",\\n    \\\"scholar of medieval literature\\\",\\n    \\\"Shakespeare scholar\\\",\\n    \\\"literary scholar\\\",\\n    \\\"scholar\\\",\\n    \\\"university administrator\\\",\\n    \\\"ethnomusicologist\\\",\\n    \\\"musicologist\\\",\\n    \\\"art lecturer\\\",\\n    \\\"lecturer\\\",\\n    \\\"museum curator\\\",\\n    \\\"curator\\\",\\n    \\\"founder of the Boston Museum of Science\\\",\\n    \\\"member of the Academy of Sciences\\\",\\n    \\\"the Academy of Social Sciences\\\",\\n    \\\"The World Academy of Sciences\\\",\\n    \\\"theatrical pedagogue\\\",\\n    \\\"pedagogue\\\",\\n]\\nacademia_humanities = sorted(\\n    list(set(academia_humanities)), key=lambda x: len(x), reverse=True\\n)\\n\\nlaw_enf_military_operator = [\\n    \\\"son of a professor who became a rebel leader\\\",\\n    \\\"resistance fighter during World War II\\\",\\n    \\\"guerrilla fighter\\\",\\n    \\\"freedom fighter\\\",\\n    \\\"fighter ace\\\",\\n    \\\"architect of the Air Force space\\\",\\n    \\\"Crime Commissioner\\\",\\n]\\nlaw_enf_military_operator = sorted(\\n    list(set(law_enf_military_operator)), key=lambda x: len(x), reverse=True\\n)\\n\\nspiritual = [\\\"islamic theologist\\\", \\\"theologian\\\"]\\nspiritual = sorted(list(set(spiritual)), key=lambda x: len(x), reverse=True)\\n\\nsocial = [\\n    \\\"charitable organization executive\\\",\\n]\\nsocial = sorted(list(set(social)), key=lambda x: len(x), reverse=True)\\n\\ncrime = [\\\"convicted murderer\\\", \\\"murderer\\\"]\\ncrime = sorted(list(set(crime)), key=lambda x: len(x), reverse=True)\\n\\nevent_record_other = [\\\"concentration camp survivor\\\", \\\"Holocaust survivor\\\"]\\nevent_record_other = sorted(\\n    list(set(event_record_other)), key=lambda x: len(x), reverse=True\\n)\\n\\nother_species = [\\\"sire\\\"]\\nother_species = sorted(list(set(other_species)), key=lambda x: len(x), reverse=True)\\n\\ncause_of_death = [\\n    \\\"prostate cancer\\\",\\n    \\\"influenza following skin cancer\\\",\\n    \\\"complications from cancer\\\",\\n    \\\"bone marrow cancer\\\",\\n    \\\"colorectal cancer\\\",\\n    \\\"lymph node cancer\\\",\\n    \\\"pancreatic cancer\\\",\\n    \\\"peritoneal cancer\\\",\\n    \\\"prostate cancer\\\",\\n    \\\"tracheal cancer\\\",\\n    \\\"bladder cancer\\\",\\n    \\\"stomach cancer\\\",\\n    \\\"throat cancer\\\",\\n    \\\"breast cancer\\\",\\n    \\\"spinal cancer\\\",\\n    \\\"liver cancer\\\",\\n    \\\"colon cancer\\\",\\n    \\\"brain cancer\\\",\\n    \\\"spine cancer\\\",\\n    \\\"bowel cancer\\\",\\n    \\\"lung cancer\\\",\\n    \\\"bone cancer\\\",\\n    \\\"neck cancer\\\",\\n    \\\"cancer\\\",\\n    \\\"chronic obstructive pulmonary disease\\\",\\n    \\\"complications from Alzheimer disease\\\",\\n    \\\"complications of Alzheimer disease\\\",\\n    \\\"coronary artery disease\\\",\\n    \\\"cardiovascular disease\\\",\\n    \\\"valvular heart disease\\\",\\n    \\\"pulmonary diseases\\\",\\n    \\\"Parkinson disease\\\",\\n    \\\"Alzheimer disease\\\",\\n    \\\"heart disease\\\",\\n    \\\"liver disease\\\",\\n    \\\"lung disease\\\",\\n    \\\"complications from a stroke\\\",\\n    \\\"multiple strokes\\\",\\n    \\\"a stroke\\\",\\n    \\\"stroke\\\",\\n    \\\"emphysema\\\",\\n    \\\"Possible heart attack\\\",\\n    \\\"valvular heart disease\\\",\\n    \\\"heart complications\\\",\\n    \\\"heart condition\\\",\\n    \\\"heart problems\\\",\\n    \\\"heart disease\\\",\\n    \\\"heart attack\\\",\\n    \\\"heart failur\\\",\\n    \\\"Lewy body dementia\\\",\\n    \\\"dementia\\\",\\n    \\\"complications of multiple sclerosis\\\",\\n    \\\"amyotrophic lateral sclerosis\\\",\\n    \\\"multiple sclerosis\\\",\\n    \\\"barbiturate overdose\\\",\\n    \\\"accidental overdose\\\",\\n    \\\"morphine overdose\\\",\\n    \\\"alcohol overdose\\\",\\n    \\\"heroin overdose\\\",\\n    \\\"drug overdose\\\",\\n    \\\"cardiac complications\\\",\\n    \\\"cardiac ailment\\\",\\n    \\\"cardiac arrest\\\",\\n]\\ncause_of_death = sorted(list(set(cause_of_death)), key=lambda x: len(x), reverse=True)\";\n",
       "                var nbb_cells = Jupyter.notebook.get_cells();\n",
       "                for (var i = 0; i < nbb_cells.length; ++i) {\n",
       "                    if (nbb_cells[i].input_prompt_number == nbb_cell_id) {\n",
       "                        if (nbb_cells[i].get_text() == nbb_unformatted_code) {\n",
       "                             nbb_cells[i].set_text(nbb_formatted_code);\n",
       "                        }\n",
       "                        break;\n",
       "                    }\n",
       "                }\n",
       "            }, 500);\n",
       "            "
      ],
      "text/plain": [
       "<IPython.core.display.Javascript object>"
      ]
     },
     "metadata": {},
     "output_type": "display_data"
    }
   ],
   "source": [
    "# Creating lists for each category and sorting by decreasing length and removing duplicates\n",
    "\n",
    "politics_govt_law = [\n",
    "    \"activist\",\n",
    "    \"lawyer\",\n",
    "    \"colonial administrator\",\n",
    "    \"life peer\",\n",
    "    \"peer\",\n",
    "    \"convicted dissident\",\n",
    "    \"political dissident\",\n",
    "    \"Castro dissident\",\n",
    "    \"dissident\",\n",
    "    \"Technology Policy\",\n",
    "    \"Labrador MHA for Conception Bay East\",\n",
    "    \"Labrador MHA\",\n",
    "    \"conservationist\",\n",
    "    \"Labrador House of Assembly member for St George\",\n",
    "    \"Labrador House of Assembly for Gander\",\n",
    "    \"Labrador House of Assembly\",\n",
    "    \"Communications\",\n",
    "    \"United Nations civil servant\",\n",
    "    \"public servant\",\n",
    "    \"civil servant\",\n",
    "    \"attorney\",\n",
    "    \"Finance\",\n",
    "    \"environmentalist\",\n",
    "    \"Majority Leader of the NY Senate\",\n",
    "    \"deputy president of the Senate\",\n",
    "    \"member of the State Senate\",\n",
    "    \"Senator\",\n",
    "    \"Senate\",\n",
    "    \"senior judge of the District Court for the Central District of\",\n",
    "    \"High Court judge\",\n",
    "    \"th congressional districts\",\n",
    "    \"nd congressional districts\",\n",
    "    \"congressman\",\n",
    "    \"feminist\",\n",
    "    \"Trademark Office\",\n",
    "    \"Foreign Trade\",\n",
    "    \"Trade\",\n",
    "    \"Budget\",\n",
    "    \"ambassador to\",\n",
    "    \"ambassador\",\n",
    "    \"founder of the Saba Labour Party\",\n",
    "    \"Labour Party donor\",\n",
    "    \"Labour\",\n",
    "    \"Health Service Commissioner\",\n",
    "    \"Islamic Affairs; Member of the House of Representatives\",\n",
    "    \"four time member of the House of Representatives\",\n",
    "    \"Labrador House of Assembly member for St George\",\n",
    "    \"Speaker of the Maine House of Representatives\",\n",
    "    \"th Speaker of the House of Representatives\",\n",
    "    \"Labrador House of Assembly for Gander\",\n",
    "    \"member of the House of Lords\",\n",
    "    \"Christel House International\",\n",
    "    \"Labrador House of Assembly\",\n",
    "]\n",
    "politics_govt_law = sorted(\n",
    "    list(set(politics_govt_law)), key=lambda x: len(x), reverse=True\n",
    ")\n",
    "\n",
    "arts = [\n",
    "    \"writer\",\n",
    "    \"author of\",\n",
    "    \"author\",\n",
    "    \"producer\",\n",
    "    \"journalist\",\n",
    "    \"composer\",\n",
    "    \"director\",\n",
    "    \"poet\",\n",
    "    \"critic\",\n",
    "    \"newspaper publisher\",\n",
    "    \"music publisher\",\n",
    "    \"book publisher\",\n",
    "    \"publisher\",\n",
    "    \"arranger of music for television\",\n",
    "    \"music arranger\",\n",
    "    \"arranger\",\n",
    "    \"essayist\",\n",
    "    \"television presenter\",\n",
    "    \"radio presenter\",\n",
    "    \"TV presenter\",\n",
    "    \"presenter\",\n",
    "    \"Nine Network television commentator\",\n",
    "    \"arranger of music for television\",\n",
    "    \"reality television cast member\",\n",
    "    \"television hostess on cuisine\",\n",
    "    \"television quiz contestant\",\n",
    "    \"television talk show host\",\n",
    "    \"reality television judge\",\n",
    "    \"television personality\",\n",
    "    \"CBS television network\",\n",
    "    \"television presenter\",\n",
    "    \"television announcer\",\n",
    "    \"television executive\",\n",
    "    \"television actress\",\n",
    "    \"television host\",\n",
    "    \"television\",\n",
    "    \"photographer\",\n",
    "    \"manager of actress Brooke Shields\",\n",
    "    \"mother of actress Candice Bergen\",\n",
    "    \"Oscar winning film actress\",\n",
    "    '\"B\" actress in the s',\n",
    "    \"television actress\",\n",
    "    \"stage actress\",\n",
    "    \"voice actress\",\n",
    "    \"film actress\",\n",
    "    \"actress\",\n",
    "    \"multimedia fine artist\",\n",
    "    \"record jacket artist\",\n",
    "    \"installation artist\",\n",
    "    \"performance artist\",\n",
    "    \"comic strip artist\",\n",
    "    \"recording artist\",\n",
    "    \"make up artist\",\n",
    "    \"digital artist\",\n",
    "    \"plastic artist\",\n",
    "    \"variety artist\",\n",
    "    \"graphic artist\",\n",
    "    \"visual artist\",\n",
    "    \"comics artist\",\n",
    "    \"escape artist\",\n",
    "    \"light artist\",\n",
    "    \"cyber artist\",\n",
    "    \"mime artist\",\n",
    "    \"sculptor\",\n",
    "    \"guitarist\",\n",
    "    \"dancer\",\n",
    "    \"botanical illustrator\",\n",
    "    \"book illustrator\",\n",
    "    \"illustrator\",\n",
    "    \"paintings of World War II\",\n",
    "    \"painter\",\n",
    "    \"orchestra conductor\",\n",
    "    \"conductor\",\n",
    "    \"Rolling Stones manager\",\n",
    "    \"country music manager\",\n",
    "    \"manager of Five Star\",\n",
    "    \"cultural manager\",\n",
    "    \"theatre manager\",\n",
    "    \"stage manager\",\n",
    "    \"jazz pianist\",\n",
    "    \"pianist\",\n",
    "    \"Oscar winning film actress\",\n",
    "    \"conspiracy film maker\",\n",
    "    \"underwater filmmaker\",\n",
    "    \"film set designer\",\n",
    "    \"sound film star\",\n",
    "    \"film actress\",\n",
    "    \"film censor\",\n",
    "    \"film music\",\n",
    "    \"film maker\",\n",
    "    \"filmmaker\",\n",
    "    \"film\",\n",
    "    \"lyricist\",\n",
    "    \"syndicated columnist\",\n",
    "    \"columnist for the\",\n",
    "    \"columnist\",\n",
    "    \"administrator of the Old Globe Theatre\",\n",
    "    \"musical administrator\",\n",
    "    \"music administrator\",\n",
    "    \"arts administrator\",\n",
    "    \"acting coach\",\n",
    "    \"vocal coach\",\n",
    "    \"leader of comedic group The Drifters\",\n",
    "    \"stand up comedian\",\n",
    "    \"comedian\",\n",
    "    \"last surviving husband\",\n",
    "    \"Sonora Ponceña bands\",\n",
    "    \"bandleader\",\n",
    "    \"agent of TV entertainer Michael Barrymore\",\n",
    "    \"comic entertainer\",\n",
    "    \"entertainer\",\n",
    "    \"radio personality\",\n",
    "    \"radio presenter\",\n",
    "    \"radio announcer\",\n",
    "    \"radio host\",\n",
    "    \"radio DJ\",\n",
    "    \"radio show host\",\n",
    "    \"art collector\",\n",
    "    \"collector\",\n",
    "    \"fashion model\",\n",
    "    \"model\",\n",
    "    \"record industry executive\",\n",
    "    \"broadcasting executive\",\n",
    "    \"record label executive\",\n",
    "    \"studio executive\",\n",
    "    \"chief executive\",\n",
    "    \"news executive\",\n",
    "    \"reality television judge\",\n",
    "    \"competition judge\",\n",
    "    \"socialite\",\n",
    "    \"blogger\",\n",
    "    \"choreographer\",\n",
    "    \"performance artist\",\n",
    "    \"cabaret performer\",\n",
    "    \"stunt performer\",\n",
    "    \"comic performer\",\n",
    "    \"performer\",\n",
    "    \"autobiographer\",\n",
    "    \"biographer\",\n",
    "    \"dramaturge\",\n",
    "    \"dramatist\",\n",
    "    \"reporter\",\n",
    "]\n",
    "arts = sorted(list(set(arts)), key=lambda x: len(x), reverse=True)\n",
    "\n",
    "sports = [\n",
    "    \"martial artist\",\n",
    "    \"t'ai chi teacher\",\n",
    "    \"Capirossi team manager\",\n",
    "    \"booking manager\",\n",
    "    \"general manager\",\n",
    "    'last survivor of the Philadelphia Phillies\\' \"Whiz Kids\" that won the National League championship',\n",
    "    \"athletics administrator\",\n",
    "    \"games administrator\",\n",
    "    \"former coach of golfer Tiger Woods\",\n",
    "    \"basketball coach\",\n",
    "    \"assistant coach\",\n",
    "    \"football coach\",\n",
    "    \"bandy player\",\n",
    "    \"scout\",\n",
    "    \"sports executive\",\n",
    "    \"vice president of the International Olympic Committee\",\n",
    "    \"two bronze medals at the Summer Olympics\",\n",
    "    \"Olympic silver medallist\",\n",
    "    \"Olympic figure skater\",\n",
    "    \"silver medal Olympiad\",\n",
    "    \"Olympic champion\",\n",
    "    \"National Olympic\",\n",
    "    \"Olympic sprinter\",\n",
    "    \"Olympic medalist\",\n",
    "    \"Olympic official\",\n",
    "    \"Olympic athlete\",\n",
    "    \"Winter Olympics\",\n",
    "    \"Olympic gymnast\",\n",
    "    \"Olympic fencer\",\n",
    "    \"Olympic sailor\",\n",
    "    \"Olympian\",\n",
    "    \"Olympics\",\n",
    "    \"MMA fighter\",\n",
    "    \"speedway entrepreneur\",\n",
    "    \"polar explorer\",\n",
    "    \"explorer\",\n",
    "]\n",
    "sports = sorted(list(set(sports)), key=lambda x: len(x), reverse=True)\n",
    "\n",
    "sciences = [\n",
    "    \"Technology Beijing\",\n",
    "    \"Technology Prize\",\n",
    "    \"radio amateur\",\n",
    "    \"various radio developments\",\n",
    "    \"radio astronomy\",\n",
    "    \"Director of the MIT Laboratory for Computer Science from to\",\n",
    "    \"Biomedical Sciences\",\n",
    "    \"sociologist\",\n",
    "    \"mathematician\",\n",
    "]\n",
    "sciences = sorted(list(set(sciences)), key=lambda x: len(x), reverse=True)\n",
    "\n",
    "business_farming = [\n",
    "    \"business executive\",\n",
    "    \"small business\",\n",
    "    \"businesswoman\",\n",
    "    \"businessman\",\n",
    "    \"hospital administrator\",\n",
    "    \"business executive\",\n",
    "    \"retail executive\",\n",
    "    \"entrepreneur\",\n",
    "]\n",
    "business_farming = sorted(\n",
    "    list(set(business_farming)), key=lambda x: len(x), reverse=True\n",
    ")\n",
    "\n",
    "academia_humanities = [\n",
    "    \"historian\",\n",
    "    \"philosophy professor\",\n",
    "    \"philosopher\",\n",
    "    \"professor at George Washington University\",\n",
    "    \"constitutional law professor\",\n",
    "    \"professor of literature\",\n",
    "    \"professor of medicine\",\n",
    "    \"university professor\",\n",
    "    \"philosophy professor\",\n",
    "    \"professor of music\",\n",
    "    \"college professor\",\n",
    "    \"professor\",\n",
    "    \"scholar of medieval literature\",\n",
    "    \"Shakespeare scholar\",\n",
    "    \"literary scholar\",\n",
    "    \"scholar\",\n",
    "    \"university administrator\",\n",
    "    \"ethnomusicologist\",\n",
    "    \"musicologist\",\n",
    "    \"art lecturer\",\n",
    "    \"lecturer\",\n",
    "    \"museum curator\",\n",
    "    \"curator\",\n",
    "    \"founder of the Boston Museum of Science\",\n",
    "    \"member of the Academy of Sciences\",\n",
    "    \"the Academy of Social Sciences\",\n",
    "    \"The World Academy of Sciences\",\n",
    "    \"theatrical pedagogue\",\n",
    "    \"pedagogue\",\n",
    "]\n",
    "academia_humanities = sorted(\n",
    "    list(set(academia_humanities)), key=lambda x: len(x), reverse=True\n",
    ")\n",
    "\n",
    "law_enf_military_operator = [\n",
    "    \"son of a professor who became a rebel leader\",\n",
    "    \"resistance fighter during World War II\",\n",
    "    \"guerrilla fighter\",\n",
    "    \"freedom fighter\",\n",
    "    \"fighter ace\",\n",
    "    \"architect of the Air Force space\",\n",
    "    \"Crime Commissioner\",\n",
    "]\n",
    "law_enf_military_operator = sorted(\n",
    "    list(set(law_enf_military_operator)), key=lambda x: len(x), reverse=True\n",
    ")\n",
    "\n",
    "spiritual = [\"islamic theologist\", \"theologian\"]\n",
    "spiritual = sorted(list(set(spiritual)), key=lambda x: len(x), reverse=True)\n",
    "\n",
    "social = [\n",
    "    \"charitable organization executive\",\n",
    "]\n",
    "social = sorted(list(set(social)), key=lambda x: len(x), reverse=True)\n",
    "\n",
    "crime = [\"convicted murderer\", \"murderer\"]\n",
    "crime = sorted(list(set(crime)), key=lambda x: len(x), reverse=True)\n",
    "\n",
    "event_record_other = [\"concentration camp survivor\", \"Holocaust survivor\"]\n",
    "event_record_other = sorted(\n",
    "    list(set(event_record_other)), key=lambda x: len(x), reverse=True\n",
    ")\n",
    "\n",
    "other_species = [\"sire\"]\n",
    "other_species = sorted(list(set(other_species)), key=lambda x: len(x), reverse=True)\n",
    "\n",
    "cause_of_death = [\n",
    "    \"prostate cancer\",\n",
    "    \"influenza following skin cancer\",\n",
    "    \"complications from cancer\",\n",
    "    \"bone marrow cancer\",\n",
    "    \"colorectal cancer\",\n",
    "    \"lymph node cancer\",\n",
    "    \"pancreatic cancer\",\n",
    "    \"peritoneal cancer\",\n",
    "    \"prostate cancer\",\n",
    "    \"tracheal cancer\",\n",
    "    \"bladder cancer\",\n",
    "    \"stomach cancer\",\n",
    "    \"throat cancer\",\n",
    "    \"breast cancer\",\n",
    "    \"spinal cancer\",\n",
    "    \"liver cancer\",\n",
    "    \"colon cancer\",\n",
    "    \"brain cancer\",\n",
    "    \"spine cancer\",\n",
    "    \"bowel cancer\",\n",
    "    \"lung cancer\",\n",
    "    \"bone cancer\",\n",
    "    \"neck cancer\",\n",
    "    \"cancer\",\n",
    "    \"chronic obstructive pulmonary disease\",\n",
    "    \"complications from Alzheimer disease\",\n",
    "    \"complications of Alzheimer disease\",\n",
    "    \"coronary artery disease\",\n",
    "    \"cardiovascular disease\",\n",
    "    \"valvular heart disease\",\n",
    "    \"pulmonary diseases\",\n",
    "    \"Parkinson disease\",\n",
    "    \"Alzheimer disease\",\n",
    "    \"heart disease\",\n",
    "    \"liver disease\",\n",
    "    \"lung disease\",\n",
    "    \"complications from a stroke\",\n",
    "    \"multiple strokes\",\n",
    "    \"a stroke\",\n",
    "    \"stroke\",\n",
    "    \"emphysema\",\n",
    "    \"Possible heart attack\",\n",
    "    \"valvular heart disease\",\n",
    "    \"heart complications\",\n",
    "    \"heart condition\",\n",
    "    \"heart problems\",\n",
    "    \"heart disease\",\n",
    "    \"heart attack\",\n",
    "    \"heart failur\",\n",
    "    \"Lewy body dementia\",\n",
    "    \"dementia\",\n",
    "    \"complications of multiple sclerosis\",\n",
    "    \"amyotrophic lateral sclerosis\",\n",
    "    \"multiple sclerosis\",\n",
    "    \"barbiturate overdose\",\n",
    "    \"accidental overdose\",\n",
    "    \"morphine overdose\",\n",
    "    \"alcohol overdose\",\n",
    "    \"heroin overdose\",\n",
    "    \"drug overdose\",\n",
    "    \"cardiac complications\",\n",
    "    \"cardiac ailment\",\n",
    "    \"cardiac arrest\",\n",
    "]\n",
    "cause_of_death = sorted(list(set(cause_of_death)), key=lambda x: len(x), reverse=True)"
   ]
  },
  {
   "cell_type": "code",
   "execution_count": 21,
   "id": "5aaa3488",
   "metadata": {},
   "outputs": [
    {
     "data": {
      "application/javascript": [
       "\n",
       "            setTimeout(function() {\n",
       "                var nbb_cell_id = 21;\n",
       "                var nbb_unformatted_code = \"# Dropping info_3_1 value for entries with duplicate category value\\ndf.loc[[index for index in df[df[\\\"info_3_1\\\"] == \\\"manager\\\"].index], \\\"info_3_1\\\"] = \\\"\\\"\\n\\n# Dropping info_3_1 value for entries with duplicate category value\\ndf.loc[[index for index in df[df[\\\"info_3_1\\\"] == \\\"administrator\\\"].index], \\\"info_3_1\\\"] = \\\"\\\"\\n\\n# Dropping info_3_1 value for entries with duplicate category value\\ndf.loc[[index for index in df[df[\\\"info_3_1\\\"] == \\\"Labrador\\\"].index], \\\"info_3_1\\\"] = \\\"\\\"\";\n",
       "                var nbb_formatted_code = \"# Dropping info_3_1 value for entries with duplicate category value\\ndf.loc[[index for index in df[df[\\\"info_3_1\\\"] == \\\"manager\\\"].index], \\\"info_3_1\\\"] = \\\"\\\"\\n\\n# Dropping info_3_1 value for entries with duplicate category value\\ndf.loc[\\n    [index for index in df[df[\\\"info_3_1\\\"] == \\\"administrator\\\"].index], \\\"info_3_1\\\"\\n] = \\\"\\\"\\n\\n# Dropping info_3_1 value for entries with duplicate category value\\ndf.loc[[index for index in df[df[\\\"info_3_1\\\"] == \\\"Labrador\\\"].index], \\\"info_3_1\\\"] = \\\"\\\"\";\n",
       "                var nbb_cells = Jupyter.notebook.get_cells();\n",
       "                for (var i = 0; i < nbb_cells.length; ++i) {\n",
       "                    if (nbb_cells[i].input_prompt_number == nbb_cell_id) {\n",
       "                        if (nbb_cells[i].get_text() == nbb_unformatted_code) {\n",
       "                             nbb_cells[i].set_text(nbb_formatted_code);\n",
       "                        }\n",
       "                        break;\n",
       "                    }\n",
       "                }\n",
       "            }, 500);\n",
       "            "
      ],
      "text/plain": [
       "<IPython.core.display.Javascript object>"
      ]
     },
     "metadata": {},
     "output_type": "display_data"
    }
   ],
   "source": [
    "# Dropping info_3_1 value for entries with duplicate category value\n",
    "df.loc[[index for index in df[df[\"info_3_1\"] == \"manager\"].index], \"info_3_1\"] = \"\"\n",
    "\n",
    "# Dropping info_3_1 value for entries with duplicate category value\n",
    "df.loc[[index for index in df[df[\"info_3_1\"] == \"administrator\"].index], \"info_3_1\"] = \"\"\n",
    "\n",
    "# Dropping info_3_1 value for entries with duplicate category value\n",
    "df.loc[[index for index in df[df[\"info_3_1\"] == \"Labrador\"].index], \"info_3_1\"] = \"\"\n"
   ]
  },
  {
   "cell_type": "markdown",
   "id": "71e2fd96",
   "metadata": {},
   "source": [
    "#### Creating `known_for_dict` Dictionary of Category Keys and Specific Role Lists of Values"
   ]
  },
  {
   "cell_type": "code",
   "execution_count": 22,
   "id": "25f3b7e6",
   "metadata": {},
   "outputs": [
    {
     "data": {
      "application/javascript": [
       "\n",
       "            setTimeout(function() {\n",
       "                var nbb_cell_id = 22;\n",
       "                var nbb_unformatted_code = \"# Combining separate lists into one dictionary\\nknown_for_dict = {\\n    \\\"social\\\": social,\\n    \\\"spiritual\\\": spiritual,\\n    \\\"academia_humanities\\\": academia_humanities,\\n    \\\"business_farming\\\": business_farming,\\n    \\\"sciences\\\": sciences,\\n    \\\"politics_govt_law\\\": politics_govt_law,\\n    \\\"law_enf_military_operator\\\": law_enf_military_operator,\\n    \\\"crime\\\": crime,\\n    \\\"event_record_other\\\": event_record_other,\\n    \\\"other_species\\\": other_species,\\n    \\\"arts\\\": arts,\\n    \\\"sports\\\": sports,\\n}\";\n",
       "                var nbb_formatted_code = \"# Combining separate lists into one dictionary\\nknown_for_dict = {\\n    \\\"social\\\": social,\\n    \\\"spiritual\\\": spiritual,\\n    \\\"academia_humanities\\\": academia_humanities,\\n    \\\"business_farming\\\": business_farming,\\n    \\\"sciences\\\": sciences,\\n    \\\"politics_govt_law\\\": politics_govt_law,\\n    \\\"law_enf_military_operator\\\": law_enf_military_operator,\\n    \\\"crime\\\": crime,\\n    \\\"event_record_other\\\": event_record_other,\\n    \\\"other_species\\\": other_species,\\n    \\\"arts\\\": arts,\\n    \\\"sports\\\": sports,\\n}\";\n",
       "                var nbb_cells = Jupyter.notebook.get_cells();\n",
       "                for (var i = 0; i < nbb_cells.length; ++i) {\n",
       "                    if (nbb_cells[i].input_prompt_number == nbb_cell_id) {\n",
       "                        if (nbb_cells[i].get_text() == nbb_unformatted_code) {\n",
       "                             nbb_cells[i].set_text(nbb_formatted_code);\n",
       "                        }\n",
       "                        break;\n",
       "                    }\n",
       "                }\n",
       "            }, 500);\n",
       "            "
      ],
      "text/plain": [
       "<IPython.core.display.Javascript object>"
      ]
     },
     "metadata": {},
     "output_type": "display_data"
    }
   ],
   "source": [
    "# Combining separate lists into one dictionary\n",
    "known_for_dict = {\n",
    "    \"social\": social,\n",
    "    \"spiritual\": spiritual,\n",
    "    \"academia_humanities\": academia_humanities,\n",
    "    \"business_farming\": business_farming,\n",
    "    \"sciences\": sciences,\n",
    "    \"politics_govt_law\": politics_govt_law,\n",
    "    \"law_enf_military_operator\": law_enf_military_operator,\n",
    "    \"crime\": crime,\n",
    "    \"event_record_other\": event_record_other,\n",
    "    \"other_species\": other_species,\n",
    "    \"arts\": arts,\n",
    "    \"sports\": sports,\n",
    "}"
   ]
  },
  {
   "cell_type": "markdown",
   "id": "2f97d117",
   "metadata": {},
   "source": [
    "#### Extracting `known_for` Categories and `cause_of_death` Values from `info_3_1`"
   ]
  },
  {
   "cell_type": "code",
   "execution_count": 23,
   "id": "b9670890",
   "metadata": {},
   "outputs": [
    {
     "name": "stdout",
     "output_type": "stream",
     "text": [
      "There are 25129 values in cause_of_death column.\n",
      "\n",
      "CPU times: total: 9.03 s\n",
      "Wall time: 9.04 s\n"
     ]
    },
    {
     "data": {
      "application/javascript": [
       "\n",
       "            setTimeout(function() {\n",
       "                var nbb_cell_id = 23;\n",
       "                var nbb_unformatted_code = \"%%time\\n\\n# Column to check\\ncolumn = 'info_3_1'\\n\\n# Start dataframe\\ndataframe = df[df[column].notna()]\\n\\n# For loop to find cause in column and extract it to cause_of_death\\nfor cause in cause_of_death:\\n    for index in dataframe.index:\\n        item = df.loc[index, column]\\n        if item:\\n            if cause in item:\\n                if df.loc[index, 'cause_of_death']:\\n                    df.loc[index, 'cause_of_death'] = df.loc[index, 'cause_of_death'] + '/' + cause\\n                    df.loc[index, column] = item.replace(cause, '').strip()\\n                else:\\n                    df.loc[index, 'cause_of_death'] = cause\\n                    df.loc[index, column] = item.replace(cause, '').strip()\\n                \\n                \\n# For loop to find role in column and extract it as category\\nfor category, category_lst in known_for_dict.items():\\n    for role in category_lst:\\n        for index in dataframe.index:\\n                item = df.loc[index, column]\\n                if item:\\n                    if role in item:\\n                        df.loc[index, category] = 1\\n                        df.loc[index, column] = item.replace(role, '').strip()\\n\\n# Calculating num_categories\\ndf[\\\"num_categories\\\"] = df[known_for_dict.keys()].sum(axis=1)\\n\\n# Checking number of cause_of_death values\\nprint(f'There are {df[\\\"cause_of_death\\\"].notna().sum()} values in cause_of_death column.\\\\n')\";\n",
       "                var nbb_formatted_code = \"%%time\\n\\n# Column to check\\ncolumn = 'info_3_1'\\n\\n# Start dataframe\\ndataframe = df[df[column].notna()]\\n\\n# For loop to find cause in column and extract it to cause_of_death\\nfor cause in cause_of_death:\\n    for index in dataframe.index:\\n        item = df.loc[index, column]\\n        if item:\\n            if cause in item:\\n                if df.loc[index, 'cause_of_death']:\\n                    df.loc[index, 'cause_of_death'] = df.loc[index, 'cause_of_death'] + '/' + cause\\n                    df.loc[index, column] = item.replace(cause, '').strip()\\n                else:\\n                    df.loc[index, 'cause_of_death'] = cause\\n                    df.loc[index, column] = item.replace(cause, '').strip()\\n                \\n                \\n# For loop to find role in column and extract it as category\\nfor category, category_lst in known_for_dict.items():\\n    for role in category_lst:\\n        for index in dataframe.index:\\n                item = df.loc[index, column]\\n                if item:\\n                    if role in item:\\n                        df.loc[index, category] = 1\\n                        df.loc[index, column] = item.replace(role, '').strip()\\n\\n# Calculating num_categories\\ndf[\\\"num_categories\\\"] = df[known_for_dict.keys()].sum(axis=1)\\n\\n# Checking number of cause_of_death values\\nprint(f'There are {df[\\\"cause_of_death\\\"].notna().sum()} values in cause_of_death column.\\\\n')\";\n",
       "                var nbb_cells = Jupyter.notebook.get_cells();\n",
       "                for (var i = 0; i < nbb_cells.length; ++i) {\n",
       "                    if (nbb_cells[i].input_prompt_number == nbb_cell_id) {\n",
       "                        if (nbb_cells[i].get_text() == nbb_unformatted_code) {\n",
       "                             nbb_cells[i].set_text(nbb_formatted_code);\n",
       "                        }\n",
       "                        break;\n",
       "                    }\n",
       "                }\n",
       "            }, 500);\n",
       "            "
      ],
      "text/plain": [
       "<IPython.core.display.Javascript object>"
      ]
     },
     "metadata": {},
     "output_type": "display_data"
    }
   ],
   "source": [
    "%%time\n",
    "\n",
    "# Column to check\n",
    "column = 'info_3_1'\n",
    "\n",
    "# Start dataframe\n",
    "dataframe = df[df[column].notna()]\n",
    "\n",
    "# For loop to find cause in column and extract it to cause_of_death\n",
    "for cause in cause_of_death:\n",
    "    for index in dataframe.index:\n",
    "        item = df.loc[index, column]\n",
    "        if item:\n",
    "            if cause in item:\n",
    "                if df.loc[index, 'cause_of_death']:\n",
    "                    df.loc[index, 'cause_of_death'] = df.loc[index, 'cause_of_death'] + '/' + cause\n",
    "                    df.loc[index, column] = item.replace(cause, '').strip()\n",
    "                else:\n",
    "                    df.loc[index, 'cause_of_death'] = cause\n",
    "                    df.loc[index, column] = item.replace(cause, '').strip()\n",
    "                \n",
    "                \n",
    "# For loop to find role in column and extract it as category\n",
    "for category, category_lst in known_for_dict.items():\n",
    "    for role in category_lst:\n",
    "        for index in dataframe.index:\n",
    "                item = df.loc[index, column]\n",
    "                if item:\n",
    "                    if role in item:\n",
    "                        df.loc[index, category] = 1\n",
    "                        df.loc[index, column] = item.replace(role, '').strip()\n",
    "\n",
    "# Calculating num_categories\n",
    "df[\"num_categories\"] = df[known_for_dict.keys()].sum(axis=1)\n",
    "\n",
    "# Checking number of cause_of_death values\n",
    "print(f'There are {df[\"cause_of_death\"].notna().sum()} values in cause_of_death column.\\n')"
   ]
  },
  {
   "cell_type": "markdown",
   "id": "39e9029a",
   "metadata": {},
   "source": [
    "#### Checking Updated `num_categories` Value Counts"
   ]
  },
  {
   "cell_type": "code",
   "execution_count": 24,
   "id": "6a7f086d",
   "metadata": {},
   "outputs": [
    {
     "data": {
      "text/plain": [
       "1    84761\n",
       "2    12577\n",
       "3      688\n",
       "0        8\n",
       "4        6\n",
       "Name: num_categories, dtype: int64"
      ]
     },
     "execution_count": 24,
     "metadata": {},
     "output_type": "execute_result"
    },
    {
     "data": {
      "application/javascript": [
       "\n",
       "            setTimeout(function() {\n",
       "                var nbb_cell_id = 24;\n",
       "                var nbb_unformatted_code = \"# Checking Updated num_categories Value Counts\\ndf[\\\"num_categories\\\"].value_counts()\";\n",
       "                var nbb_formatted_code = \"# Checking Updated num_categories Value Counts\\ndf[\\\"num_categories\\\"].value_counts()\";\n",
       "                var nbb_cells = Jupyter.notebook.get_cells();\n",
       "                for (var i = 0; i < nbb_cells.length; ++i) {\n",
       "                    if (nbb_cells[i].input_prompt_number == nbb_cell_id) {\n",
       "                        if (nbb_cells[i].get_text() == nbb_unformatted_code) {\n",
       "                             nbb_cells[i].set_text(nbb_formatted_code);\n",
       "                        }\n",
       "                        break;\n",
       "                    }\n",
       "                }\n",
       "            }, 500);\n",
       "            "
      ],
      "text/plain": [
       "<IPython.core.display.Javascript object>"
      ]
     },
     "metadata": {},
     "output_type": "display_data"
    }
   ],
   "source": [
    "# Checking Updated num_categories Value Counts\n",
    "df[\"num_categories\"].value_counts()"
   ]
  },
  {
   "cell_type": "markdown",
   "id": "0a85b59a",
   "metadata": {},
   "source": [
    "#### Observations:\n",
    "- We will proceed to rebuild `known_for_dict` and `cause_of_death` for the next iteration."
   ]
  },
  {
   "cell_type": "markdown",
   "id": "80b97ecc",
   "metadata": {},
   "source": [
    "#### Finding `known_for` Roles and `cause_of_death` in `info_3_1`"
   ]
  },
  {
   "cell_type": "code",
   "execution_count": 25,
   "id": "1a8f0e95",
   "metadata": {},
   "outputs": [
    {
     "data": {
      "application/javascript": [
       "\n",
       "            setTimeout(function() {\n",
       "                var nbb_cell_id = 25;\n",
       "                var nbb_unformatted_code = \"# # Obtaining values for column and their counts\\n# roles_cause_list = df[\\\"info_3_1\\\"].value_counts(ascending=True).index.tolist()\";\n",
       "                var nbb_formatted_code = \"# # Obtaining values for column and their counts\\n# roles_cause_list = df[\\\"info_3_1\\\"].value_counts(ascending=True).index.tolist()\";\n",
       "                var nbb_cells = Jupyter.notebook.get_cells();\n",
       "                for (var i = 0; i < nbb_cells.length; ++i) {\n",
       "                    if (nbb_cells[i].input_prompt_number == nbb_cell_id) {\n",
       "                        if (nbb_cells[i].get_text() == nbb_unformatted_code) {\n",
       "                             nbb_cells[i].set_text(nbb_formatted_code);\n",
       "                        }\n",
       "                        break;\n",
       "                    }\n",
       "                }\n",
       "            }, 500);\n",
       "            "
      ],
      "text/plain": [
       "<IPython.core.display.Javascript object>"
      ]
     },
     "metadata": {},
     "output_type": "display_data"
    }
   ],
   "source": [
    "# # Obtaining values for column and their counts\n",
    "# roles_cause_list = df[\"info_3_1\"].value_counts(ascending=True).index.tolist()"
   ]
  },
  {
   "cell_type": "code",
   "execution_count": 26,
   "id": "c6f0ba5d",
   "metadata": {},
   "outputs": [
    {
     "data": {
      "application/javascript": [
       "\n",
       "            setTimeout(function() {\n",
       "                var nbb_cell_id = 26;\n",
       "                var nbb_unformatted_code = \"# # Code to check each value\\n# roles_cause_list.pop()\";\n",
       "                var nbb_formatted_code = \"# # Code to check each value\\n# roles_cause_list.pop()\";\n",
       "                var nbb_cells = Jupyter.notebook.get_cells();\n",
       "                for (var i = 0; i < nbb_cells.length; ++i) {\n",
       "                    if (nbb_cells[i].input_prompt_number == nbb_cell_id) {\n",
       "                        if (nbb_cells[i].get_text() == nbb_unformatted_code) {\n",
       "                             nbb_cells[i].set_text(nbb_formatted_code);\n",
       "                        }\n",
       "                        break;\n",
       "                    }\n",
       "                }\n",
       "            }, 500);\n",
       "            "
      ],
      "text/plain": [
       "<IPython.core.display.Javascript object>"
      ]
     },
     "metadata": {},
     "output_type": "display_data"
    }
   ],
   "source": [
    "# # Code to check each value\n",
    "# roles_cause_list.pop()"
   ]
  },
  {
   "cell_type": "code",
   "execution_count": 27,
   "id": "0be2ce21",
   "metadata": {},
   "outputs": [
    {
     "data": {
      "application/javascript": [
       "\n",
       "            setTimeout(function() {\n",
       "                var nbb_cell_id = 27;\n",
       "                var nbb_unformatted_code = \"# # Create specific_roles_cause_list for above popped value\\n# specific_roles_cause_list = (\\n#     df.loc[\\n#         [\\n#             index\\n#             for index in df[df[\\\"info_3_1\\\"].notna()].index\\n#             if \\\"osis\\\" in df.loc[index, \\\"info_3_1\\\"]\\n#             #             and df.loc[index, \\\"politics_govt_law\\\"] == 0\\n#             #             and df.loc[index, \\\"arts\\\"] == 1\\n#             #             and df.loc[index, \\\"sciences\\\"] == 0\\n#             #             and df.loc[index, \\\"spiritual\\\"] == 0\\n#             #             and df.loc[index, \\\"law_enf_military_operator\\\"] == 0\\n#             #             and df.loc[index, \\\"sports\\\"] == 1\\n#             #             and df.loc[index, \\\"event_record_other\\\"] == 0\\n#             #             and df.loc[index, \\\"crime\\\"] == 0\\n#             #             and df.loc[index, \\\"academia_humanities\\\"] == 0\\n#             #             and df.loc[index, \\\"business_farming\\\"] == 0\\n#             #                         and df.loc[index, \\\"other_species\\\"] == 0\\n#             #             and df.loc[index, \\\"num_categories\\\"] == 0\\n#         ],\\n#         \\\"info_3_1\\\",\\n#     ]\\n#     .value_counts()\\n#     .index.tolist()\\n# )\";\n",
       "                var nbb_formatted_code = \"# # Create specific_roles_cause_list for above popped value\\n# specific_roles_cause_list = (\\n#     df.loc[\\n#         [\\n#             index\\n#             for index in df[df[\\\"info_3_1\\\"].notna()].index\\n#             if \\\"osis\\\" in df.loc[index, \\\"info_3_1\\\"]\\n#             #             and df.loc[index, \\\"politics_govt_law\\\"] == 0\\n#             #             and df.loc[index, \\\"arts\\\"] == 1\\n#             #             and df.loc[index, \\\"sciences\\\"] == 0\\n#             #             and df.loc[index, \\\"spiritual\\\"] == 0\\n#             #             and df.loc[index, \\\"law_enf_military_operator\\\"] == 0\\n#             #             and df.loc[index, \\\"sports\\\"] == 1\\n#             #             and df.loc[index, \\\"event_record_other\\\"] == 0\\n#             #             and df.loc[index, \\\"crime\\\"] == 0\\n#             #             and df.loc[index, \\\"academia_humanities\\\"] == 0\\n#             #             and df.loc[index, \\\"business_farming\\\"] == 0\\n#             #                         and df.loc[index, \\\"other_species\\\"] == 0\\n#             #             and df.loc[index, \\\"num_categories\\\"] == 0\\n#         ],\\n#         \\\"info_3_1\\\",\\n#     ]\\n#     .value_counts()\\n#     .index.tolist()\\n# )\";\n",
       "                var nbb_cells = Jupyter.notebook.get_cells();\n",
       "                for (var i = 0; i < nbb_cells.length; ++i) {\n",
       "                    if (nbb_cells[i].input_prompt_number == nbb_cell_id) {\n",
       "                        if (nbb_cells[i].get_text() == nbb_unformatted_code) {\n",
       "                             nbb_cells[i].set_text(nbb_formatted_code);\n",
       "                        }\n",
       "                        break;\n",
       "                    }\n",
       "                }\n",
       "            }, 500);\n",
       "            "
      ],
      "text/plain": [
       "<IPython.core.display.Javascript object>"
      ]
     },
     "metadata": {},
     "output_type": "display_data"
    }
   ],
   "source": [
    "# # Create specific_roles_cause_list for above popped value\n",
    "# specific_roles_cause_list = (\n",
    "#     df.loc[\n",
    "#         [\n",
    "#             index\n",
    "#             for index in df[df[\"info_3_1\"].notna()].index\n",
    "#             if \"osis\" in df.loc[index, \"info_3_1\"]\n",
    "#             #             and df.loc[index, \"politics_govt_law\"] == 0\n",
    "#             #             and df.loc[index, \"arts\"] == 1\n",
    "#             #             and df.loc[index, \"sciences\"] == 0\n",
    "#             #             and df.loc[index, \"spiritual\"] == 0\n",
    "#             #             and df.loc[index, \"law_enf_military_operator\"] == 0\n",
    "#             #             and df.loc[index, \"sports\"] == 1\n",
    "#             #             and df.loc[index, \"event_record_other\"] == 0\n",
    "#             #             and df.loc[index, \"crime\"] == 0\n",
    "#             #             and df.loc[index, \"academia_humanities\"] == 0\n",
    "#             #             and df.loc[index, \"business_farming\"] == 0\n",
    "#             #                         and df.loc[index, \"other_species\"] == 0\n",
    "#             #             and df.loc[index, \"num_categories\"] == 0\n",
    "#         ],\n",
    "#         \"info_3_1\",\n",
    "#     ]\n",
    "#     .value_counts()\n",
    "#     .index.tolist()\n",
    "# )"
   ]
  },
  {
   "cell_type": "code",
   "execution_count": 28,
   "id": "1660057d",
   "metadata": {},
   "outputs": [
    {
     "data": {
      "application/javascript": [
       "\n",
       "            setTimeout(function() {\n",
       "                var nbb_cell_id = 28;\n",
       "                var nbb_unformatted_code = \"# # Viewing list sorted by descending length to copy to dictionary below and screen values\\n# sorted(specific_roles_cause_list, key=lambda x: len(x), reverse=True)\";\n",
       "                var nbb_formatted_code = \"# # Viewing list sorted by descending length to copy to dictionary below and screen values\\n# sorted(specific_roles_cause_list, key=lambda x: len(x), reverse=True)\";\n",
       "                var nbb_cells = Jupyter.notebook.get_cells();\n",
       "                for (var i = 0; i < nbb_cells.length; ++i) {\n",
       "                    if (nbb_cells[i].input_prompt_number == nbb_cell_id) {\n",
       "                        if (nbb_cells[i].get_text() == nbb_unformatted_code) {\n",
       "                             nbb_cells[i].set_text(nbb_formatted_code);\n",
       "                        }\n",
       "                        break;\n",
       "                    }\n",
       "                }\n",
       "            }, 500);\n",
       "            "
      ],
      "text/plain": [
       "<IPython.core.display.Javascript object>"
      ]
     },
     "metadata": {},
     "output_type": "display_data"
    }
   ],
   "source": [
    "# # Viewing list sorted by descending length to copy to dictionary below and screen values\n",
    "# sorted(specific_roles_cause_list, key=lambda x: len(x), reverse=True)"
   ]
  },
  {
   "cell_type": "code",
   "execution_count": 29,
   "id": "90fd506c",
   "metadata": {},
   "outputs": [
    {
     "data": {
      "application/javascript": [
       "\n",
       "            setTimeout(function() {\n",
       "                var nbb_cell_id = 29;\n",
       "                var nbb_unformatted_code = \"# # Example code to quick-check a specific entry\\n# df[df[\\\"info_3_1\\\"] == \\\"all\\\"]\";\n",
       "                var nbb_formatted_code = \"# # Example code to quick-check a specific entry\\n# df[df[\\\"info_3_1\\\"] == \\\"all\\\"]\";\n",
       "                var nbb_cells = Jupyter.notebook.get_cells();\n",
       "                for (var i = 0; i < nbb_cells.length; ++i) {\n",
       "                    if (nbb_cells[i].input_prompt_number == nbb_cell_id) {\n",
       "                        if (nbb_cells[i].get_text() == nbb_unformatted_code) {\n",
       "                             nbb_cells[i].set_text(nbb_formatted_code);\n",
       "                        }\n",
       "                        break;\n",
       "                    }\n",
       "                }\n",
       "            }, 500);\n",
       "            "
      ],
      "text/plain": [
       "<IPython.core.display.Javascript object>"
      ]
     },
     "metadata": {},
     "output_type": "display_data"
    }
   ],
   "source": [
    "# # Example code to quick-check a specific entry\n",
    "# df[df[\"info_3_1\"] == \"all\"]"
   ]
  },
  {
   "cell_type": "markdown",
   "id": "ac560bfd",
   "metadata": {},
   "source": [
    "#### Creating Lists for Each `known_for` Category and for `cause_of_death`"
   ]
  },
  {
   "cell_type": "code",
   "execution_count": 30,
   "id": "3b94d03c",
   "metadata": {},
   "outputs": [
    {
     "data": {
      "application/javascript": [
       "\n",
       "            setTimeout(function() {\n",
       "                var nbb_cell_id = 30;\n",
       "                var nbb_unformatted_code = \"# Creating lists for each category and sorting by decreasing length and removing duplicates\\n\\npolitics_govt_law = [\\n    \\\"social commentator\\\",\\n    \\\"judge\\\",\\n    \\\"barrister\\\",\\n    \\\"Chiswick\\\",\\n    \\\"Industry\\\",\\n    \\\"railroad worker\\\",\\n    \\\"Kennedy Administration official\\\",\\n    \\\"elected official in Toledo\\\",\\n    \\\"government official\\\",\\n    \\\"public official\\\",\\n    \\\"CCPPC official\\\",\\n    \\\"behavioral economist\\\",\\n    \\\"political economist\\\",\\n    \\\"economist\\\",\\n    \\\"political scientist\\\",\\n    \\\"Natural Resources\\\",\\n    \\\"anti communist zealot who helped set the stage for McCarthyism\\\",\\n    \\\"anti communist\\\",\\n    \\\"communist\\\",\\n    \\\"three time president of the senate\\\",\\n    \\\"senator\\\",\\n    \\\"Tirunelveli\\\",\\n    \\\"Social Security\\\",\\n    \\\"Nicobar Islands\\\",\\n    \\\"Caicos Islands\\\",\\n    \\\"the Islands\\\",\\n    \\\"conspiracy theorist\\\",\\n    \\\"social theorist\\\",\\n    \\\"Forestry\\\",\\n    \\\"th districts\\\",\\n    \\\"Cultural Affairs\\\",\\n    \\\"Kennedy Administration official\\\",\\n    \\\"Drug Administration reviewer\\\",\\n    \\\"Administration Commission\\\",\\n    \\\"Drug Administration\\\",\\n    \\\"political prisoner\\\",\\n    \\\"Tourism\\\",\\n    \\\"Associate Justice of the Supreme Court of the\\\",\\n    \\\"Justice of the Michigan Supreme Court\\\",\\n    \\\"Justice\\\",\\n    \\\"Energy\\\",\\n]\\npolitics_govt_law = sorted(\\n    list(set(politics_govt_law)), key=lambda x: len(x), reverse=True\\n)\\n\\narts = [\\n    \\\"artist\\\",\\n    \\\"printmaker\\\",\\n    \\\"dog trainer\\\",\\n    \\\"public speaker\\\",\\n    \\\"memoirist\\\",\\n    \\\"a promoter of culture\\\",\\n    \\\"hip hop promoter\\\",\\n    \\\"publicist\\\",\\n    \\\"humorist\\\",\\n    \\\"cabaret impresario\\\",\\n    \\\"impresario\\\",\\n    \\\"architect\\\",\\n    \\\"vocalist for Robin Trower\\\",\\n    \\\"vocalist\\\",\\n    \\\"Emmy winning documentarian\\\",\\n    \\\"documentarian\\\",\\n    \\\"talent agent\\\",\\n    \\\"theater production designer\\\",\\n    \\\"pinball machine designer\\\",\\n    \\\"album cover designer\\\",\\n    \\\"typeface designer\\\",\\n    \\\"interior designer\\\",\\n    \\\"fashion designer\\\",\\n    \\\"costume designer\\\",\\n    \\\"garden designer\\\",\\n    \\\"stage designer\\\",\\n    \\\"font designer\\\",\\n    \\\"set designer\\\",\\n    \\\"Roll Hall of Fame\\\",\\n    \\\"foreign correspondent\\\",\\n    \\\"correspondent\\\",\\n    \\\"stuntman\\\",\\n    \\\"recorded with Linda Ronstadt\\\",\\n    \\\"multitrack tape recording\\\",\\n    \\\"recording studio owner\\\",\\n    \\\"record label founder\\\",\\n    \\\"record label owner\\\",\\n    \\\"matchbox\\\",\\n    \\\"chairman of San Diego Comic Con International\\\",\\n    \\\"reality TV personality\\\",\\n    \\\"Internet personality\\\",\\n    \\\"theatre personality\\\",\\n    \\\"TV personality\\\",\\n    \\\"flag\\\",\\n    \\\"harmonica player\\\",\\n    \\\"bukkehorn player\\\",\\n    \\\"banjo player\\\",\\n    \\\"organ player\\\",\\n    \\\"bass player\\\",\\n    \\\"concertmaster\\\",\\n    \\\"newsreader\\\",\\n    \\\"magazine cartoonist\\\",\\n    \\\"cartoonist\\\",\\n]\\narts = sorted(list(set(arts)), key=lambda x: len(x), reverse=True)\\n\\nsports = [\\n    \\\"coach\\\",\\n    \\\"executive\\\",\\n    \\\"sports official\\\",\\n    \\\"professional wrestler\\\",\\n    \\\"endurance runner\\\",\\n    \\\"runner\\\",\\n    \\\"member of the Pro Football Hall of Fame\\\",\\n    \\\"a member of the Baseball Hall of Fame\\\",\\n    \\\"Sports Hall of Fame\\\",\\n    \\\"FIBA Hall of Fame\\\",\\n    \\\"holder of nine world records\\\",\\n    \\\"world record holder for\\\",\\n    \\\"world record holder\\\",\\n    \\\"world champion kickboxer\\\",\\n    \\\"boxing referee\\\",\\n    \\\"boxer\\\",\\n    \\\"former Clemson football player\\\",\\n    \\\"table tennis player\\\",\\n    \\\"rugby union player\\\",\\n    \\\"ice hockey player\\\",\\n    \\\"baseball player\\\",\\n    \\\"handball player\\\",\\n    \\\"football player\\\",\\n    \\\"cricket player\\\",\\n    \\\"bridge player\\\",\\n    \\\"polo player\\\",\\n]\\nsports = sorted(list(set(sports)), key=lambda x: len(x), reverse=True)\\n\\nsciences = [\\n    \\\"physician\\\",\\n    \\\"psychiatrist\\\",\\n    \\\"computer scientist\\\",\\n    \\\"computer engineer\\\",\\n    \\\"behavioral physiologist\\\",\\n    \\\"micropaleontologist\\\",\\n    \\\"plant pathologist\\\",\\n    \\\"parapsychologist\\\",\\n    \\\"pharmacologist\\\",\\n    \\\"epileptologist\\\",\\n    \\\"copepodologist\\\",\\n    \\\"epistemologist\\\",\\n    \\\"meteorologist\\\",\\n    \\\"criminologist\\\",\\n    \\\"methodologist\\\",\\n    \\\"ornithologist\\\",\\n    \\\"haematologist\\\",\\n    \\\"entomologist\\\",\\n    \\\"neurologist\\\",\\n    \\\"cosmologist\\\",\\n    \\\"pathologist\\\",\\n    \\\"serologist\\\",\\n    \\\"sexologist\\\",\\n    \\\"ufologist\\\",\\n    \\\"ecologist\\\",\\n    \\\"clinical psychologist\\\",\\n    \\\"petrologist\\\",\\n    \\\"neuroscientist\\\",\\n    \\\"neurologist\\\",\\n    \\\"designer of GPS\\\",\\n    \\\"Higgs boson theorist\\\",\\n]\\nsciences = sorted(list(set(sciences)), key=lambda x: len(x), reverse=True)\\n\\nbusiness_farming = [\\n    \\\"inventor of the fast food system\\\",\\n    \\\"investment banker\\\",\\n    \\\"banker\\\",\\n    'Apple as the \\\"computer for the rest of us\\\"',\\n    \\\"restaurateur\\\",\\n    \\\"farmer\\\",\\n    \\\"multi millionaire industrialist\\\",\\n    \\\"industrialist\\\",\\n    \\\"Director of the Institute of Business Administration\\\",\\n]\\nbusiness_farming = sorted(\\n    list(set(business_farming)), key=lambda x: len(x), reverse=True\\n)\\n\\nacademia_humanities = [\\n    \\\"teacher\\\",\\n    \\\"inventor of Cued Speech\\\",\\n    \\\"Sciences of\\\",\\n    \\\"anthropologist\\\",\\n    \\\"anthropologist\\\",\\n    \\\"archaeologist\\\",\\n    \\\"paremiologist\\\",\\n    \\\"japanologist\\\",\\n    \\\"philologist\\\",\\n    \\\"museologist\\\",\\n    \\\"indologist\\\",\\n    \\\"sinologist\\\",\\n    \\\"evolutionary theorist\\\",\\n    \\\"intellectual\\\",\\n    \\\"linguist\\\",\\n]\\nacademia_humanities = sorted(\\n    list(set(academia_humanities)), key=lambda x: len(x), reverse=True\\n)\\n\\nlaw_enf_military_operator = [\\n    \\\"cryptologist\\\",\\n    \\\"intelligence officer\\\",\\n    \\\"military officer\\\",\\n    \\\"police officer\\\",\\n    \\\"army officer\\\",\\n    \\\"Army officer\\\",\\n    \\\"veteran of World War II\\\",\\n    \\\"veteran of World War I\\\",\\n    \\\"World War II veteran\\\",\\n    \\\"World War I veteran\\\",\\n    \\\"oldest WWII veteran\\\",\\n    \\\"war veteran\\\",\\n    \\\"Atmospheric Administration Commissioned Officer Corps\\\",\\n    \\\"Colditz prisoner\\\",\\n    \\\"prisoner of war\\\",\\n]\\nlaw_enf_military_operator = sorted(\\n    list(set(law_enf_military_operator)), key=lambda x: len(x), reverse=True\\n)\\n\\nspiritual = [\\n    \\\"motivational speaker\\\",\\n    \\\"gospel\\\",\\n    \\\"Anglican priest\\\",\\n    \\\"Wiccan priest\\\",\\n    \\\"Jesuit priest\\\",\\n    \\\"priestess\\\",\\n    \\\"priest\\\",\\n    \\\"archbishop of the Anglican Church of Papua New\\\",\\n    \\\"the Cayman Islands\\\",\\n    \\\"Brecon\\\",\\n]\\nspiritual = sorted(list(set(spiritual)), key=lambda x: len(x), reverse=True)\\n\\nsocial = [\\n    \\\"humanitarian\\\",\\n    \\\"social worker\\\",\\n    \\\"project designer in the Boy Scouts of\\\",\\n]\\nsocial = sorted(list(set(social)), key=lambda x: len(x), reverse=True)\\n\\ncrime = [\\n    \\\"convicted fraudster\\\",\\n    \\\"convicted terrorist\\\",\\n    \\\"convicted criminal\\\",\\n    \\\"convicted perjurer\\\",\\n    \\\"convicted rapist\\\",\\n    \\\"extortionist\\\",\\n]\\ncrime = sorted(list(set(crime)), key=lambda x: len(x), reverse=True)\\n\\nevent_record_other = [\\n    \\\"documentary subject\\\",\\n]\\nevent_record_other = sorted(\\n    list(set(event_record_other)), key=lambda x: len(x), reverse=True\\n)\\n\\nother_species = []\\nother_species = sorted(list(set(other_species)), key=lambda x: len(x), reverse=True)\\n\\ncause_of_death = [\\n    \\\"hypertension\\\",\\n    \\\"acute myeloid leukemia\\\",\\n    \\\"leukemia\\\",\\n    \\\"stabbed\\\",\\n    \\\"run motorcycle accident\\\",\\n    \\\"run car accident\\\",\\n    \\\"run car crash\\\",\\n    \\\"run accident\\\",\\n    \\\"murdered by the Lukashenko regime\\\",\\n    \\\"murdered\\\",\\n    \\\"liver related problems\\\",\\n    \\\"respiratory problems\\\",\\n    \\\"COPD\\\",\\n    \\\"shot\\\",\\n    \\\"pancreatitis\\\",\\n    \\\"encephalitis\\\",\\n    \\\"hepatitis B\\\",\\n    \\\"hepatitis C\\\",\\n    \\\"peritonitis\\\",\\n    \\\"meningitis\\\",\\n    \\\"hepatitis\\\",\\n    \\\"sepsis\\\",\\n    \\\"lung ailments\\\",\\n    \\\"lung ailment\\\",\\n    \\\"lung transplant surgery\\\",\\n    \\\"lung infections\\\",\\n    \\\"lung condition\\\",\\n    \\\"urinary tract infection\\\",\\n    \\\"brain infection\\\",\\n    \\\"chest infection\\\",\\n    \\\"lung infections\\\",\\n    \\\"liver infection\\\",\\n    \\\"tuberculosis\\\",\\n    \\\"cirrhosis\\\",\\n]\\ncause_of_death = sorted(list(set(cause_of_death)), key=lambda x: len(x), reverse=True)\";\n",
       "                var nbb_formatted_code = \"# Creating lists for each category and sorting by decreasing length and removing duplicates\\n\\npolitics_govt_law = [\\n    \\\"social commentator\\\",\\n    \\\"judge\\\",\\n    \\\"barrister\\\",\\n    \\\"Chiswick\\\",\\n    \\\"Industry\\\",\\n    \\\"railroad worker\\\",\\n    \\\"Kennedy Administration official\\\",\\n    \\\"elected official in Toledo\\\",\\n    \\\"government official\\\",\\n    \\\"public official\\\",\\n    \\\"CCPPC official\\\",\\n    \\\"behavioral economist\\\",\\n    \\\"political economist\\\",\\n    \\\"economist\\\",\\n    \\\"political scientist\\\",\\n    \\\"Natural Resources\\\",\\n    \\\"anti communist zealot who helped set the stage for McCarthyism\\\",\\n    \\\"anti communist\\\",\\n    \\\"communist\\\",\\n    \\\"three time president of the senate\\\",\\n    \\\"senator\\\",\\n    \\\"Tirunelveli\\\",\\n    \\\"Social Security\\\",\\n    \\\"Nicobar Islands\\\",\\n    \\\"Caicos Islands\\\",\\n    \\\"the Islands\\\",\\n    \\\"conspiracy theorist\\\",\\n    \\\"social theorist\\\",\\n    \\\"Forestry\\\",\\n    \\\"th districts\\\",\\n    \\\"Cultural Affairs\\\",\\n    \\\"Kennedy Administration official\\\",\\n    \\\"Drug Administration reviewer\\\",\\n    \\\"Administration Commission\\\",\\n    \\\"Drug Administration\\\",\\n    \\\"political prisoner\\\",\\n    \\\"Tourism\\\",\\n    \\\"Associate Justice of the Supreme Court of the\\\",\\n    \\\"Justice of the Michigan Supreme Court\\\",\\n    \\\"Justice\\\",\\n    \\\"Energy\\\",\\n]\\npolitics_govt_law = sorted(\\n    list(set(politics_govt_law)), key=lambda x: len(x), reverse=True\\n)\\n\\narts = [\\n    \\\"artist\\\",\\n    \\\"printmaker\\\",\\n    \\\"dog trainer\\\",\\n    \\\"public speaker\\\",\\n    \\\"memoirist\\\",\\n    \\\"a promoter of culture\\\",\\n    \\\"hip hop promoter\\\",\\n    \\\"publicist\\\",\\n    \\\"humorist\\\",\\n    \\\"cabaret impresario\\\",\\n    \\\"impresario\\\",\\n    \\\"architect\\\",\\n    \\\"vocalist for Robin Trower\\\",\\n    \\\"vocalist\\\",\\n    \\\"Emmy winning documentarian\\\",\\n    \\\"documentarian\\\",\\n    \\\"talent agent\\\",\\n    \\\"theater production designer\\\",\\n    \\\"pinball machine designer\\\",\\n    \\\"album cover designer\\\",\\n    \\\"typeface designer\\\",\\n    \\\"interior designer\\\",\\n    \\\"fashion designer\\\",\\n    \\\"costume designer\\\",\\n    \\\"garden designer\\\",\\n    \\\"stage designer\\\",\\n    \\\"font designer\\\",\\n    \\\"set designer\\\",\\n    \\\"Roll Hall of Fame\\\",\\n    \\\"foreign correspondent\\\",\\n    \\\"correspondent\\\",\\n    \\\"stuntman\\\",\\n    \\\"recorded with Linda Ronstadt\\\",\\n    \\\"multitrack tape recording\\\",\\n    \\\"recording studio owner\\\",\\n    \\\"record label founder\\\",\\n    \\\"record label owner\\\",\\n    \\\"matchbox\\\",\\n    \\\"chairman of San Diego Comic Con International\\\",\\n    \\\"reality TV personality\\\",\\n    \\\"Internet personality\\\",\\n    \\\"theatre personality\\\",\\n    \\\"TV personality\\\",\\n    \\\"flag\\\",\\n    \\\"harmonica player\\\",\\n    \\\"bukkehorn player\\\",\\n    \\\"banjo player\\\",\\n    \\\"organ player\\\",\\n    \\\"bass player\\\",\\n    \\\"concertmaster\\\",\\n    \\\"newsreader\\\",\\n    \\\"magazine cartoonist\\\",\\n    \\\"cartoonist\\\",\\n]\\narts = sorted(list(set(arts)), key=lambda x: len(x), reverse=True)\\n\\nsports = [\\n    \\\"coach\\\",\\n    \\\"executive\\\",\\n    \\\"sports official\\\",\\n    \\\"professional wrestler\\\",\\n    \\\"endurance runner\\\",\\n    \\\"runner\\\",\\n    \\\"member of the Pro Football Hall of Fame\\\",\\n    \\\"a member of the Baseball Hall of Fame\\\",\\n    \\\"Sports Hall of Fame\\\",\\n    \\\"FIBA Hall of Fame\\\",\\n    \\\"holder of nine world records\\\",\\n    \\\"world record holder for\\\",\\n    \\\"world record holder\\\",\\n    \\\"world champion kickboxer\\\",\\n    \\\"boxing referee\\\",\\n    \\\"boxer\\\",\\n    \\\"former Clemson football player\\\",\\n    \\\"table tennis player\\\",\\n    \\\"rugby union player\\\",\\n    \\\"ice hockey player\\\",\\n    \\\"baseball player\\\",\\n    \\\"handball player\\\",\\n    \\\"football player\\\",\\n    \\\"cricket player\\\",\\n    \\\"bridge player\\\",\\n    \\\"polo player\\\",\\n]\\nsports = sorted(list(set(sports)), key=lambda x: len(x), reverse=True)\\n\\nsciences = [\\n    \\\"physician\\\",\\n    \\\"psychiatrist\\\",\\n    \\\"computer scientist\\\",\\n    \\\"computer engineer\\\",\\n    \\\"behavioral physiologist\\\",\\n    \\\"micropaleontologist\\\",\\n    \\\"plant pathologist\\\",\\n    \\\"parapsychologist\\\",\\n    \\\"pharmacologist\\\",\\n    \\\"epileptologist\\\",\\n    \\\"copepodologist\\\",\\n    \\\"epistemologist\\\",\\n    \\\"meteorologist\\\",\\n    \\\"criminologist\\\",\\n    \\\"methodologist\\\",\\n    \\\"ornithologist\\\",\\n    \\\"haematologist\\\",\\n    \\\"entomologist\\\",\\n    \\\"neurologist\\\",\\n    \\\"cosmologist\\\",\\n    \\\"pathologist\\\",\\n    \\\"serologist\\\",\\n    \\\"sexologist\\\",\\n    \\\"ufologist\\\",\\n    \\\"ecologist\\\",\\n    \\\"clinical psychologist\\\",\\n    \\\"petrologist\\\",\\n    \\\"neuroscientist\\\",\\n    \\\"neurologist\\\",\\n    \\\"designer of GPS\\\",\\n    \\\"Higgs boson theorist\\\",\\n]\\nsciences = sorted(list(set(sciences)), key=lambda x: len(x), reverse=True)\\n\\nbusiness_farming = [\\n    \\\"inventor of the fast food system\\\",\\n    \\\"investment banker\\\",\\n    \\\"banker\\\",\\n    'Apple as the \\\"computer for the rest of us\\\"',\\n    \\\"restaurateur\\\",\\n    \\\"farmer\\\",\\n    \\\"multi millionaire industrialist\\\",\\n    \\\"industrialist\\\",\\n    \\\"Director of the Institute of Business Administration\\\",\\n]\\nbusiness_farming = sorted(\\n    list(set(business_farming)), key=lambda x: len(x), reverse=True\\n)\\n\\nacademia_humanities = [\\n    \\\"teacher\\\",\\n    \\\"inventor of Cued Speech\\\",\\n    \\\"Sciences of\\\",\\n    \\\"anthropologist\\\",\\n    \\\"anthropologist\\\",\\n    \\\"archaeologist\\\",\\n    \\\"paremiologist\\\",\\n    \\\"japanologist\\\",\\n    \\\"philologist\\\",\\n    \\\"museologist\\\",\\n    \\\"indologist\\\",\\n    \\\"sinologist\\\",\\n    \\\"evolutionary theorist\\\",\\n    \\\"intellectual\\\",\\n    \\\"linguist\\\",\\n]\\nacademia_humanities = sorted(\\n    list(set(academia_humanities)), key=lambda x: len(x), reverse=True\\n)\\n\\nlaw_enf_military_operator = [\\n    \\\"cryptologist\\\",\\n    \\\"intelligence officer\\\",\\n    \\\"military officer\\\",\\n    \\\"police officer\\\",\\n    \\\"army officer\\\",\\n    \\\"Army officer\\\",\\n    \\\"veteran of World War II\\\",\\n    \\\"veteran of World War I\\\",\\n    \\\"World War II veteran\\\",\\n    \\\"World War I veteran\\\",\\n    \\\"oldest WWII veteran\\\",\\n    \\\"war veteran\\\",\\n    \\\"Atmospheric Administration Commissioned Officer Corps\\\",\\n    \\\"Colditz prisoner\\\",\\n    \\\"prisoner of war\\\",\\n]\\nlaw_enf_military_operator = sorted(\\n    list(set(law_enf_military_operator)), key=lambda x: len(x), reverse=True\\n)\\n\\nspiritual = [\\n    \\\"motivational speaker\\\",\\n    \\\"gospel\\\",\\n    \\\"Anglican priest\\\",\\n    \\\"Wiccan priest\\\",\\n    \\\"Jesuit priest\\\",\\n    \\\"priestess\\\",\\n    \\\"priest\\\",\\n    \\\"archbishop of the Anglican Church of Papua New\\\",\\n    \\\"the Cayman Islands\\\",\\n    \\\"Brecon\\\",\\n]\\nspiritual = sorted(list(set(spiritual)), key=lambda x: len(x), reverse=True)\\n\\nsocial = [\\n    \\\"humanitarian\\\",\\n    \\\"social worker\\\",\\n    \\\"project designer in the Boy Scouts of\\\",\\n]\\nsocial = sorted(list(set(social)), key=lambda x: len(x), reverse=True)\\n\\ncrime = [\\n    \\\"convicted fraudster\\\",\\n    \\\"convicted terrorist\\\",\\n    \\\"convicted criminal\\\",\\n    \\\"convicted perjurer\\\",\\n    \\\"convicted rapist\\\",\\n    \\\"extortionist\\\",\\n]\\ncrime = sorted(list(set(crime)), key=lambda x: len(x), reverse=True)\\n\\nevent_record_other = [\\n    \\\"documentary subject\\\",\\n]\\nevent_record_other = sorted(\\n    list(set(event_record_other)), key=lambda x: len(x), reverse=True\\n)\\n\\nother_species = []\\nother_species = sorted(list(set(other_species)), key=lambda x: len(x), reverse=True)\\n\\ncause_of_death = [\\n    \\\"hypertension\\\",\\n    \\\"acute myeloid leukemia\\\",\\n    \\\"leukemia\\\",\\n    \\\"stabbed\\\",\\n    \\\"run motorcycle accident\\\",\\n    \\\"run car accident\\\",\\n    \\\"run car crash\\\",\\n    \\\"run accident\\\",\\n    \\\"murdered by the Lukashenko regime\\\",\\n    \\\"murdered\\\",\\n    \\\"liver related problems\\\",\\n    \\\"respiratory problems\\\",\\n    \\\"COPD\\\",\\n    \\\"shot\\\",\\n    \\\"pancreatitis\\\",\\n    \\\"encephalitis\\\",\\n    \\\"hepatitis B\\\",\\n    \\\"hepatitis C\\\",\\n    \\\"peritonitis\\\",\\n    \\\"meningitis\\\",\\n    \\\"hepatitis\\\",\\n    \\\"sepsis\\\",\\n    \\\"lung ailments\\\",\\n    \\\"lung ailment\\\",\\n    \\\"lung transplant surgery\\\",\\n    \\\"lung infections\\\",\\n    \\\"lung condition\\\",\\n    \\\"urinary tract infection\\\",\\n    \\\"brain infection\\\",\\n    \\\"chest infection\\\",\\n    \\\"lung infections\\\",\\n    \\\"liver infection\\\",\\n    \\\"tuberculosis\\\",\\n    \\\"cirrhosis\\\",\\n]\\ncause_of_death = sorted(list(set(cause_of_death)), key=lambda x: len(x), reverse=True)\";\n",
       "                var nbb_cells = Jupyter.notebook.get_cells();\n",
       "                for (var i = 0; i < nbb_cells.length; ++i) {\n",
       "                    if (nbb_cells[i].input_prompt_number == nbb_cell_id) {\n",
       "                        if (nbb_cells[i].get_text() == nbb_unformatted_code) {\n",
       "                             nbb_cells[i].set_text(nbb_formatted_code);\n",
       "                        }\n",
       "                        break;\n",
       "                    }\n",
       "                }\n",
       "            }, 500);\n",
       "            "
      ],
      "text/plain": [
       "<IPython.core.display.Javascript object>"
      ]
     },
     "metadata": {},
     "output_type": "display_data"
    }
   ],
   "source": [
    "# Creating lists for each category and sorting by decreasing length and removing duplicates\n",
    "\n",
    "politics_govt_law = [\n",
    "    \"social commentator\",\n",
    "    \"judge\",\n",
    "    \"barrister\",\n",
    "    \"Chiswick\",\n",
    "    \"Industry\",\n",
    "    \"railroad worker\",\n",
    "    \"Kennedy Administration official\",\n",
    "    \"elected official in Toledo\",\n",
    "    \"government official\",\n",
    "    \"public official\",\n",
    "    \"CCPPC official\",\n",
    "    \"behavioral economist\",\n",
    "    \"political economist\",\n",
    "    \"economist\",\n",
    "    \"political scientist\",\n",
    "    \"Natural Resources\",\n",
    "    \"anti communist zealot who helped set the stage for McCarthyism\",\n",
    "    \"anti communist\",\n",
    "    \"communist\",\n",
    "    \"three time president of the senate\",\n",
    "    \"senator\",\n",
    "    \"Tirunelveli\",\n",
    "    \"Social Security\",\n",
    "    \"Nicobar Islands\",\n",
    "    \"Caicos Islands\",\n",
    "    \"the Islands\",\n",
    "    \"conspiracy theorist\",\n",
    "    \"social theorist\",\n",
    "    \"Forestry\",\n",
    "    \"th districts\",\n",
    "    \"Cultural Affairs\",\n",
    "    \"Kennedy Administration official\",\n",
    "    \"Drug Administration reviewer\",\n",
    "    \"Administration Commission\",\n",
    "    \"Drug Administration\",\n",
    "    \"political prisoner\",\n",
    "    \"Tourism\",\n",
    "    \"Associate Justice of the Supreme Court of the\",\n",
    "    \"Justice of the Michigan Supreme Court\",\n",
    "    \"Justice\",\n",
    "    \"Energy\",\n",
    "]\n",
    "politics_govt_law = sorted(\n",
    "    list(set(politics_govt_law)), key=lambda x: len(x), reverse=True\n",
    ")\n",
    "\n",
    "arts = [\n",
    "    \"artist\",\n",
    "    \"printmaker\",\n",
    "    \"dog trainer\",\n",
    "    \"public speaker\",\n",
    "    \"memoirist\",\n",
    "    \"a promoter of culture\",\n",
    "    \"hip hop promoter\",\n",
    "    \"publicist\",\n",
    "    \"humorist\",\n",
    "    \"cabaret impresario\",\n",
    "    \"impresario\",\n",
    "    \"architect\",\n",
    "    \"vocalist for Robin Trower\",\n",
    "    \"vocalist\",\n",
    "    \"Emmy winning documentarian\",\n",
    "    \"documentarian\",\n",
    "    \"talent agent\",\n",
    "    \"theater production designer\",\n",
    "    \"pinball machine designer\",\n",
    "    \"album cover designer\",\n",
    "    \"typeface designer\",\n",
    "    \"interior designer\",\n",
    "    \"fashion designer\",\n",
    "    \"costume designer\",\n",
    "    \"garden designer\",\n",
    "    \"stage designer\",\n",
    "    \"font designer\",\n",
    "    \"set designer\",\n",
    "    \"Roll Hall of Fame\",\n",
    "    \"foreign correspondent\",\n",
    "    \"correspondent\",\n",
    "    \"stuntman\",\n",
    "    \"recorded with Linda Ronstadt\",\n",
    "    \"multitrack tape recording\",\n",
    "    \"recording studio owner\",\n",
    "    \"record label founder\",\n",
    "    \"record label owner\",\n",
    "    \"matchbox\",\n",
    "    \"chairman of San Diego Comic Con International\",\n",
    "    \"reality TV personality\",\n",
    "    \"Internet personality\",\n",
    "    \"theatre personality\",\n",
    "    \"TV personality\",\n",
    "    \"flag\",\n",
    "    \"harmonica player\",\n",
    "    \"bukkehorn player\",\n",
    "    \"banjo player\",\n",
    "    \"organ player\",\n",
    "    \"bass player\",\n",
    "    \"concertmaster\",\n",
    "    \"newsreader\",\n",
    "    \"magazine cartoonist\",\n",
    "    \"cartoonist\",\n",
    "]\n",
    "arts = sorted(list(set(arts)), key=lambda x: len(x), reverse=True)\n",
    "\n",
    "sports = [\n",
    "    \"coach\",\n",
    "    \"executive\",\n",
    "    \"sports official\",\n",
    "    \"professional wrestler\",\n",
    "    \"endurance runner\",\n",
    "    \"runner\",\n",
    "    \"member of the Pro Football Hall of Fame\",\n",
    "    \"a member of the Baseball Hall of Fame\",\n",
    "    \"Sports Hall of Fame\",\n",
    "    \"FIBA Hall of Fame\",\n",
    "    \"holder of nine world records\",\n",
    "    \"world record holder for\",\n",
    "    \"world record holder\",\n",
    "    \"world champion kickboxer\",\n",
    "    \"boxing referee\",\n",
    "    \"boxer\",\n",
    "    \"former Clemson football player\",\n",
    "    \"table tennis player\",\n",
    "    \"rugby union player\",\n",
    "    \"ice hockey player\",\n",
    "    \"baseball player\",\n",
    "    \"handball player\",\n",
    "    \"football player\",\n",
    "    \"cricket player\",\n",
    "    \"bridge player\",\n",
    "    \"polo player\",\n",
    "]\n",
    "sports = sorted(list(set(sports)), key=lambda x: len(x), reverse=True)\n",
    "\n",
    "sciences = [\n",
    "    \"physician\",\n",
    "    \"psychiatrist\",\n",
    "    \"computer scientist\",\n",
    "    \"computer engineer\",\n",
    "    \"behavioral physiologist\",\n",
    "    \"micropaleontologist\",\n",
    "    \"plant pathologist\",\n",
    "    \"parapsychologist\",\n",
    "    \"pharmacologist\",\n",
    "    \"epileptologist\",\n",
    "    \"copepodologist\",\n",
    "    \"epistemologist\",\n",
    "    \"meteorologist\",\n",
    "    \"criminologist\",\n",
    "    \"methodologist\",\n",
    "    \"ornithologist\",\n",
    "    \"haematologist\",\n",
    "    \"entomologist\",\n",
    "    \"neurologist\",\n",
    "    \"cosmologist\",\n",
    "    \"pathologist\",\n",
    "    \"serologist\",\n",
    "    \"sexologist\",\n",
    "    \"ufologist\",\n",
    "    \"ecologist\",\n",
    "    \"clinical psychologist\",\n",
    "    \"petrologist\",\n",
    "    \"neuroscientist\",\n",
    "    \"neurologist\",\n",
    "    \"designer of GPS\",\n",
    "    \"Higgs boson theorist\",\n",
    "]\n",
    "sciences = sorted(list(set(sciences)), key=lambda x: len(x), reverse=True)\n",
    "\n",
    "business_farming = [\n",
    "    \"inventor of the fast food system\",\n",
    "    \"investment banker\",\n",
    "    \"banker\",\n",
    "    'Apple as the \"computer for the rest of us\"',\n",
    "    \"restaurateur\",\n",
    "    \"farmer\",\n",
    "    \"multi millionaire industrialist\",\n",
    "    \"industrialist\",\n",
    "    \"Director of the Institute of Business Administration\",\n",
    "]\n",
    "business_farming = sorted(\n",
    "    list(set(business_farming)), key=lambda x: len(x), reverse=True\n",
    ")\n",
    "\n",
    "academia_humanities = [\n",
    "    \"teacher\",\n",
    "    \"inventor of Cued Speech\",\n",
    "    \"Sciences of\",\n",
    "    \"anthropologist\",\n",
    "    \"anthropologist\",\n",
    "    \"archaeologist\",\n",
    "    \"paremiologist\",\n",
    "    \"japanologist\",\n",
    "    \"philologist\",\n",
    "    \"museologist\",\n",
    "    \"indologist\",\n",
    "    \"sinologist\",\n",
    "    \"evolutionary theorist\",\n",
    "    \"intellectual\",\n",
    "    \"linguist\",\n",
    "]\n",
    "academia_humanities = sorted(\n",
    "    list(set(academia_humanities)), key=lambda x: len(x), reverse=True\n",
    ")\n",
    "\n",
    "law_enf_military_operator = [\n",
    "    \"cryptologist\",\n",
    "    \"intelligence officer\",\n",
    "    \"military officer\",\n",
    "    \"police officer\",\n",
    "    \"army officer\",\n",
    "    \"Army officer\",\n",
    "    \"veteran of World War II\",\n",
    "    \"veteran of World War I\",\n",
    "    \"World War II veteran\",\n",
    "    \"World War I veteran\",\n",
    "    \"oldest WWII veteran\",\n",
    "    \"war veteran\",\n",
    "    \"Atmospheric Administration Commissioned Officer Corps\",\n",
    "    \"Colditz prisoner\",\n",
    "    \"prisoner of war\",\n",
    "]\n",
    "law_enf_military_operator = sorted(\n",
    "    list(set(law_enf_military_operator)), key=lambda x: len(x), reverse=True\n",
    ")\n",
    "\n",
    "spiritual = [\n",
    "    \"motivational speaker\",\n",
    "    \"gospel\",\n",
    "    \"Anglican priest\",\n",
    "    \"Wiccan priest\",\n",
    "    \"Jesuit priest\",\n",
    "    \"priestess\",\n",
    "    \"priest\",\n",
    "    \"archbishop of the Anglican Church of Papua New\",\n",
    "    \"the Cayman Islands\",\n",
    "    \"Brecon\",\n",
    "]\n",
    "spiritual = sorted(list(set(spiritual)), key=lambda x: len(x), reverse=True)\n",
    "\n",
    "social = [\n",
    "    \"humanitarian\",\n",
    "    \"social worker\",\n",
    "    \"project designer in the Boy Scouts of\",\n",
    "]\n",
    "social = sorted(list(set(social)), key=lambda x: len(x), reverse=True)\n",
    "\n",
    "crime = [\n",
    "    \"convicted fraudster\",\n",
    "    \"convicted terrorist\",\n",
    "    \"convicted criminal\",\n",
    "    \"convicted perjurer\",\n",
    "    \"convicted rapist\",\n",
    "    \"extortionist\",\n",
    "]\n",
    "crime = sorted(list(set(crime)), key=lambda x: len(x), reverse=True)\n",
    "\n",
    "event_record_other = [\n",
    "    \"documentary subject\",\n",
    "]\n",
    "event_record_other = sorted(\n",
    "    list(set(event_record_other)), key=lambda x: len(x), reverse=True\n",
    ")\n",
    "\n",
    "other_species = []\n",
    "other_species = sorted(list(set(other_species)), key=lambda x: len(x), reverse=True)\n",
    "\n",
    "cause_of_death = [\n",
    "    \"hypertension\",\n",
    "    \"acute myeloid leukemia\",\n",
    "    \"leukemia\",\n",
    "    \"stabbed\",\n",
    "    \"run motorcycle accident\",\n",
    "    \"run car accident\",\n",
    "    \"run car crash\",\n",
    "    \"run accident\",\n",
    "    \"murdered by the Lukashenko regime\",\n",
    "    \"murdered\",\n",
    "    \"liver related problems\",\n",
    "    \"respiratory problems\",\n",
    "    \"COPD\",\n",
    "    \"shot\",\n",
    "    \"pancreatitis\",\n",
    "    \"encephalitis\",\n",
    "    \"hepatitis B\",\n",
    "    \"hepatitis C\",\n",
    "    \"peritonitis\",\n",
    "    \"meningitis\",\n",
    "    \"hepatitis\",\n",
    "    \"sepsis\",\n",
    "    \"lung ailments\",\n",
    "    \"lung ailment\",\n",
    "    \"lung transplant surgery\",\n",
    "    \"lung infections\",\n",
    "    \"lung condition\",\n",
    "    \"urinary tract infection\",\n",
    "    \"brain infection\",\n",
    "    \"chest infection\",\n",
    "    \"lung infections\",\n",
    "    \"liver infection\",\n",
    "    \"tuberculosis\",\n",
    "    \"cirrhosis\",\n",
    "]\n",
    "cause_of_death = sorted(list(set(cause_of_death)), key=lambda x: len(x), reverse=True)"
   ]
  },
  {
   "cell_type": "code",
   "execution_count": 31,
   "id": "7205795a",
   "metadata": {},
   "outputs": [
    {
     "data": {
      "application/javascript": [
       "\n",
       "            setTimeout(function() {\n",
       "                var nbb_cell_id = 31;\n",
       "                var nbb_unformatted_code = \"# Dropping info_3_1 value for entries with duplicate category value\\ndf.loc[[index for index in df[df[\\\"info_3_1\\\"] == \\\"Technology\\\"].index], \\\"info_3_1\\\"] = \\\"\\\"\\n\\n# Dropping info_3_1 value for entries with duplicate category value\\ndf.loc[\\n    [\\n        index\\n        for index in df[df[\\\"info_3_1\\\"].notna()].index\\n        if \\\"Science\\\" in df.loc[index, \\\"info_3_1\\\"]\\n    ],\\n    \\\"info_3_1\\\",\\n] = \\\"\\\"\\n\\n# Dropping info_3_1 value for entries with duplicate category value\\ndf.loc[[index for index in df[df[\\\"info_3_1\\\"] == \\\"the\\\"].index], \\\"info_3_1\\\"] = \\\"\\\"\\n\\n# Dropping info_3_1 value for entries with duplicate category value\\ndf.loc[[index for index in df[df[\\\"info_3_1\\\"] == \\\"promoter\\\"].index], \\\"info_3_1\\\"] = \\\"\\\"\\n\\n# Dropping info_3_1 value for entries with duplicate category value\\ndf.loc[[index for index in df[df[\\\"info_3_1\\\"] == \\\"s\\\"].index], \\\"info_3_1\\\"] = \\\"\\\"\\n\\n# Dropping info_3_1 value for entries with duplicate category value\\ndf.loc[[index for index in df[df[\\\"info_3_1\\\"] == \\\"all\\\"].index], \\\"info_3_1\\\"] = \\\"\\\"\";\n",
       "                var nbb_formatted_code = \"# Dropping info_3_1 value for entries with duplicate category value\\ndf.loc[[index for index in df[df[\\\"info_3_1\\\"] == \\\"Technology\\\"].index], \\\"info_3_1\\\"] = \\\"\\\"\\n\\n# Dropping info_3_1 value for entries with duplicate category value\\ndf.loc[\\n    [\\n        index\\n        for index in df[df[\\\"info_3_1\\\"].notna()].index\\n        if \\\"Science\\\" in df.loc[index, \\\"info_3_1\\\"]\\n    ],\\n    \\\"info_3_1\\\",\\n] = \\\"\\\"\\n\\n# Dropping info_3_1 value for entries with duplicate category value\\ndf.loc[[index for index in df[df[\\\"info_3_1\\\"] == \\\"the\\\"].index], \\\"info_3_1\\\"] = \\\"\\\"\\n\\n# Dropping info_3_1 value for entries with duplicate category value\\ndf.loc[[index for index in df[df[\\\"info_3_1\\\"] == \\\"promoter\\\"].index], \\\"info_3_1\\\"] = \\\"\\\"\\n\\n# Dropping info_3_1 value for entries with duplicate category value\\ndf.loc[[index for index in df[df[\\\"info_3_1\\\"] == \\\"s\\\"].index], \\\"info_3_1\\\"] = \\\"\\\"\\n\\n# Dropping info_3_1 value for entries with duplicate category value\\ndf.loc[[index for index in df[df[\\\"info_3_1\\\"] == \\\"all\\\"].index], \\\"info_3_1\\\"] = \\\"\\\"\";\n",
       "                var nbb_cells = Jupyter.notebook.get_cells();\n",
       "                for (var i = 0; i < nbb_cells.length; ++i) {\n",
       "                    if (nbb_cells[i].input_prompt_number == nbb_cell_id) {\n",
       "                        if (nbb_cells[i].get_text() == nbb_unformatted_code) {\n",
       "                             nbb_cells[i].set_text(nbb_formatted_code);\n",
       "                        }\n",
       "                        break;\n",
       "                    }\n",
       "                }\n",
       "            }, 500);\n",
       "            "
      ],
      "text/plain": [
       "<IPython.core.display.Javascript object>"
      ]
     },
     "metadata": {},
     "output_type": "display_data"
    }
   ],
   "source": [
    "# Dropping info_3_1 value for entries with duplicate category value\n",
    "df.loc[[index for index in df[df[\"info_3_1\"] == \"Technology\"].index], \"info_3_1\"] = \"\"\n",
    "\n",
    "# Dropping info_3_1 value for entries with duplicate category value\n",
    "df.loc[\n",
    "    [\n",
    "        index\n",
    "        for index in df[df[\"info_3_1\"].notna()].index\n",
    "        if \"Science\" in df.loc[index, \"info_3_1\"]\n",
    "    ],\n",
    "    \"info_3_1\",\n",
    "] = \"\"\n",
    "\n",
    "# Dropping info_3_1 value for entries with duplicate category value\n",
    "df.loc[[index for index in df[df[\"info_3_1\"] == \"the\"].index], \"info_3_1\"] = \"\"\n",
    "\n",
    "# Dropping info_3_1 value for entries with duplicate category value\n",
    "df.loc[[index for index in df[df[\"info_3_1\"] == \"promoter\"].index], \"info_3_1\"] = \"\"\n",
    "\n",
    "# Dropping info_3_1 value for entries with duplicate category value\n",
    "df.loc[[index for index in df[df[\"info_3_1\"] == \"s\"].index], \"info_3_1\"] = \"\"\n",
    "\n",
    "# Dropping info_3_1 value for entries with duplicate category value\n",
    "df.loc[[index for index in df[df[\"info_3_1\"] == \"all\"].index], \"info_3_1\"] = \"\"\n"
   ]
  },
  {
   "cell_type": "markdown",
   "id": "c08636d4",
   "metadata": {},
   "source": [
    "#### Creating `known_for_dict` Dictionary of Category Keys and Specific Role Lists of Values"
   ]
  },
  {
   "cell_type": "code",
   "execution_count": 32,
   "id": "9dd82018",
   "metadata": {},
   "outputs": [
    {
     "data": {
      "application/javascript": [
       "\n",
       "            setTimeout(function() {\n",
       "                var nbb_cell_id = 32;\n",
       "                var nbb_unformatted_code = \"# Combining separate lists into one dictionary\\nknown_for_dict = {\\n    \\\"social\\\": social,\\n    \\\"spiritual\\\": spiritual,\\n    \\\"academia_humanities\\\": academia_humanities,\\n    \\\"business_farming\\\": business_farming,\\n    \\\"sciences\\\": sciences,\\n    \\\"politics_govt_law\\\": politics_govt_law,\\n    \\\"law_enf_military_operator\\\": law_enf_military_operator,\\n    \\\"crime\\\": crime,\\n    \\\"event_record_other\\\": event_record_other,\\n    \\\"other_species\\\": other_species,\\n    \\\"arts\\\": arts,\\n    \\\"sports\\\": sports,\\n}\";\n",
       "                var nbb_formatted_code = \"# Combining separate lists into one dictionary\\nknown_for_dict = {\\n    \\\"social\\\": social,\\n    \\\"spiritual\\\": spiritual,\\n    \\\"academia_humanities\\\": academia_humanities,\\n    \\\"business_farming\\\": business_farming,\\n    \\\"sciences\\\": sciences,\\n    \\\"politics_govt_law\\\": politics_govt_law,\\n    \\\"law_enf_military_operator\\\": law_enf_military_operator,\\n    \\\"crime\\\": crime,\\n    \\\"event_record_other\\\": event_record_other,\\n    \\\"other_species\\\": other_species,\\n    \\\"arts\\\": arts,\\n    \\\"sports\\\": sports,\\n}\";\n",
       "                var nbb_cells = Jupyter.notebook.get_cells();\n",
       "                for (var i = 0; i < nbb_cells.length; ++i) {\n",
       "                    if (nbb_cells[i].input_prompt_number == nbb_cell_id) {\n",
       "                        if (nbb_cells[i].get_text() == nbb_unformatted_code) {\n",
       "                             nbb_cells[i].set_text(nbb_formatted_code);\n",
       "                        }\n",
       "                        break;\n",
       "                    }\n",
       "                }\n",
       "            }, 500);\n",
       "            "
      ],
      "text/plain": [
       "<IPython.core.display.Javascript object>"
      ]
     },
     "metadata": {},
     "output_type": "display_data"
    }
   ],
   "source": [
    "# Combining separate lists into one dictionary\n",
    "known_for_dict = {\n",
    "    \"social\": social,\n",
    "    \"spiritual\": spiritual,\n",
    "    \"academia_humanities\": academia_humanities,\n",
    "    \"business_farming\": business_farming,\n",
    "    \"sciences\": sciences,\n",
    "    \"politics_govt_law\": politics_govt_law,\n",
    "    \"law_enf_military_operator\": law_enf_military_operator,\n",
    "    \"crime\": crime,\n",
    "    \"event_record_other\": event_record_other,\n",
    "    \"other_species\": other_species,\n",
    "    \"arts\": arts,\n",
    "    \"sports\": sports,\n",
    "}"
   ]
  },
  {
   "cell_type": "markdown",
   "id": "3dbae3a3",
   "metadata": {},
   "source": [
    "#### Extracting `known_for` Categories and `cause_of_death` Values from `info_3_1`"
   ]
  },
  {
   "cell_type": "code",
   "execution_count": 33,
   "id": "b794a95d",
   "metadata": {},
   "outputs": [
    {
     "name": "stdout",
     "output_type": "stream",
     "text": [
      "There are 25134 values in cause_of_death column.\n",
      "\n",
      "CPU times: total: 7.09 s\n",
      "Wall time: 7.09 s\n"
     ]
    },
    {
     "data": {
      "application/javascript": [
       "\n",
       "            setTimeout(function() {\n",
       "                var nbb_cell_id = 33;\n",
       "                var nbb_unformatted_code = \"%%time\\n\\n# Column to check\\ncolumn = 'info_3_1'\\n\\n# Start dataframe\\ndataframe = df[df[column].notna()]\\n\\n# For loop to find cause in column and extract it to cause_of_death\\nfor cause in cause_of_death:\\n    for index in dataframe.index:\\n        item = df.loc[index, column]\\n        if item:\\n            if cause in item:\\n                if df.loc[index, 'cause_of_death']:\\n                    df.loc[index, 'cause_of_death'] = df.loc[index, 'cause_of_death'] + '/' + cause\\n                    df.loc[index, column] = item.replace(cause, '').strip()\\n                else:\\n                    df.loc[index, 'cause_of_death'] = cause\\n                    df.loc[index, column] = item.replace(cause, '').strip()\\n                \\n                \\n# For loop to find role in column and extract it as category\\nfor category, category_lst in known_for_dict.items():\\n    for role in category_lst:\\n        for index in dataframe.index:\\n                item = df.loc[index, column]\\n                if item:\\n                    if role in item:\\n                        df.loc[index, category] = 1\\n                        df.loc[index, column] = item.replace(role, '').strip()\\n\\n# Calculating num_categories\\ndf[\\\"num_categories\\\"] = df[known_for_dict.keys()].sum(axis=1)\\n\\n# Checking number of cause_of_death values\\nprint(f'There are {df[\\\"cause_of_death\\\"].notna().sum()} values in cause_of_death column.\\\\n')\";\n",
       "                var nbb_formatted_code = \"%%time\\n\\n# Column to check\\ncolumn = 'info_3_1'\\n\\n# Start dataframe\\ndataframe = df[df[column].notna()]\\n\\n# For loop to find cause in column and extract it to cause_of_death\\nfor cause in cause_of_death:\\n    for index in dataframe.index:\\n        item = df.loc[index, column]\\n        if item:\\n            if cause in item:\\n                if df.loc[index, 'cause_of_death']:\\n                    df.loc[index, 'cause_of_death'] = df.loc[index, 'cause_of_death'] + '/' + cause\\n                    df.loc[index, column] = item.replace(cause, '').strip()\\n                else:\\n                    df.loc[index, 'cause_of_death'] = cause\\n                    df.loc[index, column] = item.replace(cause, '').strip()\\n                \\n                \\n# For loop to find role in column and extract it as category\\nfor category, category_lst in known_for_dict.items():\\n    for role in category_lst:\\n        for index in dataframe.index:\\n                item = df.loc[index, column]\\n                if item:\\n                    if role in item:\\n                        df.loc[index, category] = 1\\n                        df.loc[index, column] = item.replace(role, '').strip()\\n\\n# Calculating num_categories\\ndf[\\\"num_categories\\\"] = df[known_for_dict.keys()].sum(axis=1)\\n\\n# Checking number of cause_of_death values\\nprint(f'There are {df[\\\"cause_of_death\\\"].notna().sum()} values in cause_of_death column.\\\\n')\";\n",
       "                var nbb_cells = Jupyter.notebook.get_cells();\n",
       "                for (var i = 0; i < nbb_cells.length; ++i) {\n",
       "                    if (nbb_cells[i].input_prompt_number == nbb_cell_id) {\n",
       "                        if (nbb_cells[i].get_text() == nbb_unformatted_code) {\n",
       "                             nbb_cells[i].set_text(nbb_formatted_code);\n",
       "                        }\n",
       "                        break;\n",
       "                    }\n",
       "                }\n",
       "            }, 500);\n",
       "            "
      ],
      "text/plain": [
       "<IPython.core.display.Javascript object>"
      ]
     },
     "metadata": {},
     "output_type": "display_data"
    }
   ],
   "source": [
    "%%time\n",
    "\n",
    "# Column to check\n",
    "column = 'info_3_1'\n",
    "\n",
    "# Start dataframe\n",
    "dataframe = df[df[column].notna()]\n",
    "\n",
    "# For loop to find cause in column and extract it to cause_of_death\n",
    "for cause in cause_of_death:\n",
    "    for index in dataframe.index:\n",
    "        item = df.loc[index, column]\n",
    "        if item:\n",
    "            if cause in item:\n",
    "                if df.loc[index, 'cause_of_death']:\n",
    "                    df.loc[index, 'cause_of_death'] = df.loc[index, 'cause_of_death'] + '/' + cause\n",
    "                    df.loc[index, column] = item.replace(cause, '').strip()\n",
    "                else:\n",
    "                    df.loc[index, 'cause_of_death'] = cause\n",
    "                    df.loc[index, column] = item.replace(cause, '').strip()\n",
    "                \n",
    "                \n",
    "# For loop to find role in column and extract it as category\n",
    "for category, category_lst in known_for_dict.items():\n",
    "    for role in category_lst:\n",
    "        for index in dataframe.index:\n",
    "                item = df.loc[index, column]\n",
    "                if item:\n",
    "                    if role in item:\n",
    "                        df.loc[index, category] = 1\n",
    "                        df.loc[index, column] = item.replace(role, '').strip()\n",
    "\n",
    "# Calculating num_categories\n",
    "df[\"num_categories\"] = df[known_for_dict.keys()].sum(axis=1)\n",
    "\n",
    "# Checking number of cause_of_death values\n",
    "print(f'There are {df[\"cause_of_death\"].notna().sum()} values in cause_of_death column.\\n')"
   ]
  },
  {
   "cell_type": "markdown",
   "id": "3404b57b",
   "metadata": {},
   "source": [
    "#### Checking Updated `num_categories` Value Counts"
   ]
  },
  {
   "cell_type": "code",
   "execution_count": 34,
   "id": "9f0e2dc1",
   "metadata": {},
   "outputs": [
    {
     "data": {
      "text/plain": [
       "1    84686\n",
       "2    12606\n",
       "3      734\n",
       "0        8\n",
       "4        6\n",
       "Name: num_categories, dtype: int64"
      ]
     },
     "execution_count": 34,
     "metadata": {},
     "output_type": "execute_result"
    },
    {
     "data": {
      "application/javascript": [
       "\n",
       "            setTimeout(function() {\n",
       "                var nbb_cell_id = 34;\n",
       "                var nbb_unformatted_code = \"# Checking Updated num_categories Value Counts\\ndf[\\\"num_categories\\\"].value_counts()\";\n",
       "                var nbb_formatted_code = \"# Checking Updated num_categories Value Counts\\ndf[\\\"num_categories\\\"].value_counts()\";\n",
       "                var nbb_cells = Jupyter.notebook.get_cells();\n",
       "                for (var i = 0; i < nbb_cells.length; ++i) {\n",
       "                    if (nbb_cells[i].input_prompt_number == nbb_cell_id) {\n",
       "                        if (nbb_cells[i].get_text() == nbb_unformatted_code) {\n",
       "                             nbb_cells[i].set_text(nbb_formatted_code);\n",
       "                        }\n",
       "                        break;\n",
       "                    }\n",
       "                }\n",
       "            }, 500);\n",
       "            "
      ],
      "text/plain": [
       "<IPython.core.display.Javascript object>"
      ]
     },
     "metadata": {},
     "output_type": "display_data"
    }
   ],
   "source": [
    "# Checking Updated num_categories Value Counts\n",
    "df[\"num_categories\"].value_counts()"
   ]
  },
  {
   "cell_type": "markdown",
   "id": "a513485a",
   "metadata": {},
   "source": [
    "#### Observations:\n",
    "- We will proceed to rebuild `known_for_dict` and `cause_of_death` for the next iteration."
   ]
  },
  {
   "cell_type": "markdown",
   "id": "76cf71c5",
   "metadata": {},
   "source": [
    "#### Finding `known_for` Roles and `cause_of_death` in `info_3_1`"
   ]
  },
  {
   "cell_type": "code",
   "execution_count": 35,
   "id": "2918553f",
   "metadata": {},
   "outputs": [
    {
     "data": {
      "application/javascript": [
       "\n",
       "            setTimeout(function() {\n",
       "                var nbb_cell_id = 35;\n",
       "                var nbb_unformatted_code = \"# # Obtaining values for column and their counts\\n# roles_cause_list = df[\\\"info_3_1\\\"].value_counts(ascending=True).index.tolist()\";\n",
       "                var nbb_formatted_code = \"# # Obtaining values for column and their counts\\n# roles_cause_list = df[\\\"info_3_1\\\"].value_counts(ascending=True).index.tolist()\";\n",
       "                var nbb_cells = Jupyter.notebook.get_cells();\n",
       "                for (var i = 0; i < nbb_cells.length; ++i) {\n",
       "                    if (nbb_cells[i].input_prompt_number == nbb_cell_id) {\n",
       "                        if (nbb_cells[i].get_text() == nbb_unformatted_code) {\n",
       "                             nbb_cells[i].set_text(nbb_formatted_code);\n",
       "                        }\n",
       "                        break;\n",
       "                    }\n",
       "                }\n",
       "            }, 500);\n",
       "            "
      ],
      "text/plain": [
       "<IPython.core.display.Javascript object>"
      ]
     },
     "metadata": {},
     "output_type": "display_data"
    }
   ],
   "source": [
    "# # Obtaining values for column and their counts\n",
    "# roles_cause_list = df[\"info_3_1\"].value_counts(ascending=True).index.tolist()"
   ]
  },
  {
   "cell_type": "code",
   "execution_count": 36,
   "id": "f610d1f2",
   "metadata": {},
   "outputs": [
    {
     "data": {
      "application/javascript": [
       "\n",
       "            setTimeout(function() {\n",
       "                var nbb_cell_id = 36;\n",
       "                var nbb_unformatted_code = \"# # Code to check each value\\n# roles_cause_list.pop()\";\n",
       "                var nbb_formatted_code = \"# # Code to check each value\\n# roles_cause_list.pop()\";\n",
       "                var nbb_cells = Jupyter.notebook.get_cells();\n",
       "                for (var i = 0; i < nbb_cells.length; ++i) {\n",
       "                    if (nbb_cells[i].input_prompt_number == nbb_cell_id) {\n",
       "                        if (nbb_cells[i].get_text() == nbb_unformatted_code) {\n",
       "                             nbb_cells[i].set_text(nbb_formatted_code);\n",
       "                        }\n",
       "                        break;\n",
       "                    }\n",
       "                }\n",
       "            }, 500);\n",
       "            "
      ],
      "text/plain": [
       "<IPython.core.display.Javascript object>"
      ]
     },
     "metadata": {},
     "output_type": "display_data"
    }
   ],
   "source": [
    "# # Code to check each value\n",
    "# roles_cause_list.pop()"
   ]
  },
  {
   "cell_type": "code",
   "execution_count": 37,
   "id": "dc94a7c2",
   "metadata": {},
   "outputs": [
    {
     "data": {
      "application/javascript": [
       "\n",
       "            setTimeout(function() {\n",
       "                var nbb_cell_id = 37;\n",
       "                var nbb_unformatted_code = \"# # Create specific_roles_cause_list for above popped value\\n# specific_roles_cause_list = (\\n#     df.loc[\\n#         [\\n#             index\\n#             for index in df[df[\\\"info_3_1\\\"].notna()].index\\n#             if \\\"cardinal\\\" in df.loc[index, \\\"info_3_1\\\"]\\n#             #             and df.loc[index, \\\"politics_govt_law\\\"] == 0\\n#             #             and df.loc[index, \\\"arts\\\"] == 0\\n#             #             and df.loc[index, \\\"sciences\\\"] == 0\\n#             #             and df.loc[index, \\\"spiritual\\\"] == 0\\n#             #             and df.loc[index, \\\"law_enf_military_operator\\\"] == 0\\n#             #             and df.loc[index, \\\"sports\\\"] == 0\\n#             #             and df.loc[index, \\\"event_record_other\\\"] == 0\\n#             #             and df.loc[index, \\\"crime\\\"] == 0\\n#             #             and df.loc[index, \\\"academia_humanities\\\"] == 0\\n#             #             and df.loc[index, \\\"business_farming\\\"] == 0\\n#             #             and df.loc[index, \\\"other_species\\\"] == 0\\n#             #             and df.loc[index, \\\"num_categories\\\"] == 0\\n#         ],\\n#         \\\"info_3_1\\\",\\n#     ]\\n#     .value_counts()\\n#     .index.tolist()\\n# )\";\n",
       "                var nbb_formatted_code = \"# # Create specific_roles_cause_list for above popped value\\n# specific_roles_cause_list = (\\n#     df.loc[\\n#         [\\n#             index\\n#             for index in df[df[\\\"info_3_1\\\"].notna()].index\\n#             if \\\"cardinal\\\" in df.loc[index, \\\"info_3_1\\\"]\\n#             #             and df.loc[index, \\\"politics_govt_law\\\"] == 0\\n#             #             and df.loc[index, \\\"arts\\\"] == 0\\n#             #             and df.loc[index, \\\"sciences\\\"] == 0\\n#             #             and df.loc[index, \\\"spiritual\\\"] == 0\\n#             #             and df.loc[index, \\\"law_enf_military_operator\\\"] == 0\\n#             #             and df.loc[index, \\\"sports\\\"] == 0\\n#             #             and df.loc[index, \\\"event_record_other\\\"] == 0\\n#             #             and df.loc[index, \\\"crime\\\"] == 0\\n#             #             and df.loc[index, \\\"academia_humanities\\\"] == 0\\n#             #             and df.loc[index, \\\"business_farming\\\"] == 0\\n#             #             and df.loc[index, \\\"other_species\\\"] == 0\\n#             #             and df.loc[index, \\\"num_categories\\\"] == 0\\n#         ],\\n#         \\\"info_3_1\\\",\\n#     ]\\n#     .value_counts()\\n#     .index.tolist()\\n# )\";\n",
       "                var nbb_cells = Jupyter.notebook.get_cells();\n",
       "                for (var i = 0; i < nbb_cells.length; ++i) {\n",
       "                    if (nbb_cells[i].input_prompt_number == nbb_cell_id) {\n",
       "                        if (nbb_cells[i].get_text() == nbb_unformatted_code) {\n",
       "                             nbb_cells[i].set_text(nbb_formatted_code);\n",
       "                        }\n",
       "                        break;\n",
       "                    }\n",
       "                }\n",
       "            }, 500);\n",
       "            "
      ],
      "text/plain": [
       "<IPython.core.display.Javascript object>"
      ]
     },
     "metadata": {},
     "output_type": "display_data"
    }
   ],
   "source": [
    "# # Create specific_roles_cause_list for above popped value\n",
    "# specific_roles_cause_list = (\n",
    "#     df.loc[\n",
    "#         [\n",
    "#             index\n",
    "#             for index in df[df[\"info_3_1\"].notna()].index\n",
    "#             if \"cardinal\" in df.loc[index, \"info_3_1\"]\n",
    "#             #             and df.loc[index, \"politics_govt_law\"] == 0\n",
    "#             #             and df.loc[index, \"arts\"] == 0\n",
    "#             #             and df.loc[index, \"sciences\"] == 0\n",
    "#             #             and df.loc[index, \"spiritual\"] == 0\n",
    "#             #             and df.loc[index, \"law_enf_military_operator\"] == 0\n",
    "#             #             and df.loc[index, \"sports\"] == 0\n",
    "#             #             and df.loc[index, \"event_record_other\"] == 0\n",
    "#             #             and df.loc[index, \"crime\"] == 0\n",
    "#             #             and df.loc[index, \"academia_humanities\"] == 0\n",
    "#             #             and df.loc[index, \"business_farming\"] == 0\n",
    "#             #             and df.loc[index, \"other_species\"] == 0\n",
    "#             #             and df.loc[index, \"num_categories\"] == 0\n",
    "#         ],\n",
    "#         \"info_3_1\",\n",
    "#     ]\n",
    "#     .value_counts()\n",
    "#     .index.tolist()\n",
    "# )"
   ]
  },
  {
   "cell_type": "code",
   "execution_count": 38,
   "id": "f8a6ec5c",
   "metadata": {},
   "outputs": [
    {
     "data": {
      "application/javascript": [
       "\n",
       "            setTimeout(function() {\n",
       "                var nbb_cell_id = 38;\n",
       "                var nbb_unformatted_code = \"# # Viewing list sorted by descending length to copy to dictionary below and screen values\\n# sorted(specific_roles_cause_list, key=lambda x: len(x), reverse=True)\";\n",
       "                var nbb_formatted_code = \"# # Viewing list sorted by descending length to copy to dictionary below and screen values\\n# sorted(specific_roles_cause_list, key=lambda x: len(x), reverse=True)\";\n",
       "                var nbb_cells = Jupyter.notebook.get_cells();\n",
       "                for (var i = 0; i < nbb_cells.length; ++i) {\n",
       "                    if (nbb_cells[i].input_prompt_number == nbb_cell_id) {\n",
       "                        if (nbb_cells[i].get_text() == nbb_unformatted_code) {\n",
       "                             nbb_cells[i].set_text(nbb_formatted_code);\n",
       "                        }\n",
       "                        break;\n",
       "                    }\n",
       "                }\n",
       "            }, 500);\n",
       "            "
      ],
      "text/plain": [
       "<IPython.core.display.Javascript object>"
      ]
     },
     "metadata": {},
     "output_type": "display_data"
    }
   ],
   "source": [
    "# # Viewing list sorted by descending length to copy to dictionary below and screen values\n",
    "# sorted(specific_roles_cause_list, key=lambda x: len(x), reverse=True)"
   ]
  },
  {
   "cell_type": "code",
   "execution_count": 39,
   "id": "36ac6e14",
   "metadata": {},
   "outputs": [
    {
     "data": {
      "application/javascript": [
       "\n",
       "            setTimeout(function() {\n",
       "                var nbb_cell_id = 39;\n",
       "                var nbb_unformatted_code = \"# # Example code to quick-check a specific entry\\n# df[df[\\\"info_3_1\\\"] == \\\"cardinal\\\"]\";\n",
       "                var nbb_formatted_code = \"# # Example code to quick-check a specific entry\\n# df[df[\\\"info_3_1\\\"] == \\\"cardinal\\\"]\";\n",
       "                var nbb_cells = Jupyter.notebook.get_cells();\n",
       "                for (var i = 0; i < nbb_cells.length; ++i) {\n",
       "                    if (nbb_cells[i].input_prompt_number == nbb_cell_id) {\n",
       "                        if (nbb_cells[i].get_text() == nbb_unformatted_code) {\n",
       "                             nbb_cells[i].set_text(nbb_formatted_code);\n",
       "                        }\n",
       "                        break;\n",
       "                    }\n",
       "                }\n",
       "            }, 500);\n",
       "            "
      ],
      "text/plain": [
       "<IPython.core.display.Javascript object>"
      ]
     },
     "metadata": {},
     "output_type": "display_data"
    }
   ],
   "source": [
    "# # Example code to quick-check a specific entry\n",
    "# df[df[\"info_3_1\"] == \"cardinal\"]"
   ]
  },
  {
   "cell_type": "markdown",
   "id": "42b131a2",
   "metadata": {},
   "source": [
    "#### Creating Lists for Each `known_for` Category and for `cause_of_death`"
   ]
  },
  {
   "cell_type": "code",
   "execution_count": 40,
   "id": "44d030e0",
   "metadata": {},
   "outputs": [
    {
     "data": {
      "application/javascript": [
       "\n",
       "            setTimeout(function() {\n",
       "                var nbb_cell_id = 40;\n",
       "                var nbb_unformatted_code = \"# Creating lists for each category and sorting by decreasing length and removing duplicates\\n\\npolitics_govt_law = [\\n    \\\"political corruption was the subject of the Flood Tribunal\\\",\\n    \\\"leader of main political opposition party\\\",\\n    \\\"geopolitical energy specialist\\\",\\n    \\\"political consultant\\\",\\n    \\\"political theorist\\\",\\n    \\\"political analyst\\\",\\n    \\\"political figure\\\",\\n    \\\"political\\\",\\n    \\\"missile development\\\",\\n    \\\"development\\\",\\n    \\\"delegate to the National People Congress\\\",\\n    \\\"delegate to the Arab League\\\",\\n    \\\"three time MP\\\",\\n    \\\"MP\\\",\\n    \\\"Planning\\\",\\n    \\\"pacifist\\\",\\n    \\\"Agriculture Organization\\\",\\n    \\\"presidential primary candidate\\\",\\n    \\\"presidential candidate\\\",\\n    \\\"presidential adviser\\\",\\n    \\\"Vice Minister of the Ministry of Water Resources\\\",\\n    \\\"Executive Vice Mayor of Beijing\\\",\\n    \\\"Vice Presidential nominee\\\",\\n    \\\"Vice Minister of the Ministry of Water Resources\\\",\\n    \\\"Prime Minister of the Donetsk People Republic\\\",\\n    \\\"acting Minister of Internal Affairs of\\\",\\n    \\\"Consumer Protection Minister\\\",\\n    \\\"Minister for East Affairs\\\",\\n    \\\"Islamic Affairs Minister\\\",\\n    \\\"nine term Prime Minister\\\",\\n    \\\"Federalism Minister of a\\\",\\n    \\\"Minister of Employment\\\",\\n    \\\"Deputy Prime Minister\\\",\\n    \\\"Prime Minister of the\\\",\\n    \\\"Minister of Borders\\\",\\n    \\\"Prime Minister\\\",\\n    \\\"Health\\\",\\n    \\\"founder of Drachmi Democratic Movement Five Stars\\\",\\n    \\\"founder of the National Regeneration Movement\\\",\\n    \\\"founder of the Council for a Beautiful\\\",\\n    \\\"co founder of Jatiya Samajtantrik Dal\\\",\\n    \\\"founder of the Progress Party\\\",\\n    \\\"co founder of the Mass Party\\\",\\n    \\\"founder of Occupy Pedophilia\\\",\\n    \\\"founder of Common Cause\\\",\\n    \\\"co founder of the PSDB\\\",\\n    \\\"co founder of the Gapminder Foundation\\\",\\n    \\\"natural resources\\\",\\n    \\\"Administration\\\",\\n    \\\"minister of agriculture\\\",\\n    \\\"Agriculture Organization\\\",\\n    \\\"defector\\\",\\n    \\\"first child of civil rights leader Martin Luther King Jr\\\",\\n    \\\"leader of main political opposition party\\\",\\n    \\\"widow of fascist leader Oswald Mosley\\\",\\n    \\\"leader of the Mothers of Srebrenica\\\",\\n    \\\"leader of the Independent Party\\\",\\n    \\\"prominent Pashtun leader\\\",\\n    \\\"revolutionary leader\\\",\\n    \\\"secessionist leader\\\",\\n    \\\"civil rights leader\\\",\\n    \\\"traditional leader\\\",\\n    \\\"peasant leader\\\",\\n    \\\"tribal leader\\\",\\n    \\\"labor leader\\\",\\n    \\\"reformed Ku Klux Klan leader\\\",\\n    \\\"community leader\\\",\\n    \\\"Consumer Affairs\\\",\\n    \\\"Clerk of the Crown in Chancery\\\",\\n    \\\"Nobel Peace Prize winner\\\",\\n    \\\"Landtag of North Rhine Westphalia\\\",\\n    \\\"chairman of the Communist Party of\\\",\\n    \\\"chairman of Memorial\\\",\\n    \\\"chairman of the Ocean Affairs Council\\\",\\n    \\\"the United Nations Development Program\\\",\\n    \\\"Urban Development\\\",\\n    \\\"Rural Development\\\",\\n    \\\"Development\\\",\\n    \\\"Toronto city councillor\\\",\\n    \\\"the General Secretary of the National Union of Railwaymen\\\",\\n]\\npolitics_govt_law = sorted(\\n    list(set(politics_govt_law)), key=lambda x: len(x), reverse=True\\n)\\n\\narts = [\\n    \\\"commentator\\\",\\n    \\\"a pioneer of electronic music\\\",\\n    \\\"early music specialist\\\",\\n    \\\"popular music\\\",\\n    \\\"music\\\",\\n    \\\"drama\\\",\\n    \\\"subject of the Oscar winning animated short\\\",\\n    \\\"animator\\\",\\n    \\\"storyteller\\\",\\n    \\\"cinematographer\\\",\\n    \\\"bibliographer\\\",\\n    \\\"mastering engineer\\\",\\n    \\\"satirist\\\",\\n    \\\"CBS Vice President\\\",\\n    \\\"game show panelist\\\",\\n    \\\"panelist\\\",\\n    \\\"narrator of the PBS series\\\",\\n    \\\"narrator\\\",\\n    \\\"co founder of the Chicago Surrealist Group\\\",\\n    \\\"co founder of The Mamas & the Papas\\\",\\n    \\\"co founder of Disneyland Records\\\",\\n    \\\"founder of Food Network\\\",\\n    \\\"co founder of magazine\\\",\\n    \\\"founder of fratricide\\\",\\n    \\\"founder of Apotex\\\",\\n    \\\"camera operator\\\",\\n    \\\"silk screen printer\\\",\\n    \\\"screenplays\\\",\\n    \\\"leader of the Philharmonia Orchestra\\\",\\n    \\\"Walk of Fame\\\",\\n    \\\"Pullitzer Prize winner\\\",\\n    \\\"Pulitzer Prize winner\\\",\\n    \\\"pageant winner\\\",\\n    \\\"Grammy winner\\\",\\n    \\\"Tony winner\\\",\\n    \\\"Prince Claus Award winner\\\",\\n    \\\"clavichordist\\\",\\n    \\\"Gracie Allen\\\",\\n    \\\"chairman of Sanlih E Television\\\",\\n    \\\"Marie Curie\\\",\\n]\\narts = sorted(list(set(arts)), key=lambda x: len(x), reverse=True)\\n\\nsports = [\\n    \\\"official\\\",\\n    \\\"trainer\\\",\\n    \\\"medical delegate\\\",\\n    \\\"bodybuilder\\\",\\n    \\\"co founder of the Marathon\\\",\\n    \\\"founder of Gresini Racing\\\",\\n    \\\"Commonwealth Games gold medallist\\\",\\n    \\\"championships bronze medalist\\\",\\n    \\\"Commonwealth silver medalist\\\",\\n    \\\"bronze medallist\\\",\\n    \\\"silver medallist\\\",\\n    \\\"bronze medalist\\\",\\n    \\\"silver medalist\\\",\\n    \\\"expedition leader\\\",\\n    \\\"raced Triple Crown champion\\\",\\n    \\\"two time Boat Race winner\\\",\\n    \\\"chairman of the All Jumping Course\\\",\\n    \\\"chairman of Polo\\\",\\n    \\\"World Boxing Council light heavyweight champion\\\",\\n    \\\"WBC world light middleweight champion\\\",\\n    \\\"WBC Bantamweight Champion\\\",\\n    \\\"WBC heavyweight champion\\\",\\n]\\nsports = sorted(list(set(sports)), key=lambda x: len(x), reverse=True)\\n\\nsciences = [\\n    \\\"inventor\\\",\\n    \\\"medical researcher\\\",\\n    \\\"conspiracy theory researcher\\\",\\n    \\\"designer\\\",\\n    \\\"co founder of the CSI\\\",\\n    \\\"founder of the NASL\\\",\\n    \\\"proponent of natural childbirth\\\",\\n    \\\"naturalist\\\",\\n    \\\"the physical properties of materials\\\",\\n    \\\"physics Nobel prize winner\\\",\\n    \\\"geophysicist\\\",\\n    \\\"physicist\\\",\\n    \\\"physics Nobel prize winner\\\",\\n]\\nsciences = sorted(list(set(sciences)), key=lambda x: len(x), reverse=True)\\n\\nbusiness_farming = [\\n    \\\"hotelier\\\",\\n    \\\"co founder of INSEAD\\\",\\n    \\\"founder of Berkley\\\",\\n    \\\"co founder of Pat King of Steaks cheesesteak emporium\\\",\\n    \\\"founder of R J Corman Railroad Group\\\",\\n    \\\"co founder of Bing Lee superstores\\\",\\n    \\\"founder of the Hyundai Group\\\",\\n    \\\"co founder of Wanxiang\\\",\\n    \\\"co founder of Garmin\\\",\\n    \\\"founder of Biovail\\\",\\n    \\\"chairman of Airways from to\\\",\\n    \\\"chairman of Imasco\\\",\\n    \\\"chairman of NEC\\\",\\n    \\\"chairman of off price clothier SYMS\\\",\\n    \\\"chairman of The Leela Palaces\\\",\\n    \\\"chairman of Intel Corporation\\\",\\n    \\\"chairman of The Swatch Group\\\",\\n    \\\"chairman of Trident Seafoods\\\",\\n    \\\"chairman of Sandals Resorts\\\",\\n    \\\"chairman of Biltmore Farms\\\",\\n    \\\"chairman of Banco Safra\\\",\\n    \\\"chairman of Chen Hsong\\\",\\n    \\\"chairman of Alltech\\\",\\n    \\\"chairman of IDG\\\",\\n    \\\"Santa Fe Railway\\\",\\n]\\nbusiness_farming = sorted(\\n    list(set(business_farming)), key=lambda x: len(x), reverse=True\\n)\\n\\nacademia_humanities = [\\n    \\\"literary theorist\\\",\\n    \\\"theorist\\\",\\n    \\\"lexicographer\\\",\\n    \\\"epigraphist\\\",\\n    \\\"geographer\\\",\\n    \\\"Vice Chancellor of University of Oxford\\\",\\n    \\\"founder of Project Gutenberg\\\",\\n    \\\"librarian\\\",\\n    \\\"folklorist\\\",\\n    \\\"a champion of culture\\\",\\n    \\\"head of the Tamarind Institute at the University of New\\\",\\n    \\\"Vice Chancellor of University of Oxford\\\",\\n    \\\"chancellor of Sathyabama University\\\",\\n    \\\"president of Brandeis University\\\",\\n    \\\"Rector of the Central University\\\",\\n    \\\"president of Emory University\\\",\\n    \\\"Warden of Durham University\\\",\\n    \\\"Wichita State University\\\",\\n    \\\"the University of Iowa\\\",\\n    \\\"Temple University\\\",\\n    \\\"State University\\\",\\n    \\\"Akal University\\\",\\n]\\nacademia_humanities = sorted(\\n    list(set(academia_humanities)), key=lambda x: len(x), reverse=True\\n)\\n\\nlaw_enf_military_operator = [\\n    \\\"cryptographer\\\",\\n    \\\"Minister of National Defence\\\",\\n    \\\"Defense Minister of South\\\",\\n    \\\"Defense Minister\\\",\\n    \\\"founder of militant organization Fatah\\\",\\n    \\\"founder of the Experimental Aircraft Association\\\",\\n    \\\"founder of the Police Force\\\",\\n    \\\"leader of the Provisional Republican Army\\\",\\n    \\\"leader of For\\u00e7as Populares de Abril\\\",\\n    \\\"the second highest leader of Hamas\\\",\\n    \\\"former leader of PCAA\\\",\\n    \\\"leader of Tehreek e Nafaz e Shariat e Mohammadi\\\",\\n    \\\"son of a  who became a rebel leader\\\",\\n    \\\"leader of the PFLP GC\\\",\\n    \\\"paramilitary leader\\\",\\n]\\nlaw_enf_military_operator = sorted(\\n    list(set(law_enf_military_operator)), key=lambda x: len(x), reverse=True\\n)\\n\\nspiritual = [\\n    \\\"Galloway\\\",\\n    \\\"religious leader\\\",\\n    \\\"sect leader\\\",\\n    \\\"Catholic religious leader\\\",\\n    \\\"ecumenical leader\\\",\\n    \\\"chairman of the Bishops' Conference\\\",\\n    \\\"Lismore\\\",\\n    \\\"self help consultant\\\",\\n    \\\"self help\\\",\\n    \\\"cardinal\\\",\\n]\\nspiritual = sorted(list(set(spiritual)), key=lambda x: len(x), reverse=True)\\n\\nsocial = [\\n    \\\"founder of Neville Fernando Teaching Hospital\\\",\\n    \\\"founder of the Bandhua Mukti Morcha\\\",\\n    \\\"commune founder\\\",\\n    \\\"a leader in the pro  movement\\\",\\n]\\nsocial = sorted(list(set(social)), key=lambda x: len(x), reverse=True)\\n\\ncrime = [\\\"war criminal\\\", \\\"criminal\\\", \\\"cannibal\\\"]\\ncrime = sorted(list(set(crime)), key=lambda x: len(x), reverse=True)\\n\\nevent_record_other = []\\nevent_record_other = sorted(\\n    list(set(event_record_other)), key=lambda x: len(x), reverse=True\\n)\\n\\nother_species = [\\n    \\\"the Preakness Stakes\\\",\\n    \\\"Blue Grass Stakes\\\",\\n    \\\"Preakness Stakes\\\",\\n    \\\"Champagne Stakes\\\",\\n]\\nother_species = sorted(list(set(other_species)), key=lambda x: len(x), reverse=True)\\n\\ncause_of_death = [\\n    \\\"run\\\",\\n    \\\"injuries sustained in a fall\\\",\\n    \\\"fall\\\",\\n    \\\"subsequently found dead\\\",\\n    \\\"is presumed dead\\\",\\n]\\ncause_of_death = sorted(list(set(cause_of_death)), key=lambda x: len(x), reverse=True)\";\n",
       "                var nbb_formatted_code = \"# Creating lists for each category and sorting by decreasing length and removing duplicates\\n\\npolitics_govt_law = [\\n    \\\"political corruption was the subject of the Flood Tribunal\\\",\\n    \\\"leader of main political opposition party\\\",\\n    \\\"geopolitical energy specialist\\\",\\n    \\\"political consultant\\\",\\n    \\\"political theorist\\\",\\n    \\\"political analyst\\\",\\n    \\\"political figure\\\",\\n    \\\"political\\\",\\n    \\\"missile development\\\",\\n    \\\"development\\\",\\n    \\\"delegate to the National People Congress\\\",\\n    \\\"delegate to the Arab League\\\",\\n    \\\"three time MP\\\",\\n    \\\"MP\\\",\\n    \\\"Planning\\\",\\n    \\\"pacifist\\\",\\n    \\\"Agriculture Organization\\\",\\n    \\\"presidential primary candidate\\\",\\n    \\\"presidential candidate\\\",\\n    \\\"presidential adviser\\\",\\n    \\\"Vice Minister of the Ministry of Water Resources\\\",\\n    \\\"Executive Vice Mayor of Beijing\\\",\\n    \\\"Vice Presidential nominee\\\",\\n    \\\"Vice Minister of the Ministry of Water Resources\\\",\\n    \\\"Prime Minister of the Donetsk People Republic\\\",\\n    \\\"acting Minister of Internal Affairs of\\\",\\n    \\\"Consumer Protection Minister\\\",\\n    \\\"Minister for East Affairs\\\",\\n    \\\"Islamic Affairs Minister\\\",\\n    \\\"nine term Prime Minister\\\",\\n    \\\"Federalism Minister of a\\\",\\n    \\\"Minister of Employment\\\",\\n    \\\"Deputy Prime Minister\\\",\\n    \\\"Prime Minister of the\\\",\\n    \\\"Minister of Borders\\\",\\n    \\\"Prime Minister\\\",\\n    \\\"Health\\\",\\n    \\\"founder of Drachmi Democratic Movement Five Stars\\\",\\n    \\\"founder of the National Regeneration Movement\\\",\\n    \\\"founder of the Council for a Beautiful\\\",\\n    \\\"co founder of Jatiya Samajtantrik Dal\\\",\\n    \\\"founder of the Progress Party\\\",\\n    \\\"co founder of the Mass Party\\\",\\n    \\\"founder of Occupy Pedophilia\\\",\\n    \\\"founder of Common Cause\\\",\\n    \\\"co founder of the PSDB\\\",\\n    \\\"co founder of the Gapminder Foundation\\\",\\n    \\\"natural resources\\\",\\n    \\\"Administration\\\",\\n    \\\"minister of agriculture\\\",\\n    \\\"Agriculture Organization\\\",\\n    \\\"defector\\\",\\n    \\\"first child of civil rights leader Martin Luther King Jr\\\",\\n    \\\"leader of main political opposition party\\\",\\n    \\\"widow of fascist leader Oswald Mosley\\\",\\n    \\\"leader of the Mothers of Srebrenica\\\",\\n    \\\"leader of the Independent Party\\\",\\n    \\\"prominent Pashtun leader\\\",\\n    \\\"revolutionary leader\\\",\\n    \\\"secessionist leader\\\",\\n    \\\"civil rights leader\\\",\\n    \\\"traditional leader\\\",\\n    \\\"peasant leader\\\",\\n    \\\"tribal leader\\\",\\n    \\\"labor leader\\\",\\n    \\\"reformed Ku Klux Klan leader\\\",\\n    \\\"community leader\\\",\\n    \\\"Consumer Affairs\\\",\\n    \\\"Clerk of the Crown in Chancery\\\",\\n    \\\"Nobel Peace Prize winner\\\",\\n    \\\"Landtag of North Rhine Westphalia\\\",\\n    \\\"chairman of the Communist Party of\\\",\\n    \\\"chairman of Memorial\\\",\\n    \\\"chairman of the Ocean Affairs Council\\\",\\n    \\\"the United Nations Development Program\\\",\\n    \\\"Urban Development\\\",\\n    \\\"Rural Development\\\",\\n    \\\"Development\\\",\\n    \\\"Toronto city councillor\\\",\\n    \\\"the General Secretary of the National Union of Railwaymen\\\",\\n]\\npolitics_govt_law = sorted(\\n    list(set(politics_govt_law)), key=lambda x: len(x), reverse=True\\n)\\n\\narts = [\\n    \\\"commentator\\\",\\n    \\\"a pioneer of electronic music\\\",\\n    \\\"early music specialist\\\",\\n    \\\"popular music\\\",\\n    \\\"music\\\",\\n    \\\"drama\\\",\\n    \\\"subject of the Oscar winning animated short\\\",\\n    \\\"animator\\\",\\n    \\\"storyteller\\\",\\n    \\\"cinematographer\\\",\\n    \\\"bibliographer\\\",\\n    \\\"mastering engineer\\\",\\n    \\\"satirist\\\",\\n    \\\"CBS Vice President\\\",\\n    \\\"game show panelist\\\",\\n    \\\"panelist\\\",\\n    \\\"narrator of the PBS series\\\",\\n    \\\"narrator\\\",\\n    \\\"co founder of the Chicago Surrealist Group\\\",\\n    \\\"co founder of The Mamas & the Papas\\\",\\n    \\\"co founder of Disneyland Records\\\",\\n    \\\"founder of Food Network\\\",\\n    \\\"co founder of magazine\\\",\\n    \\\"founder of fratricide\\\",\\n    \\\"founder of Apotex\\\",\\n    \\\"camera operator\\\",\\n    \\\"silk screen printer\\\",\\n    \\\"screenplays\\\",\\n    \\\"leader of the Philharmonia Orchestra\\\",\\n    \\\"Walk of Fame\\\",\\n    \\\"Pullitzer Prize winner\\\",\\n    \\\"Pulitzer Prize winner\\\",\\n    \\\"pageant winner\\\",\\n    \\\"Grammy winner\\\",\\n    \\\"Tony winner\\\",\\n    \\\"Prince Claus Award winner\\\",\\n    \\\"clavichordist\\\",\\n    \\\"Gracie Allen\\\",\\n    \\\"chairman of Sanlih E Television\\\",\\n    \\\"Marie Curie\\\",\\n]\\narts = sorted(list(set(arts)), key=lambda x: len(x), reverse=True)\\n\\nsports = [\\n    \\\"official\\\",\\n    \\\"trainer\\\",\\n    \\\"medical delegate\\\",\\n    \\\"bodybuilder\\\",\\n    \\\"co founder of the Marathon\\\",\\n    \\\"founder of Gresini Racing\\\",\\n    \\\"Commonwealth Games gold medallist\\\",\\n    \\\"championships bronze medalist\\\",\\n    \\\"Commonwealth silver medalist\\\",\\n    \\\"bronze medallist\\\",\\n    \\\"silver medallist\\\",\\n    \\\"bronze medalist\\\",\\n    \\\"silver medalist\\\",\\n    \\\"expedition leader\\\",\\n    \\\"raced Triple Crown champion\\\",\\n    \\\"two time Boat Race winner\\\",\\n    \\\"chairman of the All Jumping Course\\\",\\n    \\\"chairman of Polo\\\",\\n    \\\"World Boxing Council light heavyweight champion\\\",\\n    \\\"WBC world light middleweight champion\\\",\\n    \\\"WBC Bantamweight Champion\\\",\\n    \\\"WBC heavyweight champion\\\",\\n]\\nsports = sorted(list(set(sports)), key=lambda x: len(x), reverse=True)\\n\\nsciences = [\\n    \\\"inventor\\\",\\n    \\\"medical researcher\\\",\\n    \\\"conspiracy theory researcher\\\",\\n    \\\"designer\\\",\\n    \\\"co founder of the CSI\\\",\\n    \\\"founder of the NASL\\\",\\n    \\\"proponent of natural childbirth\\\",\\n    \\\"naturalist\\\",\\n    \\\"the physical properties of materials\\\",\\n    \\\"physics Nobel prize winner\\\",\\n    \\\"geophysicist\\\",\\n    \\\"physicist\\\",\\n    \\\"physics Nobel prize winner\\\",\\n]\\nsciences = sorted(list(set(sciences)), key=lambda x: len(x), reverse=True)\\n\\nbusiness_farming = [\\n    \\\"hotelier\\\",\\n    \\\"co founder of INSEAD\\\",\\n    \\\"founder of Berkley\\\",\\n    \\\"co founder of Pat King of Steaks cheesesteak emporium\\\",\\n    \\\"founder of R J Corman Railroad Group\\\",\\n    \\\"co founder of Bing Lee superstores\\\",\\n    \\\"founder of the Hyundai Group\\\",\\n    \\\"co founder of Wanxiang\\\",\\n    \\\"co founder of Garmin\\\",\\n    \\\"founder of Biovail\\\",\\n    \\\"chairman of Airways from to\\\",\\n    \\\"chairman of Imasco\\\",\\n    \\\"chairman of NEC\\\",\\n    \\\"chairman of off price clothier SYMS\\\",\\n    \\\"chairman of The Leela Palaces\\\",\\n    \\\"chairman of Intel Corporation\\\",\\n    \\\"chairman of The Swatch Group\\\",\\n    \\\"chairman of Trident Seafoods\\\",\\n    \\\"chairman of Sandals Resorts\\\",\\n    \\\"chairman of Biltmore Farms\\\",\\n    \\\"chairman of Banco Safra\\\",\\n    \\\"chairman of Chen Hsong\\\",\\n    \\\"chairman of Alltech\\\",\\n    \\\"chairman of IDG\\\",\\n    \\\"Santa Fe Railway\\\",\\n]\\nbusiness_farming = sorted(\\n    list(set(business_farming)), key=lambda x: len(x), reverse=True\\n)\\n\\nacademia_humanities = [\\n    \\\"literary theorist\\\",\\n    \\\"theorist\\\",\\n    \\\"lexicographer\\\",\\n    \\\"epigraphist\\\",\\n    \\\"geographer\\\",\\n    \\\"Vice Chancellor of University of Oxford\\\",\\n    \\\"founder of Project Gutenberg\\\",\\n    \\\"librarian\\\",\\n    \\\"folklorist\\\",\\n    \\\"a champion of culture\\\",\\n    \\\"head of the Tamarind Institute at the University of New\\\",\\n    \\\"Vice Chancellor of University of Oxford\\\",\\n    \\\"chancellor of Sathyabama University\\\",\\n    \\\"president of Brandeis University\\\",\\n    \\\"Rector of the Central University\\\",\\n    \\\"president of Emory University\\\",\\n    \\\"Warden of Durham University\\\",\\n    \\\"Wichita State University\\\",\\n    \\\"the University of Iowa\\\",\\n    \\\"Temple University\\\",\\n    \\\"State University\\\",\\n    \\\"Akal University\\\",\\n]\\nacademia_humanities = sorted(\\n    list(set(academia_humanities)), key=lambda x: len(x), reverse=True\\n)\\n\\nlaw_enf_military_operator = [\\n    \\\"cryptographer\\\",\\n    \\\"Minister of National Defence\\\",\\n    \\\"Defense Minister of South\\\",\\n    \\\"Defense Minister\\\",\\n    \\\"founder of militant organization Fatah\\\",\\n    \\\"founder of the Experimental Aircraft Association\\\",\\n    \\\"founder of the Police Force\\\",\\n    \\\"leader of the Provisional Republican Army\\\",\\n    \\\"leader of For\\u00e7as Populares de Abril\\\",\\n    \\\"the second highest leader of Hamas\\\",\\n    \\\"former leader of PCAA\\\",\\n    \\\"leader of Tehreek e Nafaz e Shariat e Mohammadi\\\",\\n    \\\"son of a  who became a rebel leader\\\",\\n    \\\"leader of the PFLP GC\\\",\\n    \\\"paramilitary leader\\\",\\n]\\nlaw_enf_military_operator = sorted(\\n    list(set(law_enf_military_operator)), key=lambda x: len(x), reverse=True\\n)\\n\\nspiritual = [\\n    \\\"Galloway\\\",\\n    \\\"religious leader\\\",\\n    \\\"sect leader\\\",\\n    \\\"Catholic religious leader\\\",\\n    \\\"ecumenical leader\\\",\\n    \\\"chairman of the Bishops' Conference\\\",\\n    \\\"Lismore\\\",\\n    \\\"self help consultant\\\",\\n    \\\"self help\\\",\\n    \\\"cardinal\\\",\\n]\\nspiritual = sorted(list(set(spiritual)), key=lambda x: len(x), reverse=True)\\n\\nsocial = [\\n    \\\"founder of Neville Fernando Teaching Hospital\\\",\\n    \\\"founder of the Bandhua Mukti Morcha\\\",\\n    \\\"commune founder\\\",\\n    \\\"a leader in the pro  movement\\\",\\n]\\nsocial = sorted(list(set(social)), key=lambda x: len(x), reverse=True)\\n\\ncrime = [\\\"war criminal\\\", \\\"criminal\\\", \\\"cannibal\\\"]\\ncrime = sorted(list(set(crime)), key=lambda x: len(x), reverse=True)\\n\\nevent_record_other = []\\nevent_record_other = sorted(\\n    list(set(event_record_other)), key=lambda x: len(x), reverse=True\\n)\\n\\nother_species = [\\n    \\\"the Preakness Stakes\\\",\\n    \\\"Blue Grass Stakes\\\",\\n    \\\"Preakness Stakes\\\",\\n    \\\"Champagne Stakes\\\",\\n]\\nother_species = sorted(list(set(other_species)), key=lambda x: len(x), reverse=True)\\n\\ncause_of_death = [\\n    \\\"run\\\",\\n    \\\"injuries sustained in a fall\\\",\\n    \\\"fall\\\",\\n    \\\"subsequently found dead\\\",\\n    \\\"is presumed dead\\\",\\n]\\ncause_of_death = sorted(list(set(cause_of_death)), key=lambda x: len(x), reverse=True)\";\n",
       "                var nbb_cells = Jupyter.notebook.get_cells();\n",
       "                for (var i = 0; i < nbb_cells.length; ++i) {\n",
       "                    if (nbb_cells[i].input_prompt_number == nbb_cell_id) {\n",
       "                        if (nbb_cells[i].get_text() == nbb_unformatted_code) {\n",
       "                             nbb_cells[i].set_text(nbb_formatted_code);\n",
       "                        }\n",
       "                        break;\n",
       "                    }\n",
       "                }\n",
       "            }, 500);\n",
       "            "
      ],
      "text/plain": [
       "<IPython.core.display.Javascript object>"
      ]
     },
     "metadata": {},
     "output_type": "display_data"
    }
   ],
   "source": [
    "# Creating lists for each category and sorting by decreasing length and removing duplicates\n",
    "\n",
    "politics_govt_law = [\n",
    "    \"political corruption was the subject of the Flood Tribunal\",\n",
    "    \"leader of main political opposition party\",\n",
    "    \"geopolitical energy specialist\",\n",
    "    \"political consultant\",\n",
    "    \"political theorist\",\n",
    "    \"political analyst\",\n",
    "    \"political figure\",\n",
    "    \"political\",\n",
    "    \"missile development\",\n",
    "    \"development\",\n",
    "    \"delegate to the National People Congress\",\n",
    "    \"delegate to the Arab League\",\n",
    "    \"three time MP\",\n",
    "    \"MP\",\n",
    "    \"Planning\",\n",
    "    \"pacifist\",\n",
    "    \"Agriculture Organization\",\n",
    "    \"presidential primary candidate\",\n",
    "    \"presidential candidate\",\n",
    "    \"presidential adviser\",\n",
    "    \"Vice Minister of the Ministry of Water Resources\",\n",
    "    \"Executive Vice Mayor of Beijing\",\n",
    "    \"Vice Presidential nominee\",\n",
    "    \"Vice Minister of the Ministry of Water Resources\",\n",
    "    \"Prime Minister of the Donetsk People Republic\",\n",
    "    \"acting Minister of Internal Affairs of\",\n",
    "    \"Consumer Protection Minister\",\n",
    "    \"Minister for East Affairs\",\n",
    "    \"Islamic Affairs Minister\",\n",
    "    \"nine term Prime Minister\",\n",
    "    \"Federalism Minister of a\",\n",
    "    \"Minister of Employment\",\n",
    "    \"Deputy Prime Minister\",\n",
    "    \"Prime Minister of the\",\n",
    "    \"Minister of Borders\",\n",
    "    \"Prime Minister\",\n",
    "    \"Health\",\n",
    "    \"founder of Drachmi Democratic Movement Five Stars\",\n",
    "    \"founder of the National Regeneration Movement\",\n",
    "    \"founder of the Council for a Beautiful\",\n",
    "    \"co founder of Jatiya Samajtantrik Dal\",\n",
    "    \"founder of the Progress Party\",\n",
    "    \"co founder of the Mass Party\",\n",
    "    \"founder of Occupy Pedophilia\",\n",
    "    \"founder of Common Cause\",\n",
    "    \"co founder of the PSDB\",\n",
    "    \"co founder of the Gapminder Foundation\",\n",
    "    \"natural resources\",\n",
    "    \"Administration\",\n",
    "    \"minister of agriculture\",\n",
    "    \"Agriculture Organization\",\n",
    "    \"defector\",\n",
    "    \"first child of civil rights leader Martin Luther King Jr\",\n",
    "    \"leader of main political opposition party\",\n",
    "    \"widow of fascist leader Oswald Mosley\",\n",
    "    \"leader of the Mothers of Srebrenica\",\n",
    "    \"leader of the Independent Party\",\n",
    "    \"prominent Pashtun leader\",\n",
    "    \"revolutionary leader\",\n",
    "    \"secessionist leader\",\n",
    "    \"civil rights leader\",\n",
    "    \"traditional leader\",\n",
    "    \"peasant leader\",\n",
    "    \"tribal leader\",\n",
    "    \"labor leader\",\n",
    "    \"reformed Ku Klux Klan leader\",\n",
    "    \"community leader\",\n",
    "    \"Consumer Affairs\",\n",
    "    \"Clerk of the Crown in Chancery\",\n",
    "    \"Nobel Peace Prize winner\",\n",
    "    \"Landtag of North Rhine Westphalia\",\n",
    "    \"chairman of the Communist Party of\",\n",
    "    \"chairman of Memorial\",\n",
    "    \"chairman of the Ocean Affairs Council\",\n",
    "    \"the United Nations Development Program\",\n",
    "    \"Urban Development\",\n",
    "    \"Rural Development\",\n",
    "    \"Development\",\n",
    "    \"Toronto city councillor\",\n",
    "    \"the General Secretary of the National Union of Railwaymen\",\n",
    "]\n",
    "politics_govt_law = sorted(\n",
    "    list(set(politics_govt_law)), key=lambda x: len(x), reverse=True\n",
    ")\n",
    "\n",
    "arts = [\n",
    "    \"commentator\",\n",
    "    \"a pioneer of electronic music\",\n",
    "    \"early music specialist\",\n",
    "    \"popular music\",\n",
    "    \"music\",\n",
    "    \"drama\",\n",
    "    \"subject of the Oscar winning animated short\",\n",
    "    \"animator\",\n",
    "    \"storyteller\",\n",
    "    \"cinematographer\",\n",
    "    \"bibliographer\",\n",
    "    \"mastering engineer\",\n",
    "    \"satirist\",\n",
    "    \"CBS Vice President\",\n",
    "    \"game show panelist\",\n",
    "    \"panelist\",\n",
    "    \"narrator of the PBS series\",\n",
    "    \"narrator\",\n",
    "    \"co founder of the Chicago Surrealist Group\",\n",
    "    \"co founder of The Mamas & the Papas\",\n",
    "    \"co founder of Disneyland Records\",\n",
    "    \"founder of Food Network\",\n",
    "    \"co founder of magazine\",\n",
    "    \"founder of fratricide\",\n",
    "    \"founder of Apotex\",\n",
    "    \"camera operator\",\n",
    "    \"silk screen printer\",\n",
    "    \"screenplays\",\n",
    "    \"leader of the Philharmonia Orchestra\",\n",
    "    \"Walk of Fame\",\n",
    "    \"Pullitzer Prize winner\",\n",
    "    \"Pulitzer Prize winner\",\n",
    "    \"pageant winner\",\n",
    "    \"Grammy winner\",\n",
    "    \"Tony winner\",\n",
    "    \"Prince Claus Award winner\",\n",
    "    \"clavichordist\",\n",
    "    \"Gracie Allen\",\n",
    "    \"chairman of Sanlih E Television\",\n",
    "    \"Marie Curie\",\n",
    "]\n",
    "arts = sorted(list(set(arts)), key=lambda x: len(x), reverse=True)\n",
    "\n",
    "sports = [\n",
    "    \"official\",\n",
    "    \"trainer\",\n",
    "    \"medical delegate\",\n",
    "    \"bodybuilder\",\n",
    "    \"co founder of the Marathon\",\n",
    "    \"founder of Gresini Racing\",\n",
    "    \"Commonwealth Games gold medallist\",\n",
    "    \"championships bronze medalist\",\n",
    "    \"Commonwealth silver medalist\",\n",
    "    \"bronze medallist\",\n",
    "    \"silver medallist\",\n",
    "    \"bronze medalist\",\n",
    "    \"silver medalist\",\n",
    "    \"expedition leader\",\n",
    "    \"raced Triple Crown champion\",\n",
    "    \"two time Boat Race winner\",\n",
    "    \"chairman of the All Jumping Course\",\n",
    "    \"chairman of Polo\",\n",
    "    \"World Boxing Council light heavyweight champion\",\n",
    "    \"WBC world light middleweight champion\",\n",
    "    \"WBC Bantamweight Champion\",\n",
    "    \"WBC heavyweight champion\",\n",
    "]\n",
    "sports = sorted(list(set(sports)), key=lambda x: len(x), reverse=True)\n",
    "\n",
    "sciences = [\n",
    "    \"inventor\",\n",
    "    \"medical researcher\",\n",
    "    \"conspiracy theory researcher\",\n",
    "    \"designer\",\n",
    "    \"co founder of the CSI\",\n",
    "    \"founder of the NASL\",\n",
    "    \"proponent of natural childbirth\",\n",
    "    \"naturalist\",\n",
    "    \"the physical properties of materials\",\n",
    "    \"physics Nobel prize winner\",\n",
    "    \"geophysicist\",\n",
    "    \"physicist\",\n",
    "    \"physics Nobel prize winner\",\n",
    "]\n",
    "sciences = sorted(list(set(sciences)), key=lambda x: len(x), reverse=True)\n",
    "\n",
    "business_farming = [\n",
    "    \"hotelier\",\n",
    "    \"co founder of INSEAD\",\n",
    "    \"founder of Berkley\",\n",
    "    \"co founder of Pat King of Steaks cheesesteak emporium\",\n",
    "    \"founder of R J Corman Railroad Group\",\n",
    "    \"co founder of Bing Lee superstores\",\n",
    "    \"founder of the Hyundai Group\",\n",
    "    \"co founder of Wanxiang\",\n",
    "    \"co founder of Garmin\",\n",
    "    \"founder of Biovail\",\n",
    "    \"chairman of Airways from to\",\n",
    "    \"chairman of Imasco\",\n",
    "    \"chairman of NEC\",\n",
    "    \"chairman of off price clothier SYMS\",\n",
    "    \"chairman of The Leela Palaces\",\n",
    "    \"chairman of Intel Corporation\",\n",
    "    \"chairman of The Swatch Group\",\n",
    "    \"chairman of Trident Seafoods\",\n",
    "    \"chairman of Sandals Resorts\",\n",
    "    \"chairman of Biltmore Farms\",\n",
    "    \"chairman of Banco Safra\",\n",
    "    \"chairman of Chen Hsong\",\n",
    "    \"chairman of Alltech\",\n",
    "    \"chairman of IDG\",\n",
    "    \"Santa Fe Railway\",\n",
    "]\n",
    "business_farming = sorted(\n",
    "    list(set(business_farming)), key=lambda x: len(x), reverse=True\n",
    ")\n",
    "\n",
    "academia_humanities = [\n",
    "    \"literary theorist\",\n",
    "    \"theorist\",\n",
    "    \"lexicographer\",\n",
    "    \"epigraphist\",\n",
    "    \"geographer\",\n",
    "    \"Vice Chancellor of University of Oxford\",\n",
    "    \"founder of Project Gutenberg\",\n",
    "    \"librarian\",\n",
    "    \"folklorist\",\n",
    "    \"a champion of culture\",\n",
    "    \"head of the Tamarind Institute at the University of New\",\n",
    "    \"Vice Chancellor of University of Oxford\",\n",
    "    \"chancellor of Sathyabama University\",\n",
    "    \"president of Brandeis University\",\n",
    "    \"Rector of the Central University\",\n",
    "    \"president of Emory University\",\n",
    "    \"Warden of Durham University\",\n",
    "    \"Wichita State University\",\n",
    "    \"the University of Iowa\",\n",
    "    \"Temple University\",\n",
    "    \"State University\",\n",
    "    \"Akal University\",\n",
    "]\n",
    "academia_humanities = sorted(\n",
    "    list(set(academia_humanities)), key=lambda x: len(x), reverse=True\n",
    ")\n",
    "\n",
    "law_enf_military_operator = [\n",
    "    \"cryptographer\",\n",
    "    \"Minister of National Defence\",\n",
    "    \"Defense Minister of South\",\n",
    "    \"Defense Minister\",\n",
    "    \"founder of militant organization Fatah\",\n",
    "    \"founder of the Experimental Aircraft Association\",\n",
    "    \"founder of the Police Force\",\n",
    "    \"leader of the Provisional Republican Army\",\n",
    "    \"leader of Forças Populares de Abril\",\n",
    "    \"the second highest leader of Hamas\",\n",
    "    \"former leader of PCAA\",\n",
    "    \"leader of Tehreek e Nafaz e Shariat e Mohammadi\",\n",
    "    \"son of a  who became a rebel leader\",\n",
    "    \"leader of the PFLP GC\",\n",
    "    \"paramilitary leader\",\n",
    "]\n",
    "law_enf_military_operator = sorted(\n",
    "    list(set(law_enf_military_operator)), key=lambda x: len(x), reverse=True\n",
    ")\n",
    "\n",
    "spiritual = [\n",
    "    \"Galloway\",\n",
    "    \"religious leader\",\n",
    "    \"sect leader\",\n",
    "    \"Catholic religious leader\",\n",
    "    \"ecumenical leader\",\n",
    "    \"chairman of the Bishops' Conference\",\n",
    "    \"Lismore\",\n",
    "    \"self help consultant\",\n",
    "    \"self help\",\n",
    "    \"cardinal\",\n",
    "]\n",
    "spiritual = sorted(list(set(spiritual)), key=lambda x: len(x), reverse=True)\n",
    "\n",
    "social = [\n",
    "    \"founder of Neville Fernando Teaching Hospital\",\n",
    "    \"founder of the Bandhua Mukti Morcha\",\n",
    "    \"commune founder\",\n",
    "    \"a leader in the pro  movement\",\n",
    "]\n",
    "social = sorted(list(set(social)), key=lambda x: len(x), reverse=True)\n",
    "\n",
    "crime = [\"war criminal\", \"criminal\", \"cannibal\"]\n",
    "crime = sorted(list(set(crime)), key=lambda x: len(x), reverse=True)\n",
    "\n",
    "event_record_other = []\n",
    "event_record_other = sorted(\n",
    "    list(set(event_record_other)), key=lambda x: len(x), reverse=True\n",
    ")\n",
    "\n",
    "other_species = [\n",
    "    \"the Preakness Stakes\",\n",
    "    \"Blue Grass Stakes\",\n",
    "    \"Preakness Stakes\",\n",
    "    \"Champagne Stakes\",\n",
    "]\n",
    "other_species = sorted(list(set(other_species)), key=lambda x: len(x), reverse=True)\n",
    "\n",
    "cause_of_death = [\n",
    "    \"run\",\n",
    "    \"injuries sustained in a fall\",\n",
    "    \"fall\",\n",
    "    \"subsequently found dead\",\n",
    "    \"is presumed dead\",\n",
    "]\n",
    "cause_of_death = sorted(list(set(cause_of_death)), key=lambda x: len(x), reverse=True)"
   ]
  },
  {
   "cell_type": "code",
   "execution_count": 41,
   "id": "68295387",
   "metadata": {},
   "outputs": [
    {
     "data": {
      "application/javascript": [
       "\n",
       "            setTimeout(function() {\n",
       "                var nbb_cell_id = 41;\n",
       "                var nbb_unformatted_code = \"# Dropping info_3_1 value for entry with redundant category value\\ndf.loc[\\n    df[df[\\\"link\\\"] == \\\"https://en.wikipedia.org/wiki/Jacques_Carelman\\\"].index, \\\"info_3_1\\\"\\n] = \\\"\\\"\";\n",
       "                var nbb_formatted_code = \"# Dropping info_3_1 value for entry with redundant category value\\ndf.loc[\\n    df[df[\\\"link\\\"] == \\\"https://en.wikipedia.org/wiki/Jacques_Carelman\\\"].index, \\\"info_3_1\\\"\\n] = \\\"\\\"\";\n",
       "                var nbb_cells = Jupyter.notebook.get_cells();\n",
       "                for (var i = 0; i < nbb_cells.length; ++i) {\n",
       "                    if (nbb_cells[i].input_prompt_number == nbb_cell_id) {\n",
       "                        if (nbb_cells[i].get_text() == nbb_unformatted_code) {\n",
       "                             nbb_cells[i].set_text(nbb_formatted_code);\n",
       "                        }\n",
       "                        break;\n",
       "                    }\n",
       "                }\n",
       "            }, 500);\n",
       "            "
      ],
      "text/plain": [
       "<IPython.core.display.Javascript object>"
      ]
     },
     "metadata": {},
     "output_type": "display_data"
    }
   ],
   "source": [
    "# Dropping info_3_1 value for entry with redundant category value\n",
    "df.loc[\n",
    "    df[df[\"link\"] == \"https://en.wikipedia.org/wiki/Jacques_Carelman\"].index, \"info_3_1\"\n",
    "] = \"\""
   ]
  },
  {
   "cell_type": "markdown",
   "id": "f6b62992",
   "metadata": {},
   "source": [
    "#### Creating `known_for_dict` Dictionary of Category Keys and Specific Role Lists of Values"
   ]
  },
  {
   "cell_type": "code",
   "execution_count": 42,
   "id": "d9190e48",
   "metadata": {},
   "outputs": [
    {
     "data": {
      "application/javascript": [
       "\n",
       "            setTimeout(function() {\n",
       "                var nbb_cell_id = 42;\n",
       "                var nbb_unformatted_code = \"# Combining separate lists into one dictionary\\nknown_for_dict = {\\n    \\\"social\\\": social,\\n    \\\"spiritual\\\": spiritual,\\n    \\\"academia_humanities\\\": academia_humanities,\\n    \\\"business_farming\\\": business_farming,\\n    \\\"sciences\\\": sciences,\\n    \\\"politics_govt_law\\\": politics_govt_law,\\n    \\\"law_enf_military_operator\\\": law_enf_military_operator,\\n    \\\"crime\\\": crime,\\n    \\\"event_record_other\\\": event_record_other,\\n    \\\"other_species\\\": other_species,\\n    \\\"arts\\\": arts,\\n    \\\"sports\\\": sports,\\n}\";\n",
       "                var nbb_formatted_code = \"# Combining separate lists into one dictionary\\nknown_for_dict = {\\n    \\\"social\\\": social,\\n    \\\"spiritual\\\": spiritual,\\n    \\\"academia_humanities\\\": academia_humanities,\\n    \\\"business_farming\\\": business_farming,\\n    \\\"sciences\\\": sciences,\\n    \\\"politics_govt_law\\\": politics_govt_law,\\n    \\\"law_enf_military_operator\\\": law_enf_military_operator,\\n    \\\"crime\\\": crime,\\n    \\\"event_record_other\\\": event_record_other,\\n    \\\"other_species\\\": other_species,\\n    \\\"arts\\\": arts,\\n    \\\"sports\\\": sports,\\n}\";\n",
       "                var nbb_cells = Jupyter.notebook.get_cells();\n",
       "                for (var i = 0; i < nbb_cells.length; ++i) {\n",
       "                    if (nbb_cells[i].input_prompt_number == nbb_cell_id) {\n",
       "                        if (nbb_cells[i].get_text() == nbb_unformatted_code) {\n",
       "                             nbb_cells[i].set_text(nbb_formatted_code);\n",
       "                        }\n",
       "                        break;\n",
       "                    }\n",
       "                }\n",
       "            }, 500);\n",
       "            "
      ],
      "text/plain": [
       "<IPython.core.display.Javascript object>"
      ]
     },
     "metadata": {},
     "output_type": "display_data"
    }
   ],
   "source": [
    "# Combining separate lists into one dictionary\n",
    "known_for_dict = {\n",
    "    \"social\": social,\n",
    "    \"spiritual\": spiritual,\n",
    "    \"academia_humanities\": academia_humanities,\n",
    "    \"business_farming\": business_farming,\n",
    "    \"sciences\": sciences,\n",
    "    \"politics_govt_law\": politics_govt_law,\n",
    "    \"law_enf_military_operator\": law_enf_military_operator,\n",
    "    \"crime\": crime,\n",
    "    \"event_record_other\": event_record_other,\n",
    "    \"other_species\": other_species,\n",
    "    \"arts\": arts,\n",
    "    \"sports\": sports,\n",
    "}"
   ]
  },
  {
   "cell_type": "markdown",
   "id": "a67380de",
   "metadata": {},
   "source": [
    "#### Extracting `known_for` Categories and `cause_of_death` Values from `info_3_1`"
   ]
  },
  {
   "cell_type": "code",
   "execution_count": 43,
   "id": "086958df",
   "metadata": {},
   "outputs": [
    {
     "name": "stdout",
     "output_type": "stream",
     "text": [
      "There are 25134 values in cause_of_death column.\n",
      "\n",
      "CPU times: total: 7.05 s\n",
      "Wall time: 7.06 s\n"
     ]
    },
    {
     "data": {
      "application/javascript": [
       "\n",
       "            setTimeout(function() {\n",
       "                var nbb_cell_id = 43;\n",
       "                var nbb_unformatted_code = \"%%time\\n\\n# Column to check\\ncolumn = 'info_3_1'\\n\\n# Start dataframe\\ndataframe = df[df[column].notna()]\\n\\n# For loop to find cause in column and extract it to cause_of_death\\nfor cause in cause_of_death:\\n    for index in dataframe.index:\\n        item = df.loc[index, column]\\n        if item:\\n            if cause in item:\\n                if df.loc[index, 'cause_of_death']:\\n                    df.loc[index, 'cause_of_death'] = df.loc[index, 'cause_of_death'] + '/' + cause\\n                    df.loc[index, column] = item.replace(cause, '').strip()\\n                else:\\n                    df.loc[index, 'cause_of_death'] = cause\\n                    df.loc[index, column] = item.replace(cause, '').strip()\\n                \\n                \\n# For loop to find role in column and extract it as category\\nfor category, category_lst in known_for_dict.items():\\n    for role in category_lst:\\n        for index in dataframe.index:\\n                item = df.loc[index, column]\\n                if item:\\n                    if role in item:\\n                        df.loc[index, category] = 1\\n                        df.loc[index, column] = item.replace(role, '').strip()\\n\\n# Calculating num_categories\\ndf[\\\"num_categories\\\"] = df[known_for_dict.keys()].sum(axis=1)\\n\\n# Checking number of cause_of_death values\\nprint(f'There are {df[\\\"cause_of_death\\\"].notna().sum()} values in cause_of_death column.\\\\n')\";\n",
       "                var nbb_formatted_code = \"%%time\\n\\n# Column to check\\ncolumn = 'info_3_1'\\n\\n# Start dataframe\\ndataframe = df[df[column].notna()]\\n\\n# For loop to find cause in column and extract it to cause_of_death\\nfor cause in cause_of_death:\\n    for index in dataframe.index:\\n        item = df.loc[index, column]\\n        if item:\\n            if cause in item:\\n                if df.loc[index, 'cause_of_death']:\\n                    df.loc[index, 'cause_of_death'] = df.loc[index, 'cause_of_death'] + '/' + cause\\n                    df.loc[index, column] = item.replace(cause, '').strip()\\n                else:\\n                    df.loc[index, 'cause_of_death'] = cause\\n                    df.loc[index, column] = item.replace(cause, '').strip()\\n                \\n                \\n# For loop to find role in column and extract it as category\\nfor category, category_lst in known_for_dict.items():\\n    for role in category_lst:\\n        for index in dataframe.index:\\n                item = df.loc[index, column]\\n                if item:\\n                    if role in item:\\n                        df.loc[index, category] = 1\\n                        df.loc[index, column] = item.replace(role, '').strip()\\n\\n# Calculating num_categories\\ndf[\\\"num_categories\\\"] = df[known_for_dict.keys()].sum(axis=1)\\n\\n# Checking number of cause_of_death values\\nprint(f'There are {df[\\\"cause_of_death\\\"].notna().sum()} values in cause_of_death column.\\\\n')\";\n",
       "                var nbb_cells = Jupyter.notebook.get_cells();\n",
       "                for (var i = 0; i < nbb_cells.length; ++i) {\n",
       "                    if (nbb_cells[i].input_prompt_number == nbb_cell_id) {\n",
       "                        if (nbb_cells[i].get_text() == nbb_unformatted_code) {\n",
       "                             nbb_cells[i].set_text(nbb_formatted_code);\n",
       "                        }\n",
       "                        break;\n",
       "                    }\n",
       "                }\n",
       "            }, 500);\n",
       "            "
      ],
      "text/plain": [
       "<IPython.core.display.Javascript object>"
      ]
     },
     "metadata": {},
     "output_type": "display_data"
    }
   ],
   "source": [
    "%%time\n",
    "\n",
    "# Column to check\n",
    "column = 'info_3_1'\n",
    "\n",
    "# Start dataframe\n",
    "dataframe = df[df[column].notna()]\n",
    "\n",
    "# For loop to find cause in column and extract it to cause_of_death\n",
    "for cause in cause_of_death:\n",
    "    for index in dataframe.index:\n",
    "        item = df.loc[index, column]\n",
    "        if item:\n",
    "            if cause in item:\n",
    "                if df.loc[index, 'cause_of_death']:\n",
    "                    df.loc[index, 'cause_of_death'] = df.loc[index, 'cause_of_death'] + '/' + cause\n",
    "                    df.loc[index, column] = item.replace(cause, '').strip()\n",
    "                else:\n",
    "                    df.loc[index, 'cause_of_death'] = cause\n",
    "                    df.loc[index, column] = item.replace(cause, '').strip()\n",
    "                \n",
    "                \n",
    "# For loop to find role in column and extract it as category\n",
    "for category, category_lst in known_for_dict.items():\n",
    "    for role in category_lst:\n",
    "        for index in dataframe.index:\n",
    "                item = df.loc[index, column]\n",
    "                if item:\n",
    "                    if role in item:\n",
    "                        df.loc[index, category] = 1\n",
    "                        df.loc[index, column] = item.replace(role, '').strip()\n",
    "\n",
    "# Calculating num_categories\n",
    "df[\"num_categories\"] = df[known_for_dict.keys()].sum(axis=1)\n",
    "\n",
    "# Checking number of cause_of_death values\n",
    "print(f'There are {df[\"cause_of_death\"].notna().sum()} values in cause_of_death column.\\n')"
   ]
  },
  {
   "cell_type": "markdown",
   "id": "e2c66141",
   "metadata": {},
   "source": [
    "#### Checking Updated `num_categories` Value Counts"
   ]
  },
  {
   "cell_type": "code",
   "execution_count": 44,
   "id": "adbb4bf5",
   "metadata": {},
   "outputs": [
    {
     "data": {
      "text/plain": [
       "1    84647\n",
       "2    12623\n",
       "3      755\n",
       "0        8\n",
       "4        7\n",
       "Name: num_categories, dtype: int64"
      ]
     },
     "execution_count": 44,
     "metadata": {},
     "output_type": "execute_result"
    },
    {
     "data": {
      "application/javascript": [
       "\n",
       "            setTimeout(function() {\n",
       "                var nbb_cell_id = 44;\n",
       "                var nbb_unformatted_code = \"# Checking Updated num_categories Value Counts\\ndf[\\\"num_categories\\\"].value_counts()\";\n",
       "                var nbb_formatted_code = \"# Checking Updated num_categories Value Counts\\ndf[\\\"num_categories\\\"].value_counts()\";\n",
       "                var nbb_cells = Jupyter.notebook.get_cells();\n",
       "                for (var i = 0; i < nbb_cells.length; ++i) {\n",
       "                    if (nbb_cells[i].input_prompt_number == nbb_cell_id) {\n",
       "                        if (nbb_cells[i].get_text() == nbb_unformatted_code) {\n",
       "                             nbb_cells[i].set_text(nbb_formatted_code);\n",
       "                        }\n",
       "                        break;\n",
       "                    }\n",
       "                }\n",
       "            }, 500);\n",
       "            "
      ],
      "text/plain": [
       "<IPython.core.display.Javascript object>"
      ]
     },
     "metadata": {},
     "output_type": "display_data"
    }
   ],
   "source": [
    "# Checking Updated num_categories Value Counts\n",
    "df[\"num_categories\"].value_counts()"
   ]
  },
  {
   "cell_type": "markdown",
   "id": "ddcb5efd",
   "metadata": {},
   "source": [
    "#### Observations:\n",
    "- We will proceed to rebuild `known_for_dict` and `cause_of_death` for the next iteration."
   ]
  },
  {
   "cell_type": "markdown",
   "id": "d3ec3f87",
   "metadata": {},
   "source": [
    "#### Finding `known_for` Roles and `cause_of_death` in `info_3_1`"
   ]
  },
  {
   "cell_type": "code",
   "execution_count": 45,
   "id": "07bdf3bb",
   "metadata": {},
   "outputs": [
    {
     "data": {
      "application/javascript": [
       "\n",
       "            setTimeout(function() {\n",
       "                var nbb_cell_id = 45;\n",
       "                var nbb_unformatted_code = \"# # Obtaining values for column and their counts\\n# roles_cause_list = df[\\\"info_3_1\\\"].value_counts(ascending=True).index.tolist()\";\n",
       "                var nbb_formatted_code = \"# # Obtaining values for column and their counts\\n# roles_cause_list = df[\\\"info_3_1\\\"].value_counts(ascending=True).index.tolist()\";\n",
       "                var nbb_cells = Jupyter.notebook.get_cells();\n",
       "                for (var i = 0; i < nbb_cells.length; ++i) {\n",
       "                    if (nbb_cells[i].input_prompt_number == nbb_cell_id) {\n",
       "                        if (nbb_cells[i].get_text() == nbb_unformatted_code) {\n",
       "                             nbb_cells[i].set_text(nbb_formatted_code);\n",
       "                        }\n",
       "                        break;\n",
       "                    }\n",
       "                }\n",
       "            }, 500);\n",
       "            "
      ],
      "text/plain": [
       "<IPython.core.display.Javascript object>"
      ]
     },
     "metadata": {},
     "output_type": "display_data"
    }
   ],
   "source": [
    "# # Obtaining values for column and their counts\n",
    "# roles_cause_list = df[\"info_3_1\"].value_counts(ascending=True).index.tolist()"
   ]
  },
  {
   "cell_type": "code",
   "execution_count": 46,
   "id": "29f72024",
   "metadata": {},
   "outputs": [
    {
     "data": {
      "application/javascript": [
       "\n",
       "            setTimeout(function() {\n",
       "                var nbb_cell_id = 46;\n",
       "                var nbb_unformatted_code = \"# # Code to check each value\\n# roles_cause_list.pop()\";\n",
       "                var nbb_formatted_code = \"# # Code to check each value\\n# roles_cause_list.pop()\";\n",
       "                var nbb_cells = Jupyter.notebook.get_cells();\n",
       "                for (var i = 0; i < nbb_cells.length; ++i) {\n",
       "                    if (nbb_cells[i].input_prompt_number == nbb_cell_id) {\n",
       "                        if (nbb_cells[i].get_text() == nbb_unformatted_code) {\n",
       "                             nbb_cells[i].set_text(nbb_formatted_code);\n",
       "                        }\n",
       "                        break;\n",
       "                    }\n",
       "                }\n",
       "            }, 500);\n",
       "            "
      ],
      "text/plain": [
       "<IPython.core.display.Javascript object>"
      ]
     },
     "metadata": {},
     "output_type": "display_data"
    }
   ],
   "source": [
    "# # Code to check each value\n",
    "# roles_cause_list.pop()"
   ]
  },
  {
   "cell_type": "code",
   "execution_count": 47,
   "id": "0dde7366",
   "metadata": {},
   "outputs": [
    {
     "data": {
      "application/javascript": [
       "\n",
       "            setTimeout(function() {\n",
       "                var nbb_cell_id = 47;\n",
       "                var nbb_unformatted_code = \"# # Create specific_roles_cause_list for above popped value\\n# specific_roles_cause_list = (\\n#     df.loc[\\n#         [\\n#             index\\n#             for index in df[df[\\\"info_3_1\\\"].notna()].index\\n#             if \\\"mixed doubles\\\" in df.loc[index, \\\"info_3_1\\\"]\\n#             #             and df.loc[index, \\\"politics_govt_law\\\"] == 0\\n#             #             and df.loc[index, \\\"arts\\\"] == 0\\n#             #             and df.loc[index, \\\"sciences\\\"] == 0\\n#             #             and df.loc[index, \\\"spiritual\\\"] == 0\\n#             #             and df.loc[index, \\\"law_enf_military_operator\\\"] == 0\\n#             #             and df.loc[index, \\\"sports\\\"] == 0\\n#             #             and df.loc[index, \\\"event_record_other\\\"] == 0\\n#             #             and df.loc[index, \\\"crime\\\"] == 0\\n#             #             and df.loc[index, \\\"academia_humanities\\\"] == 0\\n#             #             and df.loc[index, \\\"business_farming\\\"] == 0\\n#             #                         and df.loc[index, \\\"other_species\\\"] == 0\\n#             #             and df.loc[index, \\\"num_categories\\\"] == 0\\n#         ],\\n#         \\\"info_3_1\\\",\\n#     ]\\n#     .value_counts()\\n#     .index.tolist()\\n# )\";\n",
       "                var nbb_formatted_code = \"# # Create specific_roles_cause_list for above popped value\\n# specific_roles_cause_list = (\\n#     df.loc[\\n#         [\\n#             index\\n#             for index in df[df[\\\"info_3_1\\\"].notna()].index\\n#             if \\\"mixed doubles\\\" in df.loc[index, \\\"info_3_1\\\"]\\n#             #             and df.loc[index, \\\"politics_govt_law\\\"] == 0\\n#             #             and df.loc[index, \\\"arts\\\"] == 0\\n#             #             and df.loc[index, \\\"sciences\\\"] == 0\\n#             #             and df.loc[index, \\\"spiritual\\\"] == 0\\n#             #             and df.loc[index, \\\"law_enf_military_operator\\\"] == 0\\n#             #             and df.loc[index, \\\"sports\\\"] == 0\\n#             #             and df.loc[index, \\\"event_record_other\\\"] == 0\\n#             #             and df.loc[index, \\\"crime\\\"] == 0\\n#             #             and df.loc[index, \\\"academia_humanities\\\"] == 0\\n#             #             and df.loc[index, \\\"business_farming\\\"] == 0\\n#             #                         and df.loc[index, \\\"other_species\\\"] == 0\\n#             #             and df.loc[index, \\\"num_categories\\\"] == 0\\n#         ],\\n#         \\\"info_3_1\\\",\\n#     ]\\n#     .value_counts()\\n#     .index.tolist()\\n# )\";\n",
       "                var nbb_cells = Jupyter.notebook.get_cells();\n",
       "                for (var i = 0; i < nbb_cells.length; ++i) {\n",
       "                    if (nbb_cells[i].input_prompt_number == nbb_cell_id) {\n",
       "                        if (nbb_cells[i].get_text() == nbb_unformatted_code) {\n",
       "                             nbb_cells[i].set_text(nbb_formatted_code);\n",
       "                        }\n",
       "                        break;\n",
       "                    }\n",
       "                }\n",
       "            }, 500);\n",
       "            "
      ],
      "text/plain": [
       "<IPython.core.display.Javascript object>"
      ]
     },
     "metadata": {},
     "output_type": "display_data"
    }
   ],
   "source": [
    "# # Create specific_roles_cause_list for above popped value\n",
    "# specific_roles_cause_list = (\n",
    "#     df.loc[\n",
    "#         [\n",
    "#             index\n",
    "#             for index in df[df[\"info_3_1\"].notna()].index\n",
    "#             if \"mixed doubles\" in df.loc[index, \"info_3_1\"]\n",
    "#             #             and df.loc[index, \"politics_govt_law\"] == 0\n",
    "#             #             and df.loc[index, \"arts\"] == 0\n",
    "#             #             and df.loc[index, \"sciences\"] == 0\n",
    "#             #             and df.loc[index, \"spiritual\"] == 0\n",
    "#             #             and df.loc[index, \"law_enf_military_operator\"] == 0\n",
    "#             #             and df.loc[index, \"sports\"] == 0\n",
    "#             #             and df.loc[index, \"event_record_other\"] == 0\n",
    "#             #             and df.loc[index, \"crime\"] == 0\n",
    "#             #             and df.loc[index, \"academia_humanities\"] == 0\n",
    "#             #             and df.loc[index, \"business_farming\"] == 0\n",
    "#             #                         and df.loc[index, \"other_species\"] == 0\n",
    "#             #             and df.loc[index, \"num_categories\"] == 0\n",
    "#         ],\n",
    "#         \"info_3_1\",\n",
    "#     ]\n",
    "#     .value_counts()\n",
    "#     .index.tolist()\n",
    "# )"
   ]
  },
  {
   "cell_type": "code",
   "execution_count": 48,
   "id": "a9cdf48d",
   "metadata": {},
   "outputs": [
    {
     "data": {
      "application/javascript": [
       "\n",
       "            setTimeout(function() {\n",
       "                var nbb_cell_id = 48;\n",
       "                var nbb_unformatted_code = \"# # Viewing list sorted by descending length to copy to dictionary below and screen values\\n# sorted(specific_roles_cause_list, key=lambda x: len(x), reverse=True)\";\n",
       "                var nbb_formatted_code = \"# # Viewing list sorted by descending length to copy to dictionary below and screen values\\n# sorted(specific_roles_cause_list, key=lambda x: len(x), reverse=True)\";\n",
       "                var nbb_cells = Jupyter.notebook.get_cells();\n",
       "                for (var i = 0; i < nbb_cells.length; ++i) {\n",
       "                    if (nbb_cells[i].input_prompt_number == nbb_cell_id) {\n",
       "                        if (nbb_cells[i].get_text() == nbb_unformatted_code) {\n",
       "                             nbb_cells[i].set_text(nbb_formatted_code);\n",
       "                        }\n",
       "                        break;\n",
       "                    }\n",
       "                }\n",
       "            }, 500);\n",
       "            "
      ],
      "text/plain": [
       "<IPython.core.display.Javascript object>"
      ]
     },
     "metadata": {},
     "output_type": "display_data"
    }
   ],
   "source": [
    "# # Viewing list sorted by descending length to copy to dictionary below and screen values\n",
    "# sorted(specific_roles_cause_list, key=lambda x: len(x), reverse=True)"
   ]
  },
  {
   "cell_type": "code",
   "execution_count": 49,
   "id": "59ad6a83",
   "metadata": {},
   "outputs": [
    {
     "data": {
      "application/javascript": [
       "\n",
       "            setTimeout(function() {\n",
       "                var nbb_cell_id = 49;\n",
       "                var nbb_unformatted_code = \"# # Example code to quick-check a specific entry\\n# df[df[\\\"info_3_1\\\"] == \\\"mixed doubles\\\"]\";\n",
       "                var nbb_formatted_code = \"# # Example code to quick-check a specific entry\\n# df[df[\\\"info_3_1\\\"] == \\\"mixed doubles\\\"]\";\n",
       "                var nbb_cells = Jupyter.notebook.get_cells();\n",
       "                for (var i = 0; i < nbb_cells.length; ++i) {\n",
       "                    if (nbb_cells[i].input_prompt_number == nbb_cell_id) {\n",
       "                        if (nbb_cells[i].get_text() == nbb_unformatted_code) {\n",
       "                             nbb_cells[i].set_text(nbb_formatted_code);\n",
       "                        }\n",
       "                        break;\n",
       "                    }\n",
       "                }\n",
       "            }, 500);\n",
       "            "
      ],
      "text/plain": [
       "<IPython.core.display.Javascript object>"
      ]
     },
     "metadata": {},
     "output_type": "display_data"
    }
   ],
   "source": [
    "# # Example code to quick-check a specific entry\n",
    "# df[df[\"info_3_1\"] == \"mixed doubles\"]"
   ]
  },
  {
   "cell_type": "markdown",
   "id": "5a8eb8fd",
   "metadata": {},
   "source": [
    "#### Creating Lists for Each `known_for` Category and for `cause_of_death`"
   ]
  },
  {
   "cell_type": "code",
   "execution_count": 50,
   "id": "8ee6ee68",
   "metadata": {},
   "outputs": [
    {
     "data": {
      "application/javascript": [
       "\n",
       "            setTimeout(function() {\n",
       "                var nbb_cell_id = 50;\n",
       "                var nbb_unformatted_code = \"# Creating lists for each category and sorting by decreasing length and removing duplicates\\n\\npolitics_govt_law = [\\n    \\\"Vice President\\\",\\n    \\\"first president of the Republic of Northern\\\",\\n    \\\"president of the Chamber of Deputies\\\",\\n    \\\"president of the Democratic Union\\\",\\n    \\\"son of president Hafez al Assad\\\",\\n    \\\"an advisor to several presidents\\\",\\n    \\\"Gerakan Party founding president\\\",\\n    \\\"president of Johnny & Associates\\\",\\n    \\\"president of Research Council\\\",\\n    \\\"founding member of Amnesty International\\\",\\n    \\\"member of the Assembly of Experts\\\",\\n    \\\"Legislative Assembly member\\\",\\n    \\\"member of Parliament\\\",\\n    \\\"member of the CAE\\\",\\n    \\\"cabinet member\\\",\\n    \\\"military junta member\\\",\\n    \\\"lesbian policy\\\",\\n    \\\"employment\\\",\\n    \\\"conscription\\\",\\n    \\\"Pro President of City State\\\",\\n    \\\"President of Biafra\\\",\\n    \\\"Guidance Department of the Workers' Party of Korea\\\",\\n    \\\"last Socialist Party of mayor of a major city\\\",\\n    \\\"Communist Party Chief of Henan province\\\",\\n    \\\"the Earth Party\\\",\\n    \\\"Freedoms Party\\\",\\n    \\\"Life Party\\\",\\n    \\\"neo\\\",\\n    \\\"Mid Kent\\\",\\n    \\\"government co minister in the internal settlement government of\\\",\\n    \\\"minister in the Whitlam government\\\",\\n    \\\"advisor to two prime ministers\\\",\\n    \\\"twice minister of the interior\\\",\\n    \\\"twice deputy prime minister\\\",\\n    \\\"former foreign minister\\\",\\n    \\\"minister of Education\\\",\\n    \\\"deputy prime minister\\\",\\n    \\\"foreign minister of\\\",\\n    \\\"government minister\\\",\\n    \\\"cabinet minister\\\",\\n    \\\"Central Fife\\\",\\n    \\\"expert of affairs\\\",\\n    \\\"founding member of Amnesty International\\\",\\n    \\\"AM\\\",\\n    \\\"last Socialist Party of mayor of a major city\\\",\\n    \\\"former mayor of Bay City\\\",\\n    \\\"press secretary for Ronald Reagan\\\",\\n    \\\"under secretary of the Congregation for the Evangelization of Peoples\\\",\\n    \\\"secretary in charge of nuclear weapons\\\",\\n    \\\"personal secretary of Saddam Hussein\\\",\\n    \\\"conscientious objector\\\",\\n    \\\"first president of the Republic of Northern\\\",\\n    \\\"jurist\\\",\\n    \\\"Leader Of Islami Shashontantra Andolan\\\",\\n    \\\"supervisor of elections\\\",\\n    \\\"Commerce\\\",\\n    \\\"Guidance Department of the Workers' Party of Korea\\\",\\n    \\\"last Nawab of Pataudi\\\",\\n    \\\"Apostolic Nuncio to the\\\",\\n]\\npolitics_govt_law = sorted(\\n    list(set(politics_govt_law)), key=lambda x: len(x), reverse=True\\n)\\n\\narts = [\\n    \\\"acting\\\",\\n    \\\"Frances Dee\\\",\\n    \\\"member of the Rock Steady Crew\\\",\\n    \\\"Billie Burke\\\",\\n    \\\"popularizer of the Chicken Dance\\\",\\n    \\\"Life President of the Sydney International Piano Competition\\\",\\n    \\\"draughtswoman\\\",\\n    \\\"CEO of Warner Bros Records\\\",\\n    \\\"CEO of Ruth Eckerd Hall\\\",\\n    \\\"CEO of EMI Worldwide\\\",\\n    \\\"CEO of Off White\\\",\\n    \\\"CEO of Fox News\\\",\\n    \\\"CEO of NBC\\\",\\n    \\\"Tony Orlando\\\",\\n    \\\"John Coltrane\\\",\\n    \\\"creator of Sudoku\\\",\\n    \\\"chef who worked as Michael Barry\\\",\\n    \\\"master chef\\\",\\n    \\\"chef\\\",\\n    \\\"blues saxophonist\\\",\\n    \\\"saxophonist\\\",\\n    \\\"Helene Weigel\\\",\\n    \\\"nightclub owner\\\",\\n    \\\"gallery owner\\\",\\n    \\\"club owner\\\",\\n    \\\"librettist\\\",\\n    \\\"Larbey\\\",\\n    \\\"caricaturist\\\",\\n    \\\"WABC TV anchorman\\\",\\n    \\\"news anchor\\\",\\n    \\\"Warner Bros shorts from his tenure at\\\",\\n    \\\"the Daleks\\\",\\n    'David Letterman sidekick known as Larry \\\"Bud\\\" Melman',\\n    \\\"dancing partner of Buddy Ebsen\\\",\\n    'Bows\\\"',\\n    \\\"Wood Quay\\\",\\n    \\\"illustrated\\\",\\n    \\\"arts patron\\\",\\n    \\\"horticulturalist\\\",\\n    \\\"horticulturist\\\",\\n    \\\"proponent of Odissi dance\\\",\\n    \\\"dance\\\",\\n]\\narts = sorted(list(set(arts)), key=lambda x: len(x), reverse=True)\\n\\nsports = [\\n    \\\"player\\\",\\n    \\\"president of the Lancashire County Cricket Club\\\",\\n    \\\"President of Cricket\\\",\\n    \\\"ARU president\\\",\\n    \\\"member of the IOC\\\",\\n    \\\"former WRU President\\\",\\n    \\\"Timberwolves\\\",\\n    \\\"owner breeder of thoroughbred race horses\\\",\\n    \\\"former owner of Baseball Astros\\\",\\n    \\\"owner of the Toronto Blue Jays\\\",\\n    \\\"owner of the Buffalo Sabres\\\",\\n    \\\"owner of San Antonio Spurs\\\",\\n    \\\"football franchise owner\\\",\\n    \\\"sports franchise owner\\\",\\n    \\\"football team owner\\\",\\n    \\\"sports team owner\\\",\\n    \\\"racehorse owner\\\",\\n    \\\"horse owner\\\",\\n    \\\"team owner\\\",\\n    \\\"Grand Prix race car driver\\\",\\n    \\\"race car driver\\\",\\n    \\\"helped found Wrestling\\\",\\n    \\\"rugby league\\\",\\n    \\\"Detroit Tigers between and\\\",\\n    \\\"cricket for\\\",\\n    \\\"cricketer\\\",\\n    \\\"Leigh\\\",\\n    \\\"cc World Championships\\\",\\n    \\\"golfer\\\",\\n    \\\"named Lake Vostok\\\",\\n    \\\"mixed doubles\\\",\\n]\\nsports = sorted(list(set(sports)), key=lambda x: len(x), reverse=True)\\n\\nsciences = [\\n    \\\"researcher\\\",\\n    \\\"engineer\\\",\\n    \\\"president of NASSCOM\\\",\\n    \\\"discoverer of LSD\\\",\\n    \\\"Yngling class\\\",\\n    \\\"Nobel prize laureate\\\",\\n    \\\"Nobel laureate\\\",\\n    \\\"Ted Hughes\\\",\\n    \\\"Production Space Center\\\",\\n    \\\"principal investigator for STIS on the Hubble Space Telescope\\\",\\n    \\\"the Marshall Space Flight Center\\\",\\n    \\\"Life breakfast cereals\\\",\\n    \\\"moths\\\",\\n    \\\"processes\\\",\\n    \\\"the term AI\\\",\\n    \\\"the Unix operating system\\\",\\n]\\nsciences = sorted(list(set(sciences)), key=lambda x: len(x), reverse=True)\\n\\nbusiness_farming = [\\n    \\\"retailer\\\",\\n    \\\"President of Jer\\u00f3nimo Martins\\\",\\n    \\\"CEO of MVM Group\\\",\\n    \\\"former CEO of Wegmans Food Markets\\\",\\n    \\\"CEO of Scholastic Corporation\\\",\\n    \\\"CEO of Marriott International\\\",\\n    \\\"CEO of the Ford Motor Company\\\",\\n    \\\"CEO of Pacific Lumber Company\\\",\\n    \\\"CEO of International Group\\\",\\n    \\\"CEO of the Ford Foundation\\\",\\n    \\\"CEO of Braun Corporation\\\",\\n    \\\"CEO of Drummond Company\\\",\\n    \\\"CEO of Alaska Airlines\\\",\\n    \\\"CEO of Ashland Oil Inc\\\",\\n    \\\"CEO of General Motors\\\",\\n    \\\"CEO of ZeniMax Media\\\",\\n    \\\"CEO of Merrill Lynch\\\",\\n    \\\"CEO of Bear Stearns\\\",\\n    \\\"CEO of ITC Limited\\\",\\n    \\\"CEO of Jaguar Cars\\\",\\n    \\\"CEO of Paul Stuart\\\",\\n    \\\"CEO of Roadhouse\\\",\\n    \\\"CEO of Starbucks\\\",\\n    \\\"CEO of Trafigura\\\",\\n    \\\"CEO of Cintas\\\",\\n    \\\"CEO of Qualys\\\",\\n    \\\"CEO of Amtrak\\\",\\n    \\\"CEO of Vitol\\\",\\n    \\\"CEO of Atari\\\",\\n    \\\"CEO of Sony\\\",\\n    \\\"CEO of AOL\\\",\\n    \\\"CEO of IBM\\\",\\n    \\\"pioneer of low cost airlines\\\",\\n    \\\"owner of Parma Calcio\\\",\\n    \\\"owner of Tut By\\\",\\n    \\\"Anna Nicole Smith stepson\\\",\\n]\\nbusiness_farming = sorted(\\n    list(set(business_farming)), key=lambda x: len(x), reverse=True\\n)\\n\\nacademia_humanities = [\\n    \\\"preservationist\\\",\\n    \\\"president of the Union Nationale Inter universitaire\\\",\\n    \\\"president of multiple colleges\\\",\\n    \\\"the genetic classification of languages\\\",\\n    \\\"Chancellor of UC Berkeley\\\",\\n    \\\"chair of the Wordsworth Trust\\\",\\n    \\\"contributor to the Auschwitz Protocol\\\",\\n    \\\"Women Studies pioneer\\\",\\n    \\\"supporter of Esperanto\\\",\\n    \\\"archivist\\\",\\n]\\nacademia_humanities = sorted(\\n    list(set(academia_humanities)), key=lambda x: len(x), reverse=True\\n)\\n\\nlaw_enf_military_operator = [\\n    \\\"resistance member during World War II\\\",\\n    \\\"member of the Joint Chiefs of Staff\\\",\\n    \\\"Order of recipient\\\",\\n    \\\"knight of the Military Order of William\\\",\\n    \\\"noted PoW\\\",\\n    \\\"defence minister\\\",\\n    \\\"WRAF\\\",\\n    \\\"pilot of the world smallest jet\\\",\\n    \\\"defence secretary of\\\",\\n    \\\"Aviation\\\",\\n    \\\"Cornwall Constabulary\\\",\\n]\\nlaw_enf_military_operator = sorted(\\n    list(set(law_enf_military_operator)), key=lambda x: len(x), reverse=True\\n)\\n\\nspiritual = [\\n    \\\"two term president of the Southern Baptist Convention from to\\\",\\n    \\\"Humanistic Judaism movement\\\",\\n    \\\"Grand Master of the Sovereign Military Order of\\\",\\n    \\\"Baptist minister\\\",\\n    \\\"fundamentalist Christian minister\\\",\\n    \\\"baptist minister\\\",\\n    \\\"the Gulf\\\",\\n]\\nspiritual = sorted(list(set(spiritual)), key=lambda x: len(x), reverse=True)\\n\\nsocial = [\\n    \\\"founding member of World Wide Fund for Nature\\\",\\n]\\nsocial = sorted(list(set(social)), key=lambda x: len(x), reverse=True)\\n\\ncrime = []\\ncrime = sorted(list(set(crime)), key=lambda x: len(x), reverse=True)\\n\\nevent_record_other = [\\\"world second oldest living person\\\"]\\nevent_record_other = sorted(\\n    list(set(event_record_other)), key=lambda x: len(x), reverse=True\\n)\\n\\nother_species = [\\\"Hurricane Katrina\\\", \\\"Preakness winner\\\"]\\nother_species = sorted(list(set(other_species)), key=lambda x: len(x), reverse=True)\\n\\ncause_of_death = [\\n    \\\"stomach aneurysm\\\",\\n    \\\"lymphoma\\\",\\n    \\\"melanoma\\\",\\n    \\\"coma\\\",\\n    \\\"anti depressants\\\",\\n    \\\"stomach aneurysm\\\",\\n    \\\"rupture of the pancreas\\\",\\n    \\\"injuries from a car accident\\\",\\n    \\\"neck injuries\\\",\\n    \\\"killed at a midnight Christmas Mass\\\",\\n    \\\"killed during the Second Intifada\\\",\\n    \\\"killed in\\\",\\n    \\\"scleroderma\\\",\\n    \\\"septic shock\\\",\\n    \\\"complications from Alzheimer\\\",\\n    \\\"drug related complications\\\",\\n    \\\"respiratory complications\\\",\\n    \\\"complications from\\\",\\n    \\\"hypothermia\\\",\\n    \\\"torture\\\",\\n    \\\"benzodiazepine intoxication\\\",\\n    \\\"alcohol intoxication\\\",\\n    \\\"drug intoxication\\\",\\n    \\\"blood clots\\\",\\n    \\\"pulmonary hemorrhage\\\",\\n    \\\"brain hemorrhage\\\",\\n    \\\"ran over\\\",\\n]\\ncause_of_death = sorted(list(set(cause_of_death)), key=lambda x: len(x), reverse=True)\";\n",
       "                var nbb_formatted_code = \"# Creating lists for each category and sorting by decreasing length and removing duplicates\\n\\npolitics_govt_law = [\\n    \\\"Vice President\\\",\\n    \\\"first president of the Republic of Northern\\\",\\n    \\\"president of the Chamber of Deputies\\\",\\n    \\\"president of the Democratic Union\\\",\\n    \\\"son of president Hafez al Assad\\\",\\n    \\\"an advisor to several presidents\\\",\\n    \\\"Gerakan Party founding president\\\",\\n    \\\"president of Johnny & Associates\\\",\\n    \\\"president of Research Council\\\",\\n    \\\"founding member of Amnesty International\\\",\\n    \\\"member of the Assembly of Experts\\\",\\n    \\\"Legislative Assembly member\\\",\\n    \\\"member of Parliament\\\",\\n    \\\"member of the CAE\\\",\\n    \\\"cabinet member\\\",\\n    \\\"military junta member\\\",\\n    \\\"lesbian policy\\\",\\n    \\\"employment\\\",\\n    \\\"conscription\\\",\\n    \\\"Pro President of City State\\\",\\n    \\\"President of Biafra\\\",\\n    \\\"Guidance Department of the Workers' Party of Korea\\\",\\n    \\\"last Socialist Party of mayor of a major city\\\",\\n    \\\"Communist Party Chief of Henan province\\\",\\n    \\\"the Earth Party\\\",\\n    \\\"Freedoms Party\\\",\\n    \\\"Life Party\\\",\\n    \\\"neo\\\",\\n    \\\"Mid Kent\\\",\\n    \\\"government co minister in the internal settlement government of\\\",\\n    \\\"minister in the Whitlam government\\\",\\n    \\\"advisor to two prime ministers\\\",\\n    \\\"twice minister of the interior\\\",\\n    \\\"twice deputy prime minister\\\",\\n    \\\"former foreign minister\\\",\\n    \\\"minister of Education\\\",\\n    \\\"deputy prime minister\\\",\\n    \\\"foreign minister of\\\",\\n    \\\"government minister\\\",\\n    \\\"cabinet minister\\\",\\n    \\\"Central Fife\\\",\\n    \\\"expert of affairs\\\",\\n    \\\"founding member of Amnesty International\\\",\\n    \\\"AM\\\",\\n    \\\"last Socialist Party of mayor of a major city\\\",\\n    \\\"former mayor of Bay City\\\",\\n    \\\"press secretary for Ronald Reagan\\\",\\n    \\\"under secretary of the Congregation for the Evangelization of Peoples\\\",\\n    \\\"secretary in charge of nuclear weapons\\\",\\n    \\\"personal secretary of Saddam Hussein\\\",\\n    \\\"conscientious objector\\\",\\n    \\\"first president of the Republic of Northern\\\",\\n    \\\"jurist\\\",\\n    \\\"Leader Of Islami Shashontantra Andolan\\\",\\n    \\\"supervisor of elections\\\",\\n    \\\"Commerce\\\",\\n    \\\"Guidance Department of the Workers' Party of Korea\\\",\\n    \\\"last Nawab of Pataudi\\\",\\n    \\\"Apostolic Nuncio to the\\\",\\n]\\npolitics_govt_law = sorted(\\n    list(set(politics_govt_law)), key=lambda x: len(x), reverse=True\\n)\\n\\narts = [\\n    \\\"acting\\\",\\n    \\\"Frances Dee\\\",\\n    \\\"member of the Rock Steady Crew\\\",\\n    \\\"Billie Burke\\\",\\n    \\\"popularizer of the Chicken Dance\\\",\\n    \\\"Life President of the Sydney International Piano Competition\\\",\\n    \\\"draughtswoman\\\",\\n    \\\"CEO of Warner Bros Records\\\",\\n    \\\"CEO of Ruth Eckerd Hall\\\",\\n    \\\"CEO of EMI Worldwide\\\",\\n    \\\"CEO of Off White\\\",\\n    \\\"CEO of Fox News\\\",\\n    \\\"CEO of NBC\\\",\\n    \\\"Tony Orlando\\\",\\n    \\\"John Coltrane\\\",\\n    \\\"creator of Sudoku\\\",\\n    \\\"chef who worked as Michael Barry\\\",\\n    \\\"master chef\\\",\\n    \\\"chef\\\",\\n    \\\"blues saxophonist\\\",\\n    \\\"saxophonist\\\",\\n    \\\"Helene Weigel\\\",\\n    \\\"nightclub owner\\\",\\n    \\\"gallery owner\\\",\\n    \\\"club owner\\\",\\n    \\\"librettist\\\",\\n    \\\"Larbey\\\",\\n    \\\"caricaturist\\\",\\n    \\\"WABC TV anchorman\\\",\\n    \\\"news anchor\\\",\\n    \\\"Warner Bros shorts from his tenure at\\\",\\n    \\\"the Daleks\\\",\\n    'David Letterman sidekick known as Larry \\\"Bud\\\" Melman',\\n    \\\"dancing partner of Buddy Ebsen\\\",\\n    'Bows\\\"',\\n    \\\"Wood Quay\\\",\\n    \\\"illustrated\\\",\\n    \\\"arts patron\\\",\\n    \\\"horticulturalist\\\",\\n    \\\"horticulturist\\\",\\n    \\\"proponent of Odissi dance\\\",\\n    \\\"dance\\\",\\n]\\narts = sorted(list(set(arts)), key=lambda x: len(x), reverse=True)\\n\\nsports = [\\n    \\\"player\\\",\\n    \\\"president of the Lancashire County Cricket Club\\\",\\n    \\\"President of Cricket\\\",\\n    \\\"ARU president\\\",\\n    \\\"member of the IOC\\\",\\n    \\\"former WRU President\\\",\\n    \\\"Timberwolves\\\",\\n    \\\"owner breeder of thoroughbred race horses\\\",\\n    \\\"former owner of Baseball Astros\\\",\\n    \\\"owner of the Toronto Blue Jays\\\",\\n    \\\"owner of the Buffalo Sabres\\\",\\n    \\\"owner of San Antonio Spurs\\\",\\n    \\\"football franchise owner\\\",\\n    \\\"sports franchise owner\\\",\\n    \\\"football team owner\\\",\\n    \\\"sports team owner\\\",\\n    \\\"racehorse owner\\\",\\n    \\\"horse owner\\\",\\n    \\\"team owner\\\",\\n    \\\"Grand Prix race car driver\\\",\\n    \\\"race car driver\\\",\\n    \\\"helped found Wrestling\\\",\\n    \\\"rugby league\\\",\\n    \\\"Detroit Tigers between and\\\",\\n    \\\"cricket for\\\",\\n    \\\"cricketer\\\",\\n    \\\"Leigh\\\",\\n    \\\"cc World Championships\\\",\\n    \\\"golfer\\\",\\n    \\\"named Lake Vostok\\\",\\n    \\\"mixed doubles\\\",\\n]\\nsports = sorted(list(set(sports)), key=lambda x: len(x), reverse=True)\\n\\nsciences = [\\n    \\\"researcher\\\",\\n    \\\"engineer\\\",\\n    \\\"president of NASSCOM\\\",\\n    \\\"discoverer of LSD\\\",\\n    \\\"Yngling class\\\",\\n    \\\"Nobel prize laureate\\\",\\n    \\\"Nobel laureate\\\",\\n    \\\"Ted Hughes\\\",\\n    \\\"Production Space Center\\\",\\n    \\\"principal investigator for STIS on the Hubble Space Telescope\\\",\\n    \\\"the Marshall Space Flight Center\\\",\\n    \\\"Life breakfast cereals\\\",\\n    \\\"moths\\\",\\n    \\\"processes\\\",\\n    \\\"the term AI\\\",\\n    \\\"the Unix operating system\\\",\\n]\\nsciences = sorted(list(set(sciences)), key=lambda x: len(x), reverse=True)\\n\\nbusiness_farming = [\\n    \\\"retailer\\\",\\n    \\\"President of Jer\\u00f3nimo Martins\\\",\\n    \\\"CEO of MVM Group\\\",\\n    \\\"former CEO of Wegmans Food Markets\\\",\\n    \\\"CEO of Scholastic Corporation\\\",\\n    \\\"CEO of Marriott International\\\",\\n    \\\"CEO of the Ford Motor Company\\\",\\n    \\\"CEO of Pacific Lumber Company\\\",\\n    \\\"CEO of International Group\\\",\\n    \\\"CEO of the Ford Foundation\\\",\\n    \\\"CEO of Braun Corporation\\\",\\n    \\\"CEO of Drummond Company\\\",\\n    \\\"CEO of Alaska Airlines\\\",\\n    \\\"CEO of Ashland Oil Inc\\\",\\n    \\\"CEO of General Motors\\\",\\n    \\\"CEO of ZeniMax Media\\\",\\n    \\\"CEO of Merrill Lynch\\\",\\n    \\\"CEO of Bear Stearns\\\",\\n    \\\"CEO of ITC Limited\\\",\\n    \\\"CEO of Jaguar Cars\\\",\\n    \\\"CEO of Paul Stuart\\\",\\n    \\\"CEO of Roadhouse\\\",\\n    \\\"CEO of Starbucks\\\",\\n    \\\"CEO of Trafigura\\\",\\n    \\\"CEO of Cintas\\\",\\n    \\\"CEO of Qualys\\\",\\n    \\\"CEO of Amtrak\\\",\\n    \\\"CEO of Vitol\\\",\\n    \\\"CEO of Atari\\\",\\n    \\\"CEO of Sony\\\",\\n    \\\"CEO of AOL\\\",\\n    \\\"CEO of IBM\\\",\\n    \\\"pioneer of low cost airlines\\\",\\n    \\\"owner of Parma Calcio\\\",\\n    \\\"owner of Tut By\\\",\\n    \\\"Anna Nicole Smith stepson\\\",\\n]\\nbusiness_farming = sorted(\\n    list(set(business_farming)), key=lambda x: len(x), reverse=True\\n)\\n\\nacademia_humanities = [\\n    \\\"preservationist\\\",\\n    \\\"president of the Union Nationale Inter universitaire\\\",\\n    \\\"president of multiple colleges\\\",\\n    \\\"the genetic classification of languages\\\",\\n    \\\"Chancellor of UC Berkeley\\\",\\n    \\\"chair of the Wordsworth Trust\\\",\\n    \\\"contributor to the Auschwitz Protocol\\\",\\n    \\\"Women Studies pioneer\\\",\\n    \\\"supporter of Esperanto\\\",\\n    \\\"archivist\\\",\\n]\\nacademia_humanities = sorted(\\n    list(set(academia_humanities)), key=lambda x: len(x), reverse=True\\n)\\n\\nlaw_enf_military_operator = [\\n    \\\"resistance member during World War II\\\",\\n    \\\"member of the Joint Chiefs of Staff\\\",\\n    \\\"Order of recipient\\\",\\n    \\\"knight of the Military Order of William\\\",\\n    \\\"noted PoW\\\",\\n    \\\"defence minister\\\",\\n    \\\"WRAF\\\",\\n    \\\"pilot of the world smallest jet\\\",\\n    \\\"defence secretary of\\\",\\n    \\\"Aviation\\\",\\n    \\\"Cornwall Constabulary\\\",\\n]\\nlaw_enf_military_operator = sorted(\\n    list(set(law_enf_military_operator)), key=lambda x: len(x), reverse=True\\n)\\n\\nspiritual = [\\n    \\\"two term president of the Southern Baptist Convention from to\\\",\\n    \\\"Humanistic Judaism movement\\\",\\n    \\\"Grand Master of the Sovereign Military Order of\\\",\\n    \\\"Baptist minister\\\",\\n    \\\"fundamentalist Christian minister\\\",\\n    \\\"baptist minister\\\",\\n    \\\"the Gulf\\\",\\n]\\nspiritual = sorted(list(set(spiritual)), key=lambda x: len(x), reverse=True)\\n\\nsocial = [\\n    \\\"founding member of World Wide Fund for Nature\\\",\\n]\\nsocial = sorted(list(set(social)), key=lambda x: len(x), reverse=True)\\n\\ncrime = []\\ncrime = sorted(list(set(crime)), key=lambda x: len(x), reverse=True)\\n\\nevent_record_other = [\\\"world second oldest living person\\\"]\\nevent_record_other = sorted(\\n    list(set(event_record_other)), key=lambda x: len(x), reverse=True\\n)\\n\\nother_species = [\\\"Hurricane Katrina\\\", \\\"Preakness winner\\\"]\\nother_species = sorted(list(set(other_species)), key=lambda x: len(x), reverse=True)\\n\\ncause_of_death = [\\n    \\\"stomach aneurysm\\\",\\n    \\\"lymphoma\\\",\\n    \\\"melanoma\\\",\\n    \\\"coma\\\",\\n    \\\"anti depressants\\\",\\n    \\\"stomach aneurysm\\\",\\n    \\\"rupture of the pancreas\\\",\\n    \\\"injuries from a car accident\\\",\\n    \\\"neck injuries\\\",\\n    \\\"killed at a midnight Christmas Mass\\\",\\n    \\\"killed during the Second Intifada\\\",\\n    \\\"killed in\\\",\\n    \\\"scleroderma\\\",\\n    \\\"septic shock\\\",\\n    \\\"complications from Alzheimer\\\",\\n    \\\"drug related complications\\\",\\n    \\\"respiratory complications\\\",\\n    \\\"complications from\\\",\\n    \\\"hypothermia\\\",\\n    \\\"torture\\\",\\n    \\\"benzodiazepine intoxication\\\",\\n    \\\"alcohol intoxication\\\",\\n    \\\"drug intoxication\\\",\\n    \\\"blood clots\\\",\\n    \\\"pulmonary hemorrhage\\\",\\n    \\\"brain hemorrhage\\\",\\n    \\\"ran over\\\",\\n]\\ncause_of_death = sorted(list(set(cause_of_death)), key=lambda x: len(x), reverse=True)\";\n",
       "                var nbb_cells = Jupyter.notebook.get_cells();\n",
       "                for (var i = 0; i < nbb_cells.length; ++i) {\n",
       "                    if (nbb_cells[i].input_prompt_number == nbb_cell_id) {\n",
       "                        if (nbb_cells[i].get_text() == nbb_unformatted_code) {\n",
       "                             nbb_cells[i].set_text(nbb_formatted_code);\n",
       "                        }\n",
       "                        break;\n",
       "                    }\n",
       "                }\n",
       "            }, 500);\n",
       "            "
      ],
      "text/plain": [
       "<IPython.core.display.Javascript object>"
      ]
     },
     "metadata": {},
     "output_type": "display_data"
    }
   ],
   "source": [
    "# Creating lists for each category and sorting by decreasing length and removing duplicates\n",
    "\n",
    "politics_govt_law = [\n",
    "    \"Vice President\",\n",
    "    \"first president of the Republic of Northern\",\n",
    "    \"president of the Chamber of Deputies\",\n",
    "    \"president of the Democratic Union\",\n",
    "    \"son of president Hafez al Assad\",\n",
    "    \"an advisor to several presidents\",\n",
    "    \"Gerakan Party founding president\",\n",
    "    \"president of Johnny & Associates\",\n",
    "    \"president of Research Council\",\n",
    "    \"founding member of Amnesty International\",\n",
    "    \"member of the Assembly of Experts\",\n",
    "    \"Legislative Assembly member\",\n",
    "    \"member of Parliament\",\n",
    "    \"member of the CAE\",\n",
    "    \"cabinet member\",\n",
    "    \"military junta member\",\n",
    "    \"lesbian policy\",\n",
    "    \"employment\",\n",
    "    \"conscription\",\n",
    "    \"Pro President of City State\",\n",
    "    \"President of Biafra\",\n",
    "    \"Guidance Department of the Workers' Party of Korea\",\n",
    "    \"last Socialist Party of mayor of a major city\",\n",
    "    \"Communist Party Chief of Henan province\",\n",
    "    \"the Earth Party\",\n",
    "    \"Freedoms Party\",\n",
    "    \"Life Party\",\n",
    "    \"neo\",\n",
    "    \"Mid Kent\",\n",
    "    \"government co minister in the internal settlement government of\",\n",
    "    \"minister in the Whitlam government\",\n",
    "    \"advisor to two prime ministers\",\n",
    "    \"twice minister of the interior\",\n",
    "    \"twice deputy prime minister\",\n",
    "    \"former foreign minister\",\n",
    "    \"minister of Education\",\n",
    "    \"deputy prime minister\",\n",
    "    \"foreign minister of\",\n",
    "    \"government minister\",\n",
    "    \"cabinet minister\",\n",
    "    \"Central Fife\",\n",
    "    \"expert of affairs\",\n",
    "    \"founding member of Amnesty International\",\n",
    "    \"AM\",\n",
    "    \"last Socialist Party of mayor of a major city\",\n",
    "    \"former mayor of Bay City\",\n",
    "    \"press secretary for Ronald Reagan\",\n",
    "    \"under secretary of the Congregation for the Evangelization of Peoples\",\n",
    "    \"secretary in charge of nuclear weapons\",\n",
    "    \"personal secretary of Saddam Hussein\",\n",
    "    \"conscientious objector\",\n",
    "    \"first president of the Republic of Northern\",\n",
    "    \"jurist\",\n",
    "    \"Leader Of Islami Shashontantra Andolan\",\n",
    "    \"supervisor of elections\",\n",
    "    \"Commerce\",\n",
    "    \"Guidance Department of the Workers' Party of Korea\",\n",
    "    \"last Nawab of Pataudi\",\n",
    "    \"Apostolic Nuncio to the\",\n",
    "]\n",
    "politics_govt_law = sorted(\n",
    "    list(set(politics_govt_law)), key=lambda x: len(x), reverse=True\n",
    ")\n",
    "\n",
    "arts = [\n",
    "    \"acting\",\n",
    "    \"Frances Dee\",\n",
    "    \"member of the Rock Steady Crew\",\n",
    "    \"Billie Burke\",\n",
    "    \"popularizer of the Chicken Dance\",\n",
    "    \"Life President of the Sydney International Piano Competition\",\n",
    "    \"draughtswoman\",\n",
    "    \"CEO of Warner Bros Records\",\n",
    "    \"CEO of Ruth Eckerd Hall\",\n",
    "    \"CEO of EMI Worldwide\",\n",
    "    \"CEO of Off White\",\n",
    "    \"CEO of Fox News\",\n",
    "    \"CEO of NBC\",\n",
    "    \"Tony Orlando\",\n",
    "    \"John Coltrane\",\n",
    "    \"creator of Sudoku\",\n",
    "    \"chef who worked as Michael Barry\",\n",
    "    \"master chef\",\n",
    "    \"chef\",\n",
    "    \"blues saxophonist\",\n",
    "    \"saxophonist\",\n",
    "    \"Helene Weigel\",\n",
    "    \"nightclub owner\",\n",
    "    \"gallery owner\",\n",
    "    \"club owner\",\n",
    "    \"librettist\",\n",
    "    \"Larbey\",\n",
    "    \"caricaturist\",\n",
    "    \"WABC TV anchorman\",\n",
    "    \"news anchor\",\n",
    "    \"Warner Bros shorts from his tenure at\",\n",
    "    \"the Daleks\",\n",
    "    'David Letterman sidekick known as Larry \"Bud\" Melman',\n",
    "    \"dancing partner of Buddy Ebsen\",\n",
    "    'Bows\"',\n",
    "    \"Wood Quay\",\n",
    "    \"illustrated\",\n",
    "    \"arts patron\",\n",
    "    \"horticulturalist\",\n",
    "    \"horticulturist\",\n",
    "    \"proponent of Odissi dance\",\n",
    "    \"dance\",\n",
    "]\n",
    "arts = sorted(list(set(arts)), key=lambda x: len(x), reverse=True)\n",
    "\n",
    "sports = [\n",
    "    \"player\",\n",
    "    \"president of the Lancashire County Cricket Club\",\n",
    "    \"President of Cricket\",\n",
    "    \"ARU president\",\n",
    "    \"member of the IOC\",\n",
    "    \"former WRU President\",\n",
    "    \"Timberwolves\",\n",
    "    \"owner breeder of thoroughbred race horses\",\n",
    "    \"former owner of Baseball Astros\",\n",
    "    \"owner of the Toronto Blue Jays\",\n",
    "    \"owner of the Buffalo Sabres\",\n",
    "    \"owner of San Antonio Spurs\",\n",
    "    \"football franchise owner\",\n",
    "    \"sports franchise owner\",\n",
    "    \"football team owner\",\n",
    "    \"sports team owner\",\n",
    "    \"racehorse owner\",\n",
    "    \"horse owner\",\n",
    "    \"team owner\",\n",
    "    \"Grand Prix race car driver\",\n",
    "    \"race car driver\",\n",
    "    \"helped found Wrestling\",\n",
    "    \"rugby league\",\n",
    "    \"Detroit Tigers between and\",\n",
    "    \"cricket for\",\n",
    "    \"cricketer\",\n",
    "    \"Leigh\",\n",
    "    \"cc World Championships\",\n",
    "    \"golfer\",\n",
    "    \"named Lake Vostok\",\n",
    "    \"mixed doubles\",\n",
    "]\n",
    "sports = sorted(list(set(sports)), key=lambda x: len(x), reverse=True)\n",
    "\n",
    "sciences = [\n",
    "    \"researcher\",\n",
    "    \"engineer\",\n",
    "    \"president of NASSCOM\",\n",
    "    \"discoverer of LSD\",\n",
    "    \"Yngling class\",\n",
    "    \"Nobel prize laureate\",\n",
    "    \"Nobel laureate\",\n",
    "    \"Ted Hughes\",\n",
    "    \"Production Space Center\",\n",
    "    \"principal investigator for STIS on the Hubble Space Telescope\",\n",
    "    \"the Marshall Space Flight Center\",\n",
    "    \"Life breakfast cereals\",\n",
    "    \"moths\",\n",
    "    \"processes\",\n",
    "    \"the term AI\",\n",
    "    \"the Unix operating system\",\n",
    "]\n",
    "sciences = sorted(list(set(sciences)), key=lambda x: len(x), reverse=True)\n",
    "\n",
    "business_farming = [\n",
    "    \"retailer\",\n",
    "    \"President of Jerónimo Martins\",\n",
    "    \"CEO of MVM Group\",\n",
    "    \"former CEO of Wegmans Food Markets\",\n",
    "    \"CEO of Scholastic Corporation\",\n",
    "    \"CEO of Marriott International\",\n",
    "    \"CEO of the Ford Motor Company\",\n",
    "    \"CEO of Pacific Lumber Company\",\n",
    "    \"CEO of International Group\",\n",
    "    \"CEO of the Ford Foundation\",\n",
    "    \"CEO of Braun Corporation\",\n",
    "    \"CEO of Drummond Company\",\n",
    "    \"CEO of Alaska Airlines\",\n",
    "    \"CEO of Ashland Oil Inc\",\n",
    "    \"CEO of General Motors\",\n",
    "    \"CEO of ZeniMax Media\",\n",
    "    \"CEO of Merrill Lynch\",\n",
    "    \"CEO of Bear Stearns\",\n",
    "    \"CEO of ITC Limited\",\n",
    "    \"CEO of Jaguar Cars\",\n",
    "    \"CEO of Paul Stuart\",\n",
    "    \"CEO of Roadhouse\",\n",
    "    \"CEO of Starbucks\",\n",
    "    \"CEO of Trafigura\",\n",
    "    \"CEO of Cintas\",\n",
    "    \"CEO of Qualys\",\n",
    "    \"CEO of Amtrak\",\n",
    "    \"CEO of Vitol\",\n",
    "    \"CEO of Atari\",\n",
    "    \"CEO of Sony\",\n",
    "    \"CEO of AOL\",\n",
    "    \"CEO of IBM\",\n",
    "    \"pioneer of low cost airlines\",\n",
    "    \"owner of Parma Calcio\",\n",
    "    \"owner of Tut By\",\n",
    "    \"Anna Nicole Smith stepson\",\n",
    "]\n",
    "business_farming = sorted(\n",
    "    list(set(business_farming)), key=lambda x: len(x), reverse=True\n",
    ")\n",
    "\n",
    "academia_humanities = [\n",
    "    \"preservationist\",\n",
    "    \"president of the Union Nationale Inter universitaire\",\n",
    "    \"president of multiple colleges\",\n",
    "    \"the genetic classification of languages\",\n",
    "    \"Chancellor of UC Berkeley\",\n",
    "    \"chair of the Wordsworth Trust\",\n",
    "    \"contributor to the Auschwitz Protocol\",\n",
    "    \"Women Studies pioneer\",\n",
    "    \"supporter of Esperanto\",\n",
    "    \"archivist\",\n",
    "]\n",
    "academia_humanities = sorted(\n",
    "    list(set(academia_humanities)), key=lambda x: len(x), reverse=True\n",
    ")\n",
    "\n",
    "law_enf_military_operator = [\n",
    "    \"resistance member during World War II\",\n",
    "    \"member of the Joint Chiefs of Staff\",\n",
    "    \"Order of recipient\",\n",
    "    \"knight of the Military Order of William\",\n",
    "    \"noted PoW\",\n",
    "    \"defence minister\",\n",
    "    \"WRAF\",\n",
    "    \"pilot of the world smallest jet\",\n",
    "    \"defence secretary of\",\n",
    "    \"Aviation\",\n",
    "    \"Cornwall Constabulary\",\n",
    "]\n",
    "law_enf_military_operator = sorted(\n",
    "    list(set(law_enf_military_operator)), key=lambda x: len(x), reverse=True\n",
    ")\n",
    "\n",
    "spiritual = [\n",
    "    \"two term president of the Southern Baptist Convention from to\",\n",
    "    \"Humanistic Judaism movement\",\n",
    "    \"Grand Master of the Sovereign Military Order of\",\n",
    "    \"Baptist minister\",\n",
    "    \"fundamentalist Christian minister\",\n",
    "    \"baptist minister\",\n",
    "    \"the Gulf\",\n",
    "]\n",
    "spiritual = sorted(list(set(spiritual)), key=lambda x: len(x), reverse=True)\n",
    "\n",
    "social = [\n",
    "    \"founding member of World Wide Fund for Nature\",\n",
    "]\n",
    "social = sorted(list(set(social)), key=lambda x: len(x), reverse=True)\n",
    "\n",
    "crime = []\n",
    "crime = sorted(list(set(crime)), key=lambda x: len(x), reverse=True)\n",
    "\n",
    "event_record_other = [\"world second oldest living person\"]\n",
    "event_record_other = sorted(\n",
    "    list(set(event_record_other)), key=lambda x: len(x), reverse=True\n",
    ")\n",
    "\n",
    "other_species = [\"Hurricane Katrina\", \"Preakness winner\"]\n",
    "other_species = sorted(list(set(other_species)), key=lambda x: len(x), reverse=True)\n",
    "\n",
    "cause_of_death = [\n",
    "    \"stomach aneurysm\",\n",
    "    \"lymphoma\",\n",
    "    \"melanoma\",\n",
    "    \"coma\",\n",
    "    \"anti depressants\",\n",
    "    \"stomach aneurysm\",\n",
    "    \"rupture of the pancreas\",\n",
    "    \"injuries from a car accident\",\n",
    "    \"neck injuries\",\n",
    "    \"killed at a midnight Christmas Mass\",\n",
    "    \"killed during the Second Intifada\",\n",
    "    \"killed in\",\n",
    "    \"scleroderma\",\n",
    "    \"septic shock\",\n",
    "    \"complications from Alzheimer\",\n",
    "    \"drug related complications\",\n",
    "    \"respiratory complications\",\n",
    "    \"complications from\",\n",
    "    \"hypothermia\",\n",
    "    \"torture\",\n",
    "    \"benzodiazepine intoxication\",\n",
    "    \"alcohol intoxication\",\n",
    "    \"drug intoxication\",\n",
    "    \"blood clots\",\n",
    "    \"pulmonary hemorrhage\",\n",
    "    \"brain hemorrhage\",\n",
    "    \"ran over\",\n",
    "]\n",
    "cause_of_death = sorted(list(set(cause_of_death)), key=lambda x: len(x), reverse=True)"
   ]
  },
  {
   "cell_type": "code",
   "execution_count": 51,
   "id": "a13a06ab",
   "metadata": {},
   "outputs": [
    {
     "data": {
      "application/javascript": [
       "\n",
       "            setTimeout(function() {\n",
       "                var nbb_cell_id = 51;\n",
       "                var nbb_unformatted_code = \"# Dropping info_3_1 value for entries with redundant category value\\ndf.loc[\\n    [\\n        index\\n        for index in df[df[\\\"info_3_1\\\"].notna()].index\\n        if \\\"culture\\\" in df.loc[index, \\\"info_3_1\\\"]\\n    ],\\n    \\\"info_3_1\\\",\\n] = \\\"\\\"\\n\\n# Dropping info_3_1 value for entries with redundant category value\\ndf.loc[\\n    [\\n        index\\n        for index in df[df[\\\"info_3_1\\\"].notna()].index\\n        if \\\"founder\\\" in df.loc[index, \\\"info_3_1\\\"]\\n    ],\\n    \\\"info_3_1\\\",\\n] = \\\"\\\"\";\n",
       "                var nbb_formatted_code = \"# Dropping info_3_1 value for entries with redundant category value\\ndf.loc[\\n    [\\n        index\\n        for index in df[df[\\\"info_3_1\\\"].notna()].index\\n        if \\\"culture\\\" in df.loc[index, \\\"info_3_1\\\"]\\n    ],\\n    \\\"info_3_1\\\",\\n] = \\\"\\\"\\n\\n# Dropping info_3_1 value for entries with redundant category value\\ndf.loc[\\n    [\\n        index\\n        for index in df[df[\\\"info_3_1\\\"].notna()].index\\n        if \\\"founder\\\" in df.loc[index, \\\"info_3_1\\\"]\\n    ],\\n    \\\"info_3_1\\\",\\n] = \\\"\\\"\";\n",
       "                var nbb_cells = Jupyter.notebook.get_cells();\n",
       "                for (var i = 0; i < nbb_cells.length; ++i) {\n",
       "                    if (nbb_cells[i].input_prompt_number == nbb_cell_id) {\n",
       "                        if (nbb_cells[i].get_text() == nbb_unformatted_code) {\n",
       "                             nbb_cells[i].set_text(nbb_formatted_code);\n",
       "                        }\n",
       "                        break;\n",
       "                    }\n",
       "                }\n",
       "            }, 500);\n",
       "            "
      ],
      "text/plain": [
       "<IPython.core.display.Javascript object>"
      ]
     },
     "metadata": {},
     "output_type": "display_data"
    }
   ],
   "source": [
    "# Dropping info_3_1 value for entries with redundant category value\n",
    "df.loc[\n",
    "    [\n",
    "        index\n",
    "        for index in df[df[\"info_3_1\"].notna()].index\n",
    "        if \"culture\" in df.loc[index, \"info_3_1\"]\n",
    "    ],\n",
    "    \"info_3_1\",\n",
    "] = \"\"\n",
    "\n",
    "# Dropping info_3_1 value for entries with redundant category value\n",
    "df.loc[\n",
    "    [\n",
    "        index\n",
    "        for index in df[df[\"info_3_1\"].notna()].index\n",
    "        if \"founder\" in df.loc[index, \"info_3_1\"]\n",
    "    ],\n",
    "    \"info_3_1\",\n",
    "] = \"\""
   ]
  },
  {
   "cell_type": "markdown",
   "id": "7f2ae8b6",
   "metadata": {},
   "source": [
    "#### Creating `known_for_dict` Dictionary of Category Keys and Specific Role Lists of Values"
   ]
  },
  {
   "cell_type": "code",
   "execution_count": 52,
   "id": "b1d690df",
   "metadata": {},
   "outputs": [
    {
     "data": {
      "application/javascript": [
       "\n",
       "            setTimeout(function() {\n",
       "                var nbb_cell_id = 52;\n",
       "                var nbb_unformatted_code = \"# Combining separate lists into one dictionary\\nknown_for_dict = {\\n    \\\"social\\\": social,\\n    \\\"spiritual\\\": spiritual,\\n    \\\"academia_humanities\\\": academia_humanities,\\n    \\\"business_farming\\\": business_farming,\\n    \\\"sciences\\\": sciences,\\n    \\\"politics_govt_law\\\": politics_govt_law,\\n    \\\"law_enf_military_operator\\\": law_enf_military_operator,\\n    \\\"crime\\\": crime,\\n    \\\"event_record_other\\\": event_record_other,\\n    \\\"other_species\\\": other_species,\\n    \\\"arts\\\": arts,\\n    \\\"sports\\\": sports,\\n}\";\n",
       "                var nbb_formatted_code = \"# Combining separate lists into one dictionary\\nknown_for_dict = {\\n    \\\"social\\\": social,\\n    \\\"spiritual\\\": spiritual,\\n    \\\"academia_humanities\\\": academia_humanities,\\n    \\\"business_farming\\\": business_farming,\\n    \\\"sciences\\\": sciences,\\n    \\\"politics_govt_law\\\": politics_govt_law,\\n    \\\"law_enf_military_operator\\\": law_enf_military_operator,\\n    \\\"crime\\\": crime,\\n    \\\"event_record_other\\\": event_record_other,\\n    \\\"other_species\\\": other_species,\\n    \\\"arts\\\": arts,\\n    \\\"sports\\\": sports,\\n}\";\n",
       "                var nbb_cells = Jupyter.notebook.get_cells();\n",
       "                for (var i = 0; i < nbb_cells.length; ++i) {\n",
       "                    if (nbb_cells[i].input_prompt_number == nbb_cell_id) {\n",
       "                        if (nbb_cells[i].get_text() == nbb_unformatted_code) {\n",
       "                             nbb_cells[i].set_text(nbb_formatted_code);\n",
       "                        }\n",
       "                        break;\n",
       "                    }\n",
       "                }\n",
       "            }, 500);\n",
       "            "
      ],
      "text/plain": [
       "<IPython.core.display.Javascript object>"
      ]
     },
     "metadata": {},
     "output_type": "display_data"
    }
   ],
   "source": [
    "# Combining separate lists into one dictionary\n",
    "known_for_dict = {\n",
    "    \"social\": social,\n",
    "    \"spiritual\": spiritual,\n",
    "    \"academia_humanities\": academia_humanities,\n",
    "    \"business_farming\": business_farming,\n",
    "    \"sciences\": sciences,\n",
    "    \"politics_govt_law\": politics_govt_law,\n",
    "    \"law_enf_military_operator\": law_enf_military_operator,\n",
    "    \"crime\": crime,\n",
    "    \"event_record_other\": event_record_other,\n",
    "    \"other_species\": other_species,\n",
    "    \"arts\": arts,\n",
    "    \"sports\": sports,\n",
    "}"
   ]
  },
  {
   "cell_type": "markdown",
   "id": "2b01de2c",
   "metadata": {},
   "source": [
    "#### Extracting `known_for` Categories and `cause_of_death` Values from `info_3_1`"
   ]
  },
  {
   "cell_type": "code",
   "execution_count": 53,
   "id": "f9497942",
   "metadata": {},
   "outputs": [
    {
     "name": "stdout",
     "output_type": "stream",
     "text": [
      "There are 25136 values in cause_of_death column.\n",
      "\n",
      "CPU times: total: 7.06 s\n",
      "Wall time: 7.07 s\n"
     ]
    },
    {
     "data": {
      "application/javascript": [
       "\n",
       "            setTimeout(function() {\n",
       "                var nbb_cell_id = 53;\n",
       "                var nbb_unformatted_code = \"%%time\\n\\n# Column to check\\ncolumn = 'info_3_1'\\n\\n# Start dataframe\\ndataframe = df[df[column].notna()]\\n\\n# For loop to find cause in column and extract it to cause_of_death\\nfor cause in cause_of_death:\\n    for index in dataframe.index:\\n        item = df.loc[index, column]\\n        if item:\\n            if cause in item:\\n                if df.loc[index, 'cause_of_death']:\\n                    df.loc[index, 'cause_of_death'] = df.loc[index, 'cause_of_death'] + '/' + cause\\n                    df.loc[index, column] = item.replace(cause, '').strip()\\n                else:\\n                    df.loc[index, 'cause_of_death'] = cause\\n                    df.loc[index, column] = item.replace(cause, '').strip()\\n                \\n                \\n# For loop to find role in column and extract it as category\\nfor category, category_lst in known_for_dict.items():\\n    for role in category_lst:\\n        for index in dataframe.index:\\n                item = df.loc[index, column]\\n                if item:\\n                    if role in item:\\n                        df.loc[index, category] = 1\\n                        df.loc[index, column] = item.replace(role, '').strip()\\n\\n# Calculating num_categories\\ndf[\\\"num_categories\\\"] = df[known_for_dict.keys()].sum(axis=1)\\n\\n# Checking number of cause_of_death values\\nprint(f'There are {df[\\\"cause_of_death\\\"].notna().sum()} values in cause_of_death column.\\\\n')\";\n",
       "                var nbb_formatted_code = \"%%time\\n\\n# Column to check\\ncolumn = 'info_3_1'\\n\\n# Start dataframe\\ndataframe = df[df[column].notna()]\\n\\n# For loop to find cause in column and extract it to cause_of_death\\nfor cause in cause_of_death:\\n    for index in dataframe.index:\\n        item = df.loc[index, column]\\n        if item:\\n            if cause in item:\\n                if df.loc[index, 'cause_of_death']:\\n                    df.loc[index, 'cause_of_death'] = df.loc[index, 'cause_of_death'] + '/' + cause\\n                    df.loc[index, column] = item.replace(cause, '').strip()\\n                else:\\n                    df.loc[index, 'cause_of_death'] = cause\\n                    df.loc[index, column] = item.replace(cause, '').strip()\\n                \\n                \\n# For loop to find role in column and extract it as category\\nfor category, category_lst in known_for_dict.items():\\n    for role in category_lst:\\n        for index in dataframe.index:\\n                item = df.loc[index, column]\\n                if item:\\n                    if role in item:\\n                        df.loc[index, category] = 1\\n                        df.loc[index, column] = item.replace(role, '').strip()\\n\\n# Calculating num_categories\\ndf[\\\"num_categories\\\"] = df[known_for_dict.keys()].sum(axis=1)\\n\\n# Checking number of cause_of_death values\\nprint(f'There are {df[\\\"cause_of_death\\\"].notna().sum()} values in cause_of_death column.\\\\n')\";\n",
       "                var nbb_cells = Jupyter.notebook.get_cells();\n",
       "                for (var i = 0; i < nbb_cells.length; ++i) {\n",
       "                    if (nbb_cells[i].input_prompt_number == nbb_cell_id) {\n",
       "                        if (nbb_cells[i].get_text() == nbb_unformatted_code) {\n",
       "                             nbb_cells[i].set_text(nbb_formatted_code);\n",
       "                        }\n",
       "                        break;\n",
       "                    }\n",
       "                }\n",
       "            }, 500);\n",
       "            "
      ],
      "text/plain": [
       "<IPython.core.display.Javascript object>"
      ]
     },
     "metadata": {},
     "output_type": "display_data"
    }
   ],
   "source": [
    "%%time\n",
    "\n",
    "# Column to check\n",
    "column = 'info_3_1'\n",
    "\n",
    "# Start dataframe\n",
    "dataframe = df[df[column].notna()]\n",
    "\n",
    "# For loop to find cause in column and extract it to cause_of_death\n",
    "for cause in cause_of_death:\n",
    "    for index in dataframe.index:\n",
    "        item = df.loc[index, column]\n",
    "        if item:\n",
    "            if cause in item:\n",
    "                if df.loc[index, 'cause_of_death']:\n",
    "                    df.loc[index, 'cause_of_death'] = df.loc[index, 'cause_of_death'] + '/' + cause\n",
    "                    df.loc[index, column] = item.replace(cause, '').strip()\n",
    "                else:\n",
    "                    df.loc[index, 'cause_of_death'] = cause\n",
    "                    df.loc[index, column] = item.replace(cause, '').strip()\n",
    "                \n",
    "                \n",
    "# For loop to find role in column and extract it as category\n",
    "for category, category_lst in known_for_dict.items():\n",
    "    for role in category_lst:\n",
    "        for index in dataframe.index:\n",
    "                item = df.loc[index, column]\n",
    "                if item:\n",
    "                    if role in item:\n",
    "                        df.loc[index, category] = 1\n",
    "                        df.loc[index, column] = item.replace(role, '').strip()\n",
    "\n",
    "# Calculating num_categories\n",
    "df[\"num_categories\"] = df[known_for_dict.keys()].sum(axis=1)\n",
    "\n",
    "# Checking number of cause_of_death values\n",
    "print(f'There are {df[\"cause_of_death\"].notna().sum()} values in cause_of_death column.\\n')"
   ]
  },
  {
   "cell_type": "markdown",
   "id": "27d1d787",
   "metadata": {},
   "source": [
    "#### Checking Updated `num_categories` Value Counts"
   ]
  },
  {
   "cell_type": "code",
   "execution_count": 54,
   "id": "23797e46",
   "metadata": {},
   "outputs": [
    {
     "data": {
      "text/plain": [
       "1    84626\n",
       "2    12623\n",
       "3      776\n",
       "0        8\n",
       "4        7\n",
       "Name: num_categories, dtype: int64"
      ]
     },
     "execution_count": 54,
     "metadata": {},
     "output_type": "execute_result"
    },
    {
     "data": {
      "application/javascript": [
       "\n",
       "            setTimeout(function() {\n",
       "                var nbb_cell_id = 54;\n",
       "                var nbb_unformatted_code = \"# Checking Updated num_categories Value Counts\\ndf[\\\"num_categories\\\"].value_counts()\";\n",
       "                var nbb_formatted_code = \"# Checking Updated num_categories Value Counts\\ndf[\\\"num_categories\\\"].value_counts()\";\n",
       "                var nbb_cells = Jupyter.notebook.get_cells();\n",
       "                for (var i = 0; i < nbb_cells.length; ++i) {\n",
       "                    if (nbb_cells[i].input_prompt_number == nbb_cell_id) {\n",
       "                        if (nbb_cells[i].get_text() == nbb_unformatted_code) {\n",
       "                             nbb_cells[i].set_text(nbb_formatted_code);\n",
       "                        }\n",
       "                        break;\n",
       "                    }\n",
       "                }\n",
       "            }, 500);\n",
       "            "
      ],
      "text/plain": [
       "<IPython.core.display.Javascript object>"
      ]
     },
     "metadata": {},
     "output_type": "display_data"
    }
   ],
   "source": [
    "# Checking Updated num_categories Value Counts\n",
    "df[\"num_categories\"].value_counts()"
   ]
  },
  {
   "cell_type": "markdown",
   "id": "56cda203",
   "metadata": {},
   "source": [
    "#### Observations:\n",
    "- We will proceed to rebuild `known_for_dict` and `cause_of_death` for the next iteration."
   ]
  },
  {
   "cell_type": "markdown",
   "id": "1af3e270",
   "metadata": {},
   "source": [
    "#### Finding `known_for` Roles and `cause_of_death` in `info_3_1`"
   ]
  },
  {
   "cell_type": "code",
   "execution_count": 55,
   "id": "ae4efc74",
   "metadata": {},
   "outputs": [
    {
     "data": {
      "application/javascript": [
       "\n",
       "            setTimeout(function() {\n",
       "                var nbb_cell_id = 55;\n",
       "                var nbb_unformatted_code = \"# # Obtaining values for column and their counts\\n# roles_cause_list = df[\\\"info_3_1\\\"].value_counts(ascending=True).index.tolist()\";\n",
       "                var nbb_formatted_code = \"# # Obtaining values for column and their counts\\n# roles_cause_list = df[\\\"info_3_1\\\"].value_counts(ascending=True).index.tolist()\";\n",
       "                var nbb_cells = Jupyter.notebook.get_cells();\n",
       "                for (var i = 0; i < nbb_cells.length; ++i) {\n",
       "                    if (nbb_cells[i].input_prompt_number == nbb_cell_id) {\n",
       "                        if (nbb_cells[i].get_text() == nbb_unformatted_code) {\n",
       "                             nbb_cells[i].set_text(nbb_formatted_code);\n",
       "                        }\n",
       "                        break;\n",
       "                    }\n",
       "                }\n",
       "            }, 500);\n",
       "            "
      ],
      "text/plain": [
       "<IPython.core.display.Javascript object>"
      ]
     },
     "metadata": {},
     "output_type": "display_data"
    }
   ],
   "source": [
    "# # Obtaining values for column and their counts\n",
    "# roles_cause_list = df[\"info_3_1\"].value_counts(ascending=True).index.tolist()"
   ]
  },
  {
   "cell_type": "code",
   "execution_count": 56,
   "id": "68625a4e",
   "metadata": {},
   "outputs": [
    {
     "data": {
      "application/javascript": [
       "\n",
       "            setTimeout(function() {\n",
       "                var nbb_cell_id = 56;\n",
       "                var nbb_unformatted_code = \"# # Code to check each value\\n# value = roles_cause_list.pop()\\n# value\";\n",
       "                var nbb_formatted_code = \"# # Code to check each value\\n# value = roles_cause_list.pop()\\n# value\";\n",
       "                var nbb_cells = Jupyter.notebook.get_cells();\n",
       "                for (var i = 0; i < nbb_cells.length; ++i) {\n",
       "                    if (nbb_cells[i].input_prompt_number == nbb_cell_id) {\n",
       "                        if (nbb_cells[i].get_text() == nbb_unformatted_code) {\n",
       "                             nbb_cells[i].set_text(nbb_formatted_code);\n",
       "                        }\n",
       "                        break;\n",
       "                    }\n",
       "                }\n",
       "            }, 500);\n",
       "            "
      ],
      "text/plain": [
       "<IPython.core.display.Javascript object>"
      ]
     },
     "metadata": {},
     "output_type": "display_data"
    }
   ],
   "source": [
    "# # Code to check each value\n",
    "# value = roles_cause_list.pop()\n",
    "# value"
   ]
  },
  {
   "cell_type": "code",
   "execution_count": 57,
   "id": "1be824dc",
   "metadata": {},
   "outputs": [
    {
     "data": {
      "application/javascript": [
       "\n",
       "            setTimeout(function() {\n",
       "                var nbb_cell_id = 57;\n",
       "                var nbb_unformatted_code = \"# # Create specific_roles_cause_list for above popped value\\n# specific_roles_cause_list = (\\n#     df.loc[\\n#         [\\n#             index\\n#             for index in df[df[\\\"info_3_1\\\"].notna()].index\\n#             if value in df.loc[index, \\\"info_3_1\\\"]\\n#         ],\\n#         \\\"info_3_1\\\",\\n#     ]\\n#     .value_counts()\\n#     .index.tolist()\\n# )\";\n",
       "                var nbb_formatted_code = \"# # Create specific_roles_cause_list for above popped value\\n# specific_roles_cause_list = (\\n#     df.loc[\\n#         [\\n#             index\\n#             for index in df[df[\\\"info_3_1\\\"].notna()].index\\n#             if value in df.loc[index, \\\"info_3_1\\\"]\\n#         ],\\n#         \\\"info_3_1\\\",\\n#     ]\\n#     .value_counts()\\n#     .index.tolist()\\n# )\";\n",
       "                var nbb_cells = Jupyter.notebook.get_cells();\n",
       "                for (var i = 0; i < nbb_cells.length; ++i) {\n",
       "                    if (nbb_cells[i].input_prompt_number == nbb_cell_id) {\n",
       "                        if (nbb_cells[i].get_text() == nbb_unformatted_code) {\n",
       "                             nbb_cells[i].set_text(nbb_formatted_code);\n",
       "                        }\n",
       "                        break;\n",
       "                    }\n",
       "                }\n",
       "            }, 500);\n",
       "            "
      ],
      "text/plain": [
       "<IPython.core.display.Javascript object>"
      ]
     },
     "metadata": {},
     "output_type": "display_data"
    }
   ],
   "source": [
    "# # Create specific_roles_cause_list for above popped value\n",
    "# specific_roles_cause_list = (\n",
    "#     df.loc[\n",
    "#         [\n",
    "#             index\n",
    "#             for index in df[df[\"info_3_1\"].notna()].index\n",
    "#             if value in df.loc[index, \"info_3_1\"]\n",
    "#         ],\n",
    "#         \"info_3_1\",\n",
    "#     ]\n",
    "#     .value_counts()\n",
    "#     .index.tolist()\n",
    "# )"
   ]
  },
  {
   "cell_type": "code",
   "execution_count": 58,
   "id": "c48e4853",
   "metadata": {},
   "outputs": [
    {
     "data": {
      "application/javascript": [
       "\n",
       "            setTimeout(function() {\n",
       "                var nbb_cell_id = 58;\n",
       "                var nbb_unformatted_code = \"# # Viewing list sorted by descending length to copy to dictionary below and screen values\\n# sorted(specific_roles_cause_list, key=lambda x: len(x), reverse=True)\";\n",
       "                var nbb_formatted_code = \"# # Viewing list sorted by descending length to copy to dictionary below and screen values\\n# sorted(specific_roles_cause_list, key=lambda x: len(x), reverse=True)\";\n",
       "                var nbb_cells = Jupyter.notebook.get_cells();\n",
       "                for (var i = 0; i < nbb_cells.length; ++i) {\n",
       "                    if (nbb_cells[i].input_prompt_number == nbb_cell_id) {\n",
       "                        if (nbb_cells[i].get_text() == nbb_unformatted_code) {\n",
       "                             nbb_cells[i].set_text(nbb_formatted_code);\n",
       "                        }\n",
       "                        break;\n",
       "                    }\n",
       "                }\n",
       "            }, 500);\n",
       "            "
      ],
      "text/plain": [
       "<IPython.core.display.Javascript object>"
      ]
     },
     "metadata": {},
     "output_type": "display_data"
    }
   ],
   "source": [
    "# # Viewing list sorted by descending length to copy to dictionary below and screen values\n",
    "# sorted(specific_roles_cause_list, key=lambda x: len(x), reverse=True)"
   ]
  },
  {
   "cell_type": "code",
   "execution_count": 59,
   "id": "bb7557c5",
   "metadata": {},
   "outputs": [
    {
     "data": {
      "application/javascript": [
       "\n",
       "            setTimeout(function() {\n",
       "                var nbb_cell_id = 59;\n",
       "                var nbb_unformatted_code = \"# # Example code to quick-check a specific entry\\n# df[df[\\\"info_3_1\\\"] == value]\";\n",
       "                var nbb_formatted_code = \"# # Example code to quick-check a specific entry\\n# df[df[\\\"info_3_1\\\"] == value]\";\n",
       "                var nbb_cells = Jupyter.notebook.get_cells();\n",
       "                for (var i = 0; i < nbb_cells.length; ++i) {\n",
       "                    if (nbb_cells[i].input_prompt_number == nbb_cell_id) {\n",
       "                        if (nbb_cells[i].get_text() == nbb_unformatted_code) {\n",
       "                             nbb_cells[i].set_text(nbb_formatted_code);\n",
       "                        }\n",
       "                        break;\n",
       "                    }\n",
       "                }\n",
       "            }, 500);\n",
       "            "
      ],
      "text/plain": [
       "<IPython.core.display.Javascript object>"
      ]
     },
     "metadata": {},
     "output_type": "display_data"
    }
   ],
   "source": [
    "# # Example code to quick-check a specific entry\n",
    "# df[df[\"info_3_1\"] == value]"
   ]
  },
  {
   "cell_type": "markdown",
   "id": "615e96e4",
   "metadata": {},
   "source": [
    "#### Creating Lists for Each `known_for` Category and for `cause_of_death`"
   ]
  },
  {
   "cell_type": "code",
   "execution_count": 60,
   "id": "784792a8",
   "metadata": {},
   "outputs": [
    {
     "data": {
      "application/javascript": [
       "\n",
       "            setTimeout(function() {\n",
       "                var nbb_cell_id = 60;\n",
       "                var nbb_unformatted_code = \"# Creating lists for each category and sorting by decreasing length and removing duplicates\\n\\npolitics_govt_law = [\\n    \\\"Golders Green\\\",\\n    \\\"Zita of Bourbon Parma\\\",\\n    \\\"Public Policy Center\\\",\\n    \\\"Chairman of Millbrook First Nation\\\",\\n    \\\"Radnorshire\\\",\\n    \\\"Pacific Affairs\\\",\\n    \\\"Press Secretary to John Fitzgerald Kennedy\\\",\\n    \\\"key Watergate figure\\\",\\n    \\\"Social Welfare\\\",\\n    \\\"eventual nuclear disarmament advocate\\\",\\n    \\\"women rights advocate\\\",\\n    \\\"women rights\\\",\\n    \\\"Clinton\\\",\\n    \\\"former Secretary of State\\\",\\n    \\\"governor general of\\\",\\n    \\\"anti prohibitionist\\\",\\n    \\\"senior counsel\\\",\\n    \\\"Commander in Chief of the\\\",\\n    \\\"Marine Resources\\\",\\n    \\\"Information\\\",\\n    \\\"human rights campaigner\\\",\\n    \\\"Isleworth\\\",\\n    \\\"Refugee Board of\\\",\\n    \\\"Rajasthan\\\",\\n    \\\"mother of Benazir Bhutto\\\",\\n    \\\"Customs\\\",\\n    \\\"Welfare\\\",\\n    \\\"Heston\\\",\\n    \\\"Castleford\\\",\\n    \\\"Inverclyde\\\",\\n    \\\"Territories\\\",\\n    \\\"Prevention\\\",\\n    \\\"Traditional Affairs\\\",\\n    \\\"Eastern Stirlingshire\\\",\\n    \\\"Fife\\\",\\n    \\\"revolutionist of the independence movement\\\",\\n    \\\"Black Rod\\\",\\n    \\\"Recreation\\\",\\n    \\\"Tipton\\\",\\n    \\\"three time governor of\\\",\\n    \\\"governor of\\\",\\n    \\\"dictator\\\",\\n    \\\"Lord Advocate\\\",\\n    \\\"Treasury Solicitor\\\",\\n    \\\"Governor General of\\\",\\n    \\\"Hebei\\\",\\n    \\\"SACP\\\",\\n]\\npolitics_govt_law = sorted(\\n    list(set(politics_govt_law)), key=lambda x: len(x), reverse=True\\n)\\n\\narts = [\\n    \\\"showman\\\",\\n    \\\"ballet master\\\",\\n    \\\"Twitter\\\",\\n    \\\"miniseries\\\",\\n    \\\"amateur illusionist\\\",\\n    \\\"nightclub proprietor\\\",\\n    \\\"Guitar Company\\\",\\n    \\\"Bad Writing Contest\\\",\\n    '\\\"Fergus Lamont\\\"',\\n    \\\"Mayor Phineas T Bluster\\\",\\n    \\\"ethnic community advocate\\\",\\n    \\\"Blake Prize\\\",\\n    \\\"smooth countrypolitan stylist of the s\\\",\\n    \\\"Sun Records\\\",\\n    \\\"Split Enz\\\",\\n    \\\"concert violinist\\\",\\n    \\\"violinist\\\",\\n    \\\"Eddie Albert\\\",\\n    \\\"former wife of Keith Moon\\\",\\n    \\\"partner of Sir No\\u00ebl Coward\\\",\\n    \\\"widow of Cyril Fletcher\\\",\\n    \\\"draughtsman\\\",\\n    \\\"maestro\\\",\\n    \\\"speaker\\\",\\n    \\\"postage stamps\\\",\\n    \\\"D expert\\\",\\n    \\\"announcer\\\",\\n    \\\"The Rolling Stones to the\\\",\\n    \\\"art connoisseur\\\",\\n    \\\"planner\\\",\\n    \\\"embroiderer\\\",\\n    \\\"Cinema\\\",\\n    \\\"special effects supervisor\\\",\\n    \\\"George Burns\\\",\\n    \\\"tenor\\\",\\n    \\\"public relations expert\\\",\\n    \\\"multi instrumentalist\\\",\\n    \\\"instrumentalist\\\",\\n    \\\"frontman of\\\",\\n    \\\"soprano\\\",\\n    \\\"father of Prince\\\",\\n]\\narts = sorted(list(set(arts)), key=lambda x: len(x), reverse=True)\\n\\nsports = [\\n    \\\"international master\\\",\\n    \\\"Washington Capitals\\\",\\n    \\\"Lions\\\",\\n    \\\"VJ\\\",\\n    \\\"breeder\\\",\\n    \\\"Tour de\\\",\\n    \\\"Northern\\\",\\n    \\\"Dallas Cowboys\\\",\\n    \\\"national team\\\",\\n    \\\"Sports\\\",\\n    \\\"Sport\\\",\\n    \\\"commissioner\\\",\\n    \\\"speedway\\\",\\n    \\\"referee\\\",\\n    \\\"brother of PM Justin Trudeau\\\",\\n]\\nsports = sorted(list(set(sports)), key=lambda x: len(x), reverse=True)\\n\\nsciences = [\\n    \\\"Telecommunications\\\",\\n    \\\"Tang drink mix\\\",\\n    \\\"doctor\\\",\\n    \\\"was at the forefront of work on Read Only Memory\\\",\\n    \\\"pioneer work on Stellar nucleosynthesis\\\",\\n    \\\"rehabilitation of disabled children\\\",\\n    \\\"hypnotist\\\",\\n    \\\"parasitology\\\",\\n    \\\"probability theory\\\",\\n    \\\"nutritionist\\\",\\n    \\\"research scientist\\\",\\n]\\nsciences = sorted(list(set(sciences)), key=lambda x: len(x), reverse=True)\\n\\nbusiness_farming = [\\n    \\\"stock broker\\\",\\n    \\\"Pan Am\\\",\\n    \\\"Ovation\\\",\\n    \\\"Chairman of the Board at General Motors Corporation\\\",\\n    \\\"Chairman of the Chicago Board Options Exchange\\\",\\n    \\\"Chairman of Ford Motor Company\\\",\\n    \\\"Chairman of City National Bank\\\",\\n    \\\"Chairman of Johnson & Johnson\\\",\\n    \\\"Chairman of the Sowind Group\\\",\\n    \\\"Chairman of Target\\\",\\n    \\\"Chairman of Mobil\\\",\\n    \\\"Segway\\\",\\n    \\\"Pebble Beach\\\",\\n    \\\"CEO of the\\\",\\n    \\\"David Attenborough\\\",\\n    \\\"Chairman of Ford Motor Company\\\",\\n    \\\"financier\\\",\\n]\\nbusiness_farming = sorted(\\n    list(set(business_farming)), key=lambda x: len(x), reverse=True\\n)\\n\\nacademia_humanities = [\\n    \\\"Hebrew literature\\\",\\n    \\\"Chairman of the Befaqul Madarisil Arabia\\\",\\n    \\\"first dictionary\\\",\\n    \\\"Life\\\",\\n    \\\"Director of the National Air\\\",\\n    \\\"preservation of endangered aboriginal languages\\\",\\n    \\\"the Academy of Arts\\\",\\n]\\nacademia_humanities = sorted(\\n    list(set(academia_humanities)), key=lambda x: len(x), reverse=True\\n)\\n\\nlaw_enf_military_operator = [\\n    \\\"spymaster\\\",\\n    \\\"commander of the Selous Scouts\\\",\\n    \\\"Times war\\\",\\n    \\\"Tactics\\\",\\n    \\\"War flight nurse\\\",\\n    \\\"Purple Heart\\\",\\n    \\\"flying ace\\\",\\n    \\\"Analysis Wing\\\",\\n    \\\"Army Materiel Command\\\",\\n    \\\"recovery effort after the September attacks\\\",\\n    \\\"typed Oskar Schindler list\\\",\\n    \\\"Hero of the Federation\\\",\\n    \\\"Medal of Honor recipient\\\",\\n    \\\"WWII Air Force pilot\\\",\\n]\\nlaw_enf_military_operator = sorted(\\n    list(set(law_enf_military_operator)), key=lambda x: len(x), reverse=True\\n)\\n\\nspiritual = [\\n    \\\"New Testament\\\",\\n    'Liberation\\\" Catholic youth movement',\\n    \\\"Archdeacon of Portsmouth\\\",\\n    \\\"Fili\\\",\\n    \\\"astrologer\\\",\\n    \\\"Archbishop of Maring\\u00e1\\\",\\n    \\\"Archbishop of Toronto\\\",\\n    \\\"archbishop\\\",\\n    \\\"bishop\\\",\\n    \\\"Veliki Preslav\\\",\\n    \\\"Titular Bishop of Flenucleta\\\",\\n    \\\"Chakma raja\\\",\\n    \\\"reformer\\\",\\n    \\\"Edmonton\\\",\\n    \\\"muhaddith\\\",\\n]\\nspiritual = sorted(list(set(spiritual)), key=lambda x: len(x), reverse=True)\\n\\nsocial = [\\\"matron of Glasgow Victoria Infirmary\\\"]\\nsocial = sorted(list(set(social)), key=lambda x: len(x), reverse=True)\\n\\ncrime = [\\\"illegal oil broker\\\", \\\"gangster\\\"]\\ncrime = sorted(list(set(crime)), key=lambda x: len(x), reverse=True)\\n\\nevent_record_other = [\\n    \\\"involved in Raymond Caruana murder\\\",\\n    \\\"oldest person ever born in\\\",\\n    \\\"oldest ever citizen\\\",\\n    \\\"inspiration for the movie character shootout\\\",\\n]\\nevent_record_other = sorted(\\n    list(set(event_record_other)), key=lambda x: len(x), reverse=True\\n)\\n\\nother_species = [\\n    \\\"Christmas Hurdle\\\",\\n    \\\"terrier mix\\\",\\n    \\\"mascot for the Trenton Thunder\\\",\\n    \\\"Breeders' Cup Turf\\\",\\n    \\\"broodmare\\\",\\n    \\\"Prix Vermeille\\\",\\n]\\nother_species = sorted(list(set(other_species)), key=lambda x: len(x), reverse=True)\\n\\ncause_of_death = [\\n    \\\"Stevens Johnson syndrome\\\",\\n    \\\"or cerebral edema\\\",\\n    \\\"pulmonary edema\\\",\\n    \\\"drowned\\\",\\n    \\\"blunt force trauma\\\",\\n    \\\"lacerations\\\",\\n    \\\"morphine\\\",\\n    \\\"coronary artery plaque\\\",\\n    \\\"Valium\\\",\\n    \\\"a broken hip\\\",\\n    \\\"oxycodone\\\",\\n    \\\"myelodysplastic syndromes\\\",\\n]\\ncause_of_death = sorted(list(set(cause_of_death)), key=lambda x: len(x), reverse=True)\";\n",
       "                var nbb_formatted_code = \"# Creating lists for each category and sorting by decreasing length and removing duplicates\\n\\npolitics_govt_law = [\\n    \\\"Golders Green\\\",\\n    \\\"Zita of Bourbon Parma\\\",\\n    \\\"Public Policy Center\\\",\\n    \\\"Chairman of Millbrook First Nation\\\",\\n    \\\"Radnorshire\\\",\\n    \\\"Pacific Affairs\\\",\\n    \\\"Press Secretary to John Fitzgerald Kennedy\\\",\\n    \\\"key Watergate figure\\\",\\n    \\\"Social Welfare\\\",\\n    \\\"eventual nuclear disarmament advocate\\\",\\n    \\\"women rights advocate\\\",\\n    \\\"women rights\\\",\\n    \\\"Clinton\\\",\\n    \\\"former Secretary of State\\\",\\n    \\\"governor general of\\\",\\n    \\\"anti prohibitionist\\\",\\n    \\\"senior counsel\\\",\\n    \\\"Commander in Chief of the\\\",\\n    \\\"Marine Resources\\\",\\n    \\\"Information\\\",\\n    \\\"human rights campaigner\\\",\\n    \\\"Isleworth\\\",\\n    \\\"Refugee Board of\\\",\\n    \\\"Rajasthan\\\",\\n    \\\"mother of Benazir Bhutto\\\",\\n    \\\"Customs\\\",\\n    \\\"Welfare\\\",\\n    \\\"Heston\\\",\\n    \\\"Castleford\\\",\\n    \\\"Inverclyde\\\",\\n    \\\"Territories\\\",\\n    \\\"Prevention\\\",\\n    \\\"Traditional Affairs\\\",\\n    \\\"Eastern Stirlingshire\\\",\\n    \\\"Fife\\\",\\n    \\\"revolutionist of the independence movement\\\",\\n    \\\"Black Rod\\\",\\n    \\\"Recreation\\\",\\n    \\\"Tipton\\\",\\n    \\\"three time governor of\\\",\\n    \\\"governor of\\\",\\n    \\\"dictator\\\",\\n    \\\"Lord Advocate\\\",\\n    \\\"Treasury Solicitor\\\",\\n    \\\"Governor General of\\\",\\n    \\\"Hebei\\\",\\n    \\\"SACP\\\",\\n]\\npolitics_govt_law = sorted(\\n    list(set(politics_govt_law)), key=lambda x: len(x), reverse=True\\n)\\n\\narts = [\\n    \\\"showman\\\",\\n    \\\"ballet master\\\",\\n    \\\"Twitter\\\",\\n    \\\"miniseries\\\",\\n    \\\"amateur illusionist\\\",\\n    \\\"nightclub proprietor\\\",\\n    \\\"Guitar Company\\\",\\n    \\\"Bad Writing Contest\\\",\\n    '\\\"Fergus Lamont\\\"',\\n    \\\"Mayor Phineas T Bluster\\\",\\n    \\\"ethnic community advocate\\\",\\n    \\\"Blake Prize\\\",\\n    \\\"smooth countrypolitan stylist of the s\\\",\\n    \\\"Sun Records\\\",\\n    \\\"Split Enz\\\",\\n    \\\"concert violinist\\\",\\n    \\\"violinist\\\",\\n    \\\"Eddie Albert\\\",\\n    \\\"former wife of Keith Moon\\\",\\n    \\\"partner of Sir No\\u00ebl Coward\\\",\\n    \\\"widow of Cyril Fletcher\\\",\\n    \\\"draughtsman\\\",\\n    \\\"maestro\\\",\\n    \\\"speaker\\\",\\n    \\\"postage stamps\\\",\\n    \\\"D expert\\\",\\n    \\\"announcer\\\",\\n    \\\"The Rolling Stones to the\\\",\\n    \\\"art connoisseur\\\",\\n    \\\"planner\\\",\\n    \\\"embroiderer\\\",\\n    \\\"Cinema\\\",\\n    \\\"special effects supervisor\\\",\\n    \\\"George Burns\\\",\\n    \\\"tenor\\\",\\n    \\\"public relations expert\\\",\\n    \\\"multi instrumentalist\\\",\\n    \\\"instrumentalist\\\",\\n    \\\"frontman of\\\",\\n    \\\"soprano\\\",\\n    \\\"father of Prince\\\",\\n]\\narts = sorted(list(set(arts)), key=lambda x: len(x), reverse=True)\\n\\nsports = [\\n    \\\"international master\\\",\\n    \\\"Washington Capitals\\\",\\n    \\\"Lions\\\",\\n    \\\"VJ\\\",\\n    \\\"breeder\\\",\\n    \\\"Tour de\\\",\\n    \\\"Northern\\\",\\n    \\\"Dallas Cowboys\\\",\\n    \\\"national team\\\",\\n    \\\"Sports\\\",\\n    \\\"Sport\\\",\\n    \\\"commissioner\\\",\\n    \\\"speedway\\\",\\n    \\\"referee\\\",\\n    \\\"brother of PM Justin Trudeau\\\",\\n]\\nsports = sorted(list(set(sports)), key=lambda x: len(x), reverse=True)\\n\\nsciences = [\\n    \\\"Telecommunications\\\",\\n    \\\"Tang drink mix\\\",\\n    \\\"doctor\\\",\\n    \\\"was at the forefront of work on Read Only Memory\\\",\\n    \\\"pioneer work on Stellar nucleosynthesis\\\",\\n    \\\"rehabilitation of disabled children\\\",\\n    \\\"hypnotist\\\",\\n    \\\"parasitology\\\",\\n    \\\"probability theory\\\",\\n    \\\"nutritionist\\\",\\n    \\\"research scientist\\\",\\n]\\nsciences = sorted(list(set(sciences)), key=lambda x: len(x), reverse=True)\\n\\nbusiness_farming = [\\n    \\\"stock broker\\\",\\n    \\\"Pan Am\\\",\\n    \\\"Ovation\\\",\\n    \\\"Chairman of the Board at General Motors Corporation\\\",\\n    \\\"Chairman of the Chicago Board Options Exchange\\\",\\n    \\\"Chairman of Ford Motor Company\\\",\\n    \\\"Chairman of City National Bank\\\",\\n    \\\"Chairman of Johnson & Johnson\\\",\\n    \\\"Chairman of the Sowind Group\\\",\\n    \\\"Chairman of Target\\\",\\n    \\\"Chairman of Mobil\\\",\\n    \\\"Segway\\\",\\n    \\\"Pebble Beach\\\",\\n    \\\"CEO of the\\\",\\n    \\\"David Attenborough\\\",\\n    \\\"Chairman of Ford Motor Company\\\",\\n    \\\"financier\\\",\\n]\\nbusiness_farming = sorted(\\n    list(set(business_farming)), key=lambda x: len(x), reverse=True\\n)\\n\\nacademia_humanities = [\\n    \\\"Hebrew literature\\\",\\n    \\\"Chairman of the Befaqul Madarisil Arabia\\\",\\n    \\\"first dictionary\\\",\\n    \\\"Life\\\",\\n    \\\"Director of the National Air\\\",\\n    \\\"preservation of endangered aboriginal languages\\\",\\n    \\\"the Academy of Arts\\\",\\n]\\nacademia_humanities = sorted(\\n    list(set(academia_humanities)), key=lambda x: len(x), reverse=True\\n)\\n\\nlaw_enf_military_operator = [\\n    \\\"spymaster\\\",\\n    \\\"commander of the Selous Scouts\\\",\\n    \\\"Times war\\\",\\n    \\\"Tactics\\\",\\n    \\\"War flight nurse\\\",\\n    \\\"Purple Heart\\\",\\n    \\\"flying ace\\\",\\n    \\\"Analysis Wing\\\",\\n    \\\"Army Materiel Command\\\",\\n    \\\"recovery effort after the September attacks\\\",\\n    \\\"typed Oskar Schindler list\\\",\\n    \\\"Hero of the Federation\\\",\\n    \\\"Medal of Honor recipient\\\",\\n    \\\"WWII Air Force pilot\\\",\\n]\\nlaw_enf_military_operator = sorted(\\n    list(set(law_enf_military_operator)), key=lambda x: len(x), reverse=True\\n)\\n\\nspiritual = [\\n    \\\"New Testament\\\",\\n    'Liberation\\\" Catholic youth movement',\\n    \\\"Archdeacon of Portsmouth\\\",\\n    \\\"Fili\\\",\\n    \\\"astrologer\\\",\\n    \\\"Archbishop of Maring\\u00e1\\\",\\n    \\\"Archbishop of Toronto\\\",\\n    \\\"archbishop\\\",\\n    \\\"bishop\\\",\\n    \\\"Veliki Preslav\\\",\\n    \\\"Titular Bishop of Flenucleta\\\",\\n    \\\"Chakma raja\\\",\\n    \\\"reformer\\\",\\n    \\\"Edmonton\\\",\\n    \\\"muhaddith\\\",\\n]\\nspiritual = sorted(list(set(spiritual)), key=lambda x: len(x), reverse=True)\\n\\nsocial = [\\\"matron of Glasgow Victoria Infirmary\\\"]\\nsocial = sorted(list(set(social)), key=lambda x: len(x), reverse=True)\\n\\ncrime = [\\\"illegal oil broker\\\", \\\"gangster\\\"]\\ncrime = sorted(list(set(crime)), key=lambda x: len(x), reverse=True)\\n\\nevent_record_other = [\\n    \\\"involved in Raymond Caruana murder\\\",\\n    \\\"oldest person ever born in\\\",\\n    \\\"oldest ever citizen\\\",\\n    \\\"inspiration for the movie character shootout\\\",\\n]\\nevent_record_other = sorted(\\n    list(set(event_record_other)), key=lambda x: len(x), reverse=True\\n)\\n\\nother_species = [\\n    \\\"Christmas Hurdle\\\",\\n    \\\"terrier mix\\\",\\n    \\\"mascot for the Trenton Thunder\\\",\\n    \\\"Breeders' Cup Turf\\\",\\n    \\\"broodmare\\\",\\n    \\\"Prix Vermeille\\\",\\n]\\nother_species = sorted(list(set(other_species)), key=lambda x: len(x), reverse=True)\\n\\ncause_of_death = [\\n    \\\"Stevens Johnson syndrome\\\",\\n    \\\"or cerebral edema\\\",\\n    \\\"pulmonary edema\\\",\\n    \\\"drowned\\\",\\n    \\\"blunt force trauma\\\",\\n    \\\"lacerations\\\",\\n    \\\"morphine\\\",\\n    \\\"coronary artery plaque\\\",\\n    \\\"Valium\\\",\\n    \\\"a broken hip\\\",\\n    \\\"oxycodone\\\",\\n    \\\"myelodysplastic syndromes\\\",\\n]\\ncause_of_death = sorted(list(set(cause_of_death)), key=lambda x: len(x), reverse=True)\";\n",
       "                var nbb_cells = Jupyter.notebook.get_cells();\n",
       "                for (var i = 0; i < nbb_cells.length; ++i) {\n",
       "                    if (nbb_cells[i].input_prompt_number == nbb_cell_id) {\n",
       "                        if (nbb_cells[i].get_text() == nbb_unformatted_code) {\n",
       "                             nbb_cells[i].set_text(nbb_formatted_code);\n",
       "                        }\n",
       "                        break;\n",
       "                    }\n",
       "                }\n",
       "            }, 500);\n",
       "            "
      ],
      "text/plain": [
       "<IPython.core.display.Javascript object>"
      ]
     },
     "metadata": {},
     "output_type": "display_data"
    }
   ],
   "source": [
    "# Creating lists for each category and sorting by decreasing length and removing duplicates\n",
    "\n",
    "politics_govt_law = [\n",
    "    \"Golders Green\",\n",
    "    \"Zita of Bourbon Parma\",\n",
    "    \"Public Policy Center\",\n",
    "    \"Chairman of Millbrook First Nation\",\n",
    "    \"Radnorshire\",\n",
    "    \"Pacific Affairs\",\n",
    "    \"Press Secretary to John Fitzgerald Kennedy\",\n",
    "    \"key Watergate figure\",\n",
    "    \"Social Welfare\",\n",
    "    \"eventual nuclear disarmament advocate\",\n",
    "    \"women rights advocate\",\n",
    "    \"women rights\",\n",
    "    \"Clinton\",\n",
    "    \"former Secretary of State\",\n",
    "    \"governor general of\",\n",
    "    \"anti prohibitionist\",\n",
    "    \"senior counsel\",\n",
    "    \"Commander in Chief of the\",\n",
    "    \"Marine Resources\",\n",
    "    \"Information\",\n",
    "    \"human rights campaigner\",\n",
    "    \"Isleworth\",\n",
    "    \"Refugee Board of\",\n",
    "    \"Rajasthan\",\n",
    "    \"mother of Benazir Bhutto\",\n",
    "    \"Customs\",\n",
    "    \"Welfare\",\n",
    "    \"Heston\",\n",
    "    \"Castleford\",\n",
    "    \"Inverclyde\",\n",
    "    \"Territories\",\n",
    "    \"Prevention\",\n",
    "    \"Traditional Affairs\",\n",
    "    \"Eastern Stirlingshire\",\n",
    "    \"Fife\",\n",
    "    \"revolutionist of the independence movement\",\n",
    "    \"Black Rod\",\n",
    "    \"Recreation\",\n",
    "    \"Tipton\",\n",
    "    \"three time governor of\",\n",
    "    \"governor of\",\n",
    "    \"dictator\",\n",
    "    \"Lord Advocate\",\n",
    "    \"Treasury Solicitor\",\n",
    "    \"Governor General of\",\n",
    "    \"Hebei\",\n",
    "    \"SACP\",\n",
    "]\n",
    "politics_govt_law = sorted(\n",
    "    list(set(politics_govt_law)), key=lambda x: len(x), reverse=True\n",
    ")\n",
    "\n",
    "arts = [\n",
    "    \"showman\",\n",
    "    \"ballet master\",\n",
    "    \"Twitter\",\n",
    "    \"miniseries\",\n",
    "    \"amateur illusionist\",\n",
    "    \"nightclub proprietor\",\n",
    "    \"Guitar Company\",\n",
    "    \"Bad Writing Contest\",\n",
    "    '\"Fergus Lamont\"',\n",
    "    \"Mayor Phineas T Bluster\",\n",
    "    \"ethnic community advocate\",\n",
    "    \"Blake Prize\",\n",
    "    \"smooth countrypolitan stylist of the s\",\n",
    "    \"Sun Records\",\n",
    "    \"Split Enz\",\n",
    "    \"concert violinist\",\n",
    "    \"violinist\",\n",
    "    \"Eddie Albert\",\n",
    "    \"former wife of Keith Moon\",\n",
    "    \"partner of Sir Noël Coward\",\n",
    "    \"widow of Cyril Fletcher\",\n",
    "    \"draughtsman\",\n",
    "    \"maestro\",\n",
    "    \"speaker\",\n",
    "    \"postage stamps\",\n",
    "    \"D expert\",\n",
    "    \"announcer\",\n",
    "    \"The Rolling Stones to the\",\n",
    "    \"art connoisseur\",\n",
    "    \"planner\",\n",
    "    \"embroiderer\",\n",
    "    \"Cinema\",\n",
    "    \"special effects supervisor\",\n",
    "    \"George Burns\",\n",
    "    \"tenor\",\n",
    "    \"public relations expert\",\n",
    "    \"multi instrumentalist\",\n",
    "    \"instrumentalist\",\n",
    "    \"frontman of\",\n",
    "    \"soprano\",\n",
    "    \"father of Prince\",\n",
    "]\n",
    "arts = sorted(list(set(arts)), key=lambda x: len(x), reverse=True)\n",
    "\n",
    "sports = [\n",
    "    \"international master\",\n",
    "    \"Washington Capitals\",\n",
    "    \"Lions\",\n",
    "    \"VJ\",\n",
    "    \"breeder\",\n",
    "    \"Tour de\",\n",
    "    \"Northern\",\n",
    "    \"Dallas Cowboys\",\n",
    "    \"national team\",\n",
    "    \"Sports\",\n",
    "    \"Sport\",\n",
    "    \"commissioner\",\n",
    "    \"speedway\",\n",
    "    \"referee\",\n",
    "    \"brother of PM Justin Trudeau\",\n",
    "]\n",
    "sports = sorted(list(set(sports)), key=lambda x: len(x), reverse=True)\n",
    "\n",
    "sciences = [\n",
    "    \"Telecommunications\",\n",
    "    \"Tang drink mix\",\n",
    "    \"doctor\",\n",
    "    \"was at the forefront of work on Read Only Memory\",\n",
    "    \"pioneer work on Stellar nucleosynthesis\",\n",
    "    \"rehabilitation of disabled children\",\n",
    "    \"hypnotist\",\n",
    "    \"parasitology\",\n",
    "    \"probability theory\",\n",
    "    \"nutritionist\",\n",
    "    \"research scientist\",\n",
    "]\n",
    "sciences = sorted(list(set(sciences)), key=lambda x: len(x), reverse=True)\n",
    "\n",
    "business_farming = [\n",
    "    \"stock broker\",\n",
    "    \"Pan Am\",\n",
    "    \"Ovation\",\n",
    "    \"Chairman of the Board at General Motors Corporation\",\n",
    "    \"Chairman of the Chicago Board Options Exchange\",\n",
    "    \"Chairman of Ford Motor Company\",\n",
    "    \"Chairman of City National Bank\",\n",
    "    \"Chairman of Johnson & Johnson\",\n",
    "    \"Chairman of the Sowind Group\",\n",
    "    \"Chairman of Target\",\n",
    "    \"Chairman of Mobil\",\n",
    "    \"Segway\",\n",
    "    \"Pebble Beach\",\n",
    "    \"CEO of the\",\n",
    "    \"David Attenborough\",\n",
    "    \"Chairman of Ford Motor Company\",\n",
    "    \"financier\",\n",
    "]\n",
    "business_farming = sorted(\n",
    "    list(set(business_farming)), key=lambda x: len(x), reverse=True\n",
    ")\n",
    "\n",
    "academia_humanities = [\n",
    "    \"Hebrew literature\",\n",
    "    \"Chairman of the Befaqul Madarisil Arabia\",\n",
    "    \"first dictionary\",\n",
    "    \"Life\",\n",
    "    \"Director of the National Air\",\n",
    "    \"preservation of endangered aboriginal languages\",\n",
    "    \"the Academy of Arts\",\n",
    "]\n",
    "academia_humanities = sorted(\n",
    "    list(set(academia_humanities)), key=lambda x: len(x), reverse=True\n",
    ")\n",
    "\n",
    "law_enf_military_operator = [\n",
    "    \"spymaster\",\n",
    "    \"commander of the Selous Scouts\",\n",
    "    \"Times war\",\n",
    "    \"Tactics\",\n",
    "    \"War flight nurse\",\n",
    "    \"Purple Heart\",\n",
    "    \"flying ace\",\n",
    "    \"Analysis Wing\",\n",
    "    \"Army Materiel Command\",\n",
    "    \"recovery effort after the September attacks\",\n",
    "    \"typed Oskar Schindler list\",\n",
    "    \"Hero of the Federation\",\n",
    "    \"Medal of Honor recipient\",\n",
    "    \"WWII Air Force pilot\",\n",
    "]\n",
    "law_enf_military_operator = sorted(\n",
    "    list(set(law_enf_military_operator)), key=lambda x: len(x), reverse=True\n",
    ")\n",
    "\n",
    "spiritual = [\n",
    "    \"New Testament\",\n",
    "    'Liberation\" Catholic youth movement',\n",
    "    \"Archdeacon of Portsmouth\",\n",
    "    \"Fili\",\n",
    "    \"astrologer\",\n",
    "    \"Archbishop of Maringá\",\n",
    "    \"Archbishop of Toronto\",\n",
    "    \"archbishop\",\n",
    "    \"bishop\",\n",
    "    \"Veliki Preslav\",\n",
    "    \"Titular Bishop of Flenucleta\",\n",
    "    \"Chakma raja\",\n",
    "    \"reformer\",\n",
    "    \"Edmonton\",\n",
    "    \"muhaddith\",\n",
    "]\n",
    "spiritual = sorted(list(set(spiritual)), key=lambda x: len(x), reverse=True)\n",
    "\n",
    "social = [\"matron of Glasgow Victoria Infirmary\"]\n",
    "social = sorted(list(set(social)), key=lambda x: len(x), reverse=True)\n",
    "\n",
    "crime = [\"illegal oil broker\", \"gangster\"]\n",
    "crime = sorted(list(set(crime)), key=lambda x: len(x), reverse=True)\n",
    "\n",
    "event_record_other = [\n",
    "    \"involved in Raymond Caruana murder\",\n",
    "    \"oldest person ever born in\",\n",
    "    \"oldest ever citizen\",\n",
    "    \"inspiration for the movie character shootout\",\n",
    "]\n",
    "event_record_other = sorted(\n",
    "    list(set(event_record_other)), key=lambda x: len(x), reverse=True\n",
    ")\n",
    "\n",
    "other_species = [\n",
    "    \"Christmas Hurdle\",\n",
    "    \"terrier mix\",\n",
    "    \"mascot for the Trenton Thunder\",\n",
    "    \"Breeders' Cup Turf\",\n",
    "    \"broodmare\",\n",
    "    \"Prix Vermeille\",\n",
    "]\n",
    "other_species = sorted(list(set(other_species)), key=lambda x: len(x), reverse=True)\n",
    "\n",
    "cause_of_death = [\n",
    "    \"Stevens Johnson syndrome\",\n",
    "    \"or cerebral edema\",\n",
    "    \"pulmonary edema\",\n",
    "    \"drowned\",\n",
    "    \"blunt force trauma\",\n",
    "    \"lacerations\",\n",
    "    \"morphine\",\n",
    "    \"coronary artery plaque\",\n",
    "    \"Valium\",\n",
    "    \"a broken hip\",\n",
    "    \"oxycodone\",\n",
    "    \"myelodysplastic syndromes\",\n",
    "]\n",
    "cause_of_death = sorted(list(set(cause_of_death)), key=lambda x: len(x), reverse=True)"
   ]
  },
  {
   "cell_type": "code",
   "execution_count": 61,
   "id": "dc9eae21",
   "metadata": {},
   "outputs": [
    {
     "data": {
      "application/javascript": [
       "\n",
       "            setTimeout(function() {\n",
       "                var nbb_cell_id = 61;\n",
       "                var nbb_unformatted_code = \"# Dropping info_3_1 value for entries with duplicate category value\\ndf.loc[\\n    [\\n        index\\n        for index in df[df[\\\"info_3_1\\\"].notna()].index\\n        if \\\"creator\\\" in df.loc[index, \\\"info_3_1\\\"]\\n    ],\\n    \\\"info_3_1\\\",\\n] = \\\"\\\"\";\n",
       "                var nbb_formatted_code = \"# Dropping info_3_1 value for entries with duplicate category value\\ndf.loc[\\n    [\\n        index\\n        for index in df[df[\\\"info_3_1\\\"].notna()].index\\n        if \\\"creator\\\" in df.loc[index, \\\"info_3_1\\\"]\\n    ],\\n    \\\"info_3_1\\\",\\n] = \\\"\\\"\";\n",
       "                var nbb_cells = Jupyter.notebook.get_cells();\n",
       "                for (var i = 0; i < nbb_cells.length; ++i) {\n",
       "                    if (nbb_cells[i].input_prompt_number == nbb_cell_id) {\n",
       "                        if (nbb_cells[i].get_text() == nbb_unformatted_code) {\n",
       "                             nbb_cells[i].set_text(nbb_formatted_code);\n",
       "                        }\n",
       "                        break;\n",
       "                    }\n",
       "                }\n",
       "            }, 500);\n",
       "            "
      ],
      "text/plain": [
       "<IPython.core.display.Javascript object>"
      ]
     },
     "metadata": {},
     "output_type": "display_data"
    }
   ],
   "source": [
    "# Dropping info_3_1 value for entries with duplicate category value\n",
    "df.loc[\n",
    "    [\n",
    "        index\n",
    "        for index in df[df[\"info_3_1\"].notna()].index\n",
    "        if \"creator\" in df.loc[index, \"info_3_1\"]\n",
    "    ],\n",
    "    \"info_3_1\",\n",
    "] = \"\""
   ]
  },
  {
   "cell_type": "markdown",
   "id": "43e44b85",
   "metadata": {},
   "source": [
    "#### Creating `known_for_dict` Dictionary of Category Keys and Specific Role Lists of Values"
   ]
  },
  {
   "cell_type": "code",
   "execution_count": 62,
   "id": "607a8e6d",
   "metadata": {},
   "outputs": [
    {
     "data": {
      "application/javascript": [
       "\n",
       "            setTimeout(function() {\n",
       "                var nbb_cell_id = 62;\n",
       "                var nbb_unformatted_code = \"# Combining separate lists into one dictionary\\nknown_for_dict = {\\n    \\\"social\\\": social,\\n    \\\"spiritual\\\": spiritual,\\n    \\\"academia_humanities\\\": academia_humanities,\\n    \\\"business_farming\\\": business_farming,\\n    \\\"sciences\\\": sciences,\\n    \\\"politics_govt_law\\\": politics_govt_law,\\n    \\\"law_enf_military_operator\\\": law_enf_military_operator,\\n    \\\"crime\\\": crime,\\n    \\\"event_record_other\\\": event_record_other,\\n    \\\"other_species\\\": other_species,\\n    \\\"arts\\\": arts,\\n    \\\"sports\\\": sports,\\n}\";\n",
       "                var nbb_formatted_code = \"# Combining separate lists into one dictionary\\nknown_for_dict = {\\n    \\\"social\\\": social,\\n    \\\"spiritual\\\": spiritual,\\n    \\\"academia_humanities\\\": academia_humanities,\\n    \\\"business_farming\\\": business_farming,\\n    \\\"sciences\\\": sciences,\\n    \\\"politics_govt_law\\\": politics_govt_law,\\n    \\\"law_enf_military_operator\\\": law_enf_military_operator,\\n    \\\"crime\\\": crime,\\n    \\\"event_record_other\\\": event_record_other,\\n    \\\"other_species\\\": other_species,\\n    \\\"arts\\\": arts,\\n    \\\"sports\\\": sports,\\n}\";\n",
       "                var nbb_cells = Jupyter.notebook.get_cells();\n",
       "                for (var i = 0; i < nbb_cells.length; ++i) {\n",
       "                    if (nbb_cells[i].input_prompt_number == nbb_cell_id) {\n",
       "                        if (nbb_cells[i].get_text() == nbb_unformatted_code) {\n",
       "                             nbb_cells[i].set_text(nbb_formatted_code);\n",
       "                        }\n",
       "                        break;\n",
       "                    }\n",
       "                }\n",
       "            }, 500);\n",
       "            "
      ],
      "text/plain": [
       "<IPython.core.display.Javascript object>"
      ]
     },
     "metadata": {},
     "output_type": "display_data"
    }
   ],
   "source": [
    "# Combining separate lists into one dictionary\n",
    "known_for_dict = {\n",
    "    \"social\": social,\n",
    "    \"spiritual\": spiritual,\n",
    "    \"academia_humanities\": academia_humanities,\n",
    "    \"business_farming\": business_farming,\n",
    "    \"sciences\": sciences,\n",
    "    \"politics_govt_law\": politics_govt_law,\n",
    "    \"law_enf_military_operator\": law_enf_military_operator,\n",
    "    \"crime\": crime,\n",
    "    \"event_record_other\": event_record_other,\n",
    "    \"other_species\": other_species,\n",
    "    \"arts\": arts,\n",
    "    \"sports\": sports,\n",
    "}"
   ]
  },
  {
   "cell_type": "markdown",
   "id": "f4114d59",
   "metadata": {},
   "source": [
    "#### Extracting `known_for` Categories and `cause_of_death` Values from `info_3_1`"
   ]
  },
  {
   "cell_type": "code",
   "execution_count": 63,
   "id": "fab7ca1b",
   "metadata": {},
   "outputs": [
    {
     "name": "stdout",
     "output_type": "stream",
     "text": [
      "There are 25136 values in cause_of_death column.\n",
      "\n",
      "CPU times: total: 5.66 s\n",
      "Wall time: 5.65 s\n"
     ]
    },
    {
     "data": {
      "application/javascript": [
       "\n",
       "            setTimeout(function() {\n",
       "                var nbb_cell_id = 63;\n",
       "                var nbb_unformatted_code = \"%%time\\n\\n# Column to check\\ncolumn = 'info_3_1'\\n\\n# Start dataframe\\ndataframe = df[df[column].notna()]\\n\\n# For loop to find cause in column and extract it to cause_of_death\\nfor cause in cause_of_death:\\n    for index in dataframe.index:\\n        item = df.loc[index, column]\\n        if item:\\n            if cause in item:\\n                if df.loc[index, 'cause_of_death']:\\n                    df.loc[index, 'cause_of_death'] = df.loc[index, 'cause_of_death'] + '/' + cause\\n                    df.loc[index, column] = item.replace(cause, '').strip()\\n                else:\\n                    df.loc[index, 'cause_of_death'] = cause\\n                    df.loc[index, column] = item.replace(cause, '').strip()\\n                \\n                \\n# For loop to find role in column and extract it as category\\nfor category, category_lst in known_for_dict.items():\\n    for role in category_lst:\\n        for index in dataframe.index:\\n                item = df.loc[index, column]\\n                if item:\\n                    if role in item:\\n                        df.loc[index, category] = 1\\n                        df.loc[index, column] = item.replace(role, '').strip()\\n\\n# Calculating num_categories\\ndf[\\\"num_categories\\\"] = df[known_for_dict.keys()].sum(axis=1)\\n\\n# Checking number of cause_of_death values\\nprint(f'There are {df[\\\"cause_of_death\\\"].notna().sum()} values in cause_of_death column.\\\\n')\";\n",
       "                var nbb_formatted_code = \"%%time\\n\\n# Column to check\\ncolumn = 'info_3_1'\\n\\n# Start dataframe\\ndataframe = df[df[column].notna()]\\n\\n# For loop to find cause in column and extract it to cause_of_death\\nfor cause in cause_of_death:\\n    for index in dataframe.index:\\n        item = df.loc[index, column]\\n        if item:\\n            if cause in item:\\n                if df.loc[index, 'cause_of_death']:\\n                    df.loc[index, 'cause_of_death'] = df.loc[index, 'cause_of_death'] + '/' + cause\\n                    df.loc[index, column] = item.replace(cause, '').strip()\\n                else:\\n                    df.loc[index, 'cause_of_death'] = cause\\n                    df.loc[index, column] = item.replace(cause, '').strip()\\n                \\n                \\n# For loop to find role in column and extract it as category\\nfor category, category_lst in known_for_dict.items():\\n    for role in category_lst:\\n        for index in dataframe.index:\\n                item = df.loc[index, column]\\n                if item:\\n                    if role in item:\\n                        df.loc[index, category] = 1\\n                        df.loc[index, column] = item.replace(role, '').strip()\\n\\n# Calculating num_categories\\ndf[\\\"num_categories\\\"] = df[known_for_dict.keys()].sum(axis=1)\\n\\n# Checking number of cause_of_death values\\nprint(f'There are {df[\\\"cause_of_death\\\"].notna().sum()} values in cause_of_death column.\\\\n')\";\n",
       "                var nbb_cells = Jupyter.notebook.get_cells();\n",
       "                for (var i = 0; i < nbb_cells.length; ++i) {\n",
       "                    if (nbb_cells[i].input_prompt_number == nbb_cell_id) {\n",
       "                        if (nbb_cells[i].get_text() == nbb_unformatted_code) {\n",
       "                             nbb_cells[i].set_text(nbb_formatted_code);\n",
       "                        }\n",
       "                        break;\n",
       "                    }\n",
       "                }\n",
       "            }, 500);\n",
       "            "
      ],
      "text/plain": [
       "<IPython.core.display.Javascript object>"
      ]
     },
     "metadata": {},
     "output_type": "display_data"
    }
   ],
   "source": [
    "%%time\n",
    "\n",
    "# Column to check\n",
    "column = 'info_3_1'\n",
    "\n",
    "# Start dataframe\n",
    "dataframe = df[df[column].notna()]\n",
    "\n",
    "# For loop to find cause in column and extract it to cause_of_death\n",
    "for cause in cause_of_death:\n",
    "    for index in dataframe.index:\n",
    "        item = df.loc[index, column]\n",
    "        if item:\n",
    "            if cause in item:\n",
    "                if df.loc[index, 'cause_of_death']:\n",
    "                    df.loc[index, 'cause_of_death'] = df.loc[index, 'cause_of_death'] + '/' + cause\n",
    "                    df.loc[index, column] = item.replace(cause, '').strip()\n",
    "                else:\n",
    "                    df.loc[index, 'cause_of_death'] = cause\n",
    "                    df.loc[index, column] = item.replace(cause, '').strip()\n",
    "                \n",
    "                \n",
    "# For loop to find role in column and extract it as category\n",
    "for category, category_lst in known_for_dict.items():\n",
    "    for role in category_lst:\n",
    "        for index in dataframe.index:\n",
    "                item = df.loc[index, column]\n",
    "                if item:\n",
    "                    if role in item:\n",
    "                        df.loc[index, category] = 1\n",
    "                        df.loc[index, column] = item.replace(role, '').strip()\n",
    "\n",
    "# Calculating num_categories\n",
    "df[\"num_categories\"] = df[known_for_dict.keys()].sum(axis=1)\n",
    "\n",
    "# Checking number of cause_of_death values\n",
    "print(f'There are {df[\"cause_of_death\"].notna().sum()} values in cause_of_death column.\\n')"
   ]
  },
  {
   "cell_type": "markdown",
   "id": "754c4fe0",
   "metadata": {},
   "source": [
    "#### Checking Updated `num_categories` Value Counts"
   ]
  },
  {
   "cell_type": "code",
   "execution_count": 64,
   "id": "672ac589",
   "metadata": {},
   "outputs": [
    {
     "data": {
      "text/plain": [
       "1    84608\n",
       "2    12630\n",
       "3      787\n",
       "0        8\n",
       "4        7\n",
       "Name: num_categories, dtype: int64"
      ]
     },
     "execution_count": 64,
     "metadata": {},
     "output_type": "execute_result"
    },
    {
     "data": {
      "application/javascript": [
       "\n",
       "            setTimeout(function() {\n",
       "                var nbb_cell_id = 64;\n",
       "                var nbb_unformatted_code = \"# Checking Updated num_categories Value Counts\\ndf[\\\"num_categories\\\"].value_counts()\";\n",
       "                var nbb_formatted_code = \"# Checking Updated num_categories Value Counts\\ndf[\\\"num_categories\\\"].value_counts()\";\n",
       "                var nbb_cells = Jupyter.notebook.get_cells();\n",
       "                for (var i = 0; i < nbb_cells.length; ++i) {\n",
       "                    if (nbb_cells[i].input_prompt_number == nbb_cell_id) {\n",
       "                        if (nbb_cells[i].get_text() == nbb_unformatted_code) {\n",
       "                             nbb_cells[i].set_text(nbb_formatted_code);\n",
       "                        }\n",
       "                        break;\n",
       "                    }\n",
       "                }\n",
       "            }, 500);\n",
       "            "
      ],
      "text/plain": [
       "<IPython.core.display.Javascript object>"
      ]
     },
     "metadata": {},
     "output_type": "display_data"
    }
   ],
   "source": [
    "# Checking Updated num_categories Value Counts\n",
    "df[\"num_categories\"].value_counts()"
   ]
  },
  {
   "cell_type": "markdown",
   "id": "3f6669c9",
   "metadata": {},
   "source": [
    "#### Observations:\n",
    "- We will proceed to rebuild `known_for_dict` and `cause_of_death` for the next iteration."
   ]
  },
  {
   "cell_type": "markdown",
   "id": "193e1b10",
   "metadata": {},
   "source": [
    "#### Finding `known_for` Roles and `cause_of_death` in `info_3_1`"
   ]
  },
  {
   "cell_type": "code",
   "execution_count": 65,
   "id": "ab7f49c0",
   "metadata": {},
   "outputs": [
    {
     "data": {
      "application/javascript": [
       "\n",
       "            setTimeout(function() {\n",
       "                var nbb_cell_id = 65;\n",
       "                var nbb_unformatted_code = \"# # Obtaining values for column and their counts\\n# roles_cause_list = df[\\\"info_3_1\\\"].value_counts(ascending=True).index.tolist()\";\n",
       "                var nbb_formatted_code = \"# # Obtaining values for column and their counts\\n# roles_cause_list = df[\\\"info_3_1\\\"].value_counts(ascending=True).index.tolist()\";\n",
       "                var nbb_cells = Jupyter.notebook.get_cells();\n",
       "                for (var i = 0; i < nbb_cells.length; ++i) {\n",
       "                    if (nbb_cells[i].input_prompt_number == nbb_cell_id) {\n",
       "                        if (nbb_cells[i].get_text() == nbb_unformatted_code) {\n",
       "                             nbb_cells[i].set_text(nbb_formatted_code);\n",
       "                        }\n",
       "                        break;\n",
       "                    }\n",
       "                }\n",
       "            }, 500);\n",
       "            "
      ],
      "text/plain": [
       "<IPython.core.display.Javascript object>"
      ]
     },
     "metadata": {},
     "output_type": "display_data"
    }
   ],
   "source": [
    "# # Obtaining values for column and their counts\n",
    "# roles_cause_list = df[\"info_3_1\"].value_counts(ascending=True).index.tolist()"
   ]
  },
  {
   "cell_type": "code",
   "execution_count": 66,
   "id": "ac45ea35",
   "metadata": {},
   "outputs": [
    {
     "data": {
      "application/javascript": [
       "\n",
       "            setTimeout(function() {\n",
       "                var nbb_cell_id = 66;\n",
       "                var nbb_unformatted_code = \"# # Code to check each value\\n# value = roles_cause_list.pop()\\n# value\";\n",
       "                var nbb_formatted_code = \"# # Code to check each value\\n# value = roles_cause_list.pop()\\n# value\";\n",
       "                var nbb_cells = Jupyter.notebook.get_cells();\n",
       "                for (var i = 0; i < nbb_cells.length; ++i) {\n",
       "                    if (nbb_cells[i].input_prompt_number == nbb_cell_id) {\n",
       "                        if (nbb_cells[i].get_text() == nbb_unformatted_code) {\n",
       "                             nbb_cells[i].set_text(nbb_formatted_code);\n",
       "                        }\n",
       "                        break;\n",
       "                    }\n",
       "                }\n",
       "            }, 500);\n",
       "            "
      ],
      "text/plain": [
       "<IPython.core.display.Javascript object>"
      ]
     },
     "metadata": {},
     "output_type": "display_data"
    }
   ],
   "source": [
    "# # Code to check each value\n",
    "# value = roles_cause_list.pop()\n",
    "# value"
   ]
  },
  {
   "cell_type": "code",
   "execution_count": 67,
   "id": "28b29381",
   "metadata": {},
   "outputs": [
    {
     "data": {
      "application/javascript": [
       "\n",
       "            setTimeout(function() {\n",
       "                var nbb_cell_id = 67;\n",
       "                var nbb_unformatted_code = \"# # Create specific_roles_cause_list for above popped value\\n# specific_roles_cause_list = (\\n#     df.loc[\\n#         [\\n#             index\\n#             for index in df[df[\\\"info_3_1\\\"].notna()].index\\n#             if value in df.loc[index, \\\"info_3_1\\\"]\\n#         ],\\n#         \\\"info_3_1\\\",\\n#     ]\\n#     .value_counts()\\n#     .index.tolist()\\n# )\";\n",
       "                var nbb_formatted_code = \"# # Create specific_roles_cause_list for above popped value\\n# specific_roles_cause_list = (\\n#     df.loc[\\n#         [\\n#             index\\n#             for index in df[df[\\\"info_3_1\\\"].notna()].index\\n#             if value in df.loc[index, \\\"info_3_1\\\"]\\n#         ],\\n#         \\\"info_3_1\\\",\\n#     ]\\n#     .value_counts()\\n#     .index.tolist()\\n# )\";\n",
       "                var nbb_cells = Jupyter.notebook.get_cells();\n",
       "                for (var i = 0; i < nbb_cells.length; ++i) {\n",
       "                    if (nbb_cells[i].input_prompt_number == nbb_cell_id) {\n",
       "                        if (nbb_cells[i].get_text() == nbb_unformatted_code) {\n",
       "                             nbb_cells[i].set_text(nbb_formatted_code);\n",
       "                        }\n",
       "                        break;\n",
       "                    }\n",
       "                }\n",
       "            }, 500);\n",
       "            "
      ],
      "text/plain": [
       "<IPython.core.display.Javascript object>"
      ]
     },
     "metadata": {},
     "output_type": "display_data"
    }
   ],
   "source": [
    "# # Create specific_roles_cause_list for above popped value\n",
    "# specific_roles_cause_list = (\n",
    "#     df.loc[\n",
    "#         [\n",
    "#             index\n",
    "#             for index in df[df[\"info_3_1\"].notna()].index\n",
    "#             if value in df.loc[index, \"info_3_1\"]\n",
    "#         ],\n",
    "#         \"info_3_1\",\n",
    "#     ]\n",
    "#     .value_counts()\n",
    "#     .index.tolist()\n",
    "# )"
   ]
  },
  {
   "cell_type": "code",
   "execution_count": 68,
   "id": "01012dea",
   "metadata": {},
   "outputs": [
    {
     "data": {
      "application/javascript": [
       "\n",
       "            setTimeout(function() {\n",
       "                var nbb_cell_id = 68;\n",
       "                var nbb_unformatted_code = \"# # Viewing list sorted by descending length to copy to dictionary below and screen values\\n# sorted(specific_roles_cause_list, key=lambda x: len(x), reverse=True)\";\n",
       "                var nbb_formatted_code = \"# # Viewing list sorted by descending length to copy to dictionary below and screen values\\n# sorted(specific_roles_cause_list, key=lambda x: len(x), reverse=True)\";\n",
       "                var nbb_cells = Jupyter.notebook.get_cells();\n",
       "                for (var i = 0; i < nbb_cells.length; ++i) {\n",
       "                    if (nbb_cells[i].input_prompt_number == nbb_cell_id) {\n",
       "                        if (nbb_cells[i].get_text() == nbb_unformatted_code) {\n",
       "                             nbb_cells[i].set_text(nbb_formatted_code);\n",
       "                        }\n",
       "                        break;\n",
       "                    }\n",
       "                }\n",
       "            }, 500);\n",
       "            "
      ],
      "text/plain": [
       "<IPython.core.display.Javascript object>"
      ]
     },
     "metadata": {},
     "output_type": "display_data"
    }
   ],
   "source": [
    "# # Viewing list sorted by descending length to copy to dictionary below and screen values\n",
    "# sorted(specific_roles_cause_list, key=lambda x: len(x), reverse=True)"
   ]
  },
  {
   "cell_type": "code",
   "execution_count": 69,
   "id": "69045d25",
   "metadata": {},
   "outputs": [
    {
     "data": {
      "application/javascript": [
       "\n",
       "            setTimeout(function() {\n",
       "                var nbb_cell_id = 69;\n",
       "                var nbb_unformatted_code = \"# # Example code to quick-check a specific entry\\n# df[df[\\\"info_3_1\\\"] == value]\";\n",
       "                var nbb_formatted_code = \"# # Example code to quick-check a specific entry\\n# df[df[\\\"info_3_1\\\"] == value]\";\n",
       "                var nbb_cells = Jupyter.notebook.get_cells();\n",
       "                for (var i = 0; i < nbb_cells.length; ++i) {\n",
       "                    if (nbb_cells[i].input_prompt_number == nbb_cell_id) {\n",
       "                        if (nbb_cells[i].get_text() == nbb_unformatted_code) {\n",
       "                             nbb_cells[i].set_text(nbb_formatted_code);\n",
       "                        }\n",
       "                        break;\n",
       "                    }\n",
       "                }\n",
       "            }, 500);\n",
       "            "
      ],
      "text/plain": [
       "<IPython.core.display.Javascript object>"
      ]
     },
     "metadata": {},
     "output_type": "display_data"
    }
   ],
   "source": [
    "# # Example code to quick-check a specific entry\n",
    "# df[df[\"info_3_1\"] == value]"
   ]
  },
  {
   "cell_type": "markdown",
   "id": "06fafd59",
   "metadata": {},
   "source": [
    "#### Creating Lists for Each `known_for` Category and for `cause_of_death`"
   ]
  },
  {
   "cell_type": "code",
   "execution_count": 70,
   "id": "ea55642b",
   "metadata": {},
   "outputs": [
    {
     "data": {
      "application/javascript": [
       "\n",
       "            setTimeout(function() {\n",
       "                var nbb_cell_id = 70;\n",
       "                var nbb_unformatted_code = \"# Creating lists for each category and sorting by decreasing length and removing duplicates\\n\\npolitics_govt_law = [\\n    \\\"Promotion of Employment\\\",\\n    \\\"Employment\\\",\\n    \\\"Sale East\\\",\\n    \\\"Levies\\\",\\n    \\\"United Nations\\\",\\n    \\\"ZANLA\\\",\\n    \\\"OPEC\\\",\\n    \\\"Chief Judge of the Supreme Court\\\",\\n    \\\"Wadiyar dynasty\\\",\\n    \\\"South Tyrone\\\",\\n    \\\"Marxist\\\",\\n    \\\"Services\\\",\\n    \\\"President of\\\",\\n    \\\"sister of Robert Mugabe\\\",\\n    \\\"MSP for Strathkelvin\\\",\\n    \\\"Middleton\\\",\\n    \\\"public health expert\\\",\\n    \\\"Hillsborough\\\",\\n    \\\"Dublin West\\\",\\n    \\\"Poplar\\\",\\n    \\\"legalisation campaigner\\\",\\n    \\\"campaigner\\\",\\n    \\\"Arthabaska\\\",\\n    \\\"Loudoun\\\",\\n    \\\"Thrace\\\",\\n    \\\"trans nations builder\\\",\\n    \\\"Chatham\\\",\\n    \\\"Exchange Commission\\\",\\n    \\\"Royton\\\",\\n    \\\"Bohus\\\",\\n    \\\"Food\\\",\\n    \\\"Natural Gas\\\",\\n    \\\"Nixon Enemy\\\",\\n    \\\"Redditch\\\",\\n    \\\"Public Service Reform\\\",\\n    \\\"NTUC\\\",\\n    \\\"civil rights litigator\\\",\\n    \\\"aristocrat\\\",\\n    \\\"zionist\\\",\\n    \\\"Minister\\\",\\n    \\\"Native rights\\\",\\n    \\\"Commercial Workers Int'l\\\",\\n    \\\"segregationist\\\",\\n    \\\"legislator\\\",\\n    \\\"animal rights advocate\\\",\\n    \\\"civil rights advocat\\\",\\n    \\\"Solicitor General of the\\\",\\n    \\\"Elena Ceau\\u0219escu\\\",\\n    \\\"courtier\\\",\\n    \\\"pretender to the throne\\\",\\n    \\\"labor organizer\\\",\\n    \\\"banking regulator\\\",\\n    \\\"State Treasurer for West Virginia\\\",\\n    \\\"economic affairs\\\",\\n    \\\"Urban Habitat\\\",\\n    \\\"gay rights campaigner\\\",\\n]\\npolitics_govt_law = sorted(\\n    list(set(politics_govt_law)), key=lambda x: len(x), reverse=True\\n)\\n\\narts = [\\n    \\\"piper\\\",\\n    \\\"Dean\\\",\\n    \\\"other game shows\\\",\\n    \\\"mother of Daniel Day Lewis\\\",\\n    \\\"father of Nicolas Cage\\\",\\n    \\\"piano\\\",\\n    \\\"Premio Campiello recipient\\\",\\n    \\\"humourist\\\",\\n    \\\"stage practitioner\\\",\\n    \\\"CEO of\\\",\\n    \\\"muralist\\\",\\n    \\\"beauty queen\\\",\\n    \\\"clown\\\",\\n    \\\"Roses\\\",\\n    \\\"won nine Grammy Awards\\\",\\n    \\\"Cologne\\\",\\n    \\\"the Road Runner\\\",\\n    \\\"antiquities dealer\\\",\\n    \\\"orator\\\",\\n    \\\"auctioneer\\\",\\n    \\\"TV scripts\\\",\\n    \\\"radio\\\",\\n    \\\"baritone\\\",\\n    \\\"Eva Gabor\\\",\\n    \\\"stamp auctioneer\\\",\\n    \\\"advocate of the arts\\\",\\n    \\\"art supporter\\\",\\n    \\\"Sci Fi movies\\\",\\n    \\\"Charlie Parker\\\",\\n    \\\"furniture maker\\\",\\n    \\\"Apollo Theater\\\",\\n    \\\"De Facto\\\",\\n    \\\"companion of Gore Vidal\\\",\\n    \\\"drummer\\\",\\n    \\\"harpsichordist\\\",\\n    \\\"non fiction on Native s\\\",\\n    '\\\" Mogul\\\"',\\n    \\\"Ella Fitzgerald\\\",\\n    \\\"magazine covers\\\",\\n    \\\"produced Top albums\\\",\\n    \\\"six time Academy Awards nominee\\\",\\n]\\narts = sorted(list(set(arts)), key=lambda x: len(x), reverse=True)\\n\\nsports = [\\n    \\\"surfer\\\",\\n    \\\"Giro d'Italia in\\\",\\n    \\\"waterskier\\\",\\n    \\\"sailmaker\\\",\\n    \\\"alpinist\\\",\\n    \\\"long jumper\\\",\\n    \\\"father of Hugh Laurie\\\",\\n    \\\"athlete\\\",\\n    \\\"javelin thrower\\\",\\n    \\\"mountaineer\\\",\\n    \\\"ski orienteer\\\",\\n    \\\"the Philadelphia Phillies\\\",\\n    \\\"Mike Tyson\\\",\\n    \\\"world champion\\\",\\n    \\\"climber\\\",\\n]\\nsports = sorted(list(set(sports)), key=lambda x: len(x), reverse=True)\\n\\nsciences = [\\n    \\\"chemist\\\",\\n    \\\"wear fabrics\\\",\\n    \\\"assigned use of @ sign\\\",\\n    \\\"motorcycle builder\\\",\\n    \\\"paranormalist\\\",\\n    \\\"the Executive Director of the Gerontology Research Group\\\",\\n    \\\"the folding ping pong table\\\",\\n    \\\"the Nanchang J\\\",\\n    \\\"pediatrician\\\",\\n    \\\"statistics\\\",\\n    \\\"Carboniferous periods\\\",\\n    \\\"patent holder\\\",\\n    'coined the term \\\"transistor\\\"',\\n    \\\"design scientist\\\",\\n    \\\"color vision\\\",\\n    \\\"chloroplast biology\\\",\\n    \\\"quantum optics\\\",\\n    \\\"fats\\\",\\n    \\\"the likelihood principle\\\",\\n    \\\"solar plasma spectroscopy\\\",\\n    \\\"fractals\\\",\\n]\\nsciences = sorted(list(set(sciences)), key=lambda x: len(x), reverse=True)\\n\\nbusiness_farming = [\\n    \\\"Esprit\\\",\\n    \\\"Goodyear\\\",\\n    \\\"billionaire\\\",\\n    \\\"Popsicles\\\",\\n    \\\"restaurant proprietor\\\",\\n    \\\"corporate raider\\\",\\n    \\\"viticulturist\\\",\\n]\\nbusiness_farming = sorted(\\n    list(set(business_farming)), key=lambda x: len(x), reverse=True\\n)\\n\\nacademia_humanities = [\\n    \\\"semiotician\\\",\\n    \\\"theatre instructor\\\",\\n    \\\"instructor\\\",\\n    \\\"language\\\",\\n    \\\"a specialist in the Berber languages\\\",\\n    \\\"Heritage Center\\\",\\n    \\\"reading advocate\\\",\\n    \\\"cultural analysis\\\",\\n    \\\"Syriacist\\\",\\n    \\\"an expert on Pascal\\\",\\n]\\nacademia_humanities = sorted(\\n    list(set(academia_humanities)), key=lambda x: len(x), reverse=True\\n)\\n\\nlaw_enf_military_operator = [\\n    \\\"Atmospheric ed Officer Corps\\\",\\n    \\\"G I Joe\\\",\\n    \\\"Chief of the Navy General Staff\\\",\\n    \\\"Border Patrol\\\",\\n    \\\"missions\\\",\\n    \\\"Defence Staff Chief\\\",\\n    \\\"mercenary\\\",\\n    \\\"Army Ranger\\\",\\n    \\\"linked to al Qaeda\\\",\\n    \\\"war hero\\\",\\n    \\\"aquanaut\\\",\\n    \\\"CIA operative\\\",\\n    \\\"Al Itihaad al Islamiya\\\",\\n    \\\"test pilot\\\",\\n    \\\"militant for the independence of\\\",\\n    \\\"Federal Bureau of Investigation informer\\\",\\n    \\\"World War II OSS operative\\\",\\n    \\\"Management at the Department of Defense\\\",\\n    \\\"a confessed spy for the KGB\\\",\\n    \\\"Corregidor\\\",\\n    \\\"last known person to see Anne Franke\\\",\\n    \\\"World War II war\\\",\\n]\\nlaw_enf_military_operator = sorted(\\n    list(set(law_enf_military_operator)), key=lambda x: len(x), reverse=True\\n)\\n\\nspiritual = [\\n    \\\"Furness\\\",\\n    \\\"Malankara Metropolitan\\\",\\n    \\\"The Isles\\\",\\n    \\\"All\\\",\\n    \\\"Eastern\\\",\\n    \\\"Ossory\\\",\\n    \\\"Biblical revisionist\\\",\\n    \\\"Byblos\\\",\\n    \\\"Bishop of Nitra\\\",\\n    \\\"creationist\\\",\\n    \\\"father of Christian Reconstructionism\\\",\\n    \\\"Islamic\\\",\\n    \\\"rabbi\\\",\\n]\\nspiritual = sorted(list(set(spiritual)), key=lambda x: len(x), reverse=True)\\n\\nsocial = [\\\"the Odebrecht Foundation\\\", \\\"Chicago\\\", \\\"Family Centres\\\"]\\nsocial = sorted(list(set(social)), key=lambda x: len(x), reverse=True)\\n\\ncrime = [\\n    \\\"loan crisis\\\",\\n    \\\"firearms possession\\\",\\n    \\\"crimes against humanity during the Civil War\\\",\\n    \\\"rapist\\\",\\n]\\ncrime = sorted(list(set(crime)), key=lambda x: len(x), reverse=True)\\n\\nevent_record_other = [\\n    \\\"supercentenarian\\\",\\n    \\\"renounced the office of\\\",\\n    \\\"father of Balthazar Getty\\\",\\n    \\\"envoy to the Republic\\\",\\n    \\\"yoga adept\\\",\\n]\\nevent_record_other = sorted(\\n    list(set(event_record_other)), key=lambda x: len(x), reverse=True\\n)\\n\\nother_species = [\\\"Racehorse of the Year\\\"]\\nother_species = sorted(list(set(other_species)), key=lambda x: len(x), reverse=True)\\n\\ncause_of_death = [\\n    \\\"exhaustion\\\",\\n    \\\"hoof inflammation\\\",\\n    \\\"helmet to shield others from a grenade explosion\\\",\\n    \\\"methyl alcohol poisoning\\\",\\n    \\\"acute respiratory distress syndrome\\\",\\n    \\\"craniocerebral trauma\\\",\\n    \\\"asthma\\\",\\n]\\ncause_of_death = sorted(list(set(cause_of_death)), key=lambda x: len(x), reverse=True)\";\n",
       "                var nbb_formatted_code = \"# Creating lists for each category and sorting by decreasing length and removing duplicates\\n\\npolitics_govt_law = [\\n    \\\"Promotion of Employment\\\",\\n    \\\"Employment\\\",\\n    \\\"Sale East\\\",\\n    \\\"Levies\\\",\\n    \\\"United Nations\\\",\\n    \\\"ZANLA\\\",\\n    \\\"OPEC\\\",\\n    \\\"Chief Judge of the Supreme Court\\\",\\n    \\\"Wadiyar dynasty\\\",\\n    \\\"South Tyrone\\\",\\n    \\\"Marxist\\\",\\n    \\\"Services\\\",\\n    \\\"President of\\\",\\n    \\\"sister of Robert Mugabe\\\",\\n    \\\"MSP for Strathkelvin\\\",\\n    \\\"Middleton\\\",\\n    \\\"public health expert\\\",\\n    \\\"Hillsborough\\\",\\n    \\\"Dublin West\\\",\\n    \\\"Poplar\\\",\\n    \\\"legalisation campaigner\\\",\\n    \\\"campaigner\\\",\\n    \\\"Arthabaska\\\",\\n    \\\"Loudoun\\\",\\n    \\\"Thrace\\\",\\n    \\\"trans nations builder\\\",\\n    \\\"Chatham\\\",\\n    \\\"Exchange Commission\\\",\\n    \\\"Royton\\\",\\n    \\\"Bohus\\\",\\n    \\\"Food\\\",\\n    \\\"Natural Gas\\\",\\n    \\\"Nixon Enemy\\\",\\n    \\\"Redditch\\\",\\n    \\\"Public Service Reform\\\",\\n    \\\"NTUC\\\",\\n    \\\"civil rights litigator\\\",\\n    \\\"aristocrat\\\",\\n    \\\"zionist\\\",\\n    \\\"Minister\\\",\\n    \\\"Native rights\\\",\\n    \\\"Commercial Workers Int'l\\\",\\n    \\\"segregationist\\\",\\n    \\\"legislator\\\",\\n    \\\"animal rights advocate\\\",\\n    \\\"civil rights advocat\\\",\\n    \\\"Solicitor General of the\\\",\\n    \\\"Elena Ceau\\u0219escu\\\",\\n    \\\"courtier\\\",\\n    \\\"pretender to the throne\\\",\\n    \\\"labor organizer\\\",\\n    \\\"banking regulator\\\",\\n    \\\"State Treasurer for West Virginia\\\",\\n    \\\"economic affairs\\\",\\n    \\\"Urban Habitat\\\",\\n    \\\"gay rights campaigner\\\",\\n]\\npolitics_govt_law = sorted(\\n    list(set(politics_govt_law)), key=lambda x: len(x), reverse=True\\n)\\n\\narts = [\\n    \\\"piper\\\",\\n    \\\"Dean\\\",\\n    \\\"other game shows\\\",\\n    \\\"mother of Daniel Day Lewis\\\",\\n    \\\"father of Nicolas Cage\\\",\\n    \\\"piano\\\",\\n    \\\"Premio Campiello recipient\\\",\\n    \\\"humourist\\\",\\n    \\\"stage practitioner\\\",\\n    \\\"CEO of\\\",\\n    \\\"muralist\\\",\\n    \\\"beauty queen\\\",\\n    \\\"clown\\\",\\n    \\\"Roses\\\",\\n    \\\"won nine Grammy Awards\\\",\\n    \\\"Cologne\\\",\\n    \\\"the Road Runner\\\",\\n    \\\"antiquities dealer\\\",\\n    \\\"orator\\\",\\n    \\\"auctioneer\\\",\\n    \\\"TV scripts\\\",\\n    \\\"radio\\\",\\n    \\\"baritone\\\",\\n    \\\"Eva Gabor\\\",\\n    \\\"stamp auctioneer\\\",\\n    \\\"advocate of the arts\\\",\\n    \\\"art supporter\\\",\\n    \\\"Sci Fi movies\\\",\\n    \\\"Charlie Parker\\\",\\n    \\\"furniture maker\\\",\\n    \\\"Apollo Theater\\\",\\n    \\\"De Facto\\\",\\n    \\\"companion of Gore Vidal\\\",\\n    \\\"drummer\\\",\\n    \\\"harpsichordist\\\",\\n    \\\"non fiction on Native s\\\",\\n    '\\\" Mogul\\\"',\\n    \\\"Ella Fitzgerald\\\",\\n    \\\"magazine covers\\\",\\n    \\\"produced Top albums\\\",\\n    \\\"six time Academy Awards nominee\\\",\\n]\\narts = sorted(list(set(arts)), key=lambda x: len(x), reverse=True)\\n\\nsports = [\\n    \\\"surfer\\\",\\n    \\\"Giro d'Italia in\\\",\\n    \\\"waterskier\\\",\\n    \\\"sailmaker\\\",\\n    \\\"alpinist\\\",\\n    \\\"long jumper\\\",\\n    \\\"father of Hugh Laurie\\\",\\n    \\\"athlete\\\",\\n    \\\"javelin thrower\\\",\\n    \\\"mountaineer\\\",\\n    \\\"ski orienteer\\\",\\n    \\\"the Philadelphia Phillies\\\",\\n    \\\"Mike Tyson\\\",\\n    \\\"world champion\\\",\\n    \\\"climber\\\",\\n]\\nsports = sorted(list(set(sports)), key=lambda x: len(x), reverse=True)\\n\\nsciences = [\\n    \\\"chemist\\\",\\n    \\\"wear fabrics\\\",\\n    \\\"assigned use of @ sign\\\",\\n    \\\"motorcycle builder\\\",\\n    \\\"paranormalist\\\",\\n    \\\"the Executive Director of the Gerontology Research Group\\\",\\n    \\\"the folding ping pong table\\\",\\n    \\\"the Nanchang J\\\",\\n    \\\"pediatrician\\\",\\n    \\\"statistics\\\",\\n    \\\"Carboniferous periods\\\",\\n    \\\"patent holder\\\",\\n    'coined the term \\\"transistor\\\"',\\n    \\\"design scientist\\\",\\n    \\\"color vision\\\",\\n    \\\"chloroplast biology\\\",\\n    \\\"quantum optics\\\",\\n    \\\"fats\\\",\\n    \\\"the likelihood principle\\\",\\n    \\\"solar plasma spectroscopy\\\",\\n    \\\"fractals\\\",\\n]\\nsciences = sorted(list(set(sciences)), key=lambda x: len(x), reverse=True)\\n\\nbusiness_farming = [\\n    \\\"Esprit\\\",\\n    \\\"Goodyear\\\",\\n    \\\"billionaire\\\",\\n    \\\"Popsicles\\\",\\n    \\\"restaurant proprietor\\\",\\n    \\\"corporate raider\\\",\\n    \\\"viticulturist\\\",\\n]\\nbusiness_farming = sorted(\\n    list(set(business_farming)), key=lambda x: len(x), reverse=True\\n)\\n\\nacademia_humanities = [\\n    \\\"semiotician\\\",\\n    \\\"theatre instructor\\\",\\n    \\\"instructor\\\",\\n    \\\"language\\\",\\n    \\\"a specialist in the Berber languages\\\",\\n    \\\"Heritage Center\\\",\\n    \\\"reading advocate\\\",\\n    \\\"cultural analysis\\\",\\n    \\\"Syriacist\\\",\\n    \\\"an expert on Pascal\\\",\\n]\\nacademia_humanities = sorted(\\n    list(set(academia_humanities)), key=lambda x: len(x), reverse=True\\n)\\n\\nlaw_enf_military_operator = [\\n    \\\"Atmospheric ed Officer Corps\\\",\\n    \\\"G I Joe\\\",\\n    \\\"Chief of the Navy General Staff\\\",\\n    \\\"Border Patrol\\\",\\n    \\\"missions\\\",\\n    \\\"Defence Staff Chief\\\",\\n    \\\"mercenary\\\",\\n    \\\"Army Ranger\\\",\\n    \\\"linked to al Qaeda\\\",\\n    \\\"war hero\\\",\\n    \\\"aquanaut\\\",\\n    \\\"CIA operative\\\",\\n    \\\"Al Itihaad al Islamiya\\\",\\n    \\\"test pilot\\\",\\n    \\\"militant for the independence of\\\",\\n    \\\"Federal Bureau of Investigation informer\\\",\\n    \\\"World War II OSS operative\\\",\\n    \\\"Management at the Department of Defense\\\",\\n    \\\"a confessed spy for the KGB\\\",\\n    \\\"Corregidor\\\",\\n    \\\"last known person to see Anne Franke\\\",\\n    \\\"World War II war\\\",\\n]\\nlaw_enf_military_operator = sorted(\\n    list(set(law_enf_military_operator)), key=lambda x: len(x), reverse=True\\n)\\n\\nspiritual = [\\n    \\\"Furness\\\",\\n    \\\"Malankara Metropolitan\\\",\\n    \\\"The Isles\\\",\\n    \\\"All\\\",\\n    \\\"Eastern\\\",\\n    \\\"Ossory\\\",\\n    \\\"Biblical revisionist\\\",\\n    \\\"Byblos\\\",\\n    \\\"Bishop of Nitra\\\",\\n    \\\"creationist\\\",\\n    \\\"father of Christian Reconstructionism\\\",\\n    \\\"Islamic\\\",\\n    \\\"rabbi\\\",\\n]\\nspiritual = sorted(list(set(spiritual)), key=lambda x: len(x), reverse=True)\\n\\nsocial = [\\\"the Odebrecht Foundation\\\", \\\"Chicago\\\", \\\"Family Centres\\\"]\\nsocial = sorted(list(set(social)), key=lambda x: len(x), reverse=True)\\n\\ncrime = [\\n    \\\"loan crisis\\\",\\n    \\\"firearms possession\\\",\\n    \\\"crimes against humanity during the Civil War\\\",\\n    \\\"rapist\\\",\\n]\\ncrime = sorted(list(set(crime)), key=lambda x: len(x), reverse=True)\\n\\nevent_record_other = [\\n    \\\"supercentenarian\\\",\\n    \\\"renounced the office of\\\",\\n    \\\"father of Balthazar Getty\\\",\\n    \\\"envoy to the Republic\\\",\\n    \\\"yoga adept\\\",\\n]\\nevent_record_other = sorted(\\n    list(set(event_record_other)), key=lambda x: len(x), reverse=True\\n)\\n\\nother_species = [\\\"Racehorse of the Year\\\"]\\nother_species = sorted(list(set(other_species)), key=lambda x: len(x), reverse=True)\\n\\ncause_of_death = [\\n    \\\"exhaustion\\\",\\n    \\\"hoof inflammation\\\",\\n    \\\"helmet to shield others from a grenade explosion\\\",\\n    \\\"methyl alcohol poisoning\\\",\\n    \\\"acute respiratory distress syndrome\\\",\\n    \\\"craniocerebral trauma\\\",\\n    \\\"asthma\\\",\\n]\\ncause_of_death = sorted(list(set(cause_of_death)), key=lambda x: len(x), reverse=True)\";\n",
       "                var nbb_cells = Jupyter.notebook.get_cells();\n",
       "                for (var i = 0; i < nbb_cells.length; ++i) {\n",
       "                    if (nbb_cells[i].input_prompt_number == nbb_cell_id) {\n",
       "                        if (nbb_cells[i].get_text() == nbb_unformatted_code) {\n",
       "                             nbb_cells[i].set_text(nbb_formatted_code);\n",
       "                        }\n",
       "                        break;\n",
       "                    }\n",
       "                }\n",
       "            }, 500);\n",
       "            "
      ],
      "text/plain": [
       "<IPython.core.display.Javascript object>"
      ]
     },
     "metadata": {},
     "output_type": "display_data"
    }
   ],
   "source": [
    "# Creating lists for each category and sorting by decreasing length and removing duplicates\n",
    "\n",
    "politics_govt_law = [\n",
    "    \"Promotion of Employment\",\n",
    "    \"Employment\",\n",
    "    \"Sale East\",\n",
    "    \"Levies\",\n",
    "    \"United Nations\",\n",
    "    \"ZANLA\",\n",
    "    \"OPEC\",\n",
    "    \"Chief Judge of the Supreme Court\",\n",
    "    \"Wadiyar dynasty\",\n",
    "    \"South Tyrone\",\n",
    "    \"Marxist\",\n",
    "    \"Services\",\n",
    "    \"President of\",\n",
    "    \"sister of Robert Mugabe\",\n",
    "    \"MSP for Strathkelvin\",\n",
    "    \"Middleton\",\n",
    "    \"public health expert\",\n",
    "    \"Hillsborough\",\n",
    "    \"Dublin West\",\n",
    "    \"Poplar\",\n",
    "    \"legalisation campaigner\",\n",
    "    \"campaigner\",\n",
    "    \"Arthabaska\",\n",
    "    \"Loudoun\",\n",
    "    \"Thrace\",\n",
    "    \"trans nations builder\",\n",
    "    \"Chatham\",\n",
    "    \"Exchange Commission\",\n",
    "    \"Royton\",\n",
    "    \"Bohus\",\n",
    "    \"Food\",\n",
    "    \"Natural Gas\",\n",
    "    \"Nixon Enemy\",\n",
    "    \"Redditch\",\n",
    "    \"Public Service Reform\",\n",
    "    \"NTUC\",\n",
    "    \"civil rights litigator\",\n",
    "    \"aristocrat\",\n",
    "    \"zionist\",\n",
    "    \"Minister\",\n",
    "    \"Native rights\",\n",
    "    \"Commercial Workers Int'l\",\n",
    "    \"segregationist\",\n",
    "    \"legislator\",\n",
    "    \"animal rights advocate\",\n",
    "    \"civil rights advocat\",\n",
    "    \"Solicitor General of the\",\n",
    "    \"Elena Ceaușescu\",\n",
    "    \"courtier\",\n",
    "    \"pretender to the throne\",\n",
    "    \"labor organizer\",\n",
    "    \"banking regulator\",\n",
    "    \"State Treasurer for West Virginia\",\n",
    "    \"economic affairs\",\n",
    "    \"Urban Habitat\",\n",
    "    \"gay rights campaigner\",\n",
    "]\n",
    "politics_govt_law = sorted(\n",
    "    list(set(politics_govt_law)), key=lambda x: len(x), reverse=True\n",
    ")\n",
    "\n",
    "arts = [\n",
    "    \"piper\",\n",
    "    \"Dean\",\n",
    "    \"other game shows\",\n",
    "    \"mother of Daniel Day Lewis\",\n",
    "    \"father of Nicolas Cage\",\n",
    "    \"piano\",\n",
    "    \"Premio Campiello recipient\",\n",
    "    \"humourist\",\n",
    "    \"stage practitioner\",\n",
    "    \"CEO of\",\n",
    "    \"muralist\",\n",
    "    \"beauty queen\",\n",
    "    \"clown\",\n",
    "    \"Roses\",\n",
    "    \"won nine Grammy Awards\",\n",
    "    \"Cologne\",\n",
    "    \"the Road Runner\",\n",
    "    \"antiquities dealer\",\n",
    "    \"orator\",\n",
    "    \"auctioneer\",\n",
    "    \"TV scripts\",\n",
    "    \"radio\",\n",
    "    \"baritone\",\n",
    "    \"Eva Gabor\",\n",
    "    \"stamp auctioneer\",\n",
    "    \"advocate of the arts\",\n",
    "    \"art supporter\",\n",
    "    \"Sci Fi movies\",\n",
    "    \"Charlie Parker\",\n",
    "    \"furniture maker\",\n",
    "    \"Apollo Theater\",\n",
    "    \"De Facto\",\n",
    "    \"companion of Gore Vidal\",\n",
    "    \"drummer\",\n",
    "    \"harpsichordist\",\n",
    "    \"non fiction on Native s\",\n",
    "    '\" Mogul\"',\n",
    "    \"Ella Fitzgerald\",\n",
    "    \"magazine covers\",\n",
    "    \"produced Top albums\",\n",
    "    \"six time Academy Awards nominee\",\n",
    "]\n",
    "arts = sorted(list(set(arts)), key=lambda x: len(x), reverse=True)\n",
    "\n",
    "sports = [\n",
    "    \"surfer\",\n",
    "    \"Giro d'Italia in\",\n",
    "    \"waterskier\",\n",
    "    \"sailmaker\",\n",
    "    \"alpinist\",\n",
    "    \"long jumper\",\n",
    "    \"father of Hugh Laurie\",\n",
    "    \"athlete\",\n",
    "    \"javelin thrower\",\n",
    "    \"mountaineer\",\n",
    "    \"ski orienteer\",\n",
    "    \"the Philadelphia Phillies\",\n",
    "    \"Mike Tyson\",\n",
    "    \"world champion\",\n",
    "    \"climber\",\n",
    "]\n",
    "sports = sorted(list(set(sports)), key=lambda x: len(x), reverse=True)\n",
    "\n",
    "sciences = [\n",
    "    \"chemist\",\n",
    "    \"wear fabrics\",\n",
    "    \"assigned use of @ sign\",\n",
    "    \"motorcycle builder\",\n",
    "    \"paranormalist\",\n",
    "    \"the Executive Director of the Gerontology Research Group\",\n",
    "    \"the folding ping pong table\",\n",
    "    \"the Nanchang J\",\n",
    "    \"pediatrician\",\n",
    "    \"statistics\",\n",
    "    \"Carboniferous periods\",\n",
    "    \"patent holder\",\n",
    "    'coined the term \"transistor\"',\n",
    "    \"design scientist\",\n",
    "    \"color vision\",\n",
    "    \"chloroplast biology\",\n",
    "    \"quantum optics\",\n",
    "    \"fats\",\n",
    "    \"the likelihood principle\",\n",
    "    \"solar plasma spectroscopy\",\n",
    "    \"fractals\",\n",
    "]\n",
    "sciences = sorted(list(set(sciences)), key=lambda x: len(x), reverse=True)\n",
    "\n",
    "business_farming = [\n",
    "    \"Esprit\",\n",
    "    \"Goodyear\",\n",
    "    \"billionaire\",\n",
    "    \"Popsicles\",\n",
    "    \"restaurant proprietor\",\n",
    "    \"corporate raider\",\n",
    "    \"viticulturist\",\n",
    "]\n",
    "business_farming = sorted(\n",
    "    list(set(business_farming)), key=lambda x: len(x), reverse=True\n",
    ")\n",
    "\n",
    "academia_humanities = [\n",
    "    \"semiotician\",\n",
    "    \"theatre instructor\",\n",
    "    \"instructor\",\n",
    "    \"language\",\n",
    "    \"a specialist in the Berber languages\",\n",
    "    \"Heritage Center\",\n",
    "    \"reading advocate\",\n",
    "    \"cultural analysis\",\n",
    "    \"Syriacist\",\n",
    "    \"an expert on Pascal\",\n",
    "]\n",
    "academia_humanities = sorted(\n",
    "    list(set(academia_humanities)), key=lambda x: len(x), reverse=True\n",
    ")\n",
    "\n",
    "law_enf_military_operator = [\n",
    "    \"Atmospheric ed Officer Corps\",\n",
    "    \"G I Joe\",\n",
    "    \"Chief of the Navy General Staff\",\n",
    "    \"Border Patrol\",\n",
    "    \"missions\",\n",
    "    \"Defence Staff Chief\",\n",
    "    \"mercenary\",\n",
    "    \"Army Ranger\",\n",
    "    \"linked to al Qaeda\",\n",
    "    \"war hero\",\n",
    "    \"aquanaut\",\n",
    "    \"CIA operative\",\n",
    "    \"Al Itihaad al Islamiya\",\n",
    "    \"test pilot\",\n",
    "    \"militant for the independence of\",\n",
    "    \"Federal Bureau of Investigation informer\",\n",
    "    \"World War II OSS operative\",\n",
    "    \"Management at the Department of Defense\",\n",
    "    \"a confessed spy for the KGB\",\n",
    "    \"Corregidor\",\n",
    "    \"last known person to see Anne Franke\",\n",
    "    \"World War II war\",\n",
    "]\n",
    "law_enf_military_operator = sorted(\n",
    "    list(set(law_enf_military_operator)), key=lambda x: len(x), reverse=True\n",
    ")\n",
    "\n",
    "spiritual = [\n",
    "    \"Furness\",\n",
    "    \"Malankara Metropolitan\",\n",
    "    \"The Isles\",\n",
    "    \"All\",\n",
    "    \"Eastern\",\n",
    "    \"Ossory\",\n",
    "    \"Biblical revisionist\",\n",
    "    \"Byblos\",\n",
    "    \"Bishop of Nitra\",\n",
    "    \"creationist\",\n",
    "    \"father of Christian Reconstructionism\",\n",
    "    \"Islamic\",\n",
    "    \"rabbi\",\n",
    "]\n",
    "spiritual = sorted(list(set(spiritual)), key=lambda x: len(x), reverse=True)\n",
    "\n",
    "social = [\"the Odebrecht Foundation\", \"Chicago\", \"Family Centres\"]\n",
    "social = sorted(list(set(social)), key=lambda x: len(x), reverse=True)\n",
    "\n",
    "crime = [\n",
    "    \"loan crisis\",\n",
    "    \"firearms possession\",\n",
    "    \"crimes against humanity during the Civil War\",\n",
    "    \"rapist\",\n",
    "]\n",
    "crime = sorted(list(set(crime)), key=lambda x: len(x), reverse=True)\n",
    "\n",
    "event_record_other = [\n",
    "    \"supercentenarian\",\n",
    "    \"renounced the office of\",\n",
    "    \"father of Balthazar Getty\",\n",
    "    \"envoy to the Republic\",\n",
    "    \"yoga adept\",\n",
    "]\n",
    "event_record_other = sorted(\n",
    "    list(set(event_record_other)), key=lambda x: len(x), reverse=True\n",
    ")\n",
    "\n",
    "other_species = [\"Racehorse of the Year\"]\n",
    "other_species = sorted(list(set(other_species)), key=lambda x: len(x), reverse=True)\n",
    "\n",
    "cause_of_death = [\n",
    "    \"exhaustion\",\n",
    "    \"hoof inflammation\",\n",
    "    \"helmet to shield others from a grenade explosion\",\n",
    "    \"methyl alcohol poisoning\",\n",
    "    \"acute respiratory distress syndrome\",\n",
    "    \"craniocerebral trauma\",\n",
    "    \"asthma\",\n",
    "]\n",
    "cause_of_death = sorted(list(set(cause_of_death)), key=lambda x: len(x), reverse=True)"
   ]
  },
  {
   "cell_type": "markdown",
   "id": "0802af9d",
   "metadata": {},
   "source": [
    "#### Creating `known_for_dict` Dictionary of Category Keys and Specific Role Lists of Values"
   ]
  },
  {
   "cell_type": "code",
   "execution_count": 71,
   "id": "570b1d1e",
   "metadata": {},
   "outputs": [
    {
     "data": {
      "application/javascript": [
       "\n",
       "            setTimeout(function() {\n",
       "                var nbb_cell_id = 71;\n",
       "                var nbb_unformatted_code = \"# Combining separate lists into one dictionary\\nknown_for_dict = {\\n    \\\"social\\\": social,\\n    \\\"spiritual\\\": spiritual,\\n    \\\"academia_humanities\\\": academia_humanities,\\n    \\\"business_farming\\\": business_farming,\\n    \\\"sciences\\\": sciences,\\n    \\\"politics_govt_law\\\": politics_govt_law,\\n    \\\"law_enf_military_operator\\\": law_enf_military_operator,\\n    \\\"crime\\\": crime,\\n    \\\"event_record_other\\\": event_record_other,\\n    \\\"other_species\\\": other_species,\\n    \\\"arts\\\": arts,\\n    \\\"sports\\\": sports,\\n}\";\n",
       "                var nbb_formatted_code = \"# Combining separate lists into one dictionary\\nknown_for_dict = {\\n    \\\"social\\\": social,\\n    \\\"spiritual\\\": spiritual,\\n    \\\"academia_humanities\\\": academia_humanities,\\n    \\\"business_farming\\\": business_farming,\\n    \\\"sciences\\\": sciences,\\n    \\\"politics_govt_law\\\": politics_govt_law,\\n    \\\"law_enf_military_operator\\\": law_enf_military_operator,\\n    \\\"crime\\\": crime,\\n    \\\"event_record_other\\\": event_record_other,\\n    \\\"other_species\\\": other_species,\\n    \\\"arts\\\": arts,\\n    \\\"sports\\\": sports,\\n}\";\n",
       "                var nbb_cells = Jupyter.notebook.get_cells();\n",
       "                for (var i = 0; i < nbb_cells.length; ++i) {\n",
       "                    if (nbb_cells[i].input_prompt_number == nbb_cell_id) {\n",
       "                        if (nbb_cells[i].get_text() == nbb_unformatted_code) {\n",
       "                             nbb_cells[i].set_text(nbb_formatted_code);\n",
       "                        }\n",
       "                        break;\n",
       "                    }\n",
       "                }\n",
       "            }, 500);\n",
       "            "
      ],
      "text/plain": [
       "<IPython.core.display.Javascript object>"
      ]
     },
     "metadata": {},
     "output_type": "display_data"
    }
   ],
   "source": [
    "# Combining separate lists into one dictionary\n",
    "known_for_dict = {\n",
    "    \"social\": social,\n",
    "    \"spiritual\": spiritual,\n",
    "    \"academia_humanities\": academia_humanities,\n",
    "    \"business_farming\": business_farming,\n",
    "    \"sciences\": sciences,\n",
    "    \"politics_govt_law\": politics_govt_law,\n",
    "    \"law_enf_military_operator\": law_enf_military_operator,\n",
    "    \"crime\": crime,\n",
    "    \"event_record_other\": event_record_other,\n",
    "    \"other_species\": other_species,\n",
    "    \"arts\": arts,\n",
    "    \"sports\": sports,\n",
    "}"
   ]
  },
  {
   "cell_type": "markdown",
   "id": "81b0be6e",
   "metadata": {},
   "source": [
    "#### Extracting `known_for` Categories and `cause_of_death` Values from `info_3_1`"
   ]
  },
  {
   "cell_type": "code",
   "execution_count": 72,
   "id": "899de6dc",
   "metadata": {},
   "outputs": [
    {
     "name": "stdout",
     "output_type": "stream",
     "text": [
      "There are 25136 values in cause_of_death column.\n",
      "\n",
      "CPU times: total: 5.83 s\n",
      "Wall time: 5.82 s\n"
     ]
    },
    {
     "data": {
      "application/javascript": [
       "\n",
       "            setTimeout(function() {\n",
       "                var nbb_cell_id = 72;\n",
       "                var nbb_unformatted_code = \"%%time\\n\\n# Column to check\\ncolumn = 'info_3_1'\\n\\n# Start dataframe\\ndataframe = df[df[column].notna()]\\n\\n# For loop to find cause in column and extract it to cause_of_death\\nfor cause in cause_of_death:\\n    for index in dataframe.index:\\n        item = df.loc[index, column]\\n        if item:\\n            if cause in item:\\n                if df.loc[index, 'cause_of_death']:\\n                    df.loc[index, 'cause_of_death'] = df.loc[index, 'cause_of_death'] + '/' + cause\\n                    df.loc[index, column] = item.replace(cause, '').strip()\\n                else:\\n                    df.loc[index, 'cause_of_death'] = cause\\n                    df.loc[index, column] = item.replace(cause, '').strip()\\n                \\n                \\n# For loop to find role in column and extract it as category\\nfor category, category_lst in known_for_dict.items():\\n    for role in category_lst:\\n        for index in dataframe.index:\\n                item = df.loc[index, column]\\n                if item:\\n                    if role in item:\\n                        df.loc[index, category] = 1\\n                        df.loc[index, column] = item.replace(role, '').strip()\\n\\n# Calculating num_categories\\ndf[\\\"num_categories\\\"] = df[known_for_dict.keys()].sum(axis=1)\\n\\n# Checking number of cause_of_death values\\nprint(f'There are {df[\\\"cause_of_death\\\"].notna().sum()} values in cause_of_death column.\\\\n')\";\n",
       "                var nbb_formatted_code = \"%%time\\n\\n# Column to check\\ncolumn = 'info_3_1'\\n\\n# Start dataframe\\ndataframe = df[df[column].notna()]\\n\\n# For loop to find cause in column and extract it to cause_of_death\\nfor cause in cause_of_death:\\n    for index in dataframe.index:\\n        item = df.loc[index, column]\\n        if item:\\n            if cause in item:\\n                if df.loc[index, 'cause_of_death']:\\n                    df.loc[index, 'cause_of_death'] = df.loc[index, 'cause_of_death'] + '/' + cause\\n                    df.loc[index, column] = item.replace(cause, '').strip()\\n                else:\\n                    df.loc[index, 'cause_of_death'] = cause\\n                    df.loc[index, column] = item.replace(cause, '').strip()\\n                \\n                \\n# For loop to find role in column and extract it as category\\nfor category, category_lst in known_for_dict.items():\\n    for role in category_lst:\\n        for index in dataframe.index:\\n                item = df.loc[index, column]\\n                if item:\\n                    if role in item:\\n                        df.loc[index, category] = 1\\n                        df.loc[index, column] = item.replace(role, '').strip()\\n\\n# Calculating num_categories\\ndf[\\\"num_categories\\\"] = df[known_for_dict.keys()].sum(axis=1)\\n\\n# Checking number of cause_of_death values\\nprint(f'There are {df[\\\"cause_of_death\\\"].notna().sum()} values in cause_of_death column.\\\\n')\";\n",
       "                var nbb_cells = Jupyter.notebook.get_cells();\n",
       "                for (var i = 0; i < nbb_cells.length; ++i) {\n",
       "                    if (nbb_cells[i].input_prompt_number == nbb_cell_id) {\n",
       "                        if (nbb_cells[i].get_text() == nbb_unformatted_code) {\n",
       "                             nbb_cells[i].set_text(nbb_formatted_code);\n",
       "                        }\n",
       "                        break;\n",
       "                    }\n",
       "                }\n",
       "            }, 500);\n",
       "            "
      ],
      "text/plain": [
       "<IPython.core.display.Javascript object>"
      ]
     },
     "metadata": {},
     "output_type": "display_data"
    }
   ],
   "source": [
    "%%time\n",
    "\n",
    "# Column to check\n",
    "column = 'info_3_1'\n",
    "\n",
    "# Start dataframe\n",
    "dataframe = df[df[column].notna()]\n",
    "\n",
    "# For loop to find cause in column and extract it to cause_of_death\n",
    "for cause in cause_of_death:\n",
    "    for index in dataframe.index:\n",
    "        item = df.loc[index, column]\n",
    "        if item:\n",
    "            if cause in item:\n",
    "                if df.loc[index, 'cause_of_death']:\n",
    "                    df.loc[index, 'cause_of_death'] = df.loc[index, 'cause_of_death'] + '/' + cause\n",
    "                    df.loc[index, column] = item.replace(cause, '').strip()\n",
    "                else:\n",
    "                    df.loc[index, 'cause_of_death'] = cause\n",
    "                    df.loc[index, column] = item.replace(cause, '').strip()\n",
    "                \n",
    "                \n",
    "# For loop to find role in column and extract it as category\n",
    "for category, category_lst in known_for_dict.items():\n",
    "    for role in category_lst:\n",
    "        for index in dataframe.index:\n",
    "                item = df.loc[index, column]\n",
    "                if item:\n",
    "                    if role in item:\n",
    "                        df.loc[index, category] = 1\n",
    "                        df.loc[index, column] = item.replace(role, '').strip()\n",
    "\n",
    "# Calculating num_categories\n",
    "df[\"num_categories\"] = df[known_for_dict.keys()].sum(axis=1)\n",
    "\n",
    "# Checking number of cause_of_death values\n",
    "print(f'There are {df[\"cause_of_death\"].notna().sum()} values in cause_of_death column.\\n')"
   ]
  },
  {
   "cell_type": "markdown",
   "id": "abd18aed",
   "metadata": {},
   "source": [
    "#### Checking Updated `num_categories` Value Counts"
   ]
  },
  {
   "cell_type": "code",
   "execution_count": 73,
   "id": "fff4adbe",
   "metadata": {},
   "outputs": [
    {
     "data": {
      "text/plain": [
       "1    84581\n",
       "2    12635\n",
       "3      808\n",
       "0        8\n",
       "4        8\n",
       "Name: num_categories, dtype: int64"
      ]
     },
     "execution_count": 73,
     "metadata": {},
     "output_type": "execute_result"
    },
    {
     "data": {
      "application/javascript": [
       "\n",
       "            setTimeout(function() {\n",
       "                var nbb_cell_id = 73;\n",
       "                var nbb_unformatted_code = \"# Checking Updated num_categories Value Counts\\ndf[\\\"num_categories\\\"].value_counts()\";\n",
       "                var nbb_formatted_code = \"# Checking Updated num_categories Value Counts\\ndf[\\\"num_categories\\\"].value_counts()\";\n",
       "                var nbb_cells = Jupyter.notebook.get_cells();\n",
       "                for (var i = 0; i < nbb_cells.length; ++i) {\n",
       "                    if (nbb_cells[i].input_prompt_number == nbb_cell_id) {\n",
       "                        if (nbb_cells[i].get_text() == nbb_unformatted_code) {\n",
       "                             nbb_cells[i].set_text(nbb_formatted_code);\n",
       "                        }\n",
       "                        break;\n",
       "                    }\n",
       "                }\n",
       "            }, 500);\n",
       "            "
      ],
      "text/plain": [
       "<IPython.core.display.Javascript object>"
      ]
     },
     "metadata": {},
     "output_type": "display_data"
    }
   ],
   "source": [
    "# Checking Updated num_categories Value Counts\n",
    "df[\"num_categories\"].value_counts()"
   ]
  },
  {
   "cell_type": "markdown",
   "id": "2b1d362e",
   "metadata": {},
   "source": [
    "#### Observations:\n",
    "- We will proceed to rebuild `known_for_dict` and `cause_of_death` for the next iteration."
   ]
  },
  {
   "cell_type": "markdown",
   "id": "90e0ad99",
   "metadata": {},
   "source": [
    "#### Finding `known_for` Roles and `cause_of_death` in `info_3_1`"
   ]
  },
  {
   "cell_type": "code",
   "execution_count": 74,
   "id": "80431ed5",
   "metadata": {},
   "outputs": [
    {
     "data": {
      "application/javascript": [
       "\n",
       "            setTimeout(function() {\n",
       "                var nbb_cell_id = 74;\n",
       "                var nbb_unformatted_code = \"# # Obtaining values for column and their counts\\n# roles_cause_list = df[\\\"info_3_1\\\"].value_counts(ascending=True).index.tolist()\";\n",
       "                var nbb_formatted_code = \"# # Obtaining values for column and their counts\\n# roles_cause_list = df[\\\"info_3_1\\\"].value_counts(ascending=True).index.tolist()\";\n",
       "                var nbb_cells = Jupyter.notebook.get_cells();\n",
       "                for (var i = 0; i < nbb_cells.length; ++i) {\n",
       "                    if (nbb_cells[i].input_prompt_number == nbb_cell_id) {\n",
       "                        if (nbb_cells[i].get_text() == nbb_unformatted_code) {\n",
       "                             nbb_cells[i].set_text(nbb_formatted_code);\n",
       "                        }\n",
       "                        break;\n",
       "                    }\n",
       "                }\n",
       "            }, 500);\n",
       "            "
      ],
      "text/plain": [
       "<IPython.core.display.Javascript object>"
      ]
     },
     "metadata": {},
     "output_type": "display_data"
    }
   ],
   "source": [
    "# # Obtaining values for column and their counts\n",
    "# roles_cause_list = df[\"info_3_1\"].value_counts(ascending=True).index.tolist()"
   ]
  },
  {
   "cell_type": "code",
   "execution_count": 75,
   "id": "d63aef85",
   "metadata": {},
   "outputs": [
    {
     "data": {
      "application/javascript": [
       "\n",
       "            setTimeout(function() {\n",
       "                var nbb_cell_id = 75;\n",
       "                var nbb_unformatted_code = \"# # Code to check each value\\n# value = roles_cause_list.pop()\\n# value\";\n",
       "                var nbb_formatted_code = \"# # Code to check each value\\n# value = roles_cause_list.pop()\\n# value\";\n",
       "                var nbb_cells = Jupyter.notebook.get_cells();\n",
       "                for (var i = 0; i < nbb_cells.length; ++i) {\n",
       "                    if (nbb_cells[i].input_prompt_number == nbb_cell_id) {\n",
       "                        if (nbb_cells[i].get_text() == nbb_unformatted_code) {\n",
       "                             nbb_cells[i].set_text(nbb_formatted_code);\n",
       "                        }\n",
       "                        break;\n",
       "                    }\n",
       "                }\n",
       "            }, 500);\n",
       "            "
      ],
      "text/plain": [
       "<IPython.core.display.Javascript object>"
      ]
     },
     "metadata": {},
     "output_type": "display_data"
    }
   ],
   "source": [
    "# # Code to check each value\n",
    "# value = roles_cause_list.pop()\n",
    "# value"
   ]
  },
  {
   "cell_type": "code",
   "execution_count": 76,
   "id": "9ef7bb97",
   "metadata": {},
   "outputs": [
    {
     "data": {
      "application/javascript": [
       "\n",
       "            setTimeout(function() {\n",
       "                var nbb_cell_id = 76;\n",
       "                var nbb_unformatted_code = \"# # Create specific_roles_cause_list for above popped value\\n# specific_roles_cause_list = (\\n#     df.loc[\\n#         [\\n#             index\\n#             for index in df[df[\\\"info_3_1\\\"].notna()].index\\n#             if value in df.loc[index, \\\"info_3_1\\\"]\\n#         ],\\n#         \\\"info_3_1\\\",\\n#     ]\\n#     .value_counts()\\n#     .index.tolist()\\n# )\";\n",
       "                var nbb_formatted_code = \"# # Create specific_roles_cause_list for above popped value\\n# specific_roles_cause_list = (\\n#     df.loc[\\n#         [\\n#             index\\n#             for index in df[df[\\\"info_3_1\\\"].notna()].index\\n#             if value in df.loc[index, \\\"info_3_1\\\"]\\n#         ],\\n#         \\\"info_3_1\\\",\\n#     ]\\n#     .value_counts()\\n#     .index.tolist()\\n# )\";\n",
       "                var nbb_cells = Jupyter.notebook.get_cells();\n",
       "                for (var i = 0; i < nbb_cells.length; ++i) {\n",
       "                    if (nbb_cells[i].input_prompt_number == nbb_cell_id) {\n",
       "                        if (nbb_cells[i].get_text() == nbb_unformatted_code) {\n",
       "                             nbb_cells[i].set_text(nbb_formatted_code);\n",
       "                        }\n",
       "                        break;\n",
       "                    }\n",
       "                }\n",
       "            }, 500);\n",
       "            "
      ],
      "text/plain": [
       "<IPython.core.display.Javascript object>"
      ]
     },
     "metadata": {},
     "output_type": "display_data"
    }
   ],
   "source": [
    "# # Create specific_roles_cause_list for above popped value\n",
    "# specific_roles_cause_list = (\n",
    "#     df.loc[\n",
    "#         [\n",
    "#             index\n",
    "#             for index in df[df[\"info_3_1\"].notna()].index\n",
    "#             if value in df.loc[index, \"info_3_1\"]\n",
    "#         ],\n",
    "#         \"info_3_1\",\n",
    "#     ]\n",
    "#     .value_counts()\n",
    "#     .index.tolist()\n",
    "# )"
   ]
  },
  {
   "cell_type": "code",
   "execution_count": 77,
   "id": "4e3f8581",
   "metadata": {},
   "outputs": [
    {
     "data": {
      "application/javascript": [
       "\n",
       "            setTimeout(function() {\n",
       "                var nbb_cell_id = 77;\n",
       "                var nbb_unformatted_code = \"# # Viewing list sorted by descending length to copy to dictionary below and screen values\\n# sorted(specific_roles_cause_list, key=lambda x: len(x), reverse=True)\";\n",
       "                var nbb_formatted_code = \"# # Viewing list sorted by descending length to copy to dictionary below and screen values\\n# sorted(specific_roles_cause_list, key=lambda x: len(x), reverse=True)\";\n",
       "                var nbb_cells = Jupyter.notebook.get_cells();\n",
       "                for (var i = 0; i < nbb_cells.length; ++i) {\n",
       "                    if (nbb_cells[i].input_prompt_number == nbb_cell_id) {\n",
       "                        if (nbb_cells[i].get_text() == nbb_unformatted_code) {\n",
       "                             nbb_cells[i].set_text(nbb_formatted_code);\n",
       "                        }\n",
       "                        break;\n",
       "                    }\n",
       "                }\n",
       "            }, 500);\n",
       "            "
      ],
      "text/plain": [
       "<IPython.core.display.Javascript object>"
      ]
     },
     "metadata": {},
     "output_type": "display_data"
    }
   ],
   "source": [
    "# # Viewing list sorted by descending length to copy to dictionary below and screen values\n",
    "# sorted(specific_roles_cause_list, key=lambda x: len(x), reverse=True)"
   ]
  },
  {
   "cell_type": "code",
   "execution_count": 78,
   "id": "09062d86",
   "metadata": {},
   "outputs": [
    {
     "data": {
      "application/javascript": [
       "\n",
       "            setTimeout(function() {\n",
       "                var nbb_cell_id = 78;\n",
       "                var nbb_unformatted_code = \"# # Example code to quick-check a specific entry\\n# df[df[\\\"info_3_1\\\"] == value]\";\n",
       "                var nbb_formatted_code = \"# # Example code to quick-check a specific entry\\n# df[df[\\\"info_3_1\\\"] == value]\";\n",
       "                var nbb_cells = Jupyter.notebook.get_cells();\n",
       "                for (var i = 0; i < nbb_cells.length; ++i) {\n",
       "                    if (nbb_cells[i].input_prompt_number == nbb_cell_id) {\n",
       "                        if (nbb_cells[i].get_text() == nbb_unformatted_code) {\n",
       "                             nbb_cells[i].set_text(nbb_formatted_code);\n",
       "                        }\n",
       "                        break;\n",
       "                    }\n",
       "                }\n",
       "            }, 500);\n",
       "            "
      ],
      "text/plain": [
       "<IPython.core.display.Javascript object>"
      ]
     },
     "metadata": {},
     "output_type": "display_data"
    }
   ],
   "source": [
    "# # Example code to quick-check a specific entry\n",
    "# df[df[\"info_3_1\"] == value]"
   ]
  },
  {
   "cell_type": "markdown",
   "id": "9f59735c",
   "metadata": {},
   "source": [
    "#### Creating Lists for Each `known_for` Category and for `cause_of_death`"
   ]
  },
  {
   "cell_type": "code",
   "execution_count": 79,
   "id": "cf8e6f80",
   "metadata": {},
   "outputs": [
    {
     "data": {
      "application/javascript": [
       "\n",
       "            setTimeout(function() {\n",
       "                var nbb_cell_id = 79;\n",
       "                var nbb_unformatted_code = \"# Creating lists for each category and sorting by decreasing length and removing duplicates\\n\\npolitics_govt_law = [\\n    \\\"Fine Arts\\\",\\n    \\\"MLA for Haidergarh\\\",\\n    \\\"Skegness\\\",\\n    \\\"lobbyist\\\",\\n    \\\"Home Affairs\\\",\\n    \\\"nd Districts\\\",\\n    \\\"Receiver General of Massachusetts\\\",\\n    \\\"New\\\",\\n    \\\"Industrial Research\\\",\\n    \\\"International Security Affairs\\\",\\n    \\\"Wisconsin State Assembly\\\",\\n    \\\"government advisor\\\",\\n    \\\"Korea\\\",\\n    \\\"Mines\\\",\\n    \\\"Legal Affairs Commission\\\",\\n    \\\"IAWG\\\",\\n    \\\"Nicobar Island\\\",\\n    \\\"Patagonia\\\",\\n    \\\"Livestock\\\",\\n    \\\"Nevis\\\",\\n    \\\"counsel\\\",\\n    \\\"Wallington\\\",\\n    \\\"Family Affairs\\\",\\n    \\\"Camborne\\\",\\n    \\\"Constitutional Convention\\\",\\n    \\\"Industrial Research\\\",\\n    \\\"Research\\\",\\n    \\\"Aged Care\\\",\\n    \\\"Spenborough\\\",\\n    \\\"Spen\\\",\\n    \\\"Arab tolerance\\\",\\n    \\\"East Perthshire\\\",\\n    \\\"social insurance\\\",\\n    \\\"information\\\",\\n    \\\"sportsman\\\",\\n    \\\"sports\\\",\\n    \\\"Bihar MLC\\\",\\n    \\\"shipping\\\",\\n    \\\"energy\\\",\\n    \\\"mineral resources\\\",\\n    \\\"treasury solicitor\\\",\\n    \\\"emigrants\\\",\\n    \\\"Social Council\\\",\\n    \\\"human services\\\",\\n    \\\"public affairs\\\",\\n    \\\"industry\\\",\\n    \\\"family welfare\\\",\\n    \\\"monopolies\\\",\\n    \\\"co prince of\\\",\\n    \\\"treasurer of Queensland\\\",\\n    \\\"the International Center on Nonviolent Conflict\\\",\\n    \\\"whistleblower\\\",\\n    \\\"three term TD\\\",\\n    \\\"environment protection\\\",\\n    \\\"urbanism\\\",\\n    \\\"Sarawak\\\",\\n    \\\"tourism\\\",\\n    \\\"science\\\",\\n    \\\"foreign affairs of the PDNC\\\",\\n    \\\"social security\\\",\\n    \\\"plenipotentiary of\\\",\\n    \\\"signatory of the Act of the Re Establishment of the State of\\\",\\n    \\\"commerce\\\",\\n    \\\"Chippewa Indians\\\",\\n    \\\"literacy\\\",\\n    \\\"coiner of country name\\\",\\n    \\\"Haryana High Court\\\",\\n    \\\"Mass Education\\\",\\n    \\\"Drugs\\\",\\n    \\\"Acting Surgeon General of the\\\",\\n    \\\"Democracy\\\",\\n    \\\"Co Prince of\\\",\\n    \\\"Leader of the Opposition\\\",\\n    \\\"chief ideologist of Khmer Rouge\\\",\\n    \\\"Treasurer of UKIP\\\",\\n    \\\"Social Affairs\\\",\\n    \\\"Deputy Speaker of Parliament\\\",\\n    \\\"animal rights\\\",\\n    \\\"Political Rights Association\\\",\\n    \\\"Transportation\\\",\\n]\\npolitics_govt_law = sorted(\\n    list(set(politics_govt_law)), key=lambda x: len(x), reverse=True\\n)\\n\\narts = [\\n    \\\"mixer\\\",\\n    \\\"organist\\\",\\n    \\\"flautist\\\",\\n    \\\"society figure\\\",\\n    \\\"gossip celebrity\\\",\\n    \\\"trombonist\\\",\\n    \\\"personal assistant to\\\",\\n    \\\"Colossus Records\\\",\\n    \\\"Imagineer\\\",\\n    \\\"cook\\\",\\n    \\\"gardener\\\",\\n    \\\"talk show host\\\",\\n    \\\"clarinetist\\\",\\n    \\\"book binder\\\",\\n    \\\"talkback host\\\",\\n    \\\"accordionist\\\",\\n    \\\"televangelist\\\",\\n]\\narts = sorted(list(set(arts)), key=lambda x: len(x), reverse=True)\\n\\nsports = [\\n    \\\"sport fisherman\\\",\\n    \\\"Commonwealth Games champion\\\",\\n    \\\"sportsman\\\",\\n    \\\"larger than life persona\\\",\\n    \\\"Thoroughbred racehorse\\\",\\n    \\\"Colorado Avalanche\\\",\\n    \\\"football\\\",\\n    \\\"World Hockey Association\\\",\\n    \\\"Rushden & Diamonds F C\\\",\\n    \\\"jetpack pilot\\\",\\n    \\\"Atlanta Braves\\\",\\n    \\\"racehorse\\\",\\n    \\\"Open women doubles champion\\\",\\n    \\\"the Washington Wizards\\\",\\n    \\\"lawn bowler\\\",\\n]\\nsports = sorted(list(set(sports)), key=lambda x: len(x), reverse=True)\\n\\nsciences = [\\n    \\\"asteroids\\\",\\n    \\\"the Arctic\\\",\\n    \\\"soil science\\\",\\n    \\\"HQ Trivia\\\",\\n    \\\"LBO\\\",\\n    \\\"the Draper Prize\\\",\\n    \\\"pharmacist\\\",\\n    \\\"builder\\\",\\n    \\\"electron spin resonance spectroscopy\\\",\\n    \\\"organ transplantation\\\",\\n    \\\"chemotherapy\\\",\\n    \\\"medical scientist\\\",\\n    \\\"scientist\\\",\\n    \\\"discoverer of REM sleep\\\",\\n    \\\"statistician\\\",\\n    \\\"medical scientist\\\",\\n    \\\"medical\\\",\\n    \\\"Academy of Engineering\\\",\\n    \\\"Yaogan satellites\\\",\\n    \\\"first flight simulator\\\",\\n    \\\"Computational Chemists\\\",\\n    \\\"developer of the image scanner\\\",\\n    \\\"engine\\\",\\n]\\nsciences = sorted(list(set(sciences)), key=lambda x: len(x), reverse=True)\\n\\nbusiness_farming = [\\n    \\\"HNA Group\\\",\\n    \\\"Semapa\\\",\\n    \\\"the CITIC Group\\\",\\n    \\\"marketer\\\",\\n    \\\"Yulon\\\",\\n    \\\"Roland Corporation\\\",\\n    \\\"grazier\\\",\\n    \\\"SGV & Company\\\",\\n    \\\"real estate developer\\\",\\n    \\\"chairman of Primark\\\",\\n    \\\"EasyJet\\\",\\n    \\\"Sun International\\\",\\n]\\nbusiness_farming = sorted(\\n    list(set(business_farming)), key=lambda x: len(x), reverse=True\\n)\\n\\nacademia_humanities = [\\n    \\\"design at the Museum of Modern Art\\\",\\n    \\\"Education Center\\\",\\n    \\\"CQUT\\\",\\n    \\\"orientalist\\\",\\n    \\\"celebrated the evolution of type\\\",\\n    \\\"Albert Museum\\\",\\n    \\\"president\\\",\\n    \\\"Tape Archive\\\",\\n    \\\"archdruid\\\",\\n    \\\"dean of the Padma Seshadri Bala Bhavan\\\",\\n    \\\"Design\\\",\\n    \\\"Surgeons\\\",\\n    \\\"study\\\",\\n]\\nacademia_humanities = sorted(\\n    list(set(academia_humanities)), key=lambda x: len(x), reverse=True\\n)\\n\\nlaw_enf_military_operator = [\\n    \\\"Artillery\\\",\\n    \\\"recovery following\\\",\\n    \\\"adviser to the National Security Council\\\",\\n    \\\"Springhill mining disasters\\\",\\n    \\\"CICPC investigator\\\",\\n    \\\"PIRA\\\",\\n    \\\"the No Fighter Squadrons\\\",\\n    \\\"spy\\\",\\n    \\\"paramilitary\\\",\\n    \\\"aviator\\\",\\n    \\\"Guangzhou Military Region Air Forces\\\",\\n    \\\"Marshal of the Union\\\",\\n    \\\"tank commander\\\",\\n    \\\"Security Service\\\",\\n    \\\"Air Defence Forces Army\\\",\\n    \\\"Artillery\\\",\\n    \\\"chief of Haro lockdown\\\",\\n]\\nlaw_enf_military_operator = sorted(\\n    list(set(law_enf_military_operator)), key=lambda x: len(x), reverse=True\\n)\\n\\nspiritual = [\\n    \\\"theistic evolutionist\\\",\\n    \\\"Edinburgh\\\",\\n    \\\"Wells\\\",\\n    \\\"Mashonaland\\\",\\n    \\\"pagan revivalist\\\",\\n    \\\"Jews\\\",\\n    \\\"Kilmacduagh\\\",\\n    \\\"Pihopa o Aotearoa\\\",\\n    \\\"Opus Dei\\\",\\n    \\\"preacher\\\",\\n    \\\"esotericist\\\",\\n    \\\"Forzol\\\",\\n    \\\"Fort de\\\",\\n    \\\"Brighton\\\",\\n    \\\"Herzegovina\\\",\\n    \\\"Lorraine\\\",\\n    \\\"Slutsk\\\",\\n    \\\"Prizren\\\",\\n    \\\"Chukotka\\\",\\n    \\\"St Vincent\\\",\\n    \\\"Kuruman\\\",\\n    \\\"Raphoe\\\",\\n    \\\"Minneapolis\\\",\\n    \\\"Ipswich\\\",\\n    \\\"Suzdal\\\",\\n]\\nspiritual = sorted(list(set(spiritual)), key=lambda x: len(x), reverse=True)\\n\\nsocial = []\\nsocial = sorted(list(set(social)), key=lambda x: len(x), reverse=True)\\n\\ncrime = [\\\"informant\\\", \\\"human rights violator\\\", \\\"embezzlement\\\", \\\"kidnapper\\\"]\\ncrime = sorted(list(set(crime)), key=lambda x: len(x), reverse=True)\\n\\nevent_record_other = [\\n    \\\"last living verified person born in the th century\\\",\\n    \\\"kidnap victim\\\",\\n    \\\"parental rights case\\\",\\n    \\\"imprisoned by\\\",\\n    \\\"murder\\\",\\n    \\\"the Siege of Sarajevo\\\",\\n]\\nevent_record_other = sorted(\\n    list(set(event_record_other)), key=lambda x: len(x), reverse=True\\n)\\n\\nother_species = [\\\"Ascot Gold Cup\\\", \\\"Derby winner\\\", \\\"hatched in captivity\\\"]\\nother_species = sorted(list(set(other_species)), key=lambda x: len(x), reverse=True)\\n\\ncause_of_death = [\\n    \\\"ALS\\\",\\n    \\\"esophageal dysphagia\\\",\\n    \\\"swine flu\\\",\\n    \\\"brain trauma\\\",\\n    \\\"respiratory stress syndrome\\\",\\n    \\\"chronic traumatic encephalopathy\\\",\\n    \\\"strangled\\\",\\n    \\\"brutality\\\",\\n    \\\"traffic collision\\\",\\n]\\ncause_of_death = sorted(list(set(cause_of_death)), key=lambda x: len(x), reverse=True)\";\n",
       "                var nbb_formatted_code = \"# Creating lists for each category and sorting by decreasing length and removing duplicates\\n\\npolitics_govt_law = [\\n    \\\"Fine Arts\\\",\\n    \\\"MLA for Haidergarh\\\",\\n    \\\"Skegness\\\",\\n    \\\"lobbyist\\\",\\n    \\\"Home Affairs\\\",\\n    \\\"nd Districts\\\",\\n    \\\"Receiver General of Massachusetts\\\",\\n    \\\"New\\\",\\n    \\\"Industrial Research\\\",\\n    \\\"International Security Affairs\\\",\\n    \\\"Wisconsin State Assembly\\\",\\n    \\\"government advisor\\\",\\n    \\\"Korea\\\",\\n    \\\"Mines\\\",\\n    \\\"Legal Affairs Commission\\\",\\n    \\\"IAWG\\\",\\n    \\\"Nicobar Island\\\",\\n    \\\"Patagonia\\\",\\n    \\\"Livestock\\\",\\n    \\\"Nevis\\\",\\n    \\\"counsel\\\",\\n    \\\"Wallington\\\",\\n    \\\"Family Affairs\\\",\\n    \\\"Camborne\\\",\\n    \\\"Constitutional Convention\\\",\\n    \\\"Industrial Research\\\",\\n    \\\"Research\\\",\\n    \\\"Aged Care\\\",\\n    \\\"Spenborough\\\",\\n    \\\"Spen\\\",\\n    \\\"Arab tolerance\\\",\\n    \\\"East Perthshire\\\",\\n    \\\"social insurance\\\",\\n    \\\"information\\\",\\n    \\\"sportsman\\\",\\n    \\\"sports\\\",\\n    \\\"Bihar MLC\\\",\\n    \\\"shipping\\\",\\n    \\\"energy\\\",\\n    \\\"mineral resources\\\",\\n    \\\"treasury solicitor\\\",\\n    \\\"emigrants\\\",\\n    \\\"Social Council\\\",\\n    \\\"human services\\\",\\n    \\\"public affairs\\\",\\n    \\\"industry\\\",\\n    \\\"family welfare\\\",\\n    \\\"monopolies\\\",\\n    \\\"co prince of\\\",\\n    \\\"treasurer of Queensland\\\",\\n    \\\"the International Center on Nonviolent Conflict\\\",\\n    \\\"whistleblower\\\",\\n    \\\"three term TD\\\",\\n    \\\"environment protection\\\",\\n    \\\"urbanism\\\",\\n    \\\"Sarawak\\\",\\n    \\\"tourism\\\",\\n    \\\"science\\\",\\n    \\\"foreign affairs of the PDNC\\\",\\n    \\\"social security\\\",\\n    \\\"plenipotentiary of\\\",\\n    \\\"signatory of the Act of the Re Establishment of the State of\\\",\\n    \\\"commerce\\\",\\n    \\\"Chippewa Indians\\\",\\n    \\\"literacy\\\",\\n    \\\"coiner of country name\\\",\\n    \\\"Haryana High Court\\\",\\n    \\\"Mass Education\\\",\\n    \\\"Drugs\\\",\\n    \\\"Acting Surgeon General of the\\\",\\n    \\\"Democracy\\\",\\n    \\\"Co Prince of\\\",\\n    \\\"Leader of the Opposition\\\",\\n    \\\"chief ideologist of Khmer Rouge\\\",\\n    \\\"Treasurer of UKIP\\\",\\n    \\\"Social Affairs\\\",\\n    \\\"Deputy Speaker of Parliament\\\",\\n    \\\"animal rights\\\",\\n    \\\"Political Rights Association\\\",\\n    \\\"Transportation\\\",\\n]\\npolitics_govt_law = sorted(\\n    list(set(politics_govt_law)), key=lambda x: len(x), reverse=True\\n)\\n\\narts = [\\n    \\\"mixer\\\",\\n    \\\"organist\\\",\\n    \\\"flautist\\\",\\n    \\\"society figure\\\",\\n    \\\"gossip celebrity\\\",\\n    \\\"trombonist\\\",\\n    \\\"personal assistant to\\\",\\n    \\\"Colossus Records\\\",\\n    \\\"Imagineer\\\",\\n    \\\"cook\\\",\\n    \\\"gardener\\\",\\n    \\\"talk show host\\\",\\n    \\\"clarinetist\\\",\\n    \\\"book binder\\\",\\n    \\\"talkback host\\\",\\n    \\\"accordionist\\\",\\n    \\\"televangelist\\\",\\n]\\narts = sorted(list(set(arts)), key=lambda x: len(x), reverse=True)\\n\\nsports = [\\n    \\\"sport fisherman\\\",\\n    \\\"Commonwealth Games champion\\\",\\n    \\\"sportsman\\\",\\n    \\\"larger than life persona\\\",\\n    \\\"Thoroughbred racehorse\\\",\\n    \\\"Colorado Avalanche\\\",\\n    \\\"football\\\",\\n    \\\"World Hockey Association\\\",\\n    \\\"Rushden & Diamonds F C\\\",\\n    \\\"jetpack pilot\\\",\\n    \\\"Atlanta Braves\\\",\\n    \\\"racehorse\\\",\\n    \\\"Open women doubles champion\\\",\\n    \\\"the Washington Wizards\\\",\\n    \\\"lawn bowler\\\",\\n]\\nsports = sorted(list(set(sports)), key=lambda x: len(x), reverse=True)\\n\\nsciences = [\\n    \\\"asteroids\\\",\\n    \\\"the Arctic\\\",\\n    \\\"soil science\\\",\\n    \\\"HQ Trivia\\\",\\n    \\\"LBO\\\",\\n    \\\"the Draper Prize\\\",\\n    \\\"pharmacist\\\",\\n    \\\"builder\\\",\\n    \\\"electron spin resonance spectroscopy\\\",\\n    \\\"organ transplantation\\\",\\n    \\\"chemotherapy\\\",\\n    \\\"medical scientist\\\",\\n    \\\"scientist\\\",\\n    \\\"discoverer of REM sleep\\\",\\n    \\\"statistician\\\",\\n    \\\"medical scientist\\\",\\n    \\\"medical\\\",\\n    \\\"Academy of Engineering\\\",\\n    \\\"Yaogan satellites\\\",\\n    \\\"first flight simulator\\\",\\n    \\\"Computational Chemists\\\",\\n    \\\"developer of the image scanner\\\",\\n    \\\"engine\\\",\\n]\\nsciences = sorted(list(set(sciences)), key=lambda x: len(x), reverse=True)\\n\\nbusiness_farming = [\\n    \\\"HNA Group\\\",\\n    \\\"Semapa\\\",\\n    \\\"the CITIC Group\\\",\\n    \\\"marketer\\\",\\n    \\\"Yulon\\\",\\n    \\\"Roland Corporation\\\",\\n    \\\"grazier\\\",\\n    \\\"SGV & Company\\\",\\n    \\\"real estate developer\\\",\\n    \\\"chairman of Primark\\\",\\n    \\\"EasyJet\\\",\\n    \\\"Sun International\\\",\\n]\\nbusiness_farming = sorted(\\n    list(set(business_farming)), key=lambda x: len(x), reverse=True\\n)\\n\\nacademia_humanities = [\\n    \\\"design at the Museum of Modern Art\\\",\\n    \\\"Education Center\\\",\\n    \\\"CQUT\\\",\\n    \\\"orientalist\\\",\\n    \\\"celebrated the evolution of type\\\",\\n    \\\"Albert Museum\\\",\\n    \\\"president\\\",\\n    \\\"Tape Archive\\\",\\n    \\\"archdruid\\\",\\n    \\\"dean of the Padma Seshadri Bala Bhavan\\\",\\n    \\\"Design\\\",\\n    \\\"Surgeons\\\",\\n    \\\"study\\\",\\n]\\nacademia_humanities = sorted(\\n    list(set(academia_humanities)), key=lambda x: len(x), reverse=True\\n)\\n\\nlaw_enf_military_operator = [\\n    \\\"Artillery\\\",\\n    \\\"recovery following\\\",\\n    \\\"adviser to the National Security Council\\\",\\n    \\\"Springhill mining disasters\\\",\\n    \\\"CICPC investigator\\\",\\n    \\\"PIRA\\\",\\n    \\\"the No Fighter Squadrons\\\",\\n    \\\"spy\\\",\\n    \\\"paramilitary\\\",\\n    \\\"aviator\\\",\\n    \\\"Guangzhou Military Region Air Forces\\\",\\n    \\\"Marshal of the Union\\\",\\n    \\\"tank commander\\\",\\n    \\\"Security Service\\\",\\n    \\\"Air Defence Forces Army\\\",\\n    \\\"Artillery\\\",\\n    \\\"chief of Haro lockdown\\\",\\n]\\nlaw_enf_military_operator = sorted(\\n    list(set(law_enf_military_operator)), key=lambda x: len(x), reverse=True\\n)\\n\\nspiritual = [\\n    \\\"theistic evolutionist\\\",\\n    \\\"Edinburgh\\\",\\n    \\\"Wells\\\",\\n    \\\"Mashonaland\\\",\\n    \\\"pagan revivalist\\\",\\n    \\\"Jews\\\",\\n    \\\"Kilmacduagh\\\",\\n    \\\"Pihopa o Aotearoa\\\",\\n    \\\"Opus Dei\\\",\\n    \\\"preacher\\\",\\n    \\\"esotericist\\\",\\n    \\\"Forzol\\\",\\n    \\\"Fort de\\\",\\n    \\\"Brighton\\\",\\n    \\\"Herzegovina\\\",\\n    \\\"Lorraine\\\",\\n    \\\"Slutsk\\\",\\n    \\\"Prizren\\\",\\n    \\\"Chukotka\\\",\\n    \\\"St Vincent\\\",\\n    \\\"Kuruman\\\",\\n    \\\"Raphoe\\\",\\n    \\\"Minneapolis\\\",\\n    \\\"Ipswich\\\",\\n    \\\"Suzdal\\\",\\n]\\nspiritual = sorted(list(set(spiritual)), key=lambda x: len(x), reverse=True)\\n\\nsocial = []\\nsocial = sorted(list(set(social)), key=lambda x: len(x), reverse=True)\\n\\ncrime = [\\\"informant\\\", \\\"human rights violator\\\", \\\"embezzlement\\\", \\\"kidnapper\\\"]\\ncrime = sorted(list(set(crime)), key=lambda x: len(x), reverse=True)\\n\\nevent_record_other = [\\n    \\\"last living verified person born in the th century\\\",\\n    \\\"kidnap victim\\\",\\n    \\\"parental rights case\\\",\\n    \\\"imprisoned by\\\",\\n    \\\"murder\\\",\\n    \\\"the Siege of Sarajevo\\\",\\n]\\nevent_record_other = sorted(\\n    list(set(event_record_other)), key=lambda x: len(x), reverse=True\\n)\\n\\nother_species = [\\\"Ascot Gold Cup\\\", \\\"Derby winner\\\", \\\"hatched in captivity\\\"]\\nother_species = sorted(list(set(other_species)), key=lambda x: len(x), reverse=True)\\n\\ncause_of_death = [\\n    \\\"ALS\\\",\\n    \\\"esophageal dysphagia\\\",\\n    \\\"swine flu\\\",\\n    \\\"brain trauma\\\",\\n    \\\"respiratory stress syndrome\\\",\\n    \\\"chronic traumatic encephalopathy\\\",\\n    \\\"strangled\\\",\\n    \\\"brutality\\\",\\n    \\\"traffic collision\\\",\\n]\\ncause_of_death = sorted(list(set(cause_of_death)), key=lambda x: len(x), reverse=True)\";\n",
       "                var nbb_cells = Jupyter.notebook.get_cells();\n",
       "                for (var i = 0; i < nbb_cells.length; ++i) {\n",
       "                    if (nbb_cells[i].input_prompt_number == nbb_cell_id) {\n",
       "                        if (nbb_cells[i].get_text() == nbb_unformatted_code) {\n",
       "                             nbb_cells[i].set_text(nbb_formatted_code);\n",
       "                        }\n",
       "                        break;\n",
       "                    }\n",
       "                }\n",
       "            }, 500);\n",
       "            "
      ],
      "text/plain": [
       "<IPython.core.display.Javascript object>"
      ]
     },
     "metadata": {},
     "output_type": "display_data"
    }
   ],
   "source": [
    "# Creating lists for each category and sorting by decreasing length and removing duplicates\n",
    "\n",
    "politics_govt_law = [\n",
    "    \"Fine Arts\",\n",
    "    \"MLA for Haidergarh\",\n",
    "    \"Skegness\",\n",
    "    \"lobbyist\",\n",
    "    \"Home Affairs\",\n",
    "    \"nd Districts\",\n",
    "    \"Receiver General of Massachusetts\",\n",
    "    \"New\",\n",
    "    \"Industrial Research\",\n",
    "    \"International Security Affairs\",\n",
    "    \"Wisconsin State Assembly\",\n",
    "    \"government advisor\",\n",
    "    \"Korea\",\n",
    "    \"Mines\",\n",
    "    \"Legal Affairs Commission\",\n",
    "    \"IAWG\",\n",
    "    \"Nicobar Island\",\n",
    "    \"Patagonia\",\n",
    "    \"Livestock\",\n",
    "    \"Nevis\",\n",
    "    \"counsel\",\n",
    "    \"Wallington\",\n",
    "    \"Family Affairs\",\n",
    "    \"Camborne\",\n",
    "    \"Constitutional Convention\",\n",
    "    \"Industrial Research\",\n",
    "    \"Research\",\n",
    "    \"Aged Care\",\n",
    "    \"Spenborough\",\n",
    "    \"Spen\",\n",
    "    \"Arab tolerance\",\n",
    "    \"East Perthshire\",\n",
    "    \"social insurance\",\n",
    "    \"information\",\n",
    "    \"sportsman\",\n",
    "    \"sports\",\n",
    "    \"Bihar MLC\",\n",
    "    \"shipping\",\n",
    "    \"energy\",\n",
    "    \"mineral resources\",\n",
    "    \"treasury solicitor\",\n",
    "    \"emigrants\",\n",
    "    \"Social Council\",\n",
    "    \"human services\",\n",
    "    \"public affairs\",\n",
    "    \"industry\",\n",
    "    \"family welfare\",\n",
    "    \"monopolies\",\n",
    "    \"co prince of\",\n",
    "    \"treasurer of Queensland\",\n",
    "    \"the International Center on Nonviolent Conflict\",\n",
    "    \"whistleblower\",\n",
    "    \"three term TD\",\n",
    "    \"environment protection\",\n",
    "    \"urbanism\",\n",
    "    \"Sarawak\",\n",
    "    \"tourism\",\n",
    "    \"science\",\n",
    "    \"foreign affairs of the PDNC\",\n",
    "    \"social security\",\n",
    "    \"plenipotentiary of\",\n",
    "    \"signatory of the Act of the Re Establishment of the State of\",\n",
    "    \"commerce\",\n",
    "    \"Chippewa Indians\",\n",
    "    \"literacy\",\n",
    "    \"coiner of country name\",\n",
    "    \"Haryana High Court\",\n",
    "    \"Mass Education\",\n",
    "    \"Drugs\",\n",
    "    \"Acting Surgeon General of the\",\n",
    "    \"Democracy\",\n",
    "    \"Co Prince of\",\n",
    "    \"Leader of the Opposition\",\n",
    "    \"chief ideologist of Khmer Rouge\",\n",
    "    \"Treasurer of UKIP\",\n",
    "    \"Social Affairs\",\n",
    "    \"Deputy Speaker of Parliament\",\n",
    "    \"animal rights\",\n",
    "    \"Political Rights Association\",\n",
    "    \"Transportation\",\n",
    "]\n",
    "politics_govt_law = sorted(\n",
    "    list(set(politics_govt_law)), key=lambda x: len(x), reverse=True\n",
    ")\n",
    "\n",
    "arts = [\n",
    "    \"mixer\",\n",
    "    \"organist\",\n",
    "    \"flautist\",\n",
    "    \"society figure\",\n",
    "    \"gossip celebrity\",\n",
    "    \"trombonist\",\n",
    "    \"personal assistant to\",\n",
    "    \"Colossus Records\",\n",
    "    \"Imagineer\",\n",
    "    \"cook\",\n",
    "    \"gardener\",\n",
    "    \"talk show host\",\n",
    "    \"clarinetist\",\n",
    "    \"book binder\",\n",
    "    \"talkback host\",\n",
    "    \"accordionist\",\n",
    "    \"televangelist\",\n",
    "]\n",
    "arts = sorted(list(set(arts)), key=lambda x: len(x), reverse=True)\n",
    "\n",
    "sports = [\n",
    "    \"sport fisherman\",\n",
    "    \"Commonwealth Games champion\",\n",
    "    \"sportsman\",\n",
    "    \"larger than life persona\",\n",
    "    \"Thoroughbred racehorse\",\n",
    "    \"Colorado Avalanche\",\n",
    "    \"football\",\n",
    "    \"World Hockey Association\",\n",
    "    \"Rushden & Diamonds F C\",\n",
    "    \"jetpack pilot\",\n",
    "    \"Atlanta Braves\",\n",
    "    \"racehorse\",\n",
    "    \"Open women doubles champion\",\n",
    "    \"the Washington Wizards\",\n",
    "    \"lawn bowler\",\n",
    "]\n",
    "sports = sorted(list(set(sports)), key=lambda x: len(x), reverse=True)\n",
    "\n",
    "sciences = [\n",
    "    \"asteroids\",\n",
    "    \"the Arctic\",\n",
    "    \"soil science\",\n",
    "    \"HQ Trivia\",\n",
    "    \"LBO\",\n",
    "    \"the Draper Prize\",\n",
    "    \"pharmacist\",\n",
    "    \"builder\",\n",
    "    \"electron spin resonance spectroscopy\",\n",
    "    \"organ transplantation\",\n",
    "    \"chemotherapy\",\n",
    "    \"medical scientist\",\n",
    "    \"scientist\",\n",
    "    \"discoverer of REM sleep\",\n",
    "    \"statistician\",\n",
    "    \"medical scientist\",\n",
    "    \"medical\",\n",
    "    \"Academy of Engineering\",\n",
    "    \"Yaogan satellites\",\n",
    "    \"first flight simulator\",\n",
    "    \"Computational Chemists\",\n",
    "    \"developer of the image scanner\",\n",
    "    \"engine\",\n",
    "]\n",
    "sciences = sorted(list(set(sciences)), key=lambda x: len(x), reverse=True)\n",
    "\n",
    "business_farming = [\n",
    "    \"HNA Group\",\n",
    "    \"Semapa\",\n",
    "    \"the CITIC Group\",\n",
    "    \"marketer\",\n",
    "    \"Yulon\",\n",
    "    \"Roland Corporation\",\n",
    "    \"grazier\",\n",
    "    \"SGV & Company\",\n",
    "    \"real estate developer\",\n",
    "    \"chairman of Primark\",\n",
    "    \"EasyJet\",\n",
    "    \"Sun International\",\n",
    "]\n",
    "business_farming = sorted(\n",
    "    list(set(business_farming)), key=lambda x: len(x), reverse=True\n",
    ")\n",
    "\n",
    "academia_humanities = [\n",
    "    \"design at the Museum of Modern Art\",\n",
    "    \"Education Center\",\n",
    "    \"CQUT\",\n",
    "    \"orientalist\",\n",
    "    \"celebrated the evolution of type\",\n",
    "    \"Albert Museum\",\n",
    "    \"president\",\n",
    "    \"Tape Archive\",\n",
    "    \"archdruid\",\n",
    "    \"dean of the Padma Seshadri Bala Bhavan\",\n",
    "    \"Design\",\n",
    "    \"Surgeons\",\n",
    "    \"study\",\n",
    "]\n",
    "academia_humanities = sorted(\n",
    "    list(set(academia_humanities)), key=lambda x: len(x), reverse=True\n",
    ")\n",
    "\n",
    "law_enf_military_operator = [\n",
    "    \"Artillery\",\n",
    "    \"recovery following\",\n",
    "    \"adviser to the National Security Council\",\n",
    "    \"Springhill mining disasters\",\n",
    "    \"CICPC investigator\",\n",
    "    \"PIRA\",\n",
    "    \"the No Fighter Squadrons\",\n",
    "    \"spy\",\n",
    "    \"paramilitary\",\n",
    "    \"aviator\",\n",
    "    \"Guangzhou Military Region Air Forces\",\n",
    "    \"Marshal of the Union\",\n",
    "    \"tank commander\",\n",
    "    \"Security Service\",\n",
    "    \"Air Defence Forces Army\",\n",
    "    \"Artillery\",\n",
    "    \"chief of Haro lockdown\",\n",
    "]\n",
    "law_enf_military_operator = sorted(\n",
    "    list(set(law_enf_military_operator)), key=lambda x: len(x), reverse=True\n",
    ")\n",
    "\n",
    "spiritual = [\n",
    "    \"theistic evolutionist\",\n",
    "    \"Edinburgh\",\n",
    "    \"Wells\",\n",
    "    \"Mashonaland\",\n",
    "    \"pagan revivalist\",\n",
    "    \"Jews\",\n",
    "    \"Kilmacduagh\",\n",
    "    \"Pihopa o Aotearoa\",\n",
    "    \"Opus Dei\",\n",
    "    \"preacher\",\n",
    "    \"esotericist\",\n",
    "    \"Forzol\",\n",
    "    \"Fort de\",\n",
    "    \"Brighton\",\n",
    "    \"Herzegovina\",\n",
    "    \"Lorraine\",\n",
    "    \"Slutsk\",\n",
    "    \"Prizren\",\n",
    "    \"Chukotka\",\n",
    "    \"St Vincent\",\n",
    "    \"Kuruman\",\n",
    "    \"Raphoe\",\n",
    "    \"Minneapolis\",\n",
    "    \"Ipswich\",\n",
    "    \"Suzdal\",\n",
    "]\n",
    "spiritual = sorted(list(set(spiritual)), key=lambda x: len(x), reverse=True)\n",
    "\n",
    "social = []\n",
    "social = sorted(list(set(social)), key=lambda x: len(x), reverse=True)\n",
    "\n",
    "crime = [\"informant\", \"human rights violator\", \"embezzlement\", \"kidnapper\"]\n",
    "crime = sorted(list(set(crime)), key=lambda x: len(x), reverse=True)\n",
    "\n",
    "event_record_other = [\n",
    "    \"last living verified person born in the th century\",\n",
    "    \"kidnap victim\",\n",
    "    \"parental rights case\",\n",
    "    \"imprisoned by\",\n",
    "    \"murder\",\n",
    "    \"the Siege of Sarajevo\",\n",
    "]\n",
    "event_record_other = sorted(\n",
    "    list(set(event_record_other)), key=lambda x: len(x), reverse=True\n",
    ")\n",
    "\n",
    "other_species = [\"Ascot Gold Cup\", \"Derby winner\", \"hatched in captivity\"]\n",
    "other_species = sorted(list(set(other_species)), key=lambda x: len(x), reverse=True)\n",
    "\n",
    "cause_of_death = [\n",
    "    \"ALS\",\n",
    "    \"esophageal dysphagia\",\n",
    "    \"swine flu\",\n",
    "    \"brain trauma\",\n",
    "    \"respiratory stress syndrome\",\n",
    "    \"chronic traumatic encephalopathy\",\n",
    "    \"strangled\",\n",
    "    \"brutality\",\n",
    "    \"traffic collision\",\n",
    "]\n",
    "cause_of_death = sorted(list(set(cause_of_death)), key=lambda x: len(x), reverse=True)"
   ]
  },
  {
   "cell_type": "code",
   "execution_count": 80,
   "id": "edc1cdb7",
   "metadata": {},
   "outputs": [
    {
     "data": {
      "application/javascript": [
       "\n",
       "            setTimeout(function() {\n",
       "                var nbb_cell_id = 80;\n",
       "                var nbb_unformatted_code = \"# Hard-coding cause_of_death for entry\\ndf.loc[\\n    df[df[\\\"link\\\"] == \\\"https://en.wikipedia.org/wiki/Regis_Korchinski-Paquet\\\"].index,\\n    \\\"cause_of_death\\\",\\n] = \\\"possible police interference\\\"\";\n",
       "                var nbb_formatted_code = \"# Hard-coding cause_of_death for entry\\ndf.loc[\\n    df[df[\\\"link\\\"] == \\\"https://en.wikipedia.org/wiki/Regis_Korchinski-Paquet\\\"].index,\\n    \\\"cause_of_death\\\",\\n] = \\\"possible police interference\\\"\";\n",
       "                var nbb_cells = Jupyter.notebook.get_cells();\n",
       "                for (var i = 0; i < nbb_cells.length; ++i) {\n",
       "                    if (nbb_cells[i].input_prompt_number == nbb_cell_id) {\n",
       "                        if (nbb_cells[i].get_text() == nbb_unformatted_code) {\n",
       "                             nbb_cells[i].set_text(nbb_formatted_code);\n",
       "                        }\n",
       "                        break;\n",
       "                    }\n",
       "                }\n",
       "            }, 500);\n",
       "            "
      ],
      "text/plain": [
       "<IPython.core.display.Javascript object>"
      ]
     },
     "metadata": {},
     "output_type": "display_data"
    }
   ],
   "source": [
    "# Hard-coding cause_of_death for entry\n",
    "df.loc[\n",
    "    df[df[\"link\"] == \"https://en.wikipedia.org/wiki/Regis_Korchinski-Paquet\"].index,\n",
    "    \"cause_of_death\",\n",
    "] = \"possible police interference\""
   ]
  },
  {
   "cell_type": "markdown",
   "id": "eb9c9bf3",
   "metadata": {},
   "source": [
    "#### Creating `known_for_dict` Dictionary of Category Keys and Specific Role Lists of Values"
   ]
  },
  {
   "cell_type": "code",
   "execution_count": 81,
   "id": "0adbb5d0",
   "metadata": {},
   "outputs": [
    {
     "data": {
      "application/javascript": [
       "\n",
       "            setTimeout(function() {\n",
       "                var nbb_cell_id = 81;\n",
       "                var nbb_unformatted_code = \"# Combining separate lists into one dictionary\\nknown_for_dict = {\\n    \\\"social\\\": social,\\n    \\\"spiritual\\\": spiritual,\\n    \\\"academia_humanities\\\": academia_humanities,\\n    \\\"business_farming\\\": business_farming,\\n    \\\"sciences\\\": sciences,\\n    \\\"politics_govt_law\\\": politics_govt_law,\\n    \\\"law_enf_military_operator\\\": law_enf_military_operator,\\n    \\\"crime\\\": crime,\\n    \\\"event_record_other\\\": event_record_other,\\n    \\\"other_species\\\": other_species,\\n    \\\"arts\\\": arts,\\n    \\\"sports\\\": sports,\\n}\";\n",
       "                var nbb_formatted_code = \"# Combining separate lists into one dictionary\\nknown_for_dict = {\\n    \\\"social\\\": social,\\n    \\\"spiritual\\\": spiritual,\\n    \\\"academia_humanities\\\": academia_humanities,\\n    \\\"business_farming\\\": business_farming,\\n    \\\"sciences\\\": sciences,\\n    \\\"politics_govt_law\\\": politics_govt_law,\\n    \\\"law_enf_military_operator\\\": law_enf_military_operator,\\n    \\\"crime\\\": crime,\\n    \\\"event_record_other\\\": event_record_other,\\n    \\\"other_species\\\": other_species,\\n    \\\"arts\\\": arts,\\n    \\\"sports\\\": sports,\\n}\";\n",
       "                var nbb_cells = Jupyter.notebook.get_cells();\n",
       "                for (var i = 0; i < nbb_cells.length; ++i) {\n",
       "                    if (nbb_cells[i].input_prompt_number == nbb_cell_id) {\n",
       "                        if (nbb_cells[i].get_text() == nbb_unformatted_code) {\n",
       "                             nbb_cells[i].set_text(nbb_formatted_code);\n",
       "                        }\n",
       "                        break;\n",
       "                    }\n",
       "                }\n",
       "            }, 500);\n",
       "            "
      ],
      "text/plain": [
       "<IPython.core.display.Javascript object>"
      ]
     },
     "metadata": {},
     "output_type": "display_data"
    }
   ],
   "source": [
    "# Combining separate lists into one dictionary\n",
    "known_for_dict = {\n",
    "    \"social\": social,\n",
    "    \"spiritual\": spiritual,\n",
    "    \"academia_humanities\": academia_humanities,\n",
    "    \"business_farming\": business_farming,\n",
    "    \"sciences\": sciences,\n",
    "    \"politics_govt_law\": politics_govt_law,\n",
    "    \"law_enf_military_operator\": law_enf_military_operator,\n",
    "    \"crime\": crime,\n",
    "    \"event_record_other\": event_record_other,\n",
    "    \"other_species\": other_species,\n",
    "    \"arts\": arts,\n",
    "    \"sports\": sports,\n",
    "}"
   ]
  },
  {
   "cell_type": "markdown",
   "id": "c7b006f3",
   "metadata": {},
   "source": [
    "#### Extracting `known_for` Categories and `cause_of_death` Values from `info_3_1`"
   ]
  },
  {
   "cell_type": "code",
   "execution_count": 82,
   "id": "67e50783",
   "metadata": {},
   "outputs": [
    {
     "name": "stdout",
     "output_type": "stream",
     "text": [
      "There are 25137 values in cause_of_death column.\n",
      "\n",
      "CPU times: total: 6.62 s\n",
      "Wall time: 6.64 s\n"
     ]
    },
    {
     "data": {
      "application/javascript": [
       "\n",
       "            setTimeout(function() {\n",
       "                var nbb_cell_id = 82;\n",
       "                var nbb_unformatted_code = \"%%time\\n\\n# Column to check\\ncolumn = 'info_3_1'\\n\\n# Start dataframe\\ndataframe = df[df[column].notna()]\\n\\n# For loop to find cause in column and extract it to cause_of_death\\nfor cause in cause_of_death:\\n    for index in dataframe.index:\\n        item = df.loc[index, column]\\n        if item:\\n            if cause in item:\\n                if df.loc[index, 'cause_of_death']:\\n                    df.loc[index, 'cause_of_death'] = df.loc[index, 'cause_of_death'] + '/' + cause\\n                    df.loc[index, column] = item.replace(cause, '').strip()\\n                else:\\n                    df.loc[index, 'cause_of_death'] = cause\\n                    df.loc[index, column] = item.replace(cause, '').strip()\\n                \\n                \\n# For loop to find role in column and extract it as category\\nfor category, category_lst in known_for_dict.items():\\n    for role in category_lst:\\n        for index in dataframe.index:\\n                item = df.loc[index, column]\\n                if item:\\n                    if role in item:\\n                        df.loc[index, category] = 1\\n                        df.loc[index, column] = item.replace(role, '').strip()\\n\\n# Calculating num_categories\\ndf[\\\"num_categories\\\"] = df[known_for_dict.keys()].sum(axis=1)\\n\\n# Checking number of cause_of_death values\\nprint(f'There are {df[\\\"cause_of_death\\\"].notna().sum()} values in cause_of_death column.\\\\n')\";\n",
       "                var nbb_formatted_code = \"%%time\\n\\n# Column to check\\ncolumn = 'info_3_1'\\n\\n# Start dataframe\\ndataframe = df[df[column].notna()]\\n\\n# For loop to find cause in column and extract it to cause_of_death\\nfor cause in cause_of_death:\\n    for index in dataframe.index:\\n        item = df.loc[index, column]\\n        if item:\\n            if cause in item:\\n                if df.loc[index, 'cause_of_death']:\\n                    df.loc[index, 'cause_of_death'] = df.loc[index, 'cause_of_death'] + '/' + cause\\n                    df.loc[index, column] = item.replace(cause, '').strip()\\n                else:\\n                    df.loc[index, 'cause_of_death'] = cause\\n                    df.loc[index, column] = item.replace(cause, '').strip()\\n                \\n                \\n# For loop to find role in column and extract it as category\\nfor category, category_lst in known_for_dict.items():\\n    for role in category_lst:\\n        for index in dataframe.index:\\n                item = df.loc[index, column]\\n                if item:\\n                    if role in item:\\n                        df.loc[index, category] = 1\\n                        df.loc[index, column] = item.replace(role, '').strip()\\n\\n# Calculating num_categories\\ndf[\\\"num_categories\\\"] = df[known_for_dict.keys()].sum(axis=1)\\n\\n# Checking number of cause_of_death values\\nprint(f'There are {df[\\\"cause_of_death\\\"].notna().sum()} values in cause_of_death column.\\\\n')\";\n",
       "                var nbb_cells = Jupyter.notebook.get_cells();\n",
       "                for (var i = 0; i < nbb_cells.length; ++i) {\n",
       "                    if (nbb_cells[i].input_prompt_number == nbb_cell_id) {\n",
       "                        if (nbb_cells[i].get_text() == nbb_unformatted_code) {\n",
       "                             nbb_cells[i].set_text(nbb_formatted_code);\n",
       "                        }\n",
       "                        break;\n",
       "                    }\n",
       "                }\n",
       "            }, 500);\n",
       "            "
      ],
      "text/plain": [
       "<IPython.core.display.Javascript object>"
      ]
     },
     "metadata": {},
     "output_type": "display_data"
    }
   ],
   "source": [
    "%%time\n",
    "\n",
    "# Column to check\n",
    "column = 'info_3_1'\n",
    "\n",
    "# Start dataframe\n",
    "dataframe = df[df[column].notna()]\n",
    "\n",
    "# For loop to find cause in column and extract it to cause_of_death\n",
    "for cause in cause_of_death:\n",
    "    for index in dataframe.index:\n",
    "        item = df.loc[index, column]\n",
    "        if item:\n",
    "            if cause in item:\n",
    "                if df.loc[index, 'cause_of_death']:\n",
    "                    df.loc[index, 'cause_of_death'] = df.loc[index, 'cause_of_death'] + '/' + cause\n",
    "                    df.loc[index, column] = item.replace(cause, '').strip()\n",
    "                else:\n",
    "                    df.loc[index, 'cause_of_death'] = cause\n",
    "                    df.loc[index, column] = item.replace(cause, '').strip()\n",
    "                \n",
    "                \n",
    "# For loop to find role in column and extract it as category\n",
    "for category, category_lst in known_for_dict.items():\n",
    "    for role in category_lst:\n",
    "        for index in dataframe.index:\n",
    "                item = df.loc[index, column]\n",
    "                if item:\n",
    "                    if role in item:\n",
    "                        df.loc[index, category] = 1\n",
    "                        df.loc[index, column] = item.replace(role, '').strip()\n",
    "\n",
    "# Calculating num_categories\n",
    "df[\"num_categories\"] = df[known_for_dict.keys()].sum(axis=1)\n",
    "\n",
    "# Checking number of cause_of_death values\n",
    "print(f'There are {df[\"cause_of_death\"].notna().sum()} values in cause_of_death column.\\n')"
   ]
  },
  {
   "cell_type": "markdown",
   "id": "b366cbf6",
   "metadata": {},
   "source": [
    "#### Checking Updated `num_categories` Value Counts"
   ]
  },
  {
   "cell_type": "code",
   "execution_count": 83,
   "id": "ad14c960",
   "metadata": {},
   "outputs": [
    {
     "data": {
      "text/plain": [
       "1    84569\n",
       "2    12634\n",
       "3      821\n",
       "0        8\n",
       "4        8\n",
       "Name: num_categories, dtype: int64"
      ]
     },
     "execution_count": 83,
     "metadata": {},
     "output_type": "execute_result"
    },
    {
     "data": {
      "application/javascript": [
       "\n",
       "            setTimeout(function() {\n",
       "                var nbb_cell_id = 83;\n",
       "                var nbb_unformatted_code = \"# Checking Updated num_categories Value Counts\\ndf[\\\"num_categories\\\"].value_counts()\";\n",
       "                var nbb_formatted_code = \"# Checking Updated num_categories Value Counts\\ndf[\\\"num_categories\\\"].value_counts()\";\n",
       "                var nbb_cells = Jupyter.notebook.get_cells();\n",
       "                for (var i = 0; i < nbb_cells.length; ++i) {\n",
       "                    if (nbb_cells[i].input_prompt_number == nbb_cell_id) {\n",
       "                        if (nbb_cells[i].get_text() == nbb_unformatted_code) {\n",
       "                             nbb_cells[i].set_text(nbb_formatted_code);\n",
       "                        }\n",
       "                        break;\n",
       "                    }\n",
       "                }\n",
       "            }, 500);\n",
       "            "
      ],
      "text/plain": [
       "<IPython.core.display.Javascript object>"
      ]
     },
     "metadata": {},
     "output_type": "display_data"
    }
   ],
   "source": [
    "# Checking Updated num_categories Value Counts\n",
    "df[\"num_categories\"].value_counts()"
   ]
  },
  {
   "cell_type": "markdown",
   "id": "2bdb733a",
   "metadata": {},
   "source": [
    "#### Observations:\n",
    "- We will proceed to rebuild `known_for_dict` and `cause_of_death` for the next iteration."
   ]
  },
  {
   "cell_type": "markdown",
   "id": "eaf5afb6",
   "metadata": {},
   "source": [
    "#### Finding `known_for` Roles and `cause_of_death` in `info_3_1`"
   ]
  },
  {
   "cell_type": "code",
   "execution_count": 84,
   "id": "d1b7ffc2",
   "metadata": {},
   "outputs": [
    {
     "data": {
      "application/javascript": [
       "\n",
       "            setTimeout(function() {\n",
       "                var nbb_cell_id = 84;\n",
       "                var nbb_unformatted_code = \"# # Obtaining values for column and their counts\\n# roles_cause_list = df[\\\"info_3_1\\\"].value_counts(ascending=True).index.tolist()\";\n",
       "                var nbb_formatted_code = \"# # Obtaining values for column and their counts\\n# roles_cause_list = df[\\\"info_3_1\\\"].value_counts(ascending=True).index.tolist()\";\n",
       "                var nbb_cells = Jupyter.notebook.get_cells();\n",
       "                for (var i = 0; i < nbb_cells.length; ++i) {\n",
       "                    if (nbb_cells[i].input_prompt_number == nbb_cell_id) {\n",
       "                        if (nbb_cells[i].get_text() == nbb_unformatted_code) {\n",
       "                             nbb_cells[i].set_text(nbb_formatted_code);\n",
       "                        }\n",
       "                        break;\n",
       "                    }\n",
       "                }\n",
       "            }, 500);\n",
       "            "
      ],
      "text/plain": [
       "<IPython.core.display.Javascript object>"
      ]
     },
     "metadata": {},
     "output_type": "display_data"
    }
   ],
   "source": [
    "# # Obtaining values for column and their counts\n",
    "# roles_cause_list = df[\"info_3_1\"].value_counts(ascending=True).index.tolist()"
   ]
  },
  {
   "cell_type": "code",
   "execution_count": 85,
   "id": "3a7c6257",
   "metadata": {},
   "outputs": [
    {
     "data": {
      "application/javascript": [
       "\n",
       "            setTimeout(function() {\n",
       "                var nbb_cell_id = 85;\n",
       "                var nbb_unformatted_code = \"# # Code to check each value\\n# value = roles_cause_list.pop()\\n# value\";\n",
       "                var nbb_formatted_code = \"# # Code to check each value\\n# value = roles_cause_list.pop()\\n# value\";\n",
       "                var nbb_cells = Jupyter.notebook.get_cells();\n",
       "                for (var i = 0; i < nbb_cells.length; ++i) {\n",
       "                    if (nbb_cells[i].input_prompt_number == nbb_cell_id) {\n",
       "                        if (nbb_cells[i].get_text() == nbb_unformatted_code) {\n",
       "                             nbb_cells[i].set_text(nbb_formatted_code);\n",
       "                        }\n",
       "                        break;\n",
       "                    }\n",
       "                }\n",
       "            }, 500);\n",
       "            "
      ],
      "text/plain": [
       "<IPython.core.display.Javascript object>"
      ]
     },
     "metadata": {},
     "output_type": "display_data"
    }
   ],
   "source": [
    "# # Code to check each value\n",
    "# value = roles_cause_list.pop()\n",
    "# value"
   ]
  },
  {
   "cell_type": "code",
   "execution_count": 86,
   "id": "4f073ce4",
   "metadata": {},
   "outputs": [
    {
     "data": {
      "application/javascript": [
       "\n",
       "            setTimeout(function() {\n",
       "                var nbb_cell_id = 86;\n",
       "                var nbb_unformatted_code = \"# # Create specific_roles_cause_list for above popped value\\n# specific_roles_cause_list = (\\n#     df.loc[\\n#         [\\n#             index\\n#             for index in df[df[\\\"info_3_1\\\"].notna()].index\\n#             if value in df.loc[index, \\\"info_3_1\\\"]\\n#         ],\\n#         \\\"info_3_1\\\",\\n#     ]\\n#     .value_counts()\\n#     .index.tolist()\\n# )\";\n",
       "                var nbb_formatted_code = \"# # Create specific_roles_cause_list for above popped value\\n# specific_roles_cause_list = (\\n#     df.loc[\\n#         [\\n#             index\\n#             for index in df[df[\\\"info_3_1\\\"].notna()].index\\n#             if value in df.loc[index, \\\"info_3_1\\\"]\\n#         ],\\n#         \\\"info_3_1\\\",\\n#     ]\\n#     .value_counts()\\n#     .index.tolist()\\n# )\";\n",
       "                var nbb_cells = Jupyter.notebook.get_cells();\n",
       "                for (var i = 0; i < nbb_cells.length; ++i) {\n",
       "                    if (nbb_cells[i].input_prompt_number == nbb_cell_id) {\n",
       "                        if (nbb_cells[i].get_text() == nbb_unformatted_code) {\n",
       "                             nbb_cells[i].set_text(nbb_formatted_code);\n",
       "                        }\n",
       "                        break;\n",
       "                    }\n",
       "                }\n",
       "            }, 500);\n",
       "            "
      ],
      "text/plain": [
       "<IPython.core.display.Javascript object>"
      ]
     },
     "metadata": {},
     "output_type": "display_data"
    }
   ],
   "source": [
    "# # Create specific_roles_cause_list for above popped value\n",
    "# specific_roles_cause_list = (\n",
    "#     df.loc[\n",
    "#         [\n",
    "#             index\n",
    "#             for index in df[df[\"info_3_1\"].notna()].index\n",
    "#             if value in df.loc[index, \"info_3_1\"]\n",
    "#         ],\n",
    "#         \"info_3_1\",\n",
    "#     ]\n",
    "#     .value_counts()\n",
    "#     .index.tolist()\n",
    "# )"
   ]
  },
  {
   "cell_type": "code",
   "execution_count": 87,
   "id": "021d58c6",
   "metadata": {},
   "outputs": [
    {
     "data": {
      "application/javascript": [
       "\n",
       "            setTimeout(function() {\n",
       "                var nbb_cell_id = 87;\n",
       "                var nbb_unformatted_code = \"# # Viewing list sorted by descending length to copy to dictionary below and screen values\\n# sorted(specific_roles_cause_list, key=lambda x: len(x), reverse=True)\";\n",
       "                var nbb_formatted_code = \"# # Viewing list sorted by descending length to copy to dictionary below and screen values\\n# sorted(specific_roles_cause_list, key=lambda x: len(x), reverse=True)\";\n",
       "                var nbb_cells = Jupyter.notebook.get_cells();\n",
       "                for (var i = 0; i < nbb_cells.length; ++i) {\n",
       "                    if (nbb_cells[i].input_prompt_number == nbb_cell_id) {\n",
       "                        if (nbb_cells[i].get_text() == nbb_unformatted_code) {\n",
       "                             nbb_cells[i].set_text(nbb_formatted_code);\n",
       "                        }\n",
       "                        break;\n",
       "                    }\n",
       "                }\n",
       "            }, 500);\n",
       "            "
      ],
      "text/plain": [
       "<IPython.core.display.Javascript object>"
      ]
     },
     "metadata": {},
     "output_type": "display_data"
    }
   ],
   "source": [
    "# # Viewing list sorted by descending length to copy to dictionary below and screen values\n",
    "# sorted(specific_roles_cause_list, key=lambda x: len(x), reverse=True)"
   ]
  },
  {
   "cell_type": "code",
   "execution_count": 88,
   "id": "2f4ce0f9",
   "metadata": {},
   "outputs": [
    {
     "data": {
      "application/javascript": [
       "\n",
       "            setTimeout(function() {\n",
       "                var nbb_cell_id = 88;\n",
       "                var nbb_unformatted_code = \"# # Example code to quick-check a specific entry\\n# df[df[\\\"info_3_1\\\"] == value]\";\n",
       "                var nbb_formatted_code = \"# # Example code to quick-check a specific entry\\n# df[df[\\\"info_3_1\\\"] == value]\";\n",
       "                var nbb_cells = Jupyter.notebook.get_cells();\n",
       "                for (var i = 0; i < nbb_cells.length; ++i) {\n",
       "                    if (nbb_cells[i].input_prompt_number == nbb_cell_id) {\n",
       "                        if (nbb_cells[i].get_text() == nbb_unformatted_code) {\n",
       "                             nbb_cells[i].set_text(nbb_formatted_code);\n",
       "                        }\n",
       "                        break;\n",
       "                    }\n",
       "                }\n",
       "            }, 500);\n",
       "            "
      ],
      "text/plain": [
       "<IPython.core.display.Javascript object>"
      ]
     },
     "metadata": {},
     "output_type": "display_data"
    }
   ],
   "source": [
    "# # Example code to quick-check a specific entry\n",
    "# df[df[\"info_3_1\"] == value]"
   ]
  },
  {
   "cell_type": "markdown",
   "id": "0e7e9891",
   "metadata": {},
   "source": [
    "#### Creating Lists for Each `known_for` Category and for `cause_of_death`"
   ]
  },
  {
   "cell_type": "code",
   "execution_count": 89,
   "id": "e584bab5",
   "metadata": {},
   "outputs": [
    {
     "data": {
      "application/javascript": [
       "\n",
       "            setTimeout(function() {\n",
       "                var nbb_cell_id = 89;\n",
       "                var nbb_unformatted_code = \"# Creating lists for each category and sorting by decreasing length and removing duplicates\\n\\npolitics_govt_law = []\\npolitics_govt_law = sorted(\\n    list(set(politics_govt_law)), key=lambda x: len(x), reverse=True\\n)\\n\\narts = []\\narts = sorted(list(set(arts)), key=lambda x: len(x), reverse=True)\\n\\nsports = []\\nsports = sorted(list(set(sports)), key=lambda x: len(x), reverse=True)\\n\\nsciences = [\\n    \\\"Arts\\\",\\n    \\\"art\\\",\\n]\\nsciences = sorted(list(set(sciences)), key=lambda x: len(x), reverse=True)\\n\\nbusiness_farming = []\\nbusiness_farming = sorted(\\n    list(set(business_farming)), key=lambda x: len(x), reverse=True\\n)\\n\\nacademia_humanities = []\\nacademia_humanities = sorted(\\n    list(set(academia_humanities)), key=lambda x: len(x), reverse=True\\n)\\n\\nlaw_enf_military_operator = [\\\"pilot\\\"]\\nlaw_enf_military_operator = sorted(\\n    list(set(law_enf_military_operator)), key=lambda x: len(x), reverse=True\\n)\\n\\nspiritual = []\\nspiritual = sorted(list(set(spiritual)), key=lambda x: len(x), reverse=True)\\n\\nsocial = []\\nsocial = sorted(list(set(social)), key=lambda x: len(x), reverse=True)\\n\\ncrime = []\\ncrime = sorted(list(set(crime)), key=lambda x: len(x), reverse=True)\\n\\nevent_record_other = []\\nevent_record_other = sorted(\\n    list(set(event_record_other)), key=lambda x: len(x), reverse=True\\n)\\n\\nother_species = []\\nother_species = sorted(list(set(other_species)), key=lambda x: len(x), reverse=True)\\n\\ncause_of_death = []\\ncause_of_death = sorted(list(set(cause_of_death)), key=lambda x: len(x), reverse=True)\";\n",
       "                var nbb_formatted_code = \"# Creating lists for each category and sorting by decreasing length and removing duplicates\\n\\npolitics_govt_law = []\\npolitics_govt_law = sorted(\\n    list(set(politics_govt_law)), key=lambda x: len(x), reverse=True\\n)\\n\\narts = []\\narts = sorted(list(set(arts)), key=lambda x: len(x), reverse=True)\\n\\nsports = []\\nsports = sorted(list(set(sports)), key=lambda x: len(x), reverse=True)\\n\\nsciences = [\\n    \\\"Arts\\\",\\n    \\\"art\\\",\\n]\\nsciences = sorted(list(set(sciences)), key=lambda x: len(x), reverse=True)\\n\\nbusiness_farming = []\\nbusiness_farming = sorted(\\n    list(set(business_farming)), key=lambda x: len(x), reverse=True\\n)\\n\\nacademia_humanities = []\\nacademia_humanities = sorted(\\n    list(set(academia_humanities)), key=lambda x: len(x), reverse=True\\n)\\n\\nlaw_enf_military_operator = [\\\"pilot\\\"]\\nlaw_enf_military_operator = sorted(\\n    list(set(law_enf_military_operator)), key=lambda x: len(x), reverse=True\\n)\\n\\nspiritual = []\\nspiritual = sorted(list(set(spiritual)), key=lambda x: len(x), reverse=True)\\n\\nsocial = []\\nsocial = sorted(list(set(social)), key=lambda x: len(x), reverse=True)\\n\\ncrime = []\\ncrime = sorted(list(set(crime)), key=lambda x: len(x), reverse=True)\\n\\nevent_record_other = []\\nevent_record_other = sorted(\\n    list(set(event_record_other)), key=lambda x: len(x), reverse=True\\n)\\n\\nother_species = []\\nother_species = sorted(list(set(other_species)), key=lambda x: len(x), reverse=True)\\n\\ncause_of_death = []\\ncause_of_death = sorted(list(set(cause_of_death)), key=lambda x: len(x), reverse=True)\";\n",
       "                var nbb_cells = Jupyter.notebook.get_cells();\n",
       "                for (var i = 0; i < nbb_cells.length; ++i) {\n",
       "                    if (nbb_cells[i].input_prompt_number == nbb_cell_id) {\n",
       "                        if (nbb_cells[i].get_text() == nbb_unformatted_code) {\n",
       "                             nbb_cells[i].set_text(nbb_formatted_code);\n",
       "                        }\n",
       "                        break;\n",
       "                    }\n",
       "                }\n",
       "            }, 500);\n",
       "            "
      ],
      "text/plain": [
       "<IPython.core.display.Javascript object>"
      ]
     },
     "metadata": {},
     "output_type": "display_data"
    }
   ],
   "source": [
    "# Creating lists for each category and sorting by decreasing length and removing duplicates\n",
    "\n",
    "politics_govt_law = []\n",
    "politics_govt_law = sorted(\n",
    "    list(set(politics_govt_law)), key=lambda x: len(x), reverse=True\n",
    ")\n",
    "\n",
    "arts = []\n",
    "arts = sorted(list(set(arts)), key=lambda x: len(x), reverse=True)\n",
    "\n",
    "sports = []\n",
    "sports = sorted(list(set(sports)), key=lambda x: len(x), reverse=True)\n",
    "\n",
    "sciences = [\n",
    "    \"Arts\",\n",
    "    \"art\",\n",
    "]\n",
    "sciences = sorted(list(set(sciences)), key=lambda x: len(x), reverse=True)\n",
    "\n",
    "business_farming = []\n",
    "business_farming = sorted(\n",
    "    list(set(business_farming)), key=lambda x: len(x), reverse=True\n",
    ")\n",
    "\n",
    "academia_humanities = []\n",
    "academia_humanities = sorted(\n",
    "    list(set(academia_humanities)), key=lambda x: len(x), reverse=True\n",
    ")\n",
    "\n",
    "law_enf_military_operator = [\"pilot\"]\n",
    "law_enf_military_operator = sorted(\n",
    "    list(set(law_enf_military_operator)), key=lambda x: len(x), reverse=True\n",
    ")\n",
    "\n",
    "spiritual = []\n",
    "spiritual = sorted(list(set(spiritual)), key=lambda x: len(x), reverse=True)\n",
    "\n",
    "social = []\n",
    "social = sorted(list(set(social)), key=lambda x: len(x), reverse=True)\n",
    "\n",
    "crime = []\n",
    "crime = sorted(list(set(crime)), key=lambda x: len(x), reverse=True)\n",
    "\n",
    "event_record_other = []\n",
    "event_record_other = sorted(\n",
    "    list(set(event_record_other)), key=lambda x: len(x), reverse=True\n",
    ")\n",
    "\n",
    "other_species = []\n",
    "other_species = sorted(list(set(other_species)), key=lambda x: len(x), reverse=True)\n",
    "\n",
    "cause_of_death = []\n",
    "cause_of_death = sorted(list(set(cause_of_death)), key=lambda x: len(x), reverse=True)"
   ]
  },
  {
   "cell_type": "markdown",
   "id": "8171b93c",
   "metadata": {},
   "source": [
    "#### Creating `known_for_dict` Dictionary of Category Keys and Specific Role Lists of Values"
   ]
  },
  {
   "cell_type": "code",
   "execution_count": 90,
   "id": "cc1e6919",
   "metadata": {},
   "outputs": [
    {
     "data": {
      "application/javascript": [
       "\n",
       "            setTimeout(function() {\n",
       "                var nbb_cell_id = 90;\n",
       "                var nbb_unformatted_code = \"# Combining separate lists into one dictionary\\nknown_for_dict = {\\n    \\\"social\\\": social,\\n    \\\"spiritual\\\": spiritual,\\n    \\\"academia_humanities\\\": academia_humanities,\\n    \\\"business_farming\\\": business_farming,\\n    \\\"sciences\\\": sciences,\\n    \\\"politics_govt_law\\\": politics_govt_law,\\n    \\\"law_enf_military_operator\\\": law_enf_military_operator,\\n    \\\"crime\\\": crime,\\n    \\\"event_record_other\\\": event_record_other,\\n    \\\"other_species\\\": other_species,\\n    \\\"arts\\\": arts,\\n    \\\"sports\\\": sports,\\n}\";\n",
       "                var nbb_formatted_code = \"# Combining separate lists into one dictionary\\nknown_for_dict = {\\n    \\\"social\\\": social,\\n    \\\"spiritual\\\": spiritual,\\n    \\\"academia_humanities\\\": academia_humanities,\\n    \\\"business_farming\\\": business_farming,\\n    \\\"sciences\\\": sciences,\\n    \\\"politics_govt_law\\\": politics_govt_law,\\n    \\\"law_enf_military_operator\\\": law_enf_military_operator,\\n    \\\"crime\\\": crime,\\n    \\\"event_record_other\\\": event_record_other,\\n    \\\"other_species\\\": other_species,\\n    \\\"arts\\\": arts,\\n    \\\"sports\\\": sports,\\n}\";\n",
       "                var nbb_cells = Jupyter.notebook.get_cells();\n",
       "                for (var i = 0; i < nbb_cells.length; ++i) {\n",
       "                    if (nbb_cells[i].input_prompt_number == nbb_cell_id) {\n",
       "                        if (nbb_cells[i].get_text() == nbb_unformatted_code) {\n",
       "                             nbb_cells[i].set_text(nbb_formatted_code);\n",
       "                        }\n",
       "                        break;\n",
       "                    }\n",
       "                }\n",
       "            }, 500);\n",
       "            "
      ],
      "text/plain": [
       "<IPython.core.display.Javascript object>"
      ]
     },
     "metadata": {},
     "output_type": "display_data"
    }
   ],
   "source": [
    "# Combining separate lists into one dictionary\n",
    "known_for_dict = {\n",
    "    \"social\": social,\n",
    "    \"spiritual\": spiritual,\n",
    "    \"academia_humanities\": academia_humanities,\n",
    "    \"business_farming\": business_farming,\n",
    "    \"sciences\": sciences,\n",
    "    \"politics_govt_law\": politics_govt_law,\n",
    "    \"law_enf_military_operator\": law_enf_military_operator,\n",
    "    \"crime\": crime,\n",
    "    \"event_record_other\": event_record_other,\n",
    "    \"other_species\": other_species,\n",
    "    \"arts\": arts,\n",
    "    \"sports\": sports,\n",
    "}"
   ]
  },
  {
   "cell_type": "markdown",
   "id": "1d7b5a65",
   "metadata": {},
   "source": [
    "#### Extracting `known_for` Categories and `cause_of_death` Values from `info_3_1`"
   ]
  },
  {
   "cell_type": "code",
   "execution_count": 91,
   "id": "7a27dacd",
   "metadata": {},
   "outputs": [
    {
     "name": "stdout",
     "output_type": "stream",
     "text": [
      "There are 25137 values in cause_of_death column.\n",
      "\n",
      "CPU times: total: 125 ms\n",
      "Wall time: 97 ms\n"
     ]
    },
    {
     "data": {
      "application/javascript": [
       "\n",
       "            setTimeout(function() {\n",
       "                var nbb_cell_id = 91;\n",
       "                var nbb_unformatted_code = \"%%time\\n\\n# Column to check\\ncolumn = 'info_3_1'\\n\\n# Start dataframe\\ndataframe = df[df[column].notna()]\\n\\n# For loop to find cause in column and extract it to cause_of_death\\nfor cause in cause_of_death:\\n    for index in dataframe.index:\\n        item = df.loc[index, column]\\n        if item:\\n            if cause in item:\\n                if df.loc[index, 'cause_of_death']:\\n                    df.loc[index, 'cause_of_death'] = df.loc[index, 'cause_of_death'] + '/' + cause\\n                    df.loc[index, column] = item.replace(cause, '').strip()\\n                else:\\n                    df.loc[index, 'cause_of_death'] = cause\\n                    df.loc[index, column] = item.replace(cause, '').strip()\\n                \\n                \\n# For loop to find role in column and extract it as category\\nfor category, category_lst in known_for_dict.items():\\n    for role in category_lst:\\n        for index in dataframe.index:\\n                item = df.loc[index, column]\\n                if item:\\n                    if role in item:\\n                        df.loc[index, category] = 1\\n                        df.loc[index, column] = item.replace(role, '').strip()\\n\\n# Calculating num_categories\\ndf[\\\"num_categories\\\"] = df[known_for_dict.keys()].sum(axis=1)\\n\\n# Checking number of cause_of_death values\\nprint(f'There are {df[\\\"cause_of_death\\\"].notna().sum()} values in cause_of_death column.\\\\n')\";\n",
       "                var nbb_formatted_code = \"%%time\\n\\n# Column to check\\ncolumn = 'info_3_1'\\n\\n# Start dataframe\\ndataframe = df[df[column].notna()]\\n\\n# For loop to find cause in column and extract it to cause_of_death\\nfor cause in cause_of_death:\\n    for index in dataframe.index:\\n        item = df.loc[index, column]\\n        if item:\\n            if cause in item:\\n                if df.loc[index, 'cause_of_death']:\\n                    df.loc[index, 'cause_of_death'] = df.loc[index, 'cause_of_death'] + '/' + cause\\n                    df.loc[index, column] = item.replace(cause, '').strip()\\n                else:\\n                    df.loc[index, 'cause_of_death'] = cause\\n                    df.loc[index, column] = item.replace(cause, '').strip()\\n                \\n                \\n# For loop to find role in column and extract it as category\\nfor category, category_lst in known_for_dict.items():\\n    for role in category_lst:\\n        for index in dataframe.index:\\n                item = df.loc[index, column]\\n                if item:\\n                    if role in item:\\n                        df.loc[index, category] = 1\\n                        df.loc[index, column] = item.replace(role, '').strip()\\n\\n# Calculating num_categories\\ndf[\\\"num_categories\\\"] = df[known_for_dict.keys()].sum(axis=1)\\n\\n# Checking number of cause_of_death values\\nprint(f'There are {df[\\\"cause_of_death\\\"].notna().sum()} values in cause_of_death column.\\\\n')\";\n",
       "                var nbb_cells = Jupyter.notebook.get_cells();\n",
       "                for (var i = 0; i < nbb_cells.length; ++i) {\n",
       "                    if (nbb_cells[i].input_prompt_number == nbb_cell_id) {\n",
       "                        if (nbb_cells[i].get_text() == nbb_unformatted_code) {\n",
       "                             nbb_cells[i].set_text(nbb_formatted_code);\n",
       "                        }\n",
       "                        break;\n",
       "                    }\n",
       "                }\n",
       "            }, 500);\n",
       "            "
      ],
      "text/plain": [
       "<IPython.core.display.Javascript object>"
      ]
     },
     "metadata": {},
     "output_type": "display_data"
    }
   ],
   "source": [
    "%%time\n",
    "\n",
    "# Column to check\n",
    "column = 'info_3_1'\n",
    "\n",
    "# Start dataframe\n",
    "dataframe = df[df[column].notna()]\n",
    "\n",
    "# For loop to find cause in column and extract it to cause_of_death\n",
    "for cause in cause_of_death:\n",
    "    for index in dataframe.index:\n",
    "        item = df.loc[index, column]\n",
    "        if item:\n",
    "            if cause in item:\n",
    "                if df.loc[index, 'cause_of_death']:\n",
    "                    df.loc[index, 'cause_of_death'] = df.loc[index, 'cause_of_death'] + '/' + cause\n",
    "                    df.loc[index, column] = item.replace(cause, '').strip()\n",
    "                else:\n",
    "                    df.loc[index, 'cause_of_death'] = cause\n",
    "                    df.loc[index, column] = item.replace(cause, '').strip()\n",
    "                \n",
    "                \n",
    "# For loop to find role in column and extract it as category\n",
    "for category, category_lst in known_for_dict.items():\n",
    "    for role in category_lst:\n",
    "        for index in dataframe.index:\n",
    "                item = df.loc[index, column]\n",
    "                if item:\n",
    "                    if role in item:\n",
    "                        df.loc[index, category] = 1\n",
    "                        df.loc[index, column] = item.replace(role, '').strip()\n",
    "\n",
    "# Calculating num_categories\n",
    "df[\"num_categories\"] = df[known_for_dict.keys()].sum(axis=1)\n",
    "\n",
    "# Checking number of cause_of_death values\n",
    "print(f'There are {df[\"cause_of_death\"].notna().sum()} values in cause_of_death column.\\n')"
   ]
  },
  {
   "cell_type": "markdown",
   "id": "8bb2bc2e",
   "metadata": {},
   "source": [
    "#### Checking Updated `num_categories` Value Counts"
   ]
  },
  {
   "cell_type": "code",
   "execution_count": 92,
   "id": "66e4bc75",
   "metadata": {},
   "outputs": [
    {
     "data": {
      "text/plain": [
       "1    84568\n",
       "2    12634\n",
       "3      822\n",
       "0        8\n",
       "4        8\n",
       "Name: num_categories, dtype: int64"
      ]
     },
     "execution_count": 92,
     "metadata": {},
     "output_type": "execute_result"
    },
    {
     "data": {
      "application/javascript": [
       "\n",
       "            setTimeout(function() {\n",
       "                var nbb_cell_id = 92;\n",
       "                var nbb_unformatted_code = \"# Checking Updated num_categories Value Counts\\ndf[\\\"num_categories\\\"].value_counts()\";\n",
       "                var nbb_formatted_code = \"# Checking Updated num_categories Value Counts\\ndf[\\\"num_categories\\\"].value_counts()\";\n",
       "                var nbb_cells = Jupyter.notebook.get_cells();\n",
       "                for (var i = 0; i < nbb_cells.length; ++i) {\n",
       "                    if (nbb_cells[i].input_prompt_number == nbb_cell_id) {\n",
       "                        if (nbb_cells[i].get_text() == nbb_unformatted_code) {\n",
       "                             nbb_cells[i].set_text(nbb_formatted_code);\n",
       "                        }\n",
       "                        break;\n",
       "                    }\n",
       "                }\n",
       "            }, 500);\n",
       "            "
      ],
      "text/plain": [
       "<IPython.core.display.Javascript object>"
      ]
     },
     "metadata": {},
     "output_type": "display_data"
    }
   ],
   "source": [
    "# Checking Updated num_categories Value Counts\n",
    "df[\"num_categories\"].value_counts()"
   ]
  },
  {
   "cell_type": "markdown",
   "id": "c9cdd7c4",
   "metadata": {},
   "source": [
    "#### Observations:\n",
    "- We will proceed to rebuild `known_for_dict` and `cause_of_death` for the next iteration."
   ]
  },
  {
   "cell_type": "markdown",
   "id": "4aa85bdb",
   "metadata": {},
   "source": [
    "#### Finding `known_for` Roles and `cause_of_death` in `info_3_1`"
   ]
  },
  {
   "cell_type": "code",
   "execution_count": 93,
   "id": "d4a12126",
   "metadata": {},
   "outputs": [
    {
     "data": {
      "application/javascript": [
       "\n",
       "            setTimeout(function() {\n",
       "                var nbb_cell_id = 93;\n",
       "                var nbb_unformatted_code = \"# # Obtaining values for column and their counts\\n# roles_cause_list = df[\\\"info_3_1\\\"].value_counts(ascending=True).index.tolist()\";\n",
       "                var nbb_formatted_code = \"# # Obtaining values for column and their counts\\n# roles_cause_list = df[\\\"info_3_1\\\"].value_counts(ascending=True).index.tolist()\";\n",
       "                var nbb_cells = Jupyter.notebook.get_cells();\n",
       "                for (var i = 0; i < nbb_cells.length; ++i) {\n",
       "                    if (nbb_cells[i].input_prompt_number == nbb_cell_id) {\n",
       "                        if (nbb_cells[i].get_text() == nbb_unformatted_code) {\n",
       "                             nbb_cells[i].set_text(nbb_formatted_code);\n",
       "                        }\n",
       "                        break;\n",
       "                    }\n",
       "                }\n",
       "            }, 500);\n",
       "            "
      ],
      "text/plain": [
       "<IPython.core.display.Javascript object>"
      ]
     },
     "metadata": {},
     "output_type": "display_data"
    }
   ],
   "source": [
    "# # Obtaining values for column and their counts\n",
    "# roles_cause_list = df[\"info_3_1\"].value_counts(ascending=True).index.tolist()"
   ]
  },
  {
   "cell_type": "code",
   "execution_count": 94,
   "id": "74e2db8a",
   "metadata": {},
   "outputs": [
    {
     "data": {
      "application/javascript": [
       "\n",
       "            setTimeout(function() {\n",
       "                var nbb_cell_id = 94;\n",
       "                var nbb_unformatted_code = \"# # Code to check each value\\n# value = roles_cause_list.pop()\\n# value\";\n",
       "                var nbb_formatted_code = \"# # Code to check each value\\n# value = roles_cause_list.pop()\\n# value\";\n",
       "                var nbb_cells = Jupyter.notebook.get_cells();\n",
       "                for (var i = 0; i < nbb_cells.length; ++i) {\n",
       "                    if (nbb_cells[i].input_prompt_number == nbb_cell_id) {\n",
       "                        if (nbb_cells[i].get_text() == nbb_unformatted_code) {\n",
       "                             nbb_cells[i].set_text(nbb_formatted_code);\n",
       "                        }\n",
       "                        break;\n",
       "                    }\n",
       "                }\n",
       "            }, 500);\n",
       "            "
      ],
      "text/plain": [
       "<IPython.core.display.Javascript object>"
      ]
     },
     "metadata": {},
     "output_type": "display_data"
    }
   ],
   "source": [
    "# # Code to check each value\n",
    "# value = roles_cause_list.pop()\n",
    "# value"
   ]
  },
  {
   "cell_type": "code",
   "execution_count": 95,
   "id": "8ea40704",
   "metadata": {},
   "outputs": [
    {
     "data": {
      "application/javascript": [
       "\n",
       "            setTimeout(function() {\n",
       "                var nbb_cell_id = 95;\n",
       "                var nbb_unformatted_code = \"# # Create specific_roles_cause_list for above popped value\\n# specific_roles_cause_list = (\\n#     df.loc[\\n#         [\\n#             index\\n#             for index in df[df[\\\"info_3_1\\\"].notna()].index\\n#             if value in df.loc[index, \\\"info_3_1\\\"]\\n#         ],\\n#         \\\"info_3_1\\\",\\n#     ]\\n#     .value_counts()\\n#     .index.tolist()\\n# )\";\n",
       "                var nbb_formatted_code = \"# # Create specific_roles_cause_list for above popped value\\n# specific_roles_cause_list = (\\n#     df.loc[\\n#         [\\n#             index\\n#             for index in df[df[\\\"info_3_1\\\"].notna()].index\\n#             if value in df.loc[index, \\\"info_3_1\\\"]\\n#         ],\\n#         \\\"info_3_1\\\",\\n#     ]\\n#     .value_counts()\\n#     .index.tolist()\\n# )\";\n",
       "                var nbb_cells = Jupyter.notebook.get_cells();\n",
       "                for (var i = 0; i < nbb_cells.length; ++i) {\n",
       "                    if (nbb_cells[i].input_prompt_number == nbb_cell_id) {\n",
       "                        if (nbb_cells[i].get_text() == nbb_unformatted_code) {\n",
       "                             nbb_cells[i].set_text(nbb_formatted_code);\n",
       "                        }\n",
       "                        break;\n",
       "                    }\n",
       "                }\n",
       "            }, 500);\n",
       "            "
      ],
      "text/plain": [
       "<IPython.core.display.Javascript object>"
      ]
     },
     "metadata": {},
     "output_type": "display_data"
    }
   ],
   "source": [
    "# # Create specific_roles_cause_list for above popped value\n",
    "# specific_roles_cause_list = (\n",
    "#     df.loc[\n",
    "#         [\n",
    "#             index\n",
    "#             for index in df[df[\"info_3_1\"].notna()].index\n",
    "#             if value in df.loc[index, \"info_3_1\"]\n",
    "#         ],\n",
    "#         \"info_3_1\",\n",
    "#     ]\n",
    "#     .value_counts()\n",
    "#     .index.tolist()\n",
    "# )"
   ]
  },
  {
   "cell_type": "code",
   "execution_count": 96,
   "id": "21f0814d",
   "metadata": {},
   "outputs": [
    {
     "data": {
      "application/javascript": [
       "\n",
       "            setTimeout(function() {\n",
       "                var nbb_cell_id = 96;\n",
       "                var nbb_unformatted_code = \"# # Viewing list sorted by descending length to copy to dictionary below and screen values\\n# sorted(specific_roles_cause_list, key=lambda x: len(x), reverse=True)\";\n",
       "                var nbb_formatted_code = \"# # Viewing list sorted by descending length to copy to dictionary below and screen values\\n# sorted(specific_roles_cause_list, key=lambda x: len(x), reverse=True)\";\n",
       "                var nbb_cells = Jupyter.notebook.get_cells();\n",
       "                for (var i = 0; i < nbb_cells.length; ++i) {\n",
       "                    if (nbb_cells[i].input_prompt_number == nbb_cell_id) {\n",
       "                        if (nbb_cells[i].get_text() == nbb_unformatted_code) {\n",
       "                             nbb_cells[i].set_text(nbb_formatted_code);\n",
       "                        }\n",
       "                        break;\n",
       "                    }\n",
       "                }\n",
       "            }, 500);\n",
       "            "
      ],
      "text/plain": [
       "<IPython.core.display.Javascript object>"
      ]
     },
     "metadata": {},
     "output_type": "display_data"
    }
   ],
   "source": [
    "# # Viewing list sorted by descending length to copy to dictionary below and screen values\n",
    "# sorted(specific_roles_cause_list, key=lambda x: len(x), reverse=True)"
   ]
  },
  {
   "cell_type": "code",
   "execution_count": 97,
   "id": "f87aae69",
   "metadata": {},
   "outputs": [
    {
     "data": {
      "application/javascript": [
       "\n",
       "            setTimeout(function() {\n",
       "                var nbb_cell_id = 97;\n",
       "                var nbb_unformatted_code = \"# # Example code to quick-check a specific entry\\n# df[df[\\\"info_3_1\\\"] == \\\"agement at the Depment of Defense\\\"]\";\n",
       "                var nbb_formatted_code = \"# # Example code to quick-check a specific entry\\n# df[df[\\\"info_3_1\\\"] == \\\"agement at the Depment of Defense\\\"]\";\n",
       "                var nbb_cells = Jupyter.notebook.get_cells();\n",
       "                for (var i = 0; i < nbb_cells.length; ++i) {\n",
       "                    if (nbb_cells[i].input_prompt_number == nbb_cell_id) {\n",
       "                        if (nbb_cells[i].get_text() == nbb_unformatted_code) {\n",
       "                             nbb_cells[i].set_text(nbb_formatted_code);\n",
       "                        }\n",
       "                        break;\n",
       "                    }\n",
       "                }\n",
       "            }, 500);\n",
       "            "
      ],
      "text/plain": [
       "<IPython.core.display.Javascript object>"
      ]
     },
     "metadata": {},
     "output_type": "display_data"
    }
   ],
   "source": [
    "# # Example code to quick-check a specific entry\n",
    "# df[df[\"info_3_1\"] == \"agement at the Depment of Defense\"]"
   ]
  },
  {
   "cell_type": "markdown",
   "id": "05688147",
   "metadata": {},
   "source": [
    "#### Creating Lists for Each `known_for` Category and for `cause_of_death`"
   ]
  },
  {
   "cell_type": "code",
   "execution_count": 98,
   "id": "bc977b3b",
   "metadata": {},
   "outputs": [
    {
     "data": {
      "application/javascript": [
       "\n",
       "            setTimeout(function() {\n",
       "                var nbb_cell_id = 98;\n",
       "                var nbb_unformatted_code = \"# Creating lists for each category and sorting by decreasing length and removing duplicates\\n\\npolitics_govt_law = [\\\"Art\\\"]\\npolitics_govt_law = sorted(\\n    list(set(politics_govt_law)), key=lambda x: len(x), reverse=True\\n)\\n\\narts = []\\narts = sorted(list(set(arts)), key=lambda x: len(x), reverse=True)\\n\\nsports = []\\nsports = sorted(list(set(sports)), key=lambda x: len(x), reverse=True)\\n\\nsciences = [\\\"society\\\"]\\nsciences = sorted(list(set(sciences)), key=lambda x: len(x), reverse=True)\\n\\nbusiness_farming = []\\nbusiness_farming = sorted(\\n    list(set(business_farming)), key=lambda x: len(x), reverse=True\\n)\\n\\nacademia_humanities = []\\nacademia_humanities = sorted(\\n    list(set(academia_humanities)), key=lambda x: len(x), reverse=True\\n)\\n\\nlaw_enf_military_operator = []\\nlaw_enf_military_operator = sorted(\\n    list(set(law_enf_military_operator)), key=lambda x: len(x), reverse=True\\n)\\n\\nspiritual = [\\\"Man\\\"]\\nspiritual = sorted(list(set(spiritual)), key=lambda x: len(x), reverse=True)\\n\\nsocial = []\\nsocial = sorted(list(set(social)), key=lambda x: len(x), reverse=True)\\n\\ncrime = []\\ncrime = sorted(list(set(crime)), key=lambda x: len(x), reverse=True)\\n\\nevent_record_other = []\\nevent_record_other = sorted(\\n    list(set(event_record_other)), key=lambda x: len(x), reverse=True\\n)\\n\\nother_species = []\\nother_species = sorted(list(set(other_species)), key=lambda x: len(x), reverse=True)\\n\\ncause_of_death = []\\ncause_of_death = sorted(list(set(cause_of_death)), key=lambda x: len(x), reverse=True)\";\n",
       "                var nbb_formatted_code = \"# Creating lists for each category and sorting by decreasing length and removing duplicates\\n\\npolitics_govt_law = [\\\"Art\\\"]\\npolitics_govt_law = sorted(\\n    list(set(politics_govt_law)), key=lambda x: len(x), reverse=True\\n)\\n\\narts = []\\narts = sorted(list(set(arts)), key=lambda x: len(x), reverse=True)\\n\\nsports = []\\nsports = sorted(list(set(sports)), key=lambda x: len(x), reverse=True)\\n\\nsciences = [\\\"society\\\"]\\nsciences = sorted(list(set(sciences)), key=lambda x: len(x), reverse=True)\\n\\nbusiness_farming = []\\nbusiness_farming = sorted(\\n    list(set(business_farming)), key=lambda x: len(x), reverse=True\\n)\\n\\nacademia_humanities = []\\nacademia_humanities = sorted(\\n    list(set(academia_humanities)), key=lambda x: len(x), reverse=True\\n)\\n\\nlaw_enf_military_operator = []\\nlaw_enf_military_operator = sorted(\\n    list(set(law_enf_military_operator)), key=lambda x: len(x), reverse=True\\n)\\n\\nspiritual = [\\\"Man\\\"]\\nspiritual = sorted(list(set(spiritual)), key=lambda x: len(x), reverse=True)\\n\\nsocial = []\\nsocial = sorted(list(set(social)), key=lambda x: len(x), reverse=True)\\n\\ncrime = []\\ncrime = sorted(list(set(crime)), key=lambda x: len(x), reverse=True)\\n\\nevent_record_other = []\\nevent_record_other = sorted(\\n    list(set(event_record_other)), key=lambda x: len(x), reverse=True\\n)\\n\\nother_species = []\\nother_species = sorted(list(set(other_species)), key=lambda x: len(x), reverse=True)\\n\\ncause_of_death = []\\ncause_of_death = sorted(list(set(cause_of_death)), key=lambda x: len(x), reverse=True)\";\n",
       "                var nbb_cells = Jupyter.notebook.get_cells();\n",
       "                for (var i = 0; i < nbb_cells.length; ++i) {\n",
       "                    if (nbb_cells[i].input_prompt_number == nbb_cell_id) {\n",
       "                        if (nbb_cells[i].get_text() == nbb_unformatted_code) {\n",
       "                             nbb_cells[i].set_text(nbb_formatted_code);\n",
       "                        }\n",
       "                        break;\n",
       "                    }\n",
       "                }\n",
       "            }, 500);\n",
       "            "
      ],
      "text/plain": [
       "<IPython.core.display.Javascript object>"
      ]
     },
     "metadata": {},
     "output_type": "display_data"
    }
   ],
   "source": [
    "# Creating lists for each category and sorting by decreasing length and removing duplicates\n",
    "\n",
    "politics_govt_law = [\"Art\"]\n",
    "politics_govt_law = sorted(\n",
    "    list(set(politics_govt_law)), key=lambda x: len(x), reverse=True\n",
    ")\n",
    "\n",
    "arts = []\n",
    "arts = sorted(list(set(arts)), key=lambda x: len(x), reverse=True)\n",
    "\n",
    "sports = []\n",
    "sports = sorted(list(set(sports)), key=lambda x: len(x), reverse=True)\n",
    "\n",
    "sciences = [\"society\"]\n",
    "sciences = sorted(list(set(sciences)), key=lambda x: len(x), reverse=True)\n",
    "\n",
    "business_farming = []\n",
    "business_farming = sorted(\n",
    "    list(set(business_farming)), key=lambda x: len(x), reverse=True\n",
    ")\n",
    "\n",
    "academia_humanities = []\n",
    "academia_humanities = sorted(\n",
    "    list(set(academia_humanities)), key=lambda x: len(x), reverse=True\n",
    ")\n",
    "\n",
    "law_enf_military_operator = []\n",
    "law_enf_military_operator = sorted(\n",
    "    list(set(law_enf_military_operator)), key=lambda x: len(x), reverse=True\n",
    ")\n",
    "\n",
    "spiritual = [\"Man\"]\n",
    "spiritual = sorted(list(set(spiritual)), key=lambda x: len(x), reverse=True)\n",
    "\n",
    "social = []\n",
    "social = sorted(list(set(social)), key=lambda x: len(x), reverse=True)\n",
    "\n",
    "crime = []\n",
    "crime = sorted(list(set(crime)), key=lambda x: len(x), reverse=True)\n",
    "\n",
    "event_record_other = []\n",
    "event_record_other = sorted(\n",
    "    list(set(event_record_other)), key=lambda x: len(x), reverse=True\n",
    ")\n",
    "\n",
    "other_species = []\n",
    "other_species = sorted(list(set(other_species)), key=lambda x: len(x), reverse=True)\n",
    "\n",
    "cause_of_death = []\n",
    "cause_of_death = sorted(list(set(cause_of_death)), key=lambda x: len(x), reverse=True)"
   ]
  },
  {
   "cell_type": "markdown",
   "id": "265423a6",
   "metadata": {},
   "source": [
    "#### Creating `known_for_dict` Dictionary of Category Keys and Specific Role Lists of Values"
   ]
  },
  {
   "cell_type": "code",
   "execution_count": 99,
   "id": "543e4b07",
   "metadata": {},
   "outputs": [
    {
     "data": {
      "application/javascript": [
       "\n",
       "            setTimeout(function() {\n",
       "                var nbb_cell_id = 99;\n",
       "                var nbb_unformatted_code = \"# Combining separate lists into one dictionary\\nknown_for_dict = {\\n    \\\"social\\\": social,\\n    \\\"spiritual\\\": spiritual,\\n    \\\"academia_humanities\\\": academia_humanities,\\n    \\\"business_farming\\\": business_farming,\\n    \\\"sciences\\\": sciences,\\n    \\\"politics_govt_law\\\": politics_govt_law,\\n    \\\"law_enf_military_operator\\\": law_enf_military_operator,\\n    \\\"crime\\\": crime,\\n    \\\"event_record_other\\\": event_record_other,\\n    \\\"other_species\\\": other_species,\\n    \\\"arts\\\": arts,\\n    \\\"sports\\\": sports,\\n}\";\n",
       "                var nbb_formatted_code = \"# Combining separate lists into one dictionary\\nknown_for_dict = {\\n    \\\"social\\\": social,\\n    \\\"spiritual\\\": spiritual,\\n    \\\"academia_humanities\\\": academia_humanities,\\n    \\\"business_farming\\\": business_farming,\\n    \\\"sciences\\\": sciences,\\n    \\\"politics_govt_law\\\": politics_govt_law,\\n    \\\"law_enf_military_operator\\\": law_enf_military_operator,\\n    \\\"crime\\\": crime,\\n    \\\"event_record_other\\\": event_record_other,\\n    \\\"other_species\\\": other_species,\\n    \\\"arts\\\": arts,\\n    \\\"sports\\\": sports,\\n}\";\n",
       "                var nbb_cells = Jupyter.notebook.get_cells();\n",
       "                for (var i = 0; i < nbb_cells.length; ++i) {\n",
       "                    if (nbb_cells[i].input_prompt_number == nbb_cell_id) {\n",
       "                        if (nbb_cells[i].get_text() == nbb_unformatted_code) {\n",
       "                             nbb_cells[i].set_text(nbb_formatted_code);\n",
       "                        }\n",
       "                        break;\n",
       "                    }\n",
       "                }\n",
       "            }, 500);\n",
       "            "
      ],
      "text/plain": [
       "<IPython.core.display.Javascript object>"
      ]
     },
     "metadata": {},
     "output_type": "display_data"
    }
   ],
   "source": [
    "# Combining separate lists into one dictionary\n",
    "known_for_dict = {\n",
    "    \"social\": social,\n",
    "    \"spiritual\": spiritual,\n",
    "    \"academia_humanities\": academia_humanities,\n",
    "    \"business_farming\": business_farming,\n",
    "    \"sciences\": sciences,\n",
    "    \"politics_govt_law\": politics_govt_law,\n",
    "    \"law_enf_military_operator\": law_enf_military_operator,\n",
    "    \"crime\": crime,\n",
    "    \"event_record_other\": event_record_other,\n",
    "    \"other_species\": other_species,\n",
    "    \"arts\": arts,\n",
    "    \"sports\": sports,\n",
    "}"
   ]
  },
  {
   "cell_type": "markdown",
   "id": "aa1e901c",
   "metadata": {},
   "source": [
    "#### Extracting `known_for` Categories and `cause_of_death` Values from `info_3_1`"
   ]
  },
  {
   "cell_type": "code",
   "execution_count": 100,
   "id": "ebc65801",
   "metadata": {},
   "outputs": [
    {
     "name": "stdout",
     "output_type": "stream",
     "text": [
      "There are 25137 values in cause_of_death column.\n",
      "\n",
      "CPU times: total: 93.8 ms\n",
      "Wall time: 96 ms\n"
     ]
    },
    {
     "data": {
      "application/javascript": [
       "\n",
       "            setTimeout(function() {\n",
       "                var nbb_cell_id = 100;\n",
       "                var nbb_unformatted_code = \"%%time\\n\\n# Column to check\\ncolumn = 'info_3_1'\\n\\n# Start dataframe\\ndataframe = df[df[column].notna()]\\n\\n# For loop to find cause in column and extract it to cause_of_death\\nfor cause in cause_of_death:\\n    for index in dataframe.index:\\n        item = df.loc[index, column]\\n        if item:\\n            if cause in item:\\n                if df.loc[index, 'cause_of_death']:\\n                    df.loc[index, 'cause_of_death'] = df.loc[index, 'cause_of_death'] + '/' + cause\\n                    df.loc[index, column] = item.replace(cause, '').strip()\\n                else:\\n                    df.loc[index, 'cause_of_death'] = cause\\n                    df.loc[index, column] = item.replace(cause, '').strip()\\n                \\n                \\n# For loop to find role in column and extract it as category\\nfor category, category_lst in known_for_dict.items():\\n    for role in category_lst:\\n        for index in dataframe.index:\\n                item = df.loc[index, column]\\n                if item:\\n                    if role in item:\\n                        df.loc[index, category] = 1\\n                        df.loc[index, column] = item.replace(role, '').strip()\\n\\n# Calculating num_categories\\ndf[\\\"num_categories\\\"] = df[known_for_dict.keys()].sum(axis=1)\\n\\n# Checking number of cause_of_death values\\nprint(f'There are {df[\\\"cause_of_death\\\"].notna().sum()} values in cause_of_death column.\\\\n')\";\n",
       "                var nbb_formatted_code = \"%%time\\n\\n# Column to check\\ncolumn = 'info_3_1'\\n\\n# Start dataframe\\ndataframe = df[df[column].notna()]\\n\\n# For loop to find cause in column and extract it to cause_of_death\\nfor cause in cause_of_death:\\n    for index in dataframe.index:\\n        item = df.loc[index, column]\\n        if item:\\n            if cause in item:\\n                if df.loc[index, 'cause_of_death']:\\n                    df.loc[index, 'cause_of_death'] = df.loc[index, 'cause_of_death'] + '/' + cause\\n                    df.loc[index, column] = item.replace(cause, '').strip()\\n                else:\\n                    df.loc[index, 'cause_of_death'] = cause\\n                    df.loc[index, column] = item.replace(cause, '').strip()\\n                \\n                \\n# For loop to find role in column and extract it as category\\nfor category, category_lst in known_for_dict.items():\\n    for role in category_lst:\\n        for index in dataframe.index:\\n                item = df.loc[index, column]\\n                if item:\\n                    if role in item:\\n                        df.loc[index, category] = 1\\n                        df.loc[index, column] = item.replace(role, '').strip()\\n\\n# Calculating num_categories\\ndf[\\\"num_categories\\\"] = df[known_for_dict.keys()].sum(axis=1)\\n\\n# Checking number of cause_of_death values\\nprint(f'There are {df[\\\"cause_of_death\\\"].notna().sum()} values in cause_of_death column.\\\\n')\";\n",
       "                var nbb_cells = Jupyter.notebook.get_cells();\n",
       "                for (var i = 0; i < nbb_cells.length; ++i) {\n",
       "                    if (nbb_cells[i].input_prompt_number == nbb_cell_id) {\n",
       "                        if (nbb_cells[i].get_text() == nbb_unformatted_code) {\n",
       "                             nbb_cells[i].set_text(nbb_formatted_code);\n",
       "                        }\n",
       "                        break;\n",
       "                    }\n",
       "                }\n",
       "            }, 500);\n",
       "            "
      ],
      "text/plain": [
       "<IPython.core.display.Javascript object>"
      ]
     },
     "metadata": {},
     "output_type": "display_data"
    }
   ],
   "source": [
    "%%time\n",
    "\n",
    "# Column to check\n",
    "column = 'info_3_1'\n",
    "\n",
    "# Start dataframe\n",
    "dataframe = df[df[column].notna()]\n",
    "\n",
    "# For loop to find cause in column and extract it to cause_of_death\n",
    "for cause in cause_of_death:\n",
    "    for index in dataframe.index:\n",
    "        item = df.loc[index, column]\n",
    "        if item:\n",
    "            if cause in item:\n",
    "                if df.loc[index, 'cause_of_death']:\n",
    "                    df.loc[index, 'cause_of_death'] = df.loc[index, 'cause_of_death'] + '/' + cause\n",
    "                    df.loc[index, column] = item.replace(cause, '').strip()\n",
    "                else:\n",
    "                    df.loc[index, 'cause_of_death'] = cause\n",
    "                    df.loc[index, column] = item.replace(cause, '').strip()\n",
    "                \n",
    "                \n",
    "# For loop to find role in column and extract it as category\n",
    "for category, category_lst in known_for_dict.items():\n",
    "    for role in category_lst:\n",
    "        for index in dataframe.index:\n",
    "                item = df.loc[index, column]\n",
    "                if item:\n",
    "                    if role in item:\n",
    "                        df.loc[index, category] = 1\n",
    "                        df.loc[index, column] = item.replace(role, '').strip()\n",
    "\n",
    "# Calculating num_categories\n",
    "df[\"num_categories\"] = df[known_for_dict.keys()].sum(axis=1)\n",
    "\n",
    "# Checking number of cause_of_death values\n",
    "print(f'There are {df[\"cause_of_death\"].notna().sum()} values in cause_of_death column.\\n')"
   ]
  },
  {
   "cell_type": "markdown",
   "id": "6e019007",
   "metadata": {},
   "source": [
    "#### Checking Updated `num_categories` Value Counts"
   ]
  },
  {
   "cell_type": "code",
   "execution_count": 101,
   "id": "53c6e7e4",
   "metadata": {},
   "outputs": [
    {
     "data": {
      "text/plain": [
       "1    84568\n",
       "2    12634\n",
       "3      822\n",
       "0        8\n",
       "4        8\n",
       "Name: num_categories, dtype: int64"
      ]
     },
     "execution_count": 101,
     "metadata": {},
     "output_type": "execute_result"
    },
    {
     "data": {
      "application/javascript": [
       "\n",
       "            setTimeout(function() {\n",
       "                var nbb_cell_id = 101;\n",
       "                var nbb_unformatted_code = \"# Checking Updated num_categories Value Counts\\ndf[\\\"num_categories\\\"].value_counts()\";\n",
       "                var nbb_formatted_code = \"# Checking Updated num_categories Value Counts\\ndf[\\\"num_categories\\\"].value_counts()\";\n",
       "                var nbb_cells = Jupyter.notebook.get_cells();\n",
       "                for (var i = 0; i < nbb_cells.length; ++i) {\n",
       "                    if (nbb_cells[i].input_prompt_number == nbb_cell_id) {\n",
       "                        if (nbb_cells[i].get_text() == nbb_unformatted_code) {\n",
       "                             nbb_cells[i].set_text(nbb_formatted_code);\n",
       "                        }\n",
       "                        break;\n",
       "                    }\n",
       "                }\n",
       "            }, 500);\n",
       "            "
      ],
      "text/plain": [
       "<IPython.core.display.Javascript object>"
      ]
     },
     "metadata": {},
     "output_type": "display_data"
    }
   ],
   "source": [
    "# Checking Updated num_categories Value Counts\n",
    "df[\"num_categories\"].value_counts()"
   ]
  },
  {
   "cell_type": "markdown",
   "id": "02e1debe",
   "metadata": {},
   "source": [
    "#### Verifying that Values in info_3_1 Are Exhausted"
   ]
  },
  {
   "cell_type": "code",
   "execution_count": 102,
   "id": "8b67746b",
   "metadata": {},
   "outputs": [
    {
     "data": {
      "text/plain": [
       "    4664\n",
       "Name: info_3_1, dtype: int64"
      ]
     },
     "execution_count": 102,
     "metadata": {},
     "output_type": "execute_result"
    },
    {
     "data": {
      "application/javascript": [
       "\n",
       "            setTimeout(function() {\n",
       "                var nbb_cell_id = 102;\n",
       "                var nbb_unformatted_code = \"# Verifying that `info_3_2` is exhausted\\ndf[\\\"info_3_1\\\"].value_counts()\";\n",
       "                var nbb_formatted_code = \"# Verifying that `info_3_2` is exhausted\\ndf[\\\"info_3_1\\\"].value_counts()\";\n",
       "                var nbb_cells = Jupyter.notebook.get_cells();\n",
       "                for (var i = 0; i < nbb_cells.length; ++i) {\n",
       "                    if (nbb_cells[i].input_prompt_number == nbb_cell_id) {\n",
       "                        if (nbb_cells[i].get_text() == nbb_unformatted_code) {\n",
       "                             nbb_cells[i].set_text(nbb_formatted_code);\n",
       "                        }\n",
       "                        break;\n",
       "                    }\n",
       "                }\n",
       "            }, 500);\n",
       "            "
      ],
      "text/plain": [
       "<IPython.core.display.Javascript object>"
      ]
     },
     "metadata": {},
     "output_type": "display_data"
    }
   ],
   "source": [
    "# Verifying that `info_3_2` is exhausted\n",
    "df[\"info_3_1\"].value_counts()"
   ]
  },
  {
   "cell_type": "markdown",
   "id": "1641df0d",
   "metadata": {},
   "source": [
    "#### Dropping `info_3_1`"
   ]
  },
  {
   "cell_type": "code",
   "execution_count": 103,
   "id": "f3b42931",
   "metadata": {},
   "outputs": [
    {
     "data": {
      "text/html": [
       "<div>\n",
       "<style scoped>\n",
       "    .dataframe tbody tr th:only-of-type {\n",
       "        vertical-align: middle;\n",
       "    }\n",
       "\n",
       "    .dataframe tbody tr th {\n",
       "        vertical-align: top;\n",
       "    }\n",
       "\n",
       "    .dataframe thead th {\n",
       "        text-align: right;\n",
       "    }\n",
       "</style>\n",
       "<table border=\"1\" class=\"dataframe\">\n",
       "  <thead>\n",
       "    <tr style=\"text-align: right;\">\n",
       "      <th></th>\n",
       "      <th>day</th>\n",
       "      <th>name</th>\n",
       "      <th>info</th>\n",
       "      <th>link</th>\n",
       "      <th>num_references</th>\n",
       "      <th>year</th>\n",
       "      <th>month</th>\n",
       "      <th>info_parenth</th>\n",
       "      <th>age</th>\n",
       "      <th>cause_of_death</th>\n",
       "      <th>place_1</th>\n",
       "      <th>place_2</th>\n",
       "      <th>info_parenth_copy</th>\n",
       "      <th>log_num_references</th>\n",
       "      <th>info_3_2</th>\n",
       "      <th>info_4_0</th>\n",
       "      <th>info_4_1</th>\n",
       "      <th>info_4_2</th>\n",
       "      <th>info_5_0</th>\n",
       "      <th>info_5_1</th>\n",
       "      <th>info_5_2</th>\n",
       "      <th>info_6_0</th>\n",
       "      <th>info_6_1</th>\n",
       "      <th>info_7_0</th>\n",
       "      <th>info_8_0</th>\n",
       "      <th>info_8_1</th>\n",
       "      <th>info_9_0</th>\n",
       "      <th>info_10_0</th>\n",
       "      <th>info_11_0</th>\n",
       "      <th>sciences</th>\n",
       "      <th>social</th>\n",
       "      <th>spiritual</th>\n",
       "      <th>academia_humanities</th>\n",
       "      <th>business_farming</th>\n",
       "      <th>arts</th>\n",
       "      <th>sports</th>\n",
       "      <th>law_enf_military_operator</th>\n",
       "      <th>politics_govt_law</th>\n",
       "      <th>crime</th>\n",
       "      <th>event_record_other</th>\n",
       "      <th>other_species</th>\n",
       "      <th>num_categories</th>\n",
       "    </tr>\n",
       "  </thead>\n",
       "  <tbody>\n",
       "    <tr>\n",
       "      <th>57248</th>\n",
       "      <td>4</td>\n",
       "      <td>David M. Gates</td>\n",
       "      <td>, 94, American ecologist.</td>\n",
       "      <td>https://en.wikipedia.org/wiki/David_M._Gates</td>\n",
       "      <td>3</td>\n",
       "      <td>2016</td>\n",
       "      <td>March</td>\n",
       "      <td>None</td>\n",
       "      <td>94.0</td>\n",
       "      <td>None</td>\n",
       "      <td>United States of America</td>\n",
       "      <td>None</td>\n",
       "      <td>None</td>\n",
       "      <td>1.386294</td>\n",
       "      <td>None</td>\n",
       "      <td>None</td>\n",
       "      <td>None</td>\n",
       "      <td>None</td>\n",
       "      <td>None</td>\n",
       "      <td>None</td>\n",
       "      <td>None</td>\n",
       "      <td>None</td>\n",
       "      <td>None</td>\n",
       "      <td>None</td>\n",
       "      <td>None</td>\n",
       "      <td>None</td>\n",
       "      <td>None</td>\n",
       "      <td>None</td>\n",
       "      <td>None</td>\n",
       "      <td>1</td>\n",
       "      <td>0</td>\n",
       "      <td>0</td>\n",
       "      <td>0</td>\n",
       "      <td>0</td>\n",
       "      <td>0</td>\n",
       "      <td>0</td>\n",
       "      <td>0</td>\n",
       "      <td>0</td>\n",
       "      <td>0</td>\n",
       "      <td>0</td>\n",
       "      <td>0</td>\n",
       "      <td>1</td>\n",
       "    </tr>\n",
       "  </tbody>\n",
       "</table>\n",
       "</div>"
      ],
      "text/plain": [
       "      day            name                       info  \\\n",
       "57248   4  David M. Gates  , 94, American ecologist.   \n",
       "\n",
       "                                               link  num_references  year  \\\n",
       "57248  https://en.wikipedia.org/wiki/David_M._Gates               3  2016   \n",
       "\n",
       "       month info_parenth   age cause_of_death                   place_1  \\\n",
       "57248  March         None  94.0           None  United States of America   \n",
       "\n",
       "      place_2 info_parenth_copy  log_num_references info_3_2 info_4_0  \\\n",
       "57248    None              None            1.386294     None     None   \n",
       "\n",
       "      info_4_1 info_4_2 info_5_0 info_5_1 info_5_2 info_6_0 info_6_1 info_7_0  \\\n",
       "57248     None     None     None     None     None     None     None     None   \n",
       "\n",
       "      info_8_0 info_8_1 info_9_0 info_10_0 info_11_0  sciences  social  \\\n",
       "57248     None     None     None      None      None         1       0   \n",
       "\n",
       "       spiritual  academia_humanities  business_farming  arts  sports  \\\n",
       "57248          0                    0                 0     0       0   \n",
       "\n",
       "       law_enf_military_operator  politics_govt_law  crime  \\\n",
       "57248                          0                  0      0   \n",
       "\n",
       "       event_record_other  other_species  num_categories  \n",
       "57248                   0              0               1  "
      ]
     },
     "execution_count": 103,
     "metadata": {},
     "output_type": "execute_result"
    },
    {
     "data": {
      "application/javascript": [
       "\n",
       "            setTimeout(function() {\n",
       "                var nbb_cell_id = 103;\n",
       "                var nbb_unformatted_code = \"# Dropping info_3_2\\ndf.drop(\\\"info_3_1\\\", axis=1, inplace=True)\\n\\n# Checking sample\\ndf.sample()\";\n",
       "                var nbb_formatted_code = \"# Dropping info_3_2\\ndf.drop(\\\"info_3_1\\\", axis=1, inplace=True)\\n\\n# Checking sample\\ndf.sample()\";\n",
       "                var nbb_cells = Jupyter.notebook.get_cells();\n",
       "                for (var i = 0; i < nbb_cells.length; ++i) {\n",
       "                    if (nbb_cells[i].input_prompt_number == nbb_cell_id) {\n",
       "                        if (nbb_cells[i].get_text() == nbb_unformatted_code) {\n",
       "                             nbb_cells[i].set_text(nbb_formatted_code);\n",
       "                        }\n",
       "                        break;\n",
       "                    }\n",
       "                }\n",
       "            }, 500);\n",
       "            "
      ],
      "text/plain": [
       "<IPython.core.display.Javascript object>"
      ]
     },
     "metadata": {},
     "output_type": "display_data"
    }
   ],
   "source": [
    "# Dropping info_3_2\n",
    "df.drop(\"info_3_1\", axis=1, inplace=True)\n",
    "\n",
    "# Checking sample\n",
    "df.sample()"
   ]
  },
  {
   "cell_type": "markdown",
   "id": "7a403ca4",
   "metadata": {},
   "source": [
    "#### Observations:\n",
    "- Our search of column `info_3_1` is finished and have dropped that column.\n",
    "- We will now move on to searching `info_3_2`."
   ]
  },
  {
   "cell_type": "markdown",
   "id": "0bd005f8",
   "metadata": {},
   "source": [
    "#### Finding `known_for` Roles and `cause_of_death` in `info_3_2`"
   ]
  },
  {
   "cell_type": "code",
   "execution_count": 104,
   "id": "f0128cdc",
   "metadata": {},
   "outputs": [
    {
     "data": {
      "application/javascript": [
       "\n",
       "            setTimeout(function() {\n",
       "                var nbb_cell_id = 104;\n",
       "                var nbb_unformatted_code = \"# # Obtaining values for column and their counts\\n# roles_cause_list = df[\\\"info_3_2\\\"].value_counts(ascending=True).index.tolist()\";\n",
       "                var nbb_formatted_code = \"# # Obtaining values for column and their counts\\n# roles_cause_list = df[\\\"info_3_2\\\"].value_counts(ascending=True).index.tolist()\";\n",
       "                var nbb_cells = Jupyter.notebook.get_cells();\n",
       "                for (var i = 0; i < nbb_cells.length; ++i) {\n",
       "                    if (nbb_cells[i].input_prompt_number == nbb_cell_id) {\n",
       "                        if (nbb_cells[i].get_text() == nbb_unformatted_code) {\n",
       "                             nbb_cells[i].set_text(nbb_formatted_code);\n",
       "                        }\n",
       "                        break;\n",
       "                    }\n",
       "                }\n",
       "            }, 500);\n",
       "            "
      ],
      "text/plain": [
       "<IPython.core.display.Javascript object>"
      ]
     },
     "metadata": {},
     "output_type": "display_data"
    }
   ],
   "source": [
    "# # Obtaining values for column and their counts\n",
    "# roles_cause_list = df[\"info_3_2\"].value_counts(ascending=True).index.tolist()"
   ]
  },
  {
   "cell_type": "code",
   "execution_count": 105,
   "id": "d72b847b",
   "metadata": {},
   "outputs": [
    {
     "data": {
      "application/javascript": [
       "\n",
       "            setTimeout(function() {\n",
       "                var nbb_cell_id = 105;\n",
       "                var nbb_unformatted_code = \"# # Code to check each value\\n# value = roles_cause_list.pop()\\n# value\";\n",
       "                var nbb_formatted_code = \"# # Code to check each value\\n# value = roles_cause_list.pop()\\n# value\";\n",
       "                var nbb_cells = Jupyter.notebook.get_cells();\n",
       "                for (var i = 0; i < nbb_cells.length; ++i) {\n",
       "                    if (nbb_cells[i].input_prompt_number == nbb_cell_id) {\n",
       "                        if (nbb_cells[i].get_text() == nbb_unformatted_code) {\n",
       "                             nbb_cells[i].set_text(nbb_formatted_code);\n",
       "                        }\n",
       "                        break;\n",
       "                    }\n",
       "                }\n",
       "            }, 500);\n",
       "            "
      ],
      "text/plain": [
       "<IPython.core.display.Javascript object>"
      ]
     },
     "metadata": {},
     "output_type": "display_data"
    }
   ],
   "source": [
    "# # Code to check each value\n",
    "# value = roles_cause_list.pop()\n",
    "# value"
   ]
  },
  {
   "cell_type": "code",
   "execution_count": 106,
   "id": "e2c56899",
   "metadata": {},
   "outputs": [
    {
     "data": {
      "application/javascript": [
       "\n",
       "            setTimeout(function() {\n",
       "                var nbb_cell_id = 106;\n",
       "                var nbb_unformatted_code = \"# # Create specific_roles_cause_list for above popped value\\n# specific_roles_cause_list = (\\n#     df.loc[\\n#         [\\n#             index\\n#             for index in df[df[\\\"info_3_2\\\"].notna()].index\\n#             if value in df.loc[index, \\\"info_3_2\\\"]\\n#         ],\\n#         \\\"info_3_2\\\",\\n#     ]\\n#     .value_counts()\\n#     .index.tolist()\\n# )\";\n",
       "                var nbb_formatted_code = \"# # Create specific_roles_cause_list for above popped value\\n# specific_roles_cause_list = (\\n#     df.loc[\\n#         [\\n#             index\\n#             for index in df[df[\\\"info_3_2\\\"].notna()].index\\n#             if value in df.loc[index, \\\"info_3_2\\\"]\\n#         ],\\n#         \\\"info_3_2\\\",\\n#     ]\\n#     .value_counts()\\n#     .index.tolist()\\n# )\";\n",
       "                var nbb_cells = Jupyter.notebook.get_cells();\n",
       "                for (var i = 0; i < nbb_cells.length; ++i) {\n",
       "                    if (nbb_cells[i].input_prompt_number == nbb_cell_id) {\n",
       "                        if (nbb_cells[i].get_text() == nbb_unformatted_code) {\n",
       "                             nbb_cells[i].set_text(nbb_formatted_code);\n",
       "                        }\n",
       "                        break;\n",
       "                    }\n",
       "                }\n",
       "            }, 500);\n",
       "            "
      ],
      "text/plain": [
       "<IPython.core.display.Javascript object>"
      ]
     },
     "metadata": {},
     "output_type": "display_data"
    }
   ],
   "source": [
    "# # Create specific_roles_cause_list for above popped value\n",
    "# specific_roles_cause_list = (\n",
    "#     df.loc[\n",
    "#         [\n",
    "#             index\n",
    "#             for index in df[df[\"info_3_2\"].notna()].index\n",
    "#             if value in df.loc[index, \"info_3_2\"]\n",
    "#         ],\n",
    "#         \"info_3_2\",\n",
    "#     ]\n",
    "#     .value_counts()\n",
    "#     .index.tolist()\n",
    "# )"
   ]
  },
  {
   "cell_type": "code",
   "execution_count": 107,
   "id": "e694f712",
   "metadata": {},
   "outputs": [
    {
     "data": {
      "application/javascript": [
       "\n",
       "            setTimeout(function() {\n",
       "                var nbb_cell_id = 107;\n",
       "                var nbb_unformatted_code = \"# # Viewing list sorted by descending length to copy to dictionary below and screen values\\n# sorted(specific_roles_cause_list, key=lambda x: len(x), reverse=True)\";\n",
       "                var nbb_formatted_code = \"# # Viewing list sorted by descending length to copy to dictionary below and screen values\\n# sorted(specific_roles_cause_list, key=lambda x: len(x), reverse=True)\";\n",
       "                var nbb_cells = Jupyter.notebook.get_cells();\n",
       "                for (var i = 0; i < nbb_cells.length; ++i) {\n",
       "                    if (nbb_cells[i].input_prompt_number == nbb_cell_id) {\n",
       "                        if (nbb_cells[i].get_text() == nbb_unformatted_code) {\n",
       "                             nbb_cells[i].set_text(nbb_formatted_code);\n",
       "                        }\n",
       "                        break;\n",
       "                    }\n",
       "                }\n",
       "            }, 500);\n",
       "            "
      ],
      "text/plain": [
       "<IPython.core.display.Javascript object>"
      ]
     },
     "metadata": {},
     "output_type": "display_data"
    }
   ],
   "source": [
    "# # Viewing list sorted by descending length to copy to dictionary below and screen values\n",
    "# sorted(specific_roles_cause_list, key=lambda x: len(x), reverse=True)"
   ]
  },
  {
   "cell_type": "code",
   "execution_count": 108,
   "id": "bd722d5e",
   "metadata": {},
   "outputs": [
    {
     "data": {
      "application/javascript": [
       "\n",
       "            setTimeout(function() {\n",
       "                var nbb_cell_id = 108;\n",
       "                var nbb_unformatted_code = \"# # Example code to quick-check a specific entry\\n# df[df[\\\"info_3_2\\\"] == value]\";\n",
       "                var nbb_formatted_code = \"# # Example code to quick-check a specific entry\\n# df[df[\\\"info_3_2\\\"] == value]\";\n",
       "                var nbb_cells = Jupyter.notebook.get_cells();\n",
       "                for (var i = 0; i < nbb_cells.length; ++i) {\n",
       "                    if (nbb_cells[i].input_prompt_number == nbb_cell_id) {\n",
       "                        if (nbb_cells[i].get_text() == nbb_unformatted_code) {\n",
       "                             nbb_cells[i].set_text(nbb_formatted_code);\n",
       "                        }\n",
       "                        break;\n",
       "                    }\n",
       "                }\n",
       "            }, 500);\n",
       "            "
      ],
      "text/plain": [
       "<IPython.core.display.Javascript object>"
      ]
     },
     "metadata": {},
     "output_type": "display_data"
    }
   ],
   "source": [
    "# # Example code to quick-check a specific entry\n",
    "# df[df[\"info_3_2\"] == value]"
   ]
  },
  {
   "cell_type": "markdown",
   "id": "81bd972e",
   "metadata": {},
   "source": [
    "#### Creating Lists for Each `known_for` Category and for `cause_of_death`"
   ]
  },
  {
   "cell_type": "code",
   "execution_count": 109,
   "id": "475c3d61",
   "metadata": {},
   "outputs": [
    {
     "data": {
      "application/javascript": [
       "\n",
       "            setTimeout(function() {\n",
       "                var nbb_cell_id = 109;\n",
       "                var nbb_unformatted_code = \"# Creating lists for each category and sorting by decreasing length and removing duplicates\\n\\npolitics_govt_law = [\\n    \\\"Lyndon B Johnson\\\",\\n    \\\"Retail Clerks Int'l\\\",\\n    \\\"Technology\\\",\\n    \\\"Immigration\\\",\\n    \\\"Bearsden\\\",\\n    \\\"arms development\\\",\\n    \\\"Social Services\\\",\\n    \\\"Bell Island\\\",\\n]\\npolitics_govt_law = sorted(\\n    list(set(politics_govt_law)), key=lambda x: len(x), reverse=True\\n)\\n\\narts = [\\n    \\\"record producer\\\",\\n    \\\"appeared with the Chicago Symphony Orchestra\\\",\\n    \\\"author\\\",\\n    \\\"singer\\\",\\n    \\\"Stone the Crows\\\",\\n    \\\"the West\\\",\\n    \\\"producer\\\",\\n    \\\"executive\\\",\\n    \\\"screenwriter\\\",\\n    \\\"writer\\\",\\n    \\\"TV personality\\\",\\n    \\\"film\\\",\\n    \\\"television composer\\\",\\n    \\\"the CPB\\\",\\n    \\\"guitarist\\\",\\n    \\\"Dawn\\\",\\n]\\narts = sorted(list(set(arts)), key=lambda x: len(x), reverse=True)\\n\\nsports = [\\\"the NHL New Devils\\\", \\\"yard dashes\\\", \\\"Sports Association of\\\", \\\"administrator\\\"]\\nsports = sorted(list(set(sports)), key=lambda x: len(x), reverse=True)\\n\\nsciences = [\\\"Sciences\\\", \\\"Antarctic Administration\\\"]\\nsciences = sorted(list(set(sciences)), key=lambda x: len(x), reverse=True)\\n\\nbusiness_farming = [\\\"Beaches Resorts\\\"]\\nbusiness_farming = sorted(\\n    list(set(business_farming)), key=lambda x: len(x), reverse=True\\n)\\n\\nacademia_humanities = [\\\"language\\\", \\\"Space Museum\\\", \\\"professor emeritus\\\", \\\"lecturer\\\"]\\nacademia_humanities = sorted(\\n    list(set(academia_humanities)), key=lambda x: len(x), reverse=True\\n)\\n\\nlaw_enf_military_operator = [\\n    \\\"ballistic missile programs\\\",\\n    \\\"II\\\",\\n    \\\"first husband of actress Marilyn Monroe\\\",\\n    \\\"Vice Minister of Public Security\\\",\\n    \\\"Marine aviator\\\",\\n]\\nlaw_enf_military_operator = sorted(\\n    list(set(law_enf_military_operator)), key=lambda x: len(x), reverse=True\\n)\\n\\nspiritual = [\\\"the Grenadines\\\"]\\nspiritual = sorted(list(set(spiritual)), key=lambda x: len(x), reverse=True)\\n\\nsocial = []\\nsocial = sorted(list(set(social)), key=lambda x: len(x), reverse=True)\\n\\ncrime = []\\ncrime = sorted(list(set(crime)), key=lambda x: len(x), reverse=True)\\n\\nevent_record_other = [\\\"plaintiff in their inheritance feud\\\"]\\nevent_record_other = sorted(\\n    list(set(event_record_other)), key=lambda x: len(x), reverse=True\\n)\\n\\nother_species = []\\nother_species = sorted(list(set(other_species)), key=lambda x: len(x), reverse=True)\\n\\ncause_of_death = [\\\"heart disease\\\", \\\"liver disease\\\", \\\"lymphoma\\\"]\\ncause_of_death = sorted(list(set(cause_of_death)), key=lambda x: len(x), reverse=True)\";\n",
       "                var nbb_formatted_code = \"# Creating lists for each category and sorting by decreasing length and removing duplicates\\n\\npolitics_govt_law = [\\n    \\\"Lyndon B Johnson\\\",\\n    \\\"Retail Clerks Int'l\\\",\\n    \\\"Technology\\\",\\n    \\\"Immigration\\\",\\n    \\\"Bearsden\\\",\\n    \\\"arms development\\\",\\n    \\\"Social Services\\\",\\n    \\\"Bell Island\\\",\\n]\\npolitics_govt_law = sorted(\\n    list(set(politics_govt_law)), key=lambda x: len(x), reverse=True\\n)\\n\\narts = [\\n    \\\"record producer\\\",\\n    \\\"appeared with the Chicago Symphony Orchestra\\\",\\n    \\\"author\\\",\\n    \\\"singer\\\",\\n    \\\"Stone the Crows\\\",\\n    \\\"the West\\\",\\n    \\\"producer\\\",\\n    \\\"executive\\\",\\n    \\\"screenwriter\\\",\\n    \\\"writer\\\",\\n    \\\"TV personality\\\",\\n    \\\"film\\\",\\n    \\\"television composer\\\",\\n    \\\"the CPB\\\",\\n    \\\"guitarist\\\",\\n    \\\"Dawn\\\",\\n]\\narts = sorted(list(set(arts)), key=lambda x: len(x), reverse=True)\\n\\nsports = [\\\"the NHL New Devils\\\", \\\"yard dashes\\\", \\\"Sports Association of\\\", \\\"administrator\\\"]\\nsports = sorted(list(set(sports)), key=lambda x: len(x), reverse=True)\\n\\nsciences = [\\\"Sciences\\\", \\\"Antarctic Administration\\\"]\\nsciences = sorted(list(set(sciences)), key=lambda x: len(x), reverse=True)\\n\\nbusiness_farming = [\\\"Beaches Resorts\\\"]\\nbusiness_farming = sorted(\\n    list(set(business_farming)), key=lambda x: len(x), reverse=True\\n)\\n\\nacademia_humanities = [\\\"language\\\", \\\"Space Museum\\\", \\\"professor emeritus\\\", \\\"lecturer\\\"]\\nacademia_humanities = sorted(\\n    list(set(academia_humanities)), key=lambda x: len(x), reverse=True\\n)\\n\\nlaw_enf_military_operator = [\\n    \\\"ballistic missile programs\\\",\\n    \\\"II\\\",\\n    \\\"first husband of actress Marilyn Monroe\\\",\\n    \\\"Vice Minister of Public Security\\\",\\n    \\\"Marine aviator\\\",\\n]\\nlaw_enf_military_operator = sorted(\\n    list(set(law_enf_military_operator)), key=lambda x: len(x), reverse=True\\n)\\n\\nspiritual = [\\\"the Grenadines\\\"]\\nspiritual = sorted(list(set(spiritual)), key=lambda x: len(x), reverse=True)\\n\\nsocial = []\\nsocial = sorted(list(set(social)), key=lambda x: len(x), reverse=True)\\n\\ncrime = []\\ncrime = sorted(list(set(crime)), key=lambda x: len(x), reverse=True)\\n\\nevent_record_other = [\\\"plaintiff in their inheritance feud\\\"]\\nevent_record_other = sorted(\\n    list(set(event_record_other)), key=lambda x: len(x), reverse=True\\n)\\n\\nother_species = []\\nother_species = sorted(list(set(other_species)), key=lambda x: len(x), reverse=True)\\n\\ncause_of_death = [\\\"heart disease\\\", \\\"liver disease\\\", \\\"lymphoma\\\"]\\ncause_of_death = sorted(list(set(cause_of_death)), key=lambda x: len(x), reverse=True)\";\n",
       "                var nbb_cells = Jupyter.notebook.get_cells();\n",
       "                for (var i = 0; i < nbb_cells.length; ++i) {\n",
       "                    if (nbb_cells[i].input_prompt_number == nbb_cell_id) {\n",
       "                        if (nbb_cells[i].get_text() == nbb_unformatted_code) {\n",
       "                             nbb_cells[i].set_text(nbb_formatted_code);\n",
       "                        }\n",
       "                        break;\n",
       "                    }\n",
       "                }\n",
       "            }, 500);\n",
       "            "
      ],
      "text/plain": [
       "<IPython.core.display.Javascript object>"
      ]
     },
     "metadata": {},
     "output_type": "display_data"
    }
   ],
   "source": [
    "# Creating lists for each category and sorting by decreasing length and removing duplicates\n",
    "\n",
    "politics_govt_law = [\n",
    "    \"Lyndon B Johnson\",\n",
    "    \"Retail Clerks Int'l\",\n",
    "    \"Technology\",\n",
    "    \"Immigration\",\n",
    "    \"Bearsden\",\n",
    "    \"arms development\",\n",
    "    \"Social Services\",\n",
    "    \"Bell Island\",\n",
    "]\n",
    "politics_govt_law = sorted(\n",
    "    list(set(politics_govt_law)), key=lambda x: len(x), reverse=True\n",
    ")\n",
    "\n",
    "arts = [\n",
    "    \"record producer\",\n",
    "    \"appeared with the Chicago Symphony Orchestra\",\n",
    "    \"author\",\n",
    "    \"singer\",\n",
    "    \"Stone the Crows\",\n",
    "    \"the West\",\n",
    "    \"producer\",\n",
    "    \"executive\",\n",
    "    \"screenwriter\",\n",
    "    \"writer\",\n",
    "    \"TV personality\",\n",
    "    \"film\",\n",
    "    \"television composer\",\n",
    "    \"the CPB\",\n",
    "    \"guitarist\",\n",
    "    \"Dawn\",\n",
    "]\n",
    "arts = sorted(list(set(arts)), key=lambda x: len(x), reverse=True)\n",
    "\n",
    "sports = [\"the NHL New Devils\", \"yard dashes\", \"Sports Association of\", \"administrator\"]\n",
    "sports = sorted(list(set(sports)), key=lambda x: len(x), reverse=True)\n",
    "\n",
    "sciences = [\"Sciences\", \"Antarctic Administration\"]\n",
    "sciences = sorted(list(set(sciences)), key=lambda x: len(x), reverse=True)\n",
    "\n",
    "business_farming = [\"Beaches Resorts\"]\n",
    "business_farming = sorted(\n",
    "    list(set(business_farming)), key=lambda x: len(x), reverse=True\n",
    ")\n",
    "\n",
    "academia_humanities = [\"language\", \"Space Museum\", \"professor emeritus\", \"lecturer\"]\n",
    "academia_humanities = sorted(\n",
    "    list(set(academia_humanities)), key=lambda x: len(x), reverse=True\n",
    ")\n",
    "\n",
    "law_enf_military_operator = [\n",
    "    \"ballistic missile programs\",\n",
    "    \"II\",\n",
    "    \"first husband of actress Marilyn Monroe\",\n",
    "    \"Vice Minister of Public Security\",\n",
    "    \"Marine aviator\",\n",
    "]\n",
    "law_enf_military_operator = sorted(\n",
    "    list(set(law_enf_military_operator)), key=lambda x: len(x), reverse=True\n",
    ")\n",
    "\n",
    "spiritual = [\"the Grenadines\"]\n",
    "spiritual = sorted(list(set(spiritual)), key=lambda x: len(x), reverse=True)\n",
    "\n",
    "social = []\n",
    "social = sorted(list(set(social)), key=lambda x: len(x), reverse=True)\n",
    "\n",
    "crime = []\n",
    "crime = sorted(list(set(crime)), key=lambda x: len(x), reverse=True)\n",
    "\n",
    "event_record_other = [\"plaintiff in their inheritance feud\"]\n",
    "event_record_other = sorted(\n",
    "    list(set(event_record_other)), key=lambda x: len(x), reverse=True\n",
    ")\n",
    "\n",
    "other_species = []\n",
    "other_species = sorted(list(set(other_species)), key=lambda x: len(x), reverse=True)\n",
    "\n",
    "cause_of_death = [\"heart disease\", \"liver disease\", \"lymphoma\"]\n",
    "cause_of_death = sorted(list(set(cause_of_death)), key=lambda x: len(x), reverse=True)"
   ]
  },
  {
   "cell_type": "markdown",
   "id": "317cca3b",
   "metadata": {},
   "source": [
    "#### Creating `known_for_dict` Dictionary of Category Keys and Specific Role Lists of Values"
   ]
  },
  {
   "cell_type": "code",
   "execution_count": 110,
   "id": "cae456d3",
   "metadata": {},
   "outputs": [
    {
     "data": {
      "application/javascript": [
       "\n",
       "            setTimeout(function() {\n",
       "                var nbb_cell_id = 110;\n",
       "                var nbb_unformatted_code = \"# Combining separate lists into one dictionary\\nknown_for_dict = {\\n    \\\"social\\\": social,\\n    \\\"spiritual\\\": spiritual,\\n    \\\"academia_humanities\\\": academia_humanities,\\n    \\\"business_farming\\\": business_farming,\\n    \\\"sciences\\\": sciences,\\n    \\\"politics_govt_law\\\": politics_govt_law,\\n    \\\"law_enf_military_operator\\\": law_enf_military_operator,\\n    \\\"crime\\\": crime,\\n    \\\"event_record_other\\\": event_record_other,\\n    \\\"other_species\\\": other_species,\\n    \\\"arts\\\": arts,\\n    \\\"sports\\\": sports,\\n}\";\n",
       "                var nbb_formatted_code = \"# Combining separate lists into one dictionary\\nknown_for_dict = {\\n    \\\"social\\\": social,\\n    \\\"spiritual\\\": spiritual,\\n    \\\"academia_humanities\\\": academia_humanities,\\n    \\\"business_farming\\\": business_farming,\\n    \\\"sciences\\\": sciences,\\n    \\\"politics_govt_law\\\": politics_govt_law,\\n    \\\"law_enf_military_operator\\\": law_enf_military_operator,\\n    \\\"crime\\\": crime,\\n    \\\"event_record_other\\\": event_record_other,\\n    \\\"other_species\\\": other_species,\\n    \\\"arts\\\": arts,\\n    \\\"sports\\\": sports,\\n}\";\n",
       "                var nbb_cells = Jupyter.notebook.get_cells();\n",
       "                for (var i = 0; i < nbb_cells.length; ++i) {\n",
       "                    if (nbb_cells[i].input_prompt_number == nbb_cell_id) {\n",
       "                        if (nbb_cells[i].get_text() == nbb_unformatted_code) {\n",
       "                             nbb_cells[i].set_text(nbb_formatted_code);\n",
       "                        }\n",
       "                        break;\n",
       "                    }\n",
       "                }\n",
       "            }, 500);\n",
       "            "
      ],
      "text/plain": [
       "<IPython.core.display.Javascript object>"
      ]
     },
     "metadata": {},
     "output_type": "display_data"
    }
   ],
   "source": [
    "# Combining separate lists into one dictionary\n",
    "known_for_dict = {\n",
    "    \"social\": social,\n",
    "    \"spiritual\": spiritual,\n",
    "    \"academia_humanities\": academia_humanities,\n",
    "    \"business_farming\": business_farming,\n",
    "    \"sciences\": sciences,\n",
    "    \"politics_govt_law\": politics_govt_law,\n",
    "    \"law_enf_military_operator\": law_enf_military_operator,\n",
    "    \"crime\": crime,\n",
    "    \"event_record_other\": event_record_other,\n",
    "    \"other_species\": other_species,\n",
    "    \"arts\": arts,\n",
    "    \"sports\": sports,\n",
    "}"
   ]
  },
  {
   "cell_type": "markdown",
   "id": "2754c612",
   "metadata": {},
   "source": [
    "#### Extracting `known_for` Categories and `cause_of_death` Values from `info_3_2`"
   ]
  },
  {
   "cell_type": "code",
   "execution_count": 111,
   "id": "fd4fff29",
   "metadata": {},
   "outputs": [
    {
     "name": "stdout",
     "output_type": "stream",
     "text": [
      "There are 25138 values in cause_of_death column.\n",
      "\n",
      "CPU times: total: 31.2 ms\n",
      "Wall time: 30 ms\n"
     ]
    },
    {
     "data": {
      "application/javascript": [
       "\n",
       "            setTimeout(function() {\n",
       "                var nbb_cell_id = 111;\n",
       "                var nbb_unformatted_code = \"%%time\\n\\n# Column to check\\ncolumn = 'info_3_2'\\n\\n# Start dataframe\\ndataframe = df[df[column].notna()]\\n\\n# For loop to find cause in column and extract it to cause_of_death\\nfor cause in cause_of_death:\\n    for index in dataframe.index:\\n        item = df.loc[index, column]\\n        if item:\\n            if cause in item:\\n                if df.loc[index, 'cause_of_death']:\\n                    df.loc[index, 'cause_of_death'] = df.loc[index, 'cause_of_death'] + '/' + cause\\n                    df.loc[index, column] = item.replace(cause, '').strip()\\n                else:\\n                    df.loc[index, 'cause_of_death'] = cause\\n                    df.loc[index, column] = item.replace(cause, '').strip()\\n                \\n                \\n# For loop to find role in column and extract it as category\\nfor category, category_lst in known_for_dict.items():\\n    for role in category_lst:\\n        for index in dataframe.index:\\n                item = df.loc[index, column]\\n                if item:\\n                    if role in item:\\n                        df.loc[index, category] = 1\\n                        df.loc[index, column] = item.replace(role, '').strip()\\n\\n# Calculating num_categories\\ndf[\\\"num_categories\\\"] = df[known_for_dict.keys()].sum(axis=1)\\n\\n# Checking number of cause_of_death values\\nprint(f'There are {df[\\\"cause_of_death\\\"].notna().sum()} values in cause_of_death column.\\\\n')\";\n",
       "                var nbb_formatted_code = \"%%time\\n\\n# Column to check\\ncolumn = 'info_3_2'\\n\\n# Start dataframe\\ndataframe = df[df[column].notna()]\\n\\n# For loop to find cause in column and extract it to cause_of_death\\nfor cause in cause_of_death:\\n    for index in dataframe.index:\\n        item = df.loc[index, column]\\n        if item:\\n            if cause in item:\\n                if df.loc[index, 'cause_of_death']:\\n                    df.loc[index, 'cause_of_death'] = df.loc[index, 'cause_of_death'] + '/' + cause\\n                    df.loc[index, column] = item.replace(cause, '').strip()\\n                else:\\n                    df.loc[index, 'cause_of_death'] = cause\\n                    df.loc[index, column] = item.replace(cause, '').strip()\\n                \\n                \\n# For loop to find role in column and extract it as category\\nfor category, category_lst in known_for_dict.items():\\n    for role in category_lst:\\n        for index in dataframe.index:\\n                item = df.loc[index, column]\\n                if item:\\n                    if role in item:\\n                        df.loc[index, category] = 1\\n                        df.loc[index, column] = item.replace(role, '').strip()\\n\\n# Calculating num_categories\\ndf[\\\"num_categories\\\"] = df[known_for_dict.keys()].sum(axis=1)\\n\\n# Checking number of cause_of_death values\\nprint(f'There are {df[\\\"cause_of_death\\\"].notna().sum()} values in cause_of_death column.\\\\n')\";\n",
       "                var nbb_cells = Jupyter.notebook.get_cells();\n",
       "                for (var i = 0; i < nbb_cells.length; ++i) {\n",
       "                    if (nbb_cells[i].input_prompt_number == nbb_cell_id) {\n",
       "                        if (nbb_cells[i].get_text() == nbb_unformatted_code) {\n",
       "                             nbb_cells[i].set_text(nbb_formatted_code);\n",
       "                        }\n",
       "                        break;\n",
       "                    }\n",
       "                }\n",
       "            }, 500);\n",
       "            "
      ],
      "text/plain": [
       "<IPython.core.display.Javascript object>"
      ]
     },
     "metadata": {},
     "output_type": "display_data"
    }
   ],
   "source": [
    "%%time\n",
    "\n",
    "# Column to check\n",
    "column = 'info_3_2'\n",
    "\n",
    "# Start dataframe\n",
    "dataframe = df[df[column].notna()]\n",
    "\n",
    "# For loop to find cause in column and extract it to cause_of_death\n",
    "for cause in cause_of_death:\n",
    "    for index in dataframe.index:\n",
    "        item = df.loc[index, column]\n",
    "        if item:\n",
    "            if cause in item:\n",
    "                if df.loc[index, 'cause_of_death']:\n",
    "                    df.loc[index, 'cause_of_death'] = df.loc[index, 'cause_of_death'] + '/' + cause\n",
    "                    df.loc[index, column] = item.replace(cause, '').strip()\n",
    "                else:\n",
    "                    df.loc[index, 'cause_of_death'] = cause\n",
    "                    df.loc[index, column] = item.replace(cause, '').strip()\n",
    "                \n",
    "                \n",
    "# For loop to find role in column and extract it as category\n",
    "for category, category_lst in known_for_dict.items():\n",
    "    for role in category_lst:\n",
    "        for index in dataframe.index:\n",
    "                item = df.loc[index, column]\n",
    "                if item:\n",
    "                    if role in item:\n",
    "                        df.loc[index, category] = 1\n",
    "                        df.loc[index, column] = item.replace(role, '').strip()\n",
    "\n",
    "# Calculating num_categories\n",
    "df[\"num_categories\"] = df[known_for_dict.keys()].sum(axis=1)\n",
    "\n",
    "# Checking number of cause_of_death values\n",
    "print(f'There are {df[\"cause_of_death\"].notna().sum()} values in cause_of_death column.\\n')"
   ]
  },
  {
   "cell_type": "markdown",
   "id": "32253697",
   "metadata": {},
   "source": [
    "#### Checking Updated `num_categories` Value Counts"
   ]
  },
  {
   "cell_type": "code",
   "execution_count": 112,
   "id": "7690346a",
   "metadata": {},
   "outputs": [
    {
     "data": {
      "text/plain": [
       "1    84567\n",
       "2    12632\n",
       "3      825\n",
       "0        8\n",
       "4        8\n",
       "Name: num_categories, dtype: int64"
      ]
     },
     "execution_count": 112,
     "metadata": {},
     "output_type": "execute_result"
    },
    {
     "data": {
      "application/javascript": [
       "\n",
       "            setTimeout(function() {\n",
       "                var nbb_cell_id = 112;\n",
       "                var nbb_unformatted_code = \"# Checking Updated num_categories Value Counts\\ndf[\\\"num_categories\\\"].value_counts()\";\n",
       "                var nbb_formatted_code = \"# Checking Updated num_categories Value Counts\\ndf[\\\"num_categories\\\"].value_counts()\";\n",
       "                var nbb_cells = Jupyter.notebook.get_cells();\n",
       "                for (var i = 0; i < nbb_cells.length; ++i) {\n",
       "                    if (nbb_cells[i].input_prompt_number == nbb_cell_id) {\n",
       "                        if (nbb_cells[i].get_text() == nbb_unformatted_code) {\n",
       "                             nbb_cells[i].set_text(nbb_formatted_code);\n",
       "                        }\n",
       "                        break;\n",
       "                    }\n",
       "                }\n",
       "            }, 500);\n",
       "            "
      ],
      "text/plain": [
       "<IPython.core.display.Javascript object>"
      ]
     },
     "metadata": {},
     "output_type": "display_data"
    }
   ],
   "source": [
    "# Checking Updated num_categories Value Counts\n",
    "df[\"num_categories\"].value_counts()"
   ]
  },
  {
   "cell_type": "markdown",
   "id": "d71ffa6a",
   "metadata": {},
   "source": [
    "#### Verifying that Values in info_3_2 Are Exhausted"
   ]
  },
  {
   "cell_type": "code",
   "execution_count": 113,
   "id": "43ea5092",
   "metadata": {},
   "outputs": [
    {
     "data": {
      "text/plain": [
       "    46\n",
       "Name: info_3_2, dtype: int64"
      ]
     },
     "execution_count": 113,
     "metadata": {},
     "output_type": "execute_result"
    },
    {
     "data": {
      "application/javascript": [
       "\n",
       "            setTimeout(function() {\n",
       "                var nbb_cell_id = 113;\n",
       "                var nbb_unformatted_code = \"# Verifying that `info_3_2` is exhausted\\ndf[\\\"info_3_2\\\"].value_counts()\";\n",
       "                var nbb_formatted_code = \"# Verifying that `info_3_2` is exhausted\\ndf[\\\"info_3_2\\\"].value_counts()\";\n",
       "                var nbb_cells = Jupyter.notebook.get_cells();\n",
       "                for (var i = 0; i < nbb_cells.length; ++i) {\n",
       "                    if (nbb_cells[i].input_prompt_number == nbb_cell_id) {\n",
       "                        if (nbb_cells[i].get_text() == nbb_unformatted_code) {\n",
       "                             nbb_cells[i].set_text(nbb_formatted_code);\n",
       "                        }\n",
       "                        break;\n",
       "                    }\n",
       "                }\n",
       "            }, 500);\n",
       "            "
      ],
      "text/plain": [
       "<IPython.core.display.Javascript object>"
      ]
     },
     "metadata": {},
     "output_type": "display_data"
    }
   ],
   "source": [
    "# Verifying that `info_3_2` is exhausted\n",
    "df[\"info_3_2\"].value_counts()"
   ]
  },
  {
   "cell_type": "markdown",
   "id": "c7eae6a4",
   "metadata": {},
   "source": [
    "#### Dropping info_3_2"
   ]
  },
  {
   "cell_type": "code",
   "execution_count": 114,
   "id": "75d2012a",
   "metadata": {},
   "outputs": [
    {
     "data": {
      "text/html": [
       "<div>\n",
       "<style scoped>\n",
       "    .dataframe tbody tr th:only-of-type {\n",
       "        vertical-align: middle;\n",
       "    }\n",
       "\n",
       "    .dataframe tbody tr th {\n",
       "        vertical-align: top;\n",
       "    }\n",
       "\n",
       "    .dataframe thead th {\n",
       "        text-align: right;\n",
       "    }\n",
       "</style>\n",
       "<table border=\"1\" class=\"dataframe\">\n",
       "  <thead>\n",
       "    <tr style=\"text-align: right;\">\n",
       "      <th></th>\n",
       "      <th>day</th>\n",
       "      <th>name</th>\n",
       "      <th>info</th>\n",
       "      <th>link</th>\n",
       "      <th>num_references</th>\n",
       "      <th>year</th>\n",
       "      <th>month</th>\n",
       "      <th>info_parenth</th>\n",
       "      <th>age</th>\n",
       "      <th>cause_of_death</th>\n",
       "      <th>place_1</th>\n",
       "      <th>place_2</th>\n",
       "      <th>info_parenth_copy</th>\n",
       "      <th>log_num_references</th>\n",
       "      <th>info_4_0</th>\n",
       "      <th>info_4_1</th>\n",
       "      <th>info_4_2</th>\n",
       "      <th>info_5_0</th>\n",
       "      <th>info_5_1</th>\n",
       "      <th>info_5_2</th>\n",
       "      <th>info_6_0</th>\n",
       "      <th>info_6_1</th>\n",
       "      <th>info_7_0</th>\n",
       "      <th>info_8_0</th>\n",
       "      <th>info_8_1</th>\n",
       "      <th>info_9_0</th>\n",
       "      <th>info_10_0</th>\n",
       "      <th>info_11_0</th>\n",
       "      <th>sciences</th>\n",
       "      <th>social</th>\n",
       "      <th>spiritual</th>\n",
       "      <th>academia_humanities</th>\n",
       "      <th>business_farming</th>\n",
       "      <th>arts</th>\n",
       "      <th>sports</th>\n",
       "      <th>law_enf_military_operator</th>\n",
       "      <th>politics_govt_law</th>\n",
       "      <th>crime</th>\n",
       "      <th>event_record_other</th>\n",
       "      <th>other_species</th>\n",
       "      <th>num_categories</th>\n",
       "    </tr>\n",
       "  </thead>\n",
       "  <tbody>\n",
       "    <tr>\n",
       "      <th>35135</th>\n",
       "      <td>10</td>\n",
       "      <td>Frank Mascara</td>\n",
       "      <td>, 81, American politician, U.S. Representative from Pennsylvania , lung cancer.</td>\n",
       "      <td>https://en.wikipedia.org/wiki/Frank_Mascara</td>\n",
       "      <td>4</td>\n",
       "      <td>2011</td>\n",
       "      <td>July</td>\n",
       "      <td></td>\n",
       "      <td>81.0</td>\n",
       "      <td>None</td>\n",
       "      <td>United States of America</td>\n",
       "      <td>United States of America</td>\n",
       "      <td>1995 2003</td>\n",
       "      <td>1.609438</td>\n",
       "      <td>lung cancer</td>\n",
       "      <td>None</td>\n",
       "      <td>None</td>\n",
       "      <td>None</td>\n",
       "      <td>None</td>\n",
       "      <td>None</td>\n",
       "      <td>None</td>\n",
       "      <td>None</td>\n",
       "      <td>None</td>\n",
       "      <td>None</td>\n",
       "      <td>None</td>\n",
       "      <td>None</td>\n",
       "      <td>None</td>\n",
       "      <td>None</td>\n",
       "      <td>0</td>\n",
       "      <td>0</td>\n",
       "      <td>0</td>\n",
       "      <td>0</td>\n",
       "      <td>0</td>\n",
       "      <td>0</td>\n",
       "      <td>0</td>\n",
       "      <td>0</td>\n",
       "      <td>1</td>\n",
       "      <td>0</td>\n",
       "      <td>0</td>\n",
       "      <td>0</td>\n",
       "      <td>1</td>\n",
       "    </tr>\n",
       "  </tbody>\n",
       "</table>\n",
       "</div>"
      ],
      "text/plain": [
       "      day           name  \\\n",
       "35135  10  Frank Mascara   \n",
       "\n",
       "                                                                                  info  \\\n",
       "35135  , 81, American politician, U.S. Representative from Pennsylvania , lung cancer.   \n",
       "\n",
       "                                              link  num_references  year  \\\n",
       "35135  https://en.wikipedia.org/wiki/Frank_Mascara               4  2011   \n",
       "\n",
       "      month info_parenth   age cause_of_death                   place_1  \\\n",
       "35135  July               81.0           None  United States of America   \n",
       "\n",
       "                        place_2 info_parenth_copy  log_num_references  \\\n",
       "35135  United States of America         1995 2003            1.609438   \n",
       "\n",
       "          info_4_0 info_4_1 info_4_2 info_5_0 info_5_1 info_5_2 info_6_0  \\\n",
       "35135  lung cancer     None     None     None     None     None     None   \n",
       "\n",
       "      info_6_1 info_7_0 info_8_0 info_8_1 info_9_0 info_10_0 info_11_0  \\\n",
       "35135     None     None     None     None     None      None      None   \n",
       "\n",
       "       sciences  social  spiritual  academia_humanities  business_farming  \\\n",
       "35135         0       0          0                    0                 0   \n",
       "\n",
       "       arts  sports  law_enf_military_operator  politics_govt_law  crime  \\\n",
       "35135     0       0                          0                  1      0   \n",
       "\n",
       "       event_record_other  other_species  num_categories  \n",
       "35135                   0              0               1  "
      ]
     },
     "execution_count": 114,
     "metadata": {},
     "output_type": "execute_result"
    },
    {
     "data": {
      "application/javascript": [
       "\n",
       "            setTimeout(function() {\n",
       "                var nbb_cell_id = 114;\n",
       "                var nbb_unformatted_code = \"# Dropping info_3_2\\ndf.drop(\\\"info_3_2\\\", axis=1, inplace=True)\\n\\n# Checking sample\\ndf.sample()\";\n",
       "                var nbb_formatted_code = \"# Dropping info_3_2\\ndf.drop(\\\"info_3_2\\\", axis=1, inplace=True)\\n\\n# Checking sample\\ndf.sample()\";\n",
       "                var nbb_cells = Jupyter.notebook.get_cells();\n",
       "                for (var i = 0; i < nbb_cells.length; ++i) {\n",
       "                    if (nbb_cells[i].input_prompt_number == nbb_cell_id) {\n",
       "                        if (nbb_cells[i].get_text() == nbb_unformatted_code) {\n",
       "                             nbb_cells[i].set_text(nbb_formatted_code);\n",
       "                        }\n",
       "                        break;\n",
       "                    }\n",
       "                }\n",
       "            }, 500);\n",
       "            "
      ],
      "text/plain": [
       "<IPython.core.display.Javascript object>"
      ]
     },
     "metadata": {},
     "output_type": "display_data"
    }
   ],
   "source": [
    "# Dropping info_3_2\n",
    "df.drop(\"info_3_2\", axis=1, inplace=True)\n",
    "\n",
    "# Checking sample\n",
    "df.sample()"
   ]
  },
  {
   "cell_type": "markdown",
   "id": "86d577da",
   "metadata": {},
   "source": [
    "#### Observations:\n",
    "- Our search of column `info_3_2` is finished and have dropped that column.\n",
    "- We will now move on to searching `info_4_0`."
   ]
  },
  {
   "cell_type": "markdown",
   "id": "0a7a2726",
   "metadata": {},
   "source": [
    "#### Finding `known_for` Roles and `cause_of_death` in `info_4_0`"
   ]
  },
  {
   "cell_type": "code",
   "execution_count": 115,
   "id": "034c9fd6",
   "metadata": {},
   "outputs": [
    {
     "data": {
      "application/javascript": [
       "\n",
       "            setTimeout(function() {\n",
       "                var nbb_cell_id = 115;\n",
       "                var nbb_unformatted_code = \"# # Obtaining values for column and their counts\\n# roles_cause_list = df[\\\"info_4_0\\\"].value_counts(ascending=True).index.tolist()\";\n",
       "                var nbb_formatted_code = \"# # Obtaining values for column and their counts\\n# roles_cause_list = df[\\\"info_4_0\\\"].value_counts(ascending=True).index.tolist()\";\n",
       "                var nbb_cells = Jupyter.notebook.get_cells();\n",
       "                for (var i = 0; i < nbb_cells.length; ++i) {\n",
       "                    if (nbb_cells[i].input_prompt_number == nbb_cell_id) {\n",
       "                        if (nbb_cells[i].get_text() == nbb_unformatted_code) {\n",
       "                             nbb_cells[i].set_text(nbb_formatted_code);\n",
       "                        }\n",
       "                        break;\n",
       "                    }\n",
       "                }\n",
       "            }, 500);\n",
       "            "
      ],
      "text/plain": [
       "<IPython.core.display.Javascript object>"
      ]
     },
     "metadata": {},
     "output_type": "display_data"
    }
   ],
   "source": [
    "# # Obtaining values for column and their counts\n",
    "# roles_cause_list = df[\"info_4_0\"].value_counts(ascending=True).index.tolist()"
   ]
  },
  {
   "cell_type": "code",
   "execution_count": 116,
   "id": "c494fe84",
   "metadata": {},
   "outputs": [
    {
     "data": {
      "application/javascript": [
       "\n",
       "            setTimeout(function() {\n",
       "                var nbb_cell_id = 116;\n",
       "                var nbb_unformatted_code = \"# # Code to check each value\\n# value = roles_cause_list.pop()\\n# value\";\n",
       "                var nbb_formatted_code = \"# # Code to check each value\\n# value = roles_cause_list.pop()\\n# value\";\n",
       "                var nbb_cells = Jupyter.notebook.get_cells();\n",
       "                for (var i = 0; i < nbb_cells.length; ++i) {\n",
       "                    if (nbb_cells[i].input_prompt_number == nbb_cell_id) {\n",
       "                        if (nbb_cells[i].get_text() == nbb_unformatted_code) {\n",
       "                             nbb_cells[i].set_text(nbb_formatted_code);\n",
       "                        }\n",
       "                        break;\n",
       "                    }\n",
       "                }\n",
       "            }, 500);\n",
       "            "
      ],
      "text/plain": [
       "<IPython.core.display.Javascript object>"
      ]
     },
     "metadata": {},
     "output_type": "display_data"
    }
   ],
   "source": [
    "# # Code to check each value\n",
    "# value = roles_cause_list.pop()\n",
    "# value"
   ]
  },
  {
   "cell_type": "code",
   "execution_count": 117,
   "id": "ec54ef3f",
   "metadata": {},
   "outputs": [
    {
     "data": {
      "application/javascript": [
       "\n",
       "            setTimeout(function() {\n",
       "                var nbb_cell_id = 117;\n",
       "                var nbb_unformatted_code = \"# # Create specific_roles_cause_list for above popped value\\n# specific_roles_cause_list = (\\n#     df.loc[\\n#         [\\n#             index\\n#             for index in df[df[\\\"info_4_0\\\"].notna()].index\\n#             if value in df.loc[index, \\\"info_4_0\\\"]\\n#         ],\\n#         \\\"info_4_0\\\",\\n#     ]\\n#     .value_counts()\\n#     .index.tolist()\\n# )\";\n",
       "                var nbb_formatted_code = \"# # Create specific_roles_cause_list for above popped value\\n# specific_roles_cause_list = (\\n#     df.loc[\\n#         [\\n#             index\\n#             for index in df[df[\\\"info_4_0\\\"].notna()].index\\n#             if value in df.loc[index, \\\"info_4_0\\\"]\\n#         ],\\n#         \\\"info_4_0\\\",\\n#     ]\\n#     .value_counts()\\n#     .index.tolist()\\n# )\";\n",
       "                var nbb_cells = Jupyter.notebook.get_cells();\n",
       "                for (var i = 0; i < nbb_cells.length; ++i) {\n",
       "                    if (nbb_cells[i].input_prompt_number == nbb_cell_id) {\n",
       "                        if (nbb_cells[i].get_text() == nbb_unformatted_code) {\n",
       "                             nbb_cells[i].set_text(nbb_formatted_code);\n",
       "                        }\n",
       "                        break;\n",
       "                    }\n",
       "                }\n",
       "            }, 500);\n",
       "            "
      ],
      "text/plain": [
       "<IPython.core.display.Javascript object>"
      ]
     },
     "metadata": {},
     "output_type": "display_data"
    }
   ],
   "source": [
    "# # Create specific_roles_cause_list for above popped value\n",
    "# specific_roles_cause_list = (\n",
    "#     df.loc[\n",
    "#         [\n",
    "#             index\n",
    "#             for index in df[df[\"info_4_0\"].notna()].index\n",
    "#             if value in df.loc[index, \"info_4_0\"]\n",
    "#         ],\n",
    "#         \"info_4_0\",\n",
    "#     ]\n",
    "#     .value_counts()\n",
    "#     .index.tolist()\n",
    "# )"
   ]
  },
  {
   "cell_type": "code",
   "execution_count": 118,
   "id": "06282f79",
   "metadata": {},
   "outputs": [
    {
     "data": {
      "application/javascript": [
       "\n",
       "            setTimeout(function() {\n",
       "                var nbb_cell_id = 118;\n",
       "                var nbb_unformatted_code = \"# # Viewing list sorted by descending length to copy to dictionary below and screen values\\n# sorted(specific_roles_cause_list, key=lambda x: len(x), reverse=True)\";\n",
       "                var nbb_formatted_code = \"# # Viewing list sorted by descending length to copy to dictionary below and screen values\\n# sorted(specific_roles_cause_list, key=lambda x: len(x), reverse=True)\";\n",
       "                var nbb_cells = Jupyter.notebook.get_cells();\n",
       "                for (var i = 0; i < nbb_cells.length; ++i) {\n",
       "                    if (nbb_cells[i].input_prompt_number == nbb_cell_id) {\n",
       "                        if (nbb_cells[i].get_text() == nbb_unformatted_code) {\n",
       "                             nbb_cells[i].set_text(nbb_formatted_code);\n",
       "                        }\n",
       "                        break;\n",
       "                    }\n",
       "                }\n",
       "            }, 500);\n",
       "            "
      ],
      "text/plain": [
       "<IPython.core.display.Javascript object>"
      ]
     },
     "metadata": {},
     "output_type": "display_data"
    }
   ],
   "source": [
    "# # Viewing list sorted by descending length to copy to dictionary below and screen values\n",
    "# sorted(specific_roles_cause_list, key=lambda x: len(x), reverse=True)"
   ]
  },
  {
   "cell_type": "code",
   "execution_count": 119,
   "id": "48930639",
   "metadata": {},
   "outputs": [
    {
     "data": {
      "application/javascript": [
       "\n",
       "            setTimeout(function() {\n",
       "                var nbb_cell_id = 119;\n",
       "                var nbb_unformatted_code = \"# # Example code to quick-check a specific entry\\n# df[df[\\\"info_4_0\\\"] == value]\";\n",
       "                var nbb_formatted_code = \"# # Example code to quick-check a specific entry\\n# df[df[\\\"info_4_0\\\"] == value]\";\n",
       "                var nbb_cells = Jupyter.notebook.get_cells();\n",
       "                for (var i = 0; i < nbb_cells.length; ++i) {\n",
       "                    if (nbb_cells[i].input_prompt_number == nbb_cell_id) {\n",
       "                        if (nbb_cells[i].get_text() == nbb_unformatted_code) {\n",
       "                             nbb_cells[i].set_text(nbb_formatted_code);\n",
       "                        }\n",
       "                        break;\n",
       "                    }\n",
       "                }\n",
       "            }, 500);\n",
       "            "
      ],
      "text/plain": [
       "<IPython.core.display.Javascript object>"
      ]
     },
     "metadata": {},
     "output_type": "display_data"
    }
   ],
   "source": [
    "# # Example code to quick-check a specific entry\n",
    "# df[df[\"info_4_0\"] == value]"
   ]
  },
  {
   "cell_type": "markdown",
   "id": "31d217e0",
   "metadata": {},
   "source": [
    "#### Creating Lists for Each `known_for` Category and for `cause_of_death`"
   ]
  },
  {
   "cell_type": "code",
   "execution_count": 120,
   "id": "6eb8f4fd",
   "metadata": {},
   "outputs": [
    {
     "data": {
      "application/javascript": [
       "\n",
       "            setTimeout(function() {\n",
       "                var nbb_cell_id = 120;\n",
       "                var nbb_unformatted_code = \"# Creating lists for each category and sorting by decreasing length and removing duplicates\\n\\npolitics_govt_law = []\\npolitics_govt_law = sorted(\\n    list(set(politics_govt_law)), key=lambda x: len(x), reverse=True\\n)\\n\\narts = []\\narts = sorted(list(set(arts)), key=lambda x: len(x), reverse=True)\\n\\nsports = []\\nsports = sorted(list(set(sports)), key=lambda x: len(x), reverse=True)\\n\\nsciences = []\\nsciences = sorted(list(set(sciences)), key=lambda x: len(x), reverse=True)\\n\\nbusiness_farming = []\\nbusiness_farming = sorted(\\n    list(set(business_farming)), key=lambda x: len(x), reverse=True\\n)\\n\\nacademia_humanities = []\\nacademia_humanities = sorted(\\n    list(set(academia_humanities)), key=lambda x: len(x), reverse=True\\n)\\n\\nlaw_enf_military_operator = [\\n    \\\"ordered KAL to be shot down\\\",\\n]\\nlaw_enf_military_operator = sorted(\\n    list(set(law_enf_military_operator)), key=lambda x: len(x), reverse=True\\n)\\n\\nspiritual = []\\nspiritual = sorted(list(set(spiritual)), key=lambda x: len(x), reverse=True)\\n\\nsocial = []\\nsocial = sorted(list(set(social)), key=lambda x: len(x), reverse=True)\\n\\ncrime = []\\ncrime = sorted(list(set(crime)), key=lambda x: len(x), reverse=True)\\n\\nevent_record_other = []\\nevent_record_other = sorted(\\n    list(set(event_record_other)), key=lambda x: len(x), reverse=True\\n)\\n\\nother_species = []\\nother_species = sorted(list(set(other_species)), key=lambda x: len(x), reverse=True)\\n\\ncause_of_death = [\\n    \\\"complications of radiation treatments for cancer\\\",\\n    \\\"cardiac arrest as a complication from cancer\\\",\\n    \\\"Complications arising from cancer\\\",\\n    \\\"multiple organ failure due to liver cancer\\\",\\n    \\\"complications linked to prostate cancer\\\",\\n    \\\"renal failure brought on by lung cancer\\\",\\n    \\\"esophageal cancer\\\",\\n    \\\"complications from pancreatic cancer\\\",\\n    \\\"complications from esophageal cancer\\\",\\n    \\\"complications from colorectal cancer\\\",\\n    \\\"prostate cancer complicated by COVID\\\",\\n    \\\"complications from carcinoid cancer\\\",\\n    \\\"complications of pancreatic cancer\\\",\\n    \\\"complications from prostate cancer\\\",\\n    \\\"complications from bladder cancer\\\",\\n    \\\"complications from ovarian cancer\\\",\\n    \\\"complications from stomach cancer\\\",\\n    \\\"complications from breast cancer\\\",\\n    \\\"complications from kidney cancer\\\",\\n    \\\"complications from throat cancer\\\",\\n    \\\"complications of prostate cancer\\\",\\n    \\\"complications from colon cancer\\\",\\n    \\\"pneumonia complicated by cancer\\\",\\n    \\\"complications from liver cancer\\\",\\n    \\\"complications of cancer surgery\\\",\\n    \\\"complications from lung cancer\\\",\\n    \\\"complications of colon cancer\\\",\\n    \\\"complications due to cancer\\\",\\n    \\\"cancer complicated by COVID\\\",\\n    \\\"complications from cancer\\\",\\n    \\\"endometrial serous cancer\\\",\\n    \\\"euthanized due to cancer\\\",\\n    \\\"complications of cancer\\\",\\n    \\\"neuroendocrine cancer\\\",\\n    \\\"salivary gland cancer\\\",\\n    \\\"cancer of the larynx\\\",\\n    \\\"biliary tract cancer\\\",\\n    \\\"gall bladder cancer\\\",\\n    \\\"bone marrow cancer\\\",\\n    \\\"oesophageal cancer\\\",\\n    \\\"gallbladder cancer\\\",\\n    \\\"endometrial cancer\\\",\\n    \\\"pancreatic cancer\\\",\\n    \\\"esophageal cancer\\\",\\n    \\\"colorectal cancer\\\",\\n    \\\"peritoneal cancer\\\",\\n    \\\"cancer of the jaw\\\",\\n    \\\"renal cell cancer\\\",\\n    \\\"intestinal cancer\\\",\\n    \\\"bile duct cancer\\\",\\n    \\\"lymphatic cancer\\\",\\n    \\\"laryngeal cancer\\\",\\n    \\\"carcinoid cancer\\\",\\n    \\\"abdominal cancer\\\",\\n    \\\"prostate cancer\\\",\\n    \\\"cervical cancer\\\",\\n    \\\"duodenal cancer\\\",\\n    \\\"stomach cancer\\\",\\n    \\\"ovarian cancer\\\",\\n    \\\"bladder cancer\\\",\\n    \\\"gastric cancer\\\",\\n    \\\"uterine cancer\\\",\\n    \\\"thyroid cancer\\\",\\n    \\\"breast cancer\\\",\\n    \\\"throat cancer\\\",\\n    \\\"kidney cancer\\\",\\n    \\\"tongue cancer\\\",\\n    \\\"spinal cancer\\\",\\n    \\\"thymus cancer\\\",\\n    \\\"brain cancer\\\",\\n    \\\"liver cancer\\\",\\n    \\\"colon cancer\\\",\\n    \\\"bowel cancer\\\",\\n    \\\"renal cancer\\\",\\n    \\\"blood cancer\\\",\\n    \\\"mouth cancer\\\",\\n    \\\"sinus cancer\\\",\\n    \\\"lung cancer\\\",\\n    \\\"bone cancer\\\",\\n    \\\"skin cancer\\\",\\n    \\\"neck cancer\\\",\\n    \\\"oral cancer\\\",\\n    \\\"jaw cancer\\\",\\n    \\\"eye cancer\\\",\\n    \\\"cancer\\\",\\n    \\\"head injuries sustained after a heart attack\\\",\\n    \\\"traffic collision following a heart attack\\\",\\n    \\\"heart attack as a complication of malaria\\\",\\n    \\\"complications following heart attack\\\",\\n    \\\"electric shock induced heart attack\\\",\\n    \\\"complications from a heart attack\\\",\\n    \\\"heart attack after drug overdose\\\",\\n    \\\"heart attack followed by stroke\\\",\\n    \\\"complications from heart attack\\\",\\n    \\\"complications of a heart attack\\\",\\n    \\\"heart attack due to cirrhosis\\\",\\n    \\\"heart attack during surgery\\\",\\n    \\\"drowned after heart attack\\\",\\n    \\\"suspected heart attack\\\",\\n    \\\"apparent heart attack\\\",\\n    \\\"heart attack\\\",\\n    \\\"complications from multiple organ failure caused by COVID\\\",\\n    \\\"meningoencephalitis complicated by COVID\\\",\\n    \\\"prostate cancer complicated by COVID\\\",\\n    \\\"ruptured brain aneurysm from COVID\\\",\\n    \\\"kidney complications from COVID\\\",\\n    \\\"pneumonia resulting from COVID\\\",\\n    \\\"leukemia complicated by COVID\\\",\\n    \\\"pulmonary embolism from COVID\\\",\\n    \\\"cancer complicated by COVID\\\",\\n    \\\"COVID induced septic shock\\\",\\n    \\\"cardiac arrest from COVID\\\",\\n    \\\"complications from COVID\\\",\\n    \\\"post COVID complications\\\",\\n    \\\"septic shock from COVID\\\",\\n    \\\"complications of COVID\\\",\\n    \\\"COVID related illness\\\",\\n    \\\"post COVID pneumonia\\\",\\n    \\\"COVID\\\",\\n    \\\"complications from heart failure\\\",\\n    \\\"congestive heart failure\\\",\\n    \\\"heart failure caused by\\\",\\n    \\\"suspected heart failure\\\",\\n    \\\"chronic heart failure\\\",\\n    \\\"heart failure\\\",\\n    \\\"renal failure brought on by lung cancer\\\",\\n    \\\"complications from lung cancer\\\",\\n    \\\"lung cancer\\\",\\n    \\\"complications from a series of strokes\\\",\\n    \\\"complications from multiple strokes\\\",\\n    \\\"complications from ischemic strokes\\\",\\n    \\\"complications from several strokes\\\",\\n    \\\"complications relating to a stroke\\\",\\n    \\\"complications related to a stroke\\\",\\n    \\\"complications of multiple strokes\\\",\\n    \\\"complications from basilar stroke\\\",\\n    \\\"complications following a stroke\\\",\\n    \\\"heart attack followed by stroke\\\",\\n    \\\"complications following stroke\\\",\\n    \\\"complications from a stroke\\\",\\n    \\\"complications from strokes\\\",\\n    \\\"following multiple strokes\\\",\\n    \\\"complications of a stroke\\\",\\n    \\\"complications from stroke\\\",\\n    \\\"Complications from stroke\\\",\\n    \\\"complications of stroke\\\",\\n    \\\"stroke related illness\\\",\\n    \\\"stroke complications\\\",\\n    \\\"hemorrhagic stroke\\\",\\n    \\\"multiple strokes\\\",\\n    \\\"heat stroke\\\",\\n    \\\"strokes\\\",\\n    \\\"stroke\\\",\\n    \\\"complications of pneumonia from leukemia\\\",\\n    \\\"multiple organ failure due to pneumonia\\\",\\n    \\\"pneumonia as a complication of COPD\\\",\\n    \\\"complications from bronchopneumonia\\\",\\n    \\\"pneumonia complicated by cancer\\\",\\n    \\\"pneumonia resulting from COVID\\\",\\n    \\\"complications from pneumonia\\\",\\n    \\\"complications of pneumonia\\\",\\n    \\\"leukemia induced pneumonia\\\",\\n    \\\"post COVID pneumonia\\\",\\n    \\\"bilateral pneumonia\\\",\\n    \\\"bronchopneumonia\\\",\\n    '\\\" pneumonia',\\n    \\\"pneumonia\\\",\\n    \\\"cardiac arrest as a complication from cancer\\\",\\n    \\\"cardiac arrest following skiing accident\\\",\\n    \\\"cardiac arrest following spinal surgery\\\",\\n    \\\"cardiac arrest after heart ailment\\\",\\n    \\\"cardiac arrest from COVID\\\",\\n    \\\"cardiac arrest\\\",\\n    \\\"suspected suicide by gunshot\\\",\\n    \\\"found shot dead at his home\\\",\\n    \\\"apparent suicide by gunshot\\\",\\n    \\\"shot to death in Rotterdam\\\",\\n    \\\"assassination by gunshot\\\",\\n    \\\"multiple gunshot wounds\\\",\\n    \\\"homicide by gunshot\\\",\\n    \\\"suicide by gunshot\\\",\\n    \\\"suicide by shotgun\\\",\\n    \\\"gunshot wounds\\\",\\n    \\\"natural causes\\\",\\n    \\\"traffic collision following a heart attack\\\",\\n    \\\"injuries sustained in a traffic collision\\\",\\n    \\\"injuries sustained in traffic collision\\\",\\n    \\\"complications from a traffic collision\\\",\\n    \\\"complications from traffic collision\\\",\\n    \\\"injuries from a traffic collision\\\",\\n    \\\"injuries from traffic collision\\\",\\n    \\\"traffic collision\\\",\\n    \\\"complications from Alzheimer disease\\\",\\n    \\\"complications of Alzheimer disease\\\",\\n    \\\"Alzheimer disease\\\",\\n    \\\"after long illness\\\",\\n    \\\"complications from a bone marrow transplant to combat acute myeloid leukemia\\\",\\n    \\\"complications of pneumonia from leukemia\\\",\\n    \\\"complications from leukemia treatment\\\",\\n    \\\"leukemia complicated by COVID\\\",\\n    \\\"complications from leukemia\\\",\\n    \\\"leukemia induced pneumonia\\\",\\n    \\\"complications of leukemia\\\",\\n    \\\"acute myeloid leukemia\\\",\\n    \\\"myeloid leukemia\\\",\\n    \\\"leukemia\\\",\\n    \\\"multiple system atrophy as a complication of Parkinson disease\\\",\\n    \\\"complications from Parkinson disease\\\",\\n    \\\"complications of Parkinson disease\\\",\\n    \\\"Parkinson disease\\\",\\n    \\\"complications of heart disease\\\",\\n    \\\"heart disease\\\",\\n]\\ncause_of_death = sorted(list(set(cause_of_death)), key=lambda x: len(x), reverse=True)\";\n",
       "                var nbb_formatted_code = \"# Creating lists for each category and sorting by decreasing length and removing duplicates\\n\\npolitics_govt_law = []\\npolitics_govt_law = sorted(\\n    list(set(politics_govt_law)), key=lambda x: len(x), reverse=True\\n)\\n\\narts = []\\narts = sorted(list(set(arts)), key=lambda x: len(x), reverse=True)\\n\\nsports = []\\nsports = sorted(list(set(sports)), key=lambda x: len(x), reverse=True)\\n\\nsciences = []\\nsciences = sorted(list(set(sciences)), key=lambda x: len(x), reverse=True)\\n\\nbusiness_farming = []\\nbusiness_farming = sorted(\\n    list(set(business_farming)), key=lambda x: len(x), reverse=True\\n)\\n\\nacademia_humanities = []\\nacademia_humanities = sorted(\\n    list(set(academia_humanities)), key=lambda x: len(x), reverse=True\\n)\\n\\nlaw_enf_military_operator = [\\n    \\\"ordered KAL to be shot down\\\",\\n]\\nlaw_enf_military_operator = sorted(\\n    list(set(law_enf_military_operator)), key=lambda x: len(x), reverse=True\\n)\\n\\nspiritual = []\\nspiritual = sorted(list(set(spiritual)), key=lambda x: len(x), reverse=True)\\n\\nsocial = []\\nsocial = sorted(list(set(social)), key=lambda x: len(x), reverse=True)\\n\\ncrime = []\\ncrime = sorted(list(set(crime)), key=lambda x: len(x), reverse=True)\\n\\nevent_record_other = []\\nevent_record_other = sorted(\\n    list(set(event_record_other)), key=lambda x: len(x), reverse=True\\n)\\n\\nother_species = []\\nother_species = sorted(list(set(other_species)), key=lambda x: len(x), reverse=True)\\n\\ncause_of_death = [\\n    \\\"complications of radiation treatments for cancer\\\",\\n    \\\"cardiac arrest as a complication from cancer\\\",\\n    \\\"Complications arising from cancer\\\",\\n    \\\"multiple organ failure due to liver cancer\\\",\\n    \\\"complications linked to prostate cancer\\\",\\n    \\\"renal failure brought on by lung cancer\\\",\\n    \\\"esophageal cancer\\\",\\n    \\\"complications from pancreatic cancer\\\",\\n    \\\"complications from esophageal cancer\\\",\\n    \\\"complications from colorectal cancer\\\",\\n    \\\"prostate cancer complicated by COVID\\\",\\n    \\\"complications from carcinoid cancer\\\",\\n    \\\"complications of pancreatic cancer\\\",\\n    \\\"complications from prostate cancer\\\",\\n    \\\"complications from bladder cancer\\\",\\n    \\\"complications from ovarian cancer\\\",\\n    \\\"complications from stomach cancer\\\",\\n    \\\"complications from breast cancer\\\",\\n    \\\"complications from kidney cancer\\\",\\n    \\\"complications from throat cancer\\\",\\n    \\\"complications of prostate cancer\\\",\\n    \\\"complications from colon cancer\\\",\\n    \\\"pneumonia complicated by cancer\\\",\\n    \\\"complications from liver cancer\\\",\\n    \\\"complications of cancer surgery\\\",\\n    \\\"complications from lung cancer\\\",\\n    \\\"complications of colon cancer\\\",\\n    \\\"complications due to cancer\\\",\\n    \\\"cancer complicated by COVID\\\",\\n    \\\"complications from cancer\\\",\\n    \\\"endometrial serous cancer\\\",\\n    \\\"euthanized due to cancer\\\",\\n    \\\"complications of cancer\\\",\\n    \\\"neuroendocrine cancer\\\",\\n    \\\"salivary gland cancer\\\",\\n    \\\"cancer of the larynx\\\",\\n    \\\"biliary tract cancer\\\",\\n    \\\"gall bladder cancer\\\",\\n    \\\"bone marrow cancer\\\",\\n    \\\"oesophageal cancer\\\",\\n    \\\"gallbladder cancer\\\",\\n    \\\"endometrial cancer\\\",\\n    \\\"pancreatic cancer\\\",\\n    \\\"esophageal cancer\\\",\\n    \\\"colorectal cancer\\\",\\n    \\\"peritoneal cancer\\\",\\n    \\\"cancer of the jaw\\\",\\n    \\\"renal cell cancer\\\",\\n    \\\"intestinal cancer\\\",\\n    \\\"bile duct cancer\\\",\\n    \\\"lymphatic cancer\\\",\\n    \\\"laryngeal cancer\\\",\\n    \\\"carcinoid cancer\\\",\\n    \\\"abdominal cancer\\\",\\n    \\\"prostate cancer\\\",\\n    \\\"cervical cancer\\\",\\n    \\\"duodenal cancer\\\",\\n    \\\"stomach cancer\\\",\\n    \\\"ovarian cancer\\\",\\n    \\\"bladder cancer\\\",\\n    \\\"gastric cancer\\\",\\n    \\\"uterine cancer\\\",\\n    \\\"thyroid cancer\\\",\\n    \\\"breast cancer\\\",\\n    \\\"throat cancer\\\",\\n    \\\"kidney cancer\\\",\\n    \\\"tongue cancer\\\",\\n    \\\"spinal cancer\\\",\\n    \\\"thymus cancer\\\",\\n    \\\"brain cancer\\\",\\n    \\\"liver cancer\\\",\\n    \\\"colon cancer\\\",\\n    \\\"bowel cancer\\\",\\n    \\\"renal cancer\\\",\\n    \\\"blood cancer\\\",\\n    \\\"mouth cancer\\\",\\n    \\\"sinus cancer\\\",\\n    \\\"lung cancer\\\",\\n    \\\"bone cancer\\\",\\n    \\\"skin cancer\\\",\\n    \\\"neck cancer\\\",\\n    \\\"oral cancer\\\",\\n    \\\"jaw cancer\\\",\\n    \\\"eye cancer\\\",\\n    \\\"cancer\\\",\\n    \\\"head injuries sustained after a heart attack\\\",\\n    \\\"traffic collision following a heart attack\\\",\\n    \\\"heart attack as a complication of malaria\\\",\\n    \\\"complications following heart attack\\\",\\n    \\\"electric shock induced heart attack\\\",\\n    \\\"complications from a heart attack\\\",\\n    \\\"heart attack after drug overdose\\\",\\n    \\\"heart attack followed by stroke\\\",\\n    \\\"complications from heart attack\\\",\\n    \\\"complications of a heart attack\\\",\\n    \\\"heart attack due to cirrhosis\\\",\\n    \\\"heart attack during surgery\\\",\\n    \\\"drowned after heart attack\\\",\\n    \\\"suspected heart attack\\\",\\n    \\\"apparent heart attack\\\",\\n    \\\"heart attack\\\",\\n    \\\"complications from multiple organ failure caused by COVID\\\",\\n    \\\"meningoencephalitis complicated by COVID\\\",\\n    \\\"prostate cancer complicated by COVID\\\",\\n    \\\"ruptured brain aneurysm from COVID\\\",\\n    \\\"kidney complications from COVID\\\",\\n    \\\"pneumonia resulting from COVID\\\",\\n    \\\"leukemia complicated by COVID\\\",\\n    \\\"pulmonary embolism from COVID\\\",\\n    \\\"cancer complicated by COVID\\\",\\n    \\\"COVID induced septic shock\\\",\\n    \\\"cardiac arrest from COVID\\\",\\n    \\\"complications from COVID\\\",\\n    \\\"post COVID complications\\\",\\n    \\\"septic shock from COVID\\\",\\n    \\\"complications of COVID\\\",\\n    \\\"COVID related illness\\\",\\n    \\\"post COVID pneumonia\\\",\\n    \\\"COVID\\\",\\n    \\\"complications from heart failure\\\",\\n    \\\"congestive heart failure\\\",\\n    \\\"heart failure caused by\\\",\\n    \\\"suspected heart failure\\\",\\n    \\\"chronic heart failure\\\",\\n    \\\"heart failure\\\",\\n    \\\"renal failure brought on by lung cancer\\\",\\n    \\\"complications from lung cancer\\\",\\n    \\\"lung cancer\\\",\\n    \\\"complications from a series of strokes\\\",\\n    \\\"complications from multiple strokes\\\",\\n    \\\"complications from ischemic strokes\\\",\\n    \\\"complications from several strokes\\\",\\n    \\\"complications relating to a stroke\\\",\\n    \\\"complications related to a stroke\\\",\\n    \\\"complications of multiple strokes\\\",\\n    \\\"complications from basilar stroke\\\",\\n    \\\"complications following a stroke\\\",\\n    \\\"heart attack followed by stroke\\\",\\n    \\\"complications following stroke\\\",\\n    \\\"complications from a stroke\\\",\\n    \\\"complications from strokes\\\",\\n    \\\"following multiple strokes\\\",\\n    \\\"complications of a stroke\\\",\\n    \\\"complications from stroke\\\",\\n    \\\"Complications from stroke\\\",\\n    \\\"complications of stroke\\\",\\n    \\\"stroke related illness\\\",\\n    \\\"stroke complications\\\",\\n    \\\"hemorrhagic stroke\\\",\\n    \\\"multiple strokes\\\",\\n    \\\"heat stroke\\\",\\n    \\\"strokes\\\",\\n    \\\"stroke\\\",\\n    \\\"complications of pneumonia from leukemia\\\",\\n    \\\"multiple organ failure due to pneumonia\\\",\\n    \\\"pneumonia as a complication of COPD\\\",\\n    \\\"complications from bronchopneumonia\\\",\\n    \\\"pneumonia complicated by cancer\\\",\\n    \\\"pneumonia resulting from COVID\\\",\\n    \\\"complications from pneumonia\\\",\\n    \\\"complications of pneumonia\\\",\\n    \\\"leukemia induced pneumonia\\\",\\n    \\\"post COVID pneumonia\\\",\\n    \\\"bilateral pneumonia\\\",\\n    \\\"bronchopneumonia\\\",\\n    '\\\" pneumonia',\\n    \\\"pneumonia\\\",\\n    \\\"cardiac arrest as a complication from cancer\\\",\\n    \\\"cardiac arrest following skiing accident\\\",\\n    \\\"cardiac arrest following spinal surgery\\\",\\n    \\\"cardiac arrest after heart ailment\\\",\\n    \\\"cardiac arrest from COVID\\\",\\n    \\\"cardiac arrest\\\",\\n    \\\"suspected suicide by gunshot\\\",\\n    \\\"found shot dead at his home\\\",\\n    \\\"apparent suicide by gunshot\\\",\\n    \\\"shot to death in Rotterdam\\\",\\n    \\\"assassination by gunshot\\\",\\n    \\\"multiple gunshot wounds\\\",\\n    \\\"homicide by gunshot\\\",\\n    \\\"suicide by gunshot\\\",\\n    \\\"suicide by shotgun\\\",\\n    \\\"gunshot wounds\\\",\\n    \\\"natural causes\\\",\\n    \\\"traffic collision following a heart attack\\\",\\n    \\\"injuries sustained in a traffic collision\\\",\\n    \\\"injuries sustained in traffic collision\\\",\\n    \\\"complications from a traffic collision\\\",\\n    \\\"complications from traffic collision\\\",\\n    \\\"injuries from a traffic collision\\\",\\n    \\\"injuries from traffic collision\\\",\\n    \\\"traffic collision\\\",\\n    \\\"complications from Alzheimer disease\\\",\\n    \\\"complications of Alzheimer disease\\\",\\n    \\\"Alzheimer disease\\\",\\n    \\\"after long illness\\\",\\n    \\\"complications from a bone marrow transplant to combat acute myeloid leukemia\\\",\\n    \\\"complications of pneumonia from leukemia\\\",\\n    \\\"complications from leukemia treatment\\\",\\n    \\\"leukemia complicated by COVID\\\",\\n    \\\"complications from leukemia\\\",\\n    \\\"leukemia induced pneumonia\\\",\\n    \\\"complications of leukemia\\\",\\n    \\\"acute myeloid leukemia\\\",\\n    \\\"myeloid leukemia\\\",\\n    \\\"leukemia\\\",\\n    \\\"multiple system atrophy as a complication of Parkinson disease\\\",\\n    \\\"complications from Parkinson disease\\\",\\n    \\\"complications of Parkinson disease\\\",\\n    \\\"Parkinson disease\\\",\\n    \\\"complications of heart disease\\\",\\n    \\\"heart disease\\\",\\n]\\ncause_of_death = sorted(list(set(cause_of_death)), key=lambda x: len(x), reverse=True)\";\n",
       "                var nbb_cells = Jupyter.notebook.get_cells();\n",
       "                for (var i = 0; i < nbb_cells.length; ++i) {\n",
       "                    if (nbb_cells[i].input_prompt_number == nbb_cell_id) {\n",
       "                        if (nbb_cells[i].get_text() == nbb_unformatted_code) {\n",
       "                             nbb_cells[i].set_text(nbb_formatted_code);\n",
       "                        }\n",
       "                        break;\n",
       "                    }\n",
       "                }\n",
       "            }, 500);\n",
       "            "
      ],
      "text/plain": [
       "<IPython.core.display.Javascript object>"
      ]
     },
     "metadata": {},
     "output_type": "display_data"
    }
   ],
   "source": [
    "# Creating lists for each category and sorting by decreasing length and removing duplicates\n",
    "\n",
    "politics_govt_law = []\n",
    "politics_govt_law = sorted(\n",
    "    list(set(politics_govt_law)), key=lambda x: len(x), reverse=True\n",
    ")\n",
    "\n",
    "arts = []\n",
    "arts = sorted(list(set(arts)), key=lambda x: len(x), reverse=True)\n",
    "\n",
    "sports = []\n",
    "sports = sorted(list(set(sports)), key=lambda x: len(x), reverse=True)\n",
    "\n",
    "sciences = []\n",
    "sciences = sorted(list(set(sciences)), key=lambda x: len(x), reverse=True)\n",
    "\n",
    "business_farming = []\n",
    "business_farming = sorted(\n",
    "    list(set(business_farming)), key=lambda x: len(x), reverse=True\n",
    ")\n",
    "\n",
    "academia_humanities = []\n",
    "academia_humanities = sorted(\n",
    "    list(set(academia_humanities)), key=lambda x: len(x), reverse=True\n",
    ")\n",
    "\n",
    "law_enf_military_operator = [\n",
    "    \"ordered KAL to be shot down\",\n",
    "]\n",
    "law_enf_military_operator = sorted(\n",
    "    list(set(law_enf_military_operator)), key=lambda x: len(x), reverse=True\n",
    ")\n",
    "\n",
    "spiritual = []\n",
    "spiritual = sorted(list(set(spiritual)), key=lambda x: len(x), reverse=True)\n",
    "\n",
    "social = []\n",
    "social = sorted(list(set(social)), key=lambda x: len(x), reverse=True)\n",
    "\n",
    "crime = []\n",
    "crime = sorted(list(set(crime)), key=lambda x: len(x), reverse=True)\n",
    "\n",
    "event_record_other = []\n",
    "event_record_other = sorted(\n",
    "    list(set(event_record_other)), key=lambda x: len(x), reverse=True\n",
    ")\n",
    "\n",
    "other_species = []\n",
    "other_species = sorted(list(set(other_species)), key=lambda x: len(x), reverse=True)\n",
    "\n",
    "cause_of_death = [\n",
    "    \"complications of radiation treatments for cancer\",\n",
    "    \"cardiac arrest as a complication from cancer\",\n",
    "    \"Complications arising from cancer\",\n",
    "    \"multiple organ failure due to liver cancer\",\n",
    "    \"complications linked to prostate cancer\",\n",
    "    \"renal failure brought on by lung cancer\",\n",
    "    \"esophageal cancer\",\n",
    "    \"complications from pancreatic cancer\",\n",
    "    \"complications from esophageal cancer\",\n",
    "    \"complications from colorectal cancer\",\n",
    "    \"prostate cancer complicated by COVID\",\n",
    "    \"complications from carcinoid cancer\",\n",
    "    \"complications of pancreatic cancer\",\n",
    "    \"complications from prostate cancer\",\n",
    "    \"complications from bladder cancer\",\n",
    "    \"complications from ovarian cancer\",\n",
    "    \"complications from stomach cancer\",\n",
    "    \"complications from breast cancer\",\n",
    "    \"complications from kidney cancer\",\n",
    "    \"complications from throat cancer\",\n",
    "    \"complications of prostate cancer\",\n",
    "    \"complications from colon cancer\",\n",
    "    \"pneumonia complicated by cancer\",\n",
    "    \"complications from liver cancer\",\n",
    "    \"complications of cancer surgery\",\n",
    "    \"complications from lung cancer\",\n",
    "    \"complications of colon cancer\",\n",
    "    \"complications due to cancer\",\n",
    "    \"cancer complicated by COVID\",\n",
    "    \"complications from cancer\",\n",
    "    \"endometrial serous cancer\",\n",
    "    \"euthanized due to cancer\",\n",
    "    \"complications of cancer\",\n",
    "    \"neuroendocrine cancer\",\n",
    "    \"salivary gland cancer\",\n",
    "    \"cancer of the larynx\",\n",
    "    \"biliary tract cancer\",\n",
    "    \"gall bladder cancer\",\n",
    "    \"bone marrow cancer\",\n",
    "    \"oesophageal cancer\",\n",
    "    \"gallbladder cancer\",\n",
    "    \"endometrial cancer\",\n",
    "    \"pancreatic cancer\",\n",
    "    \"esophageal cancer\",\n",
    "    \"colorectal cancer\",\n",
    "    \"peritoneal cancer\",\n",
    "    \"cancer of the jaw\",\n",
    "    \"renal cell cancer\",\n",
    "    \"intestinal cancer\",\n",
    "    \"bile duct cancer\",\n",
    "    \"lymphatic cancer\",\n",
    "    \"laryngeal cancer\",\n",
    "    \"carcinoid cancer\",\n",
    "    \"abdominal cancer\",\n",
    "    \"prostate cancer\",\n",
    "    \"cervical cancer\",\n",
    "    \"duodenal cancer\",\n",
    "    \"stomach cancer\",\n",
    "    \"ovarian cancer\",\n",
    "    \"bladder cancer\",\n",
    "    \"gastric cancer\",\n",
    "    \"uterine cancer\",\n",
    "    \"thyroid cancer\",\n",
    "    \"breast cancer\",\n",
    "    \"throat cancer\",\n",
    "    \"kidney cancer\",\n",
    "    \"tongue cancer\",\n",
    "    \"spinal cancer\",\n",
    "    \"thymus cancer\",\n",
    "    \"brain cancer\",\n",
    "    \"liver cancer\",\n",
    "    \"colon cancer\",\n",
    "    \"bowel cancer\",\n",
    "    \"renal cancer\",\n",
    "    \"blood cancer\",\n",
    "    \"mouth cancer\",\n",
    "    \"sinus cancer\",\n",
    "    \"lung cancer\",\n",
    "    \"bone cancer\",\n",
    "    \"skin cancer\",\n",
    "    \"neck cancer\",\n",
    "    \"oral cancer\",\n",
    "    \"jaw cancer\",\n",
    "    \"eye cancer\",\n",
    "    \"cancer\",\n",
    "    \"head injuries sustained after a heart attack\",\n",
    "    \"traffic collision following a heart attack\",\n",
    "    \"heart attack as a complication of malaria\",\n",
    "    \"complications following heart attack\",\n",
    "    \"electric shock induced heart attack\",\n",
    "    \"complications from a heart attack\",\n",
    "    \"heart attack after drug overdose\",\n",
    "    \"heart attack followed by stroke\",\n",
    "    \"complications from heart attack\",\n",
    "    \"complications of a heart attack\",\n",
    "    \"heart attack due to cirrhosis\",\n",
    "    \"heart attack during surgery\",\n",
    "    \"drowned after heart attack\",\n",
    "    \"suspected heart attack\",\n",
    "    \"apparent heart attack\",\n",
    "    \"heart attack\",\n",
    "    \"complications from multiple organ failure caused by COVID\",\n",
    "    \"meningoencephalitis complicated by COVID\",\n",
    "    \"prostate cancer complicated by COVID\",\n",
    "    \"ruptured brain aneurysm from COVID\",\n",
    "    \"kidney complications from COVID\",\n",
    "    \"pneumonia resulting from COVID\",\n",
    "    \"leukemia complicated by COVID\",\n",
    "    \"pulmonary embolism from COVID\",\n",
    "    \"cancer complicated by COVID\",\n",
    "    \"COVID induced septic shock\",\n",
    "    \"cardiac arrest from COVID\",\n",
    "    \"complications from COVID\",\n",
    "    \"post COVID complications\",\n",
    "    \"septic shock from COVID\",\n",
    "    \"complications of COVID\",\n",
    "    \"COVID related illness\",\n",
    "    \"post COVID pneumonia\",\n",
    "    \"COVID\",\n",
    "    \"complications from heart failure\",\n",
    "    \"congestive heart failure\",\n",
    "    \"heart failure caused by\",\n",
    "    \"suspected heart failure\",\n",
    "    \"chronic heart failure\",\n",
    "    \"heart failure\",\n",
    "    \"renal failure brought on by lung cancer\",\n",
    "    \"complications from lung cancer\",\n",
    "    \"lung cancer\",\n",
    "    \"complications from a series of strokes\",\n",
    "    \"complications from multiple strokes\",\n",
    "    \"complications from ischemic strokes\",\n",
    "    \"complications from several strokes\",\n",
    "    \"complications relating to a stroke\",\n",
    "    \"complications related to a stroke\",\n",
    "    \"complications of multiple strokes\",\n",
    "    \"complications from basilar stroke\",\n",
    "    \"complications following a stroke\",\n",
    "    \"heart attack followed by stroke\",\n",
    "    \"complications following stroke\",\n",
    "    \"complications from a stroke\",\n",
    "    \"complications from strokes\",\n",
    "    \"following multiple strokes\",\n",
    "    \"complications of a stroke\",\n",
    "    \"complications from stroke\",\n",
    "    \"Complications from stroke\",\n",
    "    \"complications of stroke\",\n",
    "    \"stroke related illness\",\n",
    "    \"stroke complications\",\n",
    "    \"hemorrhagic stroke\",\n",
    "    \"multiple strokes\",\n",
    "    \"heat stroke\",\n",
    "    \"strokes\",\n",
    "    \"stroke\",\n",
    "    \"complications of pneumonia from leukemia\",\n",
    "    \"multiple organ failure due to pneumonia\",\n",
    "    \"pneumonia as a complication of COPD\",\n",
    "    \"complications from bronchopneumonia\",\n",
    "    \"pneumonia complicated by cancer\",\n",
    "    \"pneumonia resulting from COVID\",\n",
    "    \"complications from pneumonia\",\n",
    "    \"complications of pneumonia\",\n",
    "    \"leukemia induced pneumonia\",\n",
    "    \"post COVID pneumonia\",\n",
    "    \"bilateral pneumonia\",\n",
    "    \"bronchopneumonia\",\n",
    "    '\" pneumonia',\n",
    "    \"pneumonia\",\n",
    "    \"cardiac arrest as a complication from cancer\",\n",
    "    \"cardiac arrest following skiing accident\",\n",
    "    \"cardiac arrest following spinal surgery\",\n",
    "    \"cardiac arrest after heart ailment\",\n",
    "    \"cardiac arrest from COVID\",\n",
    "    \"cardiac arrest\",\n",
    "    \"suspected suicide by gunshot\",\n",
    "    \"found shot dead at his home\",\n",
    "    \"apparent suicide by gunshot\",\n",
    "    \"shot to death in Rotterdam\",\n",
    "    \"assassination by gunshot\",\n",
    "    \"multiple gunshot wounds\",\n",
    "    \"homicide by gunshot\",\n",
    "    \"suicide by gunshot\",\n",
    "    \"suicide by shotgun\",\n",
    "    \"gunshot wounds\",\n",
    "    \"natural causes\",\n",
    "    \"traffic collision following a heart attack\",\n",
    "    \"injuries sustained in a traffic collision\",\n",
    "    \"injuries sustained in traffic collision\",\n",
    "    \"complications from a traffic collision\",\n",
    "    \"complications from traffic collision\",\n",
    "    \"injuries from a traffic collision\",\n",
    "    \"injuries from traffic collision\",\n",
    "    \"traffic collision\",\n",
    "    \"complications from Alzheimer disease\",\n",
    "    \"complications of Alzheimer disease\",\n",
    "    \"Alzheimer disease\",\n",
    "    \"after long illness\",\n",
    "    \"complications from a bone marrow transplant to combat acute myeloid leukemia\",\n",
    "    \"complications of pneumonia from leukemia\",\n",
    "    \"complications from leukemia treatment\",\n",
    "    \"leukemia complicated by COVID\",\n",
    "    \"complications from leukemia\",\n",
    "    \"leukemia induced pneumonia\",\n",
    "    \"complications of leukemia\",\n",
    "    \"acute myeloid leukemia\",\n",
    "    \"myeloid leukemia\",\n",
    "    \"leukemia\",\n",
    "    \"multiple system atrophy as a complication of Parkinson disease\",\n",
    "    \"complications from Parkinson disease\",\n",
    "    \"complications of Parkinson disease\",\n",
    "    \"Parkinson disease\",\n",
    "    \"complications of heart disease\",\n",
    "    \"heart disease\",\n",
    "]\n",
    "cause_of_death = sorted(list(set(cause_of_death)), key=lambda x: len(x), reverse=True)"
   ]
  },
  {
   "cell_type": "markdown",
   "id": "fabd8c15",
   "metadata": {},
   "source": [
    "#### Creating `known_for_dict` Dictionary of Category Keys and Specific Role Lists of Values"
   ]
  },
  {
   "cell_type": "code",
   "execution_count": 121,
   "id": "3bcf1b2b",
   "metadata": {},
   "outputs": [
    {
     "data": {
      "application/javascript": [
       "\n",
       "            setTimeout(function() {\n",
       "                var nbb_cell_id = 121;\n",
       "                var nbb_unformatted_code = \"# Combining separate lists into one dictionary\\nknown_for_dict = {\\n    \\\"social\\\": social,\\n    \\\"spiritual\\\": spiritual,\\n    \\\"academia_humanities\\\": academia_humanities,\\n    \\\"business_farming\\\": business_farming,\\n    \\\"sciences\\\": sciences,\\n    \\\"politics_govt_law\\\": politics_govt_law,\\n    \\\"law_enf_military_operator\\\": law_enf_military_operator,\\n    \\\"crime\\\": crime,\\n    \\\"event_record_other\\\": event_record_other,\\n    \\\"other_species\\\": other_species,\\n    \\\"arts\\\": arts,\\n    \\\"sports\\\": sports,\\n}\";\n",
       "                var nbb_formatted_code = \"# Combining separate lists into one dictionary\\nknown_for_dict = {\\n    \\\"social\\\": social,\\n    \\\"spiritual\\\": spiritual,\\n    \\\"academia_humanities\\\": academia_humanities,\\n    \\\"business_farming\\\": business_farming,\\n    \\\"sciences\\\": sciences,\\n    \\\"politics_govt_law\\\": politics_govt_law,\\n    \\\"law_enf_military_operator\\\": law_enf_military_operator,\\n    \\\"crime\\\": crime,\\n    \\\"event_record_other\\\": event_record_other,\\n    \\\"other_species\\\": other_species,\\n    \\\"arts\\\": arts,\\n    \\\"sports\\\": sports,\\n}\";\n",
       "                var nbb_cells = Jupyter.notebook.get_cells();\n",
       "                for (var i = 0; i < nbb_cells.length; ++i) {\n",
       "                    if (nbb_cells[i].input_prompt_number == nbb_cell_id) {\n",
       "                        if (nbb_cells[i].get_text() == nbb_unformatted_code) {\n",
       "                             nbb_cells[i].set_text(nbb_formatted_code);\n",
       "                        }\n",
       "                        break;\n",
       "                    }\n",
       "                }\n",
       "            }, 500);\n",
       "            "
      ],
      "text/plain": [
       "<IPython.core.display.Javascript object>"
      ]
     },
     "metadata": {},
     "output_type": "display_data"
    }
   ],
   "source": [
    "# Combining separate lists into one dictionary\n",
    "known_for_dict = {\n",
    "    \"social\": social,\n",
    "    \"spiritual\": spiritual,\n",
    "    \"academia_humanities\": academia_humanities,\n",
    "    \"business_farming\": business_farming,\n",
    "    \"sciences\": sciences,\n",
    "    \"politics_govt_law\": politics_govt_law,\n",
    "    \"law_enf_military_operator\": law_enf_military_operator,\n",
    "    \"crime\": crime,\n",
    "    \"event_record_other\": event_record_other,\n",
    "    \"other_species\": other_species,\n",
    "    \"arts\": arts,\n",
    "    \"sports\": sports,\n",
    "}"
   ]
  },
  {
   "cell_type": "markdown",
   "id": "c2cf4cd0",
   "metadata": {},
   "source": [
    "#### Extracting `known_for` Categories and `cause_of_death` Values from `info_4_0`"
   ]
  },
  {
   "cell_type": "code",
   "execution_count": 122,
   "id": "e67ecefe",
   "metadata": {},
   "outputs": [
    {
     "name": "stdout",
     "output_type": "stream",
     "text": [
      "There are 30215 values in cause_of_death column.\n",
      "\n",
      "CPU times: total: 11.7 s\n",
      "Wall time: 11.7 s\n"
     ]
    },
    {
     "data": {
      "application/javascript": [
       "\n",
       "            setTimeout(function() {\n",
       "                var nbb_cell_id = 122;\n",
       "                var nbb_unformatted_code = \"%%time\\n\\n# Column to check\\ncolumn = 'info_4_0'\\n\\n# Start dataframe\\ndataframe = df[df[column].notna()]\\n\\n# For loop to find cause in column and extract it to cause_of_death\\nfor cause in cause_of_death:\\n    for index in dataframe.index:\\n        item = df.loc[index, column]\\n        if item:\\n            if cause in item:\\n                if df.loc[index, 'cause_of_death']:\\n                    df.loc[index, 'cause_of_death'] = df.loc[index, 'cause_of_death'] + '/' + cause\\n                    df.loc[index, column] = item.replace(cause, '').strip()\\n                else:\\n                    df.loc[index, 'cause_of_death'] = cause\\n                    df.loc[index, column] = item.replace(cause, '').strip()\\n                \\n                \\n# For loop to find role in column and extract it as category\\nfor category, category_lst in known_for_dict.items():\\n    for role in category_lst:\\n        for index in dataframe.index:\\n                item = df.loc[index, column]\\n                if item:\\n                    if role in item:\\n                        df.loc[index, category] = 1\\n                        df.loc[index, column] = item.replace(role, '').strip()\\n\\n# Calculating num_categories\\ndf[\\\"num_categories\\\"] = df[known_for_dict.keys()].sum(axis=1)\\n\\n# Checking number of cause_of_death values\\nprint(f'There are {df[\\\"cause_of_death\\\"].notna().sum()} values in cause_of_death column.\\\\n')\";\n",
       "                var nbb_formatted_code = \"%%time\\n\\n# Column to check\\ncolumn = 'info_4_0'\\n\\n# Start dataframe\\ndataframe = df[df[column].notna()]\\n\\n# For loop to find cause in column and extract it to cause_of_death\\nfor cause in cause_of_death:\\n    for index in dataframe.index:\\n        item = df.loc[index, column]\\n        if item:\\n            if cause in item:\\n                if df.loc[index, 'cause_of_death']:\\n                    df.loc[index, 'cause_of_death'] = df.loc[index, 'cause_of_death'] + '/' + cause\\n                    df.loc[index, column] = item.replace(cause, '').strip()\\n                else:\\n                    df.loc[index, 'cause_of_death'] = cause\\n                    df.loc[index, column] = item.replace(cause, '').strip()\\n                \\n                \\n# For loop to find role in column and extract it as category\\nfor category, category_lst in known_for_dict.items():\\n    for role in category_lst:\\n        for index in dataframe.index:\\n                item = df.loc[index, column]\\n                if item:\\n                    if role in item:\\n                        df.loc[index, category] = 1\\n                        df.loc[index, column] = item.replace(role, '').strip()\\n\\n# Calculating num_categories\\ndf[\\\"num_categories\\\"] = df[known_for_dict.keys()].sum(axis=1)\\n\\n# Checking number of cause_of_death values\\nprint(f'There are {df[\\\"cause_of_death\\\"].notna().sum()} values in cause_of_death column.\\\\n')\";\n",
       "                var nbb_cells = Jupyter.notebook.get_cells();\n",
       "                for (var i = 0; i < nbb_cells.length; ++i) {\n",
       "                    if (nbb_cells[i].input_prompt_number == nbb_cell_id) {\n",
       "                        if (nbb_cells[i].get_text() == nbb_unformatted_code) {\n",
       "                             nbb_cells[i].set_text(nbb_formatted_code);\n",
       "                        }\n",
       "                        break;\n",
       "                    }\n",
       "                }\n",
       "            }, 500);\n",
       "            "
      ],
      "text/plain": [
       "<IPython.core.display.Javascript object>"
      ]
     },
     "metadata": {},
     "output_type": "display_data"
    }
   ],
   "source": [
    "%%time\n",
    "\n",
    "# Column to check\n",
    "column = 'info_4_0'\n",
    "\n",
    "# Start dataframe\n",
    "dataframe = df[df[column].notna()]\n",
    "\n",
    "# For loop to find cause in column and extract it to cause_of_death\n",
    "for cause in cause_of_death:\n",
    "    for index in dataframe.index:\n",
    "        item = df.loc[index, column]\n",
    "        if item:\n",
    "            if cause in item:\n",
    "                if df.loc[index, 'cause_of_death']:\n",
    "                    df.loc[index, 'cause_of_death'] = df.loc[index, 'cause_of_death'] + '/' + cause\n",
    "                    df.loc[index, column] = item.replace(cause, '').strip()\n",
    "                else:\n",
    "                    df.loc[index, 'cause_of_death'] = cause\n",
    "                    df.loc[index, column] = item.replace(cause, '').strip()\n",
    "                \n",
    "                \n",
    "# For loop to find role in column and extract it as category\n",
    "for category, category_lst in known_for_dict.items():\n",
    "    for role in category_lst:\n",
    "        for index in dataframe.index:\n",
    "                item = df.loc[index, column]\n",
    "                if item:\n",
    "                    if role in item:\n",
    "                        df.loc[index, category] = 1\n",
    "                        df.loc[index, column] = item.replace(role, '').strip()\n",
    "\n",
    "# Calculating num_categories\n",
    "df[\"num_categories\"] = df[known_for_dict.keys()].sum(axis=1)\n",
    "\n",
    "# Checking number of cause_of_death values\n",
    "print(f'There are {df[\"cause_of_death\"].notna().sum()} values in cause_of_death column.\\n')"
   ]
  },
  {
   "cell_type": "markdown",
   "id": "92bb8ce3",
   "metadata": {},
   "source": [
    "#### Checking Updated `num_categories` Value Counts"
   ]
  },
  {
   "cell_type": "code",
   "execution_count": 123,
   "id": "635a7ebe",
   "metadata": {},
   "outputs": [
    {
     "data": {
      "text/plain": [
       "1    84567\n",
       "2    12632\n",
       "3      825\n",
       "0        8\n",
       "4        8\n",
       "Name: num_categories, dtype: int64"
      ]
     },
     "execution_count": 123,
     "metadata": {},
     "output_type": "execute_result"
    },
    {
     "data": {
      "application/javascript": [
       "\n",
       "            setTimeout(function() {\n",
       "                var nbb_cell_id = 123;\n",
       "                var nbb_unformatted_code = \"# Checking Updated num_categories Value Counts\\ndf[\\\"num_categories\\\"].value_counts()\";\n",
       "                var nbb_formatted_code = \"# Checking Updated num_categories Value Counts\\ndf[\\\"num_categories\\\"].value_counts()\";\n",
       "                var nbb_cells = Jupyter.notebook.get_cells();\n",
       "                for (var i = 0; i < nbb_cells.length; ++i) {\n",
       "                    if (nbb_cells[i].input_prompt_number == nbb_cell_id) {\n",
       "                        if (nbb_cells[i].get_text() == nbb_unformatted_code) {\n",
       "                             nbb_cells[i].set_text(nbb_formatted_code);\n",
       "                        }\n",
       "                        break;\n",
       "                    }\n",
       "                }\n",
       "            }, 500);\n",
       "            "
      ],
      "text/plain": [
       "<IPython.core.display.Javascript object>"
      ]
     },
     "metadata": {},
     "output_type": "display_data"
    }
   ],
   "source": [
    "# Checking Updated num_categories Value Counts\n",
    "df[\"num_categories\"].value_counts()"
   ]
  },
  {
   "cell_type": "markdown",
   "id": "ad83d82a",
   "metadata": {},
   "source": [
    "#### Observations:\n",
    "- We will proceed to rebuild `known_for_dict` and `cause_of_death` for the next iteration."
   ]
  },
  {
   "cell_type": "markdown",
   "id": "73e2fa6c",
   "metadata": {},
   "source": [
    "#### Finding `known_for` Roles and `cause_of_death` in `info_4_0`"
   ]
  },
  {
   "cell_type": "code",
   "execution_count": 124,
   "id": "eced0b14",
   "metadata": {},
   "outputs": [
    {
     "data": {
      "application/javascript": [
       "\n",
       "            setTimeout(function() {\n",
       "                var nbb_cell_id = 124;\n",
       "                var nbb_unformatted_code = \"# # Obtaining values for column and their counts\\n# roles_cause_list = df[\\\"info_4_0\\\"].value_counts(ascending=True).index.tolist()\";\n",
       "                var nbb_formatted_code = \"# # Obtaining values for column and their counts\\n# roles_cause_list = df[\\\"info_4_0\\\"].value_counts(ascending=True).index.tolist()\";\n",
       "                var nbb_cells = Jupyter.notebook.get_cells();\n",
       "                for (var i = 0; i < nbb_cells.length; ++i) {\n",
       "                    if (nbb_cells[i].input_prompt_number == nbb_cell_id) {\n",
       "                        if (nbb_cells[i].get_text() == nbb_unformatted_code) {\n",
       "                             nbb_cells[i].set_text(nbb_formatted_code);\n",
       "                        }\n",
       "                        break;\n",
       "                    }\n",
       "                }\n",
       "            }, 500);\n",
       "            "
      ],
      "text/plain": [
       "<IPython.core.display.Javascript object>"
      ]
     },
     "metadata": {},
     "output_type": "display_data"
    }
   ],
   "source": [
    "# # Obtaining values for column and their counts\n",
    "# roles_cause_list = df[\"info_4_0\"].value_counts(ascending=True).index.tolist()"
   ]
  },
  {
   "cell_type": "code",
   "execution_count": 125,
   "id": "49f4abbe",
   "metadata": {},
   "outputs": [
    {
     "data": {
      "application/javascript": [
       "\n",
       "            setTimeout(function() {\n",
       "                var nbb_cell_id = 125;\n",
       "                var nbb_unformatted_code = \"# # Code to check each value\\n# value = roles_cause_list.pop()\\n# value\";\n",
       "                var nbb_formatted_code = \"# # Code to check each value\\n# value = roles_cause_list.pop()\\n# value\";\n",
       "                var nbb_cells = Jupyter.notebook.get_cells();\n",
       "                for (var i = 0; i < nbb_cells.length; ++i) {\n",
       "                    if (nbb_cells[i].input_prompt_number == nbb_cell_id) {\n",
       "                        if (nbb_cells[i].get_text() == nbb_unformatted_code) {\n",
       "                             nbb_cells[i].set_text(nbb_formatted_code);\n",
       "                        }\n",
       "                        break;\n",
       "                    }\n",
       "                }\n",
       "            }, 500);\n",
       "            "
      ],
      "text/plain": [
       "<IPython.core.display.Javascript object>"
      ]
     },
     "metadata": {},
     "output_type": "display_data"
    }
   ],
   "source": [
    "# # Code to check each value\n",
    "# value = roles_cause_list.pop()\n",
    "# value"
   ]
  },
  {
   "cell_type": "code",
   "execution_count": 126,
   "id": "8e753af8",
   "metadata": {},
   "outputs": [
    {
     "data": {
      "application/javascript": [
       "\n",
       "            setTimeout(function() {\n",
       "                var nbb_cell_id = 126;\n",
       "                var nbb_unformatted_code = \"# # Create specific_roles_cause_list for above popped value\\n# specific_roles_cause_list = (\\n#     df.loc[\\n#         [\\n#             index\\n#             for index in df[df[\\\"info_4_0\\\"].notna()].index\\n#             if value in df.loc[index, \\\"info_4_0\\\"]\\n#         ],\\n#         \\\"info_4_0\\\",\\n#     ]\\n#     .value_counts()\\n#     .index.tolist()\\n# )\";\n",
       "                var nbb_formatted_code = \"# # Create specific_roles_cause_list for above popped value\\n# specific_roles_cause_list = (\\n#     df.loc[\\n#         [\\n#             index\\n#             for index in df[df[\\\"info_4_0\\\"].notna()].index\\n#             if value in df.loc[index, \\\"info_4_0\\\"]\\n#         ],\\n#         \\\"info_4_0\\\",\\n#     ]\\n#     .value_counts()\\n#     .index.tolist()\\n# )\";\n",
       "                var nbb_cells = Jupyter.notebook.get_cells();\n",
       "                for (var i = 0; i < nbb_cells.length; ++i) {\n",
       "                    if (nbb_cells[i].input_prompt_number == nbb_cell_id) {\n",
       "                        if (nbb_cells[i].get_text() == nbb_unformatted_code) {\n",
       "                             nbb_cells[i].set_text(nbb_formatted_code);\n",
       "                        }\n",
       "                        break;\n",
       "                    }\n",
       "                }\n",
       "            }, 500);\n",
       "            "
      ],
      "text/plain": [
       "<IPython.core.display.Javascript object>"
      ]
     },
     "metadata": {},
     "output_type": "display_data"
    }
   ],
   "source": [
    "# # Create specific_roles_cause_list for above popped value\n",
    "# specific_roles_cause_list = (\n",
    "#     df.loc[\n",
    "#         [\n",
    "#             index\n",
    "#             for index in df[df[\"info_4_0\"].notna()].index\n",
    "#             if value in df.loc[index, \"info_4_0\"]\n",
    "#         ],\n",
    "#         \"info_4_0\",\n",
    "#     ]\n",
    "#     .value_counts()\n",
    "#     .index.tolist()\n",
    "# )"
   ]
  },
  {
   "cell_type": "code",
   "execution_count": 127,
   "id": "5a588e15",
   "metadata": {},
   "outputs": [
    {
     "data": {
      "application/javascript": [
       "\n",
       "            setTimeout(function() {\n",
       "                var nbb_cell_id = 127;\n",
       "                var nbb_unformatted_code = \"# # Viewing list sorted by descending length to copy to dictionary below and screen values\\n# sorted(specific_roles_cause_list, key=lambda x: len(x), reverse=True)\";\n",
       "                var nbb_formatted_code = \"# # Viewing list sorted by descending length to copy to dictionary below and screen values\\n# sorted(specific_roles_cause_list, key=lambda x: len(x), reverse=True)\";\n",
       "                var nbb_cells = Jupyter.notebook.get_cells();\n",
       "                for (var i = 0; i < nbb_cells.length; ++i) {\n",
       "                    if (nbb_cells[i].input_prompt_number == nbb_cell_id) {\n",
       "                        if (nbb_cells[i].get_text() == nbb_unformatted_code) {\n",
       "                             nbb_cells[i].set_text(nbb_formatted_code);\n",
       "                        }\n",
       "                        break;\n",
       "                    }\n",
       "                }\n",
       "            }, 500);\n",
       "            "
      ],
      "text/plain": [
       "<IPython.core.display.Javascript object>"
      ]
     },
     "metadata": {},
     "output_type": "display_data"
    }
   ],
   "source": [
    "# # Viewing list sorted by descending length to copy to dictionary below and screen values\n",
    "# sorted(specific_roles_cause_list, key=lambda x: len(x), reverse=True)"
   ]
  },
  {
   "cell_type": "code",
   "execution_count": 128,
   "id": "c2a89b5d",
   "metadata": {},
   "outputs": [
    {
     "data": {
      "application/javascript": [
       "\n",
       "            setTimeout(function() {\n",
       "                var nbb_cell_id = 128;\n",
       "                var nbb_unformatted_code = \"# # Example code to quick-check a specific entry\\n# df[df[\\\"info_4_0\\\"] == \\\"oldest modern MP\\\"]\";\n",
       "                var nbb_formatted_code = \"# # Example code to quick-check a specific entry\\n# df[df[\\\"info_4_0\\\"] == \\\"oldest modern MP\\\"]\";\n",
       "                var nbb_cells = Jupyter.notebook.get_cells();\n",
       "                for (var i = 0; i < nbb_cells.length; ++i) {\n",
       "                    if (nbb_cells[i].input_prompt_number == nbb_cell_id) {\n",
       "                        if (nbb_cells[i].get_text() == nbb_unformatted_code) {\n",
       "                             nbb_cells[i].set_text(nbb_formatted_code);\n",
       "                        }\n",
       "                        break;\n",
       "                    }\n",
       "                }\n",
       "            }, 500);\n",
       "            "
      ],
      "text/plain": [
       "<IPython.core.display.Javascript object>"
      ]
     },
     "metadata": {},
     "output_type": "display_data"
    }
   ],
   "source": [
    "# # Example code to quick-check a specific entry\n",
    "# df[df[\"info_4_0\"] == \"oldest modern MP\"]"
   ]
  },
  {
   "cell_type": "markdown",
   "id": "c0ebe766",
   "metadata": {},
   "source": [
    "#### Creating Lists for Each `known_for` Category and for `cause_of_death`"
   ]
  },
  {
   "cell_type": "code",
   "execution_count": 129,
   "id": "82daee30",
   "metadata": {},
   "outputs": [
    {
     "data": {
      "application/javascript": [
       "\n",
       "            setTimeout(function() {\n",
       "                var nbb_cell_id = 129;\n",
       "                var nbb_unformatted_code = \"# Creating lists for each category and sorting by decreasing length and removing duplicates\\n\\npolitics_govt_law = [\\n    \\\"and politician\\\",\\n    \\\"First Secretary of the SED fall of the Berlin Wall\\\",\\n    \\\"MP for Matale District\\\",\\n    \\\"MP for Belfast East\\\",\\n    \\\"MP for Brent North\\\",\\n    \\\"MP for Marlborough\\\",\\n    \\\"oldest modern MP\\\",\\n    \\\"MP for Cleveland\\\",\\n    \\\"MP for Luanshya\\\",\\n    \\\"MP for San Jos\\u00e9\\\",\\n    \\\"MP for Ainamoi\\\",\\n    \\\"MP for Leeds\\\",\\n    \\\"and MP\\\",\\n    \\\"MP\\\",\\n]\\npolitics_govt_law = sorted(\\n    list(set(politics_govt_law)), key=lambda x: len(x), reverse=True\\n)\\n\\narts = [\\n    \\\"and author of more than books on chess\\\",\\n    \\\"and author\\\",\\n    \\\"and short story writer\\\",\\n    \\\"and singer songwriter\\\",\\n    \\\"and screenplay writer\\\",\\n    \\\"singer songwriter\\\",\\n    \\\"and travel writer\\\",\\n    \\\"and screenwriter\\\",\\n    \\\"and story writer\\\",\\n    \\\"and manga writer\\\",\\n    \\\"and food writer\\\",\\n    \\\"dialogue writer\\\",\\n    \\\"and songwriter\\\",\\n    \\\"Yiddish writer\\\",\\n    \\\"fiction writer\\\",\\n    \\\"script writer\\\",\\n    \\\"comedy writer\\\",\\n    \\\"screenwriter\\\",\\n    \\\"drama writer\\\",\\n    \\\"and writer\\\",\\n    \\\"songwriter\\\",\\n    \\\"writer\\\",\\n    \\\"composer of classical music\\\",\\n    \\\"and composer\\\",\\n    \\\"composer\\\",\\n    \\\"and author of more than books on chess\\\",\\n    \\\"co authored Christmas songs\\\",\\n    \\\"and science fiction author\\\",\\n    \\\"and comics author\\\",\\n    \\\"prolific author\\\",\\n    \\\"and poet\\\",\\n    \\\"poet\\\",\\n    \\\"director of original production of\\\",\\n    \\\"director of the National Theatre\\\",\\n    \\\"and documentary film director\\\",\\n    \\\"and film television director\\\",\\n    \\\"documentary film director\\\",\\n    \\\"and television director\\\",\\n    \\\"and artistic director\\\",\\n    \\\"and theatre director\\\",\\n    \\\"and theater director\\\",\\n    \\\"television director\\\",\\n    \\\"and opera director\\\",\\n    \\\"and stage director\\\",\\n    \\\"and film director\\\",\\n    \\\"cartoon director\\\",\\n    \\\"theater director\\\",\\n    \\\"stage director\\\",\\n    \\\"music director\\\",\\n    \\\"film director\\\",\\n    \\\"art director\\\",\\n    \\\"and journalist\\\",\\n    \\\"journalist\\\",\\n    \\\"and actor of Bollywood\\\",\\n    \\\"and television actor\\\",\\n    \\\"and Broadway actor;\\\",\\n    \\\"socialite & actor\\\",\\n    \\\"and voice actor\\\",\\n    \\\"and actor\\\",\\n]\\narts = sorted(list(set(arts)), key=lambda x: len(x), reverse=True)\\n\\nsports = []\\nsports = sorted(list(set(sports)), key=lambda x: len(x), reverse=True)\\n\\nsciences = []\\nsciences = sorted(list(set(sciences)), key=lambda x: len(x), reverse=True)\\n\\nbusiness_farming = []\\nbusiness_farming = sorted(\\n    list(set(business_farming)), key=lambda x: len(x), reverse=True\\n)\\n\\nacademia_humanities = []\\nacademia_humanities = sorted(\\n    list(set(academia_humanities)), key=lambda x: len(x), reverse=True\\n)\\n\\nlaw_enf_military_operator = []\\nlaw_enf_military_operator = sorted(\\n    list(set(law_enf_military_operator)), key=lambda x: len(x), reverse=True\\n)\\n\\nspiritual = []\\nspiritual = sorted(list(set(spiritual)), key=lambda x: len(x), reverse=True)\\n\\nsocial = []\\nsocial = sorted(list(set(social)), key=lambda x: len(x), reverse=True)\\n\\ncrime = []\\ncrime = sorted(list(set(crime)), key=lambda x: len(x), reverse=True)\\n\\nevent_record_other = []\\nevent_record_other = sorted(\\n    list(set(event_record_other)), key=lambda x: len(x), reverse=True\\n)\\n\\nother_species = []\\nother_species = sorted(list(set(other_species)), key=lambda x: len(x), reverse=True)\\n\\ncause_of_death = [\\n    \\\"shot\\\",\\n    \\\"complications from multiple organ failure\\\",\\n    \\\"euthanasia due to multiple organ failure\\\",\\n    \\\"multiple organ failure\\\",\\n    \\\"suicide by overdose of medication\\\",\\n    \\\"suicide by autodefenestration\\\",\\n    \\\"suspected suicide by hanging\\\",\\n    \\\"physician assisted suicide\\\",\\n    \\\"suicide by explosive vest\\\",\\n    \\\"suicide by exsanguination\\\",\\n    \\\"suicide by asphyxiation\\\",\\n    \\\"suicide under a train\\\",\\n    \\\"suspected suicide by\\\",\\n    \\\"suicide by explosion\\\",\\n    \\\"suicide by poisoning\\\",\\n    \\\"suicide by car crash\\\",\\n    \\\"suicide by drowning\\\",\\n    \\\"suicide by overdose\\\",\\n    \\\"suicide by hanging\\\",\\n    \\\"suicide by jumping\\\",\\n    \\\"suspected suicide\\\",\\n    \\\"assisted suicide\\\",\\n    \\\"suicide by train\\\",\\n    \\\"apparent suicide\\\",\\n    \\\"alleged suicide\\\",\\n    \\\"suicide\\\",\\n    \\\"kidney failure caused by diabetes\\\",\\n    \\\"kidney failure\\\",\\n    '\\\" complications from a fall',\\n    \\\"complications from a fall\\\",\\n    \\\"complications from respiratory failure\\\",\\n    \\\"pulmonary respiratory failure\\\",\\n    \\\"acute respiratory failure\\\",\\n    \\\"respiratory failure\\\",\\n    \\\"head injury from a fall at a Rolling Stones concert\\\",\\n    \\\"complications from surgery after a fall\\\",\\n    \\\"blood clot as a result of a fall\\\",\\n    \\\"cerebral haemorrhage after fall\\\",\\n    \\\"brain injuries following a fall\\\",\\n    \\\"internal bleeding after a fall\\\",\\n    \\\"heart arrhythmia after a fall\\\",\\n    \\\"injuries sustained in a fall\\\",\\n    \\\"head injury following a fall\\\",\\n    \\\"broken neck following a fall\\\",\\n    '\\\" complications from a fall',\\n    \\\"following a number of falls\\\",\\n    \\\"complications from a fall\\\",\\n    \\\"head injuries from a fall\\\",\\n    \\\"complications of a fall\\\",\\n    \\\"complications from fall\\\",\\n    \\\"brain injury from fall\\\",\\n    \\\"head injury from fall\\\",\\n    \\\"injuries from a fall\\\",\\n    \\\"illness after a fall\\\",\\n    \\\"mountaineering fall\\\",\\n    \\\"fall from tractor\\\",\\n    \\\"fall from balcony\\\",\\n    \\\"horseriding fall\\\",\\n    \\\"fall from a tree\\\",\\n    \\\"fall from Lhotse\\\",\\n    \\\"fall from ATV\\\",\\n    \\\"balcony fall\\\",\\n    \\\"ft fall\\\",\\n    \\\"complications of treatment for lymphoma\\\",\\n    \\\"complications of non Hodgkin lymphoma\\\",\\n    \\\"complications from lymphoma\\\",\\n    \\\"euthanized due to lymphoma\\\",\\n    \\\"large B cell lymphoma\\\",\\n    \\\"non Hodgkin lymphoma\\\",\\n    \\\"large cell lymphoma\\\",\\n    \\\"Hodgkin lymphoma\\\",\\n    \\\"Burkitt lymphoma\\\",\\n    \\\"lymphoma\\\",\\n    \\\"euthanized after contracting laminitis\\\",\\n    \\\"euthanized after race injury\\\",\\n    \\\"euthanized due to lymphoma\\\",\\n    \\\"euthanized by anaesthesia\\\",\\n    \\\"euthanized\\\",\\n    \\\"complications from a brain tumor\\\",\\n    \\\"brain tumor\\\",\\n    \\\"light plane crash\\\",\\n    \\\"aeroplane crash\\\",\\n    \\\"airplane crash\\\",\\n    \\\"plane crash\\\",\\n    \\\"complications from surgery after a fall\\\",\\n    \\\"complications from surgery\\\",\\n    \\\"complications from dementia\\\",\\n    \\\"illness related to dementia\\\",\\n    \\\"complications of dementia\\\",\\n    \\\"dementia with Lewy bodies\\\",\\n    \\\"frontotemporal dementia\\\",\\n    \\\"pugilistic dementia\\\",\\n    \\\"Lewy body dementia\\\",\\n    \\\"vascular dementia\\\",\\n    \\\"dementia\\\",\\n    \\\"complications from diabetes\\\",\\n    \\\"complications from melanoma\\\",\\n    \\\"metastatic melanoma\\\",\\n    \\\"ocular melanoma\\\",\\n    \\\"melanoma\\\",\\n    \\\"helicopter crash\\\",\\n    \\\"car accident in Moscow\\\",\\n    \\\"car accident\\\",\\n    \\\"complications from amyotrophic lateral sclerosis\\\",\\n    \\\"amyotrophic lateral sclerosis\\\",\\n    \\\"kidney failure caused by diabetes\\\",\\n    \\\"illnesses related to diabetes\\\",\\n    \\\"complications from diabetes\\\",\\n    \\\"complications of diabetes\\\",\\n    \\\"Complications of diabetes\\\",\\n    \\\"diabetes complications\\\",\\n    \\\"diabetes\\\",\\n    \\\"after short illness\\\",\\n    \\\"complications from kidney disease\\\",\\n    \\\"polycystic kidney disease\\\",\\n    \\\"kidney disease\\\",\\n    \\\"lung infection\\\",\\n    \\\"complications of pulmonary emphysema\\\",\\n    \\\"emphysema induced infection\\\",\\n    \\\"complications of emphysema\\\",\\n    \\\"pulmonary emphysema\\\",\\n    \\\"emphysema\\\",\\n    \\\"complications from multiple myeloma\\\",\\n    \\\"multiple myeloma\\\",\\n    \\\"drowned in a swimming pool\\\",\\n    \\\"drowned\\\",\\n    \\\"cerebral hemorrhage\\\",\\n    \\\"complications from lung disease\\\",\\n    \\\"lung disease\\\",\\n    \\\"crushed by tractor\\\",\\n    \\\"fall from tractor\\\",\\n    \\\"tractor accident\\\",\\n    \\\"acute renal failure\\\",\\n    \\\"renal failure\\\",\\n]\\ncause_of_death = sorted(list(set(cause_of_death)), key=lambda x: len(x), reverse=True)\";\n",
       "                var nbb_formatted_code = \"# Creating lists for each category and sorting by decreasing length and removing duplicates\\n\\npolitics_govt_law = [\\n    \\\"and politician\\\",\\n    \\\"First Secretary of the SED fall of the Berlin Wall\\\",\\n    \\\"MP for Matale District\\\",\\n    \\\"MP for Belfast East\\\",\\n    \\\"MP for Brent North\\\",\\n    \\\"MP for Marlborough\\\",\\n    \\\"oldest modern MP\\\",\\n    \\\"MP for Cleveland\\\",\\n    \\\"MP for Luanshya\\\",\\n    \\\"MP for San Jos\\u00e9\\\",\\n    \\\"MP for Ainamoi\\\",\\n    \\\"MP for Leeds\\\",\\n    \\\"and MP\\\",\\n    \\\"MP\\\",\\n]\\npolitics_govt_law = sorted(\\n    list(set(politics_govt_law)), key=lambda x: len(x), reverse=True\\n)\\n\\narts = [\\n    \\\"and author of more than books on chess\\\",\\n    \\\"and author\\\",\\n    \\\"and short story writer\\\",\\n    \\\"and singer songwriter\\\",\\n    \\\"and screenplay writer\\\",\\n    \\\"singer songwriter\\\",\\n    \\\"and travel writer\\\",\\n    \\\"and screenwriter\\\",\\n    \\\"and story writer\\\",\\n    \\\"and manga writer\\\",\\n    \\\"and food writer\\\",\\n    \\\"dialogue writer\\\",\\n    \\\"and songwriter\\\",\\n    \\\"Yiddish writer\\\",\\n    \\\"fiction writer\\\",\\n    \\\"script writer\\\",\\n    \\\"comedy writer\\\",\\n    \\\"screenwriter\\\",\\n    \\\"drama writer\\\",\\n    \\\"and writer\\\",\\n    \\\"songwriter\\\",\\n    \\\"writer\\\",\\n    \\\"composer of classical music\\\",\\n    \\\"and composer\\\",\\n    \\\"composer\\\",\\n    \\\"and author of more than books on chess\\\",\\n    \\\"co authored Christmas songs\\\",\\n    \\\"and science fiction author\\\",\\n    \\\"and comics author\\\",\\n    \\\"prolific author\\\",\\n    \\\"and poet\\\",\\n    \\\"poet\\\",\\n    \\\"director of original production of\\\",\\n    \\\"director of the National Theatre\\\",\\n    \\\"and documentary film director\\\",\\n    \\\"and film television director\\\",\\n    \\\"documentary film director\\\",\\n    \\\"and television director\\\",\\n    \\\"and artistic director\\\",\\n    \\\"and theatre director\\\",\\n    \\\"and theater director\\\",\\n    \\\"television director\\\",\\n    \\\"and opera director\\\",\\n    \\\"and stage director\\\",\\n    \\\"and film director\\\",\\n    \\\"cartoon director\\\",\\n    \\\"theater director\\\",\\n    \\\"stage director\\\",\\n    \\\"music director\\\",\\n    \\\"film director\\\",\\n    \\\"art director\\\",\\n    \\\"and journalist\\\",\\n    \\\"journalist\\\",\\n    \\\"and actor of Bollywood\\\",\\n    \\\"and television actor\\\",\\n    \\\"and Broadway actor;\\\",\\n    \\\"socialite & actor\\\",\\n    \\\"and voice actor\\\",\\n    \\\"and actor\\\",\\n]\\narts = sorted(list(set(arts)), key=lambda x: len(x), reverse=True)\\n\\nsports = []\\nsports = sorted(list(set(sports)), key=lambda x: len(x), reverse=True)\\n\\nsciences = []\\nsciences = sorted(list(set(sciences)), key=lambda x: len(x), reverse=True)\\n\\nbusiness_farming = []\\nbusiness_farming = sorted(\\n    list(set(business_farming)), key=lambda x: len(x), reverse=True\\n)\\n\\nacademia_humanities = []\\nacademia_humanities = sorted(\\n    list(set(academia_humanities)), key=lambda x: len(x), reverse=True\\n)\\n\\nlaw_enf_military_operator = []\\nlaw_enf_military_operator = sorted(\\n    list(set(law_enf_military_operator)), key=lambda x: len(x), reverse=True\\n)\\n\\nspiritual = []\\nspiritual = sorted(list(set(spiritual)), key=lambda x: len(x), reverse=True)\\n\\nsocial = []\\nsocial = sorted(list(set(social)), key=lambda x: len(x), reverse=True)\\n\\ncrime = []\\ncrime = sorted(list(set(crime)), key=lambda x: len(x), reverse=True)\\n\\nevent_record_other = []\\nevent_record_other = sorted(\\n    list(set(event_record_other)), key=lambda x: len(x), reverse=True\\n)\\n\\nother_species = []\\nother_species = sorted(list(set(other_species)), key=lambda x: len(x), reverse=True)\\n\\ncause_of_death = [\\n    \\\"shot\\\",\\n    \\\"complications from multiple organ failure\\\",\\n    \\\"euthanasia due to multiple organ failure\\\",\\n    \\\"multiple organ failure\\\",\\n    \\\"suicide by overdose of medication\\\",\\n    \\\"suicide by autodefenestration\\\",\\n    \\\"suspected suicide by hanging\\\",\\n    \\\"physician assisted suicide\\\",\\n    \\\"suicide by explosive vest\\\",\\n    \\\"suicide by exsanguination\\\",\\n    \\\"suicide by asphyxiation\\\",\\n    \\\"suicide under a train\\\",\\n    \\\"suspected suicide by\\\",\\n    \\\"suicide by explosion\\\",\\n    \\\"suicide by poisoning\\\",\\n    \\\"suicide by car crash\\\",\\n    \\\"suicide by drowning\\\",\\n    \\\"suicide by overdose\\\",\\n    \\\"suicide by hanging\\\",\\n    \\\"suicide by jumping\\\",\\n    \\\"suspected suicide\\\",\\n    \\\"assisted suicide\\\",\\n    \\\"suicide by train\\\",\\n    \\\"apparent suicide\\\",\\n    \\\"alleged suicide\\\",\\n    \\\"suicide\\\",\\n    \\\"kidney failure caused by diabetes\\\",\\n    \\\"kidney failure\\\",\\n    '\\\" complications from a fall',\\n    \\\"complications from a fall\\\",\\n    \\\"complications from respiratory failure\\\",\\n    \\\"pulmonary respiratory failure\\\",\\n    \\\"acute respiratory failure\\\",\\n    \\\"respiratory failure\\\",\\n    \\\"head injury from a fall at a Rolling Stones concert\\\",\\n    \\\"complications from surgery after a fall\\\",\\n    \\\"blood clot as a result of a fall\\\",\\n    \\\"cerebral haemorrhage after fall\\\",\\n    \\\"brain injuries following a fall\\\",\\n    \\\"internal bleeding after a fall\\\",\\n    \\\"heart arrhythmia after a fall\\\",\\n    \\\"injuries sustained in a fall\\\",\\n    \\\"head injury following a fall\\\",\\n    \\\"broken neck following a fall\\\",\\n    '\\\" complications from a fall',\\n    \\\"following a number of falls\\\",\\n    \\\"complications from a fall\\\",\\n    \\\"head injuries from a fall\\\",\\n    \\\"complications of a fall\\\",\\n    \\\"complications from fall\\\",\\n    \\\"brain injury from fall\\\",\\n    \\\"head injury from fall\\\",\\n    \\\"injuries from a fall\\\",\\n    \\\"illness after a fall\\\",\\n    \\\"mountaineering fall\\\",\\n    \\\"fall from tractor\\\",\\n    \\\"fall from balcony\\\",\\n    \\\"horseriding fall\\\",\\n    \\\"fall from a tree\\\",\\n    \\\"fall from Lhotse\\\",\\n    \\\"fall from ATV\\\",\\n    \\\"balcony fall\\\",\\n    \\\"ft fall\\\",\\n    \\\"complications of treatment for lymphoma\\\",\\n    \\\"complications of non Hodgkin lymphoma\\\",\\n    \\\"complications from lymphoma\\\",\\n    \\\"euthanized due to lymphoma\\\",\\n    \\\"large B cell lymphoma\\\",\\n    \\\"non Hodgkin lymphoma\\\",\\n    \\\"large cell lymphoma\\\",\\n    \\\"Hodgkin lymphoma\\\",\\n    \\\"Burkitt lymphoma\\\",\\n    \\\"lymphoma\\\",\\n    \\\"euthanized after contracting laminitis\\\",\\n    \\\"euthanized after race injury\\\",\\n    \\\"euthanized due to lymphoma\\\",\\n    \\\"euthanized by anaesthesia\\\",\\n    \\\"euthanized\\\",\\n    \\\"complications from a brain tumor\\\",\\n    \\\"brain tumor\\\",\\n    \\\"light plane crash\\\",\\n    \\\"aeroplane crash\\\",\\n    \\\"airplane crash\\\",\\n    \\\"plane crash\\\",\\n    \\\"complications from surgery after a fall\\\",\\n    \\\"complications from surgery\\\",\\n    \\\"complications from dementia\\\",\\n    \\\"illness related to dementia\\\",\\n    \\\"complications of dementia\\\",\\n    \\\"dementia with Lewy bodies\\\",\\n    \\\"frontotemporal dementia\\\",\\n    \\\"pugilistic dementia\\\",\\n    \\\"Lewy body dementia\\\",\\n    \\\"vascular dementia\\\",\\n    \\\"dementia\\\",\\n    \\\"complications from diabetes\\\",\\n    \\\"complications from melanoma\\\",\\n    \\\"metastatic melanoma\\\",\\n    \\\"ocular melanoma\\\",\\n    \\\"melanoma\\\",\\n    \\\"helicopter crash\\\",\\n    \\\"car accident in Moscow\\\",\\n    \\\"car accident\\\",\\n    \\\"complications from amyotrophic lateral sclerosis\\\",\\n    \\\"amyotrophic lateral sclerosis\\\",\\n    \\\"kidney failure caused by diabetes\\\",\\n    \\\"illnesses related to diabetes\\\",\\n    \\\"complications from diabetes\\\",\\n    \\\"complications of diabetes\\\",\\n    \\\"Complications of diabetes\\\",\\n    \\\"diabetes complications\\\",\\n    \\\"diabetes\\\",\\n    \\\"after short illness\\\",\\n    \\\"complications from kidney disease\\\",\\n    \\\"polycystic kidney disease\\\",\\n    \\\"kidney disease\\\",\\n    \\\"lung infection\\\",\\n    \\\"complications of pulmonary emphysema\\\",\\n    \\\"emphysema induced infection\\\",\\n    \\\"complications of emphysema\\\",\\n    \\\"pulmonary emphysema\\\",\\n    \\\"emphysema\\\",\\n    \\\"complications from multiple myeloma\\\",\\n    \\\"multiple myeloma\\\",\\n    \\\"drowned in a swimming pool\\\",\\n    \\\"drowned\\\",\\n    \\\"cerebral hemorrhage\\\",\\n    \\\"complications from lung disease\\\",\\n    \\\"lung disease\\\",\\n    \\\"crushed by tractor\\\",\\n    \\\"fall from tractor\\\",\\n    \\\"tractor accident\\\",\\n    \\\"acute renal failure\\\",\\n    \\\"renal failure\\\",\\n]\\ncause_of_death = sorted(list(set(cause_of_death)), key=lambda x: len(x), reverse=True)\";\n",
       "                var nbb_cells = Jupyter.notebook.get_cells();\n",
       "                for (var i = 0; i < nbb_cells.length; ++i) {\n",
       "                    if (nbb_cells[i].input_prompt_number == nbb_cell_id) {\n",
       "                        if (nbb_cells[i].get_text() == nbb_unformatted_code) {\n",
       "                             nbb_cells[i].set_text(nbb_formatted_code);\n",
       "                        }\n",
       "                        break;\n",
       "                    }\n",
       "                }\n",
       "            }, 500);\n",
       "            "
      ],
      "text/plain": [
       "<IPython.core.display.Javascript object>"
      ]
     },
     "metadata": {},
     "output_type": "display_data"
    }
   ],
   "source": [
    "# Creating lists for each category and sorting by decreasing length and removing duplicates\n",
    "\n",
    "politics_govt_law = [\n",
    "    \"and politician\",\n",
    "    \"First Secretary of the SED fall of the Berlin Wall\",\n",
    "    \"MP for Matale District\",\n",
    "    \"MP for Belfast East\",\n",
    "    \"MP for Brent North\",\n",
    "    \"MP for Marlborough\",\n",
    "    \"oldest modern MP\",\n",
    "    \"MP for Cleveland\",\n",
    "    \"MP for Luanshya\",\n",
    "    \"MP for San José\",\n",
    "    \"MP for Ainamoi\",\n",
    "    \"MP for Leeds\",\n",
    "    \"and MP\",\n",
    "    \"MP\",\n",
    "]\n",
    "politics_govt_law = sorted(\n",
    "    list(set(politics_govt_law)), key=lambda x: len(x), reverse=True\n",
    ")\n",
    "\n",
    "arts = [\n",
    "    \"and author of more than books on chess\",\n",
    "    \"and author\",\n",
    "    \"and short story writer\",\n",
    "    \"and singer songwriter\",\n",
    "    \"and screenplay writer\",\n",
    "    \"singer songwriter\",\n",
    "    \"and travel writer\",\n",
    "    \"and screenwriter\",\n",
    "    \"and story writer\",\n",
    "    \"and manga writer\",\n",
    "    \"and food writer\",\n",
    "    \"dialogue writer\",\n",
    "    \"and songwriter\",\n",
    "    \"Yiddish writer\",\n",
    "    \"fiction writer\",\n",
    "    \"script writer\",\n",
    "    \"comedy writer\",\n",
    "    \"screenwriter\",\n",
    "    \"drama writer\",\n",
    "    \"and writer\",\n",
    "    \"songwriter\",\n",
    "    \"writer\",\n",
    "    \"composer of classical music\",\n",
    "    \"and composer\",\n",
    "    \"composer\",\n",
    "    \"and author of more than books on chess\",\n",
    "    \"co authored Christmas songs\",\n",
    "    \"and science fiction author\",\n",
    "    \"and comics author\",\n",
    "    \"prolific author\",\n",
    "    \"and poet\",\n",
    "    \"poet\",\n",
    "    \"director of original production of\",\n",
    "    \"director of the National Theatre\",\n",
    "    \"and documentary film director\",\n",
    "    \"and film television director\",\n",
    "    \"documentary film director\",\n",
    "    \"and television director\",\n",
    "    \"and artistic director\",\n",
    "    \"and theatre director\",\n",
    "    \"and theater director\",\n",
    "    \"television director\",\n",
    "    \"and opera director\",\n",
    "    \"and stage director\",\n",
    "    \"and film director\",\n",
    "    \"cartoon director\",\n",
    "    \"theater director\",\n",
    "    \"stage director\",\n",
    "    \"music director\",\n",
    "    \"film director\",\n",
    "    \"art director\",\n",
    "    \"and journalist\",\n",
    "    \"journalist\",\n",
    "    \"and actor of Bollywood\",\n",
    "    \"and television actor\",\n",
    "    \"and Broadway actor;\",\n",
    "    \"socialite & actor\",\n",
    "    \"and voice actor\",\n",
    "    \"and actor\",\n",
    "]\n",
    "arts = sorted(list(set(arts)), key=lambda x: len(x), reverse=True)\n",
    "\n",
    "sports = []\n",
    "sports = sorted(list(set(sports)), key=lambda x: len(x), reverse=True)\n",
    "\n",
    "sciences = []\n",
    "sciences = sorted(list(set(sciences)), key=lambda x: len(x), reverse=True)\n",
    "\n",
    "business_farming = []\n",
    "business_farming = sorted(\n",
    "    list(set(business_farming)), key=lambda x: len(x), reverse=True\n",
    ")\n",
    "\n",
    "academia_humanities = []\n",
    "academia_humanities = sorted(\n",
    "    list(set(academia_humanities)), key=lambda x: len(x), reverse=True\n",
    ")\n",
    "\n",
    "law_enf_military_operator = []\n",
    "law_enf_military_operator = sorted(\n",
    "    list(set(law_enf_military_operator)), key=lambda x: len(x), reverse=True\n",
    ")\n",
    "\n",
    "spiritual = []\n",
    "spiritual = sorted(list(set(spiritual)), key=lambda x: len(x), reverse=True)\n",
    "\n",
    "social = []\n",
    "social = sorted(list(set(social)), key=lambda x: len(x), reverse=True)\n",
    "\n",
    "crime = []\n",
    "crime = sorted(list(set(crime)), key=lambda x: len(x), reverse=True)\n",
    "\n",
    "event_record_other = []\n",
    "event_record_other = sorted(\n",
    "    list(set(event_record_other)), key=lambda x: len(x), reverse=True\n",
    ")\n",
    "\n",
    "other_species = []\n",
    "other_species = sorted(list(set(other_species)), key=lambda x: len(x), reverse=True)\n",
    "\n",
    "cause_of_death = [\n",
    "    \"shot\",\n",
    "    \"complications from multiple organ failure\",\n",
    "    \"euthanasia due to multiple organ failure\",\n",
    "    \"multiple organ failure\",\n",
    "    \"suicide by overdose of medication\",\n",
    "    \"suicide by autodefenestration\",\n",
    "    \"suspected suicide by hanging\",\n",
    "    \"physician assisted suicide\",\n",
    "    \"suicide by explosive vest\",\n",
    "    \"suicide by exsanguination\",\n",
    "    \"suicide by asphyxiation\",\n",
    "    \"suicide under a train\",\n",
    "    \"suspected suicide by\",\n",
    "    \"suicide by explosion\",\n",
    "    \"suicide by poisoning\",\n",
    "    \"suicide by car crash\",\n",
    "    \"suicide by drowning\",\n",
    "    \"suicide by overdose\",\n",
    "    \"suicide by hanging\",\n",
    "    \"suicide by jumping\",\n",
    "    \"suspected suicide\",\n",
    "    \"assisted suicide\",\n",
    "    \"suicide by train\",\n",
    "    \"apparent suicide\",\n",
    "    \"alleged suicide\",\n",
    "    \"suicide\",\n",
    "    \"kidney failure caused by diabetes\",\n",
    "    \"kidney failure\",\n",
    "    '\" complications from a fall',\n",
    "    \"complications from a fall\",\n",
    "    \"complications from respiratory failure\",\n",
    "    \"pulmonary respiratory failure\",\n",
    "    \"acute respiratory failure\",\n",
    "    \"respiratory failure\",\n",
    "    \"head injury from a fall at a Rolling Stones concert\",\n",
    "    \"complications from surgery after a fall\",\n",
    "    \"blood clot as a result of a fall\",\n",
    "    \"cerebral haemorrhage after fall\",\n",
    "    \"brain injuries following a fall\",\n",
    "    \"internal bleeding after a fall\",\n",
    "    \"heart arrhythmia after a fall\",\n",
    "    \"injuries sustained in a fall\",\n",
    "    \"head injury following a fall\",\n",
    "    \"broken neck following a fall\",\n",
    "    '\" complications from a fall',\n",
    "    \"following a number of falls\",\n",
    "    \"complications from a fall\",\n",
    "    \"head injuries from a fall\",\n",
    "    \"complications of a fall\",\n",
    "    \"complications from fall\",\n",
    "    \"brain injury from fall\",\n",
    "    \"head injury from fall\",\n",
    "    \"injuries from a fall\",\n",
    "    \"illness after a fall\",\n",
    "    \"mountaineering fall\",\n",
    "    \"fall from tractor\",\n",
    "    \"fall from balcony\",\n",
    "    \"horseriding fall\",\n",
    "    \"fall from a tree\",\n",
    "    \"fall from Lhotse\",\n",
    "    \"fall from ATV\",\n",
    "    \"balcony fall\",\n",
    "    \"ft fall\",\n",
    "    \"complications of treatment for lymphoma\",\n",
    "    \"complications of non Hodgkin lymphoma\",\n",
    "    \"complications from lymphoma\",\n",
    "    \"euthanized due to lymphoma\",\n",
    "    \"large B cell lymphoma\",\n",
    "    \"non Hodgkin lymphoma\",\n",
    "    \"large cell lymphoma\",\n",
    "    \"Hodgkin lymphoma\",\n",
    "    \"Burkitt lymphoma\",\n",
    "    \"lymphoma\",\n",
    "    \"euthanized after contracting laminitis\",\n",
    "    \"euthanized after race injury\",\n",
    "    \"euthanized due to lymphoma\",\n",
    "    \"euthanized by anaesthesia\",\n",
    "    \"euthanized\",\n",
    "    \"complications from a brain tumor\",\n",
    "    \"brain tumor\",\n",
    "    \"light plane crash\",\n",
    "    \"aeroplane crash\",\n",
    "    \"airplane crash\",\n",
    "    \"plane crash\",\n",
    "    \"complications from surgery after a fall\",\n",
    "    \"complications from surgery\",\n",
    "    \"complications from dementia\",\n",
    "    \"illness related to dementia\",\n",
    "    \"complications of dementia\",\n",
    "    \"dementia with Lewy bodies\",\n",
    "    \"frontotemporal dementia\",\n",
    "    \"pugilistic dementia\",\n",
    "    \"Lewy body dementia\",\n",
    "    \"vascular dementia\",\n",
    "    \"dementia\",\n",
    "    \"complications from diabetes\",\n",
    "    \"complications from melanoma\",\n",
    "    \"metastatic melanoma\",\n",
    "    \"ocular melanoma\",\n",
    "    \"melanoma\",\n",
    "    \"helicopter crash\",\n",
    "    \"car accident in Moscow\",\n",
    "    \"car accident\",\n",
    "    \"complications from amyotrophic lateral sclerosis\",\n",
    "    \"amyotrophic lateral sclerosis\",\n",
    "    \"kidney failure caused by diabetes\",\n",
    "    \"illnesses related to diabetes\",\n",
    "    \"complications from diabetes\",\n",
    "    \"complications of diabetes\",\n",
    "    \"Complications of diabetes\",\n",
    "    \"diabetes complications\",\n",
    "    \"diabetes\",\n",
    "    \"after short illness\",\n",
    "    \"complications from kidney disease\",\n",
    "    \"polycystic kidney disease\",\n",
    "    \"kidney disease\",\n",
    "    \"lung infection\",\n",
    "    \"complications of pulmonary emphysema\",\n",
    "    \"emphysema induced infection\",\n",
    "    \"complications of emphysema\",\n",
    "    \"pulmonary emphysema\",\n",
    "    \"emphysema\",\n",
    "    \"complications from multiple myeloma\",\n",
    "    \"multiple myeloma\",\n",
    "    \"drowned in a swimming pool\",\n",
    "    \"drowned\",\n",
    "    \"cerebral hemorrhage\",\n",
    "    \"complications from lung disease\",\n",
    "    \"lung disease\",\n",
    "    \"crushed by tractor\",\n",
    "    \"fall from tractor\",\n",
    "    \"tractor accident\",\n",
    "    \"acute renal failure\",\n",
    "    \"renal failure\",\n",
    "]\n",
    "cause_of_death = sorted(list(set(cause_of_death)), key=lambda x: len(x), reverse=True)"
   ]
  },
  {
   "cell_type": "markdown",
   "id": "ed2f59ab",
   "metadata": {},
   "source": [
    "#### Creating `known_for_dict` Dictionary of Category Keys and Specific Role Lists of Values"
   ]
  },
  {
   "cell_type": "code",
   "execution_count": 130,
   "id": "6b841c7d",
   "metadata": {},
   "outputs": [
    {
     "data": {
      "application/javascript": [
       "\n",
       "            setTimeout(function() {\n",
       "                var nbb_cell_id = 130;\n",
       "                var nbb_unformatted_code = \"# Combining separate lists into one dictionary\\nknown_for_dict = {\\n    \\\"social\\\": social,\\n    \\\"spiritual\\\": spiritual,\\n    \\\"academia_humanities\\\": academia_humanities,\\n    \\\"business_farming\\\": business_farming,\\n    \\\"sciences\\\": sciences,\\n    \\\"politics_govt_law\\\": politics_govt_law,\\n    \\\"law_enf_military_operator\\\": law_enf_military_operator,\\n    \\\"crime\\\": crime,\\n    \\\"event_record_other\\\": event_record_other,\\n    \\\"other_species\\\": other_species,\\n    \\\"arts\\\": arts,\\n    \\\"sports\\\": sports,\\n}\";\n",
       "                var nbb_formatted_code = \"# Combining separate lists into one dictionary\\nknown_for_dict = {\\n    \\\"social\\\": social,\\n    \\\"spiritual\\\": spiritual,\\n    \\\"academia_humanities\\\": academia_humanities,\\n    \\\"business_farming\\\": business_farming,\\n    \\\"sciences\\\": sciences,\\n    \\\"politics_govt_law\\\": politics_govt_law,\\n    \\\"law_enf_military_operator\\\": law_enf_military_operator,\\n    \\\"crime\\\": crime,\\n    \\\"event_record_other\\\": event_record_other,\\n    \\\"other_species\\\": other_species,\\n    \\\"arts\\\": arts,\\n    \\\"sports\\\": sports,\\n}\";\n",
       "                var nbb_cells = Jupyter.notebook.get_cells();\n",
       "                for (var i = 0; i < nbb_cells.length; ++i) {\n",
       "                    if (nbb_cells[i].input_prompt_number == nbb_cell_id) {\n",
       "                        if (nbb_cells[i].get_text() == nbb_unformatted_code) {\n",
       "                             nbb_cells[i].set_text(nbb_formatted_code);\n",
       "                        }\n",
       "                        break;\n",
       "                    }\n",
       "                }\n",
       "            }, 500);\n",
       "            "
      ],
      "text/plain": [
       "<IPython.core.display.Javascript object>"
      ]
     },
     "metadata": {},
     "output_type": "display_data"
    }
   ],
   "source": [
    "# Combining separate lists into one dictionary\n",
    "known_for_dict = {\n",
    "    \"social\": social,\n",
    "    \"spiritual\": spiritual,\n",
    "    \"academia_humanities\": academia_humanities,\n",
    "    \"business_farming\": business_farming,\n",
    "    \"sciences\": sciences,\n",
    "    \"politics_govt_law\": politics_govt_law,\n",
    "    \"law_enf_military_operator\": law_enf_military_operator,\n",
    "    \"crime\": crime,\n",
    "    \"event_record_other\": event_record_other,\n",
    "    \"other_species\": other_species,\n",
    "    \"arts\": arts,\n",
    "    \"sports\": sports,\n",
    "}"
   ]
  },
  {
   "cell_type": "markdown",
   "id": "c48c0b33",
   "metadata": {},
   "source": [
    "#### Extracting `known_for` Categories and `cause_of_death` Values from `info_4_0`"
   ]
  },
  {
   "cell_type": "code",
   "execution_count": 131,
   "id": "3b0cdf50",
   "metadata": {},
   "outputs": [
    {
     "name": "stdout",
     "output_type": "stream",
     "text": [
      "There are 31275 values in cause_of_death column.\n",
      "\n",
      "CPU times: total: 21.5 s\n",
      "Wall time: 21.8 s\n"
     ]
    },
    {
     "data": {
      "application/javascript": [
       "\n",
       "            setTimeout(function() {\n",
       "                var nbb_cell_id = 131;\n",
       "                var nbb_unformatted_code = \"%%time\\n\\n# Column to check\\ncolumn = 'info_4_0'\\n\\n# Start dataframe\\ndataframe = df[df[column].notna()]\\n\\n# For loop to find cause in column and extract it to cause_of_death\\nfor cause in cause_of_death:\\n    for index in dataframe.index:\\n        item = df.loc[index, column]\\n        if item:\\n            if cause in item:\\n                if df.loc[index, 'cause_of_death']:\\n                    df.loc[index, 'cause_of_death'] = df.loc[index, 'cause_of_death'] + '/' + cause\\n                    df.loc[index, column] = item.replace(cause, '').strip()\\n                else:\\n                    df.loc[index, 'cause_of_death'] = cause\\n                    df.loc[index, column] = item.replace(cause, '').strip()\\n                \\n                \\n# For loop to find role in column and extract it as category\\nfor category, category_lst in known_for_dict.items():\\n    for role in category_lst:\\n        for index in dataframe.index:\\n                item = df.loc[index, column]\\n                if item:\\n                    if role in item:\\n                        df.loc[index, category] = 1\\n                        df.loc[index, column] = item.replace(role, '').strip()\\n\\n# Calculating num_categories\\ndf[\\\"num_categories\\\"] = df[known_for_dict.keys()].sum(axis=1)\\n\\n# Checking number of cause_of_death values\\nprint(f'There are {df[\\\"cause_of_death\\\"].notna().sum()} values in cause_of_death column.\\\\n')\";\n",
       "                var nbb_formatted_code = \"%%time\\n\\n# Column to check\\ncolumn = 'info_4_0'\\n\\n# Start dataframe\\ndataframe = df[df[column].notna()]\\n\\n# For loop to find cause in column and extract it to cause_of_death\\nfor cause in cause_of_death:\\n    for index in dataframe.index:\\n        item = df.loc[index, column]\\n        if item:\\n            if cause in item:\\n                if df.loc[index, 'cause_of_death']:\\n                    df.loc[index, 'cause_of_death'] = df.loc[index, 'cause_of_death'] + '/' + cause\\n                    df.loc[index, column] = item.replace(cause, '').strip()\\n                else:\\n                    df.loc[index, 'cause_of_death'] = cause\\n                    df.loc[index, column] = item.replace(cause, '').strip()\\n                \\n                \\n# For loop to find role in column and extract it as category\\nfor category, category_lst in known_for_dict.items():\\n    for role in category_lst:\\n        for index in dataframe.index:\\n                item = df.loc[index, column]\\n                if item:\\n                    if role in item:\\n                        df.loc[index, category] = 1\\n                        df.loc[index, column] = item.replace(role, '').strip()\\n\\n# Calculating num_categories\\ndf[\\\"num_categories\\\"] = df[known_for_dict.keys()].sum(axis=1)\\n\\n# Checking number of cause_of_death values\\nprint(f'There are {df[\\\"cause_of_death\\\"].notna().sum()} values in cause_of_death column.\\\\n')\";\n",
       "                var nbb_cells = Jupyter.notebook.get_cells();\n",
       "                for (var i = 0; i < nbb_cells.length; ++i) {\n",
       "                    if (nbb_cells[i].input_prompt_number == nbb_cell_id) {\n",
       "                        if (nbb_cells[i].get_text() == nbb_unformatted_code) {\n",
       "                             nbb_cells[i].set_text(nbb_formatted_code);\n",
       "                        }\n",
       "                        break;\n",
       "                    }\n",
       "                }\n",
       "            }, 500);\n",
       "            "
      ],
      "text/plain": [
       "<IPython.core.display.Javascript object>"
      ]
     },
     "metadata": {},
     "output_type": "display_data"
    }
   ],
   "source": [
    "%%time\n",
    "\n",
    "# Column to check\n",
    "column = 'info_4_0'\n",
    "\n",
    "# Start dataframe\n",
    "dataframe = df[df[column].notna()]\n",
    "\n",
    "# For loop to find cause in column and extract it to cause_of_death\n",
    "for cause in cause_of_death:\n",
    "    for index in dataframe.index:\n",
    "        item = df.loc[index, column]\n",
    "        if item:\n",
    "            if cause in item:\n",
    "                if df.loc[index, 'cause_of_death']:\n",
    "                    df.loc[index, 'cause_of_death'] = df.loc[index, 'cause_of_death'] + '/' + cause\n",
    "                    df.loc[index, column] = item.replace(cause, '').strip()\n",
    "                else:\n",
    "                    df.loc[index, 'cause_of_death'] = cause\n",
    "                    df.loc[index, column] = item.replace(cause, '').strip()\n",
    "                \n",
    "                \n",
    "# For loop to find role in column and extract it as category\n",
    "for category, category_lst in known_for_dict.items():\n",
    "    for role in category_lst:\n",
    "        for index in dataframe.index:\n",
    "                item = df.loc[index, column]\n",
    "                if item:\n",
    "                    if role in item:\n",
    "                        df.loc[index, category] = 1\n",
    "                        df.loc[index, column] = item.replace(role, '').strip()\n",
    "\n",
    "# Calculating num_categories\n",
    "df[\"num_categories\"] = df[known_for_dict.keys()].sum(axis=1)\n",
    "\n",
    "# Checking number of cause_of_death values\n",
    "print(f'There are {df[\"cause_of_death\"].notna().sum()} values in cause_of_death column.\\n')"
   ]
  },
  {
   "cell_type": "markdown",
   "id": "8d109cfe",
   "metadata": {},
   "source": [
    "#### Checking Updated `num_categories` Value Counts"
   ]
  },
  {
   "cell_type": "code",
   "execution_count": 132,
   "id": "ff53fd4a",
   "metadata": {},
   "outputs": [
    {
     "data": {
      "text/plain": [
       "1    84522\n",
       "2    12634\n",
       "3      867\n",
       "4        9\n",
       "0        8\n",
       "Name: num_categories, dtype: int64"
      ]
     },
     "execution_count": 132,
     "metadata": {},
     "output_type": "execute_result"
    },
    {
     "data": {
      "application/javascript": [
       "\n",
       "            setTimeout(function() {\n",
       "                var nbb_cell_id = 132;\n",
       "                var nbb_unformatted_code = \"# Checking Updated num_categories Value Counts\\ndf[\\\"num_categories\\\"].value_counts()\";\n",
       "                var nbb_formatted_code = \"# Checking Updated num_categories Value Counts\\ndf[\\\"num_categories\\\"].value_counts()\";\n",
       "                var nbb_cells = Jupyter.notebook.get_cells();\n",
       "                for (var i = 0; i < nbb_cells.length; ++i) {\n",
       "                    if (nbb_cells[i].input_prompt_number == nbb_cell_id) {\n",
       "                        if (nbb_cells[i].get_text() == nbb_unformatted_code) {\n",
       "                             nbb_cells[i].set_text(nbb_formatted_code);\n",
       "                        }\n",
       "                        break;\n",
       "                    }\n",
       "                }\n",
       "            }, 500);\n",
       "            "
      ],
      "text/plain": [
       "<IPython.core.display.Javascript object>"
      ]
     },
     "metadata": {},
     "output_type": "display_data"
    }
   ],
   "source": [
    "# Checking Updated num_categories Value Counts\n",
    "df[\"num_categories\"].value_counts()"
   ]
  },
  {
   "cell_type": "markdown",
   "id": "26791699",
   "metadata": {},
   "source": [
    "#### Observations:\n",
    "- We will proceed to rebuild `known_for_dict` and `cause_of_death` for the next iteration."
   ]
  },
  {
   "cell_type": "markdown",
   "id": "2e78c50a",
   "metadata": {},
   "source": [
    "#### Finding `known_for` Roles and `cause_of_death` in `info_4_0`"
   ]
  },
  {
   "cell_type": "code",
   "execution_count": 134,
   "id": "3d24f90e",
   "metadata": {},
   "outputs": [
    {
     "data": {
      "application/javascript": [
       "\n",
       "            setTimeout(function() {\n",
       "                var nbb_cell_id = 134;\n",
       "                var nbb_unformatted_code = \"# Obtaining values for column and their counts\\nroles_cause_list = df[\\\"info_4_0\\\"].value_counts(ascending=True).index.tolist()\";\n",
       "                var nbb_formatted_code = \"# Obtaining values for column and their counts\\nroles_cause_list = df[\\\"info_4_0\\\"].value_counts(ascending=True).index.tolist()\";\n",
       "                var nbb_cells = Jupyter.notebook.get_cells();\n",
       "                for (var i = 0; i < nbb_cells.length; ++i) {\n",
       "                    if (nbb_cells[i].input_prompt_number == nbb_cell_id) {\n",
       "                        if (nbb_cells[i].get_text() == nbb_unformatted_code) {\n",
       "                             nbb_cells[i].set_text(nbb_formatted_code);\n",
       "                        }\n",
       "                        break;\n",
       "                    }\n",
       "                }\n",
       "            }, 500);\n",
       "            "
      ],
      "text/plain": [
       "<IPython.core.display.Javascript object>"
      ]
     },
     "metadata": {},
     "output_type": "display_data"
    }
   ],
   "source": [
    "# # Obtaining values for column and their counts\n",
    "# roles_cause_list = df[\"info_4_0\"].value_counts(ascending=True).index.tolist()"
   ]
  },
  {
   "cell_type": "code",
   "execution_count": 603,
   "id": "56235789",
   "metadata": {},
   "outputs": [
    {
     "data": {
      "application/javascript": [
       "\n",
       "            setTimeout(function() {\n",
       "                var nbb_cell_id = 603;\n",
       "                var nbb_unformatted_code = \"# # Code to check each value\\n# value = roles_cause_list.pop()\\n# value\";\n",
       "                var nbb_formatted_code = \"# # Code to check each value\\n# value = roles_cause_list.pop()\\n# value\";\n",
       "                var nbb_cells = Jupyter.notebook.get_cells();\n",
       "                for (var i = 0; i < nbb_cells.length; ++i) {\n",
       "                    if (nbb_cells[i].input_prompt_number == nbb_cell_id) {\n",
       "                        if (nbb_cells[i].get_text() == nbb_unformatted_code) {\n",
       "                             nbb_cells[i].set_text(nbb_formatted_code);\n",
       "                        }\n",
       "                        break;\n",
       "                    }\n",
       "                }\n",
       "            }, 500);\n",
       "            "
      ],
      "text/plain": [
       "<IPython.core.display.Javascript object>"
      ]
     },
     "metadata": {},
     "output_type": "display_data"
    }
   ],
   "source": [
    "# # Code to check each value\n",
    "# value = roles_cause_list.pop()\n",
    "# value"
   ]
  },
  {
   "cell_type": "code",
   "execution_count": 604,
   "id": "e36cb77c",
   "metadata": {},
   "outputs": [
    {
     "data": {
      "application/javascript": [
       "\n",
       "            setTimeout(function() {\n",
       "                var nbb_cell_id = 604;\n",
       "                var nbb_unformatted_code = \"# # Create specific_roles_cause_list for above popped value\\n# specific_roles_cause_list = (\\n#     df.loc[\\n#         [\\n#             index\\n#             for index in df[df[\\\"info_4_0\\\"].notna()].index\\n#             if value in df.loc[index, \\\"info_4_0\\\"]\\n#         ],\\n#         \\\"info_4_0\\\",\\n#     ]\\n#     .value_counts()\\n#     .index.tolist()\\n# )\";\n",
       "                var nbb_formatted_code = \"# # Create specific_roles_cause_list for above popped value\\n# specific_roles_cause_list = (\\n#     df.loc[\\n#         [\\n#             index\\n#             for index in df[df[\\\"info_4_0\\\"].notna()].index\\n#             if value in df.loc[index, \\\"info_4_0\\\"]\\n#         ],\\n#         \\\"info_4_0\\\",\\n#     ]\\n#     .value_counts()\\n#     .index.tolist()\\n# )\";\n",
       "                var nbb_cells = Jupyter.notebook.get_cells();\n",
       "                for (var i = 0; i < nbb_cells.length; ++i) {\n",
       "                    if (nbb_cells[i].input_prompt_number == nbb_cell_id) {\n",
       "                        if (nbb_cells[i].get_text() == nbb_unformatted_code) {\n",
       "                             nbb_cells[i].set_text(nbb_formatted_code);\n",
       "                        }\n",
       "                        break;\n",
       "                    }\n",
       "                }\n",
       "            }, 500);\n",
       "            "
      ],
      "text/plain": [
       "<IPython.core.display.Javascript object>"
      ]
     },
     "metadata": {},
     "output_type": "display_data"
    }
   ],
   "source": [
    "# # Create specific_roles_cause_list for above popped value\n",
    "# specific_roles_cause_list = (\n",
    "#     df.loc[\n",
    "#         [\n",
    "#             index\n",
    "#             for index in df[df[\"info_4_0\"].notna()].index\n",
    "#             if value in df.loc[index, \"info_4_0\"]\n",
    "#         ],\n",
    "#         \"info_4_0\",\n",
    "#     ]\n",
    "#     .value_counts()\n",
    "#     .index.tolist()\n",
    "# )"
   ]
  },
  {
   "cell_type": "code",
   "execution_count": 605,
   "id": "00f3c2a6",
   "metadata": {},
   "outputs": [
    {
     "data": {
      "application/javascript": [
       "\n",
       "            setTimeout(function() {\n",
       "                var nbb_cell_id = 605;\n",
       "                var nbb_unformatted_code = \"# # Viewing list sorted by descending length to copy to dictionary below and screen values\\n# sorted(specific_roles_cause_list, key=lambda x: len(x), reverse=True)\";\n",
       "                var nbb_formatted_code = \"# # Viewing list sorted by descending length to copy to dictionary below and screen values\\n# sorted(specific_roles_cause_list, key=lambda x: len(x), reverse=True)\";\n",
       "                var nbb_cells = Jupyter.notebook.get_cells();\n",
       "                for (var i = 0; i < nbb_cells.length; ++i) {\n",
       "                    if (nbb_cells[i].input_prompt_number == nbb_cell_id) {\n",
       "                        if (nbb_cells[i].get_text() == nbb_unformatted_code) {\n",
       "                             nbb_cells[i].set_text(nbb_formatted_code);\n",
       "                        }\n",
       "                        break;\n",
       "                    }\n",
       "                }\n",
       "            }, 500);\n",
       "            "
      ],
      "text/plain": [
       "<IPython.core.display.Javascript object>"
      ]
     },
     "metadata": {},
     "output_type": "display_data"
    }
   ],
   "source": [
    "# # Viewing list sorted by descending length to copy to dictionary below and screen values\n",
    "# sorted(specific_roles_cause_list, key=lambda x: len(x), reverse=True)"
   ]
  },
  {
   "cell_type": "code",
   "execution_count": 607,
   "id": "dfc0517a",
   "metadata": {},
   "outputs": [
    {
     "data": {
      "application/javascript": [
       "\n",
       "            setTimeout(function() {\n",
       "                var nbb_cell_id = 607;\n",
       "                var nbb_unformatted_code = \"# # Example code to quick-check a specific entry\\n# df[df[\\\"info_4_0\\\"] == \\\"Ambassador to s\\\"]\";\n",
       "                var nbb_formatted_code = \"# # Example code to quick-check a specific entry\\n# df[df[\\\"info_4_0\\\"] == \\\"Ambassador to s\\\"]\";\n",
       "                var nbb_cells = Jupyter.notebook.get_cells();\n",
       "                for (var i = 0; i < nbb_cells.length; ++i) {\n",
       "                    if (nbb_cells[i].input_prompt_number == nbb_cell_id) {\n",
       "                        if (nbb_cells[i].get_text() == nbb_unformatted_code) {\n",
       "                             nbb_cells[i].set_text(nbb_formatted_code);\n",
       "                        }\n",
       "                        break;\n",
       "                    }\n",
       "                }\n",
       "            }, 500);\n",
       "            "
      ],
      "text/plain": [
       "<IPython.core.display.Javascript object>"
      ]
     },
     "metadata": {},
     "output_type": "display_data"
    }
   ],
   "source": [
    "# # Example code to quick-check a specific entry\n",
    "# df[df[\"info_4_0\"] == \"Ambassador to s\"]"
   ]
  },
  {
   "cell_type": "markdown",
   "id": "0dfdc356",
   "metadata": {},
   "source": [
    "#### Creating Lists for Each `known_for` Category and for `cause_of_death`"
   ]
  },
  {
   "cell_type": "code",
   "execution_count": 608,
   "id": "3e5f6e6a",
   "metadata": {},
   "outputs": [
    {
     "data": {
      "application/javascript": [
       "\n",
       "            setTimeout(function() {\n",
       "                var nbb_cell_id = 608;\n",
       "                var nbb_unformatted_code = \"# Creating lists for each category and sorting by decreasing length and removing duplicates\\n\\npolitics_govt_law = [\\n    \\\"member of the New South Legislative Assembly for Wagga Wagga\\\",\\n    \\\"founder of the New Sicily party\\\",\\n    \\\"co founder of the New Party\\\",\\n    \\\"Administrator of Papua New\\\",\\n    \\\"New Brunswick\\\",\\n    \\\"New Hampshire\\\",\\n    \\\"director of the Human Rights Foundation\\\",\\n    \\\"brother of playwright Larry Kramer\\\",\\n    \\\"and activist\\\",\\n    \\\"Illinois Board\\\",\\n    \\\"Illinois\\\",\\n    \\\"and diplomat\\\",\\n    \\\"diplomat\\\",\\n    \\\"member of the Ohio House of Representatives\\\",\\n    \\\"Ohio\\\",\\n    \\\"and judge\\\",\\n    \\\"Senator from Wisconsin\\\",\\n    \\\"Senator for City\\\",\\n    \\\"Senator\\\",\\n    \\\"outspoken critic of The Troubles\\\",\\n    \\\"anti communist politician\\\",\\n    \\\"and local politician\\\",\\n    \\\"politician\\\",\\n    \\\"Deputy Chief Minister\\\",\\n    \\\"Deputy Premier\\\",\\n    \\\"Deputy\\\",\\n    \\\"member of the North Carolina House of Representatives\\\",\\n    \\\"Ambassador to the Holy See and\\\",\\n    \\\"Ambassador to Micronesia\\\",\\n    \\\"Ambassador to and\\\",\\n    \\\"Ambassador to the\\\",\\n    \\\"Ambassador to s\\\",\\n    \\\"Ambassador to\\\",\\n]\\npolitics_govt_law = sorted(\\n    list(set(politics_govt_law)), key=lambda x: len(x), reverse=True\\n)\\n\\narts = [\\n    \\\"author of instructional books on contract bridge\\\",\\n    \\\"and medical textbook author\\\",\\n    \\\"Chopin authority\\\",\\n    \\\"author of\\\",\\n    \\\"author\\\",\\n    \\\"founder of Theatre New Brunswick\\\",\\n    \\\"President of CBS News\\\",\\n    \\\"Newport Folk Festival\\\",\\n    \\\"Poet Laureate of New\\\",\\n    \\\"director of Folk Alliance International\\\",\\n    \\\"ex wife of actor Peter Lawford\\\",\\n    \\\"musical arranger for the Hi Los\\\",\\n    \\\"and arranger\\\",\\n    \\\"arranger\\\",\\n    \\\"and producer\\\",\\n    \\\"and playwright\\\",\\n    \\\"lead singer for The Ramones\\\",\\n    \\\"and Kunqu opera singer\\\",\\n    \\\"and folk singer\\\",\\n    \\\"and singer\\\",\\n    \\\"singer\\\",\\n    \\\"and novelist\\\",\\n    \\\"novelist\\\",\\n    \\\"and painter\\\",\\n    \\\"and producer of light music\\\",\\n    \\\"and theatrical producer\\\",\\n    \\\"and television producer\\\",\\n    \\\"and record producer\\\",\\n    \\\"and radio producer\\\",\\n    \\\"and film producer\\\",\\n    \\\"record producer\\\",\\n    \\\"video producer\\\",\\n    \\\"and producer\\\",\\n    \\\"producer\\\",\\n    \\\"editor in chief of magazine\\\",\\n    \\\"editor in chief of\\\",\\n    \\\"and editor of the\\\",\\n    \\\"newspaper editor\\\",\\n    \\\"and film editor\\\",\\n    \\\"editor of the\\\",\\n    \\\"and editor\\\",\\n    \\\"editor\\\",\\n    \\\"and playwright\\\",\\n    \\\"and essayist\\\",\\n    \\\"essayist\\\",\\n    \\\"and actress\\\",\\n    \\\"and photographer\\\",\\n    \\\"photographer\\\",\\n    \\\"and musician\\\",\\n    \\\"and artist\\\",\\n    \\\"and pianist\\\",\\n    \\\"pianist\\\",\\n    \\\"and publisher\\\",\\n    \\\"publisher\\\",\\n    \\\"and orchestra conductor\\\",\\n    \\\"and choral conductor\\\",\\n    \\\"and conductor\\\",\\n    \\\"conductor\\\",\\n    \\\"and television personality\\\",\\n    \\\"and a major figure in the advancement of crafts as a serious artistic discipline\\\",\\n    \\\"and installation artist\\\",\\n    \\\"and movie poster artist\\\",\\n    \\\"and performance artist\\\",\\n    \\\"and recording artist\\\",\\n    \\\"and ceramic artist\\\",\\n    \\\"and graphic artist\\\",\\n    \\\"and visual artist\\\",\\n    \\\"graphic artist\\\",\\n    \\\"visual artist\\\",\\n    \\\"video artist\\\",\\n    \\\"and artist\\\",\\n    \\\"artist\\\",\\n    \\\"principal dancer with the Royal Ballet\\\",\\n    \\\"and traditional dancer\\\",\\n    \\\"and dancer\\\",\\n    \\\"dancer\\\",\\n    \\\"Miss North Carolina\\\",\\n]\\narts = sorted(list(set(arts)), key=lambda x: len(x), reverse=True)\\n\\nsports = [\\n    \\\"and athletic director\\\",\\n    \\\"coach at Arizona State University\\\",\\n]\\nsports = sorted(list(set(sports)), key=lambda x: len(x), reverse=True)\\n\\nsciences = [\\n    \\\"flight director\\\",\\n]\\nsciences = sorted(list(set(sciences)), key=lambda x: len(x), reverse=True)\\n\\nbusiness_farming = [\\\"Allstream Inc\\\", \\\"Inc\\\", \\\"and businessman\\\"]\\nbusiness_farming = sorted(\\n    list(set(business_farming)), key=lambda x: len(x), reverse=True\\n)\\n\\nacademia_humanities = [\\n    \\\"and Warden of New College\\\",\\n    \\\"and museum director\\\",\\n    \\\"and historian of language\\\",\\n    \\\"military historian\\\",\\n    \\\"and science fiction historian\\\",\\n    \\\"and music historian\\\",\\n    \\\"and art historian\\\",\\n    \\\"chess historian\\\",\\n    \\\"and historian\\\",\\n    \\\"art historian\\\",\\n    \\\"historian\\\",\\n    \\\"and teacher\\\",\\n    \\\"and academic administrator\\\",\\n    \\\"and academic\\\",\\n    \\\"later served as University of Massachusetts President\\\",\\n    \\\"and music educator\\\",\\n    \\\"and sex educator\\\",\\n    \\\"music educator\\\",\\n    \\\"and educator\\\",\\n    \\\"educator\\\",\\n    \\\"and theatre teacher\\\",\\n    \\\"and acting teacher\\\",\\n    \\\"and vocal teacher\\\",\\n    \\\"and music teacher\\\",\\n    \\\"and art teacher\\\",\\n    \\\"and teacher\\\",\\n    \\\"teacher\\\",\\n    \\\"and translator\\\",\\n    \\\"translator\\\",\\n    \\\"Cambridge\\\",\\n    \\\"and professor of archaeology at University\\\",\\n    \\\"and professor at Tsinghua University\\\",\\n    \\\"and professor at Hebrew University\\\",\\n    \\\"and professor of literature\\\",\\n    \\\"and professor at MIT\\\",\\n    \\\"and professor\\\",\\n]\\nacademia_humanities = sorted(\\n    list(set(academia_humanities)), key=lambda x: len(x), reverse=True\\n)\\n\\nlaw_enf_military_operator = [\\n    \\\"and military subcontractor\\\",\\n]\\nlaw_enf_military_operator = sorted(\\n    list(set(law_enf_military_operator)), key=lambda x: len(x), reverse=True\\n)\\n\\nspiritual = []\\nspiritual = sorted(list(set(spiritual)), key=lambda x: len(x), reverse=True)\\n\\nsocial = [\\\"and director of Catholic Relief Services\\\", \\\"and philanthropist\\\"]\\nsocial = sorted(list(set(social)), key=lambda x: len(x), reverse=True)\\n\\ncrime = []\\ncrime = sorted(list(set(crime)), key=lambda x: len(x), reverse=True)\\n\\nevent_record_other = []\\nevent_record_other = sorted(\\n    list(set(event_record_other)), key=lambda x: len(x), reverse=True\\n)\\n\\nother_species = []\\nother_species = sorted(list(set(other_species)), key=lambda x: len(x), reverse=True)\\n\\ncause_of_death = [\\n    \\\"fall\\\",\\n    \\\"stabbed\\\",\\n    \\\"complications from pulmonary fibrosis\\\",\\n    \\\"idiopathic pulmonary fibrosis\\\",\\n    \\\"pulmonary fibrosis\\\",\\n    \\\"complications from heart surgery\\\",\\n    \\\"complications from liver failure\\\",\\n    \\\"acute liver failure\\\",\\n    \\\"liver failure\\\",\\n    \\\"complications from a brain tumour\\\",\\n    \\\"brain tumour\\\",\\n    \\\"complications from a brain hemorrhage\\\",\\n    \\\"brain hemorrhage\\\",\\n    \\\"homicide\\\",\\n    \\\"complications from motor neurone disease\\\",\\n    \\\"motor neurone disease\\\",\\n    \\\"injuries sustained in Brussels Airport bombings\\\",\\n    \\\"victim of Batasang Pambansa bombing\\\",\\n    \\\"injuries sustained in bombing\\\",\\n    \\\"bombing\\\",\\n    \\\"complications from pulmonary embolism\\\",\\n    \\\"pulmonary embolism\\\",\\n    \\\"sepsis complicated by a urinary tract infection\\\",\\n    \\\"complications from sepsis\\\",\\n    \\\"sepsis\\\",\\n    \\\"drone airstrike\\\",\\n    \\\"airstrike\\\",\\n    \\\"complications from heart bypass surgery\\\",\\n    \\\"complications from heart valve failure\\\",\\n    \\\"complications following heart surgery\\\",\\n    \\\"complications during heart surgery\\\",\\n    \\\"complications after heart surgery\\\",\\n    \\\"complications from heart surgery\\\",\\n    \\\"complications of heart surgery\\\",\\n    \\\"infection after heart surgery\\\",\\n    \\\"following open heart surgery\\\",\\n    \\\"heart surgery complications\\\",\\n    \\\"complications from heart\\\",\\n    \\\"heart related problems\\\",\\n    \\\"heart complications\\\",\\n    \\\"heart arrhythmia\\\",\\n    \\\"heart condition\\\",\\n    \\\"heart problems\\\",\\n    \\\"heart ailments\\\",\\n    \\\"heart ailment\\\",\\n    \\\"heart illness\\\",\\n    \\\"heart\\\",\\n    \\\"complications from a brain haemorrhage\\\",\\n    \\\"complications from brain haemorrhage\\\",\\n    \\\"brain haemorrhage following bout\\\",\\n    \\\"suspected brain haemorrhage\\\",\\n    \\\"brain haemorrhage\\\",\\n    \\\"complications from leukaemia\\\",\\n    \\\"acute myeloid leukaemia\\\",\\n    \\\"leukaemia\\\",\\n    \\\"complications from ruptured brain aneurysm\\\",\\n    \\\"complications of aortic aneurysm surgery\\\",\\n    \\\"abdominal aortic aneurysm\\\",\\n    \\\"ruptured aortic aneurysm\\\",\\n    \\\"ruptured aneurysm\\\",\\n    \\\"aortic aneurysm\\\",\\n    \\\"brain aneurysm\\\",\\n    \\\"aneurysm\\\",\\n    \\\"complications from liver disease\\\",\\n    \\\"complications of liver disease\\\",\\n    \\\"alcoholic liver disease\\\",\\n    \\\"liver disease\\\",\\n    \\\"execution by hanging\\\",\\n    \\\"mesothelioma\\\",\\n    \\\"complications of aortic aneurysm surgery\\\",\\n    \\\"abdominal aortic aneurysm\\\",\\n    \\\"ruptured aortic aneurysm\\\",\\n    \\\"aortic aneurysm\\\",\\n    \\\"complications from myelodysplastic syndrome\\\",\\n    \\\"myelodysplastic syndrome\\\",\\n    \\\"murdered his wife Annie Leong\\\",\\n    \\\"murdered by an assailant\\\",\\n    \\\"murdered by the FARC\\\",\\n    \\\"murdered\\\",\\n    \\\"complications from septic shock\\\",\\n    \\\"septic shock\\\",\\n    \\\"car crash while leading police on chase\\\",\\n    \\\"car crash\\\",\\n    \\\"glioblastoma\\\",\\n    \\\"accidental drowning\\\",\\n    \\\"drowning\\\",\\n    \\\"complications from COPD\\\",\\n    \\\"COPD\\\",\\n    \\\"complications from cirrhosis\\\",\\n    \\\"liver cirrhosis\\\",\\n    \\\"cirrhosis\\\",\\n    \\\"complications of organ failure\\\",\\n    \\\"organ failure\\\",\\n    \\\"AIDS related complications\\\",\\n]\\ncause_of_death = sorted(list(set(cause_of_death)), key=lambda x: len(x), reverse=True)\";\n",
       "                var nbb_formatted_code = \"# Creating lists for each category and sorting by decreasing length and removing duplicates\\n\\npolitics_govt_law = [\\n    \\\"member of the New South Legislative Assembly for Wagga Wagga\\\",\\n    \\\"founder of the New Sicily party\\\",\\n    \\\"co founder of the New Party\\\",\\n    \\\"Administrator of Papua New\\\",\\n    \\\"New Brunswick\\\",\\n    \\\"New Hampshire\\\",\\n    \\\"director of the Human Rights Foundation\\\",\\n    \\\"brother of playwright Larry Kramer\\\",\\n    \\\"and activist\\\",\\n    \\\"Illinois Board\\\",\\n    \\\"Illinois\\\",\\n    \\\"and diplomat\\\",\\n    \\\"diplomat\\\",\\n    \\\"member of the Ohio House of Representatives\\\",\\n    \\\"Ohio\\\",\\n    \\\"and judge\\\",\\n    \\\"Senator from Wisconsin\\\",\\n    \\\"Senator for City\\\",\\n    \\\"Senator\\\",\\n    \\\"outspoken critic of The Troubles\\\",\\n    \\\"anti communist politician\\\",\\n    \\\"and local politician\\\",\\n    \\\"politician\\\",\\n    \\\"Deputy Chief Minister\\\",\\n    \\\"Deputy Premier\\\",\\n    \\\"Deputy\\\",\\n    \\\"member of the North Carolina House of Representatives\\\",\\n    \\\"Ambassador to the Holy See and\\\",\\n    \\\"Ambassador to Micronesia\\\",\\n    \\\"Ambassador to and\\\",\\n    \\\"Ambassador to the\\\",\\n    \\\"Ambassador to s\\\",\\n    \\\"Ambassador to\\\",\\n]\\npolitics_govt_law = sorted(\\n    list(set(politics_govt_law)), key=lambda x: len(x), reverse=True\\n)\\n\\narts = [\\n    \\\"author of instructional books on contract bridge\\\",\\n    \\\"and medical textbook author\\\",\\n    \\\"Chopin authority\\\",\\n    \\\"author of\\\",\\n    \\\"author\\\",\\n    \\\"founder of Theatre New Brunswick\\\",\\n    \\\"President of CBS News\\\",\\n    \\\"Newport Folk Festival\\\",\\n    \\\"Poet Laureate of New\\\",\\n    \\\"director of Folk Alliance International\\\",\\n    \\\"ex wife of actor Peter Lawford\\\",\\n    \\\"musical arranger for the Hi Los\\\",\\n    \\\"and arranger\\\",\\n    \\\"arranger\\\",\\n    \\\"and producer\\\",\\n    \\\"and playwright\\\",\\n    \\\"lead singer for The Ramones\\\",\\n    \\\"and Kunqu opera singer\\\",\\n    \\\"and folk singer\\\",\\n    \\\"and singer\\\",\\n    \\\"singer\\\",\\n    \\\"and novelist\\\",\\n    \\\"novelist\\\",\\n    \\\"and painter\\\",\\n    \\\"and producer of light music\\\",\\n    \\\"and theatrical producer\\\",\\n    \\\"and television producer\\\",\\n    \\\"and record producer\\\",\\n    \\\"and radio producer\\\",\\n    \\\"and film producer\\\",\\n    \\\"record producer\\\",\\n    \\\"video producer\\\",\\n    \\\"and producer\\\",\\n    \\\"producer\\\",\\n    \\\"editor in chief of magazine\\\",\\n    \\\"editor in chief of\\\",\\n    \\\"and editor of the\\\",\\n    \\\"newspaper editor\\\",\\n    \\\"and film editor\\\",\\n    \\\"editor of the\\\",\\n    \\\"and editor\\\",\\n    \\\"editor\\\",\\n    \\\"and playwright\\\",\\n    \\\"and essayist\\\",\\n    \\\"essayist\\\",\\n    \\\"and actress\\\",\\n    \\\"and photographer\\\",\\n    \\\"photographer\\\",\\n    \\\"and musician\\\",\\n    \\\"and artist\\\",\\n    \\\"and pianist\\\",\\n    \\\"pianist\\\",\\n    \\\"and publisher\\\",\\n    \\\"publisher\\\",\\n    \\\"and orchestra conductor\\\",\\n    \\\"and choral conductor\\\",\\n    \\\"and conductor\\\",\\n    \\\"conductor\\\",\\n    \\\"and television personality\\\",\\n    \\\"and a major figure in the advancement of crafts as a serious artistic discipline\\\",\\n    \\\"and installation artist\\\",\\n    \\\"and movie poster artist\\\",\\n    \\\"and performance artist\\\",\\n    \\\"and recording artist\\\",\\n    \\\"and ceramic artist\\\",\\n    \\\"and graphic artist\\\",\\n    \\\"and visual artist\\\",\\n    \\\"graphic artist\\\",\\n    \\\"visual artist\\\",\\n    \\\"video artist\\\",\\n    \\\"and artist\\\",\\n    \\\"artist\\\",\\n    \\\"principal dancer with the Royal Ballet\\\",\\n    \\\"and traditional dancer\\\",\\n    \\\"and dancer\\\",\\n    \\\"dancer\\\",\\n    \\\"Miss North Carolina\\\",\\n]\\narts = sorted(list(set(arts)), key=lambda x: len(x), reverse=True)\\n\\nsports = [\\n    \\\"and athletic director\\\",\\n    \\\"coach at Arizona State University\\\",\\n]\\nsports = sorted(list(set(sports)), key=lambda x: len(x), reverse=True)\\n\\nsciences = [\\n    \\\"flight director\\\",\\n]\\nsciences = sorted(list(set(sciences)), key=lambda x: len(x), reverse=True)\\n\\nbusiness_farming = [\\\"Allstream Inc\\\", \\\"Inc\\\", \\\"and businessman\\\"]\\nbusiness_farming = sorted(\\n    list(set(business_farming)), key=lambda x: len(x), reverse=True\\n)\\n\\nacademia_humanities = [\\n    \\\"and Warden of New College\\\",\\n    \\\"and museum director\\\",\\n    \\\"and historian of language\\\",\\n    \\\"military historian\\\",\\n    \\\"and science fiction historian\\\",\\n    \\\"and music historian\\\",\\n    \\\"and art historian\\\",\\n    \\\"chess historian\\\",\\n    \\\"and historian\\\",\\n    \\\"art historian\\\",\\n    \\\"historian\\\",\\n    \\\"and teacher\\\",\\n    \\\"and academic administrator\\\",\\n    \\\"and academic\\\",\\n    \\\"later served as University of Massachusetts President\\\",\\n    \\\"and music educator\\\",\\n    \\\"and sex educator\\\",\\n    \\\"music educator\\\",\\n    \\\"and educator\\\",\\n    \\\"educator\\\",\\n    \\\"and theatre teacher\\\",\\n    \\\"and acting teacher\\\",\\n    \\\"and vocal teacher\\\",\\n    \\\"and music teacher\\\",\\n    \\\"and art teacher\\\",\\n    \\\"and teacher\\\",\\n    \\\"teacher\\\",\\n    \\\"and translator\\\",\\n    \\\"translator\\\",\\n    \\\"Cambridge\\\",\\n    \\\"and professor of archaeology at University\\\",\\n    \\\"and professor at Tsinghua University\\\",\\n    \\\"and professor at Hebrew University\\\",\\n    \\\"and professor of literature\\\",\\n    \\\"and professor at MIT\\\",\\n    \\\"and professor\\\",\\n]\\nacademia_humanities = sorted(\\n    list(set(academia_humanities)), key=lambda x: len(x), reverse=True\\n)\\n\\nlaw_enf_military_operator = [\\n    \\\"and military subcontractor\\\",\\n]\\nlaw_enf_military_operator = sorted(\\n    list(set(law_enf_military_operator)), key=lambda x: len(x), reverse=True\\n)\\n\\nspiritual = []\\nspiritual = sorted(list(set(spiritual)), key=lambda x: len(x), reverse=True)\\n\\nsocial = [\\\"and director of Catholic Relief Services\\\", \\\"and philanthropist\\\"]\\nsocial = sorted(list(set(social)), key=lambda x: len(x), reverse=True)\\n\\ncrime = []\\ncrime = sorted(list(set(crime)), key=lambda x: len(x), reverse=True)\\n\\nevent_record_other = []\\nevent_record_other = sorted(\\n    list(set(event_record_other)), key=lambda x: len(x), reverse=True\\n)\\n\\nother_species = []\\nother_species = sorted(list(set(other_species)), key=lambda x: len(x), reverse=True)\\n\\ncause_of_death = [\\n    \\\"fall\\\",\\n    \\\"stabbed\\\",\\n    \\\"complications from pulmonary fibrosis\\\",\\n    \\\"idiopathic pulmonary fibrosis\\\",\\n    \\\"pulmonary fibrosis\\\",\\n    \\\"complications from heart surgery\\\",\\n    \\\"complications from liver failure\\\",\\n    \\\"acute liver failure\\\",\\n    \\\"liver failure\\\",\\n    \\\"complications from a brain tumour\\\",\\n    \\\"brain tumour\\\",\\n    \\\"complications from a brain hemorrhage\\\",\\n    \\\"brain hemorrhage\\\",\\n    \\\"homicide\\\",\\n    \\\"complications from motor neurone disease\\\",\\n    \\\"motor neurone disease\\\",\\n    \\\"injuries sustained in Brussels Airport bombings\\\",\\n    \\\"victim of Batasang Pambansa bombing\\\",\\n    \\\"injuries sustained in bombing\\\",\\n    \\\"bombing\\\",\\n    \\\"complications from pulmonary embolism\\\",\\n    \\\"pulmonary embolism\\\",\\n    \\\"sepsis complicated by a urinary tract infection\\\",\\n    \\\"complications from sepsis\\\",\\n    \\\"sepsis\\\",\\n    \\\"drone airstrike\\\",\\n    \\\"airstrike\\\",\\n    \\\"complications from heart bypass surgery\\\",\\n    \\\"complications from heart valve failure\\\",\\n    \\\"complications following heart surgery\\\",\\n    \\\"complications during heart surgery\\\",\\n    \\\"complications after heart surgery\\\",\\n    \\\"complications from heart surgery\\\",\\n    \\\"complications of heart surgery\\\",\\n    \\\"infection after heart surgery\\\",\\n    \\\"following open heart surgery\\\",\\n    \\\"heart surgery complications\\\",\\n    \\\"complications from heart\\\",\\n    \\\"heart related problems\\\",\\n    \\\"heart complications\\\",\\n    \\\"heart arrhythmia\\\",\\n    \\\"heart condition\\\",\\n    \\\"heart problems\\\",\\n    \\\"heart ailments\\\",\\n    \\\"heart ailment\\\",\\n    \\\"heart illness\\\",\\n    \\\"heart\\\",\\n    \\\"complications from a brain haemorrhage\\\",\\n    \\\"complications from brain haemorrhage\\\",\\n    \\\"brain haemorrhage following bout\\\",\\n    \\\"suspected brain haemorrhage\\\",\\n    \\\"brain haemorrhage\\\",\\n    \\\"complications from leukaemia\\\",\\n    \\\"acute myeloid leukaemia\\\",\\n    \\\"leukaemia\\\",\\n    \\\"complications from ruptured brain aneurysm\\\",\\n    \\\"complications of aortic aneurysm surgery\\\",\\n    \\\"abdominal aortic aneurysm\\\",\\n    \\\"ruptured aortic aneurysm\\\",\\n    \\\"ruptured aneurysm\\\",\\n    \\\"aortic aneurysm\\\",\\n    \\\"brain aneurysm\\\",\\n    \\\"aneurysm\\\",\\n    \\\"complications from liver disease\\\",\\n    \\\"complications of liver disease\\\",\\n    \\\"alcoholic liver disease\\\",\\n    \\\"liver disease\\\",\\n    \\\"execution by hanging\\\",\\n    \\\"mesothelioma\\\",\\n    \\\"complications of aortic aneurysm surgery\\\",\\n    \\\"abdominal aortic aneurysm\\\",\\n    \\\"ruptured aortic aneurysm\\\",\\n    \\\"aortic aneurysm\\\",\\n    \\\"complications from myelodysplastic syndrome\\\",\\n    \\\"myelodysplastic syndrome\\\",\\n    \\\"murdered his wife Annie Leong\\\",\\n    \\\"murdered by an assailant\\\",\\n    \\\"murdered by the FARC\\\",\\n    \\\"murdered\\\",\\n    \\\"complications from septic shock\\\",\\n    \\\"septic shock\\\",\\n    \\\"car crash while leading police on chase\\\",\\n    \\\"car crash\\\",\\n    \\\"glioblastoma\\\",\\n    \\\"accidental drowning\\\",\\n    \\\"drowning\\\",\\n    \\\"complications from COPD\\\",\\n    \\\"COPD\\\",\\n    \\\"complications from cirrhosis\\\",\\n    \\\"liver cirrhosis\\\",\\n    \\\"cirrhosis\\\",\\n    \\\"complications of organ failure\\\",\\n    \\\"organ failure\\\",\\n    \\\"AIDS related complications\\\",\\n]\\ncause_of_death = sorted(list(set(cause_of_death)), key=lambda x: len(x), reverse=True)\";\n",
       "                var nbb_cells = Jupyter.notebook.get_cells();\n",
       "                for (var i = 0; i < nbb_cells.length; ++i) {\n",
       "                    if (nbb_cells[i].input_prompt_number == nbb_cell_id) {\n",
       "                        if (nbb_cells[i].get_text() == nbb_unformatted_code) {\n",
       "                             nbb_cells[i].set_text(nbb_formatted_code);\n",
       "                        }\n",
       "                        break;\n",
       "                    }\n",
       "                }\n",
       "            }, 500);\n",
       "            "
      ],
      "text/plain": [
       "<IPython.core.display.Javascript object>"
      ]
     },
     "metadata": {},
     "output_type": "display_data"
    }
   ],
   "source": [
    "# Creating lists for each category and sorting by decreasing length and removing duplicates\n",
    "\n",
    "politics_govt_law = [\n",
    "    \"member of the New South Legislative Assembly for Wagga Wagga\",\n",
    "    \"founder of the New Sicily party\",\n",
    "    \"co founder of the New Party\",\n",
    "    \"Administrator of Papua New\",\n",
    "    \"New Brunswick\",\n",
    "    \"New Hampshire\",\n",
    "    \"director of the Human Rights Foundation\",\n",
    "    \"brother of playwright Larry Kramer\",\n",
    "    \"and activist\",\n",
    "    \"Illinois Board\",\n",
    "    \"Illinois\",\n",
    "    \"and diplomat\",\n",
    "    \"diplomat\",\n",
    "    \"member of the Ohio House of Representatives\",\n",
    "    \"Ohio\",\n",
    "    \"and judge\",\n",
    "    \"Senator from Wisconsin\",\n",
    "    \"Senator for City\",\n",
    "    \"Senator\",\n",
    "    \"outspoken critic of The Troubles\",\n",
    "    \"anti communist politician\",\n",
    "    \"and local politician\",\n",
    "    \"politician\",\n",
    "    \"Deputy Chief Minister\",\n",
    "    \"Deputy Premier\",\n",
    "    \"Deputy\",\n",
    "    \"member of the North Carolina House of Representatives\",\n",
    "    \"Ambassador to the Holy See and\",\n",
    "    \"Ambassador to Micronesia\",\n",
    "    \"Ambassador to and\",\n",
    "    \"Ambassador to the\",\n",
    "    \"Ambassador to s\",\n",
    "    \"Ambassador to\",\n",
    "]\n",
    "politics_govt_law = sorted(\n",
    "    list(set(politics_govt_law)), key=lambda x: len(x), reverse=True\n",
    ")\n",
    "\n",
    "arts = [\n",
    "    \"author of instructional books on contract bridge\",\n",
    "    \"and medical textbook author\",\n",
    "    \"Chopin authority\",\n",
    "    \"author of\",\n",
    "    \"author\",\n",
    "    \"founder of Theatre New Brunswick\",\n",
    "    \"President of CBS News\",\n",
    "    \"Newport Folk Festival\",\n",
    "    \"Poet Laureate of New\",\n",
    "    \"director of Folk Alliance International\",\n",
    "    \"ex wife of actor Peter Lawford\",\n",
    "    \"musical arranger for the Hi Los\",\n",
    "    \"and arranger\",\n",
    "    \"arranger\",\n",
    "    \"and producer\",\n",
    "    \"and playwright\",\n",
    "    \"lead singer for The Ramones\",\n",
    "    \"and Kunqu opera singer\",\n",
    "    \"and folk singer\",\n",
    "    \"and singer\",\n",
    "    \"singer\",\n",
    "    \"and novelist\",\n",
    "    \"novelist\",\n",
    "    \"and painter\",\n",
    "    \"and producer of light music\",\n",
    "    \"and theatrical producer\",\n",
    "    \"and television producer\",\n",
    "    \"and record producer\",\n",
    "    \"and radio producer\",\n",
    "    \"and film producer\",\n",
    "    \"record producer\",\n",
    "    \"video producer\",\n",
    "    \"and producer\",\n",
    "    \"producer\",\n",
    "    \"editor in chief of magazine\",\n",
    "    \"editor in chief of\",\n",
    "    \"and editor of the\",\n",
    "    \"newspaper editor\",\n",
    "    \"and film editor\",\n",
    "    \"editor of the\",\n",
    "    \"and editor\",\n",
    "    \"editor\",\n",
    "    \"and playwright\",\n",
    "    \"and essayist\",\n",
    "    \"essayist\",\n",
    "    \"and actress\",\n",
    "    \"and photographer\",\n",
    "    \"photographer\",\n",
    "    \"and musician\",\n",
    "    \"and artist\",\n",
    "    \"and pianist\",\n",
    "    \"pianist\",\n",
    "    \"and publisher\",\n",
    "    \"publisher\",\n",
    "    \"and orchestra conductor\",\n",
    "    \"and choral conductor\",\n",
    "    \"and conductor\",\n",
    "    \"conductor\",\n",
    "    \"and television personality\",\n",
    "    \"and a major figure in the advancement of crafts as a serious artistic discipline\",\n",
    "    \"and installation artist\",\n",
    "    \"and movie poster artist\",\n",
    "    \"and performance artist\",\n",
    "    \"and recording artist\",\n",
    "    \"and ceramic artist\",\n",
    "    \"and graphic artist\",\n",
    "    \"and visual artist\",\n",
    "    \"graphic artist\",\n",
    "    \"visual artist\",\n",
    "    \"video artist\",\n",
    "    \"and artist\",\n",
    "    \"artist\",\n",
    "    \"principal dancer with the Royal Ballet\",\n",
    "    \"and traditional dancer\",\n",
    "    \"and dancer\",\n",
    "    \"dancer\",\n",
    "    \"Miss North Carolina\",\n",
    "]\n",
    "arts = sorted(list(set(arts)), key=lambda x: len(x), reverse=True)\n",
    "\n",
    "sports = [\n",
    "    \"and athletic director\",\n",
    "    \"coach at Arizona State University\",\n",
    "]\n",
    "sports = sorted(list(set(sports)), key=lambda x: len(x), reverse=True)\n",
    "\n",
    "sciences = [\n",
    "    \"flight director\",\n",
    "]\n",
    "sciences = sorted(list(set(sciences)), key=lambda x: len(x), reverse=True)\n",
    "\n",
    "business_farming = [\"Allstream Inc\", \"Inc\", \"and businessman\"]\n",
    "business_farming = sorted(\n",
    "    list(set(business_farming)), key=lambda x: len(x), reverse=True\n",
    ")\n",
    "\n",
    "academia_humanities = [\n",
    "    \"and Warden of New College\",\n",
    "    \"and museum director\",\n",
    "    \"and historian of language\",\n",
    "    \"military historian\",\n",
    "    \"and science fiction historian\",\n",
    "    \"and music historian\",\n",
    "    \"and art historian\",\n",
    "    \"chess historian\",\n",
    "    \"and historian\",\n",
    "    \"art historian\",\n",
    "    \"historian\",\n",
    "    \"and teacher\",\n",
    "    \"and academic administrator\",\n",
    "    \"and academic\",\n",
    "    \"later served as University of Massachusetts President\",\n",
    "    \"and music educator\",\n",
    "    \"and sex educator\",\n",
    "    \"music educator\",\n",
    "    \"and educator\",\n",
    "    \"educator\",\n",
    "    \"and theatre teacher\",\n",
    "    \"and acting teacher\",\n",
    "    \"and vocal teacher\",\n",
    "    \"and music teacher\",\n",
    "    \"and art teacher\",\n",
    "    \"and teacher\",\n",
    "    \"teacher\",\n",
    "    \"and translator\",\n",
    "    \"translator\",\n",
    "    \"Cambridge\",\n",
    "    \"and professor of archaeology at University\",\n",
    "    \"and professor at Tsinghua University\",\n",
    "    \"and professor at Hebrew University\",\n",
    "    \"and professor of literature\",\n",
    "    \"and professor at MIT\",\n",
    "    \"and professor\",\n",
    "]\n",
    "academia_humanities = sorted(\n",
    "    list(set(academia_humanities)), key=lambda x: len(x), reverse=True\n",
    ")\n",
    "\n",
    "law_enf_military_operator = [\n",
    "    \"and military subcontractor\",\n",
    "]\n",
    "law_enf_military_operator = sorted(\n",
    "    list(set(law_enf_military_operator)), key=lambda x: len(x), reverse=True\n",
    ")\n",
    "\n",
    "spiritual = []\n",
    "spiritual = sorted(list(set(spiritual)), key=lambda x: len(x), reverse=True)\n",
    "\n",
    "social = [\"and director of Catholic Relief Services\", \"and philanthropist\"]\n",
    "social = sorted(list(set(social)), key=lambda x: len(x), reverse=True)\n",
    "\n",
    "crime = []\n",
    "crime = sorted(list(set(crime)), key=lambda x: len(x), reverse=True)\n",
    "\n",
    "event_record_other = []\n",
    "event_record_other = sorted(\n",
    "    list(set(event_record_other)), key=lambda x: len(x), reverse=True\n",
    ")\n",
    "\n",
    "other_species = []\n",
    "other_species = sorted(list(set(other_species)), key=lambda x: len(x), reverse=True)\n",
    "\n",
    "cause_of_death = [\n",
    "    \"fall\",\n",
    "    \"stabbed\",\n",
    "    \"complications from pulmonary fibrosis\",\n",
    "    \"idiopathic pulmonary fibrosis\",\n",
    "    \"pulmonary fibrosis\",\n",
    "    \"complications from heart surgery\",\n",
    "    \"complications from liver failure\",\n",
    "    \"acute liver failure\",\n",
    "    \"liver failure\",\n",
    "    \"complications from a brain tumour\",\n",
    "    \"brain tumour\",\n",
    "    \"complications from a brain hemorrhage\",\n",
    "    \"brain hemorrhage\",\n",
    "    \"homicide\",\n",
    "    \"complications from motor neurone disease\",\n",
    "    \"motor neurone disease\",\n",
    "    \"injuries sustained in Brussels Airport bombings\",\n",
    "    \"victim of Batasang Pambansa bombing\",\n",
    "    \"injuries sustained in bombing\",\n",
    "    \"bombing\",\n",
    "    \"complications from pulmonary embolism\",\n",
    "    \"pulmonary embolism\",\n",
    "    \"sepsis complicated by a urinary tract infection\",\n",
    "    \"complications from sepsis\",\n",
    "    \"sepsis\",\n",
    "    \"drone airstrike\",\n",
    "    \"airstrike\",\n",
    "    \"complications from heart bypass surgery\",\n",
    "    \"complications from heart valve failure\",\n",
    "    \"complications following heart surgery\",\n",
    "    \"complications during heart surgery\",\n",
    "    \"complications after heart surgery\",\n",
    "    \"complications from heart surgery\",\n",
    "    \"complications of heart surgery\",\n",
    "    \"infection after heart surgery\",\n",
    "    \"following open heart surgery\",\n",
    "    \"heart surgery complications\",\n",
    "    \"complications from heart\",\n",
    "    \"heart related problems\",\n",
    "    \"heart complications\",\n",
    "    \"heart arrhythmia\",\n",
    "    \"heart condition\",\n",
    "    \"heart problems\",\n",
    "    \"heart ailments\",\n",
    "    \"heart ailment\",\n",
    "    \"heart illness\",\n",
    "    \"heart\",\n",
    "    \"complications from a brain haemorrhage\",\n",
    "    \"complications from brain haemorrhage\",\n",
    "    \"brain haemorrhage following bout\",\n",
    "    \"suspected brain haemorrhage\",\n",
    "    \"brain haemorrhage\",\n",
    "    \"complications from leukaemia\",\n",
    "    \"acute myeloid leukaemia\",\n",
    "    \"leukaemia\",\n",
    "    \"complications from ruptured brain aneurysm\",\n",
    "    \"complications of aortic aneurysm surgery\",\n",
    "    \"abdominal aortic aneurysm\",\n",
    "    \"ruptured aortic aneurysm\",\n",
    "    \"ruptured aneurysm\",\n",
    "    \"aortic aneurysm\",\n",
    "    \"brain aneurysm\",\n",
    "    \"aneurysm\",\n",
    "    \"complications from liver disease\",\n",
    "    \"complications of liver disease\",\n",
    "    \"alcoholic liver disease\",\n",
    "    \"liver disease\",\n",
    "    \"execution by hanging\",\n",
    "    \"mesothelioma\",\n",
    "    \"complications of aortic aneurysm surgery\",\n",
    "    \"abdominal aortic aneurysm\",\n",
    "    \"ruptured aortic aneurysm\",\n",
    "    \"aortic aneurysm\",\n",
    "    \"complications from myelodysplastic syndrome\",\n",
    "    \"myelodysplastic syndrome\",\n",
    "    \"murdered his wife Annie Leong\",\n",
    "    \"murdered by an assailant\",\n",
    "    \"murdered by the FARC\",\n",
    "    \"murdered\",\n",
    "    \"complications from septic shock\",\n",
    "    \"septic shock\",\n",
    "    \"car crash while leading police on chase\",\n",
    "    \"car crash\",\n",
    "    \"glioblastoma\",\n",
    "    \"accidental drowning\",\n",
    "    \"drowning\",\n",
    "    \"complications from COPD\",\n",
    "    \"COPD\",\n",
    "    \"complications from cirrhosis\",\n",
    "    \"liver cirrhosis\",\n",
    "    \"cirrhosis\",\n",
    "    \"complications of organ failure\",\n",
    "    \"organ failure\",\n",
    "    \"AIDS related complications\",\n",
    "]\n",
    "cause_of_death = sorted(list(set(cause_of_death)), key=lambda x: len(x), reverse=True)"
   ]
  },
  {
   "cell_type": "code",
   "execution_count": 609,
   "id": "3a808eec",
   "metadata": {},
   "outputs": [
    {
     "data": {
      "application/javascript": [
       "\n",
       "            setTimeout(function() {\n",
       "                var nbb_cell_id = 609;\n",
       "                var nbb_unformatted_code = \"# Dropping info_4_0 value for entries with extraneous value\\ndf.loc[[index for index in df[df[\\\"info_4_0\\\"] == \\\"and\\\"].index], \\\"info_4_0\\\"] = \\\"\\\"\\n\\n# Dropping info_4_0 value for entries with redundant category value\\ndf.loc[\\n    [\\n        index\\n        for index in df[df[\\\"info_4_0\\\"].notna()].index\\n        if \\\"Virginia\\\" in df.loc[index, \\\"info_4_0\\\"]\\n    ],\\n    \\\"info_4_0\\\",\\n] = \\\"\\\"\\n\\n# Dropping info_4_0 value for entries with extraneous value\\ndf.loc[\\n    [\\n        index\\n        for index in df[\\n            df[\\\"link\\\"] == \\\"https://en.wikipedia.org/wiki/Rajeev_Motwani\\\"\\n        ].index\\n    ],\\n    \\\"info_4_0\\\",\\n] = \\\"\\\"\\n\\n# Dropping info_4_0 value for entries with redundant category value\\ndf.loc[\\n    [\\n        index\\n        for index in df[df[\\\"info_4_0\\\"].notna()].index\\n        if \\\"Wisconsin\\\" in df.loc[index, \\\"info_4_0\\\"]\\n    ],\\n    \\\"info_4_0\\\",\\n] = \\\"\\\"\\n\\n# Dropping info_4_0 value for entries with extraneous value\\ndf.loc[[index for index in df[df[\\\"info_4_0\\\"] == \\\"Oxford\\\"].index], \\\"info_4_0\\\"] = \\\"\\\"\\n\\n# Dropping info_4_0 value for entries with extraneous value\\ndf.loc[[index for index in df[df[\\\"info_4_0\\\"] == \\\"Arizona\\\"].index], \\\"info_4_0\\\"] = \\\"\\\"\\n\\n# Dropping info_4_0 value for entries with extraneous value\\ndf.loc[[index for index in df[df[\\\"info_4_0\\\"] == 'North Carolina'].index], \\\"info_4_0\\\"] = \\\"\\\"\";\n",
       "                var nbb_formatted_code = \"# Dropping info_4_0 value for entries with extraneous value\\ndf.loc[[index for index in df[df[\\\"info_4_0\\\"] == \\\"and\\\"].index], \\\"info_4_0\\\"] = \\\"\\\"\\n\\n# Dropping info_4_0 value for entries with redundant category value\\ndf.loc[\\n    [\\n        index\\n        for index in df[df[\\\"info_4_0\\\"].notna()].index\\n        if \\\"Virginia\\\" in df.loc[index, \\\"info_4_0\\\"]\\n    ],\\n    \\\"info_4_0\\\",\\n] = \\\"\\\"\\n\\n# Dropping info_4_0 value for entries with extraneous value\\ndf.loc[\\n    [\\n        index\\n        for index in df[\\n            df[\\\"link\\\"] == \\\"https://en.wikipedia.org/wiki/Rajeev_Motwani\\\"\\n        ].index\\n    ],\\n    \\\"info_4_0\\\",\\n] = \\\"\\\"\\n\\n# Dropping info_4_0 value for entries with redundant category value\\ndf.loc[\\n    [\\n        index\\n        for index in df[df[\\\"info_4_0\\\"].notna()].index\\n        if \\\"Wisconsin\\\" in df.loc[index, \\\"info_4_0\\\"]\\n    ],\\n    \\\"info_4_0\\\",\\n] = \\\"\\\"\\n\\n# Dropping info_4_0 value for entries with extraneous value\\ndf.loc[[index for index in df[df[\\\"info_4_0\\\"] == \\\"Oxford\\\"].index], \\\"info_4_0\\\"] = \\\"\\\"\\n\\n# Dropping info_4_0 value for entries with extraneous value\\ndf.loc[[index for index in df[df[\\\"info_4_0\\\"] == \\\"Arizona\\\"].index], \\\"info_4_0\\\"] = \\\"\\\"\\n\\n# Dropping info_4_0 value for entries with extraneous value\\ndf.loc[\\n    [index for index in df[df[\\\"info_4_0\\\"] == \\\"North Carolina\\\"].index], \\\"info_4_0\\\"\\n] = \\\"\\\"\";\n",
       "                var nbb_cells = Jupyter.notebook.get_cells();\n",
       "                for (var i = 0; i < nbb_cells.length; ++i) {\n",
       "                    if (nbb_cells[i].input_prompt_number == nbb_cell_id) {\n",
       "                        if (nbb_cells[i].get_text() == nbb_unformatted_code) {\n",
       "                             nbb_cells[i].set_text(nbb_formatted_code);\n",
       "                        }\n",
       "                        break;\n",
       "                    }\n",
       "                }\n",
       "            }, 500);\n",
       "            "
      ],
      "text/plain": [
       "<IPython.core.display.Javascript object>"
      ]
     },
     "metadata": {},
     "output_type": "display_data"
    }
   ],
   "source": [
    "# Dropping info_4_0 value for entries with extraneous value\n",
    "df.loc[[index for index in df[df[\"info_4_0\"] == \"and\"].index], \"info_4_0\"] = \"\"\n",
    "\n",
    "# Dropping info_4_0 value for entries with redundant category value\n",
    "df.loc[\n",
    "    [\n",
    "        index\n",
    "        for index in df[df[\"info_4_0\"].notna()].index\n",
    "        if \"Virginia\" in df.loc[index, \"info_4_0\"]\n",
    "    ],\n",
    "    \"info_4_0\",\n",
    "] = \"\"\n",
    "\n",
    "# Dropping info_4_0 value for entries with extraneous value\n",
    "df.loc[\n",
    "    [\n",
    "        index\n",
    "        for index in df[\n",
    "            df[\"link\"] == \"https://en.wikipedia.org/wiki/Rajeev_Motwani\"\n",
    "        ].index\n",
    "    ],\n",
    "    \"info_4_0\",\n",
    "] = \"\"\n",
    "\n",
    "# Dropping info_4_0 value for entries with redundant category value\n",
    "df.loc[\n",
    "    [\n",
    "        index\n",
    "        for index in df[df[\"info_4_0\"].notna()].index\n",
    "        if \"Wisconsin\" in df.loc[index, \"info_4_0\"]\n",
    "    ],\n",
    "    \"info_4_0\",\n",
    "] = \"\"\n",
    "\n",
    "# Dropping info_4_0 value for entries with extraneous value\n",
    "df.loc[[index for index in df[df[\"info_4_0\"] == \"Oxford\"].index], \"info_4_0\"] = \"\"\n",
    "\n",
    "# Dropping info_4_0 value for entries with extraneous value\n",
    "df.loc[[index for index in df[df[\"info_4_0\"] == \"Arizona\"].index], \"info_4_0\"] = \"\"\n",
    "\n",
    "# Dropping info_4_0 value for entries with extraneous value\n",
    "df.loc[\n",
    "    [index for index in df[df[\"info_4_0\"] == \"North Carolina\"].index], \"info_4_0\"\n",
    "] = \"\""
   ]
  },
  {
   "cell_type": "markdown",
   "id": "49f692d2",
   "metadata": {},
   "source": [
    "#### Creating `known_for_dict` Dictionary of Category Keys and Specific Role Lists of Values"
   ]
  },
  {
   "cell_type": "code",
   "execution_count": 610,
   "id": "7492acd9",
   "metadata": {},
   "outputs": [
    {
     "data": {
      "application/javascript": [
       "\n",
       "            setTimeout(function() {\n",
       "                var nbb_cell_id = 610;\n",
       "                var nbb_unformatted_code = \"# Combining separate lists into one dictionary\\nknown_for_dict = {\\n    \\\"social\\\": social,\\n    \\\"spiritual\\\": spiritual,\\n    \\\"academia_humanities\\\": academia_humanities,\\n    \\\"business_farming\\\": business_farming,\\n    \\\"sciences\\\": sciences,\\n    \\\"politics_govt_law\\\": politics_govt_law,\\n    \\\"law_enf_military_operator\\\": law_enf_military_operator,\\n    \\\"crime\\\": crime,\\n    \\\"event_record_other\\\": event_record_other,\\n    \\\"other_species\\\": other_species,\\n    \\\"arts\\\": arts,\\n    \\\"sports\\\": sports,\\n\\n}\";\n",
       "                var nbb_formatted_code = \"# Combining separate lists into one dictionary\\nknown_for_dict = {\\n    \\\"social\\\": social,\\n    \\\"spiritual\\\": spiritual,\\n    \\\"academia_humanities\\\": academia_humanities,\\n    \\\"business_farming\\\": business_farming,\\n    \\\"sciences\\\": sciences,\\n    \\\"politics_govt_law\\\": politics_govt_law,\\n    \\\"law_enf_military_operator\\\": law_enf_military_operator,\\n    \\\"crime\\\": crime,\\n    \\\"event_record_other\\\": event_record_other,\\n    \\\"other_species\\\": other_species,\\n    \\\"arts\\\": arts,\\n    \\\"sports\\\": sports,\\n}\";\n",
       "                var nbb_cells = Jupyter.notebook.get_cells();\n",
       "                for (var i = 0; i < nbb_cells.length; ++i) {\n",
       "                    if (nbb_cells[i].input_prompt_number == nbb_cell_id) {\n",
       "                        if (nbb_cells[i].get_text() == nbb_unformatted_code) {\n",
       "                             nbb_cells[i].set_text(nbb_formatted_code);\n",
       "                        }\n",
       "                        break;\n",
       "                    }\n",
       "                }\n",
       "            }, 500);\n",
       "            "
      ],
      "text/plain": [
       "<IPython.core.display.Javascript object>"
      ]
     },
     "metadata": {},
     "output_type": "display_data"
    }
   ],
   "source": [
    "# Combining separate lists into one dictionary\n",
    "known_for_dict = {\n",
    "    \"social\": social,\n",
    "    \"spiritual\": spiritual,\n",
    "    \"academia_humanities\": academia_humanities,\n",
    "    \"business_farming\": business_farming,\n",
    "    \"sciences\": sciences,\n",
    "    \"politics_govt_law\": politics_govt_law,\n",
    "    \"law_enf_military_operator\": law_enf_military_operator,\n",
    "    \"crime\": crime,\n",
    "    \"event_record_other\": event_record_other,\n",
    "    \"other_species\": other_species,\n",
    "    \"arts\": arts,\n",
    "    \"sports\": sports,\n",
    "}"
   ]
  },
  {
   "cell_type": "markdown",
   "id": "bc2aa605",
   "metadata": {},
   "source": [
    "#### Extracting `known_for` Categories and `cause_of_death` Values from `info_4_0`"
   ]
  },
  {
   "cell_type": "code",
   "execution_count": 611,
   "id": "70132c0a",
   "metadata": {},
   "outputs": [
    {
     "name": "stdout",
     "output_type": "stream",
     "text": [
      "There are 31681 values in cause_of_death column.\n",
      "\n",
      "CPU times: total: 12.9 s\n",
      "Wall time: 12.9 s\n"
     ]
    },
    {
     "data": {
      "application/javascript": [
       "\n",
       "            setTimeout(function() {\n",
       "                var nbb_cell_id = 611;\n",
       "                var nbb_unformatted_code = \"%%time\\n\\n# Column to check\\ncolumn = 'info_4_0'\\n\\n# Start dataframe\\ndataframe = df[df[column].notna()]\\n\\n# For loop to find cause in column and extract it to cause_of_death\\nfor cause in cause_of_death:\\n    for index in dataframe.index:\\n        item = df.loc[index, column]\\n        if item:\\n            if cause in item:\\n                if df.loc[index, 'cause_of_death']:\\n                    df.loc[index, 'cause_of_death'] = df.loc[index, 'cause_of_death'] + '/' + cause\\n                    df.loc[index, column] = item.replace(cause, '').strip()\\n                else:\\n                    df.loc[index, 'cause_of_death'] = cause\\n                    df.loc[index, column] = item.replace(cause, '').strip()\\n                \\n                \\n# For loop to find role in column and extract it as category\\nfor category, category_lst in known_for_dict.items():\\n    for role in category_lst:\\n        for index in dataframe.index:\\n                item = df.loc[index, column]\\n                if item:\\n                    if role in item:\\n                        df.loc[index, category] = 1\\n                        df.loc[index, column] = item.replace(role, '').strip()\\n\\n# Calculating num_categories\\ndf[\\\"num_categories\\\"] = df[known_for_dict.keys()].sum(axis=1)\\n\\n# Checking number of cause_of_death values\\nprint(f'There are {df[\\\"cause_of_death\\\"].notna().sum()} values in cause_of_death column.\\\\n')\";\n",
       "                var nbb_formatted_code = \"%%time\\n\\n# Column to check\\ncolumn = 'info_4_0'\\n\\n# Start dataframe\\ndataframe = df[df[column].notna()]\\n\\n# For loop to find cause in column and extract it to cause_of_death\\nfor cause in cause_of_death:\\n    for index in dataframe.index:\\n        item = df.loc[index, column]\\n        if item:\\n            if cause in item:\\n                if df.loc[index, 'cause_of_death']:\\n                    df.loc[index, 'cause_of_death'] = df.loc[index, 'cause_of_death'] + '/' + cause\\n                    df.loc[index, column] = item.replace(cause, '').strip()\\n                else:\\n                    df.loc[index, 'cause_of_death'] = cause\\n                    df.loc[index, column] = item.replace(cause, '').strip()\\n                \\n                \\n# For loop to find role in column and extract it as category\\nfor category, category_lst in known_for_dict.items():\\n    for role in category_lst:\\n        for index in dataframe.index:\\n                item = df.loc[index, column]\\n                if item:\\n                    if role in item:\\n                        df.loc[index, category] = 1\\n                        df.loc[index, column] = item.replace(role, '').strip()\\n\\n# Calculating num_categories\\ndf[\\\"num_categories\\\"] = df[known_for_dict.keys()].sum(axis=1)\\n\\n# Checking number of cause_of_death values\\nprint(f'There are {df[\\\"cause_of_death\\\"].notna().sum()} values in cause_of_death column.\\\\n')\";\n",
       "                var nbb_cells = Jupyter.notebook.get_cells();\n",
       "                for (var i = 0; i < nbb_cells.length; ++i) {\n",
       "                    if (nbb_cells[i].input_prompt_number == nbb_cell_id) {\n",
       "                        if (nbb_cells[i].get_text() == nbb_unformatted_code) {\n",
       "                             nbb_cells[i].set_text(nbb_formatted_code);\n",
       "                        }\n",
       "                        break;\n",
       "                    }\n",
       "                }\n",
       "            }, 500);\n",
       "            "
      ],
      "text/plain": [
       "<IPython.core.display.Javascript object>"
      ]
     },
     "metadata": {},
     "output_type": "display_data"
    }
   ],
   "source": [
    "%%time\n",
    "\n",
    "# Column to check\n",
    "column = 'info_4_0'\n",
    "\n",
    "# Start dataframe\n",
    "dataframe = df[df[column].notna()]\n",
    "\n",
    "# For loop to find cause in column and extract it to cause_of_death\n",
    "for cause in cause_of_death:\n",
    "    for index in dataframe.index:\n",
    "        item = df.loc[index, column]\n",
    "        if item:\n",
    "            if cause in item:\n",
    "                if df.loc[index, 'cause_of_death']:\n",
    "                    df.loc[index, 'cause_of_death'] = df.loc[index, 'cause_of_death'] + '/' + cause\n",
    "                    df.loc[index, column] = item.replace(cause, '').strip()\n",
    "                else:\n",
    "                    df.loc[index, 'cause_of_death'] = cause\n",
    "                    df.loc[index, column] = item.replace(cause, '').strip()\n",
    "                \n",
    "                \n",
    "# For loop to find role in column and extract it as category\n",
    "for category, category_lst in known_for_dict.items():\n",
    "    for role in category_lst:\n",
    "        for index in dataframe.index:\n",
    "                item = df.loc[index, column]\n",
    "                if item:\n",
    "                    if role in item:\n",
    "                        df.loc[index, category] = 1\n",
    "                        df.loc[index, column] = item.replace(role, '').strip()\n",
    "\n",
    "# Calculating num_categories\n",
    "df[\"num_categories\"] = df[known_for_dict.keys()].sum(axis=1)\n",
    "\n",
    "# Checking number of cause_of_death values\n",
    "print(f'There are {df[\"cause_of_death\"].notna().sum()} values in cause_of_death column.\\n')"
   ]
  },
  {
   "cell_type": "markdown",
   "id": "bde01b9a",
   "metadata": {},
   "source": [
    "#### Checking Updated `num_categories` Value Counts"
   ]
  },
  {
   "cell_type": "code",
   "execution_count": 612,
   "id": "dc692f45",
   "metadata": {},
   "outputs": [
    {
     "data": {
      "text/plain": [
       "1    84398\n",
       "2    12708\n",
       "3      916\n",
       "4       10\n",
       "0        8\n",
       "Name: num_categories, dtype: int64"
      ]
     },
     "execution_count": 612,
     "metadata": {},
     "output_type": "execute_result"
    },
    {
     "data": {
      "application/javascript": [
       "\n",
       "            setTimeout(function() {\n",
       "                var nbb_cell_id = 612;\n",
       "                var nbb_unformatted_code = \"# Checking Updated num_categories Value Counts\\ndf[\\\"num_categories\\\"].value_counts()\";\n",
       "                var nbb_formatted_code = \"# Checking Updated num_categories Value Counts\\ndf[\\\"num_categories\\\"].value_counts()\";\n",
       "                var nbb_cells = Jupyter.notebook.get_cells();\n",
       "                for (var i = 0; i < nbb_cells.length; ++i) {\n",
       "                    if (nbb_cells[i].input_prompt_number == nbb_cell_id) {\n",
       "                        if (nbb_cells[i].get_text() == nbb_unformatted_code) {\n",
       "                             nbb_cells[i].set_text(nbb_formatted_code);\n",
       "                        }\n",
       "                        break;\n",
       "                    }\n",
       "                }\n",
       "            }, 500);\n",
       "            "
      ],
      "text/plain": [
       "<IPython.core.display.Javascript object>"
      ]
     },
     "metadata": {},
     "output_type": "display_data"
    }
   ],
   "source": [
    "# Checking Updated num_categories Value Counts\n",
    "df[\"num_categories\"].value_counts()"
   ]
  },
  {
   "cell_type": "markdown",
   "id": "d8d7ca17",
   "metadata": {},
   "source": [
    "#### Observations:\n",
    "- We will proceed to rebuild `known_for_dict` and `cause_of_death` for the next iteration."
   ]
  },
  {
   "cell_type": "markdown",
   "id": "1e50de53",
   "metadata": {},
   "source": [
    "#### Finding `known_for` Roles and `cause_of_death` in `info_4_0`"
   ]
  },
  {
   "cell_type": "code",
   "execution_count": 1099,
   "id": "01038d4c",
   "metadata": {},
   "outputs": [
    {
     "data": {
      "application/javascript": [
       "\n",
       "            setTimeout(function() {\n",
       "                var nbb_cell_id = 1099;\n",
       "                var nbb_unformatted_code = \"# # Obtaining values for column and their counts\\n# roles_cause_list = df[\\\"info_4_0\\\"].value_counts(ascending=True).index.tolist()\";\n",
       "                var nbb_formatted_code = \"# # Obtaining values for column and their counts\\n# roles_cause_list = df[\\\"info_4_0\\\"].value_counts(ascending=True).index.tolist()\";\n",
       "                var nbb_cells = Jupyter.notebook.get_cells();\n",
       "                for (var i = 0; i < nbb_cells.length; ++i) {\n",
       "                    if (nbb_cells[i].input_prompt_number == nbb_cell_id) {\n",
       "                        if (nbb_cells[i].get_text() == nbb_unformatted_code) {\n",
       "                             nbb_cells[i].set_text(nbb_formatted_code);\n",
       "                        }\n",
       "                        break;\n",
       "                    }\n",
       "                }\n",
       "            }, 500);\n",
       "            "
      ],
      "text/plain": [
       "<IPython.core.display.Javascript object>"
      ]
     },
     "metadata": {},
     "output_type": "display_data"
    }
   ],
   "source": [
    "# # Obtaining values for column and their counts\n",
    "# roles_cause_list = df[\"info_4_0\"].value_counts(ascending=True).index.tolist()"
   ]
  },
  {
   "cell_type": "code",
   "execution_count": 1100,
   "id": "e1586415",
   "metadata": {},
   "outputs": [
    {
     "data": {
      "application/javascript": [
       "\n",
       "            setTimeout(function() {\n",
       "                var nbb_cell_id = 1100;\n",
       "                var nbb_unformatted_code = \"# # Code to check each value\\n# value = roles_cause_list.pop()\\n# value\";\n",
       "                var nbb_formatted_code = \"# # Code to check each value\\n# value = roles_cause_list.pop()\\n# value\";\n",
       "                var nbb_cells = Jupyter.notebook.get_cells();\n",
       "                for (var i = 0; i < nbb_cells.length; ++i) {\n",
       "                    if (nbb_cells[i].input_prompt_number == nbb_cell_id) {\n",
       "                        if (nbb_cells[i].get_text() == nbb_unformatted_code) {\n",
       "                             nbb_cells[i].set_text(nbb_formatted_code);\n",
       "                        }\n",
       "                        break;\n",
       "                    }\n",
       "                }\n",
       "            }, 500);\n",
       "            "
      ],
      "text/plain": [
       "<IPython.core.display.Javascript object>"
      ]
     },
     "metadata": {},
     "output_type": "display_data"
    }
   ],
   "source": [
    "# # Code to check each value\n",
    "# value = roles_cause_list.pop()\n",
    "# value"
   ]
  },
  {
   "cell_type": "code",
   "execution_count": 1101,
   "id": "e0d1ab5b",
   "metadata": {},
   "outputs": [
    {
     "data": {
      "application/javascript": [
       "\n",
       "            setTimeout(function() {\n",
       "                var nbb_cell_id = 1101;\n",
       "                var nbb_unformatted_code = \"# # Create specific_roles_cause_list for above popped value\\n# specific_roles_cause_list = (\\n#     df.loc[\\n#         [\\n#             index\\n#             for index in df[df[\\\"info_4_0\\\"].notna()].index\\n#             if value in df.loc[index, \\\"info_4_0\\\"]\\n#             #             and df.loc[index, \\\"sports\\\"] == 1\\n#         ],\\n#         \\\"info_4_0\\\",\\n#     ]\\n#     .value_counts()\\n#     .index.tolist()\\n# )\";\n",
       "                var nbb_formatted_code = \"# # Create specific_roles_cause_list for above popped value\\n# specific_roles_cause_list = (\\n#     df.loc[\\n#         [\\n#             index\\n#             for index in df[df[\\\"info_4_0\\\"].notna()].index\\n#             if value in df.loc[index, \\\"info_4_0\\\"]\\n#             #             and df.loc[index, \\\"sports\\\"] == 1\\n#         ],\\n#         \\\"info_4_0\\\",\\n#     ]\\n#     .value_counts()\\n#     .index.tolist()\\n# )\";\n",
       "                var nbb_cells = Jupyter.notebook.get_cells();\n",
       "                for (var i = 0; i < nbb_cells.length; ++i) {\n",
       "                    if (nbb_cells[i].input_prompt_number == nbb_cell_id) {\n",
       "                        if (nbb_cells[i].get_text() == nbb_unformatted_code) {\n",
       "                             nbb_cells[i].set_text(nbb_formatted_code);\n",
       "                        }\n",
       "                        break;\n",
       "                    }\n",
       "                }\n",
       "            }, 500);\n",
       "            "
      ],
      "text/plain": [
       "<IPython.core.display.Javascript object>"
      ]
     },
     "metadata": {},
     "output_type": "display_data"
    }
   ],
   "source": [
    "# # Create specific_roles_cause_list for above popped value\n",
    "# specific_roles_cause_list = (\n",
    "#     df.loc[\n",
    "#         [\n",
    "#             index\n",
    "#             for index in df[df[\"info_4_0\"].notna()].index\n",
    "#             if value in df.loc[index, \"info_4_0\"]\n",
    "#             #             and df.loc[index, \"sports\"] == 1\n",
    "#         ],\n",
    "#         \"info_4_0\",\n",
    "#     ]\n",
    "#     .value_counts()\n",
    "#     .index.tolist()\n",
    "# )"
   ]
  },
  {
   "cell_type": "code",
   "execution_count": 1102,
   "id": "87d7c537",
   "metadata": {},
   "outputs": [
    {
     "data": {
      "application/javascript": [
       "\n",
       "            setTimeout(function() {\n",
       "                var nbb_cell_id = 1102;\n",
       "                var nbb_unformatted_code = \"# # Viewing list sorted by descending length to copy to dictionary below and screen values\\n# sorted(specific_roles_cause_list, key=lambda x: len(x), reverse=True)\";\n",
       "                var nbb_formatted_code = \"# # Viewing list sorted by descending length to copy to dictionary below and screen values\\n# sorted(specific_roles_cause_list, key=lambda x: len(x), reverse=True)\";\n",
       "                var nbb_cells = Jupyter.notebook.get_cells();\n",
       "                for (var i = 0; i < nbb_cells.length; ++i) {\n",
       "                    if (nbb_cells[i].input_prompt_number == nbb_cell_id) {\n",
       "                        if (nbb_cells[i].get_text() == nbb_unformatted_code) {\n",
       "                             nbb_cells[i].set_text(nbb_formatted_code);\n",
       "                        }\n",
       "                        break;\n",
       "                    }\n",
       "                }\n",
       "            }, 500);\n",
       "            "
      ],
      "text/plain": [
       "<IPython.core.display.Javascript object>"
      ]
     },
     "metadata": {},
     "output_type": "display_data"
    }
   ],
   "source": [
    "# # Viewing list sorted by descending length to copy to dictionary below and screen values\n",
    "# sorted(specific_roles_cause_list, key=lambda x: len(x), reverse=True)"
   ]
  },
  {
   "cell_type": "code",
   "execution_count": 1103,
   "id": "c1d3ae15",
   "metadata": {},
   "outputs": [
    {
     "data": {
      "application/javascript": [
       "\n",
       "            setTimeout(function() {\n",
       "                var nbb_cell_id = 1103;\n",
       "                var nbb_unformatted_code = \"# # Example code to quick-check a specific entry\\n# df[df[\\\"info_4_0\\\"] == \\\"fired football coach Woody Hayes\\\"]\";\n",
       "                var nbb_formatted_code = \"# # Example code to quick-check a specific entry\\n# df[df[\\\"info_4_0\\\"] == \\\"fired football coach Woody Hayes\\\"]\";\n",
       "                var nbb_cells = Jupyter.notebook.get_cells();\n",
       "                for (var i = 0; i < nbb_cells.length; ++i) {\n",
       "                    if (nbb_cells[i].input_prompt_number == nbb_cell_id) {\n",
       "                        if (nbb_cells[i].get_text() == nbb_unformatted_code) {\n",
       "                             nbb_cells[i].set_text(nbb_formatted_code);\n",
       "                        }\n",
       "                        break;\n",
       "                    }\n",
       "                }\n",
       "            }, 500);\n",
       "            "
      ],
      "text/plain": [
       "<IPython.core.display.Javascript object>"
      ]
     },
     "metadata": {},
     "output_type": "display_data"
    }
   ],
   "source": [
    "# # Example code to quick-check a specific entry\n",
    "# df[df[\"info_4_0\"] == \"fired football coach Woody Hayes\"]"
   ]
  },
  {
   "cell_type": "markdown",
   "id": "711292ac",
   "metadata": {},
   "source": [
    "#### Creating Lists for Each `known_for` Category and for `cause_of_death`"
   ]
  },
  {
   "cell_type": "code",
   "execution_count": 1104,
   "id": "4b4d33f2",
   "metadata": {},
   "outputs": [
    {
     "data": {
      "application/javascript": [
       "\n",
       "            setTimeout(function() {\n",
       "                var nbb_cell_id = 1104;\n",
       "                var nbb_unformatted_code = \"# Creating lists for each category and sorting by decreasing length and removing duplicates\\n\\npolitics_govt_law = [\\n    \\\"Connecticut\\\",\\n    \\\"co founder of Reporters Committee for Freedom of the Press\\\",\\n    \\\"founder of the Kizito Mihigo Peace Foundation\\\",\\n    \\\"co founder of the Global Wind Energy Council\\\",\\n    \\\"co founder of Electronic Frontier Foundation\\\",\\n    \\\"co founder of Congressional Black Caucus\\\",\\n    \\\"co founder of the Social Liberal Party\\\",\\n    \\\"founder of the Moscow Helsinki Group\\\",\\n    \\\"founder of the Burning Man festival\\\",\\n    \\\"founder of the Popular Party\\\",\\n    \\\"founder of the Aryan Nations\\\",\\n    \\\"founder of Prison Fellowship\\\",\\n    \\\"co founder of the Democrats\\\",\\n    \\\"founder of the People Party\\\",\\n    \\\"founder of the Association\\\",\\n    \\\"and co founder of the SDP\\\",\\n    \\\"founder of Gun Owners of\\\",\\n    \\\"founder of Awami Tahreek\\\",\\n    \\\"co founder of the SDLP\\\",\\n    \\\"co founder of FoLAR\\\",\\n    \\\"founder of EDEK\\\",\\n    \\\"Oregon\\\",\\n    \\\"and feminist\\\",\\n    \\\"oldest surviving member of the House of Representatives\\\",\\n    \\\"member of the House of Representatives for Toledo West\\\",\\n    \\\"member of the House of Representatives for Tokyo\\\",\\n    \\\"member of the House of Representatives for\\\",\\n    \\\"member of the House of Representatives\\\",\\n    \\\"Dean of the Diplomatic Corps of Washington\\\",\\n    \\\"inventor of the term series of tubes\\\",\\n    \\\"and political activist\\\",\\n    \\\"and social activist\\\",\\n    \\\"deputy\\\",\\n    \\\"and Revisionist Zionist activist\\\",\\n    \\\"and anti apartheid activist\\\",\\n    \\\"and animal rights activist\\\",\\n    \\\"and civil rights activist\\\",\\n    \\\"and conservative activist\\\",\\n    \\\"and human rights activist\\\",\\n    \\\"and libertarian activist\\\",\\n    \\\"and gay rights activist\\\",\\n    \\\"and political activist\\\",\\n    \\\"environmental activist\\\",\\n    \\\"and social activist\\\",\\n    \\\"political activist\\\",\\n    \\\"and AIDS activist\\\",\\n    \\\"feminist activist\\\",\\n    \\\"peace activist\\\",\\n    \\\"socio political researcher\\\",\\n    \\\"Charter signatory\\\",\\n    \\\"involved in negotiations for the Alaska Native Claims Settlement Act\\\",\\n    \\\"and lawyer\\\",\\n    \\\"lawyer\\\",\\n]\\npolitics_govt_law = sorted(\\n    list(set(politics_govt_law)), key=lambda x: len(x), reverse=True\\n)\\n\\narts = [\\n    \\\"and director\\\",\\n    \\\"director\\\",\\n    \\\"actor\\\",\\n    \\\"playwright\\\",\\n    \\\"and literary critic\\\",\\n    \\\"and cultural critic\\\",\\n    \\\"and theater critic\\\",\\n    \\\"and music critic\\\",\\n    \\\"literary critic\\\",\\n    \\\"culinary critic\\\",\\n    \\\"and film critic\\\",\\n    \\\"and art critic\\\",\\n    \\\"film critic\\\",\\n    \\\"and critic\\\",\\n    \\\"critic\\\",\\n    \\\"and television presenter\\\",\\n    \\\"and television actress\\\",\\n    \\\"pornographic actress\\\",\\n    \\\"; mother of actress\\\",\\n    \\\"actress\\\",\\n    \\\"co founder of the Notting Hill Carnival\\\",\\n    \\\"co founder of Teilif\\u00eds na Gaeilge\\\",\\n    \\\"founder of magazine\\\",\\n    \\\"founder of Theatre\\\",\\n    \\\"founder of the University of the Madrigal Singers\\\",\\n    \\\"co founder of Rankin Bass Productions\\\",\\n    \\\"founder of the Shanghai Biennale\\\",\\n    \\\"a founder of modern literature\\\",\\n    \\\"founder of The Jargon Society\\\",\\n    \\\"and co founder of Swell Maps\\\",\\n    \\\"founder of Kalnirnay almanac\\\",\\n    \\\"founder of Philles Records\\\",\\n    \\\"co founder of Group Zero\\\",\\n    \\\"founder of Armet & Davis\\\",\\n    \\\"founder of Books on Tape\\\",\\n    \\\"founder of Kinotavr\\\",\\n    \\\"founder of Pax TV\\\",\\n    \\\"and folk musician\\\",\\n    \\\"jazz musician\\\",\\n    \\\"musician\\\",\\n    \\\"Oliver Twist\\\",\\n    \\\"painter\\\",\\n    \\\"lyricist of State Anthem of\\\",\\n    \\\"and lyricist\\\",\\n    \\\"lyricist\\\",\\n    \\\"and sculptor\\\",\\n    \\\"and adult filmmaker\\\",\\n    \\\"and filmmaker\\\",\\n    \\\"filmmaker\\\",\\n    \\\"and book illustrator\\\",\\n    \\\"and illustrator\\\",\\n    \\\"illustrator\\\",\\n    \\\"and literary critic\\\",\\n    \\\"and cartoonist\\\",\\n    \\\"and printmaker\\\",\\n    \\\"printmaker\\\",\\n    \\\"and dramatist\\\",\\n]\\narts = sorted(list(set(arts)), key=lambda x: len(x), reverse=True)\\n\\nsports = [\\n    \\\"founder of the United Congress\\\",\\n    \\\"founder of International Gymnastics Hall of Fame\\\",\\n    \\\"and coach\\\",\\n    \\\"two time Olympic champion\\\",\\n    \\\"and Olympic champion\\\",\\n    \\\"Olympic champion\\\",\\n    \\\"and baseball coach\\\",\\n    \\\"head coach\\\",\\n    \\\"and coach\\\",\\n]\\nsports = sorted(list(set(sports)), key=lambda x: len(x), reverse=True)\\n\\nsciences = [\\n    \\\"and philosopher of social science\\\",\\n    \\\"co inventor of Fuchs Sherr modulated neutron initiator\\\",\\n    \\\"claimed to be the inventor of Silly Putty\\\",\\n    \\\"inventor of the rainbow hologram\\\",\\n    \\\"inventor of gamma ray camera\\\",\\n    \\\"and inventor of electronic instruments\\\",\\n    \\\"and researcher during World War II\\\",\\n]\\nsciences = sorted(list(set(sciences)), key=lambda x: len(x), reverse=True)\\n\\nbusiness_farming = [\\n    \\\"founder of Electronic Data Systems\\\",\\n    \\\"founder of the Norbrook Group\\\",\\n    \\\"co founder of March Engineering\\\",\\n    \\\"founder of B Dalton\\\",\\n    \\\"founder of CarMax\\\",\\n    \\\"inventor of the TV dinner\\\",\\n]\\nbusiness_farming = sorted(\\n    list(set(business_farming)), key=lambda x: len(x), reverse=True\\n)\\n\\nacademia_humanities = [\\n    \\\"transhumanist philosopher\\\",\\n    \\\"co founder of Central Technological University\\\",\\n    \\\"founder of Hummel figurine museum\\\",\\n    \\\"founder of the Makah Museum\\\",\\n    \\\"co founder of BANU\\\",\\n    \\\"founder of GITAM\\\",\\n    \\\"co founder of the International Women Air & Space Museum\\\",\\n    \\\"and co founder of the Studio Museum in Harlem\\\",\\n    \\\"founder of Ricardo Brennand Institute\\\",\\n    \\\"founder of Strake Jesuit College Prep\\\",\\n    \\\"co founder of Notre Dame College\\\",\\n    \\\"founder of the Mori Art Museum\\\",\\n    \\\"emeritus professor at Scripps Institution of Oceanography\\\",\\n    \\\"professor at Divinity School\\\",\\n    \\\"and university professor\\\",\\n    \\\"professor of pediatrics\\\",\\n    \\\"literature professor\\\",\\n    \\\"University professor\\\",\\n    \\\"and dance professor\\\",\\n    \\\"and film professor\\\",\\n    \\\"and law professor\\\",\\n    \\\"and USC professor\\\",\\n    \\\"college professor\\\",\\n    \\\"professor\\\",\\n    \\\"and curator\\\",\\n    \\\"curator\\\",\\n    \\\"and arts activist\\\",\\n    \\\"specialist in Catholic history in Alaska\\\",\\n    \\\"restored the Minnesota Governor Residence\\\",\\n    \\\"academician\\\",\\n    \\\"academic\\\",\\n    \\\"fired football coach Woody Hayes\\\",\\n]\\nacademia_humanities = sorted(\\n    list(set(academia_humanities)), key=lambda x: len(x), reverse=True\\n)\\n\\nlaw_enf_military_operator = [\\n    \\\"New South Police Commissioner\\\",\\n    \\\"founder of Liberation Front\\\",\\n    \\\"co founder of Hezbollah\\\",\\n    \\\"co founder of Royal Chicano Air Force\\\",\\n]\\nlaw_enf_military_operator = sorted(\\n    list(set(law_enf_military_operator)), key=lambda x: len(x), reverse=True\\n)\\n\\nspiritual = [\\n    \\\"a founder of the Franciscan Friars of the Renewal\\\",\\n    \\\"co founder of Youth Specialties\\\",\\n]\\nspiritual = sorted(list(set(spiritual)), key=lambda x: len(x), reverse=True)\\n\\nsocial = [\\n    \\\"founder of House on Capitol Hill\\\",\\n    \\\"co founder of Maggie Centres\\\",\\n    \\\"cofounder of the Kal\\\",\\n    \\\"founder of L'Arche\\\",\\n]\\nsocial = sorted(list(set(social)), key=lambda x: len(x), reverse=True)\\n\\ncrime = []\\ncrime = sorted(list(set(crime)), key=lambda x: len(x), reverse=True)\\n\\nevent_record_other = []\\nevent_record_other = sorted(\\n    list(set(event_record_other)), key=lambda x: len(x), reverse=True\\n)\\n\\nother_species = []\\nother_species = sorted(list(set(other_species)), key=lambda x: len(x), reverse=True)\\n\\ncause_of_death = [\\n    \\\"myocardial infarction\\\",\\n    \\\"complications from a liver transplant\\\",\\n    \\\"liver thrombosis\\\",\\n    \\\"liver infection\\\",\\n    \\\"liver illness\\\",\\n    \\\"liver ailment\\\",\\n    \\\"shooting\\\",\\n    \\\"asthma attack\\\",\\n    \\\"asthma\\\",\\n    \\\"accidental drug overdose\\\",\\n    \\\"suspected drug overdose\\\",\\n    \\\"drug overdose\\\",\\n    \\\"road accident\\\",\\n    \\\"injuries from a motorcycle accident\\\",\\n    \\\"motorcycle accident\\\",\\n    \\\"drone strike\\\",\\n    \\\"bomb blast\\\",\\n    \\\"house fire\\\",\\n    \\\"complications from cardiovascular disease\\\",\\n    \\\"cardiovascular disease\\\",\\n    \\\"illness relating to complications from an old injury\\\",\\n    \\\"complications from a long illness\\\",\\n    \\\"complications from an illness\\\",\\n    \\\"neurodegenerative illness\\\",\\n    \\\"after a long illness\\\",\\n    \\\"respiratory illness\\\",\\n    \\\"after brief illness\\\",\\n    \\\"lingering illness\\\",\\n    \\\"cardiac illness\\\",\\n    \\\"severe illness\\\",\\n    \\\"brief illness\\\",\\n    \\\"after illness\\\",\\n    \\\"liver illness\\\",\\n    \\\"long illness\\\",\\n    \\\"illness\\\",\\n    \\\"pulmonary edema\\\",\\n    \\\"complications from lung transplant\\\",\\n    \\\"complications from collapsed lung\\\",\\n    \\\"complications of collapsed lung\\\",\\n    \\\"complications from lung surgery\\\",\\n    \\\"small cell lung carcinoma\\\",\\n    \\\"complications from lung\\\",\\n    \\\"lung complications\\\",\\n    \\\"blood clot in lung\\\",\\n    \\\"lung congestion\\\",\\n    \\\"lung problems\\\",\\n    \\\"lung failure\\\",\\n    \\\"lung ailment\\\",\\n    \\\"lung injury\\\",\\n    \\\"lung\\\",\\n    \\\"complications from aortic dissection\\\",\\n    \\\"aortic dissection\\\",\\n    \\\"cardiopulmonary arrest\\\",\\n    \\\"animal euthanasia\\\",\\n    \\\"euthanasia\\\",\\n    \\\"air strike\\\",\\n    \\\"euthanised following paddock accident\\\",\\n    \\\"euthanised following stomach tumour\\\",\\n    \\\"euthanised\\\",\\n    \\\"chest infection\\\",\\n    \\\"traffic accident\\\",\\n    \\\"complications from hypertension\\\",\\n    \\\"hypertension\\\",\\n    \\\"car bomb\\\",\\n    \\\"respiratory problems\\\",\\n    \\\"surgical complications\\\",\\n    \\\"Pick disease\\\",\\n    \\\"respiratory infection\\\",\\n    \\\"assassinated\\\",\\n    \\\"chronic obstructive pulmonary disease\\\",\\n    \\\"avalanche\\\",\\n]\\ncause_of_death = sorted(list(set(cause_of_death)), key=lambda x: len(x), reverse=True)\";\n",
       "                var nbb_formatted_code = \"# Creating lists for each category and sorting by decreasing length and removing duplicates\\n\\npolitics_govt_law = [\\n    \\\"Connecticut\\\",\\n    \\\"co founder of Reporters Committee for Freedom of the Press\\\",\\n    \\\"founder of the Kizito Mihigo Peace Foundation\\\",\\n    \\\"co founder of the Global Wind Energy Council\\\",\\n    \\\"co founder of Electronic Frontier Foundation\\\",\\n    \\\"co founder of Congressional Black Caucus\\\",\\n    \\\"co founder of the Social Liberal Party\\\",\\n    \\\"founder of the Moscow Helsinki Group\\\",\\n    \\\"founder of the Burning Man festival\\\",\\n    \\\"founder of the Popular Party\\\",\\n    \\\"founder of the Aryan Nations\\\",\\n    \\\"founder of Prison Fellowship\\\",\\n    \\\"co founder of the Democrats\\\",\\n    \\\"founder of the People Party\\\",\\n    \\\"founder of the Association\\\",\\n    \\\"and co founder of the SDP\\\",\\n    \\\"founder of Gun Owners of\\\",\\n    \\\"founder of Awami Tahreek\\\",\\n    \\\"co founder of the SDLP\\\",\\n    \\\"co founder of FoLAR\\\",\\n    \\\"founder of EDEK\\\",\\n    \\\"Oregon\\\",\\n    \\\"and feminist\\\",\\n    \\\"oldest surviving member of the House of Representatives\\\",\\n    \\\"member of the House of Representatives for Toledo West\\\",\\n    \\\"member of the House of Representatives for Tokyo\\\",\\n    \\\"member of the House of Representatives for\\\",\\n    \\\"member of the House of Representatives\\\",\\n    \\\"Dean of the Diplomatic Corps of Washington\\\",\\n    \\\"inventor of the term series of tubes\\\",\\n    \\\"and political activist\\\",\\n    \\\"and social activist\\\",\\n    \\\"deputy\\\",\\n    \\\"and Revisionist Zionist activist\\\",\\n    \\\"and anti apartheid activist\\\",\\n    \\\"and animal rights activist\\\",\\n    \\\"and civil rights activist\\\",\\n    \\\"and conservative activist\\\",\\n    \\\"and human rights activist\\\",\\n    \\\"and libertarian activist\\\",\\n    \\\"and gay rights activist\\\",\\n    \\\"and political activist\\\",\\n    \\\"environmental activist\\\",\\n    \\\"and social activist\\\",\\n    \\\"political activist\\\",\\n    \\\"and AIDS activist\\\",\\n    \\\"feminist activist\\\",\\n    \\\"peace activist\\\",\\n    \\\"socio political researcher\\\",\\n    \\\"Charter signatory\\\",\\n    \\\"involved in negotiations for the Alaska Native Claims Settlement Act\\\",\\n    \\\"and lawyer\\\",\\n    \\\"lawyer\\\",\\n]\\npolitics_govt_law = sorted(\\n    list(set(politics_govt_law)), key=lambda x: len(x), reverse=True\\n)\\n\\narts = [\\n    \\\"and director\\\",\\n    \\\"director\\\",\\n    \\\"actor\\\",\\n    \\\"playwright\\\",\\n    \\\"and literary critic\\\",\\n    \\\"and cultural critic\\\",\\n    \\\"and theater critic\\\",\\n    \\\"and music critic\\\",\\n    \\\"literary critic\\\",\\n    \\\"culinary critic\\\",\\n    \\\"and film critic\\\",\\n    \\\"and art critic\\\",\\n    \\\"film critic\\\",\\n    \\\"and critic\\\",\\n    \\\"critic\\\",\\n    \\\"and television presenter\\\",\\n    \\\"and television actress\\\",\\n    \\\"pornographic actress\\\",\\n    \\\"; mother of actress\\\",\\n    \\\"actress\\\",\\n    \\\"co founder of the Notting Hill Carnival\\\",\\n    \\\"co founder of Teilif\\u00eds na Gaeilge\\\",\\n    \\\"founder of magazine\\\",\\n    \\\"founder of Theatre\\\",\\n    \\\"founder of the University of the Madrigal Singers\\\",\\n    \\\"co founder of Rankin Bass Productions\\\",\\n    \\\"founder of the Shanghai Biennale\\\",\\n    \\\"a founder of modern literature\\\",\\n    \\\"founder of The Jargon Society\\\",\\n    \\\"and co founder of Swell Maps\\\",\\n    \\\"founder of Kalnirnay almanac\\\",\\n    \\\"founder of Philles Records\\\",\\n    \\\"co founder of Group Zero\\\",\\n    \\\"founder of Armet & Davis\\\",\\n    \\\"founder of Books on Tape\\\",\\n    \\\"founder of Kinotavr\\\",\\n    \\\"founder of Pax TV\\\",\\n    \\\"and folk musician\\\",\\n    \\\"jazz musician\\\",\\n    \\\"musician\\\",\\n    \\\"Oliver Twist\\\",\\n    \\\"painter\\\",\\n    \\\"lyricist of State Anthem of\\\",\\n    \\\"and lyricist\\\",\\n    \\\"lyricist\\\",\\n    \\\"and sculptor\\\",\\n    \\\"and adult filmmaker\\\",\\n    \\\"and filmmaker\\\",\\n    \\\"filmmaker\\\",\\n    \\\"and book illustrator\\\",\\n    \\\"and illustrator\\\",\\n    \\\"illustrator\\\",\\n    \\\"and literary critic\\\",\\n    \\\"and cartoonist\\\",\\n    \\\"and printmaker\\\",\\n    \\\"printmaker\\\",\\n    \\\"and dramatist\\\",\\n]\\narts = sorted(list(set(arts)), key=lambda x: len(x), reverse=True)\\n\\nsports = [\\n    \\\"founder of the United Congress\\\",\\n    \\\"founder of International Gymnastics Hall of Fame\\\",\\n    \\\"and coach\\\",\\n    \\\"two time Olympic champion\\\",\\n    \\\"and Olympic champion\\\",\\n    \\\"Olympic champion\\\",\\n    \\\"and baseball coach\\\",\\n    \\\"head coach\\\",\\n    \\\"and coach\\\",\\n]\\nsports = sorted(list(set(sports)), key=lambda x: len(x), reverse=True)\\n\\nsciences = [\\n    \\\"and philosopher of social science\\\",\\n    \\\"co inventor of Fuchs Sherr modulated neutron initiator\\\",\\n    \\\"claimed to be the inventor of Silly Putty\\\",\\n    \\\"inventor of the rainbow hologram\\\",\\n    \\\"inventor of gamma ray camera\\\",\\n    \\\"and inventor of electronic instruments\\\",\\n    \\\"and researcher during World War II\\\",\\n]\\nsciences = sorted(list(set(sciences)), key=lambda x: len(x), reverse=True)\\n\\nbusiness_farming = [\\n    \\\"founder of Electronic Data Systems\\\",\\n    \\\"founder of the Norbrook Group\\\",\\n    \\\"co founder of March Engineering\\\",\\n    \\\"founder of B Dalton\\\",\\n    \\\"founder of CarMax\\\",\\n    \\\"inventor of the TV dinner\\\",\\n]\\nbusiness_farming = sorted(\\n    list(set(business_farming)), key=lambda x: len(x), reverse=True\\n)\\n\\nacademia_humanities = [\\n    \\\"transhumanist philosopher\\\",\\n    \\\"co founder of Central Technological University\\\",\\n    \\\"founder of Hummel figurine museum\\\",\\n    \\\"founder of the Makah Museum\\\",\\n    \\\"co founder of BANU\\\",\\n    \\\"founder of GITAM\\\",\\n    \\\"co founder of the International Women Air & Space Museum\\\",\\n    \\\"and co founder of the Studio Museum in Harlem\\\",\\n    \\\"founder of Ricardo Brennand Institute\\\",\\n    \\\"founder of Strake Jesuit College Prep\\\",\\n    \\\"co founder of Notre Dame College\\\",\\n    \\\"founder of the Mori Art Museum\\\",\\n    \\\"emeritus professor at Scripps Institution of Oceanography\\\",\\n    \\\"professor at Divinity School\\\",\\n    \\\"and university professor\\\",\\n    \\\"professor of pediatrics\\\",\\n    \\\"literature professor\\\",\\n    \\\"University professor\\\",\\n    \\\"and dance professor\\\",\\n    \\\"and film professor\\\",\\n    \\\"and law professor\\\",\\n    \\\"and USC professor\\\",\\n    \\\"college professor\\\",\\n    \\\"professor\\\",\\n    \\\"and curator\\\",\\n    \\\"curator\\\",\\n    \\\"and arts activist\\\",\\n    \\\"specialist in Catholic history in Alaska\\\",\\n    \\\"restored the Minnesota Governor Residence\\\",\\n    \\\"academician\\\",\\n    \\\"academic\\\",\\n    \\\"fired football coach Woody Hayes\\\",\\n]\\nacademia_humanities = sorted(\\n    list(set(academia_humanities)), key=lambda x: len(x), reverse=True\\n)\\n\\nlaw_enf_military_operator = [\\n    \\\"New South Police Commissioner\\\",\\n    \\\"founder of Liberation Front\\\",\\n    \\\"co founder of Hezbollah\\\",\\n    \\\"co founder of Royal Chicano Air Force\\\",\\n]\\nlaw_enf_military_operator = sorted(\\n    list(set(law_enf_military_operator)), key=lambda x: len(x), reverse=True\\n)\\n\\nspiritual = [\\n    \\\"a founder of the Franciscan Friars of the Renewal\\\",\\n    \\\"co founder of Youth Specialties\\\",\\n]\\nspiritual = sorted(list(set(spiritual)), key=lambda x: len(x), reverse=True)\\n\\nsocial = [\\n    \\\"founder of House on Capitol Hill\\\",\\n    \\\"co founder of Maggie Centres\\\",\\n    \\\"cofounder of the Kal\\\",\\n    \\\"founder of L'Arche\\\",\\n]\\nsocial = sorted(list(set(social)), key=lambda x: len(x), reverse=True)\\n\\ncrime = []\\ncrime = sorted(list(set(crime)), key=lambda x: len(x), reverse=True)\\n\\nevent_record_other = []\\nevent_record_other = sorted(\\n    list(set(event_record_other)), key=lambda x: len(x), reverse=True\\n)\\n\\nother_species = []\\nother_species = sorted(list(set(other_species)), key=lambda x: len(x), reverse=True)\\n\\ncause_of_death = [\\n    \\\"myocardial infarction\\\",\\n    \\\"complications from a liver transplant\\\",\\n    \\\"liver thrombosis\\\",\\n    \\\"liver infection\\\",\\n    \\\"liver illness\\\",\\n    \\\"liver ailment\\\",\\n    \\\"shooting\\\",\\n    \\\"asthma attack\\\",\\n    \\\"asthma\\\",\\n    \\\"accidental drug overdose\\\",\\n    \\\"suspected drug overdose\\\",\\n    \\\"drug overdose\\\",\\n    \\\"road accident\\\",\\n    \\\"injuries from a motorcycle accident\\\",\\n    \\\"motorcycle accident\\\",\\n    \\\"drone strike\\\",\\n    \\\"bomb blast\\\",\\n    \\\"house fire\\\",\\n    \\\"complications from cardiovascular disease\\\",\\n    \\\"cardiovascular disease\\\",\\n    \\\"illness relating to complications from an old injury\\\",\\n    \\\"complications from a long illness\\\",\\n    \\\"complications from an illness\\\",\\n    \\\"neurodegenerative illness\\\",\\n    \\\"after a long illness\\\",\\n    \\\"respiratory illness\\\",\\n    \\\"after brief illness\\\",\\n    \\\"lingering illness\\\",\\n    \\\"cardiac illness\\\",\\n    \\\"severe illness\\\",\\n    \\\"brief illness\\\",\\n    \\\"after illness\\\",\\n    \\\"liver illness\\\",\\n    \\\"long illness\\\",\\n    \\\"illness\\\",\\n    \\\"pulmonary edema\\\",\\n    \\\"complications from lung transplant\\\",\\n    \\\"complications from collapsed lung\\\",\\n    \\\"complications of collapsed lung\\\",\\n    \\\"complications from lung surgery\\\",\\n    \\\"small cell lung carcinoma\\\",\\n    \\\"complications from lung\\\",\\n    \\\"lung complications\\\",\\n    \\\"blood clot in lung\\\",\\n    \\\"lung congestion\\\",\\n    \\\"lung problems\\\",\\n    \\\"lung failure\\\",\\n    \\\"lung ailment\\\",\\n    \\\"lung injury\\\",\\n    \\\"lung\\\",\\n    \\\"complications from aortic dissection\\\",\\n    \\\"aortic dissection\\\",\\n    \\\"cardiopulmonary arrest\\\",\\n    \\\"animal euthanasia\\\",\\n    \\\"euthanasia\\\",\\n    \\\"air strike\\\",\\n    \\\"euthanised following paddock accident\\\",\\n    \\\"euthanised following stomach tumour\\\",\\n    \\\"euthanised\\\",\\n    \\\"chest infection\\\",\\n    \\\"traffic accident\\\",\\n    \\\"complications from hypertension\\\",\\n    \\\"hypertension\\\",\\n    \\\"car bomb\\\",\\n    \\\"respiratory problems\\\",\\n    \\\"surgical complications\\\",\\n    \\\"Pick disease\\\",\\n    \\\"respiratory infection\\\",\\n    \\\"assassinated\\\",\\n    \\\"chronic obstructive pulmonary disease\\\",\\n    \\\"avalanche\\\",\\n]\\ncause_of_death = sorted(list(set(cause_of_death)), key=lambda x: len(x), reverse=True)\";\n",
       "                var nbb_cells = Jupyter.notebook.get_cells();\n",
       "                for (var i = 0; i < nbb_cells.length; ++i) {\n",
       "                    if (nbb_cells[i].input_prompt_number == nbb_cell_id) {\n",
       "                        if (nbb_cells[i].get_text() == nbb_unformatted_code) {\n",
       "                             nbb_cells[i].set_text(nbb_formatted_code);\n",
       "                        }\n",
       "                        break;\n",
       "                    }\n",
       "                }\n",
       "            }, 500);\n",
       "            "
      ],
      "text/plain": [
       "<IPython.core.display.Javascript object>"
      ]
     },
     "metadata": {},
     "output_type": "display_data"
    }
   ],
   "source": [
    "# Creating lists for each category and sorting by decreasing length and removing duplicates\n",
    "\n",
    "politics_govt_law = [\n",
    "    \"Connecticut\",\n",
    "    \"co founder of Reporters Committee for Freedom of the Press\",\n",
    "    \"founder of the Kizito Mihigo Peace Foundation\",\n",
    "    \"co founder of the Global Wind Energy Council\",\n",
    "    \"co founder of Electronic Frontier Foundation\",\n",
    "    \"co founder of Congressional Black Caucus\",\n",
    "    \"co founder of the Social Liberal Party\",\n",
    "    \"founder of the Moscow Helsinki Group\",\n",
    "    \"founder of the Burning Man festival\",\n",
    "    \"founder of the Popular Party\",\n",
    "    \"founder of the Aryan Nations\",\n",
    "    \"founder of Prison Fellowship\",\n",
    "    \"co founder of the Democrats\",\n",
    "    \"founder of the People Party\",\n",
    "    \"founder of the Association\",\n",
    "    \"and co founder of the SDP\",\n",
    "    \"founder of Gun Owners of\",\n",
    "    \"founder of Awami Tahreek\",\n",
    "    \"co founder of the SDLP\",\n",
    "    \"co founder of FoLAR\",\n",
    "    \"founder of EDEK\",\n",
    "    \"Oregon\",\n",
    "    \"and feminist\",\n",
    "    \"oldest surviving member of the House of Representatives\",\n",
    "    \"member of the House of Representatives for Toledo West\",\n",
    "    \"member of the House of Representatives for Tokyo\",\n",
    "    \"member of the House of Representatives for\",\n",
    "    \"member of the House of Representatives\",\n",
    "    \"Dean of the Diplomatic Corps of Washington\",\n",
    "    \"inventor of the term series of tubes\",\n",
    "    \"and political activist\",\n",
    "    \"and social activist\",\n",
    "    \"deputy\",\n",
    "    \"and Revisionist Zionist activist\",\n",
    "    \"and anti apartheid activist\",\n",
    "    \"and animal rights activist\",\n",
    "    \"and civil rights activist\",\n",
    "    \"and conservative activist\",\n",
    "    \"and human rights activist\",\n",
    "    \"and libertarian activist\",\n",
    "    \"and gay rights activist\",\n",
    "    \"and political activist\",\n",
    "    \"environmental activist\",\n",
    "    \"and social activist\",\n",
    "    \"political activist\",\n",
    "    \"and AIDS activist\",\n",
    "    \"feminist activist\",\n",
    "    \"peace activist\",\n",
    "    \"socio political researcher\",\n",
    "    \"Charter signatory\",\n",
    "    \"involved in negotiations for the Alaska Native Claims Settlement Act\",\n",
    "    \"and lawyer\",\n",
    "    \"lawyer\",\n",
    "]\n",
    "politics_govt_law = sorted(\n",
    "    list(set(politics_govt_law)), key=lambda x: len(x), reverse=True\n",
    ")\n",
    "\n",
    "arts = [\n",
    "    \"and director\",\n",
    "    \"director\",\n",
    "    \"actor\",\n",
    "    \"playwright\",\n",
    "    \"and literary critic\",\n",
    "    \"and cultural critic\",\n",
    "    \"and theater critic\",\n",
    "    \"and music critic\",\n",
    "    \"literary critic\",\n",
    "    \"culinary critic\",\n",
    "    \"and film critic\",\n",
    "    \"and art critic\",\n",
    "    \"film critic\",\n",
    "    \"and critic\",\n",
    "    \"critic\",\n",
    "    \"and television presenter\",\n",
    "    \"and television actress\",\n",
    "    \"pornographic actress\",\n",
    "    \"; mother of actress\",\n",
    "    \"actress\",\n",
    "    \"co founder of the Notting Hill Carnival\",\n",
    "    \"co founder of Teilifís na Gaeilge\",\n",
    "    \"founder of magazine\",\n",
    "    \"founder of Theatre\",\n",
    "    \"founder of the University of the Madrigal Singers\",\n",
    "    \"co founder of Rankin Bass Productions\",\n",
    "    \"founder of the Shanghai Biennale\",\n",
    "    \"a founder of modern literature\",\n",
    "    \"founder of The Jargon Society\",\n",
    "    \"and co founder of Swell Maps\",\n",
    "    \"founder of Kalnirnay almanac\",\n",
    "    \"founder of Philles Records\",\n",
    "    \"co founder of Group Zero\",\n",
    "    \"founder of Armet & Davis\",\n",
    "    \"founder of Books on Tape\",\n",
    "    \"founder of Kinotavr\",\n",
    "    \"founder of Pax TV\",\n",
    "    \"and folk musician\",\n",
    "    \"jazz musician\",\n",
    "    \"musician\",\n",
    "    \"Oliver Twist\",\n",
    "    \"painter\",\n",
    "    \"lyricist of State Anthem of\",\n",
    "    \"and lyricist\",\n",
    "    \"lyricist\",\n",
    "    \"and sculptor\",\n",
    "    \"and adult filmmaker\",\n",
    "    \"and filmmaker\",\n",
    "    \"filmmaker\",\n",
    "    \"and book illustrator\",\n",
    "    \"and illustrator\",\n",
    "    \"illustrator\",\n",
    "    \"and literary critic\",\n",
    "    \"and cartoonist\",\n",
    "    \"and printmaker\",\n",
    "    \"printmaker\",\n",
    "    \"and dramatist\",\n",
    "]\n",
    "arts = sorted(list(set(arts)), key=lambda x: len(x), reverse=True)\n",
    "\n",
    "sports = [\n",
    "    \"founder of the United Congress\",\n",
    "    \"founder of International Gymnastics Hall of Fame\",\n",
    "    \"and coach\",\n",
    "    \"two time Olympic champion\",\n",
    "    \"and Olympic champion\",\n",
    "    \"Olympic champion\",\n",
    "    \"and baseball coach\",\n",
    "    \"head coach\",\n",
    "    \"and coach\",\n",
    "]\n",
    "sports = sorted(list(set(sports)), key=lambda x: len(x), reverse=True)\n",
    "\n",
    "sciences = [\n",
    "    \"and philosopher of social science\",\n",
    "    \"co inventor of Fuchs Sherr modulated neutron initiator\",\n",
    "    \"claimed to be the inventor of Silly Putty\",\n",
    "    \"inventor of the rainbow hologram\",\n",
    "    \"inventor of gamma ray camera\",\n",
    "    \"and inventor of electronic instruments\",\n",
    "    \"and researcher during World War II\",\n",
    "]\n",
    "sciences = sorted(list(set(sciences)), key=lambda x: len(x), reverse=True)\n",
    "\n",
    "business_farming = [\n",
    "    \"founder of Electronic Data Systems\",\n",
    "    \"founder of the Norbrook Group\",\n",
    "    \"co founder of March Engineering\",\n",
    "    \"founder of B Dalton\",\n",
    "    \"founder of CarMax\",\n",
    "    \"inventor of the TV dinner\",\n",
    "]\n",
    "business_farming = sorted(\n",
    "    list(set(business_farming)), key=lambda x: len(x), reverse=True\n",
    ")\n",
    "\n",
    "academia_humanities = [\n",
    "    \"transhumanist philosopher\",\n",
    "    \"co founder of Central Technological University\",\n",
    "    \"founder of Hummel figurine museum\",\n",
    "    \"founder of the Makah Museum\",\n",
    "    \"co founder of BANU\",\n",
    "    \"founder of GITAM\",\n",
    "    \"co founder of the International Women Air & Space Museum\",\n",
    "    \"and co founder of the Studio Museum in Harlem\",\n",
    "    \"founder of Ricardo Brennand Institute\",\n",
    "    \"founder of Strake Jesuit College Prep\",\n",
    "    \"co founder of Notre Dame College\",\n",
    "    \"founder of the Mori Art Museum\",\n",
    "    \"emeritus professor at Scripps Institution of Oceanography\",\n",
    "    \"professor at Divinity School\",\n",
    "    \"and university professor\",\n",
    "    \"professor of pediatrics\",\n",
    "    \"literature professor\",\n",
    "    \"University professor\",\n",
    "    \"and dance professor\",\n",
    "    \"and film professor\",\n",
    "    \"and law professor\",\n",
    "    \"and USC professor\",\n",
    "    \"college professor\",\n",
    "    \"professor\",\n",
    "    \"and curator\",\n",
    "    \"curator\",\n",
    "    \"and arts activist\",\n",
    "    \"specialist in Catholic history in Alaska\",\n",
    "    \"restored the Minnesota Governor Residence\",\n",
    "    \"academician\",\n",
    "    \"academic\",\n",
    "    \"fired football coach Woody Hayes\",\n",
    "]\n",
    "academia_humanities = sorted(\n",
    "    list(set(academia_humanities)), key=lambda x: len(x), reverse=True\n",
    ")\n",
    "\n",
    "law_enf_military_operator = [\n",
    "    \"New South Police Commissioner\",\n",
    "    \"founder of Liberation Front\",\n",
    "    \"co founder of Hezbollah\",\n",
    "    \"co founder of Royal Chicano Air Force\",\n",
    "]\n",
    "law_enf_military_operator = sorted(\n",
    "    list(set(law_enf_military_operator)), key=lambda x: len(x), reverse=True\n",
    ")\n",
    "\n",
    "spiritual = [\n",
    "    \"a founder of the Franciscan Friars of the Renewal\",\n",
    "    \"co founder of Youth Specialties\",\n",
    "]\n",
    "spiritual = sorted(list(set(spiritual)), key=lambda x: len(x), reverse=True)\n",
    "\n",
    "social = [\n",
    "    \"founder of House on Capitol Hill\",\n",
    "    \"co founder of Maggie Centres\",\n",
    "    \"cofounder of the Kal\",\n",
    "    \"founder of L'Arche\",\n",
    "]\n",
    "social = sorted(list(set(social)), key=lambda x: len(x), reverse=True)\n",
    "\n",
    "crime = []\n",
    "crime = sorted(list(set(crime)), key=lambda x: len(x), reverse=True)\n",
    "\n",
    "event_record_other = []\n",
    "event_record_other = sorted(\n",
    "    list(set(event_record_other)), key=lambda x: len(x), reverse=True\n",
    ")\n",
    "\n",
    "other_species = []\n",
    "other_species = sorted(list(set(other_species)), key=lambda x: len(x), reverse=True)\n",
    "\n",
    "cause_of_death = [\n",
    "    \"myocardial infarction\",\n",
    "    \"complications from a liver transplant\",\n",
    "    \"liver thrombosis\",\n",
    "    \"liver infection\",\n",
    "    \"liver illness\",\n",
    "    \"liver ailment\",\n",
    "    \"shooting\",\n",
    "    \"asthma attack\",\n",
    "    \"asthma\",\n",
    "    \"accidental drug overdose\",\n",
    "    \"suspected drug overdose\",\n",
    "    \"drug overdose\",\n",
    "    \"road accident\",\n",
    "    \"injuries from a motorcycle accident\",\n",
    "    \"motorcycle accident\",\n",
    "    \"drone strike\",\n",
    "    \"bomb blast\",\n",
    "    \"house fire\",\n",
    "    \"complications from cardiovascular disease\",\n",
    "    \"cardiovascular disease\",\n",
    "    \"illness relating to complications from an old injury\",\n",
    "    \"complications from a long illness\",\n",
    "    \"complications from an illness\",\n",
    "    \"neurodegenerative illness\",\n",
    "    \"after a long illness\",\n",
    "    \"respiratory illness\",\n",
    "    \"after brief illness\",\n",
    "    \"lingering illness\",\n",
    "    \"cardiac illness\",\n",
    "    \"severe illness\",\n",
    "    \"brief illness\",\n",
    "    \"after illness\",\n",
    "    \"liver illness\",\n",
    "    \"long illness\",\n",
    "    \"illness\",\n",
    "    \"pulmonary edema\",\n",
    "    \"complications from lung transplant\",\n",
    "    \"complications from collapsed lung\",\n",
    "    \"complications of collapsed lung\",\n",
    "    \"complications from lung surgery\",\n",
    "    \"small cell lung carcinoma\",\n",
    "    \"complications from lung\",\n",
    "    \"lung complications\",\n",
    "    \"blood clot in lung\",\n",
    "    \"lung congestion\",\n",
    "    \"lung problems\",\n",
    "    \"lung failure\",\n",
    "    \"lung ailment\",\n",
    "    \"lung injury\",\n",
    "    \"lung\",\n",
    "    \"complications from aortic dissection\",\n",
    "    \"aortic dissection\",\n",
    "    \"cardiopulmonary arrest\",\n",
    "    \"animal euthanasia\",\n",
    "    \"euthanasia\",\n",
    "    \"air strike\",\n",
    "    \"euthanised following paddock accident\",\n",
    "    \"euthanised following stomach tumour\",\n",
    "    \"euthanised\",\n",
    "    \"chest infection\",\n",
    "    \"traffic accident\",\n",
    "    \"complications from hypertension\",\n",
    "    \"hypertension\",\n",
    "    \"car bomb\",\n",
    "    \"respiratory problems\",\n",
    "    \"surgical complications\",\n",
    "    \"Pick disease\",\n",
    "    \"respiratory infection\",\n",
    "    \"assassinated\",\n",
    "    \"chronic obstructive pulmonary disease\",\n",
    "    \"avalanche\",\n",
    "]\n",
    "cause_of_death = sorted(list(set(cause_of_death)), key=lambda x: len(x), reverse=True)"
   ]
  },
  {
   "cell_type": "code",
   "execution_count": 1105,
   "id": "a4112663",
   "metadata": {},
   "outputs": [
    {
     "data": {
      "application/javascript": [
       "\n",
       "            setTimeout(function() {\n",
       "                var nbb_cell_id = 1105;\n",
       "                var nbb_unformatted_code = \"# Dropping info_4_0 value for entries with duplicate category value\\ndf.loc[df[df[\\\"info_4_0\\\"] == \\\"New\\\"].index, \\\"info_4_0\\\"] = \\\"\\\"\\n\\n# Dropping info_4_0 value for entries with duplicate category value\\ndf.loc[df[df[\\\"info_4_0\\\"] == \\\"Massachusetts\\\"].index, \\\"info_4_0\\\"] = \\\"\\\"\\n\\n# Dropping info_4_0 value for entries with duplicate category value\\ndf.loc[df[df[\\\"info_4_0\\\"] == \\\"Jr\\\"].index, \\\"info_4_0\\\"] = \\\"\\\"\\n\\n# Dropping info_4_0 value for entries with duplicate category value\\ndf.loc[df[df[\\\"info_4_0\\\"] == \\\"Washington\\\"].index, \\\"info_4_0\\\"] = \\\"\\\"\\n\\n# Dropping info_4_0 value for entries with duplicate category value\\ndf.loc[df[df[\\\"info_4_0\\\"] == \\\"Michigan\\\"].index, \\\"info_4_0\\\"] = \\\"\\\"\\n\\n# Hard-coding info_4_0 value for entry to correctly categorize\\ndf.loc[\\n    df[df[\\\"link\\\"] == \\\"https://en.wikipedia.org/wiki/H._Fred_Clark\\\"].index, \\\"info_4_0\\\"\\n] = \\\"humanitarian\\\"\\n\\n# Dropping info_4_0 value for entries with duplicate category value\\ndf.loc[df[df[\\\"info_4_0\\\"] == \\\"Alaska\\\"].index, \\\"info_4_0\\\"] = \\\"\\\"\\n\\n# Dropping info_4_0 value for entries with duplicate category value\\ndf.loc[df[df[\\\"info_4_0\\\"] == \\\"Minnesota\\\"].index, \\\"info_4_0\\\"] = \\\"\\\"\";\n",
       "                var nbb_formatted_code = \"# Dropping info_4_0 value for entries with duplicate category value\\ndf.loc[df[df[\\\"info_4_0\\\"] == \\\"New\\\"].index, \\\"info_4_0\\\"] = \\\"\\\"\\n\\n# Dropping info_4_0 value for entries with duplicate category value\\ndf.loc[df[df[\\\"info_4_0\\\"] == \\\"Massachusetts\\\"].index, \\\"info_4_0\\\"] = \\\"\\\"\\n\\n# Dropping info_4_0 value for entries with duplicate category value\\ndf.loc[df[df[\\\"info_4_0\\\"] == \\\"Jr\\\"].index, \\\"info_4_0\\\"] = \\\"\\\"\\n\\n# Dropping info_4_0 value for entries with duplicate category value\\ndf.loc[df[df[\\\"info_4_0\\\"] == \\\"Washington\\\"].index, \\\"info_4_0\\\"] = \\\"\\\"\\n\\n# Dropping info_4_0 value for entries with duplicate category value\\ndf.loc[df[df[\\\"info_4_0\\\"] == \\\"Michigan\\\"].index, \\\"info_4_0\\\"] = \\\"\\\"\\n\\n# Hard-coding info_4_0 value for entry to correctly categorize\\ndf.loc[\\n    df[df[\\\"link\\\"] == \\\"https://en.wikipedia.org/wiki/H._Fred_Clark\\\"].index, \\\"info_4_0\\\"\\n] = \\\"humanitarian\\\"\\n\\n# Dropping info_4_0 value for entries with duplicate category value\\ndf.loc[df[df[\\\"info_4_0\\\"] == \\\"Alaska\\\"].index, \\\"info_4_0\\\"] = \\\"\\\"\\n\\n# Dropping info_4_0 value for entries with duplicate category value\\ndf.loc[df[df[\\\"info_4_0\\\"] == \\\"Minnesota\\\"].index, \\\"info_4_0\\\"] = \\\"\\\"\";\n",
       "                var nbb_cells = Jupyter.notebook.get_cells();\n",
       "                for (var i = 0; i < nbb_cells.length; ++i) {\n",
       "                    if (nbb_cells[i].input_prompt_number == nbb_cell_id) {\n",
       "                        if (nbb_cells[i].get_text() == nbb_unformatted_code) {\n",
       "                             nbb_cells[i].set_text(nbb_formatted_code);\n",
       "                        }\n",
       "                        break;\n",
       "                    }\n",
       "                }\n",
       "            }, 500);\n",
       "            "
      ],
      "text/plain": [
       "<IPython.core.display.Javascript object>"
      ]
     },
     "metadata": {},
     "output_type": "display_data"
    }
   ],
   "source": [
    "# Dropping info_4_0 value for entries with duplicate category value\n",
    "df.loc[df[df[\"info_4_0\"] == \"New\"].index, \"info_4_0\"] = \"\"\n",
    "\n",
    "# Dropping info_4_0 value for entries with duplicate category value\n",
    "df.loc[df[df[\"info_4_0\"] == \"Massachusetts\"].index, \"info_4_0\"] = \"\"\n",
    "\n",
    "# Dropping info_4_0 value for entries with duplicate category value\n",
    "df.loc[df[df[\"info_4_0\"] == \"Jr\"].index, \"info_4_0\"] = \"\"\n",
    "\n",
    "# Dropping info_4_0 value for entries with duplicate category value\n",
    "df.loc[df[df[\"info_4_0\"] == \"Washington\"].index, \"info_4_0\"] = \"\"\n",
    "\n",
    "# Dropping info_4_0 value for entries with duplicate category value\n",
    "df.loc[df[df[\"info_4_0\"] == \"Michigan\"].index, \"info_4_0\"] = \"\"\n",
    "\n",
    "# Hard-coding info_4_0 value for entry to correctly categorize\n",
    "df.loc[\n",
    "    df[df[\"link\"] == \"https://en.wikipedia.org/wiki/H._Fred_Clark\"].index, \"info_4_0\"\n",
    "] = \"humanitarian\"\n",
    "\n",
    "# Dropping info_4_0 value for entries with duplicate category value\n",
    "df.loc[df[df[\"info_4_0\"] == \"Alaska\"].index, \"info_4_0\"] = \"\"\n",
    "\n",
    "# Dropping info_4_0 value for entries with duplicate category value\n",
    "df.loc[df[df[\"info_4_0\"] == \"Minnesota\"].index, \"info_4_0\"] = \"\""
   ]
  },
  {
   "cell_type": "markdown",
   "id": "edb7348e",
   "metadata": {},
   "source": [
    "#### Creating `known_for_dict` Dictionary of Category Keys and Specific Role Lists of Values"
   ]
  },
  {
   "cell_type": "code",
   "execution_count": 1106,
   "id": "c78166a2",
   "metadata": {},
   "outputs": [
    {
     "data": {
      "application/javascript": [
       "\n",
       "            setTimeout(function() {\n",
       "                var nbb_cell_id = 1106;\n",
       "                var nbb_unformatted_code = \"# Combining separate lists into one dictionary\\nknown_for_dict = {\\n    \\\"social\\\": social,\\n    \\\"spiritual\\\": spiritual,\\n    \\\"academia_humanities\\\": academia_humanities,\\n    \\\"business_farming\\\": business_farming,\\n    \\\"sciences\\\": sciences,\\n    \\\"politics_govt_law\\\": politics_govt_law,\\n    \\\"law_enf_military_operator\\\": law_enf_military_operator,\\n    \\\"crime\\\": crime,\\n    \\\"event_record_other\\\": event_record_other,\\n    \\\"other_species\\\": other_species,\\n    \\\"arts\\\": arts,\\n    \\\"sports\\\": sports,\\n\\n}\";\n",
       "                var nbb_formatted_code = \"# Combining separate lists into one dictionary\\nknown_for_dict = {\\n    \\\"social\\\": social,\\n    \\\"spiritual\\\": spiritual,\\n    \\\"academia_humanities\\\": academia_humanities,\\n    \\\"business_farming\\\": business_farming,\\n    \\\"sciences\\\": sciences,\\n    \\\"politics_govt_law\\\": politics_govt_law,\\n    \\\"law_enf_military_operator\\\": law_enf_military_operator,\\n    \\\"crime\\\": crime,\\n    \\\"event_record_other\\\": event_record_other,\\n    \\\"other_species\\\": other_species,\\n    \\\"arts\\\": arts,\\n    \\\"sports\\\": sports,\\n}\";\n",
       "                var nbb_cells = Jupyter.notebook.get_cells();\n",
       "                for (var i = 0; i < nbb_cells.length; ++i) {\n",
       "                    if (nbb_cells[i].input_prompt_number == nbb_cell_id) {\n",
       "                        if (nbb_cells[i].get_text() == nbb_unformatted_code) {\n",
       "                             nbb_cells[i].set_text(nbb_formatted_code);\n",
       "                        }\n",
       "                        break;\n",
       "                    }\n",
       "                }\n",
       "            }, 500);\n",
       "            "
      ],
      "text/plain": [
       "<IPython.core.display.Javascript object>"
      ]
     },
     "metadata": {},
     "output_type": "display_data"
    }
   ],
   "source": [
    "# Combining separate lists into one dictionary\n",
    "known_for_dict = {\n",
    "    \"social\": social,\n",
    "    \"spiritual\": spiritual,\n",
    "    \"academia_humanities\": academia_humanities,\n",
    "    \"business_farming\": business_farming,\n",
    "    \"sciences\": sciences,\n",
    "    \"politics_govt_law\": politics_govt_law,\n",
    "    \"law_enf_military_operator\": law_enf_military_operator,\n",
    "    \"crime\": crime,\n",
    "    \"event_record_other\": event_record_other,\n",
    "    \"other_species\": other_species,\n",
    "    \"arts\": arts,\n",
    "    \"sports\": sports,\n",
    "}"
   ]
  },
  {
   "cell_type": "markdown",
   "id": "51459578",
   "metadata": {},
   "source": [
    "#### Extracting `known_for` Categories and `cause_of_death` Values from `info_4_0`"
   ]
  },
  {
   "cell_type": "code",
   "execution_count": 1107,
   "id": "5d44f9b4",
   "metadata": {},
   "outputs": [
    {
     "name": "stdout",
     "output_type": "stream",
     "text": [
      "There are 31856 values in cause_of_death column.\n",
      "\n",
      "CPU times: total: 12.9 s\n",
      "Wall time: 13 s\n"
     ]
    },
    {
     "data": {
      "application/javascript": [
       "\n",
       "            setTimeout(function() {\n",
       "                var nbb_cell_id = 1107;\n",
       "                var nbb_unformatted_code = \"%%time\\n\\n# Column to check\\ncolumn = 'info_4_0'\\n\\n# Start dataframe\\ndataframe = df[df[column].notna()]\\n\\n# For loop to find cause in column and extract it to cause_of_death\\nfor cause in cause_of_death:\\n    for index in dataframe.index:\\n        item = df.loc[index, column]\\n        if item:\\n            if cause in item:\\n                if df.loc[index, 'cause_of_death']:\\n                    df.loc[index, 'cause_of_death'] = df.loc[index, 'cause_of_death'] + '/' + cause\\n                    df.loc[index, column] = item.replace(cause, '').strip()\\n                else:\\n                    df.loc[index, 'cause_of_death'] = cause\\n                    df.loc[index, column] = item.replace(cause, '').strip()\\n                \\n                \\n# For loop to find role in column and extract it as category\\nfor category, category_lst in known_for_dict.items():\\n    for role in category_lst:\\n        for index in dataframe.index:\\n                item = df.loc[index, column]\\n                if item:\\n                    if role in item:\\n                        df.loc[index, category] = 1\\n                        df.loc[index, column] = item.replace(role, '').strip()\\n\\n# Calculating num_categories\\ndf[\\\"num_categories\\\"] = df[known_for_dict.keys()].sum(axis=1)\\n\\n# Checking number of cause_of_death values\\nprint(f'There are {df[\\\"cause_of_death\\\"].notna().sum()} values in cause_of_death column.\\\\n')\";\n",
       "                var nbb_formatted_code = \"%%time\\n\\n# Column to check\\ncolumn = 'info_4_0'\\n\\n# Start dataframe\\ndataframe = df[df[column].notna()]\\n\\n# For loop to find cause in column and extract it to cause_of_death\\nfor cause in cause_of_death:\\n    for index in dataframe.index:\\n        item = df.loc[index, column]\\n        if item:\\n            if cause in item:\\n                if df.loc[index, 'cause_of_death']:\\n                    df.loc[index, 'cause_of_death'] = df.loc[index, 'cause_of_death'] + '/' + cause\\n                    df.loc[index, column] = item.replace(cause, '').strip()\\n                else:\\n                    df.loc[index, 'cause_of_death'] = cause\\n                    df.loc[index, column] = item.replace(cause, '').strip()\\n                \\n                \\n# For loop to find role in column and extract it as category\\nfor category, category_lst in known_for_dict.items():\\n    for role in category_lst:\\n        for index in dataframe.index:\\n                item = df.loc[index, column]\\n                if item:\\n                    if role in item:\\n                        df.loc[index, category] = 1\\n                        df.loc[index, column] = item.replace(role, '').strip()\\n\\n# Calculating num_categories\\ndf[\\\"num_categories\\\"] = df[known_for_dict.keys()].sum(axis=1)\\n\\n# Checking number of cause_of_death values\\nprint(f'There are {df[\\\"cause_of_death\\\"].notna().sum()} values in cause_of_death column.\\\\n')\";\n",
       "                var nbb_cells = Jupyter.notebook.get_cells();\n",
       "                for (var i = 0; i < nbb_cells.length; ++i) {\n",
       "                    if (nbb_cells[i].input_prompt_number == nbb_cell_id) {\n",
       "                        if (nbb_cells[i].get_text() == nbb_unformatted_code) {\n",
       "                             nbb_cells[i].set_text(nbb_formatted_code);\n",
       "                        }\n",
       "                        break;\n",
       "                    }\n",
       "                }\n",
       "            }, 500);\n",
       "            "
      ],
      "text/plain": [
       "<IPython.core.display.Javascript object>"
      ]
     },
     "metadata": {},
     "output_type": "display_data"
    }
   ],
   "source": [
    "%%time\n",
    "\n",
    "# Column to check\n",
    "column = 'info_4_0'\n",
    "\n",
    "# Start dataframe\n",
    "dataframe = df[df[column].notna()]\n",
    "\n",
    "# For loop to find cause in column and extract it to cause_of_death\n",
    "for cause in cause_of_death:\n",
    "    for index in dataframe.index:\n",
    "        item = df.loc[index, column]\n",
    "        if item:\n",
    "            if cause in item:\n",
    "                if df.loc[index, 'cause_of_death']:\n",
    "                    df.loc[index, 'cause_of_death'] = df.loc[index, 'cause_of_death'] + '/' + cause\n",
    "                    df.loc[index, column] = item.replace(cause, '').strip()\n",
    "                else:\n",
    "                    df.loc[index, 'cause_of_death'] = cause\n",
    "                    df.loc[index, column] = item.replace(cause, '').strip()\n",
    "                \n",
    "                \n",
    "# For loop to find role in column and extract it as category\n",
    "for category, category_lst in known_for_dict.items():\n",
    "    for role in category_lst:\n",
    "        for index in dataframe.index:\n",
    "                item = df.loc[index, column]\n",
    "                if item:\n",
    "                    if role in item:\n",
    "                        df.loc[index, category] = 1\n",
    "                        df.loc[index, column] = item.replace(role, '').strip()\n",
    "\n",
    "# Calculating num_categories\n",
    "df[\"num_categories\"] = df[known_for_dict.keys()].sum(axis=1)\n",
    "\n",
    "# Checking number of cause_of_death values\n",
    "print(f'There are {df[\"cause_of_death\"].notna().sum()} values in cause_of_death column.\\n')"
   ]
  },
  {
   "cell_type": "markdown",
   "id": "000bb10e",
   "metadata": {},
   "source": [
    "#### Checking Updated `num_categories` Value Counts"
   ]
  },
  {
   "cell_type": "code",
   "execution_count": 1108,
   "id": "dfc0f5d1",
   "metadata": {},
   "outputs": [
    {
     "data": {
      "text/plain": [
       "1    84354\n",
       "2    12718\n",
       "3      950\n",
       "4       10\n",
       "0        8\n",
       "Name: num_categories, dtype: int64"
      ]
     },
     "execution_count": 1108,
     "metadata": {},
     "output_type": "execute_result"
    },
    {
     "data": {
      "application/javascript": [
       "\n",
       "            setTimeout(function() {\n",
       "                var nbb_cell_id = 1108;\n",
       "                var nbb_unformatted_code = \"# Checking Updated num_categories Value Counts\\ndf[\\\"num_categories\\\"].value_counts()\";\n",
       "                var nbb_formatted_code = \"# Checking Updated num_categories Value Counts\\ndf[\\\"num_categories\\\"].value_counts()\";\n",
       "                var nbb_cells = Jupyter.notebook.get_cells();\n",
       "                for (var i = 0; i < nbb_cells.length; ++i) {\n",
       "                    if (nbb_cells[i].input_prompt_number == nbb_cell_id) {\n",
       "                        if (nbb_cells[i].get_text() == nbb_unformatted_code) {\n",
       "                             nbb_cells[i].set_text(nbb_formatted_code);\n",
       "                        }\n",
       "                        break;\n",
       "                    }\n",
       "                }\n",
       "            }, 500);\n",
       "            "
      ],
      "text/plain": [
       "<IPython.core.display.Javascript object>"
      ]
     },
     "metadata": {},
     "output_type": "display_data"
    }
   ],
   "source": [
    "# Checking Updated num_categories Value Counts\n",
    "df[\"num_categories\"].value_counts()"
   ]
  },
  {
   "cell_type": "markdown",
   "id": "6ba2617d",
   "metadata": {},
   "source": [
    "#### Observations:\n",
    "- We will proceed to rebuild `known_for_dict` and `cause_of_death` for the next iteration."
   ]
  },
  {
   "cell_type": "code",
   "execution_count": null,
   "id": "922d6d64",
   "metadata": {},
   "outputs": [],
   "source": []
  },
  {
   "cell_type": "code",
   "execution_count": null,
   "id": "a779b673",
   "metadata": {},
   "outputs": [],
   "source": []
  },
  {
   "cell_type": "code",
   "execution_count": null,
   "id": "63a0a8d4",
   "metadata": {},
   "outputs": [],
   "source": []
  },
  {
   "cell_type": "code",
   "execution_count": 1109,
   "id": "ecbe5c5d",
   "metadata": {},
   "outputs": [
    {
     "name": "stdout",
     "output_type": "stream",
     "text": [
      "dunzo!\n"
     ]
    },
    {
     "data": {
      "application/javascript": [
       "\n",
       "            setTimeout(function() {\n",
       "                var nbb_cell_id = 1109;\n",
       "                var nbb_unformatted_code = \"print(\\\"dunzo!\\\")\\n\\n# Sound notification when cell executes\\nchime.success()\";\n",
       "                var nbb_formatted_code = \"print(\\\"dunzo!\\\")\\n\\n# Sound notification when cell executes\\nchime.success()\";\n",
       "                var nbb_cells = Jupyter.notebook.get_cells();\n",
       "                for (var i = 0; i < nbb_cells.length; ++i) {\n",
       "                    if (nbb_cells[i].input_prompt_number == nbb_cell_id) {\n",
       "                        if (nbb_cells[i].get_text() == nbb_unformatted_code) {\n",
       "                             nbb_cells[i].set_text(nbb_formatted_code);\n",
       "                        }\n",
       "                        break;\n",
       "                    }\n",
       "                }\n",
       "            }, 500);\n",
       "            "
      ],
      "text/plain": [
       "<IPython.core.display.Javascript object>"
      ]
     },
     "metadata": {},
     "output_type": "display_data"
    }
   ],
   "source": [
    "print(\"dunzo!\")\n",
    "\n",
    "# Sound notification when cell executes\n",
    "chime.success()"
   ]
  },
  {
   "cell_type": "code",
   "execution_count": null,
   "id": "0271a07f",
   "metadata": {},
   "outputs": [],
   "source": []
  },
  {
   "cell_type": "code",
   "execution_count": null,
   "id": "e40e3f27",
   "metadata": {},
   "outputs": [],
   "source": []
  },
  {
   "cell_type": "code",
   "execution_count": null,
   "id": "db6c3c0c",
   "metadata": {},
   "outputs": [],
   "source": []
  },
  {
   "cell_type": "markdown",
   "id": "cbea7ecf",
   "metadata": {},
   "source": [
    "#### Finding `known_for` Roles and `cause_of_death` in `info_4_0`"
   ]
  },
  {
   "cell_type": "code",
   "execution_count": null,
   "id": "3256e381",
   "metadata": {},
   "outputs": [],
   "source": [
    "# Obtaining values for column and their counts\n",
    "roles_cause_list = df[\"info_4_0\"].value_counts(ascending=True).index.tolist()"
   ]
  },
  {
   "cell_type": "code",
   "execution_count": null,
   "id": "7d067b0d",
   "metadata": {},
   "outputs": [],
   "source": [
    "# Code to check each value\n",
    "value = roles_cause_list.pop()\n",
    "value"
   ]
  },
  {
   "cell_type": "code",
   "execution_count": null,
   "id": "259ff9ed",
   "metadata": {},
   "outputs": [],
   "source": [
    "# Create specific_roles_cause_list for above popped value\n",
    "specific_roles_cause_list = (\n",
    "    df.loc[\n",
    "        [\n",
    "            index\n",
    "            for index in df[df[\"info_4_0\"].notna()].index\n",
    "            if value in df.loc[index, \"info_4_0\"]\n",
    "        ],\n",
    "        \"info_4_0\",\n",
    "    ]\n",
    "    .value_counts()\n",
    "    .index.tolist()\n",
    ")"
   ]
  },
  {
   "cell_type": "code",
   "execution_count": null,
   "id": "a8477e76",
   "metadata": {},
   "outputs": [],
   "source": [
    "# Viewing list sorted by descending length to copy to dictionary below and screen values\n",
    "sorted(specific_roles_cause_list, key=lambda x: len(x), reverse=True)"
   ]
  },
  {
   "cell_type": "code",
   "execution_count": null,
   "id": "1e84ca70",
   "metadata": {},
   "outputs": [],
   "source": [
    "# Example code to quick-check a specific entry\n",
    "df[df[\"info_4_0\"] == value]"
   ]
  },
  {
   "cell_type": "markdown",
   "id": "97842e56",
   "metadata": {},
   "source": [
    "#### Creating Lists for Each `known_for` Category and for `cause_of_death`"
   ]
  },
  {
   "cell_type": "code",
   "execution_count": null,
   "id": "16d92bb3",
   "metadata": {},
   "outputs": [],
   "source": [
    "# Creating lists for each category and sorting by decreasing length and removing duplicates\n",
    "\n",
    "politics_govt_law = []\n",
    "politics_govt_law = sorted(list(set(politics_govt_law)), key=lambda x: len(x), reverse=True)  \n",
    "\n",
    "arts = []\n",
    "arts = sorted(list(set(arts)), key=lambda x: len(x), reverse=True)  \n",
    "\n",
    "sports = []\n",
    "sports = sorted(list(set(sports)), key=lambda x: len(x), reverse=True) \n",
    "\n",
    "sciences = []\n",
    "sciences = sorted(list(set(sciences)), key=lambda x: len(x), reverse=True) \n",
    "\n",
    "business_farming = []\n",
    "business_farming = sorted(list(set(business_farming)), key=lambda x: len(x), reverse=True)  \n",
    "\n",
    "academia_humanities = []\n",
    "academia_humanities = sorted(list(set(academia_humanities)), key=lambda x: len(x), reverse=True)  \n",
    "\n",
    "law_enf_military_operator = []\n",
    "law_enf_military_operator = sorted(list(set(law_enf_military_operator)), key=lambda x: len(x), reverse=True)  \n",
    "\n",
    "spiritual = []\n",
    "spiritual = sorted(list(set(spiritual)), key=lambda x: len(x), reverse=True)  \n",
    "\n",
    "social = []\n",
    "social = sorted(list(set(social)), key=lambda x: len(x), reverse=True)  \n",
    "\n",
    "crime = []\n",
    "crime = sorted(list(set(crime)), key=lambda x: len(x), reverse=True)  \n",
    "\n",
    "event_record_other = []\n",
    "event_record_other = sorted(list(set(event_record_other)), key=lambda x: len(x), reverse=True)  \n",
    "\n",
    "other_species = []\n",
    "other_species = sorted(list(set(other_species)), key=lambda x: len(x), reverse=True) \n",
    "\n",
    "cause_of_death = []\n",
    "cause_of_death = sorted(list(set(cause_of_death)), key=lambda x: len(x), reverse=True)"
   ]
  },
  {
   "cell_type": "markdown",
   "id": "19e0f93c",
   "metadata": {},
   "source": [
    "#### Creating `known_for_dict` Dictionary of Category Keys and Specific Role Lists of Values"
   ]
  },
  {
   "cell_type": "code",
   "execution_count": null,
   "id": "62805084",
   "metadata": {},
   "outputs": [],
   "source": [
    "# Combining separate lists into one dictionary\n",
    "known_for_dict = {\n",
    "    \"social\": social,\n",
    "    \"spiritual\": spiritual,\n",
    "    \"academia_humanities\": academia_humanities,\n",
    "    \"business_farming\": business_farming,\n",
    "    \"sciences\": sciences,\n",
    "    \"politics_govt_law\": politics_govt_law,\n",
    "    \"law_enf_military_operator\": law_enf_military_operator,\n",
    "    \"crime\": crime,\n",
    "    \"event_record_other\": event_record_other,\n",
    "    \"other_species\": other_species,\n",
    "    \"arts\": arts,\n",
    "    \"sports\": sports,\n",
    "\n",
    "}"
   ]
  },
  {
   "cell_type": "markdown",
   "id": "2300bb48",
   "metadata": {},
   "source": [
    "#### Extracting `known_for` Categories and `cause_of_death` Values from `info_4_0`"
   ]
  },
  {
   "cell_type": "code",
   "execution_count": null,
   "id": "b735dd04",
   "metadata": {},
   "outputs": [],
   "source": [
    "%%time\n",
    "\n",
    "# Column to check\n",
    "column = 'info_4_0'\n",
    "\n",
    "# Start dataframe\n",
    "dataframe = df[df[column].notna()]\n",
    "\n",
    "# For loop to find cause in column and extract it to cause_of_death\n",
    "for cause in cause_of_death:\n",
    "    for index in dataframe.index:\n",
    "        item = df.loc[index, column]\n",
    "        if item:\n",
    "            if cause in item:\n",
    "                if df.loc[index, 'cause_of_death']:\n",
    "                    df.loc[index, 'cause_of_death'] = df.loc[index, 'cause_of_death'] + '/' + cause\n",
    "                    df.loc[index, column] = item.replace(cause, '').strip()\n",
    "                else:\n",
    "                    df.loc[index, 'cause_of_death'] = cause\n",
    "                    df.loc[index, column] = item.replace(cause, '').strip()\n",
    "                \n",
    "                \n",
    "# For loop to find role in column and extract it as category\n",
    "for category, category_lst in known_for_dict.items():\n",
    "    for role in category_lst:\n",
    "        for index in dataframe.index:\n",
    "                item = df.loc[index, column]\n",
    "                if item:\n",
    "                    if role in item:\n",
    "                        df.loc[index, category] = 1\n",
    "                        df.loc[index, column] = item.replace(role, '').strip()\n",
    "\n",
    "# Calculating num_categories\n",
    "df[\"num_categories\"] = df[known_for_dict.keys()].sum(axis=1)\n",
    "\n",
    "# Checking number of cause_of_death values\n",
    "print(f'There are {df[\"cause_of_death\"].notna().sum()} values in cause_of_death column.\\n')"
   ]
  },
  {
   "cell_type": "markdown",
   "id": "be0e125e",
   "metadata": {},
   "source": [
    "#### Checking Updated `num_categories` Value Counts"
   ]
  },
  {
   "cell_type": "code",
   "execution_count": null,
   "id": "473d5fb6",
   "metadata": {},
   "outputs": [],
   "source": [
    "# Checking Updated num_categories Value Counts\n",
    "df[\"num_categories\"].value_counts()"
   ]
  },
  {
   "cell_type": "markdown",
   "id": "e3f042c6",
   "metadata": {},
   "source": [
    "#### Observations:\n",
    "- We will proceed to rebuild `known_for_dict` and `cause_of_death` for the next iteration."
   ]
  },
  {
   "cell_type": "code",
   "execution_count": null,
   "id": "dce22fd9",
   "metadata": {},
   "outputs": [],
   "source": []
  },
  {
   "cell_type": "code",
   "execution_count": null,
   "id": "b8609f2e",
   "metadata": {},
   "outputs": [],
   "source": []
  },
  {
   "cell_type": "code",
   "execution_count": null,
   "id": "73659ec8",
   "metadata": {},
   "outputs": [],
   "source": []
  },
  {
   "cell_type": "code",
   "execution_count": null,
   "id": "a16ff517",
   "metadata": {},
   "outputs": [],
   "source": []
  },
  {
   "cell_type": "code",
   "execution_count": null,
   "id": "8992d649",
   "metadata": {},
   "outputs": [],
   "source": []
  },
  {
   "cell_type": "markdown",
   "id": "228a408c",
   "metadata": {},
   "source": [
    "#### Verifying that Values in info_3_0 Are Exhausted"
   ]
  },
  {
   "cell_type": "code",
   "execution_count": null,
   "id": "35aa9b12",
   "metadata": {},
   "outputs": [],
   "source": [
    "# # Verifying that `info_3_0` is exhausted\n",
    "# df[\"info_3_0\"].value_counts()"
   ]
  },
  {
   "cell_type": "markdown",
   "id": "bf13f70b",
   "metadata": {},
   "source": [
    "#### Dropping info_3_0"
   ]
  },
  {
   "cell_type": "code",
   "execution_count": null,
   "id": "d250ac10",
   "metadata": {},
   "outputs": [],
   "source": [
    "# # Dropping info_3_0\n",
    "# df.drop(\"info_3_0\", axis=1, inplace=True)\n",
    "\n",
    "# # Checking sample\n",
    "# df.sample()"
   ]
  },
  {
   "cell_type": "markdown",
   "id": "0f66697e",
   "metadata": {},
   "source": [
    "#### Observations:\n",
    "- Our search of column `info_3_0` is finished and have dropped that column.\n",
    "- We will now save our dataset and pick back up in a new notebook."
   ]
  },
  {
   "cell_type": "markdown",
   "id": "1113a242",
   "metadata": {},
   "source": [
    "### Exporting Dataset to SQLite Database [wp_life_expect_clean7.db]()"
   ]
  },
  {
   "cell_type": "code",
   "execution_count": null,
   "id": "6008ac61",
   "metadata": {},
   "outputs": [],
   "source": [
    "# # Exporting dataframe\n",
    "\n",
    "# # Saving dataset in a SQLite database\n",
    "# conn = sql.connect(\"wp_life_expect_clean7.db\")\n",
    "# df.to_sql(\"wp_life_expect_clean7\", conn, index=False)\n",
    "\n",
    "# # Chime notification when cell executes\n",
    "# chime.success()"
   ]
  },
  {
   "cell_type": "markdown",
   "id": "11aacfcc",
   "metadata": {},
   "source": [
    "# [Proceed to Data Cleaning Part ]()"
   ]
  }
 ],
 "metadata": {
  "kernelspec": {
   "display_name": "Python 3 (ipykernel)",
   "language": "python",
   "name": "python3"
  },
  "language_info": {
   "codemirror_mode": {
    "name": "ipython",
    "version": 3
   },
   "file_extension": ".py",
   "mimetype": "text/x-python",
   "name": "python",
   "nbconvert_exporter": "python",
   "pygments_lexer": "ipython3",
   "version": "3.9.12"
  }
 },
 "nbformat": 4,
 "nbformat_minor": 5
}
