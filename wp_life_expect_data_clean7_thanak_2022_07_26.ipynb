{
 "cells": [
  {
   "cell_type": "markdown",
   "id": "316a0779",
   "metadata": {},
   "source": [
    "# Wikipedia Notable Life Expectancies\n",
    "# [Notebook 8: Data Cleaning Part 7](https://github.com/teresahanak/wikipedia-life-expectancy/blob/main/wp_life_expect_data_clean7_thanak_2022_07_26.ipynb)\n",
    "### Context\n",
    "\n",
    "The\n",
    "### Objective\n",
    "\n",
    "The\n",
    "### Data Dictionary\n",
    "- Feature: Description"
   ]
  },
  {
   "cell_type": "markdown",
   "id": "99245d51",
   "metadata": {},
   "source": [
    "### Importing Libraries"
   ]
  },
  {
   "cell_type": "code",
   "execution_count": 1,
   "id": "453bba83",
   "metadata": {},
   "outputs": [
    {
     "data": {
      "application/javascript": [
       "\n",
       "            setTimeout(function() {\n",
       "                var nbb_cell_id = 1;\n",
       "                var nbb_unformatted_code = \"# To structure code automatically\\n%load_ext nb_black\\n\\n# To import/export sqlite databases\\nimport sqlite3 as sql\\n\\n# To save/open python objects in pickle file\\nimport pickle\\n\\n# To help with reading, cleaning, and manipulating data\\nimport pandas as pd\\nimport numpy as np\\nimport re\\n\\n# To define maximum number of columns to be displayed in a dataframe\\npd.set_option(\\\"display.max_columns\\\", None)\\n# To define the maximum number of rows to be displayed in a dataframe\\npd.set_option(\\\"display.max_rows\\\", 200)\\n\\n# To supress warnings\\n# import warnings\\n\\n# warnings.filterwarnings(\\\"ignore\\\")\\n\\n# To set some visualization attributes\\npd.set_option(\\\"max_colwidth\\\", 150)\\n\\n# To play auditory cue when cell has executed, has warning, or has error and set chime theme\\nimport chime\\n\\nchime.theme(\\\"zelda\\\")\";\n",
       "                var nbb_formatted_code = \"# To structure code automatically\\n%load_ext nb_black\\n\\n# To import/export sqlite databases\\nimport sqlite3 as sql\\n\\n# To save/open python objects in pickle file\\nimport pickle\\n\\n# To help with reading, cleaning, and manipulating data\\nimport pandas as pd\\nimport numpy as np\\nimport re\\n\\n# To define maximum number of columns to be displayed in a dataframe\\npd.set_option(\\\"display.max_columns\\\", None)\\n# To define the maximum number of rows to be displayed in a dataframe\\npd.set_option(\\\"display.max_rows\\\", 200)\\n\\n# To supress warnings\\n# import warnings\\n\\n# warnings.filterwarnings(\\\"ignore\\\")\\n\\n# To set some visualization attributes\\npd.set_option(\\\"max_colwidth\\\", 150)\\n\\n# To play auditory cue when cell has executed, has warning, or has error and set chime theme\\nimport chime\\n\\nchime.theme(\\\"zelda\\\")\";\n",
       "                var nbb_cells = Jupyter.notebook.get_cells();\n",
       "                for (var i = 0; i < nbb_cells.length; ++i) {\n",
       "                    if (nbb_cells[i].input_prompt_number == nbb_cell_id) {\n",
       "                        if (nbb_cells[i].get_text() == nbb_unformatted_code) {\n",
       "                             nbb_cells[i].set_text(nbb_formatted_code);\n",
       "                        }\n",
       "                        break;\n",
       "                    }\n",
       "                }\n",
       "            }, 500);\n",
       "            "
      ],
      "text/plain": [
       "<IPython.core.display.Javascript object>"
      ]
     },
     "metadata": {},
     "output_type": "display_data"
    }
   ],
   "source": [
    "# To structure code automatically\n",
    "%load_ext nb_black\n",
    "\n",
    "# To import/export sqlite databases\n",
    "import sqlite3 as sql\n",
    "\n",
    "# To save/open python objects in pickle file\n",
    "import pickle\n",
    "\n",
    "# To help with reading, cleaning, and manipulating data\n",
    "import pandas as pd\n",
    "import numpy as np\n",
    "import re\n",
    "\n",
    "# To define maximum number of columns to be displayed in a dataframe\n",
    "pd.set_option(\"display.max_columns\", None)\n",
    "# To define the maximum number of rows to be displayed in a dataframe\n",
    "pd.set_option(\"display.max_rows\", 200)\n",
    "\n",
    "# To supress warnings\n",
    "# import warnings\n",
    "\n",
    "# warnings.filterwarnings(\"ignore\")\n",
    "\n",
    "# To set some visualization attributes\n",
    "pd.set_option(\"max_colwidth\", 150)\n",
    "\n",
    "# To play auditory cue when cell has executed, has warning, or has error and set chime theme\n",
    "import chime\n",
    "\n",
    "chime.theme(\"zelda\")"
   ]
  },
  {
   "cell_type": "markdown",
   "id": "cc818a82",
   "metadata": {},
   "source": [
    "## Data Overview"
   ]
  },
  {
   "cell_type": "markdown",
   "id": "0ed005f6",
   "metadata": {},
   "source": [
    "### Reading, Sampling, and Checking Data Shape"
   ]
  },
  {
   "cell_type": "code",
   "execution_count": 2,
   "id": "0ca58a95",
   "metadata": {},
   "outputs": [
    {
     "name": "stdout",
     "output_type": "stream",
     "text": [
      "There are 98060 rows and 38 columns.\n"
     ]
    },
    {
     "data": {
      "text/html": [
       "<div>\n",
       "<style scoped>\n",
       "    .dataframe tbody tr th:only-of-type {\n",
       "        vertical-align: middle;\n",
       "    }\n",
       "\n",
       "    .dataframe tbody tr th {\n",
       "        vertical-align: top;\n",
       "    }\n",
       "\n",
       "    .dataframe thead th {\n",
       "        text-align: right;\n",
       "    }\n",
       "</style>\n",
       "<table border=\"1\" class=\"dataframe\">\n",
       "  <thead>\n",
       "    <tr style=\"text-align: right;\">\n",
       "      <th></th>\n",
       "      <th>day</th>\n",
       "      <th>name</th>\n",
       "      <th>info</th>\n",
       "      <th>link</th>\n",
       "      <th>num_references</th>\n",
       "      <th>year</th>\n",
       "      <th>month</th>\n",
       "      <th>info_parenth</th>\n",
       "      <th>info_1</th>\n",
       "      <th>info_2</th>\n",
       "      <th>info_3</th>\n",
       "      <th>info_4</th>\n",
       "      <th>info_5</th>\n",
       "      <th>info_6</th>\n",
       "      <th>info_7</th>\n",
       "      <th>info_8</th>\n",
       "      <th>info_9</th>\n",
       "      <th>info_10</th>\n",
       "      <th>info_11</th>\n",
       "      <th>age</th>\n",
       "      <th>cause_of_death</th>\n",
       "      <th>place_1</th>\n",
       "      <th>place_2</th>\n",
       "      <th>info_parenth_copy</th>\n",
       "      <th>log_num_references</th>\n",
       "      <th>sciences</th>\n",
       "      <th>social</th>\n",
       "      <th>spiritual</th>\n",
       "      <th>academia_humanities</th>\n",
       "      <th>business_farming</th>\n",
       "      <th>arts</th>\n",
       "      <th>sports</th>\n",
       "      <th>law_enf_military_operator</th>\n",
       "      <th>politics_govt_law</th>\n",
       "      <th>crime</th>\n",
       "      <th>event_record_other</th>\n",
       "      <th>other_species</th>\n",
       "      <th>num_categories</th>\n",
       "    </tr>\n",
       "  </thead>\n",
       "  <tbody>\n",
       "    <tr>\n",
       "      <th>0</th>\n",
       "      <td>1</td>\n",
       "      <td>William Chappell</td>\n",
       "      <td>, 86, British dancer, ballet designer and director.</td>\n",
       "      <td>https://en.wikipedia.org/wiki/William_Chappell_(dancer)</td>\n",
       "      <td>21</td>\n",
       "      <td>1994</td>\n",
       "      <td>January</td>\n",
       "      <td>None</td>\n",
       "      <td>None</td>\n",
       "      <td>dancer</td>\n",
       "      <td>ballet designer and director</td>\n",
       "      <td>None</td>\n",
       "      <td>None</td>\n",
       "      <td>None</td>\n",
       "      <td>None</td>\n",
       "      <td>None</td>\n",
       "      <td>None</td>\n",
       "      <td>None</td>\n",
       "      <td>None</td>\n",
       "      <td>86.0</td>\n",
       "      <td>None</td>\n",
       "      <td>United Kingdom of Great Britain and Northern Ireland</td>\n",
       "      <td>None</td>\n",
       "      <td>None</td>\n",
       "      <td>3.091042</td>\n",
       "      <td>0</td>\n",
       "      <td>0</td>\n",
       "      <td>0</td>\n",
       "      <td>0</td>\n",
       "      <td>0</td>\n",
       "      <td>0</td>\n",
       "      <td>0</td>\n",
       "      <td>0</td>\n",
       "      <td>0</td>\n",
       "      <td>0</td>\n",
       "      <td>0</td>\n",
       "      <td>0</td>\n",
       "      <td>0</td>\n",
       "    </tr>\n",
       "    <tr>\n",
       "      <th>1</th>\n",
       "      <td>1</td>\n",
       "      <td>Raymond Crotty</td>\n",
       "      <td>, 68, Irish economist, writer, and academic.</td>\n",
       "      <td>https://en.wikipedia.org/wiki/Raymond_Crotty</td>\n",
       "      <td>12</td>\n",
       "      <td>1994</td>\n",
       "      <td>January</td>\n",
       "      <td>None</td>\n",
       "      <td>None</td>\n",
       "      <td>economist</td>\n",
       "      <td>writer</td>\n",
       "      <td>and academic</td>\n",
       "      <td>None</td>\n",
       "      <td>None</td>\n",
       "      <td>None</td>\n",
       "      <td>None</td>\n",
       "      <td>None</td>\n",
       "      <td>None</td>\n",
       "      <td>None</td>\n",
       "      <td>68.0</td>\n",
       "      <td>None</td>\n",
       "      <td>Ireland</td>\n",
       "      <td>None</td>\n",
       "      <td>None</td>\n",
       "      <td>2.564949</td>\n",
       "      <td>0</td>\n",
       "      <td>0</td>\n",
       "      <td>0</td>\n",
       "      <td>0</td>\n",
       "      <td>0</td>\n",
       "      <td>0</td>\n",
       "      <td>0</td>\n",
       "      <td>0</td>\n",
       "      <td>0</td>\n",
       "      <td>0</td>\n",
       "      <td>0</td>\n",
       "      <td>0</td>\n",
       "      <td>0</td>\n",
       "    </tr>\n",
       "  </tbody>\n",
       "</table>\n",
       "</div>"
      ],
      "text/plain": [
       "  day              name                                                 info  \\\n",
       "0   1  William Chappell  , 86, British dancer, ballet designer and director.   \n",
       "1   1    Raymond Crotty         , 68, Irish economist, writer, and academic.   \n",
       "\n",
       "                                                      link  num_references  \\\n",
       "0  https://en.wikipedia.org/wiki/William_Chappell_(dancer)              21   \n",
       "1             https://en.wikipedia.org/wiki/Raymond_Crotty              12   \n",
       "\n",
       "   year    month info_parenth info_1     info_2                        info_3  \\\n",
       "0  1994  January         None   None     dancer  ballet designer and director   \n",
       "1  1994  January         None   None  economist                        writer   \n",
       "\n",
       "         info_4 info_5 info_6 info_7 info_8 info_9 info_10 info_11   age  \\\n",
       "0          None   None   None   None   None   None    None    None  86.0   \n",
       "1  and academic   None   None   None   None   None    None    None  68.0   \n",
       "\n",
       "  cause_of_death                                               place_1  \\\n",
       "0           None  United Kingdom of Great Britain and Northern Ireland   \n",
       "1           None                                               Ireland   \n",
       "\n",
       "  place_2 info_parenth_copy  log_num_references  sciences  social  spiritual  \\\n",
       "0    None              None            3.091042         0       0          0   \n",
       "1    None              None            2.564949         0       0          0   \n",
       "\n",
       "   academia_humanities  business_farming  arts  sports  \\\n",
       "0                    0                 0     0       0   \n",
       "1                    0                 0     0       0   \n",
       "\n",
       "   law_enf_military_operator  politics_govt_law  crime  event_record_other  \\\n",
       "0                          0                  0      0                   0   \n",
       "1                          0                  0      0                   0   \n",
       "\n",
       "   other_species  num_categories  \n",
       "0              0               0  \n",
       "1              0               0  "
      ]
     },
     "execution_count": 2,
     "metadata": {},
     "output_type": "execute_result"
    },
    {
     "data": {
      "application/javascript": [
       "\n",
       "            setTimeout(function() {\n",
       "                var nbb_cell_id = 2;\n",
       "                var nbb_unformatted_code = \"# Reading the dataset\\nconn = sql.connect(\\\"wp_life_expect_clean6.db\\\")\\ndata = pd.read_sql(\\\"SELECT * FROM wp_life_expect_clean6\\\", conn)\\n\\n# Making a working copy\\ndf = data.copy()\\n\\n# Checking the shape\\nprint(f\\\"There are {df.shape[0]} rows and {df.shape[1]} columns.\\\")\\n\\n# Checking first 2 rows of the data\\ndf.head(2)\";\n",
       "                var nbb_formatted_code = \"# Reading the dataset\\nconn = sql.connect(\\\"wp_life_expect_clean6.db\\\")\\ndata = pd.read_sql(\\\"SELECT * FROM wp_life_expect_clean6\\\", conn)\\n\\n# Making a working copy\\ndf = data.copy()\\n\\n# Checking the shape\\nprint(f\\\"There are {df.shape[0]} rows and {df.shape[1]} columns.\\\")\\n\\n# Checking first 2 rows of the data\\ndf.head(2)\";\n",
       "                var nbb_cells = Jupyter.notebook.get_cells();\n",
       "                for (var i = 0; i < nbb_cells.length; ++i) {\n",
       "                    if (nbb_cells[i].input_prompt_number == nbb_cell_id) {\n",
       "                        if (nbb_cells[i].get_text() == nbb_unformatted_code) {\n",
       "                             nbb_cells[i].set_text(nbb_formatted_code);\n",
       "                        }\n",
       "                        break;\n",
       "                    }\n",
       "                }\n",
       "            }, 500);\n",
       "            "
      ],
      "text/plain": [
       "<IPython.core.display.Javascript object>"
      ]
     },
     "metadata": {},
     "output_type": "display_data"
    }
   ],
   "source": [
    "# Reading the dataset\n",
    "conn = sql.connect(\"wp_life_expect_clean6.db\")\n",
    "data = pd.read_sql(\"SELECT * FROM wp_life_expect_clean6\", conn)\n",
    "\n",
    "# Making a working copy\n",
    "df = data.copy()\n",
    "\n",
    "# Checking the shape\n",
    "print(f\"There are {df.shape[0]} rows and {df.shape[1]} columns.\")\n",
    "\n",
    "# Checking first 2 rows of the data\n",
    "df.head(2)"
   ]
  },
  {
   "cell_type": "code",
   "execution_count": 3,
   "id": "6cca416f",
   "metadata": {},
   "outputs": [
    {
     "data": {
      "text/html": [
       "<div>\n",
       "<style scoped>\n",
       "    .dataframe tbody tr th:only-of-type {\n",
       "        vertical-align: middle;\n",
       "    }\n",
       "\n",
       "    .dataframe tbody tr th {\n",
       "        vertical-align: top;\n",
       "    }\n",
       "\n",
       "    .dataframe thead th {\n",
       "        text-align: right;\n",
       "    }\n",
       "</style>\n",
       "<table border=\"1\" class=\"dataframe\">\n",
       "  <thead>\n",
       "    <tr style=\"text-align: right;\">\n",
       "      <th></th>\n",
       "      <th>day</th>\n",
       "      <th>name</th>\n",
       "      <th>info</th>\n",
       "      <th>link</th>\n",
       "      <th>num_references</th>\n",
       "      <th>year</th>\n",
       "      <th>month</th>\n",
       "      <th>info_parenth</th>\n",
       "      <th>info_1</th>\n",
       "      <th>info_2</th>\n",
       "      <th>info_3</th>\n",
       "      <th>info_4</th>\n",
       "      <th>info_5</th>\n",
       "      <th>info_6</th>\n",
       "      <th>info_7</th>\n",
       "      <th>info_8</th>\n",
       "      <th>info_9</th>\n",
       "      <th>info_10</th>\n",
       "      <th>info_11</th>\n",
       "      <th>age</th>\n",
       "      <th>cause_of_death</th>\n",
       "      <th>place_1</th>\n",
       "      <th>place_2</th>\n",
       "      <th>info_parenth_copy</th>\n",
       "      <th>log_num_references</th>\n",
       "      <th>sciences</th>\n",
       "      <th>social</th>\n",
       "      <th>spiritual</th>\n",
       "      <th>academia_humanities</th>\n",
       "      <th>business_farming</th>\n",
       "      <th>arts</th>\n",
       "      <th>sports</th>\n",
       "      <th>law_enf_military_operator</th>\n",
       "      <th>politics_govt_law</th>\n",
       "      <th>crime</th>\n",
       "      <th>event_record_other</th>\n",
       "      <th>other_species</th>\n",
       "      <th>num_categories</th>\n",
       "    </tr>\n",
       "  </thead>\n",
       "  <tbody>\n",
       "    <tr>\n",
       "      <th>98058</th>\n",
       "      <td>9</td>\n",
       "      <td>Aamir Liaquat Hussain</td>\n",
       "      <td>, 50, Pakistani journalist and politician, MNA .</td>\n",
       "      <td>https://en.wikipedia.org/wiki/Aamir_Liaquat_Hussain</td>\n",
       "      <td>99</td>\n",
       "      <td>2022</td>\n",
       "      <td>June</td>\n",
       "      <td>, since</td>\n",
       "      <td>None</td>\n",
       "      <td></td>\n",
       "      <td>MNA</td>\n",
       "      <td>None</td>\n",
       "      <td>None</td>\n",
       "      <td>None</td>\n",
       "      <td>None</td>\n",
       "      <td>None</td>\n",
       "      <td>None</td>\n",
       "      <td>None</td>\n",
       "      <td>None</td>\n",
       "      <td>50.0</td>\n",
       "      <td>None</td>\n",
       "      <td>Pakistan</td>\n",
       "      <td>None</td>\n",
       "      <td>2002 2007, since 2018</td>\n",
       "      <td>4.605170</td>\n",
       "      <td>0</td>\n",
       "      <td>0</td>\n",
       "      <td>0</td>\n",
       "      <td>0</td>\n",
       "      <td>0</td>\n",
       "      <td>1</td>\n",
       "      <td>0</td>\n",
       "      <td>0</td>\n",
       "      <td>1</td>\n",
       "      <td>0</td>\n",
       "      <td>0</td>\n",
       "      <td>0</td>\n",
       "      <td>2</td>\n",
       "    </tr>\n",
       "    <tr>\n",
       "      <th>98059</th>\n",
       "      <td>9</td>\n",
       "      <td>Zou Jing</td>\n",
       "      <td>, 86, Chinese engineer, member of the Chinese Academy of Engineering.</td>\n",
       "      <td>https://en.wikipedia.org/wiki/Zou_Jing_(engineer)</td>\n",
       "      <td>3</td>\n",
       "      <td>2022</td>\n",
       "      <td>June</td>\n",
       "      <td>None</td>\n",
       "      <td>None</td>\n",
       "      <td>engineer</td>\n",
       "      <td>member of the Academy of Engineering</td>\n",
       "      <td>None</td>\n",
       "      <td>None</td>\n",
       "      <td>None</td>\n",
       "      <td>None</td>\n",
       "      <td>None</td>\n",
       "      <td>None</td>\n",
       "      <td>None</td>\n",
       "      <td>None</td>\n",
       "      <td>86.0</td>\n",
       "      <td>None</td>\n",
       "      <td>China, People's Republic of</td>\n",
       "      <td>None</td>\n",
       "      <td>None</td>\n",
       "      <td>1.386294</td>\n",
       "      <td>0</td>\n",
       "      <td>0</td>\n",
       "      <td>0</td>\n",
       "      <td>0</td>\n",
       "      <td>0</td>\n",
       "      <td>0</td>\n",
       "      <td>0</td>\n",
       "      <td>0</td>\n",
       "      <td>0</td>\n",
       "      <td>0</td>\n",
       "      <td>0</td>\n",
       "      <td>0</td>\n",
       "      <td>0</td>\n",
       "    </tr>\n",
       "  </tbody>\n",
       "</table>\n",
       "</div>"
      ],
      "text/plain": [
       "      day                   name  \\\n",
       "98058   9  Aamir Liaquat Hussain   \n",
       "98059   9               Zou Jing   \n",
       "\n",
       "                                                                        info  \\\n",
       "98058                       , 50, Pakistani journalist and politician, MNA .   \n",
       "98059  , 86, Chinese engineer, member of the Chinese Academy of Engineering.   \n",
       "\n",
       "                                                      link  num_references  \\\n",
       "98058  https://en.wikipedia.org/wiki/Aamir_Liaquat_Hussain              99   \n",
       "98059    https://en.wikipedia.org/wiki/Zou_Jing_(engineer)               3   \n",
       "\n",
       "       year month info_parenth info_1    info_2  \\\n",
       "98058  2022  June      , since   None             \n",
       "98059  2022  June         None   None  engineer   \n",
       "\n",
       "                                     info_3 info_4 info_5 info_6 info_7  \\\n",
       "98058                                   MNA   None   None   None   None   \n",
       "98059  member of the Academy of Engineering   None   None   None   None   \n",
       "\n",
       "      info_8 info_9 info_10 info_11   age cause_of_death  \\\n",
       "98058   None   None    None    None  50.0           None   \n",
       "98059   None   None    None    None  86.0           None   \n",
       "\n",
       "                           place_1 place_2      info_parenth_copy  \\\n",
       "98058                     Pakistan    None  2002 2007, since 2018   \n",
       "98059  China, People's Republic of    None                   None   \n",
       "\n",
       "       log_num_references  sciences  social  spiritual  academia_humanities  \\\n",
       "98058            4.605170         0       0          0                    0   \n",
       "98059            1.386294         0       0          0                    0   \n",
       "\n",
       "       business_farming  arts  sports  law_enf_military_operator  \\\n",
       "98058                 0     1       0                          0   \n",
       "98059                 0     0       0                          0   \n",
       "\n",
       "       politics_govt_law  crime  event_record_other  other_species  \\\n",
       "98058                  1      0                   0              0   \n",
       "98059                  0      0                   0              0   \n",
       "\n",
       "       num_categories  \n",
       "98058               2  \n",
       "98059               0  "
      ]
     },
     "execution_count": 3,
     "metadata": {},
     "output_type": "execute_result"
    },
    {
     "data": {
      "application/javascript": [
       "\n",
       "            setTimeout(function() {\n",
       "                var nbb_cell_id = 3;\n",
       "                var nbb_unformatted_code = \"# Checking last 2 rows of the data\\ndf.tail(2)\";\n",
       "                var nbb_formatted_code = \"# Checking last 2 rows of the data\\ndf.tail(2)\";\n",
       "                var nbb_cells = Jupyter.notebook.get_cells();\n",
       "                for (var i = 0; i < nbb_cells.length; ++i) {\n",
       "                    if (nbb_cells[i].input_prompt_number == nbb_cell_id) {\n",
       "                        if (nbb_cells[i].get_text() == nbb_unformatted_code) {\n",
       "                             nbb_cells[i].set_text(nbb_formatted_code);\n",
       "                        }\n",
       "                        break;\n",
       "                    }\n",
       "                }\n",
       "            }, 500);\n",
       "            "
      ],
      "text/plain": [
       "<IPython.core.display.Javascript object>"
      ]
     },
     "metadata": {},
     "output_type": "display_data"
    }
   ],
   "source": [
    "# Checking last 2 rows of the data\n",
    "df.tail(2)"
   ]
  },
  {
   "cell_type": "code",
   "execution_count": 4,
   "id": "de6e8ee5",
   "metadata": {},
   "outputs": [
    {
     "data": {
      "text/html": [
       "<div>\n",
       "<style scoped>\n",
       "    .dataframe tbody tr th:only-of-type {\n",
       "        vertical-align: middle;\n",
       "    }\n",
       "\n",
       "    .dataframe tbody tr th {\n",
       "        vertical-align: top;\n",
       "    }\n",
       "\n",
       "    .dataframe thead th {\n",
       "        text-align: right;\n",
       "    }\n",
       "</style>\n",
       "<table border=\"1\" class=\"dataframe\">\n",
       "  <thead>\n",
       "    <tr style=\"text-align: right;\">\n",
       "      <th></th>\n",
       "      <th>day</th>\n",
       "      <th>name</th>\n",
       "      <th>info</th>\n",
       "      <th>link</th>\n",
       "      <th>num_references</th>\n",
       "      <th>year</th>\n",
       "      <th>month</th>\n",
       "      <th>info_parenth</th>\n",
       "      <th>info_1</th>\n",
       "      <th>info_2</th>\n",
       "      <th>info_3</th>\n",
       "      <th>info_4</th>\n",
       "      <th>info_5</th>\n",
       "      <th>info_6</th>\n",
       "      <th>info_7</th>\n",
       "      <th>info_8</th>\n",
       "      <th>info_9</th>\n",
       "      <th>info_10</th>\n",
       "      <th>info_11</th>\n",
       "      <th>age</th>\n",
       "      <th>cause_of_death</th>\n",
       "      <th>place_1</th>\n",
       "      <th>place_2</th>\n",
       "      <th>info_parenth_copy</th>\n",
       "      <th>log_num_references</th>\n",
       "      <th>sciences</th>\n",
       "      <th>social</th>\n",
       "      <th>spiritual</th>\n",
       "      <th>academia_humanities</th>\n",
       "      <th>business_farming</th>\n",
       "      <th>arts</th>\n",
       "      <th>sports</th>\n",
       "      <th>law_enf_military_operator</th>\n",
       "      <th>politics_govt_law</th>\n",
       "      <th>crime</th>\n",
       "      <th>event_record_other</th>\n",
       "      <th>other_species</th>\n",
       "      <th>num_categories</th>\n",
       "    </tr>\n",
       "  </thead>\n",
       "  <tbody>\n",
       "    <tr>\n",
       "      <th>13252</th>\n",
       "      <td>10</td>\n",
       "      <td>Michael Sumpter</td>\n",
       "      <td>, 53, American serial killer, cancer.</td>\n",
       "      <td>https://en.wikipedia.org/wiki/Michael_Sumpter</td>\n",
       "      <td>16</td>\n",
       "      <td>2001</td>\n",
       "      <td>August</td>\n",
       "      <td>None</td>\n",
       "      <td>None</td>\n",
       "      <td>serial killer</td>\n",
       "      <td>cancer</td>\n",
       "      <td>None</td>\n",
       "      <td>None</td>\n",
       "      <td>None</td>\n",
       "      <td>None</td>\n",
       "      <td>None</td>\n",
       "      <td>None</td>\n",
       "      <td>None</td>\n",
       "      <td>None</td>\n",
       "      <td>53.0</td>\n",
       "      <td>None</td>\n",
       "      <td>United States of America</td>\n",
       "      <td>None</td>\n",
       "      <td>None</td>\n",
       "      <td>2.833213</td>\n",
       "      <td>0</td>\n",
       "      <td>0</td>\n",
       "      <td>0</td>\n",
       "      <td>0</td>\n",
       "      <td>0</td>\n",
       "      <td>0</td>\n",
       "      <td>0</td>\n",
       "      <td>0</td>\n",
       "      <td>0</td>\n",
       "      <td>0</td>\n",
       "      <td>0</td>\n",
       "      <td>0</td>\n",
       "      <td>0</td>\n",
       "    </tr>\n",
       "    <tr>\n",
       "      <th>65219</th>\n",
       "      <td>9</td>\n",
       "      <td>Velasio de Paolis</td>\n",
       "      <td>, 81, Italian Roman Catholic cardinal, President of the Prefecture for the Economic Affairs of the Holy See , cancer.</td>\n",
       "      <td>https://en.wikipedia.org/wiki/Velasio_de_Paolis</td>\n",
       "      <td>21</td>\n",
       "      <td>2017</td>\n",
       "      <td>September</td>\n",
       "      <td></td>\n",
       "      <td>None</td>\n",
       "      <td>Catholic cardinal</td>\n",
       "      <td>President of the Prefecture for the Economic Affairs of the Holy See</td>\n",
       "      <td>cancer</td>\n",
       "      <td>None</td>\n",
       "      <td>None</td>\n",
       "      <td>None</td>\n",
       "      <td>None</td>\n",
       "      <td>None</td>\n",
       "      <td>None</td>\n",
       "      <td>None</td>\n",
       "      <td>81.0</td>\n",
       "      <td>None</td>\n",
       "      <td>Italy</td>\n",
       "      <td>Italy</td>\n",
       "      <td>2008 2011</td>\n",
       "      <td>3.091042</td>\n",
       "      <td>0</td>\n",
       "      <td>0</td>\n",
       "      <td>0</td>\n",
       "      <td>0</td>\n",
       "      <td>0</td>\n",
       "      <td>0</td>\n",
       "      <td>0</td>\n",
       "      <td>0</td>\n",
       "      <td>0</td>\n",
       "      <td>0</td>\n",
       "      <td>0</td>\n",
       "      <td>0</td>\n",
       "      <td>0</td>\n",
       "    </tr>\n",
       "    <tr>\n",
       "      <th>48838</th>\n",
       "      <td>5</td>\n",
       "      <td>Wilbur Young</td>\n",
       "      <td>, 65, American football player .</td>\n",
       "      <td>https://en.wikipedia.org/wiki/Wilbur_Young</td>\n",
       "      <td>6</td>\n",
       "      <td>2014</td>\n",
       "      <td>July</td>\n",
       "      <td>Kansas City Chiefs, San Diego Chargers</td>\n",
       "      <td>None</td>\n",
       "      <td></td>\n",
       "      <td>None</td>\n",
       "      <td>None</td>\n",
       "      <td>None</td>\n",
       "      <td>None</td>\n",
       "      <td>None</td>\n",
       "      <td>None</td>\n",
       "      <td>None</td>\n",
       "      <td>None</td>\n",
       "      <td>None</td>\n",
       "      <td>65.0</td>\n",
       "      <td>None</td>\n",
       "      <td>United States of America</td>\n",
       "      <td>None</td>\n",
       "      <td>Kansas City Chiefs, San Diego Chargers</td>\n",
       "      <td>1.945910</td>\n",
       "      <td>0</td>\n",
       "      <td>0</td>\n",
       "      <td>0</td>\n",
       "      <td>0</td>\n",
       "      <td>0</td>\n",
       "      <td>0</td>\n",
       "      <td>1</td>\n",
       "      <td>0</td>\n",
       "      <td>0</td>\n",
       "      <td>0</td>\n",
       "      <td>0</td>\n",
       "      <td>0</td>\n",
       "      <td>1</td>\n",
       "    </tr>\n",
       "    <tr>\n",
       "      <th>52147</th>\n",
       "      <td>22</td>\n",
       "      <td>Renato Rocha</td>\n",
       "      <td>, 53, Brazilian bassist and songwriter , cardiac arrest.</td>\n",
       "      <td>https://en.wikipedia.org/wiki/Renato_Rocha_(bassist)</td>\n",
       "      <td>6</td>\n",
       "      <td>2015</td>\n",
       "      <td>February</td>\n",
       "      <td>Legião Urbana</td>\n",
       "      <td>None</td>\n",
       "      <td></td>\n",
       "      <td>cardiac arrest</td>\n",
       "      <td>None</td>\n",
       "      <td>None</td>\n",
       "      <td>None</td>\n",
       "      <td>None</td>\n",
       "      <td>None</td>\n",
       "      <td>None</td>\n",
       "      <td>None</td>\n",
       "      <td>None</td>\n",
       "      <td>53.0</td>\n",
       "      <td>None</td>\n",
       "      <td>Brazil</td>\n",
       "      <td>None</td>\n",
       "      <td>Legião Urbana</td>\n",
       "      <td>1.945910</td>\n",
       "      <td>0</td>\n",
       "      <td>0</td>\n",
       "      <td>0</td>\n",
       "      <td>0</td>\n",
       "      <td>0</td>\n",
       "      <td>1</td>\n",
       "      <td>0</td>\n",
       "      <td>0</td>\n",
       "      <td>0</td>\n",
       "      <td>0</td>\n",
       "      <td>0</td>\n",
       "      <td>0</td>\n",
       "      <td>1</td>\n",
       "    </tr>\n",
       "    <tr>\n",
       "      <th>15407</th>\n",
       "      <td>24</td>\n",
       "      <td>Leon Hart</td>\n",
       "      <td>, 73, American football player.</td>\n",
       "      <td>https://en.wikipedia.org/wiki/Leon_Hart</td>\n",
       "      <td>9</td>\n",
       "      <td>2002</td>\n",
       "      <td>September</td>\n",
       "      <td>None</td>\n",
       "      <td>None</td>\n",
       "      <td></td>\n",
       "      <td>None</td>\n",
       "      <td>None</td>\n",
       "      <td>None</td>\n",
       "      <td>None</td>\n",
       "      <td>None</td>\n",
       "      <td>None</td>\n",
       "      <td>None</td>\n",
       "      <td>None</td>\n",
       "      <td>None</td>\n",
       "      <td>73.0</td>\n",
       "      <td>None</td>\n",
       "      <td>United States of America</td>\n",
       "      <td>None</td>\n",
       "      <td>None</td>\n",
       "      <td>2.302585</td>\n",
       "      <td>0</td>\n",
       "      <td>0</td>\n",
       "      <td>0</td>\n",
       "      <td>0</td>\n",
       "      <td>0</td>\n",
       "      <td>0</td>\n",
       "      <td>1</td>\n",
       "      <td>0</td>\n",
       "      <td>0</td>\n",
       "      <td>0</td>\n",
       "      <td>0</td>\n",
       "      <td>0</td>\n",
       "      <td>1</td>\n",
       "    </tr>\n",
       "  </tbody>\n",
       "</table>\n",
       "</div>"
      ],
      "text/plain": [
       "      day               name  \\\n",
       "13252  10    Michael Sumpter   \n",
       "65219   9  Velasio de Paolis   \n",
       "48838   5       Wilbur Young   \n",
       "52147  22       Renato Rocha   \n",
       "15407  24          Leon Hart   \n",
       "\n",
       "                                                                                                                        info  \\\n",
       "13252                                                                                  , 53, American serial killer, cancer.   \n",
       "65219  , 81, Italian Roman Catholic cardinal, President of the Prefecture for the Economic Affairs of the Holy See , cancer.   \n",
       "48838                                                                                       , 65, American football player .   \n",
       "52147                                                               , 53, Brazilian bassist and songwriter , cardiac arrest.   \n",
       "15407                                                                                        , 73, American football player.   \n",
       "\n",
       "                                                       link  num_references  \\\n",
       "13252         https://en.wikipedia.org/wiki/Michael_Sumpter              16   \n",
       "65219       https://en.wikipedia.org/wiki/Velasio_de_Paolis              21   \n",
       "48838            https://en.wikipedia.org/wiki/Wilbur_Young               6   \n",
       "52147  https://en.wikipedia.org/wiki/Renato_Rocha_(bassist)               6   \n",
       "15407               https://en.wikipedia.org/wiki/Leon_Hart               9   \n",
       "\n",
       "       year      month                            info_parenth info_1  \\\n",
       "13252  2001     August                                    None   None   \n",
       "65219  2017  September                                           None   \n",
       "48838  2014       July  Kansas City Chiefs, San Diego Chargers   None   \n",
       "52147  2015   February                           Legião Urbana   None   \n",
       "15407  2002  September                                    None   None   \n",
       "\n",
       "                  info_2  \\\n",
       "13252      serial killer   \n",
       "65219  Catholic cardinal   \n",
       "48838                      \n",
       "52147                      \n",
       "15407                      \n",
       "\n",
       "                                                                     info_3  \\\n",
       "13252                                                                cancer   \n",
       "65219  President of the Prefecture for the Economic Affairs of the Holy See   \n",
       "48838                                                                  None   \n",
       "52147                                                        cardiac arrest   \n",
       "15407                                                                  None   \n",
       "\n",
       "       info_4 info_5 info_6 info_7 info_8 info_9 info_10 info_11   age  \\\n",
       "13252    None   None   None   None   None   None    None    None  53.0   \n",
       "65219  cancer   None   None   None   None   None    None    None  81.0   \n",
       "48838    None   None   None   None   None   None    None    None  65.0   \n",
       "52147    None   None   None   None   None   None    None    None  53.0   \n",
       "15407    None   None   None   None   None   None    None    None  73.0   \n",
       "\n",
       "      cause_of_death                   place_1 place_2  \\\n",
       "13252           None  United States of America    None   \n",
       "65219           None                     Italy   Italy   \n",
       "48838           None  United States of America    None   \n",
       "52147           None                    Brazil    None   \n",
       "15407           None  United States of America    None   \n",
       "\n",
       "                            info_parenth_copy  log_num_references  sciences  \\\n",
       "13252                                    None            2.833213         0   \n",
       "65219                               2008 2011            3.091042         0   \n",
       "48838  Kansas City Chiefs, San Diego Chargers            1.945910         0   \n",
       "52147                           Legião Urbana            1.945910         0   \n",
       "15407                                    None            2.302585         0   \n",
       "\n",
       "       social  spiritual  academia_humanities  business_farming  arts  sports  \\\n",
       "13252       0          0                    0                 0     0       0   \n",
       "65219       0          0                    0                 0     0       0   \n",
       "48838       0          0                    0                 0     0       1   \n",
       "52147       0          0                    0                 0     1       0   \n",
       "15407       0          0                    0                 0     0       1   \n",
       "\n",
       "       law_enf_military_operator  politics_govt_law  crime  \\\n",
       "13252                          0                  0      0   \n",
       "65219                          0                  0      0   \n",
       "48838                          0                  0      0   \n",
       "52147                          0                  0      0   \n",
       "15407                          0                  0      0   \n",
       "\n",
       "       event_record_other  other_species  num_categories  \n",
       "13252                   0              0               0  \n",
       "65219                   0              0               0  \n",
       "48838                   0              0               1  \n",
       "52147                   0              0               1  \n",
       "15407                   0              0               1  "
      ]
     },
     "execution_count": 4,
     "metadata": {},
     "output_type": "execute_result"
    },
    {
     "data": {
      "application/javascript": [
       "\n",
       "            setTimeout(function() {\n",
       "                var nbb_cell_id = 4;\n",
       "                var nbb_unformatted_code = \"# Checking a sample of the data\\ndf.sample(5)\";\n",
       "                var nbb_formatted_code = \"# Checking a sample of the data\\ndf.sample(5)\";\n",
       "                var nbb_cells = Jupyter.notebook.get_cells();\n",
       "                for (var i = 0; i < nbb_cells.length; ++i) {\n",
       "                    if (nbb_cells[i].input_prompt_number == nbb_cell_id) {\n",
       "                        if (nbb_cells[i].get_text() == nbb_unformatted_code) {\n",
       "                             nbb_cells[i].set_text(nbb_formatted_code);\n",
       "                        }\n",
       "                        break;\n",
       "                    }\n",
       "                }\n",
       "            }, 500);\n",
       "            "
      ],
      "text/plain": [
       "<IPython.core.display.Javascript object>"
      ]
     },
     "metadata": {},
     "output_type": "display_data"
    }
   ],
   "source": [
    "# Checking a sample of the data\n",
    "df.sample(5)"
   ]
  },
  {
   "cell_type": "markdown",
   "id": "8d5f29da",
   "metadata": {},
   "source": [
    "### Checking Data Types, Duplicates, and Null Values"
   ]
  },
  {
   "cell_type": "code",
   "execution_count": 5,
   "id": "bf505f87",
   "metadata": {},
   "outputs": [
    {
     "name": "stdout",
     "output_type": "stream",
     "text": [
      "<class 'pandas.core.frame.DataFrame'>\n",
      "RangeIndex: 98060 entries, 0 to 98059\n",
      "Data columns (total 38 columns):\n",
      " #   Column                     Non-Null Count  Dtype  \n",
      "---  ------                     --------------  -----  \n",
      " 0   day                        98060 non-null  object \n",
      " 1   name                       98060 non-null  object \n",
      " 2   info                       98060 non-null  object \n",
      " 3   link                       98060 non-null  object \n",
      " 4   num_references             98060 non-null  int64  \n",
      " 5   year                       98060 non-null  int64  \n",
      " 6   month                      98060 non-null  object \n",
      " 7   info_parenth               36661 non-null  object \n",
      " 8   info_1                     22 non-null     object \n",
      " 9   info_2                     98028 non-null  object \n",
      " 10  info_3                     48896 non-null  object \n",
      " 11  info_4                     10264 non-null  object \n",
      " 12  info_5                     1265 non-null   object \n",
      " 13  info_6                     181 non-null    object \n",
      " 14  info_7                     27 non-null     object \n",
      " 15  info_8                     5 non-null      object \n",
      " 16  info_9                     1 non-null      object \n",
      " 17  info_10                    1 non-null      object \n",
      " 18  info_11                    1 non-null      object \n",
      " 19  age                        98060 non-null  float64\n",
      " 20  cause_of_death             6 non-null      object \n",
      " 21  place_1                    97905 non-null  object \n",
      " 22  place_2                    8102 non-null   object \n",
      " 23  info_parenth_copy          36661 non-null  object \n",
      " 24  log_num_references         98060 non-null  float64\n",
      " 25  sciences                   98060 non-null  int64  \n",
      " 26  social                     98060 non-null  int64  \n",
      " 27  spiritual                  98060 non-null  int64  \n",
      " 28  academia_humanities        98060 non-null  int64  \n",
      " 29  business_farming           98060 non-null  int64  \n",
      " 30  arts                       98060 non-null  int64  \n",
      " 31  sports                     98060 non-null  int64  \n",
      " 32  law_enf_military_operator  98060 non-null  int64  \n",
      " 33  politics_govt_law          98060 non-null  int64  \n",
      " 34  crime                      98060 non-null  int64  \n",
      " 35  event_record_other         98060 non-null  int64  \n",
      " 36  other_species              98060 non-null  int64  \n",
      " 37  num_categories             98060 non-null  int64  \n",
      "dtypes: float64(2), int64(15), object(21)\n",
      "memory usage: 28.4+ MB\n"
     ]
    },
    {
     "data": {
      "application/javascript": [
       "\n",
       "            setTimeout(function() {\n",
       "                var nbb_cell_id = 5;\n",
       "                var nbb_unformatted_code = \"# Checking data types and null values\\ndf.info()\";\n",
       "                var nbb_formatted_code = \"# Checking data types and null values\\ndf.info()\";\n",
       "                var nbb_cells = Jupyter.notebook.get_cells();\n",
       "                for (var i = 0; i < nbb_cells.length; ++i) {\n",
       "                    if (nbb_cells[i].input_prompt_number == nbb_cell_id) {\n",
       "                        if (nbb_cells[i].get_text() == nbb_unformatted_code) {\n",
       "                             nbb_cells[i].set_text(nbb_formatted_code);\n",
       "                        }\n",
       "                        break;\n",
       "                    }\n",
       "                }\n",
       "            }, 500);\n",
       "            "
      ],
      "text/plain": [
       "<IPython.core.display.Javascript object>"
      ]
     },
     "metadata": {},
     "output_type": "display_data"
    }
   ],
   "source": [
    "# Checking data types and null values\n",
    "df.info()"
   ]
  },
  {
   "cell_type": "markdown",
   "id": "c459d7f8",
   "metadata": {},
   "source": [
    "#### Observations:\n",
    "- With our dataset loaded, we can pick up where we left off with extracting known_for values by rebuilding `known_for_dict`."
   ]
  },
  {
   "cell_type": "markdown",
   "id": "5c542ec1",
   "metadata": {},
   "source": [
    "### Extracting `known_for` Continued"
   ]
  },
  {
   "cell_type": "markdown",
   "id": "1fafeb4a",
   "metadata": {},
   "source": [
    "#### Finding `known_for` Roles in `info_2`"
   ]
  },
  {
   "cell_type": "code",
   "execution_count": 6,
   "id": "0f287214",
   "metadata": {},
   "outputs": [
    {
     "data": {
      "application/javascript": [
       "\n",
       "            setTimeout(function() {\n",
       "                var nbb_cell_id = 6;\n",
       "                var nbb_unformatted_code = \"# Obtaining values for column and their counts\\nroles_list = df[\\\"info_2\\\"].value_counts(ascending=True).index.tolist()\";\n",
       "                var nbb_formatted_code = \"# Obtaining values for column and their counts\\nroles_list = df[\\\"info_2\\\"].value_counts(ascending=True).index.tolist()\";\n",
       "                var nbb_cells = Jupyter.notebook.get_cells();\n",
       "                for (var i = 0; i < nbb_cells.length; ++i) {\n",
       "                    if (nbb_cells[i].input_prompt_number == nbb_cell_id) {\n",
       "                        if (nbb_cells[i].get_text() == nbb_unformatted_code) {\n",
       "                             nbb_cells[i].set_text(nbb_formatted_code);\n",
       "                        }\n",
       "                        break;\n",
       "                    }\n",
       "                }\n",
       "            }, 500);\n",
       "            "
      ],
      "text/plain": [
       "<IPython.core.display.Javascript object>"
      ]
     },
     "metadata": {},
     "output_type": "display_data"
    }
   ],
   "source": [
    "# Obtaining values for column and their counts\n",
    "roles_list = df[\"info_2\"].value_counts(ascending=True).index.tolist()"
   ]
  },
  {
   "cell_type": "code",
   "execution_count": 7,
   "id": "71f79aa4",
   "metadata": {},
   "outputs": [
    {
     "data": {
      "application/javascript": [
       "\n",
       "            setTimeout(function() {\n",
       "                var nbb_cell_id = 7;\n",
       "                var nbb_unformatted_code = \"# # Code to check each value\\n# roles_list.pop()\";\n",
       "                var nbb_formatted_code = \"# # Code to check each value\\n# roles_list.pop()\";\n",
       "                var nbb_cells = Jupyter.notebook.get_cells();\n",
       "                for (var i = 0; i < nbb_cells.length; ++i) {\n",
       "                    if (nbb_cells[i].input_prompt_number == nbb_cell_id) {\n",
       "                        if (nbb_cells[i].get_text() == nbb_unformatted_code) {\n",
       "                             nbb_cells[i].set_text(nbb_formatted_code);\n",
       "                        }\n",
       "                        break;\n",
       "                    }\n",
       "                }\n",
       "            }, 500);\n",
       "            "
      ],
      "text/plain": [
       "<IPython.core.display.Javascript object>"
      ]
     },
     "metadata": {},
     "output_type": "display_data"
    }
   ],
   "source": [
    "# # Code to check each value\n",
    "# roles_list.pop()"
   ]
  },
  {
   "cell_type": "code",
   "execution_count": 8,
   "id": "f50de133",
   "metadata": {},
   "outputs": [
    {
     "data": {
      "application/javascript": [
       "\n",
       "            setTimeout(function() {\n",
       "                var nbb_cell_id = 8;\n",
       "                var nbb_unformatted_code = \"# # Create specific_roles_list for above popped value\\n# specific_roles_list = (\\n#     df.loc[\\n#         [index for index in df.index if \\\"Catholic prelate\\\" in df.loc[index, \\\"info\\\"]],\\n#         \\\"info_2\\\",\\n#     ]\\n#     .value_counts()\\n#     .index.tolist()\\n# )\";\n",
       "                var nbb_formatted_code = \"# # Create specific_roles_list for above popped value\\n# specific_roles_list = (\\n#     df.loc[\\n#         [index for index in df.index if \\\"Catholic prelate\\\" in df.loc[index, \\\"info\\\"]],\\n#         \\\"info_2\\\",\\n#     ]\\n#     .value_counts()\\n#     .index.tolist()\\n# )\";\n",
       "                var nbb_cells = Jupyter.notebook.get_cells();\n",
       "                for (var i = 0; i < nbb_cells.length; ++i) {\n",
       "                    if (nbb_cells[i].input_prompt_number == nbb_cell_id) {\n",
       "                        if (nbb_cells[i].get_text() == nbb_unformatted_code) {\n",
       "                             nbb_cells[i].set_text(nbb_formatted_code);\n",
       "                        }\n",
       "                        break;\n",
       "                    }\n",
       "                }\n",
       "            }, 500);\n",
       "            "
      ],
      "text/plain": [
       "<IPython.core.display.Javascript object>"
      ]
     },
     "metadata": {},
     "output_type": "display_data"
    }
   ],
   "source": [
    "# # Create specific_roles_list for above popped value\n",
    "# specific_roles_list = (\n",
    "#     df.loc[\n",
    "#         [index for index in df.index if \"Catholic prelate\" in df.loc[index, \"info\"]],\n",
    "#         \"info_2\",\n",
    "#     ]\n",
    "#     .value_counts()\n",
    "#     .index.tolist()\n",
    "# )"
   ]
  },
  {
   "cell_type": "code",
   "execution_count": 9,
   "id": "4e133ac8",
   "metadata": {},
   "outputs": [
    {
     "data": {
      "application/javascript": [
       "\n",
       "            setTimeout(function() {\n",
       "                var nbb_cell_id = 9;\n",
       "                var nbb_unformatted_code = \"# # Code to check each specific value\\n# specific_roles_list.pop()\";\n",
       "                var nbb_formatted_code = \"# # Code to check each specific value\\n# specific_roles_list.pop()\";\n",
       "                var nbb_cells = Jupyter.notebook.get_cells();\n",
       "                for (var i = 0; i < nbb_cells.length; ++i) {\n",
       "                    if (nbb_cells[i].input_prompt_number == nbb_cell_id) {\n",
       "                        if (nbb_cells[i].get_text() == nbb_unformatted_code) {\n",
       "                             nbb_cells[i].set_text(nbb_formatted_code);\n",
       "                        }\n",
       "                        break;\n",
       "                    }\n",
       "                }\n",
       "            }, 500);\n",
       "            "
      ],
      "text/plain": [
       "<IPython.core.display.Javascript object>"
      ]
     },
     "metadata": {},
     "output_type": "display_data"
    }
   ],
   "source": [
    "# # Code to check each specific value\n",
    "# specific_roles_list.pop()"
   ]
  },
  {
   "cell_type": "code",
   "execution_count": 10,
   "id": "05e0e4ad",
   "metadata": {},
   "outputs": [
    {
     "data": {
      "application/javascript": [
       "\n",
       "            setTimeout(function() {\n",
       "                var nbb_cell_id = 10;\n",
       "                var nbb_unformatted_code = \"# # Example code to quick-screen values that may overlap categories\\n# df.loc[[index for index in df.index if \\\"defrocked\\\" in df.loc[index, \\\"info\\\"]]]\";\n",
       "                var nbb_formatted_code = \"# # Example code to quick-screen values that may overlap categories\\n# df.loc[[index for index in df.index if \\\"defrocked\\\" in df.loc[index, \\\"info\\\"]]]\";\n",
       "                var nbb_cells = Jupyter.notebook.get_cells();\n",
       "                for (var i = 0; i < nbb_cells.length; ++i) {\n",
       "                    if (nbb_cells[i].input_prompt_number == nbb_cell_id) {\n",
       "                        if (nbb_cells[i].get_text() == nbb_unformatted_code) {\n",
       "                             nbb_cells[i].set_text(nbb_formatted_code);\n",
       "                        }\n",
       "                        break;\n",
       "                    }\n",
       "                }\n",
       "            }, 500);\n",
       "            "
      ],
      "text/plain": [
       "<IPython.core.display.Javascript object>"
      ]
     },
     "metadata": {},
     "output_type": "display_data"
    }
   ],
   "source": [
    "# # Example code to quick-screen values that may overlap categories\n",
    "# df.loc[[index for index in df.index if \"defrocked\" in df.loc[index, \"info\"]]]"
   ]
  },
  {
   "cell_type": "code",
   "execution_count": 11,
   "id": "dc22b74c",
   "metadata": {},
   "outputs": [
    {
     "data": {
      "application/javascript": [
       "\n",
       "            setTimeout(function() {\n",
       "                var nbb_cell_id = 11;\n",
       "                var nbb_unformatted_code = \"# # Example code to quick-check a specific entry\\n# df[df[\\\"info_2\\\"] == \\\"defrocked Catholic prelate\\\"]\";\n",
       "                var nbb_formatted_code = \"# # Example code to quick-check a specific entry\\n# df[df[\\\"info_2\\\"] == \\\"defrocked Catholic prelate\\\"]\";\n",
       "                var nbb_cells = Jupyter.notebook.get_cells();\n",
       "                for (var i = 0; i < nbb_cells.length; ++i) {\n",
       "                    if (nbb_cells[i].input_prompt_number == nbb_cell_id) {\n",
       "                        if (nbb_cells[i].get_text() == nbb_unformatted_code) {\n",
       "                             nbb_cells[i].set_text(nbb_formatted_code);\n",
       "                        }\n",
       "                        break;\n",
       "                    }\n",
       "                }\n",
       "            }, 500);\n",
       "            "
      ],
      "text/plain": [
       "<IPython.core.display.Javascript object>"
      ]
     },
     "metadata": {},
     "output_type": "display_data"
    }
   ],
   "source": [
    "# # Example code to quick-check a specific entry\n",
    "# df[df[\"info_2\"] == \"defrocked Catholic prelate\"]"
   ]
  },
  {
   "cell_type": "markdown",
   "id": "7ef46319",
   "metadata": {},
   "source": [
    "#### Creating Lists for Each `known_for` Category"
   ]
  },
  {
   "cell_type": "code",
   "execution_count": 12,
   "id": "08ee092c",
   "metadata": {},
   "outputs": [
    {
     "data": {
      "application/javascript": [
       "\n",
       "            setTimeout(function() {\n",
       "                var nbb_cell_id = 12;\n",
       "                var nbb_unformatted_code = \"# Creating lists for each category\\npolitics_govt_law = [\\n    \\\"Patriotic\\\",\\n]\\n\\narts = []\\nsports = []\\nsciences = []\\n\\nbusiness_farming = []\\nacademia_humanities = []\\nlaw_enf_military_operator = []\\nspiritual = [\\n    \\\"Syro Malabar Catholic prelate\\\",\\n    \\\"Eastern Catholic prelate\\\",\\n    \\\"clandestine Catholic prelate\\\",\\n    \\\"Old Catholic prelate\\\",\\n    \\\"Catholic prelate and theologian\\\",\\n    \\\"Catholic prelate and first cardinal\\\",\\n    \\\"Maronite Catholic prelate\\\",\\n    \\\"Catholic prelate and Cardinal\\\",\\n    \\\"Coptic Catholic prelate\\\",\\n    \\\"Catholic prelate and bishop\\\",\\n    \\\"Catholic prelate and cardinal\\\",\\n    \\\"Catholic prelate and\\\",\\n    \\\"and Catholic prelate\\\",\\n    \\\"Catholic prelate\\\",\\n]\\nsocial = []\\ncrime = [\\n    \\\"defrocked\\\",\\n]\\nevent_record_other = []\\nother_species = []\";\n",
       "                var nbb_formatted_code = \"# Creating lists for each category\\npolitics_govt_law = [\\n    \\\"Patriotic\\\",\\n]\\n\\narts = []\\nsports = []\\nsciences = []\\n\\nbusiness_farming = []\\nacademia_humanities = []\\nlaw_enf_military_operator = []\\nspiritual = [\\n    \\\"Syro Malabar Catholic prelate\\\",\\n    \\\"Eastern Catholic prelate\\\",\\n    \\\"clandestine Catholic prelate\\\",\\n    \\\"Old Catholic prelate\\\",\\n    \\\"Catholic prelate and theologian\\\",\\n    \\\"Catholic prelate and first cardinal\\\",\\n    \\\"Maronite Catholic prelate\\\",\\n    \\\"Catholic prelate and Cardinal\\\",\\n    \\\"Coptic Catholic prelate\\\",\\n    \\\"Catholic prelate and bishop\\\",\\n    \\\"Catholic prelate and cardinal\\\",\\n    \\\"Catholic prelate and\\\",\\n    \\\"and Catholic prelate\\\",\\n    \\\"Catholic prelate\\\",\\n]\\nsocial = []\\ncrime = [\\n    \\\"defrocked\\\",\\n]\\nevent_record_other = []\\nother_species = []\";\n",
       "                var nbb_cells = Jupyter.notebook.get_cells();\n",
       "                for (var i = 0; i < nbb_cells.length; ++i) {\n",
       "                    if (nbb_cells[i].input_prompt_number == nbb_cell_id) {\n",
       "                        if (nbb_cells[i].get_text() == nbb_unformatted_code) {\n",
       "                             nbb_cells[i].set_text(nbb_formatted_code);\n",
       "                        }\n",
       "                        break;\n",
       "                    }\n",
       "                }\n",
       "            }, 500);\n",
       "            "
      ],
      "text/plain": [
       "<IPython.core.display.Javascript object>"
      ]
     },
     "metadata": {},
     "output_type": "display_data"
    }
   ],
   "source": [
    "# Creating lists for each category\n",
    "politics_govt_law = [\n",
    "    \"Patriotic\",\n",
    "]\n",
    "\n",
    "arts = []\n",
    "sports = []\n",
    "sciences = []\n",
    "\n",
    "business_farming = []\n",
    "academia_humanities = []\n",
    "law_enf_military_operator = []\n",
    "spiritual = [\n",
    "    \"Syro Malabar Catholic prelate\",\n",
    "    \"Eastern Catholic prelate\",\n",
    "    \"clandestine Catholic prelate\",\n",
    "    \"Old Catholic prelate\",\n",
    "    \"Catholic prelate and theologian\",\n",
    "    \"Catholic prelate and first cardinal\",\n",
    "    \"Maronite Catholic prelate\",\n",
    "    \"Catholic prelate and Cardinal\",\n",
    "    \"Coptic Catholic prelate\",\n",
    "    \"Catholic prelate and bishop\",\n",
    "    \"Catholic prelate and cardinal\",\n",
    "    \"Catholic prelate and\",\n",
    "    \"and Catholic prelate\",\n",
    "    \"Catholic prelate\",\n",
    "]\n",
    "social = []\n",
    "crime = [\n",
    "    \"defrocked\",\n",
    "]\n",
    "event_record_other = []\n",
    "other_species = []"
   ]
  },
  {
   "cell_type": "markdown",
   "id": "be3a9f1f",
   "metadata": {},
   "source": [
    "#### Creating `known_for_dict` Dictionary of Category Keys and Specific Role Lists of Values"
   ]
  },
  {
   "cell_type": "code",
   "execution_count": 13,
   "id": "624f57d9",
   "metadata": {},
   "outputs": [
    {
     "data": {
      "application/javascript": [
       "\n",
       "            setTimeout(function() {\n",
       "                var nbb_cell_id = 13;\n",
       "                var nbb_unformatted_code = \"# Combining separate lists into one dictionary\\nknown_for_dict = {\\n    \\\"social\\\": social,\\n    \\\"spiritual\\\": spiritual,\\n    \\\"academia_humanities\\\": academia_humanities,\\n    \\\"business_farming\\\": business_farming,\\n    \\\"sciences\\\": sciences,\\n    \\\"politics_govt_law\\\": politics_govt_law,\\n    \\\"law_enf_military_operator\\\": law_enf_military_operator,\\n    \\\"crime\\\": crime,\\n    \\\"event_record_other\\\": event_record_other,\\n    \\\"other_species\\\": other_species,\\n    \\\"arts\\\": arts,\\n    \\\"sports\\\": sports,\\n}\";\n",
       "                var nbb_formatted_code = \"# Combining separate lists into one dictionary\\nknown_for_dict = {\\n    \\\"social\\\": social,\\n    \\\"spiritual\\\": spiritual,\\n    \\\"academia_humanities\\\": academia_humanities,\\n    \\\"business_farming\\\": business_farming,\\n    \\\"sciences\\\": sciences,\\n    \\\"politics_govt_law\\\": politics_govt_law,\\n    \\\"law_enf_military_operator\\\": law_enf_military_operator,\\n    \\\"crime\\\": crime,\\n    \\\"event_record_other\\\": event_record_other,\\n    \\\"other_species\\\": other_species,\\n    \\\"arts\\\": arts,\\n    \\\"sports\\\": sports,\\n}\";\n",
       "                var nbb_cells = Jupyter.notebook.get_cells();\n",
       "                for (var i = 0; i < nbb_cells.length; ++i) {\n",
       "                    if (nbb_cells[i].input_prompt_number == nbb_cell_id) {\n",
       "                        if (nbb_cells[i].get_text() == nbb_unformatted_code) {\n",
       "                             nbb_cells[i].set_text(nbb_formatted_code);\n",
       "                        }\n",
       "                        break;\n",
       "                    }\n",
       "                }\n",
       "            }, 500);\n",
       "            "
      ],
      "text/plain": [
       "<IPython.core.display.Javascript object>"
      ]
     },
     "metadata": {},
     "output_type": "display_data"
    }
   ],
   "source": [
    "# Combining separate lists into one dictionary\n",
    "known_for_dict = {\n",
    "    \"social\": social,\n",
    "    \"spiritual\": spiritual,\n",
    "    \"academia_humanities\": academia_humanities,\n",
    "    \"business_farming\": business_farming,\n",
    "    \"sciences\": sciences,\n",
    "    \"politics_govt_law\": politics_govt_law,\n",
    "    \"law_enf_military_operator\": law_enf_military_operator,\n",
    "    \"crime\": crime,\n",
    "    \"event_record_other\": event_record_other,\n",
    "    \"other_species\": other_species,\n",
    "    \"arts\": arts,\n",
    "    \"sports\": sports,\n",
    "}"
   ]
  },
  {
   "cell_type": "markdown",
   "id": "21226ac6",
   "metadata": {},
   "source": [
    "#### Extracting Category from `info_2`"
   ]
  },
  {
   "cell_type": "code",
   "execution_count": 14,
   "id": "5b4cac58",
   "metadata": {},
   "outputs": [
    {
     "name": "stdout",
     "output_type": "stream",
     "text": [
      "CPU times: total: 8.98 s\n",
      "Wall time: 8.99 s\n"
     ]
    },
    {
     "data": {
      "text/html": [
       "<div>\n",
       "<style scoped>\n",
       "    .dataframe tbody tr th:only-of-type {\n",
       "        vertical-align: middle;\n",
       "    }\n",
       "\n",
       "    .dataframe tbody tr th {\n",
       "        vertical-align: top;\n",
       "    }\n",
       "\n",
       "    .dataframe thead th {\n",
       "        text-align: right;\n",
       "    }\n",
       "</style>\n",
       "<table border=\"1\" class=\"dataframe\">\n",
       "  <thead>\n",
       "    <tr style=\"text-align: right;\">\n",
       "      <th></th>\n",
       "      <th>day</th>\n",
       "      <th>name</th>\n",
       "      <th>info</th>\n",
       "      <th>link</th>\n",
       "      <th>num_references</th>\n",
       "      <th>year</th>\n",
       "      <th>month</th>\n",
       "      <th>info_parenth</th>\n",
       "      <th>info_1</th>\n",
       "      <th>info_2</th>\n",
       "      <th>info_3</th>\n",
       "      <th>info_4</th>\n",
       "      <th>info_5</th>\n",
       "      <th>info_6</th>\n",
       "      <th>info_7</th>\n",
       "      <th>info_8</th>\n",
       "      <th>info_9</th>\n",
       "      <th>info_10</th>\n",
       "      <th>info_11</th>\n",
       "      <th>age</th>\n",
       "      <th>cause_of_death</th>\n",
       "      <th>place_1</th>\n",
       "      <th>place_2</th>\n",
       "      <th>info_parenth_copy</th>\n",
       "      <th>log_num_references</th>\n",
       "      <th>sciences</th>\n",
       "      <th>social</th>\n",
       "      <th>spiritual</th>\n",
       "      <th>academia_humanities</th>\n",
       "      <th>business_farming</th>\n",
       "      <th>arts</th>\n",
       "      <th>sports</th>\n",
       "      <th>law_enf_military_operator</th>\n",
       "      <th>politics_govt_law</th>\n",
       "      <th>crime</th>\n",
       "      <th>event_record_other</th>\n",
       "      <th>other_species</th>\n",
       "      <th>num_categories</th>\n",
       "    </tr>\n",
       "  </thead>\n",
       "  <tbody>\n",
       "    <tr>\n",
       "      <th>7762</th>\n",
       "      <td>17</td>\n",
       "      <td>John Carberry</td>\n",
       "      <td>, 93, American Roman Catholic prelate.</td>\n",
       "      <td>https://en.wikipedia.org/wiki/John_Carberry</td>\n",
       "      <td>23</td>\n",
       "      <td>1998</td>\n",
       "      <td>June</td>\n",
       "      <td>None</td>\n",
       "      <td>None</td>\n",
       "      <td></td>\n",
       "      <td>None</td>\n",
       "      <td>None</td>\n",
       "      <td>None</td>\n",
       "      <td>None</td>\n",
       "      <td>None</td>\n",
       "      <td>None</td>\n",
       "      <td>None</td>\n",
       "      <td>None</td>\n",
       "      <td>None</td>\n",
       "      <td>93.0</td>\n",
       "      <td>None</td>\n",
       "      <td>United States of America</td>\n",
       "      <td>Italy</td>\n",
       "      <td>None</td>\n",
       "      <td>3.178054</td>\n",
       "      <td>0</td>\n",
       "      <td>0</td>\n",
       "      <td>1</td>\n",
       "      <td>0</td>\n",
       "      <td>0</td>\n",
       "      <td>0</td>\n",
       "      <td>0</td>\n",
       "      <td>0</td>\n",
       "      <td>0</td>\n",
       "      <td>0</td>\n",
       "      <td>0</td>\n",
       "      <td>0</td>\n",
       "      <td>1</td>\n",
       "    </tr>\n",
       "    <tr>\n",
       "      <th>32227</th>\n",
       "      <td>13</td>\n",
       "      <td>Jacques Faivre</td>\n",
       "      <td>, 76, French Roman Catholic prelate, Bishop of Le Mans , heart attack.</td>\n",
       "      <td>https://en.wikipedia.org/wiki/Jacques_Faivre_(bishop)</td>\n",
       "      <td>3</td>\n",
       "      <td>2010</td>\n",
       "      <td>August</td>\n",
       "      <td></td>\n",
       "      <td>None</td>\n",
       "      <td></td>\n",
       "      <td>Bishop of Le Mans</td>\n",
       "      <td>heart attack</td>\n",
       "      <td>None</td>\n",
       "      <td>None</td>\n",
       "      <td>None</td>\n",
       "      <td>None</td>\n",
       "      <td>None</td>\n",
       "      <td>None</td>\n",
       "      <td>None</td>\n",
       "      <td>76.0</td>\n",
       "      <td>None</td>\n",
       "      <td>France</td>\n",
       "      <td>Italy</td>\n",
       "      <td>1997 2008</td>\n",
       "      <td>1.386294</td>\n",
       "      <td>0</td>\n",
       "      <td>0</td>\n",
       "      <td>1</td>\n",
       "      <td>0</td>\n",
       "      <td>0</td>\n",
       "      <td>0</td>\n",
       "      <td>0</td>\n",
       "      <td>0</td>\n",
       "      <td>0</td>\n",
       "      <td>0</td>\n",
       "      <td>0</td>\n",
       "      <td>0</td>\n",
       "      <td>1</td>\n",
       "    </tr>\n",
       "  </tbody>\n",
       "</table>\n",
       "</div>"
      ],
      "text/plain": [
       "      day            name  \\\n",
       "7762   17   John Carberry   \n",
       "32227  13  Jacques Faivre   \n",
       "\n",
       "                                                                         info  \\\n",
       "7762                                   , 93, American Roman Catholic prelate.   \n",
       "32227  , 76, French Roman Catholic prelate, Bishop of Le Mans , heart attack.   \n",
       "\n",
       "                                                        link  num_references  \\\n",
       "7762             https://en.wikipedia.org/wiki/John_Carberry              23   \n",
       "32227  https://en.wikipedia.org/wiki/Jacques_Faivre_(bishop)               3   \n",
       "\n",
       "       year   month info_parenth info_1 info_2             info_3  \\\n",
       "7762   1998    June         None   None                      None   \n",
       "32227  2010  August                None         Bishop of Le Mans   \n",
       "\n",
       "             info_4 info_5 info_6 info_7 info_8 info_9 info_10 info_11   age  \\\n",
       "7762           None   None   None   None   None   None    None    None  93.0   \n",
       "32227  heart attack   None   None   None   None   None    None    None  76.0   \n",
       "\n",
       "      cause_of_death                   place_1 place_2 info_parenth_copy  \\\n",
       "7762            None  United States of America   Italy              None   \n",
       "32227           None                    France   Italy         1997 2008   \n",
       "\n",
       "       log_num_references  sciences  social  spiritual  academia_humanities  \\\n",
       "7762             3.178054         0       0          1                    0   \n",
       "32227            1.386294         0       0          1                    0   \n",
       "\n",
       "       business_farming  arts  sports  law_enf_military_operator  \\\n",
       "7762                  0     0       0                          0   \n",
       "32227                 0     0       0                          0   \n",
       "\n",
       "       politics_govt_law  crime  event_record_other  other_species  \\\n",
       "7762                   0      0                   0              0   \n",
       "32227                  0      0                   0              0   \n",
       "\n",
       "       num_categories  \n",
       "7762                1  \n",
       "32227               1  "
      ]
     },
     "execution_count": 14,
     "metadata": {},
     "output_type": "execute_result"
    },
    {
     "data": {
      "application/javascript": [
       "\n",
       "            setTimeout(function() {\n",
       "                var nbb_cell_id = 14;\n",
       "                var nbb_unformatted_code = \"%%time\\n\\n# Dictionary version\\nsearch_dict = known_for_dict\\n\\n# Column to check\\ncolumn = 'info_2'\\n\\n# Dataframe\\ndataframe = df[column].notna()\\n\\n# For loop to find role in column and extract it as category\\nfor category, category_lst in search_dict.items():\\n    for role in category_lst:\\n        for index in dataframe.index:\\n            item = df.loc[index, column]\\n            if item:\\n                if role in item:\\n                    df.loc[index, category] = 1\\n                    df.loc[index, column] = item.replace(role, '').strip()\\n\\n# Updating num_categories\\ndf[\\\"num_categories\\\"] = df[known_for_dict.keys()].sum(axis=1)\\n\\n# Checking a sample of rows\\ndf[df['spiritual'] ==1].sample(2)\";\n",
       "                var nbb_formatted_code = \"%%time\\n\\n# Dictionary version\\nsearch_dict = known_for_dict\\n\\n# Column to check\\ncolumn = 'info_2'\\n\\n# Dataframe\\ndataframe = df[column].notna()\\n\\n# For loop to find role in column and extract it as category\\nfor category, category_lst in search_dict.items():\\n    for role in category_lst:\\n        for index in dataframe.index:\\n            item = df.loc[index, column]\\n            if item:\\n                if role in item:\\n                    df.loc[index, category] = 1\\n                    df.loc[index, column] = item.replace(role, '').strip()\\n\\n# Updating num_categories\\ndf[\\\"num_categories\\\"] = df[known_for_dict.keys()].sum(axis=1)\\n\\n# Checking a sample of rows\\ndf[df['spiritual'] ==1].sample(2)\";\n",
       "                var nbb_cells = Jupyter.notebook.get_cells();\n",
       "                for (var i = 0; i < nbb_cells.length; ++i) {\n",
       "                    if (nbb_cells[i].input_prompt_number == nbb_cell_id) {\n",
       "                        if (nbb_cells[i].get_text() == nbb_unformatted_code) {\n",
       "                             nbb_cells[i].set_text(nbb_formatted_code);\n",
       "                        }\n",
       "                        break;\n",
       "                    }\n",
       "                }\n",
       "            }, 500);\n",
       "            "
      ],
      "text/plain": [
       "<IPython.core.display.Javascript object>"
      ]
     },
     "metadata": {},
     "output_type": "display_data"
    }
   ],
   "source": [
    "%%time\n",
    "\n",
    "# Dictionary version\n",
    "search_dict = known_for_dict\n",
    "\n",
    "# Column to check\n",
    "column = 'info_2'\n",
    "\n",
    "# Dataframe\n",
    "dataframe = df[column].notna()\n",
    "\n",
    "# For loop to find role in column and extract it as category\n",
    "for category, category_lst in search_dict.items():\n",
    "    for role in category_lst:\n",
    "        for index in dataframe.index:\n",
    "            item = df.loc[index, column]\n",
    "            if item:\n",
    "                if role in item:\n",
    "                    df.loc[index, category] = 1\n",
    "                    df.loc[index, column] = item.replace(role, '').strip()\n",
    "\n",
    "# Updating num_categories\n",
    "df[\"num_categories\"] = df[known_for_dict.keys()].sum(axis=1)\n",
    "\n",
    "# Checking a sample of rows\n",
    "df[df['spiritual'] ==1].sample(2)"
   ]
  },
  {
   "cell_type": "markdown",
   "id": "d0b73da5",
   "metadata": {},
   "source": [
    "#### Checking the Number of Rows without a First Category"
   ]
  },
  {
   "cell_type": "code",
   "execution_count": 15,
   "id": "61a1b437",
   "metadata": {},
   "outputs": [
    {
     "name": "stdout",
     "output_type": "stream",
     "text": [
      "There are 44902 entries without any known_for category.\n"
     ]
    },
    {
     "data": {
      "application/javascript": [
       "\n",
       "            setTimeout(function() {\n",
       "                var nbb_cell_id = 15;\n",
       "                var nbb_unformatted_code = \"#### Checking the number of rows without a first category\\nprint(\\n    f'There are {len(df[df[\\\"num_categories\\\"]==0])} entries without any known_for category.'\\n)\";\n",
       "                var nbb_formatted_code = \"#### Checking the number of rows without a first category\\nprint(\\n    f'There are {len(df[df[\\\"num_categories\\\"]==0])} entries without any known_for category.'\\n)\";\n",
       "                var nbb_cells = Jupyter.notebook.get_cells();\n",
       "                for (var i = 0; i < nbb_cells.length; ++i) {\n",
       "                    if (nbb_cells[i].input_prompt_number == nbb_cell_id) {\n",
       "                        if (nbb_cells[i].get_text() == nbb_unformatted_code) {\n",
       "                             nbb_cells[i].set_text(nbb_formatted_code);\n",
       "                        }\n",
       "                        break;\n",
       "                    }\n",
       "                }\n",
       "            }, 500);\n",
       "            "
      ],
      "text/plain": [
       "<IPython.core.display.Javascript object>"
      ]
     },
     "metadata": {},
     "output_type": "display_data"
    }
   ],
   "source": [
    "#### Checking the number of rows without a first category\n",
    "print(\n",
    "    f'There are {len(df[df[\"num_categories\"]==0])} entries without any known_for category.'\n",
    ")"
   ]
  },
  {
   "cell_type": "markdown",
   "id": "26c2381b",
   "metadata": {},
   "source": [
    "#### Observations:\n",
    "- We will proceed to rebuild `known_for_dict` for the next iteration."
   ]
  },
  {
   "cell_type": "markdown",
   "id": "2b50c5b4",
   "metadata": {},
   "source": [
    "#### Finding `known_for` Roles in `info_2`"
   ]
  },
  {
   "cell_type": "code",
   "execution_count": 16,
   "id": "e2c9c3e0",
   "metadata": {},
   "outputs": [
    {
     "data": {
      "application/javascript": [
       "\n",
       "            setTimeout(function() {\n",
       "                var nbb_cell_id = 16;\n",
       "                var nbb_unformatted_code = \"# Obtaining values for column and their counts\\nroles_list = df[\\\"info_2\\\"].value_counts(ascending=True).index.tolist()\";\n",
       "                var nbb_formatted_code = \"# Obtaining values for column and their counts\\nroles_list = df[\\\"info_2\\\"].value_counts(ascending=True).index.tolist()\";\n",
       "                var nbb_cells = Jupyter.notebook.get_cells();\n",
       "                for (var i = 0; i < nbb_cells.length; ++i) {\n",
       "                    if (nbb_cells[i].input_prompt_number == nbb_cell_id) {\n",
       "                        if (nbb_cells[i].get_text() == nbb_unformatted_code) {\n",
       "                             nbb_cells[i].set_text(nbb_formatted_code);\n",
       "                        }\n",
       "                        break;\n",
       "                    }\n",
       "                }\n",
       "            }, 500);\n",
       "            "
      ],
      "text/plain": [
       "<IPython.core.display.Javascript object>"
      ]
     },
     "metadata": {},
     "output_type": "display_data"
    }
   ],
   "source": [
    "# Obtaining values for column and their counts\n",
    "roles_list = df[\"info_2\"].value_counts(ascending=True).index.tolist()"
   ]
  },
  {
   "cell_type": "code",
   "execution_count": 17,
   "id": "dee4b2ce",
   "metadata": {},
   "outputs": [
    {
     "data": {
      "application/javascript": [
       "\n",
       "            setTimeout(function() {\n",
       "                var nbb_cell_id = 17;\n",
       "                var nbb_unformatted_code = \"# # Code to check each value\\n# roles_list.pop()\";\n",
       "                var nbb_formatted_code = \"# # Code to check each value\\n# roles_list.pop()\";\n",
       "                var nbb_cells = Jupyter.notebook.get_cells();\n",
       "                for (var i = 0; i < nbb_cells.length; ++i) {\n",
       "                    if (nbb_cells[i].input_prompt_number == nbb_cell_id) {\n",
       "                        if (nbb_cells[i].get_text() == nbb_unformatted_code) {\n",
       "                             nbb_cells[i].set_text(nbb_formatted_code);\n",
       "                        }\n",
       "                        break;\n",
       "                    }\n",
       "                }\n",
       "            }, 500);\n",
       "            "
      ],
      "text/plain": [
       "<IPython.core.display.Javascript object>"
      ]
     },
     "metadata": {},
     "output_type": "display_data"
    }
   ],
   "source": [
    "# # Code to check each value\n",
    "# roles_list.pop()"
   ]
  },
  {
   "cell_type": "code",
   "execution_count": 18,
   "id": "ad5dfeec",
   "metadata": {},
   "outputs": [
    {
     "data": {
      "application/javascript": [
       "\n",
       "            setTimeout(function() {\n",
       "                var nbb_cell_id = 18;\n",
       "                var nbb_unformatted_code = \"# # Create specific_roles_list for above popped value\\n# specific_roles_list = (\\n#     df.loc[\\n#         [index for index in df.index if \\\"physicist\\\" in df.loc[index, \\\"info\\\"]], \\\"info_2\\\",\\n#     ]\\n#     .value_counts()\\n#     .index.tolist()\\n# )\";\n",
       "                var nbb_formatted_code = \"# # Create specific_roles_list for above popped value\\n# specific_roles_list = (\\n#     df.loc[\\n#         [index for index in df.index if \\\"physicist\\\" in df.loc[index, \\\"info\\\"]], \\\"info_2\\\",\\n#     ]\\n#     .value_counts()\\n#     .index.tolist()\\n# )\";\n",
       "                var nbb_cells = Jupyter.notebook.get_cells();\n",
       "                for (var i = 0; i < nbb_cells.length; ++i) {\n",
       "                    if (nbb_cells[i].input_prompt_number == nbb_cell_id) {\n",
       "                        if (nbb_cells[i].get_text() == nbb_unformatted_code) {\n",
       "                             nbb_cells[i].set_text(nbb_formatted_code);\n",
       "                        }\n",
       "                        break;\n",
       "                    }\n",
       "                }\n",
       "            }, 500);\n",
       "            "
      ],
      "text/plain": [
       "<IPython.core.display.Javascript object>"
      ]
     },
     "metadata": {},
     "output_type": "display_data"
    }
   ],
   "source": [
    "# # Create specific_roles_list for above popped value\n",
    "# specific_roles_list = (\n",
    "#     df.loc[\n",
    "#         [index for index in df.index if \"physicist\" in df.loc[index, \"info\"]], \"info_2\",\n",
    "#     ]\n",
    "#     .value_counts()\n",
    "#     .index.tolist()\n",
    "# )"
   ]
  },
  {
   "cell_type": "code",
   "execution_count": 19,
   "id": "ee700fba",
   "metadata": {},
   "outputs": [
    {
     "data": {
      "application/javascript": [
       "\n",
       "            setTimeout(function() {\n",
       "                var nbb_cell_id = 19;\n",
       "                var nbb_unformatted_code = \"# # Code to check each specific value\\n# specific_roles_list.pop()\";\n",
       "                var nbb_formatted_code = \"# # Code to check each specific value\\n# specific_roles_list.pop()\";\n",
       "                var nbb_cells = Jupyter.notebook.get_cells();\n",
       "                for (var i = 0; i < nbb_cells.length; ++i) {\n",
       "                    if (nbb_cells[i].input_prompt_number == nbb_cell_id) {\n",
       "                        if (nbb_cells[i].get_text() == nbb_unformatted_code) {\n",
       "                             nbb_cells[i].set_text(nbb_formatted_code);\n",
       "                        }\n",
       "                        break;\n",
       "                    }\n",
       "                }\n",
       "            }, 500);\n",
       "            "
      ],
      "text/plain": [
       "<IPython.core.display.Javascript object>"
      ]
     },
     "metadata": {},
     "output_type": "display_data"
    }
   ],
   "source": [
    "# # Code to check each specific value\n",
    "# specific_roles_list.pop()"
   ]
  },
  {
   "cell_type": "code",
   "execution_count": 20,
   "id": "cdecadd8",
   "metadata": {},
   "outputs": [
    {
     "data": {
      "application/javascript": [
       "\n",
       "            setTimeout(function() {\n",
       "                var nbb_cell_id = 20;\n",
       "                var nbb_unformatted_code = \"# # Example code to quick-screen values that may overlap categories\\n# df.loc[\\n#     [index for index in df.index if \\\"physicist and science\\\" in df.loc[index, \\\"info\\\"]]\\n# ]\";\n",
       "                var nbb_formatted_code = \"# # Example code to quick-screen values that may overlap categories\\n# df.loc[\\n#     [index for index in df.index if \\\"physicist and science\\\" in df.loc[index, \\\"info\\\"]]\\n# ]\";\n",
       "                var nbb_cells = Jupyter.notebook.get_cells();\n",
       "                for (var i = 0; i < nbb_cells.length; ++i) {\n",
       "                    if (nbb_cells[i].input_prompt_number == nbb_cell_id) {\n",
       "                        if (nbb_cells[i].get_text() == nbb_unformatted_code) {\n",
       "                             nbb_cells[i].set_text(nbb_formatted_code);\n",
       "                        }\n",
       "                        break;\n",
       "                    }\n",
       "                }\n",
       "            }, 500);\n",
       "            "
      ],
      "text/plain": [
       "<IPython.core.display.Javascript object>"
      ]
     },
     "metadata": {},
     "output_type": "display_data"
    }
   ],
   "source": [
    "# # Example code to quick-screen values that may overlap categories\n",
    "# df.loc[\n",
    "#     [index for index in df.index if \"physicist and science\" in df.loc[index, \"info\"]]\n",
    "# ]"
   ]
  },
  {
   "cell_type": "code",
   "execution_count": 21,
   "id": "69131474",
   "metadata": {},
   "outputs": [
    {
     "data": {
      "application/javascript": [
       "\n",
       "            setTimeout(function() {\n",
       "                var nbb_cell_id = 21;\n",
       "                var nbb_unformatted_code = \"# # Example code to quick-check a specific entry\\n# df[df[\\\"info_2\\\"] == \\\"health physicist\\\"]\";\n",
       "                var nbb_formatted_code = \"# # Example code to quick-check a specific entry\\n# df[df[\\\"info_2\\\"] == \\\"health physicist\\\"]\";\n",
       "                var nbb_cells = Jupyter.notebook.get_cells();\n",
       "                for (var i = 0; i < nbb_cells.length; ++i) {\n",
       "                    if (nbb_cells[i].input_prompt_number == nbb_cell_id) {\n",
       "                        if (nbb_cells[i].get_text() == nbb_unformatted_code) {\n",
       "                             nbb_cells[i].set_text(nbb_formatted_code);\n",
       "                        }\n",
       "                        break;\n",
       "                    }\n",
       "                }\n",
       "            }, 500);\n",
       "            "
      ],
      "text/plain": [
       "<IPython.core.display.Javascript object>"
      ]
     },
     "metadata": {},
     "output_type": "display_data"
    }
   ],
   "source": [
    "# # Example code to quick-check a specific entry\n",
    "# df[df[\"info_2\"] == \"health physicist\"]"
   ]
  },
  {
   "cell_type": "markdown",
   "id": "dbaf9195",
   "metadata": {},
   "source": [
    "#### Creating Lists for Each `known_for` Category"
   ]
  },
  {
   "cell_type": "code",
   "execution_count": 22,
   "id": "68dd5b05",
   "metadata": {},
   "outputs": [
    {
     "data": {
      "application/javascript": [
       "\n",
       "            setTimeout(function() {\n",
       "                var nbb_cell_id = 22;\n",
       "                var nbb_unformatted_code = \"# Creating lists for each category\\npolitics_govt_law = [\\\"arms control expert\\\", \\\"refusenik\\\"]\\n\\narts = []\\nsports = []\\nsciences = [\\n    \\\"physicist and group leader in the Manhattan Project\\\",\\n    \\\"physicist and molecular biologist\\\",\\n    \\\"physicist and computer research executive\\\",\\n    \\\"Nobel Prize winning biophysicist\\\",\\n    \\\"physicist and grandson of Yuan Shikai\\\",\\n    \\\"physicist and polymer researcher\\\",\\n    \\\"physicist and hydrodynamicist\\\",\\n    \\\"nuclear physicist and inventor\\\",\\n    \\\"physicist and a leader in controlled fusion research\\\",\\n    \\\"computational physicist and the father of plasma based acceleration techniques\\\",\\n    \\\"biophysicist and theoretical ecologist\\\",\\n    \\\"physicist and co winner of Nobel Prize in Physics in\\\",\\n    \\\"leading physicist in the study of waves\\\",\\n    \\\"physicist and Nobel laureate\\\",\\n    \\\"physicist ane engineer\\\",\\n    \\\"astrophysicist and radio astronomer\\\",\\n    \\\"physicist and artificial intelligence pioneer\\\",\\n    \\\"physicist and civil engineer\\\",\\n    'physicist who coined the term \\\"black hole\\\"',\\n    \\\"physicist who co discovered the Wigner Seitz cell\\\",\\n    \\\"physicist and former director of SLAC\\\",\\n    \\\"physicist at Uppsala University\\\",\\n    \\\"physicist who won the Nobel Prize for Physics in\\\",\\n    \\\"physicist who built the first laser\\\",\\n    \\\"physicist who was a pioneer of solid state physics\\\",\\n    \\\"molecular biophysicist and crystallographer\\\",\\n    \\\"physicist and member of the Manhattan Project\\\",\\n    \\\"physicist and color scientist\\\",\\n    \\\"marine geologist and geophysicist\\\",\\n    \\\"theoretical physicist and astronomer\\\",\\n    \\\"physicist and electronics engineer\\\",\\n    \\\"physicist and inventor of the first digital computer\\\",\\n    \\\"pioneering biophysicist and virologist\\\",\\n    \\\"physicist Nobel Prize in Physics laureate\\\",\\n    \\\"theoretical physicist and magneto ionic theory pioneer\\\",\\n    \\\"theoretical physicist and Nobel Prize laureate\\\",\\n    \\\"physicist and jet engine designer\\\",\\n    \\\"geophysicist and oceanographer\\\",\\n    \\\"physicist and winner of the Nobel Prize in Physics\\\",\\n    \\\"physicist known for the Casimir effect\\\",\\n    \\\"nuclear physicist who worked at the Manhattan Project Metallurgical Laboratory\\\",\\n    \\\"physicist and team member of the Manhattan Project\\\",\\n    \\\"biophysicist and biochemist\\\",\\n    \\\"experimental physicist and scientist\\\",\\n    \\\"physicist and radiation health physics pioneer\\\",\\n    \\\"physicist and co inventor of the laser with Charles Townes\\\",\\n    \\\"nuclear engineer and physicist\\\",\\n    'physicist known as \\\"the father of Pulsed Power\\\"',\\n    \\\"physicist and physical chemist\\\",\\n    \\\"chemist and nuclear physicist\\\",\\n    \\\"physicist and recipient of the Nobel Prize in Physics\\\",\\n    \\\"differential geometer and mathematical physicist\\\",\\n    \\\"physicist and statistician\\\",\\n    \\\"physicist and father of Joan Baez and Mimi Fari\\u00f1a\\\",\\n    \\\"nuclear physicist and engineer\\\",\\n    \\\"physicist and microbiologist\\\",\\n    \\\"nuclear physicist and ufologist\\\",\\n    \\\"chemist and biophysicist\\\",\\n    \\\"condensed matter physicist\\\",\\n    \\\"physicist and researcher\\\",\\n    \\\"geophysicist and structural geologist\\\",\\n    \\\"mesoscopic physicist\\\",\\n    \\\"physicist and specialist in solid state laser\\\",\\n    \\\"physicist and aircraft designer\\\",\\n    \\\"physicist specialized in theoretical catalysis\\\",\\n    \\\"biologist and biophysicist\\\",\\n    \\\"thermal physicist\\\",\\n    \\\"atomic physicist\\\",\\n    \\\"biophysicist and science\\\",\\n    \\\"research physicist\\\",\\n    \\\"theoretical physicist and nuclear engineer\\\",\\n    \\\"neurophysicist\\\",\\n    \\\"experimental nuclear physicist\\\",\\n    \\\"health physicist\\\",\\n    \\\"physicist and parapsychologist\\\",\\n    \\\"physicist and skeptic\\\",\\n    \\\"solid state physicist\\\",\\n    \\\"biophysicist and virologist\\\",\\n    \\\"atmospheric physicist\\\",\\n    \\\"physicist and geneticist\\\",\\n    \\\"electrical engineer and physicist\\\",\\n    \\\"climate physicist\\\",\\n    \\\"nuclear and particle physicist\\\",\\n    \\\"explosives engineer and physicist\\\",\\n    \\\"physicist and neurobiologist\\\",\\n    \\\"mathematical physicist and cosmologist\\\",\\n    \\\"metallurgist and physicist\\\",\\n    \\\"mathematical geophysicist and seismologist\\\",\\n    \\\"East physicist\\\",\\n    \\\"theoretical physicist and astrophysicist\\\",\\n    \\\"Nobel Prize winning physicist\\\",\\n    \\\"optical physicist\\\",\\n    \\\"metal physicist\\\",\\n    \\\"metal and detonation physicist\\\",\\n    \\\"solar physicist\\\",\\n    \\\"oceanographic physicist\\\",\\n    \\\"geophysicist and planetary scientist\\\",\\n    \\\"astroparticle physicist\\\",\\n    \\\"accelerator physicist\\\",\\n    \\\"engineer and physicist\\\",\\n    \\\"molecular biophysicist\\\",\\n    \\\"physicist and radio astronomer\\\",\\n    \\\"physicist and meteorologist\\\",\\n    \\\"physicist and computer scientist\\\",\\n    \\\"astronomer and physicist\\\",\\n    \\\"physicist and chemist\\\",\\n    \\\"chemical physicist\\\",\\n    \\\"physicist and electrical engineer\\\",\\n    \\\"physicist and astronomer\\\",\\n    \\\"astronomer and astrophysicist\\\",\\n    \\\"medical physicist\\\",\\n    \\\"space physicist\\\",\\n    \\\"plasma physicist\\\",\\n    \\\"chemist and physicist\\\",\\n    \\\"physicist and inventor\\\",\\n    \\\"experimental physicist\\\",\\n    \\\"physicist and engineer\\\",\\n    \\\"mathematical physicist\\\",\\n    \\\"particle physicist\\\",\\n    \\\"biophysicist\\\",\\n    \\\"geophysicist\\\",\\n    \\\"and nuclear physicist\\\",\\n    \\\"nuclear physicist and\\\",\\n    \\\"nuclear physicist\\\",\\n    \\\"and astrophysicist\\\",\\n    \\\"astrophysicist and\\\",\\n    \\\"astrophysicist\\\",\\n    \\\"and theoretical physicist\\\",\\n    \\\"theoretical physicist and\\\",\\n    \\\"theoretical physicist\\\",\\n    \\\"physicist and\\\",\\n    \\\"and physicist\\\",\\n    \\\"physicist\\\",\\n]\\n\\nbusiness_farming = []\\nacademia_humanities = []\\nlaw_enf_military_operator = []\\nspiritual = []\\nsocial = []\\ncrime = []\\nevent_record_other = []\\nother_species = []\";\n",
       "                var nbb_formatted_code = \"# Creating lists for each category\\npolitics_govt_law = [\\\"arms control expert\\\", \\\"refusenik\\\"]\\n\\narts = []\\nsports = []\\nsciences = [\\n    \\\"physicist and group leader in the Manhattan Project\\\",\\n    \\\"physicist and molecular biologist\\\",\\n    \\\"physicist and computer research executive\\\",\\n    \\\"Nobel Prize winning biophysicist\\\",\\n    \\\"physicist and grandson of Yuan Shikai\\\",\\n    \\\"physicist and polymer researcher\\\",\\n    \\\"physicist and hydrodynamicist\\\",\\n    \\\"nuclear physicist and inventor\\\",\\n    \\\"physicist and a leader in controlled fusion research\\\",\\n    \\\"computational physicist and the father of plasma based acceleration techniques\\\",\\n    \\\"biophysicist and theoretical ecologist\\\",\\n    \\\"physicist and co winner of Nobel Prize in Physics in\\\",\\n    \\\"leading physicist in the study of waves\\\",\\n    \\\"physicist and Nobel laureate\\\",\\n    \\\"physicist ane engineer\\\",\\n    \\\"astrophysicist and radio astronomer\\\",\\n    \\\"physicist and artificial intelligence pioneer\\\",\\n    \\\"physicist and civil engineer\\\",\\n    'physicist who coined the term \\\"black hole\\\"',\\n    \\\"physicist who co discovered the Wigner Seitz cell\\\",\\n    \\\"physicist and former director of SLAC\\\",\\n    \\\"physicist at Uppsala University\\\",\\n    \\\"physicist who won the Nobel Prize for Physics in\\\",\\n    \\\"physicist who built the first laser\\\",\\n    \\\"physicist who was a pioneer of solid state physics\\\",\\n    \\\"molecular biophysicist and crystallographer\\\",\\n    \\\"physicist and member of the Manhattan Project\\\",\\n    \\\"physicist and color scientist\\\",\\n    \\\"marine geologist and geophysicist\\\",\\n    \\\"theoretical physicist and astronomer\\\",\\n    \\\"physicist and electronics engineer\\\",\\n    \\\"physicist and inventor of the first digital computer\\\",\\n    \\\"pioneering biophysicist and virologist\\\",\\n    \\\"physicist Nobel Prize in Physics laureate\\\",\\n    \\\"theoretical physicist and magneto ionic theory pioneer\\\",\\n    \\\"theoretical physicist and Nobel Prize laureate\\\",\\n    \\\"physicist and jet engine designer\\\",\\n    \\\"geophysicist and oceanographer\\\",\\n    \\\"physicist and winner of the Nobel Prize in Physics\\\",\\n    \\\"physicist known for the Casimir effect\\\",\\n    \\\"nuclear physicist who worked at the Manhattan Project Metallurgical Laboratory\\\",\\n    \\\"physicist and team member of the Manhattan Project\\\",\\n    \\\"biophysicist and biochemist\\\",\\n    \\\"experimental physicist and scientist\\\",\\n    \\\"physicist and radiation health physics pioneer\\\",\\n    \\\"physicist and co inventor of the laser with Charles Townes\\\",\\n    \\\"nuclear engineer and physicist\\\",\\n    'physicist known as \\\"the father of Pulsed Power\\\"',\\n    \\\"physicist and physical chemist\\\",\\n    \\\"chemist and nuclear physicist\\\",\\n    \\\"physicist and recipient of the Nobel Prize in Physics\\\",\\n    \\\"differential geometer and mathematical physicist\\\",\\n    \\\"physicist and statistician\\\",\\n    \\\"physicist and father of Joan Baez and Mimi Fari\\u00f1a\\\",\\n    \\\"nuclear physicist and engineer\\\",\\n    \\\"physicist and microbiologist\\\",\\n    \\\"nuclear physicist and ufologist\\\",\\n    \\\"chemist and biophysicist\\\",\\n    \\\"condensed matter physicist\\\",\\n    \\\"physicist and researcher\\\",\\n    \\\"geophysicist and structural geologist\\\",\\n    \\\"mesoscopic physicist\\\",\\n    \\\"physicist and specialist in solid state laser\\\",\\n    \\\"physicist and aircraft designer\\\",\\n    \\\"physicist specialized in theoretical catalysis\\\",\\n    \\\"biologist and biophysicist\\\",\\n    \\\"thermal physicist\\\",\\n    \\\"atomic physicist\\\",\\n    \\\"biophysicist and science\\\",\\n    \\\"research physicist\\\",\\n    \\\"theoretical physicist and nuclear engineer\\\",\\n    \\\"neurophysicist\\\",\\n    \\\"experimental nuclear physicist\\\",\\n    \\\"health physicist\\\",\\n    \\\"physicist and parapsychologist\\\",\\n    \\\"physicist and skeptic\\\",\\n    \\\"solid state physicist\\\",\\n    \\\"biophysicist and virologist\\\",\\n    \\\"atmospheric physicist\\\",\\n    \\\"physicist and geneticist\\\",\\n    \\\"electrical engineer and physicist\\\",\\n    \\\"climate physicist\\\",\\n    \\\"nuclear and particle physicist\\\",\\n    \\\"explosives engineer and physicist\\\",\\n    \\\"physicist and neurobiologist\\\",\\n    \\\"mathematical physicist and cosmologist\\\",\\n    \\\"metallurgist and physicist\\\",\\n    \\\"mathematical geophysicist and seismologist\\\",\\n    \\\"East physicist\\\",\\n    \\\"theoretical physicist and astrophysicist\\\",\\n    \\\"Nobel Prize winning physicist\\\",\\n    \\\"optical physicist\\\",\\n    \\\"metal physicist\\\",\\n    \\\"metal and detonation physicist\\\",\\n    \\\"solar physicist\\\",\\n    \\\"oceanographic physicist\\\",\\n    \\\"geophysicist and planetary scientist\\\",\\n    \\\"astroparticle physicist\\\",\\n    \\\"accelerator physicist\\\",\\n    \\\"engineer and physicist\\\",\\n    \\\"molecular biophysicist\\\",\\n    \\\"physicist and radio astronomer\\\",\\n    \\\"physicist and meteorologist\\\",\\n    \\\"physicist and computer scientist\\\",\\n    \\\"astronomer and physicist\\\",\\n    \\\"physicist and chemist\\\",\\n    \\\"chemical physicist\\\",\\n    \\\"physicist and electrical engineer\\\",\\n    \\\"physicist and astronomer\\\",\\n    \\\"astronomer and astrophysicist\\\",\\n    \\\"medical physicist\\\",\\n    \\\"space physicist\\\",\\n    \\\"plasma physicist\\\",\\n    \\\"chemist and physicist\\\",\\n    \\\"physicist and inventor\\\",\\n    \\\"experimental physicist\\\",\\n    \\\"physicist and engineer\\\",\\n    \\\"mathematical physicist\\\",\\n    \\\"particle physicist\\\",\\n    \\\"biophysicist\\\",\\n    \\\"geophysicist\\\",\\n    \\\"and nuclear physicist\\\",\\n    \\\"nuclear physicist and\\\",\\n    \\\"nuclear physicist\\\",\\n    \\\"and astrophysicist\\\",\\n    \\\"astrophysicist and\\\",\\n    \\\"astrophysicist\\\",\\n    \\\"and theoretical physicist\\\",\\n    \\\"theoretical physicist and\\\",\\n    \\\"theoretical physicist\\\",\\n    \\\"physicist and\\\",\\n    \\\"and physicist\\\",\\n    \\\"physicist\\\",\\n]\\n\\nbusiness_farming = []\\nacademia_humanities = []\\nlaw_enf_military_operator = []\\nspiritual = []\\nsocial = []\\ncrime = []\\nevent_record_other = []\\nother_species = []\";\n",
       "                var nbb_cells = Jupyter.notebook.get_cells();\n",
       "                for (var i = 0; i < nbb_cells.length; ++i) {\n",
       "                    if (nbb_cells[i].input_prompt_number == nbb_cell_id) {\n",
       "                        if (nbb_cells[i].get_text() == nbb_unformatted_code) {\n",
       "                             nbb_cells[i].set_text(nbb_formatted_code);\n",
       "                        }\n",
       "                        break;\n",
       "                    }\n",
       "                }\n",
       "            }, 500);\n",
       "            "
      ],
      "text/plain": [
       "<IPython.core.display.Javascript object>"
      ]
     },
     "metadata": {},
     "output_type": "display_data"
    }
   ],
   "source": [
    "# Creating lists for each category\n",
    "politics_govt_law = [\"arms control expert\", \"refusenik\"]\n",
    "\n",
    "arts = []\n",
    "sports = []\n",
    "sciences = [\n",
    "    \"physicist and group leader in the Manhattan Project\",\n",
    "    \"physicist and molecular biologist\",\n",
    "    \"physicist and computer research executive\",\n",
    "    \"Nobel Prize winning biophysicist\",\n",
    "    \"physicist and grandson of Yuan Shikai\",\n",
    "    \"physicist and polymer researcher\",\n",
    "    \"physicist and hydrodynamicist\",\n",
    "    \"nuclear physicist and inventor\",\n",
    "    \"physicist and a leader in controlled fusion research\",\n",
    "    \"computational physicist and the father of plasma based acceleration techniques\",\n",
    "    \"biophysicist and theoretical ecologist\",\n",
    "    \"physicist and co winner of Nobel Prize in Physics in\",\n",
    "    \"leading physicist in the study of waves\",\n",
    "    \"physicist and Nobel laureate\",\n",
    "    \"physicist ane engineer\",\n",
    "    \"astrophysicist and radio astronomer\",\n",
    "    \"physicist and artificial intelligence pioneer\",\n",
    "    \"physicist and civil engineer\",\n",
    "    'physicist who coined the term \"black hole\"',\n",
    "    \"physicist who co discovered the Wigner Seitz cell\",\n",
    "    \"physicist and former director of SLAC\",\n",
    "    \"physicist at Uppsala University\",\n",
    "    \"physicist who won the Nobel Prize for Physics in\",\n",
    "    \"physicist who built the first laser\",\n",
    "    \"physicist who was a pioneer of solid state physics\",\n",
    "    \"molecular biophysicist and crystallographer\",\n",
    "    \"physicist and member of the Manhattan Project\",\n",
    "    \"physicist and color scientist\",\n",
    "    \"marine geologist and geophysicist\",\n",
    "    \"theoretical physicist and astronomer\",\n",
    "    \"physicist and electronics engineer\",\n",
    "    \"physicist and inventor of the first digital computer\",\n",
    "    \"pioneering biophysicist and virologist\",\n",
    "    \"physicist Nobel Prize in Physics laureate\",\n",
    "    \"theoretical physicist and magneto ionic theory pioneer\",\n",
    "    \"theoretical physicist and Nobel Prize laureate\",\n",
    "    \"physicist and jet engine designer\",\n",
    "    \"geophysicist and oceanographer\",\n",
    "    \"physicist and winner of the Nobel Prize in Physics\",\n",
    "    \"physicist known for the Casimir effect\",\n",
    "    \"nuclear physicist who worked at the Manhattan Project Metallurgical Laboratory\",\n",
    "    \"physicist and team member of the Manhattan Project\",\n",
    "    \"biophysicist and biochemist\",\n",
    "    \"experimental physicist and scientist\",\n",
    "    \"physicist and radiation health physics pioneer\",\n",
    "    \"physicist and co inventor of the laser with Charles Townes\",\n",
    "    \"nuclear engineer and physicist\",\n",
    "    'physicist known as \"the father of Pulsed Power\"',\n",
    "    \"physicist and physical chemist\",\n",
    "    \"chemist and nuclear physicist\",\n",
    "    \"physicist and recipient of the Nobel Prize in Physics\",\n",
    "    \"differential geometer and mathematical physicist\",\n",
    "    \"physicist and statistician\",\n",
    "    \"physicist and father of Joan Baez and Mimi Fariña\",\n",
    "    \"nuclear physicist and engineer\",\n",
    "    \"physicist and microbiologist\",\n",
    "    \"nuclear physicist and ufologist\",\n",
    "    \"chemist and biophysicist\",\n",
    "    \"condensed matter physicist\",\n",
    "    \"physicist and researcher\",\n",
    "    \"geophysicist and structural geologist\",\n",
    "    \"mesoscopic physicist\",\n",
    "    \"physicist and specialist in solid state laser\",\n",
    "    \"physicist and aircraft designer\",\n",
    "    \"physicist specialized in theoretical catalysis\",\n",
    "    \"biologist and biophysicist\",\n",
    "    \"thermal physicist\",\n",
    "    \"atomic physicist\",\n",
    "    \"biophysicist and science\",\n",
    "    \"research physicist\",\n",
    "    \"theoretical physicist and nuclear engineer\",\n",
    "    \"neurophysicist\",\n",
    "    \"experimental nuclear physicist\",\n",
    "    \"health physicist\",\n",
    "    \"physicist and parapsychologist\",\n",
    "    \"physicist and skeptic\",\n",
    "    \"solid state physicist\",\n",
    "    \"biophysicist and virologist\",\n",
    "    \"atmospheric physicist\",\n",
    "    \"physicist and geneticist\",\n",
    "    \"electrical engineer and physicist\",\n",
    "    \"climate physicist\",\n",
    "    \"nuclear and particle physicist\",\n",
    "    \"explosives engineer and physicist\",\n",
    "    \"physicist and neurobiologist\",\n",
    "    \"mathematical physicist and cosmologist\",\n",
    "    \"metallurgist and physicist\",\n",
    "    \"mathematical geophysicist and seismologist\",\n",
    "    \"East physicist\",\n",
    "    \"theoretical physicist and astrophysicist\",\n",
    "    \"Nobel Prize winning physicist\",\n",
    "    \"optical physicist\",\n",
    "    \"metal physicist\",\n",
    "    \"metal and detonation physicist\",\n",
    "    \"solar physicist\",\n",
    "    \"oceanographic physicist\",\n",
    "    \"geophysicist and planetary scientist\",\n",
    "    \"astroparticle physicist\",\n",
    "    \"accelerator physicist\",\n",
    "    \"engineer and physicist\",\n",
    "    \"molecular biophysicist\",\n",
    "    \"physicist and radio astronomer\",\n",
    "    \"physicist and meteorologist\",\n",
    "    \"physicist and computer scientist\",\n",
    "    \"astronomer and physicist\",\n",
    "    \"physicist and chemist\",\n",
    "    \"chemical physicist\",\n",
    "    \"physicist and electrical engineer\",\n",
    "    \"physicist and astronomer\",\n",
    "    \"astronomer and astrophysicist\",\n",
    "    \"medical physicist\",\n",
    "    \"space physicist\",\n",
    "    \"plasma physicist\",\n",
    "    \"chemist and physicist\",\n",
    "    \"physicist and inventor\",\n",
    "    \"experimental physicist\",\n",
    "    \"physicist and engineer\",\n",
    "    \"mathematical physicist\",\n",
    "    \"particle physicist\",\n",
    "    \"biophysicist\",\n",
    "    \"geophysicist\",\n",
    "    \"and nuclear physicist\",\n",
    "    \"nuclear physicist and\",\n",
    "    \"nuclear physicist\",\n",
    "    \"and astrophysicist\",\n",
    "    \"astrophysicist and\",\n",
    "    \"astrophysicist\",\n",
    "    \"and theoretical physicist\",\n",
    "    \"theoretical physicist and\",\n",
    "    \"theoretical physicist\",\n",
    "    \"physicist and\",\n",
    "    \"and physicist\",\n",
    "    \"physicist\",\n",
    "]\n",
    "\n",
    "business_farming = []\n",
    "academia_humanities = []\n",
    "law_enf_military_operator = []\n",
    "spiritual = []\n",
    "social = []\n",
    "crime = []\n",
    "event_record_other = []\n",
    "other_species = []"
   ]
  },
  {
   "cell_type": "markdown",
   "id": "bae1460d",
   "metadata": {},
   "source": [
    "#### Creating `known_for_dict` Dictionary of Category Keys and Specific Role Lists of Values"
   ]
  },
  {
   "cell_type": "code",
   "execution_count": 23,
   "id": "e3d3d699",
   "metadata": {},
   "outputs": [
    {
     "data": {
      "application/javascript": [
       "\n",
       "            setTimeout(function() {\n",
       "                var nbb_cell_id = 23;\n",
       "                var nbb_unformatted_code = \"# Combining separate lists into one dictionary\\nknown_for_dict = {\\n    \\\"social\\\": social,\\n    \\\"spiritual\\\": spiritual,\\n    \\\"academia_humanities\\\": academia_humanities,\\n    \\\"business_farming\\\": business_farming,\\n    \\\"sciences\\\": sciences,\\n    \\\"politics_govt_law\\\": politics_govt_law,\\n    \\\"law_enf_military_operator\\\": law_enf_military_operator,\\n    \\\"crime\\\": crime,\\n    \\\"event_record_other\\\": event_record_other,\\n    \\\"other_species\\\": other_species,\\n    \\\"arts\\\": arts,\\n    \\\"sports\\\": sports,\\n}\";\n",
       "                var nbb_formatted_code = \"# Combining separate lists into one dictionary\\nknown_for_dict = {\\n    \\\"social\\\": social,\\n    \\\"spiritual\\\": spiritual,\\n    \\\"academia_humanities\\\": academia_humanities,\\n    \\\"business_farming\\\": business_farming,\\n    \\\"sciences\\\": sciences,\\n    \\\"politics_govt_law\\\": politics_govt_law,\\n    \\\"law_enf_military_operator\\\": law_enf_military_operator,\\n    \\\"crime\\\": crime,\\n    \\\"event_record_other\\\": event_record_other,\\n    \\\"other_species\\\": other_species,\\n    \\\"arts\\\": arts,\\n    \\\"sports\\\": sports,\\n}\";\n",
       "                var nbb_cells = Jupyter.notebook.get_cells();\n",
       "                for (var i = 0; i < nbb_cells.length; ++i) {\n",
       "                    if (nbb_cells[i].input_prompt_number == nbb_cell_id) {\n",
       "                        if (nbb_cells[i].get_text() == nbb_unformatted_code) {\n",
       "                             nbb_cells[i].set_text(nbb_formatted_code);\n",
       "                        }\n",
       "                        break;\n",
       "                    }\n",
       "                }\n",
       "            }, 500);\n",
       "            "
      ],
      "text/plain": [
       "<IPython.core.display.Javascript object>"
      ]
     },
     "metadata": {},
     "output_type": "display_data"
    }
   ],
   "source": [
    "# Combining separate lists into one dictionary\n",
    "known_for_dict = {\n",
    "    \"social\": social,\n",
    "    \"spiritual\": spiritual,\n",
    "    \"academia_humanities\": academia_humanities,\n",
    "    \"business_farming\": business_farming,\n",
    "    \"sciences\": sciences,\n",
    "    \"politics_govt_law\": politics_govt_law,\n",
    "    \"law_enf_military_operator\": law_enf_military_operator,\n",
    "    \"crime\": crime,\n",
    "    \"event_record_other\": event_record_other,\n",
    "    \"other_species\": other_species,\n",
    "    \"arts\": arts,\n",
    "    \"sports\": sports,\n",
    "}"
   ]
  },
  {
   "cell_type": "markdown",
   "id": "a25f07ec",
   "metadata": {},
   "source": [
    "#### Extracting Category from `info_2`"
   ]
  },
  {
   "cell_type": "code",
   "execution_count": 24,
   "id": "d3de0fab",
   "metadata": {},
   "outputs": [
    {
     "name": "stdout",
     "output_type": "stream",
     "text": [
      "CPU times: total: 1min 10s\n",
      "Wall time: 1min 10s\n"
     ]
    },
    {
     "data": {
      "text/html": [
       "<div>\n",
       "<style scoped>\n",
       "    .dataframe tbody tr th:only-of-type {\n",
       "        vertical-align: middle;\n",
       "    }\n",
       "\n",
       "    .dataframe tbody tr th {\n",
       "        vertical-align: top;\n",
       "    }\n",
       "\n",
       "    .dataframe thead th {\n",
       "        text-align: right;\n",
       "    }\n",
       "</style>\n",
       "<table border=\"1\" class=\"dataframe\">\n",
       "  <thead>\n",
       "    <tr style=\"text-align: right;\">\n",
       "      <th></th>\n",
       "      <th>day</th>\n",
       "      <th>name</th>\n",
       "      <th>info</th>\n",
       "      <th>link</th>\n",
       "      <th>num_references</th>\n",
       "      <th>year</th>\n",
       "      <th>month</th>\n",
       "      <th>info_parenth</th>\n",
       "      <th>info_1</th>\n",
       "      <th>info_2</th>\n",
       "      <th>info_3</th>\n",
       "      <th>info_4</th>\n",
       "      <th>info_5</th>\n",
       "      <th>info_6</th>\n",
       "      <th>info_7</th>\n",
       "      <th>info_8</th>\n",
       "      <th>info_9</th>\n",
       "      <th>info_10</th>\n",
       "      <th>info_11</th>\n",
       "      <th>age</th>\n",
       "      <th>cause_of_death</th>\n",
       "      <th>place_1</th>\n",
       "      <th>place_2</th>\n",
       "      <th>info_parenth_copy</th>\n",
       "      <th>log_num_references</th>\n",
       "      <th>sciences</th>\n",
       "      <th>social</th>\n",
       "      <th>spiritual</th>\n",
       "      <th>academia_humanities</th>\n",
       "      <th>business_farming</th>\n",
       "      <th>arts</th>\n",
       "      <th>sports</th>\n",
       "      <th>law_enf_military_operator</th>\n",
       "      <th>politics_govt_law</th>\n",
       "      <th>crime</th>\n",
       "      <th>event_record_other</th>\n",
       "      <th>other_species</th>\n",
       "      <th>num_categories</th>\n",
       "    </tr>\n",
       "  </thead>\n",
       "  <tbody>\n",
       "    <tr>\n",
       "      <th>62018</th>\n",
       "      <td>3</td>\n",
       "      <td>Marjorie Corcoran</td>\n",
       "      <td>, 66, American particle physicist, traffic collision.</td>\n",
       "      <td>https://en.wikipedia.org/wiki/Marjorie_Corcoran</td>\n",
       "      <td>7</td>\n",
       "      <td>2017</td>\n",
       "      <td>February</td>\n",
       "      <td>None</td>\n",
       "      <td>None</td>\n",
       "      <td></td>\n",
       "      <td>traffic collision</td>\n",
       "      <td>None</td>\n",
       "      <td>None</td>\n",
       "      <td>None</td>\n",
       "      <td>None</td>\n",
       "      <td>None</td>\n",
       "      <td>None</td>\n",
       "      <td>None</td>\n",
       "      <td>None</td>\n",
       "      <td>66.0</td>\n",
       "      <td>None</td>\n",
       "      <td>United States of America</td>\n",
       "      <td>None</td>\n",
       "      <td>None</td>\n",
       "      <td>2.079442</td>\n",
       "      <td>1</td>\n",
       "      <td>0</td>\n",
       "      <td>0</td>\n",
       "      <td>0</td>\n",
       "      <td>0</td>\n",
       "      <td>0</td>\n",
       "      <td>0</td>\n",
       "      <td>0</td>\n",
       "      <td>0</td>\n",
       "      <td>0</td>\n",
       "      <td>0</td>\n",
       "      <td>0</td>\n",
       "      <td>1</td>\n",
       "    </tr>\n",
       "    <tr>\n",
       "      <th>64284</th>\n",
       "      <td>2</td>\n",
       "      <td>Marjorie Rice</td>\n",
       "      <td>, 94, American amateur mathematician.</td>\n",
       "      <td>https://en.wikipedia.org/wiki/Marjorie_Rice</td>\n",
       "      <td>20</td>\n",
       "      <td>2017</td>\n",
       "      <td>July</td>\n",
       "      <td>None</td>\n",
       "      <td>None</td>\n",
       "      <td></td>\n",
       "      <td>None</td>\n",
       "      <td>None</td>\n",
       "      <td>None</td>\n",
       "      <td>None</td>\n",
       "      <td>None</td>\n",
       "      <td>None</td>\n",
       "      <td>None</td>\n",
       "      <td>None</td>\n",
       "      <td>None</td>\n",
       "      <td>94.0</td>\n",
       "      <td>None</td>\n",
       "      <td>United States of America</td>\n",
       "      <td>None</td>\n",
       "      <td>None</td>\n",
       "      <td>3.044522</td>\n",
       "      <td>1</td>\n",
       "      <td>0</td>\n",
       "      <td>0</td>\n",
       "      <td>0</td>\n",
       "      <td>0</td>\n",
       "      <td>0</td>\n",
       "      <td>0</td>\n",
       "      <td>0</td>\n",
       "      <td>0</td>\n",
       "      <td>0</td>\n",
       "      <td>0</td>\n",
       "      <td>0</td>\n",
       "      <td>1</td>\n",
       "    </tr>\n",
       "  </tbody>\n",
       "</table>\n",
       "</div>"
      ],
      "text/plain": [
       "      day               name  \\\n",
       "62018   3  Marjorie Corcoran   \n",
       "64284   2      Marjorie Rice   \n",
       "\n",
       "                                                        info  \\\n",
       "62018  , 66, American particle physicist, traffic collision.   \n",
       "64284                  , 94, American amateur mathematician.   \n",
       "\n",
       "                                                  link  num_references  year  \\\n",
       "62018  https://en.wikipedia.org/wiki/Marjorie_Corcoran               7  2017   \n",
       "64284      https://en.wikipedia.org/wiki/Marjorie_Rice              20  2017   \n",
       "\n",
       "          month info_parenth info_1 info_2             info_3 info_4 info_5  \\\n",
       "62018  February         None   None         traffic collision   None   None   \n",
       "64284      July         None   None                      None   None   None   \n",
       "\n",
       "      info_6 info_7 info_8 info_9 info_10 info_11   age cause_of_death  \\\n",
       "62018   None   None   None   None    None    None  66.0           None   \n",
       "64284   None   None   None   None    None    None  94.0           None   \n",
       "\n",
       "                        place_1 place_2 info_parenth_copy  log_num_references  \\\n",
       "62018  United States of America    None              None            2.079442   \n",
       "64284  United States of America    None              None            3.044522   \n",
       "\n",
       "       sciences  social  spiritual  academia_humanities  business_farming  \\\n",
       "62018         1       0          0                    0                 0   \n",
       "64284         1       0          0                    0                 0   \n",
       "\n",
       "       arts  sports  law_enf_military_operator  politics_govt_law  crime  \\\n",
       "62018     0       0                          0                  0      0   \n",
       "64284     0       0                          0                  0      0   \n",
       "\n",
       "       event_record_other  other_species  num_categories  \n",
       "62018                   0              0               1  \n",
       "64284                   0              0               1  "
      ]
     },
     "execution_count": 24,
     "metadata": {},
     "output_type": "execute_result"
    },
    {
     "data": {
      "application/javascript": [
       "\n",
       "            setTimeout(function() {\n",
       "                var nbb_cell_id = 24;\n",
       "                var nbb_unformatted_code = \"%%time\\n\\n# Dictionary version\\nsearch_dict = known_for_dict\\n\\n# Column to check\\ncolumn = 'info_2'\\n\\n# Dataframe\\ndataframe = df[column].notna()\\n\\n# For loop to find role in column and extract it as category\\nfor category, category_lst in search_dict.items():\\n    for role in category_lst:\\n        for index in dataframe.index:\\n            item = df.loc[index, column]\\n            if item:\\n                if role in item:\\n                    df.loc[index, category] = 1\\n                    df.loc[index, column] = item.replace(role, '').strip()\\n\\n# Updating num_categories\\ndf[\\\"num_categories\\\"] = df[known_for_dict.keys()].sum(axis=1)\\n\\n# Checking a sample of rows\\ndf[df['sciences'] ==1].sample(2)\";\n",
       "                var nbb_formatted_code = \"%%time\\n\\n# Dictionary version\\nsearch_dict = known_for_dict\\n\\n# Column to check\\ncolumn = 'info_2'\\n\\n# Dataframe\\ndataframe = df[column].notna()\\n\\n# For loop to find role in column and extract it as category\\nfor category, category_lst in search_dict.items():\\n    for role in category_lst:\\n        for index in dataframe.index:\\n            item = df.loc[index, column]\\n            if item:\\n                if role in item:\\n                    df.loc[index, category] = 1\\n                    df.loc[index, column] = item.replace(role, '').strip()\\n\\n# Updating num_categories\\ndf[\\\"num_categories\\\"] = df[known_for_dict.keys()].sum(axis=1)\\n\\n# Checking a sample of rows\\ndf[df['sciences'] ==1].sample(2)\";\n",
       "                var nbb_cells = Jupyter.notebook.get_cells();\n",
       "                for (var i = 0; i < nbb_cells.length; ++i) {\n",
       "                    if (nbb_cells[i].input_prompt_number == nbb_cell_id) {\n",
       "                        if (nbb_cells[i].get_text() == nbb_unformatted_code) {\n",
       "                             nbb_cells[i].set_text(nbb_formatted_code);\n",
       "                        }\n",
       "                        break;\n",
       "                    }\n",
       "                }\n",
       "            }, 500);\n",
       "            "
      ],
      "text/plain": [
       "<IPython.core.display.Javascript object>"
      ]
     },
     "metadata": {},
     "output_type": "display_data"
    }
   ],
   "source": [
    "%%time\n",
    "\n",
    "# Dictionary version\n",
    "search_dict = known_for_dict\n",
    "\n",
    "# Column to check\n",
    "column = 'info_2'\n",
    "\n",
    "# Dataframe\n",
    "dataframe = df[column].notna()\n",
    "\n",
    "# For loop to find role in column and extract it as category\n",
    "for category, category_lst in search_dict.items():\n",
    "    for role in category_lst:\n",
    "        for index in dataframe.index:\n",
    "            item = df.loc[index, column]\n",
    "            if item:\n",
    "                if role in item:\n",
    "                    df.loc[index, category] = 1\n",
    "                    df.loc[index, column] = item.replace(role, '').strip()\n",
    "\n",
    "# Updating num_categories\n",
    "df[\"num_categories\"] = df[known_for_dict.keys()].sum(axis=1)\n",
    "\n",
    "# Checking a sample of rows\n",
    "df[df['sciences'] ==1].sample(2)"
   ]
  },
  {
   "cell_type": "markdown",
   "id": "7b373c16",
   "metadata": {},
   "source": [
    "#### Checking the Number of Rows without a First Category"
   ]
  },
  {
   "cell_type": "code",
   "execution_count": 25,
   "id": "5770813c",
   "metadata": {},
   "outputs": [
    {
     "name": "stdout",
     "output_type": "stream",
     "text": [
      "There are 44009 entries without any known_for category.\n"
     ]
    },
    {
     "data": {
      "application/javascript": [
       "\n",
       "            setTimeout(function() {\n",
       "                var nbb_cell_id = 25;\n",
       "                var nbb_unformatted_code = \"#### Checking the number of rows without a first category\\nprint(\\n    f'There are {len(df[df[\\\"num_categories\\\"]==0])} entries without any known_for category.'\\n)\";\n",
       "                var nbb_formatted_code = \"#### Checking the number of rows without a first category\\nprint(\\n    f'There are {len(df[df[\\\"num_categories\\\"]==0])} entries without any known_for category.'\\n)\";\n",
       "                var nbb_cells = Jupyter.notebook.get_cells();\n",
       "                for (var i = 0; i < nbb_cells.length; ++i) {\n",
       "                    if (nbb_cells[i].input_prompt_number == nbb_cell_id) {\n",
       "                        if (nbb_cells[i].get_text() == nbb_unformatted_code) {\n",
       "                             nbb_cells[i].set_text(nbb_formatted_code);\n",
       "                        }\n",
       "                        break;\n",
       "                    }\n",
       "                }\n",
       "            }, 500);\n",
       "            "
      ],
      "text/plain": [
       "<IPython.core.display.Javascript object>"
      ]
     },
     "metadata": {},
     "output_type": "display_data"
    }
   ],
   "source": [
    "#### Checking the number of rows without a first category\n",
    "print(\n",
    "    f'There are {len(df[df[\"num_categories\"]==0])} entries without any known_for category.'\n",
    ")"
   ]
  },
  {
   "cell_type": "markdown",
   "id": "45e3a06d",
   "metadata": {},
   "source": [
    "#### Observations:\n",
    "- We will proceed to rebuild `known_for_dict` for the next iteration."
   ]
  },
  {
   "cell_type": "markdown",
   "id": "0e13fd03",
   "metadata": {},
   "source": [
    "#### Finding `known_for` Roles in `info_2`"
   ]
  },
  {
   "cell_type": "code",
   "execution_count": 26,
   "id": "fb8c8fd5",
   "metadata": {},
   "outputs": [
    {
     "data": {
      "application/javascript": [
       "\n",
       "            setTimeout(function() {\n",
       "                var nbb_cell_id = 26;\n",
       "                var nbb_unformatted_code = \"# Obtaining values for column and their counts\\nroles_list = df[\\\"info_2\\\"].value_counts(ascending=True).index.tolist()\";\n",
       "                var nbb_formatted_code = \"# Obtaining values for column and their counts\\nroles_list = df[\\\"info_2\\\"].value_counts(ascending=True).index.tolist()\";\n",
       "                var nbb_cells = Jupyter.notebook.get_cells();\n",
       "                for (var i = 0; i < nbb_cells.length; ++i) {\n",
       "                    if (nbb_cells[i].input_prompt_number == nbb_cell_id) {\n",
       "                        if (nbb_cells[i].get_text() == nbb_unformatted_code) {\n",
       "                             nbb_cells[i].set_text(nbb_formatted_code);\n",
       "                        }\n",
       "                        break;\n",
       "                    }\n",
       "                }\n",
       "            }, 500);\n",
       "            "
      ],
      "text/plain": [
       "<IPython.core.display.Javascript object>"
      ]
     },
     "metadata": {},
     "output_type": "display_data"
    }
   ],
   "source": [
    "# Obtaining values for column and their counts\n",
    "roles_list = df[\"info_2\"].value_counts(ascending=True).index.tolist()"
   ]
  },
  {
   "cell_type": "code",
   "execution_count": 27,
   "id": "60e116e7",
   "metadata": {},
   "outputs": [
    {
     "data": {
      "application/javascript": [
       "\n",
       "            setTimeout(function() {\n",
       "                var nbb_cell_id = 27;\n",
       "                var nbb_unformatted_code = \"# # Code to check each value\\n# roles_list.pop()\";\n",
       "                var nbb_formatted_code = \"# # Code to check each value\\n# roles_list.pop()\";\n",
       "                var nbb_cells = Jupyter.notebook.get_cells();\n",
       "                for (var i = 0; i < nbb_cells.length; ++i) {\n",
       "                    if (nbb_cells[i].input_prompt_number == nbb_cell_id) {\n",
       "                        if (nbb_cells[i].get_text() == nbb_unformatted_code) {\n",
       "                             nbb_cells[i].set_text(nbb_formatted_code);\n",
       "                        }\n",
       "                        break;\n",
       "                    }\n",
       "                }\n",
       "            }, 500);\n",
       "            "
      ],
      "text/plain": [
       "<IPython.core.display.Javascript object>"
      ]
     },
     "metadata": {},
     "output_type": "display_data"
    }
   ],
   "source": [
    "# # Code to check each value\n",
    "# roles_list.pop()"
   ]
  },
  {
   "cell_type": "code",
   "execution_count": 28,
   "id": "59fc44f5",
   "metadata": {},
   "outputs": [
    {
     "data": {
      "application/javascript": [
       "\n",
       "            setTimeout(function() {\n",
       "                var nbb_cell_id = 28;\n",
       "                var nbb_unformatted_code = \"# # Create specific_roles_list for above popped value\\n# specific_roles_list = (\\n#     df.loc[\\n#         [index for index in df.index if \\\"architect\\\" in df.loc[index, \\\"info\\\"]], \\\"info_2\\\",\\n#     ]\\n#     .value_counts()\\n#     .index.tolist()\\n# )\";\n",
       "                var nbb_formatted_code = \"# # Create specific_roles_list for above popped value\\n# specific_roles_list = (\\n#     df.loc[\\n#         [index for index in df.index if \\\"architect\\\" in df.loc[index, \\\"info\\\"]], \\\"info_2\\\",\\n#     ]\\n#     .value_counts()\\n#     .index.tolist()\\n# )\";\n",
       "                var nbb_cells = Jupyter.notebook.get_cells();\n",
       "                for (var i = 0; i < nbb_cells.length; ++i) {\n",
       "                    if (nbb_cells[i].input_prompt_number == nbb_cell_id) {\n",
       "                        if (nbb_cells[i].get_text() == nbb_unformatted_code) {\n",
       "                             nbb_cells[i].set_text(nbb_formatted_code);\n",
       "                        }\n",
       "                        break;\n",
       "                    }\n",
       "                }\n",
       "            }, 500);\n",
       "            "
      ],
      "text/plain": [
       "<IPython.core.display.Javascript object>"
      ]
     },
     "metadata": {},
     "output_type": "display_data"
    }
   ],
   "source": [
    "# # Create specific_roles_list for above popped value\n",
    "# specific_roles_list = (\n",
    "#     df.loc[\n",
    "#         [index for index in df.index if \"architect\" in df.loc[index, \"info\"]], \"info_2\",\n",
    "#     ]\n",
    "#     .value_counts()\n",
    "#     .index.tolist()\n",
    "# )"
   ]
  },
  {
   "cell_type": "code",
   "execution_count": 29,
   "id": "18d4160a",
   "metadata": {},
   "outputs": [
    {
     "data": {
      "application/javascript": [
       "\n",
       "            setTimeout(function() {\n",
       "                var nbb_cell_id = 29;\n",
       "                var nbb_unformatted_code = \"# # Code to check each specific value\\n# specific_roles_list.pop()\";\n",
       "                var nbb_formatted_code = \"# # Code to check each specific value\\n# specific_roles_list.pop()\";\n",
       "                var nbb_cells = Jupyter.notebook.get_cells();\n",
       "                for (var i = 0; i < nbb_cells.length; ++i) {\n",
       "                    if (nbb_cells[i].input_prompt_number == nbb_cell_id) {\n",
       "                        if (nbb_cells[i].get_text() == nbb_unformatted_code) {\n",
       "                             nbb_cells[i].set_text(nbb_formatted_code);\n",
       "                        }\n",
       "                        break;\n",
       "                    }\n",
       "                }\n",
       "            }, 500);\n",
       "            "
      ],
      "text/plain": [
       "<IPython.core.display.Javascript object>"
      ]
     },
     "metadata": {},
     "output_type": "display_data"
    }
   ],
   "source": [
    "# # Code to check each specific value\n",
    "# specific_roles_list.pop()"
   ]
  },
  {
   "cell_type": "code",
   "execution_count": 30,
   "id": "459e64b6",
   "metadata": {},
   "outputs": [
    {
     "data": {
      "application/javascript": [
       "\n",
       "            setTimeout(function() {\n",
       "                var nbb_cell_id = 30;\n",
       "                var nbb_unformatted_code = \"# # Example code to quick-screen values that may overlap categories\\n# df.loc[[index for index in df.index if \\\"architect and art\\\" in df.loc[index, \\\"info\\\"]]]\";\n",
       "                var nbb_formatted_code = \"# # Example code to quick-screen values that may overlap categories\\n# df.loc[[index for index in df.index if \\\"architect and art\\\" in df.loc[index, \\\"info\\\"]]]\";\n",
       "                var nbb_cells = Jupyter.notebook.get_cells();\n",
       "                for (var i = 0; i < nbb_cells.length; ++i) {\n",
       "                    if (nbb_cells[i].input_prompt_number == nbb_cell_id) {\n",
       "                        if (nbb_cells[i].get_text() == nbb_unformatted_code) {\n",
       "                             nbb_cells[i].set_text(nbb_formatted_code);\n",
       "                        }\n",
       "                        break;\n",
       "                    }\n",
       "                }\n",
       "            }, 500);\n",
       "            "
      ],
      "text/plain": [
       "<IPython.core.display.Javascript object>"
      ]
     },
     "metadata": {},
     "output_type": "display_data"
    }
   ],
   "source": [
    "# # Example code to quick-screen values that may overlap categories\n",
    "# df.loc[[index for index in df.index if \"architect and art\" in df.loc[index, \"info\"]]]"
   ]
  },
  {
   "cell_type": "code",
   "execution_count": 31,
   "id": "aa6ea3b3",
   "metadata": {},
   "outputs": [
    {
     "data": {
      "application/javascript": [
       "\n",
       "            setTimeout(function() {\n",
       "                var nbb_cell_id = 31;\n",
       "                var nbb_unformatted_code = \"# # Example code to quick-check a specific entry\\n# df[df[\\\"info_2\\\"] == \\\"naval architect\\\"]\";\n",
       "                var nbb_formatted_code = \"# # Example code to quick-check a specific entry\\n# df[df[\\\"info_2\\\"] == \\\"naval architect\\\"]\";\n",
       "                var nbb_cells = Jupyter.notebook.get_cells();\n",
       "                for (var i = 0; i < nbb_cells.length; ++i) {\n",
       "                    if (nbb_cells[i].input_prompt_number == nbb_cell_id) {\n",
       "                        if (nbb_cells[i].get_text() == nbb_unformatted_code) {\n",
       "                             nbb_cells[i].set_text(nbb_formatted_code);\n",
       "                        }\n",
       "                        break;\n",
       "                    }\n",
       "                }\n",
       "            }, 500);\n",
       "            "
      ],
      "text/plain": [
       "<IPython.core.display.Javascript object>"
      ]
     },
     "metadata": {},
     "output_type": "display_data"
    }
   ],
   "source": [
    "# # Example code to quick-check a specific entry\n",
    "# df[df[\"info_2\"] == \"naval architect\"]"
   ]
  },
  {
   "cell_type": "markdown",
   "id": "39042df8",
   "metadata": {},
   "source": [
    "#### Creating Lists for Each `known_for` Category"
   ]
  },
  {
   "cell_type": "code",
   "execution_count": 32,
   "id": "c3f4546e",
   "metadata": {},
   "outputs": [
    {
     "data": {
      "application/javascript": [
       "\n",
       "            setTimeout(function() {\n",
       "                var nbb_cell_id = 32;\n",
       "                var nbb_unformatted_code = \"# Creating lists for each category\\npolitics_govt_law = [\\\"asylum seeker\\\"]\\n\\narts = [\\n    \\\"architectural and interior designer\\\",\\n    \\\"photographer and architect\\\",\\n    \\\"Southwestern style architect\\\",\\n    \\\"architectural lighting designer\\\",\\n    \\\"church architect and Gothic Revival designer\\\",\\n    \\\"medieval architectural\\\",\\n    \\\"architect and organ designer\\\",\\n    \\\"landscape and garden architect\\\",\\n    \\\"set costume designer and architect\\\",\\n    \\\"architect and raconteur\\\",\\n    \\\"architect in Oregon\\\",\\n    \\\"architect of perestroika\\\",\\n    \\\"architect and acoustician\\\",\\n    \\\"architecture critic for\\\",\\n    \\\"interior designer and architect\\\",\\n    \\\"architect and historic\\\",\\n    \\\"architect and photographer\\\",\\n    \\\"furniture designer and architect\\\",\\n    \\\"architect and interior designer\\\",\\n    \\\"architect and graphic designer\\\",\\n    \\\"architect and art collector\\\",\\n    \\\"and course architect\\\",\\n    \\\"horticultural architect\\\",\\n    \\\"architect and designer of the flag of\\\",\\n    \\\"architect and furniture designer\\\",\\n    \\\"furniture designer and interior architect\\\",\\n    \\\"architect and landscape architect\\\",\\n    \\\"architecture and blues\\\",\\n    \\\"temple architect and sculptor\\\",\\n    \\\"bridge architect\\\",\\n    \\\"architectural critic\\\",\\n    \\\"industrial designer and architect\\\",\\n    \\\"architect and caveman\\\",\\n    \\\"literature and architecture\\\",\\n    \\\"space architect and spaceport planner\\\",\\n    \\\"architect and industrial designer\\\",\\n    \\\"town planner and architect\\\",\\n    \\\"architectural photographer\\\",\\n    \\\"architect and sculptor\\\",\\n    \\\"potter and architect\\\",\\n    \\\"architecture critic\\\",\\n    \\\"naval architect\\\",\\n    \\\"architect and urban designer\\\",\\n    \\\"golf course architect\\\",\\n    \\\"designer and architect\\\",\\n    \\\"architect and architectural\\\",\\n    \\\"sculptor and architect\\\",\\n    \\\"architect and town planner\\\",\\n    \\\"modernist architect\\\",\\n    \\\"architect and urban planner\\\",\\n    \\\"architect and designer\\\",\\n    \\\"landscape architect and\\\",\\n    \\\"landscape architect\\\",\\n    \\\"and architectural\\\",\\n    \\\"architectural\\\",\\n    \\\"of architecture\\\",\\n    \\\"and restoration architect\\\",\\n    \\\"architecture\\\",\\n    \\\"architect and\\\",\\n    \\\"and architect\\\",\\n    \\\"architect\\\",\\n]\\nsports = []\\nsciences = [\\n    \\\"computer architect and high tech\\\",  # before arts\\n]\\n\\nbusiness_farming = []\\nacademia_humanities = [\\n    \\\"antique and architecture preservationist\\\",  # before arts\\n]\\nlaw_enf_military_operator = []\\nspiritual = []\\nsocial = []\\ncrime = []\\nevent_record_other = []\\nother_species = []\";\n",
       "                var nbb_formatted_code = \"# Creating lists for each category\\npolitics_govt_law = [\\\"asylum seeker\\\"]\\n\\narts = [\\n    \\\"architectural and interior designer\\\",\\n    \\\"photographer and architect\\\",\\n    \\\"Southwestern style architect\\\",\\n    \\\"architectural lighting designer\\\",\\n    \\\"church architect and Gothic Revival designer\\\",\\n    \\\"medieval architectural\\\",\\n    \\\"architect and organ designer\\\",\\n    \\\"landscape and garden architect\\\",\\n    \\\"set costume designer and architect\\\",\\n    \\\"architect and raconteur\\\",\\n    \\\"architect in Oregon\\\",\\n    \\\"architect of perestroika\\\",\\n    \\\"architect and acoustician\\\",\\n    \\\"architecture critic for\\\",\\n    \\\"interior designer and architect\\\",\\n    \\\"architect and historic\\\",\\n    \\\"architect and photographer\\\",\\n    \\\"furniture designer and architect\\\",\\n    \\\"architect and interior designer\\\",\\n    \\\"architect and graphic designer\\\",\\n    \\\"architect and art collector\\\",\\n    \\\"and course architect\\\",\\n    \\\"horticultural architect\\\",\\n    \\\"architect and designer of the flag of\\\",\\n    \\\"architect and furniture designer\\\",\\n    \\\"furniture designer and interior architect\\\",\\n    \\\"architect and landscape architect\\\",\\n    \\\"architecture and blues\\\",\\n    \\\"temple architect and sculptor\\\",\\n    \\\"bridge architect\\\",\\n    \\\"architectural critic\\\",\\n    \\\"industrial designer and architect\\\",\\n    \\\"architect and caveman\\\",\\n    \\\"literature and architecture\\\",\\n    \\\"space architect and spaceport planner\\\",\\n    \\\"architect and industrial designer\\\",\\n    \\\"town planner and architect\\\",\\n    \\\"architectural photographer\\\",\\n    \\\"architect and sculptor\\\",\\n    \\\"potter and architect\\\",\\n    \\\"architecture critic\\\",\\n    \\\"naval architect\\\",\\n    \\\"architect and urban designer\\\",\\n    \\\"golf course architect\\\",\\n    \\\"designer and architect\\\",\\n    \\\"architect and architectural\\\",\\n    \\\"sculptor and architect\\\",\\n    \\\"architect and town planner\\\",\\n    \\\"modernist architect\\\",\\n    \\\"architect and urban planner\\\",\\n    \\\"architect and designer\\\",\\n    \\\"landscape architect and\\\",\\n    \\\"landscape architect\\\",\\n    \\\"and architectural\\\",\\n    \\\"architectural\\\",\\n    \\\"of architecture\\\",\\n    \\\"and restoration architect\\\",\\n    \\\"architecture\\\",\\n    \\\"architect and\\\",\\n    \\\"and architect\\\",\\n    \\\"architect\\\",\\n]\\nsports = []\\nsciences = [\\n    \\\"computer architect and high tech\\\",  # before arts\\n]\\n\\nbusiness_farming = []\\nacademia_humanities = [\\n    \\\"antique and architecture preservationist\\\",  # before arts\\n]\\nlaw_enf_military_operator = []\\nspiritual = []\\nsocial = []\\ncrime = []\\nevent_record_other = []\\nother_species = []\";\n",
       "                var nbb_cells = Jupyter.notebook.get_cells();\n",
       "                for (var i = 0; i < nbb_cells.length; ++i) {\n",
       "                    if (nbb_cells[i].input_prompt_number == nbb_cell_id) {\n",
       "                        if (nbb_cells[i].get_text() == nbb_unformatted_code) {\n",
       "                             nbb_cells[i].set_text(nbb_formatted_code);\n",
       "                        }\n",
       "                        break;\n",
       "                    }\n",
       "                }\n",
       "            }, 500);\n",
       "            "
      ],
      "text/plain": [
       "<IPython.core.display.Javascript object>"
      ]
     },
     "metadata": {},
     "output_type": "display_data"
    }
   ],
   "source": [
    "# Creating lists for each category\n",
    "politics_govt_law = [\"asylum seeker\"]\n",
    "\n",
    "arts = [\n",
    "    \"architectural and interior designer\",\n",
    "    \"photographer and architect\",\n",
    "    \"Southwestern style architect\",\n",
    "    \"architectural lighting designer\",\n",
    "    \"church architect and Gothic Revival designer\",\n",
    "    \"medieval architectural\",\n",
    "    \"architect and organ designer\",\n",
    "    \"landscape and garden architect\",\n",
    "    \"set costume designer and architect\",\n",
    "    \"architect and raconteur\",\n",
    "    \"architect in Oregon\",\n",
    "    \"architect of perestroika\",\n",
    "    \"architect and acoustician\",\n",
    "    \"architecture critic for\",\n",
    "    \"interior designer and architect\",\n",
    "    \"architect and historic\",\n",
    "    \"architect and photographer\",\n",
    "    \"furniture designer and architect\",\n",
    "    \"architect and interior designer\",\n",
    "    \"architect and graphic designer\",\n",
    "    \"architect and art collector\",\n",
    "    \"and course architect\",\n",
    "    \"horticultural architect\",\n",
    "    \"architect and designer of the flag of\",\n",
    "    \"architect and furniture designer\",\n",
    "    \"furniture designer and interior architect\",\n",
    "    \"architect and landscape architect\",\n",
    "    \"architecture and blues\",\n",
    "    \"temple architect and sculptor\",\n",
    "    \"bridge architect\",\n",
    "    \"architectural critic\",\n",
    "    \"industrial designer and architect\",\n",
    "    \"architect and caveman\",\n",
    "    \"literature and architecture\",\n",
    "    \"space architect and spaceport planner\",\n",
    "    \"architect and industrial designer\",\n",
    "    \"town planner and architect\",\n",
    "    \"architectural photographer\",\n",
    "    \"architect and sculptor\",\n",
    "    \"potter and architect\",\n",
    "    \"architecture critic\",\n",
    "    \"naval architect\",\n",
    "    \"architect and urban designer\",\n",
    "    \"golf course architect\",\n",
    "    \"designer and architect\",\n",
    "    \"architect and architectural\",\n",
    "    \"sculptor and architect\",\n",
    "    \"architect and town planner\",\n",
    "    \"modernist architect\",\n",
    "    \"architect and urban planner\",\n",
    "    \"architect and designer\",\n",
    "    \"landscape architect and\",\n",
    "    \"landscape architect\",\n",
    "    \"and architectural\",\n",
    "    \"architectural\",\n",
    "    \"of architecture\",\n",
    "    \"and restoration architect\",\n",
    "    \"architecture\",\n",
    "    \"architect and\",\n",
    "    \"and architect\",\n",
    "    \"architect\",\n",
    "]\n",
    "sports = []\n",
    "sciences = [\n",
    "    \"computer architect and high tech\",  # before arts\n",
    "]\n",
    "\n",
    "business_farming = []\n",
    "academia_humanities = [\n",
    "    \"antique and architecture preservationist\",  # before arts\n",
    "]\n",
    "law_enf_military_operator = []\n",
    "spiritual = []\n",
    "social = []\n",
    "crime = []\n",
    "event_record_other = []\n",
    "other_species = []"
   ]
  },
  {
   "cell_type": "markdown",
   "id": "4aeac9a1",
   "metadata": {},
   "source": [
    "#### Creating `known_for_dict` Dictionary of Category Keys and Specific Role Lists of Values"
   ]
  },
  {
   "cell_type": "code",
   "execution_count": 33,
   "id": "8040d1cf",
   "metadata": {},
   "outputs": [
    {
     "data": {
      "application/javascript": [
       "\n",
       "            setTimeout(function() {\n",
       "                var nbb_cell_id = 33;\n",
       "                var nbb_unformatted_code = \"# Combining separate lists into one dictionary\\nknown_for_dict = {\\n    \\\"social\\\": social,\\n    \\\"spiritual\\\": spiritual,\\n    \\\"academia_humanities\\\": academia_humanities,\\n    \\\"business_farming\\\": business_farming,\\n    \\\"sciences\\\": sciences,\\n    \\\"politics_govt_law\\\": politics_govt_law,\\n    \\\"law_enf_military_operator\\\": law_enf_military_operator,\\n    \\\"crime\\\": crime,\\n    \\\"event_record_other\\\": event_record_other,\\n    \\\"other_species\\\": other_species,\\n    \\\"arts\\\": arts,\\n    \\\"sports\\\": sports,\\n}\";\n",
       "                var nbb_formatted_code = \"# Combining separate lists into one dictionary\\nknown_for_dict = {\\n    \\\"social\\\": social,\\n    \\\"spiritual\\\": spiritual,\\n    \\\"academia_humanities\\\": academia_humanities,\\n    \\\"business_farming\\\": business_farming,\\n    \\\"sciences\\\": sciences,\\n    \\\"politics_govt_law\\\": politics_govt_law,\\n    \\\"law_enf_military_operator\\\": law_enf_military_operator,\\n    \\\"crime\\\": crime,\\n    \\\"event_record_other\\\": event_record_other,\\n    \\\"other_species\\\": other_species,\\n    \\\"arts\\\": arts,\\n    \\\"sports\\\": sports,\\n}\";\n",
       "                var nbb_cells = Jupyter.notebook.get_cells();\n",
       "                for (var i = 0; i < nbb_cells.length; ++i) {\n",
       "                    if (nbb_cells[i].input_prompt_number == nbb_cell_id) {\n",
       "                        if (nbb_cells[i].get_text() == nbb_unformatted_code) {\n",
       "                             nbb_cells[i].set_text(nbb_formatted_code);\n",
       "                        }\n",
       "                        break;\n",
       "                    }\n",
       "                }\n",
       "            }, 500);\n",
       "            "
      ],
      "text/plain": [
       "<IPython.core.display.Javascript object>"
      ]
     },
     "metadata": {},
     "output_type": "display_data"
    }
   ],
   "source": [
    "# Combining separate lists into one dictionary\n",
    "known_for_dict = {\n",
    "    \"social\": social,\n",
    "    \"spiritual\": spiritual,\n",
    "    \"academia_humanities\": academia_humanities,\n",
    "    \"business_farming\": business_farming,\n",
    "    \"sciences\": sciences,\n",
    "    \"politics_govt_law\": politics_govt_law,\n",
    "    \"law_enf_military_operator\": law_enf_military_operator,\n",
    "    \"crime\": crime,\n",
    "    \"event_record_other\": event_record_other,\n",
    "    \"other_species\": other_species,\n",
    "    \"arts\": arts,\n",
    "    \"sports\": sports,\n",
    "}"
   ]
  },
  {
   "cell_type": "markdown",
   "id": "1f09e802",
   "metadata": {},
   "source": [
    "#### Extracting Category from `info_2`"
   ]
  },
  {
   "cell_type": "code",
   "execution_count": 34,
   "id": "59915ce7",
   "metadata": {},
   "outputs": [
    {
     "name": "stdout",
     "output_type": "stream",
     "text": [
      "CPU times: total: 33.8 s\n",
      "Wall time: 33.8 s\n"
     ]
    },
    {
     "data": {
      "text/html": [
       "<div>\n",
       "<style scoped>\n",
       "    .dataframe tbody tr th:only-of-type {\n",
       "        vertical-align: middle;\n",
       "    }\n",
       "\n",
       "    .dataframe tbody tr th {\n",
       "        vertical-align: top;\n",
       "    }\n",
       "\n",
       "    .dataframe thead th {\n",
       "        text-align: right;\n",
       "    }\n",
       "</style>\n",
       "<table border=\"1\" class=\"dataframe\">\n",
       "  <thead>\n",
       "    <tr style=\"text-align: right;\">\n",
       "      <th></th>\n",
       "      <th>day</th>\n",
       "      <th>name</th>\n",
       "      <th>info</th>\n",
       "      <th>link</th>\n",
       "      <th>num_references</th>\n",
       "      <th>year</th>\n",
       "      <th>month</th>\n",
       "      <th>info_parenth</th>\n",
       "      <th>info_1</th>\n",
       "      <th>info_2</th>\n",
       "      <th>info_3</th>\n",
       "      <th>info_4</th>\n",
       "      <th>info_5</th>\n",
       "      <th>info_6</th>\n",
       "      <th>info_7</th>\n",
       "      <th>info_8</th>\n",
       "      <th>info_9</th>\n",
       "      <th>info_10</th>\n",
       "      <th>info_11</th>\n",
       "      <th>age</th>\n",
       "      <th>cause_of_death</th>\n",
       "      <th>place_1</th>\n",
       "      <th>place_2</th>\n",
       "      <th>info_parenth_copy</th>\n",
       "      <th>log_num_references</th>\n",
       "      <th>sciences</th>\n",
       "      <th>social</th>\n",
       "      <th>spiritual</th>\n",
       "      <th>academia_humanities</th>\n",
       "      <th>business_farming</th>\n",
       "      <th>arts</th>\n",
       "      <th>sports</th>\n",
       "      <th>law_enf_military_operator</th>\n",
       "      <th>politics_govt_law</th>\n",
       "      <th>crime</th>\n",
       "      <th>event_record_other</th>\n",
       "      <th>other_species</th>\n",
       "      <th>num_categories</th>\n",
       "    </tr>\n",
       "  </thead>\n",
       "  <tbody>\n",
       "    <tr>\n",
       "      <th>78312</th>\n",
       "      <td>23</td>\n",
       "      <td>Bob Wade</td>\n",
       "      <td>, 76, American sculptor and artist, heart failure.</td>\n",
       "      <td>https://en.wikipedia.org/wiki/Bob_Wade_(artist)</td>\n",
       "      <td>19</td>\n",
       "      <td>2019</td>\n",
       "      <td>December</td>\n",
       "      <td>None</td>\n",
       "      <td>None</td>\n",
       "      <td></td>\n",
       "      <td>heart failure</td>\n",
       "      <td>None</td>\n",
       "      <td>None</td>\n",
       "      <td>None</td>\n",
       "      <td>None</td>\n",
       "      <td>None</td>\n",
       "      <td>None</td>\n",
       "      <td>None</td>\n",
       "      <td>None</td>\n",
       "      <td>76.0</td>\n",
       "      <td>None</td>\n",
       "      <td>United States of America</td>\n",
       "      <td>None</td>\n",
       "      <td>None</td>\n",
       "      <td>2.995732</td>\n",
       "      <td>0</td>\n",
       "      <td>0</td>\n",
       "      <td>0</td>\n",
       "      <td>0</td>\n",
       "      <td>0</td>\n",
       "      <td>1</td>\n",
       "      <td>0</td>\n",
       "      <td>0</td>\n",
       "      <td>0</td>\n",
       "      <td>0</td>\n",
       "      <td>0</td>\n",
       "      <td>0</td>\n",
       "      <td>1</td>\n",
       "    </tr>\n",
       "    <tr>\n",
       "      <th>24046</th>\n",
       "      <td>15</td>\n",
       "      <td>Aldemaro Romero</td>\n",
       "      <td>, 79, Venezuelan composer, pianist and conductor, complications of intestinal blockage.</td>\n",
       "      <td>https://en.wikipedia.org/wiki/Aldemaro_Romero</td>\n",
       "      <td>4</td>\n",
       "      <td>2007</td>\n",
       "      <td>September</td>\n",
       "      <td>None</td>\n",
       "      <td>None</td>\n",
       "      <td></td>\n",
       "      <td>pianist and conductor</td>\n",
       "      <td>complications of intestinal blockage</td>\n",
       "      <td>None</td>\n",
       "      <td>None</td>\n",
       "      <td>None</td>\n",
       "      <td>None</td>\n",
       "      <td>None</td>\n",
       "      <td>None</td>\n",
       "      <td>None</td>\n",
       "      <td>79.0</td>\n",
       "      <td>None</td>\n",
       "      <td>Venezuela</td>\n",
       "      <td>None</td>\n",
       "      <td>None</td>\n",
       "      <td>1.609438</td>\n",
       "      <td>0</td>\n",
       "      <td>0</td>\n",
       "      <td>0</td>\n",
       "      <td>0</td>\n",
       "      <td>0</td>\n",
       "      <td>1</td>\n",
       "      <td>0</td>\n",
       "      <td>0</td>\n",
       "      <td>0</td>\n",
       "      <td>0</td>\n",
       "      <td>0</td>\n",
       "      <td>0</td>\n",
       "      <td>1</td>\n",
       "    </tr>\n",
       "  </tbody>\n",
       "</table>\n",
       "</div>"
      ],
      "text/plain": [
       "      day             name  \\\n",
       "78312  23         Bob Wade   \n",
       "24046  15  Aldemaro Romero   \n",
       "\n",
       "                                                                                          info  \\\n",
       "78312                                       , 76, American sculptor and artist, heart failure.   \n",
       "24046  , 79, Venezuelan composer, pianist and conductor, complications of intestinal blockage.   \n",
       "\n",
       "                                                  link  num_references  year  \\\n",
       "78312  https://en.wikipedia.org/wiki/Bob_Wade_(artist)              19  2019   \n",
       "24046    https://en.wikipedia.org/wiki/Aldemaro_Romero               4  2007   \n",
       "\n",
       "           month info_parenth info_1 info_2                 info_3  \\\n",
       "78312   December         None   None                 heart failure   \n",
       "24046  September         None   None         pianist and conductor   \n",
       "\n",
       "                                     info_4 info_5 info_6 info_7 info_8  \\\n",
       "78312                                  None   None   None   None   None   \n",
       "24046  complications of intestinal blockage   None   None   None   None   \n",
       "\n",
       "      info_9 info_10 info_11   age cause_of_death                   place_1  \\\n",
       "78312   None    None    None  76.0           None  United States of America   \n",
       "24046   None    None    None  79.0           None                 Venezuela   \n",
       "\n",
       "      place_2 info_parenth_copy  log_num_references  sciences  social  \\\n",
       "78312    None              None            2.995732         0       0   \n",
       "24046    None              None            1.609438         0       0   \n",
       "\n",
       "       spiritual  academia_humanities  business_farming  arts  sports  \\\n",
       "78312          0                    0                 0     1       0   \n",
       "24046          0                    0                 0     1       0   \n",
       "\n",
       "       law_enf_military_operator  politics_govt_law  crime  \\\n",
       "78312                          0                  0      0   \n",
       "24046                          0                  0      0   \n",
       "\n",
       "       event_record_other  other_species  num_categories  \n",
       "78312                   0              0               1  \n",
       "24046                   0              0               1  "
      ]
     },
     "execution_count": 34,
     "metadata": {},
     "output_type": "execute_result"
    },
    {
     "data": {
      "application/javascript": [
       "\n",
       "            setTimeout(function() {\n",
       "                var nbb_cell_id = 34;\n",
       "                var nbb_unformatted_code = \"%%time\\n\\n# Dictionary version\\nsearch_dict = known_for_dict\\n\\n# Column to check\\ncolumn = 'info_2'\\n\\n# Dataframe\\ndataframe = df[column].notna()\\n\\n# For loop to find role in column and extract it as category\\nfor category, category_lst in search_dict.items():\\n    for role in category_lst:\\n        for index in dataframe.index:\\n            item = df.loc[index, column]\\n            if item:\\n                if role in item:\\n                    df.loc[index, category] = 1\\n                    df.loc[index, column] = item.replace(role, '').strip()\\n\\n# Updating num_categories\\ndf[\\\"num_categories\\\"] = df[known_for_dict.keys()].sum(axis=1)\\n\\n# Checking a sample of rows\\ndf[df['arts'] ==1].sample(2)\";\n",
       "                var nbb_formatted_code = \"%%time\\n\\n# Dictionary version\\nsearch_dict = known_for_dict\\n\\n# Column to check\\ncolumn = 'info_2'\\n\\n# Dataframe\\ndataframe = df[column].notna()\\n\\n# For loop to find role in column and extract it as category\\nfor category, category_lst in search_dict.items():\\n    for role in category_lst:\\n        for index in dataframe.index:\\n            item = df.loc[index, column]\\n            if item:\\n                if role in item:\\n                    df.loc[index, category] = 1\\n                    df.loc[index, column] = item.replace(role, '').strip()\\n\\n# Updating num_categories\\ndf[\\\"num_categories\\\"] = df[known_for_dict.keys()].sum(axis=1)\\n\\n# Checking a sample of rows\\ndf[df['arts'] ==1].sample(2)\";\n",
       "                var nbb_cells = Jupyter.notebook.get_cells();\n",
       "                for (var i = 0; i < nbb_cells.length; ++i) {\n",
       "                    if (nbb_cells[i].input_prompt_number == nbb_cell_id) {\n",
       "                        if (nbb_cells[i].get_text() == nbb_unformatted_code) {\n",
       "                             nbb_cells[i].set_text(nbb_formatted_code);\n",
       "                        }\n",
       "                        break;\n",
       "                    }\n",
       "                }\n",
       "            }, 500);\n",
       "            "
      ],
      "text/plain": [
       "<IPython.core.display.Javascript object>"
      ]
     },
     "metadata": {},
     "output_type": "display_data"
    }
   ],
   "source": [
    "%%time\n",
    "\n",
    "# Dictionary version\n",
    "search_dict = known_for_dict\n",
    "\n",
    "# Column to check\n",
    "column = 'info_2'\n",
    "\n",
    "# Dataframe\n",
    "dataframe = df[column].notna()\n",
    "\n",
    "# For loop to find role in column and extract it as category\n",
    "for category, category_lst in search_dict.items():\n",
    "    for role in category_lst:\n",
    "        for index in dataframe.index:\n",
    "            item = df.loc[index, column]\n",
    "            if item:\n",
    "                if role in item:\n",
    "                    df.loc[index, category] = 1\n",
    "                    df.loc[index, column] = item.replace(role, '').strip()\n",
    "\n",
    "# Updating num_categories\n",
    "df[\"num_categories\"] = df[known_for_dict.keys()].sum(axis=1)\n",
    "\n",
    "# Checking a sample of rows\n",
    "df[df['arts'] ==1].sample(2)"
   ]
  },
  {
   "cell_type": "markdown",
   "id": "361e3e92",
   "metadata": {},
   "source": [
    "#### Checking the Number of Rows without a First Category"
   ]
  },
  {
   "cell_type": "code",
   "execution_count": 35,
   "id": "d8c4f286",
   "metadata": {},
   "outputs": [
    {
     "name": "stdout",
     "output_type": "stream",
     "text": [
      "There are 43450 entries without any known_for category.\n"
     ]
    },
    {
     "data": {
      "application/javascript": [
       "\n",
       "            setTimeout(function() {\n",
       "                var nbb_cell_id = 35;\n",
       "                var nbb_unformatted_code = \"#### Checking the number of rows without a first category\\nprint(\\n    f'There are {len(df[df[\\\"num_categories\\\"]==0])} entries without any known_for category.'\\n)\";\n",
       "                var nbb_formatted_code = \"#### Checking the number of rows without a first category\\nprint(\\n    f'There are {len(df[df[\\\"num_categories\\\"]==0])} entries without any known_for category.'\\n)\";\n",
       "                var nbb_cells = Jupyter.notebook.get_cells();\n",
       "                for (var i = 0; i < nbb_cells.length; ++i) {\n",
       "                    if (nbb_cells[i].input_prompt_number == nbb_cell_id) {\n",
       "                        if (nbb_cells[i].get_text() == nbb_unformatted_code) {\n",
       "                             nbb_cells[i].set_text(nbb_formatted_code);\n",
       "                        }\n",
       "                        break;\n",
       "                    }\n",
       "                }\n",
       "            }, 500);\n",
       "            "
      ],
      "text/plain": [
       "<IPython.core.display.Javascript object>"
      ]
     },
     "metadata": {},
     "output_type": "display_data"
    }
   ],
   "source": [
    "#### Checking the number of rows without a first category\n",
    "print(\n",
    "    f'There are {len(df[df[\"num_categories\"]==0])} entries without any known_for category.'\n",
    ")"
   ]
  },
  {
   "cell_type": "markdown",
   "id": "c99bd2f0",
   "metadata": {},
   "source": [
    "#### Observations:\n",
    "- We will proceed to rebuild `known_for_dict` for the next iteration."
   ]
  },
  {
   "cell_type": "markdown",
   "id": "60d94465",
   "metadata": {},
   "source": [
    "#### Finding `known_for` Roles in `info_2`"
   ]
  },
  {
   "cell_type": "code",
   "execution_count": 36,
   "id": "070fab0a",
   "metadata": {},
   "outputs": [
    {
     "data": {
      "application/javascript": [
       "\n",
       "            setTimeout(function() {\n",
       "                var nbb_cell_id = 36;\n",
       "                var nbb_unformatted_code = \"# Obtaining values for column and their counts\\nroles_list = df[\\\"info_2\\\"].value_counts(ascending=True).index.tolist()\";\n",
       "                var nbb_formatted_code = \"# Obtaining values for column and their counts\\nroles_list = df[\\\"info_2\\\"].value_counts(ascending=True).index.tolist()\";\n",
       "                var nbb_cells = Jupyter.notebook.get_cells();\n",
       "                for (var i = 0; i < nbb_cells.length; ++i) {\n",
       "                    if (nbb_cells[i].input_prompt_number == nbb_cell_id) {\n",
       "                        if (nbb_cells[i].get_text() == nbb_unformatted_code) {\n",
       "                             nbb_cells[i].set_text(nbb_formatted_code);\n",
       "                        }\n",
       "                        break;\n",
       "                    }\n",
       "                }\n",
       "            }, 500);\n",
       "            "
      ],
      "text/plain": [
       "<IPython.core.display.Javascript object>"
      ]
     },
     "metadata": {},
     "output_type": "display_data"
    }
   ],
   "source": [
    "# Obtaining values for column and their counts\n",
    "roles_list = df[\"info_2\"].value_counts(ascending=True).index.tolist()"
   ]
  },
  {
   "cell_type": "code",
   "execution_count": 37,
   "id": "a6db2c45",
   "metadata": {},
   "outputs": [
    {
     "data": {
      "application/javascript": [
       "\n",
       "            setTimeout(function() {\n",
       "                var nbb_cell_id = 37;\n",
       "                var nbb_unformatted_code = \"# # Code to check each value\\n# roles_list.pop()\";\n",
       "                var nbb_formatted_code = \"# # Code to check each value\\n# roles_list.pop()\";\n",
       "                var nbb_cells = Jupyter.notebook.get_cells();\n",
       "                for (var i = 0; i < nbb_cells.length; ++i) {\n",
       "                    if (nbb_cells[i].input_prompt_number == nbb_cell_id) {\n",
       "                        if (nbb_cells[i].get_text() == nbb_unformatted_code) {\n",
       "                             nbb_cells[i].set_text(nbb_formatted_code);\n",
       "                        }\n",
       "                        break;\n",
       "                    }\n",
       "                }\n",
       "            }, 500);\n",
       "            "
      ],
      "text/plain": [
       "<IPython.core.display.Javascript object>"
      ]
     },
     "metadata": {},
     "output_type": "display_data"
    }
   ],
   "source": [
    "# # Code to check each value\n",
    "# roles_list.pop()"
   ]
  },
  {
   "cell_type": "code",
   "execution_count": 38,
   "id": "a74e8196",
   "metadata": {},
   "outputs": [
    {
     "data": {
      "application/javascript": [
       "\n",
       "            setTimeout(function() {\n",
       "                var nbb_cell_id = 38;\n",
       "                var nbb_unformatted_code = \"# # Create specific_roles_list for above popped value\\n# specific_roles_list = (\\n#     df.loc[\\n#         [index for index in df.index if \\\"photographer\\\" in df.loc[index, \\\"info\\\"]],\\n#         \\\"info_2\\\",\\n#     ]\\n#     .value_counts()\\n#     .index.tolist()\\n# )\";\n",
       "                var nbb_formatted_code = \"# # Create specific_roles_list for above popped value\\n# specific_roles_list = (\\n#     df.loc[\\n#         [index for index in df.index if \\\"photographer\\\" in df.loc[index, \\\"info\\\"]],\\n#         \\\"info_2\\\",\\n#     ]\\n#     .value_counts()\\n#     .index.tolist()\\n# )\";\n",
       "                var nbb_cells = Jupyter.notebook.get_cells();\n",
       "                for (var i = 0; i < nbb_cells.length; ++i) {\n",
       "                    if (nbb_cells[i].input_prompt_number == nbb_cell_id) {\n",
       "                        if (nbb_cells[i].get_text() == nbb_unformatted_code) {\n",
       "                             nbb_cells[i].set_text(nbb_formatted_code);\n",
       "                        }\n",
       "                        break;\n",
       "                    }\n",
       "                }\n",
       "            }, 500);\n",
       "            "
      ],
      "text/plain": [
       "<IPython.core.display.Javascript object>"
      ]
     },
     "metadata": {},
     "output_type": "display_data"
    }
   ],
   "source": [
    "# # Create specific_roles_list for above popped value\n",
    "# specific_roles_list = (\n",
    "#     df.loc[\n",
    "#         [index for index in df.index if \"photographer\" in df.loc[index, \"info\"]],\n",
    "#         \"info_2\",\n",
    "#     ]\n",
    "#     .value_counts()\n",
    "#     .index.tolist()\n",
    "# )"
   ]
  },
  {
   "cell_type": "code",
   "execution_count": 39,
   "id": "942e552e",
   "metadata": {},
   "outputs": [
    {
     "data": {
      "application/javascript": [
       "\n",
       "            setTimeout(function() {\n",
       "                var nbb_cell_id = 39;\n",
       "                var nbb_unformatted_code = \"# # Code to check each specific value\\n# specific_roles_list.pop()\";\n",
       "                var nbb_formatted_code = \"# # Code to check each specific value\\n# specific_roles_list.pop()\";\n",
       "                var nbb_cells = Jupyter.notebook.get_cells();\n",
       "                for (var i = 0; i < nbb_cells.length; ++i) {\n",
       "                    if (nbb_cells[i].input_prompt_number == nbb_cell_id) {\n",
       "                        if (nbb_cells[i].get_text() == nbb_unformatted_code) {\n",
       "                             nbb_cells[i].set_text(nbb_formatted_code);\n",
       "                        }\n",
       "                        break;\n",
       "                    }\n",
       "                }\n",
       "            }, 500);\n",
       "            "
      ],
      "text/plain": [
       "<IPython.core.display.Javascript object>"
      ]
     },
     "metadata": {},
     "output_type": "display_data"
    }
   ],
   "source": [
    "# # Code to check each specific value\n",
    "# specific_roles_list.pop()"
   ]
  },
  {
   "cell_type": "code",
   "execution_count": 40,
   "id": "6d475c2b",
   "metadata": {},
   "outputs": [
    {
     "data": {
      "application/javascript": [
       "\n",
       "            setTimeout(function() {\n",
       "                var nbb_cell_id = 40;\n",
       "                var nbb_unformatted_code = \"# # Example code to quick-screen values that may overlap categories\\n# df.loc[[index for index in df.index if \\\"photographer of the\\\" in df.loc[index, \\\"info\\\"]]]\";\n",
       "                var nbb_formatted_code = \"# # Example code to quick-screen values that may overlap categories\\n# df.loc[[index for index in df.index if \\\"photographer of the\\\" in df.loc[index, \\\"info\\\"]]]\";\n",
       "                var nbb_cells = Jupyter.notebook.get_cells();\n",
       "                for (var i = 0; i < nbb_cells.length; ++i) {\n",
       "                    if (nbb_cells[i].input_prompt_number == nbb_cell_id) {\n",
       "                        if (nbb_cells[i].get_text() == nbb_unformatted_code) {\n",
       "                             nbb_cells[i].set_text(nbb_formatted_code);\n",
       "                        }\n",
       "                        break;\n",
       "                    }\n",
       "                }\n",
       "            }, 500);\n",
       "            "
      ],
      "text/plain": [
       "<IPython.core.display.Javascript object>"
      ]
     },
     "metadata": {},
     "output_type": "display_data"
    }
   ],
   "source": [
    "# # Example code to quick-screen values that may overlap categories\n",
    "# df.loc[[index for index in df.index if \"photographer of the\" in df.loc[index, \"info\"]]]"
   ]
  },
  {
   "cell_type": "code",
   "execution_count": 41,
   "id": "cf3988dc",
   "metadata": {},
   "outputs": [
    {
     "data": {
      "application/javascript": [
       "\n",
       "            setTimeout(function() {\n",
       "                var nbb_cell_id = 41;\n",
       "                var nbb_unformatted_code = \"# # Example code to quick-check a specific entry\\n# df[df[\\\"info_2\\\"] == \\\"public relations executive and photographer\\\"]\";\n",
       "                var nbb_formatted_code = \"# # Example code to quick-check a specific entry\\n# df[df[\\\"info_2\\\"] == \\\"public relations executive and photographer\\\"]\";\n",
       "                var nbb_cells = Jupyter.notebook.get_cells();\n",
       "                for (var i = 0; i < nbb_cells.length; ++i) {\n",
       "                    if (nbb_cells[i].input_prompt_number == nbb_cell_id) {\n",
       "                        if (nbb_cells[i].get_text() == nbb_unformatted_code) {\n",
       "                             nbb_cells[i].set_text(nbb_formatted_code);\n",
       "                        }\n",
       "                        break;\n",
       "                    }\n",
       "                }\n",
       "            }, 500);\n",
       "            "
      ],
      "text/plain": [
       "<IPython.core.display.Javascript object>"
      ]
     },
     "metadata": {},
     "output_type": "display_data"
    }
   ],
   "source": [
    "# # Example code to quick-check a specific entry\n",
    "# df[df[\"info_2\"] == \"public relations executive and photographer\"]"
   ]
  },
  {
   "cell_type": "markdown",
   "id": "5d3e2719",
   "metadata": {},
   "source": [
    "#### Creating Lists for Each `known_for` Category"
   ]
  },
  {
   "cell_type": "code",
   "execution_count": 42,
   "id": "4925d697",
   "metadata": {},
   "outputs": [
    {
     "data": {
      "application/javascript": [
       "\n",
       "            setTimeout(function() {\n",
       "                var nbb_cell_id = 42;\n",
       "                var nbb_unformatted_code = \"# Creating lists for each category\\npolitics_govt_law = []\\n\\narts = [\\n    \\\"crime photographer\\\",\\n    \\\"photographer and illustrator\\\",\\n    \\\"adult photographer\\\",\\n    \\\"photographer of children\\\",\\n    'photographer who pioneered \\\"environmental portraiture\\\"',\\n    \\\"photographer at the fall of Saigon\\\",\\n    \\\"photographer of indigenous peoples in\\\",\\n    \\\"underwater photographer and filmmaker\\\",\\n    \\\"photographer and founder of\\\",\\n    \\\"photographer and editor\\\",\\n    \\\"photographer and camera operator\\\",\\n    \\\"underwater nature photographer\\\",\\n    \\\"photographer and news executive\\\",\\n    \\\"fashion and portrait photographer\\\",\\n    \\\"photographer based in San Francisco\\\",\\n    \\\"photographer born in M\\u00e9rida\\\",\\n    \\\"photographer and secret FBI\\\",\\n    \\\"photographer during World War II\\\",\\n    \\\"glamour photographer and director of pornographic films\\\",\\n    \\\"photographer and war correspondent\\\",\\n    \\\"newspaper photographer\\\",\\n    \\\"double bassist and photographer\\\",\\n    \\\"photographer and photo essayist\\\",\\n    \\\"portrait photographer\\\",\\n    \\\"wilderness photographer\\\",\\n    \\\"press photographer\\\",\\n    \\\"music producer and photographer\\\",\\n    \\\"publisher and photographer\\\",\\n    \\\"photographer and art critic\\\",\\n    \\\"photographer and ballet dancer\\\",\\n    \\\"photographer and publicist\\\",\\n    \\\"photographer and theatre director\\\",\\n    \\\"engraver and photographer\\\",\\n    \\\"advertising photographer\\\",\\n    \\\"erotic photographer\\\",\\n    \\\"graphic designer and photographer\\\",\\n    \\\"photographer and art director\\\",\\n    \\\"public relations executive and photographer\\\",\\n    \\\"punk rock and art photographer\\\",\\n    \\\"fine art photographer\\\",\\n    \\\"photographer and documentary filmmaker\\\",\\n    \\\"environmental photographer\\\",\\n    \\\"photographer and blogger\\\",\\n    \\\"photographer and cinematographer\\\",\\n    \\\"photographer and biographer\\\",\\n    \\\"printmaker and photographer\\\",\\n    \\\"jazz and blues photographer\\\",\\n    \\\"commercial photographer\\\",\\n    \\\"aerial photographer and director\\\",\\n    \\\"newspaper and magazine photographer\\\",\\n    \\\"photographer and film maker\\\",\\n    \\\"filmmaker and photographer\\\",\\n    \\\"photographer and graphic designer\\\",\\n    \\\"street photographer\\\",\\n    \\\"photographer and model\\\",\\n    \\\"model and photographer\\\",\\n    \\\"news photographer\\\",\\n    \\\"and wildlife photographer\\\",\\n    \\\"wildlife photographer\\\",\\n    \\\"jazz photographer\\\",\\n    \\\"aerial photographer\\\",\\n    \\\"documentary photographer\\\",\\n    \\\"celebrity photographer\\\",\\n    \\\"photographer and filmmaker\\\",\\n    \\\"art photographer\\\",\\n    \\\"Pulitzer Prize winning photographer\\\",\\n    \\\"fashion photographer and\\\",\\n    \\\"fashion photographer\\\",\\n    \\\"photographer of the\\\",\\n    \\\"and Holocaust photographer\\\",\\n    \\\"photographer and\\\",\\n    \\\"and photographer\\\",\\n    \\\"photographer\\\",\\n]\\nsports = []\\nsciences = []\\n\\nbusiness_farming = []\\nacademia_humanities = []\\nlaw_enf_military_operator = []\\nspiritual = []\\nsocial = []\\ncrime = []\\nevent_record_other = []\\nother_species = []\";\n",
       "                var nbb_formatted_code = \"# Creating lists for each category\\npolitics_govt_law = []\\n\\narts = [\\n    \\\"crime photographer\\\",\\n    \\\"photographer and illustrator\\\",\\n    \\\"adult photographer\\\",\\n    \\\"photographer of children\\\",\\n    'photographer who pioneered \\\"environmental portraiture\\\"',\\n    \\\"photographer at the fall of Saigon\\\",\\n    \\\"photographer of indigenous peoples in\\\",\\n    \\\"underwater photographer and filmmaker\\\",\\n    \\\"photographer and founder of\\\",\\n    \\\"photographer and editor\\\",\\n    \\\"photographer and camera operator\\\",\\n    \\\"underwater nature photographer\\\",\\n    \\\"photographer and news executive\\\",\\n    \\\"fashion and portrait photographer\\\",\\n    \\\"photographer based in San Francisco\\\",\\n    \\\"photographer born in M\\u00e9rida\\\",\\n    \\\"photographer and secret FBI\\\",\\n    \\\"photographer during World War II\\\",\\n    \\\"glamour photographer and director of pornographic films\\\",\\n    \\\"photographer and war correspondent\\\",\\n    \\\"newspaper photographer\\\",\\n    \\\"double bassist and photographer\\\",\\n    \\\"photographer and photo essayist\\\",\\n    \\\"portrait photographer\\\",\\n    \\\"wilderness photographer\\\",\\n    \\\"press photographer\\\",\\n    \\\"music producer and photographer\\\",\\n    \\\"publisher and photographer\\\",\\n    \\\"photographer and art critic\\\",\\n    \\\"photographer and ballet dancer\\\",\\n    \\\"photographer and publicist\\\",\\n    \\\"photographer and theatre director\\\",\\n    \\\"engraver and photographer\\\",\\n    \\\"advertising photographer\\\",\\n    \\\"erotic photographer\\\",\\n    \\\"graphic designer and photographer\\\",\\n    \\\"photographer and art director\\\",\\n    \\\"public relations executive and photographer\\\",\\n    \\\"punk rock and art photographer\\\",\\n    \\\"fine art photographer\\\",\\n    \\\"photographer and documentary filmmaker\\\",\\n    \\\"environmental photographer\\\",\\n    \\\"photographer and blogger\\\",\\n    \\\"photographer and cinematographer\\\",\\n    \\\"photographer and biographer\\\",\\n    \\\"printmaker and photographer\\\",\\n    \\\"jazz and blues photographer\\\",\\n    \\\"commercial photographer\\\",\\n    \\\"aerial photographer and director\\\",\\n    \\\"newspaper and magazine photographer\\\",\\n    \\\"photographer and film maker\\\",\\n    \\\"filmmaker and photographer\\\",\\n    \\\"photographer and graphic designer\\\",\\n    \\\"street photographer\\\",\\n    \\\"photographer and model\\\",\\n    \\\"model and photographer\\\",\\n    \\\"news photographer\\\",\\n    \\\"and wildlife photographer\\\",\\n    \\\"wildlife photographer\\\",\\n    \\\"jazz photographer\\\",\\n    \\\"aerial photographer\\\",\\n    \\\"documentary photographer\\\",\\n    \\\"celebrity photographer\\\",\\n    \\\"photographer and filmmaker\\\",\\n    \\\"art photographer\\\",\\n    \\\"Pulitzer Prize winning photographer\\\",\\n    \\\"fashion photographer and\\\",\\n    \\\"fashion photographer\\\",\\n    \\\"photographer of the\\\",\\n    \\\"and Holocaust photographer\\\",\\n    \\\"photographer and\\\",\\n    \\\"and photographer\\\",\\n    \\\"photographer\\\",\\n]\\nsports = []\\nsciences = []\\n\\nbusiness_farming = []\\nacademia_humanities = []\\nlaw_enf_military_operator = []\\nspiritual = []\\nsocial = []\\ncrime = []\\nevent_record_other = []\\nother_species = []\";\n",
       "                var nbb_cells = Jupyter.notebook.get_cells();\n",
       "                for (var i = 0; i < nbb_cells.length; ++i) {\n",
       "                    if (nbb_cells[i].input_prompt_number == nbb_cell_id) {\n",
       "                        if (nbb_cells[i].get_text() == nbb_unformatted_code) {\n",
       "                             nbb_cells[i].set_text(nbb_formatted_code);\n",
       "                        }\n",
       "                        break;\n",
       "                    }\n",
       "                }\n",
       "            }, 500);\n",
       "            "
      ],
      "text/plain": [
       "<IPython.core.display.Javascript object>"
      ]
     },
     "metadata": {},
     "output_type": "display_data"
    }
   ],
   "source": [
    "# Creating lists for each category\n",
    "politics_govt_law = []\n",
    "\n",
    "arts = [\n",
    "    \"crime photographer\",\n",
    "    \"photographer and illustrator\",\n",
    "    \"adult photographer\",\n",
    "    \"photographer of children\",\n",
    "    'photographer who pioneered \"environmental portraiture\"',\n",
    "    \"photographer at the fall of Saigon\",\n",
    "    \"photographer of indigenous peoples in\",\n",
    "    \"underwater photographer and filmmaker\",\n",
    "    \"photographer and founder of\",\n",
    "    \"photographer and editor\",\n",
    "    \"photographer and camera operator\",\n",
    "    \"underwater nature photographer\",\n",
    "    \"photographer and news executive\",\n",
    "    \"fashion and portrait photographer\",\n",
    "    \"photographer based in San Francisco\",\n",
    "    \"photographer born in Mérida\",\n",
    "    \"photographer and secret FBI\",\n",
    "    \"photographer during World War II\",\n",
    "    \"glamour photographer and director of pornographic films\",\n",
    "    \"photographer and war correspondent\",\n",
    "    \"newspaper photographer\",\n",
    "    \"double bassist and photographer\",\n",
    "    \"photographer and photo essayist\",\n",
    "    \"portrait photographer\",\n",
    "    \"wilderness photographer\",\n",
    "    \"press photographer\",\n",
    "    \"music producer and photographer\",\n",
    "    \"publisher and photographer\",\n",
    "    \"photographer and art critic\",\n",
    "    \"photographer and ballet dancer\",\n",
    "    \"photographer and publicist\",\n",
    "    \"photographer and theatre director\",\n",
    "    \"engraver and photographer\",\n",
    "    \"advertising photographer\",\n",
    "    \"erotic photographer\",\n",
    "    \"graphic designer and photographer\",\n",
    "    \"photographer and art director\",\n",
    "    \"public relations executive and photographer\",\n",
    "    \"punk rock and art photographer\",\n",
    "    \"fine art photographer\",\n",
    "    \"photographer and documentary filmmaker\",\n",
    "    \"environmental photographer\",\n",
    "    \"photographer and blogger\",\n",
    "    \"photographer and cinematographer\",\n",
    "    \"photographer and biographer\",\n",
    "    \"printmaker and photographer\",\n",
    "    \"jazz and blues photographer\",\n",
    "    \"commercial photographer\",\n",
    "    \"aerial photographer and director\",\n",
    "    \"newspaper and magazine photographer\",\n",
    "    \"photographer and film maker\",\n",
    "    \"filmmaker and photographer\",\n",
    "    \"photographer and graphic designer\",\n",
    "    \"street photographer\",\n",
    "    \"photographer and model\",\n",
    "    \"model and photographer\",\n",
    "    \"news photographer\",\n",
    "    \"and wildlife photographer\",\n",
    "    \"wildlife photographer\",\n",
    "    \"jazz photographer\",\n",
    "    \"aerial photographer\",\n",
    "    \"documentary photographer\",\n",
    "    \"celebrity photographer\",\n",
    "    \"photographer and filmmaker\",\n",
    "    \"art photographer\",\n",
    "    \"Pulitzer Prize winning photographer\",\n",
    "    \"fashion photographer and\",\n",
    "    \"fashion photographer\",\n",
    "    \"photographer of the\",\n",
    "    \"and Holocaust photographer\",\n",
    "    \"photographer and\",\n",
    "    \"and photographer\",\n",
    "    \"photographer\",\n",
    "]\n",
    "sports = []\n",
    "sciences = []\n",
    "\n",
    "business_farming = []\n",
    "academia_humanities = []\n",
    "law_enf_military_operator = []\n",
    "spiritual = []\n",
    "social = []\n",
    "crime = []\n",
    "event_record_other = []\n",
    "other_species = []"
   ]
  },
  {
   "cell_type": "markdown",
   "id": "88a7135f",
   "metadata": {},
   "source": [
    "#### Creating `known_for_dict` Dictionary of Category Keys and Specific Role Lists of Values"
   ]
  },
  {
   "cell_type": "code",
   "execution_count": 43,
   "id": "462f1434",
   "metadata": {},
   "outputs": [
    {
     "data": {
      "application/javascript": [
       "\n",
       "            setTimeout(function() {\n",
       "                var nbb_cell_id = 43;\n",
       "                var nbb_unformatted_code = \"# Combining separate lists into one dictionary\\nknown_for_dict = {\\n    \\\"social\\\": social,\\n    \\\"spiritual\\\": spiritual,\\n    \\\"academia_humanities\\\": academia_humanities,\\n    \\\"business_farming\\\": business_farming,\\n    \\\"sciences\\\": sciences,\\n    \\\"politics_govt_law\\\": politics_govt_law,\\n    \\\"law_enf_military_operator\\\": law_enf_military_operator,\\n    \\\"crime\\\": crime,\\n    \\\"event_record_other\\\": event_record_other,\\n    \\\"other_species\\\": other_species,\\n    \\\"arts\\\": arts,\\n    \\\"sports\\\": sports,\\n}\";\n",
       "                var nbb_formatted_code = \"# Combining separate lists into one dictionary\\nknown_for_dict = {\\n    \\\"social\\\": social,\\n    \\\"spiritual\\\": spiritual,\\n    \\\"academia_humanities\\\": academia_humanities,\\n    \\\"business_farming\\\": business_farming,\\n    \\\"sciences\\\": sciences,\\n    \\\"politics_govt_law\\\": politics_govt_law,\\n    \\\"law_enf_military_operator\\\": law_enf_military_operator,\\n    \\\"crime\\\": crime,\\n    \\\"event_record_other\\\": event_record_other,\\n    \\\"other_species\\\": other_species,\\n    \\\"arts\\\": arts,\\n    \\\"sports\\\": sports,\\n}\";\n",
       "                var nbb_cells = Jupyter.notebook.get_cells();\n",
       "                for (var i = 0; i < nbb_cells.length; ++i) {\n",
       "                    if (nbb_cells[i].input_prompt_number == nbb_cell_id) {\n",
       "                        if (nbb_cells[i].get_text() == nbb_unformatted_code) {\n",
       "                             nbb_cells[i].set_text(nbb_formatted_code);\n",
       "                        }\n",
       "                        break;\n",
       "                    }\n",
       "                }\n",
       "            }, 500);\n",
       "            "
      ],
      "text/plain": [
       "<IPython.core.display.Javascript object>"
      ]
     },
     "metadata": {},
     "output_type": "display_data"
    }
   ],
   "source": [
    "# Combining separate lists into one dictionary\n",
    "known_for_dict = {\n",
    "    \"social\": social,\n",
    "    \"spiritual\": spiritual,\n",
    "    \"academia_humanities\": academia_humanities,\n",
    "    \"business_farming\": business_farming,\n",
    "    \"sciences\": sciences,\n",
    "    \"politics_govt_law\": politics_govt_law,\n",
    "    \"law_enf_military_operator\": law_enf_military_operator,\n",
    "    \"crime\": crime,\n",
    "    \"event_record_other\": event_record_other,\n",
    "    \"other_species\": other_species,\n",
    "    \"arts\": arts,\n",
    "    \"sports\": sports,\n",
    "}"
   ]
  },
  {
   "cell_type": "markdown",
   "id": "0ef2b1ba",
   "metadata": {},
   "source": [
    "#### Extracting Category from `info_2`"
   ]
  },
  {
   "cell_type": "code",
   "execution_count": 44,
   "id": "29fe04b6",
   "metadata": {},
   "outputs": [
    {
     "name": "stdout",
     "output_type": "stream",
     "text": [
      "CPU times: total: 38.5 s\n",
      "Wall time: 38.5 s\n"
     ]
    },
    {
     "data": {
      "text/html": [
       "<div>\n",
       "<style scoped>\n",
       "    .dataframe tbody tr th:only-of-type {\n",
       "        vertical-align: middle;\n",
       "    }\n",
       "\n",
       "    .dataframe tbody tr th {\n",
       "        vertical-align: top;\n",
       "    }\n",
       "\n",
       "    .dataframe thead th {\n",
       "        text-align: right;\n",
       "    }\n",
       "</style>\n",
       "<table border=\"1\" class=\"dataframe\">\n",
       "  <thead>\n",
       "    <tr style=\"text-align: right;\">\n",
       "      <th></th>\n",
       "      <th>day</th>\n",
       "      <th>name</th>\n",
       "      <th>info</th>\n",
       "      <th>link</th>\n",
       "      <th>num_references</th>\n",
       "      <th>year</th>\n",
       "      <th>month</th>\n",
       "      <th>info_parenth</th>\n",
       "      <th>info_1</th>\n",
       "      <th>info_2</th>\n",
       "      <th>info_3</th>\n",
       "      <th>info_4</th>\n",
       "      <th>info_5</th>\n",
       "      <th>info_6</th>\n",
       "      <th>info_7</th>\n",
       "      <th>info_8</th>\n",
       "      <th>info_9</th>\n",
       "      <th>info_10</th>\n",
       "      <th>info_11</th>\n",
       "      <th>age</th>\n",
       "      <th>cause_of_death</th>\n",
       "      <th>place_1</th>\n",
       "      <th>place_2</th>\n",
       "      <th>info_parenth_copy</th>\n",
       "      <th>log_num_references</th>\n",
       "      <th>sciences</th>\n",
       "      <th>social</th>\n",
       "      <th>spiritual</th>\n",
       "      <th>academia_humanities</th>\n",
       "      <th>business_farming</th>\n",
       "      <th>arts</th>\n",
       "      <th>sports</th>\n",
       "      <th>law_enf_military_operator</th>\n",
       "      <th>politics_govt_law</th>\n",
       "      <th>crime</th>\n",
       "      <th>event_record_other</th>\n",
       "      <th>other_species</th>\n",
       "      <th>num_categories</th>\n",
       "    </tr>\n",
       "  </thead>\n",
       "  <tbody>\n",
       "    <tr>\n",
       "      <th>30492</th>\n",
       "      <td>5</td>\n",
       "      <td>Sujit Kumar</td>\n",
       "      <td>, 75, Indian actor and producer, cancer.</td>\n",
       "      <td>https://en.wikipedia.org/wiki/Sujit_Kumar</td>\n",
       "      <td>8</td>\n",
       "      <td>2010</td>\n",
       "      <td>February</td>\n",
       "      <td>None</td>\n",
       "      <td>None</td>\n",
       "      <td></td>\n",
       "      <td>cancer</td>\n",
       "      <td>None</td>\n",
       "      <td>None</td>\n",
       "      <td>None</td>\n",
       "      <td>None</td>\n",
       "      <td>None</td>\n",
       "      <td>None</td>\n",
       "      <td>None</td>\n",
       "      <td>None</td>\n",
       "      <td>75.0</td>\n",
       "      <td>None</td>\n",
       "      <td>India</td>\n",
       "      <td>None</td>\n",
       "      <td>None</td>\n",
       "      <td>2.197225</td>\n",
       "      <td>0</td>\n",
       "      <td>0</td>\n",
       "      <td>0</td>\n",
       "      <td>0</td>\n",
       "      <td>0</td>\n",
       "      <td>1</td>\n",
       "      <td>0</td>\n",
       "      <td>0</td>\n",
       "      <td>0</td>\n",
       "      <td>0</td>\n",
       "      <td>0</td>\n",
       "      <td>0</td>\n",
       "      <td>1</td>\n",
       "    </tr>\n",
       "    <tr>\n",
       "      <th>45716</th>\n",
       "      <td>27</td>\n",
       "      <td>Lewis Collins</td>\n",
       "      <td>, 67, British actor , cancer.</td>\n",
       "      <td>https://en.wikipedia.org/wiki/Lewis_Collins</td>\n",
       "      <td>34</td>\n",
       "      <td>2013</td>\n",
       "      <td>November</td>\n",
       "      <td></td>\n",
       "      <td>None</td>\n",
       "      <td></td>\n",
       "      <td>cancer</td>\n",
       "      <td>None</td>\n",
       "      <td>None</td>\n",
       "      <td>None</td>\n",
       "      <td>None</td>\n",
       "      <td>None</td>\n",
       "      <td>None</td>\n",
       "      <td>None</td>\n",
       "      <td>None</td>\n",
       "      <td>67.0</td>\n",
       "      <td>None</td>\n",
       "      <td>United Kingdom of Great Britain and Northern Ireland</td>\n",
       "      <td>None</td>\n",
       "      <td></td>\n",
       "      <td>3.555348</td>\n",
       "      <td>0</td>\n",
       "      <td>0</td>\n",
       "      <td>0</td>\n",
       "      <td>0</td>\n",
       "      <td>0</td>\n",
       "      <td>1</td>\n",
       "      <td>0</td>\n",
       "      <td>0</td>\n",
       "      <td>0</td>\n",
       "      <td>0</td>\n",
       "      <td>0</td>\n",
       "      <td>0</td>\n",
       "      <td>1</td>\n",
       "    </tr>\n",
       "  </tbody>\n",
       "</table>\n",
       "</div>"
      ],
      "text/plain": [
       "      day           name                                      info  \\\n",
       "30492   5    Sujit Kumar  , 75, Indian actor and producer, cancer.   \n",
       "45716  27  Lewis Collins             , 67, British actor , cancer.   \n",
       "\n",
       "                                              link  num_references  year  \\\n",
       "30492    https://en.wikipedia.org/wiki/Sujit_Kumar               8  2010   \n",
       "45716  https://en.wikipedia.org/wiki/Lewis_Collins              34  2013   \n",
       "\n",
       "          month info_parenth info_1 info_2  info_3 info_4 info_5 info_6  \\\n",
       "30492  February         None   None         cancer   None   None   None   \n",
       "45716  November                None         cancer   None   None   None   \n",
       "\n",
       "      info_7 info_8 info_9 info_10 info_11   age cause_of_death  \\\n",
       "30492   None   None   None    None    None  75.0           None   \n",
       "45716   None   None   None    None    None  67.0           None   \n",
       "\n",
       "                                                    place_1 place_2  \\\n",
       "30492                                                 India    None   \n",
       "45716  United Kingdom of Great Britain and Northern Ireland    None   \n",
       "\n",
       "      info_parenth_copy  log_num_references  sciences  social  spiritual  \\\n",
       "30492              None            2.197225         0       0          0   \n",
       "45716                              3.555348         0       0          0   \n",
       "\n",
       "       academia_humanities  business_farming  arts  sports  \\\n",
       "30492                    0                 0     1       0   \n",
       "45716                    0                 0     1       0   \n",
       "\n",
       "       law_enf_military_operator  politics_govt_law  crime  \\\n",
       "30492                          0                  0      0   \n",
       "45716                          0                  0      0   \n",
       "\n",
       "       event_record_other  other_species  num_categories  \n",
       "30492                   0              0               1  \n",
       "45716                   0              0               1  "
      ]
     },
     "execution_count": 44,
     "metadata": {},
     "output_type": "execute_result"
    },
    {
     "data": {
      "application/javascript": [
       "\n",
       "            setTimeout(function() {\n",
       "                var nbb_cell_id = 44;\n",
       "                var nbb_unformatted_code = \"%%time\\n\\n# Dictionary version\\nsearch_dict = known_for_dict\\n\\n# Column to check\\ncolumn = 'info_2'\\n\\n# Dataframe\\ndataframe = df[column].notna()\\n\\n# For loop to find role in column and extract it as category\\nfor category, category_lst in search_dict.items():\\n    for role in category_lst:\\n        for index in dataframe.index:\\n            item = df.loc[index, column]\\n            if item:\\n                if role in item:\\n                    df.loc[index, category] = 1\\n                    df.loc[index, column] = item.replace(role, '').strip()\\n\\n# Updating num_categories\\ndf[\\\"num_categories\\\"] = df[known_for_dict.keys()].sum(axis=1)\\n\\n# Checking a sample of rows\\ndf[df['arts'] ==1].sample(2)\";\n",
       "                var nbb_formatted_code = \"%%time\\n\\n# Dictionary version\\nsearch_dict = known_for_dict\\n\\n# Column to check\\ncolumn = 'info_2'\\n\\n# Dataframe\\ndataframe = df[column].notna()\\n\\n# For loop to find role in column and extract it as category\\nfor category, category_lst in search_dict.items():\\n    for role in category_lst:\\n        for index in dataframe.index:\\n            item = df.loc[index, column]\\n            if item:\\n                if role in item:\\n                    df.loc[index, category] = 1\\n                    df.loc[index, column] = item.replace(role, '').strip()\\n\\n# Updating num_categories\\ndf[\\\"num_categories\\\"] = df[known_for_dict.keys()].sum(axis=1)\\n\\n# Checking a sample of rows\\ndf[df['arts'] ==1].sample(2)\";\n",
       "                var nbb_cells = Jupyter.notebook.get_cells();\n",
       "                for (var i = 0; i < nbb_cells.length; ++i) {\n",
       "                    if (nbb_cells[i].input_prompt_number == nbb_cell_id) {\n",
       "                        if (nbb_cells[i].get_text() == nbb_unformatted_code) {\n",
       "                             nbb_cells[i].set_text(nbb_formatted_code);\n",
       "                        }\n",
       "                        break;\n",
       "                    }\n",
       "                }\n",
       "            }, 500);\n",
       "            "
      ],
      "text/plain": [
       "<IPython.core.display.Javascript object>"
      ]
     },
     "metadata": {},
     "output_type": "display_data"
    }
   ],
   "source": [
    "%%time\n",
    "\n",
    "# Dictionary version\n",
    "search_dict = known_for_dict\n",
    "\n",
    "# Column to check\n",
    "column = 'info_2'\n",
    "\n",
    "# Dataframe\n",
    "dataframe = df[column].notna()\n",
    "\n",
    "# For loop to find role in column and extract it as category\n",
    "for category, category_lst in search_dict.items():\n",
    "    for role in category_lst:\n",
    "        for index in dataframe.index:\n",
    "            item = df.loc[index, column]\n",
    "            if item:\n",
    "                if role in item:\n",
    "                    df.loc[index, category] = 1\n",
    "                    df.loc[index, column] = item.replace(role, '').strip()\n",
    "\n",
    "# Updating num_categories\n",
    "df[\"num_categories\"] = df[known_for_dict.keys()].sum(axis=1)\n",
    "\n",
    "# Checking a sample of rows\n",
    "df[df['arts'] ==1].sample(2)"
   ]
  },
  {
   "cell_type": "markdown",
   "id": "cdfb5095",
   "metadata": {},
   "source": [
    "#### Checking the Number of Rows without a First Category"
   ]
  },
  {
   "cell_type": "code",
   "execution_count": 45,
   "id": "2e20d0d7",
   "metadata": {},
   "outputs": [
    {
     "name": "stdout",
     "output_type": "stream",
     "text": [
      "There are 42922 entries without any known_for category.\n"
     ]
    },
    {
     "data": {
      "application/javascript": [
       "\n",
       "            setTimeout(function() {\n",
       "                var nbb_cell_id = 45;\n",
       "                var nbb_unformatted_code = \"#### Checking the number of rows without a first category\\nprint(\\n    f'There are {len(df[df[\\\"num_categories\\\"]==0])} entries without any known_for category.'\\n)\";\n",
       "                var nbb_formatted_code = \"#### Checking the number of rows without a first category\\nprint(\\n    f'There are {len(df[df[\\\"num_categories\\\"]==0])} entries without any known_for category.'\\n)\";\n",
       "                var nbb_cells = Jupyter.notebook.get_cells();\n",
       "                for (var i = 0; i < nbb_cells.length; ++i) {\n",
       "                    if (nbb_cells[i].input_prompt_number == nbb_cell_id) {\n",
       "                        if (nbb_cells[i].get_text() == nbb_unformatted_code) {\n",
       "                             nbb_cells[i].set_text(nbb_formatted_code);\n",
       "                        }\n",
       "                        break;\n",
       "                    }\n",
       "                }\n",
       "            }, 500);\n",
       "            "
      ],
      "text/plain": [
       "<IPython.core.display.Javascript object>"
      ]
     },
     "metadata": {},
     "output_type": "display_data"
    }
   ],
   "source": [
    "#### Checking the number of rows without a first category\n",
    "print(\n",
    "    f'There are {len(df[df[\"num_categories\"]==0])} entries without any known_for category.'\n",
    ")"
   ]
  },
  {
   "cell_type": "markdown",
   "id": "c0da9ef6",
   "metadata": {},
   "source": [
    "#### Observations:\n",
    "- We will proceed to rebuild `known_for_dict` for the next iteration."
   ]
  },
  {
   "cell_type": "markdown",
   "id": "ad6f4cbf",
   "metadata": {},
   "source": [
    "#### Finding `known_for` Roles in `info_2`"
   ]
  },
  {
   "cell_type": "code",
   "execution_count": 46,
   "id": "579000c7",
   "metadata": {},
   "outputs": [
    {
     "data": {
      "application/javascript": [
       "\n",
       "            setTimeout(function() {\n",
       "                var nbb_cell_id = 46;\n",
       "                var nbb_unformatted_code = \"# Obtaining values for column and their counts\\nroles_list = df[\\\"info_2\\\"].value_counts(ascending=True).index.tolist()\";\n",
       "                var nbb_formatted_code = \"# Obtaining values for column and their counts\\nroles_list = df[\\\"info_2\\\"].value_counts(ascending=True).index.tolist()\";\n",
       "                var nbb_cells = Jupyter.notebook.get_cells();\n",
       "                for (var i = 0; i < nbb_cells.length; ++i) {\n",
       "                    if (nbb_cells[i].input_prompt_number == nbb_cell_id) {\n",
       "                        if (nbb_cells[i].get_text() == nbb_unformatted_code) {\n",
       "                             nbb_cells[i].set_text(nbb_formatted_code);\n",
       "                        }\n",
       "                        break;\n",
       "                    }\n",
       "                }\n",
       "            }, 500);\n",
       "            "
      ],
      "text/plain": [
       "<IPython.core.display.Javascript object>"
      ]
     },
     "metadata": {},
     "output_type": "display_data"
    }
   ],
   "source": [
    "# Obtaining values for column and their counts\n",
    "roles_list = df[\"info_2\"].value_counts(ascending=True).index.tolist()"
   ]
  },
  {
   "cell_type": "code",
   "execution_count": 47,
   "id": "6a8297a3",
   "metadata": {},
   "outputs": [
    {
     "data": {
      "application/javascript": [
       "\n",
       "            setTimeout(function() {\n",
       "                var nbb_cell_id = 47;\n",
       "                var nbb_unformatted_code = \"# # Code to check each value\\n# roles_list.pop()\";\n",
       "                var nbb_formatted_code = \"# # Code to check each value\\n# roles_list.pop()\";\n",
       "                var nbb_cells = Jupyter.notebook.get_cells();\n",
       "                for (var i = 0; i < nbb_cells.length; ++i) {\n",
       "                    if (nbb_cells[i].input_prompt_number == nbb_cell_id) {\n",
       "                        if (nbb_cells[i].get_text() == nbb_unformatted_code) {\n",
       "                             nbb_cells[i].set_text(nbb_formatted_code);\n",
       "                        }\n",
       "                        break;\n",
       "                    }\n",
       "                }\n",
       "            }, 500);\n",
       "            "
      ],
      "text/plain": [
       "<IPython.core.display.Javascript object>"
      ]
     },
     "metadata": {},
     "output_type": "display_data"
    }
   ],
   "source": [
    "# # Code to check each value\n",
    "# roles_list.pop()"
   ]
  },
  {
   "cell_type": "code",
   "execution_count": 48,
   "id": "b98b3698",
   "metadata": {},
   "outputs": [
    {
     "data": {
      "application/javascript": [
       "\n",
       "            setTimeout(function() {\n",
       "                var nbb_cell_id = 48;\n",
       "                var nbb_unformatted_code = \"# # Create specific_roles_list for above popped value\\n# specific_roles_list = (\\n#     df.loc[\\n#         [index for index in df.index if \\\"economist\\\" in df.loc[index, \\\"info\\\"]], \\\"info_2\\\",\\n#     ]\\n#     .value_counts()\\n#     .index.tolist()\\n# )\";\n",
       "                var nbb_formatted_code = \"# # Create specific_roles_list for above popped value\\n# specific_roles_list = (\\n#     df.loc[\\n#         [index for index in df.index if \\\"economist\\\" in df.loc[index, \\\"info\\\"]], \\\"info_2\\\",\\n#     ]\\n#     .value_counts()\\n#     .index.tolist()\\n# )\";\n",
       "                var nbb_cells = Jupyter.notebook.get_cells();\n",
       "                for (var i = 0; i < nbb_cells.length; ++i) {\n",
       "                    if (nbb_cells[i].input_prompt_number == nbb_cell_id) {\n",
       "                        if (nbb_cells[i].get_text() == nbb_unformatted_code) {\n",
       "                             nbb_cells[i].set_text(nbb_formatted_code);\n",
       "                        }\n",
       "                        break;\n",
       "                    }\n",
       "                }\n",
       "            }, 500);\n",
       "            "
      ],
      "text/plain": [
       "<IPython.core.display.Javascript object>"
      ]
     },
     "metadata": {},
     "output_type": "display_data"
    }
   ],
   "source": [
    "# # Create specific_roles_list for above popped value\n",
    "# specific_roles_list = (\n",
    "#     df.loc[\n",
    "#         [index for index in df.index if \"economist\" in df.loc[index, \"info\"]], \"info_2\",\n",
    "#     ]\n",
    "#     .value_counts()\n",
    "#     .index.tolist()\n",
    "# )"
   ]
  },
  {
   "cell_type": "code",
   "execution_count": 49,
   "id": "f0ef4fce",
   "metadata": {},
   "outputs": [
    {
     "data": {
      "application/javascript": [
       "\n",
       "            setTimeout(function() {\n",
       "                var nbb_cell_id = 49;\n",
       "                var nbb_unformatted_code = \"# # Code to check each specific value\\n# specific_roles_list.pop()\";\n",
       "                var nbb_formatted_code = \"# # Code to check each specific value\\n# specific_roles_list.pop()\";\n",
       "                var nbb_cells = Jupyter.notebook.get_cells();\n",
       "                for (var i = 0; i < nbb_cells.length; ++i) {\n",
       "                    if (nbb_cells[i].input_prompt_number == nbb_cell_id) {\n",
       "                        if (nbb_cells[i].get_text() == nbb_unformatted_code) {\n",
       "                             nbb_cells[i].set_text(nbb_formatted_code);\n",
       "                        }\n",
       "                        break;\n",
       "                    }\n",
       "                }\n",
       "            }, 500);\n",
       "            "
      ],
      "text/plain": [
       "<IPython.core.display.Javascript object>"
      ]
     },
     "metadata": {},
     "output_type": "display_data"
    }
   ],
   "source": [
    "# # Code to check each specific value\n",
    "# specific_roles_list.pop()"
   ]
  },
  {
   "cell_type": "code",
   "execution_count": 50,
   "id": "849f94bb",
   "metadata": {},
   "outputs": [
    {
     "data": {
      "application/javascript": [
       "\n",
       "            setTimeout(function() {\n",
       "                var nbb_cell_id = 50;\n",
       "                var nbb_unformatted_code = \"# # Example code to quick-screen values that may overlap categories\\n# df.loc[[index for index in df.index if \\\"health economist\\\" in df.loc[index, \\\"info\\\"]]]\";\n",
       "                var nbb_formatted_code = \"# # Example code to quick-screen values that may overlap categories\\n# df.loc[[index for index in df.index if \\\"health economist\\\" in df.loc[index, \\\"info\\\"]]]\";\n",
       "                var nbb_cells = Jupyter.notebook.get_cells();\n",
       "                for (var i = 0; i < nbb_cells.length; ++i) {\n",
       "                    if (nbb_cells[i].input_prompt_number == nbb_cell_id) {\n",
       "                        if (nbb_cells[i].get_text() == nbb_unformatted_code) {\n",
       "                             nbb_cells[i].set_text(nbb_formatted_code);\n",
       "                        }\n",
       "                        break;\n",
       "                    }\n",
       "                }\n",
       "            }, 500);\n",
       "            "
      ],
      "text/plain": [
       "<IPython.core.display.Javascript object>"
      ]
     },
     "metadata": {},
     "output_type": "display_data"
    }
   ],
   "source": [
    "# # Example code to quick-screen values that may overlap categories\n",
    "# df.loc[[index for index in df.index if \"health economist\" in df.loc[index, \"info\"]]]"
   ]
  },
  {
   "cell_type": "code",
   "execution_count": 51,
   "id": "5545949d",
   "metadata": {},
   "outputs": [
    {
     "data": {
      "application/javascript": [
       "\n",
       "            setTimeout(function() {\n",
       "                var nbb_cell_id = 51;\n",
       "                var nbb_unformatted_code = \"# # Example code to quick-check a specific entry\\n# df[\\n#     df[\\\"info_2\\\"]\\n#     == \\\"economist who did pioneering research in linear programming and environmental economics\\\"\\n# ]\";\n",
       "                var nbb_formatted_code = \"# # Example code to quick-check a specific entry\\n# df[\\n#     df[\\\"info_2\\\"]\\n#     == \\\"economist who did pioneering research in linear programming and environmental economics\\\"\\n# ]\";\n",
       "                var nbb_cells = Jupyter.notebook.get_cells();\n",
       "                for (var i = 0; i < nbb_cells.length; ++i) {\n",
       "                    if (nbb_cells[i].input_prompt_number == nbb_cell_id) {\n",
       "                        if (nbb_cells[i].get_text() == nbb_unformatted_code) {\n",
       "                             nbb_cells[i].set_text(nbb_formatted_code);\n",
       "                        }\n",
       "                        break;\n",
       "                    }\n",
       "                }\n",
       "            }, 500);\n",
       "            "
      ],
      "text/plain": [
       "<IPython.core.display.Javascript object>"
      ]
     },
     "metadata": {},
     "output_type": "display_data"
    }
   ],
   "source": [
    "# # Example code to quick-check a specific entry\n",
    "# df[\n",
    "#     df[\"info_2\"]\n",
    "#     == \"economist who did pioneering research in linear programming and environmental economics\"\n",
    "# ]"
   ]
  },
  {
   "cell_type": "markdown",
   "id": "eae1b596",
   "metadata": {},
   "source": [
    "#### Creating Lists for Each `known_for` Category"
   ]
  },
  {
   "cell_type": "code",
   "execution_count": 52,
   "id": "fbd1eee5",
   "metadata": {},
   "outputs": [
    {
     "data": {
      "application/javascript": [
       "\n",
       "            setTimeout(function() {\n",
       "                var nbb_cell_id = 52;\n",
       "                var nbb_unformatted_code = \"# Creating lists for each category\\npolitics_govt_law = [\\n    \\\"jurist and economist\\\",\\n    \\\"Marxian economist and founding editor of the\\\",\\n    \\\"economist specializing in public economics and information economics\\\",\\n    \\\"supply side economist\\\",\\n    \\\"libertarian economist\\\",\\n    \\\"monetarist and free market economist\\\",\\n    \\\"economist and government adviser\\\",\\n    \\\"economist and banking official\\\",\\n    \\\"economist and government advisor\\\",\\n    \\\"Marxian economist and a Trotskyist activist and\\\",\\n    \\\"economist and government minister\\\",\\n    \\\"economist and Nobel laureate\\\",\\n    \\\"macroeconomist\\\",\\n    \\\"monetary economist\\\",\\n    \\\"economist and government official\\\",\\n    \\\"public servant and economist\\\",\\n    \\\"labor economist\\\",\\n    \\\"economist and communist\\\",\\n    \\\"economist who did pioneering research in linear\\\",\\n    \\\"development economist and\\\",\\n    \\\"Marxist economist\\\",\\n    \\\"political scientist and economist\\\",\\n    \\\"Gandhian economist\\\",\\n    \\\"aristocrat and economist\\\",\\n    \\\"economist and PZPR activist\\\",\\n    \\\"economist and political scientist\\\",\\n    \\\"economist and politologist\\\",\\n    \\\"economist and taxpayer activist\\\",\\n    \\\"administrator and economist\\\",\\n    \\\"economist and government policy advisor\\\",\\n    \\\"economist and policy adviser\\\",\\n    \\\"economist and social activist\\\",\\n    \\\"economist and political adviser\\\",\\n    \\\"economist and lobbyist\\\",\\n    \\\"economist and laureate of the Nobel Memorial Prize in Economic Sciences\\\",\\n    \\\"political economist and activist\\\",\\n    \\\"lawyer and economist\\\",\\n    \\\"economist and Nobel Prize laureate\\\",\\n    \\\"Marxian economist\\\",\\n    \\\"development economist\\\",\\n    \\\"civil servant and economist\\\",\\n    \\\"economist and political activist\\\",\\n    \\\"feminist economist\\\",\\n    \\\"economist and public servant\\\",\\n    \\\"Nobel Prize winning economist\\\",\\n    \\\"health economist\\\",\\n    \\\"agricultural economist\\\",\\n    \\\"and political economist\\\",\\n    \\\"political economist\\\",\\n    \\\"economist and an\\\",\\n    \\\"and economist\\\",\\n    \\\"economist and\\\",\\n    \\\"economist\\\",\\n]\\n\\narts = []\\nsports = []\\nsciences = [\\n    \\\"home economist\\\",  # before politics_govt_law\\n]\\n\\nbusiness_farming = []\\nacademia_humanities = []\\nlaw_enf_military_operator = []\\nspiritual = []\\nsocial = []\\ncrime = [\\\"convicted embezzler\\\"]\\nevent_record_other = []\\nother_species = []\";\n",
       "                var nbb_formatted_code = \"# Creating lists for each category\\npolitics_govt_law = [\\n    \\\"jurist and economist\\\",\\n    \\\"Marxian economist and founding editor of the\\\",\\n    \\\"economist specializing in public economics and information economics\\\",\\n    \\\"supply side economist\\\",\\n    \\\"libertarian economist\\\",\\n    \\\"monetarist and free market economist\\\",\\n    \\\"economist and government adviser\\\",\\n    \\\"economist and banking official\\\",\\n    \\\"economist and government advisor\\\",\\n    \\\"Marxian economist and a Trotskyist activist and\\\",\\n    \\\"economist and government minister\\\",\\n    \\\"economist and Nobel laureate\\\",\\n    \\\"macroeconomist\\\",\\n    \\\"monetary economist\\\",\\n    \\\"economist and government official\\\",\\n    \\\"public servant and economist\\\",\\n    \\\"labor economist\\\",\\n    \\\"economist and communist\\\",\\n    \\\"economist who did pioneering research in linear\\\",\\n    \\\"development economist and\\\",\\n    \\\"Marxist economist\\\",\\n    \\\"political scientist and economist\\\",\\n    \\\"Gandhian economist\\\",\\n    \\\"aristocrat and economist\\\",\\n    \\\"economist and PZPR activist\\\",\\n    \\\"economist and political scientist\\\",\\n    \\\"economist and politologist\\\",\\n    \\\"economist and taxpayer activist\\\",\\n    \\\"administrator and economist\\\",\\n    \\\"economist and government policy advisor\\\",\\n    \\\"economist and policy adviser\\\",\\n    \\\"economist and social activist\\\",\\n    \\\"economist and political adviser\\\",\\n    \\\"economist and lobbyist\\\",\\n    \\\"economist and laureate of the Nobel Memorial Prize in Economic Sciences\\\",\\n    \\\"political economist and activist\\\",\\n    \\\"lawyer and economist\\\",\\n    \\\"economist and Nobel Prize laureate\\\",\\n    \\\"Marxian economist\\\",\\n    \\\"development economist\\\",\\n    \\\"civil servant and economist\\\",\\n    \\\"economist and political activist\\\",\\n    \\\"feminist economist\\\",\\n    \\\"economist and public servant\\\",\\n    \\\"Nobel Prize winning economist\\\",\\n    \\\"health economist\\\",\\n    \\\"agricultural economist\\\",\\n    \\\"and political economist\\\",\\n    \\\"political economist\\\",\\n    \\\"economist and an\\\",\\n    \\\"and economist\\\",\\n    \\\"economist and\\\",\\n    \\\"economist\\\",\\n]\\n\\narts = []\\nsports = []\\nsciences = [\\n    \\\"home economist\\\",  # before politics_govt_law\\n]\\n\\nbusiness_farming = []\\nacademia_humanities = []\\nlaw_enf_military_operator = []\\nspiritual = []\\nsocial = []\\ncrime = [\\\"convicted embezzler\\\"]\\nevent_record_other = []\\nother_species = []\";\n",
       "                var nbb_cells = Jupyter.notebook.get_cells();\n",
       "                for (var i = 0; i < nbb_cells.length; ++i) {\n",
       "                    if (nbb_cells[i].input_prompt_number == nbb_cell_id) {\n",
       "                        if (nbb_cells[i].get_text() == nbb_unformatted_code) {\n",
       "                             nbb_cells[i].set_text(nbb_formatted_code);\n",
       "                        }\n",
       "                        break;\n",
       "                    }\n",
       "                }\n",
       "            }, 500);\n",
       "            "
      ],
      "text/plain": [
       "<IPython.core.display.Javascript object>"
      ]
     },
     "metadata": {},
     "output_type": "display_data"
    }
   ],
   "source": [
    "# Creating lists for each category\n",
    "politics_govt_law = [\n",
    "    \"jurist and economist\",\n",
    "    \"Marxian economist and founding editor of the\",\n",
    "    \"economist specializing in public economics and information economics\",\n",
    "    \"supply side economist\",\n",
    "    \"libertarian economist\",\n",
    "    \"monetarist and free market economist\",\n",
    "    \"economist and government adviser\",\n",
    "    \"economist and banking official\",\n",
    "    \"economist and government advisor\",\n",
    "    \"Marxian economist and a Trotskyist activist and\",\n",
    "    \"economist and government minister\",\n",
    "    \"economist and Nobel laureate\",\n",
    "    \"macroeconomist\",\n",
    "    \"monetary economist\",\n",
    "    \"economist and government official\",\n",
    "    \"public servant and economist\",\n",
    "    \"labor economist\",\n",
    "    \"economist and communist\",\n",
    "    \"economist who did pioneering research in linear\",\n",
    "    \"development economist and\",\n",
    "    \"Marxist economist\",\n",
    "    \"political scientist and economist\",\n",
    "    \"Gandhian economist\",\n",
    "    \"aristocrat and economist\",\n",
    "    \"economist and PZPR activist\",\n",
    "    \"economist and political scientist\",\n",
    "    \"economist and politologist\",\n",
    "    \"economist and taxpayer activist\",\n",
    "    \"administrator and economist\",\n",
    "    \"economist and government policy advisor\",\n",
    "    \"economist and policy adviser\",\n",
    "    \"economist and social activist\",\n",
    "    \"economist and political adviser\",\n",
    "    \"economist and lobbyist\",\n",
    "    \"economist and laureate of the Nobel Memorial Prize in Economic Sciences\",\n",
    "    \"political economist and activist\",\n",
    "    \"lawyer and economist\",\n",
    "    \"economist and Nobel Prize laureate\",\n",
    "    \"Marxian economist\",\n",
    "    \"development economist\",\n",
    "    \"civil servant and economist\",\n",
    "    \"economist and political activist\",\n",
    "    \"feminist economist\",\n",
    "    \"economist and public servant\",\n",
    "    \"Nobel Prize winning economist\",\n",
    "    \"health economist\",\n",
    "    \"agricultural economist\",\n",
    "    \"and political economist\",\n",
    "    \"political economist\",\n",
    "    \"economist and an\",\n",
    "    \"and economist\",\n",
    "    \"economist and\",\n",
    "    \"economist\",\n",
    "]\n",
    "\n",
    "arts = []\n",
    "sports = []\n",
    "sciences = [\n",
    "    \"home economist\",  # before politics_govt_law\n",
    "]\n",
    "\n",
    "business_farming = []\n",
    "academia_humanities = []\n",
    "law_enf_military_operator = []\n",
    "spiritual = []\n",
    "social = []\n",
    "crime = [\"convicted embezzler\"]\n",
    "event_record_other = []\n",
    "other_species = []"
   ]
  },
  {
   "cell_type": "markdown",
   "id": "28864415",
   "metadata": {},
   "source": [
    "#### Creating `known_for_dict` Dictionary of Category Keys and Specific Role Lists of Values"
   ]
  },
  {
   "cell_type": "code",
   "execution_count": 53,
   "id": "643e50e9",
   "metadata": {},
   "outputs": [
    {
     "data": {
      "application/javascript": [
       "\n",
       "            setTimeout(function() {\n",
       "                var nbb_cell_id = 53;\n",
       "                var nbb_unformatted_code = \"# Combining separate lists into one dictionary\\nknown_for_dict = {\\n    \\\"social\\\": social,\\n    \\\"spiritual\\\": spiritual,\\n    \\\"academia_humanities\\\": academia_humanities,\\n    \\\"business_farming\\\": business_farming,\\n    \\\"sciences\\\": sciences,\\n    \\\"politics_govt_law\\\": politics_govt_law,\\n    \\\"law_enf_military_operator\\\": law_enf_military_operator,\\n    \\\"crime\\\": crime,\\n    \\\"event_record_other\\\": event_record_other,\\n    \\\"other_species\\\": other_species,\\n    \\\"arts\\\": arts,\\n    \\\"sports\\\": sports,\\n}\";\n",
       "                var nbb_formatted_code = \"# Combining separate lists into one dictionary\\nknown_for_dict = {\\n    \\\"social\\\": social,\\n    \\\"spiritual\\\": spiritual,\\n    \\\"academia_humanities\\\": academia_humanities,\\n    \\\"business_farming\\\": business_farming,\\n    \\\"sciences\\\": sciences,\\n    \\\"politics_govt_law\\\": politics_govt_law,\\n    \\\"law_enf_military_operator\\\": law_enf_military_operator,\\n    \\\"crime\\\": crime,\\n    \\\"event_record_other\\\": event_record_other,\\n    \\\"other_species\\\": other_species,\\n    \\\"arts\\\": arts,\\n    \\\"sports\\\": sports,\\n}\";\n",
       "                var nbb_cells = Jupyter.notebook.get_cells();\n",
       "                for (var i = 0; i < nbb_cells.length; ++i) {\n",
       "                    if (nbb_cells[i].input_prompt_number == nbb_cell_id) {\n",
       "                        if (nbb_cells[i].get_text() == nbb_unformatted_code) {\n",
       "                             nbb_cells[i].set_text(nbb_formatted_code);\n",
       "                        }\n",
       "                        break;\n",
       "                    }\n",
       "                }\n",
       "            }, 500);\n",
       "            "
      ],
      "text/plain": [
       "<IPython.core.display.Javascript object>"
      ]
     },
     "metadata": {},
     "output_type": "display_data"
    }
   ],
   "source": [
    "# Combining separate lists into one dictionary\n",
    "known_for_dict = {\n",
    "    \"social\": social,\n",
    "    \"spiritual\": spiritual,\n",
    "    \"academia_humanities\": academia_humanities,\n",
    "    \"business_farming\": business_farming,\n",
    "    \"sciences\": sciences,\n",
    "    \"politics_govt_law\": politics_govt_law,\n",
    "    \"law_enf_military_operator\": law_enf_military_operator,\n",
    "    \"crime\": crime,\n",
    "    \"event_record_other\": event_record_other,\n",
    "    \"other_species\": other_species,\n",
    "    \"arts\": arts,\n",
    "    \"sports\": sports,\n",
    "}"
   ]
  },
  {
   "cell_type": "markdown",
   "id": "35d16389",
   "metadata": {},
   "source": [
    "#### Extracting Category from `info_2`"
   ]
  },
  {
   "cell_type": "code",
   "execution_count": 54,
   "id": "126f4f07",
   "metadata": {},
   "outputs": [
    {
     "name": "stdout",
     "output_type": "stream",
     "text": [
      "CPU times: total: 29.5 s\n",
      "Wall time: 29.5 s\n"
     ]
    },
    {
     "data": {
      "text/html": [
       "<div>\n",
       "<style scoped>\n",
       "    .dataframe tbody tr th:only-of-type {\n",
       "        vertical-align: middle;\n",
       "    }\n",
       "\n",
       "    .dataframe tbody tr th {\n",
       "        vertical-align: top;\n",
       "    }\n",
       "\n",
       "    .dataframe thead th {\n",
       "        text-align: right;\n",
       "    }\n",
       "</style>\n",
       "<table border=\"1\" class=\"dataframe\">\n",
       "  <thead>\n",
       "    <tr style=\"text-align: right;\">\n",
       "      <th></th>\n",
       "      <th>day</th>\n",
       "      <th>name</th>\n",
       "      <th>info</th>\n",
       "      <th>link</th>\n",
       "      <th>num_references</th>\n",
       "      <th>year</th>\n",
       "      <th>month</th>\n",
       "      <th>info_parenth</th>\n",
       "      <th>info_1</th>\n",
       "      <th>info_2</th>\n",
       "      <th>info_3</th>\n",
       "      <th>info_4</th>\n",
       "      <th>info_5</th>\n",
       "      <th>info_6</th>\n",
       "      <th>info_7</th>\n",
       "      <th>info_8</th>\n",
       "      <th>info_9</th>\n",
       "      <th>info_10</th>\n",
       "      <th>info_11</th>\n",
       "      <th>age</th>\n",
       "      <th>cause_of_death</th>\n",
       "      <th>place_1</th>\n",
       "      <th>place_2</th>\n",
       "      <th>info_parenth_copy</th>\n",
       "      <th>log_num_references</th>\n",
       "      <th>sciences</th>\n",
       "      <th>social</th>\n",
       "      <th>spiritual</th>\n",
       "      <th>academia_humanities</th>\n",
       "      <th>business_farming</th>\n",
       "      <th>arts</th>\n",
       "      <th>sports</th>\n",
       "      <th>law_enf_military_operator</th>\n",
       "      <th>politics_govt_law</th>\n",
       "      <th>crime</th>\n",
       "      <th>event_record_other</th>\n",
       "      <th>other_species</th>\n",
       "      <th>num_categories</th>\n",
       "    </tr>\n",
       "  </thead>\n",
       "  <tbody>\n",
       "    <tr>\n",
       "      <th>66525</th>\n",
       "      <td>11</td>\n",
       "      <td>Jorge Schiaffino Isunza</td>\n",
       "      <td>, 70, Mexican politician, member of the Chamber of Deputies .</td>\n",
       "      <td>https://en.wikipedia.org/wiki/Jorge_Schiaffino_Isunza</td>\n",
       "      <td>5</td>\n",
       "      <td>2017</td>\n",
       "      <td>December</td>\n",
       "      <td></td>\n",
       "      <td>None</td>\n",
       "      <td></td>\n",
       "      <td>member of the Chamber of Deputies</td>\n",
       "      <td>None</td>\n",
       "      <td>None</td>\n",
       "      <td>None</td>\n",
       "      <td>None</td>\n",
       "      <td>None</td>\n",
       "      <td>None</td>\n",
       "      <td>None</td>\n",
       "      <td>None</td>\n",
       "      <td>70.0</td>\n",
       "      <td>None</td>\n",
       "      <td>Mexico</td>\n",
       "      <td>None</td>\n",
       "      <td>1988 1991</td>\n",
       "      <td>1.791759</td>\n",
       "      <td>0</td>\n",
       "      <td>0</td>\n",
       "      <td>0</td>\n",
       "      <td>0</td>\n",
       "      <td>0</td>\n",
       "      <td>0</td>\n",
       "      <td>0</td>\n",
       "      <td>0</td>\n",
       "      <td>1</td>\n",
       "      <td>0</td>\n",
       "      <td>0</td>\n",
       "      <td>0</td>\n",
       "      <td>1</td>\n",
       "    </tr>\n",
       "    <tr>\n",
       "      <th>72122</th>\n",
       "      <td>16</td>\n",
       "      <td>Eraldo Isidori</td>\n",
       "      <td>, 78, Italian politician, Deputy , complications from surgery.</td>\n",
       "      <td>https://en.wikipedia.org/wiki/Eraldo_Isidori</td>\n",
       "      <td>3</td>\n",
       "      <td>2018</td>\n",
       "      <td>December</td>\n",
       "      <td></td>\n",
       "      <td>None</td>\n",
       "      <td></td>\n",
       "      <td>Deputy</td>\n",
       "      <td>complications from surgery</td>\n",
       "      <td>None</td>\n",
       "      <td>None</td>\n",
       "      <td>None</td>\n",
       "      <td>None</td>\n",
       "      <td>None</td>\n",
       "      <td>None</td>\n",
       "      <td>None</td>\n",
       "      <td>78.0</td>\n",
       "      <td>None</td>\n",
       "      <td>Italy</td>\n",
       "      <td>None</td>\n",
       "      <td>2010 2012</td>\n",
       "      <td>1.386294</td>\n",
       "      <td>0</td>\n",
       "      <td>0</td>\n",
       "      <td>0</td>\n",
       "      <td>0</td>\n",
       "      <td>0</td>\n",
       "      <td>0</td>\n",
       "      <td>0</td>\n",
       "      <td>0</td>\n",
       "      <td>1</td>\n",
       "      <td>0</td>\n",
       "      <td>0</td>\n",
       "      <td>0</td>\n",
       "      <td>1</td>\n",
       "    </tr>\n",
       "  </tbody>\n",
       "</table>\n",
       "</div>"
      ],
      "text/plain": [
       "      day                     name  \\\n",
       "66525  11  Jorge Schiaffino Isunza   \n",
       "72122  16           Eraldo Isidori   \n",
       "\n",
       "                                                                 info  \\\n",
       "66525   , 70, Mexican politician, member of the Chamber of Deputies .   \n",
       "72122  , 78, Italian politician, Deputy , complications from surgery.   \n",
       "\n",
       "                                                        link  num_references  \\\n",
       "66525  https://en.wikipedia.org/wiki/Jorge_Schiaffino_Isunza               5   \n",
       "72122           https://en.wikipedia.org/wiki/Eraldo_Isidori               3   \n",
       "\n",
       "       year     month info_parenth info_1 info_2  \\\n",
       "66525  2017  December                None          \n",
       "72122  2018  December                None          \n",
       "\n",
       "                                  info_3                      info_4 info_5  \\\n",
       "66525  member of the Chamber of Deputies                        None   None   \n",
       "72122                             Deputy  complications from surgery   None   \n",
       "\n",
       "      info_6 info_7 info_8 info_9 info_10 info_11   age cause_of_death  \\\n",
       "66525   None   None   None   None    None    None  70.0           None   \n",
       "72122   None   None   None   None    None    None  78.0           None   \n",
       "\n",
       "      place_1 place_2 info_parenth_copy  log_num_references  sciences  social  \\\n",
       "66525  Mexico    None         1988 1991            1.791759         0       0   \n",
       "72122   Italy    None         2010 2012            1.386294         0       0   \n",
       "\n",
       "       spiritual  academia_humanities  business_farming  arts  sports  \\\n",
       "66525          0                    0                 0     0       0   \n",
       "72122          0                    0                 0     0       0   \n",
       "\n",
       "       law_enf_military_operator  politics_govt_law  crime  \\\n",
       "66525                          0                  1      0   \n",
       "72122                          0                  1      0   \n",
       "\n",
       "       event_record_other  other_species  num_categories  \n",
       "66525                   0              0               1  \n",
       "72122                   0              0               1  "
      ]
     },
     "execution_count": 54,
     "metadata": {},
     "output_type": "execute_result"
    },
    {
     "data": {
      "application/javascript": [
       "\n",
       "            setTimeout(function() {\n",
       "                var nbb_cell_id = 54;\n",
       "                var nbb_unformatted_code = \"%%time\\n\\n# Dictionary version\\nsearch_dict = known_for_dict\\n\\n# Column to check\\ncolumn = 'info_2'\\n\\n# Dataframe\\ndataframe = df[column].notna()\\n\\n# For loop to find role in column and extract it as category\\nfor category, category_lst in search_dict.items():\\n    for role in category_lst:\\n        for index in dataframe.index:\\n            item = df.loc[index, column]\\n            if item:\\n                if role in item:\\n                    df.loc[index, category] = 1\\n                    df.loc[index, column] = item.replace(role, '').strip()\\n\\n# Updating num_categories\\ndf[\\\"num_categories\\\"] = df[known_for_dict.keys()].sum(axis=1)\\n\\n# Checking a sample of rows\\ndf[df['politics_govt_law'] ==1].sample(2)\";\n",
       "                var nbb_formatted_code = \"%%time\\n\\n# Dictionary version\\nsearch_dict = known_for_dict\\n\\n# Column to check\\ncolumn = 'info_2'\\n\\n# Dataframe\\ndataframe = df[column].notna()\\n\\n# For loop to find role in column and extract it as category\\nfor category, category_lst in search_dict.items():\\n    for role in category_lst:\\n        for index in dataframe.index:\\n            item = df.loc[index, column]\\n            if item:\\n                if role in item:\\n                    df.loc[index, category] = 1\\n                    df.loc[index, column] = item.replace(role, '').strip()\\n\\n# Updating num_categories\\ndf[\\\"num_categories\\\"] = df[known_for_dict.keys()].sum(axis=1)\\n\\n# Checking a sample of rows\\ndf[df['politics_govt_law'] ==1].sample(2)\";\n",
       "                var nbb_cells = Jupyter.notebook.get_cells();\n",
       "                for (var i = 0; i < nbb_cells.length; ++i) {\n",
       "                    if (nbb_cells[i].input_prompt_number == nbb_cell_id) {\n",
       "                        if (nbb_cells[i].get_text() == nbb_unformatted_code) {\n",
       "                             nbb_cells[i].set_text(nbb_formatted_code);\n",
       "                        }\n",
       "                        break;\n",
       "                    }\n",
       "                }\n",
       "            }, 500);\n",
       "            "
      ],
      "text/plain": [
       "<IPython.core.display.Javascript object>"
      ]
     },
     "metadata": {},
     "output_type": "display_data"
    }
   ],
   "source": [
    "%%time\n",
    "\n",
    "# Dictionary version\n",
    "search_dict = known_for_dict\n",
    "\n",
    "# Column to check\n",
    "column = 'info_2'\n",
    "\n",
    "# Dataframe\n",
    "dataframe = df[column].notna()\n",
    "\n",
    "# For loop to find role in column and extract it as category\n",
    "for category, category_lst in search_dict.items():\n",
    "    for role in category_lst:\n",
    "        for index in dataframe.index:\n",
    "            item = df.loc[index, column]\n",
    "            if item:\n",
    "                if role in item:\n",
    "                    df.loc[index, category] = 1\n",
    "                    df.loc[index, column] = item.replace(role, '').strip()\n",
    "\n",
    "# Updating num_categories\n",
    "df[\"num_categories\"] = df[known_for_dict.keys()].sum(axis=1)\n",
    "\n",
    "# Checking a sample of rows\n",
    "df[df['politics_govt_law'] ==1].sample(2)"
   ]
  },
  {
   "cell_type": "markdown",
   "id": "1d5f00a5",
   "metadata": {},
   "source": [
    "#### Checking the Number of Rows without a First Category"
   ]
  },
  {
   "cell_type": "code",
   "execution_count": 55,
   "id": "50b5830a",
   "metadata": {},
   "outputs": [
    {
     "name": "stdout",
     "output_type": "stream",
     "text": [
      "There are 42456 entries without any known_for category.\n"
     ]
    },
    {
     "data": {
      "application/javascript": [
       "\n",
       "            setTimeout(function() {\n",
       "                var nbb_cell_id = 55;\n",
       "                var nbb_unformatted_code = \"#### Checking the number of rows without a first category\\nprint(\\n    f'There are {len(df[df[\\\"num_categories\\\"]==0])} entries without any known_for category.'\\n)\";\n",
       "                var nbb_formatted_code = \"#### Checking the number of rows without a first category\\nprint(\\n    f'There are {len(df[df[\\\"num_categories\\\"]==0])} entries without any known_for category.'\\n)\";\n",
       "                var nbb_cells = Jupyter.notebook.get_cells();\n",
       "                for (var i = 0; i < nbb_cells.length; ++i) {\n",
       "                    if (nbb_cells[i].input_prompt_number == nbb_cell_id) {\n",
       "                        if (nbb_cells[i].get_text() == nbb_unformatted_code) {\n",
       "                             nbb_cells[i].set_text(nbb_formatted_code);\n",
       "                        }\n",
       "                        break;\n",
       "                    }\n",
       "                }\n",
       "            }, 500);\n",
       "            "
      ],
      "text/plain": [
       "<IPython.core.display.Javascript object>"
      ]
     },
     "metadata": {},
     "output_type": "display_data"
    }
   ],
   "source": [
    "#### Checking the number of rows without a first category\n",
    "print(\n",
    "    f'There are {len(df[df[\"num_categories\"]==0])} entries without any known_for category.'\n",
    ")"
   ]
  },
  {
   "cell_type": "markdown",
   "id": "93e2e17d",
   "metadata": {},
   "source": [
    "#### Observations:\n",
    "- We will proceed to rebuild `known_for_dict` for the next iteration."
   ]
  },
  {
   "cell_type": "markdown",
   "id": "398d37dd",
   "metadata": {},
   "source": [
    "#### Finding `known_for` Roles in `info_2`"
   ]
  },
  {
   "cell_type": "code",
   "execution_count": 56,
   "id": "4b4854cc",
   "metadata": {},
   "outputs": [
    {
     "data": {
      "application/javascript": [
       "\n",
       "            setTimeout(function() {\n",
       "                var nbb_cell_id = 56;\n",
       "                var nbb_unformatted_code = \"# Obtaining values for column and their counts\\nroles_list = df[\\\"info_2\\\"].value_counts(ascending=True).index.tolist()\";\n",
       "                var nbb_formatted_code = \"# Obtaining values for column and their counts\\nroles_list = df[\\\"info_2\\\"].value_counts(ascending=True).index.tolist()\";\n",
       "                var nbb_cells = Jupyter.notebook.get_cells();\n",
       "                for (var i = 0; i < nbb_cells.length; ++i) {\n",
       "                    if (nbb_cells[i].input_prompt_number == nbb_cell_id) {\n",
       "                        if (nbb_cells[i].get_text() == nbb_unformatted_code) {\n",
       "                             nbb_cells[i].set_text(nbb_formatted_code);\n",
       "                        }\n",
       "                        break;\n",
       "                    }\n",
       "                }\n",
       "            }, 500);\n",
       "            "
      ],
      "text/plain": [
       "<IPython.core.display.Javascript object>"
      ]
     },
     "metadata": {},
     "output_type": "display_data"
    }
   ],
   "source": [
    "# Obtaining values for column and their counts\n",
    "roles_list = df[\"info_2\"].value_counts(ascending=True).index.tolist()"
   ]
  },
  {
   "cell_type": "code",
   "execution_count": 57,
   "id": "ad625696",
   "metadata": {},
   "outputs": [
    {
     "data": {
      "application/javascript": [
       "\n",
       "            setTimeout(function() {\n",
       "                var nbb_cell_id = 57;\n",
       "                var nbb_unformatted_code = \"# # Code to check each value\\n# roles_list.pop()\";\n",
       "                var nbb_formatted_code = \"# # Code to check each value\\n# roles_list.pop()\";\n",
       "                var nbb_cells = Jupyter.notebook.get_cells();\n",
       "                for (var i = 0; i < nbb_cells.length; ++i) {\n",
       "                    if (nbb_cells[i].input_prompt_number == nbb_cell_id) {\n",
       "                        if (nbb_cells[i].get_text() == nbb_unformatted_code) {\n",
       "                             nbb_cells[i].set_text(nbb_formatted_code);\n",
       "                        }\n",
       "                        break;\n",
       "                    }\n",
       "                }\n",
       "            }, 500);\n",
       "            "
      ],
      "text/plain": [
       "<IPython.core.display.Javascript object>"
      ]
     },
     "metadata": {},
     "output_type": "display_data"
    }
   ],
   "source": [
    "# # Code to check each value\n",
    "# roles_list.pop()"
   ]
  },
  {
   "cell_type": "code",
   "execution_count": 58,
   "id": "d3285840",
   "metadata": {},
   "outputs": [
    {
     "data": {
      "application/javascript": [
       "\n",
       "            setTimeout(function() {\n",
       "                var nbb_cell_id = 58;\n",
       "                var nbb_unformatted_code = \"# # Create specific_roles_list for above popped value\\n# specific_roles_list = (\\n#     df.loc[[index for index in df.index if \\\"judge\\\" in df.loc[index, \\\"info\\\"]], \\\"info_2\\\",]\\n#     .value_counts()\\n#     .index.tolist()\\n# )\";\n",
       "                var nbb_formatted_code = \"# # Create specific_roles_list for above popped value\\n# specific_roles_list = (\\n#     df.loc[[index for index in df.index if \\\"judge\\\" in df.loc[index, \\\"info\\\"]], \\\"info_2\\\",]\\n#     .value_counts()\\n#     .index.tolist()\\n# )\";\n",
       "                var nbb_cells = Jupyter.notebook.get_cells();\n",
       "                for (var i = 0; i < nbb_cells.length; ++i) {\n",
       "                    if (nbb_cells[i].input_prompt_number == nbb_cell_id) {\n",
       "                        if (nbb_cells[i].get_text() == nbb_unformatted_code) {\n",
       "                             nbb_cells[i].set_text(nbb_formatted_code);\n",
       "                        }\n",
       "                        break;\n",
       "                    }\n",
       "                }\n",
       "            }, 500);\n",
       "            "
      ],
      "text/plain": [
       "<IPython.core.display.Javascript object>"
      ]
     },
     "metadata": {},
     "output_type": "display_data"
    }
   ],
   "source": [
    "# # Create specific_roles_list for above popped value\n",
    "# specific_roles_list = (\n",
    "#     df.loc[[index for index in df.index if \"judge\" in df.loc[index, \"info\"]], \"info_2\",]\n",
    "#     .value_counts()\n",
    "#     .index.tolist()\n",
    "# )"
   ]
  },
  {
   "cell_type": "code",
   "execution_count": 59,
   "id": "d5b3717c",
   "metadata": {},
   "outputs": [
    {
     "data": {
      "application/javascript": [
       "\n",
       "            setTimeout(function() {\n",
       "                var nbb_cell_id = 59;\n",
       "                var nbb_unformatted_code = \"# # Code to check each specific value\\n# specific_roles_list.pop()\";\n",
       "                var nbb_formatted_code = \"# # Code to check each specific value\\n# specific_roles_list.pop()\";\n",
       "                var nbb_cells = Jupyter.notebook.get_cells();\n",
       "                for (var i = 0; i < nbb_cells.length; ++i) {\n",
       "                    if (nbb_cells[i].input_prompt_number == nbb_cell_id) {\n",
       "                        if (nbb_cells[i].get_text() == nbb_unformatted_code) {\n",
       "                             nbb_cells[i].set_text(nbb_formatted_code);\n",
       "                        }\n",
       "                        break;\n",
       "                    }\n",
       "                }\n",
       "            }, 500);\n",
       "            "
      ],
      "text/plain": [
       "<IPython.core.display.Javascript object>"
      ]
     },
     "metadata": {},
     "output_type": "display_data"
    }
   ],
   "source": [
    "# # Code to check each specific value\n",
    "# specific_roles_list.pop()"
   ]
  },
  {
   "cell_type": "code",
   "execution_count": 60,
   "id": "d51d213c",
   "metadata": {},
   "outputs": [
    {
     "data": {
      "application/javascript": [
       "\n",
       "            setTimeout(function() {\n",
       "                var nbb_cell_id = 60;\n",
       "                var nbb_unformatted_code = \"# # Example code to quick-screen values that may overlap categories\\n# df.loc[[index for index in df.index if \\\"judge and legal\\\" in df.loc[index, \\\"info\\\"]]]\";\n",
       "                var nbb_formatted_code = \"# # Example code to quick-screen values that may overlap categories\\n# df.loc[[index for index in df.index if \\\"judge and legal\\\" in df.loc[index, \\\"info\\\"]]]\";\n",
       "                var nbb_cells = Jupyter.notebook.get_cells();\n",
       "                for (var i = 0; i < nbb_cells.length; ++i) {\n",
       "                    if (nbb_cells[i].input_prompt_number == nbb_cell_id) {\n",
       "                        if (nbb_cells[i].get_text() == nbb_unformatted_code) {\n",
       "                             nbb_cells[i].set_text(nbb_formatted_code);\n",
       "                        }\n",
       "                        break;\n",
       "                    }\n",
       "                }\n",
       "            }, 500);\n",
       "            "
      ],
      "text/plain": [
       "<IPython.core.display.Javascript object>"
      ]
     },
     "metadata": {},
     "output_type": "display_data"
    }
   ],
   "source": [
    "# # Example code to quick-screen values that may overlap categories\n",
    "# df.loc[[index for index in df.index if \"judge and legal\" in df.loc[index, \"info\"]]]"
   ]
  },
  {
   "cell_type": "code",
   "execution_count": 61,
   "id": "90c22ecf",
   "metadata": {},
   "outputs": [
    {
     "data": {
      "application/javascript": [
       "\n",
       "            setTimeout(function() {\n",
       "                var nbb_cell_id = 61;\n",
       "                var nbb_unformatted_code = \"# # Example code to quick-check a specific entry\\n# df[df[\\\"info_2\\\"] == \\\"circuit judge and tabloid columnist\\\"]\";\n",
       "                var nbb_formatted_code = \"# # Example code to quick-check a specific entry\\n# df[df[\\\"info_2\\\"] == \\\"circuit judge and tabloid columnist\\\"]\";\n",
       "                var nbb_cells = Jupyter.notebook.get_cells();\n",
       "                for (var i = 0; i < nbb_cells.length; ++i) {\n",
       "                    if (nbb_cells[i].input_prompt_number == nbb_cell_id) {\n",
       "                        if (nbb_cells[i].get_text() == nbb_unformatted_code) {\n",
       "                             nbb_cells[i].set_text(nbb_formatted_code);\n",
       "                        }\n",
       "                        break;\n",
       "                    }\n",
       "                }\n",
       "            }, 500);\n",
       "            "
      ],
      "text/plain": [
       "<IPython.core.display.Javascript object>"
      ]
     },
     "metadata": {},
     "output_type": "display_data"
    }
   ],
   "source": [
    "# # Example code to quick-check a specific entry\n",
    "# df[df[\"info_2\"] == \"circuit judge and tabloid columnist\"]"
   ]
  },
  {
   "cell_type": "markdown",
   "id": "b574b826",
   "metadata": {},
   "source": [
    "#### Creating Lists for Each `known_for` Category"
   ]
  },
  {
   "cell_type": "code",
   "execution_count": 62,
   "id": "30e9aa99",
   "metadata": {},
   "outputs": [
    {
     "data": {
      "application/javascript": [
       "\n",
       "            setTimeout(function() {\n",
       "                var nbb_cell_id = 62;\n",
       "                var nbb_unformatted_code = \"# Creating lists for each category\\npolitics_govt_law = [\\n    \\\"military judge and\\\",\\n    \\\"judge on the Supreme Court of Queensland\\\",\\n    \\\"judge on the Oregon Supreme Court\\\",\\n    \\\"senior judge for the Central District Court\\\",\\n    \\\"judge and Representative from Alabama\\\",\\n    \\\"appeals court judge\\\",\\n    \\\"High Court judge\\\",\\n    \\\"intellectual property lawyer and High Court judge\\\",\\n    \\\"judge of the ACT Supreme Court\\\",\\n    \\\"judge and hereditary peer\\\",\\n    \\\"judge and Law Lord\\\",\\n    \\\"circuit judge for the Court of Appeals for the Ninth Circuit\\\",\\n    \\\"senior judge of the District Court for the Southern District of\\\",\\n    \\\"judge and feminist\\\",\\n    \\\"judge of the District Court for the Western District of Missouri\\\",\\n    \\\"judge and public servant\\\",\\n    \\\"District Court judge\\\",\\n    \\\"Bankruptcy Court judge\\\",\\n    \\\"who was the first female Supreme Court judge\\\",\\n    \\\"State judge and prosecutor at the Nuremberg war crimes trials\\\",\\n    \\\"judge and influential patent attorney\\\",\\n    \\\"district judge overseeing desegregation in the South\\\",\\n    \\\"judge and former Lord Chief Justice\\\",\\n    \\\"judge and peer\\\",\\n    \\\"civil rights lawyer and the first female federal judge\\\",\\n    \\\"federal judge who crafted the mass settlement of asbestos lawsuits\\\",\\n    \\\"senior federal judge and the first black federal prosecutor in history\\\",\\n    \\\"judge on the Court of Appeals for the Third Circuit\\\",\\n    \\\"prominent judge sitting in highest court\\\",\\n    \\\"former chief judge of the Court of Appeals for the Third Circuit\\\",\\n    \\\"Superior Court judge who presided over the Charles Manson trial\\\",\\n    \\\"and Ohio judge for years\\\",\\n    \\\"judge and Vice Chancellor of the Supreme Court\\\",\\n    \\\"City family court judge and first female judge\\\",\\n    \\\"senior judge of the Family Division of the High Court\\\",\\n    \\\"former chief judge\\\",\\n    \\\"senior judge of the District Court for the Southern District of Alabama and judge for the Middle District of Alabama\\\",\\n    \\\"senior federal appellate judge\\\",\\n    \\\"civil rights activist and judge\\\",\\n    \\\"first female judge of\\\",\\n    \\\"judge in the\\\",\\n    \\\"judge and chairperson of the Electoral Commission\\\",\\n    \\\"judge and political activist\\\",\\n    \\\"judge and anti apartheid activist\\\",\\n    \\\"lawyer and Supreme Court judge\\\",\\n    \\\"judge and disability rights campaigner\\\",\\n    \\\"senior judge of the Court of Appeals for the Ninth Circuit\\\",\\n    \\\"jurist and judge\\\",\\n    \\\"judge and independence activist\\\",\\n    \\\"senior judge of the District Court for the District of New\\\",\\n    \\\"attorney and tribal judge\\\",\\n    \\\"judge and prosecutor\\\",\\n    \\\"judge and civil servant\\\",\\n    \\\"judge and ombudsman\\\",\\n    \\\"jurist and Supreme Court judge\\\",\\n    \\\"senior federal judge\\\",\\n    \\\"lawyer and state judge\\\",\\n    \\\"colonial official and judge\\\",\\n    \\\"judge of the High Court of and\\\",\\n    \\\"Navajo judge\\\",\\n    \\\"senior and chief judge\\\",\\n    \\\"legislator and federal judge\\\",\\n    \\\"senior circuit judge\\\",\\n    \\\"judge and legal\\\",\\n    \\\"judge and barrister\\\",\\n    \\\"judge and law lord\\\",\\n    \\\"district judge and\\\",\\n    \\\"district judge\\\",\\n    \\\"judge and life peer\\\",\\n    \\\"chief judge\\\",\\n    \\\"senior judge of the District Court for the Eastern District of\\\",\\n    \\\"attorney and judge\\\",\\n    \\\"district court judge\\\",\\n    \\\"judge and lawyer\\\",\\n    \\\"judge and jurist\\\",\\n    \\\"state judge\\\",\\n    \\\"Supreme Court judge\\\",\\n    \\\"barrister and judge\\\",\\n    \\\"senior judge\\\",\\n    \\\"lawyer and judge\\\",\\n    \\\"federal judge and\\\",\\n    \\\"federal judge\\\",\\n    \\\"circuit judge and\\\",\\n    \\\"judge and\\\",\\n    \\\"and judge\\\",\\n    \\\"judge\\\",\\n]\\n\\narts = []\\nsports = [\\n    \\\"dog show judge\\\",  # before politics_govt_law\\n    \\\"boxing judge and\\\",\\n    \\\"draughts player and judge\\\",\\n]\\nsciences = []\\n\\nbusiness_farming = []\\nacademia_humanities = []\\nlaw_enf_military_operator = []\\nspiritual = []\\nsocial = []\\ncrime = []\\nevent_record_other = []\\nother_species = []\";\n",
       "                var nbb_formatted_code = \"# Creating lists for each category\\npolitics_govt_law = [\\n    \\\"military judge and\\\",\\n    \\\"judge on the Supreme Court of Queensland\\\",\\n    \\\"judge on the Oregon Supreme Court\\\",\\n    \\\"senior judge for the Central District Court\\\",\\n    \\\"judge and Representative from Alabama\\\",\\n    \\\"appeals court judge\\\",\\n    \\\"High Court judge\\\",\\n    \\\"intellectual property lawyer and High Court judge\\\",\\n    \\\"judge of the ACT Supreme Court\\\",\\n    \\\"judge and hereditary peer\\\",\\n    \\\"judge and Law Lord\\\",\\n    \\\"circuit judge for the Court of Appeals for the Ninth Circuit\\\",\\n    \\\"senior judge of the District Court for the Southern District of\\\",\\n    \\\"judge and feminist\\\",\\n    \\\"judge of the District Court for the Western District of Missouri\\\",\\n    \\\"judge and public servant\\\",\\n    \\\"District Court judge\\\",\\n    \\\"Bankruptcy Court judge\\\",\\n    \\\"who was the first female Supreme Court judge\\\",\\n    \\\"State judge and prosecutor at the Nuremberg war crimes trials\\\",\\n    \\\"judge and influential patent attorney\\\",\\n    \\\"district judge overseeing desegregation in the South\\\",\\n    \\\"judge and former Lord Chief Justice\\\",\\n    \\\"judge and peer\\\",\\n    \\\"civil rights lawyer and the first female federal judge\\\",\\n    \\\"federal judge who crafted the mass settlement of asbestos lawsuits\\\",\\n    \\\"senior federal judge and the first black federal prosecutor in history\\\",\\n    \\\"judge on the Court of Appeals for the Third Circuit\\\",\\n    \\\"prominent judge sitting in highest court\\\",\\n    \\\"former chief judge of the Court of Appeals for the Third Circuit\\\",\\n    \\\"Superior Court judge who presided over the Charles Manson trial\\\",\\n    \\\"and Ohio judge for years\\\",\\n    \\\"judge and Vice Chancellor of the Supreme Court\\\",\\n    \\\"City family court judge and first female judge\\\",\\n    \\\"senior judge of the Family Division of the High Court\\\",\\n    \\\"former chief judge\\\",\\n    \\\"senior judge of the District Court for the Southern District of Alabama and judge for the Middle District of Alabama\\\",\\n    \\\"senior federal appellate judge\\\",\\n    \\\"civil rights activist and judge\\\",\\n    \\\"first female judge of\\\",\\n    \\\"judge in the\\\",\\n    \\\"judge and chairperson of the Electoral Commission\\\",\\n    \\\"judge and political activist\\\",\\n    \\\"judge and anti apartheid activist\\\",\\n    \\\"lawyer and Supreme Court judge\\\",\\n    \\\"judge and disability rights campaigner\\\",\\n    \\\"senior judge of the Court of Appeals for the Ninth Circuit\\\",\\n    \\\"jurist and judge\\\",\\n    \\\"judge and independence activist\\\",\\n    \\\"senior judge of the District Court for the District of New\\\",\\n    \\\"attorney and tribal judge\\\",\\n    \\\"judge and prosecutor\\\",\\n    \\\"judge and civil servant\\\",\\n    \\\"judge and ombudsman\\\",\\n    \\\"jurist and Supreme Court judge\\\",\\n    \\\"senior federal judge\\\",\\n    \\\"lawyer and state judge\\\",\\n    \\\"colonial official and judge\\\",\\n    \\\"judge of the High Court of and\\\",\\n    \\\"Navajo judge\\\",\\n    \\\"senior and chief judge\\\",\\n    \\\"legislator and federal judge\\\",\\n    \\\"senior circuit judge\\\",\\n    \\\"judge and legal\\\",\\n    \\\"judge and barrister\\\",\\n    \\\"judge and law lord\\\",\\n    \\\"district judge and\\\",\\n    \\\"district judge\\\",\\n    \\\"judge and life peer\\\",\\n    \\\"chief judge\\\",\\n    \\\"senior judge of the District Court for the Eastern District of\\\",\\n    \\\"attorney and judge\\\",\\n    \\\"district court judge\\\",\\n    \\\"judge and lawyer\\\",\\n    \\\"judge and jurist\\\",\\n    \\\"state judge\\\",\\n    \\\"Supreme Court judge\\\",\\n    \\\"barrister and judge\\\",\\n    \\\"senior judge\\\",\\n    \\\"lawyer and judge\\\",\\n    \\\"federal judge and\\\",\\n    \\\"federal judge\\\",\\n    \\\"circuit judge and\\\",\\n    \\\"judge and\\\",\\n    \\\"and judge\\\",\\n    \\\"judge\\\",\\n]\\n\\narts = []\\nsports = [\\n    \\\"dog show judge\\\",  # before politics_govt_law\\n    \\\"boxing judge and\\\",\\n    \\\"draughts player and judge\\\",\\n]\\nsciences = []\\n\\nbusiness_farming = []\\nacademia_humanities = []\\nlaw_enf_military_operator = []\\nspiritual = []\\nsocial = []\\ncrime = []\\nevent_record_other = []\\nother_species = []\";\n",
       "                var nbb_cells = Jupyter.notebook.get_cells();\n",
       "                for (var i = 0; i < nbb_cells.length; ++i) {\n",
       "                    if (nbb_cells[i].input_prompt_number == nbb_cell_id) {\n",
       "                        if (nbb_cells[i].get_text() == nbb_unformatted_code) {\n",
       "                             nbb_cells[i].set_text(nbb_formatted_code);\n",
       "                        }\n",
       "                        break;\n",
       "                    }\n",
       "                }\n",
       "            }, 500);\n",
       "            "
      ],
      "text/plain": [
       "<IPython.core.display.Javascript object>"
      ]
     },
     "metadata": {},
     "output_type": "display_data"
    }
   ],
   "source": [
    "# Creating lists for each category\n",
    "politics_govt_law = [\n",
    "    \"military judge and\",\n",
    "    \"judge on the Supreme Court of Queensland\",\n",
    "    \"judge on the Oregon Supreme Court\",\n",
    "    \"senior judge for the Central District Court\",\n",
    "    \"judge and Representative from Alabama\",\n",
    "    \"appeals court judge\",\n",
    "    \"High Court judge\",\n",
    "    \"intellectual property lawyer and High Court judge\",\n",
    "    \"judge of the ACT Supreme Court\",\n",
    "    \"judge and hereditary peer\",\n",
    "    \"judge and Law Lord\",\n",
    "    \"circuit judge for the Court of Appeals for the Ninth Circuit\",\n",
    "    \"senior judge of the District Court for the Southern District of\",\n",
    "    \"judge and feminist\",\n",
    "    \"judge of the District Court for the Western District of Missouri\",\n",
    "    \"judge and public servant\",\n",
    "    \"District Court judge\",\n",
    "    \"Bankruptcy Court judge\",\n",
    "    \"who was the first female Supreme Court judge\",\n",
    "    \"State judge and prosecutor at the Nuremberg war crimes trials\",\n",
    "    \"judge and influential patent attorney\",\n",
    "    \"district judge overseeing desegregation in the South\",\n",
    "    \"judge and former Lord Chief Justice\",\n",
    "    \"judge and peer\",\n",
    "    \"civil rights lawyer and the first female federal judge\",\n",
    "    \"federal judge who crafted the mass settlement of asbestos lawsuits\",\n",
    "    \"senior federal judge and the first black federal prosecutor in history\",\n",
    "    \"judge on the Court of Appeals for the Third Circuit\",\n",
    "    \"prominent judge sitting in highest court\",\n",
    "    \"former chief judge of the Court of Appeals for the Third Circuit\",\n",
    "    \"Superior Court judge who presided over the Charles Manson trial\",\n",
    "    \"and Ohio judge for years\",\n",
    "    \"judge and Vice Chancellor of the Supreme Court\",\n",
    "    \"City family court judge and first female judge\",\n",
    "    \"senior judge of the Family Division of the High Court\",\n",
    "    \"former chief judge\",\n",
    "    \"senior judge of the District Court for the Southern District of Alabama and judge for the Middle District of Alabama\",\n",
    "    \"senior federal appellate judge\",\n",
    "    \"civil rights activist and judge\",\n",
    "    \"first female judge of\",\n",
    "    \"judge in the\",\n",
    "    \"judge and chairperson of the Electoral Commission\",\n",
    "    \"judge and political activist\",\n",
    "    \"judge and anti apartheid activist\",\n",
    "    \"lawyer and Supreme Court judge\",\n",
    "    \"judge and disability rights campaigner\",\n",
    "    \"senior judge of the Court of Appeals for the Ninth Circuit\",\n",
    "    \"jurist and judge\",\n",
    "    \"judge and independence activist\",\n",
    "    \"senior judge of the District Court for the District of New\",\n",
    "    \"attorney and tribal judge\",\n",
    "    \"judge and prosecutor\",\n",
    "    \"judge and civil servant\",\n",
    "    \"judge and ombudsman\",\n",
    "    \"jurist and Supreme Court judge\",\n",
    "    \"senior federal judge\",\n",
    "    \"lawyer and state judge\",\n",
    "    \"colonial official and judge\",\n",
    "    \"judge of the High Court of and\",\n",
    "    \"Navajo judge\",\n",
    "    \"senior and chief judge\",\n",
    "    \"legislator and federal judge\",\n",
    "    \"senior circuit judge\",\n",
    "    \"judge and legal\",\n",
    "    \"judge and barrister\",\n",
    "    \"judge and law lord\",\n",
    "    \"district judge and\",\n",
    "    \"district judge\",\n",
    "    \"judge and life peer\",\n",
    "    \"chief judge\",\n",
    "    \"senior judge of the District Court for the Eastern District of\",\n",
    "    \"attorney and judge\",\n",
    "    \"district court judge\",\n",
    "    \"judge and lawyer\",\n",
    "    \"judge and jurist\",\n",
    "    \"state judge\",\n",
    "    \"Supreme Court judge\",\n",
    "    \"barrister and judge\",\n",
    "    \"senior judge\",\n",
    "    \"lawyer and judge\",\n",
    "    \"federal judge and\",\n",
    "    \"federal judge\",\n",
    "    \"circuit judge and\",\n",
    "    \"judge and\",\n",
    "    \"and judge\",\n",
    "    \"judge\",\n",
    "]\n",
    "\n",
    "arts = []\n",
    "sports = [\n",
    "    \"dog show judge\",  # before politics_govt_law\n",
    "    \"boxing judge and\",\n",
    "    \"draughts player and judge\",\n",
    "]\n",
    "sciences = []\n",
    "\n",
    "business_farming = []\n",
    "academia_humanities = []\n",
    "law_enf_military_operator = []\n",
    "spiritual = []\n",
    "social = []\n",
    "crime = []\n",
    "event_record_other = []\n",
    "other_species = []"
   ]
  },
  {
   "cell_type": "markdown",
   "id": "78b54bd8",
   "metadata": {},
   "source": [
    "#### Creating `known_for_dict` Dictionary of Category Keys and Specific Role Lists of Values"
   ]
  },
  {
   "cell_type": "code",
   "execution_count": 63,
   "id": "3631044b",
   "metadata": {},
   "outputs": [
    {
     "data": {
      "application/javascript": [
       "\n",
       "            setTimeout(function() {\n",
       "                var nbb_cell_id = 63;\n",
       "                var nbb_unformatted_code = \"# Combining separate lists into one dictionary\\nknown_for_dict = {\\n    \\\"social\\\": social,\\n    \\\"spiritual\\\": spiritual,\\n    \\\"academia_humanities\\\": academia_humanities,\\n    \\\"business_farming\\\": business_farming,\\n    \\\"sciences\\\": sciences,\\n    \\\"sports\\\": sports,\\n    \\\"politics_govt_law\\\": politics_govt_law,\\n    \\\"law_enf_military_operator\\\": law_enf_military_operator,\\n    \\\"crime\\\": crime,\\n    \\\"event_record_other\\\": event_record_other,\\n    \\\"other_species\\\": other_species,\\n    \\\"arts\\\": arts,\\n}\";\n",
       "                var nbb_formatted_code = \"# Combining separate lists into one dictionary\\nknown_for_dict = {\\n    \\\"social\\\": social,\\n    \\\"spiritual\\\": spiritual,\\n    \\\"academia_humanities\\\": academia_humanities,\\n    \\\"business_farming\\\": business_farming,\\n    \\\"sciences\\\": sciences,\\n    \\\"sports\\\": sports,\\n    \\\"politics_govt_law\\\": politics_govt_law,\\n    \\\"law_enf_military_operator\\\": law_enf_military_operator,\\n    \\\"crime\\\": crime,\\n    \\\"event_record_other\\\": event_record_other,\\n    \\\"other_species\\\": other_species,\\n    \\\"arts\\\": arts,\\n}\";\n",
       "                var nbb_cells = Jupyter.notebook.get_cells();\n",
       "                for (var i = 0; i < nbb_cells.length; ++i) {\n",
       "                    if (nbb_cells[i].input_prompt_number == nbb_cell_id) {\n",
       "                        if (nbb_cells[i].get_text() == nbb_unformatted_code) {\n",
       "                             nbb_cells[i].set_text(nbb_formatted_code);\n",
       "                        }\n",
       "                        break;\n",
       "                    }\n",
       "                }\n",
       "            }, 500);\n",
       "            "
      ],
      "text/plain": [
       "<IPython.core.display.Javascript object>"
      ]
     },
     "metadata": {},
     "output_type": "display_data"
    }
   ],
   "source": [
    "# Combining separate lists into one dictionary\n",
    "known_for_dict = {\n",
    "    \"social\": social,\n",
    "    \"spiritual\": spiritual,\n",
    "    \"academia_humanities\": academia_humanities,\n",
    "    \"business_farming\": business_farming,\n",
    "    \"sciences\": sciences,\n",
    "    \"sports\": sports,\n",
    "    \"politics_govt_law\": politics_govt_law,\n",
    "    \"law_enf_military_operator\": law_enf_military_operator,\n",
    "    \"crime\": crime,\n",
    "    \"event_record_other\": event_record_other,\n",
    "    \"other_species\": other_species,\n",
    "    \"arts\": arts,\n",
    "}"
   ]
  },
  {
   "cell_type": "markdown",
   "id": "aaa851b6",
   "metadata": {},
   "source": [
    "#### Extracting Category from `info_2`"
   ]
  },
  {
   "cell_type": "code",
   "execution_count": 64,
   "id": "8b40b9a6",
   "metadata": {},
   "outputs": [
    {
     "name": "stdout",
     "output_type": "stream",
     "text": [
      "CPU times: total: 47.4 s\n",
      "Wall time: 47.4 s\n"
     ]
    },
    {
     "data": {
      "text/html": [
       "<div>\n",
       "<style scoped>\n",
       "    .dataframe tbody tr th:only-of-type {\n",
       "        vertical-align: middle;\n",
       "    }\n",
       "\n",
       "    .dataframe tbody tr th {\n",
       "        vertical-align: top;\n",
       "    }\n",
       "\n",
       "    .dataframe thead th {\n",
       "        text-align: right;\n",
       "    }\n",
       "</style>\n",
       "<table border=\"1\" class=\"dataframe\">\n",
       "  <thead>\n",
       "    <tr style=\"text-align: right;\">\n",
       "      <th></th>\n",
       "      <th>day</th>\n",
       "      <th>name</th>\n",
       "      <th>info</th>\n",
       "      <th>link</th>\n",
       "      <th>num_references</th>\n",
       "      <th>year</th>\n",
       "      <th>month</th>\n",
       "      <th>info_parenth</th>\n",
       "      <th>info_1</th>\n",
       "      <th>info_2</th>\n",
       "      <th>info_3</th>\n",
       "      <th>info_4</th>\n",
       "      <th>info_5</th>\n",
       "      <th>info_6</th>\n",
       "      <th>info_7</th>\n",
       "      <th>info_8</th>\n",
       "      <th>info_9</th>\n",
       "      <th>info_10</th>\n",
       "      <th>info_11</th>\n",
       "      <th>age</th>\n",
       "      <th>cause_of_death</th>\n",
       "      <th>place_1</th>\n",
       "      <th>place_2</th>\n",
       "      <th>info_parenth_copy</th>\n",
       "      <th>log_num_references</th>\n",
       "      <th>sciences</th>\n",
       "      <th>social</th>\n",
       "      <th>spiritual</th>\n",
       "      <th>academia_humanities</th>\n",
       "      <th>business_farming</th>\n",
       "      <th>arts</th>\n",
       "      <th>sports</th>\n",
       "      <th>law_enf_military_operator</th>\n",
       "      <th>politics_govt_law</th>\n",
       "      <th>crime</th>\n",
       "      <th>event_record_other</th>\n",
       "      <th>other_species</th>\n",
       "      <th>num_categories</th>\n",
       "    </tr>\n",
       "  </thead>\n",
       "  <tbody>\n",
       "    <tr>\n",
       "      <th>93326</th>\n",
       "      <td>12</td>\n",
       "      <td>Brian Boudreau</td>\n",
       "      <td>, 67, Canadian politician, Nova Scotia MLA .</td>\n",
       "      <td>https://en.wikipedia.org/wiki/Brian_Boudreau</td>\n",
       "      <td>15</td>\n",
       "      <td>2021</td>\n",
       "      <td>October</td>\n",
       "      <td></td>\n",
       "      <td>None</td>\n",
       "      <td></td>\n",
       "      <td>Nova Scotia MLA</td>\n",
       "      <td>None</td>\n",
       "      <td>None</td>\n",
       "      <td>None</td>\n",
       "      <td>None</td>\n",
       "      <td>None</td>\n",
       "      <td>None</td>\n",
       "      <td>None</td>\n",
       "      <td>None</td>\n",
       "      <td>67.0</td>\n",
       "      <td>None</td>\n",
       "      <td>Canada</td>\n",
       "      <td>None</td>\n",
       "      <td>1993 1998</td>\n",
       "      <td>2.772589</td>\n",
       "      <td>0</td>\n",
       "      <td>0</td>\n",
       "      <td>0</td>\n",
       "      <td>0</td>\n",
       "      <td>0</td>\n",
       "      <td>0</td>\n",
       "      <td>0</td>\n",
       "      <td>0</td>\n",
       "      <td>1</td>\n",
       "      <td>0</td>\n",
       "      <td>0</td>\n",
       "      <td>0</td>\n",
       "      <td>1</td>\n",
       "    </tr>\n",
       "    <tr>\n",
       "      <th>58324</th>\n",
       "      <td>15</td>\n",
       "      <td>İsmail Hakki Akansel</td>\n",
       "      <td>, 92, Turkish military officer and politician, Mayor of Istanbul .</td>\n",
       "      <td>https://en.wikipedia.org/wiki/%C4%B0smail_Hakki_Akansel</td>\n",
       "      <td>3</td>\n",
       "      <td>2016</td>\n",
       "      <td>May</td>\n",
       "      <td></td>\n",
       "      <td>None</td>\n",
       "      <td>military officer</td>\n",
       "      <td>Mayor of Istanbul</td>\n",
       "      <td>None</td>\n",
       "      <td>None</td>\n",
       "      <td>None</td>\n",
       "      <td>None</td>\n",
       "      <td>None</td>\n",
       "      <td>None</td>\n",
       "      <td>None</td>\n",
       "      <td>None</td>\n",
       "      <td>92.0</td>\n",
       "      <td>None</td>\n",
       "      <td>Turkey</td>\n",
       "      <td>None</td>\n",
       "      <td>1980 1981</td>\n",
       "      <td>1.386294</td>\n",
       "      <td>0</td>\n",
       "      <td>0</td>\n",
       "      <td>0</td>\n",
       "      <td>0</td>\n",
       "      <td>0</td>\n",
       "      <td>0</td>\n",
       "      <td>0</td>\n",
       "      <td>0</td>\n",
       "      <td>1</td>\n",
       "      <td>0</td>\n",
       "      <td>0</td>\n",
       "      <td>0</td>\n",
       "      <td>1</td>\n",
       "    </tr>\n",
       "  </tbody>\n",
       "</table>\n",
       "</div>"
      ],
      "text/plain": [
       "      day                  name  \\\n",
       "93326  12        Brian Boudreau   \n",
       "58324  15  İsmail Hakki Akansel   \n",
       "\n",
       "                                                                     info  \\\n",
       "93326                        , 67, Canadian politician, Nova Scotia MLA .   \n",
       "58324  , 92, Turkish military officer and politician, Mayor of Istanbul .   \n",
       "\n",
       "                                                          link  \\\n",
       "93326             https://en.wikipedia.org/wiki/Brian_Boudreau   \n",
       "58324  https://en.wikipedia.org/wiki/%C4%B0smail_Hakki_Akansel   \n",
       "\n",
       "       num_references  year    month info_parenth info_1            info_2  \\\n",
       "93326              15  2021  October                None                     \n",
       "58324               3  2016      May                None  military officer   \n",
       "\n",
       "                  info_3 info_4 info_5 info_6 info_7 info_8 info_9 info_10  \\\n",
       "93326    Nova Scotia MLA   None   None   None   None   None   None    None   \n",
       "58324  Mayor of Istanbul   None   None   None   None   None   None    None   \n",
       "\n",
       "      info_11   age cause_of_death place_1 place_2 info_parenth_copy  \\\n",
       "93326    None  67.0           None  Canada    None         1993 1998   \n",
       "58324    None  92.0           None  Turkey    None         1980 1981   \n",
       "\n",
       "       log_num_references  sciences  social  spiritual  academia_humanities  \\\n",
       "93326            2.772589         0       0          0                    0   \n",
       "58324            1.386294         0       0          0                    0   \n",
       "\n",
       "       business_farming  arts  sports  law_enf_military_operator  \\\n",
       "93326                 0     0       0                          0   \n",
       "58324                 0     0       0                          0   \n",
       "\n",
       "       politics_govt_law  crime  event_record_other  other_species  \\\n",
       "93326                  1      0                   0              0   \n",
       "58324                  1      0                   0              0   \n",
       "\n",
       "       num_categories  \n",
       "93326               1  \n",
       "58324               1  "
      ]
     },
     "execution_count": 64,
     "metadata": {},
     "output_type": "execute_result"
    },
    {
     "data": {
      "application/javascript": [
       "\n",
       "            setTimeout(function() {\n",
       "                var nbb_cell_id = 64;\n",
       "                var nbb_unformatted_code = \"%%time\\n\\n# Dictionary version\\nsearch_dict = known_for_dict\\n\\n# Column to check\\ncolumn = 'info_2'\\n\\n# Dataframe\\ndataframe = df[column].notna()\\n\\n# For loop to find role in column and extract it as category\\nfor category, category_lst in search_dict.items():\\n    for role in category_lst:\\n        for index in dataframe.index:\\n            item = df.loc[index, column]\\n            if item:\\n                if role in item:\\n                    df.loc[index, category] = 1\\n                    df.loc[index, column] = item.replace(role, '').strip()\\n\\n# Updating num_categories\\ndf[\\\"num_categories\\\"] = df[known_for_dict.keys()].sum(axis=1)\\n\\n# Checking a sample of rows\\ndf[df['politics_govt_law'] ==1].sample(2)\";\n",
       "                var nbb_formatted_code = \"%%time\\n\\n# Dictionary version\\nsearch_dict = known_for_dict\\n\\n# Column to check\\ncolumn = 'info_2'\\n\\n# Dataframe\\ndataframe = df[column].notna()\\n\\n# For loop to find role in column and extract it as category\\nfor category, category_lst in search_dict.items():\\n    for role in category_lst:\\n        for index in dataframe.index:\\n            item = df.loc[index, column]\\n            if item:\\n                if role in item:\\n                    df.loc[index, category] = 1\\n                    df.loc[index, column] = item.replace(role, '').strip()\\n\\n# Updating num_categories\\ndf[\\\"num_categories\\\"] = df[known_for_dict.keys()].sum(axis=1)\\n\\n# Checking a sample of rows\\ndf[df['politics_govt_law'] ==1].sample(2)\";\n",
       "                var nbb_cells = Jupyter.notebook.get_cells();\n",
       "                for (var i = 0; i < nbb_cells.length; ++i) {\n",
       "                    if (nbb_cells[i].input_prompt_number == nbb_cell_id) {\n",
       "                        if (nbb_cells[i].get_text() == nbb_unformatted_code) {\n",
       "                             nbb_cells[i].set_text(nbb_formatted_code);\n",
       "                        }\n",
       "                        break;\n",
       "                    }\n",
       "                }\n",
       "            }, 500);\n",
       "            "
      ],
      "text/plain": [
       "<IPython.core.display.Javascript object>"
      ]
     },
     "metadata": {},
     "output_type": "display_data"
    }
   ],
   "source": [
    "%%time\n",
    "\n",
    "# Dictionary version\n",
    "search_dict = known_for_dict\n",
    "\n",
    "# Column to check\n",
    "column = 'info_2'\n",
    "\n",
    "# Dataframe\n",
    "dataframe = df[column].notna()\n",
    "\n",
    "# For loop to find role in column and extract it as category\n",
    "for category, category_lst in search_dict.items():\n",
    "    for role in category_lst:\n",
    "        for index in dataframe.index:\n",
    "            item = df.loc[index, column]\n",
    "            if item:\n",
    "                if role in item:\n",
    "                    df.loc[index, category] = 1\n",
    "                    df.loc[index, column] = item.replace(role, '').strip()\n",
    "\n",
    "# Updating num_categories\n",
    "df[\"num_categories\"] = df[known_for_dict.keys()].sum(axis=1)\n",
    "\n",
    "# Checking a sample of rows\n",
    "df[df['politics_govt_law'] ==1].sample(2)"
   ]
  },
  {
   "cell_type": "markdown",
   "id": "eafff1d8",
   "metadata": {},
   "source": [
    "#### Checking the Number of Rows without a First Category"
   ]
  },
  {
   "cell_type": "code",
   "execution_count": 65,
   "id": "8d9e733c",
   "metadata": {},
   "outputs": [
    {
     "name": "stdout",
     "output_type": "stream",
     "text": [
      "There are 41858 entries without any known_for category.\n"
     ]
    },
    {
     "data": {
      "application/javascript": [
       "\n",
       "            setTimeout(function() {\n",
       "                var nbb_cell_id = 65;\n",
       "                var nbb_unformatted_code = \"#### Checking the number of rows without a first category\\nprint(\\n    f'There are {len(df[df[\\\"num_categories\\\"]==0])} entries without any known_for category.'\\n)\";\n",
       "                var nbb_formatted_code = \"#### Checking the number of rows without a first category\\nprint(\\n    f'There are {len(df[df[\\\"num_categories\\\"]==0])} entries without any known_for category.'\\n)\";\n",
       "                var nbb_cells = Jupyter.notebook.get_cells();\n",
       "                for (var i = 0; i < nbb_cells.length; ++i) {\n",
       "                    if (nbb_cells[i].input_prompt_number == nbb_cell_id) {\n",
       "                        if (nbb_cells[i].get_text() == nbb_unformatted_code) {\n",
       "                             nbb_cells[i].set_text(nbb_formatted_code);\n",
       "                        }\n",
       "                        break;\n",
       "                    }\n",
       "                }\n",
       "            }, 500);\n",
       "            "
      ],
      "text/plain": [
       "<IPython.core.display.Javascript object>"
      ]
     },
     "metadata": {},
     "output_type": "display_data"
    }
   ],
   "source": [
    "#### Checking the number of rows without a first category\n",
    "print(\n",
    "    f'There are {len(df[df[\"num_categories\"]==0])} entries without any known_for category.'\n",
    ")"
   ]
  },
  {
   "cell_type": "markdown",
   "id": "022d695e",
   "metadata": {},
   "source": [
    "#### Observations:\n",
    "- We will proceed to rebuild `known_for_dict` for the next iteration."
   ]
  },
  {
   "cell_type": "markdown",
   "id": "1de8d38a",
   "metadata": {},
   "source": [
    "#### Finding `known_for` Roles in `info_2`"
   ]
  },
  {
   "cell_type": "code",
   "execution_count": 66,
   "id": "9cb5dd54",
   "metadata": {},
   "outputs": [
    {
     "data": {
      "application/javascript": [
       "\n",
       "            setTimeout(function() {\n",
       "                var nbb_cell_id = 66;\n",
       "                var nbb_unformatted_code = \"# Obtaining values for column and their counts\\nroles_list = df[\\\"info_2\\\"].value_counts(ascending=True).index.tolist()\";\n",
       "                var nbb_formatted_code = \"# Obtaining values for column and their counts\\nroles_list = df[\\\"info_2\\\"].value_counts(ascending=True).index.tolist()\";\n",
       "                var nbb_cells = Jupyter.notebook.get_cells();\n",
       "                for (var i = 0; i < nbb_cells.length; ++i) {\n",
       "                    if (nbb_cells[i].input_prompt_number == nbb_cell_id) {\n",
       "                        if (nbb_cells[i].get_text() == nbb_unformatted_code) {\n",
       "                             nbb_cells[i].set_text(nbb_formatted_code);\n",
       "                        }\n",
       "                        break;\n",
       "                    }\n",
       "                }\n",
       "            }, 500);\n",
       "            "
      ],
      "text/plain": [
       "<IPython.core.display.Javascript object>"
      ]
     },
     "metadata": {},
     "output_type": "display_data"
    }
   ],
   "source": [
    "# Obtaining values for column and their counts\n",
    "roles_list = df[\"info_2\"].value_counts(ascending=True).index.tolist()"
   ]
  },
  {
   "cell_type": "code",
   "execution_count": 67,
   "id": "dd63cbf7",
   "metadata": {},
   "outputs": [
    {
     "data": {
      "application/javascript": [
       "\n",
       "            setTimeout(function() {\n",
       "                var nbb_cell_id = 67;\n",
       "                var nbb_unformatted_code = \"# # Code to check each value\\n# roles_list.pop()\";\n",
       "                var nbb_formatted_code = \"# # Code to check each value\\n# roles_list.pop()\";\n",
       "                var nbb_cells = Jupyter.notebook.get_cells();\n",
       "                for (var i = 0; i < nbb_cells.length; ++i) {\n",
       "                    if (nbb_cells[i].input_prompt_number == nbb_cell_id) {\n",
       "                        if (nbb_cells[i].get_text() == nbb_unformatted_code) {\n",
       "                             nbb_cells[i].set_text(nbb_formatted_code);\n",
       "                        }\n",
       "                        break;\n",
       "                    }\n",
       "                }\n",
       "            }, 500);\n",
       "            "
      ],
      "text/plain": [
       "<IPython.core.display.Javascript object>"
      ]
     },
     "metadata": {},
     "output_type": "display_data"
    }
   ],
   "source": [
    "# # Code to check each value\n",
    "# roles_list.pop()"
   ]
  },
  {
   "cell_type": "code",
   "execution_count": 68,
   "id": "e5bb9835",
   "metadata": {},
   "outputs": [
    {
     "data": {
      "application/javascript": [
       "\n",
       "            setTimeout(function() {\n",
       "                var nbb_cell_id = 68;\n",
       "                var nbb_unformatted_code = \"# # Create specific_roles_list for above popped value\\n# specific_roles_list = (\\n#     df.loc[\\n#         [index for index in df.index if \\\"military officer\\\" in df.loc[index, \\\"info\\\"]],\\n#         \\\"info_2\\\",\\n#     ]\\n#     .value_counts()\\n#     .index.tolist()\\n# )\";\n",
       "                var nbb_formatted_code = \"# # Create specific_roles_list for above popped value\\n# specific_roles_list = (\\n#     df.loc[\\n#         [index for index in df.index if \\\"military officer\\\" in df.loc[index, \\\"info\\\"]],\\n#         \\\"info_2\\\",\\n#     ]\\n#     .value_counts()\\n#     .index.tolist()\\n# )\";\n",
       "                var nbb_cells = Jupyter.notebook.get_cells();\n",
       "                for (var i = 0; i < nbb_cells.length; ++i) {\n",
       "                    if (nbb_cells[i].input_prompt_number == nbb_cell_id) {\n",
       "                        if (nbb_cells[i].get_text() == nbb_unformatted_code) {\n",
       "                             nbb_cells[i].set_text(nbb_formatted_code);\n",
       "                        }\n",
       "                        break;\n",
       "                    }\n",
       "                }\n",
       "            }, 500);\n",
       "            "
      ],
      "text/plain": [
       "<IPython.core.display.Javascript object>"
      ]
     },
     "metadata": {},
     "output_type": "display_data"
    }
   ],
   "source": [
    "# # Create specific_roles_list for above popped value\n",
    "# specific_roles_list = (\n",
    "#     df.loc[\n",
    "#         [index for index in df.index if \"military officer\" in df.loc[index, \"info\"]],\n",
    "#         \"info_2\",\n",
    "#     ]\n",
    "#     .value_counts()\n",
    "#     .index.tolist()\n",
    "# )"
   ]
  },
  {
   "cell_type": "code",
   "execution_count": 69,
   "id": "497e71e6",
   "metadata": {},
   "outputs": [
    {
     "data": {
      "application/javascript": [
       "\n",
       "            setTimeout(function() {\n",
       "                var nbb_cell_id = 69;\n",
       "                var nbb_unformatted_code = \"# # Code to check each specific value\\n# specific_roles_list.pop()\";\n",
       "                var nbb_formatted_code = \"# # Code to check each specific value\\n# specific_roles_list.pop()\";\n",
       "                var nbb_cells = Jupyter.notebook.get_cells();\n",
       "                for (var i = 0; i < nbb_cells.length; ++i) {\n",
       "                    if (nbb_cells[i].input_prompt_number == nbb_cell_id) {\n",
       "                        if (nbb_cells[i].get_text() == nbb_unformatted_code) {\n",
       "                             nbb_cells[i].set_text(nbb_formatted_code);\n",
       "                        }\n",
       "                        break;\n",
       "                    }\n",
       "                }\n",
       "            }, 500);\n",
       "            "
      ],
      "text/plain": [
       "<IPython.core.display.Javascript object>"
      ]
     },
     "metadata": {},
     "output_type": "display_data"
    }
   ],
   "source": [
    "# # Code to check each specific value\n",
    "# specific_roles_list.pop()"
   ]
  },
  {
   "cell_type": "code",
   "execution_count": 70,
   "id": "a0ec4da7",
   "metadata": {},
   "outputs": [
    {
     "data": {
      "application/javascript": [
       "\n",
       "            setTimeout(function() {\n",
       "                var nbb_cell_id = 70;\n",
       "                var nbb_unformatted_code = \"# # Example code to quick-screen values that may overlap categories\\n# df.loc[[index for index in df.index if \\\"coup leader\\\" in df.loc[index, \\\"info\\\"]]]\";\n",
       "                var nbb_formatted_code = \"# # Example code to quick-screen values that may overlap categories\\n# df.loc[[index for index in df.index if \\\"coup leader\\\" in df.loc[index, \\\"info\\\"]]]\";\n",
       "                var nbb_cells = Jupyter.notebook.get_cells();\n",
       "                for (var i = 0; i < nbb_cells.length; ++i) {\n",
       "                    if (nbb_cells[i].input_prompt_number == nbb_cell_id) {\n",
       "                        if (nbb_cells[i].get_text() == nbb_unformatted_code) {\n",
       "                             nbb_cells[i].set_text(nbb_formatted_code);\n",
       "                        }\n",
       "                        break;\n",
       "                    }\n",
       "                }\n",
       "            }, 500);\n",
       "            "
      ],
      "text/plain": [
       "<IPython.core.display.Javascript object>"
      ]
     },
     "metadata": {},
     "output_type": "display_data"
    }
   ],
   "source": [
    "# # Example code to quick-screen values that may overlap categories\n",
    "# df.loc[[index for index in df.index if \"coup leader\" in df.loc[index, \"info\"]]]"
   ]
  },
  {
   "cell_type": "code",
   "execution_count": 71,
   "id": "f16af960",
   "metadata": {},
   "outputs": [
    {
     "data": {
      "application/javascript": [
       "\n",
       "            setTimeout(function() {\n",
       "                var nbb_cell_id = 71;\n",
       "                var nbb_unformatted_code = \"# # Example code to quick-check a specific entry\\n# df[df[\\\"info_2\\\"] == \\\"Karen military officer\\\"]\";\n",
       "                var nbb_formatted_code = \"# # Example code to quick-check a specific entry\\n# df[df[\\\"info_2\\\"] == \\\"Karen military officer\\\"]\";\n",
       "                var nbb_cells = Jupyter.notebook.get_cells();\n",
       "                for (var i = 0; i < nbb_cells.length; ++i) {\n",
       "                    if (nbb_cells[i].input_prompt_number == nbb_cell_id) {\n",
       "                        if (nbb_cells[i].get_text() == nbb_unformatted_code) {\n",
       "                             nbb_cells[i].set_text(nbb_formatted_code);\n",
       "                        }\n",
       "                        break;\n",
       "                    }\n",
       "                }\n",
       "            }, 500);\n",
       "            "
      ],
      "text/plain": [
       "<IPython.core.display.Javascript object>"
      ]
     },
     "metadata": {},
     "output_type": "display_data"
    }
   ],
   "source": [
    "# # Example code to quick-check a specific entry\n",
    "# df[df[\"info_2\"] == \"Karen military officer\"]"
   ]
  },
  {
   "cell_type": "markdown",
   "id": "fb410b51",
   "metadata": {},
   "source": [
    "#### Creating Lists for Each `known_for` Category"
   ]
  },
  {
   "cell_type": "code",
   "execution_count": 72,
   "id": "27fb0aa7",
   "metadata": {},
   "outputs": [
    {
     "data": {
      "application/javascript": [
       "\n",
       "            setTimeout(function() {\n",
       "                var nbb_cell_id = 72;\n",
       "                var nbb_unformatted_code = \"# Creating lists for each category\\npolitics_govt_law = []\\n\\narts = []\\nsports = []\\nsciences = []\\n\\nbusiness_farming = []\\nacademia_humanities = []\\nlaw_enf_military_operator = [\\n    \\\"WWII military officer\\\",\\n    \\\"military officer and intelligence official\\\",\\n    \\\"Karen military officer\\\",\\n    \\\"Air Force military officer\\\",\\n    \\\"military officer and war veteran\\\",\\n    \\\"Resistance member and military officer\\\",\\n    \\\"military officer and resistance fighter\\\",\\n    \\\"military officer and National Hero of\\\",\\n    \\\"military officer of World War I and World War II\\\",\\n    \\\"and later military officer\\\",\\n    \\\"military officer and veteran affairs\\\",\\n    \\\"CIA paramilitary officer\\\",\\n    \\\"military officer and Hero of the Union\\\",\\n    \\\"military officer and coup leader\\\",\\n    \\\"military officer and pilot\\\",\\n    \\\"and military officer\\\",\\n    \\\"military officer and\\\",\\n    \\\"military officer\\\",\\n]\\nspiritual = []\\nsocial = []\\ncrime = [\\n    \\\"human trafficker\\\",\\n]\\nevent_record_other = []\\nother_species = []\";\n",
       "                var nbb_formatted_code = \"# Creating lists for each category\\npolitics_govt_law = []\\n\\narts = []\\nsports = []\\nsciences = []\\n\\nbusiness_farming = []\\nacademia_humanities = []\\nlaw_enf_military_operator = [\\n    \\\"WWII military officer\\\",\\n    \\\"military officer and intelligence official\\\",\\n    \\\"Karen military officer\\\",\\n    \\\"Air Force military officer\\\",\\n    \\\"military officer and war veteran\\\",\\n    \\\"Resistance member and military officer\\\",\\n    \\\"military officer and resistance fighter\\\",\\n    \\\"military officer and National Hero of\\\",\\n    \\\"military officer of World War I and World War II\\\",\\n    \\\"and later military officer\\\",\\n    \\\"military officer and veteran affairs\\\",\\n    \\\"CIA paramilitary officer\\\",\\n    \\\"military officer and Hero of the Union\\\",\\n    \\\"military officer and coup leader\\\",\\n    \\\"military officer and pilot\\\",\\n    \\\"and military officer\\\",\\n    \\\"military officer and\\\",\\n    \\\"military officer\\\",\\n]\\nspiritual = []\\nsocial = []\\ncrime = [\\n    \\\"human trafficker\\\",\\n]\\nevent_record_other = []\\nother_species = []\";\n",
       "                var nbb_cells = Jupyter.notebook.get_cells();\n",
       "                for (var i = 0; i < nbb_cells.length; ++i) {\n",
       "                    if (nbb_cells[i].input_prompt_number == nbb_cell_id) {\n",
       "                        if (nbb_cells[i].get_text() == nbb_unformatted_code) {\n",
       "                             nbb_cells[i].set_text(nbb_formatted_code);\n",
       "                        }\n",
       "                        break;\n",
       "                    }\n",
       "                }\n",
       "            }, 500);\n",
       "            "
      ],
      "text/plain": [
       "<IPython.core.display.Javascript object>"
      ]
     },
     "metadata": {},
     "output_type": "display_data"
    }
   ],
   "source": [
    "# Creating lists for each category\n",
    "politics_govt_law = []\n",
    "\n",
    "arts = []\n",
    "sports = []\n",
    "sciences = []\n",
    "\n",
    "business_farming = []\n",
    "academia_humanities = []\n",
    "law_enf_military_operator = [\n",
    "    \"WWII military officer\",\n",
    "    \"military officer and intelligence official\",\n",
    "    \"Karen military officer\",\n",
    "    \"Air Force military officer\",\n",
    "    \"military officer and war veteran\",\n",
    "    \"Resistance member and military officer\",\n",
    "    \"military officer and resistance fighter\",\n",
    "    \"military officer and National Hero of\",\n",
    "    \"military officer of World War I and World War II\",\n",
    "    \"and later military officer\",\n",
    "    \"military officer and veteran affairs\",\n",
    "    \"CIA paramilitary officer\",\n",
    "    \"military officer and Hero of the Union\",\n",
    "    \"military officer and coup leader\",\n",
    "    \"military officer and pilot\",\n",
    "    \"and military officer\",\n",
    "    \"military officer and\",\n",
    "    \"military officer\",\n",
    "]\n",
    "spiritual = []\n",
    "social = []\n",
    "crime = [\n",
    "    \"human trafficker\",\n",
    "]\n",
    "event_record_other = []\n",
    "other_species = []"
   ]
  },
  {
   "cell_type": "markdown",
   "id": "47b0b360",
   "metadata": {},
   "source": [
    "#### Creating `known_for_dict` Dictionary of Category Keys and Specific Role Lists of Values"
   ]
  },
  {
   "cell_type": "code",
   "execution_count": 73,
   "id": "bc93da61",
   "metadata": {},
   "outputs": [
    {
     "data": {
      "application/javascript": [
       "\n",
       "            setTimeout(function() {\n",
       "                var nbb_cell_id = 73;\n",
       "                var nbb_unformatted_code = \"# Combining separate lists into one dictionary\\nknown_for_dict = {\\n    \\\"social\\\": social,\\n    \\\"spiritual\\\": spiritual,\\n    \\\"academia_humanities\\\": academia_humanities,\\n    \\\"business_farming\\\": business_farming,\\n    \\\"sciences\\\": sciences,\\n    \\\"politics_govt_law\\\": politics_govt_law,\\n    \\\"law_enf_military_operator\\\": law_enf_military_operator,\\n    \\\"crime\\\": crime,\\n    \\\"event_record_other\\\": event_record_other,\\n    \\\"other_species\\\": other_species,\\n    \\\"arts\\\": arts,\\n    \\\"sports\\\": sports,\\n}\";\n",
       "                var nbb_formatted_code = \"# Combining separate lists into one dictionary\\nknown_for_dict = {\\n    \\\"social\\\": social,\\n    \\\"spiritual\\\": spiritual,\\n    \\\"academia_humanities\\\": academia_humanities,\\n    \\\"business_farming\\\": business_farming,\\n    \\\"sciences\\\": sciences,\\n    \\\"politics_govt_law\\\": politics_govt_law,\\n    \\\"law_enf_military_operator\\\": law_enf_military_operator,\\n    \\\"crime\\\": crime,\\n    \\\"event_record_other\\\": event_record_other,\\n    \\\"other_species\\\": other_species,\\n    \\\"arts\\\": arts,\\n    \\\"sports\\\": sports,\\n}\";\n",
       "                var nbb_cells = Jupyter.notebook.get_cells();\n",
       "                for (var i = 0; i < nbb_cells.length; ++i) {\n",
       "                    if (nbb_cells[i].input_prompt_number == nbb_cell_id) {\n",
       "                        if (nbb_cells[i].get_text() == nbb_unformatted_code) {\n",
       "                             nbb_cells[i].set_text(nbb_formatted_code);\n",
       "                        }\n",
       "                        break;\n",
       "                    }\n",
       "                }\n",
       "            }, 500);\n",
       "            "
      ],
      "text/plain": [
       "<IPython.core.display.Javascript object>"
      ]
     },
     "metadata": {},
     "output_type": "display_data"
    }
   ],
   "source": [
    "# Combining separate lists into one dictionary\n",
    "known_for_dict = {\n",
    "    \"social\": social,\n",
    "    \"spiritual\": spiritual,\n",
    "    \"academia_humanities\": academia_humanities,\n",
    "    \"business_farming\": business_farming,\n",
    "    \"sciences\": sciences,\n",
    "    \"politics_govt_law\": politics_govt_law,\n",
    "    \"law_enf_military_operator\": law_enf_military_operator,\n",
    "    \"crime\": crime,\n",
    "    \"event_record_other\": event_record_other,\n",
    "    \"other_species\": other_species,\n",
    "    \"arts\": arts,\n",
    "    \"sports\": sports,\n",
    "}"
   ]
  },
  {
   "cell_type": "markdown",
   "id": "f2e27041",
   "metadata": {},
   "source": [
    "#### Extracting Category from `info_2`"
   ]
  },
  {
   "cell_type": "code",
   "execution_count": 74,
   "id": "537a5ad7",
   "metadata": {},
   "outputs": [
    {
     "name": "stdout",
     "output_type": "stream",
     "text": [
      "CPU times: total: 10.6 s\n",
      "Wall time: 10.6 s\n"
     ]
    },
    {
     "data": {
      "text/html": [
       "<div>\n",
       "<style scoped>\n",
       "    .dataframe tbody tr th:only-of-type {\n",
       "        vertical-align: middle;\n",
       "    }\n",
       "\n",
       "    .dataframe tbody tr th {\n",
       "        vertical-align: top;\n",
       "    }\n",
       "\n",
       "    .dataframe thead th {\n",
       "        text-align: right;\n",
       "    }\n",
       "</style>\n",
       "<table border=\"1\" class=\"dataframe\">\n",
       "  <thead>\n",
       "    <tr style=\"text-align: right;\">\n",
       "      <th></th>\n",
       "      <th>day</th>\n",
       "      <th>name</th>\n",
       "      <th>info</th>\n",
       "      <th>link</th>\n",
       "      <th>num_references</th>\n",
       "      <th>year</th>\n",
       "      <th>month</th>\n",
       "      <th>info_parenth</th>\n",
       "      <th>info_1</th>\n",
       "      <th>info_2</th>\n",
       "      <th>info_3</th>\n",
       "      <th>info_4</th>\n",
       "      <th>info_5</th>\n",
       "      <th>info_6</th>\n",
       "      <th>info_7</th>\n",
       "      <th>info_8</th>\n",
       "      <th>info_9</th>\n",
       "      <th>info_10</th>\n",
       "      <th>info_11</th>\n",
       "      <th>age</th>\n",
       "      <th>cause_of_death</th>\n",
       "      <th>place_1</th>\n",
       "      <th>place_2</th>\n",
       "      <th>info_parenth_copy</th>\n",
       "      <th>log_num_references</th>\n",
       "      <th>sciences</th>\n",
       "      <th>social</th>\n",
       "      <th>spiritual</th>\n",
       "      <th>academia_humanities</th>\n",
       "      <th>business_farming</th>\n",
       "      <th>arts</th>\n",
       "      <th>sports</th>\n",
       "      <th>law_enf_military_operator</th>\n",
       "      <th>politics_govt_law</th>\n",
       "      <th>crime</th>\n",
       "      <th>event_record_other</th>\n",
       "      <th>other_species</th>\n",
       "      <th>num_categories</th>\n",
       "    </tr>\n",
       "  </thead>\n",
       "  <tbody>\n",
       "    <tr>\n",
       "      <th>87271</th>\n",
       "      <td>31</td>\n",
       "      <td>Abdul Hamid Mahmud</td>\n",
       "      <td>, 79, Indonesian military officer and politician, regent of Malang .</td>\n",
       "      <td>https://en.wikipedia.org/wiki/Abdul_Hamid_Mahmud</td>\n",
       "      <td>3</td>\n",
       "      <td>2021</td>\n",
       "      <td>January</td>\n",
       "      <td>and vice governor of East Java</td>\n",
       "      <td>None</td>\n",
       "      <td></td>\n",
       "      <td>regent of Malang</td>\n",
       "      <td>None</td>\n",
       "      <td>None</td>\n",
       "      <td>None</td>\n",
       "      <td>None</td>\n",
       "      <td>None</td>\n",
       "      <td>None</td>\n",
       "      <td>None</td>\n",
       "      <td>None</td>\n",
       "      <td>79.0</td>\n",
       "      <td>None</td>\n",
       "      <td>Indonesia</td>\n",
       "      <td>None</td>\n",
       "      <td>1985 1995 and vice governor of East Java 1995 2000</td>\n",
       "      <td>1.386294</td>\n",
       "      <td>0</td>\n",
       "      <td>0</td>\n",
       "      <td>0</td>\n",
       "      <td>0</td>\n",
       "      <td>0</td>\n",
       "      <td>0</td>\n",
       "      <td>0</td>\n",
       "      <td>1</td>\n",
       "      <td>1</td>\n",
       "      <td>0</td>\n",
       "      <td>0</td>\n",
       "      <td>0</td>\n",
       "      <td>2</td>\n",
       "    </tr>\n",
       "    <tr>\n",
       "      <th>70718</th>\n",
       "      <td>8</td>\n",
       "      <td>Richard Vincent, Baron Vincent of Coleshill</td>\n",
       "      <td>, 87, British military officer and life peer.</td>\n",
       "      <td>https://en.wikipedia.org/wiki/Richard_Vincent,_Baron_Vincent_of_Coleshill</td>\n",
       "      <td>34</td>\n",
       "      <td>2018</td>\n",
       "      <td>September</td>\n",
       "      <td>None</td>\n",
       "      <td>None</td>\n",
       "      <td>life peer</td>\n",
       "      <td>None</td>\n",
       "      <td>None</td>\n",
       "      <td>None</td>\n",
       "      <td>None</td>\n",
       "      <td>None</td>\n",
       "      <td>None</td>\n",
       "      <td>None</td>\n",
       "      <td>None</td>\n",
       "      <td>None</td>\n",
       "      <td>87.0</td>\n",
       "      <td>None</td>\n",
       "      <td>United Kingdom of Great Britain and Northern Ireland</td>\n",
       "      <td>None</td>\n",
       "      <td>None</td>\n",
       "      <td>3.555348</td>\n",
       "      <td>0</td>\n",
       "      <td>0</td>\n",
       "      <td>0</td>\n",
       "      <td>0</td>\n",
       "      <td>0</td>\n",
       "      <td>0</td>\n",
       "      <td>0</td>\n",
       "      <td>1</td>\n",
       "      <td>0</td>\n",
       "      <td>0</td>\n",
       "      <td>0</td>\n",
       "      <td>0</td>\n",
       "      <td>1</td>\n",
       "    </tr>\n",
       "  </tbody>\n",
       "</table>\n",
       "</div>"
      ],
      "text/plain": [
       "      day                                         name  \\\n",
       "87271  31                           Abdul Hamid Mahmud   \n",
       "70718   8  Richard Vincent, Baron Vincent of Coleshill   \n",
       "\n",
       "                                                                       info  \\\n",
       "87271  , 79, Indonesian military officer and politician, regent of Malang .   \n",
       "70718                         , 87, British military officer and life peer.   \n",
       "\n",
       "                                                                            link  \\\n",
       "87271                           https://en.wikipedia.org/wiki/Abdul_Hamid_Mahmud   \n",
       "70718  https://en.wikipedia.org/wiki/Richard_Vincent,_Baron_Vincent_of_Coleshill   \n",
       "\n",
       "       num_references  year      month                    info_parenth info_1  \\\n",
       "87271               3  2021    January  and vice governor of East Java   None   \n",
       "70718              34  2018  September                            None   None   \n",
       "\n",
       "          info_2            info_3 info_4 info_5 info_6 info_7 info_8 info_9  \\\n",
       "87271             regent of Malang   None   None   None   None   None   None   \n",
       "70718  life peer              None   None   None   None   None   None   None   \n",
       "\n",
       "      info_10 info_11   age cause_of_death  \\\n",
       "87271    None    None  79.0           None   \n",
       "70718    None    None  87.0           None   \n",
       "\n",
       "                                                    place_1 place_2  \\\n",
       "87271                                             Indonesia    None   \n",
       "70718  United Kingdom of Great Britain and Northern Ireland    None   \n",
       "\n",
       "                                        info_parenth_copy  log_num_references  \\\n",
       "87271  1985 1995 and vice governor of East Java 1995 2000            1.386294   \n",
       "70718                                                None            3.555348   \n",
       "\n",
       "       sciences  social  spiritual  academia_humanities  business_farming  \\\n",
       "87271         0       0          0                    0                 0   \n",
       "70718         0       0          0                    0                 0   \n",
       "\n",
       "       arts  sports  law_enf_military_operator  politics_govt_law  crime  \\\n",
       "87271     0       0                          1                  1      0   \n",
       "70718     0       0                          1                  0      0   \n",
       "\n",
       "       event_record_other  other_species  num_categories  \n",
       "87271                   0              0               2  \n",
       "70718                   0              0               1  "
      ]
     },
     "execution_count": 74,
     "metadata": {},
     "output_type": "execute_result"
    },
    {
     "data": {
      "application/javascript": [
       "\n",
       "            setTimeout(function() {\n",
       "                var nbb_cell_id = 74;\n",
       "                var nbb_unformatted_code = \"%%time\\n\\n# Dictionary version\\nsearch_dict = known_for_dict\\n\\n# Column to check\\ncolumn = 'info_2'\\n\\n# Dataframe\\ndataframe = df[column].notna()\\n\\n# For loop to find role in column and extract it as category\\nfor category, category_lst in search_dict.items():\\n    for role in category_lst:\\n        for index in dataframe.index:\\n            item = df.loc[index, column]\\n            if item:\\n                if role in item:\\n                    df.loc[index, category] = 1\\n                    df.loc[index, column] = item.replace(role, '').strip()\\n\\n# Updating num_categories\\ndf[\\\"num_categories\\\"] = df[known_for_dict.keys()].sum(axis=1)\\n\\n# Checking a sample of rows\\ndf[df['law_enf_military_operator'] ==1].sample(2)\";\n",
       "                var nbb_formatted_code = \"%%time\\n\\n# Dictionary version\\nsearch_dict = known_for_dict\\n\\n# Column to check\\ncolumn = 'info_2'\\n\\n# Dataframe\\ndataframe = df[column].notna()\\n\\n# For loop to find role in column and extract it as category\\nfor category, category_lst in search_dict.items():\\n    for role in category_lst:\\n        for index in dataframe.index:\\n            item = df.loc[index, column]\\n            if item:\\n                if role in item:\\n                    df.loc[index, category] = 1\\n                    df.loc[index, column] = item.replace(role, '').strip()\\n\\n# Updating num_categories\\ndf[\\\"num_categories\\\"] = df[known_for_dict.keys()].sum(axis=1)\\n\\n# Checking a sample of rows\\ndf[df['law_enf_military_operator'] ==1].sample(2)\";\n",
       "                var nbb_cells = Jupyter.notebook.get_cells();\n",
       "                for (var i = 0; i < nbb_cells.length; ++i) {\n",
       "                    if (nbb_cells[i].input_prompt_number == nbb_cell_id) {\n",
       "                        if (nbb_cells[i].get_text() == nbb_unformatted_code) {\n",
       "                             nbb_cells[i].set_text(nbb_formatted_code);\n",
       "                        }\n",
       "                        break;\n",
       "                    }\n",
       "                }\n",
       "            }, 500);\n",
       "            "
      ],
      "text/plain": [
       "<IPython.core.display.Javascript object>"
      ]
     },
     "metadata": {},
     "output_type": "display_data"
    }
   ],
   "source": [
    "%%time\n",
    "\n",
    "# Dictionary version\n",
    "search_dict = known_for_dict\n",
    "\n",
    "# Column to check\n",
    "column = 'info_2'\n",
    "\n",
    "# Dataframe\n",
    "dataframe = df[column].notna()\n",
    "\n",
    "# For loop to find role in column and extract it as category\n",
    "for category, category_lst in search_dict.items():\n",
    "    for role in category_lst:\n",
    "        for index in dataframe.index:\n",
    "            item = df.loc[index, column]\n",
    "            if item:\n",
    "                if role in item:\n",
    "                    df.loc[index, category] = 1\n",
    "                    df.loc[index, column] = item.replace(role, '').strip()\n",
    "\n",
    "# Updating num_categories\n",
    "df[\"num_categories\"] = df[known_for_dict.keys()].sum(axis=1)\n",
    "\n",
    "# Checking a sample of rows\n",
    "df[df['law_enf_military_operator'] ==1].sample(2)"
   ]
  },
  {
   "cell_type": "markdown",
   "id": "05c49a38",
   "metadata": {},
   "source": [
    "#### Checking the Number of Rows without a First Category"
   ]
  },
  {
   "cell_type": "code",
   "execution_count": 75,
   "id": "d16a6e31",
   "metadata": {},
   "outputs": [
    {
     "name": "stdout",
     "output_type": "stream",
     "text": [
      "There are 41548 entries without any known_for category.\n"
     ]
    },
    {
     "data": {
      "application/javascript": [
       "\n",
       "            setTimeout(function() {\n",
       "                var nbb_cell_id = 75;\n",
       "                var nbb_unformatted_code = \"#### Checking the number of rows without a first category\\nprint(\\n    f'There are {len(df[df[\\\"num_categories\\\"]==0])} entries without any known_for category.'\\n)\";\n",
       "                var nbb_formatted_code = \"#### Checking the number of rows without a first category\\nprint(\\n    f'There are {len(df[df[\\\"num_categories\\\"]==0])} entries without any known_for category.'\\n)\";\n",
       "                var nbb_cells = Jupyter.notebook.get_cells();\n",
       "                for (var i = 0; i < nbb_cells.length; ++i) {\n",
       "                    if (nbb_cells[i].input_prompt_number == nbb_cell_id) {\n",
       "                        if (nbb_cells[i].get_text() == nbb_unformatted_code) {\n",
       "                             nbb_cells[i].set_text(nbb_formatted_code);\n",
       "                        }\n",
       "                        break;\n",
       "                    }\n",
       "                }\n",
       "            }, 500);\n",
       "            "
      ],
      "text/plain": [
       "<IPython.core.display.Javascript object>"
      ]
     },
     "metadata": {},
     "output_type": "display_data"
    }
   ],
   "source": [
    "#### Checking the number of rows without a first category\n",
    "print(\n",
    "    f'There are {len(df[df[\"num_categories\"]==0])} entries without any known_for category.'\n",
    ")"
   ]
  },
  {
   "cell_type": "markdown",
   "id": "7e74e1fb",
   "metadata": {},
   "source": [
    "#### Observations:\n",
    "- We will proceed to rebuild `known_for_dict` for the next iteration."
   ]
  },
  {
   "cell_type": "markdown",
   "id": "91c5ce98",
   "metadata": {},
   "source": [
    "#### Finding `known_for` Roles in `info_2`"
   ]
  },
  {
   "cell_type": "code",
   "execution_count": 76,
   "id": "92f2ad33",
   "metadata": {},
   "outputs": [
    {
     "data": {
      "application/javascript": [
       "\n",
       "            setTimeout(function() {\n",
       "                var nbb_cell_id = 76;\n",
       "                var nbb_unformatted_code = \"# Obtaining values for column and their counts\\nroles_list = df[\\\"info_2\\\"].value_counts(ascending=True).index.tolist()\";\n",
       "                var nbb_formatted_code = \"# Obtaining values for column and their counts\\nroles_list = df[\\\"info_2\\\"].value_counts(ascending=True).index.tolist()\";\n",
       "                var nbb_cells = Jupyter.notebook.get_cells();\n",
       "                for (var i = 0; i < nbb_cells.length; ++i) {\n",
       "                    if (nbb_cells[i].input_prompt_number == nbb_cell_id) {\n",
       "                        if (nbb_cells[i].get_text() == nbb_unformatted_code) {\n",
       "                             nbb_cells[i].set_text(nbb_formatted_code);\n",
       "                        }\n",
       "                        break;\n",
       "                    }\n",
       "                }\n",
       "            }, 500);\n",
       "            "
      ],
      "text/plain": [
       "<IPython.core.display.Javascript object>"
      ]
     },
     "metadata": {},
     "output_type": "display_data"
    }
   ],
   "source": [
    "# Obtaining values for column and their counts\n",
    "roles_list = df[\"info_2\"].value_counts(ascending=True).index.tolist()"
   ]
  },
  {
   "cell_type": "code",
   "execution_count": 77,
   "id": "329ec9a3",
   "metadata": {},
   "outputs": [
    {
     "data": {
      "application/javascript": [
       "\n",
       "            setTimeout(function() {\n",
       "                var nbb_cell_id = 77;\n",
       "                var nbb_unformatted_code = \"# # Code to check each value\\n# roles_list.pop()\";\n",
       "                var nbb_formatted_code = \"# # Code to check each value\\n# roles_list.pop()\";\n",
       "                var nbb_cells = Jupyter.notebook.get_cells();\n",
       "                for (var i = 0; i < nbb_cells.length; ++i) {\n",
       "                    if (nbb_cells[i].input_prompt_number == nbb_cell_id) {\n",
       "                        if (nbb_cells[i].get_text() == nbb_unformatted_code) {\n",
       "                             nbb_cells[i].set_text(nbb_formatted_code);\n",
       "                        }\n",
       "                        break;\n",
       "                    }\n",
       "                }\n",
       "            }, 500);\n",
       "            "
      ],
      "text/plain": [
       "<IPython.core.display.Javascript object>"
      ]
     },
     "metadata": {},
     "output_type": "display_data"
    }
   ],
   "source": [
    "# # Code to check each value\n",
    "# roles_list.pop()"
   ]
  },
  {
   "cell_type": "code",
   "execution_count": 78,
   "id": "76bd692c",
   "metadata": {},
   "outputs": [
    {
     "data": {
      "application/javascript": [
       "\n",
       "            setTimeout(function() {\n",
       "                var nbb_cell_id = 78;\n",
       "                var nbb_unformatted_code = \"# # Create specific_roles_list for above popped value\\n# specific_roles_list = (\\n#     df.loc[\\n#         [index for index in df.index if \\\"jurist\\\" in df.loc[index, \\\"info\\\"]], \\\"info_2\\\",\\n#     ]\\n#     .value_counts()\\n#     .index.tolist()\\n# )\";\n",
       "                var nbb_formatted_code = \"# # Create specific_roles_list for above popped value\\n# specific_roles_list = (\\n#     df.loc[\\n#         [index for index in df.index if \\\"jurist\\\" in df.loc[index, \\\"info\\\"]], \\\"info_2\\\",\\n#     ]\\n#     .value_counts()\\n#     .index.tolist()\\n# )\";\n",
       "                var nbb_cells = Jupyter.notebook.get_cells();\n",
       "                for (var i = 0; i < nbb_cells.length; ++i) {\n",
       "                    if (nbb_cells[i].input_prompt_number == nbb_cell_id) {\n",
       "                        if (nbb_cells[i].get_text() == nbb_unformatted_code) {\n",
       "                             nbb_cells[i].set_text(nbb_formatted_code);\n",
       "                        }\n",
       "                        break;\n",
       "                    }\n",
       "                }\n",
       "            }, 500);\n",
       "            "
      ],
      "text/plain": [
       "<IPython.core.display.Javascript object>"
      ]
     },
     "metadata": {},
     "output_type": "display_data"
    }
   ],
   "source": [
    "# # Create specific_roles_list for above popped value\n",
    "# specific_roles_list = (\n",
    "#     df.loc[\n",
    "#         [index for index in df.index if \"jurist\" in df.loc[index, \"info\"]], \"info_2\",\n",
    "#     ]\n",
    "#     .value_counts()\n",
    "#     .index.tolist()\n",
    "# )"
   ]
  },
  {
   "cell_type": "code",
   "execution_count": 79,
   "id": "c0d6a1e5",
   "metadata": {},
   "outputs": [
    {
     "data": {
      "application/javascript": [
       "\n",
       "            setTimeout(function() {\n",
       "                var nbb_cell_id = 79;\n",
       "                var nbb_unformatted_code = \"# # Code to check each specific value\\n# specific_roles_list.pop()\";\n",
       "                var nbb_formatted_code = \"# # Code to check each specific value\\n# specific_roles_list.pop()\";\n",
       "                var nbb_cells = Jupyter.notebook.get_cells();\n",
       "                for (var i = 0; i < nbb_cells.length; ++i) {\n",
       "                    if (nbb_cells[i].input_prompt_number == nbb_cell_id) {\n",
       "                        if (nbb_cells[i].get_text() == nbb_unformatted_code) {\n",
       "                             nbb_cells[i].set_text(nbb_formatted_code);\n",
       "                        }\n",
       "                        break;\n",
       "                    }\n",
       "                }\n",
       "            }, 500);\n",
       "            "
      ],
      "text/plain": [
       "<IPython.core.display.Javascript object>"
      ]
     },
     "metadata": {},
     "output_type": "display_data"
    }
   ],
   "source": [
    "# # Code to check each specific value\n",
    "# specific_roles_list.pop()"
   ]
  },
  {
   "cell_type": "code",
   "execution_count": 80,
   "id": "51abdef9",
   "metadata": {},
   "outputs": [
    {
     "data": {
      "application/javascript": [
       "\n",
       "            setTimeout(function() {\n",
       "                var nbb_cell_id = 80;\n",
       "                var nbb_unformatted_code = \"# # Example code to quick-screen values that may overlap categories\\n# df.loc[[index for index in df.index if \\\"jurist and lecturer\\\" in df.loc[index, \\\"info\\\"]]]\";\n",
       "                var nbb_formatted_code = \"# # Example code to quick-screen values that may overlap categories\\n# df.loc[[index for index in df.index if \\\"jurist and lecturer\\\" in df.loc[index, \\\"info\\\"]]]\";\n",
       "                var nbb_cells = Jupyter.notebook.get_cells();\n",
       "                for (var i = 0; i < nbb_cells.length; ++i) {\n",
       "                    if (nbb_cells[i].input_prompt_number == nbb_cell_id) {\n",
       "                        if (nbb_cells[i].get_text() == nbb_unformatted_code) {\n",
       "                             nbb_cells[i].set_text(nbb_formatted_code);\n",
       "                        }\n",
       "                        break;\n",
       "                    }\n",
       "                }\n",
       "            }, 500);\n",
       "            "
      ],
      "text/plain": [
       "<IPython.core.display.Javascript object>"
      ]
     },
     "metadata": {},
     "output_type": "display_data"
    }
   ],
   "source": [
    "# # Example code to quick-screen values that may overlap categories\n",
    "# df.loc[[index for index in df.index if \"jurist and lecturer\" in df.loc[index, \"info\"]]]"
   ]
  },
  {
   "cell_type": "markdown",
   "id": "d56ee3c0",
   "metadata": {},
   "source": [
    "#### Creating Lists for Each `known_for` Category"
   ]
  },
  {
   "cell_type": "code",
   "execution_count": 81,
   "id": "11fcacc7",
   "metadata": {},
   "outputs": [
    {
     "data": {
      "application/javascript": [
       "\n",
       "            setTimeout(function() {\n",
       "                var nbb_cell_id = 81;\n",
       "                var nbb_unformatted_code = \"# Creating lists for each category\\npolitics_govt_law = [\\n    \\\"federal jurist\\\",\\n    \\\"barrister and jurist\\\",\\n    \\\"jurist and legal analyst\\\",\\n    \\\"jurist and blind rights campaigner\\\",\\n    \\\"jurist and last known World War I\\\",\\n    \\\"jurist and law lord\\\",\\n    \\\"jurist and Judge of the International Criminal Tribunal for the Former\\\",\\n    \\\"jurist and Chief Judge\\\",\\n    \\\"jurist and Chief Justice\\\",\\n    \\\"jurist and statesman\\\",\\n    \\\"jurist and women rights activist\\\",\\n    \\\"jurist and first female chief justice of the North Carolina Supreme Court\\\",\\n    \\\"jurist and former Governor of Sindh province\\\",\\n    \\\"jurist and Governor General\\\",\\n    \\\"jurist and human rights advocate\\\",\\n    \\\"Virgin Islander jurist\\\",\\n    \\\"jurist and human rights activist\\\",\\n    \\\"jurist and legal\\\",\\n    \\\"civil rights lawyer and jurist\\\",\\n    \\\"jurist and magistrate\\\",\\n    \\\"civil rights activist and jurist\\\",\\n    \\\"jurist and prosecutor\\\",\\n    \\\"jurist and public servant\\\",\\n    \\\"jurist and lawyer\\\",\\n    \\\"jurist and life peer\\\",\\n    \\\"attorney and jurist\\\",\\n    \\\"lawyer and jurist\\\",\\n    \\\"and jurist\\\",\\n    \\\"jurist and\\\",\\n    \\\"jurist\\\",\\n]\\n\\narts = []\\nsports = []\\nsciences = []\\n\\nbusiness_farming = []\\nacademia_humanities = []\\nlaw_enf_military_operator = []\\nspiritual = []\\nsocial = []\\ncrime = []\\nevent_record_other = []\\nother_species = []\";\n",
       "                var nbb_formatted_code = \"# Creating lists for each category\\npolitics_govt_law = [\\n    \\\"federal jurist\\\",\\n    \\\"barrister and jurist\\\",\\n    \\\"jurist and legal analyst\\\",\\n    \\\"jurist and blind rights campaigner\\\",\\n    \\\"jurist and last known World War I\\\",\\n    \\\"jurist and law lord\\\",\\n    \\\"jurist and Judge of the International Criminal Tribunal for the Former\\\",\\n    \\\"jurist and Chief Judge\\\",\\n    \\\"jurist and Chief Justice\\\",\\n    \\\"jurist and statesman\\\",\\n    \\\"jurist and women rights activist\\\",\\n    \\\"jurist and first female chief justice of the North Carolina Supreme Court\\\",\\n    \\\"jurist and former Governor of Sindh province\\\",\\n    \\\"jurist and Governor General\\\",\\n    \\\"jurist and human rights advocate\\\",\\n    \\\"Virgin Islander jurist\\\",\\n    \\\"jurist and human rights activist\\\",\\n    \\\"jurist and legal\\\",\\n    \\\"civil rights lawyer and jurist\\\",\\n    \\\"jurist and magistrate\\\",\\n    \\\"civil rights activist and jurist\\\",\\n    \\\"jurist and prosecutor\\\",\\n    \\\"jurist and public servant\\\",\\n    \\\"jurist and lawyer\\\",\\n    \\\"jurist and life peer\\\",\\n    \\\"attorney and jurist\\\",\\n    \\\"lawyer and jurist\\\",\\n    \\\"and jurist\\\",\\n    \\\"jurist and\\\",\\n    \\\"jurist\\\",\\n]\\n\\narts = []\\nsports = []\\nsciences = []\\n\\nbusiness_farming = []\\nacademia_humanities = []\\nlaw_enf_military_operator = []\\nspiritual = []\\nsocial = []\\ncrime = []\\nevent_record_other = []\\nother_species = []\";\n",
       "                var nbb_cells = Jupyter.notebook.get_cells();\n",
       "                for (var i = 0; i < nbb_cells.length; ++i) {\n",
       "                    if (nbb_cells[i].input_prompt_number == nbb_cell_id) {\n",
       "                        if (nbb_cells[i].get_text() == nbb_unformatted_code) {\n",
       "                             nbb_cells[i].set_text(nbb_formatted_code);\n",
       "                        }\n",
       "                        break;\n",
       "                    }\n",
       "                }\n",
       "            }, 500);\n",
       "            "
      ],
      "text/plain": [
       "<IPython.core.display.Javascript object>"
      ]
     },
     "metadata": {},
     "output_type": "display_data"
    }
   ],
   "source": [
    "# Creating lists for each category\n",
    "politics_govt_law = [\n",
    "    \"federal jurist\",\n",
    "    \"barrister and jurist\",\n",
    "    \"jurist and legal analyst\",\n",
    "    \"jurist and blind rights campaigner\",\n",
    "    \"jurist and last known World War I\",\n",
    "    \"jurist and law lord\",\n",
    "    \"jurist and Judge of the International Criminal Tribunal for the Former\",\n",
    "    \"jurist and Chief Judge\",\n",
    "    \"jurist and Chief Justice\",\n",
    "    \"jurist and statesman\",\n",
    "    \"jurist and women rights activist\",\n",
    "    \"jurist and first female chief justice of the North Carolina Supreme Court\",\n",
    "    \"jurist and former Governor of Sindh province\",\n",
    "    \"jurist and Governor General\",\n",
    "    \"jurist and human rights advocate\",\n",
    "    \"Virgin Islander jurist\",\n",
    "    \"jurist and human rights activist\",\n",
    "    \"jurist and legal\",\n",
    "    \"civil rights lawyer and jurist\",\n",
    "    \"jurist and magistrate\",\n",
    "    \"civil rights activist and jurist\",\n",
    "    \"jurist and prosecutor\",\n",
    "    \"jurist and public servant\",\n",
    "    \"jurist and lawyer\",\n",
    "    \"jurist and life peer\",\n",
    "    \"attorney and jurist\",\n",
    "    \"lawyer and jurist\",\n",
    "    \"and jurist\",\n",
    "    \"jurist and\",\n",
    "    \"jurist\",\n",
    "]\n",
    "\n",
    "arts = []\n",
    "sports = []\n",
    "sciences = []\n",
    "\n",
    "business_farming = []\n",
    "academia_humanities = []\n",
    "law_enf_military_operator = []\n",
    "spiritual = []\n",
    "social = []\n",
    "crime = []\n",
    "event_record_other = []\n",
    "other_species = []"
   ]
  },
  {
   "cell_type": "markdown",
   "id": "53eac6c5",
   "metadata": {},
   "source": [
    "#### Creating `known_for_dict` Dictionary of Category Keys and Specific Role Lists of Values"
   ]
  },
  {
   "cell_type": "code",
   "execution_count": 82,
   "id": "e770502e",
   "metadata": {},
   "outputs": [
    {
     "data": {
      "application/javascript": [
       "\n",
       "            setTimeout(function() {\n",
       "                var nbb_cell_id = 82;\n",
       "                var nbb_unformatted_code = \"# Combining separate lists into one dictionary\\nknown_for_dict = {\\n    \\\"social\\\": social,\\n    \\\"spiritual\\\": spiritual,\\n    \\\"academia_humanities\\\": academia_humanities,\\n    \\\"business_farming\\\": business_farming,\\n    \\\"sciences\\\": sciences,\\n    \\\"politics_govt_law\\\": politics_govt_law,\\n    \\\"law_enf_military_operator\\\": law_enf_military_operator,\\n    \\\"crime\\\": crime,\\n    \\\"event_record_other\\\": event_record_other,\\n    \\\"other_species\\\": other_species,\\n    \\\"arts\\\": arts,\\n    \\\"sports\\\": sports,\\n}\";\n",
       "                var nbb_formatted_code = \"# Combining separate lists into one dictionary\\nknown_for_dict = {\\n    \\\"social\\\": social,\\n    \\\"spiritual\\\": spiritual,\\n    \\\"academia_humanities\\\": academia_humanities,\\n    \\\"business_farming\\\": business_farming,\\n    \\\"sciences\\\": sciences,\\n    \\\"politics_govt_law\\\": politics_govt_law,\\n    \\\"law_enf_military_operator\\\": law_enf_military_operator,\\n    \\\"crime\\\": crime,\\n    \\\"event_record_other\\\": event_record_other,\\n    \\\"other_species\\\": other_species,\\n    \\\"arts\\\": arts,\\n    \\\"sports\\\": sports,\\n}\";\n",
       "                var nbb_cells = Jupyter.notebook.get_cells();\n",
       "                for (var i = 0; i < nbb_cells.length; ++i) {\n",
       "                    if (nbb_cells[i].input_prompt_number == nbb_cell_id) {\n",
       "                        if (nbb_cells[i].get_text() == nbb_unformatted_code) {\n",
       "                             nbb_cells[i].set_text(nbb_formatted_code);\n",
       "                        }\n",
       "                        break;\n",
       "                    }\n",
       "                }\n",
       "            }, 500);\n",
       "            "
      ],
      "text/plain": [
       "<IPython.core.display.Javascript object>"
      ]
     },
     "metadata": {},
     "output_type": "display_data"
    }
   ],
   "source": [
    "# Combining separate lists into one dictionary\n",
    "known_for_dict = {\n",
    "    \"social\": social,\n",
    "    \"spiritual\": spiritual,\n",
    "    \"academia_humanities\": academia_humanities,\n",
    "    \"business_farming\": business_farming,\n",
    "    \"sciences\": sciences,\n",
    "    \"politics_govt_law\": politics_govt_law,\n",
    "    \"law_enf_military_operator\": law_enf_military_operator,\n",
    "    \"crime\": crime,\n",
    "    \"event_record_other\": event_record_other,\n",
    "    \"other_species\": other_species,\n",
    "    \"arts\": arts,\n",
    "    \"sports\": sports,\n",
    "}"
   ]
  },
  {
   "cell_type": "markdown",
   "id": "b1419d4c",
   "metadata": {},
   "source": [
    "#### Extracting Category from `info_2`"
   ]
  },
  {
   "cell_type": "code",
   "execution_count": 83,
   "id": "412edb97",
   "metadata": {},
   "outputs": [
    {
     "name": "stdout",
     "output_type": "stream",
     "text": [
      "CPU times: total: 16.4 s\n",
      "Wall time: 16.3 s\n"
     ]
    },
    {
     "data": {
      "text/html": [
       "<div>\n",
       "<style scoped>\n",
       "    .dataframe tbody tr th:only-of-type {\n",
       "        vertical-align: middle;\n",
       "    }\n",
       "\n",
       "    .dataframe tbody tr th {\n",
       "        vertical-align: top;\n",
       "    }\n",
       "\n",
       "    .dataframe thead th {\n",
       "        text-align: right;\n",
       "    }\n",
       "</style>\n",
       "<table border=\"1\" class=\"dataframe\">\n",
       "  <thead>\n",
       "    <tr style=\"text-align: right;\">\n",
       "      <th></th>\n",
       "      <th>day</th>\n",
       "      <th>name</th>\n",
       "      <th>info</th>\n",
       "      <th>link</th>\n",
       "      <th>num_references</th>\n",
       "      <th>year</th>\n",
       "      <th>month</th>\n",
       "      <th>info_parenth</th>\n",
       "      <th>info_1</th>\n",
       "      <th>info_2</th>\n",
       "      <th>info_3</th>\n",
       "      <th>info_4</th>\n",
       "      <th>info_5</th>\n",
       "      <th>info_6</th>\n",
       "      <th>info_7</th>\n",
       "      <th>info_8</th>\n",
       "      <th>info_9</th>\n",
       "      <th>info_10</th>\n",
       "      <th>info_11</th>\n",
       "      <th>age</th>\n",
       "      <th>cause_of_death</th>\n",
       "      <th>place_1</th>\n",
       "      <th>place_2</th>\n",
       "      <th>info_parenth_copy</th>\n",
       "      <th>log_num_references</th>\n",
       "      <th>sciences</th>\n",
       "      <th>social</th>\n",
       "      <th>spiritual</th>\n",
       "      <th>academia_humanities</th>\n",
       "      <th>business_farming</th>\n",
       "      <th>arts</th>\n",
       "      <th>sports</th>\n",
       "      <th>law_enf_military_operator</th>\n",
       "      <th>politics_govt_law</th>\n",
       "      <th>crime</th>\n",
       "      <th>event_record_other</th>\n",
       "      <th>other_species</th>\n",
       "      <th>num_categories</th>\n",
       "    </tr>\n",
       "  </thead>\n",
       "  <tbody>\n",
       "    <tr>\n",
       "      <th>94541</th>\n",
       "      <td>9</td>\n",
       "      <td>Cara Williams</td>\n",
       "      <td>, 96, American actress .</td>\n",
       "      <td>https://en.wikipedia.org/wiki/Cara_Williams</td>\n",
       "      <td>8</td>\n",
       "      <td>2021</td>\n",
       "      <td>December</td>\n",
       "      <td>,</td>\n",
       "      <td>None</td>\n",
       "      <td></td>\n",
       "      <td>None</td>\n",
       "      <td>None</td>\n",
       "      <td>None</td>\n",
       "      <td>None</td>\n",
       "      <td>None</td>\n",
       "      <td>None</td>\n",
       "      <td>None</td>\n",
       "      <td>None</td>\n",
       "      <td>None</td>\n",
       "      <td>96.0</td>\n",
       "      <td>None</td>\n",
       "      <td>United States of America</td>\n",
       "      <td>None</td>\n",
       "      <td>,</td>\n",
       "      <td>2.197225</td>\n",
       "      <td>0</td>\n",
       "      <td>0</td>\n",
       "      <td>0</td>\n",
       "      <td>0</td>\n",
       "      <td>0</td>\n",
       "      <td>1</td>\n",
       "      <td>0</td>\n",
       "      <td>0</td>\n",
       "      <td>0</td>\n",
       "      <td>0</td>\n",
       "      <td>0</td>\n",
       "      <td>0</td>\n",
       "      <td>1</td>\n",
       "    </tr>\n",
       "    <tr>\n",
       "      <th>43045</th>\n",
       "      <td>25</td>\n",
       "      <td>Virginia Gibson</td>\n",
       "      <td>, 88, American actress .</td>\n",
       "      <td>https://en.wikipedia.org/wiki/Virginia_Gibson</td>\n",
       "      <td>17</td>\n",
       "      <td>2013</td>\n",
       "      <td>April</td>\n",
       "      <td></td>\n",
       "      <td>None</td>\n",
       "      <td></td>\n",
       "      <td>None</td>\n",
       "      <td>None</td>\n",
       "      <td>None</td>\n",
       "      <td>None</td>\n",
       "      <td>None</td>\n",
       "      <td>None</td>\n",
       "      <td>None</td>\n",
       "      <td>None</td>\n",
       "      <td>None</td>\n",
       "      <td>88.0</td>\n",
       "      <td>None</td>\n",
       "      <td>United States of America</td>\n",
       "      <td>None</td>\n",
       "      <td></td>\n",
       "      <td>2.890372</td>\n",
       "      <td>0</td>\n",
       "      <td>0</td>\n",
       "      <td>0</td>\n",
       "      <td>0</td>\n",
       "      <td>0</td>\n",
       "      <td>1</td>\n",
       "      <td>0</td>\n",
       "      <td>0</td>\n",
       "      <td>0</td>\n",
       "      <td>0</td>\n",
       "      <td>0</td>\n",
       "      <td>0</td>\n",
       "      <td>1</td>\n",
       "    </tr>\n",
       "  </tbody>\n",
       "</table>\n",
       "</div>"
      ],
      "text/plain": [
       "      day             name                      info  \\\n",
       "94541   9    Cara Williams  , 96, American actress .   \n",
       "43045  25  Virginia Gibson  , 88, American actress .   \n",
       "\n",
       "                                                link  num_references  year  \\\n",
       "94541    https://en.wikipedia.org/wiki/Cara_Williams               8  2021   \n",
       "43045  https://en.wikipedia.org/wiki/Virginia_Gibson              17  2013   \n",
       "\n",
       "          month info_parenth info_1 info_2 info_3 info_4 info_5 info_6 info_7  \\\n",
       "94541  December            ,   None          None   None   None   None   None   \n",
       "43045     April                None          None   None   None   None   None   \n",
       "\n",
       "      info_8 info_9 info_10 info_11   age cause_of_death  \\\n",
       "94541   None   None    None    None  96.0           None   \n",
       "43045   None   None    None    None  88.0           None   \n",
       "\n",
       "                        place_1 place_2 info_parenth_copy  log_num_references  \\\n",
       "94541  United States of America    None                 ,            2.197225   \n",
       "43045  United States of America    None                              2.890372   \n",
       "\n",
       "       sciences  social  spiritual  academia_humanities  business_farming  \\\n",
       "94541         0       0          0                    0                 0   \n",
       "43045         0       0          0                    0                 0   \n",
       "\n",
       "       arts  sports  law_enf_military_operator  politics_govt_law  crime  \\\n",
       "94541     1       0                          0                  0      0   \n",
       "43045     1       0                          0                  0      0   \n",
       "\n",
       "       event_record_other  other_species  num_categories  \n",
       "94541                   0              0               1  \n",
       "43045                   0              0               1  "
      ]
     },
     "execution_count": 83,
     "metadata": {},
     "output_type": "execute_result"
    },
    {
     "data": {
      "application/javascript": [
       "\n",
       "            setTimeout(function() {\n",
       "                var nbb_cell_id = 83;\n",
       "                var nbb_unformatted_code = \"%%time\\n\\n# Dictionary version\\nsearch_dict = known_for_dict\\n\\n# Column to check\\ncolumn = 'info_2'\\n\\n# Dataframe\\ndataframe = df[column].notna()\\n\\n# For loop to find role in column and extract it as category\\nfor category, category_lst in search_dict.items():\\n    for role in category_lst:\\n        for index in dataframe.index:\\n            item = df.loc[index, column]\\n            if item:\\n                if role in item:\\n                    df.loc[index, category] = 1\\n                    df.loc[index, column] = item.replace(role, '').strip()\\n\\n# Updating num_categories\\ndf[\\\"num_categories\\\"] = df[known_for_dict.keys()].sum(axis=1)\\n\\n# Checking a sample of rows\\ndf[df['arts'] ==1].sample(2)\";\n",
       "                var nbb_formatted_code = \"%%time\\n\\n# Dictionary version\\nsearch_dict = known_for_dict\\n\\n# Column to check\\ncolumn = 'info_2'\\n\\n# Dataframe\\ndataframe = df[column].notna()\\n\\n# For loop to find role in column and extract it as category\\nfor category, category_lst in search_dict.items():\\n    for role in category_lst:\\n        for index in dataframe.index:\\n            item = df.loc[index, column]\\n            if item:\\n                if role in item:\\n                    df.loc[index, category] = 1\\n                    df.loc[index, column] = item.replace(role, '').strip()\\n\\n# Updating num_categories\\ndf[\\\"num_categories\\\"] = df[known_for_dict.keys()].sum(axis=1)\\n\\n# Checking a sample of rows\\ndf[df['arts'] ==1].sample(2)\";\n",
       "                var nbb_cells = Jupyter.notebook.get_cells();\n",
       "                for (var i = 0; i < nbb_cells.length; ++i) {\n",
       "                    if (nbb_cells[i].input_prompt_number == nbb_cell_id) {\n",
       "                        if (nbb_cells[i].get_text() == nbb_unformatted_code) {\n",
       "                             nbb_cells[i].set_text(nbb_formatted_code);\n",
       "                        }\n",
       "                        break;\n",
       "                    }\n",
       "                }\n",
       "            }, 500);\n",
       "            "
      ],
      "text/plain": [
       "<IPython.core.display.Javascript object>"
      ]
     },
     "metadata": {},
     "output_type": "display_data"
    }
   ],
   "source": [
    "%%time\n",
    "\n",
    "# Dictionary version\n",
    "search_dict = known_for_dict\n",
    "\n",
    "# Column to check\n",
    "column = 'info_2'\n",
    "\n",
    "# Dataframe\n",
    "dataframe = df[column].notna()\n",
    "\n",
    "# For loop to find role in column and extract it as category\n",
    "for category, category_lst in search_dict.items():\n",
    "    for role in category_lst:\n",
    "        for index in dataframe.index:\n",
    "            item = df.loc[index, column]\n",
    "            if item:\n",
    "                if role in item:\n",
    "                    df.loc[index, category] = 1\n",
    "                    df.loc[index, column] = item.replace(role, '').strip()\n",
    "\n",
    "# Updating num_categories\n",
    "df[\"num_categories\"] = df[known_for_dict.keys()].sum(axis=1)\n",
    "\n",
    "# Checking a sample of rows\n",
    "df[df['arts'] ==1].sample(2)"
   ]
  },
  {
   "cell_type": "markdown",
   "id": "cf3c3ac8",
   "metadata": {},
   "source": [
    "#### Checking the Number of Rows without a First Category"
   ]
  },
  {
   "cell_type": "code",
   "execution_count": 84,
   "id": "a382ce3d",
   "metadata": {},
   "outputs": [
    {
     "name": "stdout",
     "output_type": "stream",
     "text": [
      "There are 41124 entries without any known_for category.\n"
     ]
    },
    {
     "data": {
      "application/javascript": [
       "\n",
       "            setTimeout(function() {\n",
       "                var nbb_cell_id = 84;\n",
       "                var nbb_unformatted_code = \"#### Checking the number of rows without a first category\\nprint(\\n    f'There are {len(df[df[\\\"num_categories\\\"]==0])} entries without any known_for category.'\\n)\";\n",
       "                var nbb_formatted_code = \"#### Checking the number of rows without a first category\\nprint(\\n    f'There are {len(df[df[\\\"num_categories\\\"]==0])} entries without any known_for category.'\\n)\";\n",
       "                var nbb_cells = Jupyter.notebook.get_cells();\n",
       "                for (var i = 0; i < nbb_cells.length; ++i) {\n",
       "                    if (nbb_cells[i].input_prompt_number == nbb_cell_id) {\n",
       "                        if (nbb_cells[i].get_text() == nbb_unformatted_code) {\n",
       "                             nbb_cells[i].set_text(nbb_formatted_code);\n",
       "                        }\n",
       "                        break;\n",
       "                    }\n",
       "                }\n",
       "            }, 500);\n",
       "            "
      ],
      "text/plain": [
       "<IPython.core.display.Javascript object>"
      ]
     },
     "metadata": {},
     "output_type": "display_data"
    }
   ],
   "source": [
    "#### Checking the number of rows without a first category\n",
    "print(\n",
    "    f'There are {len(df[df[\"num_categories\"]==0])} entries without any known_for category.'\n",
    ")"
   ]
  },
  {
   "cell_type": "markdown",
   "id": "82b901da",
   "metadata": {},
   "source": [
    "#### Observations:\n",
    "- We will proceed to rebuild `known_for_dict` for the next iteration."
   ]
  },
  {
   "cell_type": "markdown",
   "id": "247d82e0",
   "metadata": {},
   "source": [
    "#### Finding `known_for` Roles in `info_2`"
   ]
  },
  {
   "cell_type": "code",
   "execution_count": 85,
   "id": "a0aaca24",
   "metadata": {},
   "outputs": [
    {
     "data": {
      "application/javascript": [
       "\n",
       "            setTimeout(function() {\n",
       "                var nbb_cell_id = 85;\n",
       "                var nbb_unformatted_code = \"# Obtaining values for column and their counts\\nroles_list = df[\\\"info_2\\\"].value_counts(ascending=True).index.tolist()\";\n",
       "                var nbb_formatted_code = \"# Obtaining values for column and their counts\\nroles_list = df[\\\"info_2\\\"].value_counts(ascending=True).index.tolist()\";\n",
       "                var nbb_cells = Jupyter.notebook.get_cells();\n",
       "                for (var i = 0; i < nbb_cells.length; ++i) {\n",
       "                    if (nbb_cells[i].input_prompt_number == nbb_cell_id) {\n",
       "                        if (nbb_cells[i].get_text() == nbb_unformatted_code) {\n",
       "                             nbb_cells[i].set_text(nbb_formatted_code);\n",
       "                        }\n",
       "                        break;\n",
       "                    }\n",
       "                }\n",
       "            }, 500);\n",
       "            "
      ],
      "text/plain": [
       "<IPython.core.display.Javascript object>"
      ]
     },
     "metadata": {},
     "output_type": "display_data"
    }
   ],
   "source": [
    "# Obtaining values for column and their counts\n",
    "roles_list = df[\"info_2\"].value_counts(ascending=True).index.tolist()"
   ]
  },
  {
   "cell_type": "code",
   "execution_count": 86,
   "id": "db07a02e",
   "metadata": {},
   "outputs": [
    {
     "data": {
      "application/javascript": [
       "\n",
       "            setTimeout(function() {\n",
       "                var nbb_cell_id = 86;\n",
       "                var nbb_unformatted_code = \"# # Code to check each value\\n# roles_list.pop()\";\n",
       "                var nbb_formatted_code = \"# # Code to check each value\\n# roles_list.pop()\";\n",
       "                var nbb_cells = Jupyter.notebook.get_cells();\n",
       "                for (var i = 0; i < nbb_cells.length; ++i) {\n",
       "                    if (nbb_cells[i].input_prompt_number == nbb_cell_id) {\n",
       "                        if (nbb_cells[i].get_text() == nbb_unformatted_code) {\n",
       "                             nbb_cells[i].set_text(nbb_formatted_code);\n",
       "                        }\n",
       "                        break;\n",
       "                    }\n",
       "                }\n",
       "            }, 500);\n",
       "            "
      ],
      "text/plain": [
       "<IPython.core.display.Javascript object>"
      ]
     },
     "metadata": {},
     "output_type": "display_data"
    }
   ],
   "source": [
    "# # Code to check each value\n",
    "# roles_list.pop()"
   ]
  },
  {
   "cell_type": "code",
   "execution_count": 87,
   "id": "ea5fae9c",
   "metadata": {},
   "outputs": [
    {
     "data": {
      "application/javascript": [
       "\n",
       "            setTimeout(function() {\n",
       "                var nbb_cell_id = 87;\n",
       "                var nbb_unformatted_code = \"# # Create specific_roles_list for above popped value\\n# specific_roles_list = (\\n#     df.loc[\\n#         [index for index in df.index if \\\"novelist\\\" in df.loc[index, \\\"info\\\"]], \\\"info_2\\\",\\n#     ]\\n#     .value_counts()\\n#     .index.tolist()\\n# )\";\n",
       "                var nbb_formatted_code = \"# # Create specific_roles_list for above popped value\\n# specific_roles_list = (\\n#     df.loc[\\n#         [index for index in df.index if \\\"novelist\\\" in df.loc[index, \\\"info\\\"]], \\\"info_2\\\",\\n#     ]\\n#     .value_counts()\\n#     .index.tolist()\\n# )\";\n",
       "                var nbb_cells = Jupyter.notebook.get_cells();\n",
       "                for (var i = 0; i < nbb_cells.length; ++i) {\n",
       "                    if (nbb_cells[i].input_prompt_number == nbb_cell_id) {\n",
       "                        if (nbb_cells[i].get_text() == nbb_unformatted_code) {\n",
       "                             nbb_cells[i].set_text(nbb_formatted_code);\n",
       "                        }\n",
       "                        break;\n",
       "                    }\n",
       "                }\n",
       "            }, 500);\n",
       "            "
      ],
      "text/plain": [
       "<IPython.core.display.Javascript object>"
      ]
     },
     "metadata": {},
     "output_type": "display_data"
    }
   ],
   "source": [
    "# # Create specific_roles_list for above popped value\n",
    "# specific_roles_list = (\n",
    "#     df.loc[\n",
    "#         [index for index in df.index if \"novelist\" in df.loc[index, \"info\"]], \"info_2\",\n",
    "#     ]\n",
    "#     .value_counts()\n",
    "#     .index.tolist()\n",
    "# )"
   ]
  },
  {
   "cell_type": "code",
   "execution_count": 88,
   "id": "0ecc0743",
   "metadata": {},
   "outputs": [
    {
     "data": {
      "application/javascript": [
       "\n",
       "            setTimeout(function() {\n",
       "                var nbb_cell_id = 88;\n",
       "                var nbb_unformatted_code = \"# # Code to check each specific value\\n# specific_roles_list.pop()\";\n",
       "                var nbb_formatted_code = \"# # Code to check each specific value\\n# specific_roles_list.pop()\";\n",
       "                var nbb_cells = Jupyter.notebook.get_cells();\n",
       "                for (var i = 0; i < nbb_cells.length; ++i) {\n",
       "                    if (nbb_cells[i].input_prompt_number == nbb_cell_id) {\n",
       "                        if (nbb_cells[i].get_text() == nbb_unformatted_code) {\n",
       "                             nbb_cells[i].set_text(nbb_formatted_code);\n",
       "                        }\n",
       "                        break;\n",
       "                    }\n",
       "                }\n",
       "            }, 500);\n",
       "            "
      ],
      "text/plain": [
       "<IPython.core.display.Javascript object>"
      ]
     },
     "metadata": {},
     "output_type": "display_data"
    }
   ],
   "source": [
    "# # Code to check each specific value\n",
    "# specific_roles_list.pop()"
   ]
  },
  {
   "cell_type": "code",
   "execution_count": 89,
   "id": "a9867b85",
   "metadata": {},
   "outputs": [
    {
     "data": {
      "application/javascript": [
       "\n",
       "            setTimeout(function() {\n",
       "                var nbb_cell_id = 89;\n",
       "                var nbb_unformatted_code = \"# # Example code to quick-check a specific entry\\n# df[df[\\\"info_2\\\"] == \\\"n novelist\\\"]\";\n",
       "                var nbb_formatted_code = \"# # Example code to quick-check a specific entry\\n# df[df[\\\"info_2\\\"] == \\\"n novelist\\\"]\";\n",
       "                var nbb_cells = Jupyter.notebook.get_cells();\n",
       "                for (var i = 0; i < nbb_cells.length; ++i) {\n",
       "                    if (nbb_cells[i].input_prompt_number == nbb_cell_id) {\n",
       "                        if (nbb_cells[i].get_text() == nbb_unformatted_code) {\n",
       "                             nbb_cells[i].set_text(nbb_formatted_code);\n",
       "                        }\n",
       "                        break;\n",
       "                    }\n",
       "                }\n",
       "            }, 500);\n",
       "            "
      ],
      "text/plain": [
       "<IPython.core.display.Javascript object>"
      ]
     },
     "metadata": {},
     "output_type": "display_data"
    }
   ],
   "source": [
    "# # Example code to quick-check a specific entry\n",
    "# df[df[\"info_2\"] == \"n novelist\"]"
   ]
  },
  {
   "cell_type": "markdown",
   "id": "37dddc77",
   "metadata": {},
   "source": [
    "#### Creating Lists for Each `known_for` Category"
   ]
  },
  {
   "cell_type": "code",
   "execution_count": 90,
   "id": "ae907a93",
   "metadata": {},
   "outputs": [
    {
     "data": {
      "application/javascript": [
       "\n",
       "            setTimeout(function() {\n",
       "                var nbb_cell_id = 90;\n",
       "                var nbb_unformatted_code = \"# Creating lists for each category\\npolitics_govt_law = [\\n    \\\"peer and son of novelist John Buchan\\\",  # before arts\\n]\\n\\narts = [\\n    \\\"publisher and novelist\\\",\\n    \\\"novelist and editor\\\",\\n    \\\"novelist under pseudonyms\\\",\\n    \\\"Booker Prize winning novelist\\\",\\n    \\\"novelist whose books were popular in the s and s\\\",\\n    \\\"novelist and memoirist\\\",\\n    \\\"novelist who wrote a book shortlisted for the Booker Prize in\\\",\\n    \\\"food  novelist\\\",\\n    \\\"and mystery novelist\\\",\\n    \\\"Western novelist\\\",\\n    \\\"experimental novelist\\\",\\n    \\\"novelist and Pullizer Prize winner\\\",\\n    \\\"horror novelist and playwright\\\",\\n    \\\"young adult novelist\\\",\\n    \\\"dancer and novelist\\\",\\n    \\\"children novelist\\\",\\n    \\\"Nisei novelist and playwright\\\",\\n    \\\"novelist and critic\\\",\\n    \\\"wuxia novelist\\\",\\n    \\\"literary editor and novelist\\\",\\n    \\\"science fiction novelist\\\",\\n    \\\"editor and novelist\\\",\\n    \\\"novelist and filmmaker\\\",\\n    \\\"novelist and literary columnist\\\",\\n    \\\"adaption novelist\\\",\\n    \\\"book publisher and novelist\\\",\\n    \\\"novelist and literary agent\\\",\\n    \\\"children novelist and illustrator\\\",\\n    \\\"giallo novelist\\\",\\n    \\\"Konkani litterateur and novelist\\\",\\n    \\\"literary and jazz critic\\\",\\n    \\\"film producer and novelist\\\",\\n    \\\"novelist and essayist\\\",\\n    \\\"playwright and novelist\\\",\\n    \\\"romance novelist\\\",\\n    \\\"biographer and novelist\\\",\\n    \\\"spy novelist\\\",\\n    \\\"novelist and television producer\\\",\\n    \\\"fantasy novelist\\\",\\n    \\\"novelist and dramatist\\\",\\n    \\\"mystery novelist\\\",\\n    \\\"romantic novelist\\\",\\n    \\\"historical novelist\\\",\\n    \\\"literary critic and novelist\\\",\\n    \\\"critic and novelist\\\",\\n    \\\"novelist and biographer\\\",\\n    \\\"novelist and literary critic\\\",\\n    \\\"and crime novelist\\\",\\n    \\\"crime novelist\\\",\\n    \\\"novelist and playwright\\\",\\n    \\\"adventure novelist and\\\",\\n    \\\"n novelist\\\",\\n    \\\"and novelist\\\",\\n    \\\"novelist and\\\",\\n    \\\"novelist\\\",\\n]\\nsports = []\\nsciences = []\\n\\nbusiness_farming = []\\nacademia_humanities = []\\nlaw_enf_military_operator = []\\nspiritual = []\\nsocial = []\\ncrime = []\\nevent_record_other = []\\nother_species = []\";\n",
       "                var nbb_formatted_code = \"# Creating lists for each category\\npolitics_govt_law = [\\n    \\\"peer and son of novelist John Buchan\\\",  # before arts\\n]\\n\\narts = [\\n    \\\"publisher and novelist\\\",\\n    \\\"novelist and editor\\\",\\n    \\\"novelist under pseudonyms\\\",\\n    \\\"Booker Prize winning novelist\\\",\\n    \\\"novelist whose books were popular in the s and s\\\",\\n    \\\"novelist and memoirist\\\",\\n    \\\"novelist who wrote a book shortlisted for the Booker Prize in\\\",\\n    \\\"food  novelist\\\",\\n    \\\"and mystery novelist\\\",\\n    \\\"Western novelist\\\",\\n    \\\"experimental novelist\\\",\\n    \\\"novelist and Pullizer Prize winner\\\",\\n    \\\"horror novelist and playwright\\\",\\n    \\\"young adult novelist\\\",\\n    \\\"dancer and novelist\\\",\\n    \\\"children novelist\\\",\\n    \\\"Nisei novelist and playwright\\\",\\n    \\\"novelist and critic\\\",\\n    \\\"wuxia novelist\\\",\\n    \\\"literary editor and novelist\\\",\\n    \\\"science fiction novelist\\\",\\n    \\\"editor and novelist\\\",\\n    \\\"novelist and filmmaker\\\",\\n    \\\"novelist and literary columnist\\\",\\n    \\\"adaption novelist\\\",\\n    \\\"book publisher and novelist\\\",\\n    \\\"novelist and literary agent\\\",\\n    \\\"children novelist and illustrator\\\",\\n    \\\"giallo novelist\\\",\\n    \\\"Konkani litterateur and novelist\\\",\\n    \\\"literary and jazz critic\\\",\\n    \\\"film producer and novelist\\\",\\n    \\\"novelist and essayist\\\",\\n    \\\"playwright and novelist\\\",\\n    \\\"romance novelist\\\",\\n    \\\"biographer and novelist\\\",\\n    \\\"spy novelist\\\",\\n    \\\"novelist and television producer\\\",\\n    \\\"fantasy novelist\\\",\\n    \\\"novelist and dramatist\\\",\\n    \\\"mystery novelist\\\",\\n    \\\"romantic novelist\\\",\\n    \\\"historical novelist\\\",\\n    \\\"literary critic and novelist\\\",\\n    \\\"critic and novelist\\\",\\n    \\\"novelist and biographer\\\",\\n    \\\"novelist and literary critic\\\",\\n    \\\"and crime novelist\\\",\\n    \\\"crime novelist\\\",\\n    \\\"novelist and playwright\\\",\\n    \\\"adventure novelist and\\\",\\n    \\\"n novelist\\\",\\n    \\\"and novelist\\\",\\n    \\\"novelist and\\\",\\n    \\\"novelist\\\",\\n]\\nsports = []\\nsciences = []\\n\\nbusiness_farming = []\\nacademia_humanities = []\\nlaw_enf_military_operator = []\\nspiritual = []\\nsocial = []\\ncrime = []\\nevent_record_other = []\\nother_species = []\";\n",
       "                var nbb_cells = Jupyter.notebook.get_cells();\n",
       "                for (var i = 0; i < nbb_cells.length; ++i) {\n",
       "                    if (nbb_cells[i].input_prompt_number == nbb_cell_id) {\n",
       "                        if (nbb_cells[i].get_text() == nbb_unformatted_code) {\n",
       "                             nbb_cells[i].set_text(nbb_formatted_code);\n",
       "                        }\n",
       "                        break;\n",
       "                    }\n",
       "                }\n",
       "            }, 500);\n",
       "            "
      ],
      "text/plain": [
       "<IPython.core.display.Javascript object>"
      ]
     },
     "metadata": {},
     "output_type": "display_data"
    }
   ],
   "source": [
    "# Creating lists for each category\n",
    "politics_govt_law = [\n",
    "    \"peer and son of novelist John Buchan\",  # before arts\n",
    "]\n",
    "\n",
    "arts = [\n",
    "    \"publisher and novelist\",\n",
    "    \"novelist and editor\",\n",
    "    \"novelist under pseudonyms\",\n",
    "    \"Booker Prize winning novelist\",\n",
    "    \"novelist whose books were popular in the s and s\",\n",
    "    \"novelist and memoirist\",\n",
    "    \"novelist who wrote a book shortlisted for the Booker Prize in\",\n",
    "    \"food  novelist\",\n",
    "    \"and mystery novelist\",\n",
    "    \"Western novelist\",\n",
    "    \"experimental novelist\",\n",
    "    \"novelist and Pullizer Prize winner\",\n",
    "    \"horror novelist and playwright\",\n",
    "    \"young adult novelist\",\n",
    "    \"dancer and novelist\",\n",
    "    \"children novelist\",\n",
    "    \"Nisei novelist and playwright\",\n",
    "    \"novelist and critic\",\n",
    "    \"wuxia novelist\",\n",
    "    \"literary editor and novelist\",\n",
    "    \"science fiction novelist\",\n",
    "    \"editor and novelist\",\n",
    "    \"novelist and filmmaker\",\n",
    "    \"novelist and literary columnist\",\n",
    "    \"adaption novelist\",\n",
    "    \"book publisher and novelist\",\n",
    "    \"novelist and literary agent\",\n",
    "    \"children novelist and illustrator\",\n",
    "    \"giallo novelist\",\n",
    "    \"Konkani litterateur and novelist\",\n",
    "    \"literary and jazz critic\",\n",
    "    \"film producer and novelist\",\n",
    "    \"novelist and essayist\",\n",
    "    \"playwright and novelist\",\n",
    "    \"romance novelist\",\n",
    "    \"biographer and novelist\",\n",
    "    \"spy novelist\",\n",
    "    \"novelist and television producer\",\n",
    "    \"fantasy novelist\",\n",
    "    \"novelist and dramatist\",\n",
    "    \"mystery novelist\",\n",
    "    \"romantic novelist\",\n",
    "    \"historical novelist\",\n",
    "    \"literary critic and novelist\",\n",
    "    \"critic and novelist\",\n",
    "    \"novelist and biographer\",\n",
    "    \"novelist and literary critic\",\n",
    "    \"and crime novelist\",\n",
    "    \"crime novelist\",\n",
    "    \"novelist and playwright\",\n",
    "    \"adventure novelist and\",\n",
    "    \"n novelist\",\n",
    "    \"and novelist\",\n",
    "    \"novelist and\",\n",
    "    \"novelist\",\n",
    "]\n",
    "sports = []\n",
    "sciences = []\n",
    "\n",
    "business_farming = []\n",
    "academia_humanities = []\n",
    "law_enf_military_operator = []\n",
    "spiritual = []\n",
    "social = []\n",
    "crime = []\n",
    "event_record_other = []\n",
    "other_species = []"
   ]
  },
  {
   "cell_type": "markdown",
   "id": "73c54ffa",
   "metadata": {},
   "source": [
    "#### Creating `known_for_dict` Dictionary of Category Keys and Specific Role Lists of Values"
   ]
  },
  {
   "cell_type": "code",
   "execution_count": 91,
   "id": "ee57049a",
   "metadata": {},
   "outputs": [
    {
     "data": {
      "application/javascript": [
       "\n",
       "            setTimeout(function() {\n",
       "                var nbb_cell_id = 91;\n",
       "                var nbb_unformatted_code = \"# Combining separate lists into one dictionary\\nknown_for_dict = {\\n    \\\"social\\\": social,\\n    \\\"spiritual\\\": spiritual,\\n    \\\"academia_humanities\\\": academia_humanities,\\n    \\\"business_farming\\\": business_farming,\\n    \\\"sciences\\\": sciences,\\n    \\\"law_enf_military_operator\\\": law_enf_military_operator,\\n    \\\"crime\\\": crime,\\n    \\\"event_record_other\\\": event_record_other,\\n    \\\"other_species\\\": other_species,\\n    \\\"arts\\\": arts,\\n    \\\"politics_govt_law\\\": politics_govt_law,\\n    \\\"sports\\\": sports,\\n}\";\n",
       "                var nbb_formatted_code = \"# Combining separate lists into one dictionary\\nknown_for_dict = {\\n    \\\"social\\\": social,\\n    \\\"spiritual\\\": spiritual,\\n    \\\"academia_humanities\\\": academia_humanities,\\n    \\\"business_farming\\\": business_farming,\\n    \\\"sciences\\\": sciences,\\n    \\\"law_enf_military_operator\\\": law_enf_military_operator,\\n    \\\"crime\\\": crime,\\n    \\\"event_record_other\\\": event_record_other,\\n    \\\"other_species\\\": other_species,\\n    \\\"arts\\\": arts,\\n    \\\"politics_govt_law\\\": politics_govt_law,\\n    \\\"sports\\\": sports,\\n}\";\n",
       "                var nbb_cells = Jupyter.notebook.get_cells();\n",
       "                for (var i = 0; i < nbb_cells.length; ++i) {\n",
       "                    if (nbb_cells[i].input_prompt_number == nbb_cell_id) {\n",
       "                        if (nbb_cells[i].get_text() == nbb_unformatted_code) {\n",
       "                             nbb_cells[i].set_text(nbb_formatted_code);\n",
       "                        }\n",
       "                        break;\n",
       "                    }\n",
       "                }\n",
       "            }, 500);\n",
       "            "
      ],
      "text/plain": [
       "<IPython.core.display.Javascript object>"
      ]
     },
     "metadata": {},
     "output_type": "display_data"
    }
   ],
   "source": [
    "# Combining separate lists into one dictionary\n",
    "known_for_dict = {\n",
    "    \"social\": social,\n",
    "    \"spiritual\": spiritual,\n",
    "    \"academia_humanities\": academia_humanities,\n",
    "    \"business_farming\": business_farming,\n",
    "    \"sciences\": sciences,\n",
    "    \"law_enf_military_operator\": law_enf_military_operator,\n",
    "    \"crime\": crime,\n",
    "    \"event_record_other\": event_record_other,\n",
    "    \"other_species\": other_species,\n",
    "    \"arts\": arts,\n",
    "    \"politics_govt_law\": politics_govt_law,\n",
    "    \"sports\": sports,\n",
    "}"
   ]
  },
  {
   "cell_type": "markdown",
   "id": "df266152",
   "metadata": {},
   "source": [
    "#### Extracting Category from `info_2`"
   ]
  },
  {
   "cell_type": "code",
   "execution_count": 92,
   "id": "24921843",
   "metadata": {},
   "outputs": [
    {
     "name": "stdout",
     "output_type": "stream",
     "text": [
      "CPU times: total: 30.9 s\n",
      "Wall time: 30.9 s\n"
     ]
    },
    {
     "data": {
      "text/html": [
       "<div>\n",
       "<style scoped>\n",
       "    .dataframe tbody tr th:only-of-type {\n",
       "        vertical-align: middle;\n",
       "    }\n",
       "\n",
       "    .dataframe tbody tr th {\n",
       "        vertical-align: top;\n",
       "    }\n",
       "\n",
       "    .dataframe thead th {\n",
       "        text-align: right;\n",
       "    }\n",
       "</style>\n",
       "<table border=\"1\" class=\"dataframe\">\n",
       "  <thead>\n",
       "    <tr style=\"text-align: right;\">\n",
       "      <th></th>\n",
       "      <th>day</th>\n",
       "      <th>name</th>\n",
       "      <th>info</th>\n",
       "      <th>link</th>\n",
       "      <th>num_references</th>\n",
       "      <th>year</th>\n",
       "      <th>month</th>\n",
       "      <th>info_parenth</th>\n",
       "      <th>info_1</th>\n",
       "      <th>info_2</th>\n",
       "      <th>info_3</th>\n",
       "      <th>info_4</th>\n",
       "      <th>info_5</th>\n",
       "      <th>info_6</th>\n",
       "      <th>info_7</th>\n",
       "      <th>info_8</th>\n",
       "      <th>info_9</th>\n",
       "      <th>info_10</th>\n",
       "      <th>info_11</th>\n",
       "      <th>age</th>\n",
       "      <th>cause_of_death</th>\n",
       "      <th>place_1</th>\n",
       "      <th>place_2</th>\n",
       "      <th>info_parenth_copy</th>\n",
       "      <th>log_num_references</th>\n",
       "      <th>sciences</th>\n",
       "      <th>social</th>\n",
       "      <th>spiritual</th>\n",
       "      <th>academia_humanities</th>\n",
       "      <th>business_farming</th>\n",
       "      <th>arts</th>\n",
       "      <th>sports</th>\n",
       "      <th>law_enf_military_operator</th>\n",
       "      <th>politics_govt_law</th>\n",
       "      <th>crime</th>\n",
       "      <th>event_record_other</th>\n",
       "      <th>other_species</th>\n",
       "      <th>num_categories</th>\n",
       "    </tr>\n",
       "  </thead>\n",
       "  <tbody>\n",
       "    <tr>\n",
       "      <th>21489</th>\n",
       "      <td>30</td>\n",
       "      <td>Slim Aarons</td>\n",
       "      <td>, 89, American photographer, stroke.</td>\n",
       "      <td>https://en.wikipedia.org/wiki/Slim_Aarons</td>\n",
       "      <td>9</td>\n",
       "      <td>2006</td>\n",
       "      <td>May</td>\n",
       "      <td>None</td>\n",
       "      <td>None</td>\n",
       "      <td></td>\n",
       "      <td>stroke</td>\n",
       "      <td>None</td>\n",
       "      <td>None</td>\n",
       "      <td>None</td>\n",
       "      <td>None</td>\n",
       "      <td>None</td>\n",
       "      <td>None</td>\n",
       "      <td>None</td>\n",
       "      <td>None</td>\n",
       "      <td>89.0</td>\n",
       "      <td>None</td>\n",
       "      <td>United States of America</td>\n",
       "      <td>None</td>\n",
       "      <td>None</td>\n",
       "      <td>2.302585</td>\n",
       "      <td>0</td>\n",
       "      <td>0</td>\n",
       "      <td>0</td>\n",
       "      <td>0</td>\n",
       "      <td>0</td>\n",
       "      <td>1</td>\n",
       "      <td>0</td>\n",
       "      <td>0</td>\n",
       "      <td>0</td>\n",
       "      <td>0</td>\n",
       "      <td>0</td>\n",
       "      <td>0</td>\n",
       "      <td>1</td>\n",
       "    </tr>\n",
       "    <tr>\n",
       "      <th>81882</th>\n",
       "      <td>26</td>\n",
       "      <td>Ejaz Qaiser</td>\n",
       "      <td>, 68, Pakistani singer.</td>\n",
       "      <td>https://en.wikipedia.org/wiki/Ejaz_Qaiser</td>\n",
       "      <td>5</td>\n",
       "      <td>2020</td>\n",
       "      <td>May</td>\n",
       "      <td>None</td>\n",
       "      <td>None</td>\n",
       "      <td></td>\n",
       "      <td>None</td>\n",
       "      <td>None</td>\n",
       "      <td>None</td>\n",
       "      <td>None</td>\n",
       "      <td>None</td>\n",
       "      <td>None</td>\n",
       "      <td>None</td>\n",
       "      <td>None</td>\n",
       "      <td>None</td>\n",
       "      <td>68.0</td>\n",
       "      <td>None</td>\n",
       "      <td>Pakistan</td>\n",
       "      <td>None</td>\n",
       "      <td>None</td>\n",
       "      <td>1.791759</td>\n",
       "      <td>0</td>\n",
       "      <td>0</td>\n",
       "      <td>0</td>\n",
       "      <td>0</td>\n",
       "      <td>0</td>\n",
       "      <td>1</td>\n",
       "      <td>0</td>\n",
       "      <td>0</td>\n",
       "      <td>0</td>\n",
       "      <td>0</td>\n",
       "      <td>0</td>\n",
       "      <td>0</td>\n",
       "      <td>1</td>\n",
       "    </tr>\n",
       "  </tbody>\n",
       "</table>\n",
       "</div>"
      ],
      "text/plain": [
       "      day         name                                  info  \\\n",
       "21489  30  Slim Aarons  , 89, American photographer, stroke.   \n",
       "81882  26  Ejaz Qaiser               , 68, Pakistani singer.   \n",
       "\n",
       "                                            link  num_references  year month  \\\n",
       "21489  https://en.wikipedia.org/wiki/Slim_Aarons               9  2006   May   \n",
       "81882  https://en.wikipedia.org/wiki/Ejaz_Qaiser               5  2020   May   \n",
       "\n",
       "      info_parenth info_1 info_2  info_3 info_4 info_5 info_6 info_7 info_8  \\\n",
       "21489         None   None         stroke   None   None   None   None   None   \n",
       "81882         None   None           None   None   None   None   None   None   \n",
       "\n",
       "      info_9 info_10 info_11   age cause_of_death                   place_1  \\\n",
       "21489   None    None    None  89.0           None  United States of America   \n",
       "81882   None    None    None  68.0           None                  Pakistan   \n",
       "\n",
       "      place_2 info_parenth_copy  log_num_references  sciences  social  \\\n",
       "21489    None              None            2.302585         0       0   \n",
       "81882    None              None            1.791759         0       0   \n",
       "\n",
       "       spiritual  academia_humanities  business_farming  arts  sports  \\\n",
       "21489          0                    0                 0     1       0   \n",
       "81882          0                    0                 0     1       0   \n",
       "\n",
       "       law_enf_military_operator  politics_govt_law  crime  \\\n",
       "21489                          0                  0      0   \n",
       "81882                          0                  0      0   \n",
       "\n",
       "       event_record_other  other_species  num_categories  \n",
       "21489                   0              0               1  \n",
       "81882                   0              0               1  "
      ]
     },
     "execution_count": 92,
     "metadata": {},
     "output_type": "execute_result"
    },
    {
     "data": {
      "application/javascript": [
       "\n",
       "            setTimeout(function() {\n",
       "                var nbb_cell_id = 92;\n",
       "                var nbb_unformatted_code = \"%%time\\n\\n# Dictionary version\\nsearch_dict = known_for_dict\\n\\n# Column to check\\ncolumn = 'info_2'\\n\\n# Dataframe\\ndataframe = df[column].notna()\\n\\n# For loop to find role in column and extract it as category\\nfor category, category_lst in search_dict.items():\\n    for role in category_lst:\\n        for index in dataframe.index:\\n            item = df.loc[index, column]\\n            if item:\\n                if role in item:\\n                    df.loc[index, category] = 1\\n                    df.loc[index, column] = item.replace(role, '').strip()\\n\\n# Updating num_categories\\ndf[\\\"num_categories\\\"] = df[known_for_dict.keys()].sum(axis=1)\\n\\n# Checking a sample of rows\\ndf[df['arts'] ==1].sample(2)\";\n",
       "                var nbb_formatted_code = \"%%time\\n\\n# Dictionary version\\nsearch_dict = known_for_dict\\n\\n# Column to check\\ncolumn = 'info_2'\\n\\n# Dataframe\\ndataframe = df[column].notna()\\n\\n# For loop to find role in column and extract it as category\\nfor category, category_lst in search_dict.items():\\n    for role in category_lst:\\n        for index in dataframe.index:\\n            item = df.loc[index, column]\\n            if item:\\n                if role in item:\\n                    df.loc[index, category] = 1\\n                    df.loc[index, column] = item.replace(role, '').strip()\\n\\n# Updating num_categories\\ndf[\\\"num_categories\\\"] = df[known_for_dict.keys()].sum(axis=1)\\n\\n# Checking a sample of rows\\ndf[df['arts'] ==1].sample(2)\";\n",
       "                var nbb_cells = Jupyter.notebook.get_cells();\n",
       "                for (var i = 0; i < nbb_cells.length; ++i) {\n",
       "                    if (nbb_cells[i].input_prompt_number == nbb_cell_id) {\n",
       "                        if (nbb_cells[i].get_text() == nbb_unformatted_code) {\n",
       "                             nbb_cells[i].set_text(nbb_formatted_code);\n",
       "                        }\n",
       "                        break;\n",
       "                    }\n",
       "                }\n",
       "            }, 500);\n",
       "            "
      ],
      "text/plain": [
       "<IPython.core.display.Javascript object>"
      ]
     },
     "metadata": {},
     "output_type": "display_data"
    }
   ],
   "source": [
    "%%time\n",
    "\n",
    "# Dictionary version\n",
    "search_dict = known_for_dict\n",
    "\n",
    "# Column to check\n",
    "column = 'info_2'\n",
    "\n",
    "# Dataframe\n",
    "dataframe = df[column].notna()\n",
    "\n",
    "# For loop to find role in column and extract it as category\n",
    "for category, category_lst in search_dict.items():\n",
    "    for role in category_lst:\n",
    "        for index in dataframe.index:\n",
    "            item = df.loc[index, column]\n",
    "            if item:\n",
    "                if role in item:\n",
    "                    df.loc[index, category] = 1\n",
    "                    df.loc[index, column] = item.replace(role, '').strip()\n",
    "\n",
    "# Updating num_categories\n",
    "df[\"num_categories\"] = df[known_for_dict.keys()].sum(axis=1)\n",
    "\n",
    "# Checking a sample of rows\n",
    "df[df['arts'] ==1].sample(2)"
   ]
  },
  {
   "cell_type": "markdown",
   "id": "dc87c055",
   "metadata": {},
   "source": [
    "#### Checking the Number of Rows without a First Category"
   ]
  },
  {
   "cell_type": "code",
   "execution_count": 93,
   "id": "2450733d",
   "metadata": {},
   "outputs": [
    {
     "name": "stdout",
     "output_type": "stream",
     "text": [
      "There are 40662 entries without any known_for category.\n"
     ]
    },
    {
     "data": {
      "application/javascript": [
       "\n",
       "            setTimeout(function() {\n",
       "                var nbb_cell_id = 93;\n",
       "                var nbb_unformatted_code = \"#### Checking the number of rows without a first category\\nprint(\\n    f'There are {len(df[df[\\\"num_categories\\\"]==0])} entries without any known_for category.'\\n)\";\n",
       "                var nbb_formatted_code = \"#### Checking the number of rows without a first category\\nprint(\\n    f'There are {len(df[df[\\\"num_categories\\\"]==0])} entries without any known_for category.'\\n)\";\n",
       "                var nbb_cells = Jupyter.notebook.get_cells();\n",
       "                for (var i = 0; i < nbb_cells.length; ++i) {\n",
       "                    if (nbb_cells[i].input_prompt_number == nbb_cell_id) {\n",
       "                        if (nbb_cells[i].get_text() == nbb_unformatted_code) {\n",
       "                             nbb_cells[i].set_text(nbb_formatted_code);\n",
       "                        }\n",
       "                        break;\n",
       "                    }\n",
       "                }\n",
       "            }, 500);\n",
       "            "
      ],
      "text/plain": [
       "<IPython.core.display.Javascript object>"
      ]
     },
     "metadata": {},
     "output_type": "display_data"
    }
   ],
   "source": [
    "#### Checking the number of rows without a first category\n",
    "print(\n",
    "    f'There are {len(df[df[\"num_categories\"]==0])} entries without any known_for category.'\n",
    ")"
   ]
  },
  {
   "cell_type": "markdown",
   "id": "4470257e",
   "metadata": {},
   "source": [
    "#### Observations:\n",
    "- We will proceed to rebuild `known_for_dict` for the next iteration."
   ]
  },
  {
   "cell_type": "markdown",
   "id": "5e344a14",
   "metadata": {},
   "source": [
    "#### Finding `known_for` Roles in `info_2`"
   ]
  },
  {
   "cell_type": "code",
   "execution_count": 94,
   "id": "b603e248",
   "metadata": {},
   "outputs": [
    {
     "data": {
      "application/javascript": [
       "\n",
       "            setTimeout(function() {\n",
       "                var nbb_cell_id = 94;\n",
       "                var nbb_unformatted_code = \"# Obtaining values for column and their counts\\nroles_list = df[\\\"info_2\\\"].value_counts(ascending=True).index.tolist()\";\n",
       "                var nbb_formatted_code = \"# Obtaining values for column and their counts\\nroles_list = df[\\\"info_2\\\"].value_counts(ascending=True).index.tolist()\";\n",
       "                var nbb_cells = Jupyter.notebook.get_cells();\n",
       "                for (var i = 0; i < nbb_cells.length; ++i) {\n",
       "                    if (nbb_cells[i].input_prompt_number == nbb_cell_id) {\n",
       "                        if (nbb_cells[i].get_text() == nbb_unformatted_code) {\n",
       "                             nbb_cells[i].set_text(nbb_formatted_code);\n",
       "                        }\n",
       "                        break;\n",
       "                    }\n",
       "                }\n",
       "            }, 500);\n",
       "            "
      ],
      "text/plain": [
       "<IPython.core.display.Javascript object>"
      ]
     },
     "metadata": {},
     "output_type": "display_data"
    }
   ],
   "source": [
    "# Obtaining values for column and their counts\n",
    "roles_list = df[\"info_2\"].value_counts(ascending=True).index.tolist()"
   ]
  },
  {
   "cell_type": "code",
   "execution_count": 95,
   "id": "b61b9a7a",
   "metadata": {},
   "outputs": [
    {
     "data": {
      "application/javascript": [
       "\n",
       "            setTimeout(function() {\n",
       "                var nbb_cell_id = 95;\n",
       "                var nbb_unformatted_code = \"# # Code to check each value\\n# roles_list.pop()\";\n",
       "                var nbb_formatted_code = \"# # Code to check each value\\n# roles_list.pop()\";\n",
       "                var nbb_cells = Jupyter.notebook.get_cells();\n",
       "                for (var i = 0; i < nbb_cells.length; ++i) {\n",
       "                    if (nbb_cells[i].input_prompt_number == nbb_cell_id) {\n",
       "                        if (nbb_cells[i].get_text() == nbb_unformatted_code) {\n",
       "                             nbb_cells[i].set_text(nbb_formatted_code);\n",
       "                        }\n",
       "                        break;\n",
       "                    }\n",
       "                }\n",
       "            }, 500);\n",
       "            "
      ],
      "text/plain": [
       "<IPython.core.display.Javascript object>"
      ]
     },
     "metadata": {},
     "output_type": "display_data"
    }
   ],
   "source": [
    "# # Code to check each value\n",
    "# roles_list.pop()"
   ]
  },
  {
   "cell_type": "code",
   "execution_count": 96,
   "id": "17c90b19",
   "metadata": {},
   "outputs": [
    {
     "data": {
      "application/javascript": [
       "\n",
       "            setTimeout(function() {\n",
       "                var nbb_cell_id = 96;\n",
       "                var nbb_unformatted_code = \"# # Create specific_roles_list for above popped value\\n# specific_roles_list = (\\n#     df.loc[\\n#         [index for index in df.index if \\\"lawyer\\\" in df.loc[index, \\\"info\\\"]], \\\"info_2\\\",\\n#     ]\\n#     .value_counts()\\n#     .index.tolist()\\n# )\";\n",
       "                var nbb_formatted_code = \"# # Create specific_roles_list for above popped value\\n# specific_roles_list = (\\n#     df.loc[\\n#         [index for index in df.index if \\\"lawyer\\\" in df.loc[index, \\\"info\\\"]], \\\"info_2\\\",\\n#     ]\\n#     .value_counts()\\n#     .index.tolist()\\n# )\";\n",
       "                var nbb_cells = Jupyter.notebook.get_cells();\n",
       "                for (var i = 0; i < nbb_cells.length; ++i) {\n",
       "                    if (nbb_cells[i].input_prompt_number == nbb_cell_id) {\n",
       "                        if (nbb_cells[i].get_text() == nbb_unformatted_code) {\n",
       "                             nbb_cells[i].set_text(nbb_formatted_code);\n",
       "                        }\n",
       "                        break;\n",
       "                    }\n",
       "                }\n",
       "            }, 500);\n",
       "            "
      ],
      "text/plain": [
       "<IPython.core.display.Javascript object>"
      ]
     },
     "metadata": {},
     "output_type": "display_data"
    }
   ],
   "source": [
    "# # Create specific_roles_list for above popped value\n",
    "# specific_roles_list = (\n",
    "#     df.loc[\n",
    "#         [index for index in df.index if \"lawyer\" in df.loc[index, \"info\"]], \"info_2\",\n",
    "#     ]\n",
    "#     .value_counts()\n",
    "#     .index.tolist()\n",
    "# )"
   ]
  },
  {
   "cell_type": "code",
   "execution_count": 97,
   "id": "0690faf9",
   "metadata": {},
   "outputs": [
    {
     "data": {
      "application/javascript": [
       "\n",
       "            setTimeout(function() {\n",
       "                var nbb_cell_id = 97;\n",
       "                var nbb_unformatted_code = \"# # Code to check each specific value\\n# specific_roles_list.pop()\";\n",
       "                var nbb_formatted_code = \"# # Code to check each specific value\\n# specific_roles_list.pop()\";\n",
       "                var nbb_cells = Jupyter.notebook.get_cells();\n",
       "                for (var i = 0; i < nbb_cells.length; ++i) {\n",
       "                    if (nbb_cells[i].input_prompt_number == nbb_cell_id) {\n",
       "                        if (nbb_cells[i].get_text() == nbb_unformatted_code) {\n",
       "                             nbb_cells[i].set_text(nbb_formatted_code);\n",
       "                        }\n",
       "                        break;\n",
       "                    }\n",
       "                }\n",
       "            }, 500);\n",
       "            "
      ],
      "text/plain": [
       "<IPython.core.display.Javascript object>"
      ]
     },
     "metadata": {},
     "output_type": "display_data"
    }
   ],
   "source": [
    "# # Code to check each specific value\n",
    "# specific_roles_list.pop()"
   ]
  },
  {
   "cell_type": "code",
   "execution_count": 98,
   "id": "52d681bf",
   "metadata": {},
   "outputs": [
    {
     "data": {
      "application/javascript": [
       "\n",
       "            setTimeout(function() {\n",
       "                var nbb_cell_id = 98;\n",
       "                var nbb_unformatted_code = \"# # Example code to quick-screen values that may overlap categories\\n# df.loc[\\n#     [index for index in df.index if \\\"labor leader and lawyer\\\" in df.loc[index, \\\"info\\\"]]\\n# ]\";\n",
       "                var nbb_formatted_code = \"# # Example code to quick-screen values that may overlap categories\\n# df.loc[\\n#     [index for index in df.index if \\\"labor leader and lawyer\\\" in df.loc[index, \\\"info\\\"]]\\n# ]\";\n",
       "                var nbb_cells = Jupyter.notebook.get_cells();\n",
       "                for (var i = 0; i < nbb_cells.length; ++i) {\n",
       "                    if (nbb_cells[i].input_prompt_number == nbb_cell_id) {\n",
       "                        if (nbb_cells[i].get_text() == nbb_unformatted_code) {\n",
       "                             nbb_cells[i].set_text(nbb_formatted_code);\n",
       "                        }\n",
       "                        break;\n",
       "                    }\n",
       "                }\n",
       "            }, 500);\n",
       "            "
      ],
      "text/plain": [
       "<IPython.core.display.Javascript object>"
      ]
     },
     "metadata": {},
     "output_type": "display_data"
    }
   ],
   "source": [
    "# # Example code to quick-screen values that may overlap categories\n",
    "# df.loc[\n",
    "#     [index for index in df.index if \"labor leader and lawyer\" in df.loc[index, \"info\"]]\n",
    "# ]"
   ]
  },
  {
   "cell_type": "code",
   "execution_count": 99,
   "id": "46a1350d",
   "metadata": {},
   "outputs": [
    {
     "data": {
      "application/javascript": [
       "\n",
       "            setTimeout(function() {\n",
       "                var nbb_cell_id = 99;\n",
       "                var nbb_unformatted_code = \"# # Example code to quick-check a specific entry\\n# df[df[\\\"info_2\\\"] == \\\"lawyer and administrator\\\"]\";\n",
       "                var nbb_formatted_code = \"# # Example code to quick-check a specific entry\\n# df[df[\\\"info_2\\\"] == \\\"lawyer and administrator\\\"]\";\n",
       "                var nbb_cells = Jupyter.notebook.get_cells();\n",
       "                for (var i = 0; i < nbb_cells.length; ++i) {\n",
       "                    if (nbb_cells[i].input_prompt_number == nbb_cell_id) {\n",
       "                        if (nbb_cells[i].get_text() == nbb_unformatted_code) {\n",
       "                             nbb_cells[i].set_text(nbb_formatted_code);\n",
       "                        }\n",
       "                        break;\n",
       "                    }\n",
       "                }\n",
       "            }, 500);\n",
       "            "
      ],
      "text/plain": [
       "<IPython.core.display.Javascript object>"
      ]
     },
     "metadata": {},
     "output_type": "display_data"
    }
   ],
   "source": [
    "# # Example code to quick-check a specific entry\n",
    "# df[df[\"info_2\"] == \"lawyer and administrator\"]"
   ]
  },
  {
   "cell_type": "code",
   "execution_count": 100,
   "id": "4375a32a",
   "metadata": {},
   "outputs": [
    {
     "data": {
      "application/javascript": [
       "\n",
       "            setTimeout(function() {\n",
       "                var nbb_cell_id = 100;\n",
       "                var nbb_unformatted_code = \"# Dropping entry that points to game show page rather than page for individual\\nindex = df[df[\\\"link\\\"] == \\\"https://en.wikipedia.org/wiki/Vivienne_Nearing\\\"].index\\ndf.drop(index, inplace=True)\\ndf.reset_index(inplace=True, drop=True)\";\n",
       "                var nbb_formatted_code = \"# Dropping entry that points to game show page rather than page for individual\\nindex = df[df[\\\"link\\\"] == \\\"https://en.wikipedia.org/wiki/Vivienne_Nearing\\\"].index\\ndf.drop(index, inplace=True)\\ndf.reset_index(inplace=True, drop=True)\";\n",
       "                var nbb_cells = Jupyter.notebook.get_cells();\n",
       "                for (var i = 0; i < nbb_cells.length; ++i) {\n",
       "                    if (nbb_cells[i].input_prompt_number == nbb_cell_id) {\n",
       "                        if (nbb_cells[i].get_text() == nbb_unformatted_code) {\n",
       "                             nbb_cells[i].set_text(nbb_formatted_code);\n",
       "                        }\n",
       "                        break;\n",
       "                    }\n",
       "                }\n",
       "            }, 500);\n",
       "            "
      ],
      "text/plain": [
       "<IPython.core.display.Javascript object>"
      ]
     },
     "metadata": {},
     "output_type": "display_data"
    }
   ],
   "source": [
    "# Dropping entry that points to game show page rather than page for individual\n",
    "index = df[df[\"link\"] == \"https://en.wikipedia.org/wiki/Vivienne_Nearing\"].index\n",
    "df.drop(index, inplace=True)\n",
    "df.reset_index(inplace=True, drop=True)"
   ]
  },
  {
   "cell_type": "markdown",
   "id": "3bf76dde",
   "metadata": {},
   "source": [
    "#### Creating Lists for Each `known_for` Category"
   ]
  },
  {
   "cell_type": "code",
   "execution_count": 101,
   "id": "d2b26cff",
   "metadata": {},
   "outputs": [
    {
     "data": {
      "application/javascript": [
       "\n",
       "            setTimeout(function() {\n",
       "                var nbb_cell_id = 101;\n",
       "                var nbb_unformatted_code = \"# Creating lists for each category\\npolitics_govt_law = [\\n    \\\"public interest lawyer\\\",\\n    \\\"lawyer and anti Apartheid activist\\\",\\n    \\\"lawyer and Chief Justice of\\\",\\n    \\\"lawyer for left wing clients and causes\\\",\\n    \\\"lawyer and key witness in the trial of Willem Holleeder\\\",\\n    \\\"Alabama state senator and lawyer\\\",\\n    \\\"labor lawyer and women rights advocate\\\",\\n    \\\"lawyer who fought for equitable access to legal services\\\",\\n    \\\"lawyer who defended dissidents\\\",\\n    \\\"defense lawyer for Saddam Hussein\\\",\\n    \\\"lawyer and civil liberties activist\\\",\\n    \\\"lawyer and former Lord of Appeal\\\",\\n    \\\"trial lawyer and political fundraiser\\\",\\n    \\\"trial lawyer and political power broker\\\",\\n    \\\"activist and lawyer\\\",\\n    \\\"pro life activist and lawyer\\\",\\n    \\\"South lawyer\\\",\\n    \\\"lawyer and partner in Jacoby & Meyers\\\",\\n    \\\"lawyer and political insider\\\",\\n    \\\"lawyer and white nationalist\\\",\\n    \\\"First Amendment lawyer\\\",\\n    \\\"lawyer and clan chief\\\",\\n    \\\"labor lawyer\\\",\\n    \\\"jailhouse lawyer\\\",\\n    \\\"lawyer and royal commissioner\\\",\\n    \\\"immigration lawyer\\\",\\n    \\\"lawyer and founder of Amnesty International\\\",\\n    \\\"libel lawyer\\\",\\n    \\\"lawyer and first Alabama Supreme Court justice\\\",\\n    \\\"lawyer and Postmaster General\\\",\\n    \\\"lawyer and longtime advisor to Jimmy Carter\\\",\\n    \\\"lawyer and Solicitor General\\\",\\n    'lawyer and \\\"fixer\\\" for the Chicago Mafia',\\n    \\\"lawyer who co founded the National Lawyers Guild\\\",\\n    \\\"lawyer and chief legal counsel to the RNC\\\",\\n    \\\"lawyer and communications executive and ambassador\\\",\\n    \\\"prosecuting lawyer who was the first attorney in the to achieve a murder conviction with exclusively circumstantial evidence\\\",\\n    \\\"lawyer who defended pacifist Ezra Pound\\\",\\n    \\\"lawyer and movie studio chairman\\\",\\n    \\\"civil rights and human rights lawyer\\\",\\n    \\\"lawyer and political advisor\\\",\\n    \\\"divorce lawyer\\\",\\n    \\\"lawyer and official\\\",\\n    \\\"criminal defense lawyer\\\",\\n    \\\"lawyer and dissident\\\",\\n    \\\"lawyer political advisor\\\",\\n    \\\"lawyer and Associate Justice of the Supreme Court of the\\\",\\n    \\\"lawyer civil rights activist\\\",\\n    \\\"lawyer and president of the ICTR\\\",\\n    \\\"lawyer and Governor of Kansas\\\",\\n    \\\"lawyer and Governor of South\\\",\\n    \\\"lawyer at the Department of Justice\\\",\\n    \\\"lawyer and a key figure in the Watergate investigation\\\",\\n    \\\"lawyer and civil rights advocate\\\",\\n    \\\"and criminal lawyer\\\",\\n    \\\"criminal lawyer and\\\",\\n    \\\"criminal lawyer\\\",\\n    \\\"lawyer and environmental activist\\\",\\n    \\\"human rights lawyer and anti apartheid activist\\\",\\n    \\\"lawyer and civil servant\\\",\\n    \\\"lawyer and civic activist\\\",\\n    \\\"lawyer and human rights advocate\\\",\\n    \\\"defense lawyer and prosecutor\\\",\\n    \\\"lawyer and presidential adviser\\\",\\n    \\\"lawyer and parliamentary draftsman\\\",\\n    \\\"landowner and lawyer\\\",\\n    \\\"lawyer and social activist\\\",\\n    \\\"lawyer and government official\\\",\\n    \\\"M\\u0101ori lawyer\\\",\\n    \\\"lawyer and community leader\\\",\\n    \\\"arbitration lawyer\\\",\\n    \\\"disability activist and lawyer\\\",\\n    \\\"lawyer and legal analyst\\\",\\n    \\\"lawyer and labor activist\\\",\\n    \\\"lawyer and eminent domain\\\",\\n    \\\"lawyer and magistrate\\\",\\n    \\\"bankruptcy lawyer\\\",\\n    \\\"pro lawyer\\\",\\n    \\\"lawyer and prisoner rights activist\\\",\\n    \\\"lawyer and anti apartheid activist\\\",\\n    \\\"lawyer and right to die campaigner\\\",\\n    \\\"lawyer and prosecutor\\\",\\n    \\\"intellectual property lawyer and\\\",\\n    \\\"intellectual property lawyer\\\",\\n    \\\"lawyer and policy adviser\\\",\\n    \\\"environmental lawyer\\\",\\n    \\\"abor lawyer\\\",\\n    \\\"human rights lawyer and life peer\\\",\\n    \\\"animal welfare lawyer\\\",\\n    \\\"LGBT rights lawyer\\\",\\n    \\\"reproductive rights activist and lawyer\\\",\\n    \\\"lawyer and political strategist\\\",\\n    \\\"lawyer and LGBT activist\\\",\\n    \\\"defense lawyer\\\",\\n    \\\"trial lawyer\\\",\\n    \\\"civil servant and lawyer\\\",\\n    \\\"lawyer and public official\\\",\\n    \\\"lawyer and activist\\\",\\n    \\\"lawyer and political activist\\\",\\n    \\\"lawyer and life peer\\\",\\n    \\\"lawyer and lobbyist\\\",\\n    \\\"lawyer and feminist\\\",\\n    \\\"civil rights lawyer and activist\\\",\\n    \\\"lawyer and women rights activist\\\",\\n    \\\"human rights activist and lawyer\\\",\\n    \\\"constitutional lawyer\\\",\\n    \\\"human rights lawyer\\\",\\n    \\\"lawyer and public servant\\\",\\n    \\\"and civil rights lawyer\\\",\\n    \\\"civil rights lawyer\\\",\\n    \\\"lawyer and civil rights activist\\\",\\n    \\\"lawyer and human rights activist\\\",\\n    \\\"tax lawyer and\\\",\\n    \\\"and Native rights lawyer\\\",\\n    \\\"anti segregation lawyer and\\\",\\n    \\\"lawyer and\\\",\\n    \\\"and lawyer\\\",\\n    \\\"lawyer\\\",\\n]\\n\\narts = [\\\"for the Grateful Dead\\\", \\\"to the stars\\\"]  # before politics_govt_law\\nsports = []\\nsciences = []\\n\\nbusiness_farming = []\\nacademia_humanities = []\\nlaw_enf_military_operator = []\\nspiritual = []\\nsocial = []\\ncrime = [\\\"gangland criminal\\\", \\\"disbarred\\\"]\\nevent_record_other = []\\nother_species = []\";\n",
       "                var nbb_formatted_code = \"# Creating lists for each category\\npolitics_govt_law = [\\n    \\\"public interest lawyer\\\",\\n    \\\"lawyer and anti Apartheid activist\\\",\\n    \\\"lawyer and Chief Justice of\\\",\\n    \\\"lawyer for left wing clients and causes\\\",\\n    \\\"lawyer and key witness in the trial of Willem Holleeder\\\",\\n    \\\"Alabama state senator and lawyer\\\",\\n    \\\"labor lawyer and women rights advocate\\\",\\n    \\\"lawyer who fought for equitable access to legal services\\\",\\n    \\\"lawyer who defended dissidents\\\",\\n    \\\"defense lawyer for Saddam Hussein\\\",\\n    \\\"lawyer and civil liberties activist\\\",\\n    \\\"lawyer and former Lord of Appeal\\\",\\n    \\\"trial lawyer and political fundraiser\\\",\\n    \\\"trial lawyer and political power broker\\\",\\n    \\\"activist and lawyer\\\",\\n    \\\"pro life activist and lawyer\\\",\\n    \\\"South lawyer\\\",\\n    \\\"lawyer and partner in Jacoby & Meyers\\\",\\n    \\\"lawyer and political insider\\\",\\n    \\\"lawyer and white nationalist\\\",\\n    \\\"First Amendment lawyer\\\",\\n    \\\"lawyer and clan chief\\\",\\n    \\\"labor lawyer\\\",\\n    \\\"jailhouse lawyer\\\",\\n    \\\"lawyer and royal commissioner\\\",\\n    \\\"immigration lawyer\\\",\\n    \\\"lawyer and founder of Amnesty International\\\",\\n    \\\"libel lawyer\\\",\\n    \\\"lawyer and first Alabama Supreme Court justice\\\",\\n    \\\"lawyer and Postmaster General\\\",\\n    \\\"lawyer and longtime advisor to Jimmy Carter\\\",\\n    \\\"lawyer and Solicitor General\\\",\\n    'lawyer and \\\"fixer\\\" for the Chicago Mafia',\\n    \\\"lawyer who co founded the National Lawyers Guild\\\",\\n    \\\"lawyer and chief legal counsel to the RNC\\\",\\n    \\\"lawyer and communications executive and ambassador\\\",\\n    \\\"prosecuting lawyer who was the first attorney in the to achieve a murder conviction with exclusively circumstantial evidence\\\",\\n    \\\"lawyer who defended pacifist Ezra Pound\\\",\\n    \\\"lawyer and movie studio chairman\\\",\\n    \\\"civil rights and human rights lawyer\\\",\\n    \\\"lawyer and political advisor\\\",\\n    \\\"divorce lawyer\\\",\\n    \\\"lawyer and official\\\",\\n    \\\"criminal defense lawyer\\\",\\n    \\\"lawyer and dissident\\\",\\n    \\\"lawyer political advisor\\\",\\n    \\\"lawyer and Associate Justice of the Supreme Court of the\\\",\\n    \\\"lawyer civil rights activist\\\",\\n    \\\"lawyer and president of the ICTR\\\",\\n    \\\"lawyer and Governor of Kansas\\\",\\n    \\\"lawyer and Governor of South\\\",\\n    \\\"lawyer at the Department of Justice\\\",\\n    \\\"lawyer and a key figure in the Watergate investigation\\\",\\n    \\\"lawyer and civil rights advocate\\\",\\n    \\\"and criminal lawyer\\\",\\n    \\\"criminal lawyer and\\\",\\n    \\\"criminal lawyer\\\",\\n    \\\"lawyer and environmental activist\\\",\\n    \\\"human rights lawyer and anti apartheid activist\\\",\\n    \\\"lawyer and civil servant\\\",\\n    \\\"lawyer and civic activist\\\",\\n    \\\"lawyer and human rights advocate\\\",\\n    \\\"defense lawyer and prosecutor\\\",\\n    \\\"lawyer and presidential adviser\\\",\\n    \\\"lawyer and parliamentary draftsman\\\",\\n    \\\"landowner and lawyer\\\",\\n    \\\"lawyer and social activist\\\",\\n    \\\"lawyer and government official\\\",\\n    \\\"M\\u0101ori lawyer\\\",\\n    \\\"lawyer and community leader\\\",\\n    \\\"arbitration lawyer\\\",\\n    \\\"disability activist and lawyer\\\",\\n    \\\"lawyer and legal analyst\\\",\\n    \\\"lawyer and labor activist\\\",\\n    \\\"lawyer and eminent domain\\\",\\n    \\\"lawyer and magistrate\\\",\\n    \\\"bankruptcy lawyer\\\",\\n    \\\"pro lawyer\\\",\\n    \\\"lawyer and prisoner rights activist\\\",\\n    \\\"lawyer and anti apartheid activist\\\",\\n    \\\"lawyer and right to die campaigner\\\",\\n    \\\"lawyer and prosecutor\\\",\\n    \\\"intellectual property lawyer and\\\",\\n    \\\"intellectual property lawyer\\\",\\n    \\\"lawyer and policy adviser\\\",\\n    \\\"environmental lawyer\\\",\\n    \\\"abor lawyer\\\",\\n    \\\"human rights lawyer and life peer\\\",\\n    \\\"animal welfare lawyer\\\",\\n    \\\"LGBT rights lawyer\\\",\\n    \\\"reproductive rights activist and lawyer\\\",\\n    \\\"lawyer and political strategist\\\",\\n    \\\"lawyer and LGBT activist\\\",\\n    \\\"defense lawyer\\\",\\n    \\\"trial lawyer\\\",\\n    \\\"civil servant and lawyer\\\",\\n    \\\"lawyer and public official\\\",\\n    \\\"lawyer and activist\\\",\\n    \\\"lawyer and political activist\\\",\\n    \\\"lawyer and life peer\\\",\\n    \\\"lawyer and lobbyist\\\",\\n    \\\"lawyer and feminist\\\",\\n    \\\"civil rights lawyer and activist\\\",\\n    \\\"lawyer and women rights activist\\\",\\n    \\\"human rights activist and lawyer\\\",\\n    \\\"constitutional lawyer\\\",\\n    \\\"human rights lawyer\\\",\\n    \\\"lawyer and public servant\\\",\\n    \\\"and civil rights lawyer\\\",\\n    \\\"civil rights lawyer\\\",\\n    \\\"lawyer and civil rights activist\\\",\\n    \\\"lawyer and human rights activist\\\",\\n    \\\"tax lawyer and\\\",\\n    \\\"and Native rights lawyer\\\",\\n    \\\"anti segregation lawyer and\\\",\\n    \\\"lawyer and\\\",\\n    \\\"and lawyer\\\",\\n    \\\"lawyer\\\",\\n]\\n\\narts = [\\\"for the Grateful Dead\\\", \\\"to the stars\\\"]  # before politics_govt_law\\nsports = []\\nsciences = []\\n\\nbusiness_farming = []\\nacademia_humanities = []\\nlaw_enf_military_operator = []\\nspiritual = []\\nsocial = []\\ncrime = [\\\"gangland criminal\\\", \\\"disbarred\\\"]\\nevent_record_other = []\\nother_species = []\";\n",
       "                var nbb_cells = Jupyter.notebook.get_cells();\n",
       "                for (var i = 0; i < nbb_cells.length; ++i) {\n",
       "                    if (nbb_cells[i].input_prompt_number == nbb_cell_id) {\n",
       "                        if (nbb_cells[i].get_text() == nbb_unformatted_code) {\n",
       "                             nbb_cells[i].set_text(nbb_formatted_code);\n",
       "                        }\n",
       "                        break;\n",
       "                    }\n",
       "                }\n",
       "            }, 500);\n",
       "            "
      ],
      "text/plain": [
       "<IPython.core.display.Javascript object>"
      ]
     },
     "metadata": {},
     "output_type": "display_data"
    }
   ],
   "source": [
    "# Creating lists for each category\n",
    "politics_govt_law = [\n",
    "    \"public interest lawyer\",\n",
    "    \"lawyer and anti Apartheid activist\",\n",
    "    \"lawyer and Chief Justice of\",\n",
    "    \"lawyer for left wing clients and causes\",\n",
    "    \"lawyer and key witness in the trial of Willem Holleeder\",\n",
    "    \"Alabama state senator and lawyer\",\n",
    "    \"labor lawyer and women rights advocate\",\n",
    "    \"lawyer who fought for equitable access to legal services\",\n",
    "    \"lawyer who defended dissidents\",\n",
    "    \"defense lawyer for Saddam Hussein\",\n",
    "    \"lawyer and civil liberties activist\",\n",
    "    \"lawyer and former Lord of Appeal\",\n",
    "    \"trial lawyer and political fundraiser\",\n",
    "    \"trial lawyer and political power broker\",\n",
    "    \"activist and lawyer\",\n",
    "    \"pro life activist and lawyer\",\n",
    "    \"South lawyer\",\n",
    "    \"lawyer and partner in Jacoby & Meyers\",\n",
    "    \"lawyer and political insider\",\n",
    "    \"lawyer and white nationalist\",\n",
    "    \"First Amendment lawyer\",\n",
    "    \"lawyer and clan chief\",\n",
    "    \"labor lawyer\",\n",
    "    \"jailhouse lawyer\",\n",
    "    \"lawyer and royal commissioner\",\n",
    "    \"immigration lawyer\",\n",
    "    \"lawyer and founder of Amnesty International\",\n",
    "    \"libel lawyer\",\n",
    "    \"lawyer and first Alabama Supreme Court justice\",\n",
    "    \"lawyer and Postmaster General\",\n",
    "    \"lawyer and longtime advisor to Jimmy Carter\",\n",
    "    \"lawyer and Solicitor General\",\n",
    "    'lawyer and \"fixer\" for the Chicago Mafia',\n",
    "    \"lawyer who co founded the National Lawyers Guild\",\n",
    "    \"lawyer and chief legal counsel to the RNC\",\n",
    "    \"lawyer and communications executive and ambassador\",\n",
    "    \"prosecuting lawyer who was the first attorney in the to achieve a murder conviction with exclusively circumstantial evidence\",\n",
    "    \"lawyer who defended pacifist Ezra Pound\",\n",
    "    \"lawyer and movie studio chairman\",\n",
    "    \"civil rights and human rights lawyer\",\n",
    "    \"lawyer and political advisor\",\n",
    "    \"divorce lawyer\",\n",
    "    \"lawyer and official\",\n",
    "    \"criminal defense lawyer\",\n",
    "    \"lawyer and dissident\",\n",
    "    \"lawyer political advisor\",\n",
    "    \"lawyer and Associate Justice of the Supreme Court of the\",\n",
    "    \"lawyer civil rights activist\",\n",
    "    \"lawyer and president of the ICTR\",\n",
    "    \"lawyer and Governor of Kansas\",\n",
    "    \"lawyer and Governor of South\",\n",
    "    \"lawyer at the Department of Justice\",\n",
    "    \"lawyer and a key figure in the Watergate investigation\",\n",
    "    \"lawyer and civil rights advocate\",\n",
    "    \"and criminal lawyer\",\n",
    "    \"criminal lawyer and\",\n",
    "    \"criminal lawyer\",\n",
    "    \"lawyer and environmental activist\",\n",
    "    \"human rights lawyer and anti apartheid activist\",\n",
    "    \"lawyer and civil servant\",\n",
    "    \"lawyer and civic activist\",\n",
    "    \"lawyer and human rights advocate\",\n",
    "    \"defense lawyer and prosecutor\",\n",
    "    \"lawyer and presidential adviser\",\n",
    "    \"lawyer and parliamentary draftsman\",\n",
    "    \"landowner and lawyer\",\n",
    "    \"lawyer and social activist\",\n",
    "    \"lawyer and government official\",\n",
    "    \"Māori lawyer\",\n",
    "    \"lawyer and community leader\",\n",
    "    \"arbitration lawyer\",\n",
    "    \"disability activist and lawyer\",\n",
    "    \"lawyer and legal analyst\",\n",
    "    \"lawyer and labor activist\",\n",
    "    \"lawyer and eminent domain\",\n",
    "    \"lawyer and magistrate\",\n",
    "    \"bankruptcy lawyer\",\n",
    "    \"pro lawyer\",\n",
    "    \"lawyer and prisoner rights activist\",\n",
    "    \"lawyer and anti apartheid activist\",\n",
    "    \"lawyer and right to die campaigner\",\n",
    "    \"lawyer and prosecutor\",\n",
    "    \"intellectual property lawyer and\",\n",
    "    \"intellectual property lawyer\",\n",
    "    \"lawyer and policy adviser\",\n",
    "    \"environmental lawyer\",\n",
    "    \"abor lawyer\",\n",
    "    \"human rights lawyer and life peer\",\n",
    "    \"animal welfare lawyer\",\n",
    "    \"LGBT rights lawyer\",\n",
    "    \"reproductive rights activist and lawyer\",\n",
    "    \"lawyer and political strategist\",\n",
    "    \"lawyer and LGBT activist\",\n",
    "    \"defense lawyer\",\n",
    "    \"trial lawyer\",\n",
    "    \"civil servant and lawyer\",\n",
    "    \"lawyer and public official\",\n",
    "    \"lawyer and activist\",\n",
    "    \"lawyer and political activist\",\n",
    "    \"lawyer and life peer\",\n",
    "    \"lawyer and lobbyist\",\n",
    "    \"lawyer and feminist\",\n",
    "    \"civil rights lawyer and activist\",\n",
    "    \"lawyer and women rights activist\",\n",
    "    \"human rights activist and lawyer\",\n",
    "    \"constitutional lawyer\",\n",
    "    \"human rights lawyer\",\n",
    "    \"lawyer and public servant\",\n",
    "    \"and civil rights lawyer\",\n",
    "    \"civil rights lawyer\",\n",
    "    \"lawyer and civil rights activist\",\n",
    "    \"lawyer and human rights activist\",\n",
    "    \"tax lawyer and\",\n",
    "    \"and Native rights lawyer\",\n",
    "    \"anti segregation lawyer and\",\n",
    "    \"lawyer and\",\n",
    "    \"and lawyer\",\n",
    "    \"lawyer\",\n",
    "]\n",
    "\n",
    "arts = [\"for the Grateful Dead\", \"to the stars\"]  # before politics_govt_law\n",
    "sports = []\n",
    "sciences = []\n",
    "\n",
    "business_farming = []\n",
    "academia_humanities = []\n",
    "law_enf_military_operator = []\n",
    "spiritual = []\n",
    "social = []\n",
    "crime = [\"gangland criminal\", \"disbarred\"]\n",
    "event_record_other = []\n",
    "other_species = []"
   ]
  },
  {
   "cell_type": "markdown",
   "id": "b590d52d",
   "metadata": {},
   "source": [
    "#### Creating `known_for_dict` Dictionary of Category Keys and Specific Role Lists of Values"
   ]
  },
  {
   "cell_type": "code",
   "execution_count": 102,
   "id": "8ff8dad4",
   "metadata": {},
   "outputs": [
    {
     "data": {
      "application/javascript": [
       "\n",
       "            setTimeout(function() {\n",
       "                var nbb_cell_id = 102;\n",
       "                var nbb_unformatted_code = \"# Combining separate lists into one dictionary\\nknown_for_dict = {\\n    \\\"social\\\": social,\\n    \\\"spiritual\\\": spiritual,\\n    \\\"academia_humanities\\\": academia_humanities,\\n    \\\"business_farming\\\": business_farming,\\n    \\\"sciences\\\": sciences,\\n    \\\"arts\\\": arts,\\n    \\\"politics_govt_law\\\": politics_govt_law,\\n    \\\"law_enf_military_operator\\\": law_enf_military_operator,\\n    \\\"crime\\\": crime,\\n    \\\"event_record_other\\\": event_record_other,\\n    \\\"other_species\\\": other_species,\\n    \\\"sports\\\": sports,\\n}\";\n",
       "                var nbb_formatted_code = \"# Combining separate lists into one dictionary\\nknown_for_dict = {\\n    \\\"social\\\": social,\\n    \\\"spiritual\\\": spiritual,\\n    \\\"academia_humanities\\\": academia_humanities,\\n    \\\"business_farming\\\": business_farming,\\n    \\\"sciences\\\": sciences,\\n    \\\"arts\\\": arts,\\n    \\\"politics_govt_law\\\": politics_govt_law,\\n    \\\"law_enf_military_operator\\\": law_enf_military_operator,\\n    \\\"crime\\\": crime,\\n    \\\"event_record_other\\\": event_record_other,\\n    \\\"other_species\\\": other_species,\\n    \\\"sports\\\": sports,\\n}\";\n",
       "                var nbb_cells = Jupyter.notebook.get_cells();\n",
       "                for (var i = 0; i < nbb_cells.length; ++i) {\n",
       "                    if (nbb_cells[i].input_prompt_number == nbb_cell_id) {\n",
       "                        if (nbb_cells[i].get_text() == nbb_unformatted_code) {\n",
       "                             nbb_cells[i].set_text(nbb_formatted_code);\n",
       "                        }\n",
       "                        break;\n",
       "                    }\n",
       "                }\n",
       "            }, 500);\n",
       "            "
      ],
      "text/plain": [
       "<IPython.core.display.Javascript object>"
      ]
     },
     "metadata": {},
     "output_type": "display_data"
    }
   ],
   "source": [
    "# Combining separate lists into one dictionary\n",
    "known_for_dict = {\n",
    "    \"social\": social,\n",
    "    \"spiritual\": spiritual,\n",
    "    \"academia_humanities\": academia_humanities,\n",
    "    \"business_farming\": business_farming,\n",
    "    \"sciences\": sciences,\n",
    "    \"arts\": arts,\n",
    "    \"politics_govt_law\": politics_govt_law,\n",
    "    \"law_enf_military_operator\": law_enf_military_operator,\n",
    "    \"crime\": crime,\n",
    "    \"event_record_other\": event_record_other,\n",
    "    \"other_species\": other_species,\n",
    "    \"sports\": sports,\n",
    "}"
   ]
  },
  {
   "cell_type": "markdown",
   "id": "13778fb5",
   "metadata": {},
   "source": [
    "#### Extracting Category from `info_2`"
   ]
  },
  {
   "cell_type": "code",
   "execution_count": 103,
   "id": "1f516fc0",
   "metadata": {},
   "outputs": [
    {
     "name": "stdout",
     "output_type": "stream",
     "text": [
      "CPU times: total: 1min 4s\n",
      "Wall time: 1min 4s\n"
     ]
    },
    {
     "data": {
      "text/html": [
       "<div>\n",
       "<style scoped>\n",
       "    .dataframe tbody tr th:only-of-type {\n",
       "        vertical-align: middle;\n",
       "    }\n",
       "\n",
       "    .dataframe tbody tr th {\n",
       "        vertical-align: top;\n",
       "    }\n",
       "\n",
       "    .dataframe thead th {\n",
       "        text-align: right;\n",
       "    }\n",
       "</style>\n",
       "<table border=\"1\" class=\"dataframe\">\n",
       "  <thead>\n",
       "    <tr style=\"text-align: right;\">\n",
       "      <th></th>\n",
       "      <th>day</th>\n",
       "      <th>name</th>\n",
       "      <th>info</th>\n",
       "      <th>link</th>\n",
       "      <th>num_references</th>\n",
       "      <th>year</th>\n",
       "      <th>month</th>\n",
       "      <th>info_parenth</th>\n",
       "      <th>info_1</th>\n",
       "      <th>info_2</th>\n",
       "      <th>info_3</th>\n",
       "      <th>info_4</th>\n",
       "      <th>info_5</th>\n",
       "      <th>info_6</th>\n",
       "      <th>info_7</th>\n",
       "      <th>info_8</th>\n",
       "      <th>info_9</th>\n",
       "      <th>info_10</th>\n",
       "      <th>info_11</th>\n",
       "      <th>age</th>\n",
       "      <th>cause_of_death</th>\n",
       "      <th>place_1</th>\n",
       "      <th>place_2</th>\n",
       "      <th>info_parenth_copy</th>\n",
       "      <th>log_num_references</th>\n",
       "      <th>sciences</th>\n",
       "      <th>social</th>\n",
       "      <th>spiritual</th>\n",
       "      <th>academia_humanities</th>\n",
       "      <th>business_farming</th>\n",
       "      <th>arts</th>\n",
       "      <th>sports</th>\n",
       "      <th>law_enf_military_operator</th>\n",
       "      <th>politics_govt_law</th>\n",
       "      <th>crime</th>\n",
       "      <th>event_record_other</th>\n",
       "      <th>other_species</th>\n",
       "      <th>num_categories</th>\n",
       "    </tr>\n",
       "  </thead>\n",
       "  <tbody>\n",
       "    <tr>\n",
       "      <th>90811</th>\n",
       "      <td>20</td>\n",
       "      <td>Alex Hesegem</td>\n",
       "      <td>, 63, Indonesian politician, vice governor of Papua , complications from diabetes, pneumonia and COVID-19.</td>\n",
       "      <td>https://en.wikipedia.org/wiki/Alex_Hesegem</td>\n",
       "      <td>26</td>\n",
       "      <td>2021</td>\n",
       "      <td>June</td>\n",
       "      <td></td>\n",
       "      <td>None</td>\n",
       "      <td></td>\n",
       "      <td>vice governor of Papua</td>\n",
       "      <td>complications from diabetes</td>\n",
       "      <td>pneumonia and COVID</td>\n",
       "      <td>None</td>\n",
       "      <td>None</td>\n",
       "      <td>None</td>\n",
       "      <td>None</td>\n",
       "      <td>None</td>\n",
       "      <td>None</td>\n",
       "      <td>63.0</td>\n",
       "      <td>None</td>\n",
       "      <td>Indonesia</td>\n",
       "      <td>None</td>\n",
       "      <td>2006 2011</td>\n",
       "      <td>3.295837</td>\n",
       "      <td>0</td>\n",
       "      <td>0</td>\n",
       "      <td>0</td>\n",
       "      <td>0</td>\n",
       "      <td>0</td>\n",
       "      <td>0</td>\n",
       "      <td>0</td>\n",
       "      <td>0</td>\n",
       "      <td>1</td>\n",
       "      <td>0</td>\n",
       "      <td>0</td>\n",
       "      <td>0</td>\n",
       "      <td>1</td>\n",
       "    </tr>\n",
       "    <tr>\n",
       "      <th>69081</th>\n",
       "      <td>18</td>\n",
       "      <td>Sir John Carrick</td>\n",
       "      <td>, 99, Australian politician, Minister for Education .</td>\n",
       "      <td>https://en.wikipedia.org/wiki/John_Carrick_(Australian_politician)</td>\n",
       "      <td>12</td>\n",
       "      <td>2018</td>\n",
       "      <td>May</td>\n",
       "      <td></td>\n",
       "      <td>None</td>\n",
       "      <td></td>\n",
       "      <td>Minister for Education</td>\n",
       "      <td>None</td>\n",
       "      <td>None</td>\n",
       "      <td>None</td>\n",
       "      <td>None</td>\n",
       "      <td>None</td>\n",
       "      <td>None</td>\n",
       "      <td>None</td>\n",
       "      <td>None</td>\n",
       "      <td>99.0</td>\n",
       "      <td>None</td>\n",
       "      <td>Australia</td>\n",
       "      <td>None</td>\n",
       "      <td>1975 1979</td>\n",
       "      <td>2.564949</td>\n",
       "      <td>0</td>\n",
       "      <td>0</td>\n",
       "      <td>0</td>\n",
       "      <td>0</td>\n",
       "      <td>0</td>\n",
       "      <td>0</td>\n",
       "      <td>0</td>\n",
       "      <td>0</td>\n",
       "      <td>1</td>\n",
       "      <td>0</td>\n",
       "      <td>0</td>\n",
       "      <td>0</td>\n",
       "      <td>1</td>\n",
       "    </tr>\n",
       "  </tbody>\n",
       "</table>\n",
       "</div>"
      ],
      "text/plain": [
       "      day              name  \\\n",
       "90811  20      Alex Hesegem   \n",
       "69081  18  Sir John Carrick   \n",
       "\n",
       "                                                                                                             info  \\\n",
       "90811  , 63, Indonesian politician, vice governor of Papua , complications from diabetes, pneumonia and COVID-19.   \n",
       "69081                                                       , 99, Australian politician, Minister for Education .   \n",
       "\n",
       "                                                                     link  \\\n",
       "90811                          https://en.wikipedia.org/wiki/Alex_Hesegem   \n",
       "69081  https://en.wikipedia.org/wiki/John_Carrick_(Australian_politician)   \n",
       "\n",
       "       num_references  year month info_parenth info_1 info_2  \\\n",
       "90811              26  2021  June                None          \n",
       "69081              12  2018   May                None          \n",
       "\n",
       "                       info_3                       info_4  \\\n",
       "90811  vice governor of Papua  complications from diabetes   \n",
       "69081  Minister for Education                         None   \n",
       "\n",
       "                    info_5 info_6 info_7 info_8 info_9 info_10 info_11   age  \\\n",
       "90811  pneumonia and COVID   None   None   None   None    None    None  63.0   \n",
       "69081                 None   None   None   None   None    None    None  99.0   \n",
       "\n",
       "      cause_of_death    place_1 place_2 info_parenth_copy  log_num_references  \\\n",
       "90811           None  Indonesia    None         2006 2011            3.295837   \n",
       "69081           None  Australia    None         1975 1979            2.564949   \n",
       "\n",
       "       sciences  social  spiritual  academia_humanities  business_farming  \\\n",
       "90811         0       0          0                    0                 0   \n",
       "69081         0       0          0                    0                 0   \n",
       "\n",
       "       arts  sports  law_enf_military_operator  politics_govt_law  crime  \\\n",
       "90811     0       0                          0                  1      0   \n",
       "69081     0       0                          0                  1      0   \n",
       "\n",
       "       event_record_other  other_species  num_categories  \n",
       "90811                   0              0               1  \n",
       "69081                   0              0               1  "
      ]
     },
     "execution_count": 103,
     "metadata": {},
     "output_type": "execute_result"
    },
    {
     "data": {
      "application/javascript": [
       "\n",
       "            setTimeout(function() {\n",
       "                var nbb_cell_id = 103;\n",
       "                var nbb_unformatted_code = \"%%time\\n\\n# Dictionary version\\nsearch_dict = known_for_dict\\n\\n# Column to check\\ncolumn = 'info_2'\\n\\n# Dataframe\\ndataframe = df[column].notna()\\n\\n# For loop to find role in column and extract it as category\\nfor category, category_lst in search_dict.items():\\n    for role in category_lst:\\n        for index in dataframe.index:\\n            item = df.loc[index, column]\\n            if item:\\n                if role in item:\\n                    df.loc[index, category] = 1\\n                    df.loc[index, column] = item.replace(role, '').strip()\\n\\n# Updating num_categories\\ndf[\\\"num_categories\\\"] = df[known_for_dict.keys()].sum(axis=1)\\n\\n# Checking a sample of rows\\ndf[df['politics_govt_law'] ==1].sample(2)\";\n",
       "                var nbb_formatted_code = \"%%time\\n\\n# Dictionary version\\nsearch_dict = known_for_dict\\n\\n# Column to check\\ncolumn = 'info_2'\\n\\n# Dataframe\\ndataframe = df[column].notna()\\n\\n# For loop to find role in column and extract it as category\\nfor category, category_lst in search_dict.items():\\n    for role in category_lst:\\n        for index in dataframe.index:\\n            item = df.loc[index, column]\\n            if item:\\n                if role in item:\\n                    df.loc[index, category] = 1\\n                    df.loc[index, column] = item.replace(role, '').strip()\\n\\n# Updating num_categories\\ndf[\\\"num_categories\\\"] = df[known_for_dict.keys()].sum(axis=1)\\n\\n# Checking a sample of rows\\ndf[df['politics_govt_law'] ==1].sample(2)\";\n",
       "                var nbb_cells = Jupyter.notebook.get_cells();\n",
       "                for (var i = 0; i < nbb_cells.length; ++i) {\n",
       "                    if (nbb_cells[i].input_prompt_number == nbb_cell_id) {\n",
       "                        if (nbb_cells[i].get_text() == nbb_unformatted_code) {\n",
       "                             nbb_cells[i].set_text(nbb_formatted_code);\n",
       "                        }\n",
       "                        break;\n",
       "                    }\n",
       "                }\n",
       "            }, 500);\n",
       "            "
      ],
      "text/plain": [
       "<IPython.core.display.Javascript object>"
      ]
     },
     "metadata": {},
     "output_type": "display_data"
    }
   ],
   "source": [
    "%%time\n",
    "\n",
    "# Dictionary version\n",
    "search_dict = known_for_dict\n",
    "\n",
    "# Column to check\n",
    "column = 'info_2'\n",
    "\n",
    "# Dataframe\n",
    "dataframe = df[column].notna()\n",
    "\n",
    "# For loop to find role in column and extract it as category\n",
    "for category, category_lst in search_dict.items():\n",
    "    for role in category_lst:\n",
    "        for index in dataframe.index:\n",
    "            item = df.loc[index, column]\n",
    "            if item:\n",
    "                if role in item:\n",
    "                    df.loc[index, category] = 1\n",
    "                    df.loc[index, column] = item.replace(role, '').strip()\n",
    "\n",
    "# Updating num_categories\n",
    "df[\"num_categories\"] = df[known_for_dict.keys()].sum(axis=1)\n",
    "\n",
    "# Checking a sample of rows\n",
    "df[df['politics_govt_law'] ==1].sample(2)"
   ]
  },
  {
   "cell_type": "markdown",
   "id": "ce7ffcd1",
   "metadata": {},
   "source": [
    "#### Checking the Number of Rows without a First Category"
   ]
  },
  {
   "cell_type": "code",
   "execution_count": 104,
   "id": "905ad618",
   "metadata": {},
   "outputs": [
    {
     "name": "stdout",
     "output_type": "stream",
     "text": [
      "There are 40126 entries without any known_for category.\n"
     ]
    },
    {
     "data": {
      "application/javascript": [
       "\n",
       "            setTimeout(function() {\n",
       "                var nbb_cell_id = 104;\n",
       "                var nbb_unformatted_code = \"#### Checking the number of rows without a first category\\nprint(\\n    f'There are {len(df[df[\\\"num_categories\\\"]==0])} entries without any known_for category.'\\n)\";\n",
       "                var nbb_formatted_code = \"#### Checking the number of rows without a first category\\nprint(\\n    f'There are {len(df[df[\\\"num_categories\\\"]==0])} entries without any known_for category.'\\n)\";\n",
       "                var nbb_cells = Jupyter.notebook.get_cells();\n",
       "                for (var i = 0; i < nbb_cells.length; ++i) {\n",
       "                    if (nbb_cells[i].input_prompt_number == nbb_cell_id) {\n",
       "                        if (nbb_cells[i].get_text() == nbb_unformatted_code) {\n",
       "                             nbb_cells[i].set_text(nbb_formatted_code);\n",
       "                        }\n",
       "                        break;\n",
       "                    }\n",
       "                }\n",
       "            }, 500);\n",
       "            "
      ],
      "text/plain": [
       "<IPython.core.display.Javascript object>"
      ]
     },
     "metadata": {},
     "output_type": "display_data"
    }
   ],
   "source": [
    "#### Checking the number of rows without a first category\n",
    "print(\n",
    "    f'There are {len(df[df[\"num_categories\"]==0])} entries without any known_for category.'\n",
    ")"
   ]
  },
  {
   "cell_type": "markdown",
   "id": "a66f4ffe",
   "metadata": {},
   "source": [
    "#### Observations:\n",
    "- We will proceed to rebuild `known_for_dict` for the next iteration."
   ]
  },
  {
   "cell_type": "markdown",
   "id": "d245002e",
   "metadata": {},
   "source": [
    "#### Finding `known_for` Roles in `info_2`"
   ]
  },
  {
   "cell_type": "code",
   "execution_count": 105,
   "id": "d52c7f49",
   "metadata": {},
   "outputs": [
    {
     "data": {
      "application/javascript": [
       "\n",
       "            setTimeout(function() {\n",
       "                var nbb_cell_id = 105;\n",
       "                var nbb_unformatted_code = \"# Obtaining values for column and their counts\\nroles_list = df[\\\"info_2\\\"].value_counts(ascending=True).index.tolist()\";\n",
       "                var nbb_formatted_code = \"# Obtaining values for column and their counts\\nroles_list = df[\\\"info_2\\\"].value_counts(ascending=True).index.tolist()\";\n",
       "                var nbb_cells = Jupyter.notebook.get_cells();\n",
       "                for (var i = 0; i < nbb_cells.length; ++i) {\n",
       "                    if (nbb_cells[i].input_prompt_number == nbb_cell_id) {\n",
       "                        if (nbb_cells[i].get_text() == nbb_unformatted_code) {\n",
       "                             nbb_cells[i].set_text(nbb_formatted_code);\n",
       "                        }\n",
       "                        break;\n",
       "                    }\n",
       "                }\n",
       "            }, 500);\n",
       "            "
      ],
      "text/plain": [
       "<IPython.core.display.Javascript object>"
      ]
     },
     "metadata": {},
     "output_type": "display_data"
    }
   ],
   "source": [
    "# Obtaining values for column and their counts\n",
    "roles_list = df[\"info_2\"].value_counts(ascending=True).index.tolist()"
   ]
  },
  {
   "cell_type": "code",
   "execution_count": 106,
   "id": "ef2c12cc",
   "metadata": {},
   "outputs": [
    {
     "data": {
      "application/javascript": [
       "\n",
       "            setTimeout(function() {\n",
       "                var nbb_cell_id = 106;\n",
       "                var nbb_unformatted_code = \"# # Code to check each value\\n# roles_list.pop()\";\n",
       "                var nbb_formatted_code = \"# # Code to check each value\\n# roles_list.pop()\";\n",
       "                var nbb_cells = Jupyter.notebook.get_cells();\n",
       "                for (var i = 0; i < nbb_cells.length; ++i) {\n",
       "                    if (nbb_cells[i].input_prompt_number == nbb_cell_id) {\n",
       "                        if (nbb_cells[i].get_text() == nbb_unformatted_code) {\n",
       "                             nbb_cells[i].set_text(nbb_formatted_code);\n",
       "                        }\n",
       "                        break;\n",
       "                    }\n",
       "                }\n",
       "            }, 500);\n",
       "            "
      ],
      "text/plain": [
       "<IPython.core.display.Javascript object>"
      ]
     },
     "metadata": {},
     "output_type": "display_data"
    }
   ],
   "source": [
    "# # Code to check each value\n",
    "# roles_list.pop()"
   ]
  },
  {
   "cell_type": "code",
   "execution_count": 107,
   "id": "0a25069a",
   "metadata": {},
   "outputs": [
    {
     "data": {
      "application/javascript": [
       "\n",
       "            setTimeout(function() {\n",
       "                var nbb_cell_id = 107;\n",
       "                var nbb_unformatted_code = \"# # Create specific_roles_list for above popped value\\n# specific_roles_list = (\\n#     df.loc[\\n#         [\\n#             index\\n#             for index in df.index\\n#             if \\\"professional wrestler\\\" in df.loc[index, \\\"info\\\"]\\n#         ],\\n#         \\\"info_2\\\",\\n#     ]\\n#     .value_counts()\\n#     .index.tolist()\\n# )\";\n",
       "                var nbb_formatted_code = \"# # Create specific_roles_list for above popped value\\n# specific_roles_list = (\\n#     df.loc[\\n#         [\\n#             index\\n#             for index in df.index\\n#             if \\\"professional wrestler\\\" in df.loc[index, \\\"info\\\"]\\n#         ],\\n#         \\\"info_2\\\",\\n#     ]\\n#     .value_counts()\\n#     .index.tolist()\\n# )\";\n",
       "                var nbb_cells = Jupyter.notebook.get_cells();\n",
       "                for (var i = 0; i < nbb_cells.length; ++i) {\n",
       "                    if (nbb_cells[i].input_prompt_number == nbb_cell_id) {\n",
       "                        if (nbb_cells[i].get_text() == nbb_unformatted_code) {\n",
       "                             nbb_cells[i].set_text(nbb_formatted_code);\n",
       "                        }\n",
       "                        break;\n",
       "                    }\n",
       "                }\n",
       "            }, 500);\n",
       "            "
      ],
      "text/plain": [
       "<IPython.core.display.Javascript object>"
      ]
     },
     "metadata": {},
     "output_type": "display_data"
    }
   ],
   "source": [
    "# # Create specific_roles_list for above popped value\n",
    "# specific_roles_list = (\n",
    "#     df.loc[\n",
    "#         [\n",
    "#             index\n",
    "#             for index in df.index\n",
    "#             if \"professional wrestler\" in df.loc[index, \"info\"]\n",
    "#         ],\n",
    "#         \"info_2\",\n",
    "#     ]\n",
    "#     .value_counts()\n",
    "#     .index.tolist()\n",
    "# )"
   ]
  },
  {
   "cell_type": "code",
   "execution_count": 108,
   "id": "b80003f0",
   "metadata": {},
   "outputs": [
    {
     "data": {
      "application/javascript": [
       "\n",
       "            setTimeout(function() {\n",
       "                var nbb_cell_id = 108;\n",
       "                var nbb_unformatted_code = \"# # Code to check each specific value\\n# specific_roles_list.pop()\";\n",
       "                var nbb_formatted_code = \"# # Code to check each specific value\\n# specific_roles_list.pop()\";\n",
       "                var nbb_cells = Jupyter.notebook.get_cells();\n",
       "                for (var i = 0; i < nbb_cells.length; ++i) {\n",
       "                    if (nbb_cells[i].input_prompt_number == nbb_cell_id) {\n",
       "                        if (nbb_cells[i].get_text() == nbb_unformatted_code) {\n",
       "                             nbb_cells[i].set_text(nbb_formatted_code);\n",
       "                        }\n",
       "                        break;\n",
       "                    }\n",
       "                }\n",
       "            }, 500);\n",
       "            "
      ],
      "text/plain": [
       "<IPython.core.display.Javascript object>"
      ]
     },
     "metadata": {},
     "output_type": "display_data"
    }
   ],
   "source": [
    "# # Code to check each specific value\n",
    "# specific_roles_list.pop()"
   ]
  },
  {
   "cell_type": "code",
   "execution_count": 109,
   "id": "d24403db",
   "metadata": {},
   "outputs": [
    {
     "data": {
      "application/javascript": [
       "\n",
       "            setTimeout(function() {\n",
       "                var nbb_cell_id = 109;\n",
       "                var nbb_unformatted_code = \"# # Example code to quick-check a specific entry\\n# df[df[\\\"info_2\\\"] == \\\"professional wrestler and valet\\\"]\";\n",
       "                var nbb_formatted_code = \"# # Example code to quick-check a specific entry\\n# df[df[\\\"info_2\\\"] == \\\"professional wrestler and valet\\\"]\";\n",
       "                var nbb_cells = Jupyter.notebook.get_cells();\n",
       "                for (var i = 0; i < nbb_cells.length; ++i) {\n",
       "                    if (nbb_cells[i].input_prompt_number == nbb_cell_id) {\n",
       "                        if (nbb_cells[i].get_text() == nbb_unformatted_code) {\n",
       "                             nbb_cells[i].set_text(nbb_formatted_code);\n",
       "                        }\n",
       "                        break;\n",
       "                    }\n",
       "                }\n",
       "            }, 500);\n",
       "            "
      ],
      "text/plain": [
       "<IPython.core.display.Javascript object>"
      ]
     },
     "metadata": {},
     "output_type": "display_data"
    }
   ],
   "source": [
    "# # Example code to quick-check a specific entry\n",
    "# df[df[\"info_2\"] == \"professional wrestler and valet\"]"
   ]
  },
  {
   "cell_type": "code",
   "execution_count": 110,
   "id": "aad828bb",
   "metadata": {},
   "outputs": [
    {
     "data": {
      "application/javascript": [
       "\n",
       "            setTimeout(function() {\n",
       "                var nbb_cell_id = 110;\n",
       "                var nbb_unformatted_code = \"# # Hard-coding cause_of_death for entry with value in info_2\\n# index = df[df[\\\"link\\\"] == \\\"https://en.wikipedia.org/wiki/Tony_Parisi_(wrestler)\\\"].index\\n# df.loc[index, \\\"cause_of_death\\\"] = \\\"aneurysm\\\"\";\n",
       "                var nbb_formatted_code = \"# # Hard-coding cause_of_death for entry with value in info_2\\n# index = df[df[\\\"link\\\"] == \\\"https://en.wikipedia.org/wiki/Tony_Parisi_(wrestler)\\\"].index\\n# df.loc[index, \\\"cause_of_death\\\"] = \\\"aneurysm\\\"\";\n",
       "                var nbb_cells = Jupyter.notebook.get_cells();\n",
       "                for (var i = 0; i < nbb_cells.length; ++i) {\n",
       "                    if (nbb_cells[i].input_prompt_number == nbb_cell_id) {\n",
       "                        if (nbb_cells[i].get_text() == nbb_unformatted_code) {\n",
       "                             nbb_cells[i].set_text(nbb_formatted_code);\n",
       "                        }\n",
       "                        break;\n",
       "                    }\n",
       "                }\n",
       "            }, 500);\n",
       "            "
      ],
      "text/plain": [
       "<IPython.core.display.Javascript object>"
      ]
     },
     "metadata": {},
     "output_type": "display_data"
    }
   ],
   "source": [
    "# # Hard-coding cause_of_death for entry with value in info_2\n",
    "# index = df[df[\"link\"] == \"https://en.wikipedia.org/wiki/Tony_Parisi_(wrestler)\"].index\n",
    "# df.loc[index, \"cause_of_death\"] = \"aneurysm\""
   ]
  },
  {
   "cell_type": "markdown",
   "id": "3b32c9b0",
   "metadata": {},
   "source": [
    "#### Creating Lists for Each `known_for` Category"
   ]
  },
  {
   "cell_type": "code",
   "execution_count": 111,
   "id": "9f62b551",
   "metadata": {},
   "outputs": [
    {
     "data": {
      "application/javascript": [
       "\n",
       "            setTimeout(function() {\n",
       "                var nbb_cell_id = 111;\n",
       "                var nbb_unformatted_code = \"# Creating lists for each category\\npolitics_govt_law = []\\n\\narts = []\\nsports = [\\n    \\\"professional wrestler and kickboxer\\\",\\n    \\\"women professional wrestler\\\",\\n    \\\"professional wrestler known as liver transplant\\\",\\n    \\\"professional wrestler known as aneurysm\\\",\\n    \\\"professional wrestler of descent\\\",\\n    'professional wrestler best known as \\\"Hercules Hernandez\\\" or simply just \\\"Hercules\\\"',\\n    'professional wrestler best known as \\\"Moondog King\\\"',\\n    'professional wrestler known as \\\"The Crusher\\\"',\\n    \\\"professional wrestler and booker\\\",\\n    \\\"professional wrestler for the World Wrestling Federation\\\",\\n    'Olympic judo bronze medalist and professional wrestler known as \\\"Bad News Brown\\\"',\\n    'professional wrestler known as \\\"The Black Shadow\\\"',\\n    \\\"professional wrestler during the Great Depression era\\\",\\n    \\\"WWE professional wrestler\\\",\\n    'professional wrestler known as \\\"Biff Wellington\\\"',\\n    \\\"sumo and professional wrestler\\\",\\n    \\\"professional wrestler and talent agent\\\",\\n    \\\"professional wrestler of the s s famous for feuds with Buddy Rogers\\\",\\n    \\\"bodybuilder and professional wrestler\\\",\\n    \\\"professional wrestler and wrestling manager\\\",\\n    \\\"professional wrestler and valet\\\",\\n    \\\"professional wrestler and referee\\\",\\n    \\\"Hall of Fame professional wrestler and trainer\\\",\\n    \\\"female professional wrestler\\\",\\n    \\\"lucha libre professional wrestler\\\",\\n    \\\"professional wrestler and trainer\\\",\\n    \\\"professional wrestler and promoter\\\",\\n    \\\"professional wrestler and manager\\\",\\n    \\\"Hall of Fame professional wrestler\\\",\\n    \\\"professional wrestler known as\\\",\\n    \\\"professional wrestler and\\\",\\n    \\\"and professional wrestler\\\",\\n    \\\"professional wrestler\\\",\\n]\\nsciences = []\\n\\nbusiness_farming = []\\nacademia_humanities = []\\nlaw_enf_military_operator = []\\nspiritual = []\\nsocial = []\\ncrime = []\\nevent_record_other = []\\nother_species = []\";\n",
       "                var nbb_formatted_code = \"# Creating lists for each category\\npolitics_govt_law = []\\n\\narts = []\\nsports = [\\n    \\\"professional wrestler and kickboxer\\\",\\n    \\\"women professional wrestler\\\",\\n    \\\"professional wrestler known as liver transplant\\\",\\n    \\\"professional wrestler known as aneurysm\\\",\\n    \\\"professional wrestler of descent\\\",\\n    'professional wrestler best known as \\\"Hercules Hernandez\\\" or simply just \\\"Hercules\\\"',\\n    'professional wrestler best known as \\\"Moondog King\\\"',\\n    'professional wrestler known as \\\"The Crusher\\\"',\\n    \\\"professional wrestler and booker\\\",\\n    \\\"professional wrestler for the World Wrestling Federation\\\",\\n    'Olympic judo bronze medalist and professional wrestler known as \\\"Bad News Brown\\\"',\\n    'professional wrestler known as \\\"The Black Shadow\\\"',\\n    \\\"professional wrestler during the Great Depression era\\\",\\n    \\\"WWE professional wrestler\\\",\\n    'professional wrestler known as \\\"Biff Wellington\\\"',\\n    \\\"sumo and professional wrestler\\\",\\n    \\\"professional wrestler and talent agent\\\",\\n    \\\"professional wrestler of the s s famous for feuds with Buddy Rogers\\\",\\n    \\\"bodybuilder and professional wrestler\\\",\\n    \\\"professional wrestler and wrestling manager\\\",\\n    \\\"professional wrestler and valet\\\",\\n    \\\"professional wrestler and referee\\\",\\n    \\\"Hall of Fame professional wrestler and trainer\\\",\\n    \\\"female professional wrestler\\\",\\n    \\\"lucha libre professional wrestler\\\",\\n    \\\"professional wrestler and trainer\\\",\\n    \\\"professional wrestler and promoter\\\",\\n    \\\"professional wrestler and manager\\\",\\n    \\\"Hall of Fame professional wrestler\\\",\\n    \\\"professional wrestler known as\\\",\\n    \\\"professional wrestler and\\\",\\n    \\\"and professional wrestler\\\",\\n    \\\"professional wrestler\\\",\\n]\\nsciences = []\\n\\nbusiness_farming = []\\nacademia_humanities = []\\nlaw_enf_military_operator = []\\nspiritual = []\\nsocial = []\\ncrime = []\\nevent_record_other = []\\nother_species = []\";\n",
       "                var nbb_cells = Jupyter.notebook.get_cells();\n",
       "                for (var i = 0; i < nbb_cells.length; ++i) {\n",
       "                    if (nbb_cells[i].input_prompt_number == nbb_cell_id) {\n",
       "                        if (nbb_cells[i].get_text() == nbb_unformatted_code) {\n",
       "                             nbb_cells[i].set_text(nbb_formatted_code);\n",
       "                        }\n",
       "                        break;\n",
       "                    }\n",
       "                }\n",
       "            }, 500);\n",
       "            "
      ],
      "text/plain": [
       "<IPython.core.display.Javascript object>"
      ]
     },
     "metadata": {},
     "output_type": "display_data"
    }
   ],
   "source": [
    "# Creating lists for each category\n",
    "politics_govt_law = []\n",
    "\n",
    "arts = []\n",
    "sports = [\n",
    "    \"professional wrestler and kickboxer\",\n",
    "    \"women professional wrestler\",\n",
    "    \"professional wrestler known as liver transplant\",\n",
    "    \"professional wrestler known as aneurysm\",\n",
    "    \"professional wrestler of descent\",\n",
    "    'professional wrestler best known as \"Hercules Hernandez\" or simply just \"Hercules\"',\n",
    "    'professional wrestler best known as \"Moondog King\"',\n",
    "    'professional wrestler known as \"The Crusher\"',\n",
    "    \"professional wrestler and booker\",\n",
    "    \"professional wrestler for the World Wrestling Federation\",\n",
    "    'Olympic judo bronze medalist and professional wrestler known as \"Bad News Brown\"',\n",
    "    'professional wrestler known as \"The Black Shadow\"',\n",
    "    \"professional wrestler during the Great Depression era\",\n",
    "    \"WWE professional wrestler\",\n",
    "    'professional wrestler known as \"Biff Wellington\"',\n",
    "    \"sumo and professional wrestler\",\n",
    "    \"professional wrestler and talent agent\",\n",
    "    \"professional wrestler of the s s famous for feuds with Buddy Rogers\",\n",
    "    \"bodybuilder and professional wrestler\",\n",
    "    \"professional wrestler and wrestling manager\",\n",
    "    \"professional wrestler and valet\",\n",
    "    \"professional wrestler and referee\",\n",
    "    \"Hall of Fame professional wrestler and trainer\",\n",
    "    \"female professional wrestler\",\n",
    "    \"lucha libre professional wrestler\",\n",
    "    \"professional wrestler and trainer\",\n",
    "    \"professional wrestler and promoter\",\n",
    "    \"professional wrestler and manager\",\n",
    "    \"Hall of Fame professional wrestler\",\n",
    "    \"professional wrestler known as\",\n",
    "    \"professional wrestler and\",\n",
    "    \"and professional wrestler\",\n",
    "    \"professional wrestler\",\n",
    "]\n",
    "sciences = []\n",
    "\n",
    "business_farming = []\n",
    "academia_humanities = []\n",
    "law_enf_military_operator = []\n",
    "spiritual = []\n",
    "social = []\n",
    "crime = []\n",
    "event_record_other = []\n",
    "other_species = []"
   ]
  },
  {
   "cell_type": "code",
   "execution_count": 112,
   "id": "4b5dfb29",
   "metadata": {},
   "outputs": [
    {
     "data": {
      "application/javascript": [
       "\n",
       "            setTimeout(function() {\n",
       "                var nbb_cell_id = 112;\n",
       "                var nbb_unformatted_code = \"# Hard-coding cause_of_death for entry with value in info_2\\nindex = df[df[\\\"link\\\"] == \\\"https://en.wikipedia.org/wiki/Jumbo_Tsuruta\\\"].index\\ndf.loc[index, \\\"cause_of_death\\\"] = \\\"complications from liver transplant\\\"\";\n",
       "                var nbb_formatted_code = \"# Hard-coding cause_of_death for entry with value in info_2\\nindex = df[df[\\\"link\\\"] == \\\"https://en.wikipedia.org/wiki/Jumbo_Tsuruta\\\"].index\\ndf.loc[index, \\\"cause_of_death\\\"] = \\\"complications from liver transplant\\\"\";\n",
       "                var nbb_cells = Jupyter.notebook.get_cells();\n",
       "                for (var i = 0; i < nbb_cells.length; ++i) {\n",
       "                    if (nbb_cells[i].input_prompt_number == nbb_cell_id) {\n",
       "                        if (nbb_cells[i].get_text() == nbb_unformatted_code) {\n",
       "                             nbb_cells[i].set_text(nbb_formatted_code);\n",
       "                        }\n",
       "                        break;\n",
       "                    }\n",
       "                }\n",
       "            }, 500);\n",
       "            "
      ],
      "text/plain": [
       "<IPython.core.display.Javascript object>"
      ]
     },
     "metadata": {},
     "output_type": "display_data"
    }
   ],
   "source": [
    "# Hard-coding cause_of_death for entry with value in info_2\n",
    "index = df[df[\"link\"] == \"https://en.wikipedia.org/wiki/Jumbo_Tsuruta\"].index\n",
    "df.loc[index, \"cause_of_death\"] = \"complications from liver transplant\""
   ]
  },
  {
   "cell_type": "markdown",
   "id": "e401e58a",
   "metadata": {},
   "source": [
    "#### Creating `known_for_dict` Dictionary of Category Keys and Specific Role Lists of Values"
   ]
  },
  {
   "cell_type": "code",
   "execution_count": 113,
   "id": "c058b154",
   "metadata": {},
   "outputs": [
    {
     "data": {
      "application/javascript": [
       "\n",
       "            setTimeout(function() {\n",
       "                var nbb_cell_id = 113;\n",
       "                var nbb_unformatted_code = \"# Combining separate lists into one dictionary\\nknown_for_dict = {\\n    \\\"social\\\": social,\\n    \\\"spiritual\\\": spiritual,\\n    \\\"academia_humanities\\\": academia_humanities,\\n    \\\"business_farming\\\": business_farming,\\n    \\\"sciences\\\": sciences,\\n    \\\"politics_govt_law\\\": politics_govt_law,\\n    \\\"law_enf_military_operator\\\": law_enf_military_operator,\\n    \\\"crime\\\": crime,\\n    \\\"event_record_other\\\": event_record_other,\\n    \\\"other_species\\\": other_species,\\n    \\\"arts\\\": arts,\\n    \\\"sports\\\": sports,\\n}\";\n",
       "                var nbb_formatted_code = \"# Combining separate lists into one dictionary\\nknown_for_dict = {\\n    \\\"social\\\": social,\\n    \\\"spiritual\\\": spiritual,\\n    \\\"academia_humanities\\\": academia_humanities,\\n    \\\"business_farming\\\": business_farming,\\n    \\\"sciences\\\": sciences,\\n    \\\"politics_govt_law\\\": politics_govt_law,\\n    \\\"law_enf_military_operator\\\": law_enf_military_operator,\\n    \\\"crime\\\": crime,\\n    \\\"event_record_other\\\": event_record_other,\\n    \\\"other_species\\\": other_species,\\n    \\\"arts\\\": arts,\\n    \\\"sports\\\": sports,\\n}\";\n",
       "                var nbb_cells = Jupyter.notebook.get_cells();\n",
       "                for (var i = 0; i < nbb_cells.length; ++i) {\n",
       "                    if (nbb_cells[i].input_prompt_number == nbb_cell_id) {\n",
       "                        if (nbb_cells[i].get_text() == nbb_unformatted_code) {\n",
       "                             nbb_cells[i].set_text(nbb_formatted_code);\n",
       "                        }\n",
       "                        break;\n",
       "                    }\n",
       "                }\n",
       "            }, 500);\n",
       "            "
      ],
      "text/plain": [
       "<IPython.core.display.Javascript object>"
      ]
     },
     "metadata": {},
     "output_type": "display_data"
    }
   ],
   "source": [
    "# Combining separate lists into one dictionary\n",
    "known_for_dict = {\n",
    "    \"social\": social,\n",
    "    \"spiritual\": spiritual,\n",
    "    \"academia_humanities\": academia_humanities,\n",
    "    \"business_farming\": business_farming,\n",
    "    \"sciences\": sciences,\n",
    "    \"politics_govt_law\": politics_govt_law,\n",
    "    \"law_enf_military_operator\": law_enf_military_operator,\n",
    "    \"crime\": crime,\n",
    "    \"event_record_other\": event_record_other,\n",
    "    \"other_species\": other_species,\n",
    "    \"arts\": arts,\n",
    "    \"sports\": sports,\n",
    "}"
   ]
  },
  {
   "cell_type": "markdown",
   "id": "dd250c16",
   "metadata": {},
   "source": [
    "#### Extracting Category from `info_2`"
   ]
  },
  {
   "cell_type": "code",
   "execution_count": 114,
   "id": "dd5697d5",
   "metadata": {},
   "outputs": [
    {
     "name": "stdout",
     "output_type": "stream",
     "text": [
      "CPU times: total: 17.8 s\n",
      "Wall time: 17.7 s\n"
     ]
    },
    {
     "data": {
      "text/html": [
       "<div>\n",
       "<style scoped>\n",
       "    .dataframe tbody tr th:only-of-type {\n",
       "        vertical-align: middle;\n",
       "    }\n",
       "\n",
       "    .dataframe tbody tr th {\n",
       "        vertical-align: top;\n",
       "    }\n",
       "\n",
       "    .dataframe thead th {\n",
       "        text-align: right;\n",
       "    }\n",
       "</style>\n",
       "<table border=\"1\" class=\"dataframe\">\n",
       "  <thead>\n",
       "    <tr style=\"text-align: right;\">\n",
       "      <th></th>\n",
       "      <th>day</th>\n",
       "      <th>name</th>\n",
       "      <th>info</th>\n",
       "      <th>link</th>\n",
       "      <th>num_references</th>\n",
       "      <th>year</th>\n",
       "      <th>month</th>\n",
       "      <th>info_parenth</th>\n",
       "      <th>info_1</th>\n",
       "      <th>info_2</th>\n",
       "      <th>info_3</th>\n",
       "      <th>info_4</th>\n",
       "      <th>info_5</th>\n",
       "      <th>info_6</th>\n",
       "      <th>info_7</th>\n",
       "      <th>info_8</th>\n",
       "      <th>info_9</th>\n",
       "      <th>info_10</th>\n",
       "      <th>info_11</th>\n",
       "      <th>age</th>\n",
       "      <th>cause_of_death</th>\n",
       "      <th>place_1</th>\n",
       "      <th>place_2</th>\n",
       "      <th>info_parenth_copy</th>\n",
       "      <th>log_num_references</th>\n",
       "      <th>sciences</th>\n",
       "      <th>social</th>\n",
       "      <th>spiritual</th>\n",
       "      <th>academia_humanities</th>\n",
       "      <th>business_farming</th>\n",
       "      <th>arts</th>\n",
       "      <th>sports</th>\n",
       "      <th>law_enf_military_operator</th>\n",
       "      <th>politics_govt_law</th>\n",
       "      <th>crime</th>\n",
       "      <th>event_record_other</th>\n",
       "      <th>other_species</th>\n",
       "      <th>num_categories</th>\n",
       "    </tr>\n",
       "  </thead>\n",
       "  <tbody>\n",
       "    <tr>\n",
       "      <th>35417</th>\n",
       "      <td>5</td>\n",
       "      <td>Stan Willemse</td>\n",
       "      <td>, 86, British footballer .</td>\n",
       "      <td>https://en.wikipedia.org/wiki/Stan_Willemse</td>\n",
       "      <td>6</td>\n",
       "      <td>2011</td>\n",
       "      <td>August</td>\n",
       "      <td>Chelsea</td>\n",
       "      <td>None</td>\n",
       "      <td></td>\n",
       "      <td>None</td>\n",
       "      <td>None</td>\n",
       "      <td>None</td>\n",
       "      <td>None</td>\n",
       "      <td>None</td>\n",
       "      <td>None</td>\n",
       "      <td>None</td>\n",
       "      <td>None</td>\n",
       "      <td>None</td>\n",
       "      <td>86.0</td>\n",
       "      <td>None</td>\n",
       "      <td>United Kingdom of Great Britain and Northern Ireland</td>\n",
       "      <td>None</td>\n",
       "      <td>Chelsea</td>\n",
       "      <td>1.945910</td>\n",
       "      <td>0</td>\n",
       "      <td>0</td>\n",
       "      <td>0</td>\n",
       "      <td>0</td>\n",
       "      <td>0</td>\n",
       "      <td>0</td>\n",
       "      <td>1</td>\n",
       "      <td>0</td>\n",
       "      <td>0</td>\n",
       "      <td>0</td>\n",
       "      <td>0</td>\n",
       "      <td>0</td>\n",
       "      <td>1</td>\n",
       "    </tr>\n",
       "    <tr>\n",
       "      <th>55178</th>\n",
       "      <td>10</td>\n",
       "      <td>Sam Adams, Sr.</td>\n",
       "      <td>, 67, American football player .</td>\n",
       "      <td>https://en.wikipedia.org/wiki/Sam_Adams,_Sr.</td>\n",
       "      <td>3</td>\n",
       "      <td>2015</td>\n",
       "      <td>October</td>\n",
       "      <td>New Patriots, New Orleans Saints</td>\n",
       "      <td>None</td>\n",
       "      <td></td>\n",
       "      <td>None</td>\n",
       "      <td>None</td>\n",
       "      <td>None</td>\n",
       "      <td>None</td>\n",
       "      <td>None</td>\n",
       "      <td>None</td>\n",
       "      <td>None</td>\n",
       "      <td>None</td>\n",
       "      <td>None</td>\n",
       "      <td>67.0</td>\n",
       "      <td>None</td>\n",
       "      <td>United States of America</td>\n",
       "      <td>None</td>\n",
       "      <td>New England Patriots, New Orleans Saints</td>\n",
       "      <td>1.386294</td>\n",
       "      <td>0</td>\n",
       "      <td>0</td>\n",
       "      <td>0</td>\n",
       "      <td>0</td>\n",
       "      <td>0</td>\n",
       "      <td>0</td>\n",
       "      <td>1</td>\n",
       "      <td>0</td>\n",
       "      <td>0</td>\n",
       "      <td>0</td>\n",
       "      <td>0</td>\n",
       "      <td>0</td>\n",
       "      <td>1</td>\n",
       "    </tr>\n",
       "  </tbody>\n",
       "</table>\n",
       "</div>"
      ],
      "text/plain": [
       "      day            name                              info  \\\n",
       "35417   5   Stan Willemse        , 86, British footballer .   \n",
       "55178  10  Sam Adams, Sr.  , 67, American football player .   \n",
       "\n",
       "                                               link  num_references  year  \\\n",
       "35417   https://en.wikipedia.org/wiki/Stan_Willemse               6  2011   \n",
       "55178  https://en.wikipedia.org/wiki/Sam_Adams,_Sr.               3  2015   \n",
       "\n",
       "         month                      info_parenth info_1 info_2 info_3 info_4  \\\n",
       "35417   August                           Chelsea   None          None   None   \n",
       "55178  October  New Patriots, New Orleans Saints   None          None   None   \n",
       "\n",
       "      info_5 info_6 info_7 info_8 info_9 info_10 info_11   age cause_of_death  \\\n",
       "35417   None   None   None   None   None    None    None  86.0           None   \n",
       "55178   None   None   None   None   None    None    None  67.0           None   \n",
       "\n",
       "                                                    place_1 place_2  \\\n",
       "35417  United Kingdom of Great Britain and Northern Ireland    None   \n",
       "55178                              United States of America    None   \n",
       "\n",
       "                              info_parenth_copy  log_num_references  sciences  \\\n",
       "35417                                   Chelsea            1.945910         0   \n",
       "55178  New England Patriots, New Orleans Saints            1.386294         0   \n",
       "\n",
       "       social  spiritual  academia_humanities  business_farming  arts  sports  \\\n",
       "35417       0          0                    0                 0     0       1   \n",
       "55178       0          0                    0                 0     0       1   \n",
       "\n",
       "       law_enf_military_operator  politics_govt_law  crime  \\\n",
       "35417                          0                  0      0   \n",
       "55178                          0                  0      0   \n",
       "\n",
       "       event_record_other  other_species  num_categories  \n",
       "35417                   0              0               1  \n",
       "55178                   0              0               1  "
      ]
     },
     "execution_count": 114,
     "metadata": {},
     "output_type": "execute_result"
    },
    {
     "data": {
      "application/javascript": [
       "\n",
       "            setTimeout(function() {\n",
       "                var nbb_cell_id = 114;\n",
       "                var nbb_unformatted_code = \"%%time\\n\\n# Dictionary version\\nsearch_dict = known_for_dict\\n\\n# Column to check\\ncolumn = 'info_2'\\n\\n# Dataframe\\ndataframe = df[column].notna()\\n\\n# For loop to find role in column and extract it as category\\nfor category, category_lst in search_dict.items():\\n    for role in category_lst:\\n        for index in dataframe.index:\\n            item = df.loc[index, column]\\n            if item:\\n                if role in item:\\n                    df.loc[index, category] = 1\\n                    df.loc[index, column] = item.replace(role, '').strip()\\n\\n# Updating num_categories\\ndf[\\\"num_categories\\\"] = df[known_for_dict.keys()].sum(axis=1)\\n\\n# Checking a sample of rows\\ndf[df['sports'] ==1].sample(2)\";\n",
       "                var nbb_formatted_code = \"%%time\\n\\n# Dictionary version\\nsearch_dict = known_for_dict\\n\\n# Column to check\\ncolumn = 'info_2'\\n\\n# Dataframe\\ndataframe = df[column].notna()\\n\\n# For loop to find role in column and extract it as category\\nfor category, category_lst in search_dict.items():\\n    for role in category_lst:\\n        for index in dataframe.index:\\n            item = df.loc[index, column]\\n            if item:\\n                if role in item:\\n                    df.loc[index, category] = 1\\n                    df.loc[index, column] = item.replace(role, '').strip()\\n\\n# Updating num_categories\\ndf[\\\"num_categories\\\"] = df[known_for_dict.keys()].sum(axis=1)\\n\\n# Checking a sample of rows\\ndf[df['sports'] ==1].sample(2)\";\n",
       "                var nbb_cells = Jupyter.notebook.get_cells();\n",
       "                for (var i = 0; i < nbb_cells.length; ++i) {\n",
       "                    if (nbb_cells[i].input_prompt_number == nbb_cell_id) {\n",
       "                        if (nbb_cells[i].get_text() == nbb_unformatted_code) {\n",
       "                             nbb_cells[i].set_text(nbb_formatted_code);\n",
       "                        }\n",
       "                        break;\n",
       "                    }\n",
       "                }\n",
       "            }, 500);\n",
       "            "
      ],
      "text/plain": [
       "<IPython.core.display.Javascript object>"
      ]
     },
     "metadata": {},
     "output_type": "display_data"
    }
   ],
   "source": [
    "%%time\n",
    "\n",
    "# Dictionary version\n",
    "search_dict = known_for_dict\n",
    "\n",
    "# Column to check\n",
    "column = 'info_2'\n",
    "\n",
    "# Dataframe\n",
    "dataframe = df[column].notna()\n",
    "\n",
    "# For loop to find role in column and extract it as category\n",
    "for category, category_lst in search_dict.items():\n",
    "    for role in category_lst:\n",
    "        for index in dataframe.index:\n",
    "            item = df.loc[index, column]\n",
    "            if item:\n",
    "                if role in item:\n",
    "                    df.loc[index, category] = 1\n",
    "                    df.loc[index, column] = item.replace(role, '').strip()\n",
    "\n",
    "# Updating num_categories\n",
    "df[\"num_categories\"] = df[known_for_dict.keys()].sum(axis=1)\n",
    "\n",
    "# Checking a sample of rows\n",
    "df[df['sports'] ==1].sample(2)"
   ]
  },
  {
   "cell_type": "markdown",
   "id": "d4455bfe",
   "metadata": {},
   "source": [
    "#### Checking the Number of Rows without a First Category"
   ]
  },
  {
   "cell_type": "code",
   "execution_count": 115,
   "id": "c34b7671",
   "metadata": {},
   "outputs": [
    {
     "name": "stdout",
     "output_type": "stream",
     "text": [
      "There are 39727 entries without any known_for category.\n"
     ]
    },
    {
     "data": {
      "application/javascript": [
       "\n",
       "            setTimeout(function() {\n",
       "                var nbb_cell_id = 115;\n",
       "                var nbb_unformatted_code = \"#### Checking the number of rows without a first category\\nprint(\\n    f'There are {len(df[df[\\\"num_categories\\\"]==0])} entries without any known_for category.'\\n)\";\n",
       "                var nbb_formatted_code = \"#### Checking the number of rows without a first category\\nprint(\\n    f'There are {len(df[df[\\\"num_categories\\\"]==0])} entries without any known_for category.'\\n)\";\n",
       "                var nbb_cells = Jupyter.notebook.get_cells();\n",
       "                for (var i = 0; i < nbb_cells.length; ++i) {\n",
       "                    if (nbb_cells[i].input_prompt_number == nbb_cell_id) {\n",
       "                        if (nbb_cells[i].get_text() == nbb_unformatted_code) {\n",
       "                             nbb_cells[i].set_text(nbb_formatted_code);\n",
       "                        }\n",
       "                        break;\n",
       "                    }\n",
       "                }\n",
       "            }, 500);\n",
       "            "
      ],
      "text/plain": [
       "<IPython.core.display.Javascript object>"
      ]
     },
     "metadata": {},
     "output_type": "display_data"
    }
   ],
   "source": [
    "#### Checking the number of rows without a first category\n",
    "print(\n",
    "    f'There are {len(df[df[\"num_categories\"]==0])} entries without any known_for category.'\n",
    ")"
   ]
  },
  {
   "cell_type": "markdown",
   "id": "842ba66b",
   "metadata": {},
   "source": [
    "#### Observations:\n",
    "- We will proceed to rebuild `known_for_dict` for the next iteration."
   ]
  },
  {
   "cell_type": "markdown",
   "id": "4862970b",
   "metadata": {},
   "source": [
    "#### Finding `known_for` Roles in `info_2`"
   ]
  },
  {
   "cell_type": "code",
   "execution_count": 116,
   "id": "0f3f2769",
   "metadata": {},
   "outputs": [
    {
     "data": {
      "application/javascript": [
       "\n",
       "            setTimeout(function() {\n",
       "                var nbb_cell_id = 116;\n",
       "                var nbb_unformatted_code = \"# Obtaining values for column and their counts\\nroles_list = df[\\\"info_2\\\"].value_counts(ascending=True).index.tolist()\";\n",
       "                var nbb_formatted_code = \"# Obtaining values for column and their counts\\nroles_list = df[\\\"info_2\\\"].value_counts(ascending=True).index.tolist()\";\n",
       "                var nbb_cells = Jupyter.notebook.get_cells();\n",
       "                for (var i = 0; i < nbb_cells.length; ++i) {\n",
       "                    if (nbb_cells[i].input_prompt_number == nbb_cell_id) {\n",
       "                        if (nbb_cells[i].get_text() == nbb_unformatted_code) {\n",
       "                             nbb_cells[i].set_text(nbb_formatted_code);\n",
       "                        }\n",
       "                        break;\n",
       "                    }\n",
       "                }\n",
       "            }, 500);\n",
       "            "
      ],
      "text/plain": [
       "<IPython.core.display.Javascript object>"
      ]
     },
     "metadata": {},
     "output_type": "display_data"
    }
   ],
   "source": [
    "# Obtaining values for column and their counts\n",
    "roles_list = df[\"info_2\"].value_counts(ascending=True).index.tolist()"
   ]
  },
  {
   "cell_type": "code",
   "execution_count": 117,
   "id": "35273d58",
   "metadata": {},
   "outputs": [
    {
     "data": {
      "application/javascript": [
       "\n",
       "            setTimeout(function() {\n",
       "                var nbb_cell_id = 117;\n",
       "                var nbb_unformatted_code = \"# # Code to check each value\\n# roles_list.pop()\";\n",
       "                var nbb_formatted_code = \"# # Code to check each value\\n# roles_list.pop()\";\n",
       "                var nbb_cells = Jupyter.notebook.get_cells();\n",
       "                for (var i = 0; i < nbb_cells.length; ++i) {\n",
       "                    if (nbb_cells[i].input_prompt_number == nbb_cell_id) {\n",
       "                        if (nbb_cells[i].get_text() == nbb_unformatted_code) {\n",
       "                             nbb_cells[i].set_text(nbb_formatted_code);\n",
       "                        }\n",
       "                        break;\n",
       "                    }\n",
       "                }\n",
       "            }, 500);\n",
       "            "
      ],
      "text/plain": [
       "<IPython.core.display.Javascript object>"
      ]
     },
     "metadata": {},
     "output_type": "display_data"
    }
   ],
   "source": [
    "# # Code to check each value\n",
    "# roles_list.pop()"
   ]
  },
  {
   "cell_type": "code",
   "execution_count": 118,
   "id": "cf764175",
   "metadata": {},
   "outputs": [
    {
     "data": {
      "application/javascript": [
       "\n",
       "            setTimeout(function() {\n",
       "                var nbb_cell_id = 118;\n",
       "                var nbb_unformatted_code = \"# # Create specific_roles_list for above popped value\\n# specific_roles_list = (\\n#     df.loc[\\n#         [index for index in df.index if \\\"philosopher\\\" in df.loc[index, \\\"info\\\"]],\\n#         \\\"info_2\\\",\\n#     ]\\n#     .value_counts()\\n#     .index.tolist()\\n# )\";\n",
       "                var nbb_formatted_code = \"# # Create specific_roles_list for above popped value\\n# specific_roles_list = (\\n#     df.loc[\\n#         [index for index in df.index if \\\"philosopher\\\" in df.loc[index, \\\"info\\\"]],\\n#         \\\"info_2\\\",\\n#     ]\\n#     .value_counts()\\n#     .index.tolist()\\n# )\";\n",
       "                var nbb_cells = Jupyter.notebook.get_cells();\n",
       "                for (var i = 0; i < nbb_cells.length; ++i) {\n",
       "                    if (nbb_cells[i].input_prompt_number == nbb_cell_id) {\n",
       "                        if (nbb_cells[i].get_text() == nbb_unformatted_code) {\n",
       "                             nbb_cells[i].set_text(nbb_formatted_code);\n",
       "                        }\n",
       "                        break;\n",
       "                    }\n",
       "                }\n",
       "            }, 500);\n",
       "            "
      ],
      "text/plain": [
       "<IPython.core.display.Javascript object>"
      ]
     },
     "metadata": {},
     "output_type": "display_data"
    }
   ],
   "source": [
    "# # Create specific_roles_list for above popped value\n",
    "# specific_roles_list = (\n",
    "#     df.loc[\n",
    "#         [index for index in df.index if \"philosopher\" in df.loc[index, \"info\"]],\n",
    "#         \"info_2\",\n",
    "#     ]\n",
    "#     .value_counts()\n",
    "#     .index.tolist()\n",
    "# )"
   ]
  },
  {
   "cell_type": "code",
   "execution_count": 119,
   "id": "5c4ffd2b",
   "metadata": {},
   "outputs": [
    {
     "data": {
      "application/javascript": [
       "\n",
       "            setTimeout(function() {\n",
       "                var nbb_cell_id = 119;\n",
       "                var nbb_unformatted_code = \"# # Code to check each specific value\\n# specific_roles_list.pop()\";\n",
       "                var nbb_formatted_code = \"# # Code to check each specific value\\n# specific_roles_list.pop()\";\n",
       "                var nbb_cells = Jupyter.notebook.get_cells();\n",
       "                for (var i = 0; i < nbb_cells.length; ++i) {\n",
       "                    if (nbb_cells[i].input_prompt_number == nbb_cell_id) {\n",
       "                        if (nbb_cells[i].get_text() == nbb_unformatted_code) {\n",
       "                             nbb_cells[i].set_text(nbb_formatted_code);\n",
       "                        }\n",
       "                        break;\n",
       "                    }\n",
       "                }\n",
       "            }, 500);\n",
       "            "
      ],
      "text/plain": [
       "<IPython.core.display.Javascript object>"
      ]
     },
     "metadata": {},
     "output_type": "display_data"
    }
   ],
   "source": [
    "# # Code to check each specific value\n",
    "# specific_roles_list.pop()"
   ]
  },
  {
   "cell_type": "code",
   "execution_count": 120,
   "id": "966d89ac",
   "metadata": {},
   "outputs": [
    {
     "data": {
      "application/javascript": [
       "\n",
       "            setTimeout(function() {\n",
       "                var nbb_cell_id = 120;\n",
       "                var nbb_unformatted_code = \"# # Example code to quick-screen values that may overlap categories\\n# df.loc[\\n#     [index for index in df.index if \\\"religious philosopher\\\" in df.loc[index, \\\"info\\\"]]\\n# ]\";\n",
       "                var nbb_formatted_code = \"# # Example code to quick-screen values that may overlap categories\\n# df.loc[\\n#     [index for index in df.index if \\\"religious philosopher\\\" in df.loc[index, \\\"info\\\"]]\\n# ]\";\n",
       "                var nbb_cells = Jupyter.notebook.get_cells();\n",
       "                for (var i = 0; i < nbb_cells.length; ++i) {\n",
       "                    if (nbb_cells[i].input_prompt_number == nbb_cell_id) {\n",
       "                        if (nbb_cells[i].get_text() == nbb_unformatted_code) {\n",
       "                             nbb_cells[i].set_text(nbb_formatted_code);\n",
       "                        }\n",
       "                        break;\n",
       "                    }\n",
       "                }\n",
       "            }, 500);\n",
       "            "
      ],
      "text/plain": [
       "<IPython.core.display.Javascript object>"
      ]
     },
     "metadata": {},
     "output_type": "display_data"
    }
   ],
   "source": [
    "# # Example code to quick-screen values that may overlap categories\n",
    "# df.loc[\n",
    "#     [index for index in df.index if \"religious philosopher\" in df.loc[index, \"info\"]]\n",
    "# ]"
   ]
  },
  {
   "cell_type": "code",
   "execution_count": 121,
   "id": "652346eb",
   "metadata": {},
   "outputs": [
    {
     "data": {
      "application/javascript": [
       "\n",
       "            setTimeout(function() {\n",
       "                var nbb_cell_id = 121;\n",
       "                var nbb_unformatted_code = \"# # Example code to quick-check a specific entry\\n# df[df[\\\"info_2\\\"] == \\\"and humanist philosopher\\\"]\";\n",
       "                var nbb_formatted_code = \"# # Example code to quick-check a specific entry\\n# df[df[\\\"info_2\\\"] == \\\"and humanist philosopher\\\"]\";\n",
       "                var nbb_cells = Jupyter.notebook.get_cells();\n",
       "                for (var i = 0; i < nbb_cells.length; ++i) {\n",
       "                    if (nbb_cells[i].input_prompt_number == nbb_cell_id) {\n",
       "                        if (nbb_cells[i].get_text() == nbb_unformatted_code) {\n",
       "                             nbb_cells[i].set_text(nbb_formatted_code);\n",
       "                        }\n",
       "                        break;\n",
       "                    }\n",
       "                }\n",
       "            }, 500);\n",
       "            "
      ],
      "text/plain": [
       "<IPython.core.display.Javascript object>"
      ]
     },
     "metadata": {},
     "output_type": "display_data"
    }
   ],
   "source": [
    "# # Example code to quick-check a specific entry\n",
    "# df[df[\"info_2\"] == \"and humanist philosopher\"]"
   ]
  },
  {
   "cell_type": "markdown",
   "id": "35e02c68",
   "metadata": {},
   "source": [
    "#### Creating Lists for Each `known_for` Category"
   ]
  },
  {
   "cell_type": "code",
   "execution_count": 122,
   "id": "b8522387",
   "metadata": {},
   "outputs": [
    {
     "data": {
      "application/javascript": [
       "\n",
       "            setTimeout(function() {\n",
       "                var nbb_cell_id = 122;\n",
       "                var nbb_unformatted_code = \"# Creating lists for each category\\npolitics_govt_law = []\\n\\narts = []\\nsports = []\\nsciences = []\\n\\nbusiness_farming = []\\nacademia_humanities = [\\n    \\\"philosopher and education worker in Eastern\\\",\\n    \\\"Jewish philosopher and Reform\\\",\\n    \\\"and cultural philosopher\\\",\\n    \\\"classicist and philosopher\\\",\\n    \\\"philosopher and teacher\\\",\\n    \\\"postmodernist philosopher and\\\",\\n    \\\"idealist philosopher\\\",\\n    \\\"North philosopher\\\",\\n    \\\"sinologist and philosopher\\\",\\n    \\\"philosopher and the founder of the School of Economic Science\\\",\\n    \\\"existentialist philosopher\\\",\\n    \\\"East philosopher\\\",\\n    \\\"philosopher and Vice Chancellor of Oxford University\\\",\\n    \\\"philosopher and social anthropologist\\\",\\n    \\\"educator and philosopher\\\",\\n    \\\"philosopher and professor in\\\",\\n    \\\"philosopher and professor of philosophy\\\",\\n    \\\"and philosopher of social science\\\",\\n    \\\"philosopher and professor of\\\",\\n    \\\"anthropologist and philosopher of\\\",\\n    \\\"cultural theorist and philosopher\\\",\\n    \\\"philosopher and Holocaust denier\\\",\\n    \\\"philosopher and anthropologist\\\",\\n    \\\"Islamologist and philosopher\\\",\\n    \\\"New Confucian philosopher\\\",\\n    \\\"philosopher and cultural theorist\\\",\\n    \\\"philosopher and epistemologist\\\",\\n    \\\"philosopher of language\\\",\\n    \\\"philosopher and humanist\\\",\\n    \\\"philosopher and translator\\\",\\n    \\\"educational philosopher\\\",\\n    \\\"translator and philosopher\\\",\\n    \\\"philosopher of religion\\\",\\n    \\\"anthropologist and philosopher\\\",\\n    \\\"philosopher and linguist\\\",\\n    \\\"philosopher and scholar\\\",\\n    \\\"social philosopher\\\",\\n    \\\"philosopher and professor\\\",\\n    \\\"moral philosopher\\\",\\n    \\\"philosopher of\\\",\\n    \\\"and humanist philosopher\\\",\\n    \\\"and philosopher and\\\",\\n    \\\"and philosopher\\\",\\n    \\\"philosopher and\\\",\\n    \\\"philosopher\\\",\\n]\\nlaw_enf_military_operator = []\\nspiritual = []\\nsocial = []\\ncrime = []\\nevent_record_other = []\\nother_species = []\";\n",
       "                var nbb_formatted_code = \"# Creating lists for each category\\npolitics_govt_law = []\\n\\narts = []\\nsports = []\\nsciences = []\\n\\nbusiness_farming = []\\nacademia_humanities = [\\n    \\\"philosopher and education worker in Eastern\\\",\\n    \\\"Jewish philosopher and Reform\\\",\\n    \\\"and cultural philosopher\\\",\\n    \\\"classicist and philosopher\\\",\\n    \\\"philosopher and teacher\\\",\\n    \\\"postmodernist philosopher and\\\",\\n    \\\"idealist philosopher\\\",\\n    \\\"North philosopher\\\",\\n    \\\"sinologist and philosopher\\\",\\n    \\\"philosopher and the founder of the School of Economic Science\\\",\\n    \\\"existentialist philosopher\\\",\\n    \\\"East philosopher\\\",\\n    \\\"philosopher and Vice Chancellor of Oxford University\\\",\\n    \\\"philosopher and social anthropologist\\\",\\n    \\\"educator and philosopher\\\",\\n    \\\"philosopher and professor in\\\",\\n    \\\"philosopher and professor of philosophy\\\",\\n    \\\"and philosopher of social science\\\",\\n    \\\"philosopher and professor of\\\",\\n    \\\"anthropologist and philosopher of\\\",\\n    \\\"cultural theorist and philosopher\\\",\\n    \\\"philosopher and Holocaust denier\\\",\\n    \\\"philosopher and anthropologist\\\",\\n    \\\"Islamologist and philosopher\\\",\\n    \\\"New Confucian philosopher\\\",\\n    \\\"philosopher and cultural theorist\\\",\\n    \\\"philosopher and epistemologist\\\",\\n    \\\"philosopher of language\\\",\\n    \\\"philosopher and humanist\\\",\\n    \\\"philosopher and translator\\\",\\n    \\\"educational philosopher\\\",\\n    \\\"translator and philosopher\\\",\\n    \\\"philosopher of religion\\\",\\n    \\\"anthropologist and philosopher\\\",\\n    \\\"philosopher and linguist\\\",\\n    \\\"philosopher and scholar\\\",\\n    \\\"social philosopher\\\",\\n    \\\"philosopher and professor\\\",\\n    \\\"moral philosopher\\\",\\n    \\\"philosopher of\\\",\\n    \\\"and humanist philosopher\\\",\\n    \\\"and philosopher and\\\",\\n    \\\"and philosopher\\\",\\n    \\\"philosopher and\\\",\\n    \\\"philosopher\\\",\\n]\\nlaw_enf_military_operator = []\\nspiritual = []\\nsocial = []\\ncrime = []\\nevent_record_other = []\\nother_species = []\";\n",
       "                var nbb_cells = Jupyter.notebook.get_cells();\n",
       "                for (var i = 0; i < nbb_cells.length; ++i) {\n",
       "                    if (nbb_cells[i].input_prompt_number == nbb_cell_id) {\n",
       "                        if (nbb_cells[i].get_text() == nbb_unformatted_code) {\n",
       "                             nbb_cells[i].set_text(nbb_formatted_code);\n",
       "                        }\n",
       "                        break;\n",
       "                    }\n",
       "                }\n",
       "            }, 500);\n",
       "            "
      ],
      "text/plain": [
       "<IPython.core.display.Javascript object>"
      ]
     },
     "metadata": {},
     "output_type": "display_data"
    }
   ],
   "source": [
    "# Creating lists for each category\n",
    "politics_govt_law = []\n",
    "\n",
    "arts = []\n",
    "sports = []\n",
    "sciences = []\n",
    "\n",
    "business_farming = []\n",
    "academia_humanities = [\n",
    "    \"philosopher and education worker in Eastern\",\n",
    "    \"Jewish philosopher and Reform\",\n",
    "    \"and cultural philosopher\",\n",
    "    \"classicist and philosopher\",\n",
    "    \"philosopher and teacher\",\n",
    "    \"postmodernist philosopher and\",\n",
    "    \"idealist philosopher\",\n",
    "    \"North philosopher\",\n",
    "    \"sinologist and philosopher\",\n",
    "    \"philosopher and the founder of the School of Economic Science\",\n",
    "    \"existentialist philosopher\",\n",
    "    \"East philosopher\",\n",
    "    \"philosopher and Vice Chancellor of Oxford University\",\n",
    "    \"philosopher and social anthropologist\",\n",
    "    \"educator and philosopher\",\n",
    "    \"philosopher and professor in\",\n",
    "    \"philosopher and professor of philosophy\",\n",
    "    \"and philosopher of social science\",\n",
    "    \"philosopher and professor of\",\n",
    "    \"anthropologist and philosopher of\",\n",
    "    \"cultural theorist and philosopher\",\n",
    "    \"philosopher and Holocaust denier\",\n",
    "    \"philosopher and anthropologist\",\n",
    "    \"Islamologist and philosopher\",\n",
    "    \"New Confucian philosopher\",\n",
    "    \"philosopher and cultural theorist\",\n",
    "    \"philosopher and epistemologist\",\n",
    "    \"philosopher of language\",\n",
    "    \"philosopher and humanist\",\n",
    "    \"philosopher and translator\",\n",
    "    \"educational philosopher\",\n",
    "    \"translator and philosopher\",\n",
    "    \"philosopher of religion\",\n",
    "    \"anthropologist and philosopher\",\n",
    "    \"philosopher and linguist\",\n",
    "    \"philosopher and scholar\",\n",
    "    \"social philosopher\",\n",
    "    \"philosopher and professor\",\n",
    "    \"moral philosopher\",\n",
    "    \"philosopher of\",\n",
    "    \"and humanist philosopher\",\n",
    "    \"and philosopher and\",\n",
    "    \"and philosopher\",\n",
    "    \"philosopher and\",\n",
    "    \"philosopher\",\n",
    "]\n",
    "law_enf_military_operator = []\n",
    "spiritual = []\n",
    "social = []\n",
    "crime = []\n",
    "event_record_other = []\n",
    "other_species = []"
   ]
  },
  {
   "cell_type": "markdown",
   "id": "0bb0d225",
   "metadata": {},
   "source": [
    "#### Creating `known_for_dict` Dictionary of Category Keys and Specific Role Lists of Values"
   ]
  },
  {
   "cell_type": "code",
   "execution_count": 123,
   "id": "3c05b545",
   "metadata": {},
   "outputs": [
    {
     "data": {
      "application/javascript": [
       "\n",
       "            setTimeout(function() {\n",
       "                var nbb_cell_id = 123;\n",
       "                var nbb_unformatted_code = \"# Combining separate lists into one dictionary\\nknown_for_dict = {\\n    \\\"social\\\": social,\\n    \\\"spiritual\\\": spiritual,\\n    \\\"academia_humanities\\\": academia_humanities,\\n    \\\"business_farming\\\": business_farming,\\n    \\\"sciences\\\": sciences,\\n    \\\"politics_govt_law\\\": politics_govt_law,\\n    \\\"law_enf_military_operator\\\": law_enf_military_operator,\\n    \\\"crime\\\": crime,\\n    \\\"event_record_other\\\": event_record_other,\\n    \\\"other_species\\\": other_species,\\n    \\\"arts\\\": arts,\\n    \\\"sports\\\": sports,\\n}\";\n",
       "                var nbb_formatted_code = \"# Combining separate lists into one dictionary\\nknown_for_dict = {\\n    \\\"social\\\": social,\\n    \\\"spiritual\\\": spiritual,\\n    \\\"academia_humanities\\\": academia_humanities,\\n    \\\"business_farming\\\": business_farming,\\n    \\\"sciences\\\": sciences,\\n    \\\"politics_govt_law\\\": politics_govt_law,\\n    \\\"law_enf_military_operator\\\": law_enf_military_operator,\\n    \\\"crime\\\": crime,\\n    \\\"event_record_other\\\": event_record_other,\\n    \\\"other_species\\\": other_species,\\n    \\\"arts\\\": arts,\\n    \\\"sports\\\": sports,\\n}\";\n",
       "                var nbb_cells = Jupyter.notebook.get_cells();\n",
       "                for (var i = 0; i < nbb_cells.length; ++i) {\n",
       "                    if (nbb_cells[i].input_prompt_number == nbb_cell_id) {\n",
       "                        if (nbb_cells[i].get_text() == nbb_unformatted_code) {\n",
       "                             nbb_cells[i].set_text(nbb_formatted_code);\n",
       "                        }\n",
       "                        break;\n",
       "                    }\n",
       "                }\n",
       "            }, 500);\n",
       "            "
      ],
      "text/plain": [
       "<IPython.core.display.Javascript object>"
      ]
     },
     "metadata": {},
     "output_type": "display_data"
    }
   ],
   "source": [
    "# Combining separate lists into one dictionary\n",
    "known_for_dict = {\n",
    "    \"social\": social,\n",
    "    \"spiritual\": spiritual,\n",
    "    \"academia_humanities\": academia_humanities,\n",
    "    \"business_farming\": business_farming,\n",
    "    \"sciences\": sciences,\n",
    "    \"politics_govt_law\": politics_govt_law,\n",
    "    \"law_enf_military_operator\": law_enf_military_operator,\n",
    "    \"crime\": crime,\n",
    "    \"event_record_other\": event_record_other,\n",
    "    \"other_species\": other_species,\n",
    "    \"arts\": arts,\n",
    "    \"sports\": sports,\n",
    "}"
   ]
  },
  {
   "cell_type": "markdown",
   "id": "0313505e",
   "metadata": {},
   "source": [
    "#### Extracting Category from `info_2`"
   ]
  },
  {
   "cell_type": "code",
   "execution_count": 124,
   "id": "333858cd",
   "metadata": {},
   "outputs": [
    {
     "name": "stdout",
     "output_type": "stream",
     "text": [
      "CPU times: total: 23.7 s\n",
      "Wall time: 23.7 s\n"
     ]
    },
    {
     "data": {
      "text/html": [
       "<div>\n",
       "<style scoped>\n",
       "    .dataframe tbody tr th:only-of-type {\n",
       "        vertical-align: middle;\n",
       "    }\n",
       "\n",
       "    .dataframe tbody tr th {\n",
       "        vertical-align: top;\n",
       "    }\n",
       "\n",
       "    .dataframe thead th {\n",
       "        text-align: right;\n",
       "    }\n",
       "</style>\n",
       "<table border=\"1\" class=\"dataframe\">\n",
       "  <thead>\n",
       "    <tr style=\"text-align: right;\">\n",
       "      <th></th>\n",
       "      <th>day</th>\n",
       "      <th>name</th>\n",
       "      <th>info</th>\n",
       "      <th>link</th>\n",
       "      <th>num_references</th>\n",
       "      <th>year</th>\n",
       "      <th>month</th>\n",
       "      <th>info_parenth</th>\n",
       "      <th>info_1</th>\n",
       "      <th>info_2</th>\n",
       "      <th>info_3</th>\n",
       "      <th>info_4</th>\n",
       "      <th>info_5</th>\n",
       "      <th>info_6</th>\n",
       "      <th>info_7</th>\n",
       "      <th>info_8</th>\n",
       "      <th>info_9</th>\n",
       "      <th>info_10</th>\n",
       "      <th>info_11</th>\n",
       "      <th>age</th>\n",
       "      <th>cause_of_death</th>\n",
       "      <th>place_1</th>\n",
       "      <th>place_2</th>\n",
       "      <th>info_parenth_copy</th>\n",
       "      <th>log_num_references</th>\n",
       "      <th>sciences</th>\n",
       "      <th>social</th>\n",
       "      <th>spiritual</th>\n",
       "      <th>academia_humanities</th>\n",
       "      <th>business_farming</th>\n",
       "      <th>arts</th>\n",
       "      <th>sports</th>\n",
       "      <th>law_enf_military_operator</th>\n",
       "      <th>politics_govt_law</th>\n",
       "      <th>crime</th>\n",
       "      <th>event_record_other</th>\n",
       "      <th>other_species</th>\n",
       "      <th>num_categories</th>\n",
       "    </tr>\n",
       "  </thead>\n",
       "  <tbody>\n",
       "    <tr>\n",
       "      <th>54306</th>\n",
       "      <td>1</td>\n",
       "      <td>Bernard d'Espagnat</td>\n",
       "      <td>, 93, French theoretical physicist and philosopher of science.</td>\n",
       "      <td>https://en.wikipedia.org/wiki/Bernard_d%27Espagnat</td>\n",
       "      <td>8</td>\n",
       "      <td>2015</td>\n",
       "      <td>August</td>\n",
       "      <td>None</td>\n",
       "      <td>None</td>\n",
       "      <td>science</td>\n",
       "      <td>None</td>\n",
       "      <td>None</td>\n",
       "      <td>None</td>\n",
       "      <td>None</td>\n",
       "      <td>None</td>\n",
       "      <td>None</td>\n",
       "      <td>None</td>\n",
       "      <td>None</td>\n",
       "      <td>None</td>\n",
       "      <td>93.0</td>\n",
       "      <td>None</td>\n",
       "      <td>France</td>\n",
       "      <td>None</td>\n",
       "      <td>None</td>\n",
       "      <td>2.197225</td>\n",
       "      <td>1</td>\n",
       "      <td>0</td>\n",
       "      <td>0</td>\n",
       "      <td>1</td>\n",
       "      <td>0</td>\n",
       "      <td>0</td>\n",
       "      <td>0</td>\n",
       "      <td>0</td>\n",
       "      <td>0</td>\n",
       "      <td>0</td>\n",
       "      <td>0</td>\n",
       "      <td>0</td>\n",
       "      <td>2</td>\n",
       "    </tr>\n",
       "    <tr>\n",
       "      <th>5656</th>\n",
       "      <td>22</td>\n",
       "      <td>Moelwyn Merchant</td>\n",
       "      <td>, 83, Welsh academic, novelist, sculptor, poet and Anglican priest.</td>\n",
       "      <td>https://en.wikipedia.org/wiki/Moelwyn_Merchant</td>\n",
       "      <td>6</td>\n",
       "      <td>1997</td>\n",
       "      <td>April</td>\n",
       "      <td>None</td>\n",
       "      <td>None</td>\n",
       "      <td></td>\n",
       "      <td>novelist</td>\n",
       "      <td>sculptor</td>\n",
       "      <td>poet and Anglican priest</td>\n",
       "      <td>None</td>\n",
       "      <td>None</td>\n",
       "      <td>None</td>\n",
       "      <td>None</td>\n",
       "      <td>None</td>\n",
       "      <td>None</td>\n",
       "      <td>83.0</td>\n",
       "      <td>None</td>\n",
       "      <td>Wales</td>\n",
       "      <td>None</td>\n",
       "      <td>None</td>\n",
       "      <td>1.945910</td>\n",
       "      <td>0</td>\n",
       "      <td>0</td>\n",
       "      <td>0</td>\n",
       "      <td>1</td>\n",
       "      <td>0</td>\n",
       "      <td>0</td>\n",
       "      <td>0</td>\n",
       "      <td>0</td>\n",
       "      <td>0</td>\n",
       "      <td>0</td>\n",
       "      <td>0</td>\n",
       "      <td>0</td>\n",
       "      <td>1</td>\n",
       "    </tr>\n",
       "  </tbody>\n",
       "</table>\n",
       "</div>"
      ],
      "text/plain": [
       "      day                name  \\\n",
       "54306   1  Bernard d'Espagnat   \n",
       "5656   22    Moelwyn Merchant   \n",
       "\n",
       "                                                                      info  \\\n",
       "54306       , 93, French theoretical physicist and philosopher of science.   \n",
       "5656   , 83, Welsh academic, novelist, sculptor, poet and Anglican priest.   \n",
       "\n",
       "                                                     link  num_references  \\\n",
       "54306  https://en.wikipedia.org/wiki/Bernard_d%27Espagnat               8   \n",
       "5656       https://en.wikipedia.org/wiki/Moelwyn_Merchant               6   \n",
       "\n",
       "       year   month info_parenth info_1   info_2    info_3    info_4  \\\n",
       "54306  2015  August         None   None  science      None      None   \n",
       "5656   1997   April         None   None           novelist  sculptor   \n",
       "\n",
       "                         info_5 info_6 info_7 info_8 info_9 info_10 info_11  \\\n",
       "54306                      None   None   None   None   None    None    None   \n",
       "5656   poet and Anglican priest   None   None   None   None    None    None   \n",
       "\n",
       "        age cause_of_death place_1 place_2 info_parenth_copy  \\\n",
       "54306  93.0           None  France    None              None   \n",
       "5656   83.0           None   Wales    None              None   \n",
       "\n",
       "       log_num_references  sciences  social  spiritual  academia_humanities  \\\n",
       "54306            2.197225         1       0          0                    1   \n",
       "5656             1.945910         0       0          0                    1   \n",
       "\n",
       "       business_farming  arts  sports  law_enf_military_operator  \\\n",
       "54306                 0     0       0                          0   \n",
       "5656                  0     0       0                          0   \n",
       "\n",
       "       politics_govt_law  crime  event_record_other  other_species  \\\n",
       "54306                  0      0                   0              0   \n",
       "5656                   0      0                   0              0   \n",
       "\n",
       "       num_categories  \n",
       "54306               2  \n",
       "5656                1  "
      ]
     },
     "execution_count": 124,
     "metadata": {},
     "output_type": "execute_result"
    },
    {
     "data": {
      "application/javascript": [
       "\n",
       "            setTimeout(function() {\n",
       "                var nbb_cell_id = 124;\n",
       "                var nbb_unformatted_code = \"%%time\\n\\n# Dictionary version\\nsearch_dict = known_for_dict\\n\\n# Column to check\\ncolumn = 'info_2'\\n\\n# Dataframe\\ndataframe = df[column].notna()\\n\\n# For loop to find role in column and extract it as category\\nfor category, category_lst in search_dict.items():\\n    for role in category_lst:\\n        for index in dataframe.index:\\n            item = df.loc[index, column]\\n            if item:\\n                if role in item:\\n                    df.loc[index, category] = 1\\n                    df.loc[index, column] = item.replace(role, '').strip()\\n\\n# Updating num_categories\\ndf[\\\"num_categories\\\"] = df[known_for_dict.keys()].sum(axis=1)\\n\\n# Checking a sample of rows\\ndf[df['academia_humanities'] ==1].sample(2)\";\n",
       "                var nbb_formatted_code = \"%%time\\n\\n# Dictionary version\\nsearch_dict = known_for_dict\\n\\n# Column to check\\ncolumn = 'info_2'\\n\\n# Dataframe\\ndataframe = df[column].notna()\\n\\n# For loop to find role in column and extract it as category\\nfor category, category_lst in search_dict.items():\\n    for role in category_lst:\\n        for index in dataframe.index:\\n            item = df.loc[index, column]\\n            if item:\\n                if role in item:\\n                    df.loc[index, category] = 1\\n                    df.loc[index, column] = item.replace(role, '').strip()\\n\\n# Updating num_categories\\ndf[\\\"num_categories\\\"] = df[known_for_dict.keys()].sum(axis=1)\\n\\n# Checking a sample of rows\\ndf[df['academia_humanities'] ==1].sample(2)\";\n",
       "                var nbb_cells = Jupyter.notebook.get_cells();\n",
       "                for (var i = 0; i < nbb_cells.length; ++i) {\n",
       "                    if (nbb_cells[i].input_prompt_number == nbb_cell_id) {\n",
       "                        if (nbb_cells[i].get_text() == nbb_unformatted_code) {\n",
       "                             nbb_cells[i].set_text(nbb_formatted_code);\n",
       "                        }\n",
       "                        break;\n",
       "                    }\n",
       "                }\n",
       "            }, 500);\n",
       "            "
      ],
      "text/plain": [
       "<IPython.core.display.Javascript object>"
      ]
     },
     "metadata": {},
     "output_type": "display_data"
    }
   ],
   "source": [
    "%%time\n",
    "\n",
    "# Dictionary version\n",
    "search_dict = known_for_dict\n",
    "\n",
    "# Column to check\n",
    "column = 'info_2'\n",
    "\n",
    "# Dataframe\n",
    "dataframe = df[column].notna()\n",
    "\n",
    "# For loop to find role in column and extract it as category\n",
    "for category, category_lst in search_dict.items():\n",
    "    for role in category_lst:\n",
    "        for index in dataframe.index:\n",
    "            item = df.loc[index, column]\n",
    "            if item:\n",
    "                if role in item:\n",
    "                    df.loc[index, category] = 1\n",
    "                    df.loc[index, column] = item.replace(role, '').strip()\n",
    "\n",
    "# Updating num_categories\n",
    "df[\"num_categories\"] = df[known_for_dict.keys()].sum(axis=1)\n",
    "\n",
    "# Checking a sample of rows\n",
    "df[df['academia_humanities'] ==1].sample(2)"
   ]
  },
  {
   "cell_type": "markdown",
   "id": "e372e50a",
   "metadata": {},
   "source": [
    "#### Checking the Number of Rows without a First Category"
   ]
  },
  {
   "cell_type": "code",
   "execution_count": 125,
   "id": "313356d2",
   "metadata": {},
   "outputs": [
    {
     "name": "stdout",
     "output_type": "stream",
     "text": [
      "There are 39291 entries without any known_for category.\n"
     ]
    },
    {
     "data": {
      "application/javascript": [
       "\n",
       "            setTimeout(function() {\n",
       "                var nbb_cell_id = 125;\n",
       "                var nbb_unformatted_code = \"#### Checking the number of rows without a first category\\nprint(\\n    f'There are {len(df[df[\\\"num_categories\\\"]==0])} entries without any known_for category.'\\n)\";\n",
       "                var nbb_formatted_code = \"#### Checking the number of rows without a first category\\nprint(\\n    f'There are {len(df[df[\\\"num_categories\\\"]==0])} entries without any known_for category.'\\n)\";\n",
       "                var nbb_cells = Jupyter.notebook.get_cells();\n",
       "                for (var i = 0; i < nbb_cells.length; ++i) {\n",
       "                    if (nbb_cells[i].input_prompt_number == nbb_cell_id) {\n",
       "                        if (nbb_cells[i].get_text() == nbb_unformatted_code) {\n",
       "                             nbb_cells[i].set_text(nbb_formatted_code);\n",
       "                        }\n",
       "                        break;\n",
       "                    }\n",
       "                }\n",
       "            }, 500);\n",
       "            "
      ],
      "text/plain": [
       "<IPython.core.display.Javascript object>"
      ]
     },
     "metadata": {},
     "output_type": "display_data"
    }
   ],
   "source": [
    "#### Checking the number of rows without a first category\n",
    "print(\n",
    "    f'There are {len(df[df[\"num_categories\"]==0])} entries without any known_for category.'\n",
    ")"
   ]
  },
  {
   "cell_type": "markdown",
   "id": "b2c5aa71",
   "metadata": {},
   "source": [
    "#### Observations:\n",
    "- We will proceed to rebuild `known_for_dict` for the next iteration."
   ]
  },
  {
   "cell_type": "markdown",
   "id": "e0ff810a",
   "metadata": {},
   "source": [
    "#### Finding `known_for` Roles in `info_2`"
   ]
  },
  {
   "cell_type": "code",
   "execution_count": 126,
   "id": "bebdbfa6",
   "metadata": {},
   "outputs": [
    {
     "data": {
      "application/javascript": [
       "\n",
       "            setTimeout(function() {\n",
       "                var nbb_cell_id = 126;\n",
       "                var nbb_unformatted_code = \"# Obtaining values for column and their counts\\nroles_list = df[\\\"info_2\\\"].value_counts(ascending=True).index.tolist()\";\n",
       "                var nbb_formatted_code = \"# Obtaining values for column and their counts\\nroles_list = df[\\\"info_2\\\"].value_counts(ascending=True).index.tolist()\";\n",
       "                var nbb_cells = Jupyter.notebook.get_cells();\n",
       "                for (var i = 0; i < nbb_cells.length; ++i) {\n",
       "                    if (nbb_cells[i].input_prompt_number == nbb_cell_id) {\n",
       "                        if (nbb_cells[i].get_text() == nbb_unformatted_code) {\n",
       "                             nbb_cells[i].set_text(nbb_formatted_code);\n",
       "                        }\n",
       "                        break;\n",
       "                    }\n",
       "                }\n",
       "            }, 500);\n",
       "            "
      ],
      "text/plain": [
       "<IPython.core.display.Javascript object>"
      ]
     },
     "metadata": {},
     "output_type": "display_data"
    }
   ],
   "source": [
    "# Obtaining values for column and their counts\n",
    "roles_list = df[\"info_2\"].value_counts(ascending=True).index.tolist()"
   ]
  },
  {
   "cell_type": "code",
   "execution_count": 127,
   "id": "f0e767ad",
   "metadata": {},
   "outputs": [
    {
     "data": {
      "application/javascript": [
       "\n",
       "            setTimeout(function() {\n",
       "                var nbb_cell_id = 127;\n",
       "                var nbb_unformatted_code = \"# # Code to check each value\\n# roles_list.pop()\";\n",
       "                var nbb_formatted_code = \"# # Code to check each value\\n# roles_list.pop()\";\n",
       "                var nbb_cells = Jupyter.notebook.get_cells();\n",
       "                for (var i = 0; i < nbb_cells.length; ++i) {\n",
       "                    if (nbb_cells[i].input_prompt_number == nbb_cell_id) {\n",
       "                        if (nbb_cells[i].get_text() == nbb_unformatted_code) {\n",
       "                             nbb_cells[i].set_text(nbb_formatted_code);\n",
       "                        }\n",
       "                        break;\n",
       "                    }\n",
       "                }\n",
       "            }, 500);\n",
       "            "
      ],
      "text/plain": [
       "<IPython.core.display.Javascript object>"
      ]
     },
     "metadata": {},
     "output_type": "display_data"
    }
   ],
   "source": [
    "# # Code to check each value\n",
    "# roles_list.pop()"
   ]
  },
  {
   "cell_type": "code",
   "execution_count": 128,
   "id": "1378177d",
   "metadata": {},
   "outputs": [
    {
     "data": {
      "application/javascript": [
       "\n",
       "            setTimeout(function() {\n",
       "                var nbb_cell_id = 128;\n",
       "                var nbb_unformatted_code = \"# # Create specific_roles_list for above popped value\\n# specific_roles_list = (\\n#     df.loc[\\n#         [index for index in df.index if \\\"sculptor\\\" in df.loc[index, \\\"info\\\"]], \\\"info_2\\\",\\n#     ]\\n#     .value_counts()\\n#     .index.tolist()\\n# )\";\n",
       "                var nbb_formatted_code = \"# # Create specific_roles_list for above popped value\\n# specific_roles_list = (\\n#     df.loc[\\n#         [index for index in df.index if \\\"sculptor\\\" in df.loc[index, \\\"info\\\"]], \\\"info_2\\\",\\n#     ]\\n#     .value_counts()\\n#     .index.tolist()\\n# )\";\n",
       "                var nbb_cells = Jupyter.notebook.get_cells();\n",
       "                for (var i = 0; i < nbb_cells.length; ++i) {\n",
       "                    if (nbb_cells[i].input_prompt_number == nbb_cell_id) {\n",
       "                        if (nbb_cells[i].get_text() == nbb_unformatted_code) {\n",
       "                             nbb_cells[i].set_text(nbb_formatted_code);\n",
       "                        }\n",
       "                        break;\n",
       "                    }\n",
       "                }\n",
       "            }, 500);\n",
       "            "
      ],
      "text/plain": [
       "<IPython.core.display.Javascript object>"
      ]
     },
     "metadata": {},
     "output_type": "display_data"
    }
   ],
   "source": [
    "# # Create specific_roles_list for above popped value\n",
    "# specific_roles_list = (\n",
    "#     df.loc[\n",
    "#         [index for index in df.index if \"sculptor\" in df.loc[index, \"info\"]], \"info_2\",\n",
    "#     ]\n",
    "#     .value_counts()\n",
    "#     .index.tolist()\n",
    "# )"
   ]
  },
  {
   "cell_type": "code",
   "execution_count": 129,
   "id": "3d9930d9",
   "metadata": {},
   "outputs": [
    {
     "data": {
      "application/javascript": [
       "\n",
       "            setTimeout(function() {\n",
       "                var nbb_cell_id = 129;\n",
       "                var nbb_unformatted_code = \"# # Code to check each specific value\\n# specific_roles_list.pop()\";\n",
       "                var nbb_formatted_code = \"# # Code to check each specific value\\n# specific_roles_list.pop()\";\n",
       "                var nbb_cells = Jupyter.notebook.get_cells();\n",
       "                for (var i = 0; i < nbb_cells.length; ++i) {\n",
       "                    if (nbb_cells[i].input_prompt_number == nbb_cell_id) {\n",
       "                        if (nbb_cells[i].get_text() == nbb_unformatted_code) {\n",
       "                             nbb_cells[i].set_text(nbb_formatted_code);\n",
       "                        }\n",
       "                        break;\n",
       "                    }\n",
       "                }\n",
       "            }, 500);\n",
       "            "
      ],
      "text/plain": [
       "<IPython.core.display.Javascript object>"
      ]
     },
     "metadata": {},
     "output_type": "display_data"
    }
   ],
   "source": [
    "# # Code to check each specific value\n",
    "# specific_roles_list.pop()"
   ]
  },
  {
   "cell_type": "code",
   "execution_count": 130,
   "id": "cc4d67a8",
   "metadata": {},
   "outputs": [
    {
     "data": {
      "application/javascript": [
       "\n",
       "            setTimeout(function() {\n",
       "                var nbb_cell_id = 130;\n",
       "                var nbb_unformatted_code = \"# # Example code to quick-screen values that may overlap categories\\n# df.loc[[index for index in df.index if \\\"sculptor and art\\\" in df.loc[index, \\\"info\\\"]]]\";\n",
       "                var nbb_formatted_code = \"# # Example code to quick-screen values that may overlap categories\\n# df.loc[[index for index in df.index if \\\"sculptor and art\\\" in df.loc[index, \\\"info\\\"]]]\";\n",
       "                var nbb_cells = Jupyter.notebook.get_cells();\n",
       "                for (var i = 0; i < nbb_cells.length; ++i) {\n",
       "                    if (nbb_cells[i].input_prompt_number == nbb_cell_id) {\n",
       "                        if (nbb_cells[i].get_text() == nbb_unformatted_code) {\n",
       "                             nbb_cells[i].set_text(nbb_formatted_code);\n",
       "                        }\n",
       "                        break;\n",
       "                    }\n",
       "                }\n",
       "            }, 500);\n",
       "            "
      ],
      "text/plain": [
       "<IPython.core.display.Javascript object>"
      ]
     },
     "metadata": {},
     "output_type": "display_data"
    }
   ],
   "source": [
    "# # Example code to quick-screen values that may overlap categories\n",
    "# df.loc[[index for index in df.index if \"sculptor and art\" in df.loc[index, \"info\"]]]"
   ]
  },
  {
   "cell_type": "code",
   "execution_count": 131,
   "id": "42857816",
   "metadata": {},
   "outputs": [
    {
     "data": {
      "application/javascript": [
       "\n",
       "            setTimeout(function() {\n",
       "                var nbb_cell_id = 131;\n",
       "                var nbb_unformatted_code = \"# # Example code to quick-screen values that may overlap categories\\n# df.loc[\\n#     [\\n#         index\\n#         for index in df.index\\n#         if \\\"outlaw country music singer songwriter\\\" in df.loc[index, \\\"info\\\"]\\n#     ]\\n# ]\";\n",
       "                var nbb_formatted_code = \"# # Example code to quick-screen values that may overlap categories\\n# df.loc[\\n#     [\\n#         index\\n#         for index in df.index\\n#         if \\\"outlaw country music singer songwriter\\\" in df.loc[index, \\\"info\\\"]\\n#     ]\\n# ]\";\n",
       "                var nbb_cells = Jupyter.notebook.get_cells();\n",
       "                for (var i = 0; i < nbb_cells.length; ++i) {\n",
       "                    if (nbb_cells[i].input_prompt_number == nbb_cell_id) {\n",
       "                        if (nbb_cells[i].get_text() == nbb_unformatted_code) {\n",
       "                             nbb_cells[i].set_text(nbb_formatted_code);\n",
       "                        }\n",
       "                        break;\n",
       "                    }\n",
       "                }\n",
       "            }, 500);\n",
       "            "
      ],
      "text/plain": [
       "<IPython.core.display.Javascript object>"
      ]
     },
     "metadata": {},
     "output_type": "display_data"
    }
   ],
   "source": [
    "# # Example code to quick-screen values that may overlap categories\n",
    "# df.loc[\n",
    "#     [\n",
    "#         index\n",
    "#         for index in df.index\n",
    "#         if \"outlaw country music singer songwriter\" in df.loc[index, \"info\"]\n",
    "#     ]\n",
    "# ]"
   ]
  },
  {
   "cell_type": "code",
   "execution_count": 132,
   "id": "469ec548",
   "metadata": {},
   "outputs": [
    {
     "data": {
      "application/javascript": [
       "\n",
       "            setTimeout(function() {\n",
       "                var nbb_cell_id = 132;\n",
       "                var nbb_unformatted_code = \"# # Example code to quick-check a specific entry\\n# df[df[\\\"info_2\\\"] == \\\"ice hockey player and general manager\\\"]\";\n",
       "                var nbb_formatted_code = \"# # Example code to quick-check a specific entry\\n# df[df[\\\"info_2\\\"] == \\\"ice hockey player and general manager\\\"]\";\n",
       "                var nbb_cells = Jupyter.notebook.get_cells();\n",
       "                for (var i = 0; i < nbb_cells.length; ++i) {\n",
       "                    if (nbb_cells[i].input_prompt_number == nbb_cell_id) {\n",
       "                        if (nbb_cells[i].get_text() == nbb_unformatted_code) {\n",
       "                             nbb_cells[i].set_text(nbb_formatted_code);\n",
       "                        }\n",
       "                        break;\n",
       "                    }\n",
       "                }\n",
       "            }, 500);\n",
       "            "
      ],
      "text/plain": [
       "<IPython.core.display.Javascript object>"
      ]
     },
     "metadata": {},
     "output_type": "display_data"
    }
   ],
   "source": [
    "# # Example code to quick-check a specific entry\n",
    "# df[df[\"info_2\"] == \"ice hockey player and general manager\"]"
   ]
  },
  {
   "cell_type": "markdown",
   "id": "e80b8af6",
   "metadata": {},
   "source": [
    "#### Creating Lists for Each `known_for` Category"
   ]
  },
  {
   "cell_type": "code",
   "execution_count": 133,
   "id": "db204276",
   "metadata": {},
   "outputs": [
    {
     "data": {
      "application/javascript": [
       "\n",
       "            setTimeout(function() {\n",
       "                var nbb_cell_id = 133;\n",
       "                var nbb_unformatted_code = \"# Creating lists for each category\\npolitics_govt_law = []\\n\\narts = [\\n    \\\"sculptor and puzzle creator\\\",\\n    \\\"steel sculptor\\\",\\n    \\\"sculptor and studio potter\\\",\\n    \\\"modernist sculptor\\\",\\n    \\\"abstract expressionist sculptor\\\",\\n    \\\"figure sculptor\\\",\\n    \\\"sculptor and computer art pioneer\\\",\\n    \\\"Apache sculptor\\\",\\n    \\\"portrait sculptor\\\",\\n    \\\"surrealist sculptor\\\",\\n    \\\"ceramic sculptor\\\",\\n    \\\"sculptor and metalworker\\\",\\n    \\\"sculptor and medallist\\\",\\n    \\\"monumental sculptor\\\",\\n    \\\"sculptor and art impresario\\\",\\n    \\\"ceramicist and sculptor\\\",\\n    \\\"sculptor and publisher\\\",\\n    \\\"muralist and sculptor\\\",\\n    \\\"minimalist sculptor\\\",\\n    \\\"folk sculptor\\\",\\n    \\\"sculptor and muralist\\\",\\n    \\\"portrait and bust sculptor\\\",\\n    \\\"sculptor and ceramicist\\\",\\n    \\\"sculptor and illustrator\\\",\\n    \\\"kinetic sculptor\\\",\\n    \\\"sculptor and coin designer\\\",\\n    \\\"abstract sculptor\\\",\\n    \\\"potter and sculptor\\\",\\n    \\\"sculptor and printmaker\\\",\\n    \\\"sculptor and arts\\\",\\n    \\\"sculptor and art\\\",\\n    \\\"sculptor and\\\",\\n    \\\"and sculptor\\\",\\n    \\\"sculptor\\\",\\n]\\nsports = [\\n    \\\"ice hockey player and coach in the National Hockey League\\\",\\n    \\\"ice hockey player and referee\\\",\\n    \\\"Olympic ice hockey player and sports administrator\\\",\\n    \\\"professional ice hockey player and coach\\\",\\n    \\\"ice hockey player and head coach\\\",\\n    \\\"ice hockey player and general manager\\\",\\n    \\\"ice hockey player and speed skater\\\",\\n    \\\"college ice hockey player\\\",\\n    \\\"Hall of Fame ice hockey player and official\\\",\\n    \\\"Olympic bronze medalist ice hockey player\\\",\\n    \\\"ice hockey player and manager\\\",\\n    \\\"ice hockey player and goaltending coach\\\",\\n    \\\"ice hockey player and scout\\\",\\n    \\\"Olympic silver medalist ice hockey player\\\",\\n    \\\"ice hockey player and Hall of Fame member\\\",\\n    \\\"Olympic ice hockey player and coach\\\",\\n    \\\"Hall of Fame ice hockey player and coach\\\",\\n    \\\"football and ice hockey player\\\",\\n    \\\"ice hockey player and executive\\\",\\n    \\\"Olympic silver medallist ice hockey player\\\",\\n    \\\"Olympic champion ice hockey player\\\",\\n    \\\"Olympic ice hockey player and sailor\\\",\\n    \\\"professional ice hockey player and\\\",\\n    \\\"professional ice hockey player\\\",\\n    \\\"ice hockey player and coach\\\",\\n    \\\"Hall of Fame ice hockey player\\\",\\n    \\\"Olympic ice hockey player\\\",\\n    \\\"ice hockey player and\\\",\\n    \\\"and ice hockey player\\\",\\n    \\\"ice hockey player\\\",\\n]\\nsciences = []\\n\\nbusiness_farming = []\\nacademia_humanities = []\\nlaw_enf_military_operator = []\\nspiritual = []\\nsocial = []\\ncrime = []\\nevent_record_other = []\\nother_species = []\";\n",
       "                var nbb_formatted_code = \"# Creating lists for each category\\npolitics_govt_law = []\\n\\narts = [\\n    \\\"sculptor and puzzle creator\\\",\\n    \\\"steel sculptor\\\",\\n    \\\"sculptor and studio potter\\\",\\n    \\\"modernist sculptor\\\",\\n    \\\"abstract expressionist sculptor\\\",\\n    \\\"figure sculptor\\\",\\n    \\\"sculptor and computer art pioneer\\\",\\n    \\\"Apache sculptor\\\",\\n    \\\"portrait sculptor\\\",\\n    \\\"surrealist sculptor\\\",\\n    \\\"ceramic sculptor\\\",\\n    \\\"sculptor and metalworker\\\",\\n    \\\"sculptor and medallist\\\",\\n    \\\"monumental sculptor\\\",\\n    \\\"sculptor and art impresario\\\",\\n    \\\"ceramicist and sculptor\\\",\\n    \\\"sculptor and publisher\\\",\\n    \\\"muralist and sculptor\\\",\\n    \\\"minimalist sculptor\\\",\\n    \\\"folk sculptor\\\",\\n    \\\"sculptor and muralist\\\",\\n    \\\"portrait and bust sculptor\\\",\\n    \\\"sculptor and ceramicist\\\",\\n    \\\"sculptor and illustrator\\\",\\n    \\\"kinetic sculptor\\\",\\n    \\\"sculptor and coin designer\\\",\\n    \\\"abstract sculptor\\\",\\n    \\\"potter and sculptor\\\",\\n    \\\"sculptor and printmaker\\\",\\n    \\\"sculptor and arts\\\",\\n    \\\"sculptor and art\\\",\\n    \\\"sculptor and\\\",\\n    \\\"and sculptor\\\",\\n    \\\"sculptor\\\",\\n]\\nsports = [\\n    \\\"ice hockey player and coach in the National Hockey League\\\",\\n    \\\"ice hockey player and referee\\\",\\n    \\\"Olympic ice hockey player and sports administrator\\\",\\n    \\\"professional ice hockey player and coach\\\",\\n    \\\"ice hockey player and head coach\\\",\\n    \\\"ice hockey player and general manager\\\",\\n    \\\"ice hockey player and speed skater\\\",\\n    \\\"college ice hockey player\\\",\\n    \\\"Hall of Fame ice hockey player and official\\\",\\n    \\\"Olympic bronze medalist ice hockey player\\\",\\n    \\\"ice hockey player and manager\\\",\\n    \\\"ice hockey player and goaltending coach\\\",\\n    \\\"ice hockey player and scout\\\",\\n    \\\"Olympic silver medalist ice hockey player\\\",\\n    \\\"ice hockey player and Hall of Fame member\\\",\\n    \\\"Olympic ice hockey player and coach\\\",\\n    \\\"Hall of Fame ice hockey player and coach\\\",\\n    \\\"football and ice hockey player\\\",\\n    \\\"ice hockey player and executive\\\",\\n    \\\"Olympic silver medallist ice hockey player\\\",\\n    \\\"Olympic champion ice hockey player\\\",\\n    \\\"Olympic ice hockey player and sailor\\\",\\n    \\\"professional ice hockey player and\\\",\\n    \\\"professional ice hockey player\\\",\\n    \\\"ice hockey player and coach\\\",\\n    \\\"Hall of Fame ice hockey player\\\",\\n    \\\"Olympic ice hockey player\\\",\\n    \\\"ice hockey player and\\\",\\n    \\\"and ice hockey player\\\",\\n    \\\"ice hockey player\\\",\\n]\\nsciences = []\\n\\nbusiness_farming = []\\nacademia_humanities = []\\nlaw_enf_military_operator = []\\nspiritual = []\\nsocial = []\\ncrime = []\\nevent_record_other = []\\nother_species = []\";\n",
       "                var nbb_cells = Jupyter.notebook.get_cells();\n",
       "                for (var i = 0; i < nbb_cells.length; ++i) {\n",
       "                    if (nbb_cells[i].input_prompt_number == nbb_cell_id) {\n",
       "                        if (nbb_cells[i].get_text() == nbb_unformatted_code) {\n",
       "                             nbb_cells[i].set_text(nbb_formatted_code);\n",
       "                        }\n",
       "                        break;\n",
       "                    }\n",
       "                }\n",
       "            }, 500);\n",
       "            "
      ],
      "text/plain": [
       "<IPython.core.display.Javascript object>"
      ]
     },
     "metadata": {},
     "output_type": "display_data"
    }
   ],
   "source": [
    "# Creating lists for each category\n",
    "politics_govt_law = []\n",
    "\n",
    "arts = [\n",
    "    \"sculptor and puzzle creator\",\n",
    "    \"steel sculptor\",\n",
    "    \"sculptor and studio potter\",\n",
    "    \"modernist sculptor\",\n",
    "    \"abstract expressionist sculptor\",\n",
    "    \"figure sculptor\",\n",
    "    \"sculptor and computer art pioneer\",\n",
    "    \"Apache sculptor\",\n",
    "    \"portrait sculptor\",\n",
    "    \"surrealist sculptor\",\n",
    "    \"ceramic sculptor\",\n",
    "    \"sculptor and metalworker\",\n",
    "    \"sculptor and medallist\",\n",
    "    \"monumental sculptor\",\n",
    "    \"sculptor and art impresario\",\n",
    "    \"ceramicist and sculptor\",\n",
    "    \"sculptor and publisher\",\n",
    "    \"muralist and sculptor\",\n",
    "    \"minimalist sculptor\",\n",
    "    \"folk sculptor\",\n",
    "    \"sculptor and muralist\",\n",
    "    \"portrait and bust sculptor\",\n",
    "    \"sculptor and ceramicist\",\n",
    "    \"sculptor and illustrator\",\n",
    "    \"kinetic sculptor\",\n",
    "    \"sculptor and coin designer\",\n",
    "    \"abstract sculptor\",\n",
    "    \"potter and sculptor\",\n",
    "    \"sculptor and printmaker\",\n",
    "    \"sculptor and arts\",\n",
    "    \"sculptor and art\",\n",
    "    \"sculptor and\",\n",
    "    \"and sculptor\",\n",
    "    \"sculptor\",\n",
    "]\n",
    "sports = [\n",
    "    \"ice hockey player and coach in the National Hockey League\",\n",
    "    \"ice hockey player and referee\",\n",
    "    \"Olympic ice hockey player and sports administrator\",\n",
    "    \"professional ice hockey player and coach\",\n",
    "    \"ice hockey player and head coach\",\n",
    "    \"ice hockey player and general manager\",\n",
    "    \"ice hockey player and speed skater\",\n",
    "    \"college ice hockey player\",\n",
    "    \"Hall of Fame ice hockey player and official\",\n",
    "    \"Olympic bronze medalist ice hockey player\",\n",
    "    \"ice hockey player and manager\",\n",
    "    \"ice hockey player and goaltending coach\",\n",
    "    \"ice hockey player and scout\",\n",
    "    \"Olympic silver medalist ice hockey player\",\n",
    "    \"ice hockey player and Hall of Fame member\",\n",
    "    \"Olympic ice hockey player and coach\",\n",
    "    \"Hall of Fame ice hockey player and coach\",\n",
    "    \"football and ice hockey player\",\n",
    "    \"ice hockey player and executive\",\n",
    "    \"Olympic silver medallist ice hockey player\",\n",
    "    \"Olympic champion ice hockey player\",\n",
    "    \"Olympic ice hockey player and sailor\",\n",
    "    \"professional ice hockey player and\",\n",
    "    \"professional ice hockey player\",\n",
    "    \"ice hockey player and coach\",\n",
    "    \"Hall of Fame ice hockey player\",\n",
    "    \"Olympic ice hockey player\",\n",
    "    \"ice hockey player and\",\n",
    "    \"and ice hockey player\",\n",
    "    \"ice hockey player\",\n",
    "]\n",
    "sciences = []\n",
    "\n",
    "business_farming = []\n",
    "academia_humanities = []\n",
    "law_enf_military_operator = []\n",
    "spiritual = []\n",
    "social = []\n",
    "crime = []\n",
    "event_record_other = []\n",
    "other_species = []"
   ]
  },
  {
   "cell_type": "markdown",
   "id": "9a306691",
   "metadata": {},
   "source": [
    "#### Creating `known_for_dict` Dictionary of Category Keys and Specific Role Lists of Values"
   ]
  },
  {
   "cell_type": "code",
   "execution_count": 134,
   "id": "6ec1fd24",
   "metadata": {},
   "outputs": [
    {
     "data": {
      "application/javascript": [
       "\n",
       "            setTimeout(function() {\n",
       "                var nbb_cell_id = 134;\n",
       "                var nbb_unformatted_code = \"# Combining separate lists into one dictionary\\nknown_for_dict = {\\n    \\\"social\\\": social,\\n    \\\"spiritual\\\": spiritual,\\n    \\\"academia_humanities\\\": academia_humanities,\\n    \\\"business_farming\\\": business_farming,\\n    \\\"sciences\\\": sciences,\\n    \\\"politics_govt_law\\\": politics_govt_law,\\n    \\\"law_enf_military_operator\\\": law_enf_military_operator,\\n    \\\"crime\\\": crime,\\n    \\\"event_record_other\\\": event_record_other,\\n    \\\"other_species\\\": other_species,\\n    \\\"sports\\\": sports,\\n    \\\"arts\\\": arts,\\n}\";\n",
       "                var nbb_formatted_code = \"# Combining separate lists into one dictionary\\nknown_for_dict = {\\n    \\\"social\\\": social,\\n    \\\"spiritual\\\": spiritual,\\n    \\\"academia_humanities\\\": academia_humanities,\\n    \\\"business_farming\\\": business_farming,\\n    \\\"sciences\\\": sciences,\\n    \\\"politics_govt_law\\\": politics_govt_law,\\n    \\\"law_enf_military_operator\\\": law_enf_military_operator,\\n    \\\"crime\\\": crime,\\n    \\\"event_record_other\\\": event_record_other,\\n    \\\"other_species\\\": other_species,\\n    \\\"sports\\\": sports,\\n    \\\"arts\\\": arts,\\n}\";\n",
       "                var nbb_cells = Jupyter.notebook.get_cells();\n",
       "                for (var i = 0; i < nbb_cells.length; ++i) {\n",
       "                    if (nbb_cells[i].input_prompt_number == nbb_cell_id) {\n",
       "                        if (nbb_cells[i].get_text() == nbb_unformatted_code) {\n",
       "                             nbb_cells[i].set_text(nbb_formatted_code);\n",
       "                        }\n",
       "                        break;\n",
       "                    }\n",
       "                }\n",
       "            }, 500);\n",
       "            "
      ],
      "text/plain": [
       "<IPython.core.display.Javascript object>"
      ]
     },
     "metadata": {},
     "output_type": "display_data"
    }
   ],
   "source": [
    "# Combining separate lists into one dictionary\n",
    "known_for_dict = {\n",
    "    \"social\": social,\n",
    "    \"spiritual\": spiritual,\n",
    "    \"academia_humanities\": academia_humanities,\n",
    "    \"business_farming\": business_farming,\n",
    "    \"sciences\": sciences,\n",
    "    \"politics_govt_law\": politics_govt_law,\n",
    "    \"law_enf_military_operator\": law_enf_military_operator,\n",
    "    \"crime\": crime,\n",
    "    \"event_record_other\": event_record_other,\n",
    "    \"other_species\": other_species,\n",
    "    \"sports\": sports,\n",
    "    \"arts\": arts,\n",
    "}"
   ]
  },
  {
   "cell_type": "markdown",
   "id": "0f088a85",
   "metadata": {},
   "source": [
    "#### Extracting Category from `info_2`"
   ]
  },
  {
   "cell_type": "code",
   "execution_count": 135,
   "id": "335585ac",
   "metadata": {},
   "outputs": [
    {
     "name": "stdout",
     "output_type": "stream",
     "text": [
      "CPU times: total: 33.7 s\n",
      "Wall time: 33.7 s\n"
     ]
    },
    {
     "data": {
      "text/html": [
       "<div>\n",
       "<style scoped>\n",
       "    .dataframe tbody tr th:only-of-type {\n",
       "        vertical-align: middle;\n",
       "    }\n",
       "\n",
       "    .dataframe tbody tr th {\n",
       "        vertical-align: top;\n",
       "    }\n",
       "\n",
       "    .dataframe thead th {\n",
       "        text-align: right;\n",
       "    }\n",
       "</style>\n",
       "<table border=\"1\" class=\"dataframe\">\n",
       "  <thead>\n",
       "    <tr style=\"text-align: right;\">\n",
       "      <th></th>\n",
       "      <th>day</th>\n",
       "      <th>name</th>\n",
       "      <th>info</th>\n",
       "      <th>link</th>\n",
       "      <th>num_references</th>\n",
       "      <th>year</th>\n",
       "      <th>month</th>\n",
       "      <th>info_parenth</th>\n",
       "      <th>info_1</th>\n",
       "      <th>info_2</th>\n",
       "      <th>info_3</th>\n",
       "      <th>info_4</th>\n",
       "      <th>info_5</th>\n",
       "      <th>info_6</th>\n",
       "      <th>info_7</th>\n",
       "      <th>info_8</th>\n",
       "      <th>info_9</th>\n",
       "      <th>info_10</th>\n",
       "      <th>info_11</th>\n",
       "      <th>age</th>\n",
       "      <th>cause_of_death</th>\n",
       "      <th>place_1</th>\n",
       "      <th>place_2</th>\n",
       "      <th>info_parenth_copy</th>\n",
       "      <th>log_num_references</th>\n",
       "      <th>sciences</th>\n",
       "      <th>social</th>\n",
       "      <th>spiritual</th>\n",
       "      <th>academia_humanities</th>\n",
       "      <th>business_farming</th>\n",
       "      <th>arts</th>\n",
       "      <th>sports</th>\n",
       "      <th>law_enf_military_operator</th>\n",
       "      <th>politics_govt_law</th>\n",
       "      <th>crime</th>\n",
       "      <th>event_record_other</th>\n",
       "      <th>other_species</th>\n",
       "      <th>num_categories</th>\n",
       "    </tr>\n",
       "  </thead>\n",
       "  <tbody>\n",
       "    <tr>\n",
       "      <th>57015</th>\n",
       "      <td>18</td>\n",
       "      <td>Paul Gordon</td>\n",
       "      <td>, 52, American musician , complications from heart disease.</td>\n",
       "      <td>https://en.wikipedia.org/wiki/Paul_Gordon_(musician)</td>\n",
       "      <td>5</td>\n",
       "      <td>2016</td>\n",
       "      <td>February</td>\n",
       "      <td>New Radicals, The B</td>\n",
       "      <td>None</td>\n",
       "      <td></td>\n",
       "      <td>complications from heart disease</td>\n",
       "      <td>None</td>\n",
       "      <td>None</td>\n",
       "      <td>None</td>\n",
       "      <td>None</td>\n",
       "      <td>None</td>\n",
       "      <td>None</td>\n",
       "      <td>None</td>\n",
       "      <td>None</td>\n",
       "      <td>52.0</td>\n",
       "      <td>None</td>\n",
       "      <td>United States of America</td>\n",
       "      <td>None</td>\n",
       "      <td>New Radicals, The B 52</td>\n",
       "      <td>1.791759</td>\n",
       "      <td>0</td>\n",
       "      <td>0</td>\n",
       "      <td>0</td>\n",
       "      <td>0</td>\n",
       "      <td>0</td>\n",
       "      <td>1</td>\n",
       "      <td>0</td>\n",
       "      <td>0</td>\n",
       "      <td>0</td>\n",
       "      <td>0</td>\n",
       "      <td>0</td>\n",
       "      <td>0</td>\n",
       "      <td>1</td>\n",
       "    </tr>\n",
       "    <tr>\n",
       "      <th>31806</th>\n",
       "      <td>27</td>\n",
       "      <td>Ken Coates</td>\n",
       "      <td>, 79, British politician and writer, suspected heart attack.</td>\n",
       "      <td>https://en.wikipedia.org/wiki/Ken_Coates</td>\n",
       "      <td>6</td>\n",
       "      <td>2010</td>\n",
       "      <td>June</td>\n",
       "      <td>None</td>\n",
       "      <td>None</td>\n",
       "      <td></td>\n",
       "      <td>suspected heart attack</td>\n",
       "      <td>None</td>\n",
       "      <td>None</td>\n",
       "      <td>None</td>\n",
       "      <td>None</td>\n",
       "      <td>None</td>\n",
       "      <td>None</td>\n",
       "      <td>None</td>\n",
       "      <td>None</td>\n",
       "      <td>79.0</td>\n",
       "      <td>None</td>\n",
       "      <td>United Kingdom of Great Britain and Northern Ireland</td>\n",
       "      <td>None</td>\n",
       "      <td>None</td>\n",
       "      <td>1.945910</td>\n",
       "      <td>0</td>\n",
       "      <td>0</td>\n",
       "      <td>0</td>\n",
       "      <td>0</td>\n",
       "      <td>0</td>\n",
       "      <td>1</td>\n",
       "      <td>0</td>\n",
       "      <td>0</td>\n",
       "      <td>1</td>\n",
       "      <td>0</td>\n",
       "      <td>0</td>\n",
       "      <td>0</td>\n",
       "      <td>2</td>\n",
       "    </tr>\n",
       "  </tbody>\n",
       "</table>\n",
       "</div>"
      ],
      "text/plain": [
       "      day         name  \\\n",
       "57015  18  Paul Gordon   \n",
       "31806  27   Ken Coates   \n",
       "\n",
       "                                                               info  \\\n",
       "57015   , 52, American musician , complications from heart disease.   \n",
       "31806  , 79, British politician and writer, suspected heart attack.   \n",
       "\n",
       "                                                       link  num_references  \\\n",
       "57015  https://en.wikipedia.org/wiki/Paul_Gordon_(musician)               5   \n",
       "31806              https://en.wikipedia.org/wiki/Ken_Coates               6   \n",
       "\n",
       "       year     month         info_parenth info_1 info_2  \\\n",
       "57015  2016  February  New Radicals, The B   None          \n",
       "31806  2010      June                 None   None          \n",
       "\n",
       "                                 info_3 info_4 info_5 info_6 info_7 info_8  \\\n",
       "57015  complications from heart disease   None   None   None   None   None   \n",
       "31806            suspected heart attack   None   None   None   None   None   \n",
       "\n",
       "      info_9 info_10 info_11   age cause_of_death  \\\n",
       "57015   None    None    None  52.0           None   \n",
       "31806   None    None    None  79.0           None   \n",
       "\n",
       "                                                    place_1 place_2  \\\n",
       "57015                              United States of America    None   \n",
       "31806  United Kingdom of Great Britain and Northern Ireland    None   \n",
       "\n",
       "            info_parenth_copy  log_num_references  sciences  social  \\\n",
       "57015  New Radicals, The B 52            1.791759         0       0   \n",
       "31806                    None            1.945910         0       0   \n",
       "\n",
       "       spiritual  academia_humanities  business_farming  arts  sports  \\\n",
       "57015          0                    0                 0     1       0   \n",
       "31806          0                    0                 0     1       0   \n",
       "\n",
       "       law_enf_military_operator  politics_govt_law  crime  \\\n",
       "57015                          0                  0      0   \n",
       "31806                          0                  1      0   \n",
       "\n",
       "       event_record_other  other_species  num_categories  \n",
       "57015                   0              0               1  \n",
       "31806                   0              0               2  "
      ]
     },
     "execution_count": 135,
     "metadata": {},
     "output_type": "execute_result"
    },
    {
     "data": {
      "application/javascript": [
       "\n",
       "            setTimeout(function() {\n",
       "                var nbb_cell_id = 135;\n",
       "                var nbb_unformatted_code = \"%%time\\n\\n# Dictionary version\\nsearch_dict = known_for_dict\\n\\n# Column to check\\ncolumn = 'info_2'\\n\\n# Dataframe\\ndataframe = df[column].notna()\\n\\n# For loop to find role in column and extract it as category\\nfor category, category_lst in search_dict.items():\\n    for role in category_lst:\\n        for index in dataframe.index:\\n            item = df.loc[index, column]\\n            if item:\\n                if role in item:\\n                    df.loc[index, category] = 1\\n                    df.loc[index, column] = item.replace(role, '').strip()\\n\\n# Updating num_categories\\ndf[\\\"num_categories\\\"] = df[known_for_dict.keys()].sum(axis=1)\\n\\n# Checking a sample of rows\\ndf[df['arts'] ==1].sample(2)\";\n",
       "                var nbb_formatted_code = \"%%time\\n\\n# Dictionary version\\nsearch_dict = known_for_dict\\n\\n# Column to check\\ncolumn = 'info_2'\\n\\n# Dataframe\\ndataframe = df[column].notna()\\n\\n# For loop to find role in column and extract it as category\\nfor category, category_lst in search_dict.items():\\n    for role in category_lst:\\n        for index in dataframe.index:\\n            item = df.loc[index, column]\\n            if item:\\n                if role in item:\\n                    df.loc[index, category] = 1\\n                    df.loc[index, column] = item.replace(role, '').strip()\\n\\n# Updating num_categories\\ndf[\\\"num_categories\\\"] = df[known_for_dict.keys()].sum(axis=1)\\n\\n# Checking a sample of rows\\ndf[df['arts'] ==1].sample(2)\";\n",
       "                var nbb_cells = Jupyter.notebook.get_cells();\n",
       "                for (var i = 0; i < nbb_cells.length; ++i) {\n",
       "                    if (nbb_cells[i].input_prompt_number == nbb_cell_id) {\n",
       "                        if (nbb_cells[i].get_text() == nbb_unformatted_code) {\n",
       "                             nbb_cells[i].set_text(nbb_formatted_code);\n",
       "                        }\n",
       "                        break;\n",
       "                    }\n",
       "                }\n",
       "            }, 500);\n",
       "            "
      ],
      "text/plain": [
       "<IPython.core.display.Javascript object>"
      ]
     },
     "metadata": {},
     "output_type": "display_data"
    }
   ],
   "source": [
    "%%time\n",
    "\n",
    "# Dictionary version\n",
    "search_dict = known_for_dict\n",
    "\n",
    "# Column to check\n",
    "column = 'info_2'\n",
    "\n",
    "# Dataframe\n",
    "dataframe = df[column].notna()\n",
    "\n",
    "# For loop to find role in column and extract it as category\n",
    "for category, category_lst in search_dict.items():\n",
    "    for role in category_lst:\n",
    "        for index in dataframe.index:\n",
    "            item = df.loc[index, column]\n",
    "            if item:\n",
    "                if role in item:\n",
    "                    df.loc[index, category] = 1\n",
    "                    df.loc[index, column] = item.replace(role, '').strip()\n",
    "\n",
    "# Updating num_categories\n",
    "df[\"num_categories\"] = df[known_for_dict.keys()].sum(axis=1)\n",
    "\n",
    "# Checking a sample of rows\n",
    "df[df['arts'] ==1].sample(2)"
   ]
  },
  {
   "cell_type": "markdown",
   "id": "5f93ba22",
   "metadata": {},
   "source": [
    "#### Checking the Number of Rows without a First Category"
   ]
  },
  {
   "cell_type": "code",
   "execution_count": 136,
   "id": "c497f88e",
   "metadata": {},
   "outputs": [
    {
     "name": "stdout",
     "output_type": "stream",
     "text": [
      "There are 38540 entries without any known_for category.\n"
     ]
    },
    {
     "data": {
      "application/javascript": [
       "\n",
       "            setTimeout(function() {\n",
       "                var nbb_cell_id = 136;\n",
       "                var nbb_unformatted_code = \"#### Checking the number of rows without a first category\\nprint(\\n    f'There are {len(df[df[\\\"num_categories\\\"]==0])} entries without any known_for category.'\\n)\";\n",
       "                var nbb_formatted_code = \"#### Checking the number of rows without a first category\\nprint(\\n    f'There are {len(df[df[\\\"num_categories\\\"]==0])} entries without any known_for category.'\\n)\";\n",
       "                var nbb_cells = Jupyter.notebook.get_cells();\n",
       "                for (var i = 0; i < nbb_cells.length; ++i) {\n",
       "                    if (nbb_cells[i].input_prompt_number == nbb_cell_id) {\n",
       "                        if (nbb_cells[i].get_text() == nbb_unformatted_code) {\n",
       "                             nbb_cells[i].set_text(nbb_formatted_code);\n",
       "                        }\n",
       "                        break;\n",
       "                    }\n",
       "                }\n",
       "            }, 500);\n",
       "            "
      ],
      "text/plain": [
       "<IPython.core.display.Javascript object>"
      ]
     },
     "metadata": {},
     "output_type": "display_data"
    }
   ],
   "source": [
    "#### Checking the number of rows without a first category\n",
    "print(\n",
    "    f'There are {len(df[df[\"num_categories\"]==0])} entries without any known_for category.'\n",
    ")"
   ]
  },
  {
   "cell_type": "markdown",
   "id": "a661e7e1",
   "metadata": {},
   "source": [
    "#### Observations:\n",
    "- We will proceed to rebuild `known_for_dict` for the next iteration."
   ]
  },
  {
   "cell_type": "markdown",
   "id": "e4bc3ad0",
   "metadata": {},
   "source": [
    "#### Finding `known_for` Roles in `info_2`"
   ]
  },
  {
   "cell_type": "code",
   "execution_count": 137,
   "id": "06ca1235",
   "metadata": {},
   "outputs": [
    {
     "data": {
      "application/javascript": [
       "\n",
       "            setTimeout(function() {\n",
       "                var nbb_cell_id = 137;\n",
       "                var nbb_unformatted_code = \"# Obtaining values for column and their counts\\nroles_list = df[\\\"info_2\\\"].value_counts(ascending=True).index.tolist()\";\n",
       "                var nbb_formatted_code = \"# Obtaining values for column and their counts\\nroles_list = df[\\\"info_2\\\"].value_counts(ascending=True).index.tolist()\";\n",
       "                var nbb_cells = Jupyter.notebook.get_cells();\n",
       "                for (var i = 0; i < nbb_cells.length; ++i) {\n",
       "                    if (nbb_cells[i].input_prompt_number == nbb_cell_id) {\n",
       "                        if (nbb_cells[i].get_text() == nbb_unformatted_code) {\n",
       "                             nbb_cells[i].set_text(nbb_formatted_code);\n",
       "                        }\n",
       "                        break;\n",
       "                    }\n",
       "                }\n",
       "            }, 500);\n",
       "            "
      ],
      "text/plain": [
       "<IPython.core.display.Javascript object>"
      ]
     },
     "metadata": {},
     "output_type": "display_data"
    }
   ],
   "source": [
    "# Obtaining values for column and their counts\n",
    "roles_list = df[\"info_2\"].value_counts(ascending=True).index.tolist()"
   ]
  },
  {
   "cell_type": "code",
   "execution_count": 138,
   "id": "79608b03",
   "metadata": {},
   "outputs": [
    {
     "data": {
      "application/javascript": [
       "\n",
       "            setTimeout(function() {\n",
       "                var nbb_cell_id = 138;\n",
       "                var nbb_unformatted_code = \"# # Code to check each value\\n# roles_list.pop()\";\n",
       "                var nbb_formatted_code = \"# # Code to check each value\\n# roles_list.pop()\";\n",
       "                var nbb_cells = Jupyter.notebook.get_cells();\n",
       "                for (var i = 0; i < nbb_cells.length; ++i) {\n",
       "                    if (nbb_cells[i].input_prompt_number == nbb_cell_id) {\n",
       "                        if (nbb_cells[i].get_text() == nbb_unformatted_code) {\n",
       "                             nbb_cells[i].set_text(nbb_formatted_code);\n",
       "                        }\n",
       "                        break;\n",
       "                    }\n",
       "                }\n",
       "            }, 500);\n",
       "            "
      ],
      "text/plain": [
       "<IPython.core.display.Javascript object>"
      ]
     },
     "metadata": {},
     "output_type": "display_data"
    }
   ],
   "source": [
    "# # Code to check each value\n",
    "# roles_list.pop()"
   ]
  },
  {
   "cell_type": "code",
   "execution_count": 139,
   "id": "ca0eef2b",
   "metadata": {},
   "outputs": [
    {
     "data": {
      "application/javascript": [
       "\n",
       "            setTimeout(function() {\n",
       "                var nbb_cell_id = 139;\n",
       "                var nbb_unformatted_code = \"# # Create specific_roles_list for above popped value\\n# specific_roles_list = (\\n#     df.loc[\\n#         [index for index in df.index if \\\"physician\\\" in df.loc[index, \\\"info\\\"]], \\\"info_2\\\",\\n#     ]\\n#     .value_counts()\\n#     .index.tolist()\\n# )\";\n",
       "                var nbb_formatted_code = \"# # Create specific_roles_list for above popped value\\n# specific_roles_list = (\\n#     df.loc[\\n#         [index for index in df.index if \\\"physician\\\" in df.loc[index, \\\"info\\\"]], \\\"info_2\\\",\\n#     ]\\n#     .value_counts()\\n#     .index.tolist()\\n# )\";\n",
       "                var nbb_cells = Jupyter.notebook.get_cells();\n",
       "                for (var i = 0; i < nbb_cells.length; ++i) {\n",
       "                    if (nbb_cells[i].input_prompt_number == nbb_cell_id) {\n",
       "                        if (nbb_cells[i].get_text() == nbb_unformatted_code) {\n",
       "                             nbb_cells[i].set_text(nbb_formatted_code);\n",
       "                        }\n",
       "                        break;\n",
       "                    }\n",
       "                }\n",
       "            }, 500);\n",
       "            "
      ],
      "text/plain": [
       "<IPython.core.display.Javascript object>"
      ]
     },
     "metadata": {},
     "output_type": "display_data"
    }
   ],
   "source": [
    "# # Create specific_roles_list for above popped value\n",
    "# specific_roles_list = (\n",
    "#     df.loc[\n",
    "#         [index for index in df.index if \"physician\" in df.loc[index, \"info\"]], \"info_2\",\n",
    "#     ]\n",
    "#     .value_counts()\n",
    "#     .index.tolist()\n",
    "# )"
   ]
  },
  {
   "cell_type": "code",
   "execution_count": 140,
   "id": "77a87a9b",
   "metadata": {},
   "outputs": [
    {
     "data": {
      "application/javascript": [
       "\n",
       "            setTimeout(function() {\n",
       "                var nbb_cell_id = 140;\n",
       "                var nbb_unformatted_code = \"# # Code to check each specific value\\n# specific_roles_list.pop()\";\n",
       "                var nbb_formatted_code = \"# # Code to check each specific value\\n# specific_roles_list.pop()\";\n",
       "                var nbb_cells = Jupyter.notebook.get_cells();\n",
       "                for (var i = 0; i < nbb_cells.length; ++i) {\n",
       "                    if (nbb_cells[i].input_prompt_number == nbb_cell_id) {\n",
       "                        if (nbb_cells[i].get_text() == nbb_unformatted_code) {\n",
       "                             nbb_cells[i].set_text(nbb_formatted_code);\n",
       "                        }\n",
       "                        break;\n",
       "                    }\n",
       "                }\n",
       "            }, 500);\n",
       "            "
      ],
      "text/plain": [
       "<IPython.core.display.Javascript object>"
      ]
     },
     "metadata": {},
     "output_type": "display_data"
    }
   ],
   "source": [
    "# # Code to check each specific value\n",
    "# specific_roles_list.pop()"
   ]
  },
  {
   "cell_type": "code",
   "execution_count": 141,
   "id": "95a8192d",
   "metadata": {},
   "outputs": [
    {
     "data": {
      "application/javascript": [
       "\n",
       "            setTimeout(function() {\n",
       "                var nbb_cell_id = 141;\n",
       "                var nbb_unformatted_code = \"# # Example code to quick-screen values that may overlap categories\\n# df.loc[\\n#     [\\n#         index\\n#         for index in df.index\\n#         if \\\"physician and medical unionist\\\" in df.loc[index, \\\"info\\\"]\\n#     ]\\n# ]\";\n",
       "                var nbb_formatted_code = \"# # Example code to quick-screen values that may overlap categories\\n# df.loc[\\n#     [\\n#         index\\n#         for index in df.index\\n#         if \\\"physician and medical unionist\\\" in df.loc[index, \\\"info\\\"]\\n#     ]\\n# ]\";\n",
       "                var nbb_cells = Jupyter.notebook.get_cells();\n",
       "                for (var i = 0; i < nbb_cells.length; ++i) {\n",
       "                    if (nbb_cells[i].input_prompt_number == nbb_cell_id) {\n",
       "                        if (nbb_cells[i].get_text() == nbb_unformatted_code) {\n",
       "                             nbb_cells[i].set_text(nbb_formatted_code);\n",
       "                        }\n",
       "                        break;\n",
       "                    }\n",
       "                }\n",
       "            }, 500);\n",
       "            "
      ],
      "text/plain": [
       "<IPython.core.display.Javascript object>"
      ]
     },
     "metadata": {},
     "output_type": "display_data"
    }
   ],
   "source": [
    "# # Example code to quick-screen values that may overlap categories\n",
    "# df.loc[\n",
    "#     [\n",
    "#         index\n",
    "#         for index in df.index\n",
    "#         if \"physician and medical unionist\" in df.loc[index, \"info\"]\n",
    "#     ]\n",
    "# ]"
   ]
  },
  {
   "cell_type": "code",
   "execution_count": 142,
   "id": "8679e0c7",
   "metadata": {},
   "outputs": [
    {
     "data": {
      "application/javascript": [
       "\n",
       "            setTimeout(function() {\n",
       "                var nbb_cell_id = 142;\n",
       "                var nbb_unformatted_code = \"# # Example code to quick-check a specific entry\\n# df[df[\\\"info_2\\\"] == \\\"billionare physician\\\"]\";\n",
       "                var nbb_formatted_code = \"# # Example code to quick-check a specific entry\\n# df[df[\\\"info_2\\\"] == \\\"billionare physician\\\"]\";\n",
       "                var nbb_cells = Jupyter.notebook.get_cells();\n",
       "                for (var i = 0; i < nbb_cells.length; ++i) {\n",
       "                    if (nbb_cells[i].input_prompt_number == nbb_cell_id) {\n",
       "                        if (nbb_cells[i].get_text() == nbb_unformatted_code) {\n",
       "                             nbb_cells[i].set_text(nbb_formatted_code);\n",
       "                        }\n",
       "                        break;\n",
       "                    }\n",
       "                }\n",
       "            }, 500);\n",
       "            "
      ],
      "text/plain": [
       "<IPython.core.display.Javascript object>"
      ]
     },
     "metadata": {},
     "output_type": "display_data"
    }
   ],
   "source": [
    "# # Example code to quick-check a specific entry\n",
    "# df[df[\"info_2\"] == \"billionare physician\"]"
   ]
  },
  {
   "cell_type": "markdown",
   "id": "ea1ae121",
   "metadata": {},
   "source": [
    "#### Creating Lists for Each `known_for` Category"
   ]
  },
  {
   "cell_type": "code",
   "execution_count": 143,
   "id": "2b79532b",
   "metadata": {},
   "outputs": [
    {
     "data": {
      "application/javascript": [
       "\n",
       "            setTimeout(function() {\n",
       "                var nbb_cell_id = 143;\n",
       "                var nbb_unformatted_code = \"# Creating lists for each category\\npolitics_govt_law = [\\n    \\\"former head of the WHO AIDS program\\\",\\n    \\\"head of the F D A\\\",\\n    \\\"faithless elector\\\",\\n    \\\"medical unionist\\\",  # before sciences\\n]\\n\\narts = [\\\"chairwoman of the Bromsgrove Festival\\\"]\\nsports = []\\nsciences = [\\n    \\\"biochemist and physician\\\",\\n    \\\"physician and cytologist\\\",\\n    \\\"physician and pioneer in sex reassignment surgery\\\",\\n    \\\"physician who delivered first test tube baby\\\",\\n    \\\"medical researcher and physician\\\",\\n    \\\"physician and abortion provider\\\",\\n    \\\"physician and pioneer in AIDS detection\\\",\\n    \\\"physician and inventor\\\",\\n    \\\"attending physician to President John F Kennedy after his assassination\\\",\\n    \\\"physician and expert on international health\\\",\\n    \\\"physician and geneticist\\\",\\n    \\\"physician and histologist\\\",\\n    \\\"transplant physician and immunologist\\\",\\n    \\\"physician and toxicologist\\\",\\n    \\\"physician and haematologist\\\",\\n    \\\"physician and physiologist\\\",\\n    \\\"respiratory physician\\\",\\n    \\\"physician and family therapy pioneer\\\",\\n    \\\"orthopedic physician\\\",\\n    \\\"physician and sexologist\\\",\\n    \\\"physician and medical scientist\\\",\\n    \\\"physician and virologist\\\",\\n    \\\"physician and pioneer in prolotherapy\\\",\\n    \\\"physician and research scientist\\\",\\n    \\\"physician and suspect in several murders\\\",\\n    \\\"physician and psychiatrist\\\",\\n    \\\"pediatric surgeon\\\",\\n    \\\"physician and a NASA\\\",\\n    \\\"physician and son of Ernest Hemingway\\\",\\n    \\\"tropical physician\\\",\\n    \\\"EMS physician\\\",\\n    \\\"research physician\\\",\\n    \\\"physician and toxicology researcher\\\",\\n    \\\"physician and leukemia researcher\\\",\\n    \\\"family health physician\\\",\\n    \\\"physician and organ transplant expert\\\",\\n    \\\"aerospace physician\\\",\\n    \\\"physician and cancer genetic researcher\\\",\\n    \\\"physician and molecular geneticist\\\",\\n    \\\"cardiologist and emergency physician\\\",\\n    \\\"physician and chemist\\\",\\n    \\\"physician and stem cell researcher\\\",\\n    \\\"physician and scientist\\\",\\n    \\\"physician and cancer researcher\\\",\\n    \\\"Ayurvedic physician\\\",\\n    \\\"physician and gastroenterologist\\\",\\n    \\\"physician and radiologist\\\",\\n    \\\"pharmacologist and physician\\\",\\n    \\\"pediatric cardiac surgeon and physician\\\",\\n    \\\"physician and neuropathologist\\\",\\n    \\\"physician and scientific\\\",\\n    \\\"ayurvedic physician\\\",\\n    \\\"physician and HIV AIDS researcher\\\",\\n    \\\"physician and pharmacologist\\\",\\n    \\\"physician and thoracic specialist\\\",\\n    \\\"physician and anatomist\\\",\\n    \\\"chief physician\\\",\\n    \\\"pediatrician and family physician\\\",\\n    \\\"physician known for alternative cancer treatments\\\",\\n    \\\"nutritionist and physician\\\",\\n    \\\"physician and clinical researcher\\\",\\n    \\\"physician and cardiologist\\\",\\n    \\\"physician and psychoanalyst\\\",\\n    \\\"physician and epidemiologist\\\",\\n    \\\"physician and pathologist\\\",\\n    \\\"consultant physician\\\",\\n    \\\"physician and medical researcher\\\",\\n    \\\"physician and medical\\\",\\n    \\\"physician and\\\",\\n    \\\"and physician\\\",\\n    \\\"physician\\\",\\n]\\n\\nbusiness_farming = [\\\"founder of Janssen Pharmaceutica\\\"]\\nacademia_humanities = []\\nlaw_enf_military_operator = []\\nspiritual = []\\nsocial = [\\\"hospice founder\\\", \\\"in chief of Children Hospital\\\"]\\ncrime = []\\nevent_record_other = []\\nother_species = []\";\n",
       "                var nbb_formatted_code = \"# Creating lists for each category\\npolitics_govt_law = [\\n    \\\"former head of the WHO AIDS program\\\",\\n    \\\"head of the F D A\\\",\\n    \\\"faithless elector\\\",\\n    \\\"medical unionist\\\",  # before sciences\\n]\\n\\narts = [\\\"chairwoman of the Bromsgrove Festival\\\"]\\nsports = []\\nsciences = [\\n    \\\"biochemist and physician\\\",\\n    \\\"physician and cytologist\\\",\\n    \\\"physician and pioneer in sex reassignment surgery\\\",\\n    \\\"physician who delivered first test tube baby\\\",\\n    \\\"medical researcher and physician\\\",\\n    \\\"physician and abortion provider\\\",\\n    \\\"physician and pioneer in AIDS detection\\\",\\n    \\\"physician and inventor\\\",\\n    \\\"attending physician to President John F Kennedy after his assassination\\\",\\n    \\\"physician and expert on international health\\\",\\n    \\\"physician and geneticist\\\",\\n    \\\"physician and histologist\\\",\\n    \\\"transplant physician and immunologist\\\",\\n    \\\"physician and toxicologist\\\",\\n    \\\"physician and haematologist\\\",\\n    \\\"physician and physiologist\\\",\\n    \\\"respiratory physician\\\",\\n    \\\"physician and family therapy pioneer\\\",\\n    \\\"orthopedic physician\\\",\\n    \\\"physician and sexologist\\\",\\n    \\\"physician and medical scientist\\\",\\n    \\\"physician and virologist\\\",\\n    \\\"physician and pioneer in prolotherapy\\\",\\n    \\\"physician and research scientist\\\",\\n    \\\"physician and suspect in several murders\\\",\\n    \\\"physician and psychiatrist\\\",\\n    \\\"pediatric surgeon\\\",\\n    \\\"physician and a NASA\\\",\\n    \\\"physician and son of Ernest Hemingway\\\",\\n    \\\"tropical physician\\\",\\n    \\\"EMS physician\\\",\\n    \\\"research physician\\\",\\n    \\\"physician and toxicology researcher\\\",\\n    \\\"physician and leukemia researcher\\\",\\n    \\\"family health physician\\\",\\n    \\\"physician and organ transplant expert\\\",\\n    \\\"aerospace physician\\\",\\n    \\\"physician and cancer genetic researcher\\\",\\n    \\\"physician and molecular geneticist\\\",\\n    \\\"cardiologist and emergency physician\\\",\\n    \\\"physician and chemist\\\",\\n    \\\"physician and stem cell researcher\\\",\\n    \\\"physician and scientist\\\",\\n    \\\"physician and cancer researcher\\\",\\n    \\\"Ayurvedic physician\\\",\\n    \\\"physician and gastroenterologist\\\",\\n    \\\"physician and radiologist\\\",\\n    \\\"pharmacologist and physician\\\",\\n    \\\"pediatric cardiac surgeon and physician\\\",\\n    \\\"physician and neuropathologist\\\",\\n    \\\"physician and scientific\\\",\\n    \\\"ayurvedic physician\\\",\\n    \\\"physician and HIV AIDS researcher\\\",\\n    \\\"physician and pharmacologist\\\",\\n    \\\"physician and thoracic specialist\\\",\\n    \\\"physician and anatomist\\\",\\n    \\\"chief physician\\\",\\n    \\\"pediatrician and family physician\\\",\\n    \\\"physician known for alternative cancer treatments\\\",\\n    \\\"nutritionist and physician\\\",\\n    \\\"physician and clinical researcher\\\",\\n    \\\"physician and cardiologist\\\",\\n    \\\"physician and psychoanalyst\\\",\\n    \\\"physician and epidemiologist\\\",\\n    \\\"physician and pathologist\\\",\\n    \\\"consultant physician\\\",\\n    \\\"physician and medical researcher\\\",\\n    \\\"physician and medical\\\",\\n    \\\"physician and\\\",\\n    \\\"and physician\\\",\\n    \\\"physician\\\",\\n]\\n\\nbusiness_farming = [\\\"founder of Janssen Pharmaceutica\\\"]\\nacademia_humanities = []\\nlaw_enf_military_operator = []\\nspiritual = []\\nsocial = [\\\"hospice founder\\\", \\\"in chief of Children Hospital\\\"]\\ncrime = []\\nevent_record_other = []\\nother_species = []\";\n",
       "                var nbb_cells = Jupyter.notebook.get_cells();\n",
       "                for (var i = 0; i < nbb_cells.length; ++i) {\n",
       "                    if (nbb_cells[i].input_prompt_number == nbb_cell_id) {\n",
       "                        if (nbb_cells[i].get_text() == nbb_unformatted_code) {\n",
       "                             nbb_cells[i].set_text(nbb_formatted_code);\n",
       "                        }\n",
       "                        break;\n",
       "                    }\n",
       "                }\n",
       "            }, 500);\n",
       "            "
      ],
      "text/plain": [
       "<IPython.core.display.Javascript object>"
      ]
     },
     "metadata": {},
     "output_type": "display_data"
    }
   ],
   "source": [
    "# Creating lists for each category\n",
    "politics_govt_law = [\n",
    "    \"former head of the WHO AIDS program\",\n",
    "    \"head of the F D A\",\n",
    "    \"faithless elector\",\n",
    "    \"medical unionist\",  # before sciences\n",
    "]\n",
    "\n",
    "arts = [\"chairwoman of the Bromsgrove Festival\"]\n",
    "sports = []\n",
    "sciences = [\n",
    "    \"biochemist and physician\",\n",
    "    \"physician and cytologist\",\n",
    "    \"physician and pioneer in sex reassignment surgery\",\n",
    "    \"physician who delivered first test tube baby\",\n",
    "    \"medical researcher and physician\",\n",
    "    \"physician and abortion provider\",\n",
    "    \"physician and pioneer in AIDS detection\",\n",
    "    \"physician and inventor\",\n",
    "    \"attending physician to President John F Kennedy after his assassination\",\n",
    "    \"physician and expert on international health\",\n",
    "    \"physician and geneticist\",\n",
    "    \"physician and histologist\",\n",
    "    \"transplant physician and immunologist\",\n",
    "    \"physician and toxicologist\",\n",
    "    \"physician and haematologist\",\n",
    "    \"physician and physiologist\",\n",
    "    \"respiratory physician\",\n",
    "    \"physician and family therapy pioneer\",\n",
    "    \"orthopedic physician\",\n",
    "    \"physician and sexologist\",\n",
    "    \"physician and medical scientist\",\n",
    "    \"physician and virologist\",\n",
    "    \"physician and pioneer in prolotherapy\",\n",
    "    \"physician and research scientist\",\n",
    "    \"physician and suspect in several murders\",\n",
    "    \"physician and psychiatrist\",\n",
    "    \"pediatric surgeon\",\n",
    "    \"physician and a NASA\",\n",
    "    \"physician and son of Ernest Hemingway\",\n",
    "    \"tropical physician\",\n",
    "    \"EMS physician\",\n",
    "    \"research physician\",\n",
    "    \"physician and toxicology researcher\",\n",
    "    \"physician and leukemia researcher\",\n",
    "    \"family health physician\",\n",
    "    \"physician and organ transplant expert\",\n",
    "    \"aerospace physician\",\n",
    "    \"physician and cancer genetic researcher\",\n",
    "    \"physician and molecular geneticist\",\n",
    "    \"cardiologist and emergency physician\",\n",
    "    \"physician and chemist\",\n",
    "    \"physician and stem cell researcher\",\n",
    "    \"physician and scientist\",\n",
    "    \"physician and cancer researcher\",\n",
    "    \"Ayurvedic physician\",\n",
    "    \"physician and gastroenterologist\",\n",
    "    \"physician and radiologist\",\n",
    "    \"pharmacologist and physician\",\n",
    "    \"pediatric cardiac surgeon and physician\",\n",
    "    \"physician and neuropathologist\",\n",
    "    \"physician and scientific\",\n",
    "    \"ayurvedic physician\",\n",
    "    \"physician and HIV AIDS researcher\",\n",
    "    \"physician and pharmacologist\",\n",
    "    \"physician and thoracic specialist\",\n",
    "    \"physician and anatomist\",\n",
    "    \"chief physician\",\n",
    "    \"pediatrician and family physician\",\n",
    "    \"physician known for alternative cancer treatments\",\n",
    "    \"nutritionist and physician\",\n",
    "    \"physician and clinical researcher\",\n",
    "    \"physician and cardiologist\",\n",
    "    \"physician and psychoanalyst\",\n",
    "    \"physician and epidemiologist\",\n",
    "    \"physician and pathologist\",\n",
    "    \"consultant physician\",\n",
    "    \"physician and medical researcher\",\n",
    "    \"physician and medical\",\n",
    "    \"physician and\",\n",
    "    \"and physician\",\n",
    "    \"physician\",\n",
    "]\n",
    "\n",
    "business_farming = [\"founder of Janssen Pharmaceutica\"]\n",
    "academia_humanities = []\n",
    "law_enf_military_operator = []\n",
    "spiritual = []\n",
    "social = [\"hospice founder\", \"in chief of Children Hospital\"]\n",
    "crime = []\n",
    "event_record_other = []\n",
    "other_species = []"
   ]
  },
  {
   "cell_type": "markdown",
   "id": "fbeafdce",
   "metadata": {},
   "source": [
    "#### Creating `known_for_dict` Dictionary of Category Keys and Specific Role Lists of Values"
   ]
  },
  {
   "cell_type": "code",
   "execution_count": 144,
   "id": "957425ab",
   "metadata": {},
   "outputs": [
    {
     "data": {
      "application/javascript": [
       "\n",
       "            setTimeout(function() {\n",
       "                var nbb_cell_id = 144;\n",
       "                var nbb_unformatted_code = \"# Combining separate lists into one dictionary\\nknown_for_dict = {\\n    \\\"social\\\": social,\\n    \\\"spiritual\\\": spiritual,\\n    \\\"academia_humanities\\\": academia_humanities,\\n    \\\"business_farming\\\": business_farming,\\n    \\\"politics_govt_law\\\": politics_govt_law,\\n    \\\"sciences\\\": sciences,\\n    \\\"law_enf_military_operator\\\": law_enf_military_operator,\\n    \\\"crime\\\": crime,\\n    \\\"event_record_other\\\": event_record_other,\\n    \\\"other_species\\\": other_species,\\n    \\\"arts\\\": arts,\\n    \\\"sports\\\": sports,\\n}\";\n",
       "                var nbb_formatted_code = \"# Combining separate lists into one dictionary\\nknown_for_dict = {\\n    \\\"social\\\": social,\\n    \\\"spiritual\\\": spiritual,\\n    \\\"academia_humanities\\\": academia_humanities,\\n    \\\"business_farming\\\": business_farming,\\n    \\\"politics_govt_law\\\": politics_govt_law,\\n    \\\"sciences\\\": sciences,\\n    \\\"law_enf_military_operator\\\": law_enf_military_operator,\\n    \\\"crime\\\": crime,\\n    \\\"event_record_other\\\": event_record_other,\\n    \\\"other_species\\\": other_species,\\n    \\\"arts\\\": arts,\\n    \\\"sports\\\": sports,\\n}\";\n",
       "                var nbb_cells = Jupyter.notebook.get_cells();\n",
       "                for (var i = 0; i < nbb_cells.length; ++i) {\n",
       "                    if (nbb_cells[i].input_prompt_number == nbb_cell_id) {\n",
       "                        if (nbb_cells[i].get_text() == nbb_unformatted_code) {\n",
       "                             nbb_cells[i].set_text(nbb_formatted_code);\n",
       "                        }\n",
       "                        break;\n",
       "                    }\n",
       "                }\n",
       "            }, 500);\n",
       "            "
      ],
      "text/plain": [
       "<IPython.core.display.Javascript object>"
      ]
     },
     "metadata": {},
     "output_type": "display_data"
    }
   ],
   "source": [
    "# Combining separate lists into one dictionary\n",
    "known_for_dict = {\n",
    "    \"social\": social,\n",
    "    \"spiritual\": spiritual,\n",
    "    \"academia_humanities\": academia_humanities,\n",
    "    \"business_farming\": business_farming,\n",
    "    \"politics_govt_law\": politics_govt_law,\n",
    "    \"sciences\": sciences,\n",
    "    \"law_enf_military_operator\": law_enf_military_operator,\n",
    "    \"crime\": crime,\n",
    "    \"event_record_other\": event_record_other,\n",
    "    \"other_species\": other_species,\n",
    "    \"arts\": arts,\n",
    "    \"sports\": sports,\n",
    "}"
   ]
  },
  {
   "cell_type": "markdown",
   "id": "2937de04",
   "metadata": {},
   "source": [
    "#### Extracting Category from `info_2`"
   ]
  },
  {
   "cell_type": "code",
   "execution_count": 145,
   "id": "e4721601",
   "metadata": {},
   "outputs": [
    {
     "name": "stdout",
     "output_type": "stream",
     "text": [
      "CPU times: total: 41.4 s\n",
      "Wall time: 41.4 s\n"
     ]
    },
    {
     "data": {
      "text/html": [
       "<div>\n",
       "<style scoped>\n",
       "    .dataframe tbody tr th:only-of-type {\n",
       "        vertical-align: middle;\n",
       "    }\n",
       "\n",
       "    .dataframe tbody tr th {\n",
       "        vertical-align: top;\n",
       "    }\n",
       "\n",
       "    .dataframe thead th {\n",
       "        text-align: right;\n",
       "    }\n",
       "</style>\n",
       "<table border=\"1\" class=\"dataframe\">\n",
       "  <thead>\n",
       "    <tr style=\"text-align: right;\">\n",
       "      <th></th>\n",
       "      <th>day</th>\n",
       "      <th>name</th>\n",
       "      <th>info</th>\n",
       "      <th>link</th>\n",
       "      <th>num_references</th>\n",
       "      <th>year</th>\n",
       "      <th>month</th>\n",
       "      <th>info_parenth</th>\n",
       "      <th>info_1</th>\n",
       "      <th>info_2</th>\n",
       "      <th>info_3</th>\n",
       "      <th>info_4</th>\n",
       "      <th>info_5</th>\n",
       "      <th>info_6</th>\n",
       "      <th>info_7</th>\n",
       "      <th>info_8</th>\n",
       "      <th>info_9</th>\n",
       "      <th>info_10</th>\n",
       "      <th>info_11</th>\n",
       "      <th>age</th>\n",
       "      <th>cause_of_death</th>\n",
       "      <th>place_1</th>\n",
       "      <th>place_2</th>\n",
       "      <th>info_parenth_copy</th>\n",
       "      <th>log_num_references</th>\n",
       "      <th>sciences</th>\n",
       "      <th>social</th>\n",
       "      <th>spiritual</th>\n",
       "      <th>academia_humanities</th>\n",
       "      <th>business_farming</th>\n",
       "      <th>arts</th>\n",
       "      <th>sports</th>\n",
       "      <th>law_enf_military_operator</th>\n",
       "      <th>politics_govt_law</th>\n",
       "      <th>crime</th>\n",
       "      <th>event_record_other</th>\n",
       "      <th>other_species</th>\n",
       "      <th>num_categories</th>\n",
       "    </tr>\n",
       "  </thead>\n",
       "  <tbody>\n",
       "    <tr>\n",
       "      <th>55782</th>\n",
       "      <td>26</td>\n",
       "      <td>Amir Aczel</td>\n",
       "      <td>, 65, Israeli-born American mathematician and scientist, cancer.</td>\n",
       "      <td>https://en.wikipedia.org/wiki/Amir_Aczel</td>\n",
       "      <td>8</td>\n",
       "      <td>2015</td>\n",
       "      <td>November</td>\n",
       "      <td>None</td>\n",
       "      <td>None</td>\n",
       "      <td></td>\n",
       "      <td>cancer</td>\n",
       "      <td>None</td>\n",
       "      <td>None</td>\n",
       "      <td>None</td>\n",
       "      <td>None</td>\n",
       "      <td>None</td>\n",
       "      <td>None</td>\n",
       "      <td>None</td>\n",
       "      <td>None</td>\n",
       "      <td>65.0</td>\n",
       "      <td>None</td>\n",
       "      <td>Israel</td>\n",
       "      <td>United States of America</td>\n",
       "      <td>None</td>\n",
       "      <td>2.197225</td>\n",
       "      <td>1</td>\n",
       "      <td>0</td>\n",
       "      <td>0</td>\n",
       "      <td>0</td>\n",
       "      <td>0</td>\n",
       "      <td>0</td>\n",
       "      <td>0</td>\n",
       "      <td>0</td>\n",
       "      <td>0</td>\n",
       "      <td>0</td>\n",
       "      <td>0</td>\n",
       "      <td>0</td>\n",
       "      <td>1</td>\n",
       "    </tr>\n",
       "    <tr>\n",
       "      <th>33393</th>\n",
       "      <td>1</td>\n",
       "      <td>Bruce Halliday</td>\n",
       "      <td>, 84, Canadian physician and politician, MP for Oxford .</td>\n",
       "      <td>https://en.wikipedia.org/wiki/Bruce_Halliday_(politician)</td>\n",
       "      <td>3</td>\n",
       "      <td>2011</td>\n",
       "      <td>January</td>\n",
       "      <td></td>\n",
       "      <td>None</td>\n",
       "      <td></td>\n",
       "      <td>MP for Oxford</td>\n",
       "      <td>None</td>\n",
       "      <td>None</td>\n",
       "      <td>None</td>\n",
       "      <td>None</td>\n",
       "      <td>None</td>\n",
       "      <td>None</td>\n",
       "      <td>None</td>\n",
       "      <td>None</td>\n",
       "      <td>84.0</td>\n",
       "      <td>None</td>\n",
       "      <td>Canada</td>\n",
       "      <td>None</td>\n",
       "      <td>1974 1993</td>\n",
       "      <td>1.386294</td>\n",
       "      <td>1</td>\n",
       "      <td>0</td>\n",
       "      <td>0</td>\n",
       "      <td>0</td>\n",
       "      <td>0</td>\n",
       "      <td>0</td>\n",
       "      <td>0</td>\n",
       "      <td>0</td>\n",
       "      <td>1</td>\n",
       "      <td>0</td>\n",
       "      <td>0</td>\n",
       "      <td>0</td>\n",
       "      <td>2</td>\n",
       "    </tr>\n",
       "  </tbody>\n",
       "</table>\n",
       "</div>"
      ],
      "text/plain": [
       "      day            name  \\\n",
       "55782  26      Amir Aczel   \n",
       "33393   1  Bruce Halliday   \n",
       "\n",
       "                                                                   info  \\\n",
       "55782  , 65, Israeli-born American mathematician and scientist, cancer.   \n",
       "33393          , 84, Canadian physician and politician, MP for Oxford .   \n",
       "\n",
       "                                                            link  \\\n",
       "55782                   https://en.wikipedia.org/wiki/Amir_Aczel   \n",
       "33393  https://en.wikipedia.org/wiki/Bruce_Halliday_(politician)   \n",
       "\n",
       "       num_references  year     month info_parenth info_1 info_2  \\\n",
       "55782               8  2015  November         None   None          \n",
       "33393               3  2011   January                None          \n",
       "\n",
       "              info_3 info_4 info_5 info_6 info_7 info_8 info_9 info_10  \\\n",
       "55782         cancer   None   None   None   None   None   None    None   \n",
       "33393  MP for Oxford   None   None   None   None   None   None    None   \n",
       "\n",
       "      info_11   age cause_of_death place_1                   place_2  \\\n",
       "55782    None  65.0           None  Israel  United States of America   \n",
       "33393    None  84.0           None  Canada                      None   \n",
       "\n",
       "      info_parenth_copy  log_num_references  sciences  social  spiritual  \\\n",
       "55782              None            2.197225         1       0          0   \n",
       "33393         1974 1993            1.386294         1       0          0   \n",
       "\n",
       "       academia_humanities  business_farming  arts  sports  \\\n",
       "55782                    0                 0     0       0   \n",
       "33393                    0                 0     0       0   \n",
       "\n",
       "       law_enf_military_operator  politics_govt_law  crime  \\\n",
       "55782                          0                  0      0   \n",
       "33393                          0                  1      0   \n",
       "\n",
       "       event_record_other  other_species  num_categories  \n",
       "55782                   0              0               1  \n",
       "33393                   0              0               2  "
      ]
     },
     "execution_count": 145,
     "metadata": {},
     "output_type": "execute_result"
    },
    {
     "data": {
      "application/javascript": [
       "\n",
       "            setTimeout(function() {\n",
       "                var nbb_cell_id = 145;\n",
       "                var nbb_unformatted_code = \"%%time\\n\\n# Dictionary version\\nsearch_dict = known_for_dict\\n\\n# Column to check\\ncolumn = 'info_2'\\n\\n# Dataframe\\ndataframe = df[column].notna()\\n\\n# For loop to find role in column and extract it as category\\nfor category, category_lst in search_dict.items():\\n    for role in category_lst:\\n        for index in dataframe.index:\\n            item = df.loc[index, column]\\n            if item:\\n                if role in item:\\n                    df.loc[index, category] = 1\\n                    df.loc[index, column] = item.replace(role, '').strip()\\n\\n# Updating num_categories\\ndf[\\\"num_categories\\\"] = df[known_for_dict.keys()].sum(axis=1)\\n\\n# Checking a sample of rows\\ndf[df['sciences'] ==1].sample(2)\";\n",
       "                var nbb_formatted_code = \"%%time\\n\\n# Dictionary version\\nsearch_dict = known_for_dict\\n\\n# Column to check\\ncolumn = 'info_2'\\n\\n# Dataframe\\ndataframe = df[column].notna()\\n\\n# For loop to find role in column and extract it as category\\nfor category, category_lst in search_dict.items():\\n    for role in category_lst:\\n        for index in dataframe.index:\\n            item = df.loc[index, column]\\n            if item:\\n                if role in item:\\n                    df.loc[index, category] = 1\\n                    df.loc[index, column] = item.replace(role, '').strip()\\n\\n# Updating num_categories\\ndf[\\\"num_categories\\\"] = df[known_for_dict.keys()].sum(axis=1)\\n\\n# Checking a sample of rows\\ndf[df['sciences'] ==1].sample(2)\";\n",
       "                var nbb_cells = Jupyter.notebook.get_cells();\n",
       "                for (var i = 0; i < nbb_cells.length; ++i) {\n",
       "                    if (nbb_cells[i].input_prompt_number == nbb_cell_id) {\n",
       "                        if (nbb_cells[i].get_text() == nbb_unformatted_code) {\n",
       "                             nbb_cells[i].set_text(nbb_formatted_code);\n",
       "                        }\n",
       "                        break;\n",
       "                    }\n",
       "                }\n",
       "            }, 500);\n",
       "            "
      ],
      "text/plain": [
       "<IPython.core.display.Javascript object>"
      ]
     },
     "metadata": {},
     "output_type": "display_data"
    }
   ],
   "source": [
    "%%time\n",
    "\n",
    "# Dictionary version\n",
    "search_dict = known_for_dict\n",
    "\n",
    "# Column to check\n",
    "column = 'info_2'\n",
    "\n",
    "# Dataframe\n",
    "dataframe = df[column].notna()\n",
    "\n",
    "# For loop to find role in column and extract it as category\n",
    "for category, category_lst in search_dict.items():\n",
    "    for role in category_lst:\n",
    "        for index in dataframe.index:\n",
    "            item = df.loc[index, column]\n",
    "            if item:\n",
    "                if role in item:\n",
    "                    df.loc[index, category] = 1\n",
    "                    df.loc[index, column] = item.replace(role, '').strip()\n",
    "\n",
    "# Updating num_categories\n",
    "df[\"num_categories\"] = df[known_for_dict.keys()].sum(axis=1)\n",
    "\n",
    "# Checking a sample of rows\n",
    "df[df['sciences'] ==1].sample(2)"
   ]
  },
  {
   "cell_type": "markdown",
   "id": "57fc8d1c",
   "metadata": {},
   "source": [
    "#### Checking the Number of Rows without a First Category"
   ]
  },
  {
   "cell_type": "code",
   "execution_count": 146,
   "id": "b83b0967",
   "metadata": {},
   "outputs": [
    {
     "name": "stdout",
     "output_type": "stream",
     "text": [
      "There are 38171 entries without any known_for category.\n"
     ]
    },
    {
     "data": {
      "application/javascript": [
       "\n",
       "            setTimeout(function() {\n",
       "                var nbb_cell_id = 146;\n",
       "                var nbb_unformatted_code = \"#### Checking the number of rows without a first category\\nprint(\\n    f'There are {len(df[df[\\\"num_categories\\\"]==0])} entries without any known_for category.'\\n)\";\n",
       "                var nbb_formatted_code = \"#### Checking the number of rows without a first category\\nprint(\\n    f'There are {len(df[df[\\\"num_categories\\\"]==0])} entries without any known_for category.'\\n)\";\n",
       "                var nbb_cells = Jupyter.notebook.get_cells();\n",
       "                for (var i = 0; i < nbb_cells.length; ++i) {\n",
       "                    if (nbb_cells[i].input_prompt_number == nbb_cell_id) {\n",
       "                        if (nbb_cells[i].get_text() == nbb_unformatted_code) {\n",
       "                             nbb_cells[i].set_text(nbb_formatted_code);\n",
       "                        }\n",
       "                        break;\n",
       "                    }\n",
       "                }\n",
       "            }, 500);\n",
       "            "
      ],
      "text/plain": [
       "<IPython.core.display.Javascript object>"
      ]
     },
     "metadata": {},
     "output_type": "display_data"
    }
   ],
   "source": [
    "#### Checking the number of rows without a first category\n",
    "print(\n",
    "    f'There are {len(df[df[\"num_categories\"]==0])} entries without any known_for category.'\n",
    ")"
   ]
  },
  {
   "cell_type": "markdown",
   "id": "b929b50f",
   "metadata": {},
   "source": [
    "#### Observations:\n",
    "- Before performing the next iteration, we will export our database and start a new notebook."
   ]
  },
  {
   "cell_type": "markdown",
   "id": "1113a242",
   "metadata": {},
   "source": [
    "### Exporting Dataset to SQLite Database [wp_life_expect_clean7.db](https://github.com/teresahanak/wikipedia-life-expectancy/blob/main/wp_life_expect_clean7.db)"
   ]
  },
  {
   "cell_type": "code",
   "execution_count": 147,
   "id": "6008ac61",
   "metadata": {},
   "outputs": [
    {
     "data": {
      "application/javascript": [
       "\n",
       "            setTimeout(function() {\n",
       "                var nbb_cell_id = 147;\n",
       "                var nbb_unformatted_code = \"# Exporting dataframe\\n\\n# Saving dataset in a SQLite database\\nconn = sql.connect(\\\"wp_life_expect_clean7.db\\\")\\ndf.to_sql(\\\"wp_life_expect_clean7\\\", conn, index=False)\\n\\n# Chime notification when cell executes\\nchime.success()\";\n",
       "                var nbb_formatted_code = \"# Exporting dataframe\\n\\n# Saving dataset in a SQLite database\\nconn = sql.connect(\\\"wp_life_expect_clean7.db\\\")\\ndf.to_sql(\\\"wp_life_expect_clean7\\\", conn, index=False)\\n\\n# Chime notification when cell executes\\nchime.success()\";\n",
       "                var nbb_cells = Jupyter.notebook.get_cells();\n",
       "                for (var i = 0; i < nbb_cells.length; ++i) {\n",
       "                    if (nbb_cells[i].input_prompt_number == nbb_cell_id) {\n",
       "                        if (nbb_cells[i].get_text() == nbb_unformatted_code) {\n",
       "                             nbb_cells[i].set_text(nbb_formatted_code);\n",
       "                        }\n",
       "                        break;\n",
       "                    }\n",
       "                }\n",
       "            }, 500);\n",
       "            "
      ],
      "text/plain": [
       "<IPython.core.display.Javascript object>"
      ]
     },
     "metadata": {},
     "output_type": "display_data"
    }
   ],
   "source": [
    "# Exporting dataframe\n",
    "\n",
    "# Saving dataset in a SQLite database\n",
    "conn = sql.connect(\"wp_life_expect_clean7.db\")\n",
    "df.to_sql(\"wp_life_expect_clean7\", conn, index=False)\n",
    "\n",
    "# Chime notification when cell executes\n",
    "chime.success()"
   ]
  },
  {
   "cell_type": "markdown",
   "id": "11aacfcc",
   "metadata": {},
   "source": [
    "# [Proceed to Data Cleaning Part 8 ](https://github.com/teresahanak/wikipedia-life-expectancy/blob/main/wp_life_expect_data_clean8_thanak_2022_07_26.ipynb)"
   ]
  }
 ],
 "metadata": {
  "kernelspec": {
   "display_name": "Python 3 (ipykernel)",
   "language": "python",
   "name": "python3"
  },
  "language_info": {
   "codemirror_mode": {
    "name": "ipython",
    "version": 3
   },
   "file_extension": ".py",
   "mimetype": "text/x-python",
   "name": "python",
   "nbconvert_exporter": "python",
   "pygments_lexer": "ipython3",
   "version": "3.9.12"
  }
 },
 "nbformat": 4,
 "nbformat_minor": 5
}
