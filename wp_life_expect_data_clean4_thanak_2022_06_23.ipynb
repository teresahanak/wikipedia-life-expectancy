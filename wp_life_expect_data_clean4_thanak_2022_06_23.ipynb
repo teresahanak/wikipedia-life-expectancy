{
 "cells": [
  {
   "cell_type": "markdown",
   "id": "9e59b5f8",
   "metadata": {},
   "source": [
    "# Wikipedia Notable Life Expectancies\n",
    "\n",
    "# [Notebook 5 of : Data Cleaning](https://github.com/teresahanak/wikipedia-life-expectancy/blob/main/wp_life_expect_data_clean4_thanak_2022_06_23.ipynb)\n",
    "\n",
    "## Context\n",
    "\n",
    "The\n",
    "\n",
    "\n",
    "## Objective\n",
    "\n",
    "The\n",
    "\n",
    "### Data Dictionary\n",
    "\n",
    "- Feature: Description"
   ]
  },
  {
   "cell_type": "markdown",
   "id": "3a2b116b",
   "metadata": {},
   "source": [
    "## Importing Necessary Libraries"
   ]
  },
  {
   "cell_type": "code",
   "execution_count": 1,
   "id": "306c8782",
   "metadata": {},
   "outputs": [
    {
     "data": {
      "application/javascript": [
       "\n",
       "            setTimeout(function() {\n",
       "                var nbb_cell_id = 1;\n",
       "                var nbb_unformatted_code = \"# To structure code automatically\\n%load_ext nb_black\\n\\n# To import/export sqlite databases\\nimport sqlite3 as sql\\n\\n# To save/open python objects in pickle file\\nimport pickle\\n\\n# To help with reading, cleaning, and manipulating data\\nimport pandas as pd\\nimport numpy as np\\nimport re\\n\\n# To define maximum number of columns to be displayed in a dataframe\\npd.set_option(\\\"display.max_columns\\\", None)\\n# To define the maximum number of rows to be displayed in a dataframe\\npd.set_option(\\\"display.max_rows\\\", 200)\\n\\n# To supress warnings\\n# import warnings\\n\\n# warnings.filterwarnings(\\\"ignore\\\")\\n\\n# To set some visualization attributes\\npd.set_option(\\\"max_colwidth\\\", 150)\\n\\n# To play auditory cue when cell has executed, has warning, or has error and set chime theme\\nimport chime\\n\\nchime.theme(\\\"zelda\\\")\";\n",
       "                var nbb_formatted_code = \"# To structure code automatically\\n%load_ext nb_black\\n\\n# To import/export sqlite databases\\nimport sqlite3 as sql\\n\\n# To save/open python objects in pickle file\\nimport pickle\\n\\n# To help with reading, cleaning, and manipulating data\\nimport pandas as pd\\nimport numpy as np\\nimport re\\n\\n# To define maximum number of columns to be displayed in a dataframe\\npd.set_option(\\\"display.max_columns\\\", None)\\n# To define the maximum number of rows to be displayed in a dataframe\\npd.set_option(\\\"display.max_rows\\\", 200)\\n\\n# To supress warnings\\n# import warnings\\n\\n# warnings.filterwarnings(\\\"ignore\\\")\\n\\n# To set some visualization attributes\\npd.set_option(\\\"max_colwidth\\\", 150)\\n\\n# To play auditory cue when cell has executed, has warning, or has error and set chime theme\\nimport chime\\n\\nchime.theme(\\\"zelda\\\")\";\n",
       "                var nbb_cells = Jupyter.notebook.get_cells();\n",
       "                for (var i = 0; i < nbb_cells.length; ++i) {\n",
       "                    if (nbb_cells[i].input_prompt_number == nbb_cell_id) {\n",
       "                        if (nbb_cells[i].get_text() == nbb_unformatted_code) {\n",
       "                             nbb_cells[i].set_text(nbb_formatted_code);\n",
       "                        }\n",
       "                        break;\n",
       "                    }\n",
       "                }\n",
       "            }, 500);\n",
       "            "
      ],
      "text/plain": [
       "<IPython.core.display.Javascript object>"
      ]
     },
     "metadata": {},
     "output_type": "display_data"
    }
   ],
   "source": [
    "# To structure code automatically\n",
    "%load_ext nb_black\n",
    "\n",
    "# To import/export sqlite databases\n",
    "import sqlite3 as sql\n",
    "\n",
    "# To save/open python objects in pickle file\n",
    "import pickle\n",
    "\n",
    "# To help with reading, cleaning, and manipulating data\n",
    "import pandas as pd\n",
    "import numpy as np\n",
    "import re\n",
    "\n",
    "# To define maximum number of columns to be displayed in a dataframe\n",
    "pd.set_option(\"display.max_columns\", None)\n",
    "# To define the maximum number of rows to be displayed in a dataframe\n",
    "pd.set_option(\"display.max_rows\", 200)\n",
    "\n",
    "# To supress warnings\n",
    "# import warnings\n",
    "\n",
    "# warnings.filterwarnings(\"ignore\")\n",
    "\n",
    "# To set some visualization attributes\n",
    "pd.set_option(\"max_colwidth\", 150)\n",
    "\n",
    "# To play auditory cue when cell has executed, has warning, or has error and set chime theme\n",
    "import chime\n",
    "\n",
    "chime.theme(\"zelda\")"
   ]
  },
  {
   "cell_type": "markdown",
   "id": "24a107a2",
   "metadata": {},
   "source": [
    "## Data Overview"
   ]
  },
  {
   "cell_type": "markdown",
   "id": "963206fe",
   "metadata": {},
   "source": [
    "### Reading, Sampling, and Checking Data Shape"
   ]
  },
  {
   "cell_type": "code",
   "execution_count": 2,
   "id": "8d5f7698",
   "metadata": {},
   "outputs": [
    {
     "name": "stdout",
     "output_type": "stream",
     "text": [
      "There are 132652 rows and 23 columns.\n"
     ]
    },
    {
     "data": {
      "text/html": [
       "<div>\n",
       "<style scoped>\n",
       "    .dataframe tbody tr th:only-of-type {\n",
       "        vertical-align: middle;\n",
       "    }\n",
       "\n",
       "    .dataframe tbody tr th {\n",
       "        vertical-align: top;\n",
       "    }\n",
       "\n",
       "    .dataframe thead th {\n",
       "        text-align: right;\n",
       "    }\n",
       "</style>\n",
       "<table border=\"1\" class=\"dataframe\">\n",
       "  <thead>\n",
       "    <tr style=\"text-align: right;\">\n",
       "      <th></th>\n",
       "      <th>day</th>\n",
       "      <th>name</th>\n",
       "      <th>info</th>\n",
       "      <th>link</th>\n",
       "      <th>num_references</th>\n",
       "      <th>year</th>\n",
       "      <th>month</th>\n",
       "      <th>info_parenth</th>\n",
       "      <th>info_1</th>\n",
       "      <th>info_2</th>\n",
       "      <th>info_3</th>\n",
       "      <th>info_4</th>\n",
       "      <th>info_5</th>\n",
       "      <th>info_6</th>\n",
       "      <th>info_7</th>\n",
       "      <th>info_8</th>\n",
       "      <th>info_9</th>\n",
       "      <th>info_10</th>\n",
       "      <th>info_11</th>\n",
       "      <th>age</th>\n",
       "      <th>cause_of_death</th>\n",
       "      <th>place_1</th>\n",
       "      <th>place_2</th>\n",
       "    </tr>\n",
       "  </thead>\n",
       "  <tbody>\n",
       "    <tr>\n",
       "      <th>0</th>\n",
       "      <td>1</td>\n",
       "      <td>William Chappell</td>\n",
       "      <td>, 86, British dancer, ballet designer and director.</td>\n",
       "      <td>https://en.wikipedia.org/wiki/William_Chappell_(dancer)</td>\n",
       "      <td>21</td>\n",
       "      <td>1994</td>\n",
       "      <td>January</td>\n",
       "      <td>None</td>\n",
       "      <td>None</td>\n",
       "      <td>dancer</td>\n",
       "      <td>ballet designer and director</td>\n",
       "      <td>None</td>\n",
       "      <td>None</td>\n",
       "      <td>None</td>\n",
       "      <td>None</td>\n",
       "      <td>None</td>\n",
       "      <td>None</td>\n",
       "      <td>None</td>\n",
       "      <td>None</td>\n",
       "      <td>86.0</td>\n",
       "      <td>None</td>\n",
       "      <td>United Kingdom of Great Britain and Northern Ireland</td>\n",
       "      <td>None</td>\n",
       "    </tr>\n",
       "    <tr>\n",
       "      <th>1</th>\n",
       "      <td>1</td>\n",
       "      <td>Raymond Crotty</td>\n",
       "      <td>, 68, Irish economist, writer, and academic.</td>\n",
       "      <td>https://en.wikipedia.org/wiki/Raymond_Crotty</td>\n",
       "      <td>12</td>\n",
       "      <td>1994</td>\n",
       "      <td>January</td>\n",
       "      <td>None</td>\n",
       "      <td>None</td>\n",
       "      <td>economist</td>\n",
       "      <td>writer</td>\n",
       "      <td>and academic</td>\n",
       "      <td>None</td>\n",
       "      <td>None</td>\n",
       "      <td>None</td>\n",
       "      <td>None</td>\n",
       "      <td>None</td>\n",
       "      <td>None</td>\n",
       "      <td>None</td>\n",
       "      <td>68.0</td>\n",
       "      <td>None</td>\n",
       "      <td>Ireland</td>\n",
       "      <td>None</td>\n",
       "    </tr>\n",
       "  </tbody>\n",
       "</table>\n",
       "</div>"
      ],
      "text/plain": [
       "  day              name                                                 info  \\\n",
       "0   1  William Chappell  , 86, British dancer, ballet designer and director.   \n",
       "1   1    Raymond Crotty         , 68, Irish economist, writer, and academic.   \n",
       "\n",
       "                                                      link num_references  \\\n",
       "0  https://en.wikipedia.org/wiki/William_Chappell_(dancer)             21   \n",
       "1             https://en.wikipedia.org/wiki/Raymond_Crotty             12   \n",
       "\n",
       "   year    month info_parenth info_1     info_2                        info_3  \\\n",
       "0  1994  January         None   None     dancer  ballet designer and director   \n",
       "1  1994  January         None   None  economist                        writer   \n",
       "\n",
       "         info_4 info_5 info_6 info_7 info_8 info_9 info_10 info_11   age  \\\n",
       "0          None   None   None   None   None   None    None    None  86.0   \n",
       "1  and academic   None   None   None   None   None    None    None  68.0   \n",
       "\n",
       "  cause_of_death                                               place_1 place_2  \n",
       "0           None  United Kingdom of Great Britain and Northern Ireland    None  \n",
       "1           None                                               Ireland    None  "
      ]
     },
     "execution_count": 2,
     "metadata": {},
     "output_type": "execute_result"
    },
    {
     "data": {
      "application/javascript": [
       "\n",
       "            setTimeout(function() {\n",
       "                var nbb_cell_id = 2;\n",
       "                var nbb_unformatted_code = \"# Reading the dataset\\nconn = sql.connect(\\\"wp_life_expect_clean3.db\\\")\\ndata = pd.read_sql(\\\"SELECT * FROM wp_life_expect_clean3\\\", conn)\\n\\n# Making a working copy\\ndf = data.copy()\\n\\n# Checking the shape\\nprint(f\\\"There are {df.shape[0]} rows and {df.shape[1]} columns.\\\")\\n\\n# Checking first 2 rows of the data\\ndf.head(2)\";\n",
       "                var nbb_formatted_code = \"# Reading the dataset\\nconn = sql.connect(\\\"wp_life_expect_clean3.db\\\")\\ndata = pd.read_sql(\\\"SELECT * FROM wp_life_expect_clean3\\\", conn)\\n\\n# Making a working copy\\ndf = data.copy()\\n\\n# Checking the shape\\nprint(f\\\"There are {df.shape[0]} rows and {df.shape[1]} columns.\\\")\\n\\n# Checking first 2 rows of the data\\ndf.head(2)\";\n",
       "                var nbb_cells = Jupyter.notebook.get_cells();\n",
       "                for (var i = 0; i < nbb_cells.length; ++i) {\n",
       "                    if (nbb_cells[i].input_prompt_number == nbb_cell_id) {\n",
       "                        if (nbb_cells[i].get_text() == nbb_unformatted_code) {\n",
       "                             nbb_cells[i].set_text(nbb_formatted_code);\n",
       "                        }\n",
       "                        break;\n",
       "                    }\n",
       "                }\n",
       "            }, 500);\n",
       "            "
      ],
      "text/plain": [
       "<IPython.core.display.Javascript object>"
      ]
     },
     "metadata": {},
     "output_type": "display_data"
    }
   ],
   "source": [
    "# Reading the dataset\n",
    "conn = sql.connect(\"wp_life_expect_clean3.db\")\n",
    "data = pd.read_sql(\"SELECT * FROM wp_life_expect_clean3\", conn)\n",
    "\n",
    "# Making a working copy\n",
    "df = data.copy()\n",
    "\n",
    "# Checking the shape\n",
    "print(f\"There are {df.shape[0]} rows and {df.shape[1]} columns.\")\n",
    "\n",
    "# Checking first 2 rows of the data\n",
    "df.head(2)"
   ]
  },
  {
   "cell_type": "code",
   "execution_count": 3,
   "id": "89e0a8e2",
   "metadata": {},
   "outputs": [
    {
     "data": {
      "text/html": [
       "<div>\n",
       "<style scoped>\n",
       "    .dataframe tbody tr th:only-of-type {\n",
       "        vertical-align: middle;\n",
       "    }\n",
       "\n",
       "    .dataframe tbody tr th {\n",
       "        vertical-align: top;\n",
       "    }\n",
       "\n",
       "    .dataframe thead th {\n",
       "        text-align: right;\n",
       "    }\n",
       "</style>\n",
       "<table border=\"1\" class=\"dataframe\">\n",
       "  <thead>\n",
       "    <tr style=\"text-align: right;\">\n",
       "      <th></th>\n",
       "      <th>day</th>\n",
       "      <th>name</th>\n",
       "      <th>info</th>\n",
       "      <th>link</th>\n",
       "      <th>num_references</th>\n",
       "      <th>year</th>\n",
       "      <th>month</th>\n",
       "      <th>info_parenth</th>\n",
       "      <th>info_1</th>\n",
       "      <th>info_2</th>\n",
       "      <th>info_3</th>\n",
       "      <th>info_4</th>\n",
       "      <th>info_5</th>\n",
       "      <th>info_6</th>\n",
       "      <th>info_7</th>\n",
       "      <th>info_8</th>\n",
       "      <th>info_9</th>\n",
       "      <th>info_10</th>\n",
       "      <th>info_11</th>\n",
       "      <th>age</th>\n",
       "      <th>cause_of_death</th>\n",
       "      <th>place_1</th>\n",
       "      <th>place_2</th>\n",
       "    </tr>\n",
       "  </thead>\n",
       "  <tbody>\n",
       "    <tr>\n",
       "      <th>132650</th>\n",
       "      <td>9</td>\n",
       "      <td>Oleg Moliboga</td>\n",
       "      <td>, 69, Russian volleyball player, Olympic champion  and coach.</td>\n",
       "      <td>https://en.wikipedia.org/wiki/Oleg_Moliboga</td>\n",
       "      <td>2</td>\n",
       "      <td>2022</td>\n",
       "      <td>June</td>\n",
       "      <td>1980</td>\n",
       "      <td>None</td>\n",
       "      <td>volleyball player</td>\n",
       "      <td>Olympic champion  and coach</td>\n",
       "      <td>None</td>\n",
       "      <td>None</td>\n",
       "      <td>None</td>\n",
       "      <td>None</td>\n",
       "      <td>None</td>\n",
       "      <td>None</td>\n",
       "      <td>None</td>\n",
       "      <td>None</td>\n",
       "      <td>69.0</td>\n",
       "      <td>None</td>\n",
       "      <td>Russia</td>\n",
       "      <td>None</td>\n",
       "    </tr>\n",
       "    <tr>\n",
       "      <th>132651</th>\n",
       "      <td>9</td>\n",
       "      <td>Zou Jing</td>\n",
       "      <td>, 86, Chinese engineer, member of the Chinese Academy of Engineering.</td>\n",
       "      <td>https://en.wikipedia.org/wiki/Zou_Jing_(engineer)</td>\n",
       "      <td>3</td>\n",
       "      <td>2022</td>\n",
       "      <td>June</td>\n",
       "      <td>None</td>\n",
       "      <td>None</td>\n",
       "      <td>engineer</td>\n",
       "      <td>member of the Chinese Academy of Engineering</td>\n",
       "      <td>None</td>\n",
       "      <td>None</td>\n",
       "      <td>None</td>\n",
       "      <td>None</td>\n",
       "      <td>None</td>\n",
       "      <td>None</td>\n",
       "      <td>None</td>\n",
       "      <td>None</td>\n",
       "      <td>86.0</td>\n",
       "      <td>None</td>\n",
       "      <td>China, People's Republic of</td>\n",
       "      <td>None</td>\n",
       "    </tr>\n",
       "  </tbody>\n",
       "</table>\n",
       "</div>"
      ],
      "text/plain": [
       "       day           name  \\\n",
       "132650   9  Oleg Moliboga   \n",
       "132651   9       Zou Jing   \n",
       "\n",
       "                                                                         info  \\\n",
       "132650          , 69, Russian volleyball player, Olympic champion  and coach.   \n",
       "132651  , 86, Chinese engineer, member of the Chinese Academy of Engineering.   \n",
       "\n",
       "                                                     link num_references  \\\n",
       "132650        https://en.wikipedia.org/wiki/Oleg_Moliboga              2   \n",
       "132651  https://en.wikipedia.org/wiki/Zou_Jing_(engineer)              3   \n",
       "\n",
       "        year month info_parenth info_1             info_2  \\\n",
       "132650  2022  June         1980   None  volleyball player   \n",
       "132651  2022  June         None   None           engineer   \n",
       "\n",
       "                                              info_3 info_4 info_5 info_6  \\\n",
       "132650                   Olympic champion  and coach   None   None   None   \n",
       "132651  member of the Chinese Academy of Engineering   None   None   None   \n",
       "\n",
       "       info_7 info_8 info_9 info_10 info_11   age cause_of_death  \\\n",
       "132650   None   None   None    None    None  69.0           None   \n",
       "132651   None   None   None    None    None  86.0           None   \n",
       "\n",
       "                            place_1 place_2  \n",
       "132650                       Russia    None  \n",
       "132651  China, People's Republic of    None  "
      ]
     },
     "execution_count": 3,
     "metadata": {},
     "output_type": "execute_result"
    },
    {
     "data": {
      "application/javascript": [
       "\n",
       "            setTimeout(function() {\n",
       "                var nbb_cell_id = 3;\n",
       "                var nbb_unformatted_code = \"# Checking last 2 rows of the data\\ndf.tail(2)\";\n",
       "                var nbb_formatted_code = \"# Checking last 2 rows of the data\\ndf.tail(2)\";\n",
       "                var nbb_cells = Jupyter.notebook.get_cells();\n",
       "                for (var i = 0; i < nbb_cells.length; ++i) {\n",
       "                    if (nbb_cells[i].input_prompt_number == nbb_cell_id) {\n",
       "                        if (nbb_cells[i].get_text() == nbb_unformatted_code) {\n",
       "                             nbb_cells[i].set_text(nbb_formatted_code);\n",
       "                        }\n",
       "                        break;\n",
       "                    }\n",
       "                }\n",
       "            }, 500);\n",
       "            "
      ],
      "text/plain": [
       "<IPython.core.display.Javascript object>"
      ]
     },
     "metadata": {},
     "output_type": "display_data"
    }
   ],
   "source": [
    "# Checking last 2 rows of the data\n",
    "df.tail(2)"
   ]
  },
  {
   "cell_type": "code",
   "execution_count": 4,
   "id": "d03aa351",
   "metadata": {},
   "outputs": [
    {
     "data": {
      "text/html": [
       "<div>\n",
       "<style scoped>\n",
       "    .dataframe tbody tr th:only-of-type {\n",
       "        vertical-align: middle;\n",
       "    }\n",
       "\n",
       "    .dataframe tbody tr th {\n",
       "        vertical-align: top;\n",
       "    }\n",
       "\n",
       "    .dataframe thead th {\n",
       "        text-align: right;\n",
       "    }\n",
       "</style>\n",
       "<table border=\"1\" class=\"dataframe\">\n",
       "  <thead>\n",
       "    <tr style=\"text-align: right;\">\n",
       "      <th></th>\n",
       "      <th>day</th>\n",
       "      <th>name</th>\n",
       "      <th>info</th>\n",
       "      <th>link</th>\n",
       "      <th>num_references</th>\n",
       "      <th>year</th>\n",
       "      <th>month</th>\n",
       "      <th>info_parenth</th>\n",
       "      <th>info_1</th>\n",
       "      <th>info_2</th>\n",
       "      <th>info_3</th>\n",
       "      <th>info_4</th>\n",
       "      <th>info_5</th>\n",
       "      <th>info_6</th>\n",
       "      <th>info_7</th>\n",
       "      <th>info_8</th>\n",
       "      <th>info_9</th>\n",
       "      <th>info_10</th>\n",
       "      <th>info_11</th>\n",
       "      <th>age</th>\n",
       "      <th>cause_of_death</th>\n",
       "      <th>place_1</th>\n",
       "      <th>place_2</th>\n",
       "    </tr>\n",
       "  </thead>\n",
       "  <tbody>\n",
       "    <tr>\n",
       "      <th>121395</th>\n",
       "      <td>15</td>\n",
       "      <td>Knut Jøran Helmers</td>\n",
       "      <td>, 64, Norwegian chess player, cerebral hemorrhage.</td>\n",
       "      <td>https://en.wikipedia.org/wiki/Knut_J%C3%B8ran_Helmers</td>\n",
       "      <td>1</td>\n",
       "      <td>2021</td>\n",
       "      <td>April</td>\n",
       "      <td>None</td>\n",
       "      <td>None</td>\n",
       "      <td>chess player</td>\n",
       "      <td>cerebral hemorrhage</td>\n",
       "      <td>None</td>\n",
       "      <td>None</td>\n",
       "      <td>None</td>\n",
       "      <td>None</td>\n",
       "      <td>None</td>\n",
       "      <td>None</td>\n",
       "      <td>None</td>\n",
       "      <td>None</td>\n",
       "      <td>64.0</td>\n",
       "      <td>None</td>\n",
       "      <td>Norway</td>\n",
       "      <td>None</td>\n",
       "    </tr>\n",
       "    <tr>\n",
       "      <th>81747</th>\n",
       "      <td>24</td>\n",
       "      <td>Klaus Siebert</td>\n",
       "      <td>, 60, German biathlon athlete and coach, world champion .</td>\n",
       "      <td>https://en.wikipedia.org/wiki/Klaus_Siebert</td>\n",
       "      <td>4</td>\n",
       "      <td>2016</td>\n",
       "      <td>April</td>\n",
       "      <td>1978, 1979, Olympic silver medalist 1980</td>\n",
       "      <td>None</td>\n",
       "      <td>biathlon athlete and coach</td>\n",
       "      <td>world champion</td>\n",
       "      <td>None</td>\n",
       "      <td>None</td>\n",
       "      <td>None</td>\n",
       "      <td>None</td>\n",
       "      <td>None</td>\n",
       "      <td>None</td>\n",
       "      <td>None</td>\n",
       "      <td>None</td>\n",
       "      <td>60.0</td>\n",
       "      <td>None</td>\n",
       "      <td>Germany</td>\n",
       "      <td>None</td>\n",
       "    </tr>\n",
       "    <tr>\n",
       "      <th>45080</th>\n",
       "      <td>24</td>\n",
       "      <td>Maria di Gerlando</td>\n",
       "      <td>, 84, American operatic soprano.</td>\n",
       "      <td>https://en.wikipedia.org/wiki/Maria_di_Gerlando</td>\n",
       "      <td>8</td>\n",
       "      <td>2010</td>\n",
       "      <td>May</td>\n",
       "      <td>None</td>\n",
       "      <td>None</td>\n",
       "      <td>operatic soprano</td>\n",
       "      <td>None</td>\n",
       "      <td>None</td>\n",
       "      <td>None</td>\n",
       "      <td>None</td>\n",
       "      <td>None</td>\n",
       "      <td>None</td>\n",
       "      <td>None</td>\n",
       "      <td>None</td>\n",
       "      <td>None</td>\n",
       "      <td>84.0</td>\n",
       "      <td>None</td>\n",
       "      <td>United States of America</td>\n",
       "      <td>None</td>\n",
       "    </tr>\n",
       "    <tr>\n",
       "      <th>130966</th>\n",
       "      <td>21</td>\n",
       "      <td>Waldemar Bergendahl</td>\n",
       "      <td>, 88, Swedish film producer .</td>\n",
       "      <td>https://en.wikipedia.org/wiki/Waldemar_Bergendahl</td>\n",
       "      <td>8</td>\n",
       "      <td>2022</td>\n",
       "      <td>March</td>\n",
       "      <td>, ,</td>\n",
       "      <td>None</td>\n",
       "      <td>film producer</td>\n",
       "      <td>None</td>\n",
       "      <td>None</td>\n",
       "      <td>None</td>\n",
       "      <td>None</td>\n",
       "      <td>None</td>\n",
       "      <td>None</td>\n",
       "      <td>None</td>\n",
       "      <td>None</td>\n",
       "      <td>None</td>\n",
       "      <td>88.0</td>\n",
       "      <td>None</td>\n",
       "      <td>Sweden</td>\n",
       "      <td>None</td>\n",
       "    </tr>\n",
       "    <tr>\n",
       "      <th>6106</th>\n",
       "      <td>21</td>\n",
       "      <td>Raffaele di Paco</td>\n",
       "      <td>, 87, Italian road racing cyclist.</td>\n",
       "      <td>https://en.wikipedia.org/wiki/Raffaele_di_Paco</td>\n",
       "      <td>3</td>\n",
       "      <td>1996</td>\n",
       "      <td>May</td>\n",
       "      <td>None</td>\n",
       "      <td>None</td>\n",
       "      <td>road racing cyclist</td>\n",
       "      <td>None</td>\n",
       "      <td>None</td>\n",
       "      <td>None</td>\n",
       "      <td>None</td>\n",
       "      <td>None</td>\n",
       "      <td>None</td>\n",
       "      <td>None</td>\n",
       "      <td>None</td>\n",
       "      <td>None</td>\n",
       "      <td>87.0</td>\n",
       "      <td>None</td>\n",
       "      <td>Italy</td>\n",
       "      <td>None</td>\n",
       "    </tr>\n",
       "  </tbody>\n",
       "</table>\n",
       "</div>"
      ],
      "text/plain": [
       "       day                 name  \\\n",
       "121395  15   Knut Jøran Helmers   \n",
       "81747   24        Klaus Siebert   \n",
       "45080   24    Maria di Gerlando   \n",
       "130966  21  Waldemar Bergendahl   \n",
       "6106    21     Raffaele di Paco   \n",
       "\n",
       "                                                             info  \\\n",
       "121395         , 64, Norwegian chess player, cerebral hemorrhage.   \n",
       "81747   , 60, German biathlon athlete and coach, world champion .   \n",
       "45080                            , 84, American operatic soprano.   \n",
       "130966                              , 88, Swedish film producer .   \n",
       "6106                           , 87, Italian road racing cyclist.   \n",
       "\n",
       "                                                         link num_references  \\\n",
       "121395  https://en.wikipedia.org/wiki/Knut_J%C3%B8ran_Helmers              1   \n",
       "81747             https://en.wikipedia.org/wiki/Klaus_Siebert              4   \n",
       "45080         https://en.wikipedia.org/wiki/Maria_di_Gerlando              8   \n",
       "130966      https://en.wikipedia.org/wiki/Waldemar_Bergendahl              8   \n",
       "6106           https://en.wikipedia.org/wiki/Raffaele_di_Paco              3   \n",
       "\n",
       "        year  month                              info_parenth info_1  \\\n",
       "121395  2021  April                                      None   None   \n",
       "81747   2016  April  1978, 1979, Olympic silver medalist 1980   None   \n",
       "45080   2010    May                                      None   None   \n",
       "130966  2022  March                                       , ,   None   \n",
       "6106    1996    May                                      None   None   \n",
       "\n",
       "                            info_2               info_3 info_4 info_5 info_6  \\\n",
       "121395                chess player  cerebral hemorrhage   None   None   None   \n",
       "81747   biathlon athlete and coach       world champion   None   None   None   \n",
       "45080             operatic soprano                 None   None   None   None   \n",
       "130966               film producer                 None   None   None   None   \n",
       "6106           road racing cyclist                 None   None   None   None   \n",
       "\n",
       "       info_7 info_8 info_9 info_10 info_11   age cause_of_death  \\\n",
       "121395   None   None   None    None    None  64.0           None   \n",
       "81747    None   None   None    None    None  60.0           None   \n",
       "45080    None   None   None    None    None  84.0           None   \n",
       "130966   None   None   None    None    None  88.0           None   \n",
       "6106     None   None   None    None    None  87.0           None   \n",
       "\n",
       "                         place_1 place_2  \n",
       "121395                    Norway    None  \n",
       "81747                    Germany    None  \n",
       "45080   United States of America    None  \n",
       "130966                    Sweden    None  \n",
       "6106                       Italy    None  "
      ]
     },
     "execution_count": 4,
     "metadata": {},
     "output_type": "execute_result"
    },
    {
     "data": {
      "application/javascript": [
       "\n",
       "            setTimeout(function() {\n",
       "                var nbb_cell_id = 4;\n",
       "                var nbb_unformatted_code = \"# Checking a sample of the data\\ndf.sample(5)\";\n",
       "                var nbb_formatted_code = \"# Checking a sample of the data\\ndf.sample(5)\";\n",
       "                var nbb_cells = Jupyter.notebook.get_cells();\n",
       "                for (var i = 0; i < nbb_cells.length; ++i) {\n",
       "                    if (nbb_cells[i].input_prompt_number == nbb_cell_id) {\n",
       "                        if (nbb_cells[i].get_text() == nbb_unformatted_code) {\n",
       "                             nbb_cells[i].set_text(nbb_formatted_code);\n",
       "                        }\n",
       "                        break;\n",
       "                    }\n",
       "                }\n",
       "            }, 500);\n",
       "            "
      ],
      "text/plain": [
       "<IPython.core.display.Javascript object>"
      ]
     },
     "metadata": {},
     "output_type": "display_data"
    }
   ],
   "source": [
    "# Checking a sample of the data\n",
    "df.sample(5)"
   ]
  },
  {
   "cell_type": "markdown",
   "id": "896ce4c8",
   "metadata": {},
   "source": [
    "### Checking Data Types, Duplicates, and Null Values"
   ]
  },
  {
   "cell_type": "code",
   "execution_count": 5,
   "id": "28c5c93b",
   "metadata": {},
   "outputs": [
    {
     "name": "stdout",
     "output_type": "stream",
     "text": [
      "<class 'pandas.core.frame.DataFrame'>\n",
      "RangeIndex: 132652 entries, 0 to 132651\n",
      "Data columns (total 23 columns):\n",
      " #   Column          Non-Null Count   Dtype  \n",
      "---  ------          --------------   -----  \n",
      " 0   day             132652 non-null  object \n",
      " 1   name            132652 non-null  object \n",
      " 2   info            132652 non-null  object \n",
      " 3   link            132652 non-null  object \n",
      " 4   num_references  132652 non-null  object \n",
      " 5   year            132652 non-null  int64  \n",
      " 6   month           132652 non-null  object \n",
      " 7   info_parenth    49830 non-null   object \n",
      " 8   info_1          35 non-null      object \n",
      " 9   info_2          132604 non-null  object \n",
      " 10  info_3          62571 non-null   object \n",
      " 11  info_4          12605 non-null   object \n",
      " 12  info_5          1497 non-null    object \n",
      " 13  info_6          216 non-null     object \n",
      " 14  info_7          31 non-null      object \n",
      " 15  info_8          6 non-null       object \n",
      " 16  info_9          1 non-null       object \n",
      " 17  info_10         1 non-null       object \n",
      " 18  info_11         1 non-null       object \n",
      " 19  age             132652 non-null  float64\n",
      " 20  cause_of_death  0 non-null       object \n",
      " 21  place_1         132482 non-null  object \n",
      " 22  place_2         11418 non-null   object \n",
      "dtypes: float64(1), int64(1), object(21)\n",
      "memory usage: 23.3+ MB\n"
     ]
    },
    {
     "data": {
      "application/javascript": [
       "\n",
       "            setTimeout(function() {\n",
       "                var nbb_cell_id = 5;\n",
       "                var nbb_unformatted_code = \"# Checking data types and null values\\ndf.info()\";\n",
       "                var nbb_formatted_code = \"# Checking data types and null values\\ndf.info()\";\n",
       "                var nbb_cells = Jupyter.notebook.get_cells();\n",
       "                for (var i = 0; i < nbb_cells.length; ++i) {\n",
       "                    if (nbb_cells[i].input_prompt_number == nbb_cell_id) {\n",
       "                        if (nbb_cells[i].get_text() == nbb_unformatted_code) {\n",
       "                             nbb_cells[i].set_text(nbb_formatted_code);\n",
       "                        }\n",
       "                        break;\n",
       "                    }\n",
       "                }\n",
       "            }, 500);\n",
       "            "
      ],
      "text/plain": [
       "<IPython.core.display.Javascript object>"
      ]
     },
     "metadata": {},
     "output_type": "display_data"
    }
   ],
   "source": [
    "# Checking data types and null values\n",
    "df.info()"
   ]
  },
  {
   "cell_type": "markdown",
   "id": "3332b40c",
   "metadata": {},
   "source": [
    "#### Loading `nation_map` from Pickle File to Dictionary nation_map"
   ]
  },
  {
   "cell_type": "code",
   "execution_count": 6,
   "id": "7c74d48f",
   "metadata": {},
   "outputs": [
    {
     "data": {
      "application/javascript": [
       "\n",
       "            setTimeout(function() {\n",
       "                var nbb_cell_id = 6;\n",
       "                var nbb_unformatted_code = \"# Load the nation_map\\nwith open(\\\"nation_map.pkl\\\", \\\"rb\\\") as f:\\n    nation_map = pickle.load(f)\";\n",
       "                var nbb_formatted_code = \"# Load the nation_map\\nwith open(\\\"nation_map.pkl\\\", \\\"rb\\\") as f:\\n    nation_map = pickle.load(f)\";\n",
       "                var nbb_cells = Jupyter.notebook.get_cells();\n",
       "                for (var i = 0; i < nbb_cells.length; ++i) {\n",
       "                    if (nbb_cells[i].input_prompt_number == nbb_cell_id) {\n",
       "                        if (nbb_cells[i].get_text() == nbb_unformatted_code) {\n",
       "                             nbb_cells[i].set_text(nbb_formatted_code);\n",
       "                        }\n",
       "                        break;\n",
       "                    }\n",
       "                }\n",
       "            }, 500);\n",
       "            "
      ],
      "text/plain": [
       "<IPython.core.display.Javascript object>"
      ]
     },
     "metadata": {},
     "output_type": "display_data"
    }
   ],
   "source": [
    "# Load the nation_map\n",
    "with open(\"nation_map.pkl\", \"rb\") as f:\n",
    "    nation_map = pickle.load(f)"
   ]
  },
  {
   "cell_type": "markdown",
   "id": "e40466b9",
   "metadata": {},
   "source": [
    "#### Loading `other_species` list from other_species.csv"
   ]
  },
  {
   "cell_type": "code",
   "execution_count": 7,
   "id": "02850ad3",
   "metadata": {},
   "outputs": [
    {
     "data": {
      "application/javascript": [
       "\n",
       "            setTimeout(function() {\n",
       "                var nbb_cell_id = 7;\n",
       "                var nbb_unformatted_code = \"# Loading other_species list\\nother_species_df = pd.read_csv(\\\"other_species.csv\\\")\\nother_species = other_species_df[\\\"species\\\"].tolist()\";\n",
       "                var nbb_formatted_code = \"# Loading other_species list\\nother_species_df = pd.read_csv(\\\"other_species.csv\\\")\\nother_species = other_species_df[\\\"species\\\"].tolist()\";\n",
       "                var nbb_cells = Jupyter.notebook.get_cells();\n",
       "                for (var i = 0; i < nbb_cells.length; ++i) {\n",
       "                    if (nbb_cells[i].input_prompt_number == nbb_cell_id) {\n",
       "                        if (nbb_cells[i].get_text() == nbb_unformatted_code) {\n",
       "                             nbb_cells[i].set_text(nbb_formatted_code);\n",
       "                        }\n",
       "                        break;\n",
       "                    }\n",
       "                }\n",
       "            }, 500);\n",
       "            "
      ],
      "text/plain": [
       "<IPython.core.display.Javascript object>"
      ]
     },
     "metadata": {},
     "output_type": "display_data"
    }
   ],
   "source": [
    "# Loading other_species list\n",
    "other_species_df = pd.read_csv(\"other_species.csv\")\n",
    "other_species = other_species_df[\"species\"].tolist()"
   ]
  },
  {
   "cell_type": "markdown",
   "id": "b66cc9d4",
   "metadata": {},
   "source": [
    "#### Observations:\n",
    "- With our dataframe, `nation_map`, and `other_species` list loaded, we can proceed to extracting the other features.\n",
    "- First, we will clean up the divided `info` columns by removing any remaining digits and nationality and country values.\n",
    "- We will use the same functions from previous notebooks."
   ]
  },
  {
   "cell_type": "markdown",
   "id": "0cd47d7b",
   "metadata": {},
   "source": [
    "#### Function to Save Indices of Rows Matching Regular Expressions Pattern to a List and Print Number of Rows with Match "
   ]
  },
  {
   "cell_type": "code",
   "execution_count": 8,
   "id": "500d0683",
   "metadata": {},
   "outputs": [
    {
     "data": {
      "application/javascript": [
       "\n",
       "            setTimeout(function() {\n",
       "                var nbb_cell_id = 8;\n",
       "                var nbb_unformatted_code = \"# Define a function that takes dataframe, column name, and re pattern as arguments and returns list of indices\\n# for which column value matches re pattern\\ndef rows_with_pattern(dataframe, column, pattern):\\n    \\\"\\\"\\\"\\n    Takes input of dataframe, column name, and re pattern \\n    and returns list of indices for rows that contain match\\n    for pattern anywhere within value for given column.\\n    \\n    dataframe: dataframe\\n    column: column name\\n    pattern: re pattern\\n    \\\"\\\"\\\"\\n    index_list = []\\n\\n    for i in dataframe.index:\\n        item = dataframe.loc[i, column]\\n        match = re.search(pattern, item)\\n        if match:\\n            index_list.append(i)\\n    print(\\n        f\\\"There are {len(index_list)} rows with matching pattern in column '{column}'.\\\"\\n    )\\n    return index_list\";\n",
       "                var nbb_formatted_code = \"# Define a function that takes dataframe, column name, and re pattern as arguments and returns list of indices\\n# for which column value matches re pattern\\ndef rows_with_pattern(dataframe, column, pattern):\\n    \\\"\\\"\\\"\\n    Takes input of dataframe, column name, and re pattern \\n    and returns list of indices for rows that contain match\\n    for pattern anywhere within value for given column.\\n    \\n    dataframe: dataframe\\n    column: column name\\n    pattern: re pattern\\n    \\\"\\\"\\\"\\n    index_list = []\\n\\n    for i in dataframe.index:\\n        item = dataframe.loc[i, column]\\n        match = re.search(pattern, item)\\n        if match:\\n            index_list.append(i)\\n    print(\\n        f\\\"There are {len(index_list)} rows with matching pattern in column '{column}'.\\\"\\n    )\\n    return index_list\";\n",
       "                var nbb_cells = Jupyter.notebook.get_cells();\n",
       "                for (var i = 0; i < nbb_cells.length; ++i) {\n",
       "                    if (nbb_cells[i].input_prompt_number == nbb_cell_id) {\n",
       "                        if (nbb_cells[i].get_text() == nbb_unformatted_code) {\n",
       "                             nbb_cells[i].set_text(nbb_formatted_code);\n",
       "                        }\n",
       "                        break;\n",
       "                    }\n",
       "                }\n",
       "            }, 500);\n",
       "            "
      ],
      "text/plain": [
       "<IPython.core.display.Javascript object>"
      ]
     },
     "metadata": {},
     "output_type": "display_data"
    }
   ],
   "source": [
    "# Define a function that takes dataframe, column name, and re pattern as arguments and returns list of indices\n",
    "# for which column value matches re pattern\n",
    "def rows_with_pattern(dataframe, column, pattern):\n",
    "    \"\"\"\n",
    "    Takes input of dataframe, column name, and re pattern \n",
    "    and returns list of indices for rows that contain match\n",
    "    for pattern anywhere within value for given column.\n",
    "    \n",
    "    dataframe: dataframe\n",
    "    column: column name\n",
    "    pattern: re pattern\n",
    "    \"\"\"\n",
    "    index_list = []\n",
    "\n",
    "    for i in dataframe.index:\n",
    "        item = dataframe.loc[i, column]\n",
    "        match = re.search(pattern, item)\n",
    "        if match:\n",
    "            index_list.append(i)\n",
    "    print(\n",
    "        f\"There are {len(index_list)} rows with matching pattern in column '{column}'.\"\n",
    "    )\n",
    "    return index_list"
   ]
  },
  {
   "cell_type": "markdown",
   "id": "d7bc827f",
   "metadata": {},
   "source": [
    "#### Function to Use rows_with_pattern Function for Multiple Regular Expression Patterns"
   ]
  },
  {
   "cell_type": "code",
   "execution_count": 9,
   "id": "3ca8da40",
   "metadata": {},
   "outputs": [
    {
     "data": {
      "application/javascript": [
       "\n",
       "            setTimeout(function() {\n",
       "                var nbb_cell_id = 9;\n",
       "                var nbb_unformatted_code = \"# Define a function that calls rows_with_pattern function for multiple re patterns\\n# returning a single list of indices for all rows with any pattern match\\n\\n\\ndef multiple_patterns(dataframe, column, patterns):\\n    \\\"\\\"\\\"\\n    Takes input dataframe, column, and list of re patterns and returns single list \\n    of indices for rows in which a match for any pattern is found with re.search\\n    \\n    dataframe: dataframe\\n    column: column name\\n    patterns: list of re patterns\\n    \\\"\\\"\\\"\\n    rows_combined = []\\n\\n    # For loop to check each pattern\\n    for pattern in patterns:\\n\\n        # List and number of rows matching each pattern\\n        print(pattern)\\n        rows_to_check = rows_with_pattern(dataframe, column, pattern)\\n        print(\\\"\\\")\\n\\n        # Add list for each pattern to combined list\\n        rows_combined += rows_to_check\\n\\n    return rows_combined\";\n",
       "                var nbb_formatted_code = \"# Define a function that calls rows_with_pattern function for multiple re patterns\\n# returning a single list of indices for all rows with any pattern match\\n\\n\\ndef multiple_patterns(dataframe, column, patterns):\\n    \\\"\\\"\\\"\\n    Takes input dataframe, column, and list of re patterns and returns single list \\n    of indices for rows in which a match for any pattern is found with re.search\\n    \\n    dataframe: dataframe\\n    column: column name\\n    patterns: list of re patterns\\n    \\\"\\\"\\\"\\n    rows_combined = []\\n\\n    # For loop to check each pattern\\n    for pattern in patterns:\\n\\n        # List and number of rows matching each pattern\\n        print(pattern)\\n        rows_to_check = rows_with_pattern(dataframe, column, pattern)\\n        print(\\\"\\\")\\n\\n        # Add list for each pattern to combined list\\n        rows_combined += rows_to_check\\n\\n    return rows_combined\";\n",
       "                var nbb_cells = Jupyter.notebook.get_cells();\n",
       "                for (var i = 0; i < nbb_cells.length; ++i) {\n",
       "                    if (nbb_cells[i].input_prompt_number == nbb_cell_id) {\n",
       "                        if (nbb_cells[i].get_text() == nbb_unformatted_code) {\n",
       "                             nbb_cells[i].set_text(nbb_formatted_code);\n",
       "                        }\n",
       "                        break;\n",
       "                    }\n",
       "                }\n",
       "            }, 500);\n",
       "            "
      ],
      "text/plain": [
       "<IPython.core.display.Javascript object>"
      ]
     },
     "metadata": {},
     "output_type": "display_data"
    }
   ],
   "source": [
    "# Define a function that calls rows_with_pattern function for multiple re patterns\n",
    "# returning a single list of indices for all rows with any pattern match\n",
    "\n",
    "\n",
    "def multiple_patterns(dataframe, column, patterns):\n",
    "    \"\"\"\n",
    "    Takes input dataframe, column, and list of re patterns and returns single list \n",
    "    of indices for rows in which a match for any pattern is found with re.search\n",
    "    \n",
    "    dataframe: dataframe\n",
    "    column: column name\n",
    "    patterns: list of re patterns\n",
    "    \"\"\"\n",
    "    rows_combined = []\n",
    "\n",
    "    # For loop to check each pattern\n",
    "    for pattern in patterns:\n",
    "\n",
    "        # List and number of rows matching each pattern\n",
    "        print(pattern)\n",
    "        rows_to_check = rows_with_pattern(dataframe, column, pattern)\n",
    "        print(\"\")\n",
    "\n",
    "        # Add list for each pattern to combined list\n",
    "        rows_combined += rows_to_check\n",
    "\n",
    "    return rows_combined"
   ]
  },
  {
   "cell_type": "markdown",
   "id": "7b266f8e",
   "metadata": {},
   "source": [
    "### Removing Remaining Digits and Nationality/Country Values from Divided `info` Columns"
   ]
  },
  {
   "cell_type": "markdown",
   "id": "cb508c79",
   "metadata": {},
   "source": [
    "#### List of Columns to Treat"
   ]
  },
  {
   "cell_type": "code",
   "execution_count": 10,
   "id": "3f11e2c4",
   "metadata": {},
   "outputs": [
    {
     "data": {
      "application/javascript": [
       "\n",
       "            setTimeout(function() {\n",
       "                var nbb_cell_id = 10;\n",
       "                var nbb_unformatted_code = \"# List of columns to treat\\ncols_lst = [\\n    \\\"info_1\\\",\\n    \\\"info_2\\\",\\n    \\\"info_3\\\",\\n    \\\"info_4\\\",\\n    \\\"info_5\\\",\\n    \\\"info_6\\\",\\n    \\\"info_7\\\",\\n    \\\"info_8\\\",\\n    \\\"info_9\\\",\\n    \\\"info_10\\\",\\n    \\\"info_11\\\",\\n    \\\"info_parenth\\\",\\n]\";\n",
       "                var nbb_formatted_code = \"# List of columns to treat\\ncols_lst = [\\n    \\\"info_1\\\",\\n    \\\"info_2\\\",\\n    \\\"info_3\\\",\\n    \\\"info_4\\\",\\n    \\\"info_5\\\",\\n    \\\"info_6\\\",\\n    \\\"info_7\\\",\\n    \\\"info_8\\\",\\n    \\\"info_9\\\",\\n    \\\"info_10\\\",\\n    \\\"info_11\\\",\\n    \\\"info_parenth\\\",\\n]\";\n",
       "                var nbb_cells = Jupyter.notebook.get_cells();\n",
       "                for (var i = 0; i < nbb_cells.length; ++i) {\n",
       "                    if (nbb_cells[i].input_prompt_number == nbb_cell_id) {\n",
       "                        if (nbb_cells[i].get_text() == nbb_unformatted_code) {\n",
       "                             nbb_cells[i].set_text(nbb_formatted_code);\n",
       "                        }\n",
       "                        break;\n",
       "                    }\n",
       "                }\n",
       "            }, 500);\n",
       "            "
      ],
      "text/plain": [
       "<IPython.core.display.Javascript object>"
      ]
     },
     "metadata": {},
     "output_type": "display_data"
    }
   ],
   "source": [
    "# List of columns to treat\n",
    "cols_lst = [\n",
    "    \"info_1\",\n",
    "    \"info_2\",\n",
    "    \"info_3\",\n",
    "    \"info_4\",\n",
    "    \"info_5\",\n",
    "    \"info_6\",\n",
    "    \"info_7\",\n",
    "    \"info_8\",\n",
    "    \"info_9\",\n",
    "    \"info_10\",\n",
    "    \"info_11\",\n",
    "    \"info_parenth\",\n",
    "]"
   ]
  },
  {
   "cell_type": "markdown",
   "id": "384fde7e",
   "metadata": {},
   "source": [
    "#### Removing Digits"
   ]
  },
  {
   "cell_type": "code",
   "execution_count": 11,
   "id": "9425a001",
   "metadata": {},
   "outputs": [
    {
     "name": "stdout",
     "output_type": "stream",
     "text": [
      "There are 0 rows with matching pattern in column 'info_1'.\n",
      "There are 442 rows with matching pattern in column 'info_2'.\n",
      "There are 2252 rows with matching pattern in column 'info_3'.\n",
      "There are 1060 rows with matching pattern in column 'info_4'.\n",
      "There are 69 rows with matching pattern in column 'info_5'.\n",
      "There are 5 rows with matching pattern in column 'info_6'.\n",
      "There are 0 rows with matching pattern in column 'info_7'.\n",
      "There are 0 rows with matching pattern in column 'info_8'.\n",
      "There are 0 rows with matching pattern in column 'info_9'.\n",
      "There are 0 rows with matching pattern in column 'info_10'.\n",
      "There are 0 rows with matching pattern in column 'info_11'.\n",
      "There are 24403 rows with matching pattern in column 'info_parenth'.\n"
     ]
    },
    {
     "data": {
      "text/html": [
       "<div>\n",
       "<style scoped>\n",
       "    .dataframe tbody tr th:only-of-type {\n",
       "        vertical-align: middle;\n",
       "    }\n",
       "\n",
       "    .dataframe tbody tr th {\n",
       "        vertical-align: top;\n",
       "    }\n",
       "\n",
       "    .dataframe thead th {\n",
       "        text-align: right;\n",
       "    }\n",
       "</style>\n",
       "<table border=\"1\" class=\"dataframe\">\n",
       "  <thead>\n",
       "    <tr style=\"text-align: right;\">\n",
       "      <th></th>\n",
       "      <th>day</th>\n",
       "      <th>name</th>\n",
       "      <th>info</th>\n",
       "      <th>link</th>\n",
       "      <th>num_references</th>\n",
       "      <th>year</th>\n",
       "      <th>month</th>\n",
       "      <th>info_parenth</th>\n",
       "      <th>info_1</th>\n",
       "      <th>info_2</th>\n",
       "      <th>info_3</th>\n",
       "      <th>info_4</th>\n",
       "      <th>info_5</th>\n",
       "      <th>info_6</th>\n",
       "      <th>info_7</th>\n",
       "      <th>info_8</th>\n",
       "      <th>info_9</th>\n",
       "      <th>info_10</th>\n",
       "      <th>info_11</th>\n",
       "      <th>age</th>\n",
       "      <th>cause_of_death</th>\n",
       "      <th>place_1</th>\n",
       "      <th>place_2</th>\n",
       "    </tr>\n",
       "  </thead>\n",
       "  <tbody>\n",
       "    <tr>\n",
       "      <th>93342</th>\n",
       "      <td>9</td>\n",
       "      <td>Nicolas Hoffmann</td>\n",
       "      <td>, 77, Luxembourgian footballer [13]</td>\n",
       "      <td>https://en.wikipedia.org/wiki/Nicolas_Hoffmann</td>\n",
       "      <td>2</td>\n",
       "      <td>2018</td>\n",
       "      <td>January</td>\n",
       "      <td>None</td>\n",
       "      <td>None</td>\n",
       "      <td>ian footballer [13]</td>\n",
       "      <td>None</td>\n",
       "      <td>None</td>\n",
       "      <td>None</td>\n",
       "      <td>None</td>\n",
       "      <td>None</td>\n",
       "      <td>None</td>\n",
       "      <td>None</td>\n",
       "      <td>None</td>\n",
       "      <td>None</td>\n",
       "      <td>77.0</td>\n",
       "      <td>None</td>\n",
       "      <td>Luxembourg</td>\n",
       "      <td>None</td>\n",
       "    </tr>\n",
       "    <tr>\n",
       "      <th>32254</th>\n",
       "      <td>30</td>\n",
       "      <td>Calvin Plimpton</td>\n",
       "      <td>, 89, American president of Amherst College , complications from surgery.</td>\n",
       "      <td>https://en.wikipedia.org/wiki/Calvin_Plimpton</td>\n",
       "      <td>0</td>\n",
       "      <td>2007</td>\n",
       "      <td>January</td>\n",
       "      <td>1960 1971</td>\n",
       "      <td>None</td>\n",
       "      <td>president of Amherst College</td>\n",
       "      <td>complications from surgery</td>\n",
       "      <td>None</td>\n",
       "      <td>None</td>\n",
       "      <td>None</td>\n",
       "      <td>None</td>\n",
       "      <td>None</td>\n",
       "      <td>None</td>\n",
       "      <td>None</td>\n",
       "      <td>None</td>\n",
       "      <td>89.0</td>\n",
       "      <td>None</td>\n",
       "      <td>United States of America</td>\n",
       "      <td>None</td>\n",
       "    </tr>\n",
       "  </tbody>\n",
       "</table>\n",
       "</div>"
      ],
      "text/plain": [
       "      day              name  \\\n",
       "93342   9  Nicolas Hoffmann   \n",
       "32254  30   Calvin Plimpton   \n",
       "\n",
       "                                                                            info  \\\n",
       "93342                                        , 77, Luxembourgian footballer [13]   \n",
       "32254  , 89, American president of Amherst College , complications from surgery.   \n",
       "\n",
       "                                                 link num_references  year  \\\n",
       "93342  https://en.wikipedia.org/wiki/Nicolas_Hoffmann              2  2018   \n",
       "32254   https://en.wikipedia.org/wiki/Calvin_Plimpton              0  2007   \n",
       "\n",
       "         month info_parenth info_1                        info_2  \\\n",
       "93342  January         None   None           ian footballer [13]   \n",
       "32254  January    1960 1971   None  president of Amherst College   \n",
       "\n",
       "                           info_3 info_4 info_5 info_6 info_7 info_8 info_9  \\\n",
       "93342                        None   None   None   None   None   None   None   \n",
       "32254  complications from surgery   None   None   None   None   None   None   \n",
       "\n",
       "      info_10 info_11   age cause_of_death                   place_1 place_2  \n",
       "93342    None    None  77.0           None                Luxembourg    None  \n",
       "32254    None    None  89.0           None  United States of America    None  "
      ]
     },
     "execution_count": 11,
     "metadata": {},
     "output_type": "execute_result"
    },
    {
     "data": {
      "application/javascript": [
       "\n",
       "            setTimeout(function() {\n",
       "                var nbb_cell_id = 11;\n",
       "                var nbb_unformatted_code = \"# Regular expression for parenthesis and its contents\\npattern = r\\\"\\\\d\\\"\\n\\n# For loop to find indices of rows that have pattern\\nrows_combined = []\\nfor column in cols_lst:\\n    dataframe = df[df[column].notna()]\\n    rows_to_check = rows_with_pattern(dataframe, column, pattern)\\n    rows_combined += rows_to_check\\n\\n# Checking a sample of rows\\ndf.loc[rows_combined, :].sample(2)\";\n",
       "                var nbb_formatted_code = \"# Regular expression for parenthesis and its contents\\npattern = r\\\"\\\\d\\\"\\n\\n# For loop to find indices of rows that have pattern\\nrows_combined = []\\nfor column in cols_lst:\\n    dataframe = df[df[column].notna()]\\n    rows_to_check = rows_with_pattern(dataframe, column, pattern)\\n    rows_combined += rows_to_check\\n\\n# Checking a sample of rows\\ndf.loc[rows_combined, :].sample(2)\";\n",
       "                var nbb_cells = Jupyter.notebook.get_cells();\n",
       "                for (var i = 0; i < nbb_cells.length; ++i) {\n",
       "                    if (nbb_cells[i].input_prompt_number == nbb_cell_id) {\n",
       "                        if (nbb_cells[i].get_text() == nbb_unformatted_code) {\n",
       "                             nbb_cells[i].set_text(nbb_formatted_code);\n",
       "                        }\n",
       "                        break;\n",
       "                    }\n",
       "                }\n",
       "            }, 500);\n",
       "            "
      ],
      "text/plain": [
       "<IPython.core.display.Javascript object>"
      ]
     },
     "metadata": {},
     "output_type": "display_data"
    }
   ],
   "source": [
    "# Regular expression for parenthesis and its contents\n",
    "pattern = r\"\\d\"\n",
    "\n",
    "# For loop to find indices of rows that have pattern\n",
    "rows_combined = []\n",
    "for column in cols_lst:\n",
    "    dataframe = df[df[column].notna()]\n",
    "    rows_to_check = rows_with_pattern(dataframe, column, pattern)\n",
    "    rows_combined += rows_to_check\n",
    "\n",
    "# Checking a sample of rows\n",
    "df.loc[rows_combined, :].sample(2)"
   ]
  },
  {
   "cell_type": "code",
   "execution_count": 16,
   "id": "0b6b2bd9",
   "metadata": {},
   "outputs": [
    {
     "name": "stdout",
     "output_type": "stream",
     "text": [
      "There are 0 rows with matching pattern in column 'info_1'.\n",
      "There are 0 rows with matching pattern in column 'info_2'.\n",
      "There are 0 rows with matching pattern in column 'info_3'.\n",
      "There are 0 rows with matching pattern in column 'info_4'.\n",
      "There are 0 rows with matching pattern in column 'info_5'.\n",
      "There are 0 rows with matching pattern in column 'info_6'.\n",
      "There are 0 rows with matching pattern in column 'info_7'.\n",
      "There are 0 rows with matching pattern in column 'info_8'.\n",
      "There are 0 rows with matching pattern in column 'info_9'.\n",
      "There are 0 rows with matching pattern in column 'info_10'.\n",
      "There are 0 rows with matching pattern in column 'info_11'.\n",
      "There are 0 rows with matching pattern in column 'info_parenth'.\n"
     ]
    },
    {
     "data": {
      "application/javascript": [
       "\n",
       "            setTimeout(function() {\n",
       "                var nbb_cell_id = 16;\n",
       "                var nbb_unformatted_code = \"# For loop to extract digits\\nfor column in cols_lst:\\n    for index in set(rows_combined):\\n        item = df.loc[index, column]\\n        if item:\\n            match = re.search(pattern, item)\\n            if match:\\n                df.loc[index, column] = re.sub(pattern, \\\"\\\", item)\\n\\n# Rechecking number and example rows after treatment\\n# For loop to find indices of rows that have pattern\\nrecheck_rows = []\\nfor column in cols_lst:\\n    dataframe = df[df[column].notna()]\\n    rows_to_check = rows_with_pattern(dataframe, column, pattern)\\n    recheck_rows += rows_to_check\";\n",
       "                var nbb_formatted_code = \"# For loop to extract digits\\nfor column in cols_lst:\\n    for index in set(rows_combined):\\n        item = df.loc[index, column]\\n        if item:\\n            match = re.search(pattern, item)\\n            if match:\\n                df.loc[index, column] = re.sub(pattern, \\\"\\\", item)\\n\\n# Rechecking number and example rows after treatment\\n# For loop to find indices of rows that have pattern\\nrecheck_rows = []\\nfor column in cols_lst:\\n    dataframe = df[df[column].notna()]\\n    rows_to_check = rows_with_pattern(dataframe, column, pattern)\\n    recheck_rows += rows_to_check\";\n",
       "                var nbb_cells = Jupyter.notebook.get_cells();\n",
       "                for (var i = 0; i < nbb_cells.length; ++i) {\n",
       "                    if (nbb_cells[i].input_prompt_number == nbb_cell_id) {\n",
       "                        if (nbb_cells[i].get_text() == nbb_unformatted_code) {\n",
       "                             nbb_cells[i].set_text(nbb_formatted_code);\n",
       "                        }\n",
       "                        break;\n",
       "                    }\n",
       "                }\n",
       "            }, 500);\n",
       "            "
      ],
      "text/plain": [
       "<IPython.core.display.Javascript object>"
      ]
     },
     "metadata": {},
     "output_type": "display_data"
    }
   ],
   "source": [
    "# For loop to extract digits\n",
    "for column in cols_lst:\n",
    "    for index in set(rows_combined):\n",
    "        item = df.loc[index, column]\n",
    "        if item:\n",
    "            match = re.search(pattern, item)\n",
    "            if match:\n",
    "                df.loc[index, column] = re.sub(pattern, \"\", item)\n",
    "\n",
    "# Rechecking number and example rows after treatment\n",
    "# For loop to find indices of rows that have pattern\n",
    "recheck_rows = []\n",
    "for column in cols_lst:\n",
    "    dataframe = df[df[column].notna()]\n",
    "    rows_to_check = rows_with_pattern(dataframe, column, pattern)\n",
    "    recheck_rows += rows_to_check"
   ]
  },
  {
   "cell_type": "markdown",
   "id": "e4e0349f",
   "metadata": {},
   "source": [
    "#### Removing Any Remaining Matches with  `nation_map` Keys and Values"
   ]
  },
  {
   "cell_type": "code",
   "execution_count": 20,
   "id": "cc17709c",
   "metadata": {},
   "outputs": [
    {
     "name": "stdout",
     "output_type": "stream",
     "text": [
      "CPU times: total: 13min 3s\n",
      "Wall time: 13min 4s\n"
     ]
    },
    {
     "data": {
      "application/javascript": [
       "\n",
       "            setTimeout(function() {\n",
       "                var nbb_cell_id = 20;\n",
       "                var nbb_unformatted_code = \"%%time\\n\\n# For loop to extract remaining information matching items in nation_map\\nfor column in cols_lst:\\n    dataframe = df[df[column].notna()]\\n    for nationality, country in nation_map.items():\\n        for index in dataframe.index:\\n            item = df.loc[index, column]\\n            if item:\\n                if nationality in item or country in item:\\n                    df.loc[index, column] = item.replace(nationality, \\\"\\\").strip().replace(country,'').strip()\";\n",
       "                var nbb_formatted_code = \"%%time\\n\\n# For loop to extract remaining information matching items in nation_map\\nfor column in cols_lst:\\n    dataframe = df[df[column].notna()]\\n    for nationality, country in nation_map.items():\\n        for index in dataframe.index:\\n            item = df.loc[index, column]\\n            if item:\\n                if nationality in item or country in item:\\n                    df.loc[index, column] = item.replace(nationality, \\\"\\\").strip().replace(country,'').strip()\";\n",
       "                var nbb_cells = Jupyter.notebook.get_cells();\n",
       "                for (var i = 0; i < nbb_cells.length; ++i) {\n",
       "                    if (nbb_cells[i].input_prompt_number == nbb_cell_id) {\n",
       "                        if (nbb_cells[i].get_text() == nbb_unformatted_code) {\n",
       "                             nbb_cells[i].set_text(nbb_formatted_code);\n",
       "                        }\n",
       "                        break;\n",
       "                    }\n",
       "                }\n",
       "            }, 500);\n",
       "            "
      ],
      "text/plain": [
       "<IPython.core.display.Javascript object>"
      ]
     },
     "metadata": {},
     "output_type": "display_data"
    }
   ],
   "source": [
    "%%time\n",
    "\n",
    "# For loop to extract remaining information matching items in nation_map\n",
    "for column in cols_lst:\n",
    "    dataframe = df[df[column].notna()]\n",
    "    for nationality, country in nation_map.items():\n",
    "        for index in dataframe.index:\n",
    "            item = df.loc[index, column]\n",
    "            if item:\n",
    "                if nationality in item or country in item:\n",
    "                    df.loc[index, column] = item.replace(nationality, \"\").strip().replace(country,'').strip()"
   ]
  },
  {
   "cell_type": "code",
   "execution_count": 21,
   "id": "6d250f4b",
   "metadata": {},
   "outputs": [
    {
     "name": "stdout",
     "output_type": "stream",
     "text": [
      "dunzo!\n"
     ]
    },
    {
     "data": {
      "application/javascript": [
       "\n",
       "            setTimeout(function() {\n",
       "                var nbb_cell_id = 21;\n",
       "                var nbb_unformatted_code = \"print(\\\"dunzo!\\\")\\nchime.success()\";\n",
       "                var nbb_formatted_code = \"print(\\\"dunzo!\\\")\\nchime.success()\";\n",
       "                var nbb_cells = Jupyter.notebook.get_cells();\n",
       "                for (var i = 0; i < nbb_cells.length; ++i) {\n",
       "                    if (nbb_cells[i].input_prompt_number == nbb_cell_id) {\n",
       "                        if (nbb_cells[i].get_text() == nbb_unformatted_code) {\n",
       "                             nbb_cells[i].set_text(nbb_formatted_code);\n",
       "                        }\n",
       "                        break;\n",
       "                    }\n",
       "                }\n",
       "            }, 500);\n",
       "            "
      ],
      "text/plain": [
       "<IPython.core.display.Javascript object>"
      ]
     },
     "metadata": {},
     "output_type": "display_data"
    }
   ],
   "source": [
    "print(\"dunzo!\")\n",
    "chime.success()"
   ]
  },
  {
   "cell_type": "markdown",
   "id": "b5bb62bb",
   "metadata": {},
   "source": [
    "#### Observations:\n",
    "- After that bit of tidying, we can proceed to extracting `known_for` values.\n",
    "- The bulk of these values should be in `info_2`, according to the Wikipedia defined fields, so we will start there."
   ]
  },
  {
   "cell_type": "markdown",
   "id": "6ad8d9eb",
   "metadata": {},
   "source": [
    "## Extracting `known_for` Data\n",
    "Our goal will be to have some broader categories into which the specific values will fit.  `known_for` is a diverse feature, in that an individual may be known for a long-term role or roles, a specific event, a relationship with another person who is famous, etc.  So, to some extent we will see what we find and adapt.\n",
    "\n",
    "The first task will be to attempt to identify individuals in the list who are known for their relationships to other people, to avoid mistakenly accrediting the primary famous individual's `known_for` data to the relation."
   ]
  },
  {
   "cell_type": "markdown",
   "id": "c0dac77f",
   "metadata": {},
   "source": [
    "#### Dictionary of `known_for` Keys and List of Values"
   ]
  },
  {
   "cell_type": "code",
   "execution_count": 22,
   "id": "48cfbe46",
   "metadata": {},
   "outputs": [
    {
     "data": {
      "application/javascript": [
       "\n",
       "            setTimeout(function() {\n",
       "                var nbb_cell_id = 22;\n",
       "                var nbb_unformatted_code = \"# Initializing dictionary of known_for keys and list of values\\nknown_for_dict = {'relative': ['wife of', 'husband of', 'sister of', 'brother of', 'mother of', 'father of', 'daughter of', 'son of', 'granddaughter of', 'grandson of', 'grandmother of', 'grandfather of', 'aunt of', 'uncle of']}\";\n",
       "                var nbb_formatted_code = \"# Initializing dictionary of known_for keys and list of values\\nknown_for_dict = {\\n    \\\"relative\\\": [\\n        \\\"wife of\\\",\\n        \\\"husband of\\\",\\n        \\\"sister of\\\",\\n        \\\"brother of\\\",\\n        \\\"mother of\\\",\\n        \\\"father of\\\",\\n        \\\"daughter of\\\",\\n        \\\"son of\\\",\\n        \\\"granddaughter of\\\",\\n        \\\"grandson of\\\",\\n        \\\"grandmother of\\\",\\n        \\\"grandfather of\\\",\\n        \\\"aunt of\\\",\\n        \\\"uncle of\\\",\\n    ]\\n}\";\n",
       "                var nbb_cells = Jupyter.notebook.get_cells();\n",
       "                for (var i = 0; i < nbb_cells.length; ++i) {\n",
       "                    if (nbb_cells[i].input_prompt_number == nbb_cell_id) {\n",
       "                        if (nbb_cells[i].get_text() == nbb_unformatted_code) {\n",
       "                             nbb_cells[i].set_text(nbb_formatted_code);\n",
       "                        }\n",
       "                        break;\n",
       "                    }\n",
       "                }\n",
       "            }, 500);\n",
       "            "
      ],
      "text/plain": [
       "<IPython.core.display.Javascript object>"
      ]
     },
     "metadata": {},
     "output_type": "display_data"
    }
   ],
   "source": [
    "# Initializing dictionary of known_for keys and list of values\n",
    "known_for_dict = {\n",
    "    \"relative\": [\n",
    "        \"wife of\",\n",
    "        \"husband of\",\n",
    "        \"sister of\",\n",
    "        \"brother of\",\n",
    "        \"mother of\",\n",
    "        \"father of\",\n",
    "        \"daughter of\",\n",
    "        \"son of\",\n",
    "        \"granddaughter of\",\n",
    "        \"grandson of\",\n",
    "        \"grandmother of\",\n",
    "        \"grandfather of\",\n",
    "        \"aunt of\",\n",
    "        \"uncle of\",\n",
    "    ]\n",
    "}"
   ]
  },
  {
   "cell_type": "code",
   "execution_count": null,
   "id": "ecb42b49",
   "metadata": {},
   "outputs": [],
   "source": [
    "# Column to check\n",
    "column = 'info_2'\n",
    "\n",
    "# For loop to extract value from one column to another\n",
    "for key, value in known_for_dict.items():\n",
    "    dataframe =df[df[column]].notna()\n",
    "    item =    "
   ]
  }
 ],
 "metadata": {
  "kernelspec": {
   "display_name": "Python 3 (ipykernel)",
   "language": "python",
   "name": "python3"
  },
  "language_info": {
   "codemirror_mode": {
    "name": "ipython",
    "version": 3
   },
   "file_extension": ".py",
   "mimetype": "text/x-python",
   "name": "python",
   "nbconvert_exporter": "python",
   "pygments_lexer": "ipython3",
   "version": "3.9.12"
  }
 },
 "nbformat": 4,
 "nbformat_minor": 5
}
