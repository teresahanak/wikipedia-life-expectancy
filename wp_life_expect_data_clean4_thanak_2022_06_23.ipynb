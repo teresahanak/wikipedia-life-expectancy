{
 "cells": [
  {
   "cell_type": "markdown",
   "id": "9dcf4108",
   "metadata": {},
   "source": [
    "# Wikipedia Notable Life Expectancies\n",
    "\n",
    "# [Notebook 5 of : Data Cleaning](https://github.com/teresahanak/wikipedia-life-expectancy/blob/main/wp_life_expect_data_clean4_thanak_2022_06_23.ipynb)\n",
    "\n",
    "## Context\n",
    "\n",
    "The\n",
    "\n",
    "\n",
    "## Objective\n",
    "\n",
    "The\n",
    "\n",
    "### Data Dictionary\n",
    "\n",
    "- Feature: Description"
   ]
  },
  {
   "cell_type": "code",
   "execution_count": null,
   "id": "a2e953e4",
   "metadata": {},
   "outputs": [],
   "source": []
  }
 ],
 "metadata": {
  "kernelspec": {
   "display_name": "Python 3 (ipykernel)",
   "language": "python",
   "name": "python3"
  },
  "language_info": {
   "codemirror_mode": {
    "name": "ipython",
    "version": 3
   },
   "file_extension": ".py",
   "mimetype": "text/x-python",
   "name": "python",
   "nbconvert_exporter": "python",
   "pygments_lexer": "ipython3",
   "version": "3.9.12"
  }
 },
 "nbformat": 4,
 "nbformat_minor": 5
}
