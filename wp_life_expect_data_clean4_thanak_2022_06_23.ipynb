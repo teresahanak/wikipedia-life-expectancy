{
 "cells": [
  {
   "cell_type": "markdown",
   "id": "c580ee22",
   "metadata": {},
   "source": [
    "# Wikipedia Notable Life Expectancies\n",
    "\n",
    "# [Notebook 5 of : Data Cleaning](https://github.com/teresahanak/wikipedia-life-expectancy/blob/main/wp_life_expect_data_clean4_thanak_2022_06_23.ipynb)\n",
    "\n",
    "## Context\n",
    "\n",
    "The\n",
    "\n",
    "\n",
    "## Objective\n",
    "\n",
    "The\n",
    "\n",
    "### Data Dictionary\n",
    "\n",
    "- Feature: Description"
   ]
  },
  {
   "cell_type": "markdown",
   "id": "355d3db2",
   "metadata": {},
   "source": [
    "## Importing Necessary Libraries"
   ]
  },
  {
   "cell_type": "code",
   "execution_count": 1,
   "id": "a1b60865",
   "metadata": {},
   "outputs": [
    {
     "data": {
      "application/javascript": [
       "\n",
       "            setTimeout(function() {\n",
       "                var nbb_cell_id = 1;\n",
       "                var nbb_unformatted_code = \"# To structure code automatically\\n%load_ext nb_black\\n\\n# To import/export sqlite databases\\nimport sqlite3 as sql\\n\\n# To save/open python objects in pickle file\\nimport pickle\\n\\n# To help with reading, cleaning, and manipulating data\\nimport pandas as pd\\nimport numpy as np\\nimport re\\n\\n# To define maximum number of columns to be displayed in a dataframe\\npd.set_option(\\\"display.max_columns\\\", None)\\n# To define the maximum number of rows to be displayed in a dataframe\\npd.set_option(\\\"display.max_rows\\\", 200)\\n\\n# To supress warnings\\n# import warnings\\n\\n# warnings.filterwarnings(\\\"ignore\\\")\\n\\n# To set some visualization attributes\\npd.set_option(\\\"max_colwidth\\\", 150)\\n\\n# To play auditory cue when cell has executed, has warning, or has error and set chime theme\\nimport chime\\n\\nchime.theme(\\\"zelda\\\")\";\n",
       "                var nbb_formatted_code = \"# To structure code automatically\\n%load_ext nb_black\\n\\n# To import/export sqlite databases\\nimport sqlite3 as sql\\n\\n# To save/open python objects in pickle file\\nimport pickle\\n\\n# To help with reading, cleaning, and manipulating data\\nimport pandas as pd\\nimport numpy as np\\nimport re\\n\\n# To define maximum number of columns to be displayed in a dataframe\\npd.set_option(\\\"display.max_columns\\\", None)\\n# To define the maximum number of rows to be displayed in a dataframe\\npd.set_option(\\\"display.max_rows\\\", 200)\\n\\n# To supress warnings\\n# import warnings\\n\\n# warnings.filterwarnings(\\\"ignore\\\")\\n\\n# To set some visualization attributes\\npd.set_option(\\\"max_colwidth\\\", 150)\\n\\n# To play auditory cue when cell has executed, has warning, or has error and set chime theme\\nimport chime\\n\\nchime.theme(\\\"zelda\\\")\";\n",
       "                var nbb_cells = Jupyter.notebook.get_cells();\n",
       "                for (var i = 0; i < nbb_cells.length; ++i) {\n",
       "                    if (nbb_cells[i].input_prompt_number == nbb_cell_id) {\n",
       "                        if (nbb_cells[i].get_text() == nbb_unformatted_code) {\n",
       "                             nbb_cells[i].set_text(nbb_formatted_code);\n",
       "                        }\n",
       "                        break;\n",
       "                    }\n",
       "                }\n",
       "            }, 500);\n",
       "            "
      ],
      "text/plain": [
       "<IPython.core.display.Javascript object>"
      ]
     },
     "metadata": {},
     "output_type": "display_data"
    }
   ],
   "source": [
    "# To structure code automatically\n",
    "%load_ext nb_black\n",
    "\n",
    "# To import/export sqlite databases\n",
    "import sqlite3 as sql\n",
    "\n",
    "# To save/open python objects in pickle file\n",
    "import pickle\n",
    "\n",
    "# To help with reading, cleaning, and manipulating data\n",
    "import pandas as pd\n",
    "import numpy as np\n",
    "import re\n",
    "\n",
    "# To define maximum number of columns to be displayed in a dataframe\n",
    "pd.set_option(\"display.max_columns\", None)\n",
    "# To define the maximum number of rows to be displayed in a dataframe\n",
    "pd.set_option(\"display.max_rows\", 200)\n",
    "\n",
    "# To supress warnings\n",
    "# import warnings\n",
    "\n",
    "# warnings.filterwarnings(\"ignore\")\n",
    "\n",
    "# To set some visualization attributes\n",
    "pd.set_option(\"max_colwidth\", 150)\n",
    "\n",
    "# To play auditory cue when cell has executed, has warning, or has error and set chime theme\n",
    "import chime\n",
    "\n",
    "chime.theme(\"zelda\")"
   ]
  },
  {
   "cell_type": "markdown",
   "id": "7e75b0f5",
   "metadata": {},
   "source": [
    "## Data Overview"
   ]
  },
  {
   "cell_type": "markdown",
   "id": "77ce77ea",
   "metadata": {},
   "source": [
    "### Reading, Sampling, and Checking Data Shape"
   ]
  },
  {
   "cell_type": "code",
   "execution_count": 2,
   "id": "ea67c843",
   "metadata": {},
   "outputs": [
    {
     "name": "stdout",
     "output_type": "stream",
     "text": [
      "There are 132652 rows and 23 columns.\n"
     ]
    },
    {
     "data": {
      "text/html": [
       "<div>\n",
       "<style scoped>\n",
       "    .dataframe tbody tr th:only-of-type {\n",
       "        vertical-align: middle;\n",
       "    }\n",
       "\n",
       "    .dataframe tbody tr th {\n",
       "        vertical-align: top;\n",
       "    }\n",
       "\n",
       "    .dataframe thead th {\n",
       "        text-align: right;\n",
       "    }\n",
       "</style>\n",
       "<table border=\"1\" class=\"dataframe\">\n",
       "  <thead>\n",
       "    <tr style=\"text-align: right;\">\n",
       "      <th></th>\n",
       "      <th>day</th>\n",
       "      <th>name</th>\n",
       "      <th>info</th>\n",
       "      <th>link</th>\n",
       "      <th>num_references</th>\n",
       "      <th>year</th>\n",
       "      <th>month</th>\n",
       "      <th>info_parenth</th>\n",
       "      <th>info_1</th>\n",
       "      <th>info_2</th>\n",
       "      <th>info_3</th>\n",
       "      <th>info_4</th>\n",
       "      <th>info_5</th>\n",
       "      <th>info_6</th>\n",
       "      <th>info_7</th>\n",
       "      <th>info_8</th>\n",
       "      <th>info_9</th>\n",
       "      <th>info_10</th>\n",
       "      <th>info_11</th>\n",
       "      <th>age</th>\n",
       "      <th>cause_of_death</th>\n",
       "      <th>place_1</th>\n",
       "      <th>place_2</th>\n",
       "    </tr>\n",
       "  </thead>\n",
       "  <tbody>\n",
       "    <tr>\n",
       "      <th>0</th>\n",
       "      <td>1</td>\n",
       "      <td>William Chappell</td>\n",
       "      <td>, 86, British dancer, ballet designer and director.</td>\n",
       "      <td>https://en.wikipedia.org/wiki/William_Chappell_(dancer)</td>\n",
       "      <td>21</td>\n",
       "      <td>1994</td>\n",
       "      <td>January</td>\n",
       "      <td>None</td>\n",
       "      <td>None</td>\n",
       "      <td>dancer</td>\n",
       "      <td>ballet designer and director</td>\n",
       "      <td>None</td>\n",
       "      <td>None</td>\n",
       "      <td>None</td>\n",
       "      <td>None</td>\n",
       "      <td>None</td>\n",
       "      <td>None</td>\n",
       "      <td>None</td>\n",
       "      <td>None</td>\n",
       "      <td>86.0</td>\n",
       "      <td>None</td>\n",
       "      <td>United Kingdom of Great Britain and Northern Ireland</td>\n",
       "      <td>None</td>\n",
       "    </tr>\n",
       "    <tr>\n",
       "      <th>1</th>\n",
       "      <td>1</td>\n",
       "      <td>Raymond Crotty</td>\n",
       "      <td>, 68, Irish economist, writer, and academic.</td>\n",
       "      <td>https://en.wikipedia.org/wiki/Raymond_Crotty</td>\n",
       "      <td>12</td>\n",
       "      <td>1994</td>\n",
       "      <td>January</td>\n",
       "      <td>None</td>\n",
       "      <td>None</td>\n",
       "      <td>economist</td>\n",
       "      <td>writer</td>\n",
       "      <td>and academic</td>\n",
       "      <td>None</td>\n",
       "      <td>None</td>\n",
       "      <td>None</td>\n",
       "      <td>None</td>\n",
       "      <td>None</td>\n",
       "      <td>None</td>\n",
       "      <td>None</td>\n",
       "      <td>68.0</td>\n",
       "      <td>None</td>\n",
       "      <td>Ireland</td>\n",
       "      <td>None</td>\n",
       "    </tr>\n",
       "  </tbody>\n",
       "</table>\n",
       "</div>"
      ],
      "text/plain": [
       "  day              name                                                 info  \\\n",
       "0   1  William Chappell  , 86, British dancer, ballet designer and director.   \n",
       "1   1    Raymond Crotty         , 68, Irish economist, writer, and academic.   \n",
       "\n",
       "                                                      link num_references  \\\n",
       "0  https://en.wikipedia.org/wiki/William_Chappell_(dancer)             21   \n",
       "1             https://en.wikipedia.org/wiki/Raymond_Crotty             12   \n",
       "\n",
       "   year    month info_parenth info_1     info_2                        info_3  \\\n",
       "0  1994  January         None   None     dancer  ballet designer and director   \n",
       "1  1994  January         None   None  economist                        writer   \n",
       "\n",
       "         info_4 info_5 info_6 info_7 info_8 info_9 info_10 info_11   age  \\\n",
       "0          None   None   None   None   None   None    None    None  86.0   \n",
       "1  and academic   None   None   None   None   None    None    None  68.0   \n",
       "\n",
       "  cause_of_death                                               place_1 place_2  \n",
       "0           None  United Kingdom of Great Britain and Northern Ireland    None  \n",
       "1           None                                               Ireland    None  "
      ]
     },
     "execution_count": 2,
     "metadata": {},
     "output_type": "execute_result"
    },
    {
     "data": {
      "application/javascript": [
       "\n",
       "            setTimeout(function() {\n",
       "                var nbb_cell_id = 2;\n",
       "                var nbb_unformatted_code = \"# Reading the dataset\\nconn = sql.connect(\\\"wp_life_expect_clean3.db\\\")\\ndata = pd.read_sql(\\\"SELECT * FROM wp_life_expect_clean3\\\", conn)\\n\\n# Making a working copy\\ndf = data.copy()\\n\\n# Checking the shape\\nprint(f\\\"There are {df.shape[0]} rows and {df.shape[1]} columns.\\\")\\n\\n# Checking first 2 rows of the data\\ndf.head(2)\";\n",
       "                var nbb_formatted_code = \"# Reading the dataset\\nconn = sql.connect(\\\"wp_life_expect_clean3.db\\\")\\ndata = pd.read_sql(\\\"SELECT * FROM wp_life_expect_clean3\\\", conn)\\n\\n# Making a working copy\\ndf = data.copy()\\n\\n# Checking the shape\\nprint(f\\\"There are {df.shape[0]} rows and {df.shape[1]} columns.\\\")\\n\\n# Checking first 2 rows of the data\\ndf.head(2)\";\n",
       "                var nbb_cells = Jupyter.notebook.get_cells();\n",
       "                for (var i = 0; i < nbb_cells.length; ++i) {\n",
       "                    if (nbb_cells[i].input_prompt_number == nbb_cell_id) {\n",
       "                        if (nbb_cells[i].get_text() == nbb_unformatted_code) {\n",
       "                             nbb_cells[i].set_text(nbb_formatted_code);\n",
       "                        }\n",
       "                        break;\n",
       "                    }\n",
       "                }\n",
       "            }, 500);\n",
       "            "
      ],
      "text/plain": [
       "<IPython.core.display.Javascript object>"
      ]
     },
     "metadata": {},
     "output_type": "display_data"
    }
   ],
   "source": [
    "# Reading the dataset\n",
    "conn = sql.connect(\"wp_life_expect_clean3.db\")\n",
    "data = pd.read_sql(\"SELECT * FROM wp_life_expect_clean3\", conn)\n",
    "\n",
    "# Making a working copy\n",
    "df = data.copy()\n",
    "\n",
    "# Checking the shape\n",
    "print(f\"There are {df.shape[0]} rows and {df.shape[1]} columns.\")\n",
    "\n",
    "# Checking first 2 rows of the data\n",
    "df.head(2)"
   ]
  },
  {
   "cell_type": "code",
   "execution_count": 3,
   "id": "3a39b4f9",
   "metadata": {},
   "outputs": [
    {
     "data": {
      "text/html": [
       "<div>\n",
       "<style scoped>\n",
       "    .dataframe tbody tr th:only-of-type {\n",
       "        vertical-align: middle;\n",
       "    }\n",
       "\n",
       "    .dataframe tbody tr th {\n",
       "        vertical-align: top;\n",
       "    }\n",
       "\n",
       "    .dataframe thead th {\n",
       "        text-align: right;\n",
       "    }\n",
       "</style>\n",
       "<table border=\"1\" class=\"dataframe\">\n",
       "  <thead>\n",
       "    <tr style=\"text-align: right;\">\n",
       "      <th></th>\n",
       "      <th>day</th>\n",
       "      <th>name</th>\n",
       "      <th>info</th>\n",
       "      <th>link</th>\n",
       "      <th>num_references</th>\n",
       "      <th>year</th>\n",
       "      <th>month</th>\n",
       "      <th>info_parenth</th>\n",
       "      <th>info_1</th>\n",
       "      <th>info_2</th>\n",
       "      <th>info_3</th>\n",
       "      <th>info_4</th>\n",
       "      <th>info_5</th>\n",
       "      <th>info_6</th>\n",
       "      <th>info_7</th>\n",
       "      <th>info_8</th>\n",
       "      <th>info_9</th>\n",
       "      <th>info_10</th>\n",
       "      <th>info_11</th>\n",
       "      <th>age</th>\n",
       "      <th>cause_of_death</th>\n",
       "      <th>place_1</th>\n",
       "      <th>place_2</th>\n",
       "    </tr>\n",
       "  </thead>\n",
       "  <tbody>\n",
       "    <tr>\n",
       "      <th>132650</th>\n",
       "      <td>9</td>\n",
       "      <td>Oleg Moliboga</td>\n",
       "      <td>, 69, Russian volleyball player, Olympic champion  and coach.</td>\n",
       "      <td>https://en.wikipedia.org/wiki/Oleg_Moliboga</td>\n",
       "      <td>2</td>\n",
       "      <td>2022</td>\n",
       "      <td>June</td>\n",
       "      <td>1980</td>\n",
       "      <td>None</td>\n",
       "      <td>volleyball player</td>\n",
       "      <td>Olympic champion  and coach</td>\n",
       "      <td>None</td>\n",
       "      <td>None</td>\n",
       "      <td>None</td>\n",
       "      <td>None</td>\n",
       "      <td>None</td>\n",
       "      <td>None</td>\n",
       "      <td>None</td>\n",
       "      <td>None</td>\n",
       "      <td>69.0</td>\n",
       "      <td>None</td>\n",
       "      <td>Russia</td>\n",
       "      <td>None</td>\n",
       "    </tr>\n",
       "    <tr>\n",
       "      <th>132651</th>\n",
       "      <td>9</td>\n",
       "      <td>Zou Jing</td>\n",
       "      <td>, 86, Chinese engineer, member of the Chinese Academy of Engineering.</td>\n",
       "      <td>https://en.wikipedia.org/wiki/Zou_Jing_(engineer)</td>\n",
       "      <td>3</td>\n",
       "      <td>2022</td>\n",
       "      <td>June</td>\n",
       "      <td>None</td>\n",
       "      <td>None</td>\n",
       "      <td>engineer</td>\n",
       "      <td>member of the Chinese Academy of Engineering</td>\n",
       "      <td>None</td>\n",
       "      <td>None</td>\n",
       "      <td>None</td>\n",
       "      <td>None</td>\n",
       "      <td>None</td>\n",
       "      <td>None</td>\n",
       "      <td>None</td>\n",
       "      <td>None</td>\n",
       "      <td>86.0</td>\n",
       "      <td>None</td>\n",
       "      <td>China, People's Republic of</td>\n",
       "      <td>None</td>\n",
       "    </tr>\n",
       "  </tbody>\n",
       "</table>\n",
       "</div>"
      ],
      "text/plain": [
       "       day           name  \\\n",
       "132650   9  Oleg Moliboga   \n",
       "132651   9       Zou Jing   \n",
       "\n",
       "                                                                         info  \\\n",
       "132650          , 69, Russian volleyball player, Olympic champion  and coach.   \n",
       "132651  , 86, Chinese engineer, member of the Chinese Academy of Engineering.   \n",
       "\n",
       "                                                     link num_references  \\\n",
       "132650        https://en.wikipedia.org/wiki/Oleg_Moliboga              2   \n",
       "132651  https://en.wikipedia.org/wiki/Zou_Jing_(engineer)              3   \n",
       "\n",
       "        year month info_parenth info_1             info_2  \\\n",
       "132650  2022  June         1980   None  volleyball player   \n",
       "132651  2022  June         None   None           engineer   \n",
       "\n",
       "                                              info_3 info_4 info_5 info_6  \\\n",
       "132650                   Olympic champion  and coach   None   None   None   \n",
       "132651  member of the Chinese Academy of Engineering   None   None   None   \n",
       "\n",
       "       info_7 info_8 info_9 info_10 info_11   age cause_of_death  \\\n",
       "132650   None   None   None    None    None  69.0           None   \n",
       "132651   None   None   None    None    None  86.0           None   \n",
       "\n",
       "                            place_1 place_2  \n",
       "132650                       Russia    None  \n",
       "132651  China, People's Republic of    None  "
      ]
     },
     "execution_count": 3,
     "metadata": {},
     "output_type": "execute_result"
    },
    {
     "data": {
      "application/javascript": [
       "\n",
       "            setTimeout(function() {\n",
       "                var nbb_cell_id = 3;\n",
       "                var nbb_unformatted_code = \"# Checking last 2 rows of the data\\ndf.tail(2)\";\n",
       "                var nbb_formatted_code = \"# Checking last 2 rows of the data\\ndf.tail(2)\";\n",
       "                var nbb_cells = Jupyter.notebook.get_cells();\n",
       "                for (var i = 0; i < nbb_cells.length; ++i) {\n",
       "                    if (nbb_cells[i].input_prompt_number == nbb_cell_id) {\n",
       "                        if (nbb_cells[i].get_text() == nbb_unformatted_code) {\n",
       "                             nbb_cells[i].set_text(nbb_formatted_code);\n",
       "                        }\n",
       "                        break;\n",
       "                    }\n",
       "                }\n",
       "            }, 500);\n",
       "            "
      ],
      "text/plain": [
       "<IPython.core.display.Javascript object>"
      ]
     },
     "metadata": {},
     "output_type": "display_data"
    }
   ],
   "source": [
    "# Checking last 2 rows of the data\n",
    "df.tail(2)"
   ]
  },
  {
   "cell_type": "code",
   "execution_count": 4,
   "id": "b3fb1316",
   "metadata": {},
   "outputs": [
    {
     "data": {
      "text/html": [
       "<div>\n",
       "<style scoped>\n",
       "    .dataframe tbody tr th:only-of-type {\n",
       "        vertical-align: middle;\n",
       "    }\n",
       "\n",
       "    .dataframe tbody tr th {\n",
       "        vertical-align: top;\n",
       "    }\n",
       "\n",
       "    .dataframe thead th {\n",
       "        text-align: right;\n",
       "    }\n",
       "</style>\n",
       "<table border=\"1\" class=\"dataframe\">\n",
       "  <thead>\n",
       "    <tr style=\"text-align: right;\">\n",
       "      <th></th>\n",
       "      <th>day</th>\n",
       "      <th>name</th>\n",
       "      <th>info</th>\n",
       "      <th>link</th>\n",
       "      <th>num_references</th>\n",
       "      <th>year</th>\n",
       "      <th>month</th>\n",
       "      <th>info_parenth</th>\n",
       "      <th>info_1</th>\n",
       "      <th>info_2</th>\n",
       "      <th>info_3</th>\n",
       "      <th>info_4</th>\n",
       "      <th>info_5</th>\n",
       "      <th>info_6</th>\n",
       "      <th>info_7</th>\n",
       "      <th>info_8</th>\n",
       "      <th>info_9</th>\n",
       "      <th>info_10</th>\n",
       "      <th>info_11</th>\n",
       "      <th>age</th>\n",
       "      <th>cause_of_death</th>\n",
       "      <th>place_1</th>\n",
       "      <th>place_2</th>\n",
       "    </tr>\n",
       "  </thead>\n",
       "  <tbody>\n",
       "    <tr>\n",
       "      <th>131836</th>\n",
       "      <td>1</td>\n",
       "      <td>Mike Liles</td>\n",
       "      <td>, 76, American politician, member of the Tennessee House of Representatives .</td>\n",
       "      <td>https://en.wikipedia.org/wiki/Mike_Liles</td>\n",
       "      <td>3</td>\n",
       "      <td>2022</td>\n",
       "      <td>May</td>\n",
       "      <td>1991 1995</td>\n",
       "      <td>None</td>\n",
       "      <td>politician</td>\n",
       "      <td>member of the Tennessee House of Representatives</td>\n",
       "      <td>None</td>\n",
       "      <td>None</td>\n",
       "      <td>None</td>\n",
       "      <td>None</td>\n",
       "      <td>None</td>\n",
       "      <td>None</td>\n",
       "      <td>None</td>\n",
       "      <td>None</td>\n",
       "      <td>76.0</td>\n",
       "      <td>None</td>\n",
       "      <td>United States of America</td>\n",
       "      <td>None</td>\n",
       "    </tr>\n",
       "    <tr>\n",
       "      <th>63856</th>\n",
       "      <td>18</td>\n",
       "      <td>Carlos Alberto Raffo</td>\n",
       "      <td>, 87, Argentine-born Ecuadorian footballer .</td>\n",
       "      <td>https://en.wikipedia.org/wiki/Carlos_Alberto_Raffo</td>\n",
       "      <td>2</td>\n",
       "      <td>2013</td>\n",
       "      <td>September</td>\n",
       "      <td>Emelec</td>\n",
       "      <td>None</td>\n",
       "      <td>Ecuadorian footballer</td>\n",
       "      <td>None</td>\n",
       "      <td>None</td>\n",
       "      <td>None</td>\n",
       "      <td>None</td>\n",
       "      <td>None</td>\n",
       "      <td>None</td>\n",
       "      <td>None</td>\n",
       "      <td>None</td>\n",
       "      <td>None</td>\n",
       "      <td>87.0</td>\n",
       "      <td>None</td>\n",
       "      <td>Argentina</td>\n",
       "      <td>Ecuador</td>\n",
       "    </tr>\n",
       "    <tr>\n",
       "      <th>37359</th>\n",
       "      <td>6</td>\n",
       "      <td>Roy Howard</td>\n",
       "      <td>, 85, Australian cricketer.</td>\n",
       "      <td>https://en.wikipedia.org/wiki/Roy_Howard</td>\n",
       "      <td>1</td>\n",
       "      <td>2008</td>\n",
       "      <td>August</td>\n",
       "      <td>None</td>\n",
       "      <td>None</td>\n",
       "      <td>cricketer</td>\n",
       "      <td>None</td>\n",
       "      <td>None</td>\n",
       "      <td>None</td>\n",
       "      <td>None</td>\n",
       "      <td>None</td>\n",
       "      <td>None</td>\n",
       "      <td>None</td>\n",
       "      <td>None</td>\n",
       "      <td>None</td>\n",
       "      <td>85.0</td>\n",
       "      <td>None</td>\n",
       "      <td>Australia</td>\n",
       "      <td>None</td>\n",
       "    </tr>\n",
       "    <tr>\n",
       "      <th>14921</th>\n",
       "      <td>11</td>\n",
       "      <td>Helena Carter</td>\n",
       "      <td>, 76, American actress.</td>\n",
       "      <td>https://en.wikipedia.org/wiki/Helena_Carter</td>\n",
       "      <td>21</td>\n",
       "      <td>2000</td>\n",
       "      <td>January</td>\n",
       "      <td>None</td>\n",
       "      <td>None</td>\n",
       "      <td>actress</td>\n",
       "      <td>None</td>\n",
       "      <td>None</td>\n",
       "      <td>None</td>\n",
       "      <td>None</td>\n",
       "      <td>None</td>\n",
       "      <td>None</td>\n",
       "      <td>None</td>\n",
       "      <td>None</td>\n",
       "      <td>None</td>\n",
       "      <td>76.0</td>\n",
       "      <td>None</td>\n",
       "      <td>United States of America</td>\n",
       "      <td>None</td>\n",
       "    </tr>\n",
       "    <tr>\n",
       "      <th>101784</th>\n",
       "      <td>6</td>\n",
       "      <td>Grayston Burgess</td>\n",
       "      <td>, 86, English opera singer and conductor.</td>\n",
       "      <td>https://en.wikipedia.org/wiki/Grayston_Burgess</td>\n",
       "      <td>4</td>\n",
       "      <td>2019</td>\n",
       "      <td>March</td>\n",
       "      <td>None</td>\n",
       "      <td>None</td>\n",
       "      <td>opera singer and conductor</td>\n",
       "      <td>None</td>\n",
       "      <td>None</td>\n",
       "      <td>None</td>\n",
       "      <td>None</td>\n",
       "      <td>None</td>\n",
       "      <td>None</td>\n",
       "      <td>None</td>\n",
       "      <td>None</td>\n",
       "      <td>None</td>\n",
       "      <td>86.0</td>\n",
       "      <td>None</td>\n",
       "      <td>United Kingdom of Great Britain and Northern Ireland</td>\n",
       "      <td>None</td>\n",
       "    </tr>\n",
       "  </tbody>\n",
       "</table>\n",
       "</div>"
      ],
      "text/plain": [
       "       day                  name  \\\n",
       "131836   1            Mike Liles   \n",
       "63856   18  Carlos Alberto Raffo   \n",
       "37359    6            Roy Howard   \n",
       "14921   11         Helena Carter   \n",
       "101784   6      Grayston Burgess   \n",
       "\n",
       "                                                                                 info  \\\n",
       "131836  , 76, American politician, member of the Tennessee House of Representatives .   \n",
       "63856                                    , 87, Argentine-born Ecuadorian footballer .   \n",
       "37359                                                     , 85, Australian cricketer.   \n",
       "14921                                                         , 76, American actress.   \n",
       "101784                                      , 86, English opera singer and conductor.   \n",
       "\n",
       "                                                      link num_references  \\\n",
       "131836            https://en.wikipedia.org/wiki/Mike_Liles              3   \n",
       "63856   https://en.wikipedia.org/wiki/Carlos_Alberto_Raffo              2   \n",
       "37359             https://en.wikipedia.org/wiki/Roy_Howard              1   \n",
       "14921          https://en.wikipedia.org/wiki/Helena_Carter             21   \n",
       "101784      https://en.wikipedia.org/wiki/Grayston_Burgess              4   \n",
       "\n",
       "        year      month info_parenth info_1                      info_2  \\\n",
       "131836  2022        May    1991 1995   None                  politician   \n",
       "63856   2013  September       Emelec   None       Ecuadorian footballer   \n",
       "37359   2008     August         None   None                   cricketer   \n",
       "14921   2000    January         None   None                     actress   \n",
       "101784  2019      March         None   None  opera singer and conductor   \n",
       "\n",
       "                                                  info_3 info_4 info_5 info_6  \\\n",
       "131836  member of the Tennessee House of Representatives   None   None   None   \n",
       "63856                                               None   None   None   None   \n",
       "37359                                               None   None   None   None   \n",
       "14921                                               None   None   None   None   \n",
       "101784                                              None   None   None   None   \n",
       "\n",
       "       info_7 info_8 info_9 info_10 info_11   age cause_of_death  \\\n",
       "131836   None   None   None    None    None  76.0           None   \n",
       "63856    None   None   None    None    None  87.0           None   \n",
       "37359    None   None   None    None    None  85.0           None   \n",
       "14921    None   None   None    None    None  76.0           None   \n",
       "101784   None   None   None    None    None  86.0           None   \n",
       "\n",
       "                                                     place_1  place_2  \n",
       "131836                              United States of America     None  \n",
       "63856                                              Argentina  Ecuador  \n",
       "37359                                              Australia     None  \n",
       "14921                               United States of America     None  \n",
       "101784  United Kingdom of Great Britain and Northern Ireland     None  "
      ]
     },
     "execution_count": 4,
     "metadata": {},
     "output_type": "execute_result"
    },
    {
     "data": {
      "application/javascript": [
       "\n",
       "            setTimeout(function() {\n",
       "                var nbb_cell_id = 4;\n",
       "                var nbb_unformatted_code = \"# Checking a sample of the data\\ndf.sample(5)\";\n",
       "                var nbb_formatted_code = \"# Checking a sample of the data\\ndf.sample(5)\";\n",
       "                var nbb_cells = Jupyter.notebook.get_cells();\n",
       "                for (var i = 0; i < nbb_cells.length; ++i) {\n",
       "                    if (nbb_cells[i].input_prompt_number == nbb_cell_id) {\n",
       "                        if (nbb_cells[i].get_text() == nbb_unformatted_code) {\n",
       "                             nbb_cells[i].set_text(nbb_formatted_code);\n",
       "                        }\n",
       "                        break;\n",
       "                    }\n",
       "                }\n",
       "            }, 500);\n",
       "            "
      ],
      "text/plain": [
       "<IPython.core.display.Javascript object>"
      ]
     },
     "metadata": {},
     "output_type": "display_data"
    }
   ],
   "source": [
    "# Checking a sample of the data\n",
    "df.sample(5)"
   ]
  },
  {
   "cell_type": "markdown",
   "id": "f4ec179a",
   "metadata": {},
   "source": [
    "### Checking Data Types, Duplicates, and Null Values"
   ]
  },
  {
   "cell_type": "code",
   "execution_count": 5,
   "id": "c99fd011",
   "metadata": {},
   "outputs": [
    {
     "name": "stdout",
     "output_type": "stream",
     "text": [
      "<class 'pandas.core.frame.DataFrame'>\n",
      "RangeIndex: 132652 entries, 0 to 132651\n",
      "Data columns (total 23 columns):\n",
      " #   Column          Non-Null Count   Dtype  \n",
      "---  ------          --------------   -----  \n",
      " 0   day             132652 non-null  object \n",
      " 1   name            132652 non-null  object \n",
      " 2   info            132652 non-null  object \n",
      " 3   link            132652 non-null  object \n",
      " 4   num_references  132652 non-null  object \n",
      " 5   year            132652 non-null  int64  \n",
      " 6   month           132652 non-null  object \n",
      " 7   info_parenth    49830 non-null   object \n",
      " 8   info_1          35 non-null      object \n",
      " 9   info_2          132604 non-null  object \n",
      " 10  info_3          62571 non-null   object \n",
      " 11  info_4          12605 non-null   object \n",
      " 12  info_5          1497 non-null    object \n",
      " 13  info_6          216 non-null     object \n",
      " 14  info_7          31 non-null      object \n",
      " 15  info_8          6 non-null       object \n",
      " 16  info_9          1 non-null       object \n",
      " 17  info_10         1 non-null       object \n",
      " 18  info_11         1 non-null       object \n",
      " 19  age             132652 non-null  float64\n",
      " 20  cause_of_death  0 non-null       object \n",
      " 21  place_1         132482 non-null  object \n",
      " 22  place_2         11418 non-null   object \n",
      "dtypes: float64(1), int64(1), object(21)\n",
      "memory usage: 23.3+ MB\n"
     ]
    },
    {
     "data": {
      "application/javascript": [
       "\n",
       "            setTimeout(function() {\n",
       "                var nbb_cell_id = 5;\n",
       "                var nbb_unformatted_code = \"# Checking data types and null values\\ndf.info()\";\n",
       "                var nbb_formatted_code = \"# Checking data types and null values\\ndf.info()\";\n",
       "                var nbb_cells = Jupyter.notebook.get_cells();\n",
       "                for (var i = 0; i < nbb_cells.length; ++i) {\n",
       "                    if (nbb_cells[i].input_prompt_number == nbb_cell_id) {\n",
       "                        if (nbb_cells[i].get_text() == nbb_unformatted_code) {\n",
       "                             nbb_cells[i].set_text(nbb_formatted_code);\n",
       "                        }\n",
       "                        break;\n",
       "                    }\n",
       "                }\n",
       "            }, 500);\n",
       "            "
      ],
      "text/plain": [
       "<IPython.core.display.Javascript object>"
      ]
     },
     "metadata": {},
     "output_type": "display_data"
    }
   ],
   "source": [
    "# Checking data types and null values\n",
    "df.info()"
   ]
  },
  {
   "cell_type": "markdown",
   "id": "bb789b2c",
   "metadata": {},
   "source": [
    "#### Loading `nation_map` from Pickle File to Dictionary nation_map"
   ]
  },
  {
   "cell_type": "code",
   "execution_count": 6,
   "id": "b5bedf7a",
   "metadata": {},
   "outputs": [
    {
     "data": {
      "application/javascript": [
       "\n",
       "            setTimeout(function() {\n",
       "                var nbb_cell_id = 6;\n",
       "                var nbb_unformatted_code = \"# Load the nation_map\\nwith open(\\\"nation_map.pkl\\\", \\\"rb\\\") as f:\\n    nation_map = pickle.load(f)\";\n",
       "                var nbb_formatted_code = \"# Load the nation_map\\nwith open(\\\"nation_map.pkl\\\", \\\"rb\\\") as f:\\n    nation_map = pickle.load(f)\";\n",
       "                var nbb_cells = Jupyter.notebook.get_cells();\n",
       "                for (var i = 0; i < nbb_cells.length; ++i) {\n",
       "                    if (nbb_cells[i].input_prompt_number == nbb_cell_id) {\n",
       "                        if (nbb_cells[i].get_text() == nbb_unformatted_code) {\n",
       "                             nbb_cells[i].set_text(nbb_formatted_code);\n",
       "                        }\n",
       "                        break;\n",
       "                    }\n",
       "                }\n",
       "            }, 500);\n",
       "            "
      ],
      "text/plain": [
       "<IPython.core.display.Javascript object>"
      ]
     },
     "metadata": {},
     "output_type": "display_data"
    }
   ],
   "source": [
    "# Load the nation_map\n",
    "with open(\"nation_map.pkl\", \"rb\") as f:\n",
    "    nation_map = pickle.load(f)"
   ]
  },
  {
   "cell_type": "markdown",
   "id": "43d31d8c",
   "metadata": {},
   "source": [
    "#### Loading `other_species` list from other_species.csv"
   ]
  },
  {
   "cell_type": "code",
   "execution_count": 7,
   "id": "3ef7eeb0",
   "metadata": {},
   "outputs": [
    {
     "data": {
      "application/javascript": [
       "\n",
       "            setTimeout(function() {\n",
       "                var nbb_cell_id = 7;\n",
       "                var nbb_unformatted_code = \"# Loading other_species list\\nother_species_df = pd.read_csv(\\\"other_species.csv\\\")\\nother_species = other_species_df[\\\"species\\\"].tolist()\";\n",
       "                var nbb_formatted_code = \"# Loading other_species list\\nother_species_df = pd.read_csv(\\\"other_species.csv\\\")\\nother_species = other_species_df[\\\"species\\\"].tolist()\";\n",
       "                var nbb_cells = Jupyter.notebook.get_cells();\n",
       "                for (var i = 0; i < nbb_cells.length; ++i) {\n",
       "                    if (nbb_cells[i].input_prompt_number == nbb_cell_id) {\n",
       "                        if (nbb_cells[i].get_text() == nbb_unformatted_code) {\n",
       "                             nbb_cells[i].set_text(nbb_formatted_code);\n",
       "                        }\n",
       "                        break;\n",
       "                    }\n",
       "                }\n",
       "            }, 500);\n",
       "            "
      ],
      "text/plain": [
       "<IPython.core.display.Javascript object>"
      ]
     },
     "metadata": {},
     "output_type": "display_data"
    }
   ],
   "source": [
    "# Loading other_species list\n",
    "other_species_df = pd.read_csv(\"other_species.csv\")\n",
    "other_species = other_species_df[\"species\"].tolist()"
   ]
  },
  {
   "cell_type": "markdown",
   "id": "64951e1c",
   "metadata": {},
   "source": [
    "#### Observations:\n",
    "- With our dataframe, `nation_map`, and `other_species` list loaded, we can proceed to extracting the other features.\n",
    "- First, we will clean up the divided `info` columns by removing any remaining digits and nationality and country values.\n",
    "- We will use the same functions from previous notebooks."
   ]
  },
  {
   "cell_type": "markdown",
   "id": "670ece65",
   "metadata": {},
   "source": [
    "#### Function to Save Indices of Rows Matching Regular Expressions Pattern to a List and Print Number of Rows with Match "
   ]
  },
  {
   "cell_type": "code",
   "execution_count": 8,
   "id": "63f60b96",
   "metadata": {},
   "outputs": [
    {
     "data": {
      "application/javascript": [
       "\n",
       "            setTimeout(function() {\n",
       "                var nbb_cell_id = 8;\n",
       "                var nbb_unformatted_code = \"# Define a function that takes dataframe, column name, and re pattern as arguments and returns list of indices\\n# for which column value matches re pattern\\ndef rows_with_pattern(dataframe, column, pattern):\\n    \\\"\\\"\\\"\\n    Takes input of dataframe, column name, and re pattern \\n    and returns list of indices for rows that contain match\\n    for pattern anywhere within value for given column.\\n    \\n    dataframe: dataframe\\n    column: column name\\n    pattern: re pattern\\n    \\\"\\\"\\\"\\n    index_list = []\\n\\n    for i in dataframe.index:\\n        item = dataframe.loc[i, column]\\n        match = re.search(pattern, item)\\n        if match:\\n            index_list.append(i)\\n    print(\\n        f\\\"There are {len(index_list)} rows with matching pattern in column '{column}'.\\\"\\n    )\\n    return index_list\";\n",
       "                var nbb_formatted_code = \"# Define a function that takes dataframe, column name, and re pattern as arguments and returns list of indices\\n# for which column value matches re pattern\\ndef rows_with_pattern(dataframe, column, pattern):\\n    \\\"\\\"\\\"\\n    Takes input of dataframe, column name, and re pattern \\n    and returns list of indices for rows that contain match\\n    for pattern anywhere within value for given column.\\n    \\n    dataframe: dataframe\\n    column: column name\\n    pattern: re pattern\\n    \\\"\\\"\\\"\\n    index_list = []\\n\\n    for i in dataframe.index:\\n        item = dataframe.loc[i, column]\\n        match = re.search(pattern, item)\\n        if match:\\n            index_list.append(i)\\n    print(\\n        f\\\"There are {len(index_list)} rows with matching pattern in column '{column}'.\\\"\\n    )\\n    return index_list\";\n",
       "                var nbb_cells = Jupyter.notebook.get_cells();\n",
       "                for (var i = 0; i < nbb_cells.length; ++i) {\n",
       "                    if (nbb_cells[i].input_prompt_number == nbb_cell_id) {\n",
       "                        if (nbb_cells[i].get_text() == nbb_unformatted_code) {\n",
       "                             nbb_cells[i].set_text(nbb_formatted_code);\n",
       "                        }\n",
       "                        break;\n",
       "                    }\n",
       "                }\n",
       "            }, 500);\n",
       "            "
      ],
      "text/plain": [
       "<IPython.core.display.Javascript object>"
      ]
     },
     "metadata": {},
     "output_type": "display_data"
    }
   ],
   "source": [
    "# Define a function that takes dataframe, column name, and re pattern as arguments and returns list of indices\n",
    "# for which column value matches re pattern\n",
    "def rows_with_pattern(dataframe, column, pattern):\n",
    "    \"\"\"\n",
    "    Takes input of dataframe, column name, and re pattern \n",
    "    and returns list of indices for rows that contain match\n",
    "    for pattern anywhere within value for given column.\n",
    "    \n",
    "    dataframe: dataframe\n",
    "    column: column name\n",
    "    pattern: re pattern\n",
    "    \"\"\"\n",
    "    index_list = []\n",
    "\n",
    "    for i in dataframe.index:\n",
    "        item = dataframe.loc[i, column]\n",
    "        match = re.search(pattern, item)\n",
    "        if match:\n",
    "            index_list.append(i)\n",
    "    print(\n",
    "        f\"There are {len(index_list)} rows with matching pattern in column '{column}'.\"\n",
    "    )\n",
    "    return index_list"
   ]
  },
  {
   "cell_type": "markdown",
   "id": "26684da0",
   "metadata": {},
   "source": [
    "#### Function to Use rows_with_pattern Function for Multiple Regular Expression Patterns"
   ]
  },
  {
   "cell_type": "code",
   "execution_count": 9,
   "id": "28a6e47d",
   "metadata": {},
   "outputs": [
    {
     "data": {
      "application/javascript": [
       "\n",
       "            setTimeout(function() {\n",
       "                var nbb_cell_id = 9;\n",
       "                var nbb_unformatted_code = \"# Define a function that calls rows_with_pattern function for multiple re patterns\\n# returning a single list of indices for all rows with any pattern match\\n\\n\\ndef multiple_patterns(dataframe, column, patterns):\\n    \\\"\\\"\\\"\\n    Takes input dataframe, column, and list of re patterns and returns single list \\n    of indices for rows in which a match for any pattern is found with re.search\\n    \\n    dataframe: dataframe\\n    column: column name\\n    patterns: list of re patterns\\n    \\\"\\\"\\\"\\n    rows_combined = []\\n\\n    # For loop to check each pattern\\n    for pattern in patterns:\\n\\n        # List and number of rows matching each pattern\\n        print(pattern)\\n        rows_to_check = rows_with_pattern(dataframe, column, pattern)\\n        print(\\\"\\\")\\n\\n        # Add list for each pattern to combined list\\n        rows_combined += rows_to_check\\n\\n    return rows_combined\";\n",
       "                var nbb_formatted_code = \"# Define a function that calls rows_with_pattern function for multiple re patterns\\n# returning a single list of indices for all rows with any pattern match\\n\\n\\ndef multiple_patterns(dataframe, column, patterns):\\n    \\\"\\\"\\\"\\n    Takes input dataframe, column, and list of re patterns and returns single list \\n    of indices for rows in which a match for any pattern is found with re.search\\n    \\n    dataframe: dataframe\\n    column: column name\\n    patterns: list of re patterns\\n    \\\"\\\"\\\"\\n    rows_combined = []\\n\\n    # For loop to check each pattern\\n    for pattern in patterns:\\n\\n        # List and number of rows matching each pattern\\n        print(pattern)\\n        rows_to_check = rows_with_pattern(dataframe, column, pattern)\\n        print(\\\"\\\")\\n\\n        # Add list for each pattern to combined list\\n        rows_combined += rows_to_check\\n\\n    return rows_combined\";\n",
       "                var nbb_cells = Jupyter.notebook.get_cells();\n",
       "                for (var i = 0; i < nbb_cells.length; ++i) {\n",
       "                    if (nbb_cells[i].input_prompt_number == nbb_cell_id) {\n",
       "                        if (nbb_cells[i].get_text() == nbb_unformatted_code) {\n",
       "                             nbb_cells[i].set_text(nbb_formatted_code);\n",
       "                        }\n",
       "                        break;\n",
       "                    }\n",
       "                }\n",
       "            }, 500);\n",
       "            "
      ],
      "text/plain": [
       "<IPython.core.display.Javascript object>"
      ]
     },
     "metadata": {},
     "output_type": "display_data"
    }
   ],
   "source": [
    "# Define a function that calls rows_with_pattern function for multiple re patterns\n",
    "# returning a single list of indices for all rows with any pattern match\n",
    "\n",
    "\n",
    "def multiple_patterns(dataframe, column, patterns):\n",
    "    \"\"\"\n",
    "    Takes input dataframe, column, and list of re patterns and returns single list \n",
    "    of indices for rows in which a match for any pattern is found with re.search\n",
    "    \n",
    "    dataframe: dataframe\n",
    "    column: column name\n",
    "    patterns: list of re patterns\n",
    "    \"\"\"\n",
    "    rows_combined = []\n",
    "\n",
    "    # For loop to check each pattern\n",
    "    for pattern in patterns:\n",
    "\n",
    "        # List and number of rows matching each pattern\n",
    "        print(pattern)\n",
    "        rows_to_check = rows_with_pattern(dataframe, column, pattern)\n",
    "        print(\"\")\n",
    "\n",
    "        # Add list for each pattern to combined list\n",
    "        rows_combined += rows_to_check\n",
    "\n",
    "    return rows_combined"
   ]
  },
  {
   "cell_type": "markdown",
   "id": "3ab35e22",
   "metadata": {},
   "source": [
    "### Removing Remaining Digits and Nationality/Country Values from Divided `info` Columns"
   ]
  },
  {
   "cell_type": "markdown",
   "id": "1669decf",
   "metadata": {},
   "source": [
    "#### List of Columns to Treat"
   ]
  },
  {
   "cell_type": "code",
   "execution_count": 10,
   "id": "858be4c2",
   "metadata": {},
   "outputs": [
    {
     "data": {
      "application/javascript": [
       "\n",
       "            setTimeout(function() {\n",
       "                var nbb_cell_id = 10;\n",
       "                var nbb_unformatted_code = \"# List of columns to treat\\ncols_lst = [\\n    \\\"info_1\\\",\\n    \\\"info_2\\\",\\n    \\\"info_3\\\",\\n    \\\"info_4\\\",\\n    \\\"info_5\\\",\\n    \\\"info_6\\\",\\n    \\\"info_7\\\",\\n    \\\"info_8\\\",\\n    \\\"info_9\\\",\\n    \\\"info_10\\\",\\n    \\\"info_11\\\",\\n    \\\"info_parenth\\\",\\n]\";\n",
       "                var nbb_formatted_code = \"# List of columns to treat\\ncols_lst = [\\n    \\\"info_1\\\",\\n    \\\"info_2\\\",\\n    \\\"info_3\\\",\\n    \\\"info_4\\\",\\n    \\\"info_5\\\",\\n    \\\"info_6\\\",\\n    \\\"info_7\\\",\\n    \\\"info_8\\\",\\n    \\\"info_9\\\",\\n    \\\"info_10\\\",\\n    \\\"info_11\\\",\\n    \\\"info_parenth\\\",\\n]\";\n",
       "                var nbb_cells = Jupyter.notebook.get_cells();\n",
       "                for (var i = 0; i < nbb_cells.length; ++i) {\n",
       "                    if (nbb_cells[i].input_prompt_number == nbb_cell_id) {\n",
       "                        if (nbb_cells[i].get_text() == nbb_unformatted_code) {\n",
       "                             nbb_cells[i].set_text(nbb_formatted_code);\n",
       "                        }\n",
       "                        break;\n",
       "                    }\n",
       "                }\n",
       "            }, 500);\n",
       "            "
      ],
      "text/plain": [
       "<IPython.core.display.Javascript object>"
      ]
     },
     "metadata": {},
     "output_type": "display_data"
    }
   ],
   "source": [
    "# List of columns to treat\n",
    "cols_lst = [\n",
    "    \"info_1\",\n",
    "    \"info_2\",\n",
    "    \"info_3\",\n",
    "    \"info_4\",\n",
    "    \"info_5\",\n",
    "    \"info_6\",\n",
    "    \"info_7\",\n",
    "    \"info_8\",\n",
    "    \"info_9\",\n",
    "    \"info_10\",\n",
    "    \"info_11\",\n",
    "    \"info_parenth\",\n",
    "]"
   ]
  },
  {
   "cell_type": "markdown",
   "id": "a3f50ac5",
   "metadata": {},
   "source": [
    "#### Removing Digits"
   ]
  },
  {
   "cell_type": "code",
   "execution_count": 11,
   "id": "8285a2da",
   "metadata": {},
   "outputs": [
    {
     "name": "stdout",
     "output_type": "stream",
     "text": [
      "There are 0 rows with matching pattern in column 'info_1'.\n",
      "There are 442 rows with matching pattern in column 'info_2'.\n",
      "There are 2252 rows with matching pattern in column 'info_3'.\n",
      "There are 1060 rows with matching pattern in column 'info_4'.\n",
      "There are 69 rows with matching pattern in column 'info_5'.\n",
      "There are 5 rows with matching pattern in column 'info_6'.\n",
      "There are 0 rows with matching pattern in column 'info_7'.\n",
      "There are 0 rows with matching pattern in column 'info_8'.\n",
      "There are 0 rows with matching pattern in column 'info_9'.\n",
      "There are 0 rows with matching pattern in column 'info_10'.\n",
      "There are 0 rows with matching pattern in column 'info_11'.\n",
      "There are 24403 rows with matching pattern in column 'info_parenth'.\n"
     ]
    },
    {
     "data": {
      "text/html": [
       "<div>\n",
       "<style scoped>\n",
       "    .dataframe tbody tr th:only-of-type {\n",
       "        vertical-align: middle;\n",
       "    }\n",
       "\n",
       "    .dataframe tbody tr th {\n",
       "        vertical-align: top;\n",
       "    }\n",
       "\n",
       "    .dataframe thead th {\n",
       "        text-align: right;\n",
       "    }\n",
       "</style>\n",
       "<table border=\"1\" class=\"dataframe\">\n",
       "  <thead>\n",
       "    <tr style=\"text-align: right;\">\n",
       "      <th></th>\n",
       "      <th>day</th>\n",
       "      <th>name</th>\n",
       "      <th>info</th>\n",
       "      <th>link</th>\n",
       "      <th>num_references</th>\n",
       "      <th>year</th>\n",
       "      <th>month</th>\n",
       "      <th>info_parenth</th>\n",
       "      <th>info_1</th>\n",
       "      <th>info_2</th>\n",
       "      <th>info_3</th>\n",
       "      <th>info_4</th>\n",
       "      <th>info_5</th>\n",
       "      <th>info_6</th>\n",
       "      <th>info_7</th>\n",
       "      <th>info_8</th>\n",
       "      <th>info_9</th>\n",
       "      <th>info_10</th>\n",
       "      <th>info_11</th>\n",
       "      <th>age</th>\n",
       "      <th>cause_of_death</th>\n",
       "      <th>place_1</th>\n",
       "      <th>place_2</th>\n",
       "    </tr>\n",
       "  </thead>\n",
       "  <tbody>\n",
       "    <tr>\n",
       "      <th>110989</th>\n",
       "      <td>17</td>\n",
       "      <td>Iris Love</td>\n",
       "      <td>, 86, American archaeologist and dog breeder, COVID-19.</td>\n",
       "      <td>https://en.wikipedia.org/wiki/Iris_Love</td>\n",
       "      <td>16</td>\n",
       "      <td>2020</td>\n",
       "      <td>April</td>\n",
       "      <td>None</td>\n",
       "      <td>None</td>\n",
       "      <td>archaeologist and dog breeder</td>\n",
       "      <td>COVID 19</td>\n",
       "      <td>None</td>\n",
       "      <td>None</td>\n",
       "      <td>None</td>\n",
       "      <td>None</td>\n",
       "      <td>None</td>\n",
       "      <td>None</td>\n",
       "      <td>None</td>\n",
       "      <td>None</td>\n",
       "      <td>86.0</td>\n",
       "      <td>None</td>\n",
       "      <td>United States of America</td>\n",
       "      <td>None</td>\n",
       "    </tr>\n",
       "    <tr>\n",
       "      <th>102264</th>\n",
       "      <td>28</td>\n",
       "      <td>Alphonse D'Arco</td>\n",
       "      <td>, 86, American mobster, acting boss of the Lucchese crime family</td>\n",
       "      <td>https://en.wikipedia.org/wiki/Alphonse_D%27Arco</td>\n",
       "      <td>17</td>\n",
       "      <td>2019</td>\n",
       "      <td>March</td>\n",
       "      <td>1990 1991, kidney disease  death announced on this date</td>\n",
       "      <td>None</td>\n",
       "      <td>mobster</td>\n",
       "      <td>acting boss of the Lucchese crime family</td>\n",
       "      <td>None</td>\n",
       "      <td>None</td>\n",
       "      <td>None</td>\n",
       "      <td>None</td>\n",
       "      <td>None</td>\n",
       "      <td>None</td>\n",
       "      <td>None</td>\n",
       "      <td>None</td>\n",
       "      <td>86.0</td>\n",
       "      <td>None</td>\n",
       "      <td>United States of America</td>\n",
       "      <td>None</td>\n",
       "    </tr>\n",
       "  </tbody>\n",
       "</table>\n",
       "</div>"
      ],
      "text/plain": [
       "       day             name  \\\n",
       "110989  17        Iris Love   \n",
       "102264  28  Alphonse D'Arco   \n",
       "\n",
       "                                                                    info  \\\n",
       "110989           , 86, American archaeologist and dog breeder, COVID-19.   \n",
       "102264  , 86, American mobster, acting boss of the Lucchese crime family   \n",
       "\n",
       "                                                   link num_references  year  \\\n",
       "110989          https://en.wikipedia.org/wiki/Iris_Love             16  2020   \n",
       "102264  https://en.wikipedia.org/wiki/Alphonse_D%27Arco             17  2019   \n",
       "\n",
       "        month                                             info_parenth info_1  \\\n",
       "110989  April                                                     None   None   \n",
       "102264  March  1990 1991, kidney disease  death announced on this date   None   \n",
       "\n",
       "                               info_2  \\\n",
       "110989  archaeologist and dog breeder   \n",
       "102264                        mobster   \n",
       "\n",
       "                                          info_3 info_4 info_5 info_6 info_7  \\\n",
       "110989                                  COVID 19   None   None   None   None   \n",
       "102264  acting boss of the Lucchese crime family   None   None   None   None   \n",
       "\n",
       "       info_8 info_9 info_10 info_11   age cause_of_death  \\\n",
       "110989   None   None    None    None  86.0           None   \n",
       "102264   None   None    None    None  86.0           None   \n",
       "\n",
       "                         place_1 place_2  \n",
       "110989  United States of America    None  \n",
       "102264  United States of America    None  "
      ]
     },
     "execution_count": 11,
     "metadata": {},
     "output_type": "execute_result"
    },
    {
     "data": {
      "application/javascript": [
       "\n",
       "            setTimeout(function() {\n",
       "                var nbb_cell_id = 11;\n",
       "                var nbb_unformatted_code = \"# Regular expression for parenthesis and its contents\\npattern = r\\\"\\\\d\\\"\\n\\n# For loop to find indices of rows that have pattern\\nrows_combined = []\\nfor column in cols_lst:\\n    dataframe = df[df[column].notna()]\\n    rows_to_check = rows_with_pattern(dataframe, column, pattern)\\n    rows_combined += rows_to_check\\n\\n# Checking a sample of rows\\ndf.loc[rows_combined, :].sample(2)\";\n",
       "                var nbb_formatted_code = \"# Regular expression for parenthesis and its contents\\npattern = r\\\"\\\\d\\\"\\n\\n# For loop to find indices of rows that have pattern\\nrows_combined = []\\nfor column in cols_lst:\\n    dataframe = df[df[column].notna()]\\n    rows_to_check = rows_with_pattern(dataframe, column, pattern)\\n    rows_combined += rows_to_check\\n\\n# Checking a sample of rows\\ndf.loc[rows_combined, :].sample(2)\";\n",
       "                var nbb_cells = Jupyter.notebook.get_cells();\n",
       "                for (var i = 0; i < nbb_cells.length; ++i) {\n",
       "                    if (nbb_cells[i].input_prompt_number == nbb_cell_id) {\n",
       "                        if (nbb_cells[i].get_text() == nbb_unformatted_code) {\n",
       "                             nbb_cells[i].set_text(nbb_formatted_code);\n",
       "                        }\n",
       "                        break;\n",
       "                    }\n",
       "                }\n",
       "            }, 500);\n",
       "            "
      ],
      "text/plain": [
       "<IPython.core.display.Javascript object>"
      ]
     },
     "metadata": {},
     "output_type": "display_data"
    }
   ],
   "source": [
    "# Regular expression for parenthesis and its contents\n",
    "pattern = r\"\\d\"\n",
    "\n",
    "# For loop to find indices of rows that have pattern\n",
    "rows_combined = []\n",
    "for column in cols_lst:\n",
    "    dataframe = df[df[column].notna()]\n",
    "    rows_to_check = rows_with_pattern(dataframe, column, pattern)\n",
    "    rows_combined += rows_to_check\n",
    "\n",
    "# Checking a sample of rows\n",
    "df.loc[rows_combined, :].sample(2)"
   ]
  },
  {
   "cell_type": "code",
   "execution_count": 12,
   "id": "19c061b2",
   "metadata": {},
   "outputs": [
    {
     "name": "stdout",
     "output_type": "stream",
     "text": [
      "There are 0 rows with matching pattern in column 'info_1'.\n",
      "There are 0 rows with matching pattern in column 'info_2'.\n",
      "There are 0 rows with matching pattern in column 'info_3'.\n",
      "There are 0 rows with matching pattern in column 'info_4'.\n",
      "There are 0 rows with matching pattern in column 'info_5'.\n",
      "There are 0 rows with matching pattern in column 'info_6'.\n",
      "There are 0 rows with matching pattern in column 'info_7'.\n",
      "There are 0 rows with matching pattern in column 'info_8'.\n",
      "There are 0 rows with matching pattern in column 'info_9'.\n",
      "There are 0 rows with matching pattern in column 'info_10'.\n",
      "There are 0 rows with matching pattern in column 'info_11'.\n",
      "There are 0 rows with matching pattern in column 'info_parenth'.\n"
     ]
    },
    {
     "data": {
      "application/javascript": [
       "\n",
       "            setTimeout(function() {\n",
       "                var nbb_cell_id = 12;\n",
       "                var nbb_unformatted_code = \"# For loop to extract digits\\nfor column in cols_lst:\\n    for index in set(rows_combined):\\n        item = df.loc[index, column]\\n        if item:\\n            match = re.search(pattern, item)\\n            if match:\\n                df.loc[index, column] = re.sub(pattern, \\\"\\\", item)\\n\\n# Rechecking number and example rows after treatment\\n# For loop to find indices of rows that have pattern\\nrecheck_rows = []\\nfor column in cols_lst:\\n    dataframe = df[df[column].notna()]\\n    rows_to_check = rows_with_pattern(dataframe, column, pattern)\\n    recheck_rows += rows_to_check\";\n",
       "                var nbb_formatted_code = \"# For loop to extract digits\\nfor column in cols_lst:\\n    for index in set(rows_combined):\\n        item = df.loc[index, column]\\n        if item:\\n            match = re.search(pattern, item)\\n            if match:\\n                df.loc[index, column] = re.sub(pattern, \\\"\\\", item)\\n\\n# Rechecking number and example rows after treatment\\n# For loop to find indices of rows that have pattern\\nrecheck_rows = []\\nfor column in cols_lst:\\n    dataframe = df[df[column].notna()]\\n    rows_to_check = rows_with_pattern(dataframe, column, pattern)\\n    recheck_rows += rows_to_check\";\n",
       "                var nbb_cells = Jupyter.notebook.get_cells();\n",
       "                for (var i = 0; i < nbb_cells.length; ++i) {\n",
       "                    if (nbb_cells[i].input_prompt_number == nbb_cell_id) {\n",
       "                        if (nbb_cells[i].get_text() == nbb_unformatted_code) {\n",
       "                             nbb_cells[i].set_text(nbb_formatted_code);\n",
       "                        }\n",
       "                        break;\n",
       "                    }\n",
       "                }\n",
       "            }, 500);\n",
       "            "
      ],
      "text/plain": [
       "<IPython.core.display.Javascript object>"
      ]
     },
     "metadata": {},
     "output_type": "display_data"
    }
   ],
   "source": [
    "# For loop to extract digits\n",
    "for column in cols_lst:\n",
    "    for index in set(rows_combined):\n",
    "        item = df.loc[index, column]\n",
    "        if item:\n",
    "            match = re.search(pattern, item)\n",
    "            if match:\n",
    "                df.loc[index, column] = re.sub(pattern, \"\", item)\n",
    "\n",
    "# Rechecking number and example rows after treatment\n",
    "# For loop to find indices of rows that have pattern\n",
    "recheck_rows = []\n",
    "for column in cols_lst:\n",
    "    dataframe = df[df[column].notna()]\n",
    "    rows_to_check = rows_with_pattern(dataframe, column, pattern)\n",
    "    recheck_rows += rows_to_check"
   ]
  },
  {
   "cell_type": "markdown",
   "id": "ea69c397",
   "metadata": {},
   "source": [
    "#### Removing Any Remaining Matches with  `nation_map` Keys and Values"
   ]
  },
  {
   "cell_type": "code",
   "execution_count": 13,
   "id": "136a82f2",
   "metadata": {},
   "outputs": [
    {
     "name": "stdout",
     "output_type": "stream",
     "text": [
      "CPU times: total: 14min 4s\n",
      "Wall time: 14min 4s\n"
     ]
    },
    {
     "data": {
      "application/javascript": [
       "\n",
       "            setTimeout(function() {\n",
       "                var nbb_cell_id = 13;\n",
       "                var nbb_unformatted_code = \"%%time\\n\\n# For loop to extract remaining information matching items in nation_map\\nfor column in cols_lst:\\n    dataframe = df[df[column].notna()]\\n    for nationality, country in nation_map.items():\\n        for index in dataframe.index:\\n            item = df.loc[index, column]\\n            if item:\\n                if nationality in item or country in item:\\n                    df.loc[index, column] = item.replace(nationality, \\\"\\\").strip().replace(country,'').strip()\";\n",
       "                var nbb_formatted_code = \"%%time\\n\\n# For loop to extract remaining information matching items in nation_map\\nfor column in cols_lst:\\n    dataframe = df[df[column].notna()]\\n    for nationality, country in nation_map.items():\\n        for index in dataframe.index:\\n            item = df.loc[index, column]\\n            if item:\\n                if nationality in item or country in item:\\n                    df.loc[index, column] = item.replace(nationality, \\\"\\\").strip().replace(country,'').strip()\";\n",
       "                var nbb_cells = Jupyter.notebook.get_cells();\n",
       "                for (var i = 0; i < nbb_cells.length; ++i) {\n",
       "                    if (nbb_cells[i].input_prompt_number == nbb_cell_id) {\n",
       "                        if (nbb_cells[i].get_text() == nbb_unformatted_code) {\n",
       "                             nbb_cells[i].set_text(nbb_formatted_code);\n",
       "                        }\n",
       "                        break;\n",
       "                    }\n",
       "                }\n",
       "            }, 500);\n",
       "            "
      ],
      "text/plain": [
       "<IPython.core.display.Javascript object>"
      ]
     },
     "metadata": {},
     "output_type": "display_data"
    }
   ],
   "source": [
    "%%time\n",
    "\n",
    "# For loop to extract remaining information matching items in nation_map\n",
    "for column in cols_lst:\n",
    "    dataframe = df[df[column].notna()]\n",
    "    for nationality, country in nation_map.items():\n",
    "        for index in dataframe.index:\n",
    "            item = df.loc[index, column]\n",
    "            if item:\n",
    "                if nationality in item or country in item:\n",
    "                    df.loc[index, column] = item.replace(nationality, \"\").strip().replace(country,'').strip()"
   ]
  },
  {
   "cell_type": "markdown",
   "id": "1b904468",
   "metadata": {},
   "source": [
    "#### Observations:\n",
    "- After that bit of tidying, we can proceed to extracting `known_for` values.\n",
    "- The bulk of these values should be in `info_2`, according to the Wikipedia defined fields, so we will start there."
   ]
  },
  {
   "cell_type": "markdown",
   "id": "823bdc85",
   "metadata": {},
   "source": [
    "## Extracting `known_for` Data\n",
    "Our goal will be to have some broader categories into which the specific values will fit.  `known_for` is a diverse feature, in that an individual may be known for a long-term role or roles, a specific event, a relationship with another person who is famous, etc.  So, to some extent we will see what we find and adapt as we go."
   ]
  },
  {
   "cell_type": "code",
   "execution_count": 317,
   "id": "0fa9886a",
   "metadata": {},
   "outputs": [
    {
     "data": {
      "text/plain": [
       "448"
      ]
     },
     "execution_count": 317,
     "metadata": {},
     "output_type": "execute_result"
    },
    {
     "data": {
      "application/javascript": [
       "\n",
       "            setTimeout(function() {\n",
       "                var nbb_cell_id = 317;\n",
       "                var nbb_unformatted_code = \"# Obtaining values for column and their counts\\ncol_values = df[\\\"info_2\\\"].value_counts()\\n\\n# Creating a list for values that occur more than set number of time\\nroles_list = [index for index in col_values.index if col_values[index] > 30]\\n\\n# Checking length of list\\nlen(roles_list)\";\n",
       "                var nbb_formatted_code = \"# Obtaining values for column and their counts\\ncol_values = df[\\\"info_2\\\"].value_counts()\\n\\n# Creating a list for values that occur more than set number of time\\nroles_list = [index for index in col_values.index if col_values[index] > 30]\\n\\n# Checking length of list\\nlen(roles_list)\";\n",
       "                var nbb_cells = Jupyter.notebook.get_cells();\n",
       "                for (var i = 0; i < nbb_cells.length; ++i) {\n",
       "                    if (nbb_cells[i].input_prompt_number == nbb_cell_id) {\n",
       "                        if (nbb_cells[i].get_text() == nbb_unformatted_code) {\n",
       "                             nbb_cells[i].set_text(nbb_formatted_code);\n",
       "                        }\n",
       "                        break;\n",
       "                    }\n",
       "                }\n",
       "            }, 500);\n",
       "            "
      ],
      "text/plain": [
       "<IPython.core.display.Javascript object>"
      ]
     },
     "metadata": {},
     "output_type": "display_data"
    }
   ],
   "source": [
    "# Obtaining values for column and their counts\n",
    "col_values = df[\"info_2\"].value_counts()\n",
    "\n",
    "# Creating a list for values that occur more than set number of time\n",
    "roles_list = [index for index in col_values.index if col_values[index] > 30]\n",
    "\n",
    "# Checking length of list\n",
    "len(roles_list)"
   ]
  },
  {
   "cell_type": "code",
   "execution_count": 695,
   "id": "b487e6e7",
   "metadata": {},
   "outputs": [
    {
     "data": {
      "text/plain": [
       "'Olympic fencer'"
      ]
     },
     "execution_count": 695,
     "metadata": {},
     "output_type": "execute_result"
    },
    {
     "data": {
      "application/javascript": [
       "\n",
       "            setTimeout(function() {\n",
       "                var nbb_cell_id = 695;\n",
       "                var nbb_unformatted_code = \"# Using pop to check list items and add to associated dictionary below\\nroles_list.pop()\";\n",
       "                var nbb_formatted_code = \"# Using pop to check list items and add to associated dictionary below\\nroles_list.pop()\";\n",
       "                var nbb_cells = Jupyter.notebook.get_cells();\n",
       "                for (var i = 0; i < nbb_cells.length; ++i) {\n",
       "                    if (nbb_cells[i].input_prompt_number == nbb_cell_id) {\n",
       "                        if (nbb_cells[i].get_text() == nbb_unformatted_code) {\n",
       "                             nbb_cells[i].set_text(nbb_formatted_code);\n",
       "                        }\n",
       "                        break;\n",
       "                    }\n",
       "                }\n",
       "            }, 500);\n",
       "            "
      ],
      "text/plain": [
       "<IPython.core.display.Javascript object>"
      ]
     },
     "metadata": {},
     "output_type": "display_data"
    }
   ],
   "source": [
    "# Using pop to check list items and add to associated dictionary below\n",
    "roles_list.pop()"
   ]
  },
  {
   "cell_type": "code",
   "execution_count": 398,
   "id": "cdfbae52",
   "metadata": {},
   "outputs": [
    {
     "data": {
      "application/javascript": [
       "\n",
       "            setTimeout(function() {\n",
       "                var nbb_cell_id = 398;\n",
       "                var nbb_unformatted_code = \"politics_govt_law_related = set(\\n    [\\n        \\\"politician\\\",\\n        \\\"economist\\\",\\n        \\\"attorney\\\",\\n        \\\"trade unionist\\\",\\n        \\\"unionist\\\",\\n        \\\"aristocrat\\\",\\n        \\\"diplomat\\\",\\n        \\\"lawyer\\\",\\n        \\\"activist\\\",\\n        \\\"civil rights\\\",\\n        \\\"federal\\\",\\n        \\\"judge\\\",\\n        \\\"political\\\",\\n        \\\"politic\\\",\\n        \\\"royal\\\",\\n        \\\"civil servant\\\",\\n        \\\"jurist\\\",\\n        \\\"judge\\\",\\n        \\\"conservationist\\\",\\n        \\\"government official\\\",\\n        \\\"government\\\",\\n        'barrister'\\n    ]\\n)\\narts = set(\\n    [\\n        \\\"actor\\\",\\n        \\\"dancer\\\",\\n        \\\"choreographer\\\",\\n        \\\"model\\\",\\n        \\\"hockey\\\",\\n        \\\"soccer\\\",\\n        \\\"television\\\",\\n        \\\"jazz\\\",\\n        \\\"musicologist\\\",\\n        \\\"singer\\\",\\n        \\\"composer\\\",\\n        \\\"conductor\\\",\\n        \\\"journalist\\\",\\n        \\\"writer\\\",\\n        \\\"saxophonist\\\",\\n        \\\"film director\\\",\\n        \\\"comedian\\\",\\n        \\\"photojournalist\\\",\\n        \\\"poet\\\",\\n        \\\"actress\\\",\\n        \\\"film\\\",\\n        \\\"editor\\\",\\n        \\\"drummer\\\",\\n        \\\"producer\\\",\\n        \\\"songwriter\\\",\\n        \\\"publisher\\\",\\n        \\\"author\\\",\\n        \\\"violinist\\\",\\n        \\\"rapper\\\",\\n        \\\"musician\\\",\\n        \\\"animator\\\",\\n        \\\"filmmaker\\\",\\n        \\\"pianist\\\",\\n        \\\"historian\\\",\\n        \\\"comic\\\",\\n        \\\"screenwriter\\\",\\n        \\\"fashion\\\",\\n        \\\"designer\\\",\\n        \\\"guitarist\\\",\\n        \\\"voice\\\",\\n        \\\"opera\\\",\\n        \\\"cinematographer\\\",\\n        \\\"playwright\\\",\\n        \\\"cartoonist\\\",\\n        \\\"sculptor\\\",\\n        \\\"novelist\\\",\\n        \\\"photographer\\\",\\n        \\\"architect\\\",\\n        \\\"painter\\\",\\n        \\\"artist\\\",\\n        \\\"disc jockey\\\",\\n        \\\"dj\\\",\\n        \\\"DJ\\\",\\n        \\\"bridge player\\\",\\n        \\\"tenor\\\",\\n        'trombonist',\\n        'filmmaker',\\n        'ballerina',\\n        'bassist',\\n        'film critic',\\n        'critic',\\n        'personality'\\n    ]\\n)\\nsports = set(\\n    [\\n        \\\"football\\\",\\n        \\\"footballer\\\",\\n        \\\"Olympic\\\",\\n        \\\"skier\\\",\\n        \\\"cricket\\\",\\n        \\\"sportscaster\\\",\\n        \\\"soccer\\\",\\n        \\\"sprinter\\\",\\n        \\\"equestrian\\\",\\n        \\\"gymnast\\\",\\n        \\\"fencer\\\",\\n        \\\"chess\\\",\\n        \\\"wrestler\\\",\\n        \\\"swimmer\\\",\\n        \\\"basketball\\\",\\n        \\\"hurler\\\",\\n        \\\"racehorse\\\",\\n        \\\"sailor\\\",\\n        \\\"rower\\\",\\n        \\\"rugby\\\",\\n        \\\"athlete\\\",\\n        \\\"golfer\\\",\\n        \\\"boxer\\\",\\n        \\\"tennis\\\",\\n        \\\"cyclist\\\",\\n        \\\"racing\\\",\\n        \\\"driver\\\",\\n        \\\"cricketer\\\",\\n        \\\"baseball\\\",\\n        \\\"speedway rider\\\",\\n        \\\"speedway\\\",\\n        \\\"rider\\\",\\n        \\\"badminton\\\",\\n        \\\"sports broadcaster\\\",\\n        \\\"sport shooter\\\",\\n        'runner',\\n        'umpire',\\n        'sports',\\n        'judoka',\\n        'sportswriter',\\n        'volleyball',\\n        'track and field',\\n        'bobsledder'\\n        \\n        \\n        \\n    ]\\n)\\nsciences = set(\\n    [\\n        \\\"engineer\\\",\\n        \\\"physicist\\\",\\n        \\\"geologist\\\",\\n        \\\"psychiatrist\\\",\\n        \\\"botanist\\\",\\n        \\\"biologist\\\",\\n        \\\"anthropologist\\\",\\n        \\\"astronomer\\\",\\n        \\\"biochemist\\\",\\n        \\\"scientist\\\",\\n        \\\"computer\\\",\\n        \\\"archaeologist\\\",\\n        \\\"psychologist\\\",\\n        \\\"sociologist\\\",\\n        \\\"physician\\\",\\n        \\\"chemist\\\",\\n        \\\"physicist\\\",\\n        \\\"mathematician\\\",\\n        \\\"cosmonaut\\\",\\n        \\\"pediatrician\\\",\\n        \\\"astronaut\\\",\\n        \\\"entomologist\\\",\\n        'cardiologist',\\n        'doctor',\\n        'nurse'\\n    ]\\n)\\nbusiness = set([\\\"executive\\\", \\\"business\\\", \\\"businessman\\\", \\\"banker\\\", \\\"entrepreneur\\\"])\\nscholar_or_education = set(\\n    [\\n        \\\"scholar\\\",\\n        \\\"linguist\\\",\\n        \\\"educator\\\",\\n        \\\"philosopher\\\",\\n        \\\"academic\\\",\\n        \\\"historian\\\",\\n        \\\"educationalist\\\",\\n    ]\\n)\\nlaw_enf_or_military = set(\\n    [\\n        \\\"officer\\\",\\n        \\\"army\\\",\\n        \\\"Army\\\",\\n        \\\"general\\\",\\n        \\\"police\\\",\\n        \\\"admiral\\\",\\n        \\\"soldier\\\",\\n        \\\"Air Force\\\",\\n        \\\"intelligence\\\",\\n        'major',\\n        'lieutenant'\\n    ]\\n)\\nreligion = set(\\n    [\\n        \\\"rabbi\\\",\\n        \\\"Catholic\\\",\\n        \\\"priest\\\",\\n        \\\"Anglican\\\",\\n        \\\"cardinal\\\",\\n        \\\"theologian\\\",\\n        \\\"prelate\\\",\\n        \\\"Orthodox\\\",\\n        \\\"Episcopal\\\",\\n        \\\"bishop\\\",\\n        \\\"Jesuit\\\",\\n    ]\\n)\\nphilanthropy = set([\\\"philanthropist\\\"])\\ncrime = set([\\\"serial killer\\\", \\\"murderer\\\", \\\"convicted\\\", \\\"terrorist\\\"])\\nvictim = set(['Holocaust survivor'])\";\n",
       "                var nbb_formatted_code = \"politics_govt_law_related = set(\\n    [\\n        \\\"politician\\\",\\n        \\\"economist\\\",\\n        \\\"attorney\\\",\\n        \\\"trade unionist\\\",\\n        \\\"unionist\\\",\\n        \\\"aristocrat\\\",\\n        \\\"diplomat\\\",\\n        \\\"lawyer\\\",\\n        \\\"activist\\\",\\n        \\\"civil rights\\\",\\n        \\\"federal\\\",\\n        \\\"judge\\\",\\n        \\\"political\\\",\\n        \\\"politic\\\",\\n        \\\"royal\\\",\\n        \\\"civil servant\\\",\\n        \\\"jurist\\\",\\n        \\\"judge\\\",\\n        \\\"conservationist\\\",\\n        \\\"government official\\\",\\n        \\\"government\\\",\\n        \\\"barrister\\\",\\n    ]\\n)\\narts = set(\\n    [\\n        \\\"actor\\\",\\n        \\\"dancer\\\",\\n        \\\"choreographer\\\",\\n        \\\"model\\\",\\n        \\\"hockey\\\",\\n        \\\"soccer\\\",\\n        \\\"television\\\",\\n        \\\"jazz\\\",\\n        \\\"musicologist\\\",\\n        \\\"singer\\\",\\n        \\\"composer\\\",\\n        \\\"conductor\\\",\\n        \\\"journalist\\\",\\n        \\\"writer\\\",\\n        \\\"saxophonist\\\",\\n        \\\"film director\\\",\\n        \\\"comedian\\\",\\n        \\\"photojournalist\\\",\\n        \\\"poet\\\",\\n        \\\"actress\\\",\\n        \\\"film\\\",\\n        \\\"editor\\\",\\n        \\\"drummer\\\",\\n        \\\"producer\\\",\\n        \\\"songwriter\\\",\\n        \\\"publisher\\\",\\n        \\\"author\\\",\\n        \\\"violinist\\\",\\n        \\\"rapper\\\",\\n        \\\"musician\\\",\\n        \\\"animator\\\",\\n        \\\"filmmaker\\\",\\n        \\\"pianist\\\",\\n        \\\"historian\\\",\\n        \\\"comic\\\",\\n        \\\"screenwriter\\\",\\n        \\\"fashion\\\",\\n        \\\"designer\\\",\\n        \\\"guitarist\\\",\\n        \\\"voice\\\",\\n        \\\"opera\\\",\\n        \\\"cinematographer\\\",\\n        \\\"playwright\\\",\\n        \\\"cartoonist\\\",\\n        \\\"sculptor\\\",\\n        \\\"novelist\\\",\\n        \\\"photographer\\\",\\n        \\\"architect\\\",\\n        \\\"painter\\\",\\n        \\\"artist\\\",\\n        \\\"disc jockey\\\",\\n        \\\"dj\\\",\\n        \\\"DJ\\\",\\n        \\\"bridge player\\\",\\n        \\\"tenor\\\",\\n        \\\"trombonist\\\",\\n        \\\"filmmaker\\\",\\n        \\\"ballerina\\\",\\n        \\\"bassist\\\",\\n        \\\"film critic\\\",\\n        \\\"critic\\\",\\n        \\\"personality\\\",\\n    ]\\n)\\nsports = set(\\n    [\\n        \\\"football\\\",\\n        \\\"footballer\\\",\\n        \\\"Olympic\\\",\\n        \\\"skier\\\",\\n        \\\"cricket\\\",\\n        \\\"sportscaster\\\",\\n        \\\"soccer\\\",\\n        \\\"sprinter\\\",\\n        \\\"equestrian\\\",\\n        \\\"gymnast\\\",\\n        \\\"fencer\\\",\\n        \\\"chess\\\",\\n        \\\"wrestler\\\",\\n        \\\"swimmer\\\",\\n        \\\"basketball\\\",\\n        \\\"hurler\\\",\\n        \\\"racehorse\\\",\\n        \\\"sailor\\\",\\n        \\\"rower\\\",\\n        \\\"rugby\\\",\\n        \\\"athlete\\\",\\n        \\\"golfer\\\",\\n        \\\"boxer\\\",\\n        \\\"tennis\\\",\\n        \\\"cyclist\\\",\\n        \\\"racing\\\",\\n        \\\"driver\\\",\\n        \\\"cricketer\\\",\\n        \\\"baseball\\\",\\n        \\\"speedway rider\\\",\\n        \\\"speedway\\\",\\n        \\\"rider\\\",\\n        \\\"badminton\\\",\\n        \\\"sports broadcaster\\\",\\n        \\\"sport shooter\\\",\\n        \\\"runner\\\",\\n        \\\"umpire\\\",\\n        \\\"sports\\\",\\n        \\\"judoka\\\",\\n        \\\"sportswriter\\\",\\n        \\\"volleyball\\\",\\n        \\\"track and field\\\",\\n        \\\"bobsledder\\\",\\n    ]\\n)\\nsciences = set(\\n    [\\n        \\\"engineer\\\",\\n        \\\"physicist\\\",\\n        \\\"geologist\\\",\\n        \\\"psychiatrist\\\",\\n        \\\"botanist\\\",\\n        \\\"biologist\\\",\\n        \\\"anthropologist\\\",\\n        \\\"astronomer\\\",\\n        \\\"biochemist\\\",\\n        \\\"scientist\\\",\\n        \\\"computer\\\",\\n        \\\"archaeologist\\\",\\n        \\\"psychologist\\\",\\n        \\\"sociologist\\\",\\n        \\\"physician\\\",\\n        \\\"chemist\\\",\\n        \\\"physicist\\\",\\n        \\\"mathematician\\\",\\n        \\\"cosmonaut\\\",\\n        \\\"pediatrician\\\",\\n        \\\"astronaut\\\",\\n        \\\"entomologist\\\",\\n        \\\"cardiologist\\\",\\n        \\\"doctor\\\",\\n        \\\"nurse\\\",\\n    ]\\n)\\nbusiness = set([\\\"executive\\\", \\\"business\\\", \\\"businessman\\\", \\\"banker\\\", \\\"entrepreneur\\\"])\\nscholar_or_education = set(\\n    [\\n        \\\"scholar\\\",\\n        \\\"linguist\\\",\\n        \\\"educator\\\",\\n        \\\"philosopher\\\",\\n        \\\"academic\\\",\\n        \\\"historian\\\",\\n        \\\"educationalist\\\",\\n    ]\\n)\\nlaw_enf_or_military = set(\\n    [\\n        \\\"officer\\\",\\n        \\\"army\\\",\\n        \\\"Army\\\",\\n        \\\"general\\\",\\n        \\\"police\\\",\\n        \\\"admiral\\\",\\n        \\\"soldier\\\",\\n        \\\"Air Force\\\",\\n        \\\"intelligence\\\",\\n        \\\"major\\\",\\n        \\\"lieutenant\\\",\\n    ]\\n)\\nreligion = set(\\n    [\\n        \\\"rabbi\\\",\\n        \\\"Catholic\\\",\\n        \\\"priest\\\",\\n        \\\"Anglican\\\",\\n        \\\"cardinal\\\",\\n        \\\"theologian\\\",\\n        \\\"prelate\\\",\\n        \\\"Orthodox\\\",\\n        \\\"Episcopal\\\",\\n        \\\"bishop\\\",\\n        \\\"Jesuit\\\",\\n    ]\\n)\\nphilanthropy = set([\\\"philanthropist\\\"])\\ncrime = set([\\\"serial killer\\\", \\\"murderer\\\", \\\"convicted\\\", \\\"terrorist\\\"])\\nvictim = set([\\\"Holocaust survivor\\\"])\";\n",
       "                var nbb_cells = Jupyter.notebook.get_cells();\n",
       "                for (var i = 0; i < nbb_cells.length; ++i) {\n",
       "                    if (nbb_cells[i].input_prompt_number == nbb_cell_id) {\n",
       "                        if (nbb_cells[i].get_text() == nbb_unformatted_code) {\n",
       "                             nbb_cells[i].set_text(nbb_formatted_code);\n",
       "                        }\n",
       "                        break;\n",
       "                    }\n",
       "                }\n",
       "            }, 500);\n",
       "            "
      ],
      "text/plain": [
       "<IPython.core.display.Javascript object>"
      ]
     },
     "metadata": {},
     "output_type": "display_data"
    }
   ],
   "source": [
    "politics_govt_law_related = set(\n",
    "    [\n",
    "        \"politician\",\n",
    "        \"economist\",\n",
    "        \"attorney\",\n",
    "        \"trade unionist\",\n",
    "        \"unionist\",\n",
    "        \"aristocrat\",\n",
    "        \"diplomat\",\n",
    "        \"lawyer\",\n",
    "        \"activist\",\n",
    "        \"civil rights\",\n",
    "        \"federal\",\n",
    "        \"judge\",\n",
    "        \"political\",\n",
    "        \"politic\",\n",
    "        \"royal\",\n",
    "        \"civil servant\",\n",
    "        \"jurist\",\n",
    "        \"judge\",\n",
    "        \"conservationist\",\n",
    "        \"government official\",\n",
    "        \"government\",\n",
    "        \"barrister\",\n",
    "        'militant',\n",
    "        'environmentalist',\n",
    "        'public servant'\n",
    "    ]\n",
    ")\n",
    "arts = set(\n",
    "    [\n",
    "        \"actor\",\n",
    "        \"dancer\",\n",
    "        \"choreographer\",\n",
    "        \"model\",\n",
    "        \"hockey\",\n",
    "        \"soccer\",\n",
    "        \"television\",\n",
    "        \"jazz\",\n",
    "        \"singer\",\n",
    "        \"composer\",\n",
    "        \"conductor\",\n",
    "        \"journalist\",\n",
    "        \"writer\",\n",
    "        \"saxophonist\",\n",
    "        \"film director\",\n",
    "        \"comedian\",\n",
    "        \"photojournalist\",\n",
    "        \"poet\",\n",
    "        \"actress\",\n",
    "        \"film\",\n",
    "        \"editor\",\n",
    "        \"drummer\",\n",
    "        \"producer\",\n",
    "        \"songwriter\",\n",
    "        \"publisher\",\n",
    "        \"author\",\n",
    "        \"violinist\",\n",
    "        \"rapper\",\n",
    "        \"musician\",\n",
    "        \"animator\",\n",
    "        \"filmmaker\",\n",
    "        \"pianist\",\n",
    "        \"historian\",\n",
    "        \"comic\",\n",
    "        \"screenwriter\",\n",
    "        \"fashion\",\n",
    "        \"designer\",\n",
    "        \"guitarist\",\n",
    "        \"voice\",\n",
    "        \"opera\",\n",
    "        \"cinematographer\",\n",
    "        \"playwright\",\n",
    "        \"cartoonist\",\n",
    "        \"sculptor\",\n",
    "        \"novelist\",\n",
    "        \"photographer\",\n",
    "        \"architect\",\n",
    "        \"painter\",\n",
    "        \"artist\",\n",
    "        \"disc jockey\",\n",
    "        \"dj\",\n",
    "        \"DJ\",\n",
    "        \"bridge player\",\n",
    "        \"tenor\",\n",
    "        \"trombonist\",\n",
    "        \"filmmaker\",\n",
    "        \"ballerina\",\n",
    "        \"bassist\",\n",
    "        \"film critic\",\n",
    "        \"critic\",\n",
    "        \"personality\",\n",
    "        'organist',\n",
    "        'operatic',\n",
    "        'lyricist',\n",
    "        'translator',\n",
    "        'visual artist',\n",
    "        'soprano',\n",
    "        'cellist',\n",
    "        'broadcaster',\n",
    "        'chef',\n",
    "        'literary critic',\n",
    "        'ballet',\n",
    "        'illustrator',\n",
    "        'theatre director', \n",
    "        'trumpeter',\n",
    "        'presenter',\n",
    "        \"sportscaster\",\n",
    "\n",
    "    ]\n",
    ")\n",
    "sports = set(\n",
    "    [\n",
    "        \"football\",\n",
    "        \"footballer\",\n",
    "        \"Olympic\",\n",
    "        \"skier\",\n",
    "        \"cricket\",\n",
    "        \"soccer\",\n",
    "        \"sprinter\",\n",
    "        \"equestrian\",\n",
    "        \"gymnast\",\n",
    "        \"fencer\",\n",
    "        \"chess\",\n",
    "        \"wrestler\",\n",
    "        \"swimmer\",\n",
    "        \"basketball\",\n",
    "        \"hurler\",\n",
    "        \"racehorse\",\n",
    "        \"sailor\",\n",
    "        \"rower\",\n",
    "        \"rugby\",\n",
    "        \"athlete\",\n",
    "        \"golfer\",\n",
    "        \"boxer\",\n",
    "        \"tennis\",\n",
    "        \"cyclist\",\n",
    "        \"racing\",\n",
    "        \"driver\",\n",
    "        \"cricketer\",\n",
    "        \"baseball\",\n",
    "        \"speedway rider\",\n",
    "        \"speedway\",\n",
    "        \"rider\",\n",
    "        \"badminton\",\n",
    "        \"sport shooter\",\n",
    "        \"runner\",\n",
    "        \"umpire\",\n",
    "        \"sports\",\n",
    "        \"judoka\",\n",
    "        \"sportswriter\",\n",
    "        \"volleyball\",\n",
    "        \"track and field\",\n",
    "        \"bobsledder\",\n",
    "        'canoer',\n",
    "        'bodybuilder',\n",
    "        'skater',\n",
    "        'curler',\n",
    "        'Olympic diver',\n",
    "        'martial artist',\n",
    "        'racer', \n",
    "        'handball',\n",
    "        'ski jumper',\n",
    "        'racehorse trainer',\n",
    "        'racecar driver',\n",
    "        'hurdler',\n",
    "        'polo',\n",
    "        'Olympic shooter',\n",
    "        'weightlifter',\n",
    "        'Baseball',\n",
    "        'mountaineer',\n",
    "        'jockey',\n",
    "        'Olympic sports shooter',\n",
    "        'referee'\n",
    "    ]\n",
    ")\n",
    "sciences = set(\n",
    "    [\n",
    "        \"engineer\",\n",
    "        \"physicist\",\n",
    "        \"geologist\",\n",
    "        \"psychiatrist\",\n",
    "        \"botanist\",\n",
    "        \"biologist\",\n",
    "        \"anthropologist\",\n",
    "        \"astronomer\",\n",
    "        \"biochemist\",\n",
    "        \"scientist\",\n",
    "        \"computer\",\n",
    "        \"archaeologist\",\n",
    "        \"psychologist\",\n",
    "        \"sociologist\",\n",
    "        \"physician\",\n",
    "        \"chemist\",\n",
    "        \"physicist\",\n",
    "        \"mathematician\",\n",
    "        \"cosmonaut\",\n",
    "        \"pediatrician\",\n",
    "        \"astronaut\",\n",
    "        \"entomologist\",\n",
    "        \"cardiologist\",\n",
    "        \"doctor\",\n",
    "        \"nurse\",\n",
    "        'immunologist',\n",
    "        'meteorologist',\n",
    "        'medical researcher',\n",
    "        'ornithologist',\n",
    "        'neuroscientist',\n",
    "        'microbiologist',\n",
    "        'zoologist',\n",
    "        'geographer',\n",
    "        'inventor',\n",
    "        'geneticist',\n",
    "        'surgeon',\n",
    "        'astrophysicist',\n",
    "        'statistician',\n",
    "        \n",
    "        \n",
    "    ]\n",
    ")\n",
    "business = set([\"executive\", \"business\", \"businessman\", \"banker\", \"entrepreneur\", 'real estate developer','restaurateur', 'businesswoman'])\n",
    "scholar_academia_education = set(\n",
    "    [\n",
    "        \"scholar\",\n",
    "        \"linguist\",\n",
    "        \"educator\",\n",
    "        \"philosopher\",\n",
    "        \"academic\",\n",
    "        \"historian\",\n",
    "        \"educationalist\",\n",
    "        'philologist',\n",
    "        'librarian',\n",
    "        'industrialist',\n",
    "        'professor',\n",
    "        'musicologist'\n",
    "    ]\n",
    ")\n",
    "law_enf_military_operator = set(\n",
    "    [\n",
    "        \"officer\",\n",
    "        \"army\",\n",
    "        \"Army\",\n",
    "        \"general\",\n",
    "        \"police\",\n",
    "        \"admiral\",\n",
    "        \"soldier\",\n",
    "        \"Air Force\",\n",
    "        \"intelligence\",\n",
    "        \"major\",\n",
    "        \"lieutenant\",\n",
    "        'admiral',\n",
    "        'fighter pilot',\n",
    "        'pilot',\n",
    "        'naval',\n",
    "        'Navy',\n",
    "        'aviator'\n",
    "    ]\n",
    ")\n",
    "religion = set(\n",
    "    [\n",
    "        \"rabbi\",\n",
    "        \"Catholic\",\n",
    "        \"priest\",\n",
    "        \"Anglican\",\n",
    "        \"cardinal\",\n",
    "        \"theologian\",\n",
    "        \"prelate\",\n",
    "        \"Orthodox\",\n",
    "        \"Episcopal\",\n",
    "        \"bishop\",\n",
    "        \"Jesuit\",\n",
    "        'hierarch',\n",
    "        'Islamic',\n",
    "        'religious leader'\n",
    "    ]\n",
    ")\n",
    "social = set([\"philanthropist\", 'socialite'])\n",
    "crime = set([\"serial killer\", \"murderer\", \"convicted\", \"terrorist\", 'mobster', 'criminal'])\n",
    "victim = set([\"Holocaust survivor\"])\n",
    "age = set(['supercentenarian'])"
   ]
  },
  {
   "cell_type": "code",
   "execution_count": 45,
   "id": "8c4e1c39",
   "metadata": {},
   "outputs": [
    {
     "data": {
      "application/javascript": [
       "\n",
       "            setTimeout(function() {\n",
       "                var nbb_cell_id = 45;\n",
       "                var nbb_unformatted_code = \"# Initializing dictionary of known_for keys and list of values\\nknown_for_dict = {'government':['politician'], 'arts':['actor'], 'athletics':['football', 'Olympic', 'skier'], 'activism':['activist'],'STEM': ['engineer'],'business': ['executive']}\\n        \";\n",
       "                var nbb_formatted_code = \"# Initializing dictionary of known_for keys and list of values\\nknown_for_dict = {\\n    \\\"government\\\": [\\\"politician\\\"],\\n    \\\"arts\\\": [\\\"actor\\\"],\\n    \\\"athletics\\\": [\\\"football\\\", \\\"Olympic\\\", \\\"skier\\\"],\\n    \\\"activism\\\": [\\\"activist\\\"],\\n    \\\"STEM\\\": [\\\"engineer\\\"],\\n    \\\"business\\\": [\\\"executive\\\"],\\n}\";\n",
       "                var nbb_cells = Jupyter.notebook.get_cells();\n",
       "                for (var i = 0; i < nbb_cells.length; ++i) {\n",
       "                    if (nbb_cells[i].input_prompt_number == nbb_cell_id) {\n",
       "                        if (nbb_cells[i].get_text() == nbb_unformatted_code) {\n",
       "                             nbb_cells[i].set_text(nbb_formatted_code);\n",
       "                        }\n",
       "                        break;\n",
       "                    }\n",
       "                }\n",
       "            }, 500);\n",
       "            "
      ],
      "text/plain": [
       "<IPython.core.display.Javascript object>"
      ]
     },
     "metadata": {},
     "output_type": "display_data"
    }
   ],
   "source": [
    "\n",
    "\n",
    "\n",
    "\n"
   ]
  },
  {
   "cell_type": "code",
   "execution_count": null,
   "id": "6952d066",
   "metadata": {},
   "outputs": [],
   "source": []
  },
  {
   "cell_type": "code",
   "execution_count": null,
   "id": "bd42412a",
   "metadata": {},
   "outputs": [],
   "source": []
  },
  {
   "cell_type": "code",
   "execution_count": null,
   "id": "39e30d10",
   "metadata": {},
   "outputs": [],
   "source": []
  },
  {
   "cell_type": "code",
   "execution_count": null,
   "id": "5b68447b",
   "metadata": {},
   "outputs": [],
   "source": []
  },
  {
   "cell_type": "code",
   "execution_count": null,
   "id": "bb174c71",
   "metadata": {},
   "outputs": [],
   "source": []
  },
  {
   "cell_type": "code",
   "execution_count": null,
   "id": "712908e6",
   "metadata": {},
   "outputs": [],
   "source": []
  },
  {
   "cell_type": "code",
   "execution_count": null,
   "id": "6c5acd8e",
   "metadata": {},
   "outputs": [],
   "source": []
  },
  {
   "cell_type": "code",
   "execution_count": null,
   "id": "5d4bf41c",
   "metadata": {},
   "outputs": [],
   "source": []
  },
  {
   "cell_type": "code",
   "execution_count": null,
   "id": "56c53cbf",
   "metadata": {},
   "outputs": [],
   "source": []
  },
  {
   "cell_type": "code",
   "execution_count": null,
   "id": "d9e68bd1",
   "metadata": {},
   "outputs": [],
   "source": []
  },
  {
   "cell_type": "code",
   "execution_count": null,
   "id": "fd79990c",
   "metadata": {},
   "outputs": [],
   "source": []
  },
  {
   "cell_type": "code",
   "execution_count": null,
   "id": "f724409a",
   "metadata": {},
   "outputs": [],
   "source": []
  },
  {
   "cell_type": "code",
   "execution_count": null,
   "id": "08f611f3",
   "metadata": {},
   "outputs": [],
   "source": []
  },
  {
   "cell_type": "code",
   "execution_count": null,
   "id": "731064e2",
   "metadata": {},
   "outputs": [],
   "source": []
  },
  {
   "cell_type": "code",
   "execution_count": null,
   "id": "d6ea2408",
   "metadata": {},
   "outputs": [],
   "source": []
  },
  {
   "cell_type": "markdown",
   "id": "99ef4e07",
   "metadata": {},
   "source": [
    "#### Adding `known_for` Column"
   ]
  },
  {
   "cell_type": "code",
   "execution_count": 15,
   "id": "5655e942",
   "metadata": {},
   "outputs": [
    {
     "data": {
      "application/javascript": [
       "\n",
       "            setTimeout(function() {\n",
       "                var nbb_cell_id = 15;\n",
       "                var nbb_unformatted_code = \"# # Initializing known_for column\\n# df[\\\"known_for\\\"] = \\\"\\\"\";\n",
       "                var nbb_formatted_code = \"# # Initializing known_for column\\n# df[\\\"known_for\\\"] = \\\"\\\"\";\n",
       "                var nbb_cells = Jupyter.notebook.get_cells();\n",
       "                for (var i = 0; i < nbb_cells.length; ++i) {\n",
       "                    if (nbb_cells[i].input_prompt_number == nbb_cell_id) {\n",
       "                        if (nbb_cells[i].get_text() == nbb_unformatted_code) {\n",
       "                             nbb_cells[i].set_text(nbb_formatted_code);\n",
       "                        }\n",
       "                        break;\n",
       "                    }\n",
       "                }\n",
       "            }, 500);\n",
       "            "
      ],
      "text/plain": [
       "<IPython.core.display.Javascript object>"
      ]
     },
     "metadata": {},
     "output_type": "display_data"
    }
   ],
   "source": [
    "# # Initializing known_for column\n",
    "# df[\"known_for\"] = \"\""
   ]
  },
  {
   "cell_type": "markdown",
   "id": "4f946646",
   "metadata": {},
   "source": [
    "#### Dictionary of `known_for` Keys and List of Values"
   ]
  },
  {
   "cell_type": "code",
   "execution_count": 14,
   "id": "ef48c9a4",
   "metadata": {},
   "outputs": [
    {
     "data": {
      "application/javascript": [
       "\n",
       "            setTimeout(function() {\n",
       "                var nbb_cell_id = 14;\n",
       "                var nbb_unformatted_code = \"# # Initializing dictionary of known_for keys and list of values\\n# known_for_dict = {\\n#     \\\"relative\\\": [\\n#         \\\"wife of\\\",\\n#         \\\"husband of\\\",\\n#         \\\"sister of\\\",\\n#         \\\"brother of\\\",\\n#         \\\"mother of\\\",\\n#         \\\"father of\\\",\\n#         \\\"daughter of\\\",\\n#         \\\"son of\\\",\\n#         \\\"granddaughter of\\\",\\n#         \\\"grandson of\\\",\\n#         \\\"grandmother of\\\",\\n#         \\\"grandfather of\\\",\\n#         \\\"aunt of\\\",\\n#         \\\"uncle of\\\",\\n#     ]\\n# }\";\n",
       "                var nbb_formatted_code = \"# # Initializing dictionary of known_for keys and list of values\\n# known_for_dict = {\\n#     \\\"relative\\\": [\\n#         \\\"wife of\\\",\\n#         \\\"husband of\\\",\\n#         \\\"sister of\\\",\\n#         \\\"brother of\\\",\\n#         \\\"mother of\\\",\\n#         \\\"father of\\\",\\n#         \\\"daughter of\\\",\\n#         \\\"son of\\\",\\n#         \\\"granddaughter of\\\",\\n#         \\\"grandson of\\\",\\n#         \\\"grandmother of\\\",\\n#         \\\"grandfather of\\\",\\n#         \\\"aunt of\\\",\\n#         \\\"uncle of\\\",\\n#     ]\\n# }\";\n",
       "                var nbb_cells = Jupyter.notebook.get_cells();\n",
       "                for (var i = 0; i < nbb_cells.length; ++i) {\n",
       "                    if (nbb_cells[i].input_prompt_number == nbb_cell_id) {\n",
       "                        if (nbb_cells[i].get_text() == nbb_unformatted_code) {\n",
       "                             nbb_cells[i].set_text(nbb_formatted_code);\n",
       "                        }\n",
       "                        break;\n",
       "                    }\n",
       "                }\n",
       "            }, 500);\n",
       "            "
      ],
      "text/plain": [
       "<IPython.core.display.Javascript object>"
      ]
     },
     "metadata": {},
     "output_type": "display_data"
    }
   ],
   "source": [
    "# # Initializing dictionary of known_for keys and list of values\n",
    "# known_for_dict = {\n",
    "#     \"relative\": [\n",
    "#         \"wife of\",\n",
    "#         \"husband of\",\n",
    "#         \"sister of\",\n",
    "#         \"brother of\",\n",
    "#         \"mother of\",\n",
    "#         \"father of\",\n",
    "#         \"daughter of\",\n",
    "#         \"son of\",\n",
    "#         \"granddaughter of\",\n",
    "#         \"grandson of\",\n",
    "#         \"grandmother of\",\n",
    "#         \"grandfather of\",\n",
    "#         \"aunt of\",\n",
    "#         \"uncle of\",\n",
    "#     ]\n",
    "# }"
   ]
  },
  {
   "cell_type": "code",
   "execution_count": 16,
   "id": "15ed8c5c",
   "metadata": {},
   "outputs": [
    {
     "data": {
      "application/javascript": [
       "\n",
       "            setTimeout(function() {\n",
       "                var nbb_cell_id = 16;\n",
       "                var nbb_unformatted_code = \"# # Column to check\\n# column = \\\"info_2\\\"\\n\\n# # Extract to Column\\n# extract_to = \\\"known_for\\\"\\n\\n# # For loop to extract value from one column to another\\n# for key, value in known_for_dict.items():\\n#     for entry in value:\\n#         dataframe = df[(df[column].notna()) & (df[extract_to] == \\\"\\\")]\\n#         for index in dataframe.index:\\n#             item = df.loc[index, column]\\n#             if entry in item:\\n#                 df.loc[index, extract_to] = key\\n#                 df.loc[index, column] = item.replace(entry, \\\"\\\").strip()\\n\\n# # Check sample of rows\\n# df[df[extract_to] != \\\"\\\"]\";\n",
       "                var nbb_formatted_code = \"# # Column to check\\n# column = \\\"info_2\\\"\\n\\n# # Extract to Column\\n# extract_to = \\\"known_for\\\"\\n\\n# # For loop to extract value from one column to another\\n# for key, value in known_for_dict.items():\\n#     for entry in value:\\n#         dataframe = df[(df[column].notna()) & (df[extract_to] == \\\"\\\")]\\n#         for index in dataframe.index:\\n#             item = df.loc[index, column]\\n#             if entry in item:\\n#                 df.loc[index, extract_to] = key\\n#                 df.loc[index, column] = item.replace(entry, \\\"\\\").strip()\\n\\n# # Check sample of rows\\n# df[df[extract_to] != \\\"\\\"]\";\n",
       "                var nbb_cells = Jupyter.notebook.get_cells();\n",
       "                for (var i = 0; i < nbb_cells.length; ++i) {\n",
       "                    if (nbb_cells[i].input_prompt_number == nbb_cell_id) {\n",
       "                        if (nbb_cells[i].get_text() == nbb_unformatted_code) {\n",
       "                             nbb_cells[i].set_text(nbb_formatted_code);\n",
       "                        }\n",
       "                        break;\n",
       "                    }\n",
       "                }\n",
       "            }, 500);\n",
       "            "
      ],
      "text/plain": [
       "<IPython.core.display.Javascript object>"
      ]
     },
     "metadata": {},
     "output_type": "display_data"
    }
   ],
   "source": [
    "# # Column to check\n",
    "# column = \"info_2\"\n",
    "\n",
    "# # Extract to Column\n",
    "# extract_to = \"known_for\"\n",
    "\n",
    "# # For loop to extract value from one column to another\n",
    "# for key, value in known_for_dict.items():\n",
    "#     for entry in value:\n",
    "#         dataframe = df[(df[column].notna()) & (df[extract_to] == \"\")]\n",
    "#         for index in dataframe.index:\n",
    "#             item = df.loc[index, column]\n",
    "#             if entry in item:\n",
    "#                 df.loc[index, extract_to] = key\n",
    "#                 df.loc[index, column] = item.replace(entry, \"\").strip()\n",
    "\n",
    "# # Check sample of rows\n",
    "# df[df[extract_to] != \"\"]"
   ]
  },
  {
   "cell_type": "code",
   "execution_count": 17,
   "id": "23fc3948",
   "metadata": {},
   "outputs": [
    {
     "name": "stdout",
     "output_type": "stream",
     "text": [
      "dunzo!\n"
     ]
    },
    {
     "data": {
      "application/javascript": [
       "\n",
       "            setTimeout(function() {\n",
       "                var nbb_cell_id = 17;\n",
       "                var nbb_unformatted_code = \"print(\\\"dunzo!\\\")\\nchime.success()\";\n",
       "                var nbb_formatted_code = \"print(\\\"dunzo!\\\")\\nchime.success()\";\n",
       "                var nbb_cells = Jupyter.notebook.get_cells();\n",
       "                for (var i = 0; i < nbb_cells.length; ++i) {\n",
       "                    if (nbb_cells[i].input_prompt_number == nbb_cell_id) {\n",
       "                        if (nbb_cells[i].get_text() == nbb_unformatted_code) {\n",
       "                             nbb_cells[i].set_text(nbb_formatted_code);\n",
       "                        }\n",
       "                        break;\n",
       "                    }\n",
       "                }\n",
       "            }, 500);\n",
       "            "
      ],
      "text/plain": [
       "<IPython.core.display.Javascript object>"
      ]
     },
     "metadata": {},
     "output_type": "display_data"
    }
   ],
   "source": [
    "print(\"dunzo!\")\n",
    "chime.success()"
   ]
  },
  {
   "cell_type": "code",
   "execution_count": null,
   "id": "734c1b6e",
   "metadata": {},
   "outputs": [],
   "source": []
  }
 ],
 "metadata": {
  "kernelspec": {
   "display_name": "Python 3 (ipykernel)",
   "language": "python",
   "name": "python3"
  },
  "language_info": {
   "codemirror_mode": {
    "name": "ipython",
    "version": 3
   },
   "file_extension": ".py",
   "mimetype": "text/x-python",
   "name": "python",
   "nbconvert_exporter": "python",
   "pygments_lexer": "ipython3",
   "version": "3.9.12"
  }
 },
 "nbformat": 4,
 "nbformat_minor": 5
}
