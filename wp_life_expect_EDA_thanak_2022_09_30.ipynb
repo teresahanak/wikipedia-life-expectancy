{
 "cells": [
  {
   "cell_type": "markdown",
   "id": "316a0779",
   "metadata": {},
   "source": [
    "# Wikipedia Notable Life Expectancies\n",
    "## [Notebook 10: Exploratory Data Analysis](https://github.com/teresahanak/wikipedia-life-expectancy/blob/main/wp_life_expect_EDA_thanak_2022_09_30.ipynb)\n",
    "### Context\n",
    "\n",
    "The\n",
    "### Objective\n",
    "\n",
    "The\n",
    "### Data Dictionary\n",
    "- **day**: Reported day of month of death\n",
    "- **name**: Name of individual\n",
    "- **info**: Original Wikipedia information fields for the individual from Wikipedia Notable Deaths' List page (\"age, country of citizenship at birth, subsequent country of citizenship (if applicable), reason for notability, and cause of death (if known)\"\n",
    "- **link**: Link to the individual's page\n",
    "- **num_references**: Number of references on the individual's page (a proxy for notability)\n",
    "- **year**: Reported year of death\n",
    "- **month**: Reported month of death\n",
    "- **info_parenth**: Additional information for individual that was extracted from info because it was in parentheses\n",
    "- **age**: Reported age in integer years at death*\n",
    "- **cause_of_death**: Reported cause of death\n",
    "- **place_1**: Country of citizenship at birth\n",
    "- **place_2**: Subsequent country of citizenship (if applicable)\n",
    "- **known for** categories: 0 (No) or 1 (Yes) value if individual's reported known-for role(s) is within the category. Mutliple categories are possible.† \n",
    "        - sciences\n",
    "        - social\n",
    "        - spiritual\n",
    "        - academia_humanities\n",
    "        - business_farming\n",
    "        - arts\n",
    "        - sports\n",
    "        - law_enf_military_operator \n",
    "        - politics_govt_law\n",
    "        - crime\n",
    "        - event_record_other\n",
    "        - other_species\n",
    "- **num_categories**: Total **num_categories** for individual\n",
    "\n",
    "    \\* For age reported in a two-value estimated range, **age** reflects the arithmetic mean.  Reported estimated values of a single number reflect that number, while estimates covering a decade (e.g., 80's) were converted to the middle of the decade (i.e., 85).  The vast majority of entries for **age** reflect the single integer value that was reported.  \n",
    "    \n",
    "    † See Appendix A for further category definitions and decision-making regarding role categorization."
   ]
  },
  {
   "cell_type": "markdown",
   "id": "99245d51",
   "metadata": {},
   "source": [
    "### Importing Libraries"
   ]
  },
  {
   "cell_type": "code",
   "execution_count": 1,
   "id": "453bba83",
   "metadata": {},
   "outputs": [
    {
     "data": {
      "application/javascript": [
       "\n",
       "            setTimeout(function() {\n",
       "                var nbb_cell_id = 1;\n",
       "                var nbb_unformatted_code = \"# To structure code automatically\\n%load_ext nb_black\\n\\n# To import/export sqlite databases\\nimport sqlite3 as sql\\n\\n# To save/open python objects in pickle file\\n# import pickle\\n\\n# To help with reading, cleaning, and manipulating data\\nimport pandas as pd\\nimport numpy as np\\n\\n# To help with data visualization\\nimport matplotlib.pyplot as plt\\nimport seaborn as sns\\n\\n# To split dataset into train and test sets\\nfrom sklearn.model_selection import train_test_split\\n\\n# To define maximum number of columns to be displayed in a dataframe\\npd.set_option(\\\"display.max_columns\\\", None)\\n# To define the maximum number of rows to be displayed in a dataframe\\npd.set_option(\\\"display.max_rows\\\", 211)\\n\\n# To set some dataframe visualization attributes\\npd.set_option(\\\"max_colwidth\\\", 150)\\n\\n# To supress scientific notations for a dataframe\\npd.set_option(\\\"display.float_format\\\", lambda x: \\\"%.3f\\\" % x)\\n\\n# To supress warnings\\n# import warnings\\n\\n# warnings.filterwarnings(\\\"ignore\\\")\\n\\n# To set some plot visualization attributes\\nsns.set_theme()\\nsns.set_palette(\\n    (\\n        \\\"midnightblue\\\",\\n        \\\"goldenrod\\\",\\n        \\\"maroon\\\",\\n        \\\"darkolivegreen\\\",\\n        \\\"cadetblue\\\",\\n        \\\"tab:purple\\\",\\n        \\\"yellowgreen\\\",\\n    )\\n)\\nplt.rc(\\\"font\\\", size=12)\\nplt.rc(\\\"axes\\\", titlesize=15)\\nplt.rc(\\\"axes\\\", labelsize=14)\\nplt.rc(\\\"xtick\\\", labelsize=13)\\nplt.rc(\\\"ytick\\\", labelsize=13)\\nplt.rc(\\\"legend\\\", fontsize=13)\\nplt.rc(\\\"legend\\\", fontsize=14)\\nplt.rc(\\\"figure\\\", titlesize=16)\\n\\n# To play auditory cue when cell has executed, has warning, or has error and set chime theme\\nimport chime\\n\\nchime.theme(\\\"zelda\\\")\";\n",
       "                var nbb_formatted_code = \"# To structure code automatically\\n%load_ext nb_black\\n\\n# To import/export sqlite databases\\nimport sqlite3 as sql\\n\\n# To save/open python objects in pickle file\\n# import pickle\\n\\n# To help with reading, cleaning, and manipulating data\\nimport pandas as pd\\nimport numpy as np\\n\\n# To help with data visualization\\nimport matplotlib.pyplot as plt\\nimport seaborn as sns\\n\\n# To split dataset into train and test sets\\nfrom sklearn.model_selection import train_test_split\\n\\n# To define maximum number of columns to be displayed in a dataframe\\npd.set_option(\\\"display.max_columns\\\", None)\\n# To define the maximum number of rows to be displayed in a dataframe\\npd.set_option(\\\"display.max_rows\\\", 211)\\n\\n# To set some dataframe visualization attributes\\npd.set_option(\\\"max_colwidth\\\", 150)\\n\\n# To supress scientific notations for a dataframe\\npd.set_option(\\\"display.float_format\\\", lambda x: \\\"%.3f\\\" % x)\\n\\n# To supress warnings\\n# import warnings\\n\\n# warnings.filterwarnings(\\\"ignore\\\")\\n\\n# To set some plot visualization attributes\\nsns.set_theme()\\nsns.set_palette(\\n    (\\n        \\\"midnightblue\\\",\\n        \\\"goldenrod\\\",\\n        \\\"maroon\\\",\\n        \\\"darkolivegreen\\\",\\n        \\\"cadetblue\\\",\\n        \\\"tab:purple\\\",\\n        \\\"yellowgreen\\\",\\n    )\\n)\\nplt.rc(\\\"font\\\", size=12)\\nplt.rc(\\\"axes\\\", titlesize=15)\\nplt.rc(\\\"axes\\\", labelsize=14)\\nplt.rc(\\\"xtick\\\", labelsize=13)\\nplt.rc(\\\"ytick\\\", labelsize=13)\\nplt.rc(\\\"legend\\\", fontsize=13)\\nplt.rc(\\\"legend\\\", fontsize=14)\\nplt.rc(\\\"figure\\\", titlesize=16)\\n\\n# To play auditory cue when cell has executed, has warning, or has error and set chime theme\\nimport chime\\n\\nchime.theme(\\\"zelda\\\")\";\n",
       "                var nbb_cells = Jupyter.notebook.get_cells();\n",
       "                for (var i = 0; i < nbb_cells.length; ++i) {\n",
       "                    if (nbb_cells[i].input_prompt_number == nbb_cell_id) {\n",
       "                        if (nbb_cells[i].get_text() == nbb_unformatted_code) {\n",
       "                             nbb_cells[i].set_text(nbb_formatted_code);\n",
       "                        }\n",
       "                        break;\n",
       "                    }\n",
       "                }\n",
       "            }, 500);\n",
       "            "
      ],
      "text/plain": [
       "<IPython.core.display.Javascript object>"
      ]
     },
     "metadata": {},
     "output_type": "display_data"
    }
   ],
   "source": [
    "# To structure code automatically\n",
    "%load_ext nb_black\n",
    "\n",
    "# To import/export sqlite databases\n",
    "import sqlite3 as sql\n",
    "\n",
    "# To save/open python objects in pickle file\n",
    "# import pickle\n",
    "\n",
    "# To help with reading, cleaning, and manipulating data\n",
    "import pandas as pd\n",
    "import numpy as np\n",
    "\n",
    "# To help with data visualization\n",
    "import matplotlib.pyplot as plt\n",
    "import seaborn as sns\n",
    "\n",
    "# To split dataset into train and test sets\n",
    "from sklearn.model_selection import train_test_split\n",
    "\n",
    "# To define maximum number of columns to be displayed in a dataframe\n",
    "pd.set_option(\"display.max_columns\", None)\n",
    "# To define the maximum number of rows to be displayed in a dataframe\n",
    "pd.set_option(\"display.max_rows\", 211)\n",
    "\n",
    "# To set some dataframe visualization attributes\n",
    "pd.set_option(\"max_colwidth\", 150)\n",
    "\n",
    "# To supress scientific notations for a dataframe\n",
    "pd.set_option(\"display.float_format\", lambda x: \"%.3f\" % x)\n",
    "\n",
    "# To supress warnings\n",
    "# import warnings\n",
    "\n",
    "# warnings.filterwarnings(\"ignore\")\n",
    "\n",
    "# To set some plot visualization attributes\n",
    "sns.set_theme()\n",
    "sns.set_palette(\n",
    "    (\n",
    "        \"midnightblue\",\n",
    "        \"goldenrod\",\n",
    "        \"maroon\",\n",
    "        \"darkolivegreen\",\n",
    "        \"cadetblue\",\n",
    "        \"tab:purple\",\n",
    "        \"yellowgreen\",\n",
    "    )\n",
    ")\n",
    "plt.rc(\"font\", size=12)\n",
    "plt.rc(\"axes\", titlesize=15)\n",
    "plt.rc(\"axes\", labelsize=14)\n",
    "plt.rc(\"xtick\", labelsize=13)\n",
    "plt.rc(\"ytick\", labelsize=13)\n",
    "plt.rc(\"legend\", fontsize=13)\n",
    "plt.rc(\"legend\", fontsize=14)\n",
    "plt.rc(\"figure\", titlesize=16)\n",
    "\n",
    "# To play auditory cue when cell has executed, has warning, or has error and set chime theme\n",
    "import chime\n",
    "\n",
    "chime.theme(\"zelda\")"
   ]
  },
  {
   "cell_type": "markdown",
   "id": "cc818a82",
   "metadata": {},
   "source": [
    "## Data Overview"
   ]
  },
  {
   "cell_type": "markdown",
   "id": "0ed005f6",
   "metadata": {},
   "source": [
    "### [Reading](https://github.com/teresahanak/wikipedia-life-expectancy/blob/main/wp_life_expect_clean8.db), Sampling, and Checking Data Shape"
   ]
  },
  {
   "cell_type": "code",
   "execution_count": 2,
   "id": "0ca58a95",
   "metadata": {},
   "outputs": [
    {
     "name": "stdout",
     "output_type": "stream",
     "text": [
      "There are 98038 rows and 25 columns.\n"
     ]
    },
    {
     "data": {
      "text/html": [
       "<div>\n",
       "<style scoped>\n",
       "    .dataframe tbody tr th:only-of-type {\n",
       "        vertical-align: middle;\n",
       "    }\n",
       "\n",
       "    .dataframe tbody tr th {\n",
       "        vertical-align: top;\n",
       "    }\n",
       "\n",
       "    .dataframe thead th {\n",
       "        text-align: right;\n",
       "    }\n",
       "</style>\n",
       "<table border=\"1\" class=\"dataframe\">\n",
       "  <thead>\n",
       "    <tr style=\"text-align: right;\">\n",
       "      <th></th>\n",
       "      <th>day</th>\n",
       "      <th>name</th>\n",
       "      <th>info</th>\n",
       "      <th>link</th>\n",
       "      <th>num_references</th>\n",
       "      <th>year</th>\n",
       "      <th>month</th>\n",
       "      <th>info_parenth</th>\n",
       "      <th>age</th>\n",
       "      <th>cause_of_death</th>\n",
       "      <th>place_1</th>\n",
       "      <th>place_2</th>\n",
       "      <th>sciences</th>\n",
       "      <th>social</th>\n",
       "      <th>spiritual</th>\n",
       "      <th>academia_humanities</th>\n",
       "      <th>business_farming</th>\n",
       "      <th>arts</th>\n",
       "      <th>sports</th>\n",
       "      <th>law_enf_military_operator</th>\n",
       "      <th>politics_govt_law</th>\n",
       "      <th>crime</th>\n",
       "      <th>event_record_other</th>\n",
       "      <th>other_species</th>\n",
       "      <th>num_categories</th>\n",
       "    </tr>\n",
       "  </thead>\n",
       "  <tbody>\n",
       "    <tr>\n",
       "      <th>0</th>\n",
       "      <td>1</td>\n",
       "      <td>William Chappell</td>\n",
       "      <td>, 86, British dancer, ballet designer and director.</td>\n",
       "      <td>https://en.wikipedia.org/wiki/William_Chappell_(dancer)</td>\n",
       "      <td>21</td>\n",
       "      <td>1994</td>\n",
       "      <td>January</td>\n",
       "      <td>None</td>\n",
       "      <td>86.000</td>\n",
       "      <td>None</td>\n",
       "      <td>United Kingdom of Great Britain and Northern Ireland</td>\n",
       "      <td>None</td>\n",
       "      <td>0</td>\n",
       "      <td>0</td>\n",
       "      <td>0</td>\n",
       "      <td>0</td>\n",
       "      <td>0</td>\n",
       "      <td>1</td>\n",
       "      <td>0</td>\n",
       "      <td>0</td>\n",
       "      <td>0</td>\n",
       "      <td>0</td>\n",
       "      <td>0</td>\n",
       "      <td>0</td>\n",
       "      <td>1</td>\n",
       "    </tr>\n",
       "    <tr>\n",
       "      <th>1</th>\n",
       "      <td>1</td>\n",
       "      <td>Raymond Crotty</td>\n",
       "      <td>, 68, Irish economist, writer, and academic.</td>\n",
       "      <td>https://en.wikipedia.org/wiki/Raymond_Crotty</td>\n",
       "      <td>12</td>\n",
       "      <td>1994</td>\n",
       "      <td>January</td>\n",
       "      <td>None</td>\n",
       "      <td>68.000</td>\n",
       "      <td>None</td>\n",
       "      <td>Ireland</td>\n",
       "      <td>None</td>\n",
       "      <td>0</td>\n",
       "      <td>0</td>\n",
       "      <td>0</td>\n",
       "      <td>1</td>\n",
       "      <td>0</td>\n",
       "      <td>1</td>\n",
       "      <td>0</td>\n",
       "      <td>0</td>\n",
       "      <td>1</td>\n",
       "      <td>0</td>\n",
       "      <td>0</td>\n",
       "      <td>0</td>\n",
       "      <td>3</td>\n",
       "    </tr>\n",
       "  </tbody>\n",
       "</table>\n",
       "</div>"
      ],
      "text/plain": [
       "  day              name                                                 info  \\\n",
       "0   1  William Chappell  , 86, British dancer, ballet designer and director.   \n",
       "1   1    Raymond Crotty         , 68, Irish economist, writer, and academic.   \n",
       "\n",
       "                                                      link  num_references  \\\n",
       "0  https://en.wikipedia.org/wiki/William_Chappell_(dancer)              21   \n",
       "1             https://en.wikipedia.org/wiki/Raymond_Crotty              12   \n",
       "\n",
       "   year    month info_parenth    age cause_of_death  \\\n",
       "0  1994  January         None 86.000           None   \n",
       "1  1994  January         None 68.000           None   \n",
       "\n",
       "                                                place_1 place_2  sciences  \\\n",
       "0  United Kingdom of Great Britain and Northern Ireland    None         0   \n",
       "1                                               Ireland    None         0   \n",
       "\n",
       "   social  spiritual  academia_humanities  business_farming  arts  sports  \\\n",
       "0       0          0                    0                 0     1       0   \n",
       "1       0          0                    1                 0     1       0   \n",
       "\n",
       "   law_enf_military_operator  politics_govt_law  crime  event_record_other  \\\n",
       "0                          0                  0      0                   0   \n",
       "1                          0                  1      0                   0   \n",
       "\n",
       "   other_species  num_categories  \n",
       "0              0               1  \n",
       "1              0               3  "
      ]
     },
     "execution_count": 2,
     "metadata": {},
     "output_type": "execute_result"
    },
    {
     "data": {
      "application/javascript": [
       "\n",
       "            setTimeout(function() {\n",
       "                var nbb_cell_id = 2;\n",
       "                var nbb_unformatted_code = \"# Reading the dataset\\nconn = sql.connect(\\\"wp_life_expect_clean8.db\\\")\\ndata_initial = pd.read_sql(\\\"SELECT * FROM wp_life_expect_clean8\\\", conn)\\n\\n# Making a working copy\\ndf = data_initial.copy()\\n\\n# Checking the shape\\nprint(f\\\"There are {df.shape[0]} rows and {df.shape[1]} columns.\\\")\\n\\n# Checking first 2 rows of the data\\ndf.head(2)\";\n",
       "                var nbb_formatted_code = \"# Reading the dataset\\nconn = sql.connect(\\\"wp_life_expect_clean8.db\\\")\\ndata_initial = pd.read_sql(\\\"SELECT * FROM wp_life_expect_clean8\\\", conn)\\n\\n# Making a working copy\\ndf = data_initial.copy()\\n\\n# Checking the shape\\nprint(f\\\"There are {df.shape[0]} rows and {df.shape[1]} columns.\\\")\\n\\n# Checking first 2 rows of the data\\ndf.head(2)\";\n",
       "                var nbb_cells = Jupyter.notebook.get_cells();\n",
       "                for (var i = 0; i < nbb_cells.length; ++i) {\n",
       "                    if (nbb_cells[i].input_prompt_number == nbb_cell_id) {\n",
       "                        if (nbb_cells[i].get_text() == nbb_unformatted_code) {\n",
       "                             nbb_cells[i].set_text(nbb_formatted_code);\n",
       "                        }\n",
       "                        break;\n",
       "                    }\n",
       "                }\n",
       "            }, 500);\n",
       "            "
      ],
      "text/plain": [
       "<IPython.core.display.Javascript object>"
      ]
     },
     "metadata": {},
     "output_type": "display_data"
    }
   ],
   "source": [
    "# Reading the dataset\n",
    "conn = sql.connect(\"wp_life_expect_clean8.db\")\n",
    "data_initial = pd.read_sql(\"SELECT * FROM wp_life_expect_clean8\", conn)\n",
    "\n",
    "# Making a working copy\n",
    "df = data_initial.copy()\n",
    "\n",
    "# Checking the shape\n",
    "print(f\"There are {df.shape[0]} rows and {df.shape[1]} columns.\")\n",
    "\n",
    "# Checking first 2 rows of the data\n",
    "df.head(2)"
   ]
  },
  {
   "cell_type": "code",
   "execution_count": 3,
   "id": "6cca416f",
   "metadata": {},
   "outputs": [
    {
     "data": {
      "text/html": [
       "<div>\n",
       "<style scoped>\n",
       "    .dataframe tbody tr th:only-of-type {\n",
       "        vertical-align: middle;\n",
       "    }\n",
       "\n",
       "    .dataframe tbody tr th {\n",
       "        vertical-align: top;\n",
       "    }\n",
       "\n",
       "    .dataframe thead th {\n",
       "        text-align: right;\n",
       "    }\n",
       "</style>\n",
       "<table border=\"1\" class=\"dataframe\">\n",
       "  <thead>\n",
       "    <tr style=\"text-align: right;\">\n",
       "      <th></th>\n",
       "      <th>day</th>\n",
       "      <th>name</th>\n",
       "      <th>info</th>\n",
       "      <th>link</th>\n",
       "      <th>num_references</th>\n",
       "      <th>year</th>\n",
       "      <th>month</th>\n",
       "      <th>info_parenth</th>\n",
       "      <th>age</th>\n",
       "      <th>cause_of_death</th>\n",
       "      <th>place_1</th>\n",
       "      <th>place_2</th>\n",
       "      <th>sciences</th>\n",
       "      <th>social</th>\n",
       "      <th>spiritual</th>\n",
       "      <th>academia_humanities</th>\n",
       "      <th>business_farming</th>\n",
       "      <th>arts</th>\n",
       "      <th>sports</th>\n",
       "      <th>law_enf_military_operator</th>\n",
       "      <th>politics_govt_law</th>\n",
       "      <th>crime</th>\n",
       "      <th>event_record_other</th>\n",
       "      <th>other_species</th>\n",
       "      <th>num_categories</th>\n",
       "    </tr>\n",
       "  </thead>\n",
       "  <tbody>\n",
       "    <tr>\n",
       "      <th>98036</th>\n",
       "      <td>9</td>\n",
       "      <td>Aamir Liaquat Hussain</td>\n",
       "      <td>, 50, Pakistani journalist and politician, MNA .</td>\n",
       "      <td>https://en.wikipedia.org/wiki/Aamir_Liaquat_Hussain</td>\n",
       "      <td>99</td>\n",
       "      <td>2022</td>\n",
       "      <td>June</td>\n",
       "      <td>2002 2007, since 2018</td>\n",
       "      <td>50.000</td>\n",
       "      <td>None</td>\n",
       "      <td>Pakistan</td>\n",
       "      <td>None</td>\n",
       "      <td>0</td>\n",
       "      <td>0</td>\n",
       "      <td>0</td>\n",
       "      <td>0</td>\n",
       "      <td>0</td>\n",
       "      <td>1</td>\n",
       "      <td>0</td>\n",
       "      <td>0</td>\n",
       "      <td>1</td>\n",
       "      <td>0</td>\n",
       "      <td>0</td>\n",
       "      <td>0</td>\n",
       "      <td>2</td>\n",
       "    </tr>\n",
       "    <tr>\n",
       "      <th>98037</th>\n",
       "      <td>9</td>\n",
       "      <td>Zou Jing</td>\n",
       "      <td>, 86, Chinese engineer, member of the Chinese Academy of Engineering.</td>\n",
       "      <td>https://en.wikipedia.org/wiki/Zou_Jing_(engineer)</td>\n",
       "      <td>3</td>\n",
       "      <td>2022</td>\n",
       "      <td>June</td>\n",
       "      <td>None</td>\n",
       "      <td>86.000</td>\n",
       "      <td>None</td>\n",
       "      <td>China, People's Republic of</td>\n",
       "      <td>None</td>\n",
       "      <td>1</td>\n",
       "      <td>0</td>\n",
       "      <td>0</td>\n",
       "      <td>0</td>\n",
       "      <td>0</td>\n",
       "      <td>0</td>\n",
       "      <td>0</td>\n",
       "      <td>0</td>\n",
       "      <td>0</td>\n",
       "      <td>0</td>\n",
       "      <td>0</td>\n",
       "      <td>0</td>\n",
       "      <td>1</td>\n",
       "    </tr>\n",
       "  </tbody>\n",
       "</table>\n",
       "</div>"
      ],
      "text/plain": [
       "      day                   name  \\\n",
       "98036   9  Aamir Liaquat Hussain   \n",
       "98037   9               Zou Jing   \n",
       "\n",
       "                                                                        info  \\\n",
       "98036                       , 50, Pakistani journalist and politician, MNA .   \n",
       "98037  , 86, Chinese engineer, member of the Chinese Academy of Engineering.   \n",
       "\n",
       "                                                      link  num_references  \\\n",
       "98036  https://en.wikipedia.org/wiki/Aamir_Liaquat_Hussain              99   \n",
       "98037    https://en.wikipedia.org/wiki/Zou_Jing_(engineer)               3   \n",
       "\n",
       "       year month           info_parenth    age cause_of_death  \\\n",
       "98036  2022  June  2002 2007, since 2018 50.000           None   \n",
       "98037  2022  June                   None 86.000           None   \n",
       "\n",
       "                           place_1 place_2  sciences  social  spiritual  \\\n",
       "98036                     Pakistan    None         0       0          0   \n",
       "98037  China, People's Republic of    None         1       0          0   \n",
       "\n",
       "       academia_humanities  business_farming  arts  sports  \\\n",
       "98036                    0                 0     1       0   \n",
       "98037                    0                 0     0       0   \n",
       "\n",
       "       law_enf_military_operator  politics_govt_law  crime  \\\n",
       "98036                          0                  1      0   \n",
       "98037                          0                  0      0   \n",
       "\n",
       "       event_record_other  other_species  num_categories  \n",
       "98036                   0              0               2  \n",
       "98037                   0              0               1  "
      ]
     },
     "execution_count": 3,
     "metadata": {},
     "output_type": "execute_result"
    },
    {
     "data": {
      "application/javascript": [
       "\n",
       "            setTimeout(function() {\n",
       "                var nbb_cell_id = 3;\n",
       "                var nbb_unformatted_code = \"# Checking last 2 rows of the data\\ndf.tail(2)\";\n",
       "                var nbb_formatted_code = \"# Checking last 2 rows of the data\\ndf.tail(2)\";\n",
       "                var nbb_cells = Jupyter.notebook.get_cells();\n",
       "                for (var i = 0; i < nbb_cells.length; ++i) {\n",
       "                    if (nbb_cells[i].input_prompt_number == nbb_cell_id) {\n",
       "                        if (nbb_cells[i].get_text() == nbb_unformatted_code) {\n",
       "                             nbb_cells[i].set_text(nbb_formatted_code);\n",
       "                        }\n",
       "                        break;\n",
       "                    }\n",
       "                }\n",
       "            }, 500);\n",
       "            "
      ],
      "text/plain": [
       "<IPython.core.display.Javascript object>"
      ]
     },
     "metadata": {},
     "output_type": "display_data"
    }
   ],
   "source": [
    "# Checking last 2 rows of the data\n",
    "df.tail(2)"
   ]
  },
  {
   "cell_type": "code",
   "execution_count": 4,
   "id": "de6e8ee5",
   "metadata": {},
   "outputs": [
    {
     "data": {
      "text/html": [
       "<div>\n",
       "<style scoped>\n",
       "    .dataframe tbody tr th:only-of-type {\n",
       "        vertical-align: middle;\n",
       "    }\n",
       "\n",
       "    .dataframe tbody tr th {\n",
       "        vertical-align: top;\n",
       "    }\n",
       "\n",
       "    .dataframe thead th {\n",
       "        text-align: right;\n",
       "    }\n",
       "</style>\n",
       "<table border=\"1\" class=\"dataframe\">\n",
       "  <thead>\n",
       "    <tr style=\"text-align: right;\">\n",
       "      <th></th>\n",
       "      <th>day</th>\n",
       "      <th>name</th>\n",
       "      <th>info</th>\n",
       "      <th>link</th>\n",
       "      <th>num_references</th>\n",
       "      <th>year</th>\n",
       "      <th>month</th>\n",
       "      <th>info_parenth</th>\n",
       "      <th>age</th>\n",
       "      <th>cause_of_death</th>\n",
       "      <th>place_1</th>\n",
       "      <th>place_2</th>\n",
       "      <th>sciences</th>\n",
       "      <th>social</th>\n",
       "      <th>spiritual</th>\n",
       "      <th>academia_humanities</th>\n",
       "      <th>business_farming</th>\n",
       "      <th>arts</th>\n",
       "      <th>sports</th>\n",
       "      <th>law_enf_military_operator</th>\n",
       "      <th>politics_govt_law</th>\n",
       "      <th>crime</th>\n",
       "      <th>event_record_other</th>\n",
       "      <th>other_species</th>\n",
       "      <th>num_categories</th>\n",
       "    </tr>\n",
       "  </thead>\n",
       "  <tbody>\n",
       "    <tr>\n",
       "      <th>4864</th>\n",
       "      <td>18</td>\n",
       "      <td>Evelyn Hooker</td>\n",
       "      <td>, 89, American psychologist.</td>\n",
       "      <td>https://en.wikipedia.org/wiki/Evelyn_Hooker</td>\n",
       "      <td>16</td>\n",
       "      <td>1996</td>\n",
       "      <td>November</td>\n",
       "      <td>None</td>\n",
       "      <td>89.000</td>\n",
       "      <td>None</td>\n",
       "      <td>United States of America</td>\n",
       "      <td>None</td>\n",
       "      <td>1</td>\n",
       "      <td>0</td>\n",
       "      <td>0</td>\n",
       "      <td>0</td>\n",
       "      <td>0</td>\n",
       "      <td>0</td>\n",
       "      <td>0</td>\n",
       "      <td>0</td>\n",
       "      <td>0</td>\n",
       "      <td>0</td>\n",
       "      <td>0</td>\n",
       "      <td>0</td>\n",
       "      <td>1</td>\n",
       "    </tr>\n",
       "    <tr>\n",
       "      <th>17004</th>\n",
       "      <td>2</td>\n",
       "      <td>Nehemiah Levanon</td>\n",
       "      <td>, 88, Israeli intelligence agent and diplomat.</td>\n",
       "      <td>https://en.wikipedia.org/wiki/Nehemiah_Levanon</td>\n",
       "      <td>20</td>\n",
       "      <td>2003</td>\n",
       "      <td>September</td>\n",
       "      <td>None</td>\n",
       "      <td>88.000</td>\n",
       "      <td>None</td>\n",
       "      <td>Israel</td>\n",
       "      <td>None</td>\n",
       "      <td>0</td>\n",
       "      <td>0</td>\n",
       "      <td>0</td>\n",
       "      <td>0</td>\n",
       "      <td>0</td>\n",
       "      <td>0</td>\n",
       "      <td>0</td>\n",
       "      <td>1</td>\n",
       "      <td>1</td>\n",
       "      <td>0</td>\n",
       "      <td>0</td>\n",
       "      <td>0</td>\n",
       "      <td>2</td>\n",
       "    </tr>\n",
       "    <tr>\n",
       "      <th>5861</th>\n",
       "      <td>7</td>\n",
       "      <td>Raghu Raj Bahadur</td>\n",
       "      <td>, 73, Indian statistician.</td>\n",
       "      <td>https://en.wikipedia.org/wiki/Raghu_Raj_Bahadur</td>\n",
       "      <td>11</td>\n",
       "      <td>1997</td>\n",
       "      <td>June</td>\n",
       "      <td>None</td>\n",
       "      <td>73.000</td>\n",
       "      <td>None</td>\n",
       "      <td>India</td>\n",
       "      <td>None</td>\n",
       "      <td>1</td>\n",
       "      <td>0</td>\n",
       "      <td>0</td>\n",
       "      <td>0</td>\n",
       "      <td>0</td>\n",
       "      <td>0</td>\n",
       "      <td>0</td>\n",
       "      <td>0</td>\n",
       "      <td>0</td>\n",
       "      <td>0</td>\n",
       "      <td>0</td>\n",
       "      <td>0</td>\n",
       "      <td>1</td>\n",
       "    </tr>\n",
       "    <tr>\n",
       "      <th>56111</th>\n",
       "      <td>24</td>\n",
       "      <td>Turid Birkeland</td>\n",
       "      <td>, 53, Norwegian politician, Minister of Culture , myelofibrosis.</td>\n",
       "      <td>https://en.wikipedia.org/wiki/Turid_Birkeland</td>\n",
       "      <td>16</td>\n",
       "      <td>2015</td>\n",
       "      <td>December</td>\n",
       "      <td>1996 1997</td>\n",
       "      <td>53.000</td>\n",
       "      <td>myelofibrosis</td>\n",
       "      <td>Norway</td>\n",
       "      <td>None</td>\n",
       "      <td>0</td>\n",
       "      <td>0</td>\n",
       "      <td>0</td>\n",
       "      <td>0</td>\n",
       "      <td>0</td>\n",
       "      <td>0</td>\n",
       "      <td>0</td>\n",
       "      <td>0</td>\n",
       "      <td>1</td>\n",
       "      <td>0</td>\n",
       "      <td>0</td>\n",
       "      <td>0</td>\n",
       "      <td>1</td>\n",
       "    </tr>\n",
       "    <tr>\n",
       "      <th>82392</th>\n",
       "      <td>20</td>\n",
       "      <td>Pedro Lima</td>\n",
       "      <td>, 49, Portuguese actor , suicide.</td>\n",
       "      <td>https://en.wikipedia.org/wiki/Pedro_Lima_(actor)</td>\n",
       "      <td>5</td>\n",
       "      <td>2020</td>\n",
       "      <td>June</td>\n",
       "      <td>1988, 1992 and Olympic swimmer ,</td>\n",
       "      <td>49.000</td>\n",
       "      <td>suicide</td>\n",
       "      <td>Portugal</td>\n",
       "      <td>None</td>\n",
       "      <td>0</td>\n",
       "      <td>0</td>\n",
       "      <td>0</td>\n",
       "      <td>0</td>\n",
       "      <td>0</td>\n",
       "      <td>1</td>\n",
       "      <td>1</td>\n",
       "      <td>0</td>\n",
       "      <td>0</td>\n",
       "      <td>0</td>\n",
       "      <td>0</td>\n",
       "      <td>0</td>\n",
       "      <td>2</td>\n",
       "    </tr>\n",
       "  </tbody>\n",
       "</table>\n",
       "</div>"
      ],
      "text/plain": [
       "      day               name  \\\n",
       "4864   18      Evelyn Hooker   \n",
       "17004   2   Nehemiah Levanon   \n",
       "5861    7  Raghu Raj Bahadur   \n",
       "56111  24    Turid Birkeland   \n",
       "82392  20         Pedro Lima   \n",
       "\n",
       "                                                                   info  \\\n",
       "4864                                       , 89, American psychologist.   \n",
       "17004                    , 88, Israeli intelligence agent and diplomat.   \n",
       "5861                                         , 73, Indian statistician.   \n",
       "56111  , 53, Norwegian politician, Minister of Culture , myelofibrosis.   \n",
       "82392                                 , 49, Portuguese actor , suicide.   \n",
       "\n",
       "                                                   link  num_references  year  \\\n",
       "4864        https://en.wikipedia.org/wiki/Evelyn_Hooker              16  1996   \n",
       "17004    https://en.wikipedia.org/wiki/Nehemiah_Levanon              20  2003   \n",
       "5861    https://en.wikipedia.org/wiki/Raghu_Raj_Bahadur              11  1997   \n",
       "56111     https://en.wikipedia.org/wiki/Turid_Birkeland              16  2015   \n",
       "82392  https://en.wikipedia.org/wiki/Pedro_Lima_(actor)               5  2020   \n",
       "\n",
       "           month                      info_parenth    age cause_of_death  \\\n",
       "4864    November                              None 89.000           None   \n",
       "17004  September                              None 88.000           None   \n",
       "5861        June                              None 73.000           None   \n",
       "56111   December                         1996 1997 53.000  myelofibrosis   \n",
       "82392       June  1988, 1992 and Olympic swimmer , 49.000        suicide   \n",
       "\n",
       "                        place_1 place_2  sciences  social  spiritual  \\\n",
       "4864   United States of America    None         1       0          0   \n",
       "17004                    Israel    None         0       0          0   \n",
       "5861                      India    None         1       0          0   \n",
       "56111                    Norway    None         0       0          0   \n",
       "82392                  Portugal    None         0       0          0   \n",
       "\n",
       "       academia_humanities  business_farming  arts  sports  \\\n",
       "4864                     0                 0     0       0   \n",
       "17004                    0                 0     0       0   \n",
       "5861                     0                 0     0       0   \n",
       "56111                    0                 0     0       0   \n",
       "82392                    0                 0     1       1   \n",
       "\n",
       "       law_enf_military_operator  politics_govt_law  crime  \\\n",
       "4864                           0                  0      0   \n",
       "17004                          1                  1      0   \n",
       "5861                           0                  0      0   \n",
       "56111                          0                  1      0   \n",
       "82392                          0                  0      0   \n",
       "\n",
       "       event_record_other  other_species  num_categories  \n",
       "4864                    0              0               1  \n",
       "17004                   0              0               2  \n",
       "5861                    0              0               1  \n",
       "56111                   0              0               1  \n",
       "82392                   0              0               2  "
      ]
     },
     "execution_count": 4,
     "metadata": {},
     "output_type": "execute_result"
    },
    {
     "data": {
      "application/javascript": [
       "\n",
       "            setTimeout(function() {\n",
       "                var nbb_cell_id = 4;\n",
       "                var nbb_unformatted_code = \"# Checking a sample of the data\\ndf.sample(5)\";\n",
       "                var nbb_formatted_code = \"# Checking a sample of the data\\ndf.sample(5)\";\n",
       "                var nbb_cells = Jupyter.notebook.get_cells();\n",
       "                for (var i = 0; i < nbb_cells.length; ++i) {\n",
       "                    if (nbb_cells[i].input_prompt_number == nbb_cell_id) {\n",
       "                        if (nbb_cells[i].get_text() == nbb_unformatted_code) {\n",
       "                             nbb_cells[i].set_text(nbb_formatted_code);\n",
       "                        }\n",
       "                        break;\n",
       "                    }\n",
       "                }\n",
       "            }, 500);\n",
       "            "
      ],
      "text/plain": [
       "<IPython.core.display.Javascript object>"
      ]
     },
     "metadata": {},
     "output_type": "display_data"
    }
   ],
   "source": [
    "# Checking a sample of the data\n",
    "df.sample(5)"
   ]
  },
  {
   "cell_type": "markdown",
   "id": "1de1bb06",
   "metadata": {},
   "source": [
    "#### Observations:\n",
    "- With our dataset successfully loaded, we will split the dataset into 80% train and 20% test sets, to limit our EDA to the train set.\n",
    "- Both train and test sets will be exported at the end of this notebook."
   ]
  },
  {
   "cell_type": "markdown",
   "id": "66577843",
   "metadata": {},
   "source": [
    "### Splitting the Dataset into Train and Test Sets"
   ]
  },
  {
   "cell_type": "code",
   "execution_count": 5,
   "id": "97be3c9a",
   "metadata": {},
   "outputs": [
    {
     "name": "stdout",
     "output_type": "stream",
     "text": [
      "Train set has 78430 rows and 25 columns.\n",
      "\n",
      "Test set has 19608 rows and 25 columns.\n"
     ]
    },
    {
     "data": {
      "application/javascript": [
       "\n",
       "            setTimeout(function() {\n",
       "                var nbb_cell_id = 5;\n",
       "                var nbb_unformatted_code = \"# Splitting df into train and test\\ntrain, test = train_test_split(df, test_size=0.2, random_state=42)\\n\\n# Making working copy of train set\\ndf = train.copy()\\n\\n# Checking shape of train and test\\nprint(f\\\"Train set has {train.shape[0]} rows and {train.shape[1]} columns.\\\\n\\\")\\nprint(f\\\"Test set has {test.shape[0]} rows and {test.shape[1]} columns.\\\")\";\n",
       "                var nbb_formatted_code = \"# Splitting df into train and test\\ntrain, test = train_test_split(df, test_size=0.2, random_state=42)\\n\\n# Making working copy of train set\\ndf = train.copy()\\n\\n# Checking shape of train and test\\nprint(f\\\"Train set has {train.shape[0]} rows and {train.shape[1]} columns.\\\\n\\\")\\nprint(f\\\"Test set has {test.shape[0]} rows and {test.shape[1]} columns.\\\")\";\n",
       "                var nbb_cells = Jupyter.notebook.get_cells();\n",
       "                for (var i = 0; i < nbb_cells.length; ++i) {\n",
       "                    if (nbb_cells[i].input_prompt_number == nbb_cell_id) {\n",
       "                        if (nbb_cells[i].get_text() == nbb_unformatted_code) {\n",
       "                             nbb_cells[i].set_text(nbb_formatted_code);\n",
       "                        }\n",
       "                        break;\n",
       "                    }\n",
       "                }\n",
       "            }, 500);\n",
       "            "
      ],
      "text/plain": [
       "<IPython.core.display.Javascript object>"
      ]
     },
     "metadata": {},
     "output_type": "display_data"
    }
   ],
   "source": [
    "# Splitting df into train and test\n",
    "train, test = train_test_split(df, test_size=0.2, random_state=42)\n",
    "\n",
    "# Making working copy of train set\n",
    "df = train.copy()\n",
    "\n",
    "# Checking shape of train and test\n",
    "print(f\"Train set has {train.shape[0]} rows and {train.shape[1]} columns.\\n\")\n",
    "print(f\"Test set has {test.shape[0]} rows and {test.shape[1]} columns.\")"
   ]
  },
  {
   "cell_type": "markdown",
   "id": "8d5f29da",
   "metadata": {},
   "source": [
    "### Checking Data Types, Duplicates, and Null Values"
   ]
  },
  {
   "cell_type": "code",
   "execution_count": 6,
   "id": "bf505f87",
   "metadata": {},
   "outputs": [
    {
     "name": "stdout",
     "output_type": "stream",
     "text": [
      "<class 'pandas.core.frame.DataFrame'>\n",
      "Int64Index: 78430 entries, 15564 to 15795\n",
      "Data columns (total 25 columns):\n",
      " #   Column                     Non-Null Count  Dtype  \n",
      "---  ------                     --------------  -----  \n",
      " 0   day                        78430 non-null  object \n",
      " 1   name                       78430 non-null  object \n",
      " 2   info                       78430 non-null  object \n",
      " 3   link                       78430 non-null  object \n",
      " 4   num_references             78430 non-null  int64  \n",
      " 5   year                       78430 non-null  int64  \n",
      " 6   month                      78430 non-null  object \n",
      " 7   info_parenth               29266 non-null  object \n",
      " 8   age                        78430 non-null  float64\n",
      " 9   cause_of_death             26849 non-null  object \n",
      " 10  place_1                    78303 non-null  object \n",
      " 11  place_2                    4704 non-null   object \n",
      " 12  sciences                   78430 non-null  int64  \n",
      " 13  social                     78430 non-null  int64  \n",
      " 14  spiritual                  78430 non-null  int64  \n",
      " 15  academia_humanities        78430 non-null  int64  \n",
      " 16  business_farming           78430 non-null  int64  \n",
      " 17  arts                       78430 non-null  int64  \n",
      " 18  sports                     78430 non-null  int64  \n",
      " 19  law_enf_military_operator  78430 non-null  int64  \n",
      " 20  politics_govt_law          78430 non-null  int64  \n",
      " 21  crime                      78430 non-null  int64  \n",
      " 22  event_record_other         78430 non-null  int64  \n",
      " 23  other_species              78430 non-null  int64  \n",
      " 24  num_categories             78430 non-null  int64  \n",
      "dtypes: float64(1), int64(15), object(9)\n",
      "memory usage: 15.6+ MB\n"
     ]
    },
    {
     "data": {
      "application/javascript": [
       "\n",
       "            setTimeout(function() {\n",
       "                var nbb_cell_id = 6;\n",
       "                var nbb_unformatted_code = \"# Checking data types and null values\\ndf.info()\";\n",
       "                var nbb_formatted_code = \"# Checking data types and null values\\ndf.info()\";\n",
       "                var nbb_cells = Jupyter.notebook.get_cells();\n",
       "                for (var i = 0; i < nbb_cells.length; ++i) {\n",
       "                    if (nbb_cells[i].input_prompt_number == nbb_cell_id) {\n",
       "                        if (nbb_cells[i].get_text() == nbb_unformatted_code) {\n",
       "                             nbb_cells[i].set_text(nbb_formatted_code);\n",
       "                        }\n",
       "                        break;\n",
       "                    }\n",
       "                }\n",
       "            }, 500);\n",
       "            "
      ],
      "text/plain": [
       "<IPython.core.display.Javascript object>"
      ]
     },
     "metadata": {},
     "output_type": "display_data"
    }
   ],
   "source": [
    "# Checking data types and null values\n",
    "df.info()"
   ]
  },
  {
   "cell_type": "code",
   "execution_count": 7,
   "id": "72572c46",
   "metadata": {},
   "outputs": [
    {
     "data": {
      "text/plain": [
       "0"
      ]
     },
     "execution_count": 7,
     "metadata": {},
     "output_type": "execute_result"
    },
    {
     "data": {
      "application/javascript": [
       "\n",
       "            setTimeout(function() {\n",
       "                var nbb_cell_id = 7;\n",
       "                var nbb_unformatted_code = \"# Checking duplicate rows\\ndf.duplicated().sum()\";\n",
       "                var nbb_formatted_code = \"# Checking duplicate rows\\ndf.duplicated().sum()\";\n",
       "                var nbb_cells = Jupyter.notebook.get_cells();\n",
       "                for (var i = 0; i < nbb_cells.length; ++i) {\n",
       "                    if (nbb_cells[i].input_prompt_number == nbb_cell_id) {\n",
       "                        if (nbb_cells[i].get_text() == nbb_unformatted_code) {\n",
       "                             nbb_cells[i].set_text(nbb_formatted_code);\n",
       "                        }\n",
       "                        break;\n",
       "                    }\n",
       "                }\n",
       "            }, 500);\n",
       "            "
      ],
      "text/plain": [
       "<IPython.core.display.Javascript object>"
      ]
     },
     "metadata": {},
     "output_type": "display_data"
    }
   ],
   "source": [
    "# Checking duplicate rows\n",
    "df.duplicated().sum()"
   ]
  },
  {
   "cell_type": "code",
   "execution_count": 8,
   "id": "e28d1773",
   "metadata": {},
   "outputs": [
    {
     "data": {
      "text/plain": [
       "0"
      ]
     },
     "execution_count": 8,
     "metadata": {},
     "output_type": "execute_result"
    },
    {
     "data": {
      "application/javascript": [
       "\n",
       "            setTimeout(function() {\n",
       "                var nbb_cell_id = 8;\n",
       "                var nbb_unformatted_code = \"# Checking for duplicate links\\ndf[\\\"link\\\"].duplicated().sum()\";\n",
       "                var nbb_formatted_code = \"# Checking for duplicate links\\ndf[\\\"link\\\"].duplicated().sum()\";\n",
       "                var nbb_cells = Jupyter.notebook.get_cells();\n",
       "                for (var i = 0; i < nbb_cells.length; ++i) {\n",
       "                    if (nbb_cells[i].input_prompt_number == nbb_cell_id) {\n",
       "                        if (nbb_cells[i].get_text() == nbb_unformatted_code) {\n",
       "                             nbb_cells[i].set_text(nbb_formatted_code);\n",
       "                        }\n",
       "                        break;\n",
       "                    }\n",
       "                }\n",
       "            }, 500);\n",
       "            "
      ],
      "text/plain": [
       "<IPython.core.display.Javascript object>"
      ]
     },
     "metadata": {},
     "output_type": "display_data"
    }
   ],
   "source": [
    "# Checking for duplicate links\n",
    "df[\"link\"].duplicated().sum()"
   ]
  },
  {
   "cell_type": "code",
   "execution_count": 9,
   "id": "9d83509f",
   "metadata": {},
   "outputs": [
    {
     "data": {
      "text/plain": [
       "day                              0\n",
       "name                             0\n",
       "info                             0\n",
       "link                             0\n",
       "num_references                   0\n",
       "year                             0\n",
       "month                            0\n",
       "info_parenth                 49164\n",
       "age                              0\n",
       "cause_of_death               51581\n",
       "place_1                        127\n",
       "place_2                      73726\n",
       "sciences                         0\n",
       "social                           0\n",
       "spiritual                        0\n",
       "academia_humanities              0\n",
       "business_farming                 0\n",
       "arts                             0\n",
       "sports                           0\n",
       "law_enf_military_operator        0\n",
       "politics_govt_law                0\n",
       "crime                            0\n",
       "event_record_other               0\n",
       "other_species                    0\n",
       "num_categories                   0\n",
       "dtype: int64"
      ]
     },
     "execution_count": 9,
     "metadata": {},
     "output_type": "execute_result"
    },
    {
     "data": {
      "application/javascript": [
       "\n",
       "            setTimeout(function() {\n",
       "                var nbb_cell_id = 9;\n",
       "                var nbb_unformatted_code = \"# Checking sum of null values by column\\ndf.isnull().sum()\";\n",
       "                var nbb_formatted_code = \"# Checking sum of null values by column\\ndf.isnull().sum()\";\n",
       "                var nbb_cells = Jupyter.notebook.get_cells();\n",
       "                for (var i = 0; i < nbb_cells.length; ++i) {\n",
       "                    if (nbb_cells[i].input_prompt_number == nbb_cell_id) {\n",
       "                        if (nbb_cells[i].get_text() == nbb_unformatted_code) {\n",
       "                             nbb_cells[i].set_text(nbb_formatted_code);\n",
       "                        }\n",
       "                        break;\n",
       "                    }\n",
       "                }\n",
       "            }, 500);\n",
       "            "
      ],
      "text/plain": [
       "<IPython.core.display.Javascript object>"
      ]
     },
     "metadata": {},
     "output_type": "display_data"
    }
   ],
   "source": [
    "# Checking sum of null values by column\n",
    "df.isnull().sum()"
   ]
  },
  {
   "cell_type": "code",
   "execution_count": 10,
   "id": "c8778037",
   "metadata": {},
   "outputs": [
    {
     "data": {
      "text/plain": [
       "day                          0.000\n",
       "name                         0.000\n",
       "info                         0.000\n",
       "link                         0.000\n",
       "num_references               0.000\n",
       "year                         0.000\n",
       "month                        0.000\n",
       "info_parenth                62.685\n",
       "age                          0.000\n",
       "cause_of_death              65.767\n",
       "place_1                      0.162\n",
       "place_2                     94.002\n",
       "sciences                     0.000\n",
       "social                       0.000\n",
       "spiritual                    0.000\n",
       "academia_humanities          0.000\n",
       "business_farming             0.000\n",
       "arts                         0.000\n",
       "sports                       0.000\n",
       "law_enf_military_operator    0.000\n",
       "politics_govt_law            0.000\n",
       "crime                        0.000\n",
       "event_record_other           0.000\n",
       "other_species                0.000\n",
       "num_categories               0.000\n",
       "dtype: float64"
      ]
     },
     "execution_count": 10,
     "metadata": {},
     "output_type": "execute_result"
    },
    {
     "data": {
      "application/javascript": [
       "\n",
       "            setTimeout(function() {\n",
       "                var nbb_cell_id = 10;\n",
       "                var nbb_unformatted_code = \"# Check percentage of null values by column\\ndf.isnull().sum() / len(df) * 100\";\n",
       "                var nbb_formatted_code = \"# Check percentage of null values by column\\ndf.isnull().sum() / len(df) * 100\";\n",
       "                var nbb_cells = Jupyter.notebook.get_cells();\n",
       "                for (var i = 0; i < nbb_cells.length; ++i) {\n",
       "                    if (nbb_cells[i].input_prompt_number == nbb_cell_id) {\n",
       "                        if (nbb_cells[i].get_text() == nbb_unformatted_code) {\n",
       "                             nbb_cells[i].set_text(nbb_formatted_code);\n",
       "                        }\n",
       "                        break;\n",
       "                    }\n",
       "                }\n",
       "            }, 500);\n",
       "            "
      ],
      "text/plain": [
       "<IPython.core.display.Javascript object>"
      ]
     },
     "metadata": {},
     "output_type": "display_data"
    }
   ],
   "source": [
    "# Check percentage of null values by column\n",
    "df.isnull().sum() / len(df) * 100"
   ]
  },
  {
   "cell_type": "code",
   "execution_count": 11,
   "id": "0e07f38f",
   "metadata": {},
   "outputs": [
    {
     "data": {
      "text/plain": [
       "2    34256\n",
       "3    31083\n",
       "1    12545\n",
       "0      473\n",
       "4       73\n",
       "dtype: int64"
      ]
     },
     "execution_count": 11,
     "metadata": {},
     "output_type": "execute_result"
    },
    {
     "data": {
      "application/javascript": [
       "\n",
       "            setTimeout(function() {\n",
       "                var nbb_cell_id = 11;\n",
       "                var nbb_unformatted_code = \"# Checking number of missing values per row\\ndf.isnull().sum(axis=1).value_counts()\";\n",
       "                var nbb_formatted_code = \"# Checking number of missing values per row\\ndf.isnull().sum(axis=1).value_counts()\";\n",
       "                var nbb_cells = Jupyter.notebook.get_cells();\n",
       "                for (var i = 0; i < nbb_cells.length; ++i) {\n",
       "                    if (nbb_cells[i].input_prompt_number == nbb_cell_id) {\n",
       "                        if (nbb_cells[i].get_text() == nbb_unformatted_code) {\n",
       "                             nbb_cells[i].set_text(nbb_formatted_code);\n",
       "                        }\n",
       "                        break;\n",
       "                    }\n",
       "                }\n",
       "            }, 500);\n",
       "            "
      ],
      "text/plain": [
       "<IPython.core.display.Javascript object>"
      ]
     },
     "metadata": {},
     "output_type": "display_data"
    }
   ],
   "source": [
    "# Checking number of missing values per row\n",
    "df.isnull().sum(axis=1).value_counts()"
   ]
  },
  {
   "cell_type": "markdown",
   "id": "c459d7f8",
   "metadata": {},
   "source": [
    "#### Observations:\n",
    "- We have 78,430 rows and 25 columns.\n",
    "- Our target, `age`, has no missing values.  \n",
    "- As expected, `info_parenth` and `place_2` both have high percentages of missing values.  `cause_of death` also has a very high proportion of missing values, which is not problematic for the current analysis.\n",
    "- There are 127 missing values (~1.6%) for `place_1`, the handling of which we will need to consider.\n",
    "- The value counts for missing values per row looks generally consistent with the expected missing values, with the `place_1` missing values being the only concern.\n",
    "- Since we do not have a date of birth feature, we are not working with age calculated to the day, so we can drop `day`.\n",
    "- There are no duplicate `link` values in the current dataset, so we can drop the purely nominal `name` column as we are retaining `link`, which we may yet need for referencing specific entries.\n",
    "- `num_references`, `year` (temporal), `age`, and `num_categories` are all of the appopriate numeric type, either integer or float.\n",
    "- `month` may be interesting for EDA, but is not anticipated to be useful as a predictor as we do not have date of birth.  We will retain it for now and typecast it from object to category.\n",
    "- `info`, `link`, `info_parenth`, and `cause_of_death` will be left as object type due to their high unique value counts.  `cause_of_death` is not a focus of this analysis, but this column could be further treated to create broader categories of causes (e.g., grouping all types of cancer) for further analysis.  For now, we will retain it, and we can drop it prior to modeling.  `info` and `info_parenth` we will retain for reference only.\n",
    "- `place_1` and `place_2` are of object type and we will convert them to category.  After initial EDA, we will extract new features for geographic region to reduce dimensionality of the `place_` information.\n",
    "- The `known for` categories are all of integer type, but are boolean in nature.  For their summary statistics, we will typecast them as category, then convert them back to integer for the rest of the analysis.\n",
    "- For this study, we are only interested in human entries, so we will proceed to drop non-human entries, as well as the entire `other_species` column, which will contain only zeros for the remaining human entries."
   ]
  },
  {
   "cell_type": "markdown",
   "id": "bbf1ed12",
   "metadata": {},
   "source": [
    "#### Dropping `day` and `name`"
   ]
  },
  {
   "cell_type": "code",
   "execution_count": 12,
   "id": "ca54b578",
   "metadata": {},
   "outputs": [
    {
     "data": {
      "application/javascript": [
       "\n",
       "            setTimeout(function() {\n",
       "                var nbb_cell_id = 12;\n",
       "                var nbb_unformatted_code = \"# Dropping day and name columns\\ndf.drop([\\\"day\\\", \\\"name\\\"], axis=1, inplace=True)\";\n",
       "                var nbb_formatted_code = \"# Dropping day and name columns\\ndf.drop([\\\"day\\\", \\\"name\\\"], axis=1, inplace=True)\";\n",
       "                var nbb_cells = Jupyter.notebook.get_cells();\n",
       "                for (var i = 0; i < nbb_cells.length; ++i) {\n",
       "                    if (nbb_cells[i].input_prompt_number == nbb_cell_id) {\n",
       "                        if (nbb_cells[i].get_text() == nbb_unformatted_code) {\n",
       "                             nbb_cells[i].set_text(nbb_formatted_code);\n",
       "                        }\n",
       "                        break;\n",
       "                    }\n",
       "                }\n",
       "            }, 500);\n",
       "            "
      ],
      "text/plain": [
       "<IPython.core.display.Javascript object>"
      ]
     },
     "metadata": {},
     "output_type": "display_data"
    }
   ],
   "source": [
    "# Dropping day and name columns\n",
    "df.drop([\"day\", \"name\"], axis=1, inplace=True)"
   ]
  },
  {
   "cell_type": "markdown",
   "id": "d29aff3a",
   "metadata": {},
   "source": [
    "#### Excluding Entries for `other_species`"
   ]
  },
  {
   "cell_type": "code",
   "execution_count": 13,
   "id": "550346a5",
   "metadata": {},
   "outputs": [
    {
     "name": "stdout",
     "output_type": "stream",
     "text": [
      "There are 78040 rows and 22 columns.\n"
     ]
    },
    {
     "data": {
      "application/javascript": [
       "\n",
       "            setTimeout(function() {\n",
       "                var nbb_cell_id = 13;\n",
       "                var nbb_unformatted_code = \"# Re-assigning df to include only human entries\\ndf = df[df[\\\"other_species\\\"] == 0]\\n\\n# Dropping other_species column as no longer needed\\ndf.drop(\\\"other_species\\\", axis=1, inplace=True)\\n\\n# Checking new shape\\nprint(f\\\"There are {df.shape[0]} rows and {df.shape[1]} columns.\\\")\";\n",
       "                var nbb_formatted_code = \"# Re-assigning df to include only human entries\\ndf = df[df[\\\"other_species\\\"] == 0]\\n\\n# Dropping other_species column as no longer needed\\ndf.drop(\\\"other_species\\\", axis=1, inplace=True)\\n\\n# Checking new shape\\nprint(f\\\"There are {df.shape[0]} rows and {df.shape[1]} columns.\\\")\";\n",
       "                var nbb_cells = Jupyter.notebook.get_cells();\n",
       "                for (var i = 0; i < nbb_cells.length; ++i) {\n",
       "                    if (nbb_cells[i].input_prompt_number == nbb_cell_id) {\n",
       "                        if (nbb_cells[i].get_text() == nbb_unformatted_code) {\n",
       "                             nbb_cells[i].set_text(nbb_formatted_code);\n",
       "                        }\n",
       "                        break;\n",
       "                    }\n",
       "                }\n",
       "            }, 500);\n",
       "            "
      ],
      "text/plain": [
       "<IPython.core.display.Javascript object>"
      ]
     },
     "metadata": {},
     "output_type": "display_data"
    }
   ],
   "source": [
    "# Re-assigning df to include only human entries\n",
    "df = df[df[\"other_species\"] == 0]\n",
    "\n",
    "# Dropping other_species column as no longer needed\n",
    "df.drop(\"other_species\", axis=1, inplace=True)\n",
    "\n",
    "# Checking new shape\n",
    "print(f\"There are {df.shape[0]} rows and {df.shape[1]} columns.\")"
   ]
  },
  {
   "cell_type": "markdown",
   "id": "c572665e",
   "metadata": {},
   "source": [
    "#### Typecasting `month`, `place_1`,  `place_2`, and `known for` Categories as Category"
   ]
  },
  {
   "cell_type": "code",
   "execution_count": 14,
   "id": "f46553e2",
   "metadata": {},
   "outputs": [
    {
     "data": {
      "application/javascript": [
       "\n",
       "            setTimeout(function() {\n",
       "                var nbb_cell_id = 14;\n",
       "                var nbb_unformatted_code = \"# Typecasting place_1 and place_2 as category\\ncols_to_cast = [\\n    \\\"month\\\",\\n    \\\"place_1\\\",\\n    \\\"place_2\\\",\\n    \\\"sciences\\\",\\n    \\\"social\\\",\\n    \\\"spiritual\\\",\\n    \\\"academia_humanities\\\",\\n    \\\"business_farming\\\",\\n    \\\"arts\\\",\\n    \\\"sports\\\",\\n    \\\"law_enf_military_operator\\\",\\n    \\\"politics_govt_law\\\",\\n    \\\"crime\\\",\\n    \\\"event_record_other\\\",\\n]\\ndf[cols_to_cast] = df[cols_to_cast].astype(\\\"category\\\")\";\n",
       "                var nbb_formatted_code = \"# Typecasting place_1 and place_2 as category\\ncols_to_cast = [\\n    \\\"month\\\",\\n    \\\"place_1\\\",\\n    \\\"place_2\\\",\\n    \\\"sciences\\\",\\n    \\\"social\\\",\\n    \\\"spiritual\\\",\\n    \\\"academia_humanities\\\",\\n    \\\"business_farming\\\",\\n    \\\"arts\\\",\\n    \\\"sports\\\",\\n    \\\"law_enf_military_operator\\\",\\n    \\\"politics_govt_law\\\",\\n    \\\"crime\\\",\\n    \\\"event_record_other\\\",\\n]\\ndf[cols_to_cast] = df[cols_to_cast].astype(\\\"category\\\")\";\n",
       "                var nbb_cells = Jupyter.notebook.get_cells();\n",
       "                for (var i = 0; i < nbb_cells.length; ++i) {\n",
       "                    if (nbb_cells[i].input_prompt_number == nbb_cell_id) {\n",
       "                        if (nbb_cells[i].get_text() == nbb_unformatted_code) {\n",
       "                             nbb_cells[i].set_text(nbb_formatted_code);\n",
       "                        }\n",
       "                        break;\n",
       "                    }\n",
       "                }\n",
       "            }, 500);\n",
       "            "
      ],
      "text/plain": [
       "<IPython.core.display.Javascript object>"
      ]
     },
     "metadata": {},
     "output_type": "display_data"
    }
   ],
   "source": [
    "# Typecasting place_1 and place_2 as category\n",
    "cols_to_cast = [\n",
    "    \"month\",\n",
    "    \"place_1\",\n",
    "    \"place_2\",\n",
    "    \"sciences\",\n",
    "    \"social\",\n",
    "    \"spiritual\",\n",
    "    \"academia_humanities\",\n",
    "    \"business_farming\",\n",
    "    \"arts\",\n",
    "    \"sports\",\n",
    "    \"law_enf_military_operator\",\n",
    "    \"politics_govt_law\",\n",
    "    \"crime\",\n",
    "    \"event_record_other\",\n",
    "]\n",
    "df[cols_to_cast] = df[cols_to_cast].astype(\"category\")"
   ]
  },
  {
   "cell_type": "markdown",
   "id": "07382a47",
   "metadata": {},
   "source": [
    "#### Observations:\n",
    "- With 78,040 human entries and 22 remaining columns, we are read to proceed with EDA."
   ]
  },
  {
   "cell_type": "markdown",
   "id": "530ceebf",
   "metadata": {},
   "source": [
    "## Exploratory Data Analysis (EDA)"
   ]
  },
  {
   "cell_type": "markdown",
   "id": "2016778d",
   "metadata": {},
   "source": [
    "### Summary Statistics of Numerical Features"
   ]
  },
  {
   "cell_type": "code",
   "execution_count": 15,
   "id": "6533be0d",
   "metadata": {},
   "outputs": [
    {
     "data": {
      "text/html": [
       "<div>\n",
       "<style scoped>\n",
       "    .dataframe tbody tr th:only-of-type {\n",
       "        vertical-align: middle;\n",
       "    }\n",
       "\n",
       "    .dataframe tbody tr th {\n",
       "        vertical-align: top;\n",
       "    }\n",
       "\n",
       "    .dataframe thead th {\n",
       "        text-align: right;\n",
       "    }\n",
       "</style>\n",
       "<table border=\"1\" class=\"dataframe\">\n",
       "  <thead>\n",
       "    <tr style=\"text-align: right;\">\n",
       "      <th></th>\n",
       "      <th>count</th>\n",
       "      <th>mean</th>\n",
       "      <th>std</th>\n",
       "      <th>min</th>\n",
       "      <th>25%</th>\n",
       "      <th>50%</th>\n",
       "      <th>75%</th>\n",
       "      <th>max</th>\n",
       "    </tr>\n",
       "  </thead>\n",
       "  <tbody>\n",
       "    <tr>\n",
       "      <th>num_references</th>\n",
       "      <td>78040.000</td>\n",
       "      <td>12.646</td>\n",
       "      <td>21.292</td>\n",
       "      <td>3.000</td>\n",
       "      <td>4.000</td>\n",
       "      <td>7.000</td>\n",
       "      <td>13.000</td>\n",
       "      <td>660.000</td>\n",
       "    </tr>\n",
       "    <tr>\n",
       "      <th>year</th>\n",
       "      <td>78040.000</td>\n",
       "      <td>2012.146</td>\n",
       "      <td>7.832</td>\n",
       "      <td>1994.000</td>\n",
       "      <td>2007.000</td>\n",
       "      <td>2014.000</td>\n",
       "      <td>2019.000</td>\n",
       "      <td>2022.000</td>\n",
       "    </tr>\n",
       "    <tr>\n",
       "      <th>age</th>\n",
       "      <td>78040.000</td>\n",
       "      <td>76.742</td>\n",
       "      <td>16.121</td>\n",
       "      <td>0.250</td>\n",
       "      <td>69.000</td>\n",
       "      <td>80.000</td>\n",
       "      <td>88.000</td>\n",
       "      <td>134.000</td>\n",
       "    </tr>\n",
       "    <tr>\n",
       "      <th>num_categories</th>\n",
       "      <td>78040.000</td>\n",
       "      <td>1.159</td>\n",
       "      <td>0.400</td>\n",
       "      <td>1.000</td>\n",
       "      <td>1.000</td>\n",
       "      <td>1.000</td>\n",
       "      <td>1.000</td>\n",
       "      <td>5.000</td>\n",
       "    </tr>\n",
       "  </tbody>\n",
       "</table>\n",
       "</div>"
      ],
      "text/plain": [
       "                   count     mean    std      min      25%      50%      75%  \\\n",
       "num_references 78040.000   12.646 21.292    3.000    4.000    7.000   13.000   \n",
       "year           78040.000 2012.146  7.832 1994.000 2007.000 2014.000 2019.000   \n",
       "age            78040.000   76.742 16.121    0.250   69.000   80.000   88.000   \n",
       "num_categories 78040.000    1.159  0.400    1.000    1.000    1.000    1.000   \n",
       "\n",
       "                    max  \n",
       "num_references  660.000  \n",
       "year           2022.000  \n",
       "age             134.000  \n",
       "num_categories    5.000  "
      ]
     },
     "execution_count": 15,
     "metadata": {},
     "output_type": "execute_result"
    },
    {
     "data": {
      "application/javascript": [
       "\n",
       "            setTimeout(function() {\n",
       "                var nbb_cell_id = 15;\n",
       "                var nbb_unformatted_code = \"# Summary statistics of numerica features\\ndf.describe().T\";\n",
       "                var nbb_formatted_code = \"# Summary statistics of numerica features\\ndf.describe().T\";\n",
       "                var nbb_cells = Jupyter.notebook.get_cells();\n",
       "                for (var i = 0; i < nbb_cells.length; ++i) {\n",
       "                    if (nbb_cells[i].input_prompt_number == nbb_cell_id) {\n",
       "                        if (nbb_cells[i].get_text() == nbb_unformatted_code) {\n",
       "                             nbb_cells[i].set_text(nbb_formatted_code);\n",
       "                        }\n",
       "                        break;\n",
       "                    }\n",
       "                }\n",
       "            }, 500);\n",
       "            "
      ],
      "text/plain": [
       "<IPython.core.display.Javascript object>"
      ]
     },
     "metadata": {},
     "output_type": "display_data"
    }
   ],
   "source": [
    "# Summary statistics of numerica features\n",
    "df.describe().T"
   ]
  },
  {
   "cell_type": "markdown",
   "id": "227e066a",
   "metadata": {},
   "source": [
    "#### Observations:\n",
    "- Our target, `age`, has a left-skewed distribution with a wide spread, from 3 months to 134 years.  The mean and median are close, at ~77 and 80 years, respectively.\n",
    "- `num_references` has a wide spread and is highly right skewed, with a mean of ~12.6 and median of 7.  At least 75% of entries have 13 or fewer references, while at least one entry has 660 references.  Recall that the dataset was limited to entries with at least 3 references, consistent with the minimum.\n",
    "- We see the range of `year` correctly reflects the data that was collected, from 1994 to 2022.\n",
    "- `num_categories` ranges from 1 to 5, with at least 75% of entries having a single `known for` category."
   ]
  },
  {
   "cell_type": "markdown",
   "id": "9d534351",
   "metadata": {},
   "source": [
    "### Summary Statistics of Categorical and Boolean-like Features"
   ]
  },
  {
   "cell_type": "code",
   "execution_count": 16,
   "id": "2d18e16a",
   "metadata": {},
   "outputs": [
    {
     "data": {
      "text/html": [
       "<div>\n",
       "<style scoped>\n",
       "    .dataframe tbody tr th:only-of-type {\n",
       "        vertical-align: middle;\n",
       "    }\n",
       "\n",
       "    .dataframe tbody tr th {\n",
       "        vertical-align: top;\n",
       "    }\n",
       "\n",
       "    .dataframe thead th {\n",
       "        text-align: right;\n",
       "    }\n",
       "</style>\n",
       "<table border=\"1\" class=\"dataframe\">\n",
       "  <thead>\n",
       "    <tr style=\"text-align: right;\">\n",
       "      <th></th>\n",
       "      <th>count</th>\n",
       "      <th>unique</th>\n",
       "      <th>top</th>\n",
       "      <th>freq</th>\n",
       "    </tr>\n",
       "  </thead>\n",
       "  <tbody>\n",
       "    <tr>\n",
       "      <th>info</th>\n",
       "      <td>78040</td>\n",
       "      <td>72226</td>\n",
       "      <td>, 87, American baseball player .</td>\n",
       "      <td>38</td>\n",
       "    </tr>\n",
       "    <tr>\n",
       "      <th>link</th>\n",
       "      <td>78040</td>\n",
       "      <td>78040</td>\n",
       "      <td>https://en.wikipedia.org/wiki/David_Bartleet</td>\n",
       "      <td>1</td>\n",
       "    </tr>\n",
       "    <tr>\n",
       "      <th>month</th>\n",
       "      <td>78040</td>\n",
       "      <td>12</td>\n",
       "      <td>January</td>\n",
       "      <td>7927</td>\n",
       "    </tr>\n",
       "    <tr>\n",
       "      <th>info_parenth</th>\n",
       "      <td>29169</td>\n",
       "      <td>13913</td>\n",
       "      <td>, ,</td>\n",
       "      <td>2501</td>\n",
       "    </tr>\n",
       "    <tr>\n",
       "      <th>cause_of_death</th>\n",
       "      <td>26604</td>\n",
       "      <td>2699</td>\n",
       "      <td>cancer</td>\n",
       "      <td>3351</td>\n",
       "    </tr>\n",
       "    <tr>\n",
       "      <th>place_1</th>\n",
       "      <td>77919</td>\n",
       "      <td>210</td>\n",
       "      <td>United States of America</td>\n",
       "      <td>27895</td>\n",
       "    </tr>\n",
       "    <tr>\n",
       "      <th>place_2</th>\n",
       "      <td>4657</td>\n",
       "      <td>149</td>\n",
       "      <td>United States of America</td>\n",
       "      <td>1858</td>\n",
       "    </tr>\n",
       "    <tr>\n",
       "      <th>sciences</th>\n",
       "      <td>78040</td>\n",
       "      <td>2</td>\n",
       "      <td>0</td>\n",
       "      <td>71075</td>\n",
       "    </tr>\n",
       "    <tr>\n",
       "      <th>social</th>\n",
       "      <td>78040</td>\n",
       "      <td>2</td>\n",
       "      <td>0</td>\n",
       "      <td>77353</td>\n",
       "    </tr>\n",
       "    <tr>\n",
       "      <th>spiritual</th>\n",
       "      <td>78040</td>\n",
       "      <td>2</td>\n",
       "      <td>0</td>\n",
       "      <td>75268</td>\n",
       "    </tr>\n",
       "    <tr>\n",
       "      <th>academia_humanities</th>\n",
       "      <td>78040</td>\n",
       "      <td>2</td>\n",
       "      <td>0</td>\n",
       "      <td>71438</td>\n",
       "    </tr>\n",
       "    <tr>\n",
       "      <th>business_farming</th>\n",
       "      <td>78040</td>\n",
       "      <td>2</td>\n",
       "      <td>0</td>\n",
       "      <td>75160</td>\n",
       "    </tr>\n",
       "    <tr>\n",
       "      <th>arts</th>\n",
       "      <td>78040</td>\n",
       "      <td>2</td>\n",
       "      <td>0</td>\n",
       "      <td>46201</td>\n",
       "    </tr>\n",
       "    <tr>\n",
       "      <th>sports</th>\n",
       "      <td>78040</td>\n",
       "      <td>2</td>\n",
       "      <td>0</td>\n",
       "      <td>62212</td>\n",
       "    </tr>\n",
       "    <tr>\n",
       "      <th>law_enf_military_operator</th>\n",
       "      <td>78040</td>\n",
       "      <td>2</td>\n",
       "      <td>0</td>\n",
       "      <td>74058</td>\n",
       "    </tr>\n",
       "    <tr>\n",
       "      <th>politics_govt_law</th>\n",
       "      <td>78040</td>\n",
       "      <td>2</td>\n",
       "      <td>0</td>\n",
       "      <td>60725</td>\n",
       "    </tr>\n",
       "    <tr>\n",
       "      <th>crime</th>\n",
       "      <td>78040</td>\n",
       "      <td>2</td>\n",
       "      <td>0</td>\n",
       "      <td>77107</td>\n",
       "    </tr>\n",
       "    <tr>\n",
       "      <th>event_record_other</th>\n",
       "      <td>78040</td>\n",
       "      <td>2</td>\n",
       "      <td>0</td>\n",
       "      <td>77376</td>\n",
       "    </tr>\n",
       "  </tbody>\n",
       "</table>\n",
       "</div>"
      ],
      "text/plain": [
       "                           count unique  \\\n",
       "info                       78040  72226   \n",
       "link                       78040  78040   \n",
       "month                      78040     12   \n",
       "info_parenth               29169  13913   \n",
       "cause_of_death             26604   2699   \n",
       "place_1                    77919    210   \n",
       "place_2                     4657    149   \n",
       "sciences                   78040      2   \n",
       "social                     78040      2   \n",
       "spiritual                  78040      2   \n",
       "academia_humanities        78040      2   \n",
       "business_farming           78040      2   \n",
       "arts                       78040      2   \n",
       "sports                     78040      2   \n",
       "law_enf_military_operator  78040      2   \n",
       "politics_govt_law          78040      2   \n",
       "crime                      78040      2   \n",
       "event_record_other         78040      2   \n",
       "\n",
       "                                                                    top   freq  \n",
       "info                                   , 87, American baseball player .     38  \n",
       "link                       https://en.wikipedia.org/wiki/David_Bartleet      1  \n",
       "month                                                           January   7927  \n",
       "info_parenth                                                        , ,   2501  \n",
       "cause_of_death                                                   cancer   3351  \n",
       "place_1                                        United States of America  27895  \n",
       "place_2                                        United States of America   1858  \n",
       "sciences                                                              0  71075  \n",
       "social                                                                0  77353  \n",
       "spiritual                                                             0  75268  \n",
       "academia_humanities                                                   0  71438  \n",
       "business_farming                                                      0  75160  \n",
       "arts                                                                  0  46201  \n",
       "sports                                                                0  62212  \n",
       "law_enf_military_operator                                             0  74058  \n",
       "politics_govt_law                                                     0  60725  \n",
       "crime                                                                 0  77107  \n",
       "event_record_other                                                    0  77376  "
      ]
     },
     "execution_count": 16,
     "metadata": {},
     "output_type": "execute_result"
    },
    {
     "data": {
      "application/javascript": [
       "\n",
       "            setTimeout(function() {\n",
       "                var nbb_cell_id = 16;\n",
       "                var nbb_unformatted_code = \"# Summary statistics of non-numerical features\\ndf.describe(include=[\\\"object\\\", \\\"category\\\"]).T\";\n",
       "                var nbb_formatted_code = \"# Summary statistics of non-numerical features\\ndf.describe(include=[\\\"object\\\", \\\"category\\\"]).T\";\n",
       "                var nbb_cells = Jupyter.notebook.get_cells();\n",
       "                for (var i = 0; i < nbb_cells.length; ++i) {\n",
       "                    if (nbb_cells[i].input_prompt_number == nbb_cell_id) {\n",
       "                        if (nbb_cells[i].get_text() == nbb_unformatted_code) {\n",
       "                             nbb_cells[i].set_text(nbb_formatted_code);\n",
       "                        }\n",
       "                        break;\n",
       "                    }\n",
       "                }\n",
       "            }, 500);\n",
       "            "
      ],
      "text/plain": [
       "<IPython.core.display.Javascript object>"
      ]
     },
     "metadata": {},
     "output_type": "display_data"
    }
   ],
   "source": [
    "# Summary statistics of non-numerical features\n",
    "df.describe(include=[\"object\", \"category\"]).T"
   ]
  },
  {
   "cell_type": "code",
   "execution_count": 17,
   "id": "07fc191a",
   "metadata": {
    "scrolled": true
   },
   "outputs": [
    {
     "name": "stdout",
     "output_type": "stream",
     "text": [
      "Unique values in place_1 are: \n",
      "\n",
      "United States of America                                27895\n",
      "United Kingdom of Great Britain and Northern Ireland     9715\n",
      "India                                                    3082\n",
      "Canada                                                   2851\n",
      "Australia                                                2340\n",
      "France                                                   1969\n",
      "Germany                                                  1929\n",
      "Italy                                                    1477\n",
      "Russia                                                   1120\n",
      "New Zealand                                               971\n",
      "Ireland                                                   951\n",
      "Japan                                                     937\n",
      "China, People's Republic of                               881\n",
      "Scotland                                                  878\n",
      "Spain                                                     852\n",
      "Netherlands                                               678\n",
      "Norway                                                    677\n",
      "Poland                                                    676\n",
      "South Africa                                              643\n",
      "Sweden                                                    575\n",
      "Brazil                                                    564\n",
      "Pakistan                                                  528\n",
      "Mexico                                                    492\n",
      "Philippines                                               475\n",
      "Argentina                                                 446\n",
      "Bangladesh                                                446\n",
      "Austria                                                   444\n",
      "Israel                                                    443\n",
      "Hungary                                                   401\n",
      "Belgium                                                   392\n",
      "Wales                                                     375\n",
      "Nigeria                                                   373\n",
      "Turkey                                                    366\n",
      "Czech Republic                                            360\n",
      "Iran                                                      347\n",
      "Romania                                                   339\n",
      "Switzerland                                               302\n",
      "Serbia                                                    296\n",
      "Sri Lanka                                                 288\n",
      "Ukraine                                                   274\n",
      "Greece                                                    270\n",
      "United Socialist Soviet Republic                          270\n",
      "Indonesia                                                 264\n",
      "Finland                                                   258\n",
      "Denmark                                                   250\n",
      "Jamaica                                                   222\n",
      "Cuba                                                      216\n",
      "Egypt                                                     207\n",
      "Croatia                                                   204\n",
      "Malaysia                                                  195\n",
      "Taiwan                                                    175\n",
      "Chile                                                     171\n",
      "South Korea                                               171\n",
      "Puerto Rico                                               167\n",
      "Portugal                                                  161\n",
      "Ghana                                                     148\n",
      "Colombia                                                  141\n",
      "Venezuela                                                 124\n",
      "Lebanon                                                   123\n",
      "Kenya                                                     120\n",
      "Uruguay                                                   117\n",
      "Bulgaria                                                  116\n",
      "Iraq                                                      112\n",
      "Estonia                                                   108\n",
      "Trinidad and Tobago                                        98\n",
      "Algeria                                                    98\n",
      "Peru                                                       98\n",
      "Thailand                                                   95\n",
      "Slovenia                                                   92\n",
      "Vietnam                                                    92\n",
      "Singapore                                                  88\n",
      "Morocco                                                    88\n",
      "Congo, Republic of the                                     86\n",
      "Burma                                                      84\n",
      "Georgia                                                    84\n",
      "Lithuania                                                  84\n",
      "Azerbaijan                                                 83\n",
      "Uganda                                                     83\n",
      "Zimbabwe                                                   83\n",
      "Nepal                                                      81\n",
      "Albania                                                    80\n",
      "Armenia                                                    78\n",
      "Palestine                                                  78\n",
      "Tunisia                                                    76\n",
      "Syria                                                      76\n",
      "Saudi Arabia                                               74\n",
      "Bosnia and Herzegovina                                     70\n",
      "Dominican Republic                                         66\n",
      "Slovakia                                                   64\n",
      "Belarus                                                    61\n",
      "Iceland                                                    61\n",
      "Africa                                                     57\n",
      "Afghanistan                                                57\n",
      "Ecuador                                                    55\n",
      "Cameroon                                                   54\n",
      "Latvia                                                     51\n",
      "Central America and the Caribbean                          49\n",
      "Namibia                                                    49\n",
      "Jordan                                                     48\n",
      "Guyana                                                     48\n",
      "Tanzania                                                   46\n",
      "Malta                                                      46\n",
      "Senegal                                                    44\n",
      "Honduras                                                   43\n",
      "Guatemala                                                  41\n",
      "Paraguay                                                   40\n",
      "Bolivia                                                    40\n",
      "Barbados                                                   39\n",
      "Haiti                                                      38\n",
      "Fiji                                                       38\n",
      "Zambia                                                     37\n",
      "Cyprus                                                     37\n",
      "Somalia                                                    36\n",
      "Ivory Coast                                                36\n",
      "Ethiopia                                                   36\n",
      "Kazakhstan                                                 34\n",
      "Macedonia, Republic of                                     34\n",
      "Cambodia                                                   34\n",
      "Yemen                                                      30\n",
      "Costa Rica                                                 30\n",
      "Europe                                                     30\n",
      "North Korea                                                29\n",
      "El Salvador                                                29\n",
      "Samoa                                                      29\n",
      "Uzbekistan                                                 29\n",
      "Malawi                                                     29\n",
      "Sudan                                                      29\n",
      "Moldova                                                    28\n",
      "Papua New Guinea                                           28\n",
      "Nicaragua                                                  28\n",
      "Oceania                                                    27\n",
      "Panama                                                     26\n",
      "Suriname                                                   25\n",
      "Angola                                                     25\n",
      "Montenegro                                                 24\n",
      "The Bahamas                                                24\n",
      "Luxembourg                                                 23\n",
      "Mali                                                       23\n",
      "Libya                                                      22\n",
      "Tonga                                                      22\n",
      "Asia                                                       22\n",
      "Guinea                                                     21\n",
      "Belize                                                     20\n",
      "Kuwait                                                     20\n",
      "Sierra Leone                                               19\n",
      "Solomon Islands                                            18\n",
      "Liberia                                                    18\n",
      "Mauritius                                                  18\n",
      "Benin                                                      17\n",
      "United Arab Emirates                                       17\n",
      "Mozambique                                                 16\n",
      "Kyrgyzstan                                                 16\n",
      "Madagascar                                                 15\n",
      "Rwanda                                                     14\n",
      "Togo                                                       12\n",
      "Burkina Faso                                               12\n",
      "Saint Lucia                                                11\n",
      "Cabo Verde                                                 11\n",
      "Monaco                                                     11\n",
      "Niger                                                      10\n",
      "Gabon                                                      10\n",
      "Gambia, The                                                10\n",
      "Mauritania                                                 10\n",
      "Grenada                                                    10\n",
      "Chad                                                        9\n",
      "Burundi                                                     9\n",
      "Swaziland                                                   9\n",
      "Central African Republic                                    9\n",
      "Saint Kitts and Nevis                                       9\n",
      "Tuvalu                                                      9\n",
      "Andorra                                                     9\n",
      "Bahrain                                                     8\n",
      "Northern Mariana Islands                                    8\n",
      "Equatorial Guinea                                           8\n",
      "Botswana                                                    7\n",
      "South Sudan                                                 7\n",
      "Eritrea                                                     7\n",
      "Timor Leste                                                 7\n",
      "Micronesia, Federated States of                             7\n",
      "Vanuatu                                                     6\n",
      "Antigua and Barbuda                                         6\n",
      "Mongolia                                                    6\n",
      "Saint Vincent and the Grenadines                            6\n",
      "Tajikistan                                                  6\n",
      "Nauru                                                       6\n",
      "Seychelles                                                  6\n",
      "Djibouti                                                    6\n",
      "Palau                                                       6\n",
      "Laos                                                        5\n",
      "Marshall Islands                                            5\n",
      "Indian subcontinent                                         4\n",
      "San Marino                                                  4\n",
      "Qatar                                                       4\n",
      "Liechtenstein                                               4\n",
      "Maldives                                                    4\n",
      "Gibraltar                                                   4\n",
      "Turkmenistan                                                4\n",
      "Comoros                                                     4\n",
      "Guinea Bissau                                               4\n",
      "São Tomé and Príncipe                                       3\n",
      "Martinique                                                  3\n",
      "Bhutan                                                      3\n",
      "Brunei                                                      3\n",
      "Kiribati                                                    3\n",
      "South Pacific                                               2\n",
      "Oman                                                        2\n",
      "Lesotho                                                     2\n",
      "Vatican City State                                          1\n",
      "Tokelau                                                     1\n",
      "Indian Ocean                                                1\n",
      "Name: place_1, dtype: int64 \n",
      " ------------------------------------------------------------ \n",
      "\n",
      "Unique values in place_2 are: \n",
      "\n",
      "United States of America                                1858\n",
      "United Kingdom of Great Britain and Northern Ireland     528\n",
      "Canada                                                   348\n",
      "Australia                                                240\n",
      "France                                                   154\n",
      "Israel                                                   141\n",
      "Russia                                                   124\n",
      "Germany                                                  102\n",
      "New Zealand                                               97\n",
      "Europe                                                    80\n",
      "India                                                     53\n",
      "United Socialist Soviet Republic                          48\n",
      "Italy                                                     45\n",
      "Switzerland                                               34\n",
      "China, People's Republic of                               33\n",
      "Spain                                                     33\n",
      "Mexico                                                    29\n",
      "Indian subcontinent                                       29\n",
      "Brazil                                                    28\n",
      "Netherlands                                               27\n",
      "Sweden                                                    26\n",
      "Ukraine                                                   24\n",
      "Argentina                                                 24\n",
      "South Africa                                              24\n",
      "Ireland                                                   22\n",
      "Armenia                                                   22\n",
      "Belgium                                                   21\n",
      "Serbia                                                    18\n",
      "Asia                                                      15\n",
      "Pakistan                                                  13\n",
      "Venezuela                                                 13\n",
      "Chile                                                     12\n",
      "Hungary                                                   12\n",
      "Greece                                                    11\n",
      "Norway                                                    11\n",
      "Austria                                                   11\n",
      "Scotland                                                  10\n",
      "Japan                                                     10\n",
      "Singapore                                                  9\n",
      "Poland                                                     9\n",
      "Puerto Rico                                                9\n",
      "Turkey                                                     9\n",
      "Denmark                                                    8\n",
      "Cyprus                                                     8\n",
      "Samoa                                                      8\n",
      "Taiwan                                                     8\n",
      "Albania                                                    8\n",
      "Iran                                                       7\n",
      "Zimbabwe                                                   7\n",
      "Dominican Republic                                         6\n",
      "Lebanon                                                    6\n",
      "Indonesia                                                  5\n",
      "Czech Republic                                             5\n",
      "Oceania                                                    5\n",
      "Georgia                                                    5\n",
      "Papua New Guinea                                           5\n",
      "Philippines                                                5\n",
      "Portugal                                                   5\n",
      "Romania                                                    5\n",
      "Algeria                                                    5\n",
      "Middle East                                                4\n",
      "Kenya                                                      4\n",
      "Uruguay                                                    4\n",
      "Latvia                                                     4\n",
      "Malaysia                                                   4\n",
      "Croatia                                                    4\n",
      "Guinea                                                     4\n",
      "Jamaica                                                    4\n",
      "Cuba                                                       4\n",
      "Bangladesh                                                 4\n",
      "Iraq                                                       4\n",
      "Colombia                                                   4\n",
      "Slovakia                                                   3\n",
      "Paraguay                                                   3\n",
      "Belarus                                                    3\n",
      "Tajikistan                                                 3\n",
      "Morocco                                                    3\n",
      "Uganda                                                     3\n",
      "Vietnam                                                    3\n",
      "Yemen                                                      3\n",
      "Zambia                                                     3\n",
      "Namibia                                                    3\n",
      "Kazakhstan                                                 3\n",
      "Kyrgyzstan                                                 3\n",
      "Lithuania                                                  3\n",
      "Mozambique                                                 2\n",
      "Turkmenistan                                               2\n",
      "Slovenia                                                   2\n",
      "Mongolia                                                   2\n",
      "Bosnia and Herzegovina                                     2\n",
      "Syria                                                      2\n",
      "Africa                                                     2\n",
      "Trinidad and Tobago                                        2\n",
      "Macedonia, Republic of                                     2\n",
      "Barbados                                                   2\n",
      "San Marino                                                 2\n",
      "United Arab Emirates                                       2\n",
      "Azerbaijan                                                 2\n",
      "Antigua and Barbuda                                        2\n",
      "Vatican City State                                         2\n",
      "Andorra                                                    2\n",
      "Jordan                                                     2\n",
      "Congo, Republic of the                                     2\n",
      "Somalia                                                    2\n",
      "Estonia                                                    2\n",
      "Ghana                                                      2\n",
      "Haiti                                                      2\n",
      "Fiji                                                       2\n",
      "Moldova                                                    2\n",
      "Finland                                                    2\n",
      "Qatar                                                      2\n",
      "Nigeria                                                    2\n",
      "Palestine                                                  2\n",
      "Equatorial Guinea                                          2\n",
      "Togo                                                       1\n",
      "Luxembourg                                                 1\n",
      "Palau                                                      1\n",
      "Gabon                                                      1\n",
      "Iceland                                                    1\n",
      "Grenada                                                    1\n",
      "Thailand                                                   1\n",
      "North America                                              1\n",
      "Angola                                                     1\n",
      "Nicaragua                                                  1\n",
      "Liechtenstein                                              1\n",
      "Wales                                                      1\n",
      "Monaco                                                     1\n",
      "Timor Leste                                                1\n",
      "Belize                                                     1\n",
      "Tanzania                                                   1\n",
      "Peru                                                       1\n",
      "Saint Vincent and the Grenadines                           1\n",
      "Kuwait                                                     1\n",
      "Egypt                                                      1\n",
      "Saudi Arabia                                               1\n",
      "Costa Rica                                                 1\n",
      "Sierra Leone                                               1\n",
      "Martinique                                                 1\n",
      "Maldives                                                   1\n",
      "Central America and the Caribbean                          1\n",
      "South Korea                                                1\n",
      "South Sudan                                                1\n",
      "Cambodia                                                   1\n",
      "Sri Lanka                                                  1\n",
      "Sudan                                                      1\n",
      "Burkina Faso                                               1\n",
      "Ethiopia                                                   1\n",
      "Rwanda                                                     1\n",
      "Afghanistan                                                1\n",
      "Name: place_2, dtype: int64 \n",
      " ------------------------------------------------------------ \n",
      "\n"
     ]
    },
    {
     "data": {
      "application/javascript": [
       "\n",
       "            setTimeout(function() {\n",
       "                var nbb_cell_id = 17;\n",
       "                var nbb_unformatted_code = \"# Checking different levels of place_1 and place_2\\ncat_cols = [\\\"place_1\\\", \\\"place_2\\\"]\\nfor column in cat_cols:\\n    print(f\\\"Unique values in {column} are: \\\\n\\\")\\n    print(df[column].value_counts(), \\\"\\\\n\\\", \\\"-\\\" * 60, \\\"\\\\n\\\")\";\n",
       "                var nbb_formatted_code = \"# Checking different levels of place_1 and place_2\\ncat_cols = [\\\"place_1\\\", \\\"place_2\\\"]\\nfor column in cat_cols:\\n    print(f\\\"Unique values in {column} are: \\\\n\\\")\\n    print(df[column].value_counts(), \\\"\\\\n\\\", \\\"-\\\" * 60, \\\"\\\\n\\\")\";\n",
       "                var nbb_cells = Jupyter.notebook.get_cells();\n",
       "                for (var i = 0; i < nbb_cells.length; ++i) {\n",
       "                    if (nbb_cells[i].input_prompt_number == nbb_cell_id) {\n",
       "                        if (nbb_cells[i].get_text() == nbb_unformatted_code) {\n",
       "                             nbb_cells[i].set_text(nbb_formatted_code);\n",
       "                        }\n",
       "                        break;\n",
       "                    }\n",
       "                }\n",
       "            }, 500);\n",
       "            "
      ],
      "text/plain": [
       "<IPython.core.display.Javascript object>"
      ]
     },
     "metadata": {},
     "output_type": "display_data"
    }
   ],
   "source": [
    "# Checking different levels of place_1 and place_2\n",
    "cat_cols = [\"place_1\", \"place_2\"]\n",
    "for column in cat_cols:\n",
    "    print(f\"Unique values in {column} are: \\n\")\n",
    "    print(df[column].value_counts(), \"\\n\", \"-\" * 60, \"\\n\")"
   ]
  },
  {
   "cell_type": "markdown",
   "id": "46b9fffe",
   "metadata": {},
   "source": [
    "#### Observations\n",
    "- `info` stands out as having a value consistent for 38 entries--American baseball player, living to age 87.  This feature is retained only for reference, as untreated it is unwieldy.  However, the example validates that the entries have distinguishing characteristics on which to base analysis.\n",
    "- `link` is again confirmed here as having all unique values.\n",
    "- We see that there are 12 unique values for `month`, as expected.  January is the top value, accounting for over 10% of entries.\n",
    "- `cause_of_death` has 2699 unique values, in its current form, with 3351 entries for the top value of unspecified cancer.\n",
    "- There are 210 unique values for `place_1` and 149 for `place_2`, with United States of America being the most frequent for both features.  The unique places with their respective counts are listed.\n",
    "- `arts` leads the `known for` categories (lowest frequency of 0 values), followed by `politics_govt_law`, then `sports`.  All categories have 2 values, as expected.\n",
    "- For use in the remainder of the analysis, we will re-typecast the `known for` categories back to integer type."
   ]
  },
  {
   "cell_type": "markdown",
   "id": "b522af71",
   "metadata": {},
   "source": [
    "#### Re-typecasting `known for` Category Columns as Integer"
   ]
  },
  {
   "cell_type": "code",
   "execution_count": 18,
   "id": "0aaaf862",
   "metadata": {},
   "outputs": [
    {
     "data": {
      "application/javascript": [
       "\n",
       "            setTimeout(function() {\n",
       "                var nbb_cell_id = 18;\n",
       "                var nbb_unformatted_code = \"# Converting known for categories back to integer\\ncols_to_cast = [\\n    \\\"sciences\\\",\\n    \\\"social\\\",\\n    \\\"spiritual\\\",\\n    \\\"academia_humanities\\\",\\n    \\\"business_farming\\\",\\n    \\\"arts\\\",\\n    \\\"sports\\\",\\n    \\\"law_enf_military_operator\\\",\\n    \\\"politics_govt_law\\\",\\n    \\\"crime\\\",\\n    \\\"event_record_other\\\",\\n]\\ndf[cols_to_cast] = df[cols_to_cast].astype(\\\"int64\\\")\";\n",
       "                var nbb_formatted_code = \"# Converting known for categories back to integer\\ncols_to_cast = [\\n    \\\"sciences\\\",\\n    \\\"social\\\",\\n    \\\"spiritual\\\",\\n    \\\"academia_humanities\\\",\\n    \\\"business_farming\\\",\\n    \\\"arts\\\",\\n    \\\"sports\\\",\\n    \\\"law_enf_military_operator\\\",\\n    \\\"politics_govt_law\\\",\\n    \\\"crime\\\",\\n    \\\"event_record_other\\\",\\n]\\ndf[cols_to_cast] = df[cols_to_cast].astype(\\\"int64\\\")\";\n",
       "                var nbb_cells = Jupyter.notebook.get_cells();\n",
       "                for (var i = 0; i < nbb_cells.length; ++i) {\n",
       "                    if (nbb_cells[i].input_prompt_number == nbb_cell_id) {\n",
       "                        if (nbb_cells[i].get_text() == nbb_unformatted_code) {\n",
       "                             nbb_cells[i].set_text(nbb_formatted_code);\n",
       "                        }\n",
       "                        break;\n",
       "                    }\n",
       "                }\n",
       "            }, 500);\n",
       "            "
      ],
      "text/plain": [
       "<IPython.core.display.Javascript object>"
      ]
     },
     "metadata": {},
     "output_type": "display_data"
    }
   ],
   "source": [
    "# Converting known for categories back to integer\n",
    "cols_to_cast = [\n",
    "    \"sciences\",\n",
    "    \"social\",\n",
    "    \"spiritual\",\n",
    "    \"academia_humanities\",\n",
    "    \"business_farming\",\n",
    "    \"arts\",\n",
    "    \"sports\",\n",
    "    \"law_enf_military_operator\",\n",
    "    \"politics_govt_law\",\n",
    "    \"crime\",\n",
    "    \"event_record_other\",\n",
    "]\n",
    "df[cols_to_cast] = df[cols_to_cast].astype(\"int64\")"
   ]
  },
  {
   "cell_type": "markdown",
   "id": "88898b2e",
   "metadata": {},
   "source": [
    "### Univariate Analysis"
   ]
  },
  {
   "cell_type": "markdown",
   "id": "7ff0d15c",
   "metadata": {},
   "source": [
    "#### Function to plot histogram and boxplot on same scale"
   ]
  },
  {
   "cell_type": "code",
   "execution_count": 19,
   "id": "cf85255b",
   "metadata": {},
   "outputs": [
    {
     "data": {
      "application/javascript": [
       "\n",
       "            setTimeout(function() {\n",
       "                var nbb_cell_id = 19;\n",
       "                var nbb_unformatted_code = \"# Define a function to create a boxplot and histplot for numeric variables\\ndef hist_box(data, feature, figsize=(12, 7), kde=False, bins=None):\\n    \\\"\\\"\\\"\\n    Boxplot and histogram combined\\n    \\n    data: dataframe\\n    feature: dataframe column\\n    figsize: size of figure (default (12, 7))\\n    kde: whether to show the density curve (default False)\\n    bins: number of bins for histogram (default None)\\n    \\\"\\\"\\\"\\n    f1, (ax_box1, ax_hist1) = plt.subplots(  # Assigning the figure and the 2 axes\\n        nrows=2,  # Subplot grid has 2 rows\\n        sharex=True,  # Subplots share the same x axis\\n        gridspec_kw={\\n            \\\"height_ratios\\\": (0.25, 0.75)\\n        },  # Proportional height of the subplots\\n        figsize=figsize,\\n    )  # Assigning the figure size\\n\\n    # Creating the boxplot and showing mean with some mean and median attributes\\n    sns.boxplot(\\n        data=data,\\n        x=feature,\\n        ax=ax_box1,\\n        showmeans=True,\\n        color=\\\"mediumorchid\\\",\\n        medianprops={\\\"color\\\": \\\"black\\\"},\\n        meanprops={\\n            \\\"marker\\\": \\\"D\\\",\\n            \\\"markersize\\\": 4,\\n            \\\"markeredgecolor\\\": \\\"black\\\",\\n            \\\"markerfacecolor\\\": \\\"black\\\",\\n        },\\n    )\\n\\n    # Creating the histplot\\n    sns.histplot(\\n        data=data, x=feature, ax=ax_hist1, kde=kde, bins=bins, color=\\\"darkolivegreen\\\"\\n    ) if bins else sns.histplot(\\n        data=data, x=feature, kde=kde, ax=ax_hist1, color=\\\"darkolivegreen\\\"\\n    )\\n\\n    # Draw vertical line at mean on histogram\\n    ax_hist1.axvline(data[feature].mean(), linestyle=\\\"--\\\", linewidth=2, color=\\\"black\\\")\\n\\n    # Draw vertical line at median on histogram\\n    ax_hist1.axvline(data[feature].median(), linewidth=2, color=\\\"black\\\")\";\n",
       "                var nbb_formatted_code = \"# Define a function to create a boxplot and histplot for numeric variables\\ndef hist_box(data, feature, figsize=(12, 7), kde=False, bins=None):\\n    \\\"\\\"\\\"\\n    Boxplot and histogram combined\\n    \\n    data: dataframe\\n    feature: dataframe column\\n    figsize: size of figure (default (12, 7))\\n    kde: whether to show the density curve (default False)\\n    bins: number of bins for histogram (default None)\\n    \\\"\\\"\\\"\\n    f1, (ax_box1, ax_hist1) = plt.subplots(  # Assigning the figure and the 2 axes\\n        nrows=2,  # Subplot grid has 2 rows\\n        sharex=True,  # Subplots share the same x axis\\n        gridspec_kw={\\n            \\\"height_ratios\\\": (0.25, 0.75)\\n        },  # Proportional height of the subplots\\n        figsize=figsize,\\n    )  # Assigning the figure size\\n\\n    # Creating the boxplot and showing mean with some mean and median attributes\\n    sns.boxplot(\\n        data=data,\\n        x=feature,\\n        ax=ax_box1,\\n        showmeans=True,\\n        color=\\\"mediumorchid\\\",\\n        medianprops={\\\"color\\\": \\\"black\\\"},\\n        meanprops={\\n            \\\"marker\\\": \\\"D\\\",\\n            \\\"markersize\\\": 4,\\n            \\\"markeredgecolor\\\": \\\"black\\\",\\n            \\\"markerfacecolor\\\": \\\"black\\\",\\n        },\\n    )\\n\\n    # Creating the histplot\\n    sns.histplot(\\n        data=data, x=feature, ax=ax_hist1, kde=kde, bins=bins, color=\\\"darkolivegreen\\\"\\n    ) if bins else sns.histplot(\\n        data=data, x=feature, kde=kde, ax=ax_hist1, color=\\\"darkolivegreen\\\"\\n    )\\n\\n    # Draw vertical line at mean on histogram\\n    ax_hist1.axvline(data[feature].mean(), linestyle=\\\"--\\\", linewidth=2, color=\\\"black\\\")\\n\\n    # Draw vertical line at median on histogram\\n    ax_hist1.axvline(data[feature].median(), linewidth=2, color=\\\"black\\\")\";\n",
       "                var nbb_cells = Jupyter.notebook.get_cells();\n",
       "                for (var i = 0; i < nbb_cells.length; ++i) {\n",
       "                    if (nbb_cells[i].input_prompt_number == nbb_cell_id) {\n",
       "                        if (nbb_cells[i].get_text() == nbb_unformatted_code) {\n",
       "                             nbb_cells[i].set_text(nbb_formatted_code);\n",
       "                        }\n",
       "                        break;\n",
       "                    }\n",
       "                }\n",
       "            }, 500);\n",
       "            "
      ],
      "text/plain": [
       "<IPython.core.display.Javascript object>"
      ]
     },
     "metadata": {},
     "output_type": "display_data"
    }
   ],
   "source": [
    "# Define a function to create a boxplot and histplot for numeric variables\n",
    "def hist_box(data, feature, figsize=(12, 7), kde=False, bins=None):\n",
    "    \"\"\"\n",
    "    Boxplot and histogram combined\n",
    "    \n",
    "    data: dataframe\n",
    "    feature: dataframe column\n",
    "    figsize: size of figure (default (12, 7))\n",
    "    kde: whether to show the density curve (default False)\n",
    "    bins: number of bins for histogram (default None)\n",
    "    \"\"\"\n",
    "    f1, (ax_box1, ax_hist1) = plt.subplots(  # Assigning the figure and the 2 axes\n",
    "        nrows=2,  # Subplot grid has 2 rows\n",
    "        sharex=True,  # Subplots share the same x axis\n",
    "        gridspec_kw={\n",
    "            \"height_ratios\": (0.25, 0.75)\n",
    "        },  # Proportional height of the subplots\n",
    "        figsize=figsize,\n",
    "    )  # Assigning the figure size\n",
    "\n",
    "    # Creating the boxplot and showing mean with some mean and median attributes\n",
    "    sns.boxplot(\n",
    "        data=data,\n",
    "        x=feature,\n",
    "        ax=ax_box1,\n",
    "        showmeans=True,\n",
    "        color=\"mediumorchid\",\n",
    "        medianprops={\"color\": \"black\"},\n",
    "        meanprops={\n",
    "            \"marker\": \"D\",\n",
    "            \"markersize\": 4,\n",
    "            \"markeredgecolor\": \"black\",\n",
    "            \"markerfacecolor\": \"black\",\n",
    "        },\n",
    "    )\n",
    "\n",
    "    # Creating the histplot\n",
    "    sns.histplot(\n",
    "        data=data, x=feature, ax=ax_hist1, kde=kde, bins=bins, color=\"darkolivegreen\"\n",
    "    ) if bins else sns.histplot(\n",
    "        data=data, x=feature, kde=kde, ax=ax_hist1, color=\"darkolivegreen\"\n",
    "    )\n",
    "\n",
    "    # Draw vertical line at mean on histogram\n",
    "    ax_hist1.axvline(data[feature].mean(), linestyle=\"--\", linewidth=2, color=\"black\")\n",
    "\n",
    "    # Draw vertical line at median on histogram\n",
    "    ax_hist1.axvline(data[feature].median(), linewidth=2, color=\"black\")"
   ]
  },
  {
   "cell_type": "markdown",
   "id": "eec6a85f",
   "metadata": {},
   "source": [
    "### Univariate Analysis -- Numerical Features"
   ]
  },
  {
   "cell_type": "markdown",
   "id": "4a06ee97",
   "metadata": {},
   "source": [
    "### `age` (target)"
   ]
  },
  {
   "cell_type": "code",
   "execution_count": 20,
   "id": "943d39a9",
   "metadata": {},
   "outputs": [
    {
     "name": "stdout",
     "output_type": "stream",
     "text": [
      "Skewness: -1.1212592270885697\n"
     ]
    },
    {
     "data": {
      "image/png": "[encoded data removed]",
      "text/plain": [
       "<Figure size 864x504 with 2 Axes>"
      ]
     },
     "metadata": {},
     "output_type": "display_data"
    },
    {
     "data": {
      "application/javascript": [
       "\n",
       "            setTimeout(function() {\n",
       "                var nbb_cell_id = 20;\n",
       "                var nbb_unformatted_code = \"# Plotting histogram and boxplot of age with skewness displayed\\nhist_box(df, \\\"age\\\")\\nprint(f'Skewness: {df[\\\"age\\\"].skew()}')\";\n",
       "                var nbb_formatted_code = \"# Plotting histogram and boxplot of age with skewness displayed\\nhist_box(df, \\\"age\\\")\\nprint(f'Skewness: {df[\\\"age\\\"].skew()}')\";\n",
       "                var nbb_cells = Jupyter.notebook.get_cells();\n",
       "                for (var i = 0; i < nbb_cells.length; ++i) {\n",
       "                    if (nbb_cells[i].input_prompt_number == nbb_cell_id) {\n",
       "                        if (nbb_cells[i].get_text() == nbb_unformatted_code) {\n",
       "                             nbb_cells[i].set_text(nbb_formatted_code);\n",
       "                        }\n",
       "                        break;\n",
       "                    }\n",
       "                }\n",
       "            }, 500);\n",
       "            "
      ],
      "text/plain": [
       "<IPython.core.display.Javascript object>"
      ]
     },
     "metadata": {},
     "output_type": "display_data"
    }
   ],
   "source": [
    "# Plotting histogram and boxplot of age with skewness displayed\n",
    "hist_box(df, \"age\")\n",
    "print(f'Skewness: {df[\"age\"].skew()}')"
   ]
  },
  {
   "cell_type": "markdown",
   "id": "758ed483",
   "metadata": {},
   "source": [
    "#### Observations:\n",
    "- `age` has a highly left skewed distribution with outliers at both ends, with at least one value over 130 years.\n",
    "- Mean and median are ~77 and 80 years, respectively.\n",
    "- As we are interested in predicting `age` for entries known for their lives pro-actively lived, rather than for those known only for events that happened to them, or exceptions (e.g., \"tallest person\"), we will look again at our target's distribution excluding entries that have `event_record_other` as their sole `known for` category."
   ]
  },
  {
   "cell_type": "markdown",
   "id": "8eba3999",
   "metadata": {},
   "source": [
    "#### `age` without Entries with `event_record_other` as Sole Category"
   ]
  },
  {
   "cell_type": "code",
   "execution_count": 21,
   "id": "aaa47b47",
   "metadata": {},
   "outputs": [
    {
     "name": "stdout",
     "output_type": "stream",
     "text": [
      "There are 378 entries with event_record_other as sole category.\n",
      "\n",
      "Skewness: -1.1003991568402303\n"
     ]
    },
    {
     "data": {
      "image/png": "[encoded data removed]",
      "text/plain": [
       "<Figure size 864x504 with 2 Axes>"
      ]
     },
     "metadata": {},
     "output_type": "display_data"
    },
    {
     "data": {
      "application/javascript": [
       "\n",
       "            setTimeout(function() {\n",
       "                var nbb_cell_id = 21;\n",
       "                var nbb_unformatted_code = \"# Plotting histogram and boxplot of age with skewness displayed\\nhist_box(df[~((df[\\\"event_record_other\\\"] == 1) & (df[\\\"num_categories\\\"] == 1))], \\\"age\\\")\\nprint(\\n    f'There are {len(df[(df[\\\"event_record_other\\\"] == 1) & (df[\\\"num_categories\\\"] == 1)])} entries with event_record_other as sole category.\\\\n'\\n)\\nprint(\\n    f'Skewness: {df[~((df[\\\"event_record_other\\\"] == 1) & (df[\\\"num_categories\\\"] == 1))][\\\"age\\\"].skew()}'\\n)\";\n",
       "                var nbb_formatted_code = \"# Plotting histogram and boxplot of age with skewness displayed\\nhist_box(df[~((df[\\\"event_record_other\\\"] == 1) & (df[\\\"num_categories\\\"] == 1))], \\\"age\\\")\\nprint(\\n    f'There are {len(df[(df[\\\"event_record_other\\\"] == 1) & (df[\\\"num_categories\\\"] == 1)])} entries with event_record_other as sole category.\\\\n'\\n)\\nprint(\\n    f'Skewness: {df[~((df[\\\"event_record_other\\\"] == 1) & (df[\\\"num_categories\\\"] == 1))][\\\"age\\\"].skew()}'\\n)\";\n",
       "                var nbb_cells = Jupyter.notebook.get_cells();\n",
       "                for (var i = 0; i < nbb_cells.length; ++i) {\n",
       "                    if (nbb_cells[i].input_prompt_number == nbb_cell_id) {\n",
       "                        if (nbb_cells[i].get_text() == nbb_unformatted_code) {\n",
       "                             nbb_cells[i].set_text(nbb_formatted_code);\n",
       "                        }\n",
       "                        break;\n",
       "                    }\n",
       "                }\n",
       "            }, 500);\n",
       "            "
      ],
      "text/plain": [
       "<IPython.core.display.Javascript object>"
      ]
     },
     "metadata": {},
     "output_type": "display_data"
    }
   ],
   "source": [
    "# Plotting histogram and boxplot of age with skewness displayed\n",
    "hist_box(df[~((df[\"event_record_other\"] == 1) & (df[\"num_categories\"] == 1))], \"age\")\n",
    "print(\n",
    "    f'There are {len(df[(df[\"event_record_other\"] == 1) & (df[\"num_categories\"] == 1)])} entries with event_record_other as sole category.\\n'\n",
    ")\n",
    "print(\n",
    "    f'Skewness: {df[~((df[\"event_record_other\"] == 1) & (df[\"num_categories\"] == 1))][\"age\"].skew()}'\n",
    ")"
   ]
  },
  {
   "cell_type": "markdown",
   "id": "0279fa1b",
   "metadata": {},
   "source": [
    "#### Observations:\n",
    "- Mean and median are similar for the distribution excluding entries with `event_record_other` as their sole `known_for` category.\n",
    "- The distribution is still highly left skewed, but slightly less and with a narrower spread, and fewer outliers.\n",
    "- There are possibly two modes--the obvious peak at ~87 years and another at ~40, so we may have two Gaussian's combined here.\n",
    "- We will drop the entries with `event_record_other` during pre-processing for modeling."
   ]
  },
  {
   "cell_type": "markdown",
   "id": "83401883",
   "metadata": {},
   "source": [
    "### `num_references`"
   ]
  },
  {
   "cell_type": "code",
   "execution_count": 22,
   "id": "9a22769a",
   "metadata": {},
   "outputs": [
    {
     "name": "stdout",
     "output_type": "stream",
     "text": [
      "Skewness: 9.261501558082896\n"
     ]
    },
    {
     "data": {
      "image/png": "[encoded data removed]",
      "text/plain": [
       "<Figure size 864x504 with 2 Axes>"
      ]
     },
     "metadata": {},
     "output_type": "display_data"
    },
    {
     "data": {
      "application/javascript": [
       "\n",
       "            setTimeout(function() {\n",
       "                var nbb_cell_id = 22;\n",
       "                var nbb_unformatted_code = \"# Plotting histogram and boxplot of num_references with skewness displayed\\nhist_box(df, \\\"num_references\\\")\\nprint(f'Skewness: {df[\\\"num_references\\\"].skew()}')\";\n",
       "                var nbb_formatted_code = \"# Plotting histogram and boxplot of num_references with skewness displayed\\nhist_box(df, \\\"num_references\\\")\\nprint(f'Skewness: {df[\\\"num_references\\\"].skew()}')\";\n",
       "                var nbb_cells = Jupyter.notebook.get_cells();\n",
       "                for (var i = 0; i < nbb_cells.length; ++i) {\n",
       "                    if (nbb_cells[i].input_prompt_number == nbb_cell_id) {\n",
       "                        if (nbb_cells[i].get_text() == nbb_unformatted_code) {\n",
       "                             nbb_cells[i].set_text(nbb_formatted_code);\n",
       "                        }\n",
       "                        break;\n",
       "                    }\n",
       "                }\n",
       "            }, 500);\n",
       "            "
      ],
      "text/plain": [
       "<IPython.core.display.Javascript object>"
      ]
     },
     "metadata": {},
     "output_type": "display_data"
    }
   ],
   "source": [
    "# Plotting histogram and boxplot of num_references with skewness displayed\n",
    "hist_box(df, \"num_references\")\n",
    "print(f'Skewness: {df[\"num_references\"].skew()}')"
   ]
  },
  {
   "cell_type": "markdown",
   "id": "17753cae",
   "metadata": {},
   "source": [
    "#### Observations:\n",
    "- `num_references` has a very highly right skewed distribution, with upper-end outliers with over 600 references.\n",
    "- We will look more closely at a log transformation of this feature."
   ]
  },
  {
   "cell_type": "markdown",
   "id": "7f373bf8",
   "metadata": {},
   "source": [
    "#### `log_num_references`"
   ]
  },
  {
   "cell_type": "code",
   "execution_count": 23,
   "id": "9ce78534",
   "metadata": {},
   "outputs": [
    {
     "name": "stdout",
     "output_type": "stream",
     "text": [
      "Skewness: 1.004819713313625\n"
     ]
    },
    {
     "data": {
      "image/png": "[encoded data removed]",
      "text/plain": [
       "<Figure size 864x504 with 2 Axes>"
      ]
     },
     "metadata": {},
     "output_type": "display_data"
    },
    {
     "data": {
      "application/javascript": [
       "\n",
       "            setTimeout(function() {\n",
       "                var nbb_cell_id = 23;\n",
       "                var nbb_unformatted_code = \"# Creating log_num_references (minimum num_references is 2 for this dataset so no need to add 1 to x)\\ndf[\\\"log_num_references\\\"] = df[\\\"num_references\\\"].apply(lambda x: np.log(x))\\n\\n# Plotting histogram and boxplot of num_references with skewness displayed\\nhist_box(df, \\\"log_num_references\\\")\\nprint(f'Skewness: {df[\\\"log_num_references\\\"].skew()}')\";\n",
       "                var nbb_formatted_code = \"# Creating log_num_references (minimum num_references is 2 for this dataset so no need to add 1 to x)\\ndf[\\\"log_num_references\\\"] = df[\\\"num_references\\\"].apply(lambda x: np.log(x))\\n\\n# Plotting histogram and boxplot of num_references with skewness displayed\\nhist_box(df, \\\"log_num_references\\\")\\nprint(f'Skewness: {df[\\\"log_num_references\\\"].skew()}')\";\n",
       "                var nbb_cells = Jupyter.notebook.get_cells();\n",
       "                for (var i = 0; i < nbb_cells.length; ++i) {\n",
       "                    if (nbb_cells[i].input_prompt_number == nbb_cell_id) {\n",
       "                        if (nbb_cells[i].get_text() == nbb_unformatted_code) {\n",
       "                             nbb_cells[i].set_text(nbb_formatted_code);\n",
       "                        }\n",
       "                        break;\n",
       "                    }\n",
       "                }\n",
       "            }, 500);\n",
       "            "
      ],
      "text/plain": [
       "<IPython.core.display.Javascript object>"
      ]
     },
     "metadata": {},
     "output_type": "display_data"
    }
   ],
   "source": [
    "# Creating log_num_references (minimum num_references is 2 for this dataset so no need to add 1 to x)\n",
    "df[\"log_num_references\"] = df[\"num_references\"].apply(lambda x: np.log(x))\n",
    "\n",
    "# Plotting histogram and boxplot of num_references with skewness displayed\n",
    "hist_box(df, \"log_num_references\")\n",
    "print(f'Skewness: {df[\"log_num_references\"].skew()}')"
   ]
  },
  {
   "cell_type": "markdown",
   "id": "96966d8b",
   "metadata": {},
   "source": [
    "#### Observations:\n",
    "- `log_num_references` is also highly right skewed, albeit magnitudes less than the original `num_references` feature.\n",
    "- Let us try a reciprocal transformation of `num_references` (i.e., 1/`num_references`)."
   ]
  },
  {
   "cell_type": "markdown",
   "id": "f674f0a2",
   "metadata": {},
   "source": [
    "#### `recip_num_references`"
   ]
  },
  {
   "cell_type": "code",
   "execution_count": 24,
   "id": "e40e3f27",
   "metadata": {},
   "outputs": [
    {
     "name": "stdout",
     "output_type": "stream",
     "text": [
      "Skewness: 0.45519348248916963\n"
     ]
    },
    {
     "data": {
      "image/png": "[encoded data removed]",
      "text/plain": [
       "<Figure size 864x504 with 2 Axes>"
      ]
     },
     "metadata": {},
     "output_type": "display_data"
    },
    {
     "data": {
      "application/javascript": [
       "\n",
       "            setTimeout(function() {\n",
       "                var nbb_cell_id = 24;\n",
       "                var nbb_unformatted_code = \"# Creating recip_num_references = 1/num_references\\ndf[\\\"recip_num_references\\\"] = df[\\\"num_references\\\"].apply(lambda x: 1 / x)\\n\\n# Plotting histogram and boxplot of num_references with skewness displayed\\nhist_box(df, \\\"recip_num_references\\\")\\nprint(f'Skewness: {df[\\\"recip_num_references\\\"].skew()}')\";\n",
       "                var nbb_formatted_code = \"# Creating recip_num_references = 1/num_references\\ndf[\\\"recip_num_references\\\"] = df[\\\"num_references\\\"].apply(lambda x: 1 / x)\\n\\n# Plotting histogram and boxplot of num_references with skewness displayed\\nhist_box(df, \\\"recip_num_references\\\")\\nprint(f'Skewness: {df[\\\"recip_num_references\\\"].skew()}')\";\n",
       "                var nbb_cells = Jupyter.notebook.get_cells();\n",
       "                for (var i = 0; i < nbb_cells.length; ++i) {\n",
       "                    if (nbb_cells[i].input_prompt_number == nbb_cell_id) {\n",
       "                        if (nbb_cells[i].get_text() == nbb_unformatted_code) {\n",
       "                             nbb_cells[i].set_text(nbb_formatted_code);\n",
       "                        }\n",
       "                        break;\n",
       "                    }\n",
       "                }\n",
       "            }, 500);\n",
       "            "
      ],
      "text/plain": [
       "<IPython.core.display.Javascript object>"
      ]
     },
     "metadata": {},
     "output_type": "display_data"
    }
   ],
   "source": [
    "# Creating recip_num_references = 1/num_references\n",
    "df[\"recip_num_references\"] = df[\"num_references\"].apply(lambda x: 1 / x)\n",
    "\n",
    "# Plotting histogram and boxplot of num_references with skewness displayed\n",
    "hist_box(df, \"recip_num_references\")\n",
    "print(f'Skewness: {df[\"recip_num_references\"].skew()}')"
   ]
  },
  {
   "cell_type": "markdown",
   "id": "a08f9ef0",
   "metadata": {},
   "source": [
    "#### Observations:\n",
    "- The reciprocal transformation was more effective in decreasing the skewness of the distribution.\n",
    "- There are two to three modes.\n",
    "- We will proceed retaining `recip_num_references` and dropping `log_num_references`."
   ]
  },
  {
   "cell_type": "markdown",
   "id": "9cb83aaf",
   "metadata": {},
   "source": [
    "#### Dropping `log_num_references`"
   ]
  },
  {
   "cell_type": "code",
   "execution_count": 25,
   "id": "a3b387e0",
   "metadata": {},
   "outputs": [
    {
     "data": {
      "application/javascript": [
       "\n",
       "            setTimeout(function() {\n",
       "                var nbb_cell_id = 25;\n",
       "                var nbb_unformatted_code = \"# Dropping log_num_references\\ndf.drop(\\\"log_num_references\\\", axis=1, inplace=True)\\ndf.reset_index(inplace=True, drop=True)\";\n",
       "                var nbb_formatted_code = \"# Dropping log_num_references\\ndf.drop(\\\"log_num_references\\\", axis=1, inplace=True)\\ndf.reset_index(inplace=True, drop=True)\";\n",
       "                var nbb_cells = Jupyter.notebook.get_cells();\n",
       "                for (var i = 0; i < nbb_cells.length; ++i) {\n",
       "                    if (nbb_cells[i].input_prompt_number == nbb_cell_id) {\n",
       "                        if (nbb_cells[i].get_text() == nbb_unformatted_code) {\n",
       "                             nbb_cells[i].set_text(nbb_formatted_code);\n",
       "                        }\n",
       "                        break;\n",
       "                    }\n",
       "                }\n",
       "            }, 500);\n",
       "            "
      ],
      "text/plain": [
       "<IPython.core.display.Javascript object>"
      ]
     },
     "metadata": {},
     "output_type": "display_data"
    }
   ],
   "source": [
    "# Dropping log_num_references\n",
    "df.drop(\"log_num_references\", axis=1, inplace=True)\n",
    "df.reset_index(inplace=True, drop=True)"
   ]
  },
  {
   "cell_type": "markdown",
   "id": "61c05258",
   "metadata": {},
   "source": [
    "### `year`"
   ]
  },
  {
   "cell_type": "code",
   "execution_count": 26,
   "id": "aaabd219",
   "metadata": {},
   "outputs": [
    {
     "name": "stdout",
     "output_type": "stream",
     "text": [
      "Skewness: -0.756925238841326\n"
     ]
    },
    {
     "data": {
      "image/png": "[encoded data removed]",
      "text/plain": [
       "<Figure size 864x504 with 2 Axes>"
      ]
     },
     "metadata": {},
     "output_type": "display_data"
    },
    {
     "data": {
      "application/javascript": [
       "\n",
       "            setTimeout(function() {\n",
       "                var nbb_cell_id = 26;\n",
       "                var nbb_unformatted_code = \"# Plotting histogram and boxplot of year with skewness displayed\\nhist_box(df, \\\"year\\\")\\nprint(f'Skewness: {df[\\\"year\\\"].skew()}')\";\n",
       "                var nbb_formatted_code = \"# Plotting histogram and boxplot of year with skewness displayed\\nhist_box(df, \\\"year\\\")\\nprint(f'Skewness: {df[\\\"year\\\"].skew()}')\";\n",
       "                var nbb_cells = Jupyter.notebook.get_cells();\n",
       "                for (var i = 0; i < nbb_cells.length; ++i) {\n",
       "                    if (nbb_cells[i].input_prompt_number == nbb_cell_id) {\n",
       "                        if (nbb_cells[i].get_text() == nbb_unformatted_code) {\n",
       "                             nbb_cells[i].set_text(nbb_formatted_code);\n",
       "                        }\n",
       "                        break;\n",
       "                    }\n",
       "                }\n",
       "            }, 500);\n",
       "            "
      ],
      "text/plain": [
       "<IPython.core.display.Javascript object>"
      ]
     },
     "metadata": {},
     "output_type": "display_data"
    }
   ],
   "source": [
    "# Plotting histogram and boxplot of year with skewness displayed\n",
    "hist_box(df, \"year\")\n",
    "print(f'Skewness: {df[\"year\"].skew()}')"
   ]
  },
  {
   "cell_type": "markdown",
   "id": "16b47b83",
   "metadata": {},
   "source": [
    "#### Observations:\n",
    "- The distribution for `year` is moderately left skewed, with no outliers.\n",
    "- The number of entries is quite level from 1994 through 2007, then begins an upward trend.\n",
    "- The low count for 2022 is consistent with just under half of the year being represented in the dataset.\n",
    "- 2012, the median, splits the dataset in half, which makes sense as we would expect reporting to have increased with increased use of the Internet as well as population increase.  \n",
    "- The consistency of the earlier years is interesting.  Wikipedia had its first edit on January 15, 2001. The level counts for the adjacent years may reflect similar retroactive death reporting activity as current death reporting activity. The consistency of entries for the ~10-year period is not likely explained by level numbers of actual deaths of notable people.\n",
    "- An additional approach to the analysis and modeling would be to separate the dataset into two sets--one for before the Wikipedia launch (2000 and earlier) and one for after (2001 and later)."
   ]
  },
  {
   "cell_type": "markdown",
   "id": "e3653c58",
   "metadata": {},
   "source": [
    "### Univariate Analysis -- Categorical Features"
   ]
  },
  {
   "cell_type": "markdown",
   "id": "3b8a691d",
   "metadata": {},
   "source": [
    "#### Function for Labeled Countplots"
   ]
  },
  {
   "cell_type": "code",
   "execution_count": 28,
   "id": "93fbc895",
   "metadata": {},
   "outputs": [
    {
     "data": {
      "application/javascript": [
       "\n",
       "            setTimeout(function() {\n",
       "                var nbb_cell_id = 28;\n",
       "                var nbb_unformatted_code = \"# Define a function to create labeled countplots\\ndef labeled_countplot(\\n    data, feature, perc=False, rotation=90, height=6, n=None, order=None\\n):\\n    \\\"\\\"\\\"\\n    Countplot with count or percentage at top\\n    \\n    data: dataframe\\n    feature: dataframe column\\n    perc: whether to display percentages instead of count (default is False)\\n    n: displays the top n category levels (default is None--displays all levels)\\n    order: order to display levels (default is None)\\n    rotation: xtick rotation (default is 90)\\n    height: figure height (default is 6)\\n    \\\"\\\"\\\"\\n\\n    total = len(data[feature])  # length of the column\\n    count = data[feature].nunique()  # Number of columns\\n    if n is None:\\n        plt.figure(\\n            figsize=(count + 1, height)\\n        )  # Sets figure width according to total number of categories\\n    else:\\n        plt.figure(figsize=(n + 1, height))\\n\\n    plt.xticks(rotation=rotation, fontsize=15)  # X-tick label rotation and size\\n\\n    ax = sns.countplot(  # Create the axes as countplot\\n        data=data, x=feature, palette=\\\"Accent_r\\\", order=order\\n    )\\n\\n    for p in ax.patches:  # For loop to label each bar (each bar is a p in patches)\\n        if perc == True:\\n            label = \\\"{:.1f}%\\\".format(\\n                100 * p.get_height() / total\\n            )  # Assign label as category percentage of total\\n        else:\\n            label = p.get_height()  # Assign label as category count\\n\\n        x = p.get_x() + p.get_width() / 2  # Find center of the bar in x direction\\n        y = p.get_height()  # Find top of the bar\\n\\n        ax.annotate(  # Annotate the bar with label\\n            label,\\n            (x, y),  # The location on the plot being annotated\\n            ha=\\\"center\\\",  # Centers label text horizontally about its given coordinates\\n            va=\\\"center\\\",  # Centers label text vertically about its given coordinates\\n            size=14,  # Font size\\n            xytext=(0, 5),  # The label coordinates\\n            textcoords=\\\"offset points\\\",\\n        )  # Offsets to label coordinates with origin at (x,y)\";\n",
       "                var nbb_formatted_code = \"# Define a function to create labeled countplots\\ndef labeled_countplot(\\n    data, feature, perc=False, rotation=90, height=6, n=None, order=None\\n):\\n    \\\"\\\"\\\"\\n    Countplot with count or percentage at top\\n    \\n    data: dataframe\\n    feature: dataframe column\\n    perc: whether to display percentages instead of count (default is False)\\n    n: displays the top n category levels (default is None--displays all levels)\\n    order: order to display levels (default is None)\\n    rotation: xtick rotation (default is 90)\\n    height: figure height (default is 6)\\n    \\\"\\\"\\\"\\n\\n    total = len(data[feature])  # length of the column\\n    count = data[feature].nunique()  # Number of columns\\n    if n is None:\\n        plt.figure(\\n            figsize=(count + 1, height)\\n        )  # Sets figure width according to total number of categories\\n    else:\\n        plt.figure(figsize=(n + 1, height))\\n\\n    plt.xticks(rotation=rotation, fontsize=15)  # X-tick label rotation and size\\n\\n    ax = sns.countplot(  # Create the axes as countplot\\n        data=data, x=feature, palette=\\\"Accent_r\\\", order=order\\n    )\\n\\n    for p in ax.patches:  # For loop to label each bar (each bar is a p in patches)\\n        if perc == True:\\n            label = \\\"{:.1f}%\\\".format(\\n                100 * p.get_height() / total\\n            )  # Assign label as category percentage of total\\n        else:\\n            label = p.get_height()  # Assign label as category count\\n\\n        x = p.get_x() + p.get_width() / 2  # Find center of the bar in x direction\\n        y = p.get_height()  # Find top of the bar\\n\\n        ax.annotate(  # Annotate the bar with label\\n            label,\\n            (x, y),  # The location on the plot being annotated\\n            ha=\\\"center\\\",  # Centers label text horizontally about its given coordinates\\n            va=\\\"center\\\",  # Centers label text vertically about its given coordinates\\n            size=14,  # Font size\\n            xytext=(0, 5),  # The label coordinates\\n            textcoords=\\\"offset points\\\",\\n        )  # Offsets to label coordinates with origin at (x,y)\";\n",
       "                var nbb_cells = Jupyter.notebook.get_cells();\n",
       "                for (var i = 0; i < nbb_cells.length; ++i) {\n",
       "                    if (nbb_cells[i].input_prompt_number == nbb_cell_id) {\n",
       "                        if (nbb_cells[i].get_text() == nbb_unformatted_code) {\n",
       "                             nbb_cells[i].set_text(nbb_formatted_code);\n",
       "                        }\n",
       "                        break;\n",
       "                    }\n",
       "                }\n",
       "            }, 500);\n",
       "            "
      ],
      "text/plain": [
       "<IPython.core.display.Javascript object>"
      ]
     },
     "metadata": {},
     "output_type": "display_data"
    }
   ],
   "source": [
    "# Define a function to create labeled countplots\n",
    "def labeled_countplot(\n",
    "    data, feature, perc=False, rotation=90, height=6, n=None, order=None\n",
    "):\n",
    "    \"\"\"\n",
    "    Countplot with count or percentage at top\n",
    "    \n",
    "    data: dataframe\n",
    "    feature: dataframe column\n",
    "    perc: whether to display percentages instead of count (default is False)\n",
    "    n: displays the top n category levels (default is None--displays all levels)\n",
    "    order: order to display levels (default is None)\n",
    "    rotation: xtick rotation (default is 90)\n",
    "    height: figure height (default is 6)\n",
    "    \"\"\"\n",
    "\n",
    "    total = len(data[feature])  # length of the column\n",
    "    count = data[feature].nunique()  # Number of columns\n",
    "    if n is None:\n",
    "        plt.figure(\n",
    "            figsize=(count + 1, height)\n",
    "        )  # Sets figure width according to total number of categories\n",
    "    else:\n",
    "        plt.figure(figsize=(n + 1, height))\n",
    "\n",
    "    plt.xticks(rotation=rotation, fontsize=15)  # X-tick label rotation and size\n",
    "\n",
    "    ax = sns.countplot(  # Create the axes as countplot\n",
    "        data=data, x=feature, palette=\"Accent_r\", order=order\n",
    "    )\n",
    "\n",
    "    for p in ax.patches:  # For loop to label each bar (each bar is a p in patches)\n",
    "        if perc == True:\n",
    "            label = \"{:.1f}%\".format(\n",
    "                100 * p.get_height() / total\n",
    "            )  # Assign label as category percentage of total\n",
    "        else:\n",
    "            label = p.get_height()  # Assign label as category count\n",
    "\n",
    "        x = p.get_x() + p.get_width() / 2  # Find center of the bar in x direction\n",
    "        y = p.get_height()  # Find top of the bar\n",
    "\n",
    "        ax.annotate(  # Annotate the bar with label\n",
    "            label,\n",
    "            (x, y),  # The location on the plot being annotated\n",
    "            ha=\"center\",  # Centers label text horizontally about its given coordinates\n",
    "            va=\"center\",  # Centers label text vertically about its given coordinates\n",
    "            size=14,  # Font size\n",
    "            xytext=(0, 5),  # The label coordinates\n",
    "            textcoords=\"offset points\",\n",
    "        )  # Offsets to label coordinates with origin at (x,y)"
   ]
  },
  {
   "cell_type": "markdown",
   "id": "bd2dcbd2",
   "metadata": {},
   "source": [
    "### `year`"
   ]
  },
  {
   "cell_type": "code",
   "execution_count": 29,
   "id": "23963141",
   "metadata": {},
   "outputs": [
    {
     "name": "stdout",
     "output_type": "stream",
     "text": [
      "Unique values: 29\n"
     ]
    },
    {
     "data": {
      "image/png": "[encoded data removed]",
      "text/plain": [
       "<Figure size 2160x432 with 1 Axes>"
      ]
     },
     "metadata": {},
     "output_type": "display_data"
    },
    {
     "data": {
      "application/javascript": [
       "\n",
       "            setTimeout(function() {\n",
       "                var nbb_cell_id = 29;\n",
       "                var nbb_unformatted_code = \"# Countplot and number of unique values for year\\nprint(f\\\"Unique values: {df['year'].nunique()}\\\")\\nlabeled_countplot(df, \\\"year\\\", perc=True)\";\n",
       "                var nbb_formatted_code = \"# Countplot and number of unique values for year\\nprint(f\\\"Unique values: {df['year'].nunique()}\\\")\\nlabeled_countplot(df, \\\"year\\\", perc=True)\";\n",
       "                var nbb_cells = Jupyter.notebook.get_cells();\n",
       "                for (var i = 0; i < nbb_cells.length; ++i) {\n",
       "                    if (nbb_cells[i].input_prompt_number == nbb_cell_id) {\n",
       "                        if (nbb_cells[i].get_text() == nbb_unformatted_code) {\n",
       "                             nbb_cells[i].set_text(nbb_formatted_code);\n",
       "                        }\n",
       "                        break;\n",
       "                    }\n",
       "                }\n",
       "            }, 500);\n",
       "            "
      ],
      "text/plain": [
       "<IPython.core.display.Javascript object>"
      ]
     },
     "metadata": {},
     "output_type": "display_data"
    }
   ],
   "source": [
    "# Countplot and number of unique values for year\n",
    "print(f\"Unique values: {df['year'].nunique()}\")\n",
    "labeled_countplot(df, \"year\", perc=True)"
   ]
  },
  {
   "cell_type": "markdown",
   "id": "afa511ca",
   "metadata": {},
   "source": [
    "#### Observations:\n",
    "- Here, we take another look at the temporal feature `year`, presented as a categorical feature, with the timeline order preserved."
   ]
  },
  {
   "cell_type": "markdown",
   "id": "92546821",
   "metadata": {},
   "source": [
    "### `month`"
   ]
  },
  {
   "cell_type": "code",
   "execution_count": null,
   "id": "4d174d83",
   "metadata": {},
   "outputs": [],
   "source": [
    "# Countplot and number of unique values for month\n",
    "print(f\"Unique values: {df['month'].nunique()}\")\n",
    "labeled_countplot(\n",
    "    df,\n",
    "    \"month\",\n",
    "    perc=True,\n",
    "    order=[\n",
    "        \"January\",\n",
    "        \"February\",\n",
    "        \"March\",\n",
    "        \"April\",\n",
    "        \"May\",\n",
    "        \"June\",\n",
    "        \"July\",\n",
    "        \"August\",\n",
    "        \"September\",\n",
    "        \"October\",\n",
    "        \"November\",\n",
    "        \"December\",\n",
    "    ],\n",
    ")"
   ]
  },
  {
   "cell_type": "markdown",
   "id": "89d5cd48",
   "metadata": {},
   "source": [
    "#### Observations:\n",
    "- More notable deaths are reported in January, at 10.1%, than in any other month.\n",
    "- There is a decrease in notable deaths during the northern hemisphere's warmer months, which is consistent with what we expect for the dataset, which is dominated by entries from the northern hemisphere.\n",
    "- September has the fewest notable deaths reported, at 7.4%."
   ]
  },
  {
   "cell_type": "markdown",
   "id": "a80e1bd1",
   "metadata": {},
   "source": [
    "### `place_1`"
   ]
  },
  {
   "cell_type": "code",
   "execution_count": null,
   "id": "f408cede",
   "metadata": {
    "scrolled": false
   },
   "outputs": [],
   "source": [
    "# Countplot and number of unique values for place_1\n",
    "print(f\"Unique values: {df['place_1'].nunique()}\")\n",
    "plt.figure(figsize=(15, 45))\n",
    "sns.countplot(data=df, y=\"place_1\")\n",
    "plt.show()"
   ]
  },
  {
   "cell_type": "markdown",
   "id": "635f758e",
   "metadata": {},
   "source": [
    "#### Observations:\n",
    "- Over 1/3 of entries are from the United States of America, with the United Kingdom having the second highest count at ~9,700.\n",
    "- Let us take a closer look at the top 10 `place_1` countries.\n",
    "- Recall that we do have ~150 missing values for `place_1`, which we will treat during data pre-processing for modeling."
   ]
  },
  {
   "cell_type": "code",
   "execution_count": null,
   "id": "b9305f24",
   "metadata": {},
   "outputs": [],
   "source": [
    "# Countplot for top 10 place_1 countries\n",
    "n = 10\n",
    "order = df[\"place_1\"].value_counts().index[:n]\n",
    "labeled_countplot(df, \"place_1\", perc=True, n=n, order=order)"
   ]
  },
  {
   "cell_type": "markdown",
   "id": "adce9e45",
   "metadata": {},
   "source": [
    "#### Observations:\n",
    "- India, Canada, Australia, France, Germany, Italy, Russia, and New Zealand make up the rest of the top 10 `place_1` countries.\n",
    "- The top 10 values account for ~68% of entries."
   ]
  },
  {
   "cell_type": "markdown",
   "id": "dee18e93",
   "metadata": {},
   "source": [
    "### `place_2`\n",
    "We should check for and drop any `place_2` values that are duplicates of `place_1` prior to visualizing the feature."
   ]
  },
  {
   "cell_type": "markdown",
   "id": "36811a0f",
   "metadata": {},
   "source": [
    "#### Dropping `place_2` Values that are Duplicates of `place_1`"
   ]
  },
  {
   "cell_type": "code",
   "execution_count": null,
   "id": "c051d7f2",
   "metadata": {},
   "outputs": [],
   "source": [
    "# Dropping place_1 values that are duplicates of place_2\n",
    "index = df[df[\"place_2\"].astype(\"object\") == df[\"place_1\"].astype(\"object\")].index\n",
    "df.loc[index, \"place_2\"] = None"
   ]
  },
  {
   "cell_type": "code",
   "execution_count": null,
   "id": "f005bc8e",
   "metadata": {
    "scrolled": false
   },
   "outputs": [],
   "source": [
    "# Countplot and number of unique values for place_2\n",
    "print(f\"Unique values: {df['place_2'].nunique()}\")\n",
    "plt.figure(figsize=(15, 45))\n",
    "sns.countplot(data=df, y=\"place_2\")\n",
    "plt.show()"
   ]
  },
  {
   "cell_type": "markdown",
   "id": "0eee1a86",
   "metadata": {},
   "source": [
    "#### Observations:\n",
    "- The United States of America also accounts for the highest number of `place_2` values, at ~2300.\n",
    "- The United Kingdom is second followed by Canada.\n",
    "- Let us take a closer look at the top 10 `place_2` countries."
   ]
  },
  {
   "cell_type": "code",
   "execution_count": null,
   "id": "c2857d89",
   "metadata": {},
   "outputs": [],
   "source": [
    "# Countplot for top 10 place_2 countries\n",
    "n = 10\n",
    "order = df[\"place_2\"].value_counts().index[:n]\n",
    "labeled_countplot(df, \"place_2\", perc=True, n=n, order=order)"
   ]
  },
  {
   "cell_type": "markdown",
   "id": "21f36112",
   "metadata": {},
   "source": [
    "#### Observations:\n",
    "- Australia, France, Israel, Russia, New Zealand, Europe, and Germany make up the rest of the top 10 `place_2` values.\n",
    "- The top 10 `place_2` countries account for less than 5% of entries, with most entries not having a `place_2` value.\n",
    "- Before proceeding, it is time to extract geographic region for the `place_` columns, to reduce dimensionality of that feature.  "
   ]
  },
  {
   "cell_type": "markdown",
   "id": "5048fd08",
   "metadata": {},
   "source": [
    "### Extracting `region` and `prior_region` from `place_1` and `place_2`\n",
    "`place_1` represents initial location of residence for all entries, but also lifelong nation of residence for the vast majority of entries.  Meanwhile, `place_2` represents ultimate location of residence for only the small portion of entries that relocated from `place_1`.  A better representation would have the ultimate location for all entries in one column (i.e., the only location for the vast majority) and the prior location in another column (i.e., for the small minority plus a new category \"N/A\" for the vast majority).  We will create `region` and `prior_region` to accomplish the above respective tasks.  At the same time we will reduce the number of levels by converting `place_` values to geographic regions.\n",
    "\n",
    "To convert the values, we will use the defined Map of the World's Continents and Regions from [nationsonline.org](https://www.nationsonline.org/oneworld/small_continents_map.htm#google_vignette), as seen below, to extract `region_` values from `place_` values.  Our `region_` values will include the following:\n",
    "- North America\n",
    "- Mid-Cent America/Caribbean (includes Middle and Central America and the Caribbean)\n",
    "- South America\n",
    "- Europe (excludes Russian Federation and USSR values)\n",
    "- Russian Federation\n",
    "- Africa\n",
    "- Middle East\n",
    "- Central Asia\n",
    "- Asia\n",
    "- South East Asia\n",
    "- Oceania (includes Australia)  \n",
    "\n",
    "We do not have any values for Greenland, so it is excluded."
   ]
  },
  {
   "attachments": {
    "continents_map.jpg": {
     "image/jpeg": "[encoded data removed]"
    }
   },
   "cell_type": "markdown",
   "id": "076250fe",
   "metadata": {},
   "source": [
    "![continents_map.jpg](attachment:continents_map.jpg)\n",
    "\n",
    "[Countries and Regions of the World from A to Z](https://www.nationsonline.org/oneworld/countries_of_the_world.htm#L)"
   ]
  },
  {
   "cell_type": "markdown",
   "id": "429d0399",
   "metadata": {},
   "source": [
    "#### Creating Dictionary of `region_` Keys and `place_` Values"
   ]
  },
  {
   "cell_type": "code",
   "execution_count": null,
   "id": "6b12bd0f",
   "metadata": {},
   "outputs": [],
   "source": [
    "# # Creating list of place_1 values\n",
    "# place1_list = df[\"place_1\"].value_counts().index.to_list()"
   ]
  },
  {
   "cell_type": "code",
   "execution_count": null,
   "id": "58266c14",
   "metadata": {},
   "outputs": [],
   "source": [
    "# # Example code to pop entries to add to lists\n",
    "# place1_list.pop()"
   ]
  },
  {
   "cell_type": "code",
   "execution_count": null,
   "id": "d566a7d3",
   "metadata": {},
   "outputs": [],
   "source": [
    "# Re-creating place1_list\n",
    "place1_list = df[\"place_1\"].value_counts().index.to_list()\n",
    "\n",
    "# Creating place2_list\n",
    "place2_list = df[\"place_2\"].value_counts().index.tolist()\n",
    "\n",
    "# Checking for place_2 values that need to be added to lists generated with place 1 values\n",
    "[place for place in place2_list if place not in place1_list]"
   ]
  },
  {
   "cell_type": "code",
   "execution_count": null,
   "id": "da654501",
   "metadata": {},
   "outputs": [],
   "source": [
    "# Creating lists for each region\n",
    "north_america = [\"Canada\", \"United States of America\", \"North America\"]\n",
    "\n",
    "mid_cent_america_carribean = [\n",
    "    \"Martinique\",\n",
    "    \"Saint Vincent and the Grenadines\",\n",
    "    \"Antigua and Barbuda\",\n",
    "    \"Saint Kitts and Nevis\",\n",
    "    \"Saint Lucia\",\n",
    "    \"Grenada\",\n",
    "    \"Belize\",\n",
    "    \"The Bahamas\",\n",
    "    \"El Salvador\",\n",
    "    \"Nicaragua\",\n",
    "    \"Panama\",\n",
    "    \"Costa Rica\",\n",
    "    \"Barbados\",\n",
    "    \"Guatemala\",\n",
    "    \"Haiti\",\n",
    "    \"Honduras\",\n",
    "    \"Central America and the Caribbean\",\n",
    "    \"Dominican Republic\",\n",
    "    \"Trinidad and Tobago\",\n",
    "    \"Puerto Rico\",\n",
    "    \"Cuba\",\n",
    "    \"Jamaica\",\n",
    "    \"Mexico\",\n",
    "]\n",
    "\n",
    "south_america = [\n",
    "    \"Suriname\",\n",
    "    \"Paraguay\",\n",
    "    \"Bolivia\",\n",
    "    \"Guyana\",\n",
    "    \"Ecuador\",\n",
    "    \"Peru\",\n",
    "    \"Uruguay\",\n",
    "    \"Venezuela\",\n",
    "    \"Colombia\",\n",
    "    \"Chile\",\n",
    "    \"Argentina\",\n",
    "    \"Brazil\",\n",
    "]\n",
    "\n",
    "europe = [\n",
    "    \"Vatican City State\",\n",
    "    \"Gibraltar\",\n",
    "    \"Liechtenstein\",\n",
    "    \"San Marino\",\n",
    "    \"Andorra\",\n",
    "    \"Monaco\",\n",
    "    \"Luxembourg\",\n",
    "    \"Montenegro\",\n",
    "    \"Moldova\",\n",
    "    \"Europe\",\n",
    "    \"Macedonia, Republic of\",\n",
    "    \"Malta\",\n",
    "    \"Latvia\",\n",
    "    \"Iceland\",\n",
    "    \"Belarus\",\n",
    "    \"Slovakia\",\n",
    "    \"Bosnia and Herzegovina\",\n",
    "    \"Albania\",\n",
    "    \"Lithuania\",\n",
    "    \"Slovenia\",\n",
    "    \"Estonia\",\n",
    "    \"Bulgaria\",\n",
    "    \"Portugal\",\n",
    "    \"Croatia\",\n",
    "    \"Denmark\",\n",
    "    \"Finland\",\n",
    "    \"Greece\",\n",
    "    \"Ukraine\",\n",
    "    \"Serbia\",\n",
    "    \"Switzerland\",\n",
    "    \"Romania\",\n",
    "    \"Czech Republic\",\n",
    "    \"Wales\",\n",
    "    \"Belgium\",\n",
    "    \"Hungary\",\n",
    "    \"Austria\",\n",
    "    \"Sweden\",\n",
    "    \"Poland\",\n",
    "    \"Netherlands\",\n",
    "    \"Norway\",\n",
    "    \"Spain\",\n",
    "    \"Scotland\",\n",
    "    \"Ireland\",\n",
    "    \"Italy\",\n",
    "    \"Germany\",\n",
    "    \"France\",\n",
    "    \"United Kingdom of Great Britain and Northern Ireland\",\n",
    "]\n",
    "\n",
    "russian_federation = [\"United Socialist Soviet Republic\", \"Russia\"]\n",
    "\n",
    "africa = [\n",
    "    \"South Atlantic\",\n",
    "    \"Lesotho\",\n",
    "    \"São Tomé and Príncipe\",\n",
    "    \"Comoros\",\n",
    "    \"Djibouti\",\n",
    "    \"Seychelles\",\n",
    "    \"Guinea Bissau\",\n",
    "    \"South Sudan\",\n",
    "    \"Eritrea\",\n",
    "    \"Equatorial Guinea\",\n",
    "    \"Botswana\",\n",
    "    \"Swaziland\",\n",
    "    \"Burundi\",\n",
    "    \"Central African Republic\",\n",
    "    \"Chad\",\n",
    "    \"Mauritania\",\n",
    "    \"Niger\",\n",
    "    \"Cabo Verde\",\n",
    "    \"Gambia, The\",\n",
    "    \"Gabon\",\n",
    "    \"Togo\",\n",
    "    \"Burkina Faso\",\n",
    "    \"Mozambique\",\n",
    "    \"Madagascar\",\n",
    "    \"Rwanda\",\n",
    "    \"Liberia\",\n",
    "    \"Mauritius\",\n",
    "    \"Benin\",\n",
    "    \"Guinea\",\n",
    "    \"Sierra Leone\",\n",
    "    \"Mali\",\n",
    "    \"Libya\",\n",
    "    \"Angola\",\n",
    "    \"Sudan\",\n",
    "    \"Malawi\",\n",
    "    \"Ivory Coast\",\n",
    "    \"Somalia\",\n",
    "    \"Senegal\",\n",
    "    \"Ethiopia\",\n",
    "    \"Zambia\",\n",
    "    \"Tanzania\",\n",
    "    \"Namibia\",\n",
    "    \"Cameroon\",\n",
    "    \"Africa\",\n",
    "    \"Tunisia\",\n",
    "    \"Uganda\",\n",
    "    \"Congo, Republic of the\",\n",
    "    \"Morocco\",\n",
    "    \"Zimbabwe\",\n",
    "    \"Algeria\",\n",
    "    \"Kenya\",\n",
    "    \"Ghana\",\n",
    "    \"Egypt\",\n",
    "    \"Nigeria\",\n",
    "    \"South Africa\",\n",
    "]\n",
    "\n",
    "middle_east = [\n",
    "    \"Oman\",\n",
    "    \"Qatar\",\n",
    "    \"Bahrain\",\n",
    "    \"United Arab Emirates\",\n",
    "    \"Kuwait\",\n",
    "    \"Yemen\",\n",
    "    \"Jordan\",\n",
    "    \"Saudi Arabia\",\n",
    "    \"Cyprus\",\n",
    "    \"Palestine\",\n",
    "    \"Syria\",\n",
    "    \"Armenia\",\n",
    "    \"Azerbaijan\",\n",
    "    \"Georgia\",\n",
    "    \"Georgia\",\n",
    "    \"Lebanon\",\n",
    "    \"Iraq\",\n",
    "    \"Iran\",\n",
    "    \"Turkey\",\n",
    "    \"Israel\",\n",
    "    \"Middle East\",\n",
    "]\n",
    "\n",
    "central_asia = [\"Turkmenistan\", \"Tajikistan\", \"Kyrgyzstan\", \"Uzbekistan\", \"Kazakhstan\"]\n",
    "\n",
    "asia = [\n",
    "    \"Indian Ocean\",\n",
    "    \"Bhutan\",\n",
    "    \"Indian subcontinent\",\n",
    "    \"Maldives\",\n",
    "    \"Mongolia\",\n",
    "    \"Asia\",\n",
    "    \"North Korea\",\n",
    "    \"Afghanistan\",\n",
    "    \"Nepal\",\n",
    "    \"Armenia\",\n",
    "    \"South Korea\",\n",
    "    \"Taiwan\",\n",
    "    \"Sri Lanka\",\n",
    "    \"Bangladesh\",\n",
    "    \"Pakistan\",\n",
    "    \"China, People's Republic of\",\n",
    "    \"Japan\",\n",
    "    \"India\",\n",
    "]\n",
    "\n",
    "south_east_asia = [\n",
    "    \"Brunei\",\n",
    "    \"Timor Leste\",\n",
    "    \"Cambodia\",\n",
    "    \"Singapore\",\n",
    "    \"Burma\",\n",
    "    \"Vietnam\",\n",
    "    \"Thailand\",\n",
    "    \"Malaysia\",\n",
    "    \"Indonesia\",\n",
    "    \"Philippines\",\n",
    "]\n",
    "\n",
    "oceania = [\n",
    "    \"Tokelau\",\n",
    "    \"South Pacific\",\n",
    "    \"Kiribati\",\n",
    "    \"Palau\",\n",
    "    \"Nauru\",\n",
    "    \"Vanuatu\",\n",
    "    \"Micronesia, Federated States of\",\n",
    "    \"Marshall Islands\",\n",
    "    \"Laos\",\n",
    "    \"Northern Mariana Islands\",\n",
    "    \"Tuvalu\",\n",
    "    \"Solomon Islands\",\n",
    "    \"Tonga\",\n",
    "    \"Samoa\",\n",
    "    \"Papua New Guinea\",\n",
    "    \"Oceania\",\n",
    "    \"Fiji\",\n",
    "    \"New Zealand\",\n",
    "    \"Australia\",\n",
    "]"
   ]
  },
  {
   "cell_type": "code",
   "execution_count": null,
   "id": "5ce3b970",
   "metadata": {},
   "outputs": [],
   "source": [
    "# Combining lists into a single dictionary\n",
    "region_place_dict = {\n",
    "    \"North America\": north_america,\n",
    "    \"Mid-Cent America/Caribbean\": mid_cent_america_carribean,\n",
    "    \"South America\": south_america,\n",
    "    \"Europe\": europe,\n",
    "    \"Russian Federation\": russian_federation,\n",
    "    \"Africa\": africa,\n",
    "    \"Middle East\": middle_east,\n",
    "    \"Central Asia\": central_asia,\n",
    "    \"Asia\": asia,\n",
    "    \"South East Asia\": south_east_asia,\n",
    "    \"Oceania\": oceania,\n",
    "}"
   ]
  },
  {
   "cell_type": "markdown",
   "id": "c5c4f14e",
   "metadata": {},
   "source": [
    "#### Initializing `region` and `prior_region`"
   ]
  },
  {
   "cell_type": "code",
   "execution_count": null,
   "id": "c90240d5",
   "metadata": {},
   "outputs": [],
   "source": [
    "# Initializing region and region_1\n",
    "df[[\"region\", \"prior_region\"]] = None"
   ]
  },
  {
   "cell_type": "markdown",
   "id": "47add869",
   "metadata": {},
   "source": [
    "#### Assigning `region`  Values from `place_2` or `place_1`"
   ]
  },
  {
   "cell_type": "code",
   "execution_count": null,
   "id": "3777531a",
   "metadata": {
    "scrolled": false
   },
   "outputs": [],
   "source": [
    "%%time\n",
    "\n",
    "# For loop to convert place_2 values to region values for entries with place_2 value\n",
    "for region, places in region_place_dict.items():\n",
    "    for place in places:\n",
    "        for index in df[df['place_2'].notna()].index:\n",
    "            item = df.loc[index, 'place_2']\n",
    "            if item:\n",
    "                if item == place:\n",
    "                    df.loc[index, 'region'] = region\n",
    "\n",
    "# For loop to convert place_1 values to region for entries without place_2 value (missing region after above for loop)\n",
    "for region, places in region_place_dict.items():\n",
    "    for place in places:\n",
    "        for index in df[df['region'].isna()].index:\n",
    "            item = df.loc[index, 'place_1']\n",
    "            if item:\n",
    "                if item == place:\n",
    "                    df.loc[index, 'region'] = region            \n",
    "\n",
    "# Typecasting new column as category\n",
    "df['region'] = df['region'].astype('category')\n",
    "\n",
    "# Checking a sample of rows\n",
    "df.sample(2)"
   ]
  },
  {
   "cell_type": "markdown",
   "id": "5a4c282e",
   "metadata": {},
   "source": [
    "#### Assigning `prior_region`  Values from `place_1` and Adding N/A Category"
   ]
  },
  {
   "cell_type": "code",
   "execution_count": null,
   "id": "6fd60402",
   "metadata": {
    "scrolled": false
   },
   "outputs": [],
   "source": [
    "%%time\n",
    "\n",
    "# For loop to convert place_2 values to region values for entries with place_2 value\n",
    "for region, places in region_place_dict.items():\n",
    "    for place in places:\n",
    "        for index in df[df['place_2'].notna()].index:\n",
    "            item = df.loc[index, 'place_1']\n",
    "            if item:\n",
    "                if item == place:\n",
    "                    df.loc[index, 'prior_region'] = region\n",
    "\n",
    "# Replacing missing values with N/A\n",
    "df['prior_region'].fillna('N/A', inplace=True)\n",
    "\n",
    "# Typecasting new column\n",
    "df['prior_region'] = df['prior_region'].astype('category')\n",
    "\n",
    "# Checking a sample of rows\n",
    "df.sample(2)"
   ]
  },
  {
   "cell_type": "markdown",
   "id": "0fc344a9",
   "metadata": {},
   "source": [
    "#### Observations:\n",
    "- As we have zoomed out our residency values from specific locales to broader regions, we undoubtedly now have entries that have duplicate values for `region` and `prior_region` (e.g. `place_1` of Italy and `place_2` of Germany will have Europe for `region` and `prior_region`).\n",
    "- We will allow this duplication as any `prior_region` level other than `N/A` indicates a relocation took place, even if the before and after regions match.  Recall that we already dropped `place_2` values that were duplicates of `place_1`, so they will have `prior_region` of N/A."
   ]
  },
  {
   "cell_type": "markdown",
   "id": "0c267884",
   "metadata": {},
   "source": [
    "#### Verifying All `region` and `prior_region` Values Captured"
   ]
  },
  {
   "cell_type": "code",
   "execution_count": null,
   "id": "a043d823",
   "metadata": {},
   "outputs": [],
   "source": [
    "# Verifying all regions captured\n",
    "print(\n",
    "    f'There are {len(df[df[\"place_1\"].notna()]) - len(df[df[\"region\"].notna()])} entries that contain place_1 and not region.\\n'\n",
    ")\n",
    "\n",
    "print(\n",
    "    f'There are {len(df[(df[\"place_2\"].notna()) & (df[\"prior_region\"].isna())])} entries that contain place_2 and not prior_region.'\n",
    ")\n"
   ]
  },
  {
   "cell_type": "markdown",
   "id": "214b1100",
   "metadata": {},
   "source": [
    "#### Observations:\n",
    "- We have captured all of the `region` and `prior_region` values and we can now visualize them."
   ]
  },
  {
   "cell_type": "markdown",
   "id": "e64a5e5b",
   "metadata": {},
   "source": [
    "### `region`"
   ]
  },
  {
   "cell_type": "code",
   "execution_count": null,
   "id": "a43f33d8",
   "metadata": {
    "scrolled": false
   },
   "outputs": [],
   "source": [
    "# Countplot and number of unique values for region\n",
    "print(f\"Unique values: {df['region'].nunique()}\")\n",
    "order = df[\"region\"].value_counts().index\n",
    "labeled_countplot(df, \"region\", perc=True, order=order)"
   ]
  },
  {
   "cell_type": "markdown",
   "id": "fdc49cf5",
   "metadata": {},
   "source": [
    "#### Observations:\n",
    "- Here, we visualize the 11 `region` levels, which represent the ultimate region of residency for all entries, which is also the only region for the vast majority of entries.\n",
    "- North America is the top value for `region`, followed by Europe.  Combined they account for ~73% of entries.\n",
    "- Central Asia has the fewest entries (0.1%), followed by Russian Federation (1.6%) and South East Asia (1.7%).\n",
    "- The ~150 missing `place_1` values translates into the same number of missing `region` values.  As stated previously, we will treat them in data pre-processing for modeling."
   ]
  },
  {
   "cell_type": "markdown",
   "id": "770ba95a",
   "metadata": {},
   "source": [
    "### `prior_region`"
   ]
  },
  {
   "cell_type": "code",
   "execution_count": null,
   "id": "3b4f4f45",
   "metadata": {
    "scrolled": false
   },
   "outputs": [],
   "source": [
    "# Countplot and number of unique values for prior_region\n",
    "print(f\"Unique values: {df['prior_region'].nunique()}\")\n",
    "order = df[\"prior_region\"].value_counts().index\n",
    "labeled_countplot(df, \"prior_region\", perc=True, order=order)"
   ]
  },
  {
   "cell_type": "markdown",
   "id": "0106e806",
   "metadata": {},
   "source": [
    "#### Observations:\n",
    "- Here, we visualize the 12 `prior_region` levels, which represent the prior region of residency.\n",
    "- Over 94% of entries have only one region of residency, or `prior_region` of N/A.\n",
    "- The most relocations came from European countries (3% of entries)."
   ]
  },
  {
   "cell_type": "markdown",
   "id": "9abbf767",
   "metadata": {},
   "source": [
    "### `num_categories`"
   ]
  },
  {
   "cell_type": "code",
   "execution_count": null,
   "id": "28b2e3cb",
   "metadata": {},
   "outputs": [],
   "source": [
    "# Countplot and number of unique values for num_categories\n",
    "print(f\"Unique values: {df['num_categories'].nunique()}\")\n",
    "order = df[\"num_categories\"].value_counts().index\n",
    "labeled_countplot(df, \"num_categories\", perc=True, order=order, rotation=0)"
   ]
  },
  {
   "cell_type": "markdown",
   "id": "27dc27f6",
   "metadata": {},
   "source": [
    "#### Observations:\n",
    "- The vast majority of entries have only 1 `known for` category.\n",
    "- We will now combine the category column and `num_references` column information into a single category, `known_for`."
   ]
  },
  {
   "cell_type": "markdown",
   "id": "c9b77dd1",
   "metadata": {},
   "source": [
    "### `known_for`\n",
    "To visualize the `known for` categories, we will create a new column, `known_for`, with values consistent with each category (i.e., `arts`, `politics_govt_law`, etc.), plus the following additional levels:  \n",
    "\n",
    "    - two (entries with 2 categories)\n",
    "    - three_to_five (entries with 3, 4, or 5 categories)\n",
    "The original category names will refer to entries with the sole respective category (i.e., entries with 1 category). The new levels will refer to entries that have the defined `num_references`."
   ]
  },
  {
   "cell_type": "code",
   "execution_count": null,
   "id": "48828c70",
   "metadata": {},
   "outputs": [],
   "source": [
    "# Initializing known_for column\n",
    "df[\"known_for\"] = None"
   ]
  },
  {
   "cell_type": "code",
   "execution_count": null,
   "id": "08a352b9",
   "metadata": {},
   "outputs": [],
   "source": [
    "# Creating known_for column\n",
    "\n",
    "# Assigning new levels for entries with multiple categories\n",
    "df.loc[df[df[\"num_categories\"] == 2].index, \"known_for\"] = \"two\"\n",
    "df.loc[df[df[\"num_categories\"] == 3].index, \"known_for\"] = \"three_to_five\"\n",
    "df.loc[df[df[\"num_categories\"] == 4].index, \"known_for\"] = \"three_to_five\"\n",
    "df.loc[df[df[\"num_categories\"] == 5].index, \"known_for\"] = \"three_to_five\"\n",
    "\n",
    "# For loop to assign known_for values for single-category entries\n",
    "category_list = df.columns[10:21].tolist()\n",
    "for category in category_list:\n",
    "    for index in df[(df[category] == 1) & (df[\"num_categories\"] == 1)].index:\n",
    "        df.loc[index, \"known_for\"] = str(category)\n",
    "\n",
    "# Typecasting new column\n",
    "df[\"known_for\"] = df[\"known_for\"].astype(\"category\")\n",
    "\n",
    "# Checking a sample of rows\n",
    "df.sample(2)"
   ]
  },
  {
   "cell_type": "markdown",
   "id": "f1984fbe",
   "metadata": {},
   "source": [
    "### `known_for`"
   ]
  },
  {
   "cell_type": "code",
   "execution_count": null,
   "id": "7ccd8eb7",
   "metadata": {
    "scrolled": false
   },
   "outputs": [],
   "source": [
    "# Countplot and number of unique values for known_for\n",
    "print(f\"Unique values: {df['known_for'].nunique()}\")\n",
    "order = df[\"known_for\"].value_counts().index\n",
    "labeled_countplot(df, \"known_for\", perc=True, order=order)"
   ]
  },
  {
   "cell_type": "markdown",
   "id": "e5fcaafb",
   "metadata": {},
   "source": [
    "#### Observations:\n",
    "- The category arts accounts for just over 1/3 of entries, followed by sports, then politics_govt_law, which combined also account for just over 1/3 of entries.\n",
    "- Having the sole category of social is most rare (0.2%), followed by event_record_other (0.5%), then crime (0.8%).\n",
    "- Let us examine the entries with 2 categories more closely."
   ]
  },
  {
   "cell_type": "markdown",
   "id": "007d5b98",
   "metadata": {},
   "source": [
    "#### `known for` Categories for Entries with 2 Categories"
   ]
  },
  {
   "cell_type": "code",
   "execution_count": null,
   "id": "1cd0f7e6",
   "metadata": {},
   "outputs": [],
   "source": [
    "# Creating dataframe of categories with counts for entries with 2 categories\n",
    "data = pd.DataFrame(\n",
    "    df[df[\"num_categories\"] == 2][category_list].sum(), columns=[\"count\"],\n",
    ").sort_values(\"count\", ascending=False)\n",
    "data.reset_index(inplace=True,)\n",
    "data.rename(columns={\"index\": \"known_for\"}, inplace=True)\n",
    "\n",
    "# Barplot of category and count\n",
    "plt.figure(figsize=(10, 6))\n",
    "sns.barplot(data=data, x=\"known_for\", y=\"count\")\n",
    "plt.xticks(rotation=90)\n",
    "plt.show()"
   ]
  },
  {
   "cell_type": "markdown",
   "id": "9d618f8c",
   "metadata": {},
   "source": [
    "#### Observations:\n",
    "- The combined count in this plot is double as each entry is represented in two of the categories.\n",
    "- We can see that arts and politics_govt_law are similarly at or toward the top values, but academia_humanities and sciences have moved up toward the top.\n",
    "- This difference indicates that academia_humanities and sciences have relative higher likelihoods of occurring in combination with another category.  We would anticipate a high number of individuals with with the science category to also be categorized in academia_humanties, as professors in their respective fields, etc."
   ]
  },
  {
   "cell_type": "markdown",
   "id": "cd35611e",
   "metadata": {},
   "source": [
    "### Bivariate and Multivariate Analysis"
   ]
  },
  {
   "cell_type": "markdown",
   "id": "0e3df24d",
   "metadata": {},
   "source": [
    "#### Function to plot boxplots with and without outliers"
   ]
  },
  {
   "cell_type": "code",
   "execution_count": null,
   "id": "3f460568",
   "metadata": {},
   "outputs": [],
   "source": [
    "# Define a function to plot boxplots for x categorical feature and y numeric feature with and without outliers\n",
    "def box_w_wo_fliers(data, x_feature, y_feature, order=None, height=10):\n",
    "    \"\"\"\n",
    "    Plots side by side boxplots, with and without outliers\n",
    "    \n",
    "    data = dataframe\n",
    "    x_feature = categorical feature\n",
    "    y_feature = numeric feature\n",
    "    order = order to plot the categorical feature (default is None)\n",
    "    height = figure height (default is 10)\n",
    "    \"\"\"\n",
    "    fig, axs = plt.subplots(1, 2, figsize=(15, height))\n",
    "\n",
    "    # Boxplot with outliers\n",
    "    sns.boxplot(\n",
    "        data=data,\n",
    "        x=x_feature,\n",
    "        y=y_feature,\n",
    "        ax=axs[0],\n",
    "        palette=\"CMRmap\",\n",
    "        order=order,\n",
    "        medianprops={\"color\": \"teal\", \"linewidth\": 2},\n",
    "    )\n",
    "\n",
    "    # Boxplot without outliers\n",
    "    sns.boxplot(\n",
    "        data=data,\n",
    "        x=x_feature,\n",
    "        y=y_feature,\n",
    "        ax=axs[1],\n",
    "        showfliers=False,\n",
    "        palette=\"CMRmap\",\n",
    "        order=order,\n",
    "        showmeans=True,\n",
    "        medianprops={\"color\": \"teal\", \"linewidth\": 2},\n",
    "        meanprops={\n",
    "            \"marker\": \"o\",\n",
    "            \"markersize\": 9,\n",
    "            \"markeredgecolor\": \"black\",\n",
    "            \"markerfacecolor\": \"yellowgreen\",\n",
    "        },\n",
    "    )\n",
    "\n",
    "    axs[0].set_title(\"With Outliers\")\n",
    "    axs[1].set_title(\"Without Outliers\")\n",
    "    axs[0].tick_params(labelrotation=90)\n",
    "    axs[1].tick_params(labelrotation=90)\n",
    "\n",
    "    plt.tight_layout()\n",
    "    plt.show()"
   ]
  },
  {
   "cell_type": "markdown",
   "id": "0aea27c5",
   "metadata": {},
   "source": [
    "### Correlation of Numerical Features w.r.t. `known_for`"
   ]
  },
  {
   "cell_type": "code",
   "execution_count": null,
   "id": "420c9180",
   "metadata": {},
   "outputs": [],
   "source": [
    "# Pairplot of numerical features\n",
    "vars = [\"age\", \"year\", \"num_categories\", \"num_references\", \"recip_num_references\"]\n",
    "sns.pairplot(\n",
    "    df, diag_kind=\"kde\", corner=True, vars=vars, hue=\"known_for\", palette=\"CMRmap\"\n",
    ")\n",
    "plt.show()"
   ]
  },
  {
   "cell_type": "code",
   "execution_count": null,
   "id": "08d9a6b1",
   "metadata": {},
   "outputs": [],
   "source": [
    "# Heatmap of correlation of numerical features\n",
    "plt.figure(figsize=(14, 12))\n",
    "corr = df.corr()\n",
    "mask = np.triu(np.ones_like(corr, dtype=bool))\n",
    "sns.heatmap(\n",
    "    data=corr,\n",
    "    annot=True,\n",
    "    vmin=-1,\n",
    "    vmax=1,\n",
    "    linewidth=1,\n",
    "    fmt=\".2f\",\n",
    "    annot_kws={\"size\": 14},\n",
    "    cmap=\"BrBG\",\n",
    "    mask=mask,\n",
    ")\n",
    "plt.show()"
   ]
  },
  {
   "cell_type": "markdown",
   "id": "1611f86e",
   "metadata": {},
   "source": [
    "#### Observations:\n",
    "- We can see entries in the `event_record_other` category bookending `age` in the pairplot, which makes sense as the category contains supercentarians as well as infants, known specifically for their age or circumstances.\n",
    "- There is also discernable, albeit subtle, shape difference between the `known_for` categories on the kernel density estimate (diagonal) for `age` and `recip_num_references`, which may indicate a relationship between `known for` and these features.\n",
    "- As expected, the heatmap indicates, `num_references` to be moderately negatively correlated with its reciprocal, `recip_num_references`.\n",
    "- Also, as we had anticipated, `academia_humanities`, is moderately positively correlated with `num_categories`.\n",
    "- Other noteworthy moderate negative correlations are between `arts` and `sports` and `arts` and `politics_govt_law`.  These two `known_for` categories are less likely to occur in combination, than some of the other categories.\n",
    "- `business_farming` and `social` are mildly positively correlated, which is consistent with successful people in business participating in philanthropy.\n",
    "- We do not have any highly correlated numerical features.  From a preditor to predictor standpoint, that is beneficial for modeling.  From a predictor to target standpoint, it indicates that none of the numerical features, on their own, are strong predictors of the target."
   ]
  },
  {
   "cell_type": "markdown",
   "id": "4737218f",
   "metadata": {},
   "source": [
    "### `known_for` vs `num_references` "
   ]
  },
  {
   "cell_type": "code",
   "execution_count": null,
   "id": "44de636e",
   "metadata": {},
   "outputs": [],
   "source": [
    "# Plotting boxplots of known_for vs num_references with and without outliers\n",
    "box_w_wo_fliers(df, \"known_for\", \"num_references\")"
   ]
  },
  {
   "cell_type": "markdown",
   "id": "573cddc2",
   "metadata": {},
   "source": [
    "#### Observations:\n",
    "- Here we see clearly the impact of leaving `num_references` untreated as any observable differences between `known_for` categories is dominated by the presence of extreme upper-end outliers.\n",
    "- `event_record_other` entries have the highest mean and median `num_references`, followed by entries categorized in `crime`.  This finding likely reflects higher participation by Wikipedia contributors for these individuals, who made broader news as exceptions, such as participating in criminal activity or being the victim of it, or some other newsworthy characteristic.\n",
    "- Entries in the `sports` category have the lowest mean and median `num_references`, followed by those in the `spiritual` category.\n",
    "- Though there is some observable relationship between the two potential predictors, they do not appear to have a strong relationship, which is good for modeling."
   ]
  },
  {
   "cell_type": "markdown",
   "id": "22814200",
   "metadata": {},
   "source": [
    "### `known_for` vs `age` (target)"
   ]
  },
  {
   "cell_type": "code",
   "execution_count": null,
   "id": "16db19ef",
   "metadata": {},
   "outputs": [],
   "source": [
    "# Plotting boxplots of known_for vs age with and without outliers\n",
    "box_w_wo_fliers(df, \"known_for\", \"age\")"
   ]
  },
  {
   "cell_type": "markdown",
   "id": "2e1ee549",
   "metadata": {},
   "source": [
    "#### Observations:\n",
    "- As we anticipated, event_record_other entries have the widest spread of the `known_for` categories, for `age`.  By definition, they are exceptional values.\n",
    "- Entries in the crime and event_record_other categories have the lowest mean and median `age` (\\~53 and \\~55 years), followed by those in sports (\\~72 and \\~75 years), then arts (\\~76 and \\~79 years).\n",
    "- The remaining categories have similar distributions for `age`, with science and spiritual having top mean and median `age`, of \\~85 and \\~87 years, respectively.\n",
    "- The observable variation in `age` between `known_for` categories indicates that `known_for` should have some predictive value for modeling."
   ]
  },
  {
   "cell_type": "markdown",
   "id": "1f068aa8",
   "metadata": {},
   "source": [
    "### `region` vs `num_references` "
   ]
  },
  {
   "cell_type": "code",
   "execution_count": null,
   "id": "c095390e",
   "metadata": {},
   "outputs": [],
   "source": [
    "# Plotting boxplots of region_1 vs num_references with and without outliers\n",
    "box_w_wo_fliers(df, \"region\", \"num_references\")"
   ]
  },
  {
   "cell_type": "markdown",
   "id": "ad084d2a",
   "metadata": {},
   "source": [
    "#### Observations:\n",
    "- Again we see the impact of extreme outlier presence on `num_references` vs `region`.\n",
    "- There is some observable variation for the distribution of `num_references` between the regions.\n",
    "- North America has the widest spread, which is not surprising, as it also has the most entries.\n",
    "- A strong relationship does not appear between the two potential predictors, which is good for modeling."
   ]
  },
  {
   "cell_type": "markdown",
   "id": "a01fb80d",
   "metadata": {},
   "source": [
    "### `region` vs `age` (target)"
   ]
  },
  {
   "cell_type": "code",
   "execution_count": null,
   "id": "22df6db3",
   "metadata": {},
   "outputs": [],
   "source": [
    "# Plotting boxplots of region_1 vs age with and without outliers\n",
    "box_w_wo_fliers(df, \"region\", \"age\")"
   ]
  },
  {
   "cell_type": "markdown",
   "id": "db202c9f",
   "metadata": {},
   "source": [
    "#### Observations:\n",
    "- Central Asia and Africa have the lowest mean and median `age`, at ~70 and ~72 years, respectively.\n",
    "- Excluding outliers, Mid-Cent America/Caribbean has the widest spread for `age`.\n",
    "- The remaining regions are similar, with Europe, Oceania, and North America having slightly higher mean and median `age` of ~78 and ~81 years, respectively.\n",
    "- `region` may have some predictive value, but is not anticipated to be strong on its own."
   ]
  },
  {
   "cell_type": "markdown",
   "id": "ac891b08",
   "metadata": {},
   "source": [
    "### `prior_region` vs `num_references`"
   ]
  },
  {
   "cell_type": "code",
   "execution_count": null,
   "id": "8d911ddb",
   "metadata": {},
   "outputs": [],
   "source": [
    "# Plotting boxplots of region_2 vs num_references with and without outliers\n",
    "box_w_wo_fliers(df, \"prior_region\", \"num_references\")"
   ]
  },
  {
   "cell_type": "markdown",
   "id": "df25b6d4",
   "metadata": {},
   "source": [
    "#### Observations:\n",
    "- `num_references` does vary somewhat for specific `prior_region` levels, most notably Central Asia.\n",
    "- Central Asia has the narrowest spread and lowest mean and median `num_references` at 5.\n",
    "- Though there is an observable relationship between the two potential predictors, it does not appear strong, which is good for modeling."
   ]
  },
  {
   "cell_type": "markdown",
   "id": "bd7699a1",
   "metadata": {},
   "source": [
    "### `prior_region` vs `age` (target)"
   ]
  },
  {
   "cell_type": "code",
   "execution_count": null,
   "id": "c453fc51",
   "metadata": {},
   "outputs": [],
   "source": [
    "# Plotting boxplots of region_2_treated vs age with and without outliers\n",
    "box_w_wo_fliers(df, \"prior_region\", \"age\")"
   ]
  },
  {
   "cell_type": "markdown",
   "id": "78a61fc9",
   "metadata": {},
   "source": [
    "#### Observations:\n",
    "- There is some observable variation for `age` between `prior_region` levels.  \n",
    "- Europe has the highest mean and median `age`, at ~85 and ~87 years, respectively, while South East Asia has the lowest, at ~67 and ~70 years, respectively.\n",
    "- The feature may offer some predictive value but it is not likely to be strong, as the majority of levels have similar `age` distributions."
   ]
  },
  {
   "cell_type": "markdown",
   "id": "2b69232d",
   "metadata": {},
   "source": [
    "### `year` vs `age` (target)"
   ]
  },
  {
   "cell_type": "code",
   "execution_count": null,
   "id": "2214dd06",
   "metadata": {},
   "outputs": [],
   "source": [
    "# Line plot of year vs age\n",
    "plt.figure(figsize=(16, 10))\n",
    "sns.lineplot(data=df, x=\"year\", y=\"age\", ci=False, linewidth=2)\n",
    "plt.show()"
   ]
  },
  {
   "cell_type": "markdown",
   "id": "8e4e6c67",
   "metadata": {},
   "source": [
    "#### Observations:\n",
    "- There is an overall upward trend in mean `age`, with a mid-period peak at 2002 and subsequent dip to 2006-2008.\n",
    "- The minimimum mean `age` is just under 74 years while the maximum mean `age` is ~78.5, so the climb is between 4 and 5 years during the dataset's time period.\n",
    "- The trend is likely consistent with increasing life expectancy for the bulk of this period.\n",
    "- We anticipate `year` to have some predictive value for `age`."
   ]
  },
  {
   "cell_type": "markdown",
   "id": "15e1ecdc",
   "metadata": {},
   "source": [
    "### `year` vs `age` (target) w.r.t. `known_for`"
   ]
  },
  {
   "cell_type": "code",
   "execution_count": null,
   "id": "1fde6281",
   "metadata": {},
   "outputs": [],
   "source": [
    "# Line plot of year vs age w.r.t known_for\n",
    "plt.figure(figsize=(16, 12))\n",
    "sns.lineplot(\n",
    "    data=df,\n",
    "    x=\"year\",\n",
    "    y=\"age\",\n",
    "    ci=False,\n",
    "    hue=\"known_for\",\n",
    "    style=\"known_for\",\n",
    "    linewidth=2,\n",
    ")\n",
    "plt.show()"
   ]
  },
  {
   "cell_type": "markdown",
   "id": "6237cd37",
   "metadata": {},
   "source": [
    "#### Observations:\n",
    "- With the exception of social, `age` trends upward across `known_for` levels.\n",
    "- Some separation in the categories is clear, particularly with the highly variable mean `age` for event_record_other, crime, sports, and arts, which have the lower mean values for `age`.\n",
    "- We anticipate both features to have predictive value that is amplified in combination."
   ]
  },
  {
   "cell_type": "markdown",
   "id": "a2424b9e",
   "metadata": {},
   "source": [
    "### `year` vs `age` (target) w.r.t. `region`"
   ]
  },
  {
   "cell_type": "code",
   "execution_count": null,
   "id": "eeb1c4a5",
   "metadata": {},
   "outputs": [],
   "source": [
    "# Line plot of year vs age w.r.t region\n",
    "plt.figure(figsize=(16, 12))\n",
    "sns.lineplot(\n",
    "    data=df, x=\"year\", y=\"age\", ci=False, hue=\"region\", style=\"region\", linewidth=2,\n",
    ")\n",
    "plt.show()"
   ]
  },
  {
   "cell_type": "markdown",
   "id": "c9d3de7b",
   "metadata": {},
   "source": [
    "#### Observations:\n",
    "- The slight overall upward trend is less obvious here due to the extreme mean `age` values for Central Asian entries, but it is still visible.  We will keep in mind that the climb is only 4 to 5 years.\n",
    "- Again, `region` appears less valuable for prediction than `known_for`.\n",
    "- In combination with `year`, `region_1` is likely to have more predictive value than on its own."
   ]
  },
  {
   "cell_type": "markdown",
   "id": "27cd7804",
   "metadata": {},
   "source": [
    "### `year` vs `age` (target) w.r.t. `prior_region`"
   ]
  },
  {
   "cell_type": "code",
   "execution_count": null,
   "id": "1ab56551",
   "metadata": {},
   "outputs": [],
   "source": [
    "# Line plot of year vs age w.r.t region_2_treated\n",
    "plt.figure(figsize=(16, 12))\n",
    "sns.lineplot(\n",
    "    data=df,\n",
    "    x=\"year\",\n",
    "    y=\"age\",\n",
    "    ci=False,\n",
    "    hue=\"prior_region\",\n",
    "    style=\"prior_region\",\n",
    "    linewidth=2,\n",
    ")\n",
    "plt.show()"
   ]
  },
  {
   "cell_type": "markdown",
   "id": "45c2ee23",
   "metadata": {},
   "source": [
    "#### Observations:\n",
    "- The overall upward trend is observable again here.\n",
    "- Aside from the extremes mean values for Central Asia, the N/A group, and Europe, it is difficult to distinguish the levels for `prior_region`.\n",
    "- The relative smoothness of the N/A curve reflects its large number of entries.\n",
    "- Even in combination with `year`, `prior_region` does not show strong predictive traits."
   ]
  },
  {
   "cell_type": "markdown",
   "id": "dda22ae5",
   "metadata": {},
   "source": [
    "### `month` vs `age` (target)"
   ]
  },
  {
   "cell_type": "code",
   "execution_count": null,
   "id": "144193c7",
   "metadata": {},
   "outputs": [],
   "source": [
    "# Plotting boxplots of region_2 vs age with and without outliers\n",
    "box_w_wo_fliers(df, \"month\", \"age\")"
   ]
  },
  {
   "cell_type": "markdown",
   "id": "10117daa",
   "metadata": {},
   "source": [
    "#### Observations:\n",
    "- Plotted here entirely as a sanity check, `month` of death appears to have no bearing on `age`, as expected.\n",
    "- We can proceed to drop this feature."
   ]
  },
  {
   "cell_type": "markdown",
   "id": "1702d79d",
   "metadata": {},
   "source": [
    "#### Dropping `month`"
   ]
  },
  {
   "cell_type": "code",
   "execution_count": null,
   "id": "7724317d",
   "metadata": {},
   "outputs": [],
   "source": [
    "# Dropping month column\n",
    "df.drop(\"month\", axis=1, inplace=True)\n",
    "\n",
    "# Checking a sample\n",
    "df.sample()"
   ]
  },
  {
   "cell_type": "markdown",
   "id": "10a8fa3e",
   "metadata": {},
   "source": [
    "## Summary of EDA"
   ]
  },
  {
   "cell_type": "markdown",
   "id": "a56304ed",
   "metadata": {},
   "source": [
    "#### Data Description:\n",
    "-  `name` and `link` are nominal features of object type.\n",
    "- `day`, `month`,`cause_of_death`, `place_1`, and `place_2` are categorical features of object type.\n",
    "- `info` and `info_parenth` are of object type and retained for reference only.\n",
    "- `num_references`, `year`, `age`, `num_categories` and `known for` categories are numeric, of either float or integer type.  `known for` is boolean in nature and `num_categories` is examined as categorical.\n",
    "- Our target, `age`, has no missing values.  \n",
    "- `info_parenth`, `place_2`, `cause_of death` all have high percentages of missing values.\n",
    "- There are \\\\~150 missing values (\\~1.6%) for `place_1`.\n",
    "\n",
    "#### Data Handling and Cleaning:\n",
    "- `day` and `name` columns were dropped.\n",
    "- Non-human entries and the `other_species` column were dropped.\n",
    "- `month`, `place_1`, and `place_2` were typecast as category.\n",
    "- `recip_num_references` column was added (1/`num_references`).\n",
    "- `place_2` values were dropped for entries with duplicate `place_1` value for `place_2`.\n",
    "- `region` column was added (ultimate geographic region for all entries with value converted from `place_1` or `place_2`)\n",
    "- `prior_region` column was added (first geographic region converted from `place_1` for entries that had relocated, N/A category added for majority that had not relocated)\n",
    "- `known_for` column was added (values matching known for categories for entries with sole category and additional levels of \"two\" and \"three to five\" for entries with the respective number of categories).\n",
    "- `month` column was dropped after confirming no relationship with `age`.\n",
    "\n",
    "#### Observations from EDA:  \n",
    "\n",
    "Univariate\n",
    "- `age` (target): The mean and median are \\~76 and 80 years, respectively, with outliers at both ends spanning as low as 3 months to as high as 134 years.\n",
    "- `num_references`: The range is from 0 to 660 references, with at least 75% of entries have 13 or fewer references.\n",
    "- `year`: The dataset contains entries with year of death from 1994 to 2022, inclusive.  2014 divides the dataset in half.\n",
    "- `month`: Deaths during all 12 months are represented, with January having the highest number of entries, at \\~10%.\n",
    "- `place_1`: Over 1/3 of entries are from the United States of America, with the United Kingdom having the second highest count at \\~12,000.  India, Canada, Australia, France, Germany, Italy, Russia, and New Zealand make up the rest of the top 10 place_1 countries.  The top 10 account for \\~68% of entries.\n",
    "- `place_2`:  The top 10 place_2 countries account for less than 5% of entries, with most entries not having a place_2 value.  The United States of America accounts for the highest number of entries, at \\~2300, followed by the United Kingdom, at \\~550.\n",
    "- `region`: Of the 11 regions, North America is the top value, followed by Europe, accounting for \\~73% of entries combined. \n",
    "- `prior_region`: Over 94% of entries have only one region of residency.  The most relocations came from European countries (3% of entries).\n",
    "- `num_categories`: The vast majority (\\~85%) of entries have only 1 known for category, but there are entries with as many as 5 categories.\n",
    "- `known_for`: The category arts accounts for just over 1/3 of entries, followed by sports, then politics_govt_law, which combined also account for just over 1/3 of entries, followed by entries with two categories. Academia_humanities and sciences show higher likelihood of occurring in combination with another category than other levels.\n",
    "\n",
    "\n",
    "Bivariate and Multivariate\n",
    "-  Correlation: Numerical features are mostly independent of each other, with a few exceptions:       \n",
    "    - Moderate Positive Correlations:\n",
    "        - `academia_humanities` and `num_categories`\n",
    "    - Moderate Negative Correlations:\n",
    "        - `num_references` and `recip_num_references` (expected relationship)\n",
    "        - `arts` and `sports`\n",
    "        - `arts` and `politics_govt_law`\n",
    "    - Mild Positive Correlation:\n",
    "        - `business_farming` and `social`\n",
    "- `known_for` vs `num_references`: Excluding outliers, event_record_other entries have the highest mean (\\~15, \\~18) and median (\\~25, \\~31) num_references , followed by entries categorized in crime, likely a reflection of their newsworthiness.\n",
    "- `known_for` vs `age` (target): Entries in the crime and event_record_other categories have the lowest mean and median age (\\~53 and \\~55 years), followed by those in sports (\\~72 and \\~75 years), then arts (\\~76 and \\~79 years).  The remaining categories have similar distributions for age, with science and spiritual having top mean and median age, of \\~85 and \\~87 years, respectively.\n",
    "- `region` vs `num_references`: Ecluding outliers, there is some mild variation in distributions for number of references between regions but the two predictors are not strongly related.\n",
    "- `region` vs `age` (target):  Central Asia and Africa have the lowest mean and median age, at ~70 and ~72 years, respectively.  Europe, Oceania, and North America having slightly higher mean and median age for the regions, of ~78 and ~81 years, respectively.\n",
    "- `prior_region` vs `num_references`:  Excluding outliers, Central Asia has the narrowest spread and lowest mean and median num_references at 5, compared to the rest of the regions, which are similar.  There is not a strong relationship between these two predictors.\n",
    "- `prior_region` vs `age` (target): Europe has the highest mean and median age, at ~85 and ~87 years, respectively, while South East Asia has the lowest, at ~67 and ~70 years, respectively.  The remaining regions have simmilar age distributions.\n",
    "- `year` vs `age` (target): There is an overall upward trend in mean age, with a mid-period peak at 2002 and subsequent dip to 2006-2008.  The net increase in age is between 4 and 5 years, from ~74 to ~78.5.\n",
    "- `year` vs `age` (target) w.r.t. `known_for`: Some separation in the categories is clear, particularly with the highly variable mean age for event_record_other, crime, sports, and arts, which have the lower mean values for age.\n",
    "- `year` vs `age` (target) w.r.t. `region`:  Extreme mean age values for Central Asia are apparent, but otherwise the separation between regions is mild for age.\n",
    "- `year` vs `age` (target) w.r.t. `prior_region`:  Aside from the extremes mean age values for Central Asia, the N/A group, and Europe, it is difficult to distinguish the levels for prior_region.\n",
    "- `month` vs `age` (target): Plotted as a sanity check, month of death appears to have no bearing on age, as expected.\n",
    "\n",
    "#### Actions for Data Pre-processing:\n",
    "- Drop entries with `event_record_other` as sole category.\n",
    "- Treatment for `known for` categories, either one hot encoding `known_for` column, or direct treatment of binary `known for` category columns (i.e., dividing by `num_categories`).\n",
    "- Drop superfluous columns.\n",
    "- Outlier detection and treatment, as indicated.\n",
    "- Revisit EDA.\n",
    "- Missing value treatment.\n",
    "- One hot encoding of remaining categorical variables."
   ]
  },
  {
   "cell_type": "markdown",
   "id": "0f66697e",
   "metadata": {},
   "source": [
    "#### Observations:\n",
    "- With initial EDA completed, will now save our dataset and pick back up in a new notebook."
   ]
  },
  {
   "cell_type": "markdown",
   "id": "1113a242",
   "metadata": {},
   "source": [
    "### Exporting Dataset to SQLite Database [wp_life_expect_EDA.db](https://github.com/teresahanak/wikipedia-life-expectancy/blob/main/wp_life_expect_EDA.db)"
   ]
  },
  {
   "cell_type": "code",
   "execution_count": null,
   "id": "6008ac61",
   "metadata": {},
   "outputs": [],
   "source": [
    "# Exporting dataframe\n",
    "\n",
    "# Saving dataset in a SQLite database\n",
    "conn = sql.connect(\"wp_life_expect_EDA.db\")\n",
    "df.to_sql(\"wp_life_expect_EDA\", conn, index=False)"
   ]
  },
  {
   "cell_type": "code",
   "execution_count": null,
   "id": "a36c0663",
   "metadata": {},
   "outputs": [],
   "source": [
    "print(\"Complete\")\n",
    "\n",
    "# Chime notification when cell executes\n",
    "chime.success()"
   ]
  },
  {
   "cell_type": "markdown",
   "id": "11aacfcc",
   "metadata": {},
   "source": [
    "# [Proceed to Data Pre-processing ](https://github.com/teresahanak/wikipedia-life-expectancy/blob/main/wp_life_expect_data_preproc_2022_10_06.ipynb)"
   ]
  }
 ],
 "metadata": {
  "kernelspec": {
   "display_name": "Python 3 (ipykernel)",
   "language": "python",
   "name": "python3"
  },
  "language_info": {
   "codemirror_mode": {
    "name": "ipython",
    "version": 3
   },
   "file_extension": ".py",
   "mimetype": "text/x-python",
   "name": "python",
   "nbconvert_exporter": "python",
   "pygments_lexer": "ipython3",
   "version": "3.9.12"
  }
 },
 "nbformat": 4,
 "nbformat_minor": 5
}
