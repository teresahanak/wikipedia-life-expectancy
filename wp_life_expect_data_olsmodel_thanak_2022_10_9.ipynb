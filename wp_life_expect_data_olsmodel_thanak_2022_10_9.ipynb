{
 "cells": [
  {
   "cell_type": "markdown",
   "id": "316a0779",
   "metadata": {},
   "source": [
    "# Wikipedia Notable Life Expectancies\n",
    "# [Notebook 11: Linear Regression Model ](https://github.com/teresahanak/wikipedia-life-expectancy/blob/main/wp_life_expect_data_olsmodel_thanak_2022_10_9.ipynb)\n",
    "### Context\n",
    "\n",
    "The\n",
    "### Objective\n",
    "\n",
    "The\n",
    "### Data Dictionary\n",
    "- Feature: Description"
   ]
  },
  {
   "cell_type": "markdown",
   "id": "99245d51",
   "metadata": {},
   "source": [
    "### Importing Libraries"
   ]
  },
  {
   "cell_type": "code",
   "execution_count": 1,
   "id": "453bba83",
   "metadata": {},
   "outputs": [
    {
     "data": {
      "application/javascript": [
       "\n",
       "            setTimeout(function() {\n",
       "                var nbb_cell_id = 1;\n",
       "                var nbb_unformatted_code = \"# To structure code automatically\\n%load_ext nb_black\\n\\n# To import/export sqlite databases\\n# import sqlite3 as sql\\n\\n# To save/open python objects in pickle file\\nimport pickle\\n\\n# To help with reading, cleaning, and manipulating data\\nimport pandas as pd\\nimport numpy as np\\n\\n# To help with data visualization\\nimport matplotlib.pyplot as plt\\nimport seaborn as sns\\n\\n# randomized data splitting\\nfrom sklearn.model_selection import train_test_split\\n\\n# building regression model\\nimport statsmodels.api as sm\\n\\n# check model performance\\nfrom sklearn.metrics import mean_absolute_error, mean_squared_error, r2_score\\n\\n# check linear regression assumptions\\nfrom statsmodels.stats.outliers_influence import variance_inflation_factor\\nimport pylab\\nimport scipy.stats as stats\\nimport statsmodels.stats.api as sms\\nfrom statsmodels.compat import lzip\\n\\n# to compare fit between models\\nfrom scipy.stats.distributions import chi2\\n\\n# To define maximum number of columns to be displayed in a dataframe\\npd.set_option(\\\"display.max_columns\\\", None)\\n# To define the maximum number of rows to be displayed in a dataframe\\npd.set_option(\\\"display.max_rows\\\", 211)\\n\\n# To set some dataframe visualization attributes\\npd.set_option(\\\"max_colwidth\\\", 150)\\n\\n# To supress scientific notations for a dataframe\\n# pd.set_option(\\\"display.float_format\\\", lambda x: \\\"%.3f\\\" % x)\\n\\n# To supress warnings\\n# import warnings\\n\\n# warnings.filterwarnings(\\\"ignore\\\")\\n\\n# To set some plot visualization attributes\\nsns.set_theme()\\nsns.set(font_scale=1.4)\\nsns.set_palette(\\n    (\\n        \\\"midnightblue\\\",\\n        \\\"goldenrod\\\",\\n        \\\"maroon\\\",\\n        \\\"darkolivegreen\\\",\\n        \\\"cadetblue\\\",\\n        \\\"tab:purple\\\",\\n        \\\"yellowgreen\\\",\\n    )\\n)\\n# plt.rc(\\\"font\\\", size=12)\\n# plt.rc(\\\"axes\\\", titlesize=15)\\n# plt.rc(\\\"axes\\\", labelsize=14)\\n# plt.rc(\\\"xtick\\\", labelsize=13)\\n# plt.rc(\\\"ytick\\\", labelsize=13)\\n# plt.rc(\\\"legend\\\", fontsize=13)\\n# plt.rc(\\\"legend\\\", fontsize=14)\\n# plt.rc(\\\"figure\\\", titlesize=16)\\n\\n# To play auditory cue when cell has executed, has warning, or has error and set chime theme\\nimport chime\\n\\nchime.theme(\\\"zelda\\\")\";\n",
       "                var nbb_formatted_code = \"# To structure code automatically\\n%load_ext nb_black\\n\\n# To import/export sqlite databases\\n# import sqlite3 as sql\\n\\n# To save/open python objects in pickle file\\nimport pickle\\n\\n# To help with reading, cleaning, and manipulating data\\nimport pandas as pd\\nimport numpy as np\\n\\n# To help with data visualization\\nimport matplotlib.pyplot as plt\\nimport seaborn as sns\\n\\n# randomized data splitting\\nfrom sklearn.model_selection import train_test_split\\n\\n# building regression model\\nimport statsmodels.api as sm\\n\\n# check model performance\\nfrom sklearn.metrics import mean_absolute_error, mean_squared_error, r2_score\\n\\n# check linear regression assumptions\\nfrom statsmodels.stats.outliers_influence import variance_inflation_factor\\nimport pylab\\nimport scipy.stats as stats\\nimport statsmodels.stats.api as sms\\nfrom statsmodels.compat import lzip\\n\\n# to compare fit between models\\nfrom scipy.stats.distributions import chi2\\n\\n# To define maximum number of columns to be displayed in a dataframe\\npd.set_option(\\\"display.max_columns\\\", None)\\n# To define the maximum number of rows to be displayed in a dataframe\\npd.set_option(\\\"display.max_rows\\\", 211)\\n\\n# To set some dataframe visualization attributes\\npd.set_option(\\\"max_colwidth\\\", 150)\\n\\n# To supress scientific notations for a dataframe\\n# pd.set_option(\\\"display.float_format\\\", lambda x: \\\"%.3f\\\" % x)\\n\\n# To supress warnings\\n# import warnings\\n\\n# warnings.filterwarnings(\\\"ignore\\\")\\n\\n# To set some plot visualization attributes\\nsns.set_theme()\\nsns.set(font_scale=1.4)\\nsns.set_palette(\\n    (\\n        \\\"midnightblue\\\",\\n        \\\"goldenrod\\\",\\n        \\\"maroon\\\",\\n        \\\"darkolivegreen\\\",\\n        \\\"cadetblue\\\",\\n        \\\"tab:purple\\\",\\n        \\\"yellowgreen\\\",\\n    )\\n)\\n# plt.rc(\\\"font\\\", size=12)\\n# plt.rc(\\\"axes\\\", titlesize=15)\\n# plt.rc(\\\"axes\\\", labelsize=14)\\n# plt.rc(\\\"xtick\\\", labelsize=13)\\n# plt.rc(\\\"ytick\\\", labelsize=13)\\n# plt.rc(\\\"legend\\\", fontsize=13)\\n# plt.rc(\\\"legend\\\", fontsize=14)\\n# plt.rc(\\\"figure\\\", titlesize=16)\\n\\n# To play auditory cue when cell has executed, has warning, or has error and set chime theme\\nimport chime\\n\\nchime.theme(\\\"zelda\\\")\";\n",
       "                var nbb_cells = Jupyter.notebook.get_cells();\n",
       "                for (var i = 0; i < nbb_cells.length; ++i) {\n",
       "                    if (nbb_cells[i].input_prompt_number == nbb_cell_id) {\n",
       "                        if (nbb_cells[i].get_text() == nbb_unformatted_code) {\n",
       "                             nbb_cells[i].set_text(nbb_formatted_code);\n",
       "                        }\n",
       "                        break;\n",
       "                    }\n",
       "                }\n",
       "            }, 500);\n",
       "            "
      ],
      "text/plain": [
       "<IPython.core.display.Javascript object>"
      ]
     },
     "metadata": {},
     "output_type": "display_data"
    }
   ],
   "source": [
    "# To structure code automatically\n",
    "%load_ext nb_black\n",
    "\n",
    "# To import/export sqlite databases\n",
    "# import sqlite3 as sql\n",
    "\n",
    "# To save/open python objects in pickle file\n",
    "import pickle\n",
    "\n",
    "# To help with reading, cleaning, and manipulating data\n",
    "import pandas as pd\n",
    "import numpy as np\n",
    "\n",
    "# To help with data visualization\n",
    "import matplotlib.pyplot as plt\n",
    "import seaborn as sns\n",
    "\n",
    "# randomized data splitting\n",
    "from sklearn.model_selection import train_test_split\n",
    "\n",
    "# building regression model\n",
    "import statsmodels.api as sm\n",
    "\n",
    "# check model performance\n",
    "from sklearn.metrics import mean_absolute_error, mean_squared_error, r2_score\n",
    "\n",
    "# check linear regression assumptions\n",
    "from statsmodels.stats.outliers_influence import variance_inflation_factor\n",
    "import pylab\n",
    "import scipy.stats as stats\n",
    "import statsmodels.stats.api as sms\n",
    "from statsmodels.compat import lzip\n",
    "\n",
    "# to compare fit between models\n",
    "from scipy.stats.distributions import chi2\n",
    "\n",
    "# To define maximum number of columns to be displayed in a dataframe\n",
    "pd.set_option(\"display.max_columns\", None)\n",
    "# To define the maximum number of rows to be displayed in a dataframe\n",
    "pd.set_option(\"display.max_rows\", 211)\n",
    "\n",
    "# To set some dataframe visualization attributes\n",
    "pd.set_option(\"max_colwidth\", 150)\n",
    "\n",
    "# To supress scientific notations for a dataframe\n",
    "# pd.set_option(\"display.float_format\", lambda x: \"%.3f\" % x)\n",
    "\n",
    "# To supress warnings\n",
    "# import warnings\n",
    "\n",
    "# warnings.filterwarnings(\"ignore\")\n",
    "\n",
    "# To set some plot visualization attributes\n",
    "sns.set_theme()\n",
    "sns.set(font_scale=1.4)\n",
    "sns.set_palette(\n",
    "    (\n",
    "        \"midnightblue\",\n",
    "        \"goldenrod\",\n",
    "        \"maroon\",\n",
    "        \"darkolivegreen\",\n",
    "        \"cadetblue\",\n",
    "        \"tab:purple\",\n",
    "        \"yellowgreen\",\n",
    "    )\n",
    ")\n",
    "# plt.rc(\"font\", size=12)\n",
    "# plt.rc(\"axes\", titlesize=15)\n",
    "# plt.rc(\"axes\", labelsize=14)\n",
    "# plt.rc(\"xtick\", labelsize=13)\n",
    "# plt.rc(\"ytick\", labelsize=13)\n",
    "# plt.rc(\"legend\", fontsize=13)\n",
    "# plt.rc(\"legend\", fontsize=14)\n",
    "# plt.rc(\"figure\", titlesize=16)\n",
    "\n",
    "# To play auditory cue when cell has executed, has warning, or has error and set chime theme\n",
    "import chime\n",
    "\n",
    "chime.theme(\"zelda\")"
   ]
  },
  {
   "cell_type": "markdown",
   "id": "cc818a82",
   "metadata": {},
   "source": [
    "## Data Overview"
   ]
  },
  {
   "cell_type": "markdown",
   "id": "0ed005f6",
   "metadata": {},
   "source": [
    "### [Reading](https://github.com/teresahanak/wikipedia-life-expectancy/blob/main/wp_life_expect_preproc.csv), Sampling, and Checking Data Shape"
   ]
  },
  {
   "cell_type": "code",
   "execution_count": 2,
   "id": "0ca58a95",
   "metadata": {},
   "outputs": [
    {
     "name": "stdout",
     "output_type": "stream",
     "text": [
      "There are 77622 rows and 20 columns.\n"
     ]
    },
    {
     "data": {
      "text/html": [
       "<div>\n",
       "<style scoped>\n",
       "    .dataframe tbody tr th:only-of-type {\n",
       "        vertical-align: middle;\n",
       "    }\n",
       "\n",
       "    .dataframe tbody tr th {\n",
       "        vertical-align: top;\n",
       "    }\n",
       "\n",
       "    .dataframe thead th {\n",
       "        text-align: right;\n",
       "    }\n",
       "</style>\n",
       "<table border=\"1\" class=\"dataframe\">\n",
       "  <thead>\n",
       "    <tr style=\"text-align: right;\">\n",
       "      <th></th>\n",
       "      <th>num_references</th>\n",
       "      <th>age</th>\n",
       "      <th>sciences</th>\n",
       "      <th>social</th>\n",
       "      <th>spiritual</th>\n",
       "      <th>academia_humanities</th>\n",
       "      <th>business_farming</th>\n",
       "      <th>arts</th>\n",
       "      <th>sports</th>\n",
       "      <th>law_enf_military_operator</th>\n",
       "      <th>politics_govt_law</th>\n",
       "      <th>crime</th>\n",
       "      <th>num_categories</th>\n",
       "      <th>age_sqrd</th>\n",
       "      <th>recip_num_references</th>\n",
       "      <th>years</th>\n",
       "      <th>years_sqrd</th>\n",
       "      <th>region</th>\n",
       "      <th>prior_region</th>\n",
       "      <th>known_for</th>\n",
       "    </tr>\n",
       "  </thead>\n",
       "  <tbody>\n",
       "    <tr>\n",
       "      <th>0</th>\n",
       "      <td>4</td>\n",
       "      <td>73.0</td>\n",
       "      <td>0</td>\n",
       "      <td>0</td>\n",
       "      <td>1</td>\n",
       "      <td>0</td>\n",
       "      <td>0</td>\n",
       "      <td>0</td>\n",
       "      <td>0</td>\n",
       "      <td>0</td>\n",
       "      <td>0</td>\n",
       "      <td>0</td>\n",
       "      <td>1</td>\n",
       "      <td>5329.0</td>\n",
       "      <td>0.250000</td>\n",
       "      <td>8</td>\n",
       "      <td>64</td>\n",
       "      <td>Europe</td>\n",
       "      <td>No Prior Region</td>\n",
       "      <td>spiritual</td>\n",
       "    </tr>\n",
       "    <tr>\n",
       "      <th>1</th>\n",
       "      <td>3</td>\n",
       "      <td>90.0</td>\n",
       "      <td>1</td>\n",
       "      <td>0</td>\n",
       "      <td>0</td>\n",
       "      <td>1</td>\n",
       "      <td>0</td>\n",
       "      <td>0</td>\n",
       "      <td>0</td>\n",
       "      <td>0</td>\n",
       "      <td>0</td>\n",
       "      <td>0</td>\n",
       "      <td>2</td>\n",
       "      <td>8100.0</td>\n",
       "      <td>0.333333</td>\n",
       "      <td>13</td>\n",
       "      <td>169</td>\n",
       "      <td>North America</td>\n",
       "      <td>No Prior Region</td>\n",
       "      <td>two</td>\n",
       "    </tr>\n",
       "  </tbody>\n",
       "</table>\n",
       "</div>"
      ],
      "text/plain": [
       "   num_references   age  sciences  social  spiritual  academia_humanities  \\\n",
       "0               4  73.0         0       0          1                    0   \n",
       "1               3  90.0         1       0          0                    1   \n",
       "\n",
       "   business_farming  arts  sports  law_enf_military_operator  \\\n",
       "0                 0     0       0                          0   \n",
       "1                 0     0       0                          0   \n",
       "\n",
       "   politics_govt_law  crime  num_categories  age_sqrd  recip_num_references  \\\n",
       "0                  0      0               1    5329.0              0.250000   \n",
       "1                  0      0               2    8100.0              0.333333   \n",
       "\n",
       "   years  years_sqrd         region     prior_region  known_for  \n",
       "0      8          64         Europe  No Prior Region  spiritual  \n",
       "1     13         169  North America  No Prior Region        two  "
      ]
     },
     "execution_count": 2,
     "metadata": {},
     "output_type": "execute_result"
    },
    {
     "data": {
      "application/javascript": [
       "\n",
       "            setTimeout(function() {\n",
       "                var nbb_cell_id = 2;\n",
       "                var nbb_unformatted_code = \"# Reading the train set\\ndata = pd.read_csv(\\\"wp_life_expect_preproc.csv\\\")\\n\\n# Making a working copy\\ndf = data.copy()\\n\\n# Checking the shape\\nprint(f\\\"There are {df.shape[0]} rows and {df.shape[1]} columns.\\\")\\n\\n# Checking first 2 rows of the data\\ndf.head(2)\";\n",
       "                var nbb_formatted_code = \"# Reading the train set\\ndata = pd.read_csv(\\\"wp_life_expect_preproc.csv\\\")\\n\\n# Making a working copy\\ndf = data.copy()\\n\\n# Checking the shape\\nprint(f\\\"There are {df.shape[0]} rows and {df.shape[1]} columns.\\\")\\n\\n# Checking first 2 rows of the data\\ndf.head(2)\";\n",
       "                var nbb_cells = Jupyter.notebook.get_cells();\n",
       "                for (var i = 0; i < nbb_cells.length; ++i) {\n",
       "                    if (nbb_cells[i].input_prompt_number == nbb_cell_id) {\n",
       "                        if (nbb_cells[i].get_text() == nbb_unformatted_code) {\n",
       "                             nbb_cells[i].set_text(nbb_formatted_code);\n",
       "                        }\n",
       "                        break;\n",
       "                    }\n",
       "                }\n",
       "            }, 500);\n",
       "            "
      ],
      "text/plain": [
       "<IPython.core.display.Javascript object>"
      ]
     },
     "metadata": {},
     "output_type": "display_data"
    }
   ],
   "source": [
    "# Reading the train set\n",
    "data = pd.read_csv(\"wp_life_expect_preproc.csv\")\n",
    "\n",
    "# Making a working copy\n",
    "df = data.copy()\n",
    "\n",
    "# Checking the shape\n",
    "print(f\"There are {df.shape[0]} rows and {df.shape[1]} columns.\")\n",
    "\n",
    "# Checking first 2 rows of the data\n",
    "df.head(2)"
   ]
  },
  {
   "cell_type": "code",
   "execution_count": 3,
   "id": "6cca416f",
   "metadata": {},
   "outputs": [
    {
     "data": {
      "text/html": [
       "<div>\n",
       "<style scoped>\n",
       "    .dataframe tbody tr th:only-of-type {\n",
       "        vertical-align: middle;\n",
       "    }\n",
       "\n",
       "    .dataframe tbody tr th {\n",
       "        vertical-align: top;\n",
       "    }\n",
       "\n",
       "    .dataframe thead th {\n",
       "        text-align: right;\n",
       "    }\n",
       "</style>\n",
       "<table border=\"1\" class=\"dataframe\">\n",
       "  <thead>\n",
       "    <tr style=\"text-align: right;\">\n",
       "      <th></th>\n",
       "      <th>num_references</th>\n",
       "      <th>age</th>\n",
       "      <th>sciences</th>\n",
       "      <th>social</th>\n",
       "      <th>spiritual</th>\n",
       "      <th>academia_humanities</th>\n",
       "      <th>business_farming</th>\n",
       "      <th>arts</th>\n",
       "      <th>sports</th>\n",
       "      <th>law_enf_military_operator</th>\n",
       "      <th>politics_govt_law</th>\n",
       "      <th>crime</th>\n",
       "      <th>num_categories</th>\n",
       "      <th>age_sqrd</th>\n",
       "      <th>recip_num_references</th>\n",
       "      <th>years</th>\n",
       "      <th>years_sqrd</th>\n",
       "      <th>region</th>\n",
       "      <th>prior_region</th>\n",
       "      <th>known_for</th>\n",
       "    </tr>\n",
       "  </thead>\n",
       "  <tbody>\n",
       "    <tr>\n",
       "      <th>77620</th>\n",
       "      <td>7</td>\n",
       "      <td>74.0</td>\n",
       "      <td>0</td>\n",
       "      <td>0</td>\n",
       "      <td>0</td>\n",
       "      <td>0</td>\n",
       "      <td>0</td>\n",
       "      <td>1</td>\n",
       "      <td>0</td>\n",
       "      <td>0</td>\n",
       "      <td>0</td>\n",
       "      <td>0</td>\n",
       "      <td>1</td>\n",
       "      <td>5476.0</td>\n",
       "      <td>0.142857</td>\n",
       "      <td>0</td>\n",
       "      <td>0</td>\n",
       "      <td>North America</td>\n",
       "      <td>No Prior Region</td>\n",
       "      <td>arts</td>\n",
       "    </tr>\n",
       "    <tr>\n",
       "      <th>77621</th>\n",
       "      <td>5</td>\n",
       "      <td>92.0</td>\n",
       "      <td>0</td>\n",
       "      <td>0</td>\n",
       "      <td>0</td>\n",
       "      <td>0</td>\n",
       "      <td>0</td>\n",
       "      <td>0</td>\n",
       "      <td>1</td>\n",
       "      <td>0</td>\n",
       "      <td>0</td>\n",
       "      <td>0</td>\n",
       "      <td>1</td>\n",
       "      <td>8464.0</td>\n",
       "      <td>0.200000</td>\n",
       "      <td>8</td>\n",
       "      <td>64</td>\n",
       "      <td>Europe</td>\n",
       "      <td>No Prior Region</td>\n",
       "      <td>sports</td>\n",
       "    </tr>\n",
       "  </tbody>\n",
       "</table>\n",
       "</div>"
      ],
      "text/plain": [
       "       num_references   age  sciences  social  spiritual  academia_humanities  \\\n",
       "77620               7  74.0         0       0          0                    0   \n",
       "77621               5  92.0         0       0          0                    0   \n",
       "\n",
       "       business_farming  arts  sports  law_enf_military_operator  \\\n",
       "77620                 0     1       0                          0   \n",
       "77621                 0     0       1                          0   \n",
       "\n",
       "       politics_govt_law  crime  num_categories  age_sqrd  \\\n",
       "77620                  0      0               1    5476.0   \n",
       "77621                  0      0               1    8464.0   \n",
       "\n",
       "       recip_num_references  years  years_sqrd         region  \\\n",
       "77620              0.142857      0           0  North America   \n",
       "77621              0.200000      8          64         Europe   \n",
       "\n",
       "          prior_region known_for  \n",
       "77620  No Prior Region      arts  \n",
       "77621  No Prior Region    sports  "
      ]
     },
     "execution_count": 3,
     "metadata": {},
     "output_type": "execute_result"
    },
    {
     "data": {
      "application/javascript": [
       "\n",
       "            setTimeout(function() {\n",
       "                var nbb_cell_id = 3;\n",
       "                var nbb_unformatted_code = \"# Checking last 2 rows of the data\\ndf.tail(2)\";\n",
       "                var nbb_formatted_code = \"# Checking last 2 rows of the data\\ndf.tail(2)\";\n",
       "                var nbb_cells = Jupyter.notebook.get_cells();\n",
       "                for (var i = 0; i < nbb_cells.length; ++i) {\n",
       "                    if (nbb_cells[i].input_prompt_number == nbb_cell_id) {\n",
       "                        if (nbb_cells[i].get_text() == nbb_unformatted_code) {\n",
       "                             nbb_cells[i].set_text(nbb_formatted_code);\n",
       "                        }\n",
       "                        break;\n",
       "                    }\n",
       "                }\n",
       "            }, 500);\n",
       "            "
      ],
      "text/plain": [
       "<IPython.core.display.Javascript object>"
      ]
     },
     "metadata": {},
     "output_type": "display_data"
    }
   ],
   "source": [
    "# Checking last 2 rows of the data\n",
    "df.tail(2)"
   ]
  },
  {
   "cell_type": "code",
   "execution_count": 4,
   "id": "de6e8ee5",
   "metadata": {},
   "outputs": [
    {
     "data": {
      "text/html": [
       "<div>\n",
       "<style scoped>\n",
       "    .dataframe tbody tr th:only-of-type {\n",
       "        vertical-align: middle;\n",
       "    }\n",
       "\n",
       "    .dataframe tbody tr th {\n",
       "        vertical-align: top;\n",
       "    }\n",
       "\n",
       "    .dataframe thead th {\n",
       "        text-align: right;\n",
       "    }\n",
       "</style>\n",
       "<table border=\"1\" class=\"dataframe\">\n",
       "  <thead>\n",
       "    <tr style=\"text-align: right;\">\n",
       "      <th></th>\n",
       "      <th>num_references</th>\n",
       "      <th>age</th>\n",
       "      <th>sciences</th>\n",
       "      <th>social</th>\n",
       "      <th>spiritual</th>\n",
       "      <th>academia_humanities</th>\n",
       "      <th>business_farming</th>\n",
       "      <th>arts</th>\n",
       "      <th>sports</th>\n",
       "      <th>law_enf_military_operator</th>\n",
       "      <th>politics_govt_law</th>\n",
       "      <th>crime</th>\n",
       "      <th>num_categories</th>\n",
       "      <th>age_sqrd</th>\n",
       "      <th>recip_num_references</th>\n",
       "      <th>years</th>\n",
       "      <th>years_sqrd</th>\n",
       "      <th>region</th>\n",
       "      <th>prior_region</th>\n",
       "      <th>known_for</th>\n",
       "    </tr>\n",
       "  </thead>\n",
       "  <tbody>\n",
       "    <tr>\n",
       "      <th>63435</th>\n",
       "      <td>13</td>\n",
       "      <td>70.0</td>\n",
       "      <td>0</td>\n",
       "      <td>0</td>\n",
       "      <td>0</td>\n",
       "      <td>0</td>\n",
       "      <td>1</td>\n",
       "      <td>0</td>\n",
       "      <td>0</td>\n",
       "      <td>0</td>\n",
       "      <td>0</td>\n",
       "      <td>0</td>\n",
       "      <td>1</td>\n",
       "      <td>4900.0</td>\n",
       "      <td>0.076923</td>\n",
       "      <td>24</td>\n",
       "      <td>576</td>\n",
       "      <td>South East Asia</td>\n",
       "      <td>Europe</td>\n",
       "      <td>business_farming</td>\n",
       "    </tr>\n",
       "    <tr>\n",
       "      <th>48522</th>\n",
       "      <td>73</td>\n",
       "      <td>81.0</td>\n",
       "      <td>1</td>\n",
       "      <td>0</td>\n",
       "      <td>0</td>\n",
       "      <td>0</td>\n",
       "      <td>0</td>\n",
       "      <td>0</td>\n",
       "      <td>0</td>\n",
       "      <td>1</td>\n",
       "      <td>0</td>\n",
       "      <td>0</td>\n",
       "      <td>2</td>\n",
       "      <td>6561.0</td>\n",
       "      <td>0.013699</td>\n",
       "      <td>13</td>\n",
       "      <td>169</td>\n",
       "      <td>North America</td>\n",
       "      <td>No Prior Region</td>\n",
       "      <td>two</td>\n",
       "    </tr>\n",
       "    <tr>\n",
       "      <th>33594</th>\n",
       "      <td>9</td>\n",
       "      <td>85.0</td>\n",
       "      <td>0</td>\n",
       "      <td>0</td>\n",
       "      <td>0</td>\n",
       "      <td>0</td>\n",
       "      <td>0</td>\n",
       "      <td>1</td>\n",
       "      <td>0</td>\n",
       "      <td>0</td>\n",
       "      <td>0</td>\n",
       "      <td>0</td>\n",
       "      <td>1</td>\n",
       "      <td>7225.0</td>\n",
       "      <td>0.111111</td>\n",
       "      <td>21</td>\n",
       "      <td>441</td>\n",
       "      <td>North America</td>\n",
       "      <td>No Prior Region</td>\n",
       "      <td>arts</td>\n",
       "    </tr>\n",
       "    <tr>\n",
       "      <th>23204</th>\n",
       "      <td>10</td>\n",
       "      <td>70.0</td>\n",
       "      <td>0</td>\n",
       "      <td>0</td>\n",
       "      <td>0</td>\n",
       "      <td>0</td>\n",
       "      <td>0</td>\n",
       "      <td>0</td>\n",
       "      <td>1</td>\n",
       "      <td>0</td>\n",
       "      <td>0</td>\n",
       "      <td>0</td>\n",
       "      <td>1</td>\n",
       "      <td>4900.0</td>\n",
       "      <td>0.100000</td>\n",
       "      <td>8</td>\n",
       "      <td>64</td>\n",
       "      <td>North America</td>\n",
       "      <td>No Prior Region</td>\n",
       "      <td>sports</td>\n",
       "    </tr>\n",
       "    <tr>\n",
       "      <th>44625</th>\n",
       "      <td>22</td>\n",
       "      <td>64.0</td>\n",
       "      <td>0</td>\n",
       "      <td>0</td>\n",
       "      <td>0</td>\n",
       "      <td>1</td>\n",
       "      <td>0</td>\n",
       "      <td>0</td>\n",
       "      <td>0</td>\n",
       "      <td>0</td>\n",
       "      <td>0</td>\n",
       "      <td>0</td>\n",
       "      <td>1</td>\n",
       "      <td>4096.0</td>\n",
       "      <td>0.045455</td>\n",
       "      <td>9</td>\n",
       "      <td>81</td>\n",
       "      <td>North America</td>\n",
       "      <td>No Prior Region</td>\n",
       "      <td>academia_humanities</td>\n",
       "    </tr>\n",
       "  </tbody>\n",
       "</table>\n",
       "</div>"
      ],
      "text/plain": [
       "       num_references   age  sciences  social  spiritual  academia_humanities  \\\n",
       "63435              13  70.0         0       0          0                    0   \n",
       "48522              73  81.0         1       0          0                    0   \n",
       "33594               9  85.0         0       0          0                    0   \n",
       "23204              10  70.0         0       0          0                    0   \n",
       "44625              22  64.0         0       0          0                    1   \n",
       "\n",
       "       business_farming  arts  sports  law_enf_military_operator  \\\n",
       "63435                 1     0       0                          0   \n",
       "48522                 0     0       0                          1   \n",
       "33594                 0     1       0                          0   \n",
       "23204                 0     0       1                          0   \n",
       "44625                 0     0       0                          0   \n",
       "\n",
       "       politics_govt_law  crime  num_categories  age_sqrd  \\\n",
       "63435                  0      0               1    4900.0   \n",
       "48522                  0      0               2    6561.0   \n",
       "33594                  0      0               1    7225.0   \n",
       "23204                  0      0               1    4900.0   \n",
       "44625                  0      0               1    4096.0   \n",
       "\n",
       "       recip_num_references  years  years_sqrd           region  \\\n",
       "63435              0.076923     24         576  South East Asia   \n",
       "48522              0.013699     13         169    North America   \n",
       "33594              0.111111     21         441    North America   \n",
       "23204              0.100000      8          64    North America   \n",
       "44625              0.045455      9          81    North America   \n",
       "\n",
       "          prior_region            known_for  \n",
       "63435           Europe     business_farming  \n",
       "48522  No Prior Region                  two  \n",
       "33594  No Prior Region                 arts  \n",
       "23204  No Prior Region               sports  \n",
       "44625  No Prior Region  academia_humanities  "
      ]
     },
     "execution_count": 4,
     "metadata": {},
     "output_type": "execute_result"
    },
    {
     "data": {
      "application/javascript": [
       "\n",
       "            setTimeout(function() {\n",
       "                var nbb_cell_id = 4;\n",
       "                var nbb_unformatted_code = \"# Checking a sample of the data\\ndf.sample(5)\";\n",
       "                var nbb_formatted_code = \"# Checking a sample of the data\\ndf.sample(5)\";\n",
       "                var nbb_cells = Jupyter.notebook.get_cells();\n",
       "                for (var i = 0; i < nbb_cells.length; ++i) {\n",
       "                    if (nbb_cells[i].input_prompt_number == nbb_cell_id) {\n",
       "                        if (nbb_cells[i].get_text() == nbb_unformatted_code) {\n",
       "                             nbb_cells[i].set_text(nbb_formatted_code);\n",
       "                        }\n",
       "                        break;\n",
       "                    }\n",
       "                }\n",
       "            }, 500);\n",
       "            "
      ],
      "text/plain": [
       "<IPython.core.display.Javascript object>"
      ]
     },
     "metadata": {},
     "output_type": "display_data"
    }
   ],
   "source": [
    "# Checking a sample of the data\n",
    "df.sample(5)"
   ]
  },
  {
   "cell_type": "markdown",
   "id": "8d5f29da",
   "metadata": {},
   "source": [
    "### Checking Data Types and Null Values"
   ]
  },
  {
   "cell_type": "code",
   "execution_count": 5,
   "id": "bf505f87",
   "metadata": {},
   "outputs": [
    {
     "name": "stdout",
     "output_type": "stream",
     "text": [
      "<class 'pandas.core.frame.DataFrame'>\n",
      "RangeIndex: 77622 entries, 0 to 77621\n",
      "Data columns (total 20 columns):\n",
      " #   Column                     Non-Null Count  Dtype  \n",
      "---  ------                     --------------  -----  \n",
      " 0   num_references             77622 non-null  int64  \n",
      " 1   age                        77622 non-null  float64\n",
      " 2   sciences                   77622 non-null  int64  \n",
      " 3   social                     77622 non-null  int64  \n",
      " 4   spiritual                  77622 non-null  int64  \n",
      " 5   academia_humanities        77622 non-null  int64  \n",
      " 6   business_farming           77622 non-null  int64  \n",
      " 7   arts                       77622 non-null  int64  \n",
      " 8   sports                     77622 non-null  int64  \n",
      " 9   law_enf_military_operator  77622 non-null  int64  \n",
      " 10  politics_govt_law          77622 non-null  int64  \n",
      " 11  crime                      77622 non-null  int64  \n",
      " 12  num_categories             77622 non-null  int64  \n",
      " 13  age_sqrd                   77622 non-null  float64\n",
      " 14  recip_num_references       77622 non-null  float64\n",
      " 15  years                      77622 non-null  int64  \n",
      " 16  years_sqrd                 77622 non-null  int64  \n",
      " 17  region                     77622 non-null  object \n",
      " 18  prior_region               77622 non-null  object \n",
      " 19  known_for                  77622 non-null  object \n",
      "dtypes: float64(3), int64(14), object(3)\n",
      "memory usage: 11.8+ MB\n"
     ]
    },
    {
     "data": {
      "application/javascript": [
       "\n",
       "            setTimeout(function() {\n",
       "                var nbb_cell_id = 5;\n",
       "                var nbb_unformatted_code = \"# Checking data types and null values\\ndf.info()\";\n",
       "                var nbb_formatted_code = \"# Checking data types and null values\\ndf.info()\";\n",
       "                var nbb_cells = Jupyter.notebook.get_cells();\n",
       "                for (var i = 0; i < nbb_cells.length; ++i) {\n",
       "                    if (nbb_cells[i].input_prompt_number == nbb_cell_id) {\n",
       "                        if (nbb_cells[i].get_text() == nbb_unformatted_code) {\n",
       "                             nbb_cells[i].set_text(nbb_formatted_code);\n",
       "                        }\n",
       "                        break;\n",
       "                    }\n",
       "                }\n",
       "            }, 500);\n",
       "            "
      ],
      "text/plain": [
       "<IPython.core.display.Javascript object>"
      ]
     },
     "metadata": {},
     "output_type": "display_data"
    }
   ],
   "source": [
    "# Checking data types and null values\n",
    "df.info()"
   ]
  },
  {
   "cell_type": "markdown",
   "id": "c459d7f8",
   "metadata": {},
   "source": [
    "#### Observations:\n",
    "- With our dataset loaded, we are ready for modeling.\n",
    "- We have three variables that need typcasting from object to category, then one hot encoding just prior to modeling."
   ]
  },
  {
   "cell_type": "markdown",
   "id": "5c542ec1",
   "metadata": {},
   "source": [
    "#### Typecasting `region`, `prior_region`, and `known_for` as Categorical"
   ]
  },
  {
   "cell_type": "code",
   "execution_count": 6,
   "id": "87fccaff",
   "metadata": {},
   "outputs": [
    {
     "name": "stdout",
     "output_type": "stream",
     "text": [
      "<class 'pandas.core.frame.DataFrame'>\n",
      "RangeIndex: 77622 entries, 0 to 77621\n",
      "Data columns (total 20 columns):\n",
      " #   Column                     Non-Null Count  Dtype   \n",
      "---  ------                     --------------  -----   \n",
      " 0   num_references             77622 non-null  int64   \n",
      " 1   age                        77622 non-null  float64 \n",
      " 2   sciences                   77622 non-null  int64   \n",
      " 3   social                     77622 non-null  int64   \n",
      " 4   spiritual                  77622 non-null  int64   \n",
      " 5   academia_humanities        77622 non-null  int64   \n",
      " 6   business_farming           77622 non-null  int64   \n",
      " 7   arts                       77622 non-null  int64   \n",
      " 8   sports                     77622 non-null  int64   \n",
      " 9   law_enf_military_operator  77622 non-null  int64   \n",
      " 10  politics_govt_law          77622 non-null  int64   \n",
      " 11  crime                      77622 non-null  int64   \n",
      " 12  num_categories             77622 non-null  int64   \n",
      " 13  age_sqrd                   77622 non-null  float64 \n",
      " 14  recip_num_references       77622 non-null  float64 \n",
      " 15  years                      77622 non-null  int64   \n",
      " 16  years_sqrd                 77622 non-null  int64   \n",
      " 17  region                     77622 non-null  category\n",
      " 18  prior_region               77622 non-null  category\n",
      " 19  known_for                  77622 non-null  category\n",
      "dtypes: category(3), float64(3), int64(14)\n",
      "memory usage: 10.3 MB\n"
     ]
    },
    {
     "data": {
      "application/javascript": [
       "\n",
       "            setTimeout(function() {\n",
       "                var nbb_cell_id = 6;\n",
       "                var nbb_unformatted_code = \"# Typcasting prior_region and region as categorical\\ndf[[\\\"prior_region\\\", \\\"region\\\", \\\"known_for\\\"]] = df[\\n    [\\\"prior_region\\\", \\\"region\\\", \\\"known_for\\\"]\\n].astype(\\\"category\\\")\\n\\n# Re-check info\\ndf.info()\";\n",
       "                var nbb_formatted_code = \"# Typcasting prior_region and region as categorical\\ndf[[\\\"prior_region\\\", \\\"region\\\", \\\"known_for\\\"]] = df[\\n    [\\\"prior_region\\\", \\\"region\\\", \\\"known_for\\\"]\\n].astype(\\\"category\\\")\\n\\n# Re-check info\\ndf.info()\";\n",
       "                var nbb_cells = Jupyter.notebook.get_cells();\n",
       "                for (var i = 0; i < nbb_cells.length; ++i) {\n",
       "                    if (nbb_cells[i].input_prompt_number == nbb_cell_id) {\n",
       "                        if (nbb_cells[i].get_text() == nbb_unformatted_code) {\n",
       "                             nbb_cells[i].set_text(nbb_formatted_code);\n",
       "                        }\n",
       "                        break;\n",
       "                    }\n",
       "                }\n",
       "            }, 500);\n",
       "            "
      ],
      "text/plain": [
       "<IPython.core.display.Javascript object>"
      ]
     },
     "metadata": {},
     "output_type": "display_data"
    }
   ],
   "source": [
    "# Typcasting prior_region and region as categorical\n",
    "df[[\"prior_region\", \"region\", \"known_for\"]] = df[\n",
    "    [\"prior_region\", \"region\", \"known_for\"]\n",
    "].astype(\"category\")\n",
    "\n",
    "# Re-check info\n",
    "df.info()"
   ]
  },
  {
   "cell_type": "markdown",
   "id": "4804e77f",
   "metadata": {},
   "source": [
    "## Building a Linear Regression Model"
   ]
  },
  {
   "cell_type": "markdown",
   "id": "176c405c",
   "metadata": {},
   "source": [
    "### Data Preparation for Modeling\n",
    "As there is no model tuning in this ordinary least squares model, we will train directly with the `train` set and check performance directly on the `test` set.  The `test` set needs these treatments first:\n",
    "1. Drop non-human entries.\n",
    "1. Drop entries with `event_record_other` as sole category.\n",
    "1. Drop entries with age below 18.\n",
    "1. Drop `place_2` values that are duplicates of `place_1`.\n",
    "1. Add the following columns:  \n",
    "    a. `age_sqrd`  \n",
    "    b. `recip_num_references`  \n",
    "    c. `years`  \n",
    "    d. `years_sqrd`  \n",
    "    e. `region`  \n",
    "    f. `prior_region`    \n",
    "    g. `known_for`  \n",
    "1. Typcast categorical predictors.\n",
    "1. Drop unnecessary columns.\n",
    "1. Missing value treatment.\n",
    "\n",
    "We will perform one hot encoding of remaining categorical variables on both `train` and `test` when we define independent and dependent variables, `X` and `y`."
   ]
  },
  {
   "cell_type": "markdown",
   "id": "9c14b3ab",
   "metadata": {},
   "source": [
    "### Test Set"
   ]
  },
  {
   "cell_type": "markdown",
   "id": "6a9e1840",
   "metadata": {},
   "source": [
    "#### Loading [Test Set](https://github.com/teresahanak/wikipedia-life-expectancy/blob/main/wp_life_expect_test.csv) and [region_place_dict](https://github.com/teresahanak/wikipedia-life-expectancy/blob/main/region_place_dict.pkl)"
   ]
  },
  {
   "cell_type": "code",
   "execution_count": 7,
   "id": "0a0214f0",
   "metadata": {},
   "outputs": [
    {
     "name": "stdout",
     "output_type": "stream",
     "text": [
      "There are 19608 rows and 25 columns in the test set.\n"
     ]
    },
    {
     "data": {
      "application/javascript": [
       "\n",
       "            setTimeout(function() {\n",
       "                var nbb_cell_id = 7;\n",
       "                var nbb_unformatted_code = \"# Reading test.csv\\ntest = pd.read_csv(\\\"wp_life_expect_test.csv\\\")\\n\\n# Checking shape\\nprint(f\\\"There are {test.shape[0]} rows and {test.shape[1]} columns in the test set.\\\")\\n\\n# Loading region_place_dict\\nwith open(\\\"region_place_dict.pkl\\\", \\\"rb\\\") as f:\\n    region_place_dict = pickle.load(f)\";\n",
       "                var nbb_formatted_code = \"# Reading test.csv\\ntest = pd.read_csv(\\\"wp_life_expect_test.csv\\\")\\n\\n# Checking shape\\nprint(f\\\"There are {test.shape[0]} rows and {test.shape[1]} columns in the test set.\\\")\\n\\n# Loading region_place_dict\\nwith open(\\\"region_place_dict.pkl\\\", \\\"rb\\\") as f:\\n    region_place_dict = pickle.load(f)\";\n",
       "                var nbb_cells = Jupyter.notebook.get_cells();\n",
       "                for (var i = 0; i < nbb_cells.length; ++i) {\n",
       "                    if (nbb_cells[i].input_prompt_number == nbb_cell_id) {\n",
       "                        if (nbb_cells[i].get_text() == nbb_unformatted_code) {\n",
       "                             nbb_cells[i].set_text(nbb_formatted_code);\n",
       "                        }\n",
       "                        break;\n",
       "                    }\n",
       "                }\n",
       "            }, 500);\n",
       "            "
      ],
      "text/plain": [
       "<IPython.core.display.Javascript object>"
      ]
     },
     "metadata": {},
     "output_type": "display_data"
    }
   ],
   "source": [
    "# Reading test.csv\n",
    "test = pd.read_csv(\"wp_life_expect_test.csv\")\n",
    "\n",
    "# Checking shape\n",
    "print(f\"There are {test.shape[0]} rows and {test.shape[1]} columns in the test set.\")\n",
    "\n",
    "# Loading region_place_dict\n",
    "with open(\"region_place_dict.pkl\", \"rb\") as f:\n",
    "    region_place_dict = pickle.load(f)"
   ]
  },
  {
   "cell_type": "code",
   "execution_count": 8,
   "id": "eba2f22f",
   "metadata": {},
   "outputs": [
    {
     "name": "stdout",
     "output_type": "stream",
     "text": [
      "<class 'pandas.core.frame.DataFrame'>\n",
      "RangeIndex: 19608 entries, 0 to 19607\n",
      "Data columns (total 25 columns):\n",
      " #   Column                     Non-Null Count  Dtype  \n",
      "---  ------                     --------------  -----  \n",
      " 0   day                        19608 non-null  int64  \n",
      " 1   name                       19608 non-null  object \n",
      " 2   info                       19608 non-null  object \n",
      " 3   link                       19608 non-null  object \n",
      " 4   num_references             19608 non-null  int64  \n",
      " 5   year                       19608 non-null  int64  \n",
      " 6   month                      19608 non-null  object \n",
      " 7   info_parenth               6832 non-null   object \n",
      " 8   age                        19608 non-null  float64\n",
      " 9   cause_of_death             6641 non-null   object \n",
      " 10  place_1                    19580 non-null  object \n",
      " 11  place_2                    1193 non-null   object \n",
      " 12  sciences                   19608 non-null  int64  \n",
      " 13  social                     19608 non-null  int64  \n",
      " 14  spiritual                  19608 non-null  int64  \n",
      " 15  academia_humanities        19608 non-null  int64  \n",
      " 16  business_farming           19608 non-null  int64  \n",
      " 17  arts                       19608 non-null  int64  \n",
      " 18  sports                     19608 non-null  int64  \n",
      " 19  law_enf_military_operator  19608 non-null  int64  \n",
      " 20  politics_govt_law          19608 non-null  int64  \n",
      " 21  crime                      19608 non-null  int64  \n",
      " 22  event_record_other         19608 non-null  int64  \n",
      " 23  other_species              19608 non-null  int64  \n",
      " 24  num_categories             19608 non-null  int64  \n",
      "dtypes: float64(1), int64(16), object(8)\n",
      "memory usage: 3.7+ MB\n"
     ]
    },
    {
     "data": {
      "application/javascript": [
       "\n",
       "            setTimeout(function() {\n",
       "                var nbb_cell_id = 8;\n",
       "                var nbb_unformatted_code = \"# Checking info\\ntest.info()\";\n",
       "                var nbb_formatted_code = \"# Checking info\\ntest.info()\";\n",
       "                var nbb_cells = Jupyter.notebook.get_cells();\n",
       "                for (var i = 0; i < nbb_cells.length; ++i) {\n",
       "                    if (nbb_cells[i].input_prompt_number == nbb_cell_id) {\n",
       "                        if (nbb_cells[i].get_text() == nbb_unformatted_code) {\n",
       "                             nbb_cells[i].set_text(nbb_formatted_code);\n",
       "                        }\n",
       "                        break;\n",
       "                    }\n",
       "                }\n",
       "            }, 500);\n",
       "            "
      ],
      "text/plain": [
       "<IPython.core.display.Javascript object>"
      ]
     },
     "metadata": {},
     "output_type": "display_data"
    }
   ],
   "source": [
    "# Checking info\n",
    "test.info()"
   ]
  },
  {
   "cell_type": "markdown",
   "id": "67d04b53",
   "metadata": {},
   "source": [
    "#### Pre-processing Steps"
   ]
  },
  {
   "cell_type": "code",
   "execution_count": 9,
   "id": "dcd1344e",
   "metadata": {},
   "outputs": [
    {
     "name": "stdout",
     "output_type": "stream",
     "text": [
      "<class 'pandas.core.frame.DataFrame'>\n",
      "RangeIndex: 19420 entries, 0 to 19419\n",
      "Data columns (total 20 columns):\n",
      " #   Column                     Non-Null Count  Dtype   \n",
      "---  ------                     --------------  -----   \n",
      " 0   num_references             19420 non-null  int64   \n",
      " 1   age                        19420 non-null  float64 \n",
      " 2   sciences                   19420 non-null  int64   \n",
      " 3   social                     19420 non-null  int64   \n",
      " 4   spiritual                  19420 non-null  int64   \n",
      " 5   academia_humanities        19420 non-null  int64   \n",
      " 6   business_farming           19420 non-null  int64   \n",
      " 7   arts                       19420 non-null  int64   \n",
      " 8   sports                     19420 non-null  int64   \n",
      " 9   law_enf_military_operator  19420 non-null  int64   \n",
      " 10  politics_govt_law          19420 non-null  int64   \n",
      " 11  crime                      19420 non-null  int64   \n",
      " 12  num_categories             19420 non-null  int64   \n",
      " 13  age_sqrd                   19420 non-null  float64 \n",
      " 14  recip_num_references       19420 non-null  float64 \n",
      " 15  years                      19420 non-null  int64   \n",
      " 16  years_sqrd                 19420 non-null  int64   \n",
      " 17  region                     19400 non-null  category\n",
      " 18  prior_region               19420 non-null  category\n",
      " 19  known_for                  19420 non-null  category\n",
      "dtypes: category(3), float64(3), int64(14)\n",
      "memory usage: 2.6 MB\n",
      "CPU times: total: 10.6 s\n",
      "Wall time: 10.6 s\n"
     ]
    },
    {
     "data": {
      "application/javascript": [
       "\n",
       "            setTimeout(function() {\n",
       "                var nbb_cell_id = 9;\n",
       "                var nbb_unformatted_code = \"%%time\\n\\n# 1. Dropping non-human entries\\nrows_to_drop = test[test[\\\"other_species\\\"] == 1].index\\ntest.drop(rows_to_drop, inplace=True)\\ntest.reset_index(inplace=True, drop=True)\\n\\n# 2. Dropping entries with event_record_other as sole category\\nrows_to_drop = test[(test['event_record_other']==1) & (test['num_categories']==1)].index\\ntest.drop(rows_to_drop, inplace=True)\\ntest.reset_index(inplace=True, drop=True)\\n\\n# 3. Dropping entries with age < 18\\nrows_to_drop = test[test['age']<18].index\\ntest.drop(rows_to_drop, inplace=True)\\ntest.reset_index(inplace=True, drop=True)\\n\\n# 4. Dropping place_2 values that are duplicates of place_1\\nindex = [index for index in test.index if test.loc[index, 'place_2']==test.loc[index, 'place_1']]\\ntest.loc[index, 'place_2']==None\\n\\n# 5a. Creating age_sqrd column\\ntest['age_sqrd'] = test['age']**2\\n\\n# 5b. Creating recip_num_references column\\ntest[\\\"recip_num_references\\\"] = test[\\\"num_references\\\"].apply(lambda x: 1 / x)\\n\\n# 5c. Creating years column\\ntest['years'] = test['year'] - 1994\\n\\n# 5d. Creating years_sqrd column\\ntest['years_sqrd'] = test['years']**2\\n\\n# 5e. Creating region column\\n# For loop to create region column\\ntest[\\\"region\\\"] = None\\nfor region, places in region_place_dict.items():\\n    for place in places:\\n        for index in test[(test[\\\"region\\\"].isna()) & (test[\\\"place_2\\\"].notna())].index:\\n            item = test.loc[index, \\\"place_2\\\"]\\n            if item:\\n                if item == place:\\n                    test.loc[index, \\\"region\\\"] = region\\n        for index in test[(test[\\\"region\\\"].isna()) & (test[\\\"place_2\\\"].isna())].index:\\n            item = test.loc[index, \\\"place_1\\\"]\\n            if item:\\n                if item == place:\\n                    test.loc[index, \\\"region\\\"] = region\\n\\n# 5f. Creating prior_region column\\n# For loop to create prior_region column\\ntest[\\\"prior_region\\\"] = None\\nfor region, places in region_place_dict.items():\\n    for place in places:\\n        for index in test[\\n            (test[\\\"place_2\\\"].notna()) & (test[\\\"prior_region\\\"].isna())\\n        ].index:\\n            item = test.loc[index, \\\"place_1\\\"]\\n            if item:\\n                if item == place:\\n                    test.loc[index, \\\"prior_region\\\"] = region\\n# Adding No Prior Region category\\ntest[\\\"prior_region\\\"].fillna(\\\"No Prior Region\\\", inplace=True)\\n\\n# 5g. Creating known_for column\\n# Initializing known_for\\ntest['known_for']=None\\n# List of known for columns\\ncols = ['sciences', 'social', 'spiritual', 'academia_humanities',\\n       'business_farming', 'arts', 'sports', 'law_enf_military_operator',\\n       'politics_govt_law', 'crime', 'event_record_other', 'other_species']\\n# For loop to assign known_for\\nfor index in test[test['known_for'].isna()].index:\\n    if test.loc[index, 'num_categories']==2:\\n        test.loc[index, 'known_for'] = 'two'\\n    elif test.loc[index, 'num_categories'] > 2:\\n        test.loc[index, 'known_for'] = 'three_to_five'\\n    else: \\n        for column in cols:\\n            if test.loc[index, column]==1:\\n                test.loc[index, 'known_for'] = column\\n\\n# 8. Typecasting categorical predictors\\ntest[['region', 'prior_region', 'known_for']] = test[['region', 'prior_region', 'known_for']].astype('category')\\n\\n# 9. Dropping Unnecessary Columns\\ncols_to_drop = [\\n   'day', 'name', 'info', 'link', 'year', 'month',\\n       'info_parenth', 'cause_of_death', 'place_1', 'place_2',\\n       'event_record_other', 'other_species',\\n]\\ntest.drop(cols_to_drop, axis=1, inplace=True)\\n\\n# Rechecking columns\\ntest.info()\";\n",
       "                var nbb_formatted_code = \"%%time\\n\\n# 1. Dropping non-human entries\\nrows_to_drop = test[test[\\\"other_species\\\"] == 1].index\\ntest.drop(rows_to_drop, inplace=True)\\ntest.reset_index(inplace=True, drop=True)\\n\\n# 2. Dropping entries with event_record_other as sole category\\nrows_to_drop = test[(test['event_record_other']==1) & (test['num_categories']==1)].index\\ntest.drop(rows_to_drop, inplace=True)\\ntest.reset_index(inplace=True, drop=True)\\n\\n# 3. Dropping entries with age < 18\\nrows_to_drop = test[test['age']<18].index\\ntest.drop(rows_to_drop, inplace=True)\\ntest.reset_index(inplace=True, drop=True)\\n\\n# 4. Dropping place_2 values that are duplicates of place_1\\nindex = [index for index in test.index if test.loc[index, 'place_2']==test.loc[index, 'place_1']]\\ntest.loc[index, 'place_2']==None\\n\\n# 5a. Creating age_sqrd column\\ntest['age_sqrd'] = test['age']**2\\n\\n# 5b. Creating recip_num_references column\\ntest[\\\"recip_num_references\\\"] = test[\\\"num_references\\\"].apply(lambda x: 1 / x)\\n\\n# 5c. Creating years column\\ntest['years'] = test['year'] - 1994\\n\\n# 5d. Creating years_sqrd column\\ntest['years_sqrd'] = test['years']**2\\n\\n# 5e. Creating region column\\n# For loop to create region column\\ntest[\\\"region\\\"] = None\\nfor region, places in region_place_dict.items():\\n    for place in places:\\n        for index in test[(test[\\\"region\\\"].isna()) & (test[\\\"place_2\\\"].notna())].index:\\n            item = test.loc[index, \\\"place_2\\\"]\\n            if item:\\n                if item == place:\\n                    test.loc[index, \\\"region\\\"] = region\\n        for index in test[(test[\\\"region\\\"].isna()) & (test[\\\"place_2\\\"].isna())].index:\\n            item = test.loc[index, \\\"place_1\\\"]\\n            if item:\\n                if item == place:\\n                    test.loc[index, \\\"region\\\"] = region\\n\\n# 5f. Creating prior_region column\\n# For loop to create prior_region column\\ntest[\\\"prior_region\\\"] = None\\nfor region, places in region_place_dict.items():\\n    for place in places:\\n        for index in test[\\n            (test[\\\"place_2\\\"].notna()) & (test[\\\"prior_region\\\"].isna())\\n        ].index:\\n            item = test.loc[index, \\\"place_1\\\"]\\n            if item:\\n                if item == place:\\n                    test.loc[index, \\\"prior_region\\\"] = region\\n# Adding No Prior Region category\\ntest[\\\"prior_region\\\"].fillna(\\\"No Prior Region\\\", inplace=True)\\n\\n# 5g. Creating known_for column\\n# Initializing known_for\\ntest['known_for']=None\\n# List of known for columns\\ncols = ['sciences', 'social', 'spiritual', 'academia_humanities',\\n       'business_farming', 'arts', 'sports', 'law_enf_military_operator',\\n       'politics_govt_law', 'crime', 'event_record_other', 'other_species']\\n# For loop to assign known_for\\nfor index in test[test['known_for'].isna()].index:\\n    if test.loc[index, 'num_categories']==2:\\n        test.loc[index, 'known_for'] = 'two'\\n    elif test.loc[index, 'num_categories'] > 2:\\n        test.loc[index, 'known_for'] = 'three_to_five'\\n    else: \\n        for column in cols:\\n            if test.loc[index, column]==1:\\n                test.loc[index, 'known_for'] = column\\n\\n# 8. Typecasting categorical predictors\\ntest[['region', 'prior_region', 'known_for']] = test[['region', 'prior_region', 'known_for']].astype('category')\\n\\n# 9. Dropping Unnecessary Columns\\ncols_to_drop = [\\n   'day', 'name', 'info', 'link', 'year', 'month',\\n       'info_parenth', 'cause_of_death', 'place_1', 'place_2',\\n       'event_record_other', 'other_species',\\n]\\ntest.drop(cols_to_drop, axis=1, inplace=True)\\n\\n# Rechecking columns\\ntest.info()\";\n",
       "                var nbb_cells = Jupyter.notebook.get_cells();\n",
       "                for (var i = 0; i < nbb_cells.length; ++i) {\n",
       "                    if (nbb_cells[i].input_prompt_number == nbb_cell_id) {\n",
       "                        if (nbb_cells[i].get_text() == nbb_unformatted_code) {\n",
       "                             nbb_cells[i].set_text(nbb_formatted_code);\n",
       "                        }\n",
       "                        break;\n",
       "                    }\n",
       "                }\n",
       "            }, 500);\n",
       "            "
      ],
      "text/plain": [
       "<IPython.core.display.Javascript object>"
      ]
     },
     "metadata": {},
     "output_type": "display_data"
    }
   ],
   "source": [
    "%%time\n",
    "\n",
    "# 1. Dropping non-human entries\n",
    "rows_to_drop = test[test[\"other_species\"] == 1].index\n",
    "test.drop(rows_to_drop, inplace=True)\n",
    "test.reset_index(inplace=True, drop=True)\n",
    "\n",
    "# 2. Dropping entries with event_record_other as sole category\n",
    "rows_to_drop = test[(test['event_record_other']==1) & (test['num_categories']==1)].index\n",
    "test.drop(rows_to_drop, inplace=True)\n",
    "test.reset_index(inplace=True, drop=True)\n",
    "\n",
    "# 3. Dropping entries with age < 18\n",
    "rows_to_drop = test[test['age']<18].index\n",
    "test.drop(rows_to_drop, inplace=True)\n",
    "test.reset_index(inplace=True, drop=True)\n",
    "\n",
    "# 4. Dropping place_2 values that are duplicates of place_1\n",
    "index = [index for index in test.index if test.loc[index, 'place_2']==test.loc[index, 'place_1']]\n",
    "test.loc[index, 'place_2']==None\n",
    "\n",
    "# 5a. Creating age_sqrd column\n",
    "test['age_sqrd'] = test['age']**2\n",
    "\n",
    "# 5b. Creating recip_num_references column\n",
    "test[\"recip_num_references\"] = test[\"num_references\"].apply(lambda x: 1 / x)\n",
    "\n",
    "# 5c. Creating years column\n",
    "test['years'] = test['year'] - 1994\n",
    "\n",
    "# 5d. Creating years_sqrd column\n",
    "test['years_sqrd'] = test['years']**2\n",
    "\n",
    "# 5e. Creating region column\n",
    "# For loop to create region column\n",
    "test[\"region\"] = None\n",
    "for region, places in region_place_dict.items():\n",
    "    for place in places:\n",
    "        for index in test[(test[\"region\"].isna()) & (test[\"place_2\"].notna())].index:\n",
    "            item = test.loc[index, \"place_2\"]\n",
    "            if item:\n",
    "                if item == place:\n",
    "                    test.loc[index, \"region\"] = region\n",
    "        for index in test[(test[\"region\"].isna()) & (test[\"place_2\"].isna())].index:\n",
    "            item = test.loc[index, \"place_1\"]\n",
    "            if item:\n",
    "                if item == place:\n",
    "                    test.loc[index, \"region\"] = region\n",
    "\n",
    "# 5f. Creating prior_region column\n",
    "# For loop to create prior_region column\n",
    "test[\"prior_region\"] = None\n",
    "for region, places in region_place_dict.items():\n",
    "    for place in places:\n",
    "        for index in test[\n",
    "            (test[\"place_2\"].notna()) & (test[\"prior_region\"].isna())\n",
    "        ].index:\n",
    "            item = test.loc[index, \"place_1\"]\n",
    "            if item:\n",
    "                if item == place:\n",
    "                    test.loc[index, \"prior_region\"] = region\n",
    "# Adding No Prior Region category\n",
    "test[\"prior_region\"].fillna(\"No Prior Region\", inplace=True)\n",
    "\n",
    "# 5g. Creating known_for column\n",
    "# Initializing known_for\n",
    "test['known_for']=None\n",
    "# List of known for columns\n",
    "cols = ['sciences', 'social', 'spiritual', 'academia_humanities',\n",
    "       'business_farming', 'arts', 'sports', 'law_enf_military_operator',\n",
    "       'politics_govt_law', 'crime', 'event_record_other', 'other_species']\n",
    "# For loop to assign known_for\n",
    "for index in test[test['known_for'].isna()].index:\n",
    "    if test.loc[index, 'num_categories']==2:\n",
    "        test.loc[index, 'known_for'] = 'two'\n",
    "    elif test.loc[index, 'num_categories'] > 2:\n",
    "        test.loc[index, 'known_for'] = 'three_to_five'\n",
    "    else: \n",
    "        for column in cols:\n",
    "            if test.loc[index, column]==1:\n",
    "                test.loc[index, 'known_for'] = column\n",
    "\n",
    "# 8. Typecasting categorical predictors\n",
    "test[['region', 'prior_region', 'known_for']] = test[['region', 'prior_region', 'known_for']].astype('category')\n",
    "\n",
    "# 9. Dropping Unnecessary Columns\n",
    "cols_to_drop = [\n",
    "   'day', 'name', 'info', 'link', 'year', 'month',\n",
    "       'info_parenth', 'cause_of_death', 'place_1', 'place_2',\n",
    "       'event_record_other', 'other_species',\n",
    "]\n",
    "test.drop(cols_to_drop, axis=1, inplace=True)\n",
    "\n",
    "# Rechecking columns\n",
    "test.info()"
   ]
  },
  {
   "cell_type": "code",
   "execution_count": 10,
   "id": "d3cf0c1c",
   "metadata": {},
   "outputs": [
    {
     "data": {
      "text/html": [
       "<div>\n",
       "<style scoped>\n",
       "    .dataframe tbody tr th:only-of-type {\n",
       "        vertical-align: middle;\n",
       "    }\n",
       "\n",
       "    .dataframe tbody tr th {\n",
       "        vertical-align: top;\n",
       "    }\n",
       "\n",
       "    .dataframe thead th {\n",
       "        text-align: right;\n",
       "    }\n",
       "</style>\n",
       "<table border=\"1\" class=\"dataframe\">\n",
       "  <thead>\n",
       "    <tr style=\"text-align: right;\">\n",
       "      <th></th>\n",
       "      <th>num_references</th>\n",
       "      <th>age</th>\n",
       "      <th>sciences</th>\n",
       "      <th>social</th>\n",
       "      <th>spiritual</th>\n",
       "      <th>academia_humanities</th>\n",
       "      <th>business_farming</th>\n",
       "      <th>arts</th>\n",
       "      <th>sports</th>\n",
       "      <th>law_enf_military_operator</th>\n",
       "      <th>politics_govt_law</th>\n",
       "      <th>crime</th>\n",
       "      <th>num_categories</th>\n",
       "      <th>age_sqrd</th>\n",
       "      <th>recip_num_references</th>\n",
       "      <th>years</th>\n",
       "      <th>years_sqrd</th>\n",
       "      <th>region</th>\n",
       "      <th>prior_region</th>\n",
       "      <th>known_for</th>\n",
       "    </tr>\n",
       "  </thead>\n",
       "  <tbody>\n",
       "    <tr>\n",
       "      <th>2398</th>\n",
       "      <td>3</td>\n",
       "      <td>98.0</td>\n",
       "      <td>1</td>\n",
       "      <td>0</td>\n",
       "      <td>0</td>\n",
       "      <td>0</td>\n",
       "      <td>0</td>\n",
       "      <td>1</td>\n",
       "      <td>0</td>\n",
       "      <td>0</td>\n",
       "      <td>0</td>\n",
       "      <td>0</td>\n",
       "      <td>2</td>\n",
       "      <td>9604.0</td>\n",
       "      <td>0.333333</td>\n",
       "      <td>20</td>\n",
       "      <td>400</td>\n",
       "      <td>North America</td>\n",
       "      <td>Europe</td>\n",
       "      <td>two</td>\n",
       "    </tr>\n",
       "    <tr>\n",
       "      <th>1901</th>\n",
       "      <td>5</td>\n",
       "      <td>42.0</td>\n",
       "      <td>0</td>\n",
       "      <td>0</td>\n",
       "      <td>0</td>\n",
       "      <td>0</td>\n",
       "      <td>0</td>\n",
       "      <td>1</td>\n",
       "      <td>0</td>\n",
       "      <td>0</td>\n",
       "      <td>0</td>\n",
       "      <td>0</td>\n",
       "      <td>1</td>\n",
       "      <td>1764.0</td>\n",
       "      <td>0.200000</td>\n",
       "      <td>11</td>\n",
       "      <td>121</td>\n",
       "      <td>North America</td>\n",
       "      <td>No Prior Region</td>\n",
       "      <td>arts</td>\n",
       "    </tr>\n",
       "    <tr>\n",
       "      <th>9125</th>\n",
       "      <td>3</td>\n",
       "      <td>66.0</td>\n",
       "      <td>0</td>\n",
       "      <td>0</td>\n",
       "      <td>0</td>\n",
       "      <td>0</td>\n",
       "      <td>0</td>\n",
       "      <td>0</td>\n",
       "      <td>0</td>\n",
       "      <td>0</td>\n",
       "      <td>1</td>\n",
       "      <td>0</td>\n",
       "      <td>1</td>\n",
       "      <td>4356.0</td>\n",
       "      <td>0.333333</td>\n",
       "      <td>2</td>\n",
       "      <td>4</td>\n",
       "      <td>North America</td>\n",
       "      <td>No Prior Region</td>\n",
       "      <td>politics_govt_law</td>\n",
       "    </tr>\n",
       "    <tr>\n",
       "      <th>16521</th>\n",
       "      <td>7</td>\n",
       "      <td>51.0</td>\n",
       "      <td>0</td>\n",
       "      <td>0</td>\n",
       "      <td>0</td>\n",
       "      <td>0</td>\n",
       "      <td>0</td>\n",
       "      <td>1</td>\n",
       "      <td>0</td>\n",
       "      <td>0</td>\n",
       "      <td>0</td>\n",
       "      <td>0</td>\n",
       "      <td>1</td>\n",
       "      <td>2601.0</td>\n",
       "      <td>0.142857</td>\n",
       "      <td>1</td>\n",
       "      <td>1</td>\n",
       "      <td>Europe</td>\n",
       "      <td>No Prior Region</td>\n",
       "      <td>arts</td>\n",
       "    </tr>\n",
       "    <tr>\n",
       "      <th>14872</th>\n",
       "      <td>14</td>\n",
       "      <td>88.0</td>\n",
       "      <td>0</td>\n",
       "      <td>0</td>\n",
       "      <td>0</td>\n",
       "      <td>1</td>\n",
       "      <td>0</td>\n",
       "      <td>0</td>\n",
       "      <td>0</td>\n",
       "      <td>0</td>\n",
       "      <td>0</td>\n",
       "      <td>0</td>\n",
       "      <td>1</td>\n",
       "      <td>7744.0</td>\n",
       "      <td>0.071429</td>\n",
       "      <td>22</td>\n",
       "      <td>484</td>\n",
       "      <td>Europe</td>\n",
       "      <td>No Prior Region</td>\n",
       "      <td>academia_humanities</td>\n",
       "    </tr>\n",
       "  </tbody>\n",
       "</table>\n",
       "</div>"
      ],
      "text/plain": [
       "       num_references   age  sciences  social  spiritual  academia_humanities  \\\n",
       "2398                3  98.0         1       0          0                    0   \n",
       "1901                5  42.0         0       0          0                    0   \n",
       "9125                3  66.0         0       0          0                    0   \n",
       "16521               7  51.0         0       0          0                    0   \n",
       "14872              14  88.0         0       0          0                    1   \n",
       "\n",
       "       business_farming  arts  sports  law_enf_military_operator  \\\n",
       "2398                  0     1       0                          0   \n",
       "1901                  0     1       0                          0   \n",
       "9125                  0     0       0                          0   \n",
       "16521                 0     1       0                          0   \n",
       "14872                 0     0       0                          0   \n",
       "\n",
       "       politics_govt_law  crime  num_categories  age_sqrd  \\\n",
       "2398                   0      0               2    9604.0   \n",
       "1901                   0      0               1    1764.0   \n",
       "9125                   1      0               1    4356.0   \n",
       "16521                  0      0               1    2601.0   \n",
       "14872                  0      0               1    7744.0   \n",
       "\n",
       "       recip_num_references  years  years_sqrd         region  \\\n",
       "2398               0.333333     20         400  North America   \n",
       "1901               0.200000     11         121  North America   \n",
       "9125               0.333333      2           4  North America   \n",
       "16521              0.142857      1           1         Europe   \n",
       "14872              0.071429     22         484         Europe   \n",
       "\n",
       "          prior_region            known_for  \n",
       "2398            Europe                  two  \n",
       "1901   No Prior Region                 arts  \n",
       "9125   No Prior Region    politics_govt_law  \n",
       "16521  No Prior Region                 arts  \n",
       "14872  No Prior Region  academia_humanities  "
      ]
     },
     "execution_count": 10,
     "metadata": {},
     "output_type": "execute_result"
    },
    {
     "data": {
      "application/javascript": [
       "\n",
       "            setTimeout(function() {\n",
       "                var nbb_cell_id = 10;\n",
       "                var nbb_unformatted_code = \"# Checking a sample of rows\\ntest.sample(5)\";\n",
       "                var nbb_formatted_code = \"# Checking a sample of rows\\ntest.sample(5)\";\n",
       "                var nbb_cells = Jupyter.notebook.get_cells();\n",
       "                for (var i = 0; i < nbb_cells.length; ++i) {\n",
       "                    if (nbb_cells[i].input_prompt_number == nbb_cell_id) {\n",
       "                        if (nbb_cells[i].get_text() == nbb_unformatted_code) {\n",
       "                             nbb_cells[i].set_text(nbb_formatted_code);\n",
       "                        }\n",
       "                        break;\n",
       "                    }\n",
       "                }\n",
       "            }, 500);\n",
       "            "
      ],
      "text/plain": [
       "<IPython.core.display.Javascript object>"
      ]
     },
     "metadata": {},
     "output_type": "display_data"
    }
   ],
   "source": [
    "# Checking a sample of rows\n",
    "test.sample(5)"
   ]
  },
  {
   "cell_type": "markdown",
   "id": "3d8168b5",
   "metadata": {},
   "source": [
    "#### Observations:\n",
    "- Treatment of `test` missing values is the only remaining step.\n",
    "- We will use the modes for the `known_for` groups from `train` to fill missing values for `test` to avoid data leakage.  `region` is the only column with missing values."
   ]
  },
  {
   "cell_type": "markdown",
   "id": "221f578f",
   "metadata": {},
   "source": [
    "#### Treating Missing Values for `region` in Test"
   ]
  },
  {
   "cell_type": "code",
   "execution_count": 11,
   "id": "cf531d45",
   "metadata": {},
   "outputs": [
    {
     "name": "stdout",
     "output_type": "stream",
     "text": [
      "There are 20 missing values.\n"
     ]
    },
    {
     "data": {
      "application/javascript": [
       "\n",
       "            setTimeout(function() {\n",
       "                var nbb_cell_id = 11;\n",
       "                var nbb_unformatted_code = \"# Checking the starting missing values\\nprint(f'There are {test[\\\"region\\\"].isna().sum()} missing values.')\";\n",
       "                var nbb_formatted_code = \"# Checking the starting missing values\\nprint(f'There are {test[\\\"region\\\"].isna().sum()} missing values.')\";\n",
       "                var nbb_cells = Jupyter.notebook.get_cells();\n",
       "                for (var i = 0; i < nbb_cells.length; ++i) {\n",
       "                    if (nbb_cells[i].input_prompt_number == nbb_cell_id) {\n",
       "                        if (nbb_cells[i].get_text() == nbb_unformatted_code) {\n",
       "                             nbb_cells[i].set_text(nbb_formatted_code);\n",
       "                        }\n",
       "                        break;\n",
       "                    }\n",
       "                }\n",
       "            }, 500);\n",
       "            "
      ],
      "text/plain": [
       "<IPython.core.display.Javascript object>"
      ]
     },
     "metadata": {},
     "output_type": "display_data"
    }
   ],
   "source": [
    "# Checking the starting missing values\n",
    "print(f'There are {test[\"region\"].isna().sum()} missing values.')"
   ]
  },
  {
   "cell_type": "code",
   "execution_count": 12,
   "id": "5b5092b3",
   "metadata": {},
   "outputs": [
    {
     "name": "stdout",
     "output_type": "stream",
     "text": [
      "There are 0 missing values.\n"
     ]
    },
    {
     "data": {
      "text/plain": [
       "North America                 8054\n",
       "Europe                        6128\n",
       "Asia                          1637\n",
       "Oceania                        981\n",
       "Africa                         676\n",
       "Middle East                    460\n",
       "South America                  441\n",
       "Mid-Cent America/Caribbean     389\n",
       "Russian Federation             325\n",
       "South East Asia                310\n",
       "Central Asia                    19\n",
       "Name: region, dtype: int64"
      ]
     },
     "execution_count": 12,
     "metadata": {},
     "output_type": "execute_result"
    },
    {
     "data": {
      "application/javascript": [
       "\n",
       "            setTimeout(function() {\n",
       "                var nbb_cell_id = 12;\n",
       "                var nbb_unformatted_code = \"# Creating list of known for category columns\\ncols = [\\n    \\\"sciences\\\",\\n    \\\"social\\\",\\n    \\\"spiritual\\\",\\n    \\\"academia_humanities\\\",\\n    \\\"business_farming\\\",\\n    \\\"arts\\\",\\n    \\\"sports\\\",\\n    \\\"law_enf_military_operator\\\",\\n    \\\"politics_govt_law\\\",\\n    \\\"crime\\\",\\n]\\n\\n# For loop to impute test missing values with mode of train rows with equivalent known_for class or column mode\\nfor index in test[test[\\\"region\\\"].isna()].index:\\n\\n    if test.loc[index, \\\"num_categories\\\"] == 1:\\n        for category in cols:\\n            group_mode = df[df[\\\"known_for\\\"] == category][\\\"region\\\"].mode().iloc[0]\\n            test.loc[index, \\\"region\\\"] = group_mode\\n\\n    elif test.loc[index, \\\"num_categories\\\"] == 2:\\n        group_mode = df[df[\\\"known_for\\\"] == \\\"two\\\"][\\\"region\\\"].mode().iloc[0]\\n        test.loc[index, \\\"region\\\"] = group_mode\\n\\n    elif 2 < test.loc[index, \\\"num_categories\\\"] < 6:\\n        group_mode = df[df[\\\"known_for\\\"] == \\\"three_to_five\\\"][\\\"region\\\"].mode().iloc[0]\\n        test.loc[index, \\\"region\\\"] = group_mode\\n\\n    else:\\n        column_mode = df[\\\"region\\\"].mode().iloc[0]\\n        test.loc[index, \\\"region\\\"] = column_mode\\n\\n#  Checking missing values after treatment\\nprint(f'There are {test[\\\"region\\\"].isna().sum()} missing values.')\\n\\n# Checking region value_counts\\ntest[\\\"region\\\"].value_counts()\";\n",
       "                var nbb_formatted_code = \"# Creating list of known for category columns\\ncols = [\\n    \\\"sciences\\\",\\n    \\\"social\\\",\\n    \\\"spiritual\\\",\\n    \\\"academia_humanities\\\",\\n    \\\"business_farming\\\",\\n    \\\"arts\\\",\\n    \\\"sports\\\",\\n    \\\"law_enf_military_operator\\\",\\n    \\\"politics_govt_law\\\",\\n    \\\"crime\\\",\\n]\\n\\n# For loop to impute test missing values with mode of train rows with equivalent known_for class or column mode\\nfor index in test[test[\\\"region\\\"].isna()].index:\\n\\n    if test.loc[index, \\\"num_categories\\\"] == 1:\\n        for category in cols:\\n            group_mode = df[df[\\\"known_for\\\"] == category][\\\"region\\\"].mode().iloc[0]\\n            test.loc[index, \\\"region\\\"] = group_mode\\n\\n    elif test.loc[index, \\\"num_categories\\\"] == 2:\\n        group_mode = df[df[\\\"known_for\\\"] == \\\"two\\\"][\\\"region\\\"].mode().iloc[0]\\n        test.loc[index, \\\"region\\\"] = group_mode\\n\\n    elif 2 < test.loc[index, \\\"num_categories\\\"] < 6:\\n        group_mode = df[df[\\\"known_for\\\"] == \\\"three_to_five\\\"][\\\"region\\\"].mode().iloc[0]\\n        test.loc[index, \\\"region\\\"] = group_mode\\n\\n    else:\\n        column_mode = df[\\\"region\\\"].mode().iloc[0]\\n        test.loc[index, \\\"region\\\"] = column_mode\\n\\n#  Checking missing values after treatment\\nprint(f'There are {test[\\\"region\\\"].isna().sum()} missing values.')\\n\\n# Checking region value_counts\\ntest[\\\"region\\\"].value_counts()\";\n",
       "                var nbb_cells = Jupyter.notebook.get_cells();\n",
       "                for (var i = 0; i < nbb_cells.length; ++i) {\n",
       "                    if (nbb_cells[i].input_prompt_number == nbb_cell_id) {\n",
       "                        if (nbb_cells[i].get_text() == nbb_unformatted_code) {\n",
       "                             nbb_cells[i].set_text(nbb_formatted_code);\n",
       "                        }\n",
       "                        break;\n",
       "                    }\n",
       "                }\n",
       "            }, 500);\n",
       "            "
      ],
      "text/plain": [
       "<IPython.core.display.Javascript object>"
      ]
     },
     "metadata": {},
     "output_type": "display_data"
    }
   ],
   "source": [
    "# Creating list of known for category columns\n",
    "cols = [\n",
    "    \"sciences\",\n",
    "    \"social\",\n",
    "    \"spiritual\",\n",
    "    \"academia_humanities\",\n",
    "    \"business_farming\",\n",
    "    \"arts\",\n",
    "    \"sports\",\n",
    "    \"law_enf_military_operator\",\n",
    "    \"politics_govt_law\",\n",
    "    \"crime\",\n",
    "]\n",
    "\n",
    "# For loop to impute test missing values with mode of train rows with equivalent known_for class or column mode\n",
    "for index in test[test[\"region\"].isna()].index:\n",
    "\n",
    "    if test.loc[index, \"num_categories\"] == 1:\n",
    "        for category in cols:\n",
    "            group_mode = df[df[\"known_for\"] == category][\"region\"].mode().iloc[0]\n",
    "            test.loc[index, \"region\"] = group_mode\n",
    "\n",
    "    elif test.loc[index, \"num_categories\"] == 2:\n",
    "        group_mode = df[df[\"known_for\"] == \"two\"][\"region\"].mode().iloc[0]\n",
    "        test.loc[index, \"region\"] = group_mode\n",
    "\n",
    "    elif 2 < test.loc[index, \"num_categories\"] < 6:\n",
    "        group_mode = df[df[\"known_for\"] == \"three_to_five\"][\"region\"].mode().iloc[0]\n",
    "        test.loc[index, \"region\"] = group_mode\n",
    "\n",
    "    else:\n",
    "        column_mode = df[\"region\"].mode().iloc[0]\n",
    "        test.loc[index, \"region\"] = column_mode\n",
    "\n",
    "#  Checking missing values after treatment\n",
    "print(f'There are {test[\"region\"].isna().sum()} missing values.')\n",
    "\n",
    "# Checking region value_counts\n",
    "test[\"region\"].value_counts()"
   ]
  },
  {
   "cell_type": "markdown",
   "id": "4bf4e183",
   "metadata": {},
   "source": [
    "#### Observations:\n",
    "- `train` and `test` are both ready for modeling.\n",
    "- We will perform one hot encoding when defining our independent variables."
   ]
  },
  {
   "cell_type": "markdown",
   "id": "31672438",
   "metadata": {},
   "source": [
    "### Modeling with `age_sqrd`, `years_sqrd`,  `recip_num_references` Transformations\n",
    "See [Appendix](#Appendix) for model with untreated predictor and target variables, which served as a starting point for testing and addressing assumptions of linear regression.  Mutliple iterations were performed with various transformations of the target and numeric predictors, in various combinations.  Ultimately, the transformations identified in EDA are included in the final model, as they best satisfied the assumptions for linear regression.  To save space, we include only the first and last modeling iterations in this notebook."
   ]
  },
  {
   "cell_type": "markdown",
   "id": "f655194d",
   "metadata": {},
   "source": [
    "#### Defining Independent and Dependent Variables for Train and Test Sets"
   ]
  },
  {
   "cell_type": "code",
   "execution_count": 13,
   "id": "e71b4b93",
   "metadata": {},
   "outputs": [
    {
     "name": "stdout",
     "output_type": "stream",
     "text": [
      "There are 77622 rows and 35 columns in X_train.\n",
      "There are 19420 rows and 35 columns in X_test.\n",
      "\n"
     ]
    },
    {
     "data": {
      "text/html": [
       "<div>\n",
       "<style scoped>\n",
       "    .dataframe tbody tr th:only-of-type {\n",
       "        vertical-align: middle;\n",
       "    }\n",
       "\n",
       "    .dataframe tbody tr th {\n",
       "        vertical-align: top;\n",
       "    }\n",
       "\n",
       "    .dataframe thead th {\n",
       "        text-align: right;\n",
       "    }\n",
       "</style>\n",
       "<table border=\"1\" class=\"dataframe\">\n",
       "  <thead>\n",
       "    <tr style=\"text-align: right;\">\n",
       "      <th></th>\n",
       "      <th>const</th>\n",
       "      <th>recip_num_references</th>\n",
       "      <th>years_sqrd</th>\n",
       "      <th>region_Asia</th>\n",
       "      <th>region_Central Asia</th>\n",
       "      <th>region_Europe</th>\n",
       "      <th>region_Mid-Cent America/Caribbean</th>\n",
       "      <th>region_Middle East</th>\n",
       "      <th>region_North America</th>\n",
       "      <th>region_Oceania</th>\n",
       "      <th>region_Russian Federation</th>\n",
       "      <th>region_South America</th>\n",
       "      <th>region_South East Asia</th>\n",
       "      <th>prior_region_Asia</th>\n",
       "      <th>prior_region_Central Asia</th>\n",
       "      <th>prior_region_Europe</th>\n",
       "      <th>prior_region_Mid-Cent America/Caribbean</th>\n",
       "      <th>prior_region_Middle East</th>\n",
       "      <th>prior_region_No Prior Region</th>\n",
       "      <th>prior_region_North America</th>\n",
       "      <th>prior_region_Oceania</th>\n",
       "      <th>prior_region_Russian Federation</th>\n",
       "      <th>prior_region_South America</th>\n",
       "      <th>prior_region_South East Asia</th>\n",
       "      <th>known_for_arts</th>\n",
       "      <th>known_for_business_farming</th>\n",
       "      <th>known_for_crime</th>\n",
       "      <th>known_for_law_enf_military_operator</th>\n",
       "      <th>known_for_politics_govt_law</th>\n",
       "      <th>known_for_sciences</th>\n",
       "      <th>known_for_social</th>\n",
       "      <th>known_for_spiritual</th>\n",
       "      <th>known_for_sports</th>\n",
       "      <th>known_for_three_to_five</th>\n",
       "      <th>known_for_two</th>\n",
       "    </tr>\n",
       "  </thead>\n",
       "  <tbody>\n",
       "    <tr>\n",
       "      <th>51546</th>\n",
       "      <td>1.0</td>\n",
       "      <td>0.125</td>\n",
       "      <td>9.0</td>\n",
       "      <td>0.0</td>\n",
       "      <td>0.0</td>\n",
       "      <td>1.0</td>\n",
       "      <td>0.0</td>\n",
       "      <td>0.0</td>\n",
       "      <td>0.0</td>\n",
       "      <td>0.0</td>\n",
       "      <td>0.0</td>\n",
       "      <td>0.0</td>\n",
       "      <td>0.0</td>\n",
       "      <td>0.0</td>\n",
       "      <td>0.0</td>\n",
       "      <td>0.0</td>\n",
       "      <td>0.0</td>\n",
       "      <td>0.0</td>\n",
       "      <td>1.0</td>\n",
       "      <td>0.0</td>\n",
       "      <td>0.0</td>\n",
       "      <td>0.0</td>\n",
       "      <td>0.0</td>\n",
       "      <td>0.0</td>\n",
       "      <td>1.0</td>\n",
       "      <td>0.0</td>\n",
       "      <td>0.0</td>\n",
       "      <td>0.0</td>\n",
       "      <td>0.0</td>\n",
       "      <td>0.0</td>\n",
       "      <td>0.0</td>\n",
       "      <td>0.0</td>\n",
       "      <td>0.0</td>\n",
       "      <td>0.0</td>\n",
       "      <td>0.0</td>\n",
       "    </tr>\n",
       "    <tr>\n",
       "      <th>40331</th>\n",
       "      <td>1.0</td>\n",
       "      <td>0.250</td>\n",
       "      <td>100.0</td>\n",
       "      <td>0.0</td>\n",
       "      <td>0.0</td>\n",
       "      <td>0.0</td>\n",
       "      <td>0.0</td>\n",
       "      <td>0.0</td>\n",
       "      <td>0.0</td>\n",
       "      <td>1.0</td>\n",
       "      <td>0.0</td>\n",
       "      <td>0.0</td>\n",
       "      <td>0.0</td>\n",
       "      <td>0.0</td>\n",
       "      <td>0.0</td>\n",
       "      <td>0.0</td>\n",
       "      <td>0.0</td>\n",
       "      <td>0.0</td>\n",
       "      <td>1.0</td>\n",
       "      <td>0.0</td>\n",
       "      <td>0.0</td>\n",
       "      <td>0.0</td>\n",
       "      <td>0.0</td>\n",
       "      <td>0.0</td>\n",
       "      <td>1.0</td>\n",
       "      <td>0.0</td>\n",
       "      <td>0.0</td>\n",
       "      <td>0.0</td>\n",
       "      <td>0.0</td>\n",
       "      <td>0.0</td>\n",
       "      <td>0.0</td>\n",
       "      <td>0.0</td>\n",
       "      <td>0.0</td>\n",
       "      <td>0.0</td>\n",
       "      <td>0.0</td>\n",
       "    </tr>\n",
       "  </tbody>\n",
       "</table>\n",
       "</div>"
      ],
      "text/plain": [
       "       const  recip_num_references  years_sqrd  region_Asia  \\\n",
       "51546    1.0                 0.125         9.0          0.0   \n",
       "40331    1.0                 0.250       100.0          0.0   \n",
       "\n",
       "       region_Central Asia  region_Europe  region_Mid-Cent America/Caribbean  \\\n",
       "51546                  0.0            1.0                                0.0   \n",
       "40331                  0.0            0.0                                0.0   \n",
       "\n",
       "       region_Middle East  region_North America  region_Oceania  \\\n",
       "51546                 0.0                   0.0             0.0   \n",
       "40331                 0.0                   0.0             1.0   \n",
       "\n",
       "       region_Russian Federation  region_South America  \\\n",
       "51546                        0.0                   0.0   \n",
       "40331                        0.0                   0.0   \n",
       "\n",
       "       region_South East Asia  prior_region_Asia  prior_region_Central Asia  \\\n",
       "51546                     0.0                0.0                        0.0   \n",
       "40331                     0.0                0.0                        0.0   \n",
       "\n",
       "       prior_region_Europe  prior_region_Mid-Cent America/Caribbean  \\\n",
       "51546                  0.0                                      0.0   \n",
       "40331                  0.0                                      0.0   \n",
       "\n",
       "       prior_region_Middle East  prior_region_No Prior Region  \\\n",
       "51546                       0.0                           1.0   \n",
       "40331                       0.0                           1.0   \n",
       "\n",
       "       prior_region_North America  prior_region_Oceania  \\\n",
       "51546                         0.0                   0.0   \n",
       "40331                         0.0                   0.0   \n",
       "\n",
       "       prior_region_Russian Federation  prior_region_South America  \\\n",
       "51546                              0.0                         0.0   \n",
       "40331                              0.0                         0.0   \n",
       "\n",
       "       prior_region_South East Asia  known_for_arts  \\\n",
       "51546                           0.0             1.0   \n",
       "40331                           0.0             1.0   \n",
       "\n",
       "       known_for_business_farming  known_for_crime  \\\n",
       "51546                         0.0              0.0   \n",
       "40331                         0.0              0.0   \n",
       "\n",
       "       known_for_law_enf_military_operator  known_for_politics_govt_law  \\\n",
       "51546                                  0.0                          0.0   \n",
       "40331                                  0.0                          0.0   \n",
       "\n",
       "       known_for_sciences  known_for_social  known_for_spiritual  \\\n",
       "51546                 0.0               0.0                  0.0   \n",
       "40331                 0.0               0.0                  0.0   \n",
       "\n",
       "       known_for_sports  known_for_three_to_five  known_for_two  \n",
       "51546               0.0                      0.0            0.0  \n",
       "40331               0.0                      0.0            0.0  "
      ]
     },
     "execution_count": 13,
     "metadata": {},
     "output_type": "execute_result"
    },
    {
     "data": {
      "application/javascript": [
       "\n",
       "            setTimeout(function() {\n",
       "                var nbb_cell_id = 13;\n",
       "                var nbb_unformatted_code = \"# Creating list of predictor columns\\npredictor_cols = [\\n    \\\"recip_num_references\\\",\\n    \\\"years_sqrd\\\",\\n    \\\"region\\\",\\n    \\\"prior_region\\\",\\n    \\\"known_for\\\",\\n]\\n\\n# Defining target column\\ntarget = \\\"age_sqrd\\\"\\n\\n# Defining independent and dependent variables\\nX_train, X_test = df[predictor_cols], test[predictor_cols]\\ny_train, y_test = df[target], test[target]\\n\\n\\n# One hot encoding independent categorical features\\nX_train = pd.get_dummies(X_train, drop_first=True)\\nX_test = pd.get_dummies(X_test, drop_first=True)\\n\\n# Adding the intercept\\nX_train = sm.add_constant(X_train)\\nX_test = sm.add_constant(X_test)\\n\\n# Typecasting independent variables as float\\nX_train = X_train.astype(\\\"float64\\\")\\nX_test = X_test.astype(\\\"float64\\\")\\n\\n# Checking shape of train and test sets\\nprint(f\\\"There are {X_train.shape[0]} rows and {X_train.shape[1]} columns in X_train.\\\")\\nprint(f\\\"There are {X_test.shape[0]} rows and {X_test.shape[1]} columns in X_test.\\\\n\\\")\\n\\n# Checking a sample of train set\\nX_train.sample(2)\";\n",
       "                var nbb_formatted_code = \"# Creating list of predictor columns\\npredictor_cols = [\\n    \\\"recip_num_references\\\",\\n    \\\"years_sqrd\\\",\\n    \\\"region\\\",\\n    \\\"prior_region\\\",\\n    \\\"known_for\\\",\\n]\\n\\n# Defining target column\\ntarget = \\\"age_sqrd\\\"\\n\\n# Defining independent and dependent variables\\nX_train, X_test = df[predictor_cols], test[predictor_cols]\\ny_train, y_test = df[target], test[target]\\n\\n\\n# One hot encoding independent categorical features\\nX_train = pd.get_dummies(X_train, drop_first=True)\\nX_test = pd.get_dummies(X_test, drop_first=True)\\n\\n# Adding the intercept\\nX_train = sm.add_constant(X_train)\\nX_test = sm.add_constant(X_test)\\n\\n# Typecasting independent variables as float\\nX_train = X_train.astype(\\\"float64\\\")\\nX_test = X_test.astype(\\\"float64\\\")\\n\\n# Checking shape of train and test sets\\nprint(f\\\"There are {X_train.shape[0]} rows and {X_train.shape[1]} columns in X_train.\\\")\\nprint(f\\\"There are {X_test.shape[0]} rows and {X_test.shape[1]} columns in X_test.\\\\n\\\")\\n\\n# Checking a sample of train set\\nX_train.sample(2)\";\n",
       "                var nbb_cells = Jupyter.notebook.get_cells();\n",
       "                for (var i = 0; i < nbb_cells.length; ++i) {\n",
       "                    if (nbb_cells[i].input_prompt_number == nbb_cell_id) {\n",
       "                        if (nbb_cells[i].get_text() == nbb_unformatted_code) {\n",
       "                             nbb_cells[i].set_text(nbb_formatted_code);\n",
       "                        }\n",
       "                        break;\n",
       "                    }\n",
       "                }\n",
       "            }, 500);\n",
       "            "
      ],
      "text/plain": [
       "<IPython.core.display.Javascript object>"
      ]
     },
     "metadata": {},
     "output_type": "display_data"
    }
   ],
   "source": [
    "# Creating list of predictor columns\n",
    "predictor_cols = [\n",
    "    \"recip_num_references\",\n",
    "    \"years_sqrd\",\n",
    "    \"region\",\n",
    "    \"prior_region\",\n",
    "    \"known_for\",\n",
    "]\n",
    "\n",
    "# Defining target column\n",
    "target = \"age_sqrd\"\n",
    "\n",
    "# Defining independent and dependent variables\n",
    "X_train, X_test = df[predictor_cols], test[predictor_cols]\n",
    "y_train, y_test = df[target], test[target]\n",
    "\n",
    "\n",
    "# One hot encoding independent categorical features\n",
    "X_train = pd.get_dummies(X_train, drop_first=True)\n",
    "X_test = pd.get_dummies(X_test, drop_first=True)\n",
    "\n",
    "# Adding the intercept\n",
    "X_train = sm.add_constant(X_train)\n",
    "X_test = sm.add_constant(X_test)\n",
    "\n",
    "# Typecasting independent variables as float\n",
    "X_train = X_train.astype(\"float64\")\n",
    "X_test = X_test.astype(\"float64\")\n",
    "\n",
    "# Checking shape of train and test sets\n",
    "print(f\"There are {X_train.shape[0]} rows and {X_train.shape[1]} columns in X_train.\")\n",
    "print(f\"There are {X_test.shape[0]} rows and {X_test.shape[1]} columns in X_test.\\n\")\n",
    "\n",
    "# Checking a sample of train set\n",
    "X_train.sample(2)"
   ]
  },
  {
   "cell_type": "code",
   "execution_count": 14,
   "id": "c07fab66",
   "metadata": {},
   "outputs": [
    {
     "data": {
      "text/html": [
       "<div>\n",
       "<style scoped>\n",
       "    .dataframe tbody tr th:only-of-type {\n",
       "        vertical-align: middle;\n",
       "    }\n",
       "\n",
       "    .dataframe tbody tr th {\n",
       "        vertical-align: top;\n",
       "    }\n",
       "\n",
       "    .dataframe thead th {\n",
       "        text-align: right;\n",
       "    }\n",
       "</style>\n",
       "<table border=\"1\" class=\"dataframe\">\n",
       "  <thead>\n",
       "    <tr style=\"text-align: right;\">\n",
       "      <th></th>\n",
       "      <th>const</th>\n",
       "      <th>recip_num_references</th>\n",
       "      <th>years_sqrd</th>\n",
       "      <th>region_Asia</th>\n",
       "      <th>region_Central Asia</th>\n",
       "      <th>region_Europe</th>\n",
       "      <th>region_Mid-Cent America/Caribbean</th>\n",
       "      <th>region_Middle East</th>\n",
       "      <th>region_North America</th>\n",
       "      <th>region_Oceania</th>\n",
       "      <th>region_Russian Federation</th>\n",
       "      <th>region_South America</th>\n",
       "      <th>region_South East Asia</th>\n",
       "      <th>prior_region_Asia</th>\n",
       "      <th>prior_region_Central Asia</th>\n",
       "      <th>prior_region_Europe</th>\n",
       "      <th>prior_region_Mid-Cent America/Caribbean</th>\n",
       "      <th>prior_region_Middle East</th>\n",
       "      <th>prior_region_No Prior Region</th>\n",
       "      <th>prior_region_North America</th>\n",
       "      <th>prior_region_Oceania</th>\n",
       "      <th>prior_region_Russian Federation</th>\n",
       "      <th>prior_region_South America</th>\n",
       "      <th>prior_region_South East Asia</th>\n",
       "      <th>known_for_arts</th>\n",
       "      <th>known_for_business_farming</th>\n",
       "      <th>known_for_crime</th>\n",
       "      <th>known_for_law_enf_military_operator</th>\n",
       "      <th>known_for_politics_govt_law</th>\n",
       "      <th>known_for_sciences</th>\n",
       "      <th>known_for_social</th>\n",
       "      <th>known_for_spiritual</th>\n",
       "      <th>known_for_sports</th>\n",
       "      <th>known_for_three_to_five</th>\n",
       "      <th>known_for_two</th>\n",
       "    </tr>\n",
       "  </thead>\n",
       "  <tbody>\n",
       "    <tr>\n",
       "      <th>9611</th>\n",
       "      <td>1.0</td>\n",
       "      <td>0.076923</td>\n",
       "      <td>324.0</td>\n",
       "      <td>0.0</td>\n",
       "      <td>0.0</td>\n",
       "      <td>0.0</td>\n",
       "      <td>0.0</td>\n",
       "      <td>0.0</td>\n",
       "      <td>1.0</td>\n",
       "      <td>0.0</td>\n",
       "      <td>0.0</td>\n",
       "      <td>0.0</td>\n",
       "      <td>0.0</td>\n",
       "      <td>0.0</td>\n",
       "      <td>0.0</td>\n",
       "      <td>0.0</td>\n",
       "      <td>0.0</td>\n",
       "      <td>0.0</td>\n",
       "      <td>1.0</td>\n",
       "      <td>0.0</td>\n",
       "      <td>0.0</td>\n",
       "      <td>0.0</td>\n",
       "      <td>0.0</td>\n",
       "      <td>0.0</td>\n",
       "      <td>0.0</td>\n",
       "      <td>0.0</td>\n",
       "      <td>0.0</td>\n",
       "      <td>0.0</td>\n",
       "      <td>0.0</td>\n",
       "      <td>0.0</td>\n",
       "      <td>0.0</td>\n",
       "      <td>0.0</td>\n",
       "      <td>0.0</td>\n",
       "      <td>0.0</td>\n",
       "      <td>0.0</td>\n",
       "    </tr>\n",
       "    <tr>\n",
       "      <th>14882</th>\n",
       "      <td>1.0</td>\n",
       "      <td>0.027778</td>\n",
       "      <td>289.0</td>\n",
       "      <td>0.0</td>\n",
       "      <td>0.0</td>\n",
       "      <td>0.0</td>\n",
       "      <td>0.0</td>\n",
       "      <td>0.0</td>\n",
       "      <td>0.0</td>\n",
       "      <td>0.0</td>\n",
       "      <td>1.0</td>\n",
       "      <td>0.0</td>\n",
       "      <td>0.0</td>\n",
       "      <td>0.0</td>\n",
       "      <td>0.0</td>\n",
       "      <td>0.0</td>\n",
       "      <td>0.0</td>\n",
       "      <td>0.0</td>\n",
       "      <td>1.0</td>\n",
       "      <td>0.0</td>\n",
       "      <td>0.0</td>\n",
       "      <td>0.0</td>\n",
       "      <td>0.0</td>\n",
       "      <td>0.0</td>\n",
       "      <td>0.0</td>\n",
       "      <td>0.0</td>\n",
       "      <td>0.0</td>\n",
       "      <td>0.0</td>\n",
       "      <td>0.0</td>\n",
       "      <td>0.0</td>\n",
       "      <td>0.0</td>\n",
       "      <td>0.0</td>\n",
       "      <td>0.0</td>\n",
       "      <td>0.0</td>\n",
       "      <td>1.0</td>\n",
       "    </tr>\n",
       "  </tbody>\n",
       "</table>\n",
       "</div>"
      ],
      "text/plain": [
       "       const  recip_num_references  years_sqrd  region_Asia  \\\n",
       "9611     1.0              0.076923       324.0          0.0   \n",
       "14882    1.0              0.027778       289.0          0.0   \n",
       "\n",
       "       region_Central Asia  region_Europe  region_Mid-Cent America/Caribbean  \\\n",
       "9611                   0.0            0.0                                0.0   \n",
       "14882                  0.0            0.0                                0.0   \n",
       "\n",
       "       region_Middle East  region_North America  region_Oceania  \\\n",
       "9611                  0.0                   1.0             0.0   \n",
       "14882                 0.0                   0.0             0.0   \n",
       "\n",
       "       region_Russian Federation  region_South America  \\\n",
       "9611                         0.0                   0.0   \n",
       "14882                        1.0                   0.0   \n",
       "\n",
       "       region_South East Asia  prior_region_Asia  prior_region_Central Asia  \\\n",
       "9611                      0.0                0.0                        0.0   \n",
       "14882                     0.0                0.0                        0.0   \n",
       "\n",
       "       prior_region_Europe  prior_region_Mid-Cent America/Caribbean  \\\n",
       "9611                   0.0                                      0.0   \n",
       "14882                  0.0                                      0.0   \n",
       "\n",
       "       prior_region_Middle East  prior_region_No Prior Region  \\\n",
       "9611                        0.0                           1.0   \n",
       "14882                       0.0                           1.0   \n",
       "\n",
       "       prior_region_North America  prior_region_Oceania  \\\n",
       "9611                          0.0                   0.0   \n",
       "14882                         0.0                   0.0   \n",
       "\n",
       "       prior_region_Russian Federation  prior_region_South America  \\\n",
       "9611                               0.0                         0.0   \n",
       "14882                              0.0                         0.0   \n",
       "\n",
       "       prior_region_South East Asia  known_for_arts  \\\n",
       "9611                            0.0             0.0   \n",
       "14882                           0.0             0.0   \n",
       "\n",
       "       known_for_business_farming  known_for_crime  \\\n",
       "9611                          0.0              0.0   \n",
       "14882                         0.0              0.0   \n",
       "\n",
       "       known_for_law_enf_military_operator  known_for_politics_govt_law  \\\n",
       "9611                                   0.0                          0.0   \n",
       "14882                                  0.0                          0.0   \n",
       "\n",
       "       known_for_sciences  known_for_social  known_for_spiritual  \\\n",
       "9611                  0.0               0.0                  0.0   \n",
       "14882                 0.0               0.0                  0.0   \n",
       "\n",
       "       known_for_sports  known_for_three_to_five  known_for_two  \n",
       "9611                0.0                      0.0            0.0  \n",
       "14882               0.0                      0.0            1.0  "
      ]
     },
     "execution_count": 14,
     "metadata": {},
     "output_type": "execute_result"
    },
    {
     "data": {
      "application/javascript": [
       "\n",
       "            setTimeout(function() {\n",
       "                var nbb_cell_id = 14;\n",
       "                var nbb_unformatted_code = \"# Checking a sample of test set\\nX_test.sample(2)\";\n",
       "                var nbb_formatted_code = \"# Checking a sample of test set\\nX_test.sample(2)\";\n",
       "                var nbb_cells = Jupyter.notebook.get_cells();\n",
       "                for (var i = 0; i < nbb_cells.length; ++i) {\n",
       "                    if (nbb_cells[i].input_prompt_number == nbb_cell_id) {\n",
       "                        if (nbb_cells[i].get_text() == nbb_unformatted_code) {\n",
       "                             nbb_cells[i].set_text(nbb_formatted_code);\n",
       "                        }\n",
       "                        break;\n",
       "                    }\n",
       "                }\n",
       "            }, 500);\n",
       "            "
      ],
      "text/plain": [
       "<IPython.core.display.Javascript object>"
      ]
     },
     "metadata": {},
     "output_type": "display_data"
    }
   ],
   "source": [
    "# Checking a sample of test set\n",
    "X_test.sample(2)"
   ]
  },
  {
   "cell_type": "markdown",
   "id": "66ec5d82",
   "metadata": {},
   "source": [
    "#### Observations:\n",
    "- We are ready to build our model.\n",
    "- The references levels for the categorical features are as follows:\n",
    "    - `region`: Africa\n",
    "    - `prior_region`: Africa\n",
    "    - `known_for` academia_humanities"
   ]
  },
  {
   "cell_type": "markdown",
   "id": "fa35f66e",
   "metadata": {},
   "source": [
    "### Fitting a Linear Model"
   ]
  },
  {
   "cell_type": "code",
   "execution_count": 15,
   "id": "37d7d4d6",
   "metadata": {},
   "outputs": [
    {
     "name": "stdout",
     "output_type": "stream",
     "text": [
      "                            OLS Regression Results                            \n",
      "==============================================================================\n",
      "Dep. Variable:               age_sqrd   R-squared:                       0.093\n",
      "Model:                            OLS   Adj. R-squared:                  0.093\n",
      "Method:                 Least Squares   F-statistic:                     234.4\n",
      "Date:                Wed, 12 Oct 2022   Prob (F-statistic):               0.00\n",
      "Time:                        13:34:40   Log-Likelihood:            -7.0332e+05\n",
      "No. Observations:               77622   AIC:                         1.407e+06\n",
      "Df Residuals:                   77587   BIC:                         1.407e+06\n",
      "Df Model:                          34                                         \n",
      "Covariance Type:            nonrobust                                         \n",
      "===========================================================================================================\n",
      "                                              coef    std err          t      P>|t|      [0.025      0.975]\n",
      "-----------------------------------------------------------------------------------------------------------\n",
      "const                                    4552.1022    146.694     31.031      0.000    4264.582    4839.622\n",
      "recip_num_references                     1238.1860     77.659     15.944      0.000    1085.975    1390.397\n",
      "years_sqrd                                  0.9691      0.031     31.345      0.000       0.909       1.030\n",
      "region_Asia                               889.8274     48.199     18.462      0.000     795.359     984.296\n",
      "region_Central Asia                      -274.9554    223.142     -1.232      0.218    -712.313     162.402\n",
      "region_Europe                            1328.3023     43.010     30.884      0.000    1244.003    1412.602\n",
      "region_Mid-Cent America/Caribbean         681.0183     67.130     10.145      0.000     549.443     812.593\n",
      "region_Middle East                        539.9598     61.761      8.743      0.000     418.909     661.011\n",
      "region_North America                     1404.4933     42.482     33.061      0.000    1321.229    1487.758\n",
      "region_Oceania                           1255.0271     53.227     23.579      0.000    1150.703    1359.351\n",
      "region_Russian Federation                 518.2675     72.212      7.177      0.000     376.732     659.803\n",
      "region_South America                      817.4044     63.408     12.891      0.000     693.125     941.684\n",
      "region_South East Asia                    413.0428     70.673      5.844      0.000     274.525     551.561\n",
      "prior_region_Asia                         212.1365    175.405      1.209      0.227    -131.656     555.929\n",
      "prior_region_Central Asia                -299.8452    751.427     -0.399      0.690   -1772.638    1172.947\n",
      "prior_region_Europe                      1137.3068    140.889      8.072      0.000     861.165    1413.448\n",
      "prior_region_Mid-Cent America/Caribbean   214.1045    198.790      1.077      0.281    -175.523     603.732\n",
      "prior_region_Middle East                  -32.0103    206.741     -0.155      0.877    -437.221     373.200\n",
      "prior_region_No Prior Region              389.8548    134.300      2.903      0.004     126.628     653.082\n",
      "prior_region_North America                457.5786    167.463      2.732      0.006     129.353     785.804\n",
      "prior_region_Oceania                      149.4527    223.559      0.669      0.504    -288.722     587.627\n",
      "prior_region_Russian Federation           625.4104    184.995      3.381      0.001     262.822     987.999\n",
      "prior_region_South America                296.4669    240.542      1.232      0.218    -174.995     767.928\n",
      "prior_region_South East Asia            -1029.3781    304.810     -3.377      0.001   -1626.804    -431.952\n",
      "known_for_arts                           -759.1322     43.421    -17.483      0.000    -844.238    -674.027\n",
      "known_for_business_farming               -223.7226     71.199     -3.142      0.002    -363.272     -84.173\n",
      "known_for_crime                         -3276.0264     93.514    -35.033      0.000   -3459.313   -3092.740\n",
      "known_for_law_enf_military_operator       148.6250     59.592      2.494      0.013      31.824     265.426\n",
      "known_for_politics_govt_law              -377.0393     45.630     -8.263      0.000    -466.475    -287.604\n",
      "known_for_sciences                        165.5452     51.422      3.219      0.001      64.758     266.332\n",
      "known_for_social                         -198.2668    175.743     -1.128      0.259    -542.723     146.189\n",
      "known_for_spiritual                       201.6096     65.400      3.083      0.002      73.426     329.793\n",
      "known_for_sports                        -1258.7922     45.032    -27.953      0.000   -1347.055   -1170.529\n",
      "known_for_three_to_five                   106.2309     79.698      1.333      0.183     -49.977     262.439\n",
      "known_for_two                            -142.3241     46.209     -3.080      0.002    -232.894     -51.754\n",
      "==============================================================================\n",
      "Omnibus:                     2171.178   Durbin-Watson:                   2.021\n",
      "Prob(Omnibus):                  0.000   Jarque-Bera (JB):             2250.260\n",
      "Skew:                          -0.398   Prob(JB):                         0.00\n",
      "Kurtosis:                       2.749   Cond. No.                     4.68e+04\n",
      "==============================================================================\n",
      "\n",
      "Notes:\n",
      "[1] Standard Errors assume that the covariance matrix of the errors is correctly specified.\n",
      "[2] The condition number is large, 4.68e+04. This might indicate that there are\n",
      "strong multicollinearity or other numerical problems.\n"
     ]
    },
    {
     "data": {
      "application/javascript": [
       "\n",
       "            setTimeout(function() {\n",
       "                var nbb_cell_id = 15;\n",
       "                var nbb_unformatted_code = \"# Fitting a linear model and displaying model summary\\nolsmodel = sm.OLS(y_train, X_train).fit()\\nprint(olsmodel.summary())\";\n",
       "                var nbb_formatted_code = \"# Fitting a linear model and displaying model summary\\nolsmodel = sm.OLS(y_train, X_train).fit()\\nprint(olsmodel.summary())\";\n",
       "                var nbb_cells = Jupyter.notebook.get_cells();\n",
       "                for (var i = 0; i < nbb_cells.length; ++i) {\n",
       "                    if (nbb_cells[i].input_prompt_number == nbb_cell_id) {\n",
       "                        if (nbb_cells[i].get_text() == nbb_unformatted_code) {\n",
       "                             nbb_cells[i].set_text(nbb_formatted_code);\n",
       "                        }\n",
       "                        break;\n",
       "                    }\n",
       "                }\n",
       "            }, 500);\n",
       "            "
      ],
      "text/plain": [
       "<IPython.core.display.Javascript object>"
      ]
     },
     "metadata": {},
     "output_type": "display_data"
    }
   ],
   "source": [
    "# Fitting a linear model and displaying model summary\n",
    "olsmodel = sm.OLS(y_train, X_train).fit()\n",
    "print(olsmodel.summary())"
   ]
  },
  {
   "cell_type": "markdown",
   "id": "865808e0",
   "metadata": {},
   "source": [
    "### Model Performance Check"
   ]
  },
  {
   "cell_type": "markdown",
   "id": "bb1794f7",
   "metadata": {},
   "source": [
    "#### Functions to check model performance"
   ]
  },
  {
   "cell_type": "code",
   "execution_count": 16,
   "id": "facec4e5",
   "metadata": {},
   "outputs": [
    {
     "data": {
      "application/javascript": [
       "\n",
       "            setTimeout(function() {\n",
       "                var nbb_cell_id = 16;\n",
       "                var nbb_unformatted_code = \"# function to compute adjusted R-squared\\ndef adj_r2_score(predictors, targets, predictions):\\n    r2 = r2_score(targets, predictions)\\n    n = predictors.shape[0]\\n    k = predictors.shape[1]\\n    return 1 - ((1 - r2) * (n - 1) / (n - k - 1))\\n\\n\\n# function to compute MAPE\\ndef mape_score(targets, predictions):\\n    return np.mean(np.abs((targets - predictions) / targets)) * 100\\n\\n\\n# function to compute and display different metrics to check performance of a regression model\\n# with conversion back to original scale for RMSE, MAE, and MAPE for ease of explainability\\ndef model_performance_regression(model, predictors, target):\\n    \\\"\\\"\\\"\\n    Function to compute and return a dataframe of different metrics to check\\n    regression model performance\\n    \\n    model: regressor\\n    predictors: independent variables\\n    target: dependent variable\\n    \\\"\\\"\\\"\\n    # predictions\\n    pred = model.predict(predictors)\\n\\n    r2 = r2_score(target, pred)  # to compute R-squared\\n    adjr2 = adj_r2_score(predictors, target, pred)  # to compute adjusted R-squared\\n    rmse = np.sqrt(mean_squared_error(target, pred))  # to compute RMSE\\n    mae = mean_absolute_error(target, pred)  # to compute MAE\\n    mape = mape_score(target, pred)  # to compute MAPE\\n\\n    # creating a dataframe of metrics\\n    df_perf = pd.DataFrame(\\n        {\\n            \\\"RMSE\\\": rmse,\\n            \\\"MAE\\\": mae,\\n            \\\"R-squared\\\": r2,\\n            \\\"Adj. R-squared\\\": adjr2,\\n            \\\"MAPE\\\": mape,\\n        },\\n        index=[0],\\n    )\\n\\n    return df_perf\";\n",
       "                var nbb_formatted_code = \"# function to compute adjusted R-squared\\ndef adj_r2_score(predictors, targets, predictions):\\n    r2 = r2_score(targets, predictions)\\n    n = predictors.shape[0]\\n    k = predictors.shape[1]\\n    return 1 - ((1 - r2) * (n - 1) / (n - k - 1))\\n\\n\\n# function to compute MAPE\\ndef mape_score(targets, predictions):\\n    return np.mean(np.abs((targets - predictions) / targets)) * 100\\n\\n\\n# function to compute and display different metrics to check performance of a regression model\\n# with conversion back to original scale for RMSE, MAE, and MAPE for ease of explainability\\ndef model_performance_regression(model, predictors, target):\\n    \\\"\\\"\\\"\\n    Function to compute and return a dataframe of different metrics to check\\n    regression model performance\\n    \\n    model: regressor\\n    predictors: independent variables\\n    target: dependent variable\\n    \\\"\\\"\\\"\\n    # predictions\\n    pred = model.predict(predictors)\\n\\n    r2 = r2_score(target, pred)  # to compute R-squared\\n    adjr2 = adj_r2_score(predictors, target, pred)  # to compute adjusted R-squared\\n    rmse = np.sqrt(mean_squared_error(target, pred))  # to compute RMSE\\n    mae = mean_absolute_error(target, pred)  # to compute MAE\\n    mape = mape_score(target, pred)  # to compute MAPE\\n\\n    # creating a dataframe of metrics\\n    df_perf = pd.DataFrame(\\n        {\\n            \\\"RMSE\\\": rmse,\\n            \\\"MAE\\\": mae,\\n            \\\"R-squared\\\": r2,\\n            \\\"Adj. R-squared\\\": adjr2,\\n            \\\"MAPE\\\": mape,\\n        },\\n        index=[0],\\n    )\\n\\n    return df_perf\";\n",
       "                var nbb_cells = Jupyter.notebook.get_cells();\n",
       "                for (var i = 0; i < nbb_cells.length; ++i) {\n",
       "                    if (nbb_cells[i].input_prompt_number == nbb_cell_id) {\n",
       "                        if (nbb_cells[i].get_text() == nbb_unformatted_code) {\n",
       "                             nbb_cells[i].set_text(nbb_formatted_code);\n",
       "                        }\n",
       "                        break;\n",
       "                    }\n",
       "                }\n",
       "            }, 500);\n",
       "            "
      ],
      "text/plain": [
       "<IPython.core.display.Javascript object>"
      ]
     },
     "metadata": {},
     "output_type": "display_data"
    }
   ],
   "source": [
    "# function to compute adjusted R-squared\n",
    "def adj_r2_score(predictors, targets, predictions):\n",
    "    r2 = r2_score(targets, predictions)\n",
    "    n = predictors.shape[0]\n",
    "    k = predictors.shape[1]\n",
    "    return 1 - ((1 - r2) * (n - 1) / (n - k - 1))\n",
    "\n",
    "\n",
    "# function to compute MAPE\n",
    "def mape_score(targets, predictions):\n",
    "    return np.mean(np.abs((targets - predictions) / targets)) * 100\n",
    "\n",
    "\n",
    "# function to compute and display different metrics to check performance of a regression model\n",
    "# with conversion back to original scale for RMSE, MAE, and MAPE for ease of explainability\n",
    "def model_performance_regression(model, predictors, target):\n",
    "    \"\"\"\n",
    "    Function to compute and return a dataframe of different metrics to check\n",
    "    regression model performance\n",
    "    \n",
    "    model: regressor\n",
    "    predictors: independent variables\n",
    "    target: dependent variable\n",
    "    \"\"\"\n",
    "    # predictions\n",
    "    pred = model.predict(predictors)\n",
    "\n",
    "    r2 = r2_score(target, pred)  # to compute R-squared\n",
    "    adjr2 = adj_r2_score(predictors, target, pred)  # to compute adjusted R-squared\n",
    "    rmse = np.sqrt(mean_squared_error(target, pred))  # to compute RMSE\n",
    "    mae = mean_absolute_error(target, pred)  # to compute MAE\n",
    "    mape = mape_score(target, pred)  # to compute MAPE\n",
    "\n",
    "    # creating a dataframe of metrics\n",
    "    df_perf = pd.DataFrame(\n",
    "        {\n",
    "            \"RMSE\": rmse,\n",
    "            \"MAE\": mae,\n",
    "            \"R-squared\": r2,\n",
    "            \"Adj. R-squared\": adjr2,\n",
    "            \"MAPE\": mape,\n",
    "        },\n",
    "        index=[0],\n",
    "    )\n",
    "\n",
    "    return df_perf"
   ]
  },
  {
   "cell_type": "markdown",
   "id": "63340af1",
   "metadata": {},
   "source": [
    "#### Model Performance on Train Set"
   ]
  },
  {
   "cell_type": "code",
   "execution_count": 17,
   "id": "ff545c39",
   "metadata": {},
   "outputs": [
    {
     "name": "stdout",
     "output_type": "stream",
     "text": [
      "Training Performance\n",
      "\n"
     ]
    },
    {
     "data": {
      "text/html": [
       "<div>\n",
       "<style scoped>\n",
       "    .dataframe tbody tr th:only-of-type {\n",
       "        vertical-align: middle;\n",
       "    }\n",
       "\n",
       "    .dataframe tbody tr th {\n",
       "        vertical-align: top;\n",
       "    }\n",
       "\n",
       "    .dataframe thead th {\n",
       "        text-align: right;\n",
       "    }\n",
       "</style>\n",
       "<table border=\"1\" class=\"dataframe\">\n",
       "  <thead>\n",
       "    <tr style=\"text-align: right;\">\n",
       "      <th></th>\n",
       "      <th>RMSE</th>\n",
       "      <th>MAE</th>\n",
       "      <th>R-squared</th>\n",
       "      <th>Adj. R-squared</th>\n",
       "      <th>MAPE</th>\n",
       "    </tr>\n",
       "  </thead>\n",
       "  <tbody>\n",
       "    <tr>\n",
       "      <th>0</th>\n",
       "      <td>2083.688887</td>\n",
       "      <td>1684.875026</td>\n",
       "      <td>0.093167</td>\n",
       "      <td>0.092758</td>\n",
       "      <td>50.510401</td>\n",
       "    </tr>\n",
       "  </tbody>\n",
       "</table>\n",
       "</div>"
      ],
      "text/plain": [
       "          RMSE          MAE  R-squared  Adj. R-squared       MAPE\n",
       "0  2083.688887  1684.875026   0.093167        0.092758  50.510401"
      ]
     },
     "execution_count": 17,
     "metadata": {},
     "output_type": "execute_result"
    },
    {
     "data": {
      "application/javascript": [
       "\n",
       "            setTimeout(function() {\n",
       "                var nbb_cell_id = 17;\n",
       "                var nbb_unformatted_code = \"# Checking model performance on train set\\nprint(\\\"Training Performance\\\\n\\\")\\nolsmodel_train_perf = model_performance_regression(olsmodel, X_train, y_train)\\nolsmodel_train_perf\";\n",
       "                var nbb_formatted_code = \"# Checking model performance on train set\\nprint(\\\"Training Performance\\\\n\\\")\\nolsmodel_train_perf = model_performance_regression(olsmodel, X_train, y_train)\\nolsmodel_train_perf\";\n",
       "                var nbb_cells = Jupyter.notebook.get_cells();\n",
       "                for (var i = 0; i < nbb_cells.length; ++i) {\n",
       "                    if (nbb_cells[i].input_prompt_number == nbb_cell_id) {\n",
       "                        if (nbb_cells[i].get_text() == nbb_unformatted_code) {\n",
       "                             nbb_cells[i].set_text(nbb_formatted_code);\n",
       "                        }\n",
       "                        break;\n",
       "                    }\n",
       "                }\n",
       "            }, 500);\n",
       "            "
      ],
      "text/plain": [
       "<IPython.core.display.Javascript object>"
      ]
     },
     "metadata": {},
     "output_type": "display_data"
    }
   ],
   "source": [
    "# Checking model performance on train set\n",
    "print(\"Training Performance\\n\")\n",
    "olsmodel_train_perf = model_performance_regression(olsmodel, X_train, y_train)\n",
    "olsmodel_train_perf"
   ]
  },
  {
   "cell_type": "markdown",
   "id": "cd75360a",
   "metadata": {},
   "source": [
    "### Model Performance on Test Set"
   ]
  },
  {
   "cell_type": "code",
   "execution_count": 18,
   "id": "47bbe8b5",
   "metadata": {},
   "outputs": [
    {
     "name": "stdout",
     "output_type": "stream",
     "text": [
      "Test Peformance\n",
      "\n"
     ]
    },
    {
     "data": {
      "text/html": [
       "<div>\n",
       "<style scoped>\n",
       "    .dataframe tbody tr th:only-of-type {\n",
       "        vertical-align: middle;\n",
       "    }\n",
       "\n",
       "    .dataframe tbody tr th {\n",
       "        vertical-align: top;\n",
       "    }\n",
       "\n",
       "    .dataframe thead th {\n",
       "        text-align: right;\n",
       "    }\n",
       "</style>\n",
       "<table border=\"1\" class=\"dataframe\">\n",
       "  <thead>\n",
       "    <tr style=\"text-align: right;\">\n",
       "      <th></th>\n",
       "      <th>RMSE</th>\n",
       "      <th>MAE</th>\n",
       "      <th>R-squared</th>\n",
       "      <th>Adj. R-squared</th>\n",
       "      <th>MAPE</th>\n",
       "    </tr>\n",
       "  </thead>\n",
       "  <tbody>\n",
       "    <tr>\n",
       "      <th>0</th>\n",
       "      <td>2076.111666</td>\n",
       "      <td>1680.560737</td>\n",
       "      <td>0.09092</td>\n",
       "      <td>0.089278</td>\n",
       "      <td>49.148998</td>\n",
       "    </tr>\n",
       "  </tbody>\n",
       "</table>\n",
       "</div>"
      ],
      "text/plain": [
       "          RMSE          MAE  R-squared  Adj. R-squared       MAPE\n",
       "0  2076.111666  1680.560737    0.09092        0.089278  49.148998"
      ]
     },
     "execution_count": 18,
     "metadata": {},
     "output_type": "execute_result"
    },
    {
     "data": {
      "application/javascript": [
       "\n",
       "            setTimeout(function() {\n",
       "                var nbb_cell_id = 18;\n",
       "                var nbb_unformatted_code = \"# Checking model performance on validation set\\nprint(\\\"Test Peformance\\\\n\\\")\\nolsmodel_test_perf = model_performance_regression(olsmodel, X_test, y_test)\\nolsmodel_test_perf\";\n",
       "                var nbb_formatted_code = \"# Checking model performance on validation set\\nprint(\\\"Test Peformance\\\\n\\\")\\nolsmodel_test_perf = model_performance_regression(olsmodel, X_test, y_test)\\nolsmodel_test_perf\";\n",
       "                var nbb_cells = Jupyter.notebook.get_cells();\n",
       "                for (var i = 0; i < nbb_cells.length; ++i) {\n",
       "                    if (nbb_cells[i].input_prompt_number == nbb_cell_id) {\n",
       "                        if (nbb_cells[i].get_text() == nbb_unformatted_code) {\n",
       "                             nbb_cells[i].set_text(nbb_formatted_code);\n",
       "                        }\n",
       "                        break;\n",
       "                    }\n",
       "                }\n",
       "            }, 500);\n",
       "            "
      ],
      "text/plain": [
       "<IPython.core.display.Javascript object>"
      ]
     },
     "metadata": {},
     "output_type": "display_data"
    }
   ],
   "source": [
    "# Checking model performance on validation set\n",
    "print(\"Test Peformance\\n\")\n",
    "olsmodel_test_perf = model_performance_regression(olsmodel, X_test, y_test)\n",
    "olsmodel_test_perf"
   ]
  },
  {
   "cell_type": "markdown",
   "id": "1df2bcd8",
   "metadata": {},
   "source": [
    "### Observations:\n",
    "- The train and test $R^2$ are 0.093 and 0.091, respectively, indicating that the model explains 9.3% of total variation in the train set and 9.1% of variation in the test set, so only a small amount, but not nothing.\n",
    "- RMSE values for the two sets are also comparable, at ~15.\n",
    "- The comparable results between the two sets show that the model is not overfitting.\n",
    "- MAE indicates that our current model is able to predict age of reported deceased notable Wikipedia individuals within a mean error of ~11.6 years on the test set.\n",
    "- MAPE of 19% on the test set means that we are able to predict within 19% of the reported age, in years."
   ]
  },
  {
   "cell_type": "markdown",
   "id": "56df14c9",
   "metadata": {},
   "source": [
    "### Checking Linear Regression Assumptions"
   ]
  },
  {
   "cell_type": "markdown",
   "id": "bcb3d36d",
   "metadata": {},
   "source": [
    "### Test for Multicollinearity"
   ]
  },
  {
   "cell_type": "markdown",
   "id": "65148b8a",
   "metadata": {},
   "source": [
    "#### Function to check VIF of Each Independent Variable"
   ]
  },
  {
   "cell_type": "code",
   "execution_count": 19,
   "id": "17970532",
   "metadata": {},
   "outputs": [
    {
     "data": {
      "application/javascript": [
       "\n",
       "            setTimeout(function() {\n",
       "                var nbb_cell_id = 19;\n",
       "                var nbb_unformatted_code = \"# Define a function to check and display VIF of each independent variable\\ndef checking_vif(predictors):\\n    \\\"\\\"\\\"\\n    Takes input dependent variables predictors and returns\\n    a dataframe of variable name and VIF\\n    \\\"\\\"\\\"\\n    vif = pd.DataFrame()\\n    vif[\\\"feature\\\"] = predictors.columns\\n\\n    # calculating VIF for each feature\\n    vif[\\\"VIF\\\"] = [\\n        variance_inflation_factor(predictors.values, i)\\n        for i in range(len(predictors.columns))\\n    ]\\n    return vif\";\n",
       "                var nbb_formatted_code = \"# Define a function to check and display VIF of each independent variable\\ndef checking_vif(predictors):\\n    \\\"\\\"\\\"\\n    Takes input dependent variables predictors and returns\\n    a dataframe of variable name and VIF\\n    \\\"\\\"\\\"\\n    vif = pd.DataFrame()\\n    vif[\\\"feature\\\"] = predictors.columns\\n\\n    # calculating VIF for each feature\\n    vif[\\\"VIF\\\"] = [\\n        variance_inflation_factor(predictors.values, i)\\n        for i in range(len(predictors.columns))\\n    ]\\n    return vif\";\n",
       "                var nbb_cells = Jupyter.notebook.get_cells();\n",
       "                for (var i = 0; i < nbb_cells.length; ++i) {\n",
       "                    if (nbb_cells[i].input_prompt_number == nbb_cell_id) {\n",
       "                        if (nbb_cells[i].get_text() == nbb_unformatted_code) {\n",
       "                             nbb_cells[i].set_text(nbb_formatted_code);\n",
       "                        }\n",
       "                        break;\n",
       "                    }\n",
       "                }\n",
       "            }, 500);\n",
       "            "
      ],
      "text/plain": [
       "<IPython.core.display.Javascript object>"
      ]
     },
     "metadata": {},
     "output_type": "display_data"
    }
   ],
   "source": [
    "# Define a function to check and display VIF of each independent variable\n",
    "def checking_vif(predictors):\n",
    "    \"\"\"\n",
    "    Takes input dependent variables predictors and returns\n",
    "    a dataframe of variable name and VIF\n",
    "    \"\"\"\n",
    "    vif = pd.DataFrame()\n",
    "    vif[\"feature\"] = predictors.columns\n",
    "\n",
    "    # calculating VIF for each feature\n",
    "    vif[\"VIF\"] = [\n",
    "        variance_inflation_factor(predictors.values, i)\n",
    "        for i in range(len(predictors.columns))\n",
    "    ]\n",
    "    return vif"
   ]
  },
  {
   "cell_type": "markdown",
   "id": "d61190e6",
   "metadata": {},
   "source": [
    "#### VIF"
   ]
  },
  {
   "cell_type": "code",
   "execution_count": 20,
   "id": "f7dbbee9",
   "metadata": {},
   "outputs": [
    {
     "data": {
      "text/html": [
       "<div>\n",
       "<style scoped>\n",
       "    .dataframe tbody tr th:only-of-type {\n",
       "        vertical-align: middle;\n",
       "    }\n",
       "\n",
       "    .dataframe tbody tr th {\n",
       "        vertical-align: top;\n",
       "    }\n",
       "\n",
       "    .dataframe thead th {\n",
       "        text-align: right;\n",
       "    }\n",
       "</style>\n",
       "<table border=\"1\" class=\"dataframe\">\n",
       "  <thead>\n",
       "    <tr style=\"text-align: right;\">\n",
       "      <th></th>\n",
       "      <th>feature</th>\n",
       "      <th>VIF</th>\n",
       "    </tr>\n",
       "  </thead>\n",
       "  <tbody>\n",
       "    <tr>\n",
       "      <th>0</th>\n",
       "      <td>const</td>\n",
       "      <td>384.547174</td>\n",
       "    </tr>\n",
       "    <tr>\n",
       "      <th>18</th>\n",
       "      <td>prior_region_No Prior Region</td>\n",
       "      <td>16.899062</td>\n",
       "    </tr>\n",
       "    <tr>\n",
       "      <th>15</th>\n",
       "      <td>prior_region_Europe</td>\n",
       "      <td>10.310730</td>\n",
       "    </tr>\n",
       "    <tr>\n",
       "      <th>8</th>\n",
       "      <td>region_North America</td>\n",
       "      <td>7.834782</td>\n",
       "    </tr>\n",
       "    <tr>\n",
       "      <th>24</th>\n",
       "      <td>known_for_arts</td>\n",
       "      <td>7.513847</td>\n",
       "    </tr>\n",
       "    <tr>\n",
       "      <th>5</th>\n",
       "      <td>region_Europe</td>\n",
       "      <td>7.125157</td>\n",
       "    </tr>\n",
       "    <tr>\n",
       "      <th>32</th>\n",
       "      <td>known_for_sports</td>\n",
       "      <td>5.435851</td>\n",
       "    </tr>\n",
       "    <tr>\n",
       "      <th>28</th>\n",
       "      <td>known_for_politics_govt_law</td>\n",
       "      <td>5.011279</td>\n",
       "    </tr>\n",
       "    <tr>\n",
       "      <th>34</th>\n",
       "      <td>known_for_two</td>\n",
       "      <td>4.464452</td>\n",
       "    </tr>\n",
       "    <tr>\n",
       "      <th>3</th>\n",
       "      <td>region_Asia</td>\n",
       "      <td>3.186100</td>\n",
       "    </tr>\n",
       "    <tr>\n",
       "      <th>19</th>\n",
       "      <td>prior_region_North America</td>\n",
       "      <td>2.773534</td>\n",
       "    </tr>\n",
       "    <tr>\n",
       "      <th>29</th>\n",
       "      <td>known_for_sciences</td>\n",
       "      <td>2.687326</td>\n",
       "    </tr>\n",
       "    <tr>\n",
       "      <th>13</th>\n",
       "      <td>prior_region_Asia</td>\n",
       "      <td>2.404713</td>\n",
       "    </tr>\n",
       "    <tr>\n",
       "      <th>9</th>\n",
       "      <td>region_Oceania</td>\n",
       "      <td>2.312369</td>\n",
       "    </tr>\n",
       "    <tr>\n",
       "      <th>21</th>\n",
       "      <td>prior_region_Russian Federation</td>\n",
       "      <td>2.190270</td>\n",
       "    </tr>\n",
       "    <tr>\n",
       "      <th>27</th>\n",
       "      <td>known_for_law_enf_military_operator</td>\n",
       "      <td>1.896876</td>\n",
       "    </tr>\n",
       "    <tr>\n",
       "      <th>16</th>\n",
       "      <td>prior_region_Mid-Cent America/Caribbean</td>\n",
       "      <td>1.832935</td>\n",
       "    </tr>\n",
       "    <tr>\n",
       "      <th>17</th>\n",
       "      <td>prior_region_Middle East</td>\n",
       "      <td>1.727895</td>\n",
       "    </tr>\n",
       "    <tr>\n",
       "      <th>7</th>\n",
       "      <td>region_Middle East</td>\n",
       "      <td>1.727689</td>\n",
       "    </tr>\n",
       "    <tr>\n",
       "      <th>11</th>\n",
       "      <td>region_South America</td>\n",
       "      <td>1.665385</td>\n",
       "    </tr>\n",
       "    <tr>\n",
       "      <th>31</th>\n",
       "      <td>known_for_spiritual</td>\n",
       "      <td>1.639176</td>\n",
       "    </tr>\n",
       "    <tr>\n",
       "      <th>20</th>\n",
       "      <td>prior_region_Oceania</td>\n",
       "      <td>1.562069</td>\n",
       "    </tr>\n",
       "    <tr>\n",
       "      <th>6</th>\n",
       "      <td>region_Mid-Cent America/Caribbean</td>\n",
       "      <td>1.552058</td>\n",
       "    </tr>\n",
       "    <tr>\n",
       "      <th>10</th>\n",
       "      <td>region_Russian Federation</td>\n",
       "      <td>1.510127</td>\n",
       "    </tr>\n",
       "    <tr>\n",
       "      <th>25</th>\n",
       "      <td>known_for_business_farming</td>\n",
       "      <td>1.489481</td>\n",
       "    </tr>\n",
       "    <tr>\n",
       "      <th>12</th>\n",
       "      <td>region_South East Asia</td>\n",
       "      <td>1.466432</td>\n",
       "    </tr>\n",
       "    <tr>\n",
       "      <th>22</th>\n",
       "      <td>prior_region_South America</td>\n",
       "      <td>1.449897</td>\n",
       "    </tr>\n",
       "    <tr>\n",
       "      <th>33</th>\n",
       "      <td>known_for_three_to_five</td>\n",
       "      <td>1.357914</td>\n",
       "    </tr>\n",
       "    <tr>\n",
       "      <th>26</th>\n",
       "      <td>known_for_crime</td>\n",
       "      <td>1.244168</td>\n",
       "    </tr>\n",
       "    <tr>\n",
       "      <th>23</th>\n",
       "      <td>prior_region_South East Asia</td>\n",
       "      <td>1.239654</td>\n",
       "    </tr>\n",
       "    <tr>\n",
       "      <th>30</th>\n",
       "      <td>known_for_social</td>\n",
       "      <td>1.057423</td>\n",
       "    </tr>\n",
       "    <tr>\n",
       "      <th>1</th>\n",
       "      <td>recip_num_references</td>\n",
       "      <td>1.042603</td>\n",
       "    </tr>\n",
       "    <tr>\n",
       "      <th>4</th>\n",
       "      <td>region_Central Asia</td>\n",
       "      <td>1.041918</td>\n",
       "    </tr>\n",
       "    <tr>\n",
       "      <th>14</th>\n",
       "      <td>prior_region_Central Asia</td>\n",
       "      <td>1.039817</td>\n",
       "    </tr>\n",
       "    <tr>\n",
       "      <th>2</th>\n",
       "      <td>years_sqrd</td>\n",
       "      <td>1.024995</td>\n",
       "    </tr>\n",
       "  </tbody>\n",
       "</table>\n",
       "</div>"
      ],
      "text/plain": [
       "                                    feature         VIF\n",
       "0                                     const  384.547174\n",
       "18             prior_region_No Prior Region   16.899062\n",
       "15                      prior_region_Europe   10.310730\n",
       "8                      region_North America    7.834782\n",
       "24                           known_for_arts    7.513847\n",
       "5                             region_Europe    7.125157\n",
       "32                         known_for_sports    5.435851\n",
       "28              known_for_politics_govt_law    5.011279\n",
       "34                            known_for_two    4.464452\n",
       "3                               region_Asia    3.186100\n",
       "19               prior_region_North America    2.773534\n",
       "29                       known_for_sciences    2.687326\n",
       "13                        prior_region_Asia    2.404713\n",
       "9                            region_Oceania    2.312369\n",
       "21          prior_region_Russian Federation    2.190270\n",
       "27      known_for_law_enf_military_operator    1.896876\n",
       "16  prior_region_Mid-Cent America/Caribbean    1.832935\n",
       "17                 prior_region_Middle East    1.727895\n",
       "7                        region_Middle East    1.727689\n",
       "11                     region_South America    1.665385\n",
       "31                      known_for_spiritual    1.639176\n",
       "20                     prior_region_Oceania    1.562069\n",
       "6         region_Mid-Cent America/Caribbean    1.552058\n",
       "10                region_Russian Federation    1.510127\n",
       "25               known_for_business_farming    1.489481\n",
       "12                   region_South East Asia    1.466432\n",
       "22               prior_region_South America    1.449897\n",
       "33                  known_for_three_to_five    1.357914\n",
       "26                          known_for_crime    1.244168\n",
       "23             prior_region_South East Asia    1.239654\n",
       "30                         known_for_social    1.057423\n",
       "1                      recip_num_references    1.042603\n",
       "4                       region_Central Asia    1.041918\n",
       "14                prior_region_Central Asia    1.039817\n",
       "2                                years_sqrd    1.024995"
      ]
     },
     "execution_count": 20,
     "metadata": {},
     "output_type": "execute_result"
    },
    {
     "data": {
      "application/javascript": [
       "\n",
       "            setTimeout(function() {\n",
       "                var nbb_cell_id = 20;\n",
       "                var nbb_unformatted_code = \"# Checking vif\\nvif = checking_vif(X_train).sort_values(by=\\\"VIF\\\", ascending=False)\\nvif\";\n",
       "                var nbb_formatted_code = \"# Checking vif\\nvif = checking_vif(X_train).sort_values(by=\\\"VIF\\\", ascending=False)\\nvif\";\n",
       "                var nbb_cells = Jupyter.notebook.get_cells();\n",
       "                for (var i = 0; i < nbb_cells.length; ++i) {\n",
       "                    if (nbb_cells[i].input_prompt_number == nbb_cell_id) {\n",
       "                        if (nbb_cells[i].get_text() == nbb_unformatted_code) {\n",
       "                             nbb_cells[i].set_text(nbb_formatted_code);\n",
       "                        }\n",
       "                        break;\n",
       "                    }\n",
       "                }\n",
       "            }, 500);\n",
       "            "
      ],
      "text/plain": [
       "<IPython.core.display.Javascript object>"
      ]
     },
     "metadata": {},
     "output_type": "display_data"
    }
   ],
   "source": [
    "# Checking vif\n",
    "vif = checking_vif(X_train).sort_values(by=\"VIF\", ascending=False)\n",
    "vif"
   ]
  },
  {
   "cell_type": "markdown",
   "id": "0e4d23e3",
   "metadata": {},
   "source": [
    "#### Observations:\n",
    "- The majority of predictors have low VIF (< 5), which is good.\n",
    "- We will accept the higher VIF value belonging to the constant as the constant is necessary for the residuals to have zero mean, avoiding bias.\n",
    "- We will proceed by checking the impact on performance of dropping each of the high VIF columns, and drop the column with the least impact on performance, then re-evaluate VIF.  \n",
    "- This process is iterative until we have all low VIF columns.\n",
    "- When dropping dummy variables, we will add the dropped class to the reference class."
   ]
  },
  {
   "cell_type": "markdown",
   "id": "c6916996",
   "metadata": {},
   "source": [
    "#### Function to Treat Multicollinearity"
   ]
  },
  {
   "cell_type": "code",
   "execution_count": 21,
   "id": "ecd2a9ef",
   "metadata": {},
   "outputs": [
    {
     "data": {
      "application/javascript": [
       "\n",
       "            setTimeout(function() {\n",
       "                var nbb_cell_id = 21;\n",
       "                var nbb_unformatted_code = \"def treating_multicollinearity(predictors, target, high_vif_columns):\\n    \\\"\\\"\\\"\\n    Checking the effect of dropping the columns showing high multicollinearity\\n    on model performance (adj. R-squared and RMSE)\\n\\n    predictors: independent variables\\n    target: dependent variable\\n    high_vif_columns: columns having high VIF\\n    \\\"\\\"\\\"\\n    # empty lists to store adj. R-squared and RMSE values\\n    adj_r2 = []\\n    rmse = []\\n\\n    # build ols models by dropping one of the high VIF columns at a time\\n    # store the adjusted R-squared and RMSE in the lists defined previously\\n    for cols in high_vif_columns:\\n        # defining the new train set\\n        train = predictors.loc[:, ~predictors.columns.str.startswith(cols)]\\n\\n        # create the model\\n        olsmodel = sm.OLS(target, train).fit()\\n\\n        # adding adj. R-squared and RMSE to the lists\\n        adj_r2.append(olsmodel.rsquared_adj)\\n        rmse.append(np.sqrt(olsmodel.mse_resid))\\n\\n    # creating a dataframe for the results\\n    temp = pd.DataFrame(\\n        {\\n            \\\"col\\\": high_vif_columns,\\n            \\\"Adj. R-squared after_dropping col\\\": adj_r2,\\n            \\\"RMSE after dropping col\\\": rmse,\\n        }\\n    ).sort_values(by=\\\"Adj. R-squared after_dropping col\\\", ascending=False)\\n    temp.reset_index(drop=True, inplace=True)\\n\\n    return temp\";\n",
       "                var nbb_formatted_code = \"def treating_multicollinearity(predictors, target, high_vif_columns):\\n    \\\"\\\"\\\"\\n    Checking the effect of dropping the columns showing high multicollinearity\\n    on model performance (adj. R-squared and RMSE)\\n\\n    predictors: independent variables\\n    target: dependent variable\\n    high_vif_columns: columns having high VIF\\n    \\\"\\\"\\\"\\n    # empty lists to store adj. R-squared and RMSE values\\n    adj_r2 = []\\n    rmse = []\\n\\n    # build ols models by dropping one of the high VIF columns at a time\\n    # store the adjusted R-squared and RMSE in the lists defined previously\\n    for cols in high_vif_columns:\\n        # defining the new train set\\n        train = predictors.loc[:, ~predictors.columns.str.startswith(cols)]\\n\\n        # create the model\\n        olsmodel = sm.OLS(target, train).fit()\\n\\n        # adding adj. R-squared and RMSE to the lists\\n        adj_r2.append(olsmodel.rsquared_adj)\\n        rmse.append(np.sqrt(olsmodel.mse_resid))\\n\\n    # creating a dataframe for the results\\n    temp = pd.DataFrame(\\n        {\\n            \\\"col\\\": high_vif_columns,\\n            \\\"Adj. R-squared after_dropping col\\\": adj_r2,\\n            \\\"RMSE after dropping col\\\": rmse,\\n        }\\n    ).sort_values(by=\\\"Adj. R-squared after_dropping col\\\", ascending=False)\\n    temp.reset_index(drop=True, inplace=True)\\n\\n    return temp\";\n",
       "                var nbb_cells = Jupyter.notebook.get_cells();\n",
       "                for (var i = 0; i < nbb_cells.length; ++i) {\n",
       "                    if (nbb_cells[i].input_prompt_number == nbb_cell_id) {\n",
       "                        if (nbb_cells[i].get_text() == nbb_unformatted_code) {\n",
       "                             nbb_cells[i].set_text(nbb_formatted_code);\n",
       "                        }\n",
       "                        break;\n",
       "                    }\n",
       "                }\n",
       "            }, 500);\n",
       "            "
      ],
      "text/plain": [
       "<IPython.core.display.Javascript object>"
      ]
     },
     "metadata": {},
     "output_type": "display_data"
    }
   ],
   "source": [
    "def treating_multicollinearity(predictors, target, high_vif_columns):\n",
    "    \"\"\"\n",
    "    Checking the effect of dropping the columns showing high multicollinearity\n",
    "    on model performance (adj. R-squared and RMSE)\n",
    "\n",
    "    predictors: independent variables\n",
    "    target: dependent variable\n",
    "    high_vif_columns: columns having high VIF\n",
    "    \"\"\"\n",
    "    # empty lists to store adj. R-squared and RMSE values\n",
    "    adj_r2 = []\n",
    "    rmse = []\n",
    "\n",
    "    # build ols models by dropping one of the high VIF columns at a time\n",
    "    # store the adjusted R-squared and RMSE in the lists defined previously\n",
    "    for cols in high_vif_columns:\n",
    "        # defining the new train set\n",
    "        train = predictors.loc[:, ~predictors.columns.str.startswith(cols)]\n",
    "\n",
    "        # create the model\n",
    "        olsmodel = sm.OLS(target, train).fit()\n",
    "\n",
    "        # adding adj. R-squared and RMSE to the lists\n",
    "        adj_r2.append(olsmodel.rsquared_adj)\n",
    "        rmse.append(np.sqrt(olsmodel.mse_resid))\n",
    "\n",
    "    # creating a dataframe for the results\n",
    "    temp = pd.DataFrame(\n",
    "        {\n",
    "            \"col\": high_vif_columns,\n",
    "            \"Adj. R-squared after_dropping col\": adj_r2,\n",
    "            \"RMSE after dropping col\": rmse,\n",
    "        }\n",
    "    ).sort_values(by=\"Adj. R-squared after_dropping col\", ascending=False)\n",
    "    temp.reset_index(drop=True, inplace=True)\n",
    "\n",
    "    return temp"
   ]
  },
  {
   "cell_type": "markdown",
   "id": "103cb62a",
   "metadata": {},
   "source": [
    "#### Checking Impact of Dropping Columns on Model Performance"
   ]
  },
  {
   "cell_type": "code",
   "execution_count": 22,
   "id": "9a59fda9",
   "metadata": {},
   "outputs": [
    {
     "data": {
      "text/html": [
       "<div>\n",
       "<style scoped>\n",
       "    .dataframe tbody tr th:only-of-type {\n",
       "        vertical-align: middle;\n",
       "    }\n",
       "\n",
       "    .dataframe tbody tr th {\n",
       "        vertical-align: top;\n",
       "    }\n",
       "\n",
       "    .dataframe thead th {\n",
       "        text-align: right;\n",
       "    }\n",
       "</style>\n",
       "<table border=\"1\" class=\"dataframe\">\n",
       "  <thead>\n",
       "    <tr style=\"text-align: right;\">\n",
       "      <th></th>\n",
       "      <th>col</th>\n",
       "      <th>Adj. R-squared after_dropping col</th>\n",
       "      <th>RMSE after dropping col</th>\n",
       "    </tr>\n",
       "  </thead>\n",
       "  <tbody>\n",
       "    <tr>\n",
       "      <th>0</th>\n",
       "      <td>prior_region_No Prior Region</td>\n",
       "      <td>0.092682</td>\n",
       "      <td>2084.258561</td>\n",
       "    </tr>\n",
       "    <tr>\n",
       "      <th>1</th>\n",
       "      <td>prior_region_Europe</td>\n",
       "      <td>0.092019</td>\n",
       "      <td>2085.020408</td>\n",
       "    </tr>\n",
       "    <tr>\n",
       "      <th>2</th>\n",
       "      <td>known_for_politics_govt_law</td>\n",
       "      <td>0.091983</td>\n",
       "      <td>2085.062195</td>\n",
       "    </tr>\n",
       "    <tr>\n",
       "      <th>3</th>\n",
       "      <td>known_for_arts</td>\n",
       "      <td>0.089207</td>\n",
       "      <td>2088.246598</td>\n",
       "    </tr>\n",
       "    <tr>\n",
       "      <th>4</th>\n",
       "      <td>known_for_sports</td>\n",
       "      <td>0.083644</td>\n",
       "      <td>2094.613784</td>\n",
       "    </tr>\n",
       "    <tr>\n",
       "      <th>5</th>\n",
       "      <td>region_Europe</td>\n",
       "      <td>0.081628</td>\n",
       "      <td>2096.916645</td>\n",
       "    </tr>\n",
       "    <tr>\n",
       "      <th>6</th>\n",
       "      <td>region_North America</td>\n",
       "      <td>0.080000</td>\n",
       "      <td>2098.774392</td>\n",
       "    </tr>\n",
       "  </tbody>\n",
       "</table>\n",
       "</div>"
      ],
      "text/plain": [
       "                            col  Adj. R-squared after_dropping col  \\\n",
       "0  prior_region_No Prior Region                           0.092682   \n",
       "1           prior_region_Europe                           0.092019   \n",
       "2   known_for_politics_govt_law                           0.091983   \n",
       "3                known_for_arts                           0.089207   \n",
       "4              known_for_sports                           0.083644   \n",
       "5                 region_Europe                           0.081628   \n",
       "6          region_North America                           0.080000   \n",
       "\n",
       "   RMSE after dropping col  \n",
       "0              2084.258561  \n",
       "1              2085.020408  \n",
       "2              2085.062195  \n",
       "3              2088.246598  \n",
       "4              2094.613784  \n",
       "5              2096.916645  \n",
       "6              2098.774392  "
      ]
     },
     "execution_count": 22,
     "metadata": {},
     "output_type": "execute_result"
    },
    {
     "data": {
      "application/javascript": [
       "\n",
       "            setTimeout(function() {\n",
       "                var nbb_cell_id = 22;\n",
       "                var nbb_unformatted_code = \"# Checking impact of dropping columns\\ncol_list = vif[vif[\\\"VIF\\\"] >= 5][\\\"feature\\\"].tolist()\\ncol_list.remove(\\\"const\\\")\\n\\nresults = treating_multicollinearity(X_train, y_train, col_list)\\nresults\";\n",
       "                var nbb_formatted_code = \"# Checking impact of dropping columns\\ncol_list = vif[vif[\\\"VIF\\\"] >= 5][\\\"feature\\\"].tolist()\\ncol_list.remove(\\\"const\\\")\\n\\nresults = treating_multicollinearity(X_train, y_train, col_list)\\nresults\";\n",
       "                var nbb_cells = Jupyter.notebook.get_cells();\n",
       "                for (var i = 0; i < nbb_cells.length; ++i) {\n",
       "                    if (nbb_cells[i].input_prompt_number == nbb_cell_id) {\n",
       "                        if (nbb_cells[i].get_text() == nbb_unformatted_code) {\n",
       "                             nbb_cells[i].set_text(nbb_formatted_code);\n",
       "                        }\n",
       "                        break;\n",
       "                    }\n",
       "                }\n",
       "            }, 500);\n",
       "            "
      ],
      "text/plain": [
       "<IPython.core.display.Javascript object>"
      ]
     },
     "metadata": {},
     "output_type": "display_data"
    }
   ],
   "source": [
    "# Checking impact of dropping columns\n",
    "col_list = vif[vif[\"VIF\"] >= 5][\"feature\"].tolist()\n",
    "col_list.remove(\"const\")\n",
    "\n",
    "results = treating_multicollinearity(X_train, y_train, col_list)\n",
    "results"
   ]
  },
  {
   "cell_type": "markdown",
   "id": "caad8b32",
   "metadata": {},
   "source": [
    "#### Observations:\n",
    "- Of the high VIF columns, `prior_region_No Prior Region` has the least impact on performance when dropped, so we will drop it."
   ]
  },
  {
   "cell_type": "markdown",
   "id": "e80c890a",
   "metadata": {},
   "source": [
    "#### Dropping `prior_region_No Prior Region`"
   ]
  },
  {
   "cell_type": "code",
   "execution_count": 23,
   "id": "425e57e0",
   "metadata": {},
   "outputs": [
    {
     "data": {
      "text/html": [
       "<div>\n",
       "<style scoped>\n",
       "    .dataframe tbody tr th:only-of-type {\n",
       "        vertical-align: middle;\n",
       "    }\n",
       "\n",
       "    .dataframe tbody tr th {\n",
       "        vertical-align: top;\n",
       "    }\n",
       "\n",
       "    .dataframe thead th {\n",
       "        text-align: right;\n",
       "    }\n",
       "</style>\n",
       "<table border=\"1\" class=\"dataframe\">\n",
       "  <thead>\n",
       "    <tr style=\"text-align: right;\">\n",
       "      <th></th>\n",
       "      <th>feature</th>\n",
       "      <th>VIF</th>\n",
       "    </tr>\n",
       "  </thead>\n",
       "  <tbody>\n",
       "    <tr>\n",
       "      <th>0</th>\n",
       "      <td>const</td>\n",
       "      <td>67.275901</td>\n",
       "    </tr>\n",
       "    <tr>\n",
       "      <th>8</th>\n",
       "      <td>region_North America</td>\n",
       "      <td>7.831911</td>\n",
       "    </tr>\n",
       "    <tr>\n",
       "      <th>23</th>\n",
       "      <td>known_for_arts</td>\n",
       "      <td>7.513550</td>\n",
       "    </tr>\n",
       "    <tr>\n",
       "      <th>5</th>\n",
       "      <td>region_Europe</td>\n",
       "      <td>7.124158</td>\n",
       "    </tr>\n",
       "    <tr>\n",
       "      <th>31</th>\n",
       "      <td>known_for_sports</td>\n",
       "      <td>5.435844</td>\n",
       "    </tr>\n",
       "    <tr>\n",
       "      <th>27</th>\n",
       "      <td>known_for_politics_govt_law</td>\n",
       "      <td>5.011271</td>\n",
       "    </tr>\n",
       "    <tr>\n",
       "      <th>33</th>\n",
       "      <td>known_for_two</td>\n",
       "      <td>4.464402</td>\n",
       "    </tr>\n",
       "    <tr>\n",
       "      <th>3</th>\n",
       "      <td>region_Asia</td>\n",
       "      <td>3.184495</td>\n",
       "    </tr>\n",
       "    <tr>\n",
       "      <th>28</th>\n",
       "      <td>known_for_sciences</td>\n",
       "      <td>2.687146</td>\n",
       "    </tr>\n",
       "    <tr>\n",
       "      <th>9</th>\n",
       "      <td>region_Oceania</td>\n",
       "      <td>2.312174</td>\n",
       "    </tr>\n",
       "    <tr>\n",
       "      <th>26</th>\n",
       "      <td>known_for_law_enf_military_operator</td>\n",
       "      <td>1.896870</td>\n",
       "    </tr>\n",
       "    <tr>\n",
       "      <th>7</th>\n",
       "      <td>region_Middle East</td>\n",
       "      <td>1.727606</td>\n",
       "    </tr>\n",
       "    <tr>\n",
       "      <th>11</th>\n",
       "      <td>region_South America</td>\n",
       "      <td>1.664899</td>\n",
       "    </tr>\n",
       "    <tr>\n",
       "      <th>30</th>\n",
       "      <td>known_for_spiritual</td>\n",
       "      <td>1.639175</td>\n",
       "    </tr>\n",
       "    <tr>\n",
       "      <th>6</th>\n",
       "      <td>region_Mid-Cent America/Caribbean</td>\n",
       "      <td>1.551908</td>\n",
       "    </tr>\n",
       "    <tr>\n",
       "      <th>10</th>\n",
       "      <td>region_Russian Federation</td>\n",
       "      <td>1.509786</td>\n",
       "    </tr>\n",
       "    <tr>\n",
       "      <th>24</th>\n",
       "      <td>known_for_business_farming</td>\n",
       "      <td>1.489462</td>\n",
       "    </tr>\n",
       "    <tr>\n",
       "      <th>12</th>\n",
       "      <td>region_South East Asia</td>\n",
       "      <td>1.466120</td>\n",
       "    </tr>\n",
       "    <tr>\n",
       "      <th>32</th>\n",
       "      <td>known_for_three_to_five</td>\n",
       "      <td>1.357914</td>\n",
       "    </tr>\n",
       "    <tr>\n",
       "      <th>25</th>\n",
       "      <td>known_for_crime</td>\n",
       "      <td>1.244163</td>\n",
       "    </tr>\n",
       "    <tr>\n",
       "      <th>29</th>\n",
       "      <td>known_for_social</td>\n",
       "      <td>1.057408</td>\n",
       "    </tr>\n",
       "    <tr>\n",
       "      <th>1</th>\n",
       "      <td>recip_num_references</td>\n",
       "      <td>1.042437</td>\n",
       "    </tr>\n",
       "    <tr>\n",
       "      <th>4</th>\n",
       "      <td>region_Central Asia</td>\n",
       "      <td>1.041893</td>\n",
       "    </tr>\n",
       "    <tr>\n",
       "      <th>20</th>\n",
       "      <td>prior_region_Russian Federation</td>\n",
       "      <td>1.040760</td>\n",
       "    </tr>\n",
       "    <tr>\n",
       "      <th>2</th>\n",
       "      <td>years_sqrd</td>\n",
       "      <td>1.024928</td>\n",
       "    </tr>\n",
       "    <tr>\n",
       "      <th>15</th>\n",
       "      <td>prior_region_Europe</td>\n",
       "      <td>1.015040</td>\n",
       "    </tr>\n",
       "    <tr>\n",
       "      <th>14</th>\n",
       "      <td>prior_region_Central Asia</td>\n",
       "      <td>1.006744</td>\n",
       "    </tr>\n",
       "    <tr>\n",
       "      <th>13</th>\n",
       "      <td>prior_region_Asia</td>\n",
       "      <td>1.003941</td>\n",
       "    </tr>\n",
       "    <tr>\n",
       "      <th>17</th>\n",
       "      <td>prior_region_Middle East</td>\n",
       "      <td>1.003902</td>\n",
       "    </tr>\n",
       "    <tr>\n",
       "      <th>19</th>\n",
       "      <td>prior_region_Oceania</td>\n",
       "      <td>1.003403</td>\n",
       "    </tr>\n",
       "    <tr>\n",
       "      <th>18</th>\n",
       "      <td>prior_region_North America</td>\n",
       "      <td>1.003389</td>\n",
       "    </tr>\n",
       "    <tr>\n",
       "      <th>16</th>\n",
       "      <td>prior_region_Mid-Cent America/Caribbean</td>\n",
       "      <td>1.002147</td>\n",
       "    </tr>\n",
       "    <tr>\n",
       "      <th>21</th>\n",
       "      <td>prior_region_South America</td>\n",
       "      <td>1.001432</td>\n",
       "    </tr>\n",
       "    <tr>\n",
       "      <th>22</th>\n",
       "      <td>prior_region_South East Asia</td>\n",
       "      <td>1.000630</td>\n",
       "    </tr>\n",
       "  </tbody>\n",
       "</table>\n",
       "</div>"
      ],
      "text/plain": [
       "                                    feature        VIF\n",
       "0                                     const  67.275901\n",
       "8                      region_North America   7.831911\n",
       "23                           known_for_arts   7.513550\n",
       "5                             region_Europe   7.124158\n",
       "31                         known_for_sports   5.435844\n",
       "27              known_for_politics_govt_law   5.011271\n",
       "33                            known_for_two   4.464402\n",
       "3                               region_Asia   3.184495\n",
       "28                       known_for_sciences   2.687146\n",
       "9                            region_Oceania   2.312174\n",
       "26      known_for_law_enf_military_operator   1.896870\n",
       "7                        region_Middle East   1.727606\n",
       "11                     region_South America   1.664899\n",
       "30                      known_for_spiritual   1.639175\n",
       "6         region_Mid-Cent America/Caribbean   1.551908\n",
       "10                region_Russian Federation   1.509786\n",
       "24               known_for_business_farming   1.489462\n",
       "12                   region_South East Asia   1.466120\n",
       "32                  known_for_three_to_five   1.357914\n",
       "25                          known_for_crime   1.244163\n",
       "29                         known_for_social   1.057408\n",
       "1                      recip_num_references   1.042437\n",
       "4                       region_Central Asia   1.041893\n",
       "20          prior_region_Russian Federation   1.040760\n",
       "2                                years_sqrd   1.024928\n",
       "15                      prior_region_Europe   1.015040\n",
       "14                prior_region_Central Asia   1.006744\n",
       "13                        prior_region_Asia   1.003941\n",
       "17                 prior_region_Middle East   1.003902\n",
       "19                     prior_region_Oceania   1.003403\n",
       "18               prior_region_North America   1.003389\n",
       "16  prior_region_Mid-Cent America/Caribbean   1.002147\n",
       "21               prior_region_South America   1.001432\n",
       "22             prior_region_South East Asia   1.000630"
      ]
     },
     "execution_count": 23,
     "metadata": {},
     "output_type": "execute_result"
    },
    {
     "data": {
      "application/javascript": [
       "\n",
       "            setTimeout(function() {\n",
       "                var nbb_cell_id = 23;\n",
       "                var nbb_unformatted_code = \"# Dropping prior_region_No Prior Region column\\ncol_to_drop = \\\"prior_region_No Prior Region\\\"\\nX_train = X_train.drop(col_to_drop, axis=1)\\nX_test = X_test.drop(col_to_drop, axis=1)\\n\\n# Recheck VIF\\nvif = checking_vif(X_train).sort_values(by=\\\"VIF\\\", ascending=False)\\nvif\";\n",
       "                var nbb_formatted_code = \"# Dropping prior_region_No Prior Region column\\ncol_to_drop = \\\"prior_region_No Prior Region\\\"\\nX_train = X_train.drop(col_to_drop, axis=1)\\nX_test = X_test.drop(col_to_drop, axis=1)\\n\\n# Recheck VIF\\nvif = checking_vif(X_train).sort_values(by=\\\"VIF\\\", ascending=False)\\nvif\";\n",
       "                var nbb_cells = Jupyter.notebook.get_cells();\n",
       "                for (var i = 0; i < nbb_cells.length; ++i) {\n",
       "                    if (nbb_cells[i].input_prompt_number == nbb_cell_id) {\n",
       "                        if (nbb_cells[i].get_text() == nbb_unformatted_code) {\n",
       "                             nbb_cells[i].set_text(nbb_formatted_code);\n",
       "                        }\n",
       "                        break;\n",
       "                    }\n",
       "                }\n",
       "            }, 500);\n",
       "            "
      ],
      "text/plain": [
       "<IPython.core.display.Javascript object>"
      ]
     },
     "metadata": {},
     "output_type": "display_data"
    }
   ],
   "source": [
    "# Dropping prior_region_No Prior Region column\n",
    "col_to_drop = \"prior_region_No Prior Region\"\n",
    "X_train = X_train.drop(col_to_drop, axis=1)\n",
    "X_test = X_test.drop(col_to_drop, axis=1)\n",
    "\n",
    "# Recheck VIF\n",
    "vif = checking_vif(X_train).sort_values(by=\"VIF\", ascending=False)\n",
    "vif"
   ]
  },
  {
   "cell_type": "markdown",
   "id": "05bedfc7",
   "metadata": {},
   "source": [
    "#### Checking Impact of Dropping Columns on Model Performance"
   ]
  },
  {
   "cell_type": "code",
   "execution_count": 24,
   "id": "6ec1cd0f",
   "metadata": {},
   "outputs": [
    {
     "data": {
      "text/html": [
       "<div>\n",
       "<style scoped>\n",
       "    .dataframe tbody tr th:only-of-type {\n",
       "        vertical-align: middle;\n",
       "    }\n",
       "\n",
       "    .dataframe tbody tr th {\n",
       "        vertical-align: top;\n",
       "    }\n",
       "\n",
       "    .dataframe thead th {\n",
       "        text-align: right;\n",
       "    }\n",
       "</style>\n",
       "<table border=\"1\" class=\"dataframe\">\n",
       "  <thead>\n",
       "    <tr style=\"text-align: right;\">\n",
       "      <th></th>\n",
       "      <th>col</th>\n",
       "      <th>Adj. R-squared after_dropping col</th>\n",
       "      <th>RMSE after dropping col</th>\n",
       "    </tr>\n",
       "  </thead>\n",
       "  <tbody>\n",
       "    <tr>\n",
       "      <th>0</th>\n",
       "      <td>known_for_politics_govt_law</td>\n",
       "      <td>0.091895</td>\n",
       "      <td>2085.162700</td>\n",
       "    </tr>\n",
       "    <tr>\n",
       "      <th>1</th>\n",
       "      <td>known_for_arts</td>\n",
       "      <td>0.089113</td>\n",
       "      <td>2088.354821</td>\n",
       "    </tr>\n",
       "    <tr>\n",
       "      <th>2</th>\n",
       "      <td>known_for_sports</td>\n",
       "      <td>0.083560</td>\n",
       "      <td>2094.710449</td>\n",
       "    </tr>\n",
       "    <tr>\n",
       "      <th>3</th>\n",
       "      <td>region_Europe</td>\n",
       "      <td>0.081515</td>\n",
       "      <td>2097.045766</td>\n",
       "    </tr>\n",
       "    <tr>\n",
       "      <th>4</th>\n",
       "      <td>region_North America</td>\n",
       "      <td>0.079866</td>\n",
       "      <td>2098.927655</td>\n",
       "    </tr>\n",
       "  </tbody>\n",
       "</table>\n",
       "</div>"
      ],
      "text/plain": [
       "                           col  Adj. R-squared after_dropping col  \\\n",
       "0  known_for_politics_govt_law                           0.091895   \n",
       "1               known_for_arts                           0.089113   \n",
       "2             known_for_sports                           0.083560   \n",
       "3                region_Europe                           0.081515   \n",
       "4         region_North America                           0.079866   \n",
       "\n",
       "   RMSE after dropping col  \n",
       "0              2085.162700  \n",
       "1              2088.354821  \n",
       "2              2094.710449  \n",
       "3              2097.045766  \n",
       "4              2098.927655  "
      ]
     },
     "execution_count": 24,
     "metadata": {},
     "output_type": "execute_result"
    },
    {
     "data": {
      "application/javascript": [
       "\n",
       "            setTimeout(function() {\n",
       "                var nbb_cell_id = 24;\n",
       "                var nbb_unformatted_code = \"# Checking impact of dropping columns\\ncol_list = vif[vif[\\\"VIF\\\"] >= 5][\\\"feature\\\"].tolist()\\ncol_list.remove(\\\"const\\\")\\n\\nresults = treating_multicollinearity(X_train, y_train, col_list)\\nresults\";\n",
       "                var nbb_formatted_code = \"# Checking impact of dropping columns\\ncol_list = vif[vif[\\\"VIF\\\"] >= 5][\\\"feature\\\"].tolist()\\ncol_list.remove(\\\"const\\\")\\n\\nresults = treating_multicollinearity(X_train, y_train, col_list)\\nresults\";\n",
       "                var nbb_cells = Jupyter.notebook.get_cells();\n",
       "                for (var i = 0; i < nbb_cells.length; ++i) {\n",
       "                    if (nbb_cells[i].input_prompt_number == nbb_cell_id) {\n",
       "                        if (nbb_cells[i].get_text() == nbb_unformatted_code) {\n",
       "                             nbb_cells[i].set_text(nbb_formatted_code);\n",
       "                        }\n",
       "                        break;\n",
       "                    }\n",
       "                }\n",
       "            }, 500);\n",
       "            "
      ],
      "text/plain": [
       "<IPython.core.display.Javascript object>"
      ]
     },
     "metadata": {},
     "output_type": "display_data"
    }
   ],
   "source": [
    "# Checking impact of dropping columns\n",
    "col_list = vif[vif[\"VIF\"] >= 5][\"feature\"].tolist()\n",
    "col_list.remove(\"const\")\n",
    "\n",
    "results = treating_multicollinearity(X_train, y_train, col_list)\n",
    "results"
   ]
  },
  {
   "cell_type": "markdown",
   "id": "2852f9cf",
   "metadata": {},
   "source": [
    "#### Observations:\n",
    "- Of the remaining high VIF columns, `known_for_politics_govt_law` has the least impact on performance when dropped, so we will drop it."
   ]
  },
  {
   "cell_type": "markdown",
   "id": "104fc6fa",
   "metadata": {},
   "source": [
    "#### Dropping `known_for_politics_govt_law`"
   ]
  },
  {
   "cell_type": "code",
   "execution_count": 25,
   "id": "6f28c50c",
   "metadata": {},
   "outputs": [
    {
     "data": {
      "text/html": [
       "<div>\n",
       "<style scoped>\n",
       "    .dataframe tbody tr th:only-of-type {\n",
       "        vertical-align: middle;\n",
       "    }\n",
       "\n",
       "    .dataframe tbody tr th {\n",
       "        vertical-align: top;\n",
       "    }\n",
       "\n",
       "    .dataframe thead th {\n",
       "        text-align: right;\n",
       "    }\n",
       "</style>\n",
       "<table border=\"1\" class=\"dataframe\">\n",
       "  <thead>\n",
       "    <tr style=\"text-align: right;\">\n",
       "      <th></th>\n",
       "      <th>feature</th>\n",
       "      <th>VIF</th>\n",
       "    </tr>\n",
       "  </thead>\n",
       "  <tbody>\n",
       "    <tr>\n",
       "      <th>0</th>\n",
       "      <td>const</td>\n",
       "      <td>38.748676</td>\n",
       "    </tr>\n",
       "    <tr>\n",
       "      <th>8</th>\n",
       "      <td>region_North America</td>\n",
       "      <td>7.809261</td>\n",
       "    </tr>\n",
       "    <tr>\n",
       "      <th>5</th>\n",
       "      <td>region_Europe</td>\n",
       "      <td>7.093694</td>\n",
       "    </tr>\n",
       "    <tr>\n",
       "      <th>3</th>\n",
       "      <td>region_Asia</td>\n",
       "      <td>3.181511</td>\n",
       "    </tr>\n",
       "    <tr>\n",
       "      <th>9</th>\n",
       "      <td>region_Oceania</td>\n",
       "      <td>2.310341</td>\n",
       "    </tr>\n",
       "    <tr>\n",
       "      <th>23</th>\n",
       "      <td>known_for_arts</td>\n",
       "      <td>1.862494</td>\n",
       "    </tr>\n",
       "    <tr>\n",
       "      <th>7</th>\n",
       "      <td>region_Middle East</td>\n",
       "      <td>1.725873</td>\n",
       "    </tr>\n",
       "    <tr>\n",
       "      <th>11</th>\n",
       "      <td>region_South America</td>\n",
       "      <td>1.664228</td>\n",
       "    </tr>\n",
       "    <tr>\n",
       "      <th>30</th>\n",
       "      <td>known_for_sports</td>\n",
       "      <td>1.633279</td>\n",
       "    </tr>\n",
       "    <tr>\n",
       "      <th>6</th>\n",
       "      <td>region_Mid-Cent America/Caribbean</td>\n",
       "      <td>1.551513</td>\n",
       "    </tr>\n",
       "    <tr>\n",
       "      <th>10</th>\n",
       "      <td>region_Russian Federation</td>\n",
       "      <td>1.507926</td>\n",
       "    </tr>\n",
       "    <tr>\n",
       "      <th>32</th>\n",
       "      <td>known_for_two</td>\n",
       "      <td>1.490485</td>\n",
       "    </tr>\n",
       "    <tr>\n",
       "      <th>12</th>\n",
       "      <td>region_South East Asia</td>\n",
       "      <td>1.466116</td>\n",
       "    </tr>\n",
       "    <tr>\n",
       "      <th>27</th>\n",
       "      <td>known_for_sciences</td>\n",
       "      <td>1.258287</td>\n",
       "    </tr>\n",
       "    <tr>\n",
       "      <th>26</th>\n",
       "      <td>known_for_law_enf_military_operator</td>\n",
       "      <td>1.137947</td>\n",
       "    </tr>\n",
       "    <tr>\n",
       "      <th>29</th>\n",
       "      <td>known_for_spiritual</td>\n",
       "      <td>1.092514</td>\n",
       "    </tr>\n",
       "    <tr>\n",
       "      <th>24</th>\n",
       "      <td>known_for_business_farming</td>\n",
       "      <td>1.072476</td>\n",
       "    </tr>\n",
       "    <tr>\n",
       "      <th>31</th>\n",
       "      <td>known_for_three_to_five</td>\n",
       "      <td>1.054228</td>\n",
       "    </tr>\n",
       "    <tr>\n",
       "      <th>1</th>\n",
       "      <td>recip_num_references</td>\n",
       "      <td>1.042437</td>\n",
       "    </tr>\n",
       "    <tr>\n",
       "      <th>4</th>\n",
       "      <td>region_Central Asia</td>\n",
       "      <td>1.041848</td>\n",
       "    </tr>\n",
       "    <tr>\n",
       "      <th>25</th>\n",
       "      <td>known_for_crime</td>\n",
       "      <td>1.041373</td>\n",
       "    </tr>\n",
       "    <tr>\n",
       "      <th>20</th>\n",
       "      <td>prior_region_Russian Federation</td>\n",
       "      <td>1.040714</td>\n",
       "    </tr>\n",
       "    <tr>\n",
       "      <th>2</th>\n",
       "      <td>years_sqrd</td>\n",
       "      <td>1.024927</td>\n",
       "    </tr>\n",
       "    <tr>\n",
       "      <th>15</th>\n",
       "      <td>prior_region_Europe</td>\n",
       "      <td>1.013767</td>\n",
       "    </tr>\n",
       "    <tr>\n",
       "      <th>28</th>\n",
       "      <td>known_for_social</td>\n",
       "      <td>1.008594</td>\n",
       "    </tr>\n",
       "    <tr>\n",
       "      <th>14</th>\n",
       "      <td>prior_region_Central Asia</td>\n",
       "      <td>1.006714</td>\n",
       "    </tr>\n",
       "    <tr>\n",
       "      <th>17</th>\n",
       "      <td>prior_region_Middle East</td>\n",
       "      <td>1.003868</td>\n",
       "    </tr>\n",
       "    <tr>\n",
       "      <th>13</th>\n",
       "      <td>prior_region_Asia</td>\n",
       "      <td>1.003755</td>\n",
       "    </tr>\n",
       "    <tr>\n",
       "      <th>19</th>\n",
       "      <td>prior_region_Oceania</td>\n",
       "      <td>1.003373</td>\n",
       "    </tr>\n",
       "    <tr>\n",
       "      <th>18</th>\n",
       "      <td>prior_region_North America</td>\n",
       "      <td>1.003227</td>\n",
       "    </tr>\n",
       "    <tr>\n",
       "      <th>16</th>\n",
       "      <td>prior_region_Mid-Cent America/Caribbean</td>\n",
       "      <td>1.002038</td>\n",
       "    </tr>\n",
       "    <tr>\n",
       "      <th>21</th>\n",
       "      <td>prior_region_South America</td>\n",
       "      <td>1.001431</td>\n",
       "    </tr>\n",
       "    <tr>\n",
       "      <th>22</th>\n",
       "      <td>prior_region_South East Asia</td>\n",
       "      <td>1.000618</td>\n",
       "    </tr>\n",
       "  </tbody>\n",
       "</table>\n",
       "</div>"
      ],
      "text/plain": [
       "                                    feature        VIF\n",
       "0                                     const  38.748676\n",
       "8                      region_North America   7.809261\n",
       "5                             region_Europe   7.093694\n",
       "3                               region_Asia   3.181511\n",
       "9                            region_Oceania   2.310341\n",
       "23                           known_for_arts   1.862494\n",
       "7                        region_Middle East   1.725873\n",
       "11                     region_South America   1.664228\n",
       "30                         known_for_sports   1.633279\n",
       "6         region_Mid-Cent America/Caribbean   1.551513\n",
       "10                region_Russian Federation   1.507926\n",
       "32                            known_for_two   1.490485\n",
       "12                   region_South East Asia   1.466116\n",
       "27                       known_for_sciences   1.258287\n",
       "26      known_for_law_enf_military_operator   1.137947\n",
       "29                      known_for_spiritual   1.092514\n",
       "24               known_for_business_farming   1.072476\n",
       "31                  known_for_three_to_five   1.054228\n",
       "1                      recip_num_references   1.042437\n",
       "4                       region_Central Asia   1.041848\n",
       "25                          known_for_crime   1.041373\n",
       "20          prior_region_Russian Federation   1.040714\n",
       "2                                years_sqrd   1.024927\n",
       "15                      prior_region_Europe   1.013767\n",
       "28                         known_for_social   1.008594\n",
       "14                prior_region_Central Asia   1.006714\n",
       "17                 prior_region_Middle East   1.003868\n",
       "13                        prior_region_Asia   1.003755\n",
       "19                     prior_region_Oceania   1.003373\n",
       "18               prior_region_North America   1.003227\n",
       "16  prior_region_Mid-Cent America/Caribbean   1.002038\n",
       "21               prior_region_South America   1.001431\n",
       "22             prior_region_South East Asia   1.000618"
      ]
     },
     "execution_count": 25,
     "metadata": {},
     "output_type": "execute_result"
    },
    {
     "data": {
      "application/javascript": [
       "\n",
       "            setTimeout(function() {\n",
       "                var nbb_cell_id = 25;\n",
       "                var nbb_unformatted_code = \"# Dropping known_for_politics_govt_law column\\ncol_to_drop = \\\"known_for_politics_govt_law\\\"\\nX_train = X_train.drop(col_to_drop, axis=1)\\nX_test = X_test.drop(col_to_drop, axis=1)\\n\\n# Recheck VIF\\nvif = checking_vif(X_train).sort_values(by=\\\"VIF\\\", ascending=False)\\nvif\";\n",
       "                var nbb_formatted_code = \"# Dropping known_for_politics_govt_law column\\ncol_to_drop = \\\"known_for_politics_govt_law\\\"\\nX_train = X_train.drop(col_to_drop, axis=1)\\nX_test = X_test.drop(col_to_drop, axis=1)\\n\\n# Recheck VIF\\nvif = checking_vif(X_train).sort_values(by=\\\"VIF\\\", ascending=False)\\nvif\";\n",
       "                var nbb_cells = Jupyter.notebook.get_cells();\n",
       "                for (var i = 0; i < nbb_cells.length; ++i) {\n",
       "                    if (nbb_cells[i].input_prompt_number == nbb_cell_id) {\n",
       "                        if (nbb_cells[i].get_text() == nbb_unformatted_code) {\n",
       "                             nbb_cells[i].set_text(nbb_formatted_code);\n",
       "                        }\n",
       "                        break;\n",
       "                    }\n",
       "                }\n",
       "            }, 500);\n",
       "            "
      ],
      "text/plain": [
       "<IPython.core.display.Javascript object>"
      ]
     },
     "metadata": {},
     "output_type": "display_data"
    }
   ],
   "source": [
    "# Dropping known_for_politics_govt_law column\n",
    "col_to_drop = \"known_for_politics_govt_law\"\n",
    "X_train = X_train.drop(col_to_drop, axis=1)\n",
    "X_test = X_test.drop(col_to_drop, axis=1)\n",
    "\n",
    "# Recheck VIF\n",
    "vif = checking_vif(X_train).sort_values(by=\"VIF\", ascending=False)\n",
    "vif"
   ]
  },
  {
   "cell_type": "markdown",
   "id": "51f68962",
   "metadata": {},
   "source": [
    "#### Checking Impact of Dropping Columns on Model Performance"
   ]
  },
  {
   "cell_type": "code",
   "execution_count": 26,
   "id": "23bc2a84",
   "metadata": {},
   "outputs": [
    {
     "data": {
      "text/html": [
       "<div>\n",
       "<style scoped>\n",
       "    .dataframe tbody tr th:only-of-type {\n",
       "        vertical-align: middle;\n",
       "    }\n",
       "\n",
       "    .dataframe tbody tr th {\n",
       "        vertical-align: top;\n",
       "    }\n",
       "\n",
       "    .dataframe thead th {\n",
       "        text-align: right;\n",
       "    }\n",
       "</style>\n",
       "<table border=\"1\" class=\"dataframe\">\n",
       "  <thead>\n",
       "    <tr style=\"text-align: right;\">\n",
       "      <th></th>\n",
       "      <th>col</th>\n",
       "      <th>Adj. R-squared after_dropping col</th>\n",
       "      <th>RMSE after dropping col</th>\n",
       "    </tr>\n",
       "  </thead>\n",
       "  <tbody>\n",
       "    <tr>\n",
       "      <th>0</th>\n",
       "      <td>region_Europe</td>\n",
       "      <td>0.080284</td>\n",
       "      <td>2098.450789</td>\n",
       "    </tr>\n",
       "    <tr>\n",
       "      <th>1</th>\n",
       "      <td>region_North America</td>\n",
       "      <td>0.078694</td>\n",
       "      <td>2100.264008</td>\n",
       "    </tr>\n",
       "  </tbody>\n",
       "</table>\n",
       "</div>"
      ],
      "text/plain": [
       "                    col  Adj. R-squared after_dropping col  \\\n",
       "0         region_Europe                           0.080284   \n",
       "1  region_North America                           0.078694   \n",
       "\n",
       "   RMSE after dropping col  \n",
       "0              2098.450789  \n",
       "1              2100.264008  "
      ]
     },
     "execution_count": 26,
     "metadata": {},
     "output_type": "execute_result"
    },
    {
     "data": {
      "application/javascript": [
       "\n",
       "            setTimeout(function() {\n",
       "                var nbb_cell_id = 26;\n",
       "                var nbb_unformatted_code = \"# Checking impact of dropping columns\\ncol_list = vif[vif[\\\"VIF\\\"] >= 5][\\\"feature\\\"].tolist()\\ncol_list.remove(\\\"const\\\")\\n\\nresults = treating_multicollinearity(X_train, y_train, col_list)\\nresults\";\n",
       "                var nbb_formatted_code = \"# Checking impact of dropping columns\\ncol_list = vif[vif[\\\"VIF\\\"] >= 5][\\\"feature\\\"].tolist()\\ncol_list.remove(\\\"const\\\")\\n\\nresults = treating_multicollinearity(X_train, y_train, col_list)\\nresults\";\n",
       "                var nbb_cells = Jupyter.notebook.get_cells();\n",
       "                for (var i = 0; i < nbb_cells.length; ++i) {\n",
       "                    if (nbb_cells[i].input_prompt_number == nbb_cell_id) {\n",
       "                        if (nbb_cells[i].get_text() == nbb_unformatted_code) {\n",
       "                             nbb_cells[i].set_text(nbb_formatted_code);\n",
       "                        }\n",
       "                        break;\n",
       "                    }\n",
       "                }\n",
       "            }, 500);\n",
       "            "
      ],
      "text/plain": [
       "<IPython.core.display.Javascript object>"
      ]
     },
     "metadata": {},
     "output_type": "display_data"
    }
   ],
   "source": [
    "# Checking impact of dropping columns\n",
    "col_list = vif[vif[\"VIF\"] >= 5][\"feature\"].tolist()\n",
    "col_list.remove(\"const\")\n",
    "\n",
    "results = treating_multicollinearity(X_train, y_train, col_list)\n",
    "results"
   ]
  },
  {
   "cell_type": "markdown",
   "id": "36bccc02",
   "metadata": {},
   "source": [
    "#### Observations:\n",
    "- That iteration got us down to two remaining high VIF columns.\n",
    "- Of the remaining high VIF columns, `region_Europe` has the least impact on performance when dropped, so we will drop it."
   ]
  },
  {
   "cell_type": "markdown",
   "id": "8b0456cb",
   "metadata": {},
   "source": [
    "#### Dropping `region_Europe`"
   ]
  },
  {
   "cell_type": "code",
   "execution_count": 27,
   "id": "bc0a5626",
   "metadata": {},
   "outputs": [
    {
     "data": {
      "text/html": [
       "<div>\n",
       "<style scoped>\n",
       "    .dataframe tbody tr th:only-of-type {\n",
       "        vertical-align: middle;\n",
       "    }\n",
       "\n",
       "    .dataframe tbody tr th {\n",
       "        vertical-align: top;\n",
       "    }\n",
       "\n",
       "    .dataframe thead th {\n",
       "        text-align: right;\n",
       "    }\n",
       "</style>\n",
       "<table border=\"1\" class=\"dataframe\">\n",
       "  <thead>\n",
       "    <tr style=\"text-align: right;\">\n",
       "      <th></th>\n",
       "      <th>feature</th>\n",
       "      <th>VIF</th>\n",
       "    </tr>\n",
       "  </thead>\n",
       "  <tbody>\n",
       "    <tr>\n",
       "      <th>0</th>\n",
       "      <td>const</td>\n",
       "      <td>13.992155</td>\n",
       "    </tr>\n",
       "    <tr>\n",
       "      <th>22</th>\n",
       "      <td>known_for_arts</td>\n",
       "      <td>1.847408</td>\n",
       "    </tr>\n",
       "    <tr>\n",
       "      <th>29</th>\n",
       "      <td>known_for_sports</td>\n",
       "      <td>1.624140</td>\n",
       "    </tr>\n",
       "    <tr>\n",
       "      <th>31</th>\n",
       "      <td>known_for_two</td>\n",
       "      <td>1.487146</td>\n",
       "    </tr>\n",
       "    <tr>\n",
       "      <th>7</th>\n",
       "      <td>region_North America</td>\n",
       "      <td>1.309629</td>\n",
       "    </tr>\n",
       "    <tr>\n",
       "      <th>26</th>\n",
       "      <td>known_for_sciences</td>\n",
       "      <td>1.253173</td>\n",
       "    </tr>\n",
       "    <tr>\n",
       "      <th>3</th>\n",
       "      <td>region_Asia</td>\n",
       "      <td>1.156201</td>\n",
       "    </tr>\n",
       "    <tr>\n",
       "      <th>25</th>\n",
       "      <td>known_for_law_enf_military_operator</td>\n",
       "      <td>1.137036</td>\n",
       "    </tr>\n",
       "    <tr>\n",
       "      <th>8</th>\n",
       "      <td>region_Oceania</td>\n",
       "      <td>1.093834</td>\n",
       "    </tr>\n",
       "    <tr>\n",
       "      <th>28</th>\n",
       "      <td>known_for_spiritual</td>\n",
       "      <td>1.092293</td>\n",
       "    </tr>\n",
       "    <tr>\n",
       "      <th>23</th>\n",
       "      <td>known_for_business_farming</td>\n",
       "      <td>1.071471</td>\n",
       "    </tr>\n",
       "    <tr>\n",
       "      <th>9</th>\n",
       "      <td>region_Russian Federation</td>\n",
       "      <td>1.070232</td>\n",
       "    </tr>\n",
       "    <tr>\n",
       "      <th>6</th>\n",
       "      <td>region_Middle East</td>\n",
       "      <td>1.056211</td>\n",
       "    </tr>\n",
       "    <tr>\n",
       "      <th>30</th>\n",
       "      <td>known_for_three_to_five</td>\n",
       "      <td>1.053706</td>\n",
       "    </tr>\n",
       "    <tr>\n",
       "      <th>10</th>\n",
       "      <td>region_South America</td>\n",
       "      <td>1.045445</td>\n",
       "    </tr>\n",
       "    <tr>\n",
       "      <th>24</th>\n",
       "      <td>known_for_crime</td>\n",
       "      <td>1.041063</td>\n",
       "    </tr>\n",
       "    <tr>\n",
       "      <th>1</th>\n",
       "      <td>recip_num_references</td>\n",
       "      <td>1.040903</td>\n",
       "    </tr>\n",
       "    <tr>\n",
       "      <th>19</th>\n",
       "      <td>prior_region_Russian Federation</td>\n",
       "      <td>1.040692</td>\n",
       "    </tr>\n",
       "    <tr>\n",
       "      <th>5</th>\n",
       "      <td>region_Mid-Cent America/Caribbean</td>\n",
       "      <td>1.037932</td>\n",
       "    </tr>\n",
       "    <tr>\n",
       "      <th>11</th>\n",
       "      <td>region_South East Asia</td>\n",
       "      <td>1.036986</td>\n",
       "    </tr>\n",
       "    <tr>\n",
       "      <th>2</th>\n",
       "      <td>years_sqrd</td>\n",
       "      <td>1.023312</td>\n",
       "    </tr>\n",
       "    <tr>\n",
       "      <th>14</th>\n",
       "      <td>prior_region_Europe</td>\n",
       "      <td>1.013753</td>\n",
       "    </tr>\n",
       "    <tr>\n",
       "      <th>4</th>\n",
       "      <td>region_Central Asia</td>\n",
       "      <td>1.010702</td>\n",
       "    </tr>\n",
       "    <tr>\n",
       "      <th>27</th>\n",
       "      <td>known_for_social</td>\n",
       "      <td>1.008481</td>\n",
       "    </tr>\n",
       "    <tr>\n",
       "      <th>13</th>\n",
       "      <td>prior_region_Central Asia</td>\n",
       "      <td>1.006714</td>\n",
       "    </tr>\n",
       "    <tr>\n",
       "      <th>16</th>\n",
       "      <td>prior_region_Middle East</td>\n",
       "      <td>1.003861</td>\n",
       "    </tr>\n",
       "    <tr>\n",
       "      <th>12</th>\n",
       "      <td>prior_region_Asia</td>\n",
       "      <td>1.003739</td>\n",
       "    </tr>\n",
       "    <tr>\n",
       "      <th>18</th>\n",
       "      <td>prior_region_Oceania</td>\n",
       "      <td>1.003316</td>\n",
       "    </tr>\n",
       "    <tr>\n",
       "      <th>17</th>\n",
       "      <td>prior_region_North America</td>\n",
       "      <td>1.003136</td>\n",
       "    </tr>\n",
       "    <tr>\n",
       "      <th>15</th>\n",
       "      <td>prior_region_Mid-Cent America/Caribbean</td>\n",
       "      <td>1.001986</td>\n",
       "    </tr>\n",
       "    <tr>\n",
       "      <th>20</th>\n",
       "      <td>prior_region_South America</td>\n",
       "      <td>1.001418</td>\n",
       "    </tr>\n",
       "    <tr>\n",
       "      <th>21</th>\n",
       "      <td>prior_region_South East Asia</td>\n",
       "      <td>1.000610</td>\n",
       "    </tr>\n",
       "  </tbody>\n",
       "</table>\n",
       "</div>"
      ],
      "text/plain": [
       "                                    feature        VIF\n",
       "0                                     const  13.992155\n",
       "22                           known_for_arts   1.847408\n",
       "29                         known_for_sports   1.624140\n",
       "31                            known_for_two   1.487146\n",
       "7                      region_North America   1.309629\n",
       "26                       known_for_sciences   1.253173\n",
       "3                               region_Asia   1.156201\n",
       "25      known_for_law_enf_military_operator   1.137036\n",
       "8                            region_Oceania   1.093834\n",
       "28                      known_for_spiritual   1.092293\n",
       "23               known_for_business_farming   1.071471\n",
       "9                 region_Russian Federation   1.070232\n",
       "6                        region_Middle East   1.056211\n",
       "30                  known_for_three_to_five   1.053706\n",
       "10                     region_South America   1.045445\n",
       "24                          known_for_crime   1.041063\n",
       "1                      recip_num_references   1.040903\n",
       "19          prior_region_Russian Federation   1.040692\n",
       "5         region_Mid-Cent America/Caribbean   1.037932\n",
       "11                   region_South East Asia   1.036986\n",
       "2                                years_sqrd   1.023312\n",
       "14                      prior_region_Europe   1.013753\n",
       "4                       region_Central Asia   1.010702\n",
       "27                         known_for_social   1.008481\n",
       "13                prior_region_Central Asia   1.006714\n",
       "16                 prior_region_Middle East   1.003861\n",
       "12                        prior_region_Asia   1.003739\n",
       "18                     prior_region_Oceania   1.003316\n",
       "17               prior_region_North America   1.003136\n",
       "15  prior_region_Mid-Cent America/Caribbean   1.001986\n",
       "20               prior_region_South America   1.001418\n",
       "21             prior_region_South East Asia   1.000610"
      ]
     },
     "execution_count": 27,
     "metadata": {},
     "output_type": "execute_result"
    },
    {
     "data": {
      "application/javascript": [
       "\n",
       "            setTimeout(function() {\n",
       "                var nbb_cell_id = 27;\n",
       "                var nbb_unformatted_code = \"# Dropping region_Europe column\\ncol_to_drop = \\\"region_Europe\\\"\\nX_train = X_train.drop(col_to_drop, axis=1)\\nX_test = X_test.drop(col_to_drop, axis=1)\\n\\n# Recheck VIF\\nvif = checking_vif(X_train).sort_values(by=\\\"VIF\\\", ascending=False)\\nvif\";\n",
       "                var nbb_formatted_code = \"# Dropping region_Europe column\\ncol_to_drop = \\\"region_Europe\\\"\\nX_train = X_train.drop(col_to_drop, axis=1)\\nX_test = X_test.drop(col_to_drop, axis=1)\\n\\n# Recheck VIF\\nvif = checking_vif(X_train).sort_values(by=\\\"VIF\\\", ascending=False)\\nvif\";\n",
       "                var nbb_cells = Jupyter.notebook.get_cells();\n",
       "                for (var i = 0; i < nbb_cells.length; ++i) {\n",
       "                    if (nbb_cells[i].input_prompt_number == nbb_cell_id) {\n",
       "                        if (nbb_cells[i].get_text() == nbb_unformatted_code) {\n",
       "                             nbb_cells[i].set_text(nbb_formatted_code);\n",
       "                        }\n",
       "                        break;\n",
       "                    }\n",
       "                }\n",
       "            }, 500);\n",
       "            "
      ],
      "text/plain": [
       "<IPython.core.display.Javascript object>"
      ]
     },
     "metadata": {},
     "output_type": "display_data"
    }
   ],
   "source": [
    "# Dropping region_Europe column\n",
    "col_to_drop = \"region_Europe\"\n",
    "X_train = X_train.drop(col_to_drop, axis=1)\n",
    "X_test = X_test.drop(col_to_drop, axis=1)\n",
    "\n",
    "# Recheck VIF\n",
    "vif = checking_vif(X_train).sort_values(by=\"VIF\", ascending=False)\n",
    "vif"
   ]
  },
  {
   "cell_type": "markdown",
   "id": "e871d920",
   "metadata": {},
   "source": [
    "#### Observations:\n",
    "- `prior_region_No Prior Region`, `known_for_politics_govt_law`, and `region_Europe` columns were dropped and there are no remaining high VIF columns, excluding the constant, which we will retain.\n",
    "- **So, the assumption of independence of predictor variables (absence of multicollinearity) is satisfied.**\n",
    "- The updated reference levels for each feature are as follows:\n",
    "    - `region`: Africa OR Europe\n",
    "    - `prior_region`: Africa OR No Prior Region\n",
    "    - `known_for`: academia_humanities OR politics_govt_law\n",
    "- Next, we will fit our second model, then drop columns with high p-values for their coefficients."
   ]
  },
  {
   "cell_type": "markdown",
   "id": "55f5e5c9",
   "metadata": {},
   "source": [
    "#### Fitting Second Model"
   ]
  },
  {
   "cell_type": "code",
   "execution_count": 28,
   "id": "b0eabd12",
   "metadata": {},
   "outputs": [
    {
     "name": "stdout",
     "output_type": "stream",
     "text": [
      "                            OLS Regression Results                            \n",
      "==============================================================================\n",
      "Dep. Variable:               age_sqrd   R-squared:                       0.081\n",
      "Model:                            OLS   Adj. R-squared:                  0.080\n",
      "Method:                 Least Squares   F-statistic:                     219.6\n",
      "Date:                Wed, 12 Oct 2022   Prob (F-statistic):               0.00\n",
      "Time:                        13:35:59   Log-Likelihood:            -7.0385e+05\n",
      "No. Observations:               77622   AIC:                         1.408e+06\n",
      "Df Residuals:                   77590   BIC:                         1.408e+06\n",
      "Df Model:                          31                                         \n",
      "Covariance Type:            nonrobust                                         \n",
      "===========================================================================================================\n",
      "                                              coef    std err          t      P>|t|      [0.025      0.975]\n",
      "-----------------------------------------------------------------------------------------------------------\n",
      "const                                    5782.1027     28.174    205.228      0.000    5726.882    5837.324\n",
      "recip_num_references                     1335.4412     78.128     17.093      0.000    1182.311    1488.571\n",
      "years_sqrd                                  0.9294      0.031     29.880      0.000       0.868       0.990\n",
      "region_Asia                              -306.4067     29.234    -10.481      0.000    -363.705    -249.108\n",
      "region_Central Asia                     -1476.0371    221.281     -6.670      0.000   -1909.747   -1042.327\n",
      "region_Mid-Cent America/Caribbean        -525.7046     55.274     -9.511      0.000    -634.040    -417.369\n",
      "region_Middle East                       -654.9211     48.621    -13.470      0.000    -750.218    -559.624\n",
      "region_North America                      205.8065     17.488     11.769      0.000     171.531     240.082\n",
      "region_Oceania                             51.6489     36.859      1.401      0.161     -20.595     123.893\n",
      "region_Russian Federation                -683.3379     61.208    -11.164      0.000    -803.306    -563.370\n",
      "region_South America                     -387.5052     50.583     -7.661      0.000    -486.648    -288.363\n",
      "region_South East Asia                   -788.3940     59.838    -13.176      0.000    -905.675    -671.113\n",
      "prior_region_Asia                        -149.3343    114.101     -1.309      0.191    -372.971      74.302\n",
      "prior_region_Central Asia                -648.5895    744.439     -0.871      0.384   -2107.686     810.507\n",
      "prior_region_Europe                       767.1576     44.480     17.247      0.000     679.977     854.338\n",
      "prior_region_Mid-Cent America/Caribbean  -128.3906    147.986     -0.868      0.386    -418.442     161.661\n",
      "prior_region_Middle East                 -400.2098    158.662     -2.522      0.012    -711.186     -89.234\n",
      "prior_region_North America                110.0163    101.403      1.085      0.278     -88.732     308.765\n",
      "prior_region_Oceania                     -187.9278    180.397     -1.042      0.298    -541.505     165.649\n",
      "prior_region_Russian Federation           261.8852    128.393      2.040      0.041      10.237     513.534\n",
      "prior_region_South America                -67.8657    201.279     -0.337      0.736    -462.371     326.640\n",
      "prior_region_South East Asia            -1401.5788    275.727     -5.083      0.000   -1942.002    -861.155\n",
      "known_for_arts                           -387.2956     21.678    -17.866      0.000    -429.785    -344.807\n",
      "known_for_business_farming                145.2582     60.801      2.389      0.017      26.088     264.429\n",
      "known_for_crime                         -2917.9358     86.128    -33.879      0.000   -3086.746   -2749.126\n",
      "known_for_law_enf_military_operator       501.1014     46.454     10.787      0.000     410.051     592.152\n",
      "known_for_sciences                        545.0127     35.356     15.415      0.000     475.715     614.310\n",
      "known_for_social                          169.2574    172.805      0.979      0.327    -169.440     507.955\n",
      "known_for_spiritual                       537.9108     53.753     10.007      0.000     432.555     643.266\n",
      "known_for_sports                         -889.0738     24.784    -35.873      0.000    -937.650    -840.498\n",
      "known_for_three_to_five                   467.0372     70.687      6.607      0.000     328.491     605.584\n",
      "known_for_two                             208.8409     26.853      7.777      0.000     156.210     261.472\n",
      "==============================================================================\n",
      "Omnibus:                     2305.817   Durbin-Watson:                   2.020\n",
      "Prob(Omnibus):                  0.000   Jarque-Bera (JB):             2386.660\n",
      "Skew:                          -0.408   Prob(JB):                         0.00\n",
      "Kurtosis:                       2.734   Cond. No.                     4.56e+04\n",
      "==============================================================================\n",
      "\n",
      "Notes:\n",
      "[1] Standard Errors assume that the covariance matrix of the errors is correctly specified.\n",
      "[2] The condition number is large, 4.56e+04. This might indicate that there are\n",
      "strong multicollinearity or other numerical problems.\n"
     ]
    },
    {
     "data": {
      "application/javascript": [
       "\n",
       "            setTimeout(function() {\n",
       "                var nbb_cell_id = 28;\n",
       "                var nbb_unformatted_code = \"# Fitting a linear model and displaying model summary\\nolsmodel2 = sm.OLS(y_train, X_train).fit()\\nprint(olsmodel2.summary())\";\n",
       "                var nbb_formatted_code = \"# Fitting a linear model and displaying model summary\\nolsmodel2 = sm.OLS(y_train, X_train).fit()\\nprint(olsmodel2.summary())\";\n",
       "                var nbb_cells = Jupyter.notebook.get_cells();\n",
       "                for (var i = 0; i < nbb_cells.length; ++i) {\n",
       "                    if (nbb_cells[i].input_prompt_number == nbb_cell_id) {\n",
       "                        if (nbb_cells[i].get_text() == nbb_unformatted_code) {\n",
       "                             nbb_cells[i].set_text(nbb_formatted_code);\n",
       "                        }\n",
       "                        break;\n",
       "                    }\n",
       "                }\n",
       "            }, 500);\n",
       "            "
      ],
      "text/plain": [
       "<IPython.core.display.Javascript object>"
      ]
     },
     "metadata": {},
     "output_type": "display_data"
    }
   ],
   "source": [
    "# Fitting a linear model and displaying model summary\n",
    "olsmodel2 = sm.OLS(y_train, X_train).fit()\n",
    "print(olsmodel2.summary())"
   ]
  },
  {
   "cell_type": "markdown",
   "id": "700cbf4f",
   "metadata": {},
   "source": [
    "#### Checking Features with High Coefficient p-values"
   ]
  },
  {
   "cell_type": "code",
   "execution_count": 29,
   "id": "f177a722",
   "metadata": {},
   "outputs": [
    {
     "name": "stdout",
     "output_type": "stream",
     "text": [
      "Features with high p-values to exclude: ['prior_region_South America', 'prior_region_Mid-Cent America/Caribbean', 'prior_region_Central Asia', 'known_for_social', 'prior_region_Oceania', 'prior_region_North America', 'prior_region_Asia', 'region_Oceania']\n"
     ]
    },
    {
     "data": {
      "application/javascript": [
       "\n",
       "            setTimeout(function() {\n",
       "                var nbb_cell_id = 29;\n",
       "                var nbb_unformatted_code = \"## Loop for Dropping variables with high coefficient p-values one at a time excluding constant and dummy variables\\n# Current model predictors\\ntrain_predictors = X_train\\n\\n# initial list of all independent variable columns including constant\\ncols = train_predictors.columns.to_list()\\n\\n# initial empty list of independent variables to exclude\\nexcluded_features = []\\n\\n# setting an initial max p_value\\nmax_p_value = 1\\n\\nfor i in range(len(cols)):\\n    # defining the train set\\n    x_train_aux = train_predictors[cols]\\n\\n    # fitting the model\\n    model = sm.OLS(y_train, x_train_aux).fit()\\n\\n    # getting the p-values and the maximum p-value\\n    p_values = model.pvalues[cols]\\n    max_p_value = max(p_values)\\n\\n    # name of the variable with maximum p-value\\n    feature_with_p_max = p_values.idxmax()\\n\\n    if max_p_value > 0.05:\\n        cols.remove(feature_with_p_max)\\n        excluded_features.append(feature_with_p_max)\\n    else:\\n        break\\n\\nprint(f\\\"Features with high p-values to exclude: {excluded_features}\\\")\";\n",
       "                var nbb_formatted_code = \"## Loop for Dropping variables with high coefficient p-values one at a time excluding constant and dummy variables\\n# Current model predictors\\ntrain_predictors = X_train\\n\\n# initial list of all independent variable columns including constant\\ncols = train_predictors.columns.to_list()\\n\\n# initial empty list of independent variables to exclude\\nexcluded_features = []\\n\\n# setting an initial max p_value\\nmax_p_value = 1\\n\\nfor i in range(len(cols)):\\n    # defining the train set\\n    x_train_aux = train_predictors[cols]\\n\\n    # fitting the model\\n    model = sm.OLS(y_train, x_train_aux).fit()\\n\\n    # getting the p-values and the maximum p-value\\n    p_values = model.pvalues[cols]\\n    max_p_value = max(p_values)\\n\\n    # name of the variable with maximum p-value\\n    feature_with_p_max = p_values.idxmax()\\n\\n    if max_p_value > 0.05:\\n        cols.remove(feature_with_p_max)\\n        excluded_features.append(feature_with_p_max)\\n    else:\\n        break\\n\\nprint(f\\\"Features with high p-values to exclude: {excluded_features}\\\")\";\n",
       "                var nbb_cells = Jupyter.notebook.get_cells();\n",
       "                for (var i = 0; i < nbb_cells.length; ++i) {\n",
       "                    if (nbb_cells[i].input_prompt_number == nbb_cell_id) {\n",
       "                        if (nbb_cells[i].get_text() == nbb_unformatted_code) {\n",
       "                             nbb_cells[i].set_text(nbb_formatted_code);\n",
       "                        }\n",
       "                        break;\n",
       "                    }\n",
       "                }\n",
       "            }, 500);\n",
       "            "
      ],
      "text/plain": [
       "<IPython.core.display.Javascript object>"
      ]
     },
     "metadata": {},
     "output_type": "display_data"
    }
   ],
   "source": [
    "## Loop for Dropping variables with high coefficient p-values one at a time excluding constant and dummy variables\n",
    "# Current model predictors\n",
    "train_predictors = X_train\n",
    "\n",
    "# initial list of all independent variable columns including constant\n",
    "cols = train_predictors.columns.to_list()\n",
    "\n",
    "# initial empty list of independent variables to exclude\n",
    "excluded_features = []\n",
    "\n",
    "# setting an initial max p_value\n",
    "max_p_value = 1\n",
    "\n",
    "for i in range(len(cols)):\n",
    "    # defining the train set\n",
    "    x_train_aux = train_predictors[cols]\n",
    "\n",
    "    # fitting the model\n",
    "    model = sm.OLS(y_train, x_train_aux).fit()\n",
    "\n",
    "    # getting the p-values and the maximum p-value\n",
    "    p_values = model.pvalues[cols]\n",
    "    max_p_value = max(p_values)\n",
    "\n",
    "    # name of the variable with maximum p-value\n",
    "    feature_with_p_max = p_values.idxmax()\n",
    "\n",
    "    if max_p_value > 0.05:\n",
    "        cols.remove(feature_with_p_max)\n",
    "        excluded_features.append(feature_with_p_max)\n",
    "    else:\n",
    "        break\n",
    "\n",
    "print(f\"Features with high p-values to exclude: {excluded_features}\")"
   ]
  },
  {
   "cell_type": "markdown",
   "id": "c8253cf7",
   "metadata": {},
   "source": [
    "#### Dropping `excluded_features` with High p-values"
   ]
  },
  {
   "cell_type": "code",
   "execution_count": 30,
   "id": "ae48c4ba",
   "metadata": {},
   "outputs": [
    {
     "data": {
      "application/javascript": [
       "\n",
       "            setTimeout(function() {\n",
       "                var nbb_cell_id = 30;\n",
       "                var nbb_unformatted_code = \"# Dropping excluded_features\\nX_train.drop(excluded_features, axis=1, inplace=True)\\nX_test.drop(excluded_features, axis=1, inplace=True)\";\n",
       "                var nbb_formatted_code = \"# Dropping excluded_features\\nX_train.drop(excluded_features, axis=1, inplace=True)\\nX_test.drop(excluded_features, axis=1, inplace=True)\";\n",
       "                var nbb_cells = Jupyter.notebook.get_cells();\n",
       "                for (var i = 0; i < nbb_cells.length; ++i) {\n",
       "                    if (nbb_cells[i].input_prompt_number == nbb_cell_id) {\n",
       "                        if (nbb_cells[i].get_text() == nbb_unformatted_code) {\n",
       "                             nbb_cells[i].set_text(nbb_formatted_code);\n",
       "                        }\n",
       "                        break;\n",
       "                    }\n",
       "                }\n",
       "            }, 500);\n",
       "            "
      ],
      "text/plain": [
       "<IPython.core.display.Javascript object>"
      ]
     },
     "metadata": {},
     "output_type": "display_data"
    }
   ],
   "source": [
    "# Dropping excluded_features\n",
    "X_train.drop(excluded_features, axis=1, inplace=True)\n",
    "X_test.drop(excluded_features, axis=1, inplace=True)"
   ]
  },
  {
   "cell_type": "markdown",
   "id": "76448ebb",
   "metadata": {},
   "source": [
    "#### Observations:\n",
    "- We dropped several columns with high p-values.\n",
    "- The updated reference levels for each feature are as follows:\n",
    "    - `region`: Africa, Europe, OR Oceania\n",
    "    - `prior_region`: Africa, No Prior Region, Central Asia, South America, Mid-Cent America/Caribbean, Oceania, North America, OR Asia\n",
    "    - `known_for`: academia_humanities, politics_govt_law, social, OR business_farming"
   ]
  },
  {
   "cell_type": "markdown",
   "id": "59918460",
   "metadata": {},
   "source": [
    "#### Fitting Third Model"
   ]
  },
  {
   "cell_type": "code",
   "execution_count": 31,
   "id": "b3fb0914",
   "metadata": {},
   "outputs": [
    {
     "name": "stdout",
     "output_type": "stream",
     "text": [
      "                            OLS Regression Results                            \n",
      "==============================================================================\n",
      "Dep. Variable:               age_sqrd   R-squared:                       0.081\n",
      "Model:                            OLS   Adj. R-squared:                  0.080\n",
      "Method:                 Least Squares   F-statistic:                     295.6\n",
      "Date:                Wed, 12 Oct 2022   Prob (F-statistic):               0.00\n",
      "Time:                        13:36:08   Log-Likelihood:            -7.0386e+05\n",
      "No. Observations:               77622   AIC:                         1.408e+06\n",
      "Df Residuals:                   77598   BIC:                         1.408e+06\n",
      "Df Model:                          23                                         \n",
      "Covariance Type:            nonrobust                                         \n",
      "=======================================================================================================\n",
      "                                          coef    std err          t      P>|t|      [0.025      0.975]\n",
      "-------------------------------------------------------------------------------------------------------\n",
      "const                                5791.2216     27.582    209.961      0.000    5737.160    5845.283\n",
      "recip_num_references                 1330.9449     78.033     17.056      0.000    1178.000    1483.889\n",
      "years_sqrd                              0.9283      0.031     29.854      0.000       0.867       0.989\n",
      "region_Asia                          -312.9773     28.894    -10.832      0.000    -369.610    -256.345\n",
      "region_Central Asia                 -1495.9508    220.629     -6.780      0.000   -1928.382   -1063.520\n",
      "region_Mid-Cent America/Caribbean    -532.5936     55.076     -9.670      0.000    -640.541    -424.646\n",
      "region_Middle East                   -660.4109     48.391    -13.647      0.000    -755.257    -565.565\n",
      "region_North America                  199.2891     16.888     11.801      0.000     166.189     232.389\n",
      "region_Russian Federation            -689.9334     61.046    -11.302      0.000    -809.583    -570.284\n",
      "region_South America                 -394.1484     50.379     -7.824      0.000    -492.890    -295.406\n",
      "region_South East Asia               -795.4569     59.662    -13.333      0.000    -912.394    -678.520\n",
      "prior_region_Europe                   770.8781     44.421     17.354      0.000     683.814     857.942\n",
      "prior_region_Middle East             -398.7412    158.656     -2.513      0.012    -709.706     -87.776\n",
      "prior_region_Russian Federation       262.0031    128.385      2.041      0.041      10.370     513.636\n",
      "prior_region_South East Asia        -1400.0073    275.724     -5.078      0.000   -1940.425    -859.589\n",
      "known_for_arts                       -390.6066     21.580    -18.100      0.000    -432.903    -348.310\n",
      "known_for_business_farming            141.3424     60.761      2.326      0.020      22.251     260.433\n",
      "known_for_crime                     -2920.4371     86.107    -33.916      0.000   -3089.207   -2751.667\n",
      "known_for_law_enf_military_operator   497.7434     46.409     10.725      0.000     406.781     588.705\n",
      "known_for_sciences                    541.0935     35.277     15.338      0.000     471.951     610.237\n",
      "known_for_spiritual                   535.0525     53.709      9.962      0.000     429.784     640.321\n",
      "known_for_sports                     -890.0404     24.723    -36.001      0.000    -938.497    -841.584\n",
      "known_for_three_to_five               464.1668     70.655      6.570      0.000     325.684     602.649\n",
      "known_for_two                         205.9715     26.782      7.691      0.000     153.478     258.465\n",
      "==============================================================================\n",
      "Omnibus:                     2306.103   Durbin-Watson:                   2.020\n",
      "Prob(Omnibus):                  0.000   Jarque-Bera (JB):             2386.681\n",
      "Skew:                          -0.408   Prob(JB):                         0.00\n",
      "Kurtosis:                       2.733   Cond. No.                     1.69e+04\n",
      "==============================================================================\n",
      "\n",
      "Notes:\n",
      "[1] Standard Errors assume that the covariance matrix of the errors is correctly specified.\n",
      "[2] The condition number is large, 1.69e+04. This might indicate that there are\n",
      "strong multicollinearity or other numerical problems.\n"
     ]
    },
    {
     "data": {
      "application/javascript": [
       "\n",
       "            setTimeout(function() {\n",
       "                var nbb_cell_id = 31;\n",
       "                var nbb_unformatted_code = \"# fitting third model and printing summary\\nolsmodel3 = sm.OLS(y_train, X_train).fit()\\nprint(olsmodel3.summary())\";\n",
       "                var nbb_formatted_code = \"# fitting third model and printing summary\\nolsmodel3 = sm.OLS(y_train, X_train).fit()\\nprint(olsmodel3.summary())\";\n",
       "                var nbb_cells = Jupyter.notebook.get_cells();\n",
       "                for (var i = 0; i < nbb_cells.length; ++i) {\n",
       "                    if (nbb_cells[i].input_prompt_number == nbb_cell_id) {\n",
       "                        if (nbb_cells[i].get_text() == nbb_unformatted_code) {\n",
       "                             nbb_cells[i].set_text(nbb_formatted_code);\n",
       "                        }\n",
       "                        break;\n",
       "                    }\n",
       "                }\n",
       "            }, 500);\n",
       "            "
      ],
      "text/plain": [
       "<IPython.core.display.Javascript object>"
      ]
     },
     "metadata": {},
     "output_type": "display_data"
    }
   ],
   "source": [
    "# fitting third model and printing summary\n",
    "olsmodel3 = sm.OLS(y_train, X_train).fit()\n",
    "print(olsmodel3.summary())"
   ]
  },
  {
   "cell_type": "markdown",
   "id": "91b95bd6",
   "metadata": {},
   "source": [
    "#### Observations:\n",
    "- Adjusted $R^2$ has held at 0.082 after dropping the high p-value columns, indicating that the dropped variables were not affecting the model much at all.\n",
    "- **Now, no other feature, including the constant, has a p-value greater than 0.05, so we will consider these features as the final set of predictor variables and *olsmodel3* as the final model.**\n",
    "- *olsmodel3* has 22 predictors plut the constant term.\n",
    "- We will now check the remaining assumptions for linear regression."
   ]
  },
  {
   "cell_type": "markdown",
   "id": "1c34d7ce",
   "metadata": {},
   "source": [
    "### Test for Linearity and Independence"
   ]
  },
  {
   "cell_type": "markdown",
   "id": "aea7df3d",
   "metadata": {},
   "source": [
    "#### Dataframe of Actual, Fitted, and Residual Values"
   ]
  },
  {
   "cell_type": "code",
   "execution_count": 32,
   "id": "bf63f25b",
   "metadata": {},
   "outputs": [
    {
     "data": {
      "text/html": [
       "<div>\n",
       "<style scoped>\n",
       "    .dataframe tbody tr th:only-of-type {\n",
       "        vertical-align: middle;\n",
       "    }\n",
       "\n",
       "    .dataframe tbody tr th {\n",
       "        vertical-align: top;\n",
       "    }\n",
       "\n",
       "    .dataframe thead th {\n",
       "        text-align: right;\n",
       "    }\n",
       "</style>\n",
       "<table border=\"1\" class=\"dataframe\">\n",
       "  <thead>\n",
       "    <tr style=\"text-align: right;\">\n",
       "      <th></th>\n",
       "      <th>Actual Values</th>\n",
       "      <th>Fitted Values</th>\n",
       "      <th>Residuals</th>\n",
       "    </tr>\n",
       "  </thead>\n",
       "  <tbody>\n",
       "    <tr>\n",
       "      <th>38762</th>\n",
       "      <td>6889.0</td>\n",
       "      <td>5792.410128</td>\n",
       "      <td>1096.589872</td>\n",
       "    </tr>\n",
       "    <tr>\n",
       "      <th>1038</th>\n",
       "      <td>7225.0</td>\n",
       "      <td>6011.557838</td>\n",
       "      <td>1213.442162</td>\n",
       "    </tr>\n",
       "    <tr>\n",
       "      <th>71157</th>\n",
       "      <td>5329.0</td>\n",
       "      <td>6220.853045</td>\n",
       "      <td>-891.853045</td>\n",
       "    </tr>\n",
       "    <tr>\n",
       "      <th>25984</th>\n",
       "      <td>6241.0</td>\n",
       "      <td>6733.541594</td>\n",
       "      <td>-492.541594</td>\n",
       "    </tr>\n",
       "    <tr>\n",
       "      <th>77481</th>\n",
       "      <td>4761.0</td>\n",
       "      <td>3337.869256</td>\n",
       "      <td>1423.130744</td>\n",
       "    </tr>\n",
       "  </tbody>\n",
       "</table>\n",
       "</div>"
      ],
      "text/plain": [
       "       Actual Values  Fitted Values    Residuals\n",
       "38762         6889.0    5792.410128  1096.589872\n",
       "1038          7225.0    6011.557838  1213.442162\n",
       "71157         5329.0    6220.853045  -891.853045\n",
       "25984         6241.0    6733.541594  -492.541594\n",
       "77481         4761.0    3337.869256  1423.130744"
      ]
     },
     "execution_count": 32,
     "metadata": {},
     "output_type": "execute_result"
    },
    {
     "data": {
      "application/javascript": [
       "\n",
       "            setTimeout(function() {\n",
       "                var nbb_cell_id = 32;\n",
       "                var nbb_unformatted_code = \"# Dataframe of actual, fitted, and residual values\\ndf_pred = pd.DataFrame()\\n\\ndf_pred[\\\"Actual Values\\\"] = y_train  # actual values\\ndf_pred[\\\"Fitted Values\\\"] = olsmodel3.fittedvalues  # predicted values\\ndf_pred[\\\"Residuals\\\"] = olsmodel3.resid  # residuals\\n\\ndf_pred.sample(5)\";\n",
       "                var nbb_formatted_code = \"# Dataframe of actual, fitted, and residual values\\ndf_pred = pd.DataFrame()\\n\\ndf_pred[\\\"Actual Values\\\"] = y_train  # actual values\\ndf_pred[\\\"Fitted Values\\\"] = olsmodel3.fittedvalues  # predicted values\\ndf_pred[\\\"Residuals\\\"] = olsmodel3.resid  # residuals\\n\\ndf_pred.sample(5)\";\n",
       "                var nbb_cells = Jupyter.notebook.get_cells();\n",
       "                for (var i = 0; i < nbb_cells.length; ++i) {\n",
       "                    if (nbb_cells[i].input_prompt_number == nbb_cell_id) {\n",
       "                        if (nbb_cells[i].get_text() == nbb_unformatted_code) {\n",
       "                             nbb_cells[i].set_text(nbb_formatted_code);\n",
       "                        }\n",
       "                        break;\n",
       "                    }\n",
       "                }\n",
       "            }, 500);\n",
       "            "
      ],
      "text/plain": [
       "<IPython.core.display.Javascript object>"
      ]
     },
     "metadata": {},
     "output_type": "display_data"
    }
   ],
   "source": [
    "# Dataframe of actual, fitted, and residual values\n",
    "df_pred = pd.DataFrame()\n",
    "\n",
    "df_pred[\"Actual Values\"] = y_train  # actual values\n",
    "df_pred[\"Fitted Values\"] = olsmodel3.fittedvalues  # predicted values\n",
    "df_pred[\"Residuals\"] = olsmodel3.resid  # residuals\n",
    "\n",
    "df_pred.sample(5)"
   ]
  },
  {
   "cell_type": "markdown",
   "id": "ba825f92",
   "metadata": {},
   "source": [
    "#### Plot of Fitted Values vs Residuals"
   ]
  },
  {
   "cell_type": "code",
   "execution_count": 33,
   "id": "08c6a45c",
   "metadata": {},
   "outputs": [
    {
     "data": {
      "image/png": "[encoded data removed]",
      "text/plain": [
       "<Figure size 432x288 with 1 Axes>"
      ]
     },
     "metadata": {},
     "output_type": "display_data"
    },
    {
     "data": {
      "application/javascript": [
       "\n",
       "            setTimeout(function() {\n",
       "                var nbb_cell_id = 33;\n",
       "                var nbb_unformatted_code = \"# Plot of fitted values vs residuals\\nsns.residplot(\\n    data=df_pred, x=\\\"Fitted Values\\\", y=\\\"Residuals\\\", color=\\\"purple\\\", lowess=True\\n)\\nplt.xlabel(\\\"Fitted Values\\\")\\nplt.ylabel(\\\"Residuals\\\")\\nplt.title(\\\"Fitted vs Residual plot\\\")\\nplt.show()\";\n",
       "                var nbb_formatted_code = \"# Plot of fitted values vs residuals\\nsns.residplot(\\n    data=df_pred, x=\\\"Fitted Values\\\", y=\\\"Residuals\\\", color=\\\"purple\\\", lowess=True\\n)\\nplt.xlabel(\\\"Fitted Values\\\")\\nplt.ylabel(\\\"Residuals\\\")\\nplt.title(\\\"Fitted vs Residual plot\\\")\\nplt.show()\";\n",
       "                var nbb_cells = Jupyter.notebook.get_cells();\n",
       "                for (var i = 0; i < nbb_cells.length; ++i) {\n",
       "                    if (nbb_cells[i].input_prompt_number == nbb_cell_id) {\n",
       "                        if (nbb_cells[i].get_text() == nbb_unformatted_code) {\n",
       "                             nbb_cells[i].set_text(nbb_formatted_code);\n",
       "                        }\n",
       "                        break;\n",
       "                    }\n",
       "                }\n",
       "            }, 500);\n",
       "            "
      ],
      "text/plain": [
       "<IPython.core.display.Javascript object>"
      ]
     },
     "metadata": {},
     "output_type": "display_data"
    }
   ],
   "source": [
    "# Plot of fitted values vs residuals\n",
    "sns.residplot(\n",
    "    data=df_pred, x=\"Fitted Values\", y=\"Residuals\", color=\"purple\", lowess=True\n",
    ")\n",
    "plt.xlabel(\"Fitted Values\")\n",
    "plt.ylabel(\"Residuals\")\n",
    "plt.title(\"Fitted vs Residual plot\")\n",
    "plt.show()"
   ]
  },
  {
   "cell_type": "markdown",
   "id": "887e24ee",
   "metadata": {},
   "source": [
    "#### Observation:\n",
    "- There is an underrepresented age group from ~58 to ~63 years in the predictions, resulting in two groups which is interesting.\n",
    "- Within itself, the under 60 group shows no obvious pattern.\n",
    "- The group above 60 is heavy on the bottom, indicating larger underestimates for age here, and wider variance.\n",
    "- **Overall, there is not a definitive pattern, so we will consider the assumptions of independence and linearity sufficiently met to permit interpretation of coefficients.**\n",
    "- We will be testing further for homoscedasticity, via the Goldfeld-Quandt test."
   ]
  },
  {
   "cell_type": "markdown",
   "id": "e3661f40",
   "metadata": {},
   "source": [
    "### Test for Normality"
   ]
  },
  {
   "cell_type": "markdown",
   "id": "1262ce6e",
   "metadata": {},
   "source": [
    "#### Histogram"
   ]
  },
  {
   "cell_type": "code",
   "execution_count": 34,
   "id": "ea45e566",
   "metadata": {},
   "outputs": [
    {
     "data": {
      "image/png": "[encoded data removed]",
      "text/plain": [
       "<Figure size 432x288 with 1 Axes>"
      ]
     },
     "metadata": {},
     "output_type": "display_data"
    },
    {
     "data": {
      "application/javascript": [
       "\n",
       "            setTimeout(function() {\n",
       "                var nbb_cell_id = 34;\n",
       "                var nbb_unformatted_code = \"# Histogram of residuals\\nsns.histplot(data=df_pred, x=\\\"Residuals\\\", kde=True)\\nplt.title(\\\"Normality of Residuals\\\")\\nplt.show()\";\n",
       "                var nbb_formatted_code = \"# Histogram of residuals\\nsns.histplot(data=df_pred, x=\\\"Residuals\\\", kde=True)\\nplt.title(\\\"Normality of Residuals\\\")\\nplt.show()\";\n",
       "                var nbb_cells = Jupyter.notebook.get_cells();\n",
       "                for (var i = 0; i < nbb_cells.length; ++i) {\n",
       "                    if (nbb_cells[i].input_prompt_number == nbb_cell_id) {\n",
       "                        if (nbb_cells[i].get_text() == nbb_unformatted_code) {\n",
       "                             nbb_cells[i].set_text(nbb_formatted_code);\n",
       "                        }\n",
       "                        break;\n",
       "                    }\n",
       "                }\n",
       "            }, 500);\n",
       "            "
      ],
      "text/plain": [
       "<IPython.core.display.Javascript object>"
      ]
     },
     "metadata": {},
     "output_type": "display_data"
    }
   ],
   "source": [
    "# Histogram of residuals\n",
    "sns.histplot(data=df_pred, x=\"Residuals\", kde=True)\n",
    "plt.title(\"Normality of Residuals\")\n",
    "plt.show()"
   ]
  },
  {
   "cell_type": "markdown",
   "id": "a6357ab2",
   "metadata": {},
   "source": [
    "#### Q-Q plot"
   ]
  },
  {
   "cell_type": "code",
   "execution_count": 35,
   "id": "1cbe2abf",
   "metadata": {},
   "outputs": [
    {
     "data": {
      "image/png": "[encoded data removed]",
      "text/plain": [
       "<Figure size 432x288 with 1 Axes>"
      ]
     },
     "metadata": {},
     "output_type": "display_data"
    },
    {
     "data": {
      "application/javascript": [
       "\n",
       "            setTimeout(function() {\n",
       "                var nbb_cell_id = 35;\n",
       "                var nbb_unformatted_code = \"# checking the Q-Q plot\\nstats.probplot(df_pred[\\\"Residuals\\\"], dist=\\\"norm\\\", plot=pylab)\\nplt.show()\";\n",
       "                var nbb_formatted_code = \"# checking the Q-Q plot\\nstats.probplot(df_pred[\\\"Residuals\\\"], dist=\\\"norm\\\", plot=pylab)\\nplt.show()\";\n",
       "                var nbb_cells = Jupyter.notebook.get_cells();\n",
       "                for (var i = 0; i < nbb_cells.length; ++i) {\n",
       "                    if (nbb_cells[i].input_prompt_number == nbb_cell_id) {\n",
       "                        if (nbb_cells[i].get_text() == nbb_unformatted_code) {\n",
       "                             nbb_cells[i].set_text(nbb_formatted_code);\n",
       "                        }\n",
       "                        break;\n",
       "                    }\n",
       "                }\n",
       "            }, 500);\n",
       "            "
      ],
      "text/plain": [
       "<IPython.core.display.Javascript object>"
      ]
     },
     "metadata": {},
     "output_type": "display_data"
    }
   ],
   "source": [
    "# checking the Q-Q plot\n",
    "stats.probplot(df_pred[\"Residuals\"], dist=\"norm\", plot=pylab)\n",
    "plt.show()"
   ]
  },
  {
   "cell_type": "markdown",
   "id": "2f8d4380",
   "metadata": {},
   "source": [
    "#### Observations:\n",
    "- The distribution of the residuals does have an overall bell shape, but is quite peaked at ~8, with a thicker tail on the negative end.\n",
    "- As we saw during EDA, there are possibly two Guassian's here.\n",
    "- The Q-Q plot and the histogram show that the distribution is left-skewed.\n",
    "- **We cannot strictly say that the assumption of normally distributed residuals is met.**\n",
    "- Our plan is to apply other modeling algorithms, so we will see how they compare."
   ]
  },
  {
   "cell_type": "markdown",
   "id": "e90f0e1f",
   "metadata": {},
   "source": [
    "### Test for Homoscedasticity"
   ]
  },
  {
   "cell_type": "markdown",
   "id": "a4a3511c",
   "metadata": {},
   "source": [
    "#### Goldfeld-Quandt Test"
   ]
  },
  {
   "cell_type": "code",
   "execution_count": 36,
   "id": "6cf89a76",
   "metadata": {},
   "outputs": [
    {
     "data": {
      "text/plain": [
       "[('F statistic', 1.0007068047804386), ('p-value', 0.4722657688182762)]"
      ]
     },
     "execution_count": 36,
     "metadata": {},
     "output_type": "execute_result"
    },
    {
     "data": {
      "application/javascript": [
       "\n",
       "            setTimeout(function() {\n",
       "                var nbb_cell_id = 36;\n",
       "                var nbb_unformatted_code = \"# Goldfeld-quandt test\\nname = [\\\"F statistic\\\", \\\"p-value\\\"]\\ngq_test = sms.het_goldfeldquandt(df_pred[\\\"Residuals\\\"], X_train)\\nlzip(name, gq_test)\";\n",
       "                var nbb_formatted_code = \"# Goldfeld-quandt test\\nname = [\\\"F statistic\\\", \\\"p-value\\\"]\\ngq_test = sms.het_goldfeldquandt(df_pred[\\\"Residuals\\\"], X_train)\\nlzip(name, gq_test)\";\n",
       "                var nbb_cells = Jupyter.notebook.get_cells();\n",
       "                for (var i = 0; i < nbb_cells.length; ++i) {\n",
       "                    if (nbb_cells[i].input_prompt_number == nbb_cell_id) {\n",
       "                        if (nbb_cells[i].get_text() == nbb_unformatted_code) {\n",
       "                             nbb_cells[i].set_text(nbb_formatted_code);\n",
       "                        }\n",
       "                        break;\n",
       "                    }\n",
       "                }\n",
       "            }, 500);\n",
       "            "
      ],
      "text/plain": [
       "<IPython.core.display.Javascript object>"
      ]
     },
     "metadata": {},
     "output_type": "display_data"
    }
   ],
   "source": [
    "# Goldfeld-quandt test\n",
    "name = [\"F statistic\", \"p-value\"]\n",
    "gq_test = sms.het_goldfeldquandt(df_pred[\"Residuals\"], X_train)\n",
    "lzip(name, gq_test)"
   ]
  },
  {
   "cell_type": "markdown",
   "id": "72a69d46",
   "metadata": {},
   "source": [
    "#### Observations:\n",
    "- Since p-value is > 0.05, the residuals are homoscedastic.\n",
    "- **The assumption of homoscedasticity is met.**\n",
    "- **Not all of the assumptions of linear regression are strictly met.  However, we will accept them as sufficiently met to allow for guarded interpretation of coefficients.**"
   ]
  },
  {
   "cell_type": "markdown",
   "id": "5f04a978",
   "metadata": {},
   "source": [
    "## Final Model Summary"
   ]
  },
  {
   "cell_type": "markdown",
   "id": "ef362753",
   "metadata": {},
   "source": [
    "### *olsmodel3* summary"
   ]
  },
  {
   "cell_type": "code",
   "execution_count": null,
   "id": "68eebd34",
   "metadata": {},
   "outputs": [],
   "source": [
    "print(olsmodel3.summary())"
   ]
  },
  {
   "cell_type": "markdown",
   "id": "671752ec",
   "metadata": {},
   "source": [
    "#### Final Model Performance on Train Set"
   ]
  },
  {
   "cell_type": "code",
   "execution_count": null,
   "id": "0751ef97",
   "metadata": {},
   "outputs": [],
   "source": [
    "# Checking final model performance on train set\n",
    "print(\"Training Performance\\n\")\n",
    "olsmodel_train_perf = model_performance_regression(olsmodel3, X_train, y_train)\n",
    "olsmodel_train_perf"
   ]
  },
  {
   "cell_type": "markdown",
   "id": "c1892988",
   "metadata": {},
   "source": [
    "#### Final Model Performance on Validation Set"
   ]
  },
  {
   "cell_type": "code",
   "execution_count": null,
   "id": "36fce43c",
   "metadata": {},
   "outputs": [],
   "source": [
    "# Checking final model performance on test set\n",
    "print(\"Testing Performance\\n\")\n",
    "olsmodel_test_perf = model_performance_regression(olsmodel3, X_test, y_test)\n",
    "olsmodel_test_perf"
   ]
  },
  {
   "cell_type": "markdown",
   "id": "a6d0f540",
   "metadata": {},
   "source": [
    "#### Observations:\n",
    "- With $R^2$ of only 0.082 on the train set, our model is underfitting.  The predictors are only able to explain ~8% of the variation from the mean actual age.\n",
    "- Test $R^2$ of 0.079 indicates that the model is not overfitting, as it compares to that of the test set along with other measures.\n",
    "- MAE of 11.7 suggests that the model can predict within a mean error of 11.7 years on the test data.\n",
    "- MAPE of 19.3 on the test data means that we aree able to predict within ~19.3% of age."
   ]
  },
  {
   "cell_type": "markdown",
   "id": "1a5bc920",
   "metadata": {},
   "source": [
    "## Interpreting *olsmodel3* Parameters"
   ]
  },
  {
   "cell_type": "code",
   "execution_count": null,
   "id": "306ffcd0",
   "metadata": {},
   "outputs": [],
   "source": [
    "# For loop to make list of parameters with p-values < 0.05\n",
    "# Final model predictors\n",
    "final_pred = X_train\n",
    "\n",
    "# initial list of all independent variable columns excluding constant\n",
    "cols = final_pred.columns[1:]\n",
    "\n",
    "# initial list of columns to interpret\n",
    "features_to_interp = []\n",
    "\n",
    "# for loop to create list of features with p < 0.05\n",
    "for feature in cols:\n",
    "    p_value = olsmodel3.pvalues[feature]\n",
    "    if p_value < 0.05:\n",
    "        features_to_interp.append(feature)\n",
    "\n",
    "print(\n",
    "    \"Features with interpretable coefficient confidence intervals: \\n\\n\", feat_to_interp\n",
    ")"
   ]
  },
  {
   "cell_type": "markdown",
   "id": "d1c6df0e",
   "metadata": {},
   "source": [
    "#### Interpreting Final Features Coefficients (p-values < 0.05)"
   ]
  },
  {
   "cell_type": "code",
   "execution_count": null,
   "id": "c3a9444e",
   "metadata": {},
   "outputs": [],
   "source": [
    "# creating a dataframe of features, coefficients, and interpretations\n",
    "interp_df = pd.DataFrame(olsmodel3.params).loc[features_to_interp, :].reset_index()\n",
    "interp_df.rename({\"index\": \"Feature\", 0: \"Coefficient\"}, axis=1, inplace=True)\n",
    "\n",
    "# title for interpretation column\n",
    "title = \"Impact on Age (all else constant; compared to reference levels for category)\"\n",
    "\n",
    "# for loop to indicate how used price % changes in relation to feature dependent on feature type/transformation\n",
    "for i, feature in enumerate(interp_df[\"Feature\"]):\n",
    "\n",
    "    # for mutliplicative inverse transformed features based on 10-fold factor change in feature\n",
    "    if feature.startswith(\"recip\"):\n",
    "        interp_df.loc[\n",
    "            i, title\n",
    "        ] = f\"geometric decrease (*{round(((interp_df.loc[i, 'Coefficient'])*.01), 2)}) with each 10-fold increase in {feature.removeprefix('recip_')}\"\n",
    "\n",
    "    # for categorical one hot encoded\n",
    "    elif feature.startswith('region'):\n",
    "        interp_df.loc[\n",
    "            i, title\n",
    "        ] = f\"{np.round((interp_df.loc[i, 'Coefficient']), 2)} year change with {feature}\"\n",
    "        \n",
    "    # for categorical one hot encoded\n",
    "    elif feature.startswith('prior_region'):\n",
    "        interp_df.loc[\n",
    "            i, title\n",
    "        ] = f\"{np.round((interp_df.loc[i, 'Coefficient']), 2)} year change with {feature}\"\n",
    "\n",
    "    # for categorical one hot encoded\n",
    "    elif feature.startswith('known_for'):\n",
    "        interp_df.loc[\n",
    "            i, title\n",
    "        ] = f\"{np.round((interp_df.loc[i, 'Coefficient']), 2)} year change with {feature}\"\n",
    "    # for numeric not transformed\n",
    "    else:\n",
    "        interp_df.loc[\n",
    "            i, title\n",
    "        ] = f\"{np.round(interp_df.loc[i, 'Coefficient']*10, 2)} year change with 10 unit change in {feature}\"\n",
    "\n",
    "pd.set_option(\"max_colwidth\", 100)\n",
    "interp_df\n"
   ]
  },
  {
   "cell_type": "markdown",
   "id": "0f66697e",
   "metadata": {},
   "source": [
    "#### Observations:\n",
    "- We will now save our dataset and pick back up in a new notebook."
   ]
  },
  {
   "cell_type": "markdown",
   "id": "1113a242",
   "metadata": {},
   "source": [
    "### Exporting Dataset to SQLite Database [wp_life_expect_clean.db]()"
   ]
  },
  {
   "cell_type": "code",
   "execution_count": null,
   "id": "6008ac61",
   "metadata": {},
   "outputs": [],
   "source": [
    "# # Exporting dataframe\n",
    "\n",
    "# # Saving dataset in a SQLite database\n",
    "# conn = sql.connect(\"wp_life_expect_clean.db\")\n",
    "# df.to_sql(\"wp_life_expect_clean\", conn, index=False)"
   ]
  },
  {
   "cell_type": "code",
   "execution_count": null,
   "id": "a36c0663",
   "metadata": {},
   "outputs": [],
   "source": [
    "print('Complete')\n",
    "\n",
    "# Chime notification when cell executes\n",
    "chime.success()"
   ]
  },
  {
   "cell_type": "markdown",
   "id": "11aacfcc",
   "metadata": {},
   "source": [
    "# [Proceed to Data Cleaning Part ]()"
   ]
  },
  {
   "cell_type": "markdown",
   "id": "be620be8",
   "metadata": {},
   "source": [
    "<a id='Appendix'></a>"
   ]
  },
  {
   "cell_type": "markdown",
   "id": "47621a3c",
   "metadata": {},
   "source": [
    "# Appendix:  Model with Original Predictors and Target"
   ]
  },
  {
   "cell_type": "markdown",
   "id": "a2ae5d19",
   "metadata": {},
   "source": [
    "#### Defining Independent and Dependent Variables for Train and Test Sets"
   ]
  },
  {
   "cell_type": "code",
   "execution_count": null,
   "id": "e6dd2a8d",
   "metadata": {},
   "outputs": [],
   "source": [
    "# Creating list of predictor columns\n",
    "predictor_cols = [\n",
    "    \"num_references\",\n",
    "    \"years\",\n",
    "    \"region\",\n",
    "    \"prior_region\",\n",
    "    \"known_for\",\n",
    "]\n",
    "\n",
    "# Defining target column\n",
    "target = \"age\"\n",
    "\n",
    "# Defining independent and dependent variables\n",
    "X_train, X_test = df[predictor_cols], test[predictor_cols]\n",
    "y_train, y_test = df[target], test[target]\n",
    "\n",
    "\n",
    "# One hot encoding independent categorical features\n",
    "X_train = pd.get_dummies(X_train, drop_first=True)\n",
    "X_test = pd.get_dummies(X_test, drop_first=True)\n",
    "\n",
    "# Adding the intercept\n",
    "X_train = sm.add_constant(X_train)\n",
    "X_test = sm.add_constant(X_test)\n",
    "\n",
    "# Typecasting independent variables as float\n",
    "X_train = X_train.astype(\"float64\")\n",
    "X_test = X_test.astype(\"float64\")\n",
    "\n",
    "# Checking shape of train and test sets\n",
    "print(f\"There are {X_train.shape[0]} rows and {X_train.shape[1]} columns in X_train.\")\n",
    "print(f\"There are {X_test.shape[0]} rows and {X_test.shape[1]} columns in X_test.\\n\")\n",
    "\n",
    "# Checking a sample of train set\n",
    "X_train.sample(2)"
   ]
  },
  {
   "cell_type": "code",
   "execution_count": null,
   "id": "7cdeddfc",
   "metadata": {},
   "outputs": [],
   "source": [
    "# Checking a sample of test set\n",
    "X_test.sample(2)"
   ]
  },
  {
   "cell_type": "code",
   "execution_count": null,
   "id": "3c40ed4b",
   "metadata": {},
   "outputs": [],
   "source": [
    "# Fitting a linear model and displaying model summary\n",
    "olsmodel_first = sm.OLS(y_train, X_train).fit()\n",
    "print(olsmodel_first.summary())"
   ]
  },
  {
   "cell_type": "markdown",
   "id": "34cc8a94",
   "metadata": {},
   "source": [
    "### Model Performance Check"
   ]
  },
  {
   "cell_type": "markdown",
   "id": "c2fdf53c",
   "metadata": {},
   "source": [
    "#### Functions to check model performance"
   ]
  },
  {
   "cell_type": "code",
   "execution_count": null,
   "id": "1473e99e",
   "metadata": {},
   "outputs": [],
   "source": [
    "# function to compute adjusted R-squared\n",
    "def adj_r2_score(predictors, targets, predictions):\n",
    "    r2 = r2_score(targets, predictions)\n",
    "    n = predictors.shape[0]\n",
    "    k = predictors.shape[1]\n",
    "    return 1 - ((1 - r2) * (n - 1) / (n - k - 1))\n",
    "\n",
    "\n",
    "# function to compute MAPE\n",
    "def mape_score(targets, predictions):\n",
    "    return np.mean(np.abs((targets - predictions) / targets)) * 100\n",
    "\n",
    "\n",
    "# function to compute and display different metrics to check performance of a regression model\n",
    "# with conversion back to original scale for RMSE, MAE, and MAPE for ease of explainability\n",
    "def model_performance_regression(model, predictors, target):\n",
    "    \"\"\"\n",
    "    Function to compute and return a dataframe of different metrics to check\n",
    "    regression model performance\n",
    "    \n",
    "    model: regressor\n",
    "    predictors: independent variables\n",
    "    target: dependent variable\n",
    "    \"\"\"\n",
    "    # predictions\n",
    "    pred = model.predict(predictors)\n",
    "\n",
    "    r2 = r2_score(target, pred)  # to compute R-squared\n",
    "    adjr2 = adj_r2_score(predictors, target, pred)  # to compute adjusted R-squared\n",
    "    rmse = np.sqrt(mean_squared_error(target, pred))  # to compute RMSE\n",
    "    mae = mean_absolute_error(target, pred)  # to compute MAE\n",
    "    mape = mape_score(target, pred)  # to compute MAPE\n",
    "\n",
    "    # creating a dataframe of metrics\n",
    "    df_perf = pd.DataFrame(\n",
    "        {\n",
    "            \"RMSE\": rmse,\n",
    "            \"MAE\": mae,\n",
    "            \"R-squared\": r2,\n",
    "            \"Adj. R-squared\": adjr2,\n",
    "            \"MAPE\": mape,\n",
    "        },\n",
    "        index=[0],\n",
    "    )\n",
    "\n",
    "    return df_perf"
   ]
  },
  {
   "cell_type": "markdown",
   "id": "0acfb988",
   "metadata": {},
   "source": [
    "#### Model Performance on Train Set"
   ]
  },
  {
   "cell_type": "code",
   "execution_count": null,
   "id": "ff447e43",
   "metadata": {},
   "outputs": [],
   "source": [
    "# Checking model performance on train set\n",
    "print(\"Training Performance\\n\")\n",
    "olsmodel_train_perf = model_performance_regression(olsmodel_first, X_train, y_train)\n",
    "olsmodel_train_perf"
   ]
  },
  {
   "cell_type": "markdown",
   "id": "72df2235",
   "metadata": {},
   "source": [
    "### Model Performance on Test Set"
   ]
  },
  {
   "cell_type": "code",
   "execution_count": null,
   "id": "f6f2b1c3",
   "metadata": {},
   "outputs": [],
   "source": [
    "# Checking model performance on validation set\n",
    "print(\"Test Peformance\\n\")\n",
    "olsmodel_test_perf = model_performance_regression(olsmodel_first, X_test, y_test)\n",
    "olsmodel_test_perf"
   ]
  },
  {
   "cell_type": "markdown",
   "id": "098b95bb",
   "metadata": {},
   "source": [
    "### Checking Linear Regression Assumptions"
   ]
  },
  {
   "cell_type": "markdown",
   "id": "29a89e53",
   "metadata": {},
   "source": [
    "### Test for Multicollinearity"
   ]
  },
  {
   "cell_type": "markdown",
   "id": "2ba01f67",
   "metadata": {},
   "source": [
    "#### Function to check VIF of Each Independent Variable"
   ]
  },
  {
   "cell_type": "code",
   "execution_count": null,
   "id": "39775720",
   "metadata": {},
   "outputs": [],
   "source": [
    "# Define a function to check and display VIF of each independent variable\n",
    "def checking_vif(predictors):\n",
    "    \"\"\"\n",
    "    Takes input dependent variables predictors and returns\n",
    "    a dataframe of variable name and VIF\n",
    "    \"\"\"\n",
    "    vif = pd.DataFrame()\n",
    "    vif[\"feature\"] = predictors.columns\n",
    "\n",
    "    # calculating VIF for each feature\n",
    "    vif[\"VIF\"] = [\n",
    "        variance_inflation_factor(predictors.values, i)\n",
    "        for i in range(len(predictors.columns))\n",
    "    ]\n",
    "    return vif"
   ]
  },
  {
   "cell_type": "markdown",
   "id": "e389bb8c",
   "metadata": {},
   "source": [
    "#### VIF"
   ]
  },
  {
   "cell_type": "code",
   "execution_count": null,
   "id": "b2777ced",
   "metadata": {},
   "outputs": [],
   "source": [
    "# Checking vif\n",
    "vif = checking_vif(X_train).sort_values(by=\"VIF\", ascending=False)\n",
    "vif"
   ]
  },
  {
   "cell_type": "markdown",
   "id": "957f6c40",
   "metadata": {},
   "source": [
    "#### Function to Treat Multicollinearity"
   ]
  },
  {
   "cell_type": "code",
   "execution_count": null,
   "id": "14008491",
   "metadata": {},
   "outputs": [],
   "source": [
    "def treating_multicollinearity(predictors, target, high_vif_columns):\n",
    "    \"\"\"\n",
    "    Checking the effect of dropping the columns showing high multicollinearity\n",
    "    on model performance (adj. R-squared and RMSE)\n",
    "\n",
    "    predictors: independent variables\n",
    "    target: dependent variable\n",
    "    high_vif_columns: columns having high VIF\n",
    "    \"\"\"\n",
    "    # empty lists to store adj. R-squared and RMSE values\n",
    "    adj_r2 = []\n",
    "    rmse = []\n",
    "\n",
    "    # build ols models by dropping one of the high VIF columns at a time\n",
    "    # store the adjusted R-squared and RMSE in the lists defined previously\n",
    "    for cols in high_vif_columns:\n",
    "        # defining the new train set\n",
    "        train = predictors.loc[:, ~predictors.columns.str.startswith(cols)]\n",
    "\n",
    "        # create the model\n",
    "        olsmodel = sm.OLS(target, train).fit()\n",
    "\n",
    "        # adding adj. R-squared and RMSE to the lists\n",
    "        adj_r2.append(olsmodel.rsquared_adj)\n",
    "        rmse.append(np.sqrt(olsmodel.mse_resid))\n",
    "\n",
    "    # creating a dataframe for the results\n",
    "    temp = pd.DataFrame(\n",
    "        {\n",
    "            \"col\": high_vif_columns,\n",
    "            \"Adj. R-squared after_dropping col\": adj_r2,\n",
    "            \"RMSE after dropping col\": rmse,\n",
    "        }\n",
    "    ).sort_values(by=\"Adj. R-squared after_dropping col\", ascending=False)\n",
    "    temp.reset_index(drop=True, inplace=True)\n",
    "\n",
    "    return temp"
   ]
  },
  {
   "cell_type": "markdown",
   "id": "af0ab6b2",
   "metadata": {},
   "source": [
    "#### Checking Impact of Dropping Columns on Model Performance"
   ]
  },
  {
   "cell_type": "code",
   "execution_count": null,
   "id": "34eedbaa",
   "metadata": {},
   "outputs": [],
   "source": [
    "# Checking impact of dropping columns\n",
    "col_list = vif[vif[\"VIF\"] >= 5][\"feature\"].tolist()\n",
    "col_list.remove(\"const\")\n",
    "\n",
    "results = treating_multicollinearity(X_train, y_train, col_list)\n",
    "results"
   ]
  },
  {
   "cell_type": "markdown",
   "id": "d6aa4701",
   "metadata": {},
   "source": [
    "#### Dropping `prior_region_No Prior Region`"
   ]
  },
  {
   "cell_type": "code",
   "execution_count": null,
   "id": "4926efc8",
   "metadata": {},
   "outputs": [],
   "source": [
    "# Dropping prior_region_No Prior Region column\n",
    "col_to_drop = \"prior_region_No Prior Region\"\n",
    "X_train = X_train.drop(col_to_drop, axis=1)\n",
    "X_test = X_test.drop(col_to_drop, axis=1)\n",
    "\n",
    "# Recheck VIF\n",
    "vif = checking_vif(X_train).sort_values(by=\"VIF\", ascending=False)\n",
    "vif"
   ]
  },
  {
   "cell_type": "markdown",
   "id": "c107799f",
   "metadata": {},
   "source": [
    "#### Checking Impact of Dropping Columns on Model Performance"
   ]
  },
  {
   "cell_type": "code",
   "execution_count": null,
   "id": "32102f4b",
   "metadata": {},
   "outputs": [],
   "source": [
    "# Checking impact of dropping columns\n",
    "col_list = vif[vif[\"VIF\"] >= 5][\"feature\"].tolist()\n",
    "col_list.remove(\"const\")\n",
    "\n",
    "results = treating_multicollinearity(X_train, y_train, col_list)\n",
    "results"
   ]
  },
  {
   "cell_type": "markdown",
   "id": "154a533c",
   "metadata": {},
   "source": [
    "#### Dropping `known_for_politics_govt_law`"
   ]
  },
  {
   "cell_type": "code",
   "execution_count": null,
   "id": "beb902df",
   "metadata": {},
   "outputs": [],
   "source": [
    "# Dropping known_for_politics_govt_law column\n",
    "col_to_drop = \"known_for_politics_govt_law\"\n",
    "X_train = X_train.drop(col_to_drop, axis=1)\n",
    "X_test = X_test.drop(col_to_drop, axis=1)\n",
    "\n",
    "# Recheck VIF\n",
    "vif = checking_vif(X_train).sort_values(by=\"VIF\", ascending=False)\n",
    "vif"
   ]
  },
  {
   "cell_type": "markdown",
   "id": "a39b0165",
   "metadata": {},
   "source": [
    "#### Checking Impact of Dropping Columns on Model Performance"
   ]
  },
  {
   "cell_type": "code",
   "execution_count": null,
   "id": "e288063d",
   "metadata": {},
   "outputs": [],
   "source": [
    "# Checking impact of dropping columns\n",
    "col_list = vif[vif[\"VIF\"] >= 5][\"feature\"].tolist()\n",
    "col_list.remove(\"const\")\n",
    "\n",
    "results = treating_multicollinearity(X_train, y_train, col_list)\n",
    "results"
   ]
  },
  {
   "cell_type": "markdown",
   "id": "869173fa",
   "metadata": {},
   "source": [
    "#### Dropping `region_Europe`"
   ]
  },
  {
   "cell_type": "code",
   "execution_count": null,
   "id": "fdbfce6a",
   "metadata": {},
   "outputs": [],
   "source": [
    "# Dropping region_Europe column\n",
    "col_to_drop = \"region_Europe\"\n",
    "X_train = X_train.drop(col_to_drop, axis=1)\n",
    "X_test = X_test.drop(col_to_drop, axis=1)\n",
    "\n",
    "# Recheck VIF\n",
    "vif = checking_vif(X_train).sort_values(by=\"VIF\", ascending=False)\n",
    "vif"
   ]
  },
  {
   "cell_type": "markdown",
   "id": "cb3a20fb",
   "metadata": {},
   "source": [
    "#### Fitting Second Model"
   ]
  },
  {
   "cell_type": "code",
   "execution_count": null,
   "id": "39850419",
   "metadata": {},
   "outputs": [],
   "source": [
    "# Fitting a linear model and displaying model summary\n",
    "olsmodel_first2 = sm.OLS(y_train, X_train).fit()\n",
    "print(olsmodel_first2.summary())"
   ]
  },
  {
   "cell_type": "markdown",
   "id": "b3ac5e8d",
   "metadata": {},
   "source": [
    "#### Checking Features with High Coefficient p-values"
   ]
  },
  {
   "cell_type": "code",
   "execution_count": null,
   "id": "8504aead",
   "metadata": {},
   "outputs": [],
   "source": [
    "## Loop for Dropping variables with high coefficient p-values one at a time excluding constant and dummy variables\n",
    "# Current model predictors\n",
    "train_predictors = X_train\n",
    "\n",
    "# initial list of all independent variable columns including constant\n",
    "cols = train_predictors.columns.to_list()\n",
    "\n",
    "# initial empty list of independent variables to exclude\n",
    "excluded_features = []\n",
    "\n",
    "# setting an initial max p_value\n",
    "max_p_value = 1\n",
    "\n",
    "for i in range(len(cols)):\n",
    "    # defining the train set\n",
    "    x_train_aux = train_predictors[cols]\n",
    "\n",
    "    # fitting the model\n",
    "    model = sm.OLS(y_train, x_train_aux).fit()\n",
    "\n",
    "    # getting the p-values and the maximum p-value\n",
    "    p_values = model.pvalues[cols]\n",
    "    max_p_value = max(p_values)\n",
    "\n",
    "    # name of the variable with maximum p-value\n",
    "    feature_with_p_max = p_values.idxmax()\n",
    "\n",
    "    if max_p_value > 0.05:\n",
    "        cols.remove(feature_with_p_max)\n",
    "        excluded_features.append(feature_with_p_max)\n",
    "    else:\n",
    "        break\n",
    "\n",
    "print(f\"Features with high p-values to exclude: {excluded_features}\")"
   ]
  },
  {
   "cell_type": "markdown",
   "id": "8beacfbc",
   "metadata": {},
   "source": [
    "#### Dropping `excluded_features` with High p-values"
   ]
  },
  {
   "cell_type": "code",
   "execution_count": null,
   "id": "eb8c8e3f",
   "metadata": {},
   "outputs": [],
   "source": [
    "# Dropping excluded_features\n",
    "X_train.drop(excluded_features, axis=1, inplace=True)\n",
    "X_test.drop(excluded_features, axis=1, inplace=True)"
   ]
  },
  {
   "cell_type": "markdown",
   "id": "e6aa5d14",
   "metadata": {},
   "source": [
    "#### Fitting Third Model"
   ]
  },
  {
   "cell_type": "code",
   "execution_count": null,
   "id": "331b224e",
   "metadata": {},
   "outputs": [],
   "source": [
    "# fitting third model and printing summary\n",
    "olsmodel_first3 = sm.OLS(y_train, X_train).fit()\n",
    "print(olsmodel_first3.summary())"
   ]
  },
  {
   "cell_type": "markdown",
   "id": "8add568b",
   "metadata": {},
   "source": [
    "### Test for Linearity and Independence"
   ]
  },
  {
   "cell_type": "markdown",
   "id": "cd93d1d8",
   "metadata": {},
   "source": [
    "#### Dataframe of Actual, Fitted, and Residual Values"
   ]
  },
  {
   "cell_type": "code",
   "execution_count": null,
   "id": "72f3c611",
   "metadata": {},
   "outputs": [],
   "source": [
    "# Dataframe of actual, fitted, and residual values\n",
    "df_pred = pd.DataFrame()\n",
    "\n",
    "df_pred[\"Actual Values\"] = y_train  # actual values\n",
    "df_pred[\"Fitted Values\"] = olsmodel3.fittedvalues  # predicted values\n",
    "df_pred[\"Residuals\"] = olsmodel3.resid  # residuals\n",
    "\n",
    "df_pred.sample(5)"
   ]
  },
  {
   "cell_type": "markdown",
   "id": "2166742c",
   "metadata": {},
   "source": [
    "#### Plot of Fitted Values vs Residuals"
   ]
  },
  {
   "cell_type": "code",
   "execution_count": null,
   "id": "c80435a6",
   "metadata": {},
   "outputs": [],
   "source": [
    "# Plot of fitted values vs residuals\n",
    "sns.residplot(\n",
    "    data=df_pred, x=\"Fitted Values\", y=\"Residuals\", color=\"purple\", lowess=True\n",
    ")\n",
    "plt.xlabel(\"Fitted Values\")\n",
    "plt.ylabel(\"Residuals\")\n",
    "plt.title(\"Fitted vs Residual plot\")\n",
    "plt.show()"
   ]
  },
  {
   "cell_type": "markdown",
   "id": "1d7fc430",
   "metadata": {},
   "source": [
    "### Test for Normality"
   ]
  },
  {
   "cell_type": "markdown",
   "id": "ffbe569c",
   "metadata": {},
   "source": [
    "#### Histogram"
   ]
  },
  {
   "cell_type": "code",
   "execution_count": null,
   "id": "ec092302",
   "metadata": {},
   "outputs": [],
   "source": [
    "# Histogram of residuals\n",
    "sns.histplot(data=df_pred, x=\"Residuals\", kde=True)\n",
    "plt.title(\"Normality of Residuals\")\n",
    "plt.show()"
   ]
  },
  {
   "cell_type": "markdown",
   "id": "53292494",
   "metadata": {},
   "source": [
    "#### Q-Q plot"
   ]
  },
  {
   "cell_type": "code",
   "execution_count": null,
   "id": "dc585294",
   "metadata": {},
   "outputs": [],
   "source": [
    "# checking the Q-Q plot\n",
    "stats.probplot(df_pred[\"Residuals\"], dist=\"norm\", plot=pylab)\n",
    "plt.show()"
   ]
  },
  {
   "cell_type": "markdown",
   "id": "7448eddd",
   "metadata": {},
   "source": [
    "### Test for Homoscedasticity"
   ]
  },
  {
   "cell_type": "markdown",
   "id": "6fa238ad",
   "metadata": {},
   "source": [
    "#### Goldfeld-Quandt Test"
   ]
  },
  {
   "cell_type": "code",
   "execution_count": null,
   "id": "b6e0a9e5",
   "metadata": {},
   "outputs": [],
   "source": [
    "# Goldfeld-quandt test\n",
    "name = [\"F statistic\", \"p-value\"]\n",
    "gq_test = sms.het_goldfeldquandt(df_pred[\"Residuals\"], X_train)\n",
    "lzip(name, gq_test)"
   ]
  }
 ],
 "metadata": {
  "kernelspec": {
   "display_name": "Python 3 (ipykernel)",
   "language": "python",
   "name": "python3"
  },
  "language_info": {
   "codemirror_mode": {
    "name": "ipython",
    "version": 3
   },
   "file_extension": ".py",
   "mimetype": "text/x-python",
   "name": "python",
   "nbconvert_exporter": "python",
   "pygments_lexer": "ipython3",
   "version": "3.9.12"
  }
 },
 "nbformat": 4,
 "nbformat_minor": 5
}
