{
 "cells": [
  {
   "cell_type": "markdown",
   "id": "316a0779",
   "metadata": {},
   "source": [
    "# Wikipedia Notable Life Expectancies\n",
    "# [Notebook  : Data Cleaning Part ]()\n",
    "### Context\n",
    "\n",
    "The\n",
    "### Objective\n",
    "\n",
    "The\n",
    "### Data Dictionary\n",
    "- Feature: Description"
   ]
  },
  {
   "cell_type": "markdown",
   "id": "99245d51",
   "metadata": {},
   "source": [
    "### Importing Libraries"
   ]
  },
  {
   "cell_type": "code",
   "execution_count": null,
   "id": "453bba83",
   "metadata": {},
   "outputs": [],
   "source": [
    "# To structure code automatically\n",
    "%load_ext nb_black\n",
    "\n",
    "# To import/export sqlite databases\n",
    "import sqlite3 as sql\n",
    "\n",
    "# To save/open python objects in pickle file\n",
    "import pickle\n",
    "\n",
    "# To help with reading, cleaning, and manipulating data\n",
    "import pandas as pd\n",
    "import numpy as np\n",
    "import re\n",
    "\n",
    "# To define maximum number of columns to be displayed in a dataframe\n",
    "pd.set_option(\"display.max_columns\", None)\n",
    "# To define the maximum number of rows to be displayed in a dataframe\n",
    "pd.set_option(\"display.max_rows\", 200)\n",
    "\n",
    "# To supress warnings\n",
    "# import warnings\n",
    "\n",
    "# warnings.filterwarnings(\"ignore\")\n",
    "\n",
    "# To set some visualization attributes\n",
    "pd.set_option(\"max_colwidth\", 150)\n",
    "\n",
    "# To play auditory cue when cell has executed, has warning, or has error and set chime theme\n",
    "import chime\n",
    "\n",
    "chime.theme(\"zelda\")"
   ]
  },
  {
   "cell_type": "markdown",
   "id": "cc818a82",
   "metadata": {},
   "source": [
    "## Data Overview"
   ]
  },
  {
   "cell_type": "markdown",
   "id": "0ed005f6",
   "metadata": {},
   "source": [
    "### [Reading](), Sampling, and Checking Data Shape"
   ]
  },
  {
   "cell_type": "code",
   "execution_count": null,
   "id": "0ca58a95",
   "metadata": {},
   "outputs": [],
   "source": [
    "# Reading the dataset\n",
    "conn = sql.connect(\"wp_life_expect_clean.db\")\n",
    "data = pd.read_sql(\"SELECT * FROM wp_life_expect_clean\", conn)\n",
    "\n",
    "# Making a working copy\n",
    "df = data.copy()\n",
    "\n",
    "# Checking the shape\n",
    "print(f\"There are {df.shape[0]} rows and {df.shape[1]} columns.\")\n",
    "\n",
    "# Checking first 2 rows of the data\n",
    "df.head(2)"
   ]
  },
  {
   "cell_type": "code",
   "execution_count": null,
   "id": "6cca416f",
   "metadata": {},
   "outputs": [],
   "source": [
    "# Checking last 2 rows of the data\n",
    "df.tail(2)"
   ]
  },
  {
   "cell_type": "code",
   "execution_count": null,
   "id": "de6e8ee5",
   "metadata": {},
   "outputs": [],
   "source": [
    "# Checking a sample of the data\n",
    "df.sample(5)"
   ]
  },
  {
   "cell_type": "markdown",
   "id": "8d5f29da",
   "metadata": {},
   "source": [
    "### Checking Data Types, Duplicates, and Null Values"
   ]
  },
  {
   "cell_type": "code",
   "execution_count": null,
   "id": "bf505f87",
   "metadata": {},
   "outputs": [],
   "source": [
    "# Checking data types and null values\n",
    "df.info()"
   ]
  },
  {
   "cell_type": "markdown",
   "id": "c459d7f8",
   "metadata": {},
   "source": [
    "#### Observations:\n",
    "- With our dataset loaded, we can pick up where we left off with extracting known_for and `cause_of_death` values."
   ]
  },
  {
   "cell_type": "markdown",
   "id": "5c542ec1",
   "metadata": {},
   "source": [
    "### Extracting Remaining `known_for` and `cause_of_death` Values Continued"
   ]
  },
  {
   "cell_type": "code",
   "execution_count": null,
   "id": "87fccaff",
   "metadata": {},
   "outputs": [],
   "source": []
  },
  {
   "cell_type": "code",
   "execution_count": null,
   "id": "ecbe5c5d",
   "metadata": {},
   "outputs": [],
   "source": [
    "print(\"dunzo!\")\n",
    "\n",
    "# Sound notification when cell executes\n",
    "chime.success()"
   ]
  },
  {
   "cell_type": "code",
   "execution_count": null,
   "id": "0271a07f",
   "metadata": {},
   "outputs": [],
   "source": []
  },
  {
   "cell_type": "code",
   "execution_count": null,
   "id": "e40e3f27",
   "metadata": {},
   "outputs": [],
   "source": []
  },
  {
   "cell_type": "code",
   "execution_count": null,
   "id": "db6c3c0c",
   "metadata": {},
   "outputs": [],
   "source": []
  },
  {
   "cell_type": "markdown",
   "id": "cbea7ecf",
   "metadata": {},
   "source": [
    "#### Finding `known_for` Roles and `cause_of_death` in `info_3_0`"
   ]
  },
  {
   "cell_type": "code",
   "execution_count": null,
   "id": "e392e86b",
   "metadata": {},
   "outputs": [],
   "source": [
    "# Obtaining values for column and their counts\n",
    "roles_cause_list = df[\"info_3_0\"].value_counts(ascending=True).index.tolist()"
   ]
  },
  {
   "cell_type": "code",
   "execution_count": null,
   "id": "19b2f85c",
   "metadata": {},
   "outputs": [],
   "source": [
    "# Code to check each value\n",
    "roles_cause_list.pop()"
   ]
  },
  {
   "cell_type": "code",
   "execution_count": null,
   "id": "0c884b32",
   "metadata": {},
   "outputs": [],
   "source": [
    "# # Create specific_roles_cause_list for above popped value\n",
    "# specific_roles_cause_list = (\n",
    "#     df.loc[\n",
    "#         [\n",
    "#             index\n",
    "#             for index in df[df[\"info_3_0\"].notna()].index\n",
    "#             if \"pioneer\" in df.loc[index, \"info_3_0\"]\n",
    "# #             and df.loc[index, \"politics_govt_law\"] == 0\n",
    "# #             and df.loc[index, \"arts\"] == 0\n",
    "# #             and df.loc[index, \"sciences\"] == 0\n",
    "# #             and df.loc[index, \"spiritual\"] == 0\n",
    "# #             and df.loc[index, \"law_enf_military_operator\"] == 0\n",
    "# #             and df.loc[index, \"sports\"] == 0\n",
    "# #             and df.loc[index, \"event_record_other\"] == 0\n",
    "# #             and df.loc[index, \"crime\"] == 0\n",
    "# #             and df.loc[index, \"academia_humanities\"] == 0\n",
    "# #             and df.loc[index, \"business_farming\"] == 0\n",
    "#             #                         and df.loc[index, \"other_species\"] == 0\n",
    "#             #             and df.loc[index, \"num_categories\"] == 0\n",
    "#         ],\n",
    "#         \"info_3_0\",\n",
    "#     ]\n",
    "#     .value_counts()\n",
    "#     .index.tolist()\n",
    "# )"
   ]
  },
  {
   "cell_type": "code",
   "execution_count": null,
   "id": "7550a487",
   "metadata": {},
   "outputs": [],
   "source": [
    "# # Viewing list sorted by descending length to copy to dictionary below and screen values\n",
    "# sorted(specific_roles_cause_list, key=lambda x: len(x), reverse=True)"
   ]
  },
  {
   "cell_type": "code",
   "execution_count": null,
   "id": "d2da3d72",
   "metadata": {},
   "outputs": [],
   "source": [
    "# # Example code to quick-check a specific entry\n",
    "# df[df[\"info_2_0\"] == \"outlaw country music singer songwriter\"]"
   ]
  },
  {
   "cell_type": "markdown",
   "id": "97842e56",
   "metadata": {},
   "source": [
    "#### Creating Lists for Each `known_for` Category and for `cause_of_death`"
   ]
  },
  {
   "cell_type": "code",
   "execution_count": null,
   "id": "16d92bb3",
   "metadata": {},
   "outputs": [],
   "source": [
    "# Creating lists for each category and sorting by decreasing length and removing duplicates\n",
    "\n",
    "politics_govt_law = []\n",
    "politics_govt_law = sorted(list(set(politics_govt_law)), key=lambda x: len(x), reverse=True)  \n",
    "\n",
    "arts = []\n",
    "arts = sorted(list(set(arts)), key=lambda x: len(x), reverse=True)  \n",
    "\n",
    "sports = []\n",
    "sports = sorted(list(set(sports)), key=lambda x: len(x), reverse=True) \n",
    "\n",
    "sciences = []\n",
    "sciences = sorted(list(set(sciences)), key=lambda x: len(x), reverse=True) \n",
    "\n",
    "business_farming = []\n",
    "business_farming = sorted(list(set(business_farming)), key=lambda x: len(x), reverse=True)  \n",
    "\n",
    "academia_humanities = []\n",
    "academia_humanities = sorted(list(set(academia_humanities)), key=lambda x: len(x), reverse=True)  \n",
    "\n",
    "law_enf_military_operator = []\n",
    "law_enf_military_operator = sorted(list(set(law_enf_military_operator)), key=lambda x: len(x), reverse=True)  \n",
    "\n",
    "spiritual = []\n",
    "spiritual = sorted(list(set(spiritual)), key=lambda x: len(x), reverse=True)  \n",
    "\n",
    "social = []\n",
    "social = sorted(list(set(social)), key=lambda x: len(x), reverse=True)  \n",
    "\n",
    "crime = []\n",
    "crime = sorted(list(set(crime)), key=lambda x: len(x), reverse=True)  \n",
    "\n",
    "event_record_other = []\n",
    "event_record_other = sorted(list(set(event_record_other)), key=lambda x: len(x), reverse=True)  \n",
    "\n",
    "other_species = []\n",
    "other_species = sorted(list(set(other_species)), key=lambda x: len(x), reverse=True) \n",
    "\n",
    "cause_of_death = []\n",
    "cause_of_death = sorted(list(set(cause_of_death)), key=lambda x: len(x), reverse=True)"
   ]
  },
  {
   "cell_type": "markdown",
   "id": "19e0f93c",
   "metadata": {},
   "source": [
    "#### Creating `known_for_dict` Dictionary of Category Keys and Specific Role Lists of Values"
   ]
  },
  {
   "cell_type": "code",
   "execution_count": null,
   "id": "62805084",
   "metadata": {},
   "outputs": [],
   "source": [
    "# Combining separate lists into one dictionary\n",
    "known_for_dict = {\n",
    "    \"social\": social,\n",
    "    \"spiritual\": spiritual,\n",
    "    \"academia_humanities\": academia_humanities,\n",
    "    \"business_farming\": business_farming,\n",
    "    \"sciences\": sciences,\n",
    "    \"politics_govt_law\": politics_govt_law,\n",
    "    \"law_enf_military_operator\": law_enf_military_operator,\n",
    "    \"crime\": crime,\n",
    "    \"event_record_other\": event_record_other,\n",
    "    \"other_species\": other_species,\n",
    "    \"arts\": arts,\n",
    "    \"sports\": sports,\n",
    "\n",
    "}"
   ]
  },
  {
   "cell_type": "markdown",
   "id": "2300bb48",
   "metadata": {},
   "source": [
    "#### Extracting `known_for` Categories and `cause_of_death` Values from `info_3_0`"
   ]
  },
  {
   "cell_type": "code",
   "execution_count": null,
   "id": "b735dd04",
   "metadata": {},
   "outputs": [],
   "source": [
    "%%time\n",
    "\n",
    "# Column to check\n",
    "column = 'info_3_1'\n",
    "\n",
    "# Start dataframe\n",
    "dataframe = df[df[column].notna()]\n",
    "\n",
    "# For loop to find cause in column and extract it to cause_of_death\n",
    "for cause in cause_of_death:\n",
    "    for index in dataframe.index:\n",
    "        item = df.loc[index, column]\n",
    "        if item:\n",
    "            if cause in item:\n",
    "                if df.loc[index, 'cause_of_death']:\n",
    "                    df.loc[index, 'cause_of_death'] = df.loc[index, 'cause_of_death'] + '/' + cause\n",
    "                    df.loc[index, column] = item.replace(cause, '').strip()\n",
    "                else:\n",
    "                    df.loc[index, 'cause_of_death'] = cause\n",
    "                    df.loc[index, column] = item.replace(cause, '').strip()\n",
    "                \n",
    "                \n",
    "# For loop to find role in column and extract it as category\n",
    "for category, category_lst in known_for_dict.items():\n",
    "    for role in category_lst:\n",
    "        for index in dataframe.index:\n",
    "                item = df.loc[index, column]\n",
    "                if item:\n",
    "                    if role in item:\n",
    "                        df.loc[index, category] = 1\n",
    "                        df.loc[index, column] = item.replace(role, '').strip()\n",
    "\n",
    "# Calculating num_categories\n",
    "df[\"num_categories\"] = df[known_for_dict.keys()].sum(axis=1)\n",
    "\n",
    "# Checking number of cause_of_death values\n",
    "print(f'There are {df[\"cause_of_death\"].notna().sum()} values in cause_of_death column.\\n')"
   ]
  },
  {
   "cell_type": "markdown",
   "id": "be0e125e",
   "metadata": {},
   "source": [
    "#### Checking Updated `num_categories` Value Counts"
   ]
  },
  {
   "cell_type": "code",
   "execution_count": null,
   "id": "473d5fb6",
   "metadata": {},
   "outputs": [],
   "source": [
    "# Checking Updated num_categories Value Counts\n",
    "df[\"num_categories\"].value_counts()"
   ]
  },
  {
   "cell_type": "markdown",
   "id": "e3f042c6",
   "metadata": {},
   "source": [
    "#### Observations:\n",
    "- We will proceed to rebuild `known_for_dict` and `cause_of_death` for the next iteration."
   ]
  },
  {
   "cell_type": "code",
   "execution_count": null,
   "id": "dce22fd9",
   "metadata": {},
   "outputs": [],
   "source": []
  },
  {
   "cell_type": "code",
   "execution_count": null,
   "id": "b8609f2e",
   "metadata": {},
   "outputs": [],
   "source": []
  },
  {
   "cell_type": "code",
   "execution_count": null,
   "id": "73659ec8",
   "metadata": {},
   "outputs": [],
   "source": []
  },
  {
   "cell_type": "code",
   "execution_count": null,
   "id": "a16ff517",
   "metadata": {},
   "outputs": [],
   "source": []
  },
  {
   "cell_type": "code",
   "execution_count": null,
   "id": "8992d649",
   "metadata": {},
   "outputs": [],
   "source": []
  },
  {
   "cell_type": "markdown",
   "id": "228a408c",
   "metadata": {},
   "source": [
    "#### Verifying that Values in info_3_0 Are Exhausted"
   ]
  },
  {
   "cell_type": "code",
   "execution_count": 2,
   "id": "35aa9b12",
   "metadata": {},
   "outputs": [],
   "source": [
    "# # Verifying that `info_3_0` is exhausted\n",
    "# df[\"info_3_0\"].value_counts()"
   ]
  },
  {
   "cell_type": "markdown",
   "id": "bf13f70b",
   "metadata": {},
   "source": [
    "#### Dropping info_3_0"
   ]
  },
  {
   "cell_type": "code",
   "execution_count": null,
   "id": "d250ac10",
   "metadata": {},
   "outputs": [],
   "source": [
    "# # Dropping info_3_0\n",
    "# df.drop(\"info_3_0\", axis=1, inplace=True)\n",
    "\n",
    "# # Checking sample\n",
    "# df.sample()"
   ]
  },
  {
   "cell_type": "markdown",
   "id": "0f66697e",
   "metadata": {},
   "source": [
    "#### Observations:\n",
    "- Our search of column info_3_0 is finished and have dropped that column.\n",
    "- We will now save our dataset and pick back up in a new notebook."
   ]
  },
  {
   "cell_type": "markdown",
   "id": "1113a242",
   "metadata": {},
   "source": [
    "### Exporting Dataset to SQLite Database [wp_life_expect_clean.db]()"
   ]
  },
  {
   "cell_type": "code",
   "execution_count": null,
   "id": "6008ac61",
   "metadata": {},
   "outputs": [],
   "source": [
    "# # Exporting dataframe\n",
    "\n",
    "# # Saving dataset in a SQLite database\n",
    "# conn = sql.connect(\"wp_life_expect_clean.db\")\n",
    "# df.to_sql(\"wp_life_expect_clean\", conn, index=False)\n",
    "\n",
    "# # Chime notification when cell executes\n",
    "# chime.success()"
   ]
  },
  {
   "cell_type": "markdown",
   "id": "11aacfcc",
   "metadata": {},
   "source": [
    "# [Proceed to Data Cleaning Part ]()"
   ]
  }
 ],
 "metadata": {
  "kernelspec": {
   "display_name": "Python 3 (ipykernel)",
   "language": "python",
   "name": "python3"
  },
  "language_info": {
   "codemirror_mode": {
    "name": "ipython",
    "version": 3
   },
   "file_extension": ".py",
   "mimetype": "text/x-python",
   "name": "python",
   "nbconvert_exporter": "python",
   "pygments_lexer": "ipython3",
   "version": "3.9.12"
  }
 },
 "nbformat": 4,
 "nbformat_minor": 5
}
