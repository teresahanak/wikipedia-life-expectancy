{
 "cells": [
  {
   "cell_type": "markdown",
   "id": "92a8967a",
   "metadata": {},
   "source": [
    "# Wikipedia Notable Deaths\n",
    "\n",
    "## Context\n",
    "\n",
    "The...\n",
    "\n",
    "## Objective\n",
    "\n",
    "The...\n",
    "\n",
    "## Data Dictionary\n",
    "Variable: Description"
   ]
  },
  {
   "cell_type": "markdown",
   "id": "2b93796b",
   "metadata": {},
   "source": [
    "### Data Collection\n",
    "Scraped on 6/9/22 with scrapy.\n",
    "\n",
    "Main site: https://en.wikipedia.org/wiki/Lists_of_deaths_by_year\n",
    "Start_url: https://en.wikipedia.org/wiki/Deaths_in_January_1994\n",
    "paginating through May, 2022 successfully.\n",
    "Reference count scraped separately,due to pagination, to maintain original order in first dataset.\n",
    "June, 20222 as the current month had inconsistent formatting and was scraped separately. \n",
    "~13,000 missing entries for reference count.\n",
    "\n",
    "6/10/22 set out to id links with missing reference count to rescrape."
   ]
  },
  {
   "cell_type": "markdown",
   "id": "d9ba5a1a",
   "metadata": {},
   "source": [
    "## Importing necessary libraries"
   ]
  },
  {
   "cell_type": "code",
   "execution_count": 1,
   "id": "879e417a",
   "metadata": {},
   "outputs": [],
   "source": [
    "# To limit number of threads in numpy and thereby prevent known dataleak associated with KMeans\n",
    "# Note:  this cell must be run BEFORE installing numpy to have desired effect\n",
    "import os\n",
    "\n",
    "os.environ[\"OMP_NUM_THREADS\"] = \"1\""
   ]
  },
  {
   "cell_type": "code",
   "execution_count": 2,
   "id": "5a6bb6a3",
   "metadata": {},
   "outputs": [
    {
     "data": {
      "application/javascript": [
       "\n",
       "            setTimeout(function() {\n",
       "                var nbb_cell_id = 2;\n",
       "                var nbb_unformatted_code = \"# To structure code automatically\\n%load_ext nb_black\\n\\n# To import sqlite databases\\nimport sqlite3 as sql\\n\\n# To help with reading and manipulating data\\nimport pandas as pd\\nimport numpy as np\\n\\n# To help with data visualization\\nimport matplotlib.pyplot as plt\\nimport seaborn as sns\\nfrom sklearn.manifold import TSNE\\nfrom sklearn.decomposition import PCA\\n\\n# To be used for data scaling\\nfrom sklearn.preprocessing import StandardScaler\\n\\n# To compute distances\\nfrom scipy.spatial.distance import cdist, pdist\\n\\n# To define maximum number of columns to be displayed in a dataframe\\npd.set_option(\\\"display.max_columns\\\", None)\\n# To define the maximum number of rows to be displayed in a dataframe\\npd.set_option(\\\"display.max_rows\\\", 200)\\n\\n# To perform k-means clustering and compute silhouette scores\\nfrom sklearn.cluster import KMeans\\nfrom sklearn.metrics import silhouette_score\\n\\n# To visualize the elbow curve and silhouette scores\\nfrom yellowbrick.cluster import KElbowVisualizer, SilhouetteVisualizer\\nfrom yellowbrick.style.palettes import PALETTES\\n\\n# To perform hierarchical clustering, compute cophenetic correlation, and create dendrograms\\nfrom sklearn.cluster import AgglomerativeClustering\\nfrom scipy.cluster.hierarchy import dendrogram, linkage, cophenet\\n\\n# To supress scientific notations for a dataframe\\npd.set_option(\\\"display.float_format\\\", lambda x: \\\"%.3f\\\" % x)\\n\\n# To supress warnings\\nimport warnings\\n\\nwarnings.filterwarnings(\\\"ignore\\\")\\n\\n# To set some visualization attributes\\npd.set_option(\\\"max_colwidth\\\", 150)\\nsns.set_theme()\\nsns.set_palette(\\n    (\\n        \\\"midnightblue\\\",\\n        \\\"goldenrod\\\",\\n        \\\"maroon\\\",\\n        \\\"darkolivegreen\\\",\\n        \\\"cadetblue\\\",\\n        \\\"tab:purple\\\",\\n        \\\"yellowgreen\\\",\\n    )\\n)\\nplt.rc(\\\"font\\\", size=12)\\nplt.rc(\\\"axes\\\", titlesize=15)\\nplt.rc(\\\"axes\\\", labelsize=14)\\nplt.rc(\\\"xtick\\\", labelsize=13)\\nplt.rc(\\\"ytick\\\", labelsize=13)\\nplt.rc(\\\"legend\\\", fontsize=13)\\nplt.rc(\\\"legend\\\", fontsize=14)\\nplt.rc(\\\"figure\\\", titlesize=16)\";\n",
       "                var nbb_formatted_code = \"# To structure code automatically\\n%load_ext nb_black\\n\\n# To import sqlite databases\\nimport sqlite3 as sql\\n\\n# To help with reading and manipulating data\\nimport pandas as pd\\nimport numpy as np\\n\\n# To help with data visualization\\nimport matplotlib.pyplot as plt\\nimport seaborn as sns\\nfrom sklearn.manifold import TSNE\\nfrom sklearn.decomposition import PCA\\n\\n# To be used for data scaling\\nfrom sklearn.preprocessing import StandardScaler\\n\\n# To compute distances\\nfrom scipy.spatial.distance import cdist, pdist\\n\\n# To define maximum number of columns to be displayed in a dataframe\\npd.set_option(\\\"display.max_columns\\\", None)\\n# To define the maximum number of rows to be displayed in a dataframe\\npd.set_option(\\\"display.max_rows\\\", 200)\\n\\n# To perform k-means clustering and compute silhouette scores\\nfrom sklearn.cluster import KMeans\\nfrom sklearn.metrics import silhouette_score\\n\\n# To visualize the elbow curve and silhouette scores\\nfrom yellowbrick.cluster import KElbowVisualizer, SilhouetteVisualizer\\nfrom yellowbrick.style.palettes import PALETTES\\n\\n# To perform hierarchical clustering, compute cophenetic correlation, and create dendrograms\\nfrom sklearn.cluster import AgglomerativeClustering\\nfrom scipy.cluster.hierarchy import dendrogram, linkage, cophenet\\n\\n# To supress scientific notations for a dataframe\\npd.set_option(\\\"display.float_format\\\", lambda x: \\\"%.3f\\\" % x)\\n\\n# To supress warnings\\nimport warnings\\n\\nwarnings.filterwarnings(\\\"ignore\\\")\\n\\n# To set some visualization attributes\\npd.set_option(\\\"max_colwidth\\\", 150)\\nsns.set_theme()\\nsns.set_palette(\\n    (\\n        \\\"midnightblue\\\",\\n        \\\"goldenrod\\\",\\n        \\\"maroon\\\",\\n        \\\"darkolivegreen\\\",\\n        \\\"cadetblue\\\",\\n        \\\"tab:purple\\\",\\n        \\\"yellowgreen\\\",\\n    )\\n)\\nplt.rc(\\\"font\\\", size=12)\\nplt.rc(\\\"axes\\\", titlesize=15)\\nplt.rc(\\\"axes\\\", labelsize=14)\\nplt.rc(\\\"xtick\\\", labelsize=13)\\nplt.rc(\\\"ytick\\\", labelsize=13)\\nplt.rc(\\\"legend\\\", fontsize=13)\\nplt.rc(\\\"legend\\\", fontsize=14)\\nplt.rc(\\\"figure\\\", titlesize=16)\";\n",
       "                var nbb_cells = Jupyter.notebook.get_cells();\n",
       "                for (var i = 0; i < nbb_cells.length; ++i) {\n",
       "                    if (nbb_cells[i].input_prompt_number == nbb_cell_id) {\n",
       "                        if (nbb_cells[i].get_text() == nbb_unformatted_code) {\n",
       "                             nbb_cells[i].set_text(nbb_formatted_code);\n",
       "                        }\n",
       "                        break;\n",
       "                    }\n",
       "                }\n",
       "            }, 500);\n",
       "            "
      ],
      "text/plain": [
       "<IPython.core.display.Javascript object>"
      ]
     },
     "metadata": {},
     "output_type": "display_data"
    }
   ],
   "source": [
    "# To structure code automatically\n",
    "%load_ext nb_black\n",
    "\n",
    "# To import sqlite databases\n",
    "import sqlite3 as sql\n",
    "\n",
    "# To help with reading and manipulating data\n",
    "import pandas as pd\n",
    "import numpy as np\n",
    "\n",
    "# To help with data visualization\n",
    "import matplotlib.pyplot as plt\n",
    "import seaborn as sns\n",
    "from sklearn.manifold import TSNE\n",
    "from sklearn.decomposition import PCA\n",
    "\n",
    "# To be used for data scaling\n",
    "from sklearn.preprocessing import StandardScaler\n",
    "\n",
    "# To compute distances\n",
    "from scipy.spatial.distance import cdist, pdist\n",
    "\n",
    "# To define maximum number of columns to be displayed in a dataframe\n",
    "pd.set_option(\"display.max_columns\", None)\n",
    "# To define the maximum number of rows to be displayed in a dataframe\n",
    "pd.set_option(\"display.max_rows\", 200)\n",
    "\n",
    "# To perform k-means clustering and compute silhouette scores\n",
    "from sklearn.cluster import KMeans\n",
    "from sklearn.metrics import silhouette_score\n",
    "\n",
    "# To visualize the elbow curve and silhouette scores\n",
    "from yellowbrick.cluster import KElbowVisualizer, SilhouetteVisualizer\n",
    "from yellowbrick.style.palettes import PALETTES\n",
    "\n",
    "# To perform hierarchical clustering, compute cophenetic correlation, and create dendrograms\n",
    "from sklearn.cluster import AgglomerativeClustering\n",
    "from scipy.cluster.hierarchy import dendrogram, linkage, cophenet\n",
    "\n",
    "# To supress scientific notations for a dataframe\n",
    "pd.set_option(\"display.float_format\", lambda x: \"%.3f\" % x)\n",
    "\n",
    "# To supress warnings\n",
    "import warnings\n",
    "\n",
    "warnings.filterwarnings(\"ignore\")\n",
    "\n",
    "# To set some visualization attributes\n",
    "pd.set_option(\"max_colwidth\", 150)\n",
    "sns.set_theme()\n",
    "sns.set_palette(\n",
    "    (\n",
    "        \"midnightblue\",\n",
    "        \"goldenrod\",\n",
    "        \"maroon\",\n",
    "        \"darkolivegreen\",\n",
    "        \"cadetblue\",\n",
    "        \"tab:purple\",\n",
    "        \"yellowgreen\",\n",
    "    )\n",
    ")\n",
    "plt.rc(\"font\", size=12)\n",
    "plt.rc(\"axes\", titlesize=15)\n",
    "plt.rc(\"axes\", labelsize=14)\n",
    "plt.rc(\"xtick\", labelsize=13)\n",
    "plt.rc(\"ytick\", labelsize=13)\n",
    "plt.rc(\"legend\", fontsize=13)\n",
    "plt.rc(\"legend\", fontsize=14)\n",
    "plt.rc(\"figure\", titlesize=16)"
   ]
  },
  {
   "cell_type": "markdown",
   "id": "8ba16be6",
   "metadata": {},
   "source": [
    "## Data Overview"
   ]
  },
  {
   "cell_type": "markdown",
   "id": "43c4d808",
   "metadata": {},
   "source": [
    "### Reading, sampling, and checking data shape"
   ]
  },
  {
   "cell_type": "markdown",
   "id": "e72ae2a5",
   "metadata": {},
   "source": [
    "#### For January 1994 through May 2022 (without reference counts)"
   ]
  },
  {
   "cell_type": "code",
   "execution_count": 3,
   "id": "2b9d781b",
   "metadata": {},
   "outputs": [
    {
     "name": "stdout",
     "output_type": "stream",
     "text": [
      "There are 133769 rows and 5 columns.\n"
     ]
    },
    {
     "data": {
      "text/html": [
       "<div>\n",
       "<style scoped>\n",
       "    .dataframe tbody tr th:only-of-type {\n",
       "        vertical-align: middle;\n",
       "    }\n",
       "\n",
       "    .dataframe tbody tr th {\n",
       "        vertical-align: top;\n",
       "    }\n",
       "\n",
       "    .dataframe thead th {\n",
       "        text-align: right;\n",
       "    }\n",
       "</style>\n",
       "<table border=\"1\" class=\"dataframe\">\n",
       "  <thead>\n",
       "    <tr style=\"text-align: right;\">\n",
       "      <th></th>\n",
       "      <th>month_year</th>\n",
       "      <th>day</th>\n",
       "      <th>name</th>\n",
       "      <th>info</th>\n",
       "      <th>link</th>\n",
       "    </tr>\n",
       "  </thead>\n",
       "  <tbody>\n",
       "    <tr>\n",
       "      <th>0</th>\n",
       "      <td>January 1994</td>\n",
       "      <td>1</td>\n",
       "      <td>William Chappell</td>\n",
       "      <td>, 86, British dancer, ballet designer and director.</td>\n",
       "      <td>https://en.wikipedia.org/wiki/William_Chappell_(dancer)</td>\n",
       "    </tr>\n",
       "    <tr>\n",
       "      <th>1</th>\n",
       "      <td>January 1994</td>\n",
       "      <td>1</td>\n",
       "      <td>Raymond Crotty</td>\n",
       "      <td>, 68, Irish economist, writer, and academic.</td>\n",
       "      <td>https://en.wikipedia.org/wiki/Raymond_Crotty</td>\n",
       "    </tr>\n",
       "  </tbody>\n",
       "</table>\n",
       "</div>"
      ],
      "text/plain": [
       "     month_year day              name  \\\n",
       "0  January 1994   1  William Chappell   \n",
       "1  January 1994   1    Raymond Crotty   \n",
       "\n",
       "                                                  info  \\\n",
       "0  , 86, British dancer, ballet designer and director.   \n",
       "1         , 68, Irish economist, writer, and academic.   \n",
       "\n",
       "                                                      link  \n",
       "0  https://en.wikipedia.org/wiki/William_Chappell_(dancer)  \n",
       "1             https://en.wikipedia.org/wiki/Raymond_Crotty  "
      ]
     },
     "execution_count": 3,
     "metadata": {},
     "output_type": "execute_result"
    },
    {
     "data": {
      "application/javascript": [
       "\n",
       "            setTimeout(function() {\n",
       "                var nbb_cell_id = 3;\n",
       "                var nbb_unformatted_code = \"# Reading the wp_deaths_94_to_22 dataset from sql db and table\\nconn = sql.connect(\\\"wp_deaths_94_to_22.db\\\")\\nraw_94_to_22 = pd.read_sql(\\\"SELECT * FROM wp_deaths_94_to_22\\\", conn)\\n\\n# Making a working copy\\ndf_94_to_22 = raw_94_to_22.copy()\\n\\n# Checking the shape\\nprint(f\\\"There are {df_94_to_22.shape[0]} rows and {df_94_to_22.shape[1]} columns.\\\")\\n\\n# Checking first 2 rows of the data\\ndf_94_to_22.head(2)\";\n",
       "                var nbb_formatted_code = \"# Reading the wp_deaths_94_to_22 dataset from sql db and table\\nconn = sql.connect(\\\"wp_deaths_94_to_22.db\\\")\\nraw_94_to_22 = pd.read_sql(\\\"SELECT * FROM wp_deaths_94_to_22\\\", conn)\\n\\n# Making a working copy\\ndf_94_to_22 = raw_94_to_22.copy()\\n\\n# Checking the shape\\nprint(f\\\"There are {df_94_to_22.shape[0]} rows and {df_94_to_22.shape[1]} columns.\\\")\\n\\n# Checking first 2 rows of the data\\ndf_94_to_22.head(2)\";\n",
       "                var nbb_cells = Jupyter.notebook.get_cells();\n",
       "                for (var i = 0; i < nbb_cells.length; ++i) {\n",
       "                    if (nbb_cells[i].input_prompt_number == nbb_cell_id) {\n",
       "                        if (nbb_cells[i].get_text() == nbb_unformatted_code) {\n",
       "                             nbb_cells[i].set_text(nbb_formatted_code);\n",
       "                        }\n",
       "                        break;\n",
       "                    }\n",
       "                }\n",
       "            }, 500);\n",
       "            "
      ],
      "text/plain": [
       "<IPython.core.display.Javascript object>"
      ]
     },
     "metadata": {},
     "output_type": "display_data"
    }
   ],
   "source": [
    "# Reading the wp_deaths_94_to_22 dataset from sql db and table\n",
    "conn = sql.connect(\"wp_deaths_94_to_22.db\")\n",
    "raw_94_to_22 = pd.read_sql(\"SELECT * FROM wp_deaths_94_to_22\", conn)\n",
    "\n",
    "# Making a working copy\n",
    "df_94_to_22 = raw_94_to_22.copy()\n",
    "\n",
    "# Checking the shape\n",
    "print(f\"There are {df_94_to_22.shape[0]} rows and {df_94_to_22.shape[1]} columns.\")\n",
    "\n",
    "# Checking first 2 rows of the data\n",
    "df_94_to_22.head(2)"
   ]
  },
  {
   "cell_type": "code",
   "execution_count": 4,
   "id": "babde2ba",
   "metadata": {},
   "outputs": [
    {
     "data": {
      "text/html": [
       "<div>\n",
       "<style scoped>\n",
       "    .dataframe tbody tr th:only-of-type {\n",
       "        vertical-align: middle;\n",
       "    }\n",
       "\n",
       "    .dataframe tbody tr th {\n",
       "        vertical-align: top;\n",
       "    }\n",
       "\n",
       "    .dataframe thead th {\n",
       "        text-align: right;\n",
       "    }\n",
       "</style>\n",
       "<table border=\"1\" class=\"dataframe\">\n",
       "  <thead>\n",
       "    <tr style=\"text-align: right;\">\n",
       "      <th></th>\n",
       "      <th>month_year</th>\n",
       "      <th>day</th>\n",
       "      <th>name</th>\n",
       "      <th>info</th>\n",
       "      <th>link</th>\n",
       "    </tr>\n",
       "  </thead>\n",
       "  <tbody>\n",
       "    <tr>\n",
       "      <th>133767</th>\n",
       "      <td>May 2022</td>\n",
       "      <td>31</td>\n",
       "      <td>Dave Smith</td>\n",
       "      <td>, 72, American sound engineer, founder of Sequential.</td>\n",
       "      <td>https://en.wikipedia.org/wiki/Dave_Smith_(engineer)</td>\n",
       "    </tr>\n",
       "    <tr>\n",
       "      <th>133768</th>\n",
       "      <td>May 2022</td>\n",
       "      <td>31</td>\n",
       "      <td>Wang Zherong</td>\n",
       "      <td>, 86, Chinese tank designer, member of the Chinese Academy of Engineering.</td>\n",
       "      <td>https://en.wikipedia.org/wiki/Wang_Zherong</td>\n",
       "    </tr>\n",
       "  </tbody>\n",
       "</table>\n",
       "</div>"
      ],
      "text/plain": [
       "       month_year day          name  \\\n",
       "133767   May 2022  31    Dave Smith   \n",
       "133768   May 2022  31  Wang Zherong   \n",
       "\n",
       "                                                                              info  \\\n",
       "133767                       , 72, American sound engineer, founder of Sequential.   \n",
       "133768  , 86, Chinese tank designer, member of the Chinese Academy of Engineering.   \n",
       "\n",
       "                                                       link  \n",
       "133767  https://en.wikipedia.org/wiki/Dave_Smith_(engineer)  \n",
       "133768           https://en.wikipedia.org/wiki/Wang_Zherong  "
      ]
     },
     "execution_count": 4,
     "metadata": {},
     "output_type": "execute_result"
    },
    {
     "data": {
      "application/javascript": [
       "\n",
       "            setTimeout(function() {\n",
       "                var nbb_cell_id = 4;\n",
       "                var nbb_unformatted_code = \"# Checking last 2 rows of the data\\ndf_94_to_22.tail(2)\";\n",
       "                var nbb_formatted_code = \"# Checking last 2 rows of the data\\ndf_94_to_22.tail(2)\";\n",
       "                var nbb_cells = Jupyter.notebook.get_cells();\n",
       "                for (var i = 0; i < nbb_cells.length; ++i) {\n",
       "                    if (nbb_cells[i].input_prompt_number == nbb_cell_id) {\n",
       "                        if (nbb_cells[i].get_text() == nbb_unformatted_code) {\n",
       "                             nbb_cells[i].set_text(nbb_formatted_code);\n",
       "                        }\n",
       "                        break;\n",
       "                    }\n",
       "                }\n",
       "            }, 500);\n",
       "            "
      ],
      "text/plain": [
       "<IPython.core.display.Javascript object>"
      ]
     },
     "metadata": {},
     "output_type": "display_data"
    }
   ],
   "source": [
    "# Checking last 2 rows of the data\n",
    "df_94_to_22.tail(2)"
   ]
  },
  {
   "cell_type": "code",
   "execution_count": 5,
   "id": "4858e849",
   "metadata": {},
   "outputs": [
    {
     "data": {
      "text/html": [
       "<div>\n",
       "<style scoped>\n",
       "    .dataframe tbody tr th:only-of-type {\n",
       "        vertical-align: middle;\n",
       "    }\n",
       "\n",
       "    .dataframe tbody tr th {\n",
       "        vertical-align: top;\n",
       "    }\n",
       "\n",
       "    .dataframe thead th {\n",
       "        text-align: right;\n",
       "    }\n",
       "</style>\n",
       "<table border=\"1\" class=\"dataframe\">\n",
       "  <thead>\n",
       "    <tr style=\"text-align: right;\">\n",
       "      <th></th>\n",
       "      <th>month_year</th>\n",
       "      <th>day</th>\n",
       "      <th>name</th>\n",
       "      <th>info</th>\n",
       "      <th>link</th>\n",
       "    </tr>\n",
       "  </thead>\n",
       "  <tbody>\n",
       "    <tr>\n",
       "      <th>9300</th>\n",
       "      <td>August 1997</td>\n",
       "      <td>7</td>\n",
       "      <td>Kay Halle</td>\n",
       "      <td>, 93, American journalist, author and World War II OSS operative.</td>\n",
       "      <td>https://en.wikipedia.org/wiki/Kay_Halle</td>\n",
       "    </tr>\n",
       "    <tr>\n",
       "      <th>32002</th>\n",
       "      <td>October 2006</td>\n",
       "      <td>28</td>\n",
       "      <td>Brian Brolly</td>\n",
       "      <td>, 70, British co-manager of Wings (1973–1978), Managing Director of RUG (1978–1988), co-founder of Classic FM, heart attack.</td>\n",
       "      <td>https://en.wikipedia.org/wiki/Brian_Brolly</td>\n",
       "    </tr>\n",
       "    <tr>\n",
       "      <th>68599</th>\n",
       "      <td>April 2014</td>\n",
       "      <td>14</td>\n",
       "      <td>Wally Olins</td>\n",
       "      <td>, 83, British business consultancy and public relations executive, Chairman of Saffron Brand Consultants.</td>\n",
       "      <td>https://en.wikipedia.org/wiki/Wally_Olins</td>\n",
       "    </tr>\n",
       "    <tr>\n",
       "      <th>9077</th>\n",
       "      <td>July 1997</td>\n",
       "      <td>7</td>\n",
       "      <td>Henry Howell</td>\n",
       "      <td>, 76, American politician, cancer.</td>\n",
       "      <td>https://en.wikipedia.org/wiki/Henry_Howell</td>\n",
       "    </tr>\n",
       "    <tr>\n",
       "      <th>72695</th>\n",
       "      <td>November 2014</td>\n",
       "      <td>12</td>\n",
       "      <td>Bernard Stonehouse</td>\n",
       "      <td>, 88, British polar scientist (Stonehouse Bay, Mount Stonehouse).</td>\n",
       "      <td>https://en.wikipedia.org/wiki/Bernard_Stonehouse</td>\n",
       "    </tr>\n",
       "  </tbody>\n",
       "</table>\n",
       "</div>"
      ],
      "text/plain": [
       "          month_year day                name  \\\n",
       "9300     August 1997   7           Kay Halle   \n",
       "32002   October 2006  28        Brian Brolly   \n",
       "68599     April 2014  14         Wally Olins   \n",
       "9077       July 1997   7        Henry Howell   \n",
       "72695  November 2014  12  Bernard Stonehouse   \n",
       "\n",
       "                                                                                                                               info  \\\n",
       "9300                                                              , 93, American journalist, author and World War II OSS operative.   \n",
       "32002  , 70, British co-manager of Wings (1973–1978), Managing Director of RUG (1978–1988), co-founder of Classic FM, heart attack.   \n",
       "68599                     , 83, British business consultancy and public relations executive, Chairman of Saffron Brand Consultants.   \n",
       "9077                                                                                             , 76, American politician, cancer.   \n",
       "72695                                                             , 88, British polar scientist (Stonehouse Bay, Mount Stonehouse).   \n",
       "\n",
       "                                                   link  \n",
       "9300            https://en.wikipedia.org/wiki/Kay_Halle  \n",
       "32002        https://en.wikipedia.org/wiki/Brian_Brolly  \n",
       "68599         https://en.wikipedia.org/wiki/Wally_Olins  \n",
       "9077         https://en.wikipedia.org/wiki/Henry_Howell  \n",
       "72695  https://en.wikipedia.org/wiki/Bernard_Stonehouse  "
      ]
     },
     "execution_count": 5,
     "metadata": {},
     "output_type": "execute_result"
    },
    {
     "data": {
      "application/javascript": [
       "\n",
       "            setTimeout(function() {\n",
       "                var nbb_cell_id = 5;\n",
       "                var nbb_unformatted_code = \"# Checking a sample of the data\\ndf_94_to_22.sample(5)\";\n",
       "                var nbb_formatted_code = \"# Checking a sample of the data\\ndf_94_to_22.sample(5)\";\n",
       "                var nbb_cells = Jupyter.notebook.get_cells();\n",
       "                for (var i = 0; i < nbb_cells.length; ++i) {\n",
       "                    if (nbb_cells[i].input_prompt_number == nbb_cell_id) {\n",
       "                        if (nbb_cells[i].get_text() == nbb_unformatted_code) {\n",
       "                             nbb_cells[i].set_text(nbb_formatted_code);\n",
       "                        }\n",
       "                        break;\n",
       "                    }\n",
       "                }\n",
       "            }, 500);\n",
       "            "
      ],
      "text/plain": [
       "<IPython.core.display.Javascript object>"
      ]
     },
     "metadata": {},
     "output_type": "display_data"
    }
   ],
   "source": [
    "# Checking a sample of the data\n",
    "df_94_to_22.sample(5)"
   ]
  },
  {
   "cell_type": "markdown",
   "id": "e6150698",
   "metadata": {},
   "source": [
    "#### For January 1994 through May 2022 Reference Counts"
   ]
  },
  {
   "cell_type": "code",
   "execution_count": 6,
   "id": "f3561188",
   "metadata": {},
   "outputs": [
    {
     "name": "stdout",
     "output_type": "stream",
     "text": [
      "There are 120368 rows and 2 columns.\n"
     ]
    },
    {
     "data": {
      "text/html": [
       "<div>\n",
       "<style scoped>\n",
       "    .dataframe tbody tr th:only-of-type {\n",
       "        vertical-align: middle;\n",
       "    }\n",
       "\n",
       "    .dataframe tbody tr th {\n",
       "        vertical-align: top;\n",
       "    }\n",
       "\n",
       "    .dataframe thead th {\n",
       "        text-align: right;\n",
       "    }\n",
       "</style>\n",
       "<table border=\"1\" class=\"dataframe\">\n",
       "  <thead>\n",
       "    <tr style=\"text-align: right;\">\n",
       "      <th></th>\n",
       "      <th>link</th>\n",
       "      <th>num_references</th>\n",
       "    </tr>\n",
       "  </thead>\n",
       "  <tbody>\n",
       "    <tr>\n",
       "      <th>0</th>\n",
       "      <td>https://en.wikipedia.org/wiki/Lys_Gauty</td>\n",
       "      <td>5</td>\n",
       "    </tr>\n",
       "    <tr>\n",
       "      <th>1</th>\n",
       "      <td>https://en.wikipedia.org/wiki/William_Chappell_(dancer)</td>\n",
       "      <td>21</td>\n",
       "    </tr>\n",
       "  </tbody>\n",
       "</table>\n",
       "</div>"
      ],
      "text/plain": [
       "                                                      link num_references\n",
       "0                  https://en.wikipedia.org/wiki/Lys_Gauty              5\n",
       "1  https://en.wikipedia.org/wiki/William_Chappell_(dancer)             21"
      ]
     },
     "execution_count": 6,
     "metadata": {},
     "output_type": "execute_result"
    },
    {
     "data": {
      "application/javascript": [
       "\n",
       "            setTimeout(function() {\n",
       "                var nbb_cell_id = 6;\n",
       "                var nbb_unformatted_code = \"# Reading the wp_reference_counts_2 dataset from sql db and table\\nconn = sql.connect(\\\"wp_reference_counts_2.db\\\")\\nraw_reference_counts = pd.read_sql(\\\"SELECT * FROM wp_reference_counts_2\\\", conn)\\n\\n# Making a working copy\\ndf_reference_counts = raw_reference_counts.copy()\\n\\n# Checking the shape\\nprint(\\n    f\\\"There are {df_reference_counts.shape[0]} rows and {df_reference_counts.shape[1]} columns.\\\"\\n)\\n\\n# Checking first 2 rows of the data\\ndf_reference_counts.head(2)\";\n",
       "                var nbb_formatted_code = \"# Reading the wp_reference_counts_2 dataset from sql db and table\\nconn = sql.connect(\\\"wp_reference_counts_2.db\\\")\\nraw_reference_counts = pd.read_sql(\\\"SELECT * FROM wp_reference_counts_2\\\", conn)\\n\\n# Making a working copy\\ndf_reference_counts = raw_reference_counts.copy()\\n\\n# Checking the shape\\nprint(\\n    f\\\"There are {df_reference_counts.shape[0]} rows and {df_reference_counts.shape[1]} columns.\\\"\\n)\\n\\n# Checking first 2 rows of the data\\ndf_reference_counts.head(2)\";\n",
       "                var nbb_cells = Jupyter.notebook.get_cells();\n",
       "                for (var i = 0; i < nbb_cells.length; ++i) {\n",
       "                    if (nbb_cells[i].input_prompt_number == nbb_cell_id) {\n",
       "                        if (nbb_cells[i].get_text() == nbb_unformatted_code) {\n",
       "                             nbb_cells[i].set_text(nbb_formatted_code);\n",
       "                        }\n",
       "                        break;\n",
       "                    }\n",
       "                }\n",
       "            }, 500);\n",
       "            "
      ],
      "text/plain": [
       "<IPython.core.display.Javascript object>"
      ]
     },
     "metadata": {},
     "output_type": "display_data"
    }
   ],
   "source": [
    "# Reading the wp_reference_counts_2 dataset from sql db and table\n",
    "conn = sql.connect(\"wp_reference_counts_2.db\")\n",
    "raw_reference_counts = pd.read_sql(\"SELECT * FROM wp_reference_counts_2\", conn)\n",
    "\n",
    "# Making a working copy\n",
    "df_reference_counts = raw_reference_counts.copy()\n",
    "\n",
    "# Checking the shape\n",
    "print(\n",
    "    f\"There are {df_reference_counts.shape[0]} rows and {df_reference_counts.shape[1]} columns.\"\n",
    ")\n",
    "\n",
    "# Checking first 2 rows of the data\n",
    "df_reference_counts.head(2)"
   ]
  },
  {
   "cell_type": "code",
   "execution_count": 7,
   "id": "8c60ce9e",
   "metadata": {},
   "outputs": [
    {
     "data": {
      "text/html": [
       "<div>\n",
       "<style scoped>\n",
       "    .dataframe tbody tr th:only-of-type {\n",
       "        vertical-align: middle;\n",
       "    }\n",
       "\n",
       "    .dataframe tbody tr th {\n",
       "        vertical-align: top;\n",
       "    }\n",
       "\n",
       "    .dataframe thead th {\n",
       "        text-align: right;\n",
       "    }\n",
       "</style>\n",
       "<table border=\"1\" class=\"dataframe\">\n",
       "  <thead>\n",
       "    <tr style=\"text-align: right;\">\n",
       "      <th></th>\n",
       "      <th>link</th>\n",
       "      <th>num_references</th>\n",
       "    </tr>\n",
       "  </thead>\n",
       "  <tbody>\n",
       "    <tr>\n",
       "      <th>120366</th>\n",
       "      <td>https://en.wikipedia.org/wiki/Shirley_Thomas_(USC_professor)</td>\n",
       "      <td>6</td>\n",
       "    </tr>\n",
       "    <tr>\n",
       "      <th>120367</th>\n",
       "      <td>https://en.wikipedia.org/wiki/James_Doohan</td>\n",
       "      <td>52</td>\n",
       "    </tr>\n",
       "  </tbody>\n",
       "</table>\n",
       "</div>"
      ],
      "text/plain": [
       "                                                                link  \\\n",
       "120366  https://en.wikipedia.org/wiki/Shirley_Thomas_(USC_professor)   \n",
       "120367                    https://en.wikipedia.org/wiki/James_Doohan   \n",
       "\n",
       "       num_references  \n",
       "120366              6  \n",
       "120367             52  "
      ]
     },
     "execution_count": 7,
     "metadata": {},
     "output_type": "execute_result"
    },
    {
     "data": {
      "application/javascript": [
       "\n",
       "            setTimeout(function() {\n",
       "                var nbb_cell_id = 7;\n",
       "                var nbb_unformatted_code = \"# Checking last 2 rows of the data\\ndf_reference_counts.tail(2)\";\n",
       "                var nbb_formatted_code = \"# Checking last 2 rows of the data\\ndf_reference_counts.tail(2)\";\n",
       "                var nbb_cells = Jupyter.notebook.get_cells();\n",
       "                for (var i = 0; i < nbb_cells.length; ++i) {\n",
       "                    if (nbb_cells[i].input_prompt_number == nbb_cell_id) {\n",
       "                        if (nbb_cells[i].get_text() == nbb_unformatted_code) {\n",
       "                             nbb_cells[i].set_text(nbb_formatted_code);\n",
       "                        }\n",
       "                        break;\n",
       "                    }\n",
       "                }\n",
       "            }, 500);\n",
       "            "
      ],
      "text/plain": [
       "<IPython.core.display.Javascript object>"
      ]
     },
     "metadata": {},
     "output_type": "display_data"
    }
   ],
   "source": [
    "# Checking last 2 rows of the data\n",
    "df_reference_counts.tail(2)"
   ]
  },
  {
   "cell_type": "code",
   "execution_count": 8,
   "id": "70cf0218",
   "metadata": {},
   "outputs": [
    {
     "data": {
      "text/html": [
       "<div>\n",
       "<style scoped>\n",
       "    .dataframe tbody tr th:only-of-type {\n",
       "        vertical-align: middle;\n",
       "    }\n",
       "\n",
       "    .dataframe tbody tr th {\n",
       "        vertical-align: top;\n",
       "    }\n",
       "\n",
       "    .dataframe thead th {\n",
       "        text-align: right;\n",
       "    }\n",
       "</style>\n",
       "<table border=\"1\" class=\"dataframe\">\n",
       "  <thead>\n",
       "    <tr style=\"text-align: right;\">\n",
       "      <th></th>\n",
       "      <th>link</th>\n",
       "      <th>num_references</th>\n",
       "    </tr>\n",
       "  </thead>\n",
       "  <tbody>\n",
       "    <tr>\n",
       "      <th>5668</th>\n",
       "      <td>https://en.wikipedia.org/wiki/Umberto_Abronzino</td>\n",
       "      <td>1</td>\n",
       "    </tr>\n",
       "    <tr>\n",
       "      <th>113146</th>\n",
       "      <td>https://en.wikipedia.org/wiki/Colin_Fletcher</td>\n",
       "      <td>4</td>\n",
       "    </tr>\n",
       "    <tr>\n",
       "      <th>56704</th>\n",
       "      <td>https://en.wikipedia.org/wiki/Len_Matarazzo</td>\n",
       "      <td>2</td>\n",
       "    </tr>\n",
       "    <tr>\n",
       "      <th>113613</th>\n",
       "      <td>https://en.wikipedia.org/wiki/Vinnie_Chas</td>\n",
       "      <td>1</td>\n",
       "    </tr>\n",
       "    <tr>\n",
       "      <th>114545</th>\n",
       "      <td>https://en.wikipedia.org/wiki/John_Joseph_Compton</td>\n",
       "      <td>1</td>\n",
       "    </tr>\n",
       "  </tbody>\n",
       "</table>\n",
       "</div>"
      ],
      "text/plain": [
       "                                                     link num_references\n",
       "5668      https://en.wikipedia.org/wiki/Umberto_Abronzino              1\n",
       "113146       https://en.wikipedia.org/wiki/Colin_Fletcher              4\n",
       "56704         https://en.wikipedia.org/wiki/Len_Matarazzo              2\n",
       "113613          https://en.wikipedia.org/wiki/Vinnie_Chas              1\n",
       "114545  https://en.wikipedia.org/wiki/John_Joseph_Compton              1"
      ]
     },
     "execution_count": 8,
     "metadata": {},
     "output_type": "execute_result"
    },
    {
     "data": {
      "application/javascript": [
       "\n",
       "            setTimeout(function() {\n",
       "                var nbb_cell_id = 8;\n",
       "                var nbb_unformatted_code = \"# Checking a sample of the data\\ndf_reference_counts.sample(5)\";\n",
       "                var nbb_formatted_code = \"# Checking a sample of the data\\ndf_reference_counts.sample(5)\";\n",
       "                var nbb_cells = Jupyter.notebook.get_cells();\n",
       "                for (var i = 0; i < nbb_cells.length; ++i) {\n",
       "                    if (nbb_cells[i].input_prompt_number == nbb_cell_id) {\n",
       "                        if (nbb_cells[i].get_text() == nbb_unformatted_code) {\n",
       "                             nbb_cells[i].set_text(nbb_formatted_code);\n",
       "                        }\n",
       "                        break;\n",
       "                    }\n",
       "                }\n",
       "            }, 500);\n",
       "            "
      ],
      "text/plain": [
       "<IPython.core.display.Javascript object>"
      ]
     },
     "metadata": {},
     "output_type": "display_data"
    }
   ],
   "source": [
    "# Checking a sample of the data\n",
    "df_reference_counts.sample(5)"
   ]
  },
  {
   "cell_type": "markdown",
   "id": "c9872f90",
   "metadata": {},
   "source": [
    "#### For June 2022"
   ]
  },
  {
   "cell_type": "code",
   "execution_count": 9,
   "id": "489e2c05",
   "metadata": {},
   "outputs": [
    {
     "name": "stdout",
     "output_type": "stream",
     "text": [
      "There are 145 rows and 6 columns.\n"
     ]
    },
    {
     "data": {
      "text/html": [
       "<div>\n",
       "<style scoped>\n",
       "    .dataframe tbody tr th:only-of-type {\n",
       "        vertical-align: middle;\n",
       "    }\n",
       "\n",
       "    .dataframe tbody tr th {\n",
       "        vertical-align: top;\n",
       "    }\n",
       "\n",
       "    .dataframe thead th {\n",
       "        text-align: right;\n",
       "    }\n",
       "</style>\n",
       "<table border=\"1\" class=\"dataframe\">\n",
       "  <thead>\n",
       "    <tr style=\"text-align: right;\">\n",
       "      <th></th>\n",
       "      <th>month_year</th>\n",
       "      <th>day</th>\n",
       "      <th>name</th>\n",
       "      <th>info</th>\n",
       "      <th>link</th>\n",
       "      <th>num_references</th>\n",
       "    </tr>\n",
       "  </thead>\n",
       "  <tbody>\n",
       "    <tr>\n",
       "      <th>0</th>\n",
       "      <td>June 2022</td>\n",
       "      <td>8</td>\n",
       "      <td>Mladen Frančić</td>\n",
       "      <td>, 67, Croatian football player and manager (Vrbovec, Podravina, Al-Watani Club).</td>\n",
       "      <td>https://en.wikipedia.org/wiki/Mladen_Fran%C4%8Di%C4%87</td>\n",
       "      <td>1</td>\n",
       "    </tr>\n",
       "    <tr>\n",
       "      <th>1</th>\n",
       "      <td>June 2022</td>\n",
       "      <td>6</td>\n",
       "      <td>Valery Ryumin</td>\n",
       "      <td>, 82, Russian cosmonaut (Soyuz 25, Soyuz 32, Soyuz 35).</td>\n",
       "      <td>https://en.wikipedia.org/wiki/Valery_Ryumin</td>\n",
       "      <td>2</td>\n",
       "    </tr>\n",
       "  </tbody>\n",
       "</table>\n",
       "</div>"
      ],
      "text/plain": [
       "  month_year day            name  \\\n",
       "0  June 2022   8  Mladen Frančić   \n",
       "1  June 2022   6   Valery Ryumin   \n",
       "\n",
       "                                                                               info  \\\n",
       "0  , 67, Croatian football player and manager (Vrbovec, Podravina, Al-Watani Club).   \n",
       "1                           , 82, Russian cosmonaut (Soyuz 25, Soyuz 32, Soyuz 35).   \n",
       "\n",
       "                                                     link num_references  \n",
       "0  https://en.wikipedia.org/wiki/Mladen_Fran%C4%8Di%C4%87              1  \n",
       "1             https://en.wikipedia.org/wiki/Valery_Ryumin              2  "
      ]
     },
     "execution_count": 9,
     "metadata": {},
     "output_type": "execute_result"
    },
    {
     "data": {
      "application/javascript": [
       "\n",
       "            setTimeout(function() {\n",
       "                var nbb_cell_id = 9;\n",
       "                var nbb_unformatted_code = \"# Reading the wp_deaths_June_2022 dataset from sql db and table\\nconn = sql.connect(\\\"wp_deaths_June_2022.db\\\")\\nraw_June_2022 = pd.read_sql(\\\"SELECT * FROM wp_deaths_June_2022\\\", conn)\\n\\n# Making a working copy\\ndf_June_2022 = raw_June_2022.copy()\\n\\n# Checking the shape\\nprint(f\\\"There are {df_June_2022.shape[0]} rows and {df_June_2022.shape[1]} columns.\\\")\\n\\n# Checking first 2 rows of the data\\ndf_June_2022.head(2)\";\n",
       "                var nbb_formatted_code = \"# Reading the wp_deaths_June_2022 dataset from sql db and table\\nconn = sql.connect(\\\"wp_deaths_June_2022.db\\\")\\nraw_June_2022 = pd.read_sql(\\\"SELECT * FROM wp_deaths_June_2022\\\", conn)\\n\\n# Making a working copy\\ndf_June_2022 = raw_June_2022.copy()\\n\\n# Checking the shape\\nprint(f\\\"There are {df_June_2022.shape[0]} rows and {df_June_2022.shape[1]} columns.\\\")\\n\\n# Checking first 2 rows of the data\\ndf_June_2022.head(2)\";\n",
       "                var nbb_cells = Jupyter.notebook.get_cells();\n",
       "                for (var i = 0; i < nbb_cells.length; ++i) {\n",
       "                    if (nbb_cells[i].input_prompt_number == nbb_cell_id) {\n",
       "                        if (nbb_cells[i].get_text() == nbb_unformatted_code) {\n",
       "                             nbb_cells[i].set_text(nbb_formatted_code);\n",
       "                        }\n",
       "                        break;\n",
       "                    }\n",
       "                }\n",
       "            }, 500);\n",
       "            "
      ],
      "text/plain": [
       "<IPython.core.display.Javascript object>"
      ]
     },
     "metadata": {},
     "output_type": "display_data"
    }
   ],
   "source": [
    "# Reading the wp_deaths_June_2022 dataset from sql db and table\n",
    "conn = sql.connect(\"wp_deaths_June_2022.db\")\n",
    "raw_June_2022 = pd.read_sql(\"SELECT * FROM wp_deaths_June_2022\", conn)\n",
    "\n",
    "# Making a working copy\n",
    "df_June_2022 = raw_June_2022.copy()\n",
    "\n",
    "# Checking the shape\n",
    "print(f\"There are {df_June_2022.shape[0]} rows and {df_June_2022.shape[1]} columns.\")\n",
    "\n",
    "# Checking first 2 rows of the data\n",
    "df_June_2022.head(2)"
   ]
  },
  {
   "cell_type": "code",
   "execution_count": 10,
   "id": "071838ee",
   "metadata": {},
   "outputs": [
    {
     "data": {
      "text/html": [
       "<div>\n",
       "<style scoped>\n",
       "    .dataframe tbody tr th:only-of-type {\n",
       "        vertical-align: middle;\n",
       "    }\n",
       "\n",
       "    .dataframe tbody tr th {\n",
       "        vertical-align: top;\n",
       "    }\n",
       "\n",
       "    .dataframe thead th {\n",
       "        text-align: right;\n",
       "    }\n",
       "</style>\n",
       "<table border=\"1\" class=\"dataframe\">\n",
       "  <thead>\n",
       "    <tr style=\"text-align: right;\">\n",
       "      <th></th>\n",
       "      <th>month_year</th>\n",
       "      <th>day</th>\n",
       "      <th>name</th>\n",
       "      <th>info</th>\n",
       "      <th>link</th>\n",
       "      <th>num_references</th>\n",
       "    </tr>\n",
       "  </thead>\n",
       "  <tbody>\n",
       "    <tr>\n",
       "      <th>26</th>\n",
       "      <td>June 2022</td>\n",
       "      <td>1</td>\n",
       "      <td>Richard Oldcorn</td>\n",
       "      <td>, 84, English Olympic fencer (1964, 1968, 1972).</td>\n",
       "      <td>https://en.wikipedia.org/wiki/Richard_Oldcorn</td>\n",
       "      <td>5</td>\n",
       "    </tr>\n",
       "    <tr>\n",
       "      <th>20</th>\n",
       "      <td>June 2022</td>\n",
       "      <td>1</td>\n",
       "      <td>István Szőke</td>\n",
       "      <td>, 75, Hungarian footballer (Ferencváros, national team), stroke.</td>\n",
       "      <td>https://en.wikipedia.org/wiki/Istv%C3%A1n_Sz%C5%91ke</td>\n",
       "      <td>2</td>\n",
       "    </tr>\n",
       "  </tbody>\n",
       "</table>\n",
       "</div>"
      ],
      "text/plain": [
       "   month_year day             name  \\\n",
       "26  June 2022   1  Richard Oldcorn   \n",
       "20  June 2022   1     István Szőke   \n",
       "\n",
       "                                                                info  \\\n",
       "26                  , 84, English Olympic fencer (1964, 1968, 1972).   \n",
       "20  , 75, Hungarian footballer (Ferencváros, national team), stroke.   \n",
       "\n",
       "                                                    link num_references  \n",
       "26         https://en.wikipedia.org/wiki/Richard_Oldcorn              5  \n",
       "20  https://en.wikipedia.org/wiki/Istv%C3%A1n_Sz%C5%91ke              2  "
      ]
     },
     "execution_count": 10,
     "metadata": {},
     "output_type": "execute_result"
    },
    {
     "data": {
      "application/javascript": [
       "\n",
       "            setTimeout(function() {\n",
       "                var nbb_cell_id = 10;\n",
       "                var nbb_unformatted_code = \"# Sorting by day\\ndf_June_2022.sort_values(by=\\\"day\\\", inplace=True)\\n\\n# Re-checking first 2 rows of the data\\ndf_June_2022.head(2)\";\n",
       "                var nbb_formatted_code = \"# Sorting by day\\ndf_June_2022.sort_values(by=\\\"day\\\", inplace=True)\\n\\n# Re-checking first 2 rows of the data\\ndf_June_2022.head(2)\";\n",
       "                var nbb_cells = Jupyter.notebook.get_cells();\n",
       "                for (var i = 0; i < nbb_cells.length; ++i) {\n",
       "                    if (nbb_cells[i].input_prompt_number == nbb_cell_id) {\n",
       "                        if (nbb_cells[i].get_text() == nbb_unformatted_code) {\n",
       "                             nbb_cells[i].set_text(nbb_formatted_code);\n",
       "                        }\n",
       "                        break;\n",
       "                    }\n",
       "                }\n",
       "            }, 500);\n",
       "            "
      ],
      "text/plain": [
       "<IPython.core.display.Javascript object>"
      ]
     },
     "metadata": {},
     "output_type": "display_data"
    }
   ],
   "source": [
    "# Sorting by day\n",
    "df_June_2022.sort_values(by=\"day\", inplace=True)\n",
    "\n",
    "# Re-checking first 2 rows of the data\n",
    "df_June_2022.head(2)"
   ]
  },
  {
   "cell_type": "code",
   "execution_count": 11,
   "id": "634cc9d1",
   "metadata": {},
   "outputs": [
    {
     "data": {
      "text/html": [
       "<div>\n",
       "<style scoped>\n",
       "    .dataframe tbody tr th:only-of-type {\n",
       "        vertical-align: middle;\n",
       "    }\n",
       "\n",
       "    .dataframe tbody tr th {\n",
       "        vertical-align: top;\n",
       "    }\n",
       "\n",
       "    .dataframe thead th {\n",
       "        text-align: right;\n",
       "    }\n",
       "</style>\n",
       "<table border=\"1\" class=\"dataframe\">\n",
       "  <thead>\n",
       "    <tr style=\"text-align: right;\">\n",
       "      <th></th>\n",
       "      <th>month_year</th>\n",
       "      <th>day</th>\n",
       "      <th>name</th>\n",
       "      <th>info</th>\n",
       "      <th>link</th>\n",
       "      <th>num_references</th>\n",
       "    </tr>\n",
       "  </thead>\n",
       "  <tbody>\n",
       "    <tr>\n",
       "      <th>8</th>\n",
       "      <td>June 2022</td>\n",
       "      <td>9</td>\n",
       "      <td>Oleg Moliboga</td>\n",
       "      <td>, 69, Russian volleyball player, Olympic champion (1980) and coach.</td>\n",
       "      <td>https://en.wikipedia.org/wiki/Oleg_Moliboga</td>\n",
       "      <td>2</td>\n",
       "    </tr>\n",
       "    <tr>\n",
       "      <th>5</th>\n",
       "      <td>June 2022</td>\n",
       "      <td>9</td>\n",
       "      <td>Zou Jing</td>\n",
       "      <td>, 86, Chinese engineer, member of the Chinese Academy of Engineering.</td>\n",
       "      <td>https://en.wikipedia.org/wiki/Zou_Jing_(engineer)</td>\n",
       "      <td>3</td>\n",
       "    </tr>\n",
       "  </tbody>\n",
       "</table>\n",
       "</div>"
      ],
      "text/plain": [
       "  month_year day           name  \\\n",
       "8  June 2022   9  Oleg Moliboga   \n",
       "5  June 2022   9       Zou Jing   \n",
       "\n",
       "                                                                    info  \\\n",
       "8    , 69, Russian volleyball player, Olympic champion (1980) and coach.   \n",
       "5  , 86, Chinese engineer, member of the Chinese Academy of Engineering.   \n",
       "\n",
       "                                                link num_references  \n",
       "8        https://en.wikipedia.org/wiki/Oleg_Moliboga              2  \n",
       "5  https://en.wikipedia.org/wiki/Zou_Jing_(engineer)              3  "
      ]
     },
     "execution_count": 11,
     "metadata": {},
     "output_type": "execute_result"
    },
    {
     "data": {
      "application/javascript": [
       "\n",
       "            setTimeout(function() {\n",
       "                var nbb_cell_id = 11;\n",
       "                var nbb_unformatted_code = \"# Checking last 2 rows of the data\\ndf_June_2022.tail(2)\";\n",
       "                var nbb_formatted_code = \"# Checking last 2 rows of the data\\ndf_June_2022.tail(2)\";\n",
       "                var nbb_cells = Jupyter.notebook.get_cells();\n",
       "                for (var i = 0; i < nbb_cells.length; ++i) {\n",
       "                    if (nbb_cells[i].input_prompt_number == nbb_cell_id) {\n",
       "                        if (nbb_cells[i].get_text() == nbb_unformatted_code) {\n",
       "                             nbb_cells[i].set_text(nbb_formatted_code);\n",
       "                        }\n",
       "                        break;\n",
       "                    }\n",
       "                }\n",
       "            }, 500);\n",
       "            "
      ],
      "text/plain": [
       "<IPython.core.display.Javascript object>"
      ]
     },
     "metadata": {},
     "output_type": "display_data"
    }
   ],
   "source": [
    "# Checking last 2 rows of the data\n",
    "df_June_2022.tail(2)"
   ]
  },
  {
   "cell_type": "code",
   "execution_count": 12,
   "id": "811883d1",
   "metadata": {},
   "outputs": [
    {
     "data": {
      "text/html": [
       "<div>\n",
       "<style scoped>\n",
       "    .dataframe tbody tr th:only-of-type {\n",
       "        vertical-align: middle;\n",
       "    }\n",
       "\n",
       "    .dataframe tbody tr th {\n",
       "        vertical-align: top;\n",
       "    }\n",
       "\n",
       "    .dataframe thead th {\n",
       "        text-align: right;\n",
       "    }\n",
       "</style>\n",
       "<table border=\"1\" class=\"dataframe\">\n",
       "  <thead>\n",
       "    <tr style=\"text-align: right;\">\n",
       "      <th></th>\n",
       "      <th>month_year</th>\n",
       "      <th>day</th>\n",
       "      <th>name</th>\n",
       "      <th>info</th>\n",
       "      <th>link</th>\n",
       "      <th>num_references</th>\n",
       "    </tr>\n",
       "  </thead>\n",
       "  <tbody>\n",
       "    <tr>\n",
       "      <th>134</th>\n",
       "      <td>June 2022</td>\n",
       "      <td>8</td>\n",
       "      <td>Dame Paula Rego</td>\n",
       "      <td>, 87, Portuguese-British visual artist.</td>\n",
       "      <td>https://en.wikipedia.org/wiki/Paula_Rego</td>\n",
       "      <td>77</td>\n",
       "    </tr>\n",
       "    <tr>\n",
       "      <th>90</th>\n",
       "      <td>June 2022</td>\n",
       "      <td>4</td>\n",
       "      <td>George Lamming</td>\n",
       "      <td>, 94, Barbadian novelist () and poet.</td>\n",
       "      <td>https://en.wikipedia.org/wiki/George_Lamming</td>\n",
       "      <td>42</td>\n",
       "    </tr>\n",
       "    <tr>\n",
       "      <th>72</th>\n",
       "      <td>June 2022</td>\n",
       "      <td>3</td>\n",
       "      <td>José de Abreu</td>\n",
       "      <td>, 77, Brazilian businessman and politician, deputy (1995–2003).</td>\n",
       "      <td>https://en.wikipedia.org/wiki/Jos%C3%A9_de_Abreu_(politician)</td>\n",
       "      <td>2</td>\n",
       "    </tr>\n",
       "    <tr>\n",
       "      <th>101</th>\n",
       "      <td>June 2022</td>\n",
       "      <td>5</td>\n",
       "      <td>Oddleif Olavsen</td>\n",
       "      <td>, 76, Norwegian footballer (Bodø/Glimt) and politician, mayor of Bodø (1995–1999).</td>\n",
       "      <td>https://en.wikipedia.org/wiki/Oddleif_Olavsen</td>\n",
       "      <td>2</td>\n",
       "    </tr>\n",
       "    <tr>\n",
       "      <th>55</th>\n",
       "      <td>June 2022</td>\n",
       "      <td>2</td>\n",
       "      <td>Hal Bynum</td>\n",
       "      <td>, 87, American songwriter (\"Lucille\", \"Chains\", \"Papa Was a Good Man\"), complications from a stroke and Alzheimer's disease.</td>\n",
       "      <td>https://en.wikipedia.org/wiki/Hal_Bynum</td>\n",
       "      <td>3</td>\n",
       "    </tr>\n",
       "  </tbody>\n",
       "</table>\n",
       "</div>"
      ],
      "text/plain": [
       "    month_year day             name  \\\n",
       "134  June 2022   8  Dame Paula Rego   \n",
       "90   June 2022   4   George Lamming   \n",
       "72   June 2022   3    José de Abreu   \n",
       "101  June 2022   5  Oddleif Olavsen   \n",
       "55   June 2022   2        Hal Bynum   \n",
       "\n",
       "                                                                                                                             info  \\\n",
       "134                                                                                       , 87, Portuguese-British visual artist.   \n",
       "90                                                                                          , 94, Barbadian novelist () and poet.   \n",
       "72                                                                , 77, Brazilian businessman and politician, deputy (1995–2003).   \n",
       "101                                            , 76, Norwegian footballer (Bodø/Glimt) and politician, mayor of Bodø (1995–1999).   \n",
       "55   , 87, American songwriter (\"Lucille\", \"Chains\", \"Papa Was a Good Man\"), complications from a stroke and Alzheimer's disease.   \n",
       "\n",
       "                                                              link  \\\n",
       "134                       https://en.wikipedia.org/wiki/Paula_Rego   \n",
       "90                    https://en.wikipedia.org/wiki/George_Lamming   \n",
       "72   https://en.wikipedia.org/wiki/Jos%C3%A9_de_Abreu_(politician)   \n",
       "101                  https://en.wikipedia.org/wiki/Oddleif_Olavsen   \n",
       "55                         https://en.wikipedia.org/wiki/Hal_Bynum   \n",
       "\n",
       "    num_references  \n",
       "134             77  \n",
       "90              42  \n",
       "72               2  \n",
       "101              2  \n",
       "55               3  "
      ]
     },
     "execution_count": 12,
     "metadata": {},
     "output_type": "execute_result"
    },
    {
     "data": {
      "application/javascript": [
       "\n",
       "            setTimeout(function() {\n",
       "                var nbb_cell_id = 12;\n",
       "                var nbb_unformatted_code = \"# Checking a sample of the data\\ndf_June_2022.sample(5)\";\n",
       "                var nbb_formatted_code = \"# Checking a sample of the data\\ndf_June_2022.sample(5)\";\n",
       "                var nbb_cells = Jupyter.notebook.get_cells();\n",
       "                for (var i = 0; i < nbb_cells.length; ++i) {\n",
       "                    if (nbb_cells[i].input_prompt_number == nbb_cell_id) {\n",
       "                        if (nbb_cells[i].get_text() == nbb_unformatted_code) {\n",
       "                             nbb_cells[i].set_text(nbb_formatted_code);\n",
       "                        }\n",
       "                        break;\n",
       "                    }\n",
       "                }\n",
       "            }, 500);\n",
       "            "
      ],
      "text/plain": [
       "<IPython.core.display.Javascript object>"
      ]
     },
     "metadata": {},
     "output_type": "display_data"
    }
   ],
   "source": [
    "# Checking a sample of the data\n",
    "df_June_2022.sample(5)"
   ]
  },
  {
   "cell_type": "markdown",
   "id": "e245ab92",
   "metadata": {},
   "source": [
    "### Combining Dataframes"
   ]
  },
  {
   "cell_type": "code",
   "execution_count": 13,
   "id": "dd57f919",
   "metadata": {},
   "outputs": [
    {
     "data": {
      "text/html": [
       "<div>\n",
       "<style scoped>\n",
       "    .dataframe tbody tr th:only-of-type {\n",
       "        vertical-align: middle;\n",
       "    }\n",
       "\n",
       "    .dataframe tbody tr th {\n",
       "        vertical-align: top;\n",
       "    }\n",
       "\n",
       "    .dataframe thead th {\n",
       "        text-align: right;\n",
       "    }\n",
       "</style>\n",
       "<table border=\"1\" class=\"dataframe\">\n",
       "  <thead>\n",
       "    <tr style=\"text-align: right;\">\n",
       "      <th></th>\n",
       "      <th>month_year</th>\n",
       "      <th>day</th>\n",
       "      <th>name</th>\n",
       "      <th>info</th>\n",
       "      <th>link</th>\n",
       "      <th>num_references</th>\n",
       "    </tr>\n",
       "  </thead>\n",
       "  <tbody>\n",
       "    <tr>\n",
       "      <th>0</th>\n",
       "      <td>January 1994</td>\n",
       "      <td>1</td>\n",
       "      <td>William Chappell</td>\n",
       "      <td>, 86, British dancer, ballet designer and director.</td>\n",
       "      <td>https://en.wikipedia.org/wiki/William_Chappell_(dancer)</td>\n",
       "      <td>21</td>\n",
       "    </tr>\n",
       "    <tr>\n",
       "      <th>1</th>\n",
       "      <td>January 1994</td>\n",
       "      <td>1</td>\n",
       "      <td>Raymond Crotty</td>\n",
       "      <td>, 68, Irish economist, writer, and academic.</td>\n",
       "      <td>https://en.wikipedia.org/wiki/Raymond_Crotty</td>\n",
       "      <td>12</td>\n",
       "    </tr>\n",
       "  </tbody>\n",
       "</table>\n",
       "</div>"
      ],
      "text/plain": [
       "     month_year day              name  \\\n",
       "0  January 1994   1  William Chappell   \n",
       "1  January 1994   1    Raymond Crotty   \n",
       "\n",
       "                                                  info  \\\n",
       "0  , 86, British dancer, ballet designer and director.   \n",
       "1         , 68, Irish economist, writer, and academic.   \n",
       "\n",
       "                                                      link num_references  \n",
       "0  https://en.wikipedia.org/wiki/William_Chappell_(dancer)             21  \n",
       "1             https://en.wikipedia.org/wiki/Raymond_Crotty             12  "
      ]
     },
     "execution_count": 13,
     "metadata": {},
     "output_type": "execute_result"
    },
    {
     "data": {
      "application/javascript": [
       "\n",
       "            setTimeout(function() {\n",
       "                var nbb_cell_id = 13;\n",
       "                var nbb_unformatted_code = \"# Adding num_references column to 1994 through May 2022 data\\ndf_combined = pd.merge(df_94_to_22, df_reference_counts, how=\\\"left\\\", on=\\\"link\\\")\\n\\n# Checking first 2 rows of the data\\ndf_combined.head(2)\";\n",
       "                var nbb_formatted_code = \"# Adding num_references column to 1994 through May 2022 data\\ndf_combined = pd.merge(df_94_to_22, df_reference_counts, how=\\\"left\\\", on=\\\"link\\\")\\n\\n# Checking first 2 rows of the data\\ndf_combined.head(2)\";\n",
       "                var nbb_cells = Jupyter.notebook.get_cells();\n",
       "                for (var i = 0; i < nbb_cells.length; ++i) {\n",
       "                    if (nbb_cells[i].input_prompt_number == nbb_cell_id) {\n",
       "                        if (nbb_cells[i].get_text() == nbb_unformatted_code) {\n",
       "                             nbb_cells[i].set_text(nbb_formatted_code);\n",
       "                        }\n",
       "                        break;\n",
       "                    }\n",
       "                }\n",
       "            }, 500);\n",
       "            "
      ],
      "text/plain": [
       "<IPython.core.display.Javascript object>"
      ]
     },
     "metadata": {},
     "output_type": "display_data"
    }
   ],
   "source": [
    "# Adding num_references column to 1994 through May 2022 data\n",
    "df_combined = pd.merge(df_94_to_22, df_reference_counts, how=\"left\", on=\"link\")\n",
    "\n",
    "# Checking first 2 rows of the data\n",
    "df_combined.head(2)"
   ]
  },
  {
   "cell_type": "code",
   "execution_count": 14,
   "id": "f3874c9f",
   "metadata": {},
   "outputs": [
    {
     "name": "stdout",
     "output_type": "stream",
     "text": [
      "There are 133914 rows and 6 columns.\n"
     ]
    },
    {
     "data": {
      "text/html": [
       "<div>\n",
       "<style scoped>\n",
       "    .dataframe tbody tr th:only-of-type {\n",
       "        vertical-align: middle;\n",
       "    }\n",
       "\n",
       "    .dataframe tbody tr th {\n",
       "        vertical-align: top;\n",
       "    }\n",
       "\n",
       "    .dataframe thead th {\n",
       "        text-align: right;\n",
       "    }\n",
       "</style>\n",
       "<table border=\"1\" class=\"dataframe\">\n",
       "  <thead>\n",
       "    <tr style=\"text-align: right;\">\n",
       "      <th></th>\n",
       "      <th>month_year</th>\n",
       "      <th>day</th>\n",
       "      <th>name</th>\n",
       "      <th>info</th>\n",
       "      <th>link</th>\n",
       "      <th>num_references</th>\n",
       "    </tr>\n",
       "  </thead>\n",
       "  <tbody>\n",
       "    <tr>\n",
       "      <th>0</th>\n",
       "      <td>January 1994</td>\n",
       "      <td>1</td>\n",
       "      <td>William Chappell</td>\n",
       "      <td>, 86, British dancer, ballet designer and director.</td>\n",
       "      <td>https://en.wikipedia.org/wiki/William_Chappell_(dancer)</td>\n",
       "      <td>21</td>\n",
       "    </tr>\n",
       "    <tr>\n",
       "      <th>1</th>\n",
       "      <td>January 1994</td>\n",
       "      <td>1</td>\n",
       "      <td>Raymond Crotty</td>\n",
       "      <td>, 68, Irish economist, writer, and academic.</td>\n",
       "      <td>https://en.wikipedia.org/wiki/Raymond_Crotty</td>\n",
       "      <td>12</td>\n",
       "    </tr>\n",
       "  </tbody>\n",
       "</table>\n",
       "</div>"
      ],
      "text/plain": [
       "     month_year day              name  \\\n",
       "0  January 1994   1  William Chappell   \n",
       "1  January 1994   1    Raymond Crotty   \n",
       "\n",
       "                                                  info  \\\n",
       "0  , 86, British dancer, ballet designer and director.   \n",
       "1         , 68, Irish economist, writer, and academic.   \n",
       "\n",
       "                                                      link num_references  \n",
       "0  https://en.wikipedia.org/wiki/William_Chappell_(dancer)             21  \n",
       "1             https://en.wikipedia.org/wiki/Raymond_Crotty             12  "
      ]
     },
     "execution_count": 14,
     "metadata": {},
     "output_type": "execute_result"
    },
    {
     "data": {
      "application/javascript": [
       "\n",
       "            setTimeout(function() {\n",
       "                var nbb_cell_id = 14;\n",
       "                var nbb_unformatted_code = \"# Adding Juned 2022 data\\ndf_combined = pd.concat([df_combined, df_June_2022], ignore_index=True)\\n\\n# Making a working copy\\ndf = df_combined.copy()\\n\\n# Checking the shape\\nprint(f\\\"There are {df.shape[0]} rows and {df.shape[1]} columns.\\\")\\n\\n# Checking first 2 rows of the data\\ndf.head(2)\";\n",
       "                var nbb_formatted_code = \"# Adding Juned 2022 data\\ndf_combined = pd.concat([df_combined, df_June_2022], ignore_index=True)\\n\\n# Making a working copy\\ndf = df_combined.copy()\\n\\n# Checking the shape\\nprint(f\\\"There are {df.shape[0]} rows and {df.shape[1]} columns.\\\")\\n\\n# Checking first 2 rows of the data\\ndf.head(2)\";\n",
       "                var nbb_cells = Jupyter.notebook.get_cells();\n",
       "                for (var i = 0; i < nbb_cells.length; ++i) {\n",
       "                    if (nbb_cells[i].input_prompt_number == nbb_cell_id) {\n",
       "                        if (nbb_cells[i].get_text() == nbb_unformatted_code) {\n",
       "                             nbb_cells[i].set_text(nbb_formatted_code);\n",
       "                        }\n",
       "                        break;\n",
       "                    }\n",
       "                }\n",
       "            }, 500);\n",
       "            "
      ],
      "text/plain": [
       "<IPython.core.display.Javascript object>"
      ]
     },
     "metadata": {},
     "output_type": "display_data"
    }
   ],
   "source": [
    "# Adding Juned 2022 data\n",
    "df_combined = pd.concat([df_combined, df_June_2022], ignore_index=True)\n",
    "\n",
    "# Making a working copy\n",
    "df = df_combined.copy()\n",
    "\n",
    "# Checking the shape\n",
    "print(f\"There are {df.shape[0]} rows and {df.shape[1]} columns.\")\n",
    "\n",
    "# Checking first 2 rows of the data\n",
    "df.head(2)"
   ]
  },
  {
   "cell_type": "code",
   "execution_count": 15,
   "id": "a8c6bd45",
   "metadata": {},
   "outputs": [
    {
     "data": {
      "text/html": [
       "<div>\n",
       "<style scoped>\n",
       "    .dataframe tbody tr th:only-of-type {\n",
       "        vertical-align: middle;\n",
       "    }\n",
       "\n",
       "    .dataframe tbody tr th {\n",
       "        vertical-align: top;\n",
       "    }\n",
       "\n",
       "    .dataframe thead th {\n",
       "        text-align: right;\n",
       "    }\n",
       "</style>\n",
       "<table border=\"1\" class=\"dataframe\">\n",
       "  <thead>\n",
       "    <tr style=\"text-align: right;\">\n",
       "      <th></th>\n",
       "      <th>month_year</th>\n",
       "      <th>day</th>\n",
       "      <th>name</th>\n",
       "      <th>info</th>\n",
       "      <th>link</th>\n",
       "      <th>num_references</th>\n",
       "    </tr>\n",
       "  </thead>\n",
       "  <tbody>\n",
       "    <tr>\n",
       "      <th>133912</th>\n",
       "      <td>June 2022</td>\n",
       "      <td>9</td>\n",
       "      <td>Oleg Moliboga</td>\n",
       "      <td>, 69, Russian volleyball player, Olympic champion (1980) and coach.</td>\n",
       "      <td>https://en.wikipedia.org/wiki/Oleg_Moliboga</td>\n",
       "      <td>2</td>\n",
       "    </tr>\n",
       "    <tr>\n",
       "      <th>133913</th>\n",
       "      <td>June 2022</td>\n",
       "      <td>9</td>\n",
       "      <td>Zou Jing</td>\n",
       "      <td>, 86, Chinese engineer, member of the Chinese Academy of Engineering.</td>\n",
       "      <td>https://en.wikipedia.org/wiki/Zou_Jing_(engineer)</td>\n",
       "      <td>3</td>\n",
       "    </tr>\n",
       "  </tbody>\n",
       "</table>\n",
       "</div>"
      ],
      "text/plain": [
       "       month_year day           name  \\\n",
       "133912  June 2022   9  Oleg Moliboga   \n",
       "133913  June 2022   9       Zou Jing   \n",
       "\n",
       "                                                                         info  \\\n",
       "133912    , 69, Russian volleyball player, Olympic champion (1980) and coach.   \n",
       "133913  , 86, Chinese engineer, member of the Chinese Academy of Engineering.   \n",
       "\n",
       "                                                     link num_references  \n",
       "133912        https://en.wikipedia.org/wiki/Oleg_Moliboga              2  \n",
       "133913  https://en.wikipedia.org/wiki/Zou_Jing_(engineer)              3  "
      ]
     },
     "execution_count": 15,
     "metadata": {},
     "output_type": "execute_result"
    },
    {
     "data": {
      "application/javascript": [
       "\n",
       "            setTimeout(function() {\n",
       "                var nbb_cell_id = 15;\n",
       "                var nbb_unformatted_code = \"# Checking last 2 rows of the data\\ndf.tail(2)\";\n",
       "                var nbb_formatted_code = \"# Checking last 2 rows of the data\\ndf.tail(2)\";\n",
       "                var nbb_cells = Jupyter.notebook.get_cells();\n",
       "                for (var i = 0; i < nbb_cells.length; ++i) {\n",
       "                    if (nbb_cells[i].input_prompt_number == nbb_cell_id) {\n",
       "                        if (nbb_cells[i].get_text() == nbb_unformatted_code) {\n",
       "                             nbb_cells[i].set_text(nbb_formatted_code);\n",
       "                        }\n",
       "                        break;\n",
       "                    }\n",
       "                }\n",
       "            }, 500);\n",
       "            "
      ],
      "text/plain": [
       "<IPython.core.display.Javascript object>"
      ]
     },
     "metadata": {},
     "output_type": "display_data"
    }
   ],
   "source": [
    "# Checking last 2 rows of the data\n",
    "df.tail(2)"
   ]
  },
  {
   "cell_type": "code",
   "execution_count": 16,
   "id": "468880ad",
   "metadata": {},
   "outputs": [
    {
     "data": {
      "text/html": [
       "<div>\n",
       "<style scoped>\n",
       "    .dataframe tbody tr th:only-of-type {\n",
       "        vertical-align: middle;\n",
       "    }\n",
       "\n",
       "    .dataframe tbody tr th {\n",
       "        vertical-align: top;\n",
       "    }\n",
       "\n",
       "    .dataframe thead th {\n",
       "        text-align: right;\n",
       "    }\n",
       "</style>\n",
       "<table border=\"1\" class=\"dataframe\">\n",
       "  <thead>\n",
       "    <tr style=\"text-align: right;\">\n",
       "      <th></th>\n",
       "      <th>month_year</th>\n",
       "      <th>day</th>\n",
       "      <th>name</th>\n",
       "      <th>info</th>\n",
       "      <th>link</th>\n",
       "      <th>num_references</th>\n",
       "    </tr>\n",
       "  </thead>\n",
       "  <tbody>\n",
       "    <tr>\n",
       "      <th>24700</th>\n",
       "      <td>December 2003</td>\n",
       "      <td>7</td>\n",
       "      <td>Johnny Bulla</td>\n",
       "      <td>, 89, American golfer.</td>\n",
       "      <td>https://en.wikipedia.org/wiki/Johnny_Bulla</td>\n",
       "      <td>9</td>\n",
       "    </tr>\n",
       "    <tr>\n",
       "      <th>98779</th>\n",
       "      <td>August 2018</td>\n",
       "      <td>22</td>\n",
       "      <td>Gurudas Kamat</td>\n",
       "      <td>, 63, Indian politician, MP (2004–2014), heart attack.</td>\n",
       "      <td>https://en.wikipedia.org/wiki/Gurudas_Kamat</td>\n",
       "      <td>19</td>\n",
       "    </tr>\n",
       "    <tr>\n",
       "      <th>106829</th>\n",
       "      <td>September 2019</td>\n",
       "      <td>21</td>\n",
       "      <td>Shuping Wang</td>\n",
       "      <td>, 59, Chinese-American medical researcher and public health whistleblower.</td>\n",
       "      <td>https://en.wikipedia.org/wiki/Shuping_Wang</td>\n",
       "      <td>8</td>\n",
       "    </tr>\n",
       "    <tr>\n",
       "      <th>133537</th>\n",
       "      <td>May 2022</td>\n",
       "      <td>20</td>\n",
       "      <td>Domina Eberle Spencer</td>\n",
       "      <td>, 101, American mathematician. (death announced on this date)</td>\n",
       "      <td>https://en.wikipedia.org/wiki/Domina_Eberle_Spencer</td>\n",
       "      <td>4</td>\n",
       "    </tr>\n",
       "    <tr>\n",
       "      <th>64320</th>\n",
       "      <td>September 2013</td>\n",
       "      <td>1</td>\n",
       "      <td>Joaquim Justino Carreira</td>\n",
       "      <td>, 63, Portuguese-born Brazilian Roman Catholic prelate, Bishop of Guarulhos (since 2011).</td>\n",
       "      <td>https://en.wikipedia.org/wiki/Joaquim_Justino_Carreira</td>\n",
       "      <td>1</td>\n",
       "    </tr>\n",
       "  </tbody>\n",
       "</table>\n",
       "</div>"
      ],
      "text/plain": [
       "            month_year day                      name  \\\n",
       "24700    December 2003   7              Johnny Bulla   \n",
       "98779      August 2018  22             Gurudas Kamat   \n",
       "106829  September 2019  21              Shuping Wang   \n",
       "133537        May 2022  20     Domina Eberle Spencer   \n",
       "64320   September 2013   1  Joaquim Justino Carreira   \n",
       "\n",
       "                                                                                             info  \\\n",
       "24700                                                                      , 89, American golfer.   \n",
       "98779                                      , 63, Indian politician, MP (2004–2014), heart attack.   \n",
       "106829                 , 59, Chinese-American medical researcher and public health whistleblower.   \n",
       "133537                              , 101, American mathematician. (death announced on this date)   \n",
       "64320   , 63, Portuguese-born Brazilian Roman Catholic prelate, Bishop of Guarulhos (since 2011).   \n",
       "\n",
       "                                                          link num_references  \n",
       "24700               https://en.wikipedia.org/wiki/Johnny_Bulla              9  \n",
       "98779              https://en.wikipedia.org/wiki/Gurudas_Kamat             19  \n",
       "106829              https://en.wikipedia.org/wiki/Shuping_Wang              8  \n",
       "133537     https://en.wikipedia.org/wiki/Domina_Eberle_Spencer              4  \n",
       "64320   https://en.wikipedia.org/wiki/Joaquim_Justino_Carreira              1  "
      ]
     },
     "execution_count": 16,
     "metadata": {},
     "output_type": "execute_result"
    },
    {
     "data": {
      "application/javascript": [
       "\n",
       "            setTimeout(function() {\n",
       "                var nbb_cell_id = 16;\n",
       "                var nbb_unformatted_code = \"# Checking a sample of the data\\ndf.sample(5)\";\n",
       "                var nbb_formatted_code = \"# Checking a sample of the data\\ndf.sample(5)\";\n",
       "                var nbb_cells = Jupyter.notebook.get_cells();\n",
       "                for (var i = 0; i < nbb_cells.length; ++i) {\n",
       "                    if (nbb_cells[i].input_prompt_number == nbb_cell_id) {\n",
       "                        if (nbb_cells[i].get_text() == nbb_unformatted_code) {\n",
       "                             nbb_cells[i].set_text(nbb_formatted_code);\n",
       "                        }\n",
       "                        break;\n",
       "                    }\n",
       "                }\n",
       "            }, 500);\n",
       "            "
      ],
      "text/plain": [
       "<IPython.core.display.Javascript object>"
      ]
     },
     "metadata": {},
     "output_type": "display_data"
    }
   ],
   "source": [
    "# Checking a sample of the data\n",
    "df.sample(5)"
   ]
  },
  {
   "cell_type": "code",
   "execution_count": 18,
   "id": "f25d2001",
   "metadata": {},
   "outputs": [
    {
     "data": {
      "text/plain": [
       "133914"
      ]
     },
     "execution_count": 18,
     "metadata": {},
     "output_type": "execute_result"
    },
    {
     "data": {
      "application/javascript": [
       "\n",
       "            setTimeout(function() {\n",
       "                var nbb_cell_id = 18;\n",
       "                var nbb_unformatted_code = \"df_94_to_22.shape[0] + df_June_2022.shape[0]\";\n",
       "                var nbb_formatted_code = \"df_94_to_22.shape[0] + df_June_2022.shape[0]\";\n",
       "                var nbb_cells = Jupyter.notebook.get_cells();\n",
       "                for (var i = 0; i < nbb_cells.length; ++i) {\n",
       "                    if (nbb_cells[i].input_prompt_number == nbb_cell_id) {\n",
       "                        if (nbb_cells[i].get_text() == nbb_unformatted_code) {\n",
       "                             nbb_cells[i].set_text(nbb_formatted_code);\n",
       "                        }\n",
       "                        break;\n",
       "                    }\n",
       "                }\n",
       "            }, 500);\n",
       "            "
      ],
      "text/plain": [
       "<IPython.core.display.Javascript object>"
      ]
     },
     "metadata": {},
     "output_type": "display_data"
    }
   ],
   "source": [
    "# Confirming correct number of total rows\n",
    "df_94_to_22.shape[0] + df_June_2022.shape[0]"
   ]
  },
  {
   "cell_type": "markdown",
   "id": "08ec6d03",
   "metadata": {},
   "source": [
    "### Checking data types, duplicates, and null values"
   ]
  },
  {
   "cell_type": "code",
   "execution_count": 17,
   "id": "ffd41971",
   "metadata": {},
   "outputs": [
    {
     "name": "stdout",
     "output_type": "stream",
     "text": [
      "<class 'pandas.core.frame.DataFrame'>\n",
      "RangeIndex: 133914 entries, 0 to 133913\n",
      "Data columns (total 6 columns):\n",
      " #   Column          Non-Null Count   Dtype \n",
      "---  ------          --------------   ----- \n",
      " 0   month_year      133914 non-null  object\n",
      " 1   day             133914 non-null  object\n",
      " 2   name            133903 non-null  object\n",
      " 3   info            133914 non-null  object\n",
      " 4   link            133914 non-null  object\n",
      " 5   num_references  120637 non-null  object\n",
      "dtypes: object(6)\n",
      "memory usage: 6.1+ MB\n"
     ]
    },
    {
     "data": {
      "application/javascript": [
       "\n",
       "            setTimeout(function() {\n",
       "                var nbb_cell_id = 17;\n",
       "                var nbb_unformatted_code = \"# Checking data types and null values\\ndf.info()\";\n",
       "                var nbb_formatted_code = \"# Checking data types and null values\\ndf.info()\";\n",
       "                var nbb_cells = Jupyter.notebook.get_cells();\n",
       "                for (var i = 0; i < nbb_cells.length; ++i) {\n",
       "                    if (nbb_cells[i].input_prompt_number == nbb_cell_id) {\n",
       "                        if (nbb_cells[i].get_text() == nbb_unformatted_code) {\n",
       "                             nbb_cells[i].set_text(nbb_formatted_code);\n",
       "                        }\n",
       "                        break;\n",
       "                    }\n",
       "                }\n",
       "            }, 500);\n",
       "            "
      ],
      "text/plain": [
       "<IPython.core.display.Javascript object>"
      ]
     },
     "metadata": {},
     "output_type": "display_data"
    }
   ],
   "source": [
    "# Checking data types and null values\n",
    "df.info()"
   ]
  },
  {
   "cell_type": "code",
   "execution_count": 19,
   "id": "981c735a",
   "metadata": {},
   "outputs": [
    {
     "data": {
      "text/plain": [
       "9"
      ]
     },
     "execution_count": 19,
     "metadata": {},
     "output_type": "execute_result"
    },
    {
     "data": {
      "application/javascript": [
       "\n",
       "            setTimeout(function() {\n",
       "                var nbb_cell_id = 19;\n",
       "                var nbb_unformatted_code = \"# Checking duplicate rows\\ndf.duplicated().sum()\";\n",
       "                var nbb_formatted_code = \"# Checking duplicate rows\\ndf.duplicated().sum()\";\n",
       "                var nbb_cells = Jupyter.notebook.get_cells();\n",
       "                for (var i = 0; i < nbb_cells.length; ++i) {\n",
       "                    if (nbb_cells[i].input_prompt_number == nbb_cell_id) {\n",
       "                        if (nbb_cells[i].get_text() == nbb_unformatted_code) {\n",
       "                             nbb_cells[i].set_text(nbb_formatted_code);\n",
       "                        }\n",
       "                        break;\n",
       "                    }\n",
       "                }\n",
       "            }, 500);\n",
       "            "
      ],
      "text/plain": [
       "<IPython.core.display.Javascript object>"
      ]
     },
     "metadata": {},
     "output_type": "display_data"
    }
   ],
   "source": [
    "# Checking duplicate rows\n",
    "df.duplicated().sum()"
   ]
  },
  {
   "cell_type": "code",
   "execution_count": 25,
   "id": "ba18c19c",
   "metadata": {},
   "outputs": [
    {
     "data": {
      "text/plain": [
       "(133905, 6)"
      ]
     },
     "execution_count": 25,
     "metadata": {},
     "output_type": "execute_result"
    },
    {
     "data": {
      "application/javascript": [
       "\n",
       "            setTimeout(function() {\n",
       "                var nbb_cell_id = 25;\n",
       "                var nbb_unformatted_code = \"# Drop duplicate rows\\ndf.drop_duplicates(inplace=True, ignore_index=True)\\n\\n# Re-check shape\\ndf.shape\";\n",
       "                var nbb_formatted_code = \"# Drop duplicate rows\\ndf.drop_duplicates(inplace=True, ignore_index=True)\\n\\n# Re-check shape\\ndf.shape\";\n",
       "                var nbb_cells = Jupyter.notebook.get_cells();\n",
       "                for (var i = 0; i < nbb_cells.length; ++i) {\n",
       "                    if (nbb_cells[i].input_prompt_number == nbb_cell_id) {\n",
       "                        if (nbb_cells[i].get_text() == nbb_unformatted_code) {\n",
       "                             nbb_cells[i].set_text(nbb_formatted_code);\n",
       "                        }\n",
       "                        break;\n",
       "                    }\n",
       "                }\n",
       "            }, 500);\n",
       "            "
      ],
      "text/plain": [
       "<IPython.core.display.Javascript object>"
      ]
     },
     "metadata": {},
     "output_type": "display_data"
    }
   ],
   "source": [
    "# Drop duplicate rows\n",
    "df.drop_duplicates(inplace=True, ignore_index=True)\n",
    "\n",
    "# Re-check shape\n",
    "df.shape"
   ]
  },
  {
   "cell_type": "code",
   "execution_count": 26,
   "id": "b7d73d35",
   "metadata": {},
   "outputs": [
    {
     "data": {
      "text/plain": [
       "month_year        0.000\n",
       "day               0.000\n",
       "name              0.008\n",
       "info              0.000\n",
       "link              0.000\n",
       "num_references   11.007\n",
       "dtype: float64"
      ]
     },
     "execution_count": 26,
     "metadata": {},
     "output_type": "execute_result"
    },
    {
     "data": {
      "application/javascript": [
       "\n",
       "            setTimeout(function() {\n",
       "                var nbb_cell_id = 26;\n",
       "                var nbb_unformatted_code = \"# Check percentage of null values by column\\ndf.isnull().sum() / df.count() * 100\";\n",
       "                var nbb_formatted_code = \"# Check percentage of null values by column\\ndf.isnull().sum() / df.count() * 100\";\n",
       "                var nbb_cells = Jupyter.notebook.get_cells();\n",
       "                for (var i = 0; i < nbb_cells.length; ++i) {\n",
       "                    if (nbb_cells[i].input_prompt_number == nbb_cell_id) {\n",
       "                        if (nbb_cells[i].get_text() == nbb_unformatted_code) {\n",
       "                             nbb_cells[i].set_text(nbb_formatted_code);\n",
       "                        }\n",
       "                        break;\n",
       "                    }\n",
       "                }\n",
       "            }, 500);\n",
       "            "
      ],
      "text/plain": [
       "<IPython.core.display.Javascript object>"
      ]
     },
     "metadata": {},
     "output_type": "display_data"
    }
   ],
   "source": [
    "# Check percentage of null values by column\n",
    "df.isnull().sum() / df.count() * 100"
   ]
  },
  {
   "cell_type": "code",
   "execution_count": 27,
   "id": "557645a0",
   "metadata": {},
   "outputs": [
    {
     "data": {
      "text/plain": [
       "0    120628\n",
       "1     13266\n",
       "2        11\n",
       "dtype: int64"
      ]
     },
     "execution_count": 27,
     "metadata": {},
     "output_type": "execute_result"
    },
    {
     "data": {
      "application/javascript": [
       "\n",
       "            setTimeout(function() {\n",
       "                var nbb_cell_id = 27;\n",
       "                var nbb_unformatted_code = \"# Checking number of missing values per row (not necessary here, but done to keep process standard)\\ndf.isnull().sum(axis=1).value_counts()\";\n",
       "                var nbb_formatted_code = \"# Checking number of missing values per row (not necessary here, but done to keep process standard)\\ndf.isnull().sum(axis=1).value_counts()\";\n",
       "                var nbb_cells = Jupyter.notebook.get_cells();\n",
       "                for (var i = 0; i < nbb_cells.length; ++i) {\n",
       "                    if (nbb_cells[i].input_prompt_number == nbb_cell_id) {\n",
       "                        if (nbb_cells[i].get_text() == nbb_unformatted_code) {\n",
       "                             nbb_cells[i].set_text(nbb_formatted_code);\n",
       "                        }\n",
       "                        break;\n",
       "                    }\n",
       "                }\n",
       "            }, 500);\n",
       "            "
      ],
      "text/plain": [
       "<IPython.core.display.Javascript object>"
      ]
     },
     "metadata": {},
     "output_type": "display_data"
    }
   ],
   "source": [
    "# Checking number of missing values per row (not necessary here, but done to keep process standard)\n",
    "df.isnull().sum(axis=1).value_counts()"
   ]
  },
  {
   "cell_type": "code",
   "execution_count": 28,
   "id": "079e7798",
   "metadata": {},
   "outputs": [
    {
     "data": {
      "text/html": [
       "<div>\n",
       "<style scoped>\n",
       "    .dataframe tbody tr th:only-of-type {\n",
       "        vertical-align: middle;\n",
       "    }\n",
       "\n",
       "    .dataframe tbody tr th {\n",
       "        vertical-align: top;\n",
       "    }\n",
       "\n",
       "    .dataframe thead th {\n",
       "        text-align: right;\n",
       "    }\n",
       "</style>\n",
       "<table border=\"1\" class=\"dataframe\">\n",
       "  <thead>\n",
       "    <tr style=\"text-align: right;\">\n",
       "      <th></th>\n",
       "      <th>month_year</th>\n",
       "      <th>day</th>\n",
       "      <th>name</th>\n",
       "      <th>info</th>\n",
       "      <th>link</th>\n",
       "      <th>num_references</th>\n",
       "    </tr>\n",
       "  </thead>\n",
       "  <tbody>\n",
       "    <tr>\n",
       "      <th>18937</th>\n",
       "      <td>August 2001</td>\n",
       "      <td>11</td>\n",
       "      <td>None</td>\n",
       "      <td>Kevin Kowalcyk, 2, known for eating a hamburger contaminated with E. coli O157:H7.</td>\n",
       "      <td>https://en.wikipedia.orgNone</td>\n",
       "      <td>NaN</td>\n",
       "    </tr>\n",
       "    <tr>\n",
       "      <th>24985</th>\n",
       "      <td>January 2004</td>\n",
       "      <td>22</td>\n",
       "      <td>None</td>\n",
       "      <td>Vincent Palmer, 37, British criminal.</td>\n",
       "      <td>https://en.wikipedia.orgNone</td>\n",
       "      <td>NaN</td>\n",
       "    </tr>\n",
       "    <tr>\n",
       "      <th>27458</th>\n",
       "      <td>March 2005</td>\n",
       "      <td>1</td>\n",
       "      <td>None</td>\n",
       "      <td>Barry Stigler, 57, American voice actor.</td>\n",
       "      <td>https://en.wikipedia.orgNone</td>\n",
       "      <td>NaN</td>\n",
       "    </tr>\n",
       "    <tr>\n",
       "      <th>34077</th>\n",
       "      <td>July 2007</td>\n",
       "      <td>11</td>\n",
       "      <td>None</td>\n",
       "      <td>Nana Gualdi, 75, German singer and actress.</td>\n",
       "      <td>https://en.wikipedia.orgNone</td>\n",
       "      <td>NaN</td>\n",
       "    </tr>\n",
       "    <tr>\n",
       "      <th>35097</th>\n",
       "      <td>November 2007</td>\n",
       "      <td>11</td>\n",
       "      <td>None</td>\n",
       "      <td></td>\n",
       "      <td>https://en.wikipedia.orgNone</td>\n",
       "      <td>NaN</td>\n",
       "    </tr>\n",
       "    <tr>\n",
       "      <th>41075</th>\n",
       "      <td>May 2009</td>\n",
       "      <td>18</td>\n",
       "      <td>None</td>\n",
       "      <td>Either killed in a missile attack or shot:\\n</td>\n",
       "      <td>https://en.wikipedia.orgNone</td>\n",
       "      <td>NaN</td>\n",
       "    </tr>\n",
       "    <tr>\n",
       "      <th>64771</th>\n",
       "      <td>September 2013</td>\n",
       "      <td>29</td>\n",
       "      <td>None</td>\n",
       "      <td>Scott Workman, 47, American stuntman (, , ), cancer.</td>\n",
       "      <td>https://en.wikipedia.orgNone</td>\n",
       "      <td>NaN</td>\n",
       "    </tr>\n",
       "    <tr>\n",
       "      <th>76024</th>\n",
       "      <td>April 2015</td>\n",
       "      <td>29</td>\n",
       "      <td>None</td>\n",
       "      <td>Notable convicted drug traffickers executed by Indonesian firing squad:\\n</td>\n",
       "      <td>https://en.wikipedia.orgNone</td>\n",
       "      <td>NaN</td>\n",
       "    </tr>\n",
       "    <tr>\n",
       "      <th>105871</th>\n",
       "      <td>August 2019</td>\n",
       "      <td>2</td>\n",
       "      <td>None</td>\n",
       "      <td>Japanese convicted murderers, executed by hanging.\\n</td>\n",
       "      <td>https://en.wikipedia.orgNone</td>\n",
       "      <td>NaN</td>\n",
       "    </tr>\n",
       "    <tr>\n",
       "      <th>106617</th>\n",
       "      <td>September 2019</td>\n",
       "      <td>12</td>\n",
       "      <td>None</td>\n",
       "      <td>Thami Shobede, 31, Singer Songwriter</td>\n",
       "      <td>https://en.wikipedia.orgNone</td>\n",
       "      <td>NaN</td>\n",
       "    </tr>\n",
       "    <tr>\n",
       "      <th>126192</th>\n",
       "      <td>August 2021</td>\n",
       "      <td>18</td>\n",
       "      <td>None</td>\n",
       "      <td>American hikers shot in a double homicide: (bodies discovered on this date)\\n</td>\n",
       "      <td>https://en.wikipedia.orgNone</td>\n",
       "      <td>NaN</td>\n",
       "    </tr>\n",
       "  </tbody>\n",
       "</table>\n",
       "</div>"
      ],
      "text/plain": [
       "            month_year day  name  \\\n",
       "18937      August 2001  11  None   \n",
       "24985     January 2004  22  None   \n",
       "27458       March 2005   1  None   \n",
       "34077        July 2007  11  None   \n",
       "35097    November 2007  11  None   \n",
       "41075         May 2009  18  None   \n",
       "64771   September 2013  29  None   \n",
       "76024       April 2015  29  None   \n",
       "105871     August 2019   2  None   \n",
       "106617  September 2019  12  None   \n",
       "126192     August 2021  18  None   \n",
       "\n",
       "                                                                                      info  \\\n",
       "18937   Kevin Kowalcyk, 2, known for eating a hamburger contaminated with E. coli O157:H7.   \n",
       "24985                                                Vincent Palmer, 37, British criminal.   \n",
       "27458                                             Barry Stigler, 57, American voice actor.   \n",
       "34077                                          Nana Gualdi, 75, German singer and actress.   \n",
       "35097                                                                                        \n",
       "41075                                         Either killed in a missile attack or shot:\\n   \n",
       "64771                                 Scott Workman, 47, American stuntman (, , ), cancer.   \n",
       "76024            Notable convicted drug traffickers executed by Indonesian firing squad:\\n   \n",
       "105871                                Japanese convicted murderers, executed by hanging.\\n   \n",
       "106617                                                Thami Shobede, 31, Singer Songwriter   \n",
       "126192       American hikers shot in a double homicide: (bodies discovered on this date)\\n   \n",
       "\n",
       "                                link num_references  \n",
       "18937   https://en.wikipedia.orgNone            NaN  \n",
       "24985   https://en.wikipedia.orgNone            NaN  \n",
       "27458   https://en.wikipedia.orgNone            NaN  \n",
       "34077   https://en.wikipedia.orgNone            NaN  \n",
       "35097   https://en.wikipedia.orgNone            NaN  \n",
       "41075   https://en.wikipedia.orgNone            NaN  \n",
       "64771   https://en.wikipedia.orgNone            NaN  \n",
       "76024   https://en.wikipedia.orgNone            NaN  \n",
       "105871  https://en.wikipedia.orgNone            NaN  \n",
       "106617  https://en.wikipedia.orgNone            NaN  \n",
       "126192  https://en.wikipedia.orgNone            NaN  "
      ]
     },
     "execution_count": 28,
     "metadata": {},
     "output_type": "execute_result"
    },
    {
     "data": {
      "application/javascript": [
       "\n",
       "            setTimeout(function() {\n",
       "                var nbb_cell_id = 28;\n",
       "                var nbb_unformatted_code = \"df[df.isnull().sum(axis=1)==2]\";\n",
       "                var nbb_formatted_code = \"df[df.isnull().sum(axis=1) == 2]\";\n",
       "                var nbb_cells = Jupyter.notebook.get_cells();\n",
       "                for (var i = 0; i < nbb_cells.length; ++i) {\n",
       "                    if (nbb_cells[i].input_prompt_number == nbb_cell_id) {\n",
       "                        if (nbb_cells[i].get_text() == nbb_unformatted_code) {\n",
       "                             nbb_cells[i].set_text(nbb_formatted_code);\n",
       "                        }\n",
       "                        break;\n",
       "                    }\n",
       "                }\n",
       "            }, 500);\n",
       "            "
      ],
      "text/plain": [
       "<IPython.core.display.Javascript object>"
      ]
     },
     "metadata": {},
     "output_type": "display_data"
    }
   ],
   "source": [
    "# Checking the rows that are missing values for 2 columns\n",
    "df[df.isnull().sum(axis=1) == 2]"
   ]
  },
  {
   "cell_type": "code",
   "execution_count": 39,
   "id": "0ed0f6b5",
   "metadata": {},
   "outputs": [
    {
     "data": {
      "text/html": [
       "<div>\n",
       "<style scoped>\n",
       "    .dataframe tbody tr th:only-of-type {\n",
       "        vertical-align: middle;\n",
       "    }\n",
       "\n",
       "    .dataframe tbody tr th {\n",
       "        vertical-align: top;\n",
       "    }\n",
       "\n",
       "    .dataframe thead th {\n",
       "        text-align: right;\n",
       "    }\n",
       "</style>\n",
       "<table border=\"1\" class=\"dataframe\">\n",
       "  <thead>\n",
       "    <tr style=\"text-align: right;\">\n",
       "      <th></th>\n",
       "      <th>month_year</th>\n",
       "      <th>day</th>\n",
       "      <th>name</th>\n",
       "      <th>info</th>\n",
       "      <th>link</th>\n",
       "      <th>num_references</th>\n",
       "    </tr>\n",
       "  </thead>\n",
       "  <tbody>\n",
       "    <tr>\n",
       "      <th>35097</th>\n",
       "      <td>November 2007</td>\n",
       "      <td>11</td>\n",
       "      <td>None</td>\n",
       "      <td></td>\n",
       "      <td>https://en.wikipedia.orgNone</td>\n",
       "      <td>NaN</td>\n",
       "    </tr>\n",
       "  </tbody>\n",
       "</table>\n",
       "</div>"
      ],
      "text/plain": [
       "          month_year day  name info                          link  \\\n",
       "35097  November 2007  11  None       https://en.wikipedia.orgNone   \n",
       "\n",
       "      num_references  \n",
       "35097            NaN  "
      ]
     },
     "execution_count": 39,
     "metadata": {},
     "output_type": "execute_result"
    },
    {
     "data": {
      "application/javascript": [
       "\n",
       "            setTimeout(function() {\n",
       "                var nbb_cell_id = 39;\n",
       "                var nbb_unformatted_code = \"df[df[\\\"info\\\"] == \\\"\\\"]\";\n",
       "                var nbb_formatted_code = \"df[df[\\\"info\\\"] == \\\"\\\"]\";\n",
       "                var nbb_cells = Jupyter.notebook.get_cells();\n",
       "                for (var i = 0; i < nbb_cells.length; ++i) {\n",
       "                    if (nbb_cells[i].input_prompt_number == nbb_cell_id) {\n",
       "                        if (nbb_cells[i].get_text() == nbb_unformatted_code) {\n",
       "                             nbb_cells[i].set_text(nbb_formatted_code);\n",
       "                        }\n",
       "                        break;\n",
       "                    }\n",
       "                }\n",
       "            }, 500);\n",
       "            "
      ],
      "text/plain": [
       "<IPython.core.display.Javascript object>"
      ]
     },
     "metadata": {},
     "output_type": "display_data"
    }
   ],
   "source": [
    "df[df[\"info\"] == \"\"]"
   ]
  },
  {
   "cell_type": "code",
   "execution_count": 33,
   "id": "5cdc95f2",
   "metadata": {},
   "outputs": [
    {
     "data": {
      "application/javascript": [
       "\n",
       "            setTimeout(function() {\n",
       "                var nbb_cell_id = 33;\n",
       "                var nbb_unformatted_code = \"keep_rows = [18937, 24985, 27458, 34077, 64771, 106617]\\nfor row in keep_rows:\\n    df.loc[row, 'num_references'] = 0\";\n",
       "                var nbb_formatted_code = \"keep_rows = [18937, 24985, 27458, 34077, 64771, 106617]\\nfor row in keep_rows:\\n    df.loc[row, \\\"num_references\\\"] = 0\";\n",
       "                var nbb_cells = Jupyter.notebook.get_cells();\n",
       "                for (var i = 0; i < nbb_cells.length; ++i) {\n",
       "                    if (nbb_cells[i].input_prompt_number == nbb_cell_id) {\n",
       "                        if (nbb_cells[i].get_text() == nbb_unformatted_code) {\n",
       "                             nbb_cells[i].set_text(nbb_formatted_code);\n",
       "                        }\n",
       "                        break;\n",
       "                    }\n",
       "                }\n",
       "            }, 500);\n",
       "            "
      ],
      "text/plain": [
       "<IPython.core.display.Javascript object>"
      ]
     },
     "metadata": {},
     "output_type": "display_data"
    }
   ],
   "source": [
    "keep_rows = [18937, 24985, 27458, 34077, 64771, 106617]\n",
    "for row in keep_rows:\n",
    "    df.loc[row, \"num_references\"] = 0"
   ]
  },
  {
   "cell_type": "code",
   "execution_count": 34,
   "id": "b6a27a9b",
   "metadata": {},
   "outputs": [
    {
     "data": {
      "text/html": [
       "<div>\n",
       "<style scoped>\n",
       "    .dataframe tbody tr th:only-of-type {\n",
       "        vertical-align: middle;\n",
       "    }\n",
       "\n",
       "    .dataframe tbody tr th {\n",
       "        vertical-align: top;\n",
       "    }\n",
       "\n",
       "    .dataframe thead th {\n",
       "        text-align: right;\n",
       "    }\n",
       "</style>\n",
       "<table border=\"1\" class=\"dataframe\">\n",
       "  <thead>\n",
       "    <tr style=\"text-align: right;\">\n",
       "      <th></th>\n",
       "      <th>month_year</th>\n",
       "      <th>day</th>\n",
       "      <th>name</th>\n",
       "      <th>info</th>\n",
       "      <th>link</th>\n",
       "      <th>num_references</th>\n",
       "    </tr>\n",
       "  </thead>\n",
       "  <tbody>\n",
       "    <tr>\n",
       "      <th>18937</th>\n",
       "      <td>August 2001</td>\n",
       "      <td>11</td>\n",
       "      <td>None</td>\n",
       "      <td>Kevin Kowalcyk, 2, known for eating a hamburger contaminated with E. coli O157:H7.</td>\n",
       "      <td>https://en.wikipedia.orgNone</td>\n",
       "      <td>0</td>\n",
       "    </tr>\n",
       "    <tr>\n",
       "      <th>24985</th>\n",
       "      <td>January 2004</td>\n",
       "      <td>22</td>\n",
       "      <td>None</td>\n",
       "      <td>Vincent Palmer, 37, British criminal.</td>\n",
       "      <td>https://en.wikipedia.orgNone</td>\n",
       "      <td>0</td>\n",
       "    </tr>\n",
       "    <tr>\n",
       "      <th>27458</th>\n",
       "      <td>March 2005</td>\n",
       "      <td>1</td>\n",
       "      <td>None</td>\n",
       "      <td>Barry Stigler, 57, American voice actor.</td>\n",
       "      <td>https://en.wikipedia.orgNone</td>\n",
       "      <td>0</td>\n",
       "    </tr>\n",
       "    <tr>\n",
       "      <th>34077</th>\n",
       "      <td>July 2007</td>\n",
       "      <td>11</td>\n",
       "      <td>None</td>\n",
       "      <td>Nana Gualdi, 75, German singer and actress.</td>\n",
       "      <td>https://en.wikipedia.orgNone</td>\n",
       "      <td>0</td>\n",
       "    </tr>\n",
       "    <tr>\n",
       "      <th>64771</th>\n",
       "      <td>September 2013</td>\n",
       "      <td>29</td>\n",
       "      <td>None</td>\n",
       "      <td>Scott Workman, 47, American stuntman (, , ), cancer.</td>\n",
       "      <td>https://en.wikipedia.orgNone</td>\n",
       "      <td>0</td>\n",
       "    </tr>\n",
       "    <tr>\n",
       "      <th>106617</th>\n",
       "      <td>September 2019</td>\n",
       "      <td>12</td>\n",
       "      <td>None</td>\n",
       "      <td>Thami Shobede, 31, Singer Songwriter</td>\n",
       "      <td>https://en.wikipedia.orgNone</td>\n",
       "      <td>0</td>\n",
       "    </tr>\n",
       "  </tbody>\n",
       "</table>\n",
       "</div>"
      ],
      "text/plain": [
       "            month_year day  name  \\\n",
       "18937      August 2001  11  None   \n",
       "24985     January 2004  22  None   \n",
       "27458       March 2005   1  None   \n",
       "34077        July 2007  11  None   \n",
       "64771   September 2013  29  None   \n",
       "106617  September 2019  12  None   \n",
       "\n",
       "                                                                                      info  \\\n",
       "18937   Kevin Kowalcyk, 2, known for eating a hamburger contaminated with E. coli O157:H7.   \n",
       "24985                                                Vincent Palmer, 37, British criminal.   \n",
       "27458                                             Barry Stigler, 57, American voice actor.   \n",
       "34077                                          Nana Gualdi, 75, German singer and actress.   \n",
       "64771                                 Scott Workman, 47, American stuntman (, , ), cancer.   \n",
       "106617                                                Thami Shobede, 31, Singer Songwriter   \n",
       "\n",
       "                                link num_references  \n",
       "18937   https://en.wikipedia.orgNone              0  \n",
       "24985   https://en.wikipedia.orgNone              0  \n",
       "27458   https://en.wikipedia.orgNone              0  \n",
       "34077   https://en.wikipedia.orgNone              0  \n",
       "64771   https://en.wikipedia.orgNone              0  \n",
       "106617  https://en.wikipedia.orgNone              0  "
      ]
     },
     "execution_count": 34,
     "metadata": {},
     "output_type": "execute_result"
    },
    {
     "data": {
      "application/javascript": [
       "\n",
       "            setTimeout(function() {\n",
       "                var nbb_cell_id = 34;\n",
       "                var nbb_unformatted_code = \"df.loc[keep_rows, :]\";\n",
       "                var nbb_formatted_code = \"df.loc[keep_rows, :]\";\n",
       "                var nbb_cells = Jupyter.notebook.get_cells();\n",
       "                for (var i = 0; i < nbb_cells.length; ++i) {\n",
       "                    if (nbb_cells[i].input_prompt_number == nbb_cell_id) {\n",
       "                        if (nbb_cells[i].get_text() == nbb_unformatted_code) {\n",
       "                             nbb_cells[i].set_text(nbb_formatted_code);\n",
       "                        }\n",
       "                        break;\n",
       "                    }\n",
       "                }\n",
       "            }, 500);\n",
       "            "
      ],
      "text/plain": [
       "<IPython.core.display.Javascript object>"
      ]
     },
     "metadata": {},
     "output_type": "display_data"
    }
   ],
   "source": [
    "df.loc[keep_rows, :]"
   ]
  },
  {
   "cell_type": "code",
   "execution_count": 37,
   "id": "e3624600",
   "metadata": {},
   "outputs": [
    {
     "name": "stdout",
     "output_type": "stream",
     "text": [
      "<class 'pandas.core.frame.DataFrame'>\n",
      "RangeIndex: 133905 entries, 0 to 133904\n",
      "Data columns (total 6 columns):\n",
      " #   Column          Non-Null Count   Dtype \n",
      "---  ------          --------------   ----- \n",
      " 0   month_year      133905 non-null  object\n",
      " 1   day             133905 non-null  object\n",
      " 2   name            133894 non-null  object\n",
      " 3   info            133905 non-null  object\n",
      " 4   link            133905 non-null  object\n",
      " 5   num_references  120634 non-null  object\n",
      "dtypes: object(6)\n",
      "memory usage: 6.1+ MB\n"
     ]
    },
    {
     "data": {
      "application/javascript": [
       "\n",
       "            setTimeout(function() {\n",
       "                var nbb_cell_id = 37;\n",
       "                var nbb_unformatted_code = \"df.info()\";\n",
       "                var nbb_formatted_code = \"df.info()\";\n",
       "                var nbb_cells = Jupyter.notebook.get_cells();\n",
       "                for (var i = 0; i < nbb_cells.length; ++i) {\n",
       "                    if (nbb_cells[i].input_prompt_number == nbb_cell_id) {\n",
       "                        if (nbb_cells[i].get_text() == nbb_unformatted_code) {\n",
       "                             nbb_cells[i].set_text(nbb_formatted_code);\n",
       "                        }\n",
       "                        break;\n",
       "                    }\n",
       "                }\n",
       "            }, 500);\n",
       "            "
      ],
      "text/plain": [
       "<IPython.core.display.Javascript object>"
      ]
     },
     "metadata": {},
     "output_type": "display_data"
    }
   ],
   "source": [
    "df.info()"
   ]
  },
  {
   "cell_type": "code",
   "execution_count": null,
   "id": "72ce419a",
   "metadata": {},
   "outputs": [],
   "source": []
  }
 ],
 "metadata": {
  "kernelspec": {
   "display_name": "Python 3 (ipykernel)",
   "language": "python",
   "name": "python3"
  },
  "language_info": {
   "codemirror_mode": {
    "name": "ipython",
    "version": 3
   },
   "file_extension": ".py",
   "mimetype": "text/x-python",
   "name": "python",
   "nbconvert_exporter": "python",
   "pygments_lexer": "ipython3",
   "version": "3.9.12"
  }
 },
 "nbformat": 4,
 "nbformat_minor": 5
}
