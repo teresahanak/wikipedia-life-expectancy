{
 "cells": [
  {
   "cell_type": "markdown",
   "id": "fe79a771",
   "metadata": {},
   "source": [
    "# Wikipedia Notable Deaths\n",
    "\n",
    "## Context\n",
    "\n",
    "The...\n",
    "\n",
    "## Objective\n",
    "\n",
    "The...\n",
    "\n",
    "## Data Dictionary\n",
    "Variable: Description"
   ]
  },
  {
   "cell_type": "markdown",
   "id": "38383c91",
   "metadata": {},
   "source": [
    "### Data Collection\n",
    "Scraped on 6/9/22 with scrapy.\n",
    "\n",
    "Main site: https://en.wikipedia.org/wiki/Lists_of_deaths_by_year\n",
    "Start_url: https://en.wikipedia.org/wiki/Deaths_in_January_1994\n",
    "paginating through May, 2022 successfully.\n",
    "Reference count scraped separately,due to pagination, to maintain original order in first dataset.\n",
    "June, 20222 as the current month had inconsistent formatting and was scraped separately. \n",
    "~13,000 missing entries for reference count.\n",
    "\n",
    "6/10/22 set out to id links with missing reference count to rescrape."
   ]
  },
  {
   "cell_type": "markdown",
   "id": "e425071d",
   "metadata": {},
   "source": [
    "## Importing necessary libraries"
   ]
  },
  {
   "cell_type": "code",
   "execution_count": 1,
   "id": "1024c296",
   "metadata": {},
   "outputs": [],
   "source": [
    "# To limit number of threads in numpy and thereby prevent known dataleak associated with KMeans\n",
    "# Note:  this cell must be run BEFORE installing numpy to have desired effect\n",
    "import os\n",
    "\n",
    "os.environ[\"OMP_NUM_THREADS\"] = \"1\""
   ]
  },
  {
   "cell_type": "code",
   "execution_count": 2,
   "id": "93d7533f",
   "metadata": {},
   "outputs": [
    {
     "data": {
      "application/javascript": [
       "\n",
       "            setTimeout(function() {\n",
       "                var nbb_cell_id = 2;\n",
       "                var nbb_unformatted_code = \"# To structure code automatically\\n%load_ext nb_black\\n\\n# To import sqlite databases\\nimport sqlite3 as sql\\n\\n# To help with reading and manipulating data\\nimport pandas as pd\\nimport numpy as np\\n\\n# To help with data visualization\\nimport matplotlib.pyplot as plt\\nimport seaborn as sns\\nfrom sklearn.manifold import TSNE\\nfrom sklearn.decomposition import PCA\\n\\n# To be used for data scaling\\nfrom sklearn.preprocessing import StandardScaler\\n\\n# To compute distances\\nfrom scipy.spatial.distance import cdist, pdist\\n\\n# To define maximum number of columns to be displayed in a dataframe\\npd.set_option(\\\"display.max_columns\\\", None)\\n# To define the maximum number of rows to be displayed in a dataframe\\npd.set_option(\\\"display.max_rows\\\", 200)\\n\\n# To perform k-means clustering and compute silhouette scores\\nfrom sklearn.cluster import KMeans\\nfrom sklearn.metrics import silhouette_score\\n\\n# To visualize the elbow curve and silhouette scores\\nfrom yellowbrick.cluster import KElbowVisualizer, SilhouetteVisualizer\\nfrom yellowbrick.style.palettes import PALETTES\\n\\n# To perform hierarchical clustering, compute cophenetic correlation, and create dendrograms\\nfrom sklearn.cluster import AgglomerativeClustering\\nfrom scipy.cluster.hierarchy import dendrogram, linkage, cophenet\\n\\n# To supress scientific notations for a dataframe\\npd.set_option(\\\"display.float_format\\\", lambda x: \\\"%.3f\\\" % x)\\n\\n# To supress warnings\\nimport warnings\\n\\nwarnings.filterwarnings(\\\"ignore\\\")\\n\\n# To set some visualization attributes\\npd.set_option(\\\"max_colwidth\\\", 150)\\nsns.set_theme()\\nsns.set_palette(\\n    (\\n        \\\"midnightblue\\\",\\n        \\\"goldenrod\\\",\\n        \\\"maroon\\\",\\n        \\\"darkolivegreen\\\",\\n        \\\"cadetblue\\\",\\n        \\\"tab:purple\\\",\\n        \\\"yellowgreen\\\",\\n    )\\n)\\nplt.rc(\\\"font\\\", size=12)\\nplt.rc(\\\"axes\\\", titlesize=15)\\nplt.rc(\\\"axes\\\", labelsize=14)\\nplt.rc(\\\"xtick\\\", labelsize=13)\\nplt.rc(\\\"ytick\\\", labelsize=13)\\nplt.rc(\\\"legend\\\", fontsize=13)\\nplt.rc(\\\"legend\\\", fontsize=14)\\nplt.rc(\\\"figure\\\", titlesize=16)\";\n",
       "                var nbb_formatted_code = \"# To structure code automatically\\n%load_ext nb_black\\n\\n# To import sqlite databases\\nimport sqlite3 as sql\\n\\n# To help with reading and manipulating data\\nimport pandas as pd\\nimport numpy as np\\n\\n# To help with data visualization\\nimport matplotlib.pyplot as plt\\nimport seaborn as sns\\nfrom sklearn.manifold import TSNE\\nfrom sklearn.decomposition import PCA\\n\\n# To be used for data scaling\\nfrom sklearn.preprocessing import StandardScaler\\n\\n# To compute distances\\nfrom scipy.spatial.distance import cdist, pdist\\n\\n# To define maximum number of columns to be displayed in a dataframe\\npd.set_option(\\\"display.max_columns\\\", None)\\n# To define the maximum number of rows to be displayed in a dataframe\\npd.set_option(\\\"display.max_rows\\\", 200)\\n\\n# To perform k-means clustering and compute silhouette scores\\nfrom sklearn.cluster import KMeans\\nfrom sklearn.metrics import silhouette_score\\n\\n# To visualize the elbow curve and silhouette scores\\nfrom yellowbrick.cluster import KElbowVisualizer, SilhouetteVisualizer\\nfrom yellowbrick.style.palettes import PALETTES\\n\\n# To perform hierarchical clustering, compute cophenetic correlation, and create dendrograms\\nfrom sklearn.cluster import AgglomerativeClustering\\nfrom scipy.cluster.hierarchy import dendrogram, linkage, cophenet\\n\\n# To supress scientific notations for a dataframe\\npd.set_option(\\\"display.float_format\\\", lambda x: \\\"%.3f\\\" % x)\\n\\n# To supress warnings\\nimport warnings\\n\\nwarnings.filterwarnings(\\\"ignore\\\")\\n\\n# To set some visualization attributes\\npd.set_option(\\\"max_colwidth\\\", 150)\\nsns.set_theme()\\nsns.set_palette(\\n    (\\n        \\\"midnightblue\\\",\\n        \\\"goldenrod\\\",\\n        \\\"maroon\\\",\\n        \\\"darkolivegreen\\\",\\n        \\\"cadetblue\\\",\\n        \\\"tab:purple\\\",\\n        \\\"yellowgreen\\\",\\n    )\\n)\\nplt.rc(\\\"font\\\", size=12)\\nplt.rc(\\\"axes\\\", titlesize=15)\\nplt.rc(\\\"axes\\\", labelsize=14)\\nplt.rc(\\\"xtick\\\", labelsize=13)\\nplt.rc(\\\"ytick\\\", labelsize=13)\\nplt.rc(\\\"legend\\\", fontsize=13)\\nplt.rc(\\\"legend\\\", fontsize=14)\\nplt.rc(\\\"figure\\\", titlesize=16)\";\n",
       "                var nbb_cells = Jupyter.notebook.get_cells();\n",
       "                for (var i = 0; i < nbb_cells.length; ++i) {\n",
       "                    if (nbb_cells[i].input_prompt_number == nbb_cell_id) {\n",
       "                        if (nbb_cells[i].get_text() == nbb_unformatted_code) {\n",
       "                             nbb_cells[i].set_text(nbb_formatted_code);\n",
       "                        }\n",
       "                        break;\n",
       "                    }\n",
       "                }\n",
       "            }, 500);\n",
       "            "
      ],
      "text/plain": [
       "<IPython.core.display.Javascript object>"
      ]
     },
     "metadata": {},
     "output_type": "display_data"
    }
   ],
   "source": [
    "# To structure code automatically\n",
    "%load_ext nb_black\n",
    "\n",
    "# To import sqlite databases\n",
    "import sqlite3 as sql\n",
    "\n",
    "# To help with reading and manipulating data\n",
    "import pandas as pd\n",
    "import numpy as np\n",
    "\n",
    "# To help with data visualization\n",
    "import matplotlib.pyplot as plt\n",
    "import seaborn as sns\n",
    "from sklearn.manifold import TSNE\n",
    "from sklearn.decomposition import PCA\n",
    "\n",
    "# To be used for data scaling\n",
    "from sklearn.preprocessing import StandardScaler\n",
    "\n",
    "# To compute distances\n",
    "from scipy.spatial.distance import cdist, pdist\n",
    "\n",
    "# To define maximum number of columns to be displayed in a dataframe\n",
    "pd.set_option(\"display.max_columns\", None)\n",
    "# To define the maximum number of rows to be displayed in a dataframe\n",
    "pd.set_option(\"display.max_rows\", 200)\n",
    "\n",
    "# To perform k-means clustering and compute silhouette scores\n",
    "from sklearn.cluster import KMeans\n",
    "from sklearn.metrics import silhouette_score\n",
    "\n",
    "# To visualize the elbow curve and silhouette scores\n",
    "from yellowbrick.cluster import KElbowVisualizer, SilhouetteVisualizer\n",
    "from yellowbrick.style.palettes import PALETTES\n",
    "\n",
    "# To perform hierarchical clustering, compute cophenetic correlation, and create dendrograms\n",
    "from sklearn.cluster import AgglomerativeClustering\n",
    "from scipy.cluster.hierarchy import dendrogram, linkage, cophenet\n",
    "\n",
    "# To supress scientific notations for a dataframe\n",
    "pd.set_option(\"display.float_format\", lambda x: \"%.3f\" % x)\n",
    "\n",
    "# To supress warnings\n",
    "import warnings\n",
    "\n",
    "warnings.filterwarnings(\"ignore\")\n",
    "\n",
    "# To set some visualization attributes\n",
    "pd.set_option(\"max_colwidth\", 150)\n",
    "sns.set_theme()\n",
    "sns.set_palette(\n",
    "    (\n",
    "        \"midnightblue\",\n",
    "        \"goldenrod\",\n",
    "        \"maroon\",\n",
    "        \"darkolivegreen\",\n",
    "        \"cadetblue\",\n",
    "        \"tab:purple\",\n",
    "        \"yellowgreen\",\n",
    "    )\n",
    ")\n",
    "plt.rc(\"font\", size=12)\n",
    "plt.rc(\"axes\", titlesize=15)\n",
    "plt.rc(\"axes\", labelsize=14)\n",
    "plt.rc(\"xtick\", labelsize=13)\n",
    "plt.rc(\"ytick\", labelsize=13)\n",
    "plt.rc(\"legend\", fontsize=13)\n",
    "plt.rc(\"legend\", fontsize=14)\n",
    "plt.rc(\"figure\", titlesize=16)"
   ]
  },
  {
   "cell_type": "markdown",
   "id": "2e89e99f",
   "metadata": {},
   "source": [
    "## Data Overview"
   ]
  },
  {
   "cell_type": "markdown",
   "id": "04d733ef",
   "metadata": {},
   "source": [
    "### Reading, sampling, and checking data shape"
   ]
  },
  {
   "cell_type": "markdown",
   "id": "f85a14aa",
   "metadata": {},
   "source": [
    "#### For January 1994 through May 2022 (without reference counts)"
   ]
  },
  {
   "cell_type": "code",
   "execution_count": 3,
   "id": "44f953a5",
   "metadata": {},
   "outputs": [
    {
     "name": "stdout",
     "output_type": "stream",
     "text": [
      "There are 133769 rows and 5 columns.\n"
     ]
    },
    {
     "data": {
      "text/html": [
       "<div>\n",
       "<style scoped>\n",
       "    .dataframe tbody tr th:only-of-type {\n",
       "        vertical-align: middle;\n",
       "    }\n",
       "\n",
       "    .dataframe tbody tr th {\n",
       "        vertical-align: top;\n",
       "    }\n",
       "\n",
       "    .dataframe thead th {\n",
       "        text-align: right;\n",
       "    }\n",
       "</style>\n",
       "<table border=\"1\" class=\"dataframe\">\n",
       "  <thead>\n",
       "    <tr style=\"text-align: right;\">\n",
       "      <th></th>\n",
       "      <th>month_year</th>\n",
       "      <th>day</th>\n",
       "      <th>name</th>\n",
       "      <th>info</th>\n",
       "      <th>link</th>\n",
       "    </tr>\n",
       "  </thead>\n",
       "  <tbody>\n",
       "    <tr>\n",
       "      <th>0</th>\n",
       "      <td>January 1994</td>\n",
       "      <td>1</td>\n",
       "      <td>William Chappell</td>\n",
       "      <td>, 86, British dancer, ballet designer and director.</td>\n",
       "      <td>https://en.wikipedia.org/wiki/William_Chappell_(dancer)</td>\n",
       "    </tr>\n",
       "    <tr>\n",
       "      <th>1</th>\n",
       "      <td>January 1994</td>\n",
       "      <td>1</td>\n",
       "      <td>Raymond Crotty</td>\n",
       "      <td>, 68, Irish economist, writer, and academic.</td>\n",
       "      <td>https://en.wikipedia.org/wiki/Raymond_Crotty</td>\n",
       "    </tr>\n",
       "  </tbody>\n",
       "</table>\n",
       "</div>"
      ],
      "text/plain": [
       "     month_year day              name  \\\n",
       "0  January 1994   1  William Chappell   \n",
       "1  January 1994   1    Raymond Crotty   \n",
       "\n",
       "                                                  info  \\\n",
       "0  , 86, British dancer, ballet designer and director.   \n",
       "1         , 68, Irish economist, writer, and academic.   \n",
       "\n",
       "                                                      link  \n",
       "0  https://en.wikipedia.org/wiki/William_Chappell_(dancer)  \n",
       "1             https://en.wikipedia.org/wiki/Raymond_Crotty  "
      ]
     },
     "execution_count": 3,
     "metadata": {},
     "output_type": "execute_result"
    },
    {
     "data": {
      "application/javascript": [
       "\n",
       "            setTimeout(function() {\n",
       "                var nbb_cell_id = 3;\n",
       "                var nbb_unformatted_code = \"# Reading the wp_deaths_94_to_22 dataset from sql db and table\\nconn = sql.connect(\\\"wp_deaths_94_to_22.db\\\")\\nraw_94_to_22 = pd.read_sql(\\\"SELECT * FROM wp_deaths_94_to_22\\\", conn)\\n\\n# Making a working copy\\ndf_94_to_22 = raw_94_to_22.copy()\\n\\n# Checking the shape\\nprint(f\\\"There are {df_94_to_22.shape[0]} rows and {df_94_to_22.shape[1]} columns.\\\")\\n\\n# Checking first 2 rows of the data\\ndf_94_to_22.head(2)\";\n",
       "                var nbb_formatted_code = \"# Reading the wp_deaths_94_to_22 dataset from sql db and table\\nconn = sql.connect(\\\"wp_deaths_94_to_22.db\\\")\\nraw_94_to_22 = pd.read_sql(\\\"SELECT * FROM wp_deaths_94_to_22\\\", conn)\\n\\n# Making a working copy\\ndf_94_to_22 = raw_94_to_22.copy()\\n\\n# Checking the shape\\nprint(f\\\"There are {df_94_to_22.shape[0]} rows and {df_94_to_22.shape[1]} columns.\\\")\\n\\n# Checking first 2 rows of the data\\ndf_94_to_22.head(2)\";\n",
       "                var nbb_cells = Jupyter.notebook.get_cells();\n",
       "                for (var i = 0; i < nbb_cells.length; ++i) {\n",
       "                    if (nbb_cells[i].input_prompt_number == nbb_cell_id) {\n",
       "                        if (nbb_cells[i].get_text() == nbb_unformatted_code) {\n",
       "                             nbb_cells[i].set_text(nbb_formatted_code);\n",
       "                        }\n",
       "                        break;\n",
       "                    }\n",
       "                }\n",
       "            }, 500);\n",
       "            "
      ],
      "text/plain": [
       "<IPython.core.display.Javascript object>"
      ]
     },
     "metadata": {},
     "output_type": "display_data"
    }
   ],
   "source": [
    "# Reading the wp_deaths_94_to_22 dataset from sql db and table\n",
    "conn = sql.connect(\"wp_deaths_94_to_22.db\")\n",
    "raw_94_to_22 = pd.read_sql(\"SELECT * FROM wp_deaths_94_to_22\", conn)\n",
    "\n",
    "# Making a working copy\n",
    "df_94_to_22 = raw_94_to_22.copy()\n",
    "\n",
    "# Checking the shape\n",
    "print(f\"There are {df_94_to_22.shape[0]} rows and {df_94_to_22.shape[1]} columns.\")\n",
    "\n",
    "# Checking first 2 rows of the data\n",
    "df_94_to_22.head(2)"
   ]
  },
  {
   "cell_type": "code",
   "execution_count": 4,
   "id": "aaf55a68",
   "metadata": {},
   "outputs": [
    {
     "data": {
      "text/html": [
       "<div>\n",
       "<style scoped>\n",
       "    .dataframe tbody tr th:only-of-type {\n",
       "        vertical-align: middle;\n",
       "    }\n",
       "\n",
       "    .dataframe tbody tr th {\n",
       "        vertical-align: top;\n",
       "    }\n",
       "\n",
       "    .dataframe thead th {\n",
       "        text-align: right;\n",
       "    }\n",
       "</style>\n",
       "<table border=\"1\" class=\"dataframe\">\n",
       "  <thead>\n",
       "    <tr style=\"text-align: right;\">\n",
       "      <th></th>\n",
       "      <th>month_year</th>\n",
       "      <th>day</th>\n",
       "      <th>name</th>\n",
       "      <th>info</th>\n",
       "      <th>link</th>\n",
       "    </tr>\n",
       "  </thead>\n",
       "  <tbody>\n",
       "    <tr>\n",
       "      <th>133767</th>\n",
       "      <td>May 2022</td>\n",
       "      <td>31</td>\n",
       "      <td>Dave Smith</td>\n",
       "      <td>, 72, American sound engineer, founder of Sequential.</td>\n",
       "      <td>https://en.wikipedia.org/wiki/Dave_Smith_(engineer)</td>\n",
       "    </tr>\n",
       "    <tr>\n",
       "      <th>133768</th>\n",
       "      <td>May 2022</td>\n",
       "      <td>31</td>\n",
       "      <td>Wang Zherong</td>\n",
       "      <td>, 86, Chinese tank designer, member of the Chinese Academy of Engineering.</td>\n",
       "      <td>https://en.wikipedia.org/wiki/Wang_Zherong</td>\n",
       "    </tr>\n",
       "  </tbody>\n",
       "</table>\n",
       "</div>"
      ],
      "text/plain": [
       "       month_year day          name  \\\n",
       "133767   May 2022  31    Dave Smith   \n",
       "133768   May 2022  31  Wang Zherong   \n",
       "\n",
       "                                                                              info  \\\n",
       "133767                       , 72, American sound engineer, founder of Sequential.   \n",
       "133768  , 86, Chinese tank designer, member of the Chinese Academy of Engineering.   \n",
       "\n",
       "                                                       link  \n",
       "133767  https://en.wikipedia.org/wiki/Dave_Smith_(engineer)  \n",
       "133768           https://en.wikipedia.org/wiki/Wang_Zherong  "
      ]
     },
     "execution_count": 4,
     "metadata": {},
     "output_type": "execute_result"
    },
    {
     "data": {
      "application/javascript": [
       "\n",
       "            setTimeout(function() {\n",
       "                var nbb_cell_id = 4;\n",
       "                var nbb_unformatted_code = \"# Checking last 2 rows of the data\\ndf_94_to_22.tail(2)\";\n",
       "                var nbb_formatted_code = \"# Checking last 2 rows of the data\\ndf_94_to_22.tail(2)\";\n",
       "                var nbb_cells = Jupyter.notebook.get_cells();\n",
       "                for (var i = 0; i < nbb_cells.length; ++i) {\n",
       "                    if (nbb_cells[i].input_prompt_number == nbb_cell_id) {\n",
       "                        if (nbb_cells[i].get_text() == nbb_unformatted_code) {\n",
       "                             nbb_cells[i].set_text(nbb_formatted_code);\n",
       "                        }\n",
       "                        break;\n",
       "                    }\n",
       "                }\n",
       "            }, 500);\n",
       "            "
      ],
      "text/plain": [
       "<IPython.core.display.Javascript object>"
      ]
     },
     "metadata": {},
     "output_type": "display_data"
    }
   ],
   "source": [
    "# Checking last 2 rows of the data\n",
    "df_94_to_22.tail(2)"
   ]
  },
  {
   "cell_type": "code",
   "execution_count": 5,
   "id": "00052ac3",
   "metadata": {},
   "outputs": [
    {
     "data": {
      "text/html": [
       "<div>\n",
       "<style scoped>\n",
       "    .dataframe tbody tr th:only-of-type {\n",
       "        vertical-align: middle;\n",
       "    }\n",
       "\n",
       "    .dataframe tbody tr th {\n",
       "        vertical-align: top;\n",
       "    }\n",
       "\n",
       "    .dataframe thead th {\n",
       "        text-align: right;\n",
       "    }\n",
       "</style>\n",
       "<table border=\"1\" class=\"dataframe\">\n",
       "  <thead>\n",
       "    <tr style=\"text-align: right;\">\n",
       "      <th></th>\n",
       "      <th>month_year</th>\n",
       "      <th>day</th>\n",
       "      <th>name</th>\n",
       "      <th>info</th>\n",
       "      <th>link</th>\n",
       "    </tr>\n",
       "  </thead>\n",
       "  <tbody>\n",
       "    <tr>\n",
       "      <th>77928</th>\n",
       "      <td>August 2015</td>\n",
       "      <td>18</td>\n",
       "      <td>William Jay Smith</td>\n",
       "      <td>, 97, American poet.</td>\n",
       "      <td>https://en.wikipedia.org/wiki/William_Jay_Smith</td>\n",
       "    </tr>\n",
       "    <tr>\n",
       "      <th>106472</th>\n",
       "      <td>September 2019</td>\n",
       "      <td>4</td>\n",
       "      <td>Pál Berendy</td>\n",
       "      <td>, 86, Hungarian footballer (Vasas SC, national team).</td>\n",
       "      <td>https://en.wikipedia.org/wiki/P%C3%A1l_Berendy</td>\n",
       "    </tr>\n",
       "    <tr>\n",
       "      <th>91094</th>\n",
       "      <td>July 2017</td>\n",
       "      <td>22</td>\n",
       "      <td>Haddon Robinson</td>\n",
       "      <td>, 86, American author and academic, interim president of Gordon-Conwell Theological Seminary.</td>\n",
       "      <td>https://en.wikipedia.org/wiki/Haddon_Robinson</td>\n",
       "    </tr>\n",
       "    <tr>\n",
       "      <th>28316</th>\n",
       "      <td>June 2005</td>\n",
       "      <td>26</td>\n",
       "      <td>Eknath Solkar</td>\n",
       "      <td>, 57, Indian cricketer.</td>\n",
       "      <td>https://en.wikipedia.org/wiki/Eknath_Solkar</td>\n",
       "    </tr>\n",
       "    <tr>\n",
       "      <th>53943</th>\n",
       "      <td>February 2012</td>\n",
       "      <td>7</td>\n",
       "      <td>Danny Clyburn</td>\n",
       "      <td>, 37, American baseball player (Baltimore Orioles, Tampa Bay Devil Rays), shot.</td>\n",
       "      <td>https://en.wikipedia.org/wiki/Danny_Clyburn</td>\n",
       "    </tr>\n",
       "  </tbody>\n",
       "</table>\n",
       "</div>"
      ],
      "text/plain": [
       "            month_year day               name  \\\n",
       "77928      August 2015  18  William Jay Smith   \n",
       "106472  September 2019   4        Pál Berendy   \n",
       "91094        July 2017  22    Haddon Robinson   \n",
       "28316        June 2005  26      Eknath Solkar   \n",
       "53943    February 2012   7      Danny Clyburn   \n",
       "\n",
       "                                                                                                 info  \\\n",
       "77928                                                                            , 97, American poet.   \n",
       "106472                                          , 86, Hungarian footballer (Vasas SC, national team).   \n",
       "91094   , 86, American author and academic, interim president of Gordon-Conwell Theological Seminary.   \n",
       "28316                                                                         , 57, Indian cricketer.   \n",
       "53943                 , 37, American baseball player (Baltimore Orioles, Tampa Bay Devil Rays), shot.   \n",
       "\n",
       "                                                   link  \n",
       "77928   https://en.wikipedia.org/wiki/William_Jay_Smith  \n",
       "106472   https://en.wikipedia.org/wiki/P%C3%A1l_Berendy  \n",
       "91094     https://en.wikipedia.org/wiki/Haddon_Robinson  \n",
       "28316       https://en.wikipedia.org/wiki/Eknath_Solkar  \n",
       "53943       https://en.wikipedia.org/wiki/Danny_Clyburn  "
      ]
     },
     "execution_count": 5,
     "metadata": {},
     "output_type": "execute_result"
    },
    {
     "data": {
      "application/javascript": [
       "\n",
       "            setTimeout(function() {\n",
       "                var nbb_cell_id = 5;\n",
       "                var nbb_unformatted_code = \"# Checking a sample of the data\\ndf_94_to_22.sample(5)\";\n",
       "                var nbb_formatted_code = \"# Checking a sample of the data\\ndf_94_to_22.sample(5)\";\n",
       "                var nbb_cells = Jupyter.notebook.get_cells();\n",
       "                for (var i = 0; i < nbb_cells.length; ++i) {\n",
       "                    if (nbb_cells[i].input_prompt_number == nbb_cell_id) {\n",
       "                        if (nbb_cells[i].get_text() == nbb_unformatted_code) {\n",
       "                             nbb_cells[i].set_text(nbb_formatted_code);\n",
       "                        }\n",
       "                        break;\n",
       "                    }\n",
       "                }\n",
       "            }, 500);\n",
       "            "
      ],
      "text/plain": [
       "<IPython.core.display.Javascript object>"
      ]
     },
     "metadata": {},
     "output_type": "display_data"
    }
   ],
   "source": [
    "# Checking a sample of the data\n",
    "df_94_to_22.sample(5)"
   ]
  },
  {
   "cell_type": "markdown",
   "id": "19092b26",
   "metadata": {},
   "source": [
    "#### For January 1994 through May 2022 Reference Counts"
   ]
  },
  {
   "cell_type": "code",
   "execution_count": 6,
   "id": "328cc7dd",
   "metadata": {},
   "outputs": [
    {
     "name": "stdout",
     "output_type": "stream",
     "text": [
      "There are 120368 rows and 2 columns.\n"
     ]
    },
    {
     "data": {
      "text/html": [
       "<div>\n",
       "<style scoped>\n",
       "    .dataframe tbody tr th:only-of-type {\n",
       "        vertical-align: middle;\n",
       "    }\n",
       "\n",
       "    .dataframe tbody tr th {\n",
       "        vertical-align: top;\n",
       "    }\n",
       "\n",
       "    .dataframe thead th {\n",
       "        text-align: right;\n",
       "    }\n",
       "</style>\n",
       "<table border=\"1\" class=\"dataframe\">\n",
       "  <thead>\n",
       "    <tr style=\"text-align: right;\">\n",
       "      <th></th>\n",
       "      <th>link</th>\n",
       "      <th>num_references</th>\n",
       "    </tr>\n",
       "  </thead>\n",
       "  <tbody>\n",
       "    <tr>\n",
       "      <th>0</th>\n",
       "      <td>https://en.wikipedia.org/wiki/Lys_Gauty</td>\n",
       "      <td>5</td>\n",
       "    </tr>\n",
       "    <tr>\n",
       "      <th>1</th>\n",
       "      <td>https://en.wikipedia.org/wiki/William_Chappell_(dancer)</td>\n",
       "      <td>21</td>\n",
       "    </tr>\n",
       "  </tbody>\n",
       "</table>\n",
       "</div>"
      ],
      "text/plain": [
       "                                                      link num_references\n",
       "0                  https://en.wikipedia.org/wiki/Lys_Gauty              5\n",
       "1  https://en.wikipedia.org/wiki/William_Chappell_(dancer)             21"
      ]
     },
     "execution_count": 6,
     "metadata": {},
     "output_type": "execute_result"
    },
    {
     "data": {
      "application/javascript": [
       "\n",
       "            setTimeout(function() {\n",
       "                var nbb_cell_id = 6;\n",
       "                var nbb_unformatted_code = \"# Reading the wp_reference_counts_2 dataset from sql db and table\\nconn = sql.connect(\\\"wp_reference_counts_2.db\\\")\\nraw_reference_counts = pd.read_sql(\\\"SELECT * FROM wp_reference_counts_2\\\", conn)\\n\\n# Making a working copy\\ndf_reference_counts = raw_reference_counts.copy()\\n\\n# Checking the shape\\nprint(\\n    f\\\"There are {df_reference_counts.shape[0]} rows and {df_reference_counts.shape[1]} columns.\\\"\\n)\\n\\n# Checking first 2 rows of the data\\ndf_reference_counts.head(2)\";\n",
       "                var nbb_formatted_code = \"# Reading the wp_reference_counts_2 dataset from sql db and table\\nconn = sql.connect(\\\"wp_reference_counts_2.db\\\")\\nraw_reference_counts = pd.read_sql(\\\"SELECT * FROM wp_reference_counts_2\\\", conn)\\n\\n# Making a working copy\\ndf_reference_counts = raw_reference_counts.copy()\\n\\n# Checking the shape\\nprint(\\n    f\\\"There are {df_reference_counts.shape[0]} rows and {df_reference_counts.shape[1]} columns.\\\"\\n)\\n\\n# Checking first 2 rows of the data\\ndf_reference_counts.head(2)\";\n",
       "                var nbb_cells = Jupyter.notebook.get_cells();\n",
       "                for (var i = 0; i < nbb_cells.length; ++i) {\n",
       "                    if (nbb_cells[i].input_prompt_number == nbb_cell_id) {\n",
       "                        if (nbb_cells[i].get_text() == nbb_unformatted_code) {\n",
       "                             nbb_cells[i].set_text(nbb_formatted_code);\n",
       "                        }\n",
       "                        break;\n",
       "                    }\n",
       "                }\n",
       "            }, 500);\n",
       "            "
      ],
      "text/plain": [
       "<IPython.core.display.Javascript object>"
      ]
     },
     "metadata": {},
     "output_type": "display_data"
    }
   ],
   "source": [
    "# Reading the wp_reference_counts_2 dataset from sql db and table\n",
    "conn = sql.connect(\"wp_reference_counts_2.db\")\n",
    "raw_reference_counts = pd.read_sql(\"SELECT * FROM wp_reference_counts_2\", conn)\n",
    "\n",
    "# Making a working copy\n",
    "df_reference_counts = raw_reference_counts.copy()\n",
    "\n",
    "# Checking the shape\n",
    "print(\n",
    "    f\"There are {df_reference_counts.shape[0]} rows and {df_reference_counts.shape[1]} columns.\"\n",
    ")\n",
    "\n",
    "# Checking first 2 rows of the data\n",
    "df_reference_counts.head(2)"
   ]
  },
  {
   "cell_type": "code",
   "execution_count": 7,
   "id": "02a7baf1",
   "metadata": {},
   "outputs": [
    {
     "data": {
      "text/html": [
       "<div>\n",
       "<style scoped>\n",
       "    .dataframe tbody tr th:only-of-type {\n",
       "        vertical-align: middle;\n",
       "    }\n",
       "\n",
       "    .dataframe tbody tr th {\n",
       "        vertical-align: top;\n",
       "    }\n",
       "\n",
       "    .dataframe thead th {\n",
       "        text-align: right;\n",
       "    }\n",
       "</style>\n",
       "<table border=\"1\" class=\"dataframe\">\n",
       "  <thead>\n",
       "    <tr style=\"text-align: right;\">\n",
       "      <th></th>\n",
       "      <th>link</th>\n",
       "      <th>num_references</th>\n",
       "    </tr>\n",
       "  </thead>\n",
       "  <tbody>\n",
       "    <tr>\n",
       "      <th>120366</th>\n",
       "      <td>https://en.wikipedia.org/wiki/Shirley_Thomas_(USC_professor)</td>\n",
       "      <td>6</td>\n",
       "    </tr>\n",
       "    <tr>\n",
       "      <th>120367</th>\n",
       "      <td>https://en.wikipedia.org/wiki/James_Doohan</td>\n",
       "      <td>52</td>\n",
       "    </tr>\n",
       "  </tbody>\n",
       "</table>\n",
       "</div>"
      ],
      "text/plain": [
       "                                                                link  \\\n",
       "120366  https://en.wikipedia.org/wiki/Shirley_Thomas_(USC_professor)   \n",
       "120367                    https://en.wikipedia.org/wiki/James_Doohan   \n",
       "\n",
       "       num_references  \n",
       "120366              6  \n",
       "120367             52  "
      ]
     },
     "execution_count": 7,
     "metadata": {},
     "output_type": "execute_result"
    },
    {
     "data": {
      "application/javascript": [
       "\n",
       "            setTimeout(function() {\n",
       "                var nbb_cell_id = 7;\n",
       "                var nbb_unformatted_code = \"# Checking last 2 rows of the data\\ndf_reference_counts.tail(2)\";\n",
       "                var nbb_formatted_code = \"# Checking last 2 rows of the data\\ndf_reference_counts.tail(2)\";\n",
       "                var nbb_cells = Jupyter.notebook.get_cells();\n",
       "                for (var i = 0; i < nbb_cells.length; ++i) {\n",
       "                    if (nbb_cells[i].input_prompt_number == nbb_cell_id) {\n",
       "                        if (nbb_cells[i].get_text() == nbb_unformatted_code) {\n",
       "                             nbb_cells[i].set_text(nbb_formatted_code);\n",
       "                        }\n",
       "                        break;\n",
       "                    }\n",
       "                }\n",
       "            }, 500);\n",
       "            "
      ],
      "text/plain": [
       "<IPython.core.display.Javascript object>"
      ]
     },
     "metadata": {},
     "output_type": "display_data"
    }
   ],
   "source": [
    "# Checking last 2 rows of the data\n",
    "df_reference_counts.tail(2)"
   ]
  },
  {
   "cell_type": "code",
   "execution_count": 8,
   "id": "1ec63bb3",
   "metadata": {},
   "outputs": [
    {
     "data": {
      "text/html": [
       "<div>\n",
       "<style scoped>\n",
       "    .dataframe tbody tr th:only-of-type {\n",
       "        vertical-align: middle;\n",
       "    }\n",
       "\n",
       "    .dataframe tbody tr th {\n",
       "        vertical-align: top;\n",
       "    }\n",
       "\n",
       "    .dataframe thead th {\n",
       "        text-align: right;\n",
       "    }\n",
       "</style>\n",
       "<table border=\"1\" class=\"dataframe\">\n",
       "  <thead>\n",
       "    <tr style=\"text-align: right;\">\n",
       "      <th></th>\n",
       "      <th>link</th>\n",
       "      <th>num_references</th>\n",
       "    </tr>\n",
       "  </thead>\n",
       "  <tbody>\n",
       "    <tr>\n",
       "      <th>42463</th>\n",
       "      <td>https://en.wikipedia.org/wiki/Eric_Bristow</td>\n",
       "      <td>20</td>\n",
       "    </tr>\n",
       "    <tr>\n",
       "      <th>19782</th>\n",
       "      <td>https://en.wikipedia.org/wiki/Peps_Persson</td>\n",
       "      <td>6</td>\n",
       "    </tr>\n",
       "    <tr>\n",
       "      <th>95673</th>\n",
       "      <td>https://en.wikipedia.org/wiki/Shahed_Ali</td>\n",
       "      <td>2</td>\n",
       "    </tr>\n",
       "    <tr>\n",
       "      <th>98885</th>\n",
       "      <td>https://en.wikipedia.org/wiki/Wilfred_Cantwell_Smith</td>\n",
       "      <td>39</td>\n",
       "    </tr>\n",
       "    <tr>\n",
       "      <th>100758</th>\n",
       "      <td>https://en.wikipedia.org/wiki/Doug_Wickenheiser</td>\n",
       "      <td>1</td>\n",
       "    </tr>\n",
       "  </tbody>\n",
       "</table>\n",
       "</div>"
      ],
      "text/plain": [
       "                                                        link num_references\n",
       "42463             https://en.wikipedia.org/wiki/Eric_Bristow             20\n",
       "19782             https://en.wikipedia.org/wiki/Peps_Persson              6\n",
       "95673               https://en.wikipedia.org/wiki/Shahed_Ali              2\n",
       "98885   https://en.wikipedia.org/wiki/Wilfred_Cantwell_Smith             39\n",
       "100758       https://en.wikipedia.org/wiki/Doug_Wickenheiser              1"
      ]
     },
     "execution_count": 8,
     "metadata": {},
     "output_type": "execute_result"
    },
    {
     "data": {
      "application/javascript": [
       "\n",
       "            setTimeout(function() {\n",
       "                var nbb_cell_id = 8;\n",
       "                var nbb_unformatted_code = \"# Checking a sample of the data\\ndf_reference_counts.sample(5)\";\n",
       "                var nbb_formatted_code = \"# Checking a sample of the data\\ndf_reference_counts.sample(5)\";\n",
       "                var nbb_cells = Jupyter.notebook.get_cells();\n",
       "                for (var i = 0; i < nbb_cells.length; ++i) {\n",
       "                    if (nbb_cells[i].input_prompt_number == nbb_cell_id) {\n",
       "                        if (nbb_cells[i].get_text() == nbb_unformatted_code) {\n",
       "                             nbb_cells[i].set_text(nbb_formatted_code);\n",
       "                        }\n",
       "                        break;\n",
       "                    }\n",
       "                }\n",
       "            }, 500);\n",
       "            "
      ],
      "text/plain": [
       "<IPython.core.display.Javascript object>"
      ]
     },
     "metadata": {},
     "output_type": "display_data"
    }
   ],
   "source": [
    "# Checking a sample of the data\n",
    "df_reference_counts.sample(5)"
   ]
  },
  {
   "cell_type": "markdown",
   "id": "8a515170",
   "metadata": {},
   "source": [
    "#### For June 2022"
   ]
  },
  {
   "cell_type": "code",
   "execution_count": 9,
   "id": "9525e066",
   "metadata": {},
   "outputs": [
    {
     "name": "stdout",
     "output_type": "stream",
     "text": [
      "There are 145 rows and 6 columns.\n"
     ]
    },
    {
     "data": {
      "text/html": [
       "<div>\n",
       "<style scoped>\n",
       "    .dataframe tbody tr th:only-of-type {\n",
       "        vertical-align: middle;\n",
       "    }\n",
       "\n",
       "    .dataframe tbody tr th {\n",
       "        vertical-align: top;\n",
       "    }\n",
       "\n",
       "    .dataframe thead th {\n",
       "        text-align: right;\n",
       "    }\n",
       "</style>\n",
       "<table border=\"1\" class=\"dataframe\">\n",
       "  <thead>\n",
       "    <tr style=\"text-align: right;\">\n",
       "      <th></th>\n",
       "      <th>month_year</th>\n",
       "      <th>day</th>\n",
       "      <th>name</th>\n",
       "      <th>info</th>\n",
       "      <th>link</th>\n",
       "      <th>num_references</th>\n",
       "    </tr>\n",
       "  </thead>\n",
       "  <tbody>\n",
       "    <tr>\n",
       "      <th>0</th>\n",
       "      <td>June 2022</td>\n",
       "      <td>8</td>\n",
       "      <td>Mladen Frančić</td>\n",
       "      <td>, 67, Croatian football player and manager (Vrbovec, Podravina, Al-Watani Club).</td>\n",
       "      <td>https://en.wikipedia.org/wiki/Mladen_Fran%C4%8Di%C4%87</td>\n",
       "      <td>1</td>\n",
       "    </tr>\n",
       "    <tr>\n",
       "      <th>1</th>\n",
       "      <td>June 2022</td>\n",
       "      <td>6</td>\n",
       "      <td>Valery Ryumin</td>\n",
       "      <td>, 82, Russian cosmonaut (Soyuz 25, Soyuz 32, Soyuz 35).</td>\n",
       "      <td>https://en.wikipedia.org/wiki/Valery_Ryumin</td>\n",
       "      <td>2</td>\n",
       "    </tr>\n",
       "  </tbody>\n",
       "</table>\n",
       "</div>"
      ],
      "text/plain": [
       "  month_year day            name  \\\n",
       "0  June 2022   8  Mladen Frančić   \n",
       "1  June 2022   6   Valery Ryumin   \n",
       "\n",
       "                                                                               info  \\\n",
       "0  , 67, Croatian football player and manager (Vrbovec, Podravina, Al-Watani Club).   \n",
       "1                           , 82, Russian cosmonaut (Soyuz 25, Soyuz 32, Soyuz 35).   \n",
       "\n",
       "                                                     link num_references  \n",
       "0  https://en.wikipedia.org/wiki/Mladen_Fran%C4%8Di%C4%87              1  \n",
       "1             https://en.wikipedia.org/wiki/Valery_Ryumin              2  "
      ]
     },
     "execution_count": 9,
     "metadata": {},
     "output_type": "execute_result"
    },
    {
     "data": {
      "application/javascript": [
       "\n",
       "            setTimeout(function() {\n",
       "                var nbb_cell_id = 9;\n",
       "                var nbb_unformatted_code = \"# Reading the wp_deaths_June_2022 dataset from sql db and table\\nconn = sql.connect(\\\"wp_deaths_June_2022.db\\\")\\nraw_June_2022 = pd.read_sql(\\\"SELECT * FROM wp_deaths_June_2022\\\", conn)\\n\\n# Making a working copy\\ndf_June_2022 = raw_June_2022.copy()\\n\\n# Checking the shape\\nprint(f\\\"There are {df_June_2022.shape[0]} rows and {df_June_2022.shape[1]} columns.\\\")\\n\\n# Checking first 2 rows of the data\\ndf_June_2022.head(2)\";\n",
       "                var nbb_formatted_code = \"# Reading the wp_deaths_June_2022 dataset from sql db and table\\nconn = sql.connect(\\\"wp_deaths_June_2022.db\\\")\\nraw_June_2022 = pd.read_sql(\\\"SELECT * FROM wp_deaths_June_2022\\\", conn)\\n\\n# Making a working copy\\ndf_June_2022 = raw_June_2022.copy()\\n\\n# Checking the shape\\nprint(f\\\"There are {df_June_2022.shape[0]} rows and {df_June_2022.shape[1]} columns.\\\")\\n\\n# Checking first 2 rows of the data\\ndf_June_2022.head(2)\";\n",
       "                var nbb_cells = Jupyter.notebook.get_cells();\n",
       "                for (var i = 0; i < nbb_cells.length; ++i) {\n",
       "                    if (nbb_cells[i].input_prompt_number == nbb_cell_id) {\n",
       "                        if (nbb_cells[i].get_text() == nbb_unformatted_code) {\n",
       "                             nbb_cells[i].set_text(nbb_formatted_code);\n",
       "                        }\n",
       "                        break;\n",
       "                    }\n",
       "                }\n",
       "            }, 500);\n",
       "            "
      ],
      "text/plain": [
       "<IPython.core.display.Javascript object>"
      ]
     },
     "metadata": {},
     "output_type": "display_data"
    }
   ],
   "source": [
    "# Reading the wp_deaths_June_2022 dataset from sql db and table\n",
    "conn = sql.connect(\"wp_deaths_June_2022.db\")\n",
    "raw_June_2022 = pd.read_sql(\"SELECT * FROM wp_deaths_June_2022\", conn)\n",
    "\n",
    "# Making a working copy\n",
    "df_June_2022 = raw_June_2022.copy()\n",
    "\n",
    "# Checking the shape\n",
    "print(f\"There are {df_June_2022.shape[0]} rows and {df_June_2022.shape[1]} columns.\")\n",
    "\n",
    "# Checking first 2 rows of the data\n",
    "df_June_2022.head(2)"
   ]
  },
  {
   "cell_type": "code",
   "execution_count": 10,
   "id": "310b9965",
   "metadata": {},
   "outputs": [
    {
     "data": {
      "text/html": [
       "<div>\n",
       "<style scoped>\n",
       "    .dataframe tbody tr th:only-of-type {\n",
       "        vertical-align: middle;\n",
       "    }\n",
       "\n",
       "    .dataframe tbody tr th {\n",
       "        vertical-align: top;\n",
       "    }\n",
       "\n",
       "    .dataframe thead th {\n",
       "        text-align: right;\n",
       "    }\n",
       "</style>\n",
       "<table border=\"1\" class=\"dataframe\">\n",
       "  <thead>\n",
       "    <tr style=\"text-align: right;\">\n",
       "      <th></th>\n",
       "      <th>month_year</th>\n",
       "      <th>day</th>\n",
       "      <th>name</th>\n",
       "      <th>info</th>\n",
       "      <th>link</th>\n",
       "      <th>num_references</th>\n",
       "    </tr>\n",
       "  </thead>\n",
       "  <tbody>\n",
       "    <tr>\n",
       "      <th>26</th>\n",
       "      <td>June 2022</td>\n",
       "      <td>1</td>\n",
       "      <td>Richard Oldcorn</td>\n",
       "      <td>, 84, English Olympic fencer (1964, 1968, 1972).</td>\n",
       "      <td>https://en.wikipedia.org/wiki/Richard_Oldcorn</td>\n",
       "      <td>5</td>\n",
       "    </tr>\n",
       "    <tr>\n",
       "      <th>20</th>\n",
       "      <td>June 2022</td>\n",
       "      <td>1</td>\n",
       "      <td>István Szőke</td>\n",
       "      <td>, 75, Hungarian footballer (Ferencváros, national team), stroke.</td>\n",
       "      <td>https://en.wikipedia.org/wiki/Istv%C3%A1n_Sz%C5%91ke</td>\n",
       "      <td>2</td>\n",
       "    </tr>\n",
       "  </tbody>\n",
       "</table>\n",
       "</div>"
      ],
      "text/plain": [
       "   month_year day             name  \\\n",
       "26  June 2022   1  Richard Oldcorn   \n",
       "20  June 2022   1     István Szőke   \n",
       "\n",
       "                                                                info  \\\n",
       "26                  , 84, English Olympic fencer (1964, 1968, 1972).   \n",
       "20  , 75, Hungarian footballer (Ferencváros, national team), stroke.   \n",
       "\n",
       "                                                    link num_references  \n",
       "26         https://en.wikipedia.org/wiki/Richard_Oldcorn              5  \n",
       "20  https://en.wikipedia.org/wiki/Istv%C3%A1n_Sz%C5%91ke              2  "
      ]
     },
     "execution_count": 10,
     "metadata": {},
     "output_type": "execute_result"
    },
    {
     "data": {
      "application/javascript": [
       "\n",
       "            setTimeout(function() {\n",
       "                var nbb_cell_id = 10;\n",
       "                var nbb_unformatted_code = \"# Sorting by day\\ndf_June_2022.sort_values(by=\\\"day\\\", inplace=True)\\n\\n# Re-checking first 2 rows of the data\\ndf_June_2022.head(2)\";\n",
       "                var nbb_formatted_code = \"# Sorting by day\\ndf_June_2022.sort_values(by=\\\"day\\\", inplace=True)\\n\\n# Re-checking first 2 rows of the data\\ndf_June_2022.head(2)\";\n",
       "                var nbb_cells = Jupyter.notebook.get_cells();\n",
       "                for (var i = 0; i < nbb_cells.length; ++i) {\n",
       "                    if (nbb_cells[i].input_prompt_number == nbb_cell_id) {\n",
       "                        if (nbb_cells[i].get_text() == nbb_unformatted_code) {\n",
       "                             nbb_cells[i].set_text(nbb_formatted_code);\n",
       "                        }\n",
       "                        break;\n",
       "                    }\n",
       "                }\n",
       "            }, 500);\n",
       "            "
      ],
      "text/plain": [
       "<IPython.core.display.Javascript object>"
      ]
     },
     "metadata": {},
     "output_type": "display_data"
    }
   ],
   "source": [
    "# Sorting by day\n",
    "df_June_2022.sort_values(by=\"day\", inplace=True)\n",
    "\n",
    "# Re-checking first 2 rows of the data\n",
    "df_June_2022.head(2)"
   ]
  },
  {
   "cell_type": "code",
   "execution_count": 11,
   "id": "959a5485",
   "metadata": {},
   "outputs": [
    {
     "data": {
      "text/html": [
       "<div>\n",
       "<style scoped>\n",
       "    .dataframe tbody tr th:only-of-type {\n",
       "        vertical-align: middle;\n",
       "    }\n",
       "\n",
       "    .dataframe tbody tr th {\n",
       "        vertical-align: top;\n",
       "    }\n",
       "\n",
       "    .dataframe thead th {\n",
       "        text-align: right;\n",
       "    }\n",
       "</style>\n",
       "<table border=\"1\" class=\"dataframe\">\n",
       "  <thead>\n",
       "    <tr style=\"text-align: right;\">\n",
       "      <th></th>\n",
       "      <th>month_year</th>\n",
       "      <th>day</th>\n",
       "      <th>name</th>\n",
       "      <th>info</th>\n",
       "      <th>link</th>\n",
       "      <th>num_references</th>\n",
       "    </tr>\n",
       "  </thead>\n",
       "  <tbody>\n",
       "    <tr>\n",
       "      <th>8</th>\n",
       "      <td>June 2022</td>\n",
       "      <td>9</td>\n",
       "      <td>Oleg Moliboga</td>\n",
       "      <td>, 69, Russian volleyball player, Olympic champion (1980) and coach.</td>\n",
       "      <td>https://en.wikipedia.org/wiki/Oleg_Moliboga</td>\n",
       "      <td>2</td>\n",
       "    </tr>\n",
       "    <tr>\n",
       "      <th>5</th>\n",
       "      <td>June 2022</td>\n",
       "      <td>9</td>\n",
       "      <td>Zou Jing</td>\n",
       "      <td>, 86, Chinese engineer, member of the Chinese Academy of Engineering.</td>\n",
       "      <td>https://en.wikipedia.org/wiki/Zou_Jing_(engineer)</td>\n",
       "      <td>3</td>\n",
       "    </tr>\n",
       "  </tbody>\n",
       "</table>\n",
       "</div>"
      ],
      "text/plain": [
       "  month_year day           name  \\\n",
       "8  June 2022   9  Oleg Moliboga   \n",
       "5  June 2022   9       Zou Jing   \n",
       "\n",
       "                                                                    info  \\\n",
       "8    , 69, Russian volleyball player, Olympic champion (1980) and coach.   \n",
       "5  , 86, Chinese engineer, member of the Chinese Academy of Engineering.   \n",
       "\n",
       "                                                link num_references  \n",
       "8        https://en.wikipedia.org/wiki/Oleg_Moliboga              2  \n",
       "5  https://en.wikipedia.org/wiki/Zou_Jing_(engineer)              3  "
      ]
     },
     "execution_count": 11,
     "metadata": {},
     "output_type": "execute_result"
    },
    {
     "data": {
      "application/javascript": [
       "\n",
       "            setTimeout(function() {\n",
       "                var nbb_cell_id = 11;\n",
       "                var nbb_unformatted_code = \"# Checking last 2 rows of the data\\ndf_June_2022.tail(2)\";\n",
       "                var nbb_formatted_code = \"# Checking last 2 rows of the data\\ndf_June_2022.tail(2)\";\n",
       "                var nbb_cells = Jupyter.notebook.get_cells();\n",
       "                for (var i = 0; i < nbb_cells.length; ++i) {\n",
       "                    if (nbb_cells[i].input_prompt_number == nbb_cell_id) {\n",
       "                        if (nbb_cells[i].get_text() == nbb_unformatted_code) {\n",
       "                             nbb_cells[i].set_text(nbb_formatted_code);\n",
       "                        }\n",
       "                        break;\n",
       "                    }\n",
       "                }\n",
       "            }, 500);\n",
       "            "
      ],
      "text/plain": [
       "<IPython.core.display.Javascript object>"
      ]
     },
     "metadata": {},
     "output_type": "display_data"
    }
   ],
   "source": [
    "# Checking last 2 rows of the data\n",
    "df_June_2022.tail(2)"
   ]
  },
  {
   "cell_type": "code",
   "execution_count": 12,
   "id": "63aaee9a",
   "metadata": {},
   "outputs": [
    {
     "data": {
      "text/html": [
       "<div>\n",
       "<style scoped>\n",
       "    .dataframe tbody tr th:only-of-type {\n",
       "        vertical-align: middle;\n",
       "    }\n",
       "\n",
       "    .dataframe tbody tr th {\n",
       "        vertical-align: top;\n",
       "    }\n",
       "\n",
       "    .dataframe thead th {\n",
       "        text-align: right;\n",
       "    }\n",
       "</style>\n",
       "<table border=\"1\" class=\"dataframe\">\n",
       "  <thead>\n",
       "    <tr style=\"text-align: right;\">\n",
       "      <th></th>\n",
       "      <th>month_year</th>\n",
       "      <th>day</th>\n",
       "      <th>name</th>\n",
       "      <th>info</th>\n",
       "      <th>link</th>\n",
       "      <th>num_references</th>\n",
       "    </tr>\n",
       "  </thead>\n",
       "  <tbody>\n",
       "    <tr>\n",
       "      <th>90</th>\n",
       "      <td>June 2022</td>\n",
       "      <td>4</td>\n",
       "      <td>George Lamming</td>\n",
       "      <td>, 94, Barbadian novelist () and poet.</td>\n",
       "      <td>https://en.wikipedia.org/wiki/George_Lamming</td>\n",
       "      <td>42</td>\n",
       "    </tr>\n",
       "    <tr>\n",
       "      <th>61</th>\n",
       "      <td>June 2022</td>\n",
       "      <td>3</td>\n",
       "      <td>Alexander Madiebo</td>\n",
       "      <td>, 90, Nigerian soldier, chief of army staff of the Biafran Armed Forces.</td>\n",
       "      <td>https://en.wikipedia.org/wiki/Alexander_Madiebo</td>\n",
       "      <td>5</td>\n",
       "    </tr>\n",
       "    <tr>\n",
       "      <th>35</th>\n",
       "      <td>June 2022</td>\n",
       "      <td>1</td>\n",
       "      <td>Marion Barber III</td>\n",
       "      <td>, 38, American football player (Dallas Cowboys, Chicago Bears).</td>\n",
       "      <td>https://en.wikipedia.org/wiki/Marion_Barber_III</td>\n",
       "      <td>28</td>\n",
       "    </tr>\n",
       "    <tr>\n",
       "      <th>91</th>\n",
       "      <td>June 2022</td>\n",
       "      <td>5</td>\n",
       "      <td>Roger Swinfen Eady, 3rd Baron Swinfen</td>\n",
       "      <td>, 83, British politician and philanthropist, member of the House of Lords (since 1977).</td>\n",
       "      <td>https://en.wikipedia.org/wiki/Roger_Swinfen_Eady,_3rd_Baron_Swinfen</td>\n",
       "      <td>12</td>\n",
       "    </tr>\n",
       "    <tr>\n",
       "      <th>74</th>\n",
       "      <td>June 2022</td>\n",
       "      <td>4</td>\n",
       "      <td>Veryl Switzer</td>\n",
       "      <td>, 89, American football player (Green Bay Packers, Calgary Stampeders, Montreal Alouettes).</td>\n",
       "      <td>https://en.wikipedia.org/wiki/Veryl_Switzer</td>\n",
       "      <td>2</td>\n",
       "    </tr>\n",
       "  </tbody>\n",
       "</table>\n",
       "</div>"
      ],
      "text/plain": [
       "   month_year day                                   name  \\\n",
       "90  June 2022   4                         George Lamming   \n",
       "61  June 2022   3                      Alexander Madiebo   \n",
       "35  June 2022   1                      Marion Barber III   \n",
       "91  June 2022   5  Roger Swinfen Eady, 3rd Baron Swinfen   \n",
       "74  June 2022   4                          Veryl Switzer   \n",
       "\n",
       "                                                                                           info  \\\n",
       "90                                                        , 94, Barbadian novelist () and poet.   \n",
       "61                     , 90, Nigerian soldier, chief of army staff of the Biafran Armed Forces.   \n",
       "35                              , 38, American football player (Dallas Cowboys, Chicago Bears).   \n",
       "91      , 83, British politician and philanthropist, member of the House of Lords (since 1977).   \n",
       "74  , 89, American football player (Green Bay Packers, Calgary Stampeders, Montreal Alouettes).   \n",
       "\n",
       "                                                                   link  \\\n",
       "90                         https://en.wikipedia.org/wiki/George_Lamming   \n",
       "61                      https://en.wikipedia.org/wiki/Alexander_Madiebo   \n",
       "35                      https://en.wikipedia.org/wiki/Marion_Barber_III   \n",
       "91  https://en.wikipedia.org/wiki/Roger_Swinfen_Eady,_3rd_Baron_Swinfen   \n",
       "74                          https://en.wikipedia.org/wiki/Veryl_Switzer   \n",
       "\n",
       "   num_references  \n",
       "90             42  \n",
       "61              5  \n",
       "35             28  \n",
       "91             12  \n",
       "74              2  "
      ]
     },
     "execution_count": 12,
     "metadata": {},
     "output_type": "execute_result"
    },
    {
     "data": {
      "application/javascript": [
       "\n",
       "            setTimeout(function() {\n",
       "                var nbb_cell_id = 12;\n",
       "                var nbb_unformatted_code = \"# Checking a sample of the data\\ndf_June_2022.sample(5)\";\n",
       "                var nbb_formatted_code = \"# Checking a sample of the data\\ndf_June_2022.sample(5)\";\n",
       "                var nbb_cells = Jupyter.notebook.get_cells();\n",
       "                for (var i = 0; i < nbb_cells.length; ++i) {\n",
       "                    if (nbb_cells[i].input_prompt_number == nbb_cell_id) {\n",
       "                        if (nbb_cells[i].get_text() == nbb_unformatted_code) {\n",
       "                             nbb_cells[i].set_text(nbb_formatted_code);\n",
       "                        }\n",
       "                        break;\n",
       "                    }\n",
       "                }\n",
       "            }, 500);\n",
       "            "
      ],
      "text/plain": [
       "<IPython.core.display.Javascript object>"
      ]
     },
     "metadata": {},
     "output_type": "display_data"
    }
   ],
   "source": [
    "# Checking a sample of the data\n",
    "df_June_2022.sample(5)"
   ]
  },
  {
   "cell_type": "markdown",
   "id": "eaa1b5eb",
   "metadata": {},
   "source": [
    "### Combining Dataframes"
   ]
  },
  {
   "cell_type": "code",
   "execution_count": 13,
   "id": "b99bdf64",
   "metadata": {},
   "outputs": [
    {
     "data": {
      "text/html": [
       "<div>\n",
       "<style scoped>\n",
       "    .dataframe tbody tr th:only-of-type {\n",
       "        vertical-align: middle;\n",
       "    }\n",
       "\n",
       "    .dataframe tbody tr th {\n",
       "        vertical-align: top;\n",
       "    }\n",
       "\n",
       "    .dataframe thead th {\n",
       "        text-align: right;\n",
       "    }\n",
       "</style>\n",
       "<table border=\"1\" class=\"dataframe\">\n",
       "  <thead>\n",
       "    <tr style=\"text-align: right;\">\n",
       "      <th></th>\n",
       "      <th>month_year</th>\n",
       "      <th>day</th>\n",
       "      <th>name</th>\n",
       "      <th>info</th>\n",
       "      <th>link</th>\n",
       "      <th>num_references</th>\n",
       "    </tr>\n",
       "  </thead>\n",
       "  <tbody>\n",
       "    <tr>\n",
       "      <th>0</th>\n",
       "      <td>January 1994</td>\n",
       "      <td>1</td>\n",
       "      <td>William Chappell</td>\n",
       "      <td>, 86, British dancer, ballet designer and director.</td>\n",
       "      <td>https://en.wikipedia.org/wiki/William_Chappell_(dancer)</td>\n",
       "      <td>21</td>\n",
       "    </tr>\n",
       "    <tr>\n",
       "      <th>1</th>\n",
       "      <td>January 1994</td>\n",
       "      <td>1</td>\n",
       "      <td>Raymond Crotty</td>\n",
       "      <td>, 68, Irish economist, writer, and academic.</td>\n",
       "      <td>https://en.wikipedia.org/wiki/Raymond_Crotty</td>\n",
       "      <td>12</td>\n",
       "    </tr>\n",
       "  </tbody>\n",
       "</table>\n",
       "</div>"
      ],
      "text/plain": [
       "     month_year day              name  \\\n",
       "0  January 1994   1  William Chappell   \n",
       "1  January 1994   1    Raymond Crotty   \n",
       "\n",
       "                                                  info  \\\n",
       "0  , 86, British dancer, ballet designer and director.   \n",
       "1         , 68, Irish economist, writer, and academic.   \n",
       "\n",
       "                                                      link num_references  \n",
       "0  https://en.wikipedia.org/wiki/William_Chappell_(dancer)             21  \n",
       "1             https://en.wikipedia.org/wiki/Raymond_Crotty             12  "
      ]
     },
     "execution_count": 13,
     "metadata": {},
     "output_type": "execute_result"
    },
    {
     "data": {
      "application/javascript": [
       "\n",
       "            setTimeout(function() {\n",
       "                var nbb_cell_id = 13;\n",
       "                var nbb_unformatted_code = \"# Adding num_references column to 1994 through May 2022 data\\ndf_combined = pd.merge(df_94_to_22, df_reference_counts, how=\\\"left\\\", on=\\\"link\\\")\\n\\n# Checking first 2 rows of the data\\ndf_combined.head(2)\";\n",
       "                var nbb_formatted_code = \"# Adding num_references column to 1994 through May 2022 data\\ndf_combined = pd.merge(df_94_to_22, df_reference_counts, how=\\\"left\\\", on=\\\"link\\\")\\n\\n# Checking first 2 rows of the data\\ndf_combined.head(2)\";\n",
       "                var nbb_cells = Jupyter.notebook.get_cells();\n",
       "                for (var i = 0; i < nbb_cells.length; ++i) {\n",
       "                    if (nbb_cells[i].input_prompt_number == nbb_cell_id) {\n",
       "                        if (nbb_cells[i].get_text() == nbb_unformatted_code) {\n",
       "                             nbb_cells[i].set_text(nbb_formatted_code);\n",
       "                        }\n",
       "                        break;\n",
       "                    }\n",
       "                }\n",
       "            }, 500);\n",
       "            "
      ],
      "text/plain": [
       "<IPython.core.display.Javascript object>"
      ]
     },
     "metadata": {},
     "output_type": "display_data"
    }
   ],
   "source": [
    "# Adding num_references column to 1994 through May 2022 data\n",
    "df_combined = pd.merge(df_94_to_22, df_reference_counts, how=\"left\", on=\"link\")\n",
    "\n",
    "# Checking first 2 rows of the data\n",
    "df_combined.head(2)"
   ]
  },
  {
   "cell_type": "code",
   "execution_count": 18,
   "id": "1636493b",
   "metadata": {},
   "outputs": [
    {
     "name": "stdout",
     "output_type": "stream",
     "text": [
      "There are 134059 rows and 6 columns.\n"
     ]
    },
    {
     "data": {
      "text/html": [
       "<div>\n",
       "<style scoped>\n",
       "    .dataframe tbody tr th:only-of-type {\n",
       "        vertical-align: middle;\n",
       "    }\n",
       "\n",
       "    .dataframe tbody tr th {\n",
       "        vertical-align: top;\n",
       "    }\n",
       "\n",
       "    .dataframe thead th {\n",
       "        text-align: right;\n",
       "    }\n",
       "</style>\n",
       "<table border=\"1\" class=\"dataframe\">\n",
       "  <thead>\n",
       "    <tr style=\"text-align: right;\">\n",
       "      <th></th>\n",
       "      <th>month_year</th>\n",
       "      <th>day</th>\n",
       "      <th>name</th>\n",
       "      <th>info</th>\n",
       "      <th>link</th>\n",
       "      <th>num_references</th>\n",
       "    </tr>\n",
       "  </thead>\n",
       "  <tbody>\n",
       "    <tr>\n",
       "      <th>0</th>\n",
       "      <td>January 1994</td>\n",
       "      <td>1</td>\n",
       "      <td>William Chappell</td>\n",
       "      <td>, 86, British dancer, ballet designer and director.</td>\n",
       "      <td>https://en.wikipedia.org/wiki/William_Chappell_(dancer)</td>\n",
       "      <td>21</td>\n",
       "    </tr>\n",
       "    <tr>\n",
       "      <th>1</th>\n",
       "      <td>January 1994</td>\n",
       "      <td>1</td>\n",
       "      <td>Raymond Crotty</td>\n",
       "      <td>, 68, Irish economist, writer, and academic.</td>\n",
       "      <td>https://en.wikipedia.org/wiki/Raymond_Crotty</td>\n",
       "      <td>12</td>\n",
       "    </tr>\n",
       "  </tbody>\n",
       "</table>\n",
       "</div>"
      ],
      "text/plain": [
       "     month_year day              name  \\\n",
       "0  January 1994   1  William Chappell   \n",
       "1  January 1994   1    Raymond Crotty   \n",
       "\n",
       "                                                  info  \\\n",
       "0  , 86, British dancer, ballet designer and director.   \n",
       "1         , 68, Irish economist, writer, and academic.   \n",
       "\n",
       "                                                      link num_references  \n",
       "0  https://en.wikipedia.org/wiki/William_Chappell_(dancer)             21  \n",
       "1             https://en.wikipedia.org/wiki/Raymond_Crotty             12  "
      ]
     },
     "execution_count": 18,
     "metadata": {},
     "output_type": "execute_result"
    },
    {
     "data": {
      "application/javascript": [
       "\n",
       "            setTimeout(function() {\n",
       "                var nbb_cell_id = 18;\n",
       "                var nbb_unformatted_code = \"# Adding Juned 2022 data\\ndf_combined = pd.concat([df_combined, df_June_2022], ignore_index=True)\\n\\n# Making a working copy\\ndf = df_combined.copy()\\n\\n# Checking the shape\\nprint(f\\\"There are {df.shape[0]} rows and {df.shape[1]} columns.\\\")\\n\\n# Checking first 2 rows of the data\\ndf.head(2)\";\n",
       "                var nbb_formatted_code = \"# Adding Juned 2022 data\\ndf_combined = pd.concat([df_combined, df_June_2022], ignore_index=True)\\n\\n# Making a working copy\\ndf = df_combined.copy()\\n\\n# Checking the shape\\nprint(f\\\"There are {df.shape[0]} rows and {df.shape[1]} columns.\\\")\\n\\n# Checking first 2 rows of the data\\ndf.head(2)\";\n",
       "                var nbb_cells = Jupyter.notebook.get_cells();\n",
       "                for (var i = 0; i < nbb_cells.length; ++i) {\n",
       "                    if (nbb_cells[i].input_prompt_number == nbb_cell_id) {\n",
       "                        if (nbb_cells[i].get_text() == nbb_unformatted_code) {\n",
       "                             nbb_cells[i].set_text(nbb_formatted_code);\n",
       "                        }\n",
       "                        break;\n",
       "                    }\n",
       "                }\n",
       "            }, 500);\n",
       "            "
      ],
      "text/plain": [
       "<IPython.core.display.Javascript object>"
      ]
     },
     "metadata": {},
     "output_type": "display_data"
    }
   ],
   "source": [
    "# Adding Juned 2022 data\n",
    "df_combined = pd.concat([df_combined, df_June_2022], ignore_index=True)\n",
    "\n",
    "# Making a working copy\n",
    "df = df_combined.copy()\n",
    "\n",
    "# Checking the shape\n",
    "print(f\"There are {df.shape[0]} rows and {df.shape[1]} columns.\")\n",
    "\n",
    "# Checking first 2 rows of the data\n",
    "df.head(2)"
   ]
  },
  {
   "cell_type": "code",
   "execution_count": 16,
   "id": "ad3bbb95",
   "metadata": {},
   "outputs": [
    {
     "data": {
      "text/html": [
       "<div>\n",
       "<style scoped>\n",
       "    .dataframe tbody tr th:only-of-type {\n",
       "        vertical-align: middle;\n",
       "    }\n",
       "\n",
       "    .dataframe tbody tr th {\n",
       "        vertical-align: top;\n",
       "    }\n",
       "\n",
       "    .dataframe thead th {\n",
       "        text-align: right;\n",
       "    }\n",
       "</style>\n",
       "<table border=\"1\" class=\"dataframe\">\n",
       "  <thead>\n",
       "    <tr style=\"text-align: right;\">\n",
       "      <th></th>\n",
       "      <th>month_year</th>\n",
       "      <th>day</th>\n",
       "      <th>name</th>\n",
       "      <th>info</th>\n",
       "      <th>link</th>\n",
       "      <th>num_references</th>\n",
       "    </tr>\n",
       "  </thead>\n",
       "  <tbody>\n",
       "    <tr>\n",
       "      <th>133912</th>\n",
       "      <td>June 2022</td>\n",
       "      <td>9</td>\n",
       "      <td>Oleg Moliboga</td>\n",
       "      <td>, 69, Russian volleyball player, Olympic champion (1980) and coach.</td>\n",
       "      <td>https://en.wikipedia.org/wiki/Oleg_Moliboga</td>\n",
       "      <td>2</td>\n",
       "    </tr>\n",
       "    <tr>\n",
       "      <th>133913</th>\n",
       "      <td>June 2022</td>\n",
       "      <td>9</td>\n",
       "      <td>Zou Jing</td>\n",
       "      <td>, 86, Chinese engineer, member of the Chinese Academy of Engineering.</td>\n",
       "      <td>https://en.wikipedia.org/wiki/Zou_Jing_(engineer)</td>\n",
       "      <td>3</td>\n",
       "    </tr>\n",
       "  </tbody>\n",
       "</table>\n",
       "</div>"
      ],
      "text/plain": [
       "       month_year day           name  \\\n",
       "133912  June 2022   9  Oleg Moliboga   \n",
       "133913  June 2022   9       Zou Jing   \n",
       "\n",
       "                                                                         info  \\\n",
       "133912    , 69, Russian volleyball player, Olympic champion (1980) and coach.   \n",
       "133913  , 86, Chinese engineer, member of the Chinese Academy of Engineering.   \n",
       "\n",
       "                                                     link num_references  \n",
       "133912        https://en.wikipedia.org/wiki/Oleg_Moliboga              2  \n",
       "133913  https://en.wikipedia.org/wiki/Zou_Jing_(engineer)              3  "
      ]
     },
     "execution_count": 16,
     "metadata": {},
     "output_type": "execute_result"
    },
    {
     "data": {
      "application/javascript": [
       "\n",
       "            setTimeout(function() {\n",
       "                var nbb_cell_id = 16;\n",
       "                var nbb_unformatted_code = \"# Checking last 2 rows of the data\\ndf.tail(2)\";\n",
       "                var nbb_formatted_code = \"# Checking last 2 rows of the data\\ndf.tail(2)\";\n",
       "                var nbb_cells = Jupyter.notebook.get_cells();\n",
       "                for (var i = 0; i < nbb_cells.length; ++i) {\n",
       "                    if (nbb_cells[i].input_prompt_number == nbb_cell_id) {\n",
       "                        if (nbb_cells[i].get_text() == nbb_unformatted_code) {\n",
       "                             nbb_cells[i].set_text(nbb_formatted_code);\n",
       "                        }\n",
       "                        break;\n",
       "                    }\n",
       "                }\n",
       "            }, 500);\n",
       "            "
      ],
      "text/plain": [
       "<IPython.core.display.Javascript object>"
      ]
     },
     "metadata": {},
     "output_type": "display_data"
    }
   ],
   "source": [
    "# Checking last 2 rows of the data\n",
    "df.tail(2)"
   ]
  },
  {
   "cell_type": "code",
   "execution_count": 17,
   "id": "49526c9b",
   "metadata": {},
   "outputs": [
    {
     "data": {
      "text/html": [
       "<div>\n",
       "<style scoped>\n",
       "    .dataframe tbody tr th:only-of-type {\n",
       "        vertical-align: middle;\n",
       "    }\n",
       "\n",
       "    .dataframe tbody tr th {\n",
       "        vertical-align: top;\n",
       "    }\n",
       "\n",
       "    .dataframe thead th {\n",
       "        text-align: right;\n",
       "    }\n",
       "</style>\n",
       "<table border=\"1\" class=\"dataframe\">\n",
       "  <thead>\n",
       "    <tr style=\"text-align: right;\">\n",
       "      <th></th>\n",
       "      <th>month_year</th>\n",
       "      <th>day</th>\n",
       "      <th>name</th>\n",
       "      <th>info</th>\n",
       "      <th>link</th>\n",
       "      <th>num_references</th>\n",
       "    </tr>\n",
       "  </thead>\n",
       "  <tbody>\n",
       "    <tr>\n",
       "      <th>125570</th>\n",
       "      <td>July 2021</td>\n",
       "      <td>28</td>\n",
       "      <td>Dusty Hill</td>\n",
       "      <td>, 72, American Hall of Fame musician (ZZ Top) and songwriter (\"Tush\").</td>\n",
       "      <td>https://en.wikipedia.org/wiki/Dusty_Hill</td>\n",
       "      <td>32</td>\n",
       "    </tr>\n",
       "    <tr>\n",
       "      <th>10276</th>\n",
       "      <td>December 1997</td>\n",
       "      <td>14</td>\n",
       "      <td>Emily Cheney Neville</td>\n",
       "      <td>, 77, American author.</td>\n",
       "      <td>https://en.wikipedia.org/wiki/Emily_Cheney_Neville</td>\n",
       "      <td>3</td>\n",
       "    </tr>\n",
       "    <tr>\n",
       "      <th>118031</th>\n",
       "      <td>December 2020</td>\n",
       "      <td>3</td>\n",
       "      <td>Bill Holmes</td>\n",
       "      <td>, 94, English footballer (Blackburn Rovers, Bradford City).</td>\n",
       "      <td>https://en.wikipedia.org/wiki/Bill_Holmes_(footballer,_born_1926)</td>\n",
       "      <td>10</td>\n",
       "    </tr>\n",
       "    <tr>\n",
       "      <th>84051</th>\n",
       "      <td>July 2016</td>\n",
       "      <td>14</td>\n",
       "      <td>Mike Strahler</td>\n",
       "      <td>, 69, American baseball player (Los Angeles Dodgers, Detroit Tigers).</td>\n",
       "      <td>https://en.wikipedia.org/wiki/Mike_Strahler</td>\n",
       "      <td>1</td>\n",
       "    </tr>\n",
       "    <tr>\n",
       "      <th>93569</th>\n",
       "      <td>December 2017</td>\n",
       "      <td>7</td>\n",
       "      <td>Augie Herchenratter</td>\n",
       "      <td>, 98, Canadian ice hockey player.</td>\n",
       "      <td>https://en.wikipedia.org/wiki/Augie_Herchenratter</td>\n",
       "      <td>5</td>\n",
       "    </tr>\n",
       "  </tbody>\n",
       "</table>\n",
       "</div>"
      ],
      "text/plain": [
       "           month_year day                  name  \\\n",
       "125570      July 2021  28            Dusty Hill   \n",
       "10276   December 1997  14  Emily Cheney Neville   \n",
       "118031  December 2020   3           Bill Holmes   \n",
       "84051       July 2016  14         Mike Strahler   \n",
       "93569   December 2017   7   Augie Herchenratter   \n",
       "\n",
       "                                                                          info  \\\n",
       "125570  , 72, American Hall of Fame musician (ZZ Top) and songwriter (\"Tush\").   \n",
       "10276                                                   , 77, American author.   \n",
       "118031             , 94, English footballer (Blackburn Rovers, Bradford City).   \n",
       "84051    , 69, American baseball player (Los Angeles Dodgers, Detroit Tigers).   \n",
       "93569                                        , 98, Canadian ice hockey player.   \n",
       "\n",
       "                                                                     link  \\\n",
       "125570                           https://en.wikipedia.org/wiki/Dusty_Hill   \n",
       "10276                  https://en.wikipedia.org/wiki/Emily_Cheney_Neville   \n",
       "118031  https://en.wikipedia.org/wiki/Bill_Holmes_(footballer,_born_1926)   \n",
       "84051                         https://en.wikipedia.org/wiki/Mike_Strahler   \n",
       "93569                   https://en.wikipedia.org/wiki/Augie_Herchenratter   \n",
       "\n",
       "       num_references  \n",
       "125570             32  \n",
       "10276               3  \n",
       "118031             10  \n",
       "84051               1  \n",
       "93569               5  "
      ]
     },
     "execution_count": 17,
     "metadata": {},
     "output_type": "execute_result"
    },
    {
     "data": {
      "application/javascript": [
       "\n",
       "            setTimeout(function() {\n",
       "                var nbb_cell_id = 17;\n",
       "                var nbb_unformatted_code = \"# Checking a sample of the data\\ndf.sample(5)\";\n",
       "                var nbb_formatted_code = \"# Checking a sample of the data\\ndf.sample(5)\";\n",
       "                var nbb_cells = Jupyter.notebook.get_cells();\n",
       "                for (var i = 0; i < nbb_cells.length; ++i) {\n",
       "                    if (nbb_cells[i].input_prompt_number == nbb_cell_id) {\n",
       "                        if (nbb_cells[i].get_text() == nbb_unformatted_code) {\n",
       "                             nbb_cells[i].set_text(nbb_formatted_code);\n",
       "                        }\n",
       "                        break;\n",
       "                    }\n",
       "                }\n",
       "            }, 500);\n",
       "            "
      ],
      "text/plain": [
       "<IPython.core.display.Javascript object>"
      ]
     },
     "metadata": {},
     "output_type": "display_data"
    }
   ],
   "source": [
    "# Checking a sample of the data\n",
    "df.sample(5)"
   ]
  },
  {
   "cell_type": "code",
   "execution_count": null,
   "id": "ee9ddaf4",
   "metadata": {},
   "outputs": [],
   "source": []
  }
 ],
 "metadata": {
  "kernelspec": {
   "display_name": "Python 3 (ipykernel)",
   "language": "python",
   "name": "python3"
  },
  "language_info": {
   "codemirror_mode": {
    "name": "ipython",
    "version": 3
   },
   "file_extension": ".py",
   "mimetype": "text/x-python",
   "name": "python",
   "nbconvert_exporter": "python",
   "pygments_lexer": "ipython3",
   "version": "3.9.12"
  }
 },
 "nbformat": 4,
 "nbformat_minor": 5
}
