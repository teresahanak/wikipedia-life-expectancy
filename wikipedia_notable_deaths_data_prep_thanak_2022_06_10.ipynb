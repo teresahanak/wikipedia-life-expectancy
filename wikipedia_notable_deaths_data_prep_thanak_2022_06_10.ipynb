{
 "cells": [
  {
   "cell_type": "markdown",
   "id": "dd7cb801",
   "metadata": {},
   "source": [
    "# Wikipedia Notable Deaths\n",
    "\n",
    "## Context\n",
    "\n",
    "The...\n",
    "\n",
    "## Objective\n",
    "\n",
    "The...\n",
    "\n",
    "## Data Dictionary\n",
    "Variable: Description"
   ]
  },
  {
   "cell_type": "markdown",
   "id": "46793139",
   "metadata": {},
   "source": [
    "### Data Collection\n",
    "Scraped on 6/9/22 with scrapy.\n",
    "\n",
    "Main site: https://en.wikipedia.org/wiki/Lists_of_deaths_by_year\n",
    "Start_url: https://en.wikipedia.org/wiki/Deaths_in_January_1994\n",
    "paginating through May, 2022 successfully.\n",
    "Reference count scraped separately,due to pagination, to maintain original order in first dataset.\n",
    "June, 20222 as the current month had inconsistent formatting and was scraped separately. \n",
    "~13,000 missing entries for reference count.\n",
    "\n",
    "6/10/22 set out to id links with missing reference count to rescrape."
   ]
  },
  {
   "cell_type": "markdown",
   "id": "edf05ef2",
   "metadata": {},
   "source": [
    "## Importing necessary libraries"
   ]
  },
  {
   "cell_type": "code",
   "execution_count": 1,
   "id": "eb55736e",
   "metadata": {},
   "outputs": [],
   "source": [
    "# To limit number of threads in numpy and thereby prevent known dataleak associated with KMeans\n",
    "# Note:  this cell must be run BEFORE installing numpy to have desired effect\n",
    "import os\n",
    "\n",
    "os.environ[\"OMP_NUM_THREADS\"] = \"1\""
   ]
  },
  {
   "cell_type": "code",
   "execution_count": 2,
   "id": "b37839f2",
   "metadata": {},
   "outputs": [
    {
     "data": {
      "application/javascript": [
       "\n",
       "            setTimeout(function() {\n",
       "                var nbb_cell_id = 2;\n",
       "                var nbb_unformatted_code = \"# To structure code automatically\\n%load_ext nb_black\\n\\n# To import sqlite databases\\nimport sqlite3 as sql\\n\\n# To help with reading and manipulating data\\nimport pandas as pd\\nimport numpy as np\\n\\n# To help with data visualization\\nimport matplotlib.pyplot as plt\\nimport seaborn as sns\\nfrom sklearn.manifold import TSNE\\nfrom sklearn.decomposition import PCA\\n\\n# To be used for data scaling\\nfrom sklearn.preprocessing import StandardScaler\\n\\n# To compute distances\\nfrom scipy.spatial.distance import cdist, pdist\\n\\n# To define maximum number of columns to be displayed in a dataframe\\npd.set_option(\\\"display.max_columns\\\", None)\\n# To define the maximum number of rows to be displayed in a dataframe\\npd.set_option(\\\"display.max_rows\\\", 200)\\n\\n# To perform k-means clustering and compute silhouette scores\\nfrom sklearn.cluster import KMeans\\nfrom sklearn.metrics import silhouette_score\\n\\n# To visualize the elbow curve and silhouette scores\\nfrom yellowbrick.cluster import KElbowVisualizer, SilhouetteVisualizer\\nfrom yellowbrick.style.palettes import PALETTES\\n\\n# To perform hierarchical clustering, compute cophenetic correlation, and create dendrograms\\nfrom sklearn.cluster import AgglomerativeClustering\\nfrom scipy.cluster.hierarchy import dendrogram, linkage, cophenet\\n\\n# To supress scientific notations for a dataframe\\npd.set_option(\\\"display.float_format\\\", lambda x: \\\"%.3f\\\" % x)\\n\\n# To supress warnings\\nimport warnings\\n\\nwarnings.filterwarnings(\\\"ignore\\\")\\n\\n# To set some visualization attributes\\npd.set_option(\\\"max_colwidth\\\", 150)\\nsns.set_theme()\\nsns.set_palette(\\n    (\\n        \\\"midnightblue\\\",\\n        \\\"goldenrod\\\",\\n        \\\"maroon\\\",\\n        \\\"darkolivegreen\\\",\\n        \\\"cadetblue\\\",\\n        \\\"tab:purple\\\",\\n        \\\"yellowgreen\\\",\\n    )\\n)\\nplt.rc(\\\"font\\\", size=12)\\nplt.rc(\\\"axes\\\", titlesize=15)\\nplt.rc(\\\"axes\\\", labelsize=14)\\nplt.rc(\\\"xtick\\\", labelsize=13)\\nplt.rc(\\\"ytick\\\", labelsize=13)\\nplt.rc(\\\"legend\\\", fontsize=13)\\nplt.rc(\\\"legend\\\", fontsize=14)\\nplt.rc(\\\"figure\\\", titlesize=16)\";\n",
       "                var nbb_formatted_code = \"# To structure code automatically\\n%load_ext nb_black\\n\\n# To import sqlite databases\\nimport sqlite3 as sql\\n\\n# To help with reading and manipulating data\\nimport pandas as pd\\nimport numpy as np\\n\\n# To help with data visualization\\nimport matplotlib.pyplot as plt\\nimport seaborn as sns\\nfrom sklearn.manifold import TSNE\\nfrom sklearn.decomposition import PCA\\n\\n# To be used for data scaling\\nfrom sklearn.preprocessing import StandardScaler\\n\\n# To compute distances\\nfrom scipy.spatial.distance import cdist, pdist\\n\\n# To define maximum number of columns to be displayed in a dataframe\\npd.set_option(\\\"display.max_columns\\\", None)\\n# To define the maximum number of rows to be displayed in a dataframe\\npd.set_option(\\\"display.max_rows\\\", 200)\\n\\n# To perform k-means clustering and compute silhouette scores\\nfrom sklearn.cluster import KMeans\\nfrom sklearn.metrics import silhouette_score\\n\\n# To visualize the elbow curve and silhouette scores\\nfrom yellowbrick.cluster import KElbowVisualizer, SilhouetteVisualizer\\nfrom yellowbrick.style.palettes import PALETTES\\n\\n# To perform hierarchical clustering, compute cophenetic correlation, and create dendrograms\\nfrom sklearn.cluster import AgglomerativeClustering\\nfrom scipy.cluster.hierarchy import dendrogram, linkage, cophenet\\n\\n# To supress scientific notations for a dataframe\\npd.set_option(\\\"display.float_format\\\", lambda x: \\\"%.3f\\\" % x)\\n\\n# To supress warnings\\nimport warnings\\n\\nwarnings.filterwarnings(\\\"ignore\\\")\\n\\n# To set some visualization attributes\\npd.set_option(\\\"max_colwidth\\\", 150)\\nsns.set_theme()\\nsns.set_palette(\\n    (\\n        \\\"midnightblue\\\",\\n        \\\"goldenrod\\\",\\n        \\\"maroon\\\",\\n        \\\"darkolivegreen\\\",\\n        \\\"cadetblue\\\",\\n        \\\"tab:purple\\\",\\n        \\\"yellowgreen\\\",\\n    )\\n)\\nplt.rc(\\\"font\\\", size=12)\\nplt.rc(\\\"axes\\\", titlesize=15)\\nplt.rc(\\\"axes\\\", labelsize=14)\\nplt.rc(\\\"xtick\\\", labelsize=13)\\nplt.rc(\\\"ytick\\\", labelsize=13)\\nplt.rc(\\\"legend\\\", fontsize=13)\\nplt.rc(\\\"legend\\\", fontsize=14)\\nplt.rc(\\\"figure\\\", titlesize=16)\";\n",
       "                var nbb_cells = Jupyter.notebook.get_cells();\n",
       "                for (var i = 0; i < nbb_cells.length; ++i) {\n",
       "                    if (nbb_cells[i].input_prompt_number == nbb_cell_id) {\n",
       "                        if (nbb_cells[i].get_text() == nbb_unformatted_code) {\n",
       "                             nbb_cells[i].set_text(nbb_formatted_code);\n",
       "                        }\n",
       "                        break;\n",
       "                    }\n",
       "                }\n",
       "            }, 500);\n",
       "            "
      ],
      "text/plain": [
       "<IPython.core.display.Javascript object>"
      ]
     },
     "metadata": {},
     "output_type": "display_data"
    }
   ],
   "source": [
    "# To structure code automatically\n",
    "%load_ext nb_black\n",
    "\n",
    "# To import sqlite databases\n",
    "import sqlite3 as sql\n",
    "\n",
    "# To help with reading and manipulating data\n",
    "import pandas as pd\n",
    "import numpy as np\n",
    "\n",
    "# To help with data visualization\n",
    "import matplotlib.pyplot as plt\n",
    "import seaborn as sns\n",
    "from sklearn.manifold import TSNE\n",
    "from sklearn.decomposition import PCA\n",
    "\n",
    "# To be used for data scaling\n",
    "from sklearn.preprocessing import StandardScaler\n",
    "\n",
    "# To compute distances\n",
    "from scipy.spatial.distance import cdist, pdist\n",
    "\n",
    "# To define maximum number of columns to be displayed in a dataframe\n",
    "pd.set_option(\"display.max_columns\", None)\n",
    "# To define the maximum number of rows to be displayed in a dataframe\n",
    "pd.set_option(\"display.max_rows\", 200)\n",
    "\n",
    "# To perform k-means clustering and compute silhouette scores\n",
    "from sklearn.cluster import KMeans\n",
    "from sklearn.metrics import silhouette_score\n",
    "\n",
    "# To visualize the elbow curve and silhouette scores\n",
    "from yellowbrick.cluster import KElbowVisualizer, SilhouetteVisualizer\n",
    "from yellowbrick.style.palettes import PALETTES\n",
    "\n",
    "# To perform hierarchical clustering, compute cophenetic correlation, and create dendrograms\n",
    "from sklearn.cluster import AgglomerativeClustering\n",
    "from scipy.cluster.hierarchy import dendrogram, linkage, cophenet\n",
    "\n",
    "# To supress scientific notations for a dataframe\n",
    "pd.set_option(\"display.float_format\", lambda x: \"%.3f\" % x)\n",
    "\n",
    "# To supress warnings\n",
    "import warnings\n",
    "\n",
    "warnings.filterwarnings(\"ignore\")\n",
    "\n",
    "# To set some visualization attributes\n",
    "pd.set_option(\"max_colwidth\", 150)\n",
    "sns.set_theme()\n",
    "sns.set_palette(\n",
    "    (\n",
    "        \"midnightblue\",\n",
    "        \"goldenrod\",\n",
    "        \"maroon\",\n",
    "        \"darkolivegreen\",\n",
    "        \"cadetblue\",\n",
    "        \"tab:purple\",\n",
    "        \"yellowgreen\",\n",
    "    )\n",
    ")\n",
    "plt.rc(\"font\", size=12)\n",
    "plt.rc(\"axes\", titlesize=15)\n",
    "plt.rc(\"axes\", labelsize=14)\n",
    "plt.rc(\"xtick\", labelsize=13)\n",
    "plt.rc(\"ytick\", labelsize=13)\n",
    "plt.rc(\"legend\", fontsize=13)\n",
    "plt.rc(\"legend\", fontsize=14)\n",
    "plt.rc(\"figure\", titlesize=16)"
   ]
  },
  {
   "cell_type": "markdown",
   "id": "94bbf70e",
   "metadata": {},
   "source": [
    "## Data Overview"
   ]
  },
  {
   "cell_type": "markdown",
   "id": "10750cee",
   "metadata": {},
   "source": [
    "### Reading, sampling, and checking data shape"
   ]
  },
  {
   "cell_type": "markdown",
   "id": "cc5a72cb",
   "metadata": {},
   "source": [
    "### January 1994 through May 2022 Data (without reference counts)"
   ]
  },
  {
   "cell_type": "code",
   "execution_count": 3,
   "id": "211f8c2b",
   "metadata": {},
   "outputs": [
    {
     "name": "stdout",
     "output_type": "stream",
     "text": [
      "There are 133769 rows and 5 columns.\n"
     ]
    },
    {
     "data": {
      "text/html": [
       "<div>\n",
       "<style scoped>\n",
       "    .dataframe tbody tr th:only-of-type {\n",
       "        vertical-align: middle;\n",
       "    }\n",
       "\n",
       "    .dataframe tbody tr th {\n",
       "        vertical-align: top;\n",
       "    }\n",
       "\n",
       "    .dataframe thead th {\n",
       "        text-align: right;\n",
       "    }\n",
       "</style>\n",
       "<table border=\"1\" class=\"dataframe\">\n",
       "  <thead>\n",
       "    <tr style=\"text-align: right;\">\n",
       "      <th></th>\n",
       "      <th>month_year</th>\n",
       "      <th>day</th>\n",
       "      <th>name</th>\n",
       "      <th>info</th>\n",
       "      <th>link</th>\n",
       "    </tr>\n",
       "  </thead>\n",
       "  <tbody>\n",
       "    <tr>\n",
       "      <th>0</th>\n",
       "      <td>January 1994</td>\n",
       "      <td>1</td>\n",
       "      <td>William Chappell</td>\n",
       "      <td>, 86, British dancer, ballet designer and director.</td>\n",
       "      <td>https://en.wikipedia.org/wiki/William_Chappell_(dancer)</td>\n",
       "    </tr>\n",
       "    <tr>\n",
       "      <th>1</th>\n",
       "      <td>January 1994</td>\n",
       "      <td>1</td>\n",
       "      <td>Raymond Crotty</td>\n",
       "      <td>, 68, Irish economist, writer, and academic.</td>\n",
       "      <td>https://en.wikipedia.org/wiki/Raymond_Crotty</td>\n",
       "    </tr>\n",
       "  </tbody>\n",
       "</table>\n",
       "</div>"
      ],
      "text/plain": [
       "     month_year day              name  \\\n",
       "0  January 1994   1  William Chappell   \n",
       "1  January 1994   1    Raymond Crotty   \n",
       "\n",
       "                                                  info  \\\n",
       "0  , 86, British dancer, ballet designer and director.   \n",
       "1         , 68, Irish economist, writer, and academic.   \n",
       "\n",
       "                                                      link  \n",
       "0  https://en.wikipedia.org/wiki/William_Chappell_(dancer)  \n",
       "1             https://en.wikipedia.org/wiki/Raymond_Crotty  "
      ]
     },
     "execution_count": 3,
     "metadata": {},
     "output_type": "execute_result"
    },
    {
     "data": {
      "application/javascript": [
       "\n",
       "            setTimeout(function() {\n",
       "                var nbb_cell_id = 3;\n",
       "                var nbb_unformatted_code = \"# Reading the wp_deaths_94_to_22 dataset from sql db and table\\nconn = sql.connect(\\\"wp_deaths_94_to_22.db\\\")\\nraw_94_to_22 = pd.read_sql(\\\"SELECT * FROM wp_deaths_94_to_22\\\", conn)\\n\\n# Making a working copy\\ndf_94_to_22 = raw_94_to_22.copy()\\n\\n# Checking the shape\\nprint(f\\\"There are {df_94_to_22.shape[0]} rows and {df_94_to_22.shape[1]} columns.\\\")\\n\\n# Checking first 2 rows of the data\\ndf_94_to_22.head(2)\";\n",
       "                var nbb_formatted_code = \"# Reading the wp_deaths_94_to_22 dataset from sql db and table\\nconn = sql.connect(\\\"wp_deaths_94_to_22.db\\\")\\nraw_94_to_22 = pd.read_sql(\\\"SELECT * FROM wp_deaths_94_to_22\\\", conn)\\n\\n# Making a working copy\\ndf_94_to_22 = raw_94_to_22.copy()\\n\\n# Checking the shape\\nprint(f\\\"There are {df_94_to_22.shape[0]} rows and {df_94_to_22.shape[1]} columns.\\\")\\n\\n# Checking first 2 rows of the data\\ndf_94_to_22.head(2)\";\n",
       "                var nbb_cells = Jupyter.notebook.get_cells();\n",
       "                for (var i = 0; i < nbb_cells.length; ++i) {\n",
       "                    if (nbb_cells[i].input_prompt_number == nbb_cell_id) {\n",
       "                        if (nbb_cells[i].get_text() == nbb_unformatted_code) {\n",
       "                             nbb_cells[i].set_text(nbb_formatted_code);\n",
       "                        }\n",
       "                        break;\n",
       "                    }\n",
       "                }\n",
       "            }, 500);\n",
       "            "
      ],
      "text/plain": [
       "<IPython.core.display.Javascript object>"
      ]
     },
     "metadata": {},
     "output_type": "display_data"
    }
   ],
   "source": [
    "# Reading the wp_deaths_94_to_22 dataset from sql db and table\n",
    "conn = sql.connect(\"wp_deaths_94_to_22.db\")\n",
    "raw_94_to_22 = pd.read_sql(\"SELECT * FROM wp_deaths_94_to_22\", conn)\n",
    "\n",
    "# Making a working copy\n",
    "df_94_to_22 = raw_94_to_22.copy()\n",
    "\n",
    "# Checking the shape\n",
    "print(f\"There are {df_94_to_22.shape[0]} rows and {df_94_to_22.shape[1]} columns.\")\n",
    "\n",
    "# Checking first 2 rows of the data\n",
    "df_94_to_22.head(2)"
   ]
  },
  {
   "cell_type": "code",
   "execution_count": 4,
   "id": "e0bf083a",
   "metadata": {},
   "outputs": [
    {
     "data": {
      "text/html": [
       "<div>\n",
       "<style scoped>\n",
       "    .dataframe tbody tr th:only-of-type {\n",
       "        vertical-align: middle;\n",
       "    }\n",
       "\n",
       "    .dataframe tbody tr th {\n",
       "        vertical-align: top;\n",
       "    }\n",
       "\n",
       "    .dataframe thead th {\n",
       "        text-align: right;\n",
       "    }\n",
       "</style>\n",
       "<table border=\"1\" class=\"dataframe\">\n",
       "  <thead>\n",
       "    <tr style=\"text-align: right;\">\n",
       "      <th></th>\n",
       "      <th>month_year</th>\n",
       "      <th>day</th>\n",
       "      <th>name</th>\n",
       "      <th>info</th>\n",
       "      <th>link</th>\n",
       "    </tr>\n",
       "  </thead>\n",
       "  <tbody>\n",
       "    <tr>\n",
       "      <th>133767</th>\n",
       "      <td>May 2022</td>\n",
       "      <td>31</td>\n",
       "      <td>Dave Smith</td>\n",
       "      <td>, 72, American sound engineer, founder of Sequential.</td>\n",
       "      <td>https://en.wikipedia.org/wiki/Dave_Smith_(engineer)</td>\n",
       "    </tr>\n",
       "    <tr>\n",
       "      <th>133768</th>\n",
       "      <td>May 2022</td>\n",
       "      <td>31</td>\n",
       "      <td>Wang Zherong</td>\n",
       "      <td>, 86, Chinese tank designer, member of the Chinese Academy of Engineering.</td>\n",
       "      <td>https://en.wikipedia.org/wiki/Wang_Zherong</td>\n",
       "    </tr>\n",
       "  </tbody>\n",
       "</table>\n",
       "</div>"
      ],
      "text/plain": [
       "       month_year day          name  \\\n",
       "133767   May 2022  31    Dave Smith   \n",
       "133768   May 2022  31  Wang Zherong   \n",
       "\n",
       "                                                                              info  \\\n",
       "133767                       , 72, American sound engineer, founder of Sequential.   \n",
       "133768  , 86, Chinese tank designer, member of the Chinese Academy of Engineering.   \n",
       "\n",
       "                                                       link  \n",
       "133767  https://en.wikipedia.org/wiki/Dave_Smith_(engineer)  \n",
       "133768           https://en.wikipedia.org/wiki/Wang_Zherong  "
      ]
     },
     "execution_count": 4,
     "metadata": {},
     "output_type": "execute_result"
    },
    {
     "data": {
      "application/javascript": [
       "\n",
       "            setTimeout(function() {\n",
       "                var nbb_cell_id = 4;\n",
       "                var nbb_unformatted_code = \"# Checking last 2 rows of the data\\ndf_94_to_22.tail(2)\";\n",
       "                var nbb_formatted_code = \"# Checking last 2 rows of the data\\ndf_94_to_22.tail(2)\";\n",
       "                var nbb_cells = Jupyter.notebook.get_cells();\n",
       "                for (var i = 0; i < nbb_cells.length; ++i) {\n",
       "                    if (nbb_cells[i].input_prompt_number == nbb_cell_id) {\n",
       "                        if (nbb_cells[i].get_text() == nbb_unformatted_code) {\n",
       "                             nbb_cells[i].set_text(nbb_formatted_code);\n",
       "                        }\n",
       "                        break;\n",
       "                    }\n",
       "                }\n",
       "            }, 500);\n",
       "            "
      ],
      "text/plain": [
       "<IPython.core.display.Javascript object>"
      ]
     },
     "metadata": {},
     "output_type": "display_data"
    }
   ],
   "source": [
    "# Checking last 2 rows of the data\n",
    "df_94_to_22.tail(2)"
   ]
  },
  {
   "cell_type": "code",
   "execution_count": 5,
   "id": "9dafebd7",
   "metadata": {},
   "outputs": [
    {
     "data": {
      "text/html": [
       "<div>\n",
       "<style scoped>\n",
       "    .dataframe tbody tr th:only-of-type {\n",
       "        vertical-align: middle;\n",
       "    }\n",
       "\n",
       "    .dataframe tbody tr th {\n",
       "        vertical-align: top;\n",
       "    }\n",
       "\n",
       "    .dataframe thead th {\n",
       "        text-align: right;\n",
       "    }\n",
       "</style>\n",
       "<table border=\"1\" class=\"dataframe\">\n",
       "  <thead>\n",
       "    <tr style=\"text-align: right;\">\n",
       "      <th></th>\n",
       "      <th>month_year</th>\n",
       "      <th>day</th>\n",
       "      <th>name</th>\n",
       "      <th>info</th>\n",
       "      <th>link</th>\n",
       "    </tr>\n",
       "  </thead>\n",
       "  <tbody>\n",
       "    <tr>\n",
       "      <th>32216</th>\n",
       "      <td>November 2006</td>\n",
       "      <td>24</td>\n",
       "      <td>Walter Booker</td>\n",
       "      <td>, 72, American jazz bassist (Cannonball Adderley Quintet), cardiac arrest.</td>\n",
       "      <td>https://en.wikipedia.org/wiki/Walter_Booker</td>\n",
       "    </tr>\n",
       "    <tr>\n",
       "      <th>30928</th>\n",
       "      <td>June 2006</td>\n",
       "      <td>18</td>\n",
       "      <td>Chris and Cru Kahui</td>\n",
       "      <td>, 3-months, New Zealand child homicide victims.</td>\n",
       "      <td>https://en.wikipedia.org/wiki/Chris_and_Cru_Kahui</td>\n",
       "    </tr>\n",
       "    <tr>\n",
       "      <th>13851</th>\n",
       "      <td>June 1999</td>\n",
       "      <td>7</td>\n",
       "      <td>Joseph Vandernoot</td>\n",
       "      <td>, 84, British conductor.</td>\n",
       "      <td>https://en.wikipedia.org/wiki/Joseph_Vandernoot</td>\n",
       "    </tr>\n",
       "    <tr>\n",
       "      <th>84110</th>\n",
       "      <td>July 2016</td>\n",
       "      <td>18</td>\n",
       "      <td>Mubarak Begum</td>\n",
       "      <td>, 80, Indian playback singer.</td>\n",
       "      <td>https://en.wikipedia.org/wiki/Mubarak_Begum</td>\n",
       "    </tr>\n",
       "    <tr>\n",
       "      <th>72205</th>\n",
       "      <td>October 2014</td>\n",
       "      <td>19</td>\n",
       "      <td>John Holt</td>\n",
       "      <td>, 67, Jamaican singer (The Paragons) and songwriter (\"The Tide Is High\"), cancer.</td>\n",
       "      <td>https://en.wikipedia.org/wiki/John_Holt_(singer)</td>\n",
       "    </tr>\n",
       "  </tbody>\n",
       "</table>\n",
       "</div>"
      ],
      "text/plain": [
       "          month_year day                 name  \\\n",
       "32216  November 2006  24        Walter Booker   \n",
       "30928      June 2006  18  Chris and Cru Kahui   \n",
       "13851      June 1999   7    Joseph Vandernoot   \n",
       "84110      July 2016  18        Mubarak Begum   \n",
       "72205   October 2014  19            John Holt   \n",
       "\n",
       "                                                                                    info  \\\n",
       "32216         , 72, American jazz bassist (Cannonball Adderley Quintet), cardiac arrest.   \n",
       "30928                                    , 3-months, New Zealand child homicide victims.   \n",
       "13851                                                           , 84, British conductor.   \n",
       "84110                                                      , 80, Indian playback singer.   \n",
       "72205  , 67, Jamaican singer (The Paragons) and songwriter (\"The Tide Is High\"), cancer.   \n",
       "\n",
       "                                                    link  \n",
       "32216        https://en.wikipedia.org/wiki/Walter_Booker  \n",
       "30928  https://en.wikipedia.org/wiki/Chris_and_Cru_Kahui  \n",
       "13851    https://en.wikipedia.org/wiki/Joseph_Vandernoot  \n",
       "84110        https://en.wikipedia.org/wiki/Mubarak_Begum  \n",
       "72205   https://en.wikipedia.org/wiki/John_Holt_(singer)  "
      ]
     },
     "execution_count": 5,
     "metadata": {},
     "output_type": "execute_result"
    },
    {
     "data": {
      "application/javascript": [
       "\n",
       "            setTimeout(function() {\n",
       "                var nbb_cell_id = 5;\n",
       "                var nbb_unformatted_code = \"# Checking a sample of the data\\ndf_94_to_22.sample(5)\";\n",
       "                var nbb_formatted_code = \"# Checking a sample of the data\\ndf_94_to_22.sample(5)\";\n",
       "                var nbb_cells = Jupyter.notebook.get_cells();\n",
       "                for (var i = 0; i < nbb_cells.length; ++i) {\n",
       "                    if (nbb_cells[i].input_prompt_number == nbb_cell_id) {\n",
       "                        if (nbb_cells[i].get_text() == nbb_unformatted_code) {\n",
       "                             nbb_cells[i].set_text(nbb_formatted_code);\n",
       "                        }\n",
       "                        break;\n",
       "                    }\n",
       "                }\n",
       "            }, 500);\n",
       "            "
      ],
      "text/plain": [
       "<IPython.core.display.Javascript object>"
      ]
     },
     "metadata": {},
     "output_type": "display_data"
    }
   ],
   "source": [
    "# Checking a sample of the data\n",
    "df_94_to_22.sample(5)"
   ]
  },
  {
   "cell_type": "markdown",
   "id": "00e2fed1",
   "metadata": {},
   "source": [
    "#### Observations:\n",
    "- There are 133,769 rows and 5 columns in the data from January, 1994 through May, 2022.\n",
    "- The number of references was scraped separately."
   ]
  },
  {
   "cell_type": "markdown",
   "id": "2df92079",
   "metadata": {},
   "source": [
    "### January 1994 through May 2022 Reference Count Data"
   ]
  },
  {
   "cell_type": "code",
   "execution_count": 6,
   "id": "2e312d95",
   "metadata": {},
   "outputs": [
    {
     "name": "stdout",
     "output_type": "stream",
     "text": [
      "There are 120368 rows and 2 columns.\n"
     ]
    },
    {
     "data": {
      "text/html": [
       "<div>\n",
       "<style scoped>\n",
       "    .dataframe tbody tr th:only-of-type {\n",
       "        vertical-align: middle;\n",
       "    }\n",
       "\n",
       "    .dataframe tbody tr th {\n",
       "        vertical-align: top;\n",
       "    }\n",
       "\n",
       "    .dataframe thead th {\n",
       "        text-align: right;\n",
       "    }\n",
       "</style>\n",
       "<table border=\"1\" class=\"dataframe\">\n",
       "  <thead>\n",
       "    <tr style=\"text-align: right;\">\n",
       "      <th></th>\n",
       "      <th>link</th>\n",
       "      <th>num_references</th>\n",
       "    </tr>\n",
       "  </thead>\n",
       "  <tbody>\n",
       "    <tr>\n",
       "      <th>0</th>\n",
       "      <td>https://en.wikipedia.org/wiki/Lys_Gauty</td>\n",
       "      <td>5</td>\n",
       "    </tr>\n",
       "    <tr>\n",
       "      <th>1</th>\n",
       "      <td>https://en.wikipedia.org/wiki/William_Chappell_(dancer)</td>\n",
       "      <td>21</td>\n",
       "    </tr>\n",
       "  </tbody>\n",
       "</table>\n",
       "</div>"
      ],
      "text/plain": [
       "                                                      link num_references\n",
       "0                  https://en.wikipedia.org/wiki/Lys_Gauty              5\n",
       "1  https://en.wikipedia.org/wiki/William_Chappell_(dancer)             21"
      ]
     },
     "execution_count": 6,
     "metadata": {},
     "output_type": "execute_result"
    },
    {
     "data": {
      "application/javascript": [
       "\n",
       "            setTimeout(function() {\n",
       "                var nbb_cell_id = 6;\n",
       "                var nbb_unformatted_code = \"# Reading the wp_reference_counts_2 dataset from sql db and table\\nconn = sql.connect(\\\"wp_reference_counts_2.db\\\")\\nraw_reference_counts = pd.read_sql(\\\"SELECT * FROM wp_reference_counts_2\\\", conn)\\n\\n# Making a working copy\\ndf_reference_counts = raw_reference_counts.copy()\\n\\n# Checking the shape\\nprint(\\n    f\\\"There are {df_reference_counts.shape[0]} rows and {df_reference_counts.shape[1]} columns.\\\"\\n)\\n\\n# Checking first 2 rows of the data\\ndf_reference_counts.head(2)\";\n",
       "                var nbb_formatted_code = \"# Reading the wp_reference_counts_2 dataset from sql db and table\\nconn = sql.connect(\\\"wp_reference_counts_2.db\\\")\\nraw_reference_counts = pd.read_sql(\\\"SELECT * FROM wp_reference_counts_2\\\", conn)\\n\\n# Making a working copy\\ndf_reference_counts = raw_reference_counts.copy()\\n\\n# Checking the shape\\nprint(\\n    f\\\"There are {df_reference_counts.shape[0]} rows and {df_reference_counts.shape[1]} columns.\\\"\\n)\\n\\n# Checking first 2 rows of the data\\ndf_reference_counts.head(2)\";\n",
       "                var nbb_cells = Jupyter.notebook.get_cells();\n",
       "                for (var i = 0; i < nbb_cells.length; ++i) {\n",
       "                    if (nbb_cells[i].input_prompt_number == nbb_cell_id) {\n",
       "                        if (nbb_cells[i].get_text() == nbb_unformatted_code) {\n",
       "                             nbb_cells[i].set_text(nbb_formatted_code);\n",
       "                        }\n",
       "                        break;\n",
       "                    }\n",
       "                }\n",
       "            }, 500);\n",
       "            "
      ],
      "text/plain": [
       "<IPython.core.display.Javascript object>"
      ]
     },
     "metadata": {},
     "output_type": "display_data"
    }
   ],
   "source": [
    "# Reading the wp_reference_counts_2 dataset from sql db and table\n",
    "conn = sql.connect(\"wp_reference_counts_2.db\")\n",
    "raw_reference_counts = pd.read_sql(\"SELECT * FROM wp_reference_counts_2\", conn)\n",
    "\n",
    "# Making a working copy\n",
    "df_reference_counts = raw_reference_counts.copy()\n",
    "\n",
    "# Checking the shape\n",
    "print(\n",
    "    f\"There are {df_reference_counts.shape[0]} rows and {df_reference_counts.shape[1]} columns.\"\n",
    ")\n",
    "\n",
    "# Checking first 2 rows of the data\n",
    "df_reference_counts.head(2)"
   ]
  },
  {
   "cell_type": "code",
   "execution_count": 7,
   "id": "0c5f5ee3",
   "metadata": {},
   "outputs": [
    {
     "data": {
      "text/html": [
       "<div>\n",
       "<style scoped>\n",
       "    .dataframe tbody tr th:only-of-type {\n",
       "        vertical-align: middle;\n",
       "    }\n",
       "\n",
       "    .dataframe tbody tr th {\n",
       "        vertical-align: top;\n",
       "    }\n",
       "\n",
       "    .dataframe thead th {\n",
       "        text-align: right;\n",
       "    }\n",
       "</style>\n",
       "<table border=\"1\" class=\"dataframe\">\n",
       "  <thead>\n",
       "    <tr style=\"text-align: right;\">\n",
       "      <th></th>\n",
       "      <th>link</th>\n",
       "      <th>num_references</th>\n",
       "    </tr>\n",
       "  </thead>\n",
       "  <tbody>\n",
       "    <tr>\n",
       "      <th>120366</th>\n",
       "      <td>https://en.wikipedia.org/wiki/Shirley_Thomas_(USC_professor)</td>\n",
       "      <td>6</td>\n",
       "    </tr>\n",
       "    <tr>\n",
       "      <th>120367</th>\n",
       "      <td>https://en.wikipedia.org/wiki/James_Doohan</td>\n",
       "      <td>52</td>\n",
       "    </tr>\n",
       "  </tbody>\n",
       "</table>\n",
       "</div>"
      ],
      "text/plain": [
       "                                                                link  \\\n",
       "120366  https://en.wikipedia.org/wiki/Shirley_Thomas_(USC_professor)   \n",
       "120367                    https://en.wikipedia.org/wiki/James_Doohan   \n",
       "\n",
       "       num_references  \n",
       "120366              6  \n",
       "120367             52  "
      ]
     },
     "execution_count": 7,
     "metadata": {},
     "output_type": "execute_result"
    },
    {
     "data": {
      "application/javascript": [
       "\n",
       "            setTimeout(function() {\n",
       "                var nbb_cell_id = 7;\n",
       "                var nbb_unformatted_code = \"# Checking last 2 rows of the data\\ndf_reference_counts.tail(2)\";\n",
       "                var nbb_formatted_code = \"# Checking last 2 rows of the data\\ndf_reference_counts.tail(2)\";\n",
       "                var nbb_cells = Jupyter.notebook.get_cells();\n",
       "                for (var i = 0; i < nbb_cells.length; ++i) {\n",
       "                    if (nbb_cells[i].input_prompt_number == nbb_cell_id) {\n",
       "                        if (nbb_cells[i].get_text() == nbb_unformatted_code) {\n",
       "                             nbb_cells[i].set_text(nbb_formatted_code);\n",
       "                        }\n",
       "                        break;\n",
       "                    }\n",
       "                }\n",
       "            }, 500);\n",
       "            "
      ],
      "text/plain": [
       "<IPython.core.display.Javascript object>"
      ]
     },
     "metadata": {},
     "output_type": "display_data"
    }
   ],
   "source": [
    "# Checking last 2 rows of the data\n",
    "df_reference_counts.tail(2)"
   ]
  },
  {
   "cell_type": "code",
   "execution_count": 8,
   "id": "b3c08dbb",
   "metadata": {},
   "outputs": [
    {
     "data": {
      "text/html": [
       "<div>\n",
       "<style scoped>\n",
       "    .dataframe tbody tr th:only-of-type {\n",
       "        vertical-align: middle;\n",
       "    }\n",
       "\n",
       "    .dataframe tbody tr th {\n",
       "        vertical-align: top;\n",
       "    }\n",
       "\n",
       "    .dataframe thead th {\n",
       "        text-align: right;\n",
       "    }\n",
       "</style>\n",
       "<table border=\"1\" class=\"dataframe\">\n",
       "  <thead>\n",
       "    <tr style=\"text-align: right;\">\n",
       "      <th></th>\n",
       "      <th>link</th>\n",
       "      <th>num_references</th>\n",
       "    </tr>\n",
       "  </thead>\n",
       "  <tbody>\n",
       "    <tr>\n",
       "      <th>28815</th>\n",
       "      <td>https://en.wikipedia.org/wiki/Bruno_Galliker</td>\n",
       "      <td>5</td>\n",
       "    </tr>\n",
       "    <tr>\n",
       "      <th>90694</th>\n",
       "      <td>https://en.wikipedia.org/wiki/Ivor_G._Balding</td>\n",
       "      <td>5</td>\n",
       "    </tr>\n",
       "    <tr>\n",
       "      <th>65959</th>\n",
       "      <td>https://en.wikipedia.org/wiki/Roy_Bonisteel</td>\n",
       "      <td>9</td>\n",
       "    </tr>\n",
       "    <tr>\n",
       "      <th>33216</th>\n",
       "      <td>https://en.wikipedia.org/wiki/George_Clements</td>\n",
       "      <td>20</td>\n",
       "    </tr>\n",
       "    <tr>\n",
       "      <th>104370</th>\n",
       "      <td>https://en.wikipedia.org/wiki/Yank_Rachell</td>\n",
       "      <td>7</td>\n",
       "    </tr>\n",
       "  </tbody>\n",
       "</table>\n",
       "</div>"
      ],
      "text/plain": [
       "                                                 link num_references\n",
       "28815    https://en.wikipedia.org/wiki/Bruno_Galliker              5\n",
       "90694   https://en.wikipedia.org/wiki/Ivor_G._Balding              5\n",
       "65959     https://en.wikipedia.org/wiki/Roy_Bonisteel              9\n",
       "33216   https://en.wikipedia.org/wiki/George_Clements             20\n",
       "104370     https://en.wikipedia.org/wiki/Yank_Rachell              7"
      ]
     },
     "execution_count": 8,
     "metadata": {},
     "output_type": "execute_result"
    },
    {
     "data": {
      "application/javascript": [
       "\n",
       "            setTimeout(function() {\n",
       "                var nbb_cell_id = 8;\n",
       "                var nbb_unformatted_code = \"# Checking a sample of the data\\ndf_reference_counts.sample(5)\";\n",
       "                var nbb_formatted_code = \"# Checking a sample of the data\\ndf_reference_counts.sample(5)\";\n",
       "                var nbb_cells = Jupyter.notebook.get_cells();\n",
       "                for (var i = 0; i < nbb_cells.length; ++i) {\n",
       "                    if (nbb_cells[i].input_prompt_number == nbb_cell_id) {\n",
       "                        if (nbb_cells[i].get_text() == nbb_unformatted_code) {\n",
       "                             nbb_cells[i].set_text(nbb_formatted_code);\n",
       "                        }\n",
       "                        break;\n",
       "                    }\n",
       "                }\n",
       "            }, 500);\n",
       "            "
      ],
      "text/plain": [
       "<IPython.core.display.Javascript object>"
      ]
     },
     "metadata": {},
     "output_type": "display_data"
    }
   ],
   "source": [
    "# Checking a sample of the data\n",
    "df_reference_counts.sample(5)"
   ]
  },
  {
   "cell_type": "markdown",
   "id": "4fb4de75",
   "metadata": {},
   "source": [
    "#### Observations:\n",
    "- Here we see that there are ~13,000 fewer rows for the reference data, indicating some pages were not successfully scraped to obtain the number of references for the individual.\n",
    "- After combining the three dataframes, we can reattempt a more brute force scraping of those pages, in order to obtain the missing information."
   ]
  },
  {
   "cell_type": "markdown",
   "id": "a0f66eee",
   "metadata": {},
   "source": [
    "### June 2022 Data"
   ]
  },
  {
   "cell_type": "code",
   "execution_count": 9,
   "id": "49f3cad8",
   "metadata": {},
   "outputs": [
    {
     "name": "stdout",
     "output_type": "stream",
     "text": [
      "There are 145 rows and 6 columns.\n"
     ]
    },
    {
     "data": {
      "text/html": [
       "<div>\n",
       "<style scoped>\n",
       "    .dataframe tbody tr th:only-of-type {\n",
       "        vertical-align: middle;\n",
       "    }\n",
       "\n",
       "    .dataframe tbody tr th {\n",
       "        vertical-align: top;\n",
       "    }\n",
       "\n",
       "    .dataframe thead th {\n",
       "        text-align: right;\n",
       "    }\n",
       "</style>\n",
       "<table border=\"1\" class=\"dataframe\">\n",
       "  <thead>\n",
       "    <tr style=\"text-align: right;\">\n",
       "      <th></th>\n",
       "      <th>month_year</th>\n",
       "      <th>day</th>\n",
       "      <th>name</th>\n",
       "      <th>info</th>\n",
       "      <th>link</th>\n",
       "      <th>num_references</th>\n",
       "    </tr>\n",
       "  </thead>\n",
       "  <tbody>\n",
       "    <tr>\n",
       "      <th>0</th>\n",
       "      <td>June 2022</td>\n",
       "      <td>8</td>\n",
       "      <td>Mladen Frančić</td>\n",
       "      <td>, 67, Croatian football player and manager (Vrbovec, Podravina, Al-Watani Club).</td>\n",
       "      <td>https://en.wikipedia.org/wiki/Mladen_Fran%C4%8Di%C4%87</td>\n",
       "      <td>1</td>\n",
       "    </tr>\n",
       "    <tr>\n",
       "      <th>1</th>\n",
       "      <td>June 2022</td>\n",
       "      <td>6</td>\n",
       "      <td>Valery Ryumin</td>\n",
       "      <td>, 82, Russian cosmonaut (Soyuz 25, Soyuz 32, Soyuz 35).</td>\n",
       "      <td>https://en.wikipedia.org/wiki/Valery_Ryumin</td>\n",
       "      <td>2</td>\n",
       "    </tr>\n",
       "  </tbody>\n",
       "</table>\n",
       "</div>"
      ],
      "text/plain": [
       "  month_year day            name  \\\n",
       "0  June 2022   8  Mladen Frančić   \n",
       "1  June 2022   6   Valery Ryumin   \n",
       "\n",
       "                                                                               info  \\\n",
       "0  , 67, Croatian football player and manager (Vrbovec, Podravina, Al-Watani Club).   \n",
       "1                           , 82, Russian cosmonaut (Soyuz 25, Soyuz 32, Soyuz 35).   \n",
       "\n",
       "                                                     link num_references  \n",
       "0  https://en.wikipedia.org/wiki/Mladen_Fran%C4%8Di%C4%87              1  \n",
       "1             https://en.wikipedia.org/wiki/Valery_Ryumin              2  "
      ]
     },
     "execution_count": 9,
     "metadata": {},
     "output_type": "execute_result"
    },
    {
     "data": {
      "application/javascript": [
       "\n",
       "            setTimeout(function() {\n",
       "                var nbb_cell_id = 9;\n",
       "                var nbb_unformatted_code = \"# Reading the wp_deaths_June_2022 dataset from sql db and table\\nconn = sql.connect(\\\"wp_deaths_June_2022.db\\\")\\nraw_June_2022 = pd.read_sql(\\\"SELECT * FROM wp_deaths_June_2022\\\", conn)\\n\\n# Making a working copy\\ndf_June_2022 = raw_June_2022.copy()\\n\\n# Checking the shape\\nprint(f\\\"There are {df_June_2022.shape[0]} rows and {df_June_2022.shape[1]} columns.\\\")\\n\\n# Checking first 2 rows of the data\\ndf_June_2022.head(2)\";\n",
       "                var nbb_formatted_code = \"# Reading the wp_deaths_June_2022 dataset from sql db and table\\nconn = sql.connect(\\\"wp_deaths_June_2022.db\\\")\\nraw_June_2022 = pd.read_sql(\\\"SELECT * FROM wp_deaths_June_2022\\\", conn)\\n\\n# Making a working copy\\ndf_June_2022 = raw_June_2022.copy()\\n\\n# Checking the shape\\nprint(f\\\"There are {df_June_2022.shape[0]} rows and {df_June_2022.shape[1]} columns.\\\")\\n\\n# Checking first 2 rows of the data\\ndf_June_2022.head(2)\";\n",
       "                var nbb_cells = Jupyter.notebook.get_cells();\n",
       "                for (var i = 0; i < nbb_cells.length; ++i) {\n",
       "                    if (nbb_cells[i].input_prompt_number == nbb_cell_id) {\n",
       "                        if (nbb_cells[i].get_text() == nbb_unformatted_code) {\n",
       "                             nbb_cells[i].set_text(nbb_formatted_code);\n",
       "                        }\n",
       "                        break;\n",
       "                    }\n",
       "                }\n",
       "            }, 500);\n",
       "            "
      ],
      "text/plain": [
       "<IPython.core.display.Javascript object>"
      ]
     },
     "metadata": {},
     "output_type": "display_data"
    }
   ],
   "source": [
    "# Reading the wp_deaths_June_2022 dataset from sql db and table\n",
    "conn = sql.connect(\"wp_deaths_June_2022.db\")\n",
    "raw_June_2022 = pd.read_sql(\"SELECT * FROM wp_deaths_June_2022\", conn)\n",
    "\n",
    "# Making a working copy\n",
    "df_June_2022 = raw_June_2022.copy()\n",
    "\n",
    "# Checking the shape\n",
    "print(f\"There are {df_June_2022.shape[0]} rows and {df_June_2022.shape[1]} columns.\")\n",
    "\n",
    "# Checking first 2 rows of the data\n",
    "df_June_2022.head(2)"
   ]
  },
  {
   "cell_type": "markdown",
   "id": "109a14ec",
   "metadata": {},
   "source": [
    "#### Observations:\n",
    "- The June, 2022 data does not follow the same row order as the previous dataframe, which was in order of day of the month. \n",
    "- For continuity, before concatinating the two dataframes, we can sort June, 2022 by day."
   ]
  },
  {
   "cell_type": "code",
   "execution_count": 10,
   "id": "47ec4d4a",
   "metadata": {},
   "outputs": [
    {
     "data": {
      "text/html": [
       "<div>\n",
       "<style scoped>\n",
       "    .dataframe tbody tr th:only-of-type {\n",
       "        vertical-align: middle;\n",
       "    }\n",
       "\n",
       "    .dataframe tbody tr th {\n",
       "        vertical-align: top;\n",
       "    }\n",
       "\n",
       "    .dataframe thead th {\n",
       "        text-align: right;\n",
       "    }\n",
       "</style>\n",
       "<table border=\"1\" class=\"dataframe\">\n",
       "  <thead>\n",
       "    <tr style=\"text-align: right;\">\n",
       "      <th></th>\n",
       "      <th>month_year</th>\n",
       "      <th>day</th>\n",
       "      <th>name</th>\n",
       "      <th>info</th>\n",
       "      <th>link</th>\n",
       "      <th>num_references</th>\n",
       "    </tr>\n",
       "  </thead>\n",
       "  <tbody>\n",
       "    <tr>\n",
       "      <th>26</th>\n",
       "      <td>June 2022</td>\n",
       "      <td>1</td>\n",
       "      <td>Richard Oldcorn</td>\n",
       "      <td>, 84, English Olympic fencer (1964, 1968, 1972).</td>\n",
       "      <td>https://en.wikipedia.org/wiki/Richard_Oldcorn</td>\n",
       "      <td>5</td>\n",
       "    </tr>\n",
       "    <tr>\n",
       "      <th>20</th>\n",
       "      <td>June 2022</td>\n",
       "      <td>1</td>\n",
       "      <td>István Szőke</td>\n",
       "      <td>, 75, Hungarian footballer (Ferencváros, national team), stroke.</td>\n",
       "      <td>https://en.wikipedia.org/wiki/Istv%C3%A1n_Sz%C5%91ke</td>\n",
       "      <td>2</td>\n",
       "    </tr>\n",
       "  </tbody>\n",
       "</table>\n",
       "</div>"
      ],
      "text/plain": [
       "   month_year day             name  \\\n",
       "26  June 2022   1  Richard Oldcorn   \n",
       "20  June 2022   1     István Szőke   \n",
       "\n",
       "                                                                info  \\\n",
       "26                  , 84, English Olympic fencer (1964, 1968, 1972).   \n",
       "20  , 75, Hungarian footballer (Ferencváros, national team), stroke.   \n",
       "\n",
       "                                                    link num_references  \n",
       "26         https://en.wikipedia.org/wiki/Richard_Oldcorn              5  \n",
       "20  https://en.wikipedia.org/wiki/Istv%C3%A1n_Sz%C5%91ke              2  "
      ]
     },
     "execution_count": 10,
     "metadata": {},
     "output_type": "execute_result"
    },
    {
     "data": {
      "application/javascript": [
       "\n",
       "            setTimeout(function() {\n",
       "                var nbb_cell_id = 10;\n",
       "                var nbb_unformatted_code = \"# Sorting by day\\ndf_June_2022.sort_values(by=\\\"day\\\", inplace=True)\\n\\n# Re-checking first 2 rows of the data\\ndf_June_2022.head(2)\";\n",
       "                var nbb_formatted_code = \"# Sorting by day\\ndf_June_2022.sort_values(by=\\\"day\\\", inplace=True)\\n\\n# Re-checking first 2 rows of the data\\ndf_June_2022.head(2)\";\n",
       "                var nbb_cells = Jupyter.notebook.get_cells();\n",
       "                for (var i = 0; i < nbb_cells.length; ++i) {\n",
       "                    if (nbb_cells[i].input_prompt_number == nbb_cell_id) {\n",
       "                        if (nbb_cells[i].get_text() == nbb_unformatted_code) {\n",
       "                             nbb_cells[i].set_text(nbb_formatted_code);\n",
       "                        }\n",
       "                        break;\n",
       "                    }\n",
       "                }\n",
       "            }, 500);\n",
       "            "
      ],
      "text/plain": [
       "<IPython.core.display.Javascript object>"
      ]
     },
     "metadata": {},
     "output_type": "display_data"
    }
   ],
   "source": [
    "# Sorting by day\n",
    "df_June_2022.sort_values(by=\"day\", inplace=True)\n",
    "\n",
    "# Re-checking first 2 rows of the data\n",
    "df_June_2022.head(2)"
   ]
  },
  {
   "cell_type": "code",
   "execution_count": 11,
   "id": "c7c54d41",
   "metadata": {},
   "outputs": [
    {
     "data": {
      "text/html": [
       "<div>\n",
       "<style scoped>\n",
       "    .dataframe tbody tr th:only-of-type {\n",
       "        vertical-align: middle;\n",
       "    }\n",
       "\n",
       "    .dataframe tbody tr th {\n",
       "        vertical-align: top;\n",
       "    }\n",
       "\n",
       "    .dataframe thead th {\n",
       "        text-align: right;\n",
       "    }\n",
       "</style>\n",
       "<table border=\"1\" class=\"dataframe\">\n",
       "  <thead>\n",
       "    <tr style=\"text-align: right;\">\n",
       "      <th></th>\n",
       "      <th>month_year</th>\n",
       "      <th>day</th>\n",
       "      <th>name</th>\n",
       "      <th>info</th>\n",
       "      <th>link</th>\n",
       "      <th>num_references</th>\n",
       "    </tr>\n",
       "  </thead>\n",
       "  <tbody>\n",
       "    <tr>\n",
       "      <th>8</th>\n",
       "      <td>June 2022</td>\n",
       "      <td>9</td>\n",
       "      <td>Oleg Moliboga</td>\n",
       "      <td>, 69, Russian volleyball player, Olympic champion (1980) and coach.</td>\n",
       "      <td>https://en.wikipedia.org/wiki/Oleg_Moliboga</td>\n",
       "      <td>2</td>\n",
       "    </tr>\n",
       "    <tr>\n",
       "      <th>5</th>\n",
       "      <td>June 2022</td>\n",
       "      <td>9</td>\n",
       "      <td>Zou Jing</td>\n",
       "      <td>, 86, Chinese engineer, member of the Chinese Academy of Engineering.</td>\n",
       "      <td>https://en.wikipedia.org/wiki/Zou_Jing_(engineer)</td>\n",
       "      <td>3</td>\n",
       "    </tr>\n",
       "  </tbody>\n",
       "</table>\n",
       "</div>"
      ],
      "text/plain": [
       "  month_year day           name  \\\n",
       "8  June 2022   9  Oleg Moliboga   \n",
       "5  June 2022   9       Zou Jing   \n",
       "\n",
       "                                                                    info  \\\n",
       "8    , 69, Russian volleyball player, Olympic champion (1980) and coach.   \n",
       "5  , 86, Chinese engineer, member of the Chinese Academy of Engineering.   \n",
       "\n",
       "                                                link num_references  \n",
       "8        https://en.wikipedia.org/wiki/Oleg_Moliboga              2  \n",
       "5  https://en.wikipedia.org/wiki/Zou_Jing_(engineer)              3  "
      ]
     },
     "execution_count": 11,
     "metadata": {},
     "output_type": "execute_result"
    },
    {
     "data": {
      "application/javascript": [
       "\n",
       "            setTimeout(function() {\n",
       "                var nbb_cell_id = 11;\n",
       "                var nbb_unformatted_code = \"# Checking last 2 rows of the data\\ndf_June_2022.tail(2)\";\n",
       "                var nbb_formatted_code = \"# Checking last 2 rows of the data\\ndf_June_2022.tail(2)\";\n",
       "                var nbb_cells = Jupyter.notebook.get_cells();\n",
       "                for (var i = 0; i < nbb_cells.length; ++i) {\n",
       "                    if (nbb_cells[i].input_prompt_number == nbb_cell_id) {\n",
       "                        if (nbb_cells[i].get_text() == nbb_unformatted_code) {\n",
       "                             nbb_cells[i].set_text(nbb_formatted_code);\n",
       "                        }\n",
       "                        break;\n",
       "                    }\n",
       "                }\n",
       "            }, 500);\n",
       "            "
      ],
      "text/plain": [
       "<IPython.core.display.Javascript object>"
      ]
     },
     "metadata": {},
     "output_type": "display_data"
    }
   ],
   "source": [
    "# Checking last 2 rows of the data\n",
    "df_June_2022.tail(2)"
   ]
  },
  {
   "cell_type": "code",
   "execution_count": 12,
   "id": "e741a3c3",
   "metadata": {},
   "outputs": [
    {
     "data": {
      "text/html": [
       "<div>\n",
       "<style scoped>\n",
       "    .dataframe tbody tr th:only-of-type {\n",
       "        vertical-align: middle;\n",
       "    }\n",
       "\n",
       "    .dataframe tbody tr th {\n",
       "        vertical-align: top;\n",
       "    }\n",
       "\n",
       "    .dataframe thead th {\n",
       "        text-align: right;\n",
       "    }\n",
       "</style>\n",
       "<table border=\"1\" class=\"dataframe\">\n",
       "  <thead>\n",
       "    <tr style=\"text-align: right;\">\n",
       "      <th></th>\n",
       "      <th>month_year</th>\n",
       "      <th>day</th>\n",
       "      <th>name</th>\n",
       "      <th>info</th>\n",
       "      <th>link</th>\n",
       "      <th>num_references</th>\n",
       "    </tr>\n",
       "  </thead>\n",
       "  <tbody>\n",
       "    <tr>\n",
       "      <th>77</th>\n",
       "      <td>June 2022</td>\n",
       "      <td>4</td>\n",
       "      <td>Goran Sankovič</td>\n",
       "      <td>, 42, Slovenian footballer (SK Slavia Prague, Panionios, national team).</td>\n",
       "      <td>https://en.wikipedia.org/wiki/Goran_Sankovi%C4%8D</td>\n",
       "      <td>4</td>\n",
       "    </tr>\n",
       "    <tr>\n",
       "      <th>30</th>\n",
       "      <td>June 2022</td>\n",
       "      <td>1</td>\n",
       "      <td>Aleksandr Berketov</td>\n",
       "      <td>, 46, Russian footballer (Rotor Volgograd, CSKA Moscow).</td>\n",
       "      <td>https://en.wikipedia.org/wiki/Aleksandr_Berketov</td>\n",
       "      <td>2</td>\n",
       "    </tr>\n",
       "    <tr>\n",
       "      <th>71</th>\n",
       "      <td>June 2022</td>\n",
       "      <td>3</td>\n",
       "      <td>Saafi Boulbaba</td>\n",
       "      <td>, 36, Tunisian footballer (Espérance Sportive de Tunis, A S Kasserine, MC El Eulma), traffic collision.</td>\n",
       "      <td>https://en.wikipedia.org/wiki/Saafi_Boulbaba</td>\n",
       "      <td>4</td>\n",
       "    </tr>\n",
       "    <tr>\n",
       "      <th>144</th>\n",
       "      <td>June 2022</td>\n",
       "      <td>8</td>\n",
       "      <td>Birkha Bahadur Muringla</td>\n",
       "      <td>, 79, Indian writer.</td>\n",
       "      <td>https://en.wikipedia.org/wiki/Birkha_Bahadur_Muringla</td>\n",
       "      <td>3</td>\n",
       "    </tr>\n",
       "    <tr>\n",
       "      <th>4</th>\n",
       "      <td>June 2022</td>\n",
       "      <td>8</td>\n",
       "      <td>Aslam Azad</td>\n",
       "      <td>, 73, Indian politician, Bihar MLC (2006–2012).</td>\n",
       "      <td>https://en.wikipedia.org/wiki/Aslam_Azad</td>\n",
       "      <td>5</td>\n",
       "    </tr>\n",
       "  </tbody>\n",
       "</table>\n",
       "</div>"
      ],
      "text/plain": [
       "    month_year day                     name  \\\n",
       "77   June 2022   4           Goran Sankovič   \n",
       "30   June 2022   1       Aleksandr Berketov   \n",
       "71   June 2022   3           Saafi Boulbaba   \n",
       "144  June 2022   8  Birkha Bahadur Muringla   \n",
       "4    June 2022   8               Aslam Azad   \n",
       "\n",
       "                                                                                                        info  \\\n",
       "77                                  , 42, Slovenian footballer (SK Slavia Prague, Panionios, national team).   \n",
       "30                                                  , 46, Russian footballer (Rotor Volgograd, CSKA Moscow).   \n",
       "71   , 36, Tunisian footballer (Espérance Sportive de Tunis, A S Kasserine, MC El Eulma), traffic collision.   \n",
       "144                                                                                     , 79, Indian writer.   \n",
       "4                                                            , 73, Indian politician, Bihar MLC (2006–2012).   \n",
       "\n",
       "                                                      link num_references  \n",
       "77       https://en.wikipedia.org/wiki/Goran_Sankovi%C4%8D              4  \n",
       "30        https://en.wikipedia.org/wiki/Aleksandr_Berketov              2  \n",
       "71            https://en.wikipedia.org/wiki/Saafi_Boulbaba              4  \n",
       "144  https://en.wikipedia.org/wiki/Birkha_Bahadur_Muringla              3  \n",
       "4                 https://en.wikipedia.org/wiki/Aslam_Azad              5  "
      ]
     },
     "execution_count": 12,
     "metadata": {},
     "output_type": "execute_result"
    },
    {
     "data": {
      "application/javascript": [
       "\n",
       "            setTimeout(function() {\n",
       "                var nbb_cell_id = 12;\n",
       "                var nbb_unformatted_code = \"# Checking a sample of the data\\ndf_June_2022.sample(5)\";\n",
       "                var nbb_formatted_code = \"# Checking a sample of the data\\ndf_June_2022.sample(5)\";\n",
       "                var nbb_cells = Jupyter.notebook.get_cells();\n",
       "                for (var i = 0; i < nbb_cells.length; ++i) {\n",
       "                    if (nbb_cells[i].input_prompt_number == nbb_cell_id) {\n",
       "                        if (nbb_cells[i].get_text() == nbb_unformatted_code) {\n",
       "                             nbb_cells[i].set_text(nbb_formatted_code);\n",
       "                        }\n",
       "                        break;\n",
       "                    }\n",
       "                }\n",
       "            }, 500);\n",
       "            "
      ],
      "text/plain": [
       "<IPython.core.display.Javascript object>"
      ]
     },
     "metadata": {},
     "output_type": "display_data"
    }
   ],
   "source": [
    "# Checking a sample of the data\n",
    "df_June_2022.sample(5)"
   ]
  },
  {
   "cell_type": "markdown",
   "id": "af92c8df",
   "metadata": {},
   "source": [
    "#### Observations:\n",
    "- Now, we are ready to combine the three dataframes."
   ]
  },
  {
   "cell_type": "markdown",
   "id": "6d4d0d74",
   "metadata": {},
   "source": [
    "## Combining Dataframes"
   ]
  },
  {
   "cell_type": "markdown",
   "id": "879acc9d",
   "metadata": {},
   "source": [
    "### Adding Number of References to 1994 through May 2022 Data"
   ]
  },
  {
   "cell_type": "code",
   "execution_count": 13,
   "id": "c5fa945f",
   "metadata": {},
   "outputs": [
    {
     "data": {
      "text/html": [
       "<div>\n",
       "<style scoped>\n",
       "    .dataframe tbody tr th:only-of-type {\n",
       "        vertical-align: middle;\n",
       "    }\n",
       "\n",
       "    .dataframe tbody tr th {\n",
       "        vertical-align: top;\n",
       "    }\n",
       "\n",
       "    .dataframe thead th {\n",
       "        text-align: right;\n",
       "    }\n",
       "</style>\n",
       "<table border=\"1\" class=\"dataframe\">\n",
       "  <thead>\n",
       "    <tr style=\"text-align: right;\">\n",
       "      <th></th>\n",
       "      <th>month_year</th>\n",
       "      <th>day</th>\n",
       "      <th>name</th>\n",
       "      <th>info</th>\n",
       "      <th>link</th>\n",
       "      <th>num_references</th>\n",
       "    </tr>\n",
       "  </thead>\n",
       "  <tbody>\n",
       "    <tr>\n",
       "      <th>0</th>\n",
       "      <td>January 1994</td>\n",
       "      <td>1</td>\n",
       "      <td>William Chappell</td>\n",
       "      <td>, 86, British dancer, ballet designer and director.</td>\n",
       "      <td>https://en.wikipedia.org/wiki/William_Chappell_(dancer)</td>\n",
       "      <td>21</td>\n",
       "    </tr>\n",
       "    <tr>\n",
       "      <th>1</th>\n",
       "      <td>January 1994</td>\n",
       "      <td>1</td>\n",
       "      <td>Raymond Crotty</td>\n",
       "      <td>, 68, Irish economist, writer, and academic.</td>\n",
       "      <td>https://en.wikipedia.org/wiki/Raymond_Crotty</td>\n",
       "      <td>12</td>\n",
       "    </tr>\n",
       "  </tbody>\n",
       "</table>\n",
       "</div>"
      ],
      "text/plain": [
       "     month_year day              name  \\\n",
       "0  January 1994   1  William Chappell   \n",
       "1  January 1994   1    Raymond Crotty   \n",
       "\n",
       "                                                  info  \\\n",
       "0  , 86, British dancer, ballet designer and director.   \n",
       "1         , 68, Irish economist, writer, and academic.   \n",
       "\n",
       "                                                      link num_references  \n",
       "0  https://en.wikipedia.org/wiki/William_Chappell_(dancer)             21  \n",
       "1             https://en.wikipedia.org/wiki/Raymond_Crotty             12  "
      ]
     },
     "execution_count": 13,
     "metadata": {},
     "output_type": "execute_result"
    },
    {
     "data": {
      "application/javascript": [
       "\n",
       "            setTimeout(function() {\n",
       "                var nbb_cell_id = 13;\n",
       "                var nbb_unformatted_code = \"# Adding num_references column to 1994 through May 2022 data\\ndf_combined = pd.merge(df_94_to_22, df_reference_counts, how=\\\"left\\\", on=\\\"link\\\")\\n\\n# Checking first 2 rows of the data\\ndf_combined.head(2)\";\n",
       "                var nbb_formatted_code = \"# Adding num_references column to 1994 through May 2022 data\\ndf_combined = pd.merge(df_94_to_22, df_reference_counts, how=\\\"left\\\", on=\\\"link\\\")\\n\\n# Checking first 2 rows of the data\\ndf_combined.head(2)\";\n",
       "                var nbb_cells = Jupyter.notebook.get_cells();\n",
       "                for (var i = 0; i < nbb_cells.length; ++i) {\n",
       "                    if (nbb_cells[i].input_prompt_number == nbb_cell_id) {\n",
       "                        if (nbb_cells[i].get_text() == nbb_unformatted_code) {\n",
       "                             nbb_cells[i].set_text(nbb_formatted_code);\n",
       "                        }\n",
       "                        break;\n",
       "                    }\n",
       "                }\n",
       "            }, 500);\n",
       "            "
      ],
      "text/plain": [
       "<IPython.core.display.Javascript object>"
      ]
     },
     "metadata": {},
     "output_type": "display_data"
    }
   ],
   "source": [
    "# Adding num_references column to 1994 through May 2022 data\n",
    "df_combined = pd.merge(df_94_to_22, df_reference_counts, how=\"left\", on=\"link\")\n",
    "\n",
    "# Checking first 2 rows of the data\n",
    "df_combined.head(2)"
   ]
  },
  {
   "cell_type": "markdown",
   "id": "8916314c",
   "metadata": {},
   "source": [
    "### Adding June 2022 Data"
   ]
  },
  {
   "cell_type": "code",
   "execution_count": 14,
   "id": "22ae5f00",
   "metadata": {},
   "outputs": [
    {
     "name": "stdout",
     "output_type": "stream",
     "text": [
      "There are 133914 rows and 6 columns.\n"
     ]
    },
    {
     "data": {
      "text/html": [
       "<div>\n",
       "<style scoped>\n",
       "    .dataframe tbody tr th:only-of-type {\n",
       "        vertical-align: middle;\n",
       "    }\n",
       "\n",
       "    .dataframe tbody tr th {\n",
       "        vertical-align: top;\n",
       "    }\n",
       "\n",
       "    .dataframe thead th {\n",
       "        text-align: right;\n",
       "    }\n",
       "</style>\n",
       "<table border=\"1\" class=\"dataframe\">\n",
       "  <thead>\n",
       "    <tr style=\"text-align: right;\">\n",
       "      <th></th>\n",
       "      <th>month_year</th>\n",
       "      <th>day</th>\n",
       "      <th>name</th>\n",
       "      <th>info</th>\n",
       "      <th>link</th>\n",
       "      <th>num_references</th>\n",
       "    </tr>\n",
       "  </thead>\n",
       "  <tbody>\n",
       "    <tr>\n",
       "      <th>0</th>\n",
       "      <td>January 1994</td>\n",
       "      <td>1</td>\n",
       "      <td>William Chappell</td>\n",
       "      <td>, 86, British dancer, ballet designer and director.</td>\n",
       "      <td>https://en.wikipedia.org/wiki/William_Chappell_(dancer)</td>\n",
       "      <td>21</td>\n",
       "    </tr>\n",
       "    <tr>\n",
       "      <th>1</th>\n",
       "      <td>January 1994</td>\n",
       "      <td>1</td>\n",
       "      <td>Raymond Crotty</td>\n",
       "      <td>, 68, Irish economist, writer, and academic.</td>\n",
       "      <td>https://en.wikipedia.org/wiki/Raymond_Crotty</td>\n",
       "      <td>12</td>\n",
       "    </tr>\n",
       "  </tbody>\n",
       "</table>\n",
       "</div>"
      ],
      "text/plain": [
       "     month_year day              name  \\\n",
       "0  January 1994   1  William Chappell   \n",
       "1  January 1994   1    Raymond Crotty   \n",
       "\n",
       "                                                  info  \\\n",
       "0  , 86, British dancer, ballet designer and director.   \n",
       "1         , 68, Irish economist, writer, and academic.   \n",
       "\n",
       "                                                      link num_references  \n",
       "0  https://en.wikipedia.org/wiki/William_Chappell_(dancer)             21  \n",
       "1             https://en.wikipedia.org/wiki/Raymond_Crotty             12  "
      ]
     },
     "execution_count": 14,
     "metadata": {},
     "output_type": "execute_result"
    },
    {
     "data": {
      "application/javascript": [
       "\n",
       "            setTimeout(function() {\n",
       "                var nbb_cell_id = 14;\n",
       "                var nbb_unformatted_code = \"# Adding Juned 2022 data\\ndf_combined = pd.concat([df_combined, df_June_2022], ignore_index=True)\\n\\n# Making a working copy\\ndf = df_combined.copy()\\n\\n# Checking the shape\\nprint(f\\\"There are {df.shape[0]} rows and {df.shape[1]} columns.\\\")\\n\\n# Checking first 2 rows of the data\\ndf.head(2)\";\n",
       "                var nbb_formatted_code = \"# Adding Juned 2022 data\\ndf_combined = pd.concat([df_combined, df_June_2022], ignore_index=True)\\n\\n# Making a working copy\\ndf = df_combined.copy()\\n\\n# Checking the shape\\nprint(f\\\"There are {df.shape[0]} rows and {df.shape[1]} columns.\\\")\\n\\n# Checking first 2 rows of the data\\ndf.head(2)\";\n",
       "                var nbb_cells = Jupyter.notebook.get_cells();\n",
       "                for (var i = 0; i < nbb_cells.length; ++i) {\n",
       "                    if (nbb_cells[i].input_prompt_number == nbb_cell_id) {\n",
       "                        if (nbb_cells[i].get_text() == nbb_unformatted_code) {\n",
       "                             nbb_cells[i].set_text(nbb_formatted_code);\n",
       "                        }\n",
       "                        break;\n",
       "                    }\n",
       "                }\n",
       "            }, 500);\n",
       "            "
      ],
      "text/plain": [
       "<IPython.core.display.Javascript object>"
      ]
     },
     "metadata": {},
     "output_type": "display_data"
    }
   ],
   "source": [
    "# Adding Juned 2022 data\n",
    "df_combined = pd.concat([df_combined, df_June_2022], ignore_index=True)\n",
    "\n",
    "# Making a working copy\n",
    "df = df_combined.copy()\n",
    "\n",
    "# Checking the shape\n",
    "print(f\"There are {df.shape[0]} rows and {df.shape[1]} columns.\")\n",
    "\n",
    "# Checking first 2 rows of the data\n",
    "df.head(2)"
   ]
  },
  {
   "cell_type": "code",
   "execution_count": 15,
   "id": "1668ea3c",
   "metadata": {},
   "outputs": [
    {
     "data": {
      "text/html": [
       "<div>\n",
       "<style scoped>\n",
       "    .dataframe tbody tr th:only-of-type {\n",
       "        vertical-align: middle;\n",
       "    }\n",
       "\n",
       "    .dataframe tbody tr th {\n",
       "        vertical-align: top;\n",
       "    }\n",
       "\n",
       "    .dataframe thead th {\n",
       "        text-align: right;\n",
       "    }\n",
       "</style>\n",
       "<table border=\"1\" class=\"dataframe\">\n",
       "  <thead>\n",
       "    <tr style=\"text-align: right;\">\n",
       "      <th></th>\n",
       "      <th>month_year</th>\n",
       "      <th>day</th>\n",
       "      <th>name</th>\n",
       "      <th>info</th>\n",
       "      <th>link</th>\n",
       "      <th>num_references</th>\n",
       "    </tr>\n",
       "  </thead>\n",
       "  <tbody>\n",
       "    <tr>\n",
       "      <th>133912</th>\n",
       "      <td>June 2022</td>\n",
       "      <td>9</td>\n",
       "      <td>Oleg Moliboga</td>\n",
       "      <td>, 69, Russian volleyball player, Olympic champion (1980) and coach.</td>\n",
       "      <td>https://en.wikipedia.org/wiki/Oleg_Moliboga</td>\n",
       "      <td>2</td>\n",
       "    </tr>\n",
       "    <tr>\n",
       "      <th>133913</th>\n",
       "      <td>June 2022</td>\n",
       "      <td>9</td>\n",
       "      <td>Zou Jing</td>\n",
       "      <td>, 86, Chinese engineer, member of the Chinese Academy of Engineering.</td>\n",
       "      <td>https://en.wikipedia.org/wiki/Zou_Jing_(engineer)</td>\n",
       "      <td>3</td>\n",
       "    </tr>\n",
       "  </tbody>\n",
       "</table>\n",
       "</div>"
      ],
      "text/plain": [
       "       month_year day           name  \\\n",
       "133912  June 2022   9  Oleg Moliboga   \n",
       "133913  June 2022   9       Zou Jing   \n",
       "\n",
       "                                                                         info  \\\n",
       "133912    , 69, Russian volleyball player, Olympic champion (1980) and coach.   \n",
       "133913  , 86, Chinese engineer, member of the Chinese Academy of Engineering.   \n",
       "\n",
       "                                                     link num_references  \n",
       "133912        https://en.wikipedia.org/wiki/Oleg_Moliboga              2  \n",
       "133913  https://en.wikipedia.org/wiki/Zou_Jing_(engineer)              3  "
      ]
     },
     "execution_count": 15,
     "metadata": {},
     "output_type": "execute_result"
    },
    {
     "data": {
      "application/javascript": [
       "\n",
       "            setTimeout(function() {\n",
       "                var nbb_cell_id = 15;\n",
       "                var nbb_unformatted_code = \"# Checking last 2 rows of the data\\ndf.tail(2)\";\n",
       "                var nbb_formatted_code = \"# Checking last 2 rows of the data\\ndf.tail(2)\";\n",
       "                var nbb_cells = Jupyter.notebook.get_cells();\n",
       "                for (var i = 0; i < nbb_cells.length; ++i) {\n",
       "                    if (nbb_cells[i].input_prompt_number == nbb_cell_id) {\n",
       "                        if (nbb_cells[i].get_text() == nbb_unformatted_code) {\n",
       "                             nbb_cells[i].set_text(nbb_formatted_code);\n",
       "                        }\n",
       "                        break;\n",
       "                    }\n",
       "                }\n",
       "            }, 500);\n",
       "            "
      ],
      "text/plain": [
       "<IPython.core.display.Javascript object>"
      ]
     },
     "metadata": {},
     "output_type": "display_data"
    }
   ],
   "source": [
    "# Checking last 2 rows of the data\n",
    "df.tail(2)"
   ]
  },
  {
   "cell_type": "code",
   "execution_count": 16,
   "id": "fc35f82e",
   "metadata": {},
   "outputs": [
    {
     "data": {
      "text/html": [
       "<div>\n",
       "<style scoped>\n",
       "    .dataframe tbody tr th:only-of-type {\n",
       "        vertical-align: middle;\n",
       "    }\n",
       "\n",
       "    .dataframe tbody tr th {\n",
       "        vertical-align: top;\n",
       "    }\n",
       "\n",
       "    .dataframe thead th {\n",
       "        text-align: right;\n",
       "    }\n",
       "</style>\n",
       "<table border=\"1\" class=\"dataframe\">\n",
       "  <thead>\n",
       "    <tr style=\"text-align: right;\">\n",
       "      <th></th>\n",
       "      <th>month_year</th>\n",
       "      <th>day</th>\n",
       "      <th>name</th>\n",
       "      <th>info</th>\n",
       "      <th>link</th>\n",
       "      <th>num_references</th>\n",
       "    </tr>\n",
       "  </thead>\n",
       "  <tbody>\n",
       "    <tr>\n",
       "      <th>12576</th>\n",
       "      <td>November 1998</td>\n",
       "      <td>16</td>\n",
       "      <td>Tyrone Delano Gilliam Jr.</td>\n",
       "      <td>, 32, American convicted murderer, execution by lethal injection.</td>\n",
       "      <td>https://en.wikipedia.org/wiki/Tyrone_Delano_Gilliam_Jr.</td>\n",
       "      <td>10</td>\n",
       "    </tr>\n",
       "    <tr>\n",
       "      <th>102984</th>\n",
       "      <td>March 2019</td>\n",
       "      <td>16</td>\n",
       "      <td>Gilbert Hottois</td>\n",
       "      <td>, 72, Belgian philosopher.</td>\n",
       "      <td>https://en.wikipedia.org/wiki/Gilbert_Hottois</td>\n",
       "      <td>2</td>\n",
       "    </tr>\n",
       "    <tr>\n",
       "      <th>5791</th>\n",
       "      <td>March 1996</td>\n",
       "      <td>23</td>\n",
       "      <td>J. D. \"Jay\" Miller</td>\n",
       "      <td>, 73, American musician.</td>\n",
       "      <td>https://en.wikipedia.org/wiki/J._D._%22Jay%22_Miller</td>\n",
       "      <td>13</td>\n",
       "    </tr>\n",
       "    <tr>\n",
       "      <th>84606</th>\n",
       "      <td>August 2016</td>\n",
       "      <td>14</td>\n",
       "      <td>Neil Black</td>\n",
       "      <td>, 84, English oboist.</td>\n",
       "      <td>https://en.wikipedia.org/wiki/Neil_Black</td>\n",
       "      <td>8</td>\n",
       "    </tr>\n",
       "    <tr>\n",
       "      <th>44694</th>\n",
       "      <td>March 2010</td>\n",
       "      <td>11</td>\n",
       "      <td>Merlin Olsen</td>\n",
       "      <td>, 69, American football player (Los Angeles Rams), member of Pro Football Hall of Fame, and actor (, ), mesothelioma.</td>\n",
       "      <td>https://en.wikipedia.org/wiki/Merlin_Olsen</td>\n",
       "      <td>31</td>\n",
       "    </tr>\n",
       "  </tbody>\n",
       "</table>\n",
       "</div>"
      ],
      "text/plain": [
       "           month_year day                       name  \\\n",
       "12576   November 1998  16  Tyrone Delano Gilliam Jr.   \n",
       "102984     March 2019  16            Gilbert Hottois   \n",
       "5791       March 1996  23         J. D. \"Jay\" Miller   \n",
       "84606     August 2016  14                 Neil Black   \n",
       "44694      March 2010  11               Merlin Olsen   \n",
       "\n",
       "                                                                                                                         info  \\\n",
       "12576                                                       , 32, American convicted murderer, execution by lethal injection.   \n",
       "102984                                                                                             , 72, Belgian philosopher.   \n",
       "5791                                                                                                 , 73, American musician.   \n",
       "84606                                                                                                   , 84, English oboist.   \n",
       "44694   , 69, American football player (Los Angeles Rams), member of Pro Football Hall of Fame, and actor (, ), mesothelioma.   \n",
       "\n",
       "                                                           link num_references  \n",
       "12576   https://en.wikipedia.org/wiki/Tyrone_Delano_Gilliam_Jr.             10  \n",
       "102984            https://en.wikipedia.org/wiki/Gilbert_Hottois              2  \n",
       "5791       https://en.wikipedia.org/wiki/J._D._%22Jay%22_Miller             13  \n",
       "84606                  https://en.wikipedia.org/wiki/Neil_Black              8  \n",
       "44694                https://en.wikipedia.org/wiki/Merlin_Olsen             31  "
      ]
     },
     "execution_count": 16,
     "metadata": {},
     "output_type": "execute_result"
    },
    {
     "data": {
      "application/javascript": [
       "\n",
       "            setTimeout(function() {\n",
       "                var nbb_cell_id = 16;\n",
       "                var nbb_unformatted_code = \"# Checking a sample of the data\\ndf.sample(5)\";\n",
       "                var nbb_formatted_code = \"# Checking a sample of the data\\ndf.sample(5)\";\n",
       "                var nbb_cells = Jupyter.notebook.get_cells();\n",
       "                for (var i = 0; i < nbb_cells.length; ++i) {\n",
       "                    if (nbb_cells[i].input_prompt_number == nbb_cell_id) {\n",
       "                        if (nbb_cells[i].get_text() == nbb_unformatted_code) {\n",
       "                             nbb_cells[i].set_text(nbb_formatted_code);\n",
       "                        }\n",
       "                        break;\n",
       "                    }\n",
       "                }\n",
       "            }, 500);\n",
       "            "
      ],
      "text/plain": [
       "<IPython.core.display.Javascript object>"
      ]
     },
     "metadata": {},
     "output_type": "display_data"
    }
   ],
   "source": [
    "# Checking a sample of the data\n",
    "df.sample(5)"
   ]
  },
  {
   "cell_type": "markdown",
   "id": "9d8326a6",
   "metadata": {},
   "source": [
    "#### Confirming Correct Number of Resultant Entries"
   ]
  },
  {
   "cell_type": "code",
   "execution_count": 17,
   "id": "c830199d",
   "metadata": {},
   "outputs": [
    {
     "data": {
      "text/plain": [
       "133914"
      ]
     },
     "execution_count": 17,
     "metadata": {},
     "output_type": "execute_result"
    },
    {
     "data": {
      "application/javascript": [
       "\n",
       "            setTimeout(function() {\n",
       "                var nbb_cell_id = 17;\n",
       "                var nbb_unformatted_code = \"# Confirming correct number of total rows\\ndf_94_to_22.shape[0] + df_June_2022.shape[0]\";\n",
       "                var nbb_formatted_code = \"# Confirming correct number of total rows\\ndf_94_to_22.shape[0] + df_June_2022.shape[0]\";\n",
       "                var nbb_cells = Jupyter.notebook.get_cells();\n",
       "                for (var i = 0; i < nbb_cells.length; ++i) {\n",
       "                    if (nbb_cells[i].input_prompt_number == nbb_cell_id) {\n",
       "                        if (nbb_cells[i].get_text() == nbb_unformatted_code) {\n",
       "                             nbb_cells[i].set_text(nbb_formatted_code);\n",
       "                        }\n",
       "                        break;\n",
       "                    }\n",
       "                }\n",
       "            }, 500);\n",
       "            "
      ],
      "text/plain": [
       "<IPython.core.display.Javascript object>"
      ]
     },
     "metadata": {},
     "output_type": "display_data"
    }
   ],
   "source": [
    "# Confirming correct number of total rows\n",
    "df_94_to_22.shape[0] + df_June_2022.shape[0]"
   ]
  },
  {
   "cell_type": "markdown",
   "id": "cb67e4fe",
   "metadata": {},
   "source": [
    "#### Observations:\n",
    "- We have successfully combined the three dataframes.\n",
    "- Now, we can check for data types, duplicates, and missing values."
   ]
  },
  {
   "cell_type": "markdown",
   "id": "c091c99e",
   "metadata": {},
   "source": [
    "## Checking data types, duplicates, and null values"
   ]
  },
  {
   "cell_type": "markdown",
   "id": "075ae637",
   "metadata": {},
   "source": [
    "### Data types"
   ]
  },
  {
   "cell_type": "code",
   "execution_count": 18,
   "id": "5b2450c3",
   "metadata": {},
   "outputs": [
    {
     "name": "stdout",
     "output_type": "stream",
     "text": [
      "<class 'pandas.core.frame.DataFrame'>\n",
      "RangeIndex: 133914 entries, 0 to 133913\n",
      "Data columns (total 6 columns):\n",
      " #   Column          Non-Null Count   Dtype \n",
      "---  ------          --------------   ----- \n",
      " 0   month_year      133914 non-null  object\n",
      " 1   day             133914 non-null  object\n",
      " 2   name            133903 non-null  object\n",
      " 3   info            133914 non-null  object\n",
      " 4   link            133914 non-null  object\n",
      " 5   num_references  120637 non-null  object\n",
      "dtypes: object(6)\n",
      "memory usage: 6.1+ MB\n"
     ]
    },
    {
     "data": {
      "application/javascript": [
       "\n",
       "            setTimeout(function() {\n",
       "                var nbb_cell_id = 18;\n",
       "                var nbb_unformatted_code = \"# Checking data types and null values\\ndf.info()\";\n",
       "                var nbb_formatted_code = \"# Checking data types and null values\\ndf.info()\";\n",
       "                var nbb_cells = Jupyter.notebook.get_cells();\n",
       "                for (var i = 0; i < nbb_cells.length; ++i) {\n",
       "                    if (nbb_cells[i].input_prompt_number == nbb_cell_id) {\n",
       "                        if (nbb_cells[i].get_text() == nbb_unformatted_code) {\n",
       "                             nbb_cells[i].set_text(nbb_formatted_code);\n",
       "                        }\n",
       "                        break;\n",
       "                    }\n",
       "                }\n",
       "            }, 500);\n",
       "            "
      ],
      "text/plain": [
       "<IPython.core.display.Javascript object>"
      ]
     },
     "metadata": {},
     "output_type": "display_data"
    }
   ],
   "source": [
    "# Checking data types and null values\n",
    "df.info()"
   ]
  },
  {
   "cell_type": "markdown",
   "id": "84a6719b",
   "metadata": {},
   "source": [
    "#### Observations:\n",
    "- There are 6 columns, all of object type.\n",
    "- `name` and `num_references` both have missing values.\n",
    "- The data is in a very raw format and there are other columns that have combined information that will need to be extracted.\n",
    "- For now, we will leave all as object type."
   ]
  },
  {
   "cell_type": "markdown",
   "id": "0b62fddc",
   "metadata": {},
   "source": [
    "### Duplicate Rows"
   ]
  },
  {
   "cell_type": "code",
   "execution_count": 19,
   "id": "83e5defb",
   "metadata": {},
   "outputs": [
    {
     "data": {
      "text/plain": [
       "9"
      ]
     },
     "execution_count": 19,
     "metadata": {},
     "output_type": "execute_result"
    },
    {
     "data": {
      "application/javascript": [
       "\n",
       "            setTimeout(function() {\n",
       "                var nbb_cell_id = 19;\n",
       "                var nbb_unformatted_code = \"# Checking duplicate rows\\ndf.duplicated().sum()\";\n",
       "                var nbb_formatted_code = \"# Checking duplicate rows\\ndf.duplicated().sum()\";\n",
       "                var nbb_cells = Jupyter.notebook.get_cells();\n",
       "                for (var i = 0; i < nbb_cells.length; ++i) {\n",
       "                    if (nbb_cells[i].input_prompt_number == nbb_cell_id) {\n",
       "                        if (nbb_cells[i].get_text() == nbb_unformatted_code) {\n",
       "                             nbb_cells[i].set_text(nbb_formatted_code);\n",
       "                        }\n",
       "                        break;\n",
       "                    }\n",
       "                }\n",
       "            }, 500);\n",
       "            "
      ],
      "text/plain": [
       "<IPython.core.display.Javascript object>"
      ]
     },
     "metadata": {},
     "output_type": "display_data"
    }
   ],
   "source": [
    "# Checking duplicate rows\n",
    "df.duplicated().sum()"
   ]
  },
  {
   "cell_type": "markdown",
   "id": "5db48195",
   "metadata": {},
   "source": [
    "#### Observations:\n",
    "- There are 9 duplicate rows that we will drop now."
   ]
  },
  {
   "cell_type": "code",
   "execution_count": 20,
   "id": "3a9aeb5c",
   "metadata": {},
   "outputs": [
    {
     "data": {
      "text/plain": [
       "(133905, 6)"
      ]
     },
     "execution_count": 20,
     "metadata": {},
     "output_type": "execute_result"
    },
    {
     "data": {
      "application/javascript": [
       "\n",
       "            setTimeout(function() {\n",
       "                var nbb_cell_id = 20;\n",
       "                var nbb_unformatted_code = \"# Drop duplicate rows\\ndf.drop_duplicates(inplace=True, ignore_index=True)\\n\\n# Re-check shape\\ndf.shape\";\n",
       "                var nbb_formatted_code = \"# Drop duplicate rows\\ndf.drop_duplicates(inplace=True, ignore_index=True)\\n\\n# Re-check shape\\ndf.shape\";\n",
       "                var nbb_cells = Jupyter.notebook.get_cells();\n",
       "                for (var i = 0; i < nbb_cells.length; ++i) {\n",
       "                    if (nbb_cells[i].input_prompt_number == nbb_cell_id) {\n",
       "                        if (nbb_cells[i].get_text() == nbb_unformatted_code) {\n",
       "                             nbb_cells[i].set_text(nbb_formatted_code);\n",
       "                        }\n",
       "                        break;\n",
       "                    }\n",
       "                }\n",
       "            }, 500);\n",
       "            "
      ],
      "text/plain": [
       "<IPython.core.display.Javascript object>"
      ]
     },
     "metadata": {},
     "output_type": "display_data"
    }
   ],
   "source": [
    "# Drop duplicate rows\n",
    "df.drop_duplicates(inplace=True, ignore_index=True)\n",
    "\n",
    "# Re-check shape\n",
    "df.shape"
   ]
  },
  {
   "cell_type": "markdown",
   "id": "eed4f1ec",
   "metadata": {},
   "source": [
    "### Missing Values"
   ]
  },
  {
   "cell_type": "code",
   "execution_count": 21,
   "id": "d3739dd6",
   "metadata": {},
   "outputs": [
    {
     "data": {
      "text/plain": [
       "month_year        0.000\n",
       "day               0.000\n",
       "name              0.008\n",
       "info              0.000\n",
       "link              0.000\n",
       "num_references   11.007\n",
       "dtype: float64"
      ]
     },
     "execution_count": 21,
     "metadata": {},
     "output_type": "execute_result"
    },
    {
     "data": {
      "application/javascript": [
       "\n",
       "            setTimeout(function() {\n",
       "                var nbb_cell_id = 21;\n",
       "                var nbb_unformatted_code = \"# Check percentage of null values by column\\ndf.isnull().sum() / df.count() * 100\";\n",
       "                var nbb_formatted_code = \"# Check percentage of null values by column\\ndf.isnull().sum() / df.count() * 100\";\n",
       "                var nbb_cells = Jupyter.notebook.get_cells();\n",
       "                for (var i = 0; i < nbb_cells.length; ++i) {\n",
       "                    if (nbb_cells[i].input_prompt_number == nbb_cell_id) {\n",
       "                        if (nbb_cells[i].get_text() == nbb_unformatted_code) {\n",
       "                             nbb_cells[i].set_text(nbb_formatted_code);\n",
       "                        }\n",
       "                        break;\n",
       "                    }\n",
       "                }\n",
       "            }, 500);\n",
       "            "
      ],
      "text/plain": [
       "<IPython.core.display.Javascript object>"
      ]
     },
     "metadata": {},
     "output_type": "display_data"
    }
   ],
   "source": [
    "# Check percentage of null values by column\n",
    "df.isnull().sum() / df.count() * 100"
   ]
  },
  {
   "cell_type": "code",
   "execution_count": 22,
   "id": "31af4597",
   "metadata": {},
   "outputs": [
    {
     "data": {
      "text/plain": [
       "0    120628\n",
       "1     13266\n",
       "2        11\n",
       "dtype: int64"
      ]
     },
     "execution_count": 22,
     "metadata": {},
     "output_type": "execute_result"
    },
    {
     "data": {
      "application/javascript": [
       "\n",
       "            setTimeout(function() {\n",
       "                var nbb_cell_id = 22;\n",
       "                var nbb_unformatted_code = \"# Checking number of missing values per row\\ndf.isnull().sum(axis=1).value_counts()\";\n",
       "                var nbb_formatted_code = \"# Checking number of missing values per row\\ndf.isnull().sum(axis=1).value_counts()\";\n",
       "                var nbb_cells = Jupyter.notebook.get_cells();\n",
       "                for (var i = 0; i < nbb_cells.length; ++i) {\n",
       "                    if (nbb_cells[i].input_prompt_number == nbb_cell_id) {\n",
       "                        if (nbb_cells[i].get_text() == nbb_unformatted_code) {\n",
       "                             nbb_cells[i].set_text(nbb_formatted_code);\n",
       "                        }\n",
       "                        break;\n",
       "                    }\n",
       "                }\n",
       "            }, 500);\n",
       "            "
      ],
      "text/plain": [
       "<IPython.core.display.Javascript object>"
      ]
     },
     "metadata": {},
     "output_type": "display_data"
    }
   ],
   "source": [
    "# Checking number of missing values per row\n",
    "df.isnull().sum(axis=1).value_counts()"
   ]
  },
  {
   "cell_type": "markdown",
   "id": "fa4b9ecb",
   "metadata": {},
   "source": [
    "#### Observations:\n",
    "- The number of rows missing only 1 value appears consistent with our anticipated missing `num_references`.\n",
    "- There are 11 rows that are each missing 2 values.  Let us take a closer look at these rows."
   ]
  },
  {
   "cell_type": "code",
   "execution_count": 23,
   "id": "c3d3cfe7",
   "metadata": {},
   "outputs": [
    {
     "data": {
      "text/html": [
       "<div>\n",
       "<style scoped>\n",
       "    .dataframe tbody tr th:only-of-type {\n",
       "        vertical-align: middle;\n",
       "    }\n",
       "\n",
       "    .dataframe tbody tr th {\n",
       "        vertical-align: top;\n",
       "    }\n",
       "\n",
       "    .dataframe thead th {\n",
       "        text-align: right;\n",
       "    }\n",
       "</style>\n",
       "<table border=\"1\" class=\"dataframe\">\n",
       "  <thead>\n",
       "    <tr style=\"text-align: right;\">\n",
       "      <th></th>\n",
       "      <th>month_year</th>\n",
       "      <th>day</th>\n",
       "      <th>name</th>\n",
       "      <th>info</th>\n",
       "      <th>link</th>\n",
       "      <th>num_references</th>\n",
       "    </tr>\n",
       "  </thead>\n",
       "  <tbody>\n",
       "    <tr>\n",
       "      <th>18937</th>\n",
       "      <td>August 2001</td>\n",
       "      <td>11</td>\n",
       "      <td>None</td>\n",
       "      <td>Kevin Kowalcyk, 2, known for eating a hamburger contaminated with E. coli O157:H7.</td>\n",
       "      <td>https://en.wikipedia.orgNone</td>\n",
       "      <td>NaN</td>\n",
       "    </tr>\n",
       "    <tr>\n",
       "      <th>24985</th>\n",
       "      <td>January 2004</td>\n",
       "      <td>22</td>\n",
       "      <td>None</td>\n",
       "      <td>Vincent Palmer, 37, British criminal.</td>\n",
       "      <td>https://en.wikipedia.orgNone</td>\n",
       "      <td>NaN</td>\n",
       "    </tr>\n",
       "    <tr>\n",
       "      <th>27458</th>\n",
       "      <td>March 2005</td>\n",
       "      <td>1</td>\n",
       "      <td>None</td>\n",
       "      <td>Barry Stigler, 57, American voice actor.</td>\n",
       "      <td>https://en.wikipedia.orgNone</td>\n",
       "      <td>NaN</td>\n",
       "    </tr>\n",
       "    <tr>\n",
       "      <th>34077</th>\n",
       "      <td>July 2007</td>\n",
       "      <td>11</td>\n",
       "      <td>None</td>\n",
       "      <td>Nana Gualdi, 75, German singer and actress.</td>\n",
       "      <td>https://en.wikipedia.orgNone</td>\n",
       "      <td>NaN</td>\n",
       "    </tr>\n",
       "    <tr>\n",
       "      <th>35097</th>\n",
       "      <td>November 2007</td>\n",
       "      <td>11</td>\n",
       "      <td>None</td>\n",
       "      <td></td>\n",
       "      <td>https://en.wikipedia.orgNone</td>\n",
       "      <td>NaN</td>\n",
       "    </tr>\n",
       "    <tr>\n",
       "      <th>41075</th>\n",
       "      <td>May 2009</td>\n",
       "      <td>18</td>\n",
       "      <td>None</td>\n",
       "      <td>Either killed in a missile attack or shot:\\n</td>\n",
       "      <td>https://en.wikipedia.orgNone</td>\n",
       "      <td>NaN</td>\n",
       "    </tr>\n",
       "    <tr>\n",
       "      <th>64771</th>\n",
       "      <td>September 2013</td>\n",
       "      <td>29</td>\n",
       "      <td>None</td>\n",
       "      <td>Scott Workman, 47, American stuntman (, , ), cancer.</td>\n",
       "      <td>https://en.wikipedia.orgNone</td>\n",
       "      <td>NaN</td>\n",
       "    </tr>\n",
       "    <tr>\n",
       "      <th>76024</th>\n",
       "      <td>April 2015</td>\n",
       "      <td>29</td>\n",
       "      <td>None</td>\n",
       "      <td>Notable convicted drug traffickers executed by Indonesian firing squad:\\n</td>\n",
       "      <td>https://en.wikipedia.orgNone</td>\n",
       "      <td>NaN</td>\n",
       "    </tr>\n",
       "    <tr>\n",
       "      <th>105871</th>\n",
       "      <td>August 2019</td>\n",
       "      <td>2</td>\n",
       "      <td>None</td>\n",
       "      <td>Japanese convicted murderers, executed by hanging.\\n</td>\n",
       "      <td>https://en.wikipedia.orgNone</td>\n",
       "      <td>NaN</td>\n",
       "    </tr>\n",
       "    <tr>\n",
       "      <th>106617</th>\n",
       "      <td>September 2019</td>\n",
       "      <td>12</td>\n",
       "      <td>None</td>\n",
       "      <td>Thami Shobede, 31, Singer Songwriter</td>\n",
       "      <td>https://en.wikipedia.orgNone</td>\n",
       "      <td>NaN</td>\n",
       "    </tr>\n",
       "    <tr>\n",
       "      <th>126192</th>\n",
       "      <td>August 2021</td>\n",
       "      <td>18</td>\n",
       "      <td>None</td>\n",
       "      <td>American hikers shot in a double homicide: (bodies discovered on this date)\\n</td>\n",
       "      <td>https://en.wikipedia.orgNone</td>\n",
       "      <td>NaN</td>\n",
       "    </tr>\n",
       "  </tbody>\n",
       "</table>\n",
       "</div>"
      ],
      "text/plain": [
       "            month_year day  name  \\\n",
       "18937      August 2001  11  None   \n",
       "24985     January 2004  22  None   \n",
       "27458       March 2005   1  None   \n",
       "34077        July 2007  11  None   \n",
       "35097    November 2007  11  None   \n",
       "41075         May 2009  18  None   \n",
       "64771   September 2013  29  None   \n",
       "76024       April 2015  29  None   \n",
       "105871     August 2019   2  None   \n",
       "106617  September 2019  12  None   \n",
       "126192     August 2021  18  None   \n",
       "\n",
       "                                                                                      info  \\\n",
       "18937   Kevin Kowalcyk, 2, known for eating a hamburger contaminated with E. coli O157:H7.   \n",
       "24985                                                Vincent Palmer, 37, British criminal.   \n",
       "27458                                             Barry Stigler, 57, American voice actor.   \n",
       "34077                                          Nana Gualdi, 75, German singer and actress.   \n",
       "35097                                                                                        \n",
       "41075                                         Either killed in a missile attack or shot:\\n   \n",
       "64771                                 Scott Workman, 47, American stuntman (, , ), cancer.   \n",
       "76024            Notable convicted drug traffickers executed by Indonesian firing squad:\\n   \n",
       "105871                                Japanese convicted murderers, executed by hanging.\\n   \n",
       "106617                                                Thami Shobede, 31, Singer Songwriter   \n",
       "126192       American hikers shot in a double homicide: (bodies discovered on this date)\\n   \n",
       "\n",
       "                                link num_references  \n",
       "18937   https://en.wikipedia.orgNone            NaN  \n",
       "24985   https://en.wikipedia.orgNone            NaN  \n",
       "27458   https://en.wikipedia.orgNone            NaN  \n",
       "34077   https://en.wikipedia.orgNone            NaN  \n",
       "35097   https://en.wikipedia.orgNone            NaN  \n",
       "41075   https://en.wikipedia.orgNone            NaN  \n",
       "64771   https://en.wikipedia.orgNone            NaN  \n",
       "76024   https://en.wikipedia.orgNone            NaN  \n",
       "105871  https://en.wikipedia.orgNone            NaN  \n",
       "106617  https://en.wikipedia.orgNone            NaN  \n",
       "126192  https://en.wikipedia.orgNone            NaN  "
      ]
     },
     "execution_count": 23,
     "metadata": {},
     "output_type": "execute_result"
    },
    {
     "data": {
      "application/javascript": [
       "\n",
       "            setTimeout(function() {\n",
       "                var nbb_cell_id = 23;\n",
       "                var nbb_unformatted_code = \"# Checking the rows that are missing values for 2 columns\\nmissing_2 = df[df.isnull().sum(axis=1) == 2]\\nmissing_2\";\n",
       "                var nbb_formatted_code = \"# Checking the rows that are missing values for 2 columns\\nmissing_2 = df[df.isnull().sum(axis=1) == 2]\\nmissing_2\";\n",
       "                var nbb_cells = Jupyter.notebook.get_cells();\n",
       "                for (var i = 0; i < nbb_cells.length; ++i) {\n",
       "                    if (nbb_cells[i].input_prompt_number == nbb_cell_id) {\n",
       "                        if (nbb_cells[i].get_text() == nbb_unformatted_code) {\n",
       "                             nbb_cells[i].set_text(nbb_formatted_code);\n",
       "                        }\n",
       "                        break;\n",
       "                    }\n",
       "                }\n",
       "            }, 500);\n",
       "            "
      ],
      "text/plain": [
       "<IPython.core.display.Javascript object>"
      ]
     },
     "metadata": {},
     "output_type": "display_data"
    }
   ],
   "source": [
    "# Checking the rows that are missing values for 2 columns\n",
    "missing_2 = df[df.isnull().sum(axis=1) == 2]\n",
    "missing_2"
   ]
  },
  {
   "cell_type": "markdown",
   "id": "260285ff",
   "metadata": {},
   "source": [
    "#### Observations:\n",
    "- We can see that multiple rows are missing `name`, however the name is contained in `info`, which we can extract later.  \n",
    "- The missing link itself is not of concern as it serves only as a means by which to retrieve the `num_references` value.\n",
    "- As there is no associated link for the individual, we can safely replace the NaN `num_references` values for rows with extractable names with 0.\n",
    "- We can proceed with removing the rows that lack an extractable name, as they will not add to the analysis."
   ]
  },
  {
   "cell_type": "code",
   "execution_count": 24,
   "id": "1a8387eb",
   "metadata": {},
   "outputs": [
    {
     "data": {
      "text/plain": [
       "(133900, 6)"
      ]
     },
     "execution_count": 24,
     "metadata": {},
     "output_type": "execute_result"
    },
    {
     "data": {
      "application/javascript": [
       "\n",
       "            setTimeout(function() {\n",
       "                var nbb_cell_id = 24;\n",
       "                var nbb_unformatted_code = \"# List of rows to keep\\nkeep_rows = [18937, 24985, 27458, 34077, 64771, 106617]\\n\\n# For loop to replace num_references NaNs with 0 for rows with extractable names\\nfor row in keep_rows:\\n    df.loc[row, \\\"num_references\\\"] = 0\\n\\n# List of rows to remove\\nremove_rows = [index for index in missing_2.index if index not in keep_rows]\\ndel missing_2\\n\\n# Dropping rows\\ndf.drop(remove_rows, inplace=True)\\n\\n# Re-checking shape\\ndf.shape\";\n",
       "                var nbb_formatted_code = \"# List of rows to keep\\nkeep_rows = [18937, 24985, 27458, 34077, 64771, 106617]\\n\\n# For loop to replace num_references NaNs with 0 for rows with extractable names\\nfor row in keep_rows:\\n    df.loc[row, \\\"num_references\\\"] = 0\\n\\n# List of rows to remove\\nremove_rows = [index for index in missing_2.index if index not in keep_rows]\\ndel missing_2\\n\\n# Dropping rows\\ndf.drop(remove_rows, inplace=True)\\n\\n# Re-checking shape\\ndf.shape\";\n",
       "                var nbb_cells = Jupyter.notebook.get_cells();\n",
       "                for (var i = 0; i < nbb_cells.length; ++i) {\n",
       "                    if (nbb_cells[i].input_prompt_number == nbb_cell_id) {\n",
       "                        if (nbb_cells[i].get_text() == nbb_unformatted_code) {\n",
       "                             nbb_cells[i].set_text(nbb_formatted_code);\n",
       "                        }\n",
       "                        break;\n",
       "                    }\n",
       "                }\n",
       "            }, 500);\n",
       "            "
      ],
      "text/plain": [
       "<IPython.core.display.Javascript object>"
      ]
     },
     "metadata": {},
     "output_type": "display_data"
    }
   ],
   "source": [
    "# List of rows to keep\n",
    "keep_rows = [18937, 24985, 27458, 34077, 64771, 106617]\n",
    "\n",
    "# For loop to replace num_references NaNs with 0 for rows with extractable names\n",
    "for row in keep_rows:\n",
    "    df.loc[row, \"num_references\"] = 0\n",
    "\n",
    "# List of rows to remove\n",
    "remove_rows = [index for index in missing_2.index if index not in keep_rows]\n",
    "del missing_2\n",
    "\n",
    "# Dropping rows\n",
    "df.drop(remove_rows, inplace=True)\n",
    "\n",
    "# Re-checking shape\n",
    "df.shape"
   ]
  },
  {
   "cell_type": "code",
   "execution_count": 25,
   "id": "12f3bc35",
   "metadata": {},
   "outputs": [
    {
     "name": "stdout",
     "output_type": "stream",
     "text": [
      "<class 'pandas.core.frame.DataFrame'>\n",
      "Int64Index: 133900 entries, 0 to 133904\n",
      "Data columns (total 6 columns):\n",
      " #   Column          Non-Null Count   Dtype \n",
      "---  ------          --------------   ----- \n",
      " 0   month_year      133900 non-null  object\n",
      " 1   day             133900 non-null  object\n",
      " 2   name            133894 non-null  object\n",
      " 3   info            133900 non-null  object\n",
      " 4   link            133900 non-null  object\n",
      " 5   num_references  120634 non-null  object\n",
      "dtypes: object(6)\n",
      "memory usage: 7.2+ MB\n"
     ]
    },
    {
     "data": {
      "application/javascript": [
       "\n",
       "            setTimeout(function() {\n",
       "                var nbb_cell_id = 25;\n",
       "                var nbb_unformatted_code = \"df.info()\";\n",
       "                var nbb_formatted_code = \"df.info()\";\n",
       "                var nbb_cells = Jupyter.notebook.get_cells();\n",
       "                for (var i = 0; i < nbb_cells.length; ++i) {\n",
       "                    if (nbb_cells[i].input_prompt_number == nbb_cell_id) {\n",
       "                        if (nbb_cells[i].get_text() == nbb_unformatted_code) {\n",
       "                             nbb_cells[i].set_text(nbb_formatted_code);\n",
       "                        }\n",
       "                        break;\n",
       "                    }\n",
       "                }\n",
       "            }, 500);\n",
       "            "
      ],
      "text/plain": [
       "<IPython.core.display.Javascript object>"
      ]
     },
     "metadata": {},
     "output_type": "display_data"
    }
   ],
   "source": [
    "# Re-check info\n",
    "df.info()"
   ]
  },
  {
   "cell_type": "markdown",
   "id": "244f672a",
   "metadata": {},
   "source": [
    "#### Observations:\n",
    "- There are now only 6 rows with missing `name`, corresponding to the names we identified in `info`, that we will extract later.\n",
    "- The remaining missing values are all for `num_references`, so we can proceed to make another attempt at scraping this information.\n",
    "- Let us check a sample of these rows."
   ]
  },
  {
   "cell_type": "code",
   "execution_count": 26,
   "id": "1dc85a27",
   "metadata": {},
   "outputs": [
    {
     "data": {
      "text/html": [
       "<div>\n",
       "<style scoped>\n",
       "    .dataframe tbody tr th:only-of-type {\n",
       "        vertical-align: middle;\n",
       "    }\n",
       "\n",
       "    .dataframe tbody tr th {\n",
       "        vertical-align: top;\n",
       "    }\n",
       "\n",
       "    .dataframe thead th {\n",
       "        text-align: right;\n",
       "    }\n",
       "</style>\n",
       "<table border=\"1\" class=\"dataframe\">\n",
       "  <thead>\n",
       "    <tr style=\"text-align: right;\">\n",
       "      <th></th>\n",
       "      <th>month_year</th>\n",
       "      <th>day</th>\n",
       "      <th>name</th>\n",
       "      <th>info</th>\n",
       "      <th>link</th>\n",
       "      <th>num_references</th>\n",
       "    </tr>\n",
       "  </thead>\n",
       "  <tbody>\n",
       "    <tr>\n",
       "      <th>60579</th>\n",
       "      <td>February 2013</td>\n",
       "      <td>12</td>\n",
       "      <td>Jim Tysinger</td>\n",
       "      <td>, 91, American politician, member of the Georgia Senate (1969–1998), pneumonia.</td>\n",
       "      <td>https://en.wikipedia.org/wiki/Jim_Tysinger</td>\n",
       "      <td>NaN</td>\n",
       "    </tr>\n",
       "    <tr>\n",
       "      <th>48966</th>\n",
       "      <td>February 2011</td>\n",
       "      <td>10</td>\n",
       "      <td>Sam Plank</td>\n",
       "      <td>, 62, British radio broadcaster, cancer.</td>\n",
       "      <td>https://en.wikipedia.org/wiki/Sam_Plank</td>\n",
       "      <td>NaN</td>\n",
       "    </tr>\n",
       "    <tr>\n",
       "      <th>82681</th>\n",
       "      <td>April 2016</td>\n",
       "      <td>29</td>\n",
       "      <td>Tim Bacon</td>\n",
       "      <td>, 52, British restaurateur and actor.</td>\n",
       "      <td>https://en.wikipedia.org/wiki/Tim_Bacon</td>\n",
       "      <td>NaN</td>\n",
       "    </tr>\n",
       "    <tr>\n",
       "      <th>92188</th>\n",
       "      <td>September 2017</td>\n",
       "      <td>24</td>\n",
       "      <td>Al Cannava</td>\n",
       "      <td>, 93, American football player (Green Bay Packers).</td>\n",
       "      <td>https://en.wikipedia.org/wiki/Al_Cannava</td>\n",
       "      <td>NaN</td>\n",
       "    </tr>\n",
       "    <tr>\n",
       "      <th>85188</th>\n",
       "      <td>September 2016</td>\n",
       "      <td>18</td>\n",
       "      <td>Robert W. Cone</td>\n",
       "      <td>, 59, American Army general, prostate cancer.</td>\n",
       "      <td>https://en.wikipedia.org/wiki/Robert_W._Cone</td>\n",
       "      <td>NaN</td>\n",
       "    </tr>\n",
       "  </tbody>\n",
       "</table>\n",
       "</div>"
      ],
      "text/plain": [
       "           month_year day            name  \\\n",
       "60579   February 2013  12    Jim Tysinger   \n",
       "48966   February 2011  10       Sam Plank   \n",
       "82681      April 2016  29       Tim Bacon   \n",
       "92188  September 2017  24      Al Cannava   \n",
       "85188  September 2016  18  Robert W. Cone   \n",
       "\n",
       "                                                                                  info  \\\n",
       "60579  , 91, American politician, member of the Georgia Senate (1969–1998), pneumonia.   \n",
       "48966                                         , 62, British radio broadcaster, cancer.   \n",
       "82681                                            , 52, British restaurateur and actor.   \n",
       "92188                              , 93, American football player (Green Bay Packers).   \n",
       "85188                                    , 59, American Army general, prostate cancer.   \n",
       "\n",
       "                                               link num_references  \n",
       "60579    https://en.wikipedia.org/wiki/Jim_Tysinger            NaN  \n",
       "48966       https://en.wikipedia.org/wiki/Sam_Plank            NaN  \n",
       "82681       https://en.wikipedia.org/wiki/Tim_Bacon            NaN  \n",
       "92188      https://en.wikipedia.org/wiki/Al_Cannava            NaN  \n",
       "85188  https://en.wikipedia.org/wiki/Robert_W._Cone            NaN  "
      ]
     },
     "execution_count": 26,
     "metadata": {},
     "output_type": "execute_result"
    },
    {
     "data": {
      "application/javascript": [
       "\n",
       "            setTimeout(function() {\n",
       "                var nbb_cell_id = 26;\n",
       "                var nbb_unformatted_code = \"# Checking sample of rows missing num_references\\ndf[df['num_references'].isna()].sample(5)\";\n",
       "                var nbb_formatted_code = \"# Checking sample of rows missing num_references\\ndf[df[\\\"num_references\\\"].isna()].sample(5)\";\n",
       "                var nbb_cells = Jupyter.notebook.get_cells();\n",
       "                for (var i = 0; i < nbb_cells.length; ++i) {\n",
       "                    if (nbb_cells[i].input_prompt_number == nbb_cell_id) {\n",
       "                        if (nbb_cells[i].get_text() == nbb_unformatted_code) {\n",
       "                             nbb_cells[i].set_text(nbb_formatted_code);\n",
       "                        }\n",
       "                        break;\n",
       "                    }\n",
       "                }\n",
       "            }, 500);\n",
       "            "
      ],
      "text/plain": [
       "<IPython.core.display.Javascript object>"
      ]
     },
     "metadata": {},
     "output_type": "display_data"
    }
   ],
   "source": [
    "# Checking sample of rows missing num_references\n",
    "df[df[\"num_references\"].isna()].sample(5)"
   ]
  },
  {
   "cell_type": "markdown",
   "id": "d9c60388",
   "metadata": {},
   "source": [
    "#### Observations:\n",
    "- Following the links for each reveals that all 5 pages contain references.  \n",
    "    https://en.wikipedia.org/wiki/Jim_Tysinger\n",
    "    \n",
    "    https://en.wikipedia.org/wiki/Sam_Plank \n",
    "\n",
    "    https://en.wikipedia.org/wiki/Tim_Bacon \n",
    "\n",
    "    https://en.wikipedia.org/wiki/Al_Cannava  \n",
    "\n",
    "    https://en.wikipedia.org/wiki/Robert_W._Cone \n",
    "\n",
    "- Therefore, they either have a variation in the XPath followed for scraping, or Scrapy had an issue with following their links.\n",
    "- We will export a dataframe of the pages that need to be re-scraped."
   ]
  },
  {
   "cell_type": "code",
   "execution_count": 38,
   "id": "11b29fd7",
   "metadata": {},
   "outputs": [
    {
     "data": {
      "application/javascript": [
       "\n",
       "            setTimeout(function() {\n",
       "                var nbb_cell_id = 38;\n",
       "                var nbb_unformatted_code = \"# Exporting dataframe of pages to rescrape for num_references\\nrescrape_df = df[df[\\\"num_references\\\"].isna()][\\\"link\\\"]\\nrescrape_df.to_csv(\\\"rescrape_df.csv\\\", index=False)\";\n",
       "                var nbb_formatted_code = \"# Exporting dataframe of pages to rescrape for num_references\\nrescrape_df = df[df[\\\"num_references\\\"].isna()][\\\"link\\\"]\\nrescrape_df.to_csv(\\\"rescrape_df.csv\\\", index=False)\";\n",
       "                var nbb_cells = Jupyter.notebook.get_cells();\n",
       "                for (var i = 0; i < nbb_cells.length; ++i) {\n",
       "                    if (nbb_cells[i].input_prompt_number == nbb_cell_id) {\n",
       "                        if (nbb_cells[i].get_text() == nbb_unformatted_code) {\n",
       "                             nbb_cells[i].set_text(nbb_formatted_code);\n",
       "                        }\n",
       "                        break;\n",
       "                    }\n",
       "                }\n",
       "            }, 500);\n",
       "            "
      ],
      "text/plain": [
       "<IPython.core.display.Javascript object>"
      ]
     },
     "metadata": {},
     "output_type": "display_data"
    }
   ],
   "source": [
    "# Exporting dataframe of pages to rescrape for num_references\n",
    "rescrape_df = df[df[\"num_references\"].isna()][\"link\"]\n",
    "rescrape_df.to_csv(\"rescrape_df.csv\", index=False)"
   ]
  },
  {
   "cell_type": "code",
   "execution_count": null,
   "id": "76032fcf",
   "metadata": {},
   "outputs": [],
   "source": []
  }
 ],
 "metadata": {
  "kernelspec": {
   "display_name": "Python 3 (ipykernel)",
   "language": "python",
   "name": "python3"
  },
  "language_info": {
   "codemirror_mode": {
    "name": "ipython",
    "version": 3
   },
   "file_extension": ".py",
   "mimetype": "text/x-python",
   "name": "python",
   "nbconvert_exporter": "python",
   "pygments_lexer": "ipython3",
   "version": "3.9.12"
  }
 },
 "nbformat": 4,
 "nbformat_minor": 5
}
