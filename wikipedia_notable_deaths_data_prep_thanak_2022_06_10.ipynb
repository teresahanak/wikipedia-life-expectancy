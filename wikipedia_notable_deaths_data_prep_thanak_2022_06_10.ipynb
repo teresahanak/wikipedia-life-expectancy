{
 "cells": [
  {
   "cell_type": "markdown",
   "id": "6ebe3ae8",
   "metadata": {},
   "source": [
    "# Wikipedia Notable Deaths\n",
    "\n",
    "## Context\n",
    "\n",
    "The...\n",
    "\n",
    "## Objective\n",
    "\n",
    "The...\n",
    "\n",
    "## Data Dictionary\n",
    "Variable: Description"
   ]
  },
  {
   "cell_type": "markdown",
   "id": "d8050302",
   "metadata": {},
   "source": [
    "### Data Collection\n",
    "Scraped on 6/9/22 with scrapy.\n",
    "\n",
    "Main site: https://en.wikipedia.org/wiki/Lists_of_deaths_by_year\n",
    "Start_url: https://en.wikipedia.org/wiki/Deaths_in_January_1994\n",
    "paginating through May, 2022 successfully.\n",
    "Reference count scraped separately,due to pagination, to maintain original order in first dataset.\n",
    "June, 20222 as the current month had inconsistent formatting and was scraped separately. \n",
    "~13,000 missing entries for reference count.\n",
    "\n",
    "6/10/22 set out to id links with missing reference count to rescrape."
   ]
  },
  {
   "cell_type": "markdown",
   "id": "3a69b991",
   "metadata": {},
   "source": [
    "## Importing necessary libraries"
   ]
  },
  {
   "cell_type": "code",
   "execution_count": 1,
   "id": "9042061d",
   "metadata": {},
   "outputs": [],
   "source": [
    "# To limit number of threads in numpy and thereby prevent known dataleak associated with KMeans\n",
    "# Note:  this cell must be run BEFORE installing numpy to have desired effect\n",
    "import os\n",
    "\n",
    "os.environ[\"OMP_NUM_THREADS\"] = \"1\""
   ]
  },
  {
   "cell_type": "code",
   "execution_count": 2,
   "id": "ec4cc062",
   "metadata": {},
   "outputs": [
    {
     "data": {
      "application/javascript": [
       "\n",
       "            setTimeout(function() {\n",
       "                var nbb_cell_id = 2;\n",
       "                var nbb_unformatted_code = \"# To structure code automatically\\n%load_ext nb_black\\n\\n# To import sqlite databases\\nimport sqlite3 as sql\\n\\n# To help with reading and manipulating data\\nimport pandas as pd\\nimport numpy as np\\n\\n# To help with data visualization\\nimport matplotlib.pyplot as plt\\nimport seaborn as sns\\nfrom sklearn.manifold import TSNE\\nfrom sklearn.decomposition import PCA\\n\\n# To be used for data scaling\\nfrom sklearn.preprocessing import StandardScaler\\n\\n# To compute distances\\nfrom scipy.spatial.distance import cdist, pdist\\n\\n# To define maximum number of columns to be displayed in a dataframe\\npd.set_option(\\\"display.max_columns\\\", None)\\n# To define the maximum number of rows to be displayed in a dataframe\\npd.set_option(\\\"display.max_rows\\\", 200)\\n\\n# To perform k-means clustering and compute silhouette scores\\nfrom sklearn.cluster import KMeans\\nfrom sklearn.metrics import silhouette_score\\n\\n# To visualize the elbow curve and silhouette scores\\nfrom yellowbrick.cluster import KElbowVisualizer, SilhouetteVisualizer\\nfrom yellowbrick.style.palettes import PALETTES\\n\\n# To perform hierarchical clustering, compute cophenetic correlation, and create dendrograms\\nfrom sklearn.cluster import AgglomerativeClustering\\nfrom scipy.cluster.hierarchy import dendrogram, linkage, cophenet\\n\\n# To supress scientific notations for a dataframe\\npd.set_option(\\\"display.float_format\\\", lambda x: \\\"%.3f\\\" % x)\\n\\n# To supress warnings\\nimport warnings\\n\\nwarnings.filterwarnings(\\\"ignore\\\")\\n\\n# To set some visualization attributes\\npd.set_option(\\\"max_colwidth\\\", 150)\\nsns.set_theme()\\nsns.set_palette(\\n    (\\n        \\\"midnightblue\\\",\\n        \\\"goldenrod\\\",\\n        \\\"maroon\\\",\\n        \\\"darkolivegreen\\\",\\n        \\\"cadetblue\\\",\\n        \\\"tab:purple\\\",\\n        \\\"yellowgreen\\\",\\n    )\\n)\\nplt.rc(\\\"font\\\", size=12)\\nplt.rc(\\\"axes\\\", titlesize=15)\\nplt.rc(\\\"axes\\\", labelsize=14)\\nplt.rc(\\\"xtick\\\", labelsize=13)\\nplt.rc(\\\"ytick\\\", labelsize=13)\\nplt.rc(\\\"legend\\\", fontsize=13)\\nplt.rc(\\\"legend\\\", fontsize=14)\\nplt.rc(\\\"figure\\\", titlesize=16)\";\n",
       "                var nbb_formatted_code = \"# To structure code automatically\\n%load_ext nb_black\\n\\n# To import sqlite databases\\nimport sqlite3 as sql\\n\\n# To help with reading and manipulating data\\nimport pandas as pd\\nimport numpy as np\\n\\n# To help with data visualization\\nimport matplotlib.pyplot as plt\\nimport seaborn as sns\\nfrom sklearn.manifold import TSNE\\nfrom sklearn.decomposition import PCA\\n\\n# To be used for data scaling\\nfrom sklearn.preprocessing import StandardScaler\\n\\n# To compute distances\\nfrom scipy.spatial.distance import cdist, pdist\\n\\n# To define maximum number of columns to be displayed in a dataframe\\npd.set_option(\\\"display.max_columns\\\", None)\\n# To define the maximum number of rows to be displayed in a dataframe\\npd.set_option(\\\"display.max_rows\\\", 200)\\n\\n# To perform k-means clustering and compute silhouette scores\\nfrom sklearn.cluster import KMeans\\nfrom sklearn.metrics import silhouette_score\\n\\n# To visualize the elbow curve and silhouette scores\\nfrom yellowbrick.cluster import KElbowVisualizer, SilhouetteVisualizer\\nfrom yellowbrick.style.palettes import PALETTES\\n\\n# To perform hierarchical clustering, compute cophenetic correlation, and create dendrograms\\nfrom sklearn.cluster import AgglomerativeClustering\\nfrom scipy.cluster.hierarchy import dendrogram, linkage, cophenet\\n\\n# To supress scientific notations for a dataframe\\npd.set_option(\\\"display.float_format\\\", lambda x: \\\"%.3f\\\" % x)\\n\\n# To supress warnings\\nimport warnings\\n\\nwarnings.filterwarnings(\\\"ignore\\\")\\n\\n# To set some visualization attributes\\npd.set_option(\\\"max_colwidth\\\", 150)\\nsns.set_theme()\\nsns.set_palette(\\n    (\\n        \\\"midnightblue\\\",\\n        \\\"goldenrod\\\",\\n        \\\"maroon\\\",\\n        \\\"darkolivegreen\\\",\\n        \\\"cadetblue\\\",\\n        \\\"tab:purple\\\",\\n        \\\"yellowgreen\\\",\\n    )\\n)\\nplt.rc(\\\"font\\\", size=12)\\nplt.rc(\\\"axes\\\", titlesize=15)\\nplt.rc(\\\"axes\\\", labelsize=14)\\nplt.rc(\\\"xtick\\\", labelsize=13)\\nplt.rc(\\\"ytick\\\", labelsize=13)\\nplt.rc(\\\"legend\\\", fontsize=13)\\nplt.rc(\\\"legend\\\", fontsize=14)\\nplt.rc(\\\"figure\\\", titlesize=16)\";\n",
       "                var nbb_cells = Jupyter.notebook.get_cells();\n",
       "                for (var i = 0; i < nbb_cells.length; ++i) {\n",
       "                    if (nbb_cells[i].input_prompt_number == nbb_cell_id) {\n",
       "                        if (nbb_cells[i].get_text() == nbb_unformatted_code) {\n",
       "                             nbb_cells[i].set_text(nbb_formatted_code);\n",
       "                        }\n",
       "                        break;\n",
       "                    }\n",
       "                }\n",
       "            }, 500);\n",
       "            "
      ],
      "text/plain": [
       "<IPython.core.display.Javascript object>"
      ]
     },
     "metadata": {},
     "output_type": "display_data"
    }
   ],
   "source": [
    "# To structure code automatically\n",
    "%load_ext nb_black\n",
    "\n",
    "# To import sqlite databases\n",
    "import sqlite3 as sql\n",
    "\n",
    "# To help with reading and manipulating data\n",
    "import pandas as pd\n",
    "import numpy as np\n",
    "\n",
    "# To help with data visualization\n",
    "import matplotlib.pyplot as plt\n",
    "import seaborn as sns\n",
    "from sklearn.manifold import TSNE\n",
    "from sklearn.decomposition import PCA\n",
    "\n",
    "# To be used for data scaling\n",
    "from sklearn.preprocessing import StandardScaler\n",
    "\n",
    "# To compute distances\n",
    "from scipy.spatial.distance import cdist, pdist\n",
    "\n",
    "# To define maximum number of columns to be displayed in a dataframe\n",
    "pd.set_option(\"display.max_columns\", None)\n",
    "# To define the maximum number of rows to be displayed in a dataframe\n",
    "pd.set_option(\"display.max_rows\", 200)\n",
    "\n",
    "# To perform k-means clustering and compute silhouette scores\n",
    "from sklearn.cluster import KMeans\n",
    "from sklearn.metrics import silhouette_score\n",
    "\n",
    "# To visualize the elbow curve and silhouette scores\n",
    "from yellowbrick.cluster import KElbowVisualizer, SilhouetteVisualizer\n",
    "from yellowbrick.style.palettes import PALETTES\n",
    "\n",
    "# To perform hierarchical clustering, compute cophenetic correlation, and create dendrograms\n",
    "from sklearn.cluster import AgglomerativeClustering\n",
    "from scipy.cluster.hierarchy import dendrogram, linkage, cophenet\n",
    "\n",
    "# To supress scientific notations for a dataframe\n",
    "pd.set_option(\"display.float_format\", lambda x: \"%.3f\" % x)\n",
    "\n",
    "# To supress warnings\n",
    "import warnings\n",
    "\n",
    "warnings.filterwarnings(\"ignore\")\n",
    "\n",
    "# To set some visualization attributes\n",
    "pd.set_option(\"max_colwidth\", 150)\n",
    "sns.set_theme()\n",
    "sns.set_palette(\n",
    "    (\n",
    "        \"midnightblue\",\n",
    "        \"goldenrod\",\n",
    "        \"maroon\",\n",
    "        \"darkolivegreen\",\n",
    "        \"cadetblue\",\n",
    "        \"tab:purple\",\n",
    "        \"yellowgreen\",\n",
    "    )\n",
    ")\n",
    "plt.rc(\"font\", size=12)\n",
    "plt.rc(\"axes\", titlesize=15)\n",
    "plt.rc(\"axes\", labelsize=14)\n",
    "plt.rc(\"xtick\", labelsize=13)\n",
    "plt.rc(\"ytick\", labelsize=13)\n",
    "plt.rc(\"legend\", fontsize=13)\n",
    "plt.rc(\"legend\", fontsize=14)\n",
    "plt.rc(\"figure\", titlesize=16)"
   ]
  },
  {
   "cell_type": "markdown",
   "id": "1770d27e",
   "metadata": {},
   "source": [
    "## Data Overview"
   ]
  },
  {
   "cell_type": "markdown",
   "id": "1cb57e5b",
   "metadata": {},
   "source": [
    "### Reading, sampling, and checking data shape"
   ]
  },
  {
   "cell_type": "markdown",
   "id": "d1ff61a3",
   "metadata": {},
   "source": [
    "### January 1994 through May 2022 Data (without reference counts)"
   ]
  },
  {
   "cell_type": "code",
   "execution_count": 3,
   "id": "9e70f5b0",
   "metadata": {},
   "outputs": [
    {
     "name": "stdout",
     "output_type": "stream",
     "text": [
      "There are 133769 rows and 5 columns.\n"
     ]
    },
    {
     "data": {
      "text/html": [
       "<div>\n",
       "<style scoped>\n",
       "    .dataframe tbody tr th:only-of-type {\n",
       "        vertical-align: middle;\n",
       "    }\n",
       "\n",
       "    .dataframe tbody tr th {\n",
       "        vertical-align: top;\n",
       "    }\n",
       "\n",
       "    .dataframe thead th {\n",
       "        text-align: right;\n",
       "    }\n",
       "</style>\n",
       "<table border=\"1\" class=\"dataframe\">\n",
       "  <thead>\n",
       "    <tr style=\"text-align: right;\">\n",
       "      <th></th>\n",
       "      <th>month_year</th>\n",
       "      <th>day</th>\n",
       "      <th>name</th>\n",
       "      <th>info</th>\n",
       "      <th>link</th>\n",
       "    </tr>\n",
       "  </thead>\n",
       "  <tbody>\n",
       "    <tr>\n",
       "      <th>0</th>\n",
       "      <td>January 1994</td>\n",
       "      <td>1</td>\n",
       "      <td>William Chappell</td>\n",
       "      <td>, 86, British dancer, ballet designer and director.</td>\n",
       "      <td>https://en.wikipedia.org/wiki/William_Chappell_(dancer)</td>\n",
       "    </tr>\n",
       "    <tr>\n",
       "      <th>1</th>\n",
       "      <td>January 1994</td>\n",
       "      <td>1</td>\n",
       "      <td>Raymond Crotty</td>\n",
       "      <td>, 68, Irish economist, writer, and academic.</td>\n",
       "      <td>https://en.wikipedia.org/wiki/Raymond_Crotty</td>\n",
       "    </tr>\n",
       "  </tbody>\n",
       "</table>\n",
       "</div>"
      ],
      "text/plain": [
       "     month_year day              name  \\\n",
       "0  January 1994   1  William Chappell   \n",
       "1  January 1994   1    Raymond Crotty   \n",
       "\n",
       "                                                  info  \\\n",
       "0  , 86, British dancer, ballet designer and director.   \n",
       "1         , 68, Irish economist, writer, and academic.   \n",
       "\n",
       "                                                      link  \n",
       "0  https://en.wikipedia.org/wiki/William_Chappell_(dancer)  \n",
       "1             https://en.wikipedia.org/wiki/Raymond_Crotty  "
      ]
     },
     "execution_count": 3,
     "metadata": {},
     "output_type": "execute_result"
    },
    {
     "data": {
      "application/javascript": [
       "\n",
       "            setTimeout(function() {\n",
       "                var nbb_cell_id = 3;\n",
       "                var nbb_unformatted_code = \"# Reading the wp_deaths_94_to_22 dataset from sql db and table\\nconn = sql.connect(\\\"wp_deaths_94_to_22.db\\\")\\nraw_94_to_22 = pd.read_sql(\\\"SELECT * FROM wp_deaths_94_to_22\\\", conn)\\n\\n# Making a working copy\\ndf_94_to_22 = raw_94_to_22.copy()\\n\\n# Checking the shape\\nprint(f\\\"There are {df_94_to_22.shape[0]} rows and {df_94_to_22.shape[1]} columns.\\\")\\n\\n# Checking first 2 rows of the data\\ndf_94_to_22.head(2)\";\n",
       "                var nbb_formatted_code = \"# Reading the wp_deaths_94_to_22 dataset from sql db and table\\nconn = sql.connect(\\\"wp_deaths_94_to_22.db\\\")\\nraw_94_to_22 = pd.read_sql(\\\"SELECT * FROM wp_deaths_94_to_22\\\", conn)\\n\\n# Making a working copy\\ndf_94_to_22 = raw_94_to_22.copy()\\n\\n# Checking the shape\\nprint(f\\\"There are {df_94_to_22.shape[0]} rows and {df_94_to_22.shape[1]} columns.\\\")\\n\\n# Checking first 2 rows of the data\\ndf_94_to_22.head(2)\";\n",
       "                var nbb_cells = Jupyter.notebook.get_cells();\n",
       "                for (var i = 0; i < nbb_cells.length; ++i) {\n",
       "                    if (nbb_cells[i].input_prompt_number == nbb_cell_id) {\n",
       "                        if (nbb_cells[i].get_text() == nbb_unformatted_code) {\n",
       "                             nbb_cells[i].set_text(nbb_formatted_code);\n",
       "                        }\n",
       "                        break;\n",
       "                    }\n",
       "                }\n",
       "            }, 500);\n",
       "            "
      ],
      "text/plain": [
       "<IPython.core.display.Javascript object>"
      ]
     },
     "metadata": {},
     "output_type": "display_data"
    }
   ],
   "source": [
    "# Reading the wp_deaths_94_to_22 dataset from sql db and table\n",
    "conn = sql.connect(\"wp_deaths_94_to_22.db\")\n",
    "raw_94_to_22 = pd.read_sql(\"SELECT * FROM wp_deaths_94_to_22\", conn)\n",
    "\n",
    "# Making a working copy\n",
    "df_94_to_22 = raw_94_to_22.copy()\n",
    "\n",
    "# Checking the shape\n",
    "print(f\"There are {df_94_to_22.shape[0]} rows and {df_94_to_22.shape[1]} columns.\")\n",
    "\n",
    "# Checking first 2 rows of the data\n",
    "df_94_to_22.head(2)"
   ]
  },
  {
   "cell_type": "code",
   "execution_count": 4,
   "id": "c6bf2b75",
   "metadata": {},
   "outputs": [
    {
     "data": {
      "text/html": [
       "<div>\n",
       "<style scoped>\n",
       "    .dataframe tbody tr th:only-of-type {\n",
       "        vertical-align: middle;\n",
       "    }\n",
       "\n",
       "    .dataframe tbody tr th {\n",
       "        vertical-align: top;\n",
       "    }\n",
       "\n",
       "    .dataframe thead th {\n",
       "        text-align: right;\n",
       "    }\n",
       "</style>\n",
       "<table border=\"1\" class=\"dataframe\">\n",
       "  <thead>\n",
       "    <tr style=\"text-align: right;\">\n",
       "      <th></th>\n",
       "      <th>month_year</th>\n",
       "      <th>day</th>\n",
       "      <th>name</th>\n",
       "      <th>info</th>\n",
       "      <th>link</th>\n",
       "    </tr>\n",
       "  </thead>\n",
       "  <tbody>\n",
       "    <tr>\n",
       "      <th>133767</th>\n",
       "      <td>May 2022</td>\n",
       "      <td>31</td>\n",
       "      <td>Dave Smith</td>\n",
       "      <td>, 72, American sound engineer, founder of Sequential.</td>\n",
       "      <td>https://en.wikipedia.org/wiki/Dave_Smith_(engineer)</td>\n",
       "    </tr>\n",
       "    <tr>\n",
       "      <th>133768</th>\n",
       "      <td>May 2022</td>\n",
       "      <td>31</td>\n",
       "      <td>Wang Zherong</td>\n",
       "      <td>, 86, Chinese tank designer, member of the Chinese Academy of Engineering.</td>\n",
       "      <td>https://en.wikipedia.org/wiki/Wang_Zherong</td>\n",
       "    </tr>\n",
       "  </tbody>\n",
       "</table>\n",
       "</div>"
      ],
      "text/plain": [
       "       month_year day          name  \\\n",
       "133767   May 2022  31    Dave Smith   \n",
       "133768   May 2022  31  Wang Zherong   \n",
       "\n",
       "                                                                              info  \\\n",
       "133767                       , 72, American sound engineer, founder of Sequential.   \n",
       "133768  , 86, Chinese tank designer, member of the Chinese Academy of Engineering.   \n",
       "\n",
       "                                                       link  \n",
       "133767  https://en.wikipedia.org/wiki/Dave_Smith_(engineer)  \n",
       "133768           https://en.wikipedia.org/wiki/Wang_Zherong  "
      ]
     },
     "execution_count": 4,
     "metadata": {},
     "output_type": "execute_result"
    },
    {
     "data": {
      "application/javascript": [
       "\n",
       "            setTimeout(function() {\n",
       "                var nbb_cell_id = 4;\n",
       "                var nbb_unformatted_code = \"# Checking last 2 rows of the data\\ndf_94_to_22.tail(2)\";\n",
       "                var nbb_formatted_code = \"# Checking last 2 rows of the data\\ndf_94_to_22.tail(2)\";\n",
       "                var nbb_cells = Jupyter.notebook.get_cells();\n",
       "                for (var i = 0; i < nbb_cells.length; ++i) {\n",
       "                    if (nbb_cells[i].input_prompt_number == nbb_cell_id) {\n",
       "                        if (nbb_cells[i].get_text() == nbb_unformatted_code) {\n",
       "                             nbb_cells[i].set_text(nbb_formatted_code);\n",
       "                        }\n",
       "                        break;\n",
       "                    }\n",
       "                }\n",
       "            }, 500);\n",
       "            "
      ],
      "text/plain": [
       "<IPython.core.display.Javascript object>"
      ]
     },
     "metadata": {},
     "output_type": "display_data"
    }
   ],
   "source": [
    "# Checking last 2 rows of the data\n",
    "df_94_to_22.tail(2)"
   ]
  },
  {
   "cell_type": "code",
   "execution_count": 5,
   "id": "bd61081a",
   "metadata": {},
   "outputs": [
    {
     "data": {
      "text/html": [
       "<div>\n",
       "<style scoped>\n",
       "    .dataframe tbody tr th:only-of-type {\n",
       "        vertical-align: middle;\n",
       "    }\n",
       "\n",
       "    .dataframe tbody tr th {\n",
       "        vertical-align: top;\n",
       "    }\n",
       "\n",
       "    .dataframe thead th {\n",
       "        text-align: right;\n",
       "    }\n",
       "</style>\n",
       "<table border=\"1\" class=\"dataframe\">\n",
       "  <thead>\n",
       "    <tr style=\"text-align: right;\">\n",
       "      <th></th>\n",
       "      <th>month_year</th>\n",
       "      <th>day</th>\n",
       "      <th>name</th>\n",
       "      <th>info</th>\n",
       "      <th>link</th>\n",
       "    </tr>\n",
       "  </thead>\n",
       "  <tbody>\n",
       "    <tr>\n",
       "      <th>22651</th>\n",
       "      <td>January 2003</td>\n",
       "      <td>17</td>\n",
       "      <td>Richard Crenna</td>\n",
       "      <td>, 74, American actor (, ), heart failure.</td>\n",
       "      <td>https://en.wikipedia.org/wiki/Richard_Crenna</td>\n",
       "    </tr>\n",
       "    <tr>\n",
       "      <th>88354</th>\n",
       "      <td>February 2017</td>\n",
       "      <td>26</td>\n",
       "      <td>Ray Stokes</td>\n",
       "      <td>, 92, Australian footballer.</td>\n",
       "      <td>https://en.wikipedia.org/wiki/Ray_Stokes</td>\n",
       "    </tr>\n",
       "    <tr>\n",
       "      <th>40601</th>\n",
       "      <td>April 2009</td>\n",
       "      <td>3</td>\n",
       "      <td>Crodowaldo Pavan</td>\n",
       "      <td>, 89, Brazilian biologist and geneticist, multiple organ dysfunction syndrome and cancer.</td>\n",
       "      <td>https://en.wikipedia.org/wiki/Crodowaldo_Pavan</td>\n",
       "    </tr>\n",
       "    <tr>\n",
       "      <th>100011</th>\n",
       "      <td>October 2018</td>\n",
       "      <td>29</td>\n",
       "      <td>Li Xifan</td>\n",
       "      <td>, 90, Chinese literary scholar and redologist.</td>\n",
       "      <td>https://en.wikipedia.org/wiki/Li_Xifan</td>\n",
       "    </tr>\n",
       "    <tr>\n",
       "      <th>30384</th>\n",
       "      <td>April 2006</td>\n",
       "      <td>4</td>\n",
       "      <td>Vickery Turner</td>\n",
       "      <td>, 61, British actress of the 60's.</td>\n",
       "      <td>https://en.wikipedia.org/wiki/Vickery_Turner</td>\n",
       "    </tr>\n",
       "  </tbody>\n",
       "</table>\n",
       "</div>"
      ],
      "text/plain": [
       "           month_year day              name  \\\n",
       "22651    January 2003  17    Richard Crenna   \n",
       "88354   February 2017  26        Ray Stokes   \n",
       "40601      April 2009   3  Crodowaldo Pavan   \n",
       "100011   October 2018  29          Li Xifan   \n",
       "30384      April 2006   4    Vickery Turner   \n",
       "\n",
       "                                                                                             info  \\\n",
       "22651                                                   , 74, American actor (, ), heart failure.   \n",
       "88354                                                                , 92, Australian footballer.   \n",
       "40601   , 89, Brazilian biologist and geneticist, multiple organ dysfunction syndrome and cancer.   \n",
       "100011                                             , 90, Chinese literary scholar and redologist.   \n",
       "30384                                                          , 61, British actress of the 60's.   \n",
       "\n",
       "                                                  link  \n",
       "22651     https://en.wikipedia.org/wiki/Richard_Crenna  \n",
       "88354         https://en.wikipedia.org/wiki/Ray_Stokes  \n",
       "40601   https://en.wikipedia.org/wiki/Crodowaldo_Pavan  \n",
       "100011          https://en.wikipedia.org/wiki/Li_Xifan  \n",
       "30384     https://en.wikipedia.org/wiki/Vickery_Turner  "
      ]
     },
     "execution_count": 5,
     "metadata": {},
     "output_type": "execute_result"
    },
    {
     "data": {
      "application/javascript": [
       "\n",
       "            setTimeout(function() {\n",
       "                var nbb_cell_id = 5;\n",
       "                var nbb_unformatted_code = \"# Checking a sample of the data\\ndf_94_to_22.sample(5)\";\n",
       "                var nbb_formatted_code = \"# Checking a sample of the data\\ndf_94_to_22.sample(5)\";\n",
       "                var nbb_cells = Jupyter.notebook.get_cells();\n",
       "                for (var i = 0; i < nbb_cells.length; ++i) {\n",
       "                    if (nbb_cells[i].input_prompt_number == nbb_cell_id) {\n",
       "                        if (nbb_cells[i].get_text() == nbb_unformatted_code) {\n",
       "                             nbb_cells[i].set_text(nbb_formatted_code);\n",
       "                        }\n",
       "                        break;\n",
       "                    }\n",
       "                }\n",
       "            }, 500);\n",
       "            "
      ],
      "text/plain": [
       "<IPython.core.display.Javascript object>"
      ]
     },
     "metadata": {},
     "output_type": "display_data"
    }
   ],
   "source": [
    "# Checking a sample of the data\n",
    "df_94_to_22.sample(5)"
   ]
  },
  {
   "cell_type": "markdown",
   "id": "68716eec",
   "metadata": {},
   "source": [
    "#### Observations:\n",
    "- There are 133,769 rows and 5 columns in the data from January, 1994 through May, 2022.\n",
    "- The number of references was scraped separately."
   ]
  },
  {
   "cell_type": "markdown",
   "id": "e04c7d4c",
   "metadata": {},
   "source": [
    "### January 1994 through May 2022 Reference Count Data"
   ]
  },
  {
   "cell_type": "code",
   "execution_count": 6,
   "id": "bb9b491b",
   "metadata": {},
   "outputs": [
    {
     "name": "stdout",
     "output_type": "stream",
     "text": [
      "There are 120368 rows and 2 columns.\n"
     ]
    },
    {
     "data": {
      "text/html": [
       "<div>\n",
       "<style scoped>\n",
       "    .dataframe tbody tr th:only-of-type {\n",
       "        vertical-align: middle;\n",
       "    }\n",
       "\n",
       "    .dataframe tbody tr th {\n",
       "        vertical-align: top;\n",
       "    }\n",
       "\n",
       "    .dataframe thead th {\n",
       "        text-align: right;\n",
       "    }\n",
       "</style>\n",
       "<table border=\"1\" class=\"dataframe\">\n",
       "  <thead>\n",
       "    <tr style=\"text-align: right;\">\n",
       "      <th></th>\n",
       "      <th>link</th>\n",
       "      <th>num_references</th>\n",
       "    </tr>\n",
       "  </thead>\n",
       "  <tbody>\n",
       "    <tr>\n",
       "      <th>0</th>\n",
       "      <td>https://en.wikipedia.org/wiki/Lys_Gauty</td>\n",
       "      <td>5</td>\n",
       "    </tr>\n",
       "    <tr>\n",
       "      <th>1</th>\n",
       "      <td>https://en.wikipedia.org/wiki/William_Chappell_(dancer)</td>\n",
       "      <td>21</td>\n",
       "    </tr>\n",
       "  </tbody>\n",
       "</table>\n",
       "</div>"
      ],
      "text/plain": [
       "                                                      link num_references\n",
       "0                  https://en.wikipedia.org/wiki/Lys_Gauty              5\n",
       "1  https://en.wikipedia.org/wiki/William_Chappell_(dancer)             21"
      ]
     },
     "execution_count": 6,
     "metadata": {},
     "output_type": "execute_result"
    },
    {
     "data": {
      "application/javascript": [
       "\n",
       "            setTimeout(function() {\n",
       "                var nbb_cell_id = 6;\n",
       "                var nbb_unformatted_code = \"# Reading the wp_reference_counts_2 dataset from sql db and table\\nconn = sql.connect(\\\"wp_reference_counts_2.db\\\")\\nraw_reference_counts = pd.read_sql(\\\"SELECT * FROM wp_reference_counts_2\\\", conn)\\n\\n# Making a working copy\\ndf_reference_counts = raw_reference_counts.copy()\\n\\n# Checking the shape\\nprint(\\n    f\\\"There are {df_reference_counts.shape[0]} rows and {df_reference_counts.shape[1]} columns.\\\"\\n)\\n\\n# Checking first 2 rows of the data\\ndf_reference_counts.head(2)\";\n",
       "                var nbb_formatted_code = \"# Reading the wp_reference_counts_2 dataset from sql db and table\\nconn = sql.connect(\\\"wp_reference_counts_2.db\\\")\\nraw_reference_counts = pd.read_sql(\\\"SELECT * FROM wp_reference_counts_2\\\", conn)\\n\\n# Making a working copy\\ndf_reference_counts = raw_reference_counts.copy()\\n\\n# Checking the shape\\nprint(\\n    f\\\"There are {df_reference_counts.shape[0]} rows and {df_reference_counts.shape[1]} columns.\\\"\\n)\\n\\n# Checking first 2 rows of the data\\ndf_reference_counts.head(2)\";\n",
       "                var nbb_cells = Jupyter.notebook.get_cells();\n",
       "                for (var i = 0; i < nbb_cells.length; ++i) {\n",
       "                    if (nbb_cells[i].input_prompt_number == nbb_cell_id) {\n",
       "                        if (nbb_cells[i].get_text() == nbb_unformatted_code) {\n",
       "                             nbb_cells[i].set_text(nbb_formatted_code);\n",
       "                        }\n",
       "                        break;\n",
       "                    }\n",
       "                }\n",
       "            }, 500);\n",
       "            "
      ],
      "text/plain": [
       "<IPython.core.display.Javascript object>"
      ]
     },
     "metadata": {},
     "output_type": "display_data"
    }
   ],
   "source": [
    "# Reading the wp_reference_counts_2 dataset from sql db and table\n",
    "conn = sql.connect(\"wp_reference_counts_2.db\")\n",
    "raw_reference_counts = pd.read_sql(\"SELECT * FROM wp_reference_counts_2\", conn)\n",
    "\n",
    "# Making a working copy\n",
    "df_reference_counts = raw_reference_counts.copy()\n",
    "\n",
    "# Checking the shape\n",
    "print(\n",
    "    f\"There are {df_reference_counts.shape[0]} rows and {df_reference_counts.shape[1]} columns.\"\n",
    ")\n",
    "\n",
    "# Checking first 2 rows of the data\n",
    "df_reference_counts.head(2)"
   ]
  },
  {
   "cell_type": "code",
   "execution_count": 7,
   "id": "466e0350",
   "metadata": {},
   "outputs": [
    {
     "data": {
      "text/html": [
       "<div>\n",
       "<style scoped>\n",
       "    .dataframe tbody tr th:only-of-type {\n",
       "        vertical-align: middle;\n",
       "    }\n",
       "\n",
       "    .dataframe tbody tr th {\n",
       "        vertical-align: top;\n",
       "    }\n",
       "\n",
       "    .dataframe thead th {\n",
       "        text-align: right;\n",
       "    }\n",
       "</style>\n",
       "<table border=\"1\" class=\"dataframe\">\n",
       "  <thead>\n",
       "    <tr style=\"text-align: right;\">\n",
       "      <th></th>\n",
       "      <th>link</th>\n",
       "      <th>num_references</th>\n",
       "    </tr>\n",
       "  </thead>\n",
       "  <tbody>\n",
       "    <tr>\n",
       "      <th>120366</th>\n",
       "      <td>https://en.wikipedia.org/wiki/Shirley_Thomas_(USC_professor)</td>\n",
       "      <td>6</td>\n",
       "    </tr>\n",
       "    <tr>\n",
       "      <th>120367</th>\n",
       "      <td>https://en.wikipedia.org/wiki/James_Doohan</td>\n",
       "      <td>52</td>\n",
       "    </tr>\n",
       "  </tbody>\n",
       "</table>\n",
       "</div>"
      ],
      "text/plain": [
       "                                                                link  \\\n",
       "120366  https://en.wikipedia.org/wiki/Shirley_Thomas_(USC_professor)   \n",
       "120367                    https://en.wikipedia.org/wiki/James_Doohan   \n",
       "\n",
       "       num_references  \n",
       "120366              6  \n",
       "120367             52  "
      ]
     },
     "execution_count": 7,
     "metadata": {},
     "output_type": "execute_result"
    },
    {
     "data": {
      "application/javascript": [
       "\n",
       "            setTimeout(function() {\n",
       "                var nbb_cell_id = 7;\n",
       "                var nbb_unformatted_code = \"# Checking last 2 rows of the data\\ndf_reference_counts.tail(2)\";\n",
       "                var nbb_formatted_code = \"# Checking last 2 rows of the data\\ndf_reference_counts.tail(2)\";\n",
       "                var nbb_cells = Jupyter.notebook.get_cells();\n",
       "                for (var i = 0; i < nbb_cells.length; ++i) {\n",
       "                    if (nbb_cells[i].input_prompt_number == nbb_cell_id) {\n",
       "                        if (nbb_cells[i].get_text() == nbb_unformatted_code) {\n",
       "                             nbb_cells[i].set_text(nbb_formatted_code);\n",
       "                        }\n",
       "                        break;\n",
       "                    }\n",
       "                }\n",
       "            }, 500);\n",
       "            "
      ],
      "text/plain": [
       "<IPython.core.display.Javascript object>"
      ]
     },
     "metadata": {},
     "output_type": "display_data"
    }
   ],
   "source": [
    "# Checking last 2 rows of the data\n",
    "df_reference_counts.tail(2)"
   ]
  },
  {
   "cell_type": "code",
   "execution_count": 8,
   "id": "c2650ef5",
   "metadata": {},
   "outputs": [
    {
     "data": {
      "text/html": [
       "<div>\n",
       "<style scoped>\n",
       "    .dataframe tbody tr th:only-of-type {\n",
       "        vertical-align: middle;\n",
       "    }\n",
       "\n",
       "    .dataframe tbody tr th {\n",
       "        vertical-align: top;\n",
       "    }\n",
       "\n",
       "    .dataframe thead th {\n",
       "        text-align: right;\n",
       "    }\n",
       "</style>\n",
       "<table border=\"1\" class=\"dataframe\">\n",
       "  <thead>\n",
       "    <tr style=\"text-align: right;\">\n",
       "      <th></th>\n",
       "      <th>link</th>\n",
       "      <th>num_references</th>\n",
       "    </tr>\n",
       "  </thead>\n",
       "  <tbody>\n",
       "    <tr>\n",
       "      <th>64325</th>\n",
       "      <td>https://en.wikipedia.org/wiki/Doe_B</td>\n",
       "      <td>49</td>\n",
       "    </tr>\n",
       "    <tr>\n",
       "      <th>97370</th>\n",
       "      <td>https://en.wikipedia.org/wiki/Adrian_Henri</td>\n",
       "      <td>4</td>\n",
       "    </tr>\n",
       "    <tr>\n",
       "      <th>90945</th>\n",
       "      <td>https://en.wikipedia.org/wiki/Taiji_Kase</td>\n",
       "      <td>24</td>\n",
       "    </tr>\n",
       "    <tr>\n",
       "      <th>79741</th>\n",
       "      <td>https://en.wikipedia.org/wiki/Kamal_Mahsud</td>\n",
       "      <td>1</td>\n",
       "    </tr>\n",
       "    <tr>\n",
       "      <th>40797</th>\n",
       "      <td>https://en.wikipedia.org/wiki/Gerry_Lenfest</td>\n",
       "      <td>18</td>\n",
       "    </tr>\n",
       "  </tbody>\n",
       "</table>\n",
       "</div>"
      ],
      "text/plain": [
       "                                              link num_references\n",
       "64325          https://en.wikipedia.org/wiki/Doe_B             49\n",
       "97370   https://en.wikipedia.org/wiki/Adrian_Henri              4\n",
       "90945     https://en.wikipedia.org/wiki/Taiji_Kase             24\n",
       "79741   https://en.wikipedia.org/wiki/Kamal_Mahsud              1\n",
       "40797  https://en.wikipedia.org/wiki/Gerry_Lenfest             18"
      ]
     },
     "execution_count": 8,
     "metadata": {},
     "output_type": "execute_result"
    },
    {
     "data": {
      "application/javascript": [
       "\n",
       "            setTimeout(function() {\n",
       "                var nbb_cell_id = 8;\n",
       "                var nbb_unformatted_code = \"# Checking a sample of the data\\ndf_reference_counts.sample(5)\";\n",
       "                var nbb_formatted_code = \"# Checking a sample of the data\\ndf_reference_counts.sample(5)\";\n",
       "                var nbb_cells = Jupyter.notebook.get_cells();\n",
       "                for (var i = 0; i < nbb_cells.length; ++i) {\n",
       "                    if (nbb_cells[i].input_prompt_number == nbb_cell_id) {\n",
       "                        if (nbb_cells[i].get_text() == nbb_unformatted_code) {\n",
       "                             nbb_cells[i].set_text(nbb_formatted_code);\n",
       "                        }\n",
       "                        break;\n",
       "                    }\n",
       "                }\n",
       "            }, 500);\n",
       "            "
      ],
      "text/plain": [
       "<IPython.core.display.Javascript object>"
      ]
     },
     "metadata": {},
     "output_type": "display_data"
    }
   ],
   "source": [
    "# Checking a sample of the data\n",
    "df_reference_counts.sample(5)"
   ]
  },
  {
   "cell_type": "markdown",
   "id": "64b90499",
   "metadata": {},
   "source": [
    "#### Observations:\n",
    "- Here, we see that there are ~13,000 fewer rows for the reference data, indicating some pages were not successfully scraped to obtain the number of references for the individual.\n",
    "- After combining the three dataframes, we can examine those pages and reattempt scraping them, in order to obtain the missing information."
   ]
  },
  {
   "cell_type": "markdown",
   "id": "4ffbab7a",
   "metadata": {},
   "source": [
    "### June 2022 Data"
   ]
  },
  {
   "cell_type": "code",
   "execution_count": 9,
   "id": "fc5f0b80",
   "metadata": {},
   "outputs": [
    {
     "name": "stdout",
     "output_type": "stream",
     "text": [
      "There are 145 rows and 6 columns.\n"
     ]
    },
    {
     "data": {
      "text/html": [
       "<div>\n",
       "<style scoped>\n",
       "    .dataframe tbody tr th:only-of-type {\n",
       "        vertical-align: middle;\n",
       "    }\n",
       "\n",
       "    .dataframe tbody tr th {\n",
       "        vertical-align: top;\n",
       "    }\n",
       "\n",
       "    .dataframe thead th {\n",
       "        text-align: right;\n",
       "    }\n",
       "</style>\n",
       "<table border=\"1\" class=\"dataframe\">\n",
       "  <thead>\n",
       "    <tr style=\"text-align: right;\">\n",
       "      <th></th>\n",
       "      <th>month_year</th>\n",
       "      <th>day</th>\n",
       "      <th>name</th>\n",
       "      <th>info</th>\n",
       "      <th>link</th>\n",
       "      <th>num_references</th>\n",
       "    </tr>\n",
       "  </thead>\n",
       "  <tbody>\n",
       "    <tr>\n",
       "      <th>0</th>\n",
       "      <td>June 2022</td>\n",
       "      <td>8</td>\n",
       "      <td>Mladen Frančić</td>\n",
       "      <td>, 67, Croatian football player and manager (Vrbovec, Podravina, Al-Watani Club).</td>\n",
       "      <td>https://en.wikipedia.org/wiki/Mladen_Fran%C4%8Di%C4%87</td>\n",
       "      <td>1</td>\n",
       "    </tr>\n",
       "    <tr>\n",
       "      <th>1</th>\n",
       "      <td>June 2022</td>\n",
       "      <td>6</td>\n",
       "      <td>Valery Ryumin</td>\n",
       "      <td>, 82, Russian cosmonaut (Soyuz 25, Soyuz 32, Soyuz 35).</td>\n",
       "      <td>https://en.wikipedia.org/wiki/Valery_Ryumin</td>\n",
       "      <td>2</td>\n",
       "    </tr>\n",
       "  </tbody>\n",
       "</table>\n",
       "</div>"
      ],
      "text/plain": [
       "  month_year day            name  \\\n",
       "0  June 2022   8  Mladen Frančić   \n",
       "1  June 2022   6   Valery Ryumin   \n",
       "\n",
       "                                                                               info  \\\n",
       "0  , 67, Croatian football player and manager (Vrbovec, Podravina, Al-Watani Club).   \n",
       "1                           , 82, Russian cosmonaut (Soyuz 25, Soyuz 32, Soyuz 35).   \n",
       "\n",
       "                                                     link num_references  \n",
       "0  https://en.wikipedia.org/wiki/Mladen_Fran%C4%8Di%C4%87              1  \n",
       "1             https://en.wikipedia.org/wiki/Valery_Ryumin              2  "
      ]
     },
     "execution_count": 9,
     "metadata": {},
     "output_type": "execute_result"
    },
    {
     "data": {
      "application/javascript": [
       "\n",
       "            setTimeout(function() {\n",
       "                var nbb_cell_id = 9;\n",
       "                var nbb_unformatted_code = \"# Reading the wp_deaths_June_2022 dataset from sql db and table\\nconn = sql.connect(\\\"wp_deaths_June_2022.db\\\")\\nraw_June_2022 = pd.read_sql(\\\"SELECT * FROM wp_deaths_June_2022\\\", conn)\\n\\n# Making a working copy\\ndf_June_2022 = raw_June_2022.copy()\\n\\n# Checking the shape\\nprint(f\\\"There are {df_June_2022.shape[0]} rows and {df_June_2022.shape[1]} columns.\\\")\\n\\n# Checking first 2 rows of the data\\ndf_June_2022.head(2)\";\n",
       "                var nbb_formatted_code = \"# Reading the wp_deaths_June_2022 dataset from sql db and table\\nconn = sql.connect(\\\"wp_deaths_June_2022.db\\\")\\nraw_June_2022 = pd.read_sql(\\\"SELECT * FROM wp_deaths_June_2022\\\", conn)\\n\\n# Making a working copy\\ndf_June_2022 = raw_June_2022.copy()\\n\\n# Checking the shape\\nprint(f\\\"There are {df_June_2022.shape[0]} rows and {df_June_2022.shape[1]} columns.\\\")\\n\\n# Checking first 2 rows of the data\\ndf_June_2022.head(2)\";\n",
       "                var nbb_cells = Jupyter.notebook.get_cells();\n",
       "                for (var i = 0; i < nbb_cells.length; ++i) {\n",
       "                    if (nbb_cells[i].input_prompt_number == nbb_cell_id) {\n",
       "                        if (nbb_cells[i].get_text() == nbb_unformatted_code) {\n",
       "                             nbb_cells[i].set_text(nbb_formatted_code);\n",
       "                        }\n",
       "                        break;\n",
       "                    }\n",
       "                }\n",
       "            }, 500);\n",
       "            "
      ],
      "text/plain": [
       "<IPython.core.display.Javascript object>"
      ]
     },
     "metadata": {},
     "output_type": "display_data"
    }
   ],
   "source": [
    "# Reading the wp_deaths_June_2022 dataset from sql db and table\n",
    "conn = sql.connect(\"wp_deaths_June_2022.db\")\n",
    "raw_June_2022 = pd.read_sql(\"SELECT * FROM wp_deaths_June_2022\", conn)\n",
    "\n",
    "# Making a working copy\n",
    "df_June_2022 = raw_June_2022.copy()\n",
    "\n",
    "# Checking the shape\n",
    "print(f\"There are {df_June_2022.shape[0]} rows and {df_June_2022.shape[1]} columns.\")\n",
    "\n",
    "# Checking first 2 rows of the data\n",
    "df_June_2022.head(2)"
   ]
  },
  {
   "cell_type": "markdown",
   "id": "49a51331",
   "metadata": {},
   "source": [
    "#### Observations:\n",
    "- The June, 2022 data does not follow the same row order as the previous dataframe, which was in order of day of the month. \n",
    "- For continuity, before concatinating the two dataframes, we will sort June, 2022 by day."
   ]
  },
  {
   "cell_type": "code",
   "execution_count": 10,
   "id": "a813a0a7",
   "metadata": {},
   "outputs": [
    {
     "data": {
      "text/html": [
       "<div>\n",
       "<style scoped>\n",
       "    .dataframe tbody tr th:only-of-type {\n",
       "        vertical-align: middle;\n",
       "    }\n",
       "\n",
       "    .dataframe tbody tr th {\n",
       "        vertical-align: top;\n",
       "    }\n",
       "\n",
       "    .dataframe thead th {\n",
       "        text-align: right;\n",
       "    }\n",
       "</style>\n",
       "<table border=\"1\" class=\"dataframe\">\n",
       "  <thead>\n",
       "    <tr style=\"text-align: right;\">\n",
       "      <th></th>\n",
       "      <th>month_year</th>\n",
       "      <th>day</th>\n",
       "      <th>name</th>\n",
       "      <th>info</th>\n",
       "      <th>link</th>\n",
       "      <th>num_references</th>\n",
       "    </tr>\n",
       "  </thead>\n",
       "  <tbody>\n",
       "    <tr>\n",
       "      <th>26</th>\n",
       "      <td>June 2022</td>\n",
       "      <td>1</td>\n",
       "      <td>Richard Oldcorn</td>\n",
       "      <td>, 84, English Olympic fencer (1964, 1968, 1972).</td>\n",
       "      <td>https://en.wikipedia.org/wiki/Richard_Oldcorn</td>\n",
       "      <td>5</td>\n",
       "    </tr>\n",
       "    <tr>\n",
       "      <th>20</th>\n",
       "      <td>June 2022</td>\n",
       "      <td>1</td>\n",
       "      <td>István Szőke</td>\n",
       "      <td>, 75, Hungarian footballer (Ferencváros, national team), stroke.</td>\n",
       "      <td>https://en.wikipedia.org/wiki/Istv%C3%A1n_Sz%C5%91ke</td>\n",
       "      <td>2</td>\n",
       "    </tr>\n",
       "  </tbody>\n",
       "</table>\n",
       "</div>"
      ],
      "text/plain": [
       "   month_year day             name  \\\n",
       "26  June 2022   1  Richard Oldcorn   \n",
       "20  June 2022   1     István Szőke   \n",
       "\n",
       "                                                                info  \\\n",
       "26                  , 84, English Olympic fencer (1964, 1968, 1972).   \n",
       "20  , 75, Hungarian footballer (Ferencváros, national team), stroke.   \n",
       "\n",
       "                                                    link num_references  \n",
       "26         https://en.wikipedia.org/wiki/Richard_Oldcorn              5  \n",
       "20  https://en.wikipedia.org/wiki/Istv%C3%A1n_Sz%C5%91ke              2  "
      ]
     },
     "execution_count": 10,
     "metadata": {},
     "output_type": "execute_result"
    },
    {
     "data": {
      "application/javascript": [
       "\n",
       "            setTimeout(function() {\n",
       "                var nbb_cell_id = 10;\n",
       "                var nbb_unformatted_code = \"# Sorting by day\\ndf_June_2022.sort_values(by=\\\"day\\\", inplace=True)\\n\\n# Re-checking first 2 rows of the data\\ndf_June_2022.head(2)\";\n",
       "                var nbb_formatted_code = \"# Sorting by day\\ndf_June_2022.sort_values(by=\\\"day\\\", inplace=True)\\n\\n# Re-checking first 2 rows of the data\\ndf_June_2022.head(2)\";\n",
       "                var nbb_cells = Jupyter.notebook.get_cells();\n",
       "                for (var i = 0; i < nbb_cells.length; ++i) {\n",
       "                    if (nbb_cells[i].input_prompt_number == nbb_cell_id) {\n",
       "                        if (nbb_cells[i].get_text() == nbb_unformatted_code) {\n",
       "                             nbb_cells[i].set_text(nbb_formatted_code);\n",
       "                        }\n",
       "                        break;\n",
       "                    }\n",
       "                }\n",
       "            }, 500);\n",
       "            "
      ],
      "text/plain": [
       "<IPython.core.display.Javascript object>"
      ]
     },
     "metadata": {},
     "output_type": "display_data"
    }
   ],
   "source": [
    "# Sorting by day\n",
    "df_June_2022.sort_values(by=\"day\", inplace=True)\n",
    "\n",
    "# Re-checking first 2 rows of the data\n",
    "df_June_2022.head(2)"
   ]
  },
  {
   "cell_type": "code",
   "execution_count": 11,
   "id": "e4d005f0",
   "metadata": {},
   "outputs": [
    {
     "data": {
      "text/html": [
       "<div>\n",
       "<style scoped>\n",
       "    .dataframe tbody tr th:only-of-type {\n",
       "        vertical-align: middle;\n",
       "    }\n",
       "\n",
       "    .dataframe tbody tr th {\n",
       "        vertical-align: top;\n",
       "    }\n",
       "\n",
       "    .dataframe thead th {\n",
       "        text-align: right;\n",
       "    }\n",
       "</style>\n",
       "<table border=\"1\" class=\"dataframe\">\n",
       "  <thead>\n",
       "    <tr style=\"text-align: right;\">\n",
       "      <th></th>\n",
       "      <th>month_year</th>\n",
       "      <th>day</th>\n",
       "      <th>name</th>\n",
       "      <th>info</th>\n",
       "      <th>link</th>\n",
       "      <th>num_references</th>\n",
       "    </tr>\n",
       "  </thead>\n",
       "  <tbody>\n",
       "    <tr>\n",
       "      <th>8</th>\n",
       "      <td>June 2022</td>\n",
       "      <td>9</td>\n",
       "      <td>Oleg Moliboga</td>\n",
       "      <td>, 69, Russian volleyball player, Olympic champion (1980) and coach.</td>\n",
       "      <td>https://en.wikipedia.org/wiki/Oleg_Moliboga</td>\n",
       "      <td>2</td>\n",
       "    </tr>\n",
       "    <tr>\n",
       "      <th>5</th>\n",
       "      <td>June 2022</td>\n",
       "      <td>9</td>\n",
       "      <td>Zou Jing</td>\n",
       "      <td>, 86, Chinese engineer, member of the Chinese Academy of Engineering.</td>\n",
       "      <td>https://en.wikipedia.org/wiki/Zou_Jing_(engineer)</td>\n",
       "      <td>3</td>\n",
       "    </tr>\n",
       "  </tbody>\n",
       "</table>\n",
       "</div>"
      ],
      "text/plain": [
       "  month_year day           name  \\\n",
       "8  June 2022   9  Oleg Moliboga   \n",
       "5  June 2022   9       Zou Jing   \n",
       "\n",
       "                                                                    info  \\\n",
       "8    , 69, Russian volleyball player, Olympic champion (1980) and coach.   \n",
       "5  , 86, Chinese engineer, member of the Chinese Academy of Engineering.   \n",
       "\n",
       "                                                link num_references  \n",
       "8        https://en.wikipedia.org/wiki/Oleg_Moliboga              2  \n",
       "5  https://en.wikipedia.org/wiki/Zou_Jing_(engineer)              3  "
      ]
     },
     "execution_count": 11,
     "metadata": {},
     "output_type": "execute_result"
    },
    {
     "data": {
      "application/javascript": [
       "\n",
       "            setTimeout(function() {\n",
       "                var nbb_cell_id = 11;\n",
       "                var nbb_unformatted_code = \"# Checking last 2 rows of the data\\ndf_June_2022.tail(2)\";\n",
       "                var nbb_formatted_code = \"# Checking last 2 rows of the data\\ndf_June_2022.tail(2)\";\n",
       "                var nbb_cells = Jupyter.notebook.get_cells();\n",
       "                for (var i = 0; i < nbb_cells.length; ++i) {\n",
       "                    if (nbb_cells[i].input_prompt_number == nbb_cell_id) {\n",
       "                        if (nbb_cells[i].get_text() == nbb_unformatted_code) {\n",
       "                             nbb_cells[i].set_text(nbb_formatted_code);\n",
       "                        }\n",
       "                        break;\n",
       "                    }\n",
       "                }\n",
       "            }, 500);\n",
       "            "
      ],
      "text/plain": [
       "<IPython.core.display.Javascript object>"
      ]
     },
     "metadata": {},
     "output_type": "display_data"
    }
   ],
   "source": [
    "# Checking last 2 rows of the data\n",
    "df_June_2022.tail(2)"
   ]
  },
  {
   "cell_type": "code",
   "execution_count": 12,
   "id": "1698b9f4",
   "metadata": {},
   "outputs": [
    {
     "data": {
      "text/html": [
       "<div>\n",
       "<style scoped>\n",
       "    .dataframe tbody tr th:only-of-type {\n",
       "        vertical-align: middle;\n",
       "    }\n",
       "\n",
       "    .dataframe tbody tr th {\n",
       "        vertical-align: top;\n",
       "    }\n",
       "\n",
       "    .dataframe thead th {\n",
       "        text-align: right;\n",
       "    }\n",
       "</style>\n",
       "<table border=\"1\" class=\"dataframe\">\n",
       "  <thead>\n",
       "    <tr style=\"text-align: right;\">\n",
       "      <th></th>\n",
       "      <th>month_year</th>\n",
       "      <th>day</th>\n",
       "      <th>name</th>\n",
       "      <th>info</th>\n",
       "      <th>link</th>\n",
       "      <th>num_references</th>\n",
       "    </tr>\n",
       "  </thead>\n",
       "  <tbody>\n",
       "    <tr>\n",
       "      <th>129</th>\n",
       "      <td>June 2022</td>\n",
       "      <td>7</td>\n",
       "      <td>Robert Alexander</td>\n",
       "      <td>, 64, American football player (Los Angeles Rams).</td>\n",
       "      <td>https://en.wikipedia.org/wiki/Robert_Alexander_(American_football)</td>\n",
       "      <td>2</td>\n",
       "    </tr>\n",
       "    <tr>\n",
       "      <th>125</th>\n",
       "      <td>June 2022</td>\n",
       "      <td>7</td>\n",
       "      <td>Trudy Haynes</td>\n",
       "      <td>, 95, American journalist (WXYZ-TV, KYW-TV).</td>\n",
       "      <td>https://en.wikipedia.org/wiki/Trudy_Haynes</td>\n",
       "      <td>13</td>\n",
       "    </tr>\n",
       "    <tr>\n",
       "      <th>18</th>\n",
       "      <td>June 2022</td>\n",
       "      <td>1</td>\n",
       "      <td>Takeyoshi Tanuma</td>\n",
       "      <td>, 93, Japanese photographer.</td>\n",
       "      <td>https://en.wikipedia.org/wiki/Takeyoshi_Tanuma</td>\n",
       "      <td>2</td>\n",
       "    </tr>\n",
       "    <tr>\n",
       "      <th>143</th>\n",
       "      <td>June 2022</td>\n",
       "      <td>8</td>\n",
       "      <td>Rocky Freitas</td>\n",
       "      <td>, 76, American football player (Detroit Lions, Tampa Bay Buccaneers).</td>\n",
       "      <td>https://en.wikipedia.org/wiki/Rocky_Freitas</td>\n",
       "      <td>4</td>\n",
       "    </tr>\n",
       "    <tr>\n",
       "      <th>70</th>\n",
       "      <td>June 2022</td>\n",
       "      <td>3</td>\n",
       "      <td>Piergiorgio Bressani</td>\n",
       "      <td>, 92, Italian politician, deputy (1963–1986), and mayor of Udine (1985–1990).</td>\n",
       "      <td>https://en.wikipedia.org/wiki/Piergiorgio_Bressani</td>\n",
       "      <td>3</td>\n",
       "    </tr>\n",
       "  </tbody>\n",
       "</table>\n",
       "</div>"
      ],
      "text/plain": [
       "    month_year day                  name  \\\n",
       "129  June 2022   7      Robert Alexander   \n",
       "125  June 2022   7          Trudy Haynes   \n",
       "18   June 2022   1      Takeyoshi Tanuma   \n",
       "143  June 2022   8         Rocky Freitas   \n",
       "70   June 2022   3  Piergiorgio Bressani   \n",
       "\n",
       "                                                                              info  \\\n",
       "129                             , 64, American football player (Los Angeles Rams).   \n",
       "125                                   , 95, American journalist (WXYZ-TV, KYW-TV).   \n",
       "18                                                    , 93, Japanese photographer.   \n",
       "143          , 76, American football player (Detroit Lions, Tampa Bay Buccaneers).   \n",
       "70   , 92, Italian politician, deputy (1963–1986), and mayor of Udine (1985–1990).   \n",
       "\n",
       "                                                                   link  \\\n",
       "129  https://en.wikipedia.org/wiki/Robert_Alexander_(American_football)   \n",
       "125                          https://en.wikipedia.org/wiki/Trudy_Haynes   \n",
       "18                       https://en.wikipedia.org/wiki/Takeyoshi_Tanuma   \n",
       "143                         https://en.wikipedia.org/wiki/Rocky_Freitas   \n",
       "70                   https://en.wikipedia.org/wiki/Piergiorgio_Bressani   \n",
       "\n",
       "    num_references  \n",
       "129              2  \n",
       "125             13  \n",
       "18               2  \n",
       "143              4  \n",
       "70               3  "
      ]
     },
     "execution_count": 12,
     "metadata": {},
     "output_type": "execute_result"
    },
    {
     "data": {
      "application/javascript": [
       "\n",
       "            setTimeout(function() {\n",
       "                var nbb_cell_id = 12;\n",
       "                var nbb_unformatted_code = \"# Checking a sample of the data\\ndf_June_2022.sample(5)\";\n",
       "                var nbb_formatted_code = \"# Checking a sample of the data\\ndf_June_2022.sample(5)\";\n",
       "                var nbb_cells = Jupyter.notebook.get_cells();\n",
       "                for (var i = 0; i < nbb_cells.length; ++i) {\n",
       "                    if (nbb_cells[i].input_prompt_number == nbb_cell_id) {\n",
       "                        if (nbb_cells[i].get_text() == nbb_unformatted_code) {\n",
       "                             nbb_cells[i].set_text(nbb_formatted_code);\n",
       "                        }\n",
       "                        break;\n",
       "                    }\n",
       "                }\n",
       "            }, 500);\n",
       "            "
      ],
      "text/plain": [
       "<IPython.core.display.Javascript object>"
      ]
     },
     "metadata": {},
     "output_type": "display_data"
    }
   ],
   "source": [
    "# Checking a sample of the data\n",
    "df_June_2022.sample(5)"
   ]
  },
  {
   "cell_type": "markdown",
   "id": "3460f39f",
   "metadata": {},
   "source": [
    "#### Observations:\n",
    "- Now, we are ready to combine the three dataframes."
   ]
  },
  {
   "cell_type": "markdown",
   "id": "0e3dec89",
   "metadata": {},
   "source": [
    "## Combining Dataframes"
   ]
  },
  {
   "cell_type": "markdown",
   "id": "2a31d729",
   "metadata": {},
   "source": [
    "### Adding Number of References to 1994 through May 2022 Data"
   ]
  },
  {
   "cell_type": "code",
   "execution_count": 13,
   "id": "6fd80916",
   "metadata": {},
   "outputs": [
    {
     "data": {
      "text/html": [
       "<div>\n",
       "<style scoped>\n",
       "    .dataframe tbody tr th:only-of-type {\n",
       "        vertical-align: middle;\n",
       "    }\n",
       "\n",
       "    .dataframe tbody tr th {\n",
       "        vertical-align: top;\n",
       "    }\n",
       "\n",
       "    .dataframe thead th {\n",
       "        text-align: right;\n",
       "    }\n",
       "</style>\n",
       "<table border=\"1\" class=\"dataframe\">\n",
       "  <thead>\n",
       "    <tr style=\"text-align: right;\">\n",
       "      <th></th>\n",
       "      <th>month_year</th>\n",
       "      <th>day</th>\n",
       "      <th>name</th>\n",
       "      <th>info</th>\n",
       "      <th>link</th>\n",
       "      <th>num_references</th>\n",
       "    </tr>\n",
       "  </thead>\n",
       "  <tbody>\n",
       "    <tr>\n",
       "      <th>0</th>\n",
       "      <td>January 1994</td>\n",
       "      <td>1</td>\n",
       "      <td>William Chappell</td>\n",
       "      <td>, 86, British dancer, ballet designer and director.</td>\n",
       "      <td>https://en.wikipedia.org/wiki/William_Chappell_(dancer)</td>\n",
       "      <td>21</td>\n",
       "    </tr>\n",
       "    <tr>\n",
       "      <th>1</th>\n",
       "      <td>January 1994</td>\n",
       "      <td>1</td>\n",
       "      <td>Raymond Crotty</td>\n",
       "      <td>, 68, Irish economist, writer, and academic.</td>\n",
       "      <td>https://en.wikipedia.org/wiki/Raymond_Crotty</td>\n",
       "      <td>12</td>\n",
       "    </tr>\n",
       "  </tbody>\n",
       "</table>\n",
       "</div>"
      ],
      "text/plain": [
       "     month_year day              name  \\\n",
       "0  January 1994   1  William Chappell   \n",
       "1  January 1994   1    Raymond Crotty   \n",
       "\n",
       "                                                  info  \\\n",
       "0  , 86, British dancer, ballet designer and director.   \n",
       "1         , 68, Irish economist, writer, and academic.   \n",
       "\n",
       "                                                      link num_references  \n",
       "0  https://en.wikipedia.org/wiki/William_Chappell_(dancer)             21  \n",
       "1             https://en.wikipedia.org/wiki/Raymond_Crotty             12  "
      ]
     },
     "execution_count": 13,
     "metadata": {},
     "output_type": "execute_result"
    },
    {
     "data": {
      "application/javascript": [
       "\n",
       "            setTimeout(function() {\n",
       "                var nbb_cell_id = 13;\n",
       "                var nbb_unformatted_code = \"# Adding num_references column to 1994 through May 2022 data\\ndf_combined = pd.merge(df_94_to_22, df_reference_counts, how=\\\"left\\\", on=\\\"link\\\")\\n\\n# Checking first 2 rows of the data\\ndf_combined.head(2)\";\n",
       "                var nbb_formatted_code = \"# Adding num_references column to 1994 through May 2022 data\\ndf_combined = pd.merge(df_94_to_22, df_reference_counts, how=\\\"left\\\", on=\\\"link\\\")\\n\\n# Checking first 2 rows of the data\\ndf_combined.head(2)\";\n",
       "                var nbb_cells = Jupyter.notebook.get_cells();\n",
       "                for (var i = 0; i < nbb_cells.length; ++i) {\n",
       "                    if (nbb_cells[i].input_prompt_number == nbb_cell_id) {\n",
       "                        if (nbb_cells[i].get_text() == nbb_unformatted_code) {\n",
       "                             nbb_cells[i].set_text(nbb_formatted_code);\n",
       "                        }\n",
       "                        break;\n",
       "                    }\n",
       "                }\n",
       "            }, 500);\n",
       "            "
      ],
      "text/plain": [
       "<IPython.core.display.Javascript object>"
      ]
     },
     "metadata": {},
     "output_type": "display_data"
    }
   ],
   "source": [
    "# Adding num_references column to 1994 through May 2022 data\n",
    "df_combined = pd.merge(df_94_to_22, df_reference_counts, how=\"left\", on=\"link\")\n",
    "\n",
    "# Checking first 2 rows of the data\n",
    "df_combined.head(2)"
   ]
  },
  {
   "cell_type": "markdown",
   "id": "c8f70113",
   "metadata": {},
   "source": [
    "### Adding June 2022 Data"
   ]
  },
  {
   "cell_type": "code",
   "execution_count": 14,
   "id": "3e54eb30",
   "metadata": {},
   "outputs": [
    {
     "name": "stdout",
     "output_type": "stream",
     "text": [
      "There are 133914 rows and 6 columns.\n"
     ]
    },
    {
     "data": {
      "text/html": [
       "<div>\n",
       "<style scoped>\n",
       "    .dataframe tbody tr th:only-of-type {\n",
       "        vertical-align: middle;\n",
       "    }\n",
       "\n",
       "    .dataframe tbody tr th {\n",
       "        vertical-align: top;\n",
       "    }\n",
       "\n",
       "    .dataframe thead th {\n",
       "        text-align: right;\n",
       "    }\n",
       "</style>\n",
       "<table border=\"1\" class=\"dataframe\">\n",
       "  <thead>\n",
       "    <tr style=\"text-align: right;\">\n",
       "      <th></th>\n",
       "      <th>month_year</th>\n",
       "      <th>day</th>\n",
       "      <th>name</th>\n",
       "      <th>info</th>\n",
       "      <th>link</th>\n",
       "      <th>num_references</th>\n",
       "    </tr>\n",
       "  </thead>\n",
       "  <tbody>\n",
       "    <tr>\n",
       "      <th>0</th>\n",
       "      <td>January 1994</td>\n",
       "      <td>1</td>\n",
       "      <td>William Chappell</td>\n",
       "      <td>, 86, British dancer, ballet designer and director.</td>\n",
       "      <td>https://en.wikipedia.org/wiki/William_Chappell_(dancer)</td>\n",
       "      <td>21</td>\n",
       "    </tr>\n",
       "    <tr>\n",
       "      <th>1</th>\n",
       "      <td>January 1994</td>\n",
       "      <td>1</td>\n",
       "      <td>Raymond Crotty</td>\n",
       "      <td>, 68, Irish economist, writer, and academic.</td>\n",
       "      <td>https://en.wikipedia.org/wiki/Raymond_Crotty</td>\n",
       "      <td>12</td>\n",
       "    </tr>\n",
       "  </tbody>\n",
       "</table>\n",
       "</div>"
      ],
      "text/plain": [
       "     month_year day              name  \\\n",
       "0  January 1994   1  William Chappell   \n",
       "1  January 1994   1    Raymond Crotty   \n",
       "\n",
       "                                                  info  \\\n",
       "0  , 86, British dancer, ballet designer and director.   \n",
       "1         , 68, Irish economist, writer, and academic.   \n",
       "\n",
       "                                                      link num_references  \n",
       "0  https://en.wikipedia.org/wiki/William_Chappell_(dancer)             21  \n",
       "1             https://en.wikipedia.org/wiki/Raymond_Crotty             12  "
      ]
     },
     "execution_count": 14,
     "metadata": {},
     "output_type": "execute_result"
    },
    {
     "data": {
      "application/javascript": [
       "\n",
       "            setTimeout(function() {\n",
       "                var nbb_cell_id = 14;\n",
       "                var nbb_unformatted_code = \"# Adding Juned 2022 data\\ndf_combined = pd.concat([df_combined, df_June_2022], ignore_index=True)\\n\\n# Making a working copy\\ndf = df_combined.copy()\\n\\n# Checking the shape\\nprint(f\\\"There are {df.shape[0]} rows and {df.shape[1]} columns.\\\")\\n\\n# Checking first 2 rows of the data\\ndf.head(2)\";\n",
       "                var nbb_formatted_code = \"# Adding Juned 2022 data\\ndf_combined = pd.concat([df_combined, df_June_2022], ignore_index=True)\\n\\n# Making a working copy\\ndf = df_combined.copy()\\n\\n# Checking the shape\\nprint(f\\\"There are {df.shape[0]} rows and {df.shape[1]} columns.\\\")\\n\\n# Checking first 2 rows of the data\\ndf.head(2)\";\n",
       "                var nbb_cells = Jupyter.notebook.get_cells();\n",
       "                for (var i = 0; i < nbb_cells.length; ++i) {\n",
       "                    if (nbb_cells[i].input_prompt_number == nbb_cell_id) {\n",
       "                        if (nbb_cells[i].get_text() == nbb_unformatted_code) {\n",
       "                             nbb_cells[i].set_text(nbb_formatted_code);\n",
       "                        }\n",
       "                        break;\n",
       "                    }\n",
       "                }\n",
       "            }, 500);\n",
       "            "
      ],
      "text/plain": [
       "<IPython.core.display.Javascript object>"
      ]
     },
     "metadata": {},
     "output_type": "display_data"
    }
   ],
   "source": [
    "# Adding Juned 2022 data\n",
    "df_combined = pd.concat([df_combined, df_June_2022], ignore_index=True)\n",
    "\n",
    "# Making a working copy\n",
    "df = df_combined.copy()\n",
    "\n",
    "# Checking the shape\n",
    "print(f\"There are {df.shape[0]} rows and {df.shape[1]} columns.\")\n",
    "\n",
    "# Checking first 2 rows of the data\n",
    "df.head(2)"
   ]
  },
  {
   "cell_type": "code",
   "execution_count": 15,
   "id": "38af7939",
   "metadata": {},
   "outputs": [
    {
     "data": {
      "text/html": [
       "<div>\n",
       "<style scoped>\n",
       "    .dataframe tbody tr th:only-of-type {\n",
       "        vertical-align: middle;\n",
       "    }\n",
       "\n",
       "    .dataframe tbody tr th {\n",
       "        vertical-align: top;\n",
       "    }\n",
       "\n",
       "    .dataframe thead th {\n",
       "        text-align: right;\n",
       "    }\n",
       "</style>\n",
       "<table border=\"1\" class=\"dataframe\">\n",
       "  <thead>\n",
       "    <tr style=\"text-align: right;\">\n",
       "      <th></th>\n",
       "      <th>month_year</th>\n",
       "      <th>day</th>\n",
       "      <th>name</th>\n",
       "      <th>info</th>\n",
       "      <th>link</th>\n",
       "      <th>num_references</th>\n",
       "    </tr>\n",
       "  </thead>\n",
       "  <tbody>\n",
       "    <tr>\n",
       "      <th>133912</th>\n",
       "      <td>June 2022</td>\n",
       "      <td>9</td>\n",
       "      <td>Oleg Moliboga</td>\n",
       "      <td>, 69, Russian volleyball player, Olympic champion (1980) and coach.</td>\n",
       "      <td>https://en.wikipedia.org/wiki/Oleg_Moliboga</td>\n",
       "      <td>2</td>\n",
       "    </tr>\n",
       "    <tr>\n",
       "      <th>133913</th>\n",
       "      <td>June 2022</td>\n",
       "      <td>9</td>\n",
       "      <td>Zou Jing</td>\n",
       "      <td>, 86, Chinese engineer, member of the Chinese Academy of Engineering.</td>\n",
       "      <td>https://en.wikipedia.org/wiki/Zou_Jing_(engineer)</td>\n",
       "      <td>3</td>\n",
       "    </tr>\n",
       "  </tbody>\n",
       "</table>\n",
       "</div>"
      ],
      "text/plain": [
       "       month_year day           name  \\\n",
       "133912  June 2022   9  Oleg Moliboga   \n",
       "133913  June 2022   9       Zou Jing   \n",
       "\n",
       "                                                                         info  \\\n",
       "133912    , 69, Russian volleyball player, Olympic champion (1980) and coach.   \n",
       "133913  , 86, Chinese engineer, member of the Chinese Academy of Engineering.   \n",
       "\n",
       "                                                     link num_references  \n",
       "133912        https://en.wikipedia.org/wiki/Oleg_Moliboga              2  \n",
       "133913  https://en.wikipedia.org/wiki/Zou_Jing_(engineer)              3  "
      ]
     },
     "execution_count": 15,
     "metadata": {},
     "output_type": "execute_result"
    },
    {
     "data": {
      "application/javascript": [
       "\n",
       "            setTimeout(function() {\n",
       "                var nbb_cell_id = 15;\n",
       "                var nbb_unformatted_code = \"# Checking last 2 rows of the data\\ndf.tail(2)\";\n",
       "                var nbb_formatted_code = \"# Checking last 2 rows of the data\\ndf.tail(2)\";\n",
       "                var nbb_cells = Jupyter.notebook.get_cells();\n",
       "                for (var i = 0; i < nbb_cells.length; ++i) {\n",
       "                    if (nbb_cells[i].input_prompt_number == nbb_cell_id) {\n",
       "                        if (nbb_cells[i].get_text() == nbb_unformatted_code) {\n",
       "                             nbb_cells[i].set_text(nbb_formatted_code);\n",
       "                        }\n",
       "                        break;\n",
       "                    }\n",
       "                }\n",
       "            }, 500);\n",
       "            "
      ],
      "text/plain": [
       "<IPython.core.display.Javascript object>"
      ]
     },
     "metadata": {},
     "output_type": "display_data"
    }
   ],
   "source": [
    "# Checking last 2 rows of the data\n",
    "df.tail(2)"
   ]
  },
  {
   "cell_type": "code",
   "execution_count": 16,
   "id": "e37e6fba",
   "metadata": {},
   "outputs": [
    {
     "data": {
      "text/html": [
       "<div>\n",
       "<style scoped>\n",
       "    .dataframe tbody tr th:only-of-type {\n",
       "        vertical-align: middle;\n",
       "    }\n",
       "\n",
       "    .dataframe tbody tr th {\n",
       "        vertical-align: top;\n",
       "    }\n",
       "\n",
       "    .dataframe thead th {\n",
       "        text-align: right;\n",
       "    }\n",
       "</style>\n",
       "<table border=\"1\" class=\"dataframe\">\n",
       "  <thead>\n",
       "    <tr style=\"text-align: right;\">\n",
       "      <th></th>\n",
       "      <th>month_year</th>\n",
       "      <th>day</th>\n",
       "      <th>name</th>\n",
       "      <th>info</th>\n",
       "      <th>link</th>\n",
       "      <th>num_references</th>\n",
       "    </tr>\n",
       "  </thead>\n",
       "  <tbody>\n",
       "    <tr>\n",
       "      <th>9743</th>\n",
       "      <td>October 1997</td>\n",
       "      <td>5</td>\n",
       "      <td>Dave Marr</td>\n",
       "      <td>, 63, American golfer and sportscaster, stomach cancer.</td>\n",
       "      <td>https://en.wikipedia.org/wiki/Dave_Marr</td>\n",
       "      <td>8</td>\n",
       "    </tr>\n",
       "    <tr>\n",
       "      <th>30500</th>\n",
       "      <td>April 2006</td>\n",
       "      <td>22</td>\n",
       "      <td>Alida Valli</td>\n",
       "      <td>, 84, Italian actress ().</td>\n",
       "      <td>https://en.wikipedia.org/wiki/Alida_Valli</td>\n",
       "      <td>15</td>\n",
       "    </tr>\n",
       "    <tr>\n",
       "      <th>102555</th>\n",
       "      <td>February 2019</td>\n",
       "      <td>24</td>\n",
       "      <td>Dame Margaret Scott</td>\n",
       "      <td>, 96, South African-Australian ballet dancer.</td>\n",
       "      <td>https://en.wikipedia.org/wiki/Margaret_Scott_(dancer)</td>\n",
       "      <td>20</td>\n",
       "    </tr>\n",
       "    <tr>\n",
       "      <th>100214</th>\n",
       "      <td>November 2018</td>\n",
       "      <td>8</td>\n",
       "      <td>Raymond Plank</td>\n",
       "      <td>, 96, American businessman (Apache Corporation).</td>\n",
       "      <td>https://en.wikipedia.org/wiki/Raymond_Plank</td>\n",
       "      <td>19</td>\n",
       "    </tr>\n",
       "    <tr>\n",
       "      <th>55086</th>\n",
       "      <td>April 2012</td>\n",
       "      <td>11</td>\n",
       "      <td>Keith Leeson</td>\n",
       "      <td>, 83, Australian Olympic hockey player.</td>\n",
       "      <td>https://en.wikipedia.org/wiki/Keith_Leeson</td>\n",
       "      <td>2</td>\n",
       "    </tr>\n",
       "  </tbody>\n",
       "</table>\n",
       "</div>"
      ],
      "text/plain": [
       "           month_year day                 name  \\\n",
       "9743     October 1997   5            Dave Marr   \n",
       "30500      April 2006  22          Alida Valli   \n",
       "102555  February 2019  24  Dame Margaret Scott   \n",
       "100214  November 2018   8        Raymond Plank   \n",
       "55086      April 2012  11         Keith Leeson   \n",
       "\n",
       "                                                           info  \\\n",
       "9743    , 63, American golfer and sportscaster, stomach cancer.   \n",
       "30500                                 , 84, Italian actress ().   \n",
       "102555            , 96, South African-Australian ballet dancer.   \n",
       "100214         , 96, American businessman (Apache Corporation).   \n",
       "55086                   , 83, Australian Olympic hockey player.   \n",
       "\n",
       "                                                         link num_references  \n",
       "9743                  https://en.wikipedia.org/wiki/Dave_Marr              8  \n",
       "30500               https://en.wikipedia.org/wiki/Alida_Valli             15  \n",
       "102555  https://en.wikipedia.org/wiki/Margaret_Scott_(dancer)             20  \n",
       "100214            https://en.wikipedia.org/wiki/Raymond_Plank             19  \n",
       "55086              https://en.wikipedia.org/wiki/Keith_Leeson              2  "
      ]
     },
     "execution_count": 16,
     "metadata": {},
     "output_type": "execute_result"
    },
    {
     "data": {
      "application/javascript": [
       "\n",
       "            setTimeout(function() {\n",
       "                var nbb_cell_id = 16;\n",
       "                var nbb_unformatted_code = \"# Checking a sample of the data\\ndf.sample(5)\";\n",
       "                var nbb_formatted_code = \"# Checking a sample of the data\\ndf.sample(5)\";\n",
       "                var nbb_cells = Jupyter.notebook.get_cells();\n",
       "                for (var i = 0; i < nbb_cells.length; ++i) {\n",
       "                    if (nbb_cells[i].input_prompt_number == nbb_cell_id) {\n",
       "                        if (nbb_cells[i].get_text() == nbb_unformatted_code) {\n",
       "                             nbb_cells[i].set_text(nbb_formatted_code);\n",
       "                        }\n",
       "                        break;\n",
       "                    }\n",
       "                }\n",
       "            }, 500);\n",
       "            "
      ],
      "text/plain": [
       "<IPython.core.display.Javascript object>"
      ]
     },
     "metadata": {},
     "output_type": "display_data"
    }
   ],
   "source": [
    "# Checking a sample of the data\n",
    "df.sample(5)"
   ]
  },
  {
   "cell_type": "markdown",
   "id": "ad3ffe8d",
   "metadata": {},
   "source": [
    "#### Confirming Correct Number of Resultant Entries"
   ]
  },
  {
   "cell_type": "code",
   "execution_count": 17,
   "id": "66a7346b",
   "metadata": {},
   "outputs": [
    {
     "data": {
      "text/plain": [
       "133914"
      ]
     },
     "execution_count": 17,
     "metadata": {},
     "output_type": "execute_result"
    },
    {
     "data": {
      "application/javascript": [
       "\n",
       "            setTimeout(function() {\n",
       "                var nbb_cell_id = 17;\n",
       "                var nbb_unformatted_code = \"# Confirming correct number of total rows\\ndf_94_to_22.shape[0] + df_June_2022.shape[0]\";\n",
       "                var nbb_formatted_code = \"# Confirming correct number of total rows\\ndf_94_to_22.shape[0] + df_June_2022.shape[0]\";\n",
       "                var nbb_cells = Jupyter.notebook.get_cells();\n",
       "                for (var i = 0; i < nbb_cells.length; ++i) {\n",
       "                    if (nbb_cells[i].input_prompt_number == nbb_cell_id) {\n",
       "                        if (nbb_cells[i].get_text() == nbb_unformatted_code) {\n",
       "                             nbb_cells[i].set_text(nbb_formatted_code);\n",
       "                        }\n",
       "                        break;\n",
       "                    }\n",
       "                }\n",
       "            }, 500);\n",
       "            "
      ],
      "text/plain": [
       "<IPython.core.display.Javascript object>"
      ]
     },
     "metadata": {},
     "output_type": "display_data"
    }
   ],
   "source": [
    "# Confirming correct number of total rows\n",
    "df_94_to_22.shape[0] + df_June_2022.shape[0]"
   ]
  },
  {
   "cell_type": "markdown",
   "id": "38519bfc",
   "metadata": {},
   "source": [
    "#### Observations:\n",
    "- We have successfully combined the three dataframes.\n",
    "- Now, we can check for data types, duplicates, and missing values."
   ]
  },
  {
   "cell_type": "markdown",
   "id": "ba4843b6",
   "metadata": {},
   "source": [
    "## Checking data types, duplicates, and null values"
   ]
  },
  {
   "cell_type": "markdown",
   "id": "3e85aad6",
   "metadata": {},
   "source": [
    "### Data types"
   ]
  },
  {
   "cell_type": "code",
   "execution_count": 18,
   "id": "ba0bfca5",
   "metadata": {},
   "outputs": [
    {
     "name": "stdout",
     "output_type": "stream",
     "text": [
      "<class 'pandas.core.frame.DataFrame'>\n",
      "RangeIndex: 133914 entries, 0 to 133913\n",
      "Data columns (total 6 columns):\n",
      " #   Column          Non-Null Count   Dtype \n",
      "---  ------          --------------   ----- \n",
      " 0   month_year      133914 non-null  object\n",
      " 1   day             133914 non-null  object\n",
      " 2   name            133903 non-null  object\n",
      " 3   info            133914 non-null  object\n",
      " 4   link            133914 non-null  object\n",
      " 5   num_references  120637 non-null  object\n",
      "dtypes: object(6)\n",
      "memory usage: 6.1+ MB\n"
     ]
    },
    {
     "data": {
      "application/javascript": [
       "\n",
       "            setTimeout(function() {\n",
       "                var nbb_cell_id = 18;\n",
       "                var nbb_unformatted_code = \"# Checking data types and null values\\ndf.info()\";\n",
       "                var nbb_formatted_code = \"# Checking data types and null values\\ndf.info()\";\n",
       "                var nbb_cells = Jupyter.notebook.get_cells();\n",
       "                for (var i = 0; i < nbb_cells.length; ++i) {\n",
       "                    if (nbb_cells[i].input_prompt_number == nbb_cell_id) {\n",
       "                        if (nbb_cells[i].get_text() == nbb_unformatted_code) {\n",
       "                             nbb_cells[i].set_text(nbb_formatted_code);\n",
       "                        }\n",
       "                        break;\n",
       "                    }\n",
       "                }\n",
       "            }, 500);\n",
       "            "
      ],
      "text/plain": [
       "<IPython.core.display.Javascript object>"
      ]
     },
     "metadata": {},
     "output_type": "display_data"
    }
   ],
   "source": [
    "# Checking data types and null values\n",
    "df.info()"
   ]
  },
  {
   "cell_type": "markdown",
   "id": "53e6028a",
   "metadata": {},
   "source": [
    "#### Observations:\n",
    "- There are 6 columns, all of object type.\n",
    "- `name` and `num_references` both have missing values.\n",
    "- The data is in a very raw format and there are other columns that have combined information that will need to be extracted.\n",
    "- For now, we will leave all as object type."
   ]
  },
  {
   "cell_type": "markdown",
   "id": "05731210",
   "metadata": {},
   "source": [
    "### Duplicate Rows"
   ]
  },
  {
   "cell_type": "code",
   "execution_count": 19,
   "id": "691b73ec",
   "metadata": {},
   "outputs": [
    {
     "data": {
      "text/plain": [
       "9"
      ]
     },
     "execution_count": 19,
     "metadata": {},
     "output_type": "execute_result"
    },
    {
     "data": {
      "application/javascript": [
       "\n",
       "            setTimeout(function() {\n",
       "                var nbb_cell_id = 19;\n",
       "                var nbb_unformatted_code = \"# Checking duplicate rows\\ndf.duplicated().sum()\";\n",
       "                var nbb_formatted_code = \"# Checking duplicate rows\\ndf.duplicated().sum()\";\n",
       "                var nbb_cells = Jupyter.notebook.get_cells();\n",
       "                for (var i = 0; i < nbb_cells.length; ++i) {\n",
       "                    if (nbb_cells[i].input_prompt_number == nbb_cell_id) {\n",
       "                        if (nbb_cells[i].get_text() == nbb_unformatted_code) {\n",
       "                             nbb_cells[i].set_text(nbb_formatted_code);\n",
       "                        }\n",
       "                        break;\n",
       "                    }\n",
       "                }\n",
       "            }, 500);\n",
       "            "
      ],
      "text/plain": [
       "<IPython.core.display.Javascript object>"
      ]
     },
     "metadata": {},
     "output_type": "display_data"
    }
   ],
   "source": [
    "# Checking duplicate rows\n",
    "df.duplicated().sum()"
   ]
  },
  {
   "cell_type": "markdown",
   "id": "39c70cb1",
   "metadata": {},
   "source": [
    "#### Observations:\n",
    "- There are 9 duplicate rows that we will drop now."
   ]
  },
  {
   "cell_type": "code",
   "execution_count": 20,
   "id": "916674ce",
   "metadata": {},
   "outputs": [
    {
     "data": {
      "text/plain": [
       "(133905, 6)"
      ]
     },
     "execution_count": 20,
     "metadata": {},
     "output_type": "execute_result"
    },
    {
     "data": {
      "application/javascript": [
       "\n",
       "            setTimeout(function() {\n",
       "                var nbb_cell_id = 20;\n",
       "                var nbb_unformatted_code = \"# Drop duplicate rows\\ndf.drop_duplicates(inplace=True, ignore_index=True)\\n\\n# Re-check shape\\ndf.shape\";\n",
       "                var nbb_formatted_code = \"# Drop duplicate rows\\ndf.drop_duplicates(inplace=True, ignore_index=True)\\n\\n# Re-check shape\\ndf.shape\";\n",
       "                var nbb_cells = Jupyter.notebook.get_cells();\n",
       "                for (var i = 0; i < nbb_cells.length; ++i) {\n",
       "                    if (nbb_cells[i].input_prompt_number == nbb_cell_id) {\n",
       "                        if (nbb_cells[i].get_text() == nbb_unformatted_code) {\n",
       "                             nbb_cells[i].set_text(nbb_formatted_code);\n",
       "                        }\n",
       "                        break;\n",
       "                    }\n",
       "                }\n",
       "            }, 500);\n",
       "            "
      ],
      "text/plain": [
       "<IPython.core.display.Javascript object>"
      ]
     },
     "metadata": {},
     "output_type": "display_data"
    }
   ],
   "source": [
    "# Drop duplicate rows\n",
    "df.drop_duplicates(inplace=True, ignore_index=True)\n",
    "\n",
    "# Re-check shape\n",
    "df.shape"
   ]
  },
  {
   "cell_type": "markdown",
   "id": "548965cc",
   "metadata": {},
   "source": [
    "### Missing Values"
   ]
  },
  {
   "cell_type": "code",
   "execution_count": 21,
   "id": "3ce81780",
   "metadata": {},
   "outputs": [
    {
     "data": {
      "text/plain": [
       "month_year        0.000\n",
       "day               0.000\n",
       "name              0.008\n",
       "info              0.000\n",
       "link              0.000\n",
       "num_references   11.007\n",
       "dtype: float64"
      ]
     },
     "execution_count": 21,
     "metadata": {},
     "output_type": "execute_result"
    },
    {
     "data": {
      "application/javascript": [
       "\n",
       "            setTimeout(function() {\n",
       "                var nbb_cell_id = 21;\n",
       "                var nbb_unformatted_code = \"# Check percentage of null values by column\\ndf.isnull().sum() / df.count() * 100\";\n",
       "                var nbb_formatted_code = \"# Check percentage of null values by column\\ndf.isnull().sum() / df.count() * 100\";\n",
       "                var nbb_cells = Jupyter.notebook.get_cells();\n",
       "                for (var i = 0; i < nbb_cells.length; ++i) {\n",
       "                    if (nbb_cells[i].input_prompt_number == nbb_cell_id) {\n",
       "                        if (nbb_cells[i].get_text() == nbb_unformatted_code) {\n",
       "                             nbb_cells[i].set_text(nbb_formatted_code);\n",
       "                        }\n",
       "                        break;\n",
       "                    }\n",
       "                }\n",
       "            }, 500);\n",
       "            "
      ],
      "text/plain": [
       "<IPython.core.display.Javascript object>"
      ]
     },
     "metadata": {},
     "output_type": "display_data"
    }
   ],
   "source": [
    "# Check percentage of null values by column\n",
    "df.isnull().sum() / df.count() * 100"
   ]
  },
  {
   "cell_type": "code",
   "execution_count": 22,
   "id": "bdec59c6",
   "metadata": {},
   "outputs": [
    {
     "data": {
      "text/plain": [
       "0    120628\n",
       "1     13266\n",
       "2        11\n",
       "dtype: int64"
      ]
     },
     "execution_count": 22,
     "metadata": {},
     "output_type": "execute_result"
    },
    {
     "data": {
      "application/javascript": [
       "\n",
       "            setTimeout(function() {\n",
       "                var nbb_cell_id = 22;\n",
       "                var nbb_unformatted_code = \"# Checking number of missing values per row\\ndf.isnull().sum(axis=1).value_counts()\";\n",
       "                var nbb_formatted_code = \"# Checking number of missing values per row\\ndf.isnull().sum(axis=1).value_counts()\";\n",
       "                var nbb_cells = Jupyter.notebook.get_cells();\n",
       "                for (var i = 0; i < nbb_cells.length; ++i) {\n",
       "                    if (nbb_cells[i].input_prompt_number == nbb_cell_id) {\n",
       "                        if (nbb_cells[i].get_text() == nbb_unformatted_code) {\n",
       "                             nbb_cells[i].set_text(nbb_formatted_code);\n",
       "                        }\n",
       "                        break;\n",
       "                    }\n",
       "                }\n",
       "            }, 500);\n",
       "            "
      ],
      "text/plain": [
       "<IPython.core.display.Javascript object>"
      ]
     },
     "metadata": {},
     "output_type": "display_data"
    }
   ],
   "source": [
    "# Checking number of missing values per row\n",
    "df.isnull().sum(axis=1).value_counts()"
   ]
  },
  {
   "cell_type": "markdown",
   "id": "a700745a",
   "metadata": {},
   "source": [
    "#### Observations:\n",
    "- The number of rows missing only 1 value appears consistent with our anticipated missing `num_references`.\n",
    "- There are 11 rows that are each missing 2 values.  Let us take a closer look at these rows."
   ]
  },
  {
   "cell_type": "code",
   "execution_count": 23,
   "id": "84a03a87",
   "metadata": {},
   "outputs": [
    {
     "data": {
      "text/html": [
       "<div>\n",
       "<style scoped>\n",
       "    .dataframe tbody tr th:only-of-type {\n",
       "        vertical-align: middle;\n",
       "    }\n",
       "\n",
       "    .dataframe tbody tr th {\n",
       "        vertical-align: top;\n",
       "    }\n",
       "\n",
       "    .dataframe thead th {\n",
       "        text-align: right;\n",
       "    }\n",
       "</style>\n",
       "<table border=\"1\" class=\"dataframe\">\n",
       "  <thead>\n",
       "    <tr style=\"text-align: right;\">\n",
       "      <th></th>\n",
       "      <th>month_year</th>\n",
       "      <th>day</th>\n",
       "      <th>name</th>\n",
       "      <th>info</th>\n",
       "      <th>link</th>\n",
       "      <th>num_references</th>\n",
       "    </tr>\n",
       "  </thead>\n",
       "  <tbody>\n",
       "    <tr>\n",
       "      <th>18937</th>\n",
       "      <td>August 2001</td>\n",
       "      <td>11</td>\n",
       "      <td>None</td>\n",
       "      <td>Kevin Kowalcyk, 2, known for eating a hamburger contaminated with E. coli O157:H7.</td>\n",
       "      <td>https://en.wikipedia.orgNone</td>\n",
       "      <td>NaN</td>\n",
       "    </tr>\n",
       "    <tr>\n",
       "      <th>24985</th>\n",
       "      <td>January 2004</td>\n",
       "      <td>22</td>\n",
       "      <td>None</td>\n",
       "      <td>Vincent Palmer, 37, British criminal.</td>\n",
       "      <td>https://en.wikipedia.orgNone</td>\n",
       "      <td>NaN</td>\n",
       "    </tr>\n",
       "    <tr>\n",
       "      <th>27458</th>\n",
       "      <td>March 2005</td>\n",
       "      <td>1</td>\n",
       "      <td>None</td>\n",
       "      <td>Barry Stigler, 57, American voice actor.</td>\n",
       "      <td>https://en.wikipedia.orgNone</td>\n",
       "      <td>NaN</td>\n",
       "    </tr>\n",
       "    <tr>\n",
       "      <th>34077</th>\n",
       "      <td>July 2007</td>\n",
       "      <td>11</td>\n",
       "      <td>None</td>\n",
       "      <td>Nana Gualdi, 75, German singer and actress.</td>\n",
       "      <td>https://en.wikipedia.orgNone</td>\n",
       "      <td>NaN</td>\n",
       "    </tr>\n",
       "    <tr>\n",
       "      <th>35097</th>\n",
       "      <td>November 2007</td>\n",
       "      <td>11</td>\n",
       "      <td>None</td>\n",
       "      <td></td>\n",
       "      <td>https://en.wikipedia.orgNone</td>\n",
       "      <td>NaN</td>\n",
       "    </tr>\n",
       "    <tr>\n",
       "      <th>41075</th>\n",
       "      <td>May 2009</td>\n",
       "      <td>18</td>\n",
       "      <td>None</td>\n",
       "      <td>Either killed in a missile attack or shot:\\n</td>\n",
       "      <td>https://en.wikipedia.orgNone</td>\n",
       "      <td>NaN</td>\n",
       "    </tr>\n",
       "    <tr>\n",
       "      <th>64771</th>\n",
       "      <td>September 2013</td>\n",
       "      <td>29</td>\n",
       "      <td>None</td>\n",
       "      <td>Scott Workman, 47, American stuntman (, , ), cancer.</td>\n",
       "      <td>https://en.wikipedia.orgNone</td>\n",
       "      <td>NaN</td>\n",
       "    </tr>\n",
       "    <tr>\n",
       "      <th>76024</th>\n",
       "      <td>April 2015</td>\n",
       "      <td>29</td>\n",
       "      <td>None</td>\n",
       "      <td>Notable convicted drug traffickers executed by Indonesian firing squad:\\n</td>\n",
       "      <td>https://en.wikipedia.orgNone</td>\n",
       "      <td>NaN</td>\n",
       "    </tr>\n",
       "    <tr>\n",
       "      <th>105871</th>\n",
       "      <td>August 2019</td>\n",
       "      <td>2</td>\n",
       "      <td>None</td>\n",
       "      <td>Japanese convicted murderers, executed by hanging.\\n</td>\n",
       "      <td>https://en.wikipedia.orgNone</td>\n",
       "      <td>NaN</td>\n",
       "    </tr>\n",
       "    <tr>\n",
       "      <th>106617</th>\n",
       "      <td>September 2019</td>\n",
       "      <td>12</td>\n",
       "      <td>None</td>\n",
       "      <td>Thami Shobede, 31, Singer Songwriter</td>\n",
       "      <td>https://en.wikipedia.orgNone</td>\n",
       "      <td>NaN</td>\n",
       "    </tr>\n",
       "    <tr>\n",
       "      <th>126192</th>\n",
       "      <td>August 2021</td>\n",
       "      <td>18</td>\n",
       "      <td>None</td>\n",
       "      <td>American hikers shot in a double homicide: (bodies discovered on this date)\\n</td>\n",
       "      <td>https://en.wikipedia.orgNone</td>\n",
       "      <td>NaN</td>\n",
       "    </tr>\n",
       "  </tbody>\n",
       "</table>\n",
       "</div>"
      ],
      "text/plain": [
       "            month_year day  name  \\\n",
       "18937      August 2001  11  None   \n",
       "24985     January 2004  22  None   \n",
       "27458       March 2005   1  None   \n",
       "34077        July 2007  11  None   \n",
       "35097    November 2007  11  None   \n",
       "41075         May 2009  18  None   \n",
       "64771   September 2013  29  None   \n",
       "76024       April 2015  29  None   \n",
       "105871     August 2019   2  None   \n",
       "106617  September 2019  12  None   \n",
       "126192     August 2021  18  None   \n",
       "\n",
       "                                                                                      info  \\\n",
       "18937   Kevin Kowalcyk, 2, known for eating a hamburger contaminated with E. coli O157:H7.   \n",
       "24985                                                Vincent Palmer, 37, British criminal.   \n",
       "27458                                             Barry Stigler, 57, American voice actor.   \n",
       "34077                                          Nana Gualdi, 75, German singer and actress.   \n",
       "35097                                                                                        \n",
       "41075                                         Either killed in a missile attack or shot:\\n   \n",
       "64771                                 Scott Workman, 47, American stuntman (, , ), cancer.   \n",
       "76024            Notable convicted drug traffickers executed by Indonesian firing squad:\\n   \n",
       "105871                                Japanese convicted murderers, executed by hanging.\\n   \n",
       "106617                                                Thami Shobede, 31, Singer Songwriter   \n",
       "126192       American hikers shot in a double homicide: (bodies discovered on this date)\\n   \n",
       "\n",
       "                                link num_references  \n",
       "18937   https://en.wikipedia.orgNone            NaN  \n",
       "24985   https://en.wikipedia.orgNone            NaN  \n",
       "27458   https://en.wikipedia.orgNone            NaN  \n",
       "34077   https://en.wikipedia.orgNone            NaN  \n",
       "35097   https://en.wikipedia.orgNone            NaN  \n",
       "41075   https://en.wikipedia.orgNone            NaN  \n",
       "64771   https://en.wikipedia.orgNone            NaN  \n",
       "76024   https://en.wikipedia.orgNone            NaN  \n",
       "105871  https://en.wikipedia.orgNone            NaN  \n",
       "106617  https://en.wikipedia.orgNone            NaN  \n",
       "126192  https://en.wikipedia.orgNone            NaN  "
      ]
     },
     "execution_count": 23,
     "metadata": {},
     "output_type": "execute_result"
    },
    {
     "data": {
      "application/javascript": [
       "\n",
       "            setTimeout(function() {\n",
       "                var nbb_cell_id = 23;\n",
       "                var nbb_unformatted_code = \"# Checking the rows that are missing values for 2 columns\\nmissing_2 = df[df.isnull().sum(axis=1) == 2]\\nmissing_2\";\n",
       "                var nbb_formatted_code = \"# Checking the rows that are missing values for 2 columns\\nmissing_2 = df[df.isnull().sum(axis=1) == 2]\\nmissing_2\";\n",
       "                var nbb_cells = Jupyter.notebook.get_cells();\n",
       "                for (var i = 0; i < nbb_cells.length; ++i) {\n",
       "                    if (nbb_cells[i].input_prompt_number == nbb_cell_id) {\n",
       "                        if (nbb_cells[i].get_text() == nbb_unformatted_code) {\n",
       "                             nbb_cells[i].set_text(nbb_formatted_code);\n",
       "                        }\n",
       "                        break;\n",
       "                    }\n",
       "                }\n",
       "            }, 500);\n",
       "            "
      ],
      "text/plain": [
       "<IPython.core.display.Javascript object>"
      ]
     },
     "metadata": {},
     "output_type": "display_data"
    }
   ],
   "source": [
    "# Checking the rows that are missing values for 2 columns\n",
    "missing_2 = df[df.isnull().sum(axis=1) == 2]\n",
    "missing_2"
   ]
  },
  {
   "cell_type": "markdown",
   "id": "455a3c7f",
   "metadata": {},
   "source": [
    "#### Observations:\n",
    "- We can see that multiple rows are missing `name`, but have the name in `info`, so we can extract it later.  \n",
    "- The missing link itself is not of concern as it serves only as a means by which to retrieve the `num_references` value.\n",
    "- As there is no associated link for the individual, we can safely replace the NaN `num_references` values for rows with extractable names with 0.\n",
    "- We can proceed with removing the rows that lack an extractable name, as they also lack other information necessary for the analysis."
   ]
  },
  {
   "cell_type": "code",
   "execution_count": 24,
   "id": "877d5763",
   "metadata": {},
   "outputs": [
    {
     "data": {
      "text/plain": [
       "(133900, 6)"
      ]
     },
     "execution_count": 24,
     "metadata": {},
     "output_type": "execute_result"
    },
    {
     "data": {
      "application/javascript": [
       "\n",
       "            setTimeout(function() {\n",
       "                var nbb_cell_id = 24;\n",
       "                var nbb_unformatted_code = \"# List of rows to keep\\nkeep_rows = [18937, 24985, 27458, 34077, 64771, 106617]\\n\\n# For loop to replace num_references NaNs with 0 for rows with extractable names\\nfor row in keep_rows:\\n    df.loc[row, \\\"num_references\\\"] = 0\\n\\n# List of rows to remove\\nremove_rows = [index for index in missing_2.index if index not in keep_rows]\\ndel missing_2\\n\\n# Dropping rows\\ndf.drop(remove_rows, inplace=True)\\n\\n# Re-checking shape\\ndf.shape\";\n",
       "                var nbb_formatted_code = \"# List of rows to keep\\nkeep_rows = [18937, 24985, 27458, 34077, 64771, 106617]\\n\\n# For loop to replace num_references NaNs with 0 for rows with extractable names\\nfor row in keep_rows:\\n    df.loc[row, \\\"num_references\\\"] = 0\\n\\n# List of rows to remove\\nremove_rows = [index for index in missing_2.index if index not in keep_rows]\\ndel missing_2\\n\\n# Dropping rows\\ndf.drop(remove_rows, inplace=True)\\n\\n# Re-checking shape\\ndf.shape\";\n",
       "                var nbb_cells = Jupyter.notebook.get_cells();\n",
       "                for (var i = 0; i < nbb_cells.length; ++i) {\n",
       "                    if (nbb_cells[i].input_prompt_number == nbb_cell_id) {\n",
       "                        if (nbb_cells[i].get_text() == nbb_unformatted_code) {\n",
       "                             nbb_cells[i].set_text(nbb_formatted_code);\n",
       "                        }\n",
       "                        break;\n",
       "                    }\n",
       "                }\n",
       "            }, 500);\n",
       "            "
      ],
      "text/plain": [
       "<IPython.core.display.Javascript object>"
      ]
     },
     "metadata": {},
     "output_type": "display_data"
    }
   ],
   "source": [
    "# List of rows to keep\n",
    "keep_rows = [18937, 24985, 27458, 34077, 64771, 106617]\n",
    "\n",
    "# For loop to replace num_references NaNs with 0 for rows with extractable names\n",
    "for row in keep_rows:\n",
    "    df.loc[row, \"num_references\"] = 0\n",
    "\n",
    "# List of rows to remove\n",
    "remove_rows = [index for index in missing_2.index if index not in keep_rows]\n",
    "del missing_2\n",
    "\n",
    "# Dropping rows\n",
    "df.drop(remove_rows, inplace=True)\n",
    "\n",
    "# Re-checking shape\n",
    "df.shape"
   ]
  },
  {
   "cell_type": "code",
   "execution_count": 25,
   "id": "d4123c5f",
   "metadata": {},
   "outputs": [
    {
     "name": "stdout",
     "output_type": "stream",
     "text": [
      "<class 'pandas.core.frame.DataFrame'>\n",
      "Int64Index: 133900 entries, 0 to 133904\n",
      "Data columns (total 6 columns):\n",
      " #   Column          Non-Null Count   Dtype \n",
      "---  ------          --------------   ----- \n",
      " 0   month_year      133900 non-null  object\n",
      " 1   day             133900 non-null  object\n",
      " 2   name            133894 non-null  object\n",
      " 3   info            133900 non-null  object\n",
      " 4   link            133900 non-null  object\n",
      " 5   num_references  120634 non-null  object\n",
      "dtypes: object(6)\n",
      "memory usage: 7.2+ MB\n"
     ]
    },
    {
     "data": {
      "application/javascript": [
       "\n",
       "            setTimeout(function() {\n",
       "                var nbb_cell_id = 25;\n",
       "                var nbb_unformatted_code = \"# Re-check info\\ndf.info()\";\n",
       "                var nbb_formatted_code = \"# Re-check info\\ndf.info()\";\n",
       "                var nbb_cells = Jupyter.notebook.get_cells();\n",
       "                for (var i = 0; i < nbb_cells.length; ++i) {\n",
       "                    if (nbb_cells[i].input_prompt_number == nbb_cell_id) {\n",
       "                        if (nbb_cells[i].get_text() == nbb_unformatted_code) {\n",
       "                             nbb_cells[i].set_text(nbb_formatted_code);\n",
       "                        }\n",
       "                        break;\n",
       "                    }\n",
       "                }\n",
       "            }, 500);\n",
       "            "
      ],
      "text/plain": [
       "<IPython.core.display.Javascript object>"
      ]
     },
     "metadata": {},
     "output_type": "display_data"
    }
   ],
   "source": [
    "# Re-check info\n",
    "df.info()"
   ]
  },
  {
   "cell_type": "markdown",
   "id": "84d9f21b",
   "metadata": {},
   "source": [
    "#### Observations:\n",
    "- There are now only 6 rows with missing `name`, corresponding to the names we identified in `info`, that we will extract later.\n",
    "- The remaining missing values are all for `num_references`, so we can proceed to make another attempt at scraping this information.\n",
    "- Let us check a sample of these rows."
   ]
  },
  {
   "cell_type": "code",
   "execution_count": 26,
   "id": "fb9088e8",
   "metadata": {},
   "outputs": [
    {
     "data": {
      "text/html": [
       "<div>\n",
       "<style scoped>\n",
       "    .dataframe tbody tr th:only-of-type {\n",
       "        vertical-align: middle;\n",
       "    }\n",
       "\n",
       "    .dataframe tbody tr th {\n",
       "        vertical-align: top;\n",
       "    }\n",
       "\n",
       "    .dataframe thead th {\n",
       "        text-align: right;\n",
       "    }\n",
       "</style>\n",
       "<table border=\"1\" class=\"dataframe\">\n",
       "  <thead>\n",
       "    <tr style=\"text-align: right;\">\n",
       "      <th></th>\n",
       "      <th>month_year</th>\n",
       "      <th>day</th>\n",
       "      <th>name</th>\n",
       "      <th>info</th>\n",
       "      <th>link</th>\n",
       "      <th>num_references</th>\n",
       "    </tr>\n",
       "  </thead>\n",
       "  <tbody>\n",
       "    <tr>\n",
       "      <th>54511</th>\n",
       "      <td>March 2012</td>\n",
       "      <td>10</td>\n",
       "      <td>Ruth-Marie Stewart</td>\n",
       "      <td>, 84, American Olympic skier.</td>\n",
       "      <td>https://en.wikipedia.org/wiki/Ruth-Marie_Stewart</td>\n",
       "      <td>NaN</td>\n",
       "    </tr>\n",
       "    <tr>\n",
       "      <th>43152</th>\n",
       "      <td>November 2009</td>\n",
       "      <td>20</td>\n",
       "      <td>Roman Trakhtenberg</td>\n",
       "      <td>, 41, Russian actor, television and radio presenter, heart attack.</td>\n",
       "      <td>https://en.wikipedia.org/wiki/Roman_Trakhtenberg</td>\n",
       "      <td>NaN</td>\n",
       "    </tr>\n",
       "    <tr>\n",
       "      <th>65499</th>\n",
       "      <td>November 2013</td>\n",
       "      <td>12</td>\n",
       "      <td>Raymond S. Burton</td>\n",
       "      <td>, 74, American politician, Executive Councillor for New Hampshire District 1 (1977–1979, since 1981), kidney cancer.</td>\n",
       "      <td>https://en.wikipedia.org/wiki/Raymond_S._Burton</td>\n",
       "      <td>NaN</td>\n",
       "    </tr>\n",
       "    <tr>\n",
       "      <th>96526</th>\n",
       "      <td>April 2018</td>\n",
       "      <td>24</td>\n",
       "      <td>Emma Smith</td>\n",
       "      <td>, 94, English author ().</td>\n",
       "      <td>https://en.wikipedia.org/wiki/Emma_Smith_(author)</td>\n",
       "      <td>NaN</td>\n",
       "    </tr>\n",
       "    <tr>\n",
       "      <th>93930</th>\n",
       "      <td>December 2017</td>\n",
       "      <td>25</td>\n",
       "      <td>Renato Marchiaro</td>\n",
       "      <td>, 98, Italian footballer.</td>\n",
       "      <td>https://en.wikipedia.org/wiki/Renato_Marchiaro</td>\n",
       "      <td>NaN</td>\n",
       "    </tr>\n",
       "  </tbody>\n",
       "</table>\n",
       "</div>"
      ],
      "text/plain": [
       "          month_year day                name  \\\n",
       "54511     March 2012  10  Ruth-Marie Stewart   \n",
       "43152  November 2009  20  Roman Trakhtenberg   \n",
       "65499  November 2013  12   Raymond S. Burton   \n",
       "96526     April 2018  24          Emma Smith   \n",
       "93930  December 2017  25    Renato Marchiaro   \n",
       "\n",
       "                                                                                                                       info  \\\n",
       "54511                                                                                         , 84, American Olympic skier.   \n",
       "43152                                                    , 41, Russian actor, television and radio presenter, heart attack.   \n",
       "65499  , 74, American politician, Executive Councillor for New Hampshire District 1 (1977–1979, since 1981), kidney cancer.   \n",
       "96526                                                                                              , 94, English author ().   \n",
       "93930                                                                                             , 98, Italian footballer.   \n",
       "\n",
       "                                                    link num_references  \n",
       "54511   https://en.wikipedia.org/wiki/Ruth-Marie_Stewart            NaN  \n",
       "43152   https://en.wikipedia.org/wiki/Roman_Trakhtenberg            NaN  \n",
       "65499    https://en.wikipedia.org/wiki/Raymond_S._Burton            NaN  \n",
       "96526  https://en.wikipedia.org/wiki/Emma_Smith_(author)            NaN  \n",
       "93930     https://en.wikipedia.org/wiki/Renato_Marchiaro            NaN  "
      ]
     },
     "execution_count": 26,
     "metadata": {},
     "output_type": "execute_result"
    },
    {
     "data": {
      "application/javascript": [
       "\n",
       "            setTimeout(function() {\n",
       "                var nbb_cell_id = 26;\n",
       "                var nbb_unformatted_code = \"# Checking sample of rows missing num_references\\ndf[df[\\\"num_references\\\"].isna()].sample(5)\";\n",
       "                var nbb_formatted_code = \"# Checking sample of rows missing num_references\\ndf[df[\\\"num_references\\\"].isna()].sample(5)\";\n",
       "                var nbb_cells = Jupyter.notebook.get_cells();\n",
       "                for (var i = 0; i < nbb_cells.length; ++i) {\n",
       "                    if (nbb_cells[i].input_prompt_number == nbb_cell_id) {\n",
       "                        if (nbb_cells[i].get_text() == nbb_unformatted_code) {\n",
       "                             nbb_cells[i].set_text(nbb_formatted_code);\n",
       "                        }\n",
       "                        break;\n",
       "                    }\n",
       "                }\n",
       "            }, 500);\n",
       "            "
      ],
      "text/plain": [
       "<IPython.core.display.Javascript object>"
      ]
     },
     "metadata": {},
     "output_type": "display_data"
    }
   ],
   "source": [
    "# Checking sample of rows missing num_references\n",
    "df[df[\"num_references\"].isna()].sample(5)"
   ]
  },
  {
   "cell_type": "markdown",
   "id": "943664c4",
   "metadata": {},
   "source": [
    "#### Observations:\n",
    "- Following the links reveals that the pages contain references.  \n",
    "- Therefore, they either have a variation in the XPath followed for scraping, or Scrapy had an issue with following their links.\n",
    "- We will export a dataframe of the links to the pages that need to be re-scraped for `num_references`."
   ]
  },
  {
   "cell_type": "code",
   "execution_count": 27,
   "id": "d6e2f6bc",
   "metadata": {},
   "outputs": [
    {
     "data": {
      "application/javascript": [
       "\n",
       "            setTimeout(function() {\n",
       "                var nbb_cell_id = 27;\n",
       "                var nbb_unformatted_code = \"# Exporting dataframe of pages to rescrape for num_references\\nrescrape_df = df[df[\\\"num_references\\\"].isna()][\\\"link\\\"]\\nrescrape_df.to_csv(\\\"rescrape_df.csv\\\", index=False)\";\n",
       "                var nbb_formatted_code = \"# Exporting dataframe of pages to rescrape for num_references\\nrescrape_df = df[df[\\\"num_references\\\"].isna()][\\\"link\\\"]\\nrescrape_df.to_csv(\\\"rescrape_df.csv\\\", index=False)\";\n",
       "                var nbb_cells = Jupyter.notebook.get_cells();\n",
       "                for (var i = 0; i < nbb_cells.length; ++i) {\n",
       "                    if (nbb_cells[i].input_prompt_number == nbb_cell_id) {\n",
       "                        if (nbb_cells[i].get_text() == nbb_unformatted_code) {\n",
       "                             nbb_cells[i].set_text(nbb_formatted_code);\n",
       "                        }\n",
       "                        break;\n",
       "                    }\n",
       "                }\n",
       "            }, 500);\n",
       "            "
      ],
      "text/plain": [
       "<IPython.core.display.Javascript object>"
      ]
     },
     "metadata": {},
     "output_type": "display_data"
    }
   ],
   "source": [
    "# Exporting dataframe of pages to rescrape for num_references\n",
    "rescrape_df = df[df[\"num_references\"].isna()][\"link\"]\n",
    "rescrape_df.to_csv(\"rescrape_df.csv\", index=False)"
   ]
  },
  {
   "cell_type": "markdown",
   "id": "7a8055bf",
   "metadata": {},
   "source": [
    "#### Observations:\n",
    "- A second iteration of scraping individual pages for number of references reveals variation in the XPath for those pages.\n",
    "- There appears to be at least a third variation as the second scraping obtained a little more than half of the missing values.\n",
    "- We will import and merge the data, as before."
   ]
  },
  {
   "cell_type": "markdown",
   "id": "9e6c9c69",
   "metadata": {},
   "source": [
    "### Missing Reference Count Data -- First Re-scrape"
   ]
  },
  {
   "cell_type": "code",
   "execution_count": 28,
   "id": "8ab12fda",
   "metadata": {},
   "outputs": [
    {
     "name": "stdout",
     "output_type": "stream",
     "text": [
      "There are 7365 rows and 2 columns.\n"
     ]
    },
    {
     "data": {
      "text/html": [
       "<div>\n",
       "<style scoped>\n",
       "    .dataframe tbody tr th:only-of-type {\n",
       "        vertical-align: middle;\n",
       "    }\n",
       "\n",
       "    .dataframe tbody tr th {\n",
       "        vertical-align: top;\n",
       "    }\n",
       "\n",
       "    .dataframe thead th {\n",
       "        text-align: right;\n",
       "    }\n",
       "</style>\n",
       "<table border=\"1\" class=\"dataframe\">\n",
       "  <thead>\n",
       "    <tr style=\"text-align: right;\">\n",
       "      <th></th>\n",
       "      <th>link</th>\n",
       "      <th>num_references</th>\n",
       "    </tr>\n",
       "  </thead>\n",
       "  <tbody>\n",
       "    <tr>\n",
       "      <th>0</th>\n",
       "      <td>https://en.wikipedia.org/wiki/List_of_American_supercentenarians#Charlotte_Benkner</td>\n",
       "      <td>63</td>\n",
       "    </tr>\n",
       "    <tr>\n",
       "      <th>1</th>\n",
       "      <td>https://en.wikipedia.org/wiki/Eugene_Record</td>\n",
       "      <td>11</td>\n",
       "    </tr>\n",
       "  </tbody>\n",
       "</table>\n",
       "</div>"
      ],
      "text/plain": [
       "                                                                                 link  \\\n",
       "0  https://en.wikipedia.org/wiki/List_of_American_supercentenarians#Charlotte_Benkner   \n",
       "1                                         https://en.wikipedia.org/wiki/Eugene_Record   \n",
       "\n",
       "  num_references  \n",
       "0             63  \n",
       "1             11  "
      ]
     },
     "execution_count": 28,
     "metadata": {},
     "output_type": "execute_result"
    },
    {
     "data": {
      "application/javascript": [
       "\n",
       "            setTimeout(function() {\n",
       "                var nbb_cell_id = 28;\n",
       "                var nbb_unformatted_code = \"# Reading the refs2 dataset from sql db and table\\nconn = sql.connect(\\\"refs2.db\\\")\\nraw_refs2 = pd.read_sql(\\\"SELECT * FROM refs2\\\", conn)\\n\\n# Making a working copy\\ndf_refs2 = raw_refs2.copy()\\n\\n# Checking the shape\\nprint(f\\\"There are {df_refs2.shape[0]} rows and {df_refs2.shape[1]} columns.\\\")\\n\\n# Checking first 2 rows of the data\\ndf_refs2.head(2)\";\n",
       "                var nbb_formatted_code = \"# Reading the refs2 dataset from sql db and table\\nconn = sql.connect(\\\"refs2.db\\\")\\nraw_refs2 = pd.read_sql(\\\"SELECT * FROM refs2\\\", conn)\\n\\n# Making a working copy\\ndf_refs2 = raw_refs2.copy()\\n\\n# Checking the shape\\nprint(f\\\"There are {df_refs2.shape[0]} rows and {df_refs2.shape[1]} columns.\\\")\\n\\n# Checking first 2 rows of the data\\ndf_refs2.head(2)\";\n",
       "                var nbb_cells = Jupyter.notebook.get_cells();\n",
       "                for (var i = 0; i < nbb_cells.length; ++i) {\n",
       "                    if (nbb_cells[i].input_prompt_number == nbb_cell_id) {\n",
       "                        if (nbb_cells[i].get_text() == nbb_unformatted_code) {\n",
       "                             nbb_cells[i].set_text(nbb_formatted_code);\n",
       "                        }\n",
       "                        break;\n",
       "                    }\n",
       "                }\n",
       "            }, 500);\n",
       "            "
      ],
      "text/plain": [
       "<IPython.core.display.Javascript object>"
      ]
     },
     "metadata": {},
     "output_type": "display_data"
    }
   ],
   "source": [
    "# Reading the refs2 dataset from sql db and table\n",
    "conn = sql.connect(\"refs2.db\")\n",
    "raw_refs2 = pd.read_sql(\"SELECT * FROM refs2\", conn)\n",
    "\n",
    "# Making a working copy\n",
    "df_refs2 = raw_refs2.copy()\n",
    "\n",
    "# Checking the shape\n",
    "print(f\"There are {df_refs2.shape[0]} rows and {df_refs2.shape[1]} columns.\")\n",
    "\n",
    "# Checking first 2 rows of the data\n",
    "df_refs2.head(2)"
   ]
  },
  {
   "cell_type": "code",
   "execution_count": 29,
   "id": "59f31875",
   "metadata": {},
   "outputs": [
    {
     "data": {
      "text/html": [
       "<div>\n",
       "<style scoped>\n",
       "    .dataframe tbody tr th:only-of-type {\n",
       "        vertical-align: middle;\n",
       "    }\n",
       "\n",
       "    .dataframe tbody tr th {\n",
       "        vertical-align: top;\n",
       "    }\n",
       "\n",
       "    .dataframe thead th {\n",
       "        text-align: right;\n",
       "    }\n",
       "</style>\n",
       "<table border=\"1\" class=\"dataframe\">\n",
       "  <thead>\n",
       "    <tr style=\"text-align: right;\">\n",
       "      <th></th>\n",
       "      <th>link</th>\n",
       "      <th>num_references</th>\n",
       "    </tr>\n",
       "  </thead>\n",
       "  <tbody>\n",
       "    <tr>\n",
       "      <th>7363</th>\n",
       "      <td>https://en.wikipedia.org/wiki/Gunnar_Utterberg</td>\n",
       "      <td>3</td>\n",
       "    </tr>\n",
       "    <tr>\n",
       "      <th>7364</th>\n",
       "      <td>https://en.wikipedia.org/wiki/Bill_Sudakis</td>\n",
       "      <td>19</td>\n",
       "    </tr>\n",
       "  </tbody>\n",
       "</table>\n",
       "</div>"
      ],
      "text/plain": [
       "                                                link num_references\n",
       "7363  https://en.wikipedia.org/wiki/Gunnar_Utterberg              3\n",
       "7364      https://en.wikipedia.org/wiki/Bill_Sudakis             19"
      ]
     },
     "execution_count": 29,
     "metadata": {},
     "output_type": "execute_result"
    },
    {
     "data": {
      "application/javascript": [
       "\n",
       "            setTimeout(function() {\n",
       "                var nbb_cell_id = 29;\n",
       "                var nbb_unformatted_code = \"# Checking last 2 rows of the data\\ndf_refs2.tail(2)\";\n",
       "                var nbb_formatted_code = \"# Checking last 2 rows of the data\\ndf_refs2.tail(2)\";\n",
       "                var nbb_cells = Jupyter.notebook.get_cells();\n",
       "                for (var i = 0; i < nbb_cells.length; ++i) {\n",
       "                    if (nbb_cells[i].input_prompt_number == nbb_cell_id) {\n",
       "                        if (nbb_cells[i].get_text() == nbb_unformatted_code) {\n",
       "                             nbb_cells[i].set_text(nbb_formatted_code);\n",
       "                        }\n",
       "                        break;\n",
       "                    }\n",
       "                }\n",
       "            }, 500);\n",
       "            "
      ],
      "text/plain": [
       "<IPython.core.display.Javascript object>"
      ]
     },
     "metadata": {},
     "output_type": "display_data"
    }
   ],
   "source": [
    "# Checking last 2 rows of the data\n",
    "df_refs2.tail(2)"
   ]
  },
  {
   "cell_type": "code",
   "execution_count": 30,
   "id": "78011a96",
   "metadata": {},
   "outputs": [
    {
     "data": {
      "text/html": [
       "<div>\n",
       "<style scoped>\n",
       "    .dataframe tbody tr th:only-of-type {\n",
       "        vertical-align: middle;\n",
       "    }\n",
       "\n",
       "    .dataframe tbody tr th {\n",
       "        vertical-align: top;\n",
       "    }\n",
       "\n",
       "    .dataframe thead th {\n",
       "        text-align: right;\n",
       "    }\n",
       "</style>\n",
       "<table border=\"1\" class=\"dataframe\">\n",
       "  <thead>\n",
       "    <tr style=\"text-align: right;\">\n",
       "      <th></th>\n",
       "      <th>link</th>\n",
       "      <th>num_references</th>\n",
       "    </tr>\n",
       "  </thead>\n",
       "  <tbody>\n",
       "    <tr>\n",
       "      <th>7074</th>\n",
       "      <td>https://en.wikipedia.org/wiki/Jon_Westling</td>\n",
       "      <td>7</td>\n",
       "    </tr>\n",
       "    <tr>\n",
       "      <th>6003</th>\n",
       "      <td>https://en.wikipedia.org/wiki/Kenyatta_Jones</td>\n",
       "      <td>4</td>\n",
       "    </tr>\n",
       "    <tr>\n",
       "      <th>3503</th>\n",
       "      <td>https://en.wikipedia.org/wiki/Owen_Lynch</td>\n",
       "      <td>2</td>\n",
       "    </tr>\n",
       "    <tr>\n",
       "      <th>1326</th>\n",
       "      <td>https://en.wikipedia.org/wiki/Sandy_Allen</td>\n",
       "      <td>9</td>\n",
       "    </tr>\n",
       "    <tr>\n",
       "      <th>6631</th>\n",
       "      <td>https://en.wikipedia.org/wiki/Lorenza_Mazzetti</td>\n",
       "      <td>4</td>\n",
       "    </tr>\n",
       "  </tbody>\n",
       "</table>\n",
       "</div>"
      ],
      "text/plain": [
       "                                                link num_references\n",
       "7074      https://en.wikipedia.org/wiki/Jon_Westling              7\n",
       "6003    https://en.wikipedia.org/wiki/Kenyatta_Jones              4\n",
       "3503        https://en.wikipedia.org/wiki/Owen_Lynch              2\n",
       "1326       https://en.wikipedia.org/wiki/Sandy_Allen              9\n",
       "6631  https://en.wikipedia.org/wiki/Lorenza_Mazzetti              4"
      ]
     },
     "execution_count": 30,
     "metadata": {},
     "output_type": "execute_result"
    },
    {
     "data": {
      "application/javascript": [
       "\n",
       "            setTimeout(function() {\n",
       "                var nbb_cell_id = 30;\n",
       "                var nbb_unformatted_code = \"# Checking a sample of the data\\ndf_refs2.sample(5)\";\n",
       "                var nbb_formatted_code = \"# Checking a sample of the data\\ndf_refs2.sample(5)\";\n",
       "                var nbb_cells = Jupyter.notebook.get_cells();\n",
       "                for (var i = 0; i < nbb_cells.length; ++i) {\n",
       "                    if (nbb_cells[i].input_prompt_number == nbb_cell_id) {\n",
       "                        if (nbb_cells[i].get_text() == nbb_unformatted_code) {\n",
       "                             nbb_cells[i].set_text(nbb_formatted_code);\n",
       "                        }\n",
       "                        break;\n",
       "                    }\n",
       "                }\n",
       "            }, 500);\n",
       "            "
      ],
      "text/plain": [
       "<IPython.core.display.Javascript object>"
      ]
     },
     "metadata": {},
     "output_type": "display_data"
    }
   ],
   "source": [
    "# Checking a sample of the data\n",
    "df_refs2.sample(5)"
   ]
  },
  {
   "cell_type": "markdown",
   "id": "e121e71a",
   "metadata": {},
   "source": [
    "#### Observations:\n",
    "- We were able to obtain 7365 of the missing values."
   ]
  },
  {
   "cell_type": "markdown",
   "id": "f8192b22",
   "metadata": {},
   "source": [
    "#### Adding Missing References to Dataframe"
   ]
  },
  {
   "cell_type": "code",
   "execution_count": 31,
   "id": "0d17a677",
   "metadata": {
    "scrolled": false
   },
   "outputs": [
    {
     "data": {
      "text/html": [
       "<div>\n",
       "<style scoped>\n",
       "    .dataframe tbody tr th:only-of-type {\n",
       "        vertical-align: middle;\n",
       "    }\n",
       "\n",
       "    .dataframe tbody tr th {\n",
       "        vertical-align: top;\n",
       "    }\n",
       "\n",
       "    .dataframe thead th {\n",
       "        text-align: right;\n",
       "    }\n",
       "</style>\n",
       "<table border=\"1\" class=\"dataframe\">\n",
       "  <thead>\n",
       "    <tr style=\"text-align: right;\">\n",
       "      <th></th>\n",
       "      <th>month_year</th>\n",
       "      <th>day</th>\n",
       "      <th>name</th>\n",
       "      <th>info</th>\n",
       "      <th>link</th>\n",
       "      <th>num_references_x</th>\n",
       "      <th>num_references_y</th>\n",
       "    </tr>\n",
       "  </thead>\n",
       "  <tbody>\n",
       "    <tr>\n",
       "      <th>6069</th>\n",
       "      <td>May 1996</td>\n",
       "      <td>11</td>\n",
       "      <td>Ademir de Menezes</td>\n",
       "      <td>, 73, Brazilian football player and manager.</td>\n",
       "      <td>https://en.wikipedia.org/wiki/Ademir_de_Menezes</td>\n",
       "      <td>5</td>\n",
       "      <td>NaN</td>\n",
       "    </tr>\n",
       "    <tr>\n",
       "      <th>103350</th>\n",
       "      <td>April 2019</td>\n",
       "      <td>3</td>\n",
       "      <td>Einar Iversen</td>\n",
       "      <td>, 88, Norwegian jazz pianist and composer.</td>\n",
       "      <td>https://en.wikipedia.org/wiki/Einar_Iversen</td>\n",
       "      <td>6</td>\n",
       "      <td>NaN</td>\n",
       "    </tr>\n",
       "    <tr>\n",
       "      <th>123585</th>\n",
       "      <td>May 2021</td>\n",
       "      <td>16</td>\n",
       "      <td>Vijay Singh Yadav</td>\n",
       "      <td>, 67–68, Indian politician, Bihar MLA (1995–2000), MP (2000–2006), COVID-19.</td>\n",
       "      <td>https://en.wikipedia.org/wiki/Vijay_Singh_Yadav</td>\n",
       "      <td>6</td>\n",
       "      <td>NaN</td>\n",
       "    </tr>\n",
       "    <tr>\n",
       "      <th>83078</th>\n",
       "      <td>May 2016</td>\n",
       "      <td>20</td>\n",
       "      <td>Ádám Rajhona</td>\n",
       "      <td>, 72, Hungarian actor.</td>\n",
       "      <td>https://en.wikipedia.org/wiki/%C3%81d%C3%A1m_Rajhona</td>\n",
       "      <td>NaN</td>\n",
       "      <td>1</td>\n",
       "    </tr>\n",
       "    <tr>\n",
       "      <th>6715</th>\n",
       "      <td>August 1996</td>\n",
       "      <td>28</td>\n",
       "      <td>Gevork Kotiantz</td>\n",
       "      <td>, 86, Russian artist.</td>\n",
       "      <td>https://en.wikipedia.org/wiki/Gevork_Kotiantz</td>\n",
       "      <td>26</td>\n",
       "      <td>NaN</td>\n",
       "    </tr>\n",
       "  </tbody>\n",
       "</table>\n",
       "</div>"
      ],
      "text/plain": [
       "         month_year day               name  \\\n",
       "6069       May 1996  11  Ademir de Menezes   \n",
       "103350   April 2019   3      Einar Iversen   \n",
       "123585     May 2021  16  Vijay Singh Yadav   \n",
       "83078      May 2016  20       Ádám Rajhona   \n",
       "6715    August 1996  28    Gevork Kotiantz   \n",
       "\n",
       "                                                                                info  \\\n",
       "6069                                    , 73, Brazilian football player and manager.   \n",
       "103350                                    , 88, Norwegian jazz pianist and composer.   \n",
       "123585  , 67–68, Indian politician, Bihar MLA (1995–2000), MP (2000–2006), COVID-19.   \n",
       "83078                                                         , 72, Hungarian actor.   \n",
       "6715                                                           , 86, Russian artist.   \n",
       "\n",
       "                                                        link num_references_x  \\\n",
       "6069         https://en.wikipedia.org/wiki/Ademir_de_Menezes                5   \n",
       "103350           https://en.wikipedia.org/wiki/Einar_Iversen                6   \n",
       "123585       https://en.wikipedia.org/wiki/Vijay_Singh_Yadav                6   \n",
       "83078   https://en.wikipedia.org/wiki/%C3%81d%C3%A1m_Rajhona              NaN   \n",
       "6715           https://en.wikipedia.org/wiki/Gevork_Kotiantz               26   \n",
       "\n",
       "       num_references_y  \n",
       "6069                NaN  \n",
       "103350              NaN  \n",
       "123585              NaN  \n",
       "83078                 1  \n",
       "6715                NaN  "
      ]
     },
     "execution_count": 31,
     "metadata": {},
     "output_type": "execute_result"
    },
    {
     "data": {
      "application/javascript": [
       "\n",
       "            setTimeout(function() {\n",
       "                var nbb_cell_id = 31;\n",
       "                var nbb_unformatted_code = \"# Adding num_references column to 1994 through May 2022 data\\ndf = pd.merge(df, df_refs2, how=\\\"left\\\", on=\\\"link\\\")\\n\\n# Checking sample of the data\\ndf.sample(5)\";\n",
       "                var nbb_formatted_code = \"# Adding num_references column to 1994 through May 2022 data\\ndf = pd.merge(df, df_refs2, how=\\\"left\\\", on=\\\"link\\\")\\n\\n# Checking sample of the data\\ndf.sample(5)\";\n",
       "                var nbb_cells = Jupyter.notebook.get_cells();\n",
       "                for (var i = 0; i < nbb_cells.length; ++i) {\n",
       "                    if (nbb_cells[i].input_prompt_number == nbb_cell_id) {\n",
       "                        if (nbb_cells[i].get_text() == nbb_unformatted_code) {\n",
       "                             nbb_cells[i].set_text(nbb_formatted_code);\n",
       "                        }\n",
       "                        break;\n",
       "                    }\n",
       "                }\n",
       "            }, 500);\n",
       "            "
      ],
      "text/plain": [
       "<IPython.core.display.Javascript object>"
      ]
     },
     "metadata": {},
     "output_type": "display_data"
    }
   ],
   "source": [
    "# Adding num_references column to 1994 through May 2022 data\n",
    "df = pd.merge(df, df_refs2, how=\"left\", on=\"link\")\n",
    "\n",
    "# Checking sample of the data\n",
    "df.sample(5)"
   ]
  },
  {
   "cell_type": "code",
   "execution_count": 38,
   "id": "22c7ce6f",
   "metadata": {},
   "outputs": [
    {
     "data": {
      "text/html": [
       "<div>\n",
       "<style scoped>\n",
       "    .dataframe tbody tr th:only-of-type {\n",
       "        vertical-align: middle;\n",
       "    }\n",
       "\n",
       "    .dataframe tbody tr th {\n",
       "        vertical-align: top;\n",
       "    }\n",
       "\n",
       "    .dataframe thead th {\n",
       "        text-align: right;\n",
       "    }\n",
       "</style>\n",
       "<table border=\"1\" class=\"dataframe\">\n",
       "  <thead>\n",
       "    <tr style=\"text-align: right;\">\n",
       "      <th></th>\n",
       "      <th>month_year</th>\n",
       "      <th>day</th>\n",
       "      <th>name</th>\n",
       "      <th>info</th>\n",
       "      <th>link</th>\n",
       "      <th>num_references_x</th>\n",
       "      <th>num_references_y</th>\n",
       "    </tr>\n",
       "  </thead>\n",
       "  <tbody>\n",
       "    <tr>\n",
       "      <th>113760</th>\n",
       "      <td>June 2020</td>\n",
       "      <td>17</td>\n",
       "      <td>Hugh Fraser</td>\n",
       "      <td>, 62, Canadian jazz musician, cancer.</td>\n",
       "      <td>https://en.wikipedia.org/wiki/Hugh_Fraser_(musician)</td>\n",
       "      <td>3</td>\n",
       "      <td>NaN</td>\n",
       "    </tr>\n",
       "    <tr>\n",
       "      <th>72487</th>\n",
       "      <td>November 2014</td>\n",
       "      <td>3</td>\n",
       "      <td>Sadashiv Amrapurkar</td>\n",
       "      <td>, 64, Indian actor (, ), lung infection.</td>\n",
       "      <td>https://en.wikipedia.org/wiki/Sadashiv_Amrapurkar</td>\n",
       "      <td>13</td>\n",
       "      <td>13</td>\n",
       "    </tr>\n",
       "    <tr>\n",
       "      <th>12190</th>\n",
       "      <td>September 1998</td>\n",
       "      <td>8</td>\n",
       "      <td>Leonid Kinskey</td>\n",
       "      <td>, 95, Russian-born actor, complications of a stroke.</td>\n",
       "      <td>https://en.wikipedia.org/wiki/Leonid_Kinskey</td>\n",
       "      <td>10</td>\n",
       "      <td>NaN</td>\n",
       "    </tr>\n",
       "    <tr>\n",
       "      <th>103158</th>\n",
       "      <td>March 2019</td>\n",
       "      <td>25</td>\n",
       "      <td>Adolph Lawrence</td>\n",
       "      <td>, 50, Liberian politician, member of the House of Representatives (since 2012), traffic collision.</td>\n",
       "      <td>https://en.wikipedia.org/wiki/Adolph_Lawrence</td>\n",
       "      <td>2</td>\n",
       "      <td>NaN</td>\n",
       "    </tr>\n",
       "    <tr>\n",
       "      <th>57740</th>\n",
       "      <td>September 2012</td>\n",
       "      <td>21</td>\n",
       "      <td>Konda Laxman Bapuji</td>\n",
       "      <td>, 96, Indian politician and freedom fighter.</td>\n",
       "      <td>https://en.wikipedia.org/wiki/Konda_Laxman_Bapuji</td>\n",
       "      <td>9</td>\n",
       "      <td>NaN</td>\n",
       "    </tr>\n",
       "  </tbody>\n",
       "</table>\n",
       "</div>"
      ],
      "text/plain": [
       "            month_year day                 name  \\\n",
       "113760       June 2020  17          Hugh Fraser   \n",
       "72487    November 2014   3  Sadashiv Amrapurkar   \n",
       "12190   September 1998   8       Leonid Kinskey   \n",
       "103158      March 2019  25      Adolph Lawrence   \n",
       "57740   September 2012  21  Konda Laxman Bapuji   \n",
       "\n",
       "                                                                                                      info  \\\n",
       "113760                                                               , 62, Canadian jazz musician, cancer.   \n",
       "72487                                                             , 64, Indian actor (, ), lung infection.   \n",
       "12190                                                 , 95, Russian-born actor, complications of a stroke.   \n",
       "103158  , 50, Liberian politician, member of the House of Representatives (since 2012), traffic collision.   \n",
       "57740                                                         , 96, Indian politician and freedom fighter.   \n",
       "\n",
       "                                                        link num_references_x  \\\n",
       "113760  https://en.wikipedia.org/wiki/Hugh_Fraser_(musician)                3   \n",
       "72487      https://en.wikipedia.org/wiki/Sadashiv_Amrapurkar               13   \n",
       "12190           https://en.wikipedia.org/wiki/Leonid_Kinskey               10   \n",
       "103158         https://en.wikipedia.org/wiki/Adolph_Lawrence                2   \n",
       "57740      https://en.wikipedia.org/wiki/Konda_Laxman_Bapuji                9   \n",
       "\n",
       "       num_references_y  \n",
       "113760              NaN  \n",
       "72487                13  \n",
       "12190               NaN  \n",
       "103158              NaN  \n",
       "57740               NaN  "
      ]
     },
     "execution_count": 38,
     "metadata": {},
     "output_type": "execute_result"
    },
    {
     "data": {
      "application/javascript": [
       "\n",
       "            setTimeout(function() {\n",
       "                var nbb_cell_id = 38;\n",
       "                var nbb_unformatted_code = \"df[\\\"num_references_x\\\"].fillna(df[\\\"num_references_y\\\"], inplace=True)\\ndf.sample(5)\";\n",
       "                var nbb_formatted_code = \"df[\\\"num_references_x\\\"].fillna(df[\\\"num_references_y\\\"], inplace=True)\\ndf.sample(5)\";\n",
       "                var nbb_cells = Jupyter.notebook.get_cells();\n",
       "                for (var i = 0; i < nbb_cells.length; ++i) {\n",
       "                    if (nbb_cells[i].input_prompt_number == nbb_cell_id) {\n",
       "                        if (nbb_cells[i].get_text() == nbb_unformatted_code) {\n",
       "                             nbb_cells[i].set_text(nbb_formatted_code);\n",
       "                        }\n",
       "                        break;\n",
       "                    }\n",
       "                }\n",
       "            }, 500);\n",
       "            "
      ],
      "text/plain": [
       "<IPython.core.display.Javascript object>"
      ]
     },
     "metadata": {},
     "output_type": "display_data"
    }
   ],
   "source": [
    "# Filling missing values with newly obtained values\n",
    "df[\"num_references_x\"].fillna(df[\"num_references_y\"], inplace=True)\n",
    "df.sample(5)"
   ]
  },
  {
   "cell_type": "code",
   "execution_count": 46,
   "id": "e1a2a409",
   "metadata": {},
   "outputs": [
    {
     "data": {
      "text/html": [
       "<div>\n",
       "<style scoped>\n",
       "    .dataframe tbody tr th:only-of-type {\n",
       "        vertical-align: middle;\n",
       "    }\n",
       "\n",
       "    .dataframe tbody tr th {\n",
       "        vertical-align: top;\n",
       "    }\n",
       "\n",
       "    .dataframe thead th {\n",
       "        text-align: right;\n",
       "    }\n",
       "</style>\n",
       "<table border=\"1\" class=\"dataframe\">\n",
       "  <thead>\n",
       "    <tr style=\"text-align: right;\">\n",
       "      <th></th>\n",
       "      <th>month_year</th>\n",
       "      <th>day</th>\n",
       "      <th>name</th>\n",
       "      <th>info</th>\n",
       "      <th>link</th>\n",
       "      <th>num_references</th>\n",
       "    </tr>\n",
       "  </thead>\n",
       "  <tbody>\n",
       "    <tr>\n",
       "      <th>0</th>\n",
       "      <td>January 1994</td>\n",
       "      <td>1</td>\n",
       "      <td>William Chappell</td>\n",
       "      <td>, 86, British dancer, ballet designer and director.</td>\n",
       "      <td>https://en.wikipedia.org/wiki/William_Chappell_(dancer)</td>\n",
       "      <td>21</td>\n",
       "    </tr>\n",
       "    <tr>\n",
       "      <th>1</th>\n",
       "      <td>January 1994</td>\n",
       "      <td>1</td>\n",
       "      <td>Raymond Crotty</td>\n",
       "      <td>, 68, Irish economist, writer, and academic.</td>\n",
       "      <td>https://en.wikipedia.org/wiki/Raymond_Crotty</td>\n",
       "      <td>12</td>\n",
       "    </tr>\n",
       "  </tbody>\n",
       "</table>\n",
       "</div>"
      ],
      "text/plain": [
       "     month_year day              name  \\\n",
       "0  January 1994   1  William Chappell   \n",
       "1  January 1994   1    Raymond Crotty   \n",
       "\n",
       "                                                  info  \\\n",
       "0  , 86, British dancer, ballet designer and director.   \n",
       "1         , 68, Irish economist, writer, and academic.   \n",
       "\n",
       "                                                      link num_references  \n",
       "0  https://en.wikipedia.org/wiki/William_Chappell_(dancer)             21  \n",
       "1             https://en.wikipedia.org/wiki/Raymond_Crotty             12  "
      ]
     },
     "execution_count": 46,
     "metadata": {},
     "output_type": "execute_result"
    },
    {
     "data": {
      "application/javascript": [
       "\n",
       "            setTimeout(function() {\n",
       "                var nbb_cell_id = 46;\n",
       "                var nbb_unformatted_code = \"# df.drop(\\\"num_references_y\\\", axis=1, inplace=True)\\ndf.rename(columns={\\\"num_references_x\\\": \\\"num_references\\\"}, inplace=True)\\ndf.head(2)\";\n",
       "                var nbb_formatted_code = \"# df.drop(\\\"num_references_y\\\", axis=1, inplace=True)\\ndf.rename(columns={\\\"num_references_x\\\": \\\"num_references\\\"}, inplace=True)\\ndf.head(2)\";\n",
       "                var nbb_cells = Jupyter.notebook.get_cells();\n",
       "                for (var i = 0; i < nbb_cells.length; ++i) {\n",
       "                    if (nbb_cells[i].input_prompt_number == nbb_cell_id) {\n",
       "                        if (nbb_cells[i].get_text() == nbb_unformatted_code) {\n",
       "                             nbb_cells[i].set_text(nbb_formatted_code);\n",
       "                        }\n",
       "                        break;\n",
       "                    }\n",
       "                }\n",
       "            }, 500);\n",
       "            "
      ],
      "text/plain": [
       "<IPython.core.display.Javascript object>"
      ]
     },
     "metadata": {},
     "output_type": "display_data"
    }
   ],
   "source": [
    "# Dropping new references column and reverting to original column name\n",
    "df.drop(\"num_references_y\", axis=1, inplace=True)\n",
    "df.rename(columns={\"num_references_x\": \"num_references\"}, inplace=True)\n",
    "df.head(2)"
   ]
  },
  {
   "cell_type": "markdown",
   "id": "f278a5a9",
   "metadata": {},
   "source": [
    "#### Checking Remaining Missing Values"
   ]
  },
  {
   "cell_type": "code",
   "execution_count": 47,
   "id": "ab315b62",
   "metadata": {},
   "outputs": [
    {
     "data": {
      "text/plain": [
       "month_year           0\n",
       "day                  0\n",
       "name                 6\n",
       "info                 0\n",
       "link                 0\n",
       "num_references    5895\n",
       "dtype: int64"
      ]
     },
     "execution_count": 47,
     "metadata": {},
     "output_type": "execute_result"
    },
    {
     "data": {
      "application/javascript": [
       "\n",
       "            setTimeout(function() {\n",
       "                var nbb_cell_id = 47;\n",
       "                var nbb_unformatted_code = \"df.isna().sum()\";\n",
       "                var nbb_formatted_code = \"df.isna().sum()\";\n",
       "                var nbb_cells = Jupyter.notebook.get_cells();\n",
       "                for (var i = 0; i < nbb_cells.length; ++i) {\n",
       "                    if (nbb_cells[i].input_prompt_number == nbb_cell_id) {\n",
       "                        if (nbb_cells[i].get_text() == nbb_unformatted_code) {\n",
       "                             nbb_cells[i].set_text(nbb_formatted_code);\n",
       "                        }\n",
       "                        break;\n",
       "                    }\n",
       "                }\n",
       "            }, 500);\n",
       "            "
      ],
      "text/plain": [
       "<IPython.core.display.Javascript object>"
      ]
     },
     "metadata": {},
     "output_type": "display_data"
    }
   ],
   "source": [
    "# Checking remainig missing values\n",
    "df.isna().sum()"
   ]
  },
  {
   "cell_type": "markdown",
   "id": "7925d06e",
   "metadata": {},
   "source": [
    "#### Observations:\n",
    "- We have nearly 6000 remaining missing values for `num_references`, so we will iterate through the rescraping again."
   ]
  },
  {
   "cell_type": "code",
   "execution_count": 48,
   "id": "d257fb3e",
   "metadata": {},
   "outputs": [
    {
     "data": {
      "text/html": [
       "<div>\n",
       "<style scoped>\n",
       "    .dataframe tbody tr th:only-of-type {\n",
       "        vertical-align: middle;\n",
       "    }\n",
       "\n",
       "    .dataframe tbody tr th {\n",
       "        vertical-align: top;\n",
       "    }\n",
       "\n",
       "    .dataframe thead th {\n",
       "        text-align: right;\n",
       "    }\n",
       "</style>\n",
       "<table border=\"1\" class=\"dataframe\">\n",
       "  <thead>\n",
       "    <tr style=\"text-align: right;\">\n",
       "      <th></th>\n",
       "      <th>month_year</th>\n",
       "      <th>day</th>\n",
       "      <th>name</th>\n",
       "      <th>info</th>\n",
       "      <th>link</th>\n",
       "      <th>num_references</th>\n",
       "    </tr>\n",
       "  </thead>\n",
       "  <tbody>\n",
       "    <tr>\n",
       "      <th>55356</th>\n",
       "      <td>April 2012</td>\n",
       "      <td>28</td>\n",
       "      <td>Joaquín Dualde</td>\n",
       "      <td>, 79, Spanish Olympic bronze medal-winning (1960) field hockey player. (Spanish)</td>\n",
       "      <td>https://en.wikipedia.org/wiki/Joaqu%C3%ADn_Dualde</td>\n",
       "      <td>NaN</td>\n",
       "    </tr>\n",
       "    <tr>\n",
       "      <th>74864</th>\n",
       "      <td>March 2015</td>\n",
       "      <td>1</td>\n",
       "      <td>Matthew Young</td>\n",
       "      <td>, 70, British civil servant and executive (Panini Group).</td>\n",
       "      <td>https://en.wikipedia.org/wiki/Matthew_Young_(civil_servant)</td>\n",
       "      <td>NaN</td>\n",
       "    </tr>\n",
       "    <tr>\n",
       "      <th>81094</th>\n",
       "      <td>February 2016</td>\n",
       "      <td>10</td>\n",
       "      <td>Richard Unis</td>\n",
       "      <td>, 87, American judge, stroke.</td>\n",
       "      <td>https://en.wikipedia.org/wiki/Richard_Unis</td>\n",
       "      <td>NaN</td>\n",
       "    </tr>\n",
       "    <tr>\n",
       "      <th>64139</th>\n",
       "      <td>August 2013</td>\n",
       "      <td>20</td>\n",
       "      <td>John W. Morris</td>\n",
       "      <td>, 91, American army lieutenant general, Chief of Engineers (1976—1980).</td>\n",
       "      <td>https://en.wikipedia.org/wiki/John_W._Morris</td>\n",
       "      <td>NaN</td>\n",
       "    </tr>\n",
       "    <tr>\n",
       "      <th>62740</th>\n",
       "      <td>June 2013</td>\n",
       "      <td>6</td>\n",
       "      <td>Elaine Laron</td>\n",
       "      <td>, 83, American songwriter and lyricist (, ), pneumonia.</td>\n",
       "      <td>https://en.wikipedia.org/wiki/Elaine_Laron</td>\n",
       "      <td>NaN</td>\n",
       "    </tr>\n",
       "  </tbody>\n",
       "</table>\n",
       "</div>"
      ],
      "text/plain": [
       "          month_year day            name  \\\n",
       "55356     April 2012  28  Joaquín Dualde   \n",
       "74864     March 2015   1   Matthew Young   \n",
       "81094  February 2016  10    Richard Unis   \n",
       "64139    August 2013  20  John W. Morris   \n",
       "62740      June 2013   6    Elaine Laron   \n",
       "\n",
       "                                                                                   info  \\\n",
       "55356  , 79, Spanish Olympic bronze medal-winning (1960) field hockey player. (Spanish)   \n",
       "74864                         , 70, British civil servant and executive (Panini Group).   \n",
       "81094                                                     , 87, American judge, stroke.   \n",
       "64139           , 91, American army lieutenant general, Chief of Engineers (1976—1980).   \n",
       "62740                           , 83, American songwriter and lyricist (, ), pneumonia.   \n",
       "\n",
       "                                                              link  \\\n",
       "55356            https://en.wikipedia.org/wiki/Joaqu%C3%ADn_Dualde   \n",
       "74864  https://en.wikipedia.org/wiki/Matthew_Young_(civil_servant)   \n",
       "81094                   https://en.wikipedia.org/wiki/Richard_Unis   \n",
       "64139                 https://en.wikipedia.org/wiki/John_W._Morris   \n",
       "62740                   https://en.wikipedia.org/wiki/Elaine_Laron   \n",
       "\n",
       "      num_references  \n",
       "55356            NaN  \n",
       "74864            NaN  \n",
       "81094            NaN  \n",
       "64139            NaN  \n",
       "62740            NaN  "
      ]
     },
     "execution_count": 48,
     "metadata": {},
     "output_type": "execute_result"
    },
    {
     "data": {
      "application/javascript": [
       "\n",
       "            setTimeout(function() {\n",
       "                var nbb_cell_id = 48;\n",
       "                var nbb_unformatted_code = \"# Checking sample of rows missing num_references\\ndf[df[\\\"num_references\\\"].isna()].sample(5)\";\n",
       "                var nbb_formatted_code = \"# Checking sample of rows missing num_references\\ndf[df[\\\"num_references\\\"].isna()].sample(5)\";\n",
       "                var nbb_cells = Jupyter.notebook.get_cells();\n",
       "                for (var i = 0; i < nbb_cells.length; ++i) {\n",
       "                    if (nbb_cells[i].input_prompt_number == nbb_cell_id) {\n",
       "                        if (nbb_cells[i].get_text() == nbb_unformatted_code) {\n",
       "                             nbb_cells[i].set_text(nbb_formatted_code);\n",
       "                        }\n",
       "                        break;\n",
       "                    }\n",
       "                }\n",
       "            }, 500);\n",
       "            "
      ],
      "text/plain": [
       "<IPython.core.display.Javascript object>"
      ]
     },
     "metadata": {},
     "output_type": "display_data"
    }
   ],
   "source": [
    "# Checking sample of rows missing num_references\n",
    "df[df[\"num_references\"].isna()].sample(5)"
   ]
  },
  {
   "cell_type": "markdown",
   "id": "761f626a",
   "metadata": {},
   "source": [
    "#### Observations:\n",
    "- Following the links again reveals that the pages contain references.  \n",
    "- We will export another dataframe of the links to the pages that need to be re-scraped for `num_references` and examine the pages for alternate XPaths for scraping."
   ]
  },
  {
   "cell_type": "code",
   "execution_count": 49,
   "id": "87b94796",
   "metadata": {},
   "outputs": [
    {
     "data": {
      "application/javascript": [
       "\n",
       "            setTimeout(function() {\n",
       "                var nbb_cell_id = 49;\n",
       "                var nbb_unformatted_code = \"# Exporting dataframe of pages to rescrape for num_references\\nrescrape_df_2nd = df[df[\\\"num_references\\\"].isna()][\\\"link\\\"]\\nrescrape_df_2nd.to_csv(\\\"rescrape_df_2nd.csv\\\", index=False)\";\n",
       "                var nbb_formatted_code = \"# Exporting dataframe of pages to rescrape for num_references\\nrescrape_df_2nd = df[df[\\\"num_references\\\"].isna()][\\\"link\\\"]\\nrescrape_df_2nd.to_csv(\\\"rescrape_df_2nd.csv\\\", index=False)\";\n",
       "                var nbb_cells = Jupyter.notebook.get_cells();\n",
       "                for (var i = 0; i < nbb_cells.length; ++i) {\n",
       "                    if (nbb_cells[i].input_prompt_number == nbb_cell_id) {\n",
       "                        if (nbb_cells[i].get_text() == nbb_unformatted_code) {\n",
       "                             nbb_cells[i].set_text(nbb_formatted_code);\n",
       "                        }\n",
       "                        break;\n",
       "                    }\n",
       "                }\n",
       "            }, 500);\n",
       "            "
      ],
      "text/plain": [
       "<IPython.core.display.Javascript object>"
      ]
     },
     "metadata": {},
     "output_type": "display_data"
    }
   ],
   "source": [
    "# Exporting dataframe of pages to rescrape for num_references\n",
    "rescrape_df_2nd = df[df[\"num_references\"].isna()][\"link\"]\n",
    "rescrape_df_2nd.to_csv(\"rescrape_df_2nd.csv\", index=False)"
   ]
  },
  {
   "cell_type": "markdown",
   "id": "867baa4a",
   "metadata": {},
   "source": [
    "#### Observations:\n"
   ]
  },
  {
   "cell_type": "code",
   "execution_count": null,
   "id": "0db6eed9",
   "metadata": {},
   "outputs": [],
   "source": []
  }
 ],
 "metadata": {
  "kernelspec": {
   "display_name": "Python 3 (ipykernel)",
   "language": "python",
   "name": "python3"
  },
  "language_info": {
   "codemirror_mode": {
    "name": "ipython",
    "version": 3
   },
   "file_extension": ".py",
   "mimetype": "text/x-python",
   "name": "python",
   "nbconvert_exporter": "python",
   "pygments_lexer": "ipython3",
   "version": "3.9.12"
  }
 },
 "nbformat": 4,
 "nbformat_minor": 5
}
