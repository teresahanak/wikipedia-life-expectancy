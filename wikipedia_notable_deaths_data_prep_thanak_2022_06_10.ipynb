{
 "cells": [
  {
   "cell_type": "markdown",
   "id": "6412cc2e",
   "metadata": {},
   "source": [
    "# Wikipedia Notable Deaths\n",
    "\n",
    "## Context\n",
    "\n",
    "The...\n",
    "\n",
    "## Objective\n",
    "\n",
    "The...\n",
    "\n",
    "## Data Dictionary\n",
    "Variable: Description"
   ]
  },
  {
   "cell_type": "markdown",
   "id": "8ee47474",
   "metadata": {},
   "source": [
    "### Data Collection\n",
    "Scraped on 6/9/22 with scrapy.\n",
    "\n",
    "Main site: https://en.wikipedia.org/wiki/Lists_of_deaths_by_year\n",
    "Start_url: https://en.wikipedia.org/wiki/Deaths_in_January_1994\n",
    "paginating through May, 2022 successfully.\n",
    "Reference count scraped separately,due to pagination, to maintain original order in first dataset.\n",
    "June, 20222 as the current month had inconsistent formatting and was scraped separately. \n",
    "~13,000 missing entries for reference count.\n",
    "\n",
    "6/10/22 set out to id links with missing reference count to rescrape."
   ]
  },
  {
   "cell_type": "markdown",
   "id": "5a084978",
   "metadata": {},
   "source": [
    "## Importing necessary libraries"
   ]
  },
  {
   "cell_type": "code",
   "execution_count": 1,
   "id": "7136ab5d",
   "metadata": {},
   "outputs": [],
   "source": [
    "# To limit number of threads in numpy and thereby prevent known dataleak associated with KMeans\n",
    "# Note:  this cell must be run BEFORE installing numpy to have desired effect\n",
    "import os\n",
    "\n",
    "os.environ[\"OMP_NUM_THREADS\"] = \"1\""
   ]
  },
  {
   "cell_type": "code",
   "execution_count": 2,
   "id": "44efb07a",
   "metadata": {},
   "outputs": [
    {
     "data": {
      "application/javascript": [
       "\n",
       "            setTimeout(function() {\n",
       "                var nbb_cell_id = 2;\n",
       "                var nbb_unformatted_code = \"# To structure code automatically\\n%load_ext nb_black\\n\\n# To import sqlite databases\\nimport sqlite3 as sql\\n\\n# %load_ext sql\\n\\n# To help with reading and manipulating data\\nimport pandas as pd\\nimport numpy as np\\n\\n# To help with data visualization\\nimport matplotlib.pyplot as plt\\nimport seaborn as sns\\nfrom sklearn.manifold import TSNE\\nfrom sklearn.decomposition import PCA\\n\\n# To be used for data scaling\\nfrom sklearn.preprocessing import StandardScaler\\n\\n# To compute distances\\nfrom scipy.spatial.distance import cdist, pdist\\n\\n# To define maximum number of columns to be displayed in a dataframe\\npd.set_option(\\\"display.max_columns\\\", None)\\n# To define the maximum number of rows to be displayed in a dataframe\\npd.set_option(\\\"display.max_rows\\\", 200)\\n\\n# To perform k-means clustering and compute silhouette scores\\nfrom sklearn.cluster import KMeans\\nfrom sklearn.metrics import silhouette_score\\n\\n# To visualize the elbow curve and silhouette scores\\nfrom yellowbrick.cluster import KElbowVisualizer, SilhouetteVisualizer\\nfrom yellowbrick.style.palettes import PALETTES\\n\\n# To perform hierarchical clustering, compute cophenetic correlation, and create dendrograms\\nfrom sklearn.cluster import AgglomerativeClustering\\nfrom scipy.cluster.hierarchy import dendrogram, linkage, cophenet\\n\\n# To supress scientific notations for a dataframe\\npd.set_option(\\\"display.float_format\\\", lambda x: \\\"%.3f\\\" % x)\\n\\n# To supress warnings\\nimport warnings\\n\\nwarnings.filterwarnings(\\\"ignore\\\")\\n\\n# To set some visualization attributes\\nsns.set_theme()\\nsns.set_palette(\\n    (\\n        \\\"midnightblue\\\",\\n        \\\"goldenrod\\\",\\n        \\\"maroon\\\",\\n        \\\"darkolivegreen\\\",\\n        \\\"cadetblue\\\",\\n        \\\"tab:purple\\\",\\n        \\\"yellowgreen\\\",\\n    )\\n)\\nplt.rc(\\\"font\\\", size=12)\\nplt.rc(\\\"axes\\\", titlesize=15)\\nplt.rc(\\\"axes\\\", labelsize=14)\\nplt.rc(\\\"xtick\\\", labelsize=13)\\nplt.rc(\\\"ytick\\\", labelsize=13)\\nplt.rc(\\\"legend\\\", fontsize=13)\\nplt.rc(\\\"legend\\\", fontsize=14)\\nplt.rc(\\\"figure\\\", titlesize=16)\";\n",
       "                var nbb_formatted_code = \"# To structure code automatically\\n%load_ext nb_black\\n\\n# To import sqlite databases\\nimport sqlite3 as sql\\n\\n# %load_ext sql\\n\\n# To help with reading and manipulating data\\nimport pandas as pd\\nimport numpy as np\\n\\n# To help with data visualization\\nimport matplotlib.pyplot as plt\\nimport seaborn as sns\\nfrom sklearn.manifold import TSNE\\nfrom sklearn.decomposition import PCA\\n\\n# To be used for data scaling\\nfrom sklearn.preprocessing import StandardScaler\\n\\n# To compute distances\\nfrom scipy.spatial.distance import cdist, pdist\\n\\n# To define maximum number of columns to be displayed in a dataframe\\npd.set_option(\\\"display.max_columns\\\", None)\\n# To define the maximum number of rows to be displayed in a dataframe\\npd.set_option(\\\"display.max_rows\\\", 200)\\n\\n# To perform k-means clustering and compute silhouette scores\\nfrom sklearn.cluster import KMeans\\nfrom sklearn.metrics import silhouette_score\\n\\n# To visualize the elbow curve and silhouette scores\\nfrom yellowbrick.cluster import KElbowVisualizer, SilhouetteVisualizer\\nfrom yellowbrick.style.palettes import PALETTES\\n\\n# To perform hierarchical clustering, compute cophenetic correlation, and create dendrograms\\nfrom sklearn.cluster import AgglomerativeClustering\\nfrom scipy.cluster.hierarchy import dendrogram, linkage, cophenet\\n\\n# To supress scientific notations for a dataframe\\npd.set_option(\\\"display.float_format\\\", lambda x: \\\"%.3f\\\" % x)\\n\\n# To supress warnings\\nimport warnings\\n\\nwarnings.filterwarnings(\\\"ignore\\\")\\n\\n# To set some visualization attributes\\nsns.set_theme()\\nsns.set_palette(\\n    (\\n        \\\"midnightblue\\\",\\n        \\\"goldenrod\\\",\\n        \\\"maroon\\\",\\n        \\\"darkolivegreen\\\",\\n        \\\"cadetblue\\\",\\n        \\\"tab:purple\\\",\\n        \\\"yellowgreen\\\",\\n    )\\n)\\nplt.rc(\\\"font\\\", size=12)\\nplt.rc(\\\"axes\\\", titlesize=15)\\nplt.rc(\\\"axes\\\", labelsize=14)\\nplt.rc(\\\"xtick\\\", labelsize=13)\\nplt.rc(\\\"ytick\\\", labelsize=13)\\nplt.rc(\\\"legend\\\", fontsize=13)\\nplt.rc(\\\"legend\\\", fontsize=14)\\nplt.rc(\\\"figure\\\", titlesize=16)\";\n",
       "                var nbb_cells = Jupyter.notebook.get_cells();\n",
       "                for (var i = 0; i < nbb_cells.length; ++i) {\n",
       "                    if (nbb_cells[i].input_prompt_number == nbb_cell_id) {\n",
       "                        if (nbb_cells[i].get_text() == nbb_unformatted_code) {\n",
       "                             nbb_cells[i].set_text(nbb_formatted_code);\n",
       "                        }\n",
       "                        break;\n",
       "                    }\n",
       "                }\n",
       "            }, 500);\n",
       "            "
      ],
      "text/plain": [
       "<IPython.core.display.Javascript object>"
      ]
     },
     "metadata": {},
     "output_type": "display_data"
    }
   ],
   "source": [
    "# To structure code automatically\n",
    "%load_ext nb_black\n",
    "\n",
    "# To import sqlite databases\n",
    "import sqlite3 as sql\n",
    "\n",
    "# To help with reading and manipulating data\n",
    "import pandas as pd\n",
    "import numpy as np\n",
    "\n",
    "# To help with data visualization\n",
    "import matplotlib.pyplot as plt\n",
    "import seaborn as sns\n",
    "from sklearn.manifold import TSNE\n",
    "from sklearn.decomposition import PCA\n",
    "\n",
    "# To be used for data scaling\n",
    "from sklearn.preprocessing import StandardScaler\n",
    "\n",
    "# To compute distances\n",
    "from scipy.spatial.distance import cdist, pdist\n",
    "\n",
    "# To define maximum number of columns to be displayed in a dataframe\n",
    "pd.set_option(\"display.max_columns\", None)\n",
    "# To define the maximum number of rows to be displayed in a dataframe\n",
    "pd.set_option(\"display.max_rows\", 200)\n",
    "\n",
    "# To perform k-means clustering and compute silhouette scores\n",
    "from sklearn.cluster import KMeans\n",
    "from sklearn.metrics import silhouette_score\n",
    "\n",
    "# To visualize the elbow curve and silhouette scores\n",
    "from yellowbrick.cluster import KElbowVisualizer, SilhouetteVisualizer\n",
    "from yellowbrick.style.palettes import PALETTES\n",
    "\n",
    "# To perform hierarchical clustering, compute cophenetic correlation, and create dendrograms\n",
    "from sklearn.cluster import AgglomerativeClustering\n",
    "from scipy.cluster.hierarchy import dendrogram, linkage, cophenet\n",
    "\n",
    "# To supress scientific notations for a dataframe\n",
    "pd.set_option(\"display.float_format\", lambda x: \"%.3f\" % x)\n",
    "\n",
    "# To supress warnings\n",
    "import warnings\n",
    "\n",
    "warnings.filterwarnings(\"ignore\")\n",
    "\n",
    "# To set some visualization attributes\n",
    "sns.set_theme()\n",
    "sns.set_palette(\n",
    "    (\n",
    "        \"midnightblue\",\n",
    "        \"goldenrod\",\n",
    "        \"maroon\",\n",
    "        \"darkolivegreen\",\n",
    "        \"cadetblue\",\n",
    "        \"tab:purple\",\n",
    "        \"yellowgreen\",\n",
    "    )\n",
    ")\n",
    "plt.rc(\"font\", size=12)\n",
    "plt.rc(\"axes\", titlesize=15)\n",
    "plt.rc(\"axes\", labelsize=14)\n",
    "plt.rc(\"xtick\", labelsize=13)\n",
    "plt.rc(\"ytick\", labelsize=13)\n",
    "plt.rc(\"legend\", fontsize=13)\n",
    "plt.rc(\"legend\", fontsize=14)\n",
    "plt.rc(\"figure\", titlesize=16)"
   ]
  },
  {
   "cell_type": "markdown",
   "id": "50fa1d1a",
   "metadata": {},
   "source": [
    "## Data Overview"
   ]
  },
  {
   "cell_type": "markdown",
   "id": "03544cee",
   "metadata": {},
   "source": [
    "### Reading, sampling, and checking data shape"
   ]
  },
  {
   "cell_type": "markdown",
   "id": "4a0c37e4",
   "metadata": {},
   "source": [
    "#### For June 2022"
   ]
  },
  {
   "cell_type": "code",
   "execution_count": 31,
   "id": "08c10f88",
   "metadata": {},
   "outputs": [
    {
     "name": "stdout",
     "output_type": "stream",
     "text": [
      "There are 145 rows and 6 columns.\n"
     ]
    },
    {
     "data": {
      "text/html": [
       "<div>\n",
       "<style scoped>\n",
       "    .dataframe tbody tr th:only-of-type {\n",
       "        vertical-align: middle;\n",
       "    }\n",
       "\n",
       "    .dataframe tbody tr th {\n",
       "        vertical-align: top;\n",
       "    }\n",
       "\n",
       "    .dataframe thead th {\n",
       "        text-align: right;\n",
       "    }\n",
       "</style>\n",
       "<table border=\"1\" class=\"dataframe\">\n",
       "  <thead>\n",
       "    <tr style=\"text-align: right;\">\n",
       "      <th></th>\n",
       "      <th>month_year</th>\n",
       "      <th>day</th>\n",
       "      <th>name</th>\n",
       "      <th>info</th>\n",
       "      <th>link</th>\n",
       "      <th>num_references</th>\n",
       "    </tr>\n",
       "  </thead>\n",
       "  <tbody>\n",
       "    <tr>\n",
       "      <th>0</th>\n",
       "      <td>June 2022</td>\n",
       "      <td>8</td>\n",
       "      <td>Mladen Frančić</td>\n",
       "      <td>, 67, Croatian football player and manager (Vr...</td>\n",
       "      <td>https://en.wikipedia.org/wiki/Mladen_Fran%C4%8...</td>\n",
       "      <td>1</td>\n",
       "    </tr>\n",
       "    <tr>\n",
       "      <th>1</th>\n",
       "      <td>June 2022</td>\n",
       "      <td>6</td>\n",
       "      <td>Valery Ryumin</td>\n",
       "      <td>, 82, Russian cosmonaut (Soyuz 25, Soyuz 32, S...</td>\n",
       "      <td>https://en.wikipedia.org/wiki/Valery_Ryumin</td>\n",
       "      <td>2</td>\n",
       "    </tr>\n",
       "  </tbody>\n",
       "</table>\n",
       "</div>"
      ],
      "text/plain": [
       "  month_year day            name  \\\n",
       "0  June 2022   8  Mladen Frančić   \n",
       "1  June 2022   6   Valery Ryumin   \n",
       "\n",
       "                                                info  \\\n",
       "0  , 67, Croatian football player and manager (Vr...   \n",
       "1  , 82, Russian cosmonaut (Soyuz 25, Soyuz 32, S...   \n",
       "\n",
       "                                                link num_references  \n",
       "0  https://en.wikipedia.org/wiki/Mladen_Fran%C4%8...              1  \n",
       "1        https://en.wikipedia.org/wiki/Valery_Ryumin              2  "
      ]
     },
     "execution_count": 31,
     "metadata": {},
     "output_type": "execute_result"
    },
    {
     "data": {
      "application/javascript": [
       "\n",
       "            setTimeout(function() {\n",
       "                var nbb_cell_id = 31;\n",
       "                var nbb_unformatted_code = \"# Reading the wp_deaths_June_2022 dataset from sql db and table\\nconn = sql.connect(\\\"wp_deaths_June_2022.db\\\")\\nraw_June_2022 = pd.read_sql(\\\"SELECT * FROM wp_deaths_June_2022\\\", conn)\\n\\n# Making a working copy\\ndf_June_2022 = raw_June_2022.copy()\\n\\n# Checking the shape\\nprint(f\\\"There are {df_June_2022.shape[0]} rows and {df_June_2022.shape[1]} columns.\\\")\\n\\n# Checking first 2 rows of the data\\ndf_June_2022.head(2)\";\n",
       "                var nbb_formatted_code = \"# Reading the wp_deaths_June_2022 dataset from sql db and table\\nconn = sql.connect(\\\"wp_deaths_June_2022.db\\\")\\nraw_June_2022 = pd.read_sql(\\\"SELECT * FROM wp_deaths_June_2022\\\", conn)\\n\\n# Making a working copy\\ndf_June_2022 = raw_June_2022.copy()\\n\\n# Checking the shape\\nprint(f\\\"There are {df_June_2022.shape[0]} rows and {df_June_2022.shape[1]} columns.\\\")\\n\\n# Checking first 2 rows of the data\\ndf_June_2022.head(2)\";\n",
       "                var nbb_cells = Jupyter.notebook.get_cells();\n",
       "                for (var i = 0; i < nbb_cells.length; ++i) {\n",
       "                    if (nbb_cells[i].input_prompt_number == nbb_cell_id) {\n",
       "                        if (nbb_cells[i].get_text() == nbb_unformatted_code) {\n",
       "                             nbb_cells[i].set_text(nbb_formatted_code);\n",
       "                        }\n",
       "                        break;\n",
       "                    }\n",
       "                }\n",
       "            }, 500);\n",
       "            "
      ],
      "text/plain": [
       "<IPython.core.display.Javascript object>"
      ]
     },
     "metadata": {},
     "output_type": "display_data"
    }
   ],
   "source": [
    "# Reading the wp_deaths_June_2022 dataset from sql db and table\n",
    "conn = sql.connect(\"wp_deaths_June_2022.db\")\n",
    "raw_June_2022 = pd.read_sql(\"SELECT * FROM wp_deaths_June_2022\", conn)\n",
    "\n",
    "# Making a working copy\n",
    "df_June_2022 = raw_June_2022.copy()\n",
    "\n",
    "# Checking the shape\n",
    "print(f\"There are {df_June_2022.shape[0]} rows and {df_June_2022.shape[1]} columns.\")\n",
    "\n",
    "# Checking first 2 rows of the data\n",
    "df_June_2022.head(2)"
   ]
  },
  {
   "cell_type": "code",
   "execution_count": 32,
   "id": "241bfedd",
   "metadata": {},
   "outputs": [
    {
     "data": {
      "text/html": [
       "<div>\n",
       "<style scoped>\n",
       "    .dataframe tbody tr th:only-of-type {\n",
       "        vertical-align: middle;\n",
       "    }\n",
       "\n",
       "    .dataframe tbody tr th {\n",
       "        vertical-align: top;\n",
       "    }\n",
       "\n",
       "    .dataframe thead th {\n",
       "        text-align: right;\n",
       "    }\n",
       "</style>\n",
       "<table border=\"1\" class=\"dataframe\">\n",
       "  <thead>\n",
       "    <tr style=\"text-align: right;\">\n",
       "      <th></th>\n",
       "      <th>month_year</th>\n",
       "      <th>day</th>\n",
       "      <th>name</th>\n",
       "      <th>info</th>\n",
       "      <th>link</th>\n",
       "      <th>num_references</th>\n",
       "    </tr>\n",
       "  </thead>\n",
       "  <tbody>\n",
       "    <tr>\n",
       "      <th>143</th>\n",
       "      <td>June 2022</td>\n",
       "      <td>8</td>\n",
       "      <td>Rocky Freitas</td>\n",
       "      <td>, 76, American football player (Detroit Lions,...</td>\n",
       "      <td>https://en.wikipedia.org/wiki/Rocky_Freitas</td>\n",
       "      <td>4</td>\n",
       "    </tr>\n",
       "    <tr>\n",
       "      <th>144</th>\n",
       "      <td>June 2022</td>\n",
       "      <td>8</td>\n",
       "      <td>Birkha Bahadur Muringla</td>\n",
       "      <td>, 79, Indian writer.</td>\n",
       "      <td>https://en.wikipedia.org/wiki/Birkha_Bahadur_M...</td>\n",
       "      <td>3</td>\n",
       "    </tr>\n",
       "  </tbody>\n",
       "</table>\n",
       "</div>"
      ],
      "text/plain": [
       "    month_year day                     name  \\\n",
       "143  June 2022   8            Rocky Freitas   \n",
       "144  June 2022   8  Birkha Bahadur Muringla   \n",
       "\n",
       "                                                  info  \\\n",
       "143  , 76, American football player (Detroit Lions,...   \n",
       "144                               , 79, Indian writer.   \n",
       "\n",
       "                                                  link num_references  \n",
       "143        https://en.wikipedia.org/wiki/Rocky_Freitas              4  \n",
       "144  https://en.wikipedia.org/wiki/Birkha_Bahadur_M...              3  "
      ]
     },
     "execution_count": 32,
     "metadata": {},
     "output_type": "execute_result"
    },
    {
     "data": {
      "application/javascript": [
       "\n",
       "            setTimeout(function() {\n",
       "                var nbb_cell_id = 32;\n",
       "                var nbb_unformatted_code = \"# Checking last 2 rows of the data\\ndf_June_2022.tail(2)\";\n",
       "                var nbb_formatted_code = \"# Checking last 2 rows of the data\\ndf_June_2022.tail(2)\";\n",
       "                var nbb_cells = Jupyter.notebook.get_cells();\n",
       "                for (var i = 0; i < nbb_cells.length; ++i) {\n",
       "                    if (nbb_cells[i].input_prompt_number == nbb_cell_id) {\n",
       "                        if (nbb_cells[i].get_text() == nbb_unformatted_code) {\n",
       "                             nbb_cells[i].set_text(nbb_formatted_code);\n",
       "                        }\n",
       "                        break;\n",
       "                    }\n",
       "                }\n",
       "            }, 500);\n",
       "            "
      ],
      "text/plain": [
       "<IPython.core.display.Javascript object>"
      ]
     },
     "metadata": {},
     "output_type": "display_data"
    }
   ],
   "source": [
    "# Checking last 2 rows of the data\n",
    "df_June_2022.tail(2)"
   ]
  },
  {
   "cell_type": "code",
   "execution_count": 37,
   "id": "2054a32e",
   "metadata": {},
   "outputs": [
    {
     "data": {
      "text/html": [
       "<div>\n",
       "<style scoped>\n",
       "    .dataframe tbody tr th:only-of-type {\n",
       "        vertical-align: middle;\n",
       "    }\n",
       "\n",
       "    .dataframe tbody tr th {\n",
       "        vertical-align: top;\n",
       "    }\n",
       "\n",
       "    .dataframe thead th {\n",
       "        text-align: right;\n",
       "    }\n",
       "</style>\n",
       "<table border=\"1\" class=\"dataframe\">\n",
       "  <thead>\n",
       "    <tr style=\"text-align: right;\">\n",
       "      <th></th>\n",
       "      <th>month_year</th>\n",
       "      <th>day</th>\n",
       "      <th>name</th>\n",
       "      <th>info</th>\n",
       "      <th>link</th>\n",
       "      <th>num_references</th>\n",
       "    </tr>\n",
       "  </thead>\n",
       "  <tbody>\n",
       "    <tr>\n",
       "      <th>110</th>\n",
       "      <td>June 2022</td>\n",
       "      <td>5</td>\n",
       "      <td>Shaun Greatbatch</td>\n",
       "      <td>, 52, English darts player.</td>\n",
       "      <td>https://en.wikipedia.org/wiki/Shaun_Greatbatch</td>\n",
       "      <td>2</td>\n",
       "    </tr>\n",
       "    <tr>\n",
       "      <th>44</th>\n",
       "      <td>June 2022</td>\n",
       "      <td>2</td>\n",
       "      <td>José Luccioni</td>\n",
       "      <td>, 72, French actor ().</td>\n",
       "      <td>https://en.wikipedia.org/wiki/Jos%C3%A9_Luccio...</td>\n",
       "      <td>2</td>\n",
       "    </tr>\n",
       "    <tr>\n",
       "      <th>9</th>\n",
       "      <td>June 2022</td>\n",
       "      <td>8</td>\n",
       "      <td>Tarhan Erdem</td>\n",
       "      <td>, 89, Turkish politician, deputy (1977–1980) a...</td>\n",
       "      <td>https://en.wikipedia.org/wiki/Tarhan_Erdem</td>\n",
       "      <td>8</td>\n",
       "    </tr>\n",
       "    <tr>\n",
       "      <th>64</th>\n",
       "      <td>June 2022</td>\n",
       "      <td>3</td>\n",
       "      <td>Geoff Hunter</td>\n",
       "      <td>, 62, English footballer (Crewe Alexandra, Por...</td>\n",
       "      <td>https://en.wikipedia.org/wiki/Geoff_Hunter_(fo...</td>\n",
       "      <td>10</td>\n",
       "    </tr>\n",
       "    <tr>\n",
       "      <th>129</th>\n",
       "      <td>June 2022</td>\n",
       "      <td>7</td>\n",
       "      <td>Robert Alexander</td>\n",
       "      <td>, 64, American football player (Los Angeles Ra...</td>\n",
       "      <td>https://en.wikipedia.org/wiki/Robert_Alexander...</td>\n",
       "      <td>2</td>\n",
       "    </tr>\n",
       "  </tbody>\n",
       "</table>\n",
       "</div>"
      ],
      "text/plain": [
       "    month_year day              name  \\\n",
       "110  June 2022   5  Shaun Greatbatch   \n",
       "44   June 2022   2     José Luccioni   \n",
       "9    June 2022   8      Tarhan Erdem   \n",
       "64   June 2022   3      Geoff Hunter   \n",
       "129  June 2022   7  Robert Alexander   \n",
       "\n",
       "                                                  info  \\\n",
       "110                        , 52, English darts player.   \n",
       "44                              , 72, French actor ().   \n",
       "9    , 89, Turkish politician, deputy (1977–1980) a...   \n",
       "64   , 62, English footballer (Crewe Alexandra, Por...   \n",
       "129  , 64, American football player (Los Angeles Ra...   \n",
       "\n",
       "                                                  link num_references  \n",
       "110     https://en.wikipedia.org/wiki/Shaun_Greatbatch              2  \n",
       "44   https://en.wikipedia.org/wiki/Jos%C3%A9_Luccio...              2  \n",
       "9           https://en.wikipedia.org/wiki/Tarhan_Erdem              8  \n",
       "64   https://en.wikipedia.org/wiki/Geoff_Hunter_(fo...             10  \n",
       "129  https://en.wikipedia.org/wiki/Robert_Alexander...              2  "
      ]
     },
     "execution_count": 37,
     "metadata": {},
     "output_type": "execute_result"
    },
    {
     "data": {
      "application/javascript": [
       "\n",
       "            setTimeout(function() {\n",
       "                var nbb_cell_id = 37;\n",
       "                var nbb_unformatted_code = \"# Checking a sample of the data\\ndf_June_2022.sample(5)\";\n",
       "                var nbb_formatted_code = \"# Checking a sample of the data\\ndf_June_2022.sample(5)\";\n",
       "                var nbb_cells = Jupyter.notebook.get_cells();\n",
       "                for (var i = 0; i < nbb_cells.length; ++i) {\n",
       "                    if (nbb_cells[i].input_prompt_number == nbb_cell_id) {\n",
       "                        if (nbb_cells[i].get_text() == nbb_unformatted_code) {\n",
       "                             nbb_cells[i].set_text(nbb_formatted_code);\n",
       "                        }\n",
       "                        break;\n",
       "                    }\n",
       "                }\n",
       "            }, 500);\n",
       "            "
      ],
      "text/plain": [
       "<IPython.core.display.Javascript object>"
      ]
     },
     "metadata": {},
     "output_type": "display_data"
    }
   ],
   "source": [
    "# Checking a sample of the data\n",
    "df_June_2022.sample(5)"
   ]
  },
  {
   "cell_type": "markdown",
   "id": "9a4b8423",
   "metadata": {},
   "source": [
    "#### For January 1994 through May 2022 (without reference counts)"
   ]
  },
  {
   "cell_type": "code",
   "execution_count": 34,
   "id": "8a4adc9c",
   "metadata": {},
   "outputs": [
    {
     "name": "stdout",
     "output_type": "stream",
     "text": [
      "There are 133769 rows and 5 columns.\n"
     ]
    },
    {
     "data": {
      "text/html": [
       "<div>\n",
       "<style scoped>\n",
       "    .dataframe tbody tr th:only-of-type {\n",
       "        vertical-align: middle;\n",
       "    }\n",
       "\n",
       "    .dataframe tbody tr th {\n",
       "        vertical-align: top;\n",
       "    }\n",
       "\n",
       "    .dataframe thead th {\n",
       "        text-align: right;\n",
       "    }\n",
       "</style>\n",
       "<table border=\"1\" class=\"dataframe\">\n",
       "  <thead>\n",
       "    <tr style=\"text-align: right;\">\n",
       "      <th></th>\n",
       "      <th>month_year</th>\n",
       "      <th>day</th>\n",
       "      <th>name</th>\n",
       "      <th>info</th>\n",
       "      <th>link</th>\n",
       "    </tr>\n",
       "  </thead>\n",
       "  <tbody>\n",
       "    <tr>\n",
       "      <th>0</th>\n",
       "      <td>January 1994</td>\n",
       "      <td>1</td>\n",
       "      <td>William Chappell</td>\n",
       "      <td>, 86, British dancer, ballet designer and dire...</td>\n",
       "      <td>https://en.wikipedia.org/wiki/William_Chappell...</td>\n",
       "    </tr>\n",
       "    <tr>\n",
       "      <th>1</th>\n",
       "      <td>January 1994</td>\n",
       "      <td>1</td>\n",
       "      <td>Raymond Crotty</td>\n",
       "      <td>, 68, Irish economist, writer, and academic.</td>\n",
       "      <td>https://en.wikipedia.org/wiki/Raymond_Crotty</td>\n",
       "    </tr>\n",
       "  </tbody>\n",
       "</table>\n",
       "</div>"
      ],
      "text/plain": [
       "     month_year day              name  \\\n",
       "0  January 1994   1  William Chappell   \n",
       "1  January 1994   1    Raymond Crotty   \n",
       "\n",
       "                                                info  \\\n",
       "0  , 86, British dancer, ballet designer and dire...   \n",
       "1       , 68, Irish economist, writer, and academic.   \n",
       "\n",
       "                                                link  \n",
       "0  https://en.wikipedia.org/wiki/William_Chappell...  \n",
       "1       https://en.wikipedia.org/wiki/Raymond_Crotty  "
      ]
     },
     "execution_count": 34,
     "metadata": {},
     "output_type": "execute_result"
    },
    {
     "data": {
      "application/javascript": [
       "\n",
       "            setTimeout(function() {\n",
       "                var nbb_cell_id = 34;\n",
       "                var nbb_unformatted_code = \"# Reading the wp_deaths_94_to_22 dataset from sql db and table\\nconn = sql.connect(\\\"wp_deaths_94_to_22.db\\\")\\nraw_94_to_22 = pd.read_sql(\\\"SELECT * FROM wp_deaths_94_to_22\\\", conn)\\n\\n# Making a working copy\\ndf_94_to_22 = raw_94_to_22.copy()\\n\\n# Checking the shape\\nprint(f\\\"There are {df_94_to_22.shape[0]} rows and {df_94_to_22.shape[1]} columns.\\\")\\n\\n# Checking first 2 rows of the data\\ndf_94_to_22.head(2)\";\n",
       "                var nbb_formatted_code = \"# Reading the wp_deaths_94_to_22 dataset from sql db and table\\nconn = sql.connect(\\\"wp_deaths_94_to_22.db\\\")\\nraw_94_to_22 = pd.read_sql(\\\"SELECT * FROM wp_deaths_94_to_22\\\", conn)\\n\\n# Making a working copy\\ndf_94_to_22 = raw_94_to_22.copy()\\n\\n# Checking the shape\\nprint(f\\\"There are {df_94_to_22.shape[0]} rows and {df_94_to_22.shape[1]} columns.\\\")\\n\\n# Checking first 2 rows of the data\\ndf_94_to_22.head(2)\";\n",
       "                var nbb_cells = Jupyter.notebook.get_cells();\n",
       "                for (var i = 0; i < nbb_cells.length; ++i) {\n",
       "                    if (nbb_cells[i].input_prompt_number == nbb_cell_id) {\n",
       "                        if (nbb_cells[i].get_text() == nbb_unformatted_code) {\n",
       "                             nbb_cells[i].set_text(nbb_formatted_code);\n",
       "                        }\n",
       "                        break;\n",
       "                    }\n",
       "                }\n",
       "            }, 500);\n",
       "            "
      ],
      "text/plain": [
       "<IPython.core.display.Javascript object>"
      ]
     },
     "metadata": {},
     "output_type": "display_data"
    }
   ],
   "source": [
    "# Reading the wp_deaths_94_to_22 dataset from sql db and table\n",
    "conn = sql.connect(\"wp_deaths_94_to_22.db\")\n",
    "raw_94_to_22 = pd.read_sql(\"SELECT * FROM wp_deaths_94_to_22\", conn)\n",
    "\n",
    "# Making a working copy\n",
    "df_94_to_22 = raw_94_to_22.copy()\n",
    "\n",
    "# Checking the shape\n",
    "print(f\"There are {df_94_to_22.shape[0]} rows and {df_94_to_22.shape[1]} columns.\")\n",
    "\n",
    "# Checking first 2 rows of the data\n",
    "df_94_to_22.head(2)"
   ]
  },
  {
   "cell_type": "code",
   "execution_count": 35,
   "id": "0ce9a4fc",
   "metadata": {},
   "outputs": [
    {
     "data": {
      "text/html": [
       "<div>\n",
       "<style scoped>\n",
       "    .dataframe tbody tr th:only-of-type {\n",
       "        vertical-align: middle;\n",
       "    }\n",
       "\n",
       "    .dataframe tbody tr th {\n",
       "        vertical-align: top;\n",
       "    }\n",
       "\n",
       "    .dataframe thead th {\n",
       "        text-align: right;\n",
       "    }\n",
       "</style>\n",
       "<table border=\"1\" class=\"dataframe\">\n",
       "  <thead>\n",
       "    <tr style=\"text-align: right;\">\n",
       "      <th></th>\n",
       "      <th>month_year</th>\n",
       "      <th>day</th>\n",
       "      <th>name</th>\n",
       "      <th>info</th>\n",
       "      <th>link</th>\n",
       "    </tr>\n",
       "  </thead>\n",
       "  <tbody>\n",
       "    <tr>\n",
       "      <th>133767</th>\n",
       "      <td>May 2022</td>\n",
       "      <td>31</td>\n",
       "      <td>Dave Smith</td>\n",
       "      <td>, 72, American sound engineer, founder of Sequ...</td>\n",
       "      <td>https://en.wikipedia.org/wiki/Dave_Smith_(engi...</td>\n",
       "    </tr>\n",
       "    <tr>\n",
       "      <th>133768</th>\n",
       "      <td>May 2022</td>\n",
       "      <td>31</td>\n",
       "      <td>Wang Zherong</td>\n",
       "      <td>, 86, Chinese tank designer, member of the Chi...</td>\n",
       "      <td>https://en.wikipedia.org/wiki/Wang_Zherong</td>\n",
       "    </tr>\n",
       "  </tbody>\n",
       "</table>\n",
       "</div>"
      ],
      "text/plain": [
       "       month_year day          name  \\\n",
       "133767   May 2022  31    Dave Smith   \n",
       "133768   May 2022  31  Wang Zherong   \n",
       "\n",
       "                                                     info  \\\n",
       "133767  , 72, American sound engineer, founder of Sequ...   \n",
       "133768  , 86, Chinese tank designer, member of the Chi...   \n",
       "\n",
       "                                                     link  \n",
       "133767  https://en.wikipedia.org/wiki/Dave_Smith_(engi...  \n",
       "133768         https://en.wikipedia.org/wiki/Wang_Zherong  "
      ]
     },
     "execution_count": 35,
     "metadata": {},
     "output_type": "execute_result"
    },
    {
     "data": {
      "application/javascript": [
       "\n",
       "            setTimeout(function() {\n",
       "                var nbb_cell_id = 35;\n",
       "                var nbb_unformatted_code = \"# Checking last 2 rows of the data\\ndf_94_to_22.tail(2)\";\n",
       "                var nbb_formatted_code = \"# Checking last 2 rows of the data\\ndf_94_to_22.tail(2)\";\n",
       "                var nbb_cells = Jupyter.notebook.get_cells();\n",
       "                for (var i = 0; i < nbb_cells.length; ++i) {\n",
       "                    if (nbb_cells[i].input_prompt_number == nbb_cell_id) {\n",
       "                        if (nbb_cells[i].get_text() == nbb_unformatted_code) {\n",
       "                             nbb_cells[i].set_text(nbb_formatted_code);\n",
       "                        }\n",
       "                        break;\n",
       "                    }\n",
       "                }\n",
       "            }, 500);\n",
       "            "
      ],
      "text/plain": [
       "<IPython.core.display.Javascript object>"
      ]
     },
     "metadata": {},
     "output_type": "display_data"
    }
   ],
   "source": [
    "# Checking last 2 rows of the data\n",
    "df_94_to_22.tail(2)"
   ]
  },
  {
   "cell_type": "code",
   "execution_count": 38,
   "id": "bb952109",
   "metadata": {},
   "outputs": [
    {
     "data": {
      "text/html": [
       "<div>\n",
       "<style scoped>\n",
       "    .dataframe tbody tr th:only-of-type {\n",
       "        vertical-align: middle;\n",
       "    }\n",
       "\n",
       "    .dataframe tbody tr th {\n",
       "        vertical-align: top;\n",
       "    }\n",
       "\n",
       "    .dataframe thead th {\n",
       "        text-align: right;\n",
       "    }\n",
       "</style>\n",
       "<table border=\"1\" class=\"dataframe\">\n",
       "  <thead>\n",
       "    <tr style=\"text-align: right;\">\n",
       "      <th></th>\n",
       "      <th>month_year</th>\n",
       "      <th>day</th>\n",
       "      <th>name</th>\n",
       "      <th>info</th>\n",
       "      <th>link</th>\n",
       "    </tr>\n",
       "  </thead>\n",
       "  <tbody>\n",
       "    <tr>\n",
       "      <th>11120</th>\n",
       "      <td>March 1998</td>\n",
       "      <td>28</td>\n",
       "      <td>Larry Stephens</td>\n",
       "      <td>, 59, American gridiron football player (Cleve...</td>\n",
       "      <td>https://en.wikipedia.org/wiki/Larry_Stephens_(...</td>\n",
       "    </tr>\n",
       "    <tr>\n",
       "      <th>30238</th>\n",
       "      <td>March 2006</td>\n",
       "      <td>15</td>\n",
       "      <td>George Mackey</td>\n",
       "      <td>, 90, American mathematician, formerly Landon ...</td>\n",
       "      <td>https://en.wikipedia.org/wiki/George_Mackey</td>\n",
       "    </tr>\n",
       "    <tr>\n",
       "      <th>61769</th>\n",
       "      <td>April 2013</td>\n",
       "      <td>14</td>\n",
       "      <td>Efi Arazi</td>\n",
       "      <td>, 76, Israeli businessman.</td>\n",
       "      <td>https://en.wikipedia.org/wiki/Efi_Arazi</td>\n",
       "    </tr>\n",
       "    <tr>\n",
       "      <th>129095</th>\n",
       "      <td>December 2021</td>\n",
       "      <td>6</td>\n",
       "      <td>Eugenio Minasso</td>\n",
       "      <td>, 62, Italian politician, deputy (2008–2013), ...</td>\n",
       "      <td>https://en.wikipedia.org/wiki/Eugenio_Minasso</td>\n",
       "    </tr>\n",
       "    <tr>\n",
       "      <th>75906</th>\n",
       "      <td>April 2015</td>\n",
       "      <td>22</td>\n",
       "      <td>Yoichi Funado</td>\n",
       "      <td>, 71, Japanese novelist, thymic cancer.</td>\n",
       "      <td>https://en.wikipedia.org/wiki/Yoichi_Funado</td>\n",
       "    </tr>\n",
       "  </tbody>\n",
       "</table>\n",
       "</div>"
      ],
      "text/plain": [
       "           month_year day             name  \\\n",
       "11120      March 1998  28   Larry Stephens   \n",
       "30238      March 2006  15    George Mackey   \n",
       "61769      April 2013  14        Efi Arazi   \n",
       "129095  December 2021   6  Eugenio Minasso   \n",
       "75906      April 2015  22    Yoichi Funado   \n",
       "\n",
       "                                                     info  \\\n",
       "11120   , 59, American gridiron football player (Cleve...   \n",
       "30238   , 90, American mathematician, formerly Landon ...   \n",
       "61769                          , 76, Israeli businessman.   \n",
       "129095  , 62, Italian politician, deputy (2008–2013), ...   \n",
       "75906             , 71, Japanese novelist, thymic cancer.   \n",
       "\n",
       "                                                     link  \n",
       "11120   https://en.wikipedia.org/wiki/Larry_Stephens_(...  \n",
       "30238         https://en.wikipedia.org/wiki/George_Mackey  \n",
       "61769             https://en.wikipedia.org/wiki/Efi_Arazi  \n",
       "129095      https://en.wikipedia.org/wiki/Eugenio_Minasso  \n",
       "75906         https://en.wikipedia.org/wiki/Yoichi_Funado  "
      ]
     },
     "execution_count": 38,
     "metadata": {},
     "output_type": "execute_result"
    },
    {
     "data": {
      "application/javascript": [
       "\n",
       "            setTimeout(function() {\n",
       "                var nbb_cell_id = 38;\n",
       "                var nbb_unformatted_code = \"# Checking a sample of the data\\ndf_94_to_22.sample(5)\";\n",
       "                var nbb_formatted_code = \"# Checking a sample of the data\\ndf_94_to_22.sample(5)\";\n",
       "                var nbb_cells = Jupyter.notebook.get_cells();\n",
       "                for (var i = 0; i < nbb_cells.length; ++i) {\n",
       "                    if (nbb_cells[i].input_prompt_number == nbb_cell_id) {\n",
       "                        if (nbb_cells[i].get_text() == nbb_unformatted_code) {\n",
       "                             nbb_cells[i].set_text(nbb_formatted_code);\n",
       "                        }\n",
       "                        break;\n",
       "                    }\n",
       "                }\n",
       "            }, 500);\n",
       "            "
      ],
      "text/plain": [
       "<IPython.core.display.Javascript object>"
      ]
     },
     "metadata": {},
     "output_type": "display_data"
    }
   ],
   "source": [
    "# Checking a sample of the data\n",
    "df_94_to_22.sample(5)"
   ]
  },
  {
   "cell_type": "markdown",
   "id": "5e903a92",
   "metadata": {},
   "source": [
    "#### For January 1994 through May 2022 Reference Counts"
   ]
  },
  {
   "cell_type": "code",
   "execution_count": 39,
   "id": "65d0b5a5",
   "metadata": {},
   "outputs": [
    {
     "name": "stdout",
     "output_type": "stream",
     "text": [
      "There are 120368 rows and 2 columns.\n"
     ]
    },
    {
     "data": {
      "text/html": [
       "<div>\n",
       "<style scoped>\n",
       "    .dataframe tbody tr th:only-of-type {\n",
       "        vertical-align: middle;\n",
       "    }\n",
       "\n",
       "    .dataframe tbody tr th {\n",
       "        vertical-align: top;\n",
       "    }\n",
       "\n",
       "    .dataframe thead th {\n",
       "        text-align: right;\n",
       "    }\n",
       "</style>\n",
       "<table border=\"1\" class=\"dataframe\">\n",
       "  <thead>\n",
       "    <tr style=\"text-align: right;\">\n",
       "      <th></th>\n",
       "      <th>link</th>\n",
       "      <th>num_references</th>\n",
       "    </tr>\n",
       "  </thead>\n",
       "  <tbody>\n",
       "    <tr>\n",
       "      <th>0</th>\n",
       "      <td>https://en.wikipedia.org/wiki/Lys_Gauty</td>\n",
       "      <td>5</td>\n",
       "    </tr>\n",
       "    <tr>\n",
       "      <th>1</th>\n",
       "      <td>https://en.wikipedia.org/wiki/William_Chappell...</td>\n",
       "      <td>21</td>\n",
       "    </tr>\n",
       "  </tbody>\n",
       "</table>\n",
       "</div>"
      ],
      "text/plain": [
       "                                                link num_references\n",
       "0            https://en.wikipedia.org/wiki/Lys_Gauty              5\n",
       "1  https://en.wikipedia.org/wiki/William_Chappell...             21"
      ]
     },
     "execution_count": 39,
     "metadata": {},
     "output_type": "execute_result"
    },
    {
     "data": {
      "application/javascript": [
       "\n",
       "            setTimeout(function() {\n",
       "                var nbb_cell_id = 39;\n",
       "                var nbb_unformatted_code = \"# Reading the wp_reference_counts_2 dataset from sql db and table\\nconn = sql.connect(\\\"wp_reference_counts_2.db\\\")\\nraw_reference_counts = pd.read_sql(\\\"SELECT * FROM wp_reference_counts_2\\\", conn)\\n\\n# Making a working copy\\ndf_reference_counts = raw_reference_counts.copy()\\n\\n# Checking the shape\\nprint(f\\\"There are {df_reference_counts.shape[0]} rows and {df_reference_counts.shape[1]} columns.\\\")\\n\\n# Checking first 2 rows of the data\\ndf_reference_counts.head(2)\";\n",
       "                var nbb_formatted_code = \"# Reading the wp_reference_counts_2 dataset from sql db and table\\nconn = sql.connect(\\\"wp_reference_counts_2.db\\\")\\nraw_reference_counts = pd.read_sql(\\\"SELECT * FROM wp_reference_counts_2\\\", conn)\\n\\n# Making a working copy\\ndf_reference_counts = raw_reference_counts.copy()\\n\\n# Checking the shape\\nprint(\\n    f\\\"There are {df_reference_counts.shape[0]} rows and {df_reference_counts.shape[1]} columns.\\\"\\n)\\n\\n# Checking first 2 rows of the data\\ndf_reference_counts.head(2)\";\n",
       "                var nbb_cells = Jupyter.notebook.get_cells();\n",
       "                for (var i = 0; i < nbb_cells.length; ++i) {\n",
       "                    if (nbb_cells[i].input_prompt_number == nbb_cell_id) {\n",
       "                        if (nbb_cells[i].get_text() == nbb_unformatted_code) {\n",
       "                             nbb_cells[i].set_text(nbb_formatted_code);\n",
       "                        }\n",
       "                        break;\n",
       "                    }\n",
       "                }\n",
       "            }, 500);\n",
       "            "
      ],
      "text/plain": [
       "<IPython.core.display.Javascript object>"
      ]
     },
     "metadata": {},
     "output_type": "display_data"
    }
   ],
   "source": [
    "# Reading the wp_reference_counts_2 dataset from sql db and table\n",
    "conn = sql.connect(\"wp_reference_counts_2.db\")\n",
    "raw_reference_counts = pd.read_sql(\"SELECT * FROM wp_reference_counts_2\", conn)\n",
    "\n",
    "# Making a working copy\n",
    "df_reference_counts = raw_reference_counts.copy()\n",
    "\n",
    "# Checking the shape\n",
    "print(\n",
    "    f\"There are {df_reference_counts.shape[0]} rows and {df_reference_counts.shape[1]} columns.\"\n",
    ")\n",
    "\n",
    "# Checking first 2 rows of the data\n",
    "df_reference_counts.head(2)"
   ]
  },
  {
   "cell_type": "code",
   "execution_count": 40,
   "id": "318098df",
   "metadata": {},
   "outputs": [
    {
     "data": {
      "text/html": [
       "<div>\n",
       "<style scoped>\n",
       "    .dataframe tbody tr th:only-of-type {\n",
       "        vertical-align: middle;\n",
       "    }\n",
       "\n",
       "    .dataframe tbody tr th {\n",
       "        vertical-align: top;\n",
       "    }\n",
       "\n",
       "    .dataframe thead th {\n",
       "        text-align: right;\n",
       "    }\n",
       "</style>\n",
       "<table border=\"1\" class=\"dataframe\">\n",
       "  <thead>\n",
       "    <tr style=\"text-align: right;\">\n",
       "      <th></th>\n",
       "      <th>link</th>\n",
       "      <th>num_references</th>\n",
       "    </tr>\n",
       "  </thead>\n",
       "  <tbody>\n",
       "    <tr>\n",
       "      <th>120366</th>\n",
       "      <td>https://en.wikipedia.org/wiki/Shirley_Thomas_(...</td>\n",
       "      <td>6</td>\n",
       "    </tr>\n",
       "    <tr>\n",
       "      <th>120367</th>\n",
       "      <td>https://en.wikipedia.org/wiki/James_Doohan</td>\n",
       "      <td>52</td>\n",
       "    </tr>\n",
       "  </tbody>\n",
       "</table>\n",
       "</div>"
      ],
      "text/plain": [
       "                                                     link num_references\n",
       "120366  https://en.wikipedia.org/wiki/Shirley_Thomas_(...              6\n",
       "120367         https://en.wikipedia.org/wiki/James_Doohan             52"
      ]
     },
     "execution_count": 40,
     "metadata": {},
     "output_type": "execute_result"
    },
    {
     "data": {
      "application/javascript": [
       "\n",
       "            setTimeout(function() {\n",
       "                var nbb_cell_id = 40;\n",
       "                var nbb_unformatted_code = \"# Checking last 2 rows of the data\\ndf_reference_counts.tail(2)\";\n",
       "                var nbb_formatted_code = \"# Checking last 2 rows of the data\\ndf_reference_counts.tail(2)\";\n",
       "                var nbb_cells = Jupyter.notebook.get_cells();\n",
       "                for (var i = 0; i < nbb_cells.length; ++i) {\n",
       "                    if (nbb_cells[i].input_prompt_number == nbb_cell_id) {\n",
       "                        if (nbb_cells[i].get_text() == nbb_unformatted_code) {\n",
       "                             nbb_cells[i].set_text(nbb_formatted_code);\n",
       "                        }\n",
       "                        break;\n",
       "                    }\n",
       "                }\n",
       "            }, 500);\n",
       "            "
      ],
      "text/plain": [
       "<IPython.core.display.Javascript object>"
      ]
     },
     "metadata": {},
     "output_type": "display_data"
    }
   ],
   "source": [
    "# Checking last 2 rows of the data\n",
    "df_reference_counts.tail(2)"
   ]
  },
  {
   "cell_type": "code",
   "execution_count": 41,
   "id": "9975b107",
   "metadata": {},
   "outputs": [
    {
     "data": {
      "text/html": [
       "<div>\n",
       "<style scoped>\n",
       "    .dataframe tbody tr th:only-of-type {\n",
       "        vertical-align: middle;\n",
       "    }\n",
       "\n",
       "    .dataframe tbody tr th {\n",
       "        vertical-align: top;\n",
       "    }\n",
       "\n",
       "    .dataframe thead th {\n",
       "        text-align: right;\n",
       "    }\n",
       "</style>\n",
       "<table border=\"1\" class=\"dataframe\">\n",
       "  <thead>\n",
       "    <tr style=\"text-align: right;\">\n",
       "      <th></th>\n",
       "      <th>link</th>\n",
       "      <th>num_references</th>\n",
       "    </tr>\n",
       "  </thead>\n",
       "  <tbody>\n",
       "    <tr>\n",
       "      <th>47338</th>\n",
       "      <td>https://en.wikipedia.org/wiki/Sasha_Lakovic</td>\n",
       "      <td>6</td>\n",
       "    </tr>\n",
       "    <tr>\n",
       "      <th>9388</th>\n",
       "      <td>https://en.wikipedia.org/wiki/Ann_Cartwright_D...</td>\n",
       "      <td>4</td>\n",
       "    </tr>\n",
       "    <tr>\n",
       "      <th>35897</th>\n",
       "      <td>https://en.wikipedia.org/wiki/Leevi_Lehto</td>\n",
       "      <td>2</td>\n",
       "    </tr>\n",
       "    <tr>\n",
       "      <th>105563</th>\n",
       "      <td>https://en.wikipedia.org/wiki/Jerry_Rivers</td>\n",
       "      <td>2</td>\n",
       "    </tr>\n",
       "    <tr>\n",
       "      <th>79660</th>\n",
       "      <td>https://en.wikipedia.org/wiki/Detlev_Lauscher</td>\n",
       "      <td>3</td>\n",
       "    </tr>\n",
       "  </tbody>\n",
       "</table>\n",
       "</div>"
      ],
      "text/plain": [
       "                                                     link num_references\n",
       "47338         https://en.wikipedia.org/wiki/Sasha_Lakovic              6\n",
       "9388    https://en.wikipedia.org/wiki/Ann_Cartwright_D...              4\n",
       "35897           https://en.wikipedia.org/wiki/Leevi_Lehto              2\n",
       "105563         https://en.wikipedia.org/wiki/Jerry_Rivers              2\n",
       "79660       https://en.wikipedia.org/wiki/Detlev_Lauscher              3"
      ]
     },
     "execution_count": 41,
     "metadata": {},
     "output_type": "execute_result"
    },
    {
     "data": {
      "application/javascript": [
       "\n",
       "            setTimeout(function() {\n",
       "                var nbb_cell_id = 41;\n",
       "                var nbb_unformatted_code = \"# Checking a sample of the data\\ndf_reference_counts.sample(5)\";\n",
       "                var nbb_formatted_code = \"# Checking a sample of the data\\ndf_reference_counts.sample(5)\";\n",
       "                var nbb_cells = Jupyter.notebook.get_cells();\n",
       "                for (var i = 0; i < nbb_cells.length; ++i) {\n",
       "                    if (nbb_cells[i].input_prompt_number == nbb_cell_id) {\n",
       "                        if (nbb_cells[i].get_text() == nbb_unformatted_code) {\n",
       "                             nbb_cells[i].set_text(nbb_formatted_code);\n",
       "                        }\n",
       "                        break;\n",
       "                    }\n",
       "                }\n",
       "            }, 500);\n",
       "            "
      ],
      "text/plain": [
       "<IPython.core.display.Javascript object>"
      ]
     },
     "metadata": {},
     "output_type": "display_data"
    }
   ],
   "source": [
    "# Checking a sample of the data\n",
    "df_reference_counts.sample(5)"
   ]
  },
  {
   "cell_type": "raw",
   "id": "44ffd56d",
   "metadata": {},
   "source": []
  },
  {
   "cell_type": "code",
   "execution_count": null,
   "id": "b40f7533",
   "metadata": {},
   "outputs": [],
   "source": []
  }
 ],
 "metadata": {
  "kernelspec": {
   "display_name": "Python 3 (ipykernel)",
   "language": "python",
   "name": "python3"
  },
  "language_info": {
   "codemirror_mode": {
    "name": "ipython",
    "version": 3
   },
   "file_extension": ".py",
   "mimetype": "text/x-python",
   "name": "python",
   "nbconvert_exporter": "python",
   "pygments_lexer": "ipython3",
   "version": "3.9.12"
  }
 },
 "nbformat": 4,
 "nbformat_minor": 5
}
