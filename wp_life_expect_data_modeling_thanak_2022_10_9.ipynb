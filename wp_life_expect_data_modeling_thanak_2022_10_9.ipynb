{
 "cells": [
  {
   "cell_type": "markdown",
   "id": "316a0779",
   "metadata": {},
   "source": [
    "# Wikipedia Notable Life Expectancies\n",
    "# [Notebook 11: Basic Linear Regression Model ](https://github.com/teresahanak/wikipedia-life-expectancy/blob/main/wp_life_expect_data_modeling_thanak_2022_10_9.ipynb)\n",
    "### Context\n",
    "\n",
    "The\n",
    "### Objective\n",
    "\n",
    "The\n",
    "### Data Dictionary\n",
    "- Feature: Description"
   ]
  },
  {
   "cell_type": "markdown",
   "id": "99245d51",
   "metadata": {},
   "source": [
    "### Importing Libraries"
   ]
  },
  {
   "cell_type": "code",
   "execution_count": 1,
   "id": "453bba83",
   "metadata": {},
   "outputs": [
    {
     "data": {
      "application/javascript": [
       "\n",
       "            setTimeout(function() {\n",
       "                var nbb_cell_id = 1;\n",
       "                var nbb_unformatted_code = \"# To structure code automatically\\n%load_ext nb_black\\n\\n# To import/export sqlite databases\\n# import sqlite3 as sql\\n\\n# To save/open python objects in pickle file\\nimport pickle\\n\\n# To help with reading, cleaning, and manipulating data\\nimport pandas as pd\\nimport numpy as np\\n\\n# To help with data visualization\\nimport matplotlib.pyplot as plt\\nimport seaborn as sns\\n\\n# randomized data splitting\\nfrom sklearn.model_selection import train_test_split\\n\\n# building regression model\\nimport statsmodels.api as sm\\n\\n# check model performance\\nfrom sklearn.metrics import mean_absolute_error, mean_squared_error, r2_score\\n\\n# check linear regression assumptions\\nfrom statsmodels.stats.outliers_influence import variance_inflation_factor\\nimport pylab\\nimport scipy.stats as stats\\nimport statsmodels.stats.api as sms\\nfrom statsmodels.compat import lzip\\n\\n# to compare fit between models\\nfrom scipy.stats.distributions import chi2\\n\\n# To define maximum number of columns to be displayed in a dataframe\\npd.set_option(\\\"display.max_columns\\\", None)\\n# To define the maximum number of rows to be displayed in a dataframe\\npd.set_option(\\\"display.max_rows\\\", 211)\\n\\n# To set some dataframe visualization attributes\\npd.set_option(\\\"max_colwidth\\\", 150)\\n\\n# To supress scientific notations for a dataframe\\n# pd.set_option(\\\"display.float_format\\\", lambda x: \\\"%.3f\\\" % x)\\n\\n# To supress warnings\\n# import warnings\\n\\n# warnings.filterwarnings(\\\"ignore\\\")\\n\\n# To set some plot visualization attributes\\nsns.set_theme()\\nsns.set(font_scale=1.4)\\nsns.set_palette(\\n    (\\n        \\\"midnightblue\\\",\\n        \\\"goldenrod\\\",\\n        \\\"maroon\\\",\\n        \\\"darkolivegreen\\\",\\n        \\\"cadetblue\\\",\\n        \\\"tab:purple\\\",\\n        \\\"yellowgreen\\\",\\n    )\\n)\\n# plt.rc(\\\"font\\\", size=12)\\n# plt.rc(\\\"axes\\\", titlesize=15)\\n# plt.rc(\\\"axes\\\", labelsize=14)\\n# plt.rc(\\\"xtick\\\", labelsize=13)\\n# plt.rc(\\\"ytick\\\", labelsize=13)\\n# plt.rc(\\\"legend\\\", fontsize=13)\\n# plt.rc(\\\"legend\\\", fontsize=14)\\n# plt.rc(\\\"figure\\\", titlesize=16)\\n\\n# To play auditory cue when cell has executed, has warning, or has error and set chime theme\\nimport chime\\n\\nchime.theme(\\\"zelda\\\")\";\n",
       "                var nbb_formatted_code = \"# To structure code automatically\\n%load_ext nb_black\\n\\n# To import/export sqlite databases\\n# import sqlite3 as sql\\n\\n# To save/open python objects in pickle file\\nimport pickle\\n\\n# To help with reading, cleaning, and manipulating data\\nimport pandas as pd\\nimport numpy as np\\n\\n# To help with data visualization\\nimport matplotlib.pyplot as plt\\nimport seaborn as sns\\n\\n# randomized data splitting\\nfrom sklearn.model_selection import train_test_split\\n\\n# building regression model\\nimport statsmodels.api as sm\\n\\n# check model performance\\nfrom sklearn.metrics import mean_absolute_error, mean_squared_error, r2_score\\n\\n# check linear regression assumptions\\nfrom statsmodels.stats.outliers_influence import variance_inflation_factor\\nimport pylab\\nimport scipy.stats as stats\\nimport statsmodels.stats.api as sms\\nfrom statsmodels.compat import lzip\\n\\n# to compare fit between models\\nfrom scipy.stats.distributions import chi2\\n\\n# To define maximum number of columns to be displayed in a dataframe\\npd.set_option(\\\"display.max_columns\\\", None)\\n# To define the maximum number of rows to be displayed in a dataframe\\npd.set_option(\\\"display.max_rows\\\", 211)\\n\\n# To set some dataframe visualization attributes\\npd.set_option(\\\"max_colwidth\\\", 150)\\n\\n# To supress scientific notations for a dataframe\\n# pd.set_option(\\\"display.float_format\\\", lambda x: \\\"%.3f\\\" % x)\\n\\n# To supress warnings\\n# import warnings\\n\\n# warnings.filterwarnings(\\\"ignore\\\")\\n\\n# To set some plot visualization attributes\\nsns.set_theme()\\nsns.set(font_scale=1.4)\\nsns.set_palette(\\n    (\\n        \\\"midnightblue\\\",\\n        \\\"goldenrod\\\",\\n        \\\"maroon\\\",\\n        \\\"darkolivegreen\\\",\\n        \\\"cadetblue\\\",\\n        \\\"tab:purple\\\",\\n        \\\"yellowgreen\\\",\\n    )\\n)\\n# plt.rc(\\\"font\\\", size=12)\\n# plt.rc(\\\"axes\\\", titlesize=15)\\n# plt.rc(\\\"axes\\\", labelsize=14)\\n# plt.rc(\\\"xtick\\\", labelsize=13)\\n# plt.rc(\\\"ytick\\\", labelsize=13)\\n# plt.rc(\\\"legend\\\", fontsize=13)\\n# plt.rc(\\\"legend\\\", fontsize=14)\\n# plt.rc(\\\"figure\\\", titlesize=16)\\n\\n# To play auditory cue when cell has executed, has warning, or has error and set chime theme\\nimport chime\\n\\nchime.theme(\\\"zelda\\\")\";\n",
       "                var nbb_cells = Jupyter.notebook.get_cells();\n",
       "                for (var i = 0; i < nbb_cells.length; ++i) {\n",
       "                    if (nbb_cells[i].input_prompt_number == nbb_cell_id) {\n",
       "                        if (nbb_cells[i].get_text() == nbb_unformatted_code) {\n",
       "                             nbb_cells[i].set_text(nbb_formatted_code);\n",
       "                        }\n",
       "                        break;\n",
       "                    }\n",
       "                }\n",
       "            }, 500);\n",
       "            "
      ],
      "text/plain": [
       "<IPython.core.display.Javascript object>"
      ]
     },
     "metadata": {},
     "output_type": "display_data"
    }
   ],
   "source": [
    "# To structure code automatically\n",
    "%load_ext nb_black\n",
    "\n",
    "# To import/export sqlite databases\n",
    "# import sqlite3 as sql\n",
    "\n",
    "# To save/open python objects in pickle file\n",
    "import pickle\n",
    "\n",
    "# To help with reading, cleaning, and manipulating data\n",
    "import pandas as pd\n",
    "import numpy as np\n",
    "\n",
    "# To help with data visualization\n",
    "import matplotlib.pyplot as plt\n",
    "import seaborn as sns\n",
    "\n",
    "# randomized data splitting\n",
    "from sklearn.model_selection import train_test_split\n",
    "\n",
    "# building regression model\n",
    "import statsmodels.api as sm\n",
    "\n",
    "# check model performance\n",
    "from sklearn.metrics import mean_absolute_error, mean_squared_error, r2_score\n",
    "\n",
    "# check linear regression assumptions\n",
    "from statsmodels.stats.outliers_influence import variance_inflation_factor\n",
    "import pylab\n",
    "import scipy.stats as stats\n",
    "import statsmodels.stats.api as sms\n",
    "from statsmodels.compat import lzip\n",
    "\n",
    "# to compare fit between models\n",
    "from scipy.stats.distributions import chi2\n",
    "\n",
    "# To define maximum number of columns to be displayed in a dataframe\n",
    "pd.set_option(\"display.max_columns\", None)\n",
    "# To define the maximum number of rows to be displayed in a dataframe\n",
    "pd.set_option(\"display.max_rows\", 211)\n",
    "\n",
    "# To set some dataframe visualization attributes\n",
    "pd.set_option(\"max_colwidth\", 150)\n",
    "\n",
    "# To supress scientific notations for a dataframe\n",
    "# pd.set_option(\"display.float_format\", lambda x: \"%.3f\" % x)\n",
    "\n",
    "# To supress warnings\n",
    "# import warnings\n",
    "\n",
    "# warnings.filterwarnings(\"ignore\")\n",
    "\n",
    "# To set some plot visualization attributes\n",
    "sns.set_theme()\n",
    "sns.set(font_scale=1.4)\n",
    "sns.set_palette(\n",
    "    (\n",
    "        \"midnightblue\",\n",
    "        \"goldenrod\",\n",
    "        \"maroon\",\n",
    "        \"darkolivegreen\",\n",
    "        \"cadetblue\",\n",
    "        \"tab:purple\",\n",
    "        \"yellowgreen\",\n",
    "    )\n",
    ")\n",
    "# plt.rc(\"font\", size=12)\n",
    "# plt.rc(\"axes\", titlesize=15)\n",
    "# plt.rc(\"axes\", labelsize=14)\n",
    "# plt.rc(\"xtick\", labelsize=13)\n",
    "# plt.rc(\"ytick\", labelsize=13)\n",
    "# plt.rc(\"legend\", fontsize=13)\n",
    "# plt.rc(\"legend\", fontsize=14)\n",
    "# plt.rc(\"figure\", titlesize=16)\n",
    "\n",
    "# To play auditory cue when cell has executed, has warning, or has error and set chime theme\n",
    "import chime\n",
    "\n",
    "chime.theme(\"zelda\")"
   ]
  },
  {
   "cell_type": "markdown",
   "id": "cc818a82",
   "metadata": {},
   "source": [
    "## Data Overview"
   ]
  },
  {
   "cell_type": "markdown",
   "id": "0ed005f6",
   "metadata": {},
   "source": [
    "### [Reading](https://github.com/teresahanak/wikipedia-life-expectancy/blob/main/wp_life_expect_preproc.csv), Sampling, and Checking Data Shape"
   ]
  },
  {
   "cell_type": "code",
   "execution_count": 2,
   "id": "0ca58a95",
   "metadata": {},
   "outputs": [
    {
     "name": "stdout",
     "output_type": "stream",
     "text": [
      "There are 77661 rows and 6 columns.\n"
     ]
    },
    {
     "data": {
      "text/html": [
       "<div>\n",
       "<style scoped>\n",
       "    .dataframe tbody tr th:only-of-type {\n",
       "        vertical-align: middle;\n",
       "    }\n",
       "\n",
       "    .dataframe tbody tr th {\n",
       "        vertical-align: top;\n",
       "    }\n",
       "\n",
       "    .dataframe thead th {\n",
       "        text-align: right;\n",
       "    }\n",
       "</style>\n",
       "<table border=\"1\" class=\"dataframe\">\n",
       "  <thead>\n",
       "    <tr style=\"text-align: right;\">\n",
       "      <th></th>\n",
       "      <th>age</th>\n",
       "      <th>recip_num_references</th>\n",
       "      <th>region</th>\n",
       "      <th>prior_region</th>\n",
       "      <th>known_for</th>\n",
       "      <th>years</th>\n",
       "    </tr>\n",
       "  </thead>\n",
       "  <tbody>\n",
       "    <tr>\n",
       "      <th>0</th>\n",
       "      <td>73.0</td>\n",
       "      <td>0.250000</td>\n",
       "      <td>Europe</td>\n",
       "      <td>No Prior Region</td>\n",
       "      <td>spiritual</td>\n",
       "      <td>8</td>\n",
       "    </tr>\n",
       "    <tr>\n",
       "      <th>1</th>\n",
       "      <td>90.0</td>\n",
       "      <td>0.333333</td>\n",
       "      <td>North America</td>\n",
       "      <td>No Prior Region</td>\n",
       "      <td>two</td>\n",
       "      <td>13</td>\n",
       "    </tr>\n",
       "  </tbody>\n",
       "</table>\n",
       "</div>"
      ],
      "text/plain": [
       "    age  recip_num_references         region     prior_region  known_for  \\\n",
       "0  73.0              0.250000         Europe  No Prior Region  spiritual   \n",
       "1  90.0              0.333333  North America  No Prior Region        two   \n",
       "\n",
       "   years  \n",
       "0      8  \n",
       "1     13  "
      ]
     },
     "execution_count": 2,
     "metadata": {},
     "output_type": "execute_result"
    },
    {
     "data": {
      "application/javascript": [
       "\n",
       "            setTimeout(function() {\n",
       "                var nbb_cell_id = 2;\n",
       "                var nbb_unformatted_code = \"# Reading the train set\\ndata = pd.read_csv(\\\"wp_life_expect_preproc.csv\\\")\\n\\n# Making a working copy\\ndf = data.copy()\\n\\n# Checking the shape\\nprint(f\\\"There are {df.shape[0]} rows and {df.shape[1]} columns.\\\")\\n\\n# Checking first 2 rows of the data\\ndf.head(2)\";\n",
       "                var nbb_formatted_code = \"# Reading the train set\\ndata = pd.read_csv(\\\"wp_life_expect_preproc.csv\\\")\\n\\n# Making a working copy\\ndf = data.copy()\\n\\n# Checking the shape\\nprint(f\\\"There are {df.shape[0]} rows and {df.shape[1]} columns.\\\")\\n\\n# Checking first 2 rows of the data\\ndf.head(2)\";\n",
       "                var nbb_cells = Jupyter.notebook.get_cells();\n",
       "                for (var i = 0; i < nbb_cells.length; ++i) {\n",
       "                    if (nbb_cells[i].input_prompt_number == nbb_cell_id) {\n",
       "                        if (nbb_cells[i].get_text() == nbb_unformatted_code) {\n",
       "                             nbb_cells[i].set_text(nbb_formatted_code);\n",
       "                        }\n",
       "                        break;\n",
       "                    }\n",
       "                }\n",
       "            }, 500);\n",
       "            "
      ],
      "text/plain": [
       "<IPython.core.display.Javascript object>"
      ]
     },
     "metadata": {},
     "output_type": "display_data"
    }
   ],
   "source": [
    "# Reading the train set\n",
    "data = pd.read_csv(\"wp_life_expect_preproc.csv\")\n",
    "\n",
    "# Making a working copy\n",
    "df = data.copy()\n",
    "\n",
    "# Checking the shape\n",
    "print(f\"There are {df.shape[0]} rows and {df.shape[1]} columns.\")\n",
    "\n",
    "# Checking first 2 rows of the data\n",
    "df.head(2)"
   ]
  },
  {
   "cell_type": "code",
   "execution_count": 3,
   "id": "6cca416f",
   "metadata": {},
   "outputs": [
    {
     "data": {
      "text/html": [
       "<div>\n",
       "<style scoped>\n",
       "    .dataframe tbody tr th:only-of-type {\n",
       "        vertical-align: middle;\n",
       "    }\n",
       "\n",
       "    .dataframe tbody tr th {\n",
       "        vertical-align: top;\n",
       "    }\n",
       "\n",
       "    .dataframe thead th {\n",
       "        text-align: right;\n",
       "    }\n",
       "</style>\n",
       "<table border=\"1\" class=\"dataframe\">\n",
       "  <thead>\n",
       "    <tr style=\"text-align: right;\">\n",
       "      <th></th>\n",
       "      <th>age</th>\n",
       "      <th>recip_num_references</th>\n",
       "      <th>region</th>\n",
       "      <th>prior_region</th>\n",
       "      <th>known_for</th>\n",
       "      <th>years</th>\n",
       "    </tr>\n",
       "  </thead>\n",
       "  <tbody>\n",
       "    <tr>\n",
       "      <th>77659</th>\n",
       "      <td>74.0</td>\n",
       "      <td>0.142857</td>\n",
       "      <td>North America</td>\n",
       "      <td>No Prior Region</td>\n",
       "      <td>arts</td>\n",
       "      <td>0</td>\n",
       "    </tr>\n",
       "    <tr>\n",
       "      <th>77660</th>\n",
       "      <td>92.0</td>\n",
       "      <td>0.200000</td>\n",
       "      <td>Europe</td>\n",
       "      <td>No Prior Region</td>\n",
       "      <td>sports</td>\n",
       "      <td>8</td>\n",
       "    </tr>\n",
       "  </tbody>\n",
       "</table>\n",
       "</div>"
      ],
      "text/plain": [
       "        age  recip_num_references         region     prior_region known_for  \\\n",
       "77659  74.0              0.142857  North America  No Prior Region      arts   \n",
       "77660  92.0              0.200000         Europe  No Prior Region    sports   \n",
       "\n",
       "       years  \n",
       "77659      0  \n",
       "77660      8  "
      ]
     },
     "execution_count": 3,
     "metadata": {},
     "output_type": "execute_result"
    },
    {
     "data": {
      "application/javascript": [
       "\n",
       "            setTimeout(function() {\n",
       "                var nbb_cell_id = 3;\n",
       "                var nbb_unformatted_code = \"# Checking last 2 rows of the data\\ndf.tail(2)\";\n",
       "                var nbb_formatted_code = \"# Checking last 2 rows of the data\\ndf.tail(2)\";\n",
       "                var nbb_cells = Jupyter.notebook.get_cells();\n",
       "                for (var i = 0; i < nbb_cells.length; ++i) {\n",
       "                    if (nbb_cells[i].input_prompt_number == nbb_cell_id) {\n",
       "                        if (nbb_cells[i].get_text() == nbb_unformatted_code) {\n",
       "                             nbb_cells[i].set_text(nbb_formatted_code);\n",
       "                        }\n",
       "                        break;\n",
       "                    }\n",
       "                }\n",
       "            }, 500);\n",
       "            "
      ],
      "text/plain": [
       "<IPython.core.display.Javascript object>"
      ]
     },
     "metadata": {},
     "output_type": "display_data"
    }
   ],
   "source": [
    "# Checking last 2 rows of the data\n",
    "df.tail(2)"
   ]
  },
  {
   "cell_type": "code",
   "execution_count": 4,
   "id": "de6e8ee5",
   "metadata": {},
   "outputs": [
    {
     "data": {
      "text/html": [
       "<div>\n",
       "<style scoped>\n",
       "    .dataframe tbody tr th:only-of-type {\n",
       "        vertical-align: middle;\n",
       "    }\n",
       "\n",
       "    .dataframe tbody tr th {\n",
       "        vertical-align: top;\n",
       "    }\n",
       "\n",
       "    .dataframe thead th {\n",
       "        text-align: right;\n",
       "    }\n",
       "</style>\n",
       "<table border=\"1\" class=\"dataframe\">\n",
       "  <thead>\n",
       "    <tr style=\"text-align: right;\">\n",
       "      <th></th>\n",
       "      <th>age</th>\n",
       "      <th>recip_num_references</th>\n",
       "      <th>region</th>\n",
       "      <th>prior_region</th>\n",
       "      <th>known_for</th>\n",
       "      <th>years</th>\n",
       "    </tr>\n",
       "  </thead>\n",
       "  <tbody>\n",
       "    <tr>\n",
       "      <th>51126</th>\n",
       "      <td>95.0</td>\n",
       "      <td>0.052632</td>\n",
       "      <td>North America</td>\n",
       "      <td>No Prior Region</td>\n",
       "      <td>politics_govt_law</td>\n",
       "      <td>27</td>\n",
       "    </tr>\n",
       "    <tr>\n",
       "      <th>40899</th>\n",
       "      <td>82.0</td>\n",
       "      <td>0.029412</td>\n",
       "      <td>Europe</td>\n",
       "      <td>No Prior Region</td>\n",
       "      <td>arts</td>\n",
       "      <td>28</td>\n",
       "    </tr>\n",
       "    <tr>\n",
       "      <th>7034</th>\n",
       "      <td>87.0</td>\n",
       "      <td>0.043478</td>\n",
       "      <td>Europe</td>\n",
       "      <td>No Prior Region</td>\n",
       "      <td>arts</td>\n",
       "      <td>7</td>\n",
       "    </tr>\n",
       "    <tr>\n",
       "      <th>8455</th>\n",
       "      <td>86.0</td>\n",
       "      <td>0.083333</td>\n",
       "      <td>North America</td>\n",
       "      <td>No Prior Region</td>\n",
       "      <td>law_enf_military_operator</td>\n",
       "      <td>14</td>\n",
       "    </tr>\n",
       "    <tr>\n",
       "      <th>17560</th>\n",
       "      <td>90.0</td>\n",
       "      <td>0.200000</td>\n",
       "      <td>Europe</td>\n",
       "      <td>No Prior Region</td>\n",
       "      <td>arts</td>\n",
       "      <td>27</td>\n",
       "    </tr>\n",
       "  </tbody>\n",
       "</table>\n",
       "</div>"
      ],
      "text/plain": [
       "        age  recip_num_references         region     prior_region  \\\n",
       "51126  95.0              0.052632  North America  No Prior Region   \n",
       "40899  82.0              0.029412         Europe  No Prior Region   \n",
       "7034   87.0              0.043478         Europe  No Prior Region   \n",
       "8455   86.0              0.083333  North America  No Prior Region   \n",
       "17560  90.0              0.200000         Europe  No Prior Region   \n",
       "\n",
       "                       known_for  years  \n",
       "51126          politics_govt_law     27  \n",
       "40899                       arts     28  \n",
       "7034                        arts      7  \n",
       "8455   law_enf_military_operator     14  \n",
       "17560                       arts     27  "
      ]
     },
     "execution_count": 4,
     "metadata": {},
     "output_type": "execute_result"
    },
    {
     "data": {
      "application/javascript": [
       "\n",
       "            setTimeout(function() {\n",
       "                var nbb_cell_id = 4;\n",
       "                var nbb_unformatted_code = \"# Checking a sample of the data\\ndf.sample(5)\";\n",
       "                var nbb_formatted_code = \"# Checking a sample of the data\\ndf.sample(5)\";\n",
       "                var nbb_cells = Jupyter.notebook.get_cells();\n",
       "                for (var i = 0; i < nbb_cells.length; ++i) {\n",
       "                    if (nbb_cells[i].input_prompt_number == nbb_cell_id) {\n",
       "                        if (nbb_cells[i].get_text() == nbb_unformatted_code) {\n",
       "                             nbb_cells[i].set_text(nbb_formatted_code);\n",
       "                        }\n",
       "                        break;\n",
       "                    }\n",
       "                }\n",
       "            }, 500);\n",
       "            "
      ],
      "text/plain": [
       "<IPython.core.display.Javascript object>"
      ]
     },
     "metadata": {},
     "output_type": "display_data"
    }
   ],
   "source": [
    "# Checking a sample of the data\n",
    "df.sample(5)"
   ]
  },
  {
   "cell_type": "markdown",
   "id": "8d5f29da",
   "metadata": {},
   "source": [
    "### Checking Data Types and Null Values"
   ]
  },
  {
   "cell_type": "code",
   "execution_count": 5,
   "id": "bf505f87",
   "metadata": {},
   "outputs": [
    {
     "name": "stdout",
     "output_type": "stream",
     "text": [
      "<class 'pandas.core.frame.DataFrame'>\n",
      "RangeIndex: 77661 entries, 0 to 77660\n",
      "Data columns (total 6 columns):\n",
      " #   Column                Non-Null Count  Dtype  \n",
      "---  ------                --------------  -----  \n",
      " 0   age                   77661 non-null  float64\n",
      " 1   recip_num_references  77661 non-null  float64\n",
      " 2   region                77661 non-null  object \n",
      " 3   prior_region          77661 non-null  object \n",
      " 4   known_for             77661 non-null  object \n",
      " 5   years                 77661 non-null  int64  \n",
      "dtypes: float64(2), int64(1), object(3)\n",
      "memory usage: 3.6+ MB\n"
     ]
    },
    {
     "data": {
      "application/javascript": [
       "\n",
       "            setTimeout(function() {\n",
       "                var nbb_cell_id = 5;\n",
       "                var nbb_unformatted_code = \"# Checking data types and null values\\ndf.info()\";\n",
       "                var nbb_formatted_code = \"# Checking data types and null values\\ndf.info()\";\n",
       "                var nbb_cells = Jupyter.notebook.get_cells();\n",
       "                for (var i = 0; i < nbb_cells.length; ++i) {\n",
       "                    if (nbb_cells[i].input_prompt_number == nbb_cell_id) {\n",
       "                        if (nbb_cells[i].get_text() == nbb_unformatted_code) {\n",
       "                             nbb_cells[i].set_text(nbb_formatted_code);\n",
       "                        }\n",
       "                        break;\n",
       "                    }\n",
       "                }\n",
       "            }, 500);\n",
       "            "
      ],
      "text/plain": [
       "<IPython.core.display.Javascript object>"
      ]
     },
     "metadata": {},
     "output_type": "display_data"
    }
   ],
   "source": [
    "# Checking data types and null values\n",
    "df.info()"
   ]
  },
  {
   "cell_type": "markdown",
   "id": "c459d7f8",
   "metadata": {},
   "source": [
    "#### Observations:\n",
    "- With our dataset loaded, we are ready for modeling.\n",
    "- We have two variables that need typcasting from object to category, then one hot encoding."
   ]
  },
  {
   "cell_type": "code",
   "execution_count": 6,
   "id": "4c387ce6",
   "metadata": {},
   "outputs": [
    {
     "data": {
      "text/plain": [
       "No Prior Region               73352\n",
       "Europe                         2326\n",
       "North America                   432\n",
       "Asia                            341\n",
       "Russian Federation              279\n",
       "Africa                          242\n",
       "Mid-Cent America/Caribbean      202\n",
       "Middle East                     176\n",
       "Oceania                         136\n",
       "South America                   109\n",
       "South East Asia                  58\n",
       "Central Asia                      8\n",
       "Name: prior_region, dtype: int64"
      ]
     },
     "execution_count": 6,
     "metadata": {},
     "output_type": "execute_result"
    },
    {
     "data": {
      "application/javascript": [
       "\n",
       "            setTimeout(function() {\n",
       "                var nbb_cell_id = 6;\n",
       "                var nbb_unformatted_code = \"df[\\\"prior_region\\\"].value_counts()\";\n",
       "                var nbb_formatted_code = \"df[\\\"prior_region\\\"].value_counts()\";\n",
       "                var nbb_cells = Jupyter.notebook.get_cells();\n",
       "                for (var i = 0; i < nbb_cells.length; ++i) {\n",
       "                    if (nbb_cells[i].input_prompt_number == nbb_cell_id) {\n",
       "                        if (nbb_cells[i].get_text() == nbb_unformatted_code) {\n",
       "                             nbb_cells[i].set_text(nbb_formatted_code);\n",
       "                        }\n",
       "                        break;\n",
       "                    }\n",
       "                }\n",
       "            }, 500);\n",
       "            "
      ],
      "text/plain": [
       "<IPython.core.display.Javascript object>"
      ]
     },
     "metadata": {},
     "output_type": "display_data"
    }
   ],
   "source": [
    "df[\"prior_region\"].value_counts()"
   ]
  },
  {
   "cell_type": "markdown",
   "id": "5c542ec1",
   "metadata": {},
   "source": [
    "#### Typecasting `prior_region` and `region` as Categorical"
   ]
  },
  {
   "cell_type": "code",
   "execution_count": 7,
   "id": "87fccaff",
   "metadata": {},
   "outputs": [
    {
     "name": "stdout",
     "output_type": "stream",
     "text": [
      "<class 'pandas.core.frame.DataFrame'>\n",
      "RangeIndex: 77661 entries, 0 to 77660\n",
      "Data columns (total 6 columns):\n",
      " #   Column                Non-Null Count  Dtype   \n",
      "---  ------                --------------  -----   \n",
      " 0   age                   77661 non-null  float64 \n",
      " 1   recip_num_references  77661 non-null  float64 \n",
      " 2   region                77661 non-null  category\n",
      " 3   prior_region          77661 non-null  category\n",
      " 4   known_for             77661 non-null  object  \n",
      " 5   years                 77661 non-null  int64   \n",
      "dtypes: category(2), float64(2), int64(1), object(1)\n",
      "memory usage: 2.5+ MB\n"
     ]
    },
    {
     "data": {
      "application/javascript": [
       "\n",
       "            setTimeout(function() {\n",
       "                var nbb_cell_id = 7;\n",
       "                var nbb_unformatted_code = \"# Typcasting prior_region and region as categorical\\ndf[[\\\"prior_region\\\", \\\"region\\\"]] = df[[\\\"prior_region\\\", \\\"region\\\"]].astype(\\\"category\\\")\\n\\n# Re-check info\\ndf.info()\";\n",
       "                var nbb_formatted_code = \"# Typcasting prior_region and region as categorical\\ndf[[\\\"prior_region\\\", \\\"region\\\"]] = df[[\\\"prior_region\\\", \\\"region\\\"]].astype(\\\"category\\\")\\n\\n# Re-check info\\ndf.info()\";\n",
       "                var nbb_cells = Jupyter.notebook.get_cells();\n",
       "                for (var i = 0; i < nbb_cells.length; ++i) {\n",
       "                    if (nbb_cells[i].input_prompt_number == nbb_cell_id) {\n",
       "                        if (nbb_cells[i].get_text() == nbb_unformatted_code) {\n",
       "                             nbb_cells[i].set_text(nbb_formatted_code);\n",
       "                        }\n",
       "                        break;\n",
       "                    }\n",
       "                }\n",
       "            }, 500);\n",
       "            "
      ],
      "text/plain": [
       "<IPython.core.display.Javascript object>"
      ]
     },
     "metadata": {},
     "output_type": "display_data"
    }
   ],
   "source": [
    "# Typcasting prior_region and region as categorical\n",
    "df[[\"prior_region\", \"region\"]] = df[[\"prior_region\", \"region\"]].astype(\"category\")\n",
    "\n",
    "# Re-check info\n",
    "df.info()"
   ]
  },
  {
   "cell_type": "markdown",
   "id": "4804e77f",
   "metadata": {},
   "source": [
    "## Building a Linear Regression Model"
   ]
  },
  {
   "cell_type": "markdown",
   "id": "176c405c",
   "metadata": {},
   "source": [
    "### Data Preparation for Modeling\n",
    "As there is no model tuning in this basic linear regression model, we can train directly with the `train` set and check performance direclty on the `test` set.  We will need to do the appropriate treatments on the `test` set first."
   ]
  },
  {
   "cell_type": "markdown",
   "id": "9c14b3ab",
   "metadata": {},
   "source": [
    "### Test Set"
   ]
  },
  {
   "cell_type": "markdown",
   "id": "6a9e1840",
   "metadata": {},
   "source": [
    "#### Loading [Test Set](https://github.com/teresahanak/wikipedia-life-expectancy/blob/main/wp_life_expect_test.csv) and [region_place_dict](https://github.com/teresahanak/wikipedia-life-expectancy/blob/main/region_place_dict.pkl)"
   ]
  },
  {
   "cell_type": "code",
   "execution_count": 8,
   "id": "0a0214f0",
   "metadata": {},
   "outputs": [
    {
     "name": "stdout",
     "output_type": "stream",
     "text": [
      "There are 19608 rows and 25 columns.\n"
     ]
    },
    {
     "data": {
      "application/javascript": [
       "\n",
       "            setTimeout(function() {\n",
       "                var nbb_cell_id = 8;\n",
       "                var nbb_unformatted_code = \"# Reading test.csv\\ntest = pd.read_csv(\\\"wp_life_expect_test.csv\\\")\\n\\n# Checking shape\\nprint(f\\\"There are {test.shape[0]} rows and {test.shape[1]} columns.\\\")\\n\\n# Loading region_place_dict\\nwith open(\\\"region_place_dict.pkl\\\", \\\"rb\\\") as f:\\n    region_place_dict = pickle.load(f)\";\n",
       "                var nbb_formatted_code = \"# Reading test.csv\\ntest = pd.read_csv(\\\"wp_life_expect_test.csv\\\")\\n\\n# Checking shape\\nprint(f\\\"There are {test.shape[0]} rows and {test.shape[1]} columns.\\\")\\n\\n# Loading region_place_dict\\nwith open(\\\"region_place_dict.pkl\\\", \\\"rb\\\") as f:\\n    region_place_dict = pickle.load(f)\";\n",
       "                var nbb_cells = Jupyter.notebook.get_cells();\n",
       "                for (var i = 0; i < nbb_cells.length; ++i) {\n",
       "                    if (nbb_cells[i].input_prompt_number == nbb_cell_id) {\n",
       "                        if (nbb_cells[i].get_text() == nbb_unformatted_code) {\n",
       "                             nbb_cells[i].set_text(nbb_formatted_code);\n",
       "                        }\n",
       "                        break;\n",
       "                    }\n",
       "                }\n",
       "            }, 500);\n",
       "            "
      ],
      "text/plain": [
       "<IPython.core.display.Javascript object>"
      ]
     },
     "metadata": {},
     "output_type": "display_data"
    }
   ],
   "source": [
    "# Reading test.csv\n",
    "test = pd.read_csv(\"wp_life_expect_test.csv\")\n",
    "\n",
    "# Checking shape\n",
    "print(f\"There are {test.shape[0]} rows and {test.shape[1]} columns.\")\n",
    "\n",
    "# Loading region_place_dict\n",
    "with open(\"region_place_dict.pkl\", \"rb\") as f:\n",
    "    region_place_dict = pickle.load(f)"
   ]
  },
  {
   "cell_type": "code",
   "execution_count": 9,
   "id": "eba2f22f",
   "metadata": {},
   "outputs": [
    {
     "name": "stdout",
     "output_type": "stream",
     "text": [
      "<class 'pandas.core.frame.DataFrame'>\n",
      "RangeIndex: 19608 entries, 0 to 19607\n",
      "Data columns (total 25 columns):\n",
      " #   Column                     Non-Null Count  Dtype  \n",
      "---  ------                     --------------  -----  \n",
      " 0   day                        19608 non-null  int64  \n",
      " 1   name                       19608 non-null  object \n",
      " 2   info                       19608 non-null  object \n",
      " 3   link                       19608 non-null  object \n",
      " 4   num_references             19608 non-null  int64  \n",
      " 5   year                       19608 non-null  int64  \n",
      " 6   month                      19608 non-null  object \n",
      " 7   info_parenth               6832 non-null   object \n",
      " 8   age                        19608 non-null  float64\n",
      " 9   cause_of_death             6641 non-null   object \n",
      " 10  place_1                    19580 non-null  object \n",
      " 11  place_2                    1193 non-null   object \n",
      " 12  sciences                   19608 non-null  int64  \n",
      " 13  social                     19608 non-null  int64  \n",
      " 14  spiritual                  19608 non-null  int64  \n",
      " 15  academia_humanities        19608 non-null  int64  \n",
      " 16  business_farming           19608 non-null  int64  \n",
      " 17  arts                       19608 non-null  int64  \n",
      " 18  sports                     19608 non-null  int64  \n",
      " 19  law_enf_military_operator  19608 non-null  int64  \n",
      " 20  politics_govt_law          19608 non-null  int64  \n",
      " 21  crime                      19608 non-null  int64  \n",
      " 22  event_record_other         19608 non-null  int64  \n",
      " 23  other_species              19608 non-null  int64  \n",
      " 24  num_categories             19608 non-null  int64  \n",
      "dtypes: float64(1), int64(16), object(8)\n",
      "memory usage: 3.7+ MB\n"
     ]
    },
    {
     "data": {
      "application/javascript": [
       "\n",
       "            setTimeout(function() {\n",
       "                var nbb_cell_id = 9;\n",
       "                var nbb_unformatted_code = \"# Checking info\\ntest.info()\";\n",
       "                var nbb_formatted_code = \"# Checking info\\ntest.info()\";\n",
       "                var nbb_cells = Jupyter.notebook.get_cells();\n",
       "                for (var i = 0; i < nbb_cells.length; ++i) {\n",
       "                    if (nbb_cells[i].input_prompt_number == nbb_cell_id) {\n",
       "                        if (nbb_cells[i].get_text() == nbb_unformatted_code) {\n",
       "                             nbb_cells[i].set_text(nbb_formatted_code);\n",
       "                        }\n",
       "                        break;\n",
       "                    }\n",
       "                }\n",
       "            }, 500);\n",
       "            "
      ],
      "text/plain": [
       "<IPython.core.display.Javascript object>"
      ]
     },
     "metadata": {},
     "output_type": "display_data"
    }
   ],
   "source": [
    "# Checking info\n",
    "test.info()"
   ]
  },
  {
   "cell_type": "markdown",
   "id": "67d04b53",
   "metadata": {},
   "source": [
    "#### Pre-processing Steps"
   ]
  },
  {
   "cell_type": "code",
   "execution_count": 10,
   "id": "dcd1344e",
   "metadata": {},
   "outputs": [
    {
     "name": "stdout",
     "output_type": "stream",
     "text": [
      "<class 'pandas.core.frame.DataFrame'>\n",
      "RangeIndex: 19430 entries, 0 to 19429\n",
      "Data columns (total 6 columns):\n",
      " #   Column                Non-Null Count  Dtype   \n",
      "---  ------                --------------  -----   \n",
      " 0   age                   19430 non-null  float64 \n",
      " 1   recip_num_references  19430 non-null  float64 \n",
      " 2   region                19410 non-null  category\n",
      " 3   prior_region          19430 non-null  category\n",
      " 4   known_for             19430 non-null  category\n",
      " 5   years                 19430 non-null  int64   \n",
      "dtypes: category(3), float64(2), int64(1)\n",
      "memory usage: 513.6 KB\n",
      "CPU times: total: 10.7 s\n",
      "Wall time: 10.8 s\n"
     ]
    },
    {
     "data": {
      "application/javascript": [
       "\n",
       "            setTimeout(function() {\n",
       "                var nbb_cell_id = 10;\n",
       "                var nbb_unformatted_code = \"%%time\\n\\n# 1. Dropping non-human entries\\nrows_to_drop = test[test[\\\"other_species\\\"] == 1].index\\ntest.drop(rows_to_drop, inplace=True)\\ntest.reset_index(inplace=True, drop=True)\\n\\n# 2. Dropping entries with event_record_other as sole category\\nrows_to_drop = test[(test['event_record_other']==1) & (test['num_categories']==1)].index\\ntest.drop(rows_to_drop, inplace=True)\\ntest.reset_index(inplace=True, drop=True)\\n\\n# 3. Creating recip_num_references column\\ntest[\\\"recip_num_references\\\"] = test[\\\"num_references\\\"].apply(lambda x: 1 / x)\\n\\n# 4. Creating region column\\n# Dropping place_2 values that are duplicates of place_1\\nindex = [\\n    index\\n    for index in test.index\\n    if test.loc[index, \\\"place_2\\\"] == test.loc[index, \\\"place_1\\\"]\\n]\\ntest.loc[index, \\\"place_2\\\"] = None\\n\\n# For loop to create region column\\ntest[\\\"region\\\"] = None\\nfor region, places in region_place_dict.items():\\n    for place in places:\\n        for index in test[(test[\\\"region\\\"].isna()) & (test[\\\"place_2\\\"].notna())].index:\\n            item = test.loc[index, \\\"place_2\\\"]\\n            if item:\\n                if item == place:\\n                    test.loc[index, \\\"region\\\"] = region\\n        for index in test[(test[\\\"region\\\"].isna()) & (test[\\\"place_2\\\"].isna())].index:\\n            item = test.loc[index, \\\"place_1\\\"]\\n            if item:\\n                if item == place:\\n                    test.loc[index, \\\"region\\\"] = region\\n\\n# 5. Creating prior_region column\\n# For loop to create prior_region column\\ntest[\\\"prior_region\\\"] = None\\nfor region, places in region_place_dict.items():\\n    for place in places:\\n        for index in test[\\n            (test[\\\"place_2\\\"].notna()) & (test[\\\"prior_region\\\"].isna())\\n        ].index:\\n            item = test.loc[index, \\\"place_1\\\"]\\n            if item:\\n                if item == place:\\n                    test.loc[index, \\\"prior_region\\\"] = region\\n# Adding No Prior Region category\\ntest[\\\"prior_region\\\"].fillna(\\\"No Prior Region\\\", inplace=True)\\n\\n# 6. Creating known_for column\\n# Initializing known_for\\ntest['known_for']=None\\n# List of known for columns\\ncols = ['sciences', 'social', 'spiritual', 'academia_humanities',\\n       'business_farming', 'arts', 'sports', 'law_enf_military_operator',\\n       'politics_govt_law', 'crime', 'event_record_other', 'other_species']\\n# For loop to assign known_for\\nfor index in test[test['known_for'].isna()].index:\\n    if test.loc[index, 'num_categories']==2:\\n        test.loc[index, 'known_for'] = 'two'\\n    elif test.loc[index, 'num_categories'] > 2:\\n        test.loc[index, 'known_for'] = 'three_to_five'\\n    else: \\n        for column in cols:\\n            if test.loc[index, column]==1:\\n                test.loc[index, 'known_for'] = column\\n\\n# 7. Creating years column\\ntest[\\\"years\\\"] = test[\\\"year\\\"].apply(lambda x: x - 1994)\\n\\n# 8. Typecasting object columns as category\\ntest[['region', 'prior_region', 'known_for']] = test[['region', 'prior_region', 'known_for']].astype('category')\\n\\n# 9. Dropping Unnecessary Columns\\ncols_to_drop = [\\n   'day', 'name', 'info', 'link', 'num_references', 'year', 'month',\\n       'info_parenth', 'cause_of_death', 'place_1', 'place_2',\\n       'sciences', 'social', 'spiritual', 'academia_humanities',\\n       'business_farming', 'arts', 'sports', 'law_enf_military_operator',\\n       'politics_govt_law', 'crime', 'event_record_other', 'other_species',\\n       'num_categories', \\n]\\ntest.drop(cols_to_drop, axis=1, inplace=True)\\n\\n# Rechecking columns\\ntest.info()\";\n",
       "                var nbb_formatted_code = \"%%time\\n\\n# 1. Dropping non-human entries\\nrows_to_drop = test[test[\\\"other_species\\\"] == 1].index\\ntest.drop(rows_to_drop, inplace=True)\\ntest.reset_index(inplace=True, drop=True)\\n\\n# 2. Dropping entries with event_record_other as sole category\\nrows_to_drop = test[(test['event_record_other']==1) & (test['num_categories']==1)].index\\ntest.drop(rows_to_drop, inplace=True)\\ntest.reset_index(inplace=True, drop=True)\\n\\n# 3. Creating recip_num_references column\\ntest[\\\"recip_num_references\\\"] = test[\\\"num_references\\\"].apply(lambda x: 1 / x)\\n\\n# 4. Creating region column\\n# Dropping place_2 values that are duplicates of place_1\\nindex = [\\n    index\\n    for index in test.index\\n    if test.loc[index, \\\"place_2\\\"] == test.loc[index, \\\"place_1\\\"]\\n]\\ntest.loc[index, \\\"place_2\\\"] = None\\n\\n# For loop to create region column\\ntest[\\\"region\\\"] = None\\nfor region, places in region_place_dict.items():\\n    for place in places:\\n        for index in test[(test[\\\"region\\\"].isna()) & (test[\\\"place_2\\\"].notna())].index:\\n            item = test.loc[index, \\\"place_2\\\"]\\n            if item:\\n                if item == place:\\n                    test.loc[index, \\\"region\\\"] = region\\n        for index in test[(test[\\\"region\\\"].isna()) & (test[\\\"place_2\\\"].isna())].index:\\n            item = test.loc[index, \\\"place_1\\\"]\\n            if item:\\n                if item == place:\\n                    test.loc[index, \\\"region\\\"] = region\\n\\n# 5. Creating prior_region column\\n# For loop to create prior_region column\\ntest[\\\"prior_region\\\"] = None\\nfor region, places in region_place_dict.items():\\n    for place in places:\\n        for index in test[\\n            (test[\\\"place_2\\\"].notna()) & (test[\\\"prior_region\\\"].isna())\\n        ].index:\\n            item = test.loc[index, \\\"place_1\\\"]\\n            if item:\\n                if item == place:\\n                    test.loc[index, \\\"prior_region\\\"] = region\\n# Adding No Prior Region category\\ntest[\\\"prior_region\\\"].fillna(\\\"No Prior Region\\\", inplace=True)\\n\\n# 6. Creating known_for column\\n# Initializing known_for\\ntest['known_for']=None\\n# List of known for columns\\ncols = ['sciences', 'social', 'spiritual', 'academia_humanities',\\n       'business_farming', 'arts', 'sports', 'law_enf_military_operator',\\n       'politics_govt_law', 'crime', 'event_record_other', 'other_species']\\n# For loop to assign known_for\\nfor index in test[test['known_for'].isna()].index:\\n    if test.loc[index, 'num_categories']==2:\\n        test.loc[index, 'known_for'] = 'two'\\n    elif test.loc[index, 'num_categories'] > 2:\\n        test.loc[index, 'known_for'] = 'three_to_five'\\n    else: \\n        for column in cols:\\n            if test.loc[index, column]==1:\\n                test.loc[index, 'known_for'] = column\\n\\n# 7. Creating years column\\ntest[\\\"years\\\"] = test[\\\"year\\\"].apply(lambda x: x - 1994)\\n\\n# 8. Typecasting object columns as category\\ntest[['region', 'prior_region', 'known_for']] = test[['region', 'prior_region', 'known_for']].astype('category')\\n\\n# 9. Dropping Unnecessary Columns\\ncols_to_drop = [\\n   'day', 'name', 'info', 'link', 'num_references', 'year', 'month',\\n       'info_parenth', 'cause_of_death', 'place_1', 'place_2',\\n       'sciences', 'social', 'spiritual', 'academia_humanities',\\n       'business_farming', 'arts', 'sports', 'law_enf_military_operator',\\n       'politics_govt_law', 'crime', 'event_record_other', 'other_species',\\n       'num_categories', \\n]\\ntest.drop(cols_to_drop, axis=1, inplace=True)\\n\\n# Rechecking columns\\ntest.info()\";\n",
       "                var nbb_cells = Jupyter.notebook.get_cells();\n",
       "                for (var i = 0; i < nbb_cells.length; ++i) {\n",
       "                    if (nbb_cells[i].input_prompt_number == nbb_cell_id) {\n",
       "                        if (nbb_cells[i].get_text() == nbb_unformatted_code) {\n",
       "                             nbb_cells[i].set_text(nbb_formatted_code);\n",
       "                        }\n",
       "                        break;\n",
       "                    }\n",
       "                }\n",
       "            }, 500);\n",
       "            "
      ],
      "text/plain": [
       "<IPython.core.display.Javascript object>"
      ]
     },
     "metadata": {},
     "output_type": "display_data"
    }
   ],
   "source": [
    "%%time\n",
    "\n",
    "# 1. Dropping non-human entries\n",
    "rows_to_drop = test[test[\"other_species\"] == 1].index\n",
    "test.drop(rows_to_drop, inplace=True)\n",
    "test.reset_index(inplace=True, drop=True)\n",
    "\n",
    "# 2. Dropping entries with event_record_other as sole category\n",
    "rows_to_drop = test[(test['event_record_other']==1) & (test['num_categories']==1)].index\n",
    "test.drop(rows_to_drop, inplace=True)\n",
    "test.reset_index(inplace=True, drop=True)\n",
    "\n",
    "# 3. Creating recip_num_references column\n",
    "test[\"recip_num_references\"] = test[\"num_references\"].apply(lambda x: 1 / x)\n",
    "\n",
    "# 4. Creating region column\n",
    "# Dropping place_2 values that are duplicates of place_1\n",
    "index = [\n",
    "    index\n",
    "    for index in test.index\n",
    "    if test.loc[index, \"place_2\"] == test.loc[index, \"place_1\"]\n",
    "]\n",
    "test.loc[index, \"place_2\"] = None\n",
    "\n",
    "# For loop to create region column\n",
    "test[\"region\"] = None\n",
    "for region, places in region_place_dict.items():\n",
    "    for place in places:\n",
    "        for index in test[(test[\"region\"].isna()) & (test[\"place_2\"].notna())].index:\n",
    "            item = test.loc[index, \"place_2\"]\n",
    "            if item:\n",
    "                if item == place:\n",
    "                    test.loc[index, \"region\"] = region\n",
    "        for index in test[(test[\"region\"].isna()) & (test[\"place_2\"].isna())].index:\n",
    "            item = test.loc[index, \"place_1\"]\n",
    "            if item:\n",
    "                if item == place:\n",
    "                    test.loc[index, \"region\"] = region\n",
    "\n",
    "# 5. Creating prior_region column\n",
    "# For loop to create prior_region column\n",
    "test[\"prior_region\"] = None\n",
    "for region, places in region_place_dict.items():\n",
    "    for place in places:\n",
    "        for index in test[\n",
    "            (test[\"place_2\"].notna()) & (test[\"prior_region\"].isna())\n",
    "        ].index:\n",
    "            item = test.loc[index, \"place_1\"]\n",
    "            if item:\n",
    "                if item == place:\n",
    "                    test.loc[index, \"prior_region\"] = region\n",
    "# Adding No Prior Region category\n",
    "test[\"prior_region\"].fillna(\"No Prior Region\", inplace=True)\n",
    "\n",
    "# 6. Creating known_for column\n",
    "# Initializing known_for\n",
    "test['known_for']=None\n",
    "# List of known for columns\n",
    "cols = ['sciences', 'social', 'spiritual', 'academia_humanities',\n",
    "       'business_farming', 'arts', 'sports', 'law_enf_military_operator',\n",
    "       'politics_govt_law', 'crime', 'event_record_other', 'other_species']\n",
    "# For loop to assign known_for\n",
    "for index in test[test['known_for'].isna()].index:\n",
    "    if test.loc[index, 'num_categories']==2:\n",
    "        test.loc[index, 'known_for'] = 'two'\n",
    "    elif test.loc[index, 'num_categories'] > 2:\n",
    "        test.loc[index, 'known_for'] = 'three_to_five'\n",
    "    else: \n",
    "        for column in cols:\n",
    "            if test.loc[index, column]==1:\n",
    "                test.loc[index, 'known_for'] = column\n",
    "\n",
    "# 7. Creating years column\n",
    "test[\"years\"] = test[\"year\"].apply(lambda x: x - 1994)\n",
    "\n",
    "# 8. Typecasting object columns as category\n",
    "test[['region', 'prior_region', 'known_for']] = test[['region', 'prior_region', 'known_for']].astype('category')\n",
    "\n",
    "# 9. Dropping Unnecessary Columns\n",
    "cols_to_drop = [\n",
    "   'day', 'name', 'info', 'link', 'num_references', 'year', 'month',\n",
    "       'info_parenth', 'cause_of_death', 'place_1', 'place_2',\n",
    "       'sciences', 'social', 'spiritual', 'academia_humanities',\n",
    "       'business_farming', 'arts', 'sports', 'law_enf_military_operator',\n",
    "       'politics_govt_law', 'crime', 'event_record_other', 'other_species',\n",
    "       'num_categories', \n",
    "]\n",
    "test.drop(cols_to_drop, axis=1, inplace=True)\n",
    "\n",
    "# Rechecking columns\n",
    "test.info()"
   ]
  },
  {
   "cell_type": "code",
   "execution_count": 11,
   "id": "d3cf0c1c",
   "metadata": {},
   "outputs": [
    {
     "data": {
      "text/html": [
       "<div>\n",
       "<style scoped>\n",
       "    .dataframe tbody tr th:only-of-type {\n",
       "        vertical-align: middle;\n",
       "    }\n",
       "\n",
       "    .dataframe tbody tr th {\n",
       "        vertical-align: top;\n",
       "    }\n",
       "\n",
       "    .dataframe thead th {\n",
       "        text-align: right;\n",
       "    }\n",
       "</style>\n",
       "<table border=\"1\" class=\"dataframe\">\n",
       "  <thead>\n",
       "    <tr style=\"text-align: right;\">\n",
       "      <th></th>\n",
       "      <th>age</th>\n",
       "      <th>recip_num_references</th>\n",
       "      <th>region</th>\n",
       "      <th>prior_region</th>\n",
       "      <th>known_for</th>\n",
       "      <th>years</th>\n",
       "    </tr>\n",
       "  </thead>\n",
       "  <tbody>\n",
       "    <tr>\n",
       "      <th>13775</th>\n",
       "      <td>83.0</td>\n",
       "      <td>0.250000</td>\n",
       "      <td>North America</td>\n",
       "      <td>No Prior Region</td>\n",
       "      <td>arts</td>\n",
       "      <td>23</td>\n",
       "    </tr>\n",
       "    <tr>\n",
       "      <th>8446</th>\n",
       "      <td>88.0</td>\n",
       "      <td>0.333333</td>\n",
       "      <td>Europe</td>\n",
       "      <td>No Prior Region</td>\n",
       "      <td>arts</td>\n",
       "      <td>14</td>\n",
       "    </tr>\n",
       "    <tr>\n",
       "      <th>9485</th>\n",
       "      <td>81.0</td>\n",
       "      <td>0.250000</td>\n",
       "      <td>North America</td>\n",
       "      <td>No Prior Region</td>\n",
       "      <td>sports</td>\n",
       "      <td>21</td>\n",
       "    </tr>\n",
       "    <tr>\n",
       "      <th>3693</th>\n",
       "      <td>84.0</td>\n",
       "      <td>0.250000</td>\n",
       "      <td>North America</td>\n",
       "      <td>No Prior Region</td>\n",
       "      <td>arts</td>\n",
       "      <td>23</td>\n",
       "    </tr>\n",
       "    <tr>\n",
       "      <th>18198</th>\n",
       "      <td>94.0</td>\n",
       "      <td>0.250000</td>\n",
       "      <td>Europe</td>\n",
       "      <td>No Prior Region</td>\n",
       "      <td>two</td>\n",
       "      <td>3</td>\n",
       "    </tr>\n",
       "  </tbody>\n",
       "</table>\n",
       "</div>"
      ],
      "text/plain": [
       "        age  recip_num_references         region     prior_region known_for  \\\n",
       "13775  83.0              0.250000  North America  No Prior Region      arts   \n",
       "8446   88.0              0.333333         Europe  No Prior Region      arts   \n",
       "9485   81.0              0.250000  North America  No Prior Region    sports   \n",
       "3693   84.0              0.250000  North America  No Prior Region      arts   \n",
       "18198  94.0              0.250000         Europe  No Prior Region       two   \n",
       "\n",
       "       years  \n",
       "13775     23  \n",
       "8446      14  \n",
       "9485      21  \n",
       "3693      23  \n",
       "18198      3  "
      ]
     },
     "execution_count": 11,
     "metadata": {},
     "output_type": "execute_result"
    },
    {
     "data": {
      "application/javascript": [
       "\n",
       "            setTimeout(function() {\n",
       "                var nbb_cell_id = 11;\n",
       "                var nbb_unformatted_code = \"# Checking a sample of rows\\ntest.sample(5)\";\n",
       "                var nbb_formatted_code = \"# Checking a sample of rows\\ntest.sample(5)\";\n",
       "                var nbb_cells = Jupyter.notebook.get_cells();\n",
       "                for (var i = 0; i < nbb_cells.length; ++i) {\n",
       "                    if (nbb_cells[i].input_prompt_number == nbb_cell_id) {\n",
       "                        if (nbb_cells[i].get_text() == nbb_unformatted_code) {\n",
       "                             nbb_cells[i].set_text(nbb_formatted_code);\n",
       "                        }\n",
       "                        break;\n",
       "                    }\n",
       "                }\n",
       "            }, 500);\n",
       "            "
      ],
      "text/plain": [
       "<IPython.core.display.Javascript object>"
      ]
     },
     "metadata": {},
     "output_type": "display_data"
    }
   ],
   "source": [
    "# Checking a sample of rows\n",
    "test.sample(5)"
   ]
  },
  {
   "cell_type": "markdown",
   "id": "3d8168b5",
   "metadata": {},
   "source": [
    "#### Observations:\n",
    "- Treatment of `test` missing values is the only remaining step.\n",
    "- We will use the modes for the `known_for` groups from `train` to fill missing values for `test` to avoid data leakage.  `region` is the only column with missing values."
   ]
  },
  {
   "cell_type": "markdown",
   "id": "221f578f",
   "metadata": {},
   "source": [
    "#### Treating Missing Values for `region` in Test"
   ]
  },
  {
   "cell_type": "code",
   "execution_count": 12,
   "id": "cf531d45",
   "metadata": {},
   "outputs": [
    {
     "name": "stdout",
     "output_type": "stream",
     "text": [
      "There are 20 missing values.\n"
     ]
    },
    {
     "data": {
      "application/javascript": [
       "\n",
       "            setTimeout(function() {\n",
       "                var nbb_cell_id = 12;\n",
       "                var nbb_unformatted_code = \"# Checking the starting missing values\\nprint(f'There are {test[\\\"region\\\"].isna().sum()} missing values.')\";\n",
       "                var nbb_formatted_code = \"# Checking the starting missing values\\nprint(f'There are {test[\\\"region\\\"].isna().sum()} missing values.')\";\n",
       "                var nbb_cells = Jupyter.notebook.get_cells();\n",
       "                for (var i = 0; i < nbb_cells.length; ++i) {\n",
       "                    if (nbb_cells[i].input_prompt_number == nbb_cell_id) {\n",
       "                        if (nbb_cells[i].get_text() == nbb_unformatted_code) {\n",
       "                             nbb_cells[i].set_text(nbb_formatted_code);\n",
       "                        }\n",
       "                        break;\n",
       "                    }\n",
       "                }\n",
       "            }, 500);\n",
       "            "
      ],
      "text/plain": [
       "<IPython.core.display.Javascript object>"
      ]
     },
     "metadata": {},
     "output_type": "display_data"
    }
   ],
   "source": [
    "# Checking the starting missing values\n",
    "print(f'There are {test[\"region\"].isna().sum()} missing values.')"
   ]
  },
  {
   "cell_type": "code",
   "execution_count": 13,
   "id": "5b5092b3",
   "metadata": {},
   "outputs": [
    {
     "name": "stdout",
     "output_type": "stream",
     "text": [
      "There are 0 missing values.\n"
     ]
    },
    {
     "data": {
      "text/plain": [
       "North America                 8053\n",
       "Europe                        6136\n",
       "Asia                          1639\n",
       "Oceania                        981\n",
       "Africa                         676\n",
       "Middle East                    460\n",
       "South America                  441\n",
       "Mid-Cent America/Caribbean     389\n",
       "Russian Federation             325\n",
       "South East Asia                311\n",
       "Central Asia                    19\n",
       "Name: region, dtype: int64"
      ]
     },
     "execution_count": 13,
     "metadata": {},
     "output_type": "execute_result"
    },
    {
     "data": {
      "application/javascript": [
       "\n",
       "            setTimeout(function() {\n",
       "                var nbb_cell_id = 13;\n",
       "                var nbb_unformatted_code = \"# For loop to impute test missing values with mode of train rows with matching sole known for category\\nfor index in test[test[\\\"region\\\"].isna()].index:\\n    value = test.loc[index, \\\"known_for\\\"]\\n    group_mode = df[df[\\\"known_for\\\"] == value][\\\"region\\\"].mode().iloc[0]\\n    test.loc[index, \\\"region\\\"] = group_mode\\n\\n# Checking the starting missing values\\nprint(f'There are {test[\\\"region\\\"].isna().sum()} missing values.')\\n\\n# Checking region value_counts\\ntest[\\\"region\\\"].value_counts()\";\n",
       "                var nbb_formatted_code = \"# For loop to impute test missing values with mode of train rows with matching sole known for category\\nfor index in test[test[\\\"region\\\"].isna()].index:\\n    value = test.loc[index, \\\"known_for\\\"]\\n    group_mode = df[df[\\\"known_for\\\"] == value][\\\"region\\\"].mode().iloc[0]\\n    test.loc[index, \\\"region\\\"] = group_mode\\n\\n# Checking the starting missing values\\nprint(f'There are {test[\\\"region\\\"].isna().sum()} missing values.')\\n\\n# Checking region value_counts\\ntest[\\\"region\\\"].value_counts()\";\n",
       "                var nbb_cells = Jupyter.notebook.get_cells();\n",
       "                for (var i = 0; i < nbb_cells.length; ++i) {\n",
       "                    if (nbb_cells[i].input_prompt_number == nbb_cell_id) {\n",
       "                        if (nbb_cells[i].get_text() == nbb_unformatted_code) {\n",
       "                             nbb_cells[i].set_text(nbb_formatted_code);\n",
       "                        }\n",
       "                        break;\n",
       "                    }\n",
       "                }\n",
       "            }, 500);\n",
       "            "
      ],
      "text/plain": [
       "<IPython.core.display.Javascript object>"
      ]
     },
     "metadata": {},
     "output_type": "display_data"
    }
   ],
   "source": [
    "# For loop to impute test missing values with mode of train rows with matching sole known for category\n",
    "for index in test[test[\"region\"].isna()].index:\n",
    "    value = test.loc[index, \"known_for\"]\n",
    "    group_mode = df[df[\"known_for\"] == value][\"region\"].mode().iloc[0]\n",
    "    test.loc[index, \"region\"] = group_mode\n",
    "\n",
    "# Checking the starting missing values\n",
    "print(f'There are {test[\"region\"].isna().sum()} missing values.')\n",
    "\n",
    "# Checking region value_counts\n",
    "test[\"region\"].value_counts()"
   ]
  },
  {
   "cell_type": "markdown",
   "id": "4bf4e183",
   "metadata": {},
   "source": [
    "#### Observations:\n",
    "- `train` and `test` are both ready for modeling.\n",
    "- We will perform one hot encoding when defining our independent variables."
   ]
  },
  {
   "cell_type": "markdown",
   "id": "23403783",
   "metadata": {},
   "source": [
    "#### Defining Independent and Dependent Variables for Train and Test Sets"
   ]
  },
  {
   "cell_type": "code",
   "execution_count": 14,
   "id": "7a2216c2",
   "metadata": {},
   "outputs": [
    {
     "name": "stdout",
     "output_type": "stream",
     "text": [
      "There are 77661 rows and 35 columns in X_train.\n",
      "There are 19430 rows and 35 columns in X_test.\n",
      "\n"
     ]
    },
    {
     "data": {
      "text/html": [
       "<div>\n",
       "<style scoped>\n",
       "    .dataframe tbody tr th:only-of-type {\n",
       "        vertical-align: middle;\n",
       "    }\n",
       "\n",
       "    .dataframe tbody tr th {\n",
       "        vertical-align: top;\n",
       "    }\n",
       "\n",
       "    .dataframe thead th {\n",
       "        text-align: right;\n",
       "    }\n",
       "</style>\n",
       "<table border=\"1\" class=\"dataframe\">\n",
       "  <thead>\n",
       "    <tr style=\"text-align: right;\">\n",
       "      <th></th>\n",
       "      <th>const</th>\n",
       "      <th>recip_num_references</th>\n",
       "      <th>years</th>\n",
       "      <th>region_Asia</th>\n",
       "      <th>region_Central Asia</th>\n",
       "      <th>region_Europe</th>\n",
       "      <th>region_Mid-Cent America/Caribbean</th>\n",
       "      <th>region_Middle East</th>\n",
       "      <th>region_North America</th>\n",
       "      <th>region_Oceania</th>\n",
       "      <th>region_Russian Federation</th>\n",
       "      <th>region_South America</th>\n",
       "      <th>region_South East Asia</th>\n",
       "      <th>prior_region_Asia</th>\n",
       "      <th>prior_region_Central Asia</th>\n",
       "      <th>prior_region_Europe</th>\n",
       "      <th>prior_region_Mid-Cent America/Caribbean</th>\n",
       "      <th>prior_region_Middle East</th>\n",
       "      <th>prior_region_No Prior Region</th>\n",
       "      <th>prior_region_North America</th>\n",
       "      <th>prior_region_Oceania</th>\n",
       "      <th>prior_region_Russian Federation</th>\n",
       "      <th>prior_region_South America</th>\n",
       "      <th>prior_region_South East Asia</th>\n",
       "      <th>known_for_arts</th>\n",
       "      <th>known_for_business_farming</th>\n",
       "      <th>known_for_crime</th>\n",
       "      <th>known_for_law_enf_military_operator</th>\n",
       "      <th>known_for_politics_govt_law</th>\n",
       "      <th>known_for_sciences</th>\n",
       "      <th>known_for_social</th>\n",
       "      <th>known_for_spiritual</th>\n",
       "      <th>known_for_sports</th>\n",
       "      <th>known_for_three_to_five</th>\n",
       "      <th>known_for_two</th>\n",
       "    </tr>\n",
       "  </thead>\n",
       "  <tbody>\n",
       "    <tr>\n",
       "      <th>20791</th>\n",
       "      <td>1.0</td>\n",
       "      <td>0.025641</td>\n",
       "      <td>24.0</td>\n",
       "      <td>0.0</td>\n",
       "      <td>0.0</td>\n",
       "      <td>0.0</td>\n",
       "      <td>0.0</td>\n",
       "      <td>0.0</td>\n",
       "      <td>0.0</td>\n",
       "      <td>0.0</td>\n",
       "      <td>0.0</td>\n",
       "      <td>0.0</td>\n",
       "      <td>0.0</td>\n",
       "      <td>0.0</td>\n",
       "      <td>0.0</td>\n",
       "      <td>0.0</td>\n",
       "      <td>0.0</td>\n",
       "      <td>0.0</td>\n",
       "      <td>1.0</td>\n",
       "      <td>0.0</td>\n",
       "      <td>0.0</td>\n",
       "      <td>0.0</td>\n",
       "      <td>0.0</td>\n",
       "      <td>0.0</td>\n",
       "      <td>1.0</td>\n",
       "      <td>0.0</td>\n",
       "      <td>0.0</td>\n",
       "      <td>0.0</td>\n",
       "      <td>0.0</td>\n",
       "      <td>0.0</td>\n",
       "      <td>0.0</td>\n",
       "      <td>0.0</td>\n",
       "      <td>0.0</td>\n",
       "      <td>0.0</td>\n",
       "      <td>0.0</td>\n",
       "    </tr>\n",
       "    <tr>\n",
       "      <th>68796</th>\n",
       "      <td>1.0</td>\n",
       "      <td>0.166667</td>\n",
       "      <td>22.0</td>\n",
       "      <td>0.0</td>\n",
       "      <td>0.0</td>\n",
       "      <td>0.0</td>\n",
       "      <td>0.0</td>\n",
       "      <td>0.0</td>\n",
       "      <td>1.0</td>\n",
       "      <td>0.0</td>\n",
       "      <td>0.0</td>\n",
       "      <td>0.0</td>\n",
       "      <td>0.0</td>\n",
       "      <td>0.0</td>\n",
       "      <td>0.0</td>\n",
       "      <td>0.0</td>\n",
       "      <td>0.0</td>\n",
       "      <td>0.0</td>\n",
       "      <td>1.0</td>\n",
       "      <td>0.0</td>\n",
       "      <td>0.0</td>\n",
       "      <td>0.0</td>\n",
       "      <td>0.0</td>\n",
       "      <td>0.0</td>\n",
       "      <td>0.0</td>\n",
       "      <td>0.0</td>\n",
       "      <td>0.0</td>\n",
       "      <td>0.0</td>\n",
       "      <td>1.0</td>\n",
       "      <td>0.0</td>\n",
       "      <td>0.0</td>\n",
       "      <td>0.0</td>\n",
       "      <td>0.0</td>\n",
       "      <td>0.0</td>\n",
       "      <td>0.0</td>\n",
       "    </tr>\n",
       "  </tbody>\n",
       "</table>\n",
       "</div>"
      ],
      "text/plain": [
       "       const  recip_num_references  years  region_Asia  region_Central Asia  \\\n",
       "20791    1.0              0.025641   24.0          0.0                  0.0   \n",
       "68796    1.0              0.166667   22.0          0.0                  0.0   \n",
       "\n",
       "       region_Europe  region_Mid-Cent America/Caribbean  region_Middle East  \\\n",
       "20791            0.0                                0.0                 0.0   \n",
       "68796            0.0                                0.0                 0.0   \n",
       "\n",
       "       region_North America  region_Oceania  region_Russian Federation  \\\n",
       "20791                   0.0             0.0                        0.0   \n",
       "68796                   1.0             0.0                        0.0   \n",
       "\n",
       "       region_South America  region_South East Asia  prior_region_Asia  \\\n",
       "20791                   0.0                     0.0                0.0   \n",
       "68796                   0.0                     0.0                0.0   \n",
       "\n",
       "       prior_region_Central Asia  prior_region_Europe  \\\n",
       "20791                        0.0                  0.0   \n",
       "68796                        0.0                  0.0   \n",
       "\n",
       "       prior_region_Mid-Cent America/Caribbean  prior_region_Middle East  \\\n",
       "20791                                      0.0                       0.0   \n",
       "68796                                      0.0                       0.0   \n",
       "\n",
       "       prior_region_No Prior Region  prior_region_North America  \\\n",
       "20791                           1.0                         0.0   \n",
       "68796                           1.0                         0.0   \n",
       "\n",
       "       prior_region_Oceania  prior_region_Russian Federation  \\\n",
       "20791                   0.0                              0.0   \n",
       "68796                   0.0                              0.0   \n",
       "\n",
       "       prior_region_South America  prior_region_South East Asia  \\\n",
       "20791                         0.0                           0.0   \n",
       "68796                         0.0                           0.0   \n",
       "\n",
       "       known_for_arts  known_for_business_farming  known_for_crime  \\\n",
       "20791             1.0                         0.0              0.0   \n",
       "68796             0.0                         0.0              0.0   \n",
       "\n",
       "       known_for_law_enf_military_operator  known_for_politics_govt_law  \\\n",
       "20791                                  0.0                          0.0   \n",
       "68796                                  0.0                          1.0   \n",
       "\n",
       "       known_for_sciences  known_for_social  known_for_spiritual  \\\n",
       "20791                 0.0               0.0                  0.0   \n",
       "68796                 0.0               0.0                  0.0   \n",
       "\n",
       "       known_for_sports  known_for_three_to_five  known_for_two  \n",
       "20791               0.0                      0.0            0.0  \n",
       "68796               0.0                      0.0            0.0  "
      ]
     },
     "execution_count": 14,
     "metadata": {},
     "output_type": "execute_result"
    },
    {
     "data": {
      "application/javascript": [
       "\n",
       "            setTimeout(function() {\n",
       "                var nbb_cell_id = 14;\n",
       "                var nbb_unformatted_code = \"# Defining independent and dependent variables\\nX_train, X_test = df.drop(\\\"age\\\", axis=1), test.drop(\\\"age\\\", axis=1)\\ny_train, y_test = df[\\\"age\\\"], test[\\\"age\\\"]\\n\\n\\n# One hot encoding independent categorical features\\nX_train = pd.get_dummies(X_train, drop_first=True)\\nX_test = pd.get_dummies(X_test, drop_first=True)\\n\\n# Adding the intercept\\nX_train = sm.add_constant(X_train)\\nX_test = sm.add_constant(X_test)\\n\\n# Typecasting independent variables as float\\nX_train = X_train.astype(\\\"float64\\\")\\nX_test = X_test.astype(\\\"float64\\\")\\n\\n# Checking shape of train and test sets\\nprint(f\\\"There are {X_train.shape[0]} rows and {X_train.shape[1]} columns in X_train.\\\")\\nprint(f\\\"There are {X_test.shape[0]} rows and {X_test.shape[1]} columns in X_test.\\\\n\\\")\\n\\n# Checking a sample of train set\\nX_train.sample(2)\";\n",
       "                var nbb_formatted_code = \"# Defining independent and dependent variables\\nX_train, X_test = df.drop(\\\"age\\\", axis=1), test.drop(\\\"age\\\", axis=1)\\ny_train, y_test = df[\\\"age\\\"], test[\\\"age\\\"]\\n\\n\\n# One hot encoding independent categorical features\\nX_train = pd.get_dummies(X_train, drop_first=True)\\nX_test = pd.get_dummies(X_test, drop_first=True)\\n\\n# Adding the intercept\\nX_train = sm.add_constant(X_train)\\nX_test = sm.add_constant(X_test)\\n\\n# Typecasting independent variables as float\\nX_train = X_train.astype(\\\"float64\\\")\\nX_test = X_test.astype(\\\"float64\\\")\\n\\n# Checking shape of train and test sets\\nprint(f\\\"There are {X_train.shape[0]} rows and {X_train.shape[1]} columns in X_train.\\\")\\nprint(f\\\"There are {X_test.shape[0]} rows and {X_test.shape[1]} columns in X_test.\\\\n\\\")\\n\\n# Checking a sample of train set\\nX_train.sample(2)\";\n",
       "                var nbb_cells = Jupyter.notebook.get_cells();\n",
       "                for (var i = 0; i < nbb_cells.length; ++i) {\n",
       "                    if (nbb_cells[i].input_prompt_number == nbb_cell_id) {\n",
       "                        if (nbb_cells[i].get_text() == nbb_unformatted_code) {\n",
       "                             nbb_cells[i].set_text(nbb_formatted_code);\n",
       "                        }\n",
       "                        break;\n",
       "                    }\n",
       "                }\n",
       "            }, 500);\n",
       "            "
      ],
      "text/plain": [
       "<IPython.core.display.Javascript object>"
      ]
     },
     "metadata": {},
     "output_type": "display_data"
    }
   ],
   "source": [
    "# Defining independent and dependent variables\n",
    "X_train, X_test = df.drop(\"age\", axis=1), test.drop(\"age\", axis=1)\n",
    "y_train, y_test = df[\"age\"], test[\"age\"]\n",
    "\n",
    "\n",
    "# One hot encoding independent categorical features\n",
    "X_train = pd.get_dummies(X_train, drop_first=True)\n",
    "X_test = pd.get_dummies(X_test, drop_first=True)\n",
    "\n",
    "# Adding the intercept\n",
    "X_train = sm.add_constant(X_train)\n",
    "X_test = sm.add_constant(X_test)\n",
    "\n",
    "# Typecasting independent variables as float\n",
    "X_train = X_train.astype(\"float64\")\n",
    "X_test = X_test.astype(\"float64\")\n",
    "\n",
    "# Checking shape of train and test sets\n",
    "print(f\"There are {X_train.shape[0]} rows and {X_train.shape[1]} columns in X_train.\")\n",
    "print(f\"There are {X_test.shape[0]} rows and {X_test.shape[1]} columns in X_test.\\n\")\n",
    "\n",
    "# Checking a sample of train set\n",
    "X_train.sample(2)"
   ]
  },
  {
   "cell_type": "code",
   "execution_count": 15,
   "id": "6e144120",
   "metadata": {},
   "outputs": [
    {
     "data": {
      "text/html": [
       "<div>\n",
       "<style scoped>\n",
       "    .dataframe tbody tr th:only-of-type {\n",
       "        vertical-align: middle;\n",
       "    }\n",
       "\n",
       "    .dataframe tbody tr th {\n",
       "        vertical-align: top;\n",
       "    }\n",
       "\n",
       "    .dataframe thead th {\n",
       "        text-align: right;\n",
       "    }\n",
       "</style>\n",
       "<table border=\"1\" class=\"dataframe\">\n",
       "  <thead>\n",
       "    <tr style=\"text-align: right;\">\n",
       "      <th></th>\n",
       "      <th>const</th>\n",
       "      <th>recip_num_references</th>\n",
       "      <th>years</th>\n",
       "      <th>region_Asia</th>\n",
       "      <th>region_Central Asia</th>\n",
       "      <th>region_Europe</th>\n",
       "      <th>region_Mid-Cent America/Caribbean</th>\n",
       "      <th>region_Middle East</th>\n",
       "      <th>region_North America</th>\n",
       "      <th>region_Oceania</th>\n",
       "      <th>region_Russian Federation</th>\n",
       "      <th>region_South America</th>\n",
       "      <th>region_South East Asia</th>\n",
       "      <th>prior_region_Asia</th>\n",
       "      <th>prior_region_Central Asia</th>\n",
       "      <th>prior_region_Europe</th>\n",
       "      <th>prior_region_Mid-Cent America/Caribbean</th>\n",
       "      <th>prior_region_Middle East</th>\n",
       "      <th>prior_region_No Prior Region</th>\n",
       "      <th>prior_region_North America</th>\n",
       "      <th>prior_region_Oceania</th>\n",
       "      <th>prior_region_Russian Federation</th>\n",
       "      <th>prior_region_South America</th>\n",
       "      <th>prior_region_South East Asia</th>\n",
       "      <th>known_for_arts</th>\n",
       "      <th>known_for_business_farming</th>\n",
       "      <th>known_for_crime</th>\n",
       "      <th>known_for_law_enf_military_operator</th>\n",
       "      <th>known_for_politics_govt_law</th>\n",
       "      <th>known_for_sciences</th>\n",
       "      <th>known_for_social</th>\n",
       "      <th>known_for_spiritual</th>\n",
       "      <th>known_for_sports</th>\n",
       "      <th>known_for_three_to_five</th>\n",
       "      <th>known_for_two</th>\n",
       "    </tr>\n",
       "  </thead>\n",
       "  <tbody>\n",
       "    <tr>\n",
       "      <th>7231</th>\n",
       "      <td>1.0</td>\n",
       "      <td>0.090909</td>\n",
       "      <td>26.0</td>\n",
       "      <td>0.0</td>\n",
       "      <td>0.0</td>\n",
       "      <td>0.0</td>\n",
       "      <td>0.0</td>\n",
       "      <td>0.0</td>\n",
       "      <td>0.0</td>\n",
       "      <td>0.0</td>\n",
       "      <td>0.0</td>\n",
       "      <td>1.0</td>\n",
       "      <td>0.0</td>\n",
       "      <td>0.0</td>\n",
       "      <td>0.0</td>\n",
       "      <td>0.0</td>\n",
       "      <td>0.0</td>\n",
       "      <td>0.0</td>\n",
       "      <td>1.0</td>\n",
       "      <td>0.0</td>\n",
       "      <td>0.0</td>\n",
       "      <td>0.0</td>\n",
       "      <td>0.0</td>\n",
       "      <td>0.0</td>\n",
       "      <td>0.0</td>\n",
       "      <td>0.0</td>\n",
       "      <td>0.0</td>\n",
       "      <td>0.0</td>\n",
       "      <td>1.0</td>\n",
       "      <td>0.0</td>\n",
       "      <td>0.0</td>\n",
       "      <td>0.0</td>\n",
       "      <td>0.0</td>\n",
       "      <td>0.0</td>\n",
       "      <td>0.0</td>\n",
       "    </tr>\n",
       "    <tr>\n",
       "      <th>13306</th>\n",
       "      <td>1.0</td>\n",
       "      <td>0.111111</td>\n",
       "      <td>18.0</td>\n",
       "      <td>0.0</td>\n",
       "      <td>0.0</td>\n",
       "      <td>0.0</td>\n",
       "      <td>0.0</td>\n",
       "      <td>0.0</td>\n",
       "      <td>1.0</td>\n",
       "      <td>0.0</td>\n",
       "      <td>0.0</td>\n",
       "      <td>0.0</td>\n",
       "      <td>0.0</td>\n",
       "      <td>0.0</td>\n",
       "      <td>0.0</td>\n",
       "      <td>0.0</td>\n",
       "      <td>0.0</td>\n",
       "      <td>0.0</td>\n",
       "      <td>1.0</td>\n",
       "      <td>0.0</td>\n",
       "      <td>0.0</td>\n",
       "      <td>0.0</td>\n",
       "      <td>0.0</td>\n",
       "      <td>0.0</td>\n",
       "      <td>0.0</td>\n",
       "      <td>0.0</td>\n",
       "      <td>0.0</td>\n",
       "      <td>0.0</td>\n",
       "      <td>0.0</td>\n",
       "      <td>0.0</td>\n",
       "      <td>0.0</td>\n",
       "      <td>0.0</td>\n",
       "      <td>1.0</td>\n",
       "      <td>0.0</td>\n",
       "      <td>0.0</td>\n",
       "    </tr>\n",
       "  </tbody>\n",
       "</table>\n",
       "</div>"
      ],
      "text/plain": [
       "       const  recip_num_references  years  region_Asia  region_Central Asia  \\\n",
       "7231     1.0              0.090909   26.0          0.0                  0.0   \n",
       "13306    1.0              0.111111   18.0          0.0                  0.0   \n",
       "\n",
       "       region_Europe  region_Mid-Cent America/Caribbean  region_Middle East  \\\n",
       "7231             0.0                                0.0                 0.0   \n",
       "13306            0.0                                0.0                 0.0   \n",
       "\n",
       "       region_North America  region_Oceania  region_Russian Federation  \\\n",
       "7231                    0.0             0.0                        0.0   \n",
       "13306                   1.0             0.0                        0.0   \n",
       "\n",
       "       region_South America  region_South East Asia  prior_region_Asia  \\\n",
       "7231                    1.0                     0.0                0.0   \n",
       "13306                   0.0                     0.0                0.0   \n",
       "\n",
       "       prior_region_Central Asia  prior_region_Europe  \\\n",
       "7231                         0.0                  0.0   \n",
       "13306                        0.0                  0.0   \n",
       "\n",
       "       prior_region_Mid-Cent America/Caribbean  prior_region_Middle East  \\\n",
       "7231                                       0.0                       0.0   \n",
       "13306                                      0.0                       0.0   \n",
       "\n",
       "       prior_region_No Prior Region  prior_region_North America  \\\n",
       "7231                            1.0                         0.0   \n",
       "13306                           1.0                         0.0   \n",
       "\n",
       "       prior_region_Oceania  prior_region_Russian Federation  \\\n",
       "7231                    0.0                              0.0   \n",
       "13306                   0.0                              0.0   \n",
       "\n",
       "       prior_region_South America  prior_region_South East Asia  \\\n",
       "7231                          0.0                           0.0   \n",
       "13306                         0.0                           0.0   \n",
       "\n",
       "       known_for_arts  known_for_business_farming  known_for_crime  \\\n",
       "7231              0.0                         0.0              0.0   \n",
       "13306             0.0                         0.0              0.0   \n",
       "\n",
       "       known_for_law_enf_military_operator  known_for_politics_govt_law  \\\n",
       "7231                                   0.0                          1.0   \n",
       "13306                                  0.0                          0.0   \n",
       "\n",
       "       known_for_sciences  known_for_social  known_for_spiritual  \\\n",
       "7231                  0.0               0.0                  0.0   \n",
       "13306                 0.0               0.0                  0.0   \n",
       "\n",
       "       known_for_sports  known_for_three_to_five  known_for_two  \n",
       "7231                0.0                      0.0            0.0  \n",
       "13306               1.0                      0.0            0.0  "
      ]
     },
     "execution_count": 15,
     "metadata": {},
     "output_type": "execute_result"
    },
    {
     "data": {
      "application/javascript": [
       "\n",
       "            setTimeout(function() {\n",
       "                var nbb_cell_id = 15;\n",
       "                var nbb_unformatted_code = \"# Checking a sample of test set\\nX_test.sample(2)\";\n",
       "                var nbb_formatted_code = \"# Checking a sample of test set\\nX_test.sample(2)\";\n",
       "                var nbb_cells = Jupyter.notebook.get_cells();\n",
       "                for (var i = 0; i < nbb_cells.length; ++i) {\n",
       "                    if (nbb_cells[i].input_prompt_number == nbb_cell_id) {\n",
       "                        if (nbb_cells[i].get_text() == nbb_unformatted_code) {\n",
       "                             nbb_cells[i].set_text(nbb_formatted_code);\n",
       "                        }\n",
       "                        break;\n",
       "                    }\n",
       "                }\n",
       "            }, 500);\n",
       "            "
      ],
      "text/plain": [
       "<IPython.core.display.Javascript object>"
      ]
     },
     "metadata": {},
     "output_type": "display_data"
    }
   ],
   "source": [
    "# Checking a sample of test set\n",
    "X_test.sample(2)"
   ]
  },
  {
   "cell_type": "markdown",
   "id": "598a53f2",
   "metadata": {},
   "source": [
    "#### Observations:\n",
    "- We are ready to build our model.\n",
    "- The references levels for the categorical features are as follows:\n",
    "    - `region`: Africa\n",
    "    - `prior_region`: Africa\n",
    "    - `known_for` academia_humanities"
   ]
  },
  {
   "cell_type": "markdown",
   "id": "e86a0713",
   "metadata": {},
   "source": [
    "### Fitting a Linear Model"
   ]
  },
  {
   "cell_type": "code",
   "execution_count": 16,
   "id": "3aa7c7b7",
   "metadata": {},
   "outputs": [
    {
     "name": "stdout",
     "output_type": "stream",
     "text": [
      "                            OLS Regression Results                            \n",
      "==============================================================================\n",
      "Dep. Variable:                    age   R-squared:                       0.096\n",
      "Model:                            OLS   Adj. R-squared:                  0.095\n",
      "Method:                 Least Squares   F-statistic:                     241.1\n",
      "Date:                Mon, 10 Oct 2022   Prob (F-statistic):               0.00\n",
      "Time:                        14:13:59   Log-Likelihood:            -3.2105e+05\n",
      "No. Observations:               77661   AIC:                         6.422e+05\n",
      "Df Residuals:                   77626   BIC:                         6.425e+05\n",
      "Df Model:                          34                                         \n",
      "Covariance Type:            nonrobust                                         \n",
      "===========================================================================================================\n",
      "                                              coef    std err          t      P>|t|      [0.025      0.975]\n",
      "-----------------------------------------------------------------------------------------------------------\n",
      "const                                      64.0048      1.068     59.921      0.000      61.911      66.098\n",
      "recip_num_references                       10.2095      0.563     18.141      0.000       9.106      11.313\n",
      "years                                       0.2036      0.007     29.086      0.000       0.190       0.217\n",
      "region_Asia                                 6.5451      0.349     18.745      0.000       5.861       7.229\n",
      "region_Central Asia                        -2.2283      1.618     -1.378      0.168      -5.399       0.942\n",
      "region_Europe                               9.8565      0.312     31.635      0.000       9.246      10.467\n",
      "region_Mid-Cent America/Caribbean           4.8962      0.486     10.066      0.000       3.943       5.850\n",
      "region_Middle East                          3.9009      0.448      8.716      0.000       3.024       4.778\n",
      "region_North America                       10.2644      0.308     33.362      0.000       9.661      10.867\n",
      "region_Oceania                              9.3244      0.386     24.180      0.000       8.569      10.080\n",
      "region_Russian Federation                   3.8918      0.523      7.436      0.000       2.866       4.918\n",
      "region_South America                        5.7157      0.459     12.440      0.000       4.815       6.616\n",
      "region_South East Asia                      3.2171      0.512      6.283      0.000       2.213       4.221\n",
      "prior_region_Asia                           1.4607      1.272      1.149      0.251      -1.032       3.953\n",
      "prior_region_Central Asia                  -0.4011      5.447     -0.074      0.941     -11.078      10.276\n",
      "prior_region_Europe                         7.9815      1.021      7.815      0.000       5.980       9.983\n",
      "prior_region_Mid-Cent America/Caribbean     1.6705      1.441      1.159      0.246      -1.154       4.495\n",
      "prior_region_Middle East                   -0.2507      1.499     -0.167      0.867      -3.188       2.687\n",
      "prior_region_No Prior Region                2.9067      0.974      2.986      0.003       0.999       4.815\n",
      "prior_region_North America                  3.3508      1.214      2.760      0.006       0.971       5.730\n",
      "prior_region_Oceania                        1.3336      1.621      0.823      0.411      -1.843       4.510\n",
      "prior_region_Russian Federation             4.6717      1.341      3.483      0.000       2.043       7.301\n",
      "prior_region_South America                  1.8642      1.744      1.069      0.285      -1.554       5.282\n",
      "prior_region_South East Asia               -7.7943      2.210     -3.527      0.000     -12.125      -3.463\n",
      "known_for_arts                             -5.5220      0.315    -17.543      0.000      -6.139      -4.905\n",
      "known_for_business_farming                 -1.7809      0.516     -3.450      0.001      -2.793      -0.769\n",
      "known_for_crime                           -25.6305      0.677    -37.832      0.000     -26.958     -24.303\n",
      "known_for_law_enf_military_operator        -0.1040      0.432     -0.241      0.810      -0.951       0.742\n",
      "known_for_politics_govt_law                -2.5533      0.331     -7.719      0.000      -3.202      -1.905\n",
      "known_for_sciences                          0.9146      0.373      2.454      0.014       0.184       1.645\n",
      "known_for_social                           -3.0416      1.270     -2.395      0.017      -5.531      -0.552\n",
      "known_for_spiritual                         1.3589      0.474      2.866      0.004       0.430       2.288\n",
      "known_for_sports                           -9.5287      0.326    -29.190      0.000     -10.169      -8.889\n",
      "known_for_three_to_five                     0.6485      0.578      1.122      0.262      -0.484       1.781\n",
      "known_for_two                              -1.2034      0.335     -3.593      0.000      -1.860      -0.547\n",
      "==============================================================================\n",
      "Omnibus:                    10325.979   Durbin-Watson:                   2.021\n",
      "Prob(Omnibus):                  0.000   Jarque-Bera (JB):            15477.918\n",
      "Skew:                          -0.975   Prob(JB):                         0.00\n",
      "Kurtosis:                       3.989   Cond. No.                     2.01e+03\n",
      "==============================================================================\n",
      "\n",
      "Notes:\n",
      "[1] Standard Errors assume that the covariance matrix of the errors is correctly specified.\n",
      "[2] The condition number is large, 2.01e+03. This might indicate that there are\n",
      "strong multicollinearity or other numerical problems.\n"
     ]
    },
    {
     "data": {
      "application/javascript": [
       "\n",
       "            setTimeout(function() {\n",
       "                var nbb_cell_id = 16;\n",
       "                var nbb_unformatted_code = \"# Fitting a linear model and displaying model summary\\nolsmodel = sm.OLS(y_train, X_train).fit()\\nprint(olsmodel.summary())\";\n",
       "                var nbb_formatted_code = \"# Fitting a linear model and displaying model summary\\nolsmodel = sm.OLS(y_train, X_train).fit()\\nprint(olsmodel.summary())\";\n",
       "                var nbb_cells = Jupyter.notebook.get_cells();\n",
       "                for (var i = 0; i < nbb_cells.length; ++i) {\n",
       "                    if (nbb_cells[i].input_prompt_number == nbb_cell_id) {\n",
       "                        if (nbb_cells[i].get_text() == nbb_unformatted_code) {\n",
       "                             nbb_cells[i].set_text(nbb_formatted_code);\n",
       "                        }\n",
       "                        break;\n",
       "                    }\n",
       "                }\n",
       "            }, 500);\n",
       "            "
      ],
      "text/plain": [
       "<IPython.core.display.Javascript object>"
      ]
     },
     "metadata": {},
     "output_type": "display_data"
    }
   ],
   "source": [
    "# Fitting a linear model and displaying model summary\n",
    "olsmodel = sm.OLS(y_train, X_train).fit()\n",
    "print(olsmodel.summary())"
   ]
  },
  {
   "cell_type": "markdown",
   "id": "e0ef7379",
   "metadata": {},
   "source": [
    "### Model Performance Check"
   ]
  },
  {
   "cell_type": "markdown",
   "id": "be442673",
   "metadata": {},
   "source": [
    "#### Functions to check model performance"
   ]
  },
  {
   "cell_type": "code",
   "execution_count": 17,
   "id": "815c33f1",
   "metadata": {},
   "outputs": [
    {
     "data": {
      "application/javascript": [
       "\n",
       "            setTimeout(function() {\n",
       "                var nbb_cell_id = 17;\n",
       "                var nbb_unformatted_code = \"# function to compute adjusted R-squared\\ndef adj_r2_score(predictors, targets, predictions):\\n    r2 = r2_score(targets, predictions)\\n    n = predictors.shape[0]\\n    k = predictors.shape[1]\\n    return 1 - ((1 - r2) * (n - 1) / (n - k - 1))\\n\\n\\n# function to compute MAPE\\ndef mape_score(targets, predictions):\\n    return np.mean(np.abs((targets - predictions) / targets)) * 100\\n\\n\\n# function to compute and display different metrics to check performance of a regression model\\n# with conversion back to original scale for RMSE, MAE, and MAPE for ease of explainability\\ndef model_performance_regression(model, predictors, target):\\n    \\\"\\\"\\\"\\n    Function to compute and return a dataframe of different metrics to check\\n    regression model performance\\n    \\n    model: regressor\\n    predictors: independent variables\\n    target: dependent variable\\n    \\\"\\\"\\\"\\n    # predictions\\n    pred = model.predict(predictors)\\n\\n    r2 = r2_score(target, pred)  # to compute R-squared\\n    adjr2 = adj_r2_score(predictors, target, pred)  # to compute adjusted R-squared\\n    rmse = np.sqrt(mean_squared_error(target, pred))  # to compute RMSE\\n    mae = mean_absolute_error(target, pred)  # to compute MAE\\n    mape = mape_score(target, pred)  # to compute MAPE\\n\\n    # creating a dataframe of metrics\\n    df_perf = pd.DataFrame(\\n        {\\n            \\\"RMSE\\\": rmse,\\n            \\\"MAE\\\": mae,\\n            \\\"R-squared\\\": r2,\\n            \\\"Adj. R-squared\\\": adjr2,\\n            \\\"MAPE\\\": mape,\\n        },\\n        index=[0],\\n    )\\n\\n    return df_perf\";\n",
       "                var nbb_formatted_code = \"# function to compute adjusted R-squared\\ndef adj_r2_score(predictors, targets, predictions):\\n    r2 = r2_score(targets, predictions)\\n    n = predictors.shape[0]\\n    k = predictors.shape[1]\\n    return 1 - ((1 - r2) * (n - 1) / (n - k - 1))\\n\\n\\n# function to compute MAPE\\ndef mape_score(targets, predictions):\\n    return np.mean(np.abs((targets - predictions) / targets)) * 100\\n\\n\\n# function to compute and display different metrics to check performance of a regression model\\n# with conversion back to original scale for RMSE, MAE, and MAPE for ease of explainability\\ndef model_performance_regression(model, predictors, target):\\n    \\\"\\\"\\\"\\n    Function to compute and return a dataframe of different metrics to check\\n    regression model performance\\n    \\n    model: regressor\\n    predictors: independent variables\\n    target: dependent variable\\n    \\\"\\\"\\\"\\n    # predictions\\n    pred = model.predict(predictors)\\n\\n    r2 = r2_score(target, pred)  # to compute R-squared\\n    adjr2 = adj_r2_score(predictors, target, pred)  # to compute adjusted R-squared\\n    rmse = np.sqrt(mean_squared_error(target, pred))  # to compute RMSE\\n    mae = mean_absolute_error(target, pred)  # to compute MAE\\n    mape = mape_score(target, pred)  # to compute MAPE\\n\\n    # creating a dataframe of metrics\\n    df_perf = pd.DataFrame(\\n        {\\n            \\\"RMSE\\\": rmse,\\n            \\\"MAE\\\": mae,\\n            \\\"R-squared\\\": r2,\\n            \\\"Adj. R-squared\\\": adjr2,\\n            \\\"MAPE\\\": mape,\\n        },\\n        index=[0],\\n    )\\n\\n    return df_perf\";\n",
       "                var nbb_cells = Jupyter.notebook.get_cells();\n",
       "                for (var i = 0; i < nbb_cells.length; ++i) {\n",
       "                    if (nbb_cells[i].input_prompt_number == nbb_cell_id) {\n",
       "                        if (nbb_cells[i].get_text() == nbb_unformatted_code) {\n",
       "                             nbb_cells[i].set_text(nbb_formatted_code);\n",
       "                        }\n",
       "                        break;\n",
       "                    }\n",
       "                }\n",
       "            }, 500);\n",
       "            "
      ],
      "text/plain": [
       "<IPython.core.display.Javascript object>"
      ]
     },
     "metadata": {},
     "output_type": "display_data"
    }
   ],
   "source": [
    "# function to compute adjusted R-squared\n",
    "def adj_r2_score(predictors, targets, predictions):\n",
    "    r2 = r2_score(targets, predictions)\n",
    "    n = predictors.shape[0]\n",
    "    k = predictors.shape[1]\n",
    "    return 1 - ((1 - r2) * (n - 1) / (n - k - 1))\n",
    "\n",
    "\n",
    "# function to compute MAPE\n",
    "def mape_score(targets, predictions):\n",
    "    return np.mean(np.abs((targets - predictions) / targets)) * 100\n",
    "\n",
    "\n",
    "# function to compute and display different metrics to check performance of a regression model\n",
    "# with conversion back to original scale for RMSE, MAE, and MAPE for ease of explainability\n",
    "def model_performance_regression(model, predictors, target):\n",
    "    \"\"\"\n",
    "    Function to compute and return a dataframe of different metrics to check\n",
    "    regression model performance\n",
    "    \n",
    "    model: regressor\n",
    "    predictors: independent variables\n",
    "    target: dependent variable\n",
    "    \"\"\"\n",
    "    # predictions\n",
    "    pred = model.predict(predictors)\n",
    "\n",
    "    r2 = r2_score(target, pred)  # to compute R-squared\n",
    "    adjr2 = adj_r2_score(predictors, target, pred)  # to compute adjusted R-squared\n",
    "    rmse = np.sqrt(mean_squared_error(target, pred))  # to compute RMSE\n",
    "    mae = mean_absolute_error(target, pred)  # to compute MAE\n",
    "    mape = mape_score(target, pred)  # to compute MAPE\n",
    "\n",
    "    # creating a dataframe of metrics\n",
    "    df_perf = pd.DataFrame(\n",
    "        {\n",
    "            \"RMSE\": rmse,\n",
    "            \"MAE\": mae,\n",
    "            \"R-squared\": r2,\n",
    "            \"Adj. R-squared\": adjr2,\n",
    "            \"MAPE\": mape,\n",
    "        },\n",
    "        index=[0],\n",
    "    )\n",
    "\n",
    "    return df_perf"
   ]
  },
  {
   "cell_type": "markdown",
   "id": "738385af",
   "metadata": {},
   "source": [
    "#### Model Performance on Train Set"
   ]
  },
  {
   "cell_type": "code",
   "execution_count": 18,
   "id": "e5c19a5f",
   "metadata": {},
   "outputs": [
    {
     "name": "stdout",
     "output_type": "stream",
     "text": [
      "Training Performance\n",
      "\n"
     ]
    },
    {
     "data": {
      "text/html": [
       "<div>\n",
       "<style scoped>\n",
       "    .dataframe tbody tr th:only-of-type {\n",
       "        vertical-align: middle;\n",
       "    }\n",
       "\n",
       "    .dataframe tbody tr th {\n",
       "        vertical-align: top;\n",
       "    }\n",
       "\n",
       "    .dataframe thead th {\n",
       "        text-align: right;\n",
       "    }\n",
       "</style>\n",
       "<table border=\"1\" class=\"dataframe\">\n",
       "  <thead>\n",
       "    <tr style=\"text-align: right;\">\n",
       "      <th></th>\n",
       "      <th>RMSE</th>\n",
       "      <th>MAE</th>\n",
       "      <th>R-squared</th>\n",
       "      <th>Adj. R-squared</th>\n",
       "      <th>MAPE</th>\n",
       "    </tr>\n",
       "  </thead>\n",
       "  <tbody>\n",
       "    <tr>\n",
       "      <th>0</th>\n",
       "      <td>15.105332</td>\n",
       "      <td>11.708869</td>\n",
       "      <td>0.095515</td>\n",
       "      <td>0.095107</td>\n",
       "      <td>19.460323</td>\n",
       "    </tr>\n",
       "  </tbody>\n",
       "</table>\n",
       "</div>"
      ],
      "text/plain": [
       "        RMSE        MAE  R-squared  Adj. R-squared       MAPE\n",
       "0  15.105332  11.708869   0.095515        0.095107  19.460323"
      ]
     },
     "execution_count": 18,
     "metadata": {},
     "output_type": "execute_result"
    },
    {
     "data": {
      "application/javascript": [
       "\n",
       "            setTimeout(function() {\n",
       "                var nbb_cell_id = 18;\n",
       "                var nbb_unformatted_code = \"# Checking model performance on train set\\nprint(\\\"Training Performance\\\\n\\\")\\nolsmodel_train_perf = model_performance_regression(olsmodel, X_train, y_train)\\nolsmodel_train_perf\";\n",
       "                var nbb_formatted_code = \"# Checking model performance on train set\\nprint(\\\"Training Performance\\\\n\\\")\\nolsmodel_train_perf = model_performance_regression(olsmodel, X_train, y_train)\\nolsmodel_train_perf\";\n",
       "                var nbb_cells = Jupyter.notebook.get_cells();\n",
       "                for (var i = 0; i < nbb_cells.length; ++i) {\n",
       "                    if (nbb_cells[i].input_prompt_number == nbb_cell_id) {\n",
       "                        if (nbb_cells[i].get_text() == nbb_unformatted_code) {\n",
       "                             nbb_cells[i].set_text(nbb_formatted_code);\n",
       "                        }\n",
       "                        break;\n",
       "                    }\n",
       "                }\n",
       "            }, 500);\n",
       "            "
      ],
      "text/plain": [
       "<IPython.core.display.Javascript object>"
      ]
     },
     "metadata": {},
     "output_type": "display_data"
    }
   ],
   "source": [
    "# Checking model performance on train set\n",
    "print(\"Training Performance\\n\")\n",
    "olsmodel_train_perf = model_performance_regression(olsmodel, X_train, y_train)\n",
    "olsmodel_train_perf"
   ]
  },
  {
   "cell_type": "markdown",
   "id": "46dbdf32",
   "metadata": {},
   "source": [
    "### Model Performance on Test Set"
   ]
  },
  {
   "cell_type": "code",
   "execution_count": 19,
   "id": "16d45f16",
   "metadata": {},
   "outputs": [
    {
     "name": "stdout",
     "output_type": "stream",
     "text": [
      "Test Peformance\n",
      "\n"
     ]
    },
    {
     "data": {
      "text/html": [
       "<div>\n",
       "<style scoped>\n",
       "    .dataframe tbody tr th:only-of-type {\n",
       "        vertical-align: middle;\n",
       "    }\n",
       "\n",
       "    .dataframe tbody tr th {\n",
       "        vertical-align: top;\n",
       "    }\n",
       "\n",
       "    .dataframe thead th {\n",
       "        text-align: right;\n",
       "    }\n",
       "</style>\n",
       "<table border=\"1\" class=\"dataframe\">\n",
       "  <thead>\n",
       "    <tr style=\"text-align: right;\">\n",
       "      <th></th>\n",
       "      <th>RMSE</th>\n",
       "      <th>MAE</th>\n",
       "      <th>R-squared</th>\n",
       "      <th>Adj. R-squared</th>\n",
       "      <th>MAPE</th>\n",
       "    </tr>\n",
       "  </thead>\n",
       "  <tbody>\n",
       "    <tr>\n",
       "      <th>0</th>\n",
       "      <td>14.991857</td>\n",
       "      <td>11.643245</td>\n",
       "      <td>0.092908</td>\n",
       "      <td>0.091271</td>\n",
       "      <td>19.158569</td>\n",
       "    </tr>\n",
       "  </tbody>\n",
       "</table>\n",
       "</div>"
      ],
      "text/plain": [
       "        RMSE        MAE  R-squared  Adj. R-squared       MAPE\n",
       "0  14.991857  11.643245   0.092908        0.091271  19.158569"
      ]
     },
     "execution_count": 19,
     "metadata": {},
     "output_type": "execute_result"
    },
    {
     "data": {
      "application/javascript": [
       "\n",
       "            setTimeout(function() {\n",
       "                var nbb_cell_id = 19;\n",
       "                var nbb_unformatted_code = \"# Checking model performance on validation set\\nprint(\\\"Test Peformance\\\\n\\\")\\nolsmodel_test_perf = model_performance_regression(olsmodel, X_test, y_test)\\nolsmodel_test_perf\";\n",
       "                var nbb_formatted_code = \"# Checking model performance on validation set\\nprint(\\\"Test Peformance\\\\n\\\")\\nolsmodel_test_perf = model_performance_regression(olsmodel, X_test, y_test)\\nolsmodel_test_perf\";\n",
       "                var nbb_cells = Jupyter.notebook.get_cells();\n",
       "                for (var i = 0; i < nbb_cells.length; ++i) {\n",
       "                    if (nbb_cells[i].input_prompt_number == nbb_cell_id) {\n",
       "                        if (nbb_cells[i].get_text() == nbb_unformatted_code) {\n",
       "                             nbb_cells[i].set_text(nbb_formatted_code);\n",
       "                        }\n",
       "                        break;\n",
       "                    }\n",
       "                }\n",
       "            }, 500);\n",
       "            "
      ],
      "text/plain": [
       "<IPython.core.display.Javascript object>"
      ]
     },
     "metadata": {},
     "output_type": "display_data"
    }
   ],
   "source": [
    "# Checking model performance on validation set\n",
    "print(\"Test Peformance\\n\")\n",
    "olsmodel_test_perf = model_performance_regression(olsmodel, X_test, y_test)\n",
    "olsmodel_test_perf"
   ]
  },
  {
   "cell_type": "markdown",
   "id": "58a15e44",
   "metadata": {},
   "source": [
    "#### Observations:\n",
    "- The train and test $R^2$ are 0.096 and 0.093, respectively, indicating that the model explains 9.6% of total variation in the train set and 9.3% of variation in the test set, so a very small amount.\n",
    "- RMSE values for the two sets are also comparable.\n",
    "- The comparable results between the two sets show that the model is not overfitting.\n",
    "- MAE indicates that our current model is able to predict age of reported deceased notable Wikipedia individuals within a mean error of 11.6 years on the test set.\n",
    "- MAPE of 19.2% on the test set means that we are able to predict within 19.2% of the reported age, in years."
   ]
  },
  {
   "cell_type": "markdown",
   "id": "4e498339",
   "metadata": {},
   "source": [
    "### Checking Linear Regression Assumptions"
   ]
  },
  {
   "cell_type": "markdown",
   "id": "f0dd4c8f",
   "metadata": {},
   "source": [
    "### Test for Multicollinearity"
   ]
  },
  {
   "cell_type": "markdown",
   "id": "c5caeb86",
   "metadata": {},
   "source": [
    "#### Function to check VIF of Each Independent Variable"
   ]
  },
  {
   "cell_type": "code",
   "execution_count": 20,
   "id": "45eb9177",
   "metadata": {},
   "outputs": [
    {
     "data": {
      "application/javascript": [
       "\n",
       "            setTimeout(function() {\n",
       "                var nbb_cell_id = 20;\n",
       "                var nbb_unformatted_code = \"# Define a function to check and display VIF of each independent variable\\ndef checking_vif(predictors):\\n    \\\"\\\"\\\"\\n    Takes input dependent variables predictors and returns\\n    a dataframe of variable name and VIF\\n    \\\"\\\"\\\"\\n    vif = pd.DataFrame()\\n    vif[\\\"feature\\\"] = predictors.columns\\n\\n    # calculating VIF for each feature\\n    vif[\\\"VIF\\\"] = [\\n        variance_inflation_factor(predictors.values, i)\\n        for i in range(len(predictors.columns))\\n    ]\\n    return vif\";\n",
       "                var nbb_formatted_code = \"# Define a function to check and display VIF of each independent variable\\ndef checking_vif(predictors):\\n    \\\"\\\"\\\"\\n    Takes input dependent variables predictors and returns\\n    a dataframe of variable name and VIF\\n    \\\"\\\"\\\"\\n    vif = pd.DataFrame()\\n    vif[\\\"feature\\\"] = predictors.columns\\n\\n    # calculating VIF for each feature\\n    vif[\\\"VIF\\\"] = [\\n        variance_inflation_factor(predictors.values, i)\\n        for i in range(len(predictors.columns))\\n    ]\\n    return vif\";\n",
       "                var nbb_cells = Jupyter.notebook.get_cells();\n",
       "                for (var i = 0; i < nbb_cells.length; ++i) {\n",
       "                    if (nbb_cells[i].input_prompt_number == nbb_cell_id) {\n",
       "                        if (nbb_cells[i].get_text() == nbb_unformatted_code) {\n",
       "                             nbb_cells[i].set_text(nbb_formatted_code);\n",
       "                        }\n",
       "                        break;\n",
       "                    }\n",
       "                }\n",
       "            }, 500);\n",
       "            "
      ],
      "text/plain": [
       "<IPython.core.display.Javascript object>"
      ]
     },
     "metadata": {},
     "output_type": "display_data"
    }
   ],
   "source": [
    "# Define a function to check and display VIF of each independent variable\n",
    "def checking_vif(predictors):\n",
    "    \"\"\"\n",
    "    Takes input dependent variables predictors and returns\n",
    "    a dataframe of variable name and VIF\n",
    "    \"\"\"\n",
    "    vif = pd.DataFrame()\n",
    "    vif[\"feature\"] = predictors.columns\n",
    "\n",
    "    # calculating VIF for each feature\n",
    "    vif[\"VIF\"] = [\n",
    "        variance_inflation_factor(predictors.values, i)\n",
    "        for i in range(len(predictors.columns))\n",
    "    ]\n",
    "    return vif"
   ]
  },
  {
   "cell_type": "markdown",
   "id": "00f6e35b",
   "metadata": {},
   "source": [
    "#### VIF"
   ]
  },
  {
   "cell_type": "code",
   "execution_count": 21,
   "id": "5591c46e",
   "metadata": {},
   "outputs": [
    {
     "data": {
      "text/html": [
       "<div>\n",
       "<style scoped>\n",
       "    .dataframe tbody tr th:only-of-type {\n",
       "        vertical-align: middle;\n",
       "    }\n",
       "\n",
       "    .dataframe tbody tr th {\n",
       "        vertical-align: top;\n",
       "    }\n",
       "\n",
       "    .dataframe thead th {\n",
       "        text-align: right;\n",
       "    }\n",
       "</style>\n",
       "<table border=\"1\" class=\"dataframe\">\n",
       "  <thead>\n",
       "    <tr style=\"text-align: right;\">\n",
       "      <th></th>\n",
       "      <th>feature</th>\n",
       "      <th>VIF</th>\n",
       "    </tr>\n",
       "  </thead>\n",
       "  <tbody>\n",
       "    <tr>\n",
       "      <th>0</th>\n",
       "      <td>const</td>\n",
       "      <td>388.159785</td>\n",
       "    </tr>\n",
       "    <tr>\n",
       "      <th>18</th>\n",
       "      <td>prior_region_No Prior Region</td>\n",
       "      <td>16.899416</td>\n",
       "    </tr>\n",
       "    <tr>\n",
       "      <th>15</th>\n",
       "      <td>prior_region_Europe</td>\n",
       "      <td>10.310942</td>\n",
       "    </tr>\n",
       "    <tr>\n",
       "      <th>8</th>\n",
       "      <td>region_North America</td>\n",
       "      <td>7.823522</td>\n",
       "    </tr>\n",
       "    <tr>\n",
       "      <th>24</th>\n",
       "      <td>known_for_arts</td>\n",
       "      <td>7.517176</td>\n",
       "    </tr>\n",
       "    <tr>\n",
       "      <th>5</th>\n",
       "      <td>region_Europe</td>\n",
       "      <td>7.118230</td>\n",
       "    </tr>\n",
       "    <tr>\n",
       "      <th>32</th>\n",
       "      <td>known_for_sports</td>\n",
       "      <td>5.438917</td>\n",
       "    </tr>\n",
       "    <tr>\n",
       "      <th>28</th>\n",
       "      <td>known_for_politics_govt_law</td>\n",
       "      <td>5.012830</td>\n",
       "    </tr>\n",
       "    <tr>\n",
       "      <th>34</th>\n",
       "      <td>known_for_two</td>\n",
       "      <td>4.467234</td>\n",
       "    </tr>\n",
       "    <tr>\n",
       "      <th>3</th>\n",
       "      <td>region_Asia</td>\n",
       "      <td>3.185039</td>\n",
       "    </tr>\n",
       "    <tr>\n",
       "      <th>19</th>\n",
       "      <td>prior_region_North America</td>\n",
       "      <td>2.773539</td>\n",
       "    </tr>\n",
       "    <tr>\n",
       "      <th>29</th>\n",
       "      <td>known_for_sciences</td>\n",
       "      <td>2.687397</td>\n",
       "    </tr>\n",
       "    <tr>\n",
       "      <th>13</th>\n",
       "      <td>prior_region_Asia</td>\n",
       "      <td>2.404713</td>\n",
       "    </tr>\n",
       "    <tr>\n",
       "      <th>9</th>\n",
       "      <td>region_Oceania</td>\n",
       "      <td>2.310182</td>\n",
       "    </tr>\n",
       "    <tr>\n",
       "      <th>21</th>\n",
       "      <td>prior_region_Russian Federation</td>\n",
       "      <td>2.190901</td>\n",
       "    </tr>\n",
       "    <tr>\n",
       "      <th>27</th>\n",
       "      <td>known_for_law_enf_military_operator</td>\n",
       "      <td>1.897422</td>\n",
       "    </tr>\n",
       "    <tr>\n",
       "      <th>16</th>\n",
       "      <td>prior_region_Mid-Cent America/Caribbean</td>\n",
       "      <td>1.832937</td>\n",
       "    </tr>\n",
       "    <tr>\n",
       "      <th>17</th>\n",
       "      <td>prior_region_Middle East</td>\n",
       "      <td>1.727895</td>\n",
       "    </tr>\n",
       "    <tr>\n",
       "      <th>7</th>\n",
       "      <td>region_Middle East</td>\n",
       "      <td>1.726558</td>\n",
       "    </tr>\n",
       "    <tr>\n",
       "      <th>11</th>\n",
       "      <td>region_South America</td>\n",
       "      <td>1.664717</td>\n",
       "    </tr>\n",
       "    <tr>\n",
       "      <th>31</th>\n",
       "      <td>known_for_spiritual</td>\n",
       "      <td>1.639156</td>\n",
       "    </tr>\n",
       "    <tr>\n",
       "      <th>20</th>\n",
       "      <td>prior_region_Oceania</td>\n",
       "      <td>1.562070</td>\n",
       "    </tr>\n",
       "    <tr>\n",
       "      <th>6</th>\n",
       "      <td>region_Mid-Cent America/Caribbean</td>\n",
       "      <td>1.551452</td>\n",
       "    </tr>\n",
       "    <tr>\n",
       "      <th>10</th>\n",
       "      <td>region_Russian Federation</td>\n",
       "      <td>1.509496</td>\n",
       "    </tr>\n",
       "    <tr>\n",
       "      <th>25</th>\n",
       "      <td>known_for_business_farming</td>\n",
       "      <td>1.489454</td>\n",
       "    </tr>\n",
       "    <tr>\n",
       "      <th>12</th>\n",
       "      <td>region_South East Asia</td>\n",
       "      <td>1.466079</td>\n",
       "    </tr>\n",
       "    <tr>\n",
       "      <th>22</th>\n",
       "      <td>prior_region_South America</td>\n",
       "      <td>1.449916</td>\n",
       "    </tr>\n",
       "    <tr>\n",
       "      <th>33</th>\n",
       "      <td>known_for_three_to_five</td>\n",
       "      <td>1.358097</td>\n",
       "    </tr>\n",
       "    <tr>\n",
       "      <th>26</th>\n",
       "      <td>known_for_crime</td>\n",
       "      <td>1.244551</td>\n",
       "    </tr>\n",
       "    <tr>\n",
       "      <th>23</th>\n",
       "      <td>prior_region_South East Asia</td>\n",
       "      <td>1.239653</td>\n",
       "    </tr>\n",
       "    <tr>\n",
       "      <th>30</th>\n",
       "      <td>known_for_social</td>\n",
       "      <td>1.057799</td>\n",
       "    </tr>\n",
       "    <tr>\n",
       "      <th>1</th>\n",
       "      <td>recip_num_references</td>\n",
       "      <td>1.042339</td>\n",
       "    </tr>\n",
       "    <tr>\n",
       "      <th>4</th>\n",
       "      <td>region_Central Asia</td>\n",
       "      <td>1.041854</td>\n",
       "    </tr>\n",
       "    <tr>\n",
       "      <th>14</th>\n",
       "      <td>prior_region_Central Asia</td>\n",
       "      <td>1.039808</td>\n",
       "    </tr>\n",
       "    <tr>\n",
       "      <th>2</th>\n",
       "      <td>years</td>\n",
       "      <td>1.023041</td>\n",
       "    </tr>\n",
       "  </tbody>\n",
       "</table>\n",
       "</div>"
      ],
      "text/plain": [
       "                                    feature         VIF\n",
       "0                                     const  388.159785\n",
       "18             prior_region_No Prior Region   16.899416\n",
       "15                      prior_region_Europe   10.310942\n",
       "8                      region_North America    7.823522\n",
       "24                           known_for_arts    7.517176\n",
       "5                             region_Europe    7.118230\n",
       "32                         known_for_sports    5.438917\n",
       "28              known_for_politics_govt_law    5.012830\n",
       "34                            known_for_two    4.467234\n",
       "3                               region_Asia    3.185039\n",
       "19               prior_region_North America    2.773539\n",
       "29                       known_for_sciences    2.687397\n",
       "13                        prior_region_Asia    2.404713\n",
       "9                            region_Oceania    2.310182\n",
       "21          prior_region_Russian Federation    2.190901\n",
       "27      known_for_law_enf_military_operator    1.897422\n",
       "16  prior_region_Mid-Cent America/Caribbean    1.832937\n",
       "17                 prior_region_Middle East    1.727895\n",
       "7                        region_Middle East    1.726558\n",
       "11                     region_South America    1.664717\n",
       "31                      known_for_spiritual    1.639156\n",
       "20                     prior_region_Oceania    1.562070\n",
       "6         region_Mid-Cent America/Caribbean    1.551452\n",
       "10                region_Russian Federation    1.509496\n",
       "25               known_for_business_farming    1.489454\n",
       "12                   region_South East Asia    1.466079\n",
       "22               prior_region_South America    1.449916\n",
       "33                  known_for_three_to_five    1.358097\n",
       "26                          known_for_crime    1.244551\n",
       "23             prior_region_South East Asia    1.239653\n",
       "30                         known_for_social    1.057799\n",
       "1                      recip_num_references    1.042339\n",
       "4                       region_Central Asia    1.041854\n",
       "14                prior_region_Central Asia    1.039808\n",
       "2                                     years    1.023041"
      ]
     },
     "execution_count": 21,
     "metadata": {},
     "output_type": "execute_result"
    },
    {
     "data": {
      "application/javascript": [
       "\n",
       "            setTimeout(function() {\n",
       "                var nbb_cell_id = 21;\n",
       "                var nbb_unformatted_code = \"# Checking vif\\nvif = checking_vif(X_train).sort_values(by=\\\"VIF\\\", ascending=False)\\nvif\";\n",
       "                var nbb_formatted_code = \"# Checking vif\\nvif = checking_vif(X_train).sort_values(by=\\\"VIF\\\", ascending=False)\\nvif\";\n",
       "                var nbb_cells = Jupyter.notebook.get_cells();\n",
       "                for (var i = 0; i < nbb_cells.length; ++i) {\n",
       "                    if (nbb_cells[i].input_prompt_number == nbb_cell_id) {\n",
       "                        if (nbb_cells[i].get_text() == nbb_unformatted_code) {\n",
       "                             nbb_cells[i].set_text(nbb_formatted_code);\n",
       "                        }\n",
       "                        break;\n",
       "                    }\n",
       "                }\n",
       "            }, 500);\n",
       "            "
      ],
      "text/plain": [
       "<IPython.core.display.Javascript object>"
      ]
     },
     "metadata": {},
     "output_type": "display_data"
    }
   ],
   "source": [
    "# Checking vif\n",
    "vif = checking_vif(X_train).sort_values(by=\"VIF\", ascending=False)\n",
    "vif"
   ]
  },
  {
   "cell_type": "markdown",
   "id": "e3f188c5",
   "metadata": {},
   "source": [
    "#### Observations:\n",
    "- The majority of predictors have low VIF (< 5), which is good.\n",
    "- We will accept the higher VIF value belonging to the constant as the constant is necessary for the residuals to have zero mean, avoiding bias.\n",
    "- We will proceed by checking the impact on performance of dropping each of the high VIF columns, and drop the column with the least impact on performance, then re-evaluate VIF.  \n",
    "- This process is iterative until we have all low VIF columns."
   ]
  },
  {
   "cell_type": "markdown",
   "id": "3a3ca177",
   "metadata": {},
   "source": [
    "#### Function to Treat Multicollinearity"
   ]
  },
  {
   "cell_type": "code",
   "execution_count": 22,
   "id": "8b38a46a",
   "metadata": {},
   "outputs": [
    {
     "data": {
      "application/javascript": [
       "\n",
       "            setTimeout(function() {\n",
       "                var nbb_cell_id = 22;\n",
       "                var nbb_unformatted_code = \"def treating_multicollinearity(predictors, target, high_vif_columns):\\n    \\\"\\\"\\\"\\n    Checking the effect of dropping the columns showing high multicollinearity\\n    on model performance (adj. R-squared and RMSE)\\n\\n    predictors: independent variables\\n    target: dependent variable\\n    high_vif_columns: columns having high VIF\\n    \\\"\\\"\\\"\\n    # empty lists to store adj. R-squared and RMSE values\\n    adj_r2 = []\\n    rmse = []\\n\\n    # build ols models by dropping one of the high VIF columns at a time\\n    # store the adjusted R-squared and RMSE in the lists defined previously\\n    for cols in high_vif_columns:\\n        # defining the new train set\\n        train = predictors.loc[:, ~predictors.columns.str.startswith(cols)]\\n\\n        # create the model\\n        olsmodel = sm.OLS(target, train).fit()\\n\\n        # adding adj. R-squared and RMSE to the lists\\n        adj_r2.append(olsmodel.rsquared_adj)\\n        rmse.append(np.sqrt(olsmodel.mse_resid))\\n\\n    # creating a dataframe for the results\\n    temp = pd.DataFrame(\\n        {\\n            \\\"col\\\": high_vif_columns,\\n            \\\"Adj. R-squared after_dropping col\\\": adj_r2,\\n            \\\"RMSE after dropping col\\\": rmse,\\n        }\\n    ).sort_values(by=\\\"Adj. R-squared after_dropping col\\\", ascending=False)\\n    temp.reset_index(drop=True, inplace=True)\\n\\n    return temp\";\n",
       "                var nbb_formatted_code = \"def treating_multicollinearity(predictors, target, high_vif_columns):\\n    \\\"\\\"\\\"\\n    Checking the effect of dropping the columns showing high multicollinearity\\n    on model performance (adj. R-squared and RMSE)\\n\\n    predictors: independent variables\\n    target: dependent variable\\n    high_vif_columns: columns having high VIF\\n    \\\"\\\"\\\"\\n    # empty lists to store adj. R-squared and RMSE values\\n    adj_r2 = []\\n    rmse = []\\n\\n    # build ols models by dropping one of the high VIF columns at a time\\n    # store the adjusted R-squared and RMSE in the lists defined previously\\n    for cols in high_vif_columns:\\n        # defining the new train set\\n        train = predictors.loc[:, ~predictors.columns.str.startswith(cols)]\\n\\n        # create the model\\n        olsmodel = sm.OLS(target, train).fit()\\n\\n        # adding adj. R-squared and RMSE to the lists\\n        adj_r2.append(olsmodel.rsquared_adj)\\n        rmse.append(np.sqrt(olsmodel.mse_resid))\\n\\n    # creating a dataframe for the results\\n    temp = pd.DataFrame(\\n        {\\n            \\\"col\\\": high_vif_columns,\\n            \\\"Adj. R-squared after_dropping col\\\": adj_r2,\\n            \\\"RMSE after dropping col\\\": rmse,\\n        }\\n    ).sort_values(by=\\\"Adj. R-squared after_dropping col\\\", ascending=False)\\n    temp.reset_index(drop=True, inplace=True)\\n\\n    return temp\";\n",
       "                var nbb_cells = Jupyter.notebook.get_cells();\n",
       "                for (var i = 0; i < nbb_cells.length; ++i) {\n",
       "                    if (nbb_cells[i].input_prompt_number == nbb_cell_id) {\n",
       "                        if (nbb_cells[i].get_text() == nbb_unformatted_code) {\n",
       "                             nbb_cells[i].set_text(nbb_formatted_code);\n",
       "                        }\n",
       "                        break;\n",
       "                    }\n",
       "                }\n",
       "            }, 500);\n",
       "            "
      ],
      "text/plain": [
       "<IPython.core.display.Javascript object>"
      ]
     },
     "metadata": {},
     "output_type": "display_data"
    }
   ],
   "source": [
    "def treating_multicollinearity(predictors, target, high_vif_columns):\n",
    "    \"\"\"\n",
    "    Checking the effect of dropping the columns showing high multicollinearity\n",
    "    on model performance (adj. R-squared and RMSE)\n",
    "\n",
    "    predictors: independent variables\n",
    "    target: dependent variable\n",
    "    high_vif_columns: columns having high VIF\n",
    "    \"\"\"\n",
    "    # empty lists to store adj. R-squared and RMSE values\n",
    "    adj_r2 = []\n",
    "    rmse = []\n",
    "\n",
    "    # build ols models by dropping one of the high VIF columns at a time\n",
    "    # store the adjusted R-squared and RMSE in the lists defined previously\n",
    "    for cols in high_vif_columns:\n",
    "        # defining the new train set\n",
    "        train = predictors.loc[:, ~predictors.columns.str.startswith(cols)]\n",
    "\n",
    "        # create the model\n",
    "        olsmodel = sm.OLS(target, train).fit()\n",
    "\n",
    "        # adding adj. R-squared and RMSE to the lists\n",
    "        adj_r2.append(olsmodel.rsquared_adj)\n",
    "        rmse.append(np.sqrt(olsmodel.mse_resid))\n",
    "\n",
    "    # creating a dataframe for the results\n",
    "    temp = pd.DataFrame(\n",
    "        {\n",
    "            \"col\": high_vif_columns,\n",
    "            \"Adj. R-squared after_dropping col\": adj_r2,\n",
    "            \"RMSE after dropping col\": rmse,\n",
    "        }\n",
    "    ).sort_values(by=\"Adj. R-squared after_dropping col\", ascending=False)\n",
    "    temp.reset_index(drop=True, inplace=True)\n",
    "\n",
    "    return temp"
   ]
  },
  {
   "cell_type": "markdown",
   "id": "fe878568",
   "metadata": {},
   "source": [
    "#### Checking Impact of Dropping Columns on Model Performance"
   ]
  },
  {
   "cell_type": "code",
   "execution_count": 23,
   "id": "fa9147ab",
   "metadata": {},
   "outputs": [
    {
     "data": {
      "text/html": [
       "<div>\n",
       "<style scoped>\n",
       "    .dataframe tbody tr th:only-of-type {\n",
       "        vertical-align: middle;\n",
       "    }\n",
       "\n",
       "    .dataframe tbody tr th {\n",
       "        vertical-align: top;\n",
       "    }\n",
       "\n",
       "    .dataframe thead th {\n",
       "        text-align: right;\n",
       "    }\n",
       "</style>\n",
       "<table border=\"1\" class=\"dataframe\">\n",
       "  <thead>\n",
       "    <tr style=\"text-align: right;\">\n",
       "      <th></th>\n",
       "      <th>col</th>\n",
       "      <th>Adj. R-squared after_dropping col</th>\n",
       "      <th>RMSE after dropping col</th>\n",
       "    </tr>\n",
       "  </thead>\n",
       "  <tbody>\n",
       "    <tr>\n",
       "      <th>0</th>\n",
       "      <td>prior_region_No Prior Region</td>\n",
       "      <td>0.095026</td>\n",
       "      <td>15.109507</td>\n",
       "    </tr>\n",
       "    <tr>\n",
       "      <th>1</th>\n",
       "      <td>known_for_politics_govt_law</td>\n",
       "      <td>0.094436</td>\n",
       "      <td>15.114437</td>\n",
       "    </tr>\n",
       "    <tr>\n",
       "      <th>2</th>\n",
       "      <td>prior_region_Europe</td>\n",
       "      <td>0.094418</td>\n",
       "      <td>15.114582</td>\n",
       "    </tr>\n",
       "    <tr>\n",
       "      <th>3</th>\n",
       "      <td>known_for_arts</td>\n",
       "      <td>0.091543</td>\n",
       "      <td>15.138561</td>\n",
       "    </tr>\n",
       "    <tr>\n",
       "      <th>4</th>\n",
       "      <td>known_for_sports</td>\n",
       "      <td>0.085198</td>\n",
       "      <td>15.191333</td>\n",
       "    </tr>\n",
       "    <tr>\n",
       "      <th>5</th>\n",
       "      <td>region_Europe</td>\n",
       "      <td>0.083465</td>\n",
       "      <td>15.205718</td>\n",
       "    </tr>\n",
       "    <tr>\n",
       "      <th>6</th>\n",
       "      <td>region_North America</td>\n",
       "      <td>0.082156</td>\n",
       "      <td>15.216568</td>\n",
       "    </tr>\n",
       "  </tbody>\n",
       "</table>\n",
       "</div>"
      ],
      "text/plain": [
       "                            col  Adj. R-squared after_dropping col  \\\n",
       "0  prior_region_No Prior Region                           0.095026   \n",
       "1   known_for_politics_govt_law                           0.094436   \n",
       "2           prior_region_Europe                           0.094418   \n",
       "3                known_for_arts                           0.091543   \n",
       "4              known_for_sports                           0.085198   \n",
       "5                 region_Europe                           0.083465   \n",
       "6          region_North America                           0.082156   \n",
       "\n",
       "   RMSE after dropping col  \n",
       "0                15.109507  \n",
       "1                15.114437  \n",
       "2                15.114582  \n",
       "3                15.138561  \n",
       "4                15.191333  \n",
       "5                15.205718  \n",
       "6                15.216568  "
      ]
     },
     "execution_count": 23,
     "metadata": {},
     "output_type": "execute_result"
    },
    {
     "data": {
      "application/javascript": [
       "\n",
       "            setTimeout(function() {\n",
       "                var nbb_cell_id = 23;\n",
       "                var nbb_unformatted_code = \"# Checking impact of dropping columns\\ncol_list = vif[vif[\\\"VIF\\\"] >= 5][\\\"feature\\\"].tolist()\\ncol_list.remove(\\\"const\\\")\\n\\nresults = treating_multicollinearity(X_train, y_train, col_list)\\nresults\";\n",
       "                var nbb_formatted_code = \"# Checking impact of dropping columns\\ncol_list = vif[vif[\\\"VIF\\\"] >= 5][\\\"feature\\\"].tolist()\\ncol_list.remove(\\\"const\\\")\\n\\nresults = treating_multicollinearity(X_train, y_train, col_list)\\nresults\";\n",
       "                var nbb_cells = Jupyter.notebook.get_cells();\n",
       "                for (var i = 0; i < nbb_cells.length; ++i) {\n",
       "                    if (nbb_cells[i].input_prompt_number == nbb_cell_id) {\n",
       "                        if (nbb_cells[i].get_text() == nbb_unformatted_code) {\n",
       "                             nbb_cells[i].set_text(nbb_formatted_code);\n",
       "                        }\n",
       "                        break;\n",
       "                    }\n",
       "                }\n",
       "            }, 500);\n",
       "            "
      ],
      "text/plain": [
       "<IPython.core.display.Javascript object>"
      ]
     },
     "metadata": {},
     "output_type": "display_data"
    }
   ],
   "source": [
    "# Checking impact of dropping columns\n",
    "col_list = vif[vif[\"VIF\"] >= 5][\"feature\"].tolist()\n",
    "col_list.remove(\"const\")\n",
    "\n",
    "results = treating_multicollinearity(X_train, y_train, col_list)\n",
    "results"
   ]
  },
  {
   "cell_type": "markdown",
   "id": "fb376b60",
   "metadata": {},
   "source": [
    "#### Observations:\n",
    "- Of the high VIF columns, `prior_region_No Prior Region` has the least impact on performance when dropped, so we will drop it."
   ]
  },
  {
   "cell_type": "markdown",
   "id": "9a9595fb",
   "metadata": {},
   "source": [
    "#### Dropping `prior_region_No Prior Region`"
   ]
  },
  {
   "cell_type": "code",
   "execution_count": 24,
   "id": "eecac674",
   "metadata": {},
   "outputs": [
    {
     "data": {
      "text/html": [
       "<div>\n",
       "<style scoped>\n",
       "    .dataframe tbody tr th:only-of-type {\n",
       "        vertical-align: middle;\n",
       "    }\n",
       "\n",
       "    .dataframe tbody tr th {\n",
       "        vertical-align: top;\n",
       "    }\n",
       "\n",
       "    .dataframe thead th {\n",
       "        text-align: right;\n",
       "    }\n",
       "</style>\n",
       "<table border=\"1\" class=\"dataframe\">\n",
       "  <thead>\n",
       "    <tr style=\"text-align: right;\">\n",
       "      <th></th>\n",
       "      <th>feature</th>\n",
       "      <th>VIF</th>\n",
       "    </tr>\n",
       "  </thead>\n",
       "  <tbody>\n",
       "    <tr>\n",
       "      <th>0</th>\n",
       "      <td>const</td>\n",
       "      <td>70.554213</td>\n",
       "    </tr>\n",
       "    <tr>\n",
       "      <th>8</th>\n",
       "      <td>region_North America</td>\n",
       "      <td>7.820644</td>\n",
       "    </tr>\n",
       "    <tr>\n",
       "      <th>23</th>\n",
       "      <td>known_for_arts</td>\n",
       "      <td>7.516880</td>\n",
       "    </tr>\n",
       "    <tr>\n",
       "      <th>5</th>\n",
       "      <td>region_Europe</td>\n",
       "      <td>7.117233</td>\n",
       "    </tr>\n",
       "    <tr>\n",
       "      <th>31</th>\n",
       "      <td>known_for_sports</td>\n",
       "      <td>5.438910</td>\n",
       "    </tr>\n",
       "    <tr>\n",
       "      <th>27</th>\n",
       "      <td>known_for_politics_govt_law</td>\n",
       "      <td>5.012822</td>\n",
       "    </tr>\n",
       "    <tr>\n",
       "      <th>33</th>\n",
       "      <td>known_for_two</td>\n",
       "      <td>4.467184</td>\n",
       "    </tr>\n",
       "    <tr>\n",
       "      <th>3</th>\n",
       "      <td>region_Asia</td>\n",
       "      <td>3.183439</td>\n",
       "    </tr>\n",
       "    <tr>\n",
       "      <th>28</th>\n",
       "      <td>known_for_sciences</td>\n",
       "      <td>2.687217</td>\n",
       "    </tr>\n",
       "    <tr>\n",
       "      <th>9</th>\n",
       "      <td>region_Oceania</td>\n",
       "      <td>2.309987</td>\n",
       "    </tr>\n",
       "    <tr>\n",
       "      <th>26</th>\n",
       "      <td>known_for_law_enf_military_operator</td>\n",
       "      <td>1.897416</td>\n",
       "    </tr>\n",
       "    <tr>\n",
       "      <th>7</th>\n",
       "      <td>region_Middle East</td>\n",
       "      <td>1.726476</td>\n",
       "    </tr>\n",
       "    <tr>\n",
       "      <th>11</th>\n",
       "      <td>region_South America</td>\n",
       "      <td>1.664233</td>\n",
       "    </tr>\n",
       "    <tr>\n",
       "      <th>30</th>\n",
       "      <td>known_for_spiritual</td>\n",
       "      <td>1.639155</td>\n",
       "    </tr>\n",
       "    <tr>\n",
       "      <th>6</th>\n",
       "      <td>region_Mid-Cent America/Caribbean</td>\n",
       "      <td>1.551302</td>\n",
       "    </tr>\n",
       "    <tr>\n",
       "      <th>10</th>\n",
       "      <td>region_Russian Federation</td>\n",
       "      <td>1.509157</td>\n",
       "    </tr>\n",
       "    <tr>\n",
       "      <th>24</th>\n",
       "      <td>known_for_business_farming</td>\n",
       "      <td>1.489435</td>\n",
       "    </tr>\n",
       "    <tr>\n",
       "      <th>12</th>\n",
       "      <td>region_South East Asia</td>\n",
       "      <td>1.465768</td>\n",
       "    </tr>\n",
       "    <tr>\n",
       "      <th>32</th>\n",
       "      <td>known_for_three_to_five</td>\n",
       "      <td>1.358097</td>\n",
       "    </tr>\n",
       "    <tr>\n",
       "      <th>25</th>\n",
       "      <td>known_for_crime</td>\n",
       "      <td>1.244546</td>\n",
       "    </tr>\n",
       "    <tr>\n",
       "      <th>29</th>\n",
       "      <td>known_for_social</td>\n",
       "      <td>1.057785</td>\n",
       "    </tr>\n",
       "    <tr>\n",
       "      <th>1</th>\n",
       "      <td>recip_num_references</td>\n",
       "      <td>1.042171</td>\n",
       "    </tr>\n",
       "    <tr>\n",
       "      <th>4</th>\n",
       "      <td>region_Central Asia</td>\n",
       "      <td>1.041829</td>\n",
       "    </tr>\n",
       "    <tr>\n",
       "      <th>20</th>\n",
       "      <td>prior_region_Russian Federation</td>\n",
       "      <td>1.041310</td>\n",
       "    </tr>\n",
       "    <tr>\n",
       "      <th>2</th>\n",
       "      <td>years</td>\n",
       "      <td>1.022980</td>\n",
       "    </tr>\n",
       "    <tr>\n",
       "      <th>15</th>\n",
       "      <td>prior_region_Europe</td>\n",
       "      <td>1.014898</td>\n",
       "    </tr>\n",
       "    <tr>\n",
       "      <th>14</th>\n",
       "      <td>prior_region_Central Asia</td>\n",
       "      <td>1.006732</td>\n",
       "    </tr>\n",
       "    <tr>\n",
       "      <th>13</th>\n",
       "      <td>prior_region_Asia</td>\n",
       "      <td>1.003938</td>\n",
       "    </tr>\n",
       "    <tr>\n",
       "      <th>17</th>\n",
       "      <td>prior_region_Middle East</td>\n",
       "      <td>1.003894</td>\n",
       "    </tr>\n",
       "    <tr>\n",
       "      <th>19</th>\n",
       "      <td>prior_region_Oceania</td>\n",
       "      <td>1.003400</td>\n",
       "    </tr>\n",
       "    <tr>\n",
       "      <th>18</th>\n",
       "      <td>prior_region_North America</td>\n",
       "      <td>1.003371</td>\n",
       "    </tr>\n",
       "    <tr>\n",
       "      <th>16</th>\n",
       "      <td>prior_region_Mid-Cent America/Caribbean</td>\n",
       "      <td>1.002143</td>\n",
       "    </tr>\n",
       "    <tr>\n",
       "      <th>21</th>\n",
       "      <td>prior_region_South America</td>\n",
       "      <td>1.001454</td>\n",
       "    </tr>\n",
       "    <tr>\n",
       "      <th>22</th>\n",
       "      <td>prior_region_South East Asia</td>\n",
       "      <td>1.000630</td>\n",
       "    </tr>\n",
       "  </tbody>\n",
       "</table>\n",
       "</div>"
      ],
      "text/plain": [
       "                                    feature        VIF\n",
       "0                                     const  70.554213\n",
       "8                      region_North America   7.820644\n",
       "23                           known_for_arts   7.516880\n",
       "5                             region_Europe   7.117233\n",
       "31                         known_for_sports   5.438910\n",
       "27              known_for_politics_govt_law   5.012822\n",
       "33                            known_for_two   4.467184\n",
       "3                               region_Asia   3.183439\n",
       "28                       known_for_sciences   2.687217\n",
       "9                            region_Oceania   2.309987\n",
       "26      known_for_law_enf_military_operator   1.897416\n",
       "7                        region_Middle East   1.726476\n",
       "11                     region_South America   1.664233\n",
       "30                      known_for_spiritual   1.639155\n",
       "6         region_Mid-Cent America/Caribbean   1.551302\n",
       "10                region_Russian Federation   1.509157\n",
       "24               known_for_business_farming   1.489435\n",
       "12                   region_South East Asia   1.465768\n",
       "32                  known_for_three_to_five   1.358097\n",
       "25                          known_for_crime   1.244546\n",
       "29                         known_for_social   1.057785\n",
       "1                      recip_num_references   1.042171\n",
       "4                       region_Central Asia   1.041829\n",
       "20          prior_region_Russian Federation   1.041310\n",
       "2                                     years   1.022980\n",
       "15                      prior_region_Europe   1.014898\n",
       "14                prior_region_Central Asia   1.006732\n",
       "13                        prior_region_Asia   1.003938\n",
       "17                 prior_region_Middle East   1.003894\n",
       "19                     prior_region_Oceania   1.003400\n",
       "18               prior_region_North America   1.003371\n",
       "16  prior_region_Mid-Cent America/Caribbean   1.002143\n",
       "21               prior_region_South America   1.001454\n",
       "22             prior_region_South East Asia   1.000630"
      ]
     },
     "execution_count": 24,
     "metadata": {},
     "output_type": "execute_result"
    },
    {
     "data": {
      "application/javascript": [
       "\n",
       "            setTimeout(function() {\n",
       "                var nbb_cell_id = 24;\n",
       "                var nbb_unformatted_code = \"# Dropping prior_region_No Prior Region column\\ncol_to_drop = \\\"prior_region_No Prior Region\\\"\\nX_train = X_train.drop(col_to_drop, axis=1)\\nX_test = X_test.drop(col_to_drop, axis=1)\\n\\n# Recheck VIF\\nvif = checking_vif(X_train).sort_values(by=\\\"VIF\\\", ascending=False)\\nvif\";\n",
       "                var nbb_formatted_code = \"# Dropping prior_region_No Prior Region column\\ncol_to_drop = \\\"prior_region_No Prior Region\\\"\\nX_train = X_train.drop(col_to_drop, axis=1)\\nX_test = X_test.drop(col_to_drop, axis=1)\\n\\n# Recheck VIF\\nvif = checking_vif(X_train).sort_values(by=\\\"VIF\\\", ascending=False)\\nvif\";\n",
       "                var nbb_cells = Jupyter.notebook.get_cells();\n",
       "                for (var i = 0; i < nbb_cells.length; ++i) {\n",
       "                    if (nbb_cells[i].input_prompt_number == nbb_cell_id) {\n",
       "                        if (nbb_cells[i].get_text() == nbb_unformatted_code) {\n",
       "                             nbb_cells[i].set_text(nbb_formatted_code);\n",
       "                        }\n",
       "                        break;\n",
       "                    }\n",
       "                }\n",
       "            }, 500);\n",
       "            "
      ],
      "text/plain": [
       "<IPython.core.display.Javascript object>"
      ]
     },
     "metadata": {},
     "output_type": "display_data"
    }
   ],
   "source": [
    "# Dropping prior_region_No Prior Region column\n",
    "col_to_drop = \"prior_region_No Prior Region\"\n",
    "X_train = X_train.drop(col_to_drop, axis=1)\n",
    "X_test = X_test.drop(col_to_drop, axis=1)\n",
    "\n",
    "# Recheck VIF\n",
    "vif = checking_vif(X_train).sort_values(by=\"VIF\", ascending=False)\n",
    "vif"
   ]
  },
  {
   "cell_type": "markdown",
   "id": "fffa51dd",
   "metadata": {},
   "source": [
    "#### Checking Impact of Dropping Columns on Model Performance"
   ]
  },
  {
   "cell_type": "code",
   "execution_count": 25,
   "id": "8a64dda5",
   "metadata": {},
   "outputs": [
    {
     "data": {
      "text/html": [
       "<div>\n",
       "<style scoped>\n",
       "    .dataframe tbody tr th:only-of-type {\n",
       "        vertical-align: middle;\n",
       "    }\n",
       "\n",
       "    .dataframe tbody tr th {\n",
       "        vertical-align: top;\n",
       "    }\n",
       "\n",
       "    .dataframe thead th {\n",
       "        text-align: right;\n",
       "    }\n",
       "</style>\n",
       "<table border=\"1\" class=\"dataframe\">\n",
       "  <thead>\n",
       "    <tr style=\"text-align: right;\">\n",
       "      <th></th>\n",
       "      <th>col</th>\n",
       "      <th>Adj. R-squared after_dropping col</th>\n",
       "      <th>RMSE after dropping col</th>\n",
       "    </tr>\n",
       "  </thead>\n",
       "  <tbody>\n",
       "    <tr>\n",
       "      <th>0</th>\n",
       "      <td>known_for_politics_govt_law</td>\n",
       "      <td>0.094343</td>\n",
       "      <td>15.115213</td>\n",
       "    </tr>\n",
       "    <tr>\n",
       "      <th>1</th>\n",
       "      <td>known_for_arts</td>\n",
       "      <td>0.091443</td>\n",
       "      <td>15.139394</td>\n",
       "    </tr>\n",
       "    <tr>\n",
       "      <th>2</th>\n",
       "      <td>known_for_sports</td>\n",
       "      <td>0.085108</td>\n",
       "      <td>15.192078</td>\n",
       "    </tr>\n",
       "    <tr>\n",
       "      <th>3</th>\n",
       "      <td>region_Europe</td>\n",
       "      <td>0.083345</td>\n",
       "      <td>15.206712</td>\n",
       "    </tr>\n",
       "    <tr>\n",
       "      <th>4</th>\n",
       "      <td>region_North America</td>\n",
       "      <td>0.082015</td>\n",
       "      <td>15.217740</td>\n",
       "    </tr>\n",
       "  </tbody>\n",
       "</table>\n",
       "</div>"
      ],
      "text/plain": [
       "                           col  Adj. R-squared after_dropping col  \\\n",
       "0  known_for_politics_govt_law                           0.094343   \n",
       "1               known_for_arts                           0.091443   \n",
       "2             known_for_sports                           0.085108   \n",
       "3                region_Europe                           0.083345   \n",
       "4         region_North America                           0.082015   \n",
       "\n",
       "   RMSE after dropping col  \n",
       "0                15.115213  \n",
       "1                15.139394  \n",
       "2                15.192078  \n",
       "3                15.206712  \n",
       "4                15.217740  "
      ]
     },
     "execution_count": 25,
     "metadata": {},
     "output_type": "execute_result"
    },
    {
     "data": {
      "application/javascript": [
       "\n",
       "            setTimeout(function() {\n",
       "                var nbb_cell_id = 25;\n",
       "                var nbb_unformatted_code = \"# Checking impact of dropping columns\\ncol_list = vif[vif[\\\"VIF\\\"] >= 5][\\\"feature\\\"].tolist()\\ncol_list.remove(\\\"const\\\")\\n\\nresults = treating_multicollinearity(X_train, y_train, col_list)\\nresults\";\n",
       "                var nbb_formatted_code = \"# Checking impact of dropping columns\\ncol_list = vif[vif[\\\"VIF\\\"] >= 5][\\\"feature\\\"].tolist()\\ncol_list.remove(\\\"const\\\")\\n\\nresults = treating_multicollinearity(X_train, y_train, col_list)\\nresults\";\n",
       "                var nbb_cells = Jupyter.notebook.get_cells();\n",
       "                for (var i = 0; i < nbb_cells.length; ++i) {\n",
       "                    if (nbb_cells[i].input_prompt_number == nbb_cell_id) {\n",
       "                        if (nbb_cells[i].get_text() == nbb_unformatted_code) {\n",
       "                             nbb_cells[i].set_text(nbb_formatted_code);\n",
       "                        }\n",
       "                        break;\n",
       "                    }\n",
       "                }\n",
       "            }, 500);\n",
       "            "
      ],
      "text/plain": [
       "<IPython.core.display.Javascript object>"
      ]
     },
     "metadata": {},
     "output_type": "display_data"
    }
   ],
   "source": [
    "# Checking impact of dropping columns\n",
    "col_list = vif[vif[\"VIF\"] >= 5][\"feature\"].tolist()\n",
    "col_list.remove(\"const\")\n",
    "\n",
    "results = treating_multicollinearity(X_train, y_train, col_list)\n",
    "results"
   ]
  },
  {
   "cell_type": "markdown",
   "id": "c688bba7",
   "metadata": {},
   "source": [
    "#### Observations:\n",
    "- Of the remaining high VIF columns, `known_for_politics_govt_law` has the least impact on performance when dropped, so we will drop it."
   ]
  },
  {
   "cell_type": "markdown",
   "id": "e50e79ee",
   "metadata": {},
   "source": [
    "#### Dropping `known_for_politics_govt_law`"
   ]
  },
  {
   "cell_type": "code",
   "execution_count": 26,
   "id": "764cafcf",
   "metadata": {},
   "outputs": [
    {
     "data": {
      "text/html": [
       "<div>\n",
       "<style scoped>\n",
       "    .dataframe tbody tr th:only-of-type {\n",
       "        vertical-align: middle;\n",
       "    }\n",
       "\n",
       "    .dataframe tbody tr th {\n",
       "        vertical-align: top;\n",
       "    }\n",
       "\n",
       "    .dataframe thead th {\n",
       "        text-align: right;\n",
       "    }\n",
       "</style>\n",
       "<table border=\"1\" class=\"dataframe\">\n",
       "  <thead>\n",
       "    <tr style=\"text-align: right;\">\n",
       "      <th></th>\n",
       "      <th>feature</th>\n",
       "      <th>VIF</th>\n",
       "    </tr>\n",
       "  </thead>\n",
       "  <tbody>\n",
       "    <tr>\n",
       "      <th>0</th>\n",
       "      <td>const</td>\n",
       "      <td>42.022686</td>\n",
       "    </tr>\n",
       "    <tr>\n",
       "      <th>8</th>\n",
       "      <td>region_North America</td>\n",
       "      <td>7.798003</td>\n",
       "    </tr>\n",
       "    <tr>\n",
       "      <th>5</th>\n",
       "      <td>region_Europe</td>\n",
       "      <td>7.086783</td>\n",
       "    </tr>\n",
       "    <tr>\n",
       "      <th>3</th>\n",
       "      <td>region_Asia</td>\n",
       "      <td>3.180452</td>\n",
       "    </tr>\n",
       "    <tr>\n",
       "      <th>9</th>\n",
       "      <td>region_Oceania</td>\n",
       "      <td>2.308154</td>\n",
       "    </tr>\n",
       "    <tr>\n",
       "      <th>23</th>\n",
       "      <td>known_for_arts</td>\n",
       "      <td>1.862710</td>\n",
       "    </tr>\n",
       "    <tr>\n",
       "      <th>7</th>\n",
       "      <td>region_Middle East</td>\n",
       "      <td>1.724744</td>\n",
       "    </tr>\n",
       "    <tr>\n",
       "      <th>11</th>\n",
       "      <td>region_South America</td>\n",
       "      <td>1.663567</td>\n",
       "    </tr>\n",
       "    <tr>\n",
       "      <th>30</th>\n",
       "      <td>known_for_sports</td>\n",
       "      <td>1.633636</td>\n",
       "    </tr>\n",
       "    <tr>\n",
       "      <th>6</th>\n",
       "      <td>region_Mid-Cent America/Caribbean</td>\n",
       "      <td>1.550907</td>\n",
       "    </tr>\n",
       "    <tr>\n",
       "      <th>10</th>\n",
       "      <td>region_Russian Federation</td>\n",
       "      <td>1.507298</td>\n",
       "    </tr>\n",
       "    <tr>\n",
       "      <th>32</th>\n",
       "      <td>known_for_two</td>\n",
       "      <td>1.490933</td>\n",
       "    </tr>\n",
       "    <tr>\n",
       "      <th>12</th>\n",
       "      <td>region_South East Asia</td>\n",
       "      <td>1.465765</td>\n",
       "    </tr>\n",
       "    <tr>\n",
       "      <th>27</th>\n",
       "      <td>known_for_sciences</td>\n",
       "      <td>1.258246</td>\n",
       "    </tr>\n",
       "    <tr>\n",
       "      <th>26</th>\n",
       "      <td>known_for_law_enf_military_operator</td>\n",
       "      <td>1.137821</td>\n",
       "    </tr>\n",
       "    <tr>\n",
       "      <th>29</th>\n",
       "      <td>known_for_spiritual</td>\n",
       "      <td>1.092458</td>\n",
       "    </tr>\n",
       "    <tr>\n",
       "      <th>24</th>\n",
       "      <td>known_for_business_farming</td>\n",
       "      <td>1.072415</td>\n",
       "    </tr>\n",
       "    <tr>\n",
       "      <th>31</th>\n",
       "      <td>known_for_three_to_five</td>\n",
       "      <td>1.054400</td>\n",
       "    </tr>\n",
       "    <tr>\n",
       "      <th>1</th>\n",
       "      <td>recip_num_references</td>\n",
       "      <td>1.042171</td>\n",
       "    </tr>\n",
       "    <tr>\n",
       "      <th>4</th>\n",
       "      <td>region_Central Asia</td>\n",
       "      <td>1.041784</td>\n",
       "    </tr>\n",
       "    <tr>\n",
       "      <th>25</th>\n",
       "      <td>known_for_crime</td>\n",
       "      <td>1.041425</td>\n",
       "    </tr>\n",
       "    <tr>\n",
       "      <th>20</th>\n",
       "      <td>prior_region_Russian Federation</td>\n",
       "      <td>1.041263</td>\n",
       "    </tr>\n",
       "    <tr>\n",
       "      <th>2</th>\n",
       "      <td>years</td>\n",
       "      <td>1.022978</td>\n",
       "    </tr>\n",
       "    <tr>\n",
       "      <th>15</th>\n",
       "      <td>prior_region_Europe</td>\n",
       "      <td>1.013625</td>\n",
       "    </tr>\n",
       "    <tr>\n",
       "      <th>28</th>\n",
       "      <td>known_for_social</td>\n",
       "      <td>1.008651</td>\n",
       "    </tr>\n",
       "    <tr>\n",
       "      <th>14</th>\n",
       "      <td>prior_region_Central Asia</td>\n",
       "      <td>1.006701</td>\n",
       "    </tr>\n",
       "    <tr>\n",
       "      <th>17</th>\n",
       "      <td>prior_region_Middle East</td>\n",
       "      <td>1.003860</td>\n",
       "    </tr>\n",
       "    <tr>\n",
       "      <th>13</th>\n",
       "      <td>prior_region_Asia</td>\n",
       "      <td>1.003752</td>\n",
       "    </tr>\n",
       "    <tr>\n",
       "      <th>19</th>\n",
       "      <td>prior_region_Oceania</td>\n",
       "      <td>1.003370</td>\n",
       "    </tr>\n",
       "    <tr>\n",
       "      <th>18</th>\n",
       "      <td>prior_region_North America</td>\n",
       "      <td>1.003209</td>\n",
       "    </tr>\n",
       "    <tr>\n",
       "      <th>16</th>\n",
       "      <td>prior_region_Mid-Cent America/Caribbean</td>\n",
       "      <td>1.002034</td>\n",
       "    </tr>\n",
       "    <tr>\n",
       "      <th>21</th>\n",
       "      <td>prior_region_South America</td>\n",
       "      <td>1.001454</td>\n",
       "    </tr>\n",
       "    <tr>\n",
       "      <th>22</th>\n",
       "      <td>prior_region_South East Asia</td>\n",
       "      <td>1.000618</td>\n",
       "    </tr>\n",
       "  </tbody>\n",
       "</table>\n",
       "</div>"
      ],
      "text/plain": [
       "                                    feature        VIF\n",
       "0                                     const  42.022686\n",
       "8                      region_North America   7.798003\n",
       "5                             region_Europe   7.086783\n",
       "3                               region_Asia   3.180452\n",
       "9                            region_Oceania   2.308154\n",
       "23                           known_for_arts   1.862710\n",
       "7                        region_Middle East   1.724744\n",
       "11                     region_South America   1.663567\n",
       "30                         known_for_sports   1.633636\n",
       "6         region_Mid-Cent America/Caribbean   1.550907\n",
       "10                region_Russian Federation   1.507298\n",
       "32                            known_for_two   1.490933\n",
       "12                   region_South East Asia   1.465765\n",
       "27                       known_for_sciences   1.258246\n",
       "26      known_for_law_enf_military_operator   1.137821\n",
       "29                      known_for_spiritual   1.092458\n",
       "24               known_for_business_farming   1.072415\n",
       "31                  known_for_three_to_five   1.054400\n",
       "1                      recip_num_references   1.042171\n",
       "4                       region_Central Asia   1.041784\n",
       "25                          known_for_crime   1.041425\n",
       "20          prior_region_Russian Federation   1.041263\n",
       "2                                     years   1.022978\n",
       "15                      prior_region_Europe   1.013625\n",
       "28                         known_for_social   1.008651\n",
       "14                prior_region_Central Asia   1.006701\n",
       "17                 prior_region_Middle East   1.003860\n",
       "13                        prior_region_Asia   1.003752\n",
       "19                     prior_region_Oceania   1.003370\n",
       "18               prior_region_North America   1.003209\n",
       "16  prior_region_Mid-Cent America/Caribbean   1.002034\n",
       "21               prior_region_South America   1.001454\n",
       "22             prior_region_South East Asia   1.000618"
      ]
     },
     "execution_count": 26,
     "metadata": {},
     "output_type": "execute_result"
    },
    {
     "data": {
      "application/javascript": [
       "\n",
       "            setTimeout(function() {\n",
       "                var nbb_cell_id = 26;\n",
       "                var nbb_unformatted_code = \"# Dropping known_for_politics_govt_law column\\ncol_to_drop = \\\"known_for_politics_govt_law\\\"\\nX_train = X_train.drop(col_to_drop, axis=1)\\nX_test = X_test.drop(col_to_drop, axis=1)\\n\\n# Recheck VIF\\nvif = checking_vif(X_train).sort_values(by=\\\"VIF\\\", ascending=False)\\nvif\";\n",
       "                var nbb_formatted_code = \"# Dropping known_for_politics_govt_law column\\ncol_to_drop = \\\"known_for_politics_govt_law\\\"\\nX_train = X_train.drop(col_to_drop, axis=1)\\nX_test = X_test.drop(col_to_drop, axis=1)\\n\\n# Recheck VIF\\nvif = checking_vif(X_train).sort_values(by=\\\"VIF\\\", ascending=False)\\nvif\";\n",
       "                var nbb_cells = Jupyter.notebook.get_cells();\n",
       "                for (var i = 0; i < nbb_cells.length; ++i) {\n",
       "                    if (nbb_cells[i].input_prompt_number == nbb_cell_id) {\n",
       "                        if (nbb_cells[i].get_text() == nbb_unformatted_code) {\n",
       "                             nbb_cells[i].set_text(nbb_formatted_code);\n",
       "                        }\n",
       "                        break;\n",
       "                    }\n",
       "                }\n",
       "            }, 500);\n",
       "            "
      ],
      "text/plain": [
       "<IPython.core.display.Javascript object>"
      ]
     },
     "metadata": {},
     "output_type": "display_data"
    }
   ],
   "source": [
    "# Dropping known_for_politics_govt_law column\n",
    "col_to_drop = \"known_for_politics_govt_law\"\n",
    "X_train = X_train.drop(col_to_drop, axis=1)\n",
    "X_test = X_test.drop(col_to_drop, axis=1)\n",
    "\n",
    "# Recheck VIF\n",
    "vif = checking_vif(X_train).sort_values(by=\"VIF\", ascending=False)\n",
    "vif"
   ]
  },
  {
   "cell_type": "markdown",
   "id": "f42ca4f4",
   "metadata": {},
   "source": [
    "#### Checking Impact of Dropping Columns on Model Performance"
   ]
  },
  {
   "cell_type": "code",
   "execution_count": 27,
   "id": "09b7c34d",
   "metadata": {},
   "outputs": [
    {
     "data": {
      "text/html": [
       "<div>\n",
       "<style scoped>\n",
       "    .dataframe tbody tr th:only-of-type {\n",
       "        vertical-align: middle;\n",
       "    }\n",
       "\n",
       "    .dataframe tbody tr th {\n",
       "        vertical-align: top;\n",
       "    }\n",
       "\n",
       "    .dataframe thead th {\n",
       "        text-align: right;\n",
       "    }\n",
       "</style>\n",
       "<table border=\"1\" class=\"dataframe\">\n",
       "  <thead>\n",
       "    <tr style=\"text-align: right;\">\n",
       "      <th></th>\n",
       "      <th>col</th>\n",
       "      <th>Adj. R-squared after_dropping col</th>\n",
       "      <th>RMSE after dropping col</th>\n",
       "    </tr>\n",
       "  </thead>\n",
       "  <tbody>\n",
       "    <tr>\n",
       "      <th>0</th>\n",
       "      <td>region_Europe</td>\n",
       "      <td>0.082234</td>\n",
       "      <td>15.215926</td>\n",
       "    </tr>\n",
       "    <tr>\n",
       "      <th>1</th>\n",
       "      <td>region_North America</td>\n",
       "      <td>0.080967</td>\n",
       "      <td>15.226423</td>\n",
       "    </tr>\n",
       "  </tbody>\n",
       "</table>\n",
       "</div>"
      ],
      "text/plain": [
       "                    col  Adj. R-squared after_dropping col  \\\n",
       "0         region_Europe                           0.082234   \n",
       "1  region_North America                           0.080967   \n",
       "\n",
       "   RMSE after dropping col  \n",
       "0                15.215926  \n",
       "1                15.226423  "
      ]
     },
     "execution_count": 27,
     "metadata": {},
     "output_type": "execute_result"
    },
    {
     "data": {
      "application/javascript": [
       "\n",
       "            setTimeout(function() {\n",
       "                var nbb_cell_id = 27;\n",
       "                var nbb_unformatted_code = \"# Checking impact of dropping columns\\ncol_list = vif[vif[\\\"VIF\\\"] >= 5][\\\"feature\\\"].tolist()\\ncol_list.remove(\\\"const\\\")\\n\\nresults = treating_multicollinearity(X_train, y_train, col_list)\\nresults\";\n",
       "                var nbb_formatted_code = \"# Checking impact of dropping columns\\ncol_list = vif[vif[\\\"VIF\\\"] >= 5][\\\"feature\\\"].tolist()\\ncol_list.remove(\\\"const\\\")\\n\\nresults = treating_multicollinearity(X_train, y_train, col_list)\\nresults\";\n",
       "                var nbb_cells = Jupyter.notebook.get_cells();\n",
       "                for (var i = 0; i < nbb_cells.length; ++i) {\n",
       "                    if (nbb_cells[i].input_prompt_number == nbb_cell_id) {\n",
       "                        if (nbb_cells[i].get_text() == nbb_unformatted_code) {\n",
       "                             nbb_cells[i].set_text(nbb_formatted_code);\n",
       "                        }\n",
       "                        break;\n",
       "                    }\n",
       "                }\n",
       "            }, 500);\n",
       "            "
      ],
      "text/plain": [
       "<IPython.core.display.Javascript object>"
      ]
     },
     "metadata": {},
     "output_type": "display_data"
    }
   ],
   "source": [
    "# Checking impact of dropping columns\n",
    "col_list = vif[vif[\"VIF\"] >= 5][\"feature\"].tolist()\n",
    "col_list.remove(\"const\")\n",
    "\n",
    "results = treating_multicollinearity(X_train, y_train, col_list)\n",
    "results"
   ]
  },
  {
   "cell_type": "markdown",
   "id": "4dfc9a3d",
   "metadata": {},
   "source": [
    "#### Observations:\n",
    "- That iteration got us down to two remaining high VIF columns.\n",
    "- Of the remaining high VIF columns, `region_Europe` has the least impact on performance when dropped, so we will drop it."
   ]
  },
  {
   "cell_type": "markdown",
   "id": "824eaeb6",
   "metadata": {},
   "source": [
    "#### Dropping `region_Europe`"
   ]
  },
  {
   "cell_type": "code",
   "execution_count": 28,
   "id": "fe25943a",
   "metadata": {},
   "outputs": [
    {
     "data": {
      "text/html": [
       "<div>\n",
       "<style scoped>\n",
       "    .dataframe tbody tr th:only-of-type {\n",
       "        vertical-align: middle;\n",
       "    }\n",
       "\n",
       "    .dataframe tbody tr th {\n",
       "        vertical-align: top;\n",
       "    }\n",
       "\n",
       "    .dataframe thead th {\n",
       "        text-align: right;\n",
       "    }\n",
       "</style>\n",
       "<table border=\"1\" class=\"dataframe\">\n",
       "  <thead>\n",
       "    <tr style=\"text-align: right;\">\n",
       "      <th></th>\n",
       "      <th>feature</th>\n",
       "      <th>VIF</th>\n",
       "    </tr>\n",
       "  </thead>\n",
       "  <tbody>\n",
       "    <tr>\n",
       "      <th>0</th>\n",
       "      <td>const</td>\n",
       "      <td>17.026662</td>\n",
       "    </tr>\n",
       "    <tr>\n",
       "      <th>22</th>\n",
       "      <td>known_for_arts</td>\n",
       "      <td>1.847609</td>\n",
       "    </tr>\n",
       "    <tr>\n",
       "      <th>29</th>\n",
       "      <td>known_for_sports</td>\n",
       "      <td>1.624539</td>\n",
       "    </tr>\n",
       "    <tr>\n",
       "      <th>31</th>\n",
       "      <td>known_for_two</td>\n",
       "      <td>1.487585</td>\n",
       "    </tr>\n",
       "    <tr>\n",
       "      <th>7</th>\n",
       "      <td>region_North America</td>\n",
       "      <td>1.308270</td>\n",
       "    </tr>\n",
       "    <tr>\n",
       "      <th>26</th>\n",
       "      <td>known_for_sciences</td>\n",
       "      <td>1.253125</td>\n",
       "    </tr>\n",
       "    <tr>\n",
       "      <th>3</th>\n",
       "      <td>region_Asia</td>\n",
       "      <td>1.155868</td>\n",
       "    </tr>\n",
       "    <tr>\n",
       "      <th>25</th>\n",
       "      <td>known_for_law_enf_military_operator</td>\n",
       "      <td>1.136902</td>\n",
       "    </tr>\n",
       "    <tr>\n",
       "      <th>8</th>\n",
       "      <td>region_Oceania</td>\n",
       "      <td>1.093740</td>\n",
       "    </tr>\n",
       "    <tr>\n",
       "      <th>28</th>\n",
       "      <td>known_for_spiritual</td>\n",
       "      <td>1.092234</td>\n",
       "    </tr>\n",
       "    <tr>\n",
       "      <th>23</th>\n",
       "      <td>known_for_business_farming</td>\n",
       "      <td>1.071393</td>\n",
       "    </tr>\n",
       "    <tr>\n",
       "      <th>9</th>\n",
       "      <td>region_Russian Federation</td>\n",
       "      <td>1.070197</td>\n",
       "    </tr>\n",
       "    <tr>\n",
       "      <th>6</th>\n",
       "      <td>region_Middle East</td>\n",
       "      <td>1.056222</td>\n",
       "    </tr>\n",
       "    <tr>\n",
       "      <th>30</th>\n",
       "      <td>known_for_three_to_five</td>\n",
       "      <td>1.053881</td>\n",
       "    </tr>\n",
       "    <tr>\n",
       "      <th>10</th>\n",
       "      <td>region_South America</td>\n",
       "      <td>1.045254</td>\n",
       "    </tr>\n",
       "    <tr>\n",
       "      <th>19</th>\n",
       "      <td>prior_region_Russian Federation</td>\n",
       "      <td>1.041244</td>\n",
       "    </tr>\n",
       "    <tr>\n",
       "      <th>24</th>\n",
       "      <td>known_for_crime</td>\n",
       "      <td>1.041113</td>\n",
       "    </tr>\n",
       "    <tr>\n",
       "      <th>1</th>\n",
       "      <td>recip_num_references</td>\n",
       "      <td>1.040596</td>\n",
       "    </tr>\n",
       "    <tr>\n",
       "      <th>5</th>\n",
       "      <td>region_Mid-Cent America/Caribbean</td>\n",
       "      <td>1.037954</td>\n",
       "    </tr>\n",
       "    <tr>\n",
       "      <th>11</th>\n",
       "      <td>region_South East Asia</td>\n",
       "      <td>1.036947</td>\n",
       "    </tr>\n",
       "    <tr>\n",
       "      <th>2</th>\n",
       "      <td>years</td>\n",
       "      <td>1.021392</td>\n",
       "    </tr>\n",
       "    <tr>\n",
       "      <th>14</th>\n",
       "      <td>prior_region_Europe</td>\n",
       "      <td>1.013612</td>\n",
       "    </tr>\n",
       "    <tr>\n",
       "      <th>4</th>\n",
       "      <td>region_Central Asia</td>\n",
       "      <td>1.010676</td>\n",
       "    </tr>\n",
       "    <tr>\n",
       "      <th>27</th>\n",
       "      <td>known_for_social</td>\n",
       "      <td>1.008532</td>\n",
       "    </tr>\n",
       "    <tr>\n",
       "      <th>13</th>\n",
       "      <td>prior_region_Central Asia</td>\n",
       "      <td>1.006701</td>\n",
       "    </tr>\n",
       "    <tr>\n",
       "      <th>16</th>\n",
       "      <td>prior_region_Middle East</td>\n",
       "      <td>1.003854</td>\n",
       "    </tr>\n",
       "    <tr>\n",
       "      <th>12</th>\n",
       "      <td>prior_region_Asia</td>\n",
       "      <td>1.003736</td>\n",
       "    </tr>\n",
       "    <tr>\n",
       "      <th>18</th>\n",
       "      <td>prior_region_Oceania</td>\n",
       "      <td>1.003313</td>\n",
       "    </tr>\n",
       "    <tr>\n",
       "      <th>17</th>\n",
       "      <td>prior_region_North America</td>\n",
       "      <td>1.003119</td>\n",
       "    </tr>\n",
       "    <tr>\n",
       "      <th>15</th>\n",
       "      <td>prior_region_Mid-Cent America/Caribbean</td>\n",
       "      <td>1.001983</td>\n",
       "    </tr>\n",
       "    <tr>\n",
       "      <th>20</th>\n",
       "      <td>prior_region_South America</td>\n",
       "      <td>1.001440</td>\n",
       "    </tr>\n",
       "    <tr>\n",
       "      <th>21</th>\n",
       "      <td>prior_region_South East Asia</td>\n",
       "      <td>1.000610</td>\n",
       "    </tr>\n",
       "  </tbody>\n",
       "</table>\n",
       "</div>"
      ],
      "text/plain": [
       "                                    feature        VIF\n",
       "0                                     const  17.026662\n",
       "22                           known_for_arts   1.847609\n",
       "29                         known_for_sports   1.624539\n",
       "31                            known_for_two   1.487585\n",
       "7                      region_North America   1.308270\n",
       "26                       known_for_sciences   1.253125\n",
       "3                               region_Asia   1.155868\n",
       "25      known_for_law_enf_military_operator   1.136902\n",
       "8                            region_Oceania   1.093740\n",
       "28                      known_for_spiritual   1.092234\n",
       "23               known_for_business_farming   1.071393\n",
       "9                 region_Russian Federation   1.070197\n",
       "6                        region_Middle East   1.056222\n",
       "30                  known_for_three_to_five   1.053881\n",
       "10                     region_South America   1.045254\n",
       "19          prior_region_Russian Federation   1.041244\n",
       "24                          known_for_crime   1.041113\n",
       "1                      recip_num_references   1.040596\n",
       "5         region_Mid-Cent America/Caribbean   1.037954\n",
       "11                   region_South East Asia   1.036947\n",
       "2                                     years   1.021392\n",
       "14                      prior_region_Europe   1.013612\n",
       "4                       region_Central Asia   1.010676\n",
       "27                         known_for_social   1.008532\n",
       "13                prior_region_Central Asia   1.006701\n",
       "16                 prior_region_Middle East   1.003854\n",
       "12                        prior_region_Asia   1.003736\n",
       "18                     prior_region_Oceania   1.003313\n",
       "17               prior_region_North America   1.003119\n",
       "15  prior_region_Mid-Cent America/Caribbean   1.001983\n",
       "20               prior_region_South America   1.001440\n",
       "21             prior_region_South East Asia   1.000610"
      ]
     },
     "execution_count": 28,
     "metadata": {},
     "output_type": "execute_result"
    },
    {
     "data": {
      "application/javascript": [
       "\n",
       "            setTimeout(function() {\n",
       "                var nbb_cell_id = 28;\n",
       "                var nbb_unformatted_code = \"# Dropping region_Europe column\\ncol_to_drop = \\\"region_Europe\\\"\\nX_train = X_train.drop(col_to_drop, axis=1)\\nX_test = X_test.drop(col_to_drop, axis=1)\\n\\n# Recheck VIF\\nvif = checking_vif(X_train).sort_values(by=\\\"VIF\\\", ascending=False)\\nvif\";\n",
       "                var nbb_formatted_code = \"# Dropping region_Europe column\\ncol_to_drop = \\\"region_Europe\\\"\\nX_train = X_train.drop(col_to_drop, axis=1)\\nX_test = X_test.drop(col_to_drop, axis=1)\\n\\n# Recheck VIF\\nvif = checking_vif(X_train).sort_values(by=\\\"VIF\\\", ascending=False)\\nvif\";\n",
       "                var nbb_cells = Jupyter.notebook.get_cells();\n",
       "                for (var i = 0; i < nbb_cells.length; ++i) {\n",
       "                    if (nbb_cells[i].input_prompt_number == nbb_cell_id) {\n",
       "                        if (nbb_cells[i].get_text() == nbb_unformatted_code) {\n",
       "                             nbb_cells[i].set_text(nbb_formatted_code);\n",
       "                        }\n",
       "                        break;\n",
       "                    }\n",
       "                }\n",
       "            }, 500);\n",
       "            "
      ],
      "text/plain": [
       "<IPython.core.display.Javascript object>"
      ]
     },
     "metadata": {},
     "output_type": "display_data"
    }
   ],
   "source": [
    "# Dropping region_Europe column\n",
    "col_to_drop = \"region_Europe\"\n",
    "X_train = X_train.drop(col_to_drop, axis=1)\n",
    "X_test = X_test.drop(col_to_drop, axis=1)\n",
    "\n",
    "# Recheck VIF\n",
    "vif = checking_vif(X_train).sort_values(by=\"VIF\", ascending=False)\n",
    "vif"
   ]
  },
  {
   "cell_type": "markdown",
   "id": "9145a7ab",
   "metadata": {},
   "source": [
    "#### Observations:\n",
    "- `prior_region_No Prior Region`, `known_for_politics_govt_law`, and `region_Europe` columns were dropped and there are no remaining high VIF columns,excluding the constant, which we will retain.\n",
    "- **So, the assumption of independence of predictor variables (absence of multicollinearity) is satisfied.**\n",
    "- The updated reference levels for each feature are as follows:\n",
    "    - `region`: Africa OR Europe\n",
    "    - `prior_region`: Africa OR No Prior Region\n",
    "    - `known_for`: academia_humanities OR politics_govt_law\n",
    "- Next, we will fit our second model, then drop columns with high p-values for their coefficients."
   ]
  },
  {
   "cell_type": "markdown",
   "id": "8a014e23",
   "metadata": {},
   "source": [
    "#### Fitting Second Model"
   ]
  },
  {
   "cell_type": "code",
   "execution_count": 29,
   "id": "95b9787e",
   "metadata": {},
   "outputs": [
    {
     "name": "stdout",
     "output_type": "stream",
     "text": [
      "                            OLS Regression Results                            \n",
      "==============================================================================\n",
      "Dep. Variable:                    age   R-squared:                       0.083\n",
      "Model:                            OLS   Adj. R-squared:                  0.082\n",
      "Method:                 Least Squares   F-statistic:                     225.5\n",
      "Date:                Mon, 10 Oct 2022   Prob (F-statistic):               0.00\n",
      "Time:                        14:19:18   Log-Likelihood:            -3.2160e+05\n",
      "No. Observations:               77661   AIC:                         6.433e+05\n",
      "Df Residuals:                   77629   BIC:                         6.436e+05\n",
      "Df Model:                          31                                         \n",
      "Covariance Type:            nonrobust                                         \n",
      "===========================================================================================================\n",
      "                                              coef    std err          t      P>|t|      [0.025      0.975]\n",
      "-----------------------------------------------------------------------------------------------------------\n",
      "const                                      73.3937      0.225    325.760      0.000      72.952      73.835\n",
      "recip_num_references                       10.9398      0.566     19.318      0.000       9.830      12.050\n",
      "years                                       0.1945      0.007     27.611      0.000       0.181       0.208\n",
      "region_Asia                                -2.3259      0.212    -10.980      0.000      -2.741      -1.911\n",
      "region_Central Asia                       -11.1359      1.604     -6.940      0.000     -14.281      -7.991\n",
      "region_Mid-Cent America/Caribbean          -4.0482      0.401    -10.104      0.000      -4.833      -3.263\n",
      "region_Middle East                         -4.9612      0.353    -14.072      0.000      -5.652      -4.270\n",
      "region_North America                        1.3738      0.127     10.842      0.000       1.125       1.622\n",
      "region_Oceania                              0.4031      0.267      1.509      0.131      -0.121       0.927\n",
      "region_Russian Federation                  -5.0247      0.444    -11.322      0.000      -5.895      -4.155\n",
      "region_South America                       -3.2191      0.367     -8.780      0.000      -3.938      -2.501\n",
      "region_South East Asia                     -5.6850      0.434    -13.108      0.000      -6.535      -4.835\n",
      "prior_region_Asia                          -1.2439      0.827     -1.503      0.133      -2.865       0.378\n",
      "prior_region_Central Asia                  -3.0313      5.398     -0.562      0.574     -13.611       7.549\n",
      "prior_region_Europe                         5.2108      0.323     16.157      0.000       4.579       5.843\n",
      "prior_region_Mid-Cent America/Caribbean    -0.8934      1.073     -0.833      0.405      -2.997       1.210\n",
      "prior_region_Middle East                   -3.0025      1.150     -2.610      0.009      -5.257      -0.748\n",
      "prior_region_North America                  0.7501      0.735      1.020      0.308      -0.691       2.191\n",
      "prior_region_Oceania                       -1.1894      1.308     -0.909      0.363      -3.753       1.374\n",
      "prior_region_Russian Federation             1.9480      0.931      2.092      0.036       0.123       3.773\n",
      "prior_region_South America                 -0.8524      1.459     -0.584      0.559      -3.713       2.008\n",
      "prior_region_South East Asia              -10.5648      1.999     -5.284      0.000     -14.483      -6.646\n",
      "known_for_arts                             -2.9648      0.157    -18.865      0.000      -3.273      -2.657\n",
      "known_for_business_farming                  0.7586      0.441      1.721      0.085      -0.106       1.623\n",
      "known_for_crime                           -23.1751      0.624    -37.138      0.000     -24.398     -21.952\n",
      "known_for_law_enf_military_operator         2.3105      0.337      6.863      0.000       1.651       2.970\n",
      "known_for_sciences                          3.5294      0.256     13.768      0.000       3.027       4.032\n",
      "known_for_social                           -0.5075      1.249     -0.406      0.684      -2.955       1.940\n",
      "known_for_spiritual                         3.6533      0.390      9.373      0.000       2.889       4.417\n",
      "known_for_sports                           -6.9884      0.180    -38.896      0.000      -7.341      -6.636\n",
      "known_for_three_to_five                     3.1225      0.513      6.092      0.000       2.118       4.127\n",
      "known_for_two                               1.2004      0.195      6.167      0.000       0.819       1.582\n",
      "==============================================================================\n",
      "Omnibus:                    10520.261   Durbin-Watson:                   2.020\n",
      "Prob(Omnibus):                  0.000   Jarque-Bera (JB):            15836.623\n",
      "Skew:                          -0.989   Prob(JB):                         0.00\n",
      "Kurtosis:                       3.989   Cond. No.                     1.96e+03\n",
      "==============================================================================\n",
      "\n",
      "Notes:\n",
      "[1] Standard Errors assume that the covariance matrix of the errors is correctly specified.\n",
      "[2] The condition number is large, 1.96e+03. This might indicate that there are\n",
      "strong multicollinearity or other numerical problems.\n"
     ]
    },
    {
     "data": {
      "application/javascript": [
       "\n",
       "            setTimeout(function() {\n",
       "                var nbb_cell_id = 29;\n",
       "                var nbb_unformatted_code = \"# Fitting a linear model and displaying model summary\\nolsmodel2 = sm.OLS(y_train, X_train).fit()\\nprint(olsmodel2.summary())\";\n",
       "                var nbb_formatted_code = \"# Fitting a linear model and displaying model summary\\nolsmodel2 = sm.OLS(y_train, X_train).fit()\\nprint(olsmodel2.summary())\";\n",
       "                var nbb_cells = Jupyter.notebook.get_cells();\n",
       "                for (var i = 0; i < nbb_cells.length; ++i) {\n",
       "                    if (nbb_cells[i].input_prompt_number == nbb_cell_id) {\n",
       "                        if (nbb_cells[i].get_text() == nbb_unformatted_code) {\n",
       "                             nbb_cells[i].set_text(nbb_formatted_code);\n",
       "                        }\n",
       "                        break;\n",
       "                    }\n",
       "                }\n",
       "            }, 500);\n",
       "            "
      ],
      "text/plain": [
       "<IPython.core.display.Javascript object>"
      ]
     },
     "metadata": {},
     "output_type": "display_data"
    }
   ],
   "source": [
    "# Fitting a linear model and displaying model summary\n",
    "olsmodel2 = sm.OLS(y_train, X_train).fit()\n",
    "print(olsmodel2.summary())"
   ]
  },
  {
   "cell_type": "markdown",
   "id": "fd1ce68e",
   "metadata": {},
   "source": [
    "#### Checking Features with High Coefficient p-values"
   ]
  },
  {
   "cell_type": "code",
   "execution_count": 30,
   "id": "1db60a87",
   "metadata": {},
   "outputs": [
    {
     "name": "stdout",
     "output_type": "stream",
     "text": [
      "Features with high p-values to exclude: ['known_for_social', 'prior_region_Central Asia', 'prior_region_South America', 'prior_region_Mid-Cent America/Caribbean', 'prior_region_Oceania', 'prior_region_North America', 'region_Oceania', 'prior_region_Asia', 'known_for_business_farming']\n"
     ]
    },
    {
     "data": {
      "application/javascript": [
       "\n",
       "            setTimeout(function() {\n",
       "                var nbb_cell_id = 30;\n",
       "                var nbb_unformatted_code = \"## Loop for Dropping variables with high coefficient p-values one at a time excluding constant and dummy variables\\n# Current model predictors\\ntrain_predictors = X_train\\n\\n# initial list of all independent variable columns including constant\\ncols = train_predictors.columns.to_list()\\n\\n# initial empty list of independent variables to exclude\\nexcluded_features = []\\n\\n# setting an initial max p_value\\nmax_p_value = 1\\n\\nfor i in range(len(cols)):\\n    # defining the train set\\n    x_train_aux = train_predictors[cols]\\n\\n    # fitting the model\\n    model = sm.OLS(y_train, x_train_aux).fit()\\n\\n    # getting the p-values and the maximum p-value\\n    p_values = model.pvalues[cols]\\n    max_p_value = max(p_values)\\n\\n    # name of the variable with maximum p-value\\n    feature_with_p_max = p_values.idxmax()\\n\\n    if max_p_value > 0.05:\\n        cols.remove(feature_with_p_max)\\n        excluded_features.append(feature_with_p_max)\\n    else:\\n        break\\n\\nprint(f\\\"Features with high p-values to exclude: {excluded_features}\\\")\";\n",
       "                var nbb_formatted_code = \"## Loop for Dropping variables with high coefficient p-values one at a time excluding constant and dummy variables\\n# Current model predictors\\ntrain_predictors = X_train\\n\\n# initial list of all independent variable columns including constant\\ncols = train_predictors.columns.to_list()\\n\\n# initial empty list of independent variables to exclude\\nexcluded_features = []\\n\\n# setting an initial max p_value\\nmax_p_value = 1\\n\\nfor i in range(len(cols)):\\n    # defining the train set\\n    x_train_aux = train_predictors[cols]\\n\\n    # fitting the model\\n    model = sm.OLS(y_train, x_train_aux).fit()\\n\\n    # getting the p-values and the maximum p-value\\n    p_values = model.pvalues[cols]\\n    max_p_value = max(p_values)\\n\\n    # name of the variable with maximum p-value\\n    feature_with_p_max = p_values.idxmax()\\n\\n    if max_p_value > 0.05:\\n        cols.remove(feature_with_p_max)\\n        excluded_features.append(feature_with_p_max)\\n    else:\\n        break\\n\\nprint(f\\\"Features with high p-values to exclude: {excluded_features}\\\")\";\n",
       "                var nbb_cells = Jupyter.notebook.get_cells();\n",
       "                for (var i = 0; i < nbb_cells.length; ++i) {\n",
       "                    if (nbb_cells[i].input_prompt_number == nbb_cell_id) {\n",
       "                        if (nbb_cells[i].get_text() == nbb_unformatted_code) {\n",
       "                             nbb_cells[i].set_text(nbb_formatted_code);\n",
       "                        }\n",
       "                        break;\n",
       "                    }\n",
       "                }\n",
       "            }, 500);\n",
       "            "
      ],
      "text/plain": [
       "<IPython.core.display.Javascript object>"
      ]
     },
     "metadata": {},
     "output_type": "display_data"
    }
   ],
   "source": [
    "## Loop for Dropping variables with high coefficient p-values one at a time excluding constant and dummy variables\n",
    "# Current model predictors\n",
    "train_predictors = X_train\n",
    "\n",
    "# initial list of all independent variable columns including constant\n",
    "cols = train_predictors.columns.to_list()\n",
    "\n",
    "# initial empty list of independent variables to exclude\n",
    "excluded_features = []\n",
    "\n",
    "# setting an initial max p_value\n",
    "max_p_value = 1\n",
    "\n",
    "for i in range(len(cols)):\n",
    "    # defining the train set\n",
    "    x_train_aux = train_predictors[cols]\n",
    "\n",
    "    # fitting the model\n",
    "    model = sm.OLS(y_train, x_train_aux).fit()\n",
    "\n",
    "    # getting the p-values and the maximum p-value\n",
    "    p_values = model.pvalues[cols]\n",
    "    max_p_value = max(p_values)\n",
    "\n",
    "    # name of the variable with maximum p-value\n",
    "    feature_with_p_max = p_values.idxmax()\n",
    "\n",
    "    if max_p_value > 0.05:\n",
    "        cols.remove(feature_with_p_max)\n",
    "        excluded_features.append(feature_with_p_max)\n",
    "    else:\n",
    "        break\n",
    "\n",
    "print(f\"Features with high p-values to exclude: {excluded_features}\")"
   ]
  },
  {
   "cell_type": "markdown",
   "id": "bd86680d",
   "metadata": {},
   "source": [
    "#### Dropping `excluded_features` with High p-values"
   ]
  },
  {
   "cell_type": "code",
   "execution_count": 31,
   "id": "cdf36614",
   "metadata": {},
   "outputs": [
    {
     "data": {
      "application/javascript": [
       "\n",
       "            setTimeout(function() {\n",
       "                var nbb_cell_id = 31;\n",
       "                var nbb_unformatted_code = \"# Dropping excluded_features\\nX_train.drop(excluded_features, axis=1, inplace=True)\\nX_test.drop(excluded_features, axis=1, inplace=True)\";\n",
       "                var nbb_formatted_code = \"# Dropping excluded_features\\nX_train.drop(excluded_features, axis=1, inplace=True)\\nX_test.drop(excluded_features, axis=1, inplace=True)\";\n",
       "                var nbb_cells = Jupyter.notebook.get_cells();\n",
       "                for (var i = 0; i < nbb_cells.length; ++i) {\n",
       "                    if (nbb_cells[i].input_prompt_number == nbb_cell_id) {\n",
       "                        if (nbb_cells[i].get_text() == nbb_unformatted_code) {\n",
       "                             nbb_cells[i].set_text(nbb_formatted_code);\n",
       "                        }\n",
       "                        break;\n",
       "                    }\n",
       "                }\n",
       "            }, 500);\n",
       "            "
      ],
      "text/plain": [
       "<IPython.core.display.Javascript object>"
      ]
     },
     "metadata": {},
     "output_type": "display_data"
    }
   ],
   "source": [
    "# Dropping excluded_features\n",
    "X_train.drop(excluded_features, axis=1, inplace=True)\n",
    "X_test.drop(excluded_features, axis=1, inplace=True)"
   ]
  },
  {
   "cell_type": "markdown",
   "id": "b90468b3",
   "metadata": {},
   "source": [
    "#### Observations:\n",
    "- We dropped several columns with high p-values.\n",
    "- The updated reference levels for each feature are as follows:\n",
    "    - `region`: Africa, Europe, OR Oceania\n",
    "    - `prior_region`: Africa, No Prior Region, Central Asia, South America, Mid-Cent America/Caribbean, Oceania, North America, OR Asia\n",
    "    - `known_for`: academia_humanities, politics_govt_law, social "
   ]
  },
  {
   "cell_type": "markdown",
   "id": "7a384648",
   "metadata": {},
   "source": [
    "#### Fitting Third Model"
   ]
  },
  {
   "cell_type": "code",
   "execution_count": 32,
   "id": "a669c67a",
   "metadata": {},
   "outputs": [
    {
     "name": "stdout",
     "output_type": "stream",
     "text": [
      "                            OLS Regression Results                            \n",
      "==============================================================================\n",
      "Dep. Variable:                    age   R-squared:                       0.082\n",
      "Model:                            OLS   Adj. R-squared:                  0.082\n",
      "Method:                 Least Squares   F-statistic:                     317.2\n",
      "Date:                Mon, 10 Oct 2022   Prob (F-statistic):               0.00\n",
      "Time:                        14:26:01   Log-Likelihood:            -3.2161e+05\n",
      "No. Observations:               77661   AIC:                         6.433e+05\n",
      "Df Residuals:                   77638   BIC:                         6.435e+05\n",
      "Df Model:                          22                                         \n",
      "Covariance Type:            nonrobust                                         \n",
      "=======================================================================================================\n",
      "                                          coef    std err          t      P>|t|      [0.025      0.975]\n",
      "-------------------------------------------------------------------------------------------------------\n",
      "const                                  73.5096      0.218    336.694      0.000      73.082      73.937\n",
      "recip_num_references                   10.8913      0.565     19.262      0.000       9.783      12.000\n",
      "years                                   0.1942      0.007     27.583      0.000       0.180       0.208\n",
      "region_Asia                            -2.3833      0.209    -11.384      0.000      -2.794      -1.973\n",
      "region_Central Asia                   -11.2479      1.600     -7.031      0.000     -14.383      -8.112\n",
      "region_Mid-Cent America/Caribbean      -4.1040      0.399    -10.280      0.000      -4.886      -3.321\n",
      "region_Middle East                     -5.0051      0.351    -14.265      0.000      -5.693      -4.317\n",
      "region_North America                    1.3232      0.122     10.814      0.000       1.083       1.563\n",
      "region_Russian Federation              -5.0772      0.443    -11.471      0.000      -5.945      -4.210\n",
      "region_South America                   -3.2719      0.365     -8.960      0.000      -3.988      -2.556\n",
      "region_South East Asia                 -5.7424      0.432    -13.279      0.000      -6.590      -4.895\n",
      "prior_region_Europe                     5.2475      0.322     16.294      0.000       4.616       5.879\n",
      "prior_region_Middle East               -2.9446      1.150     -2.560      0.010      -5.199      -0.690\n",
      "prior_region_Russian Federation         1.9494      0.931      2.094      0.036       0.124       3.775\n",
      "prior_region_South East Asia          -10.5340      1.999     -5.269      0.000     -14.453      -6.615\n",
      "known_for_arts                         -3.0323      0.152    -19.893      0.000      -3.331      -2.734\n",
      "known_for_crime                       -23.2375      0.623    -37.310      0.000     -24.458     -22.017\n",
      "known_for_law_enf_military_operator     2.2432      0.335      6.705      0.000       1.587       2.899\n",
      "known_for_sciences                      3.4550      0.253     13.641      0.000       2.959       3.951\n",
      "known_for_spiritual                     3.5890      0.388      9.253      0.000       2.829       4.349\n",
      "known_for_sports                       -7.0375      0.176    -40.023      0.000      -7.382      -6.693\n",
      "known_for_three_to_five                 3.0567      0.511      5.980      0.000       2.055       4.058\n",
      "known_for_two                           1.1356      0.191      5.948      0.000       0.761       1.510\n",
      "==============================================================================\n",
      "Omnibus:                    10525.183   Durbin-Watson:                   2.020\n",
      "Prob(Omnibus):                  0.000   Jarque-Bera (JB):            15846.751\n",
      "Skew:                          -0.990   Prob(JB):                         0.00\n",
      "Kurtosis:                       3.989   Cond. No.                         725.\n",
      "==============================================================================\n",
      "\n",
      "Notes:\n",
      "[1] Standard Errors assume that the covariance matrix of the errors is correctly specified.\n"
     ]
    },
    {
     "data": {
      "application/javascript": [
       "\n",
       "            setTimeout(function() {\n",
       "                var nbb_cell_id = 32;\n",
       "                var nbb_unformatted_code = \"# fitting third model and printing summary\\nolsmodel3 = sm.OLS(y_train, X_train).fit()\\nprint(olsmodel3.summary())\";\n",
       "                var nbb_formatted_code = \"# fitting third model and printing summary\\nolsmodel3 = sm.OLS(y_train, X_train).fit()\\nprint(olsmodel3.summary())\";\n",
       "                var nbb_cells = Jupyter.notebook.get_cells();\n",
       "                for (var i = 0; i < nbb_cells.length; ++i) {\n",
       "                    if (nbb_cells[i].input_prompt_number == nbb_cell_id) {\n",
       "                        if (nbb_cells[i].get_text() == nbb_unformatted_code) {\n",
       "                             nbb_cells[i].set_text(nbb_formatted_code);\n",
       "                        }\n",
       "                        break;\n",
       "                    }\n",
       "                }\n",
       "            }, 500);\n",
       "            "
      ],
      "text/plain": [
       "<IPython.core.display.Javascript object>"
      ]
     },
     "metadata": {},
     "output_type": "display_data"
    }
   ],
   "source": [
    "# fitting third model and printing summary\n",
    "olsmodel3 = sm.OLS(y_train, X_train).fit()\n",
    "print(olsmodel3.summary())"
   ]
  },
  {
   "cell_type": "markdown",
   "id": "0ee8bf22",
   "metadata": {},
   "source": [
    "#### Observations:\n",
    "- Adjusted $R^2$ has held at 0.082 after dropping the high p-value columns, indicating that the dropped variables were not affecting the model much at all.\n",
    "- **Now, no other feature, including the constant, has a p-value greater than 0.05, so we will consider these features as the final set of predictor variables and *olsmodel3* as the final model.**\n",
    "- *olsmodel3* has 22 predictors plut the constant term.\n",
    "- We will now check the remaining assumptions for linear regression."
   ]
  },
  {
   "cell_type": "markdown",
   "id": "4cca321e",
   "metadata": {},
   "source": [
    "### Test for Linearity and Independence"
   ]
  },
  {
   "cell_type": "markdown",
   "id": "1ddda70b",
   "metadata": {},
   "source": [
    "#### Dataframe of Actual, Fitted, and Residual Values"
   ]
  },
  {
   "cell_type": "code",
   "execution_count": 35,
   "id": "297c2f38",
   "metadata": {},
   "outputs": [
    {
     "data": {
      "text/html": [
       "<div>\n",
       "<style scoped>\n",
       "    .dataframe tbody tr th:only-of-type {\n",
       "        vertical-align: middle;\n",
       "    }\n",
       "\n",
       "    .dataframe tbody tr th {\n",
       "        vertical-align: top;\n",
       "    }\n",
       "\n",
       "    .dataframe thead th {\n",
       "        text-align: right;\n",
       "    }\n",
       "</style>\n",
       "<table border=\"1\" class=\"dataframe\">\n",
       "  <thead>\n",
       "    <tr style=\"text-align: right;\">\n",
       "      <th></th>\n",
       "      <th>Actual Values</th>\n",
       "      <th>Fitted Values</th>\n",
       "      <th>Residuals</th>\n",
       "    </tr>\n",
       "  </thead>\n",
       "  <tbody>\n",
       "    <tr>\n",
       "      <th>65679</th>\n",
       "      <td>92.0</td>\n",
       "      <td>76.908168</td>\n",
       "      <td>15.091832</td>\n",
       "    </tr>\n",
       "    <tr>\n",
       "      <th>46579</th>\n",
       "      <td>29.0</td>\n",
       "      <td>67.634527</td>\n",
       "      <td>-38.634527</td>\n",
       "    </tr>\n",
       "    <tr>\n",
       "      <th>63886</th>\n",
       "      <td>92.0</td>\n",
       "      <td>79.930321</td>\n",
       "      <td>12.069679</td>\n",
       "    </tr>\n",
       "    <tr>\n",
       "      <th>66717</th>\n",
       "      <td>95.0</td>\n",
       "      <td>85.292829</td>\n",
       "      <td>9.707171</td>\n",
       "    </tr>\n",
       "    <tr>\n",
       "      <th>3679</th>\n",
       "      <td>67.0</td>\n",
       "      <td>82.799558</td>\n",
       "      <td>-15.799558</td>\n",
       "    </tr>\n",
       "  </tbody>\n",
       "</table>\n",
       "</div>"
      ],
      "text/plain": [
       "       Actual Values  Fitted Values  Residuals\n",
       "65679           92.0      76.908168  15.091832\n",
       "46579           29.0      67.634527 -38.634527\n",
       "63886           92.0      79.930321  12.069679\n",
       "66717           95.0      85.292829   9.707171\n",
       "3679            67.0      82.799558 -15.799558"
      ]
     },
     "execution_count": 35,
     "metadata": {},
     "output_type": "execute_result"
    },
    {
     "data": {
      "application/javascript": [
       "\n",
       "            setTimeout(function() {\n",
       "                var nbb_cell_id = 35;\n",
       "                var nbb_unformatted_code = \"# Dataframe of actual, fitted, and residual values\\ndf_pred = pd.DataFrame()\\n\\ndf_pred[\\\"Actual Values\\\"] = y_train  # actual values\\ndf_pred[\\\"Fitted Values\\\"] = olsmodel3.fittedvalues  # predicted values\\ndf_pred[\\\"Residuals\\\"] = olsmodel3.resid  # residuals\\n\\ndf_pred.sample(5)\";\n",
       "                var nbb_formatted_code = \"# Dataframe of actual, fitted, and residual values\\ndf_pred = pd.DataFrame()\\n\\ndf_pred[\\\"Actual Values\\\"] = y_train  # actual values\\ndf_pred[\\\"Fitted Values\\\"] = olsmodel3.fittedvalues  # predicted values\\ndf_pred[\\\"Residuals\\\"] = olsmodel3.resid  # residuals\\n\\ndf_pred.sample(5)\";\n",
       "                var nbb_cells = Jupyter.notebook.get_cells();\n",
       "                for (var i = 0; i < nbb_cells.length; ++i) {\n",
       "                    if (nbb_cells[i].input_prompt_number == nbb_cell_id) {\n",
       "                        if (nbb_cells[i].get_text() == nbb_unformatted_code) {\n",
       "                             nbb_cells[i].set_text(nbb_formatted_code);\n",
       "                        }\n",
       "                        break;\n",
       "                    }\n",
       "                }\n",
       "            }, 500);\n",
       "            "
      ],
      "text/plain": [
       "<IPython.core.display.Javascript object>"
      ]
     },
     "metadata": {},
     "output_type": "display_data"
    }
   ],
   "source": [
    "# Dataframe of actual, fitted, and residual values\n",
    "df_pred = pd.DataFrame()\n",
    "\n",
    "df_pred[\"Actual Values\"] = y_train  # actual values\n",
    "df_pred[\"Fitted Values\"] = olsmodel3.fittedvalues  # predicted values\n",
    "df_pred[\"Residuals\"] = olsmodel3.resid  # residuals\n",
    "\n",
    "df_pred.sample(5)"
   ]
  },
  {
   "cell_type": "markdown",
   "id": "0e1f0fe9",
   "metadata": {},
   "source": [
    "#### Plot of Fitted Values vs Residuals"
   ]
  },
  {
   "cell_type": "code",
   "execution_count": 36,
   "id": "d83e48ed",
   "metadata": {},
   "outputs": [
    {
     "data": {
      "image/png": "[encoded data removed]",
      "text/plain": [
       "<Figure size 432x288 with 1 Axes>"
      ]
     },
     "metadata": {},
     "output_type": "display_data"
    },
    {
     "data": {
      "application/javascript": [
       "\n",
       "            setTimeout(function() {\n",
       "                var nbb_cell_id = 36;\n",
       "                var nbb_unformatted_code = \"# Plot of fitted values vs residuals\\nsns.residplot(\\n    data=df_pred, x=\\\"Fitted Values\\\", y=\\\"Residuals\\\", color=\\\"purple\\\", lowess=True\\n)\\nplt.xlabel(\\\"Fitted Values\\\")\\nplt.ylabel(\\\"Residuals\\\")\\nplt.title(\\\"Fitted vs Residual plot\\\")\\nplt.show()\";\n",
       "                var nbb_formatted_code = \"# Plot of fitted values vs residuals\\nsns.residplot(\\n    data=df_pred, x=\\\"Fitted Values\\\", y=\\\"Residuals\\\", color=\\\"purple\\\", lowess=True\\n)\\nplt.xlabel(\\\"Fitted Values\\\")\\nplt.ylabel(\\\"Residuals\\\")\\nplt.title(\\\"Fitted vs Residual plot\\\")\\nplt.show()\";\n",
       "                var nbb_cells = Jupyter.notebook.get_cells();\n",
       "                for (var i = 0; i < nbb_cells.length; ++i) {\n",
       "                    if (nbb_cells[i].input_prompt_number == nbb_cell_id) {\n",
       "                        if (nbb_cells[i].get_text() == nbb_unformatted_code) {\n",
       "                             nbb_cells[i].set_text(nbb_formatted_code);\n",
       "                        }\n",
       "                        break;\n",
       "                    }\n",
       "                }\n",
       "            }, 500);\n",
       "            "
      ],
      "text/plain": [
       "<IPython.core.display.Javascript object>"
      ]
     },
     "metadata": {},
     "output_type": "display_data"
    }
   ],
   "source": [
    "# Plot of fitted values vs residuals\n",
    "sns.residplot(\n",
    "    data=df_pred, x=\"Fitted Values\", y=\"Residuals\", color=\"purple\", lowess=True\n",
    ")\n",
    "plt.xlabel(\"Fitted Values\")\n",
    "plt.ylabel(\"Residuals\")\n",
    "plt.title(\"Fitted vs Residual plot\")\n",
    "plt.show()"
   ]
  },
  {
   "cell_type": "markdown",
   "id": "9de9da3c",
   "metadata": {},
   "source": [
    "#### Observation:\n",
    "- There is an underrepresented age group from ~58 to ~63 years in the predictions, resulting in two groups which is interesting.\n",
    "- Within itself, the under 60 group shows no obvious pattern.\n",
    "- The group above 60 is heavy on the bottom, indicating larger underestimates for age here, and wider variance.\n",
    "- **Overall, there is not a definitive pattern, so we will consider the assumptions of independence and linearity met.**\n",
    "- We will be testing further for heteroscedastictiy, via the Goldfeld-Quandt test."
   ]
  },
  {
   "cell_type": "markdown",
   "id": "60c84b78",
   "metadata": {},
   "source": [
    "### Test for Normality"
   ]
  },
  {
   "cell_type": "markdown",
   "id": "ea53a14b",
   "metadata": {},
   "source": [
    "#### Histogram"
   ]
  },
  {
   "cell_type": "code",
   "execution_count": 37,
   "id": "f24238cb",
   "metadata": {},
   "outputs": [
    {
     "data": {
      "image/png": "[encoded data removed]",
      "text/plain": [
       "<Figure size 432x288 with 1 Axes>"
      ]
     },
     "metadata": {},
     "output_type": "display_data"
    },
    {
     "data": {
      "application/javascript": [
       "\n",
       "            setTimeout(function() {\n",
       "                var nbb_cell_id = 37;\n",
       "                var nbb_unformatted_code = \"# Histogram of residuals\\nsns.histplot(data=df_pred, x=\\\"Residuals\\\", kde=True)\\nplt.title(\\\"Normality of Residuals\\\")\\nplt.show()\";\n",
       "                var nbb_formatted_code = \"# Histogram of residuals\\nsns.histplot(data=df_pred, x=\\\"Residuals\\\", kde=True)\\nplt.title(\\\"Normality of Residuals\\\")\\nplt.show()\";\n",
       "                var nbb_cells = Jupyter.notebook.get_cells();\n",
       "                for (var i = 0; i < nbb_cells.length; ++i) {\n",
       "                    if (nbb_cells[i].input_prompt_number == nbb_cell_id) {\n",
       "                        if (nbb_cells[i].get_text() == nbb_unformatted_code) {\n",
       "                             nbb_cells[i].set_text(nbb_formatted_code);\n",
       "                        }\n",
       "                        break;\n",
       "                    }\n",
       "                }\n",
       "            }, 500);\n",
       "            "
      ],
      "text/plain": [
       "<IPython.core.display.Javascript object>"
      ]
     },
     "metadata": {},
     "output_type": "display_data"
    }
   ],
   "source": [
    "# Histogram of residuals\n",
    "sns.histplot(data=df_pred, x=\"Residuals\", kde=True)\n",
    "plt.title(\"Normality of Residuals\")\n",
    "plt.show()"
   ]
  },
  {
   "cell_type": "markdown",
   "id": "62a85534",
   "metadata": {},
   "source": [
    "#### Q-Q plot"
   ]
  },
  {
   "cell_type": "code",
   "execution_count": 38,
   "id": "31775c59",
   "metadata": {},
   "outputs": [
    {
     "data": {
      "image/png": "[encoded data removed]",
      "text/plain": [
       "<Figure size 432x288 with 1 Axes>"
      ]
     },
     "metadata": {},
     "output_type": "display_data"
    },
    {
     "data": {
      "application/javascript": [
       "\n",
       "            setTimeout(function() {\n",
       "                var nbb_cell_id = 38;\n",
       "                var nbb_unformatted_code = \"# checking the Q-Q plot\\nstats.probplot(df_pred[\\\"Residuals\\\"], dist=\\\"norm\\\", plot=pylab)\\nplt.show()\";\n",
       "                var nbb_formatted_code = \"# checking the Q-Q plot\\nstats.probplot(df_pred[\\\"Residuals\\\"], dist=\\\"norm\\\", plot=pylab)\\nplt.show()\";\n",
       "                var nbb_cells = Jupyter.notebook.get_cells();\n",
       "                for (var i = 0; i < nbb_cells.length; ++i) {\n",
       "                    if (nbb_cells[i].input_prompt_number == nbb_cell_id) {\n",
       "                        if (nbb_cells[i].get_text() == nbb_unformatted_code) {\n",
       "                             nbb_cells[i].set_text(nbb_formatted_code);\n",
       "                        }\n",
       "                        break;\n",
       "                    }\n",
       "                }\n",
       "            }, 500);\n",
       "            "
      ],
      "text/plain": [
       "<IPython.core.display.Javascript object>"
      ]
     },
     "metadata": {},
     "output_type": "display_data"
    }
   ],
   "source": [
    "# checking the Q-Q plot\n",
    "stats.probplot(df_pred[\"Residuals\"], dist=\"norm\", plot=pylab)\n",
    "plt.show()"
   ]
  },
  {
   "cell_type": "markdown",
   "id": "f8e11b41",
   "metadata": {},
   "source": [
    "#### Observations:\n",
    "- The distribution of the residuals does have an overall bell shape, but is quite peaked at ~8, with a thicker tail on the negative end.\n",
    "- As we saw during EDA, there are possibly two Guassian's here.\n",
    "- The Q-Q plot and the histogram show that the distribution is left-skewed.\n",
    "- **We cannot strictly say that the assumption of normally distributed residuals is met.**\n",
    "- Our plan is to apply other modeling algorithms, so we will see how they compare."
   ]
  },
  {
   "cell_type": "markdown",
   "id": "c38003b0",
   "metadata": {},
   "source": [
    "### Test for Homoscedasticity"
   ]
  },
  {
   "cell_type": "markdown",
   "id": "910ec18f",
   "metadata": {},
   "source": [
    "#### Goldfeld-Quandt Test"
   ]
  },
  {
   "cell_type": "code",
   "execution_count": 40,
   "id": "df7a74a1",
   "metadata": {},
   "outputs": [
    {
     "data": {
      "text/plain": [
       "[('F statistic', 1.0039280571194993), ('p-value', 0.3496943925977429)]"
      ]
     },
     "execution_count": 40,
     "metadata": {},
     "output_type": "execute_result"
    },
    {
     "data": {
      "application/javascript": [
       "\n",
       "            setTimeout(function() {\n",
       "                var nbb_cell_id = 40;\n",
       "                var nbb_unformatted_code = \"# Goldfeld-quandt test\\nname = [\\\"F statistic\\\", \\\"p-value\\\"]\\ntest = sms.het_goldfeldquandt(df_pred[\\\"Residuals\\\"], X_train)\\nlzip(name, test)\";\n",
       "                var nbb_formatted_code = \"# Goldfeld-quandt test\\nname = [\\\"F statistic\\\", \\\"p-value\\\"]\\ntest = sms.het_goldfeldquandt(df_pred[\\\"Residuals\\\"], X_train)\\nlzip(name, test)\";\n",
       "                var nbb_cells = Jupyter.notebook.get_cells();\n",
       "                for (var i = 0; i < nbb_cells.length; ++i) {\n",
       "                    if (nbb_cells[i].input_prompt_number == nbb_cell_id) {\n",
       "                        if (nbb_cells[i].get_text() == nbb_unformatted_code) {\n",
       "                             nbb_cells[i].set_text(nbb_formatted_code);\n",
       "                        }\n",
       "                        break;\n",
       "                    }\n",
       "                }\n",
       "            }, 500);\n",
       "            "
      ],
      "text/plain": [
       "<IPython.core.display.Javascript object>"
      ]
     },
     "metadata": {},
     "output_type": "display_data"
    }
   ],
   "source": [
    "# Goldfeld-quandt test\n",
    "name = [\"F statistic\", \"p-value\"]\n",
    "test = sms.het_goldfeldquandt(df_pred[\"Residuals\"], X_train)\n",
    "lzip(name, test)"
   ]
  },
  {
   "cell_type": "markdown",
   "id": "205d468c",
   "metadata": {},
   "source": [
    "#### Observations:\n",
    "- Since p-value is > 0.05, the residuals are homoscedastic.\n",
    "- **The assumption of homoscedasticity is met.**\n",
    "- **Not all of the assumptions of linear regression are strictly met.  However, we will accept them as sufficiently met to allow for guarded interpretation in addition to prediction.**"
   ]
  },
  {
   "cell_type": "markdown",
   "id": "5f04a978",
   "metadata": {},
   "source": [
    "## Final Model Summary"
   ]
  },
  {
   "cell_type": "markdown",
   "id": "ef362753",
   "metadata": {},
   "source": [
    "### *olsmodel3* summary"
   ]
  },
  {
   "cell_type": "code",
   "execution_count": 41,
   "id": "68eebd34",
   "metadata": {},
   "outputs": [
    {
     "name": "stdout",
     "output_type": "stream",
     "text": [
      "                            OLS Regression Results                            \n",
      "==============================================================================\n",
      "Dep. Variable:                    age   R-squared:                       0.082\n",
      "Model:                            OLS   Adj. R-squared:                  0.082\n",
      "Method:                 Least Squares   F-statistic:                     317.2\n",
      "Date:                Mon, 10 Oct 2022   Prob (F-statistic):               0.00\n",
      "Time:                        15:10:19   Log-Likelihood:            -3.2161e+05\n",
      "No. Observations:               77661   AIC:                         6.433e+05\n",
      "Df Residuals:                   77638   BIC:                         6.435e+05\n",
      "Df Model:                          22                                         \n",
      "Covariance Type:            nonrobust                                         \n",
      "=======================================================================================================\n",
      "                                          coef    std err          t      P>|t|      [0.025      0.975]\n",
      "-------------------------------------------------------------------------------------------------------\n",
      "const                                  73.5096      0.218    336.694      0.000      73.082      73.937\n",
      "recip_num_references                   10.8913      0.565     19.262      0.000       9.783      12.000\n",
      "years                                   0.1942      0.007     27.583      0.000       0.180       0.208\n",
      "region_Asia                            -2.3833      0.209    -11.384      0.000      -2.794      -1.973\n",
      "region_Central Asia                   -11.2479      1.600     -7.031      0.000     -14.383      -8.112\n",
      "region_Mid-Cent America/Caribbean      -4.1040      0.399    -10.280      0.000      -4.886      -3.321\n",
      "region_Middle East                     -5.0051      0.351    -14.265      0.000      -5.693      -4.317\n",
      "region_North America                    1.3232      0.122     10.814      0.000       1.083       1.563\n",
      "region_Russian Federation              -5.0772      0.443    -11.471      0.000      -5.945      -4.210\n",
      "region_South America                   -3.2719      0.365     -8.960      0.000      -3.988      -2.556\n",
      "region_South East Asia                 -5.7424      0.432    -13.279      0.000      -6.590      -4.895\n",
      "prior_region_Europe                     5.2475      0.322     16.294      0.000       4.616       5.879\n",
      "prior_region_Middle East               -2.9446      1.150     -2.560      0.010      -5.199      -0.690\n",
      "prior_region_Russian Federation         1.9494      0.931      2.094      0.036       0.124       3.775\n",
      "prior_region_South East Asia          -10.5340      1.999     -5.269      0.000     -14.453      -6.615\n",
      "known_for_arts                         -3.0323      0.152    -19.893      0.000      -3.331      -2.734\n",
      "known_for_crime                       -23.2375      0.623    -37.310      0.000     -24.458     -22.017\n",
      "known_for_law_enf_military_operator     2.2432      0.335      6.705      0.000       1.587       2.899\n",
      "known_for_sciences                      3.4550      0.253     13.641      0.000       2.959       3.951\n",
      "known_for_spiritual                     3.5890      0.388      9.253      0.000       2.829       4.349\n",
      "known_for_sports                       -7.0375      0.176    -40.023      0.000      -7.382      -6.693\n",
      "known_for_three_to_five                 3.0567      0.511      5.980      0.000       2.055       4.058\n",
      "known_for_two                           1.1356      0.191      5.948      0.000       0.761       1.510\n",
      "==============================================================================\n",
      "Omnibus:                    10525.183   Durbin-Watson:                   2.020\n",
      "Prob(Omnibus):                  0.000   Jarque-Bera (JB):            15846.751\n",
      "Skew:                          -0.990   Prob(JB):                         0.00\n",
      "Kurtosis:                       3.989   Cond. No.                         725.\n",
      "==============================================================================\n",
      "\n",
      "Notes:\n",
      "[1] Standard Errors assume that the covariance matrix of the errors is correctly specified.\n"
     ]
    },
    {
     "data": {
      "application/javascript": [
       "\n",
       "            setTimeout(function() {\n",
       "                var nbb_cell_id = 41;\n",
       "                var nbb_unformatted_code = \"print(olsmodel3.summary())\";\n",
       "                var nbb_formatted_code = \"print(olsmodel3.summary())\";\n",
       "                var nbb_cells = Jupyter.notebook.get_cells();\n",
       "                for (var i = 0; i < nbb_cells.length; ++i) {\n",
       "                    if (nbb_cells[i].input_prompt_number == nbb_cell_id) {\n",
       "                        if (nbb_cells[i].get_text() == nbb_unformatted_code) {\n",
       "                             nbb_cells[i].set_text(nbb_formatted_code);\n",
       "                        }\n",
       "                        break;\n",
       "                    }\n",
       "                }\n",
       "            }, 500);\n",
       "            "
      ],
      "text/plain": [
       "<IPython.core.display.Javascript object>"
      ]
     },
     "metadata": {},
     "output_type": "display_data"
    }
   ],
   "source": [
    "print(olsmodel3.summary())"
   ]
  },
  {
   "cell_type": "markdown",
   "id": "671752ec",
   "metadata": {},
   "source": [
    "#### Final Model Performance on Train Set"
   ]
  },
  {
   "cell_type": "code",
   "execution_count": 42,
   "id": "0751ef97",
   "metadata": {},
   "outputs": [
    {
     "name": "stdout",
     "output_type": "stream",
     "text": [
      "Training Performance\n",
      "\n"
     ]
    },
    {
     "data": {
      "text/html": [
       "<div>\n",
       "<style scoped>\n",
       "    .dataframe tbody tr th:only-of-type {\n",
       "        vertical-align: middle;\n",
       "    }\n",
       "\n",
       "    .dataframe tbody tr th {\n",
       "        vertical-align: top;\n",
       "    }\n",
       "\n",
       "    .dataframe thead th {\n",
       "        text-align: right;\n",
       "    }\n",
       "</style>\n",
       "<table border=\"1\" class=\"dataframe\">\n",
       "  <thead>\n",
       "    <tr style=\"text-align: right;\">\n",
       "      <th></th>\n",
       "      <th>RMSE</th>\n",
       "      <th>MAE</th>\n",
       "      <th>R-squared</th>\n",
       "      <th>Adj. R-squared</th>\n",
       "      <th>MAPE</th>\n",
       "    </tr>\n",
       "  </thead>\n",
       "  <tbody>\n",
       "    <tr>\n",
       "      <th>0</th>\n",
       "      <td>15.213844</td>\n",
       "      <td>11.7998</td>\n",
       "      <td>0.082473</td>\n",
       "      <td>0.082201</td>\n",
       "      <td>19.63805</td>\n",
       "    </tr>\n",
       "  </tbody>\n",
       "</table>\n",
       "</div>"
      ],
      "text/plain": [
       "        RMSE      MAE  R-squared  Adj. R-squared      MAPE\n",
       "0  15.213844  11.7998   0.082473        0.082201  19.63805"
      ]
     },
     "execution_count": 42,
     "metadata": {},
     "output_type": "execute_result"
    },
    {
     "data": {
      "application/javascript": [
       "\n",
       "            setTimeout(function() {\n",
       "                var nbb_cell_id = 42;\n",
       "                var nbb_unformatted_code = \"# Checking final model performance on train set\\nprint(\\\"Training Performance\\\\n\\\")\\nolsmodel_train_perf = model_performance_regression(olsmodel3, X_train, y_train)\\nolsmodel_train_perf\";\n",
       "                var nbb_formatted_code = \"# Checking final model performance on train set\\nprint(\\\"Training Performance\\\\n\\\")\\nolsmodel_train_perf = model_performance_regression(olsmodel3, X_train, y_train)\\nolsmodel_train_perf\";\n",
       "                var nbb_cells = Jupyter.notebook.get_cells();\n",
       "                for (var i = 0; i < nbb_cells.length; ++i) {\n",
       "                    if (nbb_cells[i].input_prompt_number == nbb_cell_id) {\n",
       "                        if (nbb_cells[i].get_text() == nbb_unformatted_code) {\n",
       "                             nbb_cells[i].set_text(nbb_formatted_code);\n",
       "                        }\n",
       "                        break;\n",
       "                    }\n",
       "                }\n",
       "            }, 500);\n",
       "            "
      ],
      "text/plain": [
       "<IPython.core.display.Javascript object>"
      ]
     },
     "metadata": {},
     "output_type": "display_data"
    }
   ],
   "source": [
    "# Checking final model performance on train set\n",
    "print(\"Training Performance\\n\")\n",
    "olsmodel_train_perf = model_performance_regression(olsmodel3, X_train, y_train)\n",
    "olsmodel_train_perf"
   ]
  },
  {
   "cell_type": "markdown",
   "id": "c1892988",
   "metadata": {},
   "source": [
    "#### Final Model Performance on Validation Set"
   ]
  },
  {
   "cell_type": "code",
   "execution_count": 43,
   "id": "36fce43c",
   "metadata": {},
   "outputs": [
    {
     "name": "stdout",
     "output_type": "stream",
     "text": [
      "Testing Performance\n",
      "\n"
     ]
    },
    {
     "data": {
      "text/html": [
       "<div>\n",
       "<style scoped>\n",
       "    .dataframe tbody tr th:only-of-type {\n",
       "        vertical-align: middle;\n",
       "    }\n",
       "\n",
       "    .dataframe tbody tr th {\n",
       "        vertical-align: top;\n",
       "    }\n",
       "\n",
       "    .dataframe thead th {\n",
       "        text-align: right;\n",
       "    }\n",
       "</style>\n",
       "<table border=\"1\" class=\"dataframe\">\n",
       "  <thead>\n",
       "    <tr style=\"text-align: right;\">\n",
       "      <th></th>\n",
       "      <th>RMSE</th>\n",
       "      <th>MAE</th>\n",
       "      <th>R-squared</th>\n",
       "      <th>Adj. R-squared</th>\n",
       "      <th>MAPE</th>\n",
       "    </tr>\n",
       "  </thead>\n",
       "  <tbody>\n",
       "    <tr>\n",
       "      <th>0</th>\n",
       "      <td>15.102388</td>\n",
       "      <td>11.735861</td>\n",
       "      <td>0.079484</td>\n",
       "      <td>0.078393</td>\n",
       "      <td>19.331971</td>\n",
       "    </tr>\n",
       "  </tbody>\n",
       "</table>\n",
       "</div>"
      ],
      "text/plain": [
       "        RMSE        MAE  R-squared  Adj. R-squared       MAPE\n",
       "0  15.102388  11.735861   0.079484        0.078393  19.331971"
      ]
     },
     "execution_count": 43,
     "metadata": {},
     "output_type": "execute_result"
    },
    {
     "data": {
      "application/javascript": [
       "\n",
       "            setTimeout(function() {\n",
       "                var nbb_cell_id = 43;\n",
       "                var nbb_unformatted_code = \"# Checking final model performance on test set\\nprint(\\\"Testing Performance\\\\n\\\")\\nolsmodel_test_perf = model_performance_regression(olsmodel3, X_test, y_test)\\nolsmodel_test_perf\";\n",
       "                var nbb_formatted_code = \"# Checking final model performance on test set\\nprint(\\\"Testing Performance\\\\n\\\")\\nolsmodel_test_perf = model_performance_regression(olsmodel3, X_test, y_test)\\nolsmodel_test_perf\";\n",
       "                var nbb_cells = Jupyter.notebook.get_cells();\n",
       "                for (var i = 0; i < nbb_cells.length; ++i) {\n",
       "                    if (nbb_cells[i].input_prompt_number == nbb_cell_id) {\n",
       "                        if (nbb_cells[i].get_text() == nbb_unformatted_code) {\n",
       "                             nbb_cells[i].set_text(nbb_formatted_code);\n",
       "                        }\n",
       "                        break;\n",
       "                    }\n",
       "                }\n",
       "            }, 500);\n",
       "            "
      ],
      "text/plain": [
       "<IPython.core.display.Javascript object>"
      ]
     },
     "metadata": {},
     "output_type": "display_data"
    }
   ],
   "source": [
    "# Checking final model performance on test set\n",
    "print(\"Testing Performance\\n\")\n",
    "olsmodel_test_perf = model_performance_regression(olsmodel3, X_test, y_test)\n",
    "olsmodel_test_perf"
   ]
  },
  {
   "cell_type": "markdown",
   "id": "a6d0f540",
   "metadata": {},
   "source": [
    "#### Observations:\n",
    "- With $R^2$ of only 0.082 on the train set, our model is underfitting.  The predictors are only able to explain ~8% of the variation from the mean actual age.\n",
    "- Test $R^2$ of 0.079 indicates that the model is not overfitting, as it compares to that of the test set along with other measures.\n",
    "- MAE of 11.7 suggests that the model can predict within a mean error of 11.7 years on the test data.\n",
    "- MAPE of 19.3 on the test data means that we aree able to predict within ~19.3% of age."
   ]
  },
  {
   "cell_type": "markdown",
   "id": "1a5bc920",
   "metadata": {},
   "source": [
    "## Interpreting *olsmodel3* Parameters"
   ]
  },
  {
   "cell_type": "code",
   "execution_count": 45,
   "id": "306ffcd0",
   "metadata": {},
   "outputs": [
    {
     "name": "stdout",
     "output_type": "stream",
     "text": [
      "Features with interpretable coefficient confidence intervals: \n",
      "\n",
      " ['recip_num_references', 'years', 'region_Asia', 'region_Central Asia', 'region_Mid-Cent America/Caribbean', 'region_Middle East', 'region_North America', 'region_Russian Federation', 'region_South America', 'region_South East Asia', 'prior_region_Europe', 'prior_region_Middle East', 'prior_region_Russian Federation', 'prior_region_South East Asia', 'known_for_arts', 'known_for_crime', 'known_for_law_enf_military_operator', 'known_for_sciences', 'known_for_spiritual', 'known_for_sports', 'known_for_three_to_five', 'known_for_two']\n"
     ]
    },
    {
     "data": {
      "application/javascript": [
       "\n",
       "            setTimeout(function() {\n",
       "                var nbb_cell_id = 45;\n",
       "                var nbb_unformatted_code = \"# For loop to make list of parameters with p-values < 0.05\\n# Final model predictors\\nfinal_pred = X_train\\n\\n# initial list of all independent variable columns excluding constant\\ncols = final_pred.columns[1:]\\n\\n# initial list of columns to interpret\\nfeatures_to_interp = []\\n\\n# for loop to create list of features with p < 0.05\\nfor feature in cols:\\n    p_value = olsmodel3.pvalues[feature]\\n    if p_value < 0.05:\\n        features_to_interp.append(feature)\\n\\nprint(\\n    \\\"Features with interpretable coefficient confidence intervals: \\\\n\\\\n\\\", feat_to_interp\\n)\";\n",
       "                var nbb_formatted_code = \"# For loop to make list of parameters with p-values < 0.05\\n# Final model predictors\\nfinal_pred = X_train\\n\\n# initial list of all independent variable columns excluding constant\\ncols = final_pred.columns[1:]\\n\\n# initial list of columns to interpret\\nfeatures_to_interp = []\\n\\n# for loop to create list of features with p < 0.05\\nfor feature in cols:\\n    p_value = olsmodel3.pvalues[feature]\\n    if p_value < 0.05:\\n        features_to_interp.append(feature)\\n\\nprint(\\n    \\\"Features with interpretable coefficient confidence intervals: \\\\n\\\\n\\\", feat_to_interp\\n)\";\n",
       "                var nbb_cells = Jupyter.notebook.get_cells();\n",
       "                for (var i = 0; i < nbb_cells.length; ++i) {\n",
       "                    if (nbb_cells[i].input_prompt_number == nbb_cell_id) {\n",
       "                        if (nbb_cells[i].get_text() == nbb_unformatted_code) {\n",
       "                             nbb_cells[i].set_text(nbb_formatted_code);\n",
       "                        }\n",
       "                        break;\n",
       "                    }\n",
       "                }\n",
       "            }, 500);\n",
       "            "
      ],
      "text/plain": [
       "<IPython.core.display.Javascript object>"
      ]
     },
     "metadata": {},
     "output_type": "display_data"
    }
   ],
   "source": [
    "# For loop to make list of parameters with p-values < 0.05\n",
    "# Final model predictors\n",
    "final_pred = X_train\n",
    "\n",
    "# initial list of all independent variable columns excluding constant\n",
    "cols = final_pred.columns[1:]\n",
    "\n",
    "# initial list of columns to interpret\n",
    "features_to_interp = []\n",
    "\n",
    "# for loop to create list of features with p < 0.05\n",
    "for feature in cols:\n",
    "    p_value = olsmodel3.pvalues[feature]\n",
    "    if p_value < 0.05:\n",
    "        features_to_interp.append(feature)\n",
    "\n",
    "print(\n",
    "    \"Features with interpretable coefficient confidence intervals: \\n\\n\", feat_to_interp\n",
    ")"
   ]
  },
  {
   "cell_type": "markdown",
   "id": "d1c6df0e",
   "metadata": {},
   "source": [
    "#### Interpreting Final Features Coefficients (p-values < 0.05)"
   ]
  },
  {
   "cell_type": "code",
   "execution_count": 87,
   "id": "c3a9444e",
   "metadata": {},
   "outputs": [
    {
     "data": {
      "text/html": [
       "<div>\n",
       "<style scoped>\n",
       "    .dataframe tbody tr th:only-of-type {\n",
       "        vertical-align: middle;\n",
       "    }\n",
       "\n",
       "    .dataframe tbody tr th {\n",
       "        vertical-align: top;\n",
       "    }\n",
       "\n",
       "    .dataframe thead th {\n",
       "        text-align: right;\n",
       "    }\n",
       "</style>\n",
       "<table border=\"1\" class=\"dataframe\">\n",
       "  <thead>\n",
       "    <tr style=\"text-align: right;\">\n",
       "      <th></th>\n",
       "      <th>Feature</th>\n",
       "      <th>Coefficient</th>\n",
       "      <th>Impact on Age (all else constant; compared to reference levels for category)</th>\n",
       "    </tr>\n",
       "  </thead>\n",
       "  <tbody>\n",
       "    <tr>\n",
       "      <th>0</th>\n",
       "      <td>recip_num_references</td>\n",
       "      <td>10.891279</td>\n",
       "      <td>geometric decrease (*0.11) with each 10-fold increase in num_references</td>\n",
       "    </tr>\n",
       "    <tr>\n",
       "      <th>1</th>\n",
       "      <td>years</td>\n",
       "      <td>0.194223</td>\n",
       "      <td>1.94 year change with 10 unit change in years</td>\n",
       "    </tr>\n",
       "    <tr>\n",
       "      <th>2</th>\n",
       "      <td>region_Asia</td>\n",
       "      <td>-2.383311</td>\n",
       "      <td>-2.38 year change with region_Asia</td>\n",
       "    </tr>\n",
       "    <tr>\n",
       "      <th>3</th>\n",
       "      <td>region_Central Asia</td>\n",
       "      <td>-11.247874</td>\n",
       "      <td>-11.25 year change with region_Central Asia</td>\n",
       "    </tr>\n",
       "    <tr>\n",
       "      <th>4</th>\n",
       "      <td>region_Mid-Cent America/Caribbean</td>\n",
       "      <td>-4.103966</td>\n",
       "      <td>-4.1 year change with region_Mid-Cent America/Caribbean</td>\n",
       "    </tr>\n",
       "    <tr>\n",
       "      <th>5</th>\n",
       "      <td>region_Middle East</td>\n",
       "      <td>-5.005121</td>\n",
       "      <td>-5.01 year change with region_Middle East</td>\n",
       "    </tr>\n",
       "    <tr>\n",
       "      <th>6</th>\n",
       "      <td>region_North America</td>\n",
       "      <td>1.323155</td>\n",
       "      <td>1.32 year change with region_North America</td>\n",
       "    </tr>\n",
       "    <tr>\n",
       "      <th>7</th>\n",
       "      <td>region_Russian Federation</td>\n",
       "      <td>-5.077209</td>\n",
       "      <td>-5.08 year change with region_Russian Federation</td>\n",
       "    </tr>\n",
       "    <tr>\n",
       "      <th>8</th>\n",
       "      <td>region_South America</td>\n",
       "      <td>-3.271877</td>\n",
       "      <td>-3.27 year change with region_South America</td>\n",
       "    </tr>\n",
       "    <tr>\n",
       "      <th>9</th>\n",
       "      <td>region_South East Asia</td>\n",
       "      <td>-5.742372</td>\n",
       "      <td>-5.74 year change with region_South East Asia</td>\n",
       "    </tr>\n",
       "    <tr>\n",
       "      <th>10</th>\n",
       "      <td>prior_region_Europe</td>\n",
       "      <td>5.247505</td>\n",
       "      <td>5.25 year change with prior_region_Europe</td>\n",
       "    </tr>\n",
       "    <tr>\n",
       "      <th>11</th>\n",
       "      <td>prior_region_Middle East</td>\n",
       "      <td>-2.944610</td>\n",
       "      <td>-2.94 year change with prior_region_Middle East</td>\n",
       "    </tr>\n",
       "    <tr>\n",
       "      <th>12</th>\n",
       "      <td>prior_region_Russian Federation</td>\n",
       "      <td>1.949430</td>\n",
       "      <td>1.95 year change with prior_region_Russian Federation</td>\n",
       "    </tr>\n",
       "    <tr>\n",
       "      <th>13</th>\n",
       "      <td>prior_region_South East Asia</td>\n",
       "      <td>-10.534035</td>\n",
       "      <td>-10.53 year change with prior_region_South East Asia</td>\n",
       "    </tr>\n",
       "    <tr>\n",
       "      <th>14</th>\n",
       "      <td>known_for_arts</td>\n",
       "      <td>-3.032343</td>\n",
       "      <td>-3.03 year change with known_for_arts</td>\n",
       "    </tr>\n",
       "    <tr>\n",
       "      <th>15</th>\n",
       "      <td>known_for_crime</td>\n",
       "      <td>-23.237494</td>\n",
       "      <td>-23.24 year change with known_for_crime</td>\n",
       "    </tr>\n",
       "    <tr>\n",
       "      <th>16</th>\n",
       "      <td>known_for_law_enf_military_operator</td>\n",
       "      <td>2.243160</td>\n",
       "      <td>2.24 year change with known_for_law_enf_military_operator</td>\n",
       "    </tr>\n",
       "    <tr>\n",
       "      <th>17</th>\n",
       "      <td>known_for_sciences</td>\n",
       "      <td>3.454979</td>\n",
       "      <td>3.45 year change with known_for_sciences</td>\n",
       "    </tr>\n",
       "    <tr>\n",
       "      <th>18</th>\n",
       "      <td>known_for_spiritual</td>\n",
       "      <td>3.588980</td>\n",
       "      <td>3.59 year change with known_for_spiritual</td>\n",
       "    </tr>\n",
       "    <tr>\n",
       "      <th>19</th>\n",
       "      <td>known_for_sports</td>\n",
       "      <td>-7.037493</td>\n",
       "      <td>-7.04 year change with known_for_sports</td>\n",
       "    </tr>\n",
       "    <tr>\n",
       "      <th>20</th>\n",
       "      <td>known_for_three_to_five</td>\n",
       "      <td>3.056693</td>\n",
       "      <td>3.06 year change with known_for_three_to_five</td>\n",
       "    </tr>\n",
       "    <tr>\n",
       "      <th>21</th>\n",
       "      <td>known_for_two</td>\n",
       "      <td>1.135623</td>\n",
       "      <td>1.14 year change with known_for_two</td>\n",
       "    </tr>\n",
       "  </tbody>\n",
       "</table>\n",
       "</div>"
      ],
      "text/plain": [
       "                                Feature  Coefficient  \\\n",
       "0                  recip_num_references    10.891279   \n",
       "1                                 years     0.194223   \n",
       "2                           region_Asia    -2.383311   \n",
       "3                   region_Central Asia   -11.247874   \n",
       "4     region_Mid-Cent America/Caribbean    -4.103966   \n",
       "5                    region_Middle East    -5.005121   \n",
       "6                  region_North America     1.323155   \n",
       "7             region_Russian Federation    -5.077209   \n",
       "8                  region_South America    -3.271877   \n",
       "9                region_South East Asia    -5.742372   \n",
       "10                  prior_region_Europe     5.247505   \n",
       "11             prior_region_Middle East    -2.944610   \n",
       "12      prior_region_Russian Federation     1.949430   \n",
       "13         prior_region_South East Asia   -10.534035   \n",
       "14                       known_for_arts    -3.032343   \n",
       "15                      known_for_crime   -23.237494   \n",
       "16  known_for_law_enf_military_operator     2.243160   \n",
       "17                   known_for_sciences     3.454979   \n",
       "18                  known_for_spiritual     3.588980   \n",
       "19                     known_for_sports    -7.037493   \n",
       "20              known_for_three_to_five     3.056693   \n",
       "21                        known_for_two     1.135623   \n",
       "\n",
       "   Impact on Age (all else constant; compared to reference levels for category)  \n",
       "0       geometric decrease (*0.11) with each 10-fold increase in num_references  \n",
       "1                                 1.94 year change with 10 unit change in years  \n",
       "2                                            -2.38 year change with region_Asia  \n",
       "3                                   -11.25 year change with region_Central Asia  \n",
       "4                       -4.1 year change with region_Mid-Cent America/Caribbean  \n",
       "5                                     -5.01 year change with region_Middle East  \n",
       "6                                    1.32 year change with region_North America  \n",
       "7                              -5.08 year change with region_Russian Federation  \n",
       "8                                   -3.27 year change with region_South America  \n",
       "9                                 -5.74 year change with region_South East Asia  \n",
       "10                                    5.25 year change with prior_region_Europe  \n",
       "11                              -2.94 year change with prior_region_Middle East  \n",
       "12                        1.95 year change with prior_region_Russian Federation  \n",
       "13                         -10.53 year change with prior_region_South East Asia  \n",
       "14                                        -3.03 year change with known_for_arts  \n",
       "15                                      -23.24 year change with known_for_crime  \n",
       "16                    2.24 year change with known_for_law_enf_military_operator  \n",
       "17                                     3.45 year change with known_for_sciences  \n",
       "18                                    3.59 year change with known_for_spiritual  \n",
       "19                                      -7.04 year change with known_for_sports  \n",
       "20                                3.06 year change with known_for_three_to_five  \n",
       "21                                          1.14 year change with known_for_two  "
      ]
     },
     "execution_count": 87,
     "metadata": {},
     "output_type": "execute_result"
    },
    {
     "data": {
      "application/javascript": [
       "\n",
       "            setTimeout(function() {\n",
       "                var nbb_cell_id = 87;\n",
       "                var nbb_unformatted_code = \"# creating a dataframe of features, coefficients, and interpretations\\ninterp_df = pd.DataFrame(olsmodel3.params).loc[features_to_interp, :].reset_index()\\ninterp_df.rename({\\\"index\\\": \\\"Feature\\\", 0: \\\"Coefficient\\\"}, axis=1, inplace=True)\\n\\n# title for interpretation column\\ntitle = \\\"Impact on Age (all else constant; compared to reference levels for category)\\\"\\n\\n# for loop to indicate how used price % changes in relation to feature dependent on feature type/transformation\\nfor i, feature in enumerate(interp_df[\\\"Feature\\\"]):\\n\\n    # for mutliplicative inverse transformed features based on 10-fold factor change in feature\\n    if feature.startswith(\\\"recip\\\"):\\n        interp_df.loc[\\n            i, title\\n        ] = f\\\"geometric decrease (*{round(((interp_df.loc[i, 'Coefficient'])*.01), 2)}) with each 10-fold increase in {feature.removeprefix('recip_')}\\\"\\n\\n    # for categorical one hot encoded\\n    elif feature.startswith('region'):\\n        interp_df.loc[\\n            i, title\\n        ] = f\\\"{np.round((interp_df.loc[i, 'Coefficient']), 2)} year change with {feature}\\\"\\n        \\n    # for categorical one hot encoded\\n    elif feature.startswith('prior_region'):\\n        interp_df.loc[\\n            i, title\\n        ] = f\\\"{np.round((interp_df.loc[i, 'Coefficient']), 2)} year change with {feature}\\\"\\n\\n    # for categorical one hot encoded\\n    elif feature.startswith('known_for'):\\n        interp_df.loc[\\n            i, title\\n        ] = f\\\"{np.round((interp_df.loc[i, 'Coefficient']), 2)} year change with {feature}\\\"\\n    # for numeric not transformed\\n    else:\\n        interp_df.loc[\\n            i, title\\n        ] = f\\\"{np.round(interp_df.loc[i, 'Coefficient']*10, 2)} year change with 10 unit change in {feature}\\\"\\n\\npd.set_option(\\\"max_colwidth\\\", 100)\\ninterp_df\";\n",
       "                var nbb_formatted_code = \"# creating a dataframe of features, coefficients, and interpretations\\ninterp_df = pd.DataFrame(olsmodel3.params).loc[features_to_interp, :].reset_index()\\ninterp_df.rename({\\\"index\\\": \\\"Feature\\\", 0: \\\"Coefficient\\\"}, axis=1, inplace=True)\\n\\n# title for interpretation column\\ntitle = \\\"Impact on Age (all else constant; compared to reference levels for category)\\\"\\n\\n# for loop to indicate how used price % changes in relation to feature dependent on feature type/transformation\\nfor i, feature in enumerate(interp_df[\\\"Feature\\\"]):\\n\\n    # for mutliplicative inverse transformed features based on 10-fold factor change in feature\\n    if feature.startswith(\\\"recip\\\"):\\n        interp_df.loc[\\n            i, title\\n        ] = f\\\"geometric decrease (*{round(((interp_df.loc[i, 'Coefficient'])*.01), 2)}) with each 10-fold increase in {feature.removeprefix('recip_')}\\\"\\n\\n    # for categorical one hot encoded\\n    elif feature.startswith(\\\"region\\\"):\\n        interp_df.loc[\\n            i, title\\n        ] = f\\\"{np.round((interp_df.loc[i, 'Coefficient']), 2)} year change with {feature}\\\"\\n\\n    # for categorical one hot encoded\\n    elif feature.startswith(\\\"prior_region\\\"):\\n        interp_df.loc[\\n            i, title\\n        ] = f\\\"{np.round((interp_df.loc[i, 'Coefficient']), 2)} year change with {feature}\\\"\\n\\n    # for categorical one hot encoded\\n    elif feature.startswith(\\\"known_for\\\"):\\n        interp_df.loc[\\n            i, title\\n        ] = f\\\"{np.round((interp_df.loc[i, 'Coefficient']), 2)} year change with {feature}\\\"\\n    # for numeric not transformed\\n    else:\\n        interp_df.loc[\\n            i, title\\n        ] = f\\\"{np.round(interp_df.loc[i, 'Coefficient']*10, 2)} year change with 10 unit change in {feature}\\\"\\n\\npd.set_option(\\\"max_colwidth\\\", 100)\\ninterp_df\";\n",
       "                var nbb_cells = Jupyter.notebook.get_cells();\n",
       "                for (var i = 0; i < nbb_cells.length; ++i) {\n",
       "                    if (nbb_cells[i].input_prompt_number == nbb_cell_id) {\n",
       "                        if (nbb_cells[i].get_text() == nbb_unformatted_code) {\n",
       "                             nbb_cells[i].set_text(nbb_formatted_code);\n",
       "                        }\n",
       "                        break;\n",
       "                    }\n",
       "                }\n",
       "            }, 500);\n",
       "            "
      ],
      "text/plain": [
       "<IPython.core.display.Javascript object>"
      ]
     },
     "metadata": {},
     "output_type": "display_data"
    }
   ],
   "source": [
    "# creating a dataframe of features, coefficients, and interpretations\n",
    "interp_df = pd.DataFrame(olsmodel3.params).loc[features_to_interp, :].reset_index()\n",
    "interp_df.rename({\"index\": \"Feature\", 0: \"Coefficient\"}, axis=1, inplace=True)\n",
    "\n",
    "# title for interpretation column\n",
    "title = \"Impact on Age (all else constant; compared to reference levels for category)\"\n",
    "\n",
    "# for loop to indicate how used price % changes in relation to feature dependent on feature type/transformation\n",
    "for i, feature in enumerate(interp_df[\"Feature\"]):\n",
    "\n",
    "    # for mutliplicative inverse transformed features based on 10-fold factor change in feature\n",
    "    if feature.startswith(\"recip\"):\n",
    "        interp_df.loc[\n",
    "            i, title\n",
    "        ] = f\"geometric decrease (*{round(((interp_df.loc[i, 'Coefficient'])*.01), 2)}) with each 10-fold increase in {feature.removeprefix('recip_')}\"\n",
    "\n",
    "    # for categorical one hot encoded\n",
    "    elif feature.startswith('region'):\n",
    "        interp_df.loc[\n",
    "            i, title\n",
    "        ] = f\"{np.round((interp_df.loc[i, 'Coefficient']), 2)} year change with {feature}\"\n",
    "        \n",
    "    # for categorical one hot encoded\n",
    "    elif feature.startswith('prior_region'):\n",
    "        interp_df.loc[\n",
    "            i, title\n",
    "        ] = f\"{np.round((interp_df.loc[i, 'Coefficient']), 2)} year change with {feature}\"\n",
    "\n",
    "    # for categorical one hot encoded\n",
    "    elif feature.startswith('known_for'):\n",
    "        interp_df.loc[\n",
    "            i, title\n",
    "        ] = f\"{np.round((interp_df.loc[i, 'Coefficient']), 2)} year change with {feature}\"\n",
    "    # for numeric not transformed\n",
    "    else:\n",
    "        interp_df.loc[\n",
    "            i, title\n",
    "        ] = f\"{np.round(interp_df.loc[i, 'Coefficient']*10, 2)} year change with 10 unit change in {feature}\"\n",
    "\n",
    "pd.set_option(\"max_colwidth\", 100)\n",
    "interp_df\n"
   ]
  },
  {
   "cell_type": "code",
   "execution_count": null,
   "id": "1236e5c1",
   "metadata": {},
   "outputs": [],
   "source": []
  },
  {
   "cell_type": "code",
   "execution_count": null,
   "id": "5c1cd9b3",
   "metadata": {},
   "outputs": [],
   "source": []
  },
  {
   "cell_type": "code",
   "execution_count": null,
   "id": "14c6bb09",
   "metadata": {},
   "outputs": [],
   "source": []
  },
  {
   "cell_type": "code",
   "execution_count": null,
   "id": "ecbe5c5d",
   "metadata": {},
   "outputs": [],
   "source": [
    "print(\"dunzo!\")\n",
    "\n",
    "# Sound notification when cell executes\n",
    "chime.success()"
   ]
  },
  {
   "cell_type": "code",
   "execution_count": null,
   "id": "0271a07f",
   "metadata": {},
   "outputs": [],
   "source": []
  },
  {
   "cell_type": "markdown",
   "id": "0f66697e",
   "metadata": {},
   "source": [
    "#### Observations:\n",
    "- We will now save our dataset and pick back up in a new notebook."
   ]
  },
  {
   "cell_type": "markdown",
   "id": "1113a242",
   "metadata": {},
   "source": [
    "### Exporting Dataset to SQLite Database [wp_life_expect_clean.db]()"
   ]
  },
  {
   "cell_type": "code",
   "execution_count": null,
   "id": "6008ac61",
   "metadata": {},
   "outputs": [],
   "source": [
    "# # Exporting dataframe\n",
    "\n",
    "# # Saving dataset in a SQLite database\n",
    "# conn = sql.connect(\"wp_life_expect_clean.db\")\n",
    "# df.to_sql(\"wp_life_expect_clean\", conn, index=False)"
   ]
  },
  {
   "cell_type": "code",
   "execution_count": null,
   "id": "a36c0663",
   "metadata": {},
   "outputs": [],
   "source": [
    "print('Complete')\n",
    "\n",
    "# Chime notification when cell executes\n",
    "chime.success()"
   ]
  },
  {
   "cell_type": "markdown",
   "id": "11aacfcc",
   "metadata": {},
   "source": [
    "# [Proceed to Data Cleaning Part ]()"
   ]
  }
 ],
 "metadata": {
  "kernelspec": {
   "display_name": "Python 3 (ipykernel)",
   "language": "python",
   "name": "python3"
  },
  "language_info": {
   "codemirror_mode": {
    "name": "ipython",
    "version": 3
   },
   "file_extension": ".py",
   "mimetype": "text/x-python",
   "name": "python",
   "nbconvert_exporter": "python",
   "pygments_lexer": "ipython3",
   "version": "3.9.12"
  }
 },
 "nbformat": 4,
 "nbformat_minor": 5
}
