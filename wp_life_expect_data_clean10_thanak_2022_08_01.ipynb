{
 "cells": [
  {
   "cell_type": "markdown",
   "id": "316a0779",
   "metadata": {},
   "source": [
    "# Wikipedia Notable Life Expectancies\n",
    "# [Notebook  11: Data Cleaning Part 10](https://github.com/teresahanak/wikipedia-life-expectancy/blob/main/wp_life_expect_data_clean10_thanak_2022_08_01.ipynb)\n",
    "### Context\n",
    "\n",
    "The\n",
    "### Objective\n",
    "\n",
    "The\n",
    "### Data Dictionary\n",
    "- Feature: Description"
   ]
  },
  {
   "cell_type": "markdown",
   "id": "99245d51",
   "metadata": {},
   "source": [
    "### Importing Libraries"
   ]
  },
  {
   "cell_type": "code",
   "execution_count": 1,
   "id": "453bba83",
   "metadata": {},
   "outputs": [
    {
     "data": {
      "application/javascript": [
       "\n",
       "            setTimeout(function() {\n",
       "                var nbb_cell_id = 1;\n",
       "                var nbb_unformatted_code = \"# To structure code automatically\\n%load_ext nb_black\\n\\n# To import/export sqlite databases\\nimport sqlite3 as sql\\n\\n# To save/open python objects in pickle file\\nimport pickle\\n\\n# To help with reading, cleaning, and manipulating data\\nimport pandas as pd\\nimport numpy as np\\nimport re\\n\\n# To define maximum number of columns to be displayed in a dataframe\\npd.set_option(\\\"display.max_columns\\\", None)\\n# To define the maximum number of rows to be displayed in a dataframe\\npd.set_option(\\\"display.max_rows\\\", 200)\\n\\n# To supress warnings\\n# import warnings\\n\\n# warnings.filterwarnings(\\\"ignore\\\")\\n\\n# To set some visualization attributes\\npd.set_option(\\\"max_colwidth\\\", 150)\\n\\n# To play auditory cue when cell has executed, has warning, or has error and set chime theme\\nimport chime\\n\\nchime.theme(\\\"zelda\\\")\";\n",
       "                var nbb_formatted_code = \"# To structure code automatically\\n%load_ext nb_black\\n\\n# To import/export sqlite databases\\nimport sqlite3 as sql\\n\\n# To save/open python objects in pickle file\\nimport pickle\\n\\n# To help with reading, cleaning, and manipulating data\\nimport pandas as pd\\nimport numpy as np\\nimport re\\n\\n# To define maximum number of columns to be displayed in a dataframe\\npd.set_option(\\\"display.max_columns\\\", None)\\n# To define the maximum number of rows to be displayed in a dataframe\\npd.set_option(\\\"display.max_rows\\\", 200)\\n\\n# To supress warnings\\n# import warnings\\n\\n# warnings.filterwarnings(\\\"ignore\\\")\\n\\n# To set some visualization attributes\\npd.set_option(\\\"max_colwidth\\\", 150)\\n\\n# To play auditory cue when cell has executed, has warning, or has error and set chime theme\\nimport chime\\n\\nchime.theme(\\\"zelda\\\")\";\n",
       "                var nbb_cells = Jupyter.notebook.get_cells();\n",
       "                for (var i = 0; i < nbb_cells.length; ++i) {\n",
       "                    if (nbb_cells[i].input_prompt_number == nbb_cell_id) {\n",
       "                        if (nbb_cells[i].get_text() == nbb_unformatted_code) {\n",
       "                             nbb_cells[i].set_text(nbb_formatted_code);\n",
       "                        }\n",
       "                        break;\n",
       "                    }\n",
       "                }\n",
       "            }, 500);\n",
       "            "
      ],
      "text/plain": [
       "<IPython.core.display.Javascript object>"
      ]
     },
     "metadata": {},
     "output_type": "display_data"
    }
   ],
   "source": [
    "# To structure code automatically\n",
    "%load_ext nb_black\n",
    "\n",
    "# To import/export sqlite databases\n",
    "import sqlite3 as sql\n",
    "\n",
    "# To save/open python objects in pickle file\n",
    "import pickle\n",
    "\n",
    "# To help with reading, cleaning, and manipulating data\n",
    "import pandas as pd\n",
    "import numpy as np\n",
    "import re\n",
    "\n",
    "# To define maximum number of columns to be displayed in a dataframe\n",
    "pd.set_option(\"display.max_columns\", None)\n",
    "# To define the maximum number of rows to be displayed in a dataframe\n",
    "pd.set_option(\"display.max_rows\", 200)\n",
    "\n",
    "# To supress warnings\n",
    "# import warnings\n",
    "\n",
    "# warnings.filterwarnings(\"ignore\")\n",
    "\n",
    "# To set some visualization attributes\n",
    "pd.set_option(\"max_colwidth\", 150)\n",
    "\n",
    "# To play auditory cue when cell has executed, has warning, or has error and set chime theme\n",
    "import chime\n",
    "\n",
    "chime.theme(\"zelda\")"
   ]
  },
  {
   "cell_type": "markdown",
   "id": "cc818a82",
   "metadata": {},
   "source": [
    "## Data Overview"
   ]
  },
  {
   "cell_type": "markdown",
   "id": "0ed005f6",
   "metadata": {},
   "source": [
    "### Reading, Sampling, and Checking Data Shape"
   ]
  },
  {
   "cell_type": "code",
   "execution_count": 2,
   "id": "0ca58a95",
   "metadata": {},
   "outputs": [
    {
     "name": "stdout",
     "output_type": "stream",
     "text": [
      "There are 98057 rows and 38 columns.\n"
     ]
    },
    {
     "data": {
      "text/html": [
       "<div>\n",
       "<style scoped>\n",
       "    .dataframe tbody tr th:only-of-type {\n",
       "        vertical-align: middle;\n",
       "    }\n",
       "\n",
       "    .dataframe tbody tr th {\n",
       "        vertical-align: top;\n",
       "    }\n",
       "\n",
       "    .dataframe thead th {\n",
       "        text-align: right;\n",
       "    }\n",
       "</style>\n",
       "<table border=\"1\" class=\"dataframe\">\n",
       "  <thead>\n",
       "    <tr style=\"text-align: right;\">\n",
       "      <th></th>\n",
       "      <th>day</th>\n",
       "      <th>name</th>\n",
       "      <th>info</th>\n",
       "      <th>link</th>\n",
       "      <th>num_references</th>\n",
       "      <th>year</th>\n",
       "      <th>month</th>\n",
       "      <th>info_parenth</th>\n",
       "      <th>info_1</th>\n",
       "      <th>info_2</th>\n",
       "      <th>info_3</th>\n",
       "      <th>info_4</th>\n",
       "      <th>info_5</th>\n",
       "      <th>info_6</th>\n",
       "      <th>info_7</th>\n",
       "      <th>info_8</th>\n",
       "      <th>info_9</th>\n",
       "      <th>info_10</th>\n",
       "      <th>info_11</th>\n",
       "      <th>age</th>\n",
       "      <th>cause_of_death</th>\n",
       "      <th>place_1</th>\n",
       "      <th>place_2</th>\n",
       "      <th>info_parenth_copy</th>\n",
       "      <th>log_num_references</th>\n",
       "      <th>sciences</th>\n",
       "      <th>social</th>\n",
       "      <th>spiritual</th>\n",
       "      <th>academia_humanities</th>\n",
       "      <th>business_farming</th>\n",
       "      <th>arts</th>\n",
       "      <th>sports</th>\n",
       "      <th>law_enf_military_operator</th>\n",
       "      <th>politics_govt_law</th>\n",
       "      <th>crime</th>\n",
       "      <th>event_record_other</th>\n",
       "      <th>other_species</th>\n",
       "      <th>num_categories</th>\n",
       "    </tr>\n",
       "  </thead>\n",
       "  <tbody>\n",
       "    <tr>\n",
       "      <th>0</th>\n",
       "      <td>1</td>\n",
       "      <td>William Chappell</td>\n",
       "      <td>, 86, British dancer, ballet designer and director.</td>\n",
       "      <td>https://en.wikipedia.org/wiki/William_Chappell_(dancer)</td>\n",
       "      <td>21</td>\n",
       "      <td>1994</td>\n",
       "      <td>January</td>\n",
       "      <td>None</td>\n",
       "      <td>None</td>\n",
       "      <td>dancer</td>\n",
       "      <td>ballet designer and director</td>\n",
       "      <td>None</td>\n",
       "      <td>None</td>\n",
       "      <td>None</td>\n",
       "      <td>None</td>\n",
       "      <td>None</td>\n",
       "      <td>None</td>\n",
       "      <td>None</td>\n",
       "      <td>None</td>\n",
       "      <td>86.0</td>\n",
       "      <td>None</td>\n",
       "      <td>United Kingdom of Great Britain and Northern Ireland</td>\n",
       "      <td>None</td>\n",
       "      <td>None</td>\n",
       "      <td>3.091042</td>\n",
       "      <td>0</td>\n",
       "      <td>0</td>\n",
       "      <td>0</td>\n",
       "      <td>0</td>\n",
       "      <td>0</td>\n",
       "      <td>0</td>\n",
       "      <td>0</td>\n",
       "      <td>0</td>\n",
       "      <td>0</td>\n",
       "      <td>0</td>\n",
       "      <td>0</td>\n",
       "      <td>0</td>\n",
       "      <td>0</td>\n",
       "    </tr>\n",
       "    <tr>\n",
       "      <th>1</th>\n",
       "      <td>1</td>\n",
       "      <td>Raymond Crotty</td>\n",
       "      <td>, 68, Irish economist, writer, and academic.</td>\n",
       "      <td>https://en.wikipedia.org/wiki/Raymond_Crotty</td>\n",
       "      <td>12</td>\n",
       "      <td>1994</td>\n",
       "      <td>January</td>\n",
       "      <td>None</td>\n",
       "      <td>None</td>\n",
       "      <td></td>\n",
       "      <td>writer</td>\n",
       "      <td>and academic</td>\n",
       "      <td>None</td>\n",
       "      <td>None</td>\n",
       "      <td>None</td>\n",
       "      <td>None</td>\n",
       "      <td>None</td>\n",
       "      <td>None</td>\n",
       "      <td>None</td>\n",
       "      <td>68.0</td>\n",
       "      <td>None</td>\n",
       "      <td>Ireland</td>\n",
       "      <td>None</td>\n",
       "      <td>None</td>\n",
       "      <td>2.564949</td>\n",
       "      <td>0</td>\n",
       "      <td>0</td>\n",
       "      <td>0</td>\n",
       "      <td>0</td>\n",
       "      <td>0</td>\n",
       "      <td>0</td>\n",
       "      <td>0</td>\n",
       "      <td>0</td>\n",
       "      <td>1</td>\n",
       "      <td>0</td>\n",
       "      <td>0</td>\n",
       "      <td>0</td>\n",
       "      <td>1</td>\n",
       "    </tr>\n",
       "  </tbody>\n",
       "</table>\n",
       "</div>"
      ],
      "text/plain": [
       "  day              name                                                 info  \\\n",
       "0   1  William Chappell  , 86, British dancer, ballet designer and director.   \n",
       "1   1    Raymond Crotty         , 68, Irish economist, writer, and academic.   \n",
       "\n",
       "                                                      link  num_references  \\\n",
       "0  https://en.wikipedia.org/wiki/William_Chappell_(dancer)              21   \n",
       "1             https://en.wikipedia.org/wiki/Raymond_Crotty              12   \n",
       "\n",
       "   year    month info_parenth info_1  info_2                        info_3  \\\n",
       "0  1994  January         None   None  dancer  ballet designer and director   \n",
       "1  1994  January         None   None                                writer   \n",
       "\n",
       "         info_4 info_5 info_6 info_7 info_8 info_9 info_10 info_11   age  \\\n",
       "0          None   None   None   None   None   None    None    None  86.0   \n",
       "1  and academic   None   None   None   None   None    None    None  68.0   \n",
       "\n",
       "  cause_of_death                                               place_1  \\\n",
       "0           None  United Kingdom of Great Britain and Northern Ireland   \n",
       "1           None                                               Ireland   \n",
       "\n",
       "  place_2 info_parenth_copy  log_num_references  sciences  social  spiritual  \\\n",
       "0    None              None            3.091042         0       0          0   \n",
       "1    None              None            2.564949         0       0          0   \n",
       "\n",
       "   academia_humanities  business_farming  arts  sports  \\\n",
       "0                    0                 0     0       0   \n",
       "1                    0                 0     0       0   \n",
       "\n",
       "   law_enf_military_operator  politics_govt_law  crime  event_record_other  \\\n",
       "0                          0                  0      0                   0   \n",
       "1                          0                  1      0                   0   \n",
       "\n",
       "   other_species  num_categories  \n",
       "0              0               0  \n",
       "1              0               1  "
      ]
     },
     "execution_count": 2,
     "metadata": {},
     "output_type": "execute_result"
    },
    {
     "data": {
      "application/javascript": [
       "\n",
       "            setTimeout(function() {\n",
       "                var nbb_cell_id = 2;\n",
       "                var nbb_unformatted_code = \"# Reading the dataset\\nconn = sql.connect(\\\"wp_life_expect_clean9.db\\\")\\ndata = pd.read_sql(\\\"SELECT * FROM wp_life_expect_clean9\\\", conn)\\n\\n# Making a working copy\\ndf = data.copy()\\n\\n# Checking the shape\\nprint(f\\\"There are {df.shape[0]} rows and {df.shape[1]} columns.\\\")\\n\\n# Checking first 2 rows of the data\\ndf.head(2)\";\n",
       "                var nbb_formatted_code = \"# Reading the dataset\\nconn = sql.connect(\\\"wp_life_expect_clean9.db\\\")\\ndata = pd.read_sql(\\\"SELECT * FROM wp_life_expect_clean9\\\", conn)\\n\\n# Making a working copy\\ndf = data.copy()\\n\\n# Checking the shape\\nprint(f\\\"There are {df.shape[0]} rows and {df.shape[1]} columns.\\\")\\n\\n# Checking first 2 rows of the data\\ndf.head(2)\";\n",
       "                var nbb_cells = Jupyter.notebook.get_cells();\n",
       "                for (var i = 0; i < nbb_cells.length; ++i) {\n",
       "                    if (nbb_cells[i].input_prompt_number == nbb_cell_id) {\n",
       "                        if (nbb_cells[i].get_text() == nbb_unformatted_code) {\n",
       "                             nbb_cells[i].set_text(nbb_formatted_code);\n",
       "                        }\n",
       "                        break;\n",
       "                    }\n",
       "                }\n",
       "            }, 500);\n",
       "            "
      ],
      "text/plain": [
       "<IPython.core.display.Javascript object>"
      ]
     },
     "metadata": {},
     "output_type": "display_data"
    }
   ],
   "source": [
    "# Reading the dataset\n",
    "conn = sql.connect(\"wp_life_expect_clean9.db\")\n",
    "data = pd.read_sql(\"SELECT * FROM wp_life_expect_clean9\", conn)\n",
    "\n",
    "# Making a working copy\n",
    "df = data.copy()\n",
    "\n",
    "# Checking the shape\n",
    "print(f\"There are {df.shape[0]} rows and {df.shape[1]} columns.\")\n",
    "\n",
    "# Checking first 2 rows of the data\n",
    "df.head(2)"
   ]
  },
  {
   "cell_type": "code",
   "execution_count": 3,
   "id": "6cca416f",
   "metadata": {},
   "outputs": [
    {
     "data": {
      "text/html": [
       "<div>\n",
       "<style scoped>\n",
       "    .dataframe tbody tr th:only-of-type {\n",
       "        vertical-align: middle;\n",
       "    }\n",
       "\n",
       "    .dataframe tbody tr th {\n",
       "        vertical-align: top;\n",
       "    }\n",
       "\n",
       "    .dataframe thead th {\n",
       "        text-align: right;\n",
       "    }\n",
       "</style>\n",
       "<table border=\"1\" class=\"dataframe\">\n",
       "  <thead>\n",
       "    <tr style=\"text-align: right;\">\n",
       "      <th></th>\n",
       "      <th>day</th>\n",
       "      <th>name</th>\n",
       "      <th>info</th>\n",
       "      <th>link</th>\n",
       "      <th>num_references</th>\n",
       "      <th>year</th>\n",
       "      <th>month</th>\n",
       "      <th>info_parenth</th>\n",
       "      <th>info_1</th>\n",
       "      <th>info_2</th>\n",
       "      <th>info_3</th>\n",
       "      <th>info_4</th>\n",
       "      <th>info_5</th>\n",
       "      <th>info_6</th>\n",
       "      <th>info_7</th>\n",
       "      <th>info_8</th>\n",
       "      <th>info_9</th>\n",
       "      <th>info_10</th>\n",
       "      <th>info_11</th>\n",
       "      <th>age</th>\n",
       "      <th>cause_of_death</th>\n",
       "      <th>place_1</th>\n",
       "      <th>place_2</th>\n",
       "      <th>info_parenth_copy</th>\n",
       "      <th>log_num_references</th>\n",
       "      <th>sciences</th>\n",
       "      <th>social</th>\n",
       "      <th>spiritual</th>\n",
       "      <th>academia_humanities</th>\n",
       "      <th>business_farming</th>\n",
       "      <th>arts</th>\n",
       "      <th>sports</th>\n",
       "      <th>law_enf_military_operator</th>\n",
       "      <th>politics_govt_law</th>\n",
       "      <th>crime</th>\n",
       "      <th>event_record_other</th>\n",
       "      <th>other_species</th>\n",
       "      <th>num_categories</th>\n",
       "    </tr>\n",
       "  </thead>\n",
       "  <tbody>\n",
       "    <tr>\n",
       "      <th>98055</th>\n",
       "      <td>9</td>\n",
       "      <td>Aamir Liaquat Hussain</td>\n",
       "      <td>, 50, Pakistani journalist and politician, MNA .</td>\n",
       "      <td>https://en.wikipedia.org/wiki/Aamir_Liaquat_Hussain</td>\n",
       "      <td>99</td>\n",
       "      <td>2022</td>\n",
       "      <td>June</td>\n",
       "      <td>, since</td>\n",
       "      <td>None</td>\n",
       "      <td></td>\n",
       "      <td>MNA</td>\n",
       "      <td>None</td>\n",
       "      <td>None</td>\n",
       "      <td>None</td>\n",
       "      <td>None</td>\n",
       "      <td>None</td>\n",
       "      <td>None</td>\n",
       "      <td>None</td>\n",
       "      <td>None</td>\n",
       "      <td>50.0</td>\n",
       "      <td>None</td>\n",
       "      <td>Pakistan</td>\n",
       "      <td>None</td>\n",
       "      <td>2002 2007, since 2018</td>\n",
       "      <td>4.605170</td>\n",
       "      <td>0</td>\n",
       "      <td>0</td>\n",
       "      <td>0</td>\n",
       "      <td>0</td>\n",
       "      <td>0</td>\n",
       "      <td>1</td>\n",
       "      <td>0</td>\n",
       "      <td>0</td>\n",
       "      <td>1</td>\n",
       "      <td>0</td>\n",
       "      <td>0</td>\n",
       "      <td>0</td>\n",
       "      <td>2</td>\n",
       "    </tr>\n",
       "    <tr>\n",
       "      <th>98056</th>\n",
       "      <td>9</td>\n",
       "      <td>Zou Jing</td>\n",
       "      <td>, 86, Chinese engineer, member of the Chinese Academy of Engineering.</td>\n",
       "      <td>https://en.wikipedia.org/wiki/Zou_Jing_(engineer)</td>\n",
       "      <td>3</td>\n",
       "      <td>2022</td>\n",
       "      <td>June</td>\n",
       "      <td>None</td>\n",
       "      <td>None</td>\n",
       "      <td></td>\n",
       "      <td>member of the Academy of Engineering</td>\n",
       "      <td>None</td>\n",
       "      <td>None</td>\n",
       "      <td>None</td>\n",
       "      <td>None</td>\n",
       "      <td>None</td>\n",
       "      <td>None</td>\n",
       "      <td>None</td>\n",
       "      <td>None</td>\n",
       "      <td>86.0</td>\n",
       "      <td>None</td>\n",
       "      <td>China, People's Republic of</td>\n",
       "      <td>None</td>\n",
       "      <td>None</td>\n",
       "      <td>1.386294</td>\n",
       "      <td>1</td>\n",
       "      <td>0</td>\n",
       "      <td>0</td>\n",
       "      <td>0</td>\n",
       "      <td>0</td>\n",
       "      <td>0</td>\n",
       "      <td>0</td>\n",
       "      <td>0</td>\n",
       "      <td>0</td>\n",
       "      <td>0</td>\n",
       "      <td>0</td>\n",
       "      <td>0</td>\n",
       "      <td>1</td>\n",
       "    </tr>\n",
       "  </tbody>\n",
       "</table>\n",
       "</div>"
      ],
      "text/plain": [
       "      day                   name  \\\n",
       "98055   9  Aamir Liaquat Hussain   \n",
       "98056   9               Zou Jing   \n",
       "\n",
       "                                                                        info  \\\n",
       "98055                       , 50, Pakistani journalist and politician, MNA .   \n",
       "98056  , 86, Chinese engineer, member of the Chinese Academy of Engineering.   \n",
       "\n",
       "                                                      link  num_references  \\\n",
       "98055  https://en.wikipedia.org/wiki/Aamir_Liaquat_Hussain              99   \n",
       "98056    https://en.wikipedia.org/wiki/Zou_Jing_(engineer)               3   \n",
       "\n",
       "       year month info_parenth info_1 info_2  \\\n",
       "98055  2022  June      , since   None          \n",
       "98056  2022  June         None   None          \n",
       "\n",
       "                                     info_3 info_4 info_5 info_6 info_7  \\\n",
       "98055                                   MNA   None   None   None   None   \n",
       "98056  member of the Academy of Engineering   None   None   None   None   \n",
       "\n",
       "      info_8 info_9 info_10 info_11   age cause_of_death  \\\n",
       "98055   None   None    None    None  50.0           None   \n",
       "98056   None   None    None    None  86.0           None   \n",
       "\n",
       "                           place_1 place_2      info_parenth_copy  \\\n",
       "98055                     Pakistan    None  2002 2007, since 2018   \n",
       "98056  China, People's Republic of    None                   None   \n",
       "\n",
       "       log_num_references  sciences  social  spiritual  academia_humanities  \\\n",
       "98055            4.605170         0       0          0                    0   \n",
       "98056            1.386294         1       0          0                    0   \n",
       "\n",
       "       business_farming  arts  sports  law_enf_military_operator  \\\n",
       "98055                 0     1       0                          0   \n",
       "98056                 0     0       0                          0   \n",
       "\n",
       "       politics_govt_law  crime  event_record_other  other_species  \\\n",
       "98055                  1      0                   0              0   \n",
       "98056                  0      0                   0              0   \n",
       "\n",
       "       num_categories  \n",
       "98055               2  \n",
       "98056               1  "
      ]
     },
     "execution_count": 3,
     "metadata": {},
     "output_type": "execute_result"
    },
    {
     "data": {
      "application/javascript": [
       "\n",
       "            setTimeout(function() {\n",
       "                var nbb_cell_id = 3;\n",
       "                var nbb_unformatted_code = \"# Checking last 2 rows of the data\\ndf.tail(2)\";\n",
       "                var nbb_formatted_code = \"# Checking last 2 rows of the data\\ndf.tail(2)\";\n",
       "                var nbb_cells = Jupyter.notebook.get_cells();\n",
       "                for (var i = 0; i < nbb_cells.length; ++i) {\n",
       "                    if (nbb_cells[i].input_prompt_number == nbb_cell_id) {\n",
       "                        if (nbb_cells[i].get_text() == nbb_unformatted_code) {\n",
       "                             nbb_cells[i].set_text(nbb_formatted_code);\n",
       "                        }\n",
       "                        break;\n",
       "                    }\n",
       "                }\n",
       "            }, 500);\n",
       "            "
      ],
      "text/plain": [
       "<IPython.core.display.Javascript object>"
      ]
     },
     "metadata": {},
     "output_type": "display_data"
    }
   ],
   "source": [
    "# Checking last 2 rows of the data\n",
    "df.tail(2)"
   ]
  },
  {
   "cell_type": "code",
   "execution_count": 4,
   "id": "de6e8ee5",
   "metadata": {},
   "outputs": [
    {
     "data": {
      "text/html": [
       "<div>\n",
       "<style scoped>\n",
       "    .dataframe tbody tr th:only-of-type {\n",
       "        vertical-align: middle;\n",
       "    }\n",
       "\n",
       "    .dataframe tbody tr th {\n",
       "        vertical-align: top;\n",
       "    }\n",
       "\n",
       "    .dataframe thead th {\n",
       "        text-align: right;\n",
       "    }\n",
       "</style>\n",
       "<table border=\"1\" class=\"dataframe\">\n",
       "  <thead>\n",
       "    <tr style=\"text-align: right;\">\n",
       "      <th></th>\n",
       "      <th>day</th>\n",
       "      <th>name</th>\n",
       "      <th>info</th>\n",
       "      <th>link</th>\n",
       "      <th>num_references</th>\n",
       "      <th>year</th>\n",
       "      <th>month</th>\n",
       "      <th>info_parenth</th>\n",
       "      <th>info_1</th>\n",
       "      <th>info_2</th>\n",
       "      <th>info_3</th>\n",
       "      <th>info_4</th>\n",
       "      <th>info_5</th>\n",
       "      <th>info_6</th>\n",
       "      <th>info_7</th>\n",
       "      <th>info_8</th>\n",
       "      <th>info_9</th>\n",
       "      <th>info_10</th>\n",
       "      <th>info_11</th>\n",
       "      <th>age</th>\n",
       "      <th>cause_of_death</th>\n",
       "      <th>place_1</th>\n",
       "      <th>place_2</th>\n",
       "      <th>info_parenth_copy</th>\n",
       "      <th>log_num_references</th>\n",
       "      <th>sciences</th>\n",
       "      <th>social</th>\n",
       "      <th>spiritual</th>\n",
       "      <th>academia_humanities</th>\n",
       "      <th>business_farming</th>\n",
       "      <th>arts</th>\n",
       "      <th>sports</th>\n",
       "      <th>law_enf_military_operator</th>\n",
       "      <th>politics_govt_law</th>\n",
       "      <th>crime</th>\n",
       "      <th>event_record_other</th>\n",
       "      <th>other_species</th>\n",
       "      <th>num_categories</th>\n",
       "    </tr>\n",
       "  </thead>\n",
       "  <tbody>\n",
       "    <tr>\n",
       "      <th>3152</th>\n",
       "      <td>31</td>\n",
       "      <td>Lou Levy</td>\n",
       "      <td>, 84, American music publisher.</td>\n",
       "      <td>https://en.wikipedia.org/wiki/Lou_Levy_(publisher)</td>\n",
       "      <td>4</td>\n",
       "      <td>1995</td>\n",
       "      <td>October</td>\n",
       "      <td>None</td>\n",
       "      <td>None</td>\n",
       "      <td>music publisher</td>\n",
       "      <td>None</td>\n",
       "      <td>None</td>\n",
       "      <td>None</td>\n",
       "      <td>None</td>\n",
       "      <td>None</td>\n",
       "      <td>None</td>\n",
       "      <td>None</td>\n",
       "      <td>None</td>\n",
       "      <td>None</td>\n",
       "      <td>84.0</td>\n",
       "      <td>None</td>\n",
       "      <td>United States of America</td>\n",
       "      <td>None</td>\n",
       "      <td>None</td>\n",
       "      <td>1.609438</td>\n",
       "      <td>0</td>\n",
       "      <td>0</td>\n",
       "      <td>0</td>\n",
       "      <td>0</td>\n",
       "      <td>0</td>\n",
       "      <td>0</td>\n",
       "      <td>0</td>\n",
       "      <td>0</td>\n",
       "      <td>0</td>\n",
       "      <td>0</td>\n",
       "      <td>0</td>\n",
       "      <td>0</td>\n",
       "      <td>0</td>\n",
       "    </tr>\n",
       "    <tr>\n",
       "      <th>9960</th>\n",
       "      <td>9</td>\n",
       "      <td>Milt Jackson</td>\n",
       "      <td>, 76, American jazz vibraphonist, liver cancer.</td>\n",
       "      <td>https://en.wikipedia.org/wiki/Milt_Jackson</td>\n",
       "      <td>10</td>\n",
       "      <td>1999</td>\n",
       "      <td>October</td>\n",
       "      <td>None</td>\n",
       "      <td>None</td>\n",
       "      <td>jazz vibraphonist</td>\n",
       "      <td>liver cancer</td>\n",
       "      <td>None</td>\n",
       "      <td>None</td>\n",
       "      <td>None</td>\n",
       "      <td>None</td>\n",
       "      <td>None</td>\n",
       "      <td>None</td>\n",
       "      <td>None</td>\n",
       "      <td>None</td>\n",
       "      <td>76.0</td>\n",
       "      <td>None</td>\n",
       "      <td>United States of America</td>\n",
       "      <td>None</td>\n",
       "      <td>None</td>\n",
       "      <td>2.397895</td>\n",
       "      <td>0</td>\n",
       "      <td>0</td>\n",
       "      <td>0</td>\n",
       "      <td>0</td>\n",
       "      <td>0</td>\n",
       "      <td>0</td>\n",
       "      <td>0</td>\n",
       "      <td>0</td>\n",
       "      <td>0</td>\n",
       "      <td>0</td>\n",
       "      <td>0</td>\n",
       "      <td>0</td>\n",
       "      <td>0</td>\n",
       "    </tr>\n",
       "    <tr>\n",
       "      <th>31517</th>\n",
       "      <td>29</td>\n",
       "      <td>Akinpelu Oludele Adesola</td>\n",
       "      <td>, 82, Nigirean academic.</td>\n",
       "      <td>https://en.wikipedia.org/wiki/Akinpelu_Oludele_Adesola</td>\n",
       "      <td>3</td>\n",
       "      <td>2010</td>\n",
       "      <td>May</td>\n",
       "      <td>None</td>\n",
       "      <td>None</td>\n",
       "      <td></td>\n",
       "      <td>None</td>\n",
       "      <td>None</td>\n",
       "      <td>None</td>\n",
       "      <td>None</td>\n",
       "      <td>None</td>\n",
       "      <td>None</td>\n",
       "      <td>None</td>\n",
       "      <td>None</td>\n",
       "      <td>None</td>\n",
       "      <td>82.0</td>\n",
       "      <td>None</td>\n",
       "      <td>Nigeria</td>\n",
       "      <td>None</td>\n",
       "      <td>None</td>\n",
       "      <td>1.386294</td>\n",
       "      <td>0</td>\n",
       "      <td>0</td>\n",
       "      <td>0</td>\n",
       "      <td>1</td>\n",
       "      <td>0</td>\n",
       "      <td>0</td>\n",
       "      <td>0</td>\n",
       "      <td>0</td>\n",
       "      <td>0</td>\n",
       "      <td>0</td>\n",
       "      <td>0</td>\n",
       "      <td>0</td>\n",
       "      <td>1</td>\n",
       "    </tr>\n",
       "    <tr>\n",
       "      <th>68231</th>\n",
       "      <td>22</td>\n",
       "      <td>Lyn Lott</td>\n",
       "      <td>, 67, American golfer, complications from brain surgery.</td>\n",
       "      <td>https://en.wikipedia.org/wiki/Lyn_Lott</td>\n",
       "      <td>4</td>\n",
       "      <td>2018</td>\n",
       "      <td>March</td>\n",
       "      <td>None</td>\n",
       "      <td>None</td>\n",
       "      <td>golfer</td>\n",
       "      <td>complications from brain surgery</td>\n",
       "      <td>None</td>\n",
       "      <td>None</td>\n",
       "      <td>None</td>\n",
       "      <td>None</td>\n",
       "      <td>None</td>\n",
       "      <td>None</td>\n",
       "      <td>None</td>\n",
       "      <td>None</td>\n",
       "      <td>67.0</td>\n",
       "      <td>None</td>\n",
       "      <td>United States of America</td>\n",
       "      <td>None</td>\n",
       "      <td>None</td>\n",
       "      <td>1.609438</td>\n",
       "      <td>0</td>\n",
       "      <td>0</td>\n",
       "      <td>0</td>\n",
       "      <td>0</td>\n",
       "      <td>0</td>\n",
       "      <td>0</td>\n",
       "      <td>0</td>\n",
       "      <td>0</td>\n",
       "      <td>0</td>\n",
       "      <td>0</td>\n",
       "      <td>0</td>\n",
       "      <td>0</td>\n",
       "      <td>0</td>\n",
       "    </tr>\n",
       "    <tr>\n",
       "      <th>50715</th>\n",
       "      <td>16</td>\n",
       "      <td>Dessie Hughes</td>\n",
       "      <td>, 71, Irish racehorse trainer.</td>\n",
       "      <td>https://en.wikipedia.org/wiki/Dessie_Hughes</td>\n",
       "      <td>3</td>\n",
       "      <td>2014</td>\n",
       "      <td>November</td>\n",
       "      <td>None</td>\n",
       "      <td>None</td>\n",
       "      <td>racehorse trainer</td>\n",
       "      <td>None</td>\n",
       "      <td>None</td>\n",
       "      <td>None</td>\n",
       "      <td>None</td>\n",
       "      <td>None</td>\n",
       "      <td>None</td>\n",
       "      <td>None</td>\n",
       "      <td>None</td>\n",
       "      <td>None</td>\n",
       "      <td>71.0</td>\n",
       "      <td>None</td>\n",
       "      <td>Ireland</td>\n",
       "      <td>None</td>\n",
       "      <td>None</td>\n",
       "      <td>1.386294</td>\n",
       "      <td>0</td>\n",
       "      <td>0</td>\n",
       "      <td>0</td>\n",
       "      <td>0</td>\n",
       "      <td>0</td>\n",
       "      <td>0</td>\n",
       "      <td>0</td>\n",
       "      <td>0</td>\n",
       "      <td>0</td>\n",
       "      <td>0</td>\n",
       "      <td>0</td>\n",
       "      <td>0</td>\n",
       "      <td>0</td>\n",
       "    </tr>\n",
       "  </tbody>\n",
       "</table>\n",
       "</div>"
      ],
      "text/plain": [
       "      day                      name  \\\n",
       "3152   31                  Lou Levy   \n",
       "9960    9              Milt Jackson   \n",
       "31517  29  Akinpelu Oludele Adesola   \n",
       "68231  22                  Lyn Lott   \n",
       "50715  16             Dessie Hughes   \n",
       "\n",
       "                                                           info  \\\n",
       "3152                            , 84, American music publisher.   \n",
       "9960            , 76, American jazz vibraphonist, liver cancer.   \n",
       "31517                                  , 82, Nigirean academic.   \n",
       "68231  , 67, American golfer, complications from brain surgery.   \n",
       "50715                            , 71, Irish racehorse trainer.   \n",
       "\n",
       "                                                         link  num_references  \\\n",
       "3152       https://en.wikipedia.org/wiki/Lou_Levy_(publisher)               4   \n",
       "9960               https://en.wikipedia.org/wiki/Milt_Jackson              10   \n",
       "31517  https://en.wikipedia.org/wiki/Akinpelu_Oludele_Adesola               3   \n",
       "68231                  https://en.wikipedia.org/wiki/Lyn_Lott               4   \n",
       "50715             https://en.wikipedia.org/wiki/Dessie_Hughes               3   \n",
       "\n",
       "       year     month info_parenth info_1             info_2  \\\n",
       "3152   1995   October         None   None    music publisher   \n",
       "9960   1999   October         None   None  jazz vibraphonist   \n",
       "31517  2010       May         None   None                      \n",
       "68231  2018     March         None   None             golfer   \n",
       "50715  2014  November         None   None  racehorse trainer   \n",
       "\n",
       "                                 info_3 info_4 info_5 info_6 info_7 info_8  \\\n",
       "3152                               None   None   None   None   None   None   \n",
       "9960                       liver cancer   None   None   None   None   None   \n",
       "31517                              None   None   None   None   None   None   \n",
       "68231  complications from brain surgery   None   None   None   None   None   \n",
       "50715                              None   None   None   None   None   None   \n",
       "\n",
       "      info_9 info_10 info_11   age cause_of_death                   place_1  \\\n",
       "3152    None    None    None  84.0           None  United States of America   \n",
       "9960    None    None    None  76.0           None  United States of America   \n",
       "31517   None    None    None  82.0           None                   Nigeria   \n",
       "68231   None    None    None  67.0           None  United States of America   \n",
       "50715   None    None    None  71.0           None                   Ireland   \n",
       "\n",
       "      place_2 info_parenth_copy  log_num_references  sciences  social  \\\n",
       "3152     None              None            1.609438         0       0   \n",
       "9960     None              None            2.397895         0       0   \n",
       "31517    None              None            1.386294         0       0   \n",
       "68231    None              None            1.609438         0       0   \n",
       "50715    None              None            1.386294         0       0   \n",
       "\n",
       "       spiritual  academia_humanities  business_farming  arts  sports  \\\n",
       "3152           0                    0                 0     0       0   \n",
       "9960           0                    0                 0     0       0   \n",
       "31517          0                    1                 0     0       0   \n",
       "68231          0                    0                 0     0       0   \n",
       "50715          0                    0                 0     0       0   \n",
       "\n",
       "       law_enf_military_operator  politics_govt_law  crime  \\\n",
       "3152                           0                  0      0   \n",
       "9960                           0                  0      0   \n",
       "31517                          0                  0      0   \n",
       "68231                          0                  0      0   \n",
       "50715                          0                  0      0   \n",
       "\n",
       "       event_record_other  other_species  num_categories  \n",
       "3152                    0              0               0  \n",
       "9960                    0              0               0  \n",
       "31517                   0              0               1  \n",
       "68231                   0              0               0  \n",
       "50715                   0              0               0  "
      ]
     },
     "execution_count": 4,
     "metadata": {},
     "output_type": "execute_result"
    },
    {
     "data": {
      "application/javascript": [
       "\n",
       "            setTimeout(function() {\n",
       "                var nbb_cell_id = 4;\n",
       "                var nbb_unformatted_code = \"# Checking a sample of the data\\ndf.sample(5)\";\n",
       "                var nbb_formatted_code = \"# Checking a sample of the data\\ndf.sample(5)\";\n",
       "                var nbb_cells = Jupyter.notebook.get_cells();\n",
       "                for (var i = 0; i < nbb_cells.length; ++i) {\n",
       "                    if (nbb_cells[i].input_prompt_number == nbb_cell_id) {\n",
       "                        if (nbb_cells[i].get_text() == nbb_unformatted_code) {\n",
       "                             nbb_cells[i].set_text(nbb_formatted_code);\n",
       "                        }\n",
       "                        break;\n",
       "                    }\n",
       "                }\n",
       "            }, 500);\n",
       "            "
      ],
      "text/plain": [
       "<IPython.core.display.Javascript object>"
      ]
     },
     "metadata": {},
     "output_type": "display_data"
    }
   ],
   "source": [
    "# Checking a sample of the data\n",
    "df.sample(5)"
   ]
  },
  {
   "cell_type": "markdown",
   "id": "8d5f29da",
   "metadata": {},
   "source": [
    "### Checking Data Types, Duplicates, and Null Values"
   ]
  },
  {
   "cell_type": "code",
   "execution_count": 5,
   "id": "bf505f87",
   "metadata": {},
   "outputs": [
    {
     "name": "stdout",
     "output_type": "stream",
     "text": [
      "<class 'pandas.core.frame.DataFrame'>\n",
      "RangeIndex: 98057 entries, 0 to 98056\n",
      "Data columns (total 38 columns):\n",
      " #   Column                     Non-Null Count  Dtype  \n",
      "---  ------                     --------------  -----  \n",
      " 0   day                        98057 non-null  object \n",
      " 1   name                       98057 non-null  object \n",
      " 2   info                       98057 non-null  object \n",
      " 3   link                       98057 non-null  object \n",
      " 4   num_references             98057 non-null  int64  \n",
      " 5   year                       98057 non-null  int64  \n",
      " 6   month                      98057 non-null  object \n",
      " 7   info_parenth               36661 non-null  object \n",
      " 8   info_1                     22 non-null     object \n",
      " 9   info_2                     98025 non-null  object \n",
      " 10  info_3                     48897 non-null  object \n",
      " 11  info_4                     10264 non-null  object \n",
      " 12  info_5                     1265 non-null   object \n",
      " 13  info_6                     181 non-null    object \n",
      " 14  info_7                     27 non-null     object \n",
      " 15  info_8                     5 non-null      object \n",
      " 16  info_9                     1 non-null      object \n",
      " 17  info_10                    1 non-null      object \n",
      " 18  info_11                    1 non-null      object \n",
      " 19  age                        98057 non-null  float64\n",
      " 20  cause_of_death             10 non-null     object \n",
      " 21  place_1                    97902 non-null  object \n",
      " 22  place_2                    8102 non-null   object \n",
      " 23  info_parenth_copy          36661 non-null  object \n",
      " 24  log_num_references         98057 non-null  float64\n",
      " 25  sciences                   98057 non-null  int64  \n",
      " 26  social                     98057 non-null  int64  \n",
      " 27  spiritual                  98057 non-null  int64  \n",
      " 28  academia_humanities        98057 non-null  int64  \n",
      " 29  business_farming           98057 non-null  int64  \n",
      " 30  arts                       98057 non-null  int64  \n",
      " 31  sports                     98057 non-null  int64  \n",
      " 32  law_enf_military_operator  98057 non-null  int64  \n",
      " 33  politics_govt_law          98057 non-null  int64  \n",
      " 34  crime                      98057 non-null  int64  \n",
      " 35  event_record_other         98057 non-null  int64  \n",
      " 36  other_species              98057 non-null  int64  \n",
      " 37  num_categories             98057 non-null  int64  \n",
      "dtypes: float64(2), int64(15), object(21)\n",
      "memory usage: 28.4+ MB\n"
     ]
    },
    {
     "data": {
      "application/javascript": [
       "\n",
       "            setTimeout(function() {\n",
       "                var nbb_cell_id = 5;\n",
       "                var nbb_unformatted_code = \"# Checking data types and null values\\ndf.info()\";\n",
       "                var nbb_formatted_code = \"# Checking data types and null values\\ndf.info()\";\n",
       "                var nbb_cells = Jupyter.notebook.get_cells();\n",
       "                for (var i = 0; i < nbb_cells.length; ++i) {\n",
       "                    if (nbb_cells[i].input_prompt_number == nbb_cell_id) {\n",
       "                        if (nbb_cells[i].get_text() == nbb_unformatted_code) {\n",
       "                             nbb_cells[i].set_text(nbb_formatted_code);\n",
       "                        }\n",
       "                        break;\n",
       "                    }\n",
       "                }\n",
       "            }, 500);\n",
       "            "
      ],
      "text/plain": [
       "<IPython.core.display.Javascript object>"
      ]
     },
     "metadata": {},
     "output_type": "display_data"
    }
   ],
   "source": [
    "# Checking data types and null values\n",
    "df.info()"
   ]
  },
  {
   "cell_type": "markdown",
   "id": "c459d7f8",
   "metadata": {},
   "source": [
    "#### Observations:\n",
    "- With our dataset loaded, we can pick up where we left off with extracting known_for values by rebuilding `known_for_dict`."
   ]
  },
  {
   "cell_type": "markdown",
   "id": "5c542ec1",
   "metadata": {},
   "source": [
    "### Extracting `known_for` Continued"
   ]
  },
  {
   "cell_type": "markdown",
   "id": "67868d87",
   "metadata": {},
   "source": [
    "#### Finding `known_for` Roles in `info_2`"
   ]
  },
  {
   "cell_type": "code",
   "execution_count": 6,
   "id": "a3d3e7b5",
   "metadata": {},
   "outputs": [
    {
     "data": {
      "application/javascript": [
       "\n",
       "            setTimeout(function() {\n",
       "                var nbb_cell_id = 6;\n",
       "                var nbb_unformatted_code = \"# # Obtaining values for column and their counts\\n# roles_list = df[\\\"info_2\\\"].value_counts(ascending=True).index.tolist()\";\n",
       "                var nbb_formatted_code = \"# # Obtaining values for column and their counts\\n# roles_list = df[\\\"info_2\\\"].value_counts(ascending=True).index.tolist()\";\n",
       "                var nbb_cells = Jupyter.notebook.get_cells();\n",
       "                for (var i = 0; i < nbb_cells.length; ++i) {\n",
       "                    if (nbb_cells[i].input_prompt_number == nbb_cell_id) {\n",
       "                        if (nbb_cells[i].get_text() == nbb_unformatted_code) {\n",
       "                             nbb_cells[i].set_text(nbb_formatted_code);\n",
       "                        }\n",
       "                        break;\n",
       "                    }\n",
       "                }\n",
       "            }, 500);\n",
       "            "
      ],
      "text/plain": [
       "<IPython.core.display.Javascript object>"
      ]
     },
     "metadata": {},
     "output_type": "display_data"
    }
   ],
   "source": [
    "# # Obtaining values for column and their counts\n",
    "# roles_list = df[\"info_2\"].value_counts(ascending=True).index.tolist()"
   ]
  },
  {
   "cell_type": "code",
   "execution_count": 7,
   "id": "95467276",
   "metadata": {},
   "outputs": [
    {
     "data": {
      "application/javascript": [
       "\n",
       "            setTimeout(function() {\n",
       "                var nbb_cell_id = 7;\n",
       "                var nbb_unformatted_code = \"# # Code to check each value\\n# roles_list.pop()\";\n",
       "                var nbb_formatted_code = \"# # Code to check each value\\n# roles_list.pop()\";\n",
       "                var nbb_cells = Jupyter.notebook.get_cells();\n",
       "                for (var i = 0; i < nbb_cells.length; ++i) {\n",
       "                    if (nbb_cells[i].input_prompt_number == nbb_cell_id) {\n",
       "                        if (nbb_cells[i].get_text() == nbb_unformatted_code) {\n",
       "                             nbb_cells[i].set_text(nbb_formatted_code);\n",
       "                        }\n",
       "                        break;\n",
       "                    }\n",
       "                }\n",
       "            }, 500);\n",
       "            "
      ],
      "text/plain": [
       "<IPython.core.display.Javascript object>"
      ]
     },
     "metadata": {},
     "output_type": "display_data"
    }
   ],
   "source": [
    "# # Code to check each value\n",
    "# roles_list.pop()"
   ]
  },
  {
   "cell_type": "code",
   "execution_count": 8,
   "id": "c0f4e6a3",
   "metadata": {},
   "outputs": [
    {
     "data": {
      "application/javascript": [
       "\n",
       "            setTimeout(function() {\n",
       "                var nbb_cell_id = 8;\n",
       "                var nbb_unformatted_code = \"# # Create specific_roles_list for above popped value\\n# specific_roles_list = (\\n#     df.loc[\\n#         [\\n#             index\\n#             for index in df[df[\\\"info_2\\\"].notna()].index\\n#             if \\\"translator\\\" in df.loc[index, \\\"info_2\\\"]\\n#         ],\\n#         \\\"info_2\\\",\\n#     ]\\n#     .value_counts()\\n#     .index.tolist()\\n# )\";\n",
       "                var nbb_formatted_code = \"# # Create specific_roles_list for above popped value\\n# specific_roles_list = (\\n#     df.loc[\\n#         [\\n#             index\\n#             for index in df[df[\\\"info_2\\\"].notna()].index\\n#             if \\\"translator\\\" in df.loc[index, \\\"info_2\\\"]\\n#         ],\\n#         \\\"info_2\\\",\\n#     ]\\n#     .value_counts()\\n#     .index.tolist()\\n# )\";\n",
       "                var nbb_cells = Jupyter.notebook.get_cells();\n",
       "                for (var i = 0; i < nbb_cells.length; ++i) {\n",
       "                    if (nbb_cells[i].input_prompt_number == nbb_cell_id) {\n",
       "                        if (nbb_cells[i].get_text() == nbb_unformatted_code) {\n",
       "                             nbb_cells[i].set_text(nbb_formatted_code);\n",
       "                        }\n",
       "                        break;\n",
       "                    }\n",
       "                }\n",
       "            }, 500);\n",
       "            "
      ],
      "text/plain": [
       "<IPython.core.display.Javascript object>"
      ]
     },
     "metadata": {},
     "output_type": "display_data"
    }
   ],
   "source": [
    "# # Create specific_roles_list for above popped value\n",
    "# specific_roles_list = (\n",
    "#     df.loc[\n",
    "#         [\n",
    "#             index\n",
    "#             for index in df[df[\"info_2\"].notna()].index\n",
    "#             if \"translator\" in df.loc[index, \"info_2\"]\n",
    "#         ],\n",
    "#         \"info_2\",\n",
    "#     ]\n",
    "#     .value_counts()\n",
    "#     .index.tolist()\n",
    "# )"
   ]
  },
  {
   "cell_type": "code",
   "execution_count": 9,
   "id": "cbaba77c",
   "metadata": {},
   "outputs": [
    {
     "data": {
      "application/javascript": [
       "\n",
       "            setTimeout(function() {\n",
       "                var nbb_cell_id = 9;\n",
       "                var nbb_unformatted_code = \"# # Code to check each specific value\\n# specific_roles_list.pop()\";\n",
       "                var nbb_formatted_code = \"# # Code to check each specific value\\n# specific_roles_list.pop()\";\n",
       "                var nbb_cells = Jupyter.notebook.get_cells();\n",
       "                for (var i = 0; i < nbb_cells.length; ++i) {\n",
       "                    if (nbb_cells[i].input_prompt_number == nbb_cell_id) {\n",
       "                        if (nbb_cells[i].get_text() == nbb_unformatted_code) {\n",
       "                             nbb_cells[i].set_text(nbb_formatted_code);\n",
       "                        }\n",
       "                        break;\n",
       "                    }\n",
       "                }\n",
       "            }, 500);\n",
       "            "
      ],
      "text/plain": [
       "<IPython.core.display.Javascript object>"
      ]
     },
     "metadata": {},
     "output_type": "display_data"
    }
   ],
   "source": [
    "# # Code to check each specific value\n",
    "# specific_roles_list.pop()"
   ]
  },
  {
   "cell_type": "code",
   "execution_count": 10,
   "id": "c05025a5",
   "metadata": {},
   "outputs": [
    {
     "data": {
      "application/javascript": [
       "\n",
       "            setTimeout(function() {\n",
       "                var nbb_cell_id = 10;\n",
       "                var nbb_unformatted_code = \"# # Example code to quick-screen values that may overlap categories\\n# df.loc[[index for index in df.index if \\\"and Bible translator\\\" in df.loc[index, \\\"info\\\"]]]\";\n",
       "                var nbb_formatted_code = \"# # Example code to quick-screen values that may overlap categories\\n# df.loc[[index for index in df.index if \\\"and Bible translator\\\" in df.loc[index, \\\"info\\\"]]]\";\n",
       "                var nbb_cells = Jupyter.notebook.get_cells();\n",
       "                for (var i = 0; i < nbb_cells.length; ++i) {\n",
       "                    if (nbb_cells[i].input_prompt_number == nbb_cell_id) {\n",
       "                        if (nbb_cells[i].get_text() == nbb_unformatted_code) {\n",
       "                             nbb_cells[i].set_text(nbb_formatted_code);\n",
       "                        }\n",
       "                        break;\n",
       "                    }\n",
       "                }\n",
       "            }, 500);\n",
       "            "
      ],
      "text/plain": [
       "<IPython.core.display.Javascript object>"
      ]
     },
     "metadata": {},
     "output_type": "display_data"
    }
   ],
   "source": [
    "# # Example code to quick-screen values that may overlap categories\n",
    "# df.loc[[index for index in df.index if \"and Bible translator\" in df.loc[index, \"info\"]]]"
   ]
  },
  {
   "cell_type": "code",
   "execution_count": 11,
   "id": "fa0abdbf",
   "metadata": {},
   "outputs": [
    {
     "data": {
      "application/javascript": [
       "\n",
       "            setTimeout(function() {\n",
       "                var nbb_cell_id = 11;\n",
       "                var nbb_unformatted_code = \"# # Example code to quick-check a specific entry\\n# df[df[\\\"info_2\\\"] == \\\"linguist and bible translator\\\"]\";\n",
       "                var nbb_formatted_code = \"# # Example code to quick-check a specific entry\\n# df[df[\\\"info_2\\\"] == \\\"linguist and bible translator\\\"]\";\n",
       "                var nbb_cells = Jupyter.notebook.get_cells();\n",
       "                for (var i = 0; i < nbb_cells.length; ++i) {\n",
       "                    if (nbb_cells[i].input_prompt_number == nbb_cell_id) {\n",
       "                        if (nbb_cells[i].get_text() == nbb_unformatted_code) {\n",
       "                             nbb_cells[i].set_text(nbb_formatted_code);\n",
       "                        }\n",
       "                        break;\n",
       "                    }\n",
       "                }\n",
       "            }, 500);\n",
       "            "
      ],
      "text/plain": [
       "<IPython.core.display.Javascript object>"
      ]
     },
     "metadata": {},
     "output_type": "display_data"
    }
   ],
   "source": [
    "# # Example code to quick-check a specific entry\n",
    "# df[df[\"info_2\"] == \"linguist and bible translator\"]"
   ]
  },
  {
   "cell_type": "markdown",
   "id": "7d3c3147",
   "metadata": {},
   "source": [
    "#### Creating Lists for Each `known_for` Category"
   ]
  },
  {
   "cell_type": "code",
   "execution_count": 12,
   "id": "aec033e1",
   "metadata": {},
   "outputs": [
    {
     "data": {
      "application/javascript": [
       "\n",
       "            setTimeout(function() {\n",
       "                var nbb_cell_id = 12;\n",
       "                var nbb_unformatted_code = \"# Creating lists for each category\\npolitics_govt_law = []\\n\\narts = []\\nsports = []\\nsciences = []\\n\\nbusiness_farming = []\\nacademia_humanities = [\\n    \\\"and translator of philosophy and literature\\\",\\n    \\\"scholar and translator of literature\\\",\\n    \\\"translator and literature scholar\\\",\\n    \\\"translator and literary scholar\\\",\\n    \\\"translator of modern literature\\\",\\n    \\\"language scholar and translator\\\",\\n    \\\"linguist and bible translator\\\",\\n    \\\"medievalist and translator\\\",\\n    \\\"litterateur and translator\\\",\\n    \\\"sinologist and translator\\\",\\n    \\\"translator of literature\\\",\\n    \\\"translator and linguist\\\",\\n    \\\"linguist and translator\\\",\\n    \\\"teacher and translator\\\",\\n    \\\"scholar and translator\\\",\\n    \\\"and Bible translator\\\",\\n    \\\"literary translator\\\",\\n    \\\"translator and\\\",\\n    \\\"and translator\\\",\\n    \\\"translator\\\",\\n]\\nlaw_enf_military_operator = []\\nspiritual = []\\nsocial = []\\ncrime = []\\nevent_record_other = []\\nother_species = []\";\n",
       "                var nbb_formatted_code = \"# Creating lists for each category\\npolitics_govt_law = []\\n\\narts = []\\nsports = []\\nsciences = []\\n\\nbusiness_farming = []\\nacademia_humanities = [\\n    \\\"and translator of philosophy and literature\\\",\\n    \\\"scholar and translator of literature\\\",\\n    \\\"translator and literature scholar\\\",\\n    \\\"translator and literary scholar\\\",\\n    \\\"translator of modern literature\\\",\\n    \\\"language scholar and translator\\\",\\n    \\\"linguist and bible translator\\\",\\n    \\\"medievalist and translator\\\",\\n    \\\"litterateur and translator\\\",\\n    \\\"sinologist and translator\\\",\\n    \\\"translator of literature\\\",\\n    \\\"translator and linguist\\\",\\n    \\\"linguist and translator\\\",\\n    \\\"teacher and translator\\\",\\n    \\\"scholar and translator\\\",\\n    \\\"and Bible translator\\\",\\n    \\\"literary translator\\\",\\n    \\\"translator and\\\",\\n    \\\"and translator\\\",\\n    \\\"translator\\\",\\n]\\nlaw_enf_military_operator = []\\nspiritual = []\\nsocial = []\\ncrime = []\\nevent_record_other = []\\nother_species = []\";\n",
       "                var nbb_cells = Jupyter.notebook.get_cells();\n",
       "                for (var i = 0; i < nbb_cells.length; ++i) {\n",
       "                    if (nbb_cells[i].input_prompt_number == nbb_cell_id) {\n",
       "                        if (nbb_cells[i].get_text() == nbb_unformatted_code) {\n",
       "                             nbb_cells[i].set_text(nbb_formatted_code);\n",
       "                        }\n",
       "                        break;\n",
       "                    }\n",
       "                }\n",
       "            }, 500);\n",
       "            "
      ],
      "text/plain": [
       "<IPython.core.display.Javascript object>"
      ]
     },
     "metadata": {},
     "output_type": "display_data"
    }
   ],
   "source": [
    "# Creating lists for each category\n",
    "politics_govt_law = []\n",
    "\n",
    "arts = []\n",
    "sports = []\n",
    "sciences = []\n",
    "\n",
    "business_farming = []\n",
    "academia_humanities = [\n",
    "    \"and translator of philosophy and literature\",\n",
    "    \"scholar and translator of literature\",\n",
    "    \"translator and literature scholar\",\n",
    "    \"translator and literary scholar\",\n",
    "    \"translator of modern literature\",\n",
    "    \"language scholar and translator\",\n",
    "    \"linguist and bible translator\",\n",
    "    \"medievalist and translator\",\n",
    "    \"litterateur and translator\",\n",
    "    \"sinologist and translator\",\n",
    "    \"translator of literature\",\n",
    "    \"translator and linguist\",\n",
    "    \"linguist and translator\",\n",
    "    \"teacher and translator\",\n",
    "    \"scholar and translator\",\n",
    "    \"and Bible translator\",\n",
    "    \"literary translator\",\n",
    "    \"translator and\",\n",
    "    \"and translator\",\n",
    "    \"translator\",\n",
    "]\n",
    "law_enf_military_operator = []\n",
    "spiritual = []\n",
    "social = []\n",
    "crime = []\n",
    "event_record_other = []\n",
    "other_species = []"
   ]
  },
  {
   "cell_type": "markdown",
   "id": "fcc3d284",
   "metadata": {},
   "source": [
    "#### Creating `known_for_dict` Dictionary of Category Keys and Specific Role Lists of Values"
   ]
  },
  {
   "cell_type": "code",
   "execution_count": 13,
   "id": "79ea5160",
   "metadata": {},
   "outputs": [
    {
     "data": {
      "application/javascript": [
       "\n",
       "            setTimeout(function() {\n",
       "                var nbb_cell_id = 13;\n",
       "                var nbb_unformatted_code = \"# Combining separate lists into one dictionary\\nknown_for_dict = {\\n    \\\"social\\\": social,\\n    \\\"spiritual\\\": spiritual,\\n    \\\"academia_humanities\\\": academia_humanities,\\n    \\\"business_farming\\\": business_farming,\\n    \\\"sciences\\\": sciences,\\n    \\\"politics_govt_law\\\": politics_govt_law,\\n    \\\"law_enf_military_operator\\\": law_enf_military_operator,\\n    \\\"crime\\\": crime,\\n    \\\"event_record_other\\\": event_record_other,\\n    \\\"other_species\\\": other_species,\\n    \\\"arts\\\": arts,\\n    \\\"sports\\\": sports,\\n}\";\n",
       "                var nbb_formatted_code = \"# Combining separate lists into one dictionary\\nknown_for_dict = {\\n    \\\"social\\\": social,\\n    \\\"spiritual\\\": spiritual,\\n    \\\"academia_humanities\\\": academia_humanities,\\n    \\\"business_farming\\\": business_farming,\\n    \\\"sciences\\\": sciences,\\n    \\\"politics_govt_law\\\": politics_govt_law,\\n    \\\"law_enf_military_operator\\\": law_enf_military_operator,\\n    \\\"crime\\\": crime,\\n    \\\"event_record_other\\\": event_record_other,\\n    \\\"other_species\\\": other_species,\\n    \\\"arts\\\": arts,\\n    \\\"sports\\\": sports,\\n}\";\n",
       "                var nbb_cells = Jupyter.notebook.get_cells();\n",
       "                for (var i = 0; i < nbb_cells.length; ++i) {\n",
       "                    if (nbb_cells[i].input_prompt_number == nbb_cell_id) {\n",
       "                        if (nbb_cells[i].get_text() == nbb_unformatted_code) {\n",
       "                             nbb_cells[i].set_text(nbb_formatted_code);\n",
       "                        }\n",
       "                        break;\n",
       "                    }\n",
       "                }\n",
       "            }, 500);\n",
       "            "
      ],
      "text/plain": [
       "<IPython.core.display.Javascript object>"
      ]
     },
     "metadata": {},
     "output_type": "display_data"
    }
   ],
   "source": [
    "# Combining separate lists into one dictionary\n",
    "known_for_dict = {\n",
    "    \"social\": social,\n",
    "    \"spiritual\": spiritual,\n",
    "    \"academia_humanities\": academia_humanities,\n",
    "    \"business_farming\": business_farming,\n",
    "    \"sciences\": sciences,\n",
    "    \"politics_govt_law\": politics_govt_law,\n",
    "    \"law_enf_military_operator\": law_enf_military_operator,\n",
    "    \"crime\": crime,\n",
    "    \"event_record_other\": event_record_other,\n",
    "    \"other_species\": other_species,\n",
    "    \"arts\": arts,\n",
    "    \"sports\": sports,\n",
    "}"
   ]
  },
  {
   "cell_type": "markdown",
   "id": "ed0168db",
   "metadata": {},
   "source": [
    "#### Extracting Category from `info_2`"
   ]
  },
  {
   "cell_type": "code",
   "execution_count": 14,
   "id": "e9672a86",
   "metadata": {},
   "outputs": [
    {
     "name": "stdout",
     "output_type": "stream",
     "text": [
      "CPU times: total: 10.2 s\n",
      "Wall time: 10.2 s\n"
     ]
    },
    {
     "data": {
      "text/html": [
       "<div>\n",
       "<style scoped>\n",
       "    .dataframe tbody tr th:only-of-type {\n",
       "        vertical-align: middle;\n",
       "    }\n",
       "\n",
       "    .dataframe tbody tr th {\n",
       "        vertical-align: top;\n",
       "    }\n",
       "\n",
       "    .dataframe thead th {\n",
       "        text-align: right;\n",
       "    }\n",
       "</style>\n",
       "<table border=\"1\" class=\"dataframe\">\n",
       "  <thead>\n",
       "    <tr style=\"text-align: right;\">\n",
       "      <th></th>\n",
       "      <th>day</th>\n",
       "      <th>name</th>\n",
       "      <th>info</th>\n",
       "      <th>link</th>\n",
       "      <th>num_references</th>\n",
       "      <th>year</th>\n",
       "      <th>month</th>\n",
       "      <th>info_parenth</th>\n",
       "      <th>info_1</th>\n",
       "      <th>info_2</th>\n",
       "      <th>info_3</th>\n",
       "      <th>info_4</th>\n",
       "      <th>info_5</th>\n",
       "      <th>info_6</th>\n",
       "      <th>info_7</th>\n",
       "      <th>info_8</th>\n",
       "      <th>info_9</th>\n",
       "      <th>info_10</th>\n",
       "      <th>info_11</th>\n",
       "      <th>age</th>\n",
       "      <th>cause_of_death</th>\n",
       "      <th>place_1</th>\n",
       "      <th>place_2</th>\n",
       "      <th>info_parenth_copy</th>\n",
       "      <th>log_num_references</th>\n",
       "      <th>sciences</th>\n",
       "      <th>social</th>\n",
       "      <th>spiritual</th>\n",
       "      <th>academia_humanities</th>\n",
       "      <th>business_farming</th>\n",
       "      <th>arts</th>\n",
       "      <th>sports</th>\n",
       "      <th>law_enf_military_operator</th>\n",
       "      <th>politics_govt_law</th>\n",
       "      <th>crime</th>\n",
       "      <th>event_record_other</th>\n",
       "      <th>other_species</th>\n",
       "      <th>num_categories</th>\n",
       "    </tr>\n",
       "  </thead>\n",
       "  <tbody>\n",
       "    <tr>\n",
       "      <th>77116</th>\n",
       "      <td>9</td>\n",
       "      <td>Yang Enze</td>\n",
       "      <td>, 99, Chinese telecommunications engineer and academic, cerebral hemorrhage.</td>\n",
       "      <td>https://en.wikipedia.org/wiki/Yang_Enze</td>\n",
       "      <td>4</td>\n",
       "      <td>2019</td>\n",
       "      <td>October</td>\n",
       "      <td>None</td>\n",
       "      <td>None</td>\n",
       "      <td></td>\n",
       "      <td>cerebral hemorrhage</td>\n",
       "      <td>None</td>\n",
       "      <td>None</td>\n",
       "      <td>None</td>\n",
       "      <td>None</td>\n",
       "      <td>None</td>\n",
       "      <td>None</td>\n",
       "      <td>None</td>\n",
       "      <td>None</td>\n",
       "      <td>99.0</td>\n",
       "      <td>None</td>\n",
       "      <td>China, People's Republic of</td>\n",
       "      <td>None</td>\n",
       "      <td>None</td>\n",
       "      <td>1.609438</td>\n",
       "      <td>1</td>\n",
       "      <td>0</td>\n",
       "      <td>0</td>\n",
       "      <td>1</td>\n",
       "      <td>0</td>\n",
       "      <td>0</td>\n",
       "      <td>0</td>\n",
       "      <td>0</td>\n",
       "      <td>0</td>\n",
       "      <td>0</td>\n",
       "      <td>0</td>\n",
       "      <td>0</td>\n",
       "      <td>2</td>\n",
       "    </tr>\n",
       "    <tr>\n",
       "      <th>87676</th>\n",
       "      <td>14</td>\n",
       "      <td>Christopher Lee</td>\n",
       "      <td>, 79, British writer  and historian, COVID-19.</td>\n",
       "      <td>https://en.wikipedia.org/wiki/Christopher_Lee_(historian)</td>\n",
       "      <td>9</td>\n",
       "      <td>2021</td>\n",
       "      <td>February</td>\n",
       "      <td></td>\n",
       "      <td>None</td>\n",
       "      <td></td>\n",
       "      <td>COVID</td>\n",
       "      <td>None</td>\n",
       "      <td>None</td>\n",
       "      <td>None</td>\n",
       "      <td>None</td>\n",
       "      <td>None</td>\n",
       "      <td>None</td>\n",
       "      <td>None</td>\n",
       "      <td>None</td>\n",
       "      <td>79.0</td>\n",
       "      <td>None</td>\n",
       "      <td>United Kingdom of Great Britain and Northern Ireland</td>\n",
       "      <td>None</td>\n",
       "      <td></td>\n",
       "      <td>2.302585</td>\n",
       "      <td>0</td>\n",
       "      <td>0</td>\n",
       "      <td>0</td>\n",
       "      <td>1</td>\n",
       "      <td>0</td>\n",
       "      <td>1</td>\n",
       "      <td>0</td>\n",
       "      <td>0</td>\n",
       "      <td>0</td>\n",
       "      <td>0</td>\n",
       "      <td>0</td>\n",
       "      <td>0</td>\n",
       "      <td>2</td>\n",
       "    </tr>\n",
       "  </tbody>\n",
       "</table>\n",
       "</div>"
      ],
      "text/plain": [
       "      day             name  \\\n",
       "77116   9        Yang Enze   \n",
       "87676  14  Christopher Lee   \n",
       "\n",
       "                                                                               info  \\\n",
       "77116  , 99, Chinese telecommunications engineer and academic, cerebral hemorrhage.   \n",
       "87676                                , 79, British writer  and historian, COVID-19.   \n",
       "\n",
       "                                                            link  \\\n",
       "77116                    https://en.wikipedia.org/wiki/Yang_Enze   \n",
       "87676  https://en.wikipedia.org/wiki/Christopher_Lee_(historian)   \n",
       "\n",
       "       num_references  year     month info_parenth info_1 info_2  \\\n",
       "77116               4  2019   October         None   None          \n",
       "87676               9  2021  February                None          \n",
       "\n",
       "                    info_3 info_4 info_5 info_6 info_7 info_8 info_9 info_10  \\\n",
       "77116  cerebral hemorrhage   None   None   None   None   None   None    None   \n",
       "87676                COVID   None   None   None   None   None   None    None   \n",
       "\n",
       "      info_11   age cause_of_death  \\\n",
       "77116    None  99.0           None   \n",
       "87676    None  79.0           None   \n",
       "\n",
       "                                                    place_1 place_2  \\\n",
       "77116                           China, People's Republic of    None   \n",
       "87676  United Kingdom of Great Britain and Northern Ireland    None   \n",
       "\n",
       "      info_parenth_copy  log_num_references  sciences  social  spiritual  \\\n",
       "77116              None            1.609438         1       0          0   \n",
       "87676                              2.302585         0       0          0   \n",
       "\n",
       "       academia_humanities  business_farming  arts  sports  \\\n",
       "77116                    1                 0     0       0   \n",
       "87676                    1                 0     1       0   \n",
       "\n",
       "       law_enf_military_operator  politics_govt_law  crime  \\\n",
       "77116                          0                  0      0   \n",
       "87676                          0                  0      0   \n",
       "\n",
       "       event_record_other  other_species  num_categories  \n",
       "77116                   0              0               2  \n",
       "87676                   0              0               2  "
      ]
     },
     "execution_count": 14,
     "metadata": {},
     "output_type": "execute_result"
    },
    {
     "data": {
      "application/javascript": [
       "\n",
       "            setTimeout(function() {\n",
       "                var nbb_cell_id = 14;\n",
       "                var nbb_unformatted_code = \"%%time\\n\\n# Dictionary version\\nsearch_dict = known_for_dict\\n\\n# Column to check\\ncolumn = 'info_2'\\n\\n# Dataframe\\ndataframe = df[column].notna()\\n\\n# For loop to find role in column and extract it as category\\nfor category, category_lst in search_dict.items():\\n    for role in category_lst:\\n        for index in dataframe.index:\\n            item = df.loc[index, column]\\n            if item:\\n                if role in item:\\n                    df.loc[index, category] = 1\\n                    df.loc[index, column] = item.replace(role, '').strip()\\n\\n# Updating num_categories\\ndf[\\\"num_categories\\\"] = df[known_for_dict.keys()].sum(axis=1)\\n\\n# Checking a sample of rows\\ndf[df['academia_humanities'] ==1].sample(2)\";\n",
       "                var nbb_formatted_code = \"%%time\\n\\n# Dictionary version\\nsearch_dict = known_for_dict\\n\\n# Column to check\\ncolumn = 'info_2'\\n\\n# Dataframe\\ndataframe = df[column].notna()\\n\\n# For loop to find role in column and extract it as category\\nfor category, category_lst in search_dict.items():\\n    for role in category_lst:\\n        for index in dataframe.index:\\n            item = df.loc[index, column]\\n            if item:\\n                if role in item:\\n                    df.loc[index, category] = 1\\n                    df.loc[index, column] = item.replace(role, '').strip()\\n\\n# Updating num_categories\\ndf[\\\"num_categories\\\"] = df[known_for_dict.keys()].sum(axis=1)\\n\\n# Checking a sample of rows\\ndf[df['academia_humanities'] ==1].sample(2)\";\n",
       "                var nbb_cells = Jupyter.notebook.get_cells();\n",
       "                for (var i = 0; i < nbb_cells.length; ++i) {\n",
       "                    if (nbb_cells[i].input_prompt_number == nbb_cell_id) {\n",
       "                        if (nbb_cells[i].get_text() == nbb_unformatted_code) {\n",
       "                             nbb_cells[i].set_text(nbb_formatted_code);\n",
       "                        }\n",
       "                        break;\n",
       "                    }\n",
       "                }\n",
       "            }, 500);\n",
       "            "
      ],
      "text/plain": [
       "<IPython.core.display.Javascript object>"
      ]
     },
     "metadata": {},
     "output_type": "display_data"
    }
   ],
   "source": [
    "%%time\n",
    "\n",
    "# Dictionary version\n",
    "search_dict = known_for_dict\n",
    "\n",
    "# Column to check\n",
    "column = 'info_2'\n",
    "\n",
    "# Dataframe\n",
    "dataframe = df[column].notna()\n",
    "\n",
    "# For loop to find role in column and extract it as category\n",
    "for category, category_lst in search_dict.items():\n",
    "    for role in category_lst:\n",
    "        for index in dataframe.index:\n",
    "            item = df.loc[index, column]\n",
    "            if item:\n",
    "                if role in item:\n",
    "                    df.loc[index, category] = 1\n",
    "                    df.loc[index, column] = item.replace(role, '').strip()\n",
    "\n",
    "# Updating num_categories\n",
    "df[\"num_categories\"] = df[known_for_dict.keys()].sum(axis=1)\n",
    "\n",
    "# Checking a sample of rows\n",
    "df[df['academia_humanities'] ==1].sample(2)"
   ]
  },
  {
   "cell_type": "markdown",
   "id": "7e0b8cbd",
   "metadata": {},
   "source": [
    "#### Checking the Number of Rows without a First Category"
   ]
  },
  {
   "cell_type": "code",
   "execution_count": 15,
   "id": "468ad457",
   "metadata": {},
   "outputs": [
    {
     "name": "stdout",
     "output_type": "stream",
     "text": [
      "There are 28392 entries without any known_for category.\n"
     ]
    },
    {
     "data": {
      "application/javascript": [
       "\n",
       "            setTimeout(function() {\n",
       "                var nbb_cell_id = 15;\n",
       "                var nbb_unformatted_code = \"# Checking the number of rows without a first category\\nprint(\\n    f'There are {len(df[df[\\\"num_categories\\\"]==0])} entries without any known_for category.'\\n)\";\n",
       "                var nbb_formatted_code = \"# Checking the number of rows without a first category\\nprint(\\n    f'There are {len(df[df[\\\"num_categories\\\"]==0])} entries without any known_for category.'\\n)\";\n",
       "                var nbb_cells = Jupyter.notebook.get_cells();\n",
       "                for (var i = 0; i < nbb_cells.length; ++i) {\n",
       "                    if (nbb_cells[i].input_prompt_number == nbb_cell_id) {\n",
       "                        if (nbb_cells[i].get_text() == nbb_unformatted_code) {\n",
       "                             nbb_cells[i].set_text(nbb_formatted_code);\n",
       "                        }\n",
       "                        break;\n",
       "                    }\n",
       "                }\n",
       "            }, 500);\n",
       "            "
      ],
      "text/plain": [
       "<IPython.core.display.Javascript object>"
      ]
     },
     "metadata": {},
     "output_type": "display_data"
    }
   ],
   "source": [
    "# Checking the number of rows without a first category\n",
    "print(\n",
    "    f'There are {len(df[df[\"num_categories\"]==0])} entries without any known_for category.'\n",
    ")"
   ]
  },
  {
   "cell_type": "markdown",
   "id": "af7c2508",
   "metadata": {},
   "source": [
    "#### Observations:\n",
    "- We will proceed to rebuild `known_for_dict` for the next iteration."
   ]
  },
  {
   "cell_type": "markdown",
   "id": "dfe800cf",
   "metadata": {},
   "source": [
    "#### Finding `known_for` Roles in `info_2`"
   ]
  },
  {
   "cell_type": "code",
   "execution_count": 16,
   "id": "6bcc94dd",
   "metadata": {},
   "outputs": [
    {
     "data": {
      "application/javascript": [
       "\n",
       "            setTimeout(function() {\n",
       "                var nbb_cell_id = 16;\n",
       "                var nbb_unformatted_code = \"# # Obtaining values for column and their counts\\n# roles_list = df[\\\"info_2\\\"].value_counts(ascending=True).index.tolist()\";\n",
       "                var nbb_formatted_code = \"# # Obtaining values for column and their counts\\n# roles_list = df[\\\"info_2\\\"].value_counts(ascending=True).index.tolist()\";\n",
       "                var nbb_cells = Jupyter.notebook.get_cells();\n",
       "                for (var i = 0; i < nbb_cells.length; ++i) {\n",
       "                    if (nbb_cells[i].input_prompt_number == nbb_cell_id) {\n",
       "                        if (nbb_cells[i].get_text() == nbb_unformatted_code) {\n",
       "                             nbb_cells[i].set_text(nbb_formatted_code);\n",
       "                        }\n",
       "                        break;\n",
       "                    }\n",
       "                }\n",
       "            }, 500);\n",
       "            "
      ],
      "text/plain": [
       "<IPython.core.display.Javascript object>"
      ]
     },
     "metadata": {},
     "output_type": "display_data"
    }
   ],
   "source": [
    "# # Obtaining values for column and their counts\n",
    "# roles_list = df[\"info_2\"].value_counts(ascending=True).index.tolist()"
   ]
  },
  {
   "cell_type": "code",
   "execution_count": 17,
   "id": "66df646e",
   "metadata": {},
   "outputs": [
    {
     "data": {
      "application/javascript": [
       "\n",
       "            setTimeout(function() {\n",
       "                var nbb_cell_id = 17;\n",
       "                var nbb_unformatted_code = \"# # Code to check each value\\n# roles_list.pop()\";\n",
       "                var nbb_formatted_code = \"# # Code to check each value\\n# roles_list.pop()\";\n",
       "                var nbb_cells = Jupyter.notebook.get_cells();\n",
       "                for (var i = 0; i < nbb_cells.length; ++i) {\n",
       "                    if (nbb_cells[i].input_prompt_number == nbb_cell_id) {\n",
       "                        if (nbb_cells[i].get_text() == nbb_unformatted_code) {\n",
       "                             nbb_cells[i].set_text(nbb_formatted_code);\n",
       "                        }\n",
       "                        break;\n",
       "                    }\n",
       "                }\n",
       "            }, 500);\n",
       "            "
      ],
      "text/plain": [
       "<IPython.core.display.Javascript object>"
      ]
     },
     "metadata": {},
     "output_type": "display_data"
    }
   ],
   "source": [
    "# # Code to check each value\n",
    "# roles_list.pop()"
   ]
  },
  {
   "cell_type": "code",
   "execution_count": 18,
   "id": "1f481a05",
   "metadata": {},
   "outputs": [
    {
     "data": {
      "application/javascript": [
       "\n",
       "            setTimeout(function() {\n",
       "                var nbb_cell_id = 18;\n",
       "                var nbb_unformatted_code = \"# # Create specific_roles_list for above popped value\\n# specific_roles_list = (\\n#     df.loc[\\n#         [\\n#             index\\n#             for index in df[df[\\\"info_2\\\"].notna()].index\\n#             if \\\"film\\\" in df.loc[index, \\\"info_2\\\"]\\n#         ],\\n#         \\\"info_2\\\",\\n#     ]\\n#     .value_counts()\\n#     .index.tolist()\\n# )\";\n",
       "                var nbb_formatted_code = \"# # Create specific_roles_list for above popped value\\n# specific_roles_list = (\\n#     df.loc[\\n#         [\\n#             index\\n#             for index in df[df[\\\"info_2\\\"].notna()].index\\n#             if \\\"film\\\" in df.loc[index, \\\"info_2\\\"]\\n#         ],\\n#         \\\"info_2\\\",\\n#     ]\\n#     .value_counts()\\n#     .index.tolist()\\n# )\";\n",
       "                var nbb_cells = Jupyter.notebook.get_cells();\n",
       "                for (var i = 0; i < nbb_cells.length; ++i) {\n",
       "                    if (nbb_cells[i].input_prompt_number == nbb_cell_id) {\n",
       "                        if (nbb_cells[i].get_text() == nbb_unformatted_code) {\n",
       "                             nbb_cells[i].set_text(nbb_formatted_code);\n",
       "                        }\n",
       "                        break;\n",
       "                    }\n",
       "                }\n",
       "            }, 500);\n",
       "            "
      ],
      "text/plain": [
       "<IPython.core.display.Javascript object>"
      ]
     },
     "metadata": {},
     "output_type": "display_data"
    }
   ],
   "source": [
    "# # Create specific_roles_list for above popped value\n",
    "# specific_roles_list = (\n",
    "#     df.loc[\n",
    "#         [\n",
    "#             index\n",
    "#             for index in df[df[\"info_2\"].notna()].index\n",
    "#             if \"film\" in df.loc[index, \"info_2\"]\n",
    "#         ],\n",
    "#         \"info_2\",\n",
    "#     ]\n",
    "#     .value_counts()\n",
    "#     .index.tolist()\n",
    "# )"
   ]
  },
  {
   "cell_type": "code",
   "execution_count": 19,
   "id": "5b1727a3",
   "metadata": {},
   "outputs": [
    {
     "data": {
      "application/javascript": [
       "\n",
       "            setTimeout(function() {\n",
       "                var nbb_cell_id = 19;\n",
       "                var nbb_unformatted_code = \"# # Code to check each specific value\\n# specific_roles_list.pop()\";\n",
       "                var nbb_formatted_code = \"# # Code to check each specific value\\n# specific_roles_list.pop()\";\n",
       "                var nbb_cells = Jupyter.notebook.get_cells();\n",
       "                for (var i = 0; i < nbb_cells.length; ++i) {\n",
       "                    if (nbb_cells[i].input_prompt_number == nbb_cell_id) {\n",
       "                        if (nbb_cells[i].get_text() == nbb_unformatted_code) {\n",
       "                             nbb_cells[i].set_text(nbb_formatted_code);\n",
       "                        }\n",
       "                        break;\n",
       "                    }\n",
       "                }\n",
       "            }, 500);\n",
       "            "
      ],
      "text/plain": [
       "<IPython.core.display.Javascript object>"
      ]
     },
     "metadata": {},
     "output_type": "display_data"
    }
   ],
   "source": [
    "# # Code to check each specific value\n",
    "# specific_roles_list.pop()"
   ]
  },
  {
   "cell_type": "code",
   "execution_count": 20,
   "id": "0309f4fe",
   "metadata": {},
   "outputs": [
    {
     "data": {
      "text/html": [
       "<div>\n",
       "<style scoped>\n",
       "    .dataframe tbody tr th:only-of-type {\n",
       "        vertical-align: middle;\n",
       "    }\n",
       "\n",
       "    .dataframe tbody tr th {\n",
       "        vertical-align: top;\n",
       "    }\n",
       "\n",
       "    .dataframe thead th {\n",
       "        text-align: right;\n",
       "    }\n",
       "</style>\n",
       "<table border=\"1\" class=\"dataframe\">\n",
       "  <thead>\n",
       "    <tr style=\"text-align: right;\">\n",
       "      <th></th>\n",
       "      <th>day</th>\n",
       "      <th>name</th>\n",
       "      <th>info</th>\n",
       "      <th>link</th>\n",
       "      <th>num_references</th>\n",
       "      <th>year</th>\n",
       "      <th>month</th>\n",
       "      <th>info_parenth</th>\n",
       "      <th>info_1</th>\n",
       "      <th>info_2</th>\n",
       "      <th>info_3</th>\n",
       "      <th>info_4</th>\n",
       "      <th>info_5</th>\n",
       "      <th>info_6</th>\n",
       "      <th>info_7</th>\n",
       "      <th>info_8</th>\n",
       "      <th>info_9</th>\n",
       "      <th>info_10</th>\n",
       "      <th>info_11</th>\n",
       "      <th>age</th>\n",
       "      <th>cause_of_death</th>\n",
       "      <th>place_1</th>\n",
       "      <th>place_2</th>\n",
       "      <th>info_parenth_copy</th>\n",
       "      <th>log_num_references</th>\n",
       "      <th>sciences</th>\n",
       "      <th>social</th>\n",
       "      <th>spiritual</th>\n",
       "      <th>academia_humanities</th>\n",
       "      <th>business_farming</th>\n",
       "      <th>arts</th>\n",
       "      <th>sports</th>\n",
       "      <th>law_enf_military_operator</th>\n",
       "      <th>politics_govt_law</th>\n",
       "      <th>crime</th>\n",
       "      <th>event_record_other</th>\n",
       "      <th>other_species</th>\n",
       "      <th>num_categories</th>\n",
       "    </tr>\n",
       "  </thead>\n",
       "  <tbody>\n",
       "    <tr>\n",
       "      <th>74555</th>\n",
       "      <td>30</td>\n",
       "      <td>Robert R. Spitzer</td>\n",
       "      <td>, 96, American agricultural researcher and educator.</td>\n",
       "      <td>https://en.wikipedia.org/wiki/Robert_R._Spitzer</td>\n",
       "      <td>3</td>\n",
       "      <td>2019</td>\n",
       "      <td>April</td>\n",
       "      <td>None</td>\n",
       "      <td>None</td>\n",
       "      <td>agricultural researcher</td>\n",
       "      <td>None</td>\n",
       "      <td>None</td>\n",
       "      <td>None</td>\n",
       "      <td>None</td>\n",
       "      <td>None</td>\n",
       "      <td>None</td>\n",
       "      <td>None</td>\n",
       "      <td>None</td>\n",
       "      <td>None</td>\n",
       "      <td>96.0</td>\n",
       "      <td>None</td>\n",
       "      <td>United States of America</td>\n",
       "      <td>None</td>\n",
       "      <td>None</td>\n",
       "      <td>1.386294</td>\n",
       "      <td>0</td>\n",
       "      <td>0</td>\n",
       "      <td>0</td>\n",
       "      <td>1</td>\n",
       "      <td>0</td>\n",
       "      <td>0</td>\n",
       "      <td>0</td>\n",
       "      <td>0</td>\n",
       "      <td>0</td>\n",
       "      <td>0</td>\n",
       "      <td>0</td>\n",
       "      <td>0</td>\n",
       "      <td>1</td>\n",
       "    </tr>\n",
       "    <tr>\n",
       "      <th>93001</th>\n",
       "      <td>26</td>\n",
       "      <td>Kirill Razlogov</td>\n",
       "      <td>, 75, Russian film critic and cultural researcher.</td>\n",
       "      <td>https://en.wikipedia.org/wiki/Kirill_Razlogov</td>\n",
       "      <td>6</td>\n",
       "      <td>2021</td>\n",
       "      <td>September</td>\n",
       "      <td>None</td>\n",
       "      <td>None</td>\n",
       "      <td>film critic and cultural researcher</td>\n",
       "      <td>None</td>\n",
       "      <td>None</td>\n",
       "      <td>None</td>\n",
       "      <td>None</td>\n",
       "      <td>None</td>\n",
       "      <td>None</td>\n",
       "      <td>None</td>\n",
       "      <td>None</td>\n",
       "      <td>None</td>\n",
       "      <td>75.0</td>\n",
       "      <td>None</td>\n",
       "      <td>Russia</td>\n",
       "      <td>None</td>\n",
       "      <td>None</td>\n",
       "      <td>1.945910</td>\n",
       "      <td>0</td>\n",
       "      <td>0</td>\n",
       "      <td>0</td>\n",
       "      <td>0</td>\n",
       "      <td>0</td>\n",
       "      <td>0</td>\n",
       "      <td>0</td>\n",
       "      <td>0</td>\n",
       "      <td>0</td>\n",
       "      <td>0</td>\n",
       "      <td>0</td>\n",
       "      <td>0</td>\n",
       "      <td>0</td>\n",
       "    </tr>\n",
       "  </tbody>\n",
       "</table>\n",
       "</div>"
      ],
      "text/plain": [
       "      day               name  \\\n",
       "74555  30  Robert R. Spitzer   \n",
       "93001  26    Kirill Razlogov   \n",
       "\n",
       "                                                       info  \\\n",
       "74555  , 96, American agricultural researcher and educator.   \n",
       "93001    , 75, Russian film critic and cultural researcher.   \n",
       "\n",
       "                                                  link  num_references  year  \\\n",
       "74555  https://en.wikipedia.org/wiki/Robert_R._Spitzer               3  2019   \n",
       "93001    https://en.wikipedia.org/wiki/Kirill_Razlogov               6  2021   \n",
       "\n",
       "           month info_parenth info_1                               info_2  \\\n",
       "74555      April         None   None              agricultural researcher   \n",
       "93001  September         None   None  film critic and cultural researcher   \n",
       "\n",
       "      info_3 info_4 info_5 info_6 info_7 info_8 info_9 info_10 info_11   age  \\\n",
       "74555   None   None   None   None   None   None   None    None    None  96.0   \n",
       "93001   None   None   None   None   None   None   None    None    None  75.0   \n",
       "\n",
       "      cause_of_death                   place_1 place_2 info_parenth_copy  \\\n",
       "74555           None  United States of America    None              None   \n",
       "93001           None                    Russia    None              None   \n",
       "\n",
       "       log_num_references  sciences  social  spiritual  academia_humanities  \\\n",
       "74555            1.386294         0       0          0                    1   \n",
       "93001            1.945910         0       0          0                    0   \n",
       "\n",
       "       business_farming  arts  sports  law_enf_military_operator  \\\n",
       "74555                 0     0       0                          0   \n",
       "93001                 0     0       0                          0   \n",
       "\n",
       "       politics_govt_law  crime  event_record_other  other_species  \\\n",
       "74555                  0      0                   0              0   \n",
       "93001                  0      0                   0              0   \n",
       "\n",
       "       num_categories  \n",
       "74555               1  \n",
       "93001               0  "
      ]
     },
     "execution_count": 20,
     "metadata": {},
     "output_type": "execute_result"
    },
    {
     "data": {
      "application/javascript": [
       "\n",
       "            setTimeout(function() {\n",
       "                var nbb_cell_id = 20;\n",
       "                var nbb_unformatted_code = \"# Example code to quick-screen values that may overlap categories\\ndf.loc[[index for index in df.index if \\\"cultural researcher\\\" in df.loc[index, \\\"info\\\"]]]\";\n",
       "                var nbb_formatted_code = \"# Example code to quick-screen values that may overlap categories\\ndf.loc[[index for index in df.index if \\\"cultural researcher\\\" in df.loc[index, \\\"info\\\"]]]\";\n",
       "                var nbb_cells = Jupyter.notebook.get_cells();\n",
       "                for (var i = 0; i < nbb_cells.length; ++i) {\n",
       "                    if (nbb_cells[i].input_prompt_number == nbb_cell_id) {\n",
       "                        if (nbb_cells[i].get_text() == nbb_unformatted_code) {\n",
       "                             nbb_cells[i].set_text(nbb_formatted_code);\n",
       "                        }\n",
       "                        break;\n",
       "                    }\n",
       "                }\n",
       "            }, 500);\n",
       "            "
      ],
      "text/plain": [
       "<IPython.core.display.Javascript object>"
      ]
     },
     "metadata": {},
     "output_type": "display_data"
    }
   ],
   "source": [
    "# Example code to quick-screen values that may overlap categories\n",
    "df.loc[[index for index in df.index if \"cultural researcher\" in df.loc[index, \"info\"]]]"
   ]
  },
  {
   "cell_type": "code",
   "execution_count": 21,
   "id": "83a8f940",
   "metadata": {},
   "outputs": [
    {
     "data": {
      "application/javascript": [
       "\n",
       "            setTimeout(function() {\n",
       "                var nbb_cell_id = 21;\n",
       "                var nbb_unformatted_code = \"# # Example code to quick-screen values that may overlap categories\\n# df.loc[[index for index in df.index if \\\"censor\\\" in df.loc[index, \\\"info\\\"]]]\";\n",
       "                var nbb_formatted_code = \"# # Example code to quick-screen values that may overlap categories\\n# df.loc[[index for index in df.index if \\\"censor\\\" in df.loc[index, \\\"info\\\"]]]\";\n",
       "                var nbb_cells = Jupyter.notebook.get_cells();\n",
       "                for (var i = 0; i < nbb_cells.length; ++i) {\n",
       "                    if (nbb_cells[i].input_prompt_number == nbb_cell_id) {\n",
       "                        if (nbb_cells[i].get_text() == nbb_unformatted_code) {\n",
       "                             nbb_cells[i].set_text(nbb_formatted_code);\n",
       "                        }\n",
       "                        break;\n",
       "                    }\n",
       "                }\n",
       "            }, 500);\n",
       "            "
      ],
      "text/plain": [
       "<IPython.core.display.Javascript object>"
      ]
     },
     "metadata": {},
     "output_type": "display_data"
    }
   ],
   "source": [
    "# # Example code to quick-screen values that may overlap categories\n",
    "# df.loc[[index for index in df.index if \"censor\" in df.loc[index, \"info\"]]]"
   ]
  },
  {
   "cell_type": "code",
   "execution_count": 22,
   "id": "5299c3be",
   "metadata": {},
   "outputs": [
    {
     "data": {
      "application/javascript": [
       "\n",
       "            setTimeout(function() {\n",
       "                var nbb_cell_id = 22;\n",
       "                var nbb_unformatted_code = \"# # Example code to quick-check a specific entry\\n# df[df[\\\"info_2\\\"] == \\\"film subject and domestic abuse symbol\\\"]\";\n",
       "                var nbb_formatted_code = \"# # Example code to quick-check a specific entry\\n# df[df[\\\"info_2\\\"] == \\\"film subject and domestic abuse symbol\\\"]\";\n",
       "                var nbb_cells = Jupyter.notebook.get_cells();\n",
       "                for (var i = 0; i < nbb_cells.length; ++i) {\n",
       "                    if (nbb_cells[i].input_prompt_number == nbb_cell_id) {\n",
       "                        if (nbb_cells[i].get_text() == nbb_unformatted_code) {\n",
       "                             nbb_cells[i].set_text(nbb_formatted_code);\n",
       "                        }\n",
       "                        break;\n",
       "                    }\n",
       "                }\n",
       "            }, 500);\n",
       "            "
      ],
      "text/plain": [
       "<IPython.core.display.Javascript object>"
      ]
     },
     "metadata": {},
     "output_type": "display_data"
    }
   ],
   "source": [
    "# # Example code to quick-check a specific entry\n",
    "# df[df[\"info_2\"] == \"film subject and domestic abuse symbol\"]"
   ]
  },
  {
   "cell_type": "markdown",
   "id": "0813c9a5",
   "metadata": {},
   "source": [
    "#### Creating Lists for Each `known_for` Category"
   ]
  },
  {
   "cell_type": "code",
   "execution_count": 23,
   "id": "b2f4f875",
   "metadata": {},
   "outputs": [
    {
     "data": {
      "application/javascript": [
       "\n",
       "            setTimeout(function() {\n",
       "                var nbb_cell_id = 23;\n",
       "                var nbb_unformatted_code = \"# Creating lists for each category\\npolitics_govt_law = [\\n    \\\"censor\\\",\\n]\\n\\narts = [\\n    \\\"documentary filmmaker and pioneer of public access television\\\",\\n    \\\"television documentary director and filmmaker\\\",\\n    \\\"film and television special effects designer\\\",\\n    \\\"Bollywood filmmaker and brother of Dev Anand\\\",\\n    \\\"rock tour organiser and film studio manager\\\",\\n    \\\"film musical arranger musical orchestrator\\\",\\n    \\\"film and television editor and director\\\",\\n    \\\"filmmaker and children book illustrator\\\",\\n    \\\"film critic and film festival director\\\",\\n    \\\"experimental filmmaker and glass maker\\\",\\n    \\\"film studio executive and talent agent\\\",\\n    \\\"film editor and Academy Award winner\\\",\\n    \\\"film and television costume designer\\\",\\n    \\\"BBC Northern broadcaster & filmmaker\\\",\\n    \\\"film critic and television presenter\\\",\\n    \\\"director and producer in film and TV\\\",\\n    \\\"television executive and filmmaker\\\",\\n    \\\"music director for Bollywood films\\\",\\n    \\\"film studio executive and producer\\\",\\n    \\\"filmmaker and television producer\\\",\\n    \\\"wildlife film maker and producer\\\",\\n    \\\"director for film and television\\\",\\n    \\\"underwater documentary filmmaker\\\",\\n    \\\"film documentarian and producer\\\",\\n    \\\"filmmaker and festival promoter\\\",\\n    \\\"graphic designer and filmmaker\\\",\\n    \\\"film and advertising executive\\\",\\n    \\\"film critic and radio producer\\\",\\n    \\\"film distributor and producer\\\",\\n    \\\"\\u02bcNamgis documentary filmmaker\\\",\\n    \\\"cinematographer and filmmaker\\\",\\n    \\\"and film and theater director\\\",\\n    \\\"television and film executive\\\",\\n    \\\"film and television executive\\\",\\n    \\\"film and television producer\\\",\\n    \\\"Arabian film and TV director\\\",\\n    \\\"film and stage choreographer\\\",\\n    \\\"stage director and filmmaker\\\",\\n    \\\"choreographer and filmmaker\\\",\\n    \\\"music documentary filmmaker\\\",\\n    \\\"film critic and researcher\\\",\\n    \\\"independent film executive\\\",\\n    \\\"film and television editor\\\",\\n    \\\"columnist and film critic\\\",\\n    \\\"Oscar winning film editor\\\",\\n    \\\"and documentary filmmaker\\\",\\n    \\\"film and theater director\\\",\\n    \\\"and documentary filmmaker\\\",\\n    \\\"documentary filmmaker and\\\",\\n    \\\"film and theatre producer\\\",\\n    \\\"film and theater producer\\\",\\n    \\\"film and theatre director\\\",\\n    \\\"film production designer\\\",\\n    \\\"music and film executive\\\",\\n    \\\"producer of horror films\\\",\\n    \\\"and underwater filmmaker\\\",\\n    \\\"film critic and essayist\\\",\\n    \\\"film television producer\\\",\\n    \\\"film marketing publicist\\\",\\n    \\\"film critic and producer\\\",\\n    \\\"film editor and producer\\\",\\n    \\\"and aerial film operator\\\",\\n    \\\"film editor and director\\\",\\n    \\\"film critic and director\\\",\\n    \\\"film industry executive\\\",\\n    \\\"film and opera director\\\",\\n    \\\"theater and film critic\\\",\\n    \\\"film and stage director\\\",\\n    \\\"filmmaker and cameraman\\\",\\n    \\\"Emmy Award winning film\\\",\\n    \\\"documentary film editor\\\",\\n    \\\"Tony Award winning film\\\",\\n    \\\"film and theatre critic\\\",\\n    \\\"theatre and film critic\\\",\\n    \\\"documentary film maker\\\",\\n    \\\"experimental filmmaker\\\",\\n    \\\"filmmaker and director\\\",\\n    \\\"animator and filmmaker\\\",\\n    \\\"film critic for on ABC\\\",\\n    \\\"independent film maker\\\",\\n    \\\"pornographic filmmaker\\\",\\n    \\\"filmmaker and designer\\\",\\n    \\\"producer and filmmaker\\\",\\n    \\\"filmmaker and producer\\\",\\n    \\\"documentary filmmaker\\\",\\n    \\\"film studio executive\\\",\\n    \\\"advertising filmmaker\\\",\\n    \\\"avant garde filmmaker\\\",\\n    \\\"music and film critic\\\",\\n    \\\"film costume designer\\\",\\n    \\\"independent filmmaker\\\",\\n    \\\"film  television host\\\",\\n    \\\"film and TV director\\\",\\n    \\\"surrealist filmmaker\\\",\\n    \\\"film and TV producer\\\",\\n    \\\"filmmaker and editor\\\",\\n    \\\"film camera operator\\\",\\n    \\\"film music director\\\",\\n    \\\"film location scout\\\",\\n    \\\"film stunt director\\\",\\n    \\\"wildlife filmmaker\\\",\\n    \\\"film prop designer\\\",\\n    \\\"film choreographer\\\",\\n    \\\"film distributor\\\",\\n    \\\"of film studies\\\",\\n    \\\"film programmer\\\",\\n    \\\"South filmmaker\\\",\\n    \\\"and film critic\\\",\\n    \\\"adult film star\\\",\\n    \\\"film editor and\\\",\\n    \\\"film critic and\\\",\\n    \\\"film executive\\\",\\n    \\\"film trumpeter\\\",\\n    \\\"and filmmaker\\\",\\n    \\\"filmmaker and\\\",\\n    \\\"film lyricist\\\",\\n    \\\"film pioneer\\\",\\n    \\\"film editor\\\",\\n    \\\"film critic\\\",\\n    \\\"film maker\\\",\\n    \\\"filmmaker\\\",\\n    \\\"film star\\\",\\n    \\\"film and\\\",\\n    \\\"and film\\\",\\n    \\\"film\\\",\\n]\\nsports = []\\nsciences = [\\n    \\\"restorer\\\",\\n    \\\"virtual reality technology pioneer and\\\",\\n]\\n\\nbusiness_farming = []\\nacademia_humanities = []\\nlaw_enf_military_operator = []\\nspiritual = [\\\"Anglican prelate and theologian\\\", \\\"Anglican prelate\\\"]\\nsocial = []\\ncrime = []\\nevent_record_other = [\\n    \\\"ALD patient portrayed in the film\\\",  # before arts\\n    \\\"filmgoer\\\",\\n    \\\"film subject and domestic abuse symbol\\\",\\n]\\nother_species = []\";\n",
       "                var nbb_formatted_code = \"# Creating lists for each category\\npolitics_govt_law = [\\n    \\\"censor\\\",\\n]\\n\\narts = [\\n    \\\"documentary filmmaker and pioneer of public access television\\\",\\n    \\\"television documentary director and filmmaker\\\",\\n    \\\"film and television special effects designer\\\",\\n    \\\"Bollywood filmmaker and brother of Dev Anand\\\",\\n    \\\"rock tour organiser and film studio manager\\\",\\n    \\\"film musical arranger musical orchestrator\\\",\\n    \\\"film and television editor and director\\\",\\n    \\\"filmmaker and children book illustrator\\\",\\n    \\\"film critic and film festival director\\\",\\n    \\\"experimental filmmaker and glass maker\\\",\\n    \\\"film studio executive and talent agent\\\",\\n    \\\"film editor and Academy Award winner\\\",\\n    \\\"film and television costume designer\\\",\\n    \\\"BBC Northern broadcaster & filmmaker\\\",\\n    \\\"film critic and television presenter\\\",\\n    \\\"director and producer in film and TV\\\",\\n    \\\"television executive and filmmaker\\\",\\n    \\\"music director for Bollywood films\\\",\\n    \\\"film studio executive and producer\\\",\\n    \\\"filmmaker and television producer\\\",\\n    \\\"wildlife film maker and producer\\\",\\n    \\\"director for film and television\\\",\\n    \\\"underwater documentary filmmaker\\\",\\n    \\\"film documentarian and producer\\\",\\n    \\\"filmmaker and festival promoter\\\",\\n    \\\"graphic designer and filmmaker\\\",\\n    \\\"film and advertising executive\\\",\\n    \\\"film critic and radio producer\\\",\\n    \\\"film distributor and producer\\\",\\n    \\\"\\u02bcNamgis documentary filmmaker\\\",\\n    \\\"cinematographer and filmmaker\\\",\\n    \\\"and film and theater director\\\",\\n    \\\"television and film executive\\\",\\n    \\\"film and television executive\\\",\\n    \\\"film and television producer\\\",\\n    \\\"Arabian film and TV director\\\",\\n    \\\"film and stage choreographer\\\",\\n    \\\"stage director and filmmaker\\\",\\n    \\\"choreographer and filmmaker\\\",\\n    \\\"music documentary filmmaker\\\",\\n    \\\"film critic and researcher\\\",\\n    \\\"independent film executive\\\",\\n    \\\"film and television editor\\\",\\n    \\\"columnist and film critic\\\",\\n    \\\"Oscar winning film editor\\\",\\n    \\\"and documentary filmmaker\\\",\\n    \\\"film and theater director\\\",\\n    \\\"and documentary filmmaker\\\",\\n    \\\"documentary filmmaker and\\\",\\n    \\\"film and theatre producer\\\",\\n    \\\"film and theater producer\\\",\\n    \\\"film and theatre director\\\",\\n    \\\"film production designer\\\",\\n    \\\"music and film executive\\\",\\n    \\\"producer of horror films\\\",\\n    \\\"and underwater filmmaker\\\",\\n    \\\"film critic and essayist\\\",\\n    \\\"film television producer\\\",\\n    \\\"film marketing publicist\\\",\\n    \\\"film critic and producer\\\",\\n    \\\"film editor and producer\\\",\\n    \\\"and aerial film operator\\\",\\n    \\\"film editor and director\\\",\\n    \\\"film critic and director\\\",\\n    \\\"film industry executive\\\",\\n    \\\"film and opera director\\\",\\n    \\\"theater and film critic\\\",\\n    \\\"film and stage director\\\",\\n    \\\"filmmaker and cameraman\\\",\\n    \\\"Emmy Award winning film\\\",\\n    \\\"documentary film editor\\\",\\n    \\\"Tony Award winning film\\\",\\n    \\\"film and theatre critic\\\",\\n    \\\"theatre and film critic\\\",\\n    \\\"documentary film maker\\\",\\n    \\\"experimental filmmaker\\\",\\n    \\\"filmmaker and director\\\",\\n    \\\"animator and filmmaker\\\",\\n    \\\"film critic for on ABC\\\",\\n    \\\"independent film maker\\\",\\n    \\\"pornographic filmmaker\\\",\\n    \\\"filmmaker and designer\\\",\\n    \\\"producer and filmmaker\\\",\\n    \\\"filmmaker and producer\\\",\\n    \\\"documentary filmmaker\\\",\\n    \\\"film studio executive\\\",\\n    \\\"advertising filmmaker\\\",\\n    \\\"avant garde filmmaker\\\",\\n    \\\"music and film critic\\\",\\n    \\\"film costume designer\\\",\\n    \\\"independent filmmaker\\\",\\n    \\\"film  television host\\\",\\n    \\\"film and TV director\\\",\\n    \\\"surrealist filmmaker\\\",\\n    \\\"film and TV producer\\\",\\n    \\\"filmmaker and editor\\\",\\n    \\\"film camera operator\\\",\\n    \\\"film music director\\\",\\n    \\\"film location scout\\\",\\n    \\\"film stunt director\\\",\\n    \\\"wildlife filmmaker\\\",\\n    \\\"film prop designer\\\",\\n    \\\"film choreographer\\\",\\n    \\\"film distributor\\\",\\n    \\\"of film studies\\\",\\n    \\\"film programmer\\\",\\n    \\\"South filmmaker\\\",\\n    \\\"and film critic\\\",\\n    \\\"adult film star\\\",\\n    \\\"film editor and\\\",\\n    \\\"film critic and\\\",\\n    \\\"film executive\\\",\\n    \\\"film trumpeter\\\",\\n    \\\"and filmmaker\\\",\\n    \\\"filmmaker and\\\",\\n    \\\"film lyricist\\\",\\n    \\\"film pioneer\\\",\\n    \\\"film editor\\\",\\n    \\\"film critic\\\",\\n    \\\"film maker\\\",\\n    \\\"filmmaker\\\",\\n    \\\"film star\\\",\\n    \\\"film and\\\",\\n    \\\"and film\\\",\\n    \\\"film\\\",\\n]\\nsports = []\\nsciences = [\\n    \\\"restorer\\\",\\n    \\\"virtual reality technology pioneer and\\\",\\n]\\n\\nbusiness_farming = []\\nacademia_humanities = []\\nlaw_enf_military_operator = []\\nspiritual = [\\\"Anglican prelate and theologian\\\", \\\"Anglican prelate\\\"]\\nsocial = []\\ncrime = []\\nevent_record_other = [\\n    \\\"ALD patient portrayed in the film\\\",  # before arts\\n    \\\"filmgoer\\\",\\n    \\\"film subject and domestic abuse symbol\\\",\\n]\\nother_species = []\";\n",
       "                var nbb_cells = Jupyter.notebook.get_cells();\n",
       "                for (var i = 0; i < nbb_cells.length; ++i) {\n",
       "                    if (nbb_cells[i].input_prompt_number == nbb_cell_id) {\n",
       "                        if (nbb_cells[i].get_text() == nbb_unformatted_code) {\n",
       "                             nbb_cells[i].set_text(nbb_formatted_code);\n",
       "                        }\n",
       "                        break;\n",
       "                    }\n",
       "                }\n",
       "            }, 500);\n",
       "            "
      ],
      "text/plain": [
       "<IPython.core.display.Javascript object>"
      ]
     },
     "metadata": {},
     "output_type": "display_data"
    }
   ],
   "source": [
    "# Creating lists for each category\n",
    "politics_govt_law = [\n",
    "    \"censor\",\n",
    "]\n",
    "\n",
    "arts = [\n",
    "    \"documentary filmmaker and pioneer of public access television\",\n",
    "    \"television documentary director and filmmaker\",\n",
    "    \"film and television special effects designer\",\n",
    "    \"Bollywood filmmaker and brother of Dev Anand\",\n",
    "    \"rock tour organiser and film studio manager\",\n",
    "    \"film musical arranger musical orchestrator\",\n",
    "    \"film and television editor and director\",\n",
    "    \"filmmaker and children book illustrator\",\n",
    "    \"film critic and film festival director\",\n",
    "    \"experimental filmmaker and glass maker\",\n",
    "    \"film studio executive and talent agent\",\n",
    "    \"film editor and Academy Award winner\",\n",
    "    \"film and television costume designer\",\n",
    "    \"BBC Northern broadcaster & filmmaker\",\n",
    "    \"film critic and television presenter\",\n",
    "    \"director and producer in film and TV\",\n",
    "    \"television executive and filmmaker\",\n",
    "    \"music director for Bollywood films\",\n",
    "    \"film studio executive and producer\",\n",
    "    \"filmmaker and television producer\",\n",
    "    \"wildlife film maker and producer\",\n",
    "    \"director for film and television\",\n",
    "    \"underwater documentary filmmaker\",\n",
    "    \"film documentarian and producer\",\n",
    "    \"filmmaker and festival promoter\",\n",
    "    \"graphic designer and filmmaker\",\n",
    "    \"film and advertising executive\",\n",
    "    \"film critic and radio producer\",\n",
    "    \"film distributor and producer\",\n",
    "    \"ʼNamgis documentary filmmaker\",\n",
    "    \"cinematographer and filmmaker\",\n",
    "    \"and film and theater director\",\n",
    "    \"television and film executive\",\n",
    "    \"film and television executive\",\n",
    "    \"film and television producer\",\n",
    "    \"Arabian film and TV director\",\n",
    "    \"film and stage choreographer\",\n",
    "    \"stage director and filmmaker\",\n",
    "    \"choreographer and filmmaker\",\n",
    "    \"music documentary filmmaker\",\n",
    "    \"film critic and researcher\",\n",
    "    \"independent film executive\",\n",
    "    \"film and television editor\",\n",
    "    \"columnist and film critic\",\n",
    "    \"Oscar winning film editor\",\n",
    "    \"and documentary filmmaker\",\n",
    "    \"film and theater director\",\n",
    "    \"and documentary filmmaker\",\n",
    "    \"documentary filmmaker and\",\n",
    "    \"film and theatre producer\",\n",
    "    \"film and theater producer\",\n",
    "    \"film and theatre director\",\n",
    "    \"film production designer\",\n",
    "    \"music and film executive\",\n",
    "    \"producer of horror films\",\n",
    "    \"and underwater filmmaker\",\n",
    "    \"film critic and essayist\",\n",
    "    \"film television producer\",\n",
    "    \"film marketing publicist\",\n",
    "    \"film critic and producer\",\n",
    "    \"film editor and producer\",\n",
    "    \"and aerial film operator\",\n",
    "    \"film editor and director\",\n",
    "    \"film critic and director\",\n",
    "    \"film industry executive\",\n",
    "    \"film and opera director\",\n",
    "    \"theater and film critic\",\n",
    "    \"film and stage director\",\n",
    "    \"filmmaker and cameraman\",\n",
    "    \"Emmy Award winning film\",\n",
    "    \"documentary film editor\",\n",
    "    \"Tony Award winning film\",\n",
    "    \"film and theatre critic\",\n",
    "    \"theatre and film critic\",\n",
    "    \"documentary film maker\",\n",
    "    \"experimental filmmaker\",\n",
    "    \"filmmaker and director\",\n",
    "    \"animator and filmmaker\",\n",
    "    \"film critic for on ABC\",\n",
    "    \"independent film maker\",\n",
    "    \"pornographic filmmaker\",\n",
    "    \"filmmaker and designer\",\n",
    "    \"producer and filmmaker\",\n",
    "    \"filmmaker and producer\",\n",
    "    \"documentary filmmaker\",\n",
    "    \"film studio executive\",\n",
    "    \"advertising filmmaker\",\n",
    "    \"avant garde filmmaker\",\n",
    "    \"music and film critic\",\n",
    "    \"film costume designer\",\n",
    "    \"independent filmmaker\",\n",
    "    \"film  television host\",\n",
    "    \"film and TV director\",\n",
    "    \"surrealist filmmaker\",\n",
    "    \"film and TV producer\",\n",
    "    \"filmmaker and editor\",\n",
    "    \"film camera operator\",\n",
    "    \"film music director\",\n",
    "    \"film location scout\",\n",
    "    \"film stunt director\",\n",
    "    \"wildlife filmmaker\",\n",
    "    \"film prop designer\",\n",
    "    \"film choreographer\",\n",
    "    \"film distributor\",\n",
    "    \"of film studies\",\n",
    "    \"film programmer\",\n",
    "    \"South filmmaker\",\n",
    "    \"and film critic\",\n",
    "    \"adult film star\",\n",
    "    \"film editor and\",\n",
    "    \"film critic and\",\n",
    "    \"film executive\",\n",
    "    \"film trumpeter\",\n",
    "    \"and filmmaker\",\n",
    "    \"filmmaker and\",\n",
    "    \"film lyricist\",\n",
    "    \"film pioneer\",\n",
    "    \"film editor\",\n",
    "    \"film critic\",\n",
    "    \"film maker\",\n",
    "    \"filmmaker\",\n",
    "    \"film star\",\n",
    "    \"film and\",\n",
    "    \"and film\",\n",
    "    \"film\",\n",
    "]\n",
    "sports = []\n",
    "sciences = [\n",
    "    \"restorer\",\n",
    "    \"virtual reality technology pioneer and\",\n",
    "]\n",
    "\n",
    "business_farming = []\n",
    "academia_humanities = []\n",
    "law_enf_military_operator = []\n",
    "spiritual = [\"Anglican prelate and theologian\", \"Anglican prelate\"]\n",
    "social = []\n",
    "crime = []\n",
    "event_record_other = [\n",
    "    \"ALD patient portrayed in the film\",  # before arts\n",
    "    \"filmgoer\",\n",
    "    \"film subject and domestic abuse symbol\",\n",
    "]\n",
    "other_species = []"
   ]
  },
  {
   "cell_type": "markdown",
   "id": "aa71749f",
   "metadata": {},
   "source": [
    "#### Creating `known_for_dict` Dictionary of Category Keys and Specific Role Lists of Values"
   ]
  },
  {
   "cell_type": "code",
   "execution_count": 24,
   "id": "af1abd2d",
   "metadata": {},
   "outputs": [
    {
     "data": {
      "application/javascript": [
       "\n",
       "            setTimeout(function() {\n",
       "                var nbb_cell_id = 24;\n",
       "                var nbb_unformatted_code = \"# Combining separate lists into one dictionary\\nknown_for_dict = {\\n    \\\"social\\\": social,\\n    \\\"spiritual\\\": spiritual,\\n    \\\"academia_humanities\\\": academia_humanities,\\n    \\\"business_farming\\\": business_farming,\\n    \\\"sciences\\\": sciences,\\n    \\\"politics_govt_law\\\": politics_govt_law,\\n    \\\"law_enf_military_operator\\\": law_enf_military_operator,\\n    \\\"crime\\\": crime,\\n    \\\"event_record_other\\\": event_record_other,\\n    \\\"other_species\\\": other_species,\\n    \\\"sports\\\": sports,\\n    \\\"arts\\\": arts,\\n}\";\n",
       "                var nbb_formatted_code = \"# Combining separate lists into one dictionary\\nknown_for_dict = {\\n    \\\"social\\\": social,\\n    \\\"spiritual\\\": spiritual,\\n    \\\"academia_humanities\\\": academia_humanities,\\n    \\\"business_farming\\\": business_farming,\\n    \\\"sciences\\\": sciences,\\n    \\\"politics_govt_law\\\": politics_govt_law,\\n    \\\"law_enf_military_operator\\\": law_enf_military_operator,\\n    \\\"crime\\\": crime,\\n    \\\"event_record_other\\\": event_record_other,\\n    \\\"other_species\\\": other_species,\\n    \\\"sports\\\": sports,\\n    \\\"arts\\\": arts,\\n}\";\n",
       "                var nbb_cells = Jupyter.notebook.get_cells();\n",
       "                for (var i = 0; i < nbb_cells.length; ++i) {\n",
       "                    if (nbb_cells[i].input_prompt_number == nbb_cell_id) {\n",
       "                        if (nbb_cells[i].get_text() == nbb_unformatted_code) {\n",
       "                             nbb_cells[i].set_text(nbb_formatted_code);\n",
       "                        }\n",
       "                        break;\n",
       "                    }\n",
       "                }\n",
       "            }, 500);\n",
       "            "
      ],
      "text/plain": [
       "<IPython.core.display.Javascript object>"
      ]
     },
     "metadata": {},
     "output_type": "display_data"
    }
   ],
   "source": [
    "# Combining separate lists into one dictionary\n",
    "known_for_dict = {\n",
    "    \"social\": social,\n",
    "    \"spiritual\": spiritual,\n",
    "    \"academia_humanities\": academia_humanities,\n",
    "    \"business_farming\": business_farming,\n",
    "    \"sciences\": sciences,\n",
    "    \"politics_govt_law\": politics_govt_law,\n",
    "    \"law_enf_military_operator\": law_enf_military_operator,\n",
    "    \"crime\": crime,\n",
    "    \"event_record_other\": event_record_other,\n",
    "    \"other_species\": other_species,\n",
    "    \"sports\": sports,\n",
    "    \"arts\": arts,\n",
    "}"
   ]
  },
  {
   "cell_type": "markdown",
   "id": "38ce58a2",
   "metadata": {},
   "source": [
    "#### Extracting Category from `info_2`"
   ]
  },
  {
   "cell_type": "code",
   "execution_count": 25,
   "id": "2addd0d4",
   "metadata": {},
   "outputs": [
    {
     "name": "stdout",
     "output_type": "stream",
     "text": [
      "CPU times: total: 1min 6s\n",
      "Wall time: 1min 6s\n"
     ]
    },
    {
     "data": {
      "text/html": [
       "<div>\n",
       "<style scoped>\n",
       "    .dataframe tbody tr th:only-of-type {\n",
       "        vertical-align: middle;\n",
       "    }\n",
       "\n",
       "    .dataframe tbody tr th {\n",
       "        vertical-align: top;\n",
       "    }\n",
       "\n",
       "    .dataframe thead th {\n",
       "        text-align: right;\n",
       "    }\n",
       "</style>\n",
       "<table border=\"1\" class=\"dataframe\">\n",
       "  <thead>\n",
       "    <tr style=\"text-align: right;\">\n",
       "      <th></th>\n",
       "      <th>day</th>\n",
       "      <th>name</th>\n",
       "      <th>info</th>\n",
       "      <th>link</th>\n",
       "      <th>num_references</th>\n",
       "      <th>year</th>\n",
       "      <th>month</th>\n",
       "      <th>info_parenth</th>\n",
       "      <th>info_1</th>\n",
       "      <th>info_2</th>\n",
       "      <th>info_3</th>\n",
       "      <th>info_4</th>\n",
       "      <th>info_5</th>\n",
       "      <th>info_6</th>\n",
       "      <th>info_7</th>\n",
       "      <th>info_8</th>\n",
       "      <th>info_9</th>\n",
       "      <th>info_10</th>\n",
       "      <th>info_11</th>\n",
       "      <th>age</th>\n",
       "      <th>cause_of_death</th>\n",
       "      <th>place_1</th>\n",
       "      <th>place_2</th>\n",
       "      <th>info_parenth_copy</th>\n",
       "      <th>log_num_references</th>\n",
       "      <th>sciences</th>\n",
       "      <th>social</th>\n",
       "      <th>spiritual</th>\n",
       "      <th>academia_humanities</th>\n",
       "      <th>business_farming</th>\n",
       "      <th>arts</th>\n",
       "      <th>sports</th>\n",
       "      <th>law_enf_military_operator</th>\n",
       "      <th>politics_govt_law</th>\n",
       "      <th>crime</th>\n",
       "      <th>event_record_other</th>\n",
       "      <th>other_species</th>\n",
       "      <th>num_categories</th>\n",
       "    </tr>\n",
       "  </thead>\n",
       "  <tbody>\n",
       "    <tr>\n",
       "      <th>75257</th>\n",
       "      <td>13</td>\n",
       "      <td>Pierre DuMaine</td>\n",
       "      <td>, 87, American Roman Catholic prelate, Bishop of San Jose .</td>\n",
       "      <td>https://en.wikipedia.org/wiki/Pierre_DuMaine</td>\n",
       "      <td>3</td>\n",
       "      <td>2019</td>\n",
       "      <td>June</td>\n",
       "      <td></td>\n",
       "      <td>None</td>\n",
       "      <td></td>\n",
       "      <td>Bishop of San Jose</td>\n",
       "      <td>None</td>\n",
       "      <td>None</td>\n",
       "      <td>None</td>\n",
       "      <td>None</td>\n",
       "      <td>None</td>\n",
       "      <td>None</td>\n",
       "      <td>None</td>\n",
       "      <td>None</td>\n",
       "      <td>87.0</td>\n",
       "      <td>None</td>\n",
       "      <td>United States of America</td>\n",
       "      <td>Italy</td>\n",
       "      <td>1981 1999</td>\n",
       "      <td>1.386294</td>\n",
       "      <td>0</td>\n",
       "      <td>0</td>\n",
       "      <td>1</td>\n",
       "      <td>0</td>\n",
       "      <td>0</td>\n",
       "      <td>0</td>\n",
       "      <td>0</td>\n",
       "      <td>0</td>\n",
       "      <td>0</td>\n",
       "      <td>0</td>\n",
       "      <td>0</td>\n",
       "      <td>0</td>\n",
       "      <td>1</td>\n",
       "    </tr>\n",
       "    <tr>\n",
       "      <th>53024</th>\n",
       "      <td>24</td>\n",
       "      <td>Thomas Joseph Connolly</td>\n",
       "      <td>, 92, American Roman Catholic prelate, Bishop of Baker .</td>\n",
       "      <td>https://en.wikipedia.org/wiki/Thomas_Joseph_Connolly</td>\n",
       "      <td>4</td>\n",
       "      <td>2015</td>\n",
       "      <td>April</td>\n",
       "      <td></td>\n",
       "      <td>None</td>\n",
       "      <td></td>\n",
       "      <td>Bishop of Baker</td>\n",
       "      <td>None</td>\n",
       "      <td>None</td>\n",
       "      <td>None</td>\n",
       "      <td>None</td>\n",
       "      <td>None</td>\n",
       "      <td>None</td>\n",
       "      <td>None</td>\n",
       "      <td>None</td>\n",
       "      <td>92.0</td>\n",
       "      <td>None</td>\n",
       "      <td>United States of America</td>\n",
       "      <td>Italy</td>\n",
       "      <td>1971 1999</td>\n",
       "      <td>1.609438</td>\n",
       "      <td>0</td>\n",
       "      <td>0</td>\n",
       "      <td>1</td>\n",
       "      <td>0</td>\n",
       "      <td>0</td>\n",
       "      <td>0</td>\n",
       "      <td>0</td>\n",
       "      <td>0</td>\n",
       "      <td>0</td>\n",
       "      <td>0</td>\n",
       "      <td>0</td>\n",
       "      <td>0</td>\n",
       "      <td>1</td>\n",
       "    </tr>\n",
       "  </tbody>\n",
       "</table>\n",
       "</div>"
      ],
      "text/plain": [
       "      day                    name  \\\n",
       "75257  13          Pierre DuMaine   \n",
       "53024  24  Thomas Joseph Connolly   \n",
       "\n",
       "                                                              info  \\\n",
       "75257  , 87, American Roman Catholic prelate, Bishop of San Jose .   \n",
       "53024     , 92, American Roman Catholic prelate, Bishop of Baker .   \n",
       "\n",
       "                                                       link  num_references  \\\n",
       "75257          https://en.wikipedia.org/wiki/Pierre_DuMaine               3   \n",
       "53024  https://en.wikipedia.org/wiki/Thomas_Joseph_Connolly               4   \n",
       "\n",
       "       year  month info_parenth info_1 info_2              info_3 info_4  \\\n",
       "75257  2019   June                None         Bishop of San Jose   None   \n",
       "53024  2015  April                None            Bishop of Baker   None   \n",
       "\n",
       "      info_5 info_6 info_7 info_8 info_9 info_10 info_11   age cause_of_death  \\\n",
       "75257   None   None   None   None   None    None    None  87.0           None   \n",
       "53024   None   None   None   None   None    None    None  92.0           None   \n",
       "\n",
       "                        place_1 place_2 info_parenth_copy  log_num_references  \\\n",
       "75257  United States of America   Italy         1981 1999            1.386294   \n",
       "53024  United States of America   Italy         1971 1999            1.609438   \n",
       "\n",
       "       sciences  social  spiritual  academia_humanities  business_farming  \\\n",
       "75257         0       0          1                    0                 0   \n",
       "53024         0       0          1                    0                 0   \n",
       "\n",
       "       arts  sports  law_enf_military_operator  politics_govt_law  crime  \\\n",
       "75257     0       0                          0                  0      0   \n",
       "53024     0       0                          0                  0      0   \n",
       "\n",
       "       event_record_other  other_species  num_categories  \n",
       "75257                   0              0               1  \n",
       "53024                   0              0               1  "
      ]
     },
     "execution_count": 25,
     "metadata": {},
     "output_type": "execute_result"
    },
    {
     "data": {
      "application/javascript": [
       "\n",
       "            setTimeout(function() {\n",
       "                var nbb_cell_id = 25;\n",
       "                var nbb_unformatted_code = \"%%time\\n\\n# Dictionary version\\nsearch_dict = known_for_dict\\n\\n# Column to check\\ncolumn = 'info_2'\\n\\n# Dataframe\\ndataframe = df[column].notna()\\n\\n# For loop to find role in column and extract it as category\\nfor category, category_lst in search_dict.items():\\n    for role in category_lst:\\n        for index in dataframe.index:\\n            item = df.loc[index, column]\\n            if item:\\n                if role in item:\\n                    df.loc[index, category] = 1\\n                    df.loc[index, column] = item.replace(role, '').strip()\\n\\n# Updating num_categories\\ndf[\\\"num_categories\\\"] = df[known_for_dict.keys()].sum(axis=1)\\n\\n# Checking a sample of rows\\ndf[df['spiritual'] ==1].sample(2)\";\n",
       "                var nbb_formatted_code = \"%%time\\n\\n# Dictionary version\\nsearch_dict = known_for_dict\\n\\n# Column to check\\ncolumn = 'info_2'\\n\\n# Dataframe\\ndataframe = df[column].notna()\\n\\n# For loop to find role in column and extract it as category\\nfor category, category_lst in search_dict.items():\\n    for role in category_lst:\\n        for index in dataframe.index:\\n            item = df.loc[index, column]\\n            if item:\\n                if role in item:\\n                    df.loc[index, category] = 1\\n                    df.loc[index, column] = item.replace(role, '').strip()\\n\\n# Updating num_categories\\ndf[\\\"num_categories\\\"] = df[known_for_dict.keys()].sum(axis=1)\\n\\n# Checking a sample of rows\\ndf[df['spiritual'] ==1].sample(2)\";\n",
       "                var nbb_cells = Jupyter.notebook.get_cells();\n",
       "                for (var i = 0; i < nbb_cells.length; ++i) {\n",
       "                    if (nbb_cells[i].input_prompt_number == nbb_cell_id) {\n",
       "                        if (nbb_cells[i].get_text() == nbb_unformatted_code) {\n",
       "                             nbb_cells[i].set_text(nbb_formatted_code);\n",
       "                        }\n",
       "                        break;\n",
       "                    }\n",
       "                }\n",
       "            }, 500);\n",
       "            "
      ],
      "text/plain": [
       "<IPython.core.display.Javascript object>"
      ]
     },
     "metadata": {},
     "output_type": "display_data"
    }
   ],
   "source": [
    "%%time\n",
    "\n",
    "# Dictionary version\n",
    "search_dict = known_for_dict\n",
    "\n",
    "# Column to check\n",
    "column = 'info_2'\n",
    "\n",
    "# Dataframe\n",
    "dataframe = df[column].notna()\n",
    "\n",
    "# For loop to find role in column and extract it as category\n",
    "for category, category_lst in search_dict.items():\n",
    "    for role in category_lst:\n",
    "        for index in dataframe.index:\n",
    "            item = df.loc[index, column]\n",
    "            if item:\n",
    "                if role in item:\n",
    "                    df.loc[index, category] = 1\n",
    "                    df.loc[index, column] = item.replace(role, '').strip()\n",
    "\n",
    "# Updating num_categories\n",
    "df[\"num_categories\"] = df[known_for_dict.keys()].sum(axis=1)\n",
    "\n",
    "# Checking a sample of rows\n",
    "df[df['spiritual'] ==1].sample(2)"
   ]
  },
  {
   "cell_type": "markdown",
   "id": "cea6309a",
   "metadata": {},
   "source": [
    "#### Checking the Number of Rows without a First Category"
   ]
  },
  {
   "cell_type": "code",
   "execution_count": 26,
   "id": "3a328a83",
   "metadata": {},
   "outputs": [
    {
     "name": "stdout",
     "output_type": "stream",
     "text": [
      "There are 27795 entries without any known_for category.\n"
     ]
    },
    {
     "data": {
      "application/javascript": [
       "\n",
       "            setTimeout(function() {\n",
       "                var nbb_cell_id = 26;\n",
       "                var nbb_unformatted_code = \"# Checking the number of rows without a first category\\nprint(\\n    f'There are {len(df[df[\\\"num_categories\\\"]==0])} entries without any known_for category.'\\n)\";\n",
       "                var nbb_formatted_code = \"# Checking the number of rows without a first category\\nprint(\\n    f'There are {len(df[df[\\\"num_categories\\\"]==0])} entries without any known_for category.'\\n)\";\n",
       "                var nbb_cells = Jupyter.notebook.get_cells();\n",
       "                for (var i = 0; i < nbb_cells.length; ++i) {\n",
       "                    if (nbb_cells[i].input_prompt_number == nbb_cell_id) {\n",
       "                        if (nbb_cells[i].get_text() == nbb_unformatted_code) {\n",
       "                             nbb_cells[i].set_text(nbb_formatted_code);\n",
       "                        }\n",
       "                        break;\n",
       "                    }\n",
       "                }\n",
       "            }, 500);\n",
       "            "
      ],
      "text/plain": [
       "<IPython.core.display.Javascript object>"
      ]
     },
     "metadata": {},
     "output_type": "display_data"
    }
   ],
   "source": [
    "# Checking the number of rows without a first category\n",
    "print(\n",
    "    f'There are {len(df[df[\"num_categories\"]==0])} entries without any known_for category.'\n",
    ")"
   ]
  },
  {
   "cell_type": "markdown",
   "id": "1ddeaef8",
   "metadata": {},
   "source": [
    "#### Observations:\n",
    "- We will proceed to rebuild `known_for_dict` for the next iteration."
   ]
  },
  {
   "cell_type": "markdown",
   "id": "4398ac3c",
   "metadata": {},
   "source": [
    "#### Finding `known_for` Roles in `info_2`"
   ]
  },
  {
   "cell_type": "code",
   "execution_count": 27,
   "id": "ed5bc97f",
   "metadata": {},
   "outputs": [
    {
     "data": {
      "application/javascript": [
       "\n",
       "            setTimeout(function() {\n",
       "                var nbb_cell_id = 27;\n",
       "                var nbb_unformatted_code = \"# # Obtaining values for column and their counts\\n# roles_list = df[\\\"info_2\\\"].value_counts(ascending=True).index.tolist()\";\n",
       "                var nbb_formatted_code = \"# # Obtaining values for column and their counts\\n# roles_list = df[\\\"info_2\\\"].value_counts(ascending=True).index.tolist()\";\n",
       "                var nbb_cells = Jupyter.notebook.get_cells();\n",
       "                for (var i = 0; i < nbb_cells.length; ++i) {\n",
       "                    if (nbb_cells[i].input_prompt_number == nbb_cell_id) {\n",
       "                        if (nbb_cells[i].get_text() == nbb_unformatted_code) {\n",
       "                             nbb_cells[i].set_text(nbb_formatted_code);\n",
       "                        }\n",
       "                        break;\n",
       "                    }\n",
       "                }\n",
       "            }, 500);\n",
       "            "
      ],
      "text/plain": [
       "<IPython.core.display.Javascript object>"
      ]
     },
     "metadata": {},
     "output_type": "display_data"
    }
   ],
   "source": [
    "# # Obtaining values for column and their counts\n",
    "# roles_list = df[\"info_2\"].value_counts(ascending=True).index.tolist()"
   ]
  },
  {
   "cell_type": "code",
   "execution_count": 28,
   "id": "63b5f4ef",
   "metadata": {},
   "outputs": [
    {
     "data": {
      "application/javascript": [
       "\n",
       "            setTimeout(function() {\n",
       "                var nbb_cell_id = 28;\n",
       "                var nbb_unformatted_code = \"# # Code to check each value\\n# roles_list.pop()\";\n",
       "                var nbb_formatted_code = \"# # Code to check each value\\n# roles_list.pop()\";\n",
       "                var nbb_cells = Jupyter.notebook.get_cells();\n",
       "                for (var i = 0; i < nbb_cells.length; ++i) {\n",
       "                    if (nbb_cells[i].input_prompt_number == nbb_cell_id) {\n",
       "                        if (nbb_cells[i].get_text() == nbb_unformatted_code) {\n",
       "                             nbb_cells[i].set_text(nbb_formatted_code);\n",
       "                        }\n",
       "                        break;\n",
       "                    }\n",
       "                }\n",
       "            }, 500);\n",
       "            "
      ],
      "text/plain": [
       "<IPython.core.display.Javascript object>"
      ]
     },
     "metadata": {},
     "output_type": "display_data"
    }
   ],
   "source": [
    "# # Code to check each value\n",
    "# roles_list.pop()"
   ]
  },
  {
   "cell_type": "code",
   "execution_count": 29,
   "id": "bcd5c4ca",
   "metadata": {},
   "outputs": [
    {
     "data": {
      "application/javascript": [
       "\n",
       "            setTimeout(function() {\n",
       "                var nbb_cell_id = 29;\n",
       "                var nbb_unformatted_code = \"# # Create specific_roles_list for above popped value\\n# specific_roles_list = (\\n#     df.loc[\\n#         [\\n#             index\\n#             for index in df[df[\\\"info_2\\\"].notna()].index\\n#             if \\\"professor\\\" in df.loc[index, \\\"info_2\\\"]\\n#         ],\\n#         \\\"info_2\\\",\\n#     ]\\n#     .value_counts()\\n#     .index.tolist()\\n# )\";\n",
       "                var nbb_formatted_code = \"# # Create specific_roles_list for above popped value\\n# specific_roles_list = (\\n#     df.loc[\\n#         [\\n#             index\\n#             for index in df[df[\\\"info_2\\\"].notna()].index\\n#             if \\\"professor\\\" in df.loc[index, \\\"info_2\\\"]\\n#         ],\\n#         \\\"info_2\\\",\\n#     ]\\n#     .value_counts()\\n#     .index.tolist()\\n# )\";\n",
       "                var nbb_cells = Jupyter.notebook.get_cells();\n",
       "                for (var i = 0; i < nbb_cells.length; ++i) {\n",
       "                    if (nbb_cells[i].input_prompt_number == nbb_cell_id) {\n",
       "                        if (nbb_cells[i].get_text() == nbb_unformatted_code) {\n",
       "                             nbb_cells[i].set_text(nbb_formatted_code);\n",
       "                        }\n",
       "                        break;\n",
       "                    }\n",
       "                }\n",
       "            }, 500);\n",
       "            "
      ],
      "text/plain": [
       "<IPython.core.display.Javascript object>"
      ]
     },
     "metadata": {},
     "output_type": "display_data"
    }
   ],
   "source": [
    "# # Create specific_roles_list for above popped value\n",
    "# specific_roles_list = (\n",
    "#     df.loc[\n",
    "#         [\n",
    "#             index\n",
    "#             for index in df[df[\"info_2\"].notna()].index\n",
    "#             if \"professor\" in df.loc[index, \"info_2\"]\n",
    "#         ],\n",
    "#         \"info_2\",\n",
    "#     ]\n",
    "#     .value_counts()\n",
    "#     .index.tolist()\n",
    "# )"
   ]
  },
  {
   "cell_type": "code",
   "execution_count": 30,
   "id": "87dedbf7",
   "metadata": {},
   "outputs": [
    {
     "data": {
      "application/javascript": [
       "\n",
       "            setTimeout(function() {\n",
       "                var nbb_cell_id = 30;\n",
       "                var nbb_unformatted_code = \"# # Code to check each specific value\\n# specific_roles_list.pop()\";\n",
       "                var nbb_formatted_code = \"# # Code to check each specific value\\n# specific_roles_list.pop()\";\n",
       "                var nbb_cells = Jupyter.notebook.get_cells();\n",
       "                for (var i = 0; i < nbb_cells.length; ++i) {\n",
       "                    if (nbb_cells[i].input_prompt_number == nbb_cell_id) {\n",
       "                        if (nbb_cells[i].get_text() == nbb_unformatted_code) {\n",
       "                             nbb_cells[i].set_text(nbb_formatted_code);\n",
       "                        }\n",
       "                        break;\n",
       "                    }\n",
       "                }\n",
       "            }, 500);\n",
       "            "
      ],
      "text/plain": [
       "<IPython.core.display.Javascript object>"
      ]
     },
     "metadata": {},
     "output_type": "display_data"
    }
   ],
   "source": [
    "# # Code to check each specific value\n",
    "# specific_roles_list.pop()"
   ]
  },
  {
   "cell_type": "code",
   "execution_count": 31,
   "id": "ee8ce31a",
   "metadata": {},
   "outputs": [
    {
     "data": {
      "application/javascript": [
       "\n",
       "            setTimeout(function() {\n",
       "                var nbb_cell_id = 31;\n",
       "                var nbb_unformatted_code = \"# # Example code to quick-screen values that may overlap categories\\n# df.loc[\\n#     [\\n#         index\\n#         for index in df.index\\n#         if \\\"and communication professor\\\" in df.loc[index, \\\"info\\\"]\\n#     ]\\n# ]\";\n",
       "                var nbb_formatted_code = \"# # Example code to quick-screen values that may overlap categories\\n# df.loc[\\n#     [\\n#         index\\n#         for index in df.index\\n#         if \\\"and communication professor\\\" in df.loc[index, \\\"info\\\"]\\n#     ]\\n# ]\";\n",
       "                var nbb_cells = Jupyter.notebook.get_cells();\n",
       "                for (var i = 0; i < nbb_cells.length; ++i) {\n",
       "                    if (nbb_cells[i].input_prompt_number == nbb_cell_id) {\n",
       "                        if (nbb_cells[i].get_text() == nbb_unformatted_code) {\n",
       "                             nbb_cells[i].set_text(nbb_formatted_code);\n",
       "                        }\n",
       "                        break;\n",
       "                    }\n",
       "                }\n",
       "            }, 500);\n",
       "            "
      ],
      "text/plain": [
       "<IPython.core.display.Javascript object>"
      ]
     },
     "metadata": {},
     "output_type": "display_data"
    }
   ],
   "source": [
    "# # Example code to quick-screen values that may overlap categories\n",
    "# df.loc[\n",
    "#     [\n",
    "#         index\n",
    "#         for index in df.index\n",
    "#         if \"and communication professor\" in df.loc[index, \"info\"]\n",
    "#     ]\n",
    "# ]"
   ]
  },
  {
   "cell_type": "code",
   "execution_count": 32,
   "id": "f88f923c",
   "metadata": {},
   "outputs": [
    {
     "data": {
      "application/javascript": [
       "\n",
       "            setTimeout(function() {\n",
       "                var nbb_cell_id = 32;\n",
       "                var nbb_unformatted_code = \"# # Example code to quick-check a specific entry\\n# df[df[\\\"info_2\\\"] == \\\"professor and World War II researcher\\\"]\";\n",
       "                var nbb_formatted_code = \"# # Example code to quick-check a specific entry\\n# df[df[\\\"info_2\\\"] == \\\"professor and World War II researcher\\\"]\";\n",
       "                var nbb_cells = Jupyter.notebook.get_cells();\n",
       "                for (var i = 0; i < nbb_cells.length; ++i) {\n",
       "                    if (nbb_cells[i].input_prompt_number == nbb_cell_id) {\n",
       "                        if (nbb_cells[i].get_text() == nbb_unformatted_code) {\n",
       "                             nbb_cells[i].set_text(nbb_formatted_code);\n",
       "                        }\n",
       "                        break;\n",
       "                    }\n",
       "                }\n",
       "            }, 500);\n",
       "            "
      ],
      "text/plain": [
       "<IPython.core.display.Javascript object>"
      ]
     },
     "metadata": {},
     "output_type": "display_data"
    }
   ],
   "source": [
    "# # Example code to quick-check a specific entry\n",
    "# df[df[\"info_2\"] == \"professor and World War II researcher\"]"
   ]
  },
  {
   "cell_type": "markdown",
   "id": "a7b0fbb9",
   "metadata": {},
   "source": [
    "#### Creating Lists for Each `known_for` Category"
   ]
  },
  {
   "cell_type": "code",
   "execution_count": 33,
   "id": "2be4a5c0",
   "metadata": {},
   "outputs": [
    {
     "data": {
      "application/javascript": [
       "\n",
       "            setTimeout(function() {\n",
       "                var nbb_cell_id = 33;\n",
       "                var nbb_unformatted_code = \"# Creating lists for each category\\npolitics_govt_law = [\\n    \\\"who helped uncover the Bay of Pigs Invasion plan\\\",\\n    \\\"child protection expert\\\",\\n]\\n\\narts = []\\nsports = []\\nsciences = [\\n    \\\"who made critical contributions to the development of radar\\\",\\n]\\n\\nbusiness_farming = []\\nacademia_humanities = [\\n    \\\"professor and official pronouncer of the Scripps National Spelling Bee from to\\\",\\n    \\\"geographer and Alexander von Humboldt professor of geography at UCLA\\\",\\n    \\\"professor and twice interim president of the University of Missouri\\\",\\n    \\\"professor of and Islamic Studies at the University of Edinburgh\\\",\\n    \\\"linguistics professor and Pacific Islands language specialist\\\",\\n    \\\"professor of education and commentator on education topics\\\",\\n    \\\"professor at Columbia University and scholar of literature\\\",\\n    \\\"professor of education at the University of Washington\\\",\\n    \\\"professor and leading researcher into category theory\\\",\\n    \\\"professor of aesthetics at University of Strasbourg\\\",\\n    \\\"and drama professor at the Academy of Theatre Arts\\\",\\n    \\\"professor of Assyriology and Babylonian literature\\\",\\n    \\\"professor at Princeton Theological Seminary and\\\",\\n    \\\"professor of history at Indiana University\\\",\\n    \\\"professor of History at University College\\\",\\n    \\\"classical scholar and history professor\\\",\\n    \\\"ist and professor of ancient languages\\\",\\n    \\\"and professor at Seton Hall University\\\",\\n    \\\"professor at the University of Chicago\\\",\\n    \\\"professor and World War II researcher\\\",\\n    \\\"professor at Brigham Young University\\\",\\n    \\\"professor and folklorist of cultures\\\",\\n    \\\"and professor of clinical psychology\\\",\\n    \\\"professor of comparative literature\\\",\\n    \\\"scholar and professor of literature\\\",\\n    \\\"professor specialized in turbulence\\\",\\n    \\\"and political philosophy professor\\\",\\n    \\\"professor of modern Jewish history\\\",\\n    \\\"professor and daughter of Zhu De\\\",\\n    \\\"professor at Stanford University\\\",\\n    \\\"professor at Columbia University\\\",\\n    \\\"professor of Ancient Philosophy\\\",\\n    \\\"professor of Early Christianity\\\",\\n    \\\"professor of Jewish literature\\\",\\n    \\\"professor of Hebrew Literature\\\",\\n    \\\"and professor at University of\\\",\\n    \\\"professor at the University of\\\",\\n    \\\"Stanford University professor\\\",\\n    \\\"professor emeritus of history\\\",\\n    \\\"professor of at University of\\\",\\n    \\\"anthropologist and professor\\\",\\n    \\\"professor of and runologist\\\",\\n    \\\"and communication professor\\\",\\n    \\\"and professor of philosophy\\\",\\n    \\\"researcher and professor of\\\",\\n    \\\"Assyriologist and professor\\\",\\n    \\\"emeritus professor at Yale\\\",\\n    \\\"professor at University of\\\",\\n    \\\"professor of Asian studies\\\",\\n    \\\"professor of philosophy of\\\",\\n    \\\"professor of women studies\\\",\\n    \\\"library science professor\\\",\\n    \\\"ethnologist and professor\\\",\\n    \\\"folklorist and professor\\\",\\n    \\\"and philosophy professor\\\",\\n    \\\"geographer and professor\\\",\\n    \\\"A&M University professor\\\",\\n    \\\"professor and sinologist\\\",\\n    \\\"and University professor\\\",\\n    \\\"and university professor\\\",\\n    \\\"librarian and professor\\\",\\n    \\\"University of professor\\\",\\n    \\\"professor of Egyptology\\\",\\n    \\\"women studies professor\\\",\\n    \\\"pedagogue and professor\\\",\\n    \\\"professor of philosophy\\\",\\n    \\\"professor of literature\\\",\\n    \\\"linguist and professor\\\",\\n    \\\"professor of geography\\\",\\n    \\\"and Emeritus professor\\\",\\n    \\\"and professor emeritus\\\",\\n    \\\"assistant professor of\\\",\\n    \\\"professor of Classics\\\",\\n    \\\"professor emeritus of\\\",\\n    \\\"scholar and professor\\\",\\n    \\\"professor of rhetoric\\\",\\n    \\\"professor of classics\\\",\\n    \\\"and college professor\\\",\\n    \\\"and professor of law\\\",\\n    \\\"literature professor\\\",\\n    \\\"professor of Studies\\\",\\n    \\\"professor of studies\\\",\\n    \\\"professor of history\\\",\\n    \\\"philosophy professor\\\",\\n    \\\"university professor\\\",\\n    \\\"professor of Hebrew\\\",\\n    \\\"associate professor\\\",\\n    \\\"professor emeritus\\\",\\n    \\\"language professor\\\",\\n    \\\"and law professor\\\",\\n    \\\"law professor and\\\",\\n    \\\"college professor\\\",\\n    \\\"history professor\\\",\\n    \\\"and a professor\\\",\\n    \\\"law professor\\\",\\n    \\\"MIT professor\\\",\\n    \\\"and professor\\\",\\n    \\\"professor and\\\",\\n    \\\"professor of\\\",\\n    \\\"professor in\\\",\\n    \\\"professor\\\",\\n]\\nlaw_enf_military_operator = []\\nspiritual = [\\n    \\\"expert on biblical manuscripts\\\",\\n]\\nsocial = []\\ncrime = []\\nevent_record_other = []\\nother_species = []\";\n",
       "                var nbb_formatted_code = \"# Creating lists for each category\\npolitics_govt_law = [\\n    \\\"who helped uncover the Bay of Pigs Invasion plan\\\",\\n    \\\"child protection expert\\\",\\n]\\n\\narts = []\\nsports = []\\nsciences = [\\n    \\\"who made critical contributions to the development of radar\\\",\\n]\\n\\nbusiness_farming = []\\nacademia_humanities = [\\n    \\\"professor and official pronouncer of the Scripps National Spelling Bee from to\\\",\\n    \\\"geographer and Alexander von Humboldt professor of geography at UCLA\\\",\\n    \\\"professor and twice interim president of the University of Missouri\\\",\\n    \\\"professor of and Islamic Studies at the University of Edinburgh\\\",\\n    \\\"linguistics professor and Pacific Islands language specialist\\\",\\n    \\\"professor of education and commentator on education topics\\\",\\n    \\\"professor at Columbia University and scholar of literature\\\",\\n    \\\"professor of education at the University of Washington\\\",\\n    \\\"professor and leading researcher into category theory\\\",\\n    \\\"professor of aesthetics at University of Strasbourg\\\",\\n    \\\"and drama professor at the Academy of Theatre Arts\\\",\\n    \\\"professor of Assyriology and Babylonian literature\\\",\\n    \\\"professor at Princeton Theological Seminary and\\\",\\n    \\\"professor of history at Indiana University\\\",\\n    \\\"professor of History at University College\\\",\\n    \\\"classical scholar and history professor\\\",\\n    \\\"ist and professor of ancient languages\\\",\\n    \\\"and professor at Seton Hall University\\\",\\n    \\\"professor at the University of Chicago\\\",\\n    \\\"professor and World War II researcher\\\",\\n    \\\"professor at Brigham Young University\\\",\\n    \\\"professor and folklorist of cultures\\\",\\n    \\\"and professor of clinical psychology\\\",\\n    \\\"professor of comparative literature\\\",\\n    \\\"scholar and professor of literature\\\",\\n    \\\"professor specialized in turbulence\\\",\\n    \\\"and political philosophy professor\\\",\\n    \\\"professor of modern Jewish history\\\",\\n    \\\"professor and daughter of Zhu De\\\",\\n    \\\"professor at Stanford University\\\",\\n    \\\"professor at Columbia University\\\",\\n    \\\"professor of Ancient Philosophy\\\",\\n    \\\"professor of Early Christianity\\\",\\n    \\\"professor of Jewish literature\\\",\\n    \\\"professor of Hebrew Literature\\\",\\n    \\\"and professor at University of\\\",\\n    \\\"professor at the University of\\\",\\n    \\\"Stanford University professor\\\",\\n    \\\"professor emeritus of history\\\",\\n    \\\"professor of at University of\\\",\\n    \\\"anthropologist and professor\\\",\\n    \\\"professor of and runologist\\\",\\n    \\\"and communication professor\\\",\\n    \\\"and professor of philosophy\\\",\\n    \\\"researcher and professor of\\\",\\n    \\\"Assyriologist and professor\\\",\\n    \\\"emeritus professor at Yale\\\",\\n    \\\"professor at University of\\\",\\n    \\\"professor of Asian studies\\\",\\n    \\\"professor of philosophy of\\\",\\n    \\\"professor of women studies\\\",\\n    \\\"library science professor\\\",\\n    \\\"ethnologist and professor\\\",\\n    \\\"folklorist and professor\\\",\\n    \\\"and philosophy professor\\\",\\n    \\\"geographer and professor\\\",\\n    \\\"A&M University professor\\\",\\n    \\\"professor and sinologist\\\",\\n    \\\"and University professor\\\",\\n    \\\"and university professor\\\",\\n    \\\"librarian and professor\\\",\\n    \\\"University of professor\\\",\\n    \\\"professor of Egyptology\\\",\\n    \\\"women studies professor\\\",\\n    \\\"pedagogue and professor\\\",\\n    \\\"professor of philosophy\\\",\\n    \\\"professor of literature\\\",\\n    \\\"linguist and professor\\\",\\n    \\\"professor of geography\\\",\\n    \\\"and Emeritus professor\\\",\\n    \\\"and professor emeritus\\\",\\n    \\\"assistant professor of\\\",\\n    \\\"professor of Classics\\\",\\n    \\\"professor emeritus of\\\",\\n    \\\"scholar and professor\\\",\\n    \\\"professor of rhetoric\\\",\\n    \\\"professor of classics\\\",\\n    \\\"and college professor\\\",\\n    \\\"and professor of law\\\",\\n    \\\"literature professor\\\",\\n    \\\"professor of Studies\\\",\\n    \\\"professor of studies\\\",\\n    \\\"professor of history\\\",\\n    \\\"philosophy professor\\\",\\n    \\\"university professor\\\",\\n    \\\"professor of Hebrew\\\",\\n    \\\"associate professor\\\",\\n    \\\"professor emeritus\\\",\\n    \\\"language professor\\\",\\n    \\\"and law professor\\\",\\n    \\\"law professor and\\\",\\n    \\\"college professor\\\",\\n    \\\"history professor\\\",\\n    \\\"and a professor\\\",\\n    \\\"law professor\\\",\\n    \\\"MIT professor\\\",\\n    \\\"and professor\\\",\\n    \\\"professor and\\\",\\n    \\\"professor of\\\",\\n    \\\"professor in\\\",\\n    \\\"professor\\\",\\n]\\nlaw_enf_military_operator = []\\nspiritual = [\\n    \\\"expert on biblical manuscripts\\\",\\n]\\nsocial = []\\ncrime = []\\nevent_record_other = []\\nother_species = []\";\n",
       "                var nbb_cells = Jupyter.notebook.get_cells();\n",
       "                for (var i = 0; i < nbb_cells.length; ++i) {\n",
       "                    if (nbb_cells[i].input_prompt_number == nbb_cell_id) {\n",
       "                        if (nbb_cells[i].get_text() == nbb_unformatted_code) {\n",
       "                             nbb_cells[i].set_text(nbb_formatted_code);\n",
       "                        }\n",
       "                        break;\n",
       "                    }\n",
       "                }\n",
       "            }, 500);\n",
       "            "
      ],
      "text/plain": [
       "<IPython.core.display.Javascript object>"
      ]
     },
     "metadata": {},
     "output_type": "display_data"
    }
   ],
   "source": [
    "# Creating lists for each category\n",
    "politics_govt_law = [\n",
    "    \"who helped uncover the Bay of Pigs Invasion plan\",\n",
    "    \"child protection expert\",\n",
    "]\n",
    "\n",
    "arts = []\n",
    "sports = []\n",
    "sciences = [\n",
    "    \"who made critical contributions to the development of radar\",\n",
    "]\n",
    "\n",
    "business_farming = []\n",
    "academia_humanities = [\n",
    "    \"professor and official pronouncer of the Scripps National Spelling Bee from to\",\n",
    "    \"geographer and Alexander von Humboldt professor of geography at UCLA\",\n",
    "    \"professor and twice interim president of the University of Missouri\",\n",
    "    \"professor of and Islamic Studies at the University of Edinburgh\",\n",
    "    \"linguistics professor and Pacific Islands language specialist\",\n",
    "    \"professor of education and commentator on education topics\",\n",
    "    \"professor at Columbia University and scholar of literature\",\n",
    "    \"professor of education at the University of Washington\",\n",
    "    \"professor and leading researcher into category theory\",\n",
    "    \"professor of aesthetics at University of Strasbourg\",\n",
    "    \"and drama professor at the Academy of Theatre Arts\",\n",
    "    \"professor of Assyriology and Babylonian literature\",\n",
    "    \"professor at Princeton Theological Seminary and\",\n",
    "    \"professor of history at Indiana University\",\n",
    "    \"professor of History at University College\",\n",
    "    \"classical scholar and history professor\",\n",
    "    \"ist and professor of ancient languages\",\n",
    "    \"and professor at Seton Hall University\",\n",
    "    \"professor at the University of Chicago\",\n",
    "    \"professor and World War II researcher\",\n",
    "    \"professor at Brigham Young University\",\n",
    "    \"professor and folklorist of cultures\",\n",
    "    \"and professor of clinical psychology\",\n",
    "    \"professor of comparative literature\",\n",
    "    \"scholar and professor of literature\",\n",
    "    \"professor specialized in turbulence\",\n",
    "    \"and political philosophy professor\",\n",
    "    \"professor of modern Jewish history\",\n",
    "    \"professor and daughter of Zhu De\",\n",
    "    \"professor at Stanford University\",\n",
    "    \"professor at Columbia University\",\n",
    "    \"professor of Ancient Philosophy\",\n",
    "    \"professor of Early Christianity\",\n",
    "    \"professor of Jewish literature\",\n",
    "    \"professor of Hebrew Literature\",\n",
    "    \"and professor at University of\",\n",
    "    \"professor at the University of\",\n",
    "    \"Stanford University professor\",\n",
    "    \"professor emeritus of history\",\n",
    "    \"professor of at University of\",\n",
    "    \"anthropologist and professor\",\n",
    "    \"professor of and runologist\",\n",
    "    \"and communication professor\",\n",
    "    \"and professor of philosophy\",\n",
    "    \"researcher and professor of\",\n",
    "    \"Assyriologist and professor\",\n",
    "    \"emeritus professor at Yale\",\n",
    "    \"professor at University of\",\n",
    "    \"professor of Asian studies\",\n",
    "    \"professor of philosophy of\",\n",
    "    \"professor of women studies\",\n",
    "    \"library science professor\",\n",
    "    \"ethnologist and professor\",\n",
    "    \"folklorist and professor\",\n",
    "    \"and philosophy professor\",\n",
    "    \"geographer and professor\",\n",
    "    \"A&M University professor\",\n",
    "    \"professor and sinologist\",\n",
    "    \"and University professor\",\n",
    "    \"and university professor\",\n",
    "    \"librarian and professor\",\n",
    "    \"University of professor\",\n",
    "    \"professor of Egyptology\",\n",
    "    \"women studies professor\",\n",
    "    \"pedagogue and professor\",\n",
    "    \"professor of philosophy\",\n",
    "    \"professor of literature\",\n",
    "    \"linguist and professor\",\n",
    "    \"professor of geography\",\n",
    "    \"and Emeritus professor\",\n",
    "    \"and professor emeritus\",\n",
    "    \"assistant professor of\",\n",
    "    \"professor of Classics\",\n",
    "    \"professor emeritus of\",\n",
    "    \"scholar and professor\",\n",
    "    \"professor of rhetoric\",\n",
    "    \"professor of classics\",\n",
    "    \"and college professor\",\n",
    "    \"and professor of law\",\n",
    "    \"literature professor\",\n",
    "    \"professor of Studies\",\n",
    "    \"professor of studies\",\n",
    "    \"professor of history\",\n",
    "    \"philosophy professor\",\n",
    "    \"university professor\",\n",
    "    \"professor of Hebrew\",\n",
    "    \"associate professor\",\n",
    "    \"professor emeritus\",\n",
    "    \"language professor\",\n",
    "    \"and law professor\",\n",
    "    \"law professor and\",\n",
    "    \"college professor\",\n",
    "    \"history professor\",\n",
    "    \"and a professor\",\n",
    "    \"law professor\",\n",
    "    \"MIT professor\",\n",
    "    \"and professor\",\n",
    "    \"professor and\",\n",
    "    \"professor of\",\n",
    "    \"professor in\",\n",
    "    \"professor\",\n",
    "]\n",
    "law_enf_military_operator = []\n",
    "spiritual = [\n",
    "    \"expert on biblical manuscripts\",\n",
    "]\n",
    "social = []\n",
    "crime = []\n",
    "event_record_other = []\n",
    "other_species = []"
   ]
  },
  {
   "cell_type": "markdown",
   "id": "07013e37",
   "metadata": {},
   "source": [
    "#### Creating `known_for_dict` Dictionary of Category Keys and Specific Role Lists of Values"
   ]
  },
  {
   "cell_type": "code",
   "execution_count": 34,
   "id": "be6bb2bf",
   "metadata": {},
   "outputs": [
    {
     "data": {
      "application/javascript": [
       "\n",
       "            setTimeout(function() {\n",
       "                var nbb_cell_id = 34;\n",
       "                var nbb_unformatted_code = \"# Combining separate lists into one dictionary\\nknown_for_dict = {\\n    \\\"social\\\": social,\\n    \\\"spiritual\\\": spiritual,\\n    \\\"academia_humanities\\\": academia_humanities,\\n    \\\"business_farming\\\": business_farming,\\n    \\\"sciences\\\": sciences,\\n    \\\"politics_govt_law\\\": politics_govt_law,\\n    \\\"law_enf_military_operator\\\": law_enf_military_operator,\\n    \\\"crime\\\": crime,\\n    \\\"event_record_other\\\": event_record_other,\\n    \\\"other_species\\\": other_species,\\n    \\\"arts\\\": arts,\\n    \\\"sports\\\": sports,\\n}\";\n",
       "                var nbb_formatted_code = \"# Combining separate lists into one dictionary\\nknown_for_dict = {\\n    \\\"social\\\": social,\\n    \\\"spiritual\\\": spiritual,\\n    \\\"academia_humanities\\\": academia_humanities,\\n    \\\"business_farming\\\": business_farming,\\n    \\\"sciences\\\": sciences,\\n    \\\"politics_govt_law\\\": politics_govt_law,\\n    \\\"law_enf_military_operator\\\": law_enf_military_operator,\\n    \\\"crime\\\": crime,\\n    \\\"event_record_other\\\": event_record_other,\\n    \\\"other_species\\\": other_species,\\n    \\\"arts\\\": arts,\\n    \\\"sports\\\": sports,\\n}\";\n",
       "                var nbb_cells = Jupyter.notebook.get_cells();\n",
       "                for (var i = 0; i < nbb_cells.length; ++i) {\n",
       "                    if (nbb_cells[i].input_prompt_number == nbb_cell_id) {\n",
       "                        if (nbb_cells[i].get_text() == nbb_unformatted_code) {\n",
       "                             nbb_cells[i].set_text(nbb_formatted_code);\n",
       "                        }\n",
       "                        break;\n",
       "                    }\n",
       "                }\n",
       "            }, 500);\n",
       "            "
      ],
      "text/plain": [
       "<IPython.core.display.Javascript object>"
      ]
     },
     "metadata": {},
     "output_type": "display_data"
    }
   ],
   "source": [
    "# Combining separate lists into one dictionary\n",
    "known_for_dict = {\n",
    "    \"social\": social,\n",
    "    \"spiritual\": spiritual,\n",
    "    \"academia_humanities\": academia_humanities,\n",
    "    \"business_farming\": business_farming,\n",
    "    \"sciences\": sciences,\n",
    "    \"politics_govt_law\": politics_govt_law,\n",
    "    \"law_enf_military_operator\": law_enf_military_operator,\n",
    "    \"crime\": crime,\n",
    "    \"event_record_other\": event_record_other,\n",
    "    \"other_species\": other_species,\n",
    "    \"arts\": arts,\n",
    "    \"sports\": sports,\n",
    "}"
   ]
  },
  {
   "cell_type": "markdown",
   "id": "36e272f4",
   "metadata": {},
   "source": [
    "#### Extracting Category from `info_2`"
   ]
  },
  {
   "cell_type": "code",
   "execution_count": 35,
   "id": "851a5bbb",
   "metadata": {},
   "outputs": [
    {
     "name": "stdout",
     "output_type": "stream",
     "text": [
      "CPU times: total: 53.5 s\n",
      "Wall time: 53.5 s\n"
     ]
    },
    {
     "data": {
      "text/html": [
       "<div>\n",
       "<style scoped>\n",
       "    .dataframe tbody tr th:only-of-type {\n",
       "        vertical-align: middle;\n",
       "    }\n",
       "\n",
       "    .dataframe tbody tr th {\n",
       "        vertical-align: top;\n",
       "    }\n",
       "\n",
       "    .dataframe thead th {\n",
       "        text-align: right;\n",
       "    }\n",
       "</style>\n",
       "<table border=\"1\" class=\"dataframe\">\n",
       "  <thead>\n",
       "    <tr style=\"text-align: right;\">\n",
       "      <th></th>\n",
       "      <th>day</th>\n",
       "      <th>name</th>\n",
       "      <th>info</th>\n",
       "      <th>link</th>\n",
       "      <th>num_references</th>\n",
       "      <th>year</th>\n",
       "      <th>month</th>\n",
       "      <th>info_parenth</th>\n",
       "      <th>info_1</th>\n",
       "      <th>info_2</th>\n",
       "      <th>info_3</th>\n",
       "      <th>info_4</th>\n",
       "      <th>info_5</th>\n",
       "      <th>info_6</th>\n",
       "      <th>info_7</th>\n",
       "      <th>info_8</th>\n",
       "      <th>info_9</th>\n",
       "      <th>info_10</th>\n",
       "      <th>info_11</th>\n",
       "      <th>age</th>\n",
       "      <th>cause_of_death</th>\n",
       "      <th>place_1</th>\n",
       "      <th>place_2</th>\n",
       "      <th>info_parenth_copy</th>\n",
       "      <th>log_num_references</th>\n",
       "      <th>sciences</th>\n",
       "      <th>social</th>\n",
       "      <th>spiritual</th>\n",
       "      <th>academia_humanities</th>\n",
       "      <th>business_farming</th>\n",
       "      <th>arts</th>\n",
       "      <th>sports</th>\n",
       "      <th>law_enf_military_operator</th>\n",
       "      <th>politics_govt_law</th>\n",
       "      <th>crime</th>\n",
       "      <th>event_record_other</th>\n",
       "      <th>other_species</th>\n",
       "      <th>num_categories</th>\n",
       "    </tr>\n",
       "  </thead>\n",
       "  <tbody>\n",
       "    <tr>\n",
       "      <th>16171</th>\n",
       "      <td>21</td>\n",
       "      <td>Karel Kosík</td>\n",
       "      <td>, 76, Czech Marxist philosopher.</td>\n",
       "      <td>https://en.wikipedia.org/wiki/Karel_Kos%C3%ADk</td>\n",
       "      <td>5</td>\n",
       "      <td>2003</td>\n",
       "      <td>February</td>\n",
       "      <td>None</td>\n",
       "      <td>None</td>\n",
       "      <td>Marxist</td>\n",
       "      <td>None</td>\n",
       "      <td>None</td>\n",
       "      <td>None</td>\n",
       "      <td>None</td>\n",
       "      <td>None</td>\n",
       "      <td>None</td>\n",
       "      <td>None</td>\n",
       "      <td>None</td>\n",
       "      <td>None</td>\n",
       "      <td>76.0</td>\n",
       "      <td>None</td>\n",
       "      <td>Czech Republic</td>\n",
       "      <td>None</td>\n",
       "      <td>None</td>\n",
       "      <td>1.791759</td>\n",
       "      <td>0</td>\n",
       "      <td>0</td>\n",
       "      <td>0</td>\n",
       "      <td>1</td>\n",
       "      <td>0</td>\n",
       "      <td>0</td>\n",
       "      <td>0</td>\n",
       "      <td>0</td>\n",
       "      <td>0</td>\n",
       "      <td>0</td>\n",
       "      <td>0</td>\n",
       "      <td>0</td>\n",
       "      <td>1</td>\n",
       "    </tr>\n",
       "    <tr>\n",
       "      <th>94973</th>\n",
       "      <td>1</td>\n",
       "      <td>Ramiz Abutalibov</td>\n",
       "      <td>, 84, Azerbaijani diplomat and historian.</td>\n",
       "      <td>https://en.wikipedia.org/wiki/Ramiz_Abutalibov</td>\n",
       "      <td>3</td>\n",
       "      <td>2022</td>\n",
       "      <td>January</td>\n",
       "      <td>None</td>\n",
       "      <td>None</td>\n",
       "      <td></td>\n",
       "      <td>None</td>\n",
       "      <td>None</td>\n",
       "      <td>None</td>\n",
       "      <td>None</td>\n",
       "      <td>None</td>\n",
       "      <td>None</td>\n",
       "      <td>None</td>\n",
       "      <td>None</td>\n",
       "      <td>None</td>\n",
       "      <td>84.0</td>\n",
       "      <td>None</td>\n",
       "      <td>Azerbaijan</td>\n",
       "      <td>None</td>\n",
       "      <td>None</td>\n",
       "      <td>1.386294</td>\n",
       "      <td>0</td>\n",
       "      <td>0</td>\n",
       "      <td>0</td>\n",
       "      <td>1</td>\n",
       "      <td>0</td>\n",
       "      <td>0</td>\n",
       "      <td>0</td>\n",
       "      <td>0</td>\n",
       "      <td>1</td>\n",
       "      <td>0</td>\n",
       "      <td>0</td>\n",
       "      <td>0</td>\n",
       "      <td>2</td>\n",
       "    </tr>\n",
       "  </tbody>\n",
       "</table>\n",
       "</div>"
      ],
      "text/plain": [
       "      day              name                                       info  \\\n",
       "16171  21       Karel Kosík           , 76, Czech Marxist philosopher.   \n",
       "94973   1  Ramiz Abutalibov  , 84, Azerbaijani diplomat and historian.   \n",
       "\n",
       "                                                 link  num_references  year  \\\n",
       "16171  https://en.wikipedia.org/wiki/Karel_Kos%C3%ADk               5  2003   \n",
       "94973  https://en.wikipedia.org/wiki/Ramiz_Abutalibov               3  2022   \n",
       "\n",
       "          month info_parenth info_1   info_2 info_3 info_4 info_5 info_6  \\\n",
       "16171  February         None   None  Marxist   None   None   None   None   \n",
       "94973   January         None   None            None   None   None   None   \n",
       "\n",
       "      info_7 info_8 info_9 info_10 info_11   age cause_of_death  \\\n",
       "16171   None   None   None    None    None  76.0           None   \n",
       "94973   None   None   None    None    None  84.0           None   \n",
       "\n",
       "              place_1 place_2 info_parenth_copy  log_num_references  sciences  \\\n",
       "16171  Czech Republic    None              None            1.791759         0   \n",
       "94973      Azerbaijan    None              None            1.386294         0   \n",
       "\n",
       "       social  spiritual  academia_humanities  business_farming  arts  sports  \\\n",
       "16171       0          0                    1                 0     0       0   \n",
       "94973       0          0                    1                 0     0       0   \n",
       "\n",
       "       law_enf_military_operator  politics_govt_law  crime  \\\n",
       "16171                          0                  0      0   \n",
       "94973                          0                  1      0   \n",
       "\n",
       "       event_record_other  other_species  num_categories  \n",
       "16171                   0              0               1  \n",
       "94973                   0              0               2  "
      ]
     },
     "execution_count": 35,
     "metadata": {},
     "output_type": "execute_result"
    },
    {
     "data": {
      "application/javascript": [
       "\n",
       "            setTimeout(function() {\n",
       "                var nbb_cell_id = 35;\n",
       "                var nbb_unformatted_code = \"%%time\\n\\n# Dictionary version\\nsearch_dict = known_for_dict\\n\\n# Column to check\\ncolumn = 'info_2'\\n\\n# Dataframe\\ndataframe = df[column].notna()\\n\\n# For loop to find role in column and extract it as category\\nfor category, category_lst in search_dict.items():\\n    for role in category_lst:\\n        for index in dataframe.index:\\n            item = df.loc[index, column]\\n            if item:\\n                if role in item:\\n                    df.loc[index, category] = 1\\n                    df.loc[index, column] = item.replace(role, '').strip()\\n\\n# Updating num_categories\\ndf[\\\"num_categories\\\"] = df[known_for_dict.keys()].sum(axis=1)\\n\\n# Checking a sample of rows\\ndf[df['academia_humanities'] ==1].sample(2)\";\n",
       "                var nbb_formatted_code = \"%%time\\n\\n# Dictionary version\\nsearch_dict = known_for_dict\\n\\n# Column to check\\ncolumn = 'info_2'\\n\\n# Dataframe\\ndataframe = df[column].notna()\\n\\n# For loop to find role in column and extract it as category\\nfor category, category_lst in search_dict.items():\\n    for role in category_lst:\\n        for index in dataframe.index:\\n            item = df.loc[index, column]\\n            if item:\\n                if role in item:\\n                    df.loc[index, category] = 1\\n                    df.loc[index, column] = item.replace(role, '').strip()\\n\\n# Updating num_categories\\ndf[\\\"num_categories\\\"] = df[known_for_dict.keys()].sum(axis=1)\\n\\n# Checking a sample of rows\\ndf[df['academia_humanities'] ==1].sample(2)\";\n",
       "                var nbb_cells = Jupyter.notebook.get_cells();\n",
       "                for (var i = 0; i < nbb_cells.length; ++i) {\n",
       "                    if (nbb_cells[i].input_prompt_number == nbb_cell_id) {\n",
       "                        if (nbb_cells[i].get_text() == nbb_unformatted_code) {\n",
       "                             nbb_cells[i].set_text(nbb_formatted_code);\n",
       "                        }\n",
       "                        break;\n",
       "                    }\n",
       "                }\n",
       "            }, 500);\n",
       "            "
      ],
      "text/plain": [
       "<IPython.core.display.Javascript object>"
      ]
     },
     "metadata": {},
     "output_type": "display_data"
    }
   ],
   "source": [
    "%%time\n",
    "\n",
    "# Dictionary version\n",
    "search_dict = known_for_dict\n",
    "\n",
    "# Column to check\n",
    "column = 'info_2'\n",
    "\n",
    "# Dataframe\n",
    "dataframe = df[column].notna()\n",
    "\n",
    "# For loop to find role in column and extract it as category\n",
    "for category, category_lst in search_dict.items():\n",
    "    for role in category_lst:\n",
    "        for index in dataframe.index:\n",
    "            item = df.loc[index, column]\n",
    "            if item:\n",
    "                if role in item:\n",
    "                    df.loc[index, category] = 1\n",
    "                    df.loc[index, column] = item.replace(role, '').strip()\n",
    "\n",
    "# Updating num_categories\n",
    "df[\"num_categories\"] = df[known_for_dict.keys()].sum(axis=1)\n",
    "\n",
    "# Checking a sample of rows\n",
    "df[df['academia_humanities'] ==1].sample(2)"
   ]
  },
  {
   "cell_type": "markdown",
   "id": "619a915f",
   "metadata": {},
   "source": [
    "#### Checking the Number of Rows without a First Category"
   ]
  },
  {
   "cell_type": "code",
   "execution_count": 36,
   "id": "af8b9614",
   "metadata": {},
   "outputs": [
    {
     "name": "stdout",
     "output_type": "stream",
     "text": [
      "There are 27546 entries without any known_for category.\n"
     ]
    },
    {
     "data": {
      "application/javascript": [
       "\n",
       "            setTimeout(function() {\n",
       "                var nbb_cell_id = 36;\n",
       "                var nbb_unformatted_code = \"# Checking the number of rows without a first category\\nprint(\\n    f'There are {len(df[df[\\\"num_categories\\\"]==0])} entries without any known_for category.'\\n)\";\n",
       "                var nbb_formatted_code = \"# Checking the number of rows without a first category\\nprint(\\n    f'There are {len(df[df[\\\"num_categories\\\"]==0])} entries without any known_for category.'\\n)\";\n",
       "                var nbb_cells = Jupyter.notebook.get_cells();\n",
       "                for (var i = 0; i < nbb_cells.length; ++i) {\n",
       "                    if (nbb_cells[i].input_prompt_number == nbb_cell_id) {\n",
       "                        if (nbb_cells[i].get_text() == nbb_unformatted_code) {\n",
       "                             nbb_cells[i].set_text(nbb_formatted_code);\n",
       "                        }\n",
       "                        break;\n",
       "                    }\n",
       "                }\n",
       "            }, 500);\n",
       "            "
      ],
      "text/plain": [
       "<IPython.core.display.Javascript object>"
      ]
     },
     "metadata": {},
     "output_type": "display_data"
    }
   ],
   "source": [
    "# Checking the number of rows without a first category\n",
    "print(\n",
    "    f'There are {len(df[df[\"num_categories\"]==0])} entries without any known_for category.'\n",
    ")"
   ]
  },
  {
   "cell_type": "markdown",
   "id": "b0c1ec93",
   "metadata": {},
   "source": [
    "#### Observations:\n",
    "- We will proceed to rebuild `known_for_dict` for the next iteration."
   ]
  },
  {
   "cell_type": "markdown",
   "id": "19249c71",
   "metadata": {},
   "source": [
    "#### Finding `known_for` Roles in `info_2`"
   ]
  },
  {
   "cell_type": "code",
   "execution_count": 37,
   "id": "7b5503ac",
   "metadata": {},
   "outputs": [
    {
     "data": {
      "application/javascript": [
       "\n",
       "            setTimeout(function() {\n",
       "                var nbb_cell_id = 37;\n",
       "                var nbb_unformatted_code = \"# # Obtaining values for column and their counts\\n# roles_list = df[\\\"info_2\\\"].value_counts(ascending=True).index.tolist()\";\n",
       "                var nbb_formatted_code = \"# # Obtaining values for column and their counts\\n# roles_list = df[\\\"info_2\\\"].value_counts(ascending=True).index.tolist()\";\n",
       "                var nbb_cells = Jupyter.notebook.get_cells();\n",
       "                for (var i = 0; i < nbb_cells.length; ++i) {\n",
       "                    if (nbb_cells[i].input_prompt_number == nbb_cell_id) {\n",
       "                        if (nbb_cells[i].get_text() == nbb_unformatted_code) {\n",
       "                             nbb_cells[i].set_text(nbb_formatted_code);\n",
       "                        }\n",
       "                        break;\n",
       "                    }\n",
       "                }\n",
       "            }, 500);\n",
       "            "
      ],
      "text/plain": [
       "<IPython.core.display.Javascript object>"
      ]
     },
     "metadata": {},
     "output_type": "display_data"
    }
   ],
   "source": [
    "# # Obtaining values for column and their counts\n",
    "# roles_list = df[\"info_2\"].value_counts(ascending=True).index.tolist()"
   ]
  },
  {
   "cell_type": "code",
   "execution_count": 38,
   "id": "ac6a0d20",
   "metadata": {},
   "outputs": [
    {
     "data": {
      "application/javascript": [
       "\n",
       "            setTimeout(function() {\n",
       "                var nbb_cell_id = 38;\n",
       "                var nbb_unformatted_code = \"# # Code to check each value\\n# roles_list.pop()\";\n",
       "                var nbb_formatted_code = \"# # Code to check each value\\n# roles_list.pop()\";\n",
       "                var nbb_cells = Jupyter.notebook.get_cells();\n",
       "                for (var i = 0; i < nbb_cells.length; ++i) {\n",
       "                    if (nbb_cells[i].input_prompt_number == nbb_cell_id) {\n",
       "                        if (nbb_cells[i].get_text() == nbb_unformatted_code) {\n",
       "                             nbb_cells[i].set_text(nbb_formatted_code);\n",
       "                        }\n",
       "                        break;\n",
       "                    }\n",
       "                }\n",
       "            }, 500);\n",
       "            "
      ],
      "text/plain": [
       "<IPython.core.display.Javascript object>"
      ]
     },
     "metadata": {},
     "output_type": "display_data"
    }
   ],
   "source": [
    "# # Code to check each value\n",
    "# roles_list.pop()"
   ]
  },
  {
   "cell_type": "code",
   "execution_count": 39,
   "id": "f5b12b73",
   "metadata": {},
   "outputs": [
    {
     "data": {
      "application/javascript": [
       "\n",
       "            setTimeout(function() {\n",
       "                var nbb_cell_id = 39;\n",
       "                var nbb_unformatted_code = \"# # Create specific_roles_list for above popped value\\n# specific_roles_list = (\\n#     df.loc[\\n#         [\\n#             index\\n#             for index in df[df[\\\"info_2\\\"].notna()].index\\n#             if \\\"theologian\\\" in df.loc[index, \\\"info_2\\\"]\\n#         ],\\n#         \\\"info_2\\\",\\n#     ]\\n#     .value_counts()\\n#     .index.tolist()\\n# )\";\n",
       "                var nbb_formatted_code = \"# # Create specific_roles_list for above popped value\\n# specific_roles_list = (\\n#     df.loc[\\n#         [\\n#             index\\n#             for index in df[df[\\\"info_2\\\"].notna()].index\\n#             if \\\"theologian\\\" in df.loc[index, \\\"info_2\\\"]\\n#         ],\\n#         \\\"info_2\\\",\\n#     ]\\n#     .value_counts()\\n#     .index.tolist()\\n# )\";\n",
       "                var nbb_cells = Jupyter.notebook.get_cells();\n",
       "                for (var i = 0; i < nbb_cells.length; ++i) {\n",
       "                    if (nbb_cells[i].input_prompt_number == nbb_cell_id) {\n",
       "                        if (nbb_cells[i].get_text() == nbb_unformatted_code) {\n",
       "                             nbb_cells[i].set_text(nbb_formatted_code);\n",
       "                        }\n",
       "                        break;\n",
       "                    }\n",
       "                }\n",
       "            }, 500);\n",
       "            "
      ],
      "text/plain": [
       "<IPython.core.display.Javascript object>"
      ]
     },
     "metadata": {},
     "output_type": "display_data"
    }
   ],
   "source": [
    "# # Create specific_roles_list for above popped value\n",
    "# specific_roles_list = (\n",
    "#     df.loc[\n",
    "#         [\n",
    "#             index\n",
    "#             for index in df[df[\"info_2\"].notna()].index\n",
    "#             if \"theologian\" in df.loc[index, \"info_2\"]\n",
    "#         ],\n",
    "#         \"info_2\",\n",
    "#     ]\n",
    "#     .value_counts()\n",
    "#     .index.tolist()\n",
    "# )"
   ]
  },
  {
   "cell_type": "code",
   "execution_count": 40,
   "id": "0356c69d",
   "metadata": {},
   "outputs": [
    {
     "data": {
      "application/javascript": [
       "\n",
       "            setTimeout(function() {\n",
       "                var nbb_cell_id = 40;\n",
       "                var nbb_unformatted_code = \"# # Code to check each specific value\\n# specific_roles_list.pop()\";\n",
       "                var nbb_formatted_code = \"# # Code to check each specific value\\n# specific_roles_list.pop()\";\n",
       "                var nbb_cells = Jupyter.notebook.get_cells();\n",
       "                for (var i = 0; i < nbb_cells.length; ++i) {\n",
       "                    if (nbb_cells[i].input_prompt_number == nbb_cell_id) {\n",
       "                        if (nbb_cells[i].get_text() == nbb_unformatted_code) {\n",
       "                             nbb_cells[i].set_text(nbb_formatted_code);\n",
       "                        }\n",
       "                        break;\n",
       "                    }\n",
       "                }\n",
       "            }, 500);\n",
       "            "
      ],
      "text/plain": [
       "<IPython.core.display.Javascript object>"
      ]
     },
     "metadata": {},
     "output_type": "display_data"
    }
   ],
   "source": [
    "# # Code to check each specific value\n",
    "# specific_roles_list.pop()"
   ]
  },
  {
   "cell_type": "code",
   "execution_count": 41,
   "id": "33567a12",
   "metadata": {},
   "outputs": [
    {
     "data": {
      "application/javascript": [
       "\n",
       "            setTimeout(function() {\n",
       "                var nbb_cell_id = 41;\n",
       "                var nbb_unformatted_code = \"# # Example code to quick-screen values that may overlap categories\\n# df.loc[[index for index in df.index if \\\"founder of magazine\\\" in df.loc[index, \\\"info\\\"]]]\";\n",
       "                var nbb_formatted_code = \"# # Example code to quick-screen values that may overlap categories\\n# df.loc[[index for index in df.index if \\\"founder of magazine\\\" in df.loc[index, \\\"info\\\"]]]\";\n",
       "                var nbb_cells = Jupyter.notebook.get_cells();\n",
       "                for (var i = 0; i < nbb_cells.length; ++i) {\n",
       "                    if (nbb_cells[i].input_prompt_number == nbb_cell_id) {\n",
       "                        if (nbb_cells[i].get_text() == nbb_unformatted_code) {\n",
       "                             nbb_cells[i].set_text(nbb_formatted_code);\n",
       "                        }\n",
       "                        break;\n",
       "                    }\n",
       "                }\n",
       "            }, 500);\n",
       "            "
      ],
      "text/plain": [
       "<IPython.core.display.Javascript object>"
      ]
     },
     "metadata": {},
     "output_type": "display_data"
    }
   ],
   "source": [
    "# # Example code to quick-screen values that may overlap categories\n",
    "# df.loc[[index for index in df.index if \"founder of magazine\" in df.loc[index, \"info\"]]]"
   ]
  },
  {
   "cell_type": "code",
   "execution_count": 42,
   "id": "62b54862",
   "metadata": {},
   "outputs": [
    {
     "data": {
      "application/javascript": [
       "\n",
       "            setTimeout(function() {\n",
       "                var nbb_cell_id = 42;\n",
       "                var nbb_unformatted_code = \"# # Example code to quick-check a specific entry\\n# df[df[\\\"info_2\\\"] == \\\"liberation theologian\\\"]\";\n",
       "                var nbb_formatted_code = \"# # Example code to quick-check a specific entry\\n# df[df[\\\"info_2\\\"] == \\\"liberation theologian\\\"]\";\n",
       "                var nbb_cells = Jupyter.notebook.get_cells();\n",
       "                for (var i = 0; i < nbb_cells.length; ++i) {\n",
       "                    if (nbb_cells[i].input_prompt_number == nbb_cell_id) {\n",
       "                        if (nbb_cells[i].get_text() == nbb_unformatted_code) {\n",
       "                             nbb_cells[i].set_text(nbb_formatted_code);\n",
       "                        }\n",
       "                        break;\n",
       "                    }\n",
       "                }\n",
       "            }, 500);\n",
       "            "
      ],
      "text/plain": [
       "<IPython.core.display.Javascript object>"
      ]
     },
     "metadata": {},
     "output_type": "display_data"
    }
   ],
   "source": [
    "# # Example code to quick-check a specific entry\n",
    "# df[df[\"info_2\"] == \"liberation theologian\"]"
   ]
  },
  {
   "cell_type": "markdown",
   "id": "47a36b58",
   "metadata": {},
   "source": [
    "#### Creating Lists for Each `known_for` Category"
   ]
  },
  {
   "cell_type": "code",
   "execution_count": 43,
   "id": "72d843ce",
   "metadata": {},
   "outputs": [
    {
     "data": {
      "application/javascript": [
       "\n",
       "            setTimeout(function() {\n",
       "                var nbb_cell_id = 43;\n",
       "                var nbb_unformatted_code = \"# Creating lists for each category\\npolitics_govt_law = []\\n\\narts = []\\nsports = []\\nsciences = []\\n\\nbusiness_farming = []\\nacademia_humanities = []\\nlaw_enf_military_operator = []\\nspiritual = [\\n    \\\"evangelical Protestant pastor and theologian\\\",\\n    \\\"Christian Protestant Ecumenical theologian\\\",\\n    \\\"congregationalist minister and theologian\\\",\\n    \\\"evangelical theologian and missiologist\\\",\\n    \\\"Eastern Orthodox priest and theologian\\\",\\n    \\\"Catholic Jesuit priest and theologian\\\",\\n    \\\"Presbyterian minister and theologian\\\",\\n    \\\"theologian and Catholic lay leader\\\",\\n    \\\"Protestant theologian and biblical\\\",\\n    \\\"Anglican clergyman and theologian\\\",\\n    \\\"Evangelical Christian theologian\\\",\\n    \\\"theologian and Dead Sea Scrolls\\\",\\n    \\\"Franciscan friar and theologian\\\",\\n    \\\"theologian and religious leader\\\",\\n    \\\"Baptist minister and theologian\\\",\\n    \\\"Anglican priest and theologian\\\",\\n    \\\"Anglican bishop and theologian\\\",\\n    \\\"Lutheran theologian and bishop\\\",\\n    \\\"theologian and Bishop of Medak\\\",\\n    \\\"Catholic priest and theologian\\\",\\n    \\\"Jesuit priest and theologian\\\",\\n    \\\"theologian and Old Testament\\\",\\n    \\\"theologian and New Testament\\\",\\n    \\\"dispensationalist theologian\\\",\\n    \\\"Southern Baptist theologian\\\",\\n    \\\"Eastern Orthodox theologian\\\",\\n    \\\"Evangelical theologian and\\\",\\n    \\\"missionary and theologian\\\",\\n    \\\"theologian and missionary\\\",\\n    \\\"theologian and ecumenist\\\",\\n    \\\"minister and theologian\\\",\\n    \\\"chaplain and theologian\\\",\\n    \\\"theologian and biblical\\\",\\n    \\\"theologian and exegete\\\",\\n    \\\"evangelical theologian\\\",\\n    \\\"priest and theologian\\\",\\n    \\\"Jesuit theologian and\\\",\\n    \\\"liberation theologian\\\",\\n    \\\"bishop and theologian\\\",\\n    \\\"theologian and pastor\\\",\\n    \\\"theologian and priest\\\",\\n    \\\"protestant theologian\\\",\\n    \\\"cleric and theologian\\\",\\n    \\\"Protestant theologian\\\",\\n    \\\"Methodist theologian\\\",\\n    \\\"Church of theologian\\\",\\n    \\\"Christian theologian\\\",\\n    \\\"Catholic theologian\\\",\\n    \\\"Lutheran theologian\\\",\\n    \\\"Qur'anic theologian\\\",\\n    \\\"Anglican theologian\\\",\\n    \\\"Islamic theologian\\\",\\n    \\\"Jewish theologian\\\",\\n    \\\"Jesuit theologian\\\",\\n    \\\"Sunni theologian\\\",\\n    \\\"Queer theologian\\\",\\n    \\\"lay theologian\\\",\\n    \\\"and theologian\\\",\\n    \\\"theologian and\\\",\\n    \\\"theologian\\\",\\n]\\nsocial = []\\ncrime = []\\nevent_record_other = []\\nother_species = []\";\n",
       "                var nbb_formatted_code = \"# Creating lists for each category\\npolitics_govt_law = []\\n\\narts = []\\nsports = []\\nsciences = []\\n\\nbusiness_farming = []\\nacademia_humanities = []\\nlaw_enf_military_operator = []\\nspiritual = [\\n    \\\"evangelical Protestant pastor and theologian\\\",\\n    \\\"Christian Protestant Ecumenical theologian\\\",\\n    \\\"congregationalist minister and theologian\\\",\\n    \\\"evangelical theologian and missiologist\\\",\\n    \\\"Eastern Orthodox priest and theologian\\\",\\n    \\\"Catholic Jesuit priest and theologian\\\",\\n    \\\"Presbyterian minister and theologian\\\",\\n    \\\"theologian and Catholic lay leader\\\",\\n    \\\"Protestant theologian and biblical\\\",\\n    \\\"Anglican clergyman and theologian\\\",\\n    \\\"Evangelical Christian theologian\\\",\\n    \\\"theologian and Dead Sea Scrolls\\\",\\n    \\\"Franciscan friar and theologian\\\",\\n    \\\"theologian and religious leader\\\",\\n    \\\"Baptist minister and theologian\\\",\\n    \\\"Anglican priest and theologian\\\",\\n    \\\"Anglican bishop and theologian\\\",\\n    \\\"Lutheran theologian and bishop\\\",\\n    \\\"theologian and Bishop of Medak\\\",\\n    \\\"Catholic priest and theologian\\\",\\n    \\\"Jesuit priest and theologian\\\",\\n    \\\"theologian and Old Testament\\\",\\n    \\\"theologian and New Testament\\\",\\n    \\\"dispensationalist theologian\\\",\\n    \\\"Southern Baptist theologian\\\",\\n    \\\"Eastern Orthodox theologian\\\",\\n    \\\"Evangelical theologian and\\\",\\n    \\\"missionary and theologian\\\",\\n    \\\"theologian and missionary\\\",\\n    \\\"theologian and ecumenist\\\",\\n    \\\"minister and theologian\\\",\\n    \\\"chaplain and theologian\\\",\\n    \\\"theologian and biblical\\\",\\n    \\\"theologian and exegete\\\",\\n    \\\"evangelical theologian\\\",\\n    \\\"priest and theologian\\\",\\n    \\\"Jesuit theologian and\\\",\\n    \\\"liberation theologian\\\",\\n    \\\"bishop and theologian\\\",\\n    \\\"theologian and pastor\\\",\\n    \\\"theologian and priest\\\",\\n    \\\"protestant theologian\\\",\\n    \\\"cleric and theologian\\\",\\n    \\\"Protestant theologian\\\",\\n    \\\"Methodist theologian\\\",\\n    \\\"Church of theologian\\\",\\n    \\\"Christian theologian\\\",\\n    \\\"Catholic theologian\\\",\\n    \\\"Lutheran theologian\\\",\\n    \\\"Qur'anic theologian\\\",\\n    \\\"Anglican theologian\\\",\\n    \\\"Islamic theologian\\\",\\n    \\\"Jewish theologian\\\",\\n    \\\"Jesuit theologian\\\",\\n    \\\"Sunni theologian\\\",\\n    \\\"Queer theologian\\\",\\n    \\\"lay theologian\\\",\\n    \\\"and theologian\\\",\\n    \\\"theologian and\\\",\\n    \\\"theologian\\\",\\n]\\nsocial = []\\ncrime = []\\nevent_record_other = []\\nother_species = []\";\n",
       "                var nbb_cells = Jupyter.notebook.get_cells();\n",
       "                for (var i = 0; i < nbb_cells.length; ++i) {\n",
       "                    if (nbb_cells[i].input_prompt_number == nbb_cell_id) {\n",
       "                        if (nbb_cells[i].get_text() == nbb_unformatted_code) {\n",
       "                             nbb_cells[i].set_text(nbb_formatted_code);\n",
       "                        }\n",
       "                        break;\n",
       "                    }\n",
       "                }\n",
       "            }, 500);\n",
       "            "
      ],
      "text/plain": [
       "<IPython.core.display.Javascript object>"
      ]
     },
     "metadata": {},
     "output_type": "display_data"
    }
   ],
   "source": [
    "# Creating lists for each category\n",
    "politics_govt_law = []\n",
    "\n",
    "arts = []\n",
    "sports = []\n",
    "sciences = []\n",
    "\n",
    "business_farming = []\n",
    "academia_humanities = []\n",
    "law_enf_military_operator = []\n",
    "spiritual = [\n",
    "    \"evangelical Protestant pastor and theologian\",\n",
    "    \"Christian Protestant Ecumenical theologian\",\n",
    "    \"congregationalist minister and theologian\",\n",
    "    \"evangelical theologian and missiologist\",\n",
    "    \"Eastern Orthodox priest and theologian\",\n",
    "    \"Catholic Jesuit priest and theologian\",\n",
    "    \"Presbyterian minister and theologian\",\n",
    "    \"theologian and Catholic lay leader\",\n",
    "    \"Protestant theologian and biblical\",\n",
    "    \"Anglican clergyman and theologian\",\n",
    "    \"Evangelical Christian theologian\",\n",
    "    \"theologian and Dead Sea Scrolls\",\n",
    "    \"Franciscan friar and theologian\",\n",
    "    \"theologian and religious leader\",\n",
    "    \"Baptist minister and theologian\",\n",
    "    \"Anglican priest and theologian\",\n",
    "    \"Anglican bishop and theologian\",\n",
    "    \"Lutheran theologian and bishop\",\n",
    "    \"theologian and Bishop of Medak\",\n",
    "    \"Catholic priest and theologian\",\n",
    "    \"Jesuit priest and theologian\",\n",
    "    \"theologian and Old Testament\",\n",
    "    \"theologian and New Testament\",\n",
    "    \"dispensationalist theologian\",\n",
    "    \"Southern Baptist theologian\",\n",
    "    \"Eastern Orthodox theologian\",\n",
    "    \"Evangelical theologian and\",\n",
    "    \"missionary and theologian\",\n",
    "    \"theologian and missionary\",\n",
    "    \"theologian and ecumenist\",\n",
    "    \"minister and theologian\",\n",
    "    \"chaplain and theologian\",\n",
    "    \"theologian and biblical\",\n",
    "    \"theologian and exegete\",\n",
    "    \"evangelical theologian\",\n",
    "    \"priest and theologian\",\n",
    "    \"Jesuit theologian and\",\n",
    "    \"liberation theologian\",\n",
    "    \"bishop and theologian\",\n",
    "    \"theologian and pastor\",\n",
    "    \"theologian and priest\",\n",
    "    \"protestant theologian\",\n",
    "    \"cleric and theologian\",\n",
    "    \"Protestant theologian\",\n",
    "    \"Methodist theologian\",\n",
    "    \"Church of theologian\",\n",
    "    \"Christian theologian\",\n",
    "    \"Catholic theologian\",\n",
    "    \"Lutheran theologian\",\n",
    "    \"Qur'anic theologian\",\n",
    "    \"Anglican theologian\",\n",
    "    \"Islamic theologian\",\n",
    "    \"Jewish theologian\",\n",
    "    \"Jesuit theologian\",\n",
    "    \"Sunni theologian\",\n",
    "    \"Queer theologian\",\n",
    "    \"lay theologian\",\n",
    "    \"and theologian\",\n",
    "    \"theologian and\",\n",
    "    \"theologian\",\n",
    "]\n",
    "social = []\n",
    "crime = []\n",
    "event_record_other = []\n",
    "other_species = []"
   ]
  },
  {
   "cell_type": "markdown",
   "id": "df41b0b8",
   "metadata": {},
   "source": [
    "#### Creating `known_for_dict` Dictionary of Category Keys and Specific Role Lists of Values"
   ]
  },
  {
   "cell_type": "code",
   "execution_count": 44,
   "id": "83c844e9",
   "metadata": {},
   "outputs": [
    {
     "data": {
      "application/javascript": [
       "\n",
       "            setTimeout(function() {\n",
       "                var nbb_cell_id = 44;\n",
       "                var nbb_unformatted_code = \"# Combining separate lists into one dictionary\\nknown_for_dict = {\\n    \\\"social\\\": social,\\n    \\\"spiritual\\\": spiritual,\\n    \\\"academia_humanities\\\": academia_humanities,\\n    \\\"business_farming\\\": business_farming,\\n    \\\"sciences\\\": sciences,\\n    \\\"politics_govt_law\\\": politics_govt_law,\\n    \\\"law_enf_military_operator\\\": law_enf_military_operator,\\n    \\\"crime\\\": crime,\\n    \\\"event_record_other\\\": event_record_other,\\n    \\\"other_species\\\": other_species,\\n    \\\"arts\\\": arts,\\n    \\\"sports\\\": sports,\\n}\";\n",
       "                var nbb_formatted_code = \"# Combining separate lists into one dictionary\\nknown_for_dict = {\\n    \\\"social\\\": social,\\n    \\\"spiritual\\\": spiritual,\\n    \\\"academia_humanities\\\": academia_humanities,\\n    \\\"business_farming\\\": business_farming,\\n    \\\"sciences\\\": sciences,\\n    \\\"politics_govt_law\\\": politics_govt_law,\\n    \\\"law_enf_military_operator\\\": law_enf_military_operator,\\n    \\\"crime\\\": crime,\\n    \\\"event_record_other\\\": event_record_other,\\n    \\\"other_species\\\": other_species,\\n    \\\"arts\\\": arts,\\n    \\\"sports\\\": sports,\\n}\";\n",
       "                var nbb_cells = Jupyter.notebook.get_cells();\n",
       "                for (var i = 0; i < nbb_cells.length; ++i) {\n",
       "                    if (nbb_cells[i].input_prompt_number == nbb_cell_id) {\n",
       "                        if (nbb_cells[i].get_text() == nbb_unformatted_code) {\n",
       "                             nbb_cells[i].set_text(nbb_formatted_code);\n",
       "                        }\n",
       "                        break;\n",
       "                    }\n",
       "                }\n",
       "            }, 500);\n",
       "            "
      ],
      "text/plain": [
       "<IPython.core.display.Javascript object>"
      ]
     },
     "metadata": {},
     "output_type": "display_data"
    }
   ],
   "source": [
    "# Combining separate lists into one dictionary\n",
    "known_for_dict = {\n",
    "    \"social\": social,\n",
    "    \"spiritual\": spiritual,\n",
    "    \"academia_humanities\": academia_humanities,\n",
    "    \"business_farming\": business_farming,\n",
    "    \"sciences\": sciences,\n",
    "    \"politics_govt_law\": politics_govt_law,\n",
    "    \"law_enf_military_operator\": law_enf_military_operator,\n",
    "    \"crime\": crime,\n",
    "    \"event_record_other\": event_record_other,\n",
    "    \"other_species\": other_species,\n",
    "    \"arts\": arts,\n",
    "    \"sports\": sports,\n",
    "}"
   ]
  },
  {
   "cell_type": "markdown",
   "id": "68007b55",
   "metadata": {},
   "source": [
    "#### Extracting Category from `info_2`"
   ]
  },
  {
   "cell_type": "code",
   "execution_count": 45,
   "id": "03331f8f",
   "metadata": {},
   "outputs": [
    {
     "name": "stdout",
     "output_type": "stream",
     "text": [
      "CPU times: total: 30.9 s\n",
      "Wall time: 30.9 s\n"
     ]
    },
    {
     "data": {
      "text/html": [
       "<div>\n",
       "<style scoped>\n",
       "    .dataframe tbody tr th:only-of-type {\n",
       "        vertical-align: middle;\n",
       "    }\n",
       "\n",
       "    .dataframe tbody tr th {\n",
       "        vertical-align: top;\n",
       "    }\n",
       "\n",
       "    .dataframe thead th {\n",
       "        text-align: right;\n",
       "    }\n",
       "</style>\n",
       "<table border=\"1\" class=\"dataframe\">\n",
       "  <thead>\n",
       "    <tr style=\"text-align: right;\">\n",
       "      <th></th>\n",
       "      <th>day</th>\n",
       "      <th>name</th>\n",
       "      <th>info</th>\n",
       "      <th>link</th>\n",
       "      <th>num_references</th>\n",
       "      <th>year</th>\n",
       "      <th>month</th>\n",
       "      <th>info_parenth</th>\n",
       "      <th>info_1</th>\n",
       "      <th>info_2</th>\n",
       "      <th>info_3</th>\n",
       "      <th>info_4</th>\n",
       "      <th>info_5</th>\n",
       "      <th>info_6</th>\n",
       "      <th>info_7</th>\n",
       "      <th>info_8</th>\n",
       "      <th>info_9</th>\n",
       "      <th>info_10</th>\n",
       "      <th>info_11</th>\n",
       "      <th>age</th>\n",
       "      <th>cause_of_death</th>\n",
       "      <th>place_1</th>\n",
       "      <th>place_2</th>\n",
       "      <th>info_parenth_copy</th>\n",
       "      <th>log_num_references</th>\n",
       "      <th>sciences</th>\n",
       "      <th>social</th>\n",
       "      <th>spiritual</th>\n",
       "      <th>academia_humanities</th>\n",
       "      <th>business_farming</th>\n",
       "      <th>arts</th>\n",
       "      <th>sports</th>\n",
       "      <th>law_enf_military_operator</th>\n",
       "      <th>politics_govt_law</th>\n",
       "      <th>crime</th>\n",
       "      <th>event_record_other</th>\n",
       "      <th>other_species</th>\n",
       "      <th>num_categories</th>\n",
       "    </tr>\n",
       "  </thead>\n",
       "  <tbody>\n",
       "    <tr>\n",
       "      <th>62558</th>\n",
       "      <td>7</td>\n",
       "      <td>Edmond La Beaume Cherbonnier</td>\n",
       "      <td>, 99, American theologian.</td>\n",
       "      <td>https://en.wikipedia.org/wiki/Edmond_La_Beaume_Cherbonnier</td>\n",
       "      <td>14</td>\n",
       "      <td>2017</td>\n",
       "      <td>March</td>\n",
       "      <td>None</td>\n",
       "      <td>None</td>\n",
       "      <td></td>\n",
       "      <td>None</td>\n",
       "      <td>None</td>\n",
       "      <td>None</td>\n",
       "      <td>None</td>\n",
       "      <td>None</td>\n",
       "      <td>None</td>\n",
       "      <td>None</td>\n",
       "      <td>None</td>\n",
       "      <td>None</td>\n",
       "      <td>99.0</td>\n",
       "      <td>None</td>\n",
       "      <td>United States of America</td>\n",
       "      <td>None</td>\n",
       "      <td>None</td>\n",
       "      <td>2.708050</td>\n",
       "      <td>0</td>\n",
       "      <td>0</td>\n",
       "      <td>1</td>\n",
       "      <td>0</td>\n",
       "      <td>0</td>\n",
       "      <td>0</td>\n",
       "      <td>0</td>\n",
       "      <td>0</td>\n",
       "      <td>0</td>\n",
       "      <td>0</td>\n",
       "      <td>0</td>\n",
       "      <td>0</td>\n",
       "      <td>1</td>\n",
       "    </tr>\n",
       "    <tr>\n",
       "      <th>18026</th>\n",
       "      <td>1</td>\n",
       "      <td>Francis James Harrison</td>\n",
       "      <td>, 91, American Roman Catholic prelate, Bishop of Syracuse .</td>\n",
       "      <td>https://en.wikipedia.org/wiki/Francis_James_Harrison</td>\n",
       "      <td>5</td>\n",
       "      <td>2004</td>\n",
       "      <td>May</td>\n",
       "      <td></td>\n",
       "      <td>None</td>\n",
       "      <td></td>\n",
       "      <td>Bishop of Syracuse</td>\n",
       "      <td>None</td>\n",
       "      <td>None</td>\n",
       "      <td>None</td>\n",
       "      <td>None</td>\n",
       "      <td>None</td>\n",
       "      <td>None</td>\n",
       "      <td>None</td>\n",
       "      <td>None</td>\n",
       "      <td>91.0</td>\n",
       "      <td>None</td>\n",
       "      <td>United States of America</td>\n",
       "      <td>Italy</td>\n",
       "      <td>1977 1987</td>\n",
       "      <td>1.791759</td>\n",
       "      <td>0</td>\n",
       "      <td>0</td>\n",
       "      <td>1</td>\n",
       "      <td>0</td>\n",
       "      <td>0</td>\n",
       "      <td>0</td>\n",
       "      <td>0</td>\n",
       "      <td>0</td>\n",
       "      <td>0</td>\n",
       "      <td>0</td>\n",
       "      <td>0</td>\n",
       "      <td>0</td>\n",
       "      <td>1</td>\n",
       "    </tr>\n",
       "  </tbody>\n",
       "</table>\n",
       "</div>"
      ],
      "text/plain": [
       "      day                          name  \\\n",
       "62558   7  Edmond La Beaume Cherbonnier   \n",
       "18026   1        Francis James Harrison   \n",
       "\n",
       "                                                              info  \\\n",
       "62558                                   , 99, American theologian.   \n",
       "18026  , 91, American Roman Catholic prelate, Bishop of Syracuse .   \n",
       "\n",
       "                                                             link  \\\n",
       "62558  https://en.wikipedia.org/wiki/Edmond_La_Beaume_Cherbonnier   \n",
       "18026        https://en.wikipedia.org/wiki/Francis_James_Harrison   \n",
       "\n",
       "       num_references  year  month info_parenth info_1 info_2  \\\n",
       "62558              14  2017  March         None   None          \n",
       "18026               5  2004    May                None          \n",
       "\n",
       "                   info_3 info_4 info_5 info_6 info_7 info_8 info_9 info_10  \\\n",
       "62558                None   None   None   None   None   None   None    None   \n",
       "18026  Bishop of Syracuse   None   None   None   None   None   None    None   \n",
       "\n",
       "      info_11   age cause_of_death                   place_1 place_2  \\\n",
       "62558    None  99.0           None  United States of America    None   \n",
       "18026    None  91.0           None  United States of America   Italy   \n",
       "\n",
       "      info_parenth_copy  log_num_references  sciences  social  spiritual  \\\n",
       "62558              None            2.708050         0       0          1   \n",
       "18026         1977 1987            1.791759         0       0          1   \n",
       "\n",
       "       academia_humanities  business_farming  arts  sports  \\\n",
       "62558                    0                 0     0       0   \n",
       "18026                    0                 0     0       0   \n",
       "\n",
       "       law_enf_military_operator  politics_govt_law  crime  \\\n",
       "62558                          0                  0      0   \n",
       "18026                          0                  0      0   \n",
       "\n",
       "       event_record_other  other_species  num_categories  \n",
       "62558                   0              0               1  \n",
       "18026                   0              0               1  "
      ]
     },
     "execution_count": 45,
     "metadata": {},
     "output_type": "execute_result"
    },
    {
     "data": {
      "application/javascript": [
       "\n",
       "            setTimeout(function() {\n",
       "                var nbb_cell_id = 45;\n",
       "                var nbb_unformatted_code = \"%%time\\n\\n# Dictionary version\\nsearch_dict = known_for_dict\\n\\n# Column to check\\ncolumn = 'info_2'\\n\\n# Dataframe\\ndataframe = df[column].notna()\\n\\n# For loop to find role in column and extract it as category\\nfor category, category_lst in search_dict.items():\\n    for role in category_lst:\\n        for index in dataframe.index:\\n            item = df.loc[index, column]\\n            if item:\\n                if role in item:\\n                    df.loc[index, category] = 1\\n                    df.loc[index, column] = item.replace(role, '').strip()\\n\\n# Updating num_categories\\ndf[\\\"num_categories\\\"] = df[known_for_dict.keys()].sum(axis=1)\\n\\n# Checking a sample of rows\\ndf[df['spiritual'] ==1].sample(2)\";\n",
       "                var nbb_formatted_code = \"%%time\\n\\n# Dictionary version\\nsearch_dict = known_for_dict\\n\\n# Column to check\\ncolumn = 'info_2'\\n\\n# Dataframe\\ndataframe = df[column].notna()\\n\\n# For loop to find role in column and extract it as category\\nfor category, category_lst in search_dict.items():\\n    for role in category_lst:\\n        for index in dataframe.index:\\n            item = df.loc[index, column]\\n            if item:\\n                if role in item:\\n                    df.loc[index, category] = 1\\n                    df.loc[index, column] = item.replace(role, '').strip()\\n\\n# Updating num_categories\\ndf[\\\"num_categories\\\"] = df[known_for_dict.keys()].sum(axis=1)\\n\\n# Checking a sample of rows\\ndf[df['spiritual'] ==1].sample(2)\";\n",
       "                var nbb_cells = Jupyter.notebook.get_cells();\n",
       "                for (var i = 0; i < nbb_cells.length; ++i) {\n",
       "                    if (nbb_cells[i].input_prompt_number == nbb_cell_id) {\n",
       "                        if (nbb_cells[i].get_text() == nbb_unformatted_code) {\n",
       "                             nbb_cells[i].set_text(nbb_formatted_code);\n",
       "                        }\n",
       "                        break;\n",
       "                    }\n",
       "                }\n",
       "            }, 500);\n",
       "            "
      ],
      "text/plain": [
       "<IPython.core.display.Javascript object>"
      ]
     },
     "metadata": {},
     "output_type": "display_data"
    }
   ],
   "source": [
    "%%time\n",
    "\n",
    "# Dictionary version\n",
    "search_dict = known_for_dict\n",
    "\n",
    "# Column to check\n",
    "column = 'info_2'\n",
    "\n",
    "# Dataframe\n",
    "dataframe = df[column].notna()\n",
    "\n",
    "# For loop to find role in column and extract it as category\n",
    "for category, category_lst in search_dict.items():\n",
    "    for role in category_lst:\n",
    "        for index in dataframe.index:\n",
    "            item = df.loc[index, column]\n",
    "            if item:\n",
    "                if role in item:\n",
    "                    df.loc[index, category] = 1\n",
    "                    df.loc[index, column] = item.replace(role, '').strip()\n",
    "\n",
    "# Updating num_categories\n",
    "df[\"num_categories\"] = df[known_for_dict.keys()].sum(axis=1)\n",
    "\n",
    "# Checking a sample of rows\n",
    "df[df['spiritual'] ==1].sample(2)"
   ]
  },
  {
   "cell_type": "markdown",
   "id": "5822987b",
   "metadata": {},
   "source": [
    "#### Checking the Number of Rows without a First Category"
   ]
  },
  {
   "cell_type": "code",
   "execution_count": 46,
   "id": "4d1f0a54",
   "metadata": {},
   "outputs": [
    {
     "name": "stdout",
     "output_type": "stream",
     "text": [
      "There are 27340 entries without any known_for category.\n"
     ]
    },
    {
     "data": {
      "application/javascript": [
       "\n",
       "            setTimeout(function() {\n",
       "                var nbb_cell_id = 46;\n",
       "                var nbb_unformatted_code = \"# Checking the number of rows without a first category\\nprint(\\n    f'There are {len(df[df[\\\"num_categories\\\"]==0])} entries without any known_for category.'\\n)\";\n",
       "                var nbb_formatted_code = \"# Checking the number of rows without a first category\\nprint(\\n    f'There are {len(df[df[\\\"num_categories\\\"]==0])} entries without any known_for category.'\\n)\";\n",
       "                var nbb_cells = Jupyter.notebook.get_cells();\n",
       "                for (var i = 0; i < nbb_cells.length; ++i) {\n",
       "                    if (nbb_cells[i].input_prompt_number == nbb_cell_id) {\n",
       "                        if (nbb_cells[i].get_text() == nbb_unformatted_code) {\n",
       "                             nbb_cells[i].set_text(nbb_formatted_code);\n",
       "                        }\n",
       "                        break;\n",
       "                    }\n",
       "                }\n",
       "            }, 500);\n",
       "            "
      ],
      "text/plain": [
       "<IPython.core.display.Javascript object>"
      ]
     },
     "metadata": {},
     "output_type": "display_data"
    }
   ],
   "source": [
    "# Checking the number of rows without a first category\n",
    "print(\n",
    "    f'There are {len(df[df[\"num_categories\"]==0])} entries without any known_for category.'\n",
    ")"
   ]
  },
  {
   "cell_type": "markdown",
   "id": "079f0fa7",
   "metadata": {},
   "source": [
    "#### Observations:\n",
    "- We will proceed to rebuild `known_for_dict` for the next iteration."
   ]
  },
  {
   "cell_type": "markdown",
   "id": "75c73a78",
   "metadata": {},
   "source": [
    "#### Finding `known_for` Roles in `info_2`"
   ]
  },
  {
   "cell_type": "code",
   "execution_count": 47,
   "id": "09d0ad46",
   "metadata": {},
   "outputs": [
    {
     "data": {
      "application/javascript": [
       "\n",
       "            setTimeout(function() {\n",
       "                var nbb_cell_id = 47;\n",
       "                var nbb_unformatted_code = \"# # Obtaining values for column and their counts\\n# roles_list = df[\\\"info_2\\\"].value_counts(ascending=True).index.tolist()\";\n",
       "                var nbb_formatted_code = \"# # Obtaining values for column and their counts\\n# roles_list = df[\\\"info_2\\\"].value_counts(ascending=True).index.tolist()\";\n",
       "                var nbb_cells = Jupyter.notebook.get_cells();\n",
       "                for (var i = 0; i < nbb_cells.length; ++i) {\n",
       "                    if (nbb_cells[i].input_prompt_number == nbb_cell_id) {\n",
       "                        if (nbb_cells[i].get_text() == nbb_unformatted_code) {\n",
       "                             nbb_cells[i].set_text(nbb_formatted_code);\n",
       "                        }\n",
       "                        break;\n",
       "                    }\n",
       "                }\n",
       "            }, 500);\n",
       "            "
      ],
      "text/plain": [
       "<IPython.core.display.Javascript object>"
      ]
     },
     "metadata": {},
     "output_type": "display_data"
    }
   ],
   "source": [
    "# # Obtaining values for column and their counts\n",
    "# roles_list = df[\"info_2\"].value_counts(ascending=True).index.tolist()"
   ]
  },
  {
   "cell_type": "code",
   "execution_count": 48,
   "id": "6a1290a0",
   "metadata": {},
   "outputs": [
    {
     "data": {
      "application/javascript": [
       "\n",
       "            setTimeout(function() {\n",
       "                var nbb_cell_id = 48;\n",
       "                var nbb_unformatted_code = \"# # Code to check each value\\n# roles_list.pop()\";\n",
       "                var nbb_formatted_code = \"# # Code to check each value\\n# roles_list.pop()\";\n",
       "                var nbb_cells = Jupyter.notebook.get_cells();\n",
       "                for (var i = 0; i < nbb_cells.length; ++i) {\n",
       "                    if (nbb_cells[i].input_prompt_number == nbb_cell_id) {\n",
       "                        if (nbb_cells[i].get_text() == nbb_unformatted_code) {\n",
       "                             nbb_cells[i].set_text(nbb_formatted_code);\n",
       "                        }\n",
       "                        break;\n",
       "                    }\n",
       "                }\n",
       "            }, 500);\n",
       "            "
      ],
      "text/plain": [
       "<IPython.core.display.Javascript object>"
      ]
     },
     "metadata": {},
     "output_type": "display_data"
    }
   ],
   "source": [
    "# # Code to check each value\n",
    "# roles_list.pop()"
   ]
  },
  {
   "cell_type": "code",
   "execution_count": 49,
   "id": "03fb0eb0",
   "metadata": {},
   "outputs": [
    {
     "data": {
      "application/javascript": [
       "\n",
       "            setTimeout(function() {\n",
       "                var nbb_cell_id = 49;\n",
       "                var nbb_unformatted_code = \"# # Create specific_roles_list for above popped value\\n# specific_roles_list = (\\n#     df.loc[\\n#         [\\n#             index\\n#             for index in df[df[\\\"info_2\\\"].notna()].index\\n#             if \\\"linguist\\\" in df.loc[index, \\\"info_2\\\"]\\n#         ],\\n#         \\\"info_2\\\",\\n#     ]\\n#     .value_counts()\\n#     .index.tolist()\\n# )\";\n",
       "                var nbb_formatted_code = \"# # Create specific_roles_list for above popped value\\n# specific_roles_list = (\\n#     df.loc[\\n#         [\\n#             index\\n#             for index in df[df[\\\"info_2\\\"].notna()].index\\n#             if \\\"linguist\\\" in df.loc[index, \\\"info_2\\\"]\\n#         ],\\n#         \\\"info_2\\\",\\n#     ]\\n#     .value_counts()\\n#     .index.tolist()\\n# )\";\n",
       "                var nbb_cells = Jupyter.notebook.get_cells();\n",
       "                for (var i = 0; i < nbb_cells.length; ++i) {\n",
       "                    if (nbb_cells[i].input_prompt_number == nbb_cell_id) {\n",
       "                        if (nbb_cells[i].get_text() == nbb_unformatted_code) {\n",
       "                             nbb_cells[i].set_text(nbb_formatted_code);\n",
       "                        }\n",
       "                        break;\n",
       "                    }\n",
       "                }\n",
       "            }, 500);\n",
       "            "
      ],
      "text/plain": [
       "<IPython.core.display.Javascript object>"
      ]
     },
     "metadata": {},
     "output_type": "display_data"
    }
   ],
   "source": [
    "# # Create specific_roles_list for above popped value\n",
    "# specific_roles_list = (\n",
    "#     df.loc[\n",
    "#         [\n",
    "#             index\n",
    "#             for index in df[df[\"info_2\"].notna()].index\n",
    "#             if \"linguist\" in df.loc[index, \"info_2\"]\n",
    "#         ],\n",
    "#         \"info_2\",\n",
    "#     ]\n",
    "#     .value_counts()\n",
    "#     .index.tolist()\n",
    "# )"
   ]
  },
  {
   "cell_type": "code",
   "execution_count": 50,
   "id": "58411d5a",
   "metadata": {},
   "outputs": [
    {
     "data": {
      "application/javascript": [
       "\n",
       "            setTimeout(function() {\n",
       "                var nbb_cell_id = 50;\n",
       "                var nbb_unformatted_code = \"# # Code to check each specific value\\n# specific_roles_list.pop()\";\n",
       "                var nbb_formatted_code = \"# # Code to check each specific value\\n# specific_roles_list.pop()\";\n",
       "                var nbb_cells = Jupyter.notebook.get_cells();\n",
       "                for (var i = 0; i < nbb_cells.length; ++i) {\n",
       "                    if (nbb_cells[i].input_prompt_number == nbb_cell_id) {\n",
       "                        if (nbb_cells[i].get_text() == nbb_unformatted_code) {\n",
       "                             nbb_cells[i].set_text(nbb_formatted_code);\n",
       "                        }\n",
       "                        break;\n",
       "                    }\n",
       "                }\n",
       "            }, 500);\n",
       "            "
      ],
      "text/plain": [
       "<IPython.core.display.Javascript object>"
      ]
     },
     "metadata": {},
     "output_type": "display_data"
    }
   ],
   "source": [
    "# # Code to check each specific value\n",
    "# specific_roles_list.pop()"
   ]
  },
  {
   "cell_type": "code",
   "execution_count": 51,
   "id": "c57de685",
   "metadata": {},
   "outputs": [
    {
     "data": {
      "application/javascript": [
       "\n",
       "            setTimeout(function() {\n",
       "                var nbb_cell_id = 51;\n",
       "                var nbb_unformatted_code = \"# # Example code to quick-screen values that may overlap categories\\n# df.loc[[index for index in df.index if \\\"computational\\\" in df.loc[index, \\\"info\\\"]]]\";\n",
       "                var nbb_formatted_code = \"# # Example code to quick-screen values that may overlap categories\\n# df.loc[[index for index in df.index if \\\"computational\\\" in df.loc[index, \\\"info\\\"]]]\";\n",
       "                var nbb_cells = Jupyter.notebook.get_cells();\n",
       "                for (var i = 0; i < nbb_cells.length; ++i) {\n",
       "                    if (nbb_cells[i].input_prompt_number == nbb_cell_id) {\n",
       "                        if (nbb_cells[i].get_text() == nbb_unformatted_code) {\n",
       "                             nbb_cells[i].set_text(nbb_formatted_code);\n",
       "                        }\n",
       "                        break;\n",
       "                    }\n",
       "                }\n",
       "            }, 500);\n",
       "            "
      ],
      "text/plain": [
       "<IPython.core.display.Javascript object>"
      ]
     },
     "metadata": {},
     "output_type": "display_data"
    }
   ],
   "source": [
    "# # Example code to quick-screen values that may overlap categories\n",
    "# df.loc[[index for index in df.index if \"computational\" in df.loc[index, \"info\"]]]"
   ]
  },
  {
   "cell_type": "code",
   "execution_count": 52,
   "id": "135bd1fd",
   "metadata": {},
   "outputs": [
    {
     "data": {
      "application/javascript": [
       "\n",
       "            setTimeout(function() {\n",
       "                var nbb_cell_id = 52;\n",
       "                var nbb_unformatted_code = \"# # Example code to quick-check a specific entry\\n# df[df[\\\"info_2\\\"] == \\\"psycholinguist\\\"]\";\n",
       "                var nbb_formatted_code = \"# # Example code to quick-check a specific entry\\n# df[df[\\\"info_2\\\"] == \\\"psycholinguist\\\"]\";\n",
       "                var nbb_cells = Jupyter.notebook.get_cells();\n",
       "                for (var i = 0; i < nbb_cells.length; ++i) {\n",
       "                    if (nbb_cells[i].input_prompt_number == nbb_cell_id) {\n",
       "                        if (nbb_cells[i].get_text() == nbb_unformatted_code) {\n",
       "                             nbb_cells[i].set_text(nbb_formatted_code);\n",
       "                        }\n",
       "                        break;\n",
       "                    }\n",
       "                }\n",
       "            }, 500);\n",
       "            "
      ],
      "text/plain": [
       "<IPython.core.display.Javascript object>"
      ]
     },
     "metadata": {},
     "output_type": "display_data"
    }
   ],
   "source": [
    "# # Example code to quick-check a specific entry\n",
    "# df[df[\"info_2\"] == \"psycholinguist\"]"
   ]
  },
  {
   "cell_type": "markdown",
   "id": "0f2ba815",
   "metadata": {},
   "source": [
    "#### Creating Lists for Each `known_for` Category"
   ]
  },
  {
   "cell_type": "code",
   "execution_count": 53,
   "id": "7cd21090",
   "metadata": {},
   "outputs": [
    {
     "data": {
      "application/javascript": [
       "\n",
       "            setTimeout(function() {\n",
       "                var nbb_cell_id = 53;\n",
       "                var nbb_unformatted_code = \"# Creating lists for each category\\npolitics_govt_law = []\\n\\narts = []\\nsports = []\\nsciences = [\\n    \\\"neuro linguistic programming expert\\\",  # before academia_humanities\\n    \\\"psycholinguist\\\",\\n]\\n\\nbusiness_farming = []\\nacademia_humanities = [\\n    \\\"linguist and leading scholar of Mon and Khmer languages\\\",\\n    \\\"linguist and classical scholar who deciphered Linear B\\\",\\n    \\\"sociolinguist and linguistic anthropologist\\\",\\n    \\\"linguistic anthropologist and semiotician\\\",\\n    \\\"linguist specialized in Romance languages\\\",\\n    \\\"scholar of literature and linguistics\\\",\\n    \\\"Yiddish linguist and lexicographer\\\",\\n    \\\"linguist and literature scholar\\\",\\n    \\\"linguist and anthropologist\\\",\\n    \\\"anthropologist and linguist\\\",\\n    \\\"linguist and Hittitologist\\\",\\n    \\\"lexicographer and linguist\\\",\\n    \\\"linguist and lexicographer\\\",\\n    \\\"musicologist and linguist\\\",\\n    \\\"linguistic anthropologist\\\",\\n    \\\"albanologist and linguist\\\",\\n    \\\"linguist and ethnologist\\\",\\n    \\\"philologist and linguist\\\",\\n    \\\"linguist and philologist\\\",\\n    \\\"linguist and celtologist\\\",\\n    \\\"linguist and Iranologist\\\",\\n    \\\"grammarian and linguist\\\",\\n    \\\"sinologist and linguist\\\",\\n    \\\"linguistics expert and\\\",\\n    \\\"Santhali linguist and\\\",\\n    \\\"scholar and linguist\\\",\\n    \\\"linguist and scholar\\\",\\n    \\\"linguist and slavist\\\",\\n    \\\"linguist and teacher\\\",\\n    \\\"linguist of descent\\\",\\n    \\\"linguistics scholar\\\",\\n    \\\"historical linguist\\\",\\n    \\\"linguistics expert\\\",\\n    \\\"classical linguist\\\",\\n    \\\"Creole linguist\\\",\\n    \\\"sociolinguist\\\",\\n    \\\"and linguist\\\",\\n    \\\"linguist and\\\",\\n    \\\"linguist\\\",\\n]\\nlaw_enf_military_operator = []\\nspiritual = []\\nsocial = []\\ncrime = []\\nevent_record_other = []\\nother_species = []\";\n",
       "                var nbb_formatted_code = \"# Creating lists for each category\\npolitics_govt_law = []\\n\\narts = []\\nsports = []\\nsciences = [\\n    \\\"neuro linguistic programming expert\\\",  # before academia_humanities\\n    \\\"psycholinguist\\\",\\n]\\n\\nbusiness_farming = []\\nacademia_humanities = [\\n    \\\"linguist and leading scholar of Mon and Khmer languages\\\",\\n    \\\"linguist and classical scholar who deciphered Linear B\\\",\\n    \\\"sociolinguist and linguistic anthropologist\\\",\\n    \\\"linguistic anthropologist and semiotician\\\",\\n    \\\"linguist specialized in Romance languages\\\",\\n    \\\"scholar of literature and linguistics\\\",\\n    \\\"Yiddish linguist and lexicographer\\\",\\n    \\\"linguist and literature scholar\\\",\\n    \\\"linguist and anthropologist\\\",\\n    \\\"anthropologist and linguist\\\",\\n    \\\"linguist and Hittitologist\\\",\\n    \\\"lexicographer and linguist\\\",\\n    \\\"linguist and lexicographer\\\",\\n    \\\"musicologist and linguist\\\",\\n    \\\"linguistic anthropologist\\\",\\n    \\\"albanologist and linguist\\\",\\n    \\\"linguist and ethnologist\\\",\\n    \\\"philologist and linguist\\\",\\n    \\\"linguist and philologist\\\",\\n    \\\"linguist and celtologist\\\",\\n    \\\"linguist and Iranologist\\\",\\n    \\\"grammarian and linguist\\\",\\n    \\\"sinologist and linguist\\\",\\n    \\\"linguistics expert and\\\",\\n    \\\"Santhali linguist and\\\",\\n    \\\"scholar and linguist\\\",\\n    \\\"linguist and scholar\\\",\\n    \\\"linguist and slavist\\\",\\n    \\\"linguist and teacher\\\",\\n    \\\"linguist of descent\\\",\\n    \\\"linguistics scholar\\\",\\n    \\\"historical linguist\\\",\\n    \\\"linguistics expert\\\",\\n    \\\"classical linguist\\\",\\n    \\\"Creole linguist\\\",\\n    \\\"sociolinguist\\\",\\n    \\\"and linguist\\\",\\n    \\\"linguist and\\\",\\n    \\\"linguist\\\",\\n]\\nlaw_enf_military_operator = []\\nspiritual = []\\nsocial = []\\ncrime = []\\nevent_record_other = []\\nother_species = []\";\n",
       "                var nbb_cells = Jupyter.notebook.get_cells();\n",
       "                for (var i = 0; i < nbb_cells.length; ++i) {\n",
       "                    if (nbb_cells[i].input_prompt_number == nbb_cell_id) {\n",
       "                        if (nbb_cells[i].get_text() == nbb_unformatted_code) {\n",
       "                             nbb_cells[i].set_text(nbb_formatted_code);\n",
       "                        }\n",
       "                        break;\n",
       "                    }\n",
       "                }\n",
       "            }, 500);\n",
       "            "
      ],
      "text/plain": [
       "<IPython.core.display.Javascript object>"
      ]
     },
     "metadata": {},
     "output_type": "display_data"
    }
   ],
   "source": [
    "# Creating lists for each category\n",
    "politics_govt_law = []\n",
    "\n",
    "arts = []\n",
    "sports = []\n",
    "sciences = [\n",
    "    \"neuro linguistic programming expert\",  # before academia_humanities\n",
    "    \"psycholinguist\",\n",
    "]\n",
    "\n",
    "business_farming = []\n",
    "academia_humanities = [\n",
    "    \"linguist and leading scholar of Mon and Khmer languages\",\n",
    "    \"linguist and classical scholar who deciphered Linear B\",\n",
    "    \"sociolinguist and linguistic anthropologist\",\n",
    "    \"linguistic anthropologist and semiotician\",\n",
    "    \"linguist specialized in Romance languages\",\n",
    "    \"scholar of literature and linguistics\",\n",
    "    \"Yiddish linguist and lexicographer\",\n",
    "    \"linguist and literature scholar\",\n",
    "    \"linguist and anthropologist\",\n",
    "    \"anthropologist and linguist\",\n",
    "    \"linguist and Hittitologist\",\n",
    "    \"lexicographer and linguist\",\n",
    "    \"linguist and lexicographer\",\n",
    "    \"musicologist and linguist\",\n",
    "    \"linguistic anthropologist\",\n",
    "    \"albanologist and linguist\",\n",
    "    \"linguist and ethnologist\",\n",
    "    \"philologist and linguist\",\n",
    "    \"linguist and philologist\",\n",
    "    \"linguist and celtologist\",\n",
    "    \"linguist and Iranologist\",\n",
    "    \"grammarian and linguist\",\n",
    "    \"sinologist and linguist\",\n",
    "    \"linguistics expert and\",\n",
    "    \"Santhali linguist and\",\n",
    "    \"scholar and linguist\",\n",
    "    \"linguist and scholar\",\n",
    "    \"linguist and slavist\",\n",
    "    \"linguist and teacher\",\n",
    "    \"linguist of descent\",\n",
    "    \"linguistics scholar\",\n",
    "    \"historical linguist\",\n",
    "    \"linguistics expert\",\n",
    "    \"classical linguist\",\n",
    "    \"Creole linguist\",\n",
    "    \"sociolinguist\",\n",
    "    \"and linguist\",\n",
    "    \"linguist and\",\n",
    "    \"linguist\",\n",
    "]\n",
    "law_enf_military_operator = []\n",
    "spiritual = []\n",
    "social = []\n",
    "crime = []\n",
    "event_record_other = []\n",
    "other_species = []"
   ]
  },
  {
   "cell_type": "markdown",
   "id": "bef8ca5b",
   "metadata": {},
   "source": [
    "#### Creating `known_for_dict` Dictionary of Category Keys and Specific Role Lists of Values"
   ]
  },
  {
   "cell_type": "code",
   "execution_count": 54,
   "id": "b67787ff",
   "metadata": {},
   "outputs": [
    {
     "data": {
      "application/javascript": [
       "\n",
       "            setTimeout(function() {\n",
       "                var nbb_cell_id = 54;\n",
       "                var nbb_unformatted_code = \"# Combining separate lists into one dictionary\\nknown_for_dict = {\\n    \\\"social\\\": social,\\n    \\\"spiritual\\\": spiritual,\\n    \\\"business_farming\\\": business_farming,\\n    \\\"sciences\\\": sciences,\\n    \\\"politics_govt_law\\\": politics_govt_law,\\n    \\\"law_enf_military_operator\\\": law_enf_military_operator,\\n    \\\"crime\\\": crime,\\n    \\\"event_record_other\\\": event_record_other,\\n    \\\"other_species\\\": other_species,\\n    \\\"arts\\\": arts,\\n    \\\"sports\\\": sports,\\n    \\\"academia_humanities\\\": academia_humanities,\\n}\";\n",
       "                var nbb_formatted_code = \"# Combining separate lists into one dictionary\\nknown_for_dict = {\\n    \\\"social\\\": social,\\n    \\\"spiritual\\\": spiritual,\\n    \\\"business_farming\\\": business_farming,\\n    \\\"sciences\\\": sciences,\\n    \\\"politics_govt_law\\\": politics_govt_law,\\n    \\\"law_enf_military_operator\\\": law_enf_military_operator,\\n    \\\"crime\\\": crime,\\n    \\\"event_record_other\\\": event_record_other,\\n    \\\"other_species\\\": other_species,\\n    \\\"arts\\\": arts,\\n    \\\"sports\\\": sports,\\n    \\\"academia_humanities\\\": academia_humanities,\\n}\";\n",
       "                var nbb_cells = Jupyter.notebook.get_cells();\n",
       "                for (var i = 0; i < nbb_cells.length; ++i) {\n",
       "                    if (nbb_cells[i].input_prompt_number == nbb_cell_id) {\n",
       "                        if (nbb_cells[i].get_text() == nbb_unformatted_code) {\n",
       "                             nbb_cells[i].set_text(nbb_formatted_code);\n",
       "                        }\n",
       "                        break;\n",
       "                    }\n",
       "                }\n",
       "            }, 500);\n",
       "            "
      ],
      "text/plain": [
       "<IPython.core.display.Javascript object>"
      ]
     },
     "metadata": {},
     "output_type": "display_data"
    }
   ],
   "source": [
    "# Combining separate lists into one dictionary\n",
    "known_for_dict = {\n",
    "    \"social\": social,\n",
    "    \"spiritual\": spiritual,\n",
    "    \"business_farming\": business_farming,\n",
    "    \"sciences\": sciences,\n",
    "    \"politics_govt_law\": politics_govt_law,\n",
    "    \"law_enf_military_operator\": law_enf_military_operator,\n",
    "    \"crime\": crime,\n",
    "    \"event_record_other\": event_record_other,\n",
    "    \"other_species\": other_species,\n",
    "    \"arts\": arts,\n",
    "    \"sports\": sports,\n",
    "    \"academia_humanities\": academia_humanities,\n",
    "}"
   ]
  },
  {
   "cell_type": "markdown",
   "id": "c04f053a",
   "metadata": {},
   "source": [
    "#### Extracting Category from `info_2`"
   ]
  },
  {
   "cell_type": "code",
   "execution_count": 55,
   "id": "ccb58ae0",
   "metadata": {},
   "outputs": [
    {
     "name": "stdout",
     "output_type": "stream",
     "text": [
      "CPU times: total: 21.2 s\n",
      "Wall time: 21.2 s\n"
     ]
    },
    {
     "data": {
      "text/html": [
       "<div>\n",
       "<style scoped>\n",
       "    .dataframe tbody tr th:only-of-type {\n",
       "        vertical-align: middle;\n",
       "    }\n",
       "\n",
       "    .dataframe tbody tr th {\n",
       "        vertical-align: top;\n",
       "    }\n",
       "\n",
       "    .dataframe thead th {\n",
       "        text-align: right;\n",
       "    }\n",
       "</style>\n",
       "<table border=\"1\" class=\"dataframe\">\n",
       "  <thead>\n",
       "    <tr style=\"text-align: right;\">\n",
       "      <th></th>\n",
       "      <th>day</th>\n",
       "      <th>name</th>\n",
       "      <th>info</th>\n",
       "      <th>link</th>\n",
       "      <th>num_references</th>\n",
       "      <th>year</th>\n",
       "      <th>month</th>\n",
       "      <th>info_parenth</th>\n",
       "      <th>info_1</th>\n",
       "      <th>info_2</th>\n",
       "      <th>info_3</th>\n",
       "      <th>info_4</th>\n",
       "      <th>info_5</th>\n",
       "      <th>info_6</th>\n",
       "      <th>info_7</th>\n",
       "      <th>info_8</th>\n",
       "      <th>info_9</th>\n",
       "      <th>info_10</th>\n",
       "      <th>info_11</th>\n",
       "      <th>age</th>\n",
       "      <th>cause_of_death</th>\n",
       "      <th>place_1</th>\n",
       "      <th>place_2</th>\n",
       "      <th>info_parenth_copy</th>\n",
       "      <th>log_num_references</th>\n",
       "      <th>sciences</th>\n",
       "      <th>social</th>\n",
       "      <th>spiritual</th>\n",
       "      <th>academia_humanities</th>\n",
       "      <th>business_farming</th>\n",
       "      <th>arts</th>\n",
       "      <th>sports</th>\n",
       "      <th>law_enf_military_operator</th>\n",
       "      <th>politics_govt_law</th>\n",
       "      <th>crime</th>\n",
       "      <th>event_record_other</th>\n",
       "      <th>other_species</th>\n",
       "      <th>num_categories</th>\n",
       "    </tr>\n",
       "  </thead>\n",
       "  <tbody>\n",
       "    <tr>\n",
       "      <th>61127</th>\n",
       "      <td>11</td>\n",
       "      <td>James Gair</td>\n",
       "      <td>, 88, American linguist.</td>\n",
       "      <td>https://en.wikipedia.org/wiki/James_Gair</td>\n",
       "      <td>7</td>\n",
       "      <td>2016</td>\n",
       "      <td>December</td>\n",
       "      <td>None</td>\n",
       "      <td>None</td>\n",
       "      <td></td>\n",
       "      <td>None</td>\n",
       "      <td>None</td>\n",
       "      <td>None</td>\n",
       "      <td>None</td>\n",
       "      <td>None</td>\n",
       "      <td>None</td>\n",
       "      <td>None</td>\n",
       "      <td>None</td>\n",
       "      <td>None</td>\n",
       "      <td>88.0</td>\n",
       "      <td>None</td>\n",
       "      <td>United States of America</td>\n",
       "      <td>None</td>\n",
       "      <td>None</td>\n",
       "      <td>2.079442</td>\n",
       "      <td>0</td>\n",
       "      <td>0</td>\n",
       "      <td>0</td>\n",
       "      <td>1</td>\n",
       "      <td>0</td>\n",
       "      <td>0</td>\n",
       "      <td>0</td>\n",
       "      <td>0</td>\n",
       "      <td>0</td>\n",
       "      <td>0</td>\n",
       "      <td>0</td>\n",
       "      <td>0</td>\n",
       "      <td>1</td>\n",
       "    </tr>\n",
       "    <tr>\n",
       "      <th>51591</th>\n",
       "      <td>14</td>\n",
       "      <td>Jerzy Holzer</td>\n",
       "      <td>, 84, Polish historian.</td>\n",
       "      <td>https://en.wikipedia.org/wiki/Jerzy_Holzer</td>\n",
       "      <td>3</td>\n",
       "      <td>2015</td>\n",
       "      <td>January</td>\n",
       "      <td>None</td>\n",
       "      <td>None</td>\n",
       "      <td></td>\n",
       "      <td>None</td>\n",
       "      <td>None</td>\n",
       "      <td>None</td>\n",
       "      <td>None</td>\n",
       "      <td>None</td>\n",
       "      <td>None</td>\n",
       "      <td>None</td>\n",
       "      <td>None</td>\n",
       "      <td>None</td>\n",
       "      <td>84.0</td>\n",
       "      <td>None</td>\n",
       "      <td>Poland</td>\n",
       "      <td>None</td>\n",
       "      <td>None</td>\n",
       "      <td>1.386294</td>\n",
       "      <td>0</td>\n",
       "      <td>0</td>\n",
       "      <td>0</td>\n",
       "      <td>1</td>\n",
       "      <td>0</td>\n",
       "      <td>0</td>\n",
       "      <td>0</td>\n",
       "      <td>0</td>\n",
       "      <td>0</td>\n",
       "      <td>0</td>\n",
       "      <td>0</td>\n",
       "      <td>0</td>\n",
       "      <td>1</td>\n",
       "    </tr>\n",
       "  </tbody>\n",
       "</table>\n",
       "</div>"
      ],
      "text/plain": [
       "      day          name                      info  \\\n",
       "61127  11    James Gair  , 88, American linguist.   \n",
       "51591  14  Jerzy Holzer   , 84, Polish historian.   \n",
       "\n",
       "                                             link  num_references  year  \\\n",
       "61127    https://en.wikipedia.org/wiki/James_Gair               7  2016   \n",
       "51591  https://en.wikipedia.org/wiki/Jerzy_Holzer               3  2015   \n",
       "\n",
       "          month info_parenth info_1 info_2 info_3 info_4 info_5 info_6 info_7  \\\n",
       "61127  December         None   None          None   None   None   None   None   \n",
       "51591   January         None   None          None   None   None   None   None   \n",
       "\n",
       "      info_8 info_9 info_10 info_11   age cause_of_death  \\\n",
       "61127   None   None    None    None  88.0           None   \n",
       "51591   None   None    None    None  84.0           None   \n",
       "\n",
       "                        place_1 place_2 info_parenth_copy  log_num_references  \\\n",
       "61127  United States of America    None              None            2.079442   \n",
       "51591                    Poland    None              None            1.386294   \n",
       "\n",
       "       sciences  social  spiritual  academia_humanities  business_farming  \\\n",
       "61127         0       0          0                    1                 0   \n",
       "51591         0       0          0                    1                 0   \n",
       "\n",
       "       arts  sports  law_enf_military_operator  politics_govt_law  crime  \\\n",
       "61127     0       0                          0                  0      0   \n",
       "51591     0       0                          0                  0      0   \n",
       "\n",
       "       event_record_other  other_species  num_categories  \n",
       "61127                   0              0               1  \n",
       "51591                   0              0               1  "
      ]
     },
     "execution_count": 55,
     "metadata": {},
     "output_type": "execute_result"
    },
    {
     "data": {
      "application/javascript": [
       "\n",
       "            setTimeout(function() {\n",
       "                var nbb_cell_id = 55;\n",
       "                var nbb_unformatted_code = \"%%time\\n\\n# Dictionary version\\nsearch_dict = known_for_dict\\n\\n# Column to check\\ncolumn = 'info_2'\\n\\n# Dataframe\\ndataframe = df[column].notna()\\n\\n# For loop to find role in column and extract it as category\\nfor category, category_lst in search_dict.items():\\n    for role in category_lst:\\n        for index in dataframe.index:\\n            item = df.loc[index, column]\\n            if item:\\n                if role in item:\\n                    df.loc[index, category] = 1\\n                    df.loc[index, column] = item.replace(role, '').strip()\\n\\n# Updating num_categories\\ndf[\\\"num_categories\\\"] = df[known_for_dict.keys()].sum(axis=1)\\n\\n# Checking a sample of rows\\ndf[df['academia_humanities'] ==1].sample(2)\";\n",
       "                var nbb_formatted_code = \"%%time\\n\\n# Dictionary version\\nsearch_dict = known_for_dict\\n\\n# Column to check\\ncolumn = 'info_2'\\n\\n# Dataframe\\ndataframe = df[column].notna()\\n\\n# For loop to find role in column and extract it as category\\nfor category, category_lst in search_dict.items():\\n    for role in category_lst:\\n        for index in dataframe.index:\\n            item = df.loc[index, column]\\n            if item:\\n                if role in item:\\n                    df.loc[index, category] = 1\\n                    df.loc[index, column] = item.replace(role, '').strip()\\n\\n# Updating num_categories\\ndf[\\\"num_categories\\\"] = df[known_for_dict.keys()].sum(axis=1)\\n\\n# Checking a sample of rows\\ndf[df['academia_humanities'] ==1].sample(2)\";\n",
       "                var nbb_cells = Jupyter.notebook.get_cells();\n",
       "                for (var i = 0; i < nbb_cells.length; ++i) {\n",
       "                    if (nbb_cells[i].input_prompt_number == nbb_cell_id) {\n",
       "                        if (nbb_cells[i].get_text() == nbb_unformatted_code) {\n",
       "                             nbb_cells[i].set_text(nbb_formatted_code);\n",
       "                        }\n",
       "                        break;\n",
       "                    }\n",
       "                }\n",
       "            }, 500);\n",
       "            "
      ],
      "text/plain": [
       "<IPython.core.display.Javascript object>"
      ]
     },
     "metadata": {},
     "output_type": "display_data"
    }
   ],
   "source": [
    "%%time\n",
    "\n",
    "# Dictionary version\n",
    "search_dict = known_for_dict\n",
    "\n",
    "# Column to check\n",
    "column = 'info_2'\n",
    "\n",
    "# Dataframe\n",
    "dataframe = df[column].notna()\n",
    "\n",
    "# For loop to find role in column and extract it as category\n",
    "for category, category_lst in search_dict.items():\n",
    "    for role in category_lst:\n",
    "        for index in dataframe.index:\n",
    "            item = df.loc[index, column]\n",
    "            if item:\n",
    "                if role in item:\n",
    "                    df.loc[index, category] = 1\n",
    "                    df.loc[index, column] = item.replace(role, '').strip()\n",
    "\n",
    "# Updating num_categories\n",
    "df[\"num_categories\"] = df[known_for_dict.keys()].sum(axis=1)\n",
    "\n",
    "# Checking a sample of rows\n",
    "df[df['academia_humanities'] ==1].sample(2)"
   ]
  },
  {
   "cell_type": "markdown",
   "id": "07723607",
   "metadata": {},
   "source": [
    "#### Checking the Number of Rows without a First Category"
   ]
  },
  {
   "cell_type": "code",
   "execution_count": 56,
   "id": "cb92b698",
   "metadata": {},
   "outputs": [
    {
     "name": "stdout",
     "output_type": "stream",
     "text": [
      "There are 27147 entries without any known_for category.\n"
     ]
    },
    {
     "data": {
      "application/javascript": [
       "\n",
       "            setTimeout(function() {\n",
       "                var nbb_cell_id = 56;\n",
       "                var nbb_unformatted_code = \"# Checking the number of rows without a first category\\nprint(\\n    f'There are {len(df[df[\\\"num_categories\\\"]==0])} entries without any known_for category.'\\n)\";\n",
       "                var nbb_formatted_code = \"# Checking the number of rows without a first category\\nprint(\\n    f'There are {len(df[df[\\\"num_categories\\\"]==0])} entries without any known_for category.'\\n)\";\n",
       "                var nbb_cells = Jupyter.notebook.get_cells();\n",
       "                for (var i = 0; i < nbb_cells.length; ++i) {\n",
       "                    if (nbb_cells[i].input_prompt_number == nbb_cell_id) {\n",
       "                        if (nbb_cells[i].get_text() == nbb_unformatted_code) {\n",
       "                             nbb_cells[i].set_text(nbb_formatted_code);\n",
       "                        }\n",
       "                        break;\n",
       "                    }\n",
       "                }\n",
       "            }, 500);\n",
       "            "
      ],
      "text/plain": [
       "<IPython.core.display.Javascript object>"
      ]
     },
     "metadata": {},
     "output_type": "display_data"
    }
   ],
   "source": [
    "# Checking the number of rows without a first category\n",
    "print(\n",
    "    f'There are {len(df[df[\"num_categories\"]==0])} entries without any known_for category.'\n",
    ")"
   ]
  },
  {
   "cell_type": "markdown",
   "id": "4f7ac67b",
   "metadata": {},
   "source": [
    "#### Observations:\n",
    "- We will proceed to rebuild `known_for_dict` for the next iteration."
   ]
  },
  {
   "cell_type": "markdown",
   "id": "698267db",
   "metadata": {},
   "source": [
    "#### Finding `known_for` Roles in `info_2`"
   ]
  },
  {
   "cell_type": "code",
   "execution_count": 57,
   "id": "ddf69ee2",
   "metadata": {},
   "outputs": [
    {
     "data": {
      "application/javascript": [
       "\n",
       "            setTimeout(function() {\n",
       "                var nbb_cell_id = 57;\n",
       "                var nbb_unformatted_code = \"# # Obtaining values for column and their counts\\n# roles_list = df[\\\"info_2\\\"].value_counts(ascending=True).index.tolist()\";\n",
       "                var nbb_formatted_code = \"# # Obtaining values for column and their counts\\n# roles_list = df[\\\"info_2\\\"].value_counts(ascending=True).index.tolist()\";\n",
       "                var nbb_cells = Jupyter.notebook.get_cells();\n",
       "                for (var i = 0; i < nbb_cells.length; ++i) {\n",
       "                    if (nbb_cells[i].input_prompt_number == nbb_cell_id) {\n",
       "                        if (nbb_cells[i].get_text() == nbb_unformatted_code) {\n",
       "                             nbb_cells[i].set_text(nbb_formatted_code);\n",
       "                        }\n",
       "                        break;\n",
       "                    }\n",
       "                }\n",
       "            }, 500);\n",
       "            "
      ],
      "text/plain": [
       "<IPython.core.display.Javascript object>"
      ]
     },
     "metadata": {},
     "output_type": "display_data"
    }
   ],
   "source": [
    "# # Obtaining values for column and their counts\n",
    "# roles_list = df[\"info_2\"].value_counts(ascending=True).index.tolist()"
   ]
  },
  {
   "cell_type": "code",
   "execution_count": 58,
   "id": "2bf58999",
   "metadata": {},
   "outputs": [
    {
     "data": {
      "application/javascript": [
       "\n",
       "            setTimeout(function() {\n",
       "                var nbb_cell_id = 58;\n",
       "                var nbb_unformatted_code = \"# # Code to check each value\\n# roles_list.pop()\";\n",
       "                var nbb_formatted_code = \"# # Code to check each value\\n# roles_list.pop()\";\n",
       "                var nbb_cells = Jupyter.notebook.get_cells();\n",
       "                for (var i = 0; i < nbb_cells.length; ++i) {\n",
       "                    if (nbb_cells[i].input_prompt_number == nbb_cell_id) {\n",
       "                        if (nbb_cells[i].get_text() == nbb_unformatted_code) {\n",
       "                             nbb_cells[i].set_text(nbb_formatted_code);\n",
       "                        }\n",
       "                        break;\n",
       "                    }\n",
       "                }\n",
       "            }, 500);\n",
       "            "
      ],
      "text/plain": [
       "<IPython.core.display.Javascript object>"
      ]
     },
     "metadata": {},
     "output_type": "display_data"
    }
   ],
   "source": [
    "# # Code to check each value\n",
    "# roles_list.pop()"
   ]
  },
  {
   "cell_type": "code",
   "execution_count": 59,
   "id": "61c56188",
   "metadata": {},
   "outputs": [
    {
     "data": {
      "application/javascript": [
       "\n",
       "            setTimeout(function() {\n",
       "                var nbb_cell_id = 59;\n",
       "                var nbb_unformatted_code = \"# # Create specific_roles_list for above popped value\\n# specific_roles_list = (\\n#     df.loc[\\n#         [\\n#             index\\n#             for index in df[df[\\\"info_2\\\"].notna()].index\\n#             if \\\"anthropologist\\\" in df.loc[index, \\\"info_2\\\"]\\n#         ],\\n#         \\\"info_2\\\",\\n#     ]\\n#     .value_counts()\\n#     .index.tolist()\\n# )\";\n",
       "                var nbb_formatted_code = \"# # Create specific_roles_list for above popped value\\n# specific_roles_list = (\\n#     df.loc[\\n#         [\\n#             index\\n#             for index in df[df[\\\"info_2\\\"].notna()].index\\n#             if \\\"anthropologist\\\" in df.loc[index, \\\"info_2\\\"]\\n#         ],\\n#         \\\"info_2\\\",\\n#     ]\\n#     .value_counts()\\n#     .index.tolist()\\n# )\";\n",
       "                var nbb_cells = Jupyter.notebook.get_cells();\n",
       "                for (var i = 0; i < nbb_cells.length; ++i) {\n",
       "                    if (nbb_cells[i].input_prompt_number == nbb_cell_id) {\n",
       "                        if (nbb_cells[i].get_text() == nbb_unformatted_code) {\n",
       "                             nbb_cells[i].set_text(nbb_formatted_code);\n",
       "                        }\n",
       "                        break;\n",
       "                    }\n",
       "                }\n",
       "            }, 500);\n",
       "            "
      ],
      "text/plain": [
       "<IPython.core.display.Javascript object>"
      ]
     },
     "metadata": {},
     "output_type": "display_data"
    }
   ],
   "source": [
    "# # Create specific_roles_list for above popped value\n",
    "# specific_roles_list = (\n",
    "#     df.loc[\n",
    "#         [\n",
    "#             index\n",
    "#             for index in df[df[\"info_2\"].notna()].index\n",
    "#             if \"anthropologist\" in df.loc[index, \"info_2\"]\n",
    "#         ],\n",
    "#         \"info_2\",\n",
    "#     ]\n",
    "#     .value_counts()\n",
    "#     .index.tolist()\n",
    "# )"
   ]
  },
  {
   "cell_type": "code",
   "execution_count": 60,
   "id": "a0ce67a8",
   "metadata": {},
   "outputs": [
    {
     "data": {
      "application/javascript": [
       "\n",
       "            setTimeout(function() {\n",
       "                var nbb_cell_id = 60;\n",
       "                var nbb_unformatted_code = \"# # Code to check each specific value\\n# specific_roles_list.pop()\";\n",
       "                var nbb_formatted_code = \"# # Code to check each specific value\\n# specific_roles_list.pop()\";\n",
       "                var nbb_cells = Jupyter.notebook.get_cells();\n",
       "                for (var i = 0; i < nbb_cells.length; ++i) {\n",
       "                    if (nbb_cells[i].input_prompt_number == nbb_cell_id) {\n",
       "                        if (nbb_cells[i].get_text() == nbb_unformatted_code) {\n",
       "                             nbb_cells[i].set_text(nbb_formatted_code);\n",
       "                        }\n",
       "                        break;\n",
       "                    }\n",
       "                }\n",
       "            }, 500);\n",
       "            "
      ],
      "text/plain": [
       "<IPython.core.display.Javascript object>"
      ]
     },
     "metadata": {},
     "output_type": "display_data"
    }
   ],
   "source": [
    "# # Code to check each specific value\n",
    "# specific_roles_list.pop()"
   ]
  },
  {
   "cell_type": "code",
   "execution_count": 61,
   "id": "afc549c1",
   "metadata": {},
   "outputs": [
    {
     "data": {
      "application/javascript": [
       "\n",
       "            setTimeout(function() {\n",
       "                var nbb_cell_id = 61;\n",
       "                var nbb_unformatted_code = \"# # Example code to quick-screen values that may overlap categories\\n# df.loc[[index for index in df.index if \\\"griot\\\" in df.loc[index, \\\"info\\\"]]]\";\n",
       "                var nbb_formatted_code = \"# # Example code to quick-screen values that may overlap categories\\n# df.loc[[index for index in df.index if \\\"griot\\\" in df.loc[index, \\\"info\\\"]]]\";\n",
       "                var nbb_cells = Jupyter.notebook.get_cells();\n",
       "                for (var i = 0; i < nbb_cells.length; ++i) {\n",
       "                    if (nbb_cells[i].input_prompt_number == nbb_cell_id) {\n",
       "                        if (nbb_cells[i].get_text() == nbb_unformatted_code) {\n",
       "                             nbb_cells[i].set_text(nbb_formatted_code);\n",
       "                        }\n",
       "                        break;\n",
       "                    }\n",
       "                }\n",
       "            }, 500);\n",
       "            "
      ],
      "text/plain": [
       "<IPython.core.display.Javascript object>"
      ]
     },
     "metadata": {},
     "output_type": "display_data"
    }
   ],
   "source": [
    "# # Example code to quick-screen values that may overlap categories\n",
    "# df.loc[[index for index in df.index if \"griot\" in df.loc[index, \"info\"]]]"
   ]
  },
  {
   "cell_type": "code",
   "execution_count": 62,
   "id": "7fa65bea",
   "metadata": {},
   "outputs": [
    {
     "data": {
      "application/javascript": [
       "\n",
       "            setTimeout(function() {\n",
       "                var nbb_cell_id = 62;\n",
       "                var nbb_unformatted_code = \"# # Example code to quick-checouk a specific entry\\n# df[df[\\\"info_2\\\"] == \\\"physical anthropologist\\\"]\";\n",
       "                var nbb_formatted_code = \"# # Example code to quick-checouk a specific entry\\n# df[df[\\\"info_2\\\"] == \\\"physical anthropologist\\\"]\";\n",
       "                var nbb_cells = Jupyter.notebook.get_cells();\n",
       "                for (var i = 0; i < nbb_cells.length; ++i) {\n",
       "                    if (nbb_cells[i].input_prompt_number == nbb_cell_id) {\n",
       "                        if (nbb_cells[i].get_text() == nbb_unformatted_code) {\n",
       "                             nbb_cells[i].set_text(nbb_formatted_code);\n",
       "                        }\n",
       "                        break;\n",
       "                    }\n",
       "                }\n",
       "            }, 500);\n",
       "            "
      ],
      "text/plain": [
       "<IPython.core.display.Javascript object>"
      ]
     },
     "metadata": {},
     "output_type": "display_data"
    }
   ],
   "source": [
    "# # Example code to quick-checouk a specific entry\n",
    "# df[df[\"info_2\"] == \"physical anthropologist\"]"
   ]
  },
  {
   "cell_type": "markdown",
   "id": "7a8ec8a5",
   "metadata": {},
   "source": [
    "#### Creating Lists for Each `known_for` Category"
   ]
  },
  {
   "cell_type": "code",
   "execution_count": 63,
   "id": "955ae642",
   "metadata": {},
   "outputs": [
    {
     "data": {
      "application/javascript": [
       "\n",
       "            setTimeout(function() {\n",
       "                var nbb_cell_id = 63;\n",
       "                var nbb_unformatted_code = \"# Creating lists for each category\\npolitics_govt_law = []\\n\\narts = [\\n    \\\"griot\\\",\\n]\\nsports = []\\nsciences = [\\n    \\\"palaeontologist and palaeoanthropologist\\\",\\n    \\\"geologist and paleoanthropologist\\\",\\n    \\\"forensic anthropologist\\\",\\n    \\\"physical anthropologist\\\",\\n    \\\"palaeoanthropologist\\\",  # before academia_humanities\\n    \\\"paleoanthropologist\\\",\\n]\\n\\nbusiness_farming = [\\n    \\\"banker and member of the Rothschild family\\\",\\n    \\\"investment banker and financier\\\",\\n    \\\"beverage executive and banker\\\",\\n    \\\"banker and venture capitalist\\\",\\n    \\\"Arabian billionaire banker\\\",\\n    \\\"investment banker and\\\",\\n    \\\"financier and banker\\\",\\n    \\\"banker and executive\\\",\\n    \\\"banker and chairman\\\",\\n    \\\"merchant banker and\\\",\\n    \\\"and merchant banker\\\",\\n    \\\"billionaire banker\\\",\\n    \\\"investment banker\\\",\\n    \\\"mortgage banker\\\",\\n    \\\"merchant banker\\\",\\n    \\\"banker and\\\",\\n    \\\"and banker\\\",\\n    \\\"banker\\\",\\n]\\nacademia_humanities = [\\n    \\\"anthropologist specializing in Aztec culture\\\",\\n    \\\"social anthropologist ands ethnographer\\\",\\n    \\\"social anthropologist and musicologist\\\",\\n    \\\"anthropologist and cryptozoologist\\\",\\n    \\\"anthropologist and museum director\\\",\\n    \\\"anthropologist and ethnographer\\\",\\n    \\\"ethnologist and anthropologist\\\",\\n    \\\"indigenous Hopi anthropologist\\\",\\n    \\\"Africanist and anthropologist\\\",\\n    \\\"anthropologist and folklorist\\\",\\n    \\\"anthropologist and ethicist\\\",\\n    \\\"anthropologist and scholar\\\",\\n    \\\"social anthropologist and\\\",\\n    \\\"culinary anthropologist\\\",\\n    \\\"cultural anthropologist\\\",\\n    \\\"social anthropologist\\\",\\n    \\\"anthropologist and\\\",\\n    \\\"and anthropologist\\\",\\n    \\\"anthropologist\\\",\\n]\\nlaw_enf_military_operator = []\\nspiritual = []\\nsocial = []\\ncrime = []\\nevent_record_other = []\\nother_species = []\";\n",
       "                var nbb_formatted_code = \"# Creating lists for each category\\npolitics_govt_law = []\\n\\narts = [\\n    \\\"griot\\\",\\n]\\nsports = []\\nsciences = [\\n    \\\"palaeontologist and palaeoanthropologist\\\",\\n    \\\"geologist and paleoanthropologist\\\",\\n    \\\"forensic anthropologist\\\",\\n    \\\"physical anthropologist\\\",\\n    \\\"palaeoanthropologist\\\",  # before academia_humanities\\n    \\\"paleoanthropologist\\\",\\n]\\n\\nbusiness_farming = [\\n    \\\"banker and member of the Rothschild family\\\",\\n    \\\"investment banker and financier\\\",\\n    \\\"beverage executive and banker\\\",\\n    \\\"banker and venture capitalist\\\",\\n    \\\"Arabian billionaire banker\\\",\\n    \\\"investment banker and\\\",\\n    \\\"financier and banker\\\",\\n    \\\"banker and executive\\\",\\n    \\\"banker and chairman\\\",\\n    \\\"merchant banker and\\\",\\n    \\\"and merchant banker\\\",\\n    \\\"billionaire banker\\\",\\n    \\\"investment banker\\\",\\n    \\\"mortgage banker\\\",\\n    \\\"merchant banker\\\",\\n    \\\"banker and\\\",\\n    \\\"and banker\\\",\\n    \\\"banker\\\",\\n]\\nacademia_humanities = [\\n    \\\"anthropologist specializing in Aztec culture\\\",\\n    \\\"social anthropologist ands ethnographer\\\",\\n    \\\"social anthropologist and musicologist\\\",\\n    \\\"anthropologist and cryptozoologist\\\",\\n    \\\"anthropologist and museum director\\\",\\n    \\\"anthropologist and ethnographer\\\",\\n    \\\"ethnologist and anthropologist\\\",\\n    \\\"indigenous Hopi anthropologist\\\",\\n    \\\"Africanist and anthropologist\\\",\\n    \\\"anthropologist and folklorist\\\",\\n    \\\"anthropologist and ethicist\\\",\\n    \\\"anthropologist and scholar\\\",\\n    \\\"social anthropologist and\\\",\\n    \\\"culinary anthropologist\\\",\\n    \\\"cultural anthropologist\\\",\\n    \\\"social anthropologist\\\",\\n    \\\"anthropologist and\\\",\\n    \\\"and anthropologist\\\",\\n    \\\"anthropologist\\\",\\n]\\nlaw_enf_military_operator = []\\nspiritual = []\\nsocial = []\\ncrime = []\\nevent_record_other = []\\nother_species = []\";\n",
       "                var nbb_cells = Jupyter.notebook.get_cells();\n",
       "                for (var i = 0; i < nbb_cells.length; ++i) {\n",
       "                    if (nbb_cells[i].input_prompt_number == nbb_cell_id) {\n",
       "                        if (nbb_cells[i].get_text() == nbb_unformatted_code) {\n",
       "                             nbb_cells[i].set_text(nbb_formatted_code);\n",
       "                        }\n",
       "                        break;\n",
       "                    }\n",
       "                }\n",
       "            }, 500);\n",
       "            "
      ],
      "text/plain": [
       "<IPython.core.display.Javascript object>"
      ]
     },
     "metadata": {},
     "output_type": "display_data"
    }
   ],
   "source": [
    "# Creating lists for each category\n",
    "politics_govt_law = []\n",
    "\n",
    "arts = [\n",
    "    \"griot\",\n",
    "]\n",
    "sports = []\n",
    "sciences = [\n",
    "    \"palaeontologist and palaeoanthropologist\",\n",
    "    \"geologist and paleoanthropologist\",\n",
    "    \"forensic anthropologist\",\n",
    "    \"physical anthropologist\",\n",
    "    \"palaeoanthropologist\",  # before academia_humanities\n",
    "    \"paleoanthropologist\",\n",
    "]\n",
    "\n",
    "business_farming = [\n",
    "    \"banker and member of the Rothschild family\",\n",
    "    \"investment banker and financier\",\n",
    "    \"beverage executive and banker\",\n",
    "    \"banker and venture capitalist\",\n",
    "    \"Arabian billionaire banker\",\n",
    "    \"investment banker and\",\n",
    "    \"financier and banker\",\n",
    "    \"banker and executive\",\n",
    "    \"banker and chairman\",\n",
    "    \"merchant banker and\",\n",
    "    \"and merchant banker\",\n",
    "    \"billionaire banker\",\n",
    "    \"investment banker\",\n",
    "    \"mortgage banker\",\n",
    "    \"merchant banker\",\n",
    "    \"banker and\",\n",
    "    \"and banker\",\n",
    "    \"banker\",\n",
    "]\n",
    "academia_humanities = [\n",
    "    \"anthropologist specializing in Aztec culture\",\n",
    "    \"social anthropologist ands ethnographer\",\n",
    "    \"social anthropologist and musicologist\",\n",
    "    \"anthropologist and cryptozoologist\",\n",
    "    \"anthropologist and museum director\",\n",
    "    \"anthropologist and ethnographer\",\n",
    "    \"ethnologist and anthropologist\",\n",
    "    \"indigenous Hopi anthropologist\",\n",
    "    \"Africanist and anthropologist\",\n",
    "    \"anthropologist and folklorist\",\n",
    "    \"anthropologist and ethicist\",\n",
    "    \"anthropologist and scholar\",\n",
    "    \"social anthropologist and\",\n",
    "    \"culinary anthropologist\",\n",
    "    \"cultural anthropologist\",\n",
    "    \"social anthropologist\",\n",
    "    \"anthropologist and\",\n",
    "    \"and anthropologist\",\n",
    "    \"anthropologist\",\n",
    "]\n",
    "law_enf_military_operator = []\n",
    "spiritual = []\n",
    "social = []\n",
    "crime = []\n",
    "event_record_other = []\n",
    "other_species = []"
   ]
  },
  {
   "cell_type": "markdown",
   "id": "68878067",
   "metadata": {},
   "source": [
    "#### Creating `known_for_dict` Dictionary of Category Keys and Specific Role Lists of Values"
   ]
  },
  {
   "cell_type": "code",
   "execution_count": 64,
   "id": "62291ce7",
   "metadata": {},
   "outputs": [
    {
     "data": {
      "application/javascript": [
       "\n",
       "            setTimeout(function() {\n",
       "                var nbb_cell_id = 64;\n",
       "                var nbb_unformatted_code = \"# Combining separate lists into one dictionary\\nknown_for_dict = {\\n    \\\"social\\\": social,\\n    \\\"spiritual\\\": spiritual,\\n    \\\"academia_humanities\\\": academia_humanities,\\n    \\\"business_farming\\\": business_farming,\\n    \\\"politics_govt_law\\\": politics_govt_law,\\n    \\\"law_enf_military_operator\\\": law_enf_military_operator,\\n    \\\"crime\\\": crime,\\n    \\\"event_record_other\\\": event_record_other,\\n    \\\"other_species\\\": other_species,\\n    \\\"arts\\\": arts,\\n    \\\"sports\\\": sports,\\n    \\\"sciences\\\": sciences,\\n}\";\n",
       "                var nbb_formatted_code = \"# Combining separate lists into one dictionary\\nknown_for_dict = {\\n    \\\"social\\\": social,\\n    \\\"spiritual\\\": spiritual,\\n    \\\"academia_humanities\\\": academia_humanities,\\n    \\\"business_farming\\\": business_farming,\\n    \\\"politics_govt_law\\\": politics_govt_law,\\n    \\\"law_enf_military_operator\\\": law_enf_military_operator,\\n    \\\"crime\\\": crime,\\n    \\\"event_record_other\\\": event_record_other,\\n    \\\"other_species\\\": other_species,\\n    \\\"arts\\\": arts,\\n    \\\"sports\\\": sports,\\n    \\\"sciences\\\": sciences,\\n}\";\n",
       "                var nbb_cells = Jupyter.notebook.get_cells();\n",
       "                for (var i = 0; i < nbb_cells.length; ++i) {\n",
       "                    if (nbb_cells[i].input_prompt_number == nbb_cell_id) {\n",
       "                        if (nbb_cells[i].get_text() == nbb_unformatted_code) {\n",
       "                             nbb_cells[i].set_text(nbb_formatted_code);\n",
       "                        }\n",
       "                        break;\n",
       "                    }\n",
       "                }\n",
       "            }, 500);\n",
       "            "
      ],
      "text/plain": [
       "<IPython.core.display.Javascript object>"
      ]
     },
     "metadata": {},
     "output_type": "display_data"
    }
   ],
   "source": [
    "# Combining separate lists into one dictionary\n",
    "known_for_dict = {\n",
    "    \"social\": social,\n",
    "    \"spiritual\": spiritual,\n",
    "    \"academia_humanities\": academia_humanities,\n",
    "    \"business_farming\": business_farming,\n",
    "    \"politics_govt_law\": politics_govt_law,\n",
    "    \"law_enf_military_operator\": law_enf_military_operator,\n",
    "    \"crime\": crime,\n",
    "    \"event_record_other\": event_record_other,\n",
    "    \"other_species\": other_species,\n",
    "    \"arts\": arts,\n",
    "    \"sports\": sports,\n",
    "    \"sciences\": sciences,\n",
    "}"
   ]
  },
  {
   "cell_type": "markdown",
   "id": "0043d55b",
   "metadata": {},
   "source": [
    "#### Extracting Category from `info_2`"
   ]
  },
  {
   "cell_type": "code",
   "execution_count": 65,
   "id": "4a6940b0",
   "metadata": {},
   "outputs": [
    {
     "name": "stdout",
     "output_type": "stream",
     "text": [
      "CPU times: total: 22.6 s\n",
      "Wall time: 22.6 s\n"
     ]
    },
    {
     "data": {
      "text/html": [
       "<div>\n",
       "<style scoped>\n",
       "    .dataframe tbody tr th:only-of-type {\n",
       "        vertical-align: middle;\n",
       "    }\n",
       "\n",
       "    .dataframe tbody tr th {\n",
       "        vertical-align: top;\n",
       "    }\n",
       "\n",
       "    .dataframe thead th {\n",
       "        text-align: right;\n",
       "    }\n",
       "</style>\n",
       "<table border=\"1\" class=\"dataframe\">\n",
       "  <thead>\n",
       "    <tr style=\"text-align: right;\">\n",
       "      <th></th>\n",
       "      <th>day</th>\n",
       "      <th>name</th>\n",
       "      <th>info</th>\n",
       "      <th>link</th>\n",
       "      <th>num_references</th>\n",
       "      <th>year</th>\n",
       "      <th>month</th>\n",
       "      <th>info_parenth</th>\n",
       "      <th>info_1</th>\n",
       "      <th>info_2</th>\n",
       "      <th>info_3</th>\n",
       "      <th>info_4</th>\n",
       "      <th>info_5</th>\n",
       "      <th>info_6</th>\n",
       "      <th>info_7</th>\n",
       "      <th>info_8</th>\n",
       "      <th>info_9</th>\n",
       "      <th>info_10</th>\n",
       "      <th>info_11</th>\n",
       "      <th>age</th>\n",
       "      <th>cause_of_death</th>\n",
       "      <th>place_1</th>\n",
       "      <th>place_2</th>\n",
       "      <th>info_parenth_copy</th>\n",
       "      <th>log_num_references</th>\n",
       "      <th>sciences</th>\n",
       "      <th>social</th>\n",
       "      <th>spiritual</th>\n",
       "      <th>academia_humanities</th>\n",
       "      <th>business_farming</th>\n",
       "      <th>arts</th>\n",
       "      <th>sports</th>\n",
       "      <th>law_enf_military_operator</th>\n",
       "      <th>politics_govt_law</th>\n",
       "      <th>crime</th>\n",
       "      <th>event_record_other</th>\n",
       "      <th>other_species</th>\n",
       "      <th>num_categories</th>\n",
       "    </tr>\n",
       "  </thead>\n",
       "  <tbody>\n",
       "    <tr>\n",
       "      <th>58625</th>\n",
       "      <td>7</td>\n",
       "      <td>Thomas Perkins</td>\n",
       "      <td>, 84, American businessman .</td>\n",
       "      <td>https://en.wikipedia.org/wiki/Thomas_Perkins_(businessman)</td>\n",
       "      <td>34</td>\n",
       "      <td>2016</td>\n",
       "      <td>June</td>\n",
       "      <td>Perkins Caufield &amp; Byers</td>\n",
       "      <td>None</td>\n",
       "      <td></td>\n",
       "      <td>None</td>\n",
       "      <td>None</td>\n",
       "      <td>None</td>\n",
       "      <td>None</td>\n",
       "      <td>None</td>\n",
       "      <td>None</td>\n",
       "      <td>None</td>\n",
       "      <td>None</td>\n",
       "      <td>None</td>\n",
       "      <td>84.0</td>\n",
       "      <td>None</td>\n",
       "      <td>United States of America</td>\n",
       "      <td>United States of America</td>\n",
       "      <td>Perkins Caufield &amp; Byers</td>\n",
       "      <td>3.555348</td>\n",
       "      <td>0</td>\n",
       "      <td>0</td>\n",
       "      <td>0</td>\n",
       "      <td>0</td>\n",
       "      <td>1</td>\n",
       "      <td>0</td>\n",
       "      <td>0</td>\n",
       "      <td>0</td>\n",
       "      <td>0</td>\n",
       "      <td>0</td>\n",
       "      <td>0</td>\n",
       "      <td>0</td>\n",
       "      <td>1</td>\n",
       "    </tr>\n",
       "    <tr>\n",
       "      <th>88323</th>\n",
       "      <td>9</td>\n",
       "      <td>Sir Richard Pease, 3rd Baronet</td>\n",
       "      <td>, 98, British banker.</td>\n",
       "      <td>https://en.wikipedia.org/wiki/Sir_Richard_Pease,_3rd_Baronet</td>\n",
       "      <td>6</td>\n",
       "      <td>2021</td>\n",
       "      <td>March</td>\n",
       "      <td>None</td>\n",
       "      <td>None</td>\n",
       "      <td></td>\n",
       "      <td>None</td>\n",
       "      <td>None</td>\n",
       "      <td>None</td>\n",
       "      <td>None</td>\n",
       "      <td>None</td>\n",
       "      <td>None</td>\n",
       "      <td>None</td>\n",
       "      <td>None</td>\n",
       "      <td>None</td>\n",
       "      <td>98.0</td>\n",
       "      <td>None</td>\n",
       "      <td>United Kingdom of Great Britain and Northern Ireland</td>\n",
       "      <td>None</td>\n",
       "      <td>None</td>\n",
       "      <td>1.945910</td>\n",
       "      <td>0</td>\n",
       "      <td>0</td>\n",
       "      <td>0</td>\n",
       "      <td>0</td>\n",
       "      <td>1</td>\n",
       "      <td>0</td>\n",
       "      <td>0</td>\n",
       "      <td>0</td>\n",
       "      <td>0</td>\n",
       "      <td>0</td>\n",
       "      <td>0</td>\n",
       "      <td>0</td>\n",
       "      <td>1</td>\n",
       "    </tr>\n",
       "  </tbody>\n",
       "</table>\n",
       "</div>"
      ],
      "text/plain": [
       "      day                            name                          info  \\\n",
       "58625   7                  Thomas Perkins  , 84, American businessman .   \n",
       "88323   9  Sir Richard Pease, 3rd Baronet         , 98, British banker.   \n",
       "\n",
       "                                                               link  \\\n",
       "58625    https://en.wikipedia.org/wiki/Thomas_Perkins_(businessman)   \n",
       "88323  https://en.wikipedia.org/wiki/Sir_Richard_Pease,_3rd_Baronet   \n",
       "\n",
       "       num_references  year  month              info_parenth info_1 info_2  \\\n",
       "58625              34  2016   June  Perkins Caufield & Byers   None          \n",
       "88323               6  2021  March                      None   None          \n",
       "\n",
       "      info_3 info_4 info_5 info_6 info_7 info_8 info_9 info_10 info_11   age  \\\n",
       "58625   None   None   None   None   None   None   None    None    None  84.0   \n",
       "88323   None   None   None   None   None   None   None    None    None  98.0   \n",
       "\n",
       "      cause_of_death                                               place_1  \\\n",
       "58625           None                              United States of America   \n",
       "88323           None  United Kingdom of Great Britain and Northern Ireland   \n",
       "\n",
       "                        place_2         info_parenth_copy  log_num_references  \\\n",
       "58625  United States of America  Perkins Caufield & Byers            3.555348   \n",
       "88323                      None                      None            1.945910   \n",
       "\n",
       "       sciences  social  spiritual  academia_humanities  business_farming  \\\n",
       "58625         0       0          0                    0                 1   \n",
       "88323         0       0          0                    0                 1   \n",
       "\n",
       "       arts  sports  law_enf_military_operator  politics_govt_law  crime  \\\n",
       "58625     0       0                          0                  0      0   \n",
       "88323     0       0                          0                  0      0   \n",
       "\n",
       "       event_record_other  other_species  num_categories  \n",
       "58625                   0              0               1  \n",
       "88323                   0              0               1  "
      ]
     },
     "execution_count": 65,
     "metadata": {},
     "output_type": "execute_result"
    },
    {
     "data": {
      "application/javascript": [
       "\n",
       "            setTimeout(function() {\n",
       "                var nbb_cell_id = 65;\n",
       "                var nbb_unformatted_code = \"%%time\\n\\n# Dictionary version\\nsearch_dict = known_for_dict\\n\\n# Column to check\\ncolumn = 'info_2'\\n\\n# Dataframe\\ndataframe = df[column].notna()\\n\\n# For loop to find role in column and extract it as category\\nfor category, category_lst in search_dict.items():\\n    for role in category_lst:\\n        for index in dataframe.index:\\n            item = df.loc[index, column]\\n            if item:\\n                if role in item:\\n                    df.loc[index, category] = 1\\n                    df.loc[index, column] = item.replace(role, '').strip()\\n\\n# Updating num_categories\\ndf[\\\"num_categories\\\"] = df[known_for_dict.keys()].sum(axis=1)\\n\\n# Checking a sample of rows\\ndf[df['business_farming'] ==1].sample(2)\";\n",
       "                var nbb_formatted_code = \"%%time\\n\\n# Dictionary version\\nsearch_dict = known_for_dict\\n\\n# Column to check\\ncolumn = 'info_2'\\n\\n# Dataframe\\ndataframe = df[column].notna()\\n\\n# For loop to find role in column and extract it as category\\nfor category, category_lst in search_dict.items():\\n    for role in category_lst:\\n        for index in dataframe.index:\\n            item = df.loc[index, column]\\n            if item:\\n                if role in item:\\n                    df.loc[index, category] = 1\\n                    df.loc[index, column] = item.replace(role, '').strip()\\n\\n# Updating num_categories\\ndf[\\\"num_categories\\\"] = df[known_for_dict.keys()].sum(axis=1)\\n\\n# Checking a sample of rows\\ndf[df['business_farming'] ==1].sample(2)\";\n",
       "                var nbb_cells = Jupyter.notebook.get_cells();\n",
       "                for (var i = 0; i < nbb_cells.length; ++i) {\n",
       "                    if (nbb_cells[i].input_prompt_number == nbb_cell_id) {\n",
       "                        if (nbb_cells[i].get_text() == nbb_unformatted_code) {\n",
       "                             nbb_cells[i].set_text(nbb_formatted_code);\n",
       "                        }\n",
       "                        break;\n",
       "                    }\n",
       "                }\n",
       "            }, 500);\n",
       "            "
      ],
      "text/plain": [
       "<IPython.core.display.Javascript object>"
      ]
     },
     "metadata": {},
     "output_type": "display_data"
    }
   ],
   "source": [
    "%%time\n",
    "\n",
    "# Dictionary version\n",
    "search_dict = known_for_dict\n",
    "\n",
    "# Column to check\n",
    "column = 'info_2'\n",
    "\n",
    "# Dataframe\n",
    "dataframe = df[column].notna()\n",
    "\n",
    "# For loop to find role in column and extract it as category\n",
    "for category, category_lst in search_dict.items():\n",
    "    for role in category_lst:\n",
    "        for index in dataframe.index:\n",
    "            item = df.loc[index, column]\n",
    "            if item:\n",
    "                if role in item:\n",
    "                    df.loc[index, category] = 1\n",
    "                    df.loc[index, column] = item.replace(role, '').strip()\n",
    "\n",
    "# Updating num_categories\n",
    "df[\"num_categories\"] = df[known_for_dict.keys()].sum(axis=1)\n",
    "\n",
    "# Checking a sample of rows\n",
    "df[df['business_farming'] ==1].sample(2)"
   ]
  },
  {
   "cell_type": "markdown",
   "id": "b0987441",
   "metadata": {},
   "source": [
    "#### Checking the Number of Rows without a First Category"
   ]
  },
  {
   "cell_type": "code",
   "execution_count": 66,
   "id": "68ba0e13",
   "metadata": {},
   "outputs": [
    {
     "name": "stdout",
     "output_type": "stream",
     "text": [
      "There are 26828 entries without any known_for category.\n"
     ]
    },
    {
     "data": {
      "application/javascript": [
       "\n",
       "            setTimeout(function() {\n",
       "                var nbb_cell_id = 66;\n",
       "                var nbb_unformatted_code = \"# Checking the number of rows without a first category\\nprint(\\n    f'There are {len(df[df[\\\"num_categories\\\"]==0])} entries without any known_for category.'\\n)\";\n",
       "                var nbb_formatted_code = \"# Checking the number of rows without a first category\\nprint(\\n    f'There are {len(df[df[\\\"num_categories\\\"]==0])} entries without any known_for category.'\\n)\";\n",
       "                var nbb_cells = Jupyter.notebook.get_cells();\n",
       "                for (var i = 0; i < nbb_cells.length; ++i) {\n",
       "                    if (nbb_cells[i].input_prompt_number == nbb_cell_id) {\n",
       "                        if (nbb_cells[i].get_text() == nbb_unformatted_code) {\n",
       "                             nbb_cells[i].set_text(nbb_formatted_code);\n",
       "                        }\n",
       "                        break;\n",
       "                    }\n",
       "                }\n",
       "            }, 500);\n",
       "            "
      ],
      "text/plain": [
       "<IPython.core.display.Javascript object>"
      ]
     },
     "metadata": {},
     "output_type": "display_data"
    }
   ],
   "source": [
    "# Checking the number of rows without a first category\n",
    "print(\n",
    "    f'There are {len(df[df[\"num_categories\"]==0])} entries without any known_for category.'\n",
    ")"
   ]
  },
  {
   "cell_type": "markdown",
   "id": "208c8076",
   "metadata": {},
   "source": [
    "#### Observations:\n",
    "- We will proceed to rebuild `known_for_dict` for the next iteration."
   ]
  },
  {
   "cell_type": "markdown",
   "id": "7bc5b8d8",
   "metadata": {},
   "source": [
    "#### Finding `known_for` Roles in `info_2`"
   ]
  },
  {
   "cell_type": "code",
   "execution_count": 67,
   "id": "27f1bcb8",
   "metadata": {},
   "outputs": [
    {
     "data": {
      "application/javascript": [
       "\n",
       "            setTimeout(function() {\n",
       "                var nbb_cell_id = 67;\n",
       "                var nbb_unformatted_code = \"# # Obtaining values for column and their counts\\n# roles_list = df[\\\"info_2\\\"].value_counts(ascending=True).index.tolist()\";\n",
       "                var nbb_formatted_code = \"# # Obtaining values for column and their counts\\n# roles_list = df[\\\"info_2\\\"].value_counts(ascending=True).index.tolist()\";\n",
       "                var nbb_cells = Jupyter.notebook.get_cells();\n",
       "                for (var i = 0; i < nbb_cells.length; ++i) {\n",
       "                    if (nbb_cells[i].input_prompt_number == nbb_cell_id) {\n",
       "                        if (nbb_cells[i].get_text() == nbb_unformatted_code) {\n",
       "                             nbb_cells[i].set_text(nbb_formatted_code);\n",
       "                        }\n",
       "                        break;\n",
       "                    }\n",
       "                }\n",
       "            }, 500);\n",
       "            "
      ],
      "text/plain": [
       "<IPython.core.display.Javascript object>"
      ]
     },
     "metadata": {},
     "output_type": "display_data"
    }
   ],
   "source": [
    "# # Obtaining values for column and their counts\n",
    "# roles_list = df[\"info_2\"].value_counts(ascending=True).index.tolist()"
   ]
  },
  {
   "cell_type": "code",
   "execution_count": 68,
   "id": "85104d6d",
   "metadata": {},
   "outputs": [
    {
     "data": {
      "application/javascript": [
       "\n",
       "            setTimeout(function() {\n",
       "                var nbb_cell_id = 68;\n",
       "                var nbb_unformatted_code = \"# # Code to check each value\\n# roles_list.pop()\";\n",
       "                var nbb_formatted_code = \"# # Code to check each value\\n# roles_list.pop()\";\n",
       "                var nbb_cells = Jupyter.notebook.get_cells();\n",
       "                for (var i = 0; i < nbb_cells.length; ++i) {\n",
       "                    if (nbb_cells[i].input_prompt_number == nbb_cell_id) {\n",
       "                        if (nbb_cells[i].get_text() == nbb_unformatted_code) {\n",
       "                             nbb_cells[i].set_text(nbb_formatted_code);\n",
       "                        }\n",
       "                        break;\n",
       "                    }\n",
       "                }\n",
       "            }, 500);\n",
       "            "
      ],
      "text/plain": [
       "<IPython.core.display.Javascript object>"
      ]
     },
     "metadata": {},
     "output_type": "display_data"
    }
   ],
   "source": [
    "# # Code to check each value\n",
    "# roles_list.pop()"
   ]
  },
  {
   "cell_type": "code",
   "execution_count": 69,
   "id": "e2e2b98d",
   "metadata": {},
   "outputs": [
    {
     "data": {
      "application/javascript": [
       "\n",
       "            setTimeout(function() {\n",
       "                var nbb_cell_id = 69;\n",
       "                var nbb_unformatted_code = \"# # Create specific_roles_list for above popped value\\n# specific_roles_list = (\\n#     df.loc[\\n#         [\\n#             index\\n#             for index in df[df[\\\"info_2\\\"].notna()].index\\n#             if \\\"racing cyclist\\\" in df.loc[index, \\\"info_2\\\"]\\n#         ],\\n#         \\\"info_2\\\",\\n#     ]\\n#     .value_counts()\\n#     .index.tolist()\\n# )\";\n",
       "                var nbb_formatted_code = \"# # Create specific_roles_list for above popped value\\n# specific_roles_list = (\\n#     df.loc[\\n#         [\\n#             index\\n#             for index in df[df[\\\"info_2\\\"].notna()].index\\n#             if \\\"racing cyclist\\\" in df.loc[index, \\\"info_2\\\"]\\n#         ],\\n#         \\\"info_2\\\",\\n#     ]\\n#     .value_counts()\\n#     .index.tolist()\\n# )\";\n",
       "                var nbb_cells = Jupyter.notebook.get_cells();\n",
       "                for (var i = 0; i < nbb_cells.length; ++i) {\n",
       "                    if (nbb_cells[i].input_prompt_number == nbb_cell_id) {\n",
       "                        if (nbb_cells[i].get_text() == nbb_unformatted_code) {\n",
       "                             nbb_cells[i].set_text(nbb_formatted_code);\n",
       "                        }\n",
       "                        break;\n",
       "                    }\n",
       "                }\n",
       "            }, 500);\n",
       "            "
      ],
      "text/plain": [
       "<IPython.core.display.Javascript object>"
      ]
     },
     "metadata": {},
     "output_type": "display_data"
    }
   ],
   "source": [
    "# # Create specific_roles_list for above popped value\n",
    "# specific_roles_list = (\n",
    "#     df.loc[\n",
    "#         [\n",
    "#             index\n",
    "#             for index in df[df[\"info_2\"].notna()].index\n",
    "#             if \"racing cyclist\" in df.loc[index, \"info_2\"]\n",
    "#         ],\n",
    "#         \"info_2\",\n",
    "#     ]\n",
    "#     .value_counts()\n",
    "#     .index.tolist()\n",
    "# )"
   ]
  },
  {
   "cell_type": "code",
   "execution_count": 70,
   "id": "4044a95b",
   "metadata": {},
   "outputs": [
    {
     "data": {
      "application/javascript": [
       "\n",
       "            setTimeout(function() {\n",
       "                var nbb_cell_id = 70;\n",
       "                var nbb_unformatted_code = \"# # Code to check each specific value\\n# specific_roles_list.pop()\";\n",
       "                var nbb_formatted_code = \"# # Code to check each specific value\\n# specific_roles_list.pop()\";\n",
       "                var nbb_cells = Jupyter.notebook.get_cells();\n",
       "                for (var i = 0; i < nbb_cells.length; ++i) {\n",
       "                    if (nbb_cells[i].input_prompt_number == nbb_cell_id) {\n",
       "                        if (nbb_cells[i].get_text() == nbb_unformatted_code) {\n",
       "                             nbb_cells[i].set_text(nbb_formatted_code);\n",
       "                        }\n",
       "                        break;\n",
       "                    }\n",
       "                }\n",
       "            }, 500);\n",
       "            "
      ],
      "text/plain": [
       "<IPython.core.display.Javascript object>"
      ]
     },
     "metadata": {},
     "output_type": "display_data"
    }
   ],
   "source": [
    "# # Code to check each specific value\n",
    "# specific_roles_list.pop()"
   ]
  },
  {
   "cell_type": "code",
   "execution_count": 71,
   "id": "9ea5141a",
   "metadata": {},
   "outputs": [
    {
     "data": {
      "application/javascript": [
       "\n",
       "            setTimeout(function() {\n",
       "                var nbb_cell_id = 71;\n",
       "                var nbb_unformatted_code = \"# # Example code to quick-check a specific entry\\n# df[df[\\\"info_2\\\"] == \\\"racing cyclist and manager\\\"]\";\n",
       "                var nbb_formatted_code = \"# # Example code to quick-check a specific entry\\n# df[df[\\\"info_2\\\"] == \\\"racing cyclist and manager\\\"]\";\n",
       "                var nbb_cells = Jupyter.notebook.get_cells();\n",
       "                for (var i = 0; i < nbb_cells.length; ++i) {\n",
       "                    if (nbb_cells[i].input_prompt_number == nbb_cell_id) {\n",
       "                        if (nbb_cells[i].get_text() == nbb_unformatted_code) {\n",
       "                             nbb_cells[i].set_text(nbb_formatted_code);\n",
       "                        }\n",
       "                        break;\n",
       "                    }\n",
       "                }\n",
       "            }, 500);\n",
       "            "
      ],
      "text/plain": [
       "<IPython.core.display.Javascript object>"
      ]
     },
     "metadata": {},
     "output_type": "display_data"
    }
   ],
   "source": [
    "# # Example code to quick-check a specific entry\n",
    "# df[df[\"info_2\"] == \"racing cyclist and manager\"]"
   ]
  },
  {
   "cell_type": "markdown",
   "id": "654e1be9",
   "metadata": {},
   "source": [
    "#### Creating Lists for Each `known_for` Category"
   ]
  },
  {
   "cell_type": "code",
   "execution_count": 72,
   "id": "906c7d18",
   "metadata": {},
   "outputs": [
    {
     "data": {
      "application/javascript": [
       "\n",
       "            setTimeout(function() {\n",
       "                var nbb_cell_id = 72;\n",
       "                var nbb_unformatted_code = \"# Creating lists for each category\\npolitics_govt_law = []\\n\\narts = []\\nsports = [\\n    \\\"track and road racing cyclist\\\",\\n    \\\"triathlete and racing cyclist\\\",\\n    \\\"Olympic road racing cyclist\\\",\\n    \\\"professional racing cyclist\\\",\\n    \\\"racing cyclist and manager\\\",\\n    \\\"Paralympic racing cyclist\\\",\\n    \\\"racing cyclist and sports\\\",\\n    \\\"Olympic racing cyclist\\\",\\n    \\\"road racing cyclist\\\",\\n    \\\"racing cyclist and\\\",\\n    \\\"and racing cyclist\\\",\\n    \\\"racing cyclist\\\",\\n]\\nsciences = []\\n\\nbusiness_farming = []\\nacademia_humanities = []\\nlaw_enf_military_operator = []\\nspiritual = []\\nsocial = []\\ncrime = []\\nevent_record_other = []\\nother_species = []\";\n",
       "                var nbb_formatted_code = \"# Creating lists for each category\\npolitics_govt_law = []\\n\\narts = []\\nsports = [\\n    \\\"track and road racing cyclist\\\",\\n    \\\"triathlete and racing cyclist\\\",\\n    \\\"Olympic road racing cyclist\\\",\\n    \\\"professional racing cyclist\\\",\\n    \\\"racing cyclist and manager\\\",\\n    \\\"Paralympic racing cyclist\\\",\\n    \\\"racing cyclist and sports\\\",\\n    \\\"Olympic racing cyclist\\\",\\n    \\\"road racing cyclist\\\",\\n    \\\"racing cyclist and\\\",\\n    \\\"and racing cyclist\\\",\\n    \\\"racing cyclist\\\",\\n]\\nsciences = []\\n\\nbusiness_farming = []\\nacademia_humanities = []\\nlaw_enf_military_operator = []\\nspiritual = []\\nsocial = []\\ncrime = []\\nevent_record_other = []\\nother_species = []\";\n",
       "                var nbb_cells = Jupyter.notebook.get_cells();\n",
       "                for (var i = 0; i < nbb_cells.length; ++i) {\n",
       "                    if (nbb_cells[i].input_prompt_number == nbb_cell_id) {\n",
       "                        if (nbb_cells[i].get_text() == nbb_unformatted_code) {\n",
       "                             nbb_cells[i].set_text(nbb_formatted_code);\n",
       "                        }\n",
       "                        break;\n",
       "                    }\n",
       "                }\n",
       "            }, 500);\n",
       "            "
      ],
      "text/plain": [
       "<IPython.core.display.Javascript object>"
      ]
     },
     "metadata": {},
     "output_type": "display_data"
    }
   ],
   "source": [
    "# Creating lists for each category\n",
    "politics_govt_law = []\n",
    "\n",
    "arts = []\n",
    "sports = [\n",
    "    \"track and road racing cyclist\",\n",
    "    \"triathlete and racing cyclist\",\n",
    "    \"Olympic road racing cyclist\",\n",
    "    \"professional racing cyclist\",\n",
    "    \"racing cyclist and manager\",\n",
    "    \"Paralympic racing cyclist\",\n",
    "    \"racing cyclist and sports\",\n",
    "    \"Olympic racing cyclist\",\n",
    "    \"road racing cyclist\",\n",
    "    \"racing cyclist and\",\n",
    "    \"and racing cyclist\",\n",
    "    \"racing cyclist\",\n",
    "]\n",
    "sciences = []\n",
    "\n",
    "business_farming = []\n",
    "academia_humanities = []\n",
    "law_enf_military_operator = []\n",
    "spiritual = []\n",
    "social = []\n",
    "crime = []\n",
    "event_record_other = []\n",
    "other_species = []"
   ]
  },
  {
   "cell_type": "markdown",
   "id": "e44ab979",
   "metadata": {},
   "source": [
    "#### Creating `known_for_dict` Dictionary of Category Keys and Specific Role Lists of Values"
   ]
  },
  {
   "cell_type": "code",
   "execution_count": 73,
   "id": "eab1f973",
   "metadata": {},
   "outputs": [
    {
     "data": {
      "application/javascript": [
       "\n",
       "            setTimeout(function() {\n",
       "                var nbb_cell_id = 73;\n",
       "                var nbb_unformatted_code = \"# Combining separate lists into one dictionary\\nknown_for_dict = {\\n    \\\"social\\\": social,\\n    \\\"spiritual\\\": spiritual,\\n    \\\"academia_humanities\\\": academia_humanities,\\n    \\\"business_farming\\\": business_farming,\\n    \\\"sciences\\\": sciences,\\n    \\\"politics_govt_law\\\": politics_govt_law,\\n    \\\"law_enf_military_operator\\\": law_enf_military_operator,\\n    \\\"crime\\\": crime,\\n    \\\"event_record_other\\\": event_record_other,\\n    \\\"other_species\\\": other_species,\\n    \\\"arts\\\": arts,\\n    \\\"sports\\\": sports,\\n}\";\n",
       "                var nbb_formatted_code = \"# Combining separate lists into one dictionary\\nknown_for_dict = {\\n    \\\"social\\\": social,\\n    \\\"spiritual\\\": spiritual,\\n    \\\"academia_humanities\\\": academia_humanities,\\n    \\\"business_farming\\\": business_farming,\\n    \\\"sciences\\\": sciences,\\n    \\\"politics_govt_law\\\": politics_govt_law,\\n    \\\"law_enf_military_operator\\\": law_enf_military_operator,\\n    \\\"crime\\\": crime,\\n    \\\"event_record_other\\\": event_record_other,\\n    \\\"other_species\\\": other_species,\\n    \\\"arts\\\": arts,\\n    \\\"sports\\\": sports,\\n}\";\n",
       "                var nbb_cells = Jupyter.notebook.get_cells();\n",
       "                for (var i = 0; i < nbb_cells.length; ++i) {\n",
       "                    if (nbb_cells[i].input_prompt_number == nbb_cell_id) {\n",
       "                        if (nbb_cells[i].get_text() == nbb_unformatted_code) {\n",
       "                             nbb_cells[i].set_text(nbb_formatted_code);\n",
       "                        }\n",
       "                        break;\n",
       "                    }\n",
       "                }\n",
       "            }, 500);\n",
       "            "
      ],
      "text/plain": [
       "<IPython.core.display.Javascript object>"
      ]
     },
     "metadata": {},
     "output_type": "display_data"
    }
   ],
   "source": [
    "# Combining separate lists into one dictionary\n",
    "known_for_dict = {\n",
    "    \"social\": social,\n",
    "    \"spiritual\": spiritual,\n",
    "    \"academia_humanities\": academia_humanities,\n",
    "    \"business_farming\": business_farming,\n",
    "    \"sciences\": sciences,\n",
    "    \"politics_govt_law\": politics_govt_law,\n",
    "    \"law_enf_military_operator\": law_enf_military_operator,\n",
    "    \"crime\": crime,\n",
    "    \"event_record_other\": event_record_other,\n",
    "    \"other_species\": other_species,\n",
    "    \"arts\": arts,\n",
    "    \"sports\": sports,\n",
    "}"
   ]
  },
  {
   "cell_type": "markdown",
   "id": "ee14df95",
   "metadata": {},
   "source": [
    "#### Extracting Category from `info_2`"
   ]
  },
  {
   "cell_type": "code",
   "execution_count": 74,
   "id": "9bf10c4e",
   "metadata": {},
   "outputs": [
    {
     "name": "stdout",
     "output_type": "stream",
     "text": [
      "CPU times: total: 6.64 s\n",
      "Wall time: 6.63 s\n"
     ]
    },
    {
     "data": {
      "text/html": [
       "<div>\n",
       "<style scoped>\n",
       "    .dataframe tbody tr th:only-of-type {\n",
       "        vertical-align: middle;\n",
       "    }\n",
       "\n",
       "    .dataframe tbody tr th {\n",
       "        vertical-align: top;\n",
       "    }\n",
       "\n",
       "    .dataframe thead th {\n",
       "        text-align: right;\n",
       "    }\n",
       "</style>\n",
       "<table border=\"1\" class=\"dataframe\">\n",
       "  <thead>\n",
       "    <tr style=\"text-align: right;\">\n",
       "      <th></th>\n",
       "      <th>day</th>\n",
       "      <th>name</th>\n",
       "      <th>info</th>\n",
       "      <th>link</th>\n",
       "      <th>num_references</th>\n",
       "      <th>year</th>\n",
       "      <th>month</th>\n",
       "      <th>info_parenth</th>\n",
       "      <th>info_1</th>\n",
       "      <th>info_2</th>\n",
       "      <th>info_3</th>\n",
       "      <th>info_4</th>\n",
       "      <th>info_5</th>\n",
       "      <th>info_6</th>\n",
       "      <th>info_7</th>\n",
       "      <th>info_8</th>\n",
       "      <th>info_9</th>\n",
       "      <th>info_10</th>\n",
       "      <th>info_11</th>\n",
       "      <th>age</th>\n",
       "      <th>cause_of_death</th>\n",
       "      <th>place_1</th>\n",
       "      <th>place_2</th>\n",
       "      <th>info_parenth_copy</th>\n",
       "      <th>log_num_references</th>\n",
       "      <th>sciences</th>\n",
       "      <th>social</th>\n",
       "      <th>spiritual</th>\n",
       "      <th>academia_humanities</th>\n",
       "      <th>business_farming</th>\n",
       "      <th>arts</th>\n",
       "      <th>sports</th>\n",
       "      <th>law_enf_military_operator</th>\n",
       "      <th>politics_govt_law</th>\n",
       "      <th>crime</th>\n",
       "      <th>event_record_other</th>\n",
       "      <th>other_species</th>\n",
       "      <th>num_categories</th>\n",
       "    </tr>\n",
       "  </thead>\n",
       "  <tbody>\n",
       "    <tr>\n",
       "      <th>40575</th>\n",
       "      <td>8</td>\n",
       "      <td>Bobby Gilfillan</td>\n",
       "      <td>, 74, Scottish footballer , prostate cancer.</td>\n",
       "      <td>https://en.wikipedia.org/wiki/Bobby_Gilfillan_(footballer_born_1938)</td>\n",
       "      <td>3</td>\n",
       "      <td>2012</td>\n",
       "      <td>November</td>\n",
       "      <td>Doncaster Rovers</td>\n",
       "      <td>None</td>\n",
       "      <td></td>\n",
       "      <td>prostate cancer</td>\n",
       "      <td>None</td>\n",
       "      <td>None</td>\n",
       "      <td>None</td>\n",
       "      <td>None</td>\n",
       "      <td>None</td>\n",
       "      <td>None</td>\n",
       "      <td>None</td>\n",
       "      <td>None</td>\n",
       "      <td>74.0</td>\n",
       "      <td>None</td>\n",
       "      <td>Scotland</td>\n",
       "      <td>None</td>\n",
       "      <td>Doncaster Rovers</td>\n",
       "      <td>1.386294</td>\n",
       "      <td>0</td>\n",
       "      <td>0</td>\n",
       "      <td>0</td>\n",
       "      <td>0</td>\n",
       "      <td>0</td>\n",
       "      <td>0</td>\n",
       "      <td>1</td>\n",
       "      <td>0</td>\n",
       "      <td>0</td>\n",
       "      <td>0</td>\n",
       "      <td>0</td>\n",
       "      <td>0</td>\n",
       "      <td>1</td>\n",
       "    </tr>\n",
       "    <tr>\n",
       "      <th>35056</th>\n",
       "      <td>30</td>\n",
       "      <td>Preston Carpenter</td>\n",
       "      <td>, 77, American football player .</td>\n",
       "      <td>https://en.wikipedia.org/wiki/Preston_Carpenter</td>\n",
       "      <td>3</td>\n",
       "      <td>2011</td>\n",
       "      <td>June</td>\n",
       "      <td>Cleveland Browns, Pittsburgh Steelers, Washington Redskins</td>\n",
       "      <td>None</td>\n",
       "      <td></td>\n",
       "      <td>None</td>\n",
       "      <td>None</td>\n",
       "      <td>None</td>\n",
       "      <td>None</td>\n",
       "      <td>None</td>\n",
       "      <td>None</td>\n",
       "      <td>None</td>\n",
       "      <td>None</td>\n",
       "      <td>None</td>\n",
       "      <td>77.0</td>\n",
       "      <td>None</td>\n",
       "      <td>United States of America</td>\n",
       "      <td>None</td>\n",
       "      <td>Cleveland Browns, Pittsburgh Steelers, Washington Redskins</td>\n",
       "      <td>1.386294</td>\n",
       "      <td>0</td>\n",
       "      <td>0</td>\n",
       "      <td>0</td>\n",
       "      <td>0</td>\n",
       "      <td>0</td>\n",
       "      <td>0</td>\n",
       "      <td>1</td>\n",
       "      <td>0</td>\n",
       "      <td>0</td>\n",
       "      <td>0</td>\n",
       "      <td>0</td>\n",
       "      <td>0</td>\n",
       "      <td>1</td>\n",
       "    </tr>\n",
       "  </tbody>\n",
       "</table>\n",
       "</div>"
      ],
      "text/plain": [
       "      day               name                                          info  \\\n",
       "40575   8    Bobby Gilfillan  , 74, Scottish footballer , prostate cancer.   \n",
       "35056  30  Preston Carpenter              , 77, American football player .   \n",
       "\n",
       "                                                                       link  \\\n",
       "40575  https://en.wikipedia.org/wiki/Bobby_Gilfillan_(footballer_born_1938)   \n",
       "35056                       https://en.wikipedia.org/wiki/Preston_Carpenter   \n",
       "\n",
       "       num_references  year     month  \\\n",
       "40575               3  2012  November   \n",
       "35056               3  2011      June   \n",
       "\n",
       "                                                     info_parenth info_1  \\\n",
       "40575                                            Doncaster Rovers   None   \n",
       "35056  Cleveland Browns, Pittsburgh Steelers, Washington Redskins   None   \n",
       "\n",
       "      info_2           info_3 info_4 info_5 info_6 info_7 info_8 info_9  \\\n",
       "40575         prostate cancer   None   None   None   None   None   None   \n",
       "35056                    None   None   None   None   None   None   None   \n",
       "\n",
       "      info_10 info_11   age cause_of_death                   place_1 place_2  \\\n",
       "40575    None    None  74.0           None                  Scotland    None   \n",
       "35056    None    None  77.0           None  United States of America    None   \n",
       "\n",
       "                                                info_parenth_copy  \\\n",
       "40575                                            Doncaster Rovers   \n",
       "35056  Cleveland Browns, Pittsburgh Steelers, Washington Redskins   \n",
       "\n",
       "       log_num_references  sciences  social  spiritual  academia_humanities  \\\n",
       "40575            1.386294         0       0          0                    0   \n",
       "35056            1.386294         0       0          0                    0   \n",
       "\n",
       "       business_farming  arts  sports  law_enf_military_operator  \\\n",
       "40575                 0     0       1                          0   \n",
       "35056                 0     0       1                          0   \n",
       "\n",
       "       politics_govt_law  crime  event_record_other  other_species  \\\n",
       "40575                  0      0                   0              0   \n",
       "35056                  0      0                   0              0   \n",
       "\n",
       "       num_categories  \n",
       "40575               1  \n",
       "35056               1  "
      ]
     },
     "execution_count": 74,
     "metadata": {},
     "output_type": "execute_result"
    },
    {
     "data": {
      "application/javascript": [
       "\n",
       "            setTimeout(function() {\n",
       "                var nbb_cell_id = 74;\n",
       "                var nbb_unformatted_code = \"%%time\\n\\n# Dictionary version\\nsearch_dict = known_for_dict\\n\\n# Column to check\\ncolumn = 'info_2'\\n\\n# Dataframe\\ndataframe = df[column].notna()\\n\\n# For loop to find role in column and extract it as category\\nfor category, category_lst in search_dict.items():\\n    for role in category_lst:\\n        for index in dataframe.index:\\n            item = df.loc[index, column]\\n            if item:\\n                if role in item:\\n                    df.loc[index, category] = 1\\n                    df.loc[index, column] = item.replace(role, '').strip()\\n\\n# Updating num_categories\\ndf[\\\"num_categories\\\"] = df[known_for_dict.keys()].sum(axis=1)\\n\\n# Checking a sample of rows\\ndf[df['sports'] ==1].sample(2)\";\n",
       "                var nbb_formatted_code = \"%%time\\n\\n# Dictionary version\\nsearch_dict = known_for_dict\\n\\n# Column to check\\ncolumn = 'info_2'\\n\\n# Dataframe\\ndataframe = df[column].notna()\\n\\n# For loop to find role in column and extract it as category\\nfor category, category_lst in search_dict.items():\\n    for role in category_lst:\\n        for index in dataframe.index:\\n            item = df.loc[index, column]\\n            if item:\\n                if role in item:\\n                    df.loc[index, category] = 1\\n                    df.loc[index, column] = item.replace(role, '').strip()\\n\\n# Updating num_categories\\ndf[\\\"num_categories\\\"] = df[known_for_dict.keys()].sum(axis=1)\\n\\n# Checking a sample of rows\\ndf[df['sports'] ==1].sample(2)\";\n",
       "                var nbb_cells = Jupyter.notebook.get_cells();\n",
       "                for (var i = 0; i < nbb_cells.length; ++i) {\n",
       "                    if (nbb_cells[i].input_prompt_number == nbb_cell_id) {\n",
       "                        if (nbb_cells[i].get_text() == nbb_unformatted_code) {\n",
       "                             nbb_cells[i].set_text(nbb_formatted_code);\n",
       "                        }\n",
       "                        break;\n",
       "                    }\n",
       "                }\n",
       "            }, 500);\n",
       "            "
      ],
      "text/plain": [
       "<IPython.core.display.Javascript object>"
      ]
     },
     "metadata": {},
     "output_type": "display_data"
    }
   ],
   "source": [
    "%%time\n",
    "\n",
    "# Dictionary version\n",
    "search_dict = known_for_dict\n",
    "\n",
    "# Column to check\n",
    "column = 'info_2'\n",
    "\n",
    "# Dataframe\n",
    "dataframe = df[column].notna()\n",
    "\n",
    "# For loop to find role in column and extract it as category\n",
    "for category, category_lst in search_dict.items():\n",
    "    for role in category_lst:\n",
    "        for index in dataframe.index:\n",
    "            item = df.loc[index, column]\n",
    "            if item:\n",
    "                if role in item:\n",
    "                    df.loc[index, category] = 1\n",
    "                    df.loc[index, column] = item.replace(role, '').strip()\n",
    "\n",
    "# Updating num_categories\n",
    "df[\"num_categories\"] = df[known_for_dict.keys()].sum(axis=1)\n",
    "\n",
    "# Checking a sample of rows\n",
    "df[df['sports'] ==1].sample(2)"
   ]
  },
  {
   "cell_type": "markdown",
   "id": "89d19220",
   "metadata": {},
   "source": [
    "#### Checking the Number of Rows without a First Category"
   ]
  },
  {
   "cell_type": "code",
   "execution_count": 75,
   "id": "db516a24",
   "metadata": {},
   "outputs": [
    {
     "name": "stdout",
     "output_type": "stream",
     "text": [
      "There are 26640 entries without any known_for category.\n"
     ]
    },
    {
     "data": {
      "application/javascript": [
       "\n",
       "            setTimeout(function() {\n",
       "                var nbb_cell_id = 75;\n",
       "                var nbb_unformatted_code = \"# Checking the number of rows without a first category\\nprint(\\n    f'There are {len(df[df[\\\"num_categories\\\"]==0])} entries without any known_for category.'\\n)\";\n",
       "                var nbb_formatted_code = \"# Checking the number of rows without a first category\\nprint(\\n    f'There are {len(df[df[\\\"num_categories\\\"]==0])} entries without any known_for category.'\\n)\";\n",
       "                var nbb_cells = Jupyter.notebook.get_cells();\n",
       "                for (var i = 0; i < nbb_cells.length; ++i) {\n",
       "                    if (nbb_cells[i].input_prompt_number == nbb_cell_id) {\n",
       "                        if (nbb_cells[i].get_text() == nbb_unformatted_code) {\n",
       "                             nbb_cells[i].set_text(nbb_formatted_code);\n",
       "                        }\n",
       "                        break;\n",
       "                    }\n",
       "                }\n",
       "            }, 500);\n",
       "            "
      ],
      "text/plain": [
       "<IPython.core.display.Javascript object>"
      ]
     },
     "metadata": {},
     "output_type": "display_data"
    }
   ],
   "source": [
    "# Checking the number of rows without a first category\n",
    "print(\n",
    "    f'There are {len(df[df[\"num_categories\"]==0])} entries without any known_for category.'\n",
    ")"
   ]
  },
  {
   "cell_type": "markdown",
   "id": "1e82c66f",
   "metadata": {},
   "source": [
    "#### Observations:\n",
    "- We will proceed to rebuild `known_for_dict` for the next iteration."
   ]
  },
  {
   "cell_type": "markdown",
   "id": "0c74a38e",
   "metadata": {},
   "source": [
    "#### Finding `known_for` Roles in `info_2`"
   ]
  },
  {
   "cell_type": "code",
   "execution_count": 76,
   "id": "764732d0",
   "metadata": {},
   "outputs": [
    {
     "data": {
      "application/javascript": [
       "\n",
       "            setTimeout(function() {\n",
       "                var nbb_cell_id = 76;\n",
       "                var nbb_unformatted_code = \"# # Obtaining values for column and their counts\\n# roles_list = df[\\\"info_2\\\"].value_counts(ascending=True).index.tolist()\";\n",
       "                var nbb_formatted_code = \"# # Obtaining values for column and their counts\\n# roles_list = df[\\\"info_2\\\"].value_counts(ascending=True).index.tolist()\";\n",
       "                var nbb_cells = Jupyter.notebook.get_cells();\n",
       "                for (var i = 0; i < nbb_cells.length; ++i) {\n",
       "                    if (nbb_cells[i].input_prompt_number == nbb_cell_id) {\n",
       "                        if (nbb_cells[i].get_text() == nbb_unformatted_code) {\n",
       "                             nbb_cells[i].set_text(nbb_formatted_code);\n",
       "                        }\n",
       "                        break;\n",
       "                    }\n",
       "                }\n",
       "            }, 500);\n",
       "            "
      ],
      "text/plain": [
       "<IPython.core.display.Javascript object>"
      ]
     },
     "metadata": {},
     "output_type": "display_data"
    }
   ],
   "source": [
    "# # Obtaining values for column and their counts\n",
    "# roles_list = df[\"info_2\"].value_counts(ascending=True).index.tolist()"
   ]
  },
  {
   "cell_type": "code",
   "execution_count": 77,
   "id": "71c86f42",
   "metadata": {},
   "outputs": [
    {
     "data": {
      "application/javascript": [
       "\n",
       "            setTimeout(function() {\n",
       "                var nbb_cell_id = 77;\n",
       "                var nbb_unformatted_code = \"# # Code to check each value\\n# roles_list.pop()\";\n",
       "                var nbb_formatted_code = \"# # Code to check each value\\n# roles_list.pop()\";\n",
       "                var nbb_cells = Jupyter.notebook.get_cells();\n",
       "                for (var i = 0; i < nbb_cells.length; ++i) {\n",
       "                    if (nbb_cells[i].input_prompt_number == nbb_cell_id) {\n",
       "                        if (nbb_cells[i].get_text() == nbb_unformatted_code) {\n",
       "                             nbb_cells[i].set_text(nbb_formatted_code);\n",
       "                        }\n",
       "                        break;\n",
       "                    }\n",
       "                }\n",
       "            }, 500);\n",
       "            "
      ],
      "text/plain": [
       "<IPython.core.display.Javascript object>"
      ]
     },
     "metadata": {},
     "output_type": "display_data"
    }
   ],
   "source": [
    "# # Code to check each value\n",
    "# roles_list.pop()"
   ]
  },
  {
   "cell_type": "code",
   "execution_count": 78,
   "id": "22d4f760",
   "metadata": {},
   "outputs": [
    {
     "data": {
      "application/javascript": [
       "\n",
       "            setTimeout(function() {\n",
       "                var nbb_cell_id = 78;\n",
       "                var nbb_unformatted_code = \"# # Create specific_roles_list for above popped value\\n# specific_roles_list = (\\n#     df.loc[\\n#         [\\n#             index\\n#             for index in df[df[\\\"info_2\\\"].notna()].index\\n#             if \\\"sports\\\" in df.loc[index, \\\"info_2\\\"]\\n#         ],\\n#         \\\"info_2\\\",\\n#     ]\\n#     .value_counts()\\n#     .index.tolist()\\n# )\";\n",
       "                var nbb_formatted_code = \"# # Create specific_roles_list for above popped value\\n# specific_roles_list = (\\n#     df.loc[\\n#         [\\n#             index\\n#             for index in df[df[\\\"info_2\\\"].notna()].index\\n#             if \\\"sports\\\" in df.loc[index, \\\"info_2\\\"]\\n#         ],\\n#         \\\"info_2\\\",\\n#     ]\\n#     .value_counts()\\n#     .index.tolist()\\n# )\";\n",
       "                var nbb_cells = Jupyter.notebook.get_cells();\n",
       "                for (var i = 0; i < nbb_cells.length; ++i) {\n",
       "                    if (nbb_cells[i].input_prompt_number == nbb_cell_id) {\n",
       "                        if (nbb_cells[i].get_text() == nbb_unformatted_code) {\n",
       "                             nbb_cells[i].set_text(nbb_formatted_code);\n",
       "                        }\n",
       "                        break;\n",
       "                    }\n",
       "                }\n",
       "            }, 500);\n",
       "            "
      ],
      "text/plain": [
       "<IPython.core.display.Javascript object>"
      ]
     },
     "metadata": {},
     "output_type": "display_data"
    }
   ],
   "source": [
    "# # Create specific_roles_list for above popped value\n",
    "# specific_roles_list = (\n",
    "#     df.loc[\n",
    "#         [\n",
    "#             index\n",
    "#             for index in df[df[\"info_2\"].notna()].index\n",
    "#             if \"sports\" in df.loc[index, \"info_2\"]\n",
    "#         ],\n",
    "#         \"info_2\",\n",
    "#     ]\n",
    "#     .value_counts()\n",
    "#     .index.tolist()\n",
    "# )"
   ]
  },
  {
   "cell_type": "code",
   "execution_count": 79,
   "id": "91e63791",
   "metadata": {},
   "outputs": [
    {
     "data": {
      "application/javascript": [
       "\n",
       "            setTimeout(function() {\n",
       "                var nbb_cell_id = 79;\n",
       "                var nbb_unformatted_code = \"# # Code to check each specific value\\n# specific_roles_list.pop()\";\n",
       "                var nbb_formatted_code = \"# # Code to check each specific value\\n# specific_roles_list.pop()\";\n",
       "                var nbb_cells = Jupyter.notebook.get_cells();\n",
       "                for (var i = 0; i < nbb_cells.length; ++i) {\n",
       "                    if (nbb_cells[i].input_prompt_number == nbb_cell_id) {\n",
       "                        if (nbb_cells[i].get_text() == nbb_unformatted_code) {\n",
       "                             nbb_cells[i].set_text(nbb_formatted_code);\n",
       "                        }\n",
       "                        break;\n",
       "                    }\n",
       "                }\n",
       "            }, 500);\n",
       "            "
      ],
      "text/plain": [
       "<IPython.core.display.Javascript object>"
      ]
     },
     "metadata": {},
     "output_type": "display_data"
    }
   ],
   "source": [
    "# # Code to check each specific value\n",
    "# specific_roles_list.pop()"
   ]
  },
  {
   "cell_type": "code",
   "execution_count": 80,
   "id": "35409493",
   "metadata": {},
   "outputs": [
    {
     "data": {
      "application/javascript": [
       "\n",
       "            setTimeout(function() {\n",
       "                var nbb_cell_id = 80;\n",
       "                var nbb_unformatted_code = \"# # Example code to quick-screen values that may overlap categories\\n# df.loc[[index for index in df.index if \\\"car builder\\\" in df.loc[index, \\\"info\\\"]]]\";\n",
       "                var nbb_formatted_code = \"# # Example code to quick-screen values that may overlap categories\\n# df.loc[[index for index in df.index if \\\"car builder\\\" in df.loc[index, \\\"info\\\"]]]\";\n",
       "                var nbb_cells = Jupyter.notebook.get_cells();\n",
       "                for (var i = 0; i < nbb_cells.length; ++i) {\n",
       "                    if (nbb_cells[i].input_prompt_number == nbb_cell_id) {\n",
       "                        if (nbb_cells[i].get_text() == nbb_unformatted_code) {\n",
       "                             nbb_cells[i].set_text(nbb_formatted_code);\n",
       "                        }\n",
       "                        break;\n",
       "                    }\n",
       "                }\n",
       "            }, 500);\n",
       "            "
      ],
      "text/plain": [
       "<IPython.core.display.Javascript object>"
      ]
     },
     "metadata": {},
     "output_type": "display_data"
    }
   ],
   "source": [
    "# # Example code to quick-screen values that may overlap categories\n",
    "# df.loc[[index for index in df.index if \"car builder\" in df.loc[index, \"info\"]]]"
   ]
  },
  {
   "cell_type": "code",
   "execution_count": 81,
   "id": "e67ecef6",
   "metadata": {},
   "outputs": [
    {
     "data": {
      "application/javascript": [
       "\n",
       "            setTimeout(function() {\n",
       "                var nbb_cell_id = 81;\n",
       "                var nbb_unformatted_code = \"# # Example code to quick-check a specific entry\\n# df[df[\\\"info_2\\\"] == \\\"motorsports manager and car builder\\\"]\";\n",
       "                var nbb_formatted_code = \"# # Example code to quick-check a specific entry\\n# df[df[\\\"info_2\\\"] == \\\"motorsports manager and car builder\\\"]\";\n",
       "                var nbb_cells = Jupyter.notebook.get_cells();\n",
       "                for (var i = 0; i < nbb_cells.length; ++i) {\n",
       "                    if (nbb_cells[i].input_prompt_number == nbb_cell_id) {\n",
       "                        if (nbb_cells[i].get_text() == nbb_unformatted_code) {\n",
       "                             nbb_cells[i].set_text(nbb_formatted_code);\n",
       "                        }\n",
       "                        break;\n",
       "                    }\n",
       "                }\n",
       "            }, 500);\n",
       "            "
      ],
      "text/plain": [
       "<IPython.core.display.Javascript object>"
      ]
     },
     "metadata": {},
     "output_type": "display_data"
    }
   ],
   "source": [
    "# # Example code to quick-check a specific entry\n",
    "# df[df[\"info_2\"] == \"motorsports manager and car builder\"]"
   ]
  },
  {
   "cell_type": "markdown",
   "id": "a305b4c8",
   "metadata": {},
   "source": [
    "#### Creating Lists for Each `known_for` Category"
   ]
  },
  {
   "cell_type": "code",
   "execution_count": 82,
   "id": "15a05884",
   "metadata": {},
   "outputs": [
    {
     "data": {
      "application/javascript": [
       "\n",
       "            setTimeout(function() {\n",
       "                var nbb_cell_id = 82;\n",
       "                var nbb_unformatted_code = \"# Creating lists for each category\\npolitics_govt_law = []\\n\\narts = [\\n    \\\"publicist for the University of Maryland and the Washington Redskins\\\",\\n    \\\"marketing executive and sports imposter\\\",\\n    \\\"fashion designer and sportswear pioneer\\\",\\n    \\\"sportswear and fashion designer\\\",  # before sports\\n]\\nsports = [\\n    \\\"IOC sports administrator and Olympic sport shooter\\\",\\n    \\\"hunting and fishing specialist and outdoor sports\\\",\\n    \\\"Olympic gold medal winning wrestler and sports\\\",\\n    \\\"sportsman and college athletics administrator\\\",\\n    \\\"Olympic silver medal winning sports shooter\\\",\\n    \\\"athletics coach and sports administrator\\\",\\n    \\\"netball player and sports administrator\\\",\\n    \\\"sports shooter and Olympic champion\\\",\\n    \\\"Olympic sprinter and sports coach\\\",\\n    \\\"athlete and sports administrator\\\",\\n    \\\"fencer and sports administrator\\\",\\n    \\\"sports baseball official scorer\\\",\\n    \\\"ski jumper and sports official\\\",\\n    \\\"triple international sportsman\\\",\\n    \\\"professional sports team owner\\\",\\n    \\\"basketball referee and sports\\\",\\n    \\\"orienteer and sports official\\\",\\n    \\\"football executive and sports\\\",\\n    \\\"Hall of Fame sports executive\\\",\\n    \\\"college sports administrator\\\",\\n    \\\"Baseball Hall of Fame sports\\\",\\n    \\\"Negro league baseball sports\\\",\\n    \\\"cricket player and sportsman\\\",\\n    \\\"cyclist and sports director\\\",\\n    \\\"fencer and sports executive\\\",\\n    \\\"Olympic sports commissioner\\\",\\n    \\\"and Olympic sports shooter\\\",\\n    \\\"wheelchair sports athlete\\\",\\n    \\\"sports franchise co owner\\\",\\n    \\\"high school sports coach\\\",\\n    \\\"and sports administrator\\\",\\n    \\\"sports administrator and\\\",\\n    \\\"athlete and sports coach\\\",\\n    \\\"weightlifter and sports\\\",\\n    \\\"sports  sport executive\\\",\\n    \\\"sports player and coach\\\",\\n    \\\"motorsports manager and\\\",\\n    \\\"Olympic sports shooter\\\",\\n    \\\"and sports team owner\\\",\\n    \\\"sports administrator\\\",\\n    \\\"and sports executive\\\",\\n    \\\"motorsports director\\\",\\n    \\\"and sports official\\\",\\n    \\\"Hall of Fame sports\\\",\\n    \\\"sports shooter and\\\",\\n    \\\"sports manager and\\\",\\n    \\\"and sports shooter\\\",\\n    \\\"sports team owner\\\",\\n    \\\"golfer and sports\\\",\\n    \\\"sports club owner\\\",\\n    \\\"sports coach and\\\",\\n    \\\"sports executive\\\",\\n    \\\"cricket  sports\\\",\\n    \\\"baseball sports\\\",\\n    \\\"and sportswoman\\\",\\n    \\\"Republic sports\\\",\\n    \\\"sportswoman and\\\",\\n    \\\"sports director\\\",\\n    \\\"sports promoter\\\",\\n    \\\"sports official\\\",\\n    \\\"sports shooter\\\",\\n    \\\"sportsman and\\\",\\n    \\\"sportsperson\\\",\\n    \\\"sports diver\\\",\\n    \\\"sports coach\\\",\\n    \\\"sports agent\\\",\\n    \\\"motorsports\\\",\\n    \\\"sportsman\\\",\\n    \\\"and sports\\\",\\n    \\\"sports and\\\",\\n    \\\"sports\\\",\\n]\\nsciences = []\\n\\nbusiness_farming = [\\n    \\\"chairman and owner of Ellen Tracy sportswear\\\",  # before sports\\n]\\nacademia_humanities = []\\nlaw_enf_military_operator = []\\nspiritual = []\\nsocial = []\\ncrime = []\\nevent_record_other = []\\nother_species = [\\n    \\\"thoroughbred racehorse involved in sports betting substitution scandal\\\",  # before sports\\n]\";\n",
       "                var nbb_formatted_code = \"# Creating lists for each category\\npolitics_govt_law = []\\n\\narts = [\\n    \\\"publicist for the University of Maryland and the Washington Redskins\\\",\\n    \\\"marketing executive and sports imposter\\\",\\n    \\\"fashion designer and sportswear pioneer\\\",\\n    \\\"sportswear and fashion designer\\\",  # before sports\\n]\\nsports = [\\n    \\\"IOC sports administrator and Olympic sport shooter\\\",\\n    \\\"hunting and fishing specialist and outdoor sports\\\",\\n    \\\"Olympic gold medal winning wrestler and sports\\\",\\n    \\\"sportsman and college athletics administrator\\\",\\n    \\\"Olympic silver medal winning sports shooter\\\",\\n    \\\"athletics coach and sports administrator\\\",\\n    \\\"netball player and sports administrator\\\",\\n    \\\"sports shooter and Olympic champion\\\",\\n    \\\"Olympic sprinter and sports coach\\\",\\n    \\\"athlete and sports administrator\\\",\\n    \\\"fencer and sports administrator\\\",\\n    \\\"sports baseball official scorer\\\",\\n    \\\"ski jumper and sports official\\\",\\n    \\\"triple international sportsman\\\",\\n    \\\"professional sports team owner\\\",\\n    \\\"basketball referee and sports\\\",\\n    \\\"orienteer and sports official\\\",\\n    \\\"football executive and sports\\\",\\n    \\\"Hall of Fame sports executive\\\",\\n    \\\"college sports administrator\\\",\\n    \\\"Baseball Hall of Fame sports\\\",\\n    \\\"Negro league baseball sports\\\",\\n    \\\"cricket player and sportsman\\\",\\n    \\\"cyclist and sports director\\\",\\n    \\\"fencer and sports executive\\\",\\n    \\\"Olympic sports commissioner\\\",\\n    \\\"and Olympic sports shooter\\\",\\n    \\\"wheelchair sports athlete\\\",\\n    \\\"sports franchise co owner\\\",\\n    \\\"high school sports coach\\\",\\n    \\\"and sports administrator\\\",\\n    \\\"sports administrator and\\\",\\n    \\\"athlete and sports coach\\\",\\n    \\\"weightlifter and sports\\\",\\n    \\\"sports  sport executive\\\",\\n    \\\"sports player and coach\\\",\\n    \\\"motorsports manager and\\\",\\n    \\\"Olympic sports shooter\\\",\\n    \\\"and sports team owner\\\",\\n    \\\"sports administrator\\\",\\n    \\\"and sports executive\\\",\\n    \\\"motorsports director\\\",\\n    \\\"and sports official\\\",\\n    \\\"Hall of Fame sports\\\",\\n    \\\"sports shooter and\\\",\\n    \\\"sports manager and\\\",\\n    \\\"and sports shooter\\\",\\n    \\\"sports team owner\\\",\\n    \\\"golfer and sports\\\",\\n    \\\"sports club owner\\\",\\n    \\\"sports coach and\\\",\\n    \\\"sports executive\\\",\\n    \\\"cricket  sports\\\",\\n    \\\"baseball sports\\\",\\n    \\\"and sportswoman\\\",\\n    \\\"Republic sports\\\",\\n    \\\"sportswoman and\\\",\\n    \\\"sports director\\\",\\n    \\\"sports promoter\\\",\\n    \\\"sports official\\\",\\n    \\\"sports shooter\\\",\\n    \\\"sportsman and\\\",\\n    \\\"sportsperson\\\",\\n    \\\"sports diver\\\",\\n    \\\"sports coach\\\",\\n    \\\"sports agent\\\",\\n    \\\"motorsports\\\",\\n    \\\"sportsman\\\",\\n    \\\"and sports\\\",\\n    \\\"sports and\\\",\\n    \\\"sports\\\",\\n]\\nsciences = []\\n\\nbusiness_farming = [\\n    \\\"chairman and owner of Ellen Tracy sportswear\\\",  # before sports\\n]\\nacademia_humanities = []\\nlaw_enf_military_operator = []\\nspiritual = []\\nsocial = []\\ncrime = []\\nevent_record_other = []\\nother_species = [\\n    \\\"thoroughbred racehorse involved in sports betting substitution scandal\\\",  # before sports\\n]\";\n",
       "                var nbb_cells = Jupyter.notebook.get_cells();\n",
       "                for (var i = 0; i < nbb_cells.length; ++i) {\n",
       "                    if (nbb_cells[i].input_prompt_number == nbb_cell_id) {\n",
       "                        if (nbb_cells[i].get_text() == nbb_unformatted_code) {\n",
       "                             nbb_cells[i].set_text(nbb_formatted_code);\n",
       "                        }\n",
       "                        break;\n",
       "                    }\n",
       "                }\n",
       "            }, 500);\n",
       "            "
      ],
      "text/plain": [
       "<IPython.core.display.Javascript object>"
      ]
     },
     "metadata": {},
     "output_type": "display_data"
    }
   ],
   "source": [
    "# Creating lists for each category\n",
    "politics_govt_law = []\n",
    "\n",
    "arts = [\n",
    "    \"publicist for the University of Maryland and the Washington Redskins\",\n",
    "    \"marketing executive and sports imposter\",\n",
    "    \"fashion designer and sportswear pioneer\",\n",
    "    \"sportswear and fashion designer\",  # before sports\n",
    "]\n",
    "sports = [\n",
    "    \"IOC sports administrator and Olympic sport shooter\",\n",
    "    \"hunting and fishing specialist and outdoor sports\",\n",
    "    \"Olympic gold medal winning wrestler and sports\",\n",
    "    \"sportsman and college athletics administrator\",\n",
    "    \"Olympic silver medal winning sports shooter\",\n",
    "    \"athletics coach and sports administrator\",\n",
    "    \"netball player and sports administrator\",\n",
    "    \"sports shooter and Olympic champion\",\n",
    "    \"Olympic sprinter and sports coach\",\n",
    "    \"athlete and sports administrator\",\n",
    "    \"fencer and sports administrator\",\n",
    "    \"sports baseball official scorer\",\n",
    "    \"ski jumper and sports official\",\n",
    "    \"triple international sportsman\",\n",
    "    \"professional sports team owner\",\n",
    "    \"basketball referee and sports\",\n",
    "    \"orienteer and sports official\",\n",
    "    \"football executive and sports\",\n",
    "    \"Hall of Fame sports executive\",\n",
    "    \"college sports administrator\",\n",
    "    \"Baseball Hall of Fame sports\",\n",
    "    \"Negro league baseball sports\",\n",
    "    \"cricket player and sportsman\",\n",
    "    \"cyclist and sports director\",\n",
    "    \"fencer and sports executive\",\n",
    "    \"Olympic sports commissioner\",\n",
    "    \"and Olympic sports shooter\",\n",
    "    \"wheelchair sports athlete\",\n",
    "    \"sports franchise co owner\",\n",
    "    \"high school sports coach\",\n",
    "    \"and sports administrator\",\n",
    "    \"sports administrator and\",\n",
    "    \"athlete and sports coach\",\n",
    "    \"weightlifter and sports\",\n",
    "    \"sports  sport executive\",\n",
    "    \"sports player and coach\",\n",
    "    \"motorsports manager and\",\n",
    "    \"Olympic sports shooter\",\n",
    "    \"and sports team owner\",\n",
    "    \"sports administrator\",\n",
    "    \"and sports executive\",\n",
    "    \"motorsports director\",\n",
    "    \"and sports official\",\n",
    "    \"Hall of Fame sports\",\n",
    "    \"sports shooter and\",\n",
    "    \"sports manager and\",\n",
    "    \"and sports shooter\",\n",
    "    \"sports team owner\",\n",
    "    \"golfer and sports\",\n",
    "    \"sports club owner\",\n",
    "    \"sports coach and\",\n",
    "    \"sports executive\",\n",
    "    \"cricket  sports\",\n",
    "    \"baseball sports\",\n",
    "    \"and sportswoman\",\n",
    "    \"Republic sports\",\n",
    "    \"sportswoman and\",\n",
    "    \"sports director\",\n",
    "    \"sports promoter\",\n",
    "    \"sports official\",\n",
    "    \"sports shooter\",\n",
    "    \"sportsman and\",\n",
    "    \"sportsperson\",\n",
    "    \"sports diver\",\n",
    "    \"sports coach\",\n",
    "    \"sports agent\",\n",
    "    \"motorsports\",\n",
    "    \"sportsman\",\n",
    "    \"and sports\",\n",
    "    \"sports and\",\n",
    "    \"sports\",\n",
    "]\n",
    "sciences = []\n",
    "\n",
    "business_farming = [\n",
    "    \"chairman and owner of Ellen Tracy sportswear\",  # before sports\n",
    "]\n",
    "academia_humanities = []\n",
    "law_enf_military_operator = []\n",
    "spiritual = []\n",
    "social = []\n",
    "crime = []\n",
    "event_record_other = []\n",
    "other_species = [\n",
    "    \"thoroughbred racehorse involved in sports betting substitution scandal\",  # before sports\n",
    "]"
   ]
  },
  {
   "cell_type": "markdown",
   "id": "c222a54e",
   "metadata": {},
   "source": [
    "#### Creating `known_for_dict` Dictionary of Category Keys and Specific Role Lists of Values"
   ]
  },
  {
   "cell_type": "code",
   "execution_count": 83,
   "id": "e0d31d24",
   "metadata": {},
   "outputs": [
    {
     "data": {
      "application/javascript": [
       "\n",
       "            setTimeout(function() {\n",
       "                var nbb_cell_id = 83;\n",
       "                var nbb_unformatted_code = \"# Combining separate lists into one dictionary\\nknown_for_dict = {\\n    \\\"social\\\": social,\\n    \\\"spiritual\\\": spiritual,\\n    \\\"academia_humanities\\\": academia_humanities,\\n    \\\"business_farming\\\": business_farming,\\n    \\\"sciences\\\": sciences,\\n    \\\"politics_govt_law\\\": politics_govt_law,\\n    \\\"law_enf_military_operator\\\": law_enf_military_operator,\\n    \\\"crime\\\": crime,\\n    \\\"event_record_other\\\": event_record_other,\\n    \\\"other_species\\\": other_species,\\n    \\\"arts\\\": arts,\\n    \\\"sports\\\": sports,\\n}\";\n",
       "                var nbb_formatted_code = \"# Combining separate lists into one dictionary\\nknown_for_dict = {\\n    \\\"social\\\": social,\\n    \\\"spiritual\\\": spiritual,\\n    \\\"academia_humanities\\\": academia_humanities,\\n    \\\"business_farming\\\": business_farming,\\n    \\\"sciences\\\": sciences,\\n    \\\"politics_govt_law\\\": politics_govt_law,\\n    \\\"law_enf_military_operator\\\": law_enf_military_operator,\\n    \\\"crime\\\": crime,\\n    \\\"event_record_other\\\": event_record_other,\\n    \\\"other_species\\\": other_species,\\n    \\\"arts\\\": arts,\\n    \\\"sports\\\": sports,\\n}\";\n",
       "                var nbb_cells = Jupyter.notebook.get_cells();\n",
       "                for (var i = 0; i < nbb_cells.length; ++i) {\n",
       "                    if (nbb_cells[i].input_prompt_number == nbb_cell_id) {\n",
       "                        if (nbb_cells[i].get_text() == nbb_unformatted_code) {\n",
       "                             nbb_cells[i].set_text(nbb_formatted_code);\n",
       "                        }\n",
       "                        break;\n",
       "                    }\n",
       "                }\n",
       "            }, 500);\n",
       "            "
      ],
      "text/plain": [
       "<IPython.core.display.Javascript object>"
      ]
     },
     "metadata": {},
     "output_type": "display_data"
    }
   ],
   "source": [
    "# Combining separate lists into one dictionary\n",
    "known_for_dict = {\n",
    "    \"social\": social,\n",
    "    \"spiritual\": spiritual,\n",
    "    \"academia_humanities\": academia_humanities,\n",
    "    \"business_farming\": business_farming,\n",
    "    \"sciences\": sciences,\n",
    "    \"politics_govt_law\": politics_govt_law,\n",
    "    \"law_enf_military_operator\": law_enf_military_operator,\n",
    "    \"crime\": crime,\n",
    "    \"event_record_other\": event_record_other,\n",
    "    \"other_species\": other_species,\n",
    "    \"arts\": arts,\n",
    "    \"sports\": sports,\n",
    "}"
   ]
  },
  {
   "cell_type": "markdown",
   "id": "3a91bd8d",
   "metadata": {},
   "source": [
    "#### Extracting Category from `info_2`"
   ]
  },
  {
   "cell_type": "code",
   "execution_count": 84,
   "id": "ff06f504",
   "metadata": {},
   "outputs": [
    {
     "name": "stdout",
     "output_type": "stream",
     "text": [
      "CPU times: total: 39.9 s\n",
      "Wall time: 39.9 s\n"
     ]
    },
    {
     "data": {
      "text/html": [
       "<div>\n",
       "<style scoped>\n",
       "    .dataframe tbody tr th:only-of-type {\n",
       "        vertical-align: middle;\n",
       "    }\n",
       "\n",
       "    .dataframe tbody tr th {\n",
       "        vertical-align: top;\n",
       "    }\n",
       "\n",
       "    .dataframe thead th {\n",
       "        text-align: right;\n",
       "    }\n",
       "</style>\n",
       "<table border=\"1\" class=\"dataframe\">\n",
       "  <thead>\n",
       "    <tr style=\"text-align: right;\">\n",
       "      <th></th>\n",
       "      <th>day</th>\n",
       "      <th>name</th>\n",
       "      <th>info</th>\n",
       "      <th>link</th>\n",
       "      <th>num_references</th>\n",
       "      <th>year</th>\n",
       "      <th>month</th>\n",
       "      <th>info_parenth</th>\n",
       "      <th>info_1</th>\n",
       "      <th>info_2</th>\n",
       "      <th>info_3</th>\n",
       "      <th>info_4</th>\n",
       "      <th>info_5</th>\n",
       "      <th>info_6</th>\n",
       "      <th>info_7</th>\n",
       "      <th>info_8</th>\n",
       "      <th>info_9</th>\n",
       "      <th>info_10</th>\n",
       "      <th>info_11</th>\n",
       "      <th>age</th>\n",
       "      <th>cause_of_death</th>\n",
       "      <th>place_1</th>\n",
       "      <th>place_2</th>\n",
       "      <th>info_parenth_copy</th>\n",
       "      <th>log_num_references</th>\n",
       "      <th>sciences</th>\n",
       "      <th>social</th>\n",
       "      <th>spiritual</th>\n",
       "      <th>academia_humanities</th>\n",
       "      <th>business_farming</th>\n",
       "      <th>arts</th>\n",
       "      <th>sports</th>\n",
       "      <th>law_enf_military_operator</th>\n",
       "      <th>politics_govt_law</th>\n",
       "      <th>crime</th>\n",
       "      <th>event_record_other</th>\n",
       "      <th>other_species</th>\n",
       "      <th>num_categories</th>\n",
       "    </tr>\n",
       "  </thead>\n",
       "  <tbody>\n",
       "    <tr>\n",
       "      <th>16315</th>\n",
       "      <td>28</td>\n",
       "      <td>Kadri Aytaç</td>\n",
       "      <td>, 71, Turkish football player and then manager, Alzheimer's disease.</td>\n",
       "      <td>https://en.wikipedia.org/wiki/Kadri_Ayta%C3%A7</td>\n",
       "      <td>6</td>\n",
       "      <td>2003</td>\n",
       "      <td>March</td>\n",
       "      <td>None</td>\n",
       "      <td>None</td>\n",
       "      <td></td>\n",
       "      <td>Alzheimer disease</td>\n",
       "      <td>None</td>\n",
       "      <td>None</td>\n",
       "      <td>None</td>\n",
       "      <td>None</td>\n",
       "      <td>None</td>\n",
       "      <td>None</td>\n",
       "      <td>None</td>\n",
       "      <td>None</td>\n",
       "      <td>71.0</td>\n",
       "      <td>None</td>\n",
       "      <td>Turkey</td>\n",
       "      <td>None</td>\n",
       "      <td>None</td>\n",
       "      <td>1.945910</td>\n",
       "      <td>0</td>\n",
       "      <td>0</td>\n",
       "      <td>0</td>\n",
       "      <td>0</td>\n",
       "      <td>0</td>\n",
       "      <td>0</td>\n",
       "      <td>1</td>\n",
       "      <td>0</td>\n",
       "      <td>0</td>\n",
       "      <td>0</td>\n",
       "      <td>0</td>\n",
       "      <td>0</td>\n",
       "      <td>1</td>\n",
       "    </tr>\n",
       "    <tr>\n",
       "      <th>49287</th>\n",
       "      <td>8</td>\n",
       "      <td>Red Wilson</td>\n",
       "      <td>, 85, American baseball player .</td>\n",
       "      <td>https://en.wikipedia.org/wiki/Red_Wilson</td>\n",
       "      <td>7</td>\n",
       "      <td>2014</td>\n",
       "      <td>August</td>\n",
       "      <td>Detroit Tigers</td>\n",
       "      <td>None</td>\n",
       "      <td></td>\n",
       "      <td>None</td>\n",
       "      <td>None</td>\n",
       "      <td>None</td>\n",
       "      <td>None</td>\n",
       "      <td>None</td>\n",
       "      <td>None</td>\n",
       "      <td>None</td>\n",
       "      <td>None</td>\n",
       "      <td>None</td>\n",
       "      <td>85.0</td>\n",
       "      <td>None</td>\n",
       "      <td>United States of America</td>\n",
       "      <td>None</td>\n",
       "      <td>Detroit Tigers</td>\n",
       "      <td>2.079442</td>\n",
       "      <td>0</td>\n",
       "      <td>0</td>\n",
       "      <td>0</td>\n",
       "      <td>0</td>\n",
       "      <td>0</td>\n",
       "      <td>0</td>\n",
       "      <td>1</td>\n",
       "      <td>0</td>\n",
       "      <td>0</td>\n",
       "      <td>0</td>\n",
       "      <td>0</td>\n",
       "      <td>0</td>\n",
       "      <td>1</td>\n",
       "    </tr>\n",
       "  </tbody>\n",
       "</table>\n",
       "</div>"
      ],
      "text/plain": [
       "      day         name  \\\n",
       "16315  28  Kadri Aytaç   \n",
       "49287   8   Red Wilson   \n",
       "\n",
       "                                                                       info  \\\n",
       "16315  , 71, Turkish football player and then manager, Alzheimer's disease.   \n",
       "49287                                      , 85, American baseball player .   \n",
       "\n",
       "                                                 link  num_references  year  \\\n",
       "16315  https://en.wikipedia.org/wiki/Kadri_Ayta%C3%A7               6  2003   \n",
       "49287        https://en.wikipedia.org/wiki/Red_Wilson               7  2014   \n",
       "\n",
       "        month    info_parenth info_1 info_2             info_3 info_4 info_5  \\\n",
       "16315   March            None   None         Alzheimer disease   None   None   \n",
       "49287  August  Detroit Tigers   None                      None   None   None   \n",
       "\n",
       "      info_6 info_7 info_8 info_9 info_10 info_11   age cause_of_death  \\\n",
       "16315   None   None   None   None    None    None  71.0           None   \n",
       "49287   None   None   None   None    None    None  85.0           None   \n",
       "\n",
       "                        place_1 place_2 info_parenth_copy  log_num_references  \\\n",
       "16315                    Turkey    None              None            1.945910   \n",
       "49287  United States of America    None    Detroit Tigers            2.079442   \n",
       "\n",
       "       sciences  social  spiritual  academia_humanities  business_farming  \\\n",
       "16315         0       0          0                    0                 0   \n",
       "49287         0       0          0                    0                 0   \n",
       "\n",
       "       arts  sports  law_enf_military_operator  politics_govt_law  crime  \\\n",
       "16315     0       1                          0                  0      0   \n",
       "49287     0       1                          0                  0      0   \n",
       "\n",
       "       event_record_other  other_species  num_categories  \n",
       "16315                   0              0               1  \n",
       "49287                   0              0               1  "
      ]
     },
     "execution_count": 84,
     "metadata": {},
     "output_type": "execute_result"
    },
    {
     "data": {
      "application/javascript": [
       "\n",
       "            setTimeout(function() {\n",
       "                var nbb_cell_id = 84;\n",
       "                var nbb_unformatted_code = \"%%time\\n\\n# Dictionary version\\nsearch_dict = known_for_dict\\n\\n# Column to check\\ncolumn = 'info_2'\\n\\n# Dataframe\\ndataframe = df[column].notna()\\n\\n# For loop to find role in column and extract it as category\\nfor category, category_lst in search_dict.items():\\n    for role in category_lst:\\n        for index in dataframe.index:\\n            item = df.loc[index, column]\\n            if item:\\n                if role in item:\\n                    df.loc[index, category] = 1\\n                    df.loc[index, column] = item.replace(role, '').strip()\\n\\n# Updating num_categories\\ndf[\\\"num_categories\\\"] = df[known_for_dict.keys()].sum(axis=1)\\n\\n# Checking a sample of rows\\ndf[df['sports'] ==1].sample(2)\";\n",
       "                var nbb_formatted_code = \"%%time\\n\\n# Dictionary version\\nsearch_dict = known_for_dict\\n\\n# Column to check\\ncolumn = 'info_2'\\n\\n# Dataframe\\ndataframe = df[column].notna()\\n\\n# For loop to find role in column and extract it as category\\nfor category, category_lst in search_dict.items():\\n    for role in category_lst:\\n        for index in dataframe.index:\\n            item = df.loc[index, column]\\n            if item:\\n                if role in item:\\n                    df.loc[index, category] = 1\\n                    df.loc[index, column] = item.replace(role, '').strip()\\n\\n# Updating num_categories\\ndf[\\\"num_categories\\\"] = df[known_for_dict.keys()].sum(axis=1)\\n\\n# Checking a sample of rows\\ndf[df['sports'] ==1].sample(2)\";\n",
       "                var nbb_cells = Jupyter.notebook.get_cells();\n",
       "                for (var i = 0; i < nbb_cells.length; ++i) {\n",
       "                    if (nbb_cells[i].input_prompt_number == nbb_cell_id) {\n",
       "                        if (nbb_cells[i].get_text() == nbb_unformatted_code) {\n",
       "                             nbb_cells[i].set_text(nbb_formatted_code);\n",
       "                        }\n",
       "                        break;\n",
       "                    }\n",
       "                }\n",
       "            }, 500);\n",
       "            "
      ],
      "text/plain": [
       "<IPython.core.display.Javascript object>"
      ]
     },
     "metadata": {},
     "output_type": "display_data"
    }
   ],
   "source": [
    "%%time\n",
    "\n",
    "# Dictionary version\n",
    "search_dict = known_for_dict\n",
    "\n",
    "# Column to check\n",
    "column = 'info_2'\n",
    "\n",
    "# Dataframe\n",
    "dataframe = df[column].notna()\n",
    "\n",
    "# For loop to find role in column and extract it as category\n",
    "for category, category_lst in search_dict.items():\n",
    "    for role in category_lst:\n",
    "        for index in dataframe.index:\n",
    "            item = df.loc[index, column]\n",
    "            if item:\n",
    "                if role in item:\n",
    "                    df.loc[index, category] = 1\n",
    "                    df.loc[index, column] = item.replace(role, '').strip()\n",
    "\n",
    "# Updating num_categories\n",
    "df[\"num_categories\"] = df[known_for_dict.keys()].sum(axis=1)\n",
    "\n",
    "# Checking a sample of rows\n",
    "df[df['sports'] ==1].sample(2)"
   ]
  },
  {
   "cell_type": "markdown",
   "id": "b136e919",
   "metadata": {},
   "source": [
    "#### Checking the Number of Rows without a First Category"
   ]
  },
  {
   "cell_type": "code",
   "execution_count": 85,
   "id": "3f1313a3",
   "metadata": {},
   "outputs": [
    {
     "name": "stdout",
     "output_type": "stream",
     "text": [
      "There are 26306 entries without any known_for category.\n"
     ]
    },
    {
     "data": {
      "application/javascript": [
       "\n",
       "            setTimeout(function() {\n",
       "                var nbb_cell_id = 85;\n",
       "                var nbb_unformatted_code = \"# Checking the number of rows without a first category\\nprint(\\n    f'There are {len(df[df[\\\"num_categories\\\"]==0])} entries without any known_for category.'\\n)\";\n",
       "                var nbb_formatted_code = \"# Checking the number of rows without a first category\\nprint(\\n    f'There are {len(df[df[\\\"num_categories\\\"]==0])} entries without any known_for category.'\\n)\";\n",
       "                var nbb_cells = Jupyter.notebook.get_cells();\n",
       "                for (var i = 0; i < nbb_cells.length; ++i) {\n",
       "                    if (nbb_cells[i].input_prompt_number == nbb_cell_id) {\n",
       "                        if (nbb_cells[i].get_text() == nbb_unformatted_code) {\n",
       "                             nbb_cells[i].set_text(nbb_formatted_code);\n",
       "                        }\n",
       "                        break;\n",
       "                    }\n",
       "                }\n",
       "            }, 500);\n",
       "            "
      ],
      "text/plain": [
       "<IPython.core.display.Javascript object>"
      ]
     },
     "metadata": {},
     "output_type": "display_data"
    }
   ],
   "source": [
    "# Checking the number of rows without a first category\n",
    "print(\n",
    "    f'There are {len(df[df[\"num_categories\"]==0])} entries without any known_for category.'\n",
    ")"
   ]
  },
  {
   "cell_type": "markdown",
   "id": "fbf614dd",
   "metadata": {},
   "source": [
    "#### Observations:\n",
    "- We will proceed to rebuild `known_for_dict` for the next iteration."
   ]
  },
  {
   "cell_type": "markdown",
   "id": "9a95040a",
   "metadata": {},
   "source": [
    "#### Finding `known_for` Roles in `info_2`"
   ]
  },
  {
   "cell_type": "code",
   "execution_count": 86,
   "id": "e5f9c5d2",
   "metadata": {},
   "outputs": [
    {
     "data": {
      "application/javascript": [
       "\n",
       "            setTimeout(function() {\n",
       "                var nbb_cell_id = 86;\n",
       "                var nbb_unformatted_code = \"# # Obtaining values for column and their counts\\n# roles_list = df[\\\"info_2\\\"].value_counts(ascending=True).index.tolist()\";\n",
       "                var nbb_formatted_code = \"# # Obtaining values for column and their counts\\n# roles_list = df[\\\"info_2\\\"].value_counts(ascending=True).index.tolist()\";\n",
       "                var nbb_cells = Jupyter.notebook.get_cells();\n",
       "                for (var i = 0; i < nbb_cells.length; ++i) {\n",
       "                    if (nbb_cells[i].input_prompt_number == nbb_cell_id) {\n",
       "                        if (nbb_cells[i].get_text() == nbb_unformatted_code) {\n",
       "                             nbb_cells[i].set_text(nbb_formatted_code);\n",
       "                        }\n",
       "                        break;\n",
       "                    }\n",
       "                }\n",
       "            }, 500);\n",
       "            "
      ],
      "text/plain": [
       "<IPython.core.display.Javascript object>"
      ]
     },
     "metadata": {},
     "output_type": "display_data"
    }
   ],
   "source": [
    "# # Obtaining values for column and their counts\n",
    "# roles_list = df[\"info_2\"].value_counts(ascending=True).index.tolist()"
   ]
  },
  {
   "cell_type": "code",
   "execution_count": 87,
   "id": "392f1ad8",
   "metadata": {},
   "outputs": [
    {
     "data": {
      "application/javascript": [
       "\n",
       "            setTimeout(function() {\n",
       "                var nbb_cell_id = 87;\n",
       "                var nbb_unformatted_code = \"# # Code to check each value\\n# roles_list.pop()\";\n",
       "                var nbb_formatted_code = \"# # Code to check each value\\n# roles_list.pop()\";\n",
       "                var nbb_cells = Jupyter.notebook.get_cells();\n",
       "                for (var i = 0; i < nbb_cells.length; ++i) {\n",
       "                    if (nbb_cells[i].input_prompt_number == nbb_cell_id) {\n",
       "                        if (nbb_cells[i].get_text() == nbb_unformatted_code) {\n",
       "                             nbb_cells[i].set_text(nbb_formatted_code);\n",
       "                        }\n",
       "                        break;\n",
       "                    }\n",
       "                }\n",
       "            }, 500);\n",
       "            "
      ],
      "text/plain": [
       "<IPython.core.display.Javascript object>"
      ]
     },
     "metadata": {},
     "output_type": "display_data"
    }
   ],
   "source": [
    "# # Code to check each value\n",
    "# roles_list.pop()"
   ]
  },
  {
   "cell_type": "code",
   "execution_count": 88,
   "id": "4b1e8fdb",
   "metadata": {},
   "outputs": [
    {
     "data": {
      "application/javascript": [
       "\n",
       "            setTimeout(function() {\n",
       "                var nbb_cell_id = 88;\n",
       "                var nbb_unformatted_code = \"# # Create specific_roles_list for above popped value\\n# specific_roles_list = (\\n#     df.loc[\\n#         [\\n#             index\\n#             for index in df[df[\\\"info_2\\\"].notna()].index\\n#             if \\\"broadcaster\\\" in df.loc[index, \\\"info_2\\\"]\\n#         ],\\n#         \\\"info_2\\\",\\n#     ]\\n#     .value_counts()\\n#     .index.tolist()\\n# )\";\n",
       "                var nbb_formatted_code = \"# # Create specific_roles_list for above popped value\\n# specific_roles_list = (\\n#     df.loc[\\n#         [\\n#             index\\n#             for index in df[df[\\\"info_2\\\"].notna()].index\\n#             if \\\"broadcaster\\\" in df.loc[index, \\\"info_2\\\"]\\n#         ],\\n#         \\\"info_2\\\",\\n#     ]\\n#     .value_counts()\\n#     .index.tolist()\\n# )\";\n",
       "                var nbb_cells = Jupyter.notebook.get_cells();\n",
       "                for (var i = 0; i < nbb_cells.length; ++i) {\n",
       "                    if (nbb_cells[i].input_prompt_number == nbb_cell_id) {\n",
       "                        if (nbb_cells[i].get_text() == nbb_unformatted_code) {\n",
       "                             nbb_cells[i].set_text(nbb_formatted_code);\n",
       "                        }\n",
       "                        break;\n",
       "                    }\n",
       "                }\n",
       "            }, 500);\n",
       "            "
      ],
      "text/plain": [
       "<IPython.core.display.Javascript object>"
      ]
     },
     "metadata": {},
     "output_type": "display_data"
    }
   ],
   "source": [
    "# # Create specific_roles_list for above popped value\n",
    "# specific_roles_list = (\n",
    "#     df.loc[\n",
    "#         [\n",
    "#             index\n",
    "#             for index in df[df[\"info_2\"].notna()].index\n",
    "#             if \"broadcaster\" in df.loc[index, \"info_2\"]\n",
    "#         ],\n",
    "#         \"info_2\",\n",
    "#     ]\n",
    "#     .value_counts()\n",
    "#     .index.tolist()\n",
    "# )"
   ]
  },
  {
   "cell_type": "code",
   "execution_count": 89,
   "id": "ca4aff67",
   "metadata": {},
   "outputs": [
    {
     "data": {
      "application/javascript": [
       "\n",
       "            setTimeout(function() {\n",
       "                var nbb_cell_id = 89;\n",
       "                var nbb_unformatted_code = \"# # Code to check each specific value\\n# specific_roles_list.pop()\";\n",
       "                var nbb_formatted_code = \"# # Code to check each specific value\\n# specific_roles_list.pop()\";\n",
       "                var nbb_cells = Jupyter.notebook.get_cells();\n",
       "                for (var i = 0; i < nbb_cells.length; ++i) {\n",
       "                    if (nbb_cells[i].input_prompt_number == nbb_cell_id) {\n",
       "                        if (nbb_cells[i].get_text() == nbb_unformatted_code) {\n",
       "                             nbb_cells[i].set_text(nbb_formatted_code);\n",
       "                        }\n",
       "                        break;\n",
       "                    }\n",
       "                }\n",
       "            }, 500);\n",
       "            "
      ],
      "text/plain": [
       "<IPython.core.display.Javascript object>"
      ]
     },
     "metadata": {},
     "output_type": "display_data"
    }
   ],
   "source": [
    "# # Code to check each specific value\n",
    "# specific_roles_list.pop()"
   ]
  },
  {
   "cell_type": "code",
   "execution_count": 90,
   "id": "172068d9",
   "metadata": {},
   "outputs": [
    {
     "data": {
      "application/javascript": [
       "\n",
       "            setTimeout(function() {\n",
       "                var nbb_cell_id = 90;\n",
       "                var nbb_unformatted_code = \"# # Example code to quick-screen values that may overlap categories\\n# df.loc[\\n#     [index for index in df.index if \\\"scientific divulgator\\\" in df.loc[index, \\\"info\\\"]]\\n# ]\";\n",
       "                var nbb_formatted_code = \"# # Example code to quick-screen values that may overlap categories\\n# df.loc[\\n#     [index for index in df.index if \\\"scientific divulgator\\\" in df.loc[index, \\\"info\\\"]]\\n# ]\";\n",
       "                var nbb_cells = Jupyter.notebook.get_cells();\n",
       "                for (var i = 0; i < nbb_cells.length; ++i) {\n",
       "                    if (nbb_cells[i].input_prompt_number == nbb_cell_id) {\n",
       "                        if (nbb_cells[i].get_text() == nbb_unformatted_code) {\n",
       "                             nbb_cells[i].set_text(nbb_formatted_code);\n",
       "                        }\n",
       "                        break;\n",
       "                    }\n",
       "                }\n",
       "            }, 500);\n",
       "            "
      ],
      "text/plain": [
       "<IPython.core.display.Javascript object>"
      ]
     },
     "metadata": {},
     "output_type": "display_data"
    }
   ],
   "source": [
    "# # Example code to quick-screen values that may overlap categories\n",
    "# df.loc[\n",
    "#     [index for index in df.index if \"scientific divulgator\" in df.loc[index, \"info\"]]\n",
    "# ]"
   ]
  },
  {
   "cell_type": "code",
   "execution_count": 91,
   "id": "eec27c3a",
   "metadata": {},
   "outputs": [
    {
     "data": {
      "application/javascript": [
       "\n",
       "            setTimeout(function() {\n",
       "                var nbb_cell_id = 91;\n",
       "                var nbb_unformatted_code = \"# # Example code to quick-check a specific entry\\n# df[df[\\\"info_2\\\"] == \\\"broadcaster and secretary to Joseph Goebbels\\\"]\";\n",
       "                var nbb_formatted_code = \"# # Example code to quick-check a specific entry\\n# df[df[\\\"info_2\\\"] == \\\"broadcaster and secretary to Joseph Goebbels\\\"]\";\n",
       "                var nbb_cells = Jupyter.notebook.get_cells();\n",
       "                for (var i = 0; i < nbb_cells.length; ++i) {\n",
       "                    if (nbb_cells[i].input_prompt_number == nbb_cell_id) {\n",
       "                        if (nbb_cells[i].get_text() == nbb_unformatted_code) {\n",
       "                             nbb_cells[i].set_text(nbb_formatted_code);\n",
       "                        }\n",
       "                        break;\n",
       "                    }\n",
       "                }\n",
       "            }, 500);\n",
       "            "
      ],
      "text/plain": [
       "<IPython.core.display.Javascript object>"
      ]
     },
     "metadata": {},
     "output_type": "display_data"
    }
   ],
   "source": [
    "# # Example code to quick-check a specific entry\n",
    "# df[df[\"info_2\"] == \"broadcaster and secretary to Joseph Goebbels\"]"
   ]
  },
  {
   "cell_type": "code",
   "execution_count": 92,
   "id": "10c2e6d4",
   "metadata": {},
   "outputs": [
    {
     "data": {
      "application/javascript": [
       "\n",
       "            setTimeout(function() {\n",
       "                var nbb_cell_id = 92;\n",
       "                var nbb_unformatted_code = \"# Dropping entry with link that points to husband's page\\nindex = df[df[\\\"link\\\"] == \\\"https://en.wikipedia.org/wiki/Ramona_Bell\\\"].index\\ndf.drop(index, inplace=True)\\ndf.reset_index(inplace=True, drop=True)\";\n",
       "                var nbb_formatted_code = \"# Dropping entry with link that points to husband's page\\nindex = df[df[\\\"link\\\"] == \\\"https://en.wikipedia.org/wiki/Ramona_Bell\\\"].index\\ndf.drop(index, inplace=True)\\ndf.reset_index(inplace=True, drop=True)\";\n",
       "                var nbb_cells = Jupyter.notebook.get_cells();\n",
       "                for (var i = 0; i < nbb_cells.length; ++i) {\n",
       "                    if (nbb_cells[i].input_prompt_number == nbb_cell_id) {\n",
       "                        if (nbb_cells[i].get_text() == nbb_unformatted_code) {\n",
       "                             nbb_cells[i].set_text(nbb_formatted_code);\n",
       "                        }\n",
       "                        break;\n",
       "                    }\n",
       "                }\n",
       "            }, 500);\n",
       "            "
      ],
      "text/plain": [
       "<IPython.core.display.Javascript object>"
      ]
     },
     "metadata": {},
     "output_type": "display_data"
    }
   ],
   "source": [
    "# Dropping entry with link that points to husband's page\n",
    "index = df[df[\"link\"] == \"https://en.wikipedia.org/wiki/Ramona_Bell\"].index\n",
    "df.drop(index, inplace=True)\n",
    "df.reset_index(inplace=True, drop=True)"
   ]
  },
  {
   "cell_type": "markdown",
   "id": "6a93f1e7",
   "metadata": {},
   "source": [
    "#### Creating Lists for Each `known_for` Category"
   ]
  },
  {
   "cell_type": "code",
   "execution_count": 93,
   "id": "62b9b88f",
   "metadata": {},
   "outputs": [
    {
     "data": {
      "application/javascript": [
       "\n",
       "            setTimeout(function() {\n",
       "                var nbb_cell_id = 93;\n",
       "                var nbb_unformatted_code = \"# Creating lists for each category\\npolitics_govt_law = [\\n    \\\"secretary to Joseph Goebbels\\\",\\n]\\n\\narts = [\\n    \\\"button accordion player and radio and television broadcaster\\\",\\n    \\\"broadcaster and radio and television administrator\\\",\\n    \\\"BBC broadcaster and transatlantic commentator\\\",\\n    \\\"first regular broadcaster on CBC Television\\\",\\n    \\\"news broadcaster and television presenter\\\",\\n    \\\"broadcaster and public address announcer\\\",\\n    \\\"and broadcaster for the Cincinnati Reds\\\",\\n    \\\"broadcaster and cultural administrator\\\",\\n    \\\"radio broadcaster and television host\\\",\\n    \\\"broadcaster and television executive\\\",\\n    \\\"radio broadcaster and documentarian\\\",\\n    \\\"radio broadcaster and food critic\\\",\\n    \\\"radio and television broadcaster\\\",\\n    \\\"newsreader and radio broadcaster\\\",\\n    \\\"television and radio broadcaster\\\",\\n    \\\"broadcaster and theatre producer\\\",\\n    \\\"newspaper editor and broadcaster\\\",\\n    \\\"broadcaster and television host\\\",\\n    \\\"radio broadcaster and announcer\\\",\\n    \\\"radio broadcaster and executive\\\",\\n    \\\"broadcaster and music arranger\\\",\\n    \\\"correspondent and broadcaster\\\",\\n    \\\"music critic and broadcaster\\\",\\n    \\\"Papua New radio broadcaster\\\",\\n    \\\"news reader and broadcaster\\\",\\n    \\\"broadcaster and television\\\",\\n    \\\"biographer and broadcaster\\\",\\n    \\\"and television broadcaster\\\",\\n    \\\"TV and radio broadcaster\\\",\\n    \\\"Hall of Fame broadcaster\\\",\\n    \\\"pirate radio broadcaster\\\",\\n    \\\"and broadcaster known as\\\",\\n    \\\"broadcaster and theatre\\\",\\n    \\\"television broadcaster\\\",\\n    \\\"broadcaster and anchor\\\",\\n    \\\"cultural administrator\\\",\\n    \\\"radio news broadcaster\\\",\\n    \\\"BBC radio broadcaster\\\",\\n    \\\"and radio broadcaster\\\",\\n    \\\"radio broadcaster and\\\",\\n    \\\"outdoors broadcaster\\\",\\n    \\\"broadcaster for CBC\\\",\\n    \\\"broadcaster and CEO\\\",\\n    \\\"radio  broadcaster\\\",\\n    \\\"radio broadcaster\\\",\\n    \\\"M\\u0101ori broadcaster\\\",\\n    \\\"news broadcaster\\\",\\n    \\\"BBC broadcaster\\\",\\n    \\\"broadcaster for\\\",\\n    \\\"broadcaster and\\\",\\n    \\\"and broadcaster\\\",\\n    \\\"broadcaster\\\",\\n]\\nsports = [\\n    \\\"for the Pittsburgh Steelers\\\",\\n    \\\"yo yo world champion\\\",\\n]\\nsciences = [\\n    \\\"scientific divulgator\\\",\\n]\\n\\nbusiness_farming = []\\nacademia_humanities = []\\nlaw_enf_military_operator = []\\nspiritual = []\\nsocial = []\\ncrime = []\\nevent_record_other = []\\nother_species = []\";\n",
       "                var nbb_formatted_code = \"# Creating lists for each category\\npolitics_govt_law = [\\n    \\\"secretary to Joseph Goebbels\\\",\\n]\\n\\narts = [\\n    \\\"button accordion player and radio and television broadcaster\\\",\\n    \\\"broadcaster and radio and television administrator\\\",\\n    \\\"BBC broadcaster and transatlantic commentator\\\",\\n    \\\"first regular broadcaster on CBC Television\\\",\\n    \\\"news broadcaster and television presenter\\\",\\n    \\\"broadcaster and public address announcer\\\",\\n    \\\"and broadcaster for the Cincinnati Reds\\\",\\n    \\\"broadcaster and cultural administrator\\\",\\n    \\\"radio broadcaster and television host\\\",\\n    \\\"broadcaster and television executive\\\",\\n    \\\"radio broadcaster and documentarian\\\",\\n    \\\"radio broadcaster and food critic\\\",\\n    \\\"radio and television broadcaster\\\",\\n    \\\"newsreader and radio broadcaster\\\",\\n    \\\"television and radio broadcaster\\\",\\n    \\\"broadcaster and theatre producer\\\",\\n    \\\"newspaper editor and broadcaster\\\",\\n    \\\"broadcaster and television host\\\",\\n    \\\"radio broadcaster and announcer\\\",\\n    \\\"radio broadcaster and executive\\\",\\n    \\\"broadcaster and music arranger\\\",\\n    \\\"correspondent and broadcaster\\\",\\n    \\\"music critic and broadcaster\\\",\\n    \\\"Papua New radio broadcaster\\\",\\n    \\\"news reader and broadcaster\\\",\\n    \\\"broadcaster and television\\\",\\n    \\\"biographer and broadcaster\\\",\\n    \\\"and television broadcaster\\\",\\n    \\\"TV and radio broadcaster\\\",\\n    \\\"Hall of Fame broadcaster\\\",\\n    \\\"pirate radio broadcaster\\\",\\n    \\\"and broadcaster known as\\\",\\n    \\\"broadcaster and theatre\\\",\\n    \\\"television broadcaster\\\",\\n    \\\"broadcaster and anchor\\\",\\n    \\\"cultural administrator\\\",\\n    \\\"radio news broadcaster\\\",\\n    \\\"BBC radio broadcaster\\\",\\n    \\\"and radio broadcaster\\\",\\n    \\\"radio broadcaster and\\\",\\n    \\\"outdoors broadcaster\\\",\\n    \\\"broadcaster for CBC\\\",\\n    \\\"broadcaster and CEO\\\",\\n    \\\"radio  broadcaster\\\",\\n    \\\"radio broadcaster\\\",\\n    \\\"M\\u0101ori broadcaster\\\",\\n    \\\"news broadcaster\\\",\\n    \\\"BBC broadcaster\\\",\\n    \\\"broadcaster for\\\",\\n    \\\"broadcaster and\\\",\\n    \\\"and broadcaster\\\",\\n    \\\"broadcaster\\\",\\n]\\nsports = [\\n    \\\"for the Pittsburgh Steelers\\\",\\n    \\\"yo yo world champion\\\",\\n]\\nsciences = [\\n    \\\"scientific divulgator\\\",\\n]\\n\\nbusiness_farming = []\\nacademia_humanities = []\\nlaw_enf_military_operator = []\\nspiritual = []\\nsocial = []\\ncrime = []\\nevent_record_other = []\\nother_species = []\";\n",
       "                var nbb_cells = Jupyter.notebook.get_cells();\n",
       "                for (var i = 0; i < nbb_cells.length; ++i) {\n",
       "                    if (nbb_cells[i].input_prompt_number == nbb_cell_id) {\n",
       "                        if (nbb_cells[i].get_text() == nbb_unformatted_code) {\n",
       "                             nbb_cells[i].set_text(nbb_formatted_code);\n",
       "                        }\n",
       "                        break;\n",
       "                    }\n",
       "                }\n",
       "            }, 500);\n",
       "            "
      ],
      "text/plain": [
       "<IPython.core.display.Javascript object>"
      ]
     },
     "metadata": {},
     "output_type": "display_data"
    }
   ],
   "source": [
    "# Creating lists for each category\n",
    "politics_govt_law = [\n",
    "    \"secretary to Joseph Goebbels\",\n",
    "]\n",
    "\n",
    "arts = [\n",
    "    \"button accordion player and radio and television broadcaster\",\n",
    "    \"broadcaster and radio and television administrator\",\n",
    "    \"BBC broadcaster and transatlantic commentator\",\n",
    "    \"first regular broadcaster on CBC Television\",\n",
    "    \"news broadcaster and television presenter\",\n",
    "    \"broadcaster and public address announcer\",\n",
    "    \"and broadcaster for the Cincinnati Reds\",\n",
    "    \"broadcaster and cultural administrator\",\n",
    "    \"radio broadcaster and television host\",\n",
    "    \"broadcaster and television executive\",\n",
    "    \"radio broadcaster and documentarian\",\n",
    "    \"radio broadcaster and food critic\",\n",
    "    \"radio and television broadcaster\",\n",
    "    \"newsreader and radio broadcaster\",\n",
    "    \"television and radio broadcaster\",\n",
    "    \"broadcaster and theatre producer\",\n",
    "    \"newspaper editor and broadcaster\",\n",
    "    \"broadcaster and television host\",\n",
    "    \"radio broadcaster and announcer\",\n",
    "    \"radio broadcaster and executive\",\n",
    "    \"broadcaster and music arranger\",\n",
    "    \"correspondent and broadcaster\",\n",
    "    \"music critic and broadcaster\",\n",
    "    \"Papua New radio broadcaster\",\n",
    "    \"news reader and broadcaster\",\n",
    "    \"broadcaster and television\",\n",
    "    \"biographer and broadcaster\",\n",
    "    \"and television broadcaster\",\n",
    "    \"TV and radio broadcaster\",\n",
    "    \"Hall of Fame broadcaster\",\n",
    "    \"pirate radio broadcaster\",\n",
    "    \"and broadcaster known as\",\n",
    "    \"broadcaster and theatre\",\n",
    "    \"television broadcaster\",\n",
    "    \"broadcaster and anchor\",\n",
    "    \"cultural administrator\",\n",
    "    \"radio news broadcaster\",\n",
    "    \"BBC radio broadcaster\",\n",
    "    \"and radio broadcaster\",\n",
    "    \"radio broadcaster and\",\n",
    "    \"outdoors broadcaster\",\n",
    "    \"broadcaster for CBC\",\n",
    "    \"broadcaster and CEO\",\n",
    "    \"radio  broadcaster\",\n",
    "    \"radio broadcaster\",\n",
    "    \"Māori broadcaster\",\n",
    "    \"news broadcaster\",\n",
    "    \"BBC broadcaster\",\n",
    "    \"broadcaster for\",\n",
    "    \"broadcaster and\",\n",
    "    \"and broadcaster\",\n",
    "    \"broadcaster\",\n",
    "]\n",
    "sports = [\n",
    "    \"for the Pittsburgh Steelers\",\n",
    "    \"yo yo world champion\",\n",
    "]\n",
    "sciences = [\n",
    "    \"scientific divulgator\",\n",
    "]\n",
    "\n",
    "business_farming = []\n",
    "academia_humanities = []\n",
    "law_enf_military_operator = []\n",
    "spiritual = []\n",
    "social = []\n",
    "crime = []\n",
    "event_record_other = []\n",
    "other_species = []"
   ]
  },
  {
   "cell_type": "markdown",
   "id": "4fd3bace",
   "metadata": {},
   "source": [
    "#### Creating `known_for_dict` Dictionary of Category Keys and Specific Role Lists of Values"
   ]
  },
  {
   "cell_type": "code",
   "execution_count": 94,
   "id": "4bec17db",
   "metadata": {},
   "outputs": [
    {
     "data": {
      "application/javascript": [
       "\n",
       "            setTimeout(function() {\n",
       "                var nbb_cell_id = 94;\n",
       "                var nbb_unformatted_code = \"# Combining separate lists into one dictionary\\nknown_for_dict = {\\n    \\\"social\\\": social,\\n    \\\"spiritual\\\": spiritual,\\n    \\\"academia_humanities\\\": academia_humanities,\\n    \\\"business_farming\\\": business_farming,\\n    \\\"sciences\\\": sciences,\\n    \\\"politics_govt_law\\\": politics_govt_law,\\n    \\\"law_enf_military_operator\\\": law_enf_military_operator,\\n    \\\"crime\\\": crime,\\n    \\\"event_record_other\\\": event_record_other,\\n    \\\"other_species\\\": other_species,\\n    \\\"arts\\\": arts,\\n    \\\"sports\\\": sports,\\n}\";\n",
       "                var nbb_formatted_code = \"# Combining separate lists into one dictionary\\nknown_for_dict = {\\n    \\\"social\\\": social,\\n    \\\"spiritual\\\": spiritual,\\n    \\\"academia_humanities\\\": academia_humanities,\\n    \\\"business_farming\\\": business_farming,\\n    \\\"sciences\\\": sciences,\\n    \\\"politics_govt_law\\\": politics_govt_law,\\n    \\\"law_enf_military_operator\\\": law_enf_military_operator,\\n    \\\"crime\\\": crime,\\n    \\\"event_record_other\\\": event_record_other,\\n    \\\"other_species\\\": other_species,\\n    \\\"arts\\\": arts,\\n    \\\"sports\\\": sports,\\n}\";\n",
       "                var nbb_cells = Jupyter.notebook.get_cells();\n",
       "                for (var i = 0; i < nbb_cells.length; ++i) {\n",
       "                    if (nbb_cells[i].input_prompt_number == nbb_cell_id) {\n",
       "                        if (nbb_cells[i].get_text() == nbb_unformatted_code) {\n",
       "                             nbb_cells[i].set_text(nbb_formatted_code);\n",
       "                        }\n",
       "                        break;\n",
       "                    }\n",
       "                }\n",
       "            }, 500);\n",
       "            "
      ],
      "text/plain": [
       "<IPython.core.display.Javascript object>"
      ]
     },
     "metadata": {},
     "output_type": "display_data"
    }
   ],
   "source": [
    "# Combining separate lists into one dictionary\n",
    "known_for_dict = {\n",
    "    \"social\": social,\n",
    "    \"spiritual\": spiritual,\n",
    "    \"academia_humanities\": academia_humanities,\n",
    "    \"business_farming\": business_farming,\n",
    "    \"sciences\": sciences,\n",
    "    \"politics_govt_law\": politics_govt_law,\n",
    "    \"law_enf_military_operator\": law_enf_military_operator,\n",
    "    \"crime\": crime,\n",
    "    \"event_record_other\": event_record_other,\n",
    "    \"other_species\": other_species,\n",
    "    \"arts\": arts,\n",
    "    \"sports\": sports,\n",
    "}"
   ]
  },
  {
   "cell_type": "markdown",
   "id": "4367ff11",
   "metadata": {},
   "source": [
    "#### Extracting Category from `info_2`"
   ]
  },
  {
   "cell_type": "code",
   "execution_count": 95,
   "id": "a76633cd",
   "metadata": {},
   "outputs": [
    {
     "name": "stdout",
     "output_type": "stream",
     "text": [
      "CPU times: total: 28.6 s\n",
      "Wall time: 28.6 s\n"
     ]
    },
    {
     "data": {
      "text/html": [
       "<div>\n",
       "<style scoped>\n",
       "    .dataframe tbody tr th:only-of-type {\n",
       "        vertical-align: middle;\n",
       "    }\n",
       "\n",
       "    .dataframe tbody tr th {\n",
       "        vertical-align: top;\n",
       "    }\n",
       "\n",
       "    .dataframe thead th {\n",
       "        text-align: right;\n",
       "    }\n",
       "</style>\n",
       "<table border=\"1\" class=\"dataframe\">\n",
       "  <thead>\n",
       "    <tr style=\"text-align: right;\">\n",
       "      <th></th>\n",
       "      <th>day</th>\n",
       "      <th>name</th>\n",
       "      <th>info</th>\n",
       "      <th>link</th>\n",
       "      <th>num_references</th>\n",
       "      <th>year</th>\n",
       "      <th>month</th>\n",
       "      <th>info_parenth</th>\n",
       "      <th>info_1</th>\n",
       "      <th>info_2</th>\n",
       "      <th>info_3</th>\n",
       "      <th>info_4</th>\n",
       "      <th>info_5</th>\n",
       "      <th>info_6</th>\n",
       "      <th>info_7</th>\n",
       "      <th>info_8</th>\n",
       "      <th>info_9</th>\n",
       "      <th>info_10</th>\n",
       "      <th>info_11</th>\n",
       "      <th>age</th>\n",
       "      <th>cause_of_death</th>\n",
       "      <th>place_1</th>\n",
       "      <th>place_2</th>\n",
       "      <th>info_parenth_copy</th>\n",
       "      <th>log_num_references</th>\n",
       "      <th>sciences</th>\n",
       "      <th>social</th>\n",
       "      <th>spiritual</th>\n",
       "      <th>academia_humanities</th>\n",
       "      <th>business_farming</th>\n",
       "      <th>arts</th>\n",
       "      <th>sports</th>\n",
       "      <th>law_enf_military_operator</th>\n",
       "      <th>politics_govt_law</th>\n",
       "      <th>crime</th>\n",
       "      <th>event_record_other</th>\n",
       "      <th>other_species</th>\n",
       "      <th>num_categories</th>\n",
       "    </tr>\n",
       "  </thead>\n",
       "  <tbody>\n",
       "    <tr>\n",
       "      <th>62235</th>\n",
       "      <td>16</td>\n",
       "      <td>Ali Osman</td>\n",
       "      <td>, 58–59, Sudanese composer and conductor.</td>\n",
       "      <td>https://en.wikipedia.org/wiki/Ali_Osman_(composer)</td>\n",
       "      <td>4</td>\n",
       "      <td>2017</td>\n",
       "      <td>February</td>\n",
       "      <td>None</td>\n",
       "      <td>None</td>\n",
       "      <td></td>\n",
       "      <td>None</td>\n",
       "      <td>None</td>\n",
       "      <td>None</td>\n",
       "      <td>None</td>\n",
       "      <td>None</td>\n",
       "      <td>None</td>\n",
       "      <td>None</td>\n",
       "      <td>None</td>\n",
       "      <td>None</td>\n",
       "      <td>58.5</td>\n",
       "      <td>None</td>\n",
       "      <td>Sudan</td>\n",
       "      <td>None</td>\n",
       "      <td>None</td>\n",
       "      <td>1.609438</td>\n",
       "      <td>0</td>\n",
       "      <td>0</td>\n",
       "      <td>0</td>\n",
       "      <td>0</td>\n",
       "      <td>0</td>\n",
       "      <td>1</td>\n",
       "      <td>0</td>\n",
       "      <td>0</td>\n",
       "      <td>0</td>\n",
       "      <td>0</td>\n",
       "      <td>0</td>\n",
       "      <td>0</td>\n",
       "      <td>1</td>\n",
       "    </tr>\n",
       "    <tr>\n",
       "      <th>21378</th>\n",
       "      <td>10</td>\n",
       "      <td>Val Guest</td>\n",
       "      <td>, 94, British film writer and director .</td>\n",
       "      <td>https://en.wikipedia.org/wiki/Val_Guest</td>\n",
       "      <td>12</td>\n",
       "      <td>2006</td>\n",
       "      <td>May</td>\n",
       "      <td>None</td>\n",
       "      <td>None</td>\n",
       "      <td></td>\n",
       "      <td>None</td>\n",
       "      <td>None</td>\n",
       "      <td>None</td>\n",
       "      <td>None</td>\n",
       "      <td>None</td>\n",
       "      <td>None</td>\n",
       "      <td>None</td>\n",
       "      <td>None</td>\n",
       "      <td>None</td>\n",
       "      <td>94.0</td>\n",
       "      <td>None</td>\n",
       "      <td>United Kingdom of Great Britain and Northern Ireland</td>\n",
       "      <td>None</td>\n",
       "      <td>None</td>\n",
       "      <td>2.564949</td>\n",
       "      <td>0</td>\n",
       "      <td>0</td>\n",
       "      <td>0</td>\n",
       "      <td>0</td>\n",
       "      <td>0</td>\n",
       "      <td>1</td>\n",
       "      <td>0</td>\n",
       "      <td>0</td>\n",
       "      <td>0</td>\n",
       "      <td>0</td>\n",
       "      <td>0</td>\n",
       "      <td>0</td>\n",
       "      <td>1</td>\n",
       "    </tr>\n",
       "  </tbody>\n",
       "</table>\n",
       "</div>"
      ],
      "text/plain": [
       "      day       name                                       info  \\\n",
       "62235  16  Ali Osman  , 58–59, Sudanese composer and conductor.   \n",
       "21378  10  Val Guest   , 94, British film writer and director .   \n",
       "\n",
       "                                                     link  num_references  \\\n",
       "62235  https://en.wikipedia.org/wiki/Ali_Osman_(composer)               4   \n",
       "21378             https://en.wikipedia.org/wiki/Val_Guest              12   \n",
       "\n",
       "       year     month info_parenth info_1 info_2 info_3 info_4 info_5 info_6  \\\n",
       "62235  2017  February         None   None          None   None   None   None   \n",
       "21378  2006       May         None   None          None   None   None   None   \n",
       "\n",
       "      info_7 info_8 info_9 info_10 info_11   age cause_of_death  \\\n",
       "62235   None   None   None    None    None  58.5           None   \n",
       "21378   None   None   None    None    None  94.0           None   \n",
       "\n",
       "                                                    place_1 place_2  \\\n",
       "62235                                                 Sudan    None   \n",
       "21378  United Kingdom of Great Britain and Northern Ireland    None   \n",
       "\n",
       "      info_parenth_copy  log_num_references  sciences  social  spiritual  \\\n",
       "62235              None            1.609438         0       0          0   \n",
       "21378              None            2.564949         0       0          0   \n",
       "\n",
       "       academia_humanities  business_farming  arts  sports  \\\n",
       "62235                    0                 0     1       0   \n",
       "21378                    0                 0     1       0   \n",
       "\n",
       "       law_enf_military_operator  politics_govt_law  crime  \\\n",
       "62235                          0                  0      0   \n",
       "21378                          0                  0      0   \n",
       "\n",
       "       event_record_other  other_species  num_categories  \n",
       "62235                   0              0               1  \n",
       "21378                   0              0               1  "
      ]
     },
     "execution_count": 95,
     "metadata": {},
     "output_type": "execute_result"
    },
    {
     "data": {
      "application/javascript": [
       "\n",
       "            setTimeout(function() {\n",
       "                var nbb_cell_id = 95;\n",
       "                var nbb_unformatted_code = \"%%time\\n\\n# Dictionary version\\nsearch_dict = known_for_dict\\n\\n# Column to check\\ncolumn = 'info_2'\\n\\n# Dataframe\\ndataframe = df[column].notna()\\n\\n# For loop to find role in column and extract it as category\\nfor category, category_lst in search_dict.items():\\n    for role in category_lst:\\n        for index in dataframe.index:\\n            item = df.loc[index, column]\\n            if item:\\n                if role in item:\\n                    df.loc[index, category] = 1\\n                    df.loc[index, column] = item.replace(role, '').strip()\\n\\n# Updating num_categories\\ndf[\\\"num_categories\\\"] = df[known_for_dict.keys()].sum(axis=1)\\n\\n# Checking a sample of rows\\ndf[df['arts'] ==1].sample(2)\";\n",
       "                var nbb_formatted_code = \"%%time\\n\\n# Dictionary version\\nsearch_dict = known_for_dict\\n\\n# Column to check\\ncolumn = 'info_2'\\n\\n# Dataframe\\ndataframe = df[column].notna()\\n\\n# For loop to find role in column and extract it as category\\nfor category, category_lst in search_dict.items():\\n    for role in category_lst:\\n        for index in dataframe.index:\\n            item = df.loc[index, column]\\n            if item:\\n                if role in item:\\n                    df.loc[index, category] = 1\\n                    df.loc[index, column] = item.replace(role, '').strip()\\n\\n# Updating num_categories\\ndf[\\\"num_categories\\\"] = df[known_for_dict.keys()].sum(axis=1)\\n\\n# Checking a sample of rows\\ndf[df['arts'] ==1].sample(2)\";\n",
       "                var nbb_cells = Jupyter.notebook.get_cells();\n",
       "                for (var i = 0; i < nbb_cells.length; ++i) {\n",
       "                    if (nbb_cells[i].input_prompt_number == nbb_cell_id) {\n",
       "                        if (nbb_cells[i].get_text() == nbb_unformatted_code) {\n",
       "                             nbb_cells[i].set_text(nbb_formatted_code);\n",
       "                        }\n",
       "                        break;\n",
       "                    }\n",
       "                }\n",
       "            }, 500);\n",
       "            "
      ],
      "text/plain": [
       "<IPython.core.display.Javascript object>"
      ]
     },
     "metadata": {},
     "output_type": "display_data"
    }
   ],
   "source": [
    "%%time\n",
    "\n",
    "# Dictionary version\n",
    "search_dict = known_for_dict\n",
    "\n",
    "# Column to check\n",
    "column = 'info_2'\n",
    "\n",
    "# Dataframe\n",
    "dataframe = df[column].notna()\n",
    "\n",
    "# For loop to find role in column and extract it as category\n",
    "for category, category_lst in search_dict.items():\n",
    "    for role in category_lst:\n",
    "        for index in dataframe.index:\n",
    "            item = df.loc[index, column]\n",
    "            if item:\n",
    "                if role in item:\n",
    "                    df.loc[index, category] = 1\n",
    "                    df.loc[index, column] = item.replace(role, '').strip()\n",
    "\n",
    "# Updating num_categories\n",
    "df[\"num_categories\"] = df[known_for_dict.keys()].sum(axis=1)\n",
    "\n",
    "# Checking a sample of rows\n",
    "df[df['arts'] ==1].sample(2)"
   ]
  },
  {
   "cell_type": "markdown",
   "id": "d541f55b",
   "metadata": {},
   "source": [
    "#### Checking the Number of Rows without a First Category"
   ]
  },
  {
   "cell_type": "code",
   "execution_count": 96,
   "id": "02d6070c",
   "metadata": {},
   "outputs": [
    {
     "name": "stdout",
     "output_type": "stream",
     "text": [
      "There are 26099 entries without any known_for category.\n"
     ]
    },
    {
     "data": {
      "application/javascript": [
       "\n",
       "            setTimeout(function() {\n",
       "                var nbb_cell_id = 96;\n",
       "                var nbb_unformatted_code = \"# Checking the number of rows without a first category\\nprint(\\n    f'There are {len(df[df[\\\"num_categories\\\"]==0])} entries without any known_for category.'\\n)\";\n",
       "                var nbb_formatted_code = \"# Checking the number of rows without a first category\\nprint(\\n    f'There are {len(df[df[\\\"num_categories\\\"]==0])} entries without any known_for category.'\\n)\";\n",
       "                var nbb_cells = Jupyter.notebook.get_cells();\n",
       "                for (var i = 0; i < nbb_cells.length; ++i) {\n",
       "                    if (nbb_cells[i].input_prompt_number == nbb_cell_id) {\n",
       "                        if (nbb_cells[i].get_text() == nbb_unformatted_code) {\n",
       "                             nbb_cells[i].set_text(nbb_formatted_code);\n",
       "                        }\n",
       "                        break;\n",
       "                    }\n",
       "                }\n",
       "            }, 500);\n",
       "            "
      ],
      "text/plain": [
       "<IPython.core.display.Javascript object>"
      ]
     },
     "metadata": {},
     "output_type": "display_data"
    }
   ],
   "source": [
    "# Checking the number of rows without a first category\n",
    "print(\n",
    "    f'There are {len(df[df[\"num_categories\"]==0])} entries without any known_for category.'\n",
    ")"
   ]
  },
  {
   "cell_type": "markdown",
   "id": "0a4df427",
   "metadata": {},
   "source": [
    "#### Observations:\n",
    "- We will proceed to rebuild `known_for_dict` for the next iteration."
   ]
  },
  {
   "cell_type": "markdown",
   "id": "8228184c",
   "metadata": {},
   "source": [
    "#### Finding `known_for` Roles in `info_2`"
   ]
  },
  {
   "cell_type": "code",
   "execution_count": 97,
   "id": "25f106e2",
   "metadata": {},
   "outputs": [
    {
     "data": {
      "application/javascript": [
       "\n",
       "            setTimeout(function() {\n",
       "                var nbb_cell_id = 97;\n",
       "                var nbb_unformatted_code = \"# Obtaining values for column and their counts\\nroles_list = df[\\\"info_2\\\"].value_counts(ascending=True).index.tolist()\";\n",
       "                var nbb_formatted_code = \"# Obtaining values for column and their counts\\nroles_list = df[\\\"info_2\\\"].value_counts(ascending=True).index.tolist()\";\n",
       "                var nbb_cells = Jupyter.notebook.get_cells();\n",
       "                for (var i = 0; i < nbb_cells.length; ++i) {\n",
       "                    if (nbb_cells[i].input_prompt_number == nbb_cell_id) {\n",
       "                        if (nbb_cells[i].get_text() == nbb_unformatted_code) {\n",
       "                             nbb_cells[i].set_text(nbb_formatted_code);\n",
       "                        }\n",
       "                        break;\n",
       "                    }\n",
       "                }\n",
       "            }, 500);\n",
       "            "
      ],
      "text/plain": [
       "<IPython.core.display.Javascript object>"
      ]
     },
     "metadata": {},
     "output_type": "display_data"
    }
   ],
   "source": [
    "# Obtaining values for column and their counts\n",
    "roles_list = df[\"info_2\"].value_counts(ascending=True).index.tolist()"
   ]
  },
  {
   "cell_type": "code",
   "execution_count": 98,
   "id": "a6a76f0f",
   "metadata": {},
   "outputs": [
    {
     "data": {
      "application/javascript": [
       "\n",
       "            setTimeout(function() {\n",
       "                var nbb_cell_id = 98;\n",
       "                var nbb_unformatted_code = \"# # Code to check each value\\n# roles_list.pop()\";\n",
       "                var nbb_formatted_code = \"# # Code to check each value\\n# roles_list.pop()\";\n",
       "                var nbb_cells = Jupyter.notebook.get_cells();\n",
       "                for (var i = 0; i < nbb_cells.length; ++i) {\n",
       "                    if (nbb_cells[i].input_prompt_number == nbb_cell_id) {\n",
       "                        if (nbb_cells[i].get_text() == nbb_unformatted_code) {\n",
       "                             nbb_cells[i].set_text(nbb_formatted_code);\n",
       "                        }\n",
       "                        break;\n",
       "                    }\n",
       "                }\n",
       "            }, 500);\n",
       "            "
      ],
      "text/plain": [
       "<IPython.core.display.Javascript object>"
      ]
     },
     "metadata": {},
     "output_type": "display_data"
    }
   ],
   "source": [
    "# # Code to check each value\n",
    "# roles_list.pop()"
   ]
  },
  {
   "cell_type": "code",
   "execution_count": 99,
   "id": "dee9b098",
   "metadata": {},
   "outputs": [
    {
     "data": {
      "application/javascript": [
       "\n",
       "            setTimeout(function() {\n",
       "                var nbb_cell_id = 99;\n",
       "                var nbb_unformatted_code = \"# # Create specific_roles_list for above popped value\\n# specific_roles_list = (\\n#     df.loc[\\n#         [\\n#             index\\n#             for index in df[df[\\\"info_2\\\"].notna()].index\\n#             if \\\"scholar\\\" in df.loc[index, \\\"info_2\\\"]\\n#         ],\\n#         \\\"info_2\\\",\\n#     ]\\n#     .value_counts()\\n#     .index.tolist()\\n# )\";\n",
       "                var nbb_formatted_code = \"# # Create specific_roles_list for above popped value\\n# specific_roles_list = (\\n#     df.loc[\\n#         [\\n#             index\\n#             for index in df[df[\\\"info_2\\\"].notna()].index\\n#             if \\\"scholar\\\" in df.loc[index, \\\"info_2\\\"]\\n#         ],\\n#         \\\"info_2\\\",\\n#     ]\\n#     .value_counts()\\n#     .index.tolist()\\n# )\";\n",
       "                var nbb_cells = Jupyter.notebook.get_cells();\n",
       "                for (var i = 0; i < nbb_cells.length; ++i) {\n",
       "                    if (nbb_cells[i].input_prompt_number == nbb_cell_id) {\n",
       "                        if (nbb_cells[i].get_text() == nbb_unformatted_code) {\n",
       "                             nbb_cells[i].set_text(nbb_formatted_code);\n",
       "                        }\n",
       "                        break;\n",
       "                    }\n",
       "                }\n",
       "            }, 500);\n",
       "            "
      ],
      "text/plain": [
       "<IPython.core.display.Javascript object>"
      ]
     },
     "metadata": {},
     "output_type": "display_data"
    }
   ],
   "source": [
    "# # Create specific_roles_list for above popped value\n",
    "# specific_roles_list = (\n",
    "#     df.loc[\n",
    "#         [\n",
    "#             index\n",
    "#             for index in df[df[\"info_2\"].notna()].index\n",
    "#             if \"scholar\" in df.loc[index, \"info_2\"]\n",
    "#         ],\n",
    "#         \"info_2\",\n",
    "#     ]\n",
    "#     .value_counts()\n",
    "#     .index.tolist()\n",
    "# )"
   ]
  },
  {
   "cell_type": "code",
   "execution_count": 100,
   "id": "3cb3d782",
   "metadata": {},
   "outputs": [
    {
     "data": {
      "application/javascript": [
       "\n",
       "            setTimeout(function() {\n",
       "                var nbb_cell_id = 100;\n",
       "                var nbb_unformatted_code = \"# # Code to check each specific value\\n# specific_roles_list.pop()\";\n",
       "                var nbb_formatted_code = \"# # Code to check each specific value\\n# specific_roles_list.pop()\";\n",
       "                var nbb_cells = Jupyter.notebook.get_cells();\n",
       "                for (var i = 0; i < nbb_cells.length; ++i) {\n",
       "                    if (nbb_cells[i].input_prompt_number == nbb_cell_id) {\n",
       "                        if (nbb_cells[i].get_text() == nbb_unformatted_code) {\n",
       "                             nbb_cells[i].set_text(nbb_formatted_code);\n",
       "                        }\n",
       "                        break;\n",
       "                    }\n",
       "                }\n",
       "            }, 500);\n",
       "            "
      ],
      "text/plain": [
       "<IPython.core.display.Javascript object>"
      ]
     },
     "metadata": {},
     "output_type": "display_data"
    }
   ],
   "source": [
    "# # Code to check each specific value\n",
    "# specific_roles_list.pop()"
   ]
  },
  {
   "cell_type": "code",
   "execution_count": 101,
   "id": "2989913e",
   "metadata": {},
   "outputs": [
    {
     "data": {
      "application/javascript": [
       "\n",
       "            setTimeout(function() {\n",
       "                var nbb_cell_id = 101;\n",
       "                var nbb_unformatted_code = \"# # Example code to quick-screen values that may overlap categories\\n# df.loc[[index for index in df.index if \\\"biblical scholar\\\" in df.loc[index, \\\"info\\\"]]]\";\n",
       "                var nbb_formatted_code = \"# # Example code to quick-screen values that may overlap categories\\n# df.loc[[index for index in df.index if \\\"biblical scholar\\\" in df.loc[index, \\\"info\\\"]]]\";\n",
       "                var nbb_cells = Jupyter.notebook.get_cells();\n",
       "                for (var i = 0; i < nbb_cells.length; ++i) {\n",
       "                    if (nbb_cells[i].input_prompt_number == nbb_cell_id) {\n",
       "                        if (nbb_cells[i].get_text() == nbb_unformatted_code) {\n",
       "                             nbb_cells[i].set_text(nbb_formatted_code);\n",
       "                        }\n",
       "                        break;\n",
       "                    }\n",
       "                }\n",
       "            }, 500);\n",
       "            "
      ],
      "text/plain": [
       "<IPython.core.display.Javascript object>"
      ]
     },
     "metadata": {},
     "output_type": "display_data"
    }
   ],
   "source": [
    "# # Example code to quick-screen values that may overlap categories\n",
    "# df.loc[[index for index in df.index if \"biblical scholar\" in df.loc[index, \"info\"]]]"
   ]
  },
  {
   "cell_type": "code",
   "execution_count": 102,
   "id": "e4657920",
   "metadata": {},
   "outputs": [
    {
     "data": {
      "application/javascript": [
       "\n",
       "            setTimeout(function() {\n",
       "                var nbb_cell_id = 102;\n",
       "                var nbb_unformatted_code = \"# # Example code to quick-check a specific entry\\n# df[df[\\\"info_2\\\"] == \\\"feminist scholar\\\"]\";\n",
       "                var nbb_formatted_code = \"# # Example code to quick-check a specific entry\\n# df[df[\\\"info_2\\\"] == \\\"feminist scholar\\\"]\";\n",
       "                var nbb_cells = Jupyter.notebook.get_cells();\n",
       "                for (var i = 0; i < nbb_cells.length; ++i) {\n",
       "                    if (nbb_cells[i].input_prompt_number == nbb_cell_id) {\n",
       "                        if (nbb_cells[i].get_text() == nbb_unformatted_code) {\n",
       "                             nbb_cells[i].set_text(nbb_formatted_code);\n",
       "                        }\n",
       "                        break;\n",
       "                    }\n",
       "                }\n",
       "            }, 500);\n",
       "            "
      ],
      "text/plain": [
       "<IPython.core.display.Javascript object>"
      ]
     },
     "metadata": {},
     "output_type": "display_data"
    }
   ],
   "source": [
    "# # Example code to quick-check a specific entry\n",
    "# df[df[\"info_2\"] == \"feminist scholar\"]"
   ]
  },
  {
   "cell_type": "markdown",
   "id": "56eaa98f",
   "metadata": {},
   "source": [
    "#### Creating Lists for Each `known_for` Category"
   ]
  },
  {
   "cell_type": "code",
   "execution_count": 103,
   "id": "1c8d9646",
   "metadata": {},
   "outputs": [
    {
     "data": {
      "application/javascript": [
       "\n",
       "            setTimeout(function() {\n",
       "                var nbb_cell_id = 103;\n",
       "                var nbb_unformatted_code = \"# Creating lists for each category\\npolitics_govt_law = [\\n    \\\"advocate for education reform\\\",\\n]\\n\\narts = []\\nsports = []\\nsciences = [\\n    \\\"Ayurvedic\\\",\\n    \\\"mass communications\\\",\\n]\\n\\nbusiness_farming = []\\nacademia_humanities = [\\n    \\\"literary scholar and founder of Reader response criticism\\\",\\n    \\\"and scholar in medieval studies and palaeography\\\",\\n    \\\"classical scholar who specialized in mythology\\\",\\n    \\\"scholar known for writings on the Iroquois\\\",\\n    \\\"philologist and religious studies scholar\\\",\\n    \\\"librarian and scholar of library science\\\",\\n    \\\"literary scholar of Native literature\\\",\\n    \\\"musicologist and Shakespeare scholar\\\",\\n    \\\"and folklorist and literary scholar\\\",\\n    \\\"literary scholar and media theorist\\\",\\n    \\\"and folklorist and literary scholar\\\",\\n    \\\"media scholar and cultural theorist\\\",\\n    \\\"scholar and historical revisionist\\\",\\n    \\\"museum director and Judaic scholar\\\",\\n    \\\"literary scholar and social critic\\\",\\n    \\\"language scholar and lexicographer\\\",\\n    \\\"scholar of the Caucasian cultures\\\",\\n    \\\"scholar of continental philosophy\\\",\\n    \\\"literary scholar and medievalist\\\",\\n    \\\"folklorist and literary scholar\\\",\\n    \\\"scholar of renaissance humanism\\\",\\n    \\\"literary scholar and redologist\\\",\\n    \\\"librarian and Tolkien scholar\\\",\\n    \\\"and Dead Sea Scrolls scholar\\\",\\n    \\\"scholar of Semitic languages\\\",\\n    \\\"scholar in Buddhist studies\\\",\\n    \\\"Sufism prelate and scholar\\\",\\n    \\\"scholar and educationalist\\\",\\n    \\\"scholar of Asian languages\\\",\\n    \\\"disability studies scholar\\\",\\n    \\\"dance scholar and curator\\\",\\n    \\\"and New Testament scholar\\\",\\n    \\\"communication scholar and\\\",\\n    \\\"scholar of gender studies\\\",\\n    \\\"scholar of historiography\\\",\\n    \\\"scholar and educationist\\\",\\n    \\\"scholar and bioethicist\\\",\\n    \\\"orientalist and scholar\\\",\\n    \\\"scholar and Perak mufti\\\",\\n    \\\"scholar of ancient law\\\",\\n    \\\"and scholar of Judaism\\\",\\n    \\\"scholar and specialist\\\",\\n    \\\"gender studies scholar\\\",\\n    \\\"researcher and scholar\\\",\\n    \\\"scholar of literature\\\",\\n    \\\"Shakespearean scholar\\\",\\n    \\\"and theology scholar\\\",\\n    \\\"scholar and preacher\\\",\\n    \\\"literary scholar and\\\",\\n    \\\"and Napoleon scholar\\\",\\n    \\\"and literary scholar\\\",\\n    \\\"biblical scholar and\\\",\\n    \\\"and biblical scholar\\\",\\n    \\\"and Biblical scholar\\\",\\n    \\\"medievalist scholar\\\",\\n    \\\"Tlingit scholar and\\\",\\n    \\\"scholar of medieval\\\",\\n    \\\"Chaucer scholar and\\\",\\n    \\\"scholar and curator\\\",\\n    \\\"Renaissance scholar\\\",\\n    \\\"scholar of history\\\",\\n    \\\"folk music scholar\\\",\\n    \\\"scholar of studies\\\",\\n    \\\"manuscript scholar\\\",\\n    \\\"literature scholar\\\",\\n    \\\"Torah scholar and\\\",\\n    \\\"rare book scholar\\\",\\n    \\\"Holocaust scholar\\\",\\n    \\\"holocaust scholar\\\",\\n    \\\"education scholar\\\",\\n    \\\"classical scholar\\\",\\n    \\\"Mayanist scholar\\\",\\n    \\\"language scholar\\\",\\n    \\\"medieval scholar\\\",\\n    \\\"scholar and Sufi\\\",\\n    \\\"oriental scholar\\\",\\n    \\\"Semitics scholar\\\",\\n    \\\"religion scholar\\\",\\n    \\\"classics scholar\\\",\\n    \\\"literary scholar\\\",\\n    \\\"Sanskrit scholar\\\",\\n    \\\"theatre scholar\\\",\\n    \\\"library scholar\\\",\\n    \\\"Judaica scholar\\\",\\n    \\\"Yolngu scholar\\\",\\n    \\\"comics scholar\\\",\\n    \\\"Bible scholar\\\",\\n    \\\"Saxon scholar\\\",\\n    \\\"Urdu scholar\\\",\\n    \\\"scholar of\\\",\\n    \\\"and scholar\\\",\\n    \\\"scholar and\\\",\\n    \\\"scholar\\\",\\n]\\nlaw_enf_military_operator = []\\nspiritual = [\\n    \\\"Jainist and Buddhist\\\",\\n    \\\"talmudic\\\",\\n    \\\"Talmudic\\\",\\n    \\\"Talmud\\\",\\n    \\\"Salafi\\\",\\n    \\\"hadith\\\",\\n    \\\"Vedic\\\",\\n]\\nsocial = []\\ncrime = []\\nevent_record_other = []\\nother_species = []\";\n",
       "                var nbb_formatted_code = \"# Creating lists for each category\\npolitics_govt_law = [\\n    \\\"advocate for education reform\\\",\\n]\\n\\narts = []\\nsports = []\\nsciences = [\\n    \\\"Ayurvedic\\\",\\n    \\\"mass communications\\\",\\n]\\n\\nbusiness_farming = []\\nacademia_humanities = [\\n    \\\"literary scholar and founder of Reader response criticism\\\",\\n    \\\"and scholar in medieval studies and palaeography\\\",\\n    \\\"classical scholar who specialized in mythology\\\",\\n    \\\"scholar known for writings on the Iroquois\\\",\\n    \\\"philologist and religious studies scholar\\\",\\n    \\\"librarian and scholar of library science\\\",\\n    \\\"literary scholar of Native literature\\\",\\n    \\\"musicologist and Shakespeare scholar\\\",\\n    \\\"and folklorist and literary scholar\\\",\\n    \\\"literary scholar and media theorist\\\",\\n    \\\"and folklorist and literary scholar\\\",\\n    \\\"media scholar and cultural theorist\\\",\\n    \\\"scholar and historical revisionist\\\",\\n    \\\"museum director and Judaic scholar\\\",\\n    \\\"literary scholar and social critic\\\",\\n    \\\"language scholar and lexicographer\\\",\\n    \\\"scholar of the Caucasian cultures\\\",\\n    \\\"scholar of continental philosophy\\\",\\n    \\\"literary scholar and medievalist\\\",\\n    \\\"folklorist and literary scholar\\\",\\n    \\\"scholar of renaissance humanism\\\",\\n    \\\"literary scholar and redologist\\\",\\n    \\\"librarian and Tolkien scholar\\\",\\n    \\\"and Dead Sea Scrolls scholar\\\",\\n    \\\"scholar of Semitic languages\\\",\\n    \\\"scholar in Buddhist studies\\\",\\n    \\\"Sufism prelate and scholar\\\",\\n    \\\"scholar and educationalist\\\",\\n    \\\"scholar of Asian languages\\\",\\n    \\\"disability studies scholar\\\",\\n    \\\"dance scholar and curator\\\",\\n    \\\"and New Testament scholar\\\",\\n    \\\"communication scholar and\\\",\\n    \\\"scholar of gender studies\\\",\\n    \\\"scholar of historiography\\\",\\n    \\\"scholar and educationist\\\",\\n    \\\"scholar and bioethicist\\\",\\n    \\\"orientalist and scholar\\\",\\n    \\\"scholar and Perak mufti\\\",\\n    \\\"scholar of ancient law\\\",\\n    \\\"and scholar of Judaism\\\",\\n    \\\"scholar and specialist\\\",\\n    \\\"gender studies scholar\\\",\\n    \\\"researcher and scholar\\\",\\n    \\\"scholar of literature\\\",\\n    \\\"Shakespearean scholar\\\",\\n    \\\"and theology scholar\\\",\\n    \\\"scholar and preacher\\\",\\n    \\\"literary scholar and\\\",\\n    \\\"and Napoleon scholar\\\",\\n    \\\"and literary scholar\\\",\\n    \\\"biblical scholar and\\\",\\n    \\\"and biblical scholar\\\",\\n    \\\"and Biblical scholar\\\",\\n    \\\"medievalist scholar\\\",\\n    \\\"Tlingit scholar and\\\",\\n    \\\"scholar of medieval\\\",\\n    \\\"Chaucer scholar and\\\",\\n    \\\"scholar and curator\\\",\\n    \\\"Renaissance scholar\\\",\\n    \\\"scholar of history\\\",\\n    \\\"folk music scholar\\\",\\n    \\\"scholar of studies\\\",\\n    \\\"manuscript scholar\\\",\\n    \\\"literature scholar\\\",\\n    \\\"Torah scholar and\\\",\\n    \\\"rare book scholar\\\",\\n    \\\"Holocaust scholar\\\",\\n    \\\"holocaust scholar\\\",\\n    \\\"education scholar\\\",\\n    \\\"classical scholar\\\",\\n    \\\"Mayanist scholar\\\",\\n    \\\"language scholar\\\",\\n    \\\"medieval scholar\\\",\\n    \\\"scholar and Sufi\\\",\\n    \\\"oriental scholar\\\",\\n    \\\"Semitics scholar\\\",\\n    \\\"religion scholar\\\",\\n    \\\"classics scholar\\\",\\n    \\\"literary scholar\\\",\\n    \\\"Sanskrit scholar\\\",\\n    \\\"theatre scholar\\\",\\n    \\\"library scholar\\\",\\n    \\\"Judaica scholar\\\",\\n    \\\"Yolngu scholar\\\",\\n    \\\"comics scholar\\\",\\n    \\\"Bible scholar\\\",\\n    \\\"Saxon scholar\\\",\\n    \\\"Urdu scholar\\\",\\n    \\\"scholar of\\\",\\n    \\\"and scholar\\\",\\n    \\\"scholar and\\\",\\n    \\\"scholar\\\",\\n]\\nlaw_enf_military_operator = []\\nspiritual = [\\n    \\\"Jainist and Buddhist\\\",\\n    \\\"talmudic\\\",\\n    \\\"Talmudic\\\",\\n    \\\"Talmud\\\",\\n    \\\"Salafi\\\",\\n    \\\"hadith\\\",\\n    \\\"Vedic\\\",\\n]\\nsocial = []\\ncrime = []\\nevent_record_other = []\\nother_species = []\";\n",
       "                var nbb_cells = Jupyter.notebook.get_cells();\n",
       "                for (var i = 0; i < nbb_cells.length; ++i) {\n",
       "                    if (nbb_cells[i].input_prompt_number == nbb_cell_id) {\n",
       "                        if (nbb_cells[i].get_text() == nbb_unformatted_code) {\n",
       "                             nbb_cells[i].set_text(nbb_formatted_code);\n",
       "                        }\n",
       "                        break;\n",
       "                    }\n",
       "                }\n",
       "            }, 500);\n",
       "            "
      ],
      "text/plain": [
       "<IPython.core.display.Javascript object>"
      ]
     },
     "metadata": {},
     "output_type": "display_data"
    }
   ],
   "source": [
    "# Creating lists for each category\n",
    "politics_govt_law = [\n",
    "    \"advocate for education reform\",\n",
    "]\n",
    "\n",
    "arts = []\n",
    "sports = []\n",
    "sciences = [\n",
    "    \"Ayurvedic\",\n",
    "    \"mass communications\",\n",
    "]\n",
    "\n",
    "business_farming = []\n",
    "academia_humanities = [\n",
    "    \"literary scholar and founder of Reader response criticism\",\n",
    "    \"and scholar in medieval studies and palaeography\",\n",
    "    \"classical scholar who specialized in mythology\",\n",
    "    \"scholar known for writings on the Iroquois\",\n",
    "    \"philologist and religious studies scholar\",\n",
    "    \"librarian and scholar of library science\",\n",
    "    \"literary scholar of Native literature\",\n",
    "    \"musicologist and Shakespeare scholar\",\n",
    "    \"and folklorist and literary scholar\",\n",
    "    \"literary scholar and media theorist\",\n",
    "    \"and folklorist and literary scholar\",\n",
    "    \"media scholar and cultural theorist\",\n",
    "    \"scholar and historical revisionist\",\n",
    "    \"museum director and Judaic scholar\",\n",
    "    \"literary scholar and social critic\",\n",
    "    \"language scholar and lexicographer\",\n",
    "    \"scholar of the Caucasian cultures\",\n",
    "    \"scholar of continental philosophy\",\n",
    "    \"literary scholar and medievalist\",\n",
    "    \"folklorist and literary scholar\",\n",
    "    \"scholar of renaissance humanism\",\n",
    "    \"literary scholar and redologist\",\n",
    "    \"librarian and Tolkien scholar\",\n",
    "    \"and Dead Sea Scrolls scholar\",\n",
    "    \"scholar of Semitic languages\",\n",
    "    \"scholar in Buddhist studies\",\n",
    "    \"Sufism prelate and scholar\",\n",
    "    \"scholar and educationalist\",\n",
    "    \"scholar of Asian languages\",\n",
    "    \"disability studies scholar\",\n",
    "    \"dance scholar and curator\",\n",
    "    \"and New Testament scholar\",\n",
    "    \"communication scholar and\",\n",
    "    \"scholar of gender studies\",\n",
    "    \"scholar of historiography\",\n",
    "    \"scholar and educationist\",\n",
    "    \"scholar and bioethicist\",\n",
    "    \"orientalist and scholar\",\n",
    "    \"scholar and Perak mufti\",\n",
    "    \"scholar of ancient law\",\n",
    "    \"and scholar of Judaism\",\n",
    "    \"scholar and specialist\",\n",
    "    \"gender studies scholar\",\n",
    "    \"researcher and scholar\",\n",
    "    \"scholar of literature\",\n",
    "    \"Shakespearean scholar\",\n",
    "    \"and theology scholar\",\n",
    "    \"scholar and preacher\",\n",
    "    \"literary scholar and\",\n",
    "    \"and Napoleon scholar\",\n",
    "    \"and literary scholar\",\n",
    "    \"biblical scholar and\",\n",
    "    \"and biblical scholar\",\n",
    "    \"and Biblical scholar\",\n",
    "    \"medievalist scholar\",\n",
    "    \"Tlingit scholar and\",\n",
    "    \"scholar of medieval\",\n",
    "    \"Chaucer scholar and\",\n",
    "    \"scholar and curator\",\n",
    "    \"Renaissance scholar\",\n",
    "    \"scholar of history\",\n",
    "    \"folk music scholar\",\n",
    "    \"scholar of studies\",\n",
    "    \"manuscript scholar\",\n",
    "    \"literature scholar\",\n",
    "    \"Torah scholar and\",\n",
    "    \"rare book scholar\",\n",
    "    \"Holocaust scholar\",\n",
    "    \"holocaust scholar\",\n",
    "    \"education scholar\",\n",
    "    \"classical scholar\",\n",
    "    \"Mayanist scholar\",\n",
    "    \"language scholar\",\n",
    "    \"medieval scholar\",\n",
    "    \"scholar and Sufi\",\n",
    "    \"oriental scholar\",\n",
    "    \"Semitics scholar\",\n",
    "    \"religion scholar\",\n",
    "    \"classics scholar\",\n",
    "    \"literary scholar\",\n",
    "    \"Sanskrit scholar\",\n",
    "    \"theatre scholar\",\n",
    "    \"library scholar\",\n",
    "    \"Judaica scholar\",\n",
    "    \"Yolngu scholar\",\n",
    "    \"comics scholar\",\n",
    "    \"Bible scholar\",\n",
    "    \"Saxon scholar\",\n",
    "    \"Urdu scholar\",\n",
    "    \"scholar of\",\n",
    "    \"and scholar\",\n",
    "    \"scholar and\",\n",
    "    \"scholar\",\n",
    "]\n",
    "law_enf_military_operator = []\n",
    "spiritual = [\n",
    "    \"Jainist and Buddhist\",\n",
    "    \"talmudic\",\n",
    "    \"Talmudic\",\n",
    "    \"Talmud\",\n",
    "    \"Salafi\",\n",
    "    \"hadith\",\n",
    "    \"Vedic\",\n",
    "]\n",
    "social = []\n",
    "crime = []\n",
    "event_record_other = []\n",
    "other_species = []"
   ]
  },
  {
   "cell_type": "markdown",
   "id": "59a356ec",
   "metadata": {},
   "source": [
    "#### Creating `known_for_dict` Dictionary of Category Keys and Specific Role Lists of Values"
   ]
  },
  {
   "cell_type": "code",
   "execution_count": 104,
   "id": "87c14f7c",
   "metadata": {},
   "outputs": [
    {
     "data": {
      "application/javascript": [
       "\n",
       "            setTimeout(function() {\n",
       "                var nbb_cell_id = 104;\n",
       "                var nbb_unformatted_code = \"# Combining separate lists into one dictionary\\nknown_for_dict = {\\n    \\\"social\\\": social,\\n    \\\"spiritual\\\": spiritual,\\n    \\\"academia_humanities\\\": academia_humanities,\\n    \\\"business_farming\\\": business_farming,\\n    \\\"sciences\\\": sciences,\\n    \\\"politics_govt_law\\\": politics_govt_law,\\n    \\\"law_enf_military_operator\\\": law_enf_military_operator,\\n    \\\"crime\\\": crime,\\n    \\\"event_record_other\\\": event_record_other,\\n    \\\"other_species\\\": other_species,\\n    \\\"arts\\\": arts,\\n    \\\"sports\\\": sports,\\n}\";\n",
       "                var nbb_formatted_code = \"# Combining separate lists into one dictionary\\nknown_for_dict = {\\n    \\\"social\\\": social,\\n    \\\"spiritual\\\": spiritual,\\n    \\\"academia_humanities\\\": academia_humanities,\\n    \\\"business_farming\\\": business_farming,\\n    \\\"sciences\\\": sciences,\\n    \\\"politics_govt_law\\\": politics_govt_law,\\n    \\\"law_enf_military_operator\\\": law_enf_military_operator,\\n    \\\"crime\\\": crime,\\n    \\\"event_record_other\\\": event_record_other,\\n    \\\"other_species\\\": other_species,\\n    \\\"arts\\\": arts,\\n    \\\"sports\\\": sports,\\n}\";\n",
       "                var nbb_cells = Jupyter.notebook.get_cells();\n",
       "                for (var i = 0; i < nbb_cells.length; ++i) {\n",
       "                    if (nbb_cells[i].input_prompt_number == nbb_cell_id) {\n",
       "                        if (nbb_cells[i].get_text() == nbb_unformatted_code) {\n",
       "                             nbb_cells[i].set_text(nbb_formatted_code);\n",
       "                        }\n",
       "                        break;\n",
       "                    }\n",
       "                }\n",
       "            }, 500);\n",
       "            "
      ],
      "text/plain": [
       "<IPython.core.display.Javascript object>"
      ]
     },
     "metadata": {},
     "output_type": "display_data"
    }
   ],
   "source": [
    "# Combining separate lists into one dictionary\n",
    "known_for_dict = {\n",
    "    \"social\": social,\n",
    "    \"spiritual\": spiritual,\n",
    "    \"academia_humanities\": academia_humanities,\n",
    "    \"business_farming\": business_farming,\n",
    "    \"sciences\": sciences,\n",
    "    \"politics_govt_law\": politics_govt_law,\n",
    "    \"law_enf_military_operator\": law_enf_military_operator,\n",
    "    \"crime\": crime,\n",
    "    \"event_record_other\": event_record_other,\n",
    "    \"other_species\": other_species,\n",
    "    \"arts\": arts,\n",
    "    \"sports\": sports,\n",
    "}"
   ]
  },
  {
   "cell_type": "markdown",
   "id": "7862551e",
   "metadata": {},
   "source": [
    "#### Extracting Category from `info_2`"
   ]
  },
  {
   "cell_type": "code",
   "execution_count": 105,
   "id": "e29d5f38",
   "metadata": {},
   "outputs": [
    {
     "name": "stdout",
     "output_type": "stream",
     "text": [
      "CPU times: total: 52.2 s\n",
      "Wall time: 52.2 s\n"
     ]
    },
    {
     "data": {
      "text/html": [
       "<div>\n",
       "<style scoped>\n",
       "    .dataframe tbody tr th:only-of-type {\n",
       "        vertical-align: middle;\n",
       "    }\n",
       "\n",
       "    .dataframe tbody tr th {\n",
       "        vertical-align: top;\n",
       "    }\n",
       "\n",
       "    .dataframe thead th {\n",
       "        text-align: right;\n",
       "    }\n",
       "</style>\n",
       "<table border=\"1\" class=\"dataframe\">\n",
       "  <thead>\n",
       "    <tr style=\"text-align: right;\">\n",
       "      <th></th>\n",
       "      <th>day</th>\n",
       "      <th>name</th>\n",
       "      <th>info</th>\n",
       "      <th>link</th>\n",
       "      <th>num_references</th>\n",
       "      <th>year</th>\n",
       "      <th>month</th>\n",
       "      <th>info_parenth</th>\n",
       "      <th>info_1</th>\n",
       "      <th>info_2</th>\n",
       "      <th>info_3</th>\n",
       "      <th>info_4</th>\n",
       "      <th>info_5</th>\n",
       "      <th>info_6</th>\n",
       "      <th>info_7</th>\n",
       "      <th>info_8</th>\n",
       "      <th>info_9</th>\n",
       "      <th>info_10</th>\n",
       "      <th>info_11</th>\n",
       "      <th>age</th>\n",
       "      <th>cause_of_death</th>\n",
       "      <th>place_1</th>\n",
       "      <th>place_2</th>\n",
       "      <th>info_parenth_copy</th>\n",
       "      <th>log_num_references</th>\n",
       "      <th>sciences</th>\n",
       "      <th>social</th>\n",
       "      <th>spiritual</th>\n",
       "      <th>academia_humanities</th>\n",
       "      <th>business_farming</th>\n",
       "      <th>arts</th>\n",
       "      <th>sports</th>\n",
       "      <th>law_enf_military_operator</th>\n",
       "      <th>politics_govt_law</th>\n",
       "      <th>crime</th>\n",
       "      <th>event_record_other</th>\n",
       "      <th>other_species</th>\n",
       "      <th>num_categories</th>\n",
       "    </tr>\n",
       "  </thead>\n",
       "  <tbody>\n",
       "    <tr>\n",
       "      <th>29365</th>\n",
       "      <td>26</td>\n",
       "      <td>David Underdown</td>\n",
       "      <td>, 84, British historian, author of definitive work on Pride's Purge.</td>\n",
       "      <td>https://en.wikipedia.org/wiki/David_Underdown</td>\n",
       "      <td>3</td>\n",
       "      <td>2009</td>\n",
       "      <td>September</td>\n",
       "      <td>None</td>\n",
       "      <td>None</td>\n",
       "      <td></td>\n",
       "      <td>author of definitive work on Pride Purge</td>\n",
       "      <td>None</td>\n",
       "      <td>None</td>\n",
       "      <td>None</td>\n",
       "      <td>None</td>\n",
       "      <td>None</td>\n",
       "      <td>None</td>\n",
       "      <td>None</td>\n",
       "      <td>None</td>\n",
       "      <td>84.0</td>\n",
       "      <td>None</td>\n",
       "      <td>United Kingdom of Great Britain and Northern Ireland</td>\n",
       "      <td>None</td>\n",
       "      <td>None</td>\n",
       "      <td>1.386294</td>\n",
       "      <td>0</td>\n",
       "      <td>0</td>\n",
       "      <td>0</td>\n",
       "      <td>1</td>\n",
       "      <td>0</td>\n",
       "      <td>0</td>\n",
       "      <td>0</td>\n",
       "      <td>0</td>\n",
       "      <td>0</td>\n",
       "      <td>0</td>\n",
       "      <td>0</td>\n",
       "      <td>0</td>\n",
       "      <td>1</td>\n",
       "    </tr>\n",
       "    <tr>\n",
       "      <th>85862</th>\n",
       "      <td>11</td>\n",
       "      <td>Irena Veisaitė</td>\n",
       "      <td>, 92, Lithuanian theatre scholar and human rights activist, COVID-19.</td>\n",
       "      <td>https://en.wikipedia.org/wiki/Irena_Veisait%C4%97</td>\n",
       "      <td>3</td>\n",
       "      <td>2020</td>\n",
       "      <td>December</td>\n",
       "      <td>None</td>\n",
       "      <td>None</td>\n",
       "      <td></td>\n",
       "      <td>COVID</td>\n",
       "      <td>None</td>\n",
       "      <td>None</td>\n",
       "      <td>None</td>\n",
       "      <td>None</td>\n",
       "      <td>None</td>\n",
       "      <td>None</td>\n",
       "      <td>None</td>\n",
       "      <td>None</td>\n",
       "      <td>92.0</td>\n",
       "      <td>None</td>\n",
       "      <td>Lithuania</td>\n",
       "      <td>None</td>\n",
       "      <td>None</td>\n",
       "      <td>1.386294</td>\n",
       "      <td>0</td>\n",
       "      <td>0</td>\n",
       "      <td>0</td>\n",
       "      <td>1</td>\n",
       "      <td>0</td>\n",
       "      <td>0</td>\n",
       "      <td>0</td>\n",
       "      <td>0</td>\n",
       "      <td>1</td>\n",
       "      <td>0</td>\n",
       "      <td>0</td>\n",
       "      <td>0</td>\n",
       "      <td>2</td>\n",
       "    </tr>\n",
       "  </tbody>\n",
       "</table>\n",
       "</div>"
      ],
      "text/plain": [
       "      day             name  \\\n",
       "29365  26  David Underdown   \n",
       "85862  11   Irena Veisaitė   \n",
       "\n",
       "                                                                        info  \\\n",
       "29365   , 84, British historian, author of definitive work on Pride's Purge.   \n",
       "85862  , 92, Lithuanian theatre scholar and human rights activist, COVID-19.   \n",
       "\n",
       "                                                    link  num_references  \\\n",
       "29365      https://en.wikipedia.org/wiki/David_Underdown               3   \n",
       "85862  https://en.wikipedia.org/wiki/Irena_Veisait%C4%97               3   \n",
       "\n",
       "       year      month info_parenth info_1 info_2  \\\n",
       "29365  2009  September         None   None          \n",
       "85862  2020   December         None   None          \n",
       "\n",
       "                                         info_3 info_4 info_5 info_6 info_7  \\\n",
       "29365  author of definitive work on Pride Purge   None   None   None   None   \n",
       "85862                                     COVID   None   None   None   None   \n",
       "\n",
       "      info_8 info_9 info_10 info_11   age cause_of_death  \\\n",
       "29365   None   None    None    None  84.0           None   \n",
       "85862   None   None    None    None  92.0           None   \n",
       "\n",
       "                                                    place_1 place_2  \\\n",
       "29365  United Kingdom of Great Britain and Northern Ireland    None   \n",
       "85862                                             Lithuania    None   \n",
       "\n",
       "      info_parenth_copy  log_num_references  sciences  social  spiritual  \\\n",
       "29365              None            1.386294         0       0          0   \n",
       "85862              None            1.386294         0       0          0   \n",
       "\n",
       "       academia_humanities  business_farming  arts  sports  \\\n",
       "29365                    1                 0     0       0   \n",
       "85862                    1                 0     0       0   \n",
       "\n",
       "       law_enf_military_operator  politics_govt_law  crime  \\\n",
       "29365                          0                  0      0   \n",
       "85862                          0                  1      0   \n",
       "\n",
       "       event_record_other  other_species  num_categories  \n",
       "29365                   0              0               1  \n",
       "85862                   0              0               2  "
      ]
     },
     "execution_count": 105,
     "metadata": {},
     "output_type": "execute_result"
    },
    {
     "data": {
      "application/javascript": [
       "\n",
       "            setTimeout(function() {\n",
       "                var nbb_cell_id = 105;\n",
       "                var nbb_unformatted_code = \"%%time\\n\\n# Dictionary version\\nsearch_dict = known_for_dict\\n\\n# Column to check\\ncolumn = 'info_2'\\n\\n# Dataframe\\ndataframe = df[column].notna()\\n\\n# For loop to find role in column and extract it as category\\nfor category, category_lst in search_dict.items():\\n    for role in category_lst:\\n        for index in dataframe.index:\\n            item = df.loc[index, column]\\n            if item:\\n                if role in item:\\n                    df.loc[index, category] = 1\\n                    df.loc[index, column] = item.replace(role, '').strip()\\n\\n# Updating num_categories\\ndf[\\\"num_categories\\\"] = df[known_for_dict.keys()].sum(axis=1)\\n\\n# Checking a sample of rows\\ndf[df['academia_humanities'] ==1].sample(2)\";\n",
       "                var nbb_formatted_code = \"%%time\\n\\n# Dictionary version\\nsearch_dict = known_for_dict\\n\\n# Column to check\\ncolumn = 'info_2'\\n\\n# Dataframe\\ndataframe = df[column].notna()\\n\\n# For loop to find role in column and extract it as category\\nfor category, category_lst in search_dict.items():\\n    for role in category_lst:\\n        for index in dataframe.index:\\n            item = df.loc[index, column]\\n            if item:\\n                if role in item:\\n                    df.loc[index, category] = 1\\n                    df.loc[index, column] = item.replace(role, '').strip()\\n\\n# Updating num_categories\\ndf[\\\"num_categories\\\"] = df[known_for_dict.keys()].sum(axis=1)\\n\\n# Checking a sample of rows\\ndf[df['academia_humanities'] ==1].sample(2)\";\n",
       "                var nbb_cells = Jupyter.notebook.get_cells();\n",
       "                for (var i = 0; i < nbb_cells.length; ++i) {\n",
       "                    if (nbb_cells[i].input_prompt_number == nbb_cell_id) {\n",
       "                        if (nbb_cells[i].get_text() == nbb_unformatted_code) {\n",
       "                             nbb_cells[i].set_text(nbb_formatted_code);\n",
       "                        }\n",
       "                        break;\n",
       "                    }\n",
       "                }\n",
       "            }, 500);\n",
       "            "
      ],
      "text/plain": [
       "<IPython.core.display.Javascript object>"
      ]
     },
     "metadata": {},
     "output_type": "display_data"
    }
   ],
   "source": [
    "%%time\n",
    "\n",
    "# Dictionary version\n",
    "search_dict = known_for_dict\n",
    "\n",
    "# Column to check\n",
    "column = 'info_2'\n",
    "\n",
    "# Dataframe\n",
    "dataframe = df[column].notna()\n",
    "\n",
    "# For loop to find role in column and extract it as category\n",
    "for category, category_lst in search_dict.items():\n",
    "    for role in category_lst:\n",
    "        for index in dataframe.index:\n",
    "            item = df.loc[index, column]\n",
    "            if item:\n",
    "                if role in item:\n",
    "                    df.loc[index, category] = 1\n",
    "                    df.loc[index, column] = item.replace(role, '').strip()\n",
    "\n",
    "# Updating num_categories\n",
    "df[\"num_categories\"] = df[known_for_dict.keys()].sum(axis=1)\n",
    "\n",
    "# Checking a sample of rows\n",
    "df[df['academia_humanities'] ==1].sample(2)"
   ]
  },
  {
   "cell_type": "markdown",
   "id": "7794f561",
   "metadata": {},
   "source": [
    "#### Checking the Number of Rows without a First Category"
   ]
  },
  {
   "cell_type": "code",
   "execution_count": 106,
   "id": "79e2e4e8",
   "metadata": {},
   "outputs": [
    {
     "name": "stdout",
     "output_type": "stream",
     "text": [
      "There are 25648 entries without any known_for category.\n"
     ]
    },
    {
     "data": {
      "application/javascript": [
       "\n",
       "            setTimeout(function() {\n",
       "                var nbb_cell_id = 106;\n",
       "                var nbb_unformatted_code = \"# Checking the number of rows without a first category\\nprint(\\n    f'There are {len(df[df[\\\"num_categories\\\"]==0])} entries without any known_for category.'\\n)\";\n",
       "                var nbb_formatted_code = \"# Checking the number of rows without a first category\\nprint(\\n    f'There are {len(df[df[\\\"num_categories\\\"]==0])} entries without any known_for category.'\\n)\";\n",
       "                var nbb_cells = Jupyter.notebook.get_cells();\n",
       "                for (var i = 0; i < nbb_cells.length; ++i) {\n",
       "                    if (nbb_cells[i].input_prompt_number == nbb_cell_id) {\n",
       "                        if (nbb_cells[i].get_text() == nbb_unformatted_code) {\n",
       "                             nbb_cells[i].set_text(nbb_formatted_code);\n",
       "                        }\n",
       "                        break;\n",
       "                    }\n",
       "                }\n",
       "            }, 500);\n",
       "            "
      ],
      "text/plain": [
       "<IPython.core.display.Javascript object>"
      ]
     },
     "metadata": {},
     "output_type": "display_data"
    }
   ],
   "source": [
    "# Checking the number of rows without a first category\n",
    "print(\n",
    "    f'There are {len(df[df[\"num_categories\"]==0])} entries without any known_for category.'\n",
    ")"
   ]
  },
  {
   "cell_type": "markdown",
   "id": "46e24f87",
   "metadata": {},
   "source": [
    "#### Observations:\n",
    "- We will proceed to rebuild `known_for_dict` for the next iteration."
   ]
  },
  {
   "cell_type": "markdown",
   "id": "2b61184c",
   "metadata": {},
   "source": [
    "#### Finding `known_for` Roles in `info_2`"
   ]
  },
  {
   "cell_type": "code",
   "execution_count": 107,
   "id": "b7dac6e2",
   "metadata": {},
   "outputs": [
    {
     "data": {
      "application/javascript": [
       "\n",
       "            setTimeout(function() {\n",
       "                var nbb_cell_id = 107;\n",
       "                var nbb_unformatted_code = \"# # Obtaining values for column and their counts\\n# roles_list = df[\\\"info_2\\\"].value_counts(ascending=True).index.tolist()\";\n",
       "                var nbb_formatted_code = \"# # Obtaining values for column and their counts\\n# roles_list = df[\\\"info_2\\\"].value_counts(ascending=True).index.tolist()\";\n",
       "                var nbb_cells = Jupyter.notebook.get_cells();\n",
       "                for (var i = 0; i < nbb_cells.length; ++i) {\n",
       "                    if (nbb_cells[i].input_prompt_number == nbb_cell_id) {\n",
       "                        if (nbb_cells[i].get_text() == nbb_unformatted_code) {\n",
       "                             nbb_cells[i].set_text(nbb_formatted_code);\n",
       "                        }\n",
       "                        break;\n",
       "                    }\n",
       "                }\n",
       "            }, 500);\n",
       "            "
      ],
      "text/plain": [
       "<IPython.core.display.Javascript object>"
      ]
     },
     "metadata": {},
     "output_type": "display_data"
    }
   ],
   "source": [
    "# # Obtaining values for column and their counts\n",
    "# roles_list = df[\"info_2\"].value_counts(ascending=True).index.tolist()"
   ]
  },
  {
   "cell_type": "code",
   "execution_count": 108,
   "id": "0194f7cc",
   "metadata": {},
   "outputs": [
    {
     "data": {
      "application/javascript": [
       "\n",
       "            setTimeout(function() {\n",
       "                var nbb_cell_id = 108;\n",
       "                var nbb_unformatted_code = \"# # Code to check each value\\n# roles_list.pop()\";\n",
       "                var nbb_formatted_code = \"# # Code to check each value\\n# roles_list.pop()\";\n",
       "                var nbb_cells = Jupyter.notebook.get_cells();\n",
       "                for (var i = 0; i < nbb_cells.length; ++i) {\n",
       "                    if (nbb_cells[i].input_prompt_number == nbb_cell_id) {\n",
       "                        if (nbb_cells[i].get_text() == nbb_unformatted_code) {\n",
       "                             nbb_cells[i].set_text(nbb_formatted_code);\n",
       "                        }\n",
       "                        break;\n",
       "                    }\n",
       "                }\n",
       "            }, 500);\n",
       "            "
      ],
      "text/plain": [
       "<IPython.core.display.Javascript object>"
      ]
     },
     "metadata": {},
     "output_type": "display_data"
    }
   ],
   "source": [
    "# # Code to check each value\n",
    "# roles_list.pop()"
   ]
  },
  {
   "cell_type": "code",
   "execution_count": 109,
   "id": "f1a85c9d",
   "metadata": {},
   "outputs": [
    {
     "data": {
      "application/javascript": [
       "\n",
       "            setTimeout(function() {\n",
       "                var nbb_cell_id = 109;\n",
       "                var nbb_unformatted_code = \"# # Create specific_roles_list for above popped value\\n# specific_roles_list = (\\n#     df.loc[\\n#         [\\n#             index\\n#             for index in df[df[\\\"info_2\\\"].notna()].index\\n#             if \\\"teacher\\\" in df.loc[index, \\\"info_2\\\"]\\n#         ],\\n#         \\\"info_2\\\",\\n#     ]\\n#     .value_counts()\\n#     .index.tolist()\\n# )\";\n",
       "                var nbb_formatted_code = \"# # Create specific_roles_list for above popped value\\n# specific_roles_list = (\\n#     df.loc[\\n#         [\\n#             index\\n#             for index in df[df[\\\"info_2\\\"].notna()].index\\n#             if \\\"teacher\\\" in df.loc[index, \\\"info_2\\\"]\\n#         ],\\n#         \\\"info_2\\\",\\n#     ]\\n#     .value_counts()\\n#     .index.tolist()\\n# )\";\n",
       "                var nbb_cells = Jupyter.notebook.get_cells();\n",
       "                for (var i = 0; i < nbb_cells.length; ++i) {\n",
       "                    if (nbb_cells[i].input_prompt_number == nbb_cell_id) {\n",
       "                        if (nbb_cells[i].get_text() == nbb_unformatted_code) {\n",
       "                             nbb_cells[i].set_text(nbb_formatted_code);\n",
       "                        }\n",
       "                        break;\n",
       "                    }\n",
       "                }\n",
       "            }, 500);\n",
       "            "
      ],
      "text/plain": [
       "<IPython.core.display.Javascript object>"
      ]
     },
     "metadata": {},
     "output_type": "display_data"
    }
   ],
   "source": [
    "# # Create specific_roles_list for above popped value\n",
    "# specific_roles_list = (\n",
    "#     df.loc[\n",
    "#         [\n",
    "#             index\n",
    "#             for index in df[df[\"info_2\"].notna()].index\n",
    "#             if \"teacher\" in df.loc[index, \"info_2\"]\n",
    "#         ],\n",
    "#         \"info_2\",\n",
    "#     ]\n",
    "#     .value_counts()\n",
    "#     .index.tolist()\n",
    "# )"
   ]
  },
  {
   "cell_type": "code",
   "execution_count": 110,
   "id": "5400b3de",
   "metadata": {},
   "outputs": [
    {
     "data": {
      "application/javascript": [
       "\n",
       "            setTimeout(function() {\n",
       "                var nbb_cell_id = 110;\n",
       "                var nbb_unformatted_code = \"# # Viewing list sorted by descending length to copy to dictionary below and screen values\\n# sorted(specific_roles_list, key=lambda x: len(x), reverse=True)\";\n",
       "                var nbb_formatted_code = \"# # Viewing list sorted by descending length to copy to dictionary below and screen values\\n# sorted(specific_roles_list, key=lambda x: len(x), reverse=True)\";\n",
       "                var nbb_cells = Jupyter.notebook.get_cells();\n",
       "                for (var i = 0; i < nbb_cells.length; ++i) {\n",
       "                    if (nbb_cells[i].input_prompt_number == nbb_cell_id) {\n",
       "                        if (nbb_cells[i].get_text() == nbb_unformatted_code) {\n",
       "                             nbb_cells[i].set_text(nbb_formatted_code);\n",
       "                        }\n",
       "                        break;\n",
       "                    }\n",
       "                }\n",
       "            }, 500);\n",
       "            "
      ],
      "text/plain": [
       "<IPython.core.display.Javascript object>"
      ]
     },
     "metadata": {},
     "output_type": "display_data"
    }
   ],
   "source": [
    "# # Viewing list sorted by descending length to copy to dictionary below and screen values\n",
    "# sorted(specific_roles_list, key=lambda x: len(x), reverse=True)"
   ]
  },
  {
   "cell_type": "code",
   "execution_count": 111,
   "id": "0f192fbb",
   "metadata": {},
   "outputs": [
    {
     "data": {
      "application/javascript": [
       "\n",
       "            setTimeout(function() {\n",
       "                var nbb_cell_id = 111;\n",
       "                var nbb_unformatted_code = \"# # Example code to quick-screen values that may overlap categories\\n# df.loc[[index for index in df.index if \\\"hoaxer\\\" in df.loc[index, \\\"info\\\"]]]\";\n",
       "                var nbb_formatted_code = \"# # Example code to quick-screen values that may overlap categories\\n# df.loc[[index for index in df.index if \\\"hoaxer\\\" in df.loc[index, \\\"info\\\"]]]\";\n",
       "                var nbb_cells = Jupyter.notebook.get_cells();\n",
       "                for (var i = 0; i < nbb_cells.length; ++i) {\n",
       "                    if (nbb_cells[i].input_prompt_number == nbb_cell_id) {\n",
       "                        if (nbb_cells[i].get_text() == nbb_unformatted_code) {\n",
       "                             nbb_cells[i].set_text(nbb_formatted_code);\n",
       "                        }\n",
       "                        break;\n",
       "                    }\n",
       "                }\n",
       "            }, 500);\n",
       "            "
      ],
      "text/plain": [
       "<IPython.core.display.Javascript object>"
      ]
     },
     "metadata": {},
     "output_type": "display_data"
    }
   ],
   "source": [
    "# # Example code to quick-screen values that may overlap categories\n",
    "# df.loc[[index for index in df.index if \"hoaxer\" in df.loc[index, \"info\"]]]"
   ]
  },
  {
   "cell_type": "code",
   "execution_count": 112,
   "id": "3ef4d5ce",
   "metadata": {},
   "outputs": [
    {
     "data": {
      "application/javascript": [
       "\n",
       "            setTimeout(function() {\n",
       "                var nbb_cell_id = 112;\n",
       "                var nbb_unformatted_code = \"# # Example code to quick-check a specific entry\\n# df[df[\\\"info_2\\\"] == \\\"suspected serial killer\\\"]\";\n",
       "                var nbb_formatted_code = \"# # Example code to quick-check a specific entry\\n# df[df[\\\"info_2\\\"] == \\\"suspected serial killer\\\"]\";\n",
       "                var nbb_cells = Jupyter.notebook.get_cells();\n",
       "                for (var i = 0; i < nbb_cells.length; ++i) {\n",
       "                    if (nbb_cells[i].input_prompt_number == nbb_cell_id) {\n",
       "                        if (nbb_cells[i].get_text() == nbb_unformatted_code) {\n",
       "                             nbb_cells[i].set_text(nbb_formatted_code);\n",
       "                        }\n",
       "                        break;\n",
       "                    }\n",
       "                }\n",
       "            }, 500);\n",
       "            "
      ],
      "text/plain": [
       "<IPython.core.display.Javascript object>"
      ]
     },
     "metadata": {},
     "output_type": "display_data"
    }
   ],
   "source": [
    "# # Example code to quick-check a specific entry\n",
    "# df[df[\"info_2\"] == \"suspected serial killer\"]"
   ]
  },
  {
   "cell_type": "markdown",
   "id": "e843b51e",
   "metadata": {},
   "source": [
    "#### Creating Lists for Each `known_for` Category"
   ]
  },
  {
   "cell_type": "code",
   "execution_count": 113,
   "id": "aca2cb7a",
   "metadata": {},
   "outputs": [
    {
     "data": {
      "application/javascript": [
       "\n",
       "            setTimeout(function() {\n",
       "                var nbb_cell_id = 113;\n",
       "                var nbb_unformatted_code = \"# Creating lists for each category\\npolitics_govt_law = []\\n\\narts = [\\n    \\\"fashion designer and founder of the Versace fashion house\\\",\\n    \\\"fashion designer and costume designer\\\",\\n    \\\"fashion designer and costumier\\\",\\n    \\\"Quapaw Osage fashion designer\\\",\\n    \\\"stylist and fashion designer\\\",\\n    \\\"fashion designer and dress\\\",\\n    \\\"fashion designer and model\\\",\\n    \\\"royal and fashion designer\\\",\\n    \\\"hanbok fashion designer\\\",\\n    \\\"batik fashion designer\\\",\\n    \\\"fashion designer and\\\",\\n    \\\"fashion designer\\\",\\n    \\\"and designer of golf clubs and gear\\\",\\n    \\\"and golf course designer\\\",\\n    \\\"golf course designer\\\",\\n    \\\"and course designer\\\",\\n    \\\"Bigfoot hoaxer\\\",\\n    \\\"and hoaxer\\\",\\n    \\\"hoaxer\\\",\\n]\\nsports = [\\n    \\\"longtime caddy for legendary golfer Jack Nicklaus\\\",\\n    \\\"golfer and BC Sports Hall of Fame inductee\\\",\\n    \\\"Hall of Fame professional golfer\\\",\\n    \\\"golfer and Masters winner\\\",\\n    \\\"soccer coach and golfer\\\",\\n    \\\"international golfer and\\\",\\n    \\\"professional golfer and\\\",\\n    \\\"golfer and executive\\\",\\n    \\\"professional golfer\\\",\\n    \\\"Hall of Fame golfer\\\",\\n    \\\"PGA and Tour golfer\\\",\\n    \\\"golfer and coach\\\",\\n    \\\"PGA Tour golfer\\\",\\n    \\\"amateur golfer and\\\",\\n    \\\"amateur golfer\\\",\\n    \\\"golfer and\\\",\\n    \\\"golfer\\\",\\n]\\nsciences = [\\n    \\\"astronomer and space exploration pioneer\\\",\\n    \\\"astronomer at the Hayden Planetarium\\\",\\n    \\\"astronomer and paranormal expert\\\",\\n    \\\"research astronomer\\\",\\n    \\\"optical astronomer\\\",\\n    \\\"amateur astronomer\\\",\\n    \\\"radio astronomer\\\",\\n    \\\"solar astronomer\\\",\\n    \\\"and astronomer\\\",\\n    \\\"astronomer\\\",\\n]\\n\\nbusiness_farming = []\\nacademia_humanities = []\\nlaw_enf_military_operator = []\\nspiritual = []\\nsocial = []\\ncrime = [\\n    'convicted serial killer nicknamed \\\"The Granny Killer\\\"',\\n    \\\"serial killer and sex offender known as the\\\",\\n    \\\"serial killer and rapist and last executee\\\",\\n    \\\"murderer and self confessed serial killer\\\",\\n    \\\"murderer and suspected serial killer\\\",\\n    \\\"fugitive and suspected serial killer\\\",\\n    \\\"convicted serial killer and rapist\\\",\\n    \\\"serial killer and mass murderer\\\",\\n    \\\"serial killer and sex offender\\\",\\n    \\\"serial killer and necrophiliac\\\",\\n    \\\"slave owner and serial killer\\\",\\n    \\\"serial killer and kidnapper\\\",\\n    \\\"murderer and serial killer\\\",\\n    \\\"drifter and serial killer\\\",\\n    \\\"serial killer and rapist\\\",\\n    \\\"robber and serial killer\\\",\\n    \\\"rapist and serial killer\\\",\\n    \\\"convicted serial killer\\\",\\n    \\\"suspected serial killer\\\",\\n    \\\"thief and serial killer\\\",\\n    \\\"serial killer and thief\\\",\\n    \\\"alleged serial killer\\\",\\n    \\\"and serial killer\\\",\\n    \\\"serial killer and\\\",\\n    \\\"serial killer\\\",\\n]\\nevent_record_other = []\\nother_species = []\";\n",
       "                var nbb_formatted_code = \"# Creating lists for each category\\npolitics_govt_law = []\\n\\narts = [\\n    \\\"fashion designer and founder of the Versace fashion house\\\",\\n    \\\"fashion designer and costume designer\\\",\\n    \\\"fashion designer and costumier\\\",\\n    \\\"Quapaw Osage fashion designer\\\",\\n    \\\"stylist and fashion designer\\\",\\n    \\\"fashion designer and dress\\\",\\n    \\\"fashion designer and model\\\",\\n    \\\"royal and fashion designer\\\",\\n    \\\"hanbok fashion designer\\\",\\n    \\\"batik fashion designer\\\",\\n    \\\"fashion designer and\\\",\\n    \\\"fashion designer\\\",\\n    \\\"and designer of golf clubs and gear\\\",\\n    \\\"and golf course designer\\\",\\n    \\\"golf course designer\\\",\\n    \\\"and course designer\\\",\\n    \\\"Bigfoot hoaxer\\\",\\n    \\\"and hoaxer\\\",\\n    \\\"hoaxer\\\",\\n]\\nsports = [\\n    \\\"longtime caddy for legendary golfer Jack Nicklaus\\\",\\n    \\\"golfer and BC Sports Hall of Fame inductee\\\",\\n    \\\"Hall of Fame professional golfer\\\",\\n    \\\"golfer and Masters winner\\\",\\n    \\\"soccer coach and golfer\\\",\\n    \\\"international golfer and\\\",\\n    \\\"professional golfer and\\\",\\n    \\\"golfer and executive\\\",\\n    \\\"professional golfer\\\",\\n    \\\"Hall of Fame golfer\\\",\\n    \\\"PGA and Tour golfer\\\",\\n    \\\"golfer and coach\\\",\\n    \\\"PGA Tour golfer\\\",\\n    \\\"amateur golfer and\\\",\\n    \\\"amateur golfer\\\",\\n    \\\"golfer and\\\",\\n    \\\"golfer\\\",\\n]\\nsciences = [\\n    \\\"astronomer and space exploration pioneer\\\",\\n    \\\"astronomer at the Hayden Planetarium\\\",\\n    \\\"astronomer and paranormal expert\\\",\\n    \\\"research astronomer\\\",\\n    \\\"optical astronomer\\\",\\n    \\\"amateur astronomer\\\",\\n    \\\"radio astronomer\\\",\\n    \\\"solar astronomer\\\",\\n    \\\"and astronomer\\\",\\n    \\\"astronomer\\\",\\n]\\n\\nbusiness_farming = []\\nacademia_humanities = []\\nlaw_enf_military_operator = []\\nspiritual = []\\nsocial = []\\ncrime = [\\n    'convicted serial killer nicknamed \\\"The Granny Killer\\\"',\\n    \\\"serial killer and sex offender known as the\\\",\\n    \\\"serial killer and rapist and last executee\\\",\\n    \\\"murderer and self confessed serial killer\\\",\\n    \\\"murderer and suspected serial killer\\\",\\n    \\\"fugitive and suspected serial killer\\\",\\n    \\\"convicted serial killer and rapist\\\",\\n    \\\"serial killer and mass murderer\\\",\\n    \\\"serial killer and sex offender\\\",\\n    \\\"serial killer and necrophiliac\\\",\\n    \\\"slave owner and serial killer\\\",\\n    \\\"serial killer and kidnapper\\\",\\n    \\\"murderer and serial killer\\\",\\n    \\\"drifter and serial killer\\\",\\n    \\\"serial killer and rapist\\\",\\n    \\\"robber and serial killer\\\",\\n    \\\"rapist and serial killer\\\",\\n    \\\"convicted serial killer\\\",\\n    \\\"suspected serial killer\\\",\\n    \\\"thief and serial killer\\\",\\n    \\\"serial killer and thief\\\",\\n    \\\"alleged serial killer\\\",\\n    \\\"and serial killer\\\",\\n    \\\"serial killer and\\\",\\n    \\\"serial killer\\\",\\n]\\nevent_record_other = []\\nother_species = []\";\n",
       "                var nbb_cells = Jupyter.notebook.get_cells();\n",
       "                for (var i = 0; i < nbb_cells.length; ++i) {\n",
       "                    if (nbb_cells[i].input_prompt_number == nbb_cell_id) {\n",
       "                        if (nbb_cells[i].get_text() == nbb_unformatted_code) {\n",
       "                             nbb_cells[i].set_text(nbb_formatted_code);\n",
       "                        }\n",
       "                        break;\n",
       "                    }\n",
       "                }\n",
       "            }, 500);\n",
       "            "
      ],
      "text/plain": [
       "<IPython.core.display.Javascript object>"
      ]
     },
     "metadata": {},
     "output_type": "display_data"
    }
   ],
   "source": [
    "# Creating lists for each category\n",
    "politics_govt_law = []\n",
    "\n",
    "arts = [\n",
    "    \"fashion designer and founder of the Versace fashion house\",\n",
    "    \"fashion designer and costume designer\",\n",
    "    \"fashion designer and costumier\",\n",
    "    \"Quapaw Osage fashion designer\",\n",
    "    \"stylist and fashion designer\",\n",
    "    \"fashion designer and dress\",\n",
    "    \"fashion designer and model\",\n",
    "    \"royal and fashion designer\",\n",
    "    \"hanbok fashion designer\",\n",
    "    \"batik fashion designer\",\n",
    "    \"fashion designer and\",\n",
    "    \"fashion designer\",\n",
    "    \"and designer of golf clubs and gear\",\n",
    "    \"and golf course designer\",\n",
    "    \"golf course designer\",\n",
    "    \"and course designer\",\n",
    "    \"Bigfoot hoaxer\",\n",
    "    \"and hoaxer\",\n",
    "    \"hoaxer\",\n",
    "]\n",
    "sports = [\n",
    "    \"longtime caddy for legendary golfer Jack Nicklaus\",\n",
    "    \"golfer and BC Sports Hall of Fame inductee\",\n",
    "    \"Hall of Fame professional golfer\",\n",
    "    \"golfer and Masters winner\",\n",
    "    \"soccer coach and golfer\",\n",
    "    \"international golfer and\",\n",
    "    \"professional golfer and\",\n",
    "    \"golfer and executive\",\n",
    "    \"professional golfer\",\n",
    "    \"Hall of Fame golfer\",\n",
    "    \"PGA and Tour golfer\",\n",
    "    \"golfer and coach\",\n",
    "    \"PGA Tour golfer\",\n",
    "    \"amateur golfer and\",\n",
    "    \"amateur golfer\",\n",
    "    \"golfer and\",\n",
    "    \"golfer\",\n",
    "]\n",
    "sciences = [\n",
    "    \"astronomer and space exploration pioneer\",\n",
    "    \"astronomer at the Hayden Planetarium\",\n",
    "    \"astronomer and paranormal expert\",\n",
    "    \"research astronomer\",\n",
    "    \"optical astronomer\",\n",
    "    \"amateur astronomer\",\n",
    "    \"radio astronomer\",\n",
    "    \"solar astronomer\",\n",
    "    \"and astronomer\",\n",
    "    \"astronomer\",\n",
    "]\n",
    "\n",
    "business_farming = []\n",
    "academia_humanities = []\n",
    "law_enf_military_operator = []\n",
    "spiritual = []\n",
    "social = []\n",
    "crime = [\n",
    "    'convicted serial killer nicknamed \"The Granny Killer\"',\n",
    "    \"serial killer and sex offender known as the\",\n",
    "    \"serial killer and rapist and last executee\",\n",
    "    \"murderer and self confessed serial killer\",\n",
    "    \"murderer and suspected serial killer\",\n",
    "    \"fugitive and suspected serial killer\",\n",
    "    \"convicted serial killer and rapist\",\n",
    "    \"serial killer and mass murderer\",\n",
    "    \"serial killer and sex offender\",\n",
    "    \"serial killer and necrophiliac\",\n",
    "    \"slave owner and serial killer\",\n",
    "    \"serial killer and kidnapper\",\n",
    "    \"murderer and serial killer\",\n",
    "    \"drifter and serial killer\",\n",
    "    \"serial killer and rapist\",\n",
    "    \"robber and serial killer\",\n",
    "    \"rapist and serial killer\",\n",
    "    \"convicted serial killer\",\n",
    "    \"suspected serial killer\",\n",
    "    \"thief and serial killer\",\n",
    "    \"serial killer and thief\",\n",
    "    \"alleged serial killer\",\n",
    "    \"and serial killer\",\n",
    "    \"serial killer and\",\n",
    "    \"serial killer\",\n",
    "]\n",
    "event_record_other = []\n",
    "other_species = []"
   ]
  },
  {
   "cell_type": "markdown",
   "id": "a2088199",
   "metadata": {},
   "source": [
    "#### Creating `known_for_dict` Dictionary of Category Keys and Specific Role Lists of Values"
   ]
  },
  {
   "cell_type": "code",
   "execution_count": 114,
   "id": "7f1a242f",
   "metadata": {},
   "outputs": [
    {
     "data": {
      "application/javascript": [
       "\n",
       "            setTimeout(function() {\n",
       "                var nbb_cell_id = 114;\n",
       "                var nbb_unformatted_code = \"# Combining separate lists into one dictionary\\nknown_for_dict = {\\n    \\\"social\\\": social,\\n    \\\"spiritual\\\": spiritual,\\n    \\\"academia_humanities\\\": academia_humanities,\\n    \\\"business_farming\\\": business_farming,\\n    \\\"sciences\\\": sciences,\\n    \\\"politics_govt_law\\\": politics_govt_law,\\n    \\\"law_enf_military_operator\\\": law_enf_military_operator,\\n    \\\"crime\\\": crime,\\n    \\\"event_record_other\\\": event_record_other,\\n    \\\"other_species\\\": other_species,\\n    \\\"arts\\\": arts,\\n    \\\"sports\\\": sports,\\n}\";\n",
       "                var nbb_formatted_code = \"# Combining separate lists into one dictionary\\nknown_for_dict = {\\n    \\\"social\\\": social,\\n    \\\"spiritual\\\": spiritual,\\n    \\\"academia_humanities\\\": academia_humanities,\\n    \\\"business_farming\\\": business_farming,\\n    \\\"sciences\\\": sciences,\\n    \\\"politics_govt_law\\\": politics_govt_law,\\n    \\\"law_enf_military_operator\\\": law_enf_military_operator,\\n    \\\"crime\\\": crime,\\n    \\\"event_record_other\\\": event_record_other,\\n    \\\"other_species\\\": other_species,\\n    \\\"arts\\\": arts,\\n    \\\"sports\\\": sports,\\n}\";\n",
       "                var nbb_cells = Jupyter.notebook.get_cells();\n",
       "                for (var i = 0; i < nbb_cells.length; ++i) {\n",
       "                    if (nbb_cells[i].input_prompt_number == nbb_cell_id) {\n",
       "                        if (nbb_cells[i].get_text() == nbb_unformatted_code) {\n",
       "                             nbb_cells[i].set_text(nbb_formatted_code);\n",
       "                        }\n",
       "                        break;\n",
       "                    }\n",
       "                }\n",
       "            }, 500);\n",
       "            "
      ],
      "text/plain": [
       "<IPython.core.display.Javascript object>"
      ]
     },
     "metadata": {},
     "output_type": "display_data"
    }
   ],
   "source": [
    "# Combining separate lists into one dictionary\n",
    "known_for_dict = {\n",
    "    \"social\": social,\n",
    "    \"spiritual\": spiritual,\n",
    "    \"academia_humanities\": academia_humanities,\n",
    "    \"business_farming\": business_farming,\n",
    "    \"sciences\": sciences,\n",
    "    \"politics_govt_law\": politics_govt_law,\n",
    "    \"law_enf_military_operator\": law_enf_military_operator,\n",
    "    \"crime\": crime,\n",
    "    \"event_record_other\": event_record_other,\n",
    "    \"other_species\": other_species,\n",
    "    \"arts\": arts,\n",
    "    \"sports\": sports,\n",
    "}"
   ]
  },
  {
   "cell_type": "markdown",
   "id": "32ce6f36",
   "metadata": {},
   "source": [
    "#### Extracting Category from `info_2`"
   ]
  },
  {
   "cell_type": "code",
   "execution_count": 115,
   "id": "86eb8292",
   "metadata": {},
   "outputs": [
    {
     "name": "stdout",
     "output_type": "stream",
     "text": [
      "CPU times: total: 35.7 s\n",
      "Wall time: 35.7 s\n"
     ]
    },
    {
     "data": {
      "text/html": [
       "<div>\n",
       "<style scoped>\n",
       "    .dataframe tbody tr th:only-of-type {\n",
       "        vertical-align: middle;\n",
       "    }\n",
       "\n",
       "    .dataframe tbody tr th {\n",
       "        vertical-align: top;\n",
       "    }\n",
       "\n",
       "    .dataframe thead th {\n",
       "        text-align: right;\n",
       "    }\n",
       "</style>\n",
       "<table border=\"1\" class=\"dataframe\">\n",
       "  <thead>\n",
       "    <tr style=\"text-align: right;\">\n",
       "      <th></th>\n",
       "      <th>day</th>\n",
       "      <th>name</th>\n",
       "      <th>info</th>\n",
       "      <th>link</th>\n",
       "      <th>num_references</th>\n",
       "      <th>year</th>\n",
       "      <th>month</th>\n",
       "      <th>info_parenth</th>\n",
       "      <th>info_1</th>\n",
       "      <th>info_2</th>\n",
       "      <th>info_3</th>\n",
       "      <th>info_4</th>\n",
       "      <th>info_5</th>\n",
       "      <th>info_6</th>\n",
       "      <th>info_7</th>\n",
       "      <th>info_8</th>\n",
       "      <th>info_9</th>\n",
       "      <th>info_10</th>\n",
       "      <th>info_11</th>\n",
       "      <th>age</th>\n",
       "      <th>cause_of_death</th>\n",
       "      <th>place_1</th>\n",
       "      <th>place_2</th>\n",
       "      <th>info_parenth_copy</th>\n",
       "      <th>log_num_references</th>\n",
       "      <th>sciences</th>\n",
       "      <th>social</th>\n",
       "      <th>spiritual</th>\n",
       "      <th>academia_humanities</th>\n",
       "      <th>business_farming</th>\n",
       "      <th>arts</th>\n",
       "      <th>sports</th>\n",
       "      <th>law_enf_military_operator</th>\n",
       "      <th>politics_govt_law</th>\n",
       "      <th>crime</th>\n",
       "      <th>event_record_other</th>\n",
       "      <th>other_species</th>\n",
       "      <th>num_categories</th>\n",
       "    </tr>\n",
       "  </thead>\n",
       "  <tbody>\n",
       "    <tr>\n",
       "      <th>74435</th>\n",
       "      <td>24</td>\n",
       "      <td>Saleh Ahmed</td>\n",
       "      <td>, 83, Bangladeshi actor .</td>\n",
       "      <td>https://en.wikipedia.org/wiki/Saleh_Ahmed_(actor)</td>\n",
       "      <td>3</td>\n",
       "      <td>2019</td>\n",
       "      <td>April</td>\n",
       "      <td>,</td>\n",
       "      <td>None</td>\n",
       "      <td></td>\n",
       "      <td>None</td>\n",
       "      <td>None</td>\n",
       "      <td>None</td>\n",
       "      <td>None</td>\n",
       "      <td>None</td>\n",
       "      <td>None</td>\n",
       "      <td>None</td>\n",
       "      <td>None</td>\n",
       "      <td>None</td>\n",
       "      <td>83.0</td>\n",
       "      <td>None</td>\n",
       "      <td>Bangladesh</td>\n",
       "      <td>None</td>\n",
       "      <td>,</td>\n",
       "      <td>1.386294</td>\n",
       "      <td>0</td>\n",
       "      <td>0</td>\n",
       "      <td>0</td>\n",
       "      <td>0</td>\n",
       "      <td>0</td>\n",
       "      <td>1</td>\n",
       "      <td>0</td>\n",
       "      <td>0</td>\n",
       "      <td>0</td>\n",
       "      <td>0</td>\n",
       "      <td>0</td>\n",
       "      <td>0</td>\n",
       "      <td>1</td>\n",
       "    </tr>\n",
       "    <tr>\n",
       "      <th>45064</th>\n",
       "      <td>5</td>\n",
       "      <td>Daud Rahbar</td>\n",
       "      <td>, 86, Pakistani author and academic.</td>\n",
       "      <td>https://en.wikipedia.org/wiki/Daud_Rahbar</td>\n",
       "      <td>16</td>\n",
       "      <td>2013</td>\n",
       "      <td>October</td>\n",
       "      <td>None</td>\n",
       "      <td>None</td>\n",
       "      <td></td>\n",
       "      <td>None</td>\n",
       "      <td>None</td>\n",
       "      <td>None</td>\n",
       "      <td>None</td>\n",
       "      <td>None</td>\n",
       "      <td>None</td>\n",
       "      <td>None</td>\n",
       "      <td>None</td>\n",
       "      <td>None</td>\n",
       "      <td>86.0</td>\n",
       "      <td>None</td>\n",
       "      <td>Pakistan</td>\n",
       "      <td>None</td>\n",
       "      <td>None</td>\n",
       "      <td>2.833213</td>\n",
       "      <td>0</td>\n",
       "      <td>0</td>\n",
       "      <td>0</td>\n",
       "      <td>1</td>\n",
       "      <td>0</td>\n",
       "      <td>1</td>\n",
       "      <td>0</td>\n",
       "      <td>0</td>\n",
       "      <td>0</td>\n",
       "      <td>0</td>\n",
       "      <td>0</td>\n",
       "      <td>0</td>\n",
       "      <td>2</td>\n",
       "    </tr>\n",
       "  </tbody>\n",
       "</table>\n",
       "</div>"
      ],
      "text/plain": [
       "      day         name                                  info  \\\n",
       "74435  24  Saleh Ahmed             , 83, Bangladeshi actor .   \n",
       "45064   5  Daud Rahbar  , 86, Pakistani author and academic.   \n",
       "\n",
       "                                                    link  num_references  \\\n",
       "74435  https://en.wikipedia.org/wiki/Saleh_Ahmed_(actor)               3   \n",
       "45064          https://en.wikipedia.org/wiki/Daud_Rahbar              16   \n",
       "\n",
       "       year    month info_parenth info_1 info_2 info_3 info_4 info_5 info_6  \\\n",
       "74435  2019    April            ,   None          None   None   None   None   \n",
       "45064  2013  October         None   None          None   None   None   None   \n",
       "\n",
       "      info_7 info_8 info_9 info_10 info_11   age cause_of_death     place_1  \\\n",
       "74435   None   None   None    None    None  83.0           None  Bangladesh   \n",
       "45064   None   None   None    None    None  86.0           None    Pakistan   \n",
       "\n",
       "      place_2 info_parenth_copy  log_num_references  sciences  social  \\\n",
       "74435    None                 ,            1.386294         0       0   \n",
       "45064    None              None            2.833213         0       0   \n",
       "\n",
       "       spiritual  academia_humanities  business_farming  arts  sports  \\\n",
       "74435          0                    0                 0     1       0   \n",
       "45064          0                    1                 0     1       0   \n",
       "\n",
       "       law_enf_military_operator  politics_govt_law  crime  \\\n",
       "74435                          0                  0      0   \n",
       "45064                          0                  0      0   \n",
       "\n",
       "       event_record_other  other_species  num_categories  \n",
       "74435                   0              0               1  \n",
       "45064                   0              0               2  "
      ]
     },
     "execution_count": 115,
     "metadata": {},
     "output_type": "execute_result"
    },
    {
     "data": {
      "application/javascript": [
       "\n",
       "            setTimeout(function() {\n",
       "                var nbb_cell_id = 115;\n",
       "                var nbb_unformatted_code = \"%%time\\n\\n# Dictionary version\\nsearch_dict = known_for_dict\\n\\n# Column to check\\ncolumn = 'info_2'\\n\\n# Dataframe\\ndataframe = df[column].notna()\\n\\n# For loop to find role in column and extract it as category\\nfor category, category_lst in search_dict.items():\\n    for role in category_lst:\\n        for index in dataframe.index:\\n            item = df.loc[index, column]\\n            if item:\\n                if role in item:\\n                    df.loc[index, category] = 1\\n                    df.loc[index, column] = item.replace(role, '').strip()\\n\\n# Updating num_categories\\ndf[\\\"num_categories\\\"] = df[known_for_dict.keys()].sum(axis=1)\\n\\n# Checking a sample of rows\\ndf[df['arts'] ==1].sample(2)\";\n",
       "                var nbb_formatted_code = \"%%time\\n\\n# Dictionary version\\nsearch_dict = known_for_dict\\n\\n# Column to check\\ncolumn = 'info_2'\\n\\n# Dataframe\\ndataframe = df[column].notna()\\n\\n# For loop to find role in column and extract it as category\\nfor category, category_lst in search_dict.items():\\n    for role in category_lst:\\n        for index in dataframe.index:\\n            item = df.loc[index, column]\\n            if item:\\n                if role in item:\\n                    df.loc[index, category] = 1\\n                    df.loc[index, column] = item.replace(role, '').strip()\\n\\n# Updating num_categories\\ndf[\\\"num_categories\\\"] = df[known_for_dict.keys()].sum(axis=1)\\n\\n# Checking a sample of rows\\ndf[df['arts'] ==1].sample(2)\";\n",
       "                var nbb_cells = Jupyter.notebook.get_cells();\n",
       "                for (var i = 0; i < nbb_cells.length; ++i) {\n",
       "                    if (nbb_cells[i].input_prompt_number == nbb_cell_id) {\n",
       "                        if (nbb_cells[i].get_text() == nbb_unformatted_code) {\n",
       "                             nbb_cells[i].set_text(nbb_formatted_code);\n",
       "                        }\n",
       "                        break;\n",
       "                    }\n",
       "                }\n",
       "            }, 500);\n",
       "            "
      ],
      "text/plain": [
       "<IPython.core.display.Javascript object>"
      ]
     },
     "metadata": {},
     "output_type": "display_data"
    }
   ],
   "source": [
    "%%time\n",
    "\n",
    "# Dictionary version\n",
    "search_dict = known_for_dict\n",
    "\n",
    "# Column to check\n",
    "column = 'info_2'\n",
    "\n",
    "# Dataframe\n",
    "dataframe = df[column].notna()\n",
    "\n",
    "# For loop to find role in column and extract it as category\n",
    "for category, category_lst in search_dict.items():\n",
    "    for role in category_lst:\n",
    "        for index in dataframe.index:\n",
    "            item = df.loc[index, column]\n",
    "            if item:\n",
    "                if role in item:\n",
    "                    df.loc[index, category] = 1\n",
    "                    df.loc[index, column] = item.replace(role, '').strip()\n",
    "\n",
    "# Updating num_categories\n",
    "df[\"num_categories\"] = df[known_for_dict.keys()].sum(axis=1)\n",
    "\n",
    "# Checking a sample of rows\n",
    "df[df['arts'] ==1].sample(2)"
   ]
  },
  {
   "cell_type": "markdown",
   "id": "4f5114f1",
   "metadata": {},
   "source": [
    "#### Checking the Number of Rows without a First Category"
   ]
  },
  {
   "cell_type": "code",
   "execution_count": 116,
   "id": "7920a76c",
   "metadata": {},
   "outputs": [
    {
     "name": "stdout",
     "output_type": "stream",
     "text": [
      "There are 24990 entries without any known_for category.\n"
     ]
    },
    {
     "data": {
      "application/javascript": [
       "\n",
       "            setTimeout(function() {\n",
       "                var nbb_cell_id = 116;\n",
       "                var nbb_unformatted_code = \"# Checking the number of rows without a first category\\nprint(\\n    f'There are {len(df[df[\\\"num_categories\\\"]==0])} entries without any known_for category.'\\n)\";\n",
       "                var nbb_formatted_code = \"# Checking the number of rows without a first category\\nprint(\\n    f'There are {len(df[df[\\\"num_categories\\\"]==0])} entries without any known_for category.'\\n)\";\n",
       "                var nbb_cells = Jupyter.notebook.get_cells();\n",
       "                for (var i = 0; i < nbb_cells.length; ++i) {\n",
       "                    if (nbb_cells[i].input_prompt_number == nbb_cell_id) {\n",
       "                        if (nbb_cells[i].get_text() == nbb_unformatted_code) {\n",
       "                             nbb_cells[i].set_text(nbb_formatted_code);\n",
       "                        }\n",
       "                        break;\n",
       "                    }\n",
       "                }\n",
       "            }, 500);\n",
       "            "
      ],
      "text/plain": [
       "<IPython.core.display.Javascript object>"
      ]
     },
     "metadata": {},
     "output_type": "display_data"
    }
   ],
   "source": [
    "# Checking the number of rows without a first category\n",
    "print(\n",
    "    f'There are {len(df[df[\"num_categories\"]==0])} entries without any known_for category.'\n",
    ")"
   ]
  },
  {
   "cell_type": "markdown",
   "id": "7dd62c7f",
   "metadata": {},
   "source": [
    "#### Observations:\n",
    "- We will proceed to rebuild `known_for_dict` for the next iteration."
   ]
  },
  {
   "cell_type": "markdown",
   "id": "98beb3dc",
   "metadata": {},
   "source": [
    "#### Finding `known_for` Roles in `info_2`"
   ]
  },
  {
   "cell_type": "code",
   "execution_count": 117,
   "id": "e8c807ea",
   "metadata": {},
   "outputs": [
    {
     "data": {
      "application/javascript": [
       "\n",
       "            setTimeout(function() {\n",
       "                var nbb_cell_id = 117;\n",
       "                var nbb_unformatted_code = \"# # Obtaining values for column and their counts\\n# roles_list = df[\\\"info_2\\\"].value_counts(ascending=True).index.tolist()\";\n",
       "                var nbb_formatted_code = \"# # Obtaining values for column and their counts\\n# roles_list = df[\\\"info_2\\\"].value_counts(ascending=True).index.tolist()\";\n",
       "                var nbb_cells = Jupyter.notebook.get_cells();\n",
       "                for (var i = 0; i < nbb_cells.length; ++i) {\n",
       "                    if (nbb_cells[i].input_prompt_number == nbb_cell_id) {\n",
       "                        if (nbb_cells[i].get_text() == nbb_unformatted_code) {\n",
       "                             nbb_cells[i].set_text(nbb_formatted_code);\n",
       "                        }\n",
       "                        break;\n",
       "                    }\n",
       "                }\n",
       "            }, 500);\n",
       "            "
      ],
      "text/plain": [
       "<IPython.core.display.Javascript object>"
      ]
     },
     "metadata": {},
     "output_type": "display_data"
    }
   ],
   "source": [
    "# # Obtaining values for column and their counts\n",
    "# roles_list = df[\"info_2\"].value_counts(ascending=True).index.tolist()"
   ]
  },
  {
   "cell_type": "code",
   "execution_count": 118,
   "id": "2782b5a1",
   "metadata": {},
   "outputs": [
    {
     "data": {
      "application/javascript": [
       "\n",
       "            setTimeout(function() {\n",
       "                var nbb_cell_id = 118;\n",
       "                var nbb_unformatted_code = \"# # Code to check each value\\n# roles_list.pop()\";\n",
       "                var nbb_formatted_code = \"# # Code to check each value\\n# roles_list.pop()\";\n",
       "                var nbb_cells = Jupyter.notebook.get_cells();\n",
       "                for (var i = 0; i < nbb_cells.length; ++i) {\n",
       "                    if (nbb_cells[i].input_prompt_number == nbb_cell_id) {\n",
       "                        if (nbb_cells[i].get_text() == nbb_unformatted_code) {\n",
       "                             nbb_cells[i].set_text(nbb_formatted_code);\n",
       "                        }\n",
       "                        break;\n",
       "                    }\n",
       "                }\n",
       "            }, 500);\n",
       "            "
      ],
      "text/plain": [
       "<IPython.core.display.Javascript object>"
      ]
     },
     "metadata": {},
     "output_type": "display_data"
    }
   ],
   "source": [
    "# # Code to check each value\n",
    "# roles_list.pop()"
   ]
  },
  {
   "cell_type": "code",
   "execution_count": 119,
   "id": "2e623afe",
   "metadata": {},
   "outputs": [
    {
     "data": {
      "application/javascript": [
       "\n",
       "            setTimeout(function() {\n",
       "                var nbb_cell_id = 119;\n",
       "                var nbb_unformatted_code = \"# # Create specific_roles_list for above popped value\\n# specific_roles_list = (\\n#     df.loc[\\n#         [\\n#             index\\n#             for index in df[df[\\\"info_2\\\"].notna()].index\\n#             if \\\"music\\\" in df.loc[index, \\\"info_2\\\"]\\n#         ],\\n#         \\\"info_2\\\",\\n#     ]\\n#     .value_counts()\\n#     .index.tolist()\\n# )\";\n",
       "                var nbb_formatted_code = \"# # Create specific_roles_list for above popped value\\n# specific_roles_list = (\\n#     df.loc[\\n#         [\\n#             index\\n#             for index in df[df[\\\"info_2\\\"].notna()].index\\n#             if \\\"music\\\" in df.loc[index, \\\"info_2\\\"]\\n#         ],\\n#         \\\"info_2\\\",\\n#     ]\\n#     .value_counts()\\n#     .index.tolist()\\n# )\";\n",
       "                var nbb_cells = Jupyter.notebook.get_cells();\n",
       "                for (var i = 0; i < nbb_cells.length; ++i) {\n",
       "                    if (nbb_cells[i].input_prompt_number == nbb_cell_id) {\n",
       "                        if (nbb_cells[i].get_text() == nbb_unformatted_code) {\n",
       "                             nbb_cells[i].set_text(nbb_formatted_code);\n",
       "                        }\n",
       "                        break;\n",
       "                    }\n",
       "                }\n",
       "            }, 500);\n",
       "            "
      ],
      "text/plain": [
       "<IPython.core.display.Javascript object>"
      ]
     },
     "metadata": {},
     "output_type": "display_data"
    }
   ],
   "source": [
    "# # Create specific_roles_list for above popped value\n",
    "# specific_roles_list = (\n",
    "#     df.loc[\n",
    "#         [\n",
    "#             index\n",
    "#             for index in df[df[\"info_2\"].notna()].index\n",
    "#             if \"music\" in df.loc[index, \"info_2\"]\n",
    "#         ],\n",
    "#         \"info_2\",\n",
    "#     ]\n",
    "#     .value_counts()\n",
    "#     .index.tolist()\n",
    "# )"
   ]
  },
  {
   "cell_type": "code",
   "execution_count": 120,
   "id": "15138d51",
   "metadata": {},
   "outputs": [
    {
     "data": {
      "application/javascript": [
       "\n",
       "            setTimeout(function() {\n",
       "                var nbb_cell_id = 120;\n",
       "                var nbb_unformatted_code = \"# # Viewing list sorted by descending length to copy to dictionary below and screen values\\n# sorted(specific_roles_list, key=lambda x: len(x), reverse=True)\";\n",
       "                var nbb_formatted_code = \"# # Viewing list sorted by descending length to copy to dictionary below and screen values\\n# sorted(specific_roles_list, key=lambda x: len(x), reverse=True)\";\n",
       "                var nbb_cells = Jupyter.notebook.get_cells();\n",
       "                for (var i = 0; i < nbb_cells.length; ++i) {\n",
       "                    if (nbb_cells[i].input_prompt_number == nbb_cell_id) {\n",
       "                        if (nbb_cells[i].get_text() == nbb_unformatted_code) {\n",
       "                             nbb_cells[i].set_text(nbb_formatted_code);\n",
       "                        }\n",
       "                        break;\n",
       "                    }\n",
       "                }\n",
       "            }, 500);\n",
       "            "
      ],
      "text/plain": [
       "<IPython.core.display.Javascript object>"
      ]
     },
     "metadata": {},
     "output_type": "display_data"
    }
   ],
   "source": [
    "# # Viewing list sorted by descending length to copy to dictionary below and screen values\n",
    "# sorted(specific_roles_list, key=lambda x: len(x), reverse=True)"
   ]
  },
  {
   "cell_type": "code",
   "execution_count": 121,
   "id": "d69cdfe6",
   "metadata": {},
   "outputs": [
    {
     "data": {
      "application/javascript": [
       "\n",
       "            setTimeout(function() {\n",
       "                var nbb_cell_id = 121;\n",
       "                var nbb_unformatted_code = \"# # Example code to quick-screen values that may overlap categories\\n# df.loc[[index for index in df.index if '\\\"yoga teacher\\\"' in df.loc[index, \\\"info\\\"]]]\";\n",
       "                var nbb_formatted_code = \"# # Example code to quick-screen values that may overlap categories\\n# df.loc[[index for index in df.index if '\\\"yoga teacher\\\"' in df.loc[index, \\\"info\\\"]]]\";\n",
       "                var nbb_cells = Jupyter.notebook.get_cells();\n",
       "                for (var i = 0; i < nbb_cells.length; ++i) {\n",
       "                    if (nbb_cells[i].input_prompt_number == nbb_cell_id) {\n",
       "                        if (nbb_cells[i].get_text() == nbb_unformatted_code) {\n",
       "                             nbb_cells[i].set_text(nbb_formatted_code);\n",
       "                        }\n",
       "                        break;\n",
       "                    }\n",
       "                }\n",
       "            }, 500);\n",
       "            "
      ],
      "text/plain": [
       "<IPython.core.display.Javascript object>"
      ]
     },
     "metadata": {},
     "output_type": "display_data"
    }
   ],
   "source": [
    "# # Example code to quick-screen values that may overlap categories\n",
    "# df.loc[[index for index in df.index if '\"yoga teacher\"' in df.loc[index, \"info\"]]]"
   ]
  },
  {
   "cell_type": "code",
   "execution_count": 122,
   "id": "d534cad2",
   "metadata": {},
   "outputs": [
    {
     "data": {
      "application/javascript": [
       "\n",
       "            setTimeout(function() {\n",
       "                var nbb_cell_id = 122;\n",
       "                var nbb_unformatted_code = \"# # Example code to quick-check a specific entry\\n# df[df[\\\"info_2\\\"] == '\\\"yoga teacher\\\"']\";\n",
       "                var nbb_formatted_code = \"# # Example code to quick-check a specific entry\\n# df[df[\\\"info_2\\\"] == '\\\"yoga teacher\\\"']\";\n",
       "                var nbb_cells = Jupyter.notebook.get_cells();\n",
       "                for (var i = 0; i < nbb_cells.length; ++i) {\n",
       "                    if (nbb_cells[i].input_prompt_number == nbb_cell_id) {\n",
       "                        if (nbb_cells[i].get_text() == nbb_unformatted_code) {\n",
       "                             nbb_cells[i].set_text(nbb_formatted_code);\n",
       "                        }\n",
       "                        break;\n",
       "                    }\n",
       "                }\n",
       "            }, 500);\n",
       "            "
      ],
      "text/plain": [
       "<IPython.core.display.Javascript object>"
      ]
     },
     "metadata": {},
     "output_type": "display_data"
    }
   ],
   "source": [
    "# # Example code to quick-check a specific entry\n",
    "# df[df[\"info_2\"] == '\"yoga teacher\"']"
   ]
  },
  {
   "cell_type": "markdown",
   "id": "995cefa7",
   "metadata": {},
   "source": [
    "#### Creating Lists for Each `known_for` Category"
   ]
  },
  {
   "cell_type": "code",
   "execution_count": 123,
   "id": "56bb466e",
   "metadata": {},
   "outputs": [
    {
     "data": {
      "application/javascript": [
       "\n",
       "            setTimeout(function() {\n",
       "                var nbb_cell_id = 123;\n",
       "                var nbb_unformatted_code = \"# Creating lists for each category\\npolitics_govt_law = [\\n    \\\"who defected from the Bolshoi Opera in\\\",\\n    \\\"and exiled prince of Yawnghwe\\\",\\n    \\\"and public bookcase proponent\\\",\\n    \\\"exiled anti Castro militant\\\",\\n    \\\"language campaigner\\\",\\n    \\\"and trade unionist\\\",\\n    \\\"trade unionist and\\\",\\n    \\\"trade unionist\\\",\\n    \\\"public servant\\\",\\n    \\\"exiled\\\",\\n]\\n\\narts = [\\n    \\\"half of the singing duo the Righteous Brothers\\\",\\n    \\\"acting at the Royal Academy of Dramatic Arts\\\",\\n    \\\"mezzo soprano at the City Opera for years\\\",\\n    \\\"soprano and mezzo soprano and librettist\\\",\\n    \\\"operatic soprano and a People Artist of\\\",\\n    \\\"rock and roll violinist and guitarist\\\",\\n    \\\"operatic contralto and mezzo soprano\\\",\\n    \\\"operatic mezzo soprano and contralto\\\",\\n    \\\"violinist with the Beaux Arts Trio\\\",\\n    \\\"dramaturge and newspaper columnist\\\",\\n    \\\"beauty queen and operatic soprano\\\",\\n    \\\"ballet dancer and ballet mistress\\\",\\n    \\\"and inspirational music teacher\\\",  # before academia_humanities\\n    \\\"horn player and brass instrument\\\",\\n    \\\"drama and comparative literature\\\",\\n    \\\"stage director and drama teacher\\\",\\n    \\\"violinist and orchestra leader\\\",\\n    \\\"dramatist and theater director\\\",\\n    \\\"jazz violinist and bass player\\\",\\n    \\\"classical violinist and music\\\",\\n    \\\"dramatist and literary critic\\\",\\n    \\\"ballet dancer and City Ballet\\\",\\n    \\\"Konkani language litterateur\\\",\\n    \\\"violinist and fashion model\\\",\\n    \\\"violinist and concertmaster\\\",\\n    \\\"ballet dancer and executive\\\",\\n    \\\"dramatic coloratura soprano\\\",\\n    \\\"traditional music performer\\\",\\n    \\\"drama critic and biographer\\\",\\n    \\\"creator of the book series\\\",\\n    \\\"operatic soprano and music\\\",\\n    \\\"operatic soprano and music\\\",\\n    \\\"violinist and mandolinist\\\",\\n    \\\"drama and literary critic\\\",\\n    \\\"ballet dancer and master\\\",\\n    \\\"ballet dancer and ballet\\\",\\n    \\\"coloratura mezzo soprano\\\",\\n    \\\"classical ballet dancer\\\",\\n    \\\"mezzo soprano and voice\\\",\\n    \\\"modern dancer and dance\\\",\\n    \\\"literature and theater\\\",\\n    \\\"operatic mezzo soprano\\\",\\n    \\\"Jewish literary critic\\\",\\n    \\\"Tulu Kannada dramatist\\\",\\n    \\\"clarinetist and music\\\",\\n    \\\"soprano and presenter\\\",\\n    \\\"television drama and\\\",\\n    \\\"television dramatist\\\",\\n    \\\"etiquette instructor\\\",\\n    \\\"violinist and music\\\",\\n    \\\"classical violinist\\\",\\n    \\\"ballerina and dance\\\",\\n    \\\"based ballet dancer\\\",\\n    \\\"literary critic and\\\",\\n    \\\"and literary critic\\\",\\n    \\\"instrument designer\\\",\\n    \\\"soprano and a voice\\\",\\n    \\\"classical violinist\\\",\\n    \\\"classical guitarist\\\",\\n    \\\"flautist and music\\\",\\n    \\\"horticulturist and\\\",\\n    \\\"and horticulturist\\\",\\n    \\\"theatrical advisor\\\",\\n    \\\"dancer and acting\\\",\\n    \\\"violist and music\\\",\\n    \\\"ballet dancer and\\\",\\n    \\\"cultural promoter\\\",\\n    \\\"coloratura soprano\\\",\\n    \\\"Carnatic violinist\\\",\\n    \\\"Amateur violinist\\\",\\n    \\\"classical soprano\\\",\\n    \\\"tic mezzo soprano\\\",\\n    \\\"concert violinist\\\",\\n    \\\"operatic soprano\\\",\\n    \\\"dramatic soprano\\\",\\n    \\\"dancer and dance\\\",\\n    \\\"female violinist\\\",\\n    \\\"blues violinist\\\",\\n    \\\"jazz and ballet\\\",\\n    \\\"radio dramatist\\\",\\n    \\\"literary critic\\\",\\n    \\\"concert cellist\\\",\\n    \\\"ballet director\\\",\\n    \\\"fashion design\\\",\\n    \\\"horticulturist\\\",\\n    \\\"stage director\\\",\\n    \\\"choir director\\\",\\n    \\\"violin soloist\\\",\\n    \\\"jazz violinist\\\",\\n    \\\"opera soprano\\\",\\n    \\\"lyric soprano\\\",\\n    \\\"choreographer\\\",\\n    \\\"ballet dancer\\\",\\n    \\\"drama critic\\\",\\n    \\\"tic soprano\\\",\\n    \\\"choirmaster\\\",\\n    \\\"of design\\\",\\n    \\\"dramatist\\\",\\n    \\\"soprano\\\",\\n    \\\"singing\\\",\\n    \\\"drama\\\",\\n]\\nsports = [\\n    \\\"aikido instructor and Aikikai teacher\\\",  # before academia_humanities\\n    \\\"golf player and instructor\\\",\\n    \\\"shodo and aikido teacher\\\",\\n    \\\"Iyengar Yoga instructor\\\",\\n    \\\"pioneer judo teacher\\\",\\n    \\\"karateka and teacher\\\",\\n    \\\"taekwondo instructor\\\",\\n    \\\"and yoga instructor\\\",\\n    \\\"dressage instructor\\\",\\n    \\\"Pilates instructor\\\",\\n    \\\"pilates instructor\\\",\\n    \\\"pilates teacher\\\",\\n    '\\\"yoga teacher \\\"',\\n    \\\"aikido teacher\\\",\\n    \\\"Aikido teacher\\\",\\n    \\\"yoga teacher\\\",\\n]\\nsciences = []\\n\\nbusiness_farming = []\\nacademia_humanities = [\\n    \\\"teacher and director of the Willie Clancy Summer School\\\",\\n    \\\"teacher who popularized speed reading\\\",\\n    \\\"musicologist and university teacher\\\",\\n    \\\"teacher and quiz show contestant\\\",\\n    \\\"teacher and photograph subject\\\",\\n    \\\"and university teacher\\\",\\n    \\\"physical education teacher\\\",\\n    \\\"musicologist and teacher\\\",\\n    \\\"Lakota language teacher\\\",\\n    \\\"teacher who named Pluto\\\",\\n    \\\"folklorist and teacher\\\",\\n    \\\"transgender teacher\\\",\\n    \\\"mathematics teacher\\\",\\n    \\\"university teacher\\\",\\n    \\\"pioneering teacher\\\",\\n    \\\"University teacher\\\",\\n    \\\"volunteer teacher\\\",\\n    \\\"academy founder\\\",\\n    \\\"cooking teacher\\\",\\n    \\\"school teacher\\\",\\n    \\\"civics teacher\\\",\\n    \\\"schoolteacher and\\\",\\n    \\\"schoolteacher\\\",\\n    \\\"M\\u00e9tis teacher\\\",\\n    \\\"teacher aide\\\",\\n    \\\"head teacher\\\",\\n    \\\"and instructor\\\",\\n    \\\"instructor and\\\",\\n    \\\"instructor\\\",\\n    \\\"headteacher\\\",\\n    \\\"pedagogue\\\",\\n    \\\"teacher and\\\",\\n    \\\"and teacher\\\",\\n    \\\"teacher\\\",\\n]\\n\\n\\nlaw_enf_military_operator = [\\n    \\\"Jewish resistance member during the Holocaust\\\",\\n    \\\"resistance member during World War II\\\",\\n    \\\"glider pilot and flight instructor\\\",  # before academia_humanities\\n    \\\"World War II resistance member\\\",\\n    \\\"military drill instructor\\\",\\n    \\\"Jewish resistance member\\\",\\n    \\\"WWII resistance member\\\",\\n    \\\"flight instructor and\\\",\\n    \\\"police officer and\\\",\\n    \\\"and police officer\\\",\\n    \\\"WAAF aircraftwoman\\\",\\n    \\\"resistance member\\\",\\n    \\\"police officer\\\",\\n    \\\"FBI instructor\\\",\\n]\\nspiritual = [\\n    \\\"Buddhist monk and meditation teacher\\\",  # before academia_humanities\\n    \\\"Hindu spiritual leader and teacher\\\",\\n    \\\"Buddhist monk and Dzogchen teacher\\\",\\n    \\\"Zen Buddhist teacher and r\\u014dshi\\\",\\n    \\\"Zen Buddhist priest and teacher\\\",\\n    \\\"Q\\u0101ri\\u02be and Qira'at teacher\\\",\\n    \\\"Hindu spiritual teacher\\\",\\n    \\\"Hindu monk and teacher\\\",\\n    \\\"metaphysical teacher\\\",\\n    \\\"Zen Buddhist teacher\\\",\\n    \\\"teacher of Rinzai Zen\\\",\\n    \\\"teacher of Buddhism\\\",\\n    \\\"Rinzai Zen teacher\\\",\\n    \\\"meditation teacher\\\",\\n    \\\"spiritual teacher\\\",\\n    \\\"religious teacher\\\",\\n    \\\"Vipassana teacher\\\",\\n    \\\"Buddhist  teacher\\\",\\n    \\\"Buddhist teacher\\\",\\n    \\\"Sister of Mercy\\\",\\n    \\\"Sufi  teacher\\\",\\n    \\\"Bible teacher\\\",\\n    \\\"Sufi teacher\\\",\\n]\\nsocial = [\\n    \\\"socialite\\\",\\n]\\ncrime = [\\n    \\\"convicted rapist\\\",\\n    \\\"child molester\\\",\\n]\\nevent_record_other = [\\n    \\\"whose oxygen machine failed after power cut for unpaid account\\\",\\n    \\\"and Holocaust survivor\\\",\\n    \\\"substitute teacher and census worker\\\",\\n    \\\"school teacher and heroine\\\",  # before academia_humanities\\n]\\nother_species = []\";\n",
       "                var nbb_formatted_code = \"# Creating lists for each category\\npolitics_govt_law = [\\n    \\\"who defected from the Bolshoi Opera in\\\",\\n    \\\"and exiled prince of Yawnghwe\\\",\\n    \\\"and public bookcase proponent\\\",\\n    \\\"exiled anti Castro militant\\\",\\n    \\\"language campaigner\\\",\\n    \\\"and trade unionist\\\",\\n    \\\"trade unionist and\\\",\\n    \\\"trade unionist\\\",\\n    \\\"public servant\\\",\\n    \\\"exiled\\\",\\n]\\n\\narts = [\\n    \\\"half of the singing duo the Righteous Brothers\\\",\\n    \\\"acting at the Royal Academy of Dramatic Arts\\\",\\n    \\\"mezzo soprano at the City Opera for years\\\",\\n    \\\"soprano and mezzo soprano and librettist\\\",\\n    \\\"operatic soprano and a People Artist of\\\",\\n    \\\"rock and roll violinist and guitarist\\\",\\n    \\\"operatic contralto and mezzo soprano\\\",\\n    \\\"operatic mezzo soprano and contralto\\\",\\n    \\\"violinist with the Beaux Arts Trio\\\",\\n    \\\"dramaturge and newspaper columnist\\\",\\n    \\\"beauty queen and operatic soprano\\\",\\n    \\\"ballet dancer and ballet mistress\\\",\\n    \\\"and inspirational music teacher\\\",  # before academia_humanities\\n    \\\"horn player and brass instrument\\\",\\n    \\\"drama and comparative literature\\\",\\n    \\\"stage director and drama teacher\\\",\\n    \\\"violinist and orchestra leader\\\",\\n    \\\"dramatist and theater director\\\",\\n    \\\"jazz violinist and bass player\\\",\\n    \\\"classical violinist and music\\\",\\n    \\\"dramatist and literary critic\\\",\\n    \\\"ballet dancer and City Ballet\\\",\\n    \\\"Konkani language litterateur\\\",\\n    \\\"violinist and fashion model\\\",\\n    \\\"violinist and concertmaster\\\",\\n    \\\"ballet dancer and executive\\\",\\n    \\\"dramatic coloratura soprano\\\",\\n    \\\"traditional music performer\\\",\\n    \\\"drama critic and biographer\\\",\\n    \\\"creator of the book series\\\",\\n    \\\"operatic soprano and music\\\",\\n    \\\"operatic soprano and music\\\",\\n    \\\"violinist and mandolinist\\\",\\n    \\\"drama and literary critic\\\",\\n    \\\"ballet dancer and master\\\",\\n    \\\"ballet dancer and ballet\\\",\\n    \\\"coloratura mezzo soprano\\\",\\n    \\\"classical ballet dancer\\\",\\n    \\\"mezzo soprano and voice\\\",\\n    \\\"modern dancer and dance\\\",\\n    \\\"literature and theater\\\",\\n    \\\"operatic mezzo soprano\\\",\\n    \\\"Jewish literary critic\\\",\\n    \\\"Tulu Kannada dramatist\\\",\\n    \\\"clarinetist and music\\\",\\n    \\\"soprano and presenter\\\",\\n    \\\"television drama and\\\",\\n    \\\"television dramatist\\\",\\n    \\\"etiquette instructor\\\",\\n    \\\"violinist and music\\\",\\n    \\\"classical violinist\\\",\\n    \\\"ballerina and dance\\\",\\n    \\\"based ballet dancer\\\",\\n    \\\"literary critic and\\\",\\n    \\\"and literary critic\\\",\\n    \\\"instrument designer\\\",\\n    \\\"soprano and a voice\\\",\\n    \\\"classical violinist\\\",\\n    \\\"classical guitarist\\\",\\n    \\\"flautist and music\\\",\\n    \\\"horticulturist and\\\",\\n    \\\"and horticulturist\\\",\\n    \\\"theatrical advisor\\\",\\n    \\\"dancer and acting\\\",\\n    \\\"violist and music\\\",\\n    \\\"ballet dancer and\\\",\\n    \\\"cultural promoter\\\",\\n    \\\"coloratura soprano\\\",\\n    \\\"Carnatic violinist\\\",\\n    \\\"Amateur violinist\\\",\\n    \\\"classical soprano\\\",\\n    \\\"tic mezzo soprano\\\",\\n    \\\"concert violinist\\\",\\n    \\\"operatic soprano\\\",\\n    \\\"dramatic soprano\\\",\\n    \\\"dancer and dance\\\",\\n    \\\"female violinist\\\",\\n    \\\"blues violinist\\\",\\n    \\\"jazz and ballet\\\",\\n    \\\"radio dramatist\\\",\\n    \\\"literary critic\\\",\\n    \\\"concert cellist\\\",\\n    \\\"ballet director\\\",\\n    \\\"fashion design\\\",\\n    \\\"horticulturist\\\",\\n    \\\"stage director\\\",\\n    \\\"choir director\\\",\\n    \\\"violin soloist\\\",\\n    \\\"jazz violinist\\\",\\n    \\\"opera soprano\\\",\\n    \\\"lyric soprano\\\",\\n    \\\"choreographer\\\",\\n    \\\"ballet dancer\\\",\\n    \\\"drama critic\\\",\\n    \\\"tic soprano\\\",\\n    \\\"choirmaster\\\",\\n    \\\"of design\\\",\\n    \\\"dramatist\\\",\\n    \\\"soprano\\\",\\n    \\\"singing\\\",\\n    \\\"drama\\\",\\n]\\nsports = [\\n    \\\"aikido instructor and Aikikai teacher\\\",  # before academia_humanities\\n    \\\"golf player and instructor\\\",\\n    \\\"shodo and aikido teacher\\\",\\n    \\\"Iyengar Yoga instructor\\\",\\n    \\\"pioneer judo teacher\\\",\\n    \\\"karateka and teacher\\\",\\n    \\\"taekwondo instructor\\\",\\n    \\\"and yoga instructor\\\",\\n    \\\"dressage instructor\\\",\\n    \\\"Pilates instructor\\\",\\n    \\\"pilates instructor\\\",\\n    \\\"pilates teacher\\\",\\n    '\\\"yoga teacher \\\"',\\n    \\\"aikido teacher\\\",\\n    \\\"Aikido teacher\\\",\\n    \\\"yoga teacher\\\",\\n]\\nsciences = []\\n\\nbusiness_farming = []\\nacademia_humanities = [\\n    \\\"teacher and director of the Willie Clancy Summer School\\\",\\n    \\\"teacher who popularized speed reading\\\",\\n    \\\"musicologist and university teacher\\\",\\n    \\\"teacher and quiz show contestant\\\",\\n    \\\"teacher and photograph subject\\\",\\n    \\\"and university teacher\\\",\\n    \\\"physical education teacher\\\",\\n    \\\"musicologist and teacher\\\",\\n    \\\"Lakota language teacher\\\",\\n    \\\"teacher who named Pluto\\\",\\n    \\\"folklorist and teacher\\\",\\n    \\\"transgender teacher\\\",\\n    \\\"mathematics teacher\\\",\\n    \\\"university teacher\\\",\\n    \\\"pioneering teacher\\\",\\n    \\\"University teacher\\\",\\n    \\\"volunteer teacher\\\",\\n    \\\"academy founder\\\",\\n    \\\"cooking teacher\\\",\\n    \\\"school teacher\\\",\\n    \\\"civics teacher\\\",\\n    \\\"schoolteacher and\\\",\\n    \\\"schoolteacher\\\",\\n    \\\"M\\u00e9tis teacher\\\",\\n    \\\"teacher aide\\\",\\n    \\\"head teacher\\\",\\n    \\\"and instructor\\\",\\n    \\\"instructor and\\\",\\n    \\\"instructor\\\",\\n    \\\"headteacher\\\",\\n    \\\"pedagogue\\\",\\n    \\\"teacher and\\\",\\n    \\\"and teacher\\\",\\n    \\\"teacher\\\",\\n]\\n\\n\\nlaw_enf_military_operator = [\\n    \\\"Jewish resistance member during the Holocaust\\\",\\n    \\\"resistance member during World War II\\\",\\n    \\\"glider pilot and flight instructor\\\",  # before academia_humanities\\n    \\\"World War II resistance member\\\",\\n    \\\"military drill instructor\\\",\\n    \\\"Jewish resistance member\\\",\\n    \\\"WWII resistance member\\\",\\n    \\\"flight instructor and\\\",\\n    \\\"police officer and\\\",\\n    \\\"and police officer\\\",\\n    \\\"WAAF aircraftwoman\\\",\\n    \\\"resistance member\\\",\\n    \\\"police officer\\\",\\n    \\\"FBI instructor\\\",\\n]\\nspiritual = [\\n    \\\"Buddhist monk and meditation teacher\\\",  # before academia_humanities\\n    \\\"Hindu spiritual leader and teacher\\\",\\n    \\\"Buddhist monk and Dzogchen teacher\\\",\\n    \\\"Zen Buddhist teacher and r\\u014dshi\\\",\\n    \\\"Zen Buddhist priest and teacher\\\",\\n    \\\"Q\\u0101ri\\u02be and Qira'at teacher\\\",\\n    \\\"Hindu spiritual teacher\\\",\\n    \\\"Hindu monk and teacher\\\",\\n    \\\"metaphysical teacher\\\",\\n    \\\"Zen Buddhist teacher\\\",\\n    \\\"teacher of Rinzai Zen\\\",\\n    \\\"teacher of Buddhism\\\",\\n    \\\"Rinzai Zen teacher\\\",\\n    \\\"meditation teacher\\\",\\n    \\\"spiritual teacher\\\",\\n    \\\"religious teacher\\\",\\n    \\\"Vipassana teacher\\\",\\n    \\\"Buddhist  teacher\\\",\\n    \\\"Buddhist teacher\\\",\\n    \\\"Sister of Mercy\\\",\\n    \\\"Sufi  teacher\\\",\\n    \\\"Bible teacher\\\",\\n    \\\"Sufi teacher\\\",\\n]\\nsocial = [\\n    \\\"socialite\\\",\\n]\\ncrime = [\\n    \\\"convicted rapist\\\",\\n    \\\"child molester\\\",\\n]\\nevent_record_other = [\\n    \\\"whose oxygen machine failed after power cut for unpaid account\\\",\\n    \\\"and Holocaust survivor\\\",\\n    \\\"substitute teacher and census worker\\\",\\n    \\\"school teacher and heroine\\\",  # before academia_humanities\\n]\\nother_species = []\";\n",
       "                var nbb_cells = Jupyter.notebook.get_cells();\n",
       "                for (var i = 0; i < nbb_cells.length; ++i) {\n",
       "                    if (nbb_cells[i].input_prompt_number == nbb_cell_id) {\n",
       "                        if (nbb_cells[i].get_text() == nbb_unformatted_code) {\n",
       "                             nbb_cells[i].set_text(nbb_formatted_code);\n",
       "                        }\n",
       "                        break;\n",
       "                    }\n",
       "                }\n",
       "            }, 500);\n",
       "            "
      ],
      "text/plain": [
       "<IPython.core.display.Javascript object>"
      ]
     },
     "metadata": {},
     "output_type": "display_data"
    }
   ],
   "source": [
    "# Creating lists for each category\n",
    "politics_govt_law = [\n",
    "    \"who defected from the Bolshoi Opera in\",\n",
    "    \"and exiled prince of Yawnghwe\",\n",
    "    \"and public bookcase proponent\",\n",
    "    \"exiled anti Castro militant\",\n",
    "    \"language campaigner\",\n",
    "    \"and trade unionist\",\n",
    "    \"trade unionist and\",\n",
    "    \"trade unionist\",\n",
    "    \"public servant\",\n",
    "    \"exiled\",\n",
    "]\n",
    "\n",
    "arts = [\n",
    "    \"half of the singing duo the Righteous Brothers\",\n",
    "    \"acting at the Royal Academy of Dramatic Arts\",\n",
    "    \"mezzo soprano at the City Opera for years\",\n",
    "    \"soprano and mezzo soprano and librettist\",\n",
    "    \"operatic soprano and a People Artist of\",\n",
    "    \"rock and roll violinist and guitarist\",\n",
    "    \"operatic contralto and mezzo soprano\",\n",
    "    \"operatic mezzo soprano and contralto\",\n",
    "    \"violinist with the Beaux Arts Trio\",\n",
    "    \"dramaturge and newspaper columnist\",\n",
    "    \"beauty queen and operatic soprano\",\n",
    "    \"ballet dancer and ballet mistress\",\n",
    "    \"and inspirational music teacher\",  # before academia_humanities\n",
    "    \"horn player and brass instrument\",\n",
    "    \"drama and comparative literature\",\n",
    "    \"stage director and drama teacher\",\n",
    "    \"violinist and orchestra leader\",\n",
    "    \"dramatist and theater director\",\n",
    "    \"jazz violinist and bass player\",\n",
    "    \"classical violinist and music\",\n",
    "    \"dramatist and literary critic\",\n",
    "    \"ballet dancer and City Ballet\",\n",
    "    \"Konkani language litterateur\",\n",
    "    \"violinist and fashion model\",\n",
    "    \"violinist and concertmaster\",\n",
    "    \"ballet dancer and executive\",\n",
    "    \"dramatic coloratura soprano\",\n",
    "    \"traditional music performer\",\n",
    "    \"drama critic and biographer\",\n",
    "    \"creator of the book series\",\n",
    "    \"operatic soprano and music\",\n",
    "    \"operatic soprano and music\",\n",
    "    \"violinist and mandolinist\",\n",
    "    \"drama and literary critic\",\n",
    "    \"ballet dancer and master\",\n",
    "    \"ballet dancer and ballet\",\n",
    "    \"coloratura mezzo soprano\",\n",
    "    \"classical ballet dancer\",\n",
    "    \"mezzo soprano and voice\",\n",
    "    \"modern dancer and dance\",\n",
    "    \"literature and theater\",\n",
    "    \"operatic mezzo soprano\",\n",
    "    \"Jewish literary critic\",\n",
    "    \"Tulu Kannada dramatist\",\n",
    "    \"clarinetist and music\",\n",
    "    \"soprano and presenter\",\n",
    "    \"television drama and\",\n",
    "    \"television dramatist\",\n",
    "    \"etiquette instructor\",\n",
    "    \"violinist and music\",\n",
    "    \"classical violinist\",\n",
    "    \"ballerina and dance\",\n",
    "    \"based ballet dancer\",\n",
    "    \"literary critic and\",\n",
    "    \"and literary critic\",\n",
    "    \"instrument designer\",\n",
    "    \"soprano and a voice\",\n",
    "    \"classical violinist\",\n",
    "    \"classical guitarist\",\n",
    "    \"flautist and music\",\n",
    "    \"horticulturist and\",\n",
    "    \"and horticulturist\",\n",
    "    \"theatrical advisor\",\n",
    "    \"dancer and acting\",\n",
    "    \"violist and music\",\n",
    "    \"ballet dancer and\",\n",
    "    \"cultural promoter\",\n",
    "    \"coloratura soprano\",\n",
    "    \"Carnatic violinist\",\n",
    "    \"Amateur violinist\",\n",
    "    \"classical soprano\",\n",
    "    \"tic mezzo soprano\",\n",
    "    \"concert violinist\",\n",
    "    \"operatic soprano\",\n",
    "    \"dramatic soprano\",\n",
    "    \"dancer and dance\",\n",
    "    \"female violinist\",\n",
    "    \"blues violinist\",\n",
    "    \"jazz and ballet\",\n",
    "    \"radio dramatist\",\n",
    "    \"literary critic\",\n",
    "    \"concert cellist\",\n",
    "    \"ballet director\",\n",
    "    \"fashion design\",\n",
    "    \"horticulturist\",\n",
    "    \"stage director\",\n",
    "    \"choir director\",\n",
    "    \"violin soloist\",\n",
    "    \"jazz violinist\",\n",
    "    \"opera soprano\",\n",
    "    \"lyric soprano\",\n",
    "    \"choreographer\",\n",
    "    \"ballet dancer\",\n",
    "    \"drama critic\",\n",
    "    \"tic soprano\",\n",
    "    \"choirmaster\",\n",
    "    \"of design\",\n",
    "    \"dramatist\",\n",
    "    \"soprano\",\n",
    "    \"singing\",\n",
    "    \"drama\",\n",
    "]\n",
    "sports = [\n",
    "    \"aikido instructor and Aikikai teacher\",  # before academia_humanities\n",
    "    \"golf player and instructor\",\n",
    "    \"shodo and aikido teacher\",\n",
    "    \"Iyengar Yoga instructor\",\n",
    "    \"pioneer judo teacher\",\n",
    "    \"karateka and teacher\",\n",
    "    \"taekwondo instructor\",\n",
    "    \"and yoga instructor\",\n",
    "    \"dressage instructor\",\n",
    "    \"Pilates instructor\",\n",
    "    \"pilates instructor\",\n",
    "    \"pilates teacher\",\n",
    "    '\"yoga teacher \"',\n",
    "    \"aikido teacher\",\n",
    "    \"Aikido teacher\",\n",
    "    \"yoga teacher\",\n",
    "]\n",
    "sciences = []\n",
    "\n",
    "business_farming = []\n",
    "academia_humanities = [\n",
    "    \"teacher and director of the Willie Clancy Summer School\",\n",
    "    \"teacher who popularized speed reading\",\n",
    "    \"musicologist and university teacher\",\n",
    "    \"teacher and quiz show contestant\",\n",
    "    \"teacher and photograph subject\",\n",
    "    \"and university teacher\",\n",
    "    \"physical education teacher\",\n",
    "    \"musicologist and teacher\",\n",
    "    \"Lakota language teacher\",\n",
    "    \"teacher who named Pluto\",\n",
    "    \"folklorist and teacher\",\n",
    "    \"transgender teacher\",\n",
    "    \"mathematics teacher\",\n",
    "    \"university teacher\",\n",
    "    \"pioneering teacher\",\n",
    "    \"University teacher\",\n",
    "    \"volunteer teacher\",\n",
    "    \"academy founder\",\n",
    "    \"cooking teacher\",\n",
    "    \"school teacher\",\n",
    "    \"civics teacher\",\n",
    "    \"schoolteacher and\",\n",
    "    \"schoolteacher\",\n",
    "    \"Métis teacher\",\n",
    "    \"teacher aide\",\n",
    "    \"head teacher\",\n",
    "    \"and instructor\",\n",
    "    \"instructor and\",\n",
    "    \"instructor\",\n",
    "    \"headteacher\",\n",
    "    \"pedagogue\",\n",
    "    \"teacher and\",\n",
    "    \"and teacher\",\n",
    "    \"teacher\",\n",
    "]\n",
    "\n",
    "\n",
    "law_enf_military_operator = [\n",
    "    \"Jewish resistance member during the Holocaust\",\n",
    "    \"resistance member during World War II\",\n",
    "    \"glider pilot and flight instructor\",  # before academia_humanities\n",
    "    \"World War II resistance member\",\n",
    "    \"military drill instructor\",\n",
    "    \"Jewish resistance member\",\n",
    "    \"WWII resistance member\",\n",
    "    \"flight instructor and\",\n",
    "    \"police officer and\",\n",
    "    \"and police officer\",\n",
    "    \"WAAF aircraftwoman\",\n",
    "    \"resistance member\",\n",
    "    \"police officer\",\n",
    "    \"FBI instructor\",\n",
    "]\n",
    "spiritual = [\n",
    "    \"Buddhist monk and meditation teacher\",  # before academia_humanities\n",
    "    \"Hindu spiritual leader and teacher\",\n",
    "    \"Buddhist monk and Dzogchen teacher\",\n",
    "    \"Zen Buddhist teacher and rōshi\",\n",
    "    \"Zen Buddhist priest and teacher\",\n",
    "    \"Qāriʾ and Qira'at teacher\",\n",
    "    \"Hindu spiritual teacher\",\n",
    "    \"Hindu monk and teacher\",\n",
    "    \"metaphysical teacher\",\n",
    "    \"Zen Buddhist teacher\",\n",
    "    \"teacher of Rinzai Zen\",\n",
    "    \"teacher of Buddhism\",\n",
    "    \"Rinzai Zen teacher\",\n",
    "    \"meditation teacher\",\n",
    "    \"spiritual teacher\",\n",
    "    \"religious teacher\",\n",
    "    \"Vipassana teacher\",\n",
    "    \"Buddhist  teacher\",\n",
    "    \"Buddhist teacher\",\n",
    "    \"Sister of Mercy\",\n",
    "    \"Sufi  teacher\",\n",
    "    \"Bible teacher\",\n",
    "    \"Sufi teacher\",\n",
    "]\n",
    "social = [\n",
    "    \"socialite\",\n",
    "]\n",
    "crime = [\n",
    "    \"convicted rapist\",\n",
    "    \"child molester\",\n",
    "]\n",
    "event_record_other = [\n",
    "    \"whose oxygen machine failed after power cut for unpaid account\",\n",
    "    \"and Holocaust survivor\",\n",
    "    \"substitute teacher and census worker\",\n",
    "    \"school teacher and heroine\",  # before academia_humanities\n",
    "]\n",
    "other_species = []"
   ]
  },
  {
   "cell_type": "markdown",
   "id": "d183d886",
   "metadata": {},
   "source": [
    "#### Creating `known_for_dict` Dictionary of Category Keys and Specific Role Lists of Values"
   ]
  },
  {
   "cell_type": "code",
   "execution_count": 124,
   "id": "2979daaf",
   "metadata": {},
   "outputs": [
    {
     "data": {
      "application/javascript": [
       "\n",
       "            setTimeout(function() {\n",
       "                var nbb_cell_id = 124;\n",
       "                var nbb_unformatted_code = \"# Combining separate lists into one dictionary\\nknown_for_dict = {\\n    \\\"social\\\": social,\\n    \\\"spiritual\\\": spiritual,\\n    \\\"business_farming\\\": business_farming,\\n    \\\"sciences\\\": sciences,\\n    \\\"politics_govt_law\\\": politics_govt_law,\\n    \\\"law_enf_military_operator\\\": law_enf_military_operator,\\n    \\\"crime\\\": crime,\\n    \\\"event_record_other\\\": event_record_other,\\n    \\\"other_species\\\": other_species,\\n    \\\"arts\\\": arts,\\n    \\\"sports\\\": sports,\\n    \\\"academia_humanities\\\": academia_humanities,\\n}\";\n",
       "                var nbb_formatted_code = \"# Combining separate lists into one dictionary\\nknown_for_dict = {\\n    \\\"social\\\": social,\\n    \\\"spiritual\\\": spiritual,\\n    \\\"business_farming\\\": business_farming,\\n    \\\"sciences\\\": sciences,\\n    \\\"politics_govt_law\\\": politics_govt_law,\\n    \\\"law_enf_military_operator\\\": law_enf_military_operator,\\n    \\\"crime\\\": crime,\\n    \\\"event_record_other\\\": event_record_other,\\n    \\\"other_species\\\": other_species,\\n    \\\"arts\\\": arts,\\n    \\\"sports\\\": sports,\\n    \\\"academia_humanities\\\": academia_humanities,\\n}\";\n",
       "                var nbb_cells = Jupyter.notebook.get_cells();\n",
       "                for (var i = 0; i < nbb_cells.length; ++i) {\n",
       "                    if (nbb_cells[i].input_prompt_number == nbb_cell_id) {\n",
       "                        if (nbb_cells[i].get_text() == nbb_unformatted_code) {\n",
       "                             nbb_cells[i].set_text(nbb_formatted_code);\n",
       "                        }\n",
       "                        break;\n",
       "                    }\n",
       "                }\n",
       "            }, 500);\n",
       "            "
      ],
      "text/plain": [
       "<IPython.core.display.Javascript object>"
      ]
     },
     "metadata": {},
     "output_type": "display_data"
    }
   ],
   "source": [
    "# Combining separate lists into one dictionary\n",
    "known_for_dict = {\n",
    "    \"social\": social,\n",
    "    \"spiritual\": spiritual,\n",
    "    \"business_farming\": business_farming,\n",
    "    \"sciences\": sciences,\n",
    "    \"politics_govt_law\": politics_govt_law,\n",
    "    \"law_enf_military_operator\": law_enf_military_operator,\n",
    "    \"crime\": crime,\n",
    "    \"event_record_other\": event_record_other,\n",
    "    \"other_species\": other_species,\n",
    "    \"arts\": arts,\n",
    "    \"sports\": sports,\n",
    "    \"academia_humanities\": academia_humanities,\n",
    "}"
   ]
  },
  {
   "cell_type": "markdown",
   "id": "e439e6b8",
   "metadata": {},
   "source": [
    "#### Extracting Category from `info_2`"
   ]
  },
  {
   "cell_type": "code",
   "execution_count": 125,
   "id": "99653716",
   "metadata": {},
   "outputs": [
    {
     "name": "stdout",
     "output_type": "stream",
     "text": [
      "CPU times: total: 1min 44s\n",
      "Wall time: 1min 44s\n"
     ]
    },
    {
     "data": {
      "text/html": [
       "<div>\n",
       "<style scoped>\n",
       "    .dataframe tbody tr th:only-of-type {\n",
       "        vertical-align: middle;\n",
       "    }\n",
       "\n",
       "    .dataframe tbody tr th {\n",
       "        vertical-align: top;\n",
       "    }\n",
       "\n",
       "    .dataframe thead th {\n",
       "        text-align: right;\n",
       "    }\n",
       "</style>\n",
       "<table border=\"1\" class=\"dataframe\">\n",
       "  <thead>\n",
       "    <tr style=\"text-align: right;\">\n",
       "      <th></th>\n",
       "      <th>day</th>\n",
       "      <th>name</th>\n",
       "      <th>info</th>\n",
       "      <th>link</th>\n",
       "      <th>num_references</th>\n",
       "      <th>year</th>\n",
       "      <th>month</th>\n",
       "      <th>info_parenth</th>\n",
       "      <th>info_1</th>\n",
       "      <th>info_2</th>\n",
       "      <th>info_3</th>\n",
       "      <th>info_4</th>\n",
       "      <th>info_5</th>\n",
       "      <th>info_6</th>\n",
       "      <th>info_7</th>\n",
       "      <th>info_8</th>\n",
       "      <th>info_9</th>\n",
       "      <th>info_10</th>\n",
       "      <th>info_11</th>\n",
       "      <th>age</th>\n",
       "      <th>cause_of_death</th>\n",
       "      <th>place_1</th>\n",
       "      <th>place_2</th>\n",
       "      <th>info_parenth_copy</th>\n",
       "      <th>log_num_references</th>\n",
       "      <th>sciences</th>\n",
       "      <th>social</th>\n",
       "      <th>spiritual</th>\n",
       "      <th>academia_humanities</th>\n",
       "      <th>business_farming</th>\n",
       "      <th>arts</th>\n",
       "      <th>sports</th>\n",
       "      <th>law_enf_military_operator</th>\n",
       "      <th>politics_govt_law</th>\n",
       "      <th>crime</th>\n",
       "      <th>event_record_other</th>\n",
       "      <th>other_species</th>\n",
       "      <th>num_categories</th>\n",
       "    </tr>\n",
       "  </thead>\n",
       "  <tbody>\n",
       "    <tr>\n",
       "      <th>36551</th>\n",
       "      <td>9</td>\n",
       "      <td>Myra Taylor</td>\n",
       "      <td>, 94, American jazz singer.</td>\n",
       "      <td>https://en.wikipedia.org/wiki/Myra_Taylor_(singer)</td>\n",
       "      <td>24</td>\n",
       "      <td>2011</td>\n",
       "      <td>December</td>\n",
       "      <td>None</td>\n",
       "      <td>None</td>\n",
       "      <td></td>\n",
       "      <td>None</td>\n",
       "      <td>None</td>\n",
       "      <td>None</td>\n",
       "      <td>None</td>\n",
       "      <td>None</td>\n",
       "      <td>None</td>\n",
       "      <td>None</td>\n",
       "      <td>None</td>\n",
       "      <td>None</td>\n",
       "      <td>94.0</td>\n",
       "      <td>None</td>\n",
       "      <td>United States of America</td>\n",
       "      <td>None</td>\n",
       "      <td>None</td>\n",
       "      <td>3.218876</td>\n",
       "      <td>0</td>\n",
       "      <td>0</td>\n",
       "      <td>0</td>\n",
       "      <td>0</td>\n",
       "      <td>0</td>\n",
       "      <td>1</td>\n",
       "      <td>0</td>\n",
       "      <td>0</td>\n",
       "      <td>0</td>\n",
       "      <td>0</td>\n",
       "      <td>0</td>\n",
       "      <td>0</td>\n",
       "      <td>1</td>\n",
       "    </tr>\n",
       "    <tr>\n",
       "      <th>7231</th>\n",
       "      <td>26</td>\n",
       "      <td>Shirley Ardell Mason</td>\n",
       "      <td>, 75, American psychiatric patient and art teacher, breast cancer.</td>\n",
       "      <td>https://en.wikipedia.org/wiki/Shirley_Ardell_Mason</td>\n",
       "      <td>20</td>\n",
       "      <td>1998</td>\n",
       "      <td>February</td>\n",
       "      <td>None</td>\n",
       "      <td>None</td>\n",
       "      <td></td>\n",
       "      <td>breast cancer</td>\n",
       "      <td>None</td>\n",
       "      <td>None</td>\n",
       "      <td>None</td>\n",
       "      <td>None</td>\n",
       "      <td>None</td>\n",
       "      <td>None</td>\n",
       "      <td>None</td>\n",
       "      <td>None</td>\n",
       "      <td>75.0</td>\n",
       "      <td>None</td>\n",
       "      <td>United States of America</td>\n",
       "      <td>None</td>\n",
       "      <td>None</td>\n",
       "      <td>3.044522</td>\n",
       "      <td>0</td>\n",
       "      <td>0</td>\n",
       "      <td>0</td>\n",
       "      <td>1</td>\n",
       "      <td>0</td>\n",
       "      <td>1</td>\n",
       "      <td>0</td>\n",
       "      <td>0</td>\n",
       "      <td>0</td>\n",
       "      <td>0</td>\n",
       "      <td>0</td>\n",
       "      <td>0</td>\n",
       "      <td>2</td>\n",
       "    </tr>\n",
       "  </tbody>\n",
       "</table>\n",
       "</div>"
      ],
      "text/plain": [
       "      day                  name  \\\n",
       "36551   9           Myra Taylor   \n",
       "7231   26  Shirley Ardell Mason   \n",
       "\n",
       "                                                                     info  \\\n",
       "36551                                         , 94, American jazz singer.   \n",
       "7231   , 75, American psychiatric patient and art teacher, breast cancer.   \n",
       "\n",
       "                                                     link  num_references  \\\n",
       "36551  https://en.wikipedia.org/wiki/Myra_Taylor_(singer)              24   \n",
       "7231   https://en.wikipedia.org/wiki/Shirley_Ardell_Mason              20   \n",
       "\n",
       "       year     month info_parenth info_1 info_2         info_3 info_4 info_5  \\\n",
       "36551  2011  December         None   None                  None   None   None   \n",
       "7231   1998  February         None   None         breast cancer   None   None   \n",
       "\n",
       "      info_6 info_7 info_8 info_9 info_10 info_11   age cause_of_death  \\\n",
       "36551   None   None   None   None    None    None  94.0           None   \n",
       "7231    None   None   None   None    None    None  75.0           None   \n",
       "\n",
       "                        place_1 place_2 info_parenth_copy  log_num_references  \\\n",
       "36551  United States of America    None              None            3.218876   \n",
       "7231   United States of America    None              None            3.044522   \n",
       "\n",
       "       sciences  social  spiritual  academia_humanities  business_farming  \\\n",
       "36551         0       0          0                    0                 0   \n",
       "7231          0       0          0                    1                 0   \n",
       "\n",
       "       arts  sports  law_enf_military_operator  politics_govt_law  crime  \\\n",
       "36551     1       0                          0                  0      0   \n",
       "7231      1       0                          0                  0      0   \n",
       "\n",
       "       event_record_other  other_species  num_categories  \n",
       "36551                   0              0               1  \n",
       "7231                    0              0               2  "
      ]
     },
     "execution_count": 125,
     "metadata": {},
     "output_type": "execute_result"
    },
    {
     "data": {
      "application/javascript": [
       "\n",
       "            setTimeout(function() {\n",
       "                var nbb_cell_id = 125;\n",
       "                var nbb_unformatted_code = \"%%time\\n\\n# Dictionary version\\nsearch_dict = known_for_dict\\n\\n# Column to check\\ncolumn = 'info_2'\\n\\n# Dataframe\\ndataframe = df[column].notna()\\n\\n# For loop to find role in column and extract it as category\\nfor category, category_lst in search_dict.items():\\n    for role in category_lst:\\n        for index in dataframe.index:\\n            item = df.loc[index, column]\\n            if item:\\n                if role in item:\\n                    df.loc[index, category] = 1\\n                    df.loc[index, column] = item.replace(role, '').strip()\\n\\n# Updating num_categories\\ndf[\\\"num_categories\\\"] = df[known_for_dict.keys()].sum(axis=1)\\n\\n# Checking a sample of rows\\ndf[df['arts'] ==1].sample(2)\";\n",
       "                var nbb_formatted_code = \"%%time\\n\\n# Dictionary version\\nsearch_dict = known_for_dict\\n\\n# Column to check\\ncolumn = 'info_2'\\n\\n# Dataframe\\ndataframe = df[column].notna()\\n\\n# For loop to find role in column and extract it as category\\nfor category, category_lst in search_dict.items():\\n    for role in category_lst:\\n        for index in dataframe.index:\\n            item = df.loc[index, column]\\n            if item:\\n                if role in item:\\n                    df.loc[index, category] = 1\\n                    df.loc[index, column] = item.replace(role, '').strip()\\n\\n# Updating num_categories\\ndf[\\\"num_categories\\\"] = df[known_for_dict.keys()].sum(axis=1)\\n\\n# Checking a sample of rows\\ndf[df['arts'] ==1].sample(2)\";\n",
       "                var nbb_cells = Jupyter.notebook.get_cells();\n",
       "                for (var i = 0; i < nbb_cells.length; ++i) {\n",
       "                    if (nbb_cells[i].input_prompt_number == nbb_cell_id) {\n",
       "                        if (nbb_cells[i].get_text() == nbb_unformatted_code) {\n",
       "                             nbb_cells[i].set_text(nbb_formatted_code);\n",
       "                        }\n",
       "                        break;\n",
       "                    }\n",
       "                }\n",
       "            }, 500);\n",
       "            "
      ],
      "text/plain": [
       "<IPython.core.display.Javascript object>"
      ]
     },
     "metadata": {},
     "output_type": "display_data"
    }
   ],
   "source": [
    "%%time\n",
    "\n",
    "# Dictionary version\n",
    "search_dict = known_for_dict\n",
    "\n",
    "# Column to check\n",
    "column = 'info_2'\n",
    "\n",
    "# Dataframe\n",
    "dataframe = df[column].notna()\n",
    "\n",
    "# For loop to find role in column and extract it as category\n",
    "for category, category_lst in search_dict.items():\n",
    "    for role in category_lst:\n",
    "        for index in dataframe.index:\n",
    "            item = df.loc[index, column]\n",
    "            if item:\n",
    "                if role in item:\n",
    "                    df.loc[index, category] = 1\n",
    "                    df.loc[index, column] = item.replace(role, '').strip()\n",
    "\n",
    "# Updating num_categories\n",
    "df[\"num_categories\"] = df[known_for_dict.keys()].sum(axis=1)\n",
    "\n",
    "# Checking a sample of rows\n",
    "df[df['arts'] ==1].sample(2)"
   ]
  },
  {
   "cell_type": "markdown",
   "id": "1b17633b",
   "metadata": {},
   "source": [
    "#### Checking the Number of Rows without a First Category"
   ]
  },
  {
   "cell_type": "code",
   "execution_count": 126,
   "id": "7942753c",
   "metadata": {},
   "outputs": [
    {
     "name": "stdout",
     "output_type": "stream",
     "text": [
      "There are 23944 entries without any known_for category.\n"
     ]
    },
    {
     "data": {
      "application/javascript": [
       "\n",
       "            setTimeout(function() {\n",
       "                var nbb_cell_id = 126;\n",
       "                var nbb_unformatted_code = \"# Checking the number of rows without a first category\\nprint(\\n    f'There are {len(df[df[\\\"num_categories\\\"]==0])} entries without any known_for category.'\\n)\";\n",
       "                var nbb_formatted_code = \"# Checking the number of rows without a first category\\nprint(\\n    f'There are {len(df[df[\\\"num_categories\\\"]==0])} entries without any known_for category.'\\n)\";\n",
       "                var nbb_cells = Jupyter.notebook.get_cells();\n",
       "                for (var i = 0; i < nbb_cells.length; ++i) {\n",
       "                    if (nbb_cells[i].input_prompt_number == nbb_cell_id) {\n",
       "                        if (nbb_cells[i].get_text() == nbb_unformatted_code) {\n",
       "                             nbb_cells[i].set_text(nbb_formatted_code);\n",
       "                        }\n",
       "                        break;\n",
       "                    }\n",
       "                }\n",
       "            }, 500);\n",
       "            "
      ],
      "text/plain": [
       "<IPython.core.display.Javascript object>"
      ]
     },
     "metadata": {},
     "output_type": "display_data"
    }
   ],
   "source": [
    "# Checking the number of rows without a first category\n",
    "print(\n",
    "    f'There are {len(df[df[\"num_categories\"]==0])} entries without any known_for category.'\n",
    ")"
   ]
  },
  {
   "cell_type": "markdown",
   "id": "0f66697e",
   "metadata": {},
   "source": [
    "#### Observations:\n",
    "- It is time to export our dataframe and start a new notebook."
   ]
  },
  {
   "cell_type": "markdown",
   "id": "1113a242",
   "metadata": {},
   "source": [
    "### Exporting Dataset to SQLite Database [wp_life_expect_clean10.db](https://github.com/teresahanak/wikipedia-life-expectancy/blob/main/wp_life_expect_clean10.db)"
   ]
  },
  {
   "cell_type": "code",
   "execution_count": 127,
   "id": "6008ac61",
   "metadata": {},
   "outputs": [
    {
     "data": {
      "application/javascript": [
       "\n",
       "            setTimeout(function() {\n",
       "                var nbb_cell_id = 127;\n",
       "                var nbb_unformatted_code = \"# Exporting dataframe\\n\\n# Saving dataset in a SQLite database\\nconn = sql.connect(\\\"wp_life_expect_clean10.db\\\")\\ndf.to_sql(\\\"wp_life_expect_clean10\\\", conn, index=False)\\n\\n# Chime notification when cell executes\\nchime.success()\";\n",
       "                var nbb_formatted_code = \"# Exporting dataframe\\n\\n# Saving dataset in a SQLite database\\nconn = sql.connect(\\\"wp_life_expect_clean10.db\\\")\\ndf.to_sql(\\\"wp_life_expect_clean10\\\", conn, index=False)\\n\\n# Chime notification when cell executes\\nchime.success()\";\n",
       "                var nbb_cells = Jupyter.notebook.get_cells();\n",
       "                for (var i = 0; i < nbb_cells.length; ++i) {\n",
       "                    if (nbb_cells[i].input_prompt_number == nbb_cell_id) {\n",
       "                        if (nbb_cells[i].get_text() == nbb_unformatted_code) {\n",
       "                             nbb_cells[i].set_text(nbb_formatted_code);\n",
       "                        }\n",
       "                        break;\n",
       "                    }\n",
       "                }\n",
       "            }, 500);\n",
       "            "
      ],
      "text/plain": [
       "<IPython.core.display.Javascript object>"
      ]
     },
     "metadata": {},
     "output_type": "display_data"
    }
   ],
   "source": [
    "# Exporting dataframe\n",
    "\n",
    "# Saving dataset in a SQLite database\n",
    "conn = sql.connect(\"wp_life_expect_clean10.db\")\n",
    "df.to_sql(\"wp_life_expect_clean10\", conn, index=False)\n",
    "\n",
    "# Chime notification when cell executes\n",
    "chime.success()"
   ]
  },
  {
   "cell_type": "markdown",
   "id": "11aacfcc",
   "metadata": {},
   "source": [
    "# [Proceed to Data Cleaning Part 11](https://github.com/teresahanak/wikipedia-life-expectancy/blob/main/wp_life_expect_data_clean11_thanak_2022_07_26.ipynb)"
   ]
  }
 ],
 "metadata": {
  "kernelspec": {
   "display_name": "Python 3 (ipykernel)",
   "language": "python",
   "name": "python3"
  },
  "language_info": {
   "codemirror_mode": {
    "name": "ipython",
    "version": 3
   },
   "file_extension": ".py",
   "mimetype": "text/x-python",
   "name": "python",
   "nbconvert_exporter": "python",
   "pygments_lexer": "ipython3",
   "version": "3.9.12"
  }
 },
 "nbformat": 4,
 "nbformat_minor": 5
}
