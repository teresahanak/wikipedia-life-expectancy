{
 "cells": [
  {
   "cell_type": "markdown",
   "id": "316a0779",
   "metadata": {},
   "source": [
    "# Wikipedia Notable Life Expectancies\n",
    "# [Notebook 6: Data Cleaning Part 5](https://github.com/teresahanak/wikipedia-life-expectancy/blob/main/wp_life_expect_data_clean5_thanak_2022_07_26.ipynb)\n",
    "### Context\n",
    "\n",
    "The\n",
    "### Objective\n",
    "\n",
    "The\n",
    "### Data Dictionary\n",
    "- Feature: Description"
   ]
  },
  {
   "cell_type": "markdown",
   "id": "99245d51",
   "metadata": {},
   "source": [
    "### Importing Libraries"
   ]
  },
  {
   "cell_type": "code",
   "execution_count": 1,
   "id": "453bba83",
   "metadata": {},
   "outputs": [
    {
     "data": {
      "application/javascript": [
       "\n",
       "            setTimeout(function() {\n",
       "                var nbb_cell_id = 1;\n",
       "                var nbb_unformatted_code = \"# To structure code automatically\\n%load_ext nb_black\\n\\n# To import/export sqlite databases\\nimport sqlite3 as sql\\n\\n# To save/open python objects in pickle file\\nimport pickle\\n\\n# To help with reading, cleaning, and manipulating data\\nimport pandas as pd\\nimport numpy as np\\nimport re\\n\\n# To define maximum number of columns to be displayed in a dataframe\\npd.set_option(\\\"display.max_columns\\\", None)\\n# To define the maximum number of rows to be displayed in a dataframe\\npd.set_option(\\\"display.max_rows\\\", 200)\\n\\n# To supress warnings\\n# import warnings\\n\\n# warnings.filterwarnings(\\\"ignore\\\")\\n\\n# To set some visualization attributes\\npd.set_option(\\\"max_colwidth\\\", 150)\\n\\n# To play auditory cue when cell has executed, has warning, or has error and set chime theme\\nimport chime\\n\\nchime.theme(\\\"zelda\\\")\";\n",
       "                var nbb_formatted_code = \"# To structure code automatically\\n%load_ext nb_black\\n\\n# To import/export sqlite databases\\nimport sqlite3 as sql\\n\\n# To save/open python objects in pickle file\\nimport pickle\\n\\n# To help with reading, cleaning, and manipulating data\\nimport pandas as pd\\nimport numpy as np\\nimport re\\n\\n# To define maximum number of columns to be displayed in a dataframe\\npd.set_option(\\\"display.max_columns\\\", None)\\n# To define the maximum number of rows to be displayed in a dataframe\\npd.set_option(\\\"display.max_rows\\\", 200)\\n\\n# To supress warnings\\n# import warnings\\n\\n# warnings.filterwarnings(\\\"ignore\\\")\\n\\n# To set some visualization attributes\\npd.set_option(\\\"max_colwidth\\\", 150)\\n\\n# To play auditory cue when cell has executed, has warning, or has error and set chime theme\\nimport chime\\n\\nchime.theme(\\\"zelda\\\")\";\n",
       "                var nbb_cells = Jupyter.notebook.get_cells();\n",
       "                for (var i = 0; i < nbb_cells.length; ++i) {\n",
       "                    if (nbb_cells[i].input_prompt_number == nbb_cell_id) {\n",
       "                        if (nbb_cells[i].get_text() == nbb_unformatted_code) {\n",
       "                             nbb_cells[i].set_text(nbb_formatted_code);\n",
       "                        }\n",
       "                        break;\n",
       "                    }\n",
       "                }\n",
       "            }, 500);\n",
       "            "
      ],
      "text/plain": [
       "<IPython.core.display.Javascript object>"
      ]
     },
     "metadata": {},
     "output_type": "display_data"
    }
   ],
   "source": [
    "# To structure code automatically\n",
    "%load_ext nb_black\n",
    "\n",
    "# To import/export sqlite databases\n",
    "import sqlite3 as sql\n",
    "\n",
    "# To save/open python objects in pickle file\n",
    "import pickle\n",
    "\n",
    "# To help with reading, cleaning, and manipulating data\n",
    "import pandas as pd\n",
    "import numpy as np\n",
    "import re\n",
    "\n",
    "# To define maximum number of columns to be displayed in a dataframe\n",
    "pd.set_option(\"display.max_columns\", None)\n",
    "# To define the maximum number of rows to be displayed in a dataframe\n",
    "pd.set_option(\"display.max_rows\", 200)\n",
    "\n",
    "# To supress warnings\n",
    "# import warnings\n",
    "\n",
    "# warnings.filterwarnings(\"ignore\")\n",
    "\n",
    "# To set some visualization attributes\n",
    "pd.set_option(\"max_colwidth\", 150)\n",
    "\n",
    "# To play auditory cue when cell has executed, has warning, or has error and set chime theme\n",
    "import chime\n",
    "\n",
    "chime.theme(\"zelda\")"
   ]
  },
  {
   "cell_type": "markdown",
   "id": "cc818a82",
   "metadata": {},
   "source": [
    "## Data Overview"
   ]
  },
  {
   "cell_type": "markdown",
   "id": "0ed005f6",
   "metadata": {},
   "source": [
    "### [Reading](), Sampling, and Checking Data Shape"
   ]
  },
  {
   "cell_type": "code",
   "execution_count": 2,
   "id": "0ca58a95",
   "metadata": {},
   "outputs": [
    {
     "name": "stdout",
     "output_type": "stream",
     "text": [
      "There are 98045 rows and 48 columns.\n"
     ]
    },
    {
     "data": {
      "text/html": [
       "<div>\n",
       "<style scoped>\n",
       "    .dataframe tbody tr th:only-of-type {\n",
       "        vertical-align: middle;\n",
       "    }\n",
       "\n",
       "    .dataframe tbody tr th {\n",
       "        vertical-align: top;\n",
       "    }\n",
       "\n",
       "    .dataframe thead th {\n",
       "        text-align: right;\n",
       "    }\n",
       "</style>\n",
       "<table border=\"1\" class=\"dataframe\">\n",
       "  <thead>\n",
       "    <tr style=\"text-align: right;\">\n",
       "      <th></th>\n",
       "      <th>day</th>\n",
       "      <th>name</th>\n",
       "      <th>info</th>\n",
       "      <th>link</th>\n",
       "      <th>num_references</th>\n",
       "      <th>year</th>\n",
       "      <th>month</th>\n",
       "      <th>info_parenth</th>\n",
       "      <th>age</th>\n",
       "      <th>cause_of_death</th>\n",
       "      <th>place_1</th>\n",
       "      <th>place_2</th>\n",
       "      <th>info_parenth_copy</th>\n",
       "      <th>log_num_references</th>\n",
       "      <th>info_1_0</th>\n",
       "      <th>info_2_1</th>\n",
       "      <th>info_2_2</th>\n",
       "      <th>info_2_3</th>\n",
       "      <th>info_3_0</th>\n",
       "      <th>info_3_1</th>\n",
       "      <th>info_3_2</th>\n",
       "      <th>info_4_0</th>\n",
       "      <th>info_4_1</th>\n",
       "      <th>info_4_2</th>\n",
       "      <th>info_5_0</th>\n",
       "      <th>info_5_1</th>\n",
       "      <th>info_5_2</th>\n",
       "      <th>info_6_0</th>\n",
       "      <th>info_6_1</th>\n",
       "      <th>info_7_0</th>\n",
       "      <th>info_8_0</th>\n",
       "      <th>info_8_1</th>\n",
       "      <th>info_9_0</th>\n",
       "      <th>info_10_0</th>\n",
       "      <th>info_11_0</th>\n",
       "      <th>sciences</th>\n",
       "      <th>social</th>\n",
       "      <th>spiritual</th>\n",
       "      <th>academia_humanities</th>\n",
       "      <th>business_farming</th>\n",
       "      <th>arts</th>\n",
       "      <th>sports</th>\n",
       "      <th>law_enf_military_operator</th>\n",
       "      <th>politics_govt_law</th>\n",
       "      <th>crime</th>\n",
       "      <th>event_record_other</th>\n",
       "      <th>other_species</th>\n",
       "      <th>num_categories</th>\n",
       "    </tr>\n",
       "  </thead>\n",
       "  <tbody>\n",
       "    <tr>\n",
       "      <th>0</th>\n",
       "      <td>1</td>\n",
       "      <td>William Chappell</td>\n",
       "      <td>, 86, British dancer, ballet designer and director.</td>\n",
       "      <td>https://en.wikipedia.org/wiki/William_Chappell_(dancer)</td>\n",
       "      <td>21</td>\n",
       "      <td>1994</td>\n",
       "      <td>January</td>\n",
       "      <td>None</td>\n",
       "      <td>86.0</td>\n",
       "      <td>None</td>\n",
       "      <td>United Kingdom of Great Britain and Northern Ireland</td>\n",
       "      <td>None</td>\n",
       "      <td>None</td>\n",
       "      <td>3.091042</td>\n",
       "      <td>None</td>\n",
       "      <td>None</td>\n",
       "      <td>None</td>\n",
       "      <td>None</td>\n",
       "      <td>ballet designer</td>\n",
       "      <td>director</td>\n",
       "      <td>None</td>\n",
       "      <td>None</td>\n",
       "      <td>None</td>\n",
       "      <td>None</td>\n",
       "      <td>None</td>\n",
       "      <td>None</td>\n",
       "      <td>None</td>\n",
       "      <td>None</td>\n",
       "      <td>None</td>\n",
       "      <td>None</td>\n",
       "      <td>None</td>\n",
       "      <td>None</td>\n",
       "      <td>None</td>\n",
       "      <td>None</td>\n",
       "      <td>None</td>\n",
       "      <td>0</td>\n",
       "      <td>0</td>\n",
       "      <td>0</td>\n",
       "      <td>0</td>\n",
       "      <td>0</td>\n",
       "      <td>1</td>\n",
       "      <td>0</td>\n",
       "      <td>0</td>\n",
       "      <td>0</td>\n",
       "      <td>0</td>\n",
       "      <td>0</td>\n",
       "      <td>0</td>\n",
       "      <td>1</td>\n",
       "    </tr>\n",
       "    <tr>\n",
       "      <th>1</th>\n",
       "      <td>1</td>\n",
       "      <td>Raymond Crotty</td>\n",
       "      <td>, 68, Irish economist, writer, and academic.</td>\n",
       "      <td>https://en.wikipedia.org/wiki/Raymond_Crotty</td>\n",
       "      <td>12</td>\n",
       "      <td>1994</td>\n",
       "      <td>January</td>\n",
       "      <td>None</td>\n",
       "      <td>68.0</td>\n",
       "      <td>None</td>\n",
       "      <td>Ireland</td>\n",
       "      <td>None</td>\n",
       "      <td>None</td>\n",
       "      <td>2.564949</td>\n",
       "      <td>None</td>\n",
       "      <td>None</td>\n",
       "      <td>None</td>\n",
       "      <td>None</td>\n",
       "      <td>writer</td>\n",
       "      <td>None</td>\n",
       "      <td>None</td>\n",
       "      <td>and academic</td>\n",
       "      <td>None</td>\n",
       "      <td>None</td>\n",
       "      <td>None</td>\n",
       "      <td>None</td>\n",
       "      <td>None</td>\n",
       "      <td>None</td>\n",
       "      <td>None</td>\n",
       "      <td>None</td>\n",
       "      <td>None</td>\n",
       "      <td>None</td>\n",
       "      <td>None</td>\n",
       "      <td>None</td>\n",
       "      <td>None</td>\n",
       "      <td>0</td>\n",
       "      <td>0</td>\n",
       "      <td>0</td>\n",
       "      <td>0</td>\n",
       "      <td>0</td>\n",
       "      <td>0</td>\n",
       "      <td>0</td>\n",
       "      <td>0</td>\n",
       "      <td>1</td>\n",
       "      <td>0</td>\n",
       "      <td>0</td>\n",
       "      <td>0</td>\n",
       "      <td>1</td>\n",
       "    </tr>\n",
       "  </tbody>\n",
       "</table>\n",
       "</div>"
      ],
      "text/plain": [
       "  day              name                                                 info  \\\n",
       "0   1  William Chappell  , 86, British dancer, ballet designer and director.   \n",
       "1   1    Raymond Crotty         , 68, Irish economist, writer, and academic.   \n",
       "\n",
       "                                                      link  num_references  \\\n",
       "0  https://en.wikipedia.org/wiki/William_Chappell_(dancer)              21   \n",
       "1             https://en.wikipedia.org/wiki/Raymond_Crotty              12   \n",
       "\n",
       "   year    month info_parenth   age cause_of_death  \\\n",
       "0  1994  January         None  86.0           None   \n",
       "1  1994  January         None  68.0           None   \n",
       "\n",
       "                                                place_1 place_2  \\\n",
       "0  United Kingdom of Great Britain and Northern Ireland    None   \n",
       "1                                               Ireland    None   \n",
       "\n",
       "  info_parenth_copy  log_num_references info_1_0 info_2_1 info_2_2 info_2_3  \\\n",
       "0              None            3.091042     None     None     None     None   \n",
       "1              None            2.564949     None     None     None     None   \n",
       "\n",
       "          info_3_0  info_3_1 info_3_2      info_4_0 info_4_1 info_4_2  \\\n",
       "0  ballet designer  director     None          None     None     None   \n",
       "1           writer      None     None  and academic     None     None   \n",
       "\n",
       "  info_5_0 info_5_1 info_5_2 info_6_0 info_6_1 info_7_0 info_8_0 info_8_1  \\\n",
       "0     None     None     None     None     None     None     None     None   \n",
       "1     None     None     None     None     None     None     None     None   \n",
       "\n",
       "  info_9_0 info_10_0 info_11_0  sciences  social  spiritual  \\\n",
       "0     None      None      None         0       0          0   \n",
       "1     None      None      None         0       0          0   \n",
       "\n",
       "   academia_humanities  business_farming  arts  sports  \\\n",
       "0                    0                 0     1       0   \n",
       "1                    0                 0     0       0   \n",
       "\n",
       "   law_enf_military_operator  politics_govt_law  crime  event_record_other  \\\n",
       "0                          0                  0      0                   0   \n",
       "1                          0                  1      0                   0   \n",
       "\n",
       "   other_species  num_categories  \n",
       "0              0               1  \n",
       "1              0               1  "
      ]
     },
     "execution_count": 2,
     "metadata": {},
     "output_type": "execute_result"
    },
    {
     "data": {
      "application/javascript": [
       "\n",
       "            setTimeout(function() {\n",
       "                var nbb_cell_id = 2;\n",
       "                var nbb_unformatted_code = \"# Reading the dataset\\nconn = sql.connect(\\\"wp_life_expect_clean4.db\\\")\\ndata = pd.read_sql(\\\"SELECT * FROM wp_life_expect_clean4\\\", conn)\\n\\n# Making a working copy\\ndf = data.copy()\\n\\n# Checking the shape\\nprint(f\\\"There are {df.shape[0]} rows and {df.shape[1]} columns.\\\")\\n\\n# Checking first 2 rows of the data\\ndf.head(2)\";\n",
       "                var nbb_formatted_code = \"# Reading the dataset\\nconn = sql.connect(\\\"wp_life_expect_clean4.db\\\")\\ndata = pd.read_sql(\\\"SELECT * FROM wp_life_expect_clean4\\\", conn)\\n\\n# Making a working copy\\ndf = data.copy()\\n\\n# Checking the shape\\nprint(f\\\"There are {df.shape[0]} rows and {df.shape[1]} columns.\\\")\\n\\n# Checking first 2 rows of the data\\ndf.head(2)\";\n",
       "                var nbb_cells = Jupyter.notebook.get_cells();\n",
       "                for (var i = 0; i < nbb_cells.length; ++i) {\n",
       "                    if (nbb_cells[i].input_prompt_number == nbb_cell_id) {\n",
       "                        if (nbb_cells[i].get_text() == nbb_unformatted_code) {\n",
       "                             nbb_cells[i].set_text(nbb_formatted_code);\n",
       "                        }\n",
       "                        break;\n",
       "                    }\n",
       "                }\n",
       "            }, 500);\n",
       "            "
      ],
      "text/plain": [
       "<IPython.core.display.Javascript object>"
      ]
     },
     "metadata": {},
     "output_type": "display_data"
    }
   ],
   "source": [
    "# Reading the dataset\n",
    "conn = sql.connect(\"wp_life_expect_clean4.db\")\n",
    "data = pd.read_sql(\"SELECT * FROM wp_life_expect_clean4\", conn)\n",
    "\n",
    "# Making a working copy\n",
    "df = data.copy()\n",
    "\n",
    "# Checking the shape\n",
    "print(f\"There are {df.shape[0]} rows and {df.shape[1]} columns.\")\n",
    "\n",
    "# Checking first 2 rows of the data\n",
    "df.head(2)"
   ]
  },
  {
   "cell_type": "code",
   "execution_count": 3,
   "id": "6cca416f",
   "metadata": {},
   "outputs": [
    {
     "data": {
      "text/html": [
       "<div>\n",
       "<style scoped>\n",
       "    .dataframe tbody tr th:only-of-type {\n",
       "        vertical-align: middle;\n",
       "    }\n",
       "\n",
       "    .dataframe tbody tr th {\n",
       "        vertical-align: top;\n",
       "    }\n",
       "\n",
       "    .dataframe thead th {\n",
       "        text-align: right;\n",
       "    }\n",
       "</style>\n",
       "<table border=\"1\" class=\"dataframe\">\n",
       "  <thead>\n",
       "    <tr style=\"text-align: right;\">\n",
       "      <th></th>\n",
       "      <th>day</th>\n",
       "      <th>name</th>\n",
       "      <th>info</th>\n",
       "      <th>link</th>\n",
       "      <th>num_references</th>\n",
       "      <th>year</th>\n",
       "      <th>month</th>\n",
       "      <th>info_parenth</th>\n",
       "      <th>age</th>\n",
       "      <th>cause_of_death</th>\n",
       "      <th>place_1</th>\n",
       "      <th>place_2</th>\n",
       "      <th>info_parenth_copy</th>\n",
       "      <th>log_num_references</th>\n",
       "      <th>info_1_0</th>\n",
       "      <th>info_2_1</th>\n",
       "      <th>info_2_2</th>\n",
       "      <th>info_2_3</th>\n",
       "      <th>info_3_0</th>\n",
       "      <th>info_3_1</th>\n",
       "      <th>info_3_2</th>\n",
       "      <th>info_4_0</th>\n",
       "      <th>info_4_1</th>\n",
       "      <th>info_4_2</th>\n",
       "      <th>info_5_0</th>\n",
       "      <th>info_5_1</th>\n",
       "      <th>info_5_2</th>\n",
       "      <th>info_6_0</th>\n",
       "      <th>info_6_1</th>\n",
       "      <th>info_7_0</th>\n",
       "      <th>info_8_0</th>\n",
       "      <th>info_8_1</th>\n",
       "      <th>info_9_0</th>\n",
       "      <th>info_10_0</th>\n",
       "      <th>info_11_0</th>\n",
       "      <th>sciences</th>\n",
       "      <th>social</th>\n",
       "      <th>spiritual</th>\n",
       "      <th>academia_humanities</th>\n",
       "      <th>business_farming</th>\n",
       "      <th>arts</th>\n",
       "      <th>sports</th>\n",
       "      <th>law_enf_military_operator</th>\n",
       "      <th>politics_govt_law</th>\n",
       "      <th>crime</th>\n",
       "      <th>event_record_other</th>\n",
       "      <th>other_species</th>\n",
       "      <th>num_categories</th>\n",
       "    </tr>\n",
       "  </thead>\n",
       "  <tbody>\n",
       "    <tr>\n",
       "      <th>98043</th>\n",
       "      <td>9</td>\n",
       "      <td>Aamir Liaquat Hussain</td>\n",
       "      <td>, 50, Pakistani journalist and politician, MNA .</td>\n",
       "      <td>https://en.wikipedia.org/wiki/Aamir_Liaquat_Hussain</td>\n",
       "      <td>99</td>\n",
       "      <td>2022</td>\n",
       "      <td>June</td>\n",
       "      <td>, since</td>\n",
       "      <td>50.0</td>\n",
       "      <td>None</td>\n",
       "      <td>Pakistan</td>\n",
       "      <td>None</td>\n",
       "      <td>2002 2007, since 2018</td>\n",
       "      <td>4.605170</td>\n",
       "      <td>None</td>\n",
       "      <td>politician</td>\n",
       "      <td>None</td>\n",
       "      <td>None</td>\n",
       "      <td>MNA</td>\n",
       "      <td>None</td>\n",
       "      <td>None</td>\n",
       "      <td>None</td>\n",
       "      <td>None</td>\n",
       "      <td>None</td>\n",
       "      <td>None</td>\n",
       "      <td>None</td>\n",
       "      <td>None</td>\n",
       "      <td>None</td>\n",
       "      <td>None</td>\n",
       "      <td>None</td>\n",
       "      <td>None</td>\n",
       "      <td>None</td>\n",
       "      <td>None</td>\n",
       "      <td>None</td>\n",
       "      <td>None</td>\n",
       "      <td>0</td>\n",
       "      <td>0</td>\n",
       "      <td>0</td>\n",
       "      <td>0</td>\n",
       "      <td>0</td>\n",
       "      <td>1</td>\n",
       "      <td>0</td>\n",
       "      <td>0</td>\n",
       "      <td>0</td>\n",
       "      <td>0</td>\n",
       "      <td>0</td>\n",
       "      <td>0</td>\n",
       "      <td>1</td>\n",
       "    </tr>\n",
       "    <tr>\n",
       "      <th>98044</th>\n",
       "      <td>9</td>\n",
       "      <td>Zou Jing</td>\n",
       "      <td>, 86, Chinese engineer, member of the Chinese Academy of Engineering.</td>\n",
       "      <td>https://en.wikipedia.org/wiki/Zou_Jing_(engineer)</td>\n",
       "      <td>3</td>\n",
       "      <td>2022</td>\n",
       "      <td>June</td>\n",
       "      <td>None</td>\n",
       "      <td>86.0</td>\n",
       "      <td>None</td>\n",
       "      <td>China, People's Republic of</td>\n",
       "      <td>None</td>\n",
       "      <td>None</td>\n",
       "      <td>1.386294</td>\n",
       "      <td>None</td>\n",
       "      <td>None</td>\n",
       "      <td>None</td>\n",
       "      <td>None</td>\n",
       "      <td>member of the Academy of Engineering</td>\n",
       "      <td>None</td>\n",
       "      <td>None</td>\n",
       "      <td>None</td>\n",
       "      <td>None</td>\n",
       "      <td>None</td>\n",
       "      <td>None</td>\n",
       "      <td>None</td>\n",
       "      <td>None</td>\n",
       "      <td>None</td>\n",
       "      <td>None</td>\n",
       "      <td>None</td>\n",
       "      <td>None</td>\n",
       "      <td>None</td>\n",
       "      <td>None</td>\n",
       "      <td>None</td>\n",
       "      <td>None</td>\n",
       "      <td>1</td>\n",
       "      <td>0</td>\n",
       "      <td>0</td>\n",
       "      <td>0</td>\n",
       "      <td>0</td>\n",
       "      <td>0</td>\n",
       "      <td>0</td>\n",
       "      <td>0</td>\n",
       "      <td>0</td>\n",
       "      <td>0</td>\n",
       "      <td>0</td>\n",
       "      <td>0</td>\n",
       "      <td>1</td>\n",
       "    </tr>\n",
       "  </tbody>\n",
       "</table>\n",
       "</div>"
      ],
      "text/plain": [
       "      day                   name  \\\n",
       "98043   9  Aamir Liaquat Hussain   \n",
       "98044   9               Zou Jing   \n",
       "\n",
       "                                                                        info  \\\n",
       "98043                       , 50, Pakistani journalist and politician, MNA .   \n",
       "98044  , 86, Chinese engineer, member of the Chinese Academy of Engineering.   \n",
       "\n",
       "                                                      link  num_references  \\\n",
       "98043  https://en.wikipedia.org/wiki/Aamir_Liaquat_Hussain              99   \n",
       "98044    https://en.wikipedia.org/wiki/Zou_Jing_(engineer)               3   \n",
       "\n",
       "       year month info_parenth   age cause_of_death  \\\n",
       "98043  2022  June      , since  50.0           None   \n",
       "98044  2022  June         None  86.0           None   \n",
       "\n",
       "                           place_1 place_2      info_parenth_copy  \\\n",
       "98043                     Pakistan    None  2002 2007, since 2018   \n",
       "98044  China, People's Republic of    None                   None   \n",
       "\n",
       "       log_num_references info_1_0    info_2_1 info_2_2 info_2_3  \\\n",
       "98043            4.605170     None  politician     None     None   \n",
       "98044            1.386294     None        None     None     None   \n",
       "\n",
       "                                   info_3_0 info_3_1 info_3_2 info_4_0  \\\n",
       "98043                                   MNA     None     None     None   \n",
       "98044  member of the Academy of Engineering     None     None     None   \n",
       "\n",
       "      info_4_1 info_4_2 info_5_0 info_5_1 info_5_2 info_6_0 info_6_1 info_7_0  \\\n",
       "98043     None     None     None     None     None     None     None     None   \n",
       "98044     None     None     None     None     None     None     None     None   \n",
       "\n",
       "      info_8_0 info_8_1 info_9_0 info_10_0 info_11_0  sciences  social  \\\n",
       "98043     None     None     None      None      None         0       0   \n",
       "98044     None     None     None      None      None         1       0   \n",
       "\n",
       "       spiritual  academia_humanities  business_farming  arts  sports  \\\n",
       "98043          0                    0                 0     1       0   \n",
       "98044          0                    0                 0     0       0   \n",
       "\n",
       "       law_enf_military_operator  politics_govt_law  crime  \\\n",
       "98043                          0                  0      0   \n",
       "98044                          0                  0      0   \n",
       "\n",
       "       event_record_other  other_species  num_categories  \n",
       "98043                   0              0               1  \n",
       "98044                   0              0               1  "
      ]
     },
     "execution_count": 3,
     "metadata": {},
     "output_type": "execute_result"
    },
    {
     "data": {
      "application/javascript": [
       "\n",
       "            setTimeout(function() {\n",
       "                var nbb_cell_id = 3;\n",
       "                var nbb_unformatted_code = \"# Checking last 2 rows of the data\\ndf.tail(2)\";\n",
       "                var nbb_formatted_code = \"# Checking last 2 rows of the data\\ndf.tail(2)\";\n",
       "                var nbb_cells = Jupyter.notebook.get_cells();\n",
       "                for (var i = 0; i < nbb_cells.length; ++i) {\n",
       "                    if (nbb_cells[i].input_prompt_number == nbb_cell_id) {\n",
       "                        if (nbb_cells[i].get_text() == nbb_unformatted_code) {\n",
       "                             nbb_cells[i].set_text(nbb_formatted_code);\n",
       "                        }\n",
       "                        break;\n",
       "                    }\n",
       "                }\n",
       "            }, 500);\n",
       "            "
      ],
      "text/plain": [
       "<IPython.core.display.Javascript object>"
      ]
     },
     "metadata": {},
     "output_type": "display_data"
    }
   ],
   "source": [
    "# Checking last 2 rows of the data\n",
    "df.tail(2)"
   ]
  },
  {
   "cell_type": "code",
   "execution_count": 4,
   "id": "de6e8ee5",
   "metadata": {},
   "outputs": [
    {
     "data": {
      "text/html": [
       "<div>\n",
       "<style scoped>\n",
       "    .dataframe tbody tr th:only-of-type {\n",
       "        vertical-align: middle;\n",
       "    }\n",
       "\n",
       "    .dataframe tbody tr th {\n",
       "        vertical-align: top;\n",
       "    }\n",
       "\n",
       "    .dataframe thead th {\n",
       "        text-align: right;\n",
       "    }\n",
       "</style>\n",
       "<table border=\"1\" class=\"dataframe\">\n",
       "  <thead>\n",
       "    <tr style=\"text-align: right;\">\n",
       "      <th></th>\n",
       "      <th>day</th>\n",
       "      <th>name</th>\n",
       "      <th>info</th>\n",
       "      <th>link</th>\n",
       "      <th>num_references</th>\n",
       "      <th>year</th>\n",
       "      <th>month</th>\n",
       "      <th>info_parenth</th>\n",
       "      <th>age</th>\n",
       "      <th>cause_of_death</th>\n",
       "      <th>place_1</th>\n",
       "      <th>place_2</th>\n",
       "      <th>info_parenth_copy</th>\n",
       "      <th>log_num_references</th>\n",
       "      <th>info_1_0</th>\n",
       "      <th>info_2_1</th>\n",
       "      <th>info_2_2</th>\n",
       "      <th>info_2_3</th>\n",
       "      <th>info_3_0</th>\n",
       "      <th>info_3_1</th>\n",
       "      <th>info_3_2</th>\n",
       "      <th>info_4_0</th>\n",
       "      <th>info_4_1</th>\n",
       "      <th>info_4_2</th>\n",
       "      <th>info_5_0</th>\n",
       "      <th>info_5_1</th>\n",
       "      <th>info_5_2</th>\n",
       "      <th>info_6_0</th>\n",
       "      <th>info_6_1</th>\n",
       "      <th>info_7_0</th>\n",
       "      <th>info_8_0</th>\n",
       "      <th>info_8_1</th>\n",
       "      <th>info_9_0</th>\n",
       "      <th>info_10_0</th>\n",
       "      <th>info_11_0</th>\n",
       "      <th>sciences</th>\n",
       "      <th>social</th>\n",
       "      <th>spiritual</th>\n",
       "      <th>academia_humanities</th>\n",
       "      <th>business_farming</th>\n",
       "      <th>arts</th>\n",
       "      <th>sports</th>\n",
       "      <th>law_enf_military_operator</th>\n",
       "      <th>politics_govt_law</th>\n",
       "      <th>crime</th>\n",
       "      <th>event_record_other</th>\n",
       "      <th>other_species</th>\n",
       "      <th>num_categories</th>\n",
       "    </tr>\n",
       "  </thead>\n",
       "  <tbody>\n",
       "    <tr>\n",
       "      <th>69676</th>\n",
       "      <td>28</td>\n",
       "      <td>François Bluche</td>\n",
       "      <td>, 92, French historian.</td>\n",
       "      <td>https://en.wikipedia.org/wiki/Fran%C3%A7ois_Bluche</td>\n",
       "      <td>8</td>\n",
       "      <td>2018</td>\n",
       "      <td>June</td>\n",
       "      <td>None</td>\n",
       "      <td>92.0</td>\n",
       "      <td>None</td>\n",
       "      <td>France</td>\n",
       "      <td>None</td>\n",
       "      <td>None</td>\n",
       "      <td>2.197225</td>\n",
       "      <td>None</td>\n",
       "      <td>None</td>\n",
       "      <td>None</td>\n",
       "      <td>None</td>\n",
       "      <td>None</td>\n",
       "      <td>None</td>\n",
       "      <td>None</td>\n",
       "      <td>None</td>\n",
       "      <td>None</td>\n",
       "      <td>None</td>\n",
       "      <td>None</td>\n",
       "      <td>None</td>\n",
       "      <td>None</td>\n",
       "      <td>None</td>\n",
       "      <td>None</td>\n",
       "      <td>None</td>\n",
       "      <td>None</td>\n",
       "      <td>None</td>\n",
       "      <td>None</td>\n",
       "      <td>None</td>\n",
       "      <td>None</td>\n",
       "      <td>0</td>\n",
       "      <td>0</td>\n",
       "      <td>0</td>\n",
       "      <td>1</td>\n",
       "      <td>0</td>\n",
       "      <td>0</td>\n",
       "      <td>0</td>\n",
       "      <td>0</td>\n",
       "      <td>0</td>\n",
       "      <td>0</td>\n",
       "      <td>0</td>\n",
       "      <td>0</td>\n",
       "      <td>1</td>\n",
       "    </tr>\n",
       "    <tr>\n",
       "      <th>96323</th>\n",
       "      <td>24</td>\n",
       "      <td>Va'aiga Tuigamala</td>\n",
       "      <td>, 52, Samoan-born New Zealand rugby league  player.</td>\n",
       "      <td>https://en.wikipedia.org/wiki/Va%27aiga_Tuigamala</td>\n",
       "      <td>12</td>\n",
       "      <td>2022</td>\n",
       "      <td>February</td>\n",
       "      <td>Wigan Warriors and rugby union New Zealand,</td>\n",
       "      <td>52.0</td>\n",
       "      <td>None</td>\n",
       "      <td>Samoa</td>\n",
       "      <td>New Zealand</td>\n",
       "      <td>Wigan Warriors and rugby union New Zealand, Samoa</td>\n",
       "      <td>2.564949</td>\n",
       "      <td>None</td>\n",
       "      <td>None</td>\n",
       "      <td>None</td>\n",
       "      <td>None</td>\n",
       "      <td>None</td>\n",
       "      <td>None</td>\n",
       "      <td>None</td>\n",
       "      <td>None</td>\n",
       "      <td>None</td>\n",
       "      <td>None</td>\n",
       "      <td>None</td>\n",
       "      <td>None</td>\n",
       "      <td>None</td>\n",
       "      <td>None</td>\n",
       "      <td>None</td>\n",
       "      <td>None</td>\n",
       "      <td>None</td>\n",
       "      <td>None</td>\n",
       "      <td>None</td>\n",
       "      <td>None</td>\n",
       "      <td>None</td>\n",
       "      <td>0</td>\n",
       "      <td>0</td>\n",
       "      <td>0</td>\n",
       "      <td>0</td>\n",
       "      <td>0</td>\n",
       "      <td>0</td>\n",
       "      <td>1</td>\n",
       "      <td>0</td>\n",
       "      <td>0</td>\n",
       "      <td>0</td>\n",
       "      <td>0</td>\n",
       "      <td>0</td>\n",
       "      <td>1</td>\n",
       "    </tr>\n",
       "    <tr>\n",
       "      <th>81691</th>\n",
       "      <td>16</td>\n",
       "      <td>Michael McCaskey</td>\n",
       "      <td>, 76, American sports executive, president of the Chicago Bears , leukemia.</td>\n",
       "      <td>https://en.wikipedia.org/wiki/Michael_McCaskey</td>\n",
       "      <td>9</td>\n",
       "      <td>2020</td>\n",
       "      <td>May</td>\n",
       "      <td></td>\n",
       "      <td>76.0</td>\n",
       "      <td>None</td>\n",
       "      <td>United States of America</td>\n",
       "      <td>None</td>\n",
       "      <td>1983 1999</td>\n",
       "      <td>2.302585</td>\n",
       "      <td>None</td>\n",
       "      <td>None</td>\n",
       "      <td>None</td>\n",
       "      <td>None</td>\n",
       "      <td>president of the Chicago Bears</td>\n",
       "      <td>None</td>\n",
       "      <td>None</td>\n",
       "      <td>leukemia</td>\n",
       "      <td>None</td>\n",
       "      <td>None</td>\n",
       "      <td>None</td>\n",
       "      <td>None</td>\n",
       "      <td>None</td>\n",
       "      <td>None</td>\n",
       "      <td>None</td>\n",
       "      <td>None</td>\n",
       "      <td>None</td>\n",
       "      <td>None</td>\n",
       "      <td>None</td>\n",
       "      <td>None</td>\n",
       "      <td>None</td>\n",
       "      <td>0</td>\n",
       "      <td>0</td>\n",
       "      <td>0</td>\n",
       "      <td>0</td>\n",
       "      <td>0</td>\n",
       "      <td>0</td>\n",
       "      <td>1</td>\n",
       "      <td>0</td>\n",
       "      <td>0</td>\n",
       "      <td>0</td>\n",
       "      <td>0</td>\n",
       "      <td>0</td>\n",
       "      <td>1</td>\n",
       "    </tr>\n",
       "    <tr>\n",
       "      <th>58441</th>\n",
       "      <td>26</td>\n",
       "      <td>Ted Dumitru</td>\n",
       "      <td>, 76, Romanian football manager , heart attack.</td>\n",
       "      <td>https://en.wikipedia.org/wiki/Ted_Dumitru</td>\n",
       "      <td>14</td>\n",
       "      <td>2016</td>\n",
       "      <td>May</td>\n",
       "      <td>Kaizer Chiefs, Mamelodi Sundowns, Apollo</td>\n",
       "      <td>76.0</td>\n",
       "      <td>None</td>\n",
       "      <td>Romania</td>\n",
       "      <td>None</td>\n",
       "      <td>Kaizer Chiefs, Mamelodi Sundowns, New York Apollo</td>\n",
       "      <td>2.708050</td>\n",
       "      <td>None</td>\n",
       "      <td>None</td>\n",
       "      <td>None</td>\n",
       "      <td>None</td>\n",
       "      <td>heart attack</td>\n",
       "      <td>None</td>\n",
       "      <td>None</td>\n",
       "      <td>None</td>\n",
       "      <td>None</td>\n",
       "      <td>None</td>\n",
       "      <td>None</td>\n",
       "      <td>None</td>\n",
       "      <td>None</td>\n",
       "      <td>None</td>\n",
       "      <td>None</td>\n",
       "      <td>None</td>\n",
       "      <td>None</td>\n",
       "      <td>None</td>\n",
       "      <td>None</td>\n",
       "      <td>None</td>\n",
       "      <td>None</td>\n",
       "      <td>0</td>\n",
       "      <td>0</td>\n",
       "      <td>0</td>\n",
       "      <td>0</td>\n",
       "      <td>0</td>\n",
       "      <td>0</td>\n",
       "      <td>1</td>\n",
       "      <td>0</td>\n",
       "      <td>0</td>\n",
       "      <td>0</td>\n",
       "      <td>0</td>\n",
       "      <td>0</td>\n",
       "      <td>1</td>\n",
       "    </tr>\n",
       "    <tr>\n",
       "      <th>24746</th>\n",
       "      <td>11</td>\n",
       "      <td>Frank Loughran</td>\n",
       "      <td>, 77, Australian international footballer.</td>\n",
       "      <td>https://en.wikipedia.org/wiki/Frank_Loughran</td>\n",
       "      <td>10</td>\n",
       "      <td>2008</td>\n",
       "      <td>January</td>\n",
       "      <td>None</td>\n",
       "      <td>77.0</td>\n",
       "      <td>None</td>\n",
       "      <td>Australia</td>\n",
       "      <td>None</td>\n",
       "      <td>None</td>\n",
       "      <td>2.397895</td>\n",
       "      <td>None</td>\n",
       "      <td>None</td>\n",
       "      <td>None</td>\n",
       "      <td>None</td>\n",
       "      <td>None</td>\n",
       "      <td>None</td>\n",
       "      <td>None</td>\n",
       "      <td>None</td>\n",
       "      <td>None</td>\n",
       "      <td>None</td>\n",
       "      <td>None</td>\n",
       "      <td>None</td>\n",
       "      <td>None</td>\n",
       "      <td>None</td>\n",
       "      <td>None</td>\n",
       "      <td>None</td>\n",
       "      <td>None</td>\n",
       "      <td>None</td>\n",
       "      <td>None</td>\n",
       "      <td>None</td>\n",
       "      <td>None</td>\n",
       "      <td>0</td>\n",
       "      <td>0</td>\n",
       "      <td>0</td>\n",
       "      <td>0</td>\n",
       "      <td>0</td>\n",
       "      <td>0</td>\n",
       "      <td>1</td>\n",
       "      <td>0</td>\n",
       "      <td>0</td>\n",
       "      <td>0</td>\n",
       "      <td>0</td>\n",
       "      <td>0</td>\n",
       "      <td>1</td>\n",
       "    </tr>\n",
       "  </tbody>\n",
       "</table>\n",
       "</div>"
      ],
      "text/plain": [
       "      day               name  \\\n",
       "69676  28    François Bluche   \n",
       "96323  24  Va'aiga Tuigamala   \n",
       "81691  16   Michael McCaskey   \n",
       "58441  26        Ted Dumitru   \n",
       "24746  11     Frank Loughran   \n",
       "\n",
       "                                                                              info  \\\n",
       "69676                                                      , 92, French historian.   \n",
       "96323                          , 52, Samoan-born New Zealand rugby league  player.   \n",
       "81691  , 76, American sports executive, president of the Chicago Bears , leukemia.   \n",
       "58441                              , 76, Romanian football manager , heart attack.   \n",
       "24746                                   , 77, Australian international footballer.   \n",
       "\n",
       "                                                     link  num_references  \\\n",
       "69676  https://en.wikipedia.org/wiki/Fran%C3%A7ois_Bluche               8   \n",
       "96323   https://en.wikipedia.org/wiki/Va%27aiga_Tuigamala              12   \n",
       "81691      https://en.wikipedia.org/wiki/Michael_McCaskey               9   \n",
       "58441           https://en.wikipedia.org/wiki/Ted_Dumitru              14   \n",
       "24746        https://en.wikipedia.org/wiki/Frank_Loughran              10   \n",
       "\n",
       "       year     month                                 info_parenth   age  \\\n",
       "69676  2018      June                                         None  92.0   \n",
       "96323  2022  February  Wigan Warriors and rugby union New Zealand,  52.0   \n",
       "81691  2020       May                                               76.0   \n",
       "58441  2016       May     Kaizer Chiefs, Mamelodi Sundowns, Apollo  76.0   \n",
       "24746  2008   January                                         None  77.0   \n",
       "\n",
       "      cause_of_death                   place_1      place_2  \\\n",
       "69676           None                    France         None   \n",
       "96323           None                     Samoa  New Zealand   \n",
       "81691           None  United States of America         None   \n",
       "58441           None                   Romania         None   \n",
       "24746           None                 Australia         None   \n",
       "\n",
       "                                       info_parenth_copy  log_num_references  \\\n",
       "69676                                               None            2.197225   \n",
       "96323  Wigan Warriors and rugby union New Zealand, Samoa            2.564949   \n",
       "81691                                          1983 1999            2.302585   \n",
       "58441  Kaizer Chiefs, Mamelodi Sundowns, New York Apollo            2.708050   \n",
       "24746                                               None            2.397895   \n",
       "\n",
       "      info_1_0 info_2_1 info_2_2 info_2_3                        info_3_0  \\\n",
       "69676     None     None     None     None                            None   \n",
       "96323     None     None     None     None                            None   \n",
       "81691     None     None     None     None  president of the Chicago Bears   \n",
       "58441     None     None     None     None                    heart attack   \n",
       "24746     None     None     None     None                            None   \n",
       "\n",
       "      info_3_1 info_3_2  info_4_0 info_4_1 info_4_2 info_5_0 info_5_1  \\\n",
       "69676     None     None      None     None     None     None     None   \n",
       "96323     None     None      None     None     None     None     None   \n",
       "81691     None     None  leukemia     None     None     None     None   \n",
       "58441     None     None      None     None     None     None     None   \n",
       "24746     None     None      None     None     None     None     None   \n",
       "\n",
       "      info_5_2 info_6_0 info_6_1 info_7_0 info_8_0 info_8_1 info_9_0  \\\n",
       "69676     None     None     None     None     None     None     None   \n",
       "96323     None     None     None     None     None     None     None   \n",
       "81691     None     None     None     None     None     None     None   \n",
       "58441     None     None     None     None     None     None     None   \n",
       "24746     None     None     None     None     None     None     None   \n",
       "\n",
       "      info_10_0 info_11_0  sciences  social  spiritual  academia_humanities  \\\n",
       "69676      None      None         0       0          0                    1   \n",
       "96323      None      None         0       0          0                    0   \n",
       "81691      None      None         0       0          0                    0   \n",
       "58441      None      None         0       0          0                    0   \n",
       "24746      None      None         0       0          0                    0   \n",
       "\n",
       "       business_farming  arts  sports  law_enf_military_operator  \\\n",
       "69676                 0     0       0                          0   \n",
       "96323                 0     0       1                          0   \n",
       "81691                 0     0       1                          0   \n",
       "58441                 0     0       1                          0   \n",
       "24746                 0     0       1                          0   \n",
       "\n",
       "       politics_govt_law  crime  event_record_other  other_species  \\\n",
       "69676                  0      0                   0              0   \n",
       "96323                  0      0                   0              0   \n",
       "81691                  0      0                   0              0   \n",
       "58441                  0      0                   0              0   \n",
       "24746                  0      0                   0              0   \n",
       "\n",
       "       num_categories  \n",
       "69676               1  \n",
       "96323               1  \n",
       "81691               1  \n",
       "58441               1  \n",
       "24746               1  "
      ]
     },
     "execution_count": 4,
     "metadata": {},
     "output_type": "execute_result"
    },
    {
     "data": {
      "application/javascript": [
       "\n",
       "            setTimeout(function() {\n",
       "                var nbb_cell_id = 4;\n",
       "                var nbb_unformatted_code = \"# Checking a sample of the data\\ndf.sample(5)\";\n",
       "                var nbb_formatted_code = \"# Checking a sample of the data\\ndf.sample(5)\";\n",
       "                var nbb_cells = Jupyter.notebook.get_cells();\n",
       "                for (var i = 0; i < nbb_cells.length; ++i) {\n",
       "                    if (nbb_cells[i].input_prompt_number == nbb_cell_id) {\n",
       "                        if (nbb_cells[i].get_text() == nbb_unformatted_code) {\n",
       "                             nbb_cells[i].set_text(nbb_formatted_code);\n",
       "                        }\n",
       "                        break;\n",
       "                    }\n",
       "                }\n",
       "            }, 500);\n",
       "            "
      ],
      "text/plain": [
       "<IPython.core.display.Javascript object>"
      ]
     },
     "metadata": {},
     "output_type": "display_data"
    }
   ],
   "source": [
    "# Checking a sample of the data\n",
    "df.sample(5)"
   ]
  },
  {
   "cell_type": "markdown",
   "id": "8d5f29da",
   "metadata": {},
   "source": [
    "### Checking Data Types, Duplicates, and Null Values"
   ]
  },
  {
   "cell_type": "code",
   "execution_count": 5,
   "id": "bf505f87",
   "metadata": {},
   "outputs": [
    {
     "name": "stdout",
     "output_type": "stream",
     "text": [
      "<class 'pandas.core.frame.DataFrame'>\n",
      "RangeIndex: 98045 entries, 0 to 98044\n",
      "Data columns (total 48 columns):\n",
      " #   Column                     Non-Null Count  Dtype  \n",
      "---  ------                     --------------  -----  \n",
      " 0   day                        98045 non-null  object \n",
      " 1   name                       98045 non-null  object \n",
      " 2   info                       98045 non-null  object \n",
      " 3   link                       98045 non-null  object \n",
      " 4   num_references             98045 non-null  int64  \n",
      " 5   year                       98045 non-null  int64  \n",
      " 6   month                      98045 non-null  object \n",
      " 7   info_parenth               36660 non-null  object \n",
      " 8   age                        98045 non-null  float64\n",
      " 9   cause_of_death             13 non-null     object \n",
      " 10  place_1                    97891 non-null  object \n",
      " 11  place_2                    8115 non-null   object \n",
      " 12  info_parenth_copy          36660 non-null  object \n",
      " 13  log_num_references         98045 non-null  float64\n",
      " 14  info_1_0                   21 non-null     object \n",
      " 15  info_2_1                   21985 non-null  object \n",
      " 16  info_2_2                   189 non-null    object \n",
      " 17  info_2_3                   2 non-null      object \n",
      " 18  info_3_0                   48857 non-null  object \n",
      " 19  info_3_1                   4663 non-null   object \n",
      " 20  info_3_2                   46 non-null     object \n",
      " 21  info_4_0                   10125 non-null  object \n",
      " 22  info_4_1                   697 non-null    object \n",
      " 23  info_4_2                   4 non-null      object \n",
      " 24  info_5_0                   1252 non-null   object \n",
      " 25  info_5_1                   88 non-null     object \n",
      " 26  info_5_2                   1 non-null      object \n",
      " 27  info_6_0                   179 non-null    object \n",
      " 28  info_6_1                   7 non-null      object \n",
      " 29  info_7_0                   27 non-null     object \n",
      " 30  info_8_0                   5 non-null      object \n",
      " 31  info_8_1                   1 non-null      object \n",
      " 32  info_9_0                   1 non-null      object \n",
      " 33  info_10_0                  1 non-null      object \n",
      " 34  info_11_0                  1 non-null      object \n",
      " 35  sciences                   98045 non-null  int64  \n",
      " 36  social                     98045 non-null  int64  \n",
      " 37  spiritual                  98045 non-null  int64  \n",
      " 38  academia_humanities        98045 non-null  int64  \n",
      " 39  business_farming           98045 non-null  int64  \n",
      " 40  arts                       98045 non-null  int64  \n",
      " 41  sports                     98045 non-null  int64  \n",
      " 42  law_enf_military_operator  98045 non-null  int64  \n",
      " 43  politics_govt_law          98045 non-null  int64  \n",
      " 44  crime                      98045 non-null  int64  \n",
      " 45  event_record_other         98045 non-null  int64  \n",
      " 46  other_species              98045 non-null  int64  \n",
      " 47  num_categories             98045 non-null  int64  \n",
      "dtypes: float64(2), int64(15), object(31)\n",
      "memory usage: 35.9+ MB\n"
     ]
    },
    {
     "data": {
      "application/javascript": [
       "\n",
       "            setTimeout(function() {\n",
       "                var nbb_cell_id = 5;\n",
       "                var nbb_unformatted_code = \"# Checking data types and null values\\ndf.info()\";\n",
       "                var nbb_formatted_code = \"# Checking data types and null values\\ndf.info()\";\n",
       "                var nbb_cells = Jupyter.notebook.get_cells();\n",
       "                for (var i = 0; i < nbb_cells.length; ++i) {\n",
       "                    if (nbb_cells[i].input_prompt_number == nbb_cell_id) {\n",
       "                        if (nbb_cells[i].get_text() == nbb_unformatted_code) {\n",
       "                             nbb_cells[i].set_text(nbb_formatted_code);\n",
       "                        }\n",
       "                        break;\n",
       "                    }\n",
       "                }\n",
       "            }, 500);\n",
       "            "
      ],
      "text/plain": [
       "<IPython.core.display.Javascript object>"
      ]
     },
     "metadata": {},
     "output_type": "display_data"
    }
   ],
   "source": [
    "# Checking data types and null values\n",
    "df.info()"
   ]
  },
  {
   "cell_type": "markdown",
   "id": "c459d7f8",
   "metadata": {},
   "source": [
    "#### Observations:\n",
    "- With our dataset loaded, we can pick up where we left off with extracting known_for values by rebuilding `known_for_dict`.\n",
    "- We will proceed with the next `info_2` column, `info_2_1`, as `info_2` is the Wikipedia field that contains the majority of `known_for` information."
   ]
  },
  {
   "cell_type": "markdown",
   "id": "5c542ec1",
   "metadata": {},
   "source": [
    "### Extracting `known_for` Continued"
   ]
  },
  {
   "cell_type": "markdown",
   "id": "22696f89",
   "metadata": {},
   "source": [
    "#### Finding `known_for` Roles in `info_2_1`"
   ]
  },
  {
   "cell_type": "code",
   "execution_count": 6,
   "id": "b23674de",
   "metadata": {},
   "outputs": [
    {
     "data": {
      "application/javascript": [
       "\n",
       "            setTimeout(function() {\n",
       "                var nbb_cell_id = 6;\n",
       "                var nbb_unformatted_code = \"# # Obtaining values for column and their counts\\n# roles_list = df[\\\"info_2_1\\\"].value_counts(ascending=True).index.tolist()\";\n",
       "                var nbb_formatted_code = \"# # Obtaining values for column and their counts\\n# roles_list = df[\\\"info_2_1\\\"].value_counts(ascending=True).index.tolist()\";\n",
       "                var nbb_cells = Jupyter.notebook.get_cells();\n",
       "                for (var i = 0; i < nbb_cells.length; ++i) {\n",
       "                    if (nbb_cells[i].input_prompt_number == nbb_cell_id) {\n",
       "                        if (nbb_cells[i].get_text() == nbb_unformatted_code) {\n",
       "                             nbb_cells[i].set_text(nbb_formatted_code);\n",
       "                        }\n",
       "                        break;\n",
       "                    }\n",
       "                }\n",
       "            }, 500);\n",
       "            "
      ],
      "text/plain": [
       "<IPython.core.display.Javascript object>"
      ]
     },
     "metadata": {},
     "output_type": "display_data"
    }
   ],
   "source": [
    "# # Obtaining values for column and their counts\n",
    "# roles_list = df[\"info_2_1\"].value_counts(ascending=True).index.tolist()"
   ]
  },
  {
   "cell_type": "code",
   "execution_count": 7,
   "id": "8497f358",
   "metadata": {},
   "outputs": [
    {
     "data": {
      "application/javascript": [
       "\n",
       "            setTimeout(function() {\n",
       "                var nbb_cell_id = 7;\n",
       "                var nbb_unformatted_code = \"# # Code to check each value\\n# roles_list.pop()\";\n",
       "                var nbb_formatted_code = \"# # Code to check each value\\n# roles_list.pop()\";\n",
       "                var nbb_cells = Jupyter.notebook.get_cells();\n",
       "                for (var i = 0; i < nbb_cells.length; ++i) {\n",
       "                    if (nbb_cells[i].input_prompt_number == nbb_cell_id) {\n",
       "                        if (nbb_cells[i].get_text() == nbb_unformatted_code) {\n",
       "                             nbb_cells[i].set_text(nbb_formatted_code);\n",
       "                        }\n",
       "                        break;\n",
       "                    }\n",
       "                }\n",
       "            }, 500);\n",
       "            "
      ],
      "text/plain": [
       "<IPython.core.display.Javascript object>"
      ]
     },
     "metadata": {},
     "output_type": "display_data"
    }
   ],
   "source": [
    "# # Code to check each value\n",
    "# roles_list.pop()"
   ]
  },
  {
   "cell_type": "code",
   "execution_count": 8,
   "id": "79cc8f1a",
   "metadata": {},
   "outputs": [
    {
     "data": {
      "application/javascript": [
       "\n",
       "            setTimeout(function() {\n",
       "                var nbb_cell_id = 8;\n",
       "                var nbb_unformatted_code = \"# # Create specific_roles_list for above popped value\\n# specific_roles_list = (\\n#     df.loc[\\n#         [\\n#             index\\n#             for index in df[df[\\\"info_2_1\\\"].notna()].index\\n#             if \\\"coach\\\" in df.loc[index, \\\"info_2_1\\\"]\\n#         ],\\n#         \\\"info_2_1\\\",\\n#     ]\\n#     .value_counts()\\n#     .index.tolist()\\n# )\";\n",
       "                var nbb_formatted_code = \"# # Create specific_roles_list for above popped value\\n# specific_roles_list = (\\n#     df.loc[\\n#         [\\n#             index\\n#             for index in df[df[\\\"info_2_1\\\"].notna()].index\\n#             if \\\"coach\\\" in df.loc[index, \\\"info_2_1\\\"]\\n#         ],\\n#         \\\"info_2_1\\\",\\n#     ]\\n#     .value_counts()\\n#     .index.tolist()\\n# )\";\n",
       "                var nbb_cells = Jupyter.notebook.get_cells();\n",
       "                for (var i = 0; i < nbb_cells.length; ++i) {\n",
       "                    if (nbb_cells[i].input_prompt_number == nbb_cell_id) {\n",
       "                        if (nbb_cells[i].get_text() == nbb_unformatted_code) {\n",
       "                             nbb_cells[i].set_text(nbb_formatted_code);\n",
       "                        }\n",
       "                        break;\n",
       "                    }\n",
       "                }\n",
       "            }, 500);\n",
       "            "
      ],
      "text/plain": [
       "<IPython.core.display.Javascript object>"
      ]
     },
     "metadata": {},
     "output_type": "display_data"
    }
   ],
   "source": [
    "# # Create specific_roles_list for above popped value\n",
    "# specific_roles_list = (\n",
    "#     df.loc[\n",
    "#         [\n",
    "#             index\n",
    "#             for index in df[df[\"info_2_1\"].notna()].index\n",
    "#             if \"coach\" in df.loc[index, \"info_2_1\"]\n",
    "#         ],\n",
    "#         \"info_2_1\",\n",
    "#     ]\n",
    "#     .value_counts()\n",
    "#     .index.tolist()\n",
    "# )"
   ]
  },
  {
   "cell_type": "code",
   "execution_count": 9,
   "id": "a47c1f80",
   "metadata": {},
   "outputs": [
    {
     "data": {
      "application/javascript": [
       "\n",
       "            setTimeout(function() {\n",
       "                var nbb_cell_id = 9;\n",
       "                var nbb_unformatted_code = \"# # Viewing list sorted by descending length to copy to dictionary below and screen values\\n# sorted(specific_roles_list, key=lambda x: len(x), reverse=True)\";\n",
       "                var nbb_formatted_code = \"# # Viewing list sorted by descending length to copy to dictionary below and screen values\\n# sorted(specific_roles_list, key=lambda x: len(x), reverse=True)\";\n",
       "                var nbb_cells = Jupyter.notebook.get_cells();\n",
       "                for (var i = 0; i < nbb_cells.length; ++i) {\n",
       "                    if (nbb_cells[i].input_prompt_number == nbb_cell_id) {\n",
       "                        if (nbb_cells[i].get_text() == nbb_unformatted_code) {\n",
       "                             nbb_cells[i].set_text(nbb_formatted_code);\n",
       "                        }\n",
       "                        break;\n",
       "                    }\n",
       "                }\n",
       "            }, 500);\n",
       "            "
      ],
      "text/plain": [
       "<IPython.core.display.Javascript object>"
      ]
     },
     "metadata": {},
     "output_type": "display_data"
    }
   ],
   "source": [
    "# # Viewing list sorted by descending length to copy to dictionary below and screen values\n",
    "# sorted(specific_roles_list, key=lambda x: len(x), reverse=True)"
   ]
  },
  {
   "cell_type": "code",
   "execution_count": 10,
   "id": "3968b39b",
   "metadata": {},
   "outputs": [
    {
     "data": {
      "application/javascript": [
       "\n",
       "            setTimeout(function() {\n",
       "                var nbb_cell_id = 10;\n",
       "                var nbb_unformatted_code = \"# # Example code to quick-check a specific entry\\n# df[df[\\\"info_2_1\\\"] == \\\"headmaster\\\"]\";\n",
       "                var nbb_formatted_code = \"# # Example code to quick-check a specific entry\\n# df[df[\\\"info_2_1\\\"] == \\\"headmaster\\\"]\";\n",
       "                var nbb_cells = Jupyter.notebook.get_cells();\n",
       "                for (var i = 0; i < nbb_cells.length; ++i) {\n",
       "                    if (nbb_cells[i].input_prompt_number == nbb_cell_id) {\n",
       "                        if (nbb_cells[i].get_text() == nbb_unformatted_code) {\n",
       "                             nbb_cells[i].set_text(nbb_formatted_code);\n",
       "                        }\n",
       "                        break;\n",
       "                    }\n",
       "                }\n",
       "            }, 500);\n",
       "            "
      ],
      "text/plain": [
       "<IPython.core.display.Javascript object>"
      ]
     },
     "metadata": {},
     "output_type": "display_data"
    }
   ],
   "source": [
    "# # Example code to quick-check a specific entry\n",
    "# df[df[\"info_2_1\"] == \"headmaster\"]"
   ]
  },
  {
   "cell_type": "markdown",
   "id": "405117cf",
   "metadata": {},
   "source": [
    "#### Creating Lists for Each `known_for` Category"
   ]
  },
  {
   "cell_type": "code",
   "execution_count": 11,
   "id": "c0a681ba",
   "metadata": {},
   "outputs": [
    {
     "data": {
      "application/javascript": [
       "\n",
       "            setTimeout(function() {\n",
       "                var nbb_cell_id = 11;\n",
       "                var nbb_unformatted_code = \"# Creating lists for each category and sorting by decreasing length and removing duplicates\\n\\npolitics_govt_law = [\\n    \\\"politician who served as President of the Vermont State Senate\\\",\\n    \\\"politician Senator from Delaware from to\\\",\\n    \\\"politician in Valencian Community\\\",\\n    \\\"former Newfoundland politician\\\",\\n    \\\"anti communist politician\\\",\\n    \\\"Conservative politician\\\",\\n    \\\"Labour Party politician\\\",\\n    \\\"oppositional politician\\\",\\n    \\\"nationalist politician\\\",\\n    \\\"Republican politician\\\",\\n    \\\"pan Turkic politician\\\",\\n    \\\"communist politician\\\",\\n    \\\"post war politician\\\",\\n    \\\"one time politician\\\",\\n    \\\"Unionist politician\\\",\\n    \\\"eventual politician\\\",\\n    \\\"Marxist politician\\\",\\n    \\\"Labour politician\\\",\\n    \\\"Green politician\\\",\\n    \\\"politician from\\\",\\n    \\\"nazi politician\\\",\\n    \\\"East politician\\\",\\n    \\\"politician in\\\",\\n    \\\"a politician\\\",\\n    \\\"politician\\\",\\n    \\\"speechwriter for President\\\",\\n    \\\"defence expert\\\",\\n    \\\"acting president of\\\",\\n    \\\"anti divorce activist\\\",\\n    \\\"former head of the WHO AIDS program\\\",\\n    \\\"head of the dynasty\\\",\\n    \\\"head of the F D A\\\",\\n]\\npolitics_govt_law = sorted(\\n    list(set(politics_govt_law)), key=lambda x: len(x), reverse=True\\n)\\n\\narts = [\\n    \\\"screenwriter specialising in comedies\\\",\\n    \\\"the wife of writer Dylan Thomas\\\",\\n    \\\"television screenplay writer\\\",\\n    \\\"songwriter for Guns N' Roses\\\",\\n    \\\"pasacalle singer songwriter\\\",\\n    \\\"writer in Gujarati language\\\",\\n    \\\"singer songwriter\\\",\\n    \\\"television screenwriter\\\",\\n    \\\"science fiction writer\\\",\\n    \\\"roll singer songwriter\\\",\\n    \\\"writer of TV comedies\\\",\\n    \\\"writer for children\\\",\\n    \\\"comics screenwriter\\\",\\n    \\\"radio script writer\\\",\\n    \\\"short story writer\\\",\\n    \\\"non fiction writer\\\",\\n    \\\"Gros Ventre writer\\\",\\n    \\\"singer songwriter\\\",\\n    \\\"television writer\\\",\\n    \\\"comic book writer\\\",\\n    \\\"screenplay writer\\\",\\n    \\\"film music writer\\\",\\n    \\\"soap opera writer\\\",\\n    \\\"theme songwriter\\\",\\n    \\\"writer publicist\\\",\\n    \\\"a mystery writer\\\",\\n    \\\"children writer\\\",\\n    \\\"writer on music\\\",\\n    \\\"cookbook writer\\\",\\n    \\\"fantasy writer\\\",\\n    \\\"fashion writer\\\",\\n    \\\"mystery writer\\\",\\n    \\\"fiction writer\\\",\\n    \\\"culture writer\\\",\\n    \\\"dialect writer\\\",\\n    \\\"western writer\\\",\\n    \\\"travel writer\\\",\\n    \\\"comics writer\\\",\\n    \\\"comedy writer\\\",\\n    \\\"horror writer\\\",\\n    \\\"jingle writer\\\",\\n    \\\"script writer\\\",\\n    \\\"screenwriter\\\",\\n    \\\"scriptwriter\\\",\\n    \\\"radio writer\\\",\\n    \\\"crime writer\\\",\\n    \\\"score writer\\\",\\n    \\\"dance writer\\\",\\n    \\\"story writer\\\",\\n    \\\"prose writer\\\",\\n    \\\"food writer\\\",\\n    \\\"film writer\\\",\\n    \\\"ghostwriter\\\",\\n    \\\"songwriter\\\",\\n    \\\"copywriter\\\",\\n    \\\"vocal coach involved in the Wrong Door Raid\\\",\\n    \\\"vocal session arranger\\\",\\n    \\\"Yiddish vocalist\\\",\\n    \\\"blues vocalist\\\",\\n    \\\"vocal coach\\\",\\n    \\\"vocalist\\\",\\n    \\\"acting coach\\\",\\n    \\\"track maker\\\",\\n    \\\"drama\\\",\\n    \\\"radio dramatist\\\",\\n    \\\"drama teacher\\\",\\n    \\\"drama coach\\\",\\n    \\\"dramaturge\\\",\\n    \\\"dramatist\\\",\\n    \\\"voice artist voice of the Flower Pot Men\\\",\\n    \\\"television voice actor\\\",\\n    \\\"voice dubbing artist\\\",\\n    \\\"voice of Baby Huey\\\",\\n    \\\"voice over artist\\\",\\n    \\\"voice over actor\\\",\\n    \\\"a voice teacher\\\",\\n    \\\"voice actress\\\",\\n    \\\"voice teacher\\\",\\n    \\\"voice artist\\\",\\n    \\\"voice actor\\\",\\n    \\\"voice coach\\\",\\n    \\\"former head of the Horticultural Society\\\",\\n]\\narts = sorted(list(set(arts)), key=lambda x: len(x), reverse=True)\\n\\nsports = [\\n    \\\"general manager of the Dallas Cowboys professional football team\\\",\\n    \\\"former owner of the Cleveland Cavaliers basketball team\\\",\\n    \\\"radio announcer for the Lakers basketball team since\\\",\\n    \\\"first head coach of the women national team\\\",\\n    \\\"principal of the Toyota F racing team\\\",\\n    \\\"national softball team member\\\",\\n    \\\"Formula One team principal\\\",\\n    \\\"baseball team part owner\\\",\\n    \\\"women basketball teams\\\",\\n    \\\"national team captain\\\",\\n    \\\"national team manager\\\",\\n    \\\"football team owner\\\",\\n    \\\"baseball team owner\\\",\\n    \\\"cricket team coach\\\",\\n    \\\"partial team owner\\\",\\n    \\\"sports team owner\\\",\\n    \\\"racing team owner\\\",\\n    \\\"hockey team owner\\\",\\n    \\\"race team owner\\\",\\n    \\\"team manager\\\",\\n    \\\"team leader\\\",\\n    \\\"team owner\\\",\\n    \\\"field team\\\",\\n    \\\"coach in the National Hockey League\\\",\\n    \\\"World Hockey Association defenseman\\\",\\n    \\\"Commonwealth Games athletics coach\\\",\\n    \\\"college athletics administrator\\\",\\n    \\\"athletics director\\\",\\n    \\\"athletics coach\\\",\\n    \\\"former owner of the Cleveland Cavaliers basketball team\\\",\\n    \\\"for the Lakers basketball team since\\\",\\n    \\\"Ohio State University basketball player\\\",\\n    \\\"high school basketball coach\\\",\\n    \\\"wheelchair basketball player\\\",\\n    \\\"college basketball player\\\",\\n    \\\"women basketball teams\\\",\\n    \\\"NBL basketball player\\\",\\n    \\\"basketball executive\\\",\\n    \\\"basketball\\\",\\n    \\\"basketball player\\\",\\n    \\\"basketball coach\\\",\\n    \\\"general manager of the Dallas Cowboys professional football team\\\",\\n    \\\"football placekicker with the Dallas Cowboys\\\",\\n    \\\"chairman of Bradford City football club\\\",\\n    \\\"professional rugby league footballer\\\",\\n    \\\"died on the football pitch in Lyon\\\",\\n    \\\"footballer for Newport County\\\",\\n    \\\"professional football player\\\",\\n    \\\"rugby league football player\\\",\\n    \\\"World Cup football referee\\\",\\n    \\\"high school football coach\\\",\\n    \\\"gridiron football player\\\",\\n    \\\"rugby league footballer\\\",\\n    \\\"football administrator\\\",\\n    \\\"football club chairman\\\",\\n    \\\"football club director\\\",\\n    \\\"college football coach\\\",\\n    \\\"World Cup footballer\\\",\\n    \\\"football team owner\\\",\\n    \\\"football club owner\\\",\\n    \\\"football executive\\\",\\n    \\\"CFL football coach\\\",\\n    \\\"football chairman\\\",\\n    \\\"football official\\\",\\n    \\\"football manager\\\",\\n    \\\"football referee\\\",\\n    \\\"football coach\\\",\\n    \\\"footballer\\\",\\n    \\\"Pittsburgh Penguins coach\\\",\\n    \\\"coach for the NFL Giants\\\",\\n    \\\"NFL player\\\",\\n    \\\"silver medallist handball player\\\",\\n    \\\"beach handball coach\\\",\\n    \\\"handball player\\\",\\n    \\\"figure skating\\\",\\n    \\\"Olympic figure skater\\\",\\n    \\\"figure skating coach\\\",\\n    \\\"speed skater\\\",\\n    \\\"international coach\\\",\\n    \\\"Olympic field hockey player\\\",\\n    \\\"Olympic hockey player\\\",\\n    \\\"ice hockey executive\\\",\\n    \\\"field hockey player\\\",\\n    \\\"field hockey coach\\\",\\n    \\\"ice hockey player\\\",\\n    \\\"hockey team owner\\\",\\n    \\\"ice hockey coach\\\",\\n    \\\"hockey player\\\",\\n    \\\"Hall of Fame coach\\\",\\n    \\\"cricket administrator\\\",\\n    \\\"test cricket umpire\\\",\\n    \\\"cricket team coach\\\",\\n    \\\"cricket player\\\",\\n    \\\"cricket umpire\\\",\\n    \\\"cricketer\\\",\\n    \\\"Norwich City record goalscorer\\\",\\n    \\\"goaltending coach\\\",\\n    \\\"cup winning coach\\\",\\n    \\\"Paralympic athlete\\\",\\n    \\\"Paralympic coach\\\",\\n    'professional wrestler known as \\\"Bad News Brown\\\"',\\n    \\\"professional wrestling ring\\\",\\n    \\\"professional wrestling manager\\\",\\n    \\\"world champion arm wrestler\\\",\\n    \\\"professional wrestler\\\",\\n    \\\"wrestling\\\",\\n    \\\"wrestling manager\\\",\\n    \\\"Olympic wrestler\\\",\\n    \\\"wrestling coach\\\",\\n    \\\"wrestler\\\",\\n    \\\"assistant coach\\\",\\n    \\\"executive coach\\\",\\n    \\\"Victorian coach\\\",\\n    \\\"baseball player Philadelphia Athletics\\\",\\n    \\\"baseball official scorer\\\",\\n    \\\"baseball team part owner\\\",\\n    \\\"baseball club owner\\\",\\n    \\\"baseball team owner\\\",\\n    \\\"baseball executive\\\",\\n    \\\"baseball player\\\",\\n    \\\"baseball coach\\\",\\n    \\\"pitching coach\\\",\\n    \\\"first woman to swim the Channel in both directions\\\",\\n    \\\"first Olympic swimming medallist\\\",\\n    \\\"first woman to swim the Channel\\\",\\n    \\\"bronze medal winning swimmer\\\",\\n    \\\"silver medal winning swimmer\\\",\\n    \\\"Olympic swimmer\\\",\\n    \\\"swimming coach\\\",\\n    \\\"swimmer\\\",\\n    \\\"strength coach\\\",\\n    \\\"national coach\\\",\\n    \\\"field athlete who won four gold medals at the Summer Olympics\\\",\\n    \\\"candidate for National Olympic Committee president\\\",\\n    \\\"second oldest national Olympic competitor\\\",\\n    \\\"Olympic silver medal winning pentathlete\\\",\\n    \\\"president of the Olympic Committee\\\",\\n    \\\"the nation first Olympic champion\\\",\\n    \\\"first Olympic swimming medallist\\\",\\n    \\\"Olympic gold medallist in discus\\\",\\n    \\\"the first Olympic gold medalist\\\",\\n    \\\"winner of the first Olympic m\\\",\\n    \\\"oldest living former Olympian\\\",\\n    \\\"Olympic long distance runner\\\",\\n    \\\"Olympic field hockey player\\\",\\n    \\\"three time Olympic medalist\\\",\\n    \\\"Olympic gold medal winner\\\",\\n    \\\"Olympic water polo player\\\",\\n    \\\"Olympic lightweight boxer\\\",\\n    \\\"oldest surviving Olympian\\\",\\n    \\\"Olympic silver medallist\\\",\\n    \\\"Olympic bronze medalist\\\",\\n    \\\"Olympic silver medalist\\\",\\n    \\\"Olympic sports shooter\\\",\\n    \\\"Olympic Games champion\\\",\\n    \\\"Olympic gold medalist\\\",\\n    \\\"Olympic sport shooter\\\",\\n    \\\"Olympic figure skater\\\",\\n    \\\"Olympic hockey player\\\",\\n    \\\"Olympic sharpshooter\\\",\\n    \\\"Olympic long jumper\\\",\\n    \\\"Olympic competitor\\\",\\n    \\\"Olympic ski jumper\\\",\\n    \\\"Olympic bobsledder\\\",\\n    \\\"Olympic medallist\\\",\\n    \\\"Olympic champion\\\",\\n    \\\"Olympic medalist\\\",\\n    \\\"Olympic wrestler\\\",\\n    \\\"Olympic sprinter\\\",\\n    \\\"Olympic Champion\\\",\\n    \\\"Olympic official\\\",\\n    \\\"Olympic swimmer\\\",\\n    \\\"Olympic shooter\\\",\\n    \\\"Olympic hurdler\\\",\\n    \\\"Olympic athlete\\\",\\n    \\\"Senior Olympian\\\",\\n    \\\"Olympic fencer\\\",\\n    \\\"field Olympian\\\",\\n    \\\"Olympic skier\\\",\\n    \\\"Olympic coach\\\",\\n    \\\"Olympiian\\\",\\n    \\\"Olympian\\\",\\n    \\\"Olympics\\\",\\n    \\\"college coach\\\",\\n    \\\"cycling advocate\\\",\\n    \\\"professional road bicycle racer\\\",\\n    \\\"professional cyclist\\\",\\n    \\\"road racing cyclist\\\",\\n    \\\"motorcycle racer\\\",\\n    \\\"cycling\\\",\\n    \\\"cycling advocate\\\",\\n    \\\"racing cyclist\\\",\\n    \\\"cycling coach\\\",\\n    \\\"road cyclist\\\",\\n    \\\"cyclist\\\",\\n    \\\"bronze medalist fencer\\\",\\n    \\\"fencing trainer\\\",\\n    \\\"Olympic fencer\\\",\\n    \\\"fencing master\\\",\\n    \\\"fencing coach\\\",\\n    \\\"foil fencer\\\",\\n    \\\"fencer\\\",\\n    \\\"tennis player\\\",\\n    \\\"tennis umpire\\\",\\n    \\\"tennis coach\\\",\\n    \\\"sports analyst\\\",\\n    \\\"sports media\\\",\\n    \\\"radio sports\\\",\\n    \\\"television sports\\\",\\n    \\\"Olympic sports shooter\\\",\\n    \\\"TF sports\\\",\\n    \\\"sports administrator\\\",\\n    \\\"sports team owner\\\",\\n    \\\"sports club owner\\\",\\n    \\\"sports executive\\\",\\n    \\\"sports official\\\",\\n    \\\"sports director\\\",\\n    \\\"sports shooter\\\",\\n    \\\"sports coach\\\",\\n    \\\"sportswoman\\\",\\n    \\\"sportsman\\\",\\n    \\\"underwater diver\\\",\\n    \\\"diving coach\\\",\\n    \\\"scuba diver\\\",\\n    \\\"diver\\\",\\n    \\\"javelin thrower\\\",\\n    \\\"discus thrower\\\",\\n    \\\"weight thrower\\\",\\n    \\\"rowing coach\\\",\\n    \\\"rower\\\",\\n    \\\"field athlete who won four gold medals at the Summer Olympics\\\",\\n    \\\"former chairman of Sheffield United\\\",\\n    \\\"field athlete\\\",\\n    \\\"field coach\\\",\\n    \\\"outfielder\\\",\\n    \\\"field team\\\",\\n    \\\"racetrack operator\\\",\\n    \\\"track athlete\\\",\\n    \\\"track coach\\\",\\n    \\\"first head coach of the women national team\\\",\\n    \\\"head coach\\\",\\n]\\nsports = sorted(list(set(sports)), key=lambda x: len(x), reverse=True)\\n\\nsciences = [\\n    \\\"an authority on psychoanalysis\\\",\\n    \\\"bee breeding authority\\\",\\n    \\\"technical authority\\\",\\n    \\\"team member of the Manhattan Project\\\",\\n    \\\"scientific divulgator\\\",\\n    \\\"a pioneer in the field of vitro fertilization\\\",\\n    \\\"pioneer in the field of computer graphics\\\",\\n    \\\"field biologist\\\",\\n    \\\"former head of the Psychological Association\\\",\\n]\\nsciences = sorted(list(set(sciences)), key=lambda x: len(x), reverse=True)\\n\\nbusiness_farming = [\\n    \\\"uniform supplier to the International Ice Hockey Federation\\\",\\n    \\\"owner of Ellen Tracy sportswear\\\",\\n    \\\"sportswear pioneer\\\",\\n    \\\"the one time head of the Gucci fashion house\\\",\\n]\\nbusiness_farming = sorted(\\n    list(set(business_farming)), key=lambda x: len(x), reverse=True\\n)\\n\\nacademia_humanities = [\\n    \\\"one of the world leading authorities on book conservation\\\",\\n    \\\"leading authority on Melanesian culture\\\",\\n    \\\"authority on Francis Drake\\\",\\n    \\\"authority on alabaster\\\",\\n    \\\"foremost encyclopedist\\\",\\n    \\\"debate coach\\\",\\n    \\\"head teacher\\\",\\n    \\\"headmaster\\\",\\n]\\nacademia_humanities = sorted(\\n    list(set(academia_humanities)), key=lambda x: len(x), reverse=True\\n)\\n\\nlaw_enf_military_operator = [\\n    \\\"division commander\\\",\\n]\\nlaw_enf_military_operator = sorted(\\n    list(set(law_enf_military_operator)), key=lambda x: len(x), reverse=True\\n)\\n\\nspiritual = [\\n    \\\"the acting head of the UGCC\\\",\\n    \\\"head of the Sikh Dharma in the western hemisphere\\\",\\n]\\nspiritual = sorted(list(set(spiritual)), key=lambda x: len(x), reverse=True)\\n\\nsocial = []\\nsocial = sorted(list(set(social)), key=lambda x: len(x), reverse=True)\\n\\ncrime = [\\n    \\\"founder of the Bandidos Motorcycle Club\\\",\\n]\\ncrime = sorted(list(set(crime)), key=lambda x: len(x), reverse=True)\\n\\nevent_record_other = [\\n    \\\"ex wife of former football player O J Simpson\\\",\\n    \\\"championed by Edward R Murrow\\\",\\n    \\\"lung patient whose wrong transplant made headlines\\\",\\n    \\\"made national headlines\\\",\\n]\\nevent_record_other = sorted(\\n    list(set(event_record_other)), key=lambda x: len(x), reverse=True\\n)\\n\\nother_species = []\\nother_species = sorted(list(set(other_species)), key=lambda x: len(x), reverse=True)\";\n",
       "                var nbb_formatted_code = \"# Creating lists for each category and sorting by decreasing length and removing duplicates\\n\\npolitics_govt_law = [\\n    \\\"politician who served as President of the Vermont State Senate\\\",\\n    \\\"politician Senator from Delaware from to\\\",\\n    \\\"politician in Valencian Community\\\",\\n    \\\"former Newfoundland politician\\\",\\n    \\\"anti communist politician\\\",\\n    \\\"Conservative politician\\\",\\n    \\\"Labour Party politician\\\",\\n    \\\"oppositional politician\\\",\\n    \\\"nationalist politician\\\",\\n    \\\"Republican politician\\\",\\n    \\\"pan Turkic politician\\\",\\n    \\\"communist politician\\\",\\n    \\\"post war politician\\\",\\n    \\\"one time politician\\\",\\n    \\\"Unionist politician\\\",\\n    \\\"eventual politician\\\",\\n    \\\"Marxist politician\\\",\\n    \\\"Labour politician\\\",\\n    \\\"Green politician\\\",\\n    \\\"politician from\\\",\\n    \\\"nazi politician\\\",\\n    \\\"East politician\\\",\\n    \\\"politician in\\\",\\n    \\\"a politician\\\",\\n    \\\"politician\\\",\\n    \\\"speechwriter for President\\\",\\n    \\\"defence expert\\\",\\n    \\\"acting president of\\\",\\n    \\\"anti divorce activist\\\",\\n    \\\"former head of the WHO AIDS program\\\",\\n    \\\"head of the dynasty\\\",\\n    \\\"head of the F D A\\\",\\n]\\npolitics_govt_law = sorted(\\n    list(set(politics_govt_law)), key=lambda x: len(x), reverse=True\\n)\\n\\narts = [\\n    \\\"screenwriter specialising in comedies\\\",\\n    \\\"the wife of writer Dylan Thomas\\\",\\n    \\\"television screenplay writer\\\",\\n    \\\"songwriter for Guns N' Roses\\\",\\n    \\\"pasacalle singer songwriter\\\",\\n    \\\"writer in Gujarati language\\\",\\n    \\\"singer songwriter\\\",\\n    \\\"television screenwriter\\\",\\n    \\\"science fiction writer\\\",\\n    \\\"roll singer songwriter\\\",\\n    \\\"writer of TV comedies\\\",\\n    \\\"writer for children\\\",\\n    \\\"comics screenwriter\\\",\\n    \\\"radio script writer\\\",\\n    \\\"short story writer\\\",\\n    \\\"non fiction writer\\\",\\n    \\\"Gros Ventre writer\\\",\\n    \\\"singer songwriter\\\",\\n    \\\"television writer\\\",\\n    \\\"comic book writer\\\",\\n    \\\"screenplay writer\\\",\\n    \\\"film music writer\\\",\\n    \\\"soap opera writer\\\",\\n    \\\"theme songwriter\\\",\\n    \\\"writer publicist\\\",\\n    \\\"a mystery writer\\\",\\n    \\\"children writer\\\",\\n    \\\"writer on music\\\",\\n    \\\"cookbook writer\\\",\\n    \\\"fantasy writer\\\",\\n    \\\"fashion writer\\\",\\n    \\\"mystery writer\\\",\\n    \\\"fiction writer\\\",\\n    \\\"culture writer\\\",\\n    \\\"dialect writer\\\",\\n    \\\"western writer\\\",\\n    \\\"travel writer\\\",\\n    \\\"comics writer\\\",\\n    \\\"comedy writer\\\",\\n    \\\"horror writer\\\",\\n    \\\"jingle writer\\\",\\n    \\\"script writer\\\",\\n    \\\"screenwriter\\\",\\n    \\\"scriptwriter\\\",\\n    \\\"radio writer\\\",\\n    \\\"crime writer\\\",\\n    \\\"score writer\\\",\\n    \\\"dance writer\\\",\\n    \\\"story writer\\\",\\n    \\\"prose writer\\\",\\n    \\\"food writer\\\",\\n    \\\"film writer\\\",\\n    \\\"ghostwriter\\\",\\n    \\\"songwriter\\\",\\n    \\\"copywriter\\\",\\n    \\\"vocal coach involved in the Wrong Door Raid\\\",\\n    \\\"vocal session arranger\\\",\\n    \\\"Yiddish vocalist\\\",\\n    \\\"blues vocalist\\\",\\n    \\\"vocal coach\\\",\\n    \\\"vocalist\\\",\\n    \\\"acting coach\\\",\\n    \\\"track maker\\\",\\n    \\\"drama\\\",\\n    \\\"radio dramatist\\\",\\n    \\\"drama teacher\\\",\\n    \\\"drama coach\\\",\\n    \\\"dramaturge\\\",\\n    \\\"dramatist\\\",\\n    \\\"voice artist voice of the Flower Pot Men\\\",\\n    \\\"television voice actor\\\",\\n    \\\"voice dubbing artist\\\",\\n    \\\"voice of Baby Huey\\\",\\n    \\\"voice over artist\\\",\\n    \\\"voice over actor\\\",\\n    \\\"a voice teacher\\\",\\n    \\\"voice actress\\\",\\n    \\\"voice teacher\\\",\\n    \\\"voice artist\\\",\\n    \\\"voice actor\\\",\\n    \\\"voice coach\\\",\\n    \\\"former head of the Horticultural Society\\\",\\n]\\narts = sorted(list(set(arts)), key=lambda x: len(x), reverse=True)\\n\\nsports = [\\n    \\\"general manager of the Dallas Cowboys professional football team\\\",\\n    \\\"former owner of the Cleveland Cavaliers basketball team\\\",\\n    \\\"radio announcer for the Lakers basketball team since\\\",\\n    \\\"first head coach of the women national team\\\",\\n    \\\"principal of the Toyota F racing team\\\",\\n    \\\"national softball team member\\\",\\n    \\\"Formula One team principal\\\",\\n    \\\"baseball team part owner\\\",\\n    \\\"women basketball teams\\\",\\n    \\\"national team captain\\\",\\n    \\\"national team manager\\\",\\n    \\\"football team owner\\\",\\n    \\\"baseball team owner\\\",\\n    \\\"cricket team coach\\\",\\n    \\\"partial team owner\\\",\\n    \\\"sports team owner\\\",\\n    \\\"racing team owner\\\",\\n    \\\"hockey team owner\\\",\\n    \\\"race team owner\\\",\\n    \\\"team manager\\\",\\n    \\\"team leader\\\",\\n    \\\"team owner\\\",\\n    \\\"field team\\\",\\n    \\\"coach in the National Hockey League\\\",\\n    \\\"World Hockey Association defenseman\\\",\\n    \\\"Commonwealth Games athletics coach\\\",\\n    \\\"college athletics administrator\\\",\\n    \\\"athletics director\\\",\\n    \\\"athletics coach\\\",\\n    \\\"former owner of the Cleveland Cavaliers basketball team\\\",\\n    \\\"for the Lakers basketball team since\\\",\\n    \\\"Ohio State University basketball player\\\",\\n    \\\"high school basketball coach\\\",\\n    \\\"wheelchair basketball player\\\",\\n    \\\"college basketball player\\\",\\n    \\\"women basketball teams\\\",\\n    \\\"NBL basketball player\\\",\\n    \\\"basketball executive\\\",\\n    \\\"basketball\\\",\\n    \\\"basketball player\\\",\\n    \\\"basketball coach\\\",\\n    \\\"general manager of the Dallas Cowboys professional football team\\\",\\n    \\\"football placekicker with the Dallas Cowboys\\\",\\n    \\\"chairman of Bradford City football club\\\",\\n    \\\"professional rugby league footballer\\\",\\n    \\\"died on the football pitch in Lyon\\\",\\n    \\\"footballer for Newport County\\\",\\n    \\\"professional football player\\\",\\n    \\\"rugby league football player\\\",\\n    \\\"World Cup football referee\\\",\\n    \\\"high school football coach\\\",\\n    \\\"gridiron football player\\\",\\n    \\\"rugby league footballer\\\",\\n    \\\"football administrator\\\",\\n    \\\"football club chairman\\\",\\n    \\\"football club director\\\",\\n    \\\"college football coach\\\",\\n    \\\"World Cup footballer\\\",\\n    \\\"football team owner\\\",\\n    \\\"football club owner\\\",\\n    \\\"football executive\\\",\\n    \\\"CFL football coach\\\",\\n    \\\"football chairman\\\",\\n    \\\"football official\\\",\\n    \\\"football manager\\\",\\n    \\\"football referee\\\",\\n    \\\"football coach\\\",\\n    \\\"footballer\\\",\\n    \\\"Pittsburgh Penguins coach\\\",\\n    \\\"coach for the NFL Giants\\\",\\n    \\\"NFL player\\\",\\n    \\\"silver medallist handball player\\\",\\n    \\\"beach handball coach\\\",\\n    \\\"handball player\\\",\\n    \\\"figure skating\\\",\\n    \\\"Olympic figure skater\\\",\\n    \\\"figure skating coach\\\",\\n    \\\"speed skater\\\",\\n    \\\"international coach\\\",\\n    \\\"Olympic field hockey player\\\",\\n    \\\"Olympic hockey player\\\",\\n    \\\"ice hockey executive\\\",\\n    \\\"field hockey player\\\",\\n    \\\"field hockey coach\\\",\\n    \\\"ice hockey player\\\",\\n    \\\"hockey team owner\\\",\\n    \\\"ice hockey coach\\\",\\n    \\\"hockey player\\\",\\n    \\\"Hall of Fame coach\\\",\\n    \\\"cricket administrator\\\",\\n    \\\"test cricket umpire\\\",\\n    \\\"cricket team coach\\\",\\n    \\\"cricket player\\\",\\n    \\\"cricket umpire\\\",\\n    \\\"cricketer\\\",\\n    \\\"Norwich City record goalscorer\\\",\\n    \\\"goaltending coach\\\",\\n    \\\"cup winning coach\\\",\\n    \\\"Paralympic athlete\\\",\\n    \\\"Paralympic coach\\\",\\n    'professional wrestler known as \\\"Bad News Brown\\\"',\\n    \\\"professional wrestling ring\\\",\\n    \\\"professional wrestling manager\\\",\\n    \\\"world champion arm wrestler\\\",\\n    \\\"professional wrestler\\\",\\n    \\\"wrestling\\\",\\n    \\\"wrestling manager\\\",\\n    \\\"Olympic wrestler\\\",\\n    \\\"wrestling coach\\\",\\n    \\\"wrestler\\\",\\n    \\\"assistant coach\\\",\\n    \\\"executive coach\\\",\\n    \\\"Victorian coach\\\",\\n    \\\"baseball player Philadelphia Athletics\\\",\\n    \\\"baseball official scorer\\\",\\n    \\\"baseball team part owner\\\",\\n    \\\"baseball club owner\\\",\\n    \\\"baseball team owner\\\",\\n    \\\"baseball executive\\\",\\n    \\\"baseball player\\\",\\n    \\\"baseball coach\\\",\\n    \\\"pitching coach\\\",\\n    \\\"first woman to swim the Channel in both directions\\\",\\n    \\\"first Olympic swimming medallist\\\",\\n    \\\"first woman to swim the Channel\\\",\\n    \\\"bronze medal winning swimmer\\\",\\n    \\\"silver medal winning swimmer\\\",\\n    \\\"Olympic swimmer\\\",\\n    \\\"swimming coach\\\",\\n    \\\"swimmer\\\",\\n    \\\"strength coach\\\",\\n    \\\"national coach\\\",\\n    \\\"field athlete who won four gold medals at the Summer Olympics\\\",\\n    \\\"candidate for National Olympic Committee president\\\",\\n    \\\"second oldest national Olympic competitor\\\",\\n    \\\"Olympic silver medal winning pentathlete\\\",\\n    \\\"president of the Olympic Committee\\\",\\n    \\\"the nation first Olympic champion\\\",\\n    \\\"first Olympic swimming medallist\\\",\\n    \\\"Olympic gold medallist in discus\\\",\\n    \\\"the first Olympic gold medalist\\\",\\n    \\\"winner of the first Olympic m\\\",\\n    \\\"oldest living former Olympian\\\",\\n    \\\"Olympic long distance runner\\\",\\n    \\\"Olympic field hockey player\\\",\\n    \\\"three time Olympic medalist\\\",\\n    \\\"Olympic gold medal winner\\\",\\n    \\\"Olympic water polo player\\\",\\n    \\\"Olympic lightweight boxer\\\",\\n    \\\"oldest surviving Olympian\\\",\\n    \\\"Olympic silver medallist\\\",\\n    \\\"Olympic bronze medalist\\\",\\n    \\\"Olympic silver medalist\\\",\\n    \\\"Olympic sports shooter\\\",\\n    \\\"Olympic Games champion\\\",\\n    \\\"Olympic gold medalist\\\",\\n    \\\"Olympic sport shooter\\\",\\n    \\\"Olympic figure skater\\\",\\n    \\\"Olympic hockey player\\\",\\n    \\\"Olympic sharpshooter\\\",\\n    \\\"Olympic long jumper\\\",\\n    \\\"Olympic competitor\\\",\\n    \\\"Olympic ski jumper\\\",\\n    \\\"Olympic bobsledder\\\",\\n    \\\"Olympic medallist\\\",\\n    \\\"Olympic champion\\\",\\n    \\\"Olympic medalist\\\",\\n    \\\"Olympic wrestler\\\",\\n    \\\"Olympic sprinter\\\",\\n    \\\"Olympic Champion\\\",\\n    \\\"Olympic official\\\",\\n    \\\"Olympic swimmer\\\",\\n    \\\"Olympic shooter\\\",\\n    \\\"Olympic hurdler\\\",\\n    \\\"Olympic athlete\\\",\\n    \\\"Senior Olympian\\\",\\n    \\\"Olympic fencer\\\",\\n    \\\"field Olympian\\\",\\n    \\\"Olympic skier\\\",\\n    \\\"Olympic coach\\\",\\n    \\\"Olympiian\\\",\\n    \\\"Olympian\\\",\\n    \\\"Olympics\\\",\\n    \\\"college coach\\\",\\n    \\\"cycling advocate\\\",\\n    \\\"professional road bicycle racer\\\",\\n    \\\"professional cyclist\\\",\\n    \\\"road racing cyclist\\\",\\n    \\\"motorcycle racer\\\",\\n    \\\"cycling\\\",\\n    \\\"cycling advocate\\\",\\n    \\\"racing cyclist\\\",\\n    \\\"cycling coach\\\",\\n    \\\"road cyclist\\\",\\n    \\\"cyclist\\\",\\n    \\\"bronze medalist fencer\\\",\\n    \\\"fencing trainer\\\",\\n    \\\"Olympic fencer\\\",\\n    \\\"fencing master\\\",\\n    \\\"fencing coach\\\",\\n    \\\"foil fencer\\\",\\n    \\\"fencer\\\",\\n    \\\"tennis player\\\",\\n    \\\"tennis umpire\\\",\\n    \\\"tennis coach\\\",\\n    \\\"sports analyst\\\",\\n    \\\"sports media\\\",\\n    \\\"radio sports\\\",\\n    \\\"television sports\\\",\\n    \\\"Olympic sports shooter\\\",\\n    \\\"TF sports\\\",\\n    \\\"sports administrator\\\",\\n    \\\"sports team owner\\\",\\n    \\\"sports club owner\\\",\\n    \\\"sports executive\\\",\\n    \\\"sports official\\\",\\n    \\\"sports director\\\",\\n    \\\"sports shooter\\\",\\n    \\\"sports coach\\\",\\n    \\\"sportswoman\\\",\\n    \\\"sportsman\\\",\\n    \\\"underwater diver\\\",\\n    \\\"diving coach\\\",\\n    \\\"scuba diver\\\",\\n    \\\"diver\\\",\\n    \\\"javelin thrower\\\",\\n    \\\"discus thrower\\\",\\n    \\\"weight thrower\\\",\\n    \\\"rowing coach\\\",\\n    \\\"rower\\\",\\n    \\\"field athlete who won four gold medals at the Summer Olympics\\\",\\n    \\\"former chairman of Sheffield United\\\",\\n    \\\"field athlete\\\",\\n    \\\"field coach\\\",\\n    \\\"outfielder\\\",\\n    \\\"field team\\\",\\n    \\\"racetrack operator\\\",\\n    \\\"track athlete\\\",\\n    \\\"track coach\\\",\\n    \\\"first head coach of the women national team\\\",\\n    \\\"head coach\\\",\\n]\\nsports = sorted(list(set(sports)), key=lambda x: len(x), reverse=True)\\n\\nsciences = [\\n    \\\"an authority on psychoanalysis\\\",\\n    \\\"bee breeding authority\\\",\\n    \\\"technical authority\\\",\\n    \\\"team member of the Manhattan Project\\\",\\n    \\\"scientific divulgator\\\",\\n    \\\"a pioneer in the field of vitro fertilization\\\",\\n    \\\"pioneer in the field of computer graphics\\\",\\n    \\\"field biologist\\\",\\n    \\\"former head of the Psychological Association\\\",\\n]\\nsciences = sorted(list(set(sciences)), key=lambda x: len(x), reverse=True)\\n\\nbusiness_farming = [\\n    \\\"uniform supplier to the International Ice Hockey Federation\\\",\\n    \\\"owner of Ellen Tracy sportswear\\\",\\n    \\\"sportswear pioneer\\\",\\n    \\\"the one time head of the Gucci fashion house\\\",\\n]\\nbusiness_farming = sorted(\\n    list(set(business_farming)), key=lambda x: len(x), reverse=True\\n)\\n\\nacademia_humanities = [\\n    \\\"one of the world leading authorities on book conservation\\\",\\n    \\\"leading authority on Melanesian culture\\\",\\n    \\\"authority on Francis Drake\\\",\\n    \\\"authority on alabaster\\\",\\n    \\\"foremost encyclopedist\\\",\\n    \\\"debate coach\\\",\\n    \\\"head teacher\\\",\\n    \\\"headmaster\\\",\\n]\\nacademia_humanities = sorted(\\n    list(set(academia_humanities)), key=lambda x: len(x), reverse=True\\n)\\n\\nlaw_enf_military_operator = [\\n    \\\"division commander\\\",\\n]\\nlaw_enf_military_operator = sorted(\\n    list(set(law_enf_military_operator)), key=lambda x: len(x), reverse=True\\n)\\n\\nspiritual = [\\n    \\\"the acting head of the UGCC\\\",\\n    \\\"head of the Sikh Dharma in the western hemisphere\\\",\\n]\\nspiritual = sorted(list(set(spiritual)), key=lambda x: len(x), reverse=True)\\n\\nsocial = []\\nsocial = sorted(list(set(social)), key=lambda x: len(x), reverse=True)\\n\\ncrime = [\\n    \\\"founder of the Bandidos Motorcycle Club\\\",\\n]\\ncrime = sorted(list(set(crime)), key=lambda x: len(x), reverse=True)\\n\\nevent_record_other = [\\n    \\\"ex wife of former football player O J Simpson\\\",\\n    \\\"championed by Edward R Murrow\\\",\\n    \\\"lung patient whose wrong transplant made headlines\\\",\\n    \\\"made national headlines\\\",\\n]\\nevent_record_other = sorted(\\n    list(set(event_record_other)), key=lambda x: len(x), reverse=True\\n)\\n\\nother_species = []\\nother_species = sorted(list(set(other_species)), key=lambda x: len(x), reverse=True)\";\n",
       "                var nbb_cells = Jupyter.notebook.get_cells();\n",
       "                for (var i = 0; i < nbb_cells.length; ++i) {\n",
       "                    if (nbb_cells[i].input_prompt_number == nbb_cell_id) {\n",
       "                        if (nbb_cells[i].get_text() == nbb_unformatted_code) {\n",
       "                             nbb_cells[i].set_text(nbb_formatted_code);\n",
       "                        }\n",
       "                        break;\n",
       "                    }\n",
       "                }\n",
       "            }, 500);\n",
       "            "
      ],
      "text/plain": [
       "<IPython.core.display.Javascript object>"
      ]
     },
     "metadata": {},
     "output_type": "display_data"
    }
   ],
   "source": [
    "# Creating lists for each category and sorting by decreasing length and removing duplicates\n",
    "\n",
    "politics_govt_law = [\n",
    "    \"politician who served as President of the Vermont State Senate\",\n",
    "    \"politician Senator from Delaware from to\",\n",
    "    \"politician in Valencian Community\",\n",
    "    \"former Newfoundland politician\",\n",
    "    \"anti communist politician\",\n",
    "    \"Conservative politician\",\n",
    "    \"Labour Party politician\",\n",
    "    \"oppositional politician\",\n",
    "    \"nationalist politician\",\n",
    "    \"Republican politician\",\n",
    "    \"pan Turkic politician\",\n",
    "    \"communist politician\",\n",
    "    \"post war politician\",\n",
    "    \"one time politician\",\n",
    "    \"Unionist politician\",\n",
    "    \"eventual politician\",\n",
    "    \"Marxist politician\",\n",
    "    \"Labour politician\",\n",
    "    \"Green politician\",\n",
    "    \"politician from\",\n",
    "    \"nazi politician\",\n",
    "    \"East politician\",\n",
    "    \"politician in\",\n",
    "    \"a politician\",\n",
    "    \"politician\",\n",
    "    \"speechwriter for President\",\n",
    "    \"defence expert\",\n",
    "    \"acting president of\",\n",
    "    \"anti divorce activist\",\n",
    "    \"former head of the WHO AIDS program\",\n",
    "    \"head of the dynasty\",\n",
    "    \"head of the F D A\",\n",
    "]\n",
    "politics_govt_law = sorted(\n",
    "    list(set(politics_govt_law)), key=lambda x: len(x), reverse=True\n",
    ")\n",
    "\n",
    "arts = [\n",
    "    \"screenwriter specialising in comedies\",\n",
    "    \"the wife of writer Dylan Thomas\",\n",
    "    \"television screenplay writer\",\n",
    "    \"songwriter for Guns N' Roses\",\n",
    "    \"pasacalle singer songwriter\",\n",
    "    \"writer in Gujarati language\",\n",
    "    \"singer songwriter\",\n",
    "    \"television screenwriter\",\n",
    "    \"science fiction writer\",\n",
    "    \"roll singer songwriter\",\n",
    "    \"writer of TV comedies\",\n",
    "    \"writer for children\",\n",
    "    \"comics screenwriter\",\n",
    "    \"radio script writer\",\n",
    "    \"short story writer\",\n",
    "    \"non fiction writer\",\n",
    "    \"Gros Ventre writer\",\n",
    "    \"singer songwriter\",\n",
    "    \"television writer\",\n",
    "    \"comic book writer\",\n",
    "    \"screenplay writer\",\n",
    "    \"film music writer\",\n",
    "    \"soap opera writer\",\n",
    "    \"theme songwriter\",\n",
    "    \"writer publicist\",\n",
    "    \"a mystery writer\",\n",
    "    \"children writer\",\n",
    "    \"writer on music\",\n",
    "    \"cookbook writer\",\n",
    "    \"fantasy writer\",\n",
    "    \"fashion writer\",\n",
    "    \"mystery writer\",\n",
    "    \"fiction writer\",\n",
    "    \"culture writer\",\n",
    "    \"dialect writer\",\n",
    "    \"western writer\",\n",
    "    \"travel writer\",\n",
    "    \"comics writer\",\n",
    "    \"comedy writer\",\n",
    "    \"horror writer\",\n",
    "    \"jingle writer\",\n",
    "    \"script writer\",\n",
    "    \"screenwriter\",\n",
    "    \"scriptwriter\",\n",
    "    \"radio writer\",\n",
    "    \"crime writer\",\n",
    "    \"score writer\",\n",
    "    \"dance writer\",\n",
    "    \"story writer\",\n",
    "    \"prose writer\",\n",
    "    \"food writer\",\n",
    "    \"film writer\",\n",
    "    \"ghostwriter\",\n",
    "    \"songwriter\",\n",
    "    \"copywriter\",\n",
    "    \"vocal coach involved in the Wrong Door Raid\",\n",
    "    \"vocal session arranger\",\n",
    "    \"Yiddish vocalist\",\n",
    "    \"blues vocalist\",\n",
    "    \"vocal coach\",\n",
    "    \"vocalist\",\n",
    "    \"acting coach\",\n",
    "    \"track maker\",\n",
    "    \"drama\",\n",
    "    \"radio dramatist\",\n",
    "    \"drama teacher\",\n",
    "    \"drama coach\",\n",
    "    \"dramaturge\",\n",
    "    \"dramatist\",\n",
    "    \"voice artist voice of the Flower Pot Men\",\n",
    "    \"television voice actor\",\n",
    "    \"voice dubbing artist\",\n",
    "    \"voice of Baby Huey\",\n",
    "    \"voice over artist\",\n",
    "    \"voice over actor\",\n",
    "    \"a voice teacher\",\n",
    "    \"voice actress\",\n",
    "    \"voice teacher\",\n",
    "    \"voice artist\",\n",
    "    \"voice actor\",\n",
    "    \"voice coach\",\n",
    "    \"former head of the Horticultural Society\",\n",
    "]\n",
    "arts = sorted(list(set(arts)), key=lambda x: len(x), reverse=True)\n",
    "\n",
    "sports = [\n",
    "    \"general manager of the Dallas Cowboys professional football team\",\n",
    "    \"former owner of the Cleveland Cavaliers basketball team\",\n",
    "    \"radio announcer for the Lakers basketball team since\",\n",
    "    \"first head coach of the women national team\",\n",
    "    \"principal of the Toyota F racing team\",\n",
    "    \"national softball team member\",\n",
    "    \"Formula One team principal\",\n",
    "    \"baseball team part owner\",\n",
    "    \"women basketball teams\",\n",
    "    \"national team captain\",\n",
    "    \"national team manager\",\n",
    "    \"football team owner\",\n",
    "    \"baseball team owner\",\n",
    "    \"cricket team coach\",\n",
    "    \"partial team owner\",\n",
    "    \"sports team owner\",\n",
    "    \"racing team owner\",\n",
    "    \"hockey team owner\",\n",
    "    \"race team owner\",\n",
    "    \"team manager\",\n",
    "    \"team leader\",\n",
    "    \"team owner\",\n",
    "    \"field team\",\n",
    "    \"coach in the National Hockey League\",\n",
    "    \"World Hockey Association defenseman\",\n",
    "    \"Commonwealth Games athletics coach\",\n",
    "    \"college athletics administrator\",\n",
    "    \"athletics director\",\n",
    "    \"athletics coach\",\n",
    "    \"former owner of the Cleveland Cavaliers basketball team\",\n",
    "    \"for the Lakers basketball team since\",\n",
    "    \"Ohio State University basketball player\",\n",
    "    \"high school basketball coach\",\n",
    "    \"wheelchair basketball player\",\n",
    "    \"college basketball player\",\n",
    "    \"women basketball teams\",\n",
    "    \"NBL basketball player\",\n",
    "    \"basketball executive\",\n",
    "    \"basketball\",\n",
    "    \"basketball player\",\n",
    "    \"basketball coach\",\n",
    "    \"general manager of the Dallas Cowboys professional football team\",\n",
    "    \"football placekicker with the Dallas Cowboys\",\n",
    "    \"chairman of Bradford City football club\",\n",
    "    \"professional rugby league footballer\",\n",
    "    \"died on the football pitch in Lyon\",\n",
    "    \"footballer for Newport County\",\n",
    "    \"professional football player\",\n",
    "    \"rugby league football player\",\n",
    "    \"World Cup football referee\",\n",
    "    \"high school football coach\",\n",
    "    \"gridiron football player\",\n",
    "    \"rugby league footballer\",\n",
    "    \"football administrator\",\n",
    "    \"football club chairman\",\n",
    "    \"football club director\",\n",
    "    \"college football coach\",\n",
    "    \"World Cup footballer\",\n",
    "    \"football team owner\",\n",
    "    \"football club owner\",\n",
    "    \"football executive\",\n",
    "    \"CFL football coach\",\n",
    "    \"football chairman\",\n",
    "    \"football official\",\n",
    "    \"football manager\",\n",
    "    \"football referee\",\n",
    "    \"football coach\",\n",
    "    \"footballer\",\n",
    "    \"Pittsburgh Penguins coach\",\n",
    "    \"coach for the NFL Giants\",\n",
    "    \"NFL player\",\n",
    "    \"silver medallist handball player\",\n",
    "    \"beach handball coach\",\n",
    "    \"handball player\",\n",
    "    \"figure skating\",\n",
    "    \"Olympic figure skater\",\n",
    "    \"figure skating coach\",\n",
    "    \"speed skater\",\n",
    "    \"international coach\",\n",
    "    \"Olympic field hockey player\",\n",
    "    \"Olympic hockey player\",\n",
    "    \"ice hockey executive\",\n",
    "    \"field hockey player\",\n",
    "    \"field hockey coach\",\n",
    "    \"ice hockey player\",\n",
    "    \"hockey team owner\",\n",
    "    \"ice hockey coach\",\n",
    "    \"hockey player\",\n",
    "    \"Hall of Fame coach\",\n",
    "    \"cricket administrator\",\n",
    "    \"test cricket umpire\",\n",
    "    \"cricket team coach\",\n",
    "    \"cricket player\",\n",
    "    \"cricket umpire\",\n",
    "    \"cricketer\",\n",
    "    \"Norwich City record goalscorer\",\n",
    "    \"goaltending coach\",\n",
    "    \"cup winning coach\",\n",
    "    \"Paralympic athlete\",\n",
    "    \"Paralympic coach\",\n",
    "    'professional wrestler known as \"Bad News Brown\"',\n",
    "    \"professional wrestling ring\",\n",
    "    \"professional wrestling manager\",\n",
    "    \"world champion arm wrestler\",\n",
    "    \"professional wrestler\",\n",
    "    \"wrestling\",\n",
    "    \"wrestling manager\",\n",
    "    \"Olympic wrestler\",\n",
    "    \"wrestling coach\",\n",
    "    \"wrestler\",\n",
    "    \"assistant coach\",\n",
    "    \"executive coach\",\n",
    "    \"Victorian coach\",\n",
    "    \"baseball player Philadelphia Athletics\",\n",
    "    \"baseball official scorer\",\n",
    "    \"baseball team part owner\",\n",
    "    \"baseball club owner\",\n",
    "    \"baseball team owner\",\n",
    "    \"baseball executive\",\n",
    "    \"baseball player\",\n",
    "    \"baseball coach\",\n",
    "    \"pitching coach\",\n",
    "    \"first woman to swim the Channel in both directions\",\n",
    "    \"first Olympic swimming medallist\",\n",
    "    \"first woman to swim the Channel\",\n",
    "    \"bronze medal winning swimmer\",\n",
    "    \"silver medal winning swimmer\",\n",
    "    \"Olympic swimmer\",\n",
    "    \"swimming coach\",\n",
    "    \"swimmer\",\n",
    "    \"strength coach\",\n",
    "    \"national coach\",\n",
    "    \"field athlete who won four gold medals at the Summer Olympics\",\n",
    "    \"candidate for National Olympic Committee president\",\n",
    "    \"second oldest national Olympic competitor\",\n",
    "    \"Olympic silver medal winning pentathlete\",\n",
    "    \"president of the Olympic Committee\",\n",
    "    \"the nation first Olympic champion\",\n",
    "    \"first Olympic swimming medallist\",\n",
    "    \"Olympic gold medallist in discus\",\n",
    "    \"the first Olympic gold medalist\",\n",
    "    \"winner of the first Olympic m\",\n",
    "    \"oldest living former Olympian\",\n",
    "    \"Olympic long distance runner\",\n",
    "    \"Olympic field hockey player\",\n",
    "    \"three time Olympic medalist\",\n",
    "    \"Olympic gold medal winner\",\n",
    "    \"Olympic water polo player\",\n",
    "    \"Olympic lightweight boxer\",\n",
    "    \"oldest surviving Olympian\",\n",
    "    \"Olympic silver medallist\",\n",
    "    \"Olympic bronze medalist\",\n",
    "    \"Olympic silver medalist\",\n",
    "    \"Olympic sports shooter\",\n",
    "    \"Olympic Games champion\",\n",
    "    \"Olympic gold medalist\",\n",
    "    \"Olympic sport shooter\",\n",
    "    \"Olympic figure skater\",\n",
    "    \"Olympic hockey player\",\n",
    "    \"Olympic sharpshooter\",\n",
    "    \"Olympic long jumper\",\n",
    "    \"Olympic competitor\",\n",
    "    \"Olympic ski jumper\",\n",
    "    \"Olympic bobsledder\",\n",
    "    \"Olympic medallist\",\n",
    "    \"Olympic champion\",\n",
    "    \"Olympic medalist\",\n",
    "    \"Olympic wrestler\",\n",
    "    \"Olympic sprinter\",\n",
    "    \"Olympic Champion\",\n",
    "    \"Olympic official\",\n",
    "    \"Olympic swimmer\",\n",
    "    \"Olympic shooter\",\n",
    "    \"Olympic hurdler\",\n",
    "    \"Olympic athlete\",\n",
    "    \"Senior Olympian\",\n",
    "    \"Olympic fencer\",\n",
    "    \"field Olympian\",\n",
    "    \"Olympic skier\",\n",
    "    \"Olympic coach\",\n",
    "    \"Olympiian\",\n",
    "    \"Olympian\",\n",
    "    \"Olympics\",\n",
    "    \"college coach\",\n",
    "    \"cycling advocate\",\n",
    "    \"professional road bicycle racer\",\n",
    "    \"professional cyclist\",\n",
    "    \"road racing cyclist\",\n",
    "    \"motorcycle racer\",\n",
    "    \"cycling\",\n",
    "    \"cycling advocate\",\n",
    "    \"racing cyclist\",\n",
    "    \"cycling coach\",\n",
    "    \"road cyclist\",\n",
    "    \"cyclist\",\n",
    "    \"bronze medalist fencer\",\n",
    "    \"fencing trainer\",\n",
    "    \"Olympic fencer\",\n",
    "    \"fencing master\",\n",
    "    \"fencing coach\",\n",
    "    \"foil fencer\",\n",
    "    \"fencer\",\n",
    "    \"tennis player\",\n",
    "    \"tennis umpire\",\n",
    "    \"tennis coach\",\n",
    "    \"sports analyst\",\n",
    "    \"sports media\",\n",
    "    \"radio sports\",\n",
    "    \"television sports\",\n",
    "    \"Olympic sports shooter\",\n",
    "    \"TF sports\",\n",
    "    \"sports administrator\",\n",
    "    \"sports team owner\",\n",
    "    \"sports club owner\",\n",
    "    \"sports executive\",\n",
    "    \"sports official\",\n",
    "    \"sports director\",\n",
    "    \"sports shooter\",\n",
    "    \"sports coach\",\n",
    "    \"sportswoman\",\n",
    "    \"sportsman\",\n",
    "    \"underwater diver\",\n",
    "    \"diving coach\",\n",
    "    \"scuba diver\",\n",
    "    \"diver\",\n",
    "    \"javelin thrower\",\n",
    "    \"discus thrower\",\n",
    "    \"weight thrower\",\n",
    "    \"rowing coach\",\n",
    "    \"rower\",\n",
    "    \"field athlete who won four gold medals at the Summer Olympics\",\n",
    "    \"former chairman of Sheffield United\",\n",
    "    \"field athlete\",\n",
    "    \"field coach\",\n",
    "    \"outfielder\",\n",
    "    \"field team\",\n",
    "    \"racetrack operator\",\n",
    "    \"track athlete\",\n",
    "    \"track coach\",\n",
    "    \"first head coach of the women national team\",\n",
    "    \"head coach\",\n",
    "]\n",
    "sports = sorted(list(set(sports)), key=lambda x: len(x), reverse=True)\n",
    "\n",
    "sciences = [\n",
    "    \"an authority on psychoanalysis\",\n",
    "    \"bee breeding authority\",\n",
    "    \"technical authority\",\n",
    "    \"team member of the Manhattan Project\",\n",
    "    \"scientific divulgator\",\n",
    "    \"a pioneer in the field of vitro fertilization\",\n",
    "    \"pioneer in the field of computer graphics\",\n",
    "    \"field biologist\",\n",
    "    \"former head of the Psychological Association\",\n",
    "]\n",
    "sciences = sorted(list(set(sciences)), key=lambda x: len(x), reverse=True)\n",
    "\n",
    "business_farming = [\n",
    "    \"uniform supplier to the International Ice Hockey Federation\",\n",
    "    \"owner of Ellen Tracy sportswear\",\n",
    "    \"sportswear pioneer\",\n",
    "    \"the one time head of the Gucci fashion house\",\n",
    "]\n",
    "business_farming = sorted(\n",
    "    list(set(business_farming)), key=lambda x: len(x), reverse=True\n",
    ")\n",
    "\n",
    "academia_humanities = [\n",
    "    \"one of the world leading authorities on book conservation\",\n",
    "    \"leading authority on Melanesian culture\",\n",
    "    \"authority on Francis Drake\",\n",
    "    \"authority on alabaster\",\n",
    "    \"foremost encyclopedist\",\n",
    "    \"debate coach\",\n",
    "    \"head teacher\",\n",
    "    \"headmaster\",\n",
    "]\n",
    "academia_humanities = sorted(\n",
    "    list(set(academia_humanities)), key=lambda x: len(x), reverse=True\n",
    ")\n",
    "\n",
    "law_enf_military_operator = [\n",
    "    \"division commander\",\n",
    "]\n",
    "law_enf_military_operator = sorted(\n",
    "    list(set(law_enf_military_operator)), key=lambda x: len(x), reverse=True\n",
    ")\n",
    "\n",
    "spiritual = [\n",
    "    \"the acting head of the UGCC\",\n",
    "    \"head of the Sikh Dharma in the western hemisphere\",\n",
    "]\n",
    "spiritual = sorted(list(set(spiritual)), key=lambda x: len(x), reverse=True)\n",
    "\n",
    "social = []\n",
    "social = sorted(list(set(social)), key=lambda x: len(x), reverse=True)\n",
    "\n",
    "crime = [\n",
    "    \"founder of the Bandidos Motorcycle Club\",\n",
    "]\n",
    "crime = sorted(list(set(crime)), key=lambda x: len(x), reverse=True)\n",
    "\n",
    "event_record_other = [\n",
    "    \"ex wife of former football player O J Simpson\",\n",
    "    \"championed by Edward R Murrow\",\n",
    "    \"lung patient whose wrong transplant made headlines\",\n",
    "    \"made national headlines\",\n",
    "]\n",
    "event_record_other = sorted(\n",
    "    list(set(event_record_other)), key=lambda x: len(x), reverse=True\n",
    ")\n",
    "\n",
    "other_species = []\n",
    "other_species = sorted(list(set(other_species)), key=lambda x: len(x), reverse=True)"
   ]
  },
  {
   "cell_type": "code",
   "execution_count": 12,
   "id": "94409149",
   "metadata": {},
   "outputs": [
    {
     "data": {
      "application/javascript": [
       "\n",
       "            setTimeout(function() {\n",
       "                var nbb_cell_id = 12;\n",
       "                var nbb_unformatted_code = \"# Dropping entry with link that points to event rather than individual's page\\nindex = df[\\n    df[\\\"link\\\"] == \\\"https://en.wikipedia.org/wiki/Death_of_Paolo_Gislimberti\\\"\\n].index\\ndf.drop(index, inplace=True)\\ndf.reset_index(inplace=True, drop=True)\";\n",
       "                var nbb_formatted_code = \"# Dropping entry with link that points to event rather than individual's page\\nindex = df[\\n    df[\\\"link\\\"] == \\\"https://en.wikipedia.org/wiki/Death_of_Paolo_Gislimberti\\\"\\n].index\\ndf.drop(index, inplace=True)\\ndf.reset_index(inplace=True, drop=True)\";\n",
       "                var nbb_cells = Jupyter.notebook.get_cells();\n",
       "                for (var i = 0; i < nbb_cells.length; ++i) {\n",
       "                    if (nbb_cells[i].input_prompt_number == nbb_cell_id) {\n",
       "                        if (nbb_cells[i].get_text() == nbb_unformatted_code) {\n",
       "                             nbb_cells[i].set_text(nbb_formatted_code);\n",
       "                        }\n",
       "                        break;\n",
       "                    }\n",
       "                }\n",
       "            }, 500);\n",
       "            "
      ],
      "text/plain": [
       "<IPython.core.display.Javascript object>"
      ]
     },
     "metadata": {},
     "output_type": "display_data"
    }
   ],
   "source": [
    "# Dropping entry with link that points to event rather than individual's page\n",
    "index = df[\n",
    "    df[\"link\"] == \"https://en.wikipedia.org/wiki/Death_of_Paolo_Gislimberti\"\n",
    "].index\n",
    "df.drop(index, inplace=True)\n",
    "df.reset_index(inplace=True, drop=True)"
   ]
  },
  {
   "cell_type": "markdown",
   "id": "771f4d35",
   "metadata": {},
   "source": [
    "#### Creating `known_for_dict` Dictionary of Category Keys and Specific Role Lists of Values"
   ]
  },
  {
   "cell_type": "code",
   "execution_count": 13,
   "id": "90d785b1",
   "metadata": {},
   "outputs": [
    {
     "data": {
      "application/javascript": [
       "\n",
       "            setTimeout(function() {\n",
       "                var nbb_cell_id = 13;\n",
       "                var nbb_unformatted_code = \"# Combining separate lists into one dictionary\\nknown_for_dict = {\\n    \\\"social\\\": social,\\n    \\\"spiritual\\\": spiritual,\\n    \\\"academia_humanities\\\": academia_humanities,\\n    \\\"business_farming\\\": business_farming,\\n    \\\"sciences\\\": sciences,\\n    \\\"politics_govt_law\\\": politics_govt_law,\\n    \\\"law_enf_military_operator\\\": law_enf_military_operator,\\n    \\\"crime\\\": crime,\\n    \\\"event_record_other\\\": event_record_other,\\n    \\\"other_species\\\": other_species,\\n    \\\"arts\\\": arts,\\n    \\\"sports\\\": sports,\\n}\";\n",
       "                var nbb_formatted_code = \"# Combining separate lists into one dictionary\\nknown_for_dict = {\\n    \\\"social\\\": social,\\n    \\\"spiritual\\\": spiritual,\\n    \\\"academia_humanities\\\": academia_humanities,\\n    \\\"business_farming\\\": business_farming,\\n    \\\"sciences\\\": sciences,\\n    \\\"politics_govt_law\\\": politics_govt_law,\\n    \\\"law_enf_military_operator\\\": law_enf_military_operator,\\n    \\\"crime\\\": crime,\\n    \\\"event_record_other\\\": event_record_other,\\n    \\\"other_species\\\": other_species,\\n    \\\"arts\\\": arts,\\n    \\\"sports\\\": sports,\\n}\";\n",
       "                var nbb_cells = Jupyter.notebook.get_cells();\n",
       "                for (var i = 0; i < nbb_cells.length; ++i) {\n",
       "                    if (nbb_cells[i].input_prompt_number == nbb_cell_id) {\n",
       "                        if (nbb_cells[i].get_text() == nbb_unformatted_code) {\n",
       "                             nbb_cells[i].set_text(nbb_formatted_code);\n",
       "                        }\n",
       "                        break;\n",
       "                    }\n",
       "                }\n",
       "            }, 500);\n",
       "            "
      ],
      "text/plain": [
       "<IPython.core.display.Javascript object>"
      ]
     },
     "metadata": {},
     "output_type": "display_data"
    }
   ],
   "source": [
    "# Combining separate lists into one dictionary\n",
    "known_for_dict = {\n",
    "    \"social\": social,\n",
    "    \"spiritual\": spiritual,\n",
    "    \"academia_humanities\": academia_humanities,\n",
    "    \"business_farming\": business_farming,\n",
    "    \"sciences\": sciences,\n",
    "    \"politics_govt_law\": politics_govt_law,\n",
    "    \"law_enf_military_operator\": law_enf_military_operator,\n",
    "    \"crime\": crime,\n",
    "    \"event_record_other\": event_record_other,\n",
    "    \"other_species\": other_species,\n",
    "    \"arts\": arts,\n",
    "    \"sports\": sports,\n",
    "}"
   ]
  },
  {
   "cell_type": "markdown",
   "id": "f970d3ea",
   "metadata": {},
   "source": [
    "#### Extracting Category from `info_2_1`"
   ]
  },
  {
   "cell_type": "code",
   "execution_count": 14,
   "id": "86d2bfa7",
   "metadata": {},
   "outputs": [
    {
     "name": "stdout",
     "output_type": "stream",
     "text": [
      "CPU times: total: 46.6 s\n",
      "Wall time: 46.6 s\n"
     ]
    },
    {
     "data": {
      "application/javascript": [
       "\n",
       "            setTimeout(function() {\n",
       "                var nbb_cell_id = 14;\n",
       "                var nbb_unformatted_code = \"%%time\\n\\n# Column to check\\ncolumn = 'info_2_1'\\n\\n# Start dataframe\\ndataframe = df[df[column].notna()]\\n\\n# For loop to find role in column and extract it as category\\nfor category, category_lst in known_for_dict.items():\\n    for role in category_lst:\\n        for index in dataframe.index:\\n                item = df.loc[index, column]\\n                if item:\\n                    if role in item:\\n                        df.loc[index, category] = 1\\n                        df.loc[index, column] = item.replace(role, '').strip()\\n\\n# Calculating num_categories\\ndf[\\\"num_categories\\\"] = df[known_for_dict.keys()].sum(axis=1)\";\n",
       "                var nbb_formatted_code = \"%%time\\n\\n# Column to check\\ncolumn = 'info_2_1'\\n\\n# Start dataframe\\ndataframe = df[df[column].notna()]\\n\\n# For loop to find role in column and extract it as category\\nfor category, category_lst in known_for_dict.items():\\n    for role in category_lst:\\n        for index in dataframe.index:\\n                item = df.loc[index, column]\\n                if item:\\n                    if role in item:\\n                        df.loc[index, category] = 1\\n                        df.loc[index, column] = item.replace(role, '').strip()\\n\\n# Calculating num_categories\\ndf[\\\"num_categories\\\"] = df[known_for_dict.keys()].sum(axis=1)\";\n",
       "                var nbb_cells = Jupyter.notebook.get_cells();\n",
       "                for (var i = 0; i < nbb_cells.length; ++i) {\n",
       "                    if (nbb_cells[i].input_prompt_number == nbb_cell_id) {\n",
       "                        if (nbb_cells[i].get_text() == nbb_unformatted_code) {\n",
       "                             nbb_cells[i].set_text(nbb_formatted_code);\n",
       "                        }\n",
       "                        break;\n",
       "                    }\n",
       "                }\n",
       "            }, 500);\n",
       "            "
      ],
      "text/plain": [
       "<IPython.core.display.Javascript object>"
      ]
     },
     "metadata": {},
     "output_type": "display_data"
    }
   ],
   "source": [
    "%%time\n",
    "\n",
    "# Column to check\n",
    "column = 'info_2_1'\n",
    "\n",
    "# Start dataframe\n",
    "dataframe = df[df[column].notna()]\n",
    "\n",
    "# For loop to find role in column and extract it as category\n",
    "for category, category_lst in known_for_dict.items():\n",
    "    for role in category_lst:\n",
    "        for index in dataframe.index:\n",
    "                item = df.loc[index, column]\n",
    "                if item:\n",
    "                    if role in item:\n",
    "                        df.loc[index, category] = 1\n",
    "                        df.loc[index, column] = item.replace(role, '').strip()\n",
    "\n",
    "# Calculating num_categories\n",
    "df[\"num_categories\"] = df[known_for_dict.keys()].sum(axis=1)"
   ]
  },
  {
   "cell_type": "markdown",
   "id": "af6159bd",
   "metadata": {},
   "source": [
    "#### Checking Updated `num_categories` Value Counts"
   ]
  },
  {
   "cell_type": "code",
   "execution_count": 15,
   "id": "6794beda",
   "metadata": {},
   "outputs": [
    {
     "data": {
      "text/plain": [
       "1    94696\n",
       "2     3245\n",
       "0       84\n",
       "3       19\n",
       "Name: num_categories, dtype: int64"
      ]
     },
     "execution_count": 15,
     "metadata": {},
     "output_type": "execute_result"
    },
    {
     "data": {
      "application/javascript": [
       "\n",
       "            setTimeout(function() {\n",
       "                var nbb_cell_id = 15;\n",
       "                var nbb_unformatted_code = \"# Checking updated num_categories value counts\\ndf[\\\"num_categories\\\"].value_counts()\";\n",
       "                var nbb_formatted_code = \"# Checking updated num_categories value counts\\ndf[\\\"num_categories\\\"].value_counts()\";\n",
       "                var nbb_cells = Jupyter.notebook.get_cells();\n",
       "                for (var i = 0; i < nbb_cells.length; ++i) {\n",
       "                    if (nbb_cells[i].input_prompt_number == nbb_cell_id) {\n",
       "                        if (nbb_cells[i].get_text() == nbb_unformatted_code) {\n",
       "                             nbb_cells[i].set_text(nbb_formatted_code);\n",
       "                        }\n",
       "                        break;\n",
       "                    }\n",
       "                }\n",
       "            }, 500);\n",
       "            "
      ],
      "text/plain": [
       "<IPython.core.display.Javascript object>"
      ]
     },
     "metadata": {},
     "output_type": "display_data"
    }
   ],
   "source": [
    "# Checking updated num_categories value counts\n",
    "df[\"num_categories\"].value_counts()"
   ]
  },
  {
   "cell_type": "markdown",
   "id": "3b1dd700",
   "metadata": {},
   "source": [
    "#### Observations:\n",
    "- Most likely, the number of entries without any category will not update until we search `info_1` columns. \n",
    "- The remaining search of `info_2` and above will either result in redundant categorization or adding categories to entries that have at least 1 category already.\n",
    "- We will proceed to rebuild `known_for_dict` for the next iteration."
   ]
  },
  {
   "cell_type": "markdown",
   "id": "51731c1c",
   "metadata": {},
   "source": [
    "#### Finding `known_for` Roles in `info_2_1`"
   ]
  },
  {
   "cell_type": "code",
   "execution_count": 16,
   "id": "1e11deb3",
   "metadata": {},
   "outputs": [
    {
     "data": {
      "application/javascript": [
       "\n",
       "            setTimeout(function() {\n",
       "                var nbb_cell_id = 16;\n",
       "                var nbb_unformatted_code = \"# # Obtaining values for column and their counts\\n# roles_list = df[\\\"info_2_1\\\"].value_counts(ascending=True).index.tolist()\";\n",
       "                var nbb_formatted_code = \"# # Obtaining values for column and their counts\\n# roles_list = df[\\\"info_2_1\\\"].value_counts(ascending=True).index.tolist()\";\n",
       "                var nbb_cells = Jupyter.notebook.get_cells();\n",
       "                for (var i = 0; i < nbb_cells.length; ++i) {\n",
       "                    if (nbb_cells[i].input_prompt_number == nbb_cell_id) {\n",
       "                        if (nbb_cells[i].get_text() == nbb_unformatted_code) {\n",
       "                             nbb_cells[i].set_text(nbb_formatted_code);\n",
       "                        }\n",
       "                        break;\n",
       "                    }\n",
       "                }\n",
       "            }, 500);\n",
       "            "
      ],
      "text/plain": [
       "<IPython.core.display.Javascript object>"
      ]
     },
     "metadata": {},
     "output_type": "display_data"
    }
   ],
   "source": [
    "# # Obtaining values for column and their counts\n",
    "# roles_list = df[\"info_2_1\"].value_counts(ascending=True).index.tolist()"
   ]
  },
  {
   "cell_type": "code",
   "execution_count": 17,
   "id": "ccedffe0",
   "metadata": {},
   "outputs": [
    {
     "data": {
      "application/javascript": [
       "\n",
       "            setTimeout(function() {\n",
       "                var nbb_cell_id = 17;\n",
       "                var nbb_unformatted_code = \"# # Code to check each value\\n# roles_list.pop()\";\n",
       "                var nbb_formatted_code = \"# # Code to check each value\\n# roles_list.pop()\";\n",
       "                var nbb_cells = Jupyter.notebook.get_cells();\n",
       "                for (var i = 0; i < nbb_cells.length; ++i) {\n",
       "                    if (nbb_cells[i].input_prompt_number == nbb_cell_id) {\n",
       "                        if (nbb_cells[i].get_text() == nbb_unformatted_code) {\n",
       "                             nbb_cells[i].set_text(nbb_formatted_code);\n",
       "                        }\n",
       "                        break;\n",
       "                    }\n",
       "                }\n",
       "            }, 500);\n",
       "            "
      ],
      "text/plain": [
       "<IPython.core.display.Javascript object>"
      ]
     },
     "metadata": {},
     "output_type": "display_data"
    }
   ],
   "source": [
    "# # Code to check each value\n",
    "# roles_list.pop()"
   ]
  },
  {
   "cell_type": "code",
   "execution_count": 18,
   "id": "f1c16a76",
   "metadata": {},
   "outputs": [
    {
     "data": {
      "application/javascript": [
       "\n",
       "            setTimeout(function() {\n",
       "                var nbb_cell_id = 18;\n",
       "                var nbb_unformatted_code = \"# # Create specific_roles_list for above popped value\\n# specific_roles_list = (\\n#     df.loc[\\n#         [\\n#             index\\n#             for index in df[df[\\\"info_2_1\\\"].notna()].index\\n#             if \\\"actress\\\" in df.loc[index, \\\"info_2_1\\\"]\\n#         ],\\n#         \\\"info_2_1\\\",\\n#     ]\\n#     .value_counts()\\n#     .index.tolist()\\n# )\";\n",
       "                var nbb_formatted_code = \"# # Create specific_roles_list for above popped value\\n# specific_roles_list = (\\n#     df.loc[\\n#         [\\n#             index\\n#             for index in df[df[\\\"info_2_1\\\"].notna()].index\\n#             if \\\"actress\\\" in df.loc[index, \\\"info_2_1\\\"]\\n#         ],\\n#         \\\"info_2_1\\\",\\n#     ]\\n#     .value_counts()\\n#     .index.tolist()\\n# )\";\n",
       "                var nbb_cells = Jupyter.notebook.get_cells();\n",
       "                for (var i = 0; i < nbb_cells.length; ++i) {\n",
       "                    if (nbb_cells[i].input_prompt_number == nbb_cell_id) {\n",
       "                        if (nbb_cells[i].get_text() == nbb_unformatted_code) {\n",
       "                             nbb_cells[i].set_text(nbb_formatted_code);\n",
       "                        }\n",
       "                        break;\n",
       "                    }\n",
       "                }\n",
       "            }, 500);\n",
       "            "
      ],
      "text/plain": [
       "<IPython.core.display.Javascript object>"
      ]
     },
     "metadata": {},
     "output_type": "display_data"
    }
   ],
   "source": [
    "# # Create specific_roles_list for above popped value\n",
    "# specific_roles_list = (\n",
    "#     df.loc[\n",
    "#         [\n",
    "#             index\n",
    "#             for index in df[df[\"info_2_1\"].notna()].index\n",
    "#             if \"actress\" in df.loc[index, \"info_2_1\"]\n",
    "#         ],\n",
    "#         \"info_2_1\",\n",
    "#     ]\n",
    "#     .value_counts()\n",
    "#     .index.tolist()\n",
    "# )"
   ]
  },
  {
   "cell_type": "code",
   "execution_count": 19,
   "id": "063c01d9",
   "metadata": {},
   "outputs": [
    {
     "data": {
      "application/javascript": [
       "\n",
       "            setTimeout(function() {\n",
       "                var nbb_cell_id = 19;\n",
       "                var nbb_unformatted_code = \"# # Viewing list sorted by descending length to copy to dictionary below and screen values\\n# sorted(specific_roles_list, key=lambda x: len(x), reverse=True)\";\n",
       "                var nbb_formatted_code = \"# # Viewing list sorted by descending length to copy to dictionary below and screen values\\n# sorted(specific_roles_list, key=lambda x: len(x), reverse=True)\";\n",
       "                var nbb_cells = Jupyter.notebook.get_cells();\n",
       "                for (var i = 0; i < nbb_cells.length; ++i) {\n",
       "                    if (nbb_cells[i].input_prompt_number == nbb_cell_id) {\n",
       "                        if (nbb_cells[i].get_text() == nbb_unformatted_code) {\n",
       "                             nbb_cells[i].set_text(nbb_formatted_code);\n",
       "                        }\n",
       "                        break;\n",
       "                    }\n",
       "                }\n",
       "            }, 500);\n",
       "            "
      ],
      "text/plain": [
       "<IPython.core.display.Javascript object>"
      ]
     },
     "metadata": {},
     "output_type": "display_data"
    }
   ],
   "source": [
    "# # Viewing list sorted by descending length to copy to dictionary below and screen values\n",
    "# sorted(specific_roles_list, key=lambda x: len(x), reverse=True)"
   ]
  },
  {
   "cell_type": "code",
   "execution_count": 20,
   "id": "58b74eef",
   "metadata": {},
   "outputs": [
    {
     "data": {
      "application/javascript": [
       "\n",
       "            setTimeout(function() {\n",
       "                var nbb_cell_id = 20;\n",
       "                var nbb_unformatted_code = \"# [index for index in df.index if \\\"policy specialist\\\" in df.loc[index, \\\"info\\\"]]\";\n",
       "                var nbb_formatted_code = \"# [index for index in df.index if \\\"policy specialist\\\" in df.loc[index, \\\"info\\\"]]\";\n",
       "                var nbb_cells = Jupyter.notebook.get_cells();\n",
       "                for (var i = 0; i < nbb_cells.length; ++i) {\n",
       "                    if (nbb_cells[i].input_prompt_number == nbb_cell_id) {\n",
       "                        if (nbb_cells[i].get_text() == nbb_unformatted_code) {\n",
       "                             nbb_cells[i].set_text(nbb_formatted_code);\n",
       "                        }\n",
       "                        break;\n",
       "                    }\n",
       "                }\n",
       "            }, 500);\n",
       "            "
      ],
      "text/plain": [
       "<IPython.core.display.Javascript object>"
      ]
     },
     "metadata": {},
     "output_type": "display_data"
    }
   ],
   "source": [
    "# [index for index in df.index if \"policy specialist\" in df.loc[index, \"info\"]]"
   ]
  },
  {
   "cell_type": "code",
   "execution_count": 21,
   "id": "fd9fcb88",
   "metadata": {},
   "outputs": [
    {
     "data": {
      "application/javascript": [
       "\n",
       "            setTimeout(function() {\n",
       "                var nbb_cell_id = 21;\n",
       "                var nbb_unformatted_code = \"# # Example code to quick-check a specific entry\\n# df[df[\\\"info_2_1\\\"] == \\\"husband of actress\\\"]\";\n",
       "                var nbb_formatted_code = \"# # Example code to quick-check a specific entry\\n# df[df[\\\"info_2_1\\\"] == \\\"husband of actress\\\"]\";\n",
       "                var nbb_cells = Jupyter.notebook.get_cells();\n",
       "                for (var i = 0; i < nbb_cells.length; ++i) {\n",
       "                    if (nbb_cells[i].input_prompt_number == nbb_cell_id) {\n",
       "                        if (nbb_cells[i].get_text() == nbb_unformatted_code) {\n",
       "                             nbb_cells[i].set_text(nbb_formatted_code);\n",
       "                        }\n",
       "                        break;\n",
       "                    }\n",
       "                }\n",
       "            }, 500);\n",
       "            "
      ],
      "text/plain": [
       "<IPython.core.display.Javascript object>"
      ]
     },
     "metadata": {},
     "output_type": "display_data"
    }
   ],
   "source": [
    "# # Example code to quick-check a specific entry\n",
    "# df[df[\"info_2_1\"] == \"husband of actress\"]"
   ]
  },
  {
   "cell_type": "markdown",
   "id": "4032c6a2",
   "metadata": {},
   "source": [
    "#### Creating Lists for Each `known_for` Category"
   ]
  },
  {
   "cell_type": "code",
   "execution_count": 22,
   "id": "4bd1f7b0",
   "metadata": {},
   "outputs": [
    {
     "data": {
      "application/javascript": [
       "\n",
       "            setTimeout(function() {\n",
       "                var nbb_cell_id = 22;\n",
       "                var nbb_unformatted_code = \"# Creating lists for each category and sorting by decreasing length and removing duplicates\\n\\npolitics_govt_law = [\\n    \\\"political campaign manager\\\",\\n    \\\"film subject\\\",\\n    \\\"political fundraiser\\\",\\n    \\\"band chief\\\",\\n    \\\"mother of singer Carly Simon\\\",\\n    \\\"open housing activist\\\",\\n    \\\"n minister of Housing\\\",\\n    \\\"housing activist\\\",\\n    \\\"diplomat for the Holy See\\\",\\n    \\\"diplomatic advisor\\\",\\n    \\\"diplomatic analyst\\\",\\n    \\\"diplomat in the\\\",\\n    \\\"diplomat\\\",\\n]\\npolitics_govt_law = sorted(\\n    list(set(politics_govt_law)), key=lambda x: len(x), reverse=True\\n)\\n\\narts = [\\n    'author of the book \\\"The Last Victim\\\"',\\n    \\\"author on\\\",\\n    \\\"children author; creator of Shrek\\\",\\n    \\\"author of books on healthy living\\\",\\n    \\\"author of philosophical fiction\\\",\\n    \\\"author of The Crime Victim Book\\\",\\n    \\\"only child author Jack Kerouac\\\",\\n    \\\"Pulitzer Prize winning author\\\",\\n    \\\"author on traditional customs\\\",\\n    \\\"author of books on\\\",\\n    \\\"author on capital punishment\\\",\\n    \\\"author of scores for films\\\",\\n    \\\"author of children books\\\",\\n    \\\"author of short stories\\\",\\n    \\\"author on the Southwest\\\",\\n    \\\"science fiction author\\\",\\n    \\\"author on horticulture\\\",\\n    \\\"children book author\\\",\\n    \\\"cooking books author\\\",\\n    \\\"dark fantasy author\\\",\\n    \\\"best selling author\\\",\\n    \\\"non fiction author\\\",\\n    \\\"short story author\\\",\\n    \\\"author on\\\",\\n    \\\"comic book author\\\",\\n    \\\"television author\\\",\\n    \\\"cinematic author\\\",\\n    \\\"cookbook author\\\",\\n    \\\"children author\\\",\\n    \\\"wildlife author\\\",\\n    \\\"thriller author\\\",\\n    \\\"fantasy author\\\",\\n    \\\"crime author\\\",\\n    \\\"author of\\\",\\n    \\\"writer on\\\",\\n    \\\"writer on the\\\",\\n    \\\"writer\\\",\\n    \\\"artistic director of the Brecon Jazz Festival\\\",\\n    \\\"general manager of Montreux Jazz Festival\\\",\\n    \\\"Manager of Jazz musician Erroll Garner\\\",\\n    \\\"television production manager\\\",\\n    \\\"public relations manager\\\",\\n    \\\"road manager for Outkast\\\",\\n    \\\"director of pornographic films\\\",\\n    \\\"film production illustrator\\\",\\n    \\\"director in Bollywood films\\\",\\n    \\\"author of scores for films\\\",\\n    \\\"film producer of musicals\\\",\\n    \\\"film fight choreographer\\\",\\n    \\\"film television director\\\",\\n    \\\"filmmaker\\\",\\n    \\\"film festival director\\\",\\n    \\\"documentary filmmaker\\\",\\n    \\\"aerial film operator\\\",\\n    \\\"film character actor\\\",\\n    \\\"underwater filmmaker\\\",\\n    \\\"film studio manager\\\",\\n    \\\"silent film actress\\\",\\n    \\\"film poster artist\\\",\\n    \\\"film choreographer\\\",\\n    \\\"composer for film\\\",\\n    \\\"composer of film\\\",\\n    \\\"film pioneer\\\",\\n    \\\"producer in film\\\",\\n    \\\"film executive\\\",\\n    \\\"film director\\\",\\n    \\\"film producer\\\",\\n    \\\"film composer\\\",\\n    \\\"film actress\\\",\\n    \\\"film critic\\\",\\n    \\\"film scorer\\\",\\n    \\\"film scores\\\",\\n    \\\"film actor\\\",\\n    \\\"film maker\\\",\\n    \\\"filmmaker\\\",\\n    \\\"recording engineer\\\",\\n    \\\"sound engineer\\\",\\n    \\\"audio engineer\\\",\\n    \\\"promoter of funding for the arts\\\",\\n    \\\"musical theater actor\\\",\\n    \\\"theater director\\\",\\n    \\\"theater producer\\\",\\n    \\\"theater manager\\\",\\n    \\\"theater critic\\\",\\n    \\\"theater actor\\\",\\n    \\\"theater owner\\\",\\n    \\\"musical theatre actress Tony Award\\\",\\n    \\\"Broadway theatre\\\",\\n    \\\"avant garde theatre producer\\\",\\n    \\\"Broadway theatre performer\\\",\\n    \\\"musical theatre performer\\\",\\n    \\\"folk theatre artist\\\",\\n    \\\"theatre director\\\",\\n    \\\"theatre producer\\\",\\n    \\\"theatre designer\\\",\\n    \\\"theatre actress\\\",\\n    \\\"theatre manager\\\",\\n    \\\"theatre critic\\\",\\n    \\\"theatre actor\\\",\\n    \\\"theatre\\\",\\n    \\\"reality talent show finalist\\\",\\n    \\\"talent manager\\\",\\n    \\\"talent agent\\\",\\n    \\\"comic spokesman for music trio The Limeliters\\\",\\n    \\\"Manager of Jazz musician Erroll Garner\\\",\\n    \\\"pioneer of the musical genres of and\\\",\\n    \\\"guru of the independent music scene\\\",\\n    \\\"musical theatre actress Tony Award\\\",\\n    \\\"composer of electronic music\\\",\\n    \\\"musical instrument collector\\\",\\n    \\\"director of music\\\",\\n    \\\"composer of classical music\\\",\\n    \\\"inspirational music\\\",\\n    \\\"traditional music performer\\\",\\n    \\\"music publishing executive\\\",\\n    \\\"country & western musician\\\",\\n    \\\"television music composer\\\",\\n    \\\"electronic music composer\\\",\\n    \\\"traditional folk musician\\\",\\n    \\\"musical theatre performer\\\",\\n    \\\"film producer of musicals\\\",\\n    \\\"music industry executive\\\",\\n    \\\"country music journalist\\\",\\n    \\\"Baroque music specialist\\\",\\n    \\\"music business executive\\\",\\n    \\\"music festival organiser\\\",\\n    \\\"classical music satirist\\\",\\n    \\\"musical stage performer\\\",\\n    \\\"computer music composer\\\",\\n    \\\"easy listening musician\\\",\\n    \\\"country music guitarist\\\",\\n    \\\"television theme music\\\",\\n    \\\"rock music journalist\\\",\\n    \\\"roll session musician\\\",\\n    \\\"musical theater actor\\\",\\n    \\\"historian of musicals\\\",\\n    \\\"music promoter\\\",\\n    \\\"country music singer\\\",\\n    \\\"house music producer\\\",\\n    \\\"music video director\\\",\\n    \\\"spoken word musician\\\",\\n    \\\"rockabilly musician\\\",\\n    \\\"music administrator\\\",\\n    \\\"music group founder\\\",\\n    \\\"electronic musician\\\",\\n    \\\"brass band musician\\\",\\n    \\\"bass music producer\\\",\\n    \\\"music singer\\\",\\n    \\\"music news reporter\\\",\\n    \\\"bluegrass musician\\\",\\n    \\\"surf rock musician\\\",\\n    \\\"surf music pioneer\\\",\\n    \\\"musician of Foghat\\\",\\n    \\\"pop music arranger\\\",\\n    \\\"new wave musician\\\",\\n    \\\"musical performer\\\",\\n    \\\"clarinet musician\\\",\\n    \\\"music journalist\\\",\\n    \\\"musical director\\\",\\n    \\\"session musician\\\",\\n    \\\"musical producer\\\",\\n    \\\"new age musician\\\",\\n    \\\"country musician\\\",\\n    \\\"pop music singer\\\",\\n    \\\"musical composer\\\",\\n    \\\"calypso musician\\\",\\n    \\\"musical arranger\\\",\\n    \\\"music supervisor\\\",\\n    \\\"music executive\\\",\\n    \\\"music publisher\\\",\\n    \\\"studio musician\\\",\\n    \\\"music collector\\\",\\n    \\\"music producer\\\",\\n    \\\"music director\\\",\\n    \\\"music arranger\\\",\\n    \\\"blues musician\\\",\\n    \\\"music promoter\\\",\\n    \\\"music composer\\\",\\n    \\\"salsa musician\\\",\\n    \\\"musical singer\\\",\\n    \\\"mento musician\\\",\\n    \\\"disco musician\\\",\\n    \\\"jazz musician\\\",\\n    \\\"folk musician\\\",\\n    \\\"roll musician\\\",\\n    \\\"rock musician\\\",\\n    \\\"music manager\\\",\\n    \\\"funk musician\\\",\\n    \\\"musician from\\\",\\n    \\\"music critic\\\",\\n    \\\"pop musician\\\",\\n    \\\"R&B musician\\\",\\n    \\\"music patron\\\",\\n    \\\"music editor\\\",\\n    \\\"music agent\\\",\\n    \\\"swing music\\\",\\n    \\\"musician\\\",\\n    \\\"a founder of rock band Molly Hatchet\\\",\\n    \\\"producer; husband of Angela Lansbury\\\",\\n    \\\"composer from the band Savage Rose\\\",\\n    \\\"co founder of the band Space\\\",\\n    \\\"front man of band Baltimora\\\",\\n    \\\"founder of the band Bathory\\\",\\n    \\\"big band tenor saxophonist\\\",\\n    \\\"husband of Celia Cruz\\\",\\n    \\\"bluegrass band leader\\\",\\n    \\\"brass band musician\\\",\\n    \\\"husband of actress\\\",\\n    \\\"big band leader\\\",\\n    \\\"big band singer\\\",\\n    \\\"Dansband artist\\\",\\n    \\\"jazz bandleader\\\",\\n    \\\"bandleader on\\\",\\n    \\\"band manager\\\",\\n    \\\"bandy player\\\",\\n    \\\"one man band\\\",\\n    \\\"band leader\\\",\\n    \\\"bandleader\\\",\\n    \\\"academic fraudster\\\",\\n    \\\"daughter of actor Jean Louis Trintignant\\\",\\n    \\\"actor better known as Hurac\\u00e1n Ram\\u00edrez\\\",\\n    \\\"daughter of actor Marlon Brando\\\",\\n    \\\"the father of actor Kevin\\\",\\n    \\\"Emmy Award winning actor\\\",\\n    \\\"musical theater actor\\\",\\n    \\\"film character actor\\\",\\n    \\\"former child actor\\\",\\n    \\\"daughter of actor\\\",\\n    \\\"television actor\\\",\\n    \\\"character actor\\\",\\n    \\\"art benefactor\\\",\\n    \\\"theater actor\\\",\\n    \\\"comedic actor\\\",\\n    \\\"theatre actor\\\",\\n    \\\"wife of actor\\\",\\n    \\\"screen actor\\\",\\n    \\\"comedy actor\\\",\\n    \\\"stage actor\\\",\\n    \\\"comic actor\\\",\\n    \\\"child actor\\\",\\n    \\\"film actor\\\",\\n    \\\"Fox actor\\\",\\n    \\\"TV actor\\\",\\n    \\\"television journalism pioneer\\\",\\n    \\\"country music journalist\\\",\\n    \\\"investigative journalist\\\",\\n    \\\"road safety journalist\\\",\\n    \\\"journalist for the BBC\\\",\\n    \\\"television journalist\\\",\\n    \\\"rock music journalist\\\",\\n    \\\"literary journalist\\\",\\n    \\\"journalism\\\",\\n    \\\"journalist murdered\\\",\\n    \\\"fashion journalist\\\",\\n    \\\"journalist editor\\\",\\n    \\\"music journalist\\\",\\n    \\\"photo journalist\\\",\\n    \\\"photojournalist\\\",\\n    \\\"food journalist\\\",\\n    \\\"journal editor\\\",\\n    \\\"journalist on\\\",\\n    \\\"TV journalist\\\",\\n    \\\"journalist\\\",\\n    'classical singer known as the \\\"nightingale of Punjab\\\"',\\n    \\\"swing singer with Benny Goodman\\\",\\n    \\\"country music singer\\\",\\n    \\\"advertising creative\\\",\\n    \\\"music singer\\\",\\n    \\\"advertising artist\\\",\\n    \\\"l\\u0103ut\\u0103reasc\\u0103 singer\\\",\\n    \\\"soca parang singer\\\",\\n    \\\"rockabilly singer\\\",\\n    \\\"kleinkunst singer\\\",\\n    \\\"classical singer\\\",\\n    \\\"pop music singer\\\",\\n    \\\"bel canto singer\\\",\\n    \\\"playback singer\\\",\\n    \\\"big band singer\\\",\\n    \\\"operatic singer\\\",\\n    \\\"pop rock singer\\\",\\n    \\\"Schlager singer\\\",\\n    \\\"the lead singer\\\",\\n    \\\"country singer\\\",\\n    \\\"doo wop singer\\\",\\n    \\\"chamber singer\\\",\\n    \\\"session singer\\\",\\n    \\\"mor lam singer\\\",\\n    \\\"Western singer\\\",\\n    \\\"cabaret singer\\\",\\n    \\\"norte\\u00f1o singer\\\",\\n    \\\"musical singer\\\",\\n    \\\"reggae singer\\\",\\n    \\\"ballad singer\\\",\\n    \\\"Tejano singer\\\",\\n    \\\"Celtic singer\\\",\\n    \\\"sevdah singer\\\",\\n    \\\"blues singer\\\",\\n    \\\"opera singer\\\",\\n    \\\"mambo singer\\\",\\n    \\\"disco singer\\\",\\n    \\\"soul singer\\\",\\n    \\\"jazz singer\\\",\\n    \\\"roll singer\\\",\\n    \\\"folk singer\\\",\\n    \\\"rock singer\\\",\\n    \\\"R&B singer\\\",\\n    \\\"pop singer\\\",\\n    \\\"folksinger\\\",\\n    \\\"singer\\\",\\n    \\\"arts philanthropist\\\",\\n    \\\"musical theatre actress Tony Award\\\",\\n    \\\"Tony Award winning stage actress\\\",\\n    \\\"Tony Award winning actress\\\",\\n    \\\"pornographic actress\\\",\\n    \\\"silent film actress\\\",\\n    \\\"television actress\\\",\\n    \\\"husband of actress\\\",\\n    \\\"aspiring actress\\\",\\n    \\\"theatre actress\\\",\\n    \\\"stage actress\\\",\\n    \\\"movie actress\\\",\\n    \\\"radio actress\\\",\\n    \\\"film actress\\\",\\n    \\\"TV actress\\\",\\n    \\\"actress\\\",\\n]\\narts = sorted(list(set(arts)), key=lambda x: len(x), reverse=True)\\n\\nsports = [\\n    \\\"coach\\\",\\n    \\\"general manager of the National Basketball Association Sacramento Kings\\\",\\n    \\\"secretary general of the Basketball Association of the\\\",\\n    \\\"former member of the National Basketball Team\\\",\\n    \\\"racing manager to Queen Elizabeth II\\\",\\n    \\\"pioneer in thoroughbred horse racing\\\",\\n    \\\"horse racing\\\",\\n    \\\"amateur racing driver\\\",\\n    \\\"racing driver\\\",\\n    \\\"first manager of Toronto Blue Jays\\\",\\n    \\\"member of the College Football Hall of Fame\\\",\\n    \\\"a member of the Pro Football Hall of Fame\\\",\\n    \\\"member of the Pro Football Hall of Fame\\\",\\n    \\\"member of Pro Football Hall of Fame\\\",\\n    \\\"director in the Football League\\\",\\n    \\\"manager in the Football League\\\",\\n    \\\"Football World Cup champion\\\",\\n    \\\"manager in the Negro leagues\\\",\\n    \\\"minor league manager\\\",\\n    \\\"rugby league player\\\",\\n    \\\"league player\\\",\\n    \\\"test engineer\\\",\\n    \\\"manager of Burnley\\\",\\n    \\\"manager gold medal\\\",\\n    \\\"equipment manager\\\",\\n    \\\"general manager\\\",\\n    \\\"hurling manager\\\",\\n    \\\"then manager\\\",\\n]\\nsports = sorted(list(set(sports)), key=lambda x: len(x), reverse=True)\\n\\nsciences = [\\n    \\\"communications engineer\\\",\\n    \\\"environmental engineer\\\",\\n    \\\"aeronautical engineer\\\",\\n    \\\"agricultural engineer\\\",\\n    \\\"engineering\\\",\\n    \\\"race chassis engineer\\\",\\n    \\\"electronics engineer\\\",\\n    \\\"astronautic engineer\\\",\\n    \\\"electrical engineer\\\",\\n    \\\"engineering manager\\\",\\n    \\\"earthquake engineer\\\",\\n    \\\"structural engineer\\\",\\n    \\\"automotive engineer\\\",\\n    \\\"aerospace engineer\\\",\\n    \\\"aeroplane engineer\\\",\\n    \\\"chemical engineer\\\",\\n    \\\"military engineer\\\",\\n    \\\"computer engineer\\\",\\n    \\\"aircraft engineer\\\",\\n    \\\"engineer for NASA\\\",\\n    \\\"nuclear engineer\\\",\\n    \\\"railway engineer\\\",\\n    \\\"systems engineer\\\",\\n    \\\"harbor engineer\\\",\\n    \\\"rocket engineer\\\",\\n    \\\"civil engineer\\\",\\n    \\\"radar engineer\\\",\\n    \\\"radio engineer\\\",\\n    \\\"led MIT CAD project\\\",\\n    \\\"co designer of NASA Apollo Lunar Module\\\",\\n    \\\"engineer for NASA\\\",\\n    \\\"a NASA\\\",\\n    \\\"NASA executive\\\",\\n    \\\"NASA\\\",\\n    \\\"NASA official\\\",\\n    \\\"NASA manager\\\",\\n    \\\"chiropractor\\\",\\n    \\\"pioneer in combatting polio throughusing penicillin\\\",\\n    \\\"nursing\\\",\\n]\\nsciences = sorted(list(set(sciences)), key=lambda x: len(x), reverse=True)\\n\\nbusiness_farming = [\\n    \\\"motor company manager\\\",\\n    \\\"hedge fund pioneer\\\",\\n    \\\"hedge fund manager\\\",\\n    \\\"project manager\\\",\\n    \\\"factory co owner involved in Fisher Price toy recall\\\",\\n    \\\"residential contractor\\\",\\n    \\\"contractor\\\",\\n    \\\"advertising executive\\\",\\n]\\nbusiness_farming = sorted(\\n    list(set(business_farming)), key=lambda x: len(x), reverse=True\\n)\\n\\nacademia_humanities = [\\n    \\\"textbook author\\\",\\n    \\\"collection manager\\\",\\n    \\\"ethnomusicologist\\\",\\n    \\\"enthomusicologist\\\",\\n    \\\"musicologist\\\",\\n    \\\"academies\\\",\\n    \\\"academic Parkinson disease\\\",\\n    \\\"ancient history academic\\\",\\n    \\\"academic administrator\\\",\\n    \\\"academy founder\\\",\\n    \\\"an academic teacher\\\",\\n    \\\"academic teacher\\\",\\n    \\\"culture academic\\\",\\n    \\\"academician\\\",\\n    \\\"an academic\\\",\\n    \\\"academic\\\",\\n]\\nacademia_humanities = sorted(\\n    list(set(academia_humanities)), key=lambda x: len(x), reverse=True\\n)\\n\\nlaw_enf_military_operator = [\\n    \\\"Warsaw Uprising insurgent\\\",\\n]\\nlaw_enf_military_operator = sorted(\\n    list(set(law_enf_military_operator)), key=lambda x: len(x), reverse=True\\n)\\n\\nspiritual = [\\n    \\\"second wife of author L Ron Hubbard\\\",\\n]\\nspiritual = sorted(list(set(spiritual)), key=lambda x: len(x), reverse=True)\\n\\nsocial = [\\n    \\\"charity fundraiser\\\",\\n    \\\"fundraiser\\\",\\n    \\\"philanthropist known for his contribution to Central Park\\\",\\n    \\\"philanthropist;\\\",\\n    \\\"philanthropist in West New Province\\\",\\n    \\\"prominent philanthropist\\\",\\n]\\nsocial = sorted(list(set(social)), key=lambda x: len(x), reverse=True)\\n\\ncrime = []\\ncrime = sorted(list(set(crime)), key=lambda x: len(x), reverse=True)\\n\\nevent_record_other = [\\n    \\\"private security contractor\\\",\\n    \\\"factory worker\\\",\\n]\\nevent_record_other = sorted(\\n    list(set(event_record_other)), key=lambda x: len(x), reverse=True\\n)\\n\\nother_species = [\\n    \\\"racing trotter\\\",\\n    \\\"animal actor\\\",\\n]\\nother_species = sorted(list(set(other_species)), key=lambda x: len(x), reverse=True)\";\n",
       "                var nbb_formatted_code = \"# Creating lists for each category and sorting by decreasing length and removing duplicates\\n\\npolitics_govt_law = [\\n    \\\"political campaign manager\\\",\\n    \\\"film subject\\\",\\n    \\\"political fundraiser\\\",\\n    \\\"band chief\\\",\\n    \\\"mother of singer Carly Simon\\\",\\n    \\\"open housing activist\\\",\\n    \\\"n minister of Housing\\\",\\n    \\\"housing activist\\\",\\n    \\\"diplomat for the Holy See\\\",\\n    \\\"diplomatic advisor\\\",\\n    \\\"diplomatic analyst\\\",\\n    \\\"diplomat in the\\\",\\n    \\\"diplomat\\\",\\n]\\npolitics_govt_law = sorted(\\n    list(set(politics_govt_law)), key=lambda x: len(x), reverse=True\\n)\\n\\narts = [\\n    'author of the book \\\"The Last Victim\\\"',\\n    \\\"author on\\\",\\n    \\\"children author; creator of Shrek\\\",\\n    \\\"author of books on healthy living\\\",\\n    \\\"author of philosophical fiction\\\",\\n    \\\"author of The Crime Victim Book\\\",\\n    \\\"only child author Jack Kerouac\\\",\\n    \\\"Pulitzer Prize winning author\\\",\\n    \\\"author on traditional customs\\\",\\n    \\\"author of books on\\\",\\n    \\\"author on capital punishment\\\",\\n    \\\"author of scores for films\\\",\\n    \\\"author of children books\\\",\\n    \\\"author of short stories\\\",\\n    \\\"author on the Southwest\\\",\\n    \\\"science fiction author\\\",\\n    \\\"author on horticulture\\\",\\n    \\\"children book author\\\",\\n    \\\"cooking books author\\\",\\n    \\\"dark fantasy author\\\",\\n    \\\"best selling author\\\",\\n    \\\"non fiction author\\\",\\n    \\\"short story author\\\",\\n    \\\"author on\\\",\\n    \\\"comic book author\\\",\\n    \\\"television author\\\",\\n    \\\"cinematic author\\\",\\n    \\\"cookbook author\\\",\\n    \\\"children author\\\",\\n    \\\"wildlife author\\\",\\n    \\\"thriller author\\\",\\n    \\\"fantasy author\\\",\\n    \\\"crime author\\\",\\n    \\\"author of\\\",\\n    \\\"writer on\\\",\\n    \\\"writer on the\\\",\\n    \\\"writer\\\",\\n    \\\"artistic director of the Brecon Jazz Festival\\\",\\n    \\\"general manager of Montreux Jazz Festival\\\",\\n    \\\"Manager of Jazz musician Erroll Garner\\\",\\n    \\\"television production manager\\\",\\n    \\\"public relations manager\\\",\\n    \\\"road manager for Outkast\\\",\\n    \\\"director of pornographic films\\\",\\n    \\\"film production illustrator\\\",\\n    \\\"director in Bollywood films\\\",\\n    \\\"author of scores for films\\\",\\n    \\\"film producer of musicals\\\",\\n    \\\"film fight choreographer\\\",\\n    \\\"film television director\\\",\\n    \\\"filmmaker\\\",\\n    \\\"film festival director\\\",\\n    \\\"documentary filmmaker\\\",\\n    \\\"aerial film operator\\\",\\n    \\\"film character actor\\\",\\n    \\\"underwater filmmaker\\\",\\n    \\\"film studio manager\\\",\\n    \\\"silent film actress\\\",\\n    \\\"film poster artist\\\",\\n    \\\"film choreographer\\\",\\n    \\\"composer for film\\\",\\n    \\\"composer of film\\\",\\n    \\\"film pioneer\\\",\\n    \\\"producer in film\\\",\\n    \\\"film executive\\\",\\n    \\\"film director\\\",\\n    \\\"film producer\\\",\\n    \\\"film composer\\\",\\n    \\\"film actress\\\",\\n    \\\"film critic\\\",\\n    \\\"film scorer\\\",\\n    \\\"film scores\\\",\\n    \\\"film actor\\\",\\n    \\\"film maker\\\",\\n    \\\"filmmaker\\\",\\n    \\\"recording engineer\\\",\\n    \\\"sound engineer\\\",\\n    \\\"audio engineer\\\",\\n    \\\"promoter of funding for the arts\\\",\\n    \\\"musical theater actor\\\",\\n    \\\"theater director\\\",\\n    \\\"theater producer\\\",\\n    \\\"theater manager\\\",\\n    \\\"theater critic\\\",\\n    \\\"theater actor\\\",\\n    \\\"theater owner\\\",\\n    \\\"musical theatre actress Tony Award\\\",\\n    \\\"Broadway theatre\\\",\\n    \\\"avant garde theatre producer\\\",\\n    \\\"Broadway theatre performer\\\",\\n    \\\"musical theatre performer\\\",\\n    \\\"folk theatre artist\\\",\\n    \\\"theatre director\\\",\\n    \\\"theatre producer\\\",\\n    \\\"theatre designer\\\",\\n    \\\"theatre actress\\\",\\n    \\\"theatre manager\\\",\\n    \\\"theatre critic\\\",\\n    \\\"theatre actor\\\",\\n    \\\"theatre\\\",\\n    \\\"reality talent show finalist\\\",\\n    \\\"talent manager\\\",\\n    \\\"talent agent\\\",\\n    \\\"comic spokesman for music trio The Limeliters\\\",\\n    \\\"Manager of Jazz musician Erroll Garner\\\",\\n    \\\"pioneer of the musical genres of and\\\",\\n    \\\"guru of the independent music scene\\\",\\n    \\\"musical theatre actress Tony Award\\\",\\n    \\\"composer of electronic music\\\",\\n    \\\"musical instrument collector\\\",\\n    \\\"director of music\\\",\\n    \\\"composer of classical music\\\",\\n    \\\"inspirational music\\\",\\n    \\\"traditional music performer\\\",\\n    \\\"music publishing executive\\\",\\n    \\\"country & western musician\\\",\\n    \\\"television music composer\\\",\\n    \\\"electronic music composer\\\",\\n    \\\"traditional folk musician\\\",\\n    \\\"musical theatre performer\\\",\\n    \\\"film producer of musicals\\\",\\n    \\\"music industry executive\\\",\\n    \\\"country music journalist\\\",\\n    \\\"Baroque music specialist\\\",\\n    \\\"music business executive\\\",\\n    \\\"music festival organiser\\\",\\n    \\\"classical music satirist\\\",\\n    \\\"musical stage performer\\\",\\n    \\\"computer music composer\\\",\\n    \\\"easy listening musician\\\",\\n    \\\"country music guitarist\\\",\\n    \\\"television theme music\\\",\\n    \\\"rock music journalist\\\",\\n    \\\"roll session musician\\\",\\n    \\\"musical theater actor\\\",\\n    \\\"historian of musicals\\\",\\n    \\\"music promoter\\\",\\n    \\\"country music singer\\\",\\n    \\\"house music producer\\\",\\n    \\\"music video director\\\",\\n    \\\"spoken word musician\\\",\\n    \\\"rockabilly musician\\\",\\n    \\\"music administrator\\\",\\n    \\\"music group founder\\\",\\n    \\\"electronic musician\\\",\\n    \\\"brass band musician\\\",\\n    \\\"bass music producer\\\",\\n    \\\"music singer\\\",\\n    \\\"music news reporter\\\",\\n    \\\"bluegrass musician\\\",\\n    \\\"surf rock musician\\\",\\n    \\\"surf music pioneer\\\",\\n    \\\"musician of Foghat\\\",\\n    \\\"pop music arranger\\\",\\n    \\\"new wave musician\\\",\\n    \\\"musical performer\\\",\\n    \\\"clarinet musician\\\",\\n    \\\"music journalist\\\",\\n    \\\"musical director\\\",\\n    \\\"session musician\\\",\\n    \\\"musical producer\\\",\\n    \\\"new age musician\\\",\\n    \\\"country musician\\\",\\n    \\\"pop music singer\\\",\\n    \\\"musical composer\\\",\\n    \\\"calypso musician\\\",\\n    \\\"musical arranger\\\",\\n    \\\"music supervisor\\\",\\n    \\\"music executive\\\",\\n    \\\"music publisher\\\",\\n    \\\"studio musician\\\",\\n    \\\"music collector\\\",\\n    \\\"music producer\\\",\\n    \\\"music director\\\",\\n    \\\"music arranger\\\",\\n    \\\"blues musician\\\",\\n    \\\"music promoter\\\",\\n    \\\"music composer\\\",\\n    \\\"salsa musician\\\",\\n    \\\"musical singer\\\",\\n    \\\"mento musician\\\",\\n    \\\"disco musician\\\",\\n    \\\"jazz musician\\\",\\n    \\\"folk musician\\\",\\n    \\\"roll musician\\\",\\n    \\\"rock musician\\\",\\n    \\\"music manager\\\",\\n    \\\"funk musician\\\",\\n    \\\"musician from\\\",\\n    \\\"music critic\\\",\\n    \\\"pop musician\\\",\\n    \\\"R&B musician\\\",\\n    \\\"music patron\\\",\\n    \\\"music editor\\\",\\n    \\\"music agent\\\",\\n    \\\"swing music\\\",\\n    \\\"musician\\\",\\n    \\\"a founder of rock band Molly Hatchet\\\",\\n    \\\"producer; husband of Angela Lansbury\\\",\\n    \\\"composer from the band Savage Rose\\\",\\n    \\\"co founder of the band Space\\\",\\n    \\\"front man of band Baltimora\\\",\\n    \\\"founder of the band Bathory\\\",\\n    \\\"big band tenor saxophonist\\\",\\n    \\\"husband of Celia Cruz\\\",\\n    \\\"bluegrass band leader\\\",\\n    \\\"brass band musician\\\",\\n    \\\"husband of actress\\\",\\n    \\\"big band leader\\\",\\n    \\\"big band singer\\\",\\n    \\\"Dansband artist\\\",\\n    \\\"jazz bandleader\\\",\\n    \\\"bandleader on\\\",\\n    \\\"band manager\\\",\\n    \\\"bandy player\\\",\\n    \\\"one man band\\\",\\n    \\\"band leader\\\",\\n    \\\"bandleader\\\",\\n    \\\"academic fraudster\\\",\\n    \\\"daughter of actor Jean Louis Trintignant\\\",\\n    \\\"actor better known as Hurac\\u00e1n Ram\\u00edrez\\\",\\n    \\\"daughter of actor Marlon Brando\\\",\\n    \\\"the father of actor Kevin\\\",\\n    \\\"Emmy Award winning actor\\\",\\n    \\\"musical theater actor\\\",\\n    \\\"film character actor\\\",\\n    \\\"former child actor\\\",\\n    \\\"daughter of actor\\\",\\n    \\\"television actor\\\",\\n    \\\"character actor\\\",\\n    \\\"art benefactor\\\",\\n    \\\"theater actor\\\",\\n    \\\"comedic actor\\\",\\n    \\\"theatre actor\\\",\\n    \\\"wife of actor\\\",\\n    \\\"screen actor\\\",\\n    \\\"comedy actor\\\",\\n    \\\"stage actor\\\",\\n    \\\"comic actor\\\",\\n    \\\"child actor\\\",\\n    \\\"film actor\\\",\\n    \\\"Fox actor\\\",\\n    \\\"TV actor\\\",\\n    \\\"television journalism pioneer\\\",\\n    \\\"country music journalist\\\",\\n    \\\"investigative journalist\\\",\\n    \\\"road safety journalist\\\",\\n    \\\"journalist for the BBC\\\",\\n    \\\"television journalist\\\",\\n    \\\"rock music journalist\\\",\\n    \\\"literary journalist\\\",\\n    \\\"journalism\\\",\\n    \\\"journalist murdered\\\",\\n    \\\"fashion journalist\\\",\\n    \\\"journalist editor\\\",\\n    \\\"music journalist\\\",\\n    \\\"photo journalist\\\",\\n    \\\"photojournalist\\\",\\n    \\\"food journalist\\\",\\n    \\\"journal editor\\\",\\n    \\\"journalist on\\\",\\n    \\\"TV journalist\\\",\\n    \\\"journalist\\\",\\n    'classical singer known as the \\\"nightingale of Punjab\\\"',\\n    \\\"swing singer with Benny Goodman\\\",\\n    \\\"country music singer\\\",\\n    \\\"advertising creative\\\",\\n    \\\"music singer\\\",\\n    \\\"advertising artist\\\",\\n    \\\"l\\u0103ut\\u0103reasc\\u0103 singer\\\",\\n    \\\"soca parang singer\\\",\\n    \\\"rockabilly singer\\\",\\n    \\\"kleinkunst singer\\\",\\n    \\\"classical singer\\\",\\n    \\\"pop music singer\\\",\\n    \\\"bel canto singer\\\",\\n    \\\"playback singer\\\",\\n    \\\"big band singer\\\",\\n    \\\"operatic singer\\\",\\n    \\\"pop rock singer\\\",\\n    \\\"Schlager singer\\\",\\n    \\\"the lead singer\\\",\\n    \\\"country singer\\\",\\n    \\\"doo wop singer\\\",\\n    \\\"chamber singer\\\",\\n    \\\"session singer\\\",\\n    \\\"mor lam singer\\\",\\n    \\\"Western singer\\\",\\n    \\\"cabaret singer\\\",\\n    \\\"norte\\u00f1o singer\\\",\\n    \\\"musical singer\\\",\\n    \\\"reggae singer\\\",\\n    \\\"ballad singer\\\",\\n    \\\"Tejano singer\\\",\\n    \\\"Celtic singer\\\",\\n    \\\"sevdah singer\\\",\\n    \\\"blues singer\\\",\\n    \\\"opera singer\\\",\\n    \\\"mambo singer\\\",\\n    \\\"disco singer\\\",\\n    \\\"soul singer\\\",\\n    \\\"jazz singer\\\",\\n    \\\"roll singer\\\",\\n    \\\"folk singer\\\",\\n    \\\"rock singer\\\",\\n    \\\"R&B singer\\\",\\n    \\\"pop singer\\\",\\n    \\\"folksinger\\\",\\n    \\\"singer\\\",\\n    \\\"arts philanthropist\\\",\\n    \\\"musical theatre actress Tony Award\\\",\\n    \\\"Tony Award winning stage actress\\\",\\n    \\\"Tony Award winning actress\\\",\\n    \\\"pornographic actress\\\",\\n    \\\"silent film actress\\\",\\n    \\\"television actress\\\",\\n    \\\"husband of actress\\\",\\n    \\\"aspiring actress\\\",\\n    \\\"theatre actress\\\",\\n    \\\"stage actress\\\",\\n    \\\"movie actress\\\",\\n    \\\"radio actress\\\",\\n    \\\"film actress\\\",\\n    \\\"TV actress\\\",\\n    \\\"actress\\\",\\n]\\narts = sorted(list(set(arts)), key=lambda x: len(x), reverse=True)\\n\\nsports = [\\n    \\\"coach\\\",\\n    \\\"general manager of the National Basketball Association Sacramento Kings\\\",\\n    \\\"secretary general of the Basketball Association of the\\\",\\n    \\\"former member of the National Basketball Team\\\",\\n    \\\"racing manager to Queen Elizabeth II\\\",\\n    \\\"pioneer in thoroughbred horse racing\\\",\\n    \\\"horse racing\\\",\\n    \\\"amateur racing driver\\\",\\n    \\\"racing driver\\\",\\n    \\\"first manager of Toronto Blue Jays\\\",\\n    \\\"member of the College Football Hall of Fame\\\",\\n    \\\"a member of the Pro Football Hall of Fame\\\",\\n    \\\"member of the Pro Football Hall of Fame\\\",\\n    \\\"member of Pro Football Hall of Fame\\\",\\n    \\\"director in the Football League\\\",\\n    \\\"manager in the Football League\\\",\\n    \\\"Football World Cup champion\\\",\\n    \\\"manager in the Negro leagues\\\",\\n    \\\"minor league manager\\\",\\n    \\\"rugby league player\\\",\\n    \\\"league player\\\",\\n    \\\"test engineer\\\",\\n    \\\"manager of Burnley\\\",\\n    \\\"manager gold medal\\\",\\n    \\\"equipment manager\\\",\\n    \\\"general manager\\\",\\n    \\\"hurling manager\\\",\\n    \\\"then manager\\\",\\n]\\nsports = sorted(list(set(sports)), key=lambda x: len(x), reverse=True)\\n\\nsciences = [\\n    \\\"communications engineer\\\",\\n    \\\"environmental engineer\\\",\\n    \\\"aeronautical engineer\\\",\\n    \\\"agricultural engineer\\\",\\n    \\\"engineering\\\",\\n    \\\"race chassis engineer\\\",\\n    \\\"electronics engineer\\\",\\n    \\\"astronautic engineer\\\",\\n    \\\"electrical engineer\\\",\\n    \\\"engineering manager\\\",\\n    \\\"earthquake engineer\\\",\\n    \\\"structural engineer\\\",\\n    \\\"automotive engineer\\\",\\n    \\\"aerospace engineer\\\",\\n    \\\"aeroplane engineer\\\",\\n    \\\"chemical engineer\\\",\\n    \\\"military engineer\\\",\\n    \\\"computer engineer\\\",\\n    \\\"aircraft engineer\\\",\\n    \\\"engineer for NASA\\\",\\n    \\\"nuclear engineer\\\",\\n    \\\"railway engineer\\\",\\n    \\\"systems engineer\\\",\\n    \\\"harbor engineer\\\",\\n    \\\"rocket engineer\\\",\\n    \\\"civil engineer\\\",\\n    \\\"radar engineer\\\",\\n    \\\"radio engineer\\\",\\n    \\\"led MIT CAD project\\\",\\n    \\\"co designer of NASA Apollo Lunar Module\\\",\\n    \\\"engineer for NASA\\\",\\n    \\\"a NASA\\\",\\n    \\\"NASA executive\\\",\\n    \\\"NASA\\\",\\n    \\\"NASA official\\\",\\n    \\\"NASA manager\\\",\\n    \\\"chiropractor\\\",\\n    \\\"pioneer in combatting polio throughusing penicillin\\\",\\n    \\\"nursing\\\",\\n]\\nsciences = sorted(list(set(sciences)), key=lambda x: len(x), reverse=True)\\n\\nbusiness_farming = [\\n    \\\"motor company manager\\\",\\n    \\\"hedge fund pioneer\\\",\\n    \\\"hedge fund manager\\\",\\n    \\\"project manager\\\",\\n    \\\"factory co owner involved in Fisher Price toy recall\\\",\\n    \\\"residential contractor\\\",\\n    \\\"contractor\\\",\\n    \\\"advertising executive\\\",\\n]\\nbusiness_farming = sorted(\\n    list(set(business_farming)), key=lambda x: len(x), reverse=True\\n)\\n\\nacademia_humanities = [\\n    \\\"textbook author\\\",\\n    \\\"collection manager\\\",\\n    \\\"ethnomusicologist\\\",\\n    \\\"enthomusicologist\\\",\\n    \\\"musicologist\\\",\\n    \\\"academies\\\",\\n    \\\"academic Parkinson disease\\\",\\n    \\\"ancient history academic\\\",\\n    \\\"academic administrator\\\",\\n    \\\"academy founder\\\",\\n    \\\"an academic teacher\\\",\\n    \\\"academic teacher\\\",\\n    \\\"culture academic\\\",\\n    \\\"academician\\\",\\n    \\\"an academic\\\",\\n    \\\"academic\\\",\\n]\\nacademia_humanities = sorted(\\n    list(set(academia_humanities)), key=lambda x: len(x), reverse=True\\n)\\n\\nlaw_enf_military_operator = [\\n    \\\"Warsaw Uprising insurgent\\\",\\n]\\nlaw_enf_military_operator = sorted(\\n    list(set(law_enf_military_operator)), key=lambda x: len(x), reverse=True\\n)\\n\\nspiritual = [\\n    \\\"second wife of author L Ron Hubbard\\\",\\n]\\nspiritual = sorted(list(set(spiritual)), key=lambda x: len(x), reverse=True)\\n\\nsocial = [\\n    \\\"charity fundraiser\\\",\\n    \\\"fundraiser\\\",\\n    \\\"philanthropist known for his contribution to Central Park\\\",\\n    \\\"philanthropist;\\\",\\n    \\\"philanthropist in West New Province\\\",\\n    \\\"prominent philanthropist\\\",\\n]\\nsocial = sorted(list(set(social)), key=lambda x: len(x), reverse=True)\\n\\ncrime = []\\ncrime = sorted(list(set(crime)), key=lambda x: len(x), reverse=True)\\n\\nevent_record_other = [\\n    \\\"private security contractor\\\",\\n    \\\"factory worker\\\",\\n]\\nevent_record_other = sorted(\\n    list(set(event_record_other)), key=lambda x: len(x), reverse=True\\n)\\n\\nother_species = [\\n    \\\"racing trotter\\\",\\n    \\\"animal actor\\\",\\n]\\nother_species = sorted(list(set(other_species)), key=lambda x: len(x), reverse=True)\";\n",
       "                var nbb_cells = Jupyter.notebook.get_cells();\n",
       "                for (var i = 0; i < nbb_cells.length; ++i) {\n",
       "                    if (nbb_cells[i].input_prompt_number == nbb_cell_id) {\n",
       "                        if (nbb_cells[i].get_text() == nbb_unformatted_code) {\n",
       "                             nbb_cells[i].set_text(nbb_formatted_code);\n",
       "                        }\n",
       "                        break;\n",
       "                    }\n",
       "                }\n",
       "            }, 500);\n",
       "            "
      ],
      "text/plain": [
       "<IPython.core.display.Javascript object>"
      ]
     },
     "metadata": {},
     "output_type": "display_data"
    }
   ],
   "source": [
    "# Creating lists for each category and sorting by decreasing length and removing duplicates\n",
    "\n",
    "politics_govt_law = [\n",
    "    \"political campaign manager\",\n",
    "    \"film subject\",\n",
    "    \"political fundraiser\",\n",
    "    \"band chief\",\n",
    "    \"mother of singer Carly Simon\",\n",
    "    \"open housing activist\",\n",
    "    \"n minister of Housing\",\n",
    "    \"housing activist\",\n",
    "    \"diplomat for the Holy See\",\n",
    "    \"diplomatic advisor\",\n",
    "    \"diplomatic analyst\",\n",
    "    \"diplomat in the\",\n",
    "    \"diplomat\",\n",
    "]\n",
    "politics_govt_law = sorted(\n",
    "    list(set(politics_govt_law)), key=lambda x: len(x), reverse=True\n",
    ")\n",
    "\n",
    "arts = [\n",
    "    'author of the book \"The Last Victim\"',\n",
    "    \"author on\",\n",
    "    \"children author; creator of Shrek\",\n",
    "    \"author of books on healthy living\",\n",
    "    \"author of philosophical fiction\",\n",
    "    \"author of The Crime Victim Book\",\n",
    "    \"only child author Jack Kerouac\",\n",
    "    \"Pulitzer Prize winning author\",\n",
    "    \"author on traditional customs\",\n",
    "    \"author of books on\",\n",
    "    \"author on capital punishment\",\n",
    "    \"author of scores for films\",\n",
    "    \"author of children books\",\n",
    "    \"author of short stories\",\n",
    "    \"author on the Southwest\",\n",
    "    \"science fiction author\",\n",
    "    \"author on horticulture\",\n",
    "    \"children book author\",\n",
    "    \"cooking books author\",\n",
    "    \"dark fantasy author\",\n",
    "    \"best selling author\",\n",
    "    \"non fiction author\",\n",
    "    \"short story author\",\n",
    "    \"author on\",\n",
    "    \"comic book author\",\n",
    "    \"television author\",\n",
    "    \"cinematic author\",\n",
    "    \"cookbook author\",\n",
    "    \"children author\",\n",
    "    \"wildlife author\",\n",
    "    \"thriller author\",\n",
    "    \"fantasy author\",\n",
    "    \"crime author\",\n",
    "    \"author of\",\n",
    "    \"writer on\",\n",
    "    \"writer on the\",\n",
    "    \"writer\",\n",
    "    \"artistic director of the Brecon Jazz Festival\",\n",
    "    \"general manager of Montreux Jazz Festival\",\n",
    "    \"Manager of Jazz musician Erroll Garner\",\n",
    "    \"television production manager\",\n",
    "    \"public relations manager\",\n",
    "    \"road manager for Outkast\",\n",
    "    \"director of pornographic films\",\n",
    "    \"film production illustrator\",\n",
    "    \"director in Bollywood films\",\n",
    "    \"author of scores for films\",\n",
    "    \"film producer of musicals\",\n",
    "    \"film fight choreographer\",\n",
    "    \"film television director\",\n",
    "    \"filmmaker\",\n",
    "    \"film festival director\",\n",
    "    \"documentary filmmaker\",\n",
    "    \"aerial film operator\",\n",
    "    \"film character actor\",\n",
    "    \"underwater filmmaker\",\n",
    "    \"film studio manager\",\n",
    "    \"silent film actress\",\n",
    "    \"film poster artist\",\n",
    "    \"film choreographer\",\n",
    "    \"composer for film\",\n",
    "    \"composer of film\",\n",
    "    \"film pioneer\",\n",
    "    \"producer in film\",\n",
    "    \"film executive\",\n",
    "    \"film director\",\n",
    "    \"film producer\",\n",
    "    \"film composer\",\n",
    "    \"film actress\",\n",
    "    \"film critic\",\n",
    "    \"film scorer\",\n",
    "    \"film scores\",\n",
    "    \"film actor\",\n",
    "    \"film maker\",\n",
    "    \"filmmaker\",\n",
    "    \"recording engineer\",\n",
    "    \"sound engineer\",\n",
    "    \"audio engineer\",\n",
    "    \"promoter of funding for the arts\",\n",
    "    \"musical theater actor\",\n",
    "    \"theater director\",\n",
    "    \"theater producer\",\n",
    "    \"theater manager\",\n",
    "    \"theater critic\",\n",
    "    \"theater actor\",\n",
    "    \"theater owner\",\n",
    "    \"musical theatre actress Tony Award\",\n",
    "    \"Broadway theatre\",\n",
    "    \"avant garde theatre producer\",\n",
    "    \"Broadway theatre performer\",\n",
    "    \"musical theatre performer\",\n",
    "    \"folk theatre artist\",\n",
    "    \"theatre director\",\n",
    "    \"theatre producer\",\n",
    "    \"theatre designer\",\n",
    "    \"theatre actress\",\n",
    "    \"theatre manager\",\n",
    "    \"theatre critic\",\n",
    "    \"theatre actor\",\n",
    "    \"theatre\",\n",
    "    \"reality talent show finalist\",\n",
    "    \"talent manager\",\n",
    "    \"talent agent\",\n",
    "    \"comic spokesman for music trio The Limeliters\",\n",
    "    \"Manager of Jazz musician Erroll Garner\",\n",
    "    \"pioneer of the musical genres of and\",\n",
    "    \"guru of the independent music scene\",\n",
    "    \"musical theatre actress Tony Award\",\n",
    "    \"composer of electronic music\",\n",
    "    \"musical instrument collector\",\n",
    "    \"director of music\",\n",
    "    \"composer of classical music\",\n",
    "    \"inspirational music\",\n",
    "    \"traditional music performer\",\n",
    "    \"music publishing executive\",\n",
    "    \"country & western musician\",\n",
    "    \"television music composer\",\n",
    "    \"electronic music composer\",\n",
    "    \"traditional folk musician\",\n",
    "    \"musical theatre performer\",\n",
    "    \"film producer of musicals\",\n",
    "    \"music industry executive\",\n",
    "    \"country music journalist\",\n",
    "    \"Baroque music specialist\",\n",
    "    \"music business executive\",\n",
    "    \"music festival organiser\",\n",
    "    \"classical music satirist\",\n",
    "    \"musical stage performer\",\n",
    "    \"computer music composer\",\n",
    "    \"easy listening musician\",\n",
    "    \"country music guitarist\",\n",
    "    \"television theme music\",\n",
    "    \"rock music journalist\",\n",
    "    \"roll session musician\",\n",
    "    \"musical theater actor\",\n",
    "    \"historian of musicals\",\n",
    "    \"music promoter\",\n",
    "    \"country music singer\",\n",
    "    \"house music producer\",\n",
    "    \"music video director\",\n",
    "    \"spoken word musician\",\n",
    "    \"rockabilly musician\",\n",
    "    \"music administrator\",\n",
    "    \"music group founder\",\n",
    "    \"electronic musician\",\n",
    "    \"brass band musician\",\n",
    "    \"bass music producer\",\n",
    "    \"music singer\",\n",
    "    \"music news reporter\",\n",
    "    \"bluegrass musician\",\n",
    "    \"surf rock musician\",\n",
    "    \"surf music pioneer\",\n",
    "    \"musician of Foghat\",\n",
    "    \"pop music arranger\",\n",
    "    \"new wave musician\",\n",
    "    \"musical performer\",\n",
    "    \"clarinet musician\",\n",
    "    \"music journalist\",\n",
    "    \"musical director\",\n",
    "    \"session musician\",\n",
    "    \"musical producer\",\n",
    "    \"new age musician\",\n",
    "    \"country musician\",\n",
    "    \"pop music singer\",\n",
    "    \"musical composer\",\n",
    "    \"calypso musician\",\n",
    "    \"musical arranger\",\n",
    "    \"music supervisor\",\n",
    "    \"music executive\",\n",
    "    \"music publisher\",\n",
    "    \"studio musician\",\n",
    "    \"music collector\",\n",
    "    \"music producer\",\n",
    "    \"music director\",\n",
    "    \"music arranger\",\n",
    "    \"blues musician\",\n",
    "    \"music promoter\",\n",
    "    \"music composer\",\n",
    "    \"salsa musician\",\n",
    "    \"musical singer\",\n",
    "    \"mento musician\",\n",
    "    \"disco musician\",\n",
    "    \"jazz musician\",\n",
    "    \"folk musician\",\n",
    "    \"roll musician\",\n",
    "    \"rock musician\",\n",
    "    \"music manager\",\n",
    "    \"funk musician\",\n",
    "    \"musician from\",\n",
    "    \"music critic\",\n",
    "    \"pop musician\",\n",
    "    \"R&B musician\",\n",
    "    \"music patron\",\n",
    "    \"music editor\",\n",
    "    \"music agent\",\n",
    "    \"swing music\",\n",
    "    \"musician\",\n",
    "    \"a founder of rock band Molly Hatchet\",\n",
    "    \"producer; husband of Angela Lansbury\",\n",
    "    \"composer from the band Savage Rose\",\n",
    "    \"co founder of the band Space\",\n",
    "    \"front man of band Baltimora\",\n",
    "    \"founder of the band Bathory\",\n",
    "    \"big band tenor saxophonist\",\n",
    "    \"husband of Celia Cruz\",\n",
    "    \"bluegrass band leader\",\n",
    "    \"brass band musician\",\n",
    "    \"husband of actress\",\n",
    "    \"big band leader\",\n",
    "    \"big band singer\",\n",
    "    \"Dansband artist\",\n",
    "    \"jazz bandleader\",\n",
    "    \"bandleader on\",\n",
    "    \"band manager\",\n",
    "    \"bandy player\",\n",
    "    \"one man band\",\n",
    "    \"band leader\",\n",
    "    \"bandleader\",\n",
    "    \"academic fraudster\",\n",
    "    \"daughter of actor Jean Louis Trintignant\",\n",
    "    \"actor better known as Huracán Ramírez\",\n",
    "    \"daughter of actor Marlon Brando\",\n",
    "    \"the father of actor Kevin\",\n",
    "    \"Emmy Award winning actor\",\n",
    "    \"musical theater actor\",\n",
    "    \"film character actor\",\n",
    "    \"former child actor\",\n",
    "    \"daughter of actor\",\n",
    "    \"television actor\",\n",
    "    \"character actor\",\n",
    "    \"art benefactor\",\n",
    "    \"theater actor\",\n",
    "    \"comedic actor\",\n",
    "    \"theatre actor\",\n",
    "    \"wife of actor\",\n",
    "    \"screen actor\",\n",
    "    \"comedy actor\",\n",
    "    \"stage actor\",\n",
    "    \"comic actor\",\n",
    "    \"child actor\",\n",
    "    \"film actor\",\n",
    "    \"Fox actor\",\n",
    "    \"TV actor\",\n",
    "    \"television journalism pioneer\",\n",
    "    \"country music journalist\",\n",
    "    \"investigative journalist\",\n",
    "    \"road safety journalist\",\n",
    "    \"journalist for the BBC\",\n",
    "    \"television journalist\",\n",
    "    \"rock music journalist\",\n",
    "    \"literary journalist\",\n",
    "    \"journalism\",\n",
    "    \"journalist murdered\",\n",
    "    \"fashion journalist\",\n",
    "    \"journalist editor\",\n",
    "    \"music journalist\",\n",
    "    \"photo journalist\",\n",
    "    \"photojournalist\",\n",
    "    \"food journalist\",\n",
    "    \"journal editor\",\n",
    "    \"journalist on\",\n",
    "    \"TV journalist\",\n",
    "    \"journalist\",\n",
    "    'classical singer known as the \"nightingale of Punjab\"',\n",
    "    \"swing singer with Benny Goodman\",\n",
    "    \"country music singer\",\n",
    "    \"advertising creative\",\n",
    "    \"music singer\",\n",
    "    \"advertising artist\",\n",
    "    \"lăutărească singer\",\n",
    "    \"soca parang singer\",\n",
    "    \"rockabilly singer\",\n",
    "    \"kleinkunst singer\",\n",
    "    \"classical singer\",\n",
    "    \"pop music singer\",\n",
    "    \"bel canto singer\",\n",
    "    \"playback singer\",\n",
    "    \"big band singer\",\n",
    "    \"operatic singer\",\n",
    "    \"pop rock singer\",\n",
    "    \"Schlager singer\",\n",
    "    \"the lead singer\",\n",
    "    \"country singer\",\n",
    "    \"doo wop singer\",\n",
    "    \"chamber singer\",\n",
    "    \"session singer\",\n",
    "    \"mor lam singer\",\n",
    "    \"Western singer\",\n",
    "    \"cabaret singer\",\n",
    "    \"norteño singer\",\n",
    "    \"musical singer\",\n",
    "    \"reggae singer\",\n",
    "    \"ballad singer\",\n",
    "    \"Tejano singer\",\n",
    "    \"Celtic singer\",\n",
    "    \"sevdah singer\",\n",
    "    \"blues singer\",\n",
    "    \"opera singer\",\n",
    "    \"mambo singer\",\n",
    "    \"disco singer\",\n",
    "    \"soul singer\",\n",
    "    \"jazz singer\",\n",
    "    \"roll singer\",\n",
    "    \"folk singer\",\n",
    "    \"rock singer\",\n",
    "    \"R&B singer\",\n",
    "    \"pop singer\",\n",
    "    \"folksinger\",\n",
    "    \"singer\",\n",
    "    \"arts philanthropist\",\n",
    "    \"musical theatre actress Tony Award\",\n",
    "    \"Tony Award winning stage actress\",\n",
    "    \"Tony Award winning actress\",\n",
    "    \"pornographic actress\",\n",
    "    \"silent film actress\",\n",
    "    \"television actress\",\n",
    "    \"husband of actress\",\n",
    "    \"aspiring actress\",\n",
    "    \"theatre actress\",\n",
    "    \"stage actress\",\n",
    "    \"movie actress\",\n",
    "    \"radio actress\",\n",
    "    \"film actress\",\n",
    "    \"TV actress\",\n",
    "    \"actress\",\n",
    "]\n",
    "arts = sorted(list(set(arts)), key=lambda x: len(x), reverse=True)\n",
    "\n",
    "sports = [\n",
    "    \"coach\",\n",
    "    \"general manager of the National Basketball Association Sacramento Kings\",\n",
    "    \"secretary general of the Basketball Association of the\",\n",
    "    \"former member of the National Basketball Team\",\n",
    "    \"racing manager to Queen Elizabeth II\",\n",
    "    \"pioneer in thoroughbred horse racing\",\n",
    "    \"horse racing\",\n",
    "    \"amateur racing driver\",\n",
    "    \"racing driver\",\n",
    "    \"first manager of Toronto Blue Jays\",\n",
    "    \"member of the College Football Hall of Fame\",\n",
    "    \"a member of the Pro Football Hall of Fame\",\n",
    "    \"member of the Pro Football Hall of Fame\",\n",
    "    \"member of Pro Football Hall of Fame\",\n",
    "    \"director in the Football League\",\n",
    "    \"manager in the Football League\",\n",
    "    \"Football World Cup champion\",\n",
    "    \"manager in the Negro leagues\",\n",
    "    \"minor league manager\",\n",
    "    \"rugby league player\",\n",
    "    \"league player\",\n",
    "    \"test engineer\",\n",
    "    \"manager of Burnley\",\n",
    "    \"manager gold medal\",\n",
    "    \"equipment manager\",\n",
    "    \"general manager\",\n",
    "    \"hurling manager\",\n",
    "    \"then manager\",\n",
    "]\n",
    "sports = sorted(list(set(sports)), key=lambda x: len(x), reverse=True)\n",
    "\n",
    "sciences = [\n",
    "    \"communications engineer\",\n",
    "    \"environmental engineer\",\n",
    "    \"aeronautical engineer\",\n",
    "    \"agricultural engineer\",\n",
    "    \"engineering\",\n",
    "    \"race chassis engineer\",\n",
    "    \"electronics engineer\",\n",
    "    \"astronautic engineer\",\n",
    "    \"electrical engineer\",\n",
    "    \"engineering manager\",\n",
    "    \"earthquake engineer\",\n",
    "    \"structural engineer\",\n",
    "    \"automotive engineer\",\n",
    "    \"aerospace engineer\",\n",
    "    \"aeroplane engineer\",\n",
    "    \"chemical engineer\",\n",
    "    \"military engineer\",\n",
    "    \"computer engineer\",\n",
    "    \"aircraft engineer\",\n",
    "    \"engineer for NASA\",\n",
    "    \"nuclear engineer\",\n",
    "    \"railway engineer\",\n",
    "    \"systems engineer\",\n",
    "    \"harbor engineer\",\n",
    "    \"rocket engineer\",\n",
    "    \"civil engineer\",\n",
    "    \"radar engineer\",\n",
    "    \"radio engineer\",\n",
    "    \"led MIT CAD project\",\n",
    "    \"co designer of NASA Apollo Lunar Module\",\n",
    "    \"engineer for NASA\",\n",
    "    \"a NASA\",\n",
    "    \"NASA executive\",\n",
    "    \"NASA\",\n",
    "    \"NASA official\",\n",
    "    \"NASA manager\",\n",
    "    \"chiropractor\",\n",
    "    \"pioneer in combatting polio throughusing penicillin\",\n",
    "    \"nursing\",\n",
    "]\n",
    "sciences = sorted(list(set(sciences)), key=lambda x: len(x), reverse=True)\n",
    "\n",
    "business_farming = [\n",
    "    \"motor company manager\",\n",
    "    \"hedge fund pioneer\",\n",
    "    \"hedge fund manager\",\n",
    "    \"project manager\",\n",
    "    \"factory co owner involved in Fisher Price toy recall\",\n",
    "    \"residential contractor\",\n",
    "    \"contractor\",\n",
    "    \"advertising executive\",\n",
    "]\n",
    "business_farming = sorted(\n",
    "    list(set(business_farming)), key=lambda x: len(x), reverse=True\n",
    ")\n",
    "\n",
    "academia_humanities = [\n",
    "    \"textbook author\",\n",
    "    \"collection manager\",\n",
    "    \"ethnomusicologist\",\n",
    "    \"enthomusicologist\",\n",
    "    \"musicologist\",\n",
    "    \"academies\",\n",
    "    \"academic Parkinson disease\",\n",
    "    \"ancient history academic\",\n",
    "    \"academic administrator\",\n",
    "    \"academy founder\",\n",
    "    \"an academic teacher\",\n",
    "    \"academic teacher\",\n",
    "    \"culture academic\",\n",
    "    \"academician\",\n",
    "    \"an academic\",\n",
    "    \"academic\",\n",
    "]\n",
    "academia_humanities = sorted(\n",
    "    list(set(academia_humanities)), key=lambda x: len(x), reverse=True\n",
    ")\n",
    "\n",
    "law_enf_military_operator = [\n",
    "    \"Warsaw Uprising insurgent\",\n",
    "]\n",
    "law_enf_military_operator = sorted(\n",
    "    list(set(law_enf_military_operator)), key=lambda x: len(x), reverse=True\n",
    ")\n",
    "\n",
    "spiritual = [\n",
    "    \"second wife of author L Ron Hubbard\",\n",
    "]\n",
    "spiritual = sorted(list(set(spiritual)), key=lambda x: len(x), reverse=True)\n",
    "\n",
    "social = [\n",
    "    \"charity fundraiser\",\n",
    "    \"fundraiser\",\n",
    "    \"philanthropist known for his contribution to Central Park\",\n",
    "    \"philanthropist;\",\n",
    "    \"philanthropist in West New Province\",\n",
    "    \"prominent philanthropist\",\n",
    "]\n",
    "social = sorted(list(set(social)), key=lambda x: len(x), reverse=True)\n",
    "\n",
    "crime = []\n",
    "crime = sorted(list(set(crime)), key=lambda x: len(x), reverse=True)\n",
    "\n",
    "event_record_other = [\n",
    "    \"private security contractor\",\n",
    "    \"factory worker\",\n",
    "]\n",
    "event_record_other = sorted(\n",
    "    list(set(event_record_other)), key=lambda x: len(x), reverse=True\n",
    ")\n",
    "\n",
    "other_species = [\n",
    "    \"racing trotter\",\n",
    "    \"animal actor\",\n",
    "]\n",
    "other_species = sorted(list(set(other_species)), key=lambda x: len(x), reverse=True)"
   ]
  },
  {
   "cell_type": "code",
   "execution_count": 23,
   "id": "16a4981b",
   "metadata": {},
   "outputs": [
    {
     "data": {
      "application/javascript": [
       "\n",
       "            setTimeout(function() {\n",
       "                var nbb_cell_id = 23;\n",
       "                var nbb_unformatted_code = \"# Hard-coding cause_of_death for entry with value in info_2_1\\nindex = df[df[\\\"link\\\"] == \\\"https://en.wikipedia.org/wiki/Rutherford_Aris\\\"].index\\ndf.loc[index, \\\"cause_of_death\\\"] = \\\"Parkinson disease\\\"\\n\\n\\n# Hard-coding cause_of_death for entry with value in info_2_1\\nindex = df[df[\\\"link\\\"] == \\\"https://en.wikipedia.org/wiki/Rub%C3%A9n_Espinosa\\\"].index\\ndf.loc[index, \\\"cause_of_death\\\"] = \\\"murdered\\\"\";\n",
       "                var nbb_formatted_code = \"# Hard-coding cause_of_death for entry with value in info_2_1\\nindex = df[df[\\\"link\\\"] == \\\"https://en.wikipedia.org/wiki/Rutherford_Aris\\\"].index\\ndf.loc[index, \\\"cause_of_death\\\"] = \\\"Parkinson disease\\\"\\n\\n\\n# Hard-coding cause_of_death for entry with value in info_2_1\\nindex = df[df[\\\"link\\\"] == \\\"https://en.wikipedia.org/wiki/Rub%C3%A9n_Espinosa\\\"].index\\ndf.loc[index, \\\"cause_of_death\\\"] = \\\"murdered\\\"\";\n",
       "                var nbb_cells = Jupyter.notebook.get_cells();\n",
       "                for (var i = 0; i < nbb_cells.length; ++i) {\n",
       "                    if (nbb_cells[i].input_prompt_number == nbb_cell_id) {\n",
       "                        if (nbb_cells[i].get_text() == nbb_unformatted_code) {\n",
       "                             nbb_cells[i].set_text(nbb_formatted_code);\n",
       "                        }\n",
       "                        break;\n",
       "                    }\n",
       "                }\n",
       "            }, 500);\n",
       "            "
      ],
      "text/plain": [
       "<IPython.core.display.Javascript object>"
      ]
     },
     "metadata": {},
     "output_type": "display_data"
    }
   ],
   "source": [
    "# Hard-coding cause_of_death for entry with value in info_2_1\n",
    "index = df[df[\"link\"] == \"https://en.wikipedia.org/wiki/Rutherford_Aris\"].index\n",
    "df.loc[index, \"cause_of_death\"] = \"Parkinson disease\"\n",
    "\n",
    "\n",
    "# Hard-coding cause_of_death for entry with value in info_2_1\n",
    "index = df[df[\"link\"] == \"https://en.wikipedia.org/wiki/Rub%C3%A9n_Espinosa\"].index\n",
    "df.loc[index, \"cause_of_death\"] = \"murdered\""
   ]
  },
  {
   "cell_type": "markdown",
   "id": "b07df538",
   "metadata": {},
   "source": [
    "#### Creating `known_for_dict` Dictionary of Category Keys and Specific Role Lists of Values"
   ]
  },
  {
   "cell_type": "code",
   "execution_count": 24,
   "id": "9e0c9125",
   "metadata": {},
   "outputs": [
    {
     "data": {
      "application/javascript": [
       "\n",
       "            setTimeout(function() {\n",
       "                var nbb_cell_id = 24;\n",
       "                var nbb_unformatted_code = \"# Combining separate lists into one dictionary\\nknown_for_dict = {\\n    \\\"social\\\": social,\\n    \\\"spiritual\\\": spiritual,\\n    \\\"academia_humanities\\\": academia_humanities,\\n    \\\"business_farming\\\": business_farming,\\n    \\\"sciences\\\": sciences,\\n    \\\"politics_govt_law\\\": politics_govt_law,\\n    \\\"law_enf_military_operator\\\": law_enf_military_operator,\\n    \\\"crime\\\": crime,\\n    \\\"event_record_other\\\": event_record_other,\\n    \\\"other_species\\\": other_species,\\n    \\\"arts\\\": arts,\\n    \\\"sports\\\": sports,\\n}\";\n",
       "                var nbb_formatted_code = \"# Combining separate lists into one dictionary\\nknown_for_dict = {\\n    \\\"social\\\": social,\\n    \\\"spiritual\\\": spiritual,\\n    \\\"academia_humanities\\\": academia_humanities,\\n    \\\"business_farming\\\": business_farming,\\n    \\\"sciences\\\": sciences,\\n    \\\"politics_govt_law\\\": politics_govt_law,\\n    \\\"law_enf_military_operator\\\": law_enf_military_operator,\\n    \\\"crime\\\": crime,\\n    \\\"event_record_other\\\": event_record_other,\\n    \\\"other_species\\\": other_species,\\n    \\\"arts\\\": arts,\\n    \\\"sports\\\": sports,\\n}\";\n",
       "                var nbb_cells = Jupyter.notebook.get_cells();\n",
       "                for (var i = 0; i < nbb_cells.length; ++i) {\n",
       "                    if (nbb_cells[i].input_prompt_number == nbb_cell_id) {\n",
       "                        if (nbb_cells[i].get_text() == nbb_unformatted_code) {\n",
       "                             nbb_cells[i].set_text(nbb_formatted_code);\n",
       "                        }\n",
       "                        break;\n",
       "                    }\n",
       "                }\n",
       "            }, 500);\n",
       "            "
      ],
      "text/plain": [
       "<IPython.core.display.Javascript object>"
      ]
     },
     "metadata": {},
     "output_type": "display_data"
    }
   ],
   "source": [
    "# Combining separate lists into one dictionary\n",
    "known_for_dict = {\n",
    "    \"social\": social,\n",
    "    \"spiritual\": spiritual,\n",
    "    \"academia_humanities\": academia_humanities,\n",
    "    \"business_farming\": business_farming,\n",
    "    \"sciences\": sciences,\n",
    "    \"politics_govt_law\": politics_govt_law,\n",
    "    \"law_enf_military_operator\": law_enf_military_operator,\n",
    "    \"crime\": crime,\n",
    "    \"event_record_other\": event_record_other,\n",
    "    \"other_species\": other_species,\n",
    "    \"arts\": arts,\n",
    "    \"sports\": sports,\n",
    "}"
   ]
  },
  {
   "cell_type": "markdown",
   "id": "c6eabd94",
   "metadata": {},
   "source": [
    "#### Extracting Category from `info_2_1`"
   ]
  },
  {
   "cell_type": "code",
   "execution_count": 25,
   "id": "d4e63d7b",
   "metadata": {},
   "outputs": [
    {
     "name": "stdout",
     "output_type": "stream",
     "text": [
      "CPU times: total: 49.6 s\n",
      "Wall time: 49.6 s\n"
     ]
    },
    {
     "data": {
      "application/javascript": [
       "\n",
       "            setTimeout(function() {\n",
       "                var nbb_cell_id = 25;\n",
       "                var nbb_unformatted_code = \"%%time\\n\\n# Column to check\\ncolumn = 'info_2_1'\\n\\n# Start dataframe\\ndataframe = df[df[column].notna()]\\n\\n# For loop to find role in column and extract it as category\\nfor category, category_lst in known_for_dict.items():\\n    for role in category_lst:\\n        for index in dataframe.index:\\n                item = df.loc[index, column]\\n                if item:\\n                    if role in item:\\n                        df.loc[index, category] = 1\\n                        df.loc[index, column] = item.replace(role, '').strip()\\n\\n# Calculating num_categories\\ndf[\\\"num_categories\\\"] = df[known_for_dict.keys()].sum(axis=1)\";\n",
       "                var nbb_formatted_code = \"%%time\\n\\n# Column to check\\ncolumn = 'info_2_1'\\n\\n# Start dataframe\\ndataframe = df[df[column].notna()]\\n\\n# For loop to find role in column and extract it as category\\nfor category, category_lst in known_for_dict.items():\\n    for role in category_lst:\\n        for index in dataframe.index:\\n                item = df.loc[index, column]\\n                if item:\\n                    if role in item:\\n                        df.loc[index, category] = 1\\n                        df.loc[index, column] = item.replace(role, '').strip()\\n\\n# Calculating num_categories\\ndf[\\\"num_categories\\\"] = df[known_for_dict.keys()].sum(axis=1)\";\n",
       "                var nbb_cells = Jupyter.notebook.get_cells();\n",
       "                for (var i = 0; i < nbb_cells.length; ++i) {\n",
       "                    if (nbb_cells[i].input_prompt_number == nbb_cell_id) {\n",
       "                        if (nbb_cells[i].get_text() == nbb_unformatted_code) {\n",
       "                             nbb_cells[i].set_text(nbb_formatted_code);\n",
       "                        }\n",
       "                        break;\n",
       "                    }\n",
       "                }\n",
       "            }, 500);\n",
       "            "
      ],
      "text/plain": [
       "<IPython.core.display.Javascript object>"
      ]
     },
     "metadata": {},
     "output_type": "display_data"
    }
   ],
   "source": [
    "%%time\n",
    "\n",
    "# Column to check\n",
    "column = 'info_2_1'\n",
    "\n",
    "# Start dataframe\n",
    "dataframe = df[df[column].notna()]\n",
    "\n",
    "# For loop to find role in column and extract it as category\n",
    "for category, category_lst in known_for_dict.items():\n",
    "    for role in category_lst:\n",
    "        for index in dataframe.index:\n",
    "                item = df.loc[index, column]\n",
    "                if item:\n",
    "                    if role in item:\n",
    "                        df.loc[index, category] = 1\n",
    "                        df.loc[index, column] = item.replace(role, '').strip()\n",
    "\n",
    "# Calculating num_categories\n",
    "df[\"num_categories\"] = df[known_for_dict.keys()].sum(axis=1)"
   ]
  },
  {
   "cell_type": "markdown",
   "id": "c57a1227",
   "metadata": {},
   "source": [
    "#### Checking Updated `num_categories` Value Counts"
   ]
  },
  {
   "cell_type": "code",
   "execution_count": 26,
   "id": "a17043b1",
   "metadata": {},
   "outputs": [
    {
     "data": {
      "text/plain": [
       "1    93605\n",
       "2     4322\n",
       "0       82\n",
       "3       35\n",
       "Name: num_categories, dtype: int64"
      ]
     },
     "execution_count": 26,
     "metadata": {},
     "output_type": "execute_result"
    },
    {
     "data": {
      "application/javascript": [
       "\n",
       "            setTimeout(function() {\n",
       "                var nbb_cell_id = 26;\n",
       "                var nbb_unformatted_code = \"# Checking updated num_categories value counts\\ndf[\\\"num_categories\\\"].value_counts()\";\n",
       "                var nbb_formatted_code = \"# Checking updated num_categories value counts\\ndf[\\\"num_categories\\\"].value_counts()\";\n",
       "                var nbb_cells = Jupyter.notebook.get_cells();\n",
       "                for (var i = 0; i < nbb_cells.length; ++i) {\n",
       "                    if (nbb_cells[i].input_prompt_number == nbb_cell_id) {\n",
       "                        if (nbb_cells[i].get_text() == nbb_unformatted_code) {\n",
       "                             nbb_cells[i].set_text(nbb_formatted_code);\n",
       "                        }\n",
       "                        break;\n",
       "                    }\n",
       "                }\n",
       "            }, 500);\n",
       "            "
      ],
      "text/plain": [
       "<IPython.core.display.Javascript object>"
      ]
     },
     "metadata": {},
     "output_type": "display_data"
    }
   ],
   "source": [
    "# Checking updated num_categories value counts\n",
    "df[\"num_categories\"].value_counts()"
   ]
  },
  {
   "cell_type": "markdown",
   "id": "fa5ccb6d",
   "metadata": {},
   "source": [
    "#### Observations:\n",
    "- We will proceed to rebuild `known_for_dict` for the next iteration."
   ]
  },
  {
   "cell_type": "markdown",
   "id": "e527cb32",
   "metadata": {},
   "source": [
    "#### Finding `known_for` Roles in `info_2_1`"
   ]
  },
  {
   "cell_type": "code",
   "execution_count": 27,
   "id": "f6a47204",
   "metadata": {},
   "outputs": [
    {
     "data": {
      "application/javascript": [
       "\n",
       "            setTimeout(function() {\n",
       "                var nbb_cell_id = 27;\n",
       "                var nbb_unformatted_code = \"# # Obtaining values for column and their counts\\n# roles_list = df[\\\"info_2_1\\\"].value_counts(ascending=True).index.tolist()\";\n",
       "                var nbb_formatted_code = \"# # Obtaining values for column and their counts\\n# roles_list = df[\\\"info_2_1\\\"].value_counts(ascending=True).index.tolist()\";\n",
       "                var nbb_cells = Jupyter.notebook.get_cells();\n",
       "                for (var i = 0; i < nbb_cells.length; ++i) {\n",
       "                    if (nbb_cells[i].input_prompt_number == nbb_cell_id) {\n",
       "                        if (nbb_cells[i].get_text() == nbb_unformatted_code) {\n",
       "                             nbb_cells[i].set_text(nbb_formatted_code);\n",
       "                        }\n",
       "                        break;\n",
       "                    }\n",
       "                }\n",
       "            }, 500);\n",
       "            "
      ],
      "text/plain": [
       "<IPython.core.display.Javascript object>"
      ]
     },
     "metadata": {},
     "output_type": "display_data"
    }
   ],
   "source": [
    "# # Obtaining values for column and their counts\n",
    "# roles_list = df[\"info_2_1\"].value_counts(ascending=True).index.tolist()"
   ]
  },
  {
   "cell_type": "code",
   "execution_count": 28,
   "id": "74f5cd30",
   "metadata": {},
   "outputs": [
    {
     "data": {
      "application/javascript": [
       "\n",
       "            setTimeout(function() {\n",
       "                var nbb_cell_id = 28;\n",
       "                var nbb_unformatted_code = \"# # Code to check each value\\n# roles_list.pop()\";\n",
       "                var nbb_formatted_code = \"# # Code to check each value\\n# roles_list.pop()\";\n",
       "                var nbb_cells = Jupyter.notebook.get_cells();\n",
       "                for (var i = 0; i < nbb_cells.length; ++i) {\n",
       "                    if (nbb_cells[i].input_prompt_number == nbb_cell_id) {\n",
       "                        if (nbb_cells[i].get_text() == nbb_unformatted_code) {\n",
       "                             nbb_cells[i].set_text(nbb_formatted_code);\n",
       "                        }\n",
       "                        break;\n",
       "                    }\n",
       "                }\n",
       "            }, 500);\n",
       "            "
      ],
      "text/plain": [
       "<IPython.core.display.Javascript object>"
      ]
     },
     "metadata": {},
     "output_type": "display_data"
    }
   ],
   "source": [
    "# # Code to check each value\n",
    "# roles_list.pop()"
   ]
  },
  {
   "cell_type": "code",
   "execution_count": 29,
   "id": "8b7cd211",
   "metadata": {},
   "outputs": [
    {
     "data": {
      "application/javascript": [
       "\n",
       "            setTimeout(function() {\n",
       "                var nbb_cell_id = 29;\n",
       "                var nbb_unformatted_code = \"# # Create specific_roles_list for above popped value\\n# specific_roles_list = (\\n#     df.loc[\\n#         [\\n#             index\\n#             for index in df[df[\\\"info_2_1\\\"].notna()].index\\n#             if \\\"sex\\\" in df.loc[index, \\\"info_2_1\\\"]\\n#         ],\\n#         \\\"info_2_1\\\",\\n#     ]\\n#     .value_counts()\\n#     .index.tolist()\\n# )\";\n",
       "                var nbb_formatted_code = \"# # Create specific_roles_list for above popped value\\n# specific_roles_list = (\\n#     df.loc[\\n#         [\\n#             index\\n#             for index in df[df[\\\"info_2_1\\\"].notna()].index\\n#             if \\\"sex\\\" in df.loc[index, \\\"info_2_1\\\"]\\n#         ],\\n#         \\\"info_2_1\\\",\\n#     ]\\n#     .value_counts()\\n#     .index.tolist()\\n# )\";\n",
       "                var nbb_cells = Jupyter.notebook.get_cells();\n",
       "                for (var i = 0; i < nbb_cells.length; ++i) {\n",
       "                    if (nbb_cells[i].input_prompt_number == nbb_cell_id) {\n",
       "                        if (nbb_cells[i].get_text() == nbb_unformatted_code) {\n",
       "                             nbb_cells[i].set_text(nbb_formatted_code);\n",
       "                        }\n",
       "                        break;\n",
       "                    }\n",
       "                }\n",
       "            }, 500);\n",
       "            "
      ],
      "text/plain": [
       "<IPython.core.display.Javascript object>"
      ]
     },
     "metadata": {},
     "output_type": "display_data"
    }
   ],
   "source": [
    "# # Create specific_roles_list for above popped value\n",
    "# specific_roles_list = (\n",
    "#     df.loc[\n",
    "#         [\n",
    "#             index\n",
    "#             for index in df[df[\"info_2_1\"].notna()].index\n",
    "#             if \"sex\" in df.loc[index, \"info_2_1\"]\n",
    "#         ],\n",
    "#         \"info_2_1\",\n",
    "#     ]\n",
    "#     .value_counts()\n",
    "#     .index.tolist()\n",
    "# )"
   ]
  },
  {
   "cell_type": "code",
   "execution_count": 30,
   "id": "04168d90",
   "metadata": {},
   "outputs": [
    {
     "data": {
      "application/javascript": [
       "\n",
       "            setTimeout(function() {\n",
       "                var nbb_cell_id = 30;\n",
       "                var nbb_unformatted_code = \"# # Viewing list sorted by descending length to copy to dictionary below and screen values\\n# sorted(specific_roles_list, key=lambda x: len(x), reverse=True)\";\n",
       "                var nbb_formatted_code = \"# # Viewing list sorted by descending length to copy to dictionary below and screen values\\n# sorted(specific_roles_list, key=lambda x: len(x), reverse=True)\";\n",
       "                var nbb_cells = Jupyter.notebook.get_cells();\n",
       "                for (var i = 0; i < nbb_cells.length; ++i) {\n",
       "                    if (nbb_cells[i].input_prompt_number == nbb_cell_id) {\n",
       "                        if (nbb_cells[i].get_text() == nbb_unformatted_code) {\n",
       "                             nbb_cells[i].set_text(nbb_formatted_code);\n",
       "                        }\n",
       "                        break;\n",
       "                    }\n",
       "                }\n",
       "            }, 500);\n",
       "            "
      ],
      "text/plain": [
       "<IPython.core.display.Javascript object>"
      ]
     },
     "metadata": {},
     "output_type": "display_data"
    }
   ],
   "source": [
    "# # Viewing list sorted by descending length to copy to dictionary below and screen values\n",
    "# sorted(specific_roles_list, key=lambda x: len(x), reverse=True)"
   ]
  },
  {
   "cell_type": "code",
   "execution_count": 31,
   "id": "be2e3da4",
   "metadata": {},
   "outputs": [
    {
     "data": {
      "application/javascript": [
       "\n",
       "            setTimeout(function() {\n",
       "                var nbb_cell_id = 31;\n",
       "                var nbb_unformatted_code = \"# # Example code to quick-check a specific entry\\n# df[df[\\\"info_2_1\\\"] == \\\"sex educator\\\"]\";\n",
       "                var nbb_formatted_code = \"# # Example code to quick-check a specific entry\\n# df[df[\\\"info_2_1\\\"] == \\\"sex educator\\\"]\";\n",
       "                var nbb_cells = Jupyter.notebook.get_cells();\n",
       "                for (var i = 0; i < nbb_cells.length; ++i) {\n",
       "                    if (nbb_cells[i].input_prompt_number == nbb_cell_id) {\n",
       "                        if (nbb_cells[i].get_text() == nbb_unformatted_code) {\n",
       "                             nbb_cells[i].set_text(nbb_formatted_code);\n",
       "                        }\n",
       "                        break;\n",
       "                    }\n",
       "                }\n",
       "            }, 500);\n",
       "            "
      ],
      "text/plain": [
       "<IPython.core.display.Javascript object>"
      ]
     },
     "metadata": {},
     "output_type": "display_data"
    }
   ],
   "source": [
    "# # Example code to quick-check a specific entry\n",
    "# df[df[\"info_2_1\"] == \"sex educator\"]"
   ]
  },
  {
   "cell_type": "markdown",
   "id": "8cfba6f8",
   "metadata": {},
   "source": [
    "#### Creating Lists for Each `known_for` Category"
   ]
  },
  {
   "cell_type": "code",
   "execution_count": 32,
   "id": "d3f5c86f",
   "metadata": {},
   "outputs": [
    {
     "data": {
      "application/javascript": [
       "\n",
       "            setTimeout(function() {\n",
       "                var nbb_cell_id = 32;\n",
       "                var nbb_unformatted_code = \"# Creating lists for each category and sorting by decreasing length and removing duplicates\\n\\npolitics_govt_law = [\\n    \\\"FEMA director\\\",\\n    \\\"the first black federal prosecutor in history\\\",\\n    \\\"of the Communist Party of Great\\\",\\n    \\\"co founder of the Crips turned anti gang activist\\\",\\n    \\\"environmental activist with Friends of the Earth\\\",\\n    \\\"political activist; former wife of Charles Vidor\\\",\\n    \\\"jailed Tiananmen Square democracy activist\\\",\\n    \\\"peace activist with War Resisters League\\\",\\n    \\\"anti caste discrimination activist\\\",\\n    \\\"activist in the peace movement\\\",\\n    \\\"nuclear disarmament activist\\\",\\n    \\\"Muslim women rights activist\\\",\\n    \\\"anti death penalty activist\\\",\\n    \\\"transgender rights activist\\\",\\n    \\\"anti nuclear power activist\\\",\\n    \\\"indigenous affairs activist\\\",\\n    \\\"alternative energy activist\\\",\\n    \\\"voter registration activist\\\",\\n    \\\"disability rights activist\\\",\\n    \\\"indigenous rights activist\\\",\\n    \\\"anti pornography activist\\\",\\n    \\\"pro independence activist\\\",\\n    \\\"Jewish community activist\\\",\\n    \\\"early gay rights activist\\\",\\n    \\\"anti consumerism activist\\\",\\n    \\\"Rural Solidarity activist\\\",\\n    \\\"civil liberties activist\\\",\\n    \\\"prisoner rights activist\\\",\\n    \\\"veteran affairs activist\\\",\\n    \\\"ex gay movement activist\\\",\\n    \\\"consumer rights activist\\\",\\n    \\\"family planning activist\\\",\\n    \\\"gender equality activist\\\",\\n    \\\"anti apartheid activist\\\",\\n    \\\"anti Apartheid activist\\\",\\n    \\\"sustainability activist\\\",\\n    \\\"M\\u0101ori language activist\\\",\\n    \\\"pro euthanasia activist\\\",\\n    \\\"lesbian rights activist\\\",\\n    \\\"a civil rights activist\\\",\\n    \\\"social justice activist\\\",\\n    \\\"anti communism activist\\\",\\n    \\\"environmental activist\\\",\\n    \\\"anti abortion activist\\\",\\n    \\\"animal rights activist\\\",\\n    \\\"Romani people activist\\\",\\n    \\\"anti poaching activist\\\",\\n    \\\"tribal rights activist\\\",\\n    \\\"Native rights activist\\\",\\n    \\\"prison reform activist\\\",\\n    \\\"voting rights activist\\\",\\n    \\\"Romani rights activist\\\",\\n    \\\"pro democracy activist\\\",\\n    \\\"civil rights activist\\\",\\n    \\\"human rights activist\\\",\\n    \\\"women rights activist\\\",\\n    \\\"independence activist\\\",\\n    \\\"anti nuclear activist\\\",\\n    \\\"arms control activist\\\",\\n    \\\"right to die activist\\\",\\n    \\\"anti Kremlin activist\\\",\\n    \\\"anti fascist activist\\\",\\n    \\\"conservative activist\\\",\\n    \\\"anti alcohol activist\\\",\\n    \\\"trans rights activist\\\",\\n    \\\"anti suicide activist\\\",\\n    \\\"transvestite activist\\\",\\n    \\\"a Trotskyist activist\\\",\\n    \\\"political activist in\\\",\\n    \\\"tuberculosis activist\\\",\\n    \\\"LGBT rights activist\\\",\\n    \\\"free speech activist\\\",\\n    \\\"trade union activist\\\",\\n    \\\"anti police activist\\\",\\n    \\\"transgender activist\\\",\\n    \\\"gay rights activist\\\",\\n    \\\"anti junta activist\\\",\\n    \\\"euthanasia activist\\\",\\n    \\\"resistance activist\\\",\\n    \\\"gun rights activist\\\",\\n    \\\"men rights activist\\\",\\n    \\\"indigenous activist\\\",\\n    \\\"activist for Jewish\\\",\\n    \\\"disability activist\\\",\\n    \\\"Trotskyist activist\\\",\\n    \\\"political activist\\\",\\n    \\\"community activist\\\",\\n    \\\"communist activist\\\",\\n    \\\"democracy activist\\\",\\n    \\\"paralysis activist\\\",\\n    \\\"HIV AIDS activists\\\",\\n    \\\"nutrition activist\\\",\\n    \\\"anti war activist\\\",\\n    \\\"cultural activist\\\",\\n    \\\"feminist activist\\\",\\n    \\\"anti gay activist\\\",\\n    \\\"Buddhist activist\\\",\\n    \\\"taxpayer activist\\\",\\n    \\\"maritime activist\\\",\\n    \\\"pro life activist\\\",\\n    \\\"activist of birth\\\",\\n    \\\"peace activist in\\\",\\n    \\\"intersex activist\\\",\\n    \\\"internet activist\\\",\\n    \\\"language activist\\\",\\n    \\\"student activist\\\",\\n    \\\"social activists\\\",\\n    \\\"freedom activist\\\",\\n    \\\"atheist activist\\\",\\n    \\\"antiwar activist\\\",\\n    \\\"social activist\\\",\\n    \\\"Jewish activist\\\",\\n    \\\"Romani activist\\\",\\n    \\\"rights activist\\\",\\n    \\\"church activist\\\",\\n    \\\"peace activist\\\",\\n    \\\"civic activist\\\",\\n    \\\"labor activist\\\",\\n    \\\"women activist\\\",\\n    \\\"trans activist\\\",\\n    \\\"union activist\\\",\\n    \\\"LGBTQ activist\\\",\\n    \\\"LGBT activist\\\",\\n    \\\"AIDS activist\\\",\\n    \\\"PZPR activist\\\",\\n    \\\"anti activist\\\",\\n    \\\"Roma activist\\\",\\n    \\\"BDSM activist\\\",\\n    \\\"gay activist\\\",\\n    \\\"HIV activist\\\",\\n    \\\"PEN activist\\\",\\n    \\\"Neo activist\\\",\\n    \\\"activist\\\",\\n    \\\"advocate for education reform\\\",\\n    \\\"sexual education advocate\\\",\\n]\\npolitics_govt_law = sorted(\\n    list(set(politics_govt_law)), key=lambda x: len(x), reverse=True\\n)\\n\\narts = [\\n    \\\"author\\\",\\n    \\\"actor\\\",\\n    'composer known as \\\"Boule Noire\\\"',\\n    \\\"wife of composer Henry Cowell\\\",\\n    \\\"composer of radio jingles\\\",\\n    \\\"composer in classical\\\",\\n    \\\"television composer\\\",\\n    \\\"bolero composer\\\",\\n    \\\"choral composer\\\",\\n    \\\"composer from\\\",\\n    \\\"R&B composer\\\",\\n    \\\"producer of pornographic movies\\\",\\n    \\\"producer for television\\\",\\n    \\\"theatrical producer of\\\",\\n    \\\"entertainment producer\\\",\\n    \\\"television producer\\\",\\n    \\\"theatrical producer\\\",\\n    \\\"producer impresario\\\",\\n    \\\"R&B record producer\\\",\\n    \\\"dancehall producer\\\",\\n    \\\"Broadway producer\\\",\\n    \\\"ceremony producer\\\",\\n    \\\"producer for and\\\",\\n    \\\"record producer\\\",\\n    \\\"radio producer\\\",\\n    \\\"movie producer\\\",\\n    \\\"house producer\\\",\\n    \\\"media producer\\\",\\n    \\\"BBC producer\\\",\\n    \\\"TV producer\\\",\\n    \\\"producer\\\",\\n    \\\"Pulitzer Prize winning poet\\\",\\n    \\\"former poet laureate\\\",\\n    \\\"existentialist poet\\\",\\n    \\\"poetry translator\\\",\\n    \\\"humorist poet of\\\",\\n    \\\"spoken word poet\\\",\\n    \\\"surrealist poet\\\",\\n    \\\"poetry promoter\\\",\\n    \\\"poetry\\\",\\n    \\\"poet\\\",\\n    \\\"founding general director of Michigan Opera Theatre\\\",\\n    \\\"artistic director of the Melbourne Theatre Company\\\",\\n    \\\"director of the Willie Clancy Summer School\\\",\\n    \\\"artistic director of Ballet\\\",\\n    \\\"television director winner\\\",\\n    \\\"director of the City Opera\\\",\\n    \\\"television news director\\\",\\n    \\\"director of photography\\\",\\n    \\\"second unit director\\\",\\n    \\\"television director\\\",\\n    \\\"director general of\\\",\\n    \\\"director of dubbing\\\",\\n    \\\"animation director\\\",\\n    \\\"newspaper director\\\",\\n    \\\"assistant director\\\",\\n    \\\"roll tour director\\\",\\n    \\\"programme director\\\",\\n    \\\"executive director\\\",\\n    \\\"artistic director\\\",\\n    \\\"festival director\\\",\\n    \\\"creative director\\\",\\n    \\\"director of plays\\\",\\n    \\\"casting director\\\",\\n    \\\"gallery director\\\",\\n    \\\"dubbing director\\\",\\n    \\\"concert director\\\",\\n    \\\"choral director\\\",\\n    \\\"ballet director\\\",\\n    \\\"circus director\\\",\\n    \\\"stage director\\\",\\n    \\\"opera director\\\",\\n    \\\"stunt director\\\",\\n    \\\"choir director\\\",\\n    \\\"radio director\\\",\\n    \\\"media director\\\",\\n    \\\"video director\\\",\\n    \\\"movie director\\\",\\n    \\\"sound director\\\",\\n    \\\"news director\\\",\\n    \\\"art director\\\",\\n    \\\"TV director\\\",\\n    \\\"a director\\\",\\n    \\\"comedian Saturday Night Live\\\",\\n    \\\"stand up comedian\\\",\\n    \\\"comedian\\\",\\n]\\narts = sorted(list(set(arts)), key=lambda x: len(x), reverse=True)\\n\\nsports = [\\n    \\\"chess composer\\\",\\n    \\\"director of the Tour de\\\",\\n    \\\"athletic director\\\",\\n    \\\"sporting director\\\",\\n    \\\"race director\\\",\\n    \\\"second highest scorer in Iowa State University history\\\",\\n]\\nsports = sorted(list(set(sports)), key=lambda x: len(x), reverse=True)\\n\\nsciences = [\\n    \\\"former director of Oak Ridge National Laboratory\\\",\\n    \\\"former director of SLAC\\\",\\n    \\\"director of the Fish\\\",\\n    \\\"research director\\\",\\n]\\nsciences = sorted(list(set(sciences)), key=lambda x: len(x), reverse=True)\\n\\nbusiness_farming = [\\n    \\\"businessman best known for rescuing Howard Hughes in plane crash\\\",\\n    \\\"business support executive\\\",\\n    \\\"business\\\",\\n    \\\"business consultant\\\",\\n    \\\"business executive\\\",\\n    \\\"business magnate\\\",\\n    \\\"business leader\\\",\\n    \\\"business tycoon\\\",\\n    \\\"businessperson\\\",\\n    \\\"business owner\\\",\\n    \\\"businesswoman\\\",\\n    \\\"business man\\\",\\n    \\\"businessman\\\",\\n    \\\"managing director of Lego\\\",\\n    \\\"corporate director\\\",\\n    \\\"company director\\\",\\n]\\nbusiness_farming = sorted(\\n    list(set(business_farming)), key=lambda x: len(x), reverse=True\\n)\\n\\nacademia_humanities = [\\n    \\\"the founding director of the Maritime Museum of the Atlantic\\\",\\n    \\\"archaeologist who was director of the Museum of\\\",\\n    \\\"director of the Advanced Placement Program\\\",\\n    \\\"library director\\\",\\n    \\\"museum director\\\",\\n    \\\"historian at Columbia University\\\",\\n    \\\"an expert on the history of medieval\\\",\\n    \\\"historian of the Manhattan Project\\\",\\n    \\\"Pulitzer Prize winning historian\\\",\\n    \\\"preserver of historic buildings\\\",\\n    \\\"Himalayan expedition historian\\\",\\n    \\\"professor emeritus of history\\\",\\n    \\\"historian of Latin studies\\\",\\n    \\\"historic preservationist\\\",\\n    \\\"architectural historian\\\",\\n    \\\"historian of philosophy\\\",\\n    \\\"historian of the Nation\\\",\\n    \\\"historical revisionist\\\",\\n    \\\"intellectual historian\\\",\\n    \\\"Osage Nation historian\\\",\\n    \\\"deaf culture historian\\\",\\n    \\\"revisionist historian\\\",\\n    \\\"world fair historian\\\",\\n    \\\"historian of\\\",\\n    \\\"Wyatt Earp historian\\\",\\n    \\\"literary historian\\\",\\n    \\\"historian of ideas\\\",\\n    \\\"research historian\\\",\\n    \\\"printing historian\\\",\\n    \\\"cultural historian\\\",\\n    \\\"railroad historian\\\",\\n    \\\"history professor\\\",\\n    \\\"ancient historian\\\",\\n    \\\"kitchen historian\\\",\\n    \\\"railway historian\\\",\\n    \\\"social historian\\\",\\n    \\\"apple historian\\\",\\n    \\\"psychohistorian\\\",\\n    \\\"local historian\\\",\\n    \\\"dress historian\\\",\\n    \\\"oral historian\\\",\\n    \\\"art historian\\\",\\n    \\\"pre historian\\\",\\n    \\\"prehistorian\\\",\\n    \\\"historian of\\\",\\n    \\\"art history\\\",\\n    \\\"historian\\\",\\n    \\\"on education topics\\\",\\n    \\\"advocate for women education\\\",\\n    \\\"education worker in Eastern\\\",\\n    \\\"educational administrator\\\",\\n    \\\"early childhood educator\\\",\\n    \\\"educational consultant\\\",\\n    \\\"education proponent\\\",\\n    \\\"Holocaust educator\\\",\\n    \\\"education official\\\",\\n    \\\"educational leader\\\",\\n    \\\"educationalist\\\",\\n    \\\"FAMU educator\\\",\\n    \\\"educationist\\\",\\n    \\\"educator\\\",\\n]\\nacademia_humanities = sorted(\\n    list(set(academia_humanities)), key=lambda x: len(x), reverse=True\\n)\\n\\nlaw_enf_military_operator = [\\n    \\\"director of the National Security Agency\\\",\\n    \\\"director of the Mossad\\\",\\n    \\\"director of the FBI\\\",\\n    \\\"of the most decorated women in military history\\\",\\n]\\nlaw_enf_military_operator = sorted(\\n    list(set(law_enf_military_operator)), key=lambda x: len(x), reverse=True\\n)\\n\\nspiritual = []\\nspiritual = sorted(list(set(spiritual)), key=lambda x: len(x), reverse=True)\\n\\nsocial = [\\n    \\\"philanthropist\\\",\\n    \\\"wonen health educator\\\",\\n    \\\"AIDS educator\\\",\\n]\\nsocial = sorted(list(set(social)), key=lambda x: len(x), reverse=True)\\n\\ncrime = []\\ncrime = sorted(list(set(crime)), key=lambda x: len(x), reverse=True)\\n\\nevent_record_other = [\\n    \\\"the oldest person ever documented in history\\\",\\n]\\nevent_record_other = sorted(\\n    list(set(event_record_other)), key=lambda x: len(x), reverse=True\\n)\\n\\nother_species = []\\nother_species = sorted(list(set(other_species)), key=lambda x: len(x), reverse=True)\";\n",
       "                var nbb_formatted_code = \"# Creating lists for each category and sorting by decreasing length and removing duplicates\\n\\npolitics_govt_law = [\\n    \\\"FEMA director\\\",\\n    \\\"the first black federal prosecutor in history\\\",\\n    \\\"of the Communist Party of Great\\\",\\n    \\\"co founder of the Crips turned anti gang activist\\\",\\n    \\\"environmental activist with Friends of the Earth\\\",\\n    \\\"political activist; former wife of Charles Vidor\\\",\\n    \\\"jailed Tiananmen Square democracy activist\\\",\\n    \\\"peace activist with War Resisters League\\\",\\n    \\\"anti caste discrimination activist\\\",\\n    \\\"activist in the peace movement\\\",\\n    \\\"nuclear disarmament activist\\\",\\n    \\\"Muslim women rights activist\\\",\\n    \\\"anti death penalty activist\\\",\\n    \\\"transgender rights activist\\\",\\n    \\\"anti nuclear power activist\\\",\\n    \\\"indigenous affairs activist\\\",\\n    \\\"alternative energy activist\\\",\\n    \\\"voter registration activist\\\",\\n    \\\"disability rights activist\\\",\\n    \\\"indigenous rights activist\\\",\\n    \\\"anti pornography activist\\\",\\n    \\\"pro independence activist\\\",\\n    \\\"Jewish community activist\\\",\\n    \\\"early gay rights activist\\\",\\n    \\\"anti consumerism activist\\\",\\n    \\\"Rural Solidarity activist\\\",\\n    \\\"civil liberties activist\\\",\\n    \\\"prisoner rights activist\\\",\\n    \\\"veteran affairs activist\\\",\\n    \\\"ex gay movement activist\\\",\\n    \\\"consumer rights activist\\\",\\n    \\\"family planning activist\\\",\\n    \\\"gender equality activist\\\",\\n    \\\"anti apartheid activist\\\",\\n    \\\"anti Apartheid activist\\\",\\n    \\\"sustainability activist\\\",\\n    \\\"M\\u0101ori language activist\\\",\\n    \\\"pro euthanasia activist\\\",\\n    \\\"lesbian rights activist\\\",\\n    \\\"a civil rights activist\\\",\\n    \\\"social justice activist\\\",\\n    \\\"anti communism activist\\\",\\n    \\\"environmental activist\\\",\\n    \\\"anti abortion activist\\\",\\n    \\\"animal rights activist\\\",\\n    \\\"Romani people activist\\\",\\n    \\\"anti poaching activist\\\",\\n    \\\"tribal rights activist\\\",\\n    \\\"Native rights activist\\\",\\n    \\\"prison reform activist\\\",\\n    \\\"voting rights activist\\\",\\n    \\\"Romani rights activist\\\",\\n    \\\"pro democracy activist\\\",\\n    \\\"civil rights activist\\\",\\n    \\\"human rights activist\\\",\\n    \\\"women rights activist\\\",\\n    \\\"independence activist\\\",\\n    \\\"anti nuclear activist\\\",\\n    \\\"arms control activist\\\",\\n    \\\"right to die activist\\\",\\n    \\\"anti Kremlin activist\\\",\\n    \\\"anti fascist activist\\\",\\n    \\\"conservative activist\\\",\\n    \\\"anti alcohol activist\\\",\\n    \\\"trans rights activist\\\",\\n    \\\"anti suicide activist\\\",\\n    \\\"transvestite activist\\\",\\n    \\\"a Trotskyist activist\\\",\\n    \\\"political activist in\\\",\\n    \\\"tuberculosis activist\\\",\\n    \\\"LGBT rights activist\\\",\\n    \\\"free speech activist\\\",\\n    \\\"trade union activist\\\",\\n    \\\"anti police activist\\\",\\n    \\\"transgender activist\\\",\\n    \\\"gay rights activist\\\",\\n    \\\"anti junta activist\\\",\\n    \\\"euthanasia activist\\\",\\n    \\\"resistance activist\\\",\\n    \\\"gun rights activist\\\",\\n    \\\"men rights activist\\\",\\n    \\\"indigenous activist\\\",\\n    \\\"activist for Jewish\\\",\\n    \\\"disability activist\\\",\\n    \\\"Trotskyist activist\\\",\\n    \\\"political activist\\\",\\n    \\\"community activist\\\",\\n    \\\"communist activist\\\",\\n    \\\"democracy activist\\\",\\n    \\\"paralysis activist\\\",\\n    \\\"HIV AIDS activists\\\",\\n    \\\"nutrition activist\\\",\\n    \\\"anti war activist\\\",\\n    \\\"cultural activist\\\",\\n    \\\"feminist activist\\\",\\n    \\\"anti gay activist\\\",\\n    \\\"Buddhist activist\\\",\\n    \\\"taxpayer activist\\\",\\n    \\\"maritime activist\\\",\\n    \\\"pro life activist\\\",\\n    \\\"activist of birth\\\",\\n    \\\"peace activist in\\\",\\n    \\\"intersex activist\\\",\\n    \\\"internet activist\\\",\\n    \\\"language activist\\\",\\n    \\\"student activist\\\",\\n    \\\"social activists\\\",\\n    \\\"freedom activist\\\",\\n    \\\"atheist activist\\\",\\n    \\\"antiwar activist\\\",\\n    \\\"social activist\\\",\\n    \\\"Jewish activist\\\",\\n    \\\"Romani activist\\\",\\n    \\\"rights activist\\\",\\n    \\\"church activist\\\",\\n    \\\"peace activist\\\",\\n    \\\"civic activist\\\",\\n    \\\"labor activist\\\",\\n    \\\"women activist\\\",\\n    \\\"trans activist\\\",\\n    \\\"union activist\\\",\\n    \\\"LGBTQ activist\\\",\\n    \\\"LGBT activist\\\",\\n    \\\"AIDS activist\\\",\\n    \\\"PZPR activist\\\",\\n    \\\"anti activist\\\",\\n    \\\"Roma activist\\\",\\n    \\\"BDSM activist\\\",\\n    \\\"gay activist\\\",\\n    \\\"HIV activist\\\",\\n    \\\"PEN activist\\\",\\n    \\\"Neo activist\\\",\\n    \\\"activist\\\",\\n    \\\"advocate for education reform\\\",\\n    \\\"sexual education advocate\\\",\\n]\\npolitics_govt_law = sorted(\\n    list(set(politics_govt_law)), key=lambda x: len(x), reverse=True\\n)\\n\\narts = [\\n    \\\"author\\\",\\n    \\\"actor\\\",\\n    'composer known as \\\"Boule Noire\\\"',\\n    \\\"wife of composer Henry Cowell\\\",\\n    \\\"composer of radio jingles\\\",\\n    \\\"composer in classical\\\",\\n    \\\"television composer\\\",\\n    \\\"bolero composer\\\",\\n    \\\"choral composer\\\",\\n    \\\"composer from\\\",\\n    \\\"R&B composer\\\",\\n    \\\"producer of pornographic movies\\\",\\n    \\\"producer for television\\\",\\n    \\\"theatrical producer of\\\",\\n    \\\"entertainment producer\\\",\\n    \\\"television producer\\\",\\n    \\\"theatrical producer\\\",\\n    \\\"producer impresario\\\",\\n    \\\"R&B record producer\\\",\\n    \\\"dancehall producer\\\",\\n    \\\"Broadway producer\\\",\\n    \\\"ceremony producer\\\",\\n    \\\"producer for and\\\",\\n    \\\"record producer\\\",\\n    \\\"radio producer\\\",\\n    \\\"movie producer\\\",\\n    \\\"house producer\\\",\\n    \\\"media producer\\\",\\n    \\\"BBC producer\\\",\\n    \\\"TV producer\\\",\\n    \\\"producer\\\",\\n    \\\"Pulitzer Prize winning poet\\\",\\n    \\\"former poet laureate\\\",\\n    \\\"existentialist poet\\\",\\n    \\\"poetry translator\\\",\\n    \\\"humorist poet of\\\",\\n    \\\"spoken word poet\\\",\\n    \\\"surrealist poet\\\",\\n    \\\"poetry promoter\\\",\\n    \\\"poetry\\\",\\n    \\\"poet\\\",\\n    \\\"founding general director of Michigan Opera Theatre\\\",\\n    \\\"artistic director of the Melbourne Theatre Company\\\",\\n    \\\"director of the Willie Clancy Summer School\\\",\\n    \\\"artistic director of Ballet\\\",\\n    \\\"television director winner\\\",\\n    \\\"director of the City Opera\\\",\\n    \\\"television news director\\\",\\n    \\\"director of photography\\\",\\n    \\\"second unit director\\\",\\n    \\\"television director\\\",\\n    \\\"director general of\\\",\\n    \\\"director of dubbing\\\",\\n    \\\"animation director\\\",\\n    \\\"newspaper director\\\",\\n    \\\"assistant director\\\",\\n    \\\"roll tour director\\\",\\n    \\\"programme director\\\",\\n    \\\"executive director\\\",\\n    \\\"artistic director\\\",\\n    \\\"festival director\\\",\\n    \\\"creative director\\\",\\n    \\\"director of plays\\\",\\n    \\\"casting director\\\",\\n    \\\"gallery director\\\",\\n    \\\"dubbing director\\\",\\n    \\\"concert director\\\",\\n    \\\"choral director\\\",\\n    \\\"ballet director\\\",\\n    \\\"circus director\\\",\\n    \\\"stage director\\\",\\n    \\\"opera director\\\",\\n    \\\"stunt director\\\",\\n    \\\"choir director\\\",\\n    \\\"radio director\\\",\\n    \\\"media director\\\",\\n    \\\"video director\\\",\\n    \\\"movie director\\\",\\n    \\\"sound director\\\",\\n    \\\"news director\\\",\\n    \\\"art director\\\",\\n    \\\"TV director\\\",\\n    \\\"a director\\\",\\n    \\\"comedian Saturday Night Live\\\",\\n    \\\"stand up comedian\\\",\\n    \\\"comedian\\\",\\n]\\narts = sorted(list(set(arts)), key=lambda x: len(x), reverse=True)\\n\\nsports = [\\n    \\\"chess composer\\\",\\n    \\\"director of the Tour de\\\",\\n    \\\"athletic director\\\",\\n    \\\"sporting director\\\",\\n    \\\"race director\\\",\\n    \\\"second highest scorer in Iowa State University history\\\",\\n]\\nsports = sorted(list(set(sports)), key=lambda x: len(x), reverse=True)\\n\\nsciences = [\\n    \\\"former director of Oak Ridge National Laboratory\\\",\\n    \\\"former director of SLAC\\\",\\n    \\\"director of the Fish\\\",\\n    \\\"research director\\\",\\n]\\nsciences = sorted(list(set(sciences)), key=lambda x: len(x), reverse=True)\\n\\nbusiness_farming = [\\n    \\\"businessman best known for rescuing Howard Hughes in plane crash\\\",\\n    \\\"business support executive\\\",\\n    \\\"business\\\",\\n    \\\"business consultant\\\",\\n    \\\"business executive\\\",\\n    \\\"business magnate\\\",\\n    \\\"business leader\\\",\\n    \\\"business tycoon\\\",\\n    \\\"businessperson\\\",\\n    \\\"business owner\\\",\\n    \\\"businesswoman\\\",\\n    \\\"business man\\\",\\n    \\\"businessman\\\",\\n    \\\"managing director of Lego\\\",\\n    \\\"corporate director\\\",\\n    \\\"company director\\\",\\n]\\nbusiness_farming = sorted(\\n    list(set(business_farming)), key=lambda x: len(x), reverse=True\\n)\\n\\nacademia_humanities = [\\n    \\\"the founding director of the Maritime Museum of the Atlantic\\\",\\n    \\\"archaeologist who was director of the Museum of\\\",\\n    \\\"director of the Advanced Placement Program\\\",\\n    \\\"library director\\\",\\n    \\\"museum director\\\",\\n    \\\"historian at Columbia University\\\",\\n    \\\"an expert on the history of medieval\\\",\\n    \\\"historian of the Manhattan Project\\\",\\n    \\\"Pulitzer Prize winning historian\\\",\\n    \\\"preserver of historic buildings\\\",\\n    \\\"Himalayan expedition historian\\\",\\n    \\\"professor emeritus of history\\\",\\n    \\\"historian of Latin studies\\\",\\n    \\\"historic preservationist\\\",\\n    \\\"architectural historian\\\",\\n    \\\"historian of philosophy\\\",\\n    \\\"historian of the Nation\\\",\\n    \\\"historical revisionist\\\",\\n    \\\"intellectual historian\\\",\\n    \\\"Osage Nation historian\\\",\\n    \\\"deaf culture historian\\\",\\n    \\\"revisionist historian\\\",\\n    \\\"world fair historian\\\",\\n    \\\"historian of\\\",\\n    \\\"Wyatt Earp historian\\\",\\n    \\\"literary historian\\\",\\n    \\\"historian of ideas\\\",\\n    \\\"research historian\\\",\\n    \\\"printing historian\\\",\\n    \\\"cultural historian\\\",\\n    \\\"railroad historian\\\",\\n    \\\"history professor\\\",\\n    \\\"ancient historian\\\",\\n    \\\"kitchen historian\\\",\\n    \\\"railway historian\\\",\\n    \\\"social historian\\\",\\n    \\\"apple historian\\\",\\n    \\\"psychohistorian\\\",\\n    \\\"local historian\\\",\\n    \\\"dress historian\\\",\\n    \\\"oral historian\\\",\\n    \\\"art historian\\\",\\n    \\\"pre historian\\\",\\n    \\\"prehistorian\\\",\\n    \\\"historian of\\\",\\n    \\\"art history\\\",\\n    \\\"historian\\\",\\n    \\\"on education topics\\\",\\n    \\\"advocate for women education\\\",\\n    \\\"education worker in Eastern\\\",\\n    \\\"educational administrator\\\",\\n    \\\"early childhood educator\\\",\\n    \\\"educational consultant\\\",\\n    \\\"education proponent\\\",\\n    \\\"Holocaust educator\\\",\\n    \\\"education official\\\",\\n    \\\"educational leader\\\",\\n    \\\"educationalist\\\",\\n    \\\"FAMU educator\\\",\\n    \\\"educationist\\\",\\n    \\\"educator\\\",\\n]\\nacademia_humanities = sorted(\\n    list(set(academia_humanities)), key=lambda x: len(x), reverse=True\\n)\\n\\nlaw_enf_military_operator = [\\n    \\\"director of the National Security Agency\\\",\\n    \\\"director of the Mossad\\\",\\n    \\\"director of the FBI\\\",\\n    \\\"of the most decorated women in military history\\\",\\n]\\nlaw_enf_military_operator = sorted(\\n    list(set(law_enf_military_operator)), key=lambda x: len(x), reverse=True\\n)\\n\\nspiritual = []\\nspiritual = sorted(list(set(spiritual)), key=lambda x: len(x), reverse=True)\\n\\nsocial = [\\n    \\\"philanthropist\\\",\\n    \\\"wonen health educator\\\",\\n    \\\"AIDS educator\\\",\\n]\\nsocial = sorted(list(set(social)), key=lambda x: len(x), reverse=True)\\n\\ncrime = []\\ncrime = sorted(list(set(crime)), key=lambda x: len(x), reverse=True)\\n\\nevent_record_other = [\\n    \\\"the oldest person ever documented in history\\\",\\n]\\nevent_record_other = sorted(\\n    list(set(event_record_other)), key=lambda x: len(x), reverse=True\\n)\\n\\nother_species = []\\nother_species = sorted(list(set(other_species)), key=lambda x: len(x), reverse=True)\";\n",
       "                var nbb_cells = Jupyter.notebook.get_cells();\n",
       "                for (var i = 0; i < nbb_cells.length; ++i) {\n",
       "                    if (nbb_cells[i].input_prompt_number == nbb_cell_id) {\n",
       "                        if (nbb_cells[i].get_text() == nbb_unformatted_code) {\n",
       "                             nbb_cells[i].set_text(nbb_formatted_code);\n",
       "                        }\n",
       "                        break;\n",
       "                    }\n",
       "                }\n",
       "            }, 500);\n",
       "            "
      ],
      "text/plain": [
       "<IPython.core.display.Javascript object>"
      ]
     },
     "metadata": {},
     "output_type": "display_data"
    }
   ],
   "source": [
    "# Creating lists for each category and sorting by decreasing length and removing duplicates\n",
    "\n",
    "politics_govt_law = [\n",
    "    \"FEMA director\",\n",
    "    \"the first black federal prosecutor in history\",\n",
    "    \"of the Communist Party of Great\",\n",
    "    \"co founder of the Crips turned anti gang activist\",\n",
    "    \"environmental activist with Friends of the Earth\",\n",
    "    \"political activist; former wife of Charles Vidor\",\n",
    "    \"jailed Tiananmen Square democracy activist\",\n",
    "    \"peace activist with War Resisters League\",\n",
    "    \"anti caste discrimination activist\",\n",
    "    \"activist in the peace movement\",\n",
    "    \"nuclear disarmament activist\",\n",
    "    \"Muslim women rights activist\",\n",
    "    \"anti death penalty activist\",\n",
    "    \"transgender rights activist\",\n",
    "    \"anti nuclear power activist\",\n",
    "    \"indigenous affairs activist\",\n",
    "    \"alternative energy activist\",\n",
    "    \"voter registration activist\",\n",
    "    \"disability rights activist\",\n",
    "    \"indigenous rights activist\",\n",
    "    \"anti pornography activist\",\n",
    "    \"pro independence activist\",\n",
    "    \"Jewish community activist\",\n",
    "    \"early gay rights activist\",\n",
    "    \"anti consumerism activist\",\n",
    "    \"Rural Solidarity activist\",\n",
    "    \"civil liberties activist\",\n",
    "    \"prisoner rights activist\",\n",
    "    \"veteran affairs activist\",\n",
    "    \"ex gay movement activist\",\n",
    "    \"consumer rights activist\",\n",
    "    \"family planning activist\",\n",
    "    \"gender equality activist\",\n",
    "    \"anti apartheid activist\",\n",
    "    \"anti Apartheid activist\",\n",
    "    \"sustainability activist\",\n",
    "    \"Māori language activist\",\n",
    "    \"pro euthanasia activist\",\n",
    "    \"lesbian rights activist\",\n",
    "    \"a civil rights activist\",\n",
    "    \"social justice activist\",\n",
    "    \"anti communism activist\",\n",
    "    \"environmental activist\",\n",
    "    \"anti abortion activist\",\n",
    "    \"animal rights activist\",\n",
    "    \"Romani people activist\",\n",
    "    \"anti poaching activist\",\n",
    "    \"tribal rights activist\",\n",
    "    \"Native rights activist\",\n",
    "    \"prison reform activist\",\n",
    "    \"voting rights activist\",\n",
    "    \"Romani rights activist\",\n",
    "    \"pro democracy activist\",\n",
    "    \"civil rights activist\",\n",
    "    \"human rights activist\",\n",
    "    \"women rights activist\",\n",
    "    \"independence activist\",\n",
    "    \"anti nuclear activist\",\n",
    "    \"arms control activist\",\n",
    "    \"right to die activist\",\n",
    "    \"anti Kremlin activist\",\n",
    "    \"anti fascist activist\",\n",
    "    \"conservative activist\",\n",
    "    \"anti alcohol activist\",\n",
    "    \"trans rights activist\",\n",
    "    \"anti suicide activist\",\n",
    "    \"transvestite activist\",\n",
    "    \"a Trotskyist activist\",\n",
    "    \"political activist in\",\n",
    "    \"tuberculosis activist\",\n",
    "    \"LGBT rights activist\",\n",
    "    \"free speech activist\",\n",
    "    \"trade union activist\",\n",
    "    \"anti police activist\",\n",
    "    \"transgender activist\",\n",
    "    \"gay rights activist\",\n",
    "    \"anti junta activist\",\n",
    "    \"euthanasia activist\",\n",
    "    \"resistance activist\",\n",
    "    \"gun rights activist\",\n",
    "    \"men rights activist\",\n",
    "    \"indigenous activist\",\n",
    "    \"activist for Jewish\",\n",
    "    \"disability activist\",\n",
    "    \"Trotskyist activist\",\n",
    "    \"political activist\",\n",
    "    \"community activist\",\n",
    "    \"communist activist\",\n",
    "    \"democracy activist\",\n",
    "    \"paralysis activist\",\n",
    "    \"HIV AIDS activists\",\n",
    "    \"nutrition activist\",\n",
    "    \"anti war activist\",\n",
    "    \"cultural activist\",\n",
    "    \"feminist activist\",\n",
    "    \"anti gay activist\",\n",
    "    \"Buddhist activist\",\n",
    "    \"taxpayer activist\",\n",
    "    \"maritime activist\",\n",
    "    \"pro life activist\",\n",
    "    \"activist of birth\",\n",
    "    \"peace activist in\",\n",
    "    \"intersex activist\",\n",
    "    \"internet activist\",\n",
    "    \"language activist\",\n",
    "    \"student activist\",\n",
    "    \"social activists\",\n",
    "    \"freedom activist\",\n",
    "    \"atheist activist\",\n",
    "    \"antiwar activist\",\n",
    "    \"social activist\",\n",
    "    \"Jewish activist\",\n",
    "    \"Romani activist\",\n",
    "    \"rights activist\",\n",
    "    \"church activist\",\n",
    "    \"peace activist\",\n",
    "    \"civic activist\",\n",
    "    \"labor activist\",\n",
    "    \"women activist\",\n",
    "    \"trans activist\",\n",
    "    \"union activist\",\n",
    "    \"LGBTQ activist\",\n",
    "    \"LGBT activist\",\n",
    "    \"AIDS activist\",\n",
    "    \"PZPR activist\",\n",
    "    \"anti activist\",\n",
    "    \"Roma activist\",\n",
    "    \"BDSM activist\",\n",
    "    \"gay activist\",\n",
    "    \"HIV activist\",\n",
    "    \"PEN activist\",\n",
    "    \"Neo activist\",\n",
    "    \"activist\",\n",
    "    \"advocate for education reform\",\n",
    "    \"sexual education advocate\",\n",
    "]\n",
    "politics_govt_law = sorted(\n",
    "    list(set(politics_govt_law)), key=lambda x: len(x), reverse=True\n",
    ")\n",
    "\n",
    "arts = [\n",
    "    \"author\",\n",
    "    \"actor\",\n",
    "    'composer known as \"Boule Noire\"',\n",
    "    \"wife of composer Henry Cowell\",\n",
    "    \"composer of radio jingles\",\n",
    "    \"composer in classical\",\n",
    "    \"television composer\",\n",
    "    \"bolero composer\",\n",
    "    \"choral composer\",\n",
    "    \"composer from\",\n",
    "    \"R&B composer\",\n",
    "    \"producer of pornographic movies\",\n",
    "    \"producer for television\",\n",
    "    \"theatrical producer of\",\n",
    "    \"entertainment producer\",\n",
    "    \"television producer\",\n",
    "    \"theatrical producer\",\n",
    "    \"producer impresario\",\n",
    "    \"R&B record producer\",\n",
    "    \"dancehall producer\",\n",
    "    \"Broadway producer\",\n",
    "    \"ceremony producer\",\n",
    "    \"producer for and\",\n",
    "    \"record producer\",\n",
    "    \"radio producer\",\n",
    "    \"movie producer\",\n",
    "    \"house producer\",\n",
    "    \"media producer\",\n",
    "    \"BBC producer\",\n",
    "    \"TV producer\",\n",
    "    \"producer\",\n",
    "    \"Pulitzer Prize winning poet\",\n",
    "    \"former poet laureate\",\n",
    "    \"existentialist poet\",\n",
    "    \"poetry translator\",\n",
    "    \"humorist poet of\",\n",
    "    \"spoken word poet\",\n",
    "    \"surrealist poet\",\n",
    "    \"poetry promoter\",\n",
    "    \"poetry\",\n",
    "    \"poet\",\n",
    "    \"founding general director of Michigan Opera Theatre\",\n",
    "    \"artistic director of the Melbourne Theatre Company\",\n",
    "    \"director of the Willie Clancy Summer School\",\n",
    "    \"artistic director of Ballet\",\n",
    "    \"television director winner\",\n",
    "    \"director of the City Opera\",\n",
    "    \"television news director\",\n",
    "    \"director of photography\",\n",
    "    \"second unit director\",\n",
    "    \"television director\",\n",
    "    \"director general of\",\n",
    "    \"director of dubbing\",\n",
    "    \"animation director\",\n",
    "    \"newspaper director\",\n",
    "    \"assistant director\",\n",
    "    \"roll tour director\",\n",
    "    \"programme director\",\n",
    "    \"executive director\",\n",
    "    \"artistic director\",\n",
    "    \"festival director\",\n",
    "    \"creative director\",\n",
    "    \"director of plays\",\n",
    "    \"casting director\",\n",
    "    \"gallery director\",\n",
    "    \"dubbing director\",\n",
    "    \"concert director\",\n",
    "    \"choral director\",\n",
    "    \"ballet director\",\n",
    "    \"circus director\",\n",
    "    \"stage director\",\n",
    "    \"opera director\",\n",
    "    \"stunt director\",\n",
    "    \"choir director\",\n",
    "    \"radio director\",\n",
    "    \"media director\",\n",
    "    \"video director\",\n",
    "    \"movie director\",\n",
    "    \"sound director\",\n",
    "    \"news director\",\n",
    "    \"art director\",\n",
    "    \"TV director\",\n",
    "    \"a director\",\n",
    "    \"comedian Saturday Night Live\",\n",
    "    \"stand up comedian\",\n",
    "    \"comedian\",\n",
    "]\n",
    "arts = sorted(list(set(arts)), key=lambda x: len(x), reverse=True)\n",
    "\n",
    "sports = [\n",
    "    \"chess composer\",\n",
    "    \"director of the Tour de\",\n",
    "    \"athletic director\",\n",
    "    \"sporting director\",\n",
    "    \"race director\",\n",
    "    \"second highest scorer in Iowa State University history\",\n",
    "]\n",
    "sports = sorted(list(set(sports)), key=lambda x: len(x), reverse=True)\n",
    "\n",
    "sciences = [\n",
    "    \"former director of Oak Ridge National Laboratory\",\n",
    "    \"former director of SLAC\",\n",
    "    \"director of the Fish\",\n",
    "    \"research director\",\n",
    "]\n",
    "sciences = sorted(list(set(sciences)), key=lambda x: len(x), reverse=True)\n",
    "\n",
    "business_farming = [\n",
    "    \"businessman best known for rescuing Howard Hughes in plane crash\",\n",
    "    \"business support executive\",\n",
    "    \"business\",\n",
    "    \"business consultant\",\n",
    "    \"business executive\",\n",
    "    \"business magnate\",\n",
    "    \"business leader\",\n",
    "    \"business tycoon\",\n",
    "    \"businessperson\",\n",
    "    \"business owner\",\n",
    "    \"businesswoman\",\n",
    "    \"business man\",\n",
    "    \"businessman\",\n",
    "    \"managing director of Lego\",\n",
    "    \"corporate director\",\n",
    "    \"company director\",\n",
    "]\n",
    "business_farming = sorted(\n",
    "    list(set(business_farming)), key=lambda x: len(x), reverse=True\n",
    ")\n",
    "\n",
    "academia_humanities = [\n",
    "    \"the founding director of the Maritime Museum of the Atlantic\",\n",
    "    \"archaeologist who was director of the Museum of\",\n",
    "    \"director of the Advanced Placement Program\",\n",
    "    \"library director\",\n",
    "    \"museum director\",\n",
    "    \"historian at Columbia University\",\n",
    "    \"an expert on the history of medieval\",\n",
    "    \"historian of the Manhattan Project\",\n",
    "    \"Pulitzer Prize winning historian\",\n",
    "    \"preserver of historic buildings\",\n",
    "    \"Himalayan expedition historian\",\n",
    "    \"professor emeritus of history\",\n",
    "    \"historian of Latin studies\",\n",
    "    \"historic preservationist\",\n",
    "    \"architectural historian\",\n",
    "    \"historian of philosophy\",\n",
    "    \"historian of the Nation\",\n",
    "    \"historical revisionist\",\n",
    "    \"intellectual historian\",\n",
    "    \"Osage Nation historian\",\n",
    "    \"deaf culture historian\",\n",
    "    \"revisionist historian\",\n",
    "    \"world fair historian\",\n",
    "    \"historian of\",\n",
    "    \"Wyatt Earp historian\",\n",
    "    \"literary historian\",\n",
    "    \"historian of ideas\",\n",
    "    \"research historian\",\n",
    "    \"printing historian\",\n",
    "    \"cultural historian\",\n",
    "    \"railroad historian\",\n",
    "    \"history professor\",\n",
    "    \"ancient historian\",\n",
    "    \"kitchen historian\",\n",
    "    \"railway historian\",\n",
    "    \"social historian\",\n",
    "    \"apple historian\",\n",
    "    \"psychohistorian\",\n",
    "    \"local historian\",\n",
    "    \"dress historian\",\n",
    "    \"oral historian\",\n",
    "    \"art historian\",\n",
    "    \"pre historian\",\n",
    "    \"prehistorian\",\n",
    "    \"historian of\",\n",
    "    \"art history\",\n",
    "    \"historian\",\n",
    "    \"on education topics\",\n",
    "    \"advocate for women education\",\n",
    "    \"education worker in Eastern\",\n",
    "    \"educational administrator\",\n",
    "    \"early childhood educator\",\n",
    "    \"educational consultant\",\n",
    "    \"education proponent\",\n",
    "    \"Holocaust educator\",\n",
    "    \"education official\",\n",
    "    \"educational leader\",\n",
    "    \"educationalist\",\n",
    "    \"FAMU educator\",\n",
    "    \"educationist\",\n",
    "    \"educator\",\n",
    "]\n",
    "academia_humanities = sorted(\n",
    "    list(set(academia_humanities)), key=lambda x: len(x), reverse=True\n",
    ")\n",
    "\n",
    "law_enf_military_operator = [\n",
    "    \"director of the National Security Agency\",\n",
    "    \"director of the Mossad\",\n",
    "    \"director of the FBI\",\n",
    "    \"of the most decorated women in military history\",\n",
    "]\n",
    "law_enf_military_operator = sorted(\n",
    "    list(set(law_enf_military_operator)), key=lambda x: len(x), reverse=True\n",
    ")\n",
    "\n",
    "spiritual = []\n",
    "spiritual = sorted(list(set(spiritual)), key=lambda x: len(x), reverse=True)\n",
    "\n",
    "social = [\n",
    "    \"philanthropist\",\n",
    "    \"wonen health educator\",\n",
    "    \"AIDS educator\",\n",
    "]\n",
    "social = sorted(list(set(social)), key=lambda x: len(x), reverse=True)\n",
    "\n",
    "crime = []\n",
    "crime = sorted(list(set(crime)), key=lambda x: len(x), reverse=True)\n",
    "\n",
    "event_record_other = [\n",
    "    \"the oldest person ever documented in history\",\n",
    "]\n",
    "event_record_other = sorted(\n",
    "    list(set(event_record_other)), key=lambda x: len(x), reverse=True\n",
    ")\n",
    "\n",
    "other_species = []\n",
    "other_species = sorted(list(set(other_species)), key=lambda x: len(x), reverse=True)"
   ]
  },
  {
   "cell_type": "code",
   "execution_count": 33,
   "id": "a1ca2de6",
   "metadata": {},
   "outputs": [
    {
     "data": {
      "application/javascript": [
       "\n",
       "            setTimeout(function() {\n",
       "                var nbb_cell_id = 33;\n",
       "                var nbb_unformatted_code = \"# Dropping values for info_2_0 == manager as all values already categorized to avoid incorrect additional category\\ndf.loc[\\n    [index for index in df.index if df.loc[index, \\\"info_2_1\\\"] == \\\"manager\\\"], \\\"info_2_1\\\"\\n] = \\\"\\\"\";\n",
       "                var nbb_formatted_code = \"# Dropping values for info_2_0 == manager as all values already categorized to avoid incorrect additional category\\ndf.loc[\\n    [index for index in df.index if df.loc[index, \\\"info_2_1\\\"] == \\\"manager\\\"], \\\"info_2_1\\\"\\n] = \\\"\\\"\";\n",
       "                var nbb_cells = Jupyter.notebook.get_cells();\n",
       "                for (var i = 0; i < nbb_cells.length; ++i) {\n",
       "                    if (nbb_cells[i].input_prompt_number == nbb_cell_id) {\n",
       "                        if (nbb_cells[i].get_text() == nbb_unformatted_code) {\n",
       "                             nbb_cells[i].set_text(nbb_formatted_code);\n",
       "                        }\n",
       "                        break;\n",
       "                    }\n",
       "                }\n",
       "            }, 500);\n",
       "            "
      ],
      "text/plain": [
       "<IPython.core.display.Javascript object>"
      ]
     },
     "metadata": {},
     "output_type": "display_data"
    }
   ],
   "source": [
    "# Dropping values for info_2_0 == manager as all values already categorized to avoid incorrect additional category\n",
    "df.loc[\n",
    "    [index for index in df.index if df.loc[index, \"info_2_1\"] == \"manager\"], \"info_2_1\"\n",
    "] = \"\""
   ]
  },
  {
   "cell_type": "markdown",
   "id": "b0dd43bc",
   "metadata": {},
   "source": [
    "#### Creating `known_for_dict` Dictionary of Category Keys and Specific Role Lists of Values"
   ]
  },
  {
   "cell_type": "code",
   "execution_count": 34,
   "id": "7de1a064",
   "metadata": {},
   "outputs": [
    {
     "data": {
      "application/javascript": [
       "\n",
       "            setTimeout(function() {\n",
       "                var nbb_cell_id = 34;\n",
       "                var nbb_unformatted_code = \"# Combining separate lists into one dictionary\\nknown_for_dict = {\\n    \\\"social\\\": social,\\n    \\\"spiritual\\\": spiritual,\\n    \\\"academia_humanities\\\": academia_humanities,\\n    \\\"business_farming\\\": business_farming,\\n    \\\"sciences\\\": sciences,\\n    \\\"politics_govt_law\\\": politics_govt_law,\\n    \\\"law_enf_military_operator\\\": law_enf_military_operator,\\n    \\\"crime\\\": crime,\\n    \\\"event_record_other\\\": event_record_other,\\n    \\\"other_species\\\": other_species,\\n    \\\"arts\\\": arts,\\n    \\\"sports\\\": sports,\\n}\";\n",
       "                var nbb_formatted_code = \"# Combining separate lists into one dictionary\\nknown_for_dict = {\\n    \\\"social\\\": social,\\n    \\\"spiritual\\\": spiritual,\\n    \\\"academia_humanities\\\": academia_humanities,\\n    \\\"business_farming\\\": business_farming,\\n    \\\"sciences\\\": sciences,\\n    \\\"politics_govt_law\\\": politics_govt_law,\\n    \\\"law_enf_military_operator\\\": law_enf_military_operator,\\n    \\\"crime\\\": crime,\\n    \\\"event_record_other\\\": event_record_other,\\n    \\\"other_species\\\": other_species,\\n    \\\"arts\\\": arts,\\n    \\\"sports\\\": sports,\\n}\";\n",
       "                var nbb_cells = Jupyter.notebook.get_cells();\n",
       "                for (var i = 0; i < nbb_cells.length; ++i) {\n",
       "                    if (nbb_cells[i].input_prompt_number == nbb_cell_id) {\n",
       "                        if (nbb_cells[i].get_text() == nbb_unformatted_code) {\n",
       "                             nbb_cells[i].set_text(nbb_formatted_code);\n",
       "                        }\n",
       "                        break;\n",
       "                    }\n",
       "                }\n",
       "            }, 500);\n",
       "            "
      ],
      "text/plain": [
       "<IPython.core.display.Javascript object>"
      ]
     },
     "metadata": {},
     "output_type": "display_data"
    }
   ],
   "source": [
    "# Combining separate lists into one dictionary\n",
    "known_for_dict = {\n",
    "    \"social\": social,\n",
    "    \"spiritual\": spiritual,\n",
    "    \"academia_humanities\": academia_humanities,\n",
    "    \"business_farming\": business_farming,\n",
    "    \"sciences\": sciences,\n",
    "    \"politics_govt_law\": politics_govt_law,\n",
    "    \"law_enf_military_operator\": law_enf_military_operator,\n",
    "    \"crime\": crime,\n",
    "    \"event_record_other\": event_record_other,\n",
    "    \"other_species\": other_species,\n",
    "    \"arts\": arts,\n",
    "    \"sports\": sports,\n",
    "}"
   ]
  },
  {
   "cell_type": "markdown",
   "id": "8aef20a3",
   "metadata": {},
   "source": [
    "#### Extracting Category from `info_2_1`"
   ]
  },
  {
   "cell_type": "code",
   "execution_count": 35,
   "id": "60c27c3f",
   "metadata": {},
   "outputs": [
    {
     "name": "stdout",
     "output_type": "stream",
     "text": [
      "CPU times: total: 37.7 s\n",
      "Wall time: 37.7 s\n"
     ]
    },
    {
     "data": {
      "application/javascript": [
       "\n",
       "            setTimeout(function() {\n",
       "                var nbb_cell_id = 35;\n",
       "                var nbb_unformatted_code = \"%%time\\n\\n# Column to check\\ncolumn = 'info_2_1'\\n\\n# Start dataframe\\ndataframe = df[df[column].notna()]\\n\\n# For loop to find role in column and extract it as category\\nfor category, category_lst in known_for_dict.items():\\n    for role in category_lst:\\n        for index in dataframe.index:\\n                item = df.loc[index, column]\\n                if item:\\n                    if role in item:\\n                        df.loc[index, category] = 1\\n                        df.loc[index, column] = item.replace(role, '').strip()\\n\\n# Calculating num_categories\\ndf[\\\"num_categories\\\"] = df[known_for_dict.keys()].sum(axis=1)\";\n",
       "                var nbb_formatted_code = \"%%time\\n\\n# Column to check\\ncolumn = 'info_2_1'\\n\\n# Start dataframe\\ndataframe = df[df[column].notna()]\\n\\n# For loop to find role in column and extract it as category\\nfor category, category_lst in known_for_dict.items():\\n    for role in category_lst:\\n        for index in dataframe.index:\\n                item = df.loc[index, column]\\n                if item:\\n                    if role in item:\\n                        df.loc[index, category] = 1\\n                        df.loc[index, column] = item.replace(role, '').strip()\\n\\n# Calculating num_categories\\ndf[\\\"num_categories\\\"] = df[known_for_dict.keys()].sum(axis=1)\";\n",
       "                var nbb_cells = Jupyter.notebook.get_cells();\n",
       "                for (var i = 0; i < nbb_cells.length; ++i) {\n",
       "                    if (nbb_cells[i].input_prompt_number == nbb_cell_id) {\n",
       "                        if (nbb_cells[i].get_text() == nbb_unformatted_code) {\n",
       "                             nbb_cells[i].set_text(nbb_formatted_code);\n",
       "                        }\n",
       "                        break;\n",
       "                    }\n",
       "                }\n",
       "            }, 500);\n",
       "            "
      ],
      "text/plain": [
       "<IPython.core.display.Javascript object>"
      ]
     },
     "metadata": {},
     "output_type": "display_data"
    }
   ],
   "source": [
    "%%time\n",
    "\n",
    "# Column to check\n",
    "column = 'info_2_1'\n",
    "\n",
    "# Start dataframe\n",
    "dataframe = df[df[column].notna()]\n",
    "\n",
    "# For loop to find role in column and extract it as category\n",
    "for category, category_lst in known_for_dict.items():\n",
    "    for role in category_lst:\n",
    "        for index in dataframe.index:\n",
    "                item = df.loc[index, column]\n",
    "                if item:\n",
    "                    if role in item:\n",
    "                        df.loc[index, category] = 1\n",
    "                        df.loc[index, column] = item.replace(role, '').strip()\n",
    "\n",
    "# Calculating num_categories\n",
    "df[\"num_categories\"] = df[known_for_dict.keys()].sum(axis=1)"
   ]
  },
  {
   "cell_type": "markdown",
   "id": "005eb663",
   "metadata": {},
   "source": [
    "#### Checking Updated `num_categories` Value Counts"
   ]
  },
  {
   "cell_type": "code",
   "execution_count": 36,
   "id": "e11af539",
   "metadata": {},
   "outputs": [
    {
     "data": {
      "text/plain": [
       "1    91761\n",
       "2     6127\n",
       "0       78\n",
       "3       78\n",
       "Name: num_categories, dtype: int64"
      ]
     },
     "execution_count": 36,
     "metadata": {},
     "output_type": "execute_result"
    },
    {
     "data": {
      "application/javascript": [
       "\n",
       "            setTimeout(function() {\n",
       "                var nbb_cell_id = 36;\n",
       "                var nbb_unformatted_code = \"# Checking updated num_categories value counts\\ndf[\\\"num_categories\\\"].value_counts()\";\n",
       "                var nbb_formatted_code = \"# Checking updated num_categories value counts\\ndf[\\\"num_categories\\\"].value_counts()\";\n",
       "                var nbb_cells = Jupyter.notebook.get_cells();\n",
       "                for (var i = 0; i < nbb_cells.length; ++i) {\n",
       "                    if (nbb_cells[i].input_prompt_number == nbb_cell_id) {\n",
       "                        if (nbb_cells[i].get_text() == nbb_unformatted_code) {\n",
       "                             nbb_cells[i].set_text(nbb_formatted_code);\n",
       "                        }\n",
       "                        break;\n",
       "                    }\n",
       "                }\n",
       "            }, 500);\n",
       "            "
      ],
      "text/plain": [
       "<IPython.core.display.Javascript object>"
      ]
     },
     "metadata": {},
     "output_type": "display_data"
    }
   ],
   "source": [
    "# Checking updated num_categories value counts\n",
    "df[\"num_categories\"].value_counts()"
   ]
  },
  {
   "cell_type": "markdown",
   "id": "b55f9627",
   "metadata": {},
   "source": [
    "#### Observations:\n",
    "- We will proceed to rebuild `known_for_dict` for the next iteration."
   ]
  },
  {
   "cell_type": "markdown",
   "id": "c1f3de2b",
   "metadata": {},
   "source": [
    "#### Finding `known_for` Roles in `info_2_1`"
   ]
  },
  {
   "cell_type": "code",
   "execution_count": 37,
   "id": "6a19f850",
   "metadata": {},
   "outputs": [
    {
     "data": {
      "application/javascript": [
       "\n",
       "            setTimeout(function() {\n",
       "                var nbb_cell_id = 37;\n",
       "                var nbb_unformatted_code = \"# # Obtaining values for column and their counts\\n# roles_list = df[\\\"info_2_1\\\"].value_counts(ascending=True).index.tolist()\";\n",
       "                var nbb_formatted_code = \"# # Obtaining values for column and their counts\\n# roles_list = df[\\\"info_2_1\\\"].value_counts(ascending=True).index.tolist()\";\n",
       "                var nbb_cells = Jupyter.notebook.get_cells();\n",
       "                for (var i = 0; i < nbb_cells.length; ++i) {\n",
       "                    if (nbb_cells[i].input_prompt_number == nbb_cell_id) {\n",
       "                        if (nbb_cells[i].get_text() == nbb_unformatted_code) {\n",
       "                             nbb_cells[i].set_text(nbb_formatted_code);\n",
       "                        }\n",
       "                        break;\n",
       "                    }\n",
       "                }\n",
       "            }, 500);\n",
       "            "
      ],
      "text/plain": [
       "<IPython.core.display.Javascript object>"
      ]
     },
     "metadata": {},
     "output_type": "display_data"
    }
   ],
   "source": [
    "# # Obtaining values for column and their counts\n",
    "# roles_list = df[\"info_2_1\"].value_counts(ascending=True).index.tolist()"
   ]
  },
  {
   "cell_type": "code",
   "execution_count": 38,
   "id": "2a349848",
   "metadata": {},
   "outputs": [
    {
     "data": {
      "application/javascript": [
       "\n",
       "            setTimeout(function() {\n",
       "                var nbb_cell_id = 38;\n",
       "                var nbb_unformatted_code = \"# # Code to check each value\\n# roles_list.pop()\";\n",
       "                var nbb_formatted_code = \"# # Code to check each value\\n# roles_list.pop()\";\n",
       "                var nbb_cells = Jupyter.notebook.get_cells();\n",
       "                for (var i = 0; i < nbb_cells.length; ++i) {\n",
       "                    if (nbb_cells[i].input_prompt_number == nbb_cell_id) {\n",
       "                        if (nbb_cells[i].get_text() == nbb_unformatted_code) {\n",
       "                             nbb_cells[i].set_text(nbb_formatted_code);\n",
       "                        }\n",
       "                        break;\n",
       "                    }\n",
       "                }\n",
       "            }, 500);\n",
       "            "
      ],
      "text/plain": [
       "<IPython.core.display.Javascript object>"
      ]
     },
     "metadata": {},
     "output_type": "display_data"
    }
   ],
   "source": [
    "# # Code to check each value\n",
    "# roles_list.pop()"
   ]
  },
  {
   "cell_type": "code",
   "execution_count": 39,
   "id": "405fe3b5",
   "metadata": {},
   "outputs": [
    {
     "data": {
      "application/javascript": [
       "\n",
       "            setTimeout(function() {\n",
       "                var nbb_cell_id = 39;\n",
       "                var nbb_unformatted_code = \"# # Create specific_roles_list for above popped value\\n# specific_roles_list = (\\n#     df.loc[\\n#         [\\n#             index\\n#             for index in df[df[\\\"info_2_1\\\"].notna()].index\\n#             if \\\"executive\\\" in df.loc[index, \\\"info_2_1\\\"]\\n#         ],\\n#         \\\"info_2_1\\\",\\n#     ]\\n#     .value_counts()\\n#     .index.tolist()\\n# )\";\n",
       "                var nbb_formatted_code = \"# # Create specific_roles_list for above popped value\\n# specific_roles_list = (\\n#     df.loc[\\n#         [\\n#             index\\n#             for index in df[df[\\\"info_2_1\\\"].notna()].index\\n#             if \\\"executive\\\" in df.loc[index, \\\"info_2_1\\\"]\\n#         ],\\n#         \\\"info_2_1\\\",\\n#     ]\\n#     .value_counts()\\n#     .index.tolist()\\n# )\";\n",
       "                var nbb_cells = Jupyter.notebook.get_cells();\n",
       "                for (var i = 0; i < nbb_cells.length; ++i) {\n",
       "                    if (nbb_cells[i].input_prompt_number == nbb_cell_id) {\n",
       "                        if (nbb_cells[i].get_text() == nbb_unformatted_code) {\n",
       "                             nbb_cells[i].set_text(nbb_formatted_code);\n",
       "                        }\n",
       "                        break;\n",
       "                    }\n",
       "                }\n",
       "            }, 500);\n",
       "            "
      ],
      "text/plain": [
       "<IPython.core.display.Javascript object>"
      ]
     },
     "metadata": {},
     "output_type": "display_data"
    }
   ],
   "source": [
    "# # Create specific_roles_list for above popped value\n",
    "# specific_roles_list = (\n",
    "#     df.loc[\n",
    "#         [\n",
    "#             index\n",
    "#             for index in df[df[\"info_2_1\"].notna()].index\n",
    "#             if \"executive\" in df.loc[index, \"info_2_1\"]\n",
    "#         ],\n",
    "#         \"info_2_1\",\n",
    "#     ]\n",
    "#     .value_counts()\n",
    "#     .index.tolist()\n",
    "# )"
   ]
  },
  {
   "cell_type": "code",
   "execution_count": 40,
   "id": "e6f3d5a9",
   "metadata": {},
   "outputs": [
    {
     "data": {
      "application/javascript": [
       "\n",
       "            setTimeout(function() {\n",
       "                var nbb_cell_id = 40;\n",
       "                var nbb_unformatted_code = \"# # Viewing list sorted by descending length to copy to dictionary below and screen values\\n# sorted(specific_roles_list, key=lambda x: len(x), reverse=True)\";\n",
       "                var nbb_formatted_code = \"# # Viewing list sorted by descending length to copy to dictionary below and screen values\\n# sorted(specific_roles_list, key=lambda x: len(x), reverse=True)\";\n",
       "                var nbb_cells = Jupyter.notebook.get_cells();\n",
       "                for (var i = 0; i < nbb_cells.length; ++i) {\n",
       "                    if (nbb_cells[i].input_prompt_number == nbb_cell_id) {\n",
       "                        if (nbb_cells[i].get_text() == nbb_unformatted_code) {\n",
       "                             nbb_cells[i].set_text(nbb_formatted_code);\n",
       "                        }\n",
       "                        break;\n",
       "                    }\n",
       "                }\n",
       "            }, 500);\n",
       "            "
      ],
      "text/plain": [
       "<IPython.core.display.Javascript object>"
      ]
     },
     "metadata": {},
     "output_type": "display_data"
    }
   ],
   "source": [
    "# # Viewing list sorted by descending length to copy to dictionary below and screen values\n",
    "# sorted(specific_roles_list, key=lambda x: len(x), reverse=True)"
   ]
  },
  {
   "cell_type": "code",
   "execution_count": 41,
   "id": "9411171d",
   "metadata": {},
   "outputs": [
    {
     "data": {
      "application/javascript": [
       "\n",
       "            setTimeout(function() {\n",
       "                var nbb_cell_id = 41;\n",
       "                var nbb_unformatted_code = \"# # Example code to quick-check a specific entry\\n# df[df[\\\"info_2_1\\\"] == \\\"chief executive\\\"]\";\n",
       "                var nbb_formatted_code = \"# # Example code to quick-check a specific entry\\n# df[df[\\\"info_2_1\\\"] == \\\"chief executive\\\"]\";\n",
       "                var nbb_cells = Jupyter.notebook.get_cells();\n",
       "                for (var i = 0; i < nbb_cells.length; ++i) {\n",
       "                    if (nbb_cells[i].input_prompt_number == nbb_cell_id) {\n",
       "                        if (nbb_cells[i].get_text() == nbb_unformatted_code) {\n",
       "                             nbb_cells[i].set_text(nbb_formatted_code);\n",
       "                        }\n",
       "                        break;\n",
       "                    }\n",
       "                }\n",
       "            }, 500);\n",
       "            "
      ],
      "text/plain": [
       "<IPython.core.display.Javascript object>"
      ]
     },
     "metadata": {},
     "output_type": "display_data"
    }
   ],
   "source": [
    "# # Example code to quick-check a specific entry\n",
    "# df[df[\"info_2_1\"] == \"chief executive\"]"
   ]
  },
  {
   "cell_type": "markdown",
   "id": "3e6bd5d6",
   "metadata": {},
   "source": [
    "#### Creating Lists for Each `known_for` Category"
   ]
  },
  {
   "cell_type": "code",
   "execution_count": 42,
   "id": "c26dda1e",
   "metadata": {},
   "outputs": [
    {
     "data": {
      "application/javascript": [
       "\n",
       "            setTimeout(function() {\n",
       "                var nbb_cell_id = 42;\n",
       "                var nbb_unformatted_code = \"# Creating lists for each category and sorting by decreasing length and removing duplicates\\n\\npolitics_govt_law = [\\n    \\\"Native rights lawyer\\\",\\n    \\\"human rights lawyer\\\",\\n    \\\"civil rights lawyer\\\",\\n    \\\"disbarred lawyer\\\",\\n    \\\"criminal lawyer\\\",\\n    \\\"trial lawyer\\\",\\n    \\\"labor lawyer\\\",\\n    \\\"lawyer\\\",\\n    \\\"hereditary peer\\\",\\n    \\\"mentor teacher of Vladimir Putin\\\",\\n    \\\"son of novelist John Buchan\\\",\\n    \\\"judge for the Middle District of Alabama\\\",\\n    \\\"the first female federal judge\\\",\\n    \\\"administrative law judge\\\",\\n    \\\"Supreme Court judge\\\",\\n    \\\"first female judge\\\",\\n    \\\"High Court judge\\\",\\n    \\\"federal judge\\\",\\n    \\\"tribal judge\\\",\\n    \\\"chief judge\\\",\\n    \\\"state judge\\\",\\n    \\\"jurist who was the th Governor of Virginia\\\",\\n    \\\"jurist\\\",\\n    \\\"publisher of Hitler\\\",\\n    \\\"the PLO executive committee\\\",\\n]\\npolitics_govt_law = sorted(\\n    list(set(politics_govt_law)), key=lambda x: len(x), reverse=True\\n)\\n\\narts = [\\n    \\\"composer\\\",\\n    \\\"director\\\",\\n    \\\"playwright with cerebral palsy\\\",\\n    \\\"playwright\\\",\\n    \\\"editor for United Press International\\\",\\n    \\\"editor of the Daily Express\\\",\\n    \\\"editor of science fiction\\\",\\n    \\\"contributing editor for\\\",\\n    \\\"founding editor of the\\\",\\n    \\\"editor of comic books\\\",\\n    \\\"magazine editor of GQ\\\",\\n    \\\"editor for DC Comics\\\",\\n    \\\"pulp magazine editor\\\",\\n    \\\"founding editor of\\\",\\n    \\\"television editor\\\",\\n    \\\"newspaper editor\\\",\\n    \\\"magazine editor\\\",\\n    \\\"fashion editor\\\",\\n    \\\"script editor\\\",\\n    \\\"editor of the\\\",\\n    \\\"choral editor\\\",\\n    \\\"sound editor\\\",\\n    \\\"news editor\\\",\\n    \\\"book editor\\\",\\n    \\\"copy editor\\\",\\n    \\\"art editor\\\",\\n    \\\"editor of\\\",\\n    \\\"editor\\\",\\n    \\\"illustrator of children books\\\",\\n    \\\"children books illustrator\\\",\\n    \\\"children book illustrator\\\",\\n    \\\"trading card illustrator\\\",\\n    \\\"book cover illustrator\\\",\\n    \\\"magazine illustrator\\\",\\n    \\\"book illustrator\\\",\\n    \\\"illustrator\\\",\\n    \\\"brass instrument\\\",\\n    \\\"television special effects designer\\\",\\n    \\\"television costume designer\\\",\\n    \\\"roleplaying game designer\\\",\\n    \\\"Disney landscape designer\\\",\\n    \\\"designer of the flag of\\\",\\n    \\\"Gothic Revival designer\\\",\\n    \\\"architectural designer\\\",\\n    \\\"postage stamp designer\\\",\\n    \\\"environmental designer\\\",\\n    \\\"album cover designer\\\",\\n    \\\"bridal wear designer\\\",\\n    \\\"production designer\\\",\\n    \\\"instrument designer\\\",\\n    \\\"furniture designer\\\",\\n    \\\"character designer\\\",\\n    \\\"interior designer\\\",\\n    \\\"banknote designer\\\",\\n    \\\"typeface designer\\\",\\n    \\\"of design\\\",\\n    \\\"graphic designer\\\",\\n    \\\"fashion designer\\\",\\n    \\\"costume designer\\\",\\n    \\\"jewelry designer\\\",\\n    \\\"wargame designer\\\",\\n    \\\"makeup designer\\\",\\n    \\\"glass designer\\\",\\n    \\\"organ designer\\\",\\n    \\\"type designer\\\",\\n    \\\"coin designer\\\",\\n    \\\"game designer\\\",\\n    \\\"book designer\\\",\\n    \\\"set designer\\\",\\n    \\\"ballet mistress\\\",\\n    \\\"ballet\\\",\\n    \\\"ballet dancer\\\",\\n    \\\"acting\\\",\\n    \\\"music\\\",\\n    \\\"piano\\\",\\n    \\\"dance critic\\\",\\n    \\\"dancer\\\",\\n    \\\"dance\\\",\\n    \\\"Tony Award winning choreographer\\\",\\n    \\\"stage choreographer\\\",\\n    \\\"choreographer\\\",\\n    \\\"founding conductor of Brooklyn Philharmonic Orchestra\\\",\\n    \\\"conductor of the Nashville Symphony Orchestra\\\",\\n    \\\"choral conductor\\\",\\n    \\\"choir conductor\\\",\\n    \\\"opera conductor\\\",\\n    \\\"conductor\\\",\\n    \\\"novelist in the Kannada language\\\",\\n    \\\"James Bond continuation novelist\\\",\\n    \\\"mystery novelist\\\",\\n    \\\"graphic novelist\\\",\\n    \\\"crime novelist\\\",\\n    '\\\"one of the nation most accomplished medallic artists\\\"',\\n    \\\"cover production artist for DC Comics\\\",\\n    \\\"pioneering manhua artist\\\",\\n    \\\"butter sculpture artist\\\",\\n    \\\"representational artist\\\",\\n    \\\"science fiction artist\\\",\\n    \\\"visualization artist\\\",\\n    \\\"stained glass artist\\\",\\n    \\\"installation artist\\\",\\n    \\\"language dub artist\\\",\\n    \\\"performance artist\\\",\\n    \\\"album cover artist\\\",\\n    \\\"comic strip artist\\\",\\n    \\\"psychedelic artist\\\",\\n    \\\"comic book artist\\\",\\n    \\\"storyboard artist\\\",\\n    \\\"minimalist artist\\\",\\n    \\\"conceptual artist\\\",\\n    \\\"recording artist\\\",\\n    \\\"pictorial artist\\\",\\n    \\\"landscape artist\\\",\\n    \\\"bluegrass artist\\\",\\n    \\\"fish skin artist\\\",\\n    \\\"graffiti artist\\\",\\n    \\\"national artist\\\",\\n    \\\"graphic artist\\\",\\n    \\\"ceramic artist\\\",\\n    \\\"textile artist\\\",\\n    \\\"cartoon artist\\\",\\n    \\\"digital artist\\\",\\n    \\\"kinetic artist\\\",\\n    \\\"dubbing artist\\\",\\n    \\\"make up artist\\\",\\n    \\\"session artist\\\",\\n    \\\"fantasy artist\\\",\\n    \\\"plastic artist\\\",\\n    \\\"visual artist\\\",\\n    \\\"comics artist\\\",\\n    \\\"makeup artist\\\",\\n    \\\"street artist\\\",\\n    \\\"poster artist\\\",\\n    \\\"layout artist\\\",\\n    \\\"video artist\\\",\\n    \\\"album artist\\\",\\n    \\\"light artist\\\",\\n    \\\"artist model\\\",\\n    \\\"cover artist\\\",\\n    \\\"comic artist\\\",\\n    \\\"pop artist\\\",\\n    \\\"assemblage sculptor\\\",\\n    \\\"conceptual sculptor\\\",\\n    \\\"glass sculptor\\\",\\n    \\\"bust sculptor\\\",\\n    \\\"sculptor\\\",\\n    \\\"surrealist painter\\\",\\n    \\\"landscape painter\\\",\\n    \\\"portrait painter\\\",\\n    \\\"painter\\\",\\n    \\\"television presenter\\\",\\n    \\\"Chicago children television entertainer\\\",\\n    \\\"first television host of the game show\\\",\\n    \\\"pioneer of public access television\\\",\\n    \\\"television special effects designer\\\",\\n    \\\"children television personality\\\",\\n    \\\"reality television personality\\\",\\n    \\\"children television presenter\\\",\\n    \\\"reality television contestant\\\",\\n    \\\"the early years of television\\\",\\n    \\\"radio television personality\\\",\\n    \\\"television costume designer\\\",\\n    \\\"radio television presenter\\\",\\n    \\\"television show contestant\\\",\\n    \\\"cable television executive\\\",\\n    \\\"television news executive\\\",\\n    \\\"television game show host\\\",\\n    \\\"television color analyst\\\",\\n    \\\"children television host\\\",\\n    \\\"reality television star\\\",\\n    \\\"television movie scores\\\",\\n    \\\"television broadcasting\\\",\\n    \\\"radio television critic\\\",\\n    \\\"television personality\\\",\\n    \\\"television broadcaster\\\",\\n    \\\"television commentator\\\",\\n    \\\"television news anchor\\\",\\n    \\\"a television show host\\\",\\n    \\\"television presenter\\\",\\n    \\\"television announcer\\\",\\n    \\\"television executive\\\",\\n    \\\"television show host\\\",\\n    \\\"television performer\\\",\\n    \\\"television editor\\\",\\n    \\\"television anchor\\\",\\n    \\\"television scores\\\",\\n    \\\"television host\\\",\\n    \\\"television chef\\\",\\n    \\\"television set\\\",\\n    \\\"television\\\",\\n    \\\"television broadcaster\\\",\\n    \\\"BBC radio broadcaster\\\",\\n    \\\"broadcaster known as\\\",\\n    \\\"radio broadcaster\\\",\\n    \\\"broadcaster\\\",\\n    \\\"literary book publisher\\\",\\n    \\\"publisher of magazine\\\",\\n    \\\"publisher of from to\\\",\\n    \\\"numismatic publisher\\\",\\n    \\\"newspaper publisher\\\",\\n    \\\"magazine publisher\\\",\\n    \\\"bass guitarist for The Four Seasons\\\",\\n    \\\"guitarist of Big Country\\\",\\n    \\\"rock n' roll guitarist\\\",\\n    \\\"pedal steel guitarist\\\",\\n    \\\"blues rock guitarist\\\",\\n    \\\"classical guitarist\\\",\\n    \\\"flamenco guitarist\\\",\\n    \\\"blues guitarist\\\",\\n    \\\"metal guitarist\\\",\\n    \\\"swing guitarist\\\",\\n    \\\"roll guitarist\\\",\\n    \\\"rock guitarist\\\",\\n    \\\"jazz guitarist\\\",\\n    \\\"bass guitarist\\\",\\n    \\\"soul guitarist\\\",\\n    \\\"R&B guitarist\\\",\\n    \\\"a guitarist\\\",\\n    \\\"guitarist\\\",\\n    \\\"experimental photographer\\\",\\n    \\\"Holocaust photographer\\\",\\n    \\\"wildlife photographer\\\",\\n    \\\"portrait photographer\\\",\\n    \\\"magazine photographer\\\",\\n    \\\"nature photographer\\\",\\n    \\\"blues photographer\\\",\\n    \\\"photograph subject\\\",\\n    \\\"art photographer\\\",\\n    \\\"photo essayist\\\",\\n    \\\"photographer\\\",\\n    \\\"pianist specializing in Bach\\\",\\n    \\\"concert pianist\\\",\\n    \\\"swing pianist\\\",\\n    \\\"jazz pianist\\\",\\n    \\\"fortepianist\\\",\\n    \\\"R&B pianist\\\",\\n    \\\"pianist\\\",\\n    \\\"production company executive\\\",\\n    \\\"public relations executive\\\",\\n    \\\"communications executive\\\",\\n]\\narts = sorted(list(set(arts)), key=lambda x: len(x), reverse=True)\\n\\nsports = [\\n    \\\"pilates teacher\\\",\\n    \\\"Aikikai teacher\\\",\\n    \\\"aikido teacher\\\",\\n    \\\"mixed martial artist\\\",\\n    \\\"martial artist\\\",\\n    \\\"line judge\\\",\\n    \\\"for the Cincinnati Reds\\\",\\n]\\nsports = sorted(list(set(sports)), key=lambda x: len(x), reverse=True)\\n\\nsciences = [\\n    \\\"who made critical contributions to the development of radar\\\",\\n    \\\"specialized in turbulence\\\",\\n    \\\"computer research executive\\\",\\n    \\\"medical research executive\\\",\\n]\\nsciences = sorted(list(set(sciences)), key=lambda x: len(x), reverse=True)\\n\\nbusiness_farming = [\\n    \\\"automobile manufacturing executive\\\",\\n    \\\"manufacturing executive\\\",\\n    \\\"telecommunications executive\\\",\\n    \\\"financial sector executive\\\",\\n    \\\"chief executive of Leyland\\\",\\n    \\\"pharmaceutical executive\\\",\\n    \\\"executive of Apple Corps\\\",\\n    \\\"manufacturing executive\\\",\\n    \\\"agricultural executive\\\",\\n    \\\"construction executive\\\",\\n    \\\"electronics executive\\\",\\n    \\\"technology executive\\\",\\n    \\\"healthcare executive\\\",\\n    \\\"mail order executive\\\",\\n    \\\"investment executive\\\",\\n    \\\"theme park executive\\\",\\n    \\\"automobile executive\\\",\\n    \\\"corporate executive\\\",\\n    \\\"insurance executive\\\",\\n    \\\"beverage executive\\\",\\n    \\\"catering executive\\\",\\n    \\\"company executive\\\",\\n    \\\"finance executive\\\",\\n    \\\"banking executive\\\",\\n    \\\"transit executive\\\",\\n    \\\"airline executive\\\",\\n    \\\"retail executive\\\",\\n    \\\"mining executive\\\",\\n    \\\"energy executive\\\",\\n    \\\"resort executive\\\",\\n    \\\"parts executive\\\",\\n    \\\"sales executive\\\",\\n    \\\"chief executive\\\",\\n    \\\"food executive\\\",\\n    \\\"coal executive\\\",\\n    \\\"oil executive\\\",\\n    \\\"gem executive\\\",\\n]\\nbusiness_farming = sorted(\\n    list(set(business_farming)), key=lambda x: len(x), reverse=True\\n)\\n\\nacademia_humanities = [\\n    \\\"translator of philosophy\\\",\\n    \\\"translator of literature\\\",\\n    \\\"literary translator\\\",\\n    \\\"language translator\\\",\\n    \\\"Quechua translator\\\",\\n    \\\"translator\\\",\\n    \\\"MIT professor\\\",\\n    \\\"Alexander von Humboldt professor of geography at UCLA\\\",\\n    \\\"professor of\\\",\\n    \\\"professor at the Academy of Theatre\\\",\\n    \\\"professor at the University of Chicago\\\",\\n    \\\"professor at Brigham Young University\\\",\\n    \\\"professor at the University of Warsaw\\\",\\n    \\\"professor at George Mason University\\\",\\n    \\\"professor at Seton Hall University\\\",\\n    \\\"professor at the University of\\\",\\n    \\\"professor of clinical\\\",\\n    \\\"professor at Columbia University\\\",\\n    \\\"professor at Stanford University\\\",\\n    \\\"professor of constitutional\\\",\\n    \\\"professor of Hebrew Literature\\\",\\n    \\\"philosophy professor\\\",\\n    \\\"professor of ancient languages\\\",\\n    \\\"professor of quantum\\\",\\n    \\\"professor in\\\",\\n    \\\"professor at University of\\\",\\n    \\\"emeritus professor at Yale\\\",\\n    \\\"professor of Latin studies\\\",\\n    \\\"A&M University professor\\\",\\n    \\\"professor of philosohy\\\",\\n    \\\"professor of literature\\\",\\n    \\\"communication professor\\\",\\n    \\\"professor of Egyptology\\\",\\n    \\\"professor of rhetoric\\\",\\n    \\\"university professor\\\",\\n    \\\"philosophy professor\\\",\\n    \\\"University professor\\\",\\n    \\\"literature professor\\\",\\n    \\\"professor of Studies\\\",\\n    \\\"professor emeritus\\\",\\n    \\\"literary professor\\\",\\n    \\\"Emeritus professor\\\",\\n    \\\"college professor\\\",\\n    \\\"MIT professor\\\",\\n    \\\"professor of\\\",\\n    \\\"a professor\\\",\\n    \\\"professor\\\",\\n    \\\"university teacher\\\",\\n    \\\"school teacher\\\",\\n    \\\"civics teacher\\\",\\n    \\\"speech teacher\\\",\\n    \\\"schoolteacher\\\",\\n    \\\"an executive at SRI International\\\",\\n]\\nacademia_humanities = sorted(\\n    list(set(academia_humanities)), key=lambda x: len(x), reverse=True\\n)\\n\\nlaw_enf_military_operator = []\\nlaw_enf_military_operator = sorted(\\n    list(set(law_enf_military_operator)), key=lambda x: len(x), reverse=True\\n)\\n\\nspiritual = [\\n    \\\"meditation teacher\\\",\\n    \\\"metaphysical teacher\\\",\\n    \\\"spiritual leader of the Republic of from to\\\",\\n    \\\"spiritual teacher\\\",\\n    \\\"spiritual leader\\\",\\n    \\\"spiritualist\\\",\\n    \\\"religious teacher\\\",\\n    \\\"Dzogchen teacher\\\",\\n    \\\"Qira'at teacher\\\",\\n]\\nspiritual = sorted(list(set(spiritual)), key=lambda x: len(x), reverse=True)\\n\\nsocial = [\\n    \\\"non profit executive\\\",\\n    \\\"charity executive\\\",\\n]\\nsocial = sorted(list(set(social)), key=lambda x: len(x), reverse=True)\\n\\ncrime = []\\ncrime = sorted(list(set(crime)), key=lambda x: len(x), reverse=True)\\n\\nevent_record_other = [\\\"Hundreds accused him of sexual abuse the year after his death\\\"]\\nevent_record_other = sorted(\\n    list(set(event_record_other)), key=lambda x: len(x), reverse=True\\n)\\n\\nother_species = []\\nother_species = sorted(list(set(other_species)), key=lambda x: len(x), reverse=True)\";\n",
       "                var nbb_formatted_code = \"# Creating lists for each category and sorting by decreasing length and removing duplicates\\n\\npolitics_govt_law = [\\n    \\\"Native rights lawyer\\\",\\n    \\\"human rights lawyer\\\",\\n    \\\"civil rights lawyer\\\",\\n    \\\"disbarred lawyer\\\",\\n    \\\"criminal lawyer\\\",\\n    \\\"trial lawyer\\\",\\n    \\\"labor lawyer\\\",\\n    \\\"lawyer\\\",\\n    \\\"hereditary peer\\\",\\n    \\\"mentor teacher of Vladimir Putin\\\",\\n    \\\"son of novelist John Buchan\\\",\\n    \\\"judge for the Middle District of Alabama\\\",\\n    \\\"the first female federal judge\\\",\\n    \\\"administrative law judge\\\",\\n    \\\"Supreme Court judge\\\",\\n    \\\"first female judge\\\",\\n    \\\"High Court judge\\\",\\n    \\\"federal judge\\\",\\n    \\\"tribal judge\\\",\\n    \\\"chief judge\\\",\\n    \\\"state judge\\\",\\n    \\\"jurist who was the th Governor of Virginia\\\",\\n    \\\"jurist\\\",\\n    \\\"publisher of Hitler\\\",\\n    \\\"the PLO executive committee\\\",\\n]\\npolitics_govt_law = sorted(\\n    list(set(politics_govt_law)), key=lambda x: len(x), reverse=True\\n)\\n\\narts = [\\n    \\\"composer\\\",\\n    \\\"director\\\",\\n    \\\"playwright with cerebral palsy\\\",\\n    \\\"playwright\\\",\\n    \\\"editor for United Press International\\\",\\n    \\\"editor of the Daily Express\\\",\\n    \\\"editor of science fiction\\\",\\n    \\\"contributing editor for\\\",\\n    \\\"founding editor of the\\\",\\n    \\\"editor of comic books\\\",\\n    \\\"magazine editor of GQ\\\",\\n    \\\"editor for DC Comics\\\",\\n    \\\"pulp magazine editor\\\",\\n    \\\"founding editor of\\\",\\n    \\\"television editor\\\",\\n    \\\"newspaper editor\\\",\\n    \\\"magazine editor\\\",\\n    \\\"fashion editor\\\",\\n    \\\"script editor\\\",\\n    \\\"editor of the\\\",\\n    \\\"choral editor\\\",\\n    \\\"sound editor\\\",\\n    \\\"news editor\\\",\\n    \\\"book editor\\\",\\n    \\\"copy editor\\\",\\n    \\\"art editor\\\",\\n    \\\"editor of\\\",\\n    \\\"editor\\\",\\n    \\\"illustrator of children books\\\",\\n    \\\"children books illustrator\\\",\\n    \\\"children book illustrator\\\",\\n    \\\"trading card illustrator\\\",\\n    \\\"book cover illustrator\\\",\\n    \\\"magazine illustrator\\\",\\n    \\\"book illustrator\\\",\\n    \\\"illustrator\\\",\\n    \\\"brass instrument\\\",\\n    \\\"television special effects designer\\\",\\n    \\\"television costume designer\\\",\\n    \\\"roleplaying game designer\\\",\\n    \\\"Disney landscape designer\\\",\\n    \\\"designer of the flag of\\\",\\n    \\\"Gothic Revival designer\\\",\\n    \\\"architectural designer\\\",\\n    \\\"postage stamp designer\\\",\\n    \\\"environmental designer\\\",\\n    \\\"album cover designer\\\",\\n    \\\"bridal wear designer\\\",\\n    \\\"production designer\\\",\\n    \\\"instrument designer\\\",\\n    \\\"furniture designer\\\",\\n    \\\"character designer\\\",\\n    \\\"interior designer\\\",\\n    \\\"banknote designer\\\",\\n    \\\"typeface designer\\\",\\n    \\\"of design\\\",\\n    \\\"graphic designer\\\",\\n    \\\"fashion designer\\\",\\n    \\\"costume designer\\\",\\n    \\\"jewelry designer\\\",\\n    \\\"wargame designer\\\",\\n    \\\"makeup designer\\\",\\n    \\\"glass designer\\\",\\n    \\\"organ designer\\\",\\n    \\\"type designer\\\",\\n    \\\"coin designer\\\",\\n    \\\"game designer\\\",\\n    \\\"book designer\\\",\\n    \\\"set designer\\\",\\n    \\\"ballet mistress\\\",\\n    \\\"ballet\\\",\\n    \\\"ballet dancer\\\",\\n    \\\"acting\\\",\\n    \\\"music\\\",\\n    \\\"piano\\\",\\n    \\\"dance critic\\\",\\n    \\\"dancer\\\",\\n    \\\"dance\\\",\\n    \\\"Tony Award winning choreographer\\\",\\n    \\\"stage choreographer\\\",\\n    \\\"choreographer\\\",\\n    \\\"founding conductor of Brooklyn Philharmonic Orchestra\\\",\\n    \\\"conductor of the Nashville Symphony Orchestra\\\",\\n    \\\"choral conductor\\\",\\n    \\\"choir conductor\\\",\\n    \\\"opera conductor\\\",\\n    \\\"conductor\\\",\\n    \\\"novelist in the Kannada language\\\",\\n    \\\"James Bond continuation novelist\\\",\\n    \\\"mystery novelist\\\",\\n    \\\"graphic novelist\\\",\\n    \\\"crime novelist\\\",\\n    '\\\"one of the nation most accomplished medallic artists\\\"',\\n    \\\"cover production artist for DC Comics\\\",\\n    \\\"pioneering manhua artist\\\",\\n    \\\"butter sculpture artist\\\",\\n    \\\"representational artist\\\",\\n    \\\"science fiction artist\\\",\\n    \\\"visualization artist\\\",\\n    \\\"stained glass artist\\\",\\n    \\\"installation artist\\\",\\n    \\\"language dub artist\\\",\\n    \\\"performance artist\\\",\\n    \\\"album cover artist\\\",\\n    \\\"comic strip artist\\\",\\n    \\\"psychedelic artist\\\",\\n    \\\"comic book artist\\\",\\n    \\\"storyboard artist\\\",\\n    \\\"minimalist artist\\\",\\n    \\\"conceptual artist\\\",\\n    \\\"recording artist\\\",\\n    \\\"pictorial artist\\\",\\n    \\\"landscape artist\\\",\\n    \\\"bluegrass artist\\\",\\n    \\\"fish skin artist\\\",\\n    \\\"graffiti artist\\\",\\n    \\\"national artist\\\",\\n    \\\"graphic artist\\\",\\n    \\\"ceramic artist\\\",\\n    \\\"textile artist\\\",\\n    \\\"cartoon artist\\\",\\n    \\\"digital artist\\\",\\n    \\\"kinetic artist\\\",\\n    \\\"dubbing artist\\\",\\n    \\\"make up artist\\\",\\n    \\\"session artist\\\",\\n    \\\"fantasy artist\\\",\\n    \\\"plastic artist\\\",\\n    \\\"visual artist\\\",\\n    \\\"comics artist\\\",\\n    \\\"makeup artist\\\",\\n    \\\"street artist\\\",\\n    \\\"poster artist\\\",\\n    \\\"layout artist\\\",\\n    \\\"video artist\\\",\\n    \\\"album artist\\\",\\n    \\\"light artist\\\",\\n    \\\"artist model\\\",\\n    \\\"cover artist\\\",\\n    \\\"comic artist\\\",\\n    \\\"pop artist\\\",\\n    \\\"assemblage sculptor\\\",\\n    \\\"conceptual sculptor\\\",\\n    \\\"glass sculptor\\\",\\n    \\\"bust sculptor\\\",\\n    \\\"sculptor\\\",\\n    \\\"surrealist painter\\\",\\n    \\\"landscape painter\\\",\\n    \\\"portrait painter\\\",\\n    \\\"painter\\\",\\n    \\\"television presenter\\\",\\n    \\\"Chicago children television entertainer\\\",\\n    \\\"first television host of the game show\\\",\\n    \\\"pioneer of public access television\\\",\\n    \\\"television special effects designer\\\",\\n    \\\"children television personality\\\",\\n    \\\"reality television personality\\\",\\n    \\\"children television presenter\\\",\\n    \\\"reality television contestant\\\",\\n    \\\"the early years of television\\\",\\n    \\\"radio television personality\\\",\\n    \\\"television costume designer\\\",\\n    \\\"radio television presenter\\\",\\n    \\\"television show contestant\\\",\\n    \\\"cable television executive\\\",\\n    \\\"television news executive\\\",\\n    \\\"television game show host\\\",\\n    \\\"television color analyst\\\",\\n    \\\"children television host\\\",\\n    \\\"reality television star\\\",\\n    \\\"television movie scores\\\",\\n    \\\"television broadcasting\\\",\\n    \\\"radio television critic\\\",\\n    \\\"television personality\\\",\\n    \\\"television broadcaster\\\",\\n    \\\"television commentator\\\",\\n    \\\"television news anchor\\\",\\n    \\\"a television show host\\\",\\n    \\\"television presenter\\\",\\n    \\\"television announcer\\\",\\n    \\\"television executive\\\",\\n    \\\"television show host\\\",\\n    \\\"television performer\\\",\\n    \\\"television editor\\\",\\n    \\\"television anchor\\\",\\n    \\\"television scores\\\",\\n    \\\"television host\\\",\\n    \\\"television chef\\\",\\n    \\\"television set\\\",\\n    \\\"television\\\",\\n    \\\"television broadcaster\\\",\\n    \\\"BBC radio broadcaster\\\",\\n    \\\"broadcaster known as\\\",\\n    \\\"radio broadcaster\\\",\\n    \\\"broadcaster\\\",\\n    \\\"literary book publisher\\\",\\n    \\\"publisher of magazine\\\",\\n    \\\"publisher of from to\\\",\\n    \\\"numismatic publisher\\\",\\n    \\\"newspaper publisher\\\",\\n    \\\"magazine publisher\\\",\\n    \\\"bass guitarist for The Four Seasons\\\",\\n    \\\"guitarist of Big Country\\\",\\n    \\\"rock n' roll guitarist\\\",\\n    \\\"pedal steel guitarist\\\",\\n    \\\"blues rock guitarist\\\",\\n    \\\"classical guitarist\\\",\\n    \\\"flamenco guitarist\\\",\\n    \\\"blues guitarist\\\",\\n    \\\"metal guitarist\\\",\\n    \\\"swing guitarist\\\",\\n    \\\"roll guitarist\\\",\\n    \\\"rock guitarist\\\",\\n    \\\"jazz guitarist\\\",\\n    \\\"bass guitarist\\\",\\n    \\\"soul guitarist\\\",\\n    \\\"R&B guitarist\\\",\\n    \\\"a guitarist\\\",\\n    \\\"guitarist\\\",\\n    \\\"experimental photographer\\\",\\n    \\\"Holocaust photographer\\\",\\n    \\\"wildlife photographer\\\",\\n    \\\"portrait photographer\\\",\\n    \\\"magazine photographer\\\",\\n    \\\"nature photographer\\\",\\n    \\\"blues photographer\\\",\\n    \\\"photograph subject\\\",\\n    \\\"art photographer\\\",\\n    \\\"photo essayist\\\",\\n    \\\"photographer\\\",\\n    \\\"pianist specializing in Bach\\\",\\n    \\\"concert pianist\\\",\\n    \\\"swing pianist\\\",\\n    \\\"jazz pianist\\\",\\n    \\\"fortepianist\\\",\\n    \\\"R&B pianist\\\",\\n    \\\"pianist\\\",\\n    \\\"production company executive\\\",\\n    \\\"public relations executive\\\",\\n    \\\"communications executive\\\",\\n]\\narts = sorted(list(set(arts)), key=lambda x: len(x), reverse=True)\\n\\nsports = [\\n    \\\"pilates teacher\\\",\\n    \\\"Aikikai teacher\\\",\\n    \\\"aikido teacher\\\",\\n    \\\"mixed martial artist\\\",\\n    \\\"martial artist\\\",\\n    \\\"line judge\\\",\\n    \\\"for the Cincinnati Reds\\\",\\n]\\nsports = sorted(list(set(sports)), key=lambda x: len(x), reverse=True)\\n\\nsciences = [\\n    \\\"who made critical contributions to the development of radar\\\",\\n    \\\"specialized in turbulence\\\",\\n    \\\"computer research executive\\\",\\n    \\\"medical research executive\\\",\\n]\\nsciences = sorted(list(set(sciences)), key=lambda x: len(x), reverse=True)\\n\\nbusiness_farming = [\\n    \\\"automobile manufacturing executive\\\",\\n    \\\"manufacturing executive\\\",\\n    \\\"telecommunications executive\\\",\\n    \\\"financial sector executive\\\",\\n    \\\"chief executive of Leyland\\\",\\n    \\\"pharmaceutical executive\\\",\\n    \\\"executive of Apple Corps\\\",\\n    \\\"manufacturing executive\\\",\\n    \\\"agricultural executive\\\",\\n    \\\"construction executive\\\",\\n    \\\"electronics executive\\\",\\n    \\\"technology executive\\\",\\n    \\\"healthcare executive\\\",\\n    \\\"mail order executive\\\",\\n    \\\"investment executive\\\",\\n    \\\"theme park executive\\\",\\n    \\\"automobile executive\\\",\\n    \\\"corporate executive\\\",\\n    \\\"insurance executive\\\",\\n    \\\"beverage executive\\\",\\n    \\\"catering executive\\\",\\n    \\\"company executive\\\",\\n    \\\"finance executive\\\",\\n    \\\"banking executive\\\",\\n    \\\"transit executive\\\",\\n    \\\"airline executive\\\",\\n    \\\"retail executive\\\",\\n    \\\"mining executive\\\",\\n    \\\"energy executive\\\",\\n    \\\"resort executive\\\",\\n    \\\"parts executive\\\",\\n    \\\"sales executive\\\",\\n    \\\"chief executive\\\",\\n    \\\"food executive\\\",\\n    \\\"coal executive\\\",\\n    \\\"oil executive\\\",\\n    \\\"gem executive\\\",\\n]\\nbusiness_farming = sorted(\\n    list(set(business_farming)), key=lambda x: len(x), reverse=True\\n)\\n\\nacademia_humanities = [\\n    \\\"translator of philosophy\\\",\\n    \\\"translator of literature\\\",\\n    \\\"literary translator\\\",\\n    \\\"language translator\\\",\\n    \\\"Quechua translator\\\",\\n    \\\"translator\\\",\\n    \\\"MIT professor\\\",\\n    \\\"Alexander von Humboldt professor of geography at UCLA\\\",\\n    \\\"professor of\\\",\\n    \\\"professor at the Academy of Theatre\\\",\\n    \\\"professor at the University of Chicago\\\",\\n    \\\"professor at Brigham Young University\\\",\\n    \\\"professor at the University of Warsaw\\\",\\n    \\\"professor at George Mason University\\\",\\n    \\\"professor at Seton Hall University\\\",\\n    \\\"professor at the University of\\\",\\n    \\\"professor of clinical\\\",\\n    \\\"professor at Columbia University\\\",\\n    \\\"professor at Stanford University\\\",\\n    \\\"professor of constitutional\\\",\\n    \\\"professor of Hebrew Literature\\\",\\n    \\\"philosophy professor\\\",\\n    \\\"professor of ancient languages\\\",\\n    \\\"professor of quantum\\\",\\n    \\\"professor in\\\",\\n    \\\"professor at University of\\\",\\n    \\\"emeritus professor at Yale\\\",\\n    \\\"professor of Latin studies\\\",\\n    \\\"A&M University professor\\\",\\n    \\\"professor of philosohy\\\",\\n    \\\"professor of literature\\\",\\n    \\\"communication professor\\\",\\n    \\\"professor of Egyptology\\\",\\n    \\\"professor of rhetoric\\\",\\n    \\\"university professor\\\",\\n    \\\"philosophy professor\\\",\\n    \\\"University professor\\\",\\n    \\\"literature professor\\\",\\n    \\\"professor of Studies\\\",\\n    \\\"professor emeritus\\\",\\n    \\\"literary professor\\\",\\n    \\\"Emeritus professor\\\",\\n    \\\"college professor\\\",\\n    \\\"MIT professor\\\",\\n    \\\"professor of\\\",\\n    \\\"a professor\\\",\\n    \\\"professor\\\",\\n    \\\"university teacher\\\",\\n    \\\"school teacher\\\",\\n    \\\"civics teacher\\\",\\n    \\\"speech teacher\\\",\\n    \\\"schoolteacher\\\",\\n    \\\"an executive at SRI International\\\",\\n]\\nacademia_humanities = sorted(\\n    list(set(academia_humanities)), key=lambda x: len(x), reverse=True\\n)\\n\\nlaw_enf_military_operator = []\\nlaw_enf_military_operator = sorted(\\n    list(set(law_enf_military_operator)), key=lambda x: len(x), reverse=True\\n)\\n\\nspiritual = [\\n    \\\"meditation teacher\\\",\\n    \\\"metaphysical teacher\\\",\\n    \\\"spiritual leader of the Republic of from to\\\",\\n    \\\"spiritual teacher\\\",\\n    \\\"spiritual leader\\\",\\n    \\\"spiritualist\\\",\\n    \\\"religious teacher\\\",\\n    \\\"Dzogchen teacher\\\",\\n    \\\"Qira'at teacher\\\",\\n]\\nspiritual = sorted(list(set(spiritual)), key=lambda x: len(x), reverse=True)\\n\\nsocial = [\\n    \\\"non profit executive\\\",\\n    \\\"charity executive\\\",\\n]\\nsocial = sorted(list(set(social)), key=lambda x: len(x), reverse=True)\\n\\ncrime = []\\ncrime = sorted(list(set(crime)), key=lambda x: len(x), reverse=True)\\n\\nevent_record_other = [\\\"Hundreds accused him of sexual abuse the year after his death\\\"]\\nevent_record_other = sorted(\\n    list(set(event_record_other)), key=lambda x: len(x), reverse=True\\n)\\n\\nother_species = []\\nother_species = sorted(list(set(other_species)), key=lambda x: len(x), reverse=True)\";\n",
       "                var nbb_cells = Jupyter.notebook.get_cells();\n",
       "                for (var i = 0; i < nbb_cells.length; ++i) {\n",
       "                    if (nbb_cells[i].input_prompt_number == nbb_cell_id) {\n",
       "                        if (nbb_cells[i].get_text() == nbb_unformatted_code) {\n",
       "                             nbb_cells[i].set_text(nbb_formatted_code);\n",
       "                        }\n",
       "                        break;\n",
       "                    }\n",
       "                }\n",
       "            }, 500);\n",
       "            "
      ],
      "text/plain": [
       "<IPython.core.display.Javascript object>"
      ]
     },
     "metadata": {},
     "output_type": "display_data"
    }
   ],
   "source": [
    "# Creating lists for each category and sorting by decreasing length and removing duplicates\n",
    "\n",
    "politics_govt_law = [\n",
    "    \"Native rights lawyer\",\n",
    "    \"human rights lawyer\",\n",
    "    \"civil rights lawyer\",\n",
    "    \"disbarred lawyer\",\n",
    "    \"criminal lawyer\",\n",
    "    \"trial lawyer\",\n",
    "    \"labor lawyer\",\n",
    "    \"lawyer\",\n",
    "    \"hereditary peer\",\n",
    "    \"mentor teacher of Vladimir Putin\",\n",
    "    \"son of novelist John Buchan\",\n",
    "    \"judge for the Middle District of Alabama\",\n",
    "    \"the first female federal judge\",\n",
    "    \"administrative law judge\",\n",
    "    \"Supreme Court judge\",\n",
    "    \"first female judge\",\n",
    "    \"High Court judge\",\n",
    "    \"federal judge\",\n",
    "    \"tribal judge\",\n",
    "    \"chief judge\",\n",
    "    \"state judge\",\n",
    "    \"jurist who was the th Governor of Virginia\",\n",
    "    \"jurist\",\n",
    "    \"publisher of Hitler\",\n",
    "    \"the PLO executive committee\",\n",
    "]\n",
    "politics_govt_law = sorted(\n",
    "    list(set(politics_govt_law)), key=lambda x: len(x), reverse=True\n",
    ")\n",
    "\n",
    "arts = [\n",
    "    \"composer\",\n",
    "    \"director\",\n",
    "    \"playwright with cerebral palsy\",\n",
    "    \"playwright\",\n",
    "    \"editor for United Press International\",\n",
    "    \"editor of the Daily Express\",\n",
    "    \"editor of science fiction\",\n",
    "    \"contributing editor for\",\n",
    "    \"founding editor of the\",\n",
    "    \"editor of comic books\",\n",
    "    \"magazine editor of GQ\",\n",
    "    \"editor for DC Comics\",\n",
    "    \"pulp magazine editor\",\n",
    "    \"founding editor of\",\n",
    "    \"television editor\",\n",
    "    \"newspaper editor\",\n",
    "    \"magazine editor\",\n",
    "    \"fashion editor\",\n",
    "    \"script editor\",\n",
    "    \"editor of the\",\n",
    "    \"choral editor\",\n",
    "    \"sound editor\",\n",
    "    \"news editor\",\n",
    "    \"book editor\",\n",
    "    \"copy editor\",\n",
    "    \"art editor\",\n",
    "    \"editor of\",\n",
    "    \"editor\",\n",
    "    \"illustrator of children books\",\n",
    "    \"children books illustrator\",\n",
    "    \"children book illustrator\",\n",
    "    \"trading card illustrator\",\n",
    "    \"book cover illustrator\",\n",
    "    \"magazine illustrator\",\n",
    "    \"book illustrator\",\n",
    "    \"illustrator\",\n",
    "    \"brass instrument\",\n",
    "    \"television special effects designer\",\n",
    "    \"television costume designer\",\n",
    "    \"roleplaying game designer\",\n",
    "    \"Disney landscape designer\",\n",
    "    \"designer of the flag of\",\n",
    "    \"Gothic Revival designer\",\n",
    "    \"architectural designer\",\n",
    "    \"postage stamp designer\",\n",
    "    \"environmental designer\",\n",
    "    \"album cover designer\",\n",
    "    \"bridal wear designer\",\n",
    "    \"production designer\",\n",
    "    \"instrument designer\",\n",
    "    \"furniture designer\",\n",
    "    \"character designer\",\n",
    "    \"interior designer\",\n",
    "    \"banknote designer\",\n",
    "    \"typeface designer\",\n",
    "    \"of design\",\n",
    "    \"graphic designer\",\n",
    "    \"fashion designer\",\n",
    "    \"costume designer\",\n",
    "    \"jewelry designer\",\n",
    "    \"wargame designer\",\n",
    "    \"makeup designer\",\n",
    "    \"glass designer\",\n",
    "    \"organ designer\",\n",
    "    \"type designer\",\n",
    "    \"coin designer\",\n",
    "    \"game designer\",\n",
    "    \"book designer\",\n",
    "    \"set designer\",\n",
    "    \"ballet mistress\",\n",
    "    \"ballet\",\n",
    "    \"ballet dancer\",\n",
    "    \"acting\",\n",
    "    \"music\",\n",
    "    \"piano\",\n",
    "    \"dance critic\",\n",
    "    \"dancer\",\n",
    "    \"dance\",\n",
    "    \"Tony Award winning choreographer\",\n",
    "    \"stage choreographer\",\n",
    "    \"choreographer\",\n",
    "    \"founding conductor of Brooklyn Philharmonic Orchestra\",\n",
    "    \"conductor of the Nashville Symphony Orchestra\",\n",
    "    \"choral conductor\",\n",
    "    \"choir conductor\",\n",
    "    \"opera conductor\",\n",
    "    \"conductor\",\n",
    "    \"novelist in the Kannada language\",\n",
    "    \"James Bond continuation novelist\",\n",
    "    \"mystery novelist\",\n",
    "    \"graphic novelist\",\n",
    "    \"crime novelist\",\n",
    "    '\"one of the nation most accomplished medallic artists\"',\n",
    "    \"cover production artist for DC Comics\",\n",
    "    \"pioneering manhua artist\",\n",
    "    \"butter sculpture artist\",\n",
    "    \"representational artist\",\n",
    "    \"science fiction artist\",\n",
    "    \"visualization artist\",\n",
    "    \"stained glass artist\",\n",
    "    \"installation artist\",\n",
    "    \"language dub artist\",\n",
    "    \"performance artist\",\n",
    "    \"album cover artist\",\n",
    "    \"comic strip artist\",\n",
    "    \"psychedelic artist\",\n",
    "    \"comic book artist\",\n",
    "    \"storyboard artist\",\n",
    "    \"minimalist artist\",\n",
    "    \"conceptual artist\",\n",
    "    \"recording artist\",\n",
    "    \"pictorial artist\",\n",
    "    \"landscape artist\",\n",
    "    \"bluegrass artist\",\n",
    "    \"fish skin artist\",\n",
    "    \"graffiti artist\",\n",
    "    \"national artist\",\n",
    "    \"graphic artist\",\n",
    "    \"ceramic artist\",\n",
    "    \"textile artist\",\n",
    "    \"cartoon artist\",\n",
    "    \"digital artist\",\n",
    "    \"kinetic artist\",\n",
    "    \"dubbing artist\",\n",
    "    \"make up artist\",\n",
    "    \"session artist\",\n",
    "    \"fantasy artist\",\n",
    "    \"plastic artist\",\n",
    "    \"visual artist\",\n",
    "    \"comics artist\",\n",
    "    \"makeup artist\",\n",
    "    \"street artist\",\n",
    "    \"poster artist\",\n",
    "    \"layout artist\",\n",
    "    \"video artist\",\n",
    "    \"album artist\",\n",
    "    \"light artist\",\n",
    "    \"artist model\",\n",
    "    \"cover artist\",\n",
    "    \"comic artist\",\n",
    "    \"pop artist\",\n",
    "    \"assemblage sculptor\",\n",
    "    \"conceptual sculptor\",\n",
    "    \"glass sculptor\",\n",
    "    \"bust sculptor\",\n",
    "    \"sculptor\",\n",
    "    \"surrealist painter\",\n",
    "    \"landscape painter\",\n",
    "    \"portrait painter\",\n",
    "    \"painter\",\n",
    "    \"television presenter\",\n",
    "    \"Chicago children television entertainer\",\n",
    "    \"first television host of the game show\",\n",
    "    \"pioneer of public access television\",\n",
    "    \"television special effects designer\",\n",
    "    \"children television personality\",\n",
    "    \"reality television personality\",\n",
    "    \"children television presenter\",\n",
    "    \"reality television contestant\",\n",
    "    \"the early years of television\",\n",
    "    \"radio television personality\",\n",
    "    \"television costume designer\",\n",
    "    \"radio television presenter\",\n",
    "    \"television show contestant\",\n",
    "    \"cable television executive\",\n",
    "    \"television news executive\",\n",
    "    \"television game show host\",\n",
    "    \"television color analyst\",\n",
    "    \"children television host\",\n",
    "    \"reality television star\",\n",
    "    \"television movie scores\",\n",
    "    \"television broadcasting\",\n",
    "    \"radio television critic\",\n",
    "    \"television personality\",\n",
    "    \"television broadcaster\",\n",
    "    \"television commentator\",\n",
    "    \"television news anchor\",\n",
    "    \"a television show host\",\n",
    "    \"television presenter\",\n",
    "    \"television announcer\",\n",
    "    \"television executive\",\n",
    "    \"television show host\",\n",
    "    \"television performer\",\n",
    "    \"television editor\",\n",
    "    \"television anchor\",\n",
    "    \"television scores\",\n",
    "    \"television host\",\n",
    "    \"television chef\",\n",
    "    \"television set\",\n",
    "    \"television\",\n",
    "    \"television broadcaster\",\n",
    "    \"BBC radio broadcaster\",\n",
    "    \"broadcaster known as\",\n",
    "    \"radio broadcaster\",\n",
    "    \"broadcaster\",\n",
    "    \"literary book publisher\",\n",
    "    \"publisher of magazine\",\n",
    "    \"publisher of from to\",\n",
    "    \"numismatic publisher\",\n",
    "    \"newspaper publisher\",\n",
    "    \"magazine publisher\",\n",
    "    \"bass guitarist for The Four Seasons\",\n",
    "    \"guitarist of Big Country\",\n",
    "    \"rock n' roll guitarist\",\n",
    "    \"pedal steel guitarist\",\n",
    "    \"blues rock guitarist\",\n",
    "    \"classical guitarist\",\n",
    "    \"flamenco guitarist\",\n",
    "    \"blues guitarist\",\n",
    "    \"metal guitarist\",\n",
    "    \"swing guitarist\",\n",
    "    \"roll guitarist\",\n",
    "    \"rock guitarist\",\n",
    "    \"jazz guitarist\",\n",
    "    \"bass guitarist\",\n",
    "    \"soul guitarist\",\n",
    "    \"R&B guitarist\",\n",
    "    \"a guitarist\",\n",
    "    \"guitarist\",\n",
    "    \"experimental photographer\",\n",
    "    \"Holocaust photographer\",\n",
    "    \"wildlife photographer\",\n",
    "    \"portrait photographer\",\n",
    "    \"magazine photographer\",\n",
    "    \"nature photographer\",\n",
    "    \"blues photographer\",\n",
    "    \"photograph subject\",\n",
    "    \"art photographer\",\n",
    "    \"photo essayist\",\n",
    "    \"photographer\",\n",
    "    \"pianist specializing in Bach\",\n",
    "    \"concert pianist\",\n",
    "    \"swing pianist\",\n",
    "    \"jazz pianist\",\n",
    "    \"fortepianist\",\n",
    "    \"R&B pianist\",\n",
    "    \"pianist\",\n",
    "    \"production company executive\",\n",
    "    \"public relations executive\",\n",
    "    \"communications executive\",\n",
    "]\n",
    "arts = sorted(list(set(arts)), key=lambda x: len(x), reverse=True)\n",
    "\n",
    "sports = [\n",
    "    \"pilates teacher\",\n",
    "    \"Aikikai teacher\",\n",
    "    \"aikido teacher\",\n",
    "    \"mixed martial artist\",\n",
    "    \"martial artist\",\n",
    "    \"line judge\",\n",
    "    \"for the Cincinnati Reds\",\n",
    "]\n",
    "sports = sorted(list(set(sports)), key=lambda x: len(x), reverse=True)\n",
    "\n",
    "sciences = [\n",
    "    \"who made critical contributions to the development of radar\",\n",
    "    \"specialized in turbulence\",\n",
    "    \"computer research executive\",\n",
    "    \"medical research executive\",\n",
    "]\n",
    "sciences = sorted(list(set(sciences)), key=lambda x: len(x), reverse=True)\n",
    "\n",
    "business_farming = [\n",
    "    \"automobile manufacturing executive\",\n",
    "    \"manufacturing executive\",\n",
    "    \"telecommunications executive\",\n",
    "    \"financial sector executive\",\n",
    "    \"chief executive of Leyland\",\n",
    "    \"pharmaceutical executive\",\n",
    "    \"executive of Apple Corps\",\n",
    "    \"manufacturing executive\",\n",
    "    \"agricultural executive\",\n",
    "    \"construction executive\",\n",
    "    \"electronics executive\",\n",
    "    \"technology executive\",\n",
    "    \"healthcare executive\",\n",
    "    \"mail order executive\",\n",
    "    \"investment executive\",\n",
    "    \"theme park executive\",\n",
    "    \"automobile executive\",\n",
    "    \"corporate executive\",\n",
    "    \"insurance executive\",\n",
    "    \"beverage executive\",\n",
    "    \"catering executive\",\n",
    "    \"company executive\",\n",
    "    \"finance executive\",\n",
    "    \"banking executive\",\n",
    "    \"transit executive\",\n",
    "    \"airline executive\",\n",
    "    \"retail executive\",\n",
    "    \"mining executive\",\n",
    "    \"energy executive\",\n",
    "    \"resort executive\",\n",
    "    \"parts executive\",\n",
    "    \"sales executive\",\n",
    "    \"chief executive\",\n",
    "    \"food executive\",\n",
    "    \"coal executive\",\n",
    "    \"oil executive\",\n",
    "    \"gem executive\",\n",
    "]\n",
    "business_farming = sorted(\n",
    "    list(set(business_farming)), key=lambda x: len(x), reverse=True\n",
    ")\n",
    "\n",
    "academia_humanities = [\n",
    "    \"translator of philosophy\",\n",
    "    \"translator of literature\",\n",
    "    \"literary translator\",\n",
    "    \"language translator\",\n",
    "    \"Quechua translator\",\n",
    "    \"translator\",\n",
    "    \"MIT professor\",\n",
    "    \"Alexander von Humboldt professor of geography at UCLA\",\n",
    "    \"professor of\",\n",
    "    \"professor at the Academy of Theatre\",\n",
    "    \"professor at the University of Chicago\",\n",
    "    \"professor at Brigham Young University\",\n",
    "    \"professor at the University of Warsaw\",\n",
    "    \"professor at George Mason University\",\n",
    "    \"professor at Seton Hall University\",\n",
    "    \"professor at the University of\",\n",
    "    \"professor of clinical\",\n",
    "    \"professor at Columbia University\",\n",
    "    \"professor at Stanford University\",\n",
    "    \"professor of constitutional\",\n",
    "    \"professor of Hebrew Literature\",\n",
    "    \"philosophy professor\",\n",
    "    \"professor of ancient languages\",\n",
    "    \"professor of quantum\",\n",
    "    \"professor in\",\n",
    "    \"professor at University of\",\n",
    "    \"emeritus professor at Yale\",\n",
    "    \"professor of Latin studies\",\n",
    "    \"A&M University professor\",\n",
    "    \"professor of philosohy\",\n",
    "    \"professor of literature\",\n",
    "    \"communication professor\",\n",
    "    \"professor of Egyptology\",\n",
    "    \"professor of rhetoric\",\n",
    "    \"university professor\",\n",
    "    \"philosophy professor\",\n",
    "    \"University professor\",\n",
    "    \"literature professor\",\n",
    "    \"professor of Studies\",\n",
    "    \"professor emeritus\",\n",
    "    \"literary professor\",\n",
    "    \"Emeritus professor\",\n",
    "    \"college professor\",\n",
    "    \"MIT professor\",\n",
    "    \"professor of\",\n",
    "    \"a professor\",\n",
    "    \"professor\",\n",
    "    \"university teacher\",\n",
    "    \"school teacher\",\n",
    "    \"civics teacher\",\n",
    "    \"speech teacher\",\n",
    "    \"schoolteacher\",\n",
    "    \"an executive at SRI International\",\n",
    "]\n",
    "academia_humanities = sorted(\n",
    "    list(set(academia_humanities)), key=lambda x: len(x), reverse=True\n",
    ")\n",
    "\n",
    "law_enf_military_operator = []\n",
    "law_enf_military_operator = sorted(\n",
    "    list(set(law_enf_military_operator)), key=lambda x: len(x), reverse=True\n",
    ")\n",
    "\n",
    "spiritual = [\n",
    "    \"meditation teacher\",\n",
    "    \"metaphysical teacher\",\n",
    "    \"spiritual leader of the Republic of from to\",\n",
    "    \"spiritual teacher\",\n",
    "    \"spiritual leader\",\n",
    "    \"spiritualist\",\n",
    "    \"religious teacher\",\n",
    "    \"Dzogchen teacher\",\n",
    "    \"Qira'at teacher\",\n",
    "]\n",
    "spiritual = sorted(list(set(spiritual)), key=lambda x: len(x), reverse=True)\n",
    "\n",
    "social = [\n",
    "    \"non profit executive\",\n",
    "    \"charity executive\",\n",
    "]\n",
    "social = sorted(list(set(social)), key=lambda x: len(x), reverse=True)\n",
    "\n",
    "crime = []\n",
    "crime = sorted(list(set(crime)), key=lambda x: len(x), reverse=True)\n",
    "\n",
    "event_record_other = [\"Hundreds accused him of sexual abuse the year after his death\"]\n",
    "event_record_other = sorted(\n",
    "    list(set(event_record_other)), key=lambda x: len(x), reverse=True\n",
    ")\n",
    "\n",
    "other_species = []\n",
    "other_species = sorted(list(set(other_species)), key=lambda x: len(x), reverse=True)"
   ]
  },
  {
   "cell_type": "code",
   "execution_count": 43,
   "id": "62db9f2e",
   "metadata": {},
   "outputs": [
    {
     "data": {
      "application/javascript": [
       "\n",
       "            setTimeout(function() {\n",
       "                var nbb_cell_id = 43;\n",
       "                var nbb_unformatted_code = \"# Hard-coding info_2_1 value for entry to correctly categorize\\nindex = df[df[\\\"link\\\"] == \\\"https://en.wikipedia.org/wiki/Harry_Campion\\\"].index\\ndf.loc[index, \\\"info_2_1\\\"] = \\\"government\\\"\\n\\n# Hard-coding info_2_1 value for entry to correctly categorize\\nindex = df[df[\\\"link\\\"] == \\\"https://en.wikipedia.org/wiki/Hugh_Clegg_(academic)\\\"].index\\ndf.loc[index, \\\"info_2_1\\\"] = \\\"\\\"\";\n",
       "                var nbb_formatted_code = \"# Hard-coding info_2_1 value for entry to correctly categorize\\nindex = df[df[\\\"link\\\"] == \\\"https://en.wikipedia.org/wiki/Harry_Campion\\\"].index\\ndf.loc[index, \\\"info_2_1\\\"] = \\\"government\\\"\\n\\n# Hard-coding info_2_1 value for entry to correctly categorize\\nindex = df[df[\\\"link\\\"] == \\\"https://en.wikipedia.org/wiki/Hugh_Clegg_(academic)\\\"].index\\ndf.loc[index, \\\"info_2_1\\\"] = \\\"\\\"\";\n",
       "                var nbb_cells = Jupyter.notebook.get_cells();\n",
       "                for (var i = 0; i < nbb_cells.length; ++i) {\n",
       "                    if (nbb_cells[i].input_prompt_number == nbb_cell_id) {\n",
       "                        if (nbb_cells[i].get_text() == nbb_unformatted_code) {\n",
       "                             nbb_cells[i].set_text(nbb_formatted_code);\n",
       "                        }\n",
       "                        break;\n",
       "                    }\n",
       "                }\n",
       "            }, 500);\n",
       "            "
      ],
      "text/plain": [
       "<IPython.core.display.Javascript object>"
      ]
     },
     "metadata": {},
     "output_type": "display_data"
    }
   ],
   "source": [
    "# Hard-coding info_2_1 value for entry to correctly categorize\n",
    "index = df[df[\"link\"] == \"https://en.wikipedia.org/wiki/Harry_Campion\"].index\n",
    "df.loc[index, \"info_2_1\"] = \"government\"\n",
    "\n",
    "# Hard-coding info_2_1 value for entry to correctly categorize\n",
    "index = df[df[\"link\"] == \"https://en.wikipedia.org/wiki/Hugh_Clegg_(academic)\"].index\n",
    "df.loc[index, \"info_2_1\"] = \"\""
   ]
  },
  {
   "cell_type": "markdown",
   "id": "e8711395",
   "metadata": {},
   "source": [
    "#### Creating `known_for_dict` Dictionary of Category Keys and Specific Role Lists of Values"
   ]
  },
  {
   "cell_type": "code",
   "execution_count": 44,
   "id": "7bd994a2",
   "metadata": {},
   "outputs": [
    {
     "data": {
      "application/javascript": [
       "\n",
       "            setTimeout(function() {\n",
       "                var nbb_cell_id = 44;\n",
       "                var nbb_unformatted_code = \"# Combining separate lists into one dictionary\\nknown_for_dict = {\\n    \\\"social\\\": social,\\n    \\\"spiritual\\\": spiritual,\\n    \\\"academia_humanities\\\": academia_humanities,\\n    \\\"business_farming\\\": business_farming,\\n    \\\"sciences\\\": sciences,\\n    \\\"politics_govt_law\\\": politics_govt_law,\\n    \\\"law_enf_military_operator\\\": law_enf_military_operator,\\n    \\\"crime\\\": crime,\\n    \\\"event_record_other\\\": event_record_other,\\n    \\\"other_species\\\": other_species,\\n    \\\"arts\\\": arts,\\n    \\\"sports\\\": sports,\\n}\";\n",
       "                var nbb_formatted_code = \"# Combining separate lists into one dictionary\\nknown_for_dict = {\\n    \\\"social\\\": social,\\n    \\\"spiritual\\\": spiritual,\\n    \\\"academia_humanities\\\": academia_humanities,\\n    \\\"business_farming\\\": business_farming,\\n    \\\"sciences\\\": sciences,\\n    \\\"politics_govt_law\\\": politics_govt_law,\\n    \\\"law_enf_military_operator\\\": law_enf_military_operator,\\n    \\\"crime\\\": crime,\\n    \\\"event_record_other\\\": event_record_other,\\n    \\\"other_species\\\": other_species,\\n    \\\"arts\\\": arts,\\n    \\\"sports\\\": sports,\\n}\";\n",
       "                var nbb_cells = Jupyter.notebook.get_cells();\n",
       "                for (var i = 0; i < nbb_cells.length; ++i) {\n",
       "                    if (nbb_cells[i].input_prompt_number == nbb_cell_id) {\n",
       "                        if (nbb_cells[i].get_text() == nbb_unformatted_code) {\n",
       "                             nbb_cells[i].set_text(nbb_formatted_code);\n",
       "                        }\n",
       "                        break;\n",
       "                    }\n",
       "                }\n",
       "            }, 500);\n",
       "            "
      ],
      "text/plain": [
       "<IPython.core.display.Javascript object>"
      ]
     },
     "metadata": {},
     "output_type": "display_data"
    }
   ],
   "source": [
    "# Combining separate lists into one dictionary\n",
    "known_for_dict = {\n",
    "    \"social\": social,\n",
    "    \"spiritual\": spiritual,\n",
    "    \"academia_humanities\": academia_humanities,\n",
    "    \"business_farming\": business_farming,\n",
    "    \"sciences\": sciences,\n",
    "    \"politics_govt_law\": politics_govt_law,\n",
    "    \"law_enf_military_operator\": law_enf_military_operator,\n",
    "    \"crime\": crime,\n",
    "    \"event_record_other\": event_record_other,\n",
    "    \"other_species\": other_species,\n",
    "    \"arts\": arts,\n",
    "    \"sports\": sports,\n",
    "}"
   ]
  },
  {
   "cell_type": "markdown",
   "id": "ec9718c9",
   "metadata": {},
   "source": [
    "#### Extracting Category from `info_2_1`"
   ]
  },
  {
   "cell_type": "code",
   "execution_count": 45,
   "id": "98cbfc9c",
   "metadata": {},
   "outputs": [
    {
     "name": "stdout",
     "output_type": "stream",
     "text": [
      "CPU times: total: 42.8 s\n",
      "Wall time: 42.8 s\n"
     ]
    },
    {
     "data": {
      "application/javascript": [
       "\n",
       "            setTimeout(function() {\n",
       "                var nbb_cell_id = 45;\n",
       "                var nbb_unformatted_code = \"%%time\\n\\n# Column to check\\ncolumn = 'info_2_1'\\n\\n# Start dataframe\\ndataframe = df[df[column].notna()]\\n\\n# For loop to find role in column and extract it as category\\nfor category, category_lst in known_for_dict.items():\\n    for role in category_lst:\\n        for index in dataframe.index:\\n                item = df.loc[index, column]\\n                if item:\\n                    if role in item:\\n                        df.loc[index, category] = 1\\n                        df.loc[index, column] = item.replace(role, '').strip()\\n\\n# Calculating num_categories\\ndf[\\\"num_categories\\\"] = df[known_for_dict.keys()].sum(axis=1)\";\n",
       "                var nbb_formatted_code = \"%%time\\n\\n# Column to check\\ncolumn = 'info_2_1'\\n\\n# Start dataframe\\ndataframe = df[df[column].notna()]\\n\\n# For loop to find role in column and extract it as category\\nfor category, category_lst in known_for_dict.items():\\n    for role in category_lst:\\n        for index in dataframe.index:\\n                item = df.loc[index, column]\\n                if item:\\n                    if role in item:\\n                        df.loc[index, category] = 1\\n                        df.loc[index, column] = item.replace(role, '').strip()\\n\\n# Calculating num_categories\\ndf[\\\"num_categories\\\"] = df[known_for_dict.keys()].sum(axis=1)\";\n",
       "                var nbb_cells = Jupyter.notebook.get_cells();\n",
       "                for (var i = 0; i < nbb_cells.length; ++i) {\n",
       "                    if (nbb_cells[i].input_prompt_number == nbb_cell_id) {\n",
       "                        if (nbb_cells[i].get_text() == nbb_unformatted_code) {\n",
       "                             nbb_cells[i].set_text(nbb_formatted_code);\n",
       "                        }\n",
       "                        break;\n",
       "                    }\n",
       "                }\n",
       "            }, 500);\n",
       "            "
      ],
      "text/plain": [
       "<IPython.core.display.Javascript object>"
      ]
     },
     "metadata": {},
     "output_type": "display_data"
    }
   ],
   "source": [
    "%%time\n",
    "\n",
    "# Column to check\n",
    "column = 'info_2_1'\n",
    "\n",
    "# Start dataframe\n",
    "dataframe = df[df[column].notna()]\n",
    "\n",
    "# For loop to find role in column and extract it as category\n",
    "for category, category_lst in known_for_dict.items():\n",
    "    for role in category_lst:\n",
    "        for index in dataframe.index:\n",
    "                item = df.loc[index, column]\n",
    "                if item:\n",
    "                    if role in item:\n",
    "                        df.loc[index, category] = 1\n",
    "                        df.loc[index, column] = item.replace(role, '').strip()\n",
    "\n",
    "# Calculating num_categories\n",
    "df[\"num_categories\"] = df[known_for_dict.keys()].sum(axis=1)"
   ]
  },
  {
   "cell_type": "markdown",
   "id": "7d2b7512",
   "metadata": {},
   "source": [
    "#### Checking Updated `num_categories` Value Counts"
   ]
  },
  {
   "cell_type": "code",
   "execution_count": 46,
   "id": "c8fb01f1",
   "metadata": {},
   "outputs": [
    {
     "data": {
      "text/plain": [
       "1    91227\n",
       "2     6661\n",
       "3       80\n",
       "0       76\n",
       "Name: num_categories, dtype: int64"
      ]
     },
     "execution_count": 46,
     "metadata": {},
     "output_type": "execute_result"
    },
    {
     "data": {
      "application/javascript": [
       "\n",
       "            setTimeout(function() {\n",
       "                var nbb_cell_id = 46;\n",
       "                var nbb_unformatted_code = \"# Checking updated num_categories value counts\\ndf[\\\"num_categories\\\"].value_counts()\";\n",
       "                var nbb_formatted_code = \"# Checking updated num_categories value counts\\ndf[\\\"num_categories\\\"].value_counts()\";\n",
       "                var nbb_cells = Jupyter.notebook.get_cells();\n",
       "                for (var i = 0; i < nbb_cells.length; ++i) {\n",
       "                    if (nbb_cells[i].input_prompt_number == nbb_cell_id) {\n",
       "                        if (nbb_cells[i].get_text() == nbb_unformatted_code) {\n",
       "                             nbb_cells[i].set_text(nbb_formatted_code);\n",
       "                        }\n",
       "                        break;\n",
       "                    }\n",
       "                }\n",
       "            }, 500);\n",
       "            "
      ],
      "text/plain": [
       "<IPython.core.display.Javascript object>"
      ]
     },
     "metadata": {},
     "output_type": "display_data"
    }
   ],
   "source": [
    "# Checking updated num_categories value counts\n",
    "df[\"num_categories\"].value_counts()"
   ]
  },
  {
   "cell_type": "markdown",
   "id": "2b6a5f4f",
   "metadata": {},
   "source": [
    "#### Observations:\n",
    "- We will proceed to rebuild `known_for_dict` for the next iteration."
   ]
  },
  {
   "cell_type": "markdown",
   "id": "36ceb79d",
   "metadata": {},
   "source": [
    "#### Finding `known_for` Roles in `info_2_1`"
   ]
  },
  {
   "cell_type": "code",
   "execution_count": 47,
   "id": "2ca3aa08",
   "metadata": {},
   "outputs": [
    {
     "data": {
      "application/javascript": [
       "\n",
       "            setTimeout(function() {\n",
       "                var nbb_cell_id = 47;\n",
       "                var nbb_unformatted_code = \"# # Obtaining values for column and their counts\\n# roles_list = df[\\\"info_2_1\\\"].value_counts(ascending=True).index.tolist()\";\n",
       "                var nbb_formatted_code = \"# # Obtaining values for column and their counts\\n# roles_list = df[\\\"info_2_1\\\"].value_counts(ascending=True).index.tolist()\";\n",
       "                var nbb_cells = Jupyter.notebook.get_cells();\n",
       "                for (var i = 0; i < nbb_cells.length; ++i) {\n",
       "                    if (nbb_cells[i].input_prompt_number == nbb_cell_id) {\n",
       "                        if (nbb_cells[i].get_text() == nbb_unformatted_code) {\n",
       "                             nbb_cells[i].set_text(nbb_formatted_code);\n",
       "                        }\n",
       "                        break;\n",
       "                    }\n",
       "                }\n",
       "            }, 500);\n",
       "            "
      ],
      "text/plain": [
       "<IPython.core.display.Javascript object>"
      ]
     },
     "metadata": {},
     "output_type": "display_data"
    }
   ],
   "source": [
    "# # Obtaining values for column and their counts\n",
    "# roles_list = df[\"info_2_1\"].value_counts(ascending=True).index.tolist()"
   ]
  },
  {
   "cell_type": "code",
   "execution_count": 48,
   "id": "6965af87",
   "metadata": {},
   "outputs": [
    {
     "data": {
      "application/javascript": [
       "\n",
       "            setTimeout(function() {\n",
       "                var nbb_cell_id = 48;\n",
       "                var nbb_unformatted_code = \"# # Code to check each value\\n# roles_list.pop()\";\n",
       "                var nbb_formatted_code = \"# # Code to check each value\\n# roles_list.pop()\";\n",
       "                var nbb_cells = Jupyter.notebook.get_cells();\n",
       "                for (var i = 0; i < nbb_cells.length; ++i) {\n",
       "                    if (nbb_cells[i].input_prompt_number == nbb_cell_id) {\n",
       "                        if (nbb_cells[i].get_text() == nbb_unformatted_code) {\n",
       "                             nbb_cells[i].set_text(nbb_formatted_code);\n",
       "                        }\n",
       "                        break;\n",
       "                    }\n",
       "                }\n",
       "            }, 500);\n",
       "            "
      ],
      "text/plain": [
       "<IPython.core.display.Javascript object>"
      ]
     },
     "metadata": {},
     "output_type": "display_data"
    }
   ],
   "source": [
    "# # Code to check each value\n",
    "# roles_list.pop()"
   ]
  },
  {
   "cell_type": "code",
   "execution_count": 49,
   "id": "a97a2f95",
   "metadata": {},
   "outputs": [
    {
     "data": {
      "application/javascript": [
       "\n",
       "            setTimeout(function() {\n",
       "                var nbb_cell_id = 49;\n",
       "                var nbb_unformatted_code = \"# # Create specific_roles_list for above popped value\\n# specific_roles_list = (\\n#     df.loc[\\n#         [\\n#             index\\n#             for index in df[df[\\\"info_2_1\\\"].notna()].index\\n#             if \\\"physic\\\" in df.loc[index, \\\"info_2_1\\\"]\\n#         ],\\n#         \\\"info_2_1\\\",\\n#     ]\\n#     .value_counts()\\n#     .index.tolist()\\n# )\";\n",
       "                var nbb_formatted_code = \"# # Create specific_roles_list for above popped value\\n# specific_roles_list = (\\n#     df.loc[\\n#         [\\n#             index\\n#             for index in df[df[\\\"info_2_1\\\"].notna()].index\\n#             if \\\"physic\\\" in df.loc[index, \\\"info_2_1\\\"]\\n#         ],\\n#         \\\"info_2_1\\\",\\n#     ]\\n#     .value_counts()\\n#     .index.tolist()\\n# )\";\n",
       "                var nbb_cells = Jupyter.notebook.get_cells();\n",
       "                for (var i = 0; i < nbb_cells.length; ++i) {\n",
       "                    if (nbb_cells[i].input_prompt_number == nbb_cell_id) {\n",
       "                        if (nbb_cells[i].get_text() == nbb_unformatted_code) {\n",
       "                             nbb_cells[i].set_text(nbb_formatted_code);\n",
       "                        }\n",
       "                        break;\n",
       "                    }\n",
       "                }\n",
       "            }, 500);\n",
       "            "
      ],
      "text/plain": [
       "<IPython.core.display.Javascript object>"
      ]
     },
     "metadata": {},
     "output_type": "display_data"
    }
   ],
   "source": [
    "# # Create specific_roles_list for above popped value\n",
    "# specific_roles_list = (\n",
    "#     df.loc[\n",
    "#         [\n",
    "#             index\n",
    "#             for index in df[df[\"info_2_1\"].notna()].index\n",
    "#             if \"physic\" in df.loc[index, \"info_2_1\"]\n",
    "#         ],\n",
    "#         \"info_2_1\",\n",
    "#     ]\n",
    "#     .value_counts()\n",
    "#     .index.tolist()\n",
    "# )"
   ]
  },
  {
   "cell_type": "code",
   "execution_count": 50,
   "id": "d704a5ff",
   "metadata": {},
   "outputs": [
    {
     "data": {
      "application/javascript": [
       "\n",
       "            setTimeout(function() {\n",
       "                var nbb_cell_id = 50;\n",
       "                var nbb_unformatted_code = \"# # Viewing list sorted by descending length to copy to dictionary below and screen values\\n# sorted(specific_roles_list, key=lambda x: len(x), reverse=True)\";\n",
       "                var nbb_formatted_code = \"# # Viewing list sorted by descending length to copy to dictionary below and screen values\\n# sorted(specific_roles_list, key=lambda x: len(x), reverse=True)\";\n",
       "                var nbb_cells = Jupyter.notebook.get_cells();\n",
       "                for (var i = 0; i < nbb_cells.length; ++i) {\n",
       "                    if (nbb_cells[i].input_prompt_number == nbb_cell_id) {\n",
       "                        if (nbb_cells[i].get_text() == nbb_unformatted_code) {\n",
       "                             nbb_cells[i].set_text(nbb_formatted_code);\n",
       "                        }\n",
       "                        break;\n",
       "                    }\n",
       "                }\n",
       "            }, 500);\n",
       "            "
      ],
      "text/plain": [
       "<IPython.core.display.Javascript object>"
      ]
     },
     "metadata": {},
     "output_type": "display_data"
    }
   ],
   "source": [
    "# # Viewing list sorted by descending length to copy to dictionary below and screen values\n",
    "# sorted(specific_roles_list, key=lambda x: len(x), reverse=True)"
   ]
  },
  {
   "cell_type": "code",
   "execution_count": 51,
   "id": "30a14a86",
   "metadata": {},
   "outputs": [
    {
     "data": {
      "application/javascript": [
       "\n",
       "            setTimeout(function() {\n",
       "                var nbb_cell_id = 51;\n",
       "                var nbb_unformatted_code = \"# # Example code to check additional category for specific entries\\n# df.loc[\\n#     [\\n#         index\\n#         for index in df.index\\n#         if df.loc[index, \\\"info_2_1\\\"] == \\\"judge\\\"\\n#         and df.loc[index, \\\"politics_govt_law\\\"] == 0\\n#     ],\\n#     :,\\n# ]\";\n",
       "                var nbb_formatted_code = \"# # Example code to check additional category for specific entries\\n# df.loc[\\n#     [\\n#         index\\n#         for index in df.index\\n#         if df.loc[index, \\\"info_2_1\\\"] == \\\"judge\\\"\\n#         and df.loc[index, \\\"politics_govt_law\\\"] == 0\\n#     ],\\n#     :,\\n# ]\";\n",
       "                var nbb_cells = Jupyter.notebook.get_cells();\n",
       "                for (var i = 0; i < nbb_cells.length; ++i) {\n",
       "                    if (nbb_cells[i].input_prompt_number == nbb_cell_id) {\n",
       "                        if (nbb_cells[i].get_text() == nbb_unformatted_code) {\n",
       "                             nbb_cells[i].set_text(nbb_formatted_code);\n",
       "                        }\n",
       "                        break;\n",
       "                    }\n",
       "                }\n",
       "            }, 500);\n",
       "            "
      ],
      "text/plain": [
       "<IPython.core.display.Javascript object>"
      ]
     },
     "metadata": {},
     "output_type": "display_data"
    }
   ],
   "source": [
    "# # Example code to check additional category for specific entries\n",
    "# df.loc[\n",
    "#     [\n",
    "#         index\n",
    "#         for index in df.index\n",
    "#         if df.loc[index, \"info_2_1\"] == \"judge\"\n",
    "#         and df.loc[index, \"politics_govt_law\"] == 0\n",
    "#     ],\n",
    "#     :,\n",
    "# ]"
   ]
  },
  {
   "cell_type": "code",
   "execution_count": 52,
   "id": "e4873755",
   "metadata": {},
   "outputs": [
    {
     "data": {
      "application/javascript": [
       "\n",
       "            setTimeout(function() {\n",
       "                var nbb_cell_id = 52;\n",
       "                var nbb_unformatted_code = \"# # Example code to quick-check a specific entry\\n# df[df[\\\"info_2_1\\\"] == \\\"physical fitness advocate\\\"]\";\n",
       "                var nbb_formatted_code = \"# # Example code to quick-check a specific entry\\n# df[df[\\\"info_2_1\\\"] == \\\"physical fitness advocate\\\"]\";\n",
       "                var nbb_cells = Jupyter.notebook.get_cells();\n",
       "                for (var i = 0; i < nbb_cells.length; ++i) {\n",
       "                    if (nbb_cells[i].input_prompt_number == nbb_cell_id) {\n",
       "                        if (nbb_cells[i].get_text() == nbb_unformatted_code) {\n",
       "                             nbb_cells[i].set_text(nbb_formatted_code);\n",
       "                        }\n",
       "                        break;\n",
       "                    }\n",
       "                }\n",
       "            }, 500);\n",
       "            "
      ],
      "text/plain": [
       "<IPython.core.display.Javascript object>"
      ]
     },
     "metadata": {},
     "output_type": "display_data"
    }
   ],
   "source": [
    "# # Example code to quick-check a specific entry\n",
    "# df[df[\"info_2_1\"] == \"physical fitness advocate\"]"
   ]
  },
  {
   "cell_type": "markdown",
   "id": "f29b0b37",
   "metadata": {},
   "source": [
    "#### Creating Lists for Each `known_for` Category"
   ]
  },
  {
   "cell_type": "code",
   "execution_count": 53,
   "id": "58932589",
   "metadata": {},
   "outputs": [
    {
     "data": {
      "application/javascript": [
       "\n",
       "            setTimeout(function() {\n",
       "                var nbb_cell_id = 53;\n",
       "                var nbb_unformatted_code = \"# Creating lists for each category and sorting by decreasing length and removing duplicates\\n\\npolitics_govt_law = [\\n    \\\"judge\\\",\\n    \\\"local government executive\\\",\\n    \\\"political executive\\\",\\n    \\\"union executive\\\",\\n    \\\"environmental economics\\\",\\n    \\\"information economics\\\",\\n    \\\"supply side economist\\\",\\n    \\\"free market economist\\\",\\n    \\\"political economist\\\",\\n    \\\"economic\\\",\\n    \\\"economics expert\\\",\\n    \\\"economist\\\",\\n    \\\"economics\\\",\\n    \\\"economic\\\",\\n    \\\"public health administrator\\\",\\n    \\\"top official in the rebel government\\\",\\n    \\\"minister in the Whitlam government\\\",\\n    \\\"member of the Vichy government\\\",\\n    \\\"former government minister\\\",\\n    \\\"local government executive\\\",\\n    \\\"government policy advisor\\\",\\n    \\\"government administrator\\\",\\n    \\\"government whistleblower\\\",\\n    \\\"local government leader\\\",\\n    \\\"government official\\\",\\n    \\\"government minister\\\",\\n    \\\"government advisor\\\",\\n    \\\"government adviser\\\",\\n    \\\"government\\\",\\n    \\\"a colonial administrator\\\",\\n    \\\"colonial administrator\\\",\\n    \\\"scientific administrator\\\",\\n    \\\"science administrator\\\",\\n    \\\"medical administrator\\\",\\n    \\\"public administrator\\\",\\n    \\\"Conservative life peer\\\",\\n    \\\"Liberal Democrat peer\\\",\\n    \\\"female life peer\\\",\\n    \\\"a life peer\\\",\\n    \\\"life peer\\\",\\n    \\\"peer\\\",\\n    \\\"critic of systems analysis\\\",\\n    \\\"critic of Vladimir Putin\\\",\\n    \\\"political critic\\\",\\n    \\\"social critic\\\",\\n    \\\"Republican member of the House of Representatives\\\",\\n    \\\"public leader from the North Eastern state of\\\",\\n    \\\"the only president of the Republic of Herzeg\\\",\\n    \\\"former prime minister of the Republic\\\",\\n    \\\"statesman in the Democratic Republic\\\",\\n    \\\"Apostolic Nuncio to the Republic of\\\",\\n    \\\"Vice President of the Republic of\\\",\\n    \\\"First Lady of the Republic of on\\\",\\n    \\\"founding father of the Republic\\\",\\n    \\\"public health administrator\\\",\\n    \\\"public health whistleblower\\\",\\n    \\\"public health researcher\\\",\\n    \\\"public health physician\\\",\\n    \\\"public relations official\\\",\\n    \\\"public health campaigner\\\",\\n    \\\"public health official\\\",\\n    \\\"public health pioneer\\\",\\n    \\\"public policy adviser\\\",\\n    \\\"public administrator\\\",\\n    \\\"public intellectual\\\",\\n    \\\"public official\\\",\\n    \\\"public servant\\\",\\n    \\\"international civil servant\\\",\\n    \\\"other civil rights leaders\\\",\\n    \\\"LGBT civil rights advocate\\\",\\n    \\\"civil rights advocate\\\",\\n    \\\"civil rights attorney\\\",\\n    \\\"civil rights leader\\\",\\n    \\\"a civil servant\\\",\\n    \\\"civil servant\\\",\\n    \\\"civil leader\\\",\\n    \\\"ecofeminist\\\",\\n    \\\"feminist\\\",\\n    \\\"trades union official\\\",\\n    \\\"trade union leader\\\",\\n    \\\"medical unionist\\\",\\n    \\\"union executive\\\",\\n    \\\"trade unionist\\\",\\n    \\\"union leader\\\",\\n    \\\"union worker\\\",\\n    \\\"unionist\\\",\\n]\\npolitics_govt_law = sorted(\\n    list(set(politics_govt_law)), key=lambda x: len(x), reverse=True\\n)\\n\\narts = [\\n    \\\"novelist\\\",\\n    \\\"artist\\\",\\n    \\\"publisher of\\\",\\n    \\\"publisher\\\",\\n    \\\"media relations executive\\\",\\n    \\\"broadcasting executive\\\",\\n    \\\"live event executive\\\",\\n    \\\"MGM studio executive\\\",\\n    \\\"newspaper executive\\\",\\n    \\\"magazine executive\\\",\\n    \\\"studio executive\\\",\\n    \\\"record executive\\\",\\n    \\\"media executive\\\",\\n    \\\"radio executive\\\",\\n    \\\"news executive\\\",\\n    \\\"opera administrator\\\",\\n    \\\"arts administrator\\\",\\n    \\\"sister of supermodel Angela Lindvall\\\",\\n    \\\"fashion model\\\",\\n    \\\"spokesmodel\\\",\\n    \\\"modeler\\\",\\n    \\\"model\\\",\\n    \\\"inventor of the plastic pink flamingo\\\",\\n    \\\"inventor of board game Cluedo\\\",\\n    \\\"board game inventor\\\",\\n    \\\"roll entrepreneur\\\",\\n    \\\"founder of Reader response criticism\\\",\\n    \\\"critic of Scientology\\\",\\n    \\\"entertainment critic\\\",\\n    \\\"architecture critic\\\",\\n    \\\"restaurant critic\\\",\\n    \\\"visual art critic\\\",\\n    \\\"cinema critic for\\\",\\n    \\\"literary critic\\\",\\n    \\\"cultural critic\\\",\\n    \\\"urban  critic\\\",\\n    \\\"media critic\\\",\\n    \\\"food critic\\\",\\n    \\\"jazz critic\\\",\\n    \\\"wine critic\\\",\\n    \\\"arts critic\\\",\\n    \\\"book critic\\\",\\n    \\\"art critic\\\",\\n    \\\"public relations specialist\\\",\\n    \\\"public address announcer\\\",\\n    \\\"public relations expert\\\",\\n    \\\"public figure\\\",\\n    \\\"publicist\\\",\\n    \\\"Picasso biographer\\\",\\n    \\\"biographer\\\",\\n    \\\"architect of perestroika\\\",\\n    \\\"architectural\\\",\\n    \\\"restoration architect\\\",\\n    \\\"architecture\\\",\\n    \\\"landscape architect\\\",\\n    \\\"architecture critic\\\",\\n    \\\"interior architect\\\",\\n    \\\"garden architect\\\",\\n    \\\"course architect\\\",\\n    \\\"architecture\\\",\\n    \\\"architect\\\",\\n    \\\"transatlantic commentator\\\",\\n    \\\"media commentator\\\",\\n    \\\"radio commentator\\\",\\n    \\\"food commentator\\\",\\n    \\\"TV commentator\\\",\\n    \\\"commentator\\\",\\n    \\\"printmaker\\\",\\n]\\narts = sorted(list(set(arts)), key=lambda x: len(x), reverse=True)\\n\\nsports = [\\n    \\\"sporting executive\\\",\\n    \\\"boxing executive\\\",\\n    \\\"sport executive\\\",\\n    \\\"disability sport administrator\\\",\\n    \\\"motorsport administrator\\\",\\n    \\\"athletic administrator\\\",\\n    \\\"athletic trainer\\\",\\n    \\\"soccer administrator\\\",\\n    \\\"boxing administrator\\\",\\n    \\\"sport administrator\\\",\\n    \\\"polo administrator\\\",\\n    \\\"rugby union international player\\\",\\n    \\\"rugby union international\\\",\\n    \\\"rugby union player\\\",\\n    \\\"rugby union playe\\\",\\n    \\\"rugby player\\\",\\n]\\nsports = sorted(list(set(sports)), key=lambda x: len(x), reverse=True)\\n\\nsciences = [\\n    \\\"aerospace executive\\\",\\n    \\\"co inventor of the laser with Charles Townes\\\",\\n    \\\"inventor of the Dodrill GMR heart machine\\\",\\n    \\\"inventor of the first digital computer\\\",\\n    \\\"co inventor of the nicotine patch\\\",\\n    \\\"inventor of parenteral nutrition\\\",\\n    \\\"inventor of the mini roundabout\\\",\\n    \\\"inventor of the hovercraft\\\",\\n    \\\"inventor of gaffer tape\\\",\\n    \\\"engineer\\\",\\n    \\\"founding physician in chief of Children Hospital\\\",\\n    'physicist known as \\\"The Voice of JPL\\\"',\\n    \\\"radiation health physics pioneer\\\",\\n    \\\"physical fitness advocate\\\",\\n    \\\"public health physician\\\",\\n    \\\"mathematical physicist\\\",\\n    \\\"theoretical physicist\\\",\\n    \\\"detonation physicist\\\",\\n    \\\"emergency physician\\\",\\n    \\\"military physician\\\",\\n    \\\"particle physicist\\\",\\n    \\\"nuclear physicist\\\",\\n    \\\"physical chemist\\\",\\n    \\\"plasma physicist\\\",\\n    \\\"family physician\\\",\\n    \\\"sports physician\\\",\\n    \\\"astrophysicist\\\",\\n    \\\"biophysicist\\\",\\n    \\\"geophysicist\\\",\\n    \\\"physicist\\\",\\n    \\\"physician\\\",\\n    \\\"physics\\\",\\n]\\nsciences = sorted(list(set(sciences)), key=lambda x: len(x), reverse=True)\\n\\nbusiness_farming = [\\n    \\\"software executive\\\",\\n    \\\"R&D executive\\\",\\n    \\\"microcomputer entrepreneur\\\",\\n    \\\"high tech entrepreneur\\\",\\n    \\\"financial entrepreneur\\\",\\n    \\\"internet entrepreneur\\\",\\n    \\\"mining entrepreneur\\\",\\n    \\\"IT entrepreneur\\\",\\n    \\\"public relations consultant\\\",\\n    \\\"investment banker\\\",\\n    \\\"mortgage banker\\\",\\n    \\\"merchant banker\\\",\\n    \\\"banker\\\",\\n]\\nbusiness_farming = sorted(\\n    list(set(business_farming)), key=lambda x: len(x), reverse=True\\n)\\n\\nacademia_humanities = [\\n    \\\"teacher\\\",\\n    \\\"university administrator\\\",\\n    \\\"cultural administrator\\\",\\n    \\\"college administrator\\\",\\n    \\\"philosopher of\\\",\\n    \\\"philosopher of\\\",\\n    \\\"philosophy of\\\",\\n    \\\"humanist philosopher\\\",\\n    \\\"cultural philosopher\\\",\\n    \\\"philosopher\\\",\\n    \\\"philosophy\\\",\\n    \\\"classical scholar who deciphered Linear B\\\",\\n    \\\"scholar who specialized in Coptic art\\\",\\n    \\\"scholar of library science\\\",\\n    \\\"studies scholar\\\",\\n    \\\"Dead Sea Scrolls scholar\\\",\\n    \\\"leading scholar of Mon\\\",\\n    \\\"Shakespearean scholar\\\",\\n    \\\"scholar of literature\\\",\\n    \\\"Shakespeare scholar\\\",\\n    \\\"literature scholar\\\",\\n    \\\"classical scholar\\\",\\n    \\\"literary scholar\\\",\\n    \\\"scholar of\\\",\\n    \\\"Napoleon scholar\\\",\\n    \\\"oriental scholar\\\",\\n    \\\"Judaica scholar\\\",\\n    \\\"Tolkien scholar\\\",\\n    \\\"Saxon scholar\\\",\\n    \\\"art scholar\\\",\\n    \\\"scholar\\\",\\n    \\\"critical theorist\\\",\\n    \\\"public schools superintendent\\\",\\n    \\\"architectural conservationist\\\",\\n    \\\"architecture preservationist\\\",\\n]\\nacademia_humanities = sorted(\\n    list(set(academia_humanities)), key=lambda x: len(x), reverse=True\\n)\\n\\nlaw_enf_military_operator = [\\n    \\\"first civilian to receive the Intelligence Medal of Merit\\\",\\n]\\nlaw_enf_military_operator = sorted(\\n    list(set(law_enf_military_operator)), key=lambda x: len(x), reverse=True\\n)\\n\\nspiritual = [\\n    \\\"advocate of liberation theology\\\",\\n    \\\"Protestant theologian\\\",\\n    \\\"Christian theologian\\\",\\n    \\\"theology\\\",\\n    \\\"lay theologian\\\",\\n    \\\"ecotheologian\\\",\\n    \\\"theologian\\\",\\n    \\\"public speaker\\\",\\n]\\nspiritual = sorted(list(set(spiritual)), key=lambda x: len(x), reverse=True)\\n\\nsocial = [\\n    \\\"public bookcase proponent\\\",\\n]\\nsocial = sorted(list(set(social)), key=lambda x: len(x), reverse=True)\\n\\ncrime = []\\ncrime = sorted(list(set(crime)), key=lambda x: len(x), reverse=True)\\n\\nevent_record_other = [\\n    \\\"Holocaust survivor following escape from Sobib\\u00f3r\\\",\\n    \\\"survivor of the Munich massacre\\\",\\n    \\\"concentration camp survivor\\\",\\n    \\\"botched execution survivor\\\",\\n    \\\"sexual assault survivor\\\",\\n    \\\"kidnapping survivor\\\",\\n    \\\"Holocaust survivor\\\",\\n    \\\"holocaust survivor\\\",\\n    \\\"ebola survivor\\\",\\n]\\nevent_record_other = sorted(\\n    list(set(event_record_other)), key=lambda x: len(x), reverse=True\\n)\\n\\nother_species = []\\nother_species = sorted(list(set(other_species)), key=lambda x: len(x), reverse=True)\";\n",
       "                var nbb_formatted_code = \"# Creating lists for each category and sorting by decreasing length and removing duplicates\\n\\npolitics_govt_law = [\\n    \\\"judge\\\",\\n    \\\"local government executive\\\",\\n    \\\"political executive\\\",\\n    \\\"union executive\\\",\\n    \\\"environmental economics\\\",\\n    \\\"information economics\\\",\\n    \\\"supply side economist\\\",\\n    \\\"free market economist\\\",\\n    \\\"political economist\\\",\\n    \\\"economic\\\",\\n    \\\"economics expert\\\",\\n    \\\"economist\\\",\\n    \\\"economics\\\",\\n    \\\"economic\\\",\\n    \\\"public health administrator\\\",\\n    \\\"top official in the rebel government\\\",\\n    \\\"minister in the Whitlam government\\\",\\n    \\\"member of the Vichy government\\\",\\n    \\\"former government minister\\\",\\n    \\\"local government executive\\\",\\n    \\\"government policy advisor\\\",\\n    \\\"government administrator\\\",\\n    \\\"government whistleblower\\\",\\n    \\\"local government leader\\\",\\n    \\\"government official\\\",\\n    \\\"government minister\\\",\\n    \\\"government advisor\\\",\\n    \\\"government adviser\\\",\\n    \\\"government\\\",\\n    \\\"a colonial administrator\\\",\\n    \\\"colonial administrator\\\",\\n    \\\"scientific administrator\\\",\\n    \\\"science administrator\\\",\\n    \\\"medical administrator\\\",\\n    \\\"public administrator\\\",\\n    \\\"Conservative life peer\\\",\\n    \\\"Liberal Democrat peer\\\",\\n    \\\"female life peer\\\",\\n    \\\"a life peer\\\",\\n    \\\"life peer\\\",\\n    \\\"peer\\\",\\n    \\\"critic of systems analysis\\\",\\n    \\\"critic of Vladimir Putin\\\",\\n    \\\"political critic\\\",\\n    \\\"social critic\\\",\\n    \\\"Republican member of the House of Representatives\\\",\\n    \\\"public leader from the North Eastern state of\\\",\\n    \\\"the only president of the Republic of Herzeg\\\",\\n    \\\"former prime minister of the Republic\\\",\\n    \\\"statesman in the Democratic Republic\\\",\\n    \\\"Apostolic Nuncio to the Republic of\\\",\\n    \\\"Vice President of the Republic of\\\",\\n    \\\"First Lady of the Republic of on\\\",\\n    \\\"founding father of the Republic\\\",\\n    \\\"public health administrator\\\",\\n    \\\"public health whistleblower\\\",\\n    \\\"public health researcher\\\",\\n    \\\"public health physician\\\",\\n    \\\"public relations official\\\",\\n    \\\"public health campaigner\\\",\\n    \\\"public health official\\\",\\n    \\\"public health pioneer\\\",\\n    \\\"public policy adviser\\\",\\n    \\\"public administrator\\\",\\n    \\\"public intellectual\\\",\\n    \\\"public official\\\",\\n    \\\"public servant\\\",\\n    \\\"international civil servant\\\",\\n    \\\"other civil rights leaders\\\",\\n    \\\"LGBT civil rights advocate\\\",\\n    \\\"civil rights advocate\\\",\\n    \\\"civil rights attorney\\\",\\n    \\\"civil rights leader\\\",\\n    \\\"a civil servant\\\",\\n    \\\"civil servant\\\",\\n    \\\"civil leader\\\",\\n    \\\"ecofeminist\\\",\\n    \\\"feminist\\\",\\n    \\\"trades union official\\\",\\n    \\\"trade union leader\\\",\\n    \\\"medical unionist\\\",\\n    \\\"union executive\\\",\\n    \\\"trade unionist\\\",\\n    \\\"union leader\\\",\\n    \\\"union worker\\\",\\n    \\\"unionist\\\",\\n]\\npolitics_govt_law = sorted(\\n    list(set(politics_govt_law)), key=lambda x: len(x), reverse=True\\n)\\n\\narts = [\\n    \\\"novelist\\\",\\n    \\\"artist\\\",\\n    \\\"publisher of\\\",\\n    \\\"publisher\\\",\\n    \\\"media relations executive\\\",\\n    \\\"broadcasting executive\\\",\\n    \\\"live event executive\\\",\\n    \\\"MGM studio executive\\\",\\n    \\\"newspaper executive\\\",\\n    \\\"magazine executive\\\",\\n    \\\"studio executive\\\",\\n    \\\"record executive\\\",\\n    \\\"media executive\\\",\\n    \\\"radio executive\\\",\\n    \\\"news executive\\\",\\n    \\\"opera administrator\\\",\\n    \\\"arts administrator\\\",\\n    \\\"sister of supermodel Angela Lindvall\\\",\\n    \\\"fashion model\\\",\\n    \\\"spokesmodel\\\",\\n    \\\"modeler\\\",\\n    \\\"model\\\",\\n    \\\"inventor of the plastic pink flamingo\\\",\\n    \\\"inventor of board game Cluedo\\\",\\n    \\\"board game inventor\\\",\\n    \\\"roll entrepreneur\\\",\\n    \\\"founder of Reader response criticism\\\",\\n    \\\"critic of Scientology\\\",\\n    \\\"entertainment critic\\\",\\n    \\\"architecture critic\\\",\\n    \\\"restaurant critic\\\",\\n    \\\"visual art critic\\\",\\n    \\\"cinema critic for\\\",\\n    \\\"literary critic\\\",\\n    \\\"cultural critic\\\",\\n    \\\"urban  critic\\\",\\n    \\\"media critic\\\",\\n    \\\"food critic\\\",\\n    \\\"jazz critic\\\",\\n    \\\"wine critic\\\",\\n    \\\"arts critic\\\",\\n    \\\"book critic\\\",\\n    \\\"art critic\\\",\\n    \\\"public relations specialist\\\",\\n    \\\"public address announcer\\\",\\n    \\\"public relations expert\\\",\\n    \\\"public figure\\\",\\n    \\\"publicist\\\",\\n    \\\"Picasso biographer\\\",\\n    \\\"biographer\\\",\\n    \\\"architect of perestroika\\\",\\n    \\\"architectural\\\",\\n    \\\"restoration architect\\\",\\n    \\\"architecture\\\",\\n    \\\"landscape architect\\\",\\n    \\\"architecture critic\\\",\\n    \\\"interior architect\\\",\\n    \\\"garden architect\\\",\\n    \\\"course architect\\\",\\n    \\\"architecture\\\",\\n    \\\"architect\\\",\\n    \\\"transatlantic commentator\\\",\\n    \\\"media commentator\\\",\\n    \\\"radio commentator\\\",\\n    \\\"food commentator\\\",\\n    \\\"TV commentator\\\",\\n    \\\"commentator\\\",\\n    \\\"printmaker\\\",\\n]\\narts = sorted(list(set(arts)), key=lambda x: len(x), reverse=True)\\n\\nsports = [\\n    \\\"sporting executive\\\",\\n    \\\"boxing executive\\\",\\n    \\\"sport executive\\\",\\n    \\\"disability sport administrator\\\",\\n    \\\"motorsport administrator\\\",\\n    \\\"athletic administrator\\\",\\n    \\\"athletic trainer\\\",\\n    \\\"soccer administrator\\\",\\n    \\\"boxing administrator\\\",\\n    \\\"sport administrator\\\",\\n    \\\"polo administrator\\\",\\n    \\\"rugby union international player\\\",\\n    \\\"rugby union international\\\",\\n    \\\"rugby union player\\\",\\n    \\\"rugby union playe\\\",\\n    \\\"rugby player\\\",\\n]\\nsports = sorted(list(set(sports)), key=lambda x: len(x), reverse=True)\\n\\nsciences = [\\n    \\\"aerospace executive\\\",\\n    \\\"co inventor of the laser with Charles Townes\\\",\\n    \\\"inventor of the Dodrill GMR heart machine\\\",\\n    \\\"inventor of the first digital computer\\\",\\n    \\\"co inventor of the nicotine patch\\\",\\n    \\\"inventor of parenteral nutrition\\\",\\n    \\\"inventor of the mini roundabout\\\",\\n    \\\"inventor of the hovercraft\\\",\\n    \\\"inventor of gaffer tape\\\",\\n    \\\"engineer\\\",\\n    \\\"founding physician in chief of Children Hospital\\\",\\n    'physicist known as \\\"The Voice of JPL\\\"',\\n    \\\"radiation health physics pioneer\\\",\\n    \\\"physical fitness advocate\\\",\\n    \\\"public health physician\\\",\\n    \\\"mathematical physicist\\\",\\n    \\\"theoretical physicist\\\",\\n    \\\"detonation physicist\\\",\\n    \\\"emergency physician\\\",\\n    \\\"military physician\\\",\\n    \\\"particle physicist\\\",\\n    \\\"nuclear physicist\\\",\\n    \\\"physical chemist\\\",\\n    \\\"plasma physicist\\\",\\n    \\\"family physician\\\",\\n    \\\"sports physician\\\",\\n    \\\"astrophysicist\\\",\\n    \\\"biophysicist\\\",\\n    \\\"geophysicist\\\",\\n    \\\"physicist\\\",\\n    \\\"physician\\\",\\n    \\\"physics\\\",\\n]\\nsciences = sorted(list(set(sciences)), key=lambda x: len(x), reverse=True)\\n\\nbusiness_farming = [\\n    \\\"software executive\\\",\\n    \\\"R&D executive\\\",\\n    \\\"microcomputer entrepreneur\\\",\\n    \\\"high tech entrepreneur\\\",\\n    \\\"financial entrepreneur\\\",\\n    \\\"internet entrepreneur\\\",\\n    \\\"mining entrepreneur\\\",\\n    \\\"IT entrepreneur\\\",\\n    \\\"public relations consultant\\\",\\n    \\\"investment banker\\\",\\n    \\\"mortgage banker\\\",\\n    \\\"merchant banker\\\",\\n    \\\"banker\\\",\\n]\\nbusiness_farming = sorted(\\n    list(set(business_farming)), key=lambda x: len(x), reverse=True\\n)\\n\\nacademia_humanities = [\\n    \\\"teacher\\\",\\n    \\\"university administrator\\\",\\n    \\\"cultural administrator\\\",\\n    \\\"college administrator\\\",\\n    \\\"philosopher of\\\",\\n    \\\"philosopher of\\\",\\n    \\\"philosophy of\\\",\\n    \\\"humanist philosopher\\\",\\n    \\\"cultural philosopher\\\",\\n    \\\"philosopher\\\",\\n    \\\"philosophy\\\",\\n    \\\"classical scholar who deciphered Linear B\\\",\\n    \\\"scholar who specialized in Coptic art\\\",\\n    \\\"scholar of library science\\\",\\n    \\\"studies scholar\\\",\\n    \\\"Dead Sea Scrolls scholar\\\",\\n    \\\"leading scholar of Mon\\\",\\n    \\\"Shakespearean scholar\\\",\\n    \\\"scholar of literature\\\",\\n    \\\"Shakespeare scholar\\\",\\n    \\\"literature scholar\\\",\\n    \\\"classical scholar\\\",\\n    \\\"literary scholar\\\",\\n    \\\"scholar of\\\",\\n    \\\"Napoleon scholar\\\",\\n    \\\"oriental scholar\\\",\\n    \\\"Judaica scholar\\\",\\n    \\\"Tolkien scholar\\\",\\n    \\\"Saxon scholar\\\",\\n    \\\"art scholar\\\",\\n    \\\"scholar\\\",\\n    \\\"critical theorist\\\",\\n    \\\"public schools superintendent\\\",\\n    \\\"architectural conservationist\\\",\\n    \\\"architecture preservationist\\\",\\n]\\nacademia_humanities = sorted(\\n    list(set(academia_humanities)), key=lambda x: len(x), reverse=True\\n)\\n\\nlaw_enf_military_operator = [\\n    \\\"first civilian to receive the Intelligence Medal of Merit\\\",\\n]\\nlaw_enf_military_operator = sorted(\\n    list(set(law_enf_military_operator)), key=lambda x: len(x), reverse=True\\n)\\n\\nspiritual = [\\n    \\\"advocate of liberation theology\\\",\\n    \\\"Protestant theologian\\\",\\n    \\\"Christian theologian\\\",\\n    \\\"theology\\\",\\n    \\\"lay theologian\\\",\\n    \\\"ecotheologian\\\",\\n    \\\"theologian\\\",\\n    \\\"public speaker\\\",\\n]\\nspiritual = sorted(list(set(spiritual)), key=lambda x: len(x), reverse=True)\\n\\nsocial = [\\n    \\\"public bookcase proponent\\\",\\n]\\nsocial = sorted(list(set(social)), key=lambda x: len(x), reverse=True)\\n\\ncrime = []\\ncrime = sorted(list(set(crime)), key=lambda x: len(x), reverse=True)\\n\\nevent_record_other = [\\n    \\\"Holocaust survivor following escape from Sobib\\u00f3r\\\",\\n    \\\"survivor of the Munich massacre\\\",\\n    \\\"concentration camp survivor\\\",\\n    \\\"botched execution survivor\\\",\\n    \\\"sexual assault survivor\\\",\\n    \\\"kidnapping survivor\\\",\\n    \\\"Holocaust survivor\\\",\\n    \\\"holocaust survivor\\\",\\n    \\\"ebola survivor\\\",\\n]\\nevent_record_other = sorted(\\n    list(set(event_record_other)), key=lambda x: len(x), reverse=True\\n)\\n\\nother_species = []\\nother_species = sorted(list(set(other_species)), key=lambda x: len(x), reverse=True)\";\n",
       "                var nbb_cells = Jupyter.notebook.get_cells();\n",
       "                for (var i = 0; i < nbb_cells.length; ++i) {\n",
       "                    if (nbb_cells[i].input_prompt_number == nbb_cell_id) {\n",
       "                        if (nbb_cells[i].get_text() == nbb_unformatted_code) {\n",
       "                             nbb_cells[i].set_text(nbb_formatted_code);\n",
       "                        }\n",
       "                        break;\n",
       "                    }\n",
       "                }\n",
       "            }, 500);\n",
       "            "
      ],
      "text/plain": [
       "<IPython.core.display.Javascript object>"
      ]
     },
     "metadata": {},
     "output_type": "display_data"
    }
   ],
   "source": [
    "# Creating lists for each category and sorting by decreasing length and removing duplicates\n",
    "\n",
    "politics_govt_law = [\n",
    "    \"judge\",\n",
    "    \"local government executive\",\n",
    "    \"political executive\",\n",
    "    \"union executive\",\n",
    "    \"environmental economics\",\n",
    "    \"information economics\",\n",
    "    \"supply side economist\",\n",
    "    \"free market economist\",\n",
    "    \"political economist\",\n",
    "    \"economic\",\n",
    "    \"economics expert\",\n",
    "    \"economist\",\n",
    "    \"economics\",\n",
    "    \"economic\",\n",
    "    \"public health administrator\",\n",
    "    \"top official in the rebel government\",\n",
    "    \"minister in the Whitlam government\",\n",
    "    \"member of the Vichy government\",\n",
    "    \"former government minister\",\n",
    "    \"local government executive\",\n",
    "    \"government policy advisor\",\n",
    "    \"government administrator\",\n",
    "    \"government whistleblower\",\n",
    "    \"local government leader\",\n",
    "    \"government official\",\n",
    "    \"government minister\",\n",
    "    \"government advisor\",\n",
    "    \"government adviser\",\n",
    "    \"government\",\n",
    "    \"a colonial administrator\",\n",
    "    \"colonial administrator\",\n",
    "    \"scientific administrator\",\n",
    "    \"science administrator\",\n",
    "    \"medical administrator\",\n",
    "    \"public administrator\",\n",
    "    \"Conservative life peer\",\n",
    "    \"Liberal Democrat peer\",\n",
    "    \"female life peer\",\n",
    "    \"a life peer\",\n",
    "    \"life peer\",\n",
    "    \"peer\",\n",
    "    \"critic of systems analysis\",\n",
    "    \"critic of Vladimir Putin\",\n",
    "    \"political critic\",\n",
    "    \"social critic\",\n",
    "    \"Republican member of the House of Representatives\",\n",
    "    \"public leader from the North Eastern state of\",\n",
    "    \"the only president of the Republic of Herzeg\",\n",
    "    \"former prime minister of the Republic\",\n",
    "    \"statesman in the Democratic Republic\",\n",
    "    \"Apostolic Nuncio to the Republic of\",\n",
    "    \"Vice President of the Republic of\",\n",
    "    \"First Lady of the Republic of on\",\n",
    "    \"founding father of the Republic\",\n",
    "    \"public health administrator\",\n",
    "    \"public health whistleblower\",\n",
    "    \"public health researcher\",\n",
    "    \"public health physician\",\n",
    "    \"public relations official\",\n",
    "    \"public health campaigner\",\n",
    "    \"public health official\",\n",
    "    \"public health pioneer\",\n",
    "    \"public policy adviser\",\n",
    "    \"public administrator\",\n",
    "    \"public intellectual\",\n",
    "    \"public official\",\n",
    "    \"public servant\",\n",
    "    \"international civil servant\",\n",
    "    \"other civil rights leaders\",\n",
    "    \"LGBT civil rights advocate\",\n",
    "    \"civil rights advocate\",\n",
    "    \"civil rights attorney\",\n",
    "    \"civil rights leader\",\n",
    "    \"a civil servant\",\n",
    "    \"civil servant\",\n",
    "    \"civil leader\",\n",
    "    \"ecofeminist\",\n",
    "    \"feminist\",\n",
    "    \"trades union official\",\n",
    "    \"trade union leader\",\n",
    "    \"medical unionist\",\n",
    "    \"union executive\",\n",
    "    \"trade unionist\",\n",
    "    \"union leader\",\n",
    "    \"union worker\",\n",
    "    \"unionist\",\n",
    "]\n",
    "politics_govt_law = sorted(\n",
    "    list(set(politics_govt_law)), key=lambda x: len(x), reverse=True\n",
    ")\n",
    "\n",
    "arts = [\n",
    "    \"novelist\",\n",
    "    \"artist\",\n",
    "    \"publisher of\",\n",
    "    \"publisher\",\n",
    "    \"media relations executive\",\n",
    "    \"broadcasting executive\",\n",
    "    \"live event executive\",\n",
    "    \"MGM studio executive\",\n",
    "    \"newspaper executive\",\n",
    "    \"magazine executive\",\n",
    "    \"studio executive\",\n",
    "    \"record executive\",\n",
    "    \"media executive\",\n",
    "    \"radio executive\",\n",
    "    \"news executive\",\n",
    "    \"opera administrator\",\n",
    "    \"arts administrator\",\n",
    "    \"sister of supermodel Angela Lindvall\",\n",
    "    \"fashion model\",\n",
    "    \"spokesmodel\",\n",
    "    \"modeler\",\n",
    "    \"model\",\n",
    "    \"inventor of the plastic pink flamingo\",\n",
    "    \"inventor of board game Cluedo\",\n",
    "    \"board game inventor\",\n",
    "    \"roll entrepreneur\",\n",
    "    \"founder of Reader response criticism\",\n",
    "    \"critic of Scientology\",\n",
    "    \"entertainment critic\",\n",
    "    \"architecture critic\",\n",
    "    \"restaurant critic\",\n",
    "    \"visual art critic\",\n",
    "    \"cinema critic for\",\n",
    "    \"literary critic\",\n",
    "    \"cultural critic\",\n",
    "    \"urban  critic\",\n",
    "    \"media critic\",\n",
    "    \"food critic\",\n",
    "    \"jazz critic\",\n",
    "    \"wine critic\",\n",
    "    \"arts critic\",\n",
    "    \"book critic\",\n",
    "    \"art critic\",\n",
    "    \"public relations specialist\",\n",
    "    \"public address announcer\",\n",
    "    \"public relations expert\",\n",
    "    \"public figure\",\n",
    "    \"publicist\",\n",
    "    \"Picasso biographer\",\n",
    "    \"biographer\",\n",
    "    \"architect of perestroika\",\n",
    "    \"architectural\",\n",
    "    \"restoration architect\",\n",
    "    \"architecture\",\n",
    "    \"landscape architect\",\n",
    "    \"architecture critic\",\n",
    "    \"interior architect\",\n",
    "    \"garden architect\",\n",
    "    \"course architect\",\n",
    "    \"architecture\",\n",
    "    \"architect\",\n",
    "    \"transatlantic commentator\",\n",
    "    \"media commentator\",\n",
    "    \"radio commentator\",\n",
    "    \"food commentator\",\n",
    "    \"TV commentator\",\n",
    "    \"commentator\",\n",
    "    \"printmaker\",\n",
    "]\n",
    "arts = sorted(list(set(arts)), key=lambda x: len(x), reverse=True)\n",
    "\n",
    "sports = [\n",
    "    \"sporting executive\",\n",
    "    \"boxing executive\",\n",
    "    \"sport executive\",\n",
    "    \"disability sport administrator\",\n",
    "    \"motorsport administrator\",\n",
    "    \"athletic administrator\",\n",
    "    \"athletic trainer\",\n",
    "    \"soccer administrator\",\n",
    "    \"boxing administrator\",\n",
    "    \"sport administrator\",\n",
    "    \"polo administrator\",\n",
    "    \"rugby union international player\",\n",
    "    \"rugby union international\",\n",
    "    \"rugby union player\",\n",
    "    \"rugby union playe\",\n",
    "    \"rugby player\",\n",
    "]\n",
    "sports = sorted(list(set(sports)), key=lambda x: len(x), reverse=True)\n",
    "\n",
    "sciences = [\n",
    "    \"aerospace executive\",\n",
    "    \"co inventor of the laser with Charles Townes\",\n",
    "    \"inventor of the Dodrill GMR heart machine\",\n",
    "    \"inventor of the first digital computer\",\n",
    "    \"co inventor of the nicotine patch\",\n",
    "    \"inventor of parenteral nutrition\",\n",
    "    \"inventor of the mini roundabout\",\n",
    "    \"inventor of the hovercraft\",\n",
    "    \"inventor of gaffer tape\",\n",
    "    \"engineer\",\n",
    "    \"founding physician in chief of Children Hospital\",\n",
    "    'physicist known as \"The Voice of JPL\"',\n",
    "    \"radiation health physics pioneer\",\n",
    "    \"physical fitness advocate\",\n",
    "    \"public health physician\",\n",
    "    \"mathematical physicist\",\n",
    "    \"theoretical physicist\",\n",
    "    \"detonation physicist\",\n",
    "    \"emergency physician\",\n",
    "    \"military physician\",\n",
    "    \"particle physicist\",\n",
    "    \"nuclear physicist\",\n",
    "    \"physical chemist\",\n",
    "    \"plasma physicist\",\n",
    "    \"family physician\",\n",
    "    \"sports physician\",\n",
    "    \"astrophysicist\",\n",
    "    \"biophysicist\",\n",
    "    \"geophysicist\",\n",
    "    \"physicist\",\n",
    "    \"physician\",\n",
    "    \"physics\",\n",
    "]\n",
    "sciences = sorted(list(set(sciences)), key=lambda x: len(x), reverse=True)\n",
    "\n",
    "business_farming = [\n",
    "    \"software executive\",\n",
    "    \"R&D executive\",\n",
    "    \"microcomputer entrepreneur\",\n",
    "    \"high tech entrepreneur\",\n",
    "    \"financial entrepreneur\",\n",
    "    \"internet entrepreneur\",\n",
    "    \"mining entrepreneur\",\n",
    "    \"IT entrepreneur\",\n",
    "    \"public relations consultant\",\n",
    "    \"investment banker\",\n",
    "    \"mortgage banker\",\n",
    "    \"merchant banker\",\n",
    "    \"banker\",\n",
    "]\n",
    "business_farming = sorted(\n",
    "    list(set(business_farming)), key=lambda x: len(x), reverse=True\n",
    ")\n",
    "\n",
    "academia_humanities = [\n",
    "    \"teacher\",\n",
    "    \"university administrator\",\n",
    "    \"cultural administrator\",\n",
    "    \"college administrator\",\n",
    "    \"philosopher of\",\n",
    "    \"philosopher of\",\n",
    "    \"philosophy of\",\n",
    "    \"humanist philosopher\",\n",
    "    \"cultural philosopher\",\n",
    "    \"philosopher\",\n",
    "    \"philosophy\",\n",
    "    \"classical scholar who deciphered Linear B\",\n",
    "    \"scholar who specialized in Coptic art\",\n",
    "    \"scholar of library science\",\n",
    "    \"studies scholar\",\n",
    "    \"Dead Sea Scrolls scholar\",\n",
    "    \"leading scholar of Mon\",\n",
    "    \"Shakespearean scholar\",\n",
    "    \"scholar of literature\",\n",
    "    \"Shakespeare scholar\",\n",
    "    \"literature scholar\",\n",
    "    \"classical scholar\",\n",
    "    \"literary scholar\",\n",
    "    \"scholar of\",\n",
    "    \"Napoleon scholar\",\n",
    "    \"oriental scholar\",\n",
    "    \"Judaica scholar\",\n",
    "    \"Tolkien scholar\",\n",
    "    \"Saxon scholar\",\n",
    "    \"art scholar\",\n",
    "    \"scholar\",\n",
    "    \"critical theorist\",\n",
    "    \"public schools superintendent\",\n",
    "    \"architectural conservationist\",\n",
    "    \"architecture preservationist\",\n",
    "]\n",
    "academia_humanities = sorted(\n",
    "    list(set(academia_humanities)), key=lambda x: len(x), reverse=True\n",
    ")\n",
    "\n",
    "law_enf_military_operator = [\n",
    "    \"first civilian to receive the Intelligence Medal of Merit\",\n",
    "]\n",
    "law_enf_military_operator = sorted(\n",
    "    list(set(law_enf_military_operator)), key=lambda x: len(x), reverse=True\n",
    ")\n",
    "\n",
    "spiritual = [\n",
    "    \"advocate of liberation theology\",\n",
    "    \"Protestant theologian\",\n",
    "    \"Christian theologian\",\n",
    "    \"theology\",\n",
    "    \"lay theologian\",\n",
    "    \"ecotheologian\",\n",
    "    \"theologian\",\n",
    "    \"public speaker\",\n",
    "]\n",
    "spiritual = sorted(list(set(spiritual)), key=lambda x: len(x), reverse=True)\n",
    "\n",
    "social = [\n",
    "    \"public bookcase proponent\",\n",
    "]\n",
    "social = sorted(list(set(social)), key=lambda x: len(x), reverse=True)\n",
    "\n",
    "crime = []\n",
    "crime = sorted(list(set(crime)), key=lambda x: len(x), reverse=True)\n",
    "\n",
    "event_record_other = [\n",
    "    \"Holocaust survivor following escape from Sobibór\",\n",
    "    \"survivor of the Munich massacre\",\n",
    "    \"concentration camp survivor\",\n",
    "    \"botched execution survivor\",\n",
    "    \"sexual assault survivor\",\n",
    "    \"kidnapping survivor\",\n",
    "    \"Holocaust survivor\",\n",
    "    \"holocaust survivor\",\n",
    "    \"ebola survivor\",\n",
    "]\n",
    "event_record_other = sorted(\n",
    "    list(set(event_record_other)), key=lambda x: len(x), reverse=True\n",
    ")\n",
    "\n",
    "other_species = []\n",
    "other_species = sorted(list(set(other_species)), key=lambda x: len(x), reverse=True)"
   ]
  },
  {
   "cell_type": "code",
   "execution_count": 54,
   "id": "862c1a95",
   "metadata": {},
   "outputs": [
    {
     "data": {
      "application/javascript": [
       "\n",
       "            setTimeout(function() {\n",
       "                var nbb_cell_id = 54;\n",
       "                var nbb_unformatted_code = \"# Hard-coding info_2_1 value for entry to correctly categorize\\nindex = df[df[\\\"link\\\"] == \\\"https://en.wikipedia.org/wiki/John_Leland_Atwood\\\"].index\\ndf.loc[index, \\\"info_2_1\\\"] = \\\"\\\"\\n\\n# Hard-coding info_2_1 value for entry to correctly categorize\\nindex = df[df[\\\"link\\\"] == \\\"https://en.wikipedia.org/wiki/Zhu_Yuli\\\"].index\\ndf.loc[index, \\\"info_2_1\\\"] = \\\"\\\"\";\n",
       "                var nbb_formatted_code = \"# Hard-coding info_2_1 value for entry to correctly categorize\\nindex = df[df[\\\"link\\\"] == \\\"https://en.wikipedia.org/wiki/John_Leland_Atwood\\\"].index\\ndf.loc[index, \\\"info_2_1\\\"] = \\\"\\\"\\n\\n# Hard-coding info_2_1 value for entry to correctly categorize\\nindex = df[df[\\\"link\\\"] == \\\"https://en.wikipedia.org/wiki/Zhu_Yuli\\\"].index\\ndf.loc[index, \\\"info_2_1\\\"] = \\\"\\\"\";\n",
       "                var nbb_cells = Jupyter.notebook.get_cells();\n",
       "                for (var i = 0; i < nbb_cells.length; ++i) {\n",
       "                    if (nbb_cells[i].input_prompt_number == nbb_cell_id) {\n",
       "                        if (nbb_cells[i].get_text() == nbb_unformatted_code) {\n",
       "                             nbb_cells[i].set_text(nbb_formatted_code);\n",
       "                        }\n",
       "                        break;\n",
       "                    }\n",
       "                }\n",
       "            }, 500);\n",
       "            "
      ],
      "text/plain": [
       "<IPython.core.display.Javascript object>"
      ]
     },
     "metadata": {},
     "output_type": "display_data"
    }
   ],
   "source": [
    "# Hard-coding info_2_1 value for entry to correctly categorize\n",
    "index = df[df[\"link\"] == \"https://en.wikipedia.org/wiki/John_Leland_Atwood\"].index\n",
    "df.loc[index, \"info_2_1\"] = \"\"\n",
    "\n",
    "# Hard-coding info_2_1 value for entry to correctly categorize\n",
    "index = df[df[\"link\"] == \"https://en.wikipedia.org/wiki/Zhu_Yuli\"].index\n",
    "df.loc[index, \"info_2_1\"] = \"\""
   ]
  },
  {
   "cell_type": "markdown",
   "id": "67e4ef38",
   "metadata": {},
   "source": [
    "#### Creating `known_for_dict` Dictionary of Category Keys and Specific Role Lists of Values"
   ]
  },
  {
   "cell_type": "code",
   "execution_count": 55,
   "id": "f88dd9dc",
   "metadata": {},
   "outputs": [
    {
     "data": {
      "application/javascript": [
       "\n",
       "            setTimeout(function() {\n",
       "                var nbb_cell_id = 55;\n",
       "                var nbb_unformatted_code = \"# Combining separate lists into one dictionary\\nknown_for_dict = {\\n    \\\"social\\\": social,\\n    \\\"spiritual\\\": spiritual,\\n    \\\"academia_humanities\\\": academia_humanities,\\n    \\\"business_farming\\\": business_farming,\\n    \\\"sciences\\\": sciences,\\n    \\\"politics_govt_law\\\": politics_govt_law,\\n    \\\"law_enf_military_operator\\\": law_enf_military_operator,\\n    \\\"crime\\\": crime,\\n    \\\"event_record_other\\\": event_record_other,\\n    \\\"other_species\\\": other_species,\\n    \\\"arts\\\": arts,\\n    \\\"sports\\\": sports,\\n}\";\n",
       "                var nbb_formatted_code = \"# Combining separate lists into one dictionary\\nknown_for_dict = {\\n    \\\"social\\\": social,\\n    \\\"spiritual\\\": spiritual,\\n    \\\"academia_humanities\\\": academia_humanities,\\n    \\\"business_farming\\\": business_farming,\\n    \\\"sciences\\\": sciences,\\n    \\\"politics_govt_law\\\": politics_govt_law,\\n    \\\"law_enf_military_operator\\\": law_enf_military_operator,\\n    \\\"crime\\\": crime,\\n    \\\"event_record_other\\\": event_record_other,\\n    \\\"other_species\\\": other_species,\\n    \\\"arts\\\": arts,\\n    \\\"sports\\\": sports,\\n}\";\n",
       "                var nbb_cells = Jupyter.notebook.get_cells();\n",
       "                for (var i = 0; i < nbb_cells.length; ++i) {\n",
       "                    if (nbb_cells[i].input_prompt_number == nbb_cell_id) {\n",
       "                        if (nbb_cells[i].get_text() == nbb_unformatted_code) {\n",
       "                             nbb_cells[i].set_text(nbb_formatted_code);\n",
       "                        }\n",
       "                        break;\n",
       "                    }\n",
       "                }\n",
       "            }, 500);\n",
       "            "
      ],
      "text/plain": [
       "<IPython.core.display.Javascript object>"
      ]
     },
     "metadata": {},
     "output_type": "display_data"
    }
   ],
   "source": [
    "# Combining separate lists into one dictionary\n",
    "known_for_dict = {\n",
    "    \"social\": social,\n",
    "    \"spiritual\": spiritual,\n",
    "    \"academia_humanities\": academia_humanities,\n",
    "    \"business_farming\": business_farming,\n",
    "    \"sciences\": sciences,\n",
    "    \"politics_govt_law\": politics_govt_law,\n",
    "    \"law_enf_military_operator\": law_enf_military_operator,\n",
    "    \"crime\": crime,\n",
    "    \"event_record_other\": event_record_other,\n",
    "    \"other_species\": other_species,\n",
    "    \"arts\": arts,\n",
    "    \"sports\": sports,\n",
    "}"
   ]
  },
  {
   "cell_type": "markdown",
   "id": "31543ef4",
   "metadata": {},
   "source": [
    "#### Extracting Category from `info_2_1`"
   ]
  },
  {
   "cell_type": "code",
   "execution_count": 56,
   "id": "f09f2238",
   "metadata": {},
   "outputs": [
    {
     "name": "stdout",
     "output_type": "stream",
     "text": [
      "CPU times: total: 30.6 s\n",
      "Wall time: 30.6 s\n"
     ]
    },
    {
     "data": {
      "application/javascript": [
       "\n",
       "            setTimeout(function() {\n",
       "                var nbb_cell_id = 56;\n",
       "                var nbb_unformatted_code = \"%%time\\n\\n# Column to check\\ncolumn = 'info_2_1'\\n\\n# Start dataframe\\ndataframe = df[df[column].notna()]\\n\\n# For loop to find role in column and extract it as category\\nfor category, category_lst in known_for_dict.items():\\n    for role in category_lst:\\n        for index in dataframe.index:\\n                item = df.loc[index, column]\\n                if item:\\n                    if role in item:\\n                        df.loc[index, category] = 1\\n                        df.loc[index, column] = item.replace(role, '').strip()\\n\\n# Calculating num_categories\\ndf[\\\"num_categories\\\"] = df[known_for_dict.keys()].sum(axis=1)\";\n",
       "                var nbb_formatted_code = \"%%time\\n\\n# Column to check\\ncolumn = 'info_2_1'\\n\\n# Start dataframe\\ndataframe = df[df[column].notna()]\\n\\n# For loop to find role in column and extract it as category\\nfor category, category_lst in known_for_dict.items():\\n    for role in category_lst:\\n        for index in dataframe.index:\\n                item = df.loc[index, column]\\n                if item:\\n                    if role in item:\\n                        df.loc[index, category] = 1\\n                        df.loc[index, column] = item.replace(role, '').strip()\\n\\n# Calculating num_categories\\ndf[\\\"num_categories\\\"] = df[known_for_dict.keys()].sum(axis=1)\";\n",
       "                var nbb_cells = Jupyter.notebook.get_cells();\n",
       "                for (var i = 0; i < nbb_cells.length; ++i) {\n",
       "                    if (nbb_cells[i].input_prompt_number == nbb_cell_id) {\n",
       "                        if (nbb_cells[i].get_text() == nbb_unformatted_code) {\n",
       "                             nbb_cells[i].set_text(nbb_formatted_code);\n",
       "                        }\n",
       "                        break;\n",
       "                    }\n",
       "                }\n",
       "            }, 500);\n",
       "            "
      ],
      "text/plain": [
       "<IPython.core.display.Javascript object>"
      ]
     },
     "metadata": {},
     "output_type": "display_data"
    }
   ],
   "source": [
    "%%time\n",
    "\n",
    "# Column to check\n",
    "column = 'info_2_1'\n",
    "\n",
    "# Start dataframe\n",
    "dataframe = df[df[column].notna()]\n",
    "\n",
    "# For loop to find role in column and extract it as category\n",
    "for category, category_lst in known_for_dict.items():\n",
    "    for role in category_lst:\n",
    "        for index in dataframe.index:\n",
    "                item = df.loc[index, column]\n",
    "                if item:\n",
    "                    if role in item:\n",
    "                        df.loc[index, category] = 1\n",
    "                        df.loc[index, column] = item.replace(role, '').strip()\n",
    "\n",
    "# Calculating num_categories\n",
    "df[\"num_categories\"] = df[known_for_dict.keys()].sum(axis=1)"
   ]
  },
  {
   "cell_type": "markdown",
   "id": "8e7e418c",
   "metadata": {},
   "source": [
    "#### Checking Updated `num_categories` Value Counts"
   ]
  },
  {
   "cell_type": "code",
   "execution_count": 57,
   "id": "5fd1cc15",
   "metadata": {},
   "outputs": [
    {
     "data": {
      "text/plain": [
       "1    90435\n",
       "2     7436\n",
       "3       98\n",
       "0       75\n",
       "Name: num_categories, dtype: int64"
      ]
     },
     "execution_count": 57,
     "metadata": {},
     "output_type": "execute_result"
    },
    {
     "data": {
      "application/javascript": [
       "\n",
       "            setTimeout(function() {\n",
       "                var nbb_cell_id = 57;\n",
       "                var nbb_unformatted_code = \"# Checking updated num_categories value counts\\ndf[\\\"num_categories\\\"].value_counts()\";\n",
       "                var nbb_formatted_code = \"# Checking updated num_categories value counts\\ndf[\\\"num_categories\\\"].value_counts()\";\n",
       "                var nbb_cells = Jupyter.notebook.get_cells();\n",
       "                for (var i = 0; i < nbb_cells.length; ++i) {\n",
       "                    if (nbb_cells[i].input_prompt_number == nbb_cell_id) {\n",
       "                        if (nbb_cells[i].get_text() == nbb_unformatted_code) {\n",
       "                             nbb_cells[i].set_text(nbb_formatted_code);\n",
       "                        }\n",
       "                        break;\n",
       "                    }\n",
       "                }\n",
       "            }, 500);\n",
       "            "
      ],
      "text/plain": [
       "<IPython.core.display.Javascript object>"
      ]
     },
     "metadata": {},
     "output_type": "display_data"
    }
   ],
   "source": [
    "# Checking updated num_categories value counts\n",
    "df[\"num_categories\"].value_counts()"
   ]
  },
  {
   "cell_type": "markdown",
   "id": "61b68af0",
   "metadata": {},
   "source": [
    "#### Observations:\n",
    "- We will proceed to rebuild `known_for_dict` for the next iteration."
   ]
  },
  {
   "cell_type": "markdown",
   "id": "638ab3fa",
   "metadata": {},
   "source": [
    "#### Finding `known_for` Roles in `info_2_1`"
   ]
  },
  {
   "cell_type": "code",
   "execution_count": 58,
   "id": "8f09abcb",
   "metadata": {},
   "outputs": [
    {
     "data": {
      "application/javascript": [
       "\n",
       "            setTimeout(function() {\n",
       "                var nbb_cell_id = 58;\n",
       "                var nbb_unformatted_code = \"# # Obtaining values for column and their counts\\n# roles_list = df[\\\"info_2_1\\\"].value_counts(ascending=True).index.tolist()\";\n",
       "                var nbb_formatted_code = \"# # Obtaining values for column and their counts\\n# roles_list = df[\\\"info_2_1\\\"].value_counts(ascending=True).index.tolist()\";\n",
       "                var nbb_cells = Jupyter.notebook.get_cells();\n",
       "                for (var i = 0; i < nbb_cells.length; ++i) {\n",
       "                    if (nbb_cells[i].input_prompt_number == nbb_cell_id) {\n",
       "                        if (nbb_cells[i].get_text() == nbb_unformatted_code) {\n",
       "                             nbb_cells[i].set_text(nbb_formatted_code);\n",
       "                        }\n",
       "                        break;\n",
       "                    }\n",
       "                }\n",
       "            }, 500);\n",
       "            "
      ],
      "text/plain": [
       "<IPython.core.display.Javascript object>"
      ]
     },
     "metadata": {},
     "output_type": "display_data"
    }
   ],
   "source": [
    "# # Obtaining values for column and their counts\n",
    "# roles_list = df[\"info_2_1\"].value_counts(ascending=True).index.tolist()"
   ]
  },
  {
   "cell_type": "code",
   "execution_count": 59,
   "id": "05f9ed0f",
   "metadata": {},
   "outputs": [
    {
     "data": {
      "application/javascript": [
       "\n",
       "            setTimeout(function() {\n",
       "                var nbb_cell_id = 59;\n",
       "                var nbb_unformatted_code = \"# # Code to check each value\\n# roles_list.pop()\";\n",
       "                var nbb_formatted_code = \"# # Code to check each value\\n# roles_list.pop()\";\n",
       "                var nbb_cells = Jupyter.notebook.get_cells();\n",
       "                for (var i = 0; i < nbb_cells.length; ++i) {\n",
       "                    if (nbb_cells[i].input_prompt_number == nbb_cell_id) {\n",
       "                        if (nbb_cells[i].get_text() == nbb_unformatted_code) {\n",
       "                             nbb_cells[i].set_text(nbb_formatted_code);\n",
       "                        }\n",
       "                        break;\n",
       "                    }\n",
       "                }\n",
       "            }, 500);\n",
       "            "
      ],
      "text/plain": [
       "<IPython.core.display.Javascript object>"
      ]
     },
     "metadata": {},
     "output_type": "display_data"
    }
   ],
   "source": [
    "# # Code to check each value\n",
    "# roles_list.pop()"
   ]
  },
  {
   "cell_type": "code",
   "execution_count": 60,
   "id": "1c884074",
   "metadata": {},
   "outputs": [
    {
     "data": {
      "application/javascript": [
       "\n",
       "            setTimeout(function() {\n",
       "                var nbb_cell_id = 60;\n",
       "                var nbb_unformatted_code = \"# # Create specific_roles_list for above popped value\\n# specific_roles_list = (\\n#     df.loc[\\n#         [\\n#             index\\n#             for index in df[df[\\\"info_2_1\\\"].notna()].index\\n#             if \\\"instructor\\\" in df.loc[index, \\\"info_2_1\\\"]\\n#         ],\\n#         \\\"info_2_1\\\",\\n#     ]\\n#     .value_counts()\\n#     .index.tolist()\\n# )\";\n",
       "                var nbb_formatted_code = \"# # Create specific_roles_list for above popped value\\n# specific_roles_list = (\\n#     df.loc[\\n#         [\\n#             index\\n#             for index in df[df[\\\"info_2_1\\\"].notna()].index\\n#             if \\\"instructor\\\" in df.loc[index, \\\"info_2_1\\\"]\\n#         ],\\n#         \\\"info_2_1\\\",\\n#     ]\\n#     .value_counts()\\n#     .index.tolist()\\n# )\";\n",
       "                var nbb_cells = Jupyter.notebook.get_cells();\n",
       "                for (var i = 0; i < nbb_cells.length; ++i) {\n",
       "                    if (nbb_cells[i].input_prompt_number == nbb_cell_id) {\n",
       "                        if (nbb_cells[i].get_text() == nbb_unformatted_code) {\n",
       "                             nbb_cells[i].set_text(nbb_formatted_code);\n",
       "                        }\n",
       "                        break;\n",
       "                    }\n",
       "                }\n",
       "            }, 500);\n",
       "            "
      ],
      "text/plain": [
       "<IPython.core.display.Javascript object>"
      ]
     },
     "metadata": {},
     "output_type": "display_data"
    }
   ],
   "source": [
    "# # Create specific_roles_list for above popped value\n",
    "# specific_roles_list = (\n",
    "#     df.loc[\n",
    "#         [\n",
    "#             index\n",
    "#             for index in df[df[\"info_2_1\"].notna()].index\n",
    "#             if \"instructor\" in df.loc[index, \"info_2_1\"]\n",
    "#         ],\n",
    "#         \"info_2_1\",\n",
    "#     ]\n",
    "#     .value_counts()\n",
    "#     .index.tolist()\n",
    "# )"
   ]
  },
  {
   "cell_type": "code",
   "execution_count": 61,
   "id": "7348f9ec",
   "metadata": {},
   "outputs": [
    {
     "data": {
      "application/javascript": [
       "\n",
       "            setTimeout(function() {\n",
       "                var nbb_cell_id = 61;\n",
       "                var nbb_unformatted_code = \"# # Viewing list sorted by descending length to copy to dictionary below and screen values\\n# sorted(specific_roles_list, key=lambda x: len(x), reverse=True)\";\n",
       "                var nbb_formatted_code = \"# # Viewing list sorted by descending length to copy to dictionary below and screen values\\n# sorted(specific_roles_list, key=lambda x: len(x), reverse=True)\";\n",
       "                var nbb_cells = Jupyter.notebook.get_cells();\n",
       "                for (var i = 0; i < nbb_cells.length; ++i) {\n",
       "                    if (nbb_cells[i].input_prompt_number == nbb_cell_id) {\n",
       "                        if (nbb_cells[i].get_text() == nbb_unformatted_code) {\n",
       "                             nbb_cells[i].set_text(nbb_formatted_code);\n",
       "                        }\n",
       "                        break;\n",
       "                    }\n",
       "                }\n",
       "            }, 500);\n",
       "            "
      ],
      "text/plain": [
       "<IPython.core.display.Javascript object>"
      ]
     },
     "metadata": {},
     "output_type": "display_data"
    }
   ],
   "source": [
    "# # Viewing list sorted by descending length to copy to dictionary below and screen values\n",
    "# sorted(specific_roles_list, key=lambda x: len(x), reverse=True)"
   ]
  },
  {
   "cell_type": "code",
   "execution_count": 62,
   "id": "0d6971cf",
   "metadata": {},
   "outputs": [
    {
     "data": {
      "application/javascript": [
       "\n",
       "            setTimeout(function() {\n",
       "                var nbb_cell_id = 62;\n",
       "                var nbb_unformatted_code = \"# # Example code to check additional category for specific entries\\n# df.loc[\\n#     [\\n#         index\\n#         for index in df.index\\n#         if df.loc[index, \\\"info_2_1\\\"] == \\\"executive\\\"\\n#         and df.loc[index, \\\"num_categories\\\"] == 0\\n#     ],\\n#     :,\\n# ]\";\n",
       "                var nbb_formatted_code = \"# # Example code to check additional category for specific entries\\n# df.loc[\\n#     [\\n#         index\\n#         for index in df.index\\n#         if df.loc[index, \\\"info_2_1\\\"] == \\\"executive\\\"\\n#         and df.loc[index, \\\"num_categories\\\"] == 0\\n#     ],\\n#     :,\\n# ]\";\n",
       "                var nbb_cells = Jupyter.notebook.get_cells();\n",
       "                for (var i = 0; i < nbb_cells.length; ++i) {\n",
       "                    if (nbb_cells[i].input_prompt_number == nbb_cell_id) {\n",
       "                        if (nbb_cells[i].get_text() == nbb_unformatted_code) {\n",
       "                             nbb_cells[i].set_text(nbb_formatted_code);\n",
       "                        }\n",
       "                        break;\n",
       "                    }\n",
       "                }\n",
       "            }, 500);\n",
       "            "
      ],
      "text/plain": [
       "<IPython.core.display.Javascript object>"
      ]
     },
     "metadata": {},
     "output_type": "display_data"
    }
   ],
   "source": [
    "# # Example code to check additional category for specific entries\n",
    "# df.loc[\n",
    "#     [\n",
    "#         index\n",
    "#         for index in df.index\n",
    "#         if df.loc[index, \"info_2_1\"] == \"executive\"\n",
    "#         and df.loc[index, \"num_categories\"] == 0\n",
    "#     ],\n",
    "#     :,\n",
    "# ]"
   ]
  },
  {
   "cell_type": "code",
   "execution_count": 63,
   "id": "a1629e2c",
   "metadata": {},
   "outputs": [
    {
     "data": {
      "application/javascript": [
       "\n",
       "            setTimeout(function() {\n",
       "                var nbb_cell_id = 63;\n",
       "                var nbb_unformatted_code = \"# # Example code to quick-check a specific entry\\n# df[df[\\\"info_2_1\\\"] == \\\"media ecologist\\\"]\";\n",
       "                var nbb_formatted_code = \"# # Example code to quick-check a specific entry\\n# df[df[\\\"info_2_1\\\"] == \\\"media ecologist\\\"]\";\n",
       "                var nbb_cells = Jupyter.notebook.get_cells();\n",
       "                for (var i = 0; i < nbb_cells.length; ++i) {\n",
       "                    if (nbb_cells[i].input_prompt_number == nbb_cell_id) {\n",
       "                        if (nbb_cells[i].get_text() == nbb_unformatted_code) {\n",
       "                             nbb_cells[i].set_text(nbb_formatted_code);\n",
       "                        }\n",
       "                        break;\n",
       "                    }\n",
       "                }\n",
       "            }, 500);\n",
       "            "
      ],
      "text/plain": [
       "<IPython.core.display.Javascript object>"
      ]
     },
     "metadata": {},
     "output_type": "display_data"
    }
   ],
   "source": [
    "# # Example code to quick-check a specific entry\n",
    "# df[df[\"info_2_1\"] == \"media ecologist\"]"
   ]
  },
  {
   "cell_type": "markdown",
   "id": "14262a34",
   "metadata": {},
   "source": [
    "#### Creating Lists for Each `known_for` Category"
   ]
  },
  {
   "cell_type": "code",
   "execution_count": 64,
   "id": "bdeea187",
   "metadata": {},
   "outputs": [
    {
     "data": {
      "application/javascript": [
       "\n",
       "            setTimeout(function() {\n",
       "                var nbb_cell_id = 64;\n",
       "                var nbb_unformatted_code = \"# Creating lists for each category and sorting by decreasing length and removing duplicates\\n\\npolitics_govt_law = [\\n    \\\"urban designer\\\",\\n    \\\"conservationist\\\",\\n    \\\"presidential military advisor\\\",\\n    \\\"political scientist\\\",\\n    \\\"influential patent attorney\\\",\\n    \\\"district attorney\\\",\\n    \\\"attorney general\\\",\\n    \\\"attorney\\\",\\n    \\\"environmentalist\\\",\\n    \\\"political science at the University of\\\",\\n    \\\"political campaign chairwoman\\\",\\n    \\\"political power broker\\\",\\n    \\\"political strategist\\\",\\n    \\\"political campaigner\\\",\\n    \\\"political consultant\\\",\\n    \\\"political scientist\\\",\\n    \\\"political dissident\\\",\\n    \\\"political candidate\\\",\\n    \\\"political operative\\\",\\n    \\\"political prisoner\\\",\\n    \\\"political reformer\\\",\\n    \\\"political analyst\\\",\\n    \\\"political advisor\\\",\\n    \\\"political adviser\\\",\\n    \\\"political refugee\\\",\\n    \\\"political insider\\\",\\n    \\\"political science\\\",\\n    \\\"political leader\\\",\\n    \\\"political figure\\\",\\n    \\\"political aide\\\",\\n    \\\"political\\\",\\n    \\\"ambassador to Arabia\\\",\\n    \\\"ambassador to and\\\",\\n    \\\"ambassador to the\\\",\\n    \\\"ambassador to\\\",\\n    \\\"ambassador\\\",\\n    \\\"political science at the University of\\\",\\n    \\\"prisoner of conscience\\\",\\n    \\\"political dissident\\\",\\n    \\\"confined dissident\\\",\\n    \\\"a dissident\\\",\\n    \\\"dissident\\\",\\n    \\\"chief legal counsel to the RNC\\\",\\n    \\\"legal reformer\\\",\\n    \\\"legal analyst\\\",\\n    \\\"legal\\\",\\n    \\\"mistress of the minister Joseph Goebbels\\\",\\n    \\\"struggle veteran\\\",\\n    \\\"doctor of law\\\",\\n    \\\"aristocrat\\\",\\n]\\npolitics_govt_law = sorted(\\n    list(set(politics_govt_law)), key=lambda x: len(x), reverse=True\\n)\\n\\narts = [\\n    \\\"inventor of the action figure\\\",\\n    \\\"urban design critic\\\",\\n    \\\"golf course designer\\\",\\n    \\\"racing car designer\\\",\\n    \\\"product designer\\\",\\n    'lyricist of \\\"Arrivederci Roma\\\"',\\n    \\\"lyricist in the language\\\",\\n    \\\"lyricist of\\\",\\n    \\\"lyricist\\\",\\n    \\\"essayist with the stage name Buddy Blue\\\",\\n    \\\"essayist\\\",\\n    \\\"vaudeville entertainer\\\",\\n    \\\"nightclub entertainer\\\",\\n    \\\"children entertainer\\\",\\n    \\\"entertainment\\\",\\n    \\\"entertainer\\\",\\n    \\\"Grammy winning arranger\\\",\\n    \\\"arranger\\\",\\n    \\\"comic strip cartoonist\\\",\\n    \\\"Superman cartoons\\\",\\n    \\\"cartoonists\\\",\\n    \\\"cartoonist\\\",\\n    \\\"weather presenter\\\",\\n    \\\"radio presenter\\\",\\n    \\\"news presenter\\\",\\n    \\\"TV presenter\\\",\\n    \\\"presenter\\\",\\n    \\\"columnist for the San Francisco Chronicle\\\",\\n    \\\"syndicated columnist\\\",\\n    \\\"newspaper columnist\\\",\\n    \\\"magazine columnist\\\",\\n    \\\"literary columnist\\\",\\n    \\\"tabloid columnist\\\",\\n    \\\"advice columnist\\\",\\n    \\\"humor columnist\\\",\\n    \\\"columnist\\\",\\n    \\\"Cultural Medallion winner\\\",\\n    \\\"collector of Beatles memorabilia\\\",\\n    \\\"fine arts collector\\\",\\n    \\\"antique collector\\\",\\n    \\\"record collector\\\",\\n    \\\"song collector\\\",\\n    \\\"art collector\\\",\\n    \\\"social media personality\\\",\\n    \\\"variety show personality\\\",\\n    \\\"reality show personality\\\",\\n    \\\"internet personality\\\",\\n    \\\"Internet personality\\\",\\n    \\\"YouTube personality\\\",\\n    \\\"radio personality\\\",\\n    \\\"media personality\\\",\\n    \\\"TV personality\\\",\\n    \\\"personality\\\",\\n    \\\"James Bond stunt\\\",\\n    \\\"stunt performer\\\",\\n    \\\"movie stuntman\\\",\\n    \\\"stunt double\\\",\\n    \\\"stuntperson\\\",\\n    \\\"stuntwoman\\\",\\n    \\\"stunt man\\\",\\n    \\\"stuntman\\\",\\n    \\\"Chicago blues harmonica player\\\",\\n    \\\"tin whistle player\\\",\\n    \\\"flugelhorn player\\\",\\n    \\\"harmonica player\\\",\\n    \\\"saxophone player\\\",\\n    \\\"clarinet player\\\",\\n    \\\"trombone player\\\",\\n    \\\"keyboard player\\\",\\n    \\\"Alghoza player\\\",\\n    \\\"ukulele player\\\",\\n    \\\"trumpet player\\\",\\n    \\\"marimba player\\\",\\n    \\\"yueqin player\\\",\\n    \\\"tabla player\\\",\\n    \\\"banjo player\\\",\\n    \\\"viola player\\\",\\n    \\\"kora player\\\",\\n    \\\"bass player\\\",\\n    \\\"oud player\\\",\\n    \\\"science fiction\\\",\\n    \\\"animal trainer\\\",\\n    \\\"festival organiser\\\",\\n    \\\"festival promoter\\\",\\n    \\\"festival founder\\\",\\n    \\\"tourism promoter\\\",\\n    \\\"organist choirmaster Washington National Cathedral\\\",\\n    \\\"concert organist\\\",\\n    \\\"blues organist\\\",\\n    \\\"organist\\\",\\n    \\\"radio announcer\\\",\\n    \\\"announcer\\\",\\n    \\\"blogger\\\",\\n    \\\"computer animation\\\",\\n    \\\"animator\\\",\\n    \\\"media ecologist\\\",\\n    \\\"socialite\\\",\\n]\\narts = sorted(list(set(arts)), key=lambda x: len(x), reverse=True)\\n\\nsports = [\\n    \\\"football player\\\",\\n    \\\"football\\\",\\n    \\\"sports imposter\\\",\\n    \\\"sports\\\",\\n    \\\"International Cricket Council match referee\\\",\\n    \\\"NHL referee\\\",\\n    \\\"referee\\\",\\n    \\\"assistant racehorse trainer\\\",\\n    \\\"racehorse trainer\\\",\\n    \\\"horse trainer\\\",\\n    \\\"youth trainer\\\",\\n    \\\"international umpire\\\",\\n    \\\"umpire\\\",\\n    \\\"underwater explorer\\\",\\n    \\\"marine explorer\\\",\\n    \\\"polar explorer\\\",\\n    \\\"explorer\\\",\\n    \\\"mountain climber\\\",\\n    \\\"mountain runner\\\",\\n    \\\"mountaineer\\\",\\n]\\nsports = sorted(list(set(sports)), key=lambda x: len(x), reverse=True)\\n\\nsciences = [\\n    \\\"chief designer of the Ada programming language\\\",\\n    \\\"designer of golf clubs\\\",\\n    \\\"industrial designer\\\",\\n    \\\"automobile designer\\\",\\n    \\\"jet engine designer\\\",\\n    \\\"aircraft designer\\\",\\n    \\\"course designer\\\",\\n    \\\"engine designer\\\",\\n    \\\"yacht designer\\\",\\n    \\\"boat designer\\\",\\n    \\\"psychologist from the Antilles\\\",\\n    \\\"pastoral psychologist\\\",\\n    \\\"parapsychologist\\\",\\n    \\\"psychologist\\\",\\n    \\\"mathematical logician\\\",\\n    \\\"applied mathematician\\\",\\n    \\\"mathematician\\\",\\n    \\\"mathematics\\\",\\n    \\\"computer scientist developed diehard tests\\\",\\n    'social scientist who coined the term \\\"\\\"',\\n    \\\"theoretical computer scientist\\\",\\n    \\\"information research scientist\\\",\\n    \\\"pioneering computer scientist\\\",\\n    \\\"pharmaceutical scientist\\\",\\n    \\\"climate change scientist\\\",\\n    \\\"environmental scientist\\\",\\n    \\\"communication scientist\\\",\\n    \\\"conservation scientist\\\",\\n    \\\"agricultural scientist\\\",\\n    \\\"nutritional scientist\\\",\\n    \\\"planetary scientist\\\",\\n    \\\"fisheries scientist\\\",\\n    \\\"cognitive scientist\\\",\\n    \\\"materials scientist\\\",\\n    \\\"fuel cell scientist\\\",\\n    \\\"computer scientist\\\",\\n    \\\"forensic scientist\\\",\\n    \\\"research scientist\\\",\\n    \\\"nuclear scientist\\\",\\n    \\\"medical scientist\\\",\\n    \\\"climate scientist\\\",\\n    \\\"systems scientist\\\",\\n    \\\"social scientist\\\",\\n    \\\"rocket scientist\\\",\\n    \\\"paper scientist\\\",\\n    \\\"space scientist\\\",\\n    \\\"color scientist\\\",\\n    \\\"neuroscientist\\\",\\n    \\\"food scientist\\\",\\n    \\\"soil scientist\\\",\\n    \\\"plant collector\\\",\\n    \\\"skull collector\\\",\\n    \\\"computer science researcher\\\",\\n    \\\"planetary science pioneer\\\",\\n    \\\"information science\\\",\\n    \\\"science adviser\\\",\\n    \\\"popular science\\\",\\n    \\\"social science\\\",\\n    \\\"psychotherapist\\\",\\n    \\\"art therapist\\\",\\n    \\\"therapist\\\",\\n    \\\"psychoanalyst\\\",\\n    \\\"medical aid developer\\\",\\n    \\\"medical practitioner\\\",\\n    \\\"medical researcher\\\",\\n    \\\"medical scientist\\\",\\n    \\\"medical pioneer\\\",\\n    \\\"medical doctor\\\",\\n    \\\"medical\\\",\\n    \\\"molecular genetics pioneer\\\",\\n    \\\"cancer genetic researcher\\\",\\n    \\\"population geneticist\\\",\\n    \\\"behavioral geneticist\\\",\\n    \\\"molecular geneticist\\\",\\n    \\\"plant geneticist\\\",\\n    \\\"geneticist\\\",\\n    \\\"botanist\\\",\\n    \\\"Auschwitz concentration camp doctor during World War II\\\",\\n    \\\"theoretical ecologist\\\",\\n    \\\"plant ecologist\\\",\\n    \\\"gynaecologist\\\",\\n    \\\"gynecologist\\\",\\n]\\nsciences = sorted(list(set(sciences)), key=lambda x: len(x), reverse=True)\\n\\nbusiness_farming = [\\n    \\\"entrepreneur\\\",\\n    \\\"tourism pioneer\\\",\\n    \\\"wife of industrialist Charles W Engelhard Jr\\\",\\n    \\\"industrialist merged Studebaker\\\",\\n    \\\"industrialist\\\",\\n    \\\"restaurateur\\\",\\n]\\nbusiness_farming = sorted(\\n    list(set(business_farming)), key=lambda x: len(x), reverse=True\\n)\\n\\nacademia_humanities = [\\n    \\\"former curator at the Smithsonian Institution\\\",\\n    \\\"curator at the Museum\\\",\\n    \\\"museum curator\\\",\\n    \\\"art curator\\\",\\n    \\\"curator\\\",\\n    \\\"linguistic anthropologist\\\",\\n    \\\"linguistics\\\",\\n    \\\"linguist\\\",\\n    \\\"polymath\\\",\\n    \\\"sociologist from\\\",\\n    \\\"sociologist\\\",\\n    \\\"sociology\\\",\\n    \\\"industrial archaeologist\\\",\\n    \\\"classical archaeologist\\\",\\n    \\\"archaeologist\\\",\\n    \\\"cultural anthropologist\\\",\\n    \\\"social anthropologist\\\",\\n    \\\"palaeoanthropologist\\\",\\n    \\\"paleoanthropologist\\\",\\n    \\\"anthropologist\\\",\\n    \\\"stamp collector\\\",\\n    \\\"library science pioneer\\\",\\n    \\\"book collector\\\",\\n]\\nacademia_humanities = sorted(\\n    list(set(academia_humanities)), key=lambda x: len(x), reverse=True\\n)\\n\\nlaw_enf_military_operator = [\\n    \\\"military intelligence expert\\\",\\n    \\\"secessionist Biafran military commander\\\",\\n    \\\"military commander during World War II\\\",\\n    \\\"military drill instructor\\\",\\n    \\\"military junta leader\\\",\\n    \\\"paramilitary leader\\\",\\n    \\\"military strategist\\\",\\n    \\\"military commander\\\",\\n    \\\"military official\\\",\\n    \\\"military officer\\\",\\n    \\\"military veteran\\\",\\n    \\\"military leader\\\",\\n    \\\"military figure\\\",\\n    \\\"paramilitary\\\",\\n    \\\"recipient of the Medal of Honor for his actions in World War II\\\",\\n    \\\"Medal of Honor recipient for actions in War\\\",\\n    \\\"Medal of Honor recipient in World War II\\\",\\n    \\\"a recipient of the Medal of Honor\\\",\\n    \\\"recipient of the Medal of Honor\\\",\\n    \\\"recipient the Medal of Honor\\\",\\n    \\\"Medal of Freedom recipient\\\",\\n    \\\"Medal of Honor recipient\\\",\\n    \\\"Military Medal recipient\\\",\\n    \\\"George Medal\\\",\\n    \\\"the last surviving soldier to have taken part in the Christmas truce of\\\",\\n    \\\"decorated soldier\\\",\\n    \\\"Wehrmacht soldier\\\",\\n    \\\"rebel soldier\\\",\\n    \\\"WWII soldier\\\",\\n    \\\"soldier\\\",\\n    \\\"trainer of Violette Szab\\u00f3\\\",\\n    \\\"cosmonaut trainer\\\",\\n    \\\"spy during World War II\\\",\\n    \\\"spy for the Union\\\",\\n    \\\"spymaster\\\",\\n    \\\"Metropolitan police officer\\\",\\n    \\\"political police commander\\\",\\n    \\\"former police chief\\\",\\n    \\\"police informant\\\",\\n    \\\"police official\\\",\\n    \\\"police officer\\\",\\n    \\\"police chief\\\",\\n    \\\"policeman\\\",\\n    \\\"Women Airforce Service Pilots veteran\\\",\\n    \\\"International Brigades veteran\\\",\\n    \\\"last known World War I veteran\\\",\\n    \\\"World War II veteran\\\",\\n    \\\"World War I veteran\\\",\\n    \\\"Civil War veteran\\\",\\n    \\\"veterans advocate\\\",\\n    \\\"military veteran\\\",\\n    \\\"army veteran\\\",\\n    \\\"war veteran\\\",\\n    \\\"WW veteran\\\",\\n    \\\"World War II army officer\\\",\\n    \\\"army officer\\\",\\n    \\\"army general\\\",\\n    \\\"army veteran\\\",\\n    \\\"army colonel\\\",\\n]\\nlaw_enf_military_operator = sorted(\\n    list(set(law_enf_military_operator)), key=lambda x: len(x), reverse=True\\n)\\n\\nspiritual = [\\n    \\\"Southern Baptist minister\\\",\\n    \\\"Congregational minister\\\",\\n    \\\"Nonconformist minister\\\",\\n    \\\"Presbyterian minister\\\",\\n    \\\"Methodist minister\\\",\\n    \\\"ordained minister\\\",\\n    \\\"Baptist minister\\\",\\n    \\\"baptist minister\\\",\\n    \\\"missionary\\\",\\n]\\nspiritual = sorted(list(set(spiritual)), key=lambda x: len(x), reverse=True)\\n\\nsocial = [\\\"humanitarian\\\"]\\nsocial = sorted(list(set(social)), key=lambda x: len(x), reverse=True)\\n\\ncrime = [\\n    \\\"convicted murderer executed by hanging at dawn in Changi Prison for manipulating\\\",\\n    \\\"convicted accomplice in the Freedom Summer murders\\\",\\n    \\\"convicted attempted murderer\\\",\\n    \\\"convicted child sex offender\\\",\\n    \\\"convicted triple murderer\\\",\\n    \\\"convicted state terrorist\\\",\\n    \\\"convicted drug trafficker\\\",\\n    \\\"convicted child molester\\\",\\n    \\\"convicted manslaughterer\\\",\\n    \\\"convicted war criminal\\\",\\n    \\\"convicted sex offender\\\",\\n    \\\"convicted child rapist\\\",\\n    \\\"convicted child abuser\\\",\\n    \\\"convicted extortionist\\\",\\n    \\\"convicted conspirator\\\",\\n    \\\"convicted bank robber\\\",\\n    \\\"convicted fraudster\\\",\\n    \\\"convicted embezzler\\\",\\n    \\\"convicted terrorist\\\",\\n    \\\"convicted art thief\\\",\\n    \\\"convicted racketeer\\\",\\n    \\\"convicted kidnapper\\\",\\n    \\\"convicted murderer\\\",\\n    \\\"convicted criminal\\\",\\n    \\\"convicted con man\\\",\\n    \\\"convicted rapist\\\",\\n    \\\"convicted killer\\\",\\n    \\\"convicted robber\\\",\\n    \\\"convicted bomber\\\",\\n    \\\"convicted felon\\\",\\n    \\\"murder convict\\\",\\n    \\\"convicted spy\\\",\\n    \\\"convict\\\",\\n    \\\"corrupt\\\",\\n]\\ncrime = sorted(list(set(crime)), key=lambda x: len(x), reverse=True)\\n\\nevent_record_other = [\\n    \\\"alleged spy\\\",\\n]\\nevent_record_other = sorted(\\n    list(set(event_record_other)), key=lambda x: len(x), reverse=True\\n)\\n\\nother_species = [\\\"champion sire\\\", \\\"sire old age\\\", \\\"active sire\\\", \\\"sire\\\"]\\nother_species = sorted(list(set(other_species)), key=lambda x: len(x), reverse=True)\";\n",
       "                var nbb_formatted_code = \"# Creating lists for each category and sorting by decreasing length and removing duplicates\\n\\npolitics_govt_law = [\\n    \\\"urban designer\\\",\\n    \\\"conservationist\\\",\\n    \\\"presidential military advisor\\\",\\n    \\\"political scientist\\\",\\n    \\\"influential patent attorney\\\",\\n    \\\"district attorney\\\",\\n    \\\"attorney general\\\",\\n    \\\"attorney\\\",\\n    \\\"environmentalist\\\",\\n    \\\"political science at the University of\\\",\\n    \\\"political campaign chairwoman\\\",\\n    \\\"political power broker\\\",\\n    \\\"political strategist\\\",\\n    \\\"political campaigner\\\",\\n    \\\"political consultant\\\",\\n    \\\"political scientist\\\",\\n    \\\"political dissident\\\",\\n    \\\"political candidate\\\",\\n    \\\"political operative\\\",\\n    \\\"political prisoner\\\",\\n    \\\"political reformer\\\",\\n    \\\"political analyst\\\",\\n    \\\"political advisor\\\",\\n    \\\"political adviser\\\",\\n    \\\"political refugee\\\",\\n    \\\"political insider\\\",\\n    \\\"political science\\\",\\n    \\\"political leader\\\",\\n    \\\"political figure\\\",\\n    \\\"political aide\\\",\\n    \\\"political\\\",\\n    \\\"ambassador to Arabia\\\",\\n    \\\"ambassador to and\\\",\\n    \\\"ambassador to the\\\",\\n    \\\"ambassador to\\\",\\n    \\\"ambassador\\\",\\n    \\\"political science at the University of\\\",\\n    \\\"prisoner of conscience\\\",\\n    \\\"political dissident\\\",\\n    \\\"confined dissident\\\",\\n    \\\"a dissident\\\",\\n    \\\"dissident\\\",\\n    \\\"chief legal counsel to the RNC\\\",\\n    \\\"legal reformer\\\",\\n    \\\"legal analyst\\\",\\n    \\\"legal\\\",\\n    \\\"mistress of the minister Joseph Goebbels\\\",\\n    \\\"struggle veteran\\\",\\n    \\\"doctor of law\\\",\\n    \\\"aristocrat\\\",\\n]\\npolitics_govt_law = sorted(\\n    list(set(politics_govt_law)), key=lambda x: len(x), reverse=True\\n)\\n\\narts = [\\n    \\\"inventor of the action figure\\\",\\n    \\\"urban design critic\\\",\\n    \\\"golf course designer\\\",\\n    \\\"racing car designer\\\",\\n    \\\"product designer\\\",\\n    'lyricist of \\\"Arrivederci Roma\\\"',\\n    \\\"lyricist in the language\\\",\\n    \\\"lyricist of\\\",\\n    \\\"lyricist\\\",\\n    \\\"essayist with the stage name Buddy Blue\\\",\\n    \\\"essayist\\\",\\n    \\\"vaudeville entertainer\\\",\\n    \\\"nightclub entertainer\\\",\\n    \\\"children entertainer\\\",\\n    \\\"entertainment\\\",\\n    \\\"entertainer\\\",\\n    \\\"Grammy winning arranger\\\",\\n    \\\"arranger\\\",\\n    \\\"comic strip cartoonist\\\",\\n    \\\"Superman cartoons\\\",\\n    \\\"cartoonists\\\",\\n    \\\"cartoonist\\\",\\n    \\\"weather presenter\\\",\\n    \\\"radio presenter\\\",\\n    \\\"news presenter\\\",\\n    \\\"TV presenter\\\",\\n    \\\"presenter\\\",\\n    \\\"columnist for the San Francisco Chronicle\\\",\\n    \\\"syndicated columnist\\\",\\n    \\\"newspaper columnist\\\",\\n    \\\"magazine columnist\\\",\\n    \\\"literary columnist\\\",\\n    \\\"tabloid columnist\\\",\\n    \\\"advice columnist\\\",\\n    \\\"humor columnist\\\",\\n    \\\"columnist\\\",\\n    \\\"Cultural Medallion winner\\\",\\n    \\\"collector of Beatles memorabilia\\\",\\n    \\\"fine arts collector\\\",\\n    \\\"antique collector\\\",\\n    \\\"record collector\\\",\\n    \\\"song collector\\\",\\n    \\\"art collector\\\",\\n    \\\"social media personality\\\",\\n    \\\"variety show personality\\\",\\n    \\\"reality show personality\\\",\\n    \\\"internet personality\\\",\\n    \\\"Internet personality\\\",\\n    \\\"YouTube personality\\\",\\n    \\\"radio personality\\\",\\n    \\\"media personality\\\",\\n    \\\"TV personality\\\",\\n    \\\"personality\\\",\\n    \\\"James Bond stunt\\\",\\n    \\\"stunt performer\\\",\\n    \\\"movie stuntman\\\",\\n    \\\"stunt double\\\",\\n    \\\"stuntperson\\\",\\n    \\\"stuntwoman\\\",\\n    \\\"stunt man\\\",\\n    \\\"stuntman\\\",\\n    \\\"Chicago blues harmonica player\\\",\\n    \\\"tin whistle player\\\",\\n    \\\"flugelhorn player\\\",\\n    \\\"harmonica player\\\",\\n    \\\"saxophone player\\\",\\n    \\\"clarinet player\\\",\\n    \\\"trombone player\\\",\\n    \\\"keyboard player\\\",\\n    \\\"Alghoza player\\\",\\n    \\\"ukulele player\\\",\\n    \\\"trumpet player\\\",\\n    \\\"marimba player\\\",\\n    \\\"yueqin player\\\",\\n    \\\"tabla player\\\",\\n    \\\"banjo player\\\",\\n    \\\"viola player\\\",\\n    \\\"kora player\\\",\\n    \\\"bass player\\\",\\n    \\\"oud player\\\",\\n    \\\"science fiction\\\",\\n    \\\"animal trainer\\\",\\n    \\\"festival organiser\\\",\\n    \\\"festival promoter\\\",\\n    \\\"festival founder\\\",\\n    \\\"tourism promoter\\\",\\n    \\\"organist choirmaster Washington National Cathedral\\\",\\n    \\\"concert organist\\\",\\n    \\\"blues organist\\\",\\n    \\\"organist\\\",\\n    \\\"radio announcer\\\",\\n    \\\"announcer\\\",\\n    \\\"blogger\\\",\\n    \\\"computer animation\\\",\\n    \\\"animator\\\",\\n    \\\"media ecologist\\\",\\n    \\\"socialite\\\",\\n]\\narts = sorted(list(set(arts)), key=lambda x: len(x), reverse=True)\\n\\nsports = [\\n    \\\"football player\\\",\\n    \\\"football\\\",\\n    \\\"sports imposter\\\",\\n    \\\"sports\\\",\\n    \\\"International Cricket Council match referee\\\",\\n    \\\"NHL referee\\\",\\n    \\\"referee\\\",\\n    \\\"assistant racehorse trainer\\\",\\n    \\\"racehorse trainer\\\",\\n    \\\"horse trainer\\\",\\n    \\\"youth trainer\\\",\\n    \\\"international umpire\\\",\\n    \\\"umpire\\\",\\n    \\\"underwater explorer\\\",\\n    \\\"marine explorer\\\",\\n    \\\"polar explorer\\\",\\n    \\\"explorer\\\",\\n    \\\"mountain climber\\\",\\n    \\\"mountain runner\\\",\\n    \\\"mountaineer\\\",\\n]\\nsports = sorted(list(set(sports)), key=lambda x: len(x), reverse=True)\\n\\nsciences = [\\n    \\\"chief designer of the Ada programming language\\\",\\n    \\\"designer of golf clubs\\\",\\n    \\\"industrial designer\\\",\\n    \\\"automobile designer\\\",\\n    \\\"jet engine designer\\\",\\n    \\\"aircraft designer\\\",\\n    \\\"course designer\\\",\\n    \\\"engine designer\\\",\\n    \\\"yacht designer\\\",\\n    \\\"boat designer\\\",\\n    \\\"psychologist from the Antilles\\\",\\n    \\\"pastoral psychologist\\\",\\n    \\\"parapsychologist\\\",\\n    \\\"psychologist\\\",\\n    \\\"mathematical logician\\\",\\n    \\\"applied mathematician\\\",\\n    \\\"mathematician\\\",\\n    \\\"mathematics\\\",\\n    \\\"computer scientist developed diehard tests\\\",\\n    'social scientist who coined the term \\\"\\\"',\\n    \\\"theoretical computer scientist\\\",\\n    \\\"information research scientist\\\",\\n    \\\"pioneering computer scientist\\\",\\n    \\\"pharmaceutical scientist\\\",\\n    \\\"climate change scientist\\\",\\n    \\\"environmental scientist\\\",\\n    \\\"communication scientist\\\",\\n    \\\"conservation scientist\\\",\\n    \\\"agricultural scientist\\\",\\n    \\\"nutritional scientist\\\",\\n    \\\"planetary scientist\\\",\\n    \\\"fisheries scientist\\\",\\n    \\\"cognitive scientist\\\",\\n    \\\"materials scientist\\\",\\n    \\\"fuel cell scientist\\\",\\n    \\\"computer scientist\\\",\\n    \\\"forensic scientist\\\",\\n    \\\"research scientist\\\",\\n    \\\"nuclear scientist\\\",\\n    \\\"medical scientist\\\",\\n    \\\"climate scientist\\\",\\n    \\\"systems scientist\\\",\\n    \\\"social scientist\\\",\\n    \\\"rocket scientist\\\",\\n    \\\"paper scientist\\\",\\n    \\\"space scientist\\\",\\n    \\\"color scientist\\\",\\n    \\\"neuroscientist\\\",\\n    \\\"food scientist\\\",\\n    \\\"soil scientist\\\",\\n    \\\"plant collector\\\",\\n    \\\"skull collector\\\",\\n    \\\"computer science researcher\\\",\\n    \\\"planetary science pioneer\\\",\\n    \\\"information science\\\",\\n    \\\"science adviser\\\",\\n    \\\"popular science\\\",\\n    \\\"social science\\\",\\n    \\\"psychotherapist\\\",\\n    \\\"art therapist\\\",\\n    \\\"therapist\\\",\\n    \\\"psychoanalyst\\\",\\n    \\\"medical aid developer\\\",\\n    \\\"medical practitioner\\\",\\n    \\\"medical researcher\\\",\\n    \\\"medical scientist\\\",\\n    \\\"medical pioneer\\\",\\n    \\\"medical doctor\\\",\\n    \\\"medical\\\",\\n    \\\"molecular genetics pioneer\\\",\\n    \\\"cancer genetic researcher\\\",\\n    \\\"population geneticist\\\",\\n    \\\"behavioral geneticist\\\",\\n    \\\"molecular geneticist\\\",\\n    \\\"plant geneticist\\\",\\n    \\\"geneticist\\\",\\n    \\\"botanist\\\",\\n    \\\"Auschwitz concentration camp doctor during World War II\\\",\\n    \\\"theoretical ecologist\\\",\\n    \\\"plant ecologist\\\",\\n    \\\"gynaecologist\\\",\\n    \\\"gynecologist\\\",\\n]\\nsciences = sorted(list(set(sciences)), key=lambda x: len(x), reverse=True)\\n\\nbusiness_farming = [\\n    \\\"entrepreneur\\\",\\n    \\\"tourism pioneer\\\",\\n    \\\"wife of industrialist Charles W Engelhard Jr\\\",\\n    \\\"industrialist merged Studebaker\\\",\\n    \\\"industrialist\\\",\\n    \\\"restaurateur\\\",\\n]\\nbusiness_farming = sorted(\\n    list(set(business_farming)), key=lambda x: len(x), reverse=True\\n)\\n\\nacademia_humanities = [\\n    \\\"former curator at the Smithsonian Institution\\\",\\n    \\\"curator at the Museum\\\",\\n    \\\"museum curator\\\",\\n    \\\"art curator\\\",\\n    \\\"curator\\\",\\n    \\\"linguistic anthropologist\\\",\\n    \\\"linguistics\\\",\\n    \\\"linguist\\\",\\n    \\\"polymath\\\",\\n    \\\"sociologist from\\\",\\n    \\\"sociologist\\\",\\n    \\\"sociology\\\",\\n    \\\"industrial archaeologist\\\",\\n    \\\"classical archaeologist\\\",\\n    \\\"archaeologist\\\",\\n    \\\"cultural anthropologist\\\",\\n    \\\"social anthropologist\\\",\\n    \\\"palaeoanthropologist\\\",\\n    \\\"paleoanthropologist\\\",\\n    \\\"anthropologist\\\",\\n    \\\"stamp collector\\\",\\n    \\\"library science pioneer\\\",\\n    \\\"book collector\\\",\\n]\\nacademia_humanities = sorted(\\n    list(set(academia_humanities)), key=lambda x: len(x), reverse=True\\n)\\n\\nlaw_enf_military_operator = [\\n    \\\"military intelligence expert\\\",\\n    \\\"secessionist Biafran military commander\\\",\\n    \\\"military commander during World War II\\\",\\n    \\\"military drill instructor\\\",\\n    \\\"military junta leader\\\",\\n    \\\"paramilitary leader\\\",\\n    \\\"military strategist\\\",\\n    \\\"military commander\\\",\\n    \\\"military official\\\",\\n    \\\"military officer\\\",\\n    \\\"military veteran\\\",\\n    \\\"military leader\\\",\\n    \\\"military figure\\\",\\n    \\\"paramilitary\\\",\\n    \\\"recipient of the Medal of Honor for his actions in World War II\\\",\\n    \\\"Medal of Honor recipient for actions in War\\\",\\n    \\\"Medal of Honor recipient in World War II\\\",\\n    \\\"a recipient of the Medal of Honor\\\",\\n    \\\"recipient of the Medal of Honor\\\",\\n    \\\"recipient the Medal of Honor\\\",\\n    \\\"Medal of Freedom recipient\\\",\\n    \\\"Medal of Honor recipient\\\",\\n    \\\"Military Medal recipient\\\",\\n    \\\"George Medal\\\",\\n    \\\"the last surviving soldier to have taken part in the Christmas truce of\\\",\\n    \\\"decorated soldier\\\",\\n    \\\"Wehrmacht soldier\\\",\\n    \\\"rebel soldier\\\",\\n    \\\"WWII soldier\\\",\\n    \\\"soldier\\\",\\n    \\\"trainer of Violette Szab\\u00f3\\\",\\n    \\\"cosmonaut trainer\\\",\\n    \\\"spy during World War II\\\",\\n    \\\"spy for the Union\\\",\\n    \\\"spymaster\\\",\\n    \\\"Metropolitan police officer\\\",\\n    \\\"political police commander\\\",\\n    \\\"former police chief\\\",\\n    \\\"police informant\\\",\\n    \\\"police official\\\",\\n    \\\"police officer\\\",\\n    \\\"police chief\\\",\\n    \\\"policeman\\\",\\n    \\\"Women Airforce Service Pilots veteran\\\",\\n    \\\"International Brigades veteran\\\",\\n    \\\"last known World War I veteran\\\",\\n    \\\"World War II veteran\\\",\\n    \\\"World War I veteran\\\",\\n    \\\"Civil War veteran\\\",\\n    \\\"veterans advocate\\\",\\n    \\\"military veteran\\\",\\n    \\\"army veteran\\\",\\n    \\\"war veteran\\\",\\n    \\\"WW veteran\\\",\\n    \\\"World War II army officer\\\",\\n    \\\"army officer\\\",\\n    \\\"army general\\\",\\n    \\\"army veteran\\\",\\n    \\\"army colonel\\\",\\n]\\nlaw_enf_military_operator = sorted(\\n    list(set(law_enf_military_operator)), key=lambda x: len(x), reverse=True\\n)\\n\\nspiritual = [\\n    \\\"Southern Baptist minister\\\",\\n    \\\"Congregational minister\\\",\\n    \\\"Nonconformist minister\\\",\\n    \\\"Presbyterian minister\\\",\\n    \\\"Methodist minister\\\",\\n    \\\"ordained minister\\\",\\n    \\\"Baptist minister\\\",\\n    \\\"baptist minister\\\",\\n    \\\"missionary\\\",\\n]\\nspiritual = sorted(list(set(spiritual)), key=lambda x: len(x), reverse=True)\\n\\nsocial = [\\\"humanitarian\\\"]\\nsocial = sorted(list(set(social)), key=lambda x: len(x), reverse=True)\\n\\ncrime = [\\n    \\\"convicted murderer executed by hanging at dawn in Changi Prison for manipulating\\\",\\n    \\\"convicted accomplice in the Freedom Summer murders\\\",\\n    \\\"convicted attempted murderer\\\",\\n    \\\"convicted child sex offender\\\",\\n    \\\"convicted triple murderer\\\",\\n    \\\"convicted state terrorist\\\",\\n    \\\"convicted drug trafficker\\\",\\n    \\\"convicted child molester\\\",\\n    \\\"convicted manslaughterer\\\",\\n    \\\"convicted war criminal\\\",\\n    \\\"convicted sex offender\\\",\\n    \\\"convicted child rapist\\\",\\n    \\\"convicted child abuser\\\",\\n    \\\"convicted extortionist\\\",\\n    \\\"convicted conspirator\\\",\\n    \\\"convicted bank robber\\\",\\n    \\\"convicted fraudster\\\",\\n    \\\"convicted embezzler\\\",\\n    \\\"convicted terrorist\\\",\\n    \\\"convicted art thief\\\",\\n    \\\"convicted racketeer\\\",\\n    \\\"convicted kidnapper\\\",\\n    \\\"convicted murderer\\\",\\n    \\\"convicted criminal\\\",\\n    \\\"convicted con man\\\",\\n    \\\"convicted rapist\\\",\\n    \\\"convicted killer\\\",\\n    \\\"convicted robber\\\",\\n    \\\"convicted bomber\\\",\\n    \\\"convicted felon\\\",\\n    \\\"murder convict\\\",\\n    \\\"convicted spy\\\",\\n    \\\"convict\\\",\\n    \\\"corrupt\\\",\\n]\\ncrime = sorted(list(set(crime)), key=lambda x: len(x), reverse=True)\\n\\nevent_record_other = [\\n    \\\"alleged spy\\\",\\n]\\nevent_record_other = sorted(\\n    list(set(event_record_other)), key=lambda x: len(x), reverse=True\\n)\\n\\nother_species = [\\\"champion sire\\\", \\\"sire old age\\\", \\\"active sire\\\", \\\"sire\\\"]\\nother_species = sorted(list(set(other_species)), key=lambda x: len(x), reverse=True)\";\n",
       "                var nbb_cells = Jupyter.notebook.get_cells();\n",
       "                for (var i = 0; i < nbb_cells.length; ++i) {\n",
       "                    if (nbb_cells[i].input_prompt_number == nbb_cell_id) {\n",
       "                        if (nbb_cells[i].get_text() == nbb_unformatted_code) {\n",
       "                             nbb_cells[i].set_text(nbb_formatted_code);\n",
       "                        }\n",
       "                        break;\n",
       "                    }\n",
       "                }\n",
       "            }, 500);\n",
       "            "
      ],
      "text/plain": [
       "<IPython.core.display.Javascript object>"
      ]
     },
     "metadata": {},
     "output_type": "display_data"
    }
   ],
   "source": [
    "# Creating lists for each category and sorting by decreasing length and removing duplicates\n",
    "\n",
    "politics_govt_law = [\n",
    "    \"urban designer\",\n",
    "    \"conservationist\",\n",
    "    \"presidential military advisor\",\n",
    "    \"political scientist\",\n",
    "    \"influential patent attorney\",\n",
    "    \"district attorney\",\n",
    "    \"attorney general\",\n",
    "    \"attorney\",\n",
    "    \"environmentalist\",\n",
    "    \"political science at the University of\",\n",
    "    \"political campaign chairwoman\",\n",
    "    \"political power broker\",\n",
    "    \"political strategist\",\n",
    "    \"political campaigner\",\n",
    "    \"political consultant\",\n",
    "    \"political scientist\",\n",
    "    \"political dissident\",\n",
    "    \"political candidate\",\n",
    "    \"political operative\",\n",
    "    \"political prisoner\",\n",
    "    \"political reformer\",\n",
    "    \"political analyst\",\n",
    "    \"political advisor\",\n",
    "    \"political adviser\",\n",
    "    \"political refugee\",\n",
    "    \"political insider\",\n",
    "    \"political science\",\n",
    "    \"political leader\",\n",
    "    \"political figure\",\n",
    "    \"political aide\",\n",
    "    \"political\",\n",
    "    \"ambassador to Arabia\",\n",
    "    \"ambassador to and\",\n",
    "    \"ambassador to the\",\n",
    "    \"ambassador to\",\n",
    "    \"ambassador\",\n",
    "    \"political science at the University of\",\n",
    "    \"prisoner of conscience\",\n",
    "    \"political dissident\",\n",
    "    \"confined dissident\",\n",
    "    \"a dissident\",\n",
    "    \"dissident\",\n",
    "    \"chief legal counsel to the RNC\",\n",
    "    \"legal reformer\",\n",
    "    \"legal analyst\",\n",
    "    \"legal\",\n",
    "    \"mistress of the minister Joseph Goebbels\",\n",
    "    \"struggle veteran\",\n",
    "    \"doctor of law\",\n",
    "    \"aristocrat\",\n",
    "]\n",
    "politics_govt_law = sorted(\n",
    "    list(set(politics_govt_law)), key=lambda x: len(x), reverse=True\n",
    ")\n",
    "\n",
    "arts = [\n",
    "    \"inventor of the action figure\",\n",
    "    \"urban design critic\",\n",
    "    \"golf course designer\",\n",
    "    \"racing car designer\",\n",
    "    \"product designer\",\n",
    "    'lyricist of \"Arrivederci Roma\"',\n",
    "    \"lyricist in the language\",\n",
    "    \"lyricist of\",\n",
    "    \"lyricist\",\n",
    "    \"essayist with the stage name Buddy Blue\",\n",
    "    \"essayist\",\n",
    "    \"vaudeville entertainer\",\n",
    "    \"nightclub entertainer\",\n",
    "    \"children entertainer\",\n",
    "    \"entertainment\",\n",
    "    \"entertainer\",\n",
    "    \"Grammy winning arranger\",\n",
    "    \"arranger\",\n",
    "    \"comic strip cartoonist\",\n",
    "    \"Superman cartoons\",\n",
    "    \"cartoonists\",\n",
    "    \"cartoonist\",\n",
    "    \"weather presenter\",\n",
    "    \"radio presenter\",\n",
    "    \"news presenter\",\n",
    "    \"TV presenter\",\n",
    "    \"presenter\",\n",
    "    \"columnist for the San Francisco Chronicle\",\n",
    "    \"syndicated columnist\",\n",
    "    \"newspaper columnist\",\n",
    "    \"magazine columnist\",\n",
    "    \"literary columnist\",\n",
    "    \"tabloid columnist\",\n",
    "    \"advice columnist\",\n",
    "    \"humor columnist\",\n",
    "    \"columnist\",\n",
    "    \"Cultural Medallion winner\",\n",
    "    \"collector of Beatles memorabilia\",\n",
    "    \"fine arts collector\",\n",
    "    \"antique collector\",\n",
    "    \"record collector\",\n",
    "    \"song collector\",\n",
    "    \"art collector\",\n",
    "    \"social media personality\",\n",
    "    \"variety show personality\",\n",
    "    \"reality show personality\",\n",
    "    \"internet personality\",\n",
    "    \"Internet personality\",\n",
    "    \"YouTube personality\",\n",
    "    \"radio personality\",\n",
    "    \"media personality\",\n",
    "    \"TV personality\",\n",
    "    \"personality\",\n",
    "    \"James Bond stunt\",\n",
    "    \"stunt performer\",\n",
    "    \"movie stuntman\",\n",
    "    \"stunt double\",\n",
    "    \"stuntperson\",\n",
    "    \"stuntwoman\",\n",
    "    \"stunt man\",\n",
    "    \"stuntman\",\n",
    "    \"Chicago blues harmonica player\",\n",
    "    \"tin whistle player\",\n",
    "    \"flugelhorn player\",\n",
    "    \"harmonica player\",\n",
    "    \"saxophone player\",\n",
    "    \"clarinet player\",\n",
    "    \"trombone player\",\n",
    "    \"keyboard player\",\n",
    "    \"Alghoza player\",\n",
    "    \"ukulele player\",\n",
    "    \"trumpet player\",\n",
    "    \"marimba player\",\n",
    "    \"yueqin player\",\n",
    "    \"tabla player\",\n",
    "    \"banjo player\",\n",
    "    \"viola player\",\n",
    "    \"kora player\",\n",
    "    \"bass player\",\n",
    "    \"oud player\",\n",
    "    \"science fiction\",\n",
    "    \"animal trainer\",\n",
    "    \"festival organiser\",\n",
    "    \"festival promoter\",\n",
    "    \"festival founder\",\n",
    "    \"tourism promoter\",\n",
    "    \"organist choirmaster Washington National Cathedral\",\n",
    "    \"concert organist\",\n",
    "    \"blues organist\",\n",
    "    \"organist\",\n",
    "    \"radio announcer\",\n",
    "    \"announcer\",\n",
    "    \"blogger\",\n",
    "    \"computer animation\",\n",
    "    \"animator\",\n",
    "    \"media ecologist\",\n",
    "    \"socialite\",\n",
    "]\n",
    "arts = sorted(list(set(arts)), key=lambda x: len(x), reverse=True)\n",
    "\n",
    "sports = [\n",
    "    \"football player\",\n",
    "    \"football\",\n",
    "    \"sports imposter\",\n",
    "    \"sports\",\n",
    "    \"International Cricket Council match referee\",\n",
    "    \"NHL referee\",\n",
    "    \"referee\",\n",
    "    \"assistant racehorse trainer\",\n",
    "    \"racehorse trainer\",\n",
    "    \"horse trainer\",\n",
    "    \"youth trainer\",\n",
    "    \"international umpire\",\n",
    "    \"umpire\",\n",
    "    \"underwater explorer\",\n",
    "    \"marine explorer\",\n",
    "    \"polar explorer\",\n",
    "    \"explorer\",\n",
    "    \"mountain climber\",\n",
    "    \"mountain runner\",\n",
    "    \"mountaineer\",\n",
    "]\n",
    "sports = sorted(list(set(sports)), key=lambda x: len(x), reverse=True)\n",
    "\n",
    "sciences = [\n",
    "    \"chief designer of the Ada programming language\",\n",
    "    \"designer of golf clubs\",\n",
    "    \"industrial designer\",\n",
    "    \"automobile designer\",\n",
    "    \"jet engine designer\",\n",
    "    \"aircraft designer\",\n",
    "    \"course designer\",\n",
    "    \"engine designer\",\n",
    "    \"yacht designer\",\n",
    "    \"boat designer\",\n",
    "    \"psychologist from the Antilles\",\n",
    "    \"pastoral psychologist\",\n",
    "    \"parapsychologist\",\n",
    "    \"psychologist\",\n",
    "    \"mathematical logician\",\n",
    "    \"applied mathematician\",\n",
    "    \"mathematician\",\n",
    "    \"mathematics\",\n",
    "    \"computer scientist developed diehard tests\",\n",
    "    'social scientist who coined the term \"\"',\n",
    "    \"theoretical computer scientist\",\n",
    "    \"information research scientist\",\n",
    "    \"pioneering computer scientist\",\n",
    "    \"pharmaceutical scientist\",\n",
    "    \"climate change scientist\",\n",
    "    \"environmental scientist\",\n",
    "    \"communication scientist\",\n",
    "    \"conservation scientist\",\n",
    "    \"agricultural scientist\",\n",
    "    \"nutritional scientist\",\n",
    "    \"planetary scientist\",\n",
    "    \"fisheries scientist\",\n",
    "    \"cognitive scientist\",\n",
    "    \"materials scientist\",\n",
    "    \"fuel cell scientist\",\n",
    "    \"computer scientist\",\n",
    "    \"forensic scientist\",\n",
    "    \"research scientist\",\n",
    "    \"nuclear scientist\",\n",
    "    \"medical scientist\",\n",
    "    \"climate scientist\",\n",
    "    \"systems scientist\",\n",
    "    \"social scientist\",\n",
    "    \"rocket scientist\",\n",
    "    \"paper scientist\",\n",
    "    \"space scientist\",\n",
    "    \"color scientist\",\n",
    "    \"neuroscientist\",\n",
    "    \"food scientist\",\n",
    "    \"soil scientist\",\n",
    "    \"plant collector\",\n",
    "    \"skull collector\",\n",
    "    \"computer science researcher\",\n",
    "    \"planetary science pioneer\",\n",
    "    \"information science\",\n",
    "    \"science adviser\",\n",
    "    \"popular science\",\n",
    "    \"social science\",\n",
    "    \"psychotherapist\",\n",
    "    \"art therapist\",\n",
    "    \"therapist\",\n",
    "    \"psychoanalyst\",\n",
    "    \"medical aid developer\",\n",
    "    \"medical practitioner\",\n",
    "    \"medical researcher\",\n",
    "    \"medical scientist\",\n",
    "    \"medical pioneer\",\n",
    "    \"medical doctor\",\n",
    "    \"medical\",\n",
    "    \"molecular genetics pioneer\",\n",
    "    \"cancer genetic researcher\",\n",
    "    \"population geneticist\",\n",
    "    \"behavioral geneticist\",\n",
    "    \"molecular geneticist\",\n",
    "    \"plant geneticist\",\n",
    "    \"geneticist\",\n",
    "    \"botanist\",\n",
    "    \"Auschwitz concentration camp doctor during World War II\",\n",
    "    \"theoretical ecologist\",\n",
    "    \"plant ecologist\",\n",
    "    \"gynaecologist\",\n",
    "    \"gynecologist\",\n",
    "]\n",
    "sciences = sorted(list(set(sciences)), key=lambda x: len(x), reverse=True)\n",
    "\n",
    "business_farming = [\n",
    "    \"entrepreneur\",\n",
    "    \"tourism pioneer\",\n",
    "    \"wife of industrialist Charles W Engelhard Jr\",\n",
    "    \"industrialist merged Studebaker\",\n",
    "    \"industrialist\",\n",
    "    \"restaurateur\",\n",
    "]\n",
    "business_farming = sorted(\n",
    "    list(set(business_farming)), key=lambda x: len(x), reverse=True\n",
    ")\n",
    "\n",
    "academia_humanities = [\n",
    "    \"former curator at the Smithsonian Institution\",\n",
    "    \"curator at the Museum\",\n",
    "    \"museum curator\",\n",
    "    \"art curator\",\n",
    "    \"curator\",\n",
    "    \"linguistic anthropologist\",\n",
    "    \"linguistics\",\n",
    "    \"linguist\",\n",
    "    \"polymath\",\n",
    "    \"sociologist from\",\n",
    "    \"sociologist\",\n",
    "    \"sociology\",\n",
    "    \"industrial archaeologist\",\n",
    "    \"classical archaeologist\",\n",
    "    \"archaeologist\",\n",
    "    \"cultural anthropologist\",\n",
    "    \"social anthropologist\",\n",
    "    \"palaeoanthropologist\",\n",
    "    \"paleoanthropologist\",\n",
    "    \"anthropologist\",\n",
    "    \"stamp collector\",\n",
    "    \"library science pioneer\",\n",
    "    \"book collector\",\n",
    "]\n",
    "academia_humanities = sorted(\n",
    "    list(set(academia_humanities)), key=lambda x: len(x), reverse=True\n",
    ")\n",
    "\n",
    "law_enf_military_operator = [\n",
    "    \"military intelligence expert\",\n",
    "    \"secessionist Biafran military commander\",\n",
    "    \"military commander during World War II\",\n",
    "    \"military drill instructor\",\n",
    "    \"military junta leader\",\n",
    "    \"paramilitary leader\",\n",
    "    \"military strategist\",\n",
    "    \"military commander\",\n",
    "    \"military official\",\n",
    "    \"military officer\",\n",
    "    \"military veteran\",\n",
    "    \"military leader\",\n",
    "    \"military figure\",\n",
    "    \"paramilitary\",\n",
    "    \"recipient of the Medal of Honor for his actions in World War II\",\n",
    "    \"Medal of Honor recipient for actions in War\",\n",
    "    \"Medal of Honor recipient in World War II\",\n",
    "    \"a recipient of the Medal of Honor\",\n",
    "    \"recipient of the Medal of Honor\",\n",
    "    \"recipient the Medal of Honor\",\n",
    "    \"Medal of Freedom recipient\",\n",
    "    \"Medal of Honor recipient\",\n",
    "    \"Military Medal recipient\",\n",
    "    \"George Medal\",\n",
    "    \"the last surviving soldier to have taken part in the Christmas truce of\",\n",
    "    \"decorated soldier\",\n",
    "    \"Wehrmacht soldier\",\n",
    "    \"rebel soldier\",\n",
    "    \"WWII soldier\",\n",
    "    \"soldier\",\n",
    "    \"trainer of Violette Szabó\",\n",
    "    \"cosmonaut trainer\",\n",
    "    \"spy during World War II\",\n",
    "    \"spy for the Union\",\n",
    "    \"spymaster\",\n",
    "    \"Metropolitan police officer\",\n",
    "    \"political police commander\",\n",
    "    \"former police chief\",\n",
    "    \"police informant\",\n",
    "    \"police official\",\n",
    "    \"police officer\",\n",
    "    \"police chief\",\n",
    "    \"policeman\",\n",
    "    \"Women Airforce Service Pilots veteran\",\n",
    "    \"International Brigades veteran\",\n",
    "    \"last known World War I veteran\",\n",
    "    \"World War II veteran\",\n",
    "    \"World War I veteran\",\n",
    "    \"Civil War veteran\",\n",
    "    \"veterans advocate\",\n",
    "    \"military veteran\",\n",
    "    \"army veteran\",\n",
    "    \"war veteran\",\n",
    "    \"WW veteran\",\n",
    "    \"World War II army officer\",\n",
    "    \"army officer\",\n",
    "    \"army general\",\n",
    "    \"army veteran\",\n",
    "    \"army colonel\",\n",
    "]\n",
    "law_enf_military_operator = sorted(\n",
    "    list(set(law_enf_military_operator)), key=lambda x: len(x), reverse=True\n",
    ")\n",
    "\n",
    "spiritual = [\n",
    "    \"Southern Baptist minister\",\n",
    "    \"Congregational minister\",\n",
    "    \"Nonconformist minister\",\n",
    "    \"Presbyterian minister\",\n",
    "    \"Methodist minister\",\n",
    "    \"ordained minister\",\n",
    "    \"Baptist minister\",\n",
    "    \"baptist minister\",\n",
    "    \"missionary\",\n",
    "]\n",
    "spiritual = sorted(list(set(spiritual)), key=lambda x: len(x), reverse=True)\n",
    "\n",
    "social = [\"humanitarian\"]\n",
    "social = sorted(list(set(social)), key=lambda x: len(x), reverse=True)\n",
    "\n",
    "crime = [\n",
    "    \"convicted murderer executed by hanging at dawn in Changi Prison for manipulating\",\n",
    "    \"convicted accomplice in the Freedom Summer murders\",\n",
    "    \"convicted attempted murderer\",\n",
    "    \"convicted child sex offender\",\n",
    "    \"convicted triple murderer\",\n",
    "    \"convicted state terrorist\",\n",
    "    \"convicted drug trafficker\",\n",
    "    \"convicted child molester\",\n",
    "    \"convicted manslaughterer\",\n",
    "    \"convicted war criminal\",\n",
    "    \"convicted sex offender\",\n",
    "    \"convicted child rapist\",\n",
    "    \"convicted child abuser\",\n",
    "    \"convicted extortionist\",\n",
    "    \"convicted conspirator\",\n",
    "    \"convicted bank robber\",\n",
    "    \"convicted fraudster\",\n",
    "    \"convicted embezzler\",\n",
    "    \"convicted terrorist\",\n",
    "    \"convicted art thief\",\n",
    "    \"convicted racketeer\",\n",
    "    \"convicted kidnapper\",\n",
    "    \"convicted murderer\",\n",
    "    \"convicted criminal\",\n",
    "    \"convicted con man\",\n",
    "    \"convicted rapist\",\n",
    "    \"convicted killer\",\n",
    "    \"convicted robber\",\n",
    "    \"convicted bomber\",\n",
    "    \"convicted felon\",\n",
    "    \"murder convict\",\n",
    "    \"convicted spy\",\n",
    "    \"convict\",\n",
    "    \"corrupt\",\n",
    "]\n",
    "crime = sorted(list(set(crime)), key=lambda x: len(x), reverse=True)\n",
    "\n",
    "event_record_other = [\n",
    "    \"alleged spy\",\n",
    "]\n",
    "event_record_other = sorted(\n",
    "    list(set(event_record_other)), key=lambda x: len(x), reverse=True\n",
    ")\n",
    "\n",
    "other_species = [\"champion sire\", \"sire old age\", \"active sire\", \"sire\"]\n",
    "other_species = sorted(list(set(other_species)), key=lambda x: len(x), reverse=True)"
   ]
  },
  {
   "cell_type": "code",
   "execution_count": 65,
   "id": "8bf01410",
   "metadata": {},
   "outputs": [
    {
     "data": {
      "application/javascript": [
       "\n",
       "            setTimeout(function() {\n",
       "                var nbb_cell_id = 65;\n",
       "                var nbb_unformatted_code = \"# Hard-coding info_2_1 for entry to correctly categorize\\nindex = df[df[\\\"link\\\"] == \\\"https://en.wikipedia.org/wiki/Frederick_D._Sulcer\\\"].index\\ndf.loc[index, \\\"info_2_1\\\"] = \\\"marketing\\\"\\n\\n# Hard-coding info_2_1 for entry to correctly categorize\\nindex = df[\\n    df[\\\"link\\\"] == \\\"https://en.wikipedia.org/wiki/Matthew_Young_(civil_servant)\\\"\\n].index\\ndf.loc[index, \\\"info_2_1\\\"] = \\\"CEO Panini Group\\\"\\n\\n# Hard-coding info_2_1 for entry to correctly categorize\\nindex = df[df[\\\"link\\\"] == \\\"https://en.wikipedia.org/wiki/Harvey_R._Blau\\\"].index\\ndf.loc[index, \\\"info_2_1\\\"] = \\\"CEO Griffon\\\"\\n\\n# Hard-coding info_2_1 for entry to correctly categorize\\nindex = df[df[\\\"link\\\"] == \\\"https://en.wikipedia.org/wiki/Moussa_Benhamadi\\\"].index\\ndf.loc[index, \\\"info_2_1\\\"] = \\\"CEO business\\\"\\n\\n# Dropping remaining info_2_1 values == 'executive' as redundant to first category\\ndf.loc[\\n    [index for index in df.index if df.loc[index, \\\"info_2_1\\\"] == \\\"executive\\\"],\\n    \\\"info_2_1\\\",\\n] = \\\"\\\"\\n\\n# Hard-coding info_2_1 for entry to correctly categorize\\nindex = df[df[\\\"link\\\"] == \\\"https://en.wikipedia.org/wiki/Roger_O._Egeberg\\\"].index\\ndf.loc[index, \\\"info_2_1\\\"] = \\\"political\\\"\\n\\n# Hard-coding info_2_1 for entry to correctly categorize\\nindex = df[df[\\\"link\\\"] == \\\"https://en.wikipedia.org/wiki/Kenneth_H._Wood\\\"].index\\ndf.loc[index, \\\"info_2_1\\\"] = \\\"religious\\\"\\n\\n# Hard-coding info_2_1 for entry to correctly categorize\\nindex = df[df[\\\"link\\\"] == \\\"https://en.wikipedia.org/wiki/Chittaranjan_Mitra\\\"].index\\ndf.loc[index, \\\"info_2_1\\\"] = \\\"university official\\\"\\n\\n# Hard-coding info_2_1 for entry to correctly categorize\\nindex = df[df[\\\"link\\\"] == \\\"https://en.wikipedia.org/wiki/Paul_B._Ferrara\\\"].index\\ndf.loc[index, \\\"info_2_1\\\"] = \\\"forensic\\\"\\n\\n# Hard-coding info_2_1 for entry to correctly categorize\\nindex = df[df[\\\"link\\\"] == \\\"https://en.wikipedia.org/wiki/Sandy_D%27Alemberte\\\"].index\\ndf.loc[index, \\\"info_2_1\\\"] = \\\"university official\\\"\\n\\n# Dropping remaining info_2_1 values == 'executive' as redundant to first category\\ndf.loc[\\n    [index for index in df.index if df.loc[index, \\\"info_2_1\\\"] == \\\"administrator\\\"],\\n    \\\"info_2_1\\\",\\n] = \\\"\\\"\";\n",
       "                var nbb_formatted_code = \"# Hard-coding info_2_1 for entry to correctly categorize\\nindex = df[df[\\\"link\\\"] == \\\"https://en.wikipedia.org/wiki/Frederick_D._Sulcer\\\"].index\\ndf.loc[index, \\\"info_2_1\\\"] = \\\"marketing\\\"\\n\\n# Hard-coding info_2_1 for entry to correctly categorize\\nindex = df[\\n    df[\\\"link\\\"] == \\\"https://en.wikipedia.org/wiki/Matthew_Young_(civil_servant)\\\"\\n].index\\ndf.loc[index, \\\"info_2_1\\\"] = \\\"CEO Panini Group\\\"\\n\\n# Hard-coding info_2_1 for entry to correctly categorize\\nindex = df[df[\\\"link\\\"] == \\\"https://en.wikipedia.org/wiki/Harvey_R._Blau\\\"].index\\ndf.loc[index, \\\"info_2_1\\\"] = \\\"CEO Griffon\\\"\\n\\n# Hard-coding info_2_1 for entry to correctly categorize\\nindex = df[df[\\\"link\\\"] == \\\"https://en.wikipedia.org/wiki/Moussa_Benhamadi\\\"].index\\ndf.loc[index, \\\"info_2_1\\\"] = \\\"CEO business\\\"\\n\\n# Dropping remaining info_2_1 values == 'executive' as redundant to first category\\ndf.loc[\\n    [index for index in df.index if df.loc[index, \\\"info_2_1\\\"] == \\\"executive\\\"],\\n    \\\"info_2_1\\\",\\n] = \\\"\\\"\\n\\n# Hard-coding info_2_1 for entry to correctly categorize\\nindex = df[df[\\\"link\\\"] == \\\"https://en.wikipedia.org/wiki/Roger_O._Egeberg\\\"].index\\ndf.loc[index, \\\"info_2_1\\\"] = \\\"political\\\"\\n\\n# Hard-coding info_2_1 for entry to correctly categorize\\nindex = df[df[\\\"link\\\"] == \\\"https://en.wikipedia.org/wiki/Kenneth_H._Wood\\\"].index\\ndf.loc[index, \\\"info_2_1\\\"] = \\\"religious\\\"\\n\\n# Hard-coding info_2_1 for entry to correctly categorize\\nindex = df[df[\\\"link\\\"] == \\\"https://en.wikipedia.org/wiki/Chittaranjan_Mitra\\\"].index\\ndf.loc[index, \\\"info_2_1\\\"] = \\\"university official\\\"\\n\\n# Hard-coding info_2_1 for entry to correctly categorize\\nindex = df[df[\\\"link\\\"] == \\\"https://en.wikipedia.org/wiki/Paul_B._Ferrara\\\"].index\\ndf.loc[index, \\\"info_2_1\\\"] = \\\"forensic\\\"\\n\\n# Hard-coding info_2_1 for entry to correctly categorize\\nindex = df[df[\\\"link\\\"] == \\\"https://en.wikipedia.org/wiki/Sandy_D%27Alemberte\\\"].index\\ndf.loc[index, \\\"info_2_1\\\"] = \\\"university official\\\"\\n\\n# Dropping remaining info_2_1 values == 'executive' as redundant to first category\\ndf.loc[\\n    [index for index in df.index if df.loc[index, \\\"info_2_1\\\"] == \\\"administrator\\\"],\\n    \\\"info_2_1\\\",\\n] = \\\"\\\"\";\n",
       "                var nbb_cells = Jupyter.notebook.get_cells();\n",
       "                for (var i = 0; i < nbb_cells.length; ++i) {\n",
       "                    if (nbb_cells[i].input_prompt_number == nbb_cell_id) {\n",
       "                        if (nbb_cells[i].get_text() == nbb_unformatted_code) {\n",
       "                             nbb_cells[i].set_text(nbb_formatted_code);\n",
       "                        }\n",
       "                        break;\n",
       "                    }\n",
       "                }\n",
       "            }, 500);\n",
       "            "
      ],
      "text/plain": [
       "<IPython.core.display.Javascript object>"
      ]
     },
     "metadata": {},
     "output_type": "display_data"
    }
   ],
   "source": [
    "# Hard-coding info_2_1 for entry to correctly categorize\n",
    "index = df[df[\"link\"] == \"https://en.wikipedia.org/wiki/Frederick_D._Sulcer\"].index\n",
    "df.loc[index, \"info_2_1\"] = \"marketing\"\n",
    "\n",
    "# Hard-coding info_2_1 for entry to correctly categorize\n",
    "index = df[\n",
    "    df[\"link\"] == \"https://en.wikipedia.org/wiki/Matthew_Young_(civil_servant)\"\n",
    "].index\n",
    "df.loc[index, \"info_2_1\"] = \"CEO Panini Group\"\n",
    "\n",
    "# Hard-coding info_2_1 for entry to correctly categorize\n",
    "index = df[df[\"link\"] == \"https://en.wikipedia.org/wiki/Harvey_R._Blau\"].index\n",
    "df.loc[index, \"info_2_1\"] = \"CEO Griffon\"\n",
    "\n",
    "# Hard-coding info_2_1 for entry to correctly categorize\n",
    "index = df[df[\"link\"] == \"https://en.wikipedia.org/wiki/Moussa_Benhamadi\"].index\n",
    "df.loc[index, \"info_2_1\"] = \"CEO business\"\n",
    "\n",
    "# Dropping remaining info_2_1 values == 'executive' as redundant to first category\n",
    "df.loc[\n",
    "    [index for index in df.index if df.loc[index, \"info_2_1\"] == \"executive\"],\n",
    "    \"info_2_1\",\n",
    "] = \"\"\n",
    "\n",
    "# Hard-coding info_2_1 for entry to correctly categorize\n",
    "index = df[df[\"link\"] == \"https://en.wikipedia.org/wiki/Roger_O._Egeberg\"].index\n",
    "df.loc[index, \"info_2_1\"] = \"political\"\n",
    "\n",
    "# Hard-coding info_2_1 for entry to correctly categorize\n",
    "index = df[df[\"link\"] == \"https://en.wikipedia.org/wiki/Kenneth_H._Wood\"].index\n",
    "df.loc[index, \"info_2_1\"] = \"religious\"\n",
    "\n",
    "# Hard-coding info_2_1 for entry to correctly categorize\n",
    "index = df[df[\"link\"] == \"https://en.wikipedia.org/wiki/Chittaranjan_Mitra\"].index\n",
    "df.loc[index, \"info_2_1\"] = \"university official\"\n",
    "\n",
    "# Hard-coding info_2_1 for entry to correctly categorize\n",
    "index = df[df[\"link\"] == \"https://en.wikipedia.org/wiki/Paul_B._Ferrara\"].index\n",
    "df.loc[index, \"info_2_1\"] = \"forensic\"\n",
    "\n",
    "# Hard-coding info_2_1 for entry to correctly categorize\n",
    "index = df[df[\"link\"] == \"https://en.wikipedia.org/wiki/Sandy_D%27Alemberte\"].index\n",
    "df.loc[index, \"info_2_1\"] = \"university official\"\n",
    "\n",
    "# Dropping remaining info_2_1 values == 'executive' as redundant to first category\n",
    "df.loc[\n",
    "    [index for index in df.index if df.loc[index, \"info_2_1\"] == \"administrator\"],\n",
    "    \"info_2_1\",\n",
    "] = \"\""
   ]
  },
  {
   "cell_type": "markdown",
   "id": "fbe4a3a0",
   "metadata": {},
   "source": [
    "#### Creating `known_for_dict` Dictionary of Category Keys and Specific Role Lists of Values"
   ]
  },
  {
   "cell_type": "code",
   "execution_count": 66,
   "id": "9732f73b",
   "metadata": {},
   "outputs": [
    {
     "data": {
      "application/javascript": [
       "\n",
       "            setTimeout(function() {\n",
       "                var nbb_cell_id = 66;\n",
       "                var nbb_unformatted_code = \"# Combining separate lists into one dictionary\\nknown_for_dict = {\\n    \\\"social\\\": social,\\n    \\\"spiritual\\\": spiritual,\\n    \\\"academia_humanities\\\": academia_humanities,\\n    \\\"business_farming\\\": business_farming,\\n    \\\"sciences\\\": sciences,\\n    \\\"politics_govt_law\\\": politics_govt_law,\\n    \\\"law_enf_military_operator\\\": law_enf_military_operator,\\n    \\\"crime\\\": crime,\\n    \\\"event_record_other\\\": event_record_other,\\n    \\\"other_species\\\": other_species,\\n    \\\"arts\\\": arts,\\n    \\\"sports\\\": sports,\\n}\";\n",
       "                var nbb_formatted_code = \"# Combining separate lists into one dictionary\\nknown_for_dict = {\\n    \\\"social\\\": social,\\n    \\\"spiritual\\\": spiritual,\\n    \\\"academia_humanities\\\": academia_humanities,\\n    \\\"business_farming\\\": business_farming,\\n    \\\"sciences\\\": sciences,\\n    \\\"politics_govt_law\\\": politics_govt_law,\\n    \\\"law_enf_military_operator\\\": law_enf_military_operator,\\n    \\\"crime\\\": crime,\\n    \\\"event_record_other\\\": event_record_other,\\n    \\\"other_species\\\": other_species,\\n    \\\"arts\\\": arts,\\n    \\\"sports\\\": sports,\\n}\";\n",
       "                var nbb_cells = Jupyter.notebook.get_cells();\n",
       "                for (var i = 0; i < nbb_cells.length; ++i) {\n",
       "                    if (nbb_cells[i].input_prompt_number == nbb_cell_id) {\n",
       "                        if (nbb_cells[i].get_text() == nbb_unformatted_code) {\n",
       "                             nbb_cells[i].set_text(nbb_formatted_code);\n",
       "                        }\n",
       "                        break;\n",
       "                    }\n",
       "                }\n",
       "            }, 500);\n",
       "            "
      ],
      "text/plain": [
       "<IPython.core.display.Javascript object>"
      ]
     },
     "metadata": {},
     "output_type": "display_data"
    }
   ],
   "source": [
    "# Combining separate lists into one dictionary\n",
    "known_for_dict = {\n",
    "    \"social\": social,\n",
    "    \"spiritual\": spiritual,\n",
    "    \"academia_humanities\": academia_humanities,\n",
    "    \"business_farming\": business_farming,\n",
    "    \"sciences\": sciences,\n",
    "    \"politics_govt_law\": politics_govt_law,\n",
    "    \"law_enf_military_operator\": law_enf_military_operator,\n",
    "    \"crime\": crime,\n",
    "    \"event_record_other\": event_record_other,\n",
    "    \"other_species\": other_species,\n",
    "    \"arts\": arts,\n",
    "    \"sports\": sports,\n",
    "}"
   ]
  },
  {
   "cell_type": "markdown",
   "id": "c93b41bf",
   "metadata": {},
   "source": [
    "#### Extracting Category from `info_2_1`"
   ]
  },
  {
   "cell_type": "code",
   "execution_count": 67,
   "id": "7f244aba",
   "metadata": {},
   "outputs": [
    {
     "name": "stdout",
     "output_type": "stream",
     "text": [
      "CPU times: total: 43.7 s\n",
      "Wall time: 43.9 s\n"
     ]
    },
    {
     "data": {
      "application/javascript": [
       "\n",
       "            setTimeout(function() {\n",
       "                var nbb_cell_id = 67;\n",
       "                var nbb_unformatted_code = \"%%time\\n\\n# Column to check\\ncolumn = 'info_2_1'\\n\\n# Start dataframe\\ndataframe = df[df[column].notna()]\\n\\n# For loop to find role in column and extract it as category\\nfor category, category_lst in known_for_dict.items():\\n    for role in category_lst:\\n        for index in dataframe.index:\\n                item = df.loc[index, column]\\n                if item:\\n                    if role in item:\\n                        df.loc[index, category] = 1\\n                        df.loc[index, column] = item.replace(role, '').strip()\\n\\n# Calculating num_categories\\ndf[\\\"num_categories\\\"] = df[known_for_dict.keys()].sum(axis=1)\";\n",
       "                var nbb_formatted_code = \"%%time\\n\\n# Column to check\\ncolumn = 'info_2_1'\\n\\n# Start dataframe\\ndataframe = df[df[column].notna()]\\n\\n# For loop to find role in column and extract it as category\\nfor category, category_lst in known_for_dict.items():\\n    for role in category_lst:\\n        for index in dataframe.index:\\n                item = df.loc[index, column]\\n                if item:\\n                    if role in item:\\n                        df.loc[index, category] = 1\\n                        df.loc[index, column] = item.replace(role, '').strip()\\n\\n# Calculating num_categories\\ndf[\\\"num_categories\\\"] = df[known_for_dict.keys()].sum(axis=1)\";\n",
       "                var nbb_cells = Jupyter.notebook.get_cells();\n",
       "                for (var i = 0; i < nbb_cells.length; ++i) {\n",
       "                    if (nbb_cells[i].input_prompt_number == nbb_cell_id) {\n",
       "                        if (nbb_cells[i].get_text() == nbb_unformatted_code) {\n",
       "                             nbb_cells[i].set_text(nbb_formatted_code);\n",
       "                        }\n",
       "                        break;\n",
       "                    }\n",
       "                }\n",
       "            }, 500);\n",
       "            "
      ],
      "text/plain": [
       "<IPython.core.display.Javascript object>"
      ]
     },
     "metadata": {},
     "output_type": "display_data"
    }
   ],
   "source": [
    "%%time\n",
    "\n",
    "# Column to check\n",
    "column = 'info_2_1'\n",
    "\n",
    "# Start dataframe\n",
    "dataframe = df[df[column].notna()]\n",
    "\n",
    "# For loop to find role in column and extract it as category\n",
    "for category, category_lst in known_for_dict.items():\n",
    "    for role in category_lst:\n",
    "        for index in dataframe.index:\n",
    "                item = df.loc[index, column]\n",
    "                if item:\n",
    "                    if role in item:\n",
    "                        df.loc[index, category] = 1\n",
    "                        df.loc[index, column] = item.replace(role, '').strip()\n",
    "\n",
    "# Calculating num_categories\n",
    "df[\"num_categories\"] = df[known_for_dict.keys()].sum(axis=1)"
   ]
  },
  {
   "cell_type": "markdown",
   "id": "c4392a0c",
   "metadata": {},
   "source": [
    "#### Checking Updated `num_categories` Value Counts"
   ]
  },
  {
   "cell_type": "code",
   "execution_count": 68,
   "id": "18673a48",
   "metadata": {},
   "outputs": [
    {
     "data": {
      "text/plain": [
       "1    89645\n",
       "2     8207\n",
       "3      118\n",
       "0       74\n",
       "Name: num_categories, dtype: int64"
      ]
     },
     "execution_count": 68,
     "metadata": {},
     "output_type": "execute_result"
    },
    {
     "data": {
      "application/javascript": [
       "\n",
       "            setTimeout(function() {\n",
       "                var nbb_cell_id = 68;\n",
       "                var nbb_unformatted_code = \"# Checking updated num_categories value counts\\ndf[\\\"num_categories\\\"].value_counts()\";\n",
       "                var nbb_formatted_code = \"# Checking updated num_categories value counts\\ndf[\\\"num_categories\\\"].value_counts()\";\n",
       "                var nbb_cells = Jupyter.notebook.get_cells();\n",
       "                for (var i = 0; i < nbb_cells.length; ++i) {\n",
       "                    if (nbb_cells[i].input_prompt_number == nbb_cell_id) {\n",
       "                        if (nbb_cells[i].get_text() == nbb_unformatted_code) {\n",
       "                             nbb_cells[i].set_text(nbb_formatted_code);\n",
       "                        }\n",
       "                        break;\n",
       "                    }\n",
       "                }\n",
       "            }, 500);\n",
       "            "
      ],
      "text/plain": [
       "<IPython.core.display.Javascript object>"
      ]
     },
     "metadata": {},
     "output_type": "display_data"
    }
   ],
   "source": [
    "# Checking updated num_categories value counts\n",
    "df[\"num_categories\"].value_counts()"
   ]
  },
  {
   "cell_type": "markdown",
   "id": "bdbdfb50",
   "metadata": {},
   "source": [
    "#### Observations:\n",
    "- We will proceed to rebuild `known_for_dict` for the next iteration."
   ]
  },
  {
   "cell_type": "markdown",
   "id": "ef6c066a",
   "metadata": {},
   "source": [
    "#### Finding `known_for` Roles in `info_2_1`"
   ]
  },
  {
   "cell_type": "code",
   "execution_count": 69,
   "id": "11859a52",
   "metadata": {},
   "outputs": [
    {
     "data": {
      "application/javascript": [
       "\n",
       "            setTimeout(function() {\n",
       "                var nbb_cell_id = 69;\n",
       "                var nbb_unformatted_code = \"# # Obtaining values for column and their counts\\n# roles_list = df[\\\"info_2_1\\\"].value_counts(ascending=True).index.tolist()\";\n",
       "                var nbb_formatted_code = \"# # Obtaining values for column and their counts\\n# roles_list = df[\\\"info_2_1\\\"].value_counts(ascending=True).index.tolist()\";\n",
       "                var nbb_cells = Jupyter.notebook.get_cells();\n",
       "                for (var i = 0; i < nbb_cells.length; ++i) {\n",
       "                    if (nbb_cells[i].input_prompt_number == nbb_cell_id) {\n",
       "                        if (nbb_cells[i].get_text() == nbb_unformatted_code) {\n",
       "                             nbb_cells[i].set_text(nbb_formatted_code);\n",
       "                        }\n",
       "                        break;\n",
       "                    }\n",
       "                }\n",
       "            }, 500);\n",
       "            "
      ],
      "text/plain": [
       "<IPython.core.display.Javascript object>"
      ]
     },
     "metadata": {},
     "output_type": "display_data"
    }
   ],
   "source": [
    "# # Obtaining values for column and their counts\n",
    "# roles_list = df[\"info_2_1\"].value_counts(ascending=True).index.tolist()"
   ]
  },
  {
   "cell_type": "code",
   "execution_count": 70,
   "id": "bfa2883f",
   "metadata": {},
   "outputs": [
    {
     "data": {
      "application/javascript": [
       "\n",
       "            setTimeout(function() {\n",
       "                var nbb_cell_id = 70;\n",
       "                var nbb_unformatted_code = \"# # Code to check each value\\n# roles_list.pop()\";\n",
       "                var nbb_formatted_code = \"# # Code to check each value\\n# roles_list.pop()\";\n",
       "                var nbb_cells = Jupyter.notebook.get_cells();\n",
       "                for (var i = 0; i < nbb_cells.length; ++i) {\n",
       "                    if (nbb_cells[i].input_prompt_number == nbb_cell_id) {\n",
       "                        if (nbb_cells[i].get_text() == nbb_unformatted_code) {\n",
       "                             nbb_cells[i].set_text(nbb_formatted_code);\n",
       "                        }\n",
       "                        break;\n",
       "                    }\n",
       "                }\n",
       "            }, 500);\n",
       "            "
      ],
      "text/plain": [
       "<IPython.core.display.Javascript object>"
      ]
     },
     "metadata": {},
     "output_type": "display_data"
    }
   ],
   "source": [
    "# # Code to check each value\n",
    "# roles_list.pop()"
   ]
  },
  {
   "cell_type": "code",
   "execution_count": 71,
   "id": "c8561bd1",
   "metadata": {},
   "outputs": [
    {
     "data": {
      "application/javascript": [
       "\n",
       "            setTimeout(function() {\n",
       "                var nbb_cell_id = 71;\n",
       "                var nbb_unformatted_code = \"# # Create specific_roles_list for above popped value\\n# specific_roles_list = (\\n#     df.loc[\\n#         [\\n#             index\\n#             for index in df[df[\\\"info_2_1\\\"].notna()].index\\n#             if \\\"official\\\" in df.loc[index, \\\"info_2_1\\\"]\\n#         ],\\n#         \\\"info_2_1\\\",\\n#     ]\\n#     .value_counts()\\n#     .index.tolist()\\n# )\";\n",
       "                var nbb_formatted_code = \"# # Create specific_roles_list for above popped value\\n# specific_roles_list = (\\n#     df.loc[\\n#         [\\n#             index\\n#             for index in df[df[\\\"info_2_1\\\"].notna()].index\\n#             if \\\"official\\\" in df.loc[index, \\\"info_2_1\\\"]\\n#         ],\\n#         \\\"info_2_1\\\",\\n#     ]\\n#     .value_counts()\\n#     .index.tolist()\\n# )\";\n",
       "                var nbb_cells = Jupyter.notebook.get_cells();\n",
       "                for (var i = 0; i < nbb_cells.length; ++i) {\n",
       "                    if (nbb_cells[i].input_prompt_number == nbb_cell_id) {\n",
       "                        if (nbb_cells[i].get_text() == nbb_unformatted_code) {\n",
       "                             nbb_cells[i].set_text(nbb_formatted_code);\n",
       "                        }\n",
       "                        break;\n",
       "                    }\n",
       "                }\n",
       "            }, 500);\n",
       "            "
      ],
      "text/plain": [
       "<IPython.core.display.Javascript object>"
      ]
     },
     "metadata": {},
     "output_type": "display_data"
    }
   ],
   "source": [
    "# # Create specific_roles_list for above popped value\n",
    "# specific_roles_list = (\n",
    "#     df.loc[\n",
    "#         [\n",
    "#             index\n",
    "#             for index in df[df[\"info_2_1\"].notna()].index\n",
    "#             if \"official\" in df.loc[index, \"info_2_1\"]\n",
    "#         ],\n",
    "#         \"info_2_1\",\n",
    "#     ]\n",
    "#     .value_counts()\n",
    "#     .index.tolist()\n",
    "# )"
   ]
  },
  {
   "cell_type": "code",
   "execution_count": 72,
   "id": "c9f0cae0",
   "metadata": {},
   "outputs": [
    {
     "data": {
      "application/javascript": [
       "\n",
       "            setTimeout(function() {\n",
       "                var nbb_cell_id = 72;\n",
       "                var nbb_unformatted_code = \"# # Viewing list sorted by descending length to copy to dictionary below and screen values\\n# sorted(specific_roles_list, key=lambda x: len(x), reverse=True)\";\n",
       "                var nbb_formatted_code = \"# # Viewing list sorted by descending length to copy to dictionary below and screen values\\n# sorted(specific_roles_list, key=lambda x: len(x), reverse=True)\";\n",
       "                var nbb_cells = Jupyter.notebook.get_cells();\n",
       "                for (var i = 0; i < nbb_cells.length; ++i) {\n",
       "                    if (nbb_cells[i].input_prompt_number == nbb_cell_id) {\n",
       "                        if (nbb_cells[i].get_text() == nbb_unformatted_code) {\n",
       "                             nbb_cells[i].set_text(nbb_formatted_code);\n",
       "                        }\n",
       "                        break;\n",
       "                    }\n",
       "                }\n",
       "            }, 500);\n",
       "            "
      ],
      "text/plain": [
       "<IPython.core.display.Javascript object>"
      ]
     },
     "metadata": {},
     "output_type": "display_data"
    }
   ],
   "source": [
    "# # Viewing list sorted by descending length to copy to dictionary below and screen values\n",
    "# sorted(specific_roles_list, key=lambda x: len(x), reverse=True)"
   ]
  },
  {
   "cell_type": "code",
   "execution_count": 73,
   "id": "acee9921",
   "metadata": {},
   "outputs": [
    {
     "data": {
      "application/javascript": [
       "\n",
       "            setTimeout(function() {\n",
       "                var nbb_cell_id = 73;\n",
       "                var nbb_unformatted_code = \"# # Example code to check additional category for specific entries\\n# df.loc[\\n#     [\\n#         index\\n#         for index in df.index\\n#         if df.loc[index, \\\"info_2_1\\\"] == \\\"Nobel Prize laureate\\\"\\n#         and df.loc[index, \\\"num_categories\\\"] == 0\\n#     ],\\n#     :,\\n# ]\";\n",
       "                var nbb_formatted_code = \"# # Example code to check additional category for specific entries\\n# df.loc[\\n#     [\\n#         index\\n#         for index in df.index\\n#         if df.loc[index, \\\"info_2_1\\\"] == \\\"Nobel Prize laureate\\\"\\n#         and df.loc[index, \\\"num_categories\\\"] == 0\\n#     ],\\n#     :,\\n# ]\";\n",
       "                var nbb_cells = Jupyter.notebook.get_cells();\n",
       "                for (var i = 0; i < nbb_cells.length; ++i) {\n",
       "                    if (nbb_cells[i].input_prompt_number == nbb_cell_id) {\n",
       "                        if (nbb_cells[i].get_text() == nbb_unformatted_code) {\n",
       "                             nbb_cells[i].set_text(nbb_formatted_code);\n",
       "                        }\n",
       "                        break;\n",
       "                    }\n",
       "                }\n",
       "            }, 500);\n",
       "            "
      ],
      "text/plain": [
       "<IPython.core.display.Javascript object>"
      ]
     },
     "metadata": {},
     "output_type": "display_data"
    }
   ],
   "source": [
    "# # Example code to check additional category for specific entries\n",
    "# df.loc[\n",
    "#     [\n",
    "#         index\n",
    "#         for index in df.index\n",
    "#         if df.loc[index, \"info_2_1\"] == \"Nobel Prize laureate\"\n",
    "#         and df.loc[index, \"num_categories\"] == 0\n",
    "#     ],\n",
    "#     :,\n",
    "# ]"
   ]
  },
  {
   "cell_type": "code",
   "execution_count": 74,
   "id": "55675cf2",
   "metadata": {},
   "outputs": [
    {
     "data": {
      "application/javascript": [
       "\n",
       "            setTimeout(function() {\n",
       "                var nbb_cell_id = 74;\n",
       "                var nbb_unformatted_code = \"# # Example code to quick-check a specific entry\\n# df[df[\\\"info_2_1\\\"] == \\\"banking official\\\"]\";\n",
       "                var nbb_formatted_code = \"# # Example code to quick-check a specific entry\\n# df[df[\\\"info_2_1\\\"] == \\\"banking official\\\"]\";\n",
       "                var nbb_cells = Jupyter.notebook.get_cells();\n",
       "                for (var i = 0; i < nbb_cells.length; ++i) {\n",
       "                    if (nbb_cells[i].input_prompt_number == nbb_cell_id) {\n",
       "                        if (nbb_cells[i].get_text() == nbb_unformatted_code) {\n",
       "                             nbb_cells[i].set_text(nbb_formatted_code);\n",
       "                        }\n",
       "                        break;\n",
       "                    }\n",
       "                }\n",
       "            }, 500);\n",
       "            "
      ],
      "text/plain": [
       "<IPython.core.display.Javascript object>"
      ]
     },
     "metadata": {},
     "output_type": "display_data"
    }
   ],
   "source": [
    "# # Example code to quick-check a specific entry\n",
    "# df[df[\"info_2_1\"] == \"banking official\"]"
   ]
  },
  {
   "cell_type": "markdown",
   "id": "1393df29",
   "metadata": {},
   "source": [
    "#### Creating Lists for Each `known_for` Category"
   ]
  },
  {
   "cell_type": "code",
   "execution_count": 322,
   "id": "0c777cac",
   "metadata": {},
   "outputs": [
    {
     "data": {
      "application/javascript": [
       "\n",
       "            setTimeout(function() {\n",
       "                var nbb_cell_id = 322;\n",
       "                var nbb_unformatted_code = \"# Creating lists for each category and sorting by decreasing length and removing duplicates\\n\\npolitics_govt_law = [\\n    \\\"automotive safety advocate\\\",\\n    \\\"mental health care advocate\\\",\\n    \\\"RMS Titanic conspiracy theorist\\\",\\n    \\\"conspiracy theorist\\\",\\n    \\\"former prime minister\\\",\\n    \\\"minister of state\\\",\\n    \\\"cabinet minister\\\",\\n    \\\"foreign minister\\\",\\n    \\\"former minister\\\",\\n    \\\"deputy minister\\\",\\n    \\\"prime minister\\\",\\n    \\\"minister\\\",\\n    \\\"nonviolence advocate\\\",\\n    \\\"one of the leaders of the national emancipation movement\\\",\\n    \\\"a deputy leader of the Party of Regions\\\",\\n    \\\"leader of the Communist Party of the\\\",\\n    \\\"a leader of the Communist Party of\\\",\\n    \\\"opposition leader in Ingushetia\\\",\\n    \\\"leader of Communist Party of\\\",\\n    \\\"Corsican nationalism leader\\\",\\n    \\\"revisionist Zionist leader\\\",\\n    \\\"co leader of coup d'\\u00e9tat\\\",\\n    \\\"Hmong community leader\\\",\\n    \\\"Kongu community leader\\\",\\n    \\\"independentism leader\\\",\\n    \\\"environmental leader\\\",\\n    \\\"Alaska Native leader\\\",\\n    \\\"coup d'\\u00e9tat leader\\\",\\n    \\\"leader of the FNLA\\\",\\n    \\\"opposition leader\\\",\\n    \\\"leader of the GDR\\\",\\n    \\\"communist leader\\\",\\n    \\\"Communist leader\\\",\\n    \\\"leader of Group\\\",\\n    \\\"Islamist leader\\\",\\n    \\\"first leader of\\\",\\n    \\\"workers' leader\\\",\\n    \\\"tribal leader\\\",\\n    \\\"civic leader\\\",\\n    \\\"labor leader\\\",\\n    \\\"M\\u0101ori leader\\\",\\n    \\\"coup leader\\\",\\n    \\\"defector\\\",\\n    \\\"urban planner\\\",\\n    \\\"law lord\\\",\\n    \\\"law\\\",\\n    \\\"courtier of Queen Elizabeth II\\\",\\n    \\\"courtier\\\",\\n    \\\"magistrate\\\",\\n    \\\"landowner\\\",\\n    \\\"oil industry whistleblower\\\",\\n    \\\"Scientology whistleblower\\\",\\n    \\\"whistleblower\\\",\\n    \\\"statesman\\\",\\n    \\\"Holocaust denier\\\",\\n    \\\"politologist\\\",\\n    \\\"United Nations disarmament official\\\",\\n    \\\"official during World War II\\\",\\n    \\\"State Department official\\\",\\n    \\\"later East y official\\\",\\n    \\\"banking official\\\",\\n    \\\"WHO official\\\",\\n]\\npolitics_govt_law = sorted(\\n    list(set(politics_govt_law)), key=lambda x: len(x), reverse=True\\n)\\n\\narts = [\\n    \\\"caricaturist\\\",\\n    \\\"Oscar winner\\\",\\n    \\\"woodcarver\\\",\\n    \\\"carver\\\",\\n    \\\"critic\\\",\\n    \\\"radio talk show host\\\",\\n    \\\"variety show host\\\",\\n    \\\"radio show host\\\",\\n    \\\"game show host\\\",\\n    \\\"talk show host\\\",\\n    \\\"ghost hunter\\\",\\n    \\\"TV show host\\\",\\n    \\\"radio host\\\",\\n    \\\"TV host\\\",\\n    \\\"host of\\\",\\n    \\\"media theorist\\\",\\n    \\\"communicator\\\",\\n    \\\"cinematographer\\\",\\n    \\\"first woman weathercaster in the\\\",\\n    \\\"radio newscaster\\\",\\n    \\\"surf forecaster\\\",\\n    \\\"crop forecaster\\\",\\n    \\\"newscaster\\\",\\n    \\\"podcaster\\\",\\n    \\\"free jazz violinist\\\",\\n    \\\"roll violinist\\\",\\n    \\\"viola da gamba\\\",\\n    \\\"violinist\\\",\\n    \\\"violist\\\",\\n    \\\"wife of leader founder of Ladysmith Black Mambazo\\\",\\n    \\\"memoirist\\\",\\n    \\\"DJ of Run DMC\\\",\\n    \\\"trance DJ\\\",\\n    \\\"bass DJ\\\",\\n    \\\"rock DJ\\\",\\n    \\\"DJ\\\",\\n    \\\"crime reporter\\\",\\n    \\\"news reporter\\\",\\n    \\\"reporter\\\",\\n    \\\"satirist\\\",\\n    \\\"substitute anchor for WNBC\\\",\\n    \\\"news anchor\\\",\\n    \\\"anchor\\\",\\n    \\\"viral video performer\\\",\\n    \\\"nightclub performer\\\",\\n    \\\"Broadway performer\\\",\\n    \\\"theremin performer\\\",\\n    \\\"cabaret performer\\\",\\n    \\\"performer\\\",\\n    \\\"jazz bassoonist\\\",\\n    \\\"jazz bassist\\\",\\n    \\\"bassoonist\\\",\\n    \\\"bassist\\\",\\n    \\\"bass MC\\\",\\n    \\\"bass DJ\\\",\\n    \\\"chef\\\",\\n    \\\"cellist\\\",\\n    \\\"disc jockey\\\",\\n    \\\"beauty pageant contestant\\\",\\n    \\\"beauty pageant winner\\\",\\n    \\\"beauty queen\\\",\\n    \\\"escapologist\\\",\\n    \\\"Screen Actors Guild official\\\",\\n]\\narts = sorted(list(set(arts)), key=lambda x: len(x), reverse=True)\\n\\nsports = [\\n    \\\"the first ever Sidecarcross World Championship\\\",\\n    \\\"Grand Prix race car driver\\\",\\n    \\\"ARCA race car driver owner\\\",\\n    \\\"reincarnation researcher\\\",\\n    \\\"touring car racer\\\",\\n    \\\"racecar driver\\\",\\n    \\\"car builder\\\",\\n    \\\"Gold Glove winning first baseman One of the first Hispanic players in the\\\",\\n    \\\"father of San Francisco Giants ballplayer Barry Bonds\\\",\\n    \\\"professional poker player\\\",\\n    \\\"water polo player\\\",\\n    \\\"volleyball player\\\",\\n    \\\"streetball player\\\",\\n    \\\"billiards player\\\",\\n    \\\"lacrosse player\\\",\\n    \\\"softball player\\\",\\n    \\\"checkers player\\\",\\n    \\\"snooker player\\\",\\n    \\\"croquet player\\\",\\n    \\\"soccer player\\\",\\n    \\\"squash player\\\",\\n    \\\"poker player\\\",\\n    \\\"chess player\\\",\\n    \\\"polo player\\\",\\n    \\\"Go player\\\",\\n    \\\"player\\\",\\n    \\\"boxing trainer\\\",\\n    \\\"trainer\\\",\\n    \\\"boxing promoter\\\",\\n    \\\"yoga instructor\\\",\\n    \\\"adventurer\\\",\\n    \\\"a member of the MLB Hall of Fame\\\",\\n    \\\"member of the MLB Hall of Fame\\\",\\n    \\\"modern pentathlete\\\",\\n    \\\"masters athlete\\\",\\n    \\\"pentathlete\\\",\\n    \\\"decathlete\\\",\\n    \\\"triathlete\\\",\\n    \\\"athlete\\\",\\n    \\\"boxing official\\\",\\n]\\nsports = sorted(list(set(sports)), key=lambda x: len(x), reverse=True)\\n\\nsciences = [\\n    \\\"inventor\\\",\\n    \\\"paediatric cardiologist\\\",\\n    \\\"health care consultant\\\",\\n    \\\"car constructor\\\",\\n    \\\"carcinologist\\\",\\n    \\\"cardiologist\\\",\\n    \\\"cartographer\\\",\\n    \\\"scientist\\\",\\n    \\\"flat Earth conspiracy theorist\\\",\\n    \\\"control theorist\\\",\\n    \\\"science\\\",\\n    \\\"sex researcher at Johns Hopkins University\\\",\\n    \\\"sudden infant death syndrome researcher\\\",\\n    \\\"leading researcher into category theory\\\",\\n    \\\"eye tissue transplant researcher\\\",\\n    \\\"reproductive medicine researcher\\\",\\n    \\\"Down syndrome researcher\\\",\\n    \\\"reincarnation researcher\\\",\\n    \\\"paranormal researcher\\\",\\n    \\\"scientific researcher\\\",\\n    \\\"toxicology researcher\\\",\\n    \\\"behavioral researcher\\\",\\n    \\\"stem cell researcher\\\",\\n    \\\"clinical researcher\\\",\\n    \\\"HIV AIDS researcher\\\",\\n    \\\"leukemia researcher\\\",\\n    \\\"security researcher\\\",\\n    \\\"diabetes researcher\\\",\\n    \\\"opinion researcher\\\",\\n    \\\"polymer researcher\\\",\\n    \\\"cancer researcher\\\",\\n    \\\"social researcher\\\",\\n    \\\"autism researcher\\\",\\n    \\\"sleep researcher\\\",\\n    \\\"dream researcher\\\",\\n    \\\"peace researcher\\\",\\n    \\\"nurse researcher\\\",\\n    \\\"AIDS researcher\\\",\\n    \\\"UFO researcher\\\",\\n    \\\"pioneer of plant ecology\\\",\\n    \\\"ecologist\\\",\\n    \\\"doctor\\\",\\n    \\\"theoretical chemist\\\",\\n    \\\"freshwater chemist\\\",\\n    \\\"agrochemist\\\",\\n    \\\"biochemist\\\",\\n    \\\"geochemist\\\",\\n    \\\"chemistry\\\",\\n    \\\"chemist\\\",\\n    \\\"statistician\\\",\\n    \\\"virologist\\\",\\n    \\\"psychiatrist\\\",\\n    \\\"criminologist\\\",\\n    \\\"renowned plastic surgeon\\\",\\n    \\\"orthopedic surgeon\\\",\\n    \\\"plastic surgeon\\\",\\n    \\\"surgeon\\\",\\n    \\\"theoretical astronomer\\\",\\n    \\\"radio astronomer\\\",\\n    \\\"gastronomist\\\",\\n    \\\"astronomer\\\",\\n    \\\"reproductive endocrinologist\\\",\\n    \\\"comparative physiologist\\\",\\n    \\\"developmental biologist\\\",\\n    \\\"paediatric cardiologist\\\",\\n    \\\"evolutionary biologist\\\",\\n    \\\"structural geologist\\\",\\n    \\\"molecular biologist\\\",\\n    \\\"gastroenterologist\\\",\\n    \\\"plant physiologist\\\",\\n    \\\"plant pathologist\\\",\\n    \\\"neurophysiologist\\\",\\n    \\\"marine biologist\\\",\\n    \\\"neuropathologist\\\",\\n    \\\"cryptozoologist\\\",\\n    \\\"endocrinologist\\\",\\n    \\\"myriapodologist\\\",\\n    \\\"ophthalmologist\\\",\\n    \\\"geomorphologist\\\",\\n    \\\"microbiologist\\\",\\n    \\\"epidemiologist\\\",\\n    \\\"pharmacologist\\\",\\n    \\\"paleontologist\\\",\\n    \\\"neurobiologist\\\",\\n    \\\"epileptologist\\\",\\n    \\\"cell biologist\\\",\\n    \\\"parasitologist\\\",\\n    \\\"ophthamologist\\\",\\n    \\\"astrobiologist\\\",\\n    \\\"glycobiologist\\\",\\n    \\\"rheumatologist\\\",\\n    \\\"criminologist\\\",\\n    \\\"ornithologist\\\",\\n    \\\"meteorologist\\\",\\n    \\\"methodologist\\\",\\n    \\\"lichenologist\\\",\\n    \\\"carcinologist\\\",\\n    \\\"arachnologist\\\",\\n    \\\"pteridologist\\\",\\n    \\\"haematologist\\\",\\n    \\\"physiologist\\\",\\n    \\\"immunologist\\\",\\n    \\\"cardiologist\\\",\\n    \\\"toxicologist\\\",\\n    \\\"entomologist\\\",\\n    \\\"seismologist\\\",\\n    \\\"speleologist\\\",\\n    \\\"hematologist\\\",\\n    \\\"futurologist\\\",\\n    \\\"malacologist\\\",\\n    \\\"a mycologist\\\",\\n    \\\"mineralogist\\\",\\n    \\\"enzymologist\\\",\\n    \\\"pathologist\\\",\\n    \\\"neurologist\\\",\\n    \\\"radiologist\\\",\\n    \\\"osteologist\\\",\\n    \\\"phycologist\\\",\\n    \\\"histologist\\\",\\n    \\\"cosmologist\\\",\\n    \\\"virologist\\\",\\n    \\\"oncologist\\\",\\n    \\\"sexologist\\\",\\n    \\\"mycologist\\\",\\n    \\\"rheologist\\\",\\n    \\\"gemologist\\\",\\n    \\\"cytologist\\\",\\n    \\\"bryologist\\\",\\n    \\\"ecologist\\\",\\n    \\\"biologist\\\",\\n    \\\"geologist\\\",\\n    \\\"zoologist\\\",\\n    \\\"ufologist\\\",\\n    \\\"enologist\\\",\\n]\\nsciences = sorted(list(set(sciences)), key=lambda x: len(x), reverse=True)\\n\\nbusiness_farming = [\\n    \\\"creator of Pernod Ricard\\\",\\n    \\\"carpet distributor\\\",\\n    \\\"farmer\\\",\\n    \\\"billionaire\\\",\\n    \\\"international financier\\\",\\n    \\\"a financier\\\",\\n    \\\"financier\\\",\\n]\\nbusiness_farming = sorted(\\n    list(set(business_farming)), key=lambda x: len(x), reverse=True\\n)\\n\\nacademia_humanities = [\\n    \\\"consciousness theorist\\\",\\n    \\\"intelligence theorist\\\",\\n    \\\"evolution theorist\\\",\\n    \\\"cultural theorist\\\",\\n    \\\"literary theorist\\\",\\n    \\\"design theorist\\\",\\n    \\\"play theorist\\\",\\n    \\\"art theorist\\\",\\n    \\\"World War II researcher\\\",\\n    \\\"cultural researcher\\\",\\n    \\\"university lecturer\\\",\\n    \\\"lecturer\\\",\\n    \\\"librarian\\\",\\n    \\\"bibliophile\\\",\\n    \\\"folklorist of cultures\\\",\\n    \\\"folklorist\\\",\\n    \\\"sound archivist\\\",\\n    \\\"archivist\\\",\\n    \\\"epistemologist\\\",\\n    \\\"philologist\\\",\\n    \\\"ethnologist\\\",\\n    \\\"lexicographer\\\",\\n    \\\"official pronouncer of the Scripps National Spelling Bee from to\\\",\\n    \\\"university official\\\",\\n]\\nacademia_humanities = sorted(\\n    list(set(academia_humanities)), key=lambda x: len(x), reverse=True\\n)\\n\\nlaw_enf_military_operator = [\\n    \\\"hostage negotiator\\\",\\n    \\\"spy\\\",\\n    \\\"flight instructor\\\",\\n    \\\"test pilot who twice held the world flight altitude record\\\",\\n    \\\"World War II Tuskegee Airman fighter pilot\\\",\\n    \\\"the first female combat pilot of the world\\\",\\n    \\\"an ace nightfighter pilot in World War II\\\",\\n    \\\"fighter pilot during World War II\\\",\\n    \\\"World War II fighter pilot\\\",\\n    \\\"World War II bomber pilot\\\",\\n    \\\"record setting test pilot\\\",\\n    \\\"World War II pilot\\\",\\n    \\\"War fighter pilot\\\",\\n    \\\"aerobatics pilot\\\",\\n    \\\"fighter pilot\\\",\\n    \\\"bomber pilot\\\",\\n    \\\"glider pilot\\\",\\n    \\\"USAAF pilot\\\",\\n    \\\"test pilot\\\",\\n    \\\"WASP pilot\\\",\\n    \\\"pilot\\\",\\n    \\\"Lancaster aircraft\\\",\\n    \\\"leader of Operation Halyard\\\",\\n    \\\"Al Shabaab leader\\\",\\n    \\\"recipient of the Knight Cross of the Iron Cross during World War II\\\",\\n    \\\"member of the Tuskegee Airmen during World War II\\\",\\n    \\\"commander of the World War II Tuskegee Airmen\\\",\\n    \\\"member of the Resistance during World War II\\\",\\n    \\\"member of the Waffen SS during World War II\\\",\\n    \\\"World War II Tuskegee Airman fighter pilot\\\",\\n    \\\"Colditz Castle escapee during World War II\\\",\\n    \\\"an ace nightfighter pilot in World War II\\\",\\n    \\\"destroyer commander during World War II\\\",\\n    \\\"resistance fighter during World War II\\\",\\n    \\\"squadron commander during World War II\\\",\\n    \\\"resistance member during World War II\\\",\\n    \\\"Wehrmacht general during World War II\\\",\\n    \\\"during World War II\\\",\\n    \\\"Chetnik commander during World War II\\\",\\n    \\\"World War II prisoner of war escapee\\\",\\n    \\\"U boat commander during World War II\\\",\\n    \\\"prisoner of war during World War II\\\",\\n    \\\"mine specialist during World War II\\\",\\n    \\\"anti resisister during World War II\\\",\\n    \\\"World War II foreign\\\",\\n    \\\"highly decorated World War II hero\\\",\\n    \\\"SOE operative during World War II\\\",\\n    \\\"fighter pilot during World War II\\\",\\n    \\\"World War II submarine commander\\\",\\n    \\\"war criminal during World War II\\\",\\n    \\\"flying ace during World War II\\\",\\n    \\\"World War II resistance member\\\",\\n    \\\"World War II resistance worker\\\",\\n    \\\"SS captain during World War II\\\",\\n    \\\"SS officer during World War II\\\",\\n    \\\"navigator during World War II\\\",\\n    \\\"SEO agent during World War II\\\",\\n    \\\"World War II partisan fighter\\\",\\n    \\\"general during World War II\\\",\\n    \\\"World War II fighter pilot\\\",\\n    \\\"World War II bomber pilot\\\",\\n    \\\"World War II codebreaker\\\",\\n    \\\"World War II fighter ace\\\",\\n    \\\"World War II flying ace\\\",\\n    \\\"World War II aviator\\\",\\n    \\\"World War II pilot\\\",\\n    \\\"after World War II\\\",\\n    \\\"World War II hero\\\",\\n    \\\"naval secretary\\\",\\n    \\\"naval officer\\\",\\n    \\\"naval aviator\\\",\\n    \\\"naval\\\",\\n    \\\"intelligence official in the Central Intelligence Agency\\\",\\n    \\\"intelligence official\\\",\\n    \\\"Pentagon official\\\",\\n    \\\"Al Qaeda official\\\",\\n    \\\"security official\\\",\\n]\\nlaw_enf_military_operator = sorted(\\n    list(set(law_enf_military_operator)), key=lambda x: len(x), reverse=True\\n)\\n\\nspiritual = [\\n    \\\"Catholic cardinal\\\",\\n    \\\"first cardinal\\\",\\n    \\\"cardinal\\\",\\n    \\\"religious leader\\\",\\n    \\\"Shinshu Buddhist priest\\\",\\n    \\\"Zen Buddhist priest\\\",\\n    \\\"Church of priest\\\",\\n    \\\"Catholic priest\\\",\\n    \\\"Anglican priest\\\",\\n    \\\"an priest\\\",\\n    \\\"priest\\\",\\n    \\\"gospel\\\",\\n    \\\"expert on biblical manuscripts\\\",\\n    \\\"biblical\\\",\\n    \\\"bible\\\",\\n    \\\"Orthodox rabbi\\\",\\n    \\\"Reform rabbi\\\",\\n    \\\"chief rabbi\\\",\\n    \\\"rabbi\\\",\\n        \\\"principal theorist of Re evaluation Counseling\\\",\\n\\n]\\nspiritual = sorted(list(set(spiritual)), key=lambda x: len(x), reverse=True)\\n\\nsocial = [\\n    \\\"scouting leader\\\",\\n    \\\"Jewish community leader\\\",\\n    \\\"Muslim community leader\\\",\\n    \\\"social worker\\\",\\n    \\\"pastor of the Worldwide Church of God\\\",\\n    \\\"megachurch pastor\\\",\\n    \\\"Baptist pastor\\\",\\n    \\\"pastor\\\",\\n]\\nsocial = sorted(list(set(social)), key=lambda x: len(x), reverse=True)\\n\\ncrime = [\\n    \\\"carjacker\\\",\\n    \\\"hostage taker\\\",\\n    \\\"rapist\\\",\\n    \\\"father murderer of Marvin Gaye\\\",\\n    \\\"murderer of Gianni Versace\\\",\\n    \\\"mass murderer\\\",\\n    \\\"high ranking leader of the Sinaloa Cartel\\\",\\n    \\\"self confessed serial killer\\\",\\n    \\\"suspected serial killer\\\",\\n    \\\"serial killer\\\",\\n    \\\"spree killer\\\",\\n    \\\"killer\\\",\\n    \\\"fraudster\\\",\\n    \\\"war criminal during World War II\\\",\\n    \\\"gangland criminal\\\",\\n]\\ncrime = sorted(list(set(crime)), key=lambda x: len(x), reverse=True)\\n\\nevent_record_other = [\\n    \\\"Islamic jihad hostage\\\",\\n    \\\"hostage killed in\\\",\\n    \\\"ISIS hostage\\\",\\n    \\\"AQAP hostage\\\",\\n    \\\"suspected murderer of Olof Palme\\\",\\n    \\\"suspected murderer\\\",\\n    \\\"suspected murderer of rapper Tupac Shakur\\\",\\n    'later pardoned of being World War II propagandist \\\"Tokyo Rose\\\"',\\n    \\\"murder victim whose killing was documented in the movie: Dear Zachary\\\",\\n    \\\"anthrax attack victim\\\",\\n    \\\"killing spree victim\\\",\\n    \\\"vilification victim\\\",\\n    \\\"kidnapping victim\\\",\\n    \\\"Unabomber victim\\\",\\n    \\\"victims advocate\\\",\\n    \\\"assault victim\\\",\\n    \\\"murder victim\\\",\\n    \\\"kidnap victim\\\",\\n    \\\"hazing victim\\\",\\n    \\\"polio victim\\\",\\n    \\\"ETA victim\\\",\\n    \\\"neo victim\\\",\\n    \\\"victim\\\",\\n    \\\"alleged war criminal\\\",\\n]\\nevent_record_other = sorted(\\n    list(set(event_record_other)), key=lambda x: len(x), reverse=True\\n)\\n\\nother_species = []\\nother_species = sorted(list(set(other_species)), key=lambda x: len(x), reverse=True)\";\n",
       "                var nbb_formatted_code = \"# Creating lists for each category and sorting by decreasing length and removing duplicates\\n\\npolitics_govt_law = [\\n    \\\"automotive safety advocate\\\",\\n    \\\"mental health care advocate\\\",\\n    \\\"RMS Titanic conspiracy theorist\\\",\\n    \\\"conspiracy theorist\\\",\\n    \\\"former prime minister\\\",\\n    \\\"minister of state\\\",\\n    \\\"cabinet minister\\\",\\n    \\\"foreign minister\\\",\\n    \\\"former minister\\\",\\n    \\\"deputy minister\\\",\\n    \\\"prime minister\\\",\\n    \\\"minister\\\",\\n    \\\"nonviolence advocate\\\",\\n    \\\"one of the leaders of the national emancipation movement\\\",\\n    \\\"a deputy leader of the Party of Regions\\\",\\n    \\\"leader of the Communist Party of the\\\",\\n    \\\"a leader of the Communist Party of\\\",\\n    \\\"opposition leader in Ingushetia\\\",\\n    \\\"leader of Communist Party of\\\",\\n    \\\"Corsican nationalism leader\\\",\\n    \\\"revisionist Zionist leader\\\",\\n    \\\"co leader of coup d'\\u00e9tat\\\",\\n    \\\"Hmong community leader\\\",\\n    \\\"Kongu community leader\\\",\\n    \\\"independentism leader\\\",\\n    \\\"environmental leader\\\",\\n    \\\"Alaska Native leader\\\",\\n    \\\"coup d'\\u00e9tat leader\\\",\\n    \\\"leader of the FNLA\\\",\\n    \\\"opposition leader\\\",\\n    \\\"leader of the GDR\\\",\\n    \\\"communist leader\\\",\\n    \\\"Communist leader\\\",\\n    \\\"leader of Group\\\",\\n    \\\"Islamist leader\\\",\\n    \\\"first leader of\\\",\\n    \\\"workers' leader\\\",\\n    \\\"tribal leader\\\",\\n    \\\"civic leader\\\",\\n    \\\"labor leader\\\",\\n    \\\"M\\u0101ori leader\\\",\\n    \\\"coup leader\\\",\\n    \\\"defector\\\",\\n    \\\"urban planner\\\",\\n    \\\"law lord\\\",\\n    \\\"law\\\",\\n    \\\"courtier of Queen Elizabeth II\\\",\\n    \\\"courtier\\\",\\n    \\\"magistrate\\\",\\n    \\\"landowner\\\",\\n    \\\"oil industry whistleblower\\\",\\n    \\\"Scientology whistleblower\\\",\\n    \\\"whistleblower\\\",\\n    \\\"statesman\\\",\\n    \\\"Holocaust denier\\\",\\n    \\\"politologist\\\",\\n    \\\"United Nations disarmament official\\\",\\n    \\\"official during World War II\\\",\\n    \\\"State Department official\\\",\\n    \\\"later East y official\\\",\\n    \\\"banking official\\\",\\n    \\\"WHO official\\\",\\n]\\npolitics_govt_law = sorted(\\n    list(set(politics_govt_law)), key=lambda x: len(x), reverse=True\\n)\\n\\narts = [\\n    \\\"caricaturist\\\",\\n    \\\"Oscar winner\\\",\\n    \\\"woodcarver\\\",\\n    \\\"carver\\\",\\n    \\\"critic\\\",\\n    \\\"radio talk show host\\\",\\n    \\\"variety show host\\\",\\n    \\\"radio show host\\\",\\n    \\\"game show host\\\",\\n    \\\"talk show host\\\",\\n    \\\"ghost hunter\\\",\\n    \\\"TV show host\\\",\\n    \\\"radio host\\\",\\n    \\\"TV host\\\",\\n    \\\"host of\\\",\\n    \\\"media theorist\\\",\\n    \\\"communicator\\\",\\n    \\\"cinematographer\\\",\\n    \\\"first woman weathercaster in the\\\",\\n    \\\"radio newscaster\\\",\\n    \\\"surf forecaster\\\",\\n    \\\"crop forecaster\\\",\\n    \\\"newscaster\\\",\\n    \\\"podcaster\\\",\\n    \\\"free jazz violinist\\\",\\n    \\\"roll violinist\\\",\\n    \\\"viola da gamba\\\",\\n    \\\"violinist\\\",\\n    \\\"violist\\\",\\n    \\\"wife of leader founder of Ladysmith Black Mambazo\\\",\\n    \\\"memoirist\\\",\\n    \\\"DJ of Run DMC\\\",\\n    \\\"trance DJ\\\",\\n    \\\"bass DJ\\\",\\n    \\\"rock DJ\\\",\\n    \\\"DJ\\\",\\n    \\\"crime reporter\\\",\\n    \\\"news reporter\\\",\\n    \\\"reporter\\\",\\n    \\\"satirist\\\",\\n    \\\"substitute anchor for WNBC\\\",\\n    \\\"news anchor\\\",\\n    \\\"anchor\\\",\\n    \\\"viral video performer\\\",\\n    \\\"nightclub performer\\\",\\n    \\\"Broadway performer\\\",\\n    \\\"theremin performer\\\",\\n    \\\"cabaret performer\\\",\\n    \\\"performer\\\",\\n    \\\"jazz bassoonist\\\",\\n    \\\"jazz bassist\\\",\\n    \\\"bassoonist\\\",\\n    \\\"bassist\\\",\\n    \\\"bass MC\\\",\\n    \\\"bass DJ\\\",\\n    \\\"chef\\\",\\n    \\\"cellist\\\",\\n    \\\"disc jockey\\\",\\n    \\\"beauty pageant contestant\\\",\\n    \\\"beauty pageant winner\\\",\\n    \\\"beauty queen\\\",\\n    \\\"escapologist\\\",\\n    \\\"Screen Actors Guild official\\\",\\n]\\narts = sorted(list(set(arts)), key=lambda x: len(x), reverse=True)\\n\\nsports = [\\n    \\\"the first ever Sidecarcross World Championship\\\",\\n    \\\"Grand Prix race car driver\\\",\\n    \\\"ARCA race car driver owner\\\",\\n    \\\"reincarnation researcher\\\",\\n    \\\"touring car racer\\\",\\n    \\\"racecar driver\\\",\\n    \\\"car builder\\\",\\n    \\\"Gold Glove winning first baseman One of the first Hispanic players in the\\\",\\n    \\\"father of San Francisco Giants ballplayer Barry Bonds\\\",\\n    \\\"professional poker player\\\",\\n    \\\"water polo player\\\",\\n    \\\"volleyball player\\\",\\n    \\\"streetball player\\\",\\n    \\\"billiards player\\\",\\n    \\\"lacrosse player\\\",\\n    \\\"softball player\\\",\\n    \\\"checkers player\\\",\\n    \\\"snooker player\\\",\\n    \\\"croquet player\\\",\\n    \\\"soccer player\\\",\\n    \\\"squash player\\\",\\n    \\\"poker player\\\",\\n    \\\"chess player\\\",\\n    \\\"polo player\\\",\\n    \\\"Go player\\\",\\n    \\\"player\\\",\\n    \\\"boxing trainer\\\",\\n    \\\"trainer\\\",\\n    \\\"boxing promoter\\\",\\n    \\\"yoga instructor\\\",\\n    \\\"adventurer\\\",\\n    \\\"a member of the MLB Hall of Fame\\\",\\n    \\\"member of the MLB Hall of Fame\\\",\\n    \\\"modern pentathlete\\\",\\n    \\\"masters athlete\\\",\\n    \\\"pentathlete\\\",\\n    \\\"decathlete\\\",\\n    \\\"triathlete\\\",\\n    \\\"athlete\\\",\\n    \\\"boxing official\\\",\\n]\\nsports = sorted(list(set(sports)), key=lambda x: len(x), reverse=True)\\n\\nsciences = [\\n    \\\"inventor\\\",\\n    \\\"paediatric cardiologist\\\",\\n    \\\"health care consultant\\\",\\n    \\\"car constructor\\\",\\n    \\\"carcinologist\\\",\\n    \\\"cardiologist\\\",\\n    \\\"cartographer\\\",\\n    \\\"scientist\\\",\\n    \\\"flat Earth conspiracy theorist\\\",\\n    \\\"control theorist\\\",\\n    \\\"science\\\",\\n    \\\"sex researcher at Johns Hopkins University\\\",\\n    \\\"sudden infant death syndrome researcher\\\",\\n    \\\"leading researcher into category theory\\\",\\n    \\\"eye tissue transplant researcher\\\",\\n    \\\"reproductive medicine researcher\\\",\\n    \\\"Down syndrome researcher\\\",\\n    \\\"reincarnation researcher\\\",\\n    \\\"paranormal researcher\\\",\\n    \\\"scientific researcher\\\",\\n    \\\"toxicology researcher\\\",\\n    \\\"behavioral researcher\\\",\\n    \\\"stem cell researcher\\\",\\n    \\\"clinical researcher\\\",\\n    \\\"HIV AIDS researcher\\\",\\n    \\\"leukemia researcher\\\",\\n    \\\"security researcher\\\",\\n    \\\"diabetes researcher\\\",\\n    \\\"opinion researcher\\\",\\n    \\\"polymer researcher\\\",\\n    \\\"cancer researcher\\\",\\n    \\\"social researcher\\\",\\n    \\\"autism researcher\\\",\\n    \\\"sleep researcher\\\",\\n    \\\"dream researcher\\\",\\n    \\\"peace researcher\\\",\\n    \\\"nurse researcher\\\",\\n    \\\"AIDS researcher\\\",\\n    \\\"UFO researcher\\\",\\n    \\\"pioneer of plant ecology\\\",\\n    \\\"ecologist\\\",\\n    \\\"doctor\\\",\\n    \\\"theoretical chemist\\\",\\n    \\\"freshwater chemist\\\",\\n    \\\"agrochemist\\\",\\n    \\\"biochemist\\\",\\n    \\\"geochemist\\\",\\n    \\\"chemistry\\\",\\n    \\\"chemist\\\",\\n    \\\"statistician\\\",\\n    \\\"virologist\\\",\\n    \\\"psychiatrist\\\",\\n    \\\"criminologist\\\",\\n    \\\"renowned plastic surgeon\\\",\\n    \\\"orthopedic surgeon\\\",\\n    \\\"plastic surgeon\\\",\\n    \\\"surgeon\\\",\\n    \\\"theoretical astronomer\\\",\\n    \\\"radio astronomer\\\",\\n    \\\"gastronomist\\\",\\n    \\\"astronomer\\\",\\n    \\\"reproductive endocrinologist\\\",\\n    \\\"comparative physiologist\\\",\\n    \\\"developmental biologist\\\",\\n    \\\"paediatric cardiologist\\\",\\n    \\\"evolutionary biologist\\\",\\n    \\\"structural geologist\\\",\\n    \\\"molecular biologist\\\",\\n    \\\"gastroenterologist\\\",\\n    \\\"plant physiologist\\\",\\n    \\\"plant pathologist\\\",\\n    \\\"neurophysiologist\\\",\\n    \\\"marine biologist\\\",\\n    \\\"neuropathologist\\\",\\n    \\\"cryptozoologist\\\",\\n    \\\"endocrinologist\\\",\\n    \\\"myriapodologist\\\",\\n    \\\"ophthalmologist\\\",\\n    \\\"geomorphologist\\\",\\n    \\\"microbiologist\\\",\\n    \\\"epidemiologist\\\",\\n    \\\"pharmacologist\\\",\\n    \\\"paleontologist\\\",\\n    \\\"neurobiologist\\\",\\n    \\\"epileptologist\\\",\\n    \\\"cell biologist\\\",\\n    \\\"parasitologist\\\",\\n    \\\"ophthamologist\\\",\\n    \\\"astrobiologist\\\",\\n    \\\"glycobiologist\\\",\\n    \\\"rheumatologist\\\",\\n    \\\"criminologist\\\",\\n    \\\"ornithologist\\\",\\n    \\\"meteorologist\\\",\\n    \\\"methodologist\\\",\\n    \\\"lichenologist\\\",\\n    \\\"carcinologist\\\",\\n    \\\"arachnologist\\\",\\n    \\\"pteridologist\\\",\\n    \\\"haematologist\\\",\\n    \\\"physiologist\\\",\\n    \\\"immunologist\\\",\\n    \\\"cardiologist\\\",\\n    \\\"toxicologist\\\",\\n    \\\"entomologist\\\",\\n    \\\"seismologist\\\",\\n    \\\"speleologist\\\",\\n    \\\"hematologist\\\",\\n    \\\"futurologist\\\",\\n    \\\"malacologist\\\",\\n    \\\"a mycologist\\\",\\n    \\\"mineralogist\\\",\\n    \\\"enzymologist\\\",\\n    \\\"pathologist\\\",\\n    \\\"neurologist\\\",\\n    \\\"radiologist\\\",\\n    \\\"osteologist\\\",\\n    \\\"phycologist\\\",\\n    \\\"histologist\\\",\\n    \\\"cosmologist\\\",\\n    \\\"virologist\\\",\\n    \\\"oncologist\\\",\\n    \\\"sexologist\\\",\\n    \\\"mycologist\\\",\\n    \\\"rheologist\\\",\\n    \\\"gemologist\\\",\\n    \\\"cytologist\\\",\\n    \\\"bryologist\\\",\\n    \\\"ecologist\\\",\\n    \\\"biologist\\\",\\n    \\\"geologist\\\",\\n    \\\"zoologist\\\",\\n    \\\"ufologist\\\",\\n    \\\"enologist\\\",\\n]\\nsciences = sorted(list(set(sciences)), key=lambda x: len(x), reverse=True)\\n\\nbusiness_farming = [\\n    \\\"creator of Pernod Ricard\\\",\\n    \\\"carpet distributor\\\",\\n    \\\"farmer\\\",\\n    \\\"billionaire\\\",\\n    \\\"international financier\\\",\\n    \\\"a financier\\\",\\n    \\\"financier\\\",\\n]\\nbusiness_farming = sorted(\\n    list(set(business_farming)), key=lambda x: len(x), reverse=True\\n)\\n\\nacademia_humanities = [\\n    \\\"consciousness theorist\\\",\\n    \\\"intelligence theorist\\\",\\n    \\\"evolution theorist\\\",\\n    \\\"cultural theorist\\\",\\n    \\\"literary theorist\\\",\\n    \\\"design theorist\\\",\\n    \\\"play theorist\\\",\\n    \\\"art theorist\\\",\\n    \\\"World War II researcher\\\",\\n    \\\"cultural researcher\\\",\\n    \\\"university lecturer\\\",\\n    \\\"lecturer\\\",\\n    \\\"librarian\\\",\\n    \\\"bibliophile\\\",\\n    \\\"folklorist of cultures\\\",\\n    \\\"folklorist\\\",\\n    \\\"sound archivist\\\",\\n    \\\"archivist\\\",\\n    \\\"epistemologist\\\",\\n    \\\"philologist\\\",\\n    \\\"ethnologist\\\",\\n    \\\"lexicographer\\\",\\n    \\\"official pronouncer of the Scripps National Spelling Bee from to\\\",\\n    \\\"university official\\\",\\n]\\nacademia_humanities = sorted(\\n    list(set(academia_humanities)), key=lambda x: len(x), reverse=True\\n)\\n\\nlaw_enf_military_operator = [\\n    \\\"hostage negotiator\\\",\\n    \\\"spy\\\",\\n    \\\"flight instructor\\\",\\n    \\\"test pilot who twice held the world flight altitude record\\\",\\n    \\\"World War II Tuskegee Airman fighter pilot\\\",\\n    \\\"the first female combat pilot of the world\\\",\\n    \\\"an ace nightfighter pilot in World War II\\\",\\n    \\\"fighter pilot during World War II\\\",\\n    \\\"World War II fighter pilot\\\",\\n    \\\"World War II bomber pilot\\\",\\n    \\\"record setting test pilot\\\",\\n    \\\"World War II pilot\\\",\\n    \\\"War fighter pilot\\\",\\n    \\\"aerobatics pilot\\\",\\n    \\\"fighter pilot\\\",\\n    \\\"bomber pilot\\\",\\n    \\\"glider pilot\\\",\\n    \\\"USAAF pilot\\\",\\n    \\\"test pilot\\\",\\n    \\\"WASP pilot\\\",\\n    \\\"pilot\\\",\\n    \\\"Lancaster aircraft\\\",\\n    \\\"leader of Operation Halyard\\\",\\n    \\\"Al Shabaab leader\\\",\\n    \\\"recipient of the Knight Cross of the Iron Cross during World War II\\\",\\n    \\\"member of the Tuskegee Airmen during World War II\\\",\\n    \\\"commander of the World War II Tuskegee Airmen\\\",\\n    \\\"member of the Resistance during World War II\\\",\\n    \\\"member of the Waffen SS during World War II\\\",\\n    \\\"World War II Tuskegee Airman fighter pilot\\\",\\n    \\\"Colditz Castle escapee during World War II\\\",\\n    \\\"an ace nightfighter pilot in World War II\\\",\\n    \\\"destroyer commander during World War II\\\",\\n    \\\"resistance fighter during World War II\\\",\\n    \\\"squadron commander during World War II\\\",\\n    \\\"resistance member during World War II\\\",\\n    \\\"Wehrmacht general during World War II\\\",\\n    \\\"during World War II\\\",\\n    \\\"Chetnik commander during World War II\\\",\\n    \\\"World War II prisoner of war escapee\\\",\\n    \\\"U boat commander during World War II\\\",\\n    \\\"prisoner of war during World War II\\\",\\n    \\\"mine specialist during World War II\\\",\\n    \\\"anti resisister during World War II\\\",\\n    \\\"World War II foreign\\\",\\n    \\\"highly decorated World War II hero\\\",\\n    \\\"SOE operative during World War II\\\",\\n    \\\"fighter pilot during World War II\\\",\\n    \\\"World War II submarine commander\\\",\\n    \\\"war criminal during World War II\\\",\\n    \\\"flying ace during World War II\\\",\\n    \\\"World War II resistance member\\\",\\n    \\\"World War II resistance worker\\\",\\n    \\\"SS captain during World War II\\\",\\n    \\\"SS officer during World War II\\\",\\n    \\\"navigator during World War II\\\",\\n    \\\"SEO agent during World War II\\\",\\n    \\\"World War II partisan fighter\\\",\\n    \\\"general during World War II\\\",\\n    \\\"World War II fighter pilot\\\",\\n    \\\"World War II bomber pilot\\\",\\n    \\\"World War II codebreaker\\\",\\n    \\\"World War II fighter ace\\\",\\n    \\\"World War II flying ace\\\",\\n    \\\"World War II aviator\\\",\\n    \\\"World War II pilot\\\",\\n    \\\"after World War II\\\",\\n    \\\"World War II hero\\\",\\n    \\\"naval secretary\\\",\\n    \\\"naval officer\\\",\\n    \\\"naval aviator\\\",\\n    \\\"naval\\\",\\n    \\\"intelligence official in the Central Intelligence Agency\\\",\\n    \\\"intelligence official\\\",\\n    \\\"Pentagon official\\\",\\n    \\\"Al Qaeda official\\\",\\n    \\\"security official\\\",\\n]\\nlaw_enf_military_operator = sorted(\\n    list(set(law_enf_military_operator)), key=lambda x: len(x), reverse=True\\n)\\n\\nspiritual = [\\n    \\\"Catholic cardinal\\\",\\n    \\\"first cardinal\\\",\\n    \\\"cardinal\\\",\\n    \\\"religious leader\\\",\\n    \\\"Shinshu Buddhist priest\\\",\\n    \\\"Zen Buddhist priest\\\",\\n    \\\"Church of priest\\\",\\n    \\\"Catholic priest\\\",\\n    \\\"Anglican priest\\\",\\n    \\\"an priest\\\",\\n    \\\"priest\\\",\\n    \\\"gospel\\\",\\n    \\\"expert on biblical manuscripts\\\",\\n    \\\"biblical\\\",\\n    \\\"bible\\\",\\n    \\\"Orthodox rabbi\\\",\\n    \\\"Reform rabbi\\\",\\n    \\\"chief rabbi\\\",\\n    \\\"rabbi\\\",\\n    \\\"principal theorist of Re evaluation Counseling\\\",\\n]\\nspiritual = sorted(list(set(spiritual)), key=lambda x: len(x), reverse=True)\\n\\nsocial = [\\n    \\\"scouting leader\\\",\\n    \\\"Jewish community leader\\\",\\n    \\\"Muslim community leader\\\",\\n    \\\"social worker\\\",\\n    \\\"pastor of the Worldwide Church of God\\\",\\n    \\\"megachurch pastor\\\",\\n    \\\"Baptist pastor\\\",\\n    \\\"pastor\\\",\\n]\\nsocial = sorted(list(set(social)), key=lambda x: len(x), reverse=True)\\n\\ncrime = [\\n    \\\"carjacker\\\",\\n    \\\"hostage taker\\\",\\n    \\\"rapist\\\",\\n    \\\"father murderer of Marvin Gaye\\\",\\n    \\\"murderer of Gianni Versace\\\",\\n    \\\"mass murderer\\\",\\n    \\\"high ranking leader of the Sinaloa Cartel\\\",\\n    \\\"self confessed serial killer\\\",\\n    \\\"suspected serial killer\\\",\\n    \\\"serial killer\\\",\\n    \\\"spree killer\\\",\\n    \\\"killer\\\",\\n    \\\"fraudster\\\",\\n    \\\"war criminal during World War II\\\",\\n    \\\"gangland criminal\\\",\\n]\\ncrime = sorted(list(set(crime)), key=lambda x: len(x), reverse=True)\\n\\nevent_record_other = [\\n    \\\"Islamic jihad hostage\\\",\\n    \\\"hostage killed in\\\",\\n    \\\"ISIS hostage\\\",\\n    \\\"AQAP hostage\\\",\\n    \\\"suspected murderer of Olof Palme\\\",\\n    \\\"suspected murderer\\\",\\n    \\\"suspected murderer of rapper Tupac Shakur\\\",\\n    'later pardoned of being World War II propagandist \\\"Tokyo Rose\\\"',\\n    \\\"murder victim whose killing was documented in the movie: Dear Zachary\\\",\\n    \\\"anthrax attack victim\\\",\\n    \\\"killing spree victim\\\",\\n    \\\"vilification victim\\\",\\n    \\\"kidnapping victim\\\",\\n    \\\"Unabomber victim\\\",\\n    \\\"victims advocate\\\",\\n    \\\"assault victim\\\",\\n    \\\"murder victim\\\",\\n    \\\"kidnap victim\\\",\\n    \\\"hazing victim\\\",\\n    \\\"polio victim\\\",\\n    \\\"ETA victim\\\",\\n    \\\"neo victim\\\",\\n    \\\"victim\\\",\\n    \\\"alleged war criminal\\\",\\n]\\nevent_record_other = sorted(\\n    list(set(event_record_other)), key=lambda x: len(x), reverse=True\\n)\\n\\nother_species = []\\nother_species = sorted(list(set(other_species)), key=lambda x: len(x), reverse=True)\";\n",
       "                var nbb_cells = Jupyter.notebook.get_cells();\n",
       "                for (var i = 0; i < nbb_cells.length; ++i) {\n",
       "                    if (nbb_cells[i].input_prompt_number == nbb_cell_id) {\n",
       "                        if (nbb_cells[i].get_text() == nbb_unformatted_code) {\n",
       "                             nbb_cells[i].set_text(nbb_formatted_code);\n",
       "                        }\n",
       "                        break;\n",
       "                    }\n",
       "                }\n",
       "            }, 500);\n",
       "            "
      ],
      "text/plain": [
       "<IPython.core.display.Javascript object>"
      ]
     },
     "metadata": {},
     "output_type": "display_data"
    }
   ],
   "source": [
    "# Creating lists for each category and sorting by decreasing length and removing duplicates\n",
    "\n",
    "politics_govt_law = [\n",
    "    \"automotive safety advocate\",\n",
    "    \"mental health care advocate\",\n",
    "    \"RMS Titanic conspiracy theorist\",\n",
    "    \"conspiracy theorist\",\n",
    "    \"former prime minister\",\n",
    "    \"minister of state\",\n",
    "    \"cabinet minister\",\n",
    "    \"foreign minister\",\n",
    "    \"former minister\",\n",
    "    \"deputy minister\",\n",
    "    \"prime minister\",\n",
    "    \"minister\",\n",
    "    \"nonviolence advocate\",\n",
    "    \"one of the leaders of the national emancipation movement\",\n",
    "    \"a deputy leader of the Party of Regions\",\n",
    "    \"leader of the Communist Party of the\",\n",
    "    \"a leader of the Communist Party of\",\n",
    "    \"opposition leader in Ingushetia\",\n",
    "    \"leader of Communist Party of\",\n",
    "    \"Corsican nationalism leader\",\n",
    "    \"revisionist Zionist leader\",\n",
    "    \"co leader of coup d'état\",\n",
    "    \"Hmong community leader\",\n",
    "    \"Kongu community leader\",\n",
    "    \"independentism leader\",\n",
    "    \"environmental leader\",\n",
    "    \"Alaska Native leader\",\n",
    "    \"coup d'état leader\",\n",
    "    \"leader of the FNLA\",\n",
    "    \"opposition leader\",\n",
    "    \"leader of the GDR\",\n",
    "    \"communist leader\",\n",
    "    \"Communist leader\",\n",
    "    \"leader of Group\",\n",
    "    \"Islamist leader\",\n",
    "    \"first leader of\",\n",
    "    \"workers' leader\",\n",
    "    \"tribal leader\",\n",
    "    \"civic leader\",\n",
    "    \"labor leader\",\n",
    "    \"Māori leader\",\n",
    "    \"coup leader\",\n",
    "    \"defector\",\n",
    "    \"urban planner\",\n",
    "    \"law lord\",\n",
    "    \"law\",\n",
    "    \"courtier of Queen Elizabeth II\",\n",
    "    \"courtier\",\n",
    "    \"magistrate\",\n",
    "    \"landowner\",\n",
    "    \"oil industry whistleblower\",\n",
    "    \"Scientology whistleblower\",\n",
    "    \"whistleblower\",\n",
    "    \"statesman\",\n",
    "    \"Holocaust denier\",\n",
    "    \"politologist\",\n",
    "    \"United Nations disarmament official\",\n",
    "    \"official during World War II\",\n",
    "    \"State Department official\",\n",
    "    \"later East y official\",\n",
    "    \"banking official\",\n",
    "    \"WHO official\",\n",
    "]\n",
    "politics_govt_law = sorted(\n",
    "    list(set(politics_govt_law)), key=lambda x: len(x), reverse=True\n",
    ")\n",
    "\n",
    "arts = [\n",
    "    \"caricaturist\",\n",
    "    \"Oscar winner\",\n",
    "    \"woodcarver\",\n",
    "    \"carver\",\n",
    "    \"critic\",\n",
    "    \"radio talk show host\",\n",
    "    \"variety show host\",\n",
    "    \"radio show host\",\n",
    "    \"game show host\",\n",
    "    \"talk show host\",\n",
    "    \"ghost hunter\",\n",
    "    \"TV show host\",\n",
    "    \"radio host\",\n",
    "    \"TV host\",\n",
    "    \"host of\",\n",
    "    \"media theorist\",\n",
    "    \"communicator\",\n",
    "    \"cinematographer\",\n",
    "    \"first woman weathercaster in the\",\n",
    "    \"radio newscaster\",\n",
    "    \"surf forecaster\",\n",
    "    \"crop forecaster\",\n",
    "    \"newscaster\",\n",
    "    \"podcaster\",\n",
    "    \"free jazz violinist\",\n",
    "    \"roll violinist\",\n",
    "    \"viola da gamba\",\n",
    "    \"violinist\",\n",
    "    \"violist\",\n",
    "    \"wife of leader founder of Ladysmith Black Mambazo\",\n",
    "    \"memoirist\",\n",
    "    \"DJ of Run DMC\",\n",
    "    \"trance DJ\",\n",
    "    \"bass DJ\",\n",
    "    \"rock DJ\",\n",
    "    \"DJ\",\n",
    "    \"crime reporter\",\n",
    "    \"news reporter\",\n",
    "    \"reporter\",\n",
    "    \"satirist\",\n",
    "    \"substitute anchor for WNBC\",\n",
    "    \"news anchor\",\n",
    "    \"anchor\",\n",
    "    \"viral video performer\",\n",
    "    \"nightclub performer\",\n",
    "    \"Broadway performer\",\n",
    "    \"theremin performer\",\n",
    "    \"cabaret performer\",\n",
    "    \"performer\",\n",
    "    \"jazz bassoonist\",\n",
    "    \"jazz bassist\",\n",
    "    \"bassoonist\",\n",
    "    \"bassist\",\n",
    "    \"bass MC\",\n",
    "    \"bass DJ\",\n",
    "    \"chef\",\n",
    "    \"cellist\",\n",
    "    \"disc jockey\",\n",
    "    \"beauty pageant contestant\",\n",
    "    \"beauty pageant winner\",\n",
    "    \"beauty queen\",\n",
    "    \"escapologist\",\n",
    "    \"Screen Actors Guild official\",\n",
    "]\n",
    "arts = sorted(list(set(arts)), key=lambda x: len(x), reverse=True)\n",
    "\n",
    "sports = [\n",
    "    \"the first ever Sidecarcross World Championship\",\n",
    "    \"Grand Prix race car driver\",\n",
    "    \"ARCA race car driver owner\",\n",
    "    \"reincarnation researcher\",\n",
    "    \"touring car racer\",\n",
    "    \"racecar driver\",\n",
    "    \"car builder\",\n",
    "    \"Gold Glove winning first baseman One of the first Hispanic players in the\",\n",
    "    \"father of San Francisco Giants ballplayer Barry Bonds\",\n",
    "    \"professional poker player\",\n",
    "    \"water polo player\",\n",
    "    \"volleyball player\",\n",
    "    \"streetball player\",\n",
    "    \"billiards player\",\n",
    "    \"lacrosse player\",\n",
    "    \"softball player\",\n",
    "    \"checkers player\",\n",
    "    \"snooker player\",\n",
    "    \"croquet player\",\n",
    "    \"soccer player\",\n",
    "    \"squash player\",\n",
    "    \"poker player\",\n",
    "    \"chess player\",\n",
    "    \"polo player\",\n",
    "    \"Go player\",\n",
    "    \"player\",\n",
    "    \"boxing trainer\",\n",
    "    \"trainer\",\n",
    "    \"boxing promoter\",\n",
    "    \"yoga instructor\",\n",
    "    \"adventurer\",\n",
    "    \"a member of the MLB Hall of Fame\",\n",
    "    \"member of the MLB Hall of Fame\",\n",
    "    \"modern pentathlete\",\n",
    "    \"masters athlete\",\n",
    "    \"pentathlete\",\n",
    "    \"decathlete\",\n",
    "    \"triathlete\",\n",
    "    \"athlete\",\n",
    "    \"boxing official\",\n",
    "]\n",
    "sports = sorted(list(set(sports)), key=lambda x: len(x), reverse=True)\n",
    "\n",
    "sciences = [\n",
    "    \"inventor\",\n",
    "    \"paediatric cardiologist\",\n",
    "    \"health care consultant\",\n",
    "    \"car constructor\",\n",
    "    \"carcinologist\",\n",
    "    \"cardiologist\",\n",
    "    \"cartographer\",\n",
    "    \"scientist\",\n",
    "    \"flat Earth conspiracy theorist\",\n",
    "    \"control theorist\",\n",
    "    \"science\",\n",
    "    \"sex researcher at Johns Hopkins University\",\n",
    "    \"sudden infant death syndrome researcher\",\n",
    "    \"leading researcher into category theory\",\n",
    "    \"eye tissue transplant researcher\",\n",
    "    \"reproductive medicine researcher\",\n",
    "    \"Down syndrome researcher\",\n",
    "    \"reincarnation researcher\",\n",
    "    \"paranormal researcher\",\n",
    "    \"scientific researcher\",\n",
    "    \"toxicology researcher\",\n",
    "    \"behavioral researcher\",\n",
    "    \"stem cell researcher\",\n",
    "    \"clinical researcher\",\n",
    "    \"HIV AIDS researcher\",\n",
    "    \"leukemia researcher\",\n",
    "    \"security researcher\",\n",
    "    \"diabetes researcher\",\n",
    "    \"opinion researcher\",\n",
    "    \"polymer researcher\",\n",
    "    \"cancer researcher\",\n",
    "    \"social researcher\",\n",
    "    \"autism researcher\",\n",
    "    \"sleep researcher\",\n",
    "    \"dream researcher\",\n",
    "    \"peace researcher\",\n",
    "    \"nurse researcher\",\n",
    "    \"AIDS researcher\",\n",
    "    \"UFO researcher\",\n",
    "    \"pioneer of plant ecology\",\n",
    "    \"ecologist\",\n",
    "    \"doctor\",\n",
    "    \"theoretical chemist\",\n",
    "    \"freshwater chemist\",\n",
    "    \"agrochemist\",\n",
    "    \"biochemist\",\n",
    "    \"geochemist\",\n",
    "    \"chemistry\",\n",
    "    \"chemist\",\n",
    "    \"statistician\",\n",
    "    \"virologist\",\n",
    "    \"psychiatrist\",\n",
    "    \"criminologist\",\n",
    "    \"renowned plastic surgeon\",\n",
    "    \"orthopedic surgeon\",\n",
    "    \"plastic surgeon\",\n",
    "    \"surgeon\",\n",
    "    \"theoretical astronomer\",\n",
    "    \"radio astronomer\",\n",
    "    \"gastronomist\",\n",
    "    \"astronomer\",\n",
    "    \"reproductive endocrinologist\",\n",
    "    \"comparative physiologist\",\n",
    "    \"developmental biologist\",\n",
    "    \"paediatric cardiologist\",\n",
    "    \"evolutionary biologist\",\n",
    "    \"structural geologist\",\n",
    "    \"molecular biologist\",\n",
    "    \"gastroenterologist\",\n",
    "    \"plant physiologist\",\n",
    "    \"plant pathologist\",\n",
    "    \"neurophysiologist\",\n",
    "    \"marine biologist\",\n",
    "    \"neuropathologist\",\n",
    "    \"cryptozoologist\",\n",
    "    \"endocrinologist\",\n",
    "    \"myriapodologist\",\n",
    "    \"ophthalmologist\",\n",
    "    \"geomorphologist\",\n",
    "    \"microbiologist\",\n",
    "    \"epidemiologist\",\n",
    "    \"pharmacologist\",\n",
    "    \"paleontologist\",\n",
    "    \"neurobiologist\",\n",
    "    \"epileptologist\",\n",
    "    \"cell biologist\",\n",
    "    \"parasitologist\",\n",
    "    \"ophthamologist\",\n",
    "    \"astrobiologist\",\n",
    "    \"glycobiologist\",\n",
    "    \"rheumatologist\",\n",
    "    \"criminologist\",\n",
    "    \"ornithologist\",\n",
    "    \"meteorologist\",\n",
    "    \"methodologist\",\n",
    "    \"lichenologist\",\n",
    "    \"carcinologist\",\n",
    "    \"arachnologist\",\n",
    "    \"pteridologist\",\n",
    "    \"haematologist\",\n",
    "    \"physiologist\",\n",
    "    \"immunologist\",\n",
    "    \"cardiologist\",\n",
    "    \"toxicologist\",\n",
    "    \"entomologist\",\n",
    "    \"seismologist\",\n",
    "    \"speleologist\",\n",
    "    \"hematologist\",\n",
    "    \"futurologist\",\n",
    "    \"malacologist\",\n",
    "    \"a mycologist\",\n",
    "    \"mineralogist\",\n",
    "    \"enzymologist\",\n",
    "    \"pathologist\",\n",
    "    \"neurologist\",\n",
    "    \"radiologist\",\n",
    "    \"osteologist\",\n",
    "    \"phycologist\",\n",
    "    \"histologist\",\n",
    "    \"cosmologist\",\n",
    "    \"virologist\",\n",
    "    \"oncologist\",\n",
    "    \"sexologist\",\n",
    "    \"mycologist\",\n",
    "    \"rheologist\",\n",
    "    \"gemologist\",\n",
    "    \"cytologist\",\n",
    "    \"bryologist\",\n",
    "    \"ecologist\",\n",
    "    \"biologist\",\n",
    "    \"geologist\",\n",
    "    \"zoologist\",\n",
    "    \"ufologist\",\n",
    "    \"enologist\",\n",
    "]\n",
    "sciences = sorted(list(set(sciences)), key=lambda x: len(x), reverse=True)\n",
    "\n",
    "business_farming = [\n",
    "    \"creator of Pernod Ricard\",\n",
    "    \"carpet distributor\",\n",
    "    \"farmer\",\n",
    "    \"billionaire\",\n",
    "    \"international financier\",\n",
    "    \"a financier\",\n",
    "    \"financier\",\n",
    "]\n",
    "business_farming = sorted(\n",
    "    list(set(business_farming)), key=lambda x: len(x), reverse=True\n",
    ")\n",
    "\n",
    "academia_humanities = [\n",
    "    \"consciousness theorist\",\n",
    "    \"intelligence theorist\",\n",
    "    \"evolution theorist\",\n",
    "    \"cultural theorist\",\n",
    "    \"literary theorist\",\n",
    "    \"design theorist\",\n",
    "    \"play theorist\",\n",
    "    \"art theorist\",\n",
    "    \"World War II researcher\",\n",
    "    \"cultural researcher\",\n",
    "    \"university lecturer\",\n",
    "    \"lecturer\",\n",
    "    \"librarian\",\n",
    "    \"bibliophile\",\n",
    "    \"folklorist of cultures\",\n",
    "    \"folklorist\",\n",
    "    \"sound archivist\",\n",
    "    \"archivist\",\n",
    "    \"epistemologist\",\n",
    "    \"philologist\",\n",
    "    \"ethnologist\",\n",
    "    \"lexicographer\",\n",
    "    \"official pronouncer of the Scripps National Spelling Bee from to\",\n",
    "    \"university official\",\n",
    "]\n",
    "academia_humanities = sorted(\n",
    "    list(set(academia_humanities)), key=lambda x: len(x), reverse=True\n",
    ")\n",
    "\n",
    "law_enf_military_operator = [\n",
    "    \"hostage negotiator\",\n",
    "    \"spy\",\n",
    "    \"flight instructor\",\n",
    "    \"test pilot who twice held the world flight altitude record\",\n",
    "    \"World War II Tuskegee Airman fighter pilot\",\n",
    "    \"the first female combat pilot of the world\",\n",
    "    \"an ace nightfighter pilot in World War II\",\n",
    "    \"fighter pilot during World War II\",\n",
    "    \"World War II fighter pilot\",\n",
    "    \"World War II bomber pilot\",\n",
    "    \"record setting test pilot\",\n",
    "    \"World War II pilot\",\n",
    "    \"War fighter pilot\",\n",
    "    \"aerobatics pilot\",\n",
    "    \"fighter pilot\",\n",
    "    \"bomber pilot\",\n",
    "    \"glider pilot\",\n",
    "    \"USAAF pilot\",\n",
    "    \"test pilot\",\n",
    "    \"WASP pilot\",\n",
    "    \"pilot\",\n",
    "    \"Lancaster aircraft\",\n",
    "    \"leader of Operation Halyard\",\n",
    "    \"Al Shabaab leader\",\n",
    "    \"recipient of the Knight Cross of the Iron Cross during World War II\",\n",
    "    \"member of the Tuskegee Airmen during World War II\",\n",
    "    \"commander of the World War II Tuskegee Airmen\",\n",
    "    \"member of the Resistance during World War II\",\n",
    "    \"member of the Waffen SS during World War II\",\n",
    "    \"World War II Tuskegee Airman fighter pilot\",\n",
    "    \"Colditz Castle escapee during World War II\",\n",
    "    \"an ace nightfighter pilot in World War II\",\n",
    "    \"destroyer commander during World War II\",\n",
    "    \"resistance fighter during World War II\",\n",
    "    \"squadron commander during World War II\",\n",
    "    \"resistance member during World War II\",\n",
    "    \"Wehrmacht general during World War II\",\n",
    "    \"during World War II\",\n",
    "    \"Chetnik commander during World War II\",\n",
    "    \"World War II prisoner of war escapee\",\n",
    "    \"U boat commander during World War II\",\n",
    "    \"prisoner of war during World War II\",\n",
    "    \"mine specialist during World War II\",\n",
    "    \"anti resisister during World War II\",\n",
    "    \"World War II foreign\",\n",
    "    \"highly decorated World War II hero\",\n",
    "    \"SOE operative during World War II\",\n",
    "    \"fighter pilot during World War II\",\n",
    "    \"World War II submarine commander\",\n",
    "    \"war criminal during World War II\",\n",
    "    \"flying ace during World War II\",\n",
    "    \"World War II resistance member\",\n",
    "    \"World War II resistance worker\",\n",
    "    \"SS captain during World War II\",\n",
    "    \"SS officer during World War II\",\n",
    "    \"navigator during World War II\",\n",
    "    \"SEO agent during World War II\",\n",
    "    \"World War II partisan fighter\",\n",
    "    \"general during World War II\",\n",
    "    \"World War II fighter pilot\",\n",
    "    \"World War II bomber pilot\",\n",
    "    \"World War II codebreaker\",\n",
    "    \"World War II fighter ace\",\n",
    "    \"World War II flying ace\",\n",
    "    \"World War II aviator\",\n",
    "    \"World War II pilot\",\n",
    "    \"after World War II\",\n",
    "    \"World War II hero\",\n",
    "    \"naval secretary\",\n",
    "    \"naval officer\",\n",
    "    \"naval aviator\",\n",
    "    \"naval\",\n",
    "    \"intelligence official in the Central Intelligence Agency\",\n",
    "    \"intelligence official\",\n",
    "    \"Pentagon official\",\n",
    "    \"Al Qaeda official\",\n",
    "    \"security official\",\n",
    "]\n",
    "law_enf_military_operator = sorted(\n",
    "    list(set(law_enf_military_operator)), key=lambda x: len(x), reverse=True\n",
    ")\n",
    "\n",
    "spiritual = [\n",
    "    \"Catholic cardinal\",\n",
    "    \"first cardinal\",\n",
    "    \"cardinal\",\n",
    "    \"religious leader\",\n",
    "    \"Shinshu Buddhist priest\",\n",
    "    \"Zen Buddhist priest\",\n",
    "    \"Church of priest\",\n",
    "    \"Catholic priest\",\n",
    "    \"Anglican priest\",\n",
    "    \"an priest\",\n",
    "    \"priest\",\n",
    "    \"gospel\",\n",
    "    \"expert on biblical manuscripts\",\n",
    "    \"biblical\",\n",
    "    \"bible\",\n",
    "    \"Orthodox rabbi\",\n",
    "    \"Reform rabbi\",\n",
    "    \"chief rabbi\",\n",
    "    \"rabbi\",\n",
    "    \"principal theorist of Re evaluation Counseling\",\n",
    "]\n",
    "spiritual = sorted(list(set(spiritual)), key=lambda x: len(x), reverse=True)\n",
    "\n",
    "social = [\n",
    "    \"scouting leader\",\n",
    "    \"Jewish community leader\",\n",
    "    \"Muslim community leader\",\n",
    "    \"social worker\",\n",
    "    \"pastor of the Worldwide Church of God\",\n",
    "    \"megachurch pastor\",\n",
    "    \"Baptist pastor\",\n",
    "    \"pastor\",\n",
    "]\n",
    "social = sorted(list(set(social)), key=lambda x: len(x), reverse=True)\n",
    "\n",
    "crime = [\n",
    "    \"carjacker\",\n",
    "    \"hostage taker\",\n",
    "    \"rapist\",\n",
    "    \"father murderer of Marvin Gaye\",\n",
    "    \"murderer of Gianni Versace\",\n",
    "    \"mass murderer\",\n",
    "    \"high ranking leader of the Sinaloa Cartel\",\n",
    "    \"self confessed serial killer\",\n",
    "    \"suspected serial killer\",\n",
    "    \"serial killer\",\n",
    "    \"spree killer\",\n",
    "    \"killer\",\n",
    "    \"fraudster\",\n",
    "    \"war criminal during World War II\",\n",
    "    \"gangland criminal\",\n",
    "]\n",
    "crime = sorted(list(set(crime)), key=lambda x: len(x), reverse=True)\n",
    "\n",
    "event_record_other = [\n",
    "    \"Islamic jihad hostage\",\n",
    "    \"hostage killed in\",\n",
    "    \"ISIS hostage\",\n",
    "    \"AQAP hostage\",\n",
    "    \"suspected murderer of Olof Palme\",\n",
    "    \"suspected murderer\",\n",
    "    \"suspected murderer of rapper Tupac Shakur\",\n",
    "    'later pardoned of being World War II propagandist \"Tokyo Rose\"',\n",
    "    \"murder victim whose killing was documented in the movie: Dear Zachary\",\n",
    "    \"anthrax attack victim\",\n",
    "    \"killing spree victim\",\n",
    "    \"vilification victim\",\n",
    "    \"kidnapping victim\",\n",
    "    \"Unabomber victim\",\n",
    "    \"victims advocate\",\n",
    "    \"assault victim\",\n",
    "    \"murder victim\",\n",
    "    \"kidnap victim\",\n",
    "    \"hazing victim\",\n",
    "    \"polio victim\",\n",
    "    \"ETA victim\",\n",
    "    \"neo victim\",\n",
    "    \"victim\",\n",
    "    \"alleged war criminal\",\n",
    "]\n",
    "event_record_other = sorted(\n",
    "    list(set(event_record_other)), key=lambda x: len(x), reverse=True\n",
    ")\n",
    "\n",
    "other_species = []\n",
    "other_species = sorted(list(set(other_species)), key=lambda x: len(x), reverse=True)"
   ]
  },
  {
   "cell_type": "code",
   "execution_count": 76,
   "id": "094b14f7",
   "metadata": {},
   "outputs": [
    {
     "data": {
      "application/javascript": [
       "\n",
       "            setTimeout(function() {\n",
       "                var nbb_cell_id = 76;\n",
       "                var nbb_unformatted_code = \"# Hard-coding info_2_1 value for entry to correctly categorize\\nindex = df[df[\\\"link\\\"] == \\\"https://en.wikipedia.org/wiki/William_Salice\\\"].index\\ndf.loc[index, \\\"info_2_1\\\"] = \\\"arts\\\"\\n\\n# Dropping info_2_1 value for entries where value is redundant for category\\ndf.loc[\\n    [index for index in df.index if df.loc[index, \\\"info_2_1\\\"] == \\\"promoter\\\"], \\\"info_2_1\\\"\\n] = \\\"\\\"\\n\\n# Hard-coding info_2_1 value for entry to correctly categorize\\nindex = df[df[\\\"link\\\"] == \\\"https://en.wikipedia.org/wiki/Canaan_Banana\\\"].index\\ndf.loc[index, \\\"info_2_1\\\"] = \\\"religous\\\"\\n\\n# Hard-coding info_2_1 value for entry to correctly categorize\\nindex = df[df[\\\"link\\\"] == \\\"https://en.wikipedia.org/wiki/Bobbi_Jean_Baker\\\"].index\\ndf.loc[index, \\\"info_2_1\\\"] = \\\"religous\\\"\\n\\n# Dropping info_2_1 value for entries where value is redundant for category\\ndf.loc[\\n    [index for index in df.index if df.loc[index, \\\"info_2_1\\\"] == \\\"scout\\\"], \\\"info_2_1\\\"\\n] = \\\"\\\"\\n\\n# Dropping info_2_1 value for entries where value is redundant for category\\ndf.loc[\\n    [\\n        index\\n        for index in df.index\\n        if df.loc[index, \\\"info_2_1\\\"] == \\\"Nobel Prize laureate\\\"\\n    ],\\n    \\\"info_2_1\\\",\\n] = \\\"\\\"\";\n",
       "                var nbb_formatted_code = \"# Hard-coding info_2_1 value for entry to correctly categorize\\nindex = df[df[\\\"link\\\"] == \\\"https://en.wikipedia.org/wiki/William_Salice\\\"].index\\ndf.loc[index, \\\"info_2_1\\\"] = \\\"arts\\\"\\n\\n# Dropping info_2_1 value for entries where value is redundant for category\\ndf.loc[\\n    [index for index in df.index if df.loc[index, \\\"info_2_1\\\"] == \\\"promoter\\\"], \\\"info_2_1\\\"\\n] = \\\"\\\"\\n\\n# Hard-coding info_2_1 value for entry to correctly categorize\\nindex = df[df[\\\"link\\\"] == \\\"https://en.wikipedia.org/wiki/Canaan_Banana\\\"].index\\ndf.loc[index, \\\"info_2_1\\\"] = \\\"religous\\\"\\n\\n# Hard-coding info_2_1 value for entry to correctly categorize\\nindex = df[df[\\\"link\\\"] == \\\"https://en.wikipedia.org/wiki/Bobbi_Jean_Baker\\\"].index\\ndf.loc[index, \\\"info_2_1\\\"] = \\\"religous\\\"\\n\\n# Dropping info_2_1 value for entries where value is redundant for category\\ndf.loc[\\n    [index for index in df.index if df.loc[index, \\\"info_2_1\\\"] == \\\"scout\\\"], \\\"info_2_1\\\"\\n] = \\\"\\\"\\n\\n# Dropping info_2_1 value for entries where value is redundant for category\\ndf.loc[\\n    [\\n        index\\n        for index in df.index\\n        if df.loc[index, \\\"info_2_1\\\"] == \\\"Nobel Prize laureate\\\"\\n    ],\\n    \\\"info_2_1\\\",\\n] = \\\"\\\"\";\n",
       "                var nbb_cells = Jupyter.notebook.get_cells();\n",
       "                for (var i = 0; i < nbb_cells.length; ++i) {\n",
       "                    if (nbb_cells[i].input_prompt_number == nbb_cell_id) {\n",
       "                        if (nbb_cells[i].get_text() == nbb_unformatted_code) {\n",
       "                             nbb_cells[i].set_text(nbb_formatted_code);\n",
       "                        }\n",
       "                        break;\n",
       "                    }\n",
       "                }\n",
       "            }, 500);\n",
       "            "
      ],
      "text/plain": [
       "<IPython.core.display.Javascript object>"
      ]
     },
     "metadata": {},
     "output_type": "display_data"
    }
   ],
   "source": [
    "# Hard-coding info_2_1 value for entry to correctly categorize\n",
    "index = df[df[\"link\"] == \"https://en.wikipedia.org/wiki/William_Salice\"].index\n",
    "df.loc[index, \"info_2_1\"] = \"arts\"\n",
    "\n",
    "# Dropping info_2_1 value for entries where value is redundant for category\n",
    "df.loc[\n",
    "    [index for index in df.index if df.loc[index, \"info_2_1\"] == \"promoter\"], \"info_2_1\"\n",
    "] = \"\"\n",
    "\n",
    "# Hard-coding info_2_1 value for entry to correctly categorize\n",
    "index = df[df[\"link\"] == \"https://en.wikipedia.org/wiki/Canaan_Banana\"].index\n",
    "df.loc[index, \"info_2_1\"] = \"religous\"\n",
    "\n",
    "# Hard-coding info_2_1 value for entry to correctly categorize\n",
    "index = df[df[\"link\"] == \"https://en.wikipedia.org/wiki/Bobbi_Jean_Baker\"].index\n",
    "df.loc[index, \"info_2_1\"] = \"religous\"\n",
    "\n",
    "# Dropping info_2_1 value for entries where value is redundant for category\n",
    "df.loc[\n",
    "    [index for index in df.index if df.loc[index, \"info_2_1\"] == \"scout\"], \"info_2_1\"\n",
    "] = \"\"\n",
    "\n",
    "# Dropping info_2_1 value for entries where value is redundant for category\n",
    "df.loc[\n",
    "    [\n",
    "        index\n",
    "        for index in df.index\n",
    "        if df.loc[index, \"info_2_1\"] == \"Nobel Prize laureate\"\n",
    "    ],\n",
    "    \"info_2_1\",\n",
    "] = \"\""
   ]
  },
  {
   "cell_type": "markdown",
   "id": "59ec7e9b",
   "metadata": {},
   "source": [
    "#### Creating `known_for_dict` Dictionary of Category Keys and Specific Role Lists of Values"
   ]
  },
  {
   "cell_type": "code",
   "execution_count": 77,
   "id": "cfc27607",
   "metadata": {},
   "outputs": [
    {
     "data": {
      "application/javascript": [
       "\n",
       "            setTimeout(function() {\n",
       "                var nbb_cell_id = 77;\n",
       "                var nbb_unformatted_code = \"# Combining separate lists into one dictionary\\nknown_for_dict = {\\n    \\\"social\\\": social,\\n    \\\"spiritual\\\": spiritual,\\n    \\\"academia_humanities\\\": academia_humanities,\\n    \\\"business_farming\\\": business_farming,\\n    \\\"sciences\\\": sciences,\\n    \\\"politics_govt_law\\\": politics_govt_law,\\n    \\\"law_enf_military_operator\\\": law_enf_military_operator,\\n    \\\"crime\\\": crime,\\n    \\\"event_record_other\\\": event_record_other,\\n    \\\"other_species\\\": other_species,\\n    \\\"arts\\\": arts,\\n    \\\"sports\\\": sports,\\n}\";\n",
       "                var nbb_formatted_code = \"# Combining separate lists into one dictionary\\nknown_for_dict = {\\n    \\\"social\\\": social,\\n    \\\"spiritual\\\": spiritual,\\n    \\\"academia_humanities\\\": academia_humanities,\\n    \\\"business_farming\\\": business_farming,\\n    \\\"sciences\\\": sciences,\\n    \\\"politics_govt_law\\\": politics_govt_law,\\n    \\\"law_enf_military_operator\\\": law_enf_military_operator,\\n    \\\"crime\\\": crime,\\n    \\\"event_record_other\\\": event_record_other,\\n    \\\"other_species\\\": other_species,\\n    \\\"arts\\\": arts,\\n    \\\"sports\\\": sports,\\n}\";\n",
       "                var nbb_cells = Jupyter.notebook.get_cells();\n",
       "                for (var i = 0; i < nbb_cells.length; ++i) {\n",
       "                    if (nbb_cells[i].input_prompt_number == nbb_cell_id) {\n",
       "                        if (nbb_cells[i].get_text() == nbb_unformatted_code) {\n",
       "                             nbb_cells[i].set_text(nbb_formatted_code);\n",
       "                        }\n",
       "                        break;\n",
       "                    }\n",
       "                }\n",
       "            }, 500);\n",
       "            "
      ],
      "text/plain": [
       "<IPython.core.display.Javascript object>"
      ]
     },
     "metadata": {},
     "output_type": "display_data"
    }
   ],
   "source": [
    "# Combining separate lists into one dictionary\n",
    "known_for_dict = {\n",
    "    \"social\": social,\n",
    "    \"spiritual\": spiritual,\n",
    "    \"academia_humanities\": academia_humanities,\n",
    "    \"business_farming\": business_farming,\n",
    "    \"sciences\": sciences,\n",
    "    \"politics_govt_law\": politics_govt_law,\n",
    "    \"law_enf_military_operator\": law_enf_military_operator,\n",
    "    \"crime\": crime,\n",
    "    \"event_record_other\": event_record_other,\n",
    "    \"other_species\": other_species,\n",
    "    \"arts\": arts,\n",
    "    \"sports\": sports,\n",
    "}"
   ]
  },
  {
   "cell_type": "markdown",
   "id": "2dac08ae",
   "metadata": {},
   "source": [
    "#### Extracting Category from `info_2_1`"
   ]
  },
  {
   "cell_type": "code",
   "execution_count": 78,
   "id": "ca53f92f",
   "metadata": {},
   "outputs": [
    {
     "name": "stdout",
     "output_type": "stream",
     "text": [
      "CPU times: total: 53.4 s\n",
      "Wall time: 53.4 s\n"
     ]
    },
    {
     "data": {
      "application/javascript": [
       "\n",
       "            setTimeout(function() {\n",
       "                var nbb_cell_id = 78;\n",
       "                var nbb_unformatted_code = \"%%time\\n\\n# Column to check\\ncolumn = 'info_2_1'\\n\\n# Start dataframe\\ndataframe = df[df[column].notna()]\\n\\n# For loop to find role in column and extract it as category\\nfor category, category_lst in known_for_dict.items():\\n    for role in category_lst:\\n        for index in dataframe.index:\\n                item = df.loc[index, column]\\n                if item:\\n                    if role in item:\\n                        df.loc[index, category] = 1\\n                        df.loc[index, column] = item.replace(role, '').strip()\\n\\n# Calculating num_categories\\ndf[\\\"num_categories\\\"] = df[known_for_dict.keys()].sum(axis=1)\";\n",
       "                var nbb_formatted_code = \"%%time\\n\\n# Column to check\\ncolumn = 'info_2_1'\\n\\n# Start dataframe\\ndataframe = df[df[column].notna()]\\n\\n# For loop to find role in column and extract it as category\\nfor category, category_lst in known_for_dict.items():\\n    for role in category_lst:\\n        for index in dataframe.index:\\n                item = df.loc[index, column]\\n                if item:\\n                    if role in item:\\n                        df.loc[index, category] = 1\\n                        df.loc[index, column] = item.replace(role, '').strip()\\n\\n# Calculating num_categories\\ndf[\\\"num_categories\\\"] = df[known_for_dict.keys()].sum(axis=1)\";\n",
       "                var nbb_cells = Jupyter.notebook.get_cells();\n",
       "                for (var i = 0; i < nbb_cells.length; ++i) {\n",
       "                    if (nbb_cells[i].input_prompt_number == nbb_cell_id) {\n",
       "                        if (nbb_cells[i].get_text() == nbb_unformatted_code) {\n",
       "                             nbb_cells[i].set_text(nbb_formatted_code);\n",
       "                        }\n",
       "                        break;\n",
       "                    }\n",
       "                }\n",
       "            }, 500);\n",
       "            "
      ],
      "text/plain": [
       "<IPython.core.display.Javascript object>"
      ]
     },
     "metadata": {},
     "output_type": "display_data"
    }
   ],
   "source": [
    "%%time\n",
    "\n",
    "# Column to check\n",
    "column = 'info_2_1'\n",
    "\n",
    "# Start dataframe\n",
    "dataframe = df[df[column].notna()]\n",
    "\n",
    "# For loop to find role in column and extract it as category\n",
    "for category, category_lst in known_for_dict.items():\n",
    "    for role in category_lst:\n",
    "        for index in dataframe.index:\n",
    "                item = df.loc[index, column]\n",
    "                if item:\n",
    "                    if role in item:\n",
    "                        df.loc[index, category] = 1\n",
    "                        df.loc[index, column] = item.replace(role, '').strip()\n",
    "\n",
    "# Calculating num_categories\n",
    "df[\"num_categories\"] = df[known_for_dict.keys()].sum(axis=1)"
   ]
  },
  {
   "cell_type": "markdown",
   "id": "9d30a84d",
   "metadata": {},
   "source": [
    "#### Checking Updated `num_categories` Value Counts"
   ]
  },
  {
   "cell_type": "code",
   "execution_count": 79,
   "id": "c1d19378",
   "metadata": {},
   "outputs": [
    {
     "data": {
      "text/plain": [
       "1    89143\n",
       "2     8698\n",
       "3      132\n",
       "0       71\n",
       "Name: num_categories, dtype: int64"
      ]
     },
     "execution_count": 79,
     "metadata": {},
     "output_type": "execute_result"
    },
    {
     "data": {
      "application/javascript": [
       "\n",
       "            setTimeout(function() {\n",
       "                var nbb_cell_id = 79;\n",
       "                var nbb_unformatted_code = \"# Checking updated num_categories value counts\\ndf[\\\"num_categories\\\"].value_counts()\";\n",
       "                var nbb_formatted_code = \"# Checking updated num_categories value counts\\ndf[\\\"num_categories\\\"].value_counts()\";\n",
       "                var nbb_cells = Jupyter.notebook.get_cells();\n",
       "                for (var i = 0; i < nbb_cells.length; ++i) {\n",
       "                    if (nbb_cells[i].input_prompt_number == nbb_cell_id) {\n",
       "                        if (nbb_cells[i].get_text() == nbb_unformatted_code) {\n",
       "                             nbb_cells[i].set_text(nbb_formatted_code);\n",
       "                        }\n",
       "                        break;\n",
       "                    }\n",
       "                }\n",
       "            }, 500);\n",
       "            "
      ],
      "text/plain": [
       "<IPython.core.display.Javascript object>"
      ]
     },
     "metadata": {},
     "output_type": "display_data"
    }
   ],
   "source": [
    "# Checking updated num_categories value counts\n",
    "df[\"num_categories\"].value_counts()"
   ]
  },
  {
   "cell_type": "markdown",
   "id": "48f618d7",
   "metadata": {},
   "source": [
    "#### Observations:\n",
    "- We will proceed to rebuild `known_for_dict` for the next iteration."
   ]
  },
  {
   "cell_type": "markdown",
   "id": "0e03b8e4",
   "metadata": {},
   "source": [
    "#### Finding `known_for` Roles in `info_2_1`"
   ]
  },
  {
   "cell_type": "code",
   "execution_count": 80,
   "id": "46b38f83",
   "metadata": {},
   "outputs": [
    {
     "data": {
      "application/javascript": [
       "\n",
       "            setTimeout(function() {\n",
       "                var nbb_cell_id = 80;\n",
       "                var nbb_unformatted_code = \"# # Obtaining values for column and their counts\\n# roles_list = df[\\\"info_2_1\\\"].value_counts(ascending=True).index.tolist()\";\n",
       "                var nbb_formatted_code = \"# # Obtaining values for column and their counts\\n# roles_list = df[\\\"info_2_1\\\"].value_counts(ascending=True).index.tolist()\";\n",
       "                var nbb_cells = Jupyter.notebook.get_cells();\n",
       "                for (var i = 0; i < nbb_cells.length; ++i) {\n",
       "                    if (nbb_cells[i].input_prompt_number == nbb_cell_id) {\n",
       "                        if (nbb_cells[i].get_text() == nbb_unformatted_code) {\n",
       "                             nbb_cells[i].set_text(nbb_formatted_code);\n",
       "                        }\n",
       "                        break;\n",
       "                    }\n",
       "                }\n",
       "            }, 500);\n",
       "            "
      ],
      "text/plain": [
       "<IPython.core.display.Javascript object>"
      ]
     },
     "metadata": {},
     "output_type": "display_data"
    }
   ],
   "source": [
    "# # Obtaining values for column and their counts\n",
    "# roles_list = df[\"info_2_1\"].value_counts(ascending=True).index.tolist()"
   ]
  },
  {
   "cell_type": "code",
   "execution_count": 81,
   "id": "a8cdb082",
   "metadata": {},
   "outputs": [
    {
     "data": {
      "application/javascript": [
       "\n",
       "            setTimeout(function() {\n",
       "                var nbb_cell_id = 81;\n",
       "                var nbb_unformatted_code = \"# # Code to check each value\\n# roles_list.pop()\";\n",
       "                var nbb_formatted_code = \"# # Code to check each value\\n# roles_list.pop()\";\n",
       "                var nbb_cells = Jupyter.notebook.get_cells();\n",
       "                for (var i = 0; i < nbb_cells.length; ++i) {\n",
       "                    if (nbb_cells[i].input_prompt_number == nbb_cell_id) {\n",
       "                        if (nbb_cells[i].get_text() == nbb_unformatted_code) {\n",
       "                             nbb_cells[i].set_text(nbb_formatted_code);\n",
       "                        }\n",
       "                        break;\n",
       "                    }\n",
       "                }\n",
       "            }, 500);\n",
       "            "
      ],
      "text/plain": [
       "<IPython.core.display.Javascript object>"
      ]
     },
     "metadata": {},
     "output_type": "display_data"
    }
   ],
   "source": [
    "# # Code to check each value\n",
    "# roles_list.pop()"
   ]
  },
  {
   "cell_type": "code",
   "execution_count": 82,
   "id": "3f58db7d",
   "metadata": {},
   "outputs": [
    {
     "data": {
      "application/javascript": [
       "\n",
       "            setTimeout(function() {\n",
       "                var nbb_cell_id = 82;\n",
       "                var nbb_unformatted_code = \"# # Create specific_roles_list for above popped value\\n# specific_roles_list = (\\n#     df.loc[\\n#         [\\n#             index\\n#             for index in df[df[\\\"info_2_1\\\"].notna()].index\\n#             if \\\"militant\\\" in df.loc[index, \\\"info_2_1\\\"]\\n#         ],\\n#         \\\"info_2_1\\\",\\n#     ]\\n#     .value_counts()\\n#     .index.tolist()\\n# )\";\n",
       "                var nbb_formatted_code = \"# # Create specific_roles_list for above popped value\\n# specific_roles_list = (\\n#     df.loc[\\n#         [\\n#             index\\n#             for index in df[df[\\\"info_2_1\\\"].notna()].index\\n#             if \\\"militant\\\" in df.loc[index, \\\"info_2_1\\\"]\\n#         ],\\n#         \\\"info_2_1\\\",\\n#     ]\\n#     .value_counts()\\n#     .index.tolist()\\n# )\";\n",
       "                var nbb_cells = Jupyter.notebook.get_cells();\n",
       "                for (var i = 0; i < nbb_cells.length; ++i) {\n",
       "                    if (nbb_cells[i].input_prompt_number == nbb_cell_id) {\n",
       "                        if (nbb_cells[i].get_text() == nbb_unformatted_code) {\n",
       "                             nbb_cells[i].set_text(nbb_formatted_code);\n",
       "                        }\n",
       "                        break;\n",
       "                    }\n",
       "                }\n",
       "            }, 500);\n",
       "            "
      ],
      "text/plain": [
       "<IPython.core.display.Javascript object>"
      ]
     },
     "metadata": {},
     "output_type": "display_data"
    }
   ],
   "source": [
    "# # Create specific_roles_list for above popped value\n",
    "# specific_roles_list = (\n",
    "#     df.loc[\n",
    "#         [\n",
    "#             index\n",
    "#             for index in df[df[\"info_2_1\"].notna()].index\n",
    "#             if \"militant\" in df.loc[index, \"info_2_1\"]\n",
    "#         ],\n",
    "#         \"info_2_1\",\n",
    "#     ]\n",
    "#     .value_counts()\n",
    "#     .index.tolist()\n",
    "# )"
   ]
  },
  {
   "cell_type": "code",
   "execution_count": 83,
   "id": "707df01e",
   "metadata": {},
   "outputs": [
    {
     "data": {
      "application/javascript": [
       "\n",
       "            setTimeout(function() {\n",
       "                var nbb_cell_id = 83;\n",
       "                var nbb_unformatted_code = \"# # Viewing list sorted by descending length to copy to dictionary below and screen values\\n# sorted(specific_roles_list, key=lambda x: len(x), reverse=True)\";\n",
       "                var nbb_formatted_code = \"# # Viewing list sorted by descending length to copy to dictionary below and screen values\\n# sorted(specific_roles_list, key=lambda x: len(x), reverse=True)\";\n",
       "                var nbb_cells = Jupyter.notebook.get_cells();\n",
       "                for (var i = 0; i < nbb_cells.length; ++i) {\n",
       "                    if (nbb_cells[i].input_prompt_number == nbb_cell_id) {\n",
       "                        if (nbb_cells[i].get_text() == nbb_unformatted_code) {\n",
       "                             nbb_cells[i].set_text(nbb_formatted_code);\n",
       "                        }\n",
       "                        break;\n",
       "                    }\n",
       "                }\n",
       "            }, 500);\n",
       "            "
      ],
      "text/plain": [
       "<IPython.core.display.Javascript object>"
      ]
     },
     "metadata": {},
     "output_type": "display_data"
    }
   ],
   "source": [
    "# # Viewing list sorted by descending length to copy to dictionary below and screen values\n",
    "# sorted(specific_roles_list, key=lambda x: len(x), reverse=True)"
   ]
  },
  {
   "cell_type": "code",
   "execution_count": 84,
   "id": "972f8d8d",
   "metadata": {},
   "outputs": [
    {
     "data": {
      "application/javascript": [
       "\n",
       "            setTimeout(function() {\n",
       "                var nbb_cell_id = 84;\n",
       "                var nbb_unformatted_code = \"# # Example code to check additional category for specific entries\\n# df.loc[\\n#     [\\n#         index\\n#         for index in df.index\\n#         if df.loc[index, \\\"info_2_1\\\"] == \\\"official\\\"\\n#         and df.loc[index, \\\"num_categories\\\"] == 0\\n#     ],\\n#     :,\\n# ]\";\n",
       "                var nbb_formatted_code = \"# # Example code to check additional category for specific entries\\n# df.loc[\\n#     [\\n#         index\\n#         for index in df.index\\n#         if df.loc[index, \\\"info_2_1\\\"] == \\\"official\\\"\\n#         and df.loc[index, \\\"num_categories\\\"] == 0\\n#     ],\\n#     :,\\n# ]\";\n",
       "                var nbb_cells = Jupyter.notebook.get_cells();\n",
       "                for (var i = 0; i < nbb_cells.length; ++i) {\n",
       "                    if (nbb_cells[i].input_prompt_number == nbb_cell_id) {\n",
       "                        if (nbb_cells[i].get_text() == nbb_unformatted_code) {\n",
       "                             nbb_cells[i].set_text(nbb_formatted_code);\n",
       "                        }\n",
       "                        break;\n",
       "                    }\n",
       "                }\n",
       "            }, 500);\n",
       "            "
      ],
      "text/plain": [
       "<IPython.core.display.Javascript object>"
      ]
     },
     "metadata": {},
     "output_type": "display_data"
    }
   ],
   "source": [
    "# # Example code to check additional category for specific entries\n",
    "# df.loc[\n",
    "#     [\n",
    "#         index\n",
    "#         for index in df.index\n",
    "#         if df.loc[index, \"info_2_1\"] == \"official\"\n",
    "#         and df.loc[index, \"num_categories\"] == 0\n",
    "#     ],\n",
    "#     :,\n",
    "# ]"
   ]
  },
  {
   "cell_type": "code",
   "execution_count": 85,
   "id": "314961e8",
   "metadata": {},
   "outputs": [
    {
     "data": {
      "application/javascript": [
       "\n",
       "            setTimeout(function() {\n",
       "                var nbb_cell_id = 85;\n",
       "                var nbb_unformatted_code = \"# # Example code to quick-check a specific entry\\n# df[df[\\\"info_2_1\\\"] == \\\"murdered by militants in the West Bank city of Ramallah\\\"]\";\n",
       "                var nbb_formatted_code = \"# # Example code to quick-check a specific entry\\n# df[df[\\\"info_2_1\\\"] == \\\"murdered by militants in the West Bank city of Ramallah\\\"]\";\n",
       "                var nbb_cells = Jupyter.notebook.get_cells();\n",
       "                for (var i = 0; i < nbb_cells.length; ++i) {\n",
       "                    if (nbb_cells[i].input_prompt_number == nbb_cell_id) {\n",
       "                        if (nbb_cells[i].get_text() == nbb_unformatted_code) {\n",
       "                             nbb_cells[i].set_text(nbb_formatted_code);\n",
       "                        }\n",
       "                        break;\n",
       "                    }\n",
       "                }\n",
       "            }, 500);\n",
       "            "
      ],
      "text/plain": [
       "<IPython.core.display.Javascript object>"
      ]
     },
     "metadata": {},
     "output_type": "display_data"
    }
   ],
   "source": [
    "# # Example code to quick-check a specific entry\n",
    "# df[df[\"info_2_1\"] == \"murdered by militants in the West Bank city of Ramallah\"]"
   ]
  },
  {
   "cell_type": "markdown",
   "id": "1e2b93c3",
   "metadata": {},
   "source": [
    "#### Creating Lists for Each `known_for` Category"
   ]
  },
  {
   "cell_type": "code",
   "execution_count": 86,
   "id": "3b2485da",
   "metadata": {},
   "outputs": [
    {
     "data": {
      "application/javascript": [
       "\n",
       "            setTimeout(function() {\n",
       "                var nbb_cell_id = 86;\n",
       "                var nbb_unformatted_code = \"# Creating lists for each category and sorting by decreasing length and removing duplicates\\n\\npolitics_govt_law = [\\n    \\\"former Conservative Party Chancellor of the Exchequer\\\",\\n    \\\"presidential candidate for the Libertarian Party\\\",\\n    \\\"member of the Communist Party of\\\",\\n    \\\"chairman of the Communist Party\\\",\\n    \\\"the Communist Party of Great\\\",\\n    \\\"partner of nationalist Subhas Chandra Bose\\\",\\n    \\\"partner in Jacoby & Meyers\\\",\\n    \\\"parliamentarian for the Peronist party\\\",\\n    \\\"party functionary\\\",\\n    \\\"fourth Governor general of\\\",\\n    \\\"th Prime Minister of land\\\",\\n    \\\"Deputy Prime Minister of\\\",\\n    \\\"the th Prime Minister of\\\",\\n    \\\"first Prime Minister of\\\",\\n    \\\"former Prime Minister\\\",\\n    \\\"Prime Minister of\\\",\\n    \\\"Prime Minister\\\",\\n    \\\"barrister\\\",\\n    \\\"anti Castro lobbyist\\\",\\n    \\\"labor lobbyist\\\",\\n    \\\"lobbyist\\\",\\n    \\\"advocate for women reproductive rights\\\",\\n    \\\"women reproductive health advocate\\\",\\n    \\\"advocate of freedom of the press\\\",\\n    \\\"disabled people rights advocate\\\",\\n    \\\"intellectual freedom advocate\\\",\\n    \\\"reproductive rights advocate\\\",\\n    \\\"anti death penalty advocate\\\",\\n    \\\"indigenous rights advocate\\\",\\n    \\\"assisted suicide advocate\\\",\\n    \\\"patients' rights advocate\\\",\\n    \\\"abortion rights advocate\\\",\\n    \\\"patient rights advocate\\\",\\n    \\\"tribal rights advocate\\\",\\n    \\\"death penalty advocate\\\",\\n    \\\"animal rights advocate\\\",\\n    \\\"women rights advocate\\\",\\n    \\\"human rights advocate\\\",\\n    \\\"anti torture advocate\\\",\\n    \\\"independence advocate\\\",\\n    \\\"anti tobacco advocate\\\",\\n    \\\"gun control advocate\\\",\\n    \\\"deaf rights advocate\\\",\\n    \\\"free speech advocate\\\",\\n    \\\"sex worker advocate\\\",\\n    \\\"euthanasia advocate\\\",\\n    \\\"gay rights advocate\\\",\\n    \\\"Men rights advocate\\\",\\n    \\\"marijuana advocate\\\",\\n    \\\"peace advocate\\\",\\n    \\\"LGBT advocate\\\",\\n    \\\"Vice President of the National Congress\\\",\\n    \\\"Presidential candidate George McGovern\\\",\\n    \\\"wife of Vice President Hubert Humphrey\\\",\\n    \\\"spokesman for President Richard Nixon\\\",\\n    \\\"Socialist candidate for President in\\\",\\n    \\\"President of the United Auto Workers\\\",\\n    \\\"member of Presidential commissions\\\",\\n    \\\"Vice President of the Commission\\\",\\n    \\\"President of during The Junta\\\",\\n    \\\"President Georges Pompidou\\\",\\n    \\\"fifth President of from to\\\",\\n    \\\"four term President of\\\",\\n    \\\"President of istan\\\",\\n    \\\"vice President of\\\",\\n    \\\"laureate of the Nobel Memorial Prize in Economic Sciences\\\",\\n    \\\"revolutionary\\\",\\n    \\\"solicitor\\\",\\n    \\\"scientific adviser\\\",\\n    \\\"prosecutor at the Nuremberg war crimes trials\\\",\\n    \\\"prosecutor\\\",\\n]\\npolitics_govt_law = sorted(\\n    list(set(politics_govt_law)), key=lambda x: len(x), reverse=True\\n)\\n\\narts = [\\n    \\\"designer\\\",\\n    \\\"proponent of the Hollow Earth concept\\\",\\n    \\\"Pulitzer Prize winning foreign correspondent\\\",\\n    \\\"award winning foreign correspondent\\\",\\n    \\\"Army art correspondent\\\",\\n    \\\"foreign correspondent\\\",\\n    \\\"news correspondent\\\",\\n    \\\"correspondent\\\",\\n    \\\"radio innovator\\\",\\n    \\\"radio analyst\\\",\\n    \\\"engraver\\\",\\n    \\\"nightclub owner\\\",\\n    \\\"club owner\\\",\\n    \\\"winner of the Pulitzer Prize\\\",\\n    \\\"Pulitzer prize winning\\\",\\n    \\\"Pulitzer Prize winner\\\",\\n    \\\"Pulitzer prize winner\\\",\\n    \\\"magician\\\",\\n    \\\"clarinetist\\\",\\n    \\\"studio potter\\\",\\n    \\\"potter\\\",\\n    \\\"humorist\\\",\\n    \\\"choirmaster\\\",\\n    \\\"film\\\",\\n    \\\"rapper\\\",\\n    \\\"flautist\\\",\\n]\\narts = sorted(list(set(arts)), key=lambda x: len(x), reverse=True)\\n\\nsports = [\\n    \\\"caster\\\",\\n    \\\"last living participant in the first F World Championship race\\\",\\n    \\\"limited partner for the Yankees\\\",\\n    \\\"general secretary of FIFA\\\",\\n    \\\"a former owner of the Toronto Maple Leafs\\\",\\n    \\\"part owner of the Atlanta Braves\\\",\\n    \\\"owner of Thoroughbred racehorses\\\",\\n    \\\"thoroughbred racehorse owner\\\",\\n    \\\"Thoroughbred racehorse owner\\\",\\n    \\\"co owner of the New Nets\\\",\\n    \\\"owner of Coolmore Stud\\\",\\n    \\\"sport franchise owner\\\",\\n    \\\"billiard hall owner\\\",\\n    \\\"Rangers part owner\\\",\\n    \\\"horse stable owner\\\",\\n    \\\"owner of the Jets\\\",\\n    \\\"racehorse owner\\\",\\n    \\\"former President of the ICSD\\\",\\n    \\\"middle distance runner\\\",\\n    \\\"long distance runner\\\",\\n    \\\"triathlon runner\\\",\\n    \\\"marathon runner\\\",\\n    \\\"runner\\\",\\n]\\nsports = sorted(list(set(sports)), key=lambda x: len(x), reverse=True)\\n\\nsciences = [\\n    \\\"car\\\",\\n    \\\"automotive\\\",\\n    \\\"expert on the geology of Earth\\\",\\n    \\\"computer programmer\\\",\\n    \\\"programmer\\\",\\n    \\\"recipient of the Nobel Prize in Physiology or Medicine\\\",\\n    \\\"recipient of the Nobel Prize in Chemistry\\\",\\n    \\\"recipient of the Nobel Prize in Physics\\\",\\n    \\\"recipient of the Nobel Prize in Physiology or Medicine\\\",\\n    \\\"Nobel Prize in Physiology or Medicine laureate\\\",\\n    \\\"recipient of the Nobel Prize in Chemistry\\\",\\n    \\\"a winner of the Nobel Prize in Physics in\\\",\\n    \\\"co winner of Nobel Prize in Chemistry in\\\",\\n    \\\"recipient of the Nobel Prize in Physics\\\",\\n    \\\"co winner of Nobel Prize in Physics in\\\",\\n    \\\"winner of the Nobel Prize in Physics\\\",\\n    \\\"Nobel Prize for Chemistry laureate\\\",\\n    \\\"Nobel Prize Laureate\\\",\\n    \\\"a pioneer in artificial intelligence\\\",\\n    \\\"pioneer in artificial intelligence\\\",\\n    \\\"artificial intelligence pioneer\\\",\\n    \\\"demographer\\\",\\n    \\\"logician in the analytic tradition\\\",\\n    \\\"scientific expert\\\",\\n    \\\"scientific\\\",\\n    \\\"naturalist\\\",\\n]\\nsciences = sorted(list(set(sciences)), key=lambda x: len(x), reverse=True)\\n\\nbusiness_farming = [\\n    \\\"fitness centre owner\\\",\\n    \\\"recipient of the World Food Prize\\\",\\n]\\nbusiness_farming = sorted(\\n    list(set(business_farming)), key=lambda x: len(x), reverse=True\\n)\\n\\nacademia_humanities = [\\n    \\\"theorist in Arte Povera movement\\\",\\n    \\\"theorist\\\",\\n    \\\"researcher\\\",\\n    \\\"instructor\\\",\\n    \\\"Yiddish language preservationist\\\",\\n    \\\"art preservationist\\\",\\n    \\\"preservationist\\\",\\n    \\\"sinologist\\\",\\n    \\\"philatelist\\\",\\n    \\\"intellectual\\\",\\n    \\\"pedagogist\\\",\\n    \\\"pedagogue\\\",\\n    \\\"ethnographer\\\",\\n]\\nacademia_humanities = sorted(\\n    list(set(academia_humanities)), key=lambda x: len(x), reverse=True\\n)\\n\\nlaw_enf_military_operator = [\\n    \\\"military\\\",\\n    \\\"recipient of the Navy Cross\\\",\\n    \\\"Navy SEAL sniper\\\",\\n    \\\"Navy\\\",\\n    \\\"Navy officer\\\",\\n    \\\"lieutenant general in the Marine Corps\\\",\\n    \\\"Illinois inspector general\\\",\\n    \\\"Air Force major general\\\",\\n    \\\"a general of the Army\\\",\\n    \\\"lieutenant general\\\",\\n    \\\"brigadier general\\\",\\n    \\\"a brigade general\\\",\\n    \\\"airforce general\\\",\\n    \\\"Colonel general\\\",\\n    \\\"major general\\\",\\n    \\\"ARVN general\\\",\\n    \\\"WW II flying ace\\\",\\n    \\\"WWII flying ace\\\",\\n    \\\"flying ace\\\",\\n    \\\"Hero of the Union for his actions during WWII\\\",\\n    \\\"squadron navigator during WWII\\\",\\n    \\\"gunner during WW II\\\",\\n    \\\"WWII who claimed to have been the inspiration for\\\",\\n    \\\"RAF radio operator\\\",\\n    \\\"radio operator\\\",\\n    \\\"recipient of the Knight Cross of the Iron Cross\\\",\\n    \\\"Distinguished Flying Cross recipient\\\",\\n    \\\"recipient of the Victoria Cross\\\",\\n    \\\"recipient of nine purple hearts\\\",\\n    \\\"recipient of the George Cross\\\",\\n    \\\"recipient of the Silver Star\\\",\\n    \\\"recipient of the Navy Cross\\\",\\n    \\\"Legion of honour recipient\\\",\\n    \\\"Legion of Honour recipient\\\",\\n    \\\"Military Cross recipient\\\",\\n    \\\"Victoria Cross recipient\\\",\\n    \\\"George Cross recipient\\\",\\n    \\\"Iron Cross recipient\\\",\\n    \\\"recipient of the Param Vir Chakra\\\",\\n    \\\"recipient of the Maha Vir Chakra\\\",\\n    \\\"the first chief of intelligence agency\\\",\\n    \\\"Chief of intelligence of South\\\",\\n    \\\"intelligence sergeant major\\\",\\n    \\\"MI intelligence officer\\\",\\n    \\\"intelligence specialist\\\",\\n    \\\"intelligence officer\\\",\\n    \\\"intelligence analyst\\\",\\n    \\\"intelligence expert\\\",\\n    \\\"intelligence chief\\\",\\n    \\\"astronaut candidate\\\",\\n    \\\"astronaut\\\",\\n    \\\"Hero of the Union for his actions during WWII\\\",\\n    \\\"double Hero of the Union\\\",\\n    \\\"Hero of the Union\\\",\\n    \\\"National Hero of\\\",\\n    \\\"Lieutenant General of the People Army of\\\",\\n    \\\"member of the National Liberation Army\\\",\\n    \\\"leader of the Boricua Popular Army\\\",\\n    \\\"Women Army Corps officer\\\",\\n    \\\"Army art correspondent\\\",\\n    \\\"officer in People Army\\\",\\n    \\\"commander of the Army\\\",\\n    \\\"a general of the Army\\\",\\n    \\\"Army first Sergeant\\\",\\n    \\\"chief of Army Staff\\\",\\n    \\\"anti fascist militant\\\",\\n    \\\"Montoneros militant\\\",\\n    \\\"Islamist militant\\\",\\n    \\\"far left militant\\\",\\n    \\\"lmilitant leader\\\",\\n]\\nlaw_enf_military_operator = sorted(\\n    list(set(law_enf_military_operator)), key=lambda x: len(x), reverse=True\\n)\\n\\nspiritual = [\\n    \\\"young Earth creationist\\\",\\n    \\\"leader of religious movement The Family International\\\",\\n    \\\"Catholic lay leader\\\",\\n    \\\"Christian leader\\\",\\n    \\\"church leader\\\",\\n    \\\"Muslim leader\\\",\\n    \\\"sect leader\\\",\\n    \\\"chaplain\\\",\\n    \\\"general superintendent\\\",\\n    \\\"Christian evangelist\\\",\\n    \\\"evangelist\\\",\\n    \\\"Islamic preacher\\\",\\n    \\\"preacher\\\",\\n    \\\"motivational speaker\\\",\\n    \\\"UNICEF Committee President\\\",\\n    \\\"Salvation Army officer\\\",\\n]\\nspiritual = sorted(list(set(spiritual)), key=lambda x: len(x), reverse=True)\\n\\nsocial = [\\n    \\\"advocate for people with disabilities\\\",\\n    \\\"Order of recipient\\\",\\n    \\\"Nobel Peace Prize nominee\\\",\\n]\\nsocial = sorted(list(set(social)), key=lambda x: len(x), reverse=True)\\n\\ncrime = [\\n    'nominal leader of the \\\" Mafia\\\"',\\n    \\\"Sinaloa Cartel leader\\\",\\n    \\\"war criminal\\\",\\n    \\\"criminal\\\",\\n    \\\"sex offender known as the\\\",\\n]\\ncrime = sorted(list(set(crime)), key=lambda x: len(x), reverse=True)\\n\\nevent_record_other = [\\n    \\\"alleged child sex offender\\\",\\n    \\\"supercentenarian\\\",\\n    \\\"centenarian\\\",\\n    \\\"murdered by militants in the West Bank city of Ramallah\\\",\\n]\\nevent_record_other = sorted(\\n    list(set(event_record_other)), key=lambda x: len(x), reverse=True\\n)\\n\\nother_species = []\\nother_species = sorted(list(set(other_species)), key=lambda x: len(x), reverse=True)\";\n",
       "                var nbb_formatted_code = \"# Creating lists for each category and sorting by decreasing length and removing duplicates\\n\\npolitics_govt_law = [\\n    \\\"former Conservative Party Chancellor of the Exchequer\\\",\\n    \\\"presidential candidate for the Libertarian Party\\\",\\n    \\\"member of the Communist Party of\\\",\\n    \\\"chairman of the Communist Party\\\",\\n    \\\"the Communist Party of Great\\\",\\n    \\\"partner of nationalist Subhas Chandra Bose\\\",\\n    \\\"partner in Jacoby & Meyers\\\",\\n    \\\"parliamentarian for the Peronist party\\\",\\n    \\\"party functionary\\\",\\n    \\\"fourth Governor general of\\\",\\n    \\\"th Prime Minister of land\\\",\\n    \\\"Deputy Prime Minister of\\\",\\n    \\\"the th Prime Minister of\\\",\\n    \\\"first Prime Minister of\\\",\\n    \\\"former Prime Minister\\\",\\n    \\\"Prime Minister of\\\",\\n    \\\"Prime Minister\\\",\\n    \\\"barrister\\\",\\n    \\\"anti Castro lobbyist\\\",\\n    \\\"labor lobbyist\\\",\\n    \\\"lobbyist\\\",\\n    \\\"advocate for women reproductive rights\\\",\\n    \\\"women reproductive health advocate\\\",\\n    \\\"advocate of freedom of the press\\\",\\n    \\\"disabled people rights advocate\\\",\\n    \\\"intellectual freedom advocate\\\",\\n    \\\"reproductive rights advocate\\\",\\n    \\\"anti death penalty advocate\\\",\\n    \\\"indigenous rights advocate\\\",\\n    \\\"assisted suicide advocate\\\",\\n    \\\"patients' rights advocate\\\",\\n    \\\"abortion rights advocate\\\",\\n    \\\"patient rights advocate\\\",\\n    \\\"tribal rights advocate\\\",\\n    \\\"death penalty advocate\\\",\\n    \\\"animal rights advocate\\\",\\n    \\\"women rights advocate\\\",\\n    \\\"human rights advocate\\\",\\n    \\\"anti torture advocate\\\",\\n    \\\"independence advocate\\\",\\n    \\\"anti tobacco advocate\\\",\\n    \\\"gun control advocate\\\",\\n    \\\"deaf rights advocate\\\",\\n    \\\"free speech advocate\\\",\\n    \\\"sex worker advocate\\\",\\n    \\\"euthanasia advocate\\\",\\n    \\\"gay rights advocate\\\",\\n    \\\"Men rights advocate\\\",\\n    \\\"marijuana advocate\\\",\\n    \\\"peace advocate\\\",\\n    \\\"LGBT advocate\\\",\\n    \\\"Vice President of the National Congress\\\",\\n    \\\"Presidential candidate George McGovern\\\",\\n    \\\"wife of Vice President Hubert Humphrey\\\",\\n    \\\"spokesman for President Richard Nixon\\\",\\n    \\\"Socialist candidate for President in\\\",\\n    \\\"President of the United Auto Workers\\\",\\n    \\\"member of Presidential commissions\\\",\\n    \\\"Vice President of the Commission\\\",\\n    \\\"President of during The Junta\\\",\\n    \\\"President Georges Pompidou\\\",\\n    \\\"fifth President of from to\\\",\\n    \\\"four term President of\\\",\\n    \\\"President of istan\\\",\\n    \\\"vice President of\\\",\\n    \\\"laureate of the Nobel Memorial Prize in Economic Sciences\\\",\\n    \\\"revolutionary\\\",\\n    \\\"solicitor\\\",\\n    \\\"scientific adviser\\\",\\n    \\\"prosecutor at the Nuremberg war crimes trials\\\",\\n    \\\"prosecutor\\\",\\n]\\npolitics_govt_law = sorted(\\n    list(set(politics_govt_law)), key=lambda x: len(x), reverse=True\\n)\\n\\narts = [\\n    \\\"designer\\\",\\n    \\\"proponent of the Hollow Earth concept\\\",\\n    \\\"Pulitzer Prize winning foreign correspondent\\\",\\n    \\\"award winning foreign correspondent\\\",\\n    \\\"Army art correspondent\\\",\\n    \\\"foreign correspondent\\\",\\n    \\\"news correspondent\\\",\\n    \\\"correspondent\\\",\\n    \\\"radio innovator\\\",\\n    \\\"radio analyst\\\",\\n    \\\"engraver\\\",\\n    \\\"nightclub owner\\\",\\n    \\\"club owner\\\",\\n    \\\"winner of the Pulitzer Prize\\\",\\n    \\\"Pulitzer prize winning\\\",\\n    \\\"Pulitzer Prize winner\\\",\\n    \\\"Pulitzer prize winner\\\",\\n    \\\"magician\\\",\\n    \\\"clarinetist\\\",\\n    \\\"studio potter\\\",\\n    \\\"potter\\\",\\n    \\\"humorist\\\",\\n    \\\"choirmaster\\\",\\n    \\\"film\\\",\\n    \\\"rapper\\\",\\n    \\\"flautist\\\",\\n]\\narts = sorted(list(set(arts)), key=lambda x: len(x), reverse=True)\\n\\nsports = [\\n    \\\"caster\\\",\\n    \\\"last living participant in the first F World Championship race\\\",\\n    \\\"limited partner for the Yankees\\\",\\n    \\\"general secretary of FIFA\\\",\\n    \\\"a former owner of the Toronto Maple Leafs\\\",\\n    \\\"part owner of the Atlanta Braves\\\",\\n    \\\"owner of Thoroughbred racehorses\\\",\\n    \\\"thoroughbred racehorse owner\\\",\\n    \\\"Thoroughbred racehorse owner\\\",\\n    \\\"co owner of the New Nets\\\",\\n    \\\"owner of Coolmore Stud\\\",\\n    \\\"sport franchise owner\\\",\\n    \\\"billiard hall owner\\\",\\n    \\\"Rangers part owner\\\",\\n    \\\"horse stable owner\\\",\\n    \\\"owner of the Jets\\\",\\n    \\\"racehorse owner\\\",\\n    \\\"former President of the ICSD\\\",\\n    \\\"middle distance runner\\\",\\n    \\\"long distance runner\\\",\\n    \\\"triathlon runner\\\",\\n    \\\"marathon runner\\\",\\n    \\\"runner\\\",\\n]\\nsports = sorted(list(set(sports)), key=lambda x: len(x), reverse=True)\\n\\nsciences = [\\n    \\\"car\\\",\\n    \\\"automotive\\\",\\n    \\\"expert on the geology of Earth\\\",\\n    \\\"computer programmer\\\",\\n    \\\"programmer\\\",\\n    \\\"recipient of the Nobel Prize in Physiology or Medicine\\\",\\n    \\\"recipient of the Nobel Prize in Chemistry\\\",\\n    \\\"recipient of the Nobel Prize in Physics\\\",\\n    \\\"recipient of the Nobel Prize in Physiology or Medicine\\\",\\n    \\\"Nobel Prize in Physiology or Medicine laureate\\\",\\n    \\\"recipient of the Nobel Prize in Chemistry\\\",\\n    \\\"a winner of the Nobel Prize in Physics in\\\",\\n    \\\"co winner of Nobel Prize in Chemistry in\\\",\\n    \\\"recipient of the Nobel Prize in Physics\\\",\\n    \\\"co winner of Nobel Prize in Physics in\\\",\\n    \\\"winner of the Nobel Prize in Physics\\\",\\n    \\\"Nobel Prize for Chemistry laureate\\\",\\n    \\\"Nobel Prize Laureate\\\",\\n    \\\"a pioneer in artificial intelligence\\\",\\n    \\\"pioneer in artificial intelligence\\\",\\n    \\\"artificial intelligence pioneer\\\",\\n    \\\"demographer\\\",\\n    \\\"logician in the analytic tradition\\\",\\n    \\\"scientific expert\\\",\\n    \\\"scientific\\\",\\n    \\\"naturalist\\\",\\n]\\nsciences = sorted(list(set(sciences)), key=lambda x: len(x), reverse=True)\\n\\nbusiness_farming = [\\n    \\\"fitness centre owner\\\",\\n    \\\"recipient of the World Food Prize\\\",\\n]\\nbusiness_farming = sorted(\\n    list(set(business_farming)), key=lambda x: len(x), reverse=True\\n)\\n\\nacademia_humanities = [\\n    \\\"theorist in Arte Povera movement\\\",\\n    \\\"theorist\\\",\\n    \\\"researcher\\\",\\n    \\\"instructor\\\",\\n    \\\"Yiddish language preservationist\\\",\\n    \\\"art preservationist\\\",\\n    \\\"preservationist\\\",\\n    \\\"sinologist\\\",\\n    \\\"philatelist\\\",\\n    \\\"intellectual\\\",\\n    \\\"pedagogist\\\",\\n    \\\"pedagogue\\\",\\n    \\\"ethnographer\\\",\\n]\\nacademia_humanities = sorted(\\n    list(set(academia_humanities)), key=lambda x: len(x), reverse=True\\n)\\n\\nlaw_enf_military_operator = [\\n    \\\"military\\\",\\n    \\\"recipient of the Navy Cross\\\",\\n    \\\"Navy SEAL sniper\\\",\\n    \\\"Navy\\\",\\n    \\\"Navy officer\\\",\\n    \\\"lieutenant general in the Marine Corps\\\",\\n    \\\"Illinois inspector general\\\",\\n    \\\"Air Force major general\\\",\\n    \\\"a general of the Army\\\",\\n    \\\"lieutenant general\\\",\\n    \\\"brigadier general\\\",\\n    \\\"a brigade general\\\",\\n    \\\"airforce general\\\",\\n    \\\"Colonel general\\\",\\n    \\\"major general\\\",\\n    \\\"ARVN general\\\",\\n    \\\"WW II flying ace\\\",\\n    \\\"WWII flying ace\\\",\\n    \\\"flying ace\\\",\\n    \\\"Hero of the Union for his actions during WWII\\\",\\n    \\\"squadron navigator during WWII\\\",\\n    \\\"gunner during WW II\\\",\\n    \\\"WWII who claimed to have been the inspiration for\\\",\\n    \\\"RAF radio operator\\\",\\n    \\\"radio operator\\\",\\n    \\\"recipient of the Knight Cross of the Iron Cross\\\",\\n    \\\"Distinguished Flying Cross recipient\\\",\\n    \\\"recipient of the Victoria Cross\\\",\\n    \\\"recipient of nine purple hearts\\\",\\n    \\\"recipient of the George Cross\\\",\\n    \\\"recipient of the Silver Star\\\",\\n    \\\"recipient of the Navy Cross\\\",\\n    \\\"Legion of honour recipient\\\",\\n    \\\"Legion of Honour recipient\\\",\\n    \\\"Military Cross recipient\\\",\\n    \\\"Victoria Cross recipient\\\",\\n    \\\"George Cross recipient\\\",\\n    \\\"Iron Cross recipient\\\",\\n    \\\"recipient of the Param Vir Chakra\\\",\\n    \\\"recipient of the Maha Vir Chakra\\\",\\n    \\\"the first chief of intelligence agency\\\",\\n    \\\"Chief of intelligence of South\\\",\\n    \\\"intelligence sergeant major\\\",\\n    \\\"MI intelligence officer\\\",\\n    \\\"intelligence specialist\\\",\\n    \\\"intelligence officer\\\",\\n    \\\"intelligence analyst\\\",\\n    \\\"intelligence expert\\\",\\n    \\\"intelligence chief\\\",\\n    \\\"astronaut candidate\\\",\\n    \\\"astronaut\\\",\\n    \\\"Hero of the Union for his actions during WWII\\\",\\n    \\\"double Hero of the Union\\\",\\n    \\\"Hero of the Union\\\",\\n    \\\"National Hero of\\\",\\n    \\\"Lieutenant General of the People Army of\\\",\\n    \\\"member of the National Liberation Army\\\",\\n    \\\"leader of the Boricua Popular Army\\\",\\n    \\\"Women Army Corps officer\\\",\\n    \\\"Army art correspondent\\\",\\n    \\\"officer in People Army\\\",\\n    \\\"commander of the Army\\\",\\n    \\\"a general of the Army\\\",\\n    \\\"Army first Sergeant\\\",\\n    \\\"chief of Army Staff\\\",\\n    \\\"anti fascist militant\\\",\\n    \\\"Montoneros militant\\\",\\n    \\\"Islamist militant\\\",\\n    \\\"far left militant\\\",\\n    \\\"lmilitant leader\\\",\\n]\\nlaw_enf_military_operator = sorted(\\n    list(set(law_enf_military_operator)), key=lambda x: len(x), reverse=True\\n)\\n\\nspiritual = [\\n    \\\"young Earth creationist\\\",\\n    \\\"leader of religious movement The Family International\\\",\\n    \\\"Catholic lay leader\\\",\\n    \\\"Christian leader\\\",\\n    \\\"church leader\\\",\\n    \\\"Muslim leader\\\",\\n    \\\"sect leader\\\",\\n    \\\"chaplain\\\",\\n    \\\"general superintendent\\\",\\n    \\\"Christian evangelist\\\",\\n    \\\"evangelist\\\",\\n    \\\"Islamic preacher\\\",\\n    \\\"preacher\\\",\\n    \\\"motivational speaker\\\",\\n    \\\"UNICEF Committee President\\\",\\n    \\\"Salvation Army officer\\\",\\n]\\nspiritual = sorted(list(set(spiritual)), key=lambda x: len(x), reverse=True)\\n\\nsocial = [\\n    \\\"advocate for people with disabilities\\\",\\n    \\\"Order of recipient\\\",\\n    \\\"Nobel Peace Prize nominee\\\",\\n]\\nsocial = sorted(list(set(social)), key=lambda x: len(x), reverse=True)\\n\\ncrime = [\\n    'nominal leader of the \\\" Mafia\\\"',\\n    \\\"Sinaloa Cartel leader\\\",\\n    \\\"war criminal\\\",\\n    \\\"criminal\\\",\\n    \\\"sex offender known as the\\\",\\n]\\ncrime = sorted(list(set(crime)), key=lambda x: len(x), reverse=True)\\n\\nevent_record_other = [\\n    \\\"alleged child sex offender\\\",\\n    \\\"supercentenarian\\\",\\n    \\\"centenarian\\\",\\n    \\\"murdered by militants in the West Bank city of Ramallah\\\",\\n]\\nevent_record_other = sorted(\\n    list(set(event_record_other)), key=lambda x: len(x), reverse=True\\n)\\n\\nother_species = []\\nother_species = sorted(list(set(other_species)), key=lambda x: len(x), reverse=True)\";\n",
       "                var nbb_cells = Jupyter.notebook.get_cells();\n",
       "                for (var i = 0; i < nbb_cells.length; ++i) {\n",
       "                    if (nbb_cells[i].input_prompt_number == nbb_cell_id) {\n",
       "                        if (nbb_cells[i].get_text() == nbb_unformatted_code) {\n",
       "                             nbb_cells[i].set_text(nbb_formatted_code);\n",
       "                        }\n",
       "                        break;\n",
       "                    }\n",
       "                }\n",
       "            }, 500);\n",
       "            "
      ],
      "text/plain": [
       "<IPython.core.display.Javascript object>"
      ]
     },
     "metadata": {},
     "output_type": "display_data"
    }
   ],
   "source": [
    "# Creating lists for each category and sorting by decreasing length and removing duplicates\n",
    "\n",
    "politics_govt_law = [\n",
    "    \"former Conservative Party Chancellor of the Exchequer\",\n",
    "    \"presidential candidate for the Libertarian Party\",\n",
    "    \"member of the Communist Party of\",\n",
    "    \"chairman of the Communist Party\",\n",
    "    \"the Communist Party of Great\",\n",
    "    \"partner of nationalist Subhas Chandra Bose\",\n",
    "    \"partner in Jacoby & Meyers\",\n",
    "    \"parliamentarian for the Peronist party\",\n",
    "    \"party functionary\",\n",
    "    \"fourth Governor general of\",\n",
    "    \"th Prime Minister of land\",\n",
    "    \"Deputy Prime Minister of\",\n",
    "    \"the th Prime Minister of\",\n",
    "    \"first Prime Minister of\",\n",
    "    \"former Prime Minister\",\n",
    "    \"Prime Minister of\",\n",
    "    \"Prime Minister\",\n",
    "    \"barrister\",\n",
    "    \"anti Castro lobbyist\",\n",
    "    \"labor lobbyist\",\n",
    "    \"lobbyist\",\n",
    "    \"advocate for women reproductive rights\",\n",
    "    \"women reproductive health advocate\",\n",
    "    \"advocate of freedom of the press\",\n",
    "    \"disabled people rights advocate\",\n",
    "    \"intellectual freedom advocate\",\n",
    "    \"reproductive rights advocate\",\n",
    "    \"anti death penalty advocate\",\n",
    "    \"indigenous rights advocate\",\n",
    "    \"assisted suicide advocate\",\n",
    "    \"patients' rights advocate\",\n",
    "    \"abortion rights advocate\",\n",
    "    \"patient rights advocate\",\n",
    "    \"tribal rights advocate\",\n",
    "    \"death penalty advocate\",\n",
    "    \"animal rights advocate\",\n",
    "    \"women rights advocate\",\n",
    "    \"human rights advocate\",\n",
    "    \"anti torture advocate\",\n",
    "    \"independence advocate\",\n",
    "    \"anti tobacco advocate\",\n",
    "    \"gun control advocate\",\n",
    "    \"deaf rights advocate\",\n",
    "    \"free speech advocate\",\n",
    "    \"sex worker advocate\",\n",
    "    \"euthanasia advocate\",\n",
    "    \"gay rights advocate\",\n",
    "    \"Men rights advocate\",\n",
    "    \"marijuana advocate\",\n",
    "    \"peace advocate\",\n",
    "    \"LGBT advocate\",\n",
    "    \"Vice President of the National Congress\",\n",
    "    \"Presidential candidate George McGovern\",\n",
    "    \"wife of Vice President Hubert Humphrey\",\n",
    "    \"spokesman for President Richard Nixon\",\n",
    "    \"Socialist candidate for President in\",\n",
    "    \"President of the United Auto Workers\",\n",
    "    \"member of Presidential commissions\",\n",
    "    \"Vice President of the Commission\",\n",
    "    \"President of during The Junta\",\n",
    "    \"President Georges Pompidou\",\n",
    "    \"fifth President of from to\",\n",
    "    \"four term President of\",\n",
    "    \"President of istan\",\n",
    "    \"vice President of\",\n",
    "    \"laureate of the Nobel Memorial Prize in Economic Sciences\",\n",
    "    \"revolutionary\",\n",
    "    \"solicitor\",\n",
    "    \"scientific adviser\",\n",
    "    \"prosecutor at the Nuremberg war crimes trials\",\n",
    "    \"prosecutor\",\n",
    "]\n",
    "politics_govt_law = sorted(\n",
    "    list(set(politics_govt_law)), key=lambda x: len(x), reverse=True\n",
    ")\n",
    "\n",
    "arts = [\n",
    "    \"designer\",\n",
    "    \"proponent of the Hollow Earth concept\",\n",
    "    \"Pulitzer Prize winning foreign correspondent\",\n",
    "    \"award winning foreign correspondent\",\n",
    "    \"Army art correspondent\",\n",
    "    \"foreign correspondent\",\n",
    "    \"news correspondent\",\n",
    "    \"correspondent\",\n",
    "    \"radio innovator\",\n",
    "    \"radio analyst\",\n",
    "    \"engraver\",\n",
    "    \"nightclub owner\",\n",
    "    \"club owner\",\n",
    "    \"winner of the Pulitzer Prize\",\n",
    "    \"Pulitzer prize winning\",\n",
    "    \"Pulitzer Prize winner\",\n",
    "    \"Pulitzer prize winner\",\n",
    "    \"magician\",\n",
    "    \"clarinetist\",\n",
    "    \"studio potter\",\n",
    "    \"potter\",\n",
    "    \"humorist\",\n",
    "    \"choirmaster\",\n",
    "    \"film\",\n",
    "    \"rapper\",\n",
    "    \"flautist\",\n",
    "]\n",
    "arts = sorted(list(set(arts)), key=lambda x: len(x), reverse=True)\n",
    "\n",
    "sports = [\n",
    "    \"caster\",\n",
    "    \"last living participant in the first F World Championship race\",\n",
    "    \"limited partner for the Yankees\",\n",
    "    \"general secretary of FIFA\",\n",
    "    \"a former owner of the Toronto Maple Leafs\",\n",
    "    \"part owner of the Atlanta Braves\",\n",
    "    \"owner of Thoroughbred racehorses\",\n",
    "    \"thoroughbred racehorse owner\",\n",
    "    \"Thoroughbred racehorse owner\",\n",
    "    \"co owner of the New Nets\",\n",
    "    \"owner of Coolmore Stud\",\n",
    "    \"sport franchise owner\",\n",
    "    \"billiard hall owner\",\n",
    "    \"Rangers part owner\",\n",
    "    \"horse stable owner\",\n",
    "    \"owner of the Jets\",\n",
    "    \"racehorse owner\",\n",
    "    \"former President of the ICSD\",\n",
    "    \"middle distance runner\",\n",
    "    \"long distance runner\",\n",
    "    \"triathlon runner\",\n",
    "    \"marathon runner\",\n",
    "    \"runner\",\n",
    "]\n",
    "sports = sorted(list(set(sports)), key=lambda x: len(x), reverse=True)\n",
    "\n",
    "sciences = [\n",
    "    \"car\",\n",
    "    \"automotive\",\n",
    "    \"expert on the geology of Earth\",\n",
    "    \"computer programmer\",\n",
    "    \"programmer\",\n",
    "    \"recipient of the Nobel Prize in Physiology or Medicine\",\n",
    "    \"recipient of the Nobel Prize in Chemistry\",\n",
    "    \"recipient of the Nobel Prize in Physics\",\n",
    "    \"recipient of the Nobel Prize in Physiology or Medicine\",\n",
    "    \"Nobel Prize in Physiology or Medicine laureate\",\n",
    "    \"recipient of the Nobel Prize in Chemistry\",\n",
    "    \"a winner of the Nobel Prize in Physics in\",\n",
    "    \"co winner of Nobel Prize in Chemistry in\",\n",
    "    \"recipient of the Nobel Prize in Physics\",\n",
    "    \"co winner of Nobel Prize in Physics in\",\n",
    "    \"winner of the Nobel Prize in Physics\",\n",
    "    \"Nobel Prize for Chemistry laureate\",\n",
    "    \"Nobel Prize Laureate\",\n",
    "    \"a pioneer in artificial intelligence\",\n",
    "    \"pioneer in artificial intelligence\",\n",
    "    \"artificial intelligence pioneer\",\n",
    "    \"demographer\",\n",
    "    \"logician in the analytic tradition\",\n",
    "    \"scientific expert\",\n",
    "    \"scientific\",\n",
    "    \"naturalist\",\n",
    "]\n",
    "sciences = sorted(list(set(sciences)), key=lambda x: len(x), reverse=True)\n",
    "\n",
    "business_farming = [\n",
    "    \"fitness centre owner\",\n",
    "    \"recipient of the World Food Prize\",\n",
    "]\n",
    "business_farming = sorted(\n",
    "    list(set(business_farming)), key=lambda x: len(x), reverse=True\n",
    ")\n",
    "\n",
    "academia_humanities = [\n",
    "    \"theorist in Arte Povera movement\",\n",
    "    \"theorist\",\n",
    "    \"researcher\",\n",
    "    \"instructor\",\n",
    "    \"Yiddish language preservationist\",\n",
    "    \"art preservationist\",\n",
    "    \"preservationist\",\n",
    "    \"sinologist\",\n",
    "    \"philatelist\",\n",
    "    \"intellectual\",\n",
    "    \"pedagogist\",\n",
    "    \"pedagogue\",\n",
    "    \"ethnographer\",\n",
    "]\n",
    "academia_humanities = sorted(\n",
    "    list(set(academia_humanities)), key=lambda x: len(x), reverse=True\n",
    ")\n",
    "\n",
    "law_enf_military_operator = [\n",
    "    \"military\",\n",
    "    \"recipient of the Navy Cross\",\n",
    "    \"Navy SEAL sniper\",\n",
    "    \"Navy\",\n",
    "    \"Navy officer\",\n",
    "    \"lieutenant general in the Marine Corps\",\n",
    "    \"Illinois inspector general\",\n",
    "    \"Air Force major general\",\n",
    "    \"a general of the Army\",\n",
    "    \"lieutenant general\",\n",
    "    \"brigadier general\",\n",
    "    \"a brigade general\",\n",
    "    \"airforce general\",\n",
    "    \"Colonel general\",\n",
    "    \"major general\",\n",
    "    \"ARVN general\",\n",
    "    \"WW II flying ace\",\n",
    "    \"WWII flying ace\",\n",
    "    \"flying ace\",\n",
    "    \"Hero of the Union for his actions during WWII\",\n",
    "    \"squadron navigator during WWII\",\n",
    "    \"gunner during WW II\",\n",
    "    \"WWII who claimed to have been the inspiration for\",\n",
    "    \"RAF radio operator\",\n",
    "    \"radio operator\",\n",
    "    \"recipient of the Knight Cross of the Iron Cross\",\n",
    "    \"Distinguished Flying Cross recipient\",\n",
    "    \"recipient of the Victoria Cross\",\n",
    "    \"recipient of nine purple hearts\",\n",
    "    \"recipient of the George Cross\",\n",
    "    \"recipient of the Silver Star\",\n",
    "    \"recipient of the Navy Cross\",\n",
    "    \"Legion of honour recipient\",\n",
    "    \"Legion of Honour recipient\",\n",
    "    \"Military Cross recipient\",\n",
    "    \"Victoria Cross recipient\",\n",
    "    \"George Cross recipient\",\n",
    "    \"Iron Cross recipient\",\n",
    "    \"recipient of the Param Vir Chakra\",\n",
    "    \"recipient of the Maha Vir Chakra\",\n",
    "    \"the first chief of intelligence agency\",\n",
    "    \"Chief of intelligence of South\",\n",
    "    \"intelligence sergeant major\",\n",
    "    \"MI intelligence officer\",\n",
    "    \"intelligence specialist\",\n",
    "    \"intelligence officer\",\n",
    "    \"intelligence analyst\",\n",
    "    \"intelligence expert\",\n",
    "    \"intelligence chief\",\n",
    "    \"astronaut candidate\",\n",
    "    \"astronaut\",\n",
    "    \"Hero of the Union for his actions during WWII\",\n",
    "    \"double Hero of the Union\",\n",
    "    \"Hero of the Union\",\n",
    "    \"National Hero of\",\n",
    "    \"Lieutenant General of the People Army of\",\n",
    "    \"member of the National Liberation Army\",\n",
    "    \"leader of the Boricua Popular Army\",\n",
    "    \"Women Army Corps officer\",\n",
    "    \"Army art correspondent\",\n",
    "    \"officer in People Army\",\n",
    "    \"commander of the Army\",\n",
    "    \"a general of the Army\",\n",
    "    \"Army first Sergeant\",\n",
    "    \"chief of Army Staff\",\n",
    "    \"anti fascist militant\",\n",
    "    \"Montoneros militant\",\n",
    "    \"Islamist militant\",\n",
    "    \"far left militant\",\n",
    "    \"lmilitant leader\",\n",
    "]\n",
    "law_enf_military_operator = sorted(\n",
    "    list(set(law_enf_military_operator)), key=lambda x: len(x), reverse=True\n",
    ")\n",
    "\n",
    "spiritual = [\n",
    "    \"young Earth creationist\",\n",
    "    \"leader of religious movement The Family International\",\n",
    "    \"Catholic lay leader\",\n",
    "    \"Christian leader\",\n",
    "    \"church leader\",\n",
    "    \"Muslim leader\",\n",
    "    \"sect leader\",\n",
    "    \"chaplain\",\n",
    "    \"general superintendent\",\n",
    "    \"Christian evangelist\",\n",
    "    \"evangelist\",\n",
    "    \"Islamic preacher\",\n",
    "    \"preacher\",\n",
    "    \"motivational speaker\",\n",
    "    \"UNICEF Committee President\",\n",
    "    \"Salvation Army officer\",\n",
    "]\n",
    "spiritual = sorted(list(set(spiritual)), key=lambda x: len(x), reverse=True)\n",
    "\n",
    "social = [\n",
    "    \"advocate for people with disabilities\",\n",
    "    \"Order of recipient\",\n",
    "    \"Nobel Peace Prize nominee\",\n",
    "]\n",
    "social = sorted(list(set(social)), key=lambda x: len(x), reverse=True)\n",
    "\n",
    "crime = [\n",
    "    'nominal leader of the \" Mafia\"',\n",
    "    \"Sinaloa Cartel leader\",\n",
    "    \"war criminal\",\n",
    "    \"criminal\",\n",
    "    \"sex offender known as the\",\n",
    "]\n",
    "crime = sorted(list(set(crime)), key=lambda x: len(x), reverse=True)\n",
    "\n",
    "event_record_other = [\n",
    "    \"alleged child sex offender\",\n",
    "    \"supercentenarian\",\n",
    "    \"centenarian\",\n",
    "    \"murdered by militants in the West Bank city of Ramallah\",\n",
    "]\n",
    "event_record_other = sorted(\n",
    "    list(set(event_record_other)), key=lambda x: len(x), reverse=True\n",
    ")\n",
    "\n",
    "other_species = []\n",
    "other_species = sorted(list(set(other_species)), key=lambda x: len(x), reverse=True)"
   ]
  },
  {
   "cell_type": "code",
   "execution_count": 87,
   "id": "097bdb4b",
   "metadata": {},
   "outputs": [
    {
     "data": {
      "application/javascript": [
       "\n",
       "            setTimeout(function() {\n",
       "                var nbb_cell_id = 87;\n",
       "                var nbb_unformatted_code = \"# Hard-coding info_2_1 value to correctly categorize entry\\nindex = df[df[\\\"link\\\"] == \\\"https://en.wikipedia.org/wiki/Archie_Butterworth\\\"].index\\ndf.loc[index, \\\"info_2_1\\\"] = \\\"scientific\\\"\\n\\n# Hard-coding info_2_1 value to correctly categorize entry\\nindex = df[df[\\\"link\\\"] == \\\"https://en.wikipedia.org/wiki/Carroll_Shelby\\\"].index\\ndf.loc[index, \\\"info_2_1\\\"] = \\\"scientific\\\"\\n\\n# Hard-coding info_2_1 value to correctly categorize entry\\nindex = df[df[\\\"link\\\"] == \\\"https://en.wikipedia.org/wiki/Vasily_Bakalov\\\"].index\\ndf.loc[index, \\\"info_2_1\\\"] = \\\"scientific\\\"\\n\\n# Dropping info_2_1 = 'researcher' value for entries already in sciences\\ndf.loc[\\n    [\\n        index\\n        for index in df.index\\n        if df.loc[index, \\\"info_2_1\\\"] == \\\"researcher\\\" and df.loc[index, \\\"sciences\\\"] == 1\\n    ],\\n    \\\"info_2_1\\\",\\n] = \\\"\\\"\\n\\n# Hard-coding info_2_1 value to correctly categorize entry\\nindex = df[df[\\\"link\\\"] == \\\"https://en.wikipedia.org/wiki/Mihailo_%C4%8Canak\\\"].index\\ndf.loc[index, \\\"info_2_1\\\"] = \\\"planner\\\"\\n\\n# Dropping info_2_1 = 'researcher' value for entries already in sciences\\ndf.loc[\\n    [\\n        index\\n        for index in df.index\\n        if df.loc[index, \\\"info_2_1\\\"] == \\\"instructor\\\" and df.loc[index, \\\"sports\\\"] == 1\\n    ],\\n    \\\"info_2_1\\\",\\n] = \\\"\\\"\\n\\n# Dropping info_2_1 = 'researcher' value for entries already in sciences\\ndf.loc[\\n    [index for index in df.index if df.loc[index, \\\"info_2_1\\\"] == \\\"official\\\"],\\n    \\\"info_2_1\\\",\\n] = \\\"\\\"\\n\\n\\n# Dropping info_2_1 = 'researcher' value for entries already in sciences\\ndf.loc[\\n    [index for index in df.index if df.loc[index, \\\"info_2_1\\\"] == \\\"Nobel Prize winner\\\"],\\n    \\\"info_2_1\\\",\\n] = \\\"\\\"\\n\\n\\n# Dropping info_2_1 = 'researcher' value for entries already in sciences\\ndf.loc[\\n    [index for index in df.index if df.loc[index, \\\"info_2_1\\\"] == \\\"Nobel laureate\\\"],\\n    \\\"info_2_1\\\",\\n] = \\\"\\\"\\n\\n# Dropping info_2_1 = 'researcher' value for entries already in sciences\\ndf.loc[\\n    [index for index in df.index if df.loc[index, \\\"info_2_1\\\"] == \\\"s\\\"], \\\"info_2_1\\\",\\n] = \\\"\\\"\\n\\n# Hard-coding cause_of_death for entry with value in info_2_1\\nindex = df[df[\\\"link\\\"] == \\\"https://en.wikipedia.org/wiki/Eliyahu_Asheri\\\"].index\\ndf.loc[index, \\\"cause_of_death\\\"] = \\\"murdered by militants\\\"\";\n",
       "                var nbb_formatted_code = \"# Hard-coding info_2_1 value to correctly categorize entry\\nindex = df[df[\\\"link\\\"] == \\\"https://en.wikipedia.org/wiki/Archie_Butterworth\\\"].index\\ndf.loc[index, \\\"info_2_1\\\"] = \\\"scientific\\\"\\n\\n# Hard-coding info_2_1 value to correctly categorize entry\\nindex = df[df[\\\"link\\\"] == \\\"https://en.wikipedia.org/wiki/Carroll_Shelby\\\"].index\\ndf.loc[index, \\\"info_2_1\\\"] = \\\"scientific\\\"\\n\\n# Hard-coding info_2_1 value to correctly categorize entry\\nindex = df[df[\\\"link\\\"] == \\\"https://en.wikipedia.org/wiki/Vasily_Bakalov\\\"].index\\ndf.loc[index, \\\"info_2_1\\\"] = \\\"scientific\\\"\\n\\n# Dropping info_2_1 = 'researcher' value for entries already in sciences\\ndf.loc[\\n    [\\n        index\\n        for index in df.index\\n        if df.loc[index, \\\"info_2_1\\\"] == \\\"researcher\\\" and df.loc[index, \\\"sciences\\\"] == 1\\n    ],\\n    \\\"info_2_1\\\",\\n] = \\\"\\\"\\n\\n# Hard-coding info_2_1 value to correctly categorize entry\\nindex = df[df[\\\"link\\\"] == \\\"https://en.wikipedia.org/wiki/Mihailo_%C4%8Canak\\\"].index\\ndf.loc[index, \\\"info_2_1\\\"] = \\\"planner\\\"\\n\\n# Dropping info_2_1 = 'researcher' value for entries already in sciences\\ndf.loc[\\n    [\\n        index\\n        for index in df.index\\n        if df.loc[index, \\\"info_2_1\\\"] == \\\"instructor\\\" and df.loc[index, \\\"sports\\\"] == 1\\n    ],\\n    \\\"info_2_1\\\",\\n] = \\\"\\\"\\n\\n# Dropping info_2_1 = 'researcher' value for entries already in sciences\\ndf.loc[\\n    [index for index in df.index if df.loc[index, \\\"info_2_1\\\"] == \\\"official\\\"],\\n    \\\"info_2_1\\\",\\n] = \\\"\\\"\\n\\n\\n# Dropping info_2_1 = 'researcher' value for entries already in sciences\\ndf.loc[\\n    [index for index in df.index if df.loc[index, \\\"info_2_1\\\"] == \\\"Nobel Prize winner\\\"],\\n    \\\"info_2_1\\\",\\n] = \\\"\\\"\\n\\n\\n# Dropping info_2_1 = 'researcher' value for entries already in sciences\\ndf.loc[\\n    [index for index in df.index if df.loc[index, \\\"info_2_1\\\"] == \\\"Nobel laureate\\\"],\\n    \\\"info_2_1\\\",\\n] = \\\"\\\"\\n\\n# Dropping info_2_1 = 'researcher' value for entries already in sciences\\ndf.loc[\\n    [index for index in df.index if df.loc[index, \\\"info_2_1\\\"] == \\\"s\\\"], \\\"info_2_1\\\",\\n] = \\\"\\\"\\n\\n# Hard-coding cause_of_death for entry with value in info_2_1\\nindex = df[df[\\\"link\\\"] == \\\"https://en.wikipedia.org/wiki/Eliyahu_Asheri\\\"].index\\ndf.loc[index, \\\"cause_of_death\\\"] = \\\"murdered by militants\\\"\";\n",
       "                var nbb_cells = Jupyter.notebook.get_cells();\n",
       "                for (var i = 0; i < nbb_cells.length; ++i) {\n",
       "                    if (nbb_cells[i].input_prompt_number == nbb_cell_id) {\n",
       "                        if (nbb_cells[i].get_text() == nbb_unformatted_code) {\n",
       "                             nbb_cells[i].set_text(nbb_formatted_code);\n",
       "                        }\n",
       "                        break;\n",
       "                    }\n",
       "                }\n",
       "            }, 500);\n",
       "            "
      ],
      "text/plain": [
       "<IPython.core.display.Javascript object>"
      ]
     },
     "metadata": {},
     "output_type": "display_data"
    }
   ],
   "source": [
    "# Hard-coding info_2_1 value to correctly categorize entry\n",
    "index = df[df[\"link\"] == \"https://en.wikipedia.org/wiki/Archie_Butterworth\"].index\n",
    "df.loc[index, \"info_2_1\"] = \"scientific\"\n",
    "\n",
    "# Hard-coding info_2_1 value to correctly categorize entry\n",
    "index = df[df[\"link\"] == \"https://en.wikipedia.org/wiki/Carroll_Shelby\"].index\n",
    "df.loc[index, \"info_2_1\"] = \"scientific\"\n",
    "\n",
    "# Hard-coding info_2_1 value to correctly categorize entry\n",
    "index = df[df[\"link\"] == \"https://en.wikipedia.org/wiki/Vasily_Bakalov\"].index\n",
    "df.loc[index, \"info_2_1\"] = \"scientific\"\n",
    "\n",
    "# Dropping info_2_1 = 'researcher' value for entries already in sciences\n",
    "df.loc[\n",
    "    [\n",
    "        index\n",
    "        for index in df.index\n",
    "        if df.loc[index, \"info_2_1\"] == \"researcher\" and df.loc[index, \"sciences\"] == 1\n",
    "    ],\n",
    "    \"info_2_1\",\n",
    "] = \"\"\n",
    "\n",
    "# Hard-coding info_2_1 value to correctly categorize entry\n",
    "index = df[df[\"link\"] == \"https://en.wikipedia.org/wiki/Mihailo_%C4%8Canak\"].index\n",
    "df.loc[index, \"info_2_1\"] = \"planner\"\n",
    "\n",
    "# Dropping info_2_1 = 'researcher' value for entries already in sciences\n",
    "df.loc[\n",
    "    [\n",
    "        index\n",
    "        for index in df.index\n",
    "        if df.loc[index, \"info_2_1\"] == \"instructor\" and df.loc[index, \"sports\"] == 1\n",
    "    ],\n",
    "    \"info_2_1\",\n",
    "] = \"\"\n",
    "\n",
    "# Dropping info_2_1 = 'researcher' value for entries already in sciences\n",
    "df.loc[\n",
    "    [index for index in df.index if df.loc[index, \"info_2_1\"] == \"official\"],\n",
    "    \"info_2_1\",\n",
    "] = \"\"\n",
    "\n",
    "\n",
    "# Dropping info_2_1 = 'researcher' value for entries already in sciences\n",
    "df.loc[\n",
    "    [index for index in df.index if df.loc[index, \"info_2_1\"] == \"Nobel Prize winner\"],\n",
    "    \"info_2_1\",\n",
    "] = \"\"\n",
    "\n",
    "\n",
    "# Dropping info_2_1 = 'researcher' value for entries already in sciences\n",
    "df.loc[\n",
    "    [index for index in df.index if df.loc[index, \"info_2_1\"] == \"Nobel laureate\"],\n",
    "    \"info_2_1\",\n",
    "] = \"\"\n",
    "\n",
    "# Dropping info_2_1 = 'researcher' value for entries already in sciences\n",
    "df.loc[\n",
    "    [index for index in df.index if df.loc[index, \"info_2_1\"] == \"s\"], \"info_2_1\",\n",
    "] = \"\"\n",
    "\n",
    "# Hard-coding cause_of_death for entry with value in info_2_1\n",
    "index = df[df[\"link\"] == \"https://en.wikipedia.org/wiki/Eliyahu_Asheri\"].index\n",
    "df.loc[index, \"cause_of_death\"] = \"murdered by militants\""
   ]
  },
  {
   "cell_type": "markdown",
   "id": "30a7d0bc",
   "metadata": {},
   "source": [
    "#### Creating `known_for_dict` Dictionary of Category Keys and Specific Role Lists of Values"
   ]
  },
  {
   "cell_type": "code",
   "execution_count": 88,
   "id": "a8d7b323",
   "metadata": {},
   "outputs": [
    {
     "data": {
      "application/javascript": [
       "\n",
       "            setTimeout(function() {\n",
       "                var nbb_cell_id = 88;\n",
       "                var nbb_unformatted_code = \"# Combining separate lists into one dictionary\\nknown_for_dict = {\\n    \\\"social\\\": social,\\n    \\\"spiritual\\\": spiritual,\\n    \\\"academia_humanities\\\": academia_humanities,\\n    \\\"business_farming\\\": business_farming,\\n    \\\"sciences\\\": sciences,\\n    \\\"politics_govt_law\\\": politics_govt_law,\\n    \\\"law_enf_military_operator\\\": law_enf_military_operator,\\n    \\\"crime\\\": crime,\\n    \\\"event_record_other\\\": event_record_other,\\n    \\\"other_species\\\": other_species,\\n    \\\"arts\\\": arts,\\n    \\\"sports\\\": sports,\\n}\";\n",
       "                var nbb_formatted_code = \"# Combining separate lists into one dictionary\\nknown_for_dict = {\\n    \\\"social\\\": social,\\n    \\\"spiritual\\\": spiritual,\\n    \\\"academia_humanities\\\": academia_humanities,\\n    \\\"business_farming\\\": business_farming,\\n    \\\"sciences\\\": sciences,\\n    \\\"politics_govt_law\\\": politics_govt_law,\\n    \\\"law_enf_military_operator\\\": law_enf_military_operator,\\n    \\\"crime\\\": crime,\\n    \\\"event_record_other\\\": event_record_other,\\n    \\\"other_species\\\": other_species,\\n    \\\"arts\\\": arts,\\n    \\\"sports\\\": sports,\\n}\";\n",
       "                var nbb_cells = Jupyter.notebook.get_cells();\n",
       "                for (var i = 0; i < nbb_cells.length; ++i) {\n",
       "                    if (nbb_cells[i].input_prompt_number == nbb_cell_id) {\n",
       "                        if (nbb_cells[i].get_text() == nbb_unformatted_code) {\n",
       "                             nbb_cells[i].set_text(nbb_formatted_code);\n",
       "                        }\n",
       "                        break;\n",
       "                    }\n",
       "                }\n",
       "            }, 500);\n",
       "            "
      ],
      "text/plain": [
       "<IPython.core.display.Javascript object>"
      ]
     },
     "metadata": {},
     "output_type": "display_data"
    }
   ],
   "source": [
    "# Combining separate lists into one dictionary\n",
    "known_for_dict = {\n",
    "    \"social\": social,\n",
    "    \"spiritual\": spiritual,\n",
    "    \"academia_humanities\": academia_humanities,\n",
    "    \"business_farming\": business_farming,\n",
    "    \"sciences\": sciences,\n",
    "    \"politics_govt_law\": politics_govt_law,\n",
    "    \"law_enf_military_operator\": law_enf_military_operator,\n",
    "    \"crime\": crime,\n",
    "    \"event_record_other\": event_record_other,\n",
    "    \"other_species\": other_species,\n",
    "    \"arts\": arts,\n",
    "    \"sports\": sports,\n",
    "}"
   ]
  },
  {
   "cell_type": "markdown",
   "id": "8a0a0be0",
   "metadata": {},
   "source": [
    "#### Extracting Category from `info_2_1`"
   ]
  },
  {
   "cell_type": "code",
   "execution_count": 89,
   "id": "0edebfc4",
   "metadata": {},
   "outputs": [
    {
     "name": "stdout",
     "output_type": "stream",
     "text": [
      "CPU times: total: 31 s\n",
      "Wall time: 31 s\n"
     ]
    },
    {
     "data": {
      "application/javascript": [
       "\n",
       "            setTimeout(function() {\n",
       "                var nbb_cell_id = 89;\n",
       "                var nbb_unformatted_code = \"%%time\\n\\n# Column to check\\ncolumn = 'info_2_1'\\n\\n# Start dataframe\\ndataframe = df[df[column].notna()]\\n\\n# For loop to find role in column and extract it as category\\nfor category, category_lst in known_for_dict.items():\\n    for role in category_lst:\\n        for index in dataframe.index:\\n                item = df.loc[index, column]\\n                if item:\\n                    if role in item:\\n                        df.loc[index, category] = 1\\n                        df.loc[index, column] = item.replace(role, '').strip()\\n\\n# Calculating num_categories\\ndf[\\\"num_categories\\\"] = df[known_for_dict.keys()].sum(axis=1)\";\n",
       "                var nbb_formatted_code = \"%%time\\n\\n# Column to check\\ncolumn = 'info_2_1'\\n\\n# Start dataframe\\ndataframe = df[df[column].notna()]\\n\\n# For loop to find role in column and extract it as category\\nfor category, category_lst in known_for_dict.items():\\n    for role in category_lst:\\n        for index in dataframe.index:\\n                item = df.loc[index, column]\\n                if item:\\n                    if role in item:\\n                        df.loc[index, category] = 1\\n                        df.loc[index, column] = item.replace(role, '').strip()\\n\\n# Calculating num_categories\\ndf[\\\"num_categories\\\"] = df[known_for_dict.keys()].sum(axis=1)\";\n",
       "                var nbb_cells = Jupyter.notebook.get_cells();\n",
       "                for (var i = 0; i < nbb_cells.length; ++i) {\n",
       "                    if (nbb_cells[i].input_prompt_number == nbb_cell_id) {\n",
       "                        if (nbb_cells[i].get_text() == nbb_unformatted_code) {\n",
       "                             nbb_cells[i].set_text(nbb_formatted_code);\n",
       "                        }\n",
       "                        break;\n",
       "                    }\n",
       "                }\n",
       "            }, 500);\n",
       "            "
      ],
      "text/plain": [
       "<IPython.core.display.Javascript object>"
      ]
     },
     "metadata": {},
     "output_type": "display_data"
    }
   ],
   "source": [
    "%%time\n",
    "\n",
    "# Column to check\n",
    "column = 'info_2_1'\n",
    "\n",
    "# Start dataframe\n",
    "dataframe = df[df[column].notna()]\n",
    "\n",
    "# For loop to find role in column and extract it as category\n",
    "for category, category_lst in known_for_dict.items():\n",
    "    for role in category_lst:\n",
    "        for index in dataframe.index:\n",
    "                item = df.loc[index, column]\n",
    "                if item:\n",
    "                    if role in item:\n",
    "                        df.loc[index, category] = 1\n",
    "                        df.loc[index, column] = item.replace(role, '').strip()\n",
    "\n",
    "# Calculating num_categories\n",
    "df[\"num_categories\"] = df[known_for_dict.keys()].sum(axis=1)"
   ]
  },
  {
   "cell_type": "markdown",
   "id": "51b64bae",
   "metadata": {},
   "source": [
    "#### Checking Updated `num_categories` Value Counts"
   ]
  },
  {
   "cell_type": "code",
   "execution_count": 90,
   "id": "b7e6d9b5",
   "metadata": {},
   "outputs": [
    {
     "data": {
      "text/plain": [
       "1    88931\n",
       "2     8900\n",
       "3      146\n",
       "0       67\n",
       "Name: num_categories, dtype: int64"
      ]
     },
     "execution_count": 90,
     "metadata": {},
     "output_type": "execute_result"
    },
    {
     "data": {
      "application/javascript": [
       "\n",
       "            setTimeout(function() {\n",
       "                var nbb_cell_id = 90;\n",
       "                var nbb_unformatted_code = \"# Checking updated num_categories value counts\\ndf[\\\"num_categories\\\"].value_counts()\";\n",
       "                var nbb_formatted_code = \"# Checking updated num_categories value counts\\ndf[\\\"num_categories\\\"].value_counts()\";\n",
       "                var nbb_cells = Jupyter.notebook.get_cells();\n",
       "                for (var i = 0; i < nbb_cells.length; ++i) {\n",
       "                    if (nbb_cells[i].input_prompt_number == nbb_cell_id) {\n",
       "                        if (nbb_cells[i].get_text() == nbb_unformatted_code) {\n",
       "                             nbb_cells[i].set_text(nbb_formatted_code);\n",
       "                        }\n",
       "                        break;\n",
       "                    }\n",
       "                }\n",
       "            }, 500);\n",
       "            "
      ],
      "text/plain": [
       "<IPython.core.display.Javascript object>"
      ]
     },
     "metadata": {},
     "output_type": "display_data"
    }
   ],
   "source": [
    "# Checking updated num_categories value counts\n",
    "df[\"num_categories\"].value_counts()"
   ]
  },
  {
   "cell_type": "markdown",
   "id": "f06f10e7",
   "metadata": {},
   "source": [
    "#### Observations:\n",
    "- We will proceed to rebuild `known_for_dict` for the next iteration."
   ]
  },
  {
   "cell_type": "markdown",
   "id": "e8677b6e",
   "metadata": {},
   "source": [
    "#### Finding `known_for` Roles in `info_2_1`"
   ]
  },
  {
   "cell_type": "code",
   "execution_count": 91,
   "id": "2bb453b6",
   "metadata": {},
   "outputs": [
    {
     "data": {
      "application/javascript": [
       "\n",
       "            setTimeout(function() {\n",
       "                var nbb_cell_id = 91;\n",
       "                var nbb_unformatted_code = \"# # Obtaining values for column and their counts\\n# roles_list = df[\\\"info_2_1\\\"].value_counts(ascending=True).index.tolist()\";\n",
       "                var nbb_formatted_code = \"# # Obtaining values for column and their counts\\n# roles_list = df[\\\"info_2_1\\\"].value_counts(ascending=True).index.tolist()\";\n",
       "                var nbb_cells = Jupyter.notebook.get_cells();\n",
       "                for (var i = 0; i < nbb_cells.length; ++i) {\n",
       "                    if (nbb_cells[i].input_prompt_number == nbb_cell_id) {\n",
       "                        if (nbb_cells[i].get_text() == nbb_unformatted_code) {\n",
       "                             nbb_cells[i].set_text(nbb_formatted_code);\n",
       "                        }\n",
       "                        break;\n",
       "                    }\n",
       "                }\n",
       "            }, 500);\n",
       "            "
      ],
      "text/plain": [
       "<IPython.core.display.Javascript object>"
      ]
     },
     "metadata": {},
     "output_type": "display_data"
    }
   ],
   "source": [
    "# # Obtaining values for column and their counts\n",
    "# roles_list = df[\"info_2_1\"].value_counts(ascending=True).index.tolist()"
   ]
  },
  {
   "cell_type": "code",
   "execution_count": 92,
   "id": "1209fa5e",
   "metadata": {},
   "outputs": [
    {
     "data": {
      "application/javascript": [
       "\n",
       "            setTimeout(function() {\n",
       "                var nbb_cell_id = 92;\n",
       "                var nbb_unformatted_code = \"# # Code to check each value\\n# roles_list.pop()\";\n",
       "                var nbb_formatted_code = \"# # Code to check each value\\n# roles_list.pop()\";\n",
       "                var nbb_cells = Jupyter.notebook.get_cells();\n",
       "                for (var i = 0; i < nbb_cells.length; ++i) {\n",
       "                    if (nbb_cells[i].input_prompt_number == nbb_cell_id) {\n",
       "                        if (nbb_cells[i].get_text() == nbb_unformatted_code) {\n",
       "                             nbb_cells[i].set_text(nbb_formatted_code);\n",
       "                        }\n",
       "                        break;\n",
       "                    }\n",
       "                }\n",
       "            }, 500);\n",
       "            "
      ],
      "text/plain": [
       "<IPython.core.display.Javascript object>"
      ]
     },
     "metadata": {},
     "output_type": "display_data"
    }
   ],
   "source": [
    "# # Code to check each value\n",
    "# roles_list.pop()"
   ]
  },
  {
   "cell_type": "code",
   "execution_count": 93,
   "id": "2075ecc9",
   "metadata": {},
   "outputs": [
    {
     "data": {
      "application/javascript": [
       "\n",
       "            setTimeout(function() {\n",
       "                var nbb_cell_id = 93;\n",
       "                var nbb_unformatted_code = \"# # Create specific_roles_list for above popped value\\n# specific_roles_list = (\\n#     df.loc[\\n#         [\\n#             index\\n#             for index in df[df[\\\"info_2_1\\\"].notna()].index\\n#             if \\\"member\\\" in df.loc[index, \\\"info_2_1\\\"]\\n#         ],\\n#         \\\"info_2_1\\\",\\n#     ]\\n#     .value_counts()\\n#     .index.tolist()\\n# )\";\n",
       "                var nbb_formatted_code = \"# # Create specific_roles_list for above popped value\\n# specific_roles_list = (\\n#     df.loc[\\n#         [\\n#             index\\n#             for index in df[df[\\\"info_2_1\\\"].notna()].index\\n#             if \\\"member\\\" in df.loc[index, \\\"info_2_1\\\"]\\n#         ],\\n#         \\\"info_2_1\\\",\\n#     ]\\n#     .value_counts()\\n#     .index.tolist()\\n# )\";\n",
       "                var nbb_cells = Jupyter.notebook.get_cells();\n",
       "                for (var i = 0; i < nbb_cells.length; ++i) {\n",
       "                    if (nbb_cells[i].input_prompt_number == nbb_cell_id) {\n",
       "                        if (nbb_cells[i].get_text() == nbb_unformatted_code) {\n",
       "                             nbb_cells[i].set_text(nbb_formatted_code);\n",
       "                        }\n",
       "                        break;\n",
       "                    }\n",
       "                }\n",
       "            }, 500);\n",
       "            "
      ],
      "text/plain": [
       "<IPython.core.display.Javascript object>"
      ]
     },
     "metadata": {},
     "output_type": "display_data"
    }
   ],
   "source": [
    "# # Create specific_roles_list for above popped value\n",
    "# specific_roles_list = (\n",
    "#     df.loc[\n",
    "#         [\n",
    "#             index\n",
    "#             for index in df[df[\"info_2_1\"].notna()].index\n",
    "#             if \"member\" in df.loc[index, \"info_2_1\"]\n",
    "#         ],\n",
    "#         \"info_2_1\",\n",
    "#     ]\n",
    "#     .value_counts()\n",
    "#     .index.tolist()\n",
    "# )"
   ]
  },
  {
   "cell_type": "code",
   "execution_count": 94,
   "id": "82a3541b",
   "metadata": {
    "scrolled": true
   },
   "outputs": [
    {
     "data": {
      "application/javascript": [
       "\n",
       "            setTimeout(function() {\n",
       "                var nbb_cell_id = 94;\n",
       "                var nbb_unformatted_code = \"# # Viewing list sorted by descending length to copy to dictionary below and screen values\\n# sorted(specific_roles_list, key=lambda x: len(x), reverse=True)\";\n",
       "                var nbb_formatted_code = \"# # Viewing list sorted by descending length to copy to dictionary below and screen values\\n# sorted(specific_roles_list, key=lambda x: len(x), reverse=True)\";\n",
       "                var nbb_cells = Jupyter.notebook.get_cells();\n",
       "                for (var i = 0; i < nbb_cells.length; ++i) {\n",
       "                    if (nbb_cells[i].input_prompt_number == nbb_cell_id) {\n",
       "                        if (nbb_cells[i].get_text() == nbb_unformatted_code) {\n",
       "                             nbb_cells[i].set_text(nbb_formatted_code);\n",
       "                        }\n",
       "                        break;\n",
       "                    }\n",
       "                }\n",
       "            }, 500);\n",
       "            "
      ],
      "text/plain": [
       "<IPython.core.display.Javascript object>"
      ]
     },
     "metadata": {},
     "output_type": "display_data"
    }
   ],
   "source": [
    "# # Viewing list sorted by descending length to copy to dictionary below and screen values\n",
    "# sorted(specific_roles_list, key=lambda x: len(x), reverse=True)"
   ]
  },
  {
   "cell_type": "code",
   "execution_count": 95,
   "id": "5968b0ff",
   "metadata": {},
   "outputs": [
    {
     "data": {
      "application/javascript": [
       "\n",
       "            setTimeout(function() {\n",
       "                var nbb_cell_id = 95;\n",
       "                var nbb_unformatted_code = \"# # Example code to check additional category for specific entries\\n# df.loc[\\n#     [\\n#         index\\n#         for index in df.index\\n#         if df.loc[index, \\\"info_2_1\\\"] == \\\"judge\\\"\\n#         and df.loc[index, \\\"politics_govt_law\\\"] == 0\\n#     ],\\n#     :,\\n# ]\";\n",
       "                var nbb_formatted_code = \"# # Example code to check additional category for specific entries\\n# df.loc[\\n#     [\\n#         index\\n#         for index in df.index\\n#         if df.loc[index, \\\"info_2_1\\\"] == \\\"judge\\\"\\n#         and df.loc[index, \\\"politics_govt_law\\\"] == 0\\n#     ],\\n#     :,\\n# ]\";\n",
       "                var nbb_cells = Jupyter.notebook.get_cells();\n",
       "                for (var i = 0; i < nbb_cells.length; ++i) {\n",
       "                    if (nbb_cells[i].input_prompt_number == nbb_cell_id) {\n",
       "                        if (nbb_cells[i].get_text() == nbb_unformatted_code) {\n",
       "                             nbb_cells[i].set_text(nbb_formatted_code);\n",
       "                        }\n",
       "                        break;\n",
       "                    }\n",
       "                }\n",
       "            }, 500);\n",
       "            "
      ],
      "text/plain": [
       "<IPython.core.display.Javascript object>"
      ]
     },
     "metadata": {},
     "output_type": "display_data"
    }
   ],
   "source": [
    "# # Example code to check additional category for specific entries\n",
    "# df.loc[\n",
    "#     [\n",
    "#         index\n",
    "#         for index in df.index\n",
    "#         if df.loc[index, \"info_2_1\"] == \"judge\"\n",
    "#         and df.loc[index, \"politics_govt_law\"] == 0\n",
    "#     ],\n",
    "#     :,\n",
    "# ]"
   ]
  },
  {
   "cell_type": "code",
   "execution_count": 96,
   "id": "1023c21f",
   "metadata": {},
   "outputs": [
    {
     "data": {
      "application/javascript": [
       "\n",
       "            setTimeout(function() {\n",
       "                var nbb_cell_id = 96;\n",
       "                var nbb_unformatted_code = \"# # Example code to quick-check a specific entry\\n# df[df[\\\"info_2_1\\\"] == \\\"founding member of Front National\\\"]\";\n",
       "                var nbb_formatted_code = \"# # Example code to quick-check a specific entry\\n# df[df[\\\"info_2_1\\\"] == \\\"founding member of Front National\\\"]\";\n",
       "                var nbb_cells = Jupyter.notebook.get_cells();\n",
       "                for (var i = 0; i < nbb_cells.length; ++i) {\n",
       "                    if (nbb_cells[i].input_prompt_number == nbb_cell_id) {\n",
       "                        if (nbb_cells[i].get_text() == nbb_unformatted_code) {\n",
       "                             nbb_cells[i].set_text(nbb_formatted_code);\n",
       "                        }\n",
       "                        break;\n",
       "                    }\n",
       "                }\n",
       "            }, 500);\n",
       "            "
      ],
      "text/plain": [
       "<IPython.core.display.Javascript object>"
      ]
     },
     "metadata": {},
     "output_type": "display_data"
    }
   ],
   "source": [
    "# # Example code to quick-check a specific entry\n",
    "# df[df[\"info_2_1\"] == \"founding member of Front National\"]"
   ]
  },
  {
   "cell_type": "markdown",
   "id": "d5614a7a",
   "metadata": {},
   "source": [
    "#### Creating Lists for Each `known_for` Category"
   ]
  },
  {
   "cell_type": "code",
   "execution_count": 97,
   "id": "b292a717",
   "metadata": {},
   "outputs": [
    {
     "data": {
      "application/javascript": [
       "\n",
       "            setTimeout(function() {\n",
       "                var nbb_cell_id = 97;\n",
       "                var nbb_unformatted_code = \"# Creating lists for each category and sorting by decreasing length and removing duplicates\\n\\npolitics_govt_law = [\\n    \\\"longtime advisor to Jimmy Carter\\\",\\n    \\\"anti apartheid campaigner\\\",\\n    \\\"prisoner of war rights campaigner\\\",\\n    \\\"anti war campaigner\\\",\\n    \\\"community leader\\\",\\n    \\\"owner of the opposition news website\\\",\\n    \\\"women literacy advocate\\\",\\n    \\\"mental health advocate\\\",\\n    \\\"nuclear power advocate\\\",\\n    \\\"disability advocate\\\",\\n    \\\"mass media advocate\\\",\\n    \\\"women health advocate\\\",\\n    \\\"advocate for women\\\",\\n    \\\"freedom advocate\\\",\\n    \\\"social advocate\\\",\\n    \\\"autism advocate\\\",\\n    \\\"women advocate\\\",\\n    \\\"former President of\\\",\\n    \\\"ceremonial officer\\\",\\n    \\\"legislator\\\",\\n    \\\"town planner\\\",\\n    \\\"disability rights campaigner\\\",\\n    \\\"campaigner for safety glass\\\",\\n    \\\"anti apartheid campaigner\\\",\\n    \\\"environmental campaigner\\\",\\n    \\\"mental health campaigner\\\",\\n    \\\"human rights campaigner\\\",\\n    \\\"right to die campaigner\\\",\\n    \\\"child safety campaigner\\\",\\n    \\\"blind rights campaigner\\\",\\n    \\\"anti Zionist campaigner\\\",\\n    \\\"countryside campaigner\\\",\\n    \\\"environment campaigner\\\",\\n    \\\"disability campaigner\\\",\\n    \\\"language campaigner\\\",\\n    \\\"anti war campaigner\\\",\\n    \\\"bureaucrat\\\",\\n    \\\"communist\\\",\\n    \\\"speech\\\",\\n    \\\"member of the Citizens' Commission to Investigate the FBI\\\",\\n    \\\"two term member of County Board of Supervisors\\\",\\n    \\\"member of the House of Bourbon Two Sicilies\\\",\\n    \\\"member of the House of Representatives for\\\",\\n    \\\"member of the House of Representatives\\\",\\n    \\\"Queensland Legislative Assembly member\\\",\\n    \\\"Berkeley Free Speech Movement member\\\",\\n    \\\"Amnesty International board member\\\",\\n    \\\"founding member of Front National\\\",\\n]\\npolitics_govt_law = sorted(\\n    list(set(politics_govt_law)), key=lambda x: len(x), reverse=True\\n)\\n\\narts = [\\n    \\\"founder of the Amadeus Quartet\\\",\\n    \\\"pioneer of video art\\\",\\n    \\\"computer art pioneer\\\",\\n    \\\"patron of the arts\\\",\\n    \\\"fetish art pioneer\\\",\\n    \\\"the Heartbreakers\\\",\\n    \\\"art impresario\\\",\\n    \\\"arts advocate\\\",\\n    \\\"news articles\\\",\\n    \\\"arts patron\\\",\\n    \\\"art patron\\\",\\n    \\\"two time Academy Award winner\\\",\\n    \\\"Academy Award winner\\\",\\n    \\\"leader of the Mary Kaye Trio\\\",\\n    \\\"orchestra leader\\\",\\n    \\\"radio\\\",\\n    \\\"record label owner\\\",\\n    \\\"boutique owner\\\",\\n    \\\"gallery owner\\\",\\n    \\\"studio owner\\\",\\n    \\\"media owner\\\",\\n    \\\"vegetarianism advocate\\\",\\n    \\\"community advocate\\\",\\n    \\\"arts advocate\\\",\\n    \\\"traditional waka builder\\\",\\n    \\\"golf analyst\\\",\\n    \\\"Cajun accordionist\\\",\\n    \\\"accordionist\\\",\\n    \\\"reality show contestant\\\",\\n    \\\"impressionist\\\",\\n    \\\"heavy metal drummer\\\",\\n    \\\"blues drummer\\\",\\n    \\\"jazz drummer\\\",\\n    \\\"R&B drummer\\\",\\n    \\\"drummer\\\",\\n    \\\"diarist\\\",\\n    \\\"ceramicist\\\",\\n    \\\"agent known for her impact on\\\",\\n    \\\"theatrical agent\\\",\\n    \\\"literary agent\\\",\\n    \\\"clown\\\",\\n    \\\"wildlife cameraman\\\",\\n    \\\"cameraman\\\",\\n    \\\"horticulturalist\\\",\\n    \\\"horticulturist\\\",\\n    \\\"distributor\\\",\\n    \\\"on The Tonight Show orchestra\\\",\\n    \\\"orchestra leader\\\",\\n    \\\"orchestrator\\\",\\n    \\\"small press printer\\\",\\n    \\\"fingerprint expert\\\",\\n    \\\"stamp printer\\\",\\n    \\\"print maker\\\",\\n    \\\"keyboardist\\\",\\n    \\\"patron of the arts\\\",\\n    \\\"arts advocate\\\",\\n    \\\"arts patron\\\",\\n    \\\"arts\\\",\\n    \\\"blues saxophonist\\\",\\n    \\\"blues drummer\\\",\\n    \\\"blues\\\",\\n    \\\"muralist\\\",\\n    \\\"post bop tenor saxophonist\\\",\\n    \\\"blues saxophonist\\\",\\n    \\\"alto saxophonist\\\",\\n    \\\"jazz saxophonist\\\",\\n    \\\"R&B saxophonist\\\",\\n    \\\"saxophonist\\\",\\n    \\\"screenplays\\\",\\n    \\\"screen\\\",\\n    \\\"a founding member of the progressive rock group Camel\\\",\\n    \\\"member of the Country Music Hall of Fame\\\",\\n    \\\"member of the Ultra Lettrist movement\\\",\\n    \\\"member of the Trapp Family Singers\\\",\\n    \\\"original member of R&B girl group\\\",\\n]\\narts = sorted(list(set(arts)), key=lambda x: len(x), reverse=True)\\n\\nsports = [\\n    \\\"founder of Spartak Moscow\\\",\\n    \\\"bodybuilder\\\",\\n    \\\"Tour golfer\\\",\\n    \\\"golfer\\\",\\n    \\\"Seven Summits record holder\\\",\\n    \\\"former world record holder\\\",\\n    \\\"land speed record holder\\\",\\n    \\\"world record holder\\\",\\n    \\\"record holder\\\",\\n    \\\"Thoroughbred racehorse breeder\\\",\\n    \\\"horse breeder\\\",\\n    \\\"dog breeder\\\",\\n    \\\"member of the NASCAR Hall of Fame\\\",\\n    \\\"NASCAR driver\\\",\\n    \\\"hurler\\\",\\n    \\\"curler\\\",\\n    \\\"member of the Baseball Hall of Fame\\\",\\n]\\nsports = sorted(list(set(sports)), key=lambda x: len(x), reverse=True)\\n\\nsciences = [\\n    \\\"open heart surgery pioneer\\\",\\n    \\\"earthquake expert\\\",\\n    \\\"Turing Award winner\\\",\\n    \\\"a leader in controlled fusion research\\\",\\n    \\\"group leader in the Manhattan Project\\\",\\n    \\\"a leader in satellite communications\\\",\\n    \\\"hot rod builder\\\",\\n    \\\"boat builder\\\",\\n    \\\"daffodil breeder\\\",\\n    \\\"plant breeder\\\",\\n    \\\"wheat breeder\\\",\\n    \\\"X ray crystallography pioneer\\\",\\n    \\\"protein crystallographer\\\",\\n    \\\"crystallographer\\\",\\n    \\\"nutritional expert\\\",\\n    \\\"nutrition expert\\\",\\n    \\\"nutritionist\\\",\\n    \\\"technology\\\",\\n    \\\"oceanographer\\\",\\n    \\\"futurist\\\",\\n]\\nsciences = sorted(list(set(sciences)), key=lambda x: len(x), reverse=True)\\n\\nbusiness_farming = [\\n    \\\"son of Wal Mart founder Sam Walton\\\",\\n    \\\"co founder of Walmart\\\",\\n    \\\"chartered accountant\\\",\\n    \\\"bookshop owner\\\",\\n    \\\"vineyard owner\\\",\\n    \\\"airline owner\\\",\\n    \\\"casino owner\\\",\\n    \\\"hotel owner\\\",\\n    \\\"holding investor\\\",\\n    \\\"investor\\\",\\n    \\\"winemaker\\\",\\n    \\\"real estate developer\\\",\\n    \\\"real estate mogul\\\",\\n    \\\"funeral home insurance agent\\\",\\n    \\\"ticket selling agent\\\",\\n    \\\"insurance agent\\\",\\n    \\\"venture capitalist\\\",\\n    \\\"member of the supermarket Sainsbury family\\\",\\n    \\\"first woman member of the Stock Exchange\\\",\\n]\\nbusiness_farming = sorted(\\n    list(set(business_farming)), key=lambda x: len(x), reverse=True\\n)\\n\\nacademia_humanities = [\\n    \\\"museum owner\\\",\\n    \\\"advocate of evolutionary epistemology\\\",\\n    \\\"Native advocate\\\",\\n    \\\"logician\\\",\\n    \\\"logic\\\",\\n    \\\"President of Bar Ilan University\\\",\\n    \\\"officer of arms\\\",\\n    \\\"medievalist\\\",\\n    \\\"heritage campaigner\\\",\\n    \\\"geographer\\\",\\n    \\\"archeologist\\\",\\n]\\nacademia_humanities = sorted(\\n    list(set(academia_humanities)), key=lambda x: len(x), reverse=True\\n)\\n\\nlaw_enf_military_operator = [\\n    \\\"wartime commander\\\",\\n    \\\"quartermaster\\\",\\n    \\\"partisan\\\",\\n    \\\"War prisoner of war escapee\\\",\\n    \\\"prisoner of war\\\",\\n    \\\"award winner\\\",\\n    \\\"game warden\\\",\\n    \\\"war hero\\\",\\n    \\\"warlord\\\",\\n    \\\"a resistance movement leader\\\",\\n    \\\"leader of the Grey Wolves\\\",\\n    \\\"resistance leader\\\",\\n    \\\"guerrilla leader\\\",\\n    \\\"rebel leader\\\",\\n    \\\"general\\\",\\n    \\\"Army officer\\\",\\n    \\\"Royal Naval Volunteer Reserve officer\\\",\\n    \\\"later an officer in the Air Force\\\",\\n    \\\"former Marine Corps officer\\\",\\n    \\\"Naval Intelligence officer\\\",\\n    \\\"General Staff officer\\\",\\n    \\\"Marine Corps officer\\\",\\n    \\\"air force officer\\\",\\n    \\\"security officer\\\",\\n    \\\"liaison officer\\\",\\n    \\\"Army officer\\\",\\n    \\\"navy officer\\\",\\n    \\\"KGB officer\\\",\\n    \\\"CIA officer\\\",\\n    \\\"RAF officer\\\",\\n    \\\"SS officer\\\",\\n    \\\"militant\\\",\\n    \\\"Jewish resistance member during the Holocaust\\\",\\n    \\\"a resistance movement leader\\\",\\n    \\\"resistance fighter\\\",\\n    \\\"resistance member\\\",\\n    \\\"resistance leader\\\",\\n    \\\"resistance fighter\\\",\\n    \\\"Resistance fighter\\\",\\n    \\\"a freedom fighter\\\",\\n    \\\"guerrilla fighter\\\",\\n    \\\"freedom fighter\\\",\\n    \\\"fighter ace\\\",\\n    \\\"firefighter\\\",\\n    \\\"codebreaker\\\",\\n    \\\"Special Operations Executive agent\\\",\\n    \\\"clandestine agent\\\",\\n    \\\"secret agent\\\",\\n    \\\"double agent\\\",\\n    \\\"FBI agent\\\",\\n    \\\"CIA agent\\\",\\n    \\\"fingerprint expert\\\",\\n    \\\"rear admiral\\\",\\n    \\\"admiral\\\",\\n    \\\"member of a Special Forces Airborne Reserve Unit\\\",\\n    \\\"member of the Magnum Photography Collective\\\",\\n]\\nlaw_enf_military_operator = sorted(\\n    list(set(law_enf_military_operator)), key=lambda x: len(x), reverse=True\\n)\\n\\nspiritual = [\\n    \\\"Dean of Hobart from to\\\",\\n    \\\"award winning Christian\\\",\\n    \\\"rosh yeshiva\\\",\\n    \\\"Archbishop of the Anglican Church of\\\",\\n    \\\"st Archbishop of Canterbury\\\",\\n    \\\"former archbishop of Manila\\\",\\n    \\\"Archbishop of Cape Town\\\",\\n    \\\"Pentecostal bishop\\\",\\n    \\\"Church of bishop\\\",\\n    \\\"Archbishop of\\\",\\n    \\\"archbishop\\\",\\n    \\\"bishop\\\",\\n    \\\"interfaith campaigner\\\",\\n    \\\"Anglican cleric\\\",\\n    \\\"Islamic cleric\\\",\\n    \\\"cleric\\\",\\n    \\\"Islamic Studies at the University of Edinburgh\\\",\\n    \\\"Islamic cleric\\\",\\n    \\\"Islamic\\\",\\n    \\\"Islam\\\",\\n    \\\"religious mystic\\\",\\n    \\\"religious extremist\\\",\\n]\\nspiritual = sorted(list(set(spiritual)), key=lambda x: len(x), reverse=True)\\n\\nsocial = [\\n    \\\"animal welfare advocate\\\",\\n    \\\"child welfare advocate\\\",\\n    \\\"global poverty campaigner\\\",\\n    \\\"animal welfare campaigner\\\",\\n    \\\"charity campaigner\\\",\\n]\\nsocial = sorted(list(set(social)), key=lambda x: len(x), reverse=True)\\n\\ncrime = [\\n    \\\"assassin of Martin Luther King Jr\\\",\\n    \\\"member of the Cali Cartel\\\",\\n    \\\"art forger\\\",\\n    \\\"murderer\\\",\\n    \\\"sex offender\\\",\\n    \\\"kidnapper\\\",\\n    \\\"fugitive from justice\\\",\\n    \\\"FBI fugitive\\\",\\n    \\\"fugitive\\\",\\n    \\\"member of the Kansas City crime family\\\",\\n    \\\"member of the Patriarca crime family\\\",\\n    \\\"member of the Gambino crime family\\\",\\n    \\\"member of the Bonanno crime family\\\",\\n]\\ncrime = sorted(list(set(crime)), key=lambda x: len(x), reverse=True)\\n\\nevent_record_other = [\\n    \\\"muffler repair shop owner\\\",\\n]\\nevent_record_other = sorted(\\n    list(set(event_record_other)), key=lambda x: len(x), reverse=True\\n)\\n\\nother_species = []\\nother_species = sorted(list(set(other_species)), key=lambda x: len(x), reverse=True)\";\n",
       "                var nbb_formatted_code = \"# Creating lists for each category and sorting by decreasing length and removing duplicates\\n\\npolitics_govt_law = [\\n    \\\"longtime advisor to Jimmy Carter\\\",\\n    \\\"anti apartheid campaigner\\\",\\n    \\\"prisoner of war rights campaigner\\\",\\n    \\\"anti war campaigner\\\",\\n    \\\"community leader\\\",\\n    \\\"owner of the opposition news website\\\",\\n    \\\"women literacy advocate\\\",\\n    \\\"mental health advocate\\\",\\n    \\\"nuclear power advocate\\\",\\n    \\\"disability advocate\\\",\\n    \\\"mass media advocate\\\",\\n    \\\"women health advocate\\\",\\n    \\\"advocate for women\\\",\\n    \\\"freedom advocate\\\",\\n    \\\"social advocate\\\",\\n    \\\"autism advocate\\\",\\n    \\\"women advocate\\\",\\n    \\\"former President of\\\",\\n    \\\"ceremonial officer\\\",\\n    \\\"legislator\\\",\\n    \\\"town planner\\\",\\n    \\\"disability rights campaigner\\\",\\n    \\\"campaigner for safety glass\\\",\\n    \\\"anti apartheid campaigner\\\",\\n    \\\"environmental campaigner\\\",\\n    \\\"mental health campaigner\\\",\\n    \\\"human rights campaigner\\\",\\n    \\\"right to die campaigner\\\",\\n    \\\"child safety campaigner\\\",\\n    \\\"blind rights campaigner\\\",\\n    \\\"anti Zionist campaigner\\\",\\n    \\\"countryside campaigner\\\",\\n    \\\"environment campaigner\\\",\\n    \\\"disability campaigner\\\",\\n    \\\"language campaigner\\\",\\n    \\\"anti war campaigner\\\",\\n    \\\"bureaucrat\\\",\\n    \\\"communist\\\",\\n    \\\"speech\\\",\\n    \\\"member of the Citizens' Commission to Investigate the FBI\\\",\\n    \\\"two term member of County Board of Supervisors\\\",\\n    \\\"member of the House of Bourbon Two Sicilies\\\",\\n    \\\"member of the House of Representatives for\\\",\\n    \\\"member of the House of Representatives\\\",\\n    \\\"Queensland Legislative Assembly member\\\",\\n    \\\"Berkeley Free Speech Movement member\\\",\\n    \\\"Amnesty International board member\\\",\\n    \\\"founding member of Front National\\\",\\n]\\npolitics_govt_law = sorted(\\n    list(set(politics_govt_law)), key=lambda x: len(x), reverse=True\\n)\\n\\narts = [\\n    \\\"founder of the Amadeus Quartet\\\",\\n    \\\"pioneer of video art\\\",\\n    \\\"computer art pioneer\\\",\\n    \\\"patron of the arts\\\",\\n    \\\"fetish art pioneer\\\",\\n    \\\"the Heartbreakers\\\",\\n    \\\"art impresario\\\",\\n    \\\"arts advocate\\\",\\n    \\\"news articles\\\",\\n    \\\"arts patron\\\",\\n    \\\"art patron\\\",\\n    \\\"two time Academy Award winner\\\",\\n    \\\"Academy Award winner\\\",\\n    \\\"leader of the Mary Kaye Trio\\\",\\n    \\\"orchestra leader\\\",\\n    \\\"radio\\\",\\n    \\\"record label owner\\\",\\n    \\\"boutique owner\\\",\\n    \\\"gallery owner\\\",\\n    \\\"studio owner\\\",\\n    \\\"media owner\\\",\\n    \\\"vegetarianism advocate\\\",\\n    \\\"community advocate\\\",\\n    \\\"arts advocate\\\",\\n    \\\"traditional waka builder\\\",\\n    \\\"golf analyst\\\",\\n    \\\"Cajun accordionist\\\",\\n    \\\"accordionist\\\",\\n    \\\"reality show contestant\\\",\\n    \\\"impressionist\\\",\\n    \\\"heavy metal drummer\\\",\\n    \\\"blues drummer\\\",\\n    \\\"jazz drummer\\\",\\n    \\\"R&B drummer\\\",\\n    \\\"drummer\\\",\\n    \\\"diarist\\\",\\n    \\\"ceramicist\\\",\\n    \\\"agent known for her impact on\\\",\\n    \\\"theatrical agent\\\",\\n    \\\"literary agent\\\",\\n    \\\"clown\\\",\\n    \\\"wildlife cameraman\\\",\\n    \\\"cameraman\\\",\\n    \\\"horticulturalist\\\",\\n    \\\"horticulturist\\\",\\n    \\\"distributor\\\",\\n    \\\"on The Tonight Show orchestra\\\",\\n    \\\"orchestra leader\\\",\\n    \\\"orchestrator\\\",\\n    \\\"small press printer\\\",\\n    \\\"fingerprint expert\\\",\\n    \\\"stamp printer\\\",\\n    \\\"print maker\\\",\\n    \\\"keyboardist\\\",\\n    \\\"patron of the arts\\\",\\n    \\\"arts advocate\\\",\\n    \\\"arts patron\\\",\\n    \\\"arts\\\",\\n    \\\"blues saxophonist\\\",\\n    \\\"blues drummer\\\",\\n    \\\"blues\\\",\\n    \\\"muralist\\\",\\n    \\\"post bop tenor saxophonist\\\",\\n    \\\"blues saxophonist\\\",\\n    \\\"alto saxophonist\\\",\\n    \\\"jazz saxophonist\\\",\\n    \\\"R&B saxophonist\\\",\\n    \\\"saxophonist\\\",\\n    \\\"screenplays\\\",\\n    \\\"screen\\\",\\n    \\\"a founding member of the progressive rock group Camel\\\",\\n    \\\"member of the Country Music Hall of Fame\\\",\\n    \\\"member of the Ultra Lettrist movement\\\",\\n    \\\"member of the Trapp Family Singers\\\",\\n    \\\"original member of R&B girl group\\\",\\n]\\narts = sorted(list(set(arts)), key=lambda x: len(x), reverse=True)\\n\\nsports = [\\n    \\\"founder of Spartak Moscow\\\",\\n    \\\"bodybuilder\\\",\\n    \\\"Tour golfer\\\",\\n    \\\"golfer\\\",\\n    \\\"Seven Summits record holder\\\",\\n    \\\"former world record holder\\\",\\n    \\\"land speed record holder\\\",\\n    \\\"world record holder\\\",\\n    \\\"record holder\\\",\\n    \\\"Thoroughbred racehorse breeder\\\",\\n    \\\"horse breeder\\\",\\n    \\\"dog breeder\\\",\\n    \\\"member of the NASCAR Hall of Fame\\\",\\n    \\\"NASCAR driver\\\",\\n    \\\"hurler\\\",\\n    \\\"curler\\\",\\n    \\\"member of the Baseball Hall of Fame\\\",\\n]\\nsports = sorted(list(set(sports)), key=lambda x: len(x), reverse=True)\\n\\nsciences = [\\n    \\\"open heart surgery pioneer\\\",\\n    \\\"earthquake expert\\\",\\n    \\\"Turing Award winner\\\",\\n    \\\"a leader in controlled fusion research\\\",\\n    \\\"group leader in the Manhattan Project\\\",\\n    \\\"a leader in satellite communications\\\",\\n    \\\"hot rod builder\\\",\\n    \\\"boat builder\\\",\\n    \\\"daffodil breeder\\\",\\n    \\\"plant breeder\\\",\\n    \\\"wheat breeder\\\",\\n    \\\"X ray crystallography pioneer\\\",\\n    \\\"protein crystallographer\\\",\\n    \\\"crystallographer\\\",\\n    \\\"nutritional expert\\\",\\n    \\\"nutrition expert\\\",\\n    \\\"nutritionist\\\",\\n    \\\"technology\\\",\\n    \\\"oceanographer\\\",\\n    \\\"futurist\\\",\\n]\\nsciences = sorted(list(set(sciences)), key=lambda x: len(x), reverse=True)\\n\\nbusiness_farming = [\\n    \\\"son of Wal Mart founder Sam Walton\\\",\\n    \\\"co founder of Walmart\\\",\\n    \\\"chartered accountant\\\",\\n    \\\"bookshop owner\\\",\\n    \\\"vineyard owner\\\",\\n    \\\"airline owner\\\",\\n    \\\"casino owner\\\",\\n    \\\"hotel owner\\\",\\n    \\\"holding investor\\\",\\n    \\\"investor\\\",\\n    \\\"winemaker\\\",\\n    \\\"real estate developer\\\",\\n    \\\"real estate mogul\\\",\\n    \\\"funeral home insurance agent\\\",\\n    \\\"ticket selling agent\\\",\\n    \\\"insurance agent\\\",\\n    \\\"venture capitalist\\\",\\n    \\\"member of the supermarket Sainsbury family\\\",\\n    \\\"first woman member of the Stock Exchange\\\",\\n]\\nbusiness_farming = sorted(\\n    list(set(business_farming)), key=lambda x: len(x), reverse=True\\n)\\n\\nacademia_humanities = [\\n    \\\"museum owner\\\",\\n    \\\"advocate of evolutionary epistemology\\\",\\n    \\\"Native advocate\\\",\\n    \\\"logician\\\",\\n    \\\"logic\\\",\\n    \\\"President of Bar Ilan University\\\",\\n    \\\"officer of arms\\\",\\n    \\\"medievalist\\\",\\n    \\\"heritage campaigner\\\",\\n    \\\"geographer\\\",\\n    \\\"archeologist\\\",\\n]\\nacademia_humanities = sorted(\\n    list(set(academia_humanities)), key=lambda x: len(x), reverse=True\\n)\\n\\nlaw_enf_military_operator = [\\n    \\\"wartime commander\\\",\\n    \\\"quartermaster\\\",\\n    \\\"partisan\\\",\\n    \\\"War prisoner of war escapee\\\",\\n    \\\"prisoner of war\\\",\\n    \\\"award winner\\\",\\n    \\\"game warden\\\",\\n    \\\"war hero\\\",\\n    \\\"warlord\\\",\\n    \\\"a resistance movement leader\\\",\\n    \\\"leader of the Grey Wolves\\\",\\n    \\\"resistance leader\\\",\\n    \\\"guerrilla leader\\\",\\n    \\\"rebel leader\\\",\\n    \\\"general\\\",\\n    \\\"Army officer\\\",\\n    \\\"Royal Naval Volunteer Reserve officer\\\",\\n    \\\"later an officer in the Air Force\\\",\\n    \\\"former Marine Corps officer\\\",\\n    \\\"Naval Intelligence officer\\\",\\n    \\\"General Staff officer\\\",\\n    \\\"Marine Corps officer\\\",\\n    \\\"air force officer\\\",\\n    \\\"security officer\\\",\\n    \\\"liaison officer\\\",\\n    \\\"Army officer\\\",\\n    \\\"navy officer\\\",\\n    \\\"KGB officer\\\",\\n    \\\"CIA officer\\\",\\n    \\\"RAF officer\\\",\\n    \\\"SS officer\\\",\\n    \\\"militant\\\",\\n    \\\"Jewish resistance member during the Holocaust\\\",\\n    \\\"a resistance movement leader\\\",\\n    \\\"resistance fighter\\\",\\n    \\\"resistance member\\\",\\n    \\\"resistance leader\\\",\\n    \\\"resistance fighter\\\",\\n    \\\"Resistance fighter\\\",\\n    \\\"a freedom fighter\\\",\\n    \\\"guerrilla fighter\\\",\\n    \\\"freedom fighter\\\",\\n    \\\"fighter ace\\\",\\n    \\\"firefighter\\\",\\n    \\\"codebreaker\\\",\\n    \\\"Special Operations Executive agent\\\",\\n    \\\"clandestine agent\\\",\\n    \\\"secret agent\\\",\\n    \\\"double agent\\\",\\n    \\\"FBI agent\\\",\\n    \\\"CIA agent\\\",\\n    \\\"fingerprint expert\\\",\\n    \\\"rear admiral\\\",\\n    \\\"admiral\\\",\\n    \\\"member of a Special Forces Airborne Reserve Unit\\\",\\n    \\\"member of the Magnum Photography Collective\\\",\\n]\\nlaw_enf_military_operator = sorted(\\n    list(set(law_enf_military_operator)), key=lambda x: len(x), reverse=True\\n)\\n\\nspiritual = [\\n    \\\"Dean of Hobart from to\\\",\\n    \\\"award winning Christian\\\",\\n    \\\"rosh yeshiva\\\",\\n    \\\"Archbishop of the Anglican Church of\\\",\\n    \\\"st Archbishop of Canterbury\\\",\\n    \\\"former archbishop of Manila\\\",\\n    \\\"Archbishop of Cape Town\\\",\\n    \\\"Pentecostal bishop\\\",\\n    \\\"Church of bishop\\\",\\n    \\\"Archbishop of\\\",\\n    \\\"archbishop\\\",\\n    \\\"bishop\\\",\\n    \\\"interfaith campaigner\\\",\\n    \\\"Anglican cleric\\\",\\n    \\\"Islamic cleric\\\",\\n    \\\"cleric\\\",\\n    \\\"Islamic Studies at the University of Edinburgh\\\",\\n    \\\"Islamic cleric\\\",\\n    \\\"Islamic\\\",\\n    \\\"Islam\\\",\\n    \\\"religious mystic\\\",\\n    \\\"religious extremist\\\",\\n]\\nspiritual = sorted(list(set(spiritual)), key=lambda x: len(x), reverse=True)\\n\\nsocial = [\\n    \\\"animal welfare advocate\\\",\\n    \\\"child welfare advocate\\\",\\n    \\\"global poverty campaigner\\\",\\n    \\\"animal welfare campaigner\\\",\\n    \\\"charity campaigner\\\",\\n]\\nsocial = sorted(list(set(social)), key=lambda x: len(x), reverse=True)\\n\\ncrime = [\\n    \\\"assassin of Martin Luther King Jr\\\",\\n    \\\"member of the Cali Cartel\\\",\\n    \\\"art forger\\\",\\n    \\\"murderer\\\",\\n    \\\"sex offender\\\",\\n    \\\"kidnapper\\\",\\n    \\\"fugitive from justice\\\",\\n    \\\"FBI fugitive\\\",\\n    \\\"fugitive\\\",\\n    \\\"member of the Kansas City crime family\\\",\\n    \\\"member of the Patriarca crime family\\\",\\n    \\\"member of the Gambino crime family\\\",\\n    \\\"member of the Bonanno crime family\\\",\\n]\\ncrime = sorted(list(set(crime)), key=lambda x: len(x), reverse=True)\\n\\nevent_record_other = [\\n    \\\"muffler repair shop owner\\\",\\n]\\nevent_record_other = sorted(\\n    list(set(event_record_other)), key=lambda x: len(x), reverse=True\\n)\\n\\nother_species = []\\nother_species = sorted(list(set(other_species)), key=lambda x: len(x), reverse=True)\";\n",
       "                var nbb_cells = Jupyter.notebook.get_cells();\n",
       "                for (var i = 0; i < nbb_cells.length; ++i) {\n",
       "                    if (nbb_cells[i].input_prompt_number == nbb_cell_id) {\n",
       "                        if (nbb_cells[i].get_text() == nbb_unformatted_code) {\n",
       "                             nbb_cells[i].set_text(nbb_formatted_code);\n",
       "                        }\n",
       "                        break;\n",
       "                    }\n",
       "                }\n",
       "            }, 500);\n",
       "            "
      ],
      "text/plain": [
       "<IPython.core.display.Javascript object>"
      ]
     },
     "metadata": {},
     "output_type": "display_data"
    }
   ],
   "source": [
    "# Creating lists for each category and sorting by decreasing length and removing duplicates\n",
    "\n",
    "politics_govt_law = [\n",
    "    \"longtime advisor to Jimmy Carter\",\n",
    "    \"anti apartheid campaigner\",\n",
    "    \"prisoner of war rights campaigner\",\n",
    "    \"anti war campaigner\",\n",
    "    \"community leader\",\n",
    "    \"owner of the opposition news website\",\n",
    "    \"women literacy advocate\",\n",
    "    \"mental health advocate\",\n",
    "    \"nuclear power advocate\",\n",
    "    \"disability advocate\",\n",
    "    \"mass media advocate\",\n",
    "    \"women health advocate\",\n",
    "    \"advocate for women\",\n",
    "    \"freedom advocate\",\n",
    "    \"social advocate\",\n",
    "    \"autism advocate\",\n",
    "    \"women advocate\",\n",
    "    \"former President of\",\n",
    "    \"ceremonial officer\",\n",
    "    \"legislator\",\n",
    "    \"town planner\",\n",
    "    \"disability rights campaigner\",\n",
    "    \"campaigner for safety glass\",\n",
    "    \"anti apartheid campaigner\",\n",
    "    \"environmental campaigner\",\n",
    "    \"mental health campaigner\",\n",
    "    \"human rights campaigner\",\n",
    "    \"right to die campaigner\",\n",
    "    \"child safety campaigner\",\n",
    "    \"blind rights campaigner\",\n",
    "    \"anti Zionist campaigner\",\n",
    "    \"countryside campaigner\",\n",
    "    \"environment campaigner\",\n",
    "    \"disability campaigner\",\n",
    "    \"language campaigner\",\n",
    "    \"anti war campaigner\",\n",
    "    \"bureaucrat\",\n",
    "    \"communist\",\n",
    "    \"speech\",\n",
    "    \"member of the Citizens' Commission to Investigate the FBI\",\n",
    "    \"two term member of County Board of Supervisors\",\n",
    "    \"member of the House of Bourbon Two Sicilies\",\n",
    "    \"member of the House of Representatives for\",\n",
    "    \"member of the House of Representatives\",\n",
    "    \"Queensland Legislative Assembly member\",\n",
    "    \"Berkeley Free Speech Movement member\",\n",
    "    \"Amnesty International board member\",\n",
    "    \"founding member of Front National\",\n",
    "]\n",
    "politics_govt_law = sorted(\n",
    "    list(set(politics_govt_law)), key=lambda x: len(x), reverse=True\n",
    ")\n",
    "\n",
    "arts = [\n",
    "    \"founder of the Amadeus Quartet\",\n",
    "    \"pioneer of video art\",\n",
    "    \"computer art pioneer\",\n",
    "    \"patron of the arts\",\n",
    "    \"fetish art pioneer\",\n",
    "    \"the Heartbreakers\",\n",
    "    \"art impresario\",\n",
    "    \"arts advocate\",\n",
    "    \"news articles\",\n",
    "    \"arts patron\",\n",
    "    \"art patron\",\n",
    "    \"two time Academy Award winner\",\n",
    "    \"Academy Award winner\",\n",
    "    \"leader of the Mary Kaye Trio\",\n",
    "    \"orchestra leader\",\n",
    "    \"radio\",\n",
    "    \"record label owner\",\n",
    "    \"boutique owner\",\n",
    "    \"gallery owner\",\n",
    "    \"studio owner\",\n",
    "    \"media owner\",\n",
    "    \"vegetarianism advocate\",\n",
    "    \"community advocate\",\n",
    "    \"arts advocate\",\n",
    "    \"traditional waka builder\",\n",
    "    \"golf analyst\",\n",
    "    \"Cajun accordionist\",\n",
    "    \"accordionist\",\n",
    "    \"reality show contestant\",\n",
    "    \"impressionist\",\n",
    "    \"heavy metal drummer\",\n",
    "    \"blues drummer\",\n",
    "    \"jazz drummer\",\n",
    "    \"R&B drummer\",\n",
    "    \"drummer\",\n",
    "    \"diarist\",\n",
    "    \"ceramicist\",\n",
    "    \"agent known for her impact on\",\n",
    "    \"theatrical agent\",\n",
    "    \"literary agent\",\n",
    "    \"clown\",\n",
    "    \"wildlife cameraman\",\n",
    "    \"cameraman\",\n",
    "    \"horticulturalist\",\n",
    "    \"horticulturist\",\n",
    "    \"distributor\",\n",
    "    \"on The Tonight Show orchestra\",\n",
    "    \"orchestra leader\",\n",
    "    \"orchestrator\",\n",
    "    \"small press printer\",\n",
    "    \"fingerprint expert\",\n",
    "    \"stamp printer\",\n",
    "    \"print maker\",\n",
    "    \"keyboardist\",\n",
    "    \"patron of the arts\",\n",
    "    \"arts advocate\",\n",
    "    \"arts patron\",\n",
    "    \"arts\",\n",
    "    \"blues saxophonist\",\n",
    "    \"blues drummer\",\n",
    "    \"blues\",\n",
    "    \"muralist\",\n",
    "    \"post bop tenor saxophonist\",\n",
    "    \"blues saxophonist\",\n",
    "    \"alto saxophonist\",\n",
    "    \"jazz saxophonist\",\n",
    "    \"R&B saxophonist\",\n",
    "    \"saxophonist\",\n",
    "    \"screenplays\",\n",
    "    \"screen\",\n",
    "    \"a founding member of the progressive rock group Camel\",\n",
    "    \"member of the Country Music Hall of Fame\",\n",
    "    \"member of the Ultra Lettrist movement\",\n",
    "    \"member of the Trapp Family Singers\",\n",
    "    \"original member of R&B girl group\",\n",
    "]\n",
    "arts = sorted(list(set(arts)), key=lambda x: len(x), reverse=True)\n",
    "\n",
    "sports = [\n",
    "    \"founder of Spartak Moscow\",\n",
    "    \"bodybuilder\",\n",
    "    \"Tour golfer\",\n",
    "    \"golfer\",\n",
    "    \"Seven Summits record holder\",\n",
    "    \"former world record holder\",\n",
    "    \"land speed record holder\",\n",
    "    \"world record holder\",\n",
    "    \"record holder\",\n",
    "    \"Thoroughbred racehorse breeder\",\n",
    "    \"horse breeder\",\n",
    "    \"dog breeder\",\n",
    "    \"member of the NASCAR Hall of Fame\",\n",
    "    \"NASCAR driver\",\n",
    "    \"hurler\",\n",
    "    \"curler\",\n",
    "    \"member of the Baseball Hall of Fame\",\n",
    "]\n",
    "sports = sorted(list(set(sports)), key=lambda x: len(x), reverse=True)\n",
    "\n",
    "sciences = [\n",
    "    \"open heart surgery pioneer\",\n",
    "    \"earthquake expert\",\n",
    "    \"Turing Award winner\",\n",
    "    \"a leader in controlled fusion research\",\n",
    "    \"group leader in the Manhattan Project\",\n",
    "    \"a leader in satellite communications\",\n",
    "    \"hot rod builder\",\n",
    "    \"boat builder\",\n",
    "    \"daffodil breeder\",\n",
    "    \"plant breeder\",\n",
    "    \"wheat breeder\",\n",
    "    \"X ray crystallography pioneer\",\n",
    "    \"protein crystallographer\",\n",
    "    \"crystallographer\",\n",
    "    \"nutritional expert\",\n",
    "    \"nutrition expert\",\n",
    "    \"nutritionist\",\n",
    "    \"technology\",\n",
    "    \"oceanographer\",\n",
    "    \"futurist\",\n",
    "]\n",
    "sciences = sorted(list(set(sciences)), key=lambda x: len(x), reverse=True)\n",
    "\n",
    "business_farming = [\n",
    "    \"son of Wal Mart founder Sam Walton\",\n",
    "    \"co founder of Walmart\",\n",
    "    \"chartered accountant\",\n",
    "    \"bookshop owner\",\n",
    "    \"vineyard owner\",\n",
    "    \"airline owner\",\n",
    "    \"casino owner\",\n",
    "    \"hotel owner\",\n",
    "    \"holding investor\",\n",
    "    \"investor\",\n",
    "    \"winemaker\",\n",
    "    \"real estate developer\",\n",
    "    \"real estate mogul\",\n",
    "    \"funeral home insurance agent\",\n",
    "    \"ticket selling agent\",\n",
    "    \"insurance agent\",\n",
    "    \"venture capitalist\",\n",
    "    \"member of the supermarket Sainsbury family\",\n",
    "    \"first woman member of the Stock Exchange\",\n",
    "]\n",
    "business_farming = sorted(\n",
    "    list(set(business_farming)), key=lambda x: len(x), reverse=True\n",
    ")\n",
    "\n",
    "academia_humanities = [\n",
    "    \"museum owner\",\n",
    "    \"advocate of evolutionary epistemology\",\n",
    "    \"Native advocate\",\n",
    "    \"logician\",\n",
    "    \"logic\",\n",
    "    \"President of Bar Ilan University\",\n",
    "    \"officer of arms\",\n",
    "    \"medievalist\",\n",
    "    \"heritage campaigner\",\n",
    "    \"geographer\",\n",
    "    \"archeologist\",\n",
    "]\n",
    "academia_humanities = sorted(\n",
    "    list(set(academia_humanities)), key=lambda x: len(x), reverse=True\n",
    ")\n",
    "\n",
    "law_enf_military_operator = [\n",
    "    \"wartime commander\",\n",
    "    \"quartermaster\",\n",
    "    \"partisan\",\n",
    "    \"War prisoner of war escapee\",\n",
    "    \"prisoner of war\",\n",
    "    \"award winner\",\n",
    "    \"game warden\",\n",
    "    \"war hero\",\n",
    "    \"warlord\",\n",
    "    \"a resistance movement leader\",\n",
    "    \"leader of the Grey Wolves\",\n",
    "    \"resistance leader\",\n",
    "    \"guerrilla leader\",\n",
    "    \"rebel leader\",\n",
    "    \"general\",\n",
    "    \"Army officer\",\n",
    "    \"Royal Naval Volunteer Reserve officer\",\n",
    "    \"later an officer in the Air Force\",\n",
    "    \"former Marine Corps officer\",\n",
    "    \"Naval Intelligence officer\",\n",
    "    \"General Staff officer\",\n",
    "    \"Marine Corps officer\",\n",
    "    \"air force officer\",\n",
    "    \"security officer\",\n",
    "    \"liaison officer\",\n",
    "    \"Army officer\",\n",
    "    \"navy officer\",\n",
    "    \"KGB officer\",\n",
    "    \"CIA officer\",\n",
    "    \"RAF officer\",\n",
    "    \"SS officer\",\n",
    "    \"militant\",\n",
    "    \"Jewish resistance member during the Holocaust\",\n",
    "    \"a resistance movement leader\",\n",
    "    \"resistance fighter\",\n",
    "    \"resistance member\",\n",
    "    \"resistance leader\",\n",
    "    \"resistance fighter\",\n",
    "    \"Resistance fighter\",\n",
    "    \"a freedom fighter\",\n",
    "    \"guerrilla fighter\",\n",
    "    \"freedom fighter\",\n",
    "    \"fighter ace\",\n",
    "    \"firefighter\",\n",
    "    \"codebreaker\",\n",
    "    \"Special Operations Executive agent\",\n",
    "    \"clandestine agent\",\n",
    "    \"secret agent\",\n",
    "    \"double agent\",\n",
    "    \"FBI agent\",\n",
    "    \"CIA agent\",\n",
    "    \"fingerprint expert\",\n",
    "    \"rear admiral\",\n",
    "    \"admiral\",\n",
    "    \"member of a Special Forces Airborne Reserve Unit\",\n",
    "    \"member of the Magnum Photography Collective\",\n",
    "]\n",
    "law_enf_military_operator = sorted(\n",
    "    list(set(law_enf_military_operator)), key=lambda x: len(x), reverse=True\n",
    ")\n",
    "\n",
    "spiritual = [\n",
    "    \"Dean of Hobart from to\",\n",
    "    \"award winning Christian\",\n",
    "    \"rosh yeshiva\",\n",
    "    \"Archbishop of the Anglican Church of\",\n",
    "    \"st Archbishop of Canterbury\",\n",
    "    \"former archbishop of Manila\",\n",
    "    \"Archbishop of Cape Town\",\n",
    "    \"Pentecostal bishop\",\n",
    "    \"Church of bishop\",\n",
    "    \"Archbishop of\",\n",
    "    \"archbishop\",\n",
    "    \"bishop\",\n",
    "    \"interfaith campaigner\",\n",
    "    \"Anglican cleric\",\n",
    "    \"Islamic cleric\",\n",
    "    \"cleric\",\n",
    "    \"Islamic Studies at the University of Edinburgh\",\n",
    "    \"Islamic cleric\",\n",
    "    \"Islamic\",\n",
    "    \"Islam\",\n",
    "    \"religious mystic\",\n",
    "    \"religious extremist\",\n",
    "]\n",
    "spiritual = sorted(list(set(spiritual)), key=lambda x: len(x), reverse=True)\n",
    "\n",
    "social = [\n",
    "    \"animal welfare advocate\",\n",
    "    \"child welfare advocate\",\n",
    "    \"global poverty campaigner\",\n",
    "    \"animal welfare campaigner\",\n",
    "    \"charity campaigner\",\n",
    "]\n",
    "social = sorted(list(set(social)), key=lambda x: len(x), reverse=True)\n",
    "\n",
    "crime = [\n",
    "    \"assassin of Martin Luther King Jr\",\n",
    "    \"member of the Cali Cartel\",\n",
    "    \"art forger\",\n",
    "    \"murderer\",\n",
    "    \"sex offender\",\n",
    "    \"kidnapper\",\n",
    "    \"fugitive from justice\",\n",
    "    \"FBI fugitive\",\n",
    "    \"fugitive\",\n",
    "    \"member of the Kansas City crime family\",\n",
    "    \"member of the Patriarca crime family\",\n",
    "    \"member of the Gambino crime family\",\n",
    "    \"member of the Bonanno crime family\",\n",
    "]\n",
    "crime = sorted(list(set(crime)), key=lambda x: len(x), reverse=True)\n",
    "\n",
    "event_record_other = [\n",
    "    \"muffler repair shop owner\",\n",
    "]\n",
    "event_record_other = sorted(\n",
    "    list(set(event_record_other)), key=lambda x: len(x), reverse=True\n",
    ")\n",
    "\n",
    "other_species = []\n",
    "other_species = sorted(list(set(other_species)), key=lambda x: len(x), reverse=True)"
   ]
  },
  {
   "cell_type": "code",
   "execution_count": 98,
   "id": "06a38b84",
   "metadata": {},
   "outputs": [
    {
     "data": {
      "application/javascript": [
       "\n",
       "            setTimeout(function() {\n",
       "                var nbb_cell_id = 98;\n",
       "                var nbb_unformatted_code = \"# Dropping entry with link that points to husband's page\\nindex = df[df[\\\"link\\\"] == \\\"https://en.wikipedia.org/wiki/Jean_Vollum\\\"].index\\ndf.drop(index, inplace=True)\\ndf.reset_index(inplace=True, drop=True)\";\n",
       "                var nbb_formatted_code = \"# Dropping entry with link that points to husband's page\\nindex = df[df[\\\"link\\\"] == \\\"https://en.wikipedia.org/wiki/Jean_Vollum\\\"].index\\ndf.drop(index, inplace=True)\\ndf.reset_index(inplace=True, drop=True)\";\n",
       "                var nbb_cells = Jupyter.notebook.get_cells();\n",
       "                for (var i = 0; i < nbb_cells.length; ++i) {\n",
       "                    if (nbb_cells[i].input_prompt_number == nbb_cell_id) {\n",
       "                        if (nbb_cells[i].get_text() == nbb_unformatted_code) {\n",
       "                             nbb_cells[i].set_text(nbb_formatted_code);\n",
       "                        }\n",
       "                        break;\n",
       "                    }\n",
       "                }\n",
       "            }, 500);\n",
       "            "
      ],
      "text/plain": [
       "<IPython.core.display.Javascript object>"
      ]
     },
     "metadata": {},
     "output_type": "display_data"
    }
   ],
   "source": [
    "# Dropping entry with link that points to husband's page\n",
    "index = df[df[\"link\"] == \"https://en.wikipedia.org/wiki/Jean_Vollum\"].index\n",
    "df.drop(index, inplace=True)\n",
    "df.reset_index(inplace=True, drop=True)"
   ]
  },
  {
   "cell_type": "markdown",
   "id": "b4a6c75c",
   "metadata": {},
   "source": [
    "#### Creating `known_for_dict` Dictionary of Category Keys and Specific Role Lists of Values"
   ]
  },
  {
   "cell_type": "code",
   "execution_count": 99,
   "id": "205ea4bc",
   "metadata": {},
   "outputs": [
    {
     "data": {
      "application/javascript": [
       "\n",
       "            setTimeout(function() {\n",
       "                var nbb_cell_id = 99;\n",
       "                var nbb_unformatted_code = \"# Combining separate lists into one dictionary\\nknown_for_dict = {\\n    \\\"social\\\": social,\\n    \\\"spiritual\\\": spiritual,\\n    \\\"academia_humanities\\\": academia_humanities,\\n    \\\"business_farming\\\": business_farming,\\n    \\\"sciences\\\": sciences,\\n    \\\"politics_govt_law\\\": politics_govt_law,\\n    \\\"law_enf_military_operator\\\": law_enf_military_operator,\\n    \\\"crime\\\": crime,\\n    \\\"event_record_other\\\": event_record_other,\\n    \\\"other_species\\\": other_species,\\n    \\\"arts\\\": arts,\\n    \\\"sports\\\": sports,\\n}\";\n",
       "                var nbb_formatted_code = \"# Combining separate lists into one dictionary\\nknown_for_dict = {\\n    \\\"social\\\": social,\\n    \\\"spiritual\\\": spiritual,\\n    \\\"academia_humanities\\\": academia_humanities,\\n    \\\"business_farming\\\": business_farming,\\n    \\\"sciences\\\": sciences,\\n    \\\"politics_govt_law\\\": politics_govt_law,\\n    \\\"law_enf_military_operator\\\": law_enf_military_operator,\\n    \\\"crime\\\": crime,\\n    \\\"event_record_other\\\": event_record_other,\\n    \\\"other_species\\\": other_species,\\n    \\\"arts\\\": arts,\\n    \\\"sports\\\": sports,\\n}\";\n",
       "                var nbb_cells = Jupyter.notebook.get_cells();\n",
       "                for (var i = 0; i < nbb_cells.length; ++i) {\n",
       "                    if (nbb_cells[i].input_prompt_number == nbb_cell_id) {\n",
       "                        if (nbb_cells[i].get_text() == nbb_unformatted_code) {\n",
       "                             nbb_cells[i].set_text(nbb_formatted_code);\n",
       "                        }\n",
       "                        break;\n",
       "                    }\n",
       "                }\n",
       "            }, 500);\n",
       "            "
      ],
      "text/plain": [
       "<IPython.core.display.Javascript object>"
      ]
     },
     "metadata": {},
     "output_type": "display_data"
    }
   ],
   "source": [
    "# Combining separate lists into one dictionary\n",
    "known_for_dict = {\n",
    "    \"social\": social,\n",
    "    \"spiritual\": spiritual,\n",
    "    \"academia_humanities\": academia_humanities,\n",
    "    \"business_farming\": business_farming,\n",
    "    \"sciences\": sciences,\n",
    "    \"politics_govt_law\": politics_govt_law,\n",
    "    \"law_enf_military_operator\": law_enf_military_operator,\n",
    "    \"crime\": crime,\n",
    "    \"event_record_other\": event_record_other,\n",
    "    \"other_species\": other_species,\n",
    "    \"arts\": arts,\n",
    "    \"sports\": sports,\n",
    "}"
   ]
  },
  {
   "cell_type": "markdown",
   "id": "4c76c617",
   "metadata": {},
   "source": [
    "#### Extracting Category from `info_2_1`"
   ]
  },
  {
   "cell_type": "code",
   "execution_count": 100,
   "id": "3dc52e0c",
   "metadata": {},
   "outputs": [
    {
     "name": "stdout",
     "output_type": "stream",
     "text": [
      "CPU times: total: 31.2 s\n",
      "Wall time: 31.2 s\n"
     ]
    },
    {
     "data": {
      "application/javascript": [
       "\n",
       "            setTimeout(function() {\n",
       "                var nbb_cell_id = 100;\n",
       "                var nbb_unformatted_code = \"%%time\\n\\n# Column to check\\ncolumn = 'info_2_1'\\n\\n# Start dataframe\\ndataframe = df[df[column].notna()]\\n\\n# For loop to find role in column and extract it as category\\nfor category, category_lst in known_for_dict.items():\\n    for role in category_lst:\\n        for index in dataframe.index:\\n                item = df.loc[index, column]\\n                if item:\\n                    if role in item:\\n                        df.loc[index, category] = 1\\n                        df.loc[index, column] = item.replace(role, '').strip()\\n\\n# Calculating num_categories\\ndf[\\\"num_categories\\\"] = df[known_for_dict.keys()].sum(axis=1)\";\n",
       "                var nbb_formatted_code = \"%%time\\n\\n# Column to check\\ncolumn = 'info_2_1'\\n\\n# Start dataframe\\ndataframe = df[df[column].notna()]\\n\\n# For loop to find role in column and extract it as category\\nfor category, category_lst in known_for_dict.items():\\n    for role in category_lst:\\n        for index in dataframe.index:\\n                item = df.loc[index, column]\\n                if item:\\n                    if role in item:\\n                        df.loc[index, category] = 1\\n                        df.loc[index, column] = item.replace(role, '').strip()\\n\\n# Calculating num_categories\\ndf[\\\"num_categories\\\"] = df[known_for_dict.keys()].sum(axis=1)\";\n",
       "                var nbb_cells = Jupyter.notebook.get_cells();\n",
       "                for (var i = 0; i < nbb_cells.length; ++i) {\n",
       "                    if (nbb_cells[i].input_prompt_number == nbb_cell_id) {\n",
       "                        if (nbb_cells[i].get_text() == nbb_unformatted_code) {\n",
       "                             nbb_cells[i].set_text(nbb_formatted_code);\n",
       "                        }\n",
       "                        break;\n",
       "                    }\n",
       "                }\n",
       "            }, 500);\n",
       "            "
      ],
      "text/plain": [
       "<IPython.core.display.Javascript object>"
      ]
     },
     "metadata": {},
     "output_type": "display_data"
    }
   ],
   "source": [
    "%%time\n",
    "\n",
    "# Column to check\n",
    "column = 'info_2_1'\n",
    "\n",
    "# Start dataframe\n",
    "dataframe = df[df[column].notna()]\n",
    "\n",
    "# For loop to find role in column and extract it as category\n",
    "for category, category_lst in known_for_dict.items():\n",
    "    for role in category_lst:\n",
    "        for index in dataframe.index:\n",
    "                item = df.loc[index, column]\n",
    "                if item:\n",
    "                    if role in item:\n",
    "                        df.loc[index, category] = 1\n",
    "                        df.loc[index, column] = item.replace(role, '').strip()\n",
    "\n",
    "# Calculating num_categories\n",
    "df[\"num_categories\"] = df[known_for_dict.keys()].sum(axis=1)"
   ]
  },
  {
   "cell_type": "markdown",
   "id": "2374f53f",
   "metadata": {},
   "source": [
    "#### Checking Updated `num_categories` Value Counts"
   ]
  },
  {
   "cell_type": "code",
   "execution_count": 101,
   "id": "3c7cfa4c",
   "metadata": {},
   "outputs": [
    {
     "data": {
      "text/plain": [
       "1    88713\n",
       "2     9109\n",
       "3      155\n",
       "0       66\n",
       "Name: num_categories, dtype: int64"
      ]
     },
     "execution_count": 101,
     "metadata": {},
     "output_type": "execute_result"
    },
    {
     "data": {
      "application/javascript": [
       "\n",
       "            setTimeout(function() {\n",
       "                var nbb_cell_id = 101;\n",
       "                var nbb_unformatted_code = \"# Checking updated num_categories value counts\\ndf[\\\"num_categories\\\"].value_counts()\";\n",
       "                var nbb_formatted_code = \"# Checking updated num_categories value counts\\ndf[\\\"num_categories\\\"].value_counts()\";\n",
       "                var nbb_cells = Jupyter.notebook.get_cells();\n",
       "                for (var i = 0; i < nbb_cells.length; ++i) {\n",
       "                    if (nbb_cells[i].input_prompt_number == nbb_cell_id) {\n",
       "                        if (nbb_cells[i].get_text() == nbb_unformatted_code) {\n",
       "                             nbb_cells[i].set_text(nbb_formatted_code);\n",
       "                        }\n",
       "                        break;\n",
       "                    }\n",
       "                }\n",
       "            }, 500);\n",
       "            "
      ],
      "text/plain": [
       "<IPython.core.display.Javascript object>"
      ]
     },
     "metadata": {},
     "output_type": "display_data"
    }
   ],
   "source": [
    "# Checking updated num_categories value counts\n",
    "df[\"num_categories\"].value_counts()"
   ]
  },
  {
   "cell_type": "markdown",
   "id": "11c26dd0",
   "metadata": {},
   "source": [
    "#### Observations:\n",
    "- We will proceed to rebuild `known_for_dict` for the next iteration."
   ]
  },
  {
   "cell_type": "markdown",
   "id": "6ea7ae99",
   "metadata": {},
   "source": [
    "#### Finding `known_for` Roles in `info_2_1`"
   ]
  },
  {
   "cell_type": "code",
   "execution_count": 102,
   "id": "198d0cc7",
   "metadata": {},
   "outputs": [
    {
     "data": {
      "application/javascript": [
       "\n",
       "            setTimeout(function() {\n",
       "                var nbb_cell_id = 102;\n",
       "                var nbb_unformatted_code = \"# # Obtaining values for column and their counts\\n# roles_list = df[\\\"info_2_1\\\"].value_counts(ascending=True).index.tolist()\";\n",
       "                var nbb_formatted_code = \"# # Obtaining values for column and their counts\\n# roles_list = df[\\\"info_2_1\\\"].value_counts(ascending=True).index.tolist()\";\n",
       "                var nbb_cells = Jupyter.notebook.get_cells();\n",
       "                for (var i = 0; i < nbb_cells.length; ++i) {\n",
       "                    if (nbb_cells[i].input_prompt_number == nbb_cell_id) {\n",
       "                        if (nbb_cells[i].get_text() == nbb_unformatted_code) {\n",
       "                             nbb_cells[i].set_text(nbb_formatted_code);\n",
       "                        }\n",
       "                        break;\n",
       "                    }\n",
       "                }\n",
       "            }, 500);\n",
       "            "
      ],
      "text/plain": [
       "<IPython.core.display.Javascript object>"
      ]
     },
     "metadata": {},
     "output_type": "display_data"
    }
   ],
   "source": [
    "# # Obtaining values for column and their counts\n",
    "# roles_list = df[\"info_2_1\"].value_counts(ascending=True).index.tolist()"
   ]
  },
  {
   "cell_type": "code",
   "execution_count": 103,
   "id": "3606f1de",
   "metadata": {},
   "outputs": [
    {
     "data": {
      "application/javascript": [
       "\n",
       "            setTimeout(function() {\n",
       "                var nbb_cell_id = 103;\n",
       "                var nbb_unformatted_code = \"# # Code to check each value\\n# roles_list.pop()\";\n",
       "                var nbb_formatted_code = \"# # Code to check each value\\n# roles_list.pop()\";\n",
       "                var nbb_cells = Jupyter.notebook.get_cells();\n",
       "                for (var i = 0; i < nbb_cells.length; ++i) {\n",
       "                    if (nbb_cells[i].input_prompt_number == nbb_cell_id) {\n",
       "                        if (nbb_cells[i].get_text() == nbb_unformatted_code) {\n",
       "                             nbb_cells[i].set_text(nbb_formatted_code);\n",
       "                        }\n",
       "                        break;\n",
       "                    }\n",
       "                }\n",
       "            }, 500);\n",
       "            "
      ],
      "text/plain": [
       "<IPython.core.display.Javascript object>"
      ]
     },
     "metadata": {},
     "output_type": "display_data"
    }
   ],
   "source": [
    "# # Code to check each value\n",
    "# roles_list.pop()"
   ]
  },
  {
   "cell_type": "code",
   "execution_count": 104,
   "id": "8eb3b25c",
   "metadata": {},
   "outputs": [
    {
     "data": {
      "application/javascript": [
       "\n",
       "            setTimeout(function() {\n",
       "                var nbb_cell_id = 104;\n",
       "                var nbb_unformatted_code = \"# # Create specific_roles_list for above popped value\\n# specific_roles_list = (\\n#     df.loc[\\n#         [\\n#             index\\n#             for index in df[df[\\\"info_2_1\\\"].notna()].index\\n#             if \\\"senator\\\" in df.loc[index, \\\"info_2_1\\\"]\\n#         ],\\n#         \\\"info_2_1\\\",\\n#     ]\\n#     .value_counts()\\n#     .index.tolist()\\n# )\";\n",
       "                var nbb_formatted_code = \"# # Create specific_roles_list for above popped value\\n# specific_roles_list = (\\n#     df.loc[\\n#         [\\n#             index\\n#             for index in df[df[\\\"info_2_1\\\"].notna()].index\\n#             if \\\"senator\\\" in df.loc[index, \\\"info_2_1\\\"]\\n#         ],\\n#         \\\"info_2_1\\\",\\n#     ]\\n#     .value_counts()\\n#     .index.tolist()\\n# )\";\n",
       "                var nbb_cells = Jupyter.notebook.get_cells();\n",
       "                for (var i = 0; i < nbb_cells.length; ++i) {\n",
       "                    if (nbb_cells[i].input_prompt_number == nbb_cell_id) {\n",
       "                        if (nbb_cells[i].get_text() == nbb_unformatted_code) {\n",
       "                             nbb_cells[i].set_text(nbb_formatted_code);\n",
       "                        }\n",
       "                        break;\n",
       "                    }\n",
       "                }\n",
       "            }, 500);\n",
       "            "
      ],
      "text/plain": [
       "<IPython.core.display.Javascript object>"
      ]
     },
     "metadata": {},
     "output_type": "display_data"
    }
   ],
   "source": [
    "# # Create specific_roles_list for above popped value\n",
    "# specific_roles_list = (\n",
    "#     df.loc[\n",
    "#         [\n",
    "#             index\n",
    "#             for index in df[df[\"info_2_1\"].notna()].index\n",
    "#             if \"senator\" in df.loc[index, \"info_2_1\"]\n",
    "#         ],\n",
    "#         \"info_2_1\",\n",
    "#     ]\n",
    "#     .value_counts()\n",
    "#     .index.tolist()\n",
    "# )"
   ]
  },
  {
   "cell_type": "code",
   "execution_count": 105,
   "id": "59b481c8",
   "metadata": {},
   "outputs": [
    {
     "data": {
      "application/javascript": [
       "\n",
       "            setTimeout(function() {\n",
       "                var nbb_cell_id = 105;\n",
       "                var nbb_unformatted_code = \"# # Viewing list sorted by descending length to copy to dictionary below and screen values\\n# sorted(specific_roles_list, key=lambda x: len(x), reverse=True)\";\n",
       "                var nbb_formatted_code = \"# # Viewing list sorted by descending length to copy to dictionary below and screen values\\n# sorted(specific_roles_list, key=lambda x: len(x), reverse=True)\";\n",
       "                var nbb_cells = Jupyter.notebook.get_cells();\n",
       "                for (var i = 0; i < nbb_cells.length; ++i) {\n",
       "                    if (nbb_cells[i].input_prompt_number == nbb_cell_id) {\n",
       "                        if (nbb_cells[i].get_text() == nbb_unformatted_code) {\n",
       "                             nbb_cells[i].set_text(nbb_formatted_code);\n",
       "                        }\n",
       "                        break;\n",
       "                    }\n",
       "                }\n",
       "            }, 500);\n",
       "            "
      ],
      "text/plain": [
       "<IPython.core.display.Javascript object>"
      ]
     },
     "metadata": {},
     "output_type": "display_data"
    }
   ],
   "source": [
    "# # Viewing list sorted by descending length to copy to dictionary below and screen values\n",
    "# sorted(specific_roles_list, key=lambda x: len(x), reverse=True)"
   ]
  },
  {
   "cell_type": "code",
   "execution_count": 106,
   "id": "0d16f037",
   "metadata": {},
   "outputs": [
    {
     "data": {
      "application/javascript": [
       "\n",
       "            setTimeout(function() {\n",
       "                var nbb_cell_id = 106;\n",
       "                var nbb_unformatted_code = \"# # Example code to check additional category for specific entries\\n# df.loc[\\n#     [\\n#         index\\n#         for index in df.index\\n#         if df.loc[index, \\\"info_2_1\\\"] == \\\"judge\\\"\\n#         and df.loc[index, \\\"politics_govt_law\\\"] == 0\\n#     ],\\n#     :,\\n# ]\";\n",
       "                var nbb_formatted_code = \"# # Example code to check additional category for specific entries\\n# df.loc[\\n#     [\\n#         index\\n#         for index in df.index\\n#         if df.loc[index, \\\"info_2_1\\\"] == \\\"judge\\\"\\n#         and df.loc[index, \\\"politics_govt_law\\\"] == 0\\n#     ],\\n#     :,\\n# ]\";\n",
       "                var nbb_cells = Jupyter.notebook.get_cells();\n",
       "                for (var i = 0; i < nbb_cells.length; ++i) {\n",
       "                    if (nbb_cells[i].input_prompt_number == nbb_cell_id) {\n",
       "                        if (nbb_cells[i].get_text() == nbb_unformatted_code) {\n",
       "                             nbb_cells[i].set_text(nbb_formatted_code);\n",
       "                        }\n",
       "                        break;\n",
       "                    }\n",
       "                }\n",
       "            }, 500);\n",
       "            "
      ],
      "text/plain": [
       "<IPython.core.display.Javascript object>"
      ]
     },
     "metadata": {},
     "output_type": "display_data"
    }
   ],
   "source": [
    "# # Example code to check additional category for specific entries\n",
    "# df.loc[\n",
    "#     [\n",
    "#         index\n",
    "#         for index in df.index\n",
    "#         if df.loc[index, \"info_2_1\"] == \"judge\"\n",
    "#         and df.loc[index, \"politics_govt_law\"] == 0\n",
    "#     ],\n",
    "#     :,\n",
    "# ]"
   ]
  },
  {
   "cell_type": "code",
   "execution_count": 107,
   "id": "617392c3",
   "metadata": {},
   "outputs": [
    {
     "data": {
      "application/javascript": [
       "\n",
       "            setTimeout(function() {\n",
       "                var nbb_cell_id = 107;\n",
       "                var nbb_unformatted_code = \"# # Example code to quick-check a specific entry\\n# df[df[\\\"info_2_1\\\"] == \\\"polygamist\\\"]\";\n",
       "                var nbb_formatted_code = \"# # Example code to quick-check a specific entry\\n# df[df[\\\"info_2_1\\\"] == \\\"polygamist\\\"]\";\n",
       "                var nbb_cells = Jupyter.notebook.get_cells();\n",
       "                for (var i = 0; i < nbb_cells.length; ++i) {\n",
       "                    if (nbb_cells[i].input_prompt_number == nbb_cell_id) {\n",
       "                        if (nbb_cells[i].get_text() == nbb_unformatted_code) {\n",
       "                             nbb_cells[i].set_text(nbb_formatted_code);\n",
       "                        }\n",
       "                        break;\n",
       "                    }\n",
       "                }\n",
       "            }, 500);\n",
       "            "
      ],
      "text/plain": [
       "<IPython.core.display.Javascript object>"
      ]
     },
     "metadata": {},
     "output_type": "display_data"
    }
   ],
   "source": [
    "# # Example code to quick-check a specific entry\n",
    "# df[df[\"info_2_1\"] == \"polygamist\"]"
   ]
  },
  {
   "cell_type": "markdown",
   "id": "47958d6c",
   "metadata": {},
   "source": [
    "#### Creating Lists for Each `known_for` Category"
   ]
  },
  {
   "cell_type": "code",
   "execution_count": 108,
   "id": "826c95b0",
   "metadata": {},
   "outputs": [
    {
     "data": {
      "application/javascript": [
       "\n",
       "            setTimeout(function() {\n",
       "                var nbb_cell_id = 108;\n",
       "                var nbb_unformatted_code = \"# Creating lists for each category and sorting by decreasing length and removing duplicates\\n\\npolitics_govt_law = [\\n    \\\"advocate\\\",\\n    \\\"President of\\\",\\n    \\\"President\\\",\\n    \\\"campaigner\\\",\\n    \\\"a Muhammad Ali Dynasty member\\\",\\n    \\\"Northern Assembly member\\\",\\n    \\\"founding member of SWAPO\\\",\\n    \\\"member of the Politburo\\\",\\n    \\\"a member of Parliament\\\",\\n    \\\"member of n State Duma\\\",\\n    \\\"Ku Klux Klan member\\\",\\n    \\\"cabinet member\\\",\\n    \\\"Knesset member\\\",\\n    \\\"Lieutenant Governor of Arkansas since\\\",\\n    \\\"former Governor of Sindh province\\\",\\n    \\\"Governor of Idaho from to\\\",\\n    \\\"last Governor of Northern\\\",\\n    \\\"Governor of the Bank of\\\",\\n    \\\"rd Governor of Michigan\\\",\\n    \\\"Lieutenant Governor of\\\",\\n    \\\"Governor of New South\\\",\\n    \\\"Governor of Minnesota\\\",\\n    \\\"Governor of Northern\\\",\\n    \\\"Governor of Western\\\",\\n    \\\"Governor of Punjab\\\",\\n    \\\"Governor of Kansas\\\",\\n    \\\"Governor of Nevada\\\",\\n    \\\"Governor of South\\\",\\n    \\\"Governor General\\\",\\n    \\\"th Governor of\\\",\\n    \\\"Governor of\\\",\\n    \\\"Governor\\\",\\n    \\\"then incumbent Speaker of Parliament\\\",\\n    \\\"a member of Parliament\\\",\\n    \\\"Member of Parliament\\\",\\n    \\\"documentarian of race issues\\\",\\n    \\\"first female speaker of the House\\\",\\n    \\\"city planner\\\",\\n    \\\"first Chief of Staff\\\",\\n    \\\"Associate Justice of the Supreme Court of the\\\",\\n    \\\"Associate Justice of the Supreme Court\\\",\\n    \\\"former Lord Chief Justice\\\",\\n    \\\"former Chief Justice of\\\",\\n    \\\"Minister of Justice\\\",\\n    \\\"Chief Justice of\\\",\\n    \\\"Chief Justice\\\",\\n    \\\"leader\\\",\\n    \\\"princess\\\",\\n    \\\"policy analyst\\\",\\n    \\\"anarchist\\\",\\n    \\\"anarchism\\\",\\n    \\\"MP\\\",\\n    \\\"presidential advisor\\\",\\n    \\\"social reformer\\\",\\n    \\\"strategist\\\",\\n    \\\"Postmaster General\\\",\\n    \\\"co founder of Greenpeace International\\\",\\n    \\\"co founder of Greenpeace\\\",\\n    \\\"co founder of NARAL\\\",\\n    \\\"Grand Duchess of\\\",\\n    \\\"first Chief Minister of the Virgin Islands\\\",\\n    \\\"Minister of Foreign Affairs\\\",\\n    \\\"Chief Minister of Karnataka\\\",\\n    \\\"Chief Minister of Punjab\\\",\\n    \\\"Minister of the Interior\\\",\\n    \\\"Chief Minister of Sabah\\\",\\n    \\\"first Chief Minister\\\",\\n    \\\"Minister of Justice\\\",\\n    \\\"Health Minister in\\\",\\n    \\\"Chief Minister of\\\",\\n    \\\"Foreign Minister\\\",\\n    \\\"Defense Minister\\\",\\n    \\\"Union Minister\\\",\\n    \\\"first wife of president V\\u00e1clav Havel\\\",\\n    \\\"former presidential candidate\\\",\\n    \\\"former presidential advisor\\\",\\n    \\\"former Bell Labs president\\\",\\n    \\\"nd mayor of Atlanta\\\",\\n    \\\"mayor of Anderlecht\\\",\\n    \\\"mayor of La Gacilly\\\",\\n    \\\"mayor of Dallas\\\",\\n    \\\"mayor of Denver\\\",\\n    \\\"mayor\\\",\\n    \\\"senator for life\\\",\\n    \\\"senator\\\",\\n]\\npolitics_govt_law = sorted(\\n    list(set(politics_govt_law)), key=lambda x: len(x), reverse=True\\n)\\n\\narts = [\\n    \\\"art\\\",\\n    \\\"founding member of The Vandals\\\",\\n    \\\"member of the Fluxus movement\\\",\\n    \\\"member of the Grand Ole Opry\\\",\\n    \\\"member of the duo Black Lace\\\",\\n    \\\"former member of The Beatles\\\",\\n    \\\"founding member of Foghat\\\",\\n    \\\"member of Dschinghis Khan\\\",\\n    \\\"member of The Jones Girls\\\",\\n    \\\"member of girl group TLC\\\",\\n    \\\"agent\\\",\\n    \\\"mime\\\",\\n    \\\"bossa nova flutist\\\",\\n    \\\"flutist\\\",\\n    \\\"hymnist\\\",\\n    \\\"hymn\\\",\\n    \\\"puppeteer for\\\",\\n    \\\"puppeteer\\\",\\n    \\\"yodeler\\\",\\n    \\\"My Midnight Creeps\\\",\\n    \\\"vibraphonist\\\",\\n    \\\"ventriloquist\\\",\\n    \\\"bebop jazz trumpeter\\\",\\n    \\\"free jazz pioneer\\\",\\n    \\\"jazz trombonist\\\",\\n    \\\"jazz trumpeter\\\",\\n    \\\"jazz\\\",\\n    \\\"watercolor master\\\",\\n    \\\"watercolorist\\\",\\n    \\\"percussionist\\\",\\n    \\\"typographer\\\",\\n    \\\"cinema\\\",\\n    \\\"ceramist\\\",\\n    \\\"camera operator\\\",\\n    \\\"operatic mezzo soprano\\\",\\n    \\\"classical soprano\\\",\\n    \\\"operatic soprano\\\",\\n    \\\"mezzo soprano\\\",\\n    \\\"soprano\\\",\\n    \\\"operatic baritone\\\",\\n    \\\"cultural analyst\\\",\\n    \\\"newsreader\\\",\\n    \\\"media magnate\\\",\\n    \\\"free jazz pioneer\\\",\\n    \\\"hot rod pioneer\\\",\\n    \\\"drag queen\\\",\\n    \\\"pornographer\\\",\\n    \\\"co founder of interstitial lung disease\\\",\\n    \\\"bookseller\\\",\\n    \\\"social media celebrity\\\",\\n    \\\"internet celebrity\\\",\\n    \\\"media celebrity\\\",\\n    \\\"celebrity\\\",\\n    \\\"Pullitzer Prize winner\\\",\\n    \\\"mandolinist\\\",\\n]\\narts = sorted(list(set(arts)), key=lambda x: len(x), reverse=True)\\n\\nsports = [\\n    \\\"golf\\\",\\n    \\\"Hall of Fame member\\\",\\n    \\\"IOC member\\\",\\n    \\\"kickboxer\\\",\\n    \\\"sailor\\\",\\n    \\\"long jumper\\\",\\n    \\\"base jumper\\\",\\n    \\\"ski jumper\\\",\\n    \\\"world tour rally driver\\\",\\n    \\\"Formula One driver\\\",\\n    \\\"Formula Two driver\\\",\\n    \\\"IndyCar driver\\\",\\n    \\\"rally driver\\\",\\n    \\\"test driver\\\",\\n    \\\"driver\\\",\\n    \\\"maxi yacht racer\\\",\\n    \\\"yachtsman\\\",\\n    \\\"yoga as exercise pioneer\\\",\\n    \\\"Isshinryu karate pioneer\\\",\\n    \\\"skysurfing pioneer\\\",\\n    \\\"fitness pioneer\\\",\\n    \\\"caving pioneer\\\",\\n    \\\"drag racer\\\",\\n    \\\"WBA World lightweight champion boxer\\\",\\n    \\\"WBC super lightweight champion boxer\\\",\\n    \\\"super welterweight champion boxer\\\",\\n    \\\"WBC lightweight champion boxer\\\",\\n    \\\"light flyweight champion boxer\\\",\\n    \\\"boxing cornerman\\\",\\n    \\\"amateur boxer\\\",\\n    \\\"HBO boxing\\\",\\n    \\\"kickboxer\\\",\\n    \\\"boxer\\\",\\n    \\\"selector\\\",\\n    \\\"chess Woman Grandmaster\\\",\\n    \\\"chess theoretician\\\",\\n    \\\"chess champion\\\",\\n    \\\"chess master\\\",\\n    \\\"president of the Rugby Union\\\",\\n]\\nsports = sorted(list(set(sports)), key=lambda x: len(x), reverse=True)\\n\\nsciences = [\\n    \\\"member of the Manhattan Project\\\",\\n    \\\"digital humanist\\\",\\n    \\\"registered nurse\\\",\\n    \\\"nurse\\\",\\n    \\\"pharmacist\\\",\\n    \\\"constructor\\\",\\n    \\\"Jungian analyst\\\",\\n    \\\"veterinarian\\\",\\n    \\\"a pioneer in mobile wireless communication\\\",\\n    \\\"a pioneer in experimental psychology\\\",\\n    \\\"pioneer in sex reassignment surgery\\\",\\n    \\\"pioneer in the development of radar\\\",\\n    \\\"ulcerative colitis surgery pioneer\\\",\\n    \\\"a pioneer in helicopter design\\\",\\n    \\\"organ transplantation pioneer\\\",\\n    \\\"magneto ionic theory pioneer\\\",\\n    \\\"electronic computing pioneer\\\",\\n    \\\"radiation treatment pioneer\\\",\\n    \\\"space exploration pioneer\\\",\\n    \\\"pioneer in AIDS detection\\\",\\n    \\\"pioneer LSD experimenter\\\",\\n    \\\"vascular surgery pioneer\\\",\\n    \\\"pioneer in prolotherapy\\\",\\n    \\\"family therapy pioneer\\\",\\n    \\\"pioneer of electronic\\\",\\n    \\\"DNA research pioneer\\\",\\n    \\\"bullet train pioneer\\\",\\n    \\\"antivirus pioneer\\\",\\n    \\\"computer pioneer\\\",\\n    \\\"rocketry pioneer\\\",\\n    \\\"internet pioneer\\\",\\n    \\\"aviator pioneer\\\",\\n    \\\"developer of reality therapy\\\",\\n    \\\"video game developer\\\",\\n    \\\"aircraft developer\\\",\\n    \\\"web developer\\\",\\n    \\\"co founder of the JPL\\\",\\n    \\\"medicine\\\",\\n    \\\"palaeontologist\\\",\\n]\\nsciences = sorted(list(set(sciences)), key=lambda x: len(x), reverse=True)\\n\\nbusiness_farming = [\\n    \\\"builder\\\",\\n    \\\"member of the Rothschild family\\\",\\n    \\\"member of the Vanderbilt family\\\",\\n    \\\"member of the Agnelli family\\\",\\n    \\\"realtor\\\",\\n    \\\"percussion mallet manufacturer\\\",\\n    \\\"water boiler manufacturer\\\",\\n    \\\"cigar manufacturer\\\",\\n    \\\"manufacturer\\\",\\n    \\\"bookmaker\\\",\\n    \\\"vintner\\\",\\n    \\\"road transport magnate\\\",\\n    \\\"property magnate\\\",\\n    \\\"shipping magnate\\\",\\n    \\\"candy magnate\\\",\\n    \\\"shopping center development pioneer\\\",\\n    \\\"pioneer of microlending\\\",\\n    \\\"wine pioneer\\\",\\n    \\\"property developer\\\",\\n    \\\"hotel developer\\\",\\n    \\\"mall developer\\\",\\n    \\\"co founder of Sony along with Masaru Ibuka\\\",\\n    \\\"co founder of Matchbox Toys\\\",\\n    \\\"co founder of Sony\\\",\\n    \\\"co founder of Bic\\\",\\n    \\\"co founder of DHL\\\",\\n    \\\"hotelier\\\",\\n    \\\"president of The Walt Disney Company\\\",\\n    \\\"president of the Aquarium\\\",\\n    \\\"stockbroker\\\",\\n]\\nbusiness_farming = sorted(\\n    list(set(business_farming)), key=lambda x: len(x), reverse=True\\n)\\n\\nacademia_humanities = [\\n    \\\"museum board member\\\",\\n    \\\"tour guide\\\",\\n    \\\"collector of\\\",\\n    \\\"collector\\\",\\n    \\\"ethicist\\\",\\n    \\\"secular humanist\\\",\\n    \\\"tutor\\\",\\n    \\\"the last known monolingual speaker\\\",\\n    \\\"numismatist\\\",\\n    \\\"scholastic test preparation pioneer\\\",\\n    \\\"pioneer in the study of slavery\\\",\\n    \\\"Hittitologist\\\",\\n    \\\"Balkanologist\\\",\\n    \\\"Egyptologist\\\",\\n    \\\"Tibetologist\\\",\\n    \\\"Japanologist\\\",\\n    \\\"missiologist\\\",\\n    \\\"Iranologist\\\",\\n    \\\"museologist\\\",\\n    \\\"celtologist\\\",\\n    \\\"sectologist\\\",\\n    \\\"runologist\\\",\\n    \\\"redologist\\\",\\n    \\\"epigrapher\\\",\\n    \\\"twice interim president of the University of Missouri\\\",\\n    \\\"president of Ner Rabbinical College for over years\\\",\\n]\\nacademia_humanities = sorted(\\n    list(set(academia_humanities)), key=lambda x: len(x), reverse=True\\n)\\n\\nlaw_enf_military_operator = [\\n    \\\"war\\\",\\n    \\\"a officer\\\",\\n    \\\"officer\\\",\\n    \\\"member of the Tuskegee Airmen\\\",\\n    \\\"a member of the Resistance\\\",\\n    \\\"member of the Resistance\\\",\\n    \\\"an armed member of\\\",\\n    \\\"member of the SS\\\",\\n    \\\"Stasi member\\\",\\n    \\\"IRA member\\\",\\n    \\\"UVF member\\\",\\n    \\\"cryptanalyst\\\",\\n    \\\"aviation pioneer\\\",\\n    \\\"commercial aviator\\\",\\n    \\\"aviator pioneer\\\",\\n    \\\"Naval aviator\\\",\\n    \\\"aviator\\\",\\n    \\\"Women Royal Naval Service personnel\\\",\\n    \\\"Chief of Naval Staff\\\",\\n    \\\"captain of the USS\\\",\\n    \\\"Colditz Castle escapee\\\",\\n    \\\"purported escapee\\\",\\n    \\\"Defense Minister\\\",\\n    \\\"commander in chief of terrorist organization FARC\\\",\\n    \\\"commander of the Treblinka extermination camp\\\",\\n    \\\"commander of the nd Airborne Division\\\",\\n    \\\"commander of Federal Security Service\\\",\\n    \\\"commander of Tactical Air Command\\\",\\n    \\\"senior commander of the SiPo\\\",\\n    \\\"commander in the Viet Cong\\\",\\n    \\\"commander of the air force\\\",\\n    \\\"a commander of Abu Sayyaf\\\",\\n    \\\"insurgent commander\\\",\\n    \\\"guerilla commander\\\",\\n    \\\"police commander\\\",\\n    \\\"navy commander\\\",\\n    \\\"ISIL commander\\\",\\n    \\\"bomb disposal expert\\\",\\n    \\\"weapons expert\\\",\\n]\\nlaw_enf_military_operator = sorted(\\n    list(set(law_enf_military_operator)), key=lambda x: len(x), reverse=True\\n)\\n\\nspiritual = [\\n    \\\"religious\\\",\\n    \\\"Buddhist monk\\\",\\n    \\\"monk\\\",\\n    \\\"Buddhist nun\\\",\\n    \\\"Buddhist\\\",\\n    \\\"Buddhism\\\",\\n    \\\"nun\\\",\\n    \\\"Old Testament issues\\\",\\n    \\\"New Testament\\\",\\n    \\\"Old Testament\\\",\\n    \\\"traditional healer\\\",\\n    \\\"healer\\\",\\n    \\\"religous\\\",\\n    \\\"Bible\\\",\\n]\\nspiritual = sorted(list(set(spiritual)), key=lambda x: len(x), reverse=True)\\n\\nsocial = [\\n    \\\"environmental pioneer\\\",\\n    \\\"co founder of the Gathering of Jewish Holocaust Survivors\\\",\\n    \\\"co founder of Betty Ford Center\\\",\\n]\\nsocial = sorted(list(set(social)), key=lambda x: len(x), reverse=True)\\n\\ncrime = [\\n    \\\"member of the Chicago Outfit\\\",\\n    \\\"member of The Weatherman\\\",\\n    \\\"Mafia member\\\",\\n    \\\"Las Vegas mobster\\\",\\n    \\\"mobster\\\",\\n    \\\"prison escapee of the s\\\",\\n    \\\"prison escapee\\\",\\n    \\\"Bali bombings\\\",\\n    \\\"bomb maker\\\",\\n    \\\"polygamist\\\",\\n]\\ncrime = sorted(list(set(crime)), key=lambda x: len(x), reverse=True)\\n\\nevent_record_other = [\\n    \\\"hostage\\\",\\n    \\\"Nagasaki atomic bombings\\\",\\n    \\\"Unabomber target\\\",\\n]\\nevent_record_other = sorted(\\n    list(set(event_record_other)), key=lambda x: len(x), reverse=True\\n)\\n\\nother_species = [\\n    \\\"broodmare\\\",\\n]\\nother_species = sorted(list(set(other_species)), key=lambda x: len(x), reverse=True)\";\n",
       "                var nbb_formatted_code = \"# Creating lists for each category and sorting by decreasing length and removing duplicates\\n\\npolitics_govt_law = [\\n    \\\"advocate\\\",\\n    \\\"President of\\\",\\n    \\\"President\\\",\\n    \\\"campaigner\\\",\\n    \\\"a Muhammad Ali Dynasty member\\\",\\n    \\\"Northern Assembly member\\\",\\n    \\\"founding member of SWAPO\\\",\\n    \\\"member of the Politburo\\\",\\n    \\\"a member of Parliament\\\",\\n    \\\"member of n State Duma\\\",\\n    \\\"Ku Klux Klan member\\\",\\n    \\\"cabinet member\\\",\\n    \\\"Knesset member\\\",\\n    \\\"Lieutenant Governor of Arkansas since\\\",\\n    \\\"former Governor of Sindh province\\\",\\n    \\\"Governor of Idaho from to\\\",\\n    \\\"last Governor of Northern\\\",\\n    \\\"Governor of the Bank of\\\",\\n    \\\"rd Governor of Michigan\\\",\\n    \\\"Lieutenant Governor of\\\",\\n    \\\"Governor of New South\\\",\\n    \\\"Governor of Minnesota\\\",\\n    \\\"Governor of Northern\\\",\\n    \\\"Governor of Western\\\",\\n    \\\"Governor of Punjab\\\",\\n    \\\"Governor of Kansas\\\",\\n    \\\"Governor of Nevada\\\",\\n    \\\"Governor of South\\\",\\n    \\\"Governor General\\\",\\n    \\\"th Governor of\\\",\\n    \\\"Governor of\\\",\\n    \\\"Governor\\\",\\n    \\\"then incumbent Speaker of Parliament\\\",\\n    \\\"a member of Parliament\\\",\\n    \\\"Member of Parliament\\\",\\n    \\\"documentarian of race issues\\\",\\n    \\\"first female speaker of the House\\\",\\n    \\\"city planner\\\",\\n    \\\"first Chief of Staff\\\",\\n    \\\"Associate Justice of the Supreme Court of the\\\",\\n    \\\"Associate Justice of the Supreme Court\\\",\\n    \\\"former Lord Chief Justice\\\",\\n    \\\"former Chief Justice of\\\",\\n    \\\"Minister of Justice\\\",\\n    \\\"Chief Justice of\\\",\\n    \\\"Chief Justice\\\",\\n    \\\"leader\\\",\\n    \\\"princess\\\",\\n    \\\"policy analyst\\\",\\n    \\\"anarchist\\\",\\n    \\\"anarchism\\\",\\n    \\\"MP\\\",\\n    \\\"presidential advisor\\\",\\n    \\\"social reformer\\\",\\n    \\\"strategist\\\",\\n    \\\"Postmaster General\\\",\\n    \\\"co founder of Greenpeace International\\\",\\n    \\\"co founder of Greenpeace\\\",\\n    \\\"co founder of NARAL\\\",\\n    \\\"Grand Duchess of\\\",\\n    \\\"first Chief Minister of the Virgin Islands\\\",\\n    \\\"Minister of Foreign Affairs\\\",\\n    \\\"Chief Minister of Karnataka\\\",\\n    \\\"Chief Minister of Punjab\\\",\\n    \\\"Minister of the Interior\\\",\\n    \\\"Chief Minister of Sabah\\\",\\n    \\\"first Chief Minister\\\",\\n    \\\"Minister of Justice\\\",\\n    \\\"Health Minister in\\\",\\n    \\\"Chief Minister of\\\",\\n    \\\"Foreign Minister\\\",\\n    \\\"Defense Minister\\\",\\n    \\\"Union Minister\\\",\\n    \\\"first wife of president V\\u00e1clav Havel\\\",\\n    \\\"former presidential candidate\\\",\\n    \\\"former presidential advisor\\\",\\n    \\\"former Bell Labs president\\\",\\n    \\\"nd mayor of Atlanta\\\",\\n    \\\"mayor of Anderlecht\\\",\\n    \\\"mayor of La Gacilly\\\",\\n    \\\"mayor of Dallas\\\",\\n    \\\"mayor of Denver\\\",\\n    \\\"mayor\\\",\\n    \\\"senator for life\\\",\\n    \\\"senator\\\",\\n]\\npolitics_govt_law = sorted(\\n    list(set(politics_govt_law)), key=lambda x: len(x), reverse=True\\n)\\n\\narts = [\\n    \\\"art\\\",\\n    \\\"founding member of The Vandals\\\",\\n    \\\"member of the Fluxus movement\\\",\\n    \\\"member of the Grand Ole Opry\\\",\\n    \\\"member of the duo Black Lace\\\",\\n    \\\"former member of The Beatles\\\",\\n    \\\"founding member of Foghat\\\",\\n    \\\"member of Dschinghis Khan\\\",\\n    \\\"member of The Jones Girls\\\",\\n    \\\"member of girl group TLC\\\",\\n    \\\"agent\\\",\\n    \\\"mime\\\",\\n    \\\"bossa nova flutist\\\",\\n    \\\"flutist\\\",\\n    \\\"hymnist\\\",\\n    \\\"hymn\\\",\\n    \\\"puppeteer for\\\",\\n    \\\"puppeteer\\\",\\n    \\\"yodeler\\\",\\n    \\\"My Midnight Creeps\\\",\\n    \\\"vibraphonist\\\",\\n    \\\"ventriloquist\\\",\\n    \\\"bebop jazz trumpeter\\\",\\n    \\\"free jazz pioneer\\\",\\n    \\\"jazz trombonist\\\",\\n    \\\"jazz trumpeter\\\",\\n    \\\"jazz\\\",\\n    \\\"watercolor master\\\",\\n    \\\"watercolorist\\\",\\n    \\\"percussionist\\\",\\n    \\\"typographer\\\",\\n    \\\"cinema\\\",\\n    \\\"ceramist\\\",\\n    \\\"camera operator\\\",\\n    \\\"operatic mezzo soprano\\\",\\n    \\\"classical soprano\\\",\\n    \\\"operatic soprano\\\",\\n    \\\"mezzo soprano\\\",\\n    \\\"soprano\\\",\\n    \\\"operatic baritone\\\",\\n    \\\"cultural analyst\\\",\\n    \\\"newsreader\\\",\\n    \\\"media magnate\\\",\\n    \\\"free jazz pioneer\\\",\\n    \\\"hot rod pioneer\\\",\\n    \\\"drag queen\\\",\\n    \\\"pornographer\\\",\\n    \\\"co founder of interstitial lung disease\\\",\\n    \\\"bookseller\\\",\\n    \\\"social media celebrity\\\",\\n    \\\"internet celebrity\\\",\\n    \\\"media celebrity\\\",\\n    \\\"celebrity\\\",\\n    \\\"Pullitzer Prize winner\\\",\\n    \\\"mandolinist\\\",\\n]\\narts = sorted(list(set(arts)), key=lambda x: len(x), reverse=True)\\n\\nsports = [\\n    \\\"golf\\\",\\n    \\\"Hall of Fame member\\\",\\n    \\\"IOC member\\\",\\n    \\\"kickboxer\\\",\\n    \\\"sailor\\\",\\n    \\\"long jumper\\\",\\n    \\\"base jumper\\\",\\n    \\\"ski jumper\\\",\\n    \\\"world tour rally driver\\\",\\n    \\\"Formula One driver\\\",\\n    \\\"Formula Two driver\\\",\\n    \\\"IndyCar driver\\\",\\n    \\\"rally driver\\\",\\n    \\\"test driver\\\",\\n    \\\"driver\\\",\\n    \\\"maxi yacht racer\\\",\\n    \\\"yachtsman\\\",\\n    \\\"yoga as exercise pioneer\\\",\\n    \\\"Isshinryu karate pioneer\\\",\\n    \\\"skysurfing pioneer\\\",\\n    \\\"fitness pioneer\\\",\\n    \\\"caving pioneer\\\",\\n    \\\"drag racer\\\",\\n    \\\"WBA World lightweight champion boxer\\\",\\n    \\\"WBC super lightweight champion boxer\\\",\\n    \\\"super welterweight champion boxer\\\",\\n    \\\"WBC lightweight champion boxer\\\",\\n    \\\"light flyweight champion boxer\\\",\\n    \\\"boxing cornerman\\\",\\n    \\\"amateur boxer\\\",\\n    \\\"HBO boxing\\\",\\n    \\\"kickboxer\\\",\\n    \\\"boxer\\\",\\n    \\\"selector\\\",\\n    \\\"chess Woman Grandmaster\\\",\\n    \\\"chess theoretician\\\",\\n    \\\"chess champion\\\",\\n    \\\"chess master\\\",\\n    \\\"president of the Rugby Union\\\",\\n]\\nsports = sorted(list(set(sports)), key=lambda x: len(x), reverse=True)\\n\\nsciences = [\\n    \\\"member of the Manhattan Project\\\",\\n    \\\"digital humanist\\\",\\n    \\\"registered nurse\\\",\\n    \\\"nurse\\\",\\n    \\\"pharmacist\\\",\\n    \\\"constructor\\\",\\n    \\\"Jungian analyst\\\",\\n    \\\"veterinarian\\\",\\n    \\\"a pioneer in mobile wireless communication\\\",\\n    \\\"a pioneer in experimental psychology\\\",\\n    \\\"pioneer in sex reassignment surgery\\\",\\n    \\\"pioneer in the development of radar\\\",\\n    \\\"ulcerative colitis surgery pioneer\\\",\\n    \\\"a pioneer in helicopter design\\\",\\n    \\\"organ transplantation pioneer\\\",\\n    \\\"magneto ionic theory pioneer\\\",\\n    \\\"electronic computing pioneer\\\",\\n    \\\"radiation treatment pioneer\\\",\\n    \\\"space exploration pioneer\\\",\\n    \\\"pioneer in AIDS detection\\\",\\n    \\\"pioneer LSD experimenter\\\",\\n    \\\"vascular surgery pioneer\\\",\\n    \\\"pioneer in prolotherapy\\\",\\n    \\\"family therapy pioneer\\\",\\n    \\\"pioneer of electronic\\\",\\n    \\\"DNA research pioneer\\\",\\n    \\\"bullet train pioneer\\\",\\n    \\\"antivirus pioneer\\\",\\n    \\\"computer pioneer\\\",\\n    \\\"rocketry pioneer\\\",\\n    \\\"internet pioneer\\\",\\n    \\\"aviator pioneer\\\",\\n    \\\"developer of reality therapy\\\",\\n    \\\"video game developer\\\",\\n    \\\"aircraft developer\\\",\\n    \\\"web developer\\\",\\n    \\\"co founder of the JPL\\\",\\n    \\\"medicine\\\",\\n    \\\"palaeontologist\\\",\\n]\\nsciences = sorted(list(set(sciences)), key=lambda x: len(x), reverse=True)\\n\\nbusiness_farming = [\\n    \\\"builder\\\",\\n    \\\"member of the Rothschild family\\\",\\n    \\\"member of the Vanderbilt family\\\",\\n    \\\"member of the Agnelli family\\\",\\n    \\\"realtor\\\",\\n    \\\"percussion mallet manufacturer\\\",\\n    \\\"water boiler manufacturer\\\",\\n    \\\"cigar manufacturer\\\",\\n    \\\"manufacturer\\\",\\n    \\\"bookmaker\\\",\\n    \\\"vintner\\\",\\n    \\\"road transport magnate\\\",\\n    \\\"property magnate\\\",\\n    \\\"shipping magnate\\\",\\n    \\\"candy magnate\\\",\\n    \\\"shopping center development pioneer\\\",\\n    \\\"pioneer of microlending\\\",\\n    \\\"wine pioneer\\\",\\n    \\\"property developer\\\",\\n    \\\"hotel developer\\\",\\n    \\\"mall developer\\\",\\n    \\\"co founder of Sony along with Masaru Ibuka\\\",\\n    \\\"co founder of Matchbox Toys\\\",\\n    \\\"co founder of Sony\\\",\\n    \\\"co founder of Bic\\\",\\n    \\\"co founder of DHL\\\",\\n    \\\"hotelier\\\",\\n    \\\"president of The Walt Disney Company\\\",\\n    \\\"president of the Aquarium\\\",\\n    \\\"stockbroker\\\",\\n]\\nbusiness_farming = sorted(\\n    list(set(business_farming)), key=lambda x: len(x), reverse=True\\n)\\n\\nacademia_humanities = [\\n    \\\"museum board member\\\",\\n    \\\"tour guide\\\",\\n    \\\"collector of\\\",\\n    \\\"collector\\\",\\n    \\\"ethicist\\\",\\n    \\\"secular humanist\\\",\\n    \\\"tutor\\\",\\n    \\\"the last known monolingual speaker\\\",\\n    \\\"numismatist\\\",\\n    \\\"scholastic test preparation pioneer\\\",\\n    \\\"pioneer in the study of slavery\\\",\\n    \\\"Hittitologist\\\",\\n    \\\"Balkanologist\\\",\\n    \\\"Egyptologist\\\",\\n    \\\"Tibetologist\\\",\\n    \\\"Japanologist\\\",\\n    \\\"missiologist\\\",\\n    \\\"Iranologist\\\",\\n    \\\"museologist\\\",\\n    \\\"celtologist\\\",\\n    \\\"sectologist\\\",\\n    \\\"runologist\\\",\\n    \\\"redologist\\\",\\n    \\\"epigrapher\\\",\\n    \\\"twice interim president of the University of Missouri\\\",\\n    \\\"president of Ner Rabbinical College for over years\\\",\\n]\\nacademia_humanities = sorted(\\n    list(set(academia_humanities)), key=lambda x: len(x), reverse=True\\n)\\n\\nlaw_enf_military_operator = [\\n    \\\"war\\\",\\n    \\\"a officer\\\",\\n    \\\"officer\\\",\\n    \\\"member of the Tuskegee Airmen\\\",\\n    \\\"a member of the Resistance\\\",\\n    \\\"member of the Resistance\\\",\\n    \\\"an armed member of\\\",\\n    \\\"member of the SS\\\",\\n    \\\"Stasi member\\\",\\n    \\\"IRA member\\\",\\n    \\\"UVF member\\\",\\n    \\\"cryptanalyst\\\",\\n    \\\"aviation pioneer\\\",\\n    \\\"commercial aviator\\\",\\n    \\\"aviator pioneer\\\",\\n    \\\"Naval aviator\\\",\\n    \\\"aviator\\\",\\n    \\\"Women Royal Naval Service personnel\\\",\\n    \\\"Chief of Naval Staff\\\",\\n    \\\"captain of the USS\\\",\\n    \\\"Colditz Castle escapee\\\",\\n    \\\"purported escapee\\\",\\n    \\\"Defense Minister\\\",\\n    \\\"commander in chief of terrorist organization FARC\\\",\\n    \\\"commander of the Treblinka extermination camp\\\",\\n    \\\"commander of the nd Airborne Division\\\",\\n    \\\"commander of Federal Security Service\\\",\\n    \\\"commander of Tactical Air Command\\\",\\n    \\\"senior commander of the SiPo\\\",\\n    \\\"commander in the Viet Cong\\\",\\n    \\\"commander of the air force\\\",\\n    \\\"a commander of Abu Sayyaf\\\",\\n    \\\"insurgent commander\\\",\\n    \\\"guerilla commander\\\",\\n    \\\"police commander\\\",\\n    \\\"navy commander\\\",\\n    \\\"ISIL commander\\\",\\n    \\\"bomb disposal expert\\\",\\n    \\\"weapons expert\\\",\\n]\\nlaw_enf_military_operator = sorted(\\n    list(set(law_enf_military_operator)), key=lambda x: len(x), reverse=True\\n)\\n\\nspiritual = [\\n    \\\"religious\\\",\\n    \\\"Buddhist monk\\\",\\n    \\\"monk\\\",\\n    \\\"Buddhist nun\\\",\\n    \\\"Buddhist\\\",\\n    \\\"Buddhism\\\",\\n    \\\"nun\\\",\\n    \\\"Old Testament issues\\\",\\n    \\\"New Testament\\\",\\n    \\\"Old Testament\\\",\\n    \\\"traditional healer\\\",\\n    \\\"healer\\\",\\n    \\\"religous\\\",\\n    \\\"Bible\\\",\\n]\\nspiritual = sorted(list(set(spiritual)), key=lambda x: len(x), reverse=True)\\n\\nsocial = [\\n    \\\"environmental pioneer\\\",\\n    \\\"co founder of the Gathering of Jewish Holocaust Survivors\\\",\\n    \\\"co founder of Betty Ford Center\\\",\\n]\\nsocial = sorted(list(set(social)), key=lambda x: len(x), reverse=True)\\n\\ncrime = [\\n    \\\"member of the Chicago Outfit\\\",\\n    \\\"member of The Weatherman\\\",\\n    \\\"Mafia member\\\",\\n    \\\"Las Vegas mobster\\\",\\n    \\\"mobster\\\",\\n    \\\"prison escapee of the s\\\",\\n    \\\"prison escapee\\\",\\n    \\\"Bali bombings\\\",\\n    \\\"bomb maker\\\",\\n    \\\"polygamist\\\",\\n]\\ncrime = sorted(list(set(crime)), key=lambda x: len(x), reverse=True)\\n\\nevent_record_other = [\\n    \\\"hostage\\\",\\n    \\\"Nagasaki atomic bombings\\\",\\n    \\\"Unabomber target\\\",\\n]\\nevent_record_other = sorted(\\n    list(set(event_record_other)), key=lambda x: len(x), reverse=True\\n)\\n\\nother_species = [\\n    \\\"broodmare\\\",\\n]\\nother_species = sorted(list(set(other_species)), key=lambda x: len(x), reverse=True)\";\n",
       "                var nbb_cells = Jupyter.notebook.get_cells();\n",
       "                for (var i = 0; i < nbb_cells.length; ++i) {\n",
       "                    if (nbb_cells[i].input_prompt_number == nbb_cell_id) {\n",
       "                        if (nbb_cells[i].get_text() == nbb_unformatted_code) {\n",
       "                             nbb_cells[i].set_text(nbb_formatted_code);\n",
       "                        }\n",
       "                        break;\n",
       "                    }\n",
       "                }\n",
       "            }, 500);\n",
       "            "
      ],
      "text/plain": [
       "<IPython.core.display.Javascript object>"
      ]
     },
     "metadata": {},
     "output_type": "display_data"
    }
   ],
   "source": [
    "# Creating lists for each category and sorting by decreasing length and removing duplicates\n",
    "\n",
    "politics_govt_law = [\n",
    "    \"advocate\",\n",
    "    \"President of\",\n",
    "    \"President\",\n",
    "    \"campaigner\",\n",
    "    \"a Muhammad Ali Dynasty member\",\n",
    "    \"Northern Assembly member\",\n",
    "    \"founding member of SWAPO\",\n",
    "    \"member of the Politburo\",\n",
    "    \"a member of Parliament\",\n",
    "    \"member of n State Duma\",\n",
    "    \"Ku Klux Klan member\",\n",
    "    \"cabinet member\",\n",
    "    \"Knesset member\",\n",
    "    \"Lieutenant Governor of Arkansas since\",\n",
    "    \"former Governor of Sindh province\",\n",
    "    \"Governor of Idaho from to\",\n",
    "    \"last Governor of Northern\",\n",
    "    \"Governor of the Bank of\",\n",
    "    \"rd Governor of Michigan\",\n",
    "    \"Lieutenant Governor of\",\n",
    "    \"Governor of New South\",\n",
    "    \"Governor of Minnesota\",\n",
    "    \"Governor of Northern\",\n",
    "    \"Governor of Western\",\n",
    "    \"Governor of Punjab\",\n",
    "    \"Governor of Kansas\",\n",
    "    \"Governor of Nevada\",\n",
    "    \"Governor of South\",\n",
    "    \"Governor General\",\n",
    "    \"th Governor of\",\n",
    "    \"Governor of\",\n",
    "    \"Governor\",\n",
    "    \"then incumbent Speaker of Parliament\",\n",
    "    \"a member of Parliament\",\n",
    "    \"Member of Parliament\",\n",
    "    \"documentarian of race issues\",\n",
    "    \"first female speaker of the House\",\n",
    "    \"city planner\",\n",
    "    \"first Chief of Staff\",\n",
    "    \"Associate Justice of the Supreme Court of the\",\n",
    "    \"Associate Justice of the Supreme Court\",\n",
    "    \"former Lord Chief Justice\",\n",
    "    \"former Chief Justice of\",\n",
    "    \"Minister of Justice\",\n",
    "    \"Chief Justice of\",\n",
    "    \"Chief Justice\",\n",
    "    \"leader\",\n",
    "    \"princess\",\n",
    "    \"policy analyst\",\n",
    "    \"anarchist\",\n",
    "    \"anarchism\",\n",
    "    \"MP\",\n",
    "    \"presidential advisor\",\n",
    "    \"social reformer\",\n",
    "    \"strategist\",\n",
    "    \"Postmaster General\",\n",
    "    \"co founder of Greenpeace International\",\n",
    "    \"co founder of Greenpeace\",\n",
    "    \"co founder of NARAL\",\n",
    "    \"Grand Duchess of\",\n",
    "    \"first Chief Minister of the Virgin Islands\",\n",
    "    \"Minister of Foreign Affairs\",\n",
    "    \"Chief Minister of Karnataka\",\n",
    "    \"Chief Minister of Punjab\",\n",
    "    \"Minister of the Interior\",\n",
    "    \"Chief Minister of Sabah\",\n",
    "    \"first Chief Minister\",\n",
    "    \"Minister of Justice\",\n",
    "    \"Health Minister in\",\n",
    "    \"Chief Minister of\",\n",
    "    \"Foreign Minister\",\n",
    "    \"Defense Minister\",\n",
    "    \"Union Minister\",\n",
    "    \"first wife of president Václav Havel\",\n",
    "    \"former presidential candidate\",\n",
    "    \"former presidential advisor\",\n",
    "    \"former Bell Labs president\",\n",
    "    \"nd mayor of Atlanta\",\n",
    "    \"mayor of Anderlecht\",\n",
    "    \"mayor of La Gacilly\",\n",
    "    \"mayor of Dallas\",\n",
    "    \"mayor of Denver\",\n",
    "    \"mayor\",\n",
    "    \"senator for life\",\n",
    "    \"senator\",\n",
    "]\n",
    "politics_govt_law = sorted(\n",
    "    list(set(politics_govt_law)), key=lambda x: len(x), reverse=True\n",
    ")\n",
    "\n",
    "arts = [\n",
    "    \"art\",\n",
    "    \"founding member of The Vandals\",\n",
    "    \"member of the Fluxus movement\",\n",
    "    \"member of the Grand Ole Opry\",\n",
    "    \"member of the duo Black Lace\",\n",
    "    \"former member of The Beatles\",\n",
    "    \"founding member of Foghat\",\n",
    "    \"member of Dschinghis Khan\",\n",
    "    \"member of The Jones Girls\",\n",
    "    \"member of girl group TLC\",\n",
    "    \"agent\",\n",
    "    \"mime\",\n",
    "    \"bossa nova flutist\",\n",
    "    \"flutist\",\n",
    "    \"hymnist\",\n",
    "    \"hymn\",\n",
    "    \"puppeteer for\",\n",
    "    \"puppeteer\",\n",
    "    \"yodeler\",\n",
    "    \"My Midnight Creeps\",\n",
    "    \"vibraphonist\",\n",
    "    \"ventriloquist\",\n",
    "    \"bebop jazz trumpeter\",\n",
    "    \"free jazz pioneer\",\n",
    "    \"jazz trombonist\",\n",
    "    \"jazz trumpeter\",\n",
    "    \"jazz\",\n",
    "    \"watercolor master\",\n",
    "    \"watercolorist\",\n",
    "    \"percussionist\",\n",
    "    \"typographer\",\n",
    "    \"cinema\",\n",
    "    \"ceramist\",\n",
    "    \"camera operator\",\n",
    "    \"operatic mezzo soprano\",\n",
    "    \"classical soprano\",\n",
    "    \"operatic soprano\",\n",
    "    \"mezzo soprano\",\n",
    "    \"soprano\",\n",
    "    \"operatic baritone\",\n",
    "    \"cultural analyst\",\n",
    "    \"newsreader\",\n",
    "    \"media magnate\",\n",
    "    \"free jazz pioneer\",\n",
    "    \"hot rod pioneer\",\n",
    "    \"drag queen\",\n",
    "    \"pornographer\",\n",
    "    \"co founder of interstitial lung disease\",\n",
    "    \"bookseller\",\n",
    "    \"social media celebrity\",\n",
    "    \"internet celebrity\",\n",
    "    \"media celebrity\",\n",
    "    \"celebrity\",\n",
    "    \"Pullitzer Prize winner\",\n",
    "    \"mandolinist\",\n",
    "]\n",
    "arts = sorted(list(set(arts)), key=lambda x: len(x), reverse=True)\n",
    "\n",
    "sports = [\n",
    "    \"golf\",\n",
    "    \"Hall of Fame member\",\n",
    "    \"IOC member\",\n",
    "    \"kickboxer\",\n",
    "    \"sailor\",\n",
    "    \"long jumper\",\n",
    "    \"base jumper\",\n",
    "    \"ski jumper\",\n",
    "    \"world tour rally driver\",\n",
    "    \"Formula One driver\",\n",
    "    \"Formula Two driver\",\n",
    "    \"IndyCar driver\",\n",
    "    \"rally driver\",\n",
    "    \"test driver\",\n",
    "    \"driver\",\n",
    "    \"maxi yacht racer\",\n",
    "    \"yachtsman\",\n",
    "    \"yoga as exercise pioneer\",\n",
    "    \"Isshinryu karate pioneer\",\n",
    "    \"skysurfing pioneer\",\n",
    "    \"fitness pioneer\",\n",
    "    \"caving pioneer\",\n",
    "    \"drag racer\",\n",
    "    \"WBA World lightweight champion boxer\",\n",
    "    \"WBC super lightweight champion boxer\",\n",
    "    \"super welterweight champion boxer\",\n",
    "    \"WBC lightweight champion boxer\",\n",
    "    \"light flyweight champion boxer\",\n",
    "    \"boxing cornerman\",\n",
    "    \"amateur boxer\",\n",
    "    \"HBO boxing\",\n",
    "    \"kickboxer\",\n",
    "    \"boxer\",\n",
    "    \"selector\",\n",
    "    \"chess Woman Grandmaster\",\n",
    "    \"chess theoretician\",\n",
    "    \"chess champion\",\n",
    "    \"chess master\",\n",
    "    \"president of the Rugby Union\",\n",
    "]\n",
    "sports = sorted(list(set(sports)), key=lambda x: len(x), reverse=True)\n",
    "\n",
    "sciences = [\n",
    "    \"member of the Manhattan Project\",\n",
    "    \"digital humanist\",\n",
    "    \"registered nurse\",\n",
    "    \"nurse\",\n",
    "    \"pharmacist\",\n",
    "    \"constructor\",\n",
    "    \"Jungian analyst\",\n",
    "    \"veterinarian\",\n",
    "    \"a pioneer in mobile wireless communication\",\n",
    "    \"a pioneer in experimental psychology\",\n",
    "    \"pioneer in sex reassignment surgery\",\n",
    "    \"pioneer in the development of radar\",\n",
    "    \"ulcerative colitis surgery pioneer\",\n",
    "    \"a pioneer in helicopter design\",\n",
    "    \"organ transplantation pioneer\",\n",
    "    \"magneto ionic theory pioneer\",\n",
    "    \"electronic computing pioneer\",\n",
    "    \"radiation treatment pioneer\",\n",
    "    \"space exploration pioneer\",\n",
    "    \"pioneer in AIDS detection\",\n",
    "    \"pioneer LSD experimenter\",\n",
    "    \"vascular surgery pioneer\",\n",
    "    \"pioneer in prolotherapy\",\n",
    "    \"family therapy pioneer\",\n",
    "    \"pioneer of electronic\",\n",
    "    \"DNA research pioneer\",\n",
    "    \"bullet train pioneer\",\n",
    "    \"antivirus pioneer\",\n",
    "    \"computer pioneer\",\n",
    "    \"rocketry pioneer\",\n",
    "    \"internet pioneer\",\n",
    "    \"aviator pioneer\",\n",
    "    \"developer of reality therapy\",\n",
    "    \"video game developer\",\n",
    "    \"aircraft developer\",\n",
    "    \"web developer\",\n",
    "    \"co founder of the JPL\",\n",
    "    \"medicine\",\n",
    "    \"palaeontologist\",\n",
    "]\n",
    "sciences = sorted(list(set(sciences)), key=lambda x: len(x), reverse=True)\n",
    "\n",
    "business_farming = [\n",
    "    \"builder\",\n",
    "    \"member of the Rothschild family\",\n",
    "    \"member of the Vanderbilt family\",\n",
    "    \"member of the Agnelli family\",\n",
    "    \"realtor\",\n",
    "    \"percussion mallet manufacturer\",\n",
    "    \"water boiler manufacturer\",\n",
    "    \"cigar manufacturer\",\n",
    "    \"manufacturer\",\n",
    "    \"bookmaker\",\n",
    "    \"vintner\",\n",
    "    \"road transport magnate\",\n",
    "    \"property magnate\",\n",
    "    \"shipping magnate\",\n",
    "    \"candy magnate\",\n",
    "    \"shopping center development pioneer\",\n",
    "    \"pioneer of microlending\",\n",
    "    \"wine pioneer\",\n",
    "    \"property developer\",\n",
    "    \"hotel developer\",\n",
    "    \"mall developer\",\n",
    "    \"co founder of Sony along with Masaru Ibuka\",\n",
    "    \"co founder of Matchbox Toys\",\n",
    "    \"co founder of Sony\",\n",
    "    \"co founder of Bic\",\n",
    "    \"co founder of DHL\",\n",
    "    \"hotelier\",\n",
    "    \"president of The Walt Disney Company\",\n",
    "    \"president of the Aquarium\",\n",
    "    \"stockbroker\",\n",
    "]\n",
    "business_farming = sorted(\n",
    "    list(set(business_farming)), key=lambda x: len(x), reverse=True\n",
    ")\n",
    "\n",
    "academia_humanities = [\n",
    "    \"museum board member\",\n",
    "    \"tour guide\",\n",
    "    \"collector of\",\n",
    "    \"collector\",\n",
    "    \"ethicist\",\n",
    "    \"secular humanist\",\n",
    "    \"tutor\",\n",
    "    \"the last known monolingual speaker\",\n",
    "    \"numismatist\",\n",
    "    \"scholastic test preparation pioneer\",\n",
    "    \"pioneer in the study of slavery\",\n",
    "    \"Hittitologist\",\n",
    "    \"Balkanologist\",\n",
    "    \"Egyptologist\",\n",
    "    \"Tibetologist\",\n",
    "    \"Japanologist\",\n",
    "    \"missiologist\",\n",
    "    \"Iranologist\",\n",
    "    \"museologist\",\n",
    "    \"celtologist\",\n",
    "    \"sectologist\",\n",
    "    \"runologist\",\n",
    "    \"redologist\",\n",
    "    \"epigrapher\",\n",
    "    \"twice interim president of the University of Missouri\",\n",
    "    \"president of Ner Rabbinical College for over years\",\n",
    "]\n",
    "academia_humanities = sorted(\n",
    "    list(set(academia_humanities)), key=lambda x: len(x), reverse=True\n",
    ")\n",
    "\n",
    "law_enf_military_operator = [\n",
    "    \"war\",\n",
    "    \"a officer\",\n",
    "    \"officer\",\n",
    "    \"member of the Tuskegee Airmen\",\n",
    "    \"a member of the Resistance\",\n",
    "    \"member of the Resistance\",\n",
    "    \"an armed member of\",\n",
    "    \"member of the SS\",\n",
    "    \"Stasi member\",\n",
    "    \"IRA member\",\n",
    "    \"UVF member\",\n",
    "    \"cryptanalyst\",\n",
    "    \"aviation pioneer\",\n",
    "    \"commercial aviator\",\n",
    "    \"aviator pioneer\",\n",
    "    \"Naval aviator\",\n",
    "    \"aviator\",\n",
    "    \"Women Royal Naval Service personnel\",\n",
    "    \"Chief of Naval Staff\",\n",
    "    \"captain of the USS\",\n",
    "    \"Colditz Castle escapee\",\n",
    "    \"purported escapee\",\n",
    "    \"Defense Minister\",\n",
    "    \"commander in chief of terrorist organization FARC\",\n",
    "    \"commander of the Treblinka extermination camp\",\n",
    "    \"commander of the nd Airborne Division\",\n",
    "    \"commander of Federal Security Service\",\n",
    "    \"commander of Tactical Air Command\",\n",
    "    \"senior commander of the SiPo\",\n",
    "    \"commander in the Viet Cong\",\n",
    "    \"commander of the air force\",\n",
    "    \"a commander of Abu Sayyaf\",\n",
    "    \"insurgent commander\",\n",
    "    \"guerilla commander\",\n",
    "    \"police commander\",\n",
    "    \"navy commander\",\n",
    "    \"ISIL commander\",\n",
    "    \"bomb disposal expert\",\n",
    "    \"weapons expert\",\n",
    "]\n",
    "law_enf_military_operator = sorted(\n",
    "    list(set(law_enf_military_operator)), key=lambda x: len(x), reverse=True\n",
    ")\n",
    "\n",
    "spiritual = [\n",
    "    \"religious\",\n",
    "    \"Buddhist monk\",\n",
    "    \"monk\",\n",
    "    \"Buddhist nun\",\n",
    "    \"Buddhist\",\n",
    "    \"Buddhism\",\n",
    "    \"nun\",\n",
    "    \"Old Testament issues\",\n",
    "    \"New Testament\",\n",
    "    \"Old Testament\",\n",
    "    \"traditional healer\",\n",
    "    \"healer\",\n",
    "    \"religous\",\n",
    "    \"Bible\",\n",
    "]\n",
    "spiritual = sorted(list(set(spiritual)), key=lambda x: len(x), reverse=True)\n",
    "\n",
    "social = [\n",
    "    \"environmental pioneer\",\n",
    "    \"co founder of the Gathering of Jewish Holocaust Survivors\",\n",
    "    \"co founder of Betty Ford Center\",\n",
    "]\n",
    "social = sorted(list(set(social)), key=lambda x: len(x), reverse=True)\n",
    "\n",
    "crime = [\n",
    "    \"member of the Chicago Outfit\",\n",
    "    \"member of The Weatherman\",\n",
    "    \"Mafia member\",\n",
    "    \"Las Vegas mobster\",\n",
    "    \"mobster\",\n",
    "    \"prison escapee of the s\",\n",
    "    \"prison escapee\",\n",
    "    \"Bali bombings\",\n",
    "    \"bomb maker\",\n",
    "    \"polygamist\",\n",
    "]\n",
    "crime = sorted(list(set(crime)), key=lambda x: len(x), reverse=True)\n",
    "\n",
    "event_record_other = [\n",
    "    \"hostage\",\n",
    "    \"Nagasaki atomic bombings\",\n",
    "    \"Unabomber target\",\n",
    "]\n",
    "event_record_other = sorted(\n",
    "    list(set(event_record_other)), key=lambda x: len(x), reverse=True\n",
    ")\n",
    "\n",
    "other_species = [\n",
    "    \"broodmare\",\n",
    "]\n",
    "other_species = sorted(list(set(other_species)), key=lambda x: len(x), reverse=True)"
   ]
  },
  {
   "cell_type": "code",
   "execution_count": 109,
   "id": "58bb6a30",
   "metadata": {},
   "outputs": [
    {
     "data": {
      "application/javascript": [
       "\n",
       "            setTimeout(function() {\n",
       "                var nbb_cell_id = 109;\n",
       "                var nbb_unformatted_code = \"# Dropping info_2_1 value for entry with redundant value to correctly categorize\\nindex = df[df[\\\"link\\\"] == \\\"https://en.wikipedia.org/wiki/Anna_F%C3%A1rov%C3%A1\\\"].index\\ndf.loc[index, \\\"info_2_1\\\"] = \\\"\\\"\\n\\n# Dropping info_2_1 value for entry with redundant value to correctly categorize\\nindex = df[df[\\\"link\\\"] == \\\"https://en.wikipedia.org/wiki/Hisamodien_Mohamed\\\"].index\\ndf.loc[index, \\\"info_2_1\\\"] = \\\"\\\"\\n\\n# Dropping info_2_1 value for entries with redundant value to correctly categorize\\ndf.loc[\\n    [index for index in df.index if df.loc[index, \\\"info_2_1\\\"] == \\\"owner\\\"], \\\"info_2_1\\\"\\n] = \\\"\\\"\\n\\n# Hard-coding info_2_1 value for entry to correctly categorize\\nindex = df[df[\\\"link\\\"] == \\\"https://en.wikipedia.org/wiki/Len_Beurton\\\"].index\\ndf.loc[index, \\\"info_2_1\\\"] = \\\"officer\\\"\\n\\n# Dropping info_2_1 value for entry with redundant value to correctly categorize\\nindex = df[df[\\\"link\\\"] == \\\"https://en.wikipedia.org/wiki/Vern_Riffe\\\"].index\\ndf.loc[index, \\\"info_2_1\\\"] = \\\"\\\"\\n\\n# Dropping info_2_1 value for entry with redundant value to correctly categorize\\nindex = df[df[\\\"link\\\"] == \\\"https://en.wikipedia.org/wiki/Duke_Kimbrough_McCall\\\"].index\\ndf.loc[index, \\\"info_2_1\\\"] = \\\"\\\"\\n\\n# Hard-coding cause_of_death for entry with value in info_2_1\\nindex = df[df[\\\"link\\\"] == \\\"https://en.wikipedia.org/wiki/Lawrence_Ferlinghetti\\\"].index\\ndf.loc[index, \\\"cause_of_death\\\"] = \\\"interstitial lung disease\\\"\\n\\n# Dropping info_2_1 value for entries with redundant value to correctly categorize\\ndf.loc[\\n    [index for index in df.index if df.loc[index, \\\"info_2_1\\\"] == \\\"captain\\\"], \\\"info_2_1\\\"\\n] = \\\"\\\"\\n\\n# Dropping info_2_1 value for entry with redundant value to correctly categorize\\nindex = df[df[\\\"link\\\"] == \\\"https://en.wikipedia.org/wiki/Ziona\\\"].index\\ndf.loc[index, \\\"info_2_1\\\"] = \\\"\\\"\";\n",
       "                var nbb_formatted_code = \"# Dropping info_2_1 value for entry with redundant value to correctly categorize\\nindex = df[df[\\\"link\\\"] == \\\"https://en.wikipedia.org/wiki/Anna_F%C3%A1rov%C3%A1\\\"].index\\ndf.loc[index, \\\"info_2_1\\\"] = \\\"\\\"\\n\\n# Dropping info_2_1 value for entry with redundant value to correctly categorize\\nindex = df[df[\\\"link\\\"] == \\\"https://en.wikipedia.org/wiki/Hisamodien_Mohamed\\\"].index\\ndf.loc[index, \\\"info_2_1\\\"] = \\\"\\\"\\n\\n# Dropping info_2_1 value for entries with redundant value to correctly categorize\\ndf.loc[\\n    [index for index in df.index if df.loc[index, \\\"info_2_1\\\"] == \\\"owner\\\"], \\\"info_2_1\\\"\\n] = \\\"\\\"\\n\\n# Hard-coding info_2_1 value for entry to correctly categorize\\nindex = df[df[\\\"link\\\"] == \\\"https://en.wikipedia.org/wiki/Len_Beurton\\\"].index\\ndf.loc[index, \\\"info_2_1\\\"] = \\\"officer\\\"\\n\\n# Dropping info_2_1 value for entry with redundant value to correctly categorize\\nindex = df[df[\\\"link\\\"] == \\\"https://en.wikipedia.org/wiki/Vern_Riffe\\\"].index\\ndf.loc[index, \\\"info_2_1\\\"] = \\\"\\\"\\n\\n# Dropping info_2_1 value for entry with redundant value to correctly categorize\\nindex = df[df[\\\"link\\\"] == \\\"https://en.wikipedia.org/wiki/Duke_Kimbrough_McCall\\\"].index\\ndf.loc[index, \\\"info_2_1\\\"] = \\\"\\\"\\n\\n# Hard-coding cause_of_death for entry with value in info_2_1\\nindex = df[df[\\\"link\\\"] == \\\"https://en.wikipedia.org/wiki/Lawrence_Ferlinghetti\\\"].index\\ndf.loc[index, \\\"cause_of_death\\\"] = \\\"interstitial lung disease\\\"\\n\\n# Dropping info_2_1 value for entries with redundant value to correctly categorize\\ndf.loc[\\n    [index for index in df.index if df.loc[index, \\\"info_2_1\\\"] == \\\"captain\\\"], \\\"info_2_1\\\"\\n] = \\\"\\\"\\n\\n# Dropping info_2_1 value for entry with redundant value to correctly categorize\\nindex = df[df[\\\"link\\\"] == \\\"https://en.wikipedia.org/wiki/Ziona\\\"].index\\ndf.loc[index, \\\"info_2_1\\\"] = \\\"\\\"\";\n",
       "                var nbb_cells = Jupyter.notebook.get_cells();\n",
       "                for (var i = 0; i < nbb_cells.length; ++i) {\n",
       "                    if (nbb_cells[i].input_prompt_number == nbb_cell_id) {\n",
       "                        if (nbb_cells[i].get_text() == nbb_unformatted_code) {\n",
       "                             nbb_cells[i].set_text(nbb_formatted_code);\n",
       "                        }\n",
       "                        break;\n",
       "                    }\n",
       "                }\n",
       "            }, 500);\n",
       "            "
      ],
      "text/plain": [
       "<IPython.core.display.Javascript object>"
      ]
     },
     "metadata": {},
     "output_type": "display_data"
    }
   ],
   "source": [
    "# Dropping info_2_1 value for entry with redundant value to correctly categorize\n",
    "index = df[df[\"link\"] == \"https://en.wikipedia.org/wiki/Anna_F%C3%A1rov%C3%A1\"].index\n",
    "df.loc[index, \"info_2_1\"] = \"\"\n",
    "\n",
    "# Dropping info_2_1 value for entry with redundant value to correctly categorize\n",
    "index = df[df[\"link\"] == \"https://en.wikipedia.org/wiki/Hisamodien_Mohamed\"].index\n",
    "df.loc[index, \"info_2_1\"] = \"\"\n",
    "\n",
    "# Dropping info_2_1 value for entries with redundant value to correctly categorize\n",
    "df.loc[\n",
    "    [index for index in df.index if df.loc[index, \"info_2_1\"] == \"owner\"], \"info_2_1\"\n",
    "] = \"\"\n",
    "\n",
    "# Hard-coding info_2_1 value for entry to correctly categorize\n",
    "index = df[df[\"link\"] == \"https://en.wikipedia.org/wiki/Len_Beurton\"].index\n",
    "df.loc[index, \"info_2_1\"] = \"officer\"\n",
    "\n",
    "# Dropping info_2_1 value for entry with redundant value to correctly categorize\n",
    "index = df[df[\"link\"] == \"https://en.wikipedia.org/wiki/Vern_Riffe\"].index\n",
    "df.loc[index, \"info_2_1\"] = \"\"\n",
    "\n",
    "# Dropping info_2_1 value for entry with redundant value to correctly categorize\n",
    "index = df[df[\"link\"] == \"https://en.wikipedia.org/wiki/Duke_Kimbrough_McCall\"].index\n",
    "df.loc[index, \"info_2_1\"] = \"\"\n",
    "\n",
    "# Hard-coding cause_of_death for entry with value in info_2_1\n",
    "index = df[df[\"link\"] == \"https://en.wikipedia.org/wiki/Lawrence_Ferlinghetti\"].index\n",
    "df.loc[index, \"cause_of_death\"] = \"interstitial lung disease\"\n",
    "\n",
    "# Dropping info_2_1 value for entries with redundant value to correctly categorize\n",
    "df.loc[\n",
    "    [index for index in df.index if df.loc[index, \"info_2_1\"] == \"captain\"], \"info_2_1\"\n",
    "] = \"\"\n",
    "\n",
    "# Dropping info_2_1 value for entry with redundant value to correctly categorize\n",
    "index = df[df[\"link\"] == \"https://en.wikipedia.org/wiki/Ziona\"].index\n",
    "df.loc[index, \"info_2_1\"] = \"\"\n"
   ]
  },
  {
   "cell_type": "markdown",
   "id": "137ce1d3",
   "metadata": {},
   "source": [
    "#### Creating `known_for_dict` Dictionary of Category Keys and Specific Role Lists of Values"
   ]
  },
  {
   "cell_type": "code",
   "execution_count": 110,
   "id": "59ab501a",
   "metadata": {},
   "outputs": [
    {
     "data": {
      "application/javascript": [
       "\n",
       "            setTimeout(function() {\n",
       "                var nbb_cell_id = 110;\n",
       "                var nbb_unformatted_code = \"# Combining separate lists into one dictionary\\nknown_for_dict = {\\n    \\\"social\\\": social,\\n    \\\"spiritual\\\": spiritual,\\n    \\\"academia_humanities\\\": academia_humanities,\\n    \\\"business_farming\\\": business_farming,\\n    \\\"sciences\\\": sciences,\\n    \\\"politics_govt_law\\\": politics_govt_law,\\n    \\\"law_enf_military_operator\\\": law_enf_military_operator,\\n    \\\"crime\\\": crime,\\n    \\\"event_record_other\\\": event_record_other,\\n    \\\"other_species\\\": other_species,\\n    \\\"arts\\\": arts,\\n    \\\"sports\\\": sports,\\n}\";\n",
       "                var nbb_formatted_code = \"# Combining separate lists into one dictionary\\nknown_for_dict = {\\n    \\\"social\\\": social,\\n    \\\"spiritual\\\": spiritual,\\n    \\\"academia_humanities\\\": academia_humanities,\\n    \\\"business_farming\\\": business_farming,\\n    \\\"sciences\\\": sciences,\\n    \\\"politics_govt_law\\\": politics_govt_law,\\n    \\\"law_enf_military_operator\\\": law_enf_military_operator,\\n    \\\"crime\\\": crime,\\n    \\\"event_record_other\\\": event_record_other,\\n    \\\"other_species\\\": other_species,\\n    \\\"arts\\\": arts,\\n    \\\"sports\\\": sports,\\n}\";\n",
       "                var nbb_cells = Jupyter.notebook.get_cells();\n",
       "                for (var i = 0; i < nbb_cells.length; ++i) {\n",
       "                    if (nbb_cells[i].input_prompt_number == nbb_cell_id) {\n",
       "                        if (nbb_cells[i].get_text() == nbb_unformatted_code) {\n",
       "                             nbb_cells[i].set_text(nbb_formatted_code);\n",
       "                        }\n",
       "                        break;\n",
       "                    }\n",
       "                }\n",
       "            }, 500);\n",
       "            "
      ],
      "text/plain": [
       "<IPython.core.display.Javascript object>"
      ]
     },
     "metadata": {},
     "output_type": "display_data"
    }
   ],
   "source": [
    "# Combining separate lists into one dictionary\n",
    "known_for_dict = {\n",
    "    \"social\": social,\n",
    "    \"spiritual\": spiritual,\n",
    "    \"academia_humanities\": academia_humanities,\n",
    "    \"business_farming\": business_farming,\n",
    "    \"sciences\": sciences,\n",
    "    \"politics_govt_law\": politics_govt_law,\n",
    "    \"law_enf_military_operator\": law_enf_military_operator,\n",
    "    \"crime\": crime,\n",
    "    \"event_record_other\": event_record_other,\n",
    "    \"other_species\": other_species,\n",
    "    \"arts\": arts,\n",
    "    \"sports\": sports,\n",
    "}"
   ]
  },
  {
   "cell_type": "markdown",
   "id": "a85eaea5",
   "metadata": {},
   "source": [
    "#### Extracting Category from `info_2_1`"
   ]
  },
  {
   "cell_type": "code",
   "execution_count": 111,
   "id": "33bc6893",
   "metadata": {},
   "outputs": [
    {
     "name": "stdout",
     "output_type": "stream",
     "text": [
      "CPU times: total: 38.8 s\n",
      "Wall time: 38.8 s\n"
     ]
    },
    {
     "data": {
      "application/javascript": [
       "\n",
       "            setTimeout(function() {\n",
       "                var nbb_cell_id = 111;\n",
       "                var nbb_unformatted_code = \"%%time\\n\\n# Column to check\\ncolumn = 'info_2_1'\\n\\n# Start dataframe\\ndataframe = df[df[column].notna()]\\n\\n# For loop to find role in column and extract it as category\\nfor category, category_lst in known_for_dict.items():\\n    for role in category_lst:\\n        for index in dataframe.index:\\n                item = df.loc[index, column]\\n                if item:\\n                    if role in item:\\n                        df.loc[index, category] = 1\\n                        df.loc[index, column] = item.replace(role, '').strip()\\n\\n# Calculating num_categories\\ndf[\\\"num_categories\\\"] = df[known_for_dict.keys()].sum(axis=1)\";\n",
       "                var nbb_formatted_code = \"%%time\\n\\n# Column to check\\ncolumn = 'info_2_1'\\n\\n# Start dataframe\\ndataframe = df[df[column].notna()]\\n\\n# For loop to find role in column and extract it as category\\nfor category, category_lst in known_for_dict.items():\\n    for role in category_lst:\\n        for index in dataframe.index:\\n                item = df.loc[index, column]\\n                if item:\\n                    if role in item:\\n                        df.loc[index, category] = 1\\n                        df.loc[index, column] = item.replace(role, '').strip()\\n\\n# Calculating num_categories\\ndf[\\\"num_categories\\\"] = df[known_for_dict.keys()].sum(axis=1)\";\n",
       "                var nbb_cells = Jupyter.notebook.get_cells();\n",
       "                for (var i = 0; i < nbb_cells.length; ++i) {\n",
       "                    if (nbb_cells[i].input_prompt_number == nbb_cell_id) {\n",
       "                        if (nbb_cells[i].get_text() == nbb_unformatted_code) {\n",
       "                             nbb_cells[i].set_text(nbb_formatted_code);\n",
       "                        }\n",
       "                        break;\n",
       "                    }\n",
       "                }\n",
       "            }, 500);\n",
       "            "
      ],
      "text/plain": [
       "<IPython.core.display.Javascript object>"
      ]
     },
     "metadata": {},
     "output_type": "display_data"
    }
   ],
   "source": [
    "%%time\n",
    "\n",
    "# Column to check\n",
    "column = 'info_2_1'\n",
    "\n",
    "# Start dataframe\n",
    "dataframe = df[df[column].notna()]\n",
    "\n",
    "# For loop to find role in column and extract it as category\n",
    "for category, category_lst in known_for_dict.items():\n",
    "    for role in category_lst:\n",
    "        for index in dataframe.index:\n",
    "                item = df.loc[index, column]\n",
    "                if item:\n",
    "                    if role in item:\n",
    "                        df.loc[index, category] = 1\n",
    "                        df.loc[index, column] = item.replace(role, '').strip()\n",
    "\n",
    "# Calculating num_categories\n",
    "df[\"num_categories\"] = df[known_for_dict.keys()].sum(axis=1)"
   ]
  },
  {
   "cell_type": "markdown",
   "id": "cc5afecf",
   "metadata": {},
   "source": [
    "#### Checking Updated `num_categories` Value Counts"
   ]
  },
  {
   "cell_type": "code",
   "execution_count": 112,
   "id": "ca3c2585",
   "metadata": {},
   "outputs": [
    {
     "data": {
      "text/plain": [
       "1    88510\n",
       "2     9304\n",
       "3      164\n",
       "0       65\n",
       "Name: num_categories, dtype: int64"
      ]
     },
     "execution_count": 112,
     "metadata": {},
     "output_type": "execute_result"
    },
    {
     "data": {
      "application/javascript": [
       "\n",
       "            setTimeout(function() {\n",
       "                var nbb_cell_id = 112;\n",
       "                var nbb_unformatted_code = \"# Checking updated num_categories value counts\\ndf[\\\"num_categories\\\"].value_counts()\";\n",
       "                var nbb_formatted_code = \"# Checking updated num_categories value counts\\ndf[\\\"num_categories\\\"].value_counts()\";\n",
       "                var nbb_cells = Jupyter.notebook.get_cells();\n",
       "                for (var i = 0; i < nbb_cells.length; ++i) {\n",
       "                    if (nbb_cells[i].input_prompt_number == nbb_cell_id) {\n",
       "                        if (nbb_cells[i].get_text() == nbb_unformatted_code) {\n",
       "                             nbb_cells[i].set_text(nbb_formatted_code);\n",
       "                        }\n",
       "                        break;\n",
       "                    }\n",
       "                }\n",
       "            }, 500);\n",
       "            "
      ],
      "text/plain": [
       "<IPython.core.display.Javascript object>"
      ]
     },
     "metadata": {},
     "output_type": "display_data"
    }
   ],
   "source": [
    "# Checking updated num_categories value counts\n",
    "df[\"num_categories\"].value_counts()"
   ]
  },
  {
   "cell_type": "markdown",
   "id": "30957814",
   "metadata": {},
   "source": [
    "#### Observations:\n",
    "- We will proceed to rebuild `known_for_dict` for the next iteration."
   ]
  },
  {
   "cell_type": "markdown",
   "id": "3f6d08d1",
   "metadata": {},
   "source": [
    "#### Finding `known_for` Roles in `info_2_1`"
   ]
  },
  {
   "cell_type": "code",
   "execution_count": 113,
   "id": "2db67098",
   "metadata": {},
   "outputs": [
    {
     "data": {
      "application/javascript": [
       "\n",
       "            setTimeout(function() {\n",
       "                var nbb_cell_id = 113;\n",
       "                var nbb_unformatted_code = \"# # Obtaining values for column and their counts\\n# roles_list = df[\\\"info_2_1\\\"].value_counts(ascending=True).index.tolist()\";\n",
       "                var nbb_formatted_code = \"# # Obtaining values for column and their counts\\n# roles_list = df[\\\"info_2_1\\\"].value_counts(ascending=True).index.tolist()\";\n",
       "                var nbb_cells = Jupyter.notebook.get_cells();\n",
       "                for (var i = 0; i < nbb_cells.length; ++i) {\n",
       "                    if (nbb_cells[i].input_prompt_number == nbb_cell_id) {\n",
       "                        if (nbb_cells[i].get_text() == nbb_unformatted_code) {\n",
       "                             nbb_cells[i].set_text(nbb_formatted_code);\n",
       "                        }\n",
       "                        break;\n",
       "                    }\n",
       "                }\n",
       "            }, 500);\n",
       "            "
      ],
      "text/plain": [
       "<IPython.core.display.Javascript object>"
      ]
     },
     "metadata": {},
     "output_type": "display_data"
    }
   ],
   "source": [
    "# # Obtaining values for column and their counts\n",
    "# roles_list = df[\"info_2_1\"].value_counts(ascending=True).index.tolist()"
   ]
  },
  {
   "cell_type": "code",
   "execution_count": 114,
   "id": "dda94f61",
   "metadata": {},
   "outputs": [
    {
     "data": {
      "application/javascript": [
       "\n",
       "            setTimeout(function() {\n",
       "                var nbb_cell_id = 114;\n",
       "                var nbb_unformatted_code = \"# # Code to check each value\\n# roles_list.pop()\";\n",
       "                var nbb_formatted_code = \"# # Code to check each value\\n# roles_list.pop()\";\n",
       "                var nbb_cells = Jupyter.notebook.get_cells();\n",
       "                for (var i = 0; i < nbb_cells.length; ++i) {\n",
       "                    if (nbb_cells[i].input_prompt_number == nbb_cell_id) {\n",
       "                        if (nbb_cells[i].get_text() == nbb_unformatted_code) {\n",
       "                             nbb_cells[i].set_text(nbb_formatted_code);\n",
       "                        }\n",
       "                        break;\n",
       "                    }\n",
       "                }\n",
       "            }, 500);\n",
       "            "
      ],
      "text/plain": [
       "<IPython.core.display.Javascript object>"
      ]
     },
     "metadata": {},
     "output_type": "display_data"
    }
   ],
   "source": [
    "# # Code to check each value\n",
    "# roles_list.pop()"
   ]
  },
  {
   "cell_type": "code",
   "execution_count": 115,
   "id": "9a1c827d",
   "metadata": {},
   "outputs": [
    {
     "data": {
      "application/javascript": [
       "\n",
       "            setTimeout(function() {\n",
       "                var nbb_cell_id = 115;\n",
       "                var nbb_unformatted_code = \"# # Create specific_roles_list for above popped value\\n# specific_roles_list = (\\n#     df.loc[\\n#         [\\n#             index\\n#             for index in df[df[\\\"info_2_1\\\"].notna()].index\\n#             if \\\"ski\\\" in df.loc[index, \\\"info_2_1\\\"]\\n#         ],\\n#         \\\"info_2_1\\\",\\n#     ]\\n#     .value_counts()\\n#     .index.tolist()\\n# )\";\n",
       "                var nbb_formatted_code = \"# # Create specific_roles_list for above popped value\\n# specific_roles_list = (\\n#     df.loc[\\n#         [\\n#             index\\n#             for index in df[df[\\\"info_2_1\\\"].notna()].index\\n#             if \\\"ski\\\" in df.loc[index, \\\"info_2_1\\\"]\\n#         ],\\n#         \\\"info_2_1\\\",\\n#     ]\\n#     .value_counts()\\n#     .index.tolist()\\n# )\";\n",
       "                var nbb_cells = Jupyter.notebook.get_cells();\n",
       "                for (var i = 0; i < nbb_cells.length; ++i) {\n",
       "                    if (nbb_cells[i].input_prompt_number == nbb_cell_id) {\n",
       "                        if (nbb_cells[i].get_text() == nbb_unformatted_code) {\n",
       "                             nbb_cells[i].set_text(nbb_formatted_code);\n",
       "                        }\n",
       "                        break;\n",
       "                    }\n",
       "                }\n",
       "            }, 500);\n",
       "            "
      ],
      "text/plain": [
       "<IPython.core.display.Javascript object>"
      ]
     },
     "metadata": {},
     "output_type": "display_data"
    }
   ],
   "source": [
    "# # Create specific_roles_list for above popped value\n",
    "# specific_roles_list = (\n",
    "#     df.loc[\n",
    "#         [\n",
    "#             index\n",
    "#             for index in df[df[\"info_2_1\"].notna()].index\n",
    "#             if \"ski\" in df.loc[index, \"info_2_1\"]\n",
    "#         ],\n",
    "#         \"info_2_1\",\n",
    "#     ]\n",
    "#     .value_counts()\n",
    "#     .index.tolist()\n",
    "# )"
   ]
  },
  {
   "cell_type": "code",
   "execution_count": 116,
   "id": "29fd4b77",
   "metadata": {},
   "outputs": [
    {
     "data": {
      "application/javascript": [
       "\n",
       "            setTimeout(function() {\n",
       "                var nbb_cell_id = 116;\n",
       "                var nbb_unformatted_code = \"# # Viewing list sorted by descending length to copy to dictionary below and screen values\\n# sorted(specific_roles_list, key=lambda x: len(x), reverse=True)\";\n",
       "                var nbb_formatted_code = \"# # Viewing list sorted by descending length to copy to dictionary below and screen values\\n# sorted(specific_roles_list, key=lambda x: len(x), reverse=True)\";\n",
       "                var nbb_cells = Jupyter.notebook.get_cells();\n",
       "                for (var i = 0; i < nbb_cells.length; ++i) {\n",
       "                    if (nbb_cells[i].input_prompt_number == nbb_cell_id) {\n",
       "                        if (nbb_cells[i].get_text() == nbb_unformatted_code) {\n",
       "                             nbb_cells[i].set_text(nbb_formatted_code);\n",
       "                        }\n",
       "                        break;\n",
       "                    }\n",
       "                }\n",
       "            }, 500);\n",
       "            "
      ],
      "text/plain": [
       "<IPython.core.display.Javascript object>"
      ]
     },
     "metadata": {},
     "output_type": "display_data"
    }
   ],
   "source": [
    "# # Viewing list sorted by descending length to copy to dictionary below and screen values\n",
    "# sorted(specific_roles_list, key=lambda x: len(x), reverse=True)"
   ]
  },
  {
   "cell_type": "code",
   "execution_count": 117,
   "id": "ae0e417f",
   "metadata": {},
   "outputs": [
    {
     "data": {
      "application/javascript": [
       "\n",
       "            setTimeout(function() {\n",
       "                var nbb_cell_id = 117;\n",
       "                var nbb_unformatted_code = \"# # Example code to check additional category for specific entries\\n# df.loc[\\n#     [\\n#         index\\n#         for index in df.index\\n#         if df.loc[index, \\\"info_2_1\\\"] == \\\"judge\\\"\\n#         and df.loc[index, \\\"politics_govt_law\\\"] == 0\\n#     ],\\n#     :,\\n# ]\";\n",
       "                var nbb_formatted_code = \"# # Example code to check additional category for specific entries\\n# df.loc[\\n#     [\\n#         index\\n#         for index in df.index\\n#         if df.loc[index, \\\"info_2_1\\\"] == \\\"judge\\\"\\n#         and df.loc[index, \\\"politics_govt_law\\\"] == 0\\n#     ],\\n#     :,\\n# ]\";\n",
       "                var nbb_cells = Jupyter.notebook.get_cells();\n",
       "                for (var i = 0; i < nbb_cells.length; ++i) {\n",
       "                    if (nbb_cells[i].input_prompt_number == nbb_cell_id) {\n",
       "                        if (nbb_cells[i].get_text() == nbb_unformatted_code) {\n",
       "                             nbb_cells[i].set_text(nbb_formatted_code);\n",
       "                        }\n",
       "                        break;\n",
       "                    }\n",
       "                }\n",
       "            }, 500);\n",
       "            "
      ],
      "text/plain": [
       "<IPython.core.display.Javascript object>"
      ]
     },
     "metadata": {},
     "output_type": "display_data"
    }
   ],
   "source": [
    "# # Example code to check additional category for specific entries\n",
    "# df.loc[\n",
    "#     [\n",
    "#         index\n",
    "#         for index in df.index\n",
    "#         if df.loc[index, \"info_2_1\"] == \"judge\"\n",
    "#         and df.loc[index, \"politics_govt_law\"] == 0\n",
    "#     ],\n",
    "#     :,\n",
    "# ]"
   ]
  },
  {
   "cell_type": "code",
   "execution_count": 118,
   "id": "46c55d14",
   "metadata": {},
   "outputs": [
    {
     "data": {
      "application/javascript": [
       "\n",
       "            setTimeout(function() {\n",
       "                var nbb_cell_id = 118;\n",
       "                var nbb_unformatted_code = \"# # Example code to quick-check a specific entry\\n# df[df[\\\"info_2_1\\\"] == \\\"hospice founder\\\"]\";\n",
       "                var nbb_formatted_code = \"# # Example code to quick-check a specific entry\\n# df[df[\\\"info_2_1\\\"] == \\\"hospice founder\\\"]\";\n",
       "                var nbb_cells = Jupyter.notebook.get_cells();\n",
       "                for (var i = 0; i < nbb_cells.length; ++i) {\n",
       "                    if (nbb_cells[i].input_prompt_number == nbb_cell_id) {\n",
       "                        if (nbb_cells[i].get_text() == nbb_unformatted_code) {\n",
       "                             nbb_cells[i].set_text(nbb_formatted_code);\n",
       "                        }\n",
       "                        break;\n",
       "                    }\n",
       "                }\n",
       "            }, 500);\n",
       "            "
      ],
      "text/plain": [
       "<IPython.core.display.Javascript object>"
      ]
     },
     "metadata": {},
     "output_type": "display_data"
    }
   ],
   "source": [
    "# # Example code to quick-check a specific entry\n",
    "# df[df[\"info_2_1\"] == \"hospice founder\"]"
   ]
  },
  {
   "cell_type": "markdown",
   "id": "68ad440b",
   "metadata": {},
   "source": [
    "#### Creating Lists for Each `known_for` Category"
   ]
  },
  {
   "cell_type": "code",
   "execution_count": 119,
   "id": "9b6c52d0",
   "metadata": {},
   "outputs": [
    {
     "data": {
      "application/javascript": [
       "\n",
       "            setTimeout(function() {\n",
       "                var nbb_cell_id = 119;\n",
       "                var nbb_unformatted_code = \"# Creating lists for each category and sorting by decreasing length and removing duplicates\\n\\npolitics_govt_law = [\\n    \\\"dictator\\\",\\n    \\\"climate change denier\\\",\\n    \\\"security expert\\\",\\n    \\\"mentor to Erin Brockovich\\\",\\n    \\\"pacifist\\\",\\n    \\\"baroness\\\",\\n    \\\"peace protester\\\",\\n    \\\"protester\\\",\\n    \\\"founder of the Gray Panthers movement\\\",\\n    \\\"founder of Amnesty International\\\",\\n    \\\"founder of J Flag\\\",\\n    \\\"founder of Hamas\\\",\\n    \\\"presidential candidate\\\",\\n    \\\"presidential adviser\\\",\\n    \\\"Judge of the International Criminal Tribunal for the Former\\\",\\n    \\\"one of the first female District Judges\\\",\\n    \\\"Circuit Judge\\\",\\n    \\\"Chief Judge\\\",\\n    \\\"Economics\\\",\\n    \\\"Vice Premier\\\",\\n    \\\"Premier of\\\",\\n    \\\"Black Rod\\\",\\n    \\\"community worker\\\",\\n    \\\"migrant workers\\\",\\n    \\\"sex worker\\\",\\n    \\\"presidential candidate\\\",\\n    \\\"president of the A M A\\\",\\n    \\\"president of the ICTR\\\",\\n    \\\"presidential adviser\\\",\\n    \\\"former president of\\\",\\n    \\\"vice president\\\",\\n    \\\"urbanist\\\",\\n    \\\"monarchist\\\",\\n    \\\"senior Cabinet adviser\\\",\\n    \\\"policy adviser\\\",\\n    \\\"constitutional\\\",\\n    \\\"one of the Mitford sisters\\\",\\n    \\\"nobleman\\\",\\n    \\\"former Northern Senator\\\",\\n    \\\"Senator\\\",\\n    \\\"parliamentary draftsman\\\",\\n    \\\"daughter of Victor Emmanuel III of\\\",\\n    \\\"sister of Queen Elizabeth II\\\",\\n    \\\"Mayor of Bucharest during the Communist era\\\",\\n    \\\"Mayor of Sarajevo\\\",\\n    \\\"Mayor of Boston\\\",\\n    \\\"Mattachine Society founder\\\",\\n]\\npolitics_govt_law = sorted(\\n    list(set(politics_govt_law)), key=lambda x: len(x), reverse=True\\n)\\n\\narts = [\\n    \\\"founding member of\\\",\\n    \\\"a member of\\\",\\n    \\\"documentarian\\\",\\n    \\\"analyst\\\",\\n    \\\"host\\\",\\n    \\\"goldsmith\\\",\\n    \\\"harpsichordist\\\",\\n    \\\"MC\\\",\\n    \\\"impresario\\\",\\n    \\\"movie trailer narrator\\\",\\n    \\\"audiobook narrator\\\",\\n    \\\"narrator\\\",\\n    \\\"the creator of the comic strip\\\",\\n    \\\"creator of Amazing Sea Monkeys\\\",\\n    \\\"comic book character creator\\\",\\n    \\\"creator of the seggae genre\\\",\\n    \\\"creator of the book series\\\",\\n    \\\"The Railway Series creator\\\",\\n    \\\"co creator of Jonah Hex\\\",\\n    \\\"comic book creator\\\",\\n    \\\"reputed creator of\\\",\\n    \\\"puzzle creator\\\",\\n    \\\"comics creator\\\",\\n    \\\"co creator of\\\",\\n    \\\"hard bop trumpeter\\\",\\n    \\\"trumpeter\\\",\\n    \\\"weatherman\\\",\\n    \\\"proponent of Pinoy rock\\\",\\n    \\\"rock\\\",\\n    \\\"calligrapher\\\",\\n    \\\"founder of The Old Flying Machine Company\\\",\\n    \\\"founder of the BBC Radiophonic Workshop\\\",\\n    \\\"founder of the Philharmonia Virtuosi\\\",\\n    \\\"founder of Barclay Records\\\",\\n    \\\"founder of the Boys Choir\\\",\\n    \\\"founder of The Loft\\\",\\n    \\\"founder of magazine\\\",\\n    \\\"Pullizer Prize winner\\\",\\n    \\\"metalworker\\\",\\n    \\\"former NBC News president\\\",\\n    \\\"president of ABC\\\",\\n    \\\"media mogul\\\",\\n    \\\"Richard Nixon impersonator\\\",\\n    \\\"JFK impersonator\\\",\\n    \\\"impersonator\\\",\\n    \\\"couturier\\\",\\n    \\\"storyteller\\\",\\n    \\\"interviewer\\\",\\n    \\\"sound system operator\\\",\\n    \\\"lutenist\\\",\\n    \\\"documentary maker\\\",\\n    \\\"documentarian\\\",\\n    \\\"documentarist\\\",\\n    \\\"broadcasting adviser\\\",\\n    \\\"adman\\\",\\n    \\\"weaver\\\",\\n    \\\"multi instrumentalist\\\",\\n    \\\"illusionist\\\",\\n    \\\"raconteur\\\",\\n    \\\"flugelhornist\\\",\\n    \\\"recording star of the s\\\",\\n    \\\"record company founder\\\",\\n    \\\"sound recordist\\\",\\n    \\\"record\\\",\\n    \\\"patron of Jean Cocteau\\\",\\n    \\\"brother of Marvin Gaye\\\",\\n]\\narts = sorted(list(set(arts)), key=lambda x: len(x), reverse=True)\\n\\nsports = [\\n    \\\"World Cup alpine ski racer\\\",\\n    \\\"short circuit road racer\\\",\\n    \\\"wheelchair racer\\\",\\n    \\\"motocross racer\\\",\\n    \\\"airplane racer\\\",\\n    \\\"auto racer\\\",\\n    \\\"racer\\\",\\n    \\\"hurdler\\\",\\n    \\\"powerlifter\\\",\\n    \\\"founder of Paris Saint Germain F C\\\",\\n    \\\"founder of Modern Arnis\\\",\\n    \\\"bronze medalist weightlifter\\\",\\n    \\\"weightlifter\\\",\\n    \\\"gambler\\\",\\n    \\\"chess\\\",\\n    \\\"valet\\\",\\n    \\\"fighting bull\\\",\\n    \\\"breeder\\\",\\n    \\\"first woman in to receive a jockey licence\\\",\\n    \\\"jockey mentor\\\",\\n    \\\"jockey\\\",\\n    \\\"horse rider\\\",\\n    \\\"hall of famer\\\",\\n    \\\"World Cup alpine ski racer\\\",\\n    \\\"the Washington Redskins\\\",\\n    \\\"ski orienteer\\\",\\n    \\\"alpine skier\\\",\\n    \\\"ski mogul\\\",\\n    \\\"freeskier\\\",\\n    \\\"ski\\\",\\n]\\nsports = sorted(list(set(sports)), key=lambda x: len(x), reverse=True)\\n\\nsciences = [\\n    \\\"biodynamic agriculturalist\\\",\\n    \\\"bio\\\",\\n    \\\"spaceport planner\\\",\\n    \\\"addiction specialist\\\",\\n    \\\"paediatrician\\\",\\n    \\\"creator of the Game Boy\\\",\\n    \\\"agronomist\\\",\\n    \\\"lepidopterist\\\",\\n    \\\"founder of Janssen Pharmaceutica\\\",\\n    \\\"airborne mechanic\\\",\\n    \\\"mechanic\\\",\\n    \\\"plant taxonomist\\\",\\n    \\\"taxonomist\\\",\\n    \\\"psychology\\\",\\n    \\\"skeptic\\\",\\n    \\\"hydrodynamicist\\\",\\n    \\\"coleopterist\\\",\\n]\\nsciences = sorted(list(set(sciences)), key=lambda x: len(x), reverse=True)\\n\\nbusiness_farming = [\\n    \\\"management guru\\\",\\n    \\\"marketing\\\",\\n    \\\"corporate raider\\\",\\n    \\\"management accountant\\\",\\n    \\\"accountant\\\",\\n    \\\"founder of the Versace fashion house\\\",\\n    \\\"the founder of Peet Coffee & Tea\\\",\\n    \\\"the founder of Landor Associates\\\",\\n    \\\"founder of Takefuji Corporation\\\",\\n    \\\"founder of the Lin Yuan Group\\\",\\n    \\\"founder of Caf\\u00e9 Coffee Day\\\",\\n    \\\"founder of The Body Shop\\\",\\n    \\\"joint founder of Ryanair\\\",\\n    \\\"founder of Lola Cars\\\",\\n    \\\"founder of Herbalife\\\",\\n    \\\"founder of SeaWorld\\\",\\n    \\\"founder of PowerBar\\\",\\n    \\\"founder of Naza\\\",\\n    \\\"president of Fiat\\\",\\n    \\\"developer\\\",\\n    \\\"cattle rancher\\\",\\n    \\\"rancher\\\",\\n    \\\"retailer\\\",\\n]\\nbusiness_farming = sorted(\\n    list(set(business_farming)), key=lambda x: len(x), reverse=True\\n)\\n\\nacademia_humanities = [\\n    \\\"humanist\\\",\\n    \\\"Byzantinist\\\",\\n    \\\"university president\\\",\\n    \\\"the founder of the School of Economic Science\\\",\\n    \\\"founder of St Antony College\\\",\\n    \\\"speaker\\\",\\n    \\\"comparative literature\\\",\\n    \\\"Babylonian literature\\\",\\n    \\\"literature\\\",\\n    \\\"cultural worker\\\",\\n    \\\"college president;\\\",\\n    \\\"college president\\\",\\n    \\\"president of MIT\\\",\\n    \\\"Hispanist\\\",\\n]\\nacademia_humanities = sorted(\\n    list(set(academia_humanities)), key=lambda x: len(x), reverse=True\\n)\\n\\nlaw_enf_military_operator = [\\n    \\\"member of the\\\",\\n    \\\"World War II\\\",\\n    \\\"Chief of Staff\\\",\\n    \\\"museum specialist\\\",\\n    \\\"museum founder\\\",\\n    \\\"guerrilla\\\",\\n    \\\"founder of NORAID\\\",\\n    \\\"Commandant of the Marine Corps\\\",\\n    \\\"Marine\\\",\\n    \\\"OSS CIA operative\\\",\\n    \\\"SOE operative\\\",\\n    \\\"lieutenant colonel\\\",\\n    \\\"air force colonel\\\",\\n    \\\"colonel\\\",\\n    \\\"secret FBI informant\\\",\\n    \\\"FBI informant\\\",\\n    \\\"informant\\\",\\n    \\\"drug trafficker\\\",\\n    \\\"Deputy Secretary of Defense\\\",\\n    \\\"aquanaut\\\",\\n    \\\"heroine\\\",\\n]\\nlaw_enf_military_operator = sorted(\\n    list(set(law_enf_military_operator)), key=lambda x: len(x), reverse=True\\n)\\n\\nspiritual = [\\n    \\\"Judaic\\\",\\n    \\\"liturgist\\\",\\n    \\\"posek\\\",\\n    \\\"founder of Campus Crusade for Christ\\\",\\n    \\\"founder of the Holy Spirit Movement\\\",\\n    \\\"founder of Masorti movement\\\",\\n    \\\"church\\\",\\n    \\\"exorcist\\\",\\n    \\\"Biblical\\\",\\n    \\\"Shi'i ayatollah\\\",\\n    \\\"ayatollah\\\",\\n]\\nspiritual = sorted(list(set(spiritual)), key=lambda x: len(x), reverse=True)\\n\\nsocial = [\\n    \\\"founder of Interfaith Center of\\\",\\n    \\\"founder of The Rouse Company\\\",\\n    \\\"development worker\\\",\\n    \\\"aid worker\\\",\\n    \\\"hospice founder\\\",\\n]\\nsocial = sorted(list(set(social)), key=lambda x: len(x), reverse=True)\\n\\ncrime = [\\n    \\\"drug smuggler\\\",\\n    \\\"smuggler\\\",\\n    \\\"child molester\\\",\\n    \\\"terrorist\\\",\\n    \\\"organized crime operative\\\",\\n    \\\"forger\\\",\\n]\\ncrime = sorted(list(set(crime)), key=lambda x: len(x), reverse=True)\\n\\nevent_record_other = [\\n    \\\"census worker\\\",\\n    \\\"construction worker\\\",\\n    \\\"alleged CIA operative\\\",\\n    \\\"documentary subjects\\\",\\n    \\\"documentary subject\\\",\\n    \\\"gangster Tan Chor Jin\\\",\\n]\\nevent_record_other = sorted(\\n    list(set(event_record_other)), key=lambda x: len(x), reverse=True\\n)\\n\\nother_species = []\\nother_species = sorted(list(set(other_species)), key=lambda x: len(x), reverse=True)\";\n",
       "                var nbb_formatted_code = \"# Creating lists for each category and sorting by decreasing length and removing duplicates\\n\\npolitics_govt_law = [\\n    \\\"dictator\\\",\\n    \\\"climate change denier\\\",\\n    \\\"security expert\\\",\\n    \\\"mentor to Erin Brockovich\\\",\\n    \\\"pacifist\\\",\\n    \\\"baroness\\\",\\n    \\\"peace protester\\\",\\n    \\\"protester\\\",\\n    \\\"founder of the Gray Panthers movement\\\",\\n    \\\"founder of Amnesty International\\\",\\n    \\\"founder of J Flag\\\",\\n    \\\"founder of Hamas\\\",\\n    \\\"presidential candidate\\\",\\n    \\\"presidential adviser\\\",\\n    \\\"Judge of the International Criminal Tribunal for the Former\\\",\\n    \\\"one of the first female District Judges\\\",\\n    \\\"Circuit Judge\\\",\\n    \\\"Chief Judge\\\",\\n    \\\"Economics\\\",\\n    \\\"Vice Premier\\\",\\n    \\\"Premier of\\\",\\n    \\\"Black Rod\\\",\\n    \\\"community worker\\\",\\n    \\\"migrant workers\\\",\\n    \\\"sex worker\\\",\\n    \\\"presidential candidate\\\",\\n    \\\"president of the A M A\\\",\\n    \\\"president of the ICTR\\\",\\n    \\\"presidential adviser\\\",\\n    \\\"former president of\\\",\\n    \\\"vice president\\\",\\n    \\\"urbanist\\\",\\n    \\\"monarchist\\\",\\n    \\\"senior Cabinet adviser\\\",\\n    \\\"policy adviser\\\",\\n    \\\"constitutional\\\",\\n    \\\"one of the Mitford sisters\\\",\\n    \\\"nobleman\\\",\\n    \\\"former Northern Senator\\\",\\n    \\\"Senator\\\",\\n    \\\"parliamentary draftsman\\\",\\n    \\\"daughter of Victor Emmanuel III of\\\",\\n    \\\"sister of Queen Elizabeth II\\\",\\n    \\\"Mayor of Bucharest during the Communist era\\\",\\n    \\\"Mayor of Sarajevo\\\",\\n    \\\"Mayor of Boston\\\",\\n    \\\"Mattachine Society founder\\\",\\n]\\npolitics_govt_law = sorted(\\n    list(set(politics_govt_law)), key=lambda x: len(x), reverse=True\\n)\\n\\narts = [\\n    \\\"founding member of\\\",\\n    \\\"a member of\\\",\\n    \\\"documentarian\\\",\\n    \\\"analyst\\\",\\n    \\\"host\\\",\\n    \\\"goldsmith\\\",\\n    \\\"harpsichordist\\\",\\n    \\\"MC\\\",\\n    \\\"impresario\\\",\\n    \\\"movie trailer narrator\\\",\\n    \\\"audiobook narrator\\\",\\n    \\\"narrator\\\",\\n    \\\"the creator of the comic strip\\\",\\n    \\\"creator of Amazing Sea Monkeys\\\",\\n    \\\"comic book character creator\\\",\\n    \\\"creator of the seggae genre\\\",\\n    \\\"creator of the book series\\\",\\n    \\\"The Railway Series creator\\\",\\n    \\\"co creator of Jonah Hex\\\",\\n    \\\"comic book creator\\\",\\n    \\\"reputed creator of\\\",\\n    \\\"puzzle creator\\\",\\n    \\\"comics creator\\\",\\n    \\\"co creator of\\\",\\n    \\\"hard bop trumpeter\\\",\\n    \\\"trumpeter\\\",\\n    \\\"weatherman\\\",\\n    \\\"proponent of Pinoy rock\\\",\\n    \\\"rock\\\",\\n    \\\"calligrapher\\\",\\n    \\\"founder of The Old Flying Machine Company\\\",\\n    \\\"founder of the BBC Radiophonic Workshop\\\",\\n    \\\"founder of the Philharmonia Virtuosi\\\",\\n    \\\"founder of Barclay Records\\\",\\n    \\\"founder of the Boys Choir\\\",\\n    \\\"founder of The Loft\\\",\\n    \\\"founder of magazine\\\",\\n    \\\"Pullizer Prize winner\\\",\\n    \\\"metalworker\\\",\\n    \\\"former NBC News president\\\",\\n    \\\"president of ABC\\\",\\n    \\\"media mogul\\\",\\n    \\\"Richard Nixon impersonator\\\",\\n    \\\"JFK impersonator\\\",\\n    \\\"impersonator\\\",\\n    \\\"couturier\\\",\\n    \\\"storyteller\\\",\\n    \\\"interviewer\\\",\\n    \\\"sound system operator\\\",\\n    \\\"lutenist\\\",\\n    \\\"documentary maker\\\",\\n    \\\"documentarian\\\",\\n    \\\"documentarist\\\",\\n    \\\"broadcasting adviser\\\",\\n    \\\"adman\\\",\\n    \\\"weaver\\\",\\n    \\\"multi instrumentalist\\\",\\n    \\\"illusionist\\\",\\n    \\\"raconteur\\\",\\n    \\\"flugelhornist\\\",\\n    \\\"recording star of the s\\\",\\n    \\\"record company founder\\\",\\n    \\\"sound recordist\\\",\\n    \\\"record\\\",\\n    \\\"patron of Jean Cocteau\\\",\\n    \\\"brother of Marvin Gaye\\\",\\n]\\narts = sorted(list(set(arts)), key=lambda x: len(x), reverse=True)\\n\\nsports = [\\n    \\\"World Cup alpine ski racer\\\",\\n    \\\"short circuit road racer\\\",\\n    \\\"wheelchair racer\\\",\\n    \\\"motocross racer\\\",\\n    \\\"airplane racer\\\",\\n    \\\"auto racer\\\",\\n    \\\"racer\\\",\\n    \\\"hurdler\\\",\\n    \\\"powerlifter\\\",\\n    \\\"founder of Paris Saint Germain F C\\\",\\n    \\\"founder of Modern Arnis\\\",\\n    \\\"bronze medalist weightlifter\\\",\\n    \\\"weightlifter\\\",\\n    \\\"gambler\\\",\\n    \\\"chess\\\",\\n    \\\"valet\\\",\\n    \\\"fighting bull\\\",\\n    \\\"breeder\\\",\\n    \\\"first woman in to receive a jockey licence\\\",\\n    \\\"jockey mentor\\\",\\n    \\\"jockey\\\",\\n    \\\"horse rider\\\",\\n    \\\"hall of famer\\\",\\n    \\\"World Cup alpine ski racer\\\",\\n    \\\"the Washington Redskins\\\",\\n    \\\"ski orienteer\\\",\\n    \\\"alpine skier\\\",\\n    \\\"ski mogul\\\",\\n    \\\"freeskier\\\",\\n    \\\"ski\\\",\\n]\\nsports = sorted(list(set(sports)), key=lambda x: len(x), reverse=True)\\n\\nsciences = [\\n    \\\"biodynamic agriculturalist\\\",\\n    \\\"bio\\\",\\n    \\\"spaceport planner\\\",\\n    \\\"addiction specialist\\\",\\n    \\\"paediatrician\\\",\\n    \\\"creator of the Game Boy\\\",\\n    \\\"agronomist\\\",\\n    \\\"lepidopterist\\\",\\n    \\\"founder of Janssen Pharmaceutica\\\",\\n    \\\"airborne mechanic\\\",\\n    \\\"mechanic\\\",\\n    \\\"plant taxonomist\\\",\\n    \\\"taxonomist\\\",\\n    \\\"psychology\\\",\\n    \\\"skeptic\\\",\\n    \\\"hydrodynamicist\\\",\\n    \\\"coleopterist\\\",\\n]\\nsciences = sorted(list(set(sciences)), key=lambda x: len(x), reverse=True)\\n\\nbusiness_farming = [\\n    \\\"management guru\\\",\\n    \\\"marketing\\\",\\n    \\\"corporate raider\\\",\\n    \\\"management accountant\\\",\\n    \\\"accountant\\\",\\n    \\\"founder of the Versace fashion house\\\",\\n    \\\"the founder of Peet Coffee & Tea\\\",\\n    \\\"the founder of Landor Associates\\\",\\n    \\\"founder of Takefuji Corporation\\\",\\n    \\\"founder of the Lin Yuan Group\\\",\\n    \\\"founder of Caf\\u00e9 Coffee Day\\\",\\n    \\\"founder of The Body Shop\\\",\\n    \\\"joint founder of Ryanair\\\",\\n    \\\"founder of Lola Cars\\\",\\n    \\\"founder of Herbalife\\\",\\n    \\\"founder of SeaWorld\\\",\\n    \\\"founder of PowerBar\\\",\\n    \\\"founder of Naza\\\",\\n    \\\"president of Fiat\\\",\\n    \\\"developer\\\",\\n    \\\"cattle rancher\\\",\\n    \\\"rancher\\\",\\n    \\\"retailer\\\",\\n]\\nbusiness_farming = sorted(\\n    list(set(business_farming)), key=lambda x: len(x), reverse=True\\n)\\n\\nacademia_humanities = [\\n    \\\"humanist\\\",\\n    \\\"Byzantinist\\\",\\n    \\\"university president\\\",\\n    \\\"the founder of the School of Economic Science\\\",\\n    \\\"founder of St Antony College\\\",\\n    \\\"speaker\\\",\\n    \\\"comparative literature\\\",\\n    \\\"Babylonian literature\\\",\\n    \\\"literature\\\",\\n    \\\"cultural worker\\\",\\n    \\\"college president;\\\",\\n    \\\"college president\\\",\\n    \\\"president of MIT\\\",\\n    \\\"Hispanist\\\",\\n]\\nacademia_humanities = sorted(\\n    list(set(academia_humanities)), key=lambda x: len(x), reverse=True\\n)\\n\\nlaw_enf_military_operator = [\\n    \\\"member of the\\\",\\n    \\\"World War II\\\",\\n    \\\"Chief of Staff\\\",\\n    \\\"museum specialist\\\",\\n    \\\"museum founder\\\",\\n    \\\"guerrilla\\\",\\n    \\\"founder of NORAID\\\",\\n    \\\"Commandant of the Marine Corps\\\",\\n    \\\"Marine\\\",\\n    \\\"OSS CIA operative\\\",\\n    \\\"SOE operative\\\",\\n    \\\"lieutenant colonel\\\",\\n    \\\"air force colonel\\\",\\n    \\\"colonel\\\",\\n    \\\"secret FBI informant\\\",\\n    \\\"FBI informant\\\",\\n    \\\"informant\\\",\\n    \\\"drug trafficker\\\",\\n    \\\"Deputy Secretary of Defense\\\",\\n    \\\"aquanaut\\\",\\n    \\\"heroine\\\",\\n]\\nlaw_enf_military_operator = sorted(\\n    list(set(law_enf_military_operator)), key=lambda x: len(x), reverse=True\\n)\\n\\nspiritual = [\\n    \\\"Judaic\\\",\\n    \\\"liturgist\\\",\\n    \\\"posek\\\",\\n    \\\"founder of Campus Crusade for Christ\\\",\\n    \\\"founder of the Holy Spirit Movement\\\",\\n    \\\"founder of Masorti movement\\\",\\n    \\\"church\\\",\\n    \\\"exorcist\\\",\\n    \\\"Biblical\\\",\\n    \\\"Shi'i ayatollah\\\",\\n    \\\"ayatollah\\\",\\n]\\nspiritual = sorted(list(set(spiritual)), key=lambda x: len(x), reverse=True)\\n\\nsocial = [\\n    \\\"founder of Interfaith Center of\\\",\\n    \\\"founder of The Rouse Company\\\",\\n    \\\"development worker\\\",\\n    \\\"aid worker\\\",\\n    \\\"hospice founder\\\",\\n]\\nsocial = sorted(list(set(social)), key=lambda x: len(x), reverse=True)\\n\\ncrime = [\\n    \\\"drug smuggler\\\",\\n    \\\"smuggler\\\",\\n    \\\"child molester\\\",\\n    \\\"terrorist\\\",\\n    \\\"organized crime operative\\\",\\n    \\\"forger\\\",\\n]\\ncrime = sorted(list(set(crime)), key=lambda x: len(x), reverse=True)\\n\\nevent_record_other = [\\n    \\\"census worker\\\",\\n    \\\"construction worker\\\",\\n    \\\"alleged CIA operative\\\",\\n    \\\"documentary subjects\\\",\\n    \\\"documentary subject\\\",\\n    \\\"gangster Tan Chor Jin\\\",\\n]\\nevent_record_other = sorted(\\n    list(set(event_record_other)), key=lambda x: len(x), reverse=True\\n)\\n\\nother_species = []\\nother_species = sorted(list(set(other_species)), key=lambda x: len(x), reverse=True)\";\n",
       "                var nbb_cells = Jupyter.notebook.get_cells();\n",
       "                for (var i = 0; i < nbb_cells.length; ++i) {\n",
       "                    if (nbb_cells[i].input_prompt_number == nbb_cell_id) {\n",
       "                        if (nbb_cells[i].get_text() == nbb_unformatted_code) {\n",
       "                             nbb_cells[i].set_text(nbb_formatted_code);\n",
       "                        }\n",
       "                        break;\n",
       "                    }\n",
       "                }\n",
       "            }, 500);\n",
       "            "
      ],
      "text/plain": [
       "<IPython.core.display.Javascript object>"
      ]
     },
     "metadata": {},
     "output_type": "display_data"
    }
   ],
   "source": [
    "# Creating lists for each category and sorting by decreasing length and removing duplicates\n",
    "\n",
    "politics_govt_law = [\n",
    "    \"dictator\",\n",
    "    \"climate change denier\",\n",
    "    \"security expert\",\n",
    "    \"mentor to Erin Brockovich\",\n",
    "    \"pacifist\",\n",
    "    \"baroness\",\n",
    "    \"peace protester\",\n",
    "    \"protester\",\n",
    "    \"founder of the Gray Panthers movement\",\n",
    "    \"founder of Amnesty International\",\n",
    "    \"founder of J Flag\",\n",
    "    \"founder of Hamas\",\n",
    "    \"presidential candidate\",\n",
    "    \"presidential adviser\",\n",
    "    \"Judge of the International Criminal Tribunal for the Former\",\n",
    "    \"one of the first female District Judges\",\n",
    "    \"Circuit Judge\",\n",
    "    \"Chief Judge\",\n",
    "    \"Economics\",\n",
    "    \"Vice Premier\",\n",
    "    \"Premier of\",\n",
    "    \"Black Rod\",\n",
    "    \"community worker\",\n",
    "    \"migrant workers\",\n",
    "    \"sex worker\",\n",
    "    \"presidential candidate\",\n",
    "    \"president of the A M A\",\n",
    "    \"president of the ICTR\",\n",
    "    \"presidential adviser\",\n",
    "    \"former president of\",\n",
    "    \"vice president\",\n",
    "    \"urbanist\",\n",
    "    \"monarchist\",\n",
    "    \"senior Cabinet adviser\",\n",
    "    \"policy adviser\",\n",
    "    \"constitutional\",\n",
    "    \"one of the Mitford sisters\",\n",
    "    \"nobleman\",\n",
    "    \"former Northern Senator\",\n",
    "    \"Senator\",\n",
    "    \"parliamentary draftsman\",\n",
    "    \"daughter of Victor Emmanuel III of\",\n",
    "    \"sister of Queen Elizabeth II\",\n",
    "    \"Mayor of Bucharest during the Communist era\",\n",
    "    \"Mayor of Sarajevo\",\n",
    "    \"Mayor of Boston\",\n",
    "    \"Mattachine Society founder\",\n",
    "]\n",
    "politics_govt_law = sorted(\n",
    "    list(set(politics_govt_law)), key=lambda x: len(x), reverse=True\n",
    ")\n",
    "\n",
    "arts = [\n",
    "    \"founding member of\",\n",
    "    \"a member of\",\n",
    "    \"documentarian\",\n",
    "    \"analyst\",\n",
    "    \"host\",\n",
    "    \"goldsmith\",\n",
    "    \"harpsichordist\",\n",
    "    \"MC\",\n",
    "    \"impresario\",\n",
    "    \"movie trailer narrator\",\n",
    "    \"audiobook narrator\",\n",
    "    \"narrator\",\n",
    "    \"the creator of the comic strip\",\n",
    "    \"creator of Amazing Sea Monkeys\",\n",
    "    \"comic book character creator\",\n",
    "    \"creator of the seggae genre\",\n",
    "    \"creator of the book series\",\n",
    "    \"The Railway Series creator\",\n",
    "    \"co creator of Jonah Hex\",\n",
    "    \"comic book creator\",\n",
    "    \"reputed creator of\",\n",
    "    \"puzzle creator\",\n",
    "    \"comics creator\",\n",
    "    \"co creator of\",\n",
    "    \"hard bop trumpeter\",\n",
    "    \"trumpeter\",\n",
    "    \"weatherman\",\n",
    "    \"proponent of Pinoy rock\",\n",
    "    \"rock\",\n",
    "    \"calligrapher\",\n",
    "    \"founder of The Old Flying Machine Company\",\n",
    "    \"founder of the BBC Radiophonic Workshop\",\n",
    "    \"founder of the Philharmonia Virtuosi\",\n",
    "    \"founder of Barclay Records\",\n",
    "    \"founder of the Boys Choir\",\n",
    "    \"founder of The Loft\",\n",
    "    \"founder of magazine\",\n",
    "    \"Pullizer Prize winner\",\n",
    "    \"metalworker\",\n",
    "    \"former NBC News president\",\n",
    "    \"president of ABC\",\n",
    "    \"media mogul\",\n",
    "    \"Richard Nixon impersonator\",\n",
    "    \"JFK impersonator\",\n",
    "    \"impersonator\",\n",
    "    \"couturier\",\n",
    "    \"storyteller\",\n",
    "    \"interviewer\",\n",
    "    \"sound system operator\",\n",
    "    \"lutenist\",\n",
    "    \"documentary maker\",\n",
    "    \"documentarian\",\n",
    "    \"documentarist\",\n",
    "    \"broadcasting adviser\",\n",
    "    \"adman\",\n",
    "    \"weaver\",\n",
    "    \"multi instrumentalist\",\n",
    "    \"illusionist\",\n",
    "    \"raconteur\",\n",
    "    \"flugelhornist\",\n",
    "    \"recording star of the s\",\n",
    "    \"record company founder\",\n",
    "    \"sound recordist\",\n",
    "    \"record\",\n",
    "    \"patron of Jean Cocteau\",\n",
    "    \"brother of Marvin Gaye\",\n",
    "]\n",
    "arts = sorted(list(set(arts)), key=lambda x: len(x), reverse=True)\n",
    "\n",
    "sports = [\n",
    "    \"World Cup alpine ski racer\",\n",
    "    \"short circuit road racer\",\n",
    "    \"wheelchair racer\",\n",
    "    \"motocross racer\",\n",
    "    \"airplane racer\",\n",
    "    \"auto racer\",\n",
    "    \"racer\",\n",
    "    \"hurdler\",\n",
    "    \"powerlifter\",\n",
    "    \"founder of Paris Saint Germain F C\",\n",
    "    \"founder of Modern Arnis\",\n",
    "    \"bronze medalist weightlifter\",\n",
    "    \"weightlifter\",\n",
    "    \"gambler\",\n",
    "    \"chess\",\n",
    "    \"valet\",\n",
    "    \"fighting bull\",\n",
    "    \"breeder\",\n",
    "    \"first woman in to receive a jockey licence\",\n",
    "    \"jockey mentor\",\n",
    "    \"jockey\",\n",
    "    \"horse rider\",\n",
    "    \"hall of famer\",\n",
    "    \"World Cup alpine ski racer\",\n",
    "    \"the Washington Redskins\",\n",
    "    \"ski orienteer\",\n",
    "    \"alpine skier\",\n",
    "    \"ski mogul\",\n",
    "    \"freeskier\",\n",
    "    \"ski\",\n",
    "]\n",
    "sports = sorted(list(set(sports)), key=lambda x: len(x), reverse=True)\n",
    "\n",
    "sciences = [\n",
    "    \"biodynamic agriculturalist\",\n",
    "    \"bio\",\n",
    "    \"spaceport planner\",\n",
    "    \"addiction specialist\",\n",
    "    \"paediatrician\",\n",
    "    \"creator of the Game Boy\",\n",
    "    \"agronomist\",\n",
    "    \"lepidopterist\",\n",
    "    \"founder of Janssen Pharmaceutica\",\n",
    "    \"airborne mechanic\",\n",
    "    \"mechanic\",\n",
    "    \"plant taxonomist\",\n",
    "    \"taxonomist\",\n",
    "    \"psychology\",\n",
    "    \"skeptic\",\n",
    "    \"hydrodynamicist\",\n",
    "    \"coleopterist\",\n",
    "]\n",
    "sciences = sorted(list(set(sciences)), key=lambda x: len(x), reverse=True)\n",
    "\n",
    "business_farming = [\n",
    "    \"management guru\",\n",
    "    \"marketing\",\n",
    "    \"corporate raider\",\n",
    "    \"management accountant\",\n",
    "    \"accountant\",\n",
    "    \"founder of the Versace fashion house\",\n",
    "    \"the founder of Peet Coffee & Tea\",\n",
    "    \"the founder of Landor Associates\",\n",
    "    \"founder of Takefuji Corporation\",\n",
    "    \"founder of the Lin Yuan Group\",\n",
    "    \"founder of Café Coffee Day\",\n",
    "    \"founder of The Body Shop\",\n",
    "    \"joint founder of Ryanair\",\n",
    "    \"founder of Lola Cars\",\n",
    "    \"founder of Herbalife\",\n",
    "    \"founder of SeaWorld\",\n",
    "    \"founder of PowerBar\",\n",
    "    \"founder of Naza\",\n",
    "    \"president of Fiat\",\n",
    "    \"developer\",\n",
    "    \"cattle rancher\",\n",
    "    \"rancher\",\n",
    "    \"retailer\",\n",
    "]\n",
    "business_farming = sorted(\n",
    "    list(set(business_farming)), key=lambda x: len(x), reverse=True\n",
    ")\n",
    "\n",
    "academia_humanities = [\n",
    "    \"humanist\",\n",
    "    \"Byzantinist\",\n",
    "    \"university president\",\n",
    "    \"the founder of the School of Economic Science\",\n",
    "    \"founder of St Antony College\",\n",
    "    \"speaker\",\n",
    "    \"comparative literature\",\n",
    "    \"Babylonian literature\",\n",
    "    \"literature\",\n",
    "    \"cultural worker\",\n",
    "    \"college president;\",\n",
    "    \"college president\",\n",
    "    \"president of MIT\",\n",
    "    \"Hispanist\",\n",
    "]\n",
    "academia_humanities = sorted(\n",
    "    list(set(academia_humanities)), key=lambda x: len(x), reverse=True\n",
    ")\n",
    "\n",
    "law_enf_military_operator = [\n",
    "    \"member of the\",\n",
    "    \"World War II\",\n",
    "    \"Chief of Staff\",\n",
    "    \"museum specialist\",\n",
    "    \"museum founder\",\n",
    "    \"guerrilla\",\n",
    "    \"founder of NORAID\",\n",
    "    \"Commandant of the Marine Corps\",\n",
    "    \"Marine\",\n",
    "    \"OSS CIA operative\",\n",
    "    \"SOE operative\",\n",
    "    \"lieutenant colonel\",\n",
    "    \"air force colonel\",\n",
    "    \"colonel\",\n",
    "    \"secret FBI informant\",\n",
    "    \"FBI informant\",\n",
    "    \"informant\",\n",
    "    \"drug trafficker\",\n",
    "    \"Deputy Secretary of Defense\",\n",
    "    \"aquanaut\",\n",
    "    \"heroine\",\n",
    "]\n",
    "law_enf_military_operator = sorted(\n",
    "    list(set(law_enf_military_operator)), key=lambda x: len(x), reverse=True\n",
    ")\n",
    "\n",
    "spiritual = [\n",
    "    \"Judaic\",\n",
    "    \"liturgist\",\n",
    "    \"posek\",\n",
    "    \"founder of Campus Crusade for Christ\",\n",
    "    \"founder of the Holy Spirit Movement\",\n",
    "    \"founder of Masorti movement\",\n",
    "    \"church\",\n",
    "    \"exorcist\",\n",
    "    \"Biblical\",\n",
    "    \"Shi'i ayatollah\",\n",
    "    \"ayatollah\",\n",
    "]\n",
    "spiritual = sorted(list(set(spiritual)), key=lambda x: len(x), reverse=True)\n",
    "\n",
    "social = [\n",
    "    \"founder of Interfaith Center of\",\n",
    "    \"founder of The Rouse Company\",\n",
    "    \"development worker\",\n",
    "    \"aid worker\",\n",
    "    \"hospice founder\",\n",
    "]\n",
    "social = sorted(list(set(social)), key=lambda x: len(x), reverse=True)\n",
    "\n",
    "crime = [\n",
    "    \"drug smuggler\",\n",
    "    \"smuggler\",\n",
    "    \"child molester\",\n",
    "    \"terrorist\",\n",
    "    \"organized crime operative\",\n",
    "    \"forger\",\n",
    "]\n",
    "crime = sorted(list(set(crime)), key=lambda x: len(x), reverse=True)\n",
    "\n",
    "event_record_other = [\n",
    "    \"census worker\",\n",
    "    \"construction worker\",\n",
    "    \"alleged CIA operative\",\n",
    "    \"documentary subjects\",\n",
    "    \"documentary subject\",\n",
    "    \"gangster Tan Chor Jin\",\n",
    "]\n",
    "event_record_other = sorted(\n",
    "    list(set(event_record_other)), key=lambda x: len(x), reverse=True\n",
    ")\n",
    "\n",
    "other_species = []\n",
    "other_species = sorted(list(set(other_species)), key=lambda x: len(x), reverse=True)"
   ]
  },
  {
   "cell_type": "code",
   "execution_count": 120,
   "id": "eaca915c",
   "metadata": {},
   "outputs": [
    {
     "data": {
      "application/javascript": [
       "\n",
       "            setTimeout(function() {\n",
       "                var nbb_cell_id = 120;\n",
       "                var nbb_unformatted_code = \"# Dropping info_2_1 value for entry with redundant value\\nindex = df[df[\\\"link\\\"] == \\\"https://en.wikipedia.org/wiki/Oswald_Lange\\\"].index\\ndf.loc[index, \\\"info_2_1\\\"] = \\\"\\\"\\n\\n# Dropping info_2_1 value for entry with redundant value\\nindex = df[df[\\\"link\\\"] == \\\"https://en.wikipedia.org/wiki/Ian_Richardson\\\"].index\\ndf.loc[index, \\\"info_2_1\\\"] = \\\"\\\"\\n\\n# Dropping info_2_1 value for entries with redundant value\\ndf.loc[\\n    [index for index in df.index if df.loc[index, \\\"info_2_1\\\"] == \\\"pioneer\\\"], \\\"info_2_1\\\"\\n] = \\\"\\\"\\n\\n# Dropping entry with link that points to list page rather than individual's page\\nindex = df[\\n    df[\\\"link\\\"] == \\\"https://en.wikipedia.org/wiki/Seumas_McNally_Grand_Prize\\\"\\n].index\\ndf.drop(index, inplace=True)\\ndf.reset_index(inplace=True, drop=True)\\n\\n# Dropping info_2_1 value for entries with redundant value\\ndf.loc[\\n    [index for index in df.index if df.loc[index, \\\"info_2_1\\\"] == \\\"book subject\\\"],\\n    \\\"info_2_1\\\",\\n] = \\\"\\\"\\n\\n# Dropping info_2_1 value for entries with redundant value\\ndf.loc[\\n    [index for index in df.index if df.loc[index, \\\"info_2_1\\\"] == \\\"interpreter\\\"],\\n    \\\"info_2_1\\\",\\n] = \\\"\\\"\";\n",
       "                var nbb_formatted_code = \"# Dropping info_2_1 value for entry with redundant value\\nindex = df[df[\\\"link\\\"] == \\\"https://en.wikipedia.org/wiki/Oswald_Lange\\\"].index\\ndf.loc[index, \\\"info_2_1\\\"] = \\\"\\\"\\n\\n# Dropping info_2_1 value for entry with redundant value\\nindex = df[df[\\\"link\\\"] == \\\"https://en.wikipedia.org/wiki/Ian_Richardson\\\"].index\\ndf.loc[index, \\\"info_2_1\\\"] = \\\"\\\"\\n\\n# Dropping info_2_1 value for entries with redundant value\\ndf.loc[\\n    [index for index in df.index if df.loc[index, \\\"info_2_1\\\"] == \\\"pioneer\\\"], \\\"info_2_1\\\"\\n] = \\\"\\\"\\n\\n# Dropping entry with link that points to list page rather than individual's page\\nindex = df[\\n    df[\\\"link\\\"] == \\\"https://en.wikipedia.org/wiki/Seumas_McNally_Grand_Prize\\\"\\n].index\\ndf.drop(index, inplace=True)\\ndf.reset_index(inplace=True, drop=True)\\n\\n# Dropping info_2_1 value for entries with redundant value\\ndf.loc[\\n    [index for index in df.index if df.loc[index, \\\"info_2_1\\\"] == \\\"book subject\\\"],\\n    \\\"info_2_1\\\",\\n] = \\\"\\\"\\n\\n# Dropping info_2_1 value for entries with redundant value\\ndf.loc[\\n    [index for index in df.index if df.loc[index, \\\"info_2_1\\\"] == \\\"interpreter\\\"],\\n    \\\"info_2_1\\\",\\n] = \\\"\\\"\";\n",
       "                var nbb_cells = Jupyter.notebook.get_cells();\n",
       "                for (var i = 0; i < nbb_cells.length; ++i) {\n",
       "                    if (nbb_cells[i].input_prompt_number == nbb_cell_id) {\n",
       "                        if (nbb_cells[i].get_text() == nbb_unformatted_code) {\n",
       "                             nbb_cells[i].set_text(nbb_formatted_code);\n",
       "                        }\n",
       "                        break;\n",
       "                    }\n",
       "                }\n",
       "            }, 500);\n",
       "            "
      ],
      "text/plain": [
       "<IPython.core.display.Javascript object>"
      ]
     },
     "metadata": {},
     "output_type": "display_data"
    }
   ],
   "source": [
    "# Dropping info_2_1 value for entry with redundant value\n",
    "index = df[df[\"link\"] == \"https://en.wikipedia.org/wiki/Oswald_Lange\"].index\n",
    "df.loc[index, \"info_2_1\"] = \"\"\n",
    "\n",
    "# Dropping info_2_1 value for entry with redundant value\n",
    "index = df[df[\"link\"] == \"https://en.wikipedia.org/wiki/Ian_Richardson\"].index\n",
    "df.loc[index, \"info_2_1\"] = \"\"\n",
    "\n",
    "# Dropping info_2_1 value for entries with redundant value\n",
    "df.loc[\n",
    "    [index for index in df.index if df.loc[index, \"info_2_1\"] == \"pioneer\"], \"info_2_1\"\n",
    "] = \"\"\n",
    "\n",
    "# Dropping entry with link that points to list page rather than individual's page\n",
    "index = df[\n",
    "    df[\"link\"] == \"https://en.wikipedia.org/wiki/Seumas_McNally_Grand_Prize\"\n",
    "].index\n",
    "df.drop(index, inplace=True)\n",
    "df.reset_index(inplace=True, drop=True)\n",
    "\n",
    "# Dropping info_2_1 value for entries with redundant value\n",
    "df.loc[\n",
    "    [index for index in df.index if df.loc[index, \"info_2_1\"] == \"book subject\"],\n",
    "    \"info_2_1\",\n",
    "] = \"\"\n",
    "\n",
    "# Dropping info_2_1 value for entries with redundant value\n",
    "df.loc[\n",
    "    [index for index in df.index if df.loc[index, \"info_2_1\"] == \"interpreter\"],\n",
    "    \"info_2_1\",\n",
    "] = \"\""
   ]
  },
  {
   "cell_type": "markdown",
   "id": "05b610fc",
   "metadata": {},
   "source": [
    "#### Creating `known_for_dict` Dictionary of Category Keys and Specific Role Lists of Values"
   ]
  },
  {
   "cell_type": "code",
   "execution_count": 121,
   "id": "4b62e0c6",
   "metadata": {},
   "outputs": [
    {
     "data": {
      "application/javascript": [
       "\n",
       "            setTimeout(function() {\n",
       "                var nbb_cell_id = 121;\n",
       "                var nbb_unformatted_code = \"# Combining separate lists into one dictionary\\nknown_for_dict = {\\n    \\\"social\\\": social,\\n    \\\"spiritual\\\": spiritual,\\n    \\\"academia_humanities\\\": academia_humanities,\\n    \\\"business_farming\\\": business_farming,\\n    \\\"sciences\\\": sciences,\\n    \\\"politics_govt_law\\\": politics_govt_law,\\n    \\\"law_enf_military_operator\\\": law_enf_military_operator,\\n    \\\"crime\\\": crime,\\n    \\\"event_record_other\\\": event_record_other,\\n    \\\"other_species\\\": other_species,\\n    \\\"arts\\\": arts,\\n    \\\"sports\\\": sports,\\n}\";\n",
       "                var nbb_formatted_code = \"# Combining separate lists into one dictionary\\nknown_for_dict = {\\n    \\\"social\\\": social,\\n    \\\"spiritual\\\": spiritual,\\n    \\\"academia_humanities\\\": academia_humanities,\\n    \\\"business_farming\\\": business_farming,\\n    \\\"sciences\\\": sciences,\\n    \\\"politics_govt_law\\\": politics_govt_law,\\n    \\\"law_enf_military_operator\\\": law_enf_military_operator,\\n    \\\"crime\\\": crime,\\n    \\\"event_record_other\\\": event_record_other,\\n    \\\"other_species\\\": other_species,\\n    \\\"arts\\\": arts,\\n    \\\"sports\\\": sports,\\n}\";\n",
       "                var nbb_cells = Jupyter.notebook.get_cells();\n",
       "                for (var i = 0; i < nbb_cells.length; ++i) {\n",
       "                    if (nbb_cells[i].input_prompt_number == nbb_cell_id) {\n",
       "                        if (nbb_cells[i].get_text() == nbb_unformatted_code) {\n",
       "                             nbb_cells[i].set_text(nbb_formatted_code);\n",
       "                        }\n",
       "                        break;\n",
       "                    }\n",
       "                }\n",
       "            }, 500);\n",
       "            "
      ],
      "text/plain": [
       "<IPython.core.display.Javascript object>"
      ]
     },
     "metadata": {},
     "output_type": "display_data"
    }
   ],
   "source": [
    "# Combining separate lists into one dictionary\n",
    "known_for_dict = {\n",
    "    \"social\": social,\n",
    "    \"spiritual\": spiritual,\n",
    "    \"academia_humanities\": academia_humanities,\n",
    "    \"business_farming\": business_farming,\n",
    "    \"sciences\": sciences,\n",
    "    \"politics_govt_law\": politics_govt_law,\n",
    "    \"law_enf_military_operator\": law_enf_military_operator,\n",
    "    \"crime\": crime,\n",
    "    \"event_record_other\": event_record_other,\n",
    "    \"other_species\": other_species,\n",
    "    \"arts\": arts,\n",
    "    \"sports\": sports,\n",
    "}"
   ]
  },
  {
   "cell_type": "markdown",
   "id": "52452cdd",
   "metadata": {},
   "source": [
    "#### Extracting Category from `info_2_1`"
   ]
  },
  {
   "cell_type": "code",
   "execution_count": 122,
   "id": "d4ed3c3a",
   "metadata": {},
   "outputs": [
    {
     "name": "stdout",
     "output_type": "stream",
     "text": [
      "CPU times: total: 27.7 s\n",
      "Wall time: 27.6 s\n"
     ]
    },
    {
     "data": {
      "application/javascript": [
       "\n",
       "            setTimeout(function() {\n",
       "                var nbb_cell_id = 122;\n",
       "                var nbb_unformatted_code = \"%%time\\n\\n# Column to check\\ncolumn = 'info_2_1'\\n\\n# Start dataframe\\ndataframe = df[df[column].notna()]\\n\\n# For loop to find role in column and extract it as category\\nfor category, category_lst in known_for_dict.items():\\n    for role in category_lst:\\n        for index in dataframe.index:\\n                item = df.loc[index, column]\\n                if item:\\n                    if role in item:\\n                        df.loc[index, category] = 1\\n                        df.loc[index, column] = item.replace(role, '').strip()\\n\\n# Calculating num_categories\\ndf[\\\"num_categories\\\"] = df[known_for_dict.keys()].sum(axis=1)\";\n",
       "                var nbb_formatted_code = \"%%time\\n\\n# Column to check\\ncolumn = 'info_2_1'\\n\\n# Start dataframe\\ndataframe = df[df[column].notna()]\\n\\n# For loop to find role in column and extract it as category\\nfor category, category_lst in known_for_dict.items():\\n    for role in category_lst:\\n        for index in dataframe.index:\\n                item = df.loc[index, column]\\n                if item:\\n                    if role in item:\\n                        df.loc[index, category] = 1\\n                        df.loc[index, column] = item.replace(role, '').strip()\\n\\n# Calculating num_categories\\ndf[\\\"num_categories\\\"] = df[known_for_dict.keys()].sum(axis=1)\";\n",
       "                var nbb_cells = Jupyter.notebook.get_cells();\n",
       "                for (var i = 0; i < nbb_cells.length; ++i) {\n",
       "                    if (nbb_cells[i].input_prompt_number == nbb_cell_id) {\n",
       "                        if (nbb_cells[i].get_text() == nbb_unformatted_code) {\n",
       "                             nbb_cells[i].set_text(nbb_formatted_code);\n",
       "                        }\n",
       "                        break;\n",
       "                    }\n",
       "                }\n",
       "            }, 500);\n",
       "            "
      ],
      "text/plain": [
       "<IPython.core.display.Javascript object>"
      ]
     },
     "metadata": {},
     "output_type": "display_data"
    }
   ],
   "source": [
    "%%time\n",
    "\n",
    "# Column to check\n",
    "column = 'info_2_1'\n",
    "\n",
    "# Start dataframe\n",
    "dataframe = df[df[column].notna()]\n",
    "\n",
    "# For loop to find role in column and extract it as category\n",
    "for category, category_lst in known_for_dict.items():\n",
    "    for role in category_lst:\n",
    "        for index in dataframe.index:\n",
    "                item = df.loc[index, column]\n",
    "                if item:\n",
    "                    if role in item:\n",
    "                        df.loc[index, category] = 1\n",
    "                        df.loc[index, column] = item.replace(role, '').strip()\n",
    "\n",
    "# Calculating num_categories\n",
    "df[\"num_categories\"] = df[known_for_dict.keys()].sum(axis=1)"
   ]
  },
  {
   "cell_type": "markdown",
   "id": "2e5409ba",
   "metadata": {},
   "source": [
    "#### Checking Updated `num_categories` Value Counts"
   ]
  },
  {
   "cell_type": "code",
   "execution_count": 123,
   "id": "c3316577",
   "metadata": {},
   "outputs": [
    {
     "data": {
      "text/plain": [
       "1    88383\n",
       "2     9424\n",
       "3      170\n",
       "0       65\n",
       "Name: num_categories, dtype: int64"
      ]
     },
     "execution_count": 123,
     "metadata": {},
     "output_type": "execute_result"
    },
    {
     "data": {
      "application/javascript": [
       "\n",
       "            setTimeout(function() {\n",
       "                var nbb_cell_id = 123;\n",
       "                var nbb_unformatted_code = \"# Checking updated num_categories value counts\\ndf[\\\"num_categories\\\"].value_counts()\";\n",
       "                var nbb_formatted_code = \"# Checking updated num_categories value counts\\ndf[\\\"num_categories\\\"].value_counts()\";\n",
       "                var nbb_cells = Jupyter.notebook.get_cells();\n",
       "                for (var i = 0; i < nbb_cells.length; ++i) {\n",
       "                    if (nbb_cells[i].input_prompt_number == nbb_cell_id) {\n",
       "                        if (nbb_cells[i].get_text() == nbb_unformatted_code) {\n",
       "                             nbb_cells[i].set_text(nbb_formatted_code);\n",
       "                        }\n",
       "                        break;\n",
       "                    }\n",
       "                }\n",
       "            }, 500);\n",
       "            "
      ],
      "text/plain": [
       "<IPython.core.display.Javascript object>"
      ]
     },
     "metadata": {},
     "output_type": "display_data"
    }
   ],
   "source": [
    "# Checking updated num_categories value counts\n",
    "df[\"num_categories\"].value_counts()"
   ]
  },
  {
   "cell_type": "markdown",
   "id": "21be5ea7",
   "metadata": {},
   "source": [
    "#### Observations:\n",
    "- We will proceed to rebuild `known_for_dict` for the next iteration."
   ]
  },
  {
   "cell_type": "markdown",
   "id": "2d4867ea",
   "metadata": {},
   "source": [
    "#### Finding `known_for` Roles in `info_2_1`"
   ]
  },
  {
   "cell_type": "code",
   "execution_count": 124,
   "id": "c08c2bc4",
   "metadata": {},
   "outputs": [
    {
     "data": {
      "application/javascript": [
       "\n",
       "            setTimeout(function() {\n",
       "                var nbb_cell_id = 124;\n",
       "                var nbb_unformatted_code = \"# # Obtaining values for column and their counts\\n# roles_list = df[\\\"info_2_1\\\"].value_counts(ascending=True).index.tolist()\";\n",
       "                var nbb_formatted_code = \"# # Obtaining values for column and their counts\\n# roles_list = df[\\\"info_2_1\\\"].value_counts(ascending=True).index.tolist()\";\n",
       "                var nbb_cells = Jupyter.notebook.get_cells();\n",
       "                for (var i = 0; i < nbb_cells.length; ++i) {\n",
       "                    if (nbb_cells[i].input_prompt_number == nbb_cell_id) {\n",
       "                        if (nbb_cells[i].get_text() == nbb_unformatted_code) {\n",
       "                             nbb_cells[i].set_text(nbb_formatted_code);\n",
       "                        }\n",
       "                        break;\n",
       "                    }\n",
       "                }\n",
       "            }, 500);\n",
       "            "
      ],
      "text/plain": [
       "<IPython.core.display.Javascript object>"
      ]
     },
     "metadata": {},
     "output_type": "display_data"
    }
   ],
   "source": [
    "# # Obtaining values for column and their counts\n",
    "# roles_list = df[\"info_2_1\"].value_counts(ascending=True).index.tolist()"
   ]
  },
  {
   "cell_type": "code",
   "execution_count": 125,
   "id": "52dccfe6",
   "metadata": {},
   "outputs": [
    {
     "data": {
      "application/javascript": [
       "\n",
       "            setTimeout(function() {\n",
       "                var nbb_cell_id = 125;\n",
       "                var nbb_unformatted_code = \"# # Code to check each value\\n# roles_list.pop()\";\n",
       "                var nbb_formatted_code = \"# # Code to check each value\\n# roles_list.pop()\";\n",
       "                var nbb_cells = Jupyter.notebook.get_cells();\n",
       "                for (var i = 0; i < nbb_cells.length; ++i) {\n",
       "                    if (nbb_cells[i].input_prompt_number == nbb_cell_id) {\n",
       "                        if (nbb_cells[i].get_text() == nbb_unformatted_code) {\n",
       "                             nbb_cells[i].set_text(nbb_formatted_code);\n",
       "                        }\n",
       "                        break;\n",
       "                    }\n",
       "                }\n",
       "            }, 500);\n",
       "            "
      ],
      "text/plain": [
       "<IPython.core.display.Javascript object>"
      ]
     },
     "metadata": {},
     "output_type": "display_data"
    }
   ],
   "source": [
    "# # Code to check each value\n",
    "# roles_list.pop()"
   ]
  },
  {
   "cell_type": "code",
   "execution_count": 126,
   "id": "f2a5ad62",
   "metadata": {},
   "outputs": [
    {
     "data": {
      "application/javascript": [
       "\n",
       "            setTimeout(function() {\n",
       "                var nbb_cell_id = 126;\n",
       "                var nbb_unformatted_code = \"# # Create specific_roles_list for above popped value\\n# specific_roles_list = (\\n#     df.loc[\\n#         [\\n#             index\\n#             for index in df[df[\\\"info_2_1\\\"].notna()].index\\n#             if \\\"frisbee\\\" in df.loc[index, \\\"info_2_1\\\"]\\n#         ],\\n#         \\\"info_2_1\\\",\\n#     ]\\n#     .value_counts()\\n#     .index.tolist()\\n# )\";\n",
       "                var nbb_formatted_code = \"# # Create specific_roles_list for above popped value\\n# specific_roles_list = (\\n#     df.loc[\\n#         [\\n#             index\\n#             for index in df[df[\\\"info_2_1\\\"].notna()].index\\n#             if \\\"frisbee\\\" in df.loc[index, \\\"info_2_1\\\"]\\n#         ],\\n#         \\\"info_2_1\\\",\\n#     ]\\n#     .value_counts()\\n#     .index.tolist()\\n# )\";\n",
       "                var nbb_cells = Jupyter.notebook.get_cells();\n",
       "                for (var i = 0; i < nbb_cells.length; ++i) {\n",
       "                    if (nbb_cells[i].input_prompt_number == nbb_cell_id) {\n",
       "                        if (nbb_cells[i].get_text() == nbb_unformatted_code) {\n",
       "                             nbb_cells[i].set_text(nbb_formatted_code);\n",
       "                        }\n",
       "                        break;\n",
       "                    }\n",
       "                }\n",
       "            }, 500);\n",
       "            "
      ],
      "text/plain": [
       "<IPython.core.display.Javascript object>"
      ]
     },
     "metadata": {},
     "output_type": "display_data"
    }
   ],
   "source": [
    "# # Create specific_roles_list for above popped value\n",
    "# specific_roles_list = (\n",
    "#     df.loc[\n",
    "#         [\n",
    "#             index\n",
    "#             for index in df[df[\"info_2_1\"].notna()].index\n",
    "#             if \"frisbee\" in df.loc[index, \"info_2_1\"]\n",
    "#         ],\n",
    "#         \"info_2_1\",\n",
    "#     ]\n",
    "#     .value_counts()\n",
    "#     .index.tolist()\n",
    "# )"
   ]
  },
  {
   "cell_type": "code",
   "execution_count": 127,
   "id": "8d5f30db",
   "metadata": {},
   "outputs": [
    {
     "data": {
      "application/javascript": [
       "\n",
       "            setTimeout(function() {\n",
       "                var nbb_cell_id = 127;\n",
       "                var nbb_unformatted_code = \"# # Viewing list sorted by descending length to copy to dictionary below and screen values\\n# sorted(specific_roles_list, key=lambda x: len(x), reverse=True)\";\n",
       "                var nbb_formatted_code = \"# # Viewing list sorted by descending length to copy to dictionary below and screen values\\n# sorted(specific_roles_list, key=lambda x: len(x), reverse=True)\";\n",
       "                var nbb_cells = Jupyter.notebook.get_cells();\n",
       "                for (var i = 0; i < nbb_cells.length; ++i) {\n",
       "                    if (nbb_cells[i].input_prompt_number == nbb_cell_id) {\n",
       "                        if (nbb_cells[i].get_text() == nbb_unformatted_code) {\n",
       "                             nbb_cells[i].set_text(nbb_formatted_code);\n",
       "                        }\n",
       "                        break;\n",
       "                    }\n",
       "                }\n",
       "            }, 500);\n",
       "            "
      ],
      "text/plain": [
       "<IPython.core.display.Javascript object>"
      ]
     },
     "metadata": {},
     "output_type": "display_data"
    }
   ],
   "source": [
    "# # Viewing list sorted by descending length to copy to dictionary below and screen values\n",
    "# sorted(specific_roles_list, key=lambda x: len(x), reverse=True)"
   ]
  },
  {
   "cell_type": "code",
   "execution_count": 128,
   "id": "236e646e",
   "metadata": {},
   "outputs": [
    {
     "data": {
      "application/javascript": [
       "\n",
       "            setTimeout(function() {\n",
       "                var nbb_cell_id = 128;\n",
       "                var nbb_unformatted_code = \"# # Example code to check additional category for specific entries\\n# df.loc[\\n#     [\\n#         index\\n#         for index in df.index\\n#         if df.loc[index, \\\"info_2_1\\\"] == \\\"judge\\\"\\n#         and df.loc[index, \\\"politics_govt_law\\\"] == 0\\n#     ],\\n#     :,\\n# ]\";\n",
       "                var nbb_formatted_code = \"# # Example code to check additional category for specific entries\\n# df.loc[\\n#     [\\n#         index\\n#         for index in df.index\\n#         if df.loc[index, \\\"info_2_1\\\"] == \\\"judge\\\"\\n#         and df.loc[index, \\\"politics_govt_law\\\"] == 0\\n#     ],\\n#     :,\\n# ]\";\n",
       "                var nbb_cells = Jupyter.notebook.get_cells();\n",
       "                for (var i = 0; i < nbb_cells.length; ++i) {\n",
       "                    if (nbb_cells[i].input_prompt_number == nbb_cell_id) {\n",
       "                        if (nbb_cells[i].get_text() == nbb_unformatted_code) {\n",
       "                             nbb_cells[i].set_text(nbb_formatted_code);\n",
       "                        }\n",
       "                        break;\n",
       "                    }\n",
       "                }\n",
       "            }, 500);\n",
       "            "
      ],
      "text/plain": [
       "<IPython.core.display.Javascript object>"
      ]
     },
     "metadata": {},
     "output_type": "display_data"
    }
   ],
   "source": [
    "# # Example code to check additional category for specific entries\n",
    "# df.loc[\n",
    "#     [\n",
    "#         index\n",
    "#         for index in df.index\n",
    "#         if df.loc[index, \"info_2_1\"] == \"judge\"\n",
    "#         and df.loc[index, \"politics_govt_law\"] == 0\n",
    "#     ],\n",
    "#     :,\n",
    "# ]"
   ]
  },
  {
   "cell_type": "code",
   "execution_count": 129,
   "id": "995fa582",
   "metadata": {},
   "outputs": [
    {
     "data": {
      "application/javascript": [
       "\n",
       "            setTimeout(function() {\n",
       "                var nbb_cell_id = 129;\n",
       "                var nbb_unformatted_code = \"# # Example code to quick-check a specific entry\\n# df[df[\\\"info_2_1\\\"] == \\\"the mother of the th\\\"]\";\n",
       "                var nbb_formatted_code = \"# # Example code to quick-check a specific entry\\n# df[df[\\\"info_2_1\\\"] == \\\"the mother of the th\\\"]\";\n",
       "                var nbb_cells = Jupyter.notebook.get_cells();\n",
       "                for (var i = 0; i < nbb_cells.length; ++i) {\n",
       "                    if (nbb_cells[i].input_prompt_number == nbb_cell_id) {\n",
       "                        if (nbb_cells[i].get_text() == nbb_unformatted_code) {\n",
       "                             nbb_cells[i].set_text(nbb_formatted_code);\n",
       "                        }\n",
       "                        break;\n",
       "                    }\n",
       "                }\n",
       "            }, 500);\n",
       "            "
      ],
      "text/plain": [
       "<IPython.core.display.Javascript object>"
      ]
     },
     "metadata": {},
     "output_type": "display_data"
    }
   ],
   "source": [
    "# # Example code to quick-check a specific entry\n",
    "# df[df[\"info_2_1\"] == \"the mother of the th\"]"
   ]
  },
  {
   "cell_type": "markdown",
   "id": "0e9f164f",
   "metadata": {},
   "source": [
    "#### Creating Lists for Each `known_for` Category"
   ]
  },
  {
   "cell_type": "code",
   "execution_count": 130,
   "id": "2182d991",
   "metadata": {},
   "outputs": [
    {
     "data": {
      "application/javascript": [
       "\n",
       "            setTimeout(function() {\n",
       "                var nbb_cell_id = 130;\n",
       "                var nbb_unformatted_code = \"# Creating lists for each category and sorting by decreasing length and removing duplicates\\n\\npolitics_govt_law = [\\n    \\\"adviser\\\",\\n    \\\"planner\\\",\\n    \\\"secretary to Joseph Goebbels\\\",\\n    \\\"secretary to John F Kennedy\\\",\\n    \\\"former foreign secretary\\\",\\n    \\\"press secretary\\\",\\n    \\\"chairman of the House Judiciary Committee during the impeachment process against Richard Nixon\\\",\\n    \\\"first chairman of the Committee on Standards in Public Life\\\",\\n    \\\"ISRO chairman\\\",\\n    \\\"one of the founders of the Revolutionary Socialist League\\\",\\n    \\\"Cold War arms negotiator\\\",\\n    \\\"negotiator\\\",\\n    \\\"confidant to Vladimir Putin\\\",\\n    \\\"Member of the House of Lords\\\",\\n    \\\"Lord of Appeal in Ordinary\\\",\\n    \\\"Lord Lieutenant of Moray\\\",\\n    \\\"former Lord of Appeal\\\",\\n    \\\"Law Lord\\\",\\n    \\\"West Fife\\\",\\n    \\\"chairperson of the Electoral Commission\\\",\\n    \\\"Secretary General of the Popular Front for the Liberation of\\\",\\n    \\\"Treasury Secretary during the Reagan administration\\\",\\n    \\\"Secretary of Labor under Gerald Ford\\\",\\n    \\\"st Secretary General of UNCTAD\\\",\\n    \\\"Secretary of Veterans Affairs\\\",\\n    \\\"Secretary of State of Science\\\",\\n    \\\"Secretary of State\\\",\\n    \\\"Her Majesty Representative at Ascot\\\",\\n    \\\"and Oxford City Councillor\\\",\\n    \\\"food processors\\\",\\n    \\\"Gerald R Ford\\\",\\n    \\\"employee of Agency for International Development\\\",\\n    \\\"Master of the Household to the Sovereign\\\",\\n]\\npolitics_govt_law = sorted(\\n    list(set(politics_govt_law)), key=lambda x: len(x), reverse=True\\n)\\n\\narts = [\\n    \\\"draftsman\\\",\\n    \\\"founder of\\\",\\n    \\\"opera librettist\\\",\\n    \\\"opera\\\",\\n    \\\"movie studio chairman\\\",\\n    \\\"the only child of Agatha Christie\\\",\\n    \\\"father of Bonnie Raitt\\\",\\n    \\\"Zoetrope\\\",\\n    \\\"Hardy\\\",\\n    \\\"supporter of the Tiger rebels\\\",\\n    \\\"great grandson of Alfred\\\",\\n    \\\"bagpiper\\\",\\n    \\\"winner of the Eurovision Song Contest\\\",\\n    \\\"Bharat Ratna winner\\\",\\n    \\\"reality show winner\\\",\\n    \\\"pageant winner\\\",\\n    \\\"multi winner\\\",\\n    \\\"comic book\\\",\\n    \\\"comics\\\",\\n    \\\"comic\\\",\\n    \\\"off Broadway\\\",\\n    \\\"on Broadway\\\",\\n    \\\"widow of Yehudi Menuhin\\\",\\n    \\\"folk songs\\\",\\n]\\narts = sorted(list(set(arts)), key=lambda x: len(x), reverse=True)\\n\\nsports = [\\n    \\\"rodeo star\\\",\\n    \\\"League batting champion\\\",\\n    \\\"Ottawa Rough Riders\\\",\\n    \\\"Tampa Bay Buccaneers\\\",\\n    \\\"Vezina Trophy winner\\\",\\n    \\\"World Cup winner\\\",\\n    \\\"Masters winner\\\",\\n    \\\"marine treasure hunter\\\",\\n    \\\"deer hunter\\\",\\n    \\\"hunter\\\",\\n]\\nsports = sorted(list(set(sports)), key=lambda x: len(x), reverse=True)\\n\\nsciences = [\\n    \\\"pain management\\\",\\n    \\\"father of nuclear program\\\",\\n    \\\"IT expert\\\",\\n    \\\"the father of plasma based acceleration techniques\\\",\\n    \\\"giraffe expert\\\",\\n    \\\"other aircraft\\\",\\n    \\\"innovator\\\",\\n]\\nsciences = sorted(list(set(sciences)), key=lambda x: len(x), reverse=True)\\n\\nbusiness_farming = [\\n    \\\"heiress to Mellon family fortune\\\",\\n    \\\"Aspen\\\",\\n    \\\"chairman of United Technologies Corporation\\\",\\n    \\\"chairman of the illy coffee company\\\",\\n    \\\"former chairman of Rolls Royce\\\",\\n    \\\"former chairman of Amway\\\",\\n    \\\"hospital chairman\\\",\\n    \\\"Gold Gym founder\\\",\\n    \\\"wife of Charles Bronfman\\\",\\n    \\\"frisbee\\\",\\n]\\nbusiness_farming = sorted(\\n    list(set(business_farming)), key=lambda x: len(x), reverse=True\\n)\\n\\nacademia_humanities = [\\\"classicist\\\", \\\"Prize winner\\\", \\\"restorer\\\"]\\nacademia_humanities = sorted(\\n    list(set(academia_humanities)), key=lambda x: len(x), reverse=True\\n)\\n\\nlaw_enf_military_operator = [\\n    \\\"former chief of staff\\\",\\n    \\\"Cleveland\\\",\\n    \\\"key Taliban ally\\\",\\n]\\nlaw_enf_military_operator = sorted(\\n    list(set(law_enf_military_operator)), key=lambda x: len(x), reverse=True\\n)\\n\\nspiritual = [\\n    \\\"guru\\\",\\n    \\\"secretary to Menachem Schneerson\\\",\\n    \\\"witch\\\",\\n    \\\"kabbalist\\\",\\n    \\\"Catholic Bishop\\\",\\n    \\\"Bishop of Medak\\\",\\n    \\\"a founding father of the New Age movement\\\",\\n    \\\"self proclaimed psychic\\\",\\n    \\\"psychic\\\",\\n]\\nspiritual = sorted(list(set(spiritual)), key=lambda x: len(x), reverse=True)\\n\\nsocial = []\\nsocial = sorted(list(set(social)), key=lambda x: len(x), reverse=True)\\n\\ncrime = [\\\"gangster\\\"]\\ncrime = sorted(list(set(crime)), key=lambda x: len(x), reverse=True)\\n\\nevent_record_other = []\\nevent_record_other = sorted(\\n    list(set(event_record_other)), key=lambda x: len(x), reverse=True\\n)\\n\\nother_species = []\\nother_species = sorted(list(set(other_species)), key=lambda x: len(x), reverse=True)\";\n",
       "                var nbb_formatted_code = \"# Creating lists for each category and sorting by decreasing length and removing duplicates\\n\\npolitics_govt_law = [\\n    \\\"adviser\\\",\\n    \\\"planner\\\",\\n    \\\"secretary to Joseph Goebbels\\\",\\n    \\\"secretary to John F Kennedy\\\",\\n    \\\"former foreign secretary\\\",\\n    \\\"press secretary\\\",\\n    \\\"chairman of the House Judiciary Committee during the impeachment process against Richard Nixon\\\",\\n    \\\"first chairman of the Committee on Standards in Public Life\\\",\\n    \\\"ISRO chairman\\\",\\n    \\\"one of the founders of the Revolutionary Socialist League\\\",\\n    \\\"Cold War arms negotiator\\\",\\n    \\\"negotiator\\\",\\n    \\\"confidant to Vladimir Putin\\\",\\n    \\\"Member of the House of Lords\\\",\\n    \\\"Lord of Appeal in Ordinary\\\",\\n    \\\"Lord Lieutenant of Moray\\\",\\n    \\\"former Lord of Appeal\\\",\\n    \\\"Law Lord\\\",\\n    \\\"West Fife\\\",\\n    \\\"chairperson of the Electoral Commission\\\",\\n    \\\"Secretary General of the Popular Front for the Liberation of\\\",\\n    \\\"Treasury Secretary during the Reagan administration\\\",\\n    \\\"Secretary of Labor under Gerald Ford\\\",\\n    \\\"st Secretary General of UNCTAD\\\",\\n    \\\"Secretary of Veterans Affairs\\\",\\n    \\\"Secretary of State of Science\\\",\\n    \\\"Secretary of State\\\",\\n    \\\"Her Majesty Representative at Ascot\\\",\\n    \\\"and Oxford City Councillor\\\",\\n    \\\"food processors\\\",\\n    \\\"Gerald R Ford\\\",\\n    \\\"employee of Agency for International Development\\\",\\n    \\\"Master of the Household to the Sovereign\\\",\\n]\\npolitics_govt_law = sorted(\\n    list(set(politics_govt_law)), key=lambda x: len(x), reverse=True\\n)\\n\\narts = [\\n    \\\"draftsman\\\",\\n    \\\"founder of\\\",\\n    \\\"opera librettist\\\",\\n    \\\"opera\\\",\\n    \\\"movie studio chairman\\\",\\n    \\\"the only child of Agatha Christie\\\",\\n    \\\"father of Bonnie Raitt\\\",\\n    \\\"Zoetrope\\\",\\n    \\\"Hardy\\\",\\n    \\\"supporter of the Tiger rebels\\\",\\n    \\\"great grandson of Alfred\\\",\\n    \\\"bagpiper\\\",\\n    \\\"winner of the Eurovision Song Contest\\\",\\n    \\\"Bharat Ratna winner\\\",\\n    \\\"reality show winner\\\",\\n    \\\"pageant winner\\\",\\n    \\\"multi winner\\\",\\n    \\\"comic book\\\",\\n    \\\"comics\\\",\\n    \\\"comic\\\",\\n    \\\"off Broadway\\\",\\n    \\\"on Broadway\\\",\\n    \\\"widow of Yehudi Menuhin\\\",\\n    \\\"folk songs\\\",\\n]\\narts = sorted(list(set(arts)), key=lambda x: len(x), reverse=True)\\n\\nsports = [\\n    \\\"rodeo star\\\",\\n    \\\"League batting champion\\\",\\n    \\\"Ottawa Rough Riders\\\",\\n    \\\"Tampa Bay Buccaneers\\\",\\n    \\\"Vezina Trophy winner\\\",\\n    \\\"World Cup winner\\\",\\n    \\\"Masters winner\\\",\\n    \\\"marine treasure hunter\\\",\\n    \\\"deer hunter\\\",\\n    \\\"hunter\\\",\\n]\\nsports = sorted(list(set(sports)), key=lambda x: len(x), reverse=True)\\n\\nsciences = [\\n    \\\"pain management\\\",\\n    \\\"father of nuclear program\\\",\\n    \\\"IT expert\\\",\\n    \\\"the father of plasma based acceleration techniques\\\",\\n    \\\"giraffe expert\\\",\\n    \\\"other aircraft\\\",\\n    \\\"innovator\\\",\\n]\\nsciences = sorted(list(set(sciences)), key=lambda x: len(x), reverse=True)\\n\\nbusiness_farming = [\\n    \\\"heiress to Mellon family fortune\\\",\\n    \\\"Aspen\\\",\\n    \\\"chairman of United Technologies Corporation\\\",\\n    \\\"chairman of the illy coffee company\\\",\\n    \\\"former chairman of Rolls Royce\\\",\\n    \\\"former chairman of Amway\\\",\\n    \\\"hospital chairman\\\",\\n    \\\"Gold Gym founder\\\",\\n    \\\"wife of Charles Bronfman\\\",\\n    \\\"frisbee\\\",\\n]\\nbusiness_farming = sorted(\\n    list(set(business_farming)), key=lambda x: len(x), reverse=True\\n)\\n\\nacademia_humanities = [\\\"classicist\\\", \\\"Prize winner\\\", \\\"restorer\\\"]\\nacademia_humanities = sorted(\\n    list(set(academia_humanities)), key=lambda x: len(x), reverse=True\\n)\\n\\nlaw_enf_military_operator = [\\n    \\\"former chief of staff\\\",\\n    \\\"Cleveland\\\",\\n    \\\"key Taliban ally\\\",\\n]\\nlaw_enf_military_operator = sorted(\\n    list(set(law_enf_military_operator)), key=lambda x: len(x), reverse=True\\n)\\n\\nspiritual = [\\n    \\\"guru\\\",\\n    \\\"secretary to Menachem Schneerson\\\",\\n    \\\"witch\\\",\\n    \\\"kabbalist\\\",\\n    \\\"Catholic Bishop\\\",\\n    \\\"Bishop of Medak\\\",\\n    \\\"a founding father of the New Age movement\\\",\\n    \\\"self proclaimed psychic\\\",\\n    \\\"psychic\\\",\\n]\\nspiritual = sorted(list(set(spiritual)), key=lambda x: len(x), reverse=True)\\n\\nsocial = []\\nsocial = sorted(list(set(social)), key=lambda x: len(x), reverse=True)\\n\\ncrime = [\\\"gangster\\\"]\\ncrime = sorted(list(set(crime)), key=lambda x: len(x), reverse=True)\\n\\nevent_record_other = []\\nevent_record_other = sorted(\\n    list(set(event_record_other)), key=lambda x: len(x), reverse=True\\n)\\n\\nother_species = []\\nother_species = sorted(list(set(other_species)), key=lambda x: len(x), reverse=True)\";\n",
       "                var nbb_cells = Jupyter.notebook.get_cells();\n",
       "                for (var i = 0; i < nbb_cells.length; ++i) {\n",
       "                    if (nbb_cells[i].input_prompt_number == nbb_cell_id) {\n",
       "                        if (nbb_cells[i].get_text() == nbb_unformatted_code) {\n",
       "                             nbb_cells[i].set_text(nbb_formatted_code);\n",
       "                        }\n",
       "                        break;\n",
       "                    }\n",
       "                }\n",
       "            }, 500);\n",
       "            "
      ],
      "text/plain": [
       "<IPython.core.display.Javascript object>"
      ]
     },
     "metadata": {},
     "output_type": "display_data"
    }
   ],
   "source": [
    "# Creating lists for each category and sorting by decreasing length and removing duplicates\n",
    "\n",
    "politics_govt_law = [\n",
    "    \"adviser\",\n",
    "    \"planner\",\n",
    "    \"secretary to Joseph Goebbels\",\n",
    "    \"secretary to John F Kennedy\",\n",
    "    \"former foreign secretary\",\n",
    "    \"press secretary\",\n",
    "    \"chairman of the House Judiciary Committee during the impeachment process against Richard Nixon\",\n",
    "    \"first chairman of the Committee on Standards in Public Life\",\n",
    "    \"ISRO chairman\",\n",
    "    \"one of the founders of the Revolutionary Socialist League\",\n",
    "    \"Cold War arms negotiator\",\n",
    "    \"negotiator\",\n",
    "    \"confidant to Vladimir Putin\",\n",
    "    \"Member of the House of Lords\",\n",
    "    \"Lord of Appeal in Ordinary\",\n",
    "    \"Lord Lieutenant of Moray\",\n",
    "    \"former Lord of Appeal\",\n",
    "    \"Law Lord\",\n",
    "    \"West Fife\",\n",
    "    \"chairperson of the Electoral Commission\",\n",
    "    \"Secretary General of the Popular Front for the Liberation of\",\n",
    "    \"Treasury Secretary during the Reagan administration\",\n",
    "    \"Secretary of Labor under Gerald Ford\",\n",
    "    \"st Secretary General of UNCTAD\",\n",
    "    \"Secretary of Veterans Affairs\",\n",
    "    \"Secretary of State of Science\",\n",
    "    \"Secretary of State\",\n",
    "    \"Her Majesty Representative at Ascot\",\n",
    "    \"and Oxford City Councillor\",\n",
    "    \"food processors\",\n",
    "    \"Gerald R Ford\",\n",
    "    \"employee of Agency for International Development\",\n",
    "    \"Master of the Household to the Sovereign\",\n",
    "]\n",
    "politics_govt_law = sorted(\n",
    "    list(set(politics_govt_law)), key=lambda x: len(x), reverse=True\n",
    ")\n",
    "\n",
    "arts = [\n",
    "    \"draftsman\",\n",
    "    \"founder of\",\n",
    "    \"opera librettist\",\n",
    "    \"opera\",\n",
    "    \"movie studio chairman\",\n",
    "    \"the only child of Agatha Christie\",\n",
    "    \"father of Bonnie Raitt\",\n",
    "    \"Zoetrope\",\n",
    "    \"Hardy\",\n",
    "    \"supporter of the Tiger rebels\",\n",
    "    \"great grandson of Alfred\",\n",
    "    \"bagpiper\",\n",
    "    \"winner of the Eurovision Song Contest\",\n",
    "    \"Bharat Ratna winner\",\n",
    "    \"reality show winner\",\n",
    "    \"pageant winner\",\n",
    "    \"multi winner\",\n",
    "    \"comic book\",\n",
    "    \"comics\",\n",
    "    \"comic\",\n",
    "    \"off Broadway\",\n",
    "    \"on Broadway\",\n",
    "    \"widow of Yehudi Menuhin\",\n",
    "    \"folk songs\",\n",
    "]\n",
    "arts = sorted(list(set(arts)), key=lambda x: len(x), reverse=True)\n",
    "\n",
    "sports = [\n",
    "    \"rodeo star\",\n",
    "    \"League batting champion\",\n",
    "    \"Ottawa Rough Riders\",\n",
    "    \"Tampa Bay Buccaneers\",\n",
    "    \"Vezina Trophy winner\",\n",
    "    \"World Cup winner\",\n",
    "    \"Masters winner\",\n",
    "    \"marine treasure hunter\",\n",
    "    \"deer hunter\",\n",
    "    \"hunter\",\n",
    "]\n",
    "sports = sorted(list(set(sports)), key=lambda x: len(x), reverse=True)\n",
    "\n",
    "sciences = [\n",
    "    \"pain management\",\n",
    "    \"father of nuclear program\",\n",
    "    \"IT expert\",\n",
    "    \"the father of plasma based acceleration techniques\",\n",
    "    \"giraffe expert\",\n",
    "    \"other aircraft\",\n",
    "    \"innovator\",\n",
    "]\n",
    "sciences = sorted(list(set(sciences)), key=lambda x: len(x), reverse=True)\n",
    "\n",
    "business_farming = [\n",
    "    \"heiress to Mellon family fortune\",\n",
    "    \"Aspen\",\n",
    "    \"chairman of United Technologies Corporation\",\n",
    "    \"chairman of the illy coffee company\",\n",
    "    \"former chairman of Rolls Royce\",\n",
    "    \"former chairman of Amway\",\n",
    "    \"hospital chairman\",\n",
    "    \"Gold Gym founder\",\n",
    "    \"wife of Charles Bronfman\",\n",
    "    \"frisbee\",\n",
    "]\n",
    "business_farming = sorted(\n",
    "    list(set(business_farming)), key=lambda x: len(x), reverse=True\n",
    ")\n",
    "\n",
    "academia_humanities = [\"classicist\", \"Prize winner\", \"restorer\"]\n",
    "academia_humanities = sorted(\n",
    "    list(set(academia_humanities)), key=lambda x: len(x), reverse=True\n",
    ")\n",
    "\n",
    "law_enf_military_operator = [\n",
    "    \"former chief of staff\",\n",
    "    \"Cleveland\",\n",
    "    \"key Taliban ally\",\n",
    "]\n",
    "law_enf_military_operator = sorted(\n",
    "    list(set(law_enf_military_operator)), key=lambda x: len(x), reverse=True\n",
    ")\n",
    "\n",
    "spiritual = [\n",
    "    \"guru\",\n",
    "    \"secretary to Menachem Schneerson\",\n",
    "    \"witch\",\n",
    "    \"kabbalist\",\n",
    "    \"Catholic Bishop\",\n",
    "    \"Bishop of Medak\",\n",
    "    \"a founding father of the New Age movement\",\n",
    "    \"self proclaimed psychic\",\n",
    "    \"psychic\",\n",
    "]\n",
    "spiritual = sorted(list(set(spiritual)), key=lambda x: len(x), reverse=True)\n",
    "\n",
    "social = []\n",
    "social = sorted(list(set(social)), key=lambda x: len(x), reverse=True)\n",
    "\n",
    "crime = [\"gangster\"]\n",
    "crime = sorted(list(set(crime)), key=lambda x: len(x), reverse=True)\n",
    "\n",
    "event_record_other = []\n",
    "event_record_other = sorted(\n",
    "    list(set(event_record_other)), key=lambda x: len(x), reverse=True\n",
    ")\n",
    "\n",
    "other_species = []\n",
    "other_species = sorted(list(set(other_species)), key=lambda x: len(x), reverse=True)"
   ]
  },
  {
   "cell_type": "code",
   "execution_count": 131,
   "id": "2c364c49",
   "metadata": {},
   "outputs": [
    {
     "data": {
      "application/javascript": [
       "\n",
       "            setTimeout(function() {\n",
       "                var nbb_cell_id = 131;\n",
       "                var nbb_unformatted_code = \"# Dropping info_2_1 value for entries with redundant category\\ndf.loc[\\n    [index for index in df.index if df.loc[index, \\\"info_2_1\\\"] == \\\"co founder of\\\"],\\n    \\\"info_2_1\\\",\\n] = \\\"\\\"\";\n",
       "                var nbb_formatted_code = \"# Dropping info_2_1 value for entries with redundant category\\ndf.loc[\\n    [index for index in df.index if df.loc[index, \\\"info_2_1\\\"] == \\\"co founder of\\\"],\\n    \\\"info_2_1\\\",\\n] = \\\"\\\"\";\n",
       "                var nbb_cells = Jupyter.notebook.get_cells();\n",
       "                for (var i = 0; i < nbb_cells.length; ++i) {\n",
       "                    if (nbb_cells[i].input_prompt_number == nbb_cell_id) {\n",
       "                        if (nbb_cells[i].get_text() == nbb_unformatted_code) {\n",
       "                             nbb_cells[i].set_text(nbb_formatted_code);\n",
       "                        }\n",
       "                        break;\n",
       "                    }\n",
       "                }\n",
       "            }, 500);\n",
       "            "
      ],
      "text/plain": [
       "<IPython.core.display.Javascript object>"
      ]
     },
     "metadata": {},
     "output_type": "display_data"
    }
   ],
   "source": [
    "# Dropping info_2_1 value for entries with redundant category\n",
    "df.loc[\n",
    "    [index for index in df.index if df.loc[index, \"info_2_1\"] == \"co founder of\"],\n",
    "    \"info_2_1\",\n",
    "] = \"\""
   ]
  },
  {
   "cell_type": "markdown",
   "id": "3b568471",
   "metadata": {},
   "source": [
    "#### Creating `known_for_dict` Dictionary of Category Keys and Specific Role Lists of Values"
   ]
  },
  {
   "cell_type": "code",
   "execution_count": 132,
   "id": "de0e4311",
   "metadata": {},
   "outputs": [
    {
     "data": {
      "application/javascript": [
       "\n",
       "            setTimeout(function() {\n",
       "                var nbb_cell_id = 132;\n",
       "                var nbb_unformatted_code = \"# Combining separate lists into one dictionary\\nknown_for_dict = {\\n    \\\"social\\\": social,\\n    \\\"spiritual\\\": spiritual,\\n    \\\"academia_humanities\\\": academia_humanities,\\n    \\\"business_farming\\\": business_farming,\\n    \\\"sciences\\\": sciences,\\n    \\\"politics_govt_law\\\": politics_govt_law,\\n    \\\"law_enf_military_operator\\\": law_enf_military_operator,\\n    \\\"crime\\\": crime,\\n    \\\"event_record_other\\\": event_record_other,\\n    \\\"other_species\\\": other_species,\\n    \\\"arts\\\": arts,\\n    \\\"sports\\\": sports,\\n}\";\n",
       "                var nbb_formatted_code = \"# Combining separate lists into one dictionary\\nknown_for_dict = {\\n    \\\"social\\\": social,\\n    \\\"spiritual\\\": spiritual,\\n    \\\"academia_humanities\\\": academia_humanities,\\n    \\\"business_farming\\\": business_farming,\\n    \\\"sciences\\\": sciences,\\n    \\\"politics_govt_law\\\": politics_govt_law,\\n    \\\"law_enf_military_operator\\\": law_enf_military_operator,\\n    \\\"crime\\\": crime,\\n    \\\"event_record_other\\\": event_record_other,\\n    \\\"other_species\\\": other_species,\\n    \\\"arts\\\": arts,\\n    \\\"sports\\\": sports,\\n}\";\n",
       "                var nbb_cells = Jupyter.notebook.get_cells();\n",
       "                for (var i = 0; i < nbb_cells.length; ++i) {\n",
       "                    if (nbb_cells[i].input_prompt_number == nbb_cell_id) {\n",
       "                        if (nbb_cells[i].get_text() == nbb_unformatted_code) {\n",
       "                             nbb_cells[i].set_text(nbb_formatted_code);\n",
       "                        }\n",
       "                        break;\n",
       "                    }\n",
       "                }\n",
       "            }, 500);\n",
       "            "
      ],
      "text/plain": [
       "<IPython.core.display.Javascript object>"
      ]
     },
     "metadata": {},
     "output_type": "display_data"
    }
   ],
   "source": [
    "# Combining separate lists into one dictionary\n",
    "known_for_dict = {\n",
    "    \"social\": social,\n",
    "    \"spiritual\": spiritual,\n",
    "    \"academia_humanities\": academia_humanities,\n",
    "    \"business_farming\": business_farming,\n",
    "    \"sciences\": sciences,\n",
    "    \"politics_govt_law\": politics_govt_law,\n",
    "    \"law_enf_military_operator\": law_enf_military_operator,\n",
    "    \"crime\": crime,\n",
    "    \"event_record_other\": event_record_other,\n",
    "    \"other_species\": other_species,\n",
    "    \"arts\": arts,\n",
    "    \"sports\": sports,\n",
    "}"
   ]
  },
  {
   "cell_type": "markdown",
   "id": "4795590a",
   "metadata": {},
   "source": [
    "#### Extracting Category from `info_2_1`"
   ]
  },
  {
   "cell_type": "code",
   "execution_count": 133,
   "id": "0cea968b",
   "metadata": {},
   "outputs": [
    {
     "name": "stdout",
     "output_type": "stream",
     "text": [
      "CPU times: total: 11.8 s\n",
      "Wall time: 11.8 s\n"
     ]
    },
    {
     "data": {
      "application/javascript": [
       "\n",
       "            setTimeout(function() {\n",
       "                var nbb_cell_id = 133;\n",
       "                var nbb_unformatted_code = \"%%time\\n\\n# Column to check\\ncolumn = 'info_2_1'\\n\\n# Start dataframe\\ndataframe = df[df[column].notna()]\\n\\n# For loop to find role in column and extract it as category\\nfor category, category_lst in known_for_dict.items():\\n    for role in category_lst:\\n        for index in dataframe.index:\\n                item = df.loc[index, column]\\n                if item:\\n                    if role in item:\\n                        df.loc[index, category] = 1\\n                        df.loc[index, column] = item.replace(role, '').strip()\\n\\n# Calculating num_categories\\ndf[\\\"num_categories\\\"] = df[known_for_dict.keys()].sum(axis=1)\";\n",
       "                var nbb_formatted_code = \"%%time\\n\\n# Column to check\\ncolumn = 'info_2_1'\\n\\n# Start dataframe\\ndataframe = df[df[column].notna()]\\n\\n# For loop to find role in column and extract it as category\\nfor category, category_lst in known_for_dict.items():\\n    for role in category_lst:\\n        for index in dataframe.index:\\n                item = df.loc[index, column]\\n                if item:\\n                    if role in item:\\n                        df.loc[index, category] = 1\\n                        df.loc[index, column] = item.replace(role, '').strip()\\n\\n# Calculating num_categories\\ndf[\\\"num_categories\\\"] = df[known_for_dict.keys()].sum(axis=1)\";\n",
       "                var nbb_cells = Jupyter.notebook.get_cells();\n",
       "                for (var i = 0; i < nbb_cells.length; ++i) {\n",
       "                    if (nbb_cells[i].input_prompt_number == nbb_cell_id) {\n",
       "                        if (nbb_cells[i].get_text() == nbb_unformatted_code) {\n",
       "                             nbb_cells[i].set_text(nbb_formatted_code);\n",
       "                        }\n",
       "                        break;\n",
       "                    }\n",
       "                }\n",
       "            }, 500);\n",
       "            "
      ],
      "text/plain": [
       "<IPython.core.display.Javascript object>"
      ]
     },
     "metadata": {},
     "output_type": "display_data"
    }
   ],
   "source": [
    "%%time\n",
    "\n",
    "# Column to check\n",
    "column = 'info_2_1'\n",
    "\n",
    "# Start dataframe\n",
    "dataframe = df[df[column].notna()]\n",
    "\n",
    "# For loop to find role in column and extract it as category\n",
    "for category, category_lst in known_for_dict.items():\n",
    "    for role in category_lst:\n",
    "        for index in dataframe.index:\n",
    "                item = df.loc[index, column]\n",
    "                if item:\n",
    "                    if role in item:\n",
    "                        df.loc[index, category] = 1\n",
    "                        df.loc[index, column] = item.replace(role, '').strip()\n",
    "\n",
    "# Calculating num_categories\n",
    "df[\"num_categories\"] = df[known_for_dict.keys()].sum(axis=1)"
   ]
  },
  {
   "cell_type": "markdown",
   "id": "17ea13b3",
   "metadata": {},
   "source": [
    "#### Checking Updated `num_categories` Value Counts"
   ]
  },
  {
   "cell_type": "code",
   "execution_count": 134,
   "id": "5aef03cf",
   "metadata": {},
   "outputs": [
    {
     "data": {
      "text/plain": [
       "1    88350\n",
       "2     9457\n",
       "3      170\n",
       "0       65\n",
       "Name: num_categories, dtype: int64"
      ]
     },
     "execution_count": 134,
     "metadata": {},
     "output_type": "execute_result"
    },
    {
     "data": {
      "application/javascript": [
       "\n",
       "            setTimeout(function() {\n",
       "                var nbb_cell_id = 134;\n",
       "                var nbb_unformatted_code = \"# Checking updated num_categories value counts\\ndf[\\\"num_categories\\\"].value_counts()\";\n",
       "                var nbb_formatted_code = \"# Checking updated num_categories value counts\\ndf[\\\"num_categories\\\"].value_counts()\";\n",
       "                var nbb_cells = Jupyter.notebook.get_cells();\n",
       "                for (var i = 0; i < nbb_cells.length; ++i) {\n",
       "                    if (nbb_cells[i].input_prompt_number == nbb_cell_id) {\n",
       "                        if (nbb_cells[i].get_text() == nbb_unformatted_code) {\n",
       "                             nbb_cells[i].set_text(nbb_formatted_code);\n",
       "                        }\n",
       "                        break;\n",
       "                    }\n",
       "                }\n",
       "            }, 500);\n",
       "            "
      ],
      "text/plain": [
       "<IPython.core.display.Javascript object>"
      ]
     },
     "metadata": {},
     "output_type": "display_data"
    }
   ],
   "source": [
    "# Checking updated num_categories value counts\n",
    "df[\"num_categories\"].value_counts()"
   ]
  },
  {
   "cell_type": "markdown",
   "id": "ccec9374",
   "metadata": {},
   "source": [
    "#### Observations:\n",
    "- We will proceed to rebuild `known_for_dict` for the next iteration."
   ]
  },
  {
   "cell_type": "markdown",
   "id": "22b74881",
   "metadata": {},
   "source": [
    "#### Finding `known_for` Roles in `info_2_1`"
   ]
  },
  {
   "cell_type": "code",
   "execution_count": 135,
   "id": "b900fa52",
   "metadata": {},
   "outputs": [
    {
     "data": {
      "application/javascript": [
       "\n",
       "            setTimeout(function() {\n",
       "                var nbb_cell_id = 135;\n",
       "                var nbb_unformatted_code = \"# # Obtaining values for column and their counts\\n# roles_list = df[\\\"info_2_1\\\"].value_counts(ascending=True).index.tolist()\";\n",
       "                var nbb_formatted_code = \"# # Obtaining values for column and their counts\\n# roles_list = df[\\\"info_2_1\\\"].value_counts(ascending=True).index.tolist()\";\n",
       "                var nbb_cells = Jupyter.notebook.get_cells();\n",
       "                for (var i = 0; i < nbb_cells.length; ++i) {\n",
       "                    if (nbb_cells[i].input_prompt_number == nbb_cell_id) {\n",
       "                        if (nbb_cells[i].get_text() == nbb_unformatted_code) {\n",
       "                             nbb_cells[i].set_text(nbb_formatted_code);\n",
       "                        }\n",
       "                        break;\n",
       "                    }\n",
       "                }\n",
       "            }, 500);\n",
       "            "
      ],
      "text/plain": [
       "<IPython.core.display.Javascript object>"
      ]
     },
     "metadata": {},
     "output_type": "display_data"
    }
   ],
   "source": [
    "# # Obtaining values for column and their counts\n",
    "# roles_list = df[\"info_2_1\"].value_counts(ascending=True).index.tolist()"
   ]
  },
  {
   "cell_type": "code",
   "execution_count": 136,
   "id": "376bc38f",
   "metadata": {},
   "outputs": [
    {
     "data": {
      "application/javascript": [
       "\n",
       "            setTimeout(function() {\n",
       "                var nbb_cell_id = 136;\n",
       "                var nbb_unformatted_code = \"# # Code to check each value\\n# roles_list.pop()\";\n",
       "                var nbb_formatted_code = \"# # Code to check each value\\n# roles_list.pop()\";\n",
       "                var nbb_cells = Jupyter.notebook.get_cells();\n",
       "                for (var i = 0; i < nbb_cells.length; ++i) {\n",
       "                    if (nbb_cells[i].input_prompt_number == nbb_cell_id) {\n",
       "                        if (nbb_cells[i].get_text() == nbb_unformatted_code) {\n",
       "                             nbb_cells[i].set_text(nbb_formatted_code);\n",
       "                        }\n",
       "                        break;\n",
       "                    }\n",
       "                }\n",
       "            }, 500);\n",
       "            "
      ],
      "text/plain": [
       "<IPython.core.display.Javascript object>"
      ]
     },
     "metadata": {},
     "output_type": "display_data"
    }
   ],
   "source": [
    "# # Code to check each value\n",
    "# roles_list.pop()"
   ]
  },
  {
   "cell_type": "code",
   "execution_count": 137,
   "id": "227adb36",
   "metadata": {},
   "outputs": [
    {
     "data": {
      "application/javascript": [
       "\n",
       "            setTimeout(function() {\n",
       "                var nbb_cell_id = 137;\n",
       "                var nbb_unformatted_code = \"# # Create specific_roles_list for above popped value\\n# specific_roles_list = (\\n#     df.loc[\\n#         [\\n#             index\\n#             for index in df[df[\\\"info_2_1\\\"].notna()].index\\n#             if \\\"hall of r\\\" in df.loc[index, \\\"info_2_1\\\"]\\n#         ],\\n#         \\\"info_2_1\\\",\\n#     ]\\n#     .value_counts()\\n#     .index.tolist()\\n# )\";\n",
       "                var nbb_formatted_code = \"# # Create specific_roles_list for above popped value\\n# specific_roles_list = (\\n#     df.loc[\\n#         [\\n#             index\\n#             for index in df[df[\\\"info_2_1\\\"].notna()].index\\n#             if \\\"hall of r\\\" in df.loc[index, \\\"info_2_1\\\"]\\n#         ],\\n#         \\\"info_2_1\\\",\\n#     ]\\n#     .value_counts()\\n#     .index.tolist()\\n# )\";\n",
       "                var nbb_cells = Jupyter.notebook.get_cells();\n",
       "                for (var i = 0; i < nbb_cells.length; ++i) {\n",
       "                    if (nbb_cells[i].input_prompt_number == nbb_cell_id) {\n",
       "                        if (nbb_cells[i].get_text() == nbb_unformatted_code) {\n",
       "                             nbb_cells[i].set_text(nbb_formatted_code);\n",
       "                        }\n",
       "                        break;\n",
       "                    }\n",
       "                }\n",
       "            }, 500);\n",
       "            "
      ],
      "text/plain": [
       "<IPython.core.display.Javascript object>"
      ]
     },
     "metadata": {},
     "output_type": "display_data"
    }
   ],
   "source": [
    "# # Create specific_roles_list for above popped value\n",
    "# specific_roles_list = (\n",
    "#     df.loc[\n",
    "#         [\n",
    "#             index\n",
    "#             for index in df[df[\"info_2_1\"].notna()].index\n",
    "#             if \"hall of r\" in df.loc[index, \"info_2_1\"]\n",
    "#         ],\n",
    "#         \"info_2_1\",\n",
    "#     ]\n",
    "#     .value_counts()\n",
    "#     .index.tolist()\n",
    "# )"
   ]
  },
  {
   "cell_type": "code",
   "execution_count": 138,
   "id": "2c5aa85d",
   "metadata": {},
   "outputs": [
    {
     "data": {
      "application/javascript": [
       "\n",
       "            setTimeout(function() {\n",
       "                var nbb_cell_id = 138;\n",
       "                var nbb_unformatted_code = \"# # Viewing list sorted by descending length to copy to dictionary below and screen values\\n# sorted(specific_roles_list, key=lambda x: len(x), reverse=True)\";\n",
       "                var nbb_formatted_code = \"# # Viewing list sorted by descending length to copy to dictionary below and screen values\\n# sorted(specific_roles_list, key=lambda x: len(x), reverse=True)\";\n",
       "                var nbb_cells = Jupyter.notebook.get_cells();\n",
       "                for (var i = 0; i < nbb_cells.length; ++i) {\n",
       "                    if (nbb_cells[i].input_prompt_number == nbb_cell_id) {\n",
       "                        if (nbb_cells[i].get_text() == nbb_unformatted_code) {\n",
       "                             nbb_cells[i].set_text(nbb_formatted_code);\n",
       "                        }\n",
       "                        break;\n",
       "                    }\n",
       "                }\n",
       "            }, 500);\n",
       "            "
      ],
      "text/plain": [
       "<IPython.core.display.Javascript object>"
      ]
     },
     "metadata": {},
     "output_type": "display_data"
    }
   ],
   "source": [
    "# # Viewing list sorted by descending length to copy to dictionary below and screen values\n",
    "# sorted(specific_roles_list, key=lambda x: len(x), reverse=True)"
   ]
  },
  {
   "cell_type": "code",
   "execution_count": 139,
   "id": "8ccc4376",
   "metadata": {},
   "outputs": [
    {
     "data": {
      "application/javascript": [
       "\n",
       "            setTimeout(function() {\n",
       "                var nbb_cell_id = 139;\n",
       "                var nbb_unformatted_code = \"# # Example code to quick-check a specific entry\\n# df[df[\\\"info_2_1\\\"] == \\\"hall of r\\\"]\";\n",
       "                var nbb_formatted_code = \"# # Example code to quick-check a specific entry\\n# df[df[\\\"info_2_1\\\"] == \\\"hall of r\\\"]\";\n",
       "                var nbb_cells = Jupyter.notebook.get_cells();\n",
       "                for (var i = 0; i < nbb_cells.length; ++i) {\n",
       "                    if (nbb_cells[i].input_prompt_number == nbb_cell_id) {\n",
       "                        if (nbb_cells[i].get_text() == nbb_unformatted_code) {\n",
       "                             nbb_cells[i].set_text(nbb_formatted_code);\n",
       "                        }\n",
       "                        break;\n",
       "                    }\n",
       "                }\n",
       "            }, 500);\n",
       "            "
      ],
      "text/plain": [
       "<IPython.core.display.Javascript object>"
      ]
     },
     "metadata": {},
     "output_type": "display_data"
    }
   ],
   "source": [
    "# # Example code to quick-check a specific entry\n",
    "# df[df[\"info_2_1\"] == \"hall of r\"]"
   ]
  },
  {
   "cell_type": "markdown",
   "id": "23a92b66",
   "metadata": {},
   "source": [
    "#### Creating Lists for Each `known_for` Category"
   ]
  },
  {
   "cell_type": "code",
   "execution_count": 140,
   "id": "d5f69c26",
   "metadata": {},
   "outputs": [
    {
     "data": {
      "application/javascript": [
       "\n",
       "            setTimeout(function() {\n",
       "                var nbb_cell_id = 140;\n",
       "                var nbb_unformatted_code = \"# Creating lists for each category and sorting by decreasing length and removing duplicates\\n\\npolitics_govt_law = [\\n    \\\"first wife of John Kerry\\\",\\n    \\\"baronet\\\",\\n    \\\"Vice Chancellor of the Supreme Court\\\",\\n    \\\"second son of Saddam Hussein\\\",\\n    \\\"daughter of Ronald Reagan\\\",\\n    \\\"governor of the North West Frontier Province\\\",\\n    \\\"governor of the Central Bank\\\",\\n    \\\"governor Ruanda Urundi\\\",\\n    \\\"nd governor of Kansas\\\",\\n    \\\"governor of Arkansas\\\",\\n    \\\"governor of\\\",\\n    \\\"governor\\\",\\n    \\\"daughter of the Shah of\\\",\\n    \\\"fourth wife of emperor Puyi\\\",\\n    \\\"watcher\\\",\\n    \\\"Klansman\\\",\\n]\\npolitics_govt_law = sorted(\\n    list(set(politics_govt_law)), key=lambda x: len(x), reverse=True\\n)\\n\\narts = [\\n    \\\"soloist for Sydney Symphony for years\\\",\\n    \\\"S A Slayer\\\",\\n    \\\"one of the founders of commercial TV broadcasting in the\\\",\\n    \\\"MacArthur Foundation Fellow\\\",\\n    \\\"father of Neil Young\\\",\\n    \\\"brother of Dev Anand\\\",\\n    \\\"expert on cooking\\\",\\n    \\\"the Dreamers\\\",\\n    \\\"toy maker\\\",\\n    \\\"toymaker\\\",\\n    \\\"The Proms\\\",\\n    \\\"AVN Hall of Famer\\\",\\n    \\\"who signed the Mercury Records while working for\\\",\\n    \\\"knitting books\\\",\\n    \\\"Jimi Hendrix\\\",\\n    \\\"prot\\u00e9g\\u00e9 of Pablo Picasso\\\",\\n    '\\\" favorite poster child for literacy\\\"',\\n    \\\"son of Carl Hoffmann\\\",\\n    \\\"jewelry\\\",\\n    \\\"furniture maker\\\",\\n    \\\"pin up star\\\",\\n    \\\"drawer\\\",\\n    \\\"stage\\\",\\n]\\narts = sorted(list(set(arts)), key=lambda x: len(x), reverse=True)\\n\\nsports = [\\n    \\\"Kaizer Chiefs\\\",\\n    \\\"Ipswich Town F C\\\",\\n    \\\"UFC middleweight champion\\\",\\n    \\\"Neath RFC\\\",\\n    \\\"Blackpool F C\\\",\\n    \\\"paralympian\\\",\\n    \\\"Baltimore Orioles\\\",\\n    \\\"shipwrecks\\\",\\n    \\\"North Carolina State University\\\",\\n    \\\"BC Sports Hall of Fame inductee\\\",\\n    \\\"olympian\\\",\\n    \\\"fishing specialist\\\",\\n    \\\"judoka\\\",\\n]\\nsports = sorted(list(set(sports)), key=lambda x: len(x), reverse=True)\\n\\nsciences = [\\n    \\\"agriculturalist\\\",\\n    \\\"expert on climate change\\\",\\n    \\\"Icon programming languages\\\",\\n    \\\"expert in the work of Alfred Adler\\\",\\n    \\\"son of Ernest Hemingway\\\",\\n]\\nsciences = sorted(list(set(sciences)), key=lambda x: len(x), reverse=True)\\n\\nbusiness_farming = [\\\"stepfather of Diana\\\", \\\"playboy\\\", \\\"shipper\\\"]\\nbusiness_farming = sorted(\\n    list(set(business_farming)), key=lambda x: len(x), reverse=True\\n)\\n\\nacademia_humanities = [\\\"the Library of Congress\\\", \\\"schoolmaster\\\"]\\nacademia_humanities = sorted(\\n    list(set(academia_humanities)), key=lambda x: len(x), reverse=True\\n)\\n\\nlaw_enf_military_operator = [\\n    \\\"son of George Patton\\\",\\n    \\\"commando\\\",\\n    \\\"hero of the battle for the Hurtgen Forest on November\\\",\\n    \\\"hero of Liberation War\\\",\\n    \\\"flight specialist\\\",\\n    \\\"Director General of Intelligence\\\",\\n    \\\"recruiter of spies\\\",\\n]\\nlaw_enf_military_operator = sorted(\\n    list(set(law_enf_military_operator)), key=lambda x: len(x), reverse=True\\n)\\n\\nspiritual = [\\\"Judaism\\\"]\\nspiritual = sorted(list(set(spiritual)), key=lambda x: len(x), reverse=True)\\n\\nsocial = [\\n    \\\"Director of Action Aid\\\",\\n    \\\"persuaded Jerry Lewis to undertake a yearly telethon to raise money for muscular dystrophy\\\",\\n    \\\"settler\\\",\\n]\\nsocial = sorted(list(set(social)), key=lambda x: len(x), reverse=True)\\n\\ncrime = [\\\"necrophiliac\\\", \\\"Holocaust perpetrator\\\", \\\"perpetrator\\\"]\\ncrime = sorted(list(set(crime)), key=lambda x: len(x), reverse=True)\\n\\nevent_record_other = [\\\"Serena Williams\\\"]\\nevent_record_other = sorted(\\n    list(set(event_record_other)), key=lambda x: len(x), reverse=True\\n)\\n\\nother_species = [\\n    \\\"allegedly owned by Charles Darwin\\\",\\n    \\\"Hall of Fame inductee\\\",\\n]\\nother_species = sorted(list(set(other_species)), key=lambda x: len(x), reverse=True)\";\n",
       "                var nbb_formatted_code = \"# Creating lists for each category and sorting by decreasing length and removing duplicates\\n\\npolitics_govt_law = [\\n    \\\"first wife of John Kerry\\\",\\n    \\\"baronet\\\",\\n    \\\"Vice Chancellor of the Supreme Court\\\",\\n    \\\"second son of Saddam Hussein\\\",\\n    \\\"daughter of Ronald Reagan\\\",\\n    \\\"governor of the North West Frontier Province\\\",\\n    \\\"governor of the Central Bank\\\",\\n    \\\"governor Ruanda Urundi\\\",\\n    \\\"nd governor of Kansas\\\",\\n    \\\"governor of Arkansas\\\",\\n    \\\"governor of\\\",\\n    \\\"governor\\\",\\n    \\\"daughter of the Shah of\\\",\\n    \\\"fourth wife of emperor Puyi\\\",\\n    \\\"watcher\\\",\\n    \\\"Klansman\\\",\\n]\\npolitics_govt_law = sorted(\\n    list(set(politics_govt_law)), key=lambda x: len(x), reverse=True\\n)\\n\\narts = [\\n    \\\"soloist for Sydney Symphony for years\\\",\\n    \\\"S A Slayer\\\",\\n    \\\"one of the founders of commercial TV broadcasting in the\\\",\\n    \\\"MacArthur Foundation Fellow\\\",\\n    \\\"father of Neil Young\\\",\\n    \\\"brother of Dev Anand\\\",\\n    \\\"expert on cooking\\\",\\n    \\\"the Dreamers\\\",\\n    \\\"toy maker\\\",\\n    \\\"toymaker\\\",\\n    \\\"The Proms\\\",\\n    \\\"AVN Hall of Famer\\\",\\n    \\\"who signed the Mercury Records while working for\\\",\\n    \\\"knitting books\\\",\\n    \\\"Jimi Hendrix\\\",\\n    \\\"prot\\u00e9g\\u00e9 of Pablo Picasso\\\",\\n    '\\\" favorite poster child for literacy\\\"',\\n    \\\"son of Carl Hoffmann\\\",\\n    \\\"jewelry\\\",\\n    \\\"furniture maker\\\",\\n    \\\"pin up star\\\",\\n    \\\"drawer\\\",\\n    \\\"stage\\\",\\n]\\narts = sorted(list(set(arts)), key=lambda x: len(x), reverse=True)\\n\\nsports = [\\n    \\\"Kaizer Chiefs\\\",\\n    \\\"Ipswich Town F C\\\",\\n    \\\"UFC middleweight champion\\\",\\n    \\\"Neath RFC\\\",\\n    \\\"Blackpool F C\\\",\\n    \\\"paralympian\\\",\\n    \\\"Baltimore Orioles\\\",\\n    \\\"shipwrecks\\\",\\n    \\\"North Carolina State University\\\",\\n    \\\"BC Sports Hall of Fame inductee\\\",\\n    \\\"olympian\\\",\\n    \\\"fishing specialist\\\",\\n    \\\"judoka\\\",\\n]\\nsports = sorted(list(set(sports)), key=lambda x: len(x), reverse=True)\\n\\nsciences = [\\n    \\\"agriculturalist\\\",\\n    \\\"expert on climate change\\\",\\n    \\\"Icon programming languages\\\",\\n    \\\"expert in the work of Alfred Adler\\\",\\n    \\\"son of Ernest Hemingway\\\",\\n]\\nsciences = sorted(list(set(sciences)), key=lambda x: len(x), reverse=True)\\n\\nbusiness_farming = [\\\"stepfather of Diana\\\", \\\"playboy\\\", \\\"shipper\\\"]\\nbusiness_farming = sorted(\\n    list(set(business_farming)), key=lambda x: len(x), reverse=True\\n)\\n\\nacademia_humanities = [\\\"the Library of Congress\\\", \\\"schoolmaster\\\"]\\nacademia_humanities = sorted(\\n    list(set(academia_humanities)), key=lambda x: len(x), reverse=True\\n)\\n\\nlaw_enf_military_operator = [\\n    \\\"son of George Patton\\\",\\n    \\\"commando\\\",\\n    \\\"hero of the battle for the Hurtgen Forest on November\\\",\\n    \\\"hero of Liberation War\\\",\\n    \\\"flight specialist\\\",\\n    \\\"Director General of Intelligence\\\",\\n    \\\"recruiter of spies\\\",\\n]\\nlaw_enf_military_operator = sorted(\\n    list(set(law_enf_military_operator)), key=lambda x: len(x), reverse=True\\n)\\n\\nspiritual = [\\\"Judaism\\\"]\\nspiritual = sorted(list(set(spiritual)), key=lambda x: len(x), reverse=True)\\n\\nsocial = [\\n    \\\"Director of Action Aid\\\",\\n    \\\"persuaded Jerry Lewis to undertake a yearly telethon to raise money for muscular dystrophy\\\",\\n    \\\"settler\\\",\\n]\\nsocial = sorted(list(set(social)), key=lambda x: len(x), reverse=True)\\n\\ncrime = [\\\"necrophiliac\\\", \\\"Holocaust perpetrator\\\", \\\"perpetrator\\\"]\\ncrime = sorted(list(set(crime)), key=lambda x: len(x), reverse=True)\\n\\nevent_record_other = [\\\"Serena Williams\\\"]\\nevent_record_other = sorted(\\n    list(set(event_record_other)), key=lambda x: len(x), reverse=True\\n)\\n\\nother_species = [\\n    \\\"allegedly owned by Charles Darwin\\\",\\n    \\\"Hall of Fame inductee\\\",\\n]\\nother_species = sorted(list(set(other_species)), key=lambda x: len(x), reverse=True)\";\n",
       "                var nbb_cells = Jupyter.notebook.get_cells();\n",
       "                for (var i = 0; i < nbb_cells.length; ++i) {\n",
       "                    if (nbb_cells[i].input_prompt_number == nbb_cell_id) {\n",
       "                        if (nbb_cells[i].get_text() == nbb_unformatted_code) {\n",
       "                             nbb_cells[i].set_text(nbb_formatted_code);\n",
       "                        }\n",
       "                        break;\n",
       "                    }\n",
       "                }\n",
       "            }, 500);\n",
       "            "
      ],
      "text/plain": [
       "<IPython.core.display.Javascript object>"
      ]
     },
     "metadata": {},
     "output_type": "display_data"
    }
   ],
   "source": [
    "# Creating lists for each category and sorting by decreasing length and removing duplicates\n",
    "\n",
    "politics_govt_law = [\n",
    "    \"first wife of John Kerry\",\n",
    "    \"baronet\",\n",
    "    \"Vice Chancellor of the Supreme Court\",\n",
    "    \"second son of Saddam Hussein\",\n",
    "    \"daughter of Ronald Reagan\",\n",
    "    \"governor of the North West Frontier Province\",\n",
    "    \"governor of the Central Bank\",\n",
    "    \"governor Ruanda Urundi\",\n",
    "    \"nd governor of Kansas\",\n",
    "    \"governor of Arkansas\",\n",
    "    \"governor of\",\n",
    "    \"governor\",\n",
    "    \"daughter of the Shah of\",\n",
    "    \"fourth wife of emperor Puyi\",\n",
    "    \"watcher\",\n",
    "    \"Klansman\",\n",
    "]\n",
    "politics_govt_law = sorted(\n",
    "    list(set(politics_govt_law)), key=lambda x: len(x), reverse=True\n",
    ")\n",
    "\n",
    "arts = [\n",
    "    \"soloist for Sydney Symphony for years\",\n",
    "    \"S A Slayer\",\n",
    "    \"one of the founders of commercial TV broadcasting in the\",\n",
    "    \"MacArthur Foundation Fellow\",\n",
    "    \"father of Neil Young\",\n",
    "    \"brother of Dev Anand\",\n",
    "    \"expert on cooking\",\n",
    "    \"the Dreamers\",\n",
    "    \"toy maker\",\n",
    "    \"toymaker\",\n",
    "    \"The Proms\",\n",
    "    \"AVN Hall of Famer\",\n",
    "    \"who signed the Mercury Records while working for\",\n",
    "    \"knitting books\",\n",
    "    \"Jimi Hendrix\",\n",
    "    \"protégé of Pablo Picasso\",\n",
    "    '\" favorite poster child for literacy\"',\n",
    "    \"son of Carl Hoffmann\",\n",
    "    \"jewelry\",\n",
    "    \"furniture maker\",\n",
    "    \"pin up star\",\n",
    "    \"drawer\",\n",
    "    \"stage\",\n",
    "]\n",
    "arts = sorted(list(set(arts)), key=lambda x: len(x), reverse=True)\n",
    "\n",
    "sports = [\n",
    "    \"Kaizer Chiefs\",\n",
    "    \"Ipswich Town F C\",\n",
    "    \"UFC middleweight champion\",\n",
    "    \"Neath RFC\",\n",
    "    \"Blackpool F C\",\n",
    "    \"paralympian\",\n",
    "    \"Baltimore Orioles\",\n",
    "    \"shipwrecks\",\n",
    "    \"North Carolina State University\",\n",
    "    \"BC Sports Hall of Fame inductee\",\n",
    "    \"olympian\",\n",
    "    \"fishing specialist\",\n",
    "    \"judoka\",\n",
    "]\n",
    "sports = sorted(list(set(sports)), key=lambda x: len(x), reverse=True)\n",
    "\n",
    "sciences = [\n",
    "    \"agriculturalist\",\n",
    "    \"expert on climate change\",\n",
    "    \"Icon programming languages\",\n",
    "    \"expert in the work of Alfred Adler\",\n",
    "    \"son of Ernest Hemingway\",\n",
    "]\n",
    "sciences = sorted(list(set(sciences)), key=lambda x: len(x), reverse=True)\n",
    "\n",
    "business_farming = [\"stepfather of Diana\", \"playboy\", \"shipper\"]\n",
    "business_farming = sorted(\n",
    "    list(set(business_farming)), key=lambda x: len(x), reverse=True\n",
    ")\n",
    "\n",
    "academia_humanities = [\"the Library of Congress\", \"schoolmaster\"]\n",
    "academia_humanities = sorted(\n",
    "    list(set(academia_humanities)), key=lambda x: len(x), reverse=True\n",
    ")\n",
    "\n",
    "law_enf_military_operator = [\n",
    "    \"son of George Patton\",\n",
    "    \"commando\",\n",
    "    \"hero of the battle for the Hurtgen Forest on November\",\n",
    "    \"hero of Liberation War\",\n",
    "    \"flight specialist\",\n",
    "    \"Director General of Intelligence\",\n",
    "    \"recruiter of spies\",\n",
    "]\n",
    "law_enf_military_operator = sorted(\n",
    "    list(set(law_enf_military_operator)), key=lambda x: len(x), reverse=True\n",
    ")\n",
    "\n",
    "spiritual = [\"Judaism\"]\n",
    "spiritual = sorted(list(set(spiritual)), key=lambda x: len(x), reverse=True)\n",
    "\n",
    "social = [\n",
    "    \"Director of Action Aid\",\n",
    "    \"persuaded Jerry Lewis to undertake a yearly telethon to raise money for muscular dystrophy\",\n",
    "    \"settler\",\n",
    "]\n",
    "social = sorted(list(set(social)), key=lambda x: len(x), reverse=True)\n",
    "\n",
    "crime = [\"necrophiliac\", \"Holocaust perpetrator\", \"perpetrator\"]\n",
    "crime = sorted(list(set(crime)), key=lambda x: len(x), reverse=True)\n",
    "\n",
    "event_record_other = [\"Serena Williams\"]\n",
    "event_record_other = sorted(\n",
    "    list(set(event_record_other)), key=lambda x: len(x), reverse=True\n",
    ")\n",
    "\n",
    "other_species = [\n",
    "    \"allegedly owned by Charles Darwin\",\n",
    "    \"Hall of Fame inductee\",\n",
    "]\n",
    "other_species = sorted(list(set(other_species)), key=lambda x: len(x), reverse=True)"
   ]
  },
  {
   "cell_type": "markdown",
   "id": "21f702c4",
   "metadata": {},
   "source": [
    "#### Creating `known_for_dict` Dictionary of Category Keys and Specific Role Lists of Values"
   ]
  },
  {
   "cell_type": "code",
   "execution_count": 141,
   "id": "3f31bc2c",
   "metadata": {},
   "outputs": [
    {
     "data": {
      "application/javascript": [
       "\n",
       "            setTimeout(function() {\n",
       "                var nbb_cell_id = 141;\n",
       "                var nbb_unformatted_code = \"# Combining separate lists into one dictionary\\nknown_for_dict = {\\n    \\\"social\\\": social,\\n    \\\"spiritual\\\": spiritual,\\n    \\\"academia_humanities\\\": academia_humanities,\\n    \\\"business_farming\\\": business_farming,\\n    \\\"sciences\\\": sciences,\\n    \\\"politics_govt_law\\\": politics_govt_law,\\n    \\\"law_enf_military_operator\\\": law_enf_military_operator,\\n    \\\"crime\\\": crime,\\n    \\\"event_record_other\\\": event_record_other,\\n    \\\"other_species\\\": other_species,\\n    \\\"arts\\\": arts,\\n    \\\"sports\\\": sports,\\n}\";\n",
       "                var nbb_formatted_code = \"# Combining separate lists into one dictionary\\nknown_for_dict = {\\n    \\\"social\\\": social,\\n    \\\"spiritual\\\": spiritual,\\n    \\\"academia_humanities\\\": academia_humanities,\\n    \\\"business_farming\\\": business_farming,\\n    \\\"sciences\\\": sciences,\\n    \\\"politics_govt_law\\\": politics_govt_law,\\n    \\\"law_enf_military_operator\\\": law_enf_military_operator,\\n    \\\"crime\\\": crime,\\n    \\\"event_record_other\\\": event_record_other,\\n    \\\"other_species\\\": other_species,\\n    \\\"arts\\\": arts,\\n    \\\"sports\\\": sports,\\n}\";\n",
       "                var nbb_cells = Jupyter.notebook.get_cells();\n",
       "                for (var i = 0; i < nbb_cells.length; ++i) {\n",
       "                    if (nbb_cells[i].input_prompt_number == nbb_cell_id) {\n",
       "                        if (nbb_cells[i].get_text() == nbb_unformatted_code) {\n",
       "                             nbb_cells[i].set_text(nbb_formatted_code);\n",
       "                        }\n",
       "                        break;\n",
       "                    }\n",
       "                }\n",
       "            }, 500);\n",
       "            "
      ],
      "text/plain": [
       "<IPython.core.display.Javascript object>"
      ]
     },
     "metadata": {},
     "output_type": "display_data"
    }
   ],
   "source": [
    "# Combining separate lists into one dictionary\n",
    "known_for_dict = {\n",
    "    \"social\": social,\n",
    "    \"spiritual\": spiritual,\n",
    "    \"academia_humanities\": academia_humanities,\n",
    "    \"business_farming\": business_farming,\n",
    "    \"sciences\": sciences,\n",
    "    \"politics_govt_law\": politics_govt_law,\n",
    "    \"law_enf_military_operator\": law_enf_military_operator,\n",
    "    \"crime\": crime,\n",
    "    \"event_record_other\": event_record_other,\n",
    "    \"other_species\": other_species,\n",
    "    \"arts\": arts,\n",
    "    \"sports\": sports,\n",
    "}"
   ]
  },
  {
   "cell_type": "markdown",
   "id": "5778b8f4",
   "metadata": {},
   "source": [
    "#### Extracting Category from `info_2_1`"
   ]
  },
  {
   "cell_type": "code",
   "execution_count": 142,
   "id": "46df6237",
   "metadata": {},
   "outputs": [
    {
     "name": "stdout",
     "output_type": "stream",
     "text": [
      "CPU times: total: 9.56 s\n",
      "Wall time: 9.56 s\n"
     ]
    },
    {
     "data": {
      "application/javascript": [
       "\n",
       "            setTimeout(function() {\n",
       "                var nbb_cell_id = 142;\n",
       "                var nbb_unformatted_code = \"%%time\\n\\n# Column to check\\ncolumn = 'info_2_1'\\n\\n# Start dataframe\\ndataframe = df[df[column].notna()]\\n\\n# For loop to find role in column and extract it as category\\nfor category, category_lst in known_for_dict.items():\\n    for role in category_lst:\\n        for index in dataframe.index:\\n                item = df.loc[index, column]\\n                if item:\\n                    if role in item:\\n                        df.loc[index, category] = 1\\n                        df.loc[index, column] = item.replace(role, '').strip()\\n\\n# Calculating num_categories\\ndf[\\\"num_categories\\\"] = df[known_for_dict.keys()].sum(axis=1)\";\n",
       "                var nbb_formatted_code = \"%%time\\n\\n# Column to check\\ncolumn = 'info_2_1'\\n\\n# Start dataframe\\ndataframe = df[df[column].notna()]\\n\\n# For loop to find role in column and extract it as category\\nfor category, category_lst in known_for_dict.items():\\n    for role in category_lst:\\n        for index in dataframe.index:\\n                item = df.loc[index, column]\\n                if item:\\n                    if role in item:\\n                        df.loc[index, category] = 1\\n                        df.loc[index, column] = item.replace(role, '').strip()\\n\\n# Calculating num_categories\\ndf[\\\"num_categories\\\"] = df[known_for_dict.keys()].sum(axis=1)\";\n",
       "                var nbb_cells = Jupyter.notebook.get_cells();\n",
       "                for (var i = 0; i < nbb_cells.length; ++i) {\n",
       "                    if (nbb_cells[i].input_prompt_number == nbb_cell_id) {\n",
       "                        if (nbb_cells[i].get_text() == nbb_unformatted_code) {\n",
       "                             nbb_cells[i].set_text(nbb_formatted_code);\n",
       "                        }\n",
       "                        break;\n",
       "                    }\n",
       "                }\n",
       "            }, 500);\n",
       "            "
      ],
      "text/plain": [
       "<IPython.core.display.Javascript object>"
      ]
     },
     "metadata": {},
     "output_type": "display_data"
    }
   ],
   "source": [
    "%%time\n",
    "\n",
    "# Column to check\n",
    "column = 'info_2_1'\n",
    "\n",
    "# Start dataframe\n",
    "dataframe = df[df[column].notna()]\n",
    "\n",
    "# For loop to find role in column and extract it as category\n",
    "for category, category_lst in known_for_dict.items():\n",
    "    for role in category_lst:\n",
    "        for index in dataframe.index:\n",
    "                item = df.loc[index, column]\n",
    "                if item:\n",
    "                    if role in item:\n",
    "                        df.loc[index, category] = 1\n",
    "                        df.loc[index, column] = item.replace(role, '').strip()\n",
    "\n",
    "# Calculating num_categories\n",
    "df[\"num_categories\"] = df[known_for_dict.keys()].sum(axis=1)"
   ]
  },
  {
   "cell_type": "markdown",
   "id": "ddf802ad",
   "metadata": {},
   "source": [
    "#### Checking Updated `num_categories` Value Counts"
   ]
  },
  {
   "cell_type": "code",
   "execution_count": 143,
   "id": "36ba476d",
   "metadata": {},
   "outputs": [
    {
     "data": {
      "text/plain": [
       "1    88333\n",
       "2     9474\n",
       "3      170\n",
       "0       65\n",
       "Name: num_categories, dtype: int64"
      ]
     },
     "execution_count": 143,
     "metadata": {},
     "output_type": "execute_result"
    },
    {
     "data": {
      "application/javascript": [
       "\n",
       "            setTimeout(function() {\n",
       "                var nbb_cell_id = 143;\n",
       "                var nbb_unformatted_code = \"# Checking updated num_categories value counts\\ndf[\\\"num_categories\\\"].value_counts()\";\n",
       "                var nbb_formatted_code = \"# Checking updated num_categories value counts\\ndf[\\\"num_categories\\\"].value_counts()\";\n",
       "                var nbb_cells = Jupyter.notebook.get_cells();\n",
       "                for (var i = 0; i < nbb_cells.length; ++i) {\n",
       "                    if (nbb_cells[i].input_prompt_number == nbb_cell_id) {\n",
       "                        if (nbb_cells[i].get_text() == nbb_unformatted_code) {\n",
       "                             nbb_cells[i].set_text(nbb_formatted_code);\n",
       "                        }\n",
       "                        break;\n",
       "                    }\n",
       "                }\n",
       "            }, 500);\n",
       "            "
      ],
      "text/plain": [
       "<IPython.core.display.Javascript object>"
      ]
     },
     "metadata": {},
     "output_type": "display_data"
    }
   ],
   "source": [
    "# Checking updated num_categories value counts\n",
    "df[\"num_categories\"].value_counts()"
   ]
  },
  {
   "cell_type": "markdown",
   "id": "c8250a28",
   "metadata": {},
   "source": [
    "#### Observations:\n",
    "- We will proceed to rebuild `known_for_dict` for the next iteration."
   ]
  },
  {
   "cell_type": "markdown",
   "id": "6766fc63",
   "metadata": {},
   "source": [
    "#### Finding `known_for` Roles in `info_2_1`"
   ]
  },
  {
   "cell_type": "code",
   "execution_count": 144,
   "id": "b200d7c8",
   "metadata": {},
   "outputs": [
    {
     "data": {
      "application/javascript": [
       "\n",
       "            setTimeout(function() {\n",
       "                var nbb_cell_id = 144;\n",
       "                var nbb_unformatted_code = \"# # Obtaining values for column and their counts\\n# roles_list = df[\\\"info_2_1\\\"].value_counts(ascending=True).index.tolist()\";\n",
       "                var nbb_formatted_code = \"# # Obtaining values for column and their counts\\n# roles_list = df[\\\"info_2_1\\\"].value_counts(ascending=True).index.tolist()\";\n",
       "                var nbb_cells = Jupyter.notebook.get_cells();\n",
       "                for (var i = 0; i < nbb_cells.length; ++i) {\n",
       "                    if (nbb_cells[i].input_prompt_number == nbb_cell_id) {\n",
       "                        if (nbb_cells[i].get_text() == nbb_unformatted_code) {\n",
       "                             nbb_cells[i].set_text(nbb_formatted_code);\n",
       "                        }\n",
       "                        break;\n",
       "                    }\n",
       "                }\n",
       "            }, 500);\n",
       "            "
      ],
      "text/plain": [
       "<IPython.core.display.Javascript object>"
      ]
     },
     "metadata": {},
     "output_type": "display_data"
    }
   ],
   "source": [
    "# # Obtaining values for column and their counts\n",
    "# roles_list = df[\"info_2_1\"].value_counts(ascending=True).index.tolist()"
   ]
  },
  {
   "cell_type": "code",
   "execution_count": 145,
   "id": "80e0c05e",
   "metadata": {},
   "outputs": [
    {
     "data": {
      "application/javascript": [
       "\n",
       "            setTimeout(function() {\n",
       "                var nbb_cell_id = 145;\n",
       "                var nbb_unformatted_code = \"# # Code to check each value\\n# roles_list.pop()\";\n",
       "                var nbb_formatted_code = \"# # Code to check each value\\n# roles_list.pop()\";\n",
       "                var nbb_cells = Jupyter.notebook.get_cells();\n",
       "                for (var i = 0; i < nbb_cells.length; ++i) {\n",
       "                    if (nbb_cells[i].input_prompt_number == nbb_cell_id) {\n",
       "                        if (nbb_cells[i].get_text() == nbb_unformatted_code) {\n",
       "                             nbb_cells[i].set_text(nbb_formatted_code);\n",
       "                        }\n",
       "                        break;\n",
       "                    }\n",
       "                }\n",
       "            }, 500);\n",
       "            "
      ],
      "text/plain": [
       "<IPython.core.display.Javascript object>"
      ]
     },
     "metadata": {},
     "output_type": "display_data"
    }
   ],
   "source": [
    "# # Code to check each value\n",
    "# roles_list.pop()"
   ]
  },
  {
   "cell_type": "code",
   "execution_count": 146,
   "id": "ec02e4d4",
   "metadata": {},
   "outputs": [
    {
     "data": {
      "application/javascript": [
       "\n",
       "            setTimeout(function() {\n",
       "                var nbb_cell_id = 146;\n",
       "                var nbb_unformatted_code = \"# # Create specific_roles_list for above popped value\\n# specific_roles_list = (\\n#     df.loc[\\n#         [\\n#             index\\n#             for index in df[df[\\\"info_2_1\\\"].notna()].index\\n#             if \\\"Correspondent\\\" in df.loc[index, \\\"info_2_1\\\"]\\n#         ],\\n#         \\\"info_2_1\\\",\\n#     ]\\n#     .value_counts()\\n#     .index.tolist()\\n# )\";\n",
       "                var nbb_formatted_code = \"# # Create specific_roles_list for above popped value\\n# specific_roles_list = (\\n#     df.loc[\\n#         [\\n#             index\\n#             for index in df[df[\\\"info_2_1\\\"].notna()].index\\n#             if \\\"Correspondent\\\" in df.loc[index, \\\"info_2_1\\\"]\\n#         ],\\n#         \\\"info_2_1\\\",\\n#     ]\\n#     .value_counts()\\n#     .index.tolist()\\n# )\";\n",
       "                var nbb_cells = Jupyter.notebook.get_cells();\n",
       "                for (var i = 0; i < nbb_cells.length; ++i) {\n",
       "                    if (nbb_cells[i].input_prompt_number == nbb_cell_id) {\n",
       "                        if (nbb_cells[i].get_text() == nbb_unformatted_code) {\n",
       "                             nbb_cells[i].set_text(nbb_formatted_code);\n",
       "                        }\n",
       "                        break;\n",
       "                    }\n",
       "                }\n",
       "            }, 500);\n",
       "            "
      ],
      "text/plain": [
       "<IPython.core.display.Javascript object>"
      ]
     },
     "metadata": {},
     "output_type": "display_data"
    }
   ],
   "source": [
    "# # Create specific_roles_list for above popped value\n",
    "# specific_roles_list = (\n",
    "#     df.loc[\n",
    "#         [\n",
    "#             index\n",
    "#             for index in df[df[\"info_2_1\"].notna()].index\n",
    "#             if \"Correspondent\" in df.loc[index, \"info_2_1\"]\n",
    "#         ],\n",
    "#         \"info_2_1\",\n",
    "#     ]\n",
    "#     .value_counts()\n",
    "#     .index.tolist()\n",
    "# )"
   ]
  },
  {
   "cell_type": "code",
   "execution_count": 147,
   "id": "614046b2",
   "metadata": {},
   "outputs": [
    {
     "data": {
      "application/javascript": [
       "\n",
       "            setTimeout(function() {\n",
       "                var nbb_cell_id = 147;\n",
       "                var nbb_unformatted_code = \"# # Viewing list sorted by descending length to copy to dictionary below and screen values\\n# sorted(specific_roles_list, key=lambda x: len(x), reverse=True)\";\n",
       "                var nbb_formatted_code = \"# # Viewing list sorted by descending length to copy to dictionary below and screen values\\n# sorted(specific_roles_list, key=lambda x: len(x), reverse=True)\";\n",
       "                var nbb_cells = Jupyter.notebook.get_cells();\n",
       "                for (var i = 0; i < nbb_cells.length; ++i) {\n",
       "                    if (nbb_cells[i].input_prompt_number == nbb_cell_id) {\n",
       "                        if (nbb_cells[i].get_text() == nbb_unformatted_code) {\n",
       "                             nbb_cells[i].set_text(nbb_formatted_code);\n",
       "                        }\n",
       "                        break;\n",
       "                    }\n",
       "                }\n",
       "            }, 500);\n",
       "            "
      ],
      "text/plain": [
       "<IPython.core.display.Javascript object>"
      ]
     },
     "metadata": {},
     "output_type": "display_data"
    }
   ],
   "source": [
    "# # Viewing list sorted by descending length to copy to dictionary below and screen values\n",
    "# sorted(specific_roles_list, key=lambda x: len(x), reverse=True)"
   ]
  },
  {
   "cell_type": "code",
   "execution_count": 148,
   "id": "5ebbda96",
   "metadata": {},
   "outputs": [
    {
     "data": {
      "application/javascript": [
       "\n",
       "            setTimeout(function() {\n",
       "                var nbb_cell_id = 148;\n",
       "                var nbb_unformatted_code = \"# # Example code to quick-check a specific entry\\n# df[df[\\\"info_2_1\\\"] == \\\"later FIA\\\"]\";\n",
       "                var nbb_formatted_code = \"# # Example code to quick-check a specific entry\\n# df[df[\\\"info_2_1\\\"] == \\\"later FIA\\\"]\";\n",
       "                var nbb_cells = Jupyter.notebook.get_cells();\n",
       "                for (var i = 0; i < nbb_cells.length; ++i) {\n",
       "                    if (nbb_cells[i].input_prompt_number == nbb_cell_id) {\n",
       "                        if (nbb_cells[i].get_text() == nbb_unformatted_code) {\n",
       "                             nbb_cells[i].set_text(nbb_formatted_code);\n",
       "                        }\n",
       "                        break;\n",
       "                    }\n",
       "                }\n",
       "            }, 500);\n",
       "            "
      ],
      "text/plain": [
       "<IPython.core.display.Javascript object>"
      ]
     },
     "metadata": {},
     "output_type": "display_data"
    }
   ],
   "source": [
    "# # Example code to quick-check a specific entry\n",
    "# df[df[\"info_2_1\"] == \"later FIA\"]"
   ]
  },
  {
   "cell_type": "markdown",
   "id": "79403e5d",
   "metadata": {},
   "source": [
    "#### Creating Lists for Each `known_for` Category"
   ]
  },
  {
   "cell_type": "code",
   "execution_count": 149,
   "id": "5b677211",
   "metadata": {},
   "outputs": [
    {
     "data": {
      "application/javascript": [
       "\n",
       "            setTimeout(function() {\n",
       "                var nbb_cell_id = 149;\n",
       "                var nbb_unformatted_code = \"# Creating lists for each category and sorting by decreasing length and removing duplicates\\n\\npolitics_govt_law = [\\n    \\\"Emperor of Central\\\",\\n    \\\"St Pancras South\\\",\\n    \\\"wife of Oliver Tambo\\\",\\n    \\\"Speaker of the House of Commons\\\",\\n    \\\"son of W B Yeats\\\",\\n    \\\"chair of the DAB\\\",\\n    \\\"First Lady of\\\",\\n    \\\"First Lady\\\",\\n    \\\"Member of Lok Sabha\\\",\\n    \\\"anti fascist\\\",\\n    \\\"Politician\\\",\\n    \\\"first female parliamentarian in the Arab world\\\",\\n    \\\"serial parliamentary candidate\\\",\\n    \\\"parliamentarian\\\",\\n    \\\"neo nazi\\\",\\n    \\\"last wife of Sir Sultan Muhammad Shah\\\",\\n    \\\"testament\\\",\\n    \\\"eldest son of Saddam Hussein\\\",\\n    \\\"member\\\",\\n    \\\"daughter of King Alfonso XIII\\\",\\n    \\\"the mother of the th\\\",\\n    \\\"litigator\\\",\\n    \\\"key witness in the trial of Willem Holleeder\\\",\\n    \\\"social security\\\",\\n    \\\"Ingushetia\\\",\\n    \\\"first lady\\\",\\n    \\\"clan chief\\\",\\n    \\\"opposition figure\\\",\\n    \\\"anti Zionist\\\",\\n    \\\"white nationalist\\\",\\n    \\\"royal commissioner\\\",\\n    \\\"Budget\\\",\\n    \\\"Correspondent\\\",\\n]\\npolitics_govt_law = sorted(\\n    list(set(politics_govt_law)), key=lambda x: len(x), reverse=True\\n)\\n\\narts = [\\n    \\\"enthusiast magazines\\\",\\n    \\\"son of Mao Zedong\\\",\\n    \\\"father of Mette Marit\\\",\\n    \\\"modules\\\",\\n    \\\"friend of Pablo Picasso\\\",\\n    \\\"widow of John Coltrane\\\",\\n    \\\"acoustician\\\",\\n    \\\"Onyx affiliate\\\",\\n    \\\"The Band\\\",\\n    \\\"game show panelist\\\",\\n    \\\"panelist\\\",\\n    \\\"stylist\\\",\\n    \\\"Minimalism movements\\\",\\n    \\\"glazing master\\\",\\n    \\\"son of Emmett Kelly\\\",\\n    \\\"counter cultural figure\\\",\\n    \\\"embroiderer\\\",\\n    \\\"the son of Douglas Fairbanks\\\",\\n    '\\\"Mr Television\\\"',\\n    \\\"The Munsters\\\",\\n    \\\"star of the Buena Vista Social Club\\\",\\n    \\\"sound technician\\\",\\n    \\\"set decorator\\\",\\n    \\\"set\\\",\\n    \\\"cornetist\\\",\\n    \\\"beer expert\\\",\\n    \\\"influencer\\\",\\n    \\\"hula expert\\\",\\n    \\\"pundit\\\",\\n    \\\"concertmaster\\\",\\n    \\\"concert\\\",\\n    \\\"choral works\\\",\\n    \\\"work\\\",\\n    \\\"chairman of the\\\",\\n    \\\"costumier\\\",\\n    \\\"scenarist\\\",\\n    \\\"newspaper proprietor\\\",\\n    \\\"newspaper founder\\\",\\n    \\\"vlogger\\\",\\n    \\\"chairman of\\\",\\n    \\\"pin up girl\\\",\\n]\\narts = sorted(list(set(arts)), key=lambda x: len(x), reverse=True)\\n\\nsports = [\\n    \\\"organiser\\\",\\n    \\\"Hull KR\\\",\\n    \\\"Colchester United\\\",\\n    \\\"the AAU Phillips ers\\\",\\n    \\\"WBA featherweight champion from March through May\\\",\\n    \\\"former world light heavyweight champion\\\",\\n    \\\"World Light Heavyweight Champion\\\",\\n    \\\"heavyweight champion\\\",\\n    \\\"Hall of Famer\\\",\\n    \\\"Hall of Fame\\\",\\n    \\\"bushman\\\",\\n    \\\"caver\\\",\\n    \\\"sharpshooter\\\",\\n    \\\"wilderness guide\\\",\\n    \\\"guide\\\",\\n    \\\"Great\\\",\\n    \\\"the first person to reach summit of Mount Everest\\\",\\n    \\\"later FIA\\\",\\n]\\nsports = sorted(list(set(sports)), key=lambda x: len(x), reverse=True)\\n\\nsciences = [\\n    \\\"father of Joan Baez\\\",\\n    \\\"hoaxer\\\",\\n    \\\"Information at the University of Cambridge\\\",\\n    \\\"expert on hypertension\\\",\\n    \\\"grandson of Yuan Shikai\\\",\\n    \\\"crocodile expert\\\",\\n]\\nsciences = sorted(list(set(sciences)), key=lambda x: len(x), reverse=True)\\n\\nbusiness_farming = [\\n    \\\"Karl Strauss Brewing Company\\\",\\n    \\\"richest woman\\\",\\n    \\\"financial consultant\\\",\\n    \\\"Citybus\\\",\\n    \\\"CEO of The Coca Cola Company\\\",\\n    \\\"CEO of Johnson & Johnson\\\",\\n    \\\"CEO of Cubic Corporation\\\",\\n    \\\"CEO of General Motors\\\",\\n    \\\"CEO of Royal Shell\\\",\\n    \\\"CEO of corporation\\\",\\n    \\\"former CEO of ARCO\\\",\\n    \\\"CEO Panini Group\\\",\\n    \\\"CEO business\\\",\\n    \\\"CEO Griffon\\\",\\n    \\\"CEO of WD\\\",\\n    \\\"CEO of\\\",\\n    \\\"oil tycoon\\\",\\n    \\\"multimillionaire\\\",\\n    \\\"management consultant\\\",\\n    \\\"management\\\",\\n]\\nbusiness_farming = sorted(\\n    list(set(business_farming)), key=lambda x: len(x), reverse=True\\n)\\n\\nacademia_humanities = [\\n    \\\"principal of Wolfson College\\\",\\n    \\\"Rice University\\\",\\n    \\\"Professor of\\\",\\n    \\\"Records Administration\\\",\\n    \\\"Dean of Law School\\\",\\n    \\\"grammarian\\\",\\n    \\\"the Holocaust\\\",\\n    \\\"daughter of Zhu De\\\",\\n    \\\"Space Museum\\\",\\n    \\\"Keeper of the Public Records\\\",\\n]\\nacademia_humanities = sorted(\\n    list(set(academia_humanities)), key=lambda x: len(x), reverse=True\\n)\\n\\nlaw_enf_military_operator = [\\n    \\\"Geodetic Survey Corps\\\",\\n    \\\"forensic DNA expert\\\",\\n    \\\"Panzer ace\\\",\\n    \\\"veteran\\\",\\n]\\nlaw_enf_military_operator = sorted(\\n    list(set(law_enf_military_operator)), key=lambda x: len(x), reverse=True\\n)\\n\\nspiritual = [\\n    \\\"prefect of the Congregation for Divine Worship\\\",\\n    \\\"clergyman\\\",\\n    \\\"clergy\\\",\\n    \\\"Christian Doctrine\\\",\\n    \\\"Christian worship renewal\\\",\\n    \\\"fundamentalist Christian\\\",\\n    \\\"Christian\\\",\\n    \\\"rival of Robert Mugabe\\\",\\n    \\\"apologetics\\\",\\n    \\\"self proclaimed prophet\\\",\\n    \\\"later of the Antiochian Orthodox Church\\\",\\n    \\\"Cardinal\\\",\\n]\\nspiritual = sorted(list(set(spiritual)), key=lambda x: len(x), reverse=True)\\n\\nsocial = [\\\"expert on international health\\\", \\\"subject of\\\"]\\nsocial = sorted(list(set(social)), key=lambda x: len(x), reverse=True)\\n\\ncrime = [\\\"boss of the Lucchese crime family\\\", \\\"thief\\\"]\\ncrime = sorted(list(set(crime)), key=lambda x: len(x), reverse=True)\\n\\nevent_record_other = [\\n    \\\"Nancy Benoit\\\",\\n    \\\"eponym for Lucy Pevensie from\\\",\\n    \\\"abortion provider\\\",\\n]\\nevent_record_other = sorted(\\n    list(set(event_record_other)), key=lambda x: len(x), reverse=True\\n)\\n\\nother_species = [\\\"rescue dog for September\\\"]\\nother_species = sorted(list(set(other_species)), key=lambda x: len(x), reverse=True)\";\n",
       "                var nbb_formatted_code = \"# Creating lists for each category and sorting by decreasing length and removing duplicates\\n\\npolitics_govt_law = [\\n    \\\"Emperor of Central\\\",\\n    \\\"St Pancras South\\\",\\n    \\\"wife of Oliver Tambo\\\",\\n    \\\"Speaker of the House of Commons\\\",\\n    \\\"son of W B Yeats\\\",\\n    \\\"chair of the DAB\\\",\\n    \\\"First Lady of\\\",\\n    \\\"First Lady\\\",\\n    \\\"Member of Lok Sabha\\\",\\n    \\\"anti fascist\\\",\\n    \\\"Politician\\\",\\n    \\\"first female parliamentarian in the Arab world\\\",\\n    \\\"serial parliamentary candidate\\\",\\n    \\\"parliamentarian\\\",\\n    \\\"neo nazi\\\",\\n    \\\"last wife of Sir Sultan Muhammad Shah\\\",\\n    \\\"testament\\\",\\n    \\\"eldest son of Saddam Hussein\\\",\\n    \\\"member\\\",\\n    \\\"daughter of King Alfonso XIII\\\",\\n    \\\"the mother of the th\\\",\\n    \\\"litigator\\\",\\n    \\\"key witness in the trial of Willem Holleeder\\\",\\n    \\\"social security\\\",\\n    \\\"Ingushetia\\\",\\n    \\\"first lady\\\",\\n    \\\"clan chief\\\",\\n    \\\"opposition figure\\\",\\n    \\\"anti Zionist\\\",\\n    \\\"white nationalist\\\",\\n    \\\"royal commissioner\\\",\\n    \\\"Budget\\\",\\n    \\\"Correspondent\\\",\\n]\\npolitics_govt_law = sorted(\\n    list(set(politics_govt_law)), key=lambda x: len(x), reverse=True\\n)\\n\\narts = [\\n    \\\"enthusiast magazines\\\",\\n    \\\"son of Mao Zedong\\\",\\n    \\\"father of Mette Marit\\\",\\n    \\\"modules\\\",\\n    \\\"friend of Pablo Picasso\\\",\\n    \\\"widow of John Coltrane\\\",\\n    \\\"acoustician\\\",\\n    \\\"Onyx affiliate\\\",\\n    \\\"The Band\\\",\\n    \\\"game show panelist\\\",\\n    \\\"panelist\\\",\\n    \\\"stylist\\\",\\n    \\\"Minimalism movements\\\",\\n    \\\"glazing master\\\",\\n    \\\"son of Emmett Kelly\\\",\\n    \\\"counter cultural figure\\\",\\n    \\\"embroiderer\\\",\\n    \\\"the son of Douglas Fairbanks\\\",\\n    '\\\"Mr Television\\\"',\\n    \\\"The Munsters\\\",\\n    \\\"star of the Buena Vista Social Club\\\",\\n    \\\"sound technician\\\",\\n    \\\"set decorator\\\",\\n    \\\"set\\\",\\n    \\\"cornetist\\\",\\n    \\\"beer expert\\\",\\n    \\\"influencer\\\",\\n    \\\"hula expert\\\",\\n    \\\"pundit\\\",\\n    \\\"concertmaster\\\",\\n    \\\"concert\\\",\\n    \\\"choral works\\\",\\n    \\\"work\\\",\\n    \\\"chairman of the\\\",\\n    \\\"costumier\\\",\\n    \\\"scenarist\\\",\\n    \\\"newspaper proprietor\\\",\\n    \\\"newspaper founder\\\",\\n    \\\"vlogger\\\",\\n    \\\"chairman of\\\",\\n    \\\"pin up girl\\\",\\n]\\narts = sorted(list(set(arts)), key=lambda x: len(x), reverse=True)\\n\\nsports = [\\n    \\\"organiser\\\",\\n    \\\"Hull KR\\\",\\n    \\\"Colchester United\\\",\\n    \\\"the AAU Phillips ers\\\",\\n    \\\"WBA featherweight champion from March through May\\\",\\n    \\\"former world light heavyweight champion\\\",\\n    \\\"World Light Heavyweight Champion\\\",\\n    \\\"heavyweight champion\\\",\\n    \\\"Hall of Famer\\\",\\n    \\\"Hall of Fame\\\",\\n    \\\"bushman\\\",\\n    \\\"caver\\\",\\n    \\\"sharpshooter\\\",\\n    \\\"wilderness guide\\\",\\n    \\\"guide\\\",\\n    \\\"Great\\\",\\n    \\\"the first person to reach summit of Mount Everest\\\",\\n    \\\"later FIA\\\",\\n]\\nsports = sorted(list(set(sports)), key=lambda x: len(x), reverse=True)\\n\\nsciences = [\\n    \\\"father of Joan Baez\\\",\\n    \\\"hoaxer\\\",\\n    \\\"Information at the University of Cambridge\\\",\\n    \\\"expert on hypertension\\\",\\n    \\\"grandson of Yuan Shikai\\\",\\n    \\\"crocodile expert\\\",\\n]\\nsciences = sorted(list(set(sciences)), key=lambda x: len(x), reverse=True)\\n\\nbusiness_farming = [\\n    \\\"Karl Strauss Brewing Company\\\",\\n    \\\"richest woman\\\",\\n    \\\"financial consultant\\\",\\n    \\\"Citybus\\\",\\n    \\\"CEO of The Coca Cola Company\\\",\\n    \\\"CEO of Johnson & Johnson\\\",\\n    \\\"CEO of Cubic Corporation\\\",\\n    \\\"CEO of General Motors\\\",\\n    \\\"CEO of Royal Shell\\\",\\n    \\\"CEO of corporation\\\",\\n    \\\"former CEO of ARCO\\\",\\n    \\\"CEO Panini Group\\\",\\n    \\\"CEO business\\\",\\n    \\\"CEO Griffon\\\",\\n    \\\"CEO of WD\\\",\\n    \\\"CEO of\\\",\\n    \\\"oil tycoon\\\",\\n    \\\"multimillionaire\\\",\\n    \\\"management consultant\\\",\\n    \\\"management\\\",\\n]\\nbusiness_farming = sorted(\\n    list(set(business_farming)), key=lambda x: len(x), reverse=True\\n)\\n\\nacademia_humanities = [\\n    \\\"principal of Wolfson College\\\",\\n    \\\"Rice University\\\",\\n    \\\"Professor of\\\",\\n    \\\"Records Administration\\\",\\n    \\\"Dean of Law School\\\",\\n    \\\"grammarian\\\",\\n    \\\"the Holocaust\\\",\\n    \\\"daughter of Zhu De\\\",\\n    \\\"Space Museum\\\",\\n    \\\"Keeper of the Public Records\\\",\\n]\\nacademia_humanities = sorted(\\n    list(set(academia_humanities)), key=lambda x: len(x), reverse=True\\n)\\n\\nlaw_enf_military_operator = [\\n    \\\"Geodetic Survey Corps\\\",\\n    \\\"forensic DNA expert\\\",\\n    \\\"Panzer ace\\\",\\n    \\\"veteran\\\",\\n]\\nlaw_enf_military_operator = sorted(\\n    list(set(law_enf_military_operator)), key=lambda x: len(x), reverse=True\\n)\\n\\nspiritual = [\\n    \\\"prefect of the Congregation for Divine Worship\\\",\\n    \\\"clergyman\\\",\\n    \\\"clergy\\\",\\n    \\\"Christian Doctrine\\\",\\n    \\\"Christian worship renewal\\\",\\n    \\\"fundamentalist Christian\\\",\\n    \\\"Christian\\\",\\n    \\\"rival of Robert Mugabe\\\",\\n    \\\"apologetics\\\",\\n    \\\"self proclaimed prophet\\\",\\n    \\\"later of the Antiochian Orthodox Church\\\",\\n    \\\"Cardinal\\\",\\n]\\nspiritual = sorted(list(set(spiritual)), key=lambda x: len(x), reverse=True)\\n\\nsocial = [\\\"expert on international health\\\", \\\"subject of\\\"]\\nsocial = sorted(list(set(social)), key=lambda x: len(x), reverse=True)\\n\\ncrime = [\\\"boss of the Lucchese crime family\\\", \\\"thief\\\"]\\ncrime = sorted(list(set(crime)), key=lambda x: len(x), reverse=True)\\n\\nevent_record_other = [\\n    \\\"Nancy Benoit\\\",\\n    \\\"eponym for Lucy Pevensie from\\\",\\n    \\\"abortion provider\\\",\\n]\\nevent_record_other = sorted(\\n    list(set(event_record_other)), key=lambda x: len(x), reverse=True\\n)\\n\\nother_species = [\\\"rescue dog for September\\\"]\\nother_species = sorted(list(set(other_species)), key=lambda x: len(x), reverse=True)\";\n",
       "                var nbb_cells = Jupyter.notebook.get_cells();\n",
       "                for (var i = 0; i < nbb_cells.length; ++i) {\n",
       "                    if (nbb_cells[i].input_prompt_number == nbb_cell_id) {\n",
       "                        if (nbb_cells[i].get_text() == nbb_unformatted_code) {\n",
       "                             nbb_cells[i].set_text(nbb_formatted_code);\n",
       "                        }\n",
       "                        break;\n",
       "                    }\n",
       "                }\n",
       "            }, 500);\n",
       "            "
      ],
      "text/plain": [
       "<IPython.core.display.Javascript object>"
      ]
     },
     "metadata": {},
     "output_type": "display_data"
    }
   ],
   "source": [
    "# Creating lists for each category and sorting by decreasing length and removing duplicates\n",
    "\n",
    "politics_govt_law = [\n",
    "    \"Emperor of Central\",\n",
    "    \"St Pancras South\",\n",
    "    \"wife of Oliver Tambo\",\n",
    "    \"Speaker of the House of Commons\",\n",
    "    \"son of W B Yeats\",\n",
    "    \"chair of the DAB\",\n",
    "    \"First Lady of\",\n",
    "    \"First Lady\",\n",
    "    \"Member of Lok Sabha\",\n",
    "    \"anti fascist\",\n",
    "    \"Politician\",\n",
    "    \"first female parliamentarian in the Arab world\",\n",
    "    \"serial parliamentary candidate\",\n",
    "    \"parliamentarian\",\n",
    "    \"neo nazi\",\n",
    "    \"last wife of Sir Sultan Muhammad Shah\",\n",
    "    \"testament\",\n",
    "    \"eldest son of Saddam Hussein\",\n",
    "    \"member\",\n",
    "    \"daughter of King Alfonso XIII\",\n",
    "    \"the mother of the th\",\n",
    "    \"litigator\",\n",
    "    \"key witness in the trial of Willem Holleeder\",\n",
    "    \"social security\",\n",
    "    \"Ingushetia\",\n",
    "    \"first lady\",\n",
    "    \"clan chief\",\n",
    "    \"opposition figure\",\n",
    "    \"anti Zionist\",\n",
    "    \"white nationalist\",\n",
    "    \"royal commissioner\",\n",
    "    \"Budget\",\n",
    "    \"Correspondent\",\n",
    "]\n",
    "politics_govt_law = sorted(\n",
    "    list(set(politics_govt_law)), key=lambda x: len(x), reverse=True\n",
    ")\n",
    "\n",
    "arts = [\n",
    "    \"enthusiast magazines\",\n",
    "    \"son of Mao Zedong\",\n",
    "    \"father of Mette Marit\",\n",
    "    \"modules\",\n",
    "    \"friend of Pablo Picasso\",\n",
    "    \"widow of John Coltrane\",\n",
    "    \"acoustician\",\n",
    "    \"Onyx affiliate\",\n",
    "    \"The Band\",\n",
    "    \"game show panelist\",\n",
    "    \"panelist\",\n",
    "    \"stylist\",\n",
    "    \"Minimalism movements\",\n",
    "    \"glazing master\",\n",
    "    \"son of Emmett Kelly\",\n",
    "    \"counter cultural figure\",\n",
    "    \"embroiderer\",\n",
    "    \"the son of Douglas Fairbanks\",\n",
    "    '\"Mr Television\"',\n",
    "    \"The Munsters\",\n",
    "    \"star of the Buena Vista Social Club\",\n",
    "    \"sound technician\",\n",
    "    \"set decorator\",\n",
    "    \"set\",\n",
    "    \"cornetist\",\n",
    "    \"beer expert\",\n",
    "    \"influencer\",\n",
    "    \"hula expert\",\n",
    "    \"pundit\",\n",
    "    \"concertmaster\",\n",
    "    \"concert\",\n",
    "    \"choral works\",\n",
    "    \"work\",\n",
    "    \"chairman of the\",\n",
    "    \"costumier\",\n",
    "    \"scenarist\",\n",
    "    \"newspaper proprietor\",\n",
    "    \"newspaper founder\",\n",
    "    \"vlogger\",\n",
    "    \"chairman of\",\n",
    "    \"pin up girl\",\n",
    "]\n",
    "arts = sorted(list(set(arts)), key=lambda x: len(x), reverse=True)\n",
    "\n",
    "sports = [\n",
    "    \"organiser\",\n",
    "    \"Hull KR\",\n",
    "    \"Colchester United\",\n",
    "    \"the AAU Phillips ers\",\n",
    "    \"WBA featherweight champion from March through May\",\n",
    "    \"former world light heavyweight champion\",\n",
    "    \"World Light Heavyweight Champion\",\n",
    "    \"heavyweight champion\",\n",
    "    \"Hall of Famer\",\n",
    "    \"Hall of Fame\",\n",
    "    \"bushman\",\n",
    "    \"caver\",\n",
    "    \"sharpshooter\",\n",
    "    \"wilderness guide\",\n",
    "    \"guide\",\n",
    "    \"Great\",\n",
    "    \"the first person to reach summit of Mount Everest\",\n",
    "    \"later FIA\",\n",
    "]\n",
    "sports = sorted(list(set(sports)), key=lambda x: len(x), reverse=True)\n",
    "\n",
    "sciences = [\n",
    "    \"father of Joan Baez\",\n",
    "    \"hoaxer\",\n",
    "    \"Information at the University of Cambridge\",\n",
    "    \"expert on hypertension\",\n",
    "    \"grandson of Yuan Shikai\",\n",
    "    \"crocodile expert\",\n",
    "]\n",
    "sciences = sorted(list(set(sciences)), key=lambda x: len(x), reverse=True)\n",
    "\n",
    "business_farming = [\n",
    "    \"Karl Strauss Brewing Company\",\n",
    "    \"richest woman\",\n",
    "    \"financial consultant\",\n",
    "    \"Citybus\",\n",
    "    \"CEO of The Coca Cola Company\",\n",
    "    \"CEO of Johnson & Johnson\",\n",
    "    \"CEO of Cubic Corporation\",\n",
    "    \"CEO of General Motors\",\n",
    "    \"CEO of Royal Shell\",\n",
    "    \"CEO of corporation\",\n",
    "    \"former CEO of ARCO\",\n",
    "    \"CEO Panini Group\",\n",
    "    \"CEO business\",\n",
    "    \"CEO Griffon\",\n",
    "    \"CEO of WD\",\n",
    "    \"CEO of\",\n",
    "    \"oil tycoon\",\n",
    "    \"multimillionaire\",\n",
    "    \"management consultant\",\n",
    "    \"management\",\n",
    "]\n",
    "business_farming = sorted(\n",
    "    list(set(business_farming)), key=lambda x: len(x), reverse=True\n",
    ")\n",
    "\n",
    "academia_humanities = [\n",
    "    \"principal of Wolfson College\",\n",
    "    \"Rice University\",\n",
    "    \"Professor of\",\n",
    "    \"Records Administration\",\n",
    "    \"Dean of Law School\",\n",
    "    \"grammarian\",\n",
    "    \"the Holocaust\",\n",
    "    \"daughter of Zhu De\",\n",
    "    \"Space Museum\",\n",
    "    \"Keeper of the Public Records\",\n",
    "]\n",
    "academia_humanities = sorted(\n",
    "    list(set(academia_humanities)), key=lambda x: len(x), reverse=True\n",
    ")\n",
    "\n",
    "law_enf_military_operator = [\n",
    "    \"Geodetic Survey Corps\",\n",
    "    \"forensic DNA expert\",\n",
    "    \"Panzer ace\",\n",
    "    \"veteran\",\n",
    "]\n",
    "law_enf_military_operator = sorted(\n",
    "    list(set(law_enf_military_operator)), key=lambda x: len(x), reverse=True\n",
    ")\n",
    "\n",
    "spiritual = [\n",
    "    \"prefect of the Congregation for Divine Worship\",\n",
    "    \"clergyman\",\n",
    "    \"clergy\",\n",
    "    \"Christian Doctrine\",\n",
    "    \"Christian worship renewal\",\n",
    "    \"fundamentalist Christian\",\n",
    "    \"Christian\",\n",
    "    \"rival of Robert Mugabe\",\n",
    "    \"apologetics\",\n",
    "    \"self proclaimed prophet\",\n",
    "    \"later of the Antiochian Orthodox Church\",\n",
    "    \"Cardinal\",\n",
    "]\n",
    "spiritual = sorted(list(set(spiritual)), key=lambda x: len(x), reverse=True)\n",
    "\n",
    "social = [\"expert on international health\", \"subject of\"]\n",
    "social = sorted(list(set(social)), key=lambda x: len(x), reverse=True)\n",
    "\n",
    "crime = [\"boss of the Lucchese crime family\", \"thief\"]\n",
    "crime = sorted(list(set(crime)), key=lambda x: len(x), reverse=True)\n",
    "\n",
    "event_record_other = [\n",
    "    \"Nancy Benoit\",\n",
    "    \"eponym for Lucy Pevensie from\",\n",
    "    \"abortion provider\",\n",
    "]\n",
    "event_record_other = sorted(\n",
    "    list(set(event_record_other)), key=lambda x: len(x), reverse=True\n",
    ")\n",
    "\n",
    "other_species = [\"rescue dog for September\"]\n",
    "other_species = sorted(list(set(other_species)), key=lambda x: len(x), reverse=True)"
   ]
  },
  {
   "cell_type": "code",
   "execution_count": 150,
   "id": "7e407c07",
   "metadata": {},
   "outputs": [
    {
     "data": {
      "application/javascript": [
       "\n",
       "            setTimeout(function() {\n",
       "                var nbb_cell_id = 150;\n",
       "                var nbb_unformatted_code = \"# Dropping info_3_0 value for entry for correct categorization\\nindex = df[df[\\\"link\\\"] == \\\"https://en.wikipedia.org/wiki/Sven_O._H%C3%B8iby\\\"].index\\ndf.loc[index, \\\"info_3_0\\\"] = \\\"\\\"\\n\\n# Dropping entry with link that points to husband's page\\nindex = df[df[\\\"link\\\"] == \\\"https://en.wikipedia.org/wiki/Sylvia_Straus\\\"].index\\ndf.drop(index, inplace=True)\\ndf.reset_index(inplace=True, drop=True)\";\n",
       "                var nbb_formatted_code = \"# Dropping info_3_0 value for entry for correct categorization\\nindex = df[df[\\\"link\\\"] == \\\"https://en.wikipedia.org/wiki/Sven_O._H%C3%B8iby\\\"].index\\ndf.loc[index, \\\"info_3_0\\\"] = \\\"\\\"\\n\\n# Dropping entry with link that points to husband's page\\nindex = df[df[\\\"link\\\"] == \\\"https://en.wikipedia.org/wiki/Sylvia_Straus\\\"].index\\ndf.drop(index, inplace=True)\\ndf.reset_index(inplace=True, drop=True)\";\n",
       "                var nbb_cells = Jupyter.notebook.get_cells();\n",
       "                for (var i = 0; i < nbb_cells.length; ++i) {\n",
       "                    if (nbb_cells[i].input_prompt_number == nbb_cell_id) {\n",
       "                        if (nbb_cells[i].get_text() == nbb_unformatted_code) {\n",
       "                             nbb_cells[i].set_text(nbb_formatted_code);\n",
       "                        }\n",
       "                        break;\n",
       "                    }\n",
       "                }\n",
       "            }, 500);\n",
       "            "
      ],
      "text/plain": [
       "<IPython.core.display.Javascript object>"
      ]
     },
     "metadata": {},
     "output_type": "display_data"
    }
   ],
   "source": [
    "# Dropping info_3_0 value for entry for correct categorization\n",
    "index = df[df[\"link\"] == \"https://en.wikipedia.org/wiki/Sven_O._H%C3%B8iby\"].index\n",
    "df.loc[index, \"info_3_0\"] = \"\"\n",
    "\n",
    "# Dropping entry with link that points to husband's page\n",
    "index = df[df[\"link\"] == \"https://en.wikipedia.org/wiki/Sylvia_Straus\"].index\n",
    "df.drop(index, inplace=True)\n",
    "df.reset_index(inplace=True, drop=True)"
   ]
  },
  {
   "cell_type": "markdown",
   "id": "14c486bf",
   "metadata": {},
   "source": [
    "#### Creating `known_for_dict` Dictionary of Category Keys and Specific Role Lists of Values"
   ]
  },
  {
   "cell_type": "code",
   "execution_count": 151,
   "id": "1dff2233",
   "metadata": {},
   "outputs": [
    {
     "data": {
      "application/javascript": [
       "\n",
       "            setTimeout(function() {\n",
       "                var nbb_cell_id = 151;\n",
       "                var nbb_unformatted_code = \"# Combining separate lists into one dictionary\\nknown_for_dict = {\\n    \\\"social\\\": social,\\n    \\\"spiritual\\\": spiritual,\\n    \\\"academia_humanities\\\": academia_humanities,\\n    \\\"business_farming\\\": business_farming,\\n    \\\"sciences\\\": sciences,\\n    \\\"politics_govt_law\\\": politics_govt_law,\\n    \\\"law_enf_military_operator\\\": law_enf_military_operator,\\n    \\\"crime\\\": crime,\\n    \\\"event_record_other\\\": event_record_other,\\n    \\\"other_species\\\": other_species,\\n    \\\"arts\\\": arts,\\n    \\\"sports\\\": sports,\\n}\";\n",
       "                var nbb_formatted_code = \"# Combining separate lists into one dictionary\\nknown_for_dict = {\\n    \\\"social\\\": social,\\n    \\\"spiritual\\\": spiritual,\\n    \\\"academia_humanities\\\": academia_humanities,\\n    \\\"business_farming\\\": business_farming,\\n    \\\"sciences\\\": sciences,\\n    \\\"politics_govt_law\\\": politics_govt_law,\\n    \\\"law_enf_military_operator\\\": law_enf_military_operator,\\n    \\\"crime\\\": crime,\\n    \\\"event_record_other\\\": event_record_other,\\n    \\\"other_species\\\": other_species,\\n    \\\"arts\\\": arts,\\n    \\\"sports\\\": sports,\\n}\";\n",
       "                var nbb_cells = Jupyter.notebook.get_cells();\n",
       "                for (var i = 0; i < nbb_cells.length; ++i) {\n",
       "                    if (nbb_cells[i].input_prompt_number == nbb_cell_id) {\n",
       "                        if (nbb_cells[i].get_text() == nbb_unformatted_code) {\n",
       "                             nbb_cells[i].set_text(nbb_formatted_code);\n",
       "                        }\n",
       "                        break;\n",
       "                    }\n",
       "                }\n",
       "            }, 500);\n",
       "            "
      ],
      "text/plain": [
       "<IPython.core.display.Javascript object>"
      ]
     },
     "metadata": {},
     "output_type": "display_data"
    }
   ],
   "source": [
    "# Combining separate lists into one dictionary\n",
    "known_for_dict = {\n",
    "    \"social\": social,\n",
    "    \"spiritual\": spiritual,\n",
    "    \"academia_humanities\": academia_humanities,\n",
    "    \"business_farming\": business_farming,\n",
    "    \"sciences\": sciences,\n",
    "    \"politics_govt_law\": politics_govt_law,\n",
    "    \"law_enf_military_operator\": law_enf_military_operator,\n",
    "    \"crime\": crime,\n",
    "    \"event_record_other\": event_record_other,\n",
    "    \"other_species\": other_species,\n",
    "    \"arts\": arts,\n",
    "    \"sports\": sports,\n",
    "}"
   ]
  },
  {
   "cell_type": "markdown",
   "id": "93133f7d",
   "metadata": {},
   "source": [
    "#### Extracting Category from `info_2_1`"
   ]
  },
  {
   "cell_type": "code",
   "execution_count": 152,
   "id": "94a5b983",
   "metadata": {},
   "outputs": [
    {
     "name": "stdout",
     "output_type": "stream",
     "text": [
      "CPU times: total: 18 s\n",
      "Wall time: 18 s\n"
     ]
    },
    {
     "data": {
      "application/javascript": [
       "\n",
       "            setTimeout(function() {\n",
       "                var nbb_cell_id = 152;\n",
       "                var nbb_unformatted_code = \"%%time\\n\\n# Column to check\\ncolumn = 'info_2_1'\\n\\n# Start dataframe\\ndataframe = df[df[column].notna()]\\n\\n# For loop to find role in column and extract it as category\\nfor category, category_lst in known_for_dict.items():\\n    for role in category_lst:\\n        for index in dataframe.index:\\n                item = df.loc[index, column]\\n                if item:\\n                    if role in item:\\n                        df.loc[index, category] = 1\\n                        df.loc[index, column] = item.replace(role, '').strip()\\n\\n# Calculating num_categories\\ndf[\\\"num_categories\\\"] = df[known_for_dict.keys()].sum(axis=1)\";\n",
       "                var nbb_formatted_code = \"%%time\\n\\n# Column to check\\ncolumn = 'info_2_1'\\n\\n# Start dataframe\\ndataframe = df[df[column].notna()]\\n\\n# For loop to find role in column and extract it as category\\nfor category, category_lst in known_for_dict.items():\\n    for role in category_lst:\\n        for index in dataframe.index:\\n                item = df.loc[index, column]\\n                if item:\\n                    if role in item:\\n                        df.loc[index, category] = 1\\n                        df.loc[index, column] = item.replace(role, '').strip()\\n\\n# Calculating num_categories\\ndf[\\\"num_categories\\\"] = df[known_for_dict.keys()].sum(axis=1)\";\n",
       "                var nbb_cells = Jupyter.notebook.get_cells();\n",
       "                for (var i = 0; i < nbb_cells.length; ++i) {\n",
       "                    if (nbb_cells[i].input_prompt_number == nbb_cell_id) {\n",
       "                        if (nbb_cells[i].get_text() == nbb_unformatted_code) {\n",
       "                             nbb_cells[i].set_text(nbb_formatted_code);\n",
       "                        }\n",
       "                        break;\n",
       "                    }\n",
       "                }\n",
       "            }, 500);\n",
       "            "
      ],
      "text/plain": [
       "<IPython.core.display.Javascript object>"
      ]
     },
     "metadata": {},
     "output_type": "display_data"
    }
   ],
   "source": [
    "%%time\n",
    "\n",
    "# Column to check\n",
    "column = 'info_2_1'\n",
    "\n",
    "# Start dataframe\n",
    "dataframe = df[df[column].notna()]\n",
    "\n",
    "# For loop to find role in column and extract it as category\n",
    "for category, category_lst in known_for_dict.items():\n",
    "    for role in category_lst:\n",
    "        for index in dataframe.index:\n",
    "                item = df.loc[index, column]\n",
    "                if item:\n",
    "                    if role in item:\n",
    "                        df.loc[index, category] = 1\n",
    "                        df.loc[index, column] = item.replace(role, '').strip()\n",
    "\n",
    "# Calculating num_categories\n",
    "df[\"num_categories\"] = df[known_for_dict.keys()].sum(axis=1)"
   ]
  },
  {
   "cell_type": "markdown",
   "id": "badf8985",
   "metadata": {},
   "source": [
    "#### Checking Updated `num_categories` Value Counts"
   ]
  },
  {
   "cell_type": "code",
   "execution_count": 153,
   "id": "9ce8f885",
   "metadata": {},
   "outputs": [
    {
     "data": {
      "text/plain": [
       "1    88296\n",
       "2     9510\n",
       "3      173\n",
       "0       62\n",
       "Name: num_categories, dtype: int64"
      ]
     },
     "execution_count": 153,
     "metadata": {},
     "output_type": "execute_result"
    },
    {
     "data": {
      "application/javascript": [
       "\n",
       "            setTimeout(function() {\n",
       "                var nbb_cell_id = 153;\n",
       "                var nbb_unformatted_code = \"# Checking updated num_categories value counts\\ndf[\\\"num_categories\\\"].value_counts()\";\n",
       "                var nbb_formatted_code = \"# Checking updated num_categories value counts\\ndf[\\\"num_categories\\\"].value_counts()\";\n",
       "                var nbb_cells = Jupyter.notebook.get_cells();\n",
       "                for (var i = 0; i < nbb_cells.length; ++i) {\n",
       "                    if (nbb_cells[i].input_prompt_number == nbb_cell_id) {\n",
       "                        if (nbb_cells[i].get_text() == nbb_unformatted_code) {\n",
       "                             nbb_cells[i].set_text(nbb_formatted_code);\n",
       "                        }\n",
       "                        break;\n",
       "                    }\n",
       "                }\n",
       "            }, 500);\n",
       "            "
      ],
      "text/plain": [
       "<IPython.core.display.Javascript object>"
      ]
     },
     "metadata": {},
     "output_type": "display_data"
    }
   ],
   "source": [
    "# Checking updated num_categories value counts\n",
    "df[\"num_categories\"].value_counts()"
   ]
  },
  {
   "cell_type": "markdown",
   "id": "18d8f8b2",
   "metadata": {},
   "source": [
    "#### Observations:\n",
    "- We will proceed to rebuild `known_for_dict` for the next iteration."
   ]
  },
  {
   "cell_type": "markdown",
   "id": "a39b9c9b",
   "metadata": {},
   "source": [
    "#### Finding `known_for` Roles in `info_2_1`"
   ]
  },
  {
   "cell_type": "code",
   "execution_count": 440,
   "id": "f3531e11",
   "metadata": {},
   "outputs": [
    {
     "data": {
      "application/javascript": [
       "\n",
       "            setTimeout(function() {\n",
       "                var nbb_cell_id = 440;\n",
       "                var nbb_unformatted_code = \"# # Obtaining values for column and their counts\\n# roles_list = df[\\\"info_2_1\\\"].value_counts(ascending=True).index.tolist()\";\n",
       "                var nbb_formatted_code = \"# # Obtaining values for column and their counts\\n# roles_list = df[\\\"info_2_1\\\"].value_counts(ascending=True).index.tolist()\";\n",
       "                var nbb_cells = Jupyter.notebook.get_cells();\n",
       "                for (var i = 0; i < nbb_cells.length; ++i) {\n",
       "                    if (nbb_cells[i].input_prompt_number == nbb_cell_id) {\n",
       "                        if (nbb_cells[i].get_text() == nbb_unformatted_code) {\n",
       "                             nbb_cells[i].set_text(nbb_formatted_code);\n",
       "                        }\n",
       "                        break;\n",
       "                    }\n",
       "                }\n",
       "            }, 500);\n",
       "            "
      ],
      "text/plain": [
       "<IPython.core.display.Javascript object>"
      ]
     },
     "metadata": {},
     "output_type": "display_data"
    }
   ],
   "source": [
    "# # Obtaining values for column and their counts\n",
    "# roles_list = df[\"info_2_1\"].value_counts(ascending=True).index.tolist()"
   ]
  },
  {
   "cell_type": "code",
   "execution_count": 441,
   "id": "79951c15",
   "metadata": {},
   "outputs": [
    {
     "data": {
      "application/javascript": [
       "\n",
       "            setTimeout(function() {\n",
       "                var nbb_cell_id = 441;\n",
       "                var nbb_unformatted_code = \"# # Code to check each value\\n# roles_list.pop()\";\n",
       "                var nbb_formatted_code = \"# # Code to check each value\\n# roles_list.pop()\";\n",
       "                var nbb_cells = Jupyter.notebook.get_cells();\n",
       "                for (var i = 0; i < nbb_cells.length; ++i) {\n",
       "                    if (nbb_cells[i].input_prompt_number == nbb_cell_id) {\n",
       "                        if (nbb_cells[i].get_text() == nbb_unformatted_code) {\n",
       "                             nbb_cells[i].set_text(nbb_formatted_code);\n",
       "                        }\n",
       "                        break;\n",
       "                    }\n",
       "                }\n",
       "            }, 500);\n",
       "            "
      ],
      "text/plain": [
       "<IPython.core.display.Javascript object>"
      ]
     },
     "metadata": {},
     "output_type": "display_data"
    }
   ],
   "source": [
    "# # Code to check each value\n",
    "# roles_list.pop()"
   ]
  },
  {
   "cell_type": "code",
   "execution_count": 442,
   "id": "c8f3347f",
   "metadata": {},
   "outputs": [
    {
     "data": {
      "application/javascript": [
       "\n",
       "            setTimeout(function() {\n",
       "                var nbb_cell_id = 442;\n",
       "                var nbb_unformatted_code = \"# # Create specific_roles_list for above popped value\\n# specific_roles_list = (\\n#     df.loc[\\n#         [\\n#             index\\n#             for index in df[df[\\\"info_2_1\\\"].notna()].index\\n#             if \\\"Fort Worth\\\" in df.loc[index, \\\"info_2_1\\\"]\\n#         ],\\n#         \\\"info_2_1\\\",\\n#     ]\\n#     .value_counts()\\n#     .index.tolist()\\n# )\";\n",
       "                var nbb_formatted_code = \"# # Create specific_roles_list for above popped value\\n# specific_roles_list = (\\n#     df.loc[\\n#         [\\n#             index\\n#             for index in df[df[\\\"info_2_1\\\"].notna()].index\\n#             if \\\"Fort Worth\\\" in df.loc[index, \\\"info_2_1\\\"]\\n#         ],\\n#         \\\"info_2_1\\\",\\n#     ]\\n#     .value_counts()\\n#     .index.tolist()\\n# )\";\n",
       "                var nbb_cells = Jupyter.notebook.get_cells();\n",
       "                for (var i = 0; i < nbb_cells.length; ++i) {\n",
       "                    if (nbb_cells[i].input_prompt_number == nbb_cell_id) {\n",
       "                        if (nbb_cells[i].get_text() == nbb_unformatted_code) {\n",
       "                             nbb_cells[i].set_text(nbb_formatted_code);\n",
       "                        }\n",
       "                        break;\n",
       "                    }\n",
       "                }\n",
       "            }, 500);\n",
       "            "
      ],
      "text/plain": [
       "<IPython.core.display.Javascript object>"
      ]
     },
     "metadata": {},
     "output_type": "display_data"
    }
   ],
   "source": [
    "# # Create specific_roles_list for above popped value\n",
    "# specific_roles_list = (\n",
    "#     df.loc[\n",
    "#         [\n",
    "#             index\n",
    "#             for index in df[df[\"info_2_1\"].notna()].index\n",
    "#             if \"Fort Worth\" in df.loc[index, \"info_2_1\"]\n",
    "#         ],\n",
    "#         \"info_2_1\",\n",
    "#     ]\n",
    "#     .value_counts()\n",
    "#     .index.tolist()\n",
    "# )"
   ]
  },
  {
   "cell_type": "code",
   "execution_count": 443,
   "id": "00805192",
   "metadata": {},
   "outputs": [
    {
     "data": {
      "application/javascript": [
       "\n",
       "            setTimeout(function() {\n",
       "                var nbb_cell_id = 443;\n",
       "                var nbb_unformatted_code = \"# # Viewing list sorted by descending length to copy to dictionary below and screen values\\n# sorted(specific_roles_list, key=lambda x: len(x), reverse=True)\";\n",
       "                var nbb_formatted_code = \"# # Viewing list sorted by descending length to copy to dictionary below and screen values\\n# sorted(specific_roles_list, key=lambda x: len(x), reverse=True)\";\n",
       "                var nbb_cells = Jupyter.notebook.get_cells();\n",
       "                for (var i = 0; i < nbb_cells.length; ++i) {\n",
       "                    if (nbb_cells[i].input_prompt_number == nbb_cell_id) {\n",
       "                        if (nbb_cells[i].get_text() == nbb_unformatted_code) {\n",
       "                             nbb_cells[i].set_text(nbb_formatted_code);\n",
       "                        }\n",
       "                        break;\n",
       "                    }\n",
       "                }\n",
       "            }, 500);\n",
       "            "
      ],
      "text/plain": [
       "<IPython.core.display.Javascript object>"
      ]
     },
     "metadata": {},
     "output_type": "display_data"
    }
   ],
   "source": [
    "# # Viewing list sorted by descending length to copy to dictionary below and screen values\n",
    "# sorted(specific_roles_list, key=lambda x: len(x), reverse=True)"
   ]
  },
  {
   "cell_type": "code",
   "execution_count": 444,
   "id": "5c8e0cbb",
   "metadata": {},
   "outputs": [
    {
     "data": {
      "application/javascript": [
       "\n",
       "            setTimeout(function() {\n",
       "                var nbb_cell_id = 444;\n",
       "                var nbb_unformatted_code = \"# # Example code to check additional category for specific entries\\n# df.loc[\\n#     [\\n#         index\\n#         for index in df.index\\n#         if df.loc[index, \\\"info_2_1\\\"] == \\\"judge\\\"\\n#         and df.loc[index, \\\"politics_govt_law\\\"] == 0\\n#     ],\\n#     :,\\n# ]\";\n",
       "                var nbb_formatted_code = \"# # Example code to check additional category for specific entries\\n# df.loc[\\n#     [\\n#         index\\n#         for index in df.index\\n#         if df.loc[index, \\\"info_2_1\\\"] == \\\"judge\\\"\\n#         and df.loc[index, \\\"politics_govt_law\\\"] == 0\\n#     ],\\n#     :,\\n# ]\";\n",
       "                var nbb_cells = Jupyter.notebook.get_cells();\n",
       "                for (var i = 0; i < nbb_cells.length; ++i) {\n",
       "                    if (nbb_cells[i].input_prompt_number == nbb_cell_id) {\n",
       "                        if (nbb_cells[i].get_text() == nbb_unformatted_code) {\n",
       "                             nbb_cells[i].set_text(nbb_formatted_code);\n",
       "                        }\n",
       "                        break;\n",
       "                    }\n",
       "                }\n",
       "            }, 500);\n",
       "            "
      ],
      "text/plain": [
       "<IPython.core.display.Javascript object>"
      ]
     },
     "metadata": {},
     "output_type": "display_data"
    }
   ],
   "source": [
    "# # Example code to check additional category for specific entries\n",
    "# df.loc[\n",
    "#     [\n",
    "#         index\n",
    "#         for index in df.index\n",
    "#         if df.loc[index, \"info_2_1\"] == \"judge\"\n",
    "#         and df.loc[index, \"politics_govt_law\"] == 0\n",
    "#     ],\n",
    "#     :,\n",
    "# ]"
   ]
  },
  {
   "cell_type": "code",
   "execution_count": 445,
   "id": "dfc28e06",
   "metadata": {},
   "outputs": [
    {
     "data": {
      "application/javascript": [
       "\n",
       "            setTimeout(function() {\n",
       "                var nbb_cell_id = 445;\n",
       "                var nbb_unformatted_code = \"# # Example code to quick-check a specific entry\\n# df[df[\\\"info_2_1\\\"] == \\\"Fort Worth\\\"]\";\n",
       "                var nbb_formatted_code = \"# # Example code to quick-check a specific entry\\n# df[df[\\\"info_2_1\\\"] == \\\"Fort Worth\\\"]\";\n",
       "                var nbb_cells = Jupyter.notebook.get_cells();\n",
       "                for (var i = 0; i < nbb_cells.length; ++i) {\n",
       "                    if (nbb_cells[i].input_prompt_number == nbb_cell_id) {\n",
       "                        if (nbb_cells[i].get_text() == nbb_unformatted_code) {\n",
       "                             nbb_cells[i].set_text(nbb_formatted_code);\n",
       "                        }\n",
       "                        break;\n",
       "                    }\n",
       "                }\n",
       "            }, 500);\n",
       "            "
      ],
      "text/plain": [
       "<IPython.core.display.Javascript object>"
      ]
     },
     "metadata": {},
     "output_type": "display_data"
    }
   ],
   "source": [
    "# # Example code to quick-check a specific entry\n",
    "# df[df[\"info_2_1\"] == \"Fort Worth\"]"
   ]
  },
  {
   "cell_type": "markdown",
   "id": "6cc7c87b",
   "metadata": {},
   "source": [
    "#### Creating Lists for Each `known_for` Category"
   ]
  },
  {
   "cell_type": "code",
   "execution_count": 446,
   "id": "2ec95686",
   "metadata": {},
   "outputs": [
    {
     "data": {
      "application/javascript": [
       "\n",
       "            setTimeout(function() {\n",
       "                var nbb_cell_id = 446;\n",
       "                var nbb_unformatted_code = \"# Creating lists for each category and sorting by decreasing length and removing duplicates\\n\\npolitics_govt_law = [\\n    \\\"causes\\\",\\n    \\\"House of Representatives representative\\\",\\n    \\\"Representative from Alabama\\\",\\n    \\\"Nantwich\\\",\\n    \\\"Maguire Seven\\\",\\n    \\\"international relations specialist\\\",\\n    \\\"first female chief justice of the North Carolina Supreme Court\\\",\\n    \\\"a key figure in the Watergate investigation\\\",\\n    \\\"Attorney for the Southern District of\\\",\\n    \\\"th Omukama of the Kingdom of Toro\\\",\\n    \\\"elder sister of the last Shah of\\\",\\n    \\\"Marshal of the Diplomatic Corps\\\",\\n    \\\"grandmother of King Felipe VI\\\",\\n    '\\\"fixer\\\" for the Chicago Mafia',\\n    \\\"Head of the House of Hesse\\\",\\n    \\\"father of Hassan Khomeini\\\",\\n    \\\"Chief of Protocol of the\\\",\\n    \\\"father of Al Gore\\\",\\n    \\\"the Official IRA\\\",\\n    \\\"homemaker\\\",\\n    \\\"Commissioner of Education\\\",\\n    \\\"High Commissioner of\\\",\\n    \\\"later a neo figure\\\",\\n    \\\"neo\\\",\\n    \\\"wife of prince Nakkhatra Mangala\\\",\\n    \\\"ATSIC commissioner\\\",\\n    \\\"campaign organizer\\\",\\n    \\\"Infante\\\",\\n    \\\"Idi Amin\\\",\\n    \\\"Philadelphia City Councilwoman\\\",\\n    \\\"councilman\\\",\\n    \\\"national policy advisor\\\",\\n    \\\"refusenik\\\",\\n    \\\"National Treasure\\\",\\n    \\\"aide de camp to Queen Elizabeth II\\\",\\n]\\npolitics_govt_law = sorted(\\n    list(set(politics_govt_law)), key=lambda x: len(x), reverse=True\\n)\\n\\narts = [\\n    \\\"Harpers Bizarre\\\",\\n    \\\"Conway Twitty\\\",\\n    \\\"wife of Doc Williams\\\",\\n    \\\"roll\\\",\\n    \\\"shooting continuity specialist\\\",\\n    \\\"The Pale\\\",\\n    \\\"quilter\\\",\\n    \\\"spokesperson for the Bay City Rollers\\\",\\n    \\\"CEO\\\",\\n    \\\"chairwoman of the Bromsgrove Festival\\\",\\n    \\\"brother of Chespirito\\\",\\n    \\\"seamstress in the\\\",\\n    \\\"mother of Sarah\\\",\\n    \\\"freethought\\\",\\n    \\\"strips\\\",\\n    \\\"wife of John F Kennedy Jr\\\",\\n    \\\"short stories\\\",\\n    \\\"mistress of John F Kennedy\\\",\\n    \\\"obituarist\\\",\\n    \\\"sousaphonist\\\",\\n    \\\"iconoclast\\\",\\n    \\\"recitalist\\\",\\n    \\\"Commonwealth Games gold medallist\\\",\\n    \\\"Tar master\\\",\\n    \\\"research pediatrician\\\",\\n    \\\"pediatrician\\\",\\n    \\\"pageant contestant\\\",\\n]\\narts = sorted(list(set(arts)), key=lambda x: len(x), reverse=True)\\n\\nsports = [\\n    \\\"Busby Babe\\\",\\n    \\\"the Columbus Blue Jackets\\\",\\n    \\\"alpinist\\\",\\n    \\\"yo yo world champion\\\",\\n    \\\"silver medalist\\\",\\n    \\\"the Columbus Blue Jackets\\\",\\n    \\\"the Baltimore Colts\\\",\\n    \\\"balloonist\\\",\\n    \\\"trotting\\\",\\n    \\\"bobsledder\\\",\\n    \\\"optometrist\\\",\\n    \\\"snowboarding\\\",\\n    \\\"snowboarder\\\",\\n]\\nsports = sorted(list(set(sports)), key=lambda x: len(x), reverse=True)\\n\\nsciences = [\\n    \\\"Sciences\\\",\\n    \\\"the tranquilizer gun\\\",\\n    \\\"specialist in solid state laser\\\",\\n    \\\"thoracic specialist\\\",\\n    \\\"equine specialist\\\",\\n    \\\"the second Director of Lockheed Skunk Works from to\\\",\\n    \\\"midwife\\\",\\n    \\\"of Re evaluation Counseling\\\",\\n    \\\"student of Carl Jung\\\",\\n    \\\"influenza vaccine expert\\\",\\n    \\\"mass spectrometrist\\\",\\n    \\\"paranormal expert\\\",\\n    \\\"geotechnician\\\",\\n    \\\"fauna\\\",\\n]\\nsciences = sorted(list(set(sciences)), key=lambda x: len(x), reverse=True)\\n\\nbusiness_farming = [\\n    \\\"Trust Company\\\",\\n    \\\"matriarch of the Bronfman family\\\",\\n    \\\"father of Donald Trump\\\",\\n    \\\"proprietor of the\\\",\\n    \\\"publican\\\",\\n]\\nbusiness_farming = sorted(\\n    list(set(business_farming)), key=lambda x: len(x), reverse=True\\n)\\n\\nacademia_humanities = [\\n    \\\"Central\\\",\\n    \\\"Mother of Kanye West\\\",\\n    'one of the \\\"Monuments Men\\\"',\\n    \\\"Pacific Islands language specialist\\\",\\n    \\\"chairman\\\",\\n    \\\"the first Rector Magnificus of the University of Twente\\\",\\n    \\\"palaeography\\\",\\n    \\\"college principal\\\",\\n]\\nacademia_humanities = sorted(\\n    list(set(academia_humanities)), key=lambda x: len(x), reverse=True\\n)\\n\\nlaw_enf_military_operator = [\\n    \\\"former\\\",\\n    \\\"county sheriff\\\",\\n    \\\"Commissioner of the Federal Police\\\",\\n    \\\"third Sarsanghchalak of the RSS\\\",\\n    \\\"Righteous Among the Nations\\\",\\n    \\\"Chief of the General Staff\\\",\\n    \\\"the War\\\",\\n    \\\"Commander in Chief\\\",\\n    \\\"PIRA volunteer\\\",\\n    \\\"escapee\\\",\\n]\\nlaw_enf_military_operator = sorted(\\n    list(set(law_enf_military_operator)), key=lambda x: len(x), reverse=True\\n)\\n\\nspiritual = [\\n    \\\"Grand Master Emeritus of the Equestrian Order of the Holy Sepulchre of\\\",\\n    \\\"Grand Master of the Sovereign Military Order of\\\",\\n    \\\"theistic evolutionist\\\",\\n    \\\"the Whole Levant\\\",\\n    \\\"thealogian\\\",\\n    \\\"the occult\\\",\\n    \\\"atheist\\\",\\n    \\\"Fort Worth\\\",\\n]\\nspiritual = sorted(list(set(spiritual)), key=lambda x: len(x), reverse=True)\\n\\nsocial = [\\\"Philanthropist\\\", \\\"interfaith\\\"]\\nsocial = sorted(list(set(social)), key=lambda x: len(x), reverse=True)\\n\\ncrime = [\\n    \\\"aircraft hijacker\\\",\\n    \\\"conspirator in the Watergate scandal\\\",\\n    \\\"twin brother of Reggie Kray\\\",\\n    \\\"hitman\\\",\\n    \\\"impostor\\\",\\n]\\ncrime = sorted(list(set(crime)), key=lambda x: len(x), reverse=True)\\n\\nevent_record_other = [\\\"murder suspect\\\", \\\"suspect in several murders\\\"]\\nevent_record_other = sorted(\\n    list(set(event_record_other)), key=lambda x: len(x), reverse=True\\n)\\n\\nother_species = [\\\"fame\\\"]\\nother_species = sorted(list(set(other_species)), key=lambda x: len(x), reverse=True)\";\n",
       "                var nbb_formatted_code = \"# Creating lists for each category and sorting by decreasing length and removing duplicates\\n\\npolitics_govt_law = [\\n    \\\"causes\\\",\\n    \\\"House of Representatives representative\\\",\\n    \\\"Representative from Alabama\\\",\\n    \\\"Nantwich\\\",\\n    \\\"Maguire Seven\\\",\\n    \\\"international relations specialist\\\",\\n    \\\"first female chief justice of the North Carolina Supreme Court\\\",\\n    \\\"a key figure in the Watergate investigation\\\",\\n    \\\"Attorney for the Southern District of\\\",\\n    \\\"th Omukama of the Kingdom of Toro\\\",\\n    \\\"elder sister of the last Shah of\\\",\\n    \\\"Marshal of the Diplomatic Corps\\\",\\n    \\\"grandmother of King Felipe VI\\\",\\n    '\\\"fixer\\\" for the Chicago Mafia',\\n    \\\"Head of the House of Hesse\\\",\\n    \\\"father of Hassan Khomeini\\\",\\n    \\\"Chief of Protocol of the\\\",\\n    \\\"father of Al Gore\\\",\\n    \\\"the Official IRA\\\",\\n    \\\"homemaker\\\",\\n    \\\"Commissioner of Education\\\",\\n    \\\"High Commissioner of\\\",\\n    \\\"later a neo figure\\\",\\n    \\\"neo\\\",\\n    \\\"wife of prince Nakkhatra Mangala\\\",\\n    \\\"ATSIC commissioner\\\",\\n    \\\"campaign organizer\\\",\\n    \\\"Infante\\\",\\n    \\\"Idi Amin\\\",\\n    \\\"Philadelphia City Councilwoman\\\",\\n    \\\"councilman\\\",\\n    \\\"national policy advisor\\\",\\n    \\\"refusenik\\\",\\n    \\\"National Treasure\\\",\\n    \\\"aide de camp to Queen Elizabeth II\\\",\\n]\\npolitics_govt_law = sorted(\\n    list(set(politics_govt_law)), key=lambda x: len(x), reverse=True\\n)\\n\\narts = [\\n    \\\"Harpers Bizarre\\\",\\n    \\\"Conway Twitty\\\",\\n    \\\"wife of Doc Williams\\\",\\n    \\\"roll\\\",\\n    \\\"shooting continuity specialist\\\",\\n    \\\"The Pale\\\",\\n    \\\"quilter\\\",\\n    \\\"spokesperson for the Bay City Rollers\\\",\\n    \\\"CEO\\\",\\n    \\\"chairwoman of the Bromsgrove Festival\\\",\\n    \\\"brother of Chespirito\\\",\\n    \\\"seamstress in the\\\",\\n    \\\"mother of Sarah\\\",\\n    \\\"freethought\\\",\\n    \\\"strips\\\",\\n    \\\"wife of John F Kennedy Jr\\\",\\n    \\\"short stories\\\",\\n    \\\"mistress of John F Kennedy\\\",\\n    \\\"obituarist\\\",\\n    \\\"sousaphonist\\\",\\n    \\\"iconoclast\\\",\\n    \\\"recitalist\\\",\\n    \\\"Commonwealth Games gold medallist\\\",\\n    \\\"Tar master\\\",\\n    \\\"research pediatrician\\\",\\n    \\\"pediatrician\\\",\\n    \\\"pageant contestant\\\",\\n]\\narts = sorted(list(set(arts)), key=lambda x: len(x), reverse=True)\\n\\nsports = [\\n    \\\"Busby Babe\\\",\\n    \\\"the Columbus Blue Jackets\\\",\\n    \\\"alpinist\\\",\\n    \\\"yo yo world champion\\\",\\n    \\\"silver medalist\\\",\\n    \\\"the Columbus Blue Jackets\\\",\\n    \\\"the Baltimore Colts\\\",\\n    \\\"balloonist\\\",\\n    \\\"trotting\\\",\\n    \\\"bobsledder\\\",\\n    \\\"optometrist\\\",\\n    \\\"snowboarding\\\",\\n    \\\"snowboarder\\\",\\n]\\nsports = sorted(list(set(sports)), key=lambda x: len(x), reverse=True)\\n\\nsciences = [\\n    \\\"Sciences\\\",\\n    \\\"the tranquilizer gun\\\",\\n    \\\"specialist in solid state laser\\\",\\n    \\\"thoracic specialist\\\",\\n    \\\"equine specialist\\\",\\n    \\\"the second Director of Lockheed Skunk Works from to\\\",\\n    \\\"midwife\\\",\\n    \\\"of Re evaluation Counseling\\\",\\n    \\\"student of Carl Jung\\\",\\n    \\\"influenza vaccine expert\\\",\\n    \\\"mass spectrometrist\\\",\\n    \\\"paranormal expert\\\",\\n    \\\"geotechnician\\\",\\n    \\\"fauna\\\",\\n]\\nsciences = sorted(list(set(sciences)), key=lambda x: len(x), reverse=True)\\n\\nbusiness_farming = [\\n    \\\"Trust Company\\\",\\n    \\\"matriarch of the Bronfman family\\\",\\n    \\\"father of Donald Trump\\\",\\n    \\\"proprietor of the\\\",\\n    \\\"publican\\\",\\n]\\nbusiness_farming = sorted(\\n    list(set(business_farming)), key=lambda x: len(x), reverse=True\\n)\\n\\nacademia_humanities = [\\n    \\\"Central\\\",\\n    \\\"Mother of Kanye West\\\",\\n    'one of the \\\"Monuments Men\\\"',\\n    \\\"Pacific Islands language specialist\\\",\\n    \\\"chairman\\\",\\n    \\\"the first Rector Magnificus of the University of Twente\\\",\\n    \\\"palaeography\\\",\\n    \\\"college principal\\\",\\n]\\nacademia_humanities = sorted(\\n    list(set(academia_humanities)), key=lambda x: len(x), reverse=True\\n)\\n\\nlaw_enf_military_operator = [\\n    \\\"former\\\",\\n    \\\"county sheriff\\\",\\n    \\\"Commissioner of the Federal Police\\\",\\n    \\\"third Sarsanghchalak of the RSS\\\",\\n    \\\"Righteous Among the Nations\\\",\\n    \\\"Chief of the General Staff\\\",\\n    \\\"the War\\\",\\n    \\\"Commander in Chief\\\",\\n    \\\"PIRA volunteer\\\",\\n    \\\"escapee\\\",\\n]\\nlaw_enf_military_operator = sorted(\\n    list(set(law_enf_military_operator)), key=lambda x: len(x), reverse=True\\n)\\n\\nspiritual = [\\n    \\\"Grand Master Emeritus of the Equestrian Order of the Holy Sepulchre of\\\",\\n    \\\"Grand Master of the Sovereign Military Order of\\\",\\n    \\\"theistic evolutionist\\\",\\n    \\\"the Whole Levant\\\",\\n    \\\"thealogian\\\",\\n    \\\"the occult\\\",\\n    \\\"atheist\\\",\\n    \\\"Fort Worth\\\",\\n]\\nspiritual = sorted(list(set(spiritual)), key=lambda x: len(x), reverse=True)\\n\\nsocial = [\\\"Philanthropist\\\", \\\"interfaith\\\"]\\nsocial = sorted(list(set(social)), key=lambda x: len(x), reverse=True)\\n\\ncrime = [\\n    \\\"aircraft hijacker\\\",\\n    \\\"conspirator in the Watergate scandal\\\",\\n    \\\"twin brother of Reggie Kray\\\",\\n    \\\"hitman\\\",\\n    \\\"impostor\\\",\\n]\\ncrime = sorted(list(set(crime)), key=lambda x: len(x), reverse=True)\\n\\nevent_record_other = [\\\"murder suspect\\\", \\\"suspect in several murders\\\"]\\nevent_record_other = sorted(\\n    list(set(event_record_other)), key=lambda x: len(x), reverse=True\\n)\\n\\nother_species = [\\\"fame\\\"]\\nother_species = sorted(list(set(other_species)), key=lambda x: len(x), reverse=True)\";\n",
       "                var nbb_cells = Jupyter.notebook.get_cells();\n",
       "                for (var i = 0; i < nbb_cells.length; ++i) {\n",
       "                    if (nbb_cells[i].input_prompt_number == nbb_cell_id) {\n",
       "                        if (nbb_cells[i].get_text() == nbb_unformatted_code) {\n",
       "                             nbb_cells[i].set_text(nbb_formatted_code);\n",
       "                        }\n",
       "                        break;\n",
       "                    }\n",
       "                }\n",
       "            }, 500);\n",
       "            "
      ],
      "text/plain": [
       "<IPython.core.display.Javascript object>"
      ]
     },
     "metadata": {},
     "output_type": "display_data"
    }
   ],
   "source": [
    "# Creating lists for each category and sorting by decreasing length and removing duplicates\n",
    "\n",
    "politics_govt_law = [\n",
    "    \"causes\",\n",
    "    \"House of Representatives representative\",\n",
    "    \"Representative from Alabama\",\n",
    "    \"Nantwich\",\n",
    "    \"Maguire Seven\",\n",
    "    \"international relations specialist\",\n",
    "    \"first female chief justice of the North Carolina Supreme Court\",\n",
    "    \"a key figure in the Watergate investigation\",\n",
    "    \"Attorney for the Southern District of\",\n",
    "    \"th Omukama of the Kingdom of Toro\",\n",
    "    \"elder sister of the last Shah of\",\n",
    "    \"Marshal of the Diplomatic Corps\",\n",
    "    \"grandmother of King Felipe VI\",\n",
    "    '\"fixer\" for the Chicago Mafia',\n",
    "    \"Head of the House of Hesse\",\n",
    "    \"father of Hassan Khomeini\",\n",
    "    \"Chief of Protocol of the\",\n",
    "    \"father of Al Gore\",\n",
    "    \"the Official IRA\",\n",
    "    \"homemaker\",\n",
    "    \"Commissioner of Education\",\n",
    "    \"High Commissioner of\",\n",
    "    \"later a neo figure\",\n",
    "    \"neo\",\n",
    "    \"wife of prince Nakkhatra Mangala\",\n",
    "    \"ATSIC commissioner\",\n",
    "    \"campaign organizer\",\n",
    "    \"Infante\",\n",
    "    \"Idi Amin\",\n",
    "    \"Philadelphia City Councilwoman\",\n",
    "    \"councilman\",\n",
    "    \"national policy advisor\",\n",
    "    \"refusenik\",\n",
    "    \"National Treasure\",\n",
    "    \"aide de camp to Queen Elizabeth II\",\n",
    "]\n",
    "politics_govt_law = sorted(\n",
    "    list(set(politics_govt_law)), key=lambda x: len(x), reverse=True\n",
    ")\n",
    "\n",
    "arts = [\n",
    "    \"Harpers Bizarre\",\n",
    "    \"Conway Twitty\",\n",
    "    \"wife of Doc Williams\",\n",
    "    \"roll\",\n",
    "    \"shooting continuity specialist\",\n",
    "    \"The Pale\",\n",
    "    \"quilter\",\n",
    "    \"spokesperson for the Bay City Rollers\",\n",
    "    \"CEO\",\n",
    "    \"chairwoman of the Bromsgrove Festival\",\n",
    "    \"brother of Chespirito\",\n",
    "    \"seamstress in the\",\n",
    "    \"mother of Sarah\",\n",
    "    \"freethought\",\n",
    "    \"strips\",\n",
    "    \"wife of John F Kennedy Jr\",\n",
    "    \"short stories\",\n",
    "    \"mistress of John F Kennedy\",\n",
    "    \"obituarist\",\n",
    "    \"sousaphonist\",\n",
    "    \"iconoclast\",\n",
    "    \"recitalist\",\n",
    "    \"Commonwealth Games gold medallist\",\n",
    "    \"Tar master\",\n",
    "    \"research pediatrician\",\n",
    "    \"pediatrician\",\n",
    "    \"pageant contestant\",\n",
    "]\n",
    "arts = sorted(list(set(arts)), key=lambda x: len(x), reverse=True)\n",
    "\n",
    "sports = [\n",
    "    \"Busby Babe\",\n",
    "    \"the Columbus Blue Jackets\",\n",
    "    \"alpinist\",\n",
    "    \"yo yo world champion\",\n",
    "    \"silver medalist\",\n",
    "    \"the Columbus Blue Jackets\",\n",
    "    \"the Baltimore Colts\",\n",
    "    \"balloonist\",\n",
    "    \"trotting\",\n",
    "    \"bobsledder\",\n",
    "    \"optometrist\",\n",
    "    \"snowboarding\",\n",
    "    \"snowboarder\",\n",
    "]\n",
    "sports = sorted(list(set(sports)), key=lambda x: len(x), reverse=True)\n",
    "\n",
    "sciences = [\n",
    "    \"Sciences\",\n",
    "    \"the tranquilizer gun\",\n",
    "    \"specialist in solid state laser\",\n",
    "    \"thoracic specialist\",\n",
    "    \"equine specialist\",\n",
    "    \"the second Director of Lockheed Skunk Works from to\",\n",
    "    \"midwife\",\n",
    "    \"of Re evaluation Counseling\",\n",
    "    \"student of Carl Jung\",\n",
    "    \"influenza vaccine expert\",\n",
    "    \"mass spectrometrist\",\n",
    "    \"paranormal expert\",\n",
    "    \"geotechnician\",\n",
    "    \"fauna\",\n",
    "]\n",
    "sciences = sorted(list(set(sciences)), key=lambda x: len(x), reverse=True)\n",
    "\n",
    "business_farming = [\n",
    "    \"Trust Company\",\n",
    "    \"matriarch of the Bronfman family\",\n",
    "    \"father of Donald Trump\",\n",
    "    \"proprietor of the\",\n",
    "    \"publican\",\n",
    "]\n",
    "business_farming = sorted(\n",
    "    list(set(business_farming)), key=lambda x: len(x), reverse=True\n",
    ")\n",
    "\n",
    "academia_humanities = [\n",
    "    \"Central\",\n",
    "    \"Mother of Kanye West\",\n",
    "    'one of the \"Monuments Men\"',\n",
    "    \"Pacific Islands language specialist\",\n",
    "    \"chairman\",\n",
    "    \"the first Rector Magnificus of the University of Twente\",\n",
    "    \"palaeography\",\n",
    "    \"college principal\",\n",
    "]\n",
    "academia_humanities = sorted(\n",
    "    list(set(academia_humanities)), key=lambda x: len(x), reverse=True\n",
    ")\n",
    "\n",
    "law_enf_military_operator = [\n",
    "    \"former\",\n",
    "    \"county sheriff\",\n",
    "    \"Commissioner of the Federal Police\",\n",
    "    \"third Sarsanghchalak of the RSS\",\n",
    "    \"Righteous Among the Nations\",\n",
    "    \"Chief of the General Staff\",\n",
    "    \"the War\",\n",
    "    \"Commander in Chief\",\n",
    "    \"PIRA volunteer\",\n",
    "    \"escapee\",\n",
    "]\n",
    "law_enf_military_operator = sorted(\n",
    "    list(set(law_enf_military_operator)), key=lambda x: len(x), reverse=True\n",
    ")\n",
    "\n",
    "spiritual = [\n",
    "    \"Grand Master Emeritus of the Equestrian Order of the Holy Sepulchre of\",\n",
    "    \"Grand Master of the Sovereign Military Order of\",\n",
    "    \"theistic evolutionist\",\n",
    "    \"the Whole Levant\",\n",
    "    \"thealogian\",\n",
    "    \"the occult\",\n",
    "    \"atheist\",\n",
    "    \"Fort Worth\",\n",
    "]\n",
    "spiritual = sorted(list(set(spiritual)), key=lambda x: len(x), reverse=True)\n",
    "\n",
    "social = [\"Philanthropist\", \"interfaith\"]\n",
    "social = sorted(list(set(social)), key=lambda x: len(x), reverse=True)\n",
    "\n",
    "crime = [\n",
    "    \"aircraft hijacker\",\n",
    "    \"conspirator in the Watergate scandal\",\n",
    "    \"twin brother of Reggie Kray\",\n",
    "    \"hitman\",\n",
    "    \"impostor\",\n",
    "]\n",
    "crime = sorted(list(set(crime)), key=lambda x: len(x), reverse=True)\n",
    "\n",
    "event_record_other = [\"murder suspect\", \"suspect in several murders\"]\n",
    "event_record_other = sorted(\n",
    "    list(set(event_record_other)), key=lambda x: len(x), reverse=True\n",
    ")\n",
    "\n",
    "other_species = [\"fame\"]\n",
    "other_species = sorted(list(set(other_species)), key=lambda x: len(x), reverse=True)"
   ]
  },
  {
   "cell_type": "markdown",
   "id": "7a1065b0",
   "metadata": {},
   "source": [
    "#### Creating `known_for_dict` Dictionary of Category Keys and Specific Role Lists of Values"
   ]
  },
  {
   "cell_type": "code",
   "execution_count": 447,
   "id": "ea79cdef",
   "metadata": {},
   "outputs": [
    {
     "data": {
      "application/javascript": [
       "\n",
       "            setTimeout(function() {\n",
       "                var nbb_cell_id = 447;\n",
       "                var nbb_unformatted_code = \"# Combining separate lists into one dictionary\\nknown_for_dict = {\\n    \\\"social\\\": social,\\n    \\\"spiritual\\\": spiritual,\\n    \\\"academia_humanities\\\": academia_humanities,\\n    \\\"business_farming\\\": business_farming,\\n    \\\"sciences\\\": sciences,\\n    \\\"politics_govt_law\\\": politics_govt_law,\\n    \\\"law_enf_military_operator\\\": law_enf_military_operator,\\n    \\\"crime\\\": crime,\\n    \\\"event_record_other\\\": event_record_other,\\n    \\\"other_species\\\": other_species,\\n    \\\"arts\\\": arts,\\n    \\\"sports\\\": sports,\\n\\n}\";\n",
       "                var nbb_formatted_code = \"# Combining separate lists into one dictionary\\nknown_for_dict = {\\n    \\\"social\\\": social,\\n    \\\"spiritual\\\": spiritual,\\n    \\\"academia_humanities\\\": academia_humanities,\\n    \\\"business_farming\\\": business_farming,\\n    \\\"sciences\\\": sciences,\\n    \\\"politics_govt_law\\\": politics_govt_law,\\n    \\\"law_enf_military_operator\\\": law_enf_military_operator,\\n    \\\"crime\\\": crime,\\n    \\\"event_record_other\\\": event_record_other,\\n    \\\"other_species\\\": other_species,\\n    \\\"arts\\\": arts,\\n    \\\"sports\\\": sports,\\n}\";\n",
       "                var nbb_cells = Jupyter.notebook.get_cells();\n",
       "                for (var i = 0; i < nbb_cells.length; ++i) {\n",
       "                    if (nbb_cells[i].input_prompt_number == nbb_cell_id) {\n",
       "                        if (nbb_cells[i].get_text() == nbb_unformatted_code) {\n",
       "                             nbb_cells[i].set_text(nbb_formatted_code);\n",
       "                        }\n",
       "                        break;\n",
       "                    }\n",
       "                }\n",
       "            }, 500);\n",
       "            "
      ],
      "text/plain": [
       "<IPython.core.display.Javascript object>"
      ]
     },
     "metadata": {},
     "output_type": "display_data"
    }
   ],
   "source": [
    "# Combining separate lists into one dictionary\n",
    "known_for_dict = {\n",
    "    \"social\": social,\n",
    "    \"spiritual\": spiritual,\n",
    "    \"academia_humanities\": academia_humanities,\n",
    "    \"business_farming\": business_farming,\n",
    "    \"sciences\": sciences,\n",
    "    \"politics_govt_law\": politics_govt_law,\n",
    "    \"law_enf_military_operator\": law_enf_military_operator,\n",
    "    \"crime\": crime,\n",
    "    \"event_record_other\": event_record_other,\n",
    "    \"other_species\": other_species,\n",
    "    \"arts\": arts,\n",
    "    \"sports\": sports,\n",
    "}"
   ]
  },
  {
   "cell_type": "markdown",
   "id": "c7e447f6",
   "metadata": {},
   "source": [
    "#### Extracting Category from `info_2_1`"
   ]
  },
  {
   "cell_type": "code",
   "execution_count": 448,
   "id": "6ae68096",
   "metadata": {},
   "outputs": [
    {
     "name": "stdout",
     "output_type": "stream",
     "text": [
      "CPU times: total: 14.2 s\n",
      "Wall time: 14.1 s\n"
     ]
    },
    {
     "data": {
      "application/javascript": [
       "\n",
       "            setTimeout(function() {\n",
       "                var nbb_cell_id = 448;\n",
       "                var nbb_unformatted_code = \"%%time\\n\\n# Column to check\\ncolumn = 'info_2_1'\\n\\n# Start dataframe\\ndataframe = df[df[column].notna()]\\n\\n# For loop to find role in column and extract it as category\\nfor category, category_lst in known_for_dict.items():\\n    for role in category_lst:\\n        for index in dataframe.index:\\n                item = df.loc[index, column]\\n                if item:\\n                    if role in item:\\n                        df.loc[index, category] = 1\\n                        df.loc[index, column] = item.replace(role, '').strip()\\n\\n# Calculating num_categories\\ndf[\\\"num_categories\\\"] = df[known_for_dict.keys()].sum(axis=1)\";\n",
       "                var nbb_formatted_code = \"%%time\\n\\n# Column to check\\ncolumn = 'info_2_1'\\n\\n# Start dataframe\\ndataframe = df[df[column].notna()]\\n\\n# For loop to find role in column and extract it as category\\nfor category, category_lst in known_for_dict.items():\\n    for role in category_lst:\\n        for index in dataframe.index:\\n                item = df.loc[index, column]\\n                if item:\\n                    if role in item:\\n                        df.loc[index, category] = 1\\n                        df.loc[index, column] = item.replace(role, '').strip()\\n\\n# Calculating num_categories\\ndf[\\\"num_categories\\\"] = df[known_for_dict.keys()].sum(axis=1)\";\n",
       "                var nbb_cells = Jupyter.notebook.get_cells();\n",
       "                for (var i = 0; i < nbb_cells.length; ++i) {\n",
       "                    if (nbb_cells[i].input_prompt_number == nbb_cell_id) {\n",
       "                        if (nbb_cells[i].get_text() == nbb_unformatted_code) {\n",
       "                             nbb_cells[i].set_text(nbb_formatted_code);\n",
       "                        }\n",
       "                        break;\n",
       "                    }\n",
       "                }\n",
       "            }, 500);\n",
       "            "
      ],
      "text/plain": [
       "<IPython.core.display.Javascript object>"
      ]
     },
     "metadata": {},
     "output_type": "display_data"
    }
   ],
   "source": [
    "%%time\n",
    "\n",
    "# Column to check\n",
    "column = 'info_2_1'\n",
    "\n",
    "# Start dataframe\n",
    "dataframe = df[df[column].notna()]\n",
    "\n",
    "# For loop to find role in column and extract it as category\n",
    "for category, category_lst in known_for_dict.items():\n",
    "    for role in category_lst:\n",
    "        for index in dataframe.index:\n",
    "                item = df.loc[index, column]\n",
    "                if item:\n",
    "                    if role in item:\n",
    "                        df.loc[index, category] = 1\n",
    "                        df.loc[index, column] = item.replace(role, '').strip()\n",
    "\n",
    "# Calculating num_categories\n",
    "df[\"num_categories\"] = df[known_for_dict.keys()].sum(axis=1)"
   ]
  },
  {
   "cell_type": "markdown",
   "id": "30b4b880",
   "metadata": {},
   "source": [
    "#### Checking Updated `num_categories` Value Counts"
   ]
  },
  {
   "cell_type": "code",
   "execution_count": 449,
   "id": "981ea717",
   "metadata": {},
   "outputs": [
    {
     "data": {
      "text/plain": [
       "1    88253\n",
       "2     9549\n",
       "3      178\n",
       "0       61\n",
       "Name: num_categories, dtype: int64"
      ]
     },
     "execution_count": 449,
     "metadata": {},
     "output_type": "execute_result"
    },
    {
     "data": {
      "application/javascript": [
       "\n",
       "            setTimeout(function() {\n",
       "                var nbb_cell_id = 449;\n",
       "                var nbb_unformatted_code = \"# Checking updated num_categories value counts\\ndf[\\\"num_categories\\\"].value_counts()\";\n",
       "                var nbb_formatted_code = \"# Checking updated num_categories value counts\\ndf[\\\"num_categories\\\"].value_counts()\";\n",
       "                var nbb_cells = Jupyter.notebook.get_cells();\n",
       "                for (var i = 0; i < nbb_cells.length; ++i) {\n",
       "                    if (nbb_cells[i].input_prompt_number == nbb_cell_id) {\n",
       "                        if (nbb_cells[i].get_text() == nbb_unformatted_code) {\n",
       "                             nbb_cells[i].set_text(nbb_formatted_code);\n",
       "                        }\n",
       "                        break;\n",
       "                    }\n",
       "                }\n",
       "            }, 500);\n",
       "            "
      ],
      "text/plain": [
       "<IPython.core.display.Javascript object>"
      ]
     },
     "metadata": {},
     "output_type": "display_data"
    }
   ],
   "source": [
    "# Checking updated num_categories value counts\n",
    "df[\"num_categories\"].value_counts()"
   ]
  },
  {
   "cell_type": "markdown",
   "id": "0442c7ed",
   "metadata": {},
   "source": [
    "#### Observations:\n",
    "- We will proceed to rebuild `known_for_dict` for the next iteration."
   ]
  },
  {
   "cell_type": "markdown",
   "id": "d4d7a634",
   "metadata": {},
   "source": [
    "#### Finding `known_for` Roles in `info_2_1`"
   ]
  },
  {
   "cell_type": "code",
   "execution_count": 451,
   "id": "e35cbecc",
   "metadata": {},
   "outputs": [
    {
     "data": {
      "application/javascript": [
       "\n",
       "            setTimeout(function() {\n",
       "                var nbb_cell_id = 451;\n",
       "                var nbb_unformatted_code = \"# Obtaining values for column and their counts\\nroles_list = df[\\\"info_2_1\\\"].value_counts(ascending=True).index.tolist()\";\n",
       "                var nbb_formatted_code = \"# Obtaining values for column and their counts\\nroles_list = df[\\\"info_2_1\\\"].value_counts(ascending=True).index.tolist()\";\n",
       "                var nbb_cells = Jupyter.notebook.get_cells();\n",
       "                for (var i = 0; i < nbb_cells.length; ++i) {\n",
       "                    if (nbb_cells[i].input_prompt_number == nbb_cell_id) {\n",
       "                        if (nbb_cells[i].get_text() == nbb_unformatted_code) {\n",
       "                             nbb_cells[i].set_text(nbb_formatted_code);\n",
       "                        }\n",
       "                        break;\n",
       "                    }\n",
       "                }\n",
       "            }, 500);\n",
       "            "
      ],
      "text/plain": [
       "<IPython.core.display.Javascript object>"
      ]
     },
     "metadata": {},
     "output_type": "display_data"
    }
   ],
   "source": [
    "# Obtaining values for column and their counts\n",
    "roles_list = df[\"info_2_1\"].value_counts(ascending=True).index.tolist()"
   ]
  },
  {
   "cell_type": "code",
   "execution_count": null,
   "id": "e0ebb1b8",
   "metadata": {},
   "outputs": [],
   "source": [
    "# Code to check each value\n",
    "roles_list.pop()"
   ]
  },
  {
   "cell_type": "code",
   "execution_count": null,
   "id": "522cedef",
   "metadata": {},
   "outputs": [],
   "source": [
    "# # Create specific_roles_list for above popped value\n",
    "# specific_roles_list = (\n",
    "#     df.loc[\n",
    "#         [\n",
    "#             index\n",
    "#             for index in df[df[\"info_2_1\"].notna()].index\n",
    "#             if \"general\" in df.loc[index, \"info_2_1\"]\n",
    "#         ],\n",
    "#         \"info_2_1\",\n",
    "#     ]\n",
    "#     .value_counts()\n",
    "#     .index.tolist()\n",
    "# )"
   ]
  },
  {
   "cell_type": "code",
   "execution_count": null,
   "id": "ef4315b7",
   "metadata": {},
   "outputs": [],
   "source": [
    "# # Viewing list sorted by descending length to copy to dictionary below and screen values\n",
    "# sorted(specific_roles_list, key=lambda x: len(x), reverse=True)"
   ]
  },
  {
   "cell_type": "code",
   "execution_count": null,
   "id": "064837e2",
   "metadata": {},
   "outputs": [],
   "source": [
    "# # Example code to check additional category for specific entries\n",
    "# df.loc[\n",
    "#     [\n",
    "#         index\n",
    "#         for index in df.index\n",
    "#         if df.loc[index, \"info_2_1\"] == \"judge\"\n",
    "#         and df.loc[index, \"politics_govt_law\"] == 0\n",
    "#     ],\n",
    "#     :,\n",
    "# ]"
   ]
  },
  {
   "cell_type": "code",
   "execution_count": null,
   "id": "8148dc6b",
   "metadata": {},
   "outputs": [],
   "source": [
    "# # Example code to quick-check a specific entry\n",
    "# df[df[\"info_2_1\"] == \"outlaw country music singer songwriter\"]"
   ]
  },
  {
   "cell_type": "markdown",
   "id": "6492387b",
   "metadata": {},
   "source": [
    "#### Creating Lists for Each `known_for` Category"
   ]
  },
  {
   "cell_type": "code",
   "execution_count": null,
   "id": "60a92c05",
   "metadata": {},
   "outputs": [],
   "source": [
    "# Creating lists for each category and sorting by decreasing length and removing duplicates\n",
    "\n",
    "politics_govt_law = []\n",
    "politics_govt_law = sorted(list(set(politics_govt_law)), key=lambda x: len(x), reverse=True)  \n",
    "\n",
    "arts = []\n",
    "arts = sorted(list(set(arts)), key=lambda x: len(x), reverse=True)  \n",
    "\n",
    "sports = []\n",
    "sports = sorted(list(set(sports)), key=lambda x: len(x), reverse=True) \n",
    "\n",
    "sciences = []\n",
    "sciences = sorted(list(set(sciences)), key=lambda x: len(x), reverse=True) \n",
    "\n",
    "business_farming = []\n",
    "business_farming = sorted(list(set(business_farming)), key=lambda x: len(x), reverse=True)  \n",
    "\n",
    "academia_humanities = []\n",
    "academia_humanities = sorted(list(set(academia_humanities)), key=lambda x: len(x), reverse=True)  \n",
    "\n",
    "law_enf_military_operator = []\n",
    "law_enf_military_operator = sorted(list(set(law_enf_military_operator)), key=lambda x: len(x), reverse=True)  \n",
    "\n",
    "spiritual = []\n",
    "spiritual = sorted(list(set(spiritual)), key=lambda x: len(x), reverse=True)  \n",
    "\n",
    "social = []\n",
    "social = sorted(list(set(social)), key=lambda x: len(x), reverse=True)  \n",
    "\n",
    "crime = []\n",
    "crime = sorted(list(set(crime)), key=lambda x: len(x), reverse=True)  \n",
    "\n",
    "event_record_other = []\n",
    "event_record_other = sorted(list(set(event_record_other)), key=lambda x: len(x), reverse=True)  \n",
    "\n",
    "other_species = []\n",
    "other_species = sorted(list(set(other_species)), key=lambda x: len(x), reverse=True) "
   ]
  },
  {
   "cell_type": "markdown",
   "id": "a3492de5",
   "metadata": {},
   "source": [
    "#### Creating `known_for_dict` Dictionary of Category Keys and Specific Role Lists of Values"
   ]
  },
  {
   "cell_type": "code",
   "execution_count": null,
   "id": "4ac11147",
   "metadata": {},
   "outputs": [],
   "source": [
    "# Combining separate lists into one dictionary\n",
    "known_for_dict = {\n",
    "    \"social\": social,\n",
    "    \"spiritual\": spiritual,\n",
    "    \"academia_humanities\": academia_humanities,\n",
    "    \"business_farming\": business_farming,\n",
    "    \"sciences\": sciences,\n",
    "    \"politics_govt_law\": politics_govt_law,\n",
    "    \"law_enf_military_operator\": law_enf_military_operator,\n",
    "    \"crime\": crime,\n",
    "    \"event_record_other\": event_record_other,\n",
    "    \"other_species\": other_species,\n",
    "    \"arts\": arts,\n",
    "    \"sports\": sports,\n",
    "\n",
    "}"
   ]
  },
  {
   "cell_type": "markdown",
   "id": "5fb7ef84",
   "metadata": {},
   "source": [
    "#### Extracting Category from `info_2_1`"
   ]
  },
  {
   "cell_type": "code",
   "execution_count": null,
   "id": "8793beb8",
   "metadata": {},
   "outputs": [],
   "source": [
    "%%time\n",
    "\n",
    "# Column to check\n",
    "column = 'info_2_1'\n",
    "\n",
    "# Start dataframe\n",
    "dataframe = df[df[column].notna()]\n",
    "\n",
    "# For loop to find role in column and extract it as category\n",
    "for category, category_lst in known_for_dict.items():\n",
    "    for role in category_lst:\n",
    "        for index in dataframe.index:\n",
    "                item = df.loc[index, column]\n",
    "                if item:\n",
    "                    if role in item:\n",
    "                        df.loc[index, category] = 1\n",
    "                        df.loc[index, column] = item.replace(role, '').strip()\n",
    "\n",
    "# Calculating num_categories\n",
    "df[\"num_categories\"] = df[known_for_dict.keys()].sum(axis=1)"
   ]
  },
  {
   "cell_type": "markdown",
   "id": "f6941a64",
   "metadata": {},
   "source": [
    "#### Checking Updated `num_categories` Value Counts"
   ]
  },
  {
   "cell_type": "code",
   "execution_count": null,
   "id": "eea3a605",
   "metadata": {},
   "outputs": [],
   "source": [
    "# Checking updated num_categories value counts\n",
    "df[\"num_categories\"].value_counts()"
   ]
  },
  {
   "cell_type": "markdown",
   "id": "e4532733",
   "metadata": {},
   "source": [
    "#### Observations:\n",
    "- We will proceed to rebuild `known_for_dict` for the next iteration."
   ]
  },
  {
   "cell_type": "code",
   "execution_count": null,
   "id": "83987b82",
   "metadata": {},
   "outputs": [],
   "source": []
  },
  {
   "cell_type": "code",
   "execution_count": null,
   "id": "aa673d25",
   "metadata": {},
   "outputs": [],
   "source": []
  },
  {
   "cell_type": "code",
   "execution_count": null,
   "id": "87fccaff",
   "metadata": {},
   "outputs": [],
   "source": []
  },
  {
   "cell_type": "code",
   "execution_count": 450,
   "id": "ecbe5c5d",
   "metadata": {},
   "outputs": [
    {
     "name": "stdout",
     "output_type": "stream",
     "text": [
      "dunzo!\n"
     ]
    },
    {
     "data": {
      "application/javascript": [
       "\n",
       "            setTimeout(function() {\n",
       "                var nbb_cell_id = 450;\n",
       "                var nbb_unformatted_code = \"print(\\\"dunzo!\\\")\\n\\n# Sound notification when cell executes\\nchime.success()\";\n",
       "                var nbb_formatted_code = \"print(\\\"dunzo!\\\")\\n\\n# Sound notification when cell executes\\nchime.success()\";\n",
       "                var nbb_cells = Jupyter.notebook.get_cells();\n",
       "                for (var i = 0; i < nbb_cells.length; ++i) {\n",
       "                    if (nbb_cells[i].input_prompt_number == nbb_cell_id) {\n",
       "                        if (nbb_cells[i].get_text() == nbb_unformatted_code) {\n",
       "                             nbb_cells[i].set_text(nbb_formatted_code);\n",
       "                        }\n",
       "                        break;\n",
       "                    }\n",
       "                }\n",
       "            }, 500);\n",
       "            "
      ],
      "text/plain": [
       "<IPython.core.display.Javascript object>"
      ]
     },
     "metadata": {},
     "output_type": "display_data"
    }
   ],
   "source": [
    "print(\"dunzo!\")\n",
    "\n",
    "# Sound notification when cell executes\n",
    "chime.success()"
   ]
  },
  {
   "cell_type": "code",
   "execution_count": null,
   "id": "0271a07f",
   "metadata": {},
   "outputs": [],
   "source": []
  },
  {
   "cell_type": "code",
   "execution_count": null,
   "id": "e40e3f27",
   "metadata": {},
   "outputs": [],
   "source": []
  },
  {
   "cell_type": "code",
   "execution_count": null,
   "id": "db6c3c0c",
   "metadata": {},
   "outputs": [],
   "source": []
  },
  {
   "cell_type": "markdown",
   "id": "cbea7ecf",
   "metadata": {},
   "source": [
    "#### Finding `known_for` Roles in `info_2_1`"
   ]
  },
  {
   "cell_type": "code",
   "execution_count": null,
   "id": "e392e86b",
   "metadata": {},
   "outputs": [],
   "source": [
    "# Obtaining values for column and their counts\n",
    "roles_list = df[\"info_2_1\"].value_counts(ascending=True).index.tolist()"
   ]
  },
  {
   "cell_type": "code",
   "execution_count": null,
   "id": "19b2f85c",
   "metadata": {},
   "outputs": [],
   "source": [
    "# Code to check each value\n",
    "roles_list.pop()"
   ]
  },
  {
   "cell_type": "code",
   "execution_count": null,
   "id": "0c884b32",
   "metadata": {},
   "outputs": [],
   "source": [
    "# # Create specific_roles_list for above popped value\n",
    "# specific_roles_list = (\n",
    "#     df.loc[\n",
    "#         [\n",
    "#             index\n",
    "#             for index in df[df[\"info_2_1\"].notna()].index\n",
    "#             if \"general\" in df.loc[index, \"info_2_1\"]\n",
    "#         ],\n",
    "#         \"info_2_1\",\n",
    "#     ]\n",
    "#     .value_counts()\n",
    "#     .index.tolist()\n",
    "# )"
   ]
  },
  {
   "cell_type": "code",
   "execution_count": null,
   "id": "7550a487",
   "metadata": {},
   "outputs": [],
   "source": [
    "# # Viewing list sorted by descending length to copy to dictionary below and screen values\n",
    "# sorted(specific_roles_list, key=lambda x: len(x), reverse=True)"
   ]
  },
  {
   "cell_type": "code",
   "execution_count": null,
   "id": "872a79b7",
   "metadata": {},
   "outputs": [],
   "source": [
    "# # Example code to check additional category for specific entries\n",
    "# df.loc[\n",
    "#     [\n",
    "#         index\n",
    "#         for index in df.index\n",
    "#         if df.loc[index, \"info_2_1\"] == \"judge\"\n",
    "#         and df.loc[index, \"politics_govt_law\"] == 0\n",
    "#     ],\n",
    "#     :,\n",
    "# ]"
   ]
  },
  {
   "cell_type": "code",
   "execution_count": null,
   "id": "d2da3d72",
   "metadata": {},
   "outputs": [],
   "source": [
    "# # Example code to quick-check a specific entry\n",
    "# df[df[\"info_2_1\"] == \"outlaw country music singer songwriter\"]"
   ]
  },
  {
   "cell_type": "markdown",
   "id": "97842e56",
   "metadata": {},
   "source": [
    "#### Creating Lists for Each `known_for` Category"
   ]
  },
  {
   "cell_type": "code",
   "execution_count": null,
   "id": "16d92bb3",
   "metadata": {},
   "outputs": [],
   "source": [
    "# Creating lists for each category and sorting by decreasing length and removing duplicates\n",
    "\n",
    "politics_govt_law = []\n",
    "politics_govt_law = sorted(list(set(politics_govt_law)), key=lambda x: len(x), reverse=True)  \n",
    "\n",
    "arts = []\n",
    "arts = sorted(list(set(arts)), key=lambda x: len(x), reverse=True)  \n",
    "\n",
    "sports = []\n",
    "sports = sorted(list(set(sports)), key=lambda x: len(x), reverse=True) \n",
    "\n",
    "sciences = []\n",
    "sciences = sorted(list(set(sciences)), key=lambda x: len(x), reverse=True) \n",
    "\n",
    "business_farming = []\n",
    "business_farming = sorted(list(set(business_farming)), key=lambda x: len(x), reverse=True)  \n",
    "\n",
    "academia_humanities = []\n",
    "academia_humanities = sorted(list(set(academia_humanities)), key=lambda x: len(x), reverse=True)  \n",
    "\n",
    "law_enf_military_operator = []\n",
    "law_enf_military_operator = sorted(list(set(law_enf_military_operator)), key=lambda x: len(x), reverse=True)  \n",
    "\n",
    "spiritual = []\n",
    "spiritual = sorted(list(set(spiritual)), key=lambda x: len(x), reverse=True)  \n",
    "\n",
    "social = []\n",
    "social = sorted(list(set(social)), key=lambda x: len(x), reverse=True)  \n",
    "\n",
    "crime = []\n",
    "crime = sorted(list(set(crime)), key=lambda x: len(x), reverse=True)  \n",
    "\n",
    "event_record_other = []\n",
    "event_record_other = sorted(list(set(event_record_other)), key=lambda x: len(x), reverse=True)  \n",
    "\n",
    "other_species = []\n",
    "other_species = sorted(list(set(other_species)), key=lambda x: len(x), reverse=True) "
   ]
  },
  {
   "cell_type": "markdown",
   "id": "19e0f93c",
   "metadata": {},
   "source": [
    "#### Creating `known_for_dict` Dictionary of Category Keys and Specific Role Lists of Values"
   ]
  },
  {
   "cell_type": "code",
   "execution_count": null,
   "id": "62805084",
   "metadata": {},
   "outputs": [],
   "source": [
    "# Combining separate lists into one dictionary\n",
    "known_for_dict = {\n",
    "    \"social\": social,\n",
    "    \"spiritual\": spiritual,\n",
    "    \"academia_humanities\": academia_humanities,\n",
    "    \"business_farming\": business_farming,\n",
    "    \"sciences\": sciences,\n",
    "    \"politics_govt_law\": politics_govt_law,\n",
    "    \"law_enf_military_operator\": law_enf_military_operator,\n",
    "    \"crime\": crime,\n",
    "    \"event_record_other\": event_record_other,\n",
    "    \"other_species\": other_species,\n",
    "    \"arts\": arts,\n",
    "    \"sports\": sports,\n",
    "\n",
    "}"
   ]
  },
  {
   "cell_type": "markdown",
   "id": "2300bb48",
   "metadata": {},
   "source": [
    "#### Extracting Category from `info_2_1`"
   ]
  },
  {
   "cell_type": "code",
   "execution_count": null,
   "id": "b735dd04",
   "metadata": {},
   "outputs": [],
   "source": [
    "%%time\n",
    "\n",
    "# Column to check\n",
    "column = 'info_2_1'\n",
    "\n",
    "# Start dataframe\n",
    "dataframe = df[df[column].notna()]\n",
    "\n",
    "# For loop to find role in column and extract it as category\n",
    "for category, category_lst in known_for_dict.items():\n",
    "    for role in category_lst:\n",
    "        for index in dataframe.index:\n",
    "                item = df.loc[index, column]\n",
    "                if item:\n",
    "                    if role in item:\n",
    "                        df.loc[index, category] = 1\n",
    "                        df.loc[index, column] = item.replace(role, '').strip()\n",
    "\n",
    "# Calculating num_categories\n",
    "df[\"num_categories\"] = df[known_for_dict.keys()].sum(axis=1)"
   ]
  },
  {
   "cell_type": "markdown",
   "id": "9d5f614c",
   "metadata": {},
   "source": [
    "#### Checking Updated `num_categories` Value Counts"
   ]
  },
  {
   "cell_type": "code",
   "execution_count": null,
   "id": "93f3ebc1",
   "metadata": {},
   "outputs": [],
   "source": [
    "# Checking updated num_categories value counts\n",
    "df[\"num_categories\"].value_counts()"
   ]
  },
  {
   "cell_type": "markdown",
   "id": "e3f042c6",
   "metadata": {},
   "source": [
    "#### Observations:\n",
    "- We will proceed to rebuild `known_for_dict` for the next iteration."
   ]
  },
  {
   "cell_type": "code",
   "execution_count": null,
   "id": "dce22fd9",
   "metadata": {},
   "outputs": [],
   "source": []
  },
  {
   "cell_type": "code",
   "execution_count": null,
   "id": "b8609f2e",
   "metadata": {},
   "outputs": [],
   "source": []
  },
  {
   "cell_type": "code",
   "execution_count": null,
   "id": "b3a30f11",
   "metadata": {},
   "outputs": [],
   "source": []
  },
  {
   "cell_type": "markdown",
   "id": "0f66697e",
   "metadata": {},
   "source": [
    "#### Observations:\n",
    "- It is time to export our dataframe and start a new notebook."
   ]
  },
  {
   "cell_type": "markdown",
   "id": "1113a242",
   "metadata": {},
   "source": [
    "### Exporting Dataset to SQLite Database [wp_life_expect_clean5.db]()"
   ]
  },
  {
   "cell_type": "code",
   "execution_count": null,
   "id": "6008ac61",
   "metadata": {},
   "outputs": [],
   "source": [
    "# # Exporting dataframe\n",
    "\n",
    "# # Saving dataset in a SQLite database\n",
    "# conn = sql.connect(\"wp_life_expect_clean5.db\")\n",
    "# df.to_sql(\"wp_life_expect_clean5\", conn, index=False)\n",
    "\n",
    "# # Chime notification when cell executes\n",
    "# chime.success()"
   ]
  },
  {
   "cell_type": "markdown",
   "id": "11aacfcc",
   "metadata": {},
   "source": [
    "# [Proceed to Data Cleaning Part 6]()"
   ]
  }
 ],
 "metadata": {
  "kernelspec": {
   "display_name": "Python 3 (ipykernel)",
   "language": "python",
   "name": "python3"
  },
  "language_info": {
   "codemirror_mode": {
    "name": "ipython",
    "version": 3
   },
   "file_extension": ".py",
   "mimetype": "text/x-python",
   "name": "python",
   "nbconvert_exporter": "python",
   "pygments_lexer": "ipython3",
   "version": "3.9.12"
  }
 },
 "nbformat": 4,
 "nbformat_minor": 5
}
