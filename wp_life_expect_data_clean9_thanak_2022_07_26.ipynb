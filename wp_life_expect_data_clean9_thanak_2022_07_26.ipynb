{
 "cells": [
  {
   "cell_type": "markdown",
   "id": "316a0779",
   "metadata": {},
   "source": [
    "# Wikipedia Notable Life Expectancies\n",
    "# [Notebook  : Data Cleaning Part 9](https://github.com/teresahanak/wikipedia-life-expectancy/blob/main/wp_life_expect_data_clean9_thanak_2022_07_26.ipynb)\n",
    "### Context\n",
    "\n",
    "The\n",
    "### Objective\n",
    "\n",
    "The\n",
    "### Data Dictionary\n",
    "- Feature: Description"
   ]
  },
  {
   "cell_type": "markdown",
   "id": "99245d51",
   "metadata": {},
   "source": [
    "### Importing Libraries"
   ]
  },
  {
   "cell_type": "code",
   "execution_count": 1,
   "id": "453bba83",
   "metadata": {},
   "outputs": [
    {
     "data": {
      "application/javascript": [
       "\n",
       "            setTimeout(function() {\n",
       "                var nbb_cell_id = 1;\n",
       "                var nbb_unformatted_code = \"# To structure code automatically\\n%load_ext nb_black\\n\\n# To import/export sqlite databases\\nimport sqlite3 as sql\\n\\n# To save/open python objects in pickle file\\nimport pickle\\n\\n# To help with reading, cleaning, and manipulating data\\nimport pandas as pd\\nimport numpy as np\\nimport re\\n\\n# To define maximum number of columns to be displayed in a dataframe\\npd.set_option(\\\"display.max_columns\\\", None)\\n# To define the maximum number of rows to be displayed in a dataframe\\npd.set_option(\\\"display.max_rows\\\", 200)\\n\\n# To supress warnings\\n# import warnings\\n\\n# warnings.filterwarnings(\\\"ignore\\\")\\n\\n# To set some visualization attributes\\npd.set_option(\\\"max_colwidth\\\", 150)\\n\\n# To play auditory cue when cell has executed, has warning, or has error and set chime theme\\nimport chime\\n\\nchime.theme(\\\"zelda\\\")\";\n",
       "                var nbb_formatted_code = \"# To structure code automatically\\n%load_ext nb_black\\n\\n# To import/export sqlite databases\\nimport sqlite3 as sql\\n\\n# To save/open python objects in pickle file\\nimport pickle\\n\\n# To help with reading, cleaning, and manipulating data\\nimport pandas as pd\\nimport numpy as np\\nimport re\\n\\n# To define maximum number of columns to be displayed in a dataframe\\npd.set_option(\\\"display.max_columns\\\", None)\\n# To define the maximum number of rows to be displayed in a dataframe\\npd.set_option(\\\"display.max_rows\\\", 200)\\n\\n# To supress warnings\\n# import warnings\\n\\n# warnings.filterwarnings(\\\"ignore\\\")\\n\\n# To set some visualization attributes\\npd.set_option(\\\"max_colwidth\\\", 150)\\n\\n# To play auditory cue when cell has executed, has warning, or has error and set chime theme\\nimport chime\\n\\nchime.theme(\\\"zelda\\\")\";\n",
       "                var nbb_cells = Jupyter.notebook.get_cells();\n",
       "                for (var i = 0; i < nbb_cells.length; ++i) {\n",
       "                    if (nbb_cells[i].input_prompt_number == nbb_cell_id) {\n",
       "                        if (nbb_cells[i].get_text() == nbb_unformatted_code) {\n",
       "                             nbb_cells[i].set_text(nbb_formatted_code);\n",
       "                        }\n",
       "                        break;\n",
       "                    }\n",
       "                }\n",
       "            }, 500);\n",
       "            "
      ],
      "text/plain": [
       "<IPython.core.display.Javascript object>"
      ]
     },
     "metadata": {},
     "output_type": "display_data"
    }
   ],
   "source": [
    "# To structure code automatically\n",
    "%load_ext nb_black\n",
    "\n",
    "# To import/export sqlite databases\n",
    "import sqlite3 as sql\n",
    "\n",
    "# To save/open python objects in pickle file\n",
    "import pickle\n",
    "\n",
    "# To help with reading, cleaning, and manipulating data\n",
    "import pandas as pd\n",
    "import numpy as np\n",
    "import re\n",
    "\n",
    "# To define maximum number of columns to be displayed in a dataframe\n",
    "pd.set_option(\"display.max_columns\", None)\n",
    "# To define the maximum number of rows to be displayed in a dataframe\n",
    "pd.set_option(\"display.max_rows\", 200)\n",
    "\n",
    "# To supress warnings\n",
    "# import warnings\n",
    "\n",
    "# warnings.filterwarnings(\"ignore\")\n",
    "\n",
    "# To set some visualization attributes\n",
    "pd.set_option(\"max_colwidth\", 150)\n",
    "\n",
    "# To play auditory cue when cell has executed, has warning, or has error and set chime theme\n",
    "import chime\n",
    "\n",
    "chime.theme(\"zelda\")"
   ]
  },
  {
   "cell_type": "markdown",
   "id": "cc818a82",
   "metadata": {},
   "source": [
    "## Data Overview"
   ]
  },
  {
   "cell_type": "markdown",
   "id": "0ed005f6",
   "metadata": {},
   "source": [
    "### Reading, Sampling, and Checking Data Shape"
   ]
  },
  {
   "cell_type": "code",
   "execution_count": 2,
   "id": "0ca58a95",
   "metadata": {},
   "outputs": [
    {
     "name": "stdout",
     "output_type": "stream",
     "text": [
      "There are 98059 rows and 38 columns.\n"
     ]
    },
    {
     "data": {
      "text/html": [
       "<div>\n",
       "<style scoped>\n",
       "    .dataframe tbody tr th:only-of-type {\n",
       "        vertical-align: middle;\n",
       "    }\n",
       "\n",
       "    .dataframe tbody tr th {\n",
       "        vertical-align: top;\n",
       "    }\n",
       "\n",
       "    .dataframe thead th {\n",
       "        text-align: right;\n",
       "    }\n",
       "</style>\n",
       "<table border=\"1\" class=\"dataframe\">\n",
       "  <thead>\n",
       "    <tr style=\"text-align: right;\">\n",
       "      <th></th>\n",
       "      <th>day</th>\n",
       "      <th>name</th>\n",
       "      <th>info</th>\n",
       "      <th>link</th>\n",
       "      <th>num_references</th>\n",
       "      <th>year</th>\n",
       "      <th>month</th>\n",
       "      <th>info_parenth</th>\n",
       "      <th>info_1</th>\n",
       "      <th>info_2</th>\n",
       "      <th>info_3</th>\n",
       "      <th>info_4</th>\n",
       "      <th>info_5</th>\n",
       "      <th>info_6</th>\n",
       "      <th>info_7</th>\n",
       "      <th>info_8</th>\n",
       "      <th>info_9</th>\n",
       "      <th>info_10</th>\n",
       "      <th>info_11</th>\n",
       "      <th>age</th>\n",
       "      <th>cause_of_death</th>\n",
       "      <th>place_1</th>\n",
       "      <th>place_2</th>\n",
       "      <th>info_parenth_copy</th>\n",
       "      <th>log_num_references</th>\n",
       "      <th>sciences</th>\n",
       "      <th>social</th>\n",
       "      <th>spiritual</th>\n",
       "      <th>academia_humanities</th>\n",
       "      <th>business_farming</th>\n",
       "      <th>arts</th>\n",
       "      <th>sports</th>\n",
       "      <th>law_enf_military_operator</th>\n",
       "      <th>politics_govt_law</th>\n",
       "      <th>crime</th>\n",
       "      <th>event_record_other</th>\n",
       "      <th>other_species</th>\n",
       "      <th>num_categories</th>\n",
       "    </tr>\n",
       "  </thead>\n",
       "  <tbody>\n",
       "    <tr>\n",
       "      <th>0</th>\n",
       "      <td>1</td>\n",
       "      <td>William Chappell</td>\n",
       "      <td>, 86, British dancer, ballet designer and director.</td>\n",
       "      <td>https://en.wikipedia.org/wiki/William_Chappell_(dancer)</td>\n",
       "      <td>21</td>\n",
       "      <td>1994</td>\n",
       "      <td>January</td>\n",
       "      <td>None</td>\n",
       "      <td>None</td>\n",
       "      <td>dancer</td>\n",
       "      <td>ballet designer and director</td>\n",
       "      <td>None</td>\n",
       "      <td>None</td>\n",
       "      <td>None</td>\n",
       "      <td>None</td>\n",
       "      <td>None</td>\n",
       "      <td>None</td>\n",
       "      <td>None</td>\n",
       "      <td>None</td>\n",
       "      <td>86.0</td>\n",
       "      <td>None</td>\n",
       "      <td>United Kingdom of Great Britain and Northern Ireland</td>\n",
       "      <td>None</td>\n",
       "      <td>None</td>\n",
       "      <td>3.091042</td>\n",
       "      <td>0</td>\n",
       "      <td>0</td>\n",
       "      <td>0</td>\n",
       "      <td>0</td>\n",
       "      <td>0</td>\n",
       "      <td>0</td>\n",
       "      <td>0</td>\n",
       "      <td>0</td>\n",
       "      <td>0</td>\n",
       "      <td>0</td>\n",
       "      <td>0</td>\n",
       "      <td>0</td>\n",
       "      <td>0</td>\n",
       "    </tr>\n",
       "    <tr>\n",
       "      <th>1</th>\n",
       "      <td>1</td>\n",
       "      <td>Raymond Crotty</td>\n",
       "      <td>, 68, Irish economist, writer, and academic.</td>\n",
       "      <td>https://en.wikipedia.org/wiki/Raymond_Crotty</td>\n",
       "      <td>12</td>\n",
       "      <td>1994</td>\n",
       "      <td>January</td>\n",
       "      <td>None</td>\n",
       "      <td>None</td>\n",
       "      <td></td>\n",
       "      <td>writer</td>\n",
       "      <td>and academic</td>\n",
       "      <td>None</td>\n",
       "      <td>None</td>\n",
       "      <td>None</td>\n",
       "      <td>None</td>\n",
       "      <td>None</td>\n",
       "      <td>None</td>\n",
       "      <td>None</td>\n",
       "      <td>68.0</td>\n",
       "      <td>None</td>\n",
       "      <td>Ireland</td>\n",
       "      <td>None</td>\n",
       "      <td>None</td>\n",
       "      <td>2.564949</td>\n",
       "      <td>0</td>\n",
       "      <td>0</td>\n",
       "      <td>0</td>\n",
       "      <td>0</td>\n",
       "      <td>0</td>\n",
       "      <td>0</td>\n",
       "      <td>0</td>\n",
       "      <td>0</td>\n",
       "      <td>1</td>\n",
       "      <td>0</td>\n",
       "      <td>0</td>\n",
       "      <td>0</td>\n",
       "      <td>1</td>\n",
       "    </tr>\n",
       "  </tbody>\n",
       "</table>\n",
       "</div>"
      ],
      "text/plain": [
       "  day              name                                                 info  \\\n",
       "0   1  William Chappell  , 86, British dancer, ballet designer and director.   \n",
       "1   1    Raymond Crotty         , 68, Irish economist, writer, and academic.   \n",
       "\n",
       "                                                      link  num_references  \\\n",
       "0  https://en.wikipedia.org/wiki/William_Chappell_(dancer)              21   \n",
       "1             https://en.wikipedia.org/wiki/Raymond_Crotty              12   \n",
       "\n",
       "   year    month info_parenth info_1  info_2                        info_3  \\\n",
       "0  1994  January         None   None  dancer  ballet designer and director   \n",
       "1  1994  January         None   None                                writer   \n",
       "\n",
       "         info_4 info_5 info_6 info_7 info_8 info_9 info_10 info_11   age  \\\n",
       "0          None   None   None   None   None   None    None    None  86.0   \n",
       "1  and academic   None   None   None   None   None    None    None  68.0   \n",
       "\n",
       "  cause_of_death                                               place_1  \\\n",
       "0           None  United Kingdom of Great Britain and Northern Ireland   \n",
       "1           None                                               Ireland   \n",
       "\n",
       "  place_2 info_parenth_copy  log_num_references  sciences  social  spiritual  \\\n",
       "0    None              None            3.091042         0       0          0   \n",
       "1    None              None            2.564949         0       0          0   \n",
       "\n",
       "   academia_humanities  business_farming  arts  sports  \\\n",
       "0                    0                 0     0       0   \n",
       "1                    0                 0     0       0   \n",
       "\n",
       "   law_enf_military_operator  politics_govt_law  crime  event_record_other  \\\n",
       "0                          0                  0      0                   0   \n",
       "1                          0                  1      0                   0   \n",
       "\n",
       "   other_species  num_categories  \n",
       "0              0               0  \n",
       "1              0               1  "
      ]
     },
     "execution_count": 2,
     "metadata": {},
     "output_type": "execute_result"
    },
    {
     "data": {
      "application/javascript": [
       "\n",
       "            setTimeout(function() {\n",
       "                var nbb_cell_id = 2;\n",
       "                var nbb_unformatted_code = \"# Reading the dataset\\nconn = sql.connect(\\\"wp_life_expect_clean8.db\\\")\\ndata = pd.read_sql(\\\"SELECT * FROM wp_life_expect_clean8\\\", conn)\\n\\n# Making a working copy\\ndf = data.copy()\\n\\n# Checking the shape\\nprint(f\\\"There are {df.shape[0]} rows and {df.shape[1]} columns.\\\")\\n\\n# Checking first 2 rows of the data\\ndf.head(2)\";\n",
       "                var nbb_formatted_code = \"# Reading the dataset\\nconn = sql.connect(\\\"wp_life_expect_clean8.db\\\")\\ndata = pd.read_sql(\\\"SELECT * FROM wp_life_expect_clean8\\\", conn)\\n\\n# Making a working copy\\ndf = data.copy()\\n\\n# Checking the shape\\nprint(f\\\"There are {df.shape[0]} rows and {df.shape[1]} columns.\\\")\\n\\n# Checking first 2 rows of the data\\ndf.head(2)\";\n",
       "                var nbb_cells = Jupyter.notebook.get_cells();\n",
       "                for (var i = 0; i < nbb_cells.length; ++i) {\n",
       "                    if (nbb_cells[i].input_prompt_number == nbb_cell_id) {\n",
       "                        if (nbb_cells[i].get_text() == nbb_unformatted_code) {\n",
       "                             nbb_cells[i].set_text(nbb_formatted_code);\n",
       "                        }\n",
       "                        break;\n",
       "                    }\n",
       "                }\n",
       "            }, 500);\n",
       "            "
      ],
      "text/plain": [
       "<IPython.core.display.Javascript object>"
      ]
     },
     "metadata": {},
     "output_type": "display_data"
    }
   ],
   "source": [
    "# Reading the dataset\n",
    "conn = sql.connect(\"wp_life_expect_clean8.db\")\n",
    "data = pd.read_sql(\"SELECT * FROM wp_life_expect_clean8\", conn)\n",
    "\n",
    "# Making a working copy\n",
    "df = data.copy()\n",
    "\n",
    "# Checking the shape\n",
    "print(f\"There are {df.shape[0]} rows and {df.shape[1]} columns.\")\n",
    "\n",
    "# Checking first 2 rows of the data\n",
    "df.head(2)"
   ]
  },
  {
   "cell_type": "code",
   "execution_count": 3,
   "id": "6cca416f",
   "metadata": {},
   "outputs": [
    {
     "data": {
      "text/html": [
       "<div>\n",
       "<style scoped>\n",
       "    .dataframe tbody tr th:only-of-type {\n",
       "        vertical-align: middle;\n",
       "    }\n",
       "\n",
       "    .dataframe tbody tr th {\n",
       "        vertical-align: top;\n",
       "    }\n",
       "\n",
       "    .dataframe thead th {\n",
       "        text-align: right;\n",
       "    }\n",
       "</style>\n",
       "<table border=\"1\" class=\"dataframe\">\n",
       "  <thead>\n",
       "    <tr style=\"text-align: right;\">\n",
       "      <th></th>\n",
       "      <th>day</th>\n",
       "      <th>name</th>\n",
       "      <th>info</th>\n",
       "      <th>link</th>\n",
       "      <th>num_references</th>\n",
       "      <th>year</th>\n",
       "      <th>month</th>\n",
       "      <th>info_parenth</th>\n",
       "      <th>info_1</th>\n",
       "      <th>info_2</th>\n",
       "      <th>info_3</th>\n",
       "      <th>info_4</th>\n",
       "      <th>info_5</th>\n",
       "      <th>info_6</th>\n",
       "      <th>info_7</th>\n",
       "      <th>info_8</th>\n",
       "      <th>info_9</th>\n",
       "      <th>info_10</th>\n",
       "      <th>info_11</th>\n",
       "      <th>age</th>\n",
       "      <th>cause_of_death</th>\n",
       "      <th>place_1</th>\n",
       "      <th>place_2</th>\n",
       "      <th>info_parenth_copy</th>\n",
       "      <th>log_num_references</th>\n",
       "      <th>sciences</th>\n",
       "      <th>social</th>\n",
       "      <th>spiritual</th>\n",
       "      <th>academia_humanities</th>\n",
       "      <th>business_farming</th>\n",
       "      <th>arts</th>\n",
       "      <th>sports</th>\n",
       "      <th>law_enf_military_operator</th>\n",
       "      <th>politics_govt_law</th>\n",
       "      <th>crime</th>\n",
       "      <th>event_record_other</th>\n",
       "      <th>other_species</th>\n",
       "      <th>num_categories</th>\n",
       "    </tr>\n",
       "  </thead>\n",
       "  <tbody>\n",
       "    <tr>\n",
       "      <th>98057</th>\n",
       "      <td>9</td>\n",
       "      <td>Aamir Liaquat Hussain</td>\n",
       "      <td>, 50, Pakistani journalist and politician, MNA .</td>\n",
       "      <td>https://en.wikipedia.org/wiki/Aamir_Liaquat_Hussain</td>\n",
       "      <td>99</td>\n",
       "      <td>2022</td>\n",
       "      <td>June</td>\n",
       "      <td>, since</td>\n",
       "      <td>None</td>\n",
       "      <td></td>\n",
       "      <td>MNA</td>\n",
       "      <td>None</td>\n",
       "      <td>None</td>\n",
       "      <td>None</td>\n",
       "      <td>None</td>\n",
       "      <td>None</td>\n",
       "      <td>None</td>\n",
       "      <td>None</td>\n",
       "      <td>None</td>\n",
       "      <td>50.0</td>\n",
       "      <td>None</td>\n",
       "      <td>Pakistan</td>\n",
       "      <td>None</td>\n",
       "      <td>2002 2007, since 2018</td>\n",
       "      <td>4.605170</td>\n",
       "      <td>0</td>\n",
       "      <td>0</td>\n",
       "      <td>0</td>\n",
       "      <td>0</td>\n",
       "      <td>0</td>\n",
       "      <td>1</td>\n",
       "      <td>0</td>\n",
       "      <td>0</td>\n",
       "      <td>1</td>\n",
       "      <td>0</td>\n",
       "      <td>0</td>\n",
       "      <td>0</td>\n",
       "      <td>2</td>\n",
       "    </tr>\n",
       "    <tr>\n",
       "      <th>98058</th>\n",
       "      <td>9</td>\n",
       "      <td>Zou Jing</td>\n",
       "      <td>, 86, Chinese engineer, member of the Chinese Academy of Engineering.</td>\n",
       "      <td>https://en.wikipedia.org/wiki/Zou_Jing_(engineer)</td>\n",
       "      <td>3</td>\n",
       "      <td>2022</td>\n",
       "      <td>June</td>\n",
       "      <td>None</td>\n",
       "      <td>None</td>\n",
       "      <td></td>\n",
       "      <td>member of the Academy of Engineering</td>\n",
       "      <td>None</td>\n",
       "      <td>None</td>\n",
       "      <td>None</td>\n",
       "      <td>None</td>\n",
       "      <td>None</td>\n",
       "      <td>None</td>\n",
       "      <td>None</td>\n",
       "      <td>None</td>\n",
       "      <td>86.0</td>\n",
       "      <td>None</td>\n",
       "      <td>China, People's Republic of</td>\n",
       "      <td>None</td>\n",
       "      <td>None</td>\n",
       "      <td>1.386294</td>\n",
       "      <td>1</td>\n",
       "      <td>0</td>\n",
       "      <td>0</td>\n",
       "      <td>0</td>\n",
       "      <td>0</td>\n",
       "      <td>0</td>\n",
       "      <td>0</td>\n",
       "      <td>0</td>\n",
       "      <td>0</td>\n",
       "      <td>0</td>\n",
       "      <td>0</td>\n",
       "      <td>0</td>\n",
       "      <td>1</td>\n",
       "    </tr>\n",
       "  </tbody>\n",
       "</table>\n",
       "</div>"
      ],
      "text/plain": [
       "      day                   name  \\\n",
       "98057   9  Aamir Liaquat Hussain   \n",
       "98058   9               Zou Jing   \n",
       "\n",
       "                                                                        info  \\\n",
       "98057                       , 50, Pakistani journalist and politician, MNA .   \n",
       "98058  , 86, Chinese engineer, member of the Chinese Academy of Engineering.   \n",
       "\n",
       "                                                      link  num_references  \\\n",
       "98057  https://en.wikipedia.org/wiki/Aamir_Liaquat_Hussain              99   \n",
       "98058    https://en.wikipedia.org/wiki/Zou_Jing_(engineer)               3   \n",
       "\n",
       "       year month info_parenth info_1 info_2  \\\n",
       "98057  2022  June      , since   None          \n",
       "98058  2022  June         None   None          \n",
       "\n",
       "                                     info_3 info_4 info_5 info_6 info_7  \\\n",
       "98057                                   MNA   None   None   None   None   \n",
       "98058  member of the Academy of Engineering   None   None   None   None   \n",
       "\n",
       "      info_8 info_9 info_10 info_11   age cause_of_death  \\\n",
       "98057   None   None    None    None  50.0           None   \n",
       "98058   None   None    None    None  86.0           None   \n",
       "\n",
       "                           place_1 place_2      info_parenth_copy  \\\n",
       "98057                     Pakistan    None  2002 2007, since 2018   \n",
       "98058  China, People's Republic of    None                   None   \n",
       "\n",
       "       log_num_references  sciences  social  spiritual  academia_humanities  \\\n",
       "98057            4.605170         0       0          0                    0   \n",
       "98058            1.386294         1       0          0                    0   \n",
       "\n",
       "       business_farming  arts  sports  law_enf_military_operator  \\\n",
       "98057                 0     1       0                          0   \n",
       "98058                 0     0       0                          0   \n",
       "\n",
       "       politics_govt_law  crime  event_record_other  other_species  \\\n",
       "98057                  1      0                   0              0   \n",
       "98058                  0      0                   0              0   \n",
       "\n",
       "       num_categories  \n",
       "98057               2  \n",
       "98058               1  "
      ]
     },
     "execution_count": 3,
     "metadata": {},
     "output_type": "execute_result"
    },
    {
     "data": {
      "application/javascript": [
       "\n",
       "            setTimeout(function() {\n",
       "                var nbb_cell_id = 3;\n",
       "                var nbb_unformatted_code = \"# Checking last 2 rows of the data\\ndf.tail(2)\";\n",
       "                var nbb_formatted_code = \"# Checking last 2 rows of the data\\ndf.tail(2)\";\n",
       "                var nbb_cells = Jupyter.notebook.get_cells();\n",
       "                for (var i = 0; i < nbb_cells.length; ++i) {\n",
       "                    if (nbb_cells[i].input_prompt_number == nbb_cell_id) {\n",
       "                        if (nbb_cells[i].get_text() == nbb_unformatted_code) {\n",
       "                             nbb_cells[i].set_text(nbb_formatted_code);\n",
       "                        }\n",
       "                        break;\n",
       "                    }\n",
       "                }\n",
       "            }, 500);\n",
       "            "
      ],
      "text/plain": [
       "<IPython.core.display.Javascript object>"
      ]
     },
     "metadata": {},
     "output_type": "display_data"
    }
   ],
   "source": [
    "# Checking last 2 rows of the data\n",
    "df.tail(2)"
   ]
  },
  {
   "cell_type": "code",
   "execution_count": 4,
   "id": "de6e8ee5",
   "metadata": {},
   "outputs": [
    {
     "data": {
      "text/html": [
       "<div>\n",
       "<style scoped>\n",
       "    .dataframe tbody tr th:only-of-type {\n",
       "        vertical-align: middle;\n",
       "    }\n",
       "\n",
       "    .dataframe tbody tr th {\n",
       "        vertical-align: top;\n",
       "    }\n",
       "\n",
       "    .dataframe thead th {\n",
       "        text-align: right;\n",
       "    }\n",
       "</style>\n",
       "<table border=\"1\" class=\"dataframe\">\n",
       "  <thead>\n",
       "    <tr style=\"text-align: right;\">\n",
       "      <th></th>\n",
       "      <th>day</th>\n",
       "      <th>name</th>\n",
       "      <th>info</th>\n",
       "      <th>link</th>\n",
       "      <th>num_references</th>\n",
       "      <th>year</th>\n",
       "      <th>month</th>\n",
       "      <th>info_parenth</th>\n",
       "      <th>info_1</th>\n",
       "      <th>info_2</th>\n",
       "      <th>info_3</th>\n",
       "      <th>info_4</th>\n",
       "      <th>info_5</th>\n",
       "      <th>info_6</th>\n",
       "      <th>info_7</th>\n",
       "      <th>info_8</th>\n",
       "      <th>info_9</th>\n",
       "      <th>info_10</th>\n",
       "      <th>info_11</th>\n",
       "      <th>age</th>\n",
       "      <th>cause_of_death</th>\n",
       "      <th>place_1</th>\n",
       "      <th>place_2</th>\n",
       "      <th>info_parenth_copy</th>\n",
       "      <th>log_num_references</th>\n",
       "      <th>sciences</th>\n",
       "      <th>social</th>\n",
       "      <th>spiritual</th>\n",
       "      <th>academia_humanities</th>\n",
       "      <th>business_farming</th>\n",
       "      <th>arts</th>\n",
       "      <th>sports</th>\n",
       "      <th>law_enf_military_operator</th>\n",
       "      <th>politics_govt_law</th>\n",
       "      <th>crime</th>\n",
       "      <th>event_record_other</th>\n",
       "      <th>other_species</th>\n",
       "      <th>num_categories</th>\n",
       "    </tr>\n",
       "  </thead>\n",
       "  <tbody>\n",
       "    <tr>\n",
       "      <th>11241</th>\n",
       "      <td>15</td>\n",
       "      <td>Johnny Duncan</td>\n",
       "      <td>, 67, American bluegrass musician.</td>\n",
       "      <td>https://en.wikipedia.org/wiki/Johnny_Duncan_(bluegrass_musician)</td>\n",
       "      <td>5</td>\n",
       "      <td>2000</td>\n",
       "      <td>July</td>\n",
       "      <td>None</td>\n",
       "      <td>None</td>\n",
       "      <td></td>\n",
       "      <td>None</td>\n",
       "      <td>None</td>\n",
       "      <td>None</td>\n",
       "      <td>None</td>\n",
       "      <td>None</td>\n",
       "      <td>None</td>\n",
       "      <td>None</td>\n",
       "      <td>None</td>\n",
       "      <td>None</td>\n",
       "      <td>67.0</td>\n",
       "      <td>None</td>\n",
       "      <td>United States of America</td>\n",
       "      <td>None</td>\n",
       "      <td>None</td>\n",
       "      <td>1.791759</td>\n",
       "      <td>0</td>\n",
       "      <td>0</td>\n",
       "      <td>0</td>\n",
       "      <td>0</td>\n",
       "      <td>0</td>\n",
       "      <td>1</td>\n",
       "      <td>0</td>\n",
       "      <td>0</td>\n",
       "      <td>0</td>\n",
       "      <td>0</td>\n",
       "      <td>0</td>\n",
       "      <td>0</td>\n",
       "      <td>1</td>\n",
       "    </tr>\n",
       "    <tr>\n",
       "      <th>3112</th>\n",
       "      <td>24</td>\n",
       "      <td>Anna Wood</td>\n",
       "      <td>, 15, Australian teenager, drug overdose.</td>\n",
       "      <td>https://en.wikipedia.org/wiki/Anna_Wood_(born_1980)</td>\n",
       "      <td>21</td>\n",
       "      <td>1995</td>\n",
       "      <td>October</td>\n",
       "      <td>None</td>\n",
       "      <td>None</td>\n",
       "      <td>teenager</td>\n",
       "      <td>drug overdose</td>\n",
       "      <td>None</td>\n",
       "      <td>None</td>\n",
       "      <td>None</td>\n",
       "      <td>None</td>\n",
       "      <td>None</td>\n",
       "      <td>None</td>\n",
       "      <td>None</td>\n",
       "      <td>None</td>\n",
       "      <td>15.0</td>\n",
       "      <td>None</td>\n",
       "      <td>Australia</td>\n",
       "      <td>None</td>\n",
       "      <td>None</td>\n",
       "      <td>3.091042</td>\n",
       "      <td>0</td>\n",
       "      <td>0</td>\n",
       "      <td>0</td>\n",
       "      <td>0</td>\n",
       "      <td>0</td>\n",
       "      <td>0</td>\n",
       "      <td>0</td>\n",
       "      <td>0</td>\n",
       "      <td>0</td>\n",
       "      <td>0</td>\n",
       "      <td>0</td>\n",
       "      <td>0</td>\n",
       "      <td>0</td>\n",
       "    </tr>\n",
       "    <tr>\n",
       "      <th>44023</th>\n",
       "      <td>11</td>\n",
       "      <td>Eugene Parks Wilkinson</td>\n",
       "      <td>, 94, American naval officer and nuclear power advocate, first CO of the USS Long Beach, founding CEO of the Institute of Nuclear Power Operations.</td>\n",
       "      <td>https://en.wikipedia.org/wiki/Eugene_Parks_Wilkinson</td>\n",
       "      <td>9</td>\n",
       "      <td>2013</td>\n",
       "      <td>July</td>\n",
       "      <td>None</td>\n",
       "      <td>None</td>\n",
       "      <td>naval officer and nuclear power advocate</td>\n",
       "      <td>first CO of the USS Long Beach</td>\n",
       "      <td>founding CEO of the Institute of Nuclear Power Operations</td>\n",
       "      <td>None</td>\n",
       "      <td>None</td>\n",
       "      <td>None</td>\n",
       "      <td>None</td>\n",
       "      <td>None</td>\n",
       "      <td>None</td>\n",
       "      <td>None</td>\n",
       "      <td>94.0</td>\n",
       "      <td>None</td>\n",
       "      <td>United States of America</td>\n",
       "      <td>None</td>\n",
       "      <td>None</td>\n",
       "      <td>2.302585</td>\n",
       "      <td>0</td>\n",
       "      <td>0</td>\n",
       "      <td>0</td>\n",
       "      <td>0</td>\n",
       "      <td>0</td>\n",
       "      <td>0</td>\n",
       "      <td>0</td>\n",
       "      <td>0</td>\n",
       "      <td>0</td>\n",
       "      <td>0</td>\n",
       "      <td>0</td>\n",
       "      <td>0</td>\n",
       "      <td>0</td>\n",
       "    </tr>\n",
       "    <tr>\n",
       "      <th>67667</th>\n",
       "      <td>18</td>\n",
       "      <td>Pavel Panov</td>\n",
       "      <td>, 67, Bulgarian football player and coach .</td>\n",
       "      <td>https://en.wikipedia.org/wiki/Pavel_Panov</td>\n",
       "      <td>3</td>\n",
       "      <td>2018</td>\n",
       "      <td>February</td>\n",
       "      <td>Levski Sofia, Aris, national team</td>\n",
       "      <td>None</td>\n",
       "      <td></td>\n",
       "      <td>None</td>\n",
       "      <td>None</td>\n",
       "      <td>None</td>\n",
       "      <td>None</td>\n",
       "      <td>None</td>\n",
       "      <td>None</td>\n",
       "      <td>None</td>\n",
       "      <td>None</td>\n",
       "      <td>None</td>\n",
       "      <td>67.0</td>\n",
       "      <td>None</td>\n",
       "      <td>Bulgaria</td>\n",
       "      <td>None</td>\n",
       "      <td>Levski Sofia, Aris, national team</td>\n",
       "      <td>1.386294</td>\n",
       "      <td>0</td>\n",
       "      <td>0</td>\n",
       "      <td>0</td>\n",
       "      <td>0</td>\n",
       "      <td>0</td>\n",
       "      <td>0</td>\n",
       "      <td>1</td>\n",
       "      <td>0</td>\n",
       "      <td>0</td>\n",
       "      <td>0</td>\n",
       "      <td>0</td>\n",
       "      <td>0</td>\n",
       "      <td>1</td>\n",
       "    </tr>\n",
       "    <tr>\n",
       "      <th>5822</th>\n",
       "      <td>31</td>\n",
       "      <td>Oswald Kaduk</td>\n",
       "      <td>, 90, German SS officer and war criminal during World War II.</td>\n",
       "      <td>https://en.wikipedia.org/wiki/Oswald_Kaduk</td>\n",
       "      <td>10</td>\n",
       "      <td>1997</td>\n",
       "      <td>May</td>\n",
       "      <td>None</td>\n",
       "      <td>None</td>\n",
       "      <td>SS officer and war criminal during World War II</td>\n",
       "      <td>None</td>\n",
       "      <td>None</td>\n",
       "      <td>None</td>\n",
       "      <td>None</td>\n",
       "      <td>None</td>\n",
       "      <td>None</td>\n",
       "      <td>None</td>\n",
       "      <td>None</td>\n",
       "      <td>None</td>\n",
       "      <td>90.0</td>\n",
       "      <td>None</td>\n",
       "      <td>Germany</td>\n",
       "      <td>None</td>\n",
       "      <td>None</td>\n",
       "      <td>2.397895</td>\n",
       "      <td>0</td>\n",
       "      <td>0</td>\n",
       "      <td>0</td>\n",
       "      <td>0</td>\n",
       "      <td>0</td>\n",
       "      <td>0</td>\n",
       "      <td>0</td>\n",
       "      <td>0</td>\n",
       "      <td>0</td>\n",
       "      <td>0</td>\n",
       "      <td>0</td>\n",
       "      <td>0</td>\n",
       "      <td>0</td>\n",
       "    </tr>\n",
       "  </tbody>\n",
       "</table>\n",
       "</div>"
      ],
      "text/plain": [
       "      day                    name  \\\n",
       "11241  15           Johnny Duncan   \n",
       "3112   24               Anna Wood   \n",
       "44023  11  Eugene Parks Wilkinson   \n",
       "67667  18             Pavel Panov   \n",
       "5822   31            Oswald Kaduk   \n",
       "\n",
       "                                                                                                                                                      info  \\\n",
       "11241                                                                                                                   , 67, American bluegrass musician.   \n",
       "3112                                                                                                             , 15, Australian teenager, drug overdose.   \n",
       "44023  , 94, American naval officer and nuclear power advocate, first CO of the USS Long Beach, founding CEO of the Institute of Nuclear Power Operations.   \n",
       "67667                                                                                                          , 67, Bulgarian football player and coach .   \n",
       "5822                                                                                         , 90, German SS officer and war criminal during World War II.   \n",
       "\n",
       "                                                                   link  \\\n",
       "11241  https://en.wikipedia.org/wiki/Johnny_Duncan_(bluegrass_musician)   \n",
       "3112                https://en.wikipedia.org/wiki/Anna_Wood_(born_1980)   \n",
       "44023              https://en.wikipedia.org/wiki/Eugene_Parks_Wilkinson   \n",
       "67667                         https://en.wikipedia.org/wiki/Pavel_Panov   \n",
       "5822                         https://en.wikipedia.org/wiki/Oswald_Kaduk   \n",
       "\n",
       "       num_references  year     month                       info_parenth  \\\n",
       "11241               5  2000      July                               None   \n",
       "3112               21  1995   October                               None   \n",
       "44023               9  2013      July                               None   \n",
       "67667               3  2018  February  Levski Sofia, Aris, national team   \n",
       "5822               10  1997       May                               None   \n",
       "\n",
       "      info_1                                           info_2  \\\n",
       "11241   None                                                    \n",
       "3112    None                                         teenager   \n",
       "44023   None         naval officer and nuclear power advocate   \n",
       "67667   None                                                    \n",
       "5822    None  SS officer and war criminal during World War II   \n",
       "\n",
       "                               info_3  \\\n",
       "11241                            None   \n",
       "3112                    drug overdose   \n",
       "44023  first CO of the USS Long Beach   \n",
       "67667                            None   \n",
       "5822                             None   \n",
       "\n",
       "                                                          info_4 info_5  \\\n",
       "11241                                                       None   None   \n",
       "3112                                                        None   None   \n",
       "44023  founding CEO of the Institute of Nuclear Power Operations   None   \n",
       "67667                                                       None   None   \n",
       "5822                                                        None   None   \n",
       "\n",
       "      info_6 info_7 info_8 info_9 info_10 info_11   age cause_of_death  \\\n",
       "11241   None   None   None   None    None    None  67.0           None   \n",
       "3112    None   None   None   None    None    None  15.0           None   \n",
       "44023   None   None   None   None    None    None  94.0           None   \n",
       "67667   None   None   None   None    None    None  67.0           None   \n",
       "5822    None   None   None   None    None    None  90.0           None   \n",
       "\n",
       "                        place_1 place_2                  info_parenth_copy  \\\n",
       "11241  United States of America    None                               None   \n",
       "3112                  Australia    None                               None   \n",
       "44023  United States of America    None                               None   \n",
       "67667                  Bulgaria    None  Levski Sofia, Aris, national team   \n",
       "5822                    Germany    None                               None   \n",
       "\n",
       "       log_num_references  sciences  social  spiritual  academia_humanities  \\\n",
       "11241            1.791759         0       0          0                    0   \n",
       "3112             3.091042         0       0          0                    0   \n",
       "44023            2.302585         0       0          0                    0   \n",
       "67667            1.386294         0       0          0                    0   \n",
       "5822             2.397895         0       0          0                    0   \n",
       "\n",
       "       business_farming  arts  sports  law_enf_military_operator  \\\n",
       "11241                 0     1       0                          0   \n",
       "3112                  0     0       0                          0   \n",
       "44023                 0     0       0                          0   \n",
       "67667                 0     0       1                          0   \n",
       "5822                  0     0       0                          0   \n",
       "\n",
       "       politics_govt_law  crime  event_record_other  other_species  \\\n",
       "11241                  0      0                   0              0   \n",
       "3112                   0      0                   0              0   \n",
       "44023                  0      0                   0              0   \n",
       "67667                  0      0                   0              0   \n",
       "5822                   0      0                   0              0   \n",
       "\n",
       "       num_categories  \n",
       "11241               1  \n",
       "3112                0  \n",
       "44023               0  \n",
       "67667               1  \n",
       "5822                0  "
      ]
     },
     "execution_count": 4,
     "metadata": {},
     "output_type": "execute_result"
    },
    {
     "data": {
      "application/javascript": [
       "\n",
       "            setTimeout(function() {\n",
       "                var nbb_cell_id = 4;\n",
       "                var nbb_unformatted_code = \"# Checking a sample of the data\\ndf.sample(5)\";\n",
       "                var nbb_formatted_code = \"# Checking a sample of the data\\ndf.sample(5)\";\n",
       "                var nbb_cells = Jupyter.notebook.get_cells();\n",
       "                for (var i = 0; i < nbb_cells.length; ++i) {\n",
       "                    if (nbb_cells[i].input_prompt_number == nbb_cell_id) {\n",
       "                        if (nbb_cells[i].get_text() == nbb_unformatted_code) {\n",
       "                             nbb_cells[i].set_text(nbb_formatted_code);\n",
       "                        }\n",
       "                        break;\n",
       "                    }\n",
       "                }\n",
       "            }, 500);\n",
       "            "
      ],
      "text/plain": [
       "<IPython.core.display.Javascript object>"
      ]
     },
     "metadata": {},
     "output_type": "display_data"
    }
   ],
   "source": [
    "# Checking a sample of the data\n",
    "df.sample(5)"
   ]
  },
  {
   "cell_type": "markdown",
   "id": "8d5f29da",
   "metadata": {},
   "source": [
    "### Checking Data Types, Duplicates, and Null Values"
   ]
  },
  {
   "cell_type": "code",
   "execution_count": 5,
   "id": "bf505f87",
   "metadata": {},
   "outputs": [
    {
     "name": "stdout",
     "output_type": "stream",
     "text": [
      "<class 'pandas.core.frame.DataFrame'>\n",
      "RangeIndex: 98059 entries, 0 to 98058\n",
      "Data columns (total 38 columns):\n",
      " #   Column                     Non-Null Count  Dtype  \n",
      "---  ------                     --------------  -----  \n",
      " 0   day                        98059 non-null  object \n",
      " 1   name                       98059 non-null  object \n",
      " 2   info                       98059 non-null  object \n",
      " 3   link                       98059 non-null  object \n",
      " 4   num_references             98059 non-null  int64  \n",
      " 5   year                       98059 non-null  int64  \n",
      " 6   month                      98059 non-null  object \n",
      " 7   info_parenth               36661 non-null  object \n",
      " 8   info_1                     22 non-null     object \n",
      " 9   info_2                     98027 non-null  object \n",
      " 10  info_3                     48896 non-null  object \n",
      " 11  info_4                     10264 non-null  object \n",
      " 12  info_5                     1265 non-null   object \n",
      " 13  info_6                     181 non-null    object \n",
      " 14  info_7                     27 non-null     object \n",
      " 15  info_8                     5 non-null      object \n",
      " 16  info_9                     1 non-null      object \n",
      " 17  info_10                    1 non-null      object \n",
      " 18  info_11                    1 non-null      object \n",
      " 19  age                        98059 non-null  float64\n",
      " 20  cause_of_death             8 non-null      object \n",
      " 21  place_1                    97905 non-null  object \n",
      " 22  place_2                    8115 non-null   object \n",
      " 23  info_parenth_copy          36661 non-null  object \n",
      " 24  log_num_references         98059 non-null  float64\n",
      " 25  sciences                   98059 non-null  int64  \n",
      " 26  social                     98059 non-null  int64  \n",
      " 27  spiritual                  98059 non-null  int64  \n",
      " 28  academia_humanities        98059 non-null  int64  \n",
      " 29  business_farming           98059 non-null  int64  \n",
      " 30  arts                       98059 non-null  int64  \n",
      " 31  sports                     98059 non-null  int64  \n",
      " 32  law_enf_military_operator  98059 non-null  int64  \n",
      " 33  politics_govt_law          98059 non-null  int64  \n",
      " 34  crime                      98059 non-null  int64  \n",
      " 35  event_record_other         98059 non-null  int64  \n",
      " 36  other_species              98059 non-null  int64  \n",
      " 37  num_categories             98059 non-null  int64  \n",
      "dtypes: float64(2), int64(15), object(21)\n",
      "memory usage: 28.4+ MB\n"
     ]
    },
    {
     "data": {
      "application/javascript": [
       "\n",
       "            setTimeout(function() {\n",
       "                var nbb_cell_id = 5;\n",
       "                var nbb_unformatted_code = \"# Checking data types and null values\\ndf.info()\";\n",
       "                var nbb_formatted_code = \"# Checking data types and null values\\ndf.info()\";\n",
       "                var nbb_cells = Jupyter.notebook.get_cells();\n",
       "                for (var i = 0; i < nbb_cells.length; ++i) {\n",
       "                    if (nbb_cells[i].input_prompt_number == nbb_cell_id) {\n",
       "                        if (nbb_cells[i].get_text() == nbb_unformatted_code) {\n",
       "                             nbb_cells[i].set_text(nbb_formatted_code);\n",
       "                        }\n",
       "                        break;\n",
       "                    }\n",
       "                }\n",
       "            }, 500);\n",
       "            "
      ],
      "text/plain": [
       "<IPython.core.display.Javascript object>"
      ]
     },
     "metadata": {},
     "output_type": "display_data"
    }
   ],
   "source": [
    "# Checking data types and null values\n",
    "df.info()"
   ]
  },
  {
   "cell_type": "markdown",
   "id": "c459d7f8",
   "metadata": {},
   "source": [
    "#### Observations:\n",
    "- With our dataset loaded, we can pick up where we left off with extracting known_for values by rebuilding `known_for_dict`."
   ]
  },
  {
   "cell_type": "markdown",
   "id": "5c542ec1",
   "metadata": {},
   "source": [
    "### Extracting `known_for` Continued"
   ]
  },
  {
   "cell_type": "markdown",
   "id": "49405767",
   "metadata": {},
   "source": [
    "#### Finding `known_for` Roles in `info_2`"
   ]
  },
  {
   "cell_type": "code",
   "execution_count": 6,
   "id": "19c24178",
   "metadata": {},
   "outputs": [
    {
     "data": {
      "application/javascript": [
       "\n",
       "            setTimeout(function() {\n",
       "                var nbb_cell_id = 6;\n",
       "                var nbb_unformatted_code = \"# # Obtaining values for column and their counts\\n# roles_list = df[\\\"info_2\\\"].value_counts(ascending=True).index.tolist()\";\n",
       "                var nbb_formatted_code = \"# # Obtaining values for column and their counts\\n# roles_list = df[\\\"info_2\\\"].value_counts(ascending=True).index.tolist()\";\n",
       "                var nbb_cells = Jupyter.notebook.get_cells();\n",
       "                for (var i = 0; i < nbb_cells.length; ++i) {\n",
       "                    if (nbb_cells[i].input_prompt_number == nbb_cell_id) {\n",
       "                        if (nbb_cells[i].get_text() == nbb_unformatted_code) {\n",
       "                             nbb_cells[i].set_text(nbb_formatted_code);\n",
       "                        }\n",
       "                        break;\n",
       "                    }\n",
       "                }\n",
       "            }, 500);\n",
       "            "
      ],
      "text/plain": [
       "<IPython.core.display.Javascript object>"
      ]
     },
     "metadata": {},
     "output_type": "display_data"
    }
   ],
   "source": [
    "# # Obtaining values for column and their counts\n",
    "# roles_list = df[\"info_2\"].value_counts(ascending=True).index.tolist()"
   ]
  },
  {
   "cell_type": "code",
   "execution_count": 7,
   "id": "412581ef",
   "metadata": {},
   "outputs": [
    {
     "data": {
      "application/javascript": [
       "\n",
       "            setTimeout(function() {\n",
       "                var nbb_cell_id = 7;\n",
       "                var nbb_unformatted_code = \"# # Code to check each value\\n# roles_list.pop()\";\n",
       "                var nbb_formatted_code = \"# # Code to check each value\\n# roles_list.pop()\";\n",
       "                var nbb_cells = Jupyter.notebook.get_cells();\n",
       "                for (var i = 0; i < nbb_cells.length; ++i) {\n",
       "                    if (nbb_cells[i].input_prompt_number == nbb_cell_id) {\n",
       "                        if (nbb_cells[i].get_text() == nbb_unformatted_code) {\n",
       "                             nbb_cells[i].set_text(nbb_formatted_code);\n",
       "                        }\n",
       "                        break;\n",
       "                    }\n",
       "                }\n",
       "            }, 500);\n",
       "            "
      ],
      "text/plain": [
       "<IPython.core.display.Javascript object>"
      ]
     },
     "metadata": {},
     "output_type": "display_data"
    }
   ],
   "source": [
    "# # Code to check each value\n",
    "# roles_list.pop()"
   ]
  },
  {
   "cell_type": "code",
   "execution_count": 8,
   "id": "34b7df51",
   "metadata": {},
   "outputs": [
    {
     "data": {
      "application/javascript": [
       "\n",
       "            setTimeout(function() {\n",
       "                var nbb_cell_id = 8;\n",
       "                var nbb_unformatted_code = \"# # Create specific_roles_list for above popped value\\n# specific_roles_list = (\\n#     df.loc[\\n#         [index for index in df.index if \\\"cartoonist\\\" in df.loc[index, \\\"info\\\"]],\\n#         \\\"info_2\\\",\\n#     ]\\n#     .value_counts()\\n#     .index.tolist()\\n# )\";\n",
       "                var nbb_formatted_code = \"# # Create specific_roles_list for above popped value\\n# specific_roles_list = (\\n#     df.loc[\\n#         [index for index in df.index if \\\"cartoonist\\\" in df.loc[index, \\\"info\\\"]],\\n#         \\\"info_2\\\",\\n#     ]\\n#     .value_counts()\\n#     .index.tolist()\\n# )\";\n",
       "                var nbb_cells = Jupyter.notebook.get_cells();\n",
       "                for (var i = 0; i < nbb_cells.length; ++i) {\n",
       "                    if (nbb_cells[i].input_prompt_number == nbb_cell_id) {\n",
       "                        if (nbb_cells[i].get_text() == nbb_unformatted_code) {\n",
       "                             nbb_cells[i].set_text(nbb_formatted_code);\n",
       "                        }\n",
       "                        break;\n",
       "                    }\n",
       "                }\n",
       "            }, 500);\n",
       "            "
      ],
      "text/plain": [
       "<IPython.core.display.Javascript object>"
      ]
     },
     "metadata": {},
     "output_type": "display_data"
    }
   ],
   "source": [
    "# # Create specific_roles_list for above popped value\n",
    "# specific_roles_list = (\n",
    "#     df.loc[\n",
    "#         [index for index in df.index if \"cartoonist\" in df.loc[index, \"info\"]],\n",
    "#         \"info_2\",\n",
    "#     ]\n",
    "#     .value_counts()\n",
    "#     .index.tolist()\n",
    "# )"
   ]
  },
  {
   "cell_type": "code",
   "execution_count": 9,
   "id": "379ae415",
   "metadata": {},
   "outputs": [
    {
     "data": {
      "application/javascript": [
       "\n",
       "            setTimeout(function() {\n",
       "                var nbb_cell_id = 9;\n",
       "                var nbb_unformatted_code = \"# # Code to check each specific value\\n# specific_roles_list.pop()\";\n",
       "                var nbb_formatted_code = \"# # Code to check each specific value\\n# specific_roles_list.pop()\";\n",
       "                var nbb_cells = Jupyter.notebook.get_cells();\n",
       "                for (var i = 0; i < nbb_cells.length; ++i) {\n",
       "                    if (nbb_cells[i].input_prompt_number == nbb_cell_id) {\n",
       "                        if (nbb_cells[i].get_text() == nbb_unformatted_code) {\n",
       "                             nbb_cells[i].set_text(nbb_formatted_code);\n",
       "                        }\n",
       "                        break;\n",
       "                    }\n",
       "                }\n",
       "            }, 500);\n",
       "            "
      ],
      "text/plain": [
       "<IPython.core.display.Javascript object>"
      ]
     },
     "metadata": {},
     "output_type": "display_data"
    }
   ],
   "source": [
    "# # Code to check each specific value\n",
    "# specific_roles_list.pop()"
   ]
  },
  {
   "cell_type": "code",
   "execution_count": 10,
   "id": "eb844061",
   "metadata": {},
   "outputs": [
    {
     "data": {
      "application/javascript": [
       "\n",
       "            setTimeout(function() {\n",
       "                var nbb_cell_id = 10;\n",
       "                var nbb_unformatted_code = \"# # Example code to quick-screen values that may overlap categories\\n# df.loc[[index for index in df.index if \\\"and fundamentalist\\\" in df.loc[index, \\\"info\\\"]]]\";\n",
       "                var nbb_formatted_code = \"# # Example code to quick-screen values that may overlap categories\\n# df.loc[[index for index in df.index if \\\"and fundamentalist\\\" in df.loc[index, \\\"info\\\"]]]\";\n",
       "                var nbb_cells = Jupyter.notebook.get_cells();\n",
       "                for (var i = 0; i < nbb_cells.length; ++i) {\n",
       "                    if (nbb_cells[i].input_prompt_number == nbb_cell_id) {\n",
       "                        if (nbb_cells[i].get_text() == nbb_unformatted_code) {\n",
       "                             nbb_cells[i].set_text(nbb_formatted_code);\n",
       "                        }\n",
       "                        break;\n",
       "                    }\n",
       "                }\n",
       "            }, 500);\n",
       "            "
      ],
      "text/plain": [
       "<IPython.core.display.Javascript object>"
      ]
     },
     "metadata": {},
     "output_type": "display_data"
    }
   ],
   "source": [
    "# # Example code to quick-screen values that may overlap categories\n",
    "# df.loc[[index for index in df.index if \"and fundamentalist\" in df.loc[index, \"info\"]]]"
   ]
  },
  {
   "cell_type": "code",
   "execution_count": 11,
   "id": "d2e69ece",
   "metadata": {},
   "outputs": [
    {
     "data": {
      "application/javascript": [
       "\n",
       "            setTimeout(function() {\n",
       "                var nbb_cell_id = 11;\n",
       "                var nbb_unformatted_code = \"# # Example code to quick-check a specific entry\\n# df[df[\\\"info_2\\\"] == \\\"World War II cartoonist\\\"]\";\n",
       "                var nbb_formatted_code = \"# # Example code to quick-check a specific entry\\n# df[df[\\\"info_2\\\"] == \\\"World War II cartoonist\\\"]\";\n",
       "                var nbb_cells = Jupyter.notebook.get_cells();\n",
       "                for (var i = 0; i < nbb_cells.length; ++i) {\n",
       "                    if (nbb_cells[i].input_prompt_number == nbb_cell_id) {\n",
       "                        if (nbb_cells[i].get_text() == nbb_unformatted_code) {\n",
       "                             nbb_cells[i].set_text(nbb_formatted_code);\n",
       "                        }\n",
       "                        break;\n",
       "                    }\n",
       "                }\n",
       "            }, 500);\n",
       "            "
      ],
      "text/plain": [
       "<IPython.core.display.Javascript object>"
      ]
     },
     "metadata": {},
     "output_type": "display_data"
    }
   ],
   "source": [
    "# # Example code to quick-check a specific entry\n",
    "# df[df[\"info_2\"] == \"World War II cartoonist\"]"
   ]
  },
  {
   "cell_type": "markdown",
   "id": "210200ab",
   "metadata": {},
   "source": [
    "#### Creating Lists for Each `known_for` Category"
   ]
  },
  {
   "cell_type": "code",
   "execution_count": 12,
   "id": "99e98490",
   "metadata": {},
   "outputs": [
    {
     "data": {
      "application/javascript": [
       "\n",
       "            setTimeout(function() {\n",
       "                var nbb_cell_id = 12;\n",
       "                var nbb_unformatted_code = \"# Creating lists for each category\\npolitics_govt_law = [\\n    \\\"satirical and political\\\",\\n]\\n\\narts = [\\n    'cartoonist Known for the biplane flying overhead trailing a banner that read \\\"mild',\\n    \\\"editorial cartoonist and the creator of the comic strip\\\",\\n    \\\"comic book and comic strip cartoonist and illustrator\\\",\\n    \\\"editorial cartoonist and prop and set designer\\\",\\n    \\\"underground cartoonist and fetish art pioneer\\\",\\n    \\\"children book illustrator and cartoonist\\\",\\n    \\\"cartoonist and television personality\\\",\\n    \\\"cartoonist who created the comic book\\\",\\n    \\\"television producer and cartoonist\\\",\\n    \\\"cartoonist and newspaper columnist\\\",\\n    \\\"Pulitzer Prize winning cartoonist\\\",\\n    \\\"cartoonist and fundamentalist\\\",\\n    \\\"cartoonist for The New Yorker\\\",\\n    \\\"cartoonist and puzzle creator\\\",\\n    \\\"underground comix cartoonist\\\",\\n    \\\"cartoonist and caricaturist\\\",\\n    \\\"illustrator and cartoonist\\\",\\n    \\\"cartoonist and illustrator\\\",\\n    \\\"cartoonist and publisher\\\",\\n    \\\"animator and cartoonist\\\",\\n    \\\"cartoonist and animator\\\",\\n    \\\"cartoonist and designer\\\",\\n    \\\"World War II cartoonist\\\",\\n    \\\"underground cartoonist\\\",\\n    \\\"comic strip cartoonist\\\",\\n    \\\"comic  and cartoonist\\\",\\n    \\\"editorial cartoonist\\\",\\n    \\\"animation cartoonist\\\",\\n    \\\"newspaper cartoonist\\\",\\n    \\\"manga cartoonist\\\",\\n    \\\"cartoonist and\\\",\\n    \\\"and cartoonist\\\",\\n    \\\"cartoonist\\\",\\n]\\nsports = []\\nsciences = []\\n\\nbusiness_farming = []\\nacademia_humanities = []\\nlaw_enf_military_operator = []\\nspiritual = []\\nsocial = []\\ncrime = []\\nevent_record_other = []\\nother_species = []\";\n",
       "                var nbb_formatted_code = \"# Creating lists for each category\\npolitics_govt_law = [\\n    \\\"satirical and political\\\",\\n]\\n\\narts = [\\n    'cartoonist Known for the biplane flying overhead trailing a banner that read \\\"mild',\\n    \\\"editorial cartoonist and the creator of the comic strip\\\",\\n    \\\"comic book and comic strip cartoonist and illustrator\\\",\\n    \\\"editorial cartoonist and prop and set designer\\\",\\n    \\\"underground cartoonist and fetish art pioneer\\\",\\n    \\\"children book illustrator and cartoonist\\\",\\n    \\\"cartoonist and television personality\\\",\\n    \\\"cartoonist who created the comic book\\\",\\n    \\\"television producer and cartoonist\\\",\\n    \\\"cartoonist and newspaper columnist\\\",\\n    \\\"Pulitzer Prize winning cartoonist\\\",\\n    \\\"cartoonist and fundamentalist\\\",\\n    \\\"cartoonist for The New Yorker\\\",\\n    \\\"cartoonist and puzzle creator\\\",\\n    \\\"underground comix cartoonist\\\",\\n    \\\"cartoonist and caricaturist\\\",\\n    \\\"illustrator and cartoonist\\\",\\n    \\\"cartoonist and illustrator\\\",\\n    \\\"cartoonist and publisher\\\",\\n    \\\"animator and cartoonist\\\",\\n    \\\"cartoonist and animator\\\",\\n    \\\"cartoonist and designer\\\",\\n    \\\"World War II cartoonist\\\",\\n    \\\"underground cartoonist\\\",\\n    \\\"comic strip cartoonist\\\",\\n    \\\"comic  and cartoonist\\\",\\n    \\\"editorial cartoonist\\\",\\n    \\\"animation cartoonist\\\",\\n    \\\"newspaper cartoonist\\\",\\n    \\\"manga cartoonist\\\",\\n    \\\"cartoonist and\\\",\\n    \\\"and cartoonist\\\",\\n    \\\"cartoonist\\\",\\n]\\nsports = []\\nsciences = []\\n\\nbusiness_farming = []\\nacademia_humanities = []\\nlaw_enf_military_operator = []\\nspiritual = []\\nsocial = []\\ncrime = []\\nevent_record_other = []\\nother_species = []\";\n",
       "                var nbb_cells = Jupyter.notebook.get_cells();\n",
       "                for (var i = 0; i < nbb_cells.length; ++i) {\n",
       "                    if (nbb_cells[i].input_prompt_number == nbb_cell_id) {\n",
       "                        if (nbb_cells[i].get_text() == nbb_unformatted_code) {\n",
       "                             nbb_cells[i].set_text(nbb_formatted_code);\n",
       "                        }\n",
       "                        break;\n",
       "                    }\n",
       "                }\n",
       "            }, 500);\n",
       "            "
      ],
      "text/plain": [
       "<IPython.core.display.Javascript object>"
      ]
     },
     "metadata": {},
     "output_type": "display_data"
    }
   ],
   "source": [
    "# Creating lists for each category\n",
    "politics_govt_law = [\n",
    "    \"satirical and political\",\n",
    "]\n",
    "\n",
    "arts = [\n",
    "    'cartoonist Known for the biplane flying overhead trailing a banner that read \"mild',\n",
    "    \"editorial cartoonist and the creator of the comic strip\",\n",
    "    \"comic book and comic strip cartoonist and illustrator\",\n",
    "    \"editorial cartoonist and prop and set designer\",\n",
    "    \"underground cartoonist and fetish art pioneer\",\n",
    "    \"children book illustrator and cartoonist\",\n",
    "    \"cartoonist and television personality\",\n",
    "    \"cartoonist who created the comic book\",\n",
    "    \"television producer and cartoonist\",\n",
    "    \"cartoonist and newspaper columnist\",\n",
    "    \"Pulitzer Prize winning cartoonist\",\n",
    "    \"cartoonist and fundamentalist\",\n",
    "    \"cartoonist for The New Yorker\",\n",
    "    \"cartoonist and puzzle creator\",\n",
    "    \"underground comix cartoonist\",\n",
    "    \"cartoonist and caricaturist\",\n",
    "    \"illustrator and cartoonist\",\n",
    "    \"cartoonist and illustrator\",\n",
    "    \"cartoonist and publisher\",\n",
    "    \"animator and cartoonist\",\n",
    "    \"cartoonist and animator\",\n",
    "    \"cartoonist and designer\",\n",
    "    \"World War II cartoonist\",\n",
    "    \"underground cartoonist\",\n",
    "    \"comic strip cartoonist\",\n",
    "    \"comic  and cartoonist\",\n",
    "    \"editorial cartoonist\",\n",
    "    \"animation cartoonist\",\n",
    "    \"newspaper cartoonist\",\n",
    "    \"manga cartoonist\",\n",
    "    \"cartoonist and\",\n",
    "    \"and cartoonist\",\n",
    "    \"cartoonist\",\n",
    "]\n",
    "sports = []\n",
    "sciences = []\n",
    "\n",
    "business_farming = []\n",
    "academia_humanities = []\n",
    "law_enf_military_operator = []\n",
    "spiritual = []\n",
    "social = []\n",
    "crime = []\n",
    "event_record_other = []\n",
    "other_species = []"
   ]
  },
  {
   "cell_type": "markdown",
   "id": "82c6abb0",
   "metadata": {},
   "source": [
    "#### Creating `known_for_dict` Dictionary of Category Keys and Specific Role Lists of Values"
   ]
  },
  {
   "cell_type": "code",
   "execution_count": 13,
   "id": "14a0ebca",
   "metadata": {},
   "outputs": [
    {
     "data": {
      "application/javascript": [
       "\n",
       "            setTimeout(function() {\n",
       "                var nbb_cell_id = 13;\n",
       "                var nbb_unformatted_code = \"# Combining separate lists into one dictionary\\nknown_for_dict = {\\n    \\\"social\\\": social,\\n    \\\"spiritual\\\": spiritual,\\n    \\\"academia_humanities\\\": academia_humanities,\\n    \\\"business_farming\\\": business_farming,\\n    \\\"sciences\\\": sciences,\\n    \\\"politics_govt_law\\\": politics_govt_law,\\n    \\\"law_enf_military_operator\\\": law_enf_military_operator,\\n    \\\"crime\\\": crime,\\n    \\\"event_record_other\\\": event_record_other,\\n    \\\"other_species\\\": other_species,\\n    \\\"arts\\\": arts,\\n    \\\"sports\\\": sports,\\n}\";\n",
       "                var nbb_formatted_code = \"# Combining separate lists into one dictionary\\nknown_for_dict = {\\n    \\\"social\\\": social,\\n    \\\"spiritual\\\": spiritual,\\n    \\\"academia_humanities\\\": academia_humanities,\\n    \\\"business_farming\\\": business_farming,\\n    \\\"sciences\\\": sciences,\\n    \\\"politics_govt_law\\\": politics_govt_law,\\n    \\\"law_enf_military_operator\\\": law_enf_military_operator,\\n    \\\"crime\\\": crime,\\n    \\\"event_record_other\\\": event_record_other,\\n    \\\"other_species\\\": other_species,\\n    \\\"arts\\\": arts,\\n    \\\"sports\\\": sports,\\n}\";\n",
       "                var nbb_cells = Jupyter.notebook.get_cells();\n",
       "                for (var i = 0; i < nbb_cells.length; ++i) {\n",
       "                    if (nbb_cells[i].input_prompt_number == nbb_cell_id) {\n",
       "                        if (nbb_cells[i].get_text() == nbb_unformatted_code) {\n",
       "                             nbb_cells[i].set_text(nbb_formatted_code);\n",
       "                        }\n",
       "                        break;\n",
       "                    }\n",
       "                }\n",
       "            }, 500);\n",
       "            "
      ],
      "text/plain": [
       "<IPython.core.display.Javascript object>"
      ]
     },
     "metadata": {},
     "output_type": "display_data"
    }
   ],
   "source": [
    "# Combining separate lists into one dictionary\n",
    "known_for_dict = {\n",
    "    \"social\": social,\n",
    "    \"spiritual\": spiritual,\n",
    "    \"academia_humanities\": academia_humanities,\n",
    "    \"business_farming\": business_farming,\n",
    "    \"sciences\": sciences,\n",
    "    \"politics_govt_law\": politics_govt_law,\n",
    "    \"law_enf_military_operator\": law_enf_military_operator,\n",
    "    \"crime\": crime,\n",
    "    \"event_record_other\": event_record_other,\n",
    "    \"other_species\": other_species,\n",
    "    \"arts\": arts,\n",
    "    \"sports\": sports,\n",
    "}"
   ]
  },
  {
   "cell_type": "markdown",
   "id": "5b70918e",
   "metadata": {},
   "source": [
    "#### Extracting Category from `info_2`"
   ]
  },
  {
   "cell_type": "code",
   "execution_count": 14,
   "id": "85428a81",
   "metadata": {},
   "outputs": [
    {
     "name": "stdout",
     "output_type": "stream",
     "text": [
      "CPU times: total: 17.3 s\n",
      "Wall time: 17.3 s\n"
     ]
    },
    {
     "data": {
      "text/html": [
       "<div>\n",
       "<style scoped>\n",
       "    .dataframe tbody tr th:only-of-type {\n",
       "        vertical-align: middle;\n",
       "    }\n",
       "\n",
       "    .dataframe tbody tr th {\n",
       "        vertical-align: top;\n",
       "    }\n",
       "\n",
       "    .dataframe thead th {\n",
       "        text-align: right;\n",
       "    }\n",
       "</style>\n",
       "<table border=\"1\" class=\"dataframe\">\n",
       "  <thead>\n",
       "    <tr style=\"text-align: right;\">\n",
       "      <th></th>\n",
       "      <th>day</th>\n",
       "      <th>name</th>\n",
       "      <th>info</th>\n",
       "      <th>link</th>\n",
       "      <th>num_references</th>\n",
       "      <th>year</th>\n",
       "      <th>month</th>\n",
       "      <th>info_parenth</th>\n",
       "      <th>info_1</th>\n",
       "      <th>info_2</th>\n",
       "      <th>info_3</th>\n",
       "      <th>info_4</th>\n",
       "      <th>info_5</th>\n",
       "      <th>info_6</th>\n",
       "      <th>info_7</th>\n",
       "      <th>info_8</th>\n",
       "      <th>info_9</th>\n",
       "      <th>info_10</th>\n",
       "      <th>info_11</th>\n",
       "      <th>age</th>\n",
       "      <th>cause_of_death</th>\n",
       "      <th>place_1</th>\n",
       "      <th>place_2</th>\n",
       "      <th>info_parenth_copy</th>\n",
       "      <th>log_num_references</th>\n",
       "      <th>sciences</th>\n",
       "      <th>social</th>\n",
       "      <th>spiritual</th>\n",
       "      <th>academia_humanities</th>\n",
       "      <th>business_farming</th>\n",
       "      <th>arts</th>\n",
       "      <th>sports</th>\n",
       "      <th>law_enf_military_operator</th>\n",
       "      <th>politics_govt_law</th>\n",
       "      <th>crime</th>\n",
       "      <th>event_record_other</th>\n",
       "      <th>other_species</th>\n",
       "      <th>num_categories</th>\n",
       "    </tr>\n",
       "  </thead>\n",
       "  <tbody>\n",
       "    <tr>\n",
       "      <th>7223</th>\n",
       "      <td>25</td>\n",
       "      <td>B. A. Santamaria</td>\n",
       "      <td>, 82, Australian anti-communist political activist and journalist, brain cancer.</td>\n",
       "      <td>https://en.wikipedia.org/wiki/B._A._Santamaria</td>\n",
       "      <td>17</td>\n",
       "      <td>1998</td>\n",
       "      <td>February</td>\n",
       "      <td>None</td>\n",
       "      <td>None</td>\n",
       "      <td></td>\n",
       "      <td>brain cancer</td>\n",
       "      <td>None</td>\n",
       "      <td>None</td>\n",
       "      <td>None</td>\n",
       "      <td>None</td>\n",
       "      <td>None</td>\n",
       "      <td>None</td>\n",
       "      <td>None</td>\n",
       "      <td>None</td>\n",
       "      <td>82.0</td>\n",
       "      <td>None</td>\n",
       "      <td>Australia</td>\n",
       "      <td>None</td>\n",
       "      <td>None</td>\n",
       "      <td>2.890372</td>\n",
       "      <td>0</td>\n",
       "      <td>0</td>\n",
       "      <td>0</td>\n",
       "      <td>0</td>\n",
       "      <td>0</td>\n",
       "      <td>1</td>\n",
       "      <td>0</td>\n",
       "      <td>0</td>\n",
       "      <td>1</td>\n",
       "      <td>0</td>\n",
       "      <td>0</td>\n",
       "      <td>0</td>\n",
       "      <td>2</td>\n",
       "    </tr>\n",
       "    <tr>\n",
       "      <th>108</th>\n",
       "      <td>27</td>\n",
       "      <td>Sherm Feller</td>\n",
       "      <td>, 75, American musical composer and radio personality.</td>\n",
       "      <td>https://en.wikipedia.org/wiki/Sherm_Feller</td>\n",
       "      <td>12</td>\n",
       "      <td>1994</td>\n",
       "      <td>January</td>\n",
       "      <td>None</td>\n",
       "      <td>None</td>\n",
       "      <td></td>\n",
       "      <td>None</td>\n",
       "      <td>None</td>\n",
       "      <td>None</td>\n",
       "      <td>None</td>\n",
       "      <td>None</td>\n",
       "      <td>None</td>\n",
       "      <td>None</td>\n",
       "      <td>None</td>\n",
       "      <td>None</td>\n",
       "      <td>75.0</td>\n",
       "      <td>None</td>\n",
       "      <td>United States of America</td>\n",
       "      <td>None</td>\n",
       "      <td>None</td>\n",
       "      <td>2.564949</td>\n",
       "      <td>0</td>\n",
       "      <td>0</td>\n",
       "      <td>0</td>\n",
       "      <td>0</td>\n",
       "      <td>0</td>\n",
       "      <td>1</td>\n",
       "      <td>0</td>\n",
       "      <td>0</td>\n",
       "      <td>0</td>\n",
       "      <td>0</td>\n",
       "      <td>0</td>\n",
       "      <td>0</td>\n",
       "      <td>1</td>\n",
       "    </tr>\n",
       "  </tbody>\n",
       "</table>\n",
       "</div>"
      ],
      "text/plain": [
       "     day              name  \\\n",
       "7223  25  B. A. Santamaria   \n",
       "108   27      Sherm Feller   \n",
       "\n",
       "                                                                                  info  \\\n",
       "7223  , 82, Australian anti-communist political activist and journalist, brain cancer.   \n",
       "108                             , 75, American musical composer and radio personality.   \n",
       "\n",
       "                                                link  num_references  year  \\\n",
       "7223  https://en.wikipedia.org/wiki/B._A._Santamaria              17  1998   \n",
       "108       https://en.wikipedia.org/wiki/Sherm_Feller              12  1994   \n",
       "\n",
       "         month info_parenth info_1 info_2        info_3 info_4 info_5 info_6  \\\n",
       "7223  February         None   None         brain cancer   None   None   None   \n",
       "108    January         None   None                 None   None   None   None   \n",
       "\n",
       "     info_7 info_8 info_9 info_10 info_11   age cause_of_death  \\\n",
       "7223   None   None   None    None    None  82.0           None   \n",
       "108    None   None   None    None    None  75.0           None   \n",
       "\n",
       "                       place_1 place_2 info_parenth_copy  log_num_references  \\\n",
       "7223                 Australia    None              None            2.890372   \n",
       "108   United States of America    None              None            2.564949   \n",
       "\n",
       "      sciences  social  spiritual  academia_humanities  business_farming  \\\n",
       "7223         0       0          0                    0                 0   \n",
       "108          0       0          0                    0                 0   \n",
       "\n",
       "      arts  sports  law_enf_military_operator  politics_govt_law  crime  \\\n",
       "7223     1       0                          0                  1      0   \n",
       "108      1       0                          0                  0      0   \n",
       "\n",
       "      event_record_other  other_species  num_categories  \n",
       "7223                   0              0               2  \n",
       "108                    0              0               1  "
      ]
     },
     "execution_count": 14,
     "metadata": {},
     "output_type": "execute_result"
    },
    {
     "data": {
      "application/javascript": [
       "\n",
       "            setTimeout(function() {\n",
       "                var nbb_cell_id = 14;\n",
       "                var nbb_unformatted_code = \"%%time\\n\\n# Dictionary version\\nsearch_dict = known_for_dict\\n\\n# Column to check\\ncolumn = 'info_2'\\n\\n# Dataframe\\ndataframe = df[column].notna()\\n\\n# For loop to find role in column and extract it as category\\nfor category, category_lst in search_dict.items():\\n    for role in category_lst:\\n        for index in dataframe.index:\\n            item = df.loc[index, column]\\n            if item:\\n                if role in item:\\n                    df.loc[index, category] = 1\\n                    df.loc[index, column] = item.replace(role, '').strip()\\n\\n# Updating num_categories\\ndf[\\\"num_categories\\\"] = df[known_for_dict.keys()].sum(axis=1)\\n\\n# Checking a sample of rows\\ndf[df['arts'] ==1].sample(2)\";\n",
       "                var nbb_formatted_code = \"%%time\\n\\n# Dictionary version\\nsearch_dict = known_for_dict\\n\\n# Column to check\\ncolumn = 'info_2'\\n\\n# Dataframe\\ndataframe = df[column].notna()\\n\\n# For loop to find role in column and extract it as category\\nfor category, category_lst in search_dict.items():\\n    for role in category_lst:\\n        for index in dataframe.index:\\n            item = df.loc[index, column]\\n            if item:\\n                if role in item:\\n                    df.loc[index, category] = 1\\n                    df.loc[index, column] = item.replace(role, '').strip()\\n\\n# Updating num_categories\\ndf[\\\"num_categories\\\"] = df[known_for_dict.keys()].sum(axis=1)\\n\\n# Checking a sample of rows\\ndf[df['arts'] ==1].sample(2)\";\n",
       "                var nbb_cells = Jupyter.notebook.get_cells();\n",
       "                for (var i = 0; i < nbb_cells.length; ++i) {\n",
       "                    if (nbb_cells[i].input_prompt_number == nbb_cell_id) {\n",
       "                        if (nbb_cells[i].get_text() == nbb_unformatted_code) {\n",
       "                             nbb_cells[i].set_text(nbb_formatted_code);\n",
       "                        }\n",
       "                        break;\n",
       "                    }\n",
       "                }\n",
       "            }, 500);\n",
       "            "
      ],
      "text/plain": [
       "<IPython.core.display.Javascript object>"
      ]
     },
     "metadata": {},
     "output_type": "display_data"
    }
   ],
   "source": [
    "%%time\n",
    "\n",
    "# Dictionary version\n",
    "search_dict = known_for_dict\n",
    "\n",
    "# Column to check\n",
    "column = 'info_2'\n",
    "\n",
    "# Dataframe\n",
    "dataframe = df[column].notna()\n",
    "\n",
    "# For loop to find role in column and extract it as category\n",
    "for category, category_lst in search_dict.items():\n",
    "    for role in category_lst:\n",
    "        for index in dataframe.index:\n",
    "            item = df.loc[index, column]\n",
    "            if item:\n",
    "                if role in item:\n",
    "                    df.loc[index, category] = 1\n",
    "                    df.loc[index, column] = item.replace(role, '').strip()\n",
    "\n",
    "# Updating num_categories\n",
    "df[\"num_categories\"] = df[known_for_dict.keys()].sum(axis=1)\n",
    "\n",
    "# Checking a sample of rows\n",
    "df[df['arts'] ==1].sample(2)"
   ]
  },
  {
   "cell_type": "markdown",
   "id": "2557a7ca",
   "metadata": {},
   "source": [
    "#### Checking the Number of Rows without a First Category"
   ]
  },
  {
   "cell_type": "code",
   "execution_count": 15,
   "id": "57306110",
   "metadata": {},
   "outputs": [
    {
     "name": "stdout",
     "output_type": "stream",
     "text": [
      "There are 32388 entries without any known_for category.\n"
     ]
    },
    {
     "data": {
      "application/javascript": [
       "\n",
       "            setTimeout(function() {\n",
       "                var nbb_cell_id = 15;\n",
       "                var nbb_unformatted_code = \"# Checking the number of rows without a first category\\nprint(\\n    f'There are {len(df[df[\\\"num_categories\\\"]==0])} entries without any known_for category.'\\n)\";\n",
       "                var nbb_formatted_code = \"# Checking the number of rows without a first category\\nprint(\\n    f'There are {len(df[df[\\\"num_categories\\\"]==0])} entries without any known_for category.'\\n)\";\n",
       "                var nbb_cells = Jupyter.notebook.get_cells();\n",
       "                for (var i = 0; i < nbb_cells.length; ++i) {\n",
       "                    if (nbb_cells[i].input_prompt_number == nbb_cell_id) {\n",
       "                        if (nbb_cells[i].get_text() == nbb_unformatted_code) {\n",
       "                             nbb_cells[i].set_text(nbb_formatted_code);\n",
       "                        }\n",
       "                        break;\n",
       "                    }\n",
       "                }\n",
       "            }, 500);\n",
       "            "
      ],
      "text/plain": [
       "<IPython.core.display.Javascript object>"
      ]
     },
     "metadata": {},
     "output_type": "display_data"
    }
   ],
   "source": [
    "# Checking the number of rows without a first category\n",
    "print(\n",
    "    f'There are {len(df[df[\"num_categories\"]==0])} entries without any known_for category.'\n",
    ")"
   ]
  },
  {
   "cell_type": "markdown",
   "id": "8aeb916d",
   "metadata": {},
   "source": [
    "#### Observations:\n",
    "- We will proceed to rebuild `known_for_dict` for the next iteration."
   ]
  },
  {
   "cell_type": "markdown",
   "id": "083b2fb1",
   "metadata": {},
   "source": [
    "#### Finding `known_for` Roles in `info_2`"
   ]
  },
  {
   "cell_type": "code",
   "execution_count": 16,
   "id": "c02457aa",
   "metadata": {},
   "outputs": [
    {
     "data": {
      "application/javascript": [
       "\n",
       "            setTimeout(function() {\n",
       "                var nbb_cell_id = 16;\n",
       "                var nbb_unformatted_code = \"# # Obtaining values for column and their counts\\n# roles_list = df[\\\"info_2\\\"].value_counts(ascending=True).index.tolist()\";\n",
       "                var nbb_formatted_code = \"# # Obtaining values for column and their counts\\n# roles_list = df[\\\"info_2\\\"].value_counts(ascending=True).index.tolist()\";\n",
       "                var nbb_cells = Jupyter.notebook.get_cells();\n",
       "                for (var i = 0; i < nbb_cells.length; ++i) {\n",
       "                    if (nbb_cells[i].input_prompt_number == nbb_cell_id) {\n",
       "                        if (nbb_cells[i].get_text() == nbb_unformatted_code) {\n",
       "                             nbb_cells[i].set_text(nbb_formatted_code);\n",
       "                        }\n",
       "                        break;\n",
       "                    }\n",
       "                }\n",
       "            }, 500);\n",
       "            "
      ],
      "text/plain": [
       "<IPython.core.display.Javascript object>"
      ]
     },
     "metadata": {},
     "output_type": "display_data"
    }
   ],
   "source": [
    "# # Obtaining values for column and their counts\n",
    "# roles_list = df[\"info_2\"].value_counts(ascending=True).index.tolist()"
   ]
  },
  {
   "cell_type": "code",
   "execution_count": 17,
   "id": "19a05a68",
   "metadata": {},
   "outputs": [
    {
     "data": {
      "application/javascript": [
       "\n",
       "            setTimeout(function() {\n",
       "                var nbb_cell_id = 17;\n",
       "                var nbb_unformatted_code = \"# # Code to check each value\\n# roles_list.pop()\";\n",
       "                var nbb_formatted_code = \"# # Code to check each value\\n# roles_list.pop()\";\n",
       "                var nbb_cells = Jupyter.notebook.get_cells();\n",
       "                for (var i = 0; i < nbb_cells.length; ++i) {\n",
       "                    if (nbb_cells[i].input_prompt_number == nbb_cell_id) {\n",
       "                        if (nbb_cells[i].get_text() == nbb_unformatted_code) {\n",
       "                             nbb_cells[i].set_text(nbb_formatted_code);\n",
       "                        }\n",
       "                        break;\n",
       "                    }\n",
       "                }\n",
       "            }, 500);\n",
       "            "
      ],
      "text/plain": [
       "<IPython.core.display.Javascript object>"
      ]
     },
     "metadata": {},
     "output_type": "display_data"
    }
   ],
   "source": [
    "# # Code to check each value\n",
    "# roles_list.pop()"
   ]
  },
  {
   "cell_type": "code",
   "execution_count": 18,
   "id": "5aa12f86",
   "metadata": {},
   "outputs": [
    {
     "data": {
      "application/javascript": [
       "\n",
       "            setTimeout(function() {\n",
       "                var nbb_cell_id = 18;\n",
       "                var nbb_unformatted_code = \"# # Create specific_roles_list for above popped value\\n# specific_roles_list = (\\n#     df.loc[\\n#         [index for index in df.index if \\\"film producer\\\" in df.loc[index, \\\"info\\\"]],\\n#         \\\"info_2\\\",\\n#     ]\\n#     .value_counts()\\n#     .index.tolist()\\n# )\";\n",
       "                var nbb_formatted_code = \"# # Create specific_roles_list for above popped value\\n# specific_roles_list = (\\n#     df.loc[\\n#         [index for index in df.index if \\\"film producer\\\" in df.loc[index, \\\"info\\\"]],\\n#         \\\"info_2\\\",\\n#     ]\\n#     .value_counts()\\n#     .index.tolist()\\n# )\";\n",
       "                var nbb_cells = Jupyter.notebook.get_cells();\n",
       "                for (var i = 0; i < nbb_cells.length; ++i) {\n",
       "                    if (nbb_cells[i].input_prompt_number == nbb_cell_id) {\n",
       "                        if (nbb_cells[i].get_text() == nbb_unformatted_code) {\n",
       "                             nbb_cells[i].set_text(nbb_formatted_code);\n",
       "                        }\n",
       "                        break;\n",
       "                    }\n",
       "                }\n",
       "            }, 500);\n",
       "            "
      ],
      "text/plain": [
       "<IPython.core.display.Javascript object>"
      ]
     },
     "metadata": {},
     "output_type": "display_data"
    }
   ],
   "source": [
    "# # Create specific_roles_list for above popped value\n",
    "# specific_roles_list = (\n",
    "#     df.loc[\n",
    "#         [index for index in df.index if \"film producer\" in df.loc[index, \"info\"]],\n",
    "#         \"info_2\",\n",
    "#     ]\n",
    "#     .value_counts()\n",
    "#     .index.tolist()\n",
    "# )"
   ]
  },
  {
   "cell_type": "code",
   "execution_count": 19,
   "id": "b33a1ee1",
   "metadata": {},
   "outputs": [
    {
     "data": {
      "application/javascript": [
       "\n",
       "            setTimeout(function() {\n",
       "                var nbb_cell_id = 19;\n",
       "                var nbb_unformatted_code = \"# # Code to check each specific value\\n# specific_roles_list.pop()\";\n",
       "                var nbb_formatted_code = \"# # Code to check each specific value\\n# specific_roles_list.pop()\";\n",
       "                var nbb_cells = Jupyter.notebook.get_cells();\n",
       "                for (var i = 0; i < nbb_cells.length; ++i) {\n",
       "                    if (nbb_cells[i].input_prompt_number == nbb_cell_id) {\n",
       "                        if (nbb_cells[i].get_text() == nbb_unformatted_code) {\n",
       "                             nbb_cells[i].set_text(nbb_formatted_code);\n",
       "                        }\n",
       "                        break;\n",
       "                    }\n",
       "                }\n",
       "            }, 500);\n",
       "            "
      ],
      "text/plain": [
       "<IPython.core.display.Javascript object>"
      ]
     },
     "metadata": {},
     "output_type": "display_data"
    }
   ],
   "source": [
    "# # Code to check each specific value\n",
    "# specific_roles_list.pop()"
   ]
  },
  {
   "cell_type": "code",
   "execution_count": 20,
   "id": "85e0c2aa",
   "metadata": {},
   "outputs": [
    {
     "data": {
      "application/javascript": [
       "\n",
       "            setTimeout(function() {\n",
       "                var nbb_cell_id = 20;\n",
       "                var nbb_unformatted_code = \"# # Example code to quick-check a specific entry\\n# df[df[\\\"info_2\\\"] == \\\"film producer and distributor\\\"]\";\n",
       "                var nbb_formatted_code = \"# # Example code to quick-check a specific entry\\n# df[df[\\\"info_2\\\"] == \\\"film producer and distributor\\\"]\";\n",
       "                var nbb_cells = Jupyter.notebook.get_cells();\n",
       "                for (var i = 0; i < nbb_cells.length; ++i) {\n",
       "                    if (nbb_cells[i].input_prompt_number == nbb_cell_id) {\n",
       "                        if (nbb_cells[i].get_text() == nbb_unformatted_code) {\n",
       "                             nbb_cells[i].set_text(nbb_formatted_code);\n",
       "                        }\n",
       "                        break;\n",
       "                    }\n",
       "                }\n",
       "            }, 500);\n",
       "            "
      ],
      "text/plain": [
       "<IPython.core.display.Javascript object>"
      ]
     },
     "metadata": {},
     "output_type": "display_data"
    }
   ],
   "source": [
    "# # Example code to quick-check a specific entry\n",
    "# df[df[\"info_2\"] == \"film producer and distributor\"]"
   ]
  },
  {
   "cell_type": "markdown",
   "id": "7b17b66b",
   "metadata": {},
   "source": [
    "#### Creating Lists for Each `known_for` Category"
   ]
  },
  {
   "cell_type": "code",
   "execution_count": 21,
   "id": "2346ab64",
   "metadata": {},
   "outputs": [
    {
     "data": {
      "application/javascript": [
       "\n",
       "            setTimeout(function() {\n",
       "                var nbb_cell_id = 21;\n",
       "                var nbb_unformatted_code = \"# Creating lists for each category\\npolitics_govt_law = []\\n\\narts = [\\n    \\\"Broadway and film producer of musicals\\\",\\n    \\\"film producer and assistant director\\\",\\n    \\\"film producer and record executive\\\",\\n    \\\"film producer and studio executive\\\",\\n    \\\"cinematographer and film producer\\\",\\n    \\\"film producer and mother of Sarah\\\",\\n    \\\"talent manager and film producer\\\",\\n    \\\"film producer and talent manager\\\",\\n    \\\"broadcaster and film producer\\\",\\n    \\\"film producer and distributor\\\",\\n    \\\"film producer and founder of\\\",\\n    \\\"television and film producer\\\",\\n    \\\"film producer and presenter\\\",\\n    \\\"film producer and executive\\\",\\n    \\\"pornographic film producer\\\",\\n    \\\"Broadway and film producer\\\",\\n    \\\"film producer and director\\\",\\n    \\\"theater and film producer\\\",\\n    \\\"theatre and film producer\\\",\\n    \\\"independent film producer\\\",\\n    \\\"documentary film producer\\\",\\n    \\\"stage and film producer\\\",\\n    \\\"Bollywood film producer\\\",\\n    \\\"animated film producer\\\",\\n    \\\"horror film producer\\\",\\n    \\\"TV and film producer\\\",\\n    \\\"LGBT film producer\\\",\\n    \\\"and film producer\\\",\\n    \\\"film producer and\\\",\\n    \\\"film producer\\\",\\n]\\nsports = []\\nsciences = []\\n\\nbusiness_farming = []\\nacademia_humanities = []\\nlaw_enf_military_operator = []\\nspiritual = []\\nsocial = []\\ncrime = []\\nevent_record_other = []\\nother_species = []\";\n",
       "                var nbb_formatted_code = \"# Creating lists for each category\\npolitics_govt_law = []\\n\\narts = [\\n    \\\"Broadway and film producer of musicals\\\",\\n    \\\"film producer and assistant director\\\",\\n    \\\"film producer and record executive\\\",\\n    \\\"film producer and studio executive\\\",\\n    \\\"cinematographer and film producer\\\",\\n    \\\"film producer and mother of Sarah\\\",\\n    \\\"talent manager and film producer\\\",\\n    \\\"film producer and talent manager\\\",\\n    \\\"broadcaster and film producer\\\",\\n    \\\"film producer and distributor\\\",\\n    \\\"film producer and founder of\\\",\\n    \\\"television and film producer\\\",\\n    \\\"film producer and presenter\\\",\\n    \\\"film producer and executive\\\",\\n    \\\"pornographic film producer\\\",\\n    \\\"Broadway and film producer\\\",\\n    \\\"film producer and director\\\",\\n    \\\"theater and film producer\\\",\\n    \\\"theatre and film producer\\\",\\n    \\\"independent film producer\\\",\\n    \\\"documentary film producer\\\",\\n    \\\"stage and film producer\\\",\\n    \\\"Bollywood film producer\\\",\\n    \\\"animated film producer\\\",\\n    \\\"horror film producer\\\",\\n    \\\"TV and film producer\\\",\\n    \\\"LGBT film producer\\\",\\n    \\\"and film producer\\\",\\n    \\\"film producer and\\\",\\n    \\\"film producer\\\",\\n]\\nsports = []\\nsciences = []\\n\\nbusiness_farming = []\\nacademia_humanities = []\\nlaw_enf_military_operator = []\\nspiritual = []\\nsocial = []\\ncrime = []\\nevent_record_other = []\\nother_species = []\";\n",
       "                var nbb_cells = Jupyter.notebook.get_cells();\n",
       "                for (var i = 0; i < nbb_cells.length; ++i) {\n",
       "                    if (nbb_cells[i].input_prompt_number == nbb_cell_id) {\n",
       "                        if (nbb_cells[i].get_text() == nbb_unformatted_code) {\n",
       "                             nbb_cells[i].set_text(nbb_formatted_code);\n",
       "                        }\n",
       "                        break;\n",
       "                    }\n",
       "                }\n",
       "            }, 500);\n",
       "            "
      ],
      "text/plain": [
       "<IPython.core.display.Javascript object>"
      ]
     },
     "metadata": {},
     "output_type": "display_data"
    }
   ],
   "source": [
    "# Creating lists for each category\n",
    "politics_govt_law = []\n",
    "\n",
    "arts = [\n",
    "    \"Broadway and film producer of musicals\",\n",
    "    \"film producer and assistant director\",\n",
    "    \"film producer and record executive\",\n",
    "    \"film producer and studio executive\",\n",
    "    \"cinematographer and film producer\",\n",
    "    \"film producer and mother of Sarah\",\n",
    "    \"talent manager and film producer\",\n",
    "    \"film producer and talent manager\",\n",
    "    \"broadcaster and film producer\",\n",
    "    \"film producer and distributor\",\n",
    "    \"film producer and founder of\",\n",
    "    \"television and film producer\",\n",
    "    \"film producer and presenter\",\n",
    "    \"film producer and executive\",\n",
    "    \"pornographic film producer\",\n",
    "    \"Broadway and film producer\",\n",
    "    \"film producer and director\",\n",
    "    \"theater and film producer\",\n",
    "    \"theatre and film producer\",\n",
    "    \"independent film producer\",\n",
    "    \"documentary film producer\",\n",
    "    \"stage and film producer\",\n",
    "    \"Bollywood film producer\",\n",
    "    \"animated film producer\",\n",
    "    \"horror film producer\",\n",
    "    \"TV and film producer\",\n",
    "    \"LGBT film producer\",\n",
    "    \"and film producer\",\n",
    "    \"film producer and\",\n",
    "    \"film producer\",\n",
    "]\n",
    "sports = []\n",
    "sciences = []\n",
    "\n",
    "business_farming = []\n",
    "academia_humanities = []\n",
    "law_enf_military_operator = []\n",
    "spiritual = []\n",
    "social = []\n",
    "crime = []\n",
    "event_record_other = []\n",
    "other_species = []"
   ]
  },
  {
   "cell_type": "markdown",
   "id": "bfc3ef79",
   "metadata": {},
   "source": [
    "#### Creating `known_for_dict` Dictionary of Category Keys and Specific Role Lists of Values"
   ]
  },
  {
   "cell_type": "code",
   "execution_count": 22,
   "id": "e05000e1",
   "metadata": {},
   "outputs": [
    {
     "data": {
      "application/javascript": [
       "\n",
       "            setTimeout(function() {\n",
       "                var nbb_cell_id = 22;\n",
       "                var nbb_unformatted_code = \"# Combining separate lists into one dictionary\\nknown_for_dict = {\\n    \\\"social\\\": social,\\n    \\\"spiritual\\\": spiritual,\\n    \\\"academia_humanities\\\": academia_humanities,\\n    \\\"business_farming\\\": business_farming,\\n    \\\"sciences\\\": sciences,\\n    \\\"politics_govt_law\\\": politics_govt_law,\\n    \\\"law_enf_military_operator\\\": law_enf_military_operator,\\n    \\\"crime\\\": crime,\\n    \\\"event_record_other\\\": event_record_other,\\n    \\\"other_species\\\": other_species,\\n    \\\"arts\\\": arts,\\n    \\\"sports\\\": sports,\\n}\";\n",
       "                var nbb_formatted_code = \"# Combining separate lists into one dictionary\\nknown_for_dict = {\\n    \\\"social\\\": social,\\n    \\\"spiritual\\\": spiritual,\\n    \\\"academia_humanities\\\": academia_humanities,\\n    \\\"business_farming\\\": business_farming,\\n    \\\"sciences\\\": sciences,\\n    \\\"politics_govt_law\\\": politics_govt_law,\\n    \\\"law_enf_military_operator\\\": law_enf_military_operator,\\n    \\\"crime\\\": crime,\\n    \\\"event_record_other\\\": event_record_other,\\n    \\\"other_species\\\": other_species,\\n    \\\"arts\\\": arts,\\n    \\\"sports\\\": sports,\\n}\";\n",
       "                var nbb_cells = Jupyter.notebook.get_cells();\n",
       "                for (var i = 0; i < nbb_cells.length; ++i) {\n",
       "                    if (nbb_cells[i].input_prompt_number == nbb_cell_id) {\n",
       "                        if (nbb_cells[i].get_text() == nbb_unformatted_code) {\n",
       "                             nbb_cells[i].set_text(nbb_formatted_code);\n",
       "                        }\n",
       "                        break;\n",
       "                    }\n",
       "                }\n",
       "            }, 500);\n",
       "            "
      ],
      "text/plain": [
       "<IPython.core.display.Javascript object>"
      ]
     },
     "metadata": {},
     "output_type": "display_data"
    }
   ],
   "source": [
    "# Combining separate lists into one dictionary\n",
    "known_for_dict = {\n",
    "    \"social\": social,\n",
    "    \"spiritual\": spiritual,\n",
    "    \"academia_humanities\": academia_humanities,\n",
    "    \"business_farming\": business_farming,\n",
    "    \"sciences\": sciences,\n",
    "    \"politics_govt_law\": politics_govt_law,\n",
    "    \"law_enf_military_operator\": law_enf_military_operator,\n",
    "    \"crime\": crime,\n",
    "    \"event_record_other\": event_record_other,\n",
    "    \"other_species\": other_species,\n",
    "    \"arts\": arts,\n",
    "    \"sports\": sports,\n",
    "}"
   ]
  },
  {
   "cell_type": "markdown",
   "id": "e1c847f1",
   "metadata": {},
   "source": [
    "#### Extracting Category from `info_2`"
   ]
  },
  {
   "cell_type": "code",
   "execution_count": 23,
   "id": "85d1314d",
   "metadata": {},
   "outputs": [
    {
     "name": "stdout",
     "output_type": "stream",
     "text": [
      "CPU times: total: 16.3 s\n",
      "Wall time: 16.6 s\n"
     ]
    },
    {
     "data": {
      "text/html": [
       "<div>\n",
       "<style scoped>\n",
       "    .dataframe tbody tr th:only-of-type {\n",
       "        vertical-align: middle;\n",
       "    }\n",
       "\n",
       "    .dataframe tbody tr th {\n",
       "        vertical-align: top;\n",
       "    }\n",
       "\n",
       "    .dataframe thead th {\n",
       "        text-align: right;\n",
       "    }\n",
       "</style>\n",
       "<table border=\"1\" class=\"dataframe\">\n",
       "  <thead>\n",
       "    <tr style=\"text-align: right;\">\n",
       "      <th></th>\n",
       "      <th>day</th>\n",
       "      <th>name</th>\n",
       "      <th>info</th>\n",
       "      <th>link</th>\n",
       "      <th>num_references</th>\n",
       "      <th>year</th>\n",
       "      <th>month</th>\n",
       "      <th>info_parenth</th>\n",
       "      <th>info_1</th>\n",
       "      <th>info_2</th>\n",
       "      <th>info_3</th>\n",
       "      <th>info_4</th>\n",
       "      <th>info_5</th>\n",
       "      <th>info_6</th>\n",
       "      <th>info_7</th>\n",
       "      <th>info_8</th>\n",
       "      <th>info_9</th>\n",
       "      <th>info_10</th>\n",
       "      <th>info_11</th>\n",
       "      <th>age</th>\n",
       "      <th>cause_of_death</th>\n",
       "      <th>place_1</th>\n",
       "      <th>place_2</th>\n",
       "      <th>info_parenth_copy</th>\n",
       "      <th>log_num_references</th>\n",
       "      <th>sciences</th>\n",
       "      <th>social</th>\n",
       "      <th>spiritual</th>\n",
       "      <th>academia_humanities</th>\n",
       "      <th>business_farming</th>\n",
       "      <th>arts</th>\n",
       "      <th>sports</th>\n",
       "      <th>law_enf_military_operator</th>\n",
       "      <th>politics_govt_law</th>\n",
       "      <th>crime</th>\n",
       "      <th>event_record_other</th>\n",
       "      <th>other_species</th>\n",
       "      <th>num_categories</th>\n",
       "    </tr>\n",
       "  </thead>\n",
       "  <tbody>\n",
       "    <tr>\n",
       "      <th>28824</th>\n",
       "      <td>17</td>\n",
       "      <td>Gordon Burn</td>\n",
       "      <td>, 61, British writer, cancer.</td>\n",
       "      <td>https://en.wikipedia.org/wiki/Gordon_Burn</td>\n",
       "      <td>17</td>\n",
       "      <td>2009</td>\n",
       "      <td>July</td>\n",
       "      <td>None</td>\n",
       "      <td>None</td>\n",
       "      <td></td>\n",
       "      <td>cancer</td>\n",
       "      <td>None</td>\n",
       "      <td>None</td>\n",
       "      <td>None</td>\n",
       "      <td>None</td>\n",
       "      <td>None</td>\n",
       "      <td>None</td>\n",
       "      <td>None</td>\n",
       "      <td>None</td>\n",
       "      <td>61.0</td>\n",
       "      <td>None</td>\n",
       "      <td>United Kingdom of Great Britain and Northern Ireland</td>\n",
       "      <td>None</td>\n",
       "      <td>None</td>\n",
       "      <td>2.890372</td>\n",
       "      <td>0</td>\n",
       "      <td>0</td>\n",
       "      <td>0</td>\n",
       "      <td>0</td>\n",
       "      <td>0</td>\n",
       "      <td>1</td>\n",
       "      <td>0</td>\n",
       "      <td>0</td>\n",
       "      <td>0</td>\n",
       "      <td>0</td>\n",
       "      <td>0</td>\n",
       "      <td>0</td>\n",
       "      <td>1</td>\n",
       "    </tr>\n",
       "    <tr>\n",
       "      <th>20501</th>\n",
       "      <td>1</td>\n",
       "      <td>V. K. Madhavan Kutty</td>\n",
       "      <td>, 71, Indian journalist and author.</td>\n",
       "      <td>https://en.wikipedia.org/wiki/V._K._Madhavan_Kutty</td>\n",
       "      <td>3</td>\n",
       "      <td>2005</td>\n",
       "      <td>November</td>\n",
       "      <td>None</td>\n",
       "      <td>None</td>\n",
       "      <td></td>\n",
       "      <td>None</td>\n",
       "      <td>None</td>\n",
       "      <td>None</td>\n",
       "      <td>None</td>\n",
       "      <td>None</td>\n",
       "      <td>None</td>\n",
       "      <td>None</td>\n",
       "      <td>None</td>\n",
       "      <td>None</td>\n",
       "      <td>71.0</td>\n",
       "      <td>None</td>\n",
       "      <td>India</td>\n",
       "      <td>None</td>\n",
       "      <td>None</td>\n",
       "      <td>1.386294</td>\n",
       "      <td>0</td>\n",
       "      <td>0</td>\n",
       "      <td>0</td>\n",
       "      <td>0</td>\n",
       "      <td>0</td>\n",
       "      <td>1</td>\n",
       "      <td>0</td>\n",
       "      <td>0</td>\n",
       "      <td>0</td>\n",
       "      <td>0</td>\n",
       "      <td>0</td>\n",
       "      <td>0</td>\n",
       "      <td>1</td>\n",
       "    </tr>\n",
       "  </tbody>\n",
       "</table>\n",
       "</div>"
      ],
      "text/plain": [
       "      day                  name                                 info  \\\n",
       "28824  17           Gordon Burn        , 61, British writer, cancer.   \n",
       "20501   1  V. K. Madhavan Kutty  , 71, Indian journalist and author.   \n",
       "\n",
       "                                                     link  num_references  \\\n",
       "28824           https://en.wikipedia.org/wiki/Gordon_Burn              17   \n",
       "20501  https://en.wikipedia.org/wiki/V._K._Madhavan_Kutty               3   \n",
       "\n",
       "       year     month info_parenth info_1 info_2  info_3 info_4 info_5 info_6  \\\n",
       "28824  2009      July         None   None         cancer   None   None   None   \n",
       "20501  2005  November         None   None           None   None   None   None   \n",
       "\n",
       "      info_7 info_8 info_9 info_10 info_11   age cause_of_death  \\\n",
       "28824   None   None   None    None    None  61.0           None   \n",
       "20501   None   None   None    None    None  71.0           None   \n",
       "\n",
       "                                                    place_1 place_2  \\\n",
       "28824  United Kingdom of Great Britain and Northern Ireland    None   \n",
       "20501                                                 India    None   \n",
       "\n",
       "      info_parenth_copy  log_num_references  sciences  social  spiritual  \\\n",
       "28824              None            2.890372         0       0          0   \n",
       "20501              None            1.386294         0       0          0   \n",
       "\n",
       "       academia_humanities  business_farming  arts  sports  \\\n",
       "28824                    0                 0     1       0   \n",
       "20501                    0                 0     1       0   \n",
       "\n",
       "       law_enf_military_operator  politics_govt_law  crime  \\\n",
       "28824                          0                  0      0   \n",
       "20501                          0                  0      0   \n",
       "\n",
       "       event_record_other  other_species  num_categories  \n",
       "28824                   0              0               1  \n",
       "20501                   0              0               1  "
      ]
     },
     "execution_count": 23,
     "metadata": {},
     "output_type": "execute_result"
    },
    {
     "data": {
      "application/javascript": [
       "\n",
       "            setTimeout(function() {\n",
       "                var nbb_cell_id = 23;\n",
       "                var nbb_unformatted_code = \"%%time\\n\\n# Dictionary version\\nsearch_dict = known_for_dict\\n\\n# Column to check\\ncolumn = 'info_2'\\n\\n# Dataframe\\ndataframe = df[column].notna()\\n\\n# For loop to find role in column and extract it as category\\nfor category, category_lst in search_dict.items():\\n    for role in category_lst:\\n        for index in dataframe.index:\\n            item = df.loc[index, column]\\n            if item:\\n                if role in item:\\n                    df.loc[index, category] = 1\\n                    df.loc[index, column] = item.replace(role, '').strip()\\n\\n# Updating num_categories\\ndf[\\\"num_categories\\\"] = df[known_for_dict.keys()].sum(axis=1)\\n\\n# Checking a sample of rows\\ndf[df['arts'] ==1].sample(2)\";\n",
       "                var nbb_formatted_code = \"%%time\\n\\n# Dictionary version\\nsearch_dict = known_for_dict\\n\\n# Column to check\\ncolumn = 'info_2'\\n\\n# Dataframe\\ndataframe = df[column].notna()\\n\\n# For loop to find role in column and extract it as category\\nfor category, category_lst in search_dict.items():\\n    for role in category_lst:\\n        for index in dataframe.index:\\n            item = df.loc[index, column]\\n            if item:\\n                if role in item:\\n                    df.loc[index, category] = 1\\n                    df.loc[index, column] = item.replace(role, '').strip()\\n\\n# Updating num_categories\\ndf[\\\"num_categories\\\"] = df[known_for_dict.keys()].sum(axis=1)\\n\\n# Checking a sample of rows\\ndf[df['arts'] ==1].sample(2)\";\n",
       "                var nbb_cells = Jupyter.notebook.get_cells();\n",
       "                for (var i = 0; i < nbb_cells.length; ++i) {\n",
       "                    if (nbb_cells[i].input_prompt_number == nbb_cell_id) {\n",
       "                        if (nbb_cells[i].get_text() == nbb_unformatted_code) {\n",
       "                             nbb_cells[i].set_text(nbb_formatted_code);\n",
       "                        }\n",
       "                        break;\n",
       "                    }\n",
       "                }\n",
       "            }, 500);\n",
       "            "
      ],
      "text/plain": [
       "<IPython.core.display.Javascript object>"
      ]
     },
     "metadata": {},
     "output_type": "display_data"
    }
   ],
   "source": [
    "%%time\n",
    "\n",
    "# Dictionary version\n",
    "search_dict = known_for_dict\n",
    "\n",
    "# Column to check\n",
    "column = 'info_2'\n",
    "\n",
    "# Dataframe\n",
    "dataframe = df[column].notna()\n",
    "\n",
    "# For loop to find role in column and extract it as category\n",
    "for category, category_lst in search_dict.items():\n",
    "    for role in category_lst:\n",
    "        for index in dataframe.index:\n",
    "            item = df.loc[index, column]\n",
    "            if item:\n",
    "                if role in item:\n",
    "                    df.loc[index, category] = 1\n",
    "                    df.loc[index, column] = item.replace(role, '').strip()\n",
    "\n",
    "# Updating num_categories\n",
    "df[\"num_categories\"] = df[known_for_dict.keys()].sum(axis=1)\n",
    "\n",
    "# Checking a sample of rows\n",
    "df[df['arts'] ==1].sample(2)"
   ]
  },
  {
   "cell_type": "markdown",
   "id": "80fd0267",
   "metadata": {},
   "source": [
    "#### Checking the Number of Rows without a First Category"
   ]
  },
  {
   "cell_type": "code",
   "execution_count": 24,
   "id": "57e758f3",
   "metadata": {},
   "outputs": [
    {
     "name": "stdout",
     "output_type": "stream",
     "text": [
      "There are 32146 entries without any known_for category.\n"
     ]
    },
    {
     "data": {
      "application/javascript": [
       "\n",
       "            setTimeout(function() {\n",
       "                var nbb_cell_id = 24;\n",
       "                var nbb_unformatted_code = \"# Checking the number of rows without a first category\\nprint(\\n    f'There are {len(df[df[\\\"num_categories\\\"]==0])} entries without any known_for category.'\\n)\";\n",
       "                var nbb_formatted_code = \"# Checking the number of rows without a first category\\nprint(\\n    f'There are {len(df[df[\\\"num_categories\\\"]==0])} entries without any known_for category.'\\n)\";\n",
       "                var nbb_cells = Jupyter.notebook.get_cells();\n",
       "                for (var i = 0; i < nbb_cells.length; ++i) {\n",
       "                    if (nbb_cells[i].input_prompt_number == nbb_cell_id) {\n",
       "                        if (nbb_cells[i].get_text() == nbb_unformatted_code) {\n",
       "                             nbb_cells[i].set_text(nbb_formatted_code);\n",
       "                        }\n",
       "                        break;\n",
       "                    }\n",
       "                }\n",
       "            }, 500);\n",
       "            "
      ],
      "text/plain": [
       "<IPython.core.display.Javascript object>"
      ]
     },
     "metadata": {},
     "output_type": "display_data"
    }
   ],
   "source": [
    "# Checking the number of rows without a first category\n",
    "print(\n",
    "    f'There are {len(df[df[\"num_categories\"]==0])} entries without any known_for category.'\n",
    ")"
   ]
  },
  {
   "cell_type": "markdown",
   "id": "8c53a585",
   "metadata": {},
   "source": [
    "#### Observations:\n",
    "- We will proceed to rebuild `known_for_dict` for the next iteration."
   ]
  },
  {
   "cell_type": "markdown",
   "id": "9ba2a3a7",
   "metadata": {},
   "source": [
    "#### Finding `known_for` Roles in `info_2`"
   ]
  },
  {
   "cell_type": "code",
   "execution_count": 25,
   "id": "5ec9c8e4",
   "metadata": {},
   "outputs": [
    {
     "data": {
      "application/javascript": [
       "\n",
       "            setTimeout(function() {\n",
       "                var nbb_cell_id = 25;\n",
       "                var nbb_unformatted_code = \"# # Obtaining values for column and their counts\\n# roles_list = df[\\\"info_2\\\"].value_counts(ascending=True).index.tolist()\";\n",
       "                var nbb_formatted_code = \"# # Obtaining values for column and their counts\\n# roles_list = df[\\\"info_2\\\"].value_counts(ascending=True).index.tolist()\";\n",
       "                var nbb_cells = Jupyter.notebook.get_cells();\n",
       "                for (var i = 0; i < nbb_cells.length; ++i) {\n",
       "                    if (nbb_cells[i].input_prompt_number == nbb_cell_id) {\n",
       "                        if (nbb_cells[i].get_text() == nbb_unformatted_code) {\n",
       "                             nbb_cells[i].set_text(nbb_formatted_code);\n",
       "                        }\n",
       "                        break;\n",
       "                    }\n",
       "                }\n",
       "            }, 500);\n",
       "            "
      ],
      "text/plain": [
       "<IPython.core.display.Javascript object>"
      ]
     },
     "metadata": {},
     "output_type": "display_data"
    }
   ],
   "source": [
    "# # Obtaining values for column and their counts\n",
    "# roles_list = df[\"info_2\"].value_counts(ascending=True).index.tolist()"
   ]
  },
  {
   "cell_type": "code",
   "execution_count": 26,
   "id": "9ba5ca05",
   "metadata": {},
   "outputs": [
    {
     "data": {
      "application/javascript": [
       "\n",
       "            setTimeout(function() {\n",
       "                var nbb_cell_id = 26;\n",
       "                var nbb_unformatted_code = \"# # Code to check each value\\n# roles_list.pop()\";\n",
       "                var nbb_formatted_code = \"# # Code to check each value\\n# roles_list.pop()\";\n",
       "                var nbb_cells = Jupyter.notebook.get_cells();\n",
       "                for (var i = 0; i < nbb_cells.length; ++i) {\n",
       "                    if (nbb_cells[i].input_prompt_number == nbb_cell_id) {\n",
       "                        if (nbb_cells[i].get_text() == nbb_unformatted_code) {\n",
       "                             nbb_cells[i].set_text(nbb_formatted_code);\n",
       "                        }\n",
       "                        break;\n",
       "                    }\n",
       "                }\n",
       "            }, 500);\n",
       "            "
      ],
      "text/plain": [
       "<IPython.core.display.Javascript object>"
      ]
     },
     "metadata": {},
     "output_type": "display_data"
    }
   ],
   "source": [
    "# # Code to check each value\n",
    "# roles_list.pop()"
   ]
  },
  {
   "cell_type": "code",
   "execution_count": 27,
   "id": "28dade2d",
   "metadata": {},
   "outputs": [
    {
     "data": {
      "application/javascript": [
       "\n",
       "            setTimeout(function() {\n",
       "                var nbb_cell_id = 27;\n",
       "                var nbb_unformatted_code = \"# # Create specific_roles_list for above popped value\\n# specific_roles_list = (\\n#     df.loc[\\n#         [index for index in df.index if \\\"football coach\\\" in df.loc[index, \\\"info\\\"]],\\n#         \\\"info_2\\\",\\n#     ]\\n#     .value_counts()\\n#     .index.tolist()\\n# )\";\n",
       "                var nbb_formatted_code = \"# # Create specific_roles_list for above popped value\\n# specific_roles_list = (\\n#     df.loc[\\n#         [index for index in df.index if \\\"football coach\\\" in df.loc[index, \\\"info\\\"]],\\n#         \\\"info_2\\\",\\n#     ]\\n#     .value_counts()\\n#     .index.tolist()\\n# )\";\n",
       "                var nbb_cells = Jupyter.notebook.get_cells();\n",
       "                for (var i = 0; i < nbb_cells.length; ++i) {\n",
       "                    if (nbb_cells[i].input_prompt_number == nbb_cell_id) {\n",
       "                        if (nbb_cells[i].get_text() == nbb_unformatted_code) {\n",
       "                             nbb_cells[i].set_text(nbb_formatted_code);\n",
       "                        }\n",
       "                        break;\n",
       "                    }\n",
       "                }\n",
       "            }, 500);\n",
       "            "
      ],
      "text/plain": [
       "<IPython.core.display.Javascript object>"
      ]
     },
     "metadata": {},
     "output_type": "display_data"
    }
   ],
   "source": [
    "# # Create specific_roles_list for above popped value\n",
    "# specific_roles_list = (\n",
    "#     df.loc[\n",
    "#         [index for index in df.index if \"football coach\" in df.loc[index, \"info\"]],\n",
    "#         \"info_2\",\n",
    "#     ]\n",
    "#     .value_counts()\n",
    "#     .index.tolist()\n",
    "# )"
   ]
  },
  {
   "cell_type": "code",
   "execution_count": 28,
   "id": "e0f1409c",
   "metadata": {},
   "outputs": [
    {
     "data": {
      "application/javascript": [
       "\n",
       "            setTimeout(function() {\n",
       "                var nbb_cell_id = 28;\n",
       "                var nbb_unformatted_code = \"# # Code to check each specific value\\n# specific_roles_list.pop()\";\n",
       "                var nbb_formatted_code = \"# # Code to check each specific value\\n# specific_roles_list.pop()\";\n",
       "                var nbb_cells = Jupyter.notebook.get_cells();\n",
       "                for (var i = 0; i < nbb_cells.length; ++i) {\n",
       "                    if (nbb_cells[i].input_prompt_number == nbb_cell_id) {\n",
       "                        if (nbb_cells[i].get_text() == nbb_unformatted_code) {\n",
       "                             nbb_cells[i].set_text(nbb_formatted_code);\n",
       "                        }\n",
       "                        break;\n",
       "                    }\n",
       "                }\n",
       "            }, 500);\n",
       "            "
      ],
      "text/plain": [
       "<IPython.core.display.Javascript object>"
      ]
     },
     "metadata": {},
     "output_type": "display_data"
    }
   ],
   "source": [
    "# # Code to check each specific value\n",
    "# specific_roles_list.pop()"
   ]
  },
  {
   "cell_type": "code",
   "execution_count": 29,
   "id": "1464176f",
   "metadata": {},
   "outputs": [
    {
     "data": {
      "application/javascript": [
       "\n",
       "            setTimeout(function() {\n",
       "                var nbb_cell_id = 29;\n",
       "                var nbb_unformatted_code = \"# # Example code to quick-screen values that may overlap categories\\n# df.loc[\\n#     [\\n#         index\\n#         for index in df.index\\n#         if \\\"football coach and executive\\\" in df.loc[index, \\\"info\\\"]\\n#     ]\\n# ]\";\n",
       "                var nbb_formatted_code = \"# # Example code to quick-screen values that may overlap categories\\n# df.loc[\\n#     [\\n#         index\\n#         for index in df.index\\n#         if \\\"football coach and executive\\\" in df.loc[index, \\\"info\\\"]\\n#     ]\\n# ]\";\n",
       "                var nbb_cells = Jupyter.notebook.get_cells();\n",
       "                for (var i = 0; i < nbb_cells.length; ++i) {\n",
       "                    if (nbb_cells[i].input_prompt_number == nbb_cell_id) {\n",
       "                        if (nbb_cells[i].get_text() == nbb_unformatted_code) {\n",
       "                             nbb_cells[i].set_text(nbb_formatted_code);\n",
       "                        }\n",
       "                        break;\n",
       "                    }\n",
       "                }\n",
       "            }, 500);\n",
       "            "
      ],
      "text/plain": [
       "<IPython.core.display.Javascript object>"
      ]
     },
     "metadata": {},
     "output_type": "display_data"
    }
   ],
   "source": [
    "# # Example code to quick-screen values that may overlap categories\n",
    "# df.loc[\n",
    "#     [\n",
    "#         index\n",
    "#         for index in df.index\n",
    "#         if \"football coach and executive\" in df.loc[index, \"info\"]\n",
    "#     ]\n",
    "# ]"
   ]
  },
  {
   "cell_type": "code",
   "execution_count": 30,
   "id": "3ef987b8",
   "metadata": {},
   "outputs": [
    {
     "data": {
      "application/javascript": [
       "\n",
       "            setTimeout(function() {\n",
       "                var nbb_cell_id = 30;\n",
       "                var nbb_unformatted_code = \"# # Example code to quick-screen values that may overlap categories\\n# df.loc[\\n#     [\\n#         index\\n#         for index in df.index\\n#         if \\\"outlaw country music singer songwriter\\\" in df.loc[index, \\\"info\\\"]\\n#     ]\\n# ]\";\n",
       "                var nbb_formatted_code = \"# # Example code to quick-screen values that may overlap categories\\n# df.loc[\\n#     [\\n#         index\\n#         for index in df.index\\n#         if \\\"outlaw country music singer songwriter\\\" in df.loc[index, \\\"info\\\"]\\n#     ]\\n# ]\";\n",
       "                var nbb_cells = Jupyter.notebook.get_cells();\n",
       "                for (var i = 0; i < nbb_cells.length; ++i) {\n",
       "                    if (nbb_cells[i].input_prompt_number == nbb_cell_id) {\n",
       "                        if (nbb_cells[i].get_text() == nbb_unformatted_code) {\n",
       "                             nbb_cells[i].set_text(nbb_formatted_code);\n",
       "                        }\n",
       "                        break;\n",
       "                    }\n",
       "                }\n",
       "            }, 500);\n",
       "            "
      ],
      "text/plain": [
       "<IPython.core.display.Javascript object>"
      ]
     },
     "metadata": {},
     "output_type": "display_data"
    }
   ],
   "source": [
    "# # Example code to quick-screen values that may overlap categories\n",
    "# df.loc[\n",
    "#     [\n",
    "#         index\n",
    "#         for index in df.index\n",
    "#         if \"outlaw country music singer songwriter\" in df.loc[index, \"info\"]\n",
    "#     ]\n",
    "# ]"
   ]
  },
  {
   "cell_type": "code",
   "execution_count": 31,
   "id": "0b42c32e",
   "metadata": {},
   "outputs": [
    {
     "data": {
      "application/javascript": [
       "\n",
       "            setTimeout(function() {\n",
       "                var nbb_cell_id = 31;\n",
       "                var nbb_unformatted_code = \"# # Example code to quick-check a specific entry\\n# df[df[\\\"info_2\\\"] == \\\"college football coach and administrator\\\"]\";\n",
       "                var nbb_formatted_code = \"# # Example code to quick-check a specific entry\\n# df[df[\\\"info_2\\\"] == \\\"college football coach and administrator\\\"]\";\n",
       "                var nbb_cells = Jupyter.notebook.get_cells();\n",
       "                for (var i = 0; i < nbb_cells.length; ++i) {\n",
       "                    if (nbb_cells[i].input_prompt_number == nbb_cell_id) {\n",
       "                        if (nbb_cells[i].get_text() == nbb_unformatted_code) {\n",
       "                             nbb_cells[i].set_text(nbb_formatted_code);\n",
       "                        }\n",
       "                        break;\n",
       "                    }\n",
       "                }\n",
       "            }, 500);\n",
       "            "
      ],
      "text/plain": [
       "<IPython.core.display.Javascript object>"
      ]
     },
     "metadata": {},
     "output_type": "display_data"
    }
   ],
   "source": [
    "# # Example code to quick-check a specific entry\n",
    "# df[df[\"info_2\"] == \"college football coach and administrator\"]"
   ]
  },
  {
   "cell_type": "code",
   "execution_count": 32,
   "id": "1b03fe73",
   "metadata": {},
   "outputs": [
    {
     "data": {
      "application/javascript": [
       "\n",
       "            setTimeout(function() {\n",
       "                var nbb_cell_id = 32;\n",
       "                var nbb_unformatted_code = \"# Dropping entry for relation of individual whose page link points to\\nindex = df[df[\\\"link\\\"] == \\\"https://en.wikipedia.org/wiki/Lola_Wasserstein\\\"].index\\ndf.drop(index, inplace=True)\\ndf.reset_index(inplace=True, drop=True)\";\n",
       "                var nbb_formatted_code = \"# Dropping entry for relation of individual whose page link points to\\nindex = df[df[\\\"link\\\"] == \\\"https://en.wikipedia.org/wiki/Lola_Wasserstein\\\"].index\\ndf.drop(index, inplace=True)\\ndf.reset_index(inplace=True, drop=True)\";\n",
       "                var nbb_cells = Jupyter.notebook.get_cells();\n",
       "                for (var i = 0; i < nbb_cells.length; ++i) {\n",
       "                    if (nbb_cells[i].input_prompt_number == nbb_cell_id) {\n",
       "                        if (nbb_cells[i].get_text() == nbb_unformatted_code) {\n",
       "                             nbb_cells[i].set_text(nbb_formatted_code);\n",
       "                        }\n",
       "                        break;\n",
       "                    }\n",
       "                }\n",
       "            }, 500);\n",
       "            "
      ],
      "text/plain": [
       "<IPython.core.display.Javascript object>"
      ]
     },
     "metadata": {},
     "output_type": "display_data"
    }
   ],
   "source": [
    "# Dropping entry for relation of individual whose page link points to\n",
    "index = df[df[\"link\"] == \"https://en.wikipedia.org/wiki/Lola_Wasserstein\"].index\n",
    "df.drop(index, inplace=True)\n",
    "df.reset_index(inplace=True, drop=True)"
   ]
  },
  {
   "cell_type": "markdown",
   "id": "155ba07e",
   "metadata": {},
   "source": [
    "#### Creating Lists for Each `known_for` Category"
   ]
  },
  {
   "cell_type": "code",
   "execution_count": 33,
   "id": "27b0fcbe",
   "metadata": {},
   "outputs": [
    {
     "data": {
      "application/javascript": [
       "\n",
       "            setTimeout(function() {\n",
       "                var nbb_cell_id = 33;\n",
       "                var nbb_unformatted_code = \"# Creating lists for each category\\npolitics_govt_law = []\\n\\narts = [\\n    'playwright and lyricist of \\\"Arrivederci Roma\\\" and other songs',\\n    \\\"film and theater director and playwright\\\",\\n    \\\"Pulitzer Prize winning playwright\\\",\\n    \\\"theatre producer and playwright\\\",\\n    \\\"theatre director and playwright\\\",\\n    \\\"playwright and theatre director\\\",\\n    \\\"theatre critic and playwright\\\",\\n    \\\"film lyricist and playwright\\\",\\n    \\\"playwright and broadcaster\\\",\\n    \\\"playwright and TV producer\\\",\\n    \\\"dramatist and playwright\\\",\\n    \\\"filmmaker and playwright\\\",\\n    \\\"playwright and dramatist\\\",\\n    \\\"playwright and memoirist\\\",\\n    \\\"playwright and humorist\\\",\\n    \\\"lyricist and playwright\\\",\\n    \\\"playwright and lyricist\\\",\\n    \\\"comedian and playwright\\\",\\n    \\\"playwright and director\\\",\\n    \\\"Assiniboine playwright\\\",\\n    \\\"playwright and theatre\\\",\\n    \\\"playwright and critic\\\",\\n    \\\"playwright and\\\",\\n    \\\"and playwright\\\",\\n    \\\"playwright\\\",\\n]\\nsports = [\\n    \\\"three time Super Bowl winning football coach of the San Francisco ers and member of the Pro Football Hall of Fame\\\",\\n    \\\"football coach and member of the Pro Football Hall of Fame\\\",\\n    \\\"Hall of Fame football coach and administrator\\\",\\n    \\\"college football coach and athletic director\\\",\\n    \\\"football coach at Amherst College for years\\\",\\n    \\\"football coach and athletic administrator\\\",\\n    \\\"college football coach and administrator\\\",\\n    \\\"National Football League football coach\\\",\\n    \\\"high school and college football coach\\\",\\n    \\\"college and high school football coach\\\",\\n    \\\"Northwestern University football coach\\\",\\n    \\\"head football coach at Ithaca College\\\",\\n    \\\"football coach for Indiana University\\\",\\n    \\\"college football coach and NFL player\\\",\\n    \\\"football coach and athletic director\\\",\\n    \\\"Hall of Fame college football coach\\\",\\n    \\\"football coach and administrator\\\",\\n    \\\"former national football coach\\\",\\n    \\\"football coach and team owner\\\",\\n    \\\"football coach and executive\\\",\\n    \\\"Hall of Fame football coach\\\",\\n    \\\"NCAA and CFL football coach\\\",\\n    \\\"high school football coach\\\",\\n    \\\"football coach and manager\\\",\\n    \\\"association football coach\\\",\\n    \\\"football coach and player\\\",\\n    \\\"football coach of West y\\\",\\n    \\\"gridiron football coach\\\",\\n    \\\"college football coach\\\",\\n    \\\"East football coach\\\",\\n    \\\"football coach and\\\",\\n    \\\"and football coach\\\",\\n    \\\"football coach\\\",\\n]\\nsciences = []\\n\\nbusiness_farming = []\\nacademia_humanities = []\\nlaw_enf_military_operator = []\\nspiritual = []\\nsocial = []\\ncrime = []\\nevent_record_other = []\\nother_species = []\";\n",
       "                var nbb_formatted_code = \"# Creating lists for each category\\npolitics_govt_law = []\\n\\narts = [\\n    'playwright and lyricist of \\\"Arrivederci Roma\\\" and other songs',\\n    \\\"film and theater director and playwright\\\",\\n    \\\"Pulitzer Prize winning playwright\\\",\\n    \\\"theatre producer and playwright\\\",\\n    \\\"theatre director and playwright\\\",\\n    \\\"playwright and theatre director\\\",\\n    \\\"theatre critic and playwright\\\",\\n    \\\"film lyricist and playwright\\\",\\n    \\\"playwright and broadcaster\\\",\\n    \\\"playwright and TV producer\\\",\\n    \\\"dramatist and playwright\\\",\\n    \\\"filmmaker and playwright\\\",\\n    \\\"playwright and dramatist\\\",\\n    \\\"playwright and memoirist\\\",\\n    \\\"playwright and humorist\\\",\\n    \\\"lyricist and playwright\\\",\\n    \\\"playwright and lyricist\\\",\\n    \\\"comedian and playwright\\\",\\n    \\\"playwright and director\\\",\\n    \\\"Assiniboine playwright\\\",\\n    \\\"playwright and theatre\\\",\\n    \\\"playwright and critic\\\",\\n    \\\"playwright and\\\",\\n    \\\"and playwright\\\",\\n    \\\"playwright\\\",\\n]\\nsports = [\\n    \\\"three time Super Bowl winning football coach of the San Francisco ers and member of the Pro Football Hall of Fame\\\",\\n    \\\"football coach and member of the Pro Football Hall of Fame\\\",\\n    \\\"Hall of Fame football coach and administrator\\\",\\n    \\\"college football coach and athletic director\\\",\\n    \\\"football coach at Amherst College for years\\\",\\n    \\\"football coach and athletic administrator\\\",\\n    \\\"college football coach and administrator\\\",\\n    \\\"National Football League football coach\\\",\\n    \\\"high school and college football coach\\\",\\n    \\\"college and high school football coach\\\",\\n    \\\"Northwestern University football coach\\\",\\n    \\\"head football coach at Ithaca College\\\",\\n    \\\"football coach for Indiana University\\\",\\n    \\\"college football coach and NFL player\\\",\\n    \\\"football coach and athletic director\\\",\\n    \\\"Hall of Fame college football coach\\\",\\n    \\\"football coach and administrator\\\",\\n    \\\"former national football coach\\\",\\n    \\\"football coach and team owner\\\",\\n    \\\"football coach and executive\\\",\\n    \\\"Hall of Fame football coach\\\",\\n    \\\"NCAA and CFL football coach\\\",\\n    \\\"high school football coach\\\",\\n    \\\"football coach and manager\\\",\\n    \\\"association football coach\\\",\\n    \\\"football coach and player\\\",\\n    \\\"football coach of West y\\\",\\n    \\\"gridiron football coach\\\",\\n    \\\"college football coach\\\",\\n    \\\"East football coach\\\",\\n    \\\"football coach and\\\",\\n    \\\"and football coach\\\",\\n    \\\"football coach\\\",\\n]\\nsciences = []\\n\\nbusiness_farming = []\\nacademia_humanities = []\\nlaw_enf_military_operator = []\\nspiritual = []\\nsocial = []\\ncrime = []\\nevent_record_other = []\\nother_species = []\";\n",
       "                var nbb_cells = Jupyter.notebook.get_cells();\n",
       "                for (var i = 0; i < nbb_cells.length; ++i) {\n",
       "                    if (nbb_cells[i].input_prompt_number == nbb_cell_id) {\n",
       "                        if (nbb_cells[i].get_text() == nbb_unformatted_code) {\n",
       "                             nbb_cells[i].set_text(nbb_formatted_code);\n",
       "                        }\n",
       "                        break;\n",
       "                    }\n",
       "                }\n",
       "            }, 500);\n",
       "            "
      ],
      "text/plain": [
       "<IPython.core.display.Javascript object>"
      ]
     },
     "metadata": {},
     "output_type": "display_data"
    }
   ],
   "source": [
    "# Creating lists for each category\n",
    "politics_govt_law = []\n",
    "\n",
    "arts = [\n",
    "    'playwright and lyricist of \"Arrivederci Roma\" and other songs',\n",
    "    \"film and theater director and playwright\",\n",
    "    \"Pulitzer Prize winning playwright\",\n",
    "    \"theatre producer and playwright\",\n",
    "    \"theatre director and playwright\",\n",
    "    \"playwright and theatre director\",\n",
    "    \"theatre critic and playwright\",\n",
    "    \"film lyricist and playwright\",\n",
    "    \"playwright and broadcaster\",\n",
    "    \"playwright and TV producer\",\n",
    "    \"dramatist and playwright\",\n",
    "    \"filmmaker and playwright\",\n",
    "    \"playwright and dramatist\",\n",
    "    \"playwright and memoirist\",\n",
    "    \"playwright and humorist\",\n",
    "    \"lyricist and playwright\",\n",
    "    \"playwright and lyricist\",\n",
    "    \"comedian and playwright\",\n",
    "    \"playwright and director\",\n",
    "    \"Assiniboine playwright\",\n",
    "    \"playwright and theatre\",\n",
    "    \"playwright and critic\",\n",
    "    \"playwright and\",\n",
    "    \"and playwright\",\n",
    "    \"playwright\",\n",
    "]\n",
    "sports = [\n",
    "    \"three time Super Bowl winning football coach of the San Francisco ers and member of the Pro Football Hall of Fame\",\n",
    "    \"football coach and member of the Pro Football Hall of Fame\",\n",
    "    \"Hall of Fame football coach and administrator\",\n",
    "    \"college football coach and athletic director\",\n",
    "    \"football coach at Amherst College for years\",\n",
    "    \"football coach and athletic administrator\",\n",
    "    \"college football coach and administrator\",\n",
    "    \"National Football League football coach\",\n",
    "    \"high school and college football coach\",\n",
    "    \"college and high school football coach\",\n",
    "    \"Northwestern University football coach\",\n",
    "    \"head football coach at Ithaca College\",\n",
    "    \"football coach for Indiana University\",\n",
    "    \"college football coach and NFL player\",\n",
    "    \"football coach and athletic director\",\n",
    "    \"Hall of Fame college football coach\",\n",
    "    \"football coach and administrator\",\n",
    "    \"former national football coach\",\n",
    "    \"football coach and team owner\",\n",
    "    \"football coach and executive\",\n",
    "    \"Hall of Fame football coach\",\n",
    "    \"NCAA and CFL football coach\",\n",
    "    \"high school football coach\",\n",
    "    \"football coach and manager\",\n",
    "    \"association football coach\",\n",
    "    \"football coach and player\",\n",
    "    \"football coach of West y\",\n",
    "    \"gridiron football coach\",\n",
    "    \"college football coach\",\n",
    "    \"East football coach\",\n",
    "    \"football coach and\",\n",
    "    \"and football coach\",\n",
    "    \"football coach\",\n",
    "]\n",
    "sciences = []\n",
    "\n",
    "business_farming = []\n",
    "academia_humanities = []\n",
    "law_enf_military_operator = []\n",
    "spiritual = []\n",
    "social = []\n",
    "crime = []\n",
    "event_record_other = []\n",
    "other_species = []"
   ]
  },
  {
   "cell_type": "markdown",
   "id": "9ae976ee",
   "metadata": {},
   "source": [
    "#### Creating `known_for_dict` Dictionary of Category Keys and Specific Role Lists of Values"
   ]
  },
  {
   "cell_type": "code",
   "execution_count": 34,
   "id": "27b4d090",
   "metadata": {},
   "outputs": [
    {
     "data": {
      "application/javascript": [
       "\n",
       "            setTimeout(function() {\n",
       "                var nbb_cell_id = 34;\n",
       "                var nbb_unformatted_code = \"# Combining separate lists into one dictionary\\nknown_for_dict = {\\n    \\\"social\\\": social,\\n    \\\"spiritual\\\": spiritual,\\n    \\\"academia_humanities\\\": academia_humanities,\\n    \\\"business_farming\\\": business_farming,\\n    \\\"sciences\\\": sciences,\\n    \\\"politics_govt_law\\\": politics_govt_law,\\n    \\\"law_enf_military_operator\\\": law_enf_military_operator,\\n    \\\"crime\\\": crime,\\n    \\\"event_record_other\\\": event_record_other,\\n    \\\"other_species\\\": other_species,\\n    \\\"arts\\\": arts,\\n    \\\"sports\\\": sports,\\n}\";\n",
       "                var nbb_formatted_code = \"# Combining separate lists into one dictionary\\nknown_for_dict = {\\n    \\\"social\\\": social,\\n    \\\"spiritual\\\": spiritual,\\n    \\\"academia_humanities\\\": academia_humanities,\\n    \\\"business_farming\\\": business_farming,\\n    \\\"sciences\\\": sciences,\\n    \\\"politics_govt_law\\\": politics_govt_law,\\n    \\\"law_enf_military_operator\\\": law_enf_military_operator,\\n    \\\"crime\\\": crime,\\n    \\\"event_record_other\\\": event_record_other,\\n    \\\"other_species\\\": other_species,\\n    \\\"arts\\\": arts,\\n    \\\"sports\\\": sports,\\n}\";\n",
       "                var nbb_cells = Jupyter.notebook.get_cells();\n",
       "                for (var i = 0; i < nbb_cells.length; ++i) {\n",
       "                    if (nbb_cells[i].input_prompt_number == nbb_cell_id) {\n",
       "                        if (nbb_cells[i].get_text() == nbb_unformatted_code) {\n",
       "                             nbb_cells[i].set_text(nbb_formatted_code);\n",
       "                        }\n",
       "                        break;\n",
       "                    }\n",
       "                }\n",
       "            }, 500);\n",
       "            "
      ],
      "text/plain": [
       "<IPython.core.display.Javascript object>"
      ]
     },
     "metadata": {},
     "output_type": "display_data"
    }
   ],
   "source": [
    "# Combining separate lists into one dictionary\n",
    "known_for_dict = {\n",
    "    \"social\": social,\n",
    "    \"spiritual\": spiritual,\n",
    "    \"academia_humanities\": academia_humanities,\n",
    "    \"business_farming\": business_farming,\n",
    "    \"sciences\": sciences,\n",
    "    \"politics_govt_law\": politics_govt_law,\n",
    "    \"law_enf_military_operator\": law_enf_military_operator,\n",
    "    \"crime\": crime,\n",
    "    \"event_record_other\": event_record_other,\n",
    "    \"other_species\": other_species,\n",
    "    \"arts\": arts,\n",
    "    \"sports\": sports,\n",
    "}"
   ]
  },
  {
   "cell_type": "markdown",
   "id": "24210e86",
   "metadata": {},
   "source": [
    "#### Extracting Category from `info_2`"
   ]
  },
  {
   "cell_type": "code",
   "execution_count": 35,
   "id": "971e1dc5",
   "metadata": {},
   "outputs": [
    {
     "name": "stdout",
     "output_type": "stream",
     "text": [
      "CPU times: total: 31 s\n",
      "Wall time: 31 s\n"
     ]
    },
    {
     "data": {
      "text/html": [
       "<div>\n",
       "<style scoped>\n",
       "    .dataframe tbody tr th:only-of-type {\n",
       "        vertical-align: middle;\n",
       "    }\n",
       "\n",
       "    .dataframe tbody tr th {\n",
       "        vertical-align: top;\n",
       "    }\n",
       "\n",
       "    .dataframe thead th {\n",
       "        text-align: right;\n",
       "    }\n",
       "</style>\n",
       "<table border=\"1\" class=\"dataframe\">\n",
       "  <thead>\n",
       "    <tr style=\"text-align: right;\">\n",
       "      <th></th>\n",
       "      <th>day</th>\n",
       "      <th>name</th>\n",
       "      <th>info</th>\n",
       "      <th>link</th>\n",
       "      <th>num_references</th>\n",
       "      <th>year</th>\n",
       "      <th>month</th>\n",
       "      <th>info_parenth</th>\n",
       "      <th>info_1</th>\n",
       "      <th>info_2</th>\n",
       "      <th>info_3</th>\n",
       "      <th>info_4</th>\n",
       "      <th>info_5</th>\n",
       "      <th>info_6</th>\n",
       "      <th>info_7</th>\n",
       "      <th>info_8</th>\n",
       "      <th>info_9</th>\n",
       "      <th>info_10</th>\n",
       "      <th>info_11</th>\n",
       "      <th>age</th>\n",
       "      <th>cause_of_death</th>\n",
       "      <th>place_1</th>\n",
       "      <th>place_2</th>\n",
       "      <th>info_parenth_copy</th>\n",
       "      <th>log_num_references</th>\n",
       "      <th>sciences</th>\n",
       "      <th>social</th>\n",
       "      <th>spiritual</th>\n",
       "      <th>academia_humanities</th>\n",
       "      <th>business_farming</th>\n",
       "      <th>arts</th>\n",
       "      <th>sports</th>\n",
       "      <th>law_enf_military_operator</th>\n",
       "      <th>politics_govt_law</th>\n",
       "      <th>crime</th>\n",
       "      <th>event_record_other</th>\n",
       "      <th>other_species</th>\n",
       "      <th>num_categories</th>\n",
       "    </tr>\n",
       "  </thead>\n",
       "  <tbody>\n",
       "    <tr>\n",
       "      <th>22081</th>\n",
       "      <td>22</td>\n",
       "      <td>Tommy Garnett</td>\n",
       "      <td>, 91, English-born Australian cricketer and educator.</td>\n",
       "      <td>https://en.wikipedia.org/wiki/Tommy_Garnett</td>\n",
       "      <td>5</td>\n",
       "      <td>2006</td>\n",
       "      <td>September</td>\n",
       "      <td>None</td>\n",
       "      <td>None</td>\n",
       "      <td></td>\n",
       "      <td>None</td>\n",
       "      <td>None</td>\n",
       "      <td>None</td>\n",
       "      <td>None</td>\n",
       "      <td>None</td>\n",
       "      <td>None</td>\n",
       "      <td>None</td>\n",
       "      <td>None</td>\n",
       "      <td>None</td>\n",
       "      <td>91.0</td>\n",
       "      <td>None</td>\n",
       "      <td>United Kingdom of Great Britain and Northern Ireland</td>\n",
       "      <td>Australia</td>\n",
       "      <td>None</td>\n",
       "      <td>1.791759</td>\n",
       "      <td>0</td>\n",
       "      <td>0</td>\n",
       "      <td>0</td>\n",
       "      <td>1</td>\n",
       "      <td>0</td>\n",
       "      <td>0</td>\n",
       "      <td>1</td>\n",
       "      <td>0</td>\n",
       "      <td>0</td>\n",
       "      <td>0</td>\n",
       "      <td>0</td>\n",
       "      <td>0</td>\n",
       "      <td>2</td>\n",
       "    </tr>\n",
       "    <tr>\n",
       "      <th>81056</th>\n",
       "      <td>20</td>\n",
       "      <td>Roy Barker</td>\n",
       "      <td>, 72, English cricketer .</td>\n",
       "      <td>https://en.wikipedia.org/wiki/Roy_Barker_(cricketer)</td>\n",
       "      <td>3</td>\n",
       "      <td>2020</td>\n",
       "      <td>April</td>\n",
       "      <td>Worcestershire</td>\n",
       "      <td>None</td>\n",
       "      <td></td>\n",
       "      <td>None</td>\n",
       "      <td>None</td>\n",
       "      <td>None</td>\n",
       "      <td>None</td>\n",
       "      <td>None</td>\n",
       "      <td>None</td>\n",
       "      <td>None</td>\n",
       "      <td>None</td>\n",
       "      <td>None</td>\n",
       "      <td>72.0</td>\n",
       "      <td>None</td>\n",
       "      <td>United Kingdom of Great Britain and Northern Ireland</td>\n",
       "      <td>None</td>\n",
       "      <td>Worcestershire</td>\n",
       "      <td>1.386294</td>\n",
       "      <td>0</td>\n",
       "      <td>0</td>\n",
       "      <td>0</td>\n",
       "      <td>0</td>\n",
       "      <td>0</td>\n",
       "      <td>0</td>\n",
       "      <td>1</td>\n",
       "      <td>0</td>\n",
       "      <td>0</td>\n",
       "      <td>0</td>\n",
       "      <td>0</td>\n",
       "      <td>0</td>\n",
       "      <td>1</td>\n",
       "    </tr>\n",
       "  </tbody>\n",
       "</table>\n",
       "</div>"
      ],
      "text/plain": [
       "      day           name  \\\n",
       "22081  22  Tommy Garnett   \n",
       "81056  20     Roy Barker   \n",
       "\n",
       "                                                        info  \\\n",
       "22081  , 91, English-born Australian cricketer and educator.   \n",
       "81056                              , 72, English cricketer .   \n",
       "\n",
       "                                                       link  num_references  \\\n",
       "22081           https://en.wikipedia.org/wiki/Tommy_Garnett               5   \n",
       "81056  https://en.wikipedia.org/wiki/Roy_Barker_(cricketer)               3   \n",
       "\n",
       "       year      month    info_parenth info_1 info_2 info_3 info_4 info_5  \\\n",
       "22081  2006  September            None   None          None   None   None   \n",
       "81056  2020      April  Worcestershire   None          None   None   None   \n",
       "\n",
       "      info_6 info_7 info_8 info_9 info_10 info_11   age cause_of_death  \\\n",
       "22081   None   None   None   None    None    None  91.0           None   \n",
       "81056   None   None   None   None    None    None  72.0           None   \n",
       "\n",
       "                                                    place_1    place_2  \\\n",
       "22081  United Kingdom of Great Britain and Northern Ireland  Australia   \n",
       "81056  United Kingdom of Great Britain and Northern Ireland       None   \n",
       "\n",
       "      info_parenth_copy  log_num_references  sciences  social  spiritual  \\\n",
       "22081              None            1.791759         0       0          0   \n",
       "81056    Worcestershire            1.386294         0       0          0   \n",
       "\n",
       "       academia_humanities  business_farming  arts  sports  \\\n",
       "22081                    1                 0     0       1   \n",
       "81056                    0                 0     0       1   \n",
       "\n",
       "       law_enf_military_operator  politics_govt_law  crime  \\\n",
       "22081                          0                  0      0   \n",
       "81056                          0                  0      0   \n",
       "\n",
       "       event_record_other  other_species  num_categories  \n",
       "22081                   0              0               2  \n",
       "81056                   0              0               1  "
      ]
     },
     "execution_count": 35,
     "metadata": {},
     "output_type": "execute_result"
    },
    {
     "data": {
      "application/javascript": [
       "\n",
       "            setTimeout(function() {\n",
       "                var nbb_cell_id = 35;\n",
       "                var nbb_unformatted_code = \"%%time\\n\\n# Dictionary version\\nsearch_dict = known_for_dict\\n\\n# Column to check\\ncolumn = 'info_2'\\n\\n# Dataframe\\ndataframe = df[column].notna()\\n\\n# For loop to find role in column and extract it as category\\nfor category, category_lst in search_dict.items():\\n    for role in category_lst:\\n        for index in dataframe.index:\\n            item = df.loc[index, column]\\n            if item:\\n                if role in item:\\n                    df.loc[index, category] = 1\\n                    df.loc[index, column] = item.replace(role, '').strip()\\n\\n# Updating num_categories\\ndf[\\\"num_categories\\\"] = df[known_for_dict.keys()].sum(axis=1)\\n\\n# Checking a sample of rows\\ndf[df['sports'] ==1].sample(2)\";\n",
       "                var nbb_formatted_code = \"%%time\\n\\n# Dictionary version\\nsearch_dict = known_for_dict\\n\\n# Column to check\\ncolumn = 'info_2'\\n\\n# Dataframe\\ndataframe = df[column].notna()\\n\\n# For loop to find role in column and extract it as category\\nfor category, category_lst in search_dict.items():\\n    for role in category_lst:\\n        for index in dataframe.index:\\n            item = df.loc[index, column]\\n            if item:\\n                if role in item:\\n                    df.loc[index, category] = 1\\n                    df.loc[index, column] = item.replace(role, '').strip()\\n\\n# Updating num_categories\\ndf[\\\"num_categories\\\"] = df[known_for_dict.keys()].sum(axis=1)\\n\\n# Checking a sample of rows\\ndf[df['sports'] ==1].sample(2)\";\n",
       "                var nbb_cells = Jupyter.notebook.get_cells();\n",
       "                for (var i = 0; i < nbb_cells.length; ++i) {\n",
       "                    if (nbb_cells[i].input_prompt_number == nbb_cell_id) {\n",
       "                        if (nbb_cells[i].get_text() == nbb_unformatted_code) {\n",
       "                             nbb_cells[i].set_text(nbb_formatted_code);\n",
       "                        }\n",
       "                        break;\n",
       "                    }\n",
       "                }\n",
       "            }, 500);\n",
       "            "
      ],
      "text/plain": [
       "<IPython.core.display.Javascript object>"
      ]
     },
     "metadata": {},
     "output_type": "display_data"
    }
   ],
   "source": [
    "%%time\n",
    "\n",
    "# Dictionary version\n",
    "search_dict = known_for_dict\n",
    "\n",
    "# Column to check\n",
    "column = 'info_2'\n",
    "\n",
    "# Dataframe\n",
    "dataframe = df[column].notna()\n",
    "\n",
    "# For loop to find role in column and extract it as category\n",
    "for category, category_lst in search_dict.items():\n",
    "    for role in category_lst:\n",
    "        for index in dataframe.index:\n",
    "            item = df.loc[index, column]\n",
    "            if item:\n",
    "                if role in item:\n",
    "                    df.loc[index, category] = 1\n",
    "                    df.loc[index, column] = item.replace(role, '').strip()\n",
    "\n",
    "# Updating num_categories\n",
    "df[\"num_categories\"] = df[known_for_dict.keys()].sum(axis=1)\n",
    "\n",
    "# Checking a sample of rows\n",
    "df[df['sports'] ==1].sample(2)"
   ]
  },
  {
   "cell_type": "markdown",
   "id": "82bb9c8a",
   "metadata": {},
   "source": [
    "#### Checking the Number of Rows without a First Category"
   ]
  },
  {
   "cell_type": "code",
   "execution_count": 36,
   "id": "d9aea1ac",
   "metadata": {},
   "outputs": [
    {
     "name": "stdout",
     "output_type": "stream",
     "text": [
      "There are 31674 entries without any known_for category.\n"
     ]
    },
    {
     "data": {
      "application/javascript": [
       "\n",
       "            setTimeout(function() {\n",
       "                var nbb_cell_id = 36;\n",
       "                var nbb_unformatted_code = \"# Checking the number of rows without a first category\\nprint(\\n    f'There are {len(df[df[\\\"num_categories\\\"]==0])} entries without any known_for category.'\\n)\";\n",
       "                var nbb_formatted_code = \"# Checking the number of rows without a first category\\nprint(\\n    f'There are {len(df[df[\\\"num_categories\\\"]==0])} entries without any known_for category.'\\n)\";\n",
       "                var nbb_cells = Jupyter.notebook.get_cells();\n",
       "                for (var i = 0; i < nbb_cells.length; ++i) {\n",
       "                    if (nbb_cells[i].input_prompt_number == nbb_cell_id) {\n",
       "                        if (nbb_cells[i].get_text() == nbb_unformatted_code) {\n",
       "                             nbb_cells[i].set_text(nbb_formatted_code);\n",
       "                        }\n",
       "                        break;\n",
       "                    }\n",
       "                }\n",
       "            }, 500);\n",
       "            "
      ],
      "text/plain": [
       "<IPython.core.display.Javascript object>"
      ]
     },
     "metadata": {},
     "output_type": "display_data"
    }
   ],
   "source": [
    "# Checking the number of rows without a first category\n",
    "print(\n",
    "    f'There are {len(df[df[\"num_categories\"]==0])} entries without any known_for category.'\n",
    ")"
   ]
  },
  {
   "cell_type": "markdown",
   "id": "24804cd2",
   "metadata": {},
   "source": [
    "#### Observations:\n",
    "- We will proceed to rebuild `known_for_dict` for the next iteration."
   ]
  },
  {
   "cell_type": "markdown",
   "id": "35e0fa7e",
   "metadata": {},
   "source": [
    "#### Finding `known_for` Roles in `info_2`"
   ]
  },
  {
   "cell_type": "code",
   "execution_count": 37,
   "id": "0b07c8c2",
   "metadata": {},
   "outputs": [
    {
     "data": {
      "application/javascript": [
       "\n",
       "            setTimeout(function() {\n",
       "                var nbb_cell_id = 37;\n",
       "                var nbb_unformatted_code = \"# # Obtaining values for column and their counts\\n# roles_list = df[\\\"info_2\\\"].value_counts(ascending=True).index.tolist()\";\n",
       "                var nbb_formatted_code = \"# # Obtaining values for column and their counts\\n# roles_list = df[\\\"info_2\\\"].value_counts(ascending=True).index.tolist()\";\n",
       "                var nbb_cells = Jupyter.notebook.get_cells();\n",
       "                for (var i = 0; i < nbb_cells.length; ++i) {\n",
       "                    if (nbb_cells[i].input_prompt_number == nbb_cell_id) {\n",
       "                        if (nbb_cells[i].get_text() == nbb_unformatted_code) {\n",
       "                             nbb_cells[i].set_text(nbb_formatted_code);\n",
       "                        }\n",
       "                        break;\n",
       "                    }\n",
       "                }\n",
       "            }, 500);\n",
       "            "
      ],
      "text/plain": [
       "<IPython.core.display.Javascript object>"
      ]
     },
     "metadata": {},
     "output_type": "display_data"
    }
   ],
   "source": [
    "# # Obtaining values for column and their counts\n",
    "# roles_list = df[\"info_2\"].value_counts(ascending=True).index.tolist()"
   ]
  },
  {
   "cell_type": "code",
   "execution_count": 38,
   "id": "36582ebe",
   "metadata": {},
   "outputs": [
    {
     "data": {
      "application/javascript": [
       "\n",
       "            setTimeout(function() {\n",
       "                var nbb_cell_id = 38;\n",
       "                var nbb_unformatted_code = \"# # Code to check each value\\n# roles_list.pop()\";\n",
       "                var nbb_formatted_code = \"# # Code to check each value\\n# roles_list.pop()\";\n",
       "                var nbb_cells = Jupyter.notebook.get_cells();\n",
       "                for (var i = 0; i < nbb_cells.length; ++i) {\n",
       "                    if (nbb_cells[i].input_prompt_number == nbb_cell_id) {\n",
       "                        if (nbb_cells[i].get_text() == nbb_unformatted_code) {\n",
       "                             nbb_cells[i].set_text(nbb_formatted_code);\n",
       "                        }\n",
       "                        break;\n",
       "                    }\n",
       "                }\n",
       "            }, 500);\n",
       "            "
      ],
      "text/plain": [
       "<IPython.core.display.Javascript object>"
      ]
     },
     "metadata": {},
     "output_type": "display_data"
    }
   ],
   "source": [
    "# # Code to check each value\n",
    "# roles_list.pop()"
   ]
  },
  {
   "cell_type": "code",
   "execution_count": 39,
   "id": "c4ac3526",
   "metadata": {},
   "outputs": [
    {
     "data": {
      "application/javascript": [
       "\n",
       "            setTimeout(function() {\n",
       "                var nbb_cell_id = 39;\n",
       "                var nbb_unformatted_code = \"# # Create specific_roles_list for above popped value\\n# specific_roles_list = (\\n#     df.loc[\\n#         [index for index in df.index if \\\"archaeologist\\\" in df.loc[index, \\\"info\\\"]],\\n#         \\\"info_2\\\",\\n#     ]\\n#     .value_counts()\\n#     .index.tolist()\\n# )\";\n",
       "                var nbb_formatted_code = \"# # Create specific_roles_list for above popped value\\n# specific_roles_list = (\\n#     df.loc[\\n#         [index for index in df.index if \\\"archaeologist\\\" in df.loc[index, \\\"info\\\"]],\\n#         \\\"info_2\\\",\\n#     ]\\n#     .value_counts()\\n#     .index.tolist()\\n# )\";\n",
       "                var nbb_cells = Jupyter.notebook.get_cells();\n",
       "                for (var i = 0; i < nbb_cells.length; ++i) {\n",
       "                    if (nbb_cells[i].input_prompt_number == nbb_cell_id) {\n",
       "                        if (nbb_cells[i].get_text() == nbb_unformatted_code) {\n",
       "                             nbb_cells[i].set_text(nbb_formatted_code);\n",
       "                        }\n",
       "                        break;\n",
       "                    }\n",
       "                }\n",
       "            }, 500);\n",
       "            "
      ],
      "text/plain": [
       "<IPython.core.display.Javascript object>"
      ]
     },
     "metadata": {},
     "output_type": "display_data"
    }
   ],
   "source": [
    "# # Create specific_roles_list for above popped value\n",
    "# specific_roles_list = (\n",
    "#     df.loc[\n",
    "#         [index for index in df.index if \"archaeologist\" in df.loc[index, \"info\"]],\n",
    "#         \"info_2\",\n",
    "#     ]\n",
    "#     .value_counts()\n",
    "#     .index.tolist()\n",
    "# )"
   ]
  },
  {
   "cell_type": "code",
   "execution_count": 40,
   "id": "53388566",
   "metadata": {},
   "outputs": [
    {
     "data": {
      "application/javascript": [
       "\n",
       "            setTimeout(function() {\n",
       "                var nbb_cell_id = 40;\n",
       "                var nbb_unformatted_code = \"# # Code to check each specific value\\n# specific_roles_list.pop()\";\n",
       "                var nbb_formatted_code = \"# # Code to check each specific value\\n# specific_roles_list.pop()\";\n",
       "                var nbb_cells = Jupyter.notebook.get_cells();\n",
       "                for (var i = 0; i < nbb_cells.length; ++i) {\n",
       "                    if (nbb_cells[i].input_prompt_number == nbb_cell_id) {\n",
       "                        if (nbb_cells[i].get_text() == nbb_unformatted_code) {\n",
       "                             nbb_cells[i].set_text(nbb_formatted_code);\n",
       "                        }\n",
       "                        break;\n",
       "                    }\n",
       "                }\n",
       "            }, 500);\n",
       "            "
      ],
      "text/plain": [
       "<IPython.core.display.Javascript object>"
      ]
     },
     "metadata": {},
     "output_type": "display_data"
    }
   ],
   "source": [
    "# # Code to check each specific value\n",
    "# specific_roles_list.pop()"
   ]
  },
  {
   "cell_type": "code",
   "execution_count": 41,
   "id": "a653af2a",
   "metadata": {},
   "outputs": [
    {
     "data": {
      "application/javascript": [
       "\n",
       "            setTimeout(function() {\n",
       "                var nbb_cell_id = 41;\n",
       "                var nbb_unformatted_code = \"# # Example code to quick-screen values that may overlap categories\\n# df.loc[[index for index in df.index if \\\"osteologist\\\" in df.loc[index, \\\"info\\\"]]]\";\n",
       "                var nbb_formatted_code = \"# # Example code to quick-screen values that may overlap categories\\n# df.loc[[index for index in df.index if \\\"osteologist\\\" in df.loc[index, \\\"info\\\"]]]\";\n",
       "                var nbb_cells = Jupyter.notebook.get_cells();\n",
       "                for (var i = 0; i < nbb_cells.length; ++i) {\n",
       "                    if (nbb_cells[i].input_prompt_number == nbb_cell_id) {\n",
       "                        if (nbb_cells[i].get_text() == nbb_unformatted_code) {\n",
       "                             nbb_cells[i].set_text(nbb_formatted_code);\n",
       "                        }\n",
       "                        break;\n",
       "                    }\n",
       "                }\n",
       "            }, 500);\n",
       "            "
      ],
      "text/plain": [
       "<IPython.core.display.Javascript object>"
      ]
     },
     "metadata": {},
     "output_type": "display_data"
    }
   ],
   "source": [
    "# # Example code to quick-screen values that may overlap categories\n",
    "# df.loc[[index for index in df.index if \"osteologist\" in df.loc[index, \"info\"]]]"
   ]
  },
  {
   "cell_type": "code",
   "execution_count": 42,
   "id": "2ea58322",
   "metadata": {},
   "outputs": [
    {
     "data": {
      "application/javascript": [
       "\n",
       "            setTimeout(function() {\n",
       "                var nbb_cell_id = 42;\n",
       "                var nbb_unformatted_code = \"# # Example code to quick-check a specific entry\\n# df[df[\\\"info_2\\\"] == \\\"nuclear archaeologist\\\"]\";\n",
       "                var nbb_formatted_code = \"# # Example code to quick-check a specific entry\\n# df[df[\\\"info_2\\\"] == \\\"nuclear archaeologist\\\"]\";\n",
       "                var nbb_cells = Jupyter.notebook.get_cells();\n",
       "                for (var i = 0; i < nbb_cells.length; ++i) {\n",
       "                    if (nbb_cells[i].input_prompt_number == nbb_cell_id) {\n",
       "                        if (nbb_cells[i].get_text() == nbb_unformatted_code) {\n",
       "                             nbb_cells[i].set_text(nbb_formatted_code);\n",
       "                        }\n",
       "                        break;\n",
       "                    }\n",
       "                }\n",
       "            }, 500);\n",
       "            "
      ],
      "text/plain": [
       "<IPython.core.display.Javascript object>"
      ]
     },
     "metadata": {},
     "output_type": "display_data"
    }
   ],
   "source": [
    "# # Example code to quick-check a specific entry\n",
    "# df[df[\"info_2\"] == \"nuclear archaeologist\"]"
   ]
  },
  {
   "cell_type": "markdown",
   "id": "b64db38f",
   "metadata": {},
   "source": [
    "#### Creating Lists for Each `known_for` Category"
   ]
  },
  {
   "cell_type": "code",
   "execution_count": 43,
   "id": "df956841",
   "metadata": {},
   "outputs": [
    {
     "data": {
      "application/javascript": [
       "\n",
       "            setTimeout(function() {\n",
       "                var nbb_cell_id = 43;\n",
       "                var nbb_unformatted_code = \"# Creating lists for each category\\npolitics_govt_law = [\\n    \\\"civil servant and United Nations disarmament official\\\",\\n    \\\"colonial civil servant and governor Ruanda Urundi\\\",\\n    \\\"Coast Salish tribal leader and civil servant\\\",\\n    \\\"civil servant and mental health campaigner\\\",\\n    \\\"civil servant and countryside campaigner\\\",\\n    \\\"civil servant and presidential advisor\\\",\\n    \\\"civil servant and policy advisor\\\",\\n    \\\"and international civil servant\\\",\\n    \\\"civil servant and whistleblower\\\",\\n    \\\"Channel Islander civil servant\\\",\\n    \\\"civil servant from Providence\\\",\\n    \\\"civil servant and magistrate\\\",\\n    \\\"prosecutor and civil servant\\\",\\n    \\\"civil servant and bureaucrat\\\",\\n    \\\"international civil servant\\\",\\n    \\\"barrister and civil servant\\\",\\n    \\\"life peer and civil servant\\\",\\n    \\\"civil servant and planner\\\",\\n    \\\"civil servant and public\\\",\\n    \\\"civil servant and peer\\\",\\n    \\\"and civil servant\\\",\\n    \\\"civil servant and\\\",\\n    \\\"civil servant\\\",\\n]\\n\\narts = []\\nsports = []\\nsciences = [\\n    \\\"osteologist\\\",\\n]\\n\\nbusiness_farming = []\\nacademia_humanities = [\\n    \\\"museum curator and archaeologist who was director of the Museum of\\\",\\n    \\\"archaeologist specializing in Etruscan civilization and art\\\",\\n    \\\"archaeologist at the University of Sheffield\\\",\\n    \\\"Middle Eastern archaeologist and professor\\\",\\n    \\\"archaeologist and art preservationist\\\",\\n    \\\"classical scholar and archaeologist\\\",\\n    \\\"archaeologist and classical scholar\\\",\\n    \\\"archaeologist at the University of\\\",\\n    \\\"archaeologist of sites in Anatolia\\\",\\n    \\\"art conservator and archaeologist\\\",\\n    \\\"Coptic scholar and archaeologist\\\",\\n    \\\"anthropologist and archaeologist\\\",\\n    \\\"archaeologist and anthropologist\\\",\\n    \\\"archaeologist and Byzantinist\\\",\\n    \\\"archaeologist and numismatist\\\",\\n    \\\"archaeologist and philologist\\\",\\n    \\\"archaeologist and classicist\\\",\\n    \\\"archaeologist and sinologist\\\",\\n    \\\"archaeologist and professor\\\",\\n    \\\"classical archaeologist and\\\",\\n    \\\"archaeologist and curator\\\",\\n    \\\"archaeologist and scholar\\\",\\n    \\\"historical archaeologist\\\",\\n    \\\"underwater archaeologist\\\",\\n    \\\"classical archaeologist\\\",\\n    \\\"landscape archaeologist\\\",\\n    \\\"nuclear archaeologist\\\",\\n    \\\"Meso archaeologist\\\",\\n    \\\"zooarchaeologist\\\",\\n    \\\"archaeologist and\\\",\\n    \\\"and archaeologist\\\",\\n    \\\"archaeologist\\\",\\n]\\nlaw_enf_military_operator = [\\n    \\\"recruiter of spies\\\",\\n]\\nspiritual = []\\nsocial = []\\ncrime = []\\nevent_record_other = []\\nother_species = []\";\n",
       "                var nbb_formatted_code = \"# Creating lists for each category\\npolitics_govt_law = [\\n    \\\"civil servant and United Nations disarmament official\\\",\\n    \\\"colonial civil servant and governor Ruanda Urundi\\\",\\n    \\\"Coast Salish tribal leader and civil servant\\\",\\n    \\\"civil servant and mental health campaigner\\\",\\n    \\\"civil servant and countryside campaigner\\\",\\n    \\\"civil servant and presidential advisor\\\",\\n    \\\"civil servant and policy advisor\\\",\\n    \\\"and international civil servant\\\",\\n    \\\"civil servant and whistleblower\\\",\\n    \\\"Channel Islander civil servant\\\",\\n    \\\"civil servant from Providence\\\",\\n    \\\"civil servant and magistrate\\\",\\n    \\\"prosecutor and civil servant\\\",\\n    \\\"civil servant and bureaucrat\\\",\\n    \\\"international civil servant\\\",\\n    \\\"barrister and civil servant\\\",\\n    \\\"life peer and civil servant\\\",\\n    \\\"civil servant and planner\\\",\\n    \\\"civil servant and public\\\",\\n    \\\"civil servant and peer\\\",\\n    \\\"and civil servant\\\",\\n    \\\"civil servant and\\\",\\n    \\\"civil servant\\\",\\n]\\n\\narts = []\\nsports = []\\nsciences = [\\n    \\\"osteologist\\\",\\n]\\n\\nbusiness_farming = []\\nacademia_humanities = [\\n    \\\"museum curator and archaeologist who was director of the Museum of\\\",\\n    \\\"archaeologist specializing in Etruscan civilization and art\\\",\\n    \\\"archaeologist at the University of Sheffield\\\",\\n    \\\"Middle Eastern archaeologist and professor\\\",\\n    \\\"archaeologist and art preservationist\\\",\\n    \\\"classical scholar and archaeologist\\\",\\n    \\\"archaeologist and classical scholar\\\",\\n    \\\"archaeologist at the University of\\\",\\n    \\\"archaeologist of sites in Anatolia\\\",\\n    \\\"art conservator and archaeologist\\\",\\n    \\\"Coptic scholar and archaeologist\\\",\\n    \\\"anthropologist and archaeologist\\\",\\n    \\\"archaeologist and anthropologist\\\",\\n    \\\"archaeologist and Byzantinist\\\",\\n    \\\"archaeologist and numismatist\\\",\\n    \\\"archaeologist and philologist\\\",\\n    \\\"archaeologist and classicist\\\",\\n    \\\"archaeologist and sinologist\\\",\\n    \\\"archaeologist and professor\\\",\\n    \\\"classical archaeologist and\\\",\\n    \\\"archaeologist and curator\\\",\\n    \\\"archaeologist and scholar\\\",\\n    \\\"historical archaeologist\\\",\\n    \\\"underwater archaeologist\\\",\\n    \\\"classical archaeologist\\\",\\n    \\\"landscape archaeologist\\\",\\n    \\\"nuclear archaeologist\\\",\\n    \\\"Meso archaeologist\\\",\\n    \\\"zooarchaeologist\\\",\\n    \\\"archaeologist and\\\",\\n    \\\"and archaeologist\\\",\\n    \\\"archaeologist\\\",\\n]\\nlaw_enf_military_operator = [\\n    \\\"recruiter of spies\\\",\\n]\\nspiritual = []\\nsocial = []\\ncrime = []\\nevent_record_other = []\\nother_species = []\";\n",
       "                var nbb_cells = Jupyter.notebook.get_cells();\n",
       "                for (var i = 0; i < nbb_cells.length; ++i) {\n",
       "                    if (nbb_cells[i].input_prompt_number == nbb_cell_id) {\n",
       "                        if (nbb_cells[i].get_text() == nbb_unformatted_code) {\n",
       "                             nbb_cells[i].set_text(nbb_formatted_code);\n",
       "                        }\n",
       "                        break;\n",
       "                    }\n",
       "                }\n",
       "            }, 500);\n",
       "            "
      ],
      "text/plain": [
       "<IPython.core.display.Javascript object>"
      ]
     },
     "metadata": {},
     "output_type": "display_data"
    }
   ],
   "source": [
    "# Creating lists for each category\n",
    "politics_govt_law = [\n",
    "    \"civil servant and United Nations disarmament official\",\n",
    "    \"colonial civil servant and governor Ruanda Urundi\",\n",
    "    \"Coast Salish tribal leader and civil servant\",\n",
    "    \"civil servant and mental health campaigner\",\n",
    "    \"civil servant and countryside campaigner\",\n",
    "    \"civil servant and presidential advisor\",\n",
    "    \"civil servant and policy advisor\",\n",
    "    \"and international civil servant\",\n",
    "    \"civil servant and whistleblower\",\n",
    "    \"Channel Islander civil servant\",\n",
    "    \"civil servant from Providence\",\n",
    "    \"civil servant and magistrate\",\n",
    "    \"prosecutor and civil servant\",\n",
    "    \"civil servant and bureaucrat\",\n",
    "    \"international civil servant\",\n",
    "    \"barrister and civil servant\",\n",
    "    \"life peer and civil servant\",\n",
    "    \"civil servant and planner\",\n",
    "    \"civil servant and public\",\n",
    "    \"civil servant and peer\",\n",
    "    \"and civil servant\",\n",
    "    \"civil servant and\",\n",
    "    \"civil servant\",\n",
    "]\n",
    "\n",
    "arts = []\n",
    "sports = []\n",
    "sciences = [\n",
    "    \"osteologist\",\n",
    "]\n",
    "\n",
    "business_farming = []\n",
    "academia_humanities = [\n",
    "    \"museum curator and archaeologist who was director of the Museum of\",\n",
    "    \"archaeologist specializing in Etruscan civilization and art\",\n",
    "    \"archaeologist at the University of Sheffield\",\n",
    "    \"Middle Eastern archaeologist and professor\",\n",
    "    \"archaeologist and art preservationist\",\n",
    "    \"classical scholar and archaeologist\",\n",
    "    \"archaeologist and classical scholar\",\n",
    "    \"archaeologist at the University of\",\n",
    "    \"archaeologist of sites in Anatolia\",\n",
    "    \"art conservator and archaeologist\",\n",
    "    \"Coptic scholar and archaeologist\",\n",
    "    \"anthropologist and archaeologist\",\n",
    "    \"archaeologist and anthropologist\",\n",
    "    \"archaeologist and Byzantinist\",\n",
    "    \"archaeologist and numismatist\",\n",
    "    \"archaeologist and philologist\",\n",
    "    \"archaeologist and classicist\",\n",
    "    \"archaeologist and sinologist\",\n",
    "    \"archaeologist and professor\",\n",
    "    \"classical archaeologist and\",\n",
    "    \"archaeologist and curator\",\n",
    "    \"archaeologist and scholar\",\n",
    "    \"historical archaeologist\",\n",
    "    \"underwater archaeologist\",\n",
    "    \"classical archaeologist\",\n",
    "    \"landscape archaeologist\",\n",
    "    \"nuclear archaeologist\",\n",
    "    \"Meso archaeologist\",\n",
    "    \"zooarchaeologist\",\n",
    "    \"archaeologist and\",\n",
    "    \"and archaeologist\",\n",
    "    \"archaeologist\",\n",
    "]\n",
    "law_enf_military_operator = [\n",
    "    \"recruiter of spies\",\n",
    "]\n",
    "spiritual = []\n",
    "social = []\n",
    "crime = []\n",
    "event_record_other = []\n",
    "other_species = []"
   ]
  },
  {
   "cell_type": "markdown",
   "id": "28223745",
   "metadata": {},
   "source": [
    "#### Creating `known_for_dict` Dictionary of Category Keys and Specific Role Lists of Values"
   ]
  },
  {
   "cell_type": "code",
   "execution_count": 44,
   "id": "3beaac8e",
   "metadata": {},
   "outputs": [
    {
     "data": {
      "application/javascript": [
       "\n",
       "            setTimeout(function() {\n",
       "                var nbb_cell_id = 44;\n",
       "                var nbb_unformatted_code = \"# Combining separate lists into one dictionary\\nknown_for_dict = {\\n    \\\"social\\\": social,\\n    \\\"spiritual\\\": spiritual,\\n    \\\"academia_humanities\\\": academia_humanities,\\n    \\\"business_farming\\\": business_farming,\\n    \\\"sciences\\\": sciences,\\n    \\\"politics_govt_law\\\": politics_govt_law,\\n    \\\"law_enf_military_operator\\\": law_enf_military_operator,\\n    \\\"crime\\\": crime,\\n    \\\"event_record_other\\\": event_record_other,\\n    \\\"other_species\\\": other_species,\\n    \\\"arts\\\": arts,\\n    \\\"sports\\\": sports,\\n}\";\n",
       "                var nbb_formatted_code = \"# Combining separate lists into one dictionary\\nknown_for_dict = {\\n    \\\"social\\\": social,\\n    \\\"spiritual\\\": spiritual,\\n    \\\"academia_humanities\\\": academia_humanities,\\n    \\\"business_farming\\\": business_farming,\\n    \\\"sciences\\\": sciences,\\n    \\\"politics_govt_law\\\": politics_govt_law,\\n    \\\"law_enf_military_operator\\\": law_enf_military_operator,\\n    \\\"crime\\\": crime,\\n    \\\"event_record_other\\\": event_record_other,\\n    \\\"other_species\\\": other_species,\\n    \\\"arts\\\": arts,\\n    \\\"sports\\\": sports,\\n}\";\n",
       "                var nbb_cells = Jupyter.notebook.get_cells();\n",
       "                for (var i = 0; i < nbb_cells.length; ++i) {\n",
       "                    if (nbb_cells[i].input_prompt_number == nbb_cell_id) {\n",
       "                        if (nbb_cells[i].get_text() == nbb_unformatted_code) {\n",
       "                             nbb_cells[i].set_text(nbb_formatted_code);\n",
       "                        }\n",
       "                        break;\n",
       "                    }\n",
       "                }\n",
       "            }, 500);\n",
       "            "
      ],
      "text/plain": [
       "<IPython.core.display.Javascript object>"
      ]
     },
     "metadata": {},
     "output_type": "display_data"
    }
   ],
   "source": [
    "# Combining separate lists into one dictionary\n",
    "known_for_dict = {\n",
    "    \"social\": social,\n",
    "    \"spiritual\": spiritual,\n",
    "    \"academia_humanities\": academia_humanities,\n",
    "    \"business_farming\": business_farming,\n",
    "    \"sciences\": sciences,\n",
    "    \"politics_govt_law\": politics_govt_law,\n",
    "    \"law_enf_military_operator\": law_enf_military_operator,\n",
    "    \"crime\": crime,\n",
    "    \"event_record_other\": event_record_other,\n",
    "    \"other_species\": other_species,\n",
    "    \"arts\": arts,\n",
    "    \"sports\": sports,\n",
    "}"
   ]
  },
  {
   "cell_type": "markdown",
   "id": "338db45e",
   "metadata": {},
   "source": [
    "#### Extracting Category from `info_2`"
   ]
  },
  {
   "cell_type": "code",
   "execution_count": 45,
   "id": "4a7c6b3b",
   "metadata": {},
   "outputs": [
    {
     "name": "stdout",
     "output_type": "stream",
     "text": [
      "CPU times: total: 30.4 s\n",
      "Wall time: 30.4 s\n"
     ]
    },
    {
     "data": {
      "text/html": [
       "<div>\n",
       "<style scoped>\n",
       "    .dataframe tbody tr th:only-of-type {\n",
       "        vertical-align: middle;\n",
       "    }\n",
       "\n",
       "    .dataframe tbody tr th {\n",
       "        vertical-align: top;\n",
       "    }\n",
       "\n",
       "    .dataframe thead th {\n",
       "        text-align: right;\n",
       "    }\n",
       "</style>\n",
       "<table border=\"1\" class=\"dataframe\">\n",
       "  <thead>\n",
       "    <tr style=\"text-align: right;\">\n",
       "      <th></th>\n",
       "      <th>day</th>\n",
       "      <th>name</th>\n",
       "      <th>info</th>\n",
       "      <th>link</th>\n",
       "      <th>num_references</th>\n",
       "      <th>year</th>\n",
       "      <th>month</th>\n",
       "      <th>info_parenth</th>\n",
       "      <th>info_1</th>\n",
       "      <th>info_2</th>\n",
       "      <th>info_3</th>\n",
       "      <th>info_4</th>\n",
       "      <th>info_5</th>\n",
       "      <th>info_6</th>\n",
       "      <th>info_7</th>\n",
       "      <th>info_8</th>\n",
       "      <th>info_9</th>\n",
       "      <th>info_10</th>\n",
       "      <th>info_11</th>\n",
       "      <th>age</th>\n",
       "      <th>cause_of_death</th>\n",
       "      <th>place_1</th>\n",
       "      <th>place_2</th>\n",
       "      <th>info_parenth_copy</th>\n",
       "      <th>log_num_references</th>\n",
       "      <th>sciences</th>\n",
       "      <th>social</th>\n",
       "      <th>spiritual</th>\n",
       "      <th>academia_humanities</th>\n",
       "      <th>business_farming</th>\n",
       "      <th>arts</th>\n",
       "      <th>sports</th>\n",
       "      <th>law_enf_military_operator</th>\n",
       "      <th>politics_govt_law</th>\n",
       "      <th>crime</th>\n",
       "      <th>event_record_other</th>\n",
       "      <th>other_species</th>\n",
       "      <th>num_categories</th>\n",
       "    </tr>\n",
       "  </thead>\n",
       "  <tbody>\n",
       "    <tr>\n",
       "      <th>3851</th>\n",
       "      <td>18</td>\n",
       "      <td>Jacquetta Hawkes</td>\n",
       "      <td>, 85, British archaeologist.</td>\n",
       "      <td>https://en.wikipedia.org/wiki/Jacquetta_Hawkes</td>\n",
       "      <td>68</td>\n",
       "      <td>1996</td>\n",
       "      <td>March</td>\n",
       "      <td>None</td>\n",
       "      <td>None</td>\n",
       "      <td></td>\n",
       "      <td>None</td>\n",
       "      <td>None</td>\n",
       "      <td>None</td>\n",
       "      <td>None</td>\n",
       "      <td>None</td>\n",
       "      <td>None</td>\n",
       "      <td>None</td>\n",
       "      <td>None</td>\n",
       "      <td>None</td>\n",
       "      <td>85.0</td>\n",
       "      <td>None</td>\n",
       "      <td>United Kingdom of Great Britain and Northern Ireland</td>\n",
       "      <td>None</td>\n",
       "      <td>None</td>\n",
       "      <td>4.234107</td>\n",
       "      <td>0</td>\n",
       "      <td>0</td>\n",
       "      <td>0</td>\n",
       "      <td>1</td>\n",
       "      <td>0</td>\n",
       "      <td>0</td>\n",
       "      <td>0</td>\n",
       "      <td>0</td>\n",
       "      <td>0</td>\n",
       "      <td>0</td>\n",
       "      <td>0</td>\n",
       "      <td>0</td>\n",
       "      <td>1</td>\n",
       "    </tr>\n",
       "    <tr>\n",
       "      <th>21919</th>\n",
       "      <td>24</td>\n",
       "      <td>Leonard Levy</td>\n",
       "      <td>, 83, Canadian-born American constitutional historian and author, winner of the 1969 Pulitzer Prize for History.</td>\n",
       "      <td>https://en.wikipedia.org/wiki/Leonard_Levy</td>\n",
       "      <td>12</td>\n",
       "      <td>2006</td>\n",
       "      <td>August</td>\n",
       "      <td>None</td>\n",
       "      <td>None</td>\n",
       "      <td>constitutional</td>\n",
       "      <td>winner of the Pulitzer Prize for History</td>\n",
       "      <td>None</td>\n",
       "      <td>None</td>\n",
       "      <td>None</td>\n",
       "      <td>None</td>\n",
       "      <td>None</td>\n",
       "      <td>None</td>\n",
       "      <td>None</td>\n",
       "      <td>None</td>\n",
       "      <td>83.0</td>\n",
       "      <td>None</td>\n",
       "      <td>Canada</td>\n",
       "      <td>United States of America</td>\n",
       "      <td>None</td>\n",
       "      <td>2.564949</td>\n",
       "      <td>0</td>\n",
       "      <td>0</td>\n",
       "      <td>0</td>\n",
       "      <td>1</td>\n",
       "      <td>0</td>\n",
       "      <td>1</td>\n",
       "      <td>0</td>\n",
       "      <td>0</td>\n",
       "      <td>0</td>\n",
       "      <td>0</td>\n",
       "      <td>0</td>\n",
       "      <td>0</td>\n",
       "      <td>2</td>\n",
       "    </tr>\n",
       "  </tbody>\n",
       "</table>\n",
       "</div>"
      ],
      "text/plain": [
       "      day              name  \\\n",
       "3851   18  Jacquetta Hawkes   \n",
       "21919  24      Leonard Levy   \n",
       "\n",
       "                                                                                                                   info  \\\n",
       "3851                                                                                       , 85, British archaeologist.   \n",
       "21919  , 83, Canadian-born American constitutional historian and author, winner of the 1969 Pulitzer Prize for History.   \n",
       "\n",
       "                                                 link  num_references  year  \\\n",
       "3851   https://en.wikipedia.org/wiki/Jacquetta_Hawkes              68  1996   \n",
       "21919      https://en.wikipedia.org/wiki/Leonard_Levy              12  2006   \n",
       "\n",
       "        month info_parenth info_1          info_2  \\\n",
       "3851    March         None   None                   \n",
       "21919  August         None   None  constitutional   \n",
       "\n",
       "                                         info_3 info_4 info_5 info_6 info_7  \\\n",
       "3851                                       None   None   None   None   None   \n",
       "21919  winner of the Pulitzer Prize for History   None   None   None   None   \n",
       "\n",
       "      info_8 info_9 info_10 info_11   age cause_of_death  \\\n",
       "3851    None   None    None    None  85.0           None   \n",
       "21919   None   None    None    None  83.0           None   \n",
       "\n",
       "                                                    place_1  \\\n",
       "3851   United Kingdom of Great Britain and Northern Ireland   \n",
       "21919                                                Canada   \n",
       "\n",
       "                        place_2 info_parenth_copy  log_num_references  \\\n",
       "3851                       None              None            4.234107   \n",
       "21919  United States of America              None            2.564949   \n",
       "\n",
       "       sciences  social  spiritual  academia_humanities  business_farming  \\\n",
       "3851          0       0          0                    1                 0   \n",
       "21919         0       0          0                    1                 0   \n",
       "\n",
       "       arts  sports  law_enf_military_operator  politics_govt_law  crime  \\\n",
       "3851      0       0                          0                  0      0   \n",
       "21919     1       0                          0                  0      0   \n",
       "\n",
       "       event_record_other  other_species  num_categories  \n",
       "3851                    0              0               1  \n",
       "21919                   0              0               2  "
      ]
     },
     "execution_count": 45,
     "metadata": {},
     "output_type": "execute_result"
    },
    {
     "data": {
      "application/javascript": [
       "\n",
       "            setTimeout(function() {\n",
       "                var nbb_cell_id = 45;\n",
       "                var nbb_unformatted_code = \"%%time\\n\\n# Dictionary version\\nsearch_dict = known_for_dict\\n\\n# Column to check\\ncolumn = 'info_2'\\n\\n# Dataframe\\ndataframe = df[column].notna()\\n\\n# For loop to find role in column and extract it as category\\nfor category, category_lst in search_dict.items():\\n    for role in category_lst:\\n        for index in dataframe.index:\\n            item = df.loc[index, column]\\n            if item:\\n                if role in item:\\n                    df.loc[index, category] = 1\\n                    df.loc[index, column] = item.replace(role, '').strip()\\n\\n# Updating num_categories\\ndf[\\\"num_categories\\\"] = df[known_for_dict.keys()].sum(axis=1)\\n\\n# Checking a sample of rows\\ndf[df['academia_humanities'] ==1].sample(2)\";\n",
       "                var nbb_formatted_code = \"%%time\\n\\n# Dictionary version\\nsearch_dict = known_for_dict\\n\\n# Column to check\\ncolumn = 'info_2'\\n\\n# Dataframe\\ndataframe = df[column].notna()\\n\\n# For loop to find role in column and extract it as category\\nfor category, category_lst in search_dict.items():\\n    for role in category_lst:\\n        for index in dataframe.index:\\n            item = df.loc[index, column]\\n            if item:\\n                if role in item:\\n                    df.loc[index, category] = 1\\n                    df.loc[index, column] = item.replace(role, '').strip()\\n\\n# Updating num_categories\\ndf[\\\"num_categories\\\"] = df[known_for_dict.keys()].sum(axis=1)\\n\\n# Checking a sample of rows\\ndf[df['academia_humanities'] ==1].sample(2)\";\n",
       "                var nbb_cells = Jupyter.notebook.get_cells();\n",
       "                for (var i = 0; i < nbb_cells.length; ++i) {\n",
       "                    if (nbb_cells[i].input_prompt_number == nbb_cell_id) {\n",
       "                        if (nbb_cells[i].get_text() == nbb_unformatted_code) {\n",
       "                             nbb_cells[i].set_text(nbb_formatted_code);\n",
       "                        }\n",
       "                        break;\n",
       "                    }\n",
       "                }\n",
       "            }, 500);\n",
       "            "
      ],
      "text/plain": [
       "<IPython.core.display.Javascript object>"
      ]
     },
     "metadata": {},
     "output_type": "display_data"
    }
   ],
   "source": [
    "%%time\n",
    "\n",
    "# Dictionary version\n",
    "search_dict = known_for_dict\n",
    "\n",
    "# Column to check\n",
    "column = 'info_2'\n",
    "\n",
    "# Dataframe\n",
    "dataframe = df[column].notna()\n",
    "\n",
    "# For loop to find role in column and extract it as category\n",
    "for category, category_lst in search_dict.items():\n",
    "    for role in category_lst:\n",
    "        for index in dataframe.index:\n",
    "            item = df.loc[index, column]\n",
    "            if item:\n",
    "                if role in item:\n",
    "                    df.loc[index, category] = 1\n",
    "                    df.loc[index, column] = item.replace(role, '').strip()\n",
    "\n",
    "# Updating num_categories\n",
    "df[\"num_categories\"] = df[known_for_dict.keys()].sum(axis=1)\n",
    "\n",
    "# Checking a sample of rows\n",
    "df[df['academia_humanities'] ==1].sample(2)"
   ]
  },
  {
   "cell_type": "markdown",
   "id": "cedd72dd",
   "metadata": {},
   "source": [
    "#### Checking the Number of Rows without a First Category"
   ]
  },
  {
   "cell_type": "code",
   "execution_count": 46,
   "id": "6aca20cf",
   "metadata": {},
   "outputs": [
    {
     "name": "stdout",
     "output_type": "stream",
     "text": [
      "There are 31260 entries without any known_for category.\n"
     ]
    },
    {
     "data": {
      "application/javascript": [
       "\n",
       "            setTimeout(function() {\n",
       "                var nbb_cell_id = 46;\n",
       "                var nbb_unformatted_code = \"# Checking the number of rows without a first category\\nprint(\\n    f'There are {len(df[df[\\\"num_categories\\\"]==0])} entries without any known_for category.'\\n)\";\n",
       "                var nbb_formatted_code = \"# Checking the number of rows without a first category\\nprint(\\n    f'There are {len(df[df[\\\"num_categories\\\"]==0])} entries without any known_for category.'\\n)\";\n",
       "                var nbb_cells = Jupyter.notebook.get_cells();\n",
       "                for (var i = 0; i < nbb_cells.length; ++i) {\n",
       "                    if (nbb_cells[i].input_prompt_number == nbb_cell_id) {\n",
       "                        if (nbb_cells[i].get_text() == nbb_unformatted_code) {\n",
       "                             nbb_cells[i].set_text(nbb_formatted_code);\n",
       "                        }\n",
       "                        break;\n",
       "                    }\n",
       "                }\n",
       "            }, 500);\n",
       "            "
      ],
      "text/plain": [
       "<IPython.core.display.Javascript object>"
      ]
     },
     "metadata": {},
     "output_type": "display_data"
    }
   ],
   "source": [
    "# Checking the number of rows without a first category\n",
    "print(\n",
    "    f'There are {len(df[df[\"num_categories\"]==0])} entries without any known_for category.'\n",
    ")"
   ]
  },
  {
   "cell_type": "markdown",
   "id": "7292df92",
   "metadata": {},
   "source": [
    "#### Observations:\n",
    "- We will proceed to rebuild `known_for_dict` for the next iteration."
   ]
  },
  {
   "cell_type": "markdown",
   "id": "c20121a9",
   "metadata": {},
   "source": [
    "#### Finding `known_for` Roles in `info_2`"
   ]
  },
  {
   "cell_type": "code",
   "execution_count": 47,
   "id": "618b2cc7",
   "metadata": {},
   "outputs": [
    {
     "data": {
      "application/javascript": [
       "\n",
       "            setTimeout(function() {\n",
       "                var nbb_cell_id = 47;\n",
       "                var nbb_unformatted_code = \"# # Obtaining values for column and their counts\\n# roles_list = df[\\\"info_2\\\"].value_counts(ascending=True).index.tolist()\";\n",
       "                var nbb_formatted_code = \"# # Obtaining values for column and their counts\\n# roles_list = df[\\\"info_2\\\"].value_counts(ascending=True).index.tolist()\";\n",
       "                var nbb_cells = Jupyter.notebook.get_cells();\n",
       "                for (var i = 0; i < nbb_cells.length; ++i) {\n",
       "                    if (nbb_cells[i].input_prompt_number == nbb_cell_id) {\n",
       "                        if (nbb_cells[i].get_text() == nbb_unformatted_code) {\n",
       "                             nbb_cells[i].set_text(nbb_formatted_code);\n",
       "                        }\n",
       "                        break;\n",
       "                    }\n",
       "                }\n",
       "            }, 500);\n",
       "            "
      ],
      "text/plain": [
       "<IPython.core.display.Javascript object>"
      ]
     },
     "metadata": {},
     "output_type": "display_data"
    }
   ],
   "source": [
    "# # Obtaining values for column and their counts\n",
    "# roles_list = df[\"info_2\"].value_counts(ascending=True).index.tolist()"
   ]
  },
  {
   "cell_type": "code",
   "execution_count": 48,
   "id": "4f4c38c8",
   "metadata": {},
   "outputs": [
    {
     "data": {
      "application/javascript": [
       "\n",
       "            setTimeout(function() {\n",
       "                var nbb_cell_id = 48;\n",
       "                var nbb_unformatted_code = \"# # Code to check each value\\n# roles_list.pop()\";\n",
       "                var nbb_formatted_code = \"# # Code to check each value\\n# roles_list.pop()\";\n",
       "                var nbb_cells = Jupyter.notebook.get_cells();\n",
       "                for (var i = 0; i < nbb_cells.length; ++i) {\n",
       "                    if (nbb_cells[i].input_prompt_number == nbb_cell_id) {\n",
       "                        if (nbb_cells[i].get_text() == nbb_unformatted_code) {\n",
       "                             nbb_cells[i].set_text(nbb_formatted_code);\n",
       "                        }\n",
       "                        break;\n",
       "                    }\n",
       "                }\n",
       "            }, 500);\n",
       "            "
      ],
      "text/plain": [
       "<IPython.core.display.Javascript object>"
      ]
     },
     "metadata": {},
     "output_type": "display_data"
    }
   ],
   "source": [
    "# # Code to check each value\n",
    "# roles_list.pop()"
   ]
  },
  {
   "cell_type": "code",
   "execution_count": 49,
   "id": "e8b95a6b",
   "metadata": {},
   "outputs": [
    {
     "data": {
      "application/javascript": [
       "\n",
       "            setTimeout(function() {\n",
       "                var nbb_cell_id = 49;\n",
       "                var nbb_unformatted_code = \"# # Create specific_roles_list for above popped value\\n# specific_roles_list = (\\n#     df.loc[\\n#         [index for index in df.index if \\\"racing driver\\\" in df.loc[index, \\\"info\\\"]],\\n#         \\\"info_2\\\",\\n#     ]\\n#     .value_counts()\\n#     .index.tolist()\\n# )\";\n",
       "                var nbb_formatted_code = \"# # Create specific_roles_list for above popped value\\n# specific_roles_list = (\\n#     df.loc[\\n#         [index for index in df.index if \\\"racing driver\\\" in df.loc[index, \\\"info\\\"]],\\n#         \\\"info_2\\\",\\n#     ]\\n#     .value_counts()\\n#     .index.tolist()\\n# )\";\n",
       "                var nbb_cells = Jupyter.notebook.get_cells();\n",
       "                for (var i = 0; i < nbb_cells.length; ++i) {\n",
       "                    if (nbb_cells[i].input_prompt_number == nbb_cell_id) {\n",
       "                        if (nbb_cells[i].get_text() == nbb_unformatted_code) {\n",
       "                             nbb_cells[i].set_text(nbb_formatted_code);\n",
       "                        }\n",
       "                        break;\n",
       "                    }\n",
       "                }\n",
       "            }, 500);\n",
       "            "
      ],
      "text/plain": [
       "<IPython.core.display.Javascript object>"
      ]
     },
     "metadata": {},
     "output_type": "display_data"
    }
   ],
   "source": [
    "# # Create specific_roles_list for above popped value\n",
    "# specific_roles_list = (\n",
    "#     df.loc[\n",
    "#         [index for index in df.index if \"racing driver\" in df.loc[index, \"info\"]],\n",
    "#         \"info_2\",\n",
    "#     ]\n",
    "#     .value_counts()\n",
    "#     .index.tolist()\n",
    "# )"
   ]
  },
  {
   "cell_type": "code",
   "execution_count": 50,
   "id": "fde9cf7b",
   "metadata": {},
   "outputs": [
    {
     "data": {
      "application/javascript": [
       "\n",
       "            setTimeout(function() {\n",
       "                var nbb_cell_id = 50;\n",
       "                var nbb_unformatted_code = \"# # Code to check each specific value\\n# specific_roles_list.pop()\";\n",
       "                var nbb_formatted_code = \"# # Code to check each specific value\\n# specific_roles_list.pop()\";\n",
       "                var nbb_cells = Jupyter.notebook.get_cells();\n",
       "                for (var i = 0; i < nbb_cells.length; ++i) {\n",
       "                    if (nbb_cells[i].input_prompt_number == nbb_cell_id) {\n",
       "                        if (nbb_cells[i].get_text() == nbb_unformatted_code) {\n",
       "                             nbb_cells[i].set_text(nbb_formatted_code);\n",
       "                        }\n",
       "                        break;\n",
       "                    }\n",
       "                }\n",
       "            }, 500);\n",
       "            "
      ],
      "text/plain": [
       "<IPython.core.display.Javascript object>"
      ]
     },
     "metadata": {},
     "output_type": "display_data"
    }
   ],
   "source": [
    "# # Code to check each specific value\n",
    "# specific_roles_list.pop()"
   ]
  },
  {
   "cell_type": "code",
   "execution_count": 51,
   "id": "42661620",
   "metadata": {},
   "outputs": [
    {
     "data": {
      "application/javascript": [
       "\n",
       "            setTimeout(function() {\n",
       "                var nbb_cell_id = 51;\n",
       "                var nbb_unformatted_code = \"# # Example code to quick-check a specific entry\\n# df[df[\\\"info_2\\\"] == \\\"racing driver and executive coach\\\"]\";\n",
       "                var nbb_formatted_code = \"# # Example code to quick-check a specific entry\\n# df[df[\\\"info_2\\\"] == \\\"racing driver and executive coach\\\"]\";\n",
       "                var nbb_cells = Jupyter.notebook.get_cells();\n",
       "                for (var i = 0; i < nbb_cells.length; ++i) {\n",
       "                    if (nbb_cells[i].input_prompt_number == nbb_cell_id) {\n",
       "                        if (nbb_cells[i].get_text() == nbb_unformatted_code) {\n",
       "                             nbb_cells[i].set_text(nbb_formatted_code);\n",
       "                        }\n",
       "                        break;\n",
       "                    }\n",
       "                }\n",
       "            }, 500);\n",
       "            "
      ],
      "text/plain": [
       "<IPython.core.display.Javascript object>"
      ]
     },
     "metadata": {},
     "output_type": "display_data"
    }
   ],
   "source": [
    "# # Example code to quick-check a specific entry\n",
    "# df[df[\"info_2\"] == \"racing driver and executive coach\"]"
   ]
  },
  {
   "cell_type": "code",
   "execution_count": 52,
   "id": "395227eb",
   "metadata": {},
   "outputs": [
    {
     "data": {
      "application/javascript": [
       "\n",
       "            setTimeout(function() {\n",
       "                var nbb_cell_id = 52;\n",
       "                var nbb_unformatted_code = \"# Hard-coding cause_of_death for entry with value in info_2\\nindex = df[df[\\\"link\\\"] == \\\"https://en.wikipedia.org/wiki/Roy_Barraclough\\\"].index\\ndf.loc[index, \\\"cause_of_death\\\"] = \\\"short illness\\\"\\n\\n# Hard-coding engineer for entry for correct categorization\\nindex = df[df[\\\"link\\\"] == \\\"https://en.wikipedia.org/wiki/Archie_Butterworth\\\"].index\\ndf.loc[index, \\\"info_3\\\"] = \\\"engineer\\\"\";\n",
       "                var nbb_formatted_code = \"# Hard-coding cause_of_death for entry with value in info_2\\nindex = df[df[\\\"link\\\"] == \\\"https://en.wikipedia.org/wiki/Roy_Barraclough\\\"].index\\ndf.loc[index, \\\"cause_of_death\\\"] = \\\"short illness\\\"\\n\\n# Hard-coding engineer for entry for correct categorization\\nindex = df[df[\\\"link\\\"] == \\\"https://en.wikipedia.org/wiki/Archie_Butterworth\\\"].index\\ndf.loc[index, \\\"info_3\\\"] = \\\"engineer\\\"\";\n",
       "                var nbb_cells = Jupyter.notebook.get_cells();\n",
       "                for (var i = 0; i < nbb_cells.length; ++i) {\n",
       "                    if (nbb_cells[i].input_prompt_number == nbb_cell_id) {\n",
       "                        if (nbb_cells[i].get_text() == nbb_unformatted_code) {\n",
       "                             nbb_cells[i].set_text(nbb_formatted_code);\n",
       "                        }\n",
       "                        break;\n",
       "                    }\n",
       "                }\n",
       "            }, 500);\n",
       "            "
      ],
      "text/plain": [
       "<IPython.core.display.Javascript object>"
      ]
     },
     "metadata": {},
     "output_type": "display_data"
    }
   ],
   "source": [
    "# Hard-coding cause_of_death for entry with value in info_2\n",
    "index = df[df[\"link\"] == \"https://en.wikipedia.org/wiki/Roy_Barraclough\"].index\n",
    "df.loc[index, \"cause_of_death\"] = \"short illness\"\n",
    "\n",
    "# Hard-coding engineer for entry for correct categorization\n",
    "index = df[df[\"link\"] == \"https://en.wikipedia.org/wiki/Archie_Butterworth\"].index\n",
    "df.loc[index, \"info_3\"] = \"engineer\""
   ]
  },
  {
   "cell_type": "markdown",
   "id": "36f744db",
   "metadata": {},
   "source": [
    "#### Creating Lists for Each `known_for` Category"
   ]
  },
  {
   "cell_type": "code",
   "execution_count": 53,
   "id": "7dcd9410",
   "metadata": {},
   "outputs": [
    {
     "data": {
      "application/javascript": [
       "\n",
       "            setTimeout(function() {\n",
       "                var nbb_cell_id = 53;\n",
       "                var nbb_unformatted_code = \"# Creating lists for each category\\npolitics_govt_law = []\\n\\narts = [\\n    'comedian dubbed \\\"Uncle Miltie\\\" and \\\"Mr Television\\\"',\\n    \\\"Grammy winning comedian and JFK impersonator\\\",\\n    \\\"comedian and reality television contestant\\\",\\n    \\\"comedian and classical music satirist\\\",\\n    \\\"comedian and television personality\\\",\\n    \\\"comedian and television presenter\\\",\\n    \\\"music hall performer and comedian\\\",\\n    \\\"television producer and comedian\\\",\\n    \\\"theater director and comedian\\\",\\n    \\\"comedian respiratory problems\\\",\\n    \\\"radio presenter and comedian\\\",\\n    \\\"television host and comedian\\\",\\n    \\\"comedian and television host\\\",\\n    \\\"Oneida Mohawk Cree comedian\\\",\\n    \\\"comedian and opera director\\\",\\n    \\\"comedian and game show host\\\",\\n    \\\"comedian and impressionist\\\",\\n    \\\"ventriloquist and comedian\\\",\\n    \\\"TV celebrity and comedian\\\",\\n    \\\"comedian and entertainer\\\",\\n    \\\"entertainer and comedian\\\",\\n    \\\"broadcaster and comedian\\\",\\n    \\\"improvisational comedian\\\",\\n    \\\"Wiere Brothers comedian\\\",\\n    \\\"comedian and radio host\\\",\\n    \\\"comedian and satirist\\\",\\n    \\\"Borscht Belt comedian\\\",\\n    \\\"comedian and pianist\\\",\\n    \\\"ice skating comedian\\\",\\n    \\\"comedian and dancer\\\",\\n    \\\"xiangsheng comedian\\\",\\n    \\\"East comedian\\\",\\n    \\\"film comedian\\\",\\n    \\\"and comedian\\\",\\n    \\\"comedian and\\\",\\n    \\\"comedian\\\",\\n]\\nsports = [\\n    \\\"racing driver and last living participant in the first F World Championship race\\\",\\n    \\\"Grand Prix motorcycle road racer and racing driver\\\",\\n    \\\"former Grand Prix racing driver and constructor\\\",\\n    \\\"racing driver and Formula One team principal\\\",\\n    \\\"racing driver and motorsport administrator\\\",\\n    \\\"Hall of Fame racing driver and instructor\\\",\\n    \\\"record setting harness racing driver\\\",\\n    \\\"motor racing driver and team leader\\\",\\n    \\\"racing driver and racing team owner\\\",\\n    \\\"Hall of Fame harness racing driver\\\",\\n    \\\"racing driver and car constructor\\\",\\n    \\\"racing driver and team manager\\\",\\n    \\\"racing driver and rally driver\\\",\\n    \\\"racing driver and instructor\\\",\\n    \\\"racing driver and team owner\\\",\\n    \\\"Hall of Fame racing driver\\\",\\n    \\\"racing driver and designer\\\",\\n    \\\"Indianapolis racing driver\\\",\\n    \\\"professional racing driver\\\",\\n    \\\"and amateur racing driver\\\",\\n    \\\"Formula One racing driver\\\",\\n    \\\"Grand Prix racing driver\\\",\\n    \\\"open wheel racing driver\\\",\\n    \\\"sprint car racing driver\\\",\\n    \\\"stock car racing driver\\\",\\n    \\\"off road racing driver\\\",\\n    \\\"racing driver champion\\\",\\n    \\\"amateur racing driver\\\",\\n    \\\"motor racing driver\\\",\\n    \\\"auto racing driver\\\",\\n    \\\"drag racing driver\\\",\\n    \\\"VLN racing driver\\\",\\n    \\\"racing driver and\\\",\\n    \\\"and racing driver\\\",\\n    \\\"racing driver\\\",\\n]\\nsciences = []\\n\\nbusiness_farming = []\\nacademia_humanities = []\\nlaw_enf_military_operator = []\\nspiritual = []\\nsocial = []\\ncrime = []\\nevent_record_other = []\\nother_species = []\";\n",
       "                var nbb_formatted_code = \"# Creating lists for each category\\npolitics_govt_law = []\\n\\narts = [\\n    'comedian dubbed \\\"Uncle Miltie\\\" and \\\"Mr Television\\\"',\\n    \\\"Grammy winning comedian and JFK impersonator\\\",\\n    \\\"comedian and reality television contestant\\\",\\n    \\\"comedian and classical music satirist\\\",\\n    \\\"comedian and television personality\\\",\\n    \\\"comedian and television presenter\\\",\\n    \\\"music hall performer and comedian\\\",\\n    \\\"television producer and comedian\\\",\\n    \\\"theater director and comedian\\\",\\n    \\\"comedian respiratory problems\\\",\\n    \\\"radio presenter and comedian\\\",\\n    \\\"television host and comedian\\\",\\n    \\\"comedian and television host\\\",\\n    \\\"Oneida Mohawk Cree comedian\\\",\\n    \\\"comedian and opera director\\\",\\n    \\\"comedian and game show host\\\",\\n    \\\"comedian and impressionist\\\",\\n    \\\"ventriloquist and comedian\\\",\\n    \\\"TV celebrity and comedian\\\",\\n    \\\"comedian and entertainer\\\",\\n    \\\"entertainer and comedian\\\",\\n    \\\"broadcaster and comedian\\\",\\n    \\\"improvisational comedian\\\",\\n    \\\"Wiere Brothers comedian\\\",\\n    \\\"comedian and radio host\\\",\\n    \\\"comedian and satirist\\\",\\n    \\\"Borscht Belt comedian\\\",\\n    \\\"comedian and pianist\\\",\\n    \\\"ice skating comedian\\\",\\n    \\\"comedian and dancer\\\",\\n    \\\"xiangsheng comedian\\\",\\n    \\\"East comedian\\\",\\n    \\\"film comedian\\\",\\n    \\\"and comedian\\\",\\n    \\\"comedian and\\\",\\n    \\\"comedian\\\",\\n]\\nsports = [\\n    \\\"racing driver and last living participant in the first F World Championship race\\\",\\n    \\\"Grand Prix motorcycle road racer and racing driver\\\",\\n    \\\"former Grand Prix racing driver and constructor\\\",\\n    \\\"racing driver and Formula One team principal\\\",\\n    \\\"racing driver and motorsport administrator\\\",\\n    \\\"Hall of Fame racing driver and instructor\\\",\\n    \\\"record setting harness racing driver\\\",\\n    \\\"motor racing driver and team leader\\\",\\n    \\\"racing driver and racing team owner\\\",\\n    \\\"Hall of Fame harness racing driver\\\",\\n    \\\"racing driver and car constructor\\\",\\n    \\\"racing driver and team manager\\\",\\n    \\\"racing driver and rally driver\\\",\\n    \\\"racing driver and instructor\\\",\\n    \\\"racing driver and team owner\\\",\\n    \\\"Hall of Fame racing driver\\\",\\n    \\\"racing driver and designer\\\",\\n    \\\"Indianapolis racing driver\\\",\\n    \\\"professional racing driver\\\",\\n    \\\"and amateur racing driver\\\",\\n    \\\"Formula One racing driver\\\",\\n    \\\"Grand Prix racing driver\\\",\\n    \\\"open wheel racing driver\\\",\\n    \\\"sprint car racing driver\\\",\\n    \\\"stock car racing driver\\\",\\n    \\\"off road racing driver\\\",\\n    \\\"racing driver champion\\\",\\n    \\\"amateur racing driver\\\",\\n    \\\"motor racing driver\\\",\\n    \\\"auto racing driver\\\",\\n    \\\"drag racing driver\\\",\\n    \\\"VLN racing driver\\\",\\n    \\\"racing driver and\\\",\\n    \\\"and racing driver\\\",\\n    \\\"racing driver\\\",\\n]\\nsciences = []\\n\\nbusiness_farming = []\\nacademia_humanities = []\\nlaw_enf_military_operator = []\\nspiritual = []\\nsocial = []\\ncrime = []\\nevent_record_other = []\\nother_species = []\";\n",
       "                var nbb_cells = Jupyter.notebook.get_cells();\n",
       "                for (var i = 0; i < nbb_cells.length; ++i) {\n",
       "                    if (nbb_cells[i].input_prompt_number == nbb_cell_id) {\n",
       "                        if (nbb_cells[i].get_text() == nbb_unformatted_code) {\n",
       "                             nbb_cells[i].set_text(nbb_formatted_code);\n",
       "                        }\n",
       "                        break;\n",
       "                    }\n",
       "                }\n",
       "            }, 500);\n",
       "            "
      ],
      "text/plain": [
       "<IPython.core.display.Javascript object>"
      ]
     },
     "metadata": {},
     "output_type": "display_data"
    }
   ],
   "source": [
    "# Creating lists for each category\n",
    "politics_govt_law = []\n",
    "\n",
    "arts = [\n",
    "    'comedian dubbed \"Uncle Miltie\" and \"Mr Television\"',\n",
    "    \"Grammy winning comedian and JFK impersonator\",\n",
    "    \"comedian and reality television contestant\",\n",
    "    \"comedian and classical music satirist\",\n",
    "    \"comedian and television personality\",\n",
    "    \"comedian and television presenter\",\n",
    "    \"music hall performer and comedian\",\n",
    "    \"television producer and comedian\",\n",
    "    \"theater director and comedian\",\n",
    "    \"comedian respiratory problems\",\n",
    "    \"radio presenter and comedian\",\n",
    "    \"television host and comedian\",\n",
    "    \"comedian and television host\",\n",
    "    \"Oneida Mohawk Cree comedian\",\n",
    "    \"comedian and opera director\",\n",
    "    \"comedian and game show host\",\n",
    "    \"comedian and impressionist\",\n",
    "    \"ventriloquist and comedian\",\n",
    "    \"TV celebrity and comedian\",\n",
    "    \"comedian and entertainer\",\n",
    "    \"entertainer and comedian\",\n",
    "    \"broadcaster and comedian\",\n",
    "    \"improvisational comedian\",\n",
    "    \"Wiere Brothers comedian\",\n",
    "    \"comedian and radio host\",\n",
    "    \"comedian and satirist\",\n",
    "    \"Borscht Belt comedian\",\n",
    "    \"comedian and pianist\",\n",
    "    \"ice skating comedian\",\n",
    "    \"comedian and dancer\",\n",
    "    \"xiangsheng comedian\",\n",
    "    \"East comedian\",\n",
    "    \"film comedian\",\n",
    "    \"and comedian\",\n",
    "    \"comedian and\",\n",
    "    \"comedian\",\n",
    "]\n",
    "sports = [\n",
    "    \"racing driver and last living participant in the first F World Championship race\",\n",
    "    \"Grand Prix motorcycle road racer and racing driver\",\n",
    "    \"former Grand Prix racing driver and constructor\",\n",
    "    \"racing driver and Formula One team principal\",\n",
    "    \"racing driver and motorsport administrator\",\n",
    "    \"Hall of Fame racing driver and instructor\",\n",
    "    \"record setting harness racing driver\",\n",
    "    \"motor racing driver and team leader\",\n",
    "    \"racing driver and racing team owner\",\n",
    "    \"Hall of Fame harness racing driver\",\n",
    "    \"racing driver and car constructor\",\n",
    "    \"racing driver and team manager\",\n",
    "    \"racing driver and rally driver\",\n",
    "    \"racing driver and instructor\",\n",
    "    \"racing driver and team owner\",\n",
    "    \"Hall of Fame racing driver\",\n",
    "    \"racing driver and designer\",\n",
    "    \"Indianapolis racing driver\",\n",
    "    \"professional racing driver\",\n",
    "    \"and amateur racing driver\",\n",
    "    \"Formula One racing driver\",\n",
    "    \"Grand Prix racing driver\",\n",
    "    \"open wheel racing driver\",\n",
    "    \"sprint car racing driver\",\n",
    "    \"stock car racing driver\",\n",
    "    \"off road racing driver\",\n",
    "    \"racing driver champion\",\n",
    "    \"amateur racing driver\",\n",
    "    \"motor racing driver\",\n",
    "    \"auto racing driver\",\n",
    "    \"drag racing driver\",\n",
    "    \"VLN racing driver\",\n",
    "    \"racing driver and\",\n",
    "    \"and racing driver\",\n",
    "    \"racing driver\",\n",
    "]\n",
    "sciences = []\n",
    "\n",
    "business_farming = []\n",
    "academia_humanities = []\n",
    "law_enf_military_operator = []\n",
    "spiritual = []\n",
    "social = []\n",
    "crime = []\n",
    "event_record_other = []\n",
    "other_species = []"
   ]
  },
  {
   "cell_type": "markdown",
   "id": "c17f4dac",
   "metadata": {},
   "source": [
    "#### Creating `known_for_dict` Dictionary of Category Keys and Specific Role Lists of Values"
   ]
  },
  {
   "cell_type": "code",
   "execution_count": 54,
   "id": "208a2d93",
   "metadata": {},
   "outputs": [
    {
     "data": {
      "application/javascript": [
       "\n",
       "            setTimeout(function() {\n",
       "                var nbb_cell_id = 54;\n",
       "                var nbb_unformatted_code = \"# Combining separate lists into one dictionary\\nknown_for_dict = {\\n    \\\"social\\\": social,\\n    \\\"spiritual\\\": spiritual,\\n    \\\"academia_humanities\\\": academia_humanities,\\n    \\\"business_farming\\\": business_farming,\\n    \\\"sciences\\\": sciences,\\n    \\\"politics_govt_law\\\": politics_govt_law,\\n    \\\"law_enf_military_operator\\\": law_enf_military_operator,\\n    \\\"crime\\\": crime,\\n    \\\"event_record_other\\\": event_record_other,\\n    \\\"other_species\\\": other_species,\\n    \\\"arts\\\": arts,\\n    \\\"sports\\\": sports,\\n}\";\n",
       "                var nbb_formatted_code = \"# Combining separate lists into one dictionary\\nknown_for_dict = {\\n    \\\"social\\\": social,\\n    \\\"spiritual\\\": spiritual,\\n    \\\"academia_humanities\\\": academia_humanities,\\n    \\\"business_farming\\\": business_farming,\\n    \\\"sciences\\\": sciences,\\n    \\\"politics_govt_law\\\": politics_govt_law,\\n    \\\"law_enf_military_operator\\\": law_enf_military_operator,\\n    \\\"crime\\\": crime,\\n    \\\"event_record_other\\\": event_record_other,\\n    \\\"other_species\\\": other_species,\\n    \\\"arts\\\": arts,\\n    \\\"sports\\\": sports,\\n}\";\n",
       "                var nbb_cells = Jupyter.notebook.get_cells();\n",
       "                for (var i = 0; i < nbb_cells.length; ++i) {\n",
       "                    if (nbb_cells[i].input_prompt_number == nbb_cell_id) {\n",
       "                        if (nbb_cells[i].get_text() == nbb_unformatted_code) {\n",
       "                             nbb_cells[i].set_text(nbb_formatted_code);\n",
       "                        }\n",
       "                        break;\n",
       "                    }\n",
       "                }\n",
       "            }, 500);\n",
       "            "
      ],
      "text/plain": [
       "<IPython.core.display.Javascript object>"
      ]
     },
     "metadata": {},
     "output_type": "display_data"
    }
   ],
   "source": [
    "# Combining separate lists into one dictionary\n",
    "known_for_dict = {\n",
    "    \"social\": social,\n",
    "    \"spiritual\": spiritual,\n",
    "    \"academia_humanities\": academia_humanities,\n",
    "    \"business_farming\": business_farming,\n",
    "    \"sciences\": sciences,\n",
    "    \"politics_govt_law\": politics_govt_law,\n",
    "    \"law_enf_military_operator\": law_enf_military_operator,\n",
    "    \"crime\": crime,\n",
    "    \"event_record_other\": event_record_other,\n",
    "    \"other_species\": other_species,\n",
    "    \"arts\": arts,\n",
    "    \"sports\": sports,\n",
    "}"
   ]
  },
  {
   "cell_type": "markdown",
   "id": "503f61f3",
   "metadata": {},
   "source": [
    "#### Extracting Category from `info_2`"
   ]
  },
  {
   "cell_type": "code",
   "execution_count": 55,
   "id": "f6d11677",
   "metadata": {},
   "outputs": [
    {
     "name": "stdout",
     "output_type": "stream",
     "text": [
      "CPU times: total: 37.8 s\n",
      "Wall time: 37.8 s\n"
     ]
    },
    {
     "data": {
      "text/html": [
       "<div>\n",
       "<style scoped>\n",
       "    .dataframe tbody tr th:only-of-type {\n",
       "        vertical-align: middle;\n",
       "    }\n",
       "\n",
       "    .dataframe tbody tr th {\n",
       "        vertical-align: top;\n",
       "    }\n",
       "\n",
       "    .dataframe thead th {\n",
       "        text-align: right;\n",
       "    }\n",
       "</style>\n",
       "<table border=\"1\" class=\"dataframe\">\n",
       "  <thead>\n",
       "    <tr style=\"text-align: right;\">\n",
       "      <th></th>\n",
       "      <th>day</th>\n",
       "      <th>name</th>\n",
       "      <th>info</th>\n",
       "      <th>link</th>\n",
       "      <th>num_references</th>\n",
       "      <th>year</th>\n",
       "      <th>month</th>\n",
       "      <th>info_parenth</th>\n",
       "      <th>info_1</th>\n",
       "      <th>info_2</th>\n",
       "      <th>info_3</th>\n",
       "      <th>info_4</th>\n",
       "      <th>info_5</th>\n",
       "      <th>info_6</th>\n",
       "      <th>info_7</th>\n",
       "      <th>info_8</th>\n",
       "      <th>info_9</th>\n",
       "      <th>info_10</th>\n",
       "      <th>info_11</th>\n",
       "      <th>age</th>\n",
       "      <th>cause_of_death</th>\n",
       "      <th>place_1</th>\n",
       "      <th>place_2</th>\n",
       "      <th>info_parenth_copy</th>\n",
       "      <th>log_num_references</th>\n",
       "      <th>sciences</th>\n",
       "      <th>social</th>\n",
       "      <th>spiritual</th>\n",
       "      <th>academia_humanities</th>\n",
       "      <th>business_farming</th>\n",
       "      <th>arts</th>\n",
       "      <th>sports</th>\n",
       "      <th>law_enf_military_operator</th>\n",
       "      <th>politics_govt_law</th>\n",
       "      <th>crime</th>\n",
       "      <th>event_record_other</th>\n",
       "      <th>other_species</th>\n",
       "      <th>num_categories</th>\n",
       "    </tr>\n",
       "  </thead>\n",
       "  <tbody>\n",
       "    <tr>\n",
       "      <th>92789</th>\n",
       "      <td>17</td>\n",
       "      <td>Roger Brown</td>\n",
       "      <td>, 84, American Hall of Fame football player .</td>\n",
       "      <td>https://en.wikipedia.org/wiki/Roger_Brown_(defensive_tackle)</td>\n",
       "      <td>4</td>\n",
       "      <td>2021</td>\n",
       "      <td>September</td>\n",
       "      <td>Maryland State Hawks, Detroit Lions, Rams</td>\n",
       "      <td>None</td>\n",
       "      <td></td>\n",
       "      <td>None</td>\n",
       "      <td>None</td>\n",
       "      <td>None</td>\n",
       "      <td>None</td>\n",
       "      <td>None</td>\n",
       "      <td>None</td>\n",
       "      <td>None</td>\n",
       "      <td>None</td>\n",
       "      <td>None</td>\n",
       "      <td>84.0</td>\n",
       "      <td>None</td>\n",
       "      <td>United States of America</td>\n",
       "      <td>None</td>\n",
       "      <td>Maryland State Hawks, Detroit Lions, Los Angeles Rams</td>\n",
       "      <td>1.609438</td>\n",
       "      <td>0</td>\n",
       "      <td>0</td>\n",
       "      <td>0</td>\n",
       "      <td>0</td>\n",
       "      <td>0</td>\n",
       "      <td>0</td>\n",
       "      <td>1</td>\n",
       "      <td>0</td>\n",
       "      <td>0</td>\n",
       "      <td>0</td>\n",
       "      <td>0</td>\n",
       "      <td>0</td>\n",
       "      <td>1</td>\n",
       "    </tr>\n",
       "    <tr>\n",
       "      <th>59538</th>\n",
       "      <td>11</td>\n",
       "      <td>Leon Donohue</td>\n",
       "      <td>, 77, American football player .</td>\n",
       "      <td>https://en.wikipedia.org/wiki/Leon_Donohue</td>\n",
       "      <td>4</td>\n",
       "      <td>2016</td>\n",
       "      <td>August</td>\n",
       "      <td>San Francisco ers, Dallas Cowboys</td>\n",
       "      <td>None</td>\n",
       "      <td></td>\n",
       "      <td>None</td>\n",
       "      <td>None</td>\n",
       "      <td>None</td>\n",
       "      <td>None</td>\n",
       "      <td>None</td>\n",
       "      <td>None</td>\n",
       "      <td>None</td>\n",
       "      <td>None</td>\n",
       "      <td>None</td>\n",
       "      <td>77.0</td>\n",
       "      <td>None</td>\n",
       "      <td>United States of America</td>\n",
       "      <td>None</td>\n",
       "      <td>San Francisco 49ers, Dallas Cowboys</td>\n",
       "      <td>1.609438</td>\n",
       "      <td>0</td>\n",
       "      <td>0</td>\n",
       "      <td>0</td>\n",
       "      <td>0</td>\n",
       "      <td>0</td>\n",
       "      <td>0</td>\n",
       "      <td>1</td>\n",
       "      <td>0</td>\n",
       "      <td>0</td>\n",
       "      <td>0</td>\n",
       "      <td>0</td>\n",
       "      <td>0</td>\n",
       "      <td>1</td>\n",
       "    </tr>\n",
       "  </tbody>\n",
       "</table>\n",
       "</div>"
      ],
      "text/plain": [
       "      day          name                                           info  \\\n",
       "92789  17   Roger Brown  , 84, American Hall of Fame football player .   \n",
       "59538  11  Leon Donohue               , 77, American football player .   \n",
       "\n",
       "                                                               link  \\\n",
       "92789  https://en.wikipedia.org/wiki/Roger_Brown_(defensive_tackle)   \n",
       "59538                    https://en.wikipedia.org/wiki/Leon_Donohue   \n",
       "\n",
       "       num_references  year      month  \\\n",
       "92789               4  2021  September   \n",
       "59538               4  2016     August   \n",
       "\n",
       "                                    info_parenth info_1 info_2 info_3 info_4  \\\n",
       "92789  Maryland State Hawks, Detroit Lions, Rams   None          None   None   \n",
       "59538          San Francisco ers, Dallas Cowboys   None          None   None   \n",
       "\n",
       "      info_5 info_6 info_7 info_8 info_9 info_10 info_11   age cause_of_death  \\\n",
       "92789   None   None   None   None   None    None    None  84.0           None   \n",
       "59538   None   None   None   None   None    None    None  77.0           None   \n",
       "\n",
       "                        place_1 place_2  \\\n",
       "92789  United States of America    None   \n",
       "59538  United States of America    None   \n",
       "\n",
       "                                           info_parenth_copy  \\\n",
       "92789  Maryland State Hawks, Detroit Lions, Los Angeles Rams   \n",
       "59538                    San Francisco 49ers, Dallas Cowboys   \n",
       "\n",
       "       log_num_references  sciences  social  spiritual  academia_humanities  \\\n",
       "92789            1.609438         0       0          0                    0   \n",
       "59538            1.609438         0       0          0                    0   \n",
       "\n",
       "       business_farming  arts  sports  law_enf_military_operator  \\\n",
       "92789                 0     0       1                          0   \n",
       "59538                 0     0       1                          0   \n",
       "\n",
       "       politics_govt_law  crime  event_record_other  other_species  \\\n",
       "92789                  0      0                   0              0   \n",
       "59538                  0      0                   0              0   \n",
       "\n",
       "       num_categories  \n",
       "92789               1  \n",
       "59538               1  "
      ]
     },
     "execution_count": 55,
     "metadata": {},
     "output_type": "execute_result"
    },
    {
     "data": {
      "application/javascript": [
       "\n",
       "            setTimeout(function() {\n",
       "                var nbb_cell_id = 55;\n",
       "                var nbb_unformatted_code = \"%%time\\n\\n# Dictionary version\\nsearch_dict = known_for_dict\\n\\n# Column to check\\ncolumn = 'info_2'\\n\\n# Dataframe\\ndataframe = df[column].notna()\\n\\n# For loop to find role in column and extract it as category\\nfor category, category_lst in search_dict.items():\\n    for role in category_lst:\\n        for index in dataframe.index:\\n            item = df.loc[index, column]\\n            if item:\\n                if role in item:\\n                    df.loc[index, category] = 1\\n                    df.loc[index, column] = item.replace(role, '').strip()\\n\\n# Updating num_categories\\ndf[\\\"num_categories\\\"] = df[known_for_dict.keys()].sum(axis=1)\\n\\n# Checking a sample of rows\\ndf[df['sports'] ==1].sample(2)\";\n",
       "                var nbb_formatted_code = \"%%time\\n\\n# Dictionary version\\nsearch_dict = known_for_dict\\n\\n# Column to check\\ncolumn = 'info_2'\\n\\n# Dataframe\\ndataframe = df[column].notna()\\n\\n# For loop to find role in column and extract it as category\\nfor category, category_lst in search_dict.items():\\n    for role in category_lst:\\n        for index in dataframe.index:\\n            item = df.loc[index, column]\\n            if item:\\n                if role in item:\\n                    df.loc[index, category] = 1\\n                    df.loc[index, column] = item.replace(role, '').strip()\\n\\n# Updating num_categories\\ndf[\\\"num_categories\\\"] = df[known_for_dict.keys()].sum(axis=1)\\n\\n# Checking a sample of rows\\ndf[df['sports'] ==1].sample(2)\";\n",
       "                var nbb_cells = Jupyter.notebook.get_cells();\n",
       "                for (var i = 0; i < nbb_cells.length; ++i) {\n",
       "                    if (nbb_cells[i].input_prompt_number == nbb_cell_id) {\n",
       "                        if (nbb_cells[i].get_text() == nbb_unformatted_code) {\n",
       "                             nbb_cells[i].set_text(nbb_formatted_code);\n",
       "                        }\n",
       "                        break;\n",
       "                    }\n",
       "                }\n",
       "            }, 500);\n",
       "            "
      ],
      "text/plain": [
       "<IPython.core.display.Javascript object>"
      ]
     },
     "metadata": {},
     "output_type": "display_data"
    }
   ],
   "source": [
    "%%time\n",
    "\n",
    "# Dictionary version\n",
    "search_dict = known_for_dict\n",
    "\n",
    "# Column to check\n",
    "column = 'info_2'\n",
    "\n",
    "# Dataframe\n",
    "dataframe = df[column].notna()\n",
    "\n",
    "# For loop to find role in column and extract it as category\n",
    "for category, category_lst in search_dict.items():\n",
    "    for role in category_lst:\n",
    "        for index in dataframe.index:\n",
    "            item = df.loc[index, column]\n",
    "            if item:\n",
    "                if role in item:\n",
    "                    df.loc[index, category] = 1\n",
    "                    df.loc[index, column] = item.replace(role, '').strip()\n",
    "\n",
    "# Updating num_categories\n",
    "df[\"num_categories\"] = df[known_for_dict.keys()].sum(axis=1)\n",
    "\n",
    "# Checking a sample of rows\n",
    "df[df['sports'] ==1].sample(2)"
   ]
  },
  {
   "cell_type": "markdown",
   "id": "5853abbc",
   "metadata": {},
   "source": [
    "#### Checking the Number of Rows without a First Category"
   ]
  },
  {
   "cell_type": "code",
   "execution_count": 56,
   "id": "f12ea4ba",
   "metadata": {},
   "outputs": [
    {
     "name": "stdout",
     "output_type": "stream",
     "text": [
      "There are 30808 entries without any known_for category.\n"
     ]
    },
    {
     "data": {
      "application/javascript": [
       "\n",
       "            setTimeout(function() {\n",
       "                var nbb_cell_id = 56;\n",
       "                var nbb_unformatted_code = \"# Checking the number of rows without a first category\\nprint(\\n    f'There are {len(df[df[\\\"num_categories\\\"]==0])} entries without any known_for category.'\\n)\";\n",
       "                var nbb_formatted_code = \"# Checking the number of rows without a first category\\nprint(\\n    f'There are {len(df[df[\\\"num_categories\\\"]==0])} entries without any known_for category.'\\n)\";\n",
       "                var nbb_cells = Jupyter.notebook.get_cells();\n",
       "                for (var i = 0; i < nbb_cells.length; ++i) {\n",
       "                    if (nbb_cells[i].input_prompt_number == nbb_cell_id) {\n",
       "                        if (nbb_cells[i].get_text() == nbb_unformatted_code) {\n",
       "                             nbb_cells[i].set_text(nbb_formatted_code);\n",
       "                        }\n",
       "                        break;\n",
       "                    }\n",
       "                }\n",
       "            }, 500);\n",
       "            "
      ],
      "text/plain": [
       "<IPython.core.display.Javascript object>"
      ]
     },
     "metadata": {},
     "output_type": "display_data"
    }
   ],
   "source": [
    "# Checking the number of rows without a first category\n",
    "print(\n",
    "    f'There are {len(df[df[\"num_categories\"]==0])} entries without any known_for category.'\n",
    ")"
   ]
  },
  {
   "cell_type": "markdown",
   "id": "9364bdd7",
   "metadata": {},
   "source": [
    "#### Observations:\n",
    "- We will proceed to rebuild `known_for_dict` for the next iteration."
   ]
  },
  {
   "cell_type": "markdown",
   "id": "12af6140",
   "metadata": {},
   "source": [
    "#### Finding `known_for` Roles in `info_2`"
   ]
  },
  {
   "cell_type": "code",
   "execution_count": 57,
   "id": "c61e4afd",
   "metadata": {},
   "outputs": [
    {
     "data": {
      "application/javascript": [
       "\n",
       "            setTimeout(function() {\n",
       "                var nbb_cell_id = 57;\n",
       "                var nbb_unformatted_code = \"# # Obtaining values for column and their counts\\n# roles_list = df[\\\"info_2\\\"].value_counts(ascending=True).index.tolist()\";\n",
       "                var nbb_formatted_code = \"# # Obtaining values for column and their counts\\n# roles_list = df[\\\"info_2\\\"].value_counts(ascending=True).index.tolist()\";\n",
       "                var nbb_cells = Jupyter.notebook.get_cells();\n",
       "                for (var i = 0; i < nbb_cells.length; ++i) {\n",
       "                    if (nbb_cells[i].input_prompt_number == nbb_cell_id) {\n",
       "                        if (nbb_cells[i].get_text() == nbb_unformatted_code) {\n",
       "                             nbb_cells[i].set_text(nbb_formatted_code);\n",
       "                        }\n",
       "                        break;\n",
       "                    }\n",
       "                }\n",
       "            }, 500);\n",
       "            "
      ],
      "text/plain": [
       "<IPython.core.display.Javascript object>"
      ]
     },
     "metadata": {},
     "output_type": "display_data"
    }
   ],
   "source": [
    "# # Obtaining values for column and their counts\n",
    "# roles_list = df[\"info_2\"].value_counts(ascending=True).index.tolist()"
   ]
  },
  {
   "cell_type": "code",
   "execution_count": 58,
   "id": "45d894db",
   "metadata": {},
   "outputs": [
    {
     "data": {
      "application/javascript": [
       "\n",
       "            setTimeout(function() {\n",
       "                var nbb_cell_id = 58;\n",
       "                var nbb_unformatted_code = \"# # Code to check each value\\n# roles_list.pop()\";\n",
       "                var nbb_formatted_code = \"# # Code to check each value\\n# roles_list.pop()\";\n",
       "                var nbb_cells = Jupyter.notebook.get_cells();\n",
       "                for (var i = 0; i < nbb_cells.length; ++i) {\n",
       "                    if (nbb_cells[i].input_prompt_number == nbb_cell_id) {\n",
       "                        if (nbb_cells[i].get_text() == nbb_unformatted_code) {\n",
       "                             nbb_cells[i].set_text(nbb_formatted_code);\n",
       "                        }\n",
       "                        break;\n",
       "                    }\n",
       "                }\n",
       "            }, 500);\n",
       "            "
      ],
      "text/plain": [
       "<IPython.core.display.Javascript object>"
      ]
     },
     "metadata": {},
     "output_type": "display_data"
    }
   ],
   "source": [
    "# # Code to check each value\n",
    "# roles_list.pop()"
   ]
  },
  {
   "cell_type": "code",
   "execution_count": 59,
   "id": "818c1253",
   "metadata": {},
   "outputs": [
    {
     "data": {
      "application/javascript": [
       "\n",
       "            setTimeout(function() {\n",
       "                var nbb_cell_id = 59;\n",
       "                var nbb_unformatted_code = \"# # Create specific_roles_list for above popped value\\n# specific_roles_list = (\\n#     df.loc[\\n#         [\\n#             index\\n#             for index in df[df[\\\"info_2\\\"].notna()].index\\n#             if \\\"art\\\" in df.loc[index, \\\"info_2\\\"]\\n#         ],\\n#         \\\"info_2\\\",\\n#     ]\\n#     .value_counts()\\n#     .index.tolist()\\n# )\";\n",
       "                var nbb_formatted_code = \"# # Create specific_roles_list for above popped value\\n# specific_roles_list = (\\n#     df.loc[\\n#         [\\n#             index\\n#             for index in df[df[\\\"info_2\\\"].notna()].index\\n#             if \\\"art\\\" in df.loc[index, \\\"info_2\\\"]\\n#         ],\\n#         \\\"info_2\\\",\\n#     ]\\n#     .value_counts()\\n#     .index.tolist()\\n# )\";\n",
       "                var nbb_cells = Jupyter.notebook.get_cells();\n",
       "                for (var i = 0; i < nbb_cells.length; ++i) {\n",
       "                    if (nbb_cells[i].input_prompt_number == nbb_cell_id) {\n",
       "                        if (nbb_cells[i].get_text() == nbb_unformatted_code) {\n",
       "                             nbb_cells[i].set_text(nbb_formatted_code);\n",
       "                        }\n",
       "                        break;\n",
       "                    }\n",
       "                }\n",
       "            }, 500);\n",
       "            "
      ],
      "text/plain": [
       "<IPython.core.display.Javascript object>"
      ]
     },
     "metadata": {},
     "output_type": "display_data"
    }
   ],
   "source": [
    "# # Create specific_roles_list for above popped value\n",
    "# specific_roles_list = (\n",
    "#     df.loc[\n",
    "#         [\n",
    "#             index\n",
    "#             for index in df[df[\"info_2\"].notna()].index\n",
    "#             if \"art\" in df.loc[index, \"info_2\"]\n",
    "#         ],\n",
    "#         \"info_2\",\n",
    "#     ]\n",
    "#     .value_counts()\n",
    "#     .index.tolist()\n",
    "# )"
   ]
  },
  {
   "cell_type": "code",
   "execution_count": 60,
   "id": "9699df75",
   "metadata": {},
   "outputs": [
    {
     "data": {
      "application/javascript": [
       "\n",
       "            setTimeout(function() {\n",
       "                var nbb_cell_id = 60;\n",
       "                var nbb_unformatted_code = \"# # Code to check each specific value\\n# specific_roles_list.pop()\";\n",
       "                var nbb_formatted_code = \"# # Code to check each specific value\\n# specific_roles_list.pop()\";\n",
       "                var nbb_cells = Jupyter.notebook.get_cells();\n",
       "                for (var i = 0; i < nbb_cells.length; ++i) {\n",
       "                    if (nbb_cells[i].input_prompt_number == nbb_cell_id) {\n",
       "                        if (nbb_cells[i].get_text() == nbb_unformatted_code) {\n",
       "                             nbb_cells[i].set_text(nbb_formatted_code);\n",
       "                        }\n",
       "                        break;\n",
       "                    }\n",
       "                }\n",
       "            }, 500);\n",
       "            "
      ],
      "text/plain": [
       "<IPython.core.display.Javascript object>"
      ]
     },
     "metadata": {},
     "output_type": "display_data"
    }
   ],
   "source": [
    "# # Code to check each specific value\n",
    "# specific_roles_list.pop()"
   ]
  },
  {
   "cell_type": "code",
   "execution_count": 61,
   "id": "b9e3d5de",
   "metadata": {},
   "outputs": [
    {
     "data": {
      "application/javascript": [
       "\n",
       "            setTimeout(function() {\n",
       "                var nbb_cell_id = 61;\n",
       "                var nbb_unformatted_code = \"# # Example code to quick-screen values that may overlap categories\\n# df.loc[[index for index in df.index if \\\"martial\\\" in df.loc[index, \\\"info\\\"]]]\";\n",
       "                var nbb_formatted_code = \"# # Example code to quick-screen values that may overlap categories\\n# df.loc[[index for index in df.index if \\\"martial\\\" in df.loc[index, \\\"info\\\"]]]\";\n",
       "                var nbb_cells = Jupyter.notebook.get_cells();\n",
       "                for (var i = 0; i < nbb_cells.length; ++i) {\n",
       "                    if (nbb_cells[i].input_prompt_number == nbb_cell_id) {\n",
       "                        if (nbb_cells[i].get_text() == nbb_unformatted_code) {\n",
       "                             nbb_cells[i].set_text(nbb_formatted_code);\n",
       "                        }\n",
       "                        break;\n",
       "                    }\n",
       "                }\n",
       "            }, 500);\n",
       "            "
      ],
      "text/plain": [
       "<IPython.core.display.Javascript object>"
      ]
     },
     "metadata": {},
     "output_type": "display_data"
    }
   ],
   "source": [
    "# # Example code to quick-screen values that may overlap categories\n",
    "# df.loc[[index for index in df.index if \"martial\" in df.loc[index, \"info\"]]]"
   ]
  },
  {
   "cell_type": "code",
   "execution_count": 62,
   "id": "7f9d6080",
   "metadata": {},
   "outputs": [
    {
     "data": {
      "application/javascript": [
       "\n",
       "            setTimeout(function() {\n",
       "                var nbb_cell_id = 62;\n",
       "                var nbb_unformatted_code = \"# # Example code to quick-check a specific entry\\n# df[df[\\\"info_2\\\"] == \\\"art instructor\\\"]\";\n",
       "                var nbb_formatted_code = \"# # Example code to quick-check a specific entry\\n# df[df[\\\"info_2\\\"] == \\\"art instructor\\\"]\";\n",
       "                var nbb_cells = Jupyter.notebook.get_cells();\n",
       "                for (var i = 0; i < nbb_cells.length; ++i) {\n",
       "                    if (nbb_cells[i].input_prompt_number == nbb_cell_id) {\n",
       "                        if (nbb_cells[i].get_text() == nbb_unformatted_code) {\n",
       "                             nbb_cells[i].set_text(nbb_formatted_code);\n",
       "                        }\n",
       "                        break;\n",
       "                    }\n",
       "                }\n",
       "            }, 500);\n",
       "            "
      ],
      "text/plain": [
       "<IPython.core.display.Javascript object>"
      ]
     },
     "metadata": {},
     "output_type": "display_data"
    }
   ],
   "source": [
    "# # Example code to quick-check a specific entry\n",
    "# df[df[\"info_2\"] == \"art instructor\"]"
   ]
  },
  {
   "cell_type": "markdown",
   "id": "de06342f",
   "metadata": {},
   "source": [
    "#### Creating Lists for Each `known_for` Category"
   ]
  },
  {
   "cell_type": "code",
   "execution_count": 63,
   "id": "59463ca5",
   "metadata": {},
   "outputs": [
    {
     "data": {
      "application/javascript": [
       "\n",
       "            setTimeout(function() {\n",
       "                var nbb_cell_id = 63;\n",
       "                var nbb_unformatted_code = \"# Creating lists for each category\\npolitics_govt_law = [\\n    \\\"first female major party candidate to run for Governor of North Carolina\\\",\\n    \\\"Principal Speaker of Green Party of and and Oxford City Councillor\\\",\\n    \\\"who trained Martin Luther King Jr and other civil rights leaders\\\",\\n    \\\"chairman of the Communist Party of and International Brigades\\\",\\n    \\\"presidential candidate for the Alliance for Democracy party\\\",\\n    \\\"threatened by McCarthyism and championed by Edward R Murrow\\\",\\n    \\\"Democratic Party member of the House of Representatives\\\",\\n    \\\"labor leader and parliamentarian for the Peronist party\\\",  # before arts\\n    \\\"convert and partner of nationalist Subhas Chandra Bose\\\",\\n    \\\"assistant secretary of the Department of Commerce and\\\",\\n    \\\"trade unionist and member of the Communist Party of\\\",\\n    \\\"presidential candidate for the Libertarian Party\\\",\\n    \\\"leader of the Islamic Renaissance Party of istan\\\",\\n    \\\"labor leader and chairman of the Communist Party\\\",\\n    \\\"first female chair of Michigan Republican Party\\\",\\n    \\\"peer and proponent of the Hollow Earth concept\\\",\\n    \\\"Secretary of Treasury from under Jimmy Carter\\\",\\n    \\\"Party student leader and later a neo figure\\\",\\n    \\\"political leader of the Communist Party of\\\",\\n    \\\"Press Secretary for President Jimmy Carter\\\",\\n    \\\"and romantic partner to Princess Margaret\\\",\\n    \\\"leader of the Progressive Unionist Party\\\",\\n    \\\"Green Party member of the House of Lords\\\",\\n    \\\"leader of the Black Panther Party\\\",\\n    \\\"leader of Beijing Communist Party\\\",\\n    \\\"member of the Bonaparte dynasty\\\",\\n    \\\"and anti apartheid campaigner\\\",\\n    \\\"State Department official and\\\",\\n    \\\"Conservative Party chairman\\\",\\n    \\\"Black Panther Party member\\\",\\n    \\\"Republican party official\\\",\\n    \\\"Communist party secretary\\\",\\n    \\\"anti apartheid campaigner\\\",\\n    \\\"anti communist partisan\\\",\\n    \\\"revolutionary thinker\\\",\\n    \\\"Yukon Party Leader\\\",\\n    \\\"Labour Party MP\\\",\\n    \\\"Communist Party\\\",\\n    \\\"party official\\\",\\n    \\\"partisan and\\\",\\n    \\\"partisan\\\",\\n]\\n\\narts = [\\n    \\\"last living member of the Carter Family country music group\\\",\\n    \\\"former bass player for Tom Petty and the Heartbreakers\\\",\\n    \\\"violinist and founder of the Amadeus Quartet\\\",\\n    \\\"animator for Betty Boop and Superman cartoons\\\",\\n    \\\"daredevil and flat Earth conspiracy theorist\\\",\\n    \\\"art collector and friend of Pablo Picasso\\\",\\n    \\\"film art director and production designer\\\",\\n    \\\"film production designer and art director\\\",\\n    \\\"arts administrator and opera director\\\",\\n    \\\"television producer and art collector\\\",\\n    \\\"art dealer and wife of Marcel Duchamp\\\",\\n    \\\"abstract expressionist art collector\\\",\\n    \\\"production designer and art director\\\",\\n    \\\"art director and production designer\\\",\\n    \\\"music critic and arts administrator\\\",\\n    \\\"Academy Awards winning art director\\\",\\n    \\\"bassist for the Modern Jazz Quartet\\\",\\n    \\\"arts administrator and music critic\\\",\\n    \\\"fashion designer and art collector\\\",\\n    \\\"filmmaker and pioneer of video art\\\",\\n    \\\"film set designer and art director\\\",\\n    \\\"art director and costume designer\\\",\\n    \\\"graphic designer and art director\\\",\\n    \\\"art publisher and magazine editor\\\",\\n    \\\"costume designer and art director\\\",\\n    \\\"horticulturalist and arts patron\\\",\\n    \\\"art critic and opera librettist\\\",\\n    \\\"art collector and gallery owner\\\",\\n    \\\"art dealer and gallery director\\\",\\n    \\\"Yup'ik artisan and craftswoman\\\",\\n    \\\"reality television participant\\\",\\n    \\\"art director ; designer of the\\\",\\n    \\\"essayist and visual art critic\\\",\\n    \\\"who specialized in Coptic art\\\",\\n    \\\"art director and set designer\\\",\\n    \\\"set designer and art director\\\",\\n    \\\"M\\u0101ori performing arts leader\\\",\\n    \\\"performing arts producer and\\\",\\n    \\\"psychiatric patient and art\\\",\\n    \\\"advertiser and art director\\\",\\n    \\\"art critic and radio host\\\",\\n    \\\"art director and designer\\\",\\n    \\\"media executive and arts\\\",\\n    \\\"art collector and patron\\\",\\n    \\\"stylist and art director\\\",\\n    \\\"film fight choreographer\\\",\\n    \\\"international art dealer\\\",\\n    \\\"theatre director and art\\\",\\n    \\\"art  Picasso biographer\\\",\\n    \\\"art and antiques dealer\\\",\\n    \\\"advocate of Native arts\\\",\\n    \\\"art theatre personality\\\",\\n    \\\"literary editor and art\\\",\\n    \\\"of art and art history\\\",\\n    \\\"and patron of the arts\\\",\\n    \\\"heiress and art patron\\\",\\n    \\\"watercolorist and art\\\",\\n    \\\"art  gallery director\\\",\\n    \\\"artisanal cheesemaker\\\",\\n    \\\"supporter of the arts\\\",\\n    \\\"modern art collector\\\",\\n    \\\"fine arts collector\\\",\\n    \\\"born art dealer and\\\",\\n    \\\"Republic art critic\\\",\\n    \\\"film and art critic\\\",\\n    \\\"biographer and art\\\",\\n    \\\"art critic and art\\\",\\n    \\\"patron of the arts\\\",\\n    \\\"arts administrator\\\",\\n    \\\"art gallery owner\\\",\\n    \\\"art collector and\\\",\\n    \\\"and art collector\\\",\\n    \\\"and arts patron\\\",\\n    \\\"art  art critic\\\",\\n    \\\"arts campaigner\\\",\\n    \\\"and art critic\\\",\\n    \\\"indigenous art\\\",\\n    \\\"art critic and\\\",\\n    \\\"art patron and\\\",\\n    \\\"art dealer and\\\",\\n    \\\"arts executive\\\",\\n    \\\"art  collector\\\",\\n    \\\"arts advocate\\\",\\n    \\\"art gallerist\\\",\\n    \\\"art director\\\",\\n    \\\"art designer\\\",\\n    \\\"art heiress\\\",\\n    \\\"arts leader\\\",\\n    \\\"art dealer\\\",\\n    \\\"arts patron\\\",\\n    \\\"art critic\\\",\\n    \\\"art patron\\\",\\n    \\\"art expert\\\",\\n    \\\"bartender\\\",\\n    \\\"and arts\\\",\\n    \\\"of arts\\\",\\n    \\\"artisan\\\",\\n    \\\"arts\\\",\\n    \\\"and art\\\",\\n    \\\"art and\\\",\\n    \\\"art\\\",\\n]\\nsports = [\\n    \\\"baseball memorabilia collector and limited partner for the Yankees\\\",  # before arts\\n    \\\"quarterback for UCLA Bruins football and the Baltimore Colts\\\",\\n    \\\"mixed martial arts fighter and UFC middleweight champion\\\",\\n    \\\"NASCAR stock car driver and partial team owner\\\",\\n    \\\"Hall of Fame Quarter Horse equestrian\\\",\\n    \\\"Football League quarterback and coach\\\",\\n    \\\"wrestler; patriarch of Hart wrestling\\\",\\n    \\\"football quarterback and halfback\\\",\\n    \\\"part owner of the Atlanta Braves\\\",\\n    \\\"mixed martial arts competitor\\\",\\n    \\\"partially quadriplegic sailor\\\",\\n    \\\"mixed martial arts fighter\\\",\\n    \\\"mixed martial arts trainer\\\",\\n    \\\"Hall of Fame darts player\\\",\\n    \\\"mixed martial art fighter\\\",\\n    \\\"baseball team part owner\\\",\\n    \\\"football quarterback and\\\",\\n    \\\"martial arts grandmaster\\\",\\n    \\\"martial arts master and\\\",\\n    \\\"martial arts instructor\\\",\\n    \\\"sports team part owner\\\",\\n    \\\"and Rangers part owner\\\",\\n    \\\"football quarterback\\\",\\n    \\\"martial arts teacher\\\",\\n    \\\"martial arts master\\\",\\n    \\\"martial arts expert\\\",\\n    \\\"darts administrator\\\",\\n    \\\"woman darts player\\\",\\n    \\\"darts player\\\",\\n    \\\"martial arts\\\",\\n    \\\"martial\\\",\\n    \\\"darts\\\",\\n]\\nsciences = [\\n    \\\"cardiothoracic surgeon who refined John Gibbon heart lung bypass machine\\\",\\n    \\\"software designer and a pioneer in artificial intelligence and robotics\\\",\\n    \\\"geomorphologist and expert on the geology of Earth and Mars\\\",\\n    \\\"doctor and inventor of the Dodrill GMR heart machine\\\",\\n    \\\"independent researcher in artificial intelligence\\\",\\n    \\\"professor of geology and earthquake expert\\\",\\n    \\\"surgeon and open heart surgery pioneer\\\",\\n    \\\"researcher in artificial intelligence\\\",\\n    \\\"astronomer at Swarthmore College\\\",\\n    \\\"geographer and cartographer\\\",\\n    \\\"cartographer and geographer\\\",\\n    \\\"heart surgeon and inventor\\\",\\n    \\\"oceanographic cartographer\\\",  # before arts\\n    \\\"pioneering heart surgeon\\\",\\n    \\\"paediatric heart surgeon\\\",\\n    \\\"and cartographer\\\",\\n    \\\"cartographer and\\\",\\n    \\\"heart surgeon\\\",\\n    \\\"cartographer\\\",\\n]\\n\\nbusiness_farming = [\\n    \\\"businesswoman; chairperson of the Clerys department store\\\",\\n    \\\"billionaire department store and hotel owner\\\",\\n    \\\"and son of Wal Mart founder Sam Walton\\\",\\n    \\\"widow of Wal Mart founder Sam Walton\\\",\\n    \\\"transportation and parts executive\\\",\\n    \\\"industrial parts executive\\\",\\n    \\\"owner of Dart Drugs Chain\\\",  # before arts\\n    \\\"and chartered accountant\\\",\\n    \\\"auto parts executive\\\",\\n    \\\"chartered accountant\\\",\\n    \\\"CEO of Earthlink\\\",\\n]\\nacademia_humanities = [\\n    \\\"professor at George Mason University\\\",\\n    \\\"and professor of Asian art history\\\",  # before arts\\n    \\\"art conservator\\\",\\n]\\nlaw_enf_military_operator = [\\n    \\\"World War I soldier and the last surviving soldier to have taken part in the Christmas truce of\\\",\\n    \\\"Deputy Director of the Department of State Office of Security\\\",\\n    \\\"police commissioner of the Philadelphia Police Department\\\",\\n    \\\"Marine Corps sergeant and recipient of nine purple hearts\\\",  # before arts\\n    \\\"World War II Jewish partisan fighter and anti avenger\\\",\\n    \\\"leader of the Bielski partisans during World War II\\\",\\n    \\\"Secretary of the Navy in the Carter administration\\\",\\n    \\\"Wehrmacht artillery and General Staff officer\\\",\\n    \\\"Navy Chief Quartermaster and aquanaut\\\",\\n    \\\"and World War II partisan fighter\\\",\\n    \\\"partisan and liaison officer\\\",\\n    \\\"partisan during World War II\\\",\\n    \\\"Sparta Battalion commander\\\",\\n    \\\"World War II partisan and\\\",\\n    \\\"wartime firefighter\\\",\\n    \\\"wartime codebreaker\\\",\\n    \\\"and quartermaster\\\",\\n    \\\"wartime commander\\\",\\n    \\\"Jewish partisan\\\",\\n    \\\"wartime spy\\\",\\n    \\\"Partisan\\\",\\n    \\\"partisan\\\",\\n]\\nspiritual = [\\n    \\\"priest who participated in the exorcism on which was based\\\",\\n    \\\"Anglican priest and Dean of Hobart from to\\\",\\n    \\\"young earth creationist leader\\\",  # before arts\\n    \\\"young Earth creationist\\\",\\n    \\\"Young Earth creationist\\\",\\n    \\\"Carthusian monk\\\",\\n    \\\"flat earther\\\",\\n]\\nsocial = []\\ncrime = [\\n    \\\"suspected drug lord and high ranking leader of the Sinaloa Cartel\\\",\\n    \\\"convict and assassin of Martin Luther King Jr\\\",\\n    \\\"drug trafficker for the Sinaloa Cartel\\\",\\n    \\\"who assassinated official Wilhelm Kube\\\",\\n    \\\"narco and member of the Cali Cartel\\\",\\n    \\\"drug lord and Sinaloa Cartel leader\\\",\\n    \\\"reputed organized crime figure and\\\",\\n    \\\"member of the Detroit Partnership\\\",  # before arts\\n    \\\"part of Watergate scandal\\\",\\n    \\\"Neturei Karta rabbi and\\\",\\n    \\\"convicted art thief\\\",\\n    \\\"drug cartel leader\\\",\\n    \\\"cartel leader\\\",\\n]\\nevent_record_other = [\\n    \\\"heart and lung patient whose wrong transplant made headlines\\\",\\n    \\\"recipient of the first artificial heart transplant\\\",  # before arts\\n]\\nother_species = []\";\n",
       "                var nbb_formatted_code = \"# Creating lists for each category\\npolitics_govt_law = [\\n    \\\"first female major party candidate to run for Governor of North Carolina\\\",\\n    \\\"Principal Speaker of Green Party of and and Oxford City Councillor\\\",\\n    \\\"who trained Martin Luther King Jr and other civil rights leaders\\\",\\n    \\\"chairman of the Communist Party of and International Brigades\\\",\\n    \\\"presidential candidate for the Alliance for Democracy party\\\",\\n    \\\"threatened by McCarthyism and championed by Edward R Murrow\\\",\\n    \\\"Democratic Party member of the House of Representatives\\\",\\n    \\\"labor leader and parliamentarian for the Peronist party\\\",  # before arts\\n    \\\"convert and partner of nationalist Subhas Chandra Bose\\\",\\n    \\\"assistant secretary of the Department of Commerce and\\\",\\n    \\\"trade unionist and member of the Communist Party of\\\",\\n    \\\"presidential candidate for the Libertarian Party\\\",\\n    \\\"leader of the Islamic Renaissance Party of istan\\\",\\n    \\\"labor leader and chairman of the Communist Party\\\",\\n    \\\"first female chair of Michigan Republican Party\\\",\\n    \\\"peer and proponent of the Hollow Earth concept\\\",\\n    \\\"Secretary of Treasury from under Jimmy Carter\\\",\\n    \\\"Party student leader and later a neo figure\\\",\\n    \\\"political leader of the Communist Party of\\\",\\n    \\\"Press Secretary for President Jimmy Carter\\\",\\n    \\\"and romantic partner to Princess Margaret\\\",\\n    \\\"leader of the Progressive Unionist Party\\\",\\n    \\\"Green Party member of the House of Lords\\\",\\n    \\\"leader of the Black Panther Party\\\",\\n    \\\"leader of Beijing Communist Party\\\",\\n    \\\"member of the Bonaparte dynasty\\\",\\n    \\\"and anti apartheid campaigner\\\",\\n    \\\"State Department official and\\\",\\n    \\\"Conservative Party chairman\\\",\\n    \\\"Black Panther Party member\\\",\\n    \\\"Republican party official\\\",\\n    \\\"Communist party secretary\\\",\\n    \\\"anti apartheid campaigner\\\",\\n    \\\"anti communist partisan\\\",\\n    \\\"revolutionary thinker\\\",\\n    \\\"Yukon Party Leader\\\",\\n    \\\"Labour Party MP\\\",\\n    \\\"Communist Party\\\",\\n    \\\"party official\\\",\\n    \\\"partisan and\\\",\\n    \\\"partisan\\\",\\n]\\n\\narts = [\\n    \\\"last living member of the Carter Family country music group\\\",\\n    \\\"former bass player for Tom Petty and the Heartbreakers\\\",\\n    \\\"violinist and founder of the Amadeus Quartet\\\",\\n    \\\"animator for Betty Boop and Superman cartoons\\\",\\n    \\\"daredevil and flat Earth conspiracy theorist\\\",\\n    \\\"art collector and friend of Pablo Picasso\\\",\\n    \\\"film art director and production designer\\\",\\n    \\\"film production designer and art director\\\",\\n    \\\"arts administrator and opera director\\\",\\n    \\\"television producer and art collector\\\",\\n    \\\"art dealer and wife of Marcel Duchamp\\\",\\n    \\\"abstract expressionist art collector\\\",\\n    \\\"production designer and art director\\\",\\n    \\\"art director and production designer\\\",\\n    \\\"music critic and arts administrator\\\",\\n    \\\"Academy Awards winning art director\\\",\\n    \\\"bassist for the Modern Jazz Quartet\\\",\\n    \\\"arts administrator and music critic\\\",\\n    \\\"fashion designer and art collector\\\",\\n    \\\"filmmaker and pioneer of video art\\\",\\n    \\\"film set designer and art director\\\",\\n    \\\"art director and costume designer\\\",\\n    \\\"graphic designer and art director\\\",\\n    \\\"art publisher and magazine editor\\\",\\n    \\\"costume designer and art director\\\",\\n    \\\"horticulturalist and arts patron\\\",\\n    \\\"art critic and opera librettist\\\",\\n    \\\"art collector and gallery owner\\\",\\n    \\\"art dealer and gallery director\\\",\\n    \\\"Yup'ik artisan and craftswoman\\\",\\n    \\\"reality television participant\\\",\\n    \\\"art director ; designer of the\\\",\\n    \\\"essayist and visual art critic\\\",\\n    \\\"who specialized in Coptic art\\\",\\n    \\\"art director and set designer\\\",\\n    \\\"set designer and art director\\\",\\n    \\\"M\\u0101ori performing arts leader\\\",\\n    \\\"performing arts producer and\\\",\\n    \\\"psychiatric patient and art\\\",\\n    \\\"advertiser and art director\\\",\\n    \\\"art critic and radio host\\\",\\n    \\\"art director and designer\\\",\\n    \\\"media executive and arts\\\",\\n    \\\"art collector and patron\\\",\\n    \\\"stylist and art director\\\",\\n    \\\"film fight choreographer\\\",\\n    \\\"international art dealer\\\",\\n    \\\"theatre director and art\\\",\\n    \\\"art  Picasso biographer\\\",\\n    \\\"art and antiques dealer\\\",\\n    \\\"advocate of Native arts\\\",\\n    \\\"art theatre personality\\\",\\n    \\\"literary editor and art\\\",\\n    \\\"of art and art history\\\",\\n    \\\"and patron of the arts\\\",\\n    \\\"heiress and art patron\\\",\\n    \\\"watercolorist and art\\\",\\n    \\\"art  gallery director\\\",\\n    \\\"artisanal cheesemaker\\\",\\n    \\\"supporter of the arts\\\",\\n    \\\"modern art collector\\\",\\n    \\\"fine arts collector\\\",\\n    \\\"born art dealer and\\\",\\n    \\\"Republic art critic\\\",\\n    \\\"film and art critic\\\",\\n    \\\"biographer and art\\\",\\n    \\\"art critic and art\\\",\\n    \\\"patron of the arts\\\",\\n    \\\"arts administrator\\\",\\n    \\\"art gallery owner\\\",\\n    \\\"art collector and\\\",\\n    \\\"and art collector\\\",\\n    \\\"and arts patron\\\",\\n    \\\"art  art critic\\\",\\n    \\\"arts campaigner\\\",\\n    \\\"and art critic\\\",\\n    \\\"indigenous art\\\",\\n    \\\"art critic and\\\",\\n    \\\"art patron and\\\",\\n    \\\"art dealer and\\\",\\n    \\\"arts executive\\\",\\n    \\\"art  collector\\\",\\n    \\\"arts advocate\\\",\\n    \\\"art gallerist\\\",\\n    \\\"art director\\\",\\n    \\\"art designer\\\",\\n    \\\"art heiress\\\",\\n    \\\"arts leader\\\",\\n    \\\"art dealer\\\",\\n    \\\"arts patron\\\",\\n    \\\"art critic\\\",\\n    \\\"art patron\\\",\\n    \\\"art expert\\\",\\n    \\\"bartender\\\",\\n    \\\"and arts\\\",\\n    \\\"of arts\\\",\\n    \\\"artisan\\\",\\n    \\\"arts\\\",\\n    \\\"and art\\\",\\n    \\\"art and\\\",\\n    \\\"art\\\",\\n]\\nsports = [\\n    \\\"baseball memorabilia collector and limited partner for the Yankees\\\",  # before arts\\n    \\\"quarterback for UCLA Bruins football and the Baltimore Colts\\\",\\n    \\\"mixed martial arts fighter and UFC middleweight champion\\\",\\n    \\\"NASCAR stock car driver and partial team owner\\\",\\n    \\\"Hall of Fame Quarter Horse equestrian\\\",\\n    \\\"Football League quarterback and coach\\\",\\n    \\\"wrestler; patriarch of Hart wrestling\\\",\\n    \\\"football quarterback and halfback\\\",\\n    \\\"part owner of the Atlanta Braves\\\",\\n    \\\"mixed martial arts competitor\\\",\\n    \\\"partially quadriplegic sailor\\\",\\n    \\\"mixed martial arts fighter\\\",\\n    \\\"mixed martial arts trainer\\\",\\n    \\\"Hall of Fame darts player\\\",\\n    \\\"mixed martial art fighter\\\",\\n    \\\"baseball team part owner\\\",\\n    \\\"football quarterback and\\\",\\n    \\\"martial arts grandmaster\\\",\\n    \\\"martial arts master and\\\",\\n    \\\"martial arts instructor\\\",\\n    \\\"sports team part owner\\\",\\n    \\\"and Rangers part owner\\\",\\n    \\\"football quarterback\\\",\\n    \\\"martial arts teacher\\\",\\n    \\\"martial arts master\\\",\\n    \\\"martial arts expert\\\",\\n    \\\"darts administrator\\\",\\n    \\\"woman darts player\\\",\\n    \\\"darts player\\\",\\n    \\\"martial arts\\\",\\n    \\\"martial\\\",\\n    \\\"darts\\\",\\n]\\nsciences = [\\n    \\\"cardiothoracic surgeon who refined John Gibbon heart lung bypass machine\\\",\\n    \\\"software designer and a pioneer in artificial intelligence and robotics\\\",\\n    \\\"geomorphologist and expert on the geology of Earth and Mars\\\",\\n    \\\"doctor and inventor of the Dodrill GMR heart machine\\\",\\n    \\\"independent researcher in artificial intelligence\\\",\\n    \\\"professor of geology and earthquake expert\\\",\\n    \\\"surgeon and open heart surgery pioneer\\\",\\n    \\\"researcher in artificial intelligence\\\",\\n    \\\"astronomer at Swarthmore College\\\",\\n    \\\"geographer and cartographer\\\",\\n    \\\"cartographer and geographer\\\",\\n    \\\"heart surgeon and inventor\\\",\\n    \\\"oceanographic cartographer\\\",  # before arts\\n    \\\"pioneering heart surgeon\\\",\\n    \\\"paediatric heart surgeon\\\",\\n    \\\"and cartographer\\\",\\n    \\\"cartographer and\\\",\\n    \\\"heart surgeon\\\",\\n    \\\"cartographer\\\",\\n]\\n\\nbusiness_farming = [\\n    \\\"businesswoman; chairperson of the Clerys department store\\\",\\n    \\\"billionaire department store and hotel owner\\\",\\n    \\\"and son of Wal Mart founder Sam Walton\\\",\\n    \\\"widow of Wal Mart founder Sam Walton\\\",\\n    \\\"transportation and parts executive\\\",\\n    \\\"industrial parts executive\\\",\\n    \\\"owner of Dart Drugs Chain\\\",  # before arts\\n    \\\"and chartered accountant\\\",\\n    \\\"auto parts executive\\\",\\n    \\\"chartered accountant\\\",\\n    \\\"CEO of Earthlink\\\",\\n]\\nacademia_humanities = [\\n    \\\"professor at George Mason University\\\",\\n    \\\"and professor of Asian art history\\\",  # before arts\\n    \\\"art conservator\\\",\\n]\\nlaw_enf_military_operator = [\\n    \\\"World War I soldier and the last surviving soldier to have taken part in the Christmas truce of\\\",\\n    \\\"Deputy Director of the Department of State Office of Security\\\",\\n    \\\"police commissioner of the Philadelphia Police Department\\\",\\n    \\\"Marine Corps sergeant and recipient of nine purple hearts\\\",  # before arts\\n    \\\"World War II Jewish partisan fighter and anti avenger\\\",\\n    \\\"leader of the Bielski partisans during World War II\\\",\\n    \\\"Secretary of the Navy in the Carter administration\\\",\\n    \\\"Wehrmacht artillery and General Staff officer\\\",\\n    \\\"Navy Chief Quartermaster and aquanaut\\\",\\n    \\\"and World War II partisan fighter\\\",\\n    \\\"partisan and liaison officer\\\",\\n    \\\"partisan during World War II\\\",\\n    \\\"Sparta Battalion commander\\\",\\n    \\\"World War II partisan and\\\",\\n    \\\"wartime firefighter\\\",\\n    \\\"wartime codebreaker\\\",\\n    \\\"and quartermaster\\\",\\n    \\\"wartime commander\\\",\\n    \\\"Jewish partisan\\\",\\n    \\\"wartime spy\\\",\\n    \\\"Partisan\\\",\\n    \\\"partisan\\\",\\n]\\nspiritual = [\\n    \\\"priest who participated in the exorcism on which was based\\\",\\n    \\\"Anglican priest and Dean of Hobart from to\\\",\\n    \\\"young earth creationist leader\\\",  # before arts\\n    \\\"young Earth creationist\\\",\\n    \\\"Young Earth creationist\\\",\\n    \\\"Carthusian monk\\\",\\n    \\\"flat earther\\\",\\n]\\nsocial = []\\ncrime = [\\n    \\\"suspected drug lord and high ranking leader of the Sinaloa Cartel\\\",\\n    \\\"convict and assassin of Martin Luther King Jr\\\",\\n    \\\"drug trafficker for the Sinaloa Cartel\\\",\\n    \\\"who assassinated official Wilhelm Kube\\\",\\n    \\\"narco and member of the Cali Cartel\\\",\\n    \\\"drug lord and Sinaloa Cartel leader\\\",\\n    \\\"reputed organized crime figure and\\\",\\n    \\\"member of the Detroit Partnership\\\",  # before arts\\n    \\\"part of Watergate scandal\\\",\\n    \\\"Neturei Karta rabbi and\\\",\\n    \\\"convicted art thief\\\",\\n    \\\"drug cartel leader\\\",\\n    \\\"cartel leader\\\",\\n]\\nevent_record_other = [\\n    \\\"heart and lung patient whose wrong transplant made headlines\\\",\\n    \\\"recipient of the first artificial heart transplant\\\",  # before arts\\n]\\nother_species = []\";\n",
       "                var nbb_cells = Jupyter.notebook.get_cells();\n",
       "                for (var i = 0; i < nbb_cells.length; ++i) {\n",
       "                    if (nbb_cells[i].input_prompt_number == nbb_cell_id) {\n",
       "                        if (nbb_cells[i].get_text() == nbb_unformatted_code) {\n",
       "                             nbb_cells[i].set_text(nbb_formatted_code);\n",
       "                        }\n",
       "                        break;\n",
       "                    }\n",
       "                }\n",
       "            }, 500);\n",
       "            "
      ],
      "text/plain": [
       "<IPython.core.display.Javascript object>"
      ]
     },
     "metadata": {},
     "output_type": "display_data"
    }
   ],
   "source": [
    "# Creating lists for each category\n",
    "politics_govt_law = [\n",
    "    \"first female major party candidate to run for Governor of North Carolina\",\n",
    "    \"Principal Speaker of Green Party of and and Oxford City Councillor\",\n",
    "    \"who trained Martin Luther King Jr and other civil rights leaders\",\n",
    "    \"chairman of the Communist Party of and International Brigades\",\n",
    "    \"presidential candidate for the Alliance for Democracy party\",\n",
    "    \"threatened by McCarthyism and championed by Edward R Murrow\",\n",
    "    \"Democratic Party member of the House of Representatives\",\n",
    "    \"labor leader and parliamentarian for the Peronist party\",  # before arts\n",
    "    \"convert and partner of nationalist Subhas Chandra Bose\",\n",
    "    \"assistant secretary of the Department of Commerce and\",\n",
    "    \"trade unionist and member of the Communist Party of\",\n",
    "    \"presidential candidate for the Libertarian Party\",\n",
    "    \"leader of the Islamic Renaissance Party of istan\",\n",
    "    \"labor leader and chairman of the Communist Party\",\n",
    "    \"first female chair of Michigan Republican Party\",\n",
    "    \"peer and proponent of the Hollow Earth concept\",\n",
    "    \"Secretary of Treasury from under Jimmy Carter\",\n",
    "    \"Party student leader and later a neo figure\",\n",
    "    \"political leader of the Communist Party of\",\n",
    "    \"Press Secretary for President Jimmy Carter\",\n",
    "    \"and romantic partner to Princess Margaret\",\n",
    "    \"leader of the Progressive Unionist Party\",\n",
    "    \"Green Party member of the House of Lords\",\n",
    "    \"leader of the Black Panther Party\",\n",
    "    \"leader of Beijing Communist Party\",\n",
    "    \"member of the Bonaparte dynasty\",\n",
    "    \"and anti apartheid campaigner\",\n",
    "    \"State Department official and\",\n",
    "    \"Conservative Party chairman\",\n",
    "    \"Black Panther Party member\",\n",
    "    \"Republican party official\",\n",
    "    \"Communist party secretary\",\n",
    "    \"anti apartheid campaigner\",\n",
    "    \"anti communist partisan\",\n",
    "    \"revolutionary thinker\",\n",
    "    \"Yukon Party Leader\",\n",
    "    \"Labour Party MP\",\n",
    "    \"Communist Party\",\n",
    "    \"party official\",\n",
    "    \"partisan and\",\n",
    "    \"partisan\",\n",
    "]\n",
    "\n",
    "arts = [\n",
    "    \"last living member of the Carter Family country music group\",\n",
    "    \"former bass player for Tom Petty and the Heartbreakers\",\n",
    "    \"violinist and founder of the Amadeus Quartet\",\n",
    "    \"animator for Betty Boop and Superman cartoons\",\n",
    "    \"daredevil and flat Earth conspiracy theorist\",\n",
    "    \"art collector and friend of Pablo Picasso\",\n",
    "    \"film art director and production designer\",\n",
    "    \"film production designer and art director\",\n",
    "    \"arts administrator and opera director\",\n",
    "    \"television producer and art collector\",\n",
    "    \"art dealer and wife of Marcel Duchamp\",\n",
    "    \"abstract expressionist art collector\",\n",
    "    \"production designer and art director\",\n",
    "    \"art director and production designer\",\n",
    "    \"music critic and arts administrator\",\n",
    "    \"Academy Awards winning art director\",\n",
    "    \"bassist for the Modern Jazz Quartet\",\n",
    "    \"arts administrator and music critic\",\n",
    "    \"fashion designer and art collector\",\n",
    "    \"filmmaker and pioneer of video art\",\n",
    "    \"film set designer and art director\",\n",
    "    \"art director and costume designer\",\n",
    "    \"graphic designer and art director\",\n",
    "    \"art publisher and magazine editor\",\n",
    "    \"costume designer and art director\",\n",
    "    \"horticulturalist and arts patron\",\n",
    "    \"art critic and opera librettist\",\n",
    "    \"art collector and gallery owner\",\n",
    "    \"art dealer and gallery director\",\n",
    "    \"Yup'ik artisan and craftswoman\",\n",
    "    \"reality television participant\",\n",
    "    \"art director ; designer of the\",\n",
    "    \"essayist and visual art critic\",\n",
    "    \"who specialized in Coptic art\",\n",
    "    \"art director and set designer\",\n",
    "    \"set designer and art director\",\n",
    "    \"Māori performing arts leader\",\n",
    "    \"performing arts producer and\",\n",
    "    \"psychiatric patient and art\",\n",
    "    \"advertiser and art director\",\n",
    "    \"art critic and radio host\",\n",
    "    \"art director and designer\",\n",
    "    \"media executive and arts\",\n",
    "    \"art collector and patron\",\n",
    "    \"stylist and art director\",\n",
    "    \"film fight choreographer\",\n",
    "    \"international art dealer\",\n",
    "    \"theatre director and art\",\n",
    "    \"art  Picasso biographer\",\n",
    "    \"art and antiques dealer\",\n",
    "    \"advocate of Native arts\",\n",
    "    \"art theatre personality\",\n",
    "    \"literary editor and art\",\n",
    "    \"of art and art history\",\n",
    "    \"and patron of the arts\",\n",
    "    \"heiress and art patron\",\n",
    "    \"watercolorist and art\",\n",
    "    \"art  gallery director\",\n",
    "    \"artisanal cheesemaker\",\n",
    "    \"supporter of the arts\",\n",
    "    \"modern art collector\",\n",
    "    \"fine arts collector\",\n",
    "    \"born art dealer and\",\n",
    "    \"Republic art critic\",\n",
    "    \"film and art critic\",\n",
    "    \"biographer and art\",\n",
    "    \"art critic and art\",\n",
    "    \"patron of the arts\",\n",
    "    \"arts administrator\",\n",
    "    \"art gallery owner\",\n",
    "    \"art collector and\",\n",
    "    \"and art collector\",\n",
    "    \"and arts patron\",\n",
    "    \"art  art critic\",\n",
    "    \"arts campaigner\",\n",
    "    \"and art critic\",\n",
    "    \"indigenous art\",\n",
    "    \"art critic and\",\n",
    "    \"art patron and\",\n",
    "    \"art dealer and\",\n",
    "    \"arts executive\",\n",
    "    \"art  collector\",\n",
    "    \"arts advocate\",\n",
    "    \"art gallerist\",\n",
    "    \"art director\",\n",
    "    \"art designer\",\n",
    "    \"art heiress\",\n",
    "    \"arts leader\",\n",
    "    \"art dealer\",\n",
    "    \"arts patron\",\n",
    "    \"art critic\",\n",
    "    \"art patron\",\n",
    "    \"art expert\",\n",
    "    \"bartender\",\n",
    "    \"and arts\",\n",
    "    \"of arts\",\n",
    "    \"artisan\",\n",
    "    \"arts\",\n",
    "    \"and art\",\n",
    "    \"art and\",\n",
    "    \"art\",\n",
    "]\n",
    "sports = [\n",
    "    \"baseball memorabilia collector and limited partner for the Yankees\",  # before arts\n",
    "    \"quarterback for UCLA Bruins football and the Baltimore Colts\",\n",
    "    \"mixed martial arts fighter and UFC middleweight champion\",\n",
    "    \"NASCAR stock car driver and partial team owner\",\n",
    "    \"Hall of Fame Quarter Horse equestrian\",\n",
    "    \"Football League quarterback and coach\",\n",
    "    \"wrestler; patriarch of Hart wrestling\",\n",
    "    \"football quarterback and halfback\",\n",
    "    \"part owner of the Atlanta Braves\",\n",
    "    \"mixed martial arts competitor\",\n",
    "    \"partially quadriplegic sailor\",\n",
    "    \"mixed martial arts fighter\",\n",
    "    \"mixed martial arts trainer\",\n",
    "    \"Hall of Fame darts player\",\n",
    "    \"mixed martial art fighter\",\n",
    "    \"baseball team part owner\",\n",
    "    \"football quarterback and\",\n",
    "    \"martial arts grandmaster\",\n",
    "    \"martial arts master and\",\n",
    "    \"martial arts instructor\",\n",
    "    \"sports team part owner\",\n",
    "    \"and Rangers part owner\",\n",
    "    \"football quarterback\",\n",
    "    \"martial arts teacher\",\n",
    "    \"martial arts master\",\n",
    "    \"martial arts expert\",\n",
    "    \"darts administrator\",\n",
    "    \"woman darts player\",\n",
    "    \"darts player\",\n",
    "    \"martial arts\",\n",
    "    \"martial\",\n",
    "    \"darts\",\n",
    "]\n",
    "sciences = [\n",
    "    \"cardiothoracic surgeon who refined John Gibbon heart lung bypass machine\",\n",
    "    \"software designer and a pioneer in artificial intelligence and robotics\",\n",
    "    \"geomorphologist and expert on the geology of Earth and Mars\",\n",
    "    \"doctor and inventor of the Dodrill GMR heart machine\",\n",
    "    \"independent researcher in artificial intelligence\",\n",
    "    \"professor of geology and earthquake expert\",\n",
    "    \"surgeon and open heart surgery pioneer\",\n",
    "    \"researcher in artificial intelligence\",\n",
    "    \"astronomer at Swarthmore College\",\n",
    "    \"geographer and cartographer\",\n",
    "    \"cartographer and geographer\",\n",
    "    \"heart surgeon and inventor\",\n",
    "    \"oceanographic cartographer\",  # before arts\n",
    "    \"pioneering heart surgeon\",\n",
    "    \"paediatric heart surgeon\",\n",
    "    \"and cartographer\",\n",
    "    \"cartographer and\",\n",
    "    \"heart surgeon\",\n",
    "    \"cartographer\",\n",
    "]\n",
    "\n",
    "business_farming = [\n",
    "    \"businesswoman; chairperson of the Clerys department store\",\n",
    "    \"billionaire department store and hotel owner\",\n",
    "    \"and son of Wal Mart founder Sam Walton\",\n",
    "    \"widow of Wal Mart founder Sam Walton\",\n",
    "    \"transportation and parts executive\",\n",
    "    \"industrial parts executive\",\n",
    "    \"owner of Dart Drugs Chain\",  # before arts\n",
    "    \"and chartered accountant\",\n",
    "    \"auto parts executive\",\n",
    "    \"chartered accountant\",\n",
    "    \"CEO of Earthlink\",\n",
    "]\n",
    "academia_humanities = [\n",
    "    \"professor at George Mason University\",\n",
    "    \"and professor of Asian art history\",  # before arts\n",
    "    \"art conservator\",\n",
    "]\n",
    "law_enf_military_operator = [\n",
    "    \"World War I soldier and the last surviving soldier to have taken part in the Christmas truce of\",\n",
    "    \"Deputy Director of the Department of State Office of Security\",\n",
    "    \"police commissioner of the Philadelphia Police Department\",\n",
    "    \"Marine Corps sergeant and recipient of nine purple hearts\",  # before arts\n",
    "    \"World War II Jewish partisan fighter and anti avenger\",\n",
    "    \"leader of the Bielski partisans during World War II\",\n",
    "    \"Secretary of the Navy in the Carter administration\",\n",
    "    \"Wehrmacht artillery and General Staff officer\",\n",
    "    \"Navy Chief Quartermaster and aquanaut\",\n",
    "    \"and World War II partisan fighter\",\n",
    "    \"partisan and liaison officer\",\n",
    "    \"partisan during World War II\",\n",
    "    \"Sparta Battalion commander\",\n",
    "    \"World War II partisan and\",\n",
    "    \"wartime firefighter\",\n",
    "    \"wartime codebreaker\",\n",
    "    \"and quartermaster\",\n",
    "    \"wartime commander\",\n",
    "    \"Jewish partisan\",\n",
    "    \"wartime spy\",\n",
    "    \"Partisan\",\n",
    "    \"partisan\",\n",
    "]\n",
    "spiritual = [\n",
    "    \"priest who participated in the exorcism on which was based\",\n",
    "    \"Anglican priest and Dean of Hobart from to\",\n",
    "    \"young earth creationist leader\",  # before arts\n",
    "    \"young Earth creationist\",\n",
    "    \"Young Earth creationist\",\n",
    "    \"Carthusian monk\",\n",
    "    \"flat earther\",\n",
    "]\n",
    "social = []\n",
    "crime = [\n",
    "    \"suspected drug lord and high ranking leader of the Sinaloa Cartel\",\n",
    "    \"convict and assassin of Martin Luther King Jr\",\n",
    "    \"drug trafficker for the Sinaloa Cartel\",\n",
    "    \"who assassinated official Wilhelm Kube\",\n",
    "    \"narco and member of the Cali Cartel\",\n",
    "    \"drug lord and Sinaloa Cartel leader\",\n",
    "    \"reputed organized crime figure and\",\n",
    "    \"member of the Detroit Partnership\",  # before arts\n",
    "    \"part of Watergate scandal\",\n",
    "    \"Neturei Karta rabbi and\",\n",
    "    \"convicted art thief\",\n",
    "    \"drug cartel leader\",\n",
    "    \"cartel leader\",\n",
    "]\n",
    "event_record_other = [\n",
    "    \"heart and lung patient whose wrong transplant made headlines\",\n",
    "    \"recipient of the first artificial heart transplant\",  # before arts\n",
    "]\n",
    "other_species = []"
   ]
  },
  {
   "cell_type": "markdown",
   "id": "4f4aea72",
   "metadata": {},
   "source": [
    "#### Creating `known_for_dict` Dictionary of Category Keys and Specific Role Lists of Values"
   ]
  },
  {
   "cell_type": "code",
   "execution_count": 64,
   "id": "4ed308e2",
   "metadata": {},
   "outputs": [
    {
     "data": {
      "application/javascript": [
       "\n",
       "            setTimeout(function() {\n",
       "                var nbb_cell_id = 64;\n",
       "                var nbb_unformatted_code = \"# Combining separate lists into one dictionary\\nknown_for_dict = {\\n    \\\"social\\\": social,\\n    \\\"spiritual\\\": spiritual,\\n    \\\"academia_humanities\\\": academia_humanities,\\n    \\\"business_farming\\\": business_farming,\\n    \\\"sciences\\\": sciences,\\n    \\\"politics_govt_law\\\": politics_govt_law,\\n    \\\"law_enf_military_operator\\\": law_enf_military_operator,\\n    \\\"crime\\\": crime,\\n    \\\"event_record_other\\\": event_record_other,\\n    \\\"other_species\\\": other_species,\\n    \\\"sports\\\": sports,\\n    \\\"arts\\\": arts,\\n}\";\n",
       "                var nbb_formatted_code = \"# Combining separate lists into one dictionary\\nknown_for_dict = {\\n    \\\"social\\\": social,\\n    \\\"spiritual\\\": spiritual,\\n    \\\"academia_humanities\\\": academia_humanities,\\n    \\\"business_farming\\\": business_farming,\\n    \\\"sciences\\\": sciences,\\n    \\\"politics_govt_law\\\": politics_govt_law,\\n    \\\"law_enf_military_operator\\\": law_enf_military_operator,\\n    \\\"crime\\\": crime,\\n    \\\"event_record_other\\\": event_record_other,\\n    \\\"other_species\\\": other_species,\\n    \\\"sports\\\": sports,\\n    \\\"arts\\\": arts,\\n}\";\n",
       "                var nbb_cells = Jupyter.notebook.get_cells();\n",
       "                for (var i = 0; i < nbb_cells.length; ++i) {\n",
       "                    if (nbb_cells[i].input_prompt_number == nbb_cell_id) {\n",
       "                        if (nbb_cells[i].get_text() == nbb_unformatted_code) {\n",
       "                             nbb_cells[i].set_text(nbb_formatted_code);\n",
       "                        }\n",
       "                        break;\n",
       "                    }\n",
       "                }\n",
       "            }, 500);\n",
       "            "
      ],
      "text/plain": [
       "<IPython.core.display.Javascript object>"
      ]
     },
     "metadata": {},
     "output_type": "display_data"
    }
   ],
   "source": [
    "# Combining separate lists into one dictionary\n",
    "known_for_dict = {\n",
    "    \"social\": social,\n",
    "    \"spiritual\": spiritual,\n",
    "    \"academia_humanities\": academia_humanities,\n",
    "    \"business_farming\": business_farming,\n",
    "    \"sciences\": sciences,\n",
    "    \"politics_govt_law\": politics_govt_law,\n",
    "    \"law_enf_military_operator\": law_enf_military_operator,\n",
    "    \"crime\": crime,\n",
    "    \"event_record_other\": event_record_other,\n",
    "    \"other_species\": other_species,\n",
    "    \"sports\": sports,\n",
    "    \"arts\": arts,\n",
    "}"
   ]
  },
  {
   "cell_type": "markdown",
   "id": "dcb19186",
   "metadata": {},
   "source": [
    "#### Extracting Category from `info_2`"
   ]
  },
  {
   "cell_type": "code",
   "execution_count": 65,
   "id": "518b6445",
   "metadata": {},
   "outputs": [
    {
     "name": "stdout",
     "output_type": "stream",
     "text": [
      "CPU times: total: 2min 12s\n",
      "Wall time: 2min 12s\n"
     ]
    },
    {
     "data": {
      "text/html": [
       "<div>\n",
       "<style scoped>\n",
       "    .dataframe tbody tr th:only-of-type {\n",
       "        vertical-align: middle;\n",
       "    }\n",
       "\n",
       "    .dataframe tbody tr th {\n",
       "        vertical-align: top;\n",
       "    }\n",
       "\n",
       "    .dataframe thead th {\n",
       "        text-align: right;\n",
       "    }\n",
       "</style>\n",
       "<table border=\"1\" class=\"dataframe\">\n",
       "  <thead>\n",
       "    <tr style=\"text-align: right;\">\n",
       "      <th></th>\n",
       "      <th>day</th>\n",
       "      <th>name</th>\n",
       "      <th>info</th>\n",
       "      <th>link</th>\n",
       "      <th>num_references</th>\n",
       "      <th>year</th>\n",
       "      <th>month</th>\n",
       "      <th>info_parenth</th>\n",
       "      <th>info_1</th>\n",
       "      <th>info_2</th>\n",
       "      <th>info_3</th>\n",
       "      <th>info_4</th>\n",
       "      <th>info_5</th>\n",
       "      <th>info_6</th>\n",
       "      <th>info_7</th>\n",
       "      <th>info_8</th>\n",
       "      <th>info_9</th>\n",
       "      <th>info_10</th>\n",
       "      <th>info_11</th>\n",
       "      <th>age</th>\n",
       "      <th>cause_of_death</th>\n",
       "      <th>place_1</th>\n",
       "      <th>place_2</th>\n",
       "      <th>info_parenth_copy</th>\n",
       "      <th>log_num_references</th>\n",
       "      <th>sciences</th>\n",
       "      <th>social</th>\n",
       "      <th>spiritual</th>\n",
       "      <th>academia_humanities</th>\n",
       "      <th>business_farming</th>\n",
       "      <th>arts</th>\n",
       "      <th>sports</th>\n",
       "      <th>law_enf_military_operator</th>\n",
       "      <th>politics_govt_law</th>\n",
       "      <th>crime</th>\n",
       "      <th>event_record_other</th>\n",
       "      <th>other_species</th>\n",
       "      <th>num_categories</th>\n",
       "    </tr>\n",
       "  </thead>\n",
       "  <tbody>\n",
       "    <tr>\n",
       "      <th>93338</th>\n",
       "      <td>12</td>\n",
       "      <td>Paddy Moloney</td>\n",
       "      <td>, 83, Irish musician  and producer.</td>\n",
       "      <td>https://en.wikipedia.org/wiki/Paddy_Moloney</td>\n",
       "      <td>26</td>\n",
       "      <td>2021</td>\n",
       "      <td>October</td>\n",
       "      <td>The Chieftains</td>\n",
       "      <td>None</td>\n",
       "      <td></td>\n",
       "      <td>None</td>\n",
       "      <td>None</td>\n",
       "      <td>None</td>\n",
       "      <td>None</td>\n",
       "      <td>None</td>\n",
       "      <td>None</td>\n",
       "      <td>None</td>\n",
       "      <td>None</td>\n",
       "      <td>None</td>\n",
       "      <td>83.0</td>\n",
       "      <td>None</td>\n",
       "      <td>Ireland</td>\n",
       "      <td>None</td>\n",
       "      <td>The Chieftains</td>\n",
       "      <td>3.295837</td>\n",
       "      <td>0</td>\n",
       "      <td>0</td>\n",
       "      <td>0</td>\n",
       "      <td>0</td>\n",
       "      <td>0</td>\n",
       "      <td>1</td>\n",
       "      <td>0</td>\n",
       "      <td>0</td>\n",
       "      <td>0</td>\n",
       "      <td>0</td>\n",
       "      <td>0</td>\n",
       "      <td>0</td>\n",
       "      <td>1</td>\n",
       "    </tr>\n",
       "    <tr>\n",
       "      <th>75604</th>\n",
       "      <td>5</td>\n",
       "      <td>Andrew Graham-Yooll</td>\n",
       "      <td>, 75, Argentine journalist and writer.</td>\n",
       "      <td>https://en.wikipedia.org/wiki/Andrew_Graham-Yooll</td>\n",
       "      <td>8</td>\n",
       "      <td>2019</td>\n",
       "      <td>July</td>\n",
       "      <td>None</td>\n",
       "      <td>None</td>\n",
       "      <td></td>\n",
       "      <td>None</td>\n",
       "      <td>None</td>\n",
       "      <td>None</td>\n",
       "      <td>None</td>\n",
       "      <td>None</td>\n",
       "      <td>None</td>\n",
       "      <td>None</td>\n",
       "      <td>None</td>\n",
       "      <td>None</td>\n",
       "      <td>75.0</td>\n",
       "      <td>None</td>\n",
       "      <td>Argentina</td>\n",
       "      <td>None</td>\n",
       "      <td>None</td>\n",
       "      <td>2.197225</td>\n",
       "      <td>0</td>\n",
       "      <td>0</td>\n",
       "      <td>0</td>\n",
       "      <td>0</td>\n",
       "      <td>0</td>\n",
       "      <td>1</td>\n",
       "      <td>0</td>\n",
       "      <td>0</td>\n",
       "      <td>0</td>\n",
       "      <td>0</td>\n",
       "      <td>0</td>\n",
       "      <td>0</td>\n",
       "      <td>1</td>\n",
       "    </tr>\n",
       "  </tbody>\n",
       "</table>\n",
       "</div>"
      ],
      "text/plain": [
       "      day                 name                                    info  \\\n",
       "93338  12        Paddy Moloney     , 83, Irish musician  and producer.   \n",
       "75604   5  Andrew Graham-Yooll  , 75, Argentine journalist and writer.   \n",
       "\n",
       "                                                    link  num_references  \\\n",
       "93338        https://en.wikipedia.org/wiki/Paddy_Moloney              26   \n",
       "75604  https://en.wikipedia.org/wiki/Andrew_Graham-Yooll               8   \n",
       "\n",
       "       year    month    info_parenth info_1 info_2 info_3 info_4 info_5  \\\n",
       "93338  2021  October  The Chieftains   None          None   None   None   \n",
       "75604  2019     July            None   None          None   None   None   \n",
       "\n",
       "      info_6 info_7 info_8 info_9 info_10 info_11   age cause_of_death  \\\n",
       "93338   None   None   None   None    None    None  83.0           None   \n",
       "75604   None   None   None   None    None    None  75.0           None   \n",
       "\n",
       "         place_1 place_2 info_parenth_copy  log_num_references  sciences  \\\n",
       "93338    Ireland    None    The Chieftains            3.295837         0   \n",
       "75604  Argentina    None              None            2.197225         0   \n",
       "\n",
       "       social  spiritual  academia_humanities  business_farming  arts  sports  \\\n",
       "93338       0          0                    0                 0     1       0   \n",
       "75604       0          0                    0                 0     1       0   \n",
       "\n",
       "       law_enf_military_operator  politics_govt_law  crime  \\\n",
       "93338                          0                  0      0   \n",
       "75604                          0                  0      0   \n",
       "\n",
       "       event_record_other  other_species  num_categories  \n",
       "93338                   0              0               1  \n",
       "75604                   0              0               1  "
      ]
     },
     "execution_count": 65,
     "metadata": {},
     "output_type": "execute_result"
    },
    {
     "data": {
      "application/javascript": [
       "\n",
       "            setTimeout(function() {\n",
       "                var nbb_cell_id = 65;\n",
       "                var nbb_unformatted_code = \"%%time\\n\\n# Dictionary version\\nsearch_dict = known_for_dict\\n\\n# Column to check\\ncolumn = 'info_2'\\n\\n# Dataframe\\ndataframe = df[column].notna()\\n\\n# For loop to find role in column and extract it as category\\nfor category, category_lst in search_dict.items():\\n    for role in category_lst:\\n        for index in dataframe.index:\\n            item = df.loc[index, column]\\n            if item:\\n                if role in item:\\n                    df.loc[index, category] = 1\\n                    df.loc[index, column] = item.replace(role, '').strip()\\n\\n# Updating num_categories\\ndf[\\\"num_categories\\\"] = df[known_for_dict.keys()].sum(axis=1)\\n\\n# Checking a sample of rows\\ndf[df['arts'] ==1].sample(2)\";\n",
       "                var nbb_formatted_code = \"%%time\\n\\n# Dictionary version\\nsearch_dict = known_for_dict\\n\\n# Column to check\\ncolumn = 'info_2'\\n\\n# Dataframe\\ndataframe = df[column].notna()\\n\\n# For loop to find role in column and extract it as category\\nfor category, category_lst in search_dict.items():\\n    for role in category_lst:\\n        for index in dataframe.index:\\n            item = df.loc[index, column]\\n            if item:\\n                if role in item:\\n                    df.loc[index, category] = 1\\n                    df.loc[index, column] = item.replace(role, '').strip()\\n\\n# Updating num_categories\\ndf[\\\"num_categories\\\"] = df[known_for_dict.keys()].sum(axis=1)\\n\\n# Checking a sample of rows\\ndf[df['arts'] ==1].sample(2)\";\n",
       "                var nbb_cells = Jupyter.notebook.get_cells();\n",
       "                for (var i = 0; i < nbb_cells.length; ++i) {\n",
       "                    if (nbb_cells[i].input_prompt_number == nbb_cell_id) {\n",
       "                        if (nbb_cells[i].get_text() == nbb_unformatted_code) {\n",
       "                             nbb_cells[i].set_text(nbb_formatted_code);\n",
       "                        }\n",
       "                        break;\n",
       "                    }\n",
       "                }\n",
       "            }, 500);\n",
       "            "
      ],
      "text/plain": [
       "<IPython.core.display.Javascript object>"
      ]
     },
     "metadata": {},
     "output_type": "display_data"
    }
   ],
   "source": [
    "%%time\n",
    "\n",
    "# Dictionary version\n",
    "search_dict = known_for_dict\n",
    "\n",
    "# Column to check\n",
    "column = 'info_2'\n",
    "\n",
    "# Dataframe\n",
    "dataframe = df[column].notna()\n",
    "\n",
    "# For loop to find role in column and extract it as category\n",
    "for category, category_lst in search_dict.items():\n",
    "    for role in category_lst:\n",
    "        for index in dataframe.index:\n",
    "            item = df.loc[index, column]\n",
    "            if item:\n",
    "                if role in item:\n",
    "                    df.loc[index, category] = 1\n",
    "                    df.loc[index, column] = item.replace(role, '').strip()\n",
    "\n",
    "# Updating num_categories\n",
    "df[\"num_categories\"] = df[known_for_dict.keys()].sum(axis=1)\n",
    "\n",
    "# Checking a sample of rows\n",
    "df[df['arts'] ==1].sample(2)"
   ]
  },
  {
   "cell_type": "markdown",
   "id": "e4fb97c9",
   "metadata": {},
   "source": [
    "#### Checking the Number of Rows without a First Category"
   ]
  },
  {
   "cell_type": "code",
   "execution_count": 66,
   "id": "bbb2e185",
   "metadata": {},
   "outputs": [
    {
     "name": "stdout",
     "output_type": "stream",
     "text": [
      "There are 30451 entries without any known_for category.\n"
     ]
    },
    {
     "data": {
      "application/javascript": [
       "\n",
       "            setTimeout(function() {\n",
       "                var nbb_cell_id = 66;\n",
       "                var nbb_unformatted_code = \"# Checking the number of rows without a first category\\nprint(\\n    f'There are {len(df[df[\\\"num_categories\\\"]==0])} entries without any known_for category.'\\n)\";\n",
       "                var nbb_formatted_code = \"# Checking the number of rows without a first category\\nprint(\\n    f'There are {len(df[df[\\\"num_categories\\\"]==0])} entries without any known_for category.'\\n)\";\n",
       "                var nbb_cells = Jupyter.notebook.get_cells();\n",
       "                for (var i = 0; i < nbb_cells.length; ++i) {\n",
       "                    if (nbb_cells[i].input_prompt_number == nbb_cell_id) {\n",
       "                        if (nbb_cells[i].get_text() == nbb_unformatted_code) {\n",
       "                             nbb_cells[i].set_text(nbb_formatted_code);\n",
       "                        }\n",
       "                        break;\n",
       "                    }\n",
       "                }\n",
       "            }, 500);\n",
       "            "
      ],
      "text/plain": [
       "<IPython.core.display.Javascript object>"
      ]
     },
     "metadata": {},
     "output_type": "display_data"
    }
   ],
   "source": [
    "# Checking the number of rows without a first category\n",
    "print(\n",
    "    f'There are {len(df[df[\"num_categories\"]==0])} entries without any known_for category.'\n",
    ")"
   ]
  },
  {
   "cell_type": "markdown",
   "id": "111b30af",
   "metadata": {},
   "source": [
    "#### Observations:\n",
    "- We will proceed to rebuild `known_for_dict` for the next iteration."
   ]
  },
  {
   "cell_type": "markdown",
   "id": "c14d8557",
   "metadata": {},
   "source": [
    "#### Finding `known_for` Roles in `info_2`"
   ]
  },
  {
   "cell_type": "code",
   "execution_count": 67,
   "id": "382ce3a3",
   "metadata": {},
   "outputs": [
    {
     "data": {
      "application/javascript": [
       "\n",
       "            setTimeout(function() {\n",
       "                var nbb_cell_id = 67;\n",
       "                var nbb_unformatted_code = \"# # Obtaining values for column and their counts\\n# roles_list = df[\\\"info_2\\\"].value_counts(ascending=True).index.tolist()\";\n",
       "                var nbb_formatted_code = \"# # Obtaining values for column and their counts\\n# roles_list = df[\\\"info_2\\\"].value_counts(ascending=True).index.tolist()\";\n",
       "                var nbb_cells = Jupyter.notebook.get_cells();\n",
       "                for (var i = 0; i < nbb_cells.length; ++i) {\n",
       "                    if (nbb_cells[i].input_prompt_number == nbb_cell_id) {\n",
       "                        if (nbb_cells[i].get_text() == nbb_unformatted_code) {\n",
       "                             nbb_cells[i].set_text(nbb_formatted_code);\n",
       "                        }\n",
       "                        break;\n",
       "                    }\n",
       "                }\n",
       "            }, 500);\n",
       "            "
      ],
      "text/plain": [
       "<IPython.core.display.Javascript object>"
      ]
     },
     "metadata": {},
     "output_type": "display_data"
    }
   ],
   "source": [
    "# # Obtaining values for column and their counts\n",
    "# roles_list = df[\"info_2\"].value_counts(ascending=True).index.tolist()"
   ]
  },
  {
   "cell_type": "code",
   "execution_count": 68,
   "id": "b59a2abe",
   "metadata": {},
   "outputs": [
    {
     "data": {
      "application/javascript": [
       "\n",
       "            setTimeout(function() {\n",
       "                var nbb_cell_id = 68;\n",
       "                var nbb_unformatted_code = \"# # Code to check each value\\n# roles_list.pop()\";\n",
       "                var nbb_formatted_code = \"# # Code to check each value\\n# roles_list.pop()\";\n",
       "                var nbb_cells = Jupyter.notebook.get_cells();\n",
       "                for (var i = 0; i < nbb_cells.length; ++i) {\n",
       "                    if (nbb_cells[i].input_prompt_number == nbb_cell_id) {\n",
       "                        if (nbb_cells[i].get_text() == nbb_unformatted_code) {\n",
       "                             nbb_cells[i].set_text(nbb_formatted_code);\n",
       "                        }\n",
       "                        break;\n",
       "                    }\n",
       "                }\n",
       "            }, 500);\n",
       "            "
      ],
      "text/plain": [
       "<IPython.core.display.Javascript object>"
      ]
     },
     "metadata": {},
     "output_type": "display_data"
    }
   ],
   "source": [
    "# # Code to check each value\n",
    "# roles_list.pop()"
   ]
  },
  {
   "cell_type": "code",
   "execution_count": 69,
   "id": "43730815",
   "metadata": {},
   "outputs": [
    {
     "data": {
      "application/javascript": [
       "\n",
       "            setTimeout(function() {\n",
       "                var nbb_cell_id = 69;\n",
       "                var nbb_unformatted_code = \"# # Create specific_roles_list for above popped value\\n# specific_roles_list = (\\n#     df.loc[\\n#         [\\n#             index\\n#             for index in df[df[\\\"info_2\\\"].notna()].index\\n#             if \\\"entrepreneur\\\" in df.loc[index, \\\"info_2\\\"]\\n#         ],\\n#         \\\"info_2\\\",\\n#     ]\\n#     .value_counts()\\n#     .index.tolist()\\n# )\";\n",
       "                var nbb_formatted_code = \"# # Create specific_roles_list for above popped value\\n# specific_roles_list = (\\n#     df.loc[\\n#         [\\n#             index\\n#             for index in df[df[\\\"info_2\\\"].notna()].index\\n#             if \\\"entrepreneur\\\" in df.loc[index, \\\"info_2\\\"]\\n#         ],\\n#         \\\"info_2\\\",\\n#     ]\\n#     .value_counts()\\n#     .index.tolist()\\n# )\";\n",
       "                var nbb_cells = Jupyter.notebook.get_cells();\n",
       "                for (var i = 0; i < nbb_cells.length; ++i) {\n",
       "                    if (nbb_cells[i].input_prompt_number == nbb_cell_id) {\n",
       "                        if (nbb_cells[i].get_text() == nbb_unformatted_code) {\n",
       "                             nbb_cells[i].set_text(nbb_formatted_code);\n",
       "                        }\n",
       "                        break;\n",
       "                    }\n",
       "                }\n",
       "            }, 500);\n",
       "            "
      ],
      "text/plain": [
       "<IPython.core.display.Javascript object>"
      ]
     },
     "metadata": {},
     "output_type": "display_data"
    }
   ],
   "source": [
    "# # Create specific_roles_list for above popped value\n",
    "# specific_roles_list = (\n",
    "#     df.loc[\n",
    "#         [\n",
    "#             index\n",
    "#             for index in df[df[\"info_2\"].notna()].index\n",
    "#             if \"entrepreneur\" in df.loc[index, \"info_2\"]\n",
    "#         ],\n",
    "#         \"info_2\",\n",
    "#     ]\n",
    "#     .value_counts()\n",
    "#     .index.tolist()\n",
    "# )"
   ]
  },
  {
   "cell_type": "code",
   "execution_count": 70,
   "id": "c495d235",
   "metadata": {},
   "outputs": [
    {
     "data": {
      "application/javascript": [
       "\n",
       "            setTimeout(function() {\n",
       "                var nbb_cell_id = 70;\n",
       "                var nbb_unformatted_code = \"# # Code to check each specific value\\n# specific_roles_list.pop()\";\n",
       "                var nbb_formatted_code = \"# # Code to check each specific value\\n# specific_roles_list.pop()\";\n",
       "                var nbb_cells = Jupyter.notebook.get_cells();\n",
       "                for (var i = 0; i < nbb_cells.length; ++i) {\n",
       "                    if (nbb_cells[i].input_prompt_number == nbb_cell_id) {\n",
       "                        if (nbb_cells[i].get_text() == nbb_unformatted_code) {\n",
       "                             nbb_cells[i].set_text(nbb_formatted_code);\n",
       "                        }\n",
       "                        break;\n",
       "                    }\n",
       "                }\n",
       "            }, 500);\n",
       "            "
      ],
      "text/plain": [
       "<IPython.core.display.Javascript object>"
      ]
     },
     "metadata": {},
     "output_type": "display_data"
    }
   ],
   "source": [
    "# # Code to check each specific value\n",
    "# specific_roles_list.pop()"
   ]
  },
  {
   "cell_type": "code",
   "execution_count": 71,
   "id": "f6def57c",
   "metadata": {},
   "outputs": [
    {
     "data": {
      "application/javascript": [
       "\n",
       "            setTimeout(function() {\n",
       "                var nbb_cell_id = 71;\n",
       "                var nbb_unformatted_code = \"# # Example code to quick-screen values that may overlap categories\\n# df.loc[[index for index in df.index if \\\"Internet\\\" in df.loc[index, \\\"info\\\"]]]\";\n",
       "                var nbb_formatted_code = \"# # Example code to quick-screen values that may overlap categories\\n# df.loc[[index for index in df.index if \\\"Internet\\\" in df.loc[index, \\\"info\\\"]]]\";\n",
       "                var nbb_cells = Jupyter.notebook.get_cells();\n",
       "                for (var i = 0; i < nbb_cells.length; ++i) {\n",
       "                    if (nbb_cells[i].input_prompt_number == nbb_cell_id) {\n",
       "                        if (nbb_cells[i].get_text() == nbb_unformatted_code) {\n",
       "                             nbb_cells[i].set_text(nbb_formatted_code);\n",
       "                        }\n",
       "                        break;\n",
       "                    }\n",
       "                }\n",
       "            }, 500);\n",
       "            "
      ],
      "text/plain": [
       "<IPython.core.display.Javascript object>"
      ]
     },
     "metadata": {},
     "output_type": "display_data"
    }
   ],
   "source": [
    "# # Example code to quick-screen values that may overlap categories\n",
    "# df.loc[[index for index in df.index if \"Internet\" in df.loc[index, \"info\"]]]"
   ]
  },
  {
   "cell_type": "code",
   "execution_count": 72,
   "id": "2c8e5880",
   "metadata": {},
   "outputs": [
    {
     "data": {
      "application/javascript": [
       "\n",
       "            setTimeout(function() {\n",
       "                var nbb_cell_id = 72;\n",
       "                var nbb_unformatted_code = \"# # Example code to quick-check a specific entry\\n# df[df[\\\"info_2\\\"] == \\\"entrepreneur and ceremonial officer\\\"]\";\n",
       "                var nbb_formatted_code = \"# # Example code to quick-check a specific entry\\n# df[df[\\\"info_2\\\"] == \\\"entrepreneur and ceremonial officer\\\"]\";\n",
       "                var nbb_cells = Jupyter.notebook.get_cells();\n",
       "                for (var i = 0; i < nbb_cells.length; ++i) {\n",
       "                    if (nbb_cells[i].input_prompt_number == nbb_cell_id) {\n",
       "                        if (nbb_cells[i].get_text() == nbb_unformatted_code) {\n",
       "                             nbb_cells[i].set_text(nbb_formatted_code);\n",
       "                        }\n",
       "                        break;\n",
       "                    }\n",
       "                }\n",
       "            }, 500);\n",
       "            "
      ],
      "text/plain": [
       "<IPython.core.display.Javascript object>"
      ]
     },
     "metadata": {},
     "output_type": "display_data"
    }
   ],
   "source": [
    "# # Example code to quick-check a specific entry\n",
    "# df[df[\"info_2\"] == \"entrepreneur and ceremonial officer\"]"
   ]
  },
  {
   "cell_type": "markdown",
   "id": "fd105b27",
   "metadata": {},
   "source": [
    "#### Creating Lists for Each `known_for` Category"
   ]
  },
  {
   "cell_type": "code",
   "execution_count": 73,
   "id": "b2850025",
   "metadata": {},
   "outputs": [
    {
     "data": {
      "application/javascript": [
       "\n",
       "            setTimeout(function() {\n",
       "                var nbb_cell_id = 73;\n",
       "                var nbb_unformatted_code = \"# Creating lists for each category\\npolitics_govt_law = []\\n\\narts = []\\nsports = []\\nsciences = []\\n\\nbusiness_farming = [\\n    \\\"entrepreneur and one of the founders of commercial TV broadcasting in the\\\",\\n    \\\"entrepreneur and the founder of Peet Coffee & Tea\\\",\\n    \\\"entrepreneur and joint founder of Ryanair\\\",\\n    \\\"entrepreneur and founder of The Body Shop\\\",\\n    \\\"entrepreneur and pioneer of microlending\\\",\\n    \\\"entrepreneur and real estate developer\\\",\\n    \\\"entrepreneur and founder of Herbalife\\\",\\n    \\\"industrial and financial entrepreneur\\\",\\n    \\\"entrepreneur and ceremonial officer\\\",\\n    \\\"real estate broker and entrepreneur\\\",\\n    \\\"entrepreneur and president of Fiat\\\",\\n    \\\"entrepreneur and business magnate\\\",\\n    \\\"fashion retailer and entrepreneur\\\",\\n    \\\"entrepreneur and founder of Naza\\\",\\n    \\\"angel investor and entrepreneur\\\",\\n    \\\"billionaire mining entrepreneur\\\",\\n    \\\"entrepreneur and industrialist\\\",\\n    \\\"businesswoman and entrepreneur\\\",\\n    \\\"entrepreneur and co founder of\\\",\\n    \\\"entrepreneur and billionaire\\\",\\n    \\\"opinion polling entrepreneur\\\",\\n    \\\"oil and mining entrepreneur\\\",\\n    \\\"entrepreneur and winemaker\\\",\\n    \\\"entrepreneur and executive\\\",\\n    \\\"cocktail bar entrepreneur\\\",\\n    \\\"computer entrepreneur and\\\",\\n    \\\"real estate entrepreneur\\\",\\n    \\\"marketing entrepreneur\\\",\\n    \\\"financial entrepreneur\\\",\\n    \\\"mini golf entrepreneur\\\",\\n    \\\"entrepreneur in Darwin\\\",\\n    \\\"property entrepreneur\\\",\\n    \\\"aviation entrepreneur\\\",\\n    \\\"tourism entrepreneur\\\",\\n    \\\"Arabian entrepreneur\\\",\\n    \\\"travel entrepreneur\\\",\\n    \\\"timber entrepreneur\\\",\\n    \\\"serial entrepreneur\\\",\\n    \\\"wine entrepreneur\\\",\\n    \\\"ATM entrepreneur\\\",\\n    \\\"and entrepreneur\\\",\\n    \\\"entrepreneur and\\\",\\n    \\\"entrepreneur\\\",\\n]\\nacademia_humanities = []\\nlaw_enf_military_operator = []\\nspiritual = []\\nsocial = []\\ncrime = []\\nevent_record_other = [\\n    \\\"wrongfully convicted of murder\\\",\\n]\\nother_species = []\";\n",
       "                var nbb_formatted_code = \"# Creating lists for each category\\npolitics_govt_law = []\\n\\narts = []\\nsports = []\\nsciences = []\\n\\nbusiness_farming = [\\n    \\\"entrepreneur and one of the founders of commercial TV broadcasting in the\\\",\\n    \\\"entrepreneur and the founder of Peet Coffee & Tea\\\",\\n    \\\"entrepreneur and joint founder of Ryanair\\\",\\n    \\\"entrepreneur and founder of The Body Shop\\\",\\n    \\\"entrepreneur and pioneer of microlending\\\",\\n    \\\"entrepreneur and real estate developer\\\",\\n    \\\"entrepreneur and founder of Herbalife\\\",\\n    \\\"industrial and financial entrepreneur\\\",\\n    \\\"entrepreneur and ceremonial officer\\\",\\n    \\\"real estate broker and entrepreneur\\\",\\n    \\\"entrepreneur and president of Fiat\\\",\\n    \\\"entrepreneur and business magnate\\\",\\n    \\\"fashion retailer and entrepreneur\\\",\\n    \\\"entrepreneur and founder of Naza\\\",\\n    \\\"angel investor and entrepreneur\\\",\\n    \\\"billionaire mining entrepreneur\\\",\\n    \\\"entrepreneur and industrialist\\\",\\n    \\\"businesswoman and entrepreneur\\\",\\n    \\\"entrepreneur and co founder of\\\",\\n    \\\"entrepreneur and billionaire\\\",\\n    \\\"opinion polling entrepreneur\\\",\\n    \\\"oil and mining entrepreneur\\\",\\n    \\\"entrepreneur and winemaker\\\",\\n    \\\"entrepreneur and executive\\\",\\n    \\\"cocktail bar entrepreneur\\\",\\n    \\\"computer entrepreneur and\\\",\\n    \\\"real estate entrepreneur\\\",\\n    \\\"marketing entrepreneur\\\",\\n    \\\"financial entrepreneur\\\",\\n    \\\"mini golf entrepreneur\\\",\\n    \\\"entrepreneur in Darwin\\\",\\n    \\\"property entrepreneur\\\",\\n    \\\"aviation entrepreneur\\\",\\n    \\\"tourism entrepreneur\\\",\\n    \\\"Arabian entrepreneur\\\",\\n    \\\"travel entrepreneur\\\",\\n    \\\"timber entrepreneur\\\",\\n    \\\"serial entrepreneur\\\",\\n    \\\"wine entrepreneur\\\",\\n    \\\"ATM entrepreneur\\\",\\n    \\\"and entrepreneur\\\",\\n    \\\"entrepreneur and\\\",\\n    \\\"entrepreneur\\\",\\n]\\nacademia_humanities = []\\nlaw_enf_military_operator = []\\nspiritual = []\\nsocial = []\\ncrime = []\\nevent_record_other = [\\n    \\\"wrongfully convicted of murder\\\",\\n]\\nother_species = []\";\n",
       "                var nbb_cells = Jupyter.notebook.get_cells();\n",
       "                for (var i = 0; i < nbb_cells.length; ++i) {\n",
       "                    if (nbb_cells[i].input_prompt_number == nbb_cell_id) {\n",
       "                        if (nbb_cells[i].get_text() == nbb_unformatted_code) {\n",
       "                             nbb_cells[i].set_text(nbb_formatted_code);\n",
       "                        }\n",
       "                        break;\n",
       "                    }\n",
       "                }\n",
       "            }, 500);\n",
       "            "
      ],
      "text/plain": [
       "<IPython.core.display.Javascript object>"
      ]
     },
     "metadata": {},
     "output_type": "display_data"
    }
   ],
   "source": [
    "# Creating lists for each category\n",
    "politics_govt_law = []\n",
    "\n",
    "arts = []\n",
    "sports = []\n",
    "sciences = []\n",
    "\n",
    "business_farming = [\n",
    "    \"entrepreneur and one of the founders of commercial TV broadcasting in the\",\n",
    "    \"entrepreneur and the founder of Peet Coffee & Tea\",\n",
    "    \"entrepreneur and joint founder of Ryanair\",\n",
    "    \"entrepreneur and founder of The Body Shop\",\n",
    "    \"entrepreneur and pioneer of microlending\",\n",
    "    \"entrepreneur and real estate developer\",\n",
    "    \"entrepreneur and founder of Herbalife\",\n",
    "    \"industrial and financial entrepreneur\",\n",
    "    \"entrepreneur and ceremonial officer\",\n",
    "    \"real estate broker and entrepreneur\",\n",
    "    \"entrepreneur and president of Fiat\",\n",
    "    \"entrepreneur and business magnate\",\n",
    "    \"fashion retailer and entrepreneur\",\n",
    "    \"entrepreneur and founder of Naza\",\n",
    "    \"angel investor and entrepreneur\",\n",
    "    \"billionaire mining entrepreneur\",\n",
    "    \"entrepreneur and industrialist\",\n",
    "    \"businesswoman and entrepreneur\",\n",
    "    \"entrepreneur and co founder of\",\n",
    "    \"entrepreneur and billionaire\",\n",
    "    \"opinion polling entrepreneur\",\n",
    "    \"oil and mining entrepreneur\",\n",
    "    \"entrepreneur and winemaker\",\n",
    "    \"entrepreneur and executive\",\n",
    "    \"cocktail bar entrepreneur\",\n",
    "    \"computer entrepreneur and\",\n",
    "    \"real estate entrepreneur\",\n",
    "    \"marketing entrepreneur\",\n",
    "    \"financial entrepreneur\",\n",
    "    \"mini golf entrepreneur\",\n",
    "    \"entrepreneur in Darwin\",\n",
    "    \"property entrepreneur\",\n",
    "    \"aviation entrepreneur\",\n",
    "    \"tourism entrepreneur\",\n",
    "    \"Arabian entrepreneur\",\n",
    "    \"travel entrepreneur\",\n",
    "    \"timber entrepreneur\",\n",
    "    \"serial entrepreneur\",\n",
    "    \"wine entrepreneur\",\n",
    "    \"ATM entrepreneur\",\n",
    "    \"and entrepreneur\",\n",
    "    \"entrepreneur and\",\n",
    "    \"entrepreneur\",\n",
    "]\n",
    "academia_humanities = []\n",
    "law_enf_military_operator = []\n",
    "spiritual = []\n",
    "social = []\n",
    "crime = []\n",
    "event_record_other = [\n",
    "    \"wrongfully convicted of murder\",\n",
    "]\n",
    "other_species = []"
   ]
  },
  {
   "cell_type": "markdown",
   "id": "0a405cb3",
   "metadata": {},
   "source": [
    "#### Creating `known_for_dict` Dictionary of Category Keys and Specific Role Lists of Values"
   ]
  },
  {
   "cell_type": "code",
   "execution_count": 74,
   "id": "44c7d9cd",
   "metadata": {},
   "outputs": [
    {
     "data": {
      "application/javascript": [
       "\n",
       "            setTimeout(function() {\n",
       "                var nbb_cell_id = 74;\n",
       "                var nbb_unformatted_code = \"# Combining separate lists into one dictionary\\nknown_for_dict = {\\n    \\\"social\\\": social,\\n    \\\"spiritual\\\": spiritual,\\n    \\\"academia_humanities\\\": academia_humanities,\\n    \\\"business_farming\\\": business_farming,\\n    \\\"sciences\\\": sciences,\\n    \\\"politics_govt_law\\\": politics_govt_law,\\n    \\\"law_enf_military_operator\\\": law_enf_military_operator,\\n    \\\"crime\\\": crime,\\n    \\\"event_record_other\\\": event_record_other,\\n    \\\"other_species\\\": other_species,\\n    \\\"arts\\\": arts,\\n    \\\"sports\\\": sports,\\n}\";\n",
       "                var nbb_formatted_code = \"# Combining separate lists into one dictionary\\nknown_for_dict = {\\n    \\\"social\\\": social,\\n    \\\"spiritual\\\": spiritual,\\n    \\\"academia_humanities\\\": academia_humanities,\\n    \\\"business_farming\\\": business_farming,\\n    \\\"sciences\\\": sciences,\\n    \\\"politics_govt_law\\\": politics_govt_law,\\n    \\\"law_enf_military_operator\\\": law_enf_military_operator,\\n    \\\"crime\\\": crime,\\n    \\\"event_record_other\\\": event_record_other,\\n    \\\"other_species\\\": other_species,\\n    \\\"arts\\\": arts,\\n    \\\"sports\\\": sports,\\n}\";\n",
       "                var nbb_cells = Jupyter.notebook.get_cells();\n",
       "                for (var i = 0; i < nbb_cells.length; ++i) {\n",
       "                    if (nbb_cells[i].input_prompt_number == nbb_cell_id) {\n",
       "                        if (nbb_cells[i].get_text() == nbb_unformatted_code) {\n",
       "                             nbb_cells[i].set_text(nbb_formatted_code);\n",
       "                        }\n",
       "                        break;\n",
       "                    }\n",
       "                }\n",
       "            }, 500);\n",
       "            "
      ],
      "text/plain": [
       "<IPython.core.display.Javascript object>"
      ]
     },
     "metadata": {},
     "output_type": "display_data"
    }
   ],
   "source": [
    "# Combining separate lists into one dictionary\n",
    "known_for_dict = {\n",
    "    \"social\": social,\n",
    "    \"spiritual\": spiritual,\n",
    "    \"academia_humanities\": academia_humanities,\n",
    "    \"business_farming\": business_farming,\n",
    "    \"sciences\": sciences,\n",
    "    \"politics_govt_law\": politics_govt_law,\n",
    "    \"law_enf_military_operator\": law_enf_military_operator,\n",
    "    \"crime\": crime,\n",
    "    \"event_record_other\": event_record_other,\n",
    "    \"other_species\": other_species,\n",
    "    \"arts\": arts,\n",
    "    \"sports\": sports,\n",
    "}"
   ]
  },
  {
   "cell_type": "markdown",
   "id": "25cb6bf5",
   "metadata": {},
   "source": [
    "#### Extracting Category from `info_2`"
   ]
  },
  {
   "cell_type": "code",
   "execution_count": 75,
   "id": "5fc6e695",
   "metadata": {},
   "outputs": [
    {
     "name": "stdout",
     "output_type": "stream",
     "text": [
      "CPU times: total: 23.8 s\n",
      "Wall time: 23.8 s\n"
     ]
    },
    {
     "data": {
      "text/html": [
       "<div>\n",
       "<style scoped>\n",
       "    .dataframe tbody tr th:only-of-type {\n",
       "        vertical-align: middle;\n",
       "    }\n",
       "\n",
       "    .dataframe tbody tr th {\n",
       "        vertical-align: top;\n",
       "    }\n",
       "\n",
       "    .dataframe thead th {\n",
       "        text-align: right;\n",
       "    }\n",
       "</style>\n",
       "<table border=\"1\" class=\"dataframe\">\n",
       "  <thead>\n",
       "    <tr style=\"text-align: right;\">\n",
       "      <th></th>\n",
       "      <th>day</th>\n",
       "      <th>name</th>\n",
       "      <th>info</th>\n",
       "      <th>link</th>\n",
       "      <th>num_references</th>\n",
       "      <th>year</th>\n",
       "      <th>month</th>\n",
       "      <th>info_parenth</th>\n",
       "      <th>info_1</th>\n",
       "      <th>info_2</th>\n",
       "      <th>info_3</th>\n",
       "      <th>info_4</th>\n",
       "      <th>info_5</th>\n",
       "      <th>info_6</th>\n",
       "      <th>info_7</th>\n",
       "      <th>info_8</th>\n",
       "      <th>info_9</th>\n",
       "      <th>info_10</th>\n",
       "      <th>info_11</th>\n",
       "      <th>age</th>\n",
       "      <th>cause_of_death</th>\n",
       "      <th>place_1</th>\n",
       "      <th>place_2</th>\n",
       "      <th>info_parenth_copy</th>\n",
       "      <th>log_num_references</th>\n",
       "      <th>sciences</th>\n",
       "      <th>social</th>\n",
       "      <th>spiritual</th>\n",
       "      <th>academia_humanities</th>\n",
       "      <th>business_farming</th>\n",
       "      <th>arts</th>\n",
       "      <th>sports</th>\n",
       "      <th>law_enf_military_operator</th>\n",
       "      <th>politics_govt_law</th>\n",
       "      <th>crime</th>\n",
       "      <th>event_record_other</th>\n",
       "      <th>other_species</th>\n",
       "      <th>num_categories</th>\n",
       "    </tr>\n",
       "  </thead>\n",
       "  <tbody>\n",
       "    <tr>\n",
       "      <th>88065</th>\n",
       "      <td>28</td>\n",
       "      <td>Andrew Sardanis</td>\n",
       "      <td>, 89, Cypriot-Zambian journalist and businessman.</td>\n",
       "      <td>https://en.wikipedia.org/wiki/Andrew_Sardanis</td>\n",
       "      <td>16</td>\n",
       "      <td>2021</td>\n",
       "      <td>February</td>\n",
       "      <td>None</td>\n",
       "      <td>None</td>\n",
       "      <td></td>\n",
       "      <td>None</td>\n",
       "      <td>None</td>\n",
       "      <td>None</td>\n",
       "      <td>None</td>\n",
       "      <td>None</td>\n",
       "      <td>None</td>\n",
       "      <td>None</td>\n",
       "      <td>None</td>\n",
       "      <td>None</td>\n",
       "      <td>89.0</td>\n",
       "      <td>None</td>\n",
       "      <td>Cyprus</td>\n",
       "      <td>Zambia</td>\n",
       "      <td>None</td>\n",
       "      <td>2.833213</td>\n",
       "      <td>0</td>\n",
       "      <td>0</td>\n",
       "      <td>0</td>\n",
       "      <td>0</td>\n",
       "      <td>1</td>\n",
       "      <td>1</td>\n",
       "      <td>0</td>\n",
       "      <td>0</td>\n",
       "      <td>0</td>\n",
       "      <td>0</td>\n",
       "      <td>0</td>\n",
       "      <td>0</td>\n",
       "      <td>2</td>\n",
       "    </tr>\n",
       "    <tr>\n",
       "      <th>74989</th>\n",
       "      <td>27</td>\n",
       "      <td>Sir David Sieff</td>\n",
       "      <td>, 80, British businessman .</td>\n",
       "      <td>https://en.wikipedia.org/wiki/David_Sieff</td>\n",
       "      <td>8</td>\n",
       "      <td>2019</td>\n",
       "      <td>May</td>\n",
       "      <td>Marks &amp; Spencer</td>\n",
       "      <td>None</td>\n",
       "      <td></td>\n",
       "      <td>None</td>\n",
       "      <td>None</td>\n",
       "      <td>None</td>\n",
       "      <td>None</td>\n",
       "      <td>None</td>\n",
       "      <td>None</td>\n",
       "      <td>None</td>\n",
       "      <td>None</td>\n",
       "      <td>None</td>\n",
       "      <td>80.0</td>\n",
       "      <td>None</td>\n",
       "      <td>United Kingdom of Great Britain and Northern Ireland</td>\n",
       "      <td>None</td>\n",
       "      <td>Marks &amp; Spencer</td>\n",
       "      <td>2.197225</td>\n",
       "      <td>0</td>\n",
       "      <td>0</td>\n",
       "      <td>0</td>\n",
       "      <td>0</td>\n",
       "      <td>1</td>\n",
       "      <td>0</td>\n",
       "      <td>0</td>\n",
       "      <td>0</td>\n",
       "      <td>0</td>\n",
       "      <td>0</td>\n",
       "      <td>0</td>\n",
       "      <td>0</td>\n",
       "      <td>1</td>\n",
       "    </tr>\n",
       "  </tbody>\n",
       "</table>\n",
       "</div>"
      ],
      "text/plain": [
       "      day             name                                               info  \\\n",
       "88065  28  Andrew Sardanis  , 89, Cypriot-Zambian journalist and businessman.   \n",
       "74989  27  Sir David Sieff                        , 80, British businessman .   \n",
       "\n",
       "                                                link  num_references  year  \\\n",
       "88065  https://en.wikipedia.org/wiki/Andrew_Sardanis              16  2021   \n",
       "74989      https://en.wikipedia.org/wiki/David_Sieff               8  2019   \n",
       "\n",
       "          month     info_parenth info_1 info_2 info_3 info_4 info_5 info_6  \\\n",
       "88065  February             None   None          None   None   None   None   \n",
       "74989       May  Marks & Spencer   None          None   None   None   None   \n",
       "\n",
       "      info_7 info_8 info_9 info_10 info_11   age cause_of_death  \\\n",
       "88065   None   None   None    None    None  89.0           None   \n",
       "74989   None   None   None    None    None  80.0           None   \n",
       "\n",
       "                                                    place_1 place_2  \\\n",
       "88065                                                Cyprus  Zambia   \n",
       "74989  United Kingdom of Great Britain and Northern Ireland    None   \n",
       "\n",
       "      info_parenth_copy  log_num_references  sciences  social  spiritual  \\\n",
       "88065              None            2.833213         0       0          0   \n",
       "74989   Marks & Spencer            2.197225         0       0          0   \n",
       "\n",
       "       academia_humanities  business_farming  arts  sports  \\\n",
       "88065                    0                 1     1       0   \n",
       "74989                    0                 1     0       0   \n",
       "\n",
       "       law_enf_military_operator  politics_govt_law  crime  \\\n",
       "88065                          0                  0      0   \n",
       "74989                          0                  0      0   \n",
       "\n",
       "       event_record_other  other_species  num_categories  \n",
       "88065                   0              0               2  \n",
       "74989                   0              0               1  "
      ]
     },
     "execution_count": 75,
     "metadata": {},
     "output_type": "execute_result"
    },
    {
     "data": {
      "application/javascript": [
       "\n",
       "            setTimeout(function() {\n",
       "                var nbb_cell_id = 75;\n",
       "                var nbb_unformatted_code = \"%%time\\n\\n# Dictionary version\\nsearch_dict = known_for_dict\\n\\n# Column to check\\ncolumn = 'info_2'\\n\\n# Dataframe\\ndataframe = df[column].notna()\\n\\n# For loop to find role in column and extract it as category\\nfor category, category_lst in search_dict.items():\\n    for role in category_lst:\\n        for index in dataframe.index:\\n            item = df.loc[index, column]\\n            if item:\\n                if role in item:\\n                    df.loc[index, category] = 1\\n                    df.loc[index, column] = item.replace(role, '').strip()\\n\\n# Updating num_categories\\ndf[\\\"num_categories\\\"] = df[known_for_dict.keys()].sum(axis=1)\\n\\n# Checking a sample of rows\\ndf[df['business_farming'] ==1].sample(2)\";\n",
       "                var nbb_formatted_code = \"%%time\\n\\n# Dictionary version\\nsearch_dict = known_for_dict\\n\\n# Column to check\\ncolumn = 'info_2'\\n\\n# Dataframe\\ndataframe = df[column].notna()\\n\\n# For loop to find role in column and extract it as category\\nfor category, category_lst in search_dict.items():\\n    for role in category_lst:\\n        for index in dataframe.index:\\n            item = df.loc[index, column]\\n            if item:\\n                if role in item:\\n                    df.loc[index, category] = 1\\n                    df.loc[index, column] = item.replace(role, '').strip()\\n\\n# Updating num_categories\\ndf[\\\"num_categories\\\"] = df[known_for_dict.keys()].sum(axis=1)\\n\\n# Checking a sample of rows\\ndf[df['business_farming'] ==1].sample(2)\";\n",
       "                var nbb_cells = Jupyter.notebook.get_cells();\n",
       "                for (var i = 0; i < nbb_cells.length; ++i) {\n",
       "                    if (nbb_cells[i].input_prompt_number == nbb_cell_id) {\n",
       "                        if (nbb_cells[i].get_text() == nbb_unformatted_code) {\n",
       "                             nbb_cells[i].set_text(nbb_formatted_code);\n",
       "                        }\n",
       "                        break;\n",
       "                    }\n",
       "                }\n",
       "            }, 500);\n",
       "            "
      ],
      "text/plain": [
       "<IPython.core.display.Javascript object>"
      ]
     },
     "metadata": {},
     "output_type": "display_data"
    }
   ],
   "source": [
    "%%time\n",
    "\n",
    "# Dictionary version\n",
    "search_dict = known_for_dict\n",
    "\n",
    "# Column to check\n",
    "column = 'info_2'\n",
    "\n",
    "# Dataframe\n",
    "dataframe = df[column].notna()\n",
    "\n",
    "# For loop to find role in column and extract it as category\n",
    "for category, category_lst in search_dict.items():\n",
    "    for role in category_lst:\n",
    "        for index in dataframe.index:\n",
    "            item = df.loc[index, column]\n",
    "            if item:\n",
    "                if role in item:\n",
    "                    df.loc[index, category] = 1\n",
    "                    df.loc[index, column] = item.replace(role, '').strip()\n",
    "\n",
    "# Updating num_categories\n",
    "df[\"num_categories\"] = df[known_for_dict.keys()].sum(axis=1)\n",
    "\n",
    "# Checking a sample of rows\n",
    "df[df['business_farming'] ==1].sample(2)"
   ]
  },
  {
   "cell_type": "markdown",
   "id": "36504d6e",
   "metadata": {},
   "source": [
    "#### Checking the Number of Rows without a First Category"
   ]
  },
  {
   "cell_type": "code",
   "execution_count": 76,
   "id": "a9ff246d",
   "metadata": {},
   "outputs": [
    {
     "name": "stdout",
     "output_type": "stream",
     "text": [
      "There are 30254 entries without any known_for category.\n"
     ]
    },
    {
     "data": {
      "application/javascript": [
       "\n",
       "            setTimeout(function() {\n",
       "                var nbb_cell_id = 76;\n",
       "                var nbb_unformatted_code = \"# Checking the number of rows without a first category\\nprint(\\n    f'There are {len(df[df[\\\"num_categories\\\"]==0])} entries without any known_for category.'\\n)\";\n",
       "                var nbb_formatted_code = \"# Checking the number of rows without a first category\\nprint(\\n    f'There are {len(df[df[\\\"num_categories\\\"]==0])} entries without any known_for category.'\\n)\";\n",
       "                var nbb_cells = Jupyter.notebook.get_cells();\n",
       "                for (var i = 0; i < nbb_cells.length; ++i) {\n",
       "                    if (nbb_cells[i].input_prompt_number == nbb_cell_id) {\n",
       "                        if (nbb_cells[i].get_text() == nbb_unformatted_code) {\n",
       "                             nbb_cells[i].set_text(nbb_formatted_code);\n",
       "                        }\n",
       "                        break;\n",
       "                    }\n",
       "                }\n",
       "            }, 500);\n",
       "            "
      ],
      "text/plain": [
       "<IPython.core.display.Javascript object>"
      ]
     },
     "metadata": {},
     "output_type": "display_data"
    }
   ],
   "source": [
    "# Checking the number of rows without a first category\n",
    "print(\n",
    "    f'There are {len(df[df[\"num_categories\"]==0])} entries without any known_for category.'\n",
    ")"
   ]
  },
  {
   "cell_type": "markdown",
   "id": "ccce705c",
   "metadata": {},
   "source": [
    "#### Observations:\n",
    "- We will proceed to rebuild `known_for_dict` for the next iteration."
   ]
  },
  {
   "cell_type": "markdown",
   "id": "a3a8aa6c",
   "metadata": {},
   "source": [
    "#### Finding `known_for` Roles in `info_2`"
   ]
  },
  {
   "cell_type": "code",
   "execution_count": 77,
   "id": "15ce8ff7",
   "metadata": {},
   "outputs": [
    {
     "data": {
      "application/javascript": [
       "\n",
       "            setTimeout(function() {\n",
       "                var nbb_cell_id = 77;\n",
       "                var nbb_unformatted_code = \"# Obtaining values for column and their counts\\nroles_list = df[\\\"info_2\\\"].value_counts(ascending=True).index.tolist()\";\n",
       "                var nbb_formatted_code = \"# Obtaining values for column and their counts\\nroles_list = df[\\\"info_2\\\"].value_counts(ascending=True).index.tolist()\";\n",
       "                var nbb_cells = Jupyter.notebook.get_cells();\n",
       "                for (var i = 0; i < nbb_cells.length; ++i) {\n",
       "                    if (nbb_cells[i].input_prompt_number == nbb_cell_id) {\n",
       "                        if (nbb_cells[i].get_text() == nbb_unformatted_code) {\n",
       "                             nbb_cells[i].set_text(nbb_formatted_code);\n",
       "                        }\n",
       "                        break;\n",
       "                    }\n",
       "                }\n",
       "            }, 500);\n",
       "            "
      ],
      "text/plain": [
       "<IPython.core.display.Javascript object>"
      ]
     },
     "metadata": {},
     "output_type": "display_data"
    }
   ],
   "source": [
    "# Obtaining values for column and their counts\n",
    "roles_list = df[\"info_2\"].value_counts(ascending=True).index.tolist()"
   ]
  },
  {
   "cell_type": "code",
   "execution_count": 78,
   "id": "289a0068",
   "metadata": {},
   "outputs": [
    {
     "data": {
      "application/javascript": [
       "\n",
       "            setTimeout(function() {\n",
       "                var nbb_cell_id = 78;\n",
       "                var nbb_unformatted_code = \"# # Code to check each value\\n# roles_list.pop()\";\n",
       "                var nbb_formatted_code = \"# # Code to check each value\\n# roles_list.pop()\";\n",
       "                var nbb_cells = Jupyter.notebook.get_cells();\n",
       "                for (var i = 0; i < nbb_cells.length; ++i) {\n",
       "                    if (nbb_cells[i].input_prompt_number == nbb_cell_id) {\n",
       "                        if (nbb_cells[i].get_text() == nbb_unformatted_code) {\n",
       "                             nbb_cells[i].set_text(nbb_formatted_code);\n",
       "                        }\n",
       "                        break;\n",
       "                    }\n",
       "                }\n",
       "            }, 500);\n",
       "            "
      ],
      "text/plain": [
       "<IPython.core.display.Javascript object>"
      ]
     },
     "metadata": {},
     "output_type": "display_data"
    }
   ],
   "source": [
    "# # Code to check each value\n",
    "# roles_list.pop()"
   ]
  },
  {
   "cell_type": "code",
   "execution_count": 79,
   "id": "ccc64624",
   "metadata": {},
   "outputs": [
    {
     "data": {
      "application/javascript": [
       "\n",
       "            setTimeout(function() {\n",
       "                var nbb_cell_id = 79;\n",
       "                var nbb_unformatted_code = \"# # Create specific_roles_list for above popped value\\n# specific_roles_list = (\\n#     df.loc[\\n#         [\\n#             index\\n#             for index in df[df[\\\"info_2\\\"].notna()].index\\n#             if \\\"soldier\\\" in df.loc[index, \\\"info_2\\\"]\\n#         ],\\n#         \\\"info_2\\\",\\n#     ]\\n#     .value_counts()\\n#     .index.tolist()\\n# )\";\n",
       "                var nbb_formatted_code = \"# # Create specific_roles_list for above popped value\\n# specific_roles_list = (\\n#     df.loc[\\n#         [\\n#             index\\n#             for index in df[df[\\\"info_2\\\"].notna()].index\\n#             if \\\"soldier\\\" in df.loc[index, \\\"info_2\\\"]\\n#         ],\\n#         \\\"info_2\\\",\\n#     ]\\n#     .value_counts()\\n#     .index.tolist()\\n# )\";\n",
       "                var nbb_cells = Jupyter.notebook.get_cells();\n",
       "                for (var i = 0; i < nbb_cells.length; ++i) {\n",
       "                    if (nbb_cells[i].input_prompt_number == nbb_cell_id) {\n",
       "                        if (nbb_cells[i].get_text() == nbb_unformatted_code) {\n",
       "                             nbb_cells[i].set_text(nbb_formatted_code);\n",
       "                        }\n",
       "                        break;\n",
       "                    }\n",
       "                }\n",
       "            }, 500);\n",
       "            "
      ],
      "text/plain": [
       "<IPython.core.display.Javascript object>"
      ]
     },
     "metadata": {},
     "output_type": "display_data"
    }
   ],
   "source": [
    "# # Create specific_roles_list for above popped value\n",
    "# specific_roles_list = (\n",
    "#     df.loc[\n",
    "#         [\n",
    "#             index\n",
    "#             for index in df[df[\"info_2\"].notna()].index\n",
    "#             if \"soldier\" in df.loc[index, \"info_2\"]\n",
    "#         ],\n",
    "#         \"info_2\",\n",
    "#     ]\n",
    "#     .value_counts()\n",
    "#     .index.tolist()\n",
    "# )"
   ]
  },
  {
   "cell_type": "code",
   "execution_count": 80,
   "id": "4f2e4146",
   "metadata": {},
   "outputs": [
    {
     "data": {
      "application/javascript": [
       "\n",
       "            setTimeout(function() {\n",
       "                var nbb_cell_id = 80;\n",
       "                var nbb_unformatted_code = \"# # Code to check each specific value\\n# specific_roles_list.pop()\";\n",
       "                var nbb_formatted_code = \"# # Code to check each specific value\\n# specific_roles_list.pop()\";\n",
       "                var nbb_cells = Jupyter.notebook.get_cells();\n",
       "                for (var i = 0; i < nbb_cells.length; ++i) {\n",
       "                    if (nbb_cells[i].input_prompt_number == nbb_cell_id) {\n",
       "                        if (nbb_cells[i].get_text() == nbb_unformatted_code) {\n",
       "                             nbb_cells[i].set_text(nbb_formatted_code);\n",
       "                        }\n",
       "                        break;\n",
       "                    }\n",
       "                }\n",
       "            }, 500);\n",
       "            "
      ],
      "text/plain": [
       "<IPython.core.display.Javascript object>"
      ]
     },
     "metadata": {},
     "output_type": "display_data"
    }
   ],
   "source": [
    "# # Code to check each specific value\n",
    "# specific_roles_list.pop()"
   ]
  },
  {
   "cell_type": "code",
   "execution_count": 81,
   "id": "914c6d94",
   "metadata": {},
   "outputs": [
    {
     "data": {
      "application/javascript": [
       "\n",
       "            setTimeout(function() {\n",
       "                var nbb_cell_id = 81;\n",
       "                var nbb_unformatted_code = \"# # Example code to quick-check a specific entry\\n# df[df[\\\"info_2\\\"] == \\\"child soldier\\\"]\";\n",
       "                var nbb_formatted_code = \"# # Example code to quick-check a specific entry\\n# df[df[\\\"info_2\\\"] == \\\"child soldier\\\"]\";\n",
       "                var nbb_cells = Jupyter.notebook.get_cells();\n",
       "                for (var i = 0; i < nbb_cells.length; ++i) {\n",
       "                    if (nbb_cells[i].input_prompt_number == nbb_cell_id) {\n",
       "                        if (nbb_cells[i].get_text() == nbb_unformatted_code) {\n",
       "                             nbb_cells[i].set_text(nbb_formatted_code);\n",
       "                        }\n",
       "                        break;\n",
       "                    }\n",
       "                }\n",
       "            }, 500);\n",
       "            "
      ],
      "text/plain": [
       "<IPython.core.display.Javascript object>"
      ]
     },
     "metadata": {},
     "output_type": "display_data"
    }
   ],
   "source": [
    "# # Example code to quick-check a specific entry\n",
    "# df[df[\"info_2\"] == \"child soldier\"]"
   ]
  },
  {
   "cell_type": "markdown",
   "id": "44ee0314",
   "metadata": {},
   "source": [
    "#### Creating Lists for Each `known_for` Category"
   ]
  },
  {
   "cell_type": "code",
   "execution_count": 82,
   "id": "c39943e1",
   "metadata": {},
   "outputs": [
    {
     "data": {
      "application/javascript": [
       "\n",
       "            setTimeout(function() {\n",
       "                var nbb_cell_id = 82;\n",
       "                var nbb_unformatted_code = \"# Creating lists for each category\\npolitics_govt_law = [\\n    \\\"Her Majesty Representative at Ascot\\\",\\n]\\n\\narts = []\\nsports = []\\nsciences = []\\n\\nbusiness_farming = []\\nacademia_humanities = []\\nlaw_enf_military_operator = [\\n    \\\"soldier during World War II and recipient of the Victoria Cross\\\",\\n    \\\"soldier and member of a Special Forces Airborne Reserve Unit\\\",\\n    \\\"Army soldier awarded the Medal of Honor during World War II\\\",\\n    \\\"Army World War II soldier who received the Medal of Honor\\\",\\n    \\\"soldier and Medal of Honor recipient for actions in War\\\",\\n    \\\"World War II soldier portrayed by Donnie Wahlberg in\\\",\\n    \\\"World War II soldier and Legion of honour recipient\\\",\\n    \\\"Army soldier who was killed by the Taliban in istan\\\",\\n    \\\"Army soldier and a recipient of the Medal of Honor\\\",\\n    \\\"Army soldier and recipient of the Medal of Honor\\\",\\n    \\\"World War II Waffen SS soldier and Panzer ace\\\",\\n    \\\"Army soldier and recipient the Medal of Honor\\\",\\n    \\\"soldier and recipient of the Medal of Honor\\\",\\n    \\\"soldier and recipient of the Victoria Cross\\\",\\n    \\\"SAS soldier involved in the Embassy Siege\\\",\\n    \\\"Army soldier and Medal of Honor recipient\\\",\\n    \\\"World War II soldier and prisoner of war\\\",\\n    \\\"soldier and Medal of Honor recipient\\\",\\n    \\\"soldier and Victoria Cross recipient\\\",\\n    \\\"Army soldier during World War II\\\",\\n    \\\"soldier and World War I veteran\\\",\\n    \\\"soldier and airborne mechanic\\\",\\n    \\\"soldier serving in the War\\\",\\n    \\\"soldier and member of the\\\",\\n    \\\"Nagorno Karabakh soldier\\\",\\n    \\\"soldier and game warden\\\",\\n    \\\"soldier during the War\\\",\\n    \\\"Army infantry soldier\\\",\\n    \\\"soldier and military\\\",\\n    \\\"World War II soldier\\\",\\n    \\\"soldier in the Army\\\",\\n    \\\"Danzig soldier and\\\",\\n    \\\"Navy SEAL soldier\\\",\\n    \\\"volunteer soldier\\\",\\n    \\\"decorated soldier\\\",\\n    \\\"Army and soldier\\\",\\n    \\\"Army soldier and\\\",\\n    \\\"combat soldier\\\",\\n    \\\"Gurkha soldier\\\",\\n    \\\"rebel soldier\\\",\\n    \\\"child soldier\\\",\\n    \\\"WWII soldier\\\",\\n    \\\"army soldier\\\",\\n    \\\"Army soldier\\\",\\n    \\\"soldier and\\\",\\n    \\\"and soldier\\\",\\n    \\\"soldier\\\",\\n]\\nspiritual = []\\nsocial = []\\ncrime = []\\nevent_record_other = []\\nother_species = []\";\n",
       "                var nbb_formatted_code = \"# Creating lists for each category\\npolitics_govt_law = [\\n    \\\"Her Majesty Representative at Ascot\\\",\\n]\\n\\narts = []\\nsports = []\\nsciences = []\\n\\nbusiness_farming = []\\nacademia_humanities = []\\nlaw_enf_military_operator = [\\n    \\\"soldier during World War II and recipient of the Victoria Cross\\\",\\n    \\\"soldier and member of a Special Forces Airborne Reserve Unit\\\",\\n    \\\"Army soldier awarded the Medal of Honor during World War II\\\",\\n    \\\"Army World War II soldier who received the Medal of Honor\\\",\\n    \\\"soldier and Medal of Honor recipient for actions in War\\\",\\n    \\\"World War II soldier portrayed by Donnie Wahlberg in\\\",\\n    \\\"World War II soldier and Legion of honour recipient\\\",\\n    \\\"Army soldier who was killed by the Taliban in istan\\\",\\n    \\\"Army soldier and a recipient of the Medal of Honor\\\",\\n    \\\"Army soldier and recipient of the Medal of Honor\\\",\\n    \\\"World War II Waffen SS soldier and Panzer ace\\\",\\n    \\\"Army soldier and recipient the Medal of Honor\\\",\\n    \\\"soldier and recipient of the Medal of Honor\\\",\\n    \\\"soldier and recipient of the Victoria Cross\\\",\\n    \\\"SAS soldier involved in the Embassy Siege\\\",\\n    \\\"Army soldier and Medal of Honor recipient\\\",\\n    \\\"World War II soldier and prisoner of war\\\",\\n    \\\"soldier and Medal of Honor recipient\\\",\\n    \\\"soldier and Victoria Cross recipient\\\",\\n    \\\"Army soldier during World War II\\\",\\n    \\\"soldier and World War I veteran\\\",\\n    \\\"soldier and airborne mechanic\\\",\\n    \\\"soldier serving in the War\\\",\\n    \\\"soldier and member of the\\\",\\n    \\\"Nagorno Karabakh soldier\\\",\\n    \\\"soldier and game warden\\\",\\n    \\\"soldier during the War\\\",\\n    \\\"Army infantry soldier\\\",\\n    \\\"soldier and military\\\",\\n    \\\"World War II soldier\\\",\\n    \\\"soldier in the Army\\\",\\n    \\\"Danzig soldier and\\\",\\n    \\\"Navy SEAL soldier\\\",\\n    \\\"volunteer soldier\\\",\\n    \\\"decorated soldier\\\",\\n    \\\"Army and soldier\\\",\\n    \\\"Army soldier and\\\",\\n    \\\"combat soldier\\\",\\n    \\\"Gurkha soldier\\\",\\n    \\\"rebel soldier\\\",\\n    \\\"child soldier\\\",\\n    \\\"WWII soldier\\\",\\n    \\\"army soldier\\\",\\n    \\\"Army soldier\\\",\\n    \\\"soldier and\\\",\\n    \\\"and soldier\\\",\\n    \\\"soldier\\\",\\n]\\nspiritual = []\\nsocial = []\\ncrime = []\\nevent_record_other = []\\nother_species = []\";\n",
       "                var nbb_cells = Jupyter.notebook.get_cells();\n",
       "                for (var i = 0; i < nbb_cells.length; ++i) {\n",
       "                    if (nbb_cells[i].input_prompt_number == nbb_cell_id) {\n",
       "                        if (nbb_cells[i].get_text() == nbb_unformatted_code) {\n",
       "                             nbb_cells[i].set_text(nbb_formatted_code);\n",
       "                        }\n",
       "                        break;\n",
       "                    }\n",
       "                }\n",
       "            }, 500);\n",
       "            "
      ],
      "text/plain": [
       "<IPython.core.display.Javascript object>"
      ]
     },
     "metadata": {},
     "output_type": "display_data"
    }
   ],
   "source": [
    "# Creating lists for each category\n",
    "politics_govt_law = [\n",
    "    \"Her Majesty Representative at Ascot\",\n",
    "]\n",
    "\n",
    "arts = []\n",
    "sports = []\n",
    "sciences = []\n",
    "\n",
    "business_farming = []\n",
    "academia_humanities = []\n",
    "law_enf_military_operator = [\n",
    "    \"soldier during World War II and recipient of the Victoria Cross\",\n",
    "    \"soldier and member of a Special Forces Airborne Reserve Unit\",\n",
    "    \"Army soldier awarded the Medal of Honor during World War II\",\n",
    "    \"Army World War II soldier who received the Medal of Honor\",\n",
    "    \"soldier and Medal of Honor recipient for actions in War\",\n",
    "    \"World War II soldier portrayed by Donnie Wahlberg in\",\n",
    "    \"World War II soldier and Legion of honour recipient\",\n",
    "    \"Army soldier who was killed by the Taliban in istan\",\n",
    "    \"Army soldier and a recipient of the Medal of Honor\",\n",
    "    \"Army soldier and recipient of the Medal of Honor\",\n",
    "    \"World War II Waffen SS soldier and Panzer ace\",\n",
    "    \"Army soldier and recipient the Medal of Honor\",\n",
    "    \"soldier and recipient of the Medal of Honor\",\n",
    "    \"soldier and recipient of the Victoria Cross\",\n",
    "    \"SAS soldier involved in the Embassy Siege\",\n",
    "    \"Army soldier and Medal of Honor recipient\",\n",
    "    \"World War II soldier and prisoner of war\",\n",
    "    \"soldier and Medal of Honor recipient\",\n",
    "    \"soldier and Victoria Cross recipient\",\n",
    "    \"Army soldier during World War II\",\n",
    "    \"soldier and World War I veteran\",\n",
    "    \"soldier and airborne mechanic\",\n",
    "    \"soldier serving in the War\",\n",
    "    \"soldier and member of the\",\n",
    "    \"Nagorno Karabakh soldier\",\n",
    "    \"soldier and game warden\",\n",
    "    \"soldier during the War\",\n",
    "    \"Army infantry soldier\",\n",
    "    \"soldier and military\",\n",
    "    \"World War II soldier\",\n",
    "    \"soldier in the Army\",\n",
    "    \"Danzig soldier and\",\n",
    "    \"Navy SEAL soldier\",\n",
    "    \"volunteer soldier\",\n",
    "    \"decorated soldier\",\n",
    "    \"Army and soldier\",\n",
    "    \"Army soldier and\",\n",
    "    \"combat soldier\",\n",
    "    \"Gurkha soldier\",\n",
    "    \"rebel soldier\",\n",
    "    \"child soldier\",\n",
    "    \"WWII soldier\",\n",
    "    \"army soldier\",\n",
    "    \"Army soldier\",\n",
    "    \"soldier and\",\n",
    "    \"and soldier\",\n",
    "    \"soldier\",\n",
    "]\n",
    "spiritual = []\n",
    "social = []\n",
    "crime = []\n",
    "event_record_other = []\n",
    "other_species = []"
   ]
  },
  {
   "cell_type": "markdown",
   "id": "0203fdbd",
   "metadata": {},
   "source": [
    "#### Creating `known_for_dict` Dictionary of Category Keys and Specific Role Lists of Values"
   ]
  },
  {
   "cell_type": "code",
   "execution_count": 83,
   "id": "ad585675",
   "metadata": {},
   "outputs": [
    {
     "data": {
      "application/javascript": [
       "\n",
       "            setTimeout(function() {\n",
       "                var nbb_cell_id = 83;\n",
       "                var nbb_unformatted_code = \"# Combining separate lists into one dictionary\\nknown_for_dict = {\\n    \\\"social\\\": social,\\n    \\\"spiritual\\\": spiritual,\\n    \\\"academia_humanities\\\": academia_humanities,\\n    \\\"business_farming\\\": business_farming,\\n    \\\"sciences\\\": sciences,\\n    \\\"politics_govt_law\\\": politics_govt_law,\\n    \\\"law_enf_military_operator\\\": law_enf_military_operator,\\n    \\\"crime\\\": crime,\\n    \\\"event_record_other\\\": event_record_other,\\n    \\\"other_species\\\": other_species,\\n    \\\"arts\\\": arts,\\n    \\\"sports\\\": sports,\\n}\";\n",
       "                var nbb_formatted_code = \"# Combining separate lists into one dictionary\\nknown_for_dict = {\\n    \\\"social\\\": social,\\n    \\\"spiritual\\\": spiritual,\\n    \\\"academia_humanities\\\": academia_humanities,\\n    \\\"business_farming\\\": business_farming,\\n    \\\"sciences\\\": sciences,\\n    \\\"politics_govt_law\\\": politics_govt_law,\\n    \\\"law_enf_military_operator\\\": law_enf_military_operator,\\n    \\\"crime\\\": crime,\\n    \\\"event_record_other\\\": event_record_other,\\n    \\\"other_species\\\": other_species,\\n    \\\"arts\\\": arts,\\n    \\\"sports\\\": sports,\\n}\";\n",
       "                var nbb_cells = Jupyter.notebook.get_cells();\n",
       "                for (var i = 0; i < nbb_cells.length; ++i) {\n",
       "                    if (nbb_cells[i].input_prompt_number == nbb_cell_id) {\n",
       "                        if (nbb_cells[i].get_text() == nbb_unformatted_code) {\n",
       "                             nbb_cells[i].set_text(nbb_formatted_code);\n",
       "                        }\n",
       "                        break;\n",
       "                    }\n",
       "                }\n",
       "            }, 500);\n",
       "            "
      ],
      "text/plain": [
       "<IPython.core.display.Javascript object>"
      ]
     },
     "metadata": {},
     "output_type": "display_data"
    }
   ],
   "source": [
    "# Combining separate lists into one dictionary\n",
    "known_for_dict = {\n",
    "    \"social\": social,\n",
    "    \"spiritual\": spiritual,\n",
    "    \"academia_humanities\": academia_humanities,\n",
    "    \"business_farming\": business_farming,\n",
    "    \"sciences\": sciences,\n",
    "    \"politics_govt_law\": politics_govt_law,\n",
    "    \"law_enf_military_operator\": law_enf_military_operator,\n",
    "    \"crime\": crime,\n",
    "    \"event_record_other\": event_record_other,\n",
    "    \"other_species\": other_species,\n",
    "    \"arts\": arts,\n",
    "    \"sports\": sports,\n",
    "}"
   ]
  },
  {
   "cell_type": "markdown",
   "id": "6742bae8",
   "metadata": {},
   "source": [
    "#### Extracting Category from `info_2`"
   ]
  },
  {
   "cell_type": "code",
   "execution_count": 84,
   "id": "400f7b53",
   "metadata": {},
   "outputs": [
    {
     "name": "stdout",
     "output_type": "stream",
     "text": [
      "CPU times: total: 25.2 s\n",
      "Wall time: 25.2 s\n"
     ]
    },
    {
     "data": {
      "text/html": [
       "<div>\n",
       "<style scoped>\n",
       "    .dataframe tbody tr th:only-of-type {\n",
       "        vertical-align: middle;\n",
       "    }\n",
       "\n",
       "    .dataframe tbody tr th {\n",
       "        vertical-align: top;\n",
       "    }\n",
       "\n",
       "    .dataframe thead th {\n",
       "        text-align: right;\n",
       "    }\n",
       "</style>\n",
       "<table border=\"1\" class=\"dataframe\">\n",
       "  <thead>\n",
       "    <tr style=\"text-align: right;\">\n",
       "      <th></th>\n",
       "      <th>day</th>\n",
       "      <th>name</th>\n",
       "      <th>info</th>\n",
       "      <th>link</th>\n",
       "      <th>num_references</th>\n",
       "      <th>year</th>\n",
       "      <th>month</th>\n",
       "      <th>info_parenth</th>\n",
       "      <th>info_1</th>\n",
       "      <th>info_2</th>\n",
       "      <th>info_3</th>\n",
       "      <th>info_4</th>\n",
       "      <th>info_5</th>\n",
       "      <th>info_6</th>\n",
       "      <th>info_7</th>\n",
       "      <th>info_8</th>\n",
       "      <th>info_9</th>\n",
       "      <th>info_10</th>\n",
       "      <th>info_11</th>\n",
       "      <th>age</th>\n",
       "      <th>cause_of_death</th>\n",
       "      <th>place_1</th>\n",
       "      <th>place_2</th>\n",
       "      <th>info_parenth_copy</th>\n",
       "      <th>log_num_references</th>\n",
       "      <th>sciences</th>\n",
       "      <th>social</th>\n",
       "      <th>spiritual</th>\n",
       "      <th>academia_humanities</th>\n",
       "      <th>business_farming</th>\n",
       "      <th>arts</th>\n",
       "      <th>sports</th>\n",
       "      <th>law_enf_military_operator</th>\n",
       "      <th>politics_govt_law</th>\n",
       "      <th>crime</th>\n",
       "      <th>event_record_other</th>\n",
       "      <th>other_species</th>\n",
       "      <th>num_categories</th>\n",
       "    </tr>\n",
       "  </thead>\n",
       "  <tbody>\n",
       "    <tr>\n",
       "      <th>29933</th>\n",
       "      <td>7</td>\n",
       "      <td>Mark Ritts</td>\n",
       "      <td>, 63, American actor and puppeteer , kidney cancer.</td>\n",
       "      <td>https://en.wikipedia.org/wiki/Mark_Ritts</td>\n",
       "      <td>4</td>\n",
       "      <td>2009</td>\n",
       "      <td>December</td>\n",
       "      <td></td>\n",
       "      <td>None</td>\n",
       "      <td></td>\n",
       "      <td>kidney cancer</td>\n",
       "      <td>None</td>\n",
       "      <td>None</td>\n",
       "      <td>None</td>\n",
       "      <td>None</td>\n",
       "      <td>None</td>\n",
       "      <td>None</td>\n",
       "      <td>None</td>\n",
       "      <td>None</td>\n",
       "      <td>63.0</td>\n",
       "      <td>None</td>\n",
       "      <td>United States of America</td>\n",
       "      <td>None</td>\n",
       "      <td></td>\n",
       "      <td>1.609438</td>\n",
       "      <td>0</td>\n",
       "      <td>0</td>\n",
       "      <td>0</td>\n",
       "      <td>0</td>\n",
       "      <td>0</td>\n",
       "      <td>1</td>\n",
       "      <td>0</td>\n",
       "      <td>0</td>\n",
       "      <td>0</td>\n",
       "      <td>0</td>\n",
       "      <td>0</td>\n",
       "      <td>0</td>\n",
       "      <td>1</td>\n",
       "    </tr>\n",
       "    <tr>\n",
       "      <th>80262</th>\n",
       "      <td>26</td>\n",
       "      <td>Hamish Wilson</td>\n",
       "      <td>, 77, Scottish actor , COVID-19.</td>\n",
       "      <td>https://en.wikipedia.org/wiki/Hamish_Wilson</td>\n",
       "      <td>5</td>\n",
       "      <td>2020</td>\n",
       "      <td>March</td>\n",
       "      <td>Radio Forth and radio producer Radio Clyde,</td>\n",
       "      <td>None</td>\n",
       "      <td></td>\n",
       "      <td>COVID</td>\n",
       "      <td>None</td>\n",
       "      <td>None</td>\n",
       "      <td>None</td>\n",
       "      <td>None</td>\n",
       "      <td>None</td>\n",
       "      <td>None</td>\n",
       "      <td>None</td>\n",
       "      <td>None</td>\n",
       "      <td>77.0</td>\n",
       "      <td>None</td>\n",
       "      <td>Scotland</td>\n",
       "      <td>None</td>\n",
       "      <td>Radio Forth and radio producer Radio Clyde,</td>\n",
       "      <td>1.791759</td>\n",
       "      <td>0</td>\n",
       "      <td>0</td>\n",
       "      <td>0</td>\n",
       "      <td>0</td>\n",
       "      <td>0</td>\n",
       "      <td>1</td>\n",
       "      <td>0</td>\n",
       "      <td>0</td>\n",
       "      <td>0</td>\n",
       "      <td>0</td>\n",
       "      <td>0</td>\n",
       "      <td>0</td>\n",
       "      <td>1</td>\n",
       "    </tr>\n",
       "  </tbody>\n",
       "</table>\n",
       "</div>"
      ],
      "text/plain": [
       "      day           name                                                 info  \\\n",
       "29933   7     Mark Ritts  , 63, American actor and puppeteer , kidney cancer.   \n",
       "80262  26  Hamish Wilson                     , 77, Scottish actor , COVID-19.   \n",
       "\n",
       "                                              link  num_references  year  \\\n",
       "29933     https://en.wikipedia.org/wiki/Mark_Ritts               4  2009   \n",
       "80262  https://en.wikipedia.org/wiki/Hamish_Wilson               5  2020   \n",
       "\n",
       "          month                                 info_parenth info_1 info_2  \\\n",
       "29933  December                                                None          \n",
       "80262     March  Radio Forth and radio producer Radio Clyde,   None          \n",
       "\n",
       "              info_3 info_4 info_5 info_6 info_7 info_8 info_9 info_10  \\\n",
       "29933  kidney cancer   None   None   None   None   None   None    None   \n",
       "80262          COVID   None   None   None   None   None   None    None   \n",
       "\n",
       "      info_11   age cause_of_death                   place_1 place_2  \\\n",
       "29933    None  63.0           None  United States of America    None   \n",
       "80262    None  77.0           None                  Scotland    None   \n",
       "\n",
       "                                 info_parenth_copy  log_num_references  \\\n",
       "29933                                                         1.609438   \n",
       "80262  Radio Forth and radio producer Radio Clyde,            1.791759   \n",
       "\n",
       "       sciences  social  spiritual  academia_humanities  business_farming  \\\n",
       "29933         0       0          0                    0                 0   \n",
       "80262         0       0          0                    0                 0   \n",
       "\n",
       "       arts  sports  law_enf_military_operator  politics_govt_law  crime  \\\n",
       "29933     1       0                          0                  0      0   \n",
       "80262     1       0                          0                  0      0   \n",
       "\n",
       "       event_record_other  other_species  num_categories  \n",
       "29933                   0              0               1  \n",
       "80262                   0              0               1  "
      ]
     },
     "execution_count": 84,
     "metadata": {},
     "output_type": "execute_result"
    },
    {
     "data": {
      "application/javascript": [
       "\n",
       "            setTimeout(function() {\n",
       "                var nbb_cell_id = 84;\n",
       "                var nbb_unformatted_code = \"%%time\\n\\n# Dictionary version\\nsearch_dict = known_for_dict\\n\\n# Column to check\\ncolumn = 'info_2'\\n\\n# Dataframe\\ndataframe = df[column].notna()\\n\\n# For loop to find role in column and extract it as category\\nfor category, category_lst in search_dict.items():\\n    for role in category_lst:\\n        for index in dataframe.index:\\n            item = df.loc[index, column]\\n            if item:\\n                if role in item:\\n                    df.loc[index, category] = 1\\n                    df.loc[index, column] = item.replace(role, '').strip()\\n\\n# Updating num_categories\\ndf[\\\"num_categories\\\"] = df[known_for_dict.keys()].sum(axis=1)\\n\\n# Checking a sample of rows\\ndf[df['arts'] ==1].sample(2)\";\n",
       "                var nbb_formatted_code = \"%%time\\n\\n# Dictionary version\\nsearch_dict = known_for_dict\\n\\n# Column to check\\ncolumn = 'info_2'\\n\\n# Dataframe\\ndataframe = df[column].notna()\\n\\n# For loop to find role in column and extract it as category\\nfor category, category_lst in search_dict.items():\\n    for role in category_lst:\\n        for index in dataframe.index:\\n            item = df.loc[index, column]\\n            if item:\\n                if role in item:\\n                    df.loc[index, category] = 1\\n                    df.loc[index, column] = item.replace(role, '').strip()\\n\\n# Updating num_categories\\ndf[\\\"num_categories\\\"] = df[known_for_dict.keys()].sum(axis=1)\\n\\n# Checking a sample of rows\\ndf[df['arts'] ==1].sample(2)\";\n",
       "                var nbb_cells = Jupyter.notebook.get_cells();\n",
       "                for (var i = 0; i < nbb_cells.length; ++i) {\n",
       "                    if (nbb_cells[i].input_prompt_number == nbb_cell_id) {\n",
       "                        if (nbb_cells[i].get_text() == nbb_unformatted_code) {\n",
       "                             nbb_cells[i].set_text(nbb_formatted_code);\n",
       "                        }\n",
       "                        break;\n",
       "                    }\n",
       "                }\n",
       "            }, 500);\n",
       "            "
      ],
      "text/plain": [
       "<IPython.core.display.Javascript object>"
      ]
     },
     "metadata": {},
     "output_type": "display_data"
    }
   ],
   "source": [
    "%%time\n",
    "\n",
    "# Dictionary version\n",
    "search_dict = known_for_dict\n",
    "\n",
    "# Column to check\n",
    "column = 'info_2'\n",
    "\n",
    "# Dataframe\n",
    "dataframe = df[column].notna()\n",
    "\n",
    "# For loop to find role in column and extract it as category\n",
    "for category, category_lst in search_dict.items():\n",
    "    for role in category_lst:\n",
    "        for index in dataframe.index:\n",
    "            item = df.loc[index, column]\n",
    "            if item:\n",
    "                if role in item:\n",
    "                    df.loc[index, category] = 1\n",
    "                    df.loc[index, column] = item.replace(role, '').strip()\n",
    "\n",
    "# Updating num_categories\n",
    "df[\"num_categories\"] = df[known_for_dict.keys()].sum(axis=1)\n",
    "\n",
    "# Checking a sample of rows\n",
    "df[df['arts'] ==1].sample(2)"
   ]
  },
  {
   "cell_type": "markdown",
   "id": "796d1fcc",
   "metadata": {},
   "source": [
    "#### Checking the Number of Rows without a First Category"
   ]
  },
  {
   "cell_type": "code",
   "execution_count": 85,
   "id": "d1eadb2e",
   "metadata": {},
   "outputs": [
    {
     "name": "stdout",
     "output_type": "stream",
     "text": [
      "There are 30044 entries without any known_for category.\n"
     ]
    },
    {
     "data": {
      "application/javascript": [
       "\n",
       "            setTimeout(function() {\n",
       "                var nbb_cell_id = 85;\n",
       "                var nbb_unformatted_code = \"# Checking the number of rows without a first category\\nprint(\\n    f'There are {len(df[df[\\\"num_categories\\\"]==0])} entries without any known_for category.'\\n)\";\n",
       "                var nbb_formatted_code = \"# Checking the number of rows without a first category\\nprint(\\n    f'There are {len(df[df[\\\"num_categories\\\"]==0])} entries without any known_for category.'\\n)\";\n",
       "                var nbb_cells = Jupyter.notebook.get_cells();\n",
       "                for (var i = 0; i < nbb_cells.length; ++i) {\n",
       "                    if (nbb_cells[i].input_prompt_number == nbb_cell_id) {\n",
       "                        if (nbb_cells[i].get_text() == nbb_unformatted_code) {\n",
       "                             nbb_cells[i].set_text(nbb_formatted_code);\n",
       "                        }\n",
       "                        break;\n",
       "                    }\n",
       "                }\n",
       "            }, 500);\n",
       "            "
      ],
      "text/plain": [
       "<IPython.core.display.Javascript object>"
      ]
     },
     "metadata": {},
     "output_type": "display_data"
    }
   ],
   "source": [
    "# Checking the number of rows without a first category\n",
    "print(\n",
    "    f'There are {len(df[df[\"num_categories\"]==0])} entries without any known_for category.'\n",
    ")"
   ]
  },
  {
   "cell_type": "markdown",
   "id": "765f302e",
   "metadata": {},
   "source": [
    "#### Observations:\n",
    "- We will proceed to rebuild `known_for_dict` for the next iteration."
   ]
  },
  {
   "cell_type": "markdown",
   "id": "50f445ce",
   "metadata": {},
   "source": [
    "#### Finding `known_for` Roles in `info_2`"
   ]
  },
  {
   "cell_type": "code",
   "execution_count": 86,
   "id": "9c6c4fef",
   "metadata": {},
   "outputs": [
    {
     "data": {
      "application/javascript": [
       "\n",
       "            setTimeout(function() {\n",
       "                var nbb_cell_id = 86;\n",
       "                var nbb_unformatted_code = \"# # Obtaining values for column and their counts\\n# roles_list = df[\\\"info_2\\\"].value_counts(ascending=True).index.tolist()\";\n",
       "                var nbb_formatted_code = \"# # Obtaining values for column and their counts\\n# roles_list = df[\\\"info_2\\\"].value_counts(ascending=True).index.tolist()\";\n",
       "                var nbb_cells = Jupyter.notebook.get_cells();\n",
       "                for (var i = 0; i < nbb_cells.length; ++i) {\n",
       "                    if (nbb_cells[i].input_prompt_number == nbb_cell_id) {\n",
       "                        if (nbb_cells[i].get_text() == nbb_unformatted_code) {\n",
       "                             nbb_cells[i].set_text(nbb_formatted_code);\n",
       "                        }\n",
       "                        break;\n",
       "                    }\n",
       "                }\n",
       "            }, 500);\n",
       "            "
      ],
      "text/plain": [
       "<IPython.core.display.Javascript object>"
      ]
     },
     "metadata": {},
     "output_type": "display_data"
    }
   ],
   "source": [
    "# # Obtaining values for column and their counts\n",
    "# roles_list = df[\"info_2\"].value_counts(ascending=True).index.tolist()"
   ]
  },
  {
   "cell_type": "code",
   "execution_count": 87,
   "id": "1216c469",
   "metadata": {},
   "outputs": [
    {
     "data": {
      "application/javascript": [
       "\n",
       "            setTimeout(function() {\n",
       "                var nbb_cell_id = 87;\n",
       "                var nbb_unformatted_code = \"# # Code to check each value\\n# roles_list.pop()\";\n",
       "                var nbb_formatted_code = \"# # Code to check each value\\n# roles_list.pop()\";\n",
       "                var nbb_cells = Jupyter.notebook.get_cells();\n",
       "                for (var i = 0; i < nbb_cells.length; ++i) {\n",
       "                    if (nbb_cells[i].input_prompt_number == nbb_cell_id) {\n",
       "                        if (nbb_cells[i].get_text() == nbb_unformatted_code) {\n",
       "                             nbb_cells[i].set_text(nbb_formatted_code);\n",
       "                        }\n",
       "                        break;\n",
       "                    }\n",
       "                }\n",
       "            }, 500);\n",
       "            "
      ],
      "text/plain": [
       "<IPython.core.display.Javascript object>"
      ]
     },
     "metadata": {},
     "output_type": "display_data"
    }
   ],
   "source": [
    "# # Code to check each value\n",
    "# roles_list.pop()"
   ]
  },
  {
   "cell_type": "code",
   "execution_count": 88,
   "id": "3863e883",
   "metadata": {},
   "outputs": [
    {
     "data": {
      "application/javascript": [
       "\n",
       "            setTimeout(function() {\n",
       "                var nbb_cell_id = 88;\n",
       "                var nbb_unformatted_code = \"# # Create specific_roles_list for above popped value\\n# specific_roles_list = (\\n#     df.loc[\\n#         [\\n#             index\\n#             for index in df[df[\\\"info_2\\\"].notna()].index\\n#             if \\\"conductor\\\" in df.loc[index, \\\"info_2\\\"]\\n#         ],\\n#         \\\"info_2\\\",\\n#     ]\\n#     .value_counts()\\n#     .index.tolist()\\n# )\";\n",
       "                var nbb_formatted_code = \"# # Create specific_roles_list for above popped value\\n# specific_roles_list = (\\n#     df.loc[\\n#         [\\n#             index\\n#             for index in df[df[\\\"info_2\\\"].notna()].index\\n#             if \\\"conductor\\\" in df.loc[index, \\\"info_2\\\"]\\n#         ],\\n#         \\\"info_2\\\",\\n#     ]\\n#     .value_counts()\\n#     .index.tolist()\\n# )\";\n",
       "                var nbb_cells = Jupyter.notebook.get_cells();\n",
       "                for (var i = 0; i < nbb_cells.length; ++i) {\n",
       "                    if (nbb_cells[i].input_prompt_number == nbb_cell_id) {\n",
       "                        if (nbb_cells[i].get_text() == nbb_unformatted_code) {\n",
       "                             nbb_cells[i].set_text(nbb_formatted_code);\n",
       "                        }\n",
       "                        break;\n",
       "                    }\n",
       "                }\n",
       "            }, 500);\n",
       "            "
      ],
      "text/plain": [
       "<IPython.core.display.Javascript object>"
      ]
     },
     "metadata": {},
     "output_type": "display_data"
    }
   ],
   "source": [
    "# # Create specific_roles_list for above popped value\n",
    "# specific_roles_list = (\n",
    "#     df.loc[\n",
    "#         [\n",
    "#             index\n",
    "#             for index in df[df[\"info_2\"].notna()].index\n",
    "#             if \"conductor\" in df.loc[index, \"info_2\"]\n",
    "#         ],\n",
    "#         \"info_2\",\n",
    "#     ]\n",
    "#     .value_counts()\n",
    "#     .index.tolist()\n",
    "# )"
   ]
  },
  {
   "cell_type": "code",
   "execution_count": 89,
   "id": "f0771867",
   "metadata": {},
   "outputs": [
    {
     "data": {
      "application/javascript": [
       "\n",
       "            setTimeout(function() {\n",
       "                var nbb_cell_id = 89;\n",
       "                var nbb_unformatted_code = \"# # Code to check each specific value\\n# specific_roles_list.pop()\";\n",
       "                var nbb_formatted_code = \"# # Code to check each specific value\\n# specific_roles_list.pop()\";\n",
       "                var nbb_cells = Jupyter.notebook.get_cells();\n",
       "                for (var i = 0; i < nbb_cells.length; ++i) {\n",
       "                    if (nbb_cells[i].input_prompt_number == nbb_cell_id) {\n",
       "                        if (nbb_cells[i].get_text() == nbb_unformatted_code) {\n",
       "                             nbb_cells[i].set_text(nbb_formatted_code);\n",
       "                        }\n",
       "                        break;\n",
       "                    }\n",
       "                }\n",
       "            }, 500);\n",
       "            "
      ],
      "text/plain": [
       "<IPython.core.display.Javascript object>"
      ]
     },
     "metadata": {},
     "output_type": "display_data"
    }
   ],
   "source": [
    "# # Code to check each specific value\n",
    "# specific_roles_list.pop()"
   ]
  },
  {
   "cell_type": "code",
   "execution_count": 90,
   "id": "63f3abc1",
   "metadata": {},
   "outputs": [
    {
     "data": {
      "application/javascript": [
       "\n",
       "            setTimeout(function() {\n",
       "                var nbb_cell_id = 90;\n",
       "                var nbb_unformatted_code = \"# # Example code to quick-screen values that may overlap categories\\n# df.loc[[index for index in df.index if \\\"and science writer\\\" in df.loc[index, \\\"info\\\"]]]\";\n",
       "                var nbb_formatted_code = \"# # Example code to quick-screen values that may overlap categories\\n# df.loc[[index for index in df.index if \\\"and science writer\\\" in df.loc[index, \\\"info\\\"]]]\";\n",
       "                var nbb_cells = Jupyter.notebook.get_cells();\n",
       "                for (var i = 0; i < nbb_cells.length; ++i) {\n",
       "                    if (nbb_cells[i].input_prompt_number == nbb_cell_id) {\n",
       "                        if (nbb_cells[i].get_text() == nbb_unformatted_code) {\n",
       "                             nbb_cells[i].set_text(nbb_formatted_code);\n",
       "                        }\n",
       "                        break;\n",
       "                    }\n",
       "                }\n",
       "            }, 500);\n",
       "            "
      ],
      "text/plain": [
       "<IPython.core.display.Javascript object>"
      ]
     },
     "metadata": {},
     "output_type": "display_data"
    }
   ],
   "source": [
    "# # Example code to quick-screen values that may overlap categories\n",
    "# df.loc[[index for index in df.index if \"and science writer\" in df.loc[index, \"info\"]]]"
   ]
  },
  {
   "cell_type": "code",
   "execution_count": 91,
   "id": "a5ff87fd",
   "metadata": {},
   "outputs": [
    {
     "data": {
      "application/javascript": [
       "\n",
       "            setTimeout(function() {\n",
       "                var nbb_cell_id = 91;\n",
       "                var nbb_unformatted_code = \"# # Example code to quick-screen values that may overlap categories\\n# df.loc[\\n#     [\\n#         index\\n#         for index in df.index\\n#         if \\\"outlaw country music singer songwriter\\\" in df.loc[index, \\\"info\\\"]\\n#     ]\\n# ]\";\n",
       "                var nbb_formatted_code = \"# # Example code to quick-screen values that may overlap categories\\n# df.loc[\\n#     [\\n#         index\\n#         for index in df.index\\n#         if \\\"outlaw country music singer songwriter\\\" in df.loc[index, \\\"info\\\"]\\n#     ]\\n# ]\";\n",
       "                var nbb_cells = Jupyter.notebook.get_cells();\n",
       "                for (var i = 0; i < nbb_cells.length; ++i) {\n",
       "                    if (nbb_cells[i].input_prompt_number == nbb_cell_id) {\n",
       "                        if (nbb_cells[i].get_text() == nbb_unformatted_code) {\n",
       "                             nbb_cells[i].set_text(nbb_formatted_code);\n",
       "                        }\n",
       "                        break;\n",
       "                    }\n",
       "                }\n",
       "            }, 500);\n",
       "            "
      ],
      "text/plain": [
       "<IPython.core.display.Javascript object>"
      ]
     },
     "metadata": {},
     "output_type": "display_data"
    }
   ],
   "source": [
    "# # Example code to quick-screen values that may overlap categories\n",
    "# df.loc[\n",
    "#     [\n",
    "#         index\n",
    "#         for index in df.index\n",
    "#         if \"outlaw country music singer songwriter\" in df.loc[index, \"info\"]\n",
    "#     ]\n",
    "# ]"
   ]
  },
  {
   "cell_type": "code",
   "execution_count": 92,
   "id": "edda07ad",
   "metadata": {},
   "outputs": [
    {
     "data": {
      "application/javascript": [
       "\n",
       "            setTimeout(function() {\n",
       "                var nbb_cell_id = 92;\n",
       "                var nbb_unformatted_code = \"# # Example code to quick-check a specific entry\\n# df[df[\\\"info_2\\\"] == \\\"conductor and music administrator\\\"]\";\n",
       "                var nbb_formatted_code = \"# # Example code to quick-check a specific entry\\n# df[df[\\\"info_2\\\"] == \\\"conductor and music administrator\\\"]\";\n",
       "                var nbb_cells = Jupyter.notebook.get_cells();\n",
       "                for (var i = 0; i < nbb_cells.length; ++i) {\n",
       "                    if (nbb_cells[i].input_prompt_number == nbb_cell_id) {\n",
       "                        if (nbb_cells[i].get_text() == nbb_unformatted_code) {\n",
       "                             nbb_cells[i].set_text(nbb_formatted_code);\n",
       "                        }\n",
       "                        break;\n",
       "                    }\n",
       "                }\n",
       "            }, 500);\n",
       "            "
      ],
      "text/plain": [
       "<IPython.core.display.Javascript object>"
      ]
     },
     "metadata": {},
     "output_type": "display_data"
    }
   ],
   "source": [
    "# # Example code to quick-check a specific entry\n",
    "# df[df[\"info_2\"] == \"conductor and music administrator\"]"
   ]
  },
  {
   "cell_type": "markdown",
   "id": "7501df8c",
   "metadata": {},
   "source": [
    "#### Creating Lists for Each `known_for` Category"
   ]
  },
  {
   "cell_type": "code",
   "execution_count": 93,
   "id": "efce53e8",
   "metadata": {},
   "outputs": [
    {
     "data": {
      "application/javascript": [
       "\n",
       "            setTimeout(function() {\n",
       "                var nbb_cell_id = 93;\n",
       "                var nbb_unformatted_code = \"# Creating lists for each category\\npolitics_govt_law = []\\n\\narts = [\\n    \\\"music director and conductor of the Nashville Symphony Orchestra\\\",\\n    \\\"conductor and founder of the Philharmonia Virtuosi\\\",\\n    \\\"choral conductor and Baroque music specialist\\\",\\n    \\\"Grammy Award winning conductor and director\\\",\\n    \\\"conductor and director of the City Opera\\\",\\n    \\\"conductor and founder of the Boys Choir\\\",\\n    \\\"music director and choral conductor\\\",\\n    \\\"choir conductor and choral editor\\\",\\n    \\\"conductor and music administrator\\\",\\n    \\\"orchestral and opera conductor\\\",\\n    \\\"conductor and musical director\\\",\\n    \\\"choral conductor and teacher\\\",\\n    \\\"harpsichordist and conductor\\\",\\n    \\\"operatic tenor and conductor\\\",\\n    \\\"conductor of classical music\\\",\\n    \\\"symphony orchestra conductor\\\",\\n    \\\"music producer and conductor\\\",\\n    \\\"conductor and music director\\\",\\n    \\\"chorus master and conductor\\\",\\n    \\\"jazz conductor and arranger\\\",\\n    \\\"choral conductor and music\\\",\\n    \\\"conductor and viola player\\\",\\n    \\\"conductor of popular music\\\",\\n    \\\"conductor and accordionist\\\",\\n    \\\"conductor and broadcaster\\\",\\n    \\\"horn player and conductor\\\",\\n    \\\"clarinetist and conductor\\\",\\n    \\\"violinist and conductor\\\",\\n    \\\"conductor and violinist\\\",\\n    \\\"timpanist and conductor\\\",\\n    \\\"flautist and conductor\\\",\\n    \\\"organist and conductor\\\",\\n    \\\"baritone and conductor\\\",\\n    \\\"flutist and conductor\\\",\\n    \\\"conductor and violist\\\",\\n    \\\"violist and conductor\\\",\\n    \\\"cellist and conductor\\\",\\n    \\\"pianist and conductor\\\",\\n    \\\"conductor and cellist\\\",\\n    \\\"conductor and pianist\\\",\\n    \\\"orchestral conductor\\\",\\n    \\\"orchestra conductor\\\",\\n    \\\"and choir conductor\\\",\\n    \\\"classical conductor\\\",\\n    \\\"conductor  musicals\\\",\\n    \\\"conductor and music\\\",\\n    \\\"symphony conductor\\\",\\n    \\\"musical conductor\\\",\\n    \\\"choral conductor\\\",\\n    \\\"opera conductor\\\",\\n    \\\"music conductor\\\",\\n    \\\"and conductor\\\",\\n    \\\"conductor and\\\",\\n    \\\"conductor\\\",\\n]\\nsports = []\\nsciences = [\\n    \\\"pioneer in the semiconductor industry\\\",\\n]\\n\\nbusiness_farming = []\\nacademia_humanities = []\\nlaw_enf_military_operator = []\\nspiritual = []\\nsocial = []\\ncrime = []\\nevent_record_other = []\\nother_species = []\";\n",
       "                var nbb_formatted_code = \"# Creating lists for each category\\npolitics_govt_law = []\\n\\narts = [\\n    \\\"music director and conductor of the Nashville Symphony Orchestra\\\",\\n    \\\"conductor and founder of the Philharmonia Virtuosi\\\",\\n    \\\"choral conductor and Baroque music specialist\\\",\\n    \\\"Grammy Award winning conductor and director\\\",\\n    \\\"conductor and director of the City Opera\\\",\\n    \\\"conductor and founder of the Boys Choir\\\",\\n    \\\"music director and choral conductor\\\",\\n    \\\"choir conductor and choral editor\\\",\\n    \\\"conductor and music administrator\\\",\\n    \\\"orchestral and opera conductor\\\",\\n    \\\"conductor and musical director\\\",\\n    \\\"choral conductor and teacher\\\",\\n    \\\"harpsichordist and conductor\\\",\\n    \\\"operatic tenor and conductor\\\",\\n    \\\"conductor of classical music\\\",\\n    \\\"symphony orchestra conductor\\\",\\n    \\\"music producer and conductor\\\",\\n    \\\"conductor and music director\\\",\\n    \\\"chorus master and conductor\\\",\\n    \\\"jazz conductor and arranger\\\",\\n    \\\"choral conductor and music\\\",\\n    \\\"conductor and viola player\\\",\\n    \\\"conductor of popular music\\\",\\n    \\\"conductor and accordionist\\\",\\n    \\\"conductor and broadcaster\\\",\\n    \\\"horn player and conductor\\\",\\n    \\\"clarinetist and conductor\\\",\\n    \\\"violinist and conductor\\\",\\n    \\\"conductor and violinist\\\",\\n    \\\"timpanist and conductor\\\",\\n    \\\"flautist and conductor\\\",\\n    \\\"organist and conductor\\\",\\n    \\\"baritone and conductor\\\",\\n    \\\"flutist and conductor\\\",\\n    \\\"conductor and violist\\\",\\n    \\\"violist and conductor\\\",\\n    \\\"cellist and conductor\\\",\\n    \\\"pianist and conductor\\\",\\n    \\\"conductor and cellist\\\",\\n    \\\"conductor and pianist\\\",\\n    \\\"orchestral conductor\\\",\\n    \\\"orchestra conductor\\\",\\n    \\\"and choir conductor\\\",\\n    \\\"classical conductor\\\",\\n    \\\"conductor  musicals\\\",\\n    \\\"conductor and music\\\",\\n    \\\"symphony conductor\\\",\\n    \\\"musical conductor\\\",\\n    \\\"choral conductor\\\",\\n    \\\"opera conductor\\\",\\n    \\\"music conductor\\\",\\n    \\\"and conductor\\\",\\n    \\\"conductor and\\\",\\n    \\\"conductor\\\",\\n]\\nsports = []\\nsciences = [\\n    \\\"pioneer in the semiconductor industry\\\",\\n]\\n\\nbusiness_farming = []\\nacademia_humanities = []\\nlaw_enf_military_operator = []\\nspiritual = []\\nsocial = []\\ncrime = []\\nevent_record_other = []\\nother_species = []\";\n",
       "                var nbb_cells = Jupyter.notebook.get_cells();\n",
       "                for (var i = 0; i < nbb_cells.length; ++i) {\n",
       "                    if (nbb_cells[i].input_prompt_number == nbb_cell_id) {\n",
       "                        if (nbb_cells[i].get_text() == nbb_unformatted_code) {\n",
       "                             nbb_cells[i].set_text(nbb_formatted_code);\n",
       "                        }\n",
       "                        break;\n",
       "                    }\n",
       "                }\n",
       "            }, 500);\n",
       "            "
      ],
      "text/plain": [
       "<IPython.core.display.Javascript object>"
      ]
     },
     "metadata": {},
     "output_type": "display_data"
    }
   ],
   "source": [
    "# Creating lists for each category\n",
    "politics_govt_law = []\n",
    "\n",
    "arts = [\n",
    "    \"music director and conductor of the Nashville Symphony Orchestra\",\n",
    "    \"conductor and founder of the Philharmonia Virtuosi\",\n",
    "    \"choral conductor and Baroque music specialist\",\n",
    "    \"Grammy Award winning conductor and director\",\n",
    "    \"conductor and director of the City Opera\",\n",
    "    \"conductor and founder of the Boys Choir\",\n",
    "    \"music director and choral conductor\",\n",
    "    \"choir conductor and choral editor\",\n",
    "    \"conductor and music administrator\",\n",
    "    \"orchestral and opera conductor\",\n",
    "    \"conductor and musical director\",\n",
    "    \"choral conductor and teacher\",\n",
    "    \"harpsichordist and conductor\",\n",
    "    \"operatic tenor and conductor\",\n",
    "    \"conductor of classical music\",\n",
    "    \"symphony orchestra conductor\",\n",
    "    \"music producer and conductor\",\n",
    "    \"conductor and music director\",\n",
    "    \"chorus master and conductor\",\n",
    "    \"jazz conductor and arranger\",\n",
    "    \"choral conductor and music\",\n",
    "    \"conductor and viola player\",\n",
    "    \"conductor of popular music\",\n",
    "    \"conductor and accordionist\",\n",
    "    \"conductor and broadcaster\",\n",
    "    \"horn player and conductor\",\n",
    "    \"clarinetist and conductor\",\n",
    "    \"violinist and conductor\",\n",
    "    \"conductor and violinist\",\n",
    "    \"timpanist and conductor\",\n",
    "    \"flautist and conductor\",\n",
    "    \"organist and conductor\",\n",
    "    \"baritone and conductor\",\n",
    "    \"flutist and conductor\",\n",
    "    \"conductor and violist\",\n",
    "    \"violist and conductor\",\n",
    "    \"cellist and conductor\",\n",
    "    \"pianist and conductor\",\n",
    "    \"conductor and cellist\",\n",
    "    \"conductor and pianist\",\n",
    "    \"orchestral conductor\",\n",
    "    \"orchestra conductor\",\n",
    "    \"and choir conductor\",\n",
    "    \"classical conductor\",\n",
    "    \"conductor  musicals\",\n",
    "    \"conductor and music\",\n",
    "    \"symphony conductor\",\n",
    "    \"musical conductor\",\n",
    "    \"choral conductor\",\n",
    "    \"opera conductor\",\n",
    "    \"music conductor\",\n",
    "    \"and conductor\",\n",
    "    \"conductor and\",\n",
    "    \"conductor\",\n",
    "]\n",
    "sports = []\n",
    "sciences = [\n",
    "    \"pioneer in the semiconductor industry\",\n",
    "]\n",
    "\n",
    "business_farming = []\n",
    "academia_humanities = []\n",
    "law_enf_military_operator = []\n",
    "spiritual = []\n",
    "social = []\n",
    "crime = []\n",
    "event_record_other = []\n",
    "other_species = []"
   ]
  },
  {
   "cell_type": "markdown",
   "id": "c0324b74",
   "metadata": {},
   "source": [
    "#### Creating `known_for_dict` Dictionary of Category Keys and Specific Role Lists of Values"
   ]
  },
  {
   "cell_type": "code",
   "execution_count": 94,
   "id": "b6cf287e",
   "metadata": {},
   "outputs": [
    {
     "data": {
      "application/javascript": [
       "\n",
       "            setTimeout(function() {\n",
       "                var nbb_cell_id = 94;\n",
       "                var nbb_unformatted_code = \"# Combining separate lists into one dictionary\\nknown_for_dict = {\\n    \\\"social\\\": social,\\n    \\\"spiritual\\\": spiritual,\\n    \\\"academia_humanities\\\": academia_humanities,\\n    \\\"business_farming\\\": business_farming,\\n    \\\"sciences\\\": sciences,\\n    \\\"politics_govt_law\\\": politics_govt_law,\\n    \\\"law_enf_military_operator\\\": law_enf_military_operator,\\n    \\\"crime\\\": crime,\\n    \\\"event_record_other\\\": event_record_other,\\n    \\\"other_species\\\": other_species,\\n    \\\"arts\\\": arts,\\n    \\\"sports\\\": sports,\\n}\";\n",
       "                var nbb_formatted_code = \"# Combining separate lists into one dictionary\\nknown_for_dict = {\\n    \\\"social\\\": social,\\n    \\\"spiritual\\\": spiritual,\\n    \\\"academia_humanities\\\": academia_humanities,\\n    \\\"business_farming\\\": business_farming,\\n    \\\"sciences\\\": sciences,\\n    \\\"politics_govt_law\\\": politics_govt_law,\\n    \\\"law_enf_military_operator\\\": law_enf_military_operator,\\n    \\\"crime\\\": crime,\\n    \\\"event_record_other\\\": event_record_other,\\n    \\\"other_species\\\": other_species,\\n    \\\"arts\\\": arts,\\n    \\\"sports\\\": sports,\\n}\";\n",
       "                var nbb_cells = Jupyter.notebook.get_cells();\n",
       "                for (var i = 0; i < nbb_cells.length; ++i) {\n",
       "                    if (nbb_cells[i].input_prompt_number == nbb_cell_id) {\n",
       "                        if (nbb_cells[i].get_text() == nbb_unformatted_code) {\n",
       "                             nbb_cells[i].set_text(nbb_formatted_code);\n",
       "                        }\n",
       "                        break;\n",
       "                    }\n",
       "                }\n",
       "            }, 500);\n",
       "            "
      ],
      "text/plain": [
       "<IPython.core.display.Javascript object>"
      ]
     },
     "metadata": {},
     "output_type": "display_data"
    }
   ],
   "source": [
    "# Combining separate lists into one dictionary\n",
    "known_for_dict = {\n",
    "    \"social\": social,\n",
    "    \"spiritual\": spiritual,\n",
    "    \"academia_humanities\": academia_humanities,\n",
    "    \"business_farming\": business_farming,\n",
    "    \"sciences\": sciences,\n",
    "    \"politics_govt_law\": politics_govt_law,\n",
    "    \"law_enf_military_operator\": law_enf_military_operator,\n",
    "    \"crime\": crime,\n",
    "    \"event_record_other\": event_record_other,\n",
    "    \"other_species\": other_species,\n",
    "    \"arts\": arts,\n",
    "    \"sports\": sports,\n",
    "}"
   ]
  },
  {
   "cell_type": "markdown",
   "id": "37935aaf",
   "metadata": {},
   "source": [
    "#### Extracting Category from `info_2`"
   ]
  },
  {
   "cell_type": "code",
   "execution_count": 95,
   "id": "5fdd467b",
   "metadata": {},
   "outputs": [
    {
     "name": "stdout",
     "output_type": "stream",
     "text": [
      "CPU times: total: 28.9 s\n",
      "Wall time: 28.9 s\n"
     ]
    },
    {
     "data": {
      "text/html": [
       "<div>\n",
       "<style scoped>\n",
       "    .dataframe tbody tr th:only-of-type {\n",
       "        vertical-align: middle;\n",
       "    }\n",
       "\n",
       "    .dataframe tbody tr th {\n",
       "        vertical-align: top;\n",
       "    }\n",
       "\n",
       "    .dataframe thead th {\n",
       "        text-align: right;\n",
       "    }\n",
       "</style>\n",
       "<table border=\"1\" class=\"dataframe\">\n",
       "  <thead>\n",
       "    <tr style=\"text-align: right;\">\n",
       "      <th></th>\n",
       "      <th>day</th>\n",
       "      <th>name</th>\n",
       "      <th>info</th>\n",
       "      <th>link</th>\n",
       "      <th>num_references</th>\n",
       "      <th>year</th>\n",
       "      <th>month</th>\n",
       "      <th>info_parenth</th>\n",
       "      <th>info_1</th>\n",
       "      <th>info_2</th>\n",
       "      <th>info_3</th>\n",
       "      <th>info_4</th>\n",
       "      <th>info_5</th>\n",
       "      <th>info_6</th>\n",
       "      <th>info_7</th>\n",
       "      <th>info_8</th>\n",
       "      <th>info_9</th>\n",
       "      <th>info_10</th>\n",
       "      <th>info_11</th>\n",
       "      <th>age</th>\n",
       "      <th>cause_of_death</th>\n",
       "      <th>place_1</th>\n",
       "      <th>place_2</th>\n",
       "      <th>info_parenth_copy</th>\n",
       "      <th>log_num_references</th>\n",
       "      <th>sciences</th>\n",
       "      <th>social</th>\n",
       "      <th>spiritual</th>\n",
       "      <th>academia_humanities</th>\n",
       "      <th>business_farming</th>\n",
       "      <th>arts</th>\n",
       "      <th>sports</th>\n",
       "      <th>law_enf_military_operator</th>\n",
       "      <th>politics_govt_law</th>\n",
       "      <th>crime</th>\n",
       "      <th>event_record_other</th>\n",
       "      <th>other_species</th>\n",
       "      <th>num_categories</th>\n",
       "    </tr>\n",
       "  </thead>\n",
       "  <tbody>\n",
       "    <tr>\n",
       "      <th>48441</th>\n",
       "      <td>7</td>\n",
       "      <td>Roger Mayne</td>\n",
       "      <td>, 85, English photographer.</td>\n",
       "      <td>https://en.wikipedia.org/wiki/Roger_Mayne</td>\n",
       "      <td>17</td>\n",
       "      <td>2014</td>\n",
       "      <td>June</td>\n",
       "      <td>None</td>\n",
       "      <td>None</td>\n",
       "      <td></td>\n",
       "      <td>None</td>\n",
       "      <td>None</td>\n",
       "      <td>None</td>\n",
       "      <td>None</td>\n",
       "      <td>None</td>\n",
       "      <td>None</td>\n",
       "      <td>None</td>\n",
       "      <td>None</td>\n",
       "      <td>None</td>\n",
       "      <td>85.0</td>\n",
       "      <td>None</td>\n",
       "      <td>United Kingdom of Great Britain and Northern Ireland</td>\n",
       "      <td>None</td>\n",
       "      <td>None</td>\n",
       "      <td>2.890372</td>\n",
       "      <td>0</td>\n",
       "      <td>0</td>\n",
       "      <td>0</td>\n",
       "      <td>0</td>\n",
       "      <td>0</td>\n",
       "      <td>1</td>\n",
       "      <td>0</td>\n",
       "      <td>0</td>\n",
       "      <td>0</td>\n",
       "      <td>0</td>\n",
       "      <td>0</td>\n",
       "      <td>0</td>\n",
       "      <td>1</td>\n",
       "    </tr>\n",
       "    <tr>\n",
       "      <th>7024</th>\n",
       "      <td>23</td>\n",
       "      <td>John Forbes</td>\n",
       "      <td>, 47, Australian poet.</td>\n",
       "      <td>https://en.wikipedia.org/wiki/John_Forbes_(poet)</td>\n",
       "      <td>7</td>\n",
       "      <td>1998</td>\n",
       "      <td>January</td>\n",
       "      <td>None</td>\n",
       "      <td>None</td>\n",
       "      <td></td>\n",
       "      <td>None</td>\n",
       "      <td>None</td>\n",
       "      <td>None</td>\n",
       "      <td>None</td>\n",
       "      <td>None</td>\n",
       "      <td>None</td>\n",
       "      <td>None</td>\n",
       "      <td>None</td>\n",
       "      <td>None</td>\n",
       "      <td>47.0</td>\n",
       "      <td>None</td>\n",
       "      <td>Australia</td>\n",
       "      <td>None</td>\n",
       "      <td>None</td>\n",
       "      <td>2.079442</td>\n",
       "      <td>0</td>\n",
       "      <td>0</td>\n",
       "      <td>0</td>\n",
       "      <td>0</td>\n",
       "      <td>0</td>\n",
       "      <td>1</td>\n",
       "      <td>0</td>\n",
       "      <td>0</td>\n",
       "      <td>0</td>\n",
       "      <td>0</td>\n",
       "      <td>0</td>\n",
       "      <td>0</td>\n",
       "      <td>1</td>\n",
       "    </tr>\n",
       "  </tbody>\n",
       "</table>\n",
       "</div>"
      ],
      "text/plain": [
       "      day         name                         info  \\\n",
       "48441   7  Roger Mayne  , 85, English photographer.   \n",
       "7024   23  John Forbes       , 47, Australian poet.   \n",
       "\n",
       "                                                   link  num_references  year  \\\n",
       "48441         https://en.wikipedia.org/wiki/Roger_Mayne              17  2014   \n",
       "7024   https://en.wikipedia.org/wiki/John_Forbes_(poet)               7  1998   \n",
       "\n",
       "         month info_parenth info_1 info_2 info_3 info_4 info_5 info_6 info_7  \\\n",
       "48441     June         None   None          None   None   None   None   None   \n",
       "7024   January         None   None          None   None   None   None   None   \n",
       "\n",
       "      info_8 info_9 info_10 info_11   age cause_of_death  \\\n",
       "48441   None   None    None    None  85.0           None   \n",
       "7024    None   None    None    None  47.0           None   \n",
       "\n",
       "                                                    place_1 place_2  \\\n",
       "48441  United Kingdom of Great Britain and Northern Ireland    None   \n",
       "7024                                              Australia    None   \n",
       "\n",
       "      info_parenth_copy  log_num_references  sciences  social  spiritual  \\\n",
       "48441              None            2.890372         0       0          0   \n",
       "7024               None            2.079442         0       0          0   \n",
       "\n",
       "       academia_humanities  business_farming  arts  sports  \\\n",
       "48441                    0                 0     1       0   \n",
       "7024                     0                 0     1       0   \n",
       "\n",
       "       law_enf_military_operator  politics_govt_law  crime  \\\n",
       "48441                          0                  0      0   \n",
       "7024                           0                  0      0   \n",
       "\n",
       "       event_record_other  other_species  num_categories  \n",
       "48441                   0              0               1  \n",
       "7024                    0              0               1  "
      ]
     },
     "execution_count": 95,
     "metadata": {},
     "output_type": "execute_result"
    },
    {
     "data": {
      "application/javascript": [
       "\n",
       "            setTimeout(function() {\n",
       "                var nbb_cell_id = 95;\n",
       "                var nbb_unformatted_code = \"%%time\\n\\n# Dictionary version\\nsearch_dict = known_for_dict\\n\\n# Column to check\\ncolumn = 'info_2'\\n\\n# Dataframe\\ndataframe = df[column].notna()\\n\\n# For loop to find role in column and extract it as category\\nfor category, category_lst in search_dict.items():\\n    for role in category_lst:\\n        for index in dataframe.index:\\n            item = df.loc[index, column]\\n            if item:\\n                if role in item:\\n                    df.loc[index, category] = 1\\n                    df.loc[index, column] = item.replace(role, '').strip()\\n\\n# Updating num_categories\\ndf[\\\"num_categories\\\"] = df[known_for_dict.keys()].sum(axis=1)\\n\\n# Checking a sample of rows\\ndf[df['arts'] ==1].sample(2)\";\n",
       "                var nbb_formatted_code = \"%%time\\n\\n# Dictionary version\\nsearch_dict = known_for_dict\\n\\n# Column to check\\ncolumn = 'info_2'\\n\\n# Dataframe\\ndataframe = df[column].notna()\\n\\n# For loop to find role in column and extract it as category\\nfor category, category_lst in search_dict.items():\\n    for role in category_lst:\\n        for index in dataframe.index:\\n            item = df.loc[index, column]\\n            if item:\\n                if role in item:\\n                    df.loc[index, category] = 1\\n                    df.loc[index, column] = item.replace(role, '').strip()\\n\\n# Updating num_categories\\ndf[\\\"num_categories\\\"] = df[known_for_dict.keys()].sum(axis=1)\\n\\n# Checking a sample of rows\\ndf[df['arts'] ==1].sample(2)\";\n",
       "                var nbb_cells = Jupyter.notebook.get_cells();\n",
       "                for (var i = 0; i < nbb_cells.length; ++i) {\n",
       "                    if (nbb_cells[i].input_prompt_number == nbb_cell_id) {\n",
       "                        if (nbb_cells[i].get_text() == nbb_unformatted_code) {\n",
       "                             nbb_cells[i].set_text(nbb_formatted_code);\n",
       "                        }\n",
       "                        break;\n",
       "                    }\n",
       "                }\n",
       "            }, 500);\n",
       "            "
      ],
      "text/plain": [
       "<IPython.core.display.Javascript object>"
      ]
     },
     "metadata": {},
     "output_type": "display_data"
    }
   ],
   "source": [
    "%%time\n",
    "\n",
    "# Dictionary version\n",
    "search_dict = known_for_dict\n",
    "\n",
    "# Column to check\n",
    "column = 'info_2'\n",
    "\n",
    "# Dataframe\n",
    "dataframe = df[column].notna()\n",
    "\n",
    "# For loop to find role in column and extract it as category\n",
    "for category, category_lst in search_dict.items():\n",
    "    for role in category_lst:\n",
    "        for index in dataframe.index:\n",
    "            item = df.loc[index, column]\n",
    "            if item:\n",
    "                if role in item:\n",
    "                    df.loc[index, category] = 1\n",
    "                    df.loc[index, column] = item.replace(role, '').strip()\n",
    "\n",
    "# Updating num_categories\n",
    "df[\"num_categories\"] = df[known_for_dict.keys()].sum(axis=1)\n",
    "\n",
    "# Checking a sample of rows\n",
    "df[df['arts'] ==1].sample(2)"
   ]
  },
  {
   "cell_type": "markdown",
   "id": "6da739f9",
   "metadata": {},
   "source": [
    "#### Checking the Number of Rows without a First Category"
   ]
  },
  {
   "cell_type": "code",
   "execution_count": 96,
   "id": "5658a44e",
   "metadata": {},
   "outputs": [
    {
     "name": "stdout",
     "output_type": "stream",
     "text": [
      "There are 29791 entries without any known_for category.\n"
     ]
    },
    {
     "data": {
      "application/javascript": [
       "\n",
       "            setTimeout(function() {\n",
       "                var nbb_cell_id = 96;\n",
       "                var nbb_unformatted_code = \"# Checking the number of rows without a first category\\nprint(\\n    f'There are {len(df[df[\\\"num_categories\\\"]==0])} entries without any known_for category.'\\n)\";\n",
       "                var nbb_formatted_code = \"# Checking the number of rows without a first category\\nprint(\\n    f'There are {len(df[df[\\\"num_categories\\\"]==0])} entries without any known_for category.'\\n)\";\n",
       "                var nbb_cells = Jupyter.notebook.get_cells();\n",
       "                for (var i = 0; i < nbb_cells.length; ++i) {\n",
       "                    if (nbb_cells[i].input_prompt_number == nbb_cell_id) {\n",
       "                        if (nbb_cells[i].get_text() == nbb_unformatted_code) {\n",
       "                             nbb_cells[i].set_text(nbb_formatted_code);\n",
       "                        }\n",
       "                        break;\n",
       "                    }\n",
       "                }\n",
       "            }, 500);\n",
       "            "
      ],
      "text/plain": [
       "<IPython.core.display.Javascript object>"
      ]
     },
     "metadata": {},
     "output_type": "display_data"
    }
   ],
   "source": [
    "# Checking the number of rows without a first category\n",
    "print(\n",
    "    f'There are {len(df[df[\"num_categories\"]==0])} entries without any known_for category.'\n",
    ")"
   ]
  },
  {
   "cell_type": "markdown",
   "id": "35a0d2aa",
   "metadata": {},
   "source": [
    "#### Observations:\n",
    "- We will proceed to rebuild `known_for_dict` for the next iteration."
   ]
  },
  {
   "cell_type": "markdown",
   "id": "8ab6cd25",
   "metadata": {},
   "source": [
    "#### Finding `known_for` Roles in `info_2`"
   ]
  },
  {
   "cell_type": "code",
   "execution_count": 97,
   "id": "97026b08",
   "metadata": {},
   "outputs": [
    {
     "data": {
      "application/javascript": [
       "\n",
       "            setTimeout(function() {\n",
       "                var nbb_cell_id = 97;\n",
       "                var nbb_unformatted_code = \"# # Obtaining values for column and their counts\\n# roles_list = df[\\\"info_2\\\"].value_counts(ascending=True).index.tolist()\";\n",
       "                var nbb_formatted_code = \"# # Obtaining values for column and their counts\\n# roles_list = df[\\\"info_2\\\"].value_counts(ascending=True).index.tolist()\";\n",
       "                var nbb_cells = Jupyter.notebook.get_cells();\n",
       "                for (var i = 0; i < nbb_cells.length; ++i) {\n",
       "                    if (nbb_cells[i].input_prompt_number == nbb_cell_id) {\n",
       "                        if (nbb_cells[i].get_text() == nbb_unformatted_code) {\n",
       "                             nbb_cells[i].set_text(nbb_formatted_code);\n",
       "                        }\n",
       "                        break;\n",
       "                    }\n",
       "                }\n",
       "            }, 500);\n",
       "            "
      ],
      "text/plain": [
       "<IPython.core.display.Javascript object>"
      ]
     },
     "metadata": {},
     "output_type": "display_data"
    }
   ],
   "source": [
    "# # Obtaining values for column and their counts\n",
    "# roles_list = df[\"info_2\"].value_counts(ascending=True).index.tolist()"
   ]
  },
  {
   "cell_type": "code",
   "execution_count": 98,
   "id": "f618020e",
   "metadata": {},
   "outputs": [
    {
     "data": {
      "application/javascript": [
       "\n",
       "            setTimeout(function() {\n",
       "                var nbb_cell_id = 98;\n",
       "                var nbb_unformatted_code = \"# # Code to check each value\\n# roles_list.pop()\";\n",
       "                var nbb_formatted_code = \"# # Code to check each value\\n# roles_list.pop()\";\n",
       "                var nbb_cells = Jupyter.notebook.get_cells();\n",
       "                for (var i = 0; i < nbb_cells.length; ++i) {\n",
       "                    if (nbb_cells[i].input_prompt_number == nbb_cell_id) {\n",
       "                        if (nbb_cells[i].get_text() == nbb_unformatted_code) {\n",
       "                             nbb_cells[i].set_text(nbb_formatted_code);\n",
       "                        }\n",
       "                        break;\n",
       "                    }\n",
       "                }\n",
       "            }, 500);\n",
       "            "
      ],
      "text/plain": [
       "<IPython.core.display.Javascript object>"
      ]
     },
     "metadata": {},
     "output_type": "display_data"
    }
   ],
   "source": [
    "# # Code to check each value\n",
    "# roles_list.pop()"
   ]
  },
  {
   "cell_type": "code",
   "execution_count": 99,
   "id": "6d0fbb34",
   "metadata": {},
   "outputs": [
    {
     "data": {
      "application/javascript": [
       "\n",
       "            setTimeout(function() {\n",
       "                var nbb_cell_id = 99;\n",
       "                var nbb_unformatted_code = \"# # Create specific_roles_list for above popped value\\n# specific_roles_list = (\\n#     df.loc[\\n#         [\\n#             index\\n#             for index in df[df[\\\"info_2\\\"].notna()].index\\n#             if \\\"pianist\\\" in df.loc[index, \\\"info_2\\\"]\\n#         ],\\n#         \\\"info_2\\\",\\n#     ]\\n#     .value_counts()\\n#     .index.tolist()\\n# )\";\n",
       "                var nbb_formatted_code = \"# # Create specific_roles_list for above popped value\\n# specific_roles_list = (\\n#     df.loc[\\n#         [\\n#             index\\n#             for index in df[df[\\\"info_2\\\"].notna()].index\\n#             if \\\"pianist\\\" in df.loc[index, \\\"info_2\\\"]\\n#         ],\\n#         \\\"info_2\\\",\\n#     ]\\n#     .value_counts()\\n#     .index.tolist()\\n# )\";\n",
       "                var nbb_cells = Jupyter.notebook.get_cells();\n",
       "                for (var i = 0; i < nbb_cells.length; ++i) {\n",
       "                    if (nbb_cells[i].input_prompt_number == nbb_cell_id) {\n",
       "                        if (nbb_cells[i].get_text() == nbb_unformatted_code) {\n",
       "                             nbb_cells[i].set_text(nbb_formatted_code);\n",
       "                        }\n",
       "                        break;\n",
       "                    }\n",
       "                }\n",
       "            }, 500);\n",
       "            "
      ],
      "text/plain": [
       "<IPython.core.display.Javascript object>"
      ]
     },
     "metadata": {},
     "output_type": "display_data"
    }
   ],
   "source": [
    "# # Create specific_roles_list for above popped value\n",
    "# specific_roles_list = (\n",
    "#     df.loc[\n",
    "#         [\n",
    "#             index\n",
    "#             for index in df[df[\"info_2\"].notna()].index\n",
    "#             if \"pianist\" in df.loc[index, \"info_2\"]\n",
    "#         ],\n",
    "#         \"info_2\",\n",
    "#     ]\n",
    "#     .value_counts()\n",
    "#     .index.tolist()\n",
    "# )"
   ]
  },
  {
   "cell_type": "code",
   "execution_count": 100,
   "id": "2af1d0bc",
   "metadata": {},
   "outputs": [
    {
     "data": {
      "application/javascript": [
       "\n",
       "            setTimeout(function() {\n",
       "                var nbb_cell_id = 100;\n",
       "                var nbb_unformatted_code = \"# # Code to check each specific value\\n# specific_roles_list.pop()\";\n",
       "                var nbb_formatted_code = \"# # Code to check each specific value\\n# specific_roles_list.pop()\";\n",
       "                var nbb_cells = Jupyter.notebook.get_cells();\n",
       "                for (var i = 0; i < nbb_cells.length; ++i) {\n",
       "                    if (nbb_cells[i].input_prompt_number == nbb_cell_id) {\n",
       "                        if (nbb_cells[i].get_text() == nbb_unformatted_code) {\n",
       "                             nbb_cells[i].set_text(nbb_formatted_code);\n",
       "                        }\n",
       "                        break;\n",
       "                    }\n",
       "                }\n",
       "            }, 500);\n",
       "            "
      ],
      "text/plain": [
       "<IPython.core.display.Javascript object>"
      ]
     },
     "metadata": {},
     "output_type": "display_data"
    }
   ],
   "source": [
    "# # Code to check each specific value\n",
    "# specific_roles_list.pop()"
   ]
  },
  {
   "cell_type": "code",
   "execution_count": 101,
   "id": "daa3e233",
   "metadata": {},
   "outputs": [
    {
     "data": {
      "application/javascript": [
       "\n",
       "            setTimeout(function() {\n",
       "                var nbb_cell_id = 101;\n",
       "                var nbb_unformatted_code = \"# # Example code to quick-screen values that may overlap categories\\n# df.loc[\\n#     [\\n#         index\\n#         for index in df.index\\n#         if \\\"director of music academies\\\" in df.loc[index, \\\"info\\\"]\\n#     ]\\n# ]\";\n",
       "                var nbb_formatted_code = \"# # Example code to quick-screen values that may overlap categories\\n# df.loc[\\n#     [\\n#         index\\n#         for index in df.index\\n#         if \\\"director of music academies\\\" in df.loc[index, \\\"info\\\"]\\n#     ]\\n# ]\";\n",
       "                var nbb_cells = Jupyter.notebook.get_cells();\n",
       "                for (var i = 0; i < nbb_cells.length; ++i) {\n",
       "                    if (nbb_cells[i].input_prompt_number == nbb_cell_id) {\n",
       "                        if (nbb_cells[i].get_text() == nbb_unformatted_code) {\n",
       "                             nbb_cells[i].set_text(nbb_formatted_code);\n",
       "                        }\n",
       "                        break;\n",
       "                    }\n",
       "                }\n",
       "            }, 500);\n",
       "            "
      ],
      "text/plain": [
       "<IPython.core.display.Javascript object>"
      ]
     },
     "metadata": {},
     "output_type": "display_data"
    }
   ],
   "source": [
    "# # Example code to quick-screen values that may overlap categories\n",
    "# df.loc[\n",
    "#     [\n",
    "#         index\n",
    "#         for index in df.index\n",
    "#         if \"director of music academies\" in df.loc[index, \"info\"]\n",
    "#     ]\n",
    "# ]"
   ]
  },
  {
   "cell_type": "code",
   "execution_count": 102,
   "id": "f0baa298",
   "metadata": {},
   "outputs": [
    {
     "data": {
      "application/javascript": [
       "\n",
       "            setTimeout(function() {\n",
       "                var nbb_cell_id = 102;\n",
       "                var nbb_unformatted_code = \"# # Example code to quick-check a specific entry\\n# df[df[\\\"info_2\\\"] == \\\"pianist and director of music academies\\\"]\";\n",
       "                var nbb_formatted_code = \"# # Example code to quick-check a specific entry\\n# df[df[\\\"info_2\\\"] == \\\"pianist and director of music academies\\\"]\";\n",
       "                var nbb_cells = Jupyter.notebook.get_cells();\n",
       "                for (var i = 0; i < nbb_cells.length; ++i) {\n",
       "                    if (nbb_cells[i].input_prompt_number == nbb_cell_id) {\n",
       "                        if (nbb_cells[i].get_text() == nbb_unformatted_code) {\n",
       "                             nbb_cells[i].set_text(nbb_formatted_code);\n",
       "                        }\n",
       "                        break;\n",
       "                    }\n",
       "                }\n",
       "            }, 500);\n",
       "            "
      ],
      "text/plain": [
       "<IPython.core.display.Javascript object>"
      ]
     },
     "metadata": {},
     "output_type": "display_data"
    }
   ],
   "source": [
    "# # Example code to quick-check a specific entry\n",
    "# df[df[\"info_2\"] == \"pianist and director of music academies\"]"
   ]
  },
  {
   "cell_type": "markdown",
   "id": "4ea20370",
   "metadata": {},
   "source": [
    "#### Creating Lists for Each `known_for` Category"
   ]
  },
  {
   "cell_type": "code",
   "execution_count": 103,
   "id": "86ec5bf7",
   "metadata": {},
   "outputs": [
    {
     "data": {
      "application/javascript": [
       "\n",
       "            setTimeout(function() {\n",
       "                var nbb_cell_id = 103;\n",
       "                var nbb_unformatted_code = \"# Creating lists for each category\\npolitics_govt_law = []\\n\\narts = [\\n    \\\"music theorist and pianist specializing in Bach\\\",\\n    \\\"jazz pianist who played with Benny Goodman\\\",\\n    \\\"jazz pianist and record company executive\\\",\\n    \\\"Jewish pianist portrayed in the film\\\",\\n    \\\"concert pianist and record producer\\\",\\n    \\\"pianist and musical stage performer\\\",\\n    \\\"pianist and Grammy winning arranger\\\",\\n    \\\"festival promoter and jazz pianist\\\",\\n    \\\"free jazz pianist and vibraphonist\\\",\\n    \\\"jazz and R&B pianist and organist\\\",\\n    \\\"jazz pianist and radio presenter\\\",\\n    \\\"East Coast blues and R&B pianist\\\",\\n    \\\"harpsichordist and fortepianist\\\",\\n    \\\"jazz pianist and music arranger\\\",\\n    \\\"jazz pianist and accordionist\\\",\\n    \\\"cafe pianist and entertainer\\\",\\n    \\\"Hall of Fame country pianist\\\",\\n    \\\"jazz pianist and bandleader\\\",\\n    \\\"jazz bandleader and pianist\\\",\\n    \\\"pianist and opera director\\\",\\n    \\\"Moravian classical pianist\\\",\\n    \\\"blues pianist and organist\\\",\\n    \\\"pianist and harpsichordist\\\",\\n    \\\"jazz pianist and arranger\\\",\\n    \\\"jazz pianist and organist\\\",\\n    \\\"pianist for Frank Sinatra\\\",\\n    \\\"jazz pianist and vocalist\\\",\\n    \\\"pianist and vocal coach\\\",\\n    \\\"blues and swing pianist\\\",\\n    \\\"pianist and accompanist\\\",\\n    \\\"bandleader and pianist\\\",\\n    \\\"pianist and bandleader\\\",\\n    \\\"swing era jazz pianist\\\",\\n    \\\"blues and jazz pianist\\\",\\n    \\\"puppeteer and pianist\\\",\\n    \\\"post bop jazz pianist\\\",\\n    \\\"boogie woogie pianist\\\",\\n    \\\"popular music pianist\\\",\\n    \\\"pianist and organist\\\",\\n    \\\"classical pianist and\\\",\\n    \\\"pianist and arranger\\\",\\n    \\\"pianist and vocalist\\\",\\n    \\\"and concert pianist\\\",\\n    \\\"pianist and critic\\\",\\n    \\\"bebop jazz pianist\\\",\\n    \\\"free jazz pianist\\\",\\n    \\\"pianist and piano\\\",\\n    \\\"jazz funk pianist\\\",\\n    \\\"pianist and music\\\",\\n    \\\"classical pianist\\\",\\n    \\\"jazz pianist and\\\",\\n    \\\"concert pianist\\\",\\n    \\\"music  pianist\\\",\\n    \\\"tango pianist\\\",\\n    \\\"music pianist\\\",\\n    \\\"blues pianist\\\",\\n    \\\"rock pianist\\\",\\n    \\\"jazz pianist\\\",\\n    \\\"R&B pianist\\\",\\n    \\\"pianist and\\\",\\n    \\\"and pianist\\\",\\n    \\\"pianist\\\",\\n]\\nsports = [\\n    \\\"Olympic champion at the Summer Olympics\\\",\\n]\\nsciences = []\\n\\nbusiness_farming = []\\nacademia_humanities = [\\n    \\\"director of music academies\\\",\\n]\\nlaw_enf_military_operator = []\\nspiritual = []\\nsocial = []\\ncrime = []\\nevent_record_other = []\\nother_species = []\";\n",
       "                var nbb_formatted_code = \"# Creating lists for each category\\npolitics_govt_law = []\\n\\narts = [\\n    \\\"music theorist and pianist specializing in Bach\\\",\\n    \\\"jazz pianist who played with Benny Goodman\\\",\\n    \\\"jazz pianist and record company executive\\\",\\n    \\\"Jewish pianist portrayed in the film\\\",\\n    \\\"concert pianist and record producer\\\",\\n    \\\"pianist and musical stage performer\\\",\\n    \\\"pianist and Grammy winning arranger\\\",\\n    \\\"festival promoter and jazz pianist\\\",\\n    \\\"free jazz pianist and vibraphonist\\\",\\n    \\\"jazz and R&B pianist and organist\\\",\\n    \\\"jazz pianist and radio presenter\\\",\\n    \\\"East Coast blues and R&B pianist\\\",\\n    \\\"harpsichordist and fortepianist\\\",\\n    \\\"jazz pianist and music arranger\\\",\\n    \\\"jazz pianist and accordionist\\\",\\n    \\\"cafe pianist and entertainer\\\",\\n    \\\"Hall of Fame country pianist\\\",\\n    \\\"jazz pianist and bandleader\\\",\\n    \\\"jazz bandleader and pianist\\\",\\n    \\\"pianist and opera director\\\",\\n    \\\"Moravian classical pianist\\\",\\n    \\\"blues pianist and organist\\\",\\n    \\\"pianist and harpsichordist\\\",\\n    \\\"jazz pianist and arranger\\\",\\n    \\\"jazz pianist and organist\\\",\\n    \\\"pianist for Frank Sinatra\\\",\\n    \\\"jazz pianist and vocalist\\\",\\n    \\\"pianist and vocal coach\\\",\\n    \\\"blues and swing pianist\\\",\\n    \\\"pianist and accompanist\\\",\\n    \\\"bandleader and pianist\\\",\\n    \\\"pianist and bandleader\\\",\\n    \\\"swing era jazz pianist\\\",\\n    \\\"blues and jazz pianist\\\",\\n    \\\"puppeteer and pianist\\\",\\n    \\\"post bop jazz pianist\\\",\\n    \\\"boogie woogie pianist\\\",\\n    \\\"popular music pianist\\\",\\n    \\\"pianist and organist\\\",\\n    \\\"classical pianist and\\\",\\n    \\\"pianist and arranger\\\",\\n    \\\"pianist and vocalist\\\",\\n    \\\"and concert pianist\\\",\\n    \\\"pianist and critic\\\",\\n    \\\"bebop jazz pianist\\\",\\n    \\\"free jazz pianist\\\",\\n    \\\"pianist and piano\\\",\\n    \\\"jazz funk pianist\\\",\\n    \\\"pianist and music\\\",\\n    \\\"classical pianist\\\",\\n    \\\"jazz pianist and\\\",\\n    \\\"concert pianist\\\",\\n    \\\"music  pianist\\\",\\n    \\\"tango pianist\\\",\\n    \\\"music pianist\\\",\\n    \\\"blues pianist\\\",\\n    \\\"rock pianist\\\",\\n    \\\"jazz pianist\\\",\\n    \\\"R&B pianist\\\",\\n    \\\"pianist and\\\",\\n    \\\"and pianist\\\",\\n    \\\"pianist\\\",\\n]\\nsports = [\\n    \\\"Olympic champion at the Summer Olympics\\\",\\n]\\nsciences = []\\n\\nbusiness_farming = []\\nacademia_humanities = [\\n    \\\"director of music academies\\\",\\n]\\nlaw_enf_military_operator = []\\nspiritual = []\\nsocial = []\\ncrime = []\\nevent_record_other = []\\nother_species = []\";\n",
       "                var nbb_cells = Jupyter.notebook.get_cells();\n",
       "                for (var i = 0; i < nbb_cells.length; ++i) {\n",
       "                    if (nbb_cells[i].input_prompt_number == nbb_cell_id) {\n",
       "                        if (nbb_cells[i].get_text() == nbb_unformatted_code) {\n",
       "                             nbb_cells[i].set_text(nbb_formatted_code);\n",
       "                        }\n",
       "                        break;\n",
       "                    }\n",
       "                }\n",
       "            }, 500);\n",
       "            "
      ],
      "text/plain": [
       "<IPython.core.display.Javascript object>"
      ]
     },
     "metadata": {},
     "output_type": "display_data"
    }
   ],
   "source": [
    "# Creating lists for each category\n",
    "politics_govt_law = []\n",
    "\n",
    "arts = [\n",
    "    \"music theorist and pianist specializing in Bach\",\n",
    "    \"jazz pianist who played with Benny Goodman\",\n",
    "    \"jazz pianist and record company executive\",\n",
    "    \"Jewish pianist portrayed in the film\",\n",
    "    \"concert pianist and record producer\",\n",
    "    \"pianist and musical stage performer\",\n",
    "    \"pianist and Grammy winning arranger\",\n",
    "    \"festival promoter and jazz pianist\",\n",
    "    \"free jazz pianist and vibraphonist\",\n",
    "    \"jazz and R&B pianist and organist\",\n",
    "    \"jazz pianist and radio presenter\",\n",
    "    \"East Coast blues and R&B pianist\",\n",
    "    \"harpsichordist and fortepianist\",\n",
    "    \"jazz pianist and music arranger\",\n",
    "    \"jazz pianist and accordionist\",\n",
    "    \"cafe pianist and entertainer\",\n",
    "    \"Hall of Fame country pianist\",\n",
    "    \"jazz pianist and bandleader\",\n",
    "    \"jazz bandleader and pianist\",\n",
    "    \"pianist and opera director\",\n",
    "    \"Moravian classical pianist\",\n",
    "    \"blues pianist and organist\",\n",
    "    \"pianist and harpsichordist\",\n",
    "    \"jazz pianist and arranger\",\n",
    "    \"jazz pianist and organist\",\n",
    "    \"pianist for Frank Sinatra\",\n",
    "    \"jazz pianist and vocalist\",\n",
    "    \"pianist and vocal coach\",\n",
    "    \"blues and swing pianist\",\n",
    "    \"pianist and accompanist\",\n",
    "    \"bandleader and pianist\",\n",
    "    \"pianist and bandleader\",\n",
    "    \"swing era jazz pianist\",\n",
    "    \"blues and jazz pianist\",\n",
    "    \"puppeteer and pianist\",\n",
    "    \"post bop jazz pianist\",\n",
    "    \"boogie woogie pianist\",\n",
    "    \"popular music pianist\",\n",
    "    \"pianist and organist\",\n",
    "    \"classical pianist and\",\n",
    "    \"pianist and arranger\",\n",
    "    \"pianist and vocalist\",\n",
    "    \"and concert pianist\",\n",
    "    \"pianist and critic\",\n",
    "    \"bebop jazz pianist\",\n",
    "    \"free jazz pianist\",\n",
    "    \"pianist and piano\",\n",
    "    \"jazz funk pianist\",\n",
    "    \"pianist and music\",\n",
    "    \"classical pianist\",\n",
    "    \"jazz pianist and\",\n",
    "    \"concert pianist\",\n",
    "    \"music  pianist\",\n",
    "    \"tango pianist\",\n",
    "    \"music pianist\",\n",
    "    \"blues pianist\",\n",
    "    \"rock pianist\",\n",
    "    \"jazz pianist\",\n",
    "    \"R&B pianist\",\n",
    "    \"pianist and\",\n",
    "    \"and pianist\",\n",
    "    \"pianist\",\n",
    "]\n",
    "sports = [\n",
    "    \"Olympic champion at the Summer Olympics\",\n",
    "]\n",
    "sciences = []\n",
    "\n",
    "business_farming = []\n",
    "academia_humanities = [\n",
    "    \"director of music academies\",\n",
    "]\n",
    "law_enf_military_operator = []\n",
    "spiritual = []\n",
    "social = []\n",
    "crime = []\n",
    "event_record_other = []\n",
    "other_species = []"
   ]
  },
  {
   "cell_type": "code",
   "execution_count": 104,
   "id": "ca2e5e1e",
   "metadata": {},
   "outputs": [
    {
     "data": {
      "application/javascript": [
       "\n",
       "            setTimeout(function() {\n",
       "                var nbb_cell_id = 104;\n",
       "                var nbb_unformatted_code = \"# Dropping entry with link that points to page for husband of entry\\nindex = df[df[\\\"link\\\"] == \\\"https://en.wikipedia.org/wiki/Sylvia_Straus\\\"].index\\ndf.drop(index, inplace=True)\\ndf.reset_index(inplace=True, drop=True)\";\n",
       "                var nbb_formatted_code = \"# Dropping entry with link that points to page for husband of entry\\nindex = df[df[\\\"link\\\"] == \\\"https://en.wikipedia.org/wiki/Sylvia_Straus\\\"].index\\ndf.drop(index, inplace=True)\\ndf.reset_index(inplace=True, drop=True)\";\n",
       "                var nbb_cells = Jupyter.notebook.get_cells();\n",
       "                for (var i = 0; i < nbb_cells.length; ++i) {\n",
       "                    if (nbb_cells[i].input_prompt_number == nbb_cell_id) {\n",
       "                        if (nbb_cells[i].get_text() == nbb_unformatted_code) {\n",
       "                             nbb_cells[i].set_text(nbb_formatted_code);\n",
       "                        }\n",
       "                        break;\n",
       "                    }\n",
       "                }\n",
       "            }, 500);\n",
       "            "
      ],
      "text/plain": [
       "<IPython.core.display.Javascript object>"
      ]
     },
     "metadata": {},
     "output_type": "display_data"
    }
   ],
   "source": [
    "# Dropping entry with link that points to page for husband of entry\n",
    "index = df[df[\"link\"] == \"https://en.wikipedia.org/wiki/Sylvia_Straus\"].index\n",
    "df.drop(index, inplace=True)\n",
    "df.reset_index(inplace=True, drop=True)"
   ]
  },
  {
   "cell_type": "markdown",
   "id": "6b198298",
   "metadata": {},
   "source": [
    "#### Creating `known_for_dict` Dictionary of Category Keys and Specific Role Lists of Values"
   ]
  },
  {
   "cell_type": "code",
   "execution_count": 105,
   "id": "b609dda0",
   "metadata": {},
   "outputs": [
    {
     "data": {
      "application/javascript": [
       "\n",
       "            setTimeout(function() {\n",
       "                var nbb_cell_id = 105;\n",
       "                var nbb_unformatted_code = \"# Combining separate lists into one dictionary\\nknown_for_dict = {\\n    \\\"social\\\": social,\\n    \\\"spiritual\\\": spiritual,\\n    \\\"academia_humanities\\\": academia_humanities,\\n    \\\"business_farming\\\": business_farming,\\n    \\\"sciences\\\": sciences,\\n    \\\"politics_govt_law\\\": politics_govt_law,\\n    \\\"law_enf_military_operator\\\": law_enf_military_operator,\\n    \\\"crime\\\": crime,\\n    \\\"event_record_other\\\": event_record_other,\\n    \\\"other_species\\\": other_species,\\n    \\\"arts\\\": arts,\\n    \\\"sports\\\": sports,\\n}\";\n",
       "                var nbb_formatted_code = \"# Combining separate lists into one dictionary\\nknown_for_dict = {\\n    \\\"social\\\": social,\\n    \\\"spiritual\\\": spiritual,\\n    \\\"academia_humanities\\\": academia_humanities,\\n    \\\"business_farming\\\": business_farming,\\n    \\\"sciences\\\": sciences,\\n    \\\"politics_govt_law\\\": politics_govt_law,\\n    \\\"law_enf_military_operator\\\": law_enf_military_operator,\\n    \\\"crime\\\": crime,\\n    \\\"event_record_other\\\": event_record_other,\\n    \\\"other_species\\\": other_species,\\n    \\\"arts\\\": arts,\\n    \\\"sports\\\": sports,\\n}\";\n",
       "                var nbb_cells = Jupyter.notebook.get_cells();\n",
       "                for (var i = 0; i < nbb_cells.length; ++i) {\n",
       "                    if (nbb_cells[i].input_prompt_number == nbb_cell_id) {\n",
       "                        if (nbb_cells[i].get_text() == nbb_unformatted_code) {\n",
       "                             nbb_cells[i].set_text(nbb_formatted_code);\n",
       "                        }\n",
       "                        break;\n",
       "                    }\n",
       "                }\n",
       "            }, 500);\n",
       "            "
      ],
      "text/plain": [
       "<IPython.core.display.Javascript object>"
      ]
     },
     "metadata": {},
     "output_type": "display_data"
    }
   ],
   "source": [
    "# Combining separate lists into one dictionary\n",
    "known_for_dict = {\n",
    "    \"social\": social,\n",
    "    \"spiritual\": spiritual,\n",
    "    \"academia_humanities\": academia_humanities,\n",
    "    \"business_farming\": business_farming,\n",
    "    \"sciences\": sciences,\n",
    "    \"politics_govt_law\": politics_govt_law,\n",
    "    \"law_enf_military_operator\": law_enf_military_operator,\n",
    "    \"crime\": crime,\n",
    "    \"event_record_other\": event_record_other,\n",
    "    \"other_species\": other_species,\n",
    "    \"arts\": arts,\n",
    "    \"sports\": sports,\n",
    "}"
   ]
  },
  {
   "cell_type": "markdown",
   "id": "99411a8b",
   "metadata": {},
   "source": [
    "#### Extracting Category from `info_2`"
   ]
  },
  {
   "cell_type": "code",
   "execution_count": 106,
   "id": "0f7f1451",
   "metadata": {},
   "outputs": [
    {
     "name": "stdout",
     "output_type": "stream",
     "text": [
      "CPU times: total: 34 s\n",
      "Wall time: 34 s\n"
     ]
    },
    {
     "data": {
      "text/html": [
       "<div>\n",
       "<style scoped>\n",
       "    .dataframe tbody tr th:only-of-type {\n",
       "        vertical-align: middle;\n",
       "    }\n",
       "\n",
       "    .dataframe tbody tr th {\n",
       "        vertical-align: top;\n",
       "    }\n",
       "\n",
       "    .dataframe thead th {\n",
       "        text-align: right;\n",
       "    }\n",
       "</style>\n",
       "<table border=\"1\" class=\"dataframe\">\n",
       "  <thead>\n",
       "    <tr style=\"text-align: right;\">\n",
       "      <th></th>\n",
       "      <th>day</th>\n",
       "      <th>name</th>\n",
       "      <th>info</th>\n",
       "      <th>link</th>\n",
       "      <th>num_references</th>\n",
       "      <th>year</th>\n",
       "      <th>month</th>\n",
       "      <th>info_parenth</th>\n",
       "      <th>info_1</th>\n",
       "      <th>info_2</th>\n",
       "      <th>info_3</th>\n",
       "      <th>info_4</th>\n",
       "      <th>info_5</th>\n",
       "      <th>info_6</th>\n",
       "      <th>info_7</th>\n",
       "      <th>info_8</th>\n",
       "      <th>info_9</th>\n",
       "      <th>info_10</th>\n",
       "      <th>info_11</th>\n",
       "      <th>age</th>\n",
       "      <th>cause_of_death</th>\n",
       "      <th>place_1</th>\n",
       "      <th>place_2</th>\n",
       "      <th>info_parenth_copy</th>\n",
       "      <th>log_num_references</th>\n",
       "      <th>sciences</th>\n",
       "      <th>social</th>\n",
       "      <th>spiritual</th>\n",
       "      <th>academia_humanities</th>\n",
       "      <th>business_farming</th>\n",
       "      <th>arts</th>\n",
       "      <th>sports</th>\n",
       "      <th>law_enf_military_operator</th>\n",
       "      <th>politics_govt_law</th>\n",
       "      <th>crime</th>\n",
       "      <th>event_record_other</th>\n",
       "      <th>other_species</th>\n",
       "      <th>num_categories</th>\n",
       "    </tr>\n",
       "  </thead>\n",
       "  <tbody>\n",
       "    <tr>\n",
       "      <th>82586</th>\n",
       "      <td>29</td>\n",
       "      <td>Efraín Barquero</td>\n",
       "      <td>, 89, Chilean poet.</td>\n",
       "      <td>https://en.wikipedia.org/wiki/Efra%C3%ADn_Barquero</td>\n",
       "      <td>3</td>\n",
       "      <td>2020</td>\n",
       "      <td>June</td>\n",
       "      <td>None</td>\n",
       "      <td>None</td>\n",
       "      <td></td>\n",
       "      <td>None</td>\n",
       "      <td>None</td>\n",
       "      <td>None</td>\n",
       "      <td>None</td>\n",
       "      <td>None</td>\n",
       "      <td>None</td>\n",
       "      <td>None</td>\n",
       "      <td>None</td>\n",
       "      <td>None</td>\n",
       "      <td>89.0</td>\n",
       "      <td>None</td>\n",
       "      <td>Chile</td>\n",
       "      <td>None</td>\n",
       "      <td>None</td>\n",
       "      <td>1.386294</td>\n",
       "      <td>0</td>\n",
       "      <td>0</td>\n",
       "      <td>0</td>\n",
       "      <td>0</td>\n",
       "      <td>0</td>\n",
       "      <td>1</td>\n",
       "      <td>0</td>\n",
       "      <td>0</td>\n",
       "      <td>0</td>\n",
       "      <td>0</td>\n",
       "      <td>0</td>\n",
       "      <td>0</td>\n",
       "      <td>1</td>\n",
       "    </tr>\n",
       "    <tr>\n",
       "      <th>16354</th>\n",
       "      <td>5</td>\n",
       "      <td>Beti Rhys</td>\n",
       "      <td>, 96, Welsh bookseller and author.</td>\n",
       "      <td>https://en.wikipedia.org/wiki/Beti_Rhys</td>\n",
       "      <td>3</td>\n",
       "      <td>2003</td>\n",
       "      <td>April</td>\n",
       "      <td>None</td>\n",
       "      <td>None</td>\n",
       "      <td></td>\n",
       "      <td>None</td>\n",
       "      <td>None</td>\n",
       "      <td>None</td>\n",
       "      <td>None</td>\n",
       "      <td>None</td>\n",
       "      <td>None</td>\n",
       "      <td>None</td>\n",
       "      <td>None</td>\n",
       "      <td>None</td>\n",
       "      <td>96.0</td>\n",
       "      <td>None</td>\n",
       "      <td>Wales</td>\n",
       "      <td>None</td>\n",
       "      <td>None</td>\n",
       "      <td>1.386294</td>\n",
       "      <td>0</td>\n",
       "      <td>0</td>\n",
       "      <td>0</td>\n",
       "      <td>0</td>\n",
       "      <td>0</td>\n",
       "      <td>1</td>\n",
       "      <td>0</td>\n",
       "      <td>0</td>\n",
       "      <td>0</td>\n",
       "      <td>0</td>\n",
       "      <td>0</td>\n",
       "      <td>0</td>\n",
       "      <td>1</td>\n",
       "    </tr>\n",
       "  </tbody>\n",
       "</table>\n",
       "</div>"
      ],
      "text/plain": [
       "      day             name                                info  \\\n",
       "82586  29  Efraín Barquero                 , 89, Chilean poet.   \n",
       "16354   5        Beti Rhys  , 96, Welsh bookseller and author.   \n",
       "\n",
       "                                                     link  num_references  \\\n",
       "82586  https://en.wikipedia.org/wiki/Efra%C3%ADn_Barquero               3   \n",
       "16354             https://en.wikipedia.org/wiki/Beti_Rhys               3   \n",
       "\n",
       "       year  month info_parenth info_1 info_2 info_3 info_4 info_5 info_6  \\\n",
       "82586  2020   June         None   None          None   None   None   None   \n",
       "16354  2003  April         None   None          None   None   None   None   \n",
       "\n",
       "      info_7 info_8 info_9 info_10 info_11   age cause_of_death place_1  \\\n",
       "82586   None   None   None    None    None  89.0           None   Chile   \n",
       "16354   None   None   None    None    None  96.0           None   Wales   \n",
       "\n",
       "      place_2 info_parenth_copy  log_num_references  sciences  social  \\\n",
       "82586    None              None            1.386294         0       0   \n",
       "16354    None              None            1.386294         0       0   \n",
       "\n",
       "       spiritual  academia_humanities  business_farming  arts  sports  \\\n",
       "82586          0                    0                 0     1       0   \n",
       "16354          0                    0                 0     1       0   \n",
       "\n",
       "       law_enf_military_operator  politics_govt_law  crime  \\\n",
       "82586                          0                  0      0   \n",
       "16354                          0                  0      0   \n",
       "\n",
       "       event_record_other  other_species  num_categories  \n",
       "82586                   0              0               1  \n",
       "16354                   0              0               1  "
      ]
     },
     "execution_count": 106,
     "metadata": {},
     "output_type": "execute_result"
    },
    {
     "data": {
      "application/javascript": [
       "\n",
       "            setTimeout(function() {\n",
       "                var nbb_cell_id = 106;\n",
       "                var nbb_unformatted_code = \"%%time\\n\\n# Dictionary version\\nsearch_dict = known_for_dict\\n\\n# Column to check\\ncolumn = 'info_2'\\n\\n# Dataframe\\ndataframe = df[column].notna()\\n\\n# For loop to find role in column and extract it as category\\nfor category, category_lst in search_dict.items():\\n    for role in category_lst:\\n        for index in dataframe.index:\\n            item = df.loc[index, column]\\n            if item:\\n                if role in item:\\n                    df.loc[index, category] = 1\\n                    df.loc[index, column] = item.replace(role, '').strip()\\n\\n# Updating num_categories\\ndf[\\\"num_categories\\\"] = df[known_for_dict.keys()].sum(axis=1)\\n\\n# Checking a sample of rows\\ndf[df['arts'] ==1].sample(2)\";\n",
       "                var nbb_formatted_code = \"%%time\\n\\n# Dictionary version\\nsearch_dict = known_for_dict\\n\\n# Column to check\\ncolumn = 'info_2'\\n\\n# Dataframe\\ndataframe = df[column].notna()\\n\\n# For loop to find role in column and extract it as category\\nfor category, category_lst in search_dict.items():\\n    for role in category_lst:\\n        for index in dataframe.index:\\n            item = df.loc[index, column]\\n            if item:\\n                if role in item:\\n                    df.loc[index, category] = 1\\n                    df.loc[index, column] = item.replace(role, '').strip()\\n\\n# Updating num_categories\\ndf[\\\"num_categories\\\"] = df[known_for_dict.keys()].sum(axis=1)\\n\\n# Checking a sample of rows\\ndf[df['arts'] ==1].sample(2)\";\n",
       "                var nbb_cells = Jupyter.notebook.get_cells();\n",
       "                for (var i = 0; i < nbb_cells.length; ++i) {\n",
       "                    if (nbb_cells[i].input_prompt_number == nbb_cell_id) {\n",
       "                        if (nbb_cells[i].get_text() == nbb_unformatted_code) {\n",
       "                             nbb_cells[i].set_text(nbb_formatted_code);\n",
       "                        }\n",
       "                        break;\n",
       "                    }\n",
       "                }\n",
       "            }, 500);\n",
       "            "
      ],
      "text/plain": [
       "<IPython.core.display.Javascript object>"
      ]
     },
     "metadata": {},
     "output_type": "display_data"
    }
   ],
   "source": [
    "%%time\n",
    "\n",
    "# Dictionary version\n",
    "search_dict = known_for_dict\n",
    "\n",
    "# Column to check\n",
    "column = 'info_2'\n",
    "\n",
    "# Dataframe\n",
    "dataframe = df[column].notna()\n",
    "\n",
    "# For loop to find role in column and extract it as category\n",
    "for category, category_lst in search_dict.items():\n",
    "    for role in category_lst:\n",
    "        for index in dataframe.index:\n",
    "            item = df.loc[index, column]\n",
    "            if item:\n",
    "                if role in item:\n",
    "                    df.loc[index, category] = 1\n",
    "                    df.loc[index, column] = item.replace(role, '').strip()\n",
    "\n",
    "# Updating num_categories\n",
    "df[\"num_categories\"] = df[known_for_dict.keys()].sum(axis=1)\n",
    "\n",
    "# Checking a sample of rows\n",
    "df[df['arts'] ==1].sample(2)"
   ]
  },
  {
   "cell_type": "markdown",
   "id": "bfcec692",
   "metadata": {},
   "source": [
    "#### Checking the Number of Rows without a First Category"
   ]
  },
  {
   "cell_type": "code",
   "execution_count": 107,
   "id": "d184f709",
   "metadata": {},
   "outputs": [
    {
     "name": "stdout",
     "output_type": "stream",
     "text": [
      "There are 29417 entries without any known_for category.\n"
     ]
    },
    {
     "data": {
      "application/javascript": [
       "\n",
       "            setTimeout(function() {\n",
       "                var nbb_cell_id = 107;\n",
       "                var nbb_unformatted_code = \"# Checking the number of rows without a first category\\nprint(\\n    f'There are {len(df[df[\\\"num_categories\\\"]==0])} entries without any known_for category.'\\n)\";\n",
       "                var nbb_formatted_code = \"# Checking the number of rows without a first category\\nprint(\\n    f'There are {len(df[df[\\\"num_categories\\\"]==0])} entries without any known_for category.'\\n)\";\n",
       "                var nbb_cells = Jupyter.notebook.get_cells();\n",
       "                for (var i = 0; i < nbb_cells.length; ++i) {\n",
       "                    if (nbb_cells[i].input_prompt_number == nbb_cell_id) {\n",
       "                        if (nbb_cells[i].get_text() == nbb_unformatted_code) {\n",
       "                             nbb_cells[i].set_text(nbb_formatted_code);\n",
       "                        }\n",
       "                        break;\n",
       "                    }\n",
       "                }\n",
       "            }, 500);\n",
       "            "
      ],
      "text/plain": [
       "<IPython.core.display.Javascript object>"
      ]
     },
     "metadata": {},
     "output_type": "display_data"
    }
   ],
   "source": [
    "# Checking the number of rows without a first category\n",
    "print(\n",
    "    f'There are {len(df[df[\"num_categories\"]==0])} entries without any known_for category.'\n",
    ")"
   ]
  },
  {
   "cell_type": "markdown",
   "id": "38fb82dc",
   "metadata": {},
   "source": [
    "#### Observations:\n",
    "- We will proceed to rebuild `known_for_dict` for the next iteration."
   ]
  },
  {
   "cell_type": "markdown",
   "id": "d71430ef",
   "metadata": {},
   "source": [
    "#### Finding `known_for` Roles in `info_2`"
   ]
  },
  {
   "cell_type": "code",
   "execution_count": 108,
   "id": "0fb8e84a",
   "metadata": {},
   "outputs": [
    {
     "data": {
      "application/javascript": [
       "\n",
       "            setTimeout(function() {\n",
       "                var nbb_cell_id = 108;\n",
       "                var nbb_unformatted_code = \"# # Obtaining values for column and their counts\\n# roles_list = df[\\\"info_2\\\"].value_counts(ascending=True).index.tolist()\";\n",
       "                var nbb_formatted_code = \"# # Obtaining values for column and their counts\\n# roles_list = df[\\\"info_2\\\"].value_counts(ascending=True).index.tolist()\";\n",
       "                var nbb_cells = Jupyter.notebook.get_cells();\n",
       "                for (var i = 0; i < nbb_cells.length; ++i) {\n",
       "                    if (nbb_cells[i].input_prompt_number == nbb_cell_id) {\n",
       "                        if (nbb_cells[i].get_text() == nbb_unformatted_code) {\n",
       "                             nbb_cells[i].set_text(nbb_formatted_code);\n",
       "                        }\n",
       "                        break;\n",
       "                    }\n",
       "                }\n",
       "            }, 500);\n",
       "            "
      ],
      "text/plain": [
       "<IPython.core.display.Javascript object>"
      ]
     },
     "metadata": {},
     "output_type": "display_data"
    }
   ],
   "source": [
    "# # Obtaining values for column and their counts\n",
    "# roles_list = df[\"info_2\"].value_counts(ascending=True).index.tolist()"
   ]
  },
  {
   "cell_type": "code",
   "execution_count": 109,
   "id": "1c577798",
   "metadata": {},
   "outputs": [
    {
     "data": {
      "application/javascript": [
       "\n",
       "            setTimeout(function() {\n",
       "                var nbb_cell_id = 109;\n",
       "                var nbb_unformatted_code = \"# # Code to check each value\\n# roles_list.pop()\";\n",
       "                var nbb_formatted_code = \"# # Code to check each value\\n# roles_list.pop()\";\n",
       "                var nbb_cells = Jupyter.notebook.get_cells();\n",
       "                for (var i = 0; i < nbb_cells.length; ++i) {\n",
       "                    if (nbb_cells[i].input_prompt_number == nbb_cell_id) {\n",
       "                        if (nbb_cells[i].get_text() == nbb_unformatted_code) {\n",
       "                             nbb_cells[i].set_text(nbb_formatted_code);\n",
       "                        }\n",
       "                        break;\n",
       "                    }\n",
       "                }\n",
       "            }, 500);\n",
       "            "
      ],
      "text/plain": [
       "<IPython.core.display.Javascript object>"
      ]
     },
     "metadata": {},
     "output_type": "display_data"
    }
   ],
   "source": [
    "# # Code to check each value\n",
    "# roles_list.pop()"
   ]
  },
  {
   "cell_type": "code",
   "execution_count": 110,
   "id": "f881be65",
   "metadata": {},
   "outputs": [
    {
     "data": {
      "application/javascript": [
       "\n",
       "            setTimeout(function() {\n",
       "                var nbb_cell_id = 110;\n",
       "                var nbb_unformatted_code = \"# # Create specific_roles_list for above popped value\\n# specific_roles_list = (\\n#     df.loc[\\n#         [\\n#             index\\n#             for index in df[df[\\\"info_2\\\"].notna()].index\\n#             if \\\"tennis player\\\" in df.loc[index, \\\"info_2\\\"]\\n#         ],\\n#         \\\"info_2\\\",\\n#     ]\\n#     .value_counts()\\n#     .index.tolist()\\n# )\";\n",
       "                var nbb_formatted_code = \"# # Create specific_roles_list for above popped value\\n# specific_roles_list = (\\n#     df.loc[\\n#         [\\n#             index\\n#             for index in df[df[\\\"info_2\\\"].notna()].index\\n#             if \\\"tennis player\\\" in df.loc[index, \\\"info_2\\\"]\\n#         ],\\n#         \\\"info_2\\\",\\n#     ]\\n#     .value_counts()\\n#     .index.tolist()\\n# )\";\n",
       "                var nbb_cells = Jupyter.notebook.get_cells();\n",
       "                for (var i = 0; i < nbb_cells.length; ++i) {\n",
       "                    if (nbb_cells[i].input_prompt_number == nbb_cell_id) {\n",
       "                        if (nbb_cells[i].get_text() == nbb_unformatted_code) {\n",
       "                             nbb_cells[i].set_text(nbb_formatted_code);\n",
       "                        }\n",
       "                        break;\n",
       "                    }\n",
       "                }\n",
       "            }, 500);\n",
       "            "
      ],
      "text/plain": [
       "<IPython.core.display.Javascript object>"
      ]
     },
     "metadata": {},
     "output_type": "display_data"
    }
   ],
   "source": [
    "# # Create specific_roles_list for above popped value\n",
    "# specific_roles_list = (\n",
    "#     df.loc[\n",
    "#         [\n",
    "#             index\n",
    "#             for index in df[df[\"info_2\"].notna()].index\n",
    "#             if \"tennis player\" in df.loc[index, \"info_2\"]\n",
    "#         ],\n",
    "#         \"info_2\",\n",
    "#     ]\n",
    "#     .value_counts()\n",
    "#     .index.tolist()\n",
    "# )"
   ]
  },
  {
   "cell_type": "code",
   "execution_count": 111,
   "id": "e6ea839f",
   "metadata": {},
   "outputs": [
    {
     "data": {
      "application/javascript": [
       "\n",
       "            setTimeout(function() {\n",
       "                var nbb_cell_id = 111;\n",
       "                var nbb_unformatted_code = \"# # Code to check each specific value\\n# specific_roles_list.pop()\";\n",
       "                var nbb_formatted_code = \"# # Code to check each specific value\\n# specific_roles_list.pop()\";\n",
       "                var nbb_cells = Jupyter.notebook.get_cells();\n",
       "                for (var i = 0; i < nbb_cells.length; ++i) {\n",
       "                    if (nbb_cells[i].input_prompt_number == nbb_cell_id) {\n",
       "                        if (nbb_cells[i].get_text() == nbb_unformatted_code) {\n",
       "                             nbb_cells[i].set_text(nbb_formatted_code);\n",
       "                        }\n",
       "                        break;\n",
       "                    }\n",
       "                }\n",
       "            }, 500);\n",
       "            "
      ],
      "text/plain": [
       "<IPython.core.display.Javascript object>"
      ]
     },
     "metadata": {},
     "output_type": "display_data"
    }
   ],
   "source": [
    "# # Code to check each specific value\n",
    "# specific_roles_list.pop()"
   ]
  },
  {
   "cell_type": "code",
   "execution_count": 112,
   "id": "bdea6335",
   "metadata": {},
   "outputs": [
    {
     "data": {
      "application/javascript": [
       "\n",
       "            setTimeout(function() {\n",
       "                var nbb_cell_id = 112;\n",
       "                var nbb_unformatted_code = \"# # Example code to quick-screen values that may overlap categories\\n# df.loc[[index for index in df.index if \\\"and science writer\\\" in df.loc[index, \\\"info\\\"]]]\";\n",
       "                var nbb_formatted_code = \"# # Example code to quick-screen values that may overlap categories\\n# df.loc[[index for index in df.index if \\\"and science writer\\\" in df.loc[index, \\\"info\\\"]]]\";\n",
       "                var nbb_cells = Jupyter.notebook.get_cells();\n",
       "                for (var i = 0; i < nbb_cells.length; ++i) {\n",
       "                    if (nbb_cells[i].input_prompt_number == nbb_cell_id) {\n",
       "                        if (nbb_cells[i].get_text() == nbb_unformatted_code) {\n",
       "                             nbb_cells[i].set_text(nbb_formatted_code);\n",
       "                        }\n",
       "                        break;\n",
       "                    }\n",
       "                }\n",
       "            }, 500);\n",
       "            "
      ],
      "text/plain": [
       "<IPython.core.display.Javascript object>"
      ]
     },
     "metadata": {},
     "output_type": "display_data"
    }
   ],
   "source": [
    "# # Example code to quick-screen values that may overlap categories\n",
    "# df.loc[[index for index in df.index if \"and science writer\" in df.loc[index, \"info\"]]]"
   ]
  },
  {
   "cell_type": "code",
   "execution_count": 113,
   "id": "0f08a3a6",
   "metadata": {},
   "outputs": [
    {
     "data": {
      "application/javascript": [
       "\n",
       "            setTimeout(function() {\n",
       "                var nbb_cell_id = 113;\n",
       "                var nbb_unformatted_code = \"# # Example code to quick-screen values that may overlap categories\\n# df.loc[\\n#     [\\n#         index\\n#         for index in df.index\\n#         if \\\"outlaw country music singer songwriter\\\" in df.loc[index, \\\"info\\\"]\\n#     ]\\n# ]\";\n",
       "                var nbb_formatted_code = \"# # Example code to quick-screen values that may overlap categories\\n# df.loc[\\n#     [\\n#         index\\n#         for index in df.index\\n#         if \\\"outlaw country music singer songwriter\\\" in df.loc[index, \\\"info\\\"]\\n#     ]\\n# ]\";\n",
       "                var nbb_cells = Jupyter.notebook.get_cells();\n",
       "                for (var i = 0; i < nbb_cells.length; ++i) {\n",
       "                    if (nbb_cells[i].input_prompt_number == nbb_cell_id) {\n",
       "                        if (nbb_cells[i].get_text() == nbb_unformatted_code) {\n",
       "                             nbb_cells[i].set_text(nbb_formatted_code);\n",
       "                        }\n",
       "                        break;\n",
       "                    }\n",
       "                }\n",
       "            }, 500);\n",
       "            "
      ],
      "text/plain": [
       "<IPython.core.display.Javascript object>"
      ]
     },
     "metadata": {},
     "output_type": "display_data"
    }
   ],
   "source": [
    "# # Example code to quick-screen values that may overlap categories\n",
    "# df.loc[\n",
    "#     [\n",
    "#         index\n",
    "#         for index in df.index\n",
    "#         if \"outlaw country music singer songwriter\" in df.loc[index, \"info\"]\n",
    "#     ]\n",
    "# ]"
   ]
  },
  {
   "cell_type": "code",
   "execution_count": 114,
   "id": "07549557",
   "metadata": {},
   "outputs": [
    {
     "data": {
      "application/javascript": [
       "\n",
       "            setTimeout(function() {\n",
       "                var nbb_cell_id = 114;\n",
       "                var nbb_unformatted_code = \"# # Example code to quick-check a specific entry\\n# df[df[\\\"info_2\\\"] == \\\"tennis player and administrator\\\"]\";\n",
       "                var nbb_formatted_code = \"# # Example code to quick-check a specific entry\\n# df[df[\\\"info_2\\\"] == \\\"tennis player and administrator\\\"]\";\n",
       "                var nbb_cells = Jupyter.notebook.get_cells();\n",
       "                for (var i = 0; i < nbb_cells.length; ++i) {\n",
       "                    if (nbb_cells[i].input_prompt_number == nbb_cell_id) {\n",
       "                        if (nbb_cells[i].get_text() == nbb_unformatted_code) {\n",
       "                             nbb_cells[i].set_text(nbb_formatted_code);\n",
       "                        }\n",
       "                        break;\n",
       "                    }\n",
       "                }\n",
       "            }, 500);\n",
       "            "
      ],
      "text/plain": [
       "<IPython.core.display.Javascript object>"
      ]
     },
     "metadata": {},
     "output_type": "display_data"
    }
   ],
   "source": [
    "# # Example code to quick-check a specific entry\n",
    "# df[df[\"info_2\"] == \"tennis player and administrator\"]"
   ]
  },
  {
   "cell_type": "markdown",
   "id": "eb24a172",
   "metadata": {},
   "source": [
    "#### Creating Lists for Each `known_for` Category"
   ]
  },
  {
   "cell_type": "code",
   "execution_count": 115,
   "id": "45790d25",
   "metadata": {},
   "outputs": [
    {
     "data": {
      "application/javascript": [
       "\n",
       "            setTimeout(function() {\n",
       "                var nbb_cell_id = 115;\n",
       "                var nbb_unformatted_code = \"# Creating lists for each category\\npolitics_govt_law = []\\n\\narts = []\\nsports = [\\n    \\\"wheelchair table tennis player and Paralympian gold medalist\\\",\\n    \\\"Paralympic wheelchair tennis player and powerlifter\\\",\\n    \\\"table tennis player and assistant racehorse trainer\\\",\\n    \\\"wheelchair tennis player and Paralympic athlete\\\",\\n    \\\"tennis player and sports administrator\\\",\\n    \\\"Male international table tennis player\\\",\\n    \\\"handball and tennis player and coach\\\",\\n    \\\"tennis player and administrator\\\",\\n    \\\"table tennis and tennis player\\\",\\n    \\\"table tennis player and coach\\\",\\n    \\\"tennis player and instructor\\\",\\n    \\\"tennis player in the s and s\\\",\\n    \\\"badminton and tennis player\\\",\\n    \\\"Olympic table tennis player\\\",\\n    \\\"Hall of Fame tennis player\\\",\\n    \\\"Female tennis player from\\\",\\n    \\\"hockey and tennis player\\\",\\n    \\\"wheelchair tennis player\\\",\\n    \\\"squash and tennis player\\\",\\n    \\\"tennis player and sports\\\",\\n    \\\"tennis player and coach\\\",\\n    \\\"chess and tennis player\\\",\\n    \\\"female tennis player\\\",\\n    \\\"table tennis player\\\",\\n    \\\"tennis player and\\\",\\n    \\\"and tennis player\\\",\\n    \\\"tennis player\\\",\\n]\\nsciences = []\\n\\nbusiness_farming = []\\nacademia_humanities = []\\nlaw_enf_military_operator = []\\nspiritual = []\\nsocial = []\\ncrime = []\\nevent_record_other = []\\nother_species = []\";\n",
       "                var nbb_formatted_code = \"# Creating lists for each category\\npolitics_govt_law = []\\n\\narts = []\\nsports = [\\n    \\\"wheelchair table tennis player and Paralympian gold medalist\\\",\\n    \\\"Paralympic wheelchair tennis player and powerlifter\\\",\\n    \\\"table tennis player and assistant racehorse trainer\\\",\\n    \\\"wheelchair tennis player and Paralympic athlete\\\",\\n    \\\"tennis player and sports administrator\\\",\\n    \\\"Male international table tennis player\\\",\\n    \\\"handball and tennis player and coach\\\",\\n    \\\"tennis player and administrator\\\",\\n    \\\"table tennis and tennis player\\\",\\n    \\\"table tennis player and coach\\\",\\n    \\\"tennis player and instructor\\\",\\n    \\\"tennis player in the s and s\\\",\\n    \\\"badminton and tennis player\\\",\\n    \\\"Olympic table tennis player\\\",\\n    \\\"Hall of Fame tennis player\\\",\\n    \\\"Female tennis player from\\\",\\n    \\\"hockey and tennis player\\\",\\n    \\\"wheelchair tennis player\\\",\\n    \\\"squash and tennis player\\\",\\n    \\\"tennis player and sports\\\",\\n    \\\"tennis player and coach\\\",\\n    \\\"chess and tennis player\\\",\\n    \\\"female tennis player\\\",\\n    \\\"table tennis player\\\",\\n    \\\"tennis player and\\\",\\n    \\\"and tennis player\\\",\\n    \\\"tennis player\\\",\\n]\\nsciences = []\\n\\nbusiness_farming = []\\nacademia_humanities = []\\nlaw_enf_military_operator = []\\nspiritual = []\\nsocial = []\\ncrime = []\\nevent_record_other = []\\nother_species = []\";\n",
       "                var nbb_cells = Jupyter.notebook.get_cells();\n",
       "                for (var i = 0; i < nbb_cells.length; ++i) {\n",
       "                    if (nbb_cells[i].input_prompt_number == nbb_cell_id) {\n",
       "                        if (nbb_cells[i].get_text() == nbb_unformatted_code) {\n",
       "                             nbb_cells[i].set_text(nbb_formatted_code);\n",
       "                        }\n",
       "                        break;\n",
       "                    }\n",
       "                }\n",
       "            }, 500);\n",
       "            "
      ],
      "text/plain": [
       "<IPython.core.display.Javascript object>"
      ]
     },
     "metadata": {},
     "output_type": "display_data"
    }
   ],
   "source": [
    "# Creating lists for each category\n",
    "politics_govt_law = []\n",
    "\n",
    "arts = []\n",
    "sports = [\n",
    "    \"wheelchair table tennis player and Paralympian gold medalist\",\n",
    "    \"Paralympic wheelchair tennis player and powerlifter\",\n",
    "    \"table tennis player and assistant racehorse trainer\",\n",
    "    \"wheelchair tennis player and Paralympic athlete\",\n",
    "    \"tennis player and sports administrator\",\n",
    "    \"Male international table tennis player\",\n",
    "    \"handball and tennis player and coach\",\n",
    "    \"tennis player and administrator\",\n",
    "    \"table tennis and tennis player\",\n",
    "    \"table tennis player and coach\",\n",
    "    \"tennis player and instructor\",\n",
    "    \"tennis player in the s and s\",\n",
    "    \"badminton and tennis player\",\n",
    "    \"Olympic table tennis player\",\n",
    "    \"Hall of Fame tennis player\",\n",
    "    \"Female tennis player from\",\n",
    "    \"hockey and tennis player\",\n",
    "    \"wheelchair tennis player\",\n",
    "    \"squash and tennis player\",\n",
    "    \"tennis player and sports\",\n",
    "    \"tennis player and coach\",\n",
    "    \"chess and tennis player\",\n",
    "    \"female tennis player\",\n",
    "    \"table tennis player\",\n",
    "    \"tennis player and\",\n",
    "    \"and tennis player\",\n",
    "    \"tennis player\",\n",
    "]\n",
    "sciences = []\n",
    "\n",
    "business_farming = []\n",
    "academia_humanities = []\n",
    "law_enf_military_operator = []\n",
    "spiritual = []\n",
    "social = []\n",
    "crime = []\n",
    "event_record_other = []\n",
    "other_species = []"
   ]
  },
  {
   "cell_type": "markdown",
   "id": "1f02fcc5",
   "metadata": {},
   "source": [
    "#### Creating `known_for_dict` Dictionary of Category Keys and Specific Role Lists of Values"
   ]
  },
  {
   "cell_type": "code",
   "execution_count": 116,
   "id": "eabad22b",
   "metadata": {},
   "outputs": [
    {
     "data": {
      "application/javascript": [
       "\n",
       "            setTimeout(function() {\n",
       "                var nbb_cell_id = 116;\n",
       "                var nbb_unformatted_code = \"# Combining separate lists into one dictionary\\nknown_for_dict = {\\n    \\\"social\\\": social,\\n    \\\"spiritual\\\": spiritual,\\n    \\\"academia_humanities\\\": academia_humanities,\\n    \\\"business_farming\\\": business_farming,\\n    \\\"sciences\\\": sciences,\\n    \\\"politics_govt_law\\\": politics_govt_law,\\n    \\\"law_enf_military_operator\\\": law_enf_military_operator,\\n    \\\"crime\\\": crime,\\n    \\\"event_record_other\\\": event_record_other,\\n    \\\"other_species\\\": other_species,\\n    \\\"arts\\\": arts,\\n    \\\"sports\\\": sports,\\n}\";\n",
       "                var nbb_formatted_code = \"# Combining separate lists into one dictionary\\nknown_for_dict = {\\n    \\\"social\\\": social,\\n    \\\"spiritual\\\": spiritual,\\n    \\\"academia_humanities\\\": academia_humanities,\\n    \\\"business_farming\\\": business_farming,\\n    \\\"sciences\\\": sciences,\\n    \\\"politics_govt_law\\\": politics_govt_law,\\n    \\\"law_enf_military_operator\\\": law_enf_military_operator,\\n    \\\"crime\\\": crime,\\n    \\\"event_record_other\\\": event_record_other,\\n    \\\"other_species\\\": other_species,\\n    \\\"arts\\\": arts,\\n    \\\"sports\\\": sports,\\n}\";\n",
       "                var nbb_cells = Jupyter.notebook.get_cells();\n",
       "                for (var i = 0; i < nbb_cells.length; ++i) {\n",
       "                    if (nbb_cells[i].input_prompt_number == nbb_cell_id) {\n",
       "                        if (nbb_cells[i].get_text() == nbb_unformatted_code) {\n",
       "                             nbb_cells[i].set_text(nbb_formatted_code);\n",
       "                        }\n",
       "                        break;\n",
       "                    }\n",
       "                }\n",
       "            }, 500);\n",
       "            "
      ],
      "text/plain": [
       "<IPython.core.display.Javascript object>"
      ]
     },
     "metadata": {},
     "output_type": "display_data"
    }
   ],
   "source": [
    "# Combining separate lists into one dictionary\n",
    "known_for_dict = {\n",
    "    \"social\": social,\n",
    "    \"spiritual\": spiritual,\n",
    "    \"academia_humanities\": academia_humanities,\n",
    "    \"business_farming\": business_farming,\n",
    "    \"sciences\": sciences,\n",
    "    \"politics_govt_law\": politics_govt_law,\n",
    "    \"law_enf_military_operator\": law_enf_military_operator,\n",
    "    \"crime\": crime,\n",
    "    \"event_record_other\": event_record_other,\n",
    "    \"other_species\": other_species,\n",
    "    \"arts\": arts,\n",
    "    \"sports\": sports,\n",
    "}"
   ]
  },
  {
   "cell_type": "markdown",
   "id": "d5154331",
   "metadata": {},
   "source": [
    "#### Extracting Category from `info_2`"
   ]
  },
  {
   "cell_type": "code",
   "execution_count": 117,
   "id": "98cd7a69",
   "metadata": {},
   "outputs": [
    {
     "name": "stdout",
     "output_type": "stream",
     "text": [
      "CPU times: total: 14.6 s\n",
      "Wall time: 14.6 s\n"
     ]
    },
    {
     "data": {
      "text/html": [
       "<div>\n",
       "<style scoped>\n",
       "    .dataframe tbody tr th:only-of-type {\n",
       "        vertical-align: middle;\n",
       "    }\n",
       "\n",
       "    .dataframe tbody tr th {\n",
       "        vertical-align: top;\n",
       "    }\n",
       "\n",
       "    .dataframe thead th {\n",
       "        text-align: right;\n",
       "    }\n",
       "</style>\n",
       "<table border=\"1\" class=\"dataframe\">\n",
       "  <thead>\n",
       "    <tr style=\"text-align: right;\">\n",
       "      <th></th>\n",
       "      <th>day</th>\n",
       "      <th>name</th>\n",
       "      <th>info</th>\n",
       "      <th>link</th>\n",
       "      <th>num_references</th>\n",
       "      <th>year</th>\n",
       "      <th>month</th>\n",
       "      <th>info_parenth</th>\n",
       "      <th>info_1</th>\n",
       "      <th>info_2</th>\n",
       "      <th>info_3</th>\n",
       "      <th>info_4</th>\n",
       "      <th>info_5</th>\n",
       "      <th>info_6</th>\n",
       "      <th>info_7</th>\n",
       "      <th>info_8</th>\n",
       "      <th>info_9</th>\n",
       "      <th>info_10</th>\n",
       "      <th>info_11</th>\n",
       "      <th>age</th>\n",
       "      <th>cause_of_death</th>\n",
       "      <th>place_1</th>\n",
       "      <th>place_2</th>\n",
       "      <th>info_parenth_copy</th>\n",
       "      <th>log_num_references</th>\n",
       "      <th>sciences</th>\n",
       "      <th>social</th>\n",
       "      <th>spiritual</th>\n",
       "      <th>academia_humanities</th>\n",
       "      <th>business_farming</th>\n",
       "      <th>arts</th>\n",
       "      <th>sports</th>\n",
       "      <th>law_enf_military_operator</th>\n",
       "      <th>politics_govt_law</th>\n",
       "      <th>crime</th>\n",
       "      <th>event_record_other</th>\n",
       "      <th>other_species</th>\n",
       "      <th>num_categories</th>\n",
       "    </tr>\n",
       "  </thead>\n",
       "  <tbody>\n",
       "    <tr>\n",
       "      <th>11315</th>\n",
       "      <td>31</td>\n",
       "      <td>István Gulyás</td>\n",
       "      <td>, 68, Hungarian tennis player.</td>\n",
       "      <td>https://en.wikipedia.org/wiki/Istv%C3%A1n_Guly%C3%A1s</td>\n",
       "      <td>9</td>\n",
       "      <td>2000</td>\n",
       "      <td>July</td>\n",
       "      <td>None</td>\n",
       "      <td>None</td>\n",
       "      <td></td>\n",
       "      <td>None</td>\n",
       "      <td>None</td>\n",
       "      <td>None</td>\n",
       "      <td>None</td>\n",
       "      <td>None</td>\n",
       "      <td>None</td>\n",
       "      <td>None</td>\n",
       "      <td>None</td>\n",
       "      <td>None</td>\n",
       "      <td>68.0</td>\n",
       "      <td>None</td>\n",
       "      <td>Hungary</td>\n",
       "      <td>None</td>\n",
       "      <td>None</td>\n",
       "      <td>2.302585</td>\n",
       "      <td>0</td>\n",
       "      <td>0</td>\n",
       "      <td>0</td>\n",
       "      <td>0</td>\n",
       "      <td>0</td>\n",
       "      <td>0</td>\n",
       "      <td>1</td>\n",
       "      <td>0</td>\n",
       "      <td>0</td>\n",
       "      <td>0</td>\n",
       "      <td>0</td>\n",
       "      <td>0</td>\n",
       "      <td>1</td>\n",
       "    </tr>\n",
       "    <tr>\n",
       "      <th>34036</th>\n",
       "      <td>10</td>\n",
       "      <td>Don Boven</td>\n",
       "      <td>, 86, American basketball player and coach , heart disease.</td>\n",
       "      <td>https://en.wikipedia.org/wiki/Don_Boven</td>\n",
       "      <td>21</td>\n",
       "      <td>2011</td>\n",
       "      <td>March</td>\n",
       "      <td>Western Michigan University</td>\n",
       "      <td>None</td>\n",
       "      <td></td>\n",
       "      <td>heart disease</td>\n",
       "      <td>None</td>\n",
       "      <td>None</td>\n",
       "      <td>None</td>\n",
       "      <td>None</td>\n",
       "      <td>None</td>\n",
       "      <td>None</td>\n",
       "      <td>None</td>\n",
       "      <td>None</td>\n",
       "      <td>86.0</td>\n",
       "      <td>None</td>\n",
       "      <td>United States of America</td>\n",
       "      <td>None</td>\n",
       "      <td>Western Michigan University</td>\n",
       "      <td>3.091042</td>\n",
       "      <td>0</td>\n",
       "      <td>0</td>\n",
       "      <td>0</td>\n",
       "      <td>0</td>\n",
       "      <td>0</td>\n",
       "      <td>0</td>\n",
       "      <td>1</td>\n",
       "      <td>0</td>\n",
       "      <td>0</td>\n",
       "      <td>0</td>\n",
       "      <td>0</td>\n",
       "      <td>0</td>\n",
       "      <td>1</td>\n",
       "    </tr>\n",
       "  </tbody>\n",
       "</table>\n",
       "</div>"
      ],
      "text/plain": [
       "      day           name  \\\n",
       "11315  31  István Gulyás   \n",
       "34036  10      Don Boven   \n",
       "\n",
       "                                                              info  \\\n",
       "11315                               , 68, Hungarian tennis player.   \n",
       "34036  , 86, American basketball player and coach , heart disease.   \n",
       "\n",
       "                                                        link  num_references  \\\n",
       "11315  https://en.wikipedia.org/wiki/Istv%C3%A1n_Guly%C3%A1s               9   \n",
       "34036                https://en.wikipedia.org/wiki/Don_Boven              21   \n",
       "\n",
       "       year  month                 info_parenth info_1 info_2         info_3  \\\n",
       "11315  2000   July                         None   None                  None   \n",
       "34036  2011  March  Western Michigan University   None         heart disease   \n",
       "\n",
       "      info_4 info_5 info_6 info_7 info_8 info_9 info_10 info_11   age  \\\n",
       "11315   None   None   None   None   None   None    None    None  68.0   \n",
       "34036   None   None   None   None   None   None    None    None  86.0   \n",
       "\n",
       "      cause_of_death                   place_1 place_2  \\\n",
       "11315           None                   Hungary    None   \n",
       "34036           None  United States of America    None   \n",
       "\n",
       "                 info_parenth_copy  log_num_references  sciences  social  \\\n",
       "11315                         None            2.302585         0       0   \n",
       "34036  Western Michigan University            3.091042         0       0   \n",
       "\n",
       "       spiritual  academia_humanities  business_farming  arts  sports  \\\n",
       "11315          0                    0                 0     0       1   \n",
       "34036          0                    0                 0     0       1   \n",
       "\n",
       "       law_enf_military_operator  politics_govt_law  crime  \\\n",
       "11315                          0                  0      0   \n",
       "34036                          0                  0      0   \n",
       "\n",
       "       event_record_other  other_species  num_categories  \n",
       "11315                   0              0               1  \n",
       "34036                   0              0               1  "
      ]
     },
     "execution_count": 117,
     "metadata": {},
     "output_type": "execute_result"
    },
    {
     "data": {
      "application/javascript": [
       "\n",
       "            setTimeout(function() {\n",
       "                var nbb_cell_id = 117;\n",
       "                var nbb_unformatted_code = \"%%time\\n\\n# Dictionary version\\nsearch_dict = known_for_dict\\n\\n# Column to check\\ncolumn = 'info_2'\\n\\n# Dataframe\\ndataframe = df[column].notna()\\n\\n# For loop to find role in column and extract it as category\\nfor category, category_lst in search_dict.items():\\n    for role in category_lst:\\n        for index in dataframe.index:\\n            item = df.loc[index, column]\\n            if item:\\n                if role in item:\\n                    df.loc[index, category] = 1\\n                    df.loc[index, column] = item.replace(role, '').strip()\\n\\n# Updating num_categories\\ndf[\\\"num_categories\\\"] = df[known_for_dict.keys()].sum(axis=1)\\n\\n# Checking a sample of rows\\ndf[df['sports'] ==1].sample(2)\";\n",
       "                var nbb_formatted_code = \"%%time\\n\\n# Dictionary version\\nsearch_dict = known_for_dict\\n\\n# Column to check\\ncolumn = 'info_2'\\n\\n# Dataframe\\ndataframe = df[column].notna()\\n\\n# For loop to find role in column and extract it as category\\nfor category, category_lst in search_dict.items():\\n    for role in category_lst:\\n        for index in dataframe.index:\\n            item = df.loc[index, column]\\n            if item:\\n                if role in item:\\n                    df.loc[index, category] = 1\\n                    df.loc[index, column] = item.replace(role, '').strip()\\n\\n# Updating num_categories\\ndf[\\\"num_categories\\\"] = df[known_for_dict.keys()].sum(axis=1)\\n\\n# Checking a sample of rows\\ndf[df['sports'] ==1].sample(2)\";\n",
       "                var nbb_cells = Jupyter.notebook.get_cells();\n",
       "                for (var i = 0; i < nbb_cells.length; ++i) {\n",
       "                    if (nbb_cells[i].input_prompt_number == nbb_cell_id) {\n",
       "                        if (nbb_cells[i].get_text() == nbb_unformatted_code) {\n",
       "                             nbb_cells[i].set_text(nbb_formatted_code);\n",
       "                        }\n",
       "                        break;\n",
       "                    }\n",
       "                }\n",
       "            }, 500);\n",
       "            "
      ],
      "text/plain": [
       "<IPython.core.display.Javascript object>"
      ]
     },
     "metadata": {},
     "output_type": "display_data"
    }
   ],
   "source": [
    "%%time\n",
    "\n",
    "# Dictionary version\n",
    "search_dict = known_for_dict\n",
    "\n",
    "# Column to check\n",
    "column = 'info_2'\n",
    "\n",
    "# Dataframe\n",
    "dataframe = df[column].notna()\n",
    "\n",
    "# For loop to find role in column and extract it as category\n",
    "for category, category_lst in search_dict.items():\n",
    "    for role in category_lst:\n",
    "        for index in dataframe.index:\n",
    "            item = df.loc[index, column]\n",
    "            if item:\n",
    "                if role in item:\n",
    "                    df.loc[index, category] = 1\n",
    "                    df.loc[index, column] = item.replace(role, '').strip()\n",
    "\n",
    "# Updating num_categories\n",
    "df[\"num_categories\"] = df[known_for_dict.keys()].sum(axis=1)\n",
    "\n",
    "# Checking a sample of rows\n",
    "df[df['sports'] ==1].sample(2)"
   ]
  },
  {
   "cell_type": "markdown",
   "id": "bd2a95f5",
   "metadata": {},
   "source": [
    "#### Checking the Number of Rows without a First Category"
   ]
  },
  {
   "cell_type": "code",
   "execution_count": 118,
   "id": "8b64e5c8",
   "metadata": {},
   "outputs": [
    {
     "name": "stdout",
     "output_type": "stream",
     "text": [
      "There are 29163 entries without any known_for category.\n"
     ]
    },
    {
     "data": {
      "application/javascript": [
       "\n",
       "            setTimeout(function() {\n",
       "                var nbb_cell_id = 118;\n",
       "                var nbb_unformatted_code = \"# Checking the number of rows without a first category\\nprint(\\n    f'There are {len(df[df[\\\"num_categories\\\"]==0])} entries without any known_for category.'\\n)\";\n",
       "                var nbb_formatted_code = \"# Checking the number of rows without a first category\\nprint(\\n    f'There are {len(df[df[\\\"num_categories\\\"]==0])} entries without any known_for category.'\\n)\";\n",
       "                var nbb_cells = Jupyter.notebook.get_cells();\n",
       "                for (var i = 0; i < nbb_cells.length; ++i) {\n",
       "                    if (nbb_cells[i].input_prompt_number == nbb_cell_id) {\n",
       "                        if (nbb_cells[i].get_text() == nbb_unformatted_code) {\n",
       "                             nbb_cells[i].set_text(nbb_formatted_code);\n",
       "                        }\n",
       "                        break;\n",
       "                    }\n",
       "                }\n",
       "            }, 500);\n",
       "            "
      ],
      "text/plain": [
       "<IPython.core.display.Javascript object>"
      ]
     },
     "metadata": {},
     "output_type": "display_data"
    }
   ],
   "source": [
    "# Checking the number of rows without a first category\n",
    "print(\n",
    "    f'There are {len(df[df[\"num_categories\"]==0])} entries without any known_for category.'\n",
    ")"
   ]
  },
  {
   "cell_type": "markdown",
   "id": "2a0a6d88",
   "metadata": {},
   "source": [
    "#### Observations:\n",
    "- We will proceed to rebuild `known_for_dict` for the next iteration."
   ]
  },
  {
   "cell_type": "markdown",
   "id": "465ae9b0",
   "metadata": {},
   "source": [
    "#### Finding `known_for` Roles in `info_2`"
   ]
  },
  {
   "cell_type": "code",
   "execution_count": 119,
   "id": "08d31a0a",
   "metadata": {},
   "outputs": [
    {
     "data": {
      "application/javascript": [
       "\n",
       "            setTimeout(function() {\n",
       "                var nbb_cell_id = 119;\n",
       "                var nbb_unformatted_code = \"# # Obtaining values for column and their counts\\n# roles_list = df[\\\"info_2\\\"].value_counts(ascending=True).index.tolist()\";\n",
       "                var nbb_formatted_code = \"# # Obtaining values for column and their counts\\n# roles_list = df[\\\"info_2\\\"].value_counts(ascending=True).index.tolist()\";\n",
       "                var nbb_cells = Jupyter.notebook.get_cells();\n",
       "                for (var i = 0; i < nbb_cells.length; ++i) {\n",
       "                    if (nbb_cells[i].input_prompt_number == nbb_cell_id) {\n",
       "                        if (nbb_cells[i].get_text() == nbb_unformatted_code) {\n",
       "                             nbb_cells[i].set_text(nbb_formatted_code);\n",
       "                        }\n",
       "                        break;\n",
       "                    }\n",
       "                }\n",
       "            }, 500);\n",
       "            "
      ],
      "text/plain": [
       "<IPython.core.display.Javascript object>"
      ]
     },
     "metadata": {},
     "output_type": "display_data"
    }
   ],
   "source": [
    "# # Obtaining values for column and their counts\n",
    "# roles_list = df[\"info_2\"].value_counts(ascending=True).index.tolist()"
   ]
  },
  {
   "cell_type": "code",
   "execution_count": 120,
   "id": "2cb4fff8",
   "metadata": {},
   "outputs": [
    {
     "data": {
      "application/javascript": [
       "\n",
       "            setTimeout(function() {\n",
       "                var nbb_cell_id = 120;\n",
       "                var nbb_unformatted_code = \"# # Code to check each value\\n# roles_list.pop()\";\n",
       "                var nbb_formatted_code = \"# # Code to check each value\\n# roles_list.pop()\";\n",
       "                var nbb_cells = Jupyter.notebook.get_cells();\n",
       "                for (var i = 0; i < nbb_cells.length; ++i) {\n",
       "                    if (nbb_cells[i].input_prompt_number == nbb_cell_id) {\n",
       "                        if (nbb_cells[i].get_text() == nbb_unformatted_code) {\n",
       "                             nbb_cells[i].set_text(nbb_formatted_code);\n",
       "                        }\n",
       "                        break;\n",
       "                    }\n",
       "                }\n",
       "            }, 500);\n",
       "            "
      ],
      "text/plain": [
       "<IPython.core.display.Javascript object>"
      ]
     },
     "metadata": {},
     "output_type": "display_data"
    }
   ],
   "source": [
    "# # Code to check each value\n",
    "# roles_list.pop()"
   ]
  },
  {
   "cell_type": "code",
   "execution_count": 121,
   "id": "b459a1a5",
   "metadata": {},
   "outputs": [
    {
     "data": {
      "application/javascript": [
       "\n",
       "            setTimeout(function() {\n",
       "                var nbb_cell_id = 121;\n",
       "                var nbb_unformatted_code = \"# # Create specific_roles_list for above popped value\\n# specific_roles_list = (\\n#     df.loc[\\n#         [\\n#             index\\n#             for index in df[df[\\\"info_2\\\"].notna()].index\\n#             if \\\"convicted murderer\\\" in df.loc[index, \\\"info_2\\\"]\\n#         ],\\n#         \\\"info_2\\\",\\n#     ]\\n#     .value_counts()\\n#     .index.tolist()\\n# )\";\n",
       "                var nbb_formatted_code = \"# # Create specific_roles_list for above popped value\\n# specific_roles_list = (\\n#     df.loc[\\n#         [\\n#             index\\n#             for index in df[df[\\\"info_2\\\"].notna()].index\\n#             if \\\"convicted murderer\\\" in df.loc[index, \\\"info_2\\\"]\\n#         ],\\n#         \\\"info_2\\\",\\n#     ]\\n#     .value_counts()\\n#     .index.tolist()\\n# )\";\n",
       "                var nbb_cells = Jupyter.notebook.get_cells();\n",
       "                for (var i = 0; i < nbb_cells.length; ++i) {\n",
       "                    if (nbb_cells[i].input_prompt_number == nbb_cell_id) {\n",
       "                        if (nbb_cells[i].get_text() == nbb_unformatted_code) {\n",
       "                             nbb_cells[i].set_text(nbb_formatted_code);\n",
       "                        }\n",
       "                        break;\n",
       "                    }\n",
       "                }\n",
       "            }, 500);\n",
       "            "
      ],
      "text/plain": [
       "<IPython.core.display.Javascript object>"
      ]
     },
     "metadata": {},
     "output_type": "display_data"
    }
   ],
   "source": [
    "# # Create specific_roles_list for above popped value\n",
    "# specific_roles_list = (\n",
    "#     df.loc[\n",
    "#         [\n",
    "#             index\n",
    "#             for index in df[df[\"info_2\"].notna()].index\n",
    "#             if \"convicted murderer\" in df.loc[index, \"info_2\"]\n",
    "#         ],\n",
    "#         \"info_2\",\n",
    "#     ]\n",
    "#     .value_counts()\n",
    "#     .index.tolist()\n",
    "# )"
   ]
  },
  {
   "cell_type": "code",
   "execution_count": 122,
   "id": "5e60b065",
   "metadata": {},
   "outputs": [
    {
     "data": {
      "application/javascript": [
       "\n",
       "            setTimeout(function() {\n",
       "                var nbb_cell_id = 122;\n",
       "                var nbb_unformatted_code = \"# # Code to check each specific value\\n# specific_roles_list.pop()\";\n",
       "                var nbb_formatted_code = \"# # Code to check each specific value\\n# specific_roles_list.pop()\";\n",
       "                var nbb_cells = Jupyter.notebook.get_cells();\n",
       "                for (var i = 0; i < nbb_cells.length; ++i) {\n",
       "                    if (nbb_cells[i].input_prompt_number == nbb_cell_id) {\n",
       "                        if (nbb_cells[i].get_text() == nbb_unformatted_code) {\n",
       "                             nbb_cells[i].set_text(nbb_formatted_code);\n",
       "                        }\n",
       "                        break;\n",
       "                    }\n",
       "                }\n",
       "            }, 500);\n",
       "            "
      ],
      "text/plain": [
       "<IPython.core.display.Javascript object>"
      ]
     },
     "metadata": {},
     "output_type": "display_data"
    }
   ],
   "source": [
    "# # Code to check each specific value\n",
    "# specific_roles_list.pop()"
   ]
  },
  {
   "cell_type": "code",
   "execution_count": 123,
   "id": "2cc267e6",
   "metadata": {},
   "outputs": [
    {
     "data": {
      "application/javascript": [
       "\n",
       "            setTimeout(function() {\n",
       "                var nbb_cell_id = 123;\n",
       "                var nbb_unformatted_code = \"# # Example code to quick-screen values that may overlap categories\\n# df.loc[\\n#     [\\n#         index\\n#         for index in df.index\\n#         if \\\"Marine veteran of the War\\\" in df.loc[index, \\\"info\\\"]\\n#     ]\\n# ]\";\n",
       "                var nbb_formatted_code = \"# # Example code to quick-screen values that may overlap categories\\n# df.loc[\\n#     [\\n#         index\\n#         for index in df.index\\n#         if \\\"Marine veteran of the War\\\" in df.loc[index, \\\"info\\\"]\\n#     ]\\n# ]\";\n",
       "                var nbb_cells = Jupyter.notebook.get_cells();\n",
       "                for (var i = 0; i < nbb_cells.length; ++i) {\n",
       "                    if (nbb_cells[i].input_prompt_number == nbb_cell_id) {\n",
       "                        if (nbb_cells[i].get_text() == nbb_unformatted_code) {\n",
       "                             nbb_cells[i].set_text(nbb_formatted_code);\n",
       "                        }\n",
       "                        break;\n",
       "                    }\n",
       "                }\n",
       "            }, 500);\n",
       "            "
      ],
      "text/plain": [
       "<IPython.core.display.Javascript object>"
      ]
     },
     "metadata": {},
     "output_type": "display_data"
    }
   ],
   "source": [
    "# # Example code to quick-screen values that may overlap categories\n",
    "# df.loc[\n",
    "#     [\n",
    "#         index\n",
    "#         for index in df.index\n",
    "#         if \"Marine veteran of the War\" in df.loc[index, \"info\"]\n",
    "#     ]\n",
    "# ]"
   ]
  },
  {
   "cell_type": "code",
   "execution_count": 124,
   "id": "35423985",
   "metadata": {},
   "outputs": [
    {
     "data": {
      "application/javascript": [
       "\n",
       "            setTimeout(function() {\n",
       "                var nbb_cell_id = 124;\n",
       "                var nbb_unformatted_code = \"# # Example code to quick-check a specific entry\\n# df[df[\\\"info_2\\\"] == \\\"convicted murderer and botched execution survivor\\\"]\";\n",
       "                var nbb_formatted_code = \"# # Example code to quick-check a specific entry\\n# df[df[\\\"info_2\\\"] == \\\"convicted murderer and botched execution survivor\\\"]\";\n",
       "                var nbb_cells = Jupyter.notebook.get_cells();\n",
       "                for (var i = 0; i < nbb_cells.length; ++i) {\n",
       "                    if (nbb_cells[i].input_prompt_number == nbb_cell_id) {\n",
       "                        if (nbb_cells[i].get_text() == nbb_unformatted_code) {\n",
       "                             nbb_cells[i].set_text(nbb_formatted_code);\n",
       "                        }\n",
       "                        break;\n",
       "                    }\n",
       "                }\n",
       "            }, 500);\n",
       "            "
      ],
      "text/plain": [
       "<IPython.core.display.Javascript object>"
      ]
     },
     "metadata": {},
     "output_type": "display_data"
    }
   ],
   "source": [
    "# # Example code to quick-check a specific entry\n",
    "# df[df[\"info_2\"] == \"convicted murderer and botched execution survivor\"]"
   ]
  },
  {
   "cell_type": "markdown",
   "id": "723968e3",
   "metadata": {},
   "source": [
    "#### Creating Lists for Each `known_for` Category"
   ]
  },
  {
   "cell_type": "code",
   "execution_count": 125,
   "id": "93de5e4e",
   "metadata": {},
   "outputs": [
    {
     "data": {
      "application/javascript": [
       "\n",
       "            setTimeout(function() {\n",
       "                var nbb_cell_id = 125;\n",
       "                var nbb_unformatted_code = \"# Creating lists for each category\\npolitics_govt_law = [\\n    \\\"Corsican nationalist\\\",\\n]\\n\\narts = []\\nsports = []\\nsciences = []\\n\\nbusiness_farming = []\\nacademia_humanities = []\\nlaw_enf_military_operator = [\\n    \\\"Marine veteran of the War\\\",\\n]\\nspiritual = []\\nsocial = []\\ncrime = [\\n    \\\"and convicted murderer executed by hanging at dawn in Changi Prison for manipulating and hiring a minor who\\\",\\n    \\\"convicted murderer and suspected serial killer\\\",\\n    \\\"convicted murderer and prison escapee\\\",\\n    \\\"terrorist and convicted murderer\\\",\\n    \\\"gangster and convicted murderer\\\",\\n    \\\"convicted murderer and fugitive\\\",\\n    \\\"and convicted murderer\\\",\\n    \\\"convicted murderer and\\\",\\n    \\\"convicted murderer\\\",\\n]\\nevent_record_other = [\\n    \\\"botched execution survivor\\\",\\n]\\nother_species = []\";\n",
       "                var nbb_formatted_code = \"# Creating lists for each category\\npolitics_govt_law = [\\n    \\\"Corsican nationalist\\\",\\n]\\n\\narts = []\\nsports = []\\nsciences = []\\n\\nbusiness_farming = []\\nacademia_humanities = []\\nlaw_enf_military_operator = [\\n    \\\"Marine veteran of the War\\\",\\n]\\nspiritual = []\\nsocial = []\\ncrime = [\\n    \\\"and convicted murderer executed by hanging at dawn in Changi Prison for manipulating and hiring a minor who\\\",\\n    \\\"convicted murderer and suspected serial killer\\\",\\n    \\\"convicted murderer and prison escapee\\\",\\n    \\\"terrorist and convicted murderer\\\",\\n    \\\"gangster and convicted murderer\\\",\\n    \\\"convicted murderer and fugitive\\\",\\n    \\\"and convicted murderer\\\",\\n    \\\"convicted murderer and\\\",\\n    \\\"convicted murderer\\\",\\n]\\nevent_record_other = [\\n    \\\"botched execution survivor\\\",\\n]\\nother_species = []\";\n",
       "                var nbb_cells = Jupyter.notebook.get_cells();\n",
       "                for (var i = 0; i < nbb_cells.length; ++i) {\n",
       "                    if (nbb_cells[i].input_prompt_number == nbb_cell_id) {\n",
       "                        if (nbb_cells[i].get_text() == nbb_unformatted_code) {\n",
       "                             nbb_cells[i].set_text(nbb_formatted_code);\n",
       "                        }\n",
       "                        break;\n",
       "                    }\n",
       "                }\n",
       "            }, 500);\n",
       "            "
      ],
      "text/plain": [
       "<IPython.core.display.Javascript object>"
      ]
     },
     "metadata": {},
     "output_type": "display_data"
    }
   ],
   "source": [
    "# Creating lists for each category\n",
    "politics_govt_law = [\n",
    "    \"Corsican nationalist\",\n",
    "]\n",
    "\n",
    "arts = []\n",
    "sports = []\n",
    "sciences = []\n",
    "\n",
    "business_farming = []\n",
    "academia_humanities = []\n",
    "law_enf_military_operator = [\n",
    "    \"Marine veteran of the War\",\n",
    "]\n",
    "spiritual = []\n",
    "social = []\n",
    "crime = [\n",
    "    \"and convicted murderer executed by hanging at dawn in Changi Prison for manipulating and hiring a minor who\",\n",
    "    \"convicted murderer and suspected serial killer\",\n",
    "    \"convicted murderer and prison escapee\",\n",
    "    \"terrorist and convicted murderer\",\n",
    "    \"gangster and convicted murderer\",\n",
    "    \"convicted murderer and fugitive\",\n",
    "    \"and convicted murderer\",\n",
    "    \"convicted murderer and\",\n",
    "    \"convicted murderer\",\n",
    "]\n",
    "event_record_other = [\n",
    "    \"botched execution survivor\",\n",
    "]\n",
    "other_species = []"
   ]
  },
  {
   "cell_type": "code",
   "execution_count": 126,
   "id": "e6883431",
   "metadata": {},
   "outputs": [
    {
     "data": {
      "application/javascript": [
       "\n",
       "            setTimeout(function() {\n",
       "                var nbb_cell_id = 126;\n",
       "                var nbb_unformatted_code = \"# Hard-coding cause_of_death for entry with value in info_2\\nindex = df[df[\\\"link\\\"] == \\\"https://en.wikipedia.org/wiki/Anthony_Ler\\\"].index\\ndf.loc[index, \\\"cause_of_death\\\"] = \\\"executed\\\"\";\n",
       "                var nbb_formatted_code = \"# Hard-coding cause_of_death for entry with value in info_2\\nindex = df[df[\\\"link\\\"] == \\\"https://en.wikipedia.org/wiki/Anthony_Ler\\\"].index\\ndf.loc[index, \\\"cause_of_death\\\"] = \\\"executed\\\"\";\n",
       "                var nbb_cells = Jupyter.notebook.get_cells();\n",
       "                for (var i = 0; i < nbb_cells.length; ++i) {\n",
       "                    if (nbb_cells[i].input_prompt_number == nbb_cell_id) {\n",
       "                        if (nbb_cells[i].get_text() == nbb_unformatted_code) {\n",
       "                             nbb_cells[i].set_text(nbb_formatted_code);\n",
       "                        }\n",
       "                        break;\n",
       "                    }\n",
       "                }\n",
       "            }, 500);\n",
       "            "
      ],
      "text/plain": [
       "<IPython.core.display.Javascript object>"
      ]
     },
     "metadata": {},
     "output_type": "display_data"
    }
   ],
   "source": [
    "# Hard-coding cause_of_death for entry with value in info_2\n",
    "index = df[df[\"link\"] == \"https://en.wikipedia.org/wiki/Anthony_Ler\"].index\n",
    "df.loc[index, \"cause_of_death\"] = \"executed\""
   ]
  },
  {
   "cell_type": "markdown",
   "id": "d3aae5ea",
   "metadata": {},
   "source": [
    "#### Creating `known_for_dict` Dictionary of Category Keys and Specific Role Lists of Values"
   ]
  },
  {
   "cell_type": "code",
   "execution_count": 127,
   "id": "e7691e85",
   "metadata": {},
   "outputs": [
    {
     "data": {
      "application/javascript": [
       "\n",
       "            setTimeout(function() {\n",
       "                var nbb_cell_id = 127;\n",
       "                var nbb_unformatted_code = \"# Combining separate lists into one dictionary\\nknown_for_dict = {\\n    \\\"social\\\": social,\\n    \\\"spiritual\\\": spiritual,\\n    \\\"academia_humanities\\\": academia_humanities,\\n    \\\"business_farming\\\": business_farming,\\n    \\\"sciences\\\": sciences,\\n    \\\"politics_govt_law\\\": politics_govt_law,\\n    \\\"law_enf_military_operator\\\": law_enf_military_operator,\\n    \\\"crime\\\": crime,\\n    \\\"event_record_other\\\": event_record_other,\\n    \\\"other_species\\\": other_species,\\n    \\\"arts\\\": arts,\\n    \\\"sports\\\": sports,\\n}\";\n",
       "                var nbb_formatted_code = \"# Combining separate lists into one dictionary\\nknown_for_dict = {\\n    \\\"social\\\": social,\\n    \\\"spiritual\\\": spiritual,\\n    \\\"academia_humanities\\\": academia_humanities,\\n    \\\"business_farming\\\": business_farming,\\n    \\\"sciences\\\": sciences,\\n    \\\"politics_govt_law\\\": politics_govt_law,\\n    \\\"law_enf_military_operator\\\": law_enf_military_operator,\\n    \\\"crime\\\": crime,\\n    \\\"event_record_other\\\": event_record_other,\\n    \\\"other_species\\\": other_species,\\n    \\\"arts\\\": arts,\\n    \\\"sports\\\": sports,\\n}\";\n",
       "                var nbb_cells = Jupyter.notebook.get_cells();\n",
       "                for (var i = 0; i < nbb_cells.length; ++i) {\n",
       "                    if (nbb_cells[i].input_prompt_number == nbb_cell_id) {\n",
       "                        if (nbb_cells[i].get_text() == nbb_unformatted_code) {\n",
       "                             nbb_cells[i].set_text(nbb_formatted_code);\n",
       "                        }\n",
       "                        break;\n",
       "                    }\n",
       "                }\n",
       "            }, 500);\n",
       "            "
      ],
      "text/plain": [
       "<IPython.core.display.Javascript object>"
      ]
     },
     "metadata": {},
     "output_type": "display_data"
    }
   ],
   "source": [
    "# Combining separate lists into one dictionary\n",
    "known_for_dict = {\n",
    "    \"social\": social,\n",
    "    \"spiritual\": spiritual,\n",
    "    \"academia_humanities\": academia_humanities,\n",
    "    \"business_farming\": business_farming,\n",
    "    \"sciences\": sciences,\n",
    "    \"politics_govt_law\": politics_govt_law,\n",
    "    \"law_enf_military_operator\": law_enf_military_operator,\n",
    "    \"crime\": crime,\n",
    "    \"event_record_other\": event_record_other,\n",
    "    \"other_species\": other_species,\n",
    "    \"arts\": arts,\n",
    "    \"sports\": sports,\n",
    "}"
   ]
  },
  {
   "cell_type": "markdown",
   "id": "e78aa343",
   "metadata": {},
   "source": [
    "#### Extracting Category from `info_2`"
   ]
  },
  {
   "cell_type": "code",
   "execution_count": 128,
   "id": "d947be54",
   "metadata": {},
   "outputs": [
    {
     "name": "stdout",
     "output_type": "stream",
     "text": [
      "CPU times: total: 6.97 s\n",
      "Wall time: 6.96 s\n"
     ]
    },
    {
     "data": {
      "text/html": [
       "<div>\n",
       "<style scoped>\n",
       "    .dataframe tbody tr th:only-of-type {\n",
       "        vertical-align: middle;\n",
       "    }\n",
       "\n",
       "    .dataframe tbody tr th {\n",
       "        vertical-align: top;\n",
       "    }\n",
       "\n",
       "    .dataframe thead th {\n",
       "        text-align: right;\n",
       "    }\n",
       "</style>\n",
       "<table border=\"1\" class=\"dataframe\">\n",
       "  <thead>\n",
       "    <tr style=\"text-align: right;\">\n",
       "      <th></th>\n",
       "      <th>day</th>\n",
       "      <th>name</th>\n",
       "      <th>info</th>\n",
       "      <th>link</th>\n",
       "      <th>num_references</th>\n",
       "      <th>year</th>\n",
       "      <th>month</th>\n",
       "      <th>info_parenth</th>\n",
       "      <th>info_1</th>\n",
       "      <th>info_2</th>\n",
       "      <th>info_3</th>\n",
       "      <th>info_4</th>\n",
       "      <th>info_5</th>\n",
       "      <th>info_6</th>\n",
       "      <th>info_7</th>\n",
       "      <th>info_8</th>\n",
       "      <th>info_9</th>\n",
       "      <th>info_10</th>\n",
       "      <th>info_11</th>\n",
       "      <th>age</th>\n",
       "      <th>cause_of_death</th>\n",
       "      <th>place_1</th>\n",
       "      <th>place_2</th>\n",
       "      <th>info_parenth_copy</th>\n",
       "      <th>log_num_references</th>\n",
       "      <th>sciences</th>\n",
       "      <th>social</th>\n",
       "      <th>spiritual</th>\n",
       "      <th>academia_humanities</th>\n",
       "      <th>business_farming</th>\n",
       "      <th>arts</th>\n",
       "      <th>sports</th>\n",
       "      <th>law_enf_military_operator</th>\n",
       "      <th>politics_govt_law</th>\n",
       "      <th>crime</th>\n",
       "      <th>event_record_other</th>\n",
       "      <th>other_species</th>\n",
       "      <th>num_categories</th>\n",
       "    </tr>\n",
       "  </thead>\n",
       "  <tbody>\n",
       "    <tr>\n",
       "      <th>53853</th>\n",
       "      <td>26</td>\n",
       "      <td>Richard Matt</td>\n",
       "      <td>, 49, American convicted murderer and prison escapee, shot.</td>\n",
       "      <td>https://en.wikipedia.org/wiki/Richard_Matt</td>\n",
       "      <td>22</td>\n",
       "      <td>2015</td>\n",
       "      <td>June</td>\n",
       "      <td>None</td>\n",
       "      <td>None</td>\n",
       "      <td></td>\n",
       "      <td>shot</td>\n",
       "      <td>None</td>\n",
       "      <td>None</td>\n",
       "      <td>None</td>\n",
       "      <td>None</td>\n",
       "      <td>None</td>\n",
       "      <td>None</td>\n",
       "      <td>None</td>\n",
       "      <td>None</td>\n",
       "      <td>49.0</td>\n",
       "      <td>None</td>\n",
       "      <td>United States of America</td>\n",
       "      <td>None</td>\n",
       "      <td>None</td>\n",
       "      <td>3.135494</td>\n",
       "      <td>0</td>\n",
       "      <td>0</td>\n",
       "      <td>0</td>\n",
       "      <td>0</td>\n",
       "      <td>0</td>\n",
       "      <td>0</td>\n",
       "      <td>0</td>\n",
       "      <td>0</td>\n",
       "      <td>0</td>\n",
       "      <td>1</td>\n",
       "      <td>0</td>\n",
       "      <td>0</td>\n",
       "      <td>1</td>\n",
       "    </tr>\n",
       "    <tr>\n",
       "      <th>910</th>\n",
       "      <td>3</td>\n",
       "      <td>James William Holmes</td>\n",
       "      <td>, 37, American convicted murderer, execution by lethal injection.</td>\n",
       "      <td>https://en.wikipedia.org/wiki/James_William_Holmes</td>\n",
       "      <td>5</td>\n",
       "      <td>1994</td>\n",
       "      <td>August</td>\n",
       "      <td>None</td>\n",
       "      <td>None</td>\n",
       "      <td></td>\n",
       "      <td>execution by lethal injection</td>\n",
       "      <td>None</td>\n",
       "      <td>None</td>\n",
       "      <td>None</td>\n",
       "      <td>None</td>\n",
       "      <td>None</td>\n",
       "      <td>None</td>\n",
       "      <td>None</td>\n",
       "      <td>None</td>\n",
       "      <td>37.0</td>\n",
       "      <td>None</td>\n",
       "      <td>United States of America</td>\n",
       "      <td>None</td>\n",
       "      <td>None</td>\n",
       "      <td>1.791759</td>\n",
       "      <td>0</td>\n",
       "      <td>0</td>\n",
       "      <td>0</td>\n",
       "      <td>0</td>\n",
       "      <td>0</td>\n",
       "      <td>0</td>\n",
       "      <td>0</td>\n",
       "      <td>0</td>\n",
       "      <td>0</td>\n",
       "      <td>1</td>\n",
       "      <td>0</td>\n",
       "      <td>0</td>\n",
       "      <td>1</td>\n",
       "    </tr>\n",
       "  </tbody>\n",
       "</table>\n",
       "</div>"
      ],
      "text/plain": [
       "      day                  name  \\\n",
       "53853  26          Richard Matt   \n",
       "910     3  James William Holmes   \n",
       "\n",
       "                                                                    info  \\\n",
       "53853        , 49, American convicted murderer and prison escapee, shot.   \n",
       "910    , 37, American convicted murderer, execution by lethal injection.   \n",
       "\n",
       "                                                     link  num_references  \\\n",
       "53853          https://en.wikipedia.org/wiki/Richard_Matt              22   \n",
       "910    https://en.wikipedia.org/wiki/James_William_Holmes               5   \n",
       "\n",
       "       year   month info_parenth info_1 info_2                         info_3  \\\n",
       "53853  2015    June         None   None                                  shot   \n",
       "910    1994  August         None   None         execution by lethal injection   \n",
       "\n",
       "      info_4 info_5 info_6 info_7 info_8 info_9 info_10 info_11   age  \\\n",
       "53853   None   None   None   None   None   None    None    None  49.0   \n",
       "910     None   None   None   None   None   None    None    None  37.0   \n",
       "\n",
       "      cause_of_death                   place_1 place_2 info_parenth_copy  \\\n",
       "53853           None  United States of America    None              None   \n",
       "910             None  United States of America    None              None   \n",
       "\n",
       "       log_num_references  sciences  social  spiritual  academia_humanities  \\\n",
       "53853            3.135494         0       0          0                    0   \n",
       "910              1.791759         0       0          0                    0   \n",
       "\n",
       "       business_farming  arts  sports  law_enf_military_operator  \\\n",
       "53853                 0     0       0                          0   \n",
       "910                   0     0       0                          0   \n",
       "\n",
       "       politics_govt_law  crime  event_record_other  other_species  \\\n",
       "53853                  0      1                   0              0   \n",
       "910                    0      1                   0              0   \n",
       "\n",
       "       num_categories  \n",
       "53853               1  \n",
       "910                 1  "
      ]
     },
     "execution_count": 128,
     "metadata": {},
     "output_type": "execute_result"
    },
    {
     "data": {
      "application/javascript": [
       "\n",
       "            setTimeout(function() {\n",
       "                var nbb_cell_id = 128;\n",
       "                var nbb_unformatted_code = \"%%time\\n\\n# Dictionary version\\nsearch_dict = known_for_dict\\n\\n# Column to check\\ncolumn = 'info_2'\\n\\n# Dataframe\\ndataframe = df[column].notna()\\n\\n# For loop to find role in column and extract it as category\\nfor category, category_lst in search_dict.items():\\n    for role in category_lst:\\n        for index in dataframe.index:\\n            item = df.loc[index, column]\\n            if item:\\n                if role in item:\\n                    df.loc[index, category] = 1\\n                    df.loc[index, column] = item.replace(role, '').strip()\\n\\n# Updating num_categories\\ndf[\\\"num_categories\\\"] = df[known_for_dict.keys()].sum(axis=1)\\n\\n# Checking a sample of rows\\ndf[df['crime'] ==1].sample(2)\";\n",
       "                var nbb_formatted_code = \"%%time\\n\\n# Dictionary version\\nsearch_dict = known_for_dict\\n\\n# Column to check\\ncolumn = 'info_2'\\n\\n# Dataframe\\ndataframe = df[column].notna()\\n\\n# For loop to find role in column and extract it as category\\nfor category, category_lst in search_dict.items():\\n    for role in category_lst:\\n        for index in dataframe.index:\\n            item = df.loc[index, column]\\n            if item:\\n                if role in item:\\n                    df.loc[index, category] = 1\\n                    df.loc[index, column] = item.replace(role, '').strip()\\n\\n# Updating num_categories\\ndf[\\\"num_categories\\\"] = df[known_for_dict.keys()].sum(axis=1)\\n\\n# Checking a sample of rows\\ndf[df['crime'] ==1].sample(2)\";\n",
       "                var nbb_cells = Jupyter.notebook.get_cells();\n",
       "                for (var i = 0; i < nbb_cells.length; ++i) {\n",
       "                    if (nbb_cells[i].input_prompt_number == nbb_cell_id) {\n",
       "                        if (nbb_cells[i].get_text() == nbb_unformatted_code) {\n",
       "                             nbb_cells[i].set_text(nbb_formatted_code);\n",
       "                        }\n",
       "                        break;\n",
       "                    }\n",
       "                }\n",
       "            }, 500);\n",
       "            "
      ],
      "text/plain": [
       "<IPython.core.display.Javascript object>"
      ]
     },
     "metadata": {},
     "output_type": "display_data"
    }
   ],
   "source": [
    "%%time\n",
    "\n",
    "# Dictionary version\n",
    "search_dict = known_for_dict\n",
    "\n",
    "# Column to check\n",
    "column = 'info_2'\n",
    "\n",
    "# Dataframe\n",
    "dataframe = df[column].notna()\n",
    "\n",
    "# For loop to find role in column and extract it as category\n",
    "for category, category_lst in search_dict.items():\n",
    "    for role in category_lst:\n",
    "        for index in dataframe.index:\n",
    "            item = df.loc[index, column]\n",
    "            if item:\n",
    "                if role in item:\n",
    "                    df.loc[index, category] = 1\n",
    "                    df.loc[index, column] = item.replace(role, '').strip()\n",
    "\n",
    "# Updating num_categories\n",
    "df[\"num_categories\"] = df[known_for_dict.keys()].sum(axis=1)\n",
    "\n",
    "# Checking a sample of rows\n",
    "df[df['crime'] ==1].sample(2)"
   ]
  },
  {
   "cell_type": "markdown",
   "id": "4fa6311f",
   "metadata": {},
   "source": [
    "#### Checking the Number of Rows without a First Category"
   ]
  },
  {
   "cell_type": "code",
   "execution_count": 129,
   "id": "1b1ac098",
   "metadata": {},
   "outputs": [
    {
     "name": "stdout",
     "output_type": "stream",
     "text": [
      "There are 29000 entries without any known_for category.\n"
     ]
    },
    {
     "data": {
      "application/javascript": [
       "\n",
       "            setTimeout(function() {\n",
       "                var nbb_cell_id = 129;\n",
       "                var nbb_unformatted_code = \"# Checking the number of rows without a first category\\nprint(\\n    f'There are {len(df[df[\\\"num_categories\\\"]==0])} entries without any known_for category.'\\n)\";\n",
       "                var nbb_formatted_code = \"# Checking the number of rows without a first category\\nprint(\\n    f'There are {len(df[df[\\\"num_categories\\\"]==0])} entries without any known_for category.'\\n)\";\n",
       "                var nbb_cells = Jupyter.notebook.get_cells();\n",
       "                for (var i = 0; i < nbb_cells.length; ++i) {\n",
       "                    if (nbb_cells[i].input_prompt_number == nbb_cell_id) {\n",
       "                        if (nbb_cells[i].get_text() == nbb_unformatted_code) {\n",
       "                             nbb_cells[i].set_text(nbb_formatted_code);\n",
       "                        }\n",
       "                        break;\n",
       "                    }\n",
       "                }\n",
       "            }, 500);\n",
       "            "
      ],
      "text/plain": [
       "<IPython.core.display.Javascript object>"
      ]
     },
     "metadata": {},
     "output_type": "display_data"
    }
   ],
   "source": [
    "# Checking the number of rows without a first category\n",
    "print(\n",
    "    f'There are {len(df[df[\"num_categories\"]==0])} entries without any known_for category.'\n",
    ")"
   ]
  },
  {
   "cell_type": "markdown",
   "id": "3851e54a",
   "metadata": {},
   "source": [
    "#### Observations:\n",
    "- We will proceed to rebuild `known_for_dict` for the next iteration."
   ]
  },
  {
   "cell_type": "markdown",
   "id": "bc14c89e",
   "metadata": {},
   "source": [
    "#### Finding `known_for` Roles in `info_2`"
   ]
  },
  {
   "cell_type": "code",
   "execution_count": 130,
   "id": "588d9dc8",
   "metadata": {},
   "outputs": [
    {
     "data": {
      "application/javascript": [
       "\n",
       "            setTimeout(function() {\n",
       "                var nbb_cell_id = 130;\n",
       "                var nbb_unformatted_code = \"# # Obtaining values for column and their counts\\n# roles_list = df[\\\"info_2\\\"].value_counts(ascending=True).index.tolist()\";\n",
       "                var nbb_formatted_code = \"# # Obtaining values for column and their counts\\n# roles_list = df[\\\"info_2\\\"].value_counts(ascending=True).index.tolist()\";\n",
       "                var nbb_cells = Jupyter.notebook.get_cells();\n",
       "                for (var i = 0; i < nbb_cells.length; ++i) {\n",
       "                    if (nbb_cells[i].input_prompt_number == nbb_cell_id) {\n",
       "                        if (nbb_cells[i].get_text() == nbb_unformatted_code) {\n",
       "                             nbb_cells[i].set_text(nbb_formatted_code);\n",
       "                        }\n",
       "                        break;\n",
       "                    }\n",
       "                }\n",
       "            }, 500);\n",
       "            "
      ],
      "text/plain": [
       "<IPython.core.display.Javascript object>"
      ]
     },
     "metadata": {},
     "output_type": "display_data"
    }
   ],
   "source": [
    "# # Obtaining values for column and their counts\n",
    "# roles_list = df[\"info_2\"].value_counts(ascending=True).index.tolist()"
   ]
  },
  {
   "cell_type": "code",
   "execution_count": 131,
   "id": "9f8587b1",
   "metadata": {},
   "outputs": [
    {
     "data": {
      "application/javascript": [
       "\n",
       "            setTimeout(function() {\n",
       "                var nbb_cell_id = 131;\n",
       "                var nbb_unformatted_code = \"# # Code to check each value\\n# roles_list.pop()\";\n",
       "                var nbb_formatted_code = \"# # Code to check each value\\n# roles_list.pop()\";\n",
       "                var nbb_cells = Jupyter.notebook.get_cells();\n",
       "                for (var i = 0; i < nbb_cells.length; ++i) {\n",
       "                    if (nbb_cells[i].input_prompt_number == nbb_cell_id) {\n",
       "                        if (nbb_cells[i].get_text() == nbb_unformatted_code) {\n",
       "                             nbb_cells[i].set_text(nbb_formatted_code);\n",
       "                        }\n",
       "                        break;\n",
       "                    }\n",
       "                }\n",
       "            }, 500);\n",
       "            "
      ],
      "text/plain": [
       "<IPython.core.display.Javascript object>"
      ]
     },
     "metadata": {},
     "output_type": "display_data"
    }
   ],
   "source": [
    "# # Code to check each value\n",
    "# roles_list.pop()"
   ]
  },
  {
   "cell_type": "code",
   "execution_count": 132,
   "id": "cec88be3",
   "metadata": {},
   "outputs": [
    {
     "data": {
      "application/javascript": [
       "\n",
       "            setTimeout(function() {\n",
       "                var nbb_cell_id = 132;\n",
       "                var nbb_unformatted_code = \"# # Create specific_roles_list for above popped value\\n# specific_roles_list = (\\n#     df.loc[\\n#         [\\n#             index\\n#             for index in df[df[\\\"info_2\\\"].notna()].index\\n#             if \\\"general\\\" in df.loc[index, \\\"info_2\\\"]\\n#         ],\\n#         \\\"info_2\\\",\\n#     ]\\n#     .value_counts()\\n#     .index.tolist()\\n# )\";\n",
       "                var nbb_formatted_code = \"# # Create specific_roles_list for above popped value\\n# specific_roles_list = (\\n#     df.loc[\\n#         [\\n#             index\\n#             for index in df[df[\\\"info_2\\\"].notna()].index\\n#             if \\\"general\\\" in df.loc[index, \\\"info_2\\\"]\\n#         ],\\n#         \\\"info_2\\\",\\n#     ]\\n#     .value_counts()\\n#     .index.tolist()\\n# )\";\n",
       "                var nbb_cells = Jupyter.notebook.get_cells();\n",
       "                for (var i = 0; i < nbb_cells.length; ++i) {\n",
       "                    if (nbb_cells[i].input_prompt_number == nbb_cell_id) {\n",
       "                        if (nbb_cells[i].get_text() == nbb_unformatted_code) {\n",
       "                             nbb_cells[i].set_text(nbb_formatted_code);\n",
       "                        }\n",
       "                        break;\n",
       "                    }\n",
       "                }\n",
       "            }, 500);\n",
       "            "
      ],
      "text/plain": [
       "<IPython.core.display.Javascript object>"
      ]
     },
     "metadata": {},
     "output_type": "display_data"
    }
   ],
   "source": [
    "# # Create specific_roles_list for above popped value\n",
    "# specific_roles_list = (\n",
    "#     df.loc[\n",
    "#         [\n",
    "#             index\n",
    "#             for index in df[df[\"info_2\"].notna()].index\n",
    "#             if \"general\" in df.loc[index, \"info_2\"]\n",
    "#         ],\n",
    "#         \"info_2\",\n",
    "#     ]\n",
    "#     .value_counts()\n",
    "#     .index.tolist()\n",
    "# )"
   ]
  },
  {
   "cell_type": "code",
   "execution_count": 133,
   "id": "413ab954",
   "metadata": {},
   "outputs": [
    {
     "data": {
      "application/javascript": [
       "\n",
       "            setTimeout(function() {\n",
       "                var nbb_cell_id = 133;\n",
       "                var nbb_unformatted_code = \"# # Code to check each specific value\\n# specific_roles_list.pop()\";\n",
       "                var nbb_formatted_code = \"# # Code to check each specific value\\n# specific_roles_list.pop()\";\n",
       "                var nbb_cells = Jupyter.notebook.get_cells();\n",
       "                for (var i = 0; i < nbb_cells.length; ++i) {\n",
       "                    if (nbb_cells[i].input_prompt_number == nbb_cell_id) {\n",
       "                        if (nbb_cells[i].get_text() == nbb_unformatted_code) {\n",
       "                             nbb_cells[i].set_text(nbb_formatted_code);\n",
       "                        }\n",
       "                        break;\n",
       "                    }\n",
       "                }\n",
       "            }, 500);\n",
       "            "
      ],
      "text/plain": [
       "<IPython.core.display.Javascript object>"
      ]
     },
     "metadata": {},
     "output_type": "display_data"
    }
   ],
   "source": [
    "# # Code to check each specific value\n",
    "# specific_roles_list.pop()"
   ]
  },
  {
   "cell_type": "code",
   "execution_count": 134,
   "id": "69e98ca5",
   "metadata": {},
   "outputs": [
    {
     "data": {
      "application/javascript": [
       "\n",
       "            setTimeout(function() {\n",
       "                var nbb_cell_id = 134;\n",
       "                var nbb_unformatted_code = \"# # # Example code to quick-screen values that may overlap categories\\n# df.loc[[index for index in df.index if \\\"director general of\\\" in df.loc[index, \\\"info\\\"]]]\";\n",
       "                var nbb_formatted_code = \"# # # Example code to quick-screen values that may overlap categories\\n# df.loc[[index for index in df.index if \\\"director general of\\\" in df.loc[index, \\\"info\\\"]]]\";\n",
       "                var nbb_cells = Jupyter.notebook.get_cells();\n",
       "                for (var i = 0; i < nbb_cells.length; ++i) {\n",
       "                    if (nbb_cells[i].input_prompt_number == nbb_cell_id) {\n",
       "                        if (nbb_cells[i].get_text() == nbb_unformatted_code) {\n",
       "                             nbb_cells[i].set_text(nbb_formatted_code);\n",
       "                        }\n",
       "                        break;\n",
       "                    }\n",
       "                }\n",
       "            }, 500);\n",
       "            "
      ],
      "text/plain": [
       "<IPython.core.display.Javascript object>"
      ]
     },
     "metadata": {},
     "output_type": "display_data"
    }
   ],
   "source": [
    "# # # Example code to quick-screen values that may overlap categories\n",
    "# df.loc[[index for index in df.index if \"director general of\" in df.loc[index, \"info\"]]]"
   ]
  },
  {
   "cell_type": "code",
   "execution_count": 135,
   "id": "d335ef9c",
   "metadata": {},
   "outputs": [
    {
     "data": {
      "application/javascript": [
       "\n",
       "            setTimeout(function() {\n",
       "                var nbb_cell_id = 135;\n",
       "                var nbb_unformatted_code = \"# # Example code to quick-check a specific entry\\n# df[df[\\\"info_2\\\"] == \\\"volleyball player and general\\\"]\";\n",
       "                var nbb_formatted_code = \"# # Example code to quick-check a specific entry\\n# df[df[\\\"info_2\\\"] == \\\"volleyball player and general\\\"]\";\n",
       "                var nbb_cells = Jupyter.notebook.get_cells();\n",
       "                for (var i = 0; i < nbb_cells.length; ++i) {\n",
       "                    if (nbb_cells[i].input_prompt_number == nbb_cell_id) {\n",
       "                        if (nbb_cells[i].get_text() == nbb_unformatted_code) {\n",
       "                             nbb_cells[i].set_text(nbb_formatted_code);\n",
       "                        }\n",
       "                        break;\n",
       "                    }\n",
       "                }\n",
       "            }, 500);\n",
       "            "
      ],
      "text/plain": [
       "<IPython.core.display.Javascript object>"
      ]
     },
     "metadata": {},
     "output_type": "display_data"
    }
   ],
   "source": [
    "# # Example code to quick-check a specific entry\n",
    "# df[df[\"info_2\"] == \"volleyball player and general\"]"
   ]
  },
  {
   "cell_type": "markdown",
   "id": "96a1ff9a",
   "metadata": {},
   "source": [
    "#### Creating Lists for Each `known_for` Category"
   ]
  },
  {
   "cell_type": "code",
   "execution_count": 136,
   "id": "44b6e580",
   "metadata": {},
   "outputs": [
    {
     "data": {
      "application/javascript": [
       "\n",
       "            setTimeout(function() {\n",
       "                var nbb_cell_id = 136;\n",
       "                var nbb_unformatted_code = \"# Creating lists for each category\\npolitics_govt_law = [\\n    \\\"general secretary of the National Union of\\\",\\n    \\\"involved in the Algiers putsch of\\\",\\n    \\\"senator and attorney general\\\",\\n    \\\"Governor general of the\\\",\\n    \\\"attorney general\\\",  # before law_enf_military_operator\\n    \\\"prefect and\\\",\\n]\\n\\narts = [\\n    \\\"founder and general manager of Montreux Jazz Festival\\\",\\n    \\\"general manager of the Metropolitan Opera\\\",\\n    \\\"director general of\\\",  # before law_enf_military_operator\\n]\\nsports = [\\n    \\\"executive and general manager of the National Basketball Association Sacramento Kings\\\",\\n    \\\"president and general manager of the Dallas Cowboys professional football team\\\",  # before law_enf_military_operator\\n    \\\"basketball coach and secretary general of the Basketball Association of the\\\",\\n    \\\"general manager of the Pittsburgh Pirates and Baltimore Orioles\\\",\\n    \\\"former Baseball general manager with the Baltimore Orioles\\\",\\n    \\\"former general manager of Montreal Canadiens\\\",\\n    \\\"general manager for the Galaxy soccer team\\\",\\n    \\\"baseball executive and general manager\\\",\\n    \\\"baseball Hall of Fame general manager\\\",\\n    \\\"ice hockey coach and general manager\\\",\\n    \\\"ice hockey general manager\\\",\\n    \\\"general secretary of FIFA\\\",\\n    \\\"baseball general manager\\\",\\n]\\nsciences = [\\n    \\\"general topologist\\\",  # before law_enf_military_operator\\n    \\\"general practitioner\\\",\\n]\\n\\nbusiness_farming = []\\nacademia_humanities = [\\n    \\\"Teachers since\\\",\\n]\\nlaw_enf_military_operator = [\\n    \\\"Air Force four star general and commander of the World War II Tuskegee Airmen\\\",\\n    \\\"army lieutenant general and presidential military advisor\\\",\\n    \\\"lieutenant general in the Air Force and WW II flying ace\\\",\\n    \\\"Air Force general and commander of Tactical Air Command\\\",\\n    \\\"Air Force general and recipient of the Medal of Honor\\\",\\n    \\\"Air Force major general and double Hero of the Union\\\",\\n    \\\"general and commander of the nd Airborne Division\\\",\\n    \\\"bomber and Wehrmacht general during World War II\\\",\\n    \\\"lieutenant general in the People Liberation Army\\\",\\n    \\\"Air Force general and World War II flying ace\\\",\\n    \\\"army general Adjutant General to the Forces\\\",\\n    \\\"Army Air Forces general during World War II\\\",\\n    \\\"flying ace and general during World War II\\\",\\n    \\\"general in the National Revolutionary Army\\\",\\n    \\\"Air Force brigadier general and test pilot\\\",\\n    \\\"flying ace during World War II and general\\\",\\n    \\\"nazi Wehrmacht general during World War II\\\",\\n    \\\"brigadier general and RAF radio operator\\\",\\n    \\\"Air Force officer and brigadier general\\\",\\n    \\\"former head of general security in Gaza\\\",\\n    \\\"lieutenant general in the Marine Corps\\\",\\n    \\\"general and commander in the Viet Cong\\\",\\n    \\\"general and commander of the air force\\\",\\n    \\\"general in the People Liberation Army\\\",\\n    \\\"brigadier general in the Marine Corps\\\",\\n    \\\"Waffen SS general during World War II\\\",\\n    \\\"Army general and son of George Patton\\\",\\n    \\\"Air Force general and aviator pioneer\\\",\\n    \\\"Wehrmacht general during World War II\\\",\\n    \\\"army general and intelligence chief\\\",\\n    \\\"army general Commander of the Army\\\",\\n    \\\"brigadier general in the Air Force\\\",\\n    \\\"general and military junta leader\\\",\\n    \\\"major general in the Marine Corps\\\",\\n    \\\"general and commander of the Army\\\",\\n    \\\"Army general and Defense Minister\\\",\\n    \\\"general for South during the War\\\",\\n    \\\"Air National Guard major general\\\",\\n    \\\"Marine Corps lieutenant general\\\",\\n    \\\"People Liberation Army general\\\",\\n    \\\"major general in the Air Force\\\",\\n    \\\"SS general during World War II\\\",\\n    \\\"resistance fighter and general\\\",\\n    \\\"Republican Guard major general\\\",\\n    \\\"Marine Corps four star general\\\",\\n    \\\"Marine Corps brigadier general\\\",\\n    \\\"general in the People Army of\\\",\\n    \\\"Nationalist military general\\\",\\n    \\\"general during the dirty war\\\",\\n    \\\"air force lieutenant general\\\",\\n    \\\"Air Force lieutenant general\\\",\\n    \\\"Army general during the War\\\",\\n    \\\"military lieutenant general\\\",\\n    \\\"Air Force four star general\\\",\\n    \\\"general during World War II\\\",\\n    \\\"major general and astronaut\\\",\\n    \\\"air force brigadier general\\\",\\n    \\\"Marine Corps major general\\\",\\n    \\\"Illinois inspector general\\\",\\n    \\\"lieutenant general and spy\\\",\\n    \\\"general and navy commander\\\",\\n    \\\"pilot and airforce general\\\",\\n    \\\"general in the y Wehrmacht\\\",\\n    \\\"and a general of the Army\\\",\\n    \\\"Air Force general officer\\\",\\n    \\\"marines brigadier general\\\",\\n    \\\"army general and military\\\",\\n    \\\"major general in the Army\\\",\\n    \\\"general in the Air Force\\\",\\n    \\\"Air Force major general\\\",\\n    \\\"army lieutenant general\\\",\\n    \\\"Army lieutenant general\\\",\\n    \\\"USMC brigadier general\\\",\\n    \\\"army brigadier general\\\",\\n    \\\"Army brigadier general\\\",\\n    \\\"lieutenant general and\\\",\\n    \\\"airforce major general\\\",\\n    \\\"and a brigade general\\\",\\n    \\\"the Air Force general\\\",\\n    \\\"army colonel general\\\",\\n    \\\"general and military\\\",\\n    \\\"retired army general\\\",\\n    \\\"Marine Corps general\\\",\\n    \\\"army major general\\\",\\n    \\\"Army major general\\\",\\n    \\\"Bundeswehr general\\\",\\n    \\\"lieutenant general\\\",\\n    \\\"air force general\\\",\\n    \\\"Air Force general\\\",\\n    \\\"brigadier general\\\",\\n    \\\"major general and\\\",\\n    \\\"inspector general\\\",\\n    \\\"ieutenant general\\\",\\n    \\\"military general\\\",\\n    \\\"Army general and\\\",\\n    \\\"army general and\\\",\\n    \\\"general officer\\\",\\n    \\\"Colonel general\\\",\\n    \\\"colonel general\\\",\\n    \\\"police general\\\",\\n    \\\"general in the\\\",\\n    \\\"major general\\\",\\n    \\\"South general\\\",\\n    \\\"Stasi general\\\",\\n    \\\"ARVN general\\\",\\n    \\\"Serb general\\\",\\n    \\\"USMC general\\\",\\n    \\\"Army general\\\",\\n    \\\"army general\\\",\\n    \\\"general and\\\",\\n    \\\"and general\\\",\\n    \\\"general\\\",\\n]\\nspiritual = [\\n    \\\"Church of the Nazarene minister and general superintendent\\\",  # before law_enf_military_operator\\n]\\nsocial = []\\ncrime = []\\nevent_record_other = []\\nother_species = []\";\n",
       "                var nbb_formatted_code = \"# Creating lists for each category\\npolitics_govt_law = [\\n    \\\"general secretary of the National Union of\\\",\\n    \\\"involved in the Algiers putsch of\\\",\\n    \\\"senator and attorney general\\\",\\n    \\\"Governor general of the\\\",\\n    \\\"attorney general\\\",  # before law_enf_military_operator\\n    \\\"prefect and\\\",\\n]\\n\\narts = [\\n    \\\"founder and general manager of Montreux Jazz Festival\\\",\\n    \\\"general manager of the Metropolitan Opera\\\",\\n    \\\"director general of\\\",  # before law_enf_military_operator\\n]\\nsports = [\\n    \\\"executive and general manager of the National Basketball Association Sacramento Kings\\\",\\n    \\\"president and general manager of the Dallas Cowboys professional football team\\\",  # before law_enf_military_operator\\n    \\\"basketball coach and secretary general of the Basketball Association of the\\\",\\n    \\\"general manager of the Pittsburgh Pirates and Baltimore Orioles\\\",\\n    \\\"former Baseball general manager with the Baltimore Orioles\\\",\\n    \\\"former general manager of Montreal Canadiens\\\",\\n    \\\"general manager for the Galaxy soccer team\\\",\\n    \\\"baseball executive and general manager\\\",\\n    \\\"baseball Hall of Fame general manager\\\",\\n    \\\"ice hockey coach and general manager\\\",\\n    \\\"ice hockey general manager\\\",\\n    \\\"general secretary of FIFA\\\",\\n    \\\"baseball general manager\\\",\\n]\\nsciences = [\\n    \\\"general topologist\\\",  # before law_enf_military_operator\\n    \\\"general practitioner\\\",\\n]\\n\\nbusiness_farming = []\\nacademia_humanities = [\\n    \\\"Teachers since\\\",\\n]\\nlaw_enf_military_operator = [\\n    \\\"Air Force four star general and commander of the World War II Tuskegee Airmen\\\",\\n    \\\"army lieutenant general and presidential military advisor\\\",\\n    \\\"lieutenant general in the Air Force and WW II flying ace\\\",\\n    \\\"Air Force general and commander of Tactical Air Command\\\",\\n    \\\"Air Force general and recipient of the Medal of Honor\\\",\\n    \\\"Air Force major general and double Hero of the Union\\\",\\n    \\\"general and commander of the nd Airborne Division\\\",\\n    \\\"bomber and Wehrmacht general during World War II\\\",\\n    \\\"lieutenant general in the People Liberation Army\\\",\\n    \\\"Air Force general and World War II flying ace\\\",\\n    \\\"army general Adjutant General to the Forces\\\",\\n    \\\"Army Air Forces general during World War II\\\",\\n    \\\"flying ace and general during World War II\\\",\\n    \\\"general in the National Revolutionary Army\\\",\\n    \\\"Air Force brigadier general and test pilot\\\",\\n    \\\"flying ace during World War II and general\\\",\\n    \\\"nazi Wehrmacht general during World War II\\\",\\n    \\\"brigadier general and RAF radio operator\\\",\\n    \\\"Air Force officer and brigadier general\\\",\\n    \\\"former head of general security in Gaza\\\",\\n    \\\"lieutenant general in the Marine Corps\\\",\\n    \\\"general and commander in the Viet Cong\\\",\\n    \\\"general and commander of the air force\\\",\\n    \\\"general in the People Liberation Army\\\",\\n    \\\"brigadier general in the Marine Corps\\\",\\n    \\\"Waffen SS general during World War II\\\",\\n    \\\"Army general and son of George Patton\\\",\\n    \\\"Air Force general and aviator pioneer\\\",\\n    \\\"Wehrmacht general during World War II\\\",\\n    \\\"army general and intelligence chief\\\",\\n    \\\"army general Commander of the Army\\\",\\n    \\\"brigadier general in the Air Force\\\",\\n    \\\"general and military junta leader\\\",\\n    \\\"major general in the Marine Corps\\\",\\n    \\\"general and commander of the Army\\\",\\n    \\\"Army general and Defense Minister\\\",\\n    \\\"general for South during the War\\\",\\n    \\\"Air National Guard major general\\\",\\n    \\\"Marine Corps lieutenant general\\\",\\n    \\\"People Liberation Army general\\\",\\n    \\\"major general in the Air Force\\\",\\n    \\\"SS general during World War II\\\",\\n    \\\"resistance fighter and general\\\",\\n    \\\"Republican Guard major general\\\",\\n    \\\"Marine Corps four star general\\\",\\n    \\\"Marine Corps brigadier general\\\",\\n    \\\"general in the People Army of\\\",\\n    \\\"Nationalist military general\\\",\\n    \\\"general during the dirty war\\\",\\n    \\\"air force lieutenant general\\\",\\n    \\\"Air Force lieutenant general\\\",\\n    \\\"Army general during the War\\\",\\n    \\\"military lieutenant general\\\",\\n    \\\"Air Force four star general\\\",\\n    \\\"general during World War II\\\",\\n    \\\"major general and astronaut\\\",\\n    \\\"air force brigadier general\\\",\\n    \\\"Marine Corps major general\\\",\\n    \\\"Illinois inspector general\\\",\\n    \\\"lieutenant general and spy\\\",\\n    \\\"general and navy commander\\\",\\n    \\\"pilot and airforce general\\\",\\n    \\\"general in the y Wehrmacht\\\",\\n    \\\"and a general of the Army\\\",\\n    \\\"Air Force general officer\\\",\\n    \\\"marines brigadier general\\\",\\n    \\\"army general and military\\\",\\n    \\\"major general in the Army\\\",\\n    \\\"general in the Air Force\\\",\\n    \\\"Air Force major general\\\",\\n    \\\"army lieutenant general\\\",\\n    \\\"Army lieutenant general\\\",\\n    \\\"USMC brigadier general\\\",\\n    \\\"army brigadier general\\\",\\n    \\\"Army brigadier general\\\",\\n    \\\"lieutenant general and\\\",\\n    \\\"airforce major general\\\",\\n    \\\"and a brigade general\\\",\\n    \\\"the Air Force general\\\",\\n    \\\"army colonel general\\\",\\n    \\\"general and military\\\",\\n    \\\"retired army general\\\",\\n    \\\"Marine Corps general\\\",\\n    \\\"army major general\\\",\\n    \\\"Army major general\\\",\\n    \\\"Bundeswehr general\\\",\\n    \\\"lieutenant general\\\",\\n    \\\"air force general\\\",\\n    \\\"Air Force general\\\",\\n    \\\"brigadier general\\\",\\n    \\\"major general and\\\",\\n    \\\"inspector general\\\",\\n    \\\"ieutenant general\\\",\\n    \\\"military general\\\",\\n    \\\"Army general and\\\",\\n    \\\"army general and\\\",\\n    \\\"general officer\\\",\\n    \\\"Colonel general\\\",\\n    \\\"colonel general\\\",\\n    \\\"police general\\\",\\n    \\\"general in the\\\",\\n    \\\"major general\\\",\\n    \\\"South general\\\",\\n    \\\"Stasi general\\\",\\n    \\\"ARVN general\\\",\\n    \\\"Serb general\\\",\\n    \\\"USMC general\\\",\\n    \\\"Army general\\\",\\n    \\\"army general\\\",\\n    \\\"general and\\\",\\n    \\\"and general\\\",\\n    \\\"general\\\",\\n]\\nspiritual = [\\n    \\\"Church of the Nazarene minister and general superintendent\\\",  # before law_enf_military_operator\\n]\\nsocial = []\\ncrime = []\\nevent_record_other = []\\nother_species = []\";\n",
       "                var nbb_cells = Jupyter.notebook.get_cells();\n",
       "                for (var i = 0; i < nbb_cells.length; ++i) {\n",
       "                    if (nbb_cells[i].input_prompt_number == nbb_cell_id) {\n",
       "                        if (nbb_cells[i].get_text() == nbb_unformatted_code) {\n",
       "                             nbb_cells[i].set_text(nbb_formatted_code);\n",
       "                        }\n",
       "                        break;\n",
       "                    }\n",
       "                }\n",
       "            }, 500);\n",
       "            "
      ],
      "text/plain": [
       "<IPython.core.display.Javascript object>"
      ]
     },
     "metadata": {},
     "output_type": "display_data"
    }
   ],
   "source": [
    "# Creating lists for each category\n",
    "politics_govt_law = [\n",
    "    \"general secretary of the National Union of\",\n",
    "    \"involved in the Algiers putsch of\",\n",
    "    \"senator and attorney general\",\n",
    "    \"Governor general of the\",\n",
    "    \"attorney general\",  # before law_enf_military_operator\n",
    "    \"prefect and\",\n",
    "]\n",
    "\n",
    "arts = [\n",
    "    \"founder and general manager of Montreux Jazz Festival\",\n",
    "    \"general manager of the Metropolitan Opera\",\n",
    "    \"director general of\",  # before law_enf_military_operator\n",
    "]\n",
    "sports = [\n",
    "    \"executive and general manager of the National Basketball Association Sacramento Kings\",\n",
    "    \"president and general manager of the Dallas Cowboys professional football team\",  # before law_enf_military_operator\n",
    "    \"basketball coach and secretary general of the Basketball Association of the\",\n",
    "    \"general manager of the Pittsburgh Pirates and Baltimore Orioles\",\n",
    "    \"former Baseball general manager with the Baltimore Orioles\",\n",
    "    \"former general manager of Montreal Canadiens\",\n",
    "    \"general manager for the Galaxy soccer team\",\n",
    "    \"baseball executive and general manager\",\n",
    "    \"baseball Hall of Fame general manager\",\n",
    "    \"ice hockey coach and general manager\",\n",
    "    \"ice hockey general manager\",\n",
    "    \"general secretary of FIFA\",\n",
    "    \"baseball general manager\",\n",
    "]\n",
    "sciences = [\n",
    "    \"general topologist\",  # before law_enf_military_operator\n",
    "    \"general practitioner\",\n",
    "]\n",
    "\n",
    "business_farming = []\n",
    "academia_humanities = [\n",
    "    \"Teachers since\",\n",
    "]\n",
    "law_enf_military_operator = [\n",
    "    \"Air Force four star general and commander of the World War II Tuskegee Airmen\",\n",
    "    \"army lieutenant general and presidential military advisor\",\n",
    "    \"lieutenant general in the Air Force and WW II flying ace\",\n",
    "    \"Air Force general and commander of Tactical Air Command\",\n",
    "    \"Air Force general and recipient of the Medal of Honor\",\n",
    "    \"Air Force major general and double Hero of the Union\",\n",
    "    \"general and commander of the nd Airborne Division\",\n",
    "    \"bomber and Wehrmacht general during World War II\",\n",
    "    \"lieutenant general in the People Liberation Army\",\n",
    "    \"Air Force general and World War II flying ace\",\n",
    "    \"army general Adjutant General to the Forces\",\n",
    "    \"Army Air Forces general during World War II\",\n",
    "    \"flying ace and general during World War II\",\n",
    "    \"general in the National Revolutionary Army\",\n",
    "    \"Air Force brigadier general and test pilot\",\n",
    "    \"flying ace during World War II and general\",\n",
    "    \"nazi Wehrmacht general during World War II\",\n",
    "    \"brigadier general and RAF radio operator\",\n",
    "    \"Air Force officer and brigadier general\",\n",
    "    \"former head of general security in Gaza\",\n",
    "    \"lieutenant general in the Marine Corps\",\n",
    "    \"general and commander in the Viet Cong\",\n",
    "    \"general and commander of the air force\",\n",
    "    \"general in the People Liberation Army\",\n",
    "    \"brigadier general in the Marine Corps\",\n",
    "    \"Waffen SS general during World War II\",\n",
    "    \"Army general and son of George Patton\",\n",
    "    \"Air Force general and aviator pioneer\",\n",
    "    \"Wehrmacht general during World War II\",\n",
    "    \"army general and intelligence chief\",\n",
    "    \"army general Commander of the Army\",\n",
    "    \"brigadier general in the Air Force\",\n",
    "    \"general and military junta leader\",\n",
    "    \"major general in the Marine Corps\",\n",
    "    \"general and commander of the Army\",\n",
    "    \"Army general and Defense Minister\",\n",
    "    \"general for South during the War\",\n",
    "    \"Air National Guard major general\",\n",
    "    \"Marine Corps lieutenant general\",\n",
    "    \"People Liberation Army general\",\n",
    "    \"major general in the Air Force\",\n",
    "    \"SS general during World War II\",\n",
    "    \"resistance fighter and general\",\n",
    "    \"Republican Guard major general\",\n",
    "    \"Marine Corps four star general\",\n",
    "    \"Marine Corps brigadier general\",\n",
    "    \"general in the People Army of\",\n",
    "    \"Nationalist military general\",\n",
    "    \"general during the dirty war\",\n",
    "    \"air force lieutenant general\",\n",
    "    \"Air Force lieutenant general\",\n",
    "    \"Army general during the War\",\n",
    "    \"military lieutenant general\",\n",
    "    \"Air Force four star general\",\n",
    "    \"general during World War II\",\n",
    "    \"major general and astronaut\",\n",
    "    \"air force brigadier general\",\n",
    "    \"Marine Corps major general\",\n",
    "    \"Illinois inspector general\",\n",
    "    \"lieutenant general and spy\",\n",
    "    \"general and navy commander\",\n",
    "    \"pilot and airforce general\",\n",
    "    \"general in the y Wehrmacht\",\n",
    "    \"and a general of the Army\",\n",
    "    \"Air Force general officer\",\n",
    "    \"marines brigadier general\",\n",
    "    \"army general and military\",\n",
    "    \"major general in the Army\",\n",
    "    \"general in the Air Force\",\n",
    "    \"Air Force major general\",\n",
    "    \"army lieutenant general\",\n",
    "    \"Army lieutenant general\",\n",
    "    \"USMC brigadier general\",\n",
    "    \"army brigadier general\",\n",
    "    \"Army brigadier general\",\n",
    "    \"lieutenant general and\",\n",
    "    \"airforce major general\",\n",
    "    \"and a brigade general\",\n",
    "    \"the Air Force general\",\n",
    "    \"army colonel general\",\n",
    "    \"general and military\",\n",
    "    \"retired army general\",\n",
    "    \"Marine Corps general\",\n",
    "    \"army major general\",\n",
    "    \"Army major general\",\n",
    "    \"Bundeswehr general\",\n",
    "    \"lieutenant general\",\n",
    "    \"air force general\",\n",
    "    \"Air Force general\",\n",
    "    \"brigadier general\",\n",
    "    \"major general and\",\n",
    "    \"inspector general\",\n",
    "    \"ieutenant general\",\n",
    "    \"military general\",\n",
    "    \"Army general and\",\n",
    "    \"army general and\",\n",
    "    \"general officer\",\n",
    "    \"Colonel general\",\n",
    "    \"colonel general\",\n",
    "    \"police general\",\n",
    "    \"general in the\",\n",
    "    \"major general\",\n",
    "    \"South general\",\n",
    "    \"Stasi general\",\n",
    "    \"ARVN general\",\n",
    "    \"Serb general\",\n",
    "    \"USMC general\",\n",
    "    \"Army general\",\n",
    "    \"army general\",\n",
    "    \"general and\",\n",
    "    \"and general\",\n",
    "    \"general\",\n",
    "]\n",
    "spiritual = [\n",
    "    \"Church of the Nazarene minister and general superintendent\",  # before law_enf_military_operator\n",
    "]\n",
    "social = []\n",
    "crime = []\n",
    "event_record_other = []\n",
    "other_species = []"
   ]
  },
  {
   "cell_type": "markdown",
   "id": "6207a0f2",
   "metadata": {},
   "source": [
    "#### Creating `known_for_dict` Dictionary of Category Keys and Specific Role Lists of Values"
   ]
  },
  {
   "cell_type": "code",
   "execution_count": 137,
   "id": "2d2d5031",
   "metadata": {},
   "outputs": [
    {
     "data": {
      "application/javascript": [
       "\n",
       "            setTimeout(function() {\n",
       "                var nbb_cell_id = 137;\n",
       "                var nbb_unformatted_code = \"# Combining separate lists into one dictionary\\nknown_for_dict = {\\n    \\\"social\\\": social,\\n    \\\"spiritual\\\": spiritual,\\n    \\\"academia_humanities\\\": academia_humanities,\\n    \\\"business_farming\\\": business_farming,\\n    \\\"sciences\\\": sciences,\\n    \\\"politics_govt_law\\\": politics_govt_law,\\n    \\\"crime\\\": crime,\\n    \\\"event_record_other\\\": event_record_other,\\n    \\\"other_species\\\": other_species,\\n    \\\"arts\\\": arts,\\n    \\\"sports\\\": sports,\\n    \\\"law_enf_military_operator\\\": law_enf_military_operator,\\n}\";\n",
       "                var nbb_formatted_code = \"# Combining separate lists into one dictionary\\nknown_for_dict = {\\n    \\\"social\\\": social,\\n    \\\"spiritual\\\": spiritual,\\n    \\\"academia_humanities\\\": academia_humanities,\\n    \\\"business_farming\\\": business_farming,\\n    \\\"sciences\\\": sciences,\\n    \\\"politics_govt_law\\\": politics_govt_law,\\n    \\\"crime\\\": crime,\\n    \\\"event_record_other\\\": event_record_other,\\n    \\\"other_species\\\": other_species,\\n    \\\"arts\\\": arts,\\n    \\\"sports\\\": sports,\\n    \\\"law_enf_military_operator\\\": law_enf_military_operator,\\n}\";\n",
       "                var nbb_cells = Jupyter.notebook.get_cells();\n",
       "                for (var i = 0; i < nbb_cells.length; ++i) {\n",
       "                    if (nbb_cells[i].input_prompt_number == nbb_cell_id) {\n",
       "                        if (nbb_cells[i].get_text() == nbb_unformatted_code) {\n",
       "                             nbb_cells[i].set_text(nbb_formatted_code);\n",
       "                        }\n",
       "                        break;\n",
       "                    }\n",
       "                }\n",
       "            }, 500);\n",
       "            "
      ],
      "text/plain": [
       "<IPython.core.display.Javascript object>"
      ]
     },
     "metadata": {},
     "output_type": "display_data"
    }
   ],
   "source": [
    "# Combining separate lists into one dictionary\n",
    "known_for_dict = {\n",
    "    \"social\": social,\n",
    "    \"spiritual\": spiritual,\n",
    "    \"academia_humanities\": academia_humanities,\n",
    "    \"business_farming\": business_farming,\n",
    "    \"sciences\": sciences,\n",
    "    \"politics_govt_law\": politics_govt_law,\n",
    "    \"crime\": crime,\n",
    "    \"event_record_other\": event_record_other,\n",
    "    \"other_species\": other_species,\n",
    "    \"arts\": arts,\n",
    "    \"sports\": sports,\n",
    "    \"law_enf_military_operator\": law_enf_military_operator,\n",
    "}"
   ]
  },
  {
   "cell_type": "markdown",
   "id": "2e0dbff6",
   "metadata": {},
   "source": [
    "#### Extracting Category from `info_2`"
   ]
  },
  {
   "cell_type": "code",
   "execution_count": 138,
   "id": "a9a52d5c",
   "metadata": {},
   "outputs": [
    {
     "name": "stdout",
     "output_type": "stream",
     "text": [
      "CPU times: total: 1min 11s\n",
      "Wall time: 1min 11s\n"
     ]
    },
    {
     "data": {
      "text/html": [
       "<div>\n",
       "<style scoped>\n",
       "    .dataframe tbody tr th:only-of-type {\n",
       "        vertical-align: middle;\n",
       "    }\n",
       "\n",
       "    .dataframe tbody tr th {\n",
       "        vertical-align: top;\n",
       "    }\n",
       "\n",
       "    .dataframe thead th {\n",
       "        text-align: right;\n",
       "    }\n",
       "</style>\n",
       "<table border=\"1\" class=\"dataframe\">\n",
       "  <thead>\n",
       "    <tr style=\"text-align: right;\">\n",
       "      <th></th>\n",
       "      <th>day</th>\n",
       "      <th>name</th>\n",
       "      <th>info</th>\n",
       "      <th>link</th>\n",
       "      <th>num_references</th>\n",
       "      <th>year</th>\n",
       "      <th>month</th>\n",
       "      <th>info_parenth</th>\n",
       "      <th>info_1</th>\n",
       "      <th>info_2</th>\n",
       "      <th>info_3</th>\n",
       "      <th>info_4</th>\n",
       "      <th>info_5</th>\n",
       "      <th>info_6</th>\n",
       "      <th>info_7</th>\n",
       "      <th>info_8</th>\n",
       "      <th>info_9</th>\n",
       "      <th>info_10</th>\n",
       "      <th>info_11</th>\n",
       "      <th>age</th>\n",
       "      <th>cause_of_death</th>\n",
       "      <th>place_1</th>\n",
       "      <th>place_2</th>\n",
       "      <th>info_parenth_copy</th>\n",
       "      <th>log_num_references</th>\n",
       "      <th>sciences</th>\n",
       "      <th>social</th>\n",
       "      <th>spiritual</th>\n",
       "      <th>academia_humanities</th>\n",
       "      <th>business_farming</th>\n",
       "      <th>arts</th>\n",
       "      <th>sports</th>\n",
       "      <th>law_enf_military_operator</th>\n",
       "      <th>politics_govt_law</th>\n",
       "      <th>crime</th>\n",
       "      <th>event_record_other</th>\n",
       "      <th>other_species</th>\n",
       "      <th>num_categories</th>\n",
       "    </tr>\n",
       "  </thead>\n",
       "  <tbody>\n",
       "    <tr>\n",
       "      <th>54892</th>\n",
       "      <td>18</td>\n",
       "      <td>Mario Menéndez</td>\n",
       "      <td>, 85, Argentine military officer, Military Governor of the Falkland Islands .</td>\n",
       "      <td>https://en.wikipedia.org/wiki/Mario_Men%C3%A9ndez</td>\n",
       "      <td>53</td>\n",
       "      <td>2015</td>\n",
       "      <td>September</td>\n",
       "      <td></td>\n",
       "      <td>None</td>\n",
       "      <td></td>\n",
       "      <td>Military Governor of the</td>\n",
       "      <td>None</td>\n",
       "      <td>None</td>\n",
       "      <td>None</td>\n",
       "      <td>None</td>\n",
       "      <td>None</td>\n",
       "      <td>None</td>\n",
       "      <td>None</td>\n",
       "      <td>None</td>\n",
       "      <td>85.0</td>\n",
       "      <td>None</td>\n",
       "      <td>Argentina</td>\n",
       "      <td>None</td>\n",
       "      <td>1982</td>\n",
       "      <td>3.988984</td>\n",
       "      <td>0</td>\n",
       "      <td>0</td>\n",
       "      <td>0</td>\n",
       "      <td>0</td>\n",
       "      <td>0</td>\n",
       "      <td>0</td>\n",
       "      <td>0</td>\n",
       "      <td>1</td>\n",
       "      <td>0</td>\n",
       "      <td>0</td>\n",
       "      <td>0</td>\n",
       "      <td>0</td>\n",
       "      <td>1</td>\n",
       "    </tr>\n",
       "    <tr>\n",
       "      <th>16931</th>\n",
       "      <td>16</td>\n",
       "      <td>Charles C. Noble</td>\n",
       "      <td>, 87, American major general and engineer.</td>\n",
       "      <td>https://en.wikipedia.org/wiki/Charles_C._Noble</td>\n",
       "      <td>16</td>\n",
       "      <td>2003</td>\n",
       "      <td>August</td>\n",
       "      <td>None</td>\n",
       "      <td>None</td>\n",
       "      <td></td>\n",
       "      <td>None</td>\n",
       "      <td>None</td>\n",
       "      <td>None</td>\n",
       "      <td>None</td>\n",
       "      <td>None</td>\n",
       "      <td>None</td>\n",
       "      <td>None</td>\n",
       "      <td>None</td>\n",
       "      <td>None</td>\n",
       "      <td>87.0</td>\n",
       "      <td>None</td>\n",
       "      <td>United States of America</td>\n",
       "      <td>None</td>\n",
       "      <td>None</td>\n",
       "      <td>2.833213</td>\n",
       "      <td>1</td>\n",
       "      <td>0</td>\n",
       "      <td>0</td>\n",
       "      <td>0</td>\n",
       "      <td>0</td>\n",
       "      <td>0</td>\n",
       "      <td>0</td>\n",
       "      <td>1</td>\n",
       "      <td>0</td>\n",
       "      <td>0</td>\n",
       "      <td>0</td>\n",
       "      <td>0</td>\n",
       "      <td>2</td>\n",
       "    </tr>\n",
       "  </tbody>\n",
       "</table>\n",
       "</div>"
      ],
      "text/plain": [
       "      day              name  \\\n",
       "54892  18    Mario Menéndez   \n",
       "16931  16  Charles C. Noble   \n",
       "\n",
       "                                                                                info  \\\n",
       "54892  , 85, Argentine military officer, Military Governor of the Falkland Islands .   \n",
       "16931                                     , 87, American major general and engineer.   \n",
       "\n",
       "                                                    link  num_references  \\\n",
       "54892  https://en.wikipedia.org/wiki/Mario_Men%C3%A9ndez              53   \n",
       "16931     https://en.wikipedia.org/wiki/Charles_C._Noble              16   \n",
       "\n",
       "       year      month info_parenth info_1 info_2                    info_3  \\\n",
       "54892  2015  September                None         Military Governor of the   \n",
       "16931  2003     August         None   None                             None   \n",
       "\n",
       "      info_4 info_5 info_6 info_7 info_8 info_9 info_10 info_11   age  \\\n",
       "54892   None   None   None   None   None   None    None    None  85.0   \n",
       "16931   None   None   None   None   None   None    None    None  87.0   \n",
       "\n",
       "      cause_of_death                   place_1 place_2 info_parenth_copy  \\\n",
       "54892           None                 Argentina    None              1982   \n",
       "16931           None  United States of America    None              None   \n",
       "\n",
       "       log_num_references  sciences  social  spiritual  academia_humanities  \\\n",
       "54892            3.988984         0       0          0                    0   \n",
       "16931            2.833213         1       0          0                    0   \n",
       "\n",
       "       business_farming  arts  sports  law_enf_military_operator  \\\n",
       "54892                 0     0       0                          1   \n",
       "16931                 0     0       0                          1   \n",
       "\n",
       "       politics_govt_law  crime  event_record_other  other_species  \\\n",
       "54892                  0      0                   0              0   \n",
       "16931                  0      0                   0              0   \n",
       "\n",
       "       num_categories  \n",
       "54892               1  \n",
       "16931               2  "
      ]
     },
     "execution_count": 138,
     "metadata": {},
     "output_type": "execute_result"
    },
    {
     "data": {
      "application/javascript": [
       "\n",
       "            setTimeout(function() {\n",
       "                var nbb_cell_id = 138;\n",
       "                var nbb_unformatted_code = \"%%time\\n\\n# Dictionary version\\nsearch_dict = known_for_dict\\n\\n# Column to check\\ncolumn = 'info_2'\\n\\n# Dataframe\\ndataframe = df[column].notna()\\n\\n# For loop to find role in column and extract it as category\\nfor category, category_lst in search_dict.items():\\n    for role in category_lst:\\n        for index in dataframe.index:\\n            item = df.loc[index, column]\\n            if item:\\n                if role in item:\\n                    df.loc[index, category] = 1\\n                    df.loc[index, column] = item.replace(role, '').strip()\\n\\n# Updating num_categories\\ndf[\\\"num_categories\\\"] = df[known_for_dict.keys()].sum(axis=1)\\n\\n# Checking a sample of rows\\ndf[df['law_enf_military_operator'] ==1].sample(2)\";\n",
       "                var nbb_formatted_code = \"%%time\\n\\n# Dictionary version\\nsearch_dict = known_for_dict\\n\\n# Column to check\\ncolumn = 'info_2'\\n\\n# Dataframe\\ndataframe = df[column].notna()\\n\\n# For loop to find role in column and extract it as category\\nfor category, category_lst in search_dict.items():\\n    for role in category_lst:\\n        for index in dataframe.index:\\n            item = df.loc[index, column]\\n            if item:\\n                if role in item:\\n                    df.loc[index, category] = 1\\n                    df.loc[index, column] = item.replace(role, '').strip()\\n\\n# Updating num_categories\\ndf[\\\"num_categories\\\"] = df[known_for_dict.keys()].sum(axis=1)\\n\\n# Checking a sample of rows\\ndf[df['law_enf_military_operator'] ==1].sample(2)\";\n",
       "                var nbb_cells = Jupyter.notebook.get_cells();\n",
       "                for (var i = 0; i < nbb_cells.length; ++i) {\n",
       "                    if (nbb_cells[i].input_prompt_number == nbb_cell_id) {\n",
       "                        if (nbb_cells[i].get_text() == nbb_unformatted_code) {\n",
       "                             nbb_cells[i].set_text(nbb_formatted_code);\n",
       "                        }\n",
       "                        break;\n",
       "                    }\n",
       "                }\n",
       "            }, 500);\n",
       "            "
      ],
      "text/plain": [
       "<IPython.core.display.Javascript object>"
      ]
     },
     "metadata": {},
     "output_type": "display_data"
    }
   ],
   "source": [
    "%%time\n",
    "\n",
    "# Dictionary version\n",
    "search_dict = known_for_dict\n",
    "\n",
    "# Column to check\n",
    "column = 'info_2'\n",
    "\n",
    "# Dataframe\n",
    "dataframe = df[column].notna()\n",
    "\n",
    "# For loop to find role in column and extract it as category\n",
    "for category, category_lst in search_dict.items():\n",
    "    for role in category_lst:\n",
    "        for index in dataframe.index:\n",
    "            item = df.loc[index, column]\n",
    "            if item:\n",
    "                if role in item:\n",
    "                    df.loc[index, category] = 1\n",
    "                    df.loc[index, column] = item.replace(role, '').strip()\n",
    "\n",
    "# Updating num_categories\n",
    "df[\"num_categories\"] = df[known_for_dict.keys()].sum(axis=1)\n",
    "\n",
    "# Checking a sample of rows\n",
    "df[df['law_enf_military_operator'] ==1].sample(2)"
   ]
  },
  {
   "cell_type": "markdown",
   "id": "d8c3daad",
   "metadata": {},
   "source": [
    "#### Checking the Number of Rows without a First Category"
   ]
  },
  {
   "cell_type": "code",
   "execution_count": 139,
   "id": "92b43d5f",
   "metadata": {},
   "outputs": [
    {
     "name": "stdout",
     "output_type": "stream",
     "text": [
      "There are 28469 entries without any known_for category.\n"
     ]
    },
    {
     "data": {
      "application/javascript": [
       "\n",
       "            setTimeout(function() {\n",
       "                var nbb_cell_id = 139;\n",
       "                var nbb_unformatted_code = \"# Checking the number of rows without a first category\\nprint(\\n    f'There are {len(df[df[\\\"num_categories\\\"]==0])} entries without any known_for category.'\\n)\";\n",
       "                var nbb_formatted_code = \"# Checking the number of rows without a first category\\nprint(\\n    f'There are {len(df[df[\\\"num_categories\\\"]==0])} entries without any known_for category.'\\n)\";\n",
       "                var nbb_cells = Jupyter.notebook.get_cells();\n",
       "                for (var i = 0; i < nbb_cells.length; ++i) {\n",
       "                    if (nbb_cells[i].input_prompt_number == nbb_cell_id) {\n",
       "                        if (nbb_cells[i].get_text() == nbb_unformatted_code) {\n",
       "                             nbb_cells[i].set_text(nbb_formatted_code);\n",
       "                        }\n",
       "                        break;\n",
       "                    }\n",
       "                }\n",
       "            }, 500);\n",
       "            "
      ],
      "text/plain": [
       "<IPython.core.display.Javascript object>"
      ]
     },
     "metadata": {},
     "output_type": "display_data"
    }
   ],
   "source": [
    "# Checking the number of rows without a first category\n",
    "print(\n",
    "    f'There are {len(df[df[\"num_categories\"]==0])} entries without any known_for category.'\n",
    ")"
   ]
  },
  {
   "cell_type": "markdown",
   "id": "0f66697e",
   "metadata": {},
   "source": [
    "#### Observations:\n",
    "- It is time to export our dataframe and start a new notebook."
   ]
  },
  {
   "cell_type": "markdown",
   "id": "1113a242",
   "metadata": {},
   "source": [
    "### Exporting Dataset to SQLite Database [wp_life_expect_clean9.db](https://github.com/teresahanak/wikipedia-life-expectancy/blob/main/wp_life_expect_clean9.db)"
   ]
  },
  {
   "cell_type": "code",
   "execution_count": 140,
   "id": "6008ac61",
   "metadata": {},
   "outputs": [
    {
     "data": {
      "application/javascript": [
       "\n",
       "            setTimeout(function() {\n",
       "                var nbb_cell_id = 140;\n",
       "                var nbb_unformatted_code = \"# Exporting dataframe\\n\\n# Saving dataset in a SQLite database\\nconn = sql.connect(\\\"wp_life_expect_clean9.db\\\")\\ndf.to_sql(\\\"wp_life_expect_clean9\\\", conn, index=False)\\n\\n# Chime notification when cell executes\\nchime.success()\";\n",
       "                var nbb_formatted_code = \"# Exporting dataframe\\n\\n# Saving dataset in a SQLite database\\nconn = sql.connect(\\\"wp_life_expect_clean9.db\\\")\\ndf.to_sql(\\\"wp_life_expect_clean9\\\", conn, index=False)\\n\\n# Chime notification when cell executes\\nchime.success()\";\n",
       "                var nbb_cells = Jupyter.notebook.get_cells();\n",
       "                for (var i = 0; i < nbb_cells.length; ++i) {\n",
       "                    if (nbb_cells[i].input_prompt_number == nbb_cell_id) {\n",
       "                        if (nbb_cells[i].get_text() == nbb_unformatted_code) {\n",
       "                             nbb_cells[i].set_text(nbb_formatted_code);\n",
       "                        }\n",
       "                        break;\n",
       "                    }\n",
       "                }\n",
       "            }, 500);\n",
       "            "
      ],
      "text/plain": [
       "<IPython.core.display.Javascript object>"
      ]
     },
     "metadata": {},
     "output_type": "display_data"
    }
   ],
   "source": [
    "# Exporting dataframe\n",
    "\n",
    "# Saving dataset in a SQLite database\n",
    "conn = sql.connect(\"wp_life_expect_clean9.db\")\n",
    "df.to_sql(\"wp_life_expect_clean9\", conn, index=False)\n",
    "\n",
    "# Chime notification when cell executes\n",
    "chime.success()"
   ]
  },
  {
   "cell_type": "markdown",
   "id": "ff04f868",
   "metadata": {},
   "source": [
    "# [Proceed to Data Cleaning Part 10](https://github.com/teresahanak/wikipedia-life-expectancy/blob/main/wp_life_expect_data_clean10_thanak_2022_08_01.ipynb)"
   ]
  }
 ],
 "metadata": {
  "kernelspec": {
   "display_name": "Python 3 (ipykernel)",
   "language": "python",
   "name": "python3"
  },
  "language_info": {
   "codemirror_mode": {
    "name": "ipython",
    "version": 3
   },
   "file_extension": ".py",
   "mimetype": "text/x-python",
   "name": "python",
   "nbconvert_exporter": "python",
   "pygments_lexer": "ipython3",
   "version": "3.9.12"
  }
 },
 "nbformat": 4,
 "nbformat_minor": 5
}
