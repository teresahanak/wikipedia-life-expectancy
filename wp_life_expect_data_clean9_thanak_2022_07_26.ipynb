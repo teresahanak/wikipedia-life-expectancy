{
 "cells": [
  {
   "cell_type": "markdown",
   "id": "316a0779",
   "metadata": {},
   "source": [
    "# Wikipedia Notable Life Expectancies\n",
    "# [Notebook  : Data Cleaning Part 9](https://github.com/teresahanak/wikipedia-life-expectancy/blob/main/wp_life_expect_data_clean9_thanak_2022_07_26.ipynb)\n",
    "### Context\n",
    "\n",
    "The\n",
    "### Objective\n",
    "\n",
    "The\n",
    "### Data Dictionary\n",
    "- Feature: Description"
   ]
  },
  {
   "cell_type": "markdown",
   "id": "99245d51",
   "metadata": {},
   "source": [
    "### Importing Libraries"
   ]
  },
  {
   "cell_type": "code",
   "execution_count": 1,
   "id": "453bba83",
   "metadata": {},
   "outputs": [
    {
     "data": {
      "application/javascript": [
       "\n",
       "            setTimeout(function() {\n",
       "                var nbb_cell_id = 1;\n",
       "                var nbb_unformatted_code = \"# To structure code automatically\\n%load_ext nb_black\\n\\n# To import/export sqlite databases\\nimport sqlite3 as sql\\n\\n# To save/open python objects in pickle file\\nimport pickle\\n\\n# To help with reading, cleaning, and manipulating data\\nimport pandas as pd\\nimport numpy as np\\nimport re\\n\\n# To define maximum number of columns to be displayed in a dataframe\\npd.set_option(\\\"display.max_columns\\\", None)\\n# To define the maximum number of rows to be displayed in a dataframe\\npd.set_option(\\\"display.max_rows\\\", 200)\\n\\n# To supress warnings\\n# import warnings\\n\\n# warnings.filterwarnings(\\\"ignore\\\")\\n\\n# To set some visualization attributes\\npd.set_option(\\\"max_colwidth\\\", 150)\\n\\n# To play auditory cue when cell has executed, has warning, or has error and set chime theme\\nimport chime\\n\\nchime.theme(\\\"zelda\\\")\";\n",
       "                var nbb_formatted_code = \"# To structure code automatically\\n%load_ext nb_black\\n\\n# To import/export sqlite databases\\nimport sqlite3 as sql\\n\\n# To save/open python objects in pickle file\\nimport pickle\\n\\n# To help with reading, cleaning, and manipulating data\\nimport pandas as pd\\nimport numpy as np\\nimport re\\n\\n# To define maximum number of columns to be displayed in a dataframe\\npd.set_option(\\\"display.max_columns\\\", None)\\n# To define the maximum number of rows to be displayed in a dataframe\\npd.set_option(\\\"display.max_rows\\\", 200)\\n\\n# To supress warnings\\n# import warnings\\n\\n# warnings.filterwarnings(\\\"ignore\\\")\\n\\n# To set some visualization attributes\\npd.set_option(\\\"max_colwidth\\\", 150)\\n\\n# To play auditory cue when cell has executed, has warning, or has error and set chime theme\\nimport chime\\n\\nchime.theme(\\\"zelda\\\")\";\n",
       "                var nbb_cells = Jupyter.notebook.get_cells();\n",
       "                for (var i = 0; i < nbb_cells.length; ++i) {\n",
       "                    if (nbb_cells[i].input_prompt_number == nbb_cell_id) {\n",
       "                        if (nbb_cells[i].get_text() == nbb_unformatted_code) {\n",
       "                             nbb_cells[i].set_text(nbb_formatted_code);\n",
       "                        }\n",
       "                        break;\n",
       "                    }\n",
       "                }\n",
       "            }, 500);\n",
       "            "
      ],
      "text/plain": [
       "<IPython.core.display.Javascript object>"
      ]
     },
     "metadata": {},
     "output_type": "display_data"
    }
   ],
   "source": [
    "# To structure code automatically\n",
    "%load_ext nb_black\n",
    "\n",
    "# To import/export sqlite databases\n",
    "import sqlite3 as sql\n",
    "\n",
    "# To save/open python objects in pickle file\n",
    "import pickle\n",
    "\n",
    "# To help with reading, cleaning, and manipulating data\n",
    "import pandas as pd\n",
    "import numpy as np\n",
    "import re\n",
    "\n",
    "# To define maximum number of columns to be displayed in a dataframe\n",
    "pd.set_option(\"display.max_columns\", None)\n",
    "# To define the maximum number of rows to be displayed in a dataframe\n",
    "pd.set_option(\"display.max_rows\", 200)\n",
    "\n",
    "# To supress warnings\n",
    "# import warnings\n",
    "\n",
    "# warnings.filterwarnings(\"ignore\")\n",
    "\n",
    "# To set some visualization attributes\n",
    "pd.set_option(\"max_colwidth\", 150)\n",
    "\n",
    "# To play auditory cue when cell has executed, has warning, or has error and set chime theme\n",
    "import chime\n",
    "\n",
    "chime.theme(\"zelda\")"
   ]
  },
  {
   "cell_type": "markdown",
   "id": "cc818a82",
   "metadata": {},
   "source": [
    "## Data Overview"
   ]
  },
  {
   "cell_type": "markdown",
   "id": "0ed005f6",
   "metadata": {},
   "source": [
    "### Reading, Sampling, and Checking Data Shape"
   ]
  },
  {
   "cell_type": "code",
   "execution_count": 2,
   "id": "0ca58a95",
   "metadata": {},
   "outputs": [
    {
     "name": "stdout",
     "output_type": "stream",
     "text": [
      "There are 98059 rows and 38 columns.\n"
     ]
    },
    {
     "data": {
      "text/html": [
       "<div>\n",
       "<style scoped>\n",
       "    .dataframe tbody tr th:only-of-type {\n",
       "        vertical-align: middle;\n",
       "    }\n",
       "\n",
       "    .dataframe tbody tr th {\n",
       "        vertical-align: top;\n",
       "    }\n",
       "\n",
       "    .dataframe thead th {\n",
       "        text-align: right;\n",
       "    }\n",
       "</style>\n",
       "<table border=\"1\" class=\"dataframe\">\n",
       "  <thead>\n",
       "    <tr style=\"text-align: right;\">\n",
       "      <th></th>\n",
       "      <th>day</th>\n",
       "      <th>name</th>\n",
       "      <th>info</th>\n",
       "      <th>link</th>\n",
       "      <th>num_references</th>\n",
       "      <th>year</th>\n",
       "      <th>month</th>\n",
       "      <th>info_parenth</th>\n",
       "      <th>info_1</th>\n",
       "      <th>info_2</th>\n",
       "      <th>info_3</th>\n",
       "      <th>info_4</th>\n",
       "      <th>info_5</th>\n",
       "      <th>info_6</th>\n",
       "      <th>info_7</th>\n",
       "      <th>info_8</th>\n",
       "      <th>info_9</th>\n",
       "      <th>info_10</th>\n",
       "      <th>info_11</th>\n",
       "      <th>age</th>\n",
       "      <th>cause_of_death</th>\n",
       "      <th>place_1</th>\n",
       "      <th>place_2</th>\n",
       "      <th>info_parenth_copy</th>\n",
       "      <th>log_num_references</th>\n",
       "      <th>sciences</th>\n",
       "      <th>social</th>\n",
       "      <th>spiritual</th>\n",
       "      <th>academia_humanities</th>\n",
       "      <th>business_farming</th>\n",
       "      <th>arts</th>\n",
       "      <th>sports</th>\n",
       "      <th>law_enf_military_operator</th>\n",
       "      <th>politics_govt_law</th>\n",
       "      <th>crime</th>\n",
       "      <th>event_record_other</th>\n",
       "      <th>other_species</th>\n",
       "      <th>num_categories</th>\n",
       "    </tr>\n",
       "  </thead>\n",
       "  <tbody>\n",
       "    <tr>\n",
       "      <th>0</th>\n",
       "      <td>1</td>\n",
       "      <td>William Chappell</td>\n",
       "      <td>, 86, British dancer, ballet designer and director.</td>\n",
       "      <td>https://en.wikipedia.org/wiki/William_Chappell_(dancer)</td>\n",
       "      <td>21</td>\n",
       "      <td>1994</td>\n",
       "      <td>January</td>\n",
       "      <td>None</td>\n",
       "      <td>None</td>\n",
       "      <td>dancer</td>\n",
       "      <td>ballet designer and director</td>\n",
       "      <td>None</td>\n",
       "      <td>None</td>\n",
       "      <td>None</td>\n",
       "      <td>None</td>\n",
       "      <td>None</td>\n",
       "      <td>None</td>\n",
       "      <td>None</td>\n",
       "      <td>None</td>\n",
       "      <td>86.0</td>\n",
       "      <td>None</td>\n",
       "      <td>United Kingdom of Great Britain and Northern Ireland</td>\n",
       "      <td>None</td>\n",
       "      <td>None</td>\n",
       "      <td>3.091042</td>\n",
       "      <td>0</td>\n",
       "      <td>0</td>\n",
       "      <td>0</td>\n",
       "      <td>0</td>\n",
       "      <td>0</td>\n",
       "      <td>0</td>\n",
       "      <td>0</td>\n",
       "      <td>0</td>\n",
       "      <td>0</td>\n",
       "      <td>0</td>\n",
       "      <td>0</td>\n",
       "      <td>0</td>\n",
       "      <td>0</td>\n",
       "    </tr>\n",
       "    <tr>\n",
       "      <th>1</th>\n",
       "      <td>1</td>\n",
       "      <td>Raymond Crotty</td>\n",
       "      <td>, 68, Irish economist, writer, and academic.</td>\n",
       "      <td>https://en.wikipedia.org/wiki/Raymond_Crotty</td>\n",
       "      <td>12</td>\n",
       "      <td>1994</td>\n",
       "      <td>January</td>\n",
       "      <td>None</td>\n",
       "      <td>None</td>\n",
       "      <td></td>\n",
       "      <td>writer</td>\n",
       "      <td>and academic</td>\n",
       "      <td>None</td>\n",
       "      <td>None</td>\n",
       "      <td>None</td>\n",
       "      <td>None</td>\n",
       "      <td>None</td>\n",
       "      <td>None</td>\n",
       "      <td>None</td>\n",
       "      <td>68.0</td>\n",
       "      <td>None</td>\n",
       "      <td>Ireland</td>\n",
       "      <td>None</td>\n",
       "      <td>None</td>\n",
       "      <td>2.564949</td>\n",
       "      <td>0</td>\n",
       "      <td>0</td>\n",
       "      <td>0</td>\n",
       "      <td>0</td>\n",
       "      <td>0</td>\n",
       "      <td>0</td>\n",
       "      <td>0</td>\n",
       "      <td>0</td>\n",
       "      <td>1</td>\n",
       "      <td>0</td>\n",
       "      <td>0</td>\n",
       "      <td>0</td>\n",
       "      <td>1</td>\n",
       "    </tr>\n",
       "  </tbody>\n",
       "</table>\n",
       "</div>"
      ],
      "text/plain": [
       "  day              name                                                 info  \\\n",
       "0   1  William Chappell  , 86, British dancer, ballet designer and director.   \n",
       "1   1    Raymond Crotty         , 68, Irish economist, writer, and academic.   \n",
       "\n",
       "                                                      link  num_references  \\\n",
       "0  https://en.wikipedia.org/wiki/William_Chappell_(dancer)              21   \n",
       "1             https://en.wikipedia.org/wiki/Raymond_Crotty              12   \n",
       "\n",
       "   year    month info_parenth info_1  info_2                        info_3  \\\n",
       "0  1994  January         None   None  dancer  ballet designer and director   \n",
       "1  1994  January         None   None                                writer   \n",
       "\n",
       "         info_4 info_5 info_6 info_7 info_8 info_9 info_10 info_11   age  \\\n",
       "0          None   None   None   None   None   None    None    None  86.0   \n",
       "1  and academic   None   None   None   None   None    None    None  68.0   \n",
       "\n",
       "  cause_of_death                                               place_1  \\\n",
       "0           None  United Kingdom of Great Britain and Northern Ireland   \n",
       "1           None                                               Ireland   \n",
       "\n",
       "  place_2 info_parenth_copy  log_num_references  sciences  social  spiritual  \\\n",
       "0    None              None            3.091042         0       0          0   \n",
       "1    None              None            2.564949         0       0          0   \n",
       "\n",
       "   academia_humanities  business_farming  arts  sports  \\\n",
       "0                    0                 0     0       0   \n",
       "1                    0                 0     0       0   \n",
       "\n",
       "   law_enf_military_operator  politics_govt_law  crime  event_record_other  \\\n",
       "0                          0                  0      0                   0   \n",
       "1                          0                  1      0                   0   \n",
       "\n",
       "   other_species  num_categories  \n",
       "0              0               0  \n",
       "1              0               1  "
      ]
     },
     "execution_count": 2,
     "metadata": {},
     "output_type": "execute_result"
    },
    {
     "data": {
      "application/javascript": [
       "\n",
       "            setTimeout(function() {\n",
       "                var nbb_cell_id = 2;\n",
       "                var nbb_unformatted_code = \"# Reading the dataset\\nconn = sql.connect(\\\"wp_life_expect_clean8.db\\\")\\ndata = pd.read_sql(\\\"SELECT * FROM wp_life_expect_clean8\\\", conn)\\n\\n# Making a working copy\\ndf = data.copy()\\n\\n# Checking the shape\\nprint(f\\\"There are {df.shape[0]} rows and {df.shape[1]} columns.\\\")\\n\\n# Checking first 2 rows of the data\\ndf.head(2)\";\n",
       "                var nbb_formatted_code = \"# Reading the dataset\\nconn = sql.connect(\\\"wp_life_expect_clean8.db\\\")\\ndata = pd.read_sql(\\\"SELECT * FROM wp_life_expect_clean8\\\", conn)\\n\\n# Making a working copy\\ndf = data.copy()\\n\\n# Checking the shape\\nprint(f\\\"There are {df.shape[0]} rows and {df.shape[1]} columns.\\\")\\n\\n# Checking first 2 rows of the data\\ndf.head(2)\";\n",
       "                var nbb_cells = Jupyter.notebook.get_cells();\n",
       "                for (var i = 0; i < nbb_cells.length; ++i) {\n",
       "                    if (nbb_cells[i].input_prompt_number == nbb_cell_id) {\n",
       "                        if (nbb_cells[i].get_text() == nbb_unformatted_code) {\n",
       "                             nbb_cells[i].set_text(nbb_formatted_code);\n",
       "                        }\n",
       "                        break;\n",
       "                    }\n",
       "                }\n",
       "            }, 500);\n",
       "            "
      ],
      "text/plain": [
       "<IPython.core.display.Javascript object>"
      ]
     },
     "metadata": {},
     "output_type": "display_data"
    }
   ],
   "source": [
    "# Reading the dataset\n",
    "conn = sql.connect(\"wp_life_expect_clean8.db\")\n",
    "data = pd.read_sql(\"SELECT * FROM wp_life_expect_clean8\", conn)\n",
    "\n",
    "# Making a working copy\n",
    "df = data.copy()\n",
    "\n",
    "# Checking the shape\n",
    "print(f\"There are {df.shape[0]} rows and {df.shape[1]} columns.\")\n",
    "\n",
    "# Checking first 2 rows of the data\n",
    "df.head(2)"
   ]
  },
  {
   "cell_type": "code",
   "execution_count": 3,
   "id": "6cca416f",
   "metadata": {},
   "outputs": [
    {
     "data": {
      "text/html": [
       "<div>\n",
       "<style scoped>\n",
       "    .dataframe tbody tr th:only-of-type {\n",
       "        vertical-align: middle;\n",
       "    }\n",
       "\n",
       "    .dataframe tbody tr th {\n",
       "        vertical-align: top;\n",
       "    }\n",
       "\n",
       "    .dataframe thead th {\n",
       "        text-align: right;\n",
       "    }\n",
       "</style>\n",
       "<table border=\"1\" class=\"dataframe\">\n",
       "  <thead>\n",
       "    <tr style=\"text-align: right;\">\n",
       "      <th></th>\n",
       "      <th>day</th>\n",
       "      <th>name</th>\n",
       "      <th>info</th>\n",
       "      <th>link</th>\n",
       "      <th>num_references</th>\n",
       "      <th>year</th>\n",
       "      <th>month</th>\n",
       "      <th>info_parenth</th>\n",
       "      <th>info_1</th>\n",
       "      <th>info_2</th>\n",
       "      <th>info_3</th>\n",
       "      <th>info_4</th>\n",
       "      <th>info_5</th>\n",
       "      <th>info_6</th>\n",
       "      <th>info_7</th>\n",
       "      <th>info_8</th>\n",
       "      <th>info_9</th>\n",
       "      <th>info_10</th>\n",
       "      <th>info_11</th>\n",
       "      <th>age</th>\n",
       "      <th>cause_of_death</th>\n",
       "      <th>place_1</th>\n",
       "      <th>place_2</th>\n",
       "      <th>info_parenth_copy</th>\n",
       "      <th>log_num_references</th>\n",
       "      <th>sciences</th>\n",
       "      <th>social</th>\n",
       "      <th>spiritual</th>\n",
       "      <th>academia_humanities</th>\n",
       "      <th>business_farming</th>\n",
       "      <th>arts</th>\n",
       "      <th>sports</th>\n",
       "      <th>law_enf_military_operator</th>\n",
       "      <th>politics_govt_law</th>\n",
       "      <th>crime</th>\n",
       "      <th>event_record_other</th>\n",
       "      <th>other_species</th>\n",
       "      <th>num_categories</th>\n",
       "    </tr>\n",
       "  </thead>\n",
       "  <tbody>\n",
       "    <tr>\n",
       "      <th>98057</th>\n",
       "      <td>9</td>\n",
       "      <td>Aamir Liaquat Hussain</td>\n",
       "      <td>, 50, Pakistani journalist and politician, MNA .</td>\n",
       "      <td>https://en.wikipedia.org/wiki/Aamir_Liaquat_Hussain</td>\n",
       "      <td>99</td>\n",
       "      <td>2022</td>\n",
       "      <td>June</td>\n",
       "      <td>, since</td>\n",
       "      <td>None</td>\n",
       "      <td></td>\n",
       "      <td>MNA</td>\n",
       "      <td>None</td>\n",
       "      <td>None</td>\n",
       "      <td>None</td>\n",
       "      <td>None</td>\n",
       "      <td>None</td>\n",
       "      <td>None</td>\n",
       "      <td>None</td>\n",
       "      <td>None</td>\n",
       "      <td>50.0</td>\n",
       "      <td>None</td>\n",
       "      <td>Pakistan</td>\n",
       "      <td>None</td>\n",
       "      <td>2002 2007, since 2018</td>\n",
       "      <td>4.605170</td>\n",
       "      <td>0</td>\n",
       "      <td>0</td>\n",
       "      <td>0</td>\n",
       "      <td>0</td>\n",
       "      <td>0</td>\n",
       "      <td>1</td>\n",
       "      <td>0</td>\n",
       "      <td>0</td>\n",
       "      <td>1</td>\n",
       "      <td>0</td>\n",
       "      <td>0</td>\n",
       "      <td>0</td>\n",
       "      <td>2</td>\n",
       "    </tr>\n",
       "    <tr>\n",
       "      <th>98058</th>\n",
       "      <td>9</td>\n",
       "      <td>Zou Jing</td>\n",
       "      <td>, 86, Chinese engineer, member of the Chinese Academy of Engineering.</td>\n",
       "      <td>https://en.wikipedia.org/wiki/Zou_Jing_(engineer)</td>\n",
       "      <td>3</td>\n",
       "      <td>2022</td>\n",
       "      <td>June</td>\n",
       "      <td>None</td>\n",
       "      <td>None</td>\n",
       "      <td></td>\n",
       "      <td>member of the Academy of Engineering</td>\n",
       "      <td>None</td>\n",
       "      <td>None</td>\n",
       "      <td>None</td>\n",
       "      <td>None</td>\n",
       "      <td>None</td>\n",
       "      <td>None</td>\n",
       "      <td>None</td>\n",
       "      <td>None</td>\n",
       "      <td>86.0</td>\n",
       "      <td>None</td>\n",
       "      <td>China, People's Republic of</td>\n",
       "      <td>None</td>\n",
       "      <td>None</td>\n",
       "      <td>1.386294</td>\n",
       "      <td>1</td>\n",
       "      <td>0</td>\n",
       "      <td>0</td>\n",
       "      <td>0</td>\n",
       "      <td>0</td>\n",
       "      <td>0</td>\n",
       "      <td>0</td>\n",
       "      <td>0</td>\n",
       "      <td>0</td>\n",
       "      <td>0</td>\n",
       "      <td>0</td>\n",
       "      <td>0</td>\n",
       "      <td>1</td>\n",
       "    </tr>\n",
       "  </tbody>\n",
       "</table>\n",
       "</div>"
      ],
      "text/plain": [
       "      day                   name  \\\n",
       "98057   9  Aamir Liaquat Hussain   \n",
       "98058   9               Zou Jing   \n",
       "\n",
       "                                                                        info  \\\n",
       "98057                       , 50, Pakistani journalist and politician, MNA .   \n",
       "98058  , 86, Chinese engineer, member of the Chinese Academy of Engineering.   \n",
       "\n",
       "                                                      link  num_references  \\\n",
       "98057  https://en.wikipedia.org/wiki/Aamir_Liaquat_Hussain              99   \n",
       "98058    https://en.wikipedia.org/wiki/Zou_Jing_(engineer)               3   \n",
       "\n",
       "       year month info_parenth info_1 info_2  \\\n",
       "98057  2022  June      , since   None          \n",
       "98058  2022  June         None   None          \n",
       "\n",
       "                                     info_3 info_4 info_5 info_6 info_7  \\\n",
       "98057                                   MNA   None   None   None   None   \n",
       "98058  member of the Academy of Engineering   None   None   None   None   \n",
       "\n",
       "      info_8 info_9 info_10 info_11   age cause_of_death  \\\n",
       "98057   None   None    None    None  50.0           None   \n",
       "98058   None   None    None    None  86.0           None   \n",
       "\n",
       "                           place_1 place_2      info_parenth_copy  \\\n",
       "98057                     Pakistan    None  2002 2007, since 2018   \n",
       "98058  China, People's Republic of    None                   None   \n",
       "\n",
       "       log_num_references  sciences  social  spiritual  academia_humanities  \\\n",
       "98057            4.605170         0       0          0                    0   \n",
       "98058            1.386294         1       0          0                    0   \n",
       "\n",
       "       business_farming  arts  sports  law_enf_military_operator  \\\n",
       "98057                 0     1       0                          0   \n",
       "98058                 0     0       0                          0   \n",
       "\n",
       "       politics_govt_law  crime  event_record_other  other_species  \\\n",
       "98057                  1      0                   0              0   \n",
       "98058                  0      0                   0              0   \n",
       "\n",
       "       num_categories  \n",
       "98057               2  \n",
       "98058               1  "
      ]
     },
     "execution_count": 3,
     "metadata": {},
     "output_type": "execute_result"
    },
    {
     "data": {
      "application/javascript": [
       "\n",
       "            setTimeout(function() {\n",
       "                var nbb_cell_id = 3;\n",
       "                var nbb_unformatted_code = \"# Checking last 2 rows of the data\\ndf.tail(2)\";\n",
       "                var nbb_formatted_code = \"# Checking last 2 rows of the data\\ndf.tail(2)\";\n",
       "                var nbb_cells = Jupyter.notebook.get_cells();\n",
       "                for (var i = 0; i < nbb_cells.length; ++i) {\n",
       "                    if (nbb_cells[i].input_prompt_number == nbb_cell_id) {\n",
       "                        if (nbb_cells[i].get_text() == nbb_unformatted_code) {\n",
       "                             nbb_cells[i].set_text(nbb_formatted_code);\n",
       "                        }\n",
       "                        break;\n",
       "                    }\n",
       "                }\n",
       "            }, 500);\n",
       "            "
      ],
      "text/plain": [
       "<IPython.core.display.Javascript object>"
      ]
     },
     "metadata": {},
     "output_type": "display_data"
    }
   ],
   "source": [
    "# Checking last 2 rows of the data\n",
    "df.tail(2)"
   ]
  },
  {
   "cell_type": "code",
   "execution_count": 4,
   "id": "de6e8ee5",
   "metadata": {},
   "outputs": [
    {
     "data": {
      "text/html": [
       "<div>\n",
       "<style scoped>\n",
       "    .dataframe tbody tr th:only-of-type {\n",
       "        vertical-align: middle;\n",
       "    }\n",
       "\n",
       "    .dataframe tbody tr th {\n",
       "        vertical-align: top;\n",
       "    }\n",
       "\n",
       "    .dataframe thead th {\n",
       "        text-align: right;\n",
       "    }\n",
       "</style>\n",
       "<table border=\"1\" class=\"dataframe\">\n",
       "  <thead>\n",
       "    <tr style=\"text-align: right;\">\n",
       "      <th></th>\n",
       "      <th>day</th>\n",
       "      <th>name</th>\n",
       "      <th>info</th>\n",
       "      <th>link</th>\n",
       "      <th>num_references</th>\n",
       "      <th>year</th>\n",
       "      <th>month</th>\n",
       "      <th>info_parenth</th>\n",
       "      <th>info_1</th>\n",
       "      <th>info_2</th>\n",
       "      <th>info_3</th>\n",
       "      <th>info_4</th>\n",
       "      <th>info_5</th>\n",
       "      <th>info_6</th>\n",
       "      <th>info_7</th>\n",
       "      <th>info_8</th>\n",
       "      <th>info_9</th>\n",
       "      <th>info_10</th>\n",
       "      <th>info_11</th>\n",
       "      <th>age</th>\n",
       "      <th>cause_of_death</th>\n",
       "      <th>place_1</th>\n",
       "      <th>place_2</th>\n",
       "      <th>info_parenth_copy</th>\n",
       "      <th>log_num_references</th>\n",
       "      <th>sciences</th>\n",
       "      <th>social</th>\n",
       "      <th>spiritual</th>\n",
       "      <th>academia_humanities</th>\n",
       "      <th>business_farming</th>\n",
       "      <th>arts</th>\n",
       "      <th>sports</th>\n",
       "      <th>law_enf_military_operator</th>\n",
       "      <th>politics_govt_law</th>\n",
       "      <th>crime</th>\n",
       "      <th>event_record_other</th>\n",
       "      <th>other_species</th>\n",
       "      <th>num_categories</th>\n",
       "    </tr>\n",
       "  </thead>\n",
       "  <tbody>\n",
       "    <tr>\n",
       "      <th>17715</th>\n",
       "      <td>11</td>\n",
       "      <td>Algernon Marsham</td>\n",
       "      <td>, 84, English cricketer.</td>\n",
       "      <td>https://en.wikipedia.org/wiki/Algernon_Marsham</td>\n",
       "      <td>3</td>\n",
       "      <td>2004</td>\n",
       "      <td>February</td>\n",
       "      <td>None</td>\n",
       "      <td>None</td>\n",
       "      <td></td>\n",
       "      <td>None</td>\n",
       "      <td>None</td>\n",
       "      <td>None</td>\n",
       "      <td>None</td>\n",
       "      <td>None</td>\n",
       "      <td>None</td>\n",
       "      <td>None</td>\n",
       "      <td>None</td>\n",
       "      <td>None</td>\n",
       "      <td>84.0</td>\n",
       "      <td>None</td>\n",
       "      <td>United Kingdom of Great Britain and Northern Ireland</td>\n",
       "      <td>None</td>\n",
       "      <td>None</td>\n",
       "      <td>1.386294</td>\n",
       "      <td>0</td>\n",
       "      <td>0</td>\n",
       "      <td>0</td>\n",
       "      <td>0</td>\n",
       "      <td>0</td>\n",
       "      <td>0</td>\n",
       "      <td>1</td>\n",
       "      <td>0</td>\n",
       "      <td>0</td>\n",
       "      <td>0</td>\n",
       "      <td>0</td>\n",
       "      <td>0</td>\n",
       "      <td>1</td>\n",
       "    </tr>\n",
       "    <tr>\n",
       "      <th>19306</th>\n",
       "      <td>21</td>\n",
       "      <td>Roger Johnson</td>\n",
       "      <td>, 70, American businessman and government official.</td>\n",
       "      <td>https://en.wikipedia.org/wiki/Roger_Johnson_(California_official)</td>\n",
       "      <td>4</td>\n",
       "      <td>2005</td>\n",
       "      <td>February</td>\n",
       "      <td>None</td>\n",
       "      <td>None</td>\n",
       "      <td>government official</td>\n",
       "      <td>None</td>\n",
       "      <td>None</td>\n",
       "      <td>None</td>\n",
       "      <td>None</td>\n",
       "      <td>None</td>\n",
       "      <td>None</td>\n",
       "      <td>None</td>\n",
       "      <td>None</td>\n",
       "      <td>None</td>\n",
       "      <td>70.0</td>\n",
       "      <td>None</td>\n",
       "      <td>United States of America</td>\n",
       "      <td>None</td>\n",
       "      <td>None</td>\n",
       "      <td>1.609438</td>\n",
       "      <td>0</td>\n",
       "      <td>0</td>\n",
       "      <td>0</td>\n",
       "      <td>0</td>\n",
       "      <td>1</td>\n",
       "      <td>0</td>\n",
       "      <td>0</td>\n",
       "      <td>0</td>\n",
       "      <td>0</td>\n",
       "      <td>0</td>\n",
       "      <td>0</td>\n",
       "      <td>0</td>\n",
       "      <td>1</td>\n",
       "    </tr>\n",
       "    <tr>\n",
       "      <th>25242</th>\n",
       "      <td>20</td>\n",
       "      <td>Alexandru Custov</td>\n",
       "      <td>, 53, Romanian footballer.</td>\n",
       "      <td>https://en.wikipedia.org/wiki/Alexandru_Custov</td>\n",
       "      <td>10</td>\n",
       "      <td>2008</td>\n",
       "      <td>March</td>\n",
       "      <td>None</td>\n",
       "      <td>None</td>\n",
       "      <td></td>\n",
       "      <td>None</td>\n",
       "      <td>None</td>\n",
       "      <td>None</td>\n",
       "      <td>None</td>\n",
       "      <td>None</td>\n",
       "      <td>None</td>\n",
       "      <td>None</td>\n",
       "      <td>None</td>\n",
       "      <td>None</td>\n",
       "      <td>53.0</td>\n",
       "      <td>None</td>\n",
       "      <td>Romania</td>\n",
       "      <td>None</td>\n",
       "      <td>None</td>\n",
       "      <td>2.397895</td>\n",
       "      <td>0</td>\n",
       "      <td>0</td>\n",
       "      <td>0</td>\n",
       "      <td>0</td>\n",
       "      <td>0</td>\n",
       "      <td>0</td>\n",
       "      <td>1</td>\n",
       "      <td>0</td>\n",
       "      <td>0</td>\n",
       "      <td>0</td>\n",
       "      <td>0</td>\n",
       "      <td>0</td>\n",
       "      <td>1</td>\n",
       "    </tr>\n",
       "    <tr>\n",
       "      <th>88799</th>\n",
       "      <td>29</td>\n",
       "      <td>Theodore Lambrinos</td>\n",
       "      <td>, 85, Greek-American opera singer, complications from COVID-19.</td>\n",
       "      <td>https://en.wikipedia.org/wiki/Theodore_Lambrinos</td>\n",
       "      <td>10</td>\n",
       "      <td>2021</td>\n",
       "      <td>March</td>\n",
       "      <td>None</td>\n",
       "      <td>None</td>\n",
       "      <td></td>\n",
       "      <td>complications from COVID</td>\n",
       "      <td>None</td>\n",
       "      <td>None</td>\n",
       "      <td>None</td>\n",
       "      <td>None</td>\n",
       "      <td>None</td>\n",
       "      <td>None</td>\n",
       "      <td>None</td>\n",
       "      <td>None</td>\n",
       "      <td>85.0</td>\n",
       "      <td>None</td>\n",
       "      <td>Greece</td>\n",
       "      <td>United States of America</td>\n",
       "      <td>None</td>\n",
       "      <td>2.397895</td>\n",
       "      <td>0</td>\n",
       "      <td>0</td>\n",
       "      <td>0</td>\n",
       "      <td>0</td>\n",
       "      <td>0</td>\n",
       "      <td>1</td>\n",
       "      <td>0</td>\n",
       "      <td>0</td>\n",
       "      <td>0</td>\n",
       "      <td>0</td>\n",
       "      <td>0</td>\n",
       "      <td>0</td>\n",
       "      <td>1</td>\n",
       "    </tr>\n",
       "    <tr>\n",
       "      <th>61957</th>\n",
       "      <td>29</td>\n",
       "      <td>Elliot Sperling</td>\n",
       "      <td>, 66, American historian.</td>\n",
       "      <td>https://en.wikipedia.org/wiki/Elliot_Sperling</td>\n",
       "      <td>13</td>\n",
       "      <td>2017</td>\n",
       "      <td>January</td>\n",
       "      <td>None</td>\n",
       "      <td>None</td>\n",
       "      <td></td>\n",
       "      <td>None</td>\n",
       "      <td>None</td>\n",
       "      <td>None</td>\n",
       "      <td>None</td>\n",
       "      <td>None</td>\n",
       "      <td>None</td>\n",
       "      <td>None</td>\n",
       "      <td>None</td>\n",
       "      <td>None</td>\n",
       "      <td>66.0</td>\n",
       "      <td>None</td>\n",
       "      <td>United States of America</td>\n",
       "      <td>None</td>\n",
       "      <td>None</td>\n",
       "      <td>2.639057</td>\n",
       "      <td>0</td>\n",
       "      <td>0</td>\n",
       "      <td>0</td>\n",
       "      <td>1</td>\n",
       "      <td>0</td>\n",
       "      <td>0</td>\n",
       "      <td>0</td>\n",
       "      <td>0</td>\n",
       "      <td>0</td>\n",
       "      <td>0</td>\n",
       "      <td>0</td>\n",
       "      <td>0</td>\n",
       "      <td>1</td>\n",
       "    </tr>\n",
       "  </tbody>\n",
       "</table>\n",
       "</div>"
      ],
      "text/plain": [
       "      day                name  \\\n",
       "17715  11    Algernon Marsham   \n",
       "19306  21       Roger Johnson   \n",
       "25242  20    Alexandru Custov   \n",
       "88799  29  Theodore Lambrinos   \n",
       "61957  29     Elliot Sperling   \n",
       "\n",
       "                                                                  info  \\\n",
       "17715                                         , 84, English cricketer.   \n",
       "19306              , 70, American businessman and government official.   \n",
       "25242                                       , 53, Romanian footballer.   \n",
       "88799  , 85, Greek-American opera singer, complications from COVID-19.   \n",
       "61957                                        , 66, American historian.   \n",
       "\n",
       "                                                                    link  \\\n",
       "17715                     https://en.wikipedia.org/wiki/Algernon_Marsham   \n",
       "19306  https://en.wikipedia.org/wiki/Roger_Johnson_(California_official)   \n",
       "25242                     https://en.wikipedia.org/wiki/Alexandru_Custov   \n",
       "88799                   https://en.wikipedia.org/wiki/Theodore_Lambrinos   \n",
       "61957                      https://en.wikipedia.org/wiki/Elliot_Sperling   \n",
       "\n",
       "       num_references  year     month info_parenth info_1  \\\n",
       "17715               3  2004  February         None   None   \n",
       "19306               4  2005  February         None   None   \n",
       "25242              10  2008     March         None   None   \n",
       "88799              10  2021     March         None   None   \n",
       "61957              13  2017   January         None   None   \n",
       "\n",
       "                    info_2                    info_3 info_4 info_5 info_6  \\\n",
       "17715                                           None   None   None   None   \n",
       "19306  government official                      None   None   None   None   \n",
       "25242                                           None   None   None   None   \n",
       "88799                       complications from COVID   None   None   None   \n",
       "61957                                           None   None   None   None   \n",
       "\n",
       "      info_7 info_8 info_9 info_10 info_11   age cause_of_death  \\\n",
       "17715   None   None   None    None    None  84.0           None   \n",
       "19306   None   None   None    None    None  70.0           None   \n",
       "25242   None   None   None    None    None  53.0           None   \n",
       "88799   None   None   None    None    None  85.0           None   \n",
       "61957   None   None   None    None    None  66.0           None   \n",
       "\n",
       "                                                    place_1  \\\n",
       "17715  United Kingdom of Great Britain and Northern Ireland   \n",
       "19306                              United States of America   \n",
       "25242                                               Romania   \n",
       "88799                                                Greece   \n",
       "61957                              United States of America   \n",
       "\n",
       "                        place_2 info_parenth_copy  log_num_references  \\\n",
       "17715                      None              None            1.386294   \n",
       "19306                      None              None            1.609438   \n",
       "25242                      None              None            2.397895   \n",
       "88799  United States of America              None            2.397895   \n",
       "61957                      None              None            2.639057   \n",
       "\n",
       "       sciences  social  spiritual  academia_humanities  business_farming  \\\n",
       "17715         0       0          0                    0                 0   \n",
       "19306         0       0          0                    0                 1   \n",
       "25242         0       0          0                    0                 0   \n",
       "88799         0       0          0                    0                 0   \n",
       "61957         0       0          0                    1                 0   \n",
       "\n",
       "       arts  sports  law_enf_military_operator  politics_govt_law  crime  \\\n",
       "17715     0       1                          0                  0      0   \n",
       "19306     0       0                          0                  0      0   \n",
       "25242     0       1                          0                  0      0   \n",
       "88799     1       0                          0                  0      0   \n",
       "61957     0       0                          0                  0      0   \n",
       "\n",
       "       event_record_other  other_species  num_categories  \n",
       "17715                   0              0               1  \n",
       "19306                   0              0               1  \n",
       "25242                   0              0               1  \n",
       "88799                   0              0               1  \n",
       "61957                   0              0               1  "
      ]
     },
     "execution_count": 4,
     "metadata": {},
     "output_type": "execute_result"
    },
    {
     "data": {
      "application/javascript": [
       "\n",
       "            setTimeout(function() {\n",
       "                var nbb_cell_id = 4;\n",
       "                var nbb_unformatted_code = \"# Checking a sample of the data\\ndf.sample(5)\";\n",
       "                var nbb_formatted_code = \"# Checking a sample of the data\\ndf.sample(5)\";\n",
       "                var nbb_cells = Jupyter.notebook.get_cells();\n",
       "                for (var i = 0; i < nbb_cells.length; ++i) {\n",
       "                    if (nbb_cells[i].input_prompt_number == nbb_cell_id) {\n",
       "                        if (nbb_cells[i].get_text() == nbb_unformatted_code) {\n",
       "                             nbb_cells[i].set_text(nbb_formatted_code);\n",
       "                        }\n",
       "                        break;\n",
       "                    }\n",
       "                }\n",
       "            }, 500);\n",
       "            "
      ],
      "text/plain": [
       "<IPython.core.display.Javascript object>"
      ]
     },
     "metadata": {},
     "output_type": "display_data"
    }
   ],
   "source": [
    "# Checking a sample of the data\n",
    "df.sample(5)"
   ]
  },
  {
   "cell_type": "markdown",
   "id": "8d5f29da",
   "metadata": {},
   "source": [
    "### Checking Data Types, Duplicates, and Null Values"
   ]
  },
  {
   "cell_type": "code",
   "execution_count": 5,
   "id": "bf505f87",
   "metadata": {},
   "outputs": [
    {
     "name": "stdout",
     "output_type": "stream",
     "text": [
      "<class 'pandas.core.frame.DataFrame'>\n",
      "RangeIndex: 98059 entries, 0 to 98058\n",
      "Data columns (total 38 columns):\n",
      " #   Column                     Non-Null Count  Dtype  \n",
      "---  ------                     --------------  -----  \n",
      " 0   day                        98059 non-null  object \n",
      " 1   name                       98059 non-null  object \n",
      " 2   info                       98059 non-null  object \n",
      " 3   link                       98059 non-null  object \n",
      " 4   num_references             98059 non-null  int64  \n",
      " 5   year                       98059 non-null  int64  \n",
      " 6   month                      98059 non-null  object \n",
      " 7   info_parenth               36661 non-null  object \n",
      " 8   info_1                     22 non-null     object \n",
      " 9   info_2                     98027 non-null  object \n",
      " 10  info_3                     48896 non-null  object \n",
      " 11  info_4                     10264 non-null  object \n",
      " 12  info_5                     1265 non-null   object \n",
      " 13  info_6                     181 non-null    object \n",
      " 14  info_7                     27 non-null     object \n",
      " 15  info_8                     5 non-null      object \n",
      " 16  info_9                     1 non-null      object \n",
      " 17  info_10                    1 non-null      object \n",
      " 18  info_11                    1 non-null      object \n",
      " 19  age                        98059 non-null  float64\n",
      " 20  cause_of_death             8 non-null      object \n",
      " 21  place_1                    97904 non-null  object \n",
      " 22  place_2                    8102 non-null   object \n",
      " 23  info_parenth_copy          36661 non-null  object \n",
      " 24  log_num_references         98059 non-null  float64\n",
      " 25  sciences                   98059 non-null  int64  \n",
      " 26  social                     98059 non-null  int64  \n",
      " 27  spiritual                  98059 non-null  int64  \n",
      " 28  academia_humanities        98059 non-null  int64  \n",
      " 29  business_farming           98059 non-null  int64  \n",
      " 30  arts                       98059 non-null  int64  \n",
      " 31  sports                     98059 non-null  int64  \n",
      " 32  law_enf_military_operator  98059 non-null  int64  \n",
      " 33  politics_govt_law          98059 non-null  int64  \n",
      " 34  crime                      98059 non-null  int64  \n",
      " 35  event_record_other         98059 non-null  int64  \n",
      " 36  other_species              98059 non-null  int64  \n",
      " 37  num_categories             98059 non-null  int64  \n",
      "dtypes: float64(2), int64(15), object(21)\n",
      "memory usage: 28.4+ MB\n"
     ]
    },
    {
     "data": {
      "application/javascript": [
       "\n",
       "            setTimeout(function() {\n",
       "                var nbb_cell_id = 5;\n",
       "                var nbb_unformatted_code = \"# Checking data types and null values\\ndf.info()\";\n",
       "                var nbb_formatted_code = \"# Checking data types and null values\\ndf.info()\";\n",
       "                var nbb_cells = Jupyter.notebook.get_cells();\n",
       "                for (var i = 0; i < nbb_cells.length; ++i) {\n",
       "                    if (nbb_cells[i].input_prompt_number == nbb_cell_id) {\n",
       "                        if (nbb_cells[i].get_text() == nbb_unformatted_code) {\n",
       "                             nbb_cells[i].set_text(nbb_formatted_code);\n",
       "                        }\n",
       "                        break;\n",
       "                    }\n",
       "                }\n",
       "            }, 500);\n",
       "            "
      ],
      "text/plain": [
       "<IPython.core.display.Javascript object>"
      ]
     },
     "metadata": {},
     "output_type": "display_data"
    }
   ],
   "source": [
    "# Checking data types and null values\n",
    "df.info()"
   ]
  },
  {
   "cell_type": "markdown",
   "id": "c459d7f8",
   "metadata": {},
   "source": [
    "#### Observations:\n",
    "- With our dataset loaded, we can pick up where we left off with extracting known_for values by rebuilding `known_for_dict`."
   ]
  },
  {
   "cell_type": "markdown",
   "id": "5c542ec1",
   "metadata": {},
   "source": [
    "### Extracting `known_for` Continued"
   ]
  },
  {
   "cell_type": "markdown",
   "id": "49405767",
   "metadata": {},
   "source": [
    "#### Finding `known_for` Roles in `info_2`"
   ]
  },
  {
   "cell_type": "code",
   "execution_count": 6,
   "id": "19c24178",
   "metadata": {},
   "outputs": [
    {
     "data": {
      "application/javascript": [
       "\n",
       "            setTimeout(function() {\n",
       "                var nbb_cell_id = 6;\n",
       "                var nbb_unformatted_code = \"# # Obtaining values for column and their counts\\n# roles_list = df[\\\"info_2\\\"].value_counts(ascending=True).index.tolist()\";\n",
       "                var nbb_formatted_code = \"# # Obtaining values for column and their counts\\n# roles_list = df[\\\"info_2\\\"].value_counts(ascending=True).index.tolist()\";\n",
       "                var nbb_cells = Jupyter.notebook.get_cells();\n",
       "                for (var i = 0; i < nbb_cells.length; ++i) {\n",
       "                    if (nbb_cells[i].input_prompt_number == nbb_cell_id) {\n",
       "                        if (nbb_cells[i].get_text() == nbb_unformatted_code) {\n",
       "                             nbb_cells[i].set_text(nbb_formatted_code);\n",
       "                        }\n",
       "                        break;\n",
       "                    }\n",
       "                }\n",
       "            }, 500);\n",
       "            "
      ],
      "text/plain": [
       "<IPython.core.display.Javascript object>"
      ]
     },
     "metadata": {},
     "output_type": "display_data"
    }
   ],
   "source": [
    "# # Obtaining values for column and their counts\n",
    "# roles_list = df[\"info_2\"].value_counts(ascending=True).index.tolist()"
   ]
  },
  {
   "cell_type": "code",
   "execution_count": 7,
   "id": "412581ef",
   "metadata": {},
   "outputs": [
    {
     "data": {
      "application/javascript": [
       "\n",
       "            setTimeout(function() {\n",
       "                var nbb_cell_id = 7;\n",
       "                var nbb_unformatted_code = \"# # Code to check each value\\n# roles_list.pop()\";\n",
       "                var nbb_formatted_code = \"# # Code to check each value\\n# roles_list.pop()\";\n",
       "                var nbb_cells = Jupyter.notebook.get_cells();\n",
       "                for (var i = 0; i < nbb_cells.length; ++i) {\n",
       "                    if (nbb_cells[i].input_prompt_number == nbb_cell_id) {\n",
       "                        if (nbb_cells[i].get_text() == nbb_unformatted_code) {\n",
       "                             nbb_cells[i].set_text(nbb_formatted_code);\n",
       "                        }\n",
       "                        break;\n",
       "                    }\n",
       "                }\n",
       "            }, 500);\n",
       "            "
      ],
      "text/plain": [
       "<IPython.core.display.Javascript object>"
      ]
     },
     "metadata": {},
     "output_type": "display_data"
    }
   ],
   "source": [
    "# # Code to check each value\n",
    "# roles_list.pop()"
   ]
  },
  {
   "cell_type": "code",
   "execution_count": 8,
   "id": "34b7df51",
   "metadata": {},
   "outputs": [
    {
     "data": {
      "application/javascript": [
       "\n",
       "            setTimeout(function() {\n",
       "                var nbb_cell_id = 8;\n",
       "                var nbb_unformatted_code = \"# # Create specific_roles_list for above popped value\\n# specific_roles_list = (\\n#     df.loc[\\n#         [index for index in df.index if \\\"cartoonist\\\" in df.loc[index, \\\"info\\\"]],\\n#         \\\"info_2\\\",\\n#     ]\\n#     .value_counts()\\n#     .index.tolist()\\n# )\";\n",
       "                var nbb_formatted_code = \"# # Create specific_roles_list for above popped value\\n# specific_roles_list = (\\n#     df.loc[\\n#         [index for index in df.index if \\\"cartoonist\\\" in df.loc[index, \\\"info\\\"]],\\n#         \\\"info_2\\\",\\n#     ]\\n#     .value_counts()\\n#     .index.tolist()\\n# )\";\n",
       "                var nbb_cells = Jupyter.notebook.get_cells();\n",
       "                for (var i = 0; i < nbb_cells.length; ++i) {\n",
       "                    if (nbb_cells[i].input_prompt_number == nbb_cell_id) {\n",
       "                        if (nbb_cells[i].get_text() == nbb_unformatted_code) {\n",
       "                             nbb_cells[i].set_text(nbb_formatted_code);\n",
       "                        }\n",
       "                        break;\n",
       "                    }\n",
       "                }\n",
       "            }, 500);\n",
       "            "
      ],
      "text/plain": [
       "<IPython.core.display.Javascript object>"
      ]
     },
     "metadata": {},
     "output_type": "display_data"
    }
   ],
   "source": [
    "# # Create specific_roles_list for above popped value\n",
    "# specific_roles_list = (\n",
    "#     df.loc[\n",
    "#         [index for index in df.index if \"cartoonist\" in df.loc[index, \"info\"]],\n",
    "#         \"info_2\",\n",
    "#     ]\n",
    "#     .value_counts()\n",
    "#     .index.tolist()\n",
    "# )"
   ]
  },
  {
   "cell_type": "code",
   "execution_count": 9,
   "id": "379ae415",
   "metadata": {},
   "outputs": [
    {
     "data": {
      "application/javascript": [
       "\n",
       "            setTimeout(function() {\n",
       "                var nbb_cell_id = 9;\n",
       "                var nbb_unformatted_code = \"# # Code to check each specific value\\n# specific_roles_list.pop()\";\n",
       "                var nbb_formatted_code = \"# # Code to check each specific value\\n# specific_roles_list.pop()\";\n",
       "                var nbb_cells = Jupyter.notebook.get_cells();\n",
       "                for (var i = 0; i < nbb_cells.length; ++i) {\n",
       "                    if (nbb_cells[i].input_prompt_number == nbb_cell_id) {\n",
       "                        if (nbb_cells[i].get_text() == nbb_unformatted_code) {\n",
       "                             nbb_cells[i].set_text(nbb_formatted_code);\n",
       "                        }\n",
       "                        break;\n",
       "                    }\n",
       "                }\n",
       "            }, 500);\n",
       "            "
      ],
      "text/plain": [
       "<IPython.core.display.Javascript object>"
      ]
     },
     "metadata": {},
     "output_type": "display_data"
    }
   ],
   "source": [
    "# # Code to check each specific value\n",
    "# specific_roles_list.pop()"
   ]
  },
  {
   "cell_type": "code",
   "execution_count": 10,
   "id": "eb844061",
   "metadata": {},
   "outputs": [
    {
     "data": {
      "application/javascript": [
       "\n",
       "            setTimeout(function() {\n",
       "                var nbb_cell_id = 10;\n",
       "                var nbb_unformatted_code = \"# # Example code to quick-screen values that may overlap categories\\n# df.loc[[index for index in df.index if \\\"and fundamentalist\\\" in df.loc[index, \\\"info\\\"]]]\";\n",
       "                var nbb_formatted_code = \"# # Example code to quick-screen values that may overlap categories\\n# df.loc[[index for index in df.index if \\\"and fundamentalist\\\" in df.loc[index, \\\"info\\\"]]]\";\n",
       "                var nbb_cells = Jupyter.notebook.get_cells();\n",
       "                for (var i = 0; i < nbb_cells.length; ++i) {\n",
       "                    if (nbb_cells[i].input_prompt_number == nbb_cell_id) {\n",
       "                        if (nbb_cells[i].get_text() == nbb_unformatted_code) {\n",
       "                             nbb_cells[i].set_text(nbb_formatted_code);\n",
       "                        }\n",
       "                        break;\n",
       "                    }\n",
       "                }\n",
       "            }, 500);\n",
       "            "
      ],
      "text/plain": [
       "<IPython.core.display.Javascript object>"
      ]
     },
     "metadata": {},
     "output_type": "display_data"
    }
   ],
   "source": [
    "# # Example code to quick-screen values that may overlap categories\n",
    "# df.loc[[index for index in df.index if \"and fundamentalist\" in df.loc[index, \"info\"]]]"
   ]
  },
  {
   "cell_type": "code",
   "execution_count": 11,
   "id": "d2e69ece",
   "metadata": {},
   "outputs": [
    {
     "data": {
      "application/javascript": [
       "\n",
       "            setTimeout(function() {\n",
       "                var nbb_cell_id = 11;\n",
       "                var nbb_unformatted_code = \"# # Example code to quick-check a specific entry\\n# df[df[\\\"info_2\\\"] == \\\"World War II cartoonist\\\"]\";\n",
       "                var nbb_formatted_code = \"# # Example code to quick-check a specific entry\\n# df[df[\\\"info_2\\\"] == \\\"World War II cartoonist\\\"]\";\n",
       "                var nbb_cells = Jupyter.notebook.get_cells();\n",
       "                for (var i = 0; i < nbb_cells.length; ++i) {\n",
       "                    if (nbb_cells[i].input_prompt_number == nbb_cell_id) {\n",
       "                        if (nbb_cells[i].get_text() == nbb_unformatted_code) {\n",
       "                             nbb_cells[i].set_text(nbb_formatted_code);\n",
       "                        }\n",
       "                        break;\n",
       "                    }\n",
       "                }\n",
       "            }, 500);\n",
       "            "
      ],
      "text/plain": [
       "<IPython.core.display.Javascript object>"
      ]
     },
     "metadata": {},
     "output_type": "display_data"
    }
   ],
   "source": [
    "# # Example code to quick-check a specific entry\n",
    "# df[df[\"info_2\"] == \"World War II cartoonist\"]"
   ]
  },
  {
   "cell_type": "markdown",
   "id": "210200ab",
   "metadata": {},
   "source": [
    "#### Creating Lists for Each `known_for` Category"
   ]
  },
  {
   "cell_type": "code",
   "execution_count": 12,
   "id": "99e98490",
   "metadata": {},
   "outputs": [
    {
     "data": {
      "application/javascript": [
       "\n",
       "            setTimeout(function() {\n",
       "                var nbb_cell_id = 12;\n",
       "                var nbb_unformatted_code = \"# Creating lists for each category\\npolitics_govt_law = [\\n    \\\"satirical and political\\\",\\n]\\n\\narts = [\\n    'cartoonist Known for the biplane flying overhead trailing a banner that read \\\"mild',\\n    \\\"editorial cartoonist and the creator of the comic strip\\\",\\n    \\\"comic book and comic strip cartoonist and illustrator\\\",\\n    \\\"editorial cartoonist and prop and set designer\\\",\\n    \\\"underground cartoonist and fetish art pioneer\\\",\\n    \\\"children book illustrator and cartoonist\\\",\\n    \\\"cartoonist and television personality\\\",\\n    \\\"cartoonist who created the comic book\\\",\\n    \\\"television producer and cartoonist\\\",\\n    \\\"cartoonist and newspaper columnist\\\",\\n    \\\"Pulitzer Prize winning cartoonist\\\",\\n    \\\"cartoonist and fundamentalist\\\",\\n    \\\"cartoonist for The New Yorker\\\",\\n    \\\"cartoonist and puzzle creator\\\",\\n    \\\"underground comix cartoonist\\\",\\n    \\\"cartoonist and caricaturist\\\",\\n    \\\"illustrator and cartoonist\\\",\\n    \\\"cartoonist and illustrator\\\",\\n    \\\"cartoonist and publisher\\\",\\n    \\\"animator and cartoonist\\\",\\n    \\\"cartoonist and animator\\\",\\n    \\\"cartoonist and designer\\\",\\n    \\\"World War II cartoonist\\\",\\n    \\\"underground cartoonist\\\",\\n    \\\"comic strip cartoonist\\\",\\n    \\\"comic  and cartoonist\\\",\\n    \\\"editorial cartoonist\\\",\\n    \\\"animation cartoonist\\\",\\n    \\\"newspaper cartoonist\\\",\\n    \\\"manga cartoonist\\\",\\n    \\\"cartoonist and\\\",\\n    \\\"and cartoonist\\\",\\n    \\\"cartoonist\\\",\\n]\\nsports = []\\nsciences = []\\n\\nbusiness_farming = []\\nacademia_humanities = []\\nlaw_enf_military_operator = []\\nspiritual = []\\nsocial = []\\ncrime = []\\nevent_record_other = []\\nother_species = []\";\n",
       "                var nbb_formatted_code = \"# Creating lists for each category\\npolitics_govt_law = [\\n    \\\"satirical and political\\\",\\n]\\n\\narts = [\\n    'cartoonist Known for the biplane flying overhead trailing a banner that read \\\"mild',\\n    \\\"editorial cartoonist and the creator of the comic strip\\\",\\n    \\\"comic book and comic strip cartoonist and illustrator\\\",\\n    \\\"editorial cartoonist and prop and set designer\\\",\\n    \\\"underground cartoonist and fetish art pioneer\\\",\\n    \\\"children book illustrator and cartoonist\\\",\\n    \\\"cartoonist and television personality\\\",\\n    \\\"cartoonist who created the comic book\\\",\\n    \\\"television producer and cartoonist\\\",\\n    \\\"cartoonist and newspaper columnist\\\",\\n    \\\"Pulitzer Prize winning cartoonist\\\",\\n    \\\"cartoonist and fundamentalist\\\",\\n    \\\"cartoonist for The New Yorker\\\",\\n    \\\"cartoonist and puzzle creator\\\",\\n    \\\"underground comix cartoonist\\\",\\n    \\\"cartoonist and caricaturist\\\",\\n    \\\"illustrator and cartoonist\\\",\\n    \\\"cartoonist and illustrator\\\",\\n    \\\"cartoonist and publisher\\\",\\n    \\\"animator and cartoonist\\\",\\n    \\\"cartoonist and animator\\\",\\n    \\\"cartoonist and designer\\\",\\n    \\\"World War II cartoonist\\\",\\n    \\\"underground cartoonist\\\",\\n    \\\"comic strip cartoonist\\\",\\n    \\\"comic  and cartoonist\\\",\\n    \\\"editorial cartoonist\\\",\\n    \\\"animation cartoonist\\\",\\n    \\\"newspaper cartoonist\\\",\\n    \\\"manga cartoonist\\\",\\n    \\\"cartoonist and\\\",\\n    \\\"and cartoonist\\\",\\n    \\\"cartoonist\\\",\\n]\\nsports = []\\nsciences = []\\n\\nbusiness_farming = []\\nacademia_humanities = []\\nlaw_enf_military_operator = []\\nspiritual = []\\nsocial = []\\ncrime = []\\nevent_record_other = []\\nother_species = []\";\n",
       "                var nbb_cells = Jupyter.notebook.get_cells();\n",
       "                for (var i = 0; i < nbb_cells.length; ++i) {\n",
       "                    if (nbb_cells[i].input_prompt_number == nbb_cell_id) {\n",
       "                        if (nbb_cells[i].get_text() == nbb_unformatted_code) {\n",
       "                             nbb_cells[i].set_text(nbb_formatted_code);\n",
       "                        }\n",
       "                        break;\n",
       "                    }\n",
       "                }\n",
       "            }, 500);\n",
       "            "
      ],
      "text/plain": [
       "<IPython.core.display.Javascript object>"
      ]
     },
     "metadata": {},
     "output_type": "display_data"
    }
   ],
   "source": [
    "# Creating lists for each category\n",
    "politics_govt_law = [\n",
    "    \"satirical and political\",\n",
    "]\n",
    "\n",
    "arts = [\n",
    "    'cartoonist Known for the biplane flying overhead trailing a banner that read \"mild',\n",
    "    \"editorial cartoonist and the creator of the comic strip\",\n",
    "    \"comic book and comic strip cartoonist and illustrator\",\n",
    "    \"editorial cartoonist and prop and set designer\",\n",
    "    \"underground cartoonist and fetish art pioneer\",\n",
    "    \"children book illustrator and cartoonist\",\n",
    "    \"cartoonist and television personality\",\n",
    "    \"cartoonist who created the comic book\",\n",
    "    \"television producer and cartoonist\",\n",
    "    \"cartoonist and newspaper columnist\",\n",
    "    \"Pulitzer Prize winning cartoonist\",\n",
    "    \"cartoonist and fundamentalist\",\n",
    "    \"cartoonist for The New Yorker\",\n",
    "    \"cartoonist and puzzle creator\",\n",
    "    \"underground comix cartoonist\",\n",
    "    \"cartoonist and caricaturist\",\n",
    "    \"illustrator and cartoonist\",\n",
    "    \"cartoonist and illustrator\",\n",
    "    \"cartoonist and publisher\",\n",
    "    \"animator and cartoonist\",\n",
    "    \"cartoonist and animator\",\n",
    "    \"cartoonist and designer\",\n",
    "    \"World War II cartoonist\",\n",
    "    \"underground cartoonist\",\n",
    "    \"comic strip cartoonist\",\n",
    "    \"comic  and cartoonist\",\n",
    "    \"editorial cartoonist\",\n",
    "    \"animation cartoonist\",\n",
    "    \"newspaper cartoonist\",\n",
    "    \"manga cartoonist\",\n",
    "    \"cartoonist and\",\n",
    "    \"and cartoonist\",\n",
    "    \"cartoonist\",\n",
    "]\n",
    "sports = []\n",
    "sciences = []\n",
    "\n",
    "business_farming = []\n",
    "academia_humanities = []\n",
    "law_enf_military_operator = []\n",
    "spiritual = []\n",
    "social = []\n",
    "crime = []\n",
    "event_record_other = []\n",
    "other_species = []"
   ]
  },
  {
   "cell_type": "markdown",
   "id": "82c6abb0",
   "metadata": {},
   "source": [
    "#### Creating `known_for_dict` Dictionary of Category Keys and Specific Role Lists of Values"
   ]
  },
  {
   "cell_type": "code",
   "execution_count": 13,
   "id": "14a0ebca",
   "metadata": {},
   "outputs": [
    {
     "data": {
      "application/javascript": [
       "\n",
       "            setTimeout(function() {\n",
       "                var nbb_cell_id = 13;\n",
       "                var nbb_unformatted_code = \"# Combining separate lists into one dictionary\\nknown_for_dict = {\\n    \\\"social\\\": social,\\n    \\\"spiritual\\\": spiritual,\\n    \\\"academia_humanities\\\": academia_humanities,\\n    \\\"business_farming\\\": business_farming,\\n    \\\"sciences\\\": sciences,\\n    \\\"politics_govt_law\\\": politics_govt_law,\\n    \\\"law_enf_military_operator\\\": law_enf_military_operator,\\n    \\\"crime\\\": crime,\\n    \\\"event_record_other\\\": event_record_other,\\n    \\\"other_species\\\": other_species,\\n    \\\"arts\\\": arts,\\n    \\\"sports\\\": sports,\\n}\";\n",
       "                var nbb_formatted_code = \"# Combining separate lists into one dictionary\\nknown_for_dict = {\\n    \\\"social\\\": social,\\n    \\\"spiritual\\\": spiritual,\\n    \\\"academia_humanities\\\": academia_humanities,\\n    \\\"business_farming\\\": business_farming,\\n    \\\"sciences\\\": sciences,\\n    \\\"politics_govt_law\\\": politics_govt_law,\\n    \\\"law_enf_military_operator\\\": law_enf_military_operator,\\n    \\\"crime\\\": crime,\\n    \\\"event_record_other\\\": event_record_other,\\n    \\\"other_species\\\": other_species,\\n    \\\"arts\\\": arts,\\n    \\\"sports\\\": sports,\\n}\";\n",
       "                var nbb_cells = Jupyter.notebook.get_cells();\n",
       "                for (var i = 0; i < nbb_cells.length; ++i) {\n",
       "                    if (nbb_cells[i].input_prompt_number == nbb_cell_id) {\n",
       "                        if (nbb_cells[i].get_text() == nbb_unformatted_code) {\n",
       "                             nbb_cells[i].set_text(nbb_formatted_code);\n",
       "                        }\n",
       "                        break;\n",
       "                    }\n",
       "                }\n",
       "            }, 500);\n",
       "            "
      ],
      "text/plain": [
       "<IPython.core.display.Javascript object>"
      ]
     },
     "metadata": {},
     "output_type": "display_data"
    }
   ],
   "source": [
    "# Combining separate lists into one dictionary\n",
    "known_for_dict = {\n",
    "    \"social\": social,\n",
    "    \"spiritual\": spiritual,\n",
    "    \"academia_humanities\": academia_humanities,\n",
    "    \"business_farming\": business_farming,\n",
    "    \"sciences\": sciences,\n",
    "    \"politics_govt_law\": politics_govt_law,\n",
    "    \"law_enf_military_operator\": law_enf_military_operator,\n",
    "    \"crime\": crime,\n",
    "    \"event_record_other\": event_record_other,\n",
    "    \"other_species\": other_species,\n",
    "    \"arts\": arts,\n",
    "    \"sports\": sports,\n",
    "}"
   ]
  },
  {
   "cell_type": "markdown",
   "id": "5b70918e",
   "metadata": {},
   "source": [
    "#### Extracting Category from `info_2`"
   ]
  },
  {
   "cell_type": "code",
   "execution_count": 14,
   "id": "85428a81",
   "metadata": {},
   "outputs": [
    {
     "name": "stdout",
     "output_type": "stream",
     "text": [
      "CPU times: total: 17.7 s\n",
      "Wall time: 17.7 s\n"
     ]
    },
    {
     "data": {
      "text/html": [
       "<div>\n",
       "<style scoped>\n",
       "    .dataframe tbody tr th:only-of-type {\n",
       "        vertical-align: middle;\n",
       "    }\n",
       "\n",
       "    .dataframe tbody tr th {\n",
       "        vertical-align: top;\n",
       "    }\n",
       "\n",
       "    .dataframe thead th {\n",
       "        text-align: right;\n",
       "    }\n",
       "</style>\n",
       "<table border=\"1\" class=\"dataframe\">\n",
       "  <thead>\n",
       "    <tr style=\"text-align: right;\">\n",
       "      <th></th>\n",
       "      <th>day</th>\n",
       "      <th>name</th>\n",
       "      <th>info</th>\n",
       "      <th>link</th>\n",
       "      <th>num_references</th>\n",
       "      <th>year</th>\n",
       "      <th>month</th>\n",
       "      <th>info_parenth</th>\n",
       "      <th>info_1</th>\n",
       "      <th>info_2</th>\n",
       "      <th>info_3</th>\n",
       "      <th>info_4</th>\n",
       "      <th>info_5</th>\n",
       "      <th>info_6</th>\n",
       "      <th>info_7</th>\n",
       "      <th>info_8</th>\n",
       "      <th>info_9</th>\n",
       "      <th>info_10</th>\n",
       "      <th>info_11</th>\n",
       "      <th>age</th>\n",
       "      <th>cause_of_death</th>\n",
       "      <th>place_1</th>\n",
       "      <th>place_2</th>\n",
       "      <th>info_parenth_copy</th>\n",
       "      <th>log_num_references</th>\n",
       "      <th>sciences</th>\n",
       "      <th>social</th>\n",
       "      <th>spiritual</th>\n",
       "      <th>academia_humanities</th>\n",
       "      <th>business_farming</th>\n",
       "      <th>arts</th>\n",
       "      <th>sports</th>\n",
       "      <th>law_enf_military_operator</th>\n",
       "      <th>politics_govt_law</th>\n",
       "      <th>crime</th>\n",
       "      <th>event_record_other</th>\n",
       "      <th>other_species</th>\n",
       "      <th>num_categories</th>\n",
       "    </tr>\n",
       "  </thead>\n",
       "  <tbody>\n",
       "    <tr>\n",
       "      <th>80599</th>\n",
       "      <td>6</td>\n",
       "      <td>Armando Francioli</td>\n",
       "      <td>, 100, Italian actor .</td>\n",
       "      <td>https://en.wikipedia.org/wiki/Armando_Francioli</td>\n",
       "      <td>3</td>\n",
       "      <td>2020</td>\n",
       "      <td>April</td>\n",
       "      <td>, ,</td>\n",
       "      <td>None</td>\n",
       "      <td></td>\n",
       "      <td>None</td>\n",
       "      <td>None</td>\n",
       "      <td>None</td>\n",
       "      <td>None</td>\n",
       "      <td>None</td>\n",
       "      <td>None</td>\n",
       "      <td>None</td>\n",
       "      <td>None</td>\n",
       "      <td>None</td>\n",
       "      <td>100.0</td>\n",
       "      <td>None</td>\n",
       "      <td>Italy</td>\n",
       "      <td>None</td>\n",
       "      <td>, ,</td>\n",
       "      <td>1.386294</td>\n",
       "      <td>0</td>\n",
       "      <td>0</td>\n",
       "      <td>0</td>\n",
       "      <td>0</td>\n",
       "      <td>0</td>\n",
       "      <td>1</td>\n",
       "      <td>0</td>\n",
       "      <td>0</td>\n",
       "      <td>0</td>\n",
       "      <td>0</td>\n",
       "      <td>0</td>\n",
       "      <td>0</td>\n",
       "      <td>1</td>\n",
       "    </tr>\n",
       "    <tr>\n",
       "      <th>32491</th>\n",
       "      <td>14</td>\n",
       "      <td>Francisco Ribeiro</td>\n",
       "      <td>, 45, Portuguese musician , liver cancer.</td>\n",
       "      <td>https://en.wikipedia.org/wiki/Francisco_Ribeiro</td>\n",
       "      <td>3</td>\n",
       "      <td>2010</td>\n",
       "      <td>September</td>\n",
       "      <td>Madredeus</td>\n",
       "      <td>None</td>\n",
       "      <td></td>\n",
       "      <td>liver cancer</td>\n",
       "      <td>None</td>\n",
       "      <td>None</td>\n",
       "      <td>None</td>\n",
       "      <td>None</td>\n",
       "      <td>None</td>\n",
       "      <td>None</td>\n",
       "      <td>None</td>\n",
       "      <td>None</td>\n",
       "      <td>45.0</td>\n",
       "      <td>None</td>\n",
       "      <td>Portugal</td>\n",
       "      <td>None</td>\n",
       "      <td>Madredeus</td>\n",
       "      <td>1.386294</td>\n",
       "      <td>0</td>\n",
       "      <td>0</td>\n",
       "      <td>0</td>\n",
       "      <td>0</td>\n",
       "      <td>0</td>\n",
       "      <td>1</td>\n",
       "      <td>0</td>\n",
       "      <td>0</td>\n",
       "      <td>0</td>\n",
       "      <td>0</td>\n",
       "      <td>0</td>\n",
       "      <td>0</td>\n",
       "      <td>1</td>\n",
       "    </tr>\n",
       "  </tbody>\n",
       "</table>\n",
       "</div>"
      ],
      "text/plain": [
       "      day               name                                       info  \\\n",
       "80599   6  Armando Francioli                     , 100, Italian actor .   \n",
       "32491  14  Francisco Ribeiro  , 45, Portuguese musician , liver cancer.   \n",
       "\n",
       "                                                  link  num_references  year  \\\n",
       "80599  https://en.wikipedia.org/wiki/Armando_Francioli               3  2020   \n",
       "32491  https://en.wikipedia.org/wiki/Francisco_Ribeiro               3  2010   \n",
       "\n",
       "           month info_parenth info_1 info_2        info_3 info_4 info_5  \\\n",
       "80599      April          , ,   None                 None   None   None   \n",
       "32491  September    Madredeus   None         liver cancer   None   None   \n",
       "\n",
       "      info_6 info_7 info_8 info_9 info_10 info_11    age cause_of_death  \\\n",
       "80599   None   None   None   None    None    None  100.0           None   \n",
       "32491   None   None   None   None    None    None   45.0           None   \n",
       "\n",
       "        place_1 place_2 info_parenth_copy  log_num_references  sciences  \\\n",
       "80599     Italy    None               , ,            1.386294         0   \n",
       "32491  Portugal    None         Madredeus            1.386294         0   \n",
       "\n",
       "       social  spiritual  academia_humanities  business_farming  arts  sports  \\\n",
       "80599       0          0                    0                 0     1       0   \n",
       "32491       0          0                    0                 0     1       0   \n",
       "\n",
       "       law_enf_military_operator  politics_govt_law  crime  \\\n",
       "80599                          0                  0      0   \n",
       "32491                          0                  0      0   \n",
       "\n",
       "       event_record_other  other_species  num_categories  \n",
       "80599                   0              0               1  \n",
       "32491                   0              0               1  "
      ]
     },
     "execution_count": 14,
     "metadata": {},
     "output_type": "execute_result"
    },
    {
     "data": {
      "application/javascript": [
       "\n",
       "            setTimeout(function() {\n",
       "                var nbb_cell_id = 14;\n",
       "                var nbb_unformatted_code = \"%%time\\n\\n# Dictionary version\\nsearch_dict = known_for_dict\\n\\n# Column to check\\ncolumn = 'info_2'\\n\\n# Dataframe\\ndataframe = df[column].notna()\\n\\n# For loop to find role in column and extract it as category\\nfor category, category_lst in search_dict.items():\\n    for role in category_lst:\\n        for index in dataframe.index:\\n            item = df.loc[index, column]\\n            if item:\\n                if role in item:\\n                    df.loc[index, category] = 1\\n                    df.loc[index, column] = item.replace(role, '').strip()\\n\\n# Updating num_categories\\ndf[\\\"num_categories\\\"] = df[known_for_dict.keys()].sum(axis=1)\\n\\n# Checking a sample of rows\\ndf[df['arts'] ==1].sample(2)\";\n",
       "                var nbb_formatted_code = \"%%time\\n\\n# Dictionary version\\nsearch_dict = known_for_dict\\n\\n# Column to check\\ncolumn = 'info_2'\\n\\n# Dataframe\\ndataframe = df[column].notna()\\n\\n# For loop to find role in column and extract it as category\\nfor category, category_lst in search_dict.items():\\n    for role in category_lst:\\n        for index in dataframe.index:\\n            item = df.loc[index, column]\\n            if item:\\n                if role in item:\\n                    df.loc[index, category] = 1\\n                    df.loc[index, column] = item.replace(role, '').strip()\\n\\n# Updating num_categories\\ndf[\\\"num_categories\\\"] = df[known_for_dict.keys()].sum(axis=1)\\n\\n# Checking a sample of rows\\ndf[df['arts'] ==1].sample(2)\";\n",
       "                var nbb_cells = Jupyter.notebook.get_cells();\n",
       "                for (var i = 0; i < nbb_cells.length; ++i) {\n",
       "                    if (nbb_cells[i].input_prompt_number == nbb_cell_id) {\n",
       "                        if (nbb_cells[i].get_text() == nbb_unformatted_code) {\n",
       "                             nbb_cells[i].set_text(nbb_formatted_code);\n",
       "                        }\n",
       "                        break;\n",
       "                    }\n",
       "                }\n",
       "            }, 500);\n",
       "            "
      ],
      "text/plain": [
       "<IPython.core.display.Javascript object>"
      ]
     },
     "metadata": {},
     "output_type": "display_data"
    }
   ],
   "source": [
    "%%time\n",
    "\n",
    "# Dictionary version\n",
    "search_dict = known_for_dict\n",
    "\n",
    "# Column to check\n",
    "column = 'info_2'\n",
    "\n",
    "# Dataframe\n",
    "dataframe = df[column].notna()\n",
    "\n",
    "# For loop to find role in column and extract it as category\n",
    "for category, category_lst in search_dict.items():\n",
    "    for role in category_lst:\n",
    "        for index in dataframe.index:\n",
    "            item = df.loc[index, column]\n",
    "            if item:\n",
    "                if role in item:\n",
    "                    df.loc[index, category] = 1\n",
    "                    df.loc[index, column] = item.replace(role, '').strip()\n",
    "\n",
    "# Updating num_categories\n",
    "df[\"num_categories\"] = df[known_for_dict.keys()].sum(axis=1)\n",
    "\n",
    "# Checking a sample of rows\n",
    "df[df['arts'] ==1].sample(2)"
   ]
  },
  {
   "cell_type": "markdown",
   "id": "2557a7ca",
   "metadata": {},
   "source": [
    "#### Checking the Number of Rows without a First Category"
   ]
  },
  {
   "cell_type": "code",
   "execution_count": 15,
   "id": "57306110",
   "metadata": {},
   "outputs": [
    {
     "name": "stdout",
     "output_type": "stream",
     "text": [
      "There are 32388 entries without any known_for category.\n"
     ]
    },
    {
     "data": {
      "application/javascript": [
       "\n",
       "            setTimeout(function() {\n",
       "                var nbb_cell_id = 15;\n",
       "                var nbb_unformatted_code = \"# Checking the number of rows without a first category\\nprint(\\n    f'There are {len(df[df[\\\"num_categories\\\"]==0])} entries without any known_for category.'\\n)\";\n",
       "                var nbb_formatted_code = \"# Checking the number of rows without a first category\\nprint(\\n    f'There are {len(df[df[\\\"num_categories\\\"]==0])} entries without any known_for category.'\\n)\";\n",
       "                var nbb_cells = Jupyter.notebook.get_cells();\n",
       "                for (var i = 0; i < nbb_cells.length; ++i) {\n",
       "                    if (nbb_cells[i].input_prompt_number == nbb_cell_id) {\n",
       "                        if (nbb_cells[i].get_text() == nbb_unformatted_code) {\n",
       "                             nbb_cells[i].set_text(nbb_formatted_code);\n",
       "                        }\n",
       "                        break;\n",
       "                    }\n",
       "                }\n",
       "            }, 500);\n",
       "            "
      ],
      "text/plain": [
       "<IPython.core.display.Javascript object>"
      ]
     },
     "metadata": {},
     "output_type": "display_data"
    }
   ],
   "source": [
    "# Checking the number of rows without a first category\n",
    "print(\n",
    "    f'There are {len(df[df[\"num_categories\"]==0])} entries without any known_for category.'\n",
    ")"
   ]
  },
  {
   "cell_type": "markdown",
   "id": "8aeb916d",
   "metadata": {},
   "source": [
    "#### Observations:\n",
    "- We will proceed to rebuild `known_for_dict` for the next iteration."
   ]
  },
  {
   "cell_type": "markdown",
   "id": "083b2fb1",
   "metadata": {},
   "source": [
    "#### Finding `known_for` Roles in `info_2`"
   ]
  },
  {
   "cell_type": "code",
   "execution_count": 16,
   "id": "c02457aa",
   "metadata": {},
   "outputs": [
    {
     "data": {
      "application/javascript": [
       "\n",
       "            setTimeout(function() {\n",
       "                var nbb_cell_id = 16;\n",
       "                var nbb_unformatted_code = \"# # Obtaining values for column and their counts\\n# roles_list = df[\\\"info_2\\\"].value_counts(ascending=True).index.tolist()\";\n",
       "                var nbb_formatted_code = \"# # Obtaining values for column and their counts\\n# roles_list = df[\\\"info_2\\\"].value_counts(ascending=True).index.tolist()\";\n",
       "                var nbb_cells = Jupyter.notebook.get_cells();\n",
       "                for (var i = 0; i < nbb_cells.length; ++i) {\n",
       "                    if (nbb_cells[i].input_prompt_number == nbb_cell_id) {\n",
       "                        if (nbb_cells[i].get_text() == nbb_unformatted_code) {\n",
       "                             nbb_cells[i].set_text(nbb_formatted_code);\n",
       "                        }\n",
       "                        break;\n",
       "                    }\n",
       "                }\n",
       "            }, 500);\n",
       "            "
      ],
      "text/plain": [
       "<IPython.core.display.Javascript object>"
      ]
     },
     "metadata": {},
     "output_type": "display_data"
    }
   ],
   "source": [
    "# # Obtaining values for column and their counts\n",
    "# roles_list = df[\"info_2\"].value_counts(ascending=True).index.tolist()"
   ]
  },
  {
   "cell_type": "code",
   "execution_count": 17,
   "id": "19a05a68",
   "metadata": {},
   "outputs": [
    {
     "data": {
      "application/javascript": [
       "\n",
       "            setTimeout(function() {\n",
       "                var nbb_cell_id = 17;\n",
       "                var nbb_unformatted_code = \"# # Code to check each value\\n# roles_list.pop()\";\n",
       "                var nbb_formatted_code = \"# # Code to check each value\\n# roles_list.pop()\";\n",
       "                var nbb_cells = Jupyter.notebook.get_cells();\n",
       "                for (var i = 0; i < nbb_cells.length; ++i) {\n",
       "                    if (nbb_cells[i].input_prompt_number == nbb_cell_id) {\n",
       "                        if (nbb_cells[i].get_text() == nbb_unformatted_code) {\n",
       "                             nbb_cells[i].set_text(nbb_formatted_code);\n",
       "                        }\n",
       "                        break;\n",
       "                    }\n",
       "                }\n",
       "            }, 500);\n",
       "            "
      ],
      "text/plain": [
       "<IPython.core.display.Javascript object>"
      ]
     },
     "metadata": {},
     "output_type": "display_data"
    }
   ],
   "source": [
    "# # Code to check each value\n",
    "# roles_list.pop()"
   ]
  },
  {
   "cell_type": "code",
   "execution_count": 18,
   "id": "5aa12f86",
   "metadata": {},
   "outputs": [
    {
     "data": {
      "application/javascript": [
       "\n",
       "            setTimeout(function() {\n",
       "                var nbb_cell_id = 18;\n",
       "                var nbb_unformatted_code = \"# # Create specific_roles_list for above popped value\\n# specific_roles_list = (\\n#     df.loc[\\n#         [index for index in df.index if \\\"film producer\\\" in df.loc[index, \\\"info\\\"]],\\n#         \\\"info_2\\\",\\n#     ]\\n#     .value_counts()\\n#     .index.tolist()\\n# )\";\n",
       "                var nbb_formatted_code = \"# # Create specific_roles_list for above popped value\\n# specific_roles_list = (\\n#     df.loc[\\n#         [index for index in df.index if \\\"film producer\\\" in df.loc[index, \\\"info\\\"]],\\n#         \\\"info_2\\\",\\n#     ]\\n#     .value_counts()\\n#     .index.tolist()\\n# )\";\n",
       "                var nbb_cells = Jupyter.notebook.get_cells();\n",
       "                for (var i = 0; i < nbb_cells.length; ++i) {\n",
       "                    if (nbb_cells[i].input_prompt_number == nbb_cell_id) {\n",
       "                        if (nbb_cells[i].get_text() == nbb_unformatted_code) {\n",
       "                             nbb_cells[i].set_text(nbb_formatted_code);\n",
       "                        }\n",
       "                        break;\n",
       "                    }\n",
       "                }\n",
       "            }, 500);\n",
       "            "
      ],
      "text/plain": [
       "<IPython.core.display.Javascript object>"
      ]
     },
     "metadata": {},
     "output_type": "display_data"
    }
   ],
   "source": [
    "# # Create specific_roles_list for above popped value\n",
    "# specific_roles_list = (\n",
    "#     df.loc[\n",
    "#         [index for index in df.index if \"film producer\" in df.loc[index, \"info\"]],\n",
    "#         \"info_2\",\n",
    "#     ]\n",
    "#     .value_counts()\n",
    "#     .index.tolist()\n",
    "# )"
   ]
  },
  {
   "cell_type": "code",
   "execution_count": 19,
   "id": "b33a1ee1",
   "metadata": {},
   "outputs": [
    {
     "data": {
      "application/javascript": [
       "\n",
       "            setTimeout(function() {\n",
       "                var nbb_cell_id = 19;\n",
       "                var nbb_unformatted_code = \"# # Code to check each specific value\\n# specific_roles_list.pop()\";\n",
       "                var nbb_formatted_code = \"# # Code to check each specific value\\n# specific_roles_list.pop()\";\n",
       "                var nbb_cells = Jupyter.notebook.get_cells();\n",
       "                for (var i = 0; i < nbb_cells.length; ++i) {\n",
       "                    if (nbb_cells[i].input_prompt_number == nbb_cell_id) {\n",
       "                        if (nbb_cells[i].get_text() == nbb_unformatted_code) {\n",
       "                             nbb_cells[i].set_text(nbb_formatted_code);\n",
       "                        }\n",
       "                        break;\n",
       "                    }\n",
       "                }\n",
       "            }, 500);\n",
       "            "
      ],
      "text/plain": [
       "<IPython.core.display.Javascript object>"
      ]
     },
     "metadata": {},
     "output_type": "display_data"
    }
   ],
   "source": [
    "# # Code to check each specific value\n",
    "# specific_roles_list.pop()"
   ]
  },
  {
   "cell_type": "code",
   "execution_count": 20,
   "id": "85e0c2aa",
   "metadata": {},
   "outputs": [
    {
     "data": {
      "application/javascript": [
       "\n",
       "            setTimeout(function() {\n",
       "                var nbb_cell_id = 20;\n",
       "                var nbb_unformatted_code = \"# # Example code to quick-check a specific entry\\n# df[df[\\\"info_2\\\"] == \\\"film producer and distributor\\\"]\";\n",
       "                var nbb_formatted_code = \"# # Example code to quick-check a specific entry\\n# df[df[\\\"info_2\\\"] == \\\"film producer and distributor\\\"]\";\n",
       "                var nbb_cells = Jupyter.notebook.get_cells();\n",
       "                for (var i = 0; i < nbb_cells.length; ++i) {\n",
       "                    if (nbb_cells[i].input_prompt_number == nbb_cell_id) {\n",
       "                        if (nbb_cells[i].get_text() == nbb_unformatted_code) {\n",
       "                             nbb_cells[i].set_text(nbb_formatted_code);\n",
       "                        }\n",
       "                        break;\n",
       "                    }\n",
       "                }\n",
       "            }, 500);\n",
       "            "
      ],
      "text/plain": [
       "<IPython.core.display.Javascript object>"
      ]
     },
     "metadata": {},
     "output_type": "display_data"
    }
   ],
   "source": [
    "# # Example code to quick-check a specific entry\n",
    "# df[df[\"info_2\"] == \"film producer and distributor\"]"
   ]
  },
  {
   "cell_type": "markdown",
   "id": "7b17b66b",
   "metadata": {},
   "source": [
    "#### Creating Lists for Each `known_for` Category"
   ]
  },
  {
   "cell_type": "code",
   "execution_count": 21,
   "id": "2346ab64",
   "metadata": {},
   "outputs": [
    {
     "data": {
      "application/javascript": [
       "\n",
       "            setTimeout(function() {\n",
       "                var nbb_cell_id = 21;\n",
       "                var nbb_unformatted_code = \"# Creating lists for each category\\npolitics_govt_law = []\\n\\narts = [\\n    \\\"Broadway and film producer of musicals\\\",\\n    \\\"film producer and assistant director\\\",\\n    \\\"film producer and record executive\\\",\\n    \\\"film producer and studio executive\\\",\\n    \\\"cinematographer and film producer\\\",\\n    \\\"film producer and mother of Sarah\\\",\\n    \\\"talent manager and film producer\\\",\\n    \\\"film producer and talent manager\\\",\\n    \\\"broadcaster and film producer\\\",\\n    \\\"film producer and distributor\\\",\\n    \\\"film producer and founder of\\\",\\n    \\\"television and film producer\\\",\\n    \\\"film producer and presenter\\\",\\n    \\\"film producer and executive\\\",\\n    \\\"pornographic film producer\\\",\\n    \\\"Broadway and film producer\\\",\\n    \\\"film producer and director\\\",\\n    \\\"theater and film producer\\\",\\n    \\\"theatre and film producer\\\",\\n    \\\"independent film producer\\\",\\n    \\\"documentary film producer\\\",\\n    \\\"stage and film producer\\\",\\n    \\\"Bollywood film producer\\\",\\n    \\\"animated film producer\\\",\\n    \\\"horror film producer\\\",\\n    \\\"TV and film producer\\\",\\n    \\\"LGBT film producer\\\",\\n    \\\"and film producer\\\",\\n    \\\"film producer and\\\",\\n    \\\"film producer\\\",\\n]\\nsports = []\\nsciences = []\\n\\nbusiness_farming = []\\nacademia_humanities = []\\nlaw_enf_military_operator = []\\nspiritual = []\\nsocial = []\\ncrime = []\\nevent_record_other = []\\nother_species = []\";\n",
       "                var nbb_formatted_code = \"# Creating lists for each category\\npolitics_govt_law = []\\n\\narts = [\\n    \\\"Broadway and film producer of musicals\\\",\\n    \\\"film producer and assistant director\\\",\\n    \\\"film producer and record executive\\\",\\n    \\\"film producer and studio executive\\\",\\n    \\\"cinematographer and film producer\\\",\\n    \\\"film producer and mother of Sarah\\\",\\n    \\\"talent manager and film producer\\\",\\n    \\\"film producer and talent manager\\\",\\n    \\\"broadcaster and film producer\\\",\\n    \\\"film producer and distributor\\\",\\n    \\\"film producer and founder of\\\",\\n    \\\"television and film producer\\\",\\n    \\\"film producer and presenter\\\",\\n    \\\"film producer and executive\\\",\\n    \\\"pornographic film producer\\\",\\n    \\\"Broadway and film producer\\\",\\n    \\\"film producer and director\\\",\\n    \\\"theater and film producer\\\",\\n    \\\"theatre and film producer\\\",\\n    \\\"independent film producer\\\",\\n    \\\"documentary film producer\\\",\\n    \\\"stage and film producer\\\",\\n    \\\"Bollywood film producer\\\",\\n    \\\"animated film producer\\\",\\n    \\\"horror film producer\\\",\\n    \\\"TV and film producer\\\",\\n    \\\"LGBT film producer\\\",\\n    \\\"and film producer\\\",\\n    \\\"film producer and\\\",\\n    \\\"film producer\\\",\\n]\\nsports = []\\nsciences = []\\n\\nbusiness_farming = []\\nacademia_humanities = []\\nlaw_enf_military_operator = []\\nspiritual = []\\nsocial = []\\ncrime = []\\nevent_record_other = []\\nother_species = []\";\n",
       "                var nbb_cells = Jupyter.notebook.get_cells();\n",
       "                for (var i = 0; i < nbb_cells.length; ++i) {\n",
       "                    if (nbb_cells[i].input_prompt_number == nbb_cell_id) {\n",
       "                        if (nbb_cells[i].get_text() == nbb_unformatted_code) {\n",
       "                             nbb_cells[i].set_text(nbb_formatted_code);\n",
       "                        }\n",
       "                        break;\n",
       "                    }\n",
       "                }\n",
       "            }, 500);\n",
       "            "
      ],
      "text/plain": [
       "<IPython.core.display.Javascript object>"
      ]
     },
     "metadata": {},
     "output_type": "display_data"
    }
   ],
   "source": [
    "# Creating lists for each category\n",
    "politics_govt_law = []\n",
    "\n",
    "arts = [\n",
    "    \"Broadway and film producer of musicals\",\n",
    "    \"film producer and assistant director\",\n",
    "    \"film producer and record executive\",\n",
    "    \"film producer and studio executive\",\n",
    "    \"cinematographer and film producer\",\n",
    "    \"film producer and mother of Sarah\",\n",
    "    \"talent manager and film producer\",\n",
    "    \"film producer and talent manager\",\n",
    "    \"broadcaster and film producer\",\n",
    "    \"film producer and distributor\",\n",
    "    \"film producer and founder of\",\n",
    "    \"television and film producer\",\n",
    "    \"film producer and presenter\",\n",
    "    \"film producer and executive\",\n",
    "    \"pornographic film producer\",\n",
    "    \"Broadway and film producer\",\n",
    "    \"film producer and director\",\n",
    "    \"theater and film producer\",\n",
    "    \"theatre and film producer\",\n",
    "    \"independent film producer\",\n",
    "    \"documentary film producer\",\n",
    "    \"stage and film producer\",\n",
    "    \"Bollywood film producer\",\n",
    "    \"animated film producer\",\n",
    "    \"horror film producer\",\n",
    "    \"TV and film producer\",\n",
    "    \"LGBT film producer\",\n",
    "    \"and film producer\",\n",
    "    \"film producer and\",\n",
    "    \"film producer\",\n",
    "]\n",
    "sports = []\n",
    "sciences = []\n",
    "\n",
    "business_farming = []\n",
    "academia_humanities = []\n",
    "law_enf_military_operator = []\n",
    "spiritual = []\n",
    "social = []\n",
    "crime = []\n",
    "event_record_other = []\n",
    "other_species = []"
   ]
  },
  {
   "cell_type": "markdown",
   "id": "bfc3ef79",
   "metadata": {},
   "source": [
    "#### Creating `known_for_dict` Dictionary of Category Keys and Specific Role Lists of Values"
   ]
  },
  {
   "cell_type": "code",
   "execution_count": 22,
   "id": "e05000e1",
   "metadata": {},
   "outputs": [
    {
     "data": {
      "application/javascript": [
       "\n",
       "            setTimeout(function() {\n",
       "                var nbb_cell_id = 22;\n",
       "                var nbb_unformatted_code = \"# Combining separate lists into one dictionary\\nknown_for_dict = {\\n    \\\"social\\\": social,\\n    \\\"spiritual\\\": spiritual,\\n    \\\"academia_humanities\\\": academia_humanities,\\n    \\\"business_farming\\\": business_farming,\\n    \\\"sciences\\\": sciences,\\n    \\\"politics_govt_law\\\": politics_govt_law,\\n    \\\"law_enf_military_operator\\\": law_enf_military_operator,\\n    \\\"crime\\\": crime,\\n    \\\"event_record_other\\\": event_record_other,\\n    \\\"other_species\\\": other_species,\\n    \\\"arts\\\": arts,\\n    \\\"sports\\\": sports,\\n}\";\n",
       "                var nbb_formatted_code = \"# Combining separate lists into one dictionary\\nknown_for_dict = {\\n    \\\"social\\\": social,\\n    \\\"spiritual\\\": spiritual,\\n    \\\"academia_humanities\\\": academia_humanities,\\n    \\\"business_farming\\\": business_farming,\\n    \\\"sciences\\\": sciences,\\n    \\\"politics_govt_law\\\": politics_govt_law,\\n    \\\"law_enf_military_operator\\\": law_enf_military_operator,\\n    \\\"crime\\\": crime,\\n    \\\"event_record_other\\\": event_record_other,\\n    \\\"other_species\\\": other_species,\\n    \\\"arts\\\": arts,\\n    \\\"sports\\\": sports,\\n}\";\n",
       "                var nbb_cells = Jupyter.notebook.get_cells();\n",
       "                for (var i = 0; i < nbb_cells.length; ++i) {\n",
       "                    if (nbb_cells[i].input_prompt_number == nbb_cell_id) {\n",
       "                        if (nbb_cells[i].get_text() == nbb_unformatted_code) {\n",
       "                             nbb_cells[i].set_text(nbb_formatted_code);\n",
       "                        }\n",
       "                        break;\n",
       "                    }\n",
       "                }\n",
       "            }, 500);\n",
       "            "
      ],
      "text/plain": [
       "<IPython.core.display.Javascript object>"
      ]
     },
     "metadata": {},
     "output_type": "display_data"
    }
   ],
   "source": [
    "# Combining separate lists into one dictionary\n",
    "known_for_dict = {\n",
    "    \"social\": social,\n",
    "    \"spiritual\": spiritual,\n",
    "    \"academia_humanities\": academia_humanities,\n",
    "    \"business_farming\": business_farming,\n",
    "    \"sciences\": sciences,\n",
    "    \"politics_govt_law\": politics_govt_law,\n",
    "    \"law_enf_military_operator\": law_enf_military_operator,\n",
    "    \"crime\": crime,\n",
    "    \"event_record_other\": event_record_other,\n",
    "    \"other_species\": other_species,\n",
    "    \"arts\": arts,\n",
    "    \"sports\": sports,\n",
    "}"
   ]
  },
  {
   "cell_type": "markdown",
   "id": "e1c847f1",
   "metadata": {},
   "source": [
    "#### Extracting Category from `info_2`"
   ]
  },
  {
   "cell_type": "code",
   "execution_count": 23,
   "id": "85d1314d",
   "metadata": {},
   "outputs": [
    {
     "name": "stdout",
     "output_type": "stream",
     "text": [
      "CPU times: total: 15.3 s\n",
      "Wall time: 15.3 s\n"
     ]
    },
    {
     "data": {
      "text/html": [
       "<div>\n",
       "<style scoped>\n",
       "    .dataframe tbody tr th:only-of-type {\n",
       "        vertical-align: middle;\n",
       "    }\n",
       "\n",
       "    .dataframe tbody tr th {\n",
       "        vertical-align: top;\n",
       "    }\n",
       "\n",
       "    .dataframe thead th {\n",
       "        text-align: right;\n",
       "    }\n",
       "</style>\n",
       "<table border=\"1\" class=\"dataframe\">\n",
       "  <thead>\n",
       "    <tr style=\"text-align: right;\">\n",
       "      <th></th>\n",
       "      <th>day</th>\n",
       "      <th>name</th>\n",
       "      <th>info</th>\n",
       "      <th>link</th>\n",
       "      <th>num_references</th>\n",
       "      <th>year</th>\n",
       "      <th>month</th>\n",
       "      <th>info_parenth</th>\n",
       "      <th>info_1</th>\n",
       "      <th>info_2</th>\n",
       "      <th>info_3</th>\n",
       "      <th>info_4</th>\n",
       "      <th>info_5</th>\n",
       "      <th>info_6</th>\n",
       "      <th>info_7</th>\n",
       "      <th>info_8</th>\n",
       "      <th>info_9</th>\n",
       "      <th>info_10</th>\n",
       "      <th>info_11</th>\n",
       "      <th>age</th>\n",
       "      <th>cause_of_death</th>\n",
       "      <th>place_1</th>\n",
       "      <th>place_2</th>\n",
       "      <th>info_parenth_copy</th>\n",
       "      <th>log_num_references</th>\n",
       "      <th>sciences</th>\n",
       "      <th>social</th>\n",
       "      <th>spiritual</th>\n",
       "      <th>academia_humanities</th>\n",
       "      <th>business_farming</th>\n",
       "      <th>arts</th>\n",
       "      <th>sports</th>\n",
       "      <th>law_enf_military_operator</th>\n",
       "      <th>politics_govt_law</th>\n",
       "      <th>crime</th>\n",
       "      <th>event_record_other</th>\n",
       "      <th>other_species</th>\n",
       "      <th>num_categories</th>\n",
       "    </tr>\n",
       "  </thead>\n",
       "  <tbody>\n",
       "    <tr>\n",
       "      <th>89908</th>\n",
       "      <td>9</td>\n",
       "      <td>Viliam Turčány</td>\n",
       "      <td>, 93, Slovak poet, translator and writer.</td>\n",
       "      <td>https://en.wikipedia.org/wiki/Viliam_Tur%C4%8D%C3%A1ny</td>\n",
       "      <td>3</td>\n",
       "      <td>2021</td>\n",
       "      <td>May</td>\n",
       "      <td>None</td>\n",
       "      <td>None</td>\n",
       "      <td></td>\n",
       "      <td>translator and writer</td>\n",
       "      <td>None</td>\n",
       "      <td>None</td>\n",
       "      <td>None</td>\n",
       "      <td>None</td>\n",
       "      <td>None</td>\n",
       "      <td>None</td>\n",
       "      <td>None</td>\n",
       "      <td>None</td>\n",
       "      <td>93.0</td>\n",
       "      <td>None</td>\n",
       "      <td>Slovakia</td>\n",
       "      <td>None</td>\n",
       "      <td>None</td>\n",
       "      <td>1.386294</td>\n",
       "      <td>0</td>\n",
       "      <td>0</td>\n",
       "      <td>0</td>\n",
       "      <td>0</td>\n",
       "      <td>0</td>\n",
       "      <td>1</td>\n",
       "      <td>0</td>\n",
       "      <td>0</td>\n",
       "      <td>0</td>\n",
       "      <td>0</td>\n",
       "      <td>0</td>\n",
       "      <td>0</td>\n",
       "      <td>1</td>\n",
       "    </tr>\n",
       "    <tr>\n",
       "      <th>74658</th>\n",
       "      <td>7</td>\n",
       "      <td>Roberta L. Raymond</td>\n",
       "      <td>, 80, American actress and open housing activist, heart failure.</td>\n",
       "      <td>https://en.wikipedia.org/wiki/Roberta_L._Raymond</td>\n",
       "      <td>73</td>\n",
       "      <td>2019</td>\n",
       "      <td>May</td>\n",
       "      <td>None</td>\n",
       "      <td>None</td>\n",
       "      <td></td>\n",
       "      <td>heart failure</td>\n",
       "      <td>None</td>\n",
       "      <td>None</td>\n",
       "      <td>None</td>\n",
       "      <td>None</td>\n",
       "      <td>None</td>\n",
       "      <td>None</td>\n",
       "      <td>None</td>\n",
       "      <td>None</td>\n",
       "      <td>80.0</td>\n",
       "      <td>None</td>\n",
       "      <td>United States of America</td>\n",
       "      <td>None</td>\n",
       "      <td>None</td>\n",
       "      <td>4.304065</td>\n",
       "      <td>0</td>\n",
       "      <td>0</td>\n",
       "      <td>0</td>\n",
       "      <td>0</td>\n",
       "      <td>0</td>\n",
       "      <td>1</td>\n",
       "      <td>0</td>\n",
       "      <td>0</td>\n",
       "      <td>1</td>\n",
       "      <td>0</td>\n",
       "      <td>0</td>\n",
       "      <td>0</td>\n",
       "      <td>2</td>\n",
       "    </tr>\n",
       "  </tbody>\n",
       "</table>\n",
       "</div>"
      ],
      "text/plain": [
       "      day                name  \\\n",
       "89908   9      Viliam Turčány   \n",
       "74658   7  Roberta L. Raymond   \n",
       "\n",
       "                                                                   info  \\\n",
       "89908                         , 93, Slovak poet, translator and writer.   \n",
       "74658  , 80, American actress and open housing activist, heart failure.   \n",
       "\n",
       "                                                         link  num_references  \\\n",
       "89908  https://en.wikipedia.org/wiki/Viliam_Tur%C4%8D%C3%A1ny               3   \n",
       "74658        https://en.wikipedia.org/wiki/Roberta_L._Raymond              73   \n",
       "\n",
       "       year month info_parenth info_1 info_2                 info_3 info_4  \\\n",
       "89908  2021   May         None   None         translator and writer   None   \n",
       "74658  2019   May         None   None                 heart failure   None   \n",
       "\n",
       "      info_5 info_6 info_7 info_8 info_9 info_10 info_11   age cause_of_death  \\\n",
       "89908   None   None   None   None   None    None    None  93.0           None   \n",
       "74658   None   None   None   None   None    None    None  80.0           None   \n",
       "\n",
       "                        place_1 place_2 info_parenth_copy  log_num_references  \\\n",
       "89908                  Slovakia    None              None            1.386294   \n",
       "74658  United States of America    None              None            4.304065   \n",
       "\n",
       "       sciences  social  spiritual  academia_humanities  business_farming  \\\n",
       "89908         0       0          0                    0                 0   \n",
       "74658         0       0          0                    0                 0   \n",
       "\n",
       "       arts  sports  law_enf_military_operator  politics_govt_law  crime  \\\n",
       "89908     1       0                          0                  0      0   \n",
       "74658     1       0                          0                  1      0   \n",
       "\n",
       "       event_record_other  other_species  num_categories  \n",
       "89908                   0              0               1  \n",
       "74658                   0              0               2  "
      ]
     },
     "execution_count": 23,
     "metadata": {},
     "output_type": "execute_result"
    },
    {
     "data": {
      "application/javascript": [
       "\n",
       "            setTimeout(function() {\n",
       "                var nbb_cell_id = 23;\n",
       "                var nbb_unformatted_code = \"%%time\\n\\n# Dictionary version\\nsearch_dict = known_for_dict\\n\\n# Column to check\\ncolumn = 'info_2'\\n\\n# Dataframe\\ndataframe = df[column].notna()\\n\\n# For loop to find role in column and extract it as category\\nfor category, category_lst in search_dict.items():\\n    for role in category_lst:\\n        for index in dataframe.index:\\n            item = df.loc[index, column]\\n            if item:\\n                if role in item:\\n                    df.loc[index, category] = 1\\n                    df.loc[index, column] = item.replace(role, '').strip()\\n\\n# Updating num_categories\\ndf[\\\"num_categories\\\"] = df[known_for_dict.keys()].sum(axis=1)\\n\\n# Checking a sample of rows\\ndf[df['arts'] ==1].sample(2)\";\n",
       "                var nbb_formatted_code = \"%%time\\n\\n# Dictionary version\\nsearch_dict = known_for_dict\\n\\n# Column to check\\ncolumn = 'info_2'\\n\\n# Dataframe\\ndataframe = df[column].notna()\\n\\n# For loop to find role in column and extract it as category\\nfor category, category_lst in search_dict.items():\\n    for role in category_lst:\\n        for index in dataframe.index:\\n            item = df.loc[index, column]\\n            if item:\\n                if role in item:\\n                    df.loc[index, category] = 1\\n                    df.loc[index, column] = item.replace(role, '').strip()\\n\\n# Updating num_categories\\ndf[\\\"num_categories\\\"] = df[known_for_dict.keys()].sum(axis=1)\\n\\n# Checking a sample of rows\\ndf[df['arts'] ==1].sample(2)\";\n",
       "                var nbb_cells = Jupyter.notebook.get_cells();\n",
       "                for (var i = 0; i < nbb_cells.length; ++i) {\n",
       "                    if (nbb_cells[i].input_prompt_number == nbb_cell_id) {\n",
       "                        if (nbb_cells[i].get_text() == nbb_unformatted_code) {\n",
       "                             nbb_cells[i].set_text(nbb_formatted_code);\n",
       "                        }\n",
       "                        break;\n",
       "                    }\n",
       "                }\n",
       "            }, 500);\n",
       "            "
      ],
      "text/plain": [
       "<IPython.core.display.Javascript object>"
      ]
     },
     "metadata": {},
     "output_type": "display_data"
    }
   ],
   "source": [
    "%%time\n",
    "\n",
    "# Dictionary version\n",
    "search_dict = known_for_dict\n",
    "\n",
    "# Column to check\n",
    "column = 'info_2'\n",
    "\n",
    "# Dataframe\n",
    "dataframe = df[column].notna()\n",
    "\n",
    "# For loop to find role in column and extract it as category\n",
    "for category, category_lst in search_dict.items():\n",
    "    for role in category_lst:\n",
    "        for index in dataframe.index:\n",
    "            item = df.loc[index, column]\n",
    "            if item:\n",
    "                if role in item:\n",
    "                    df.loc[index, category] = 1\n",
    "                    df.loc[index, column] = item.replace(role, '').strip()\n",
    "\n",
    "# Updating num_categories\n",
    "df[\"num_categories\"] = df[known_for_dict.keys()].sum(axis=1)\n",
    "\n",
    "# Checking a sample of rows\n",
    "df[df['arts'] ==1].sample(2)"
   ]
  },
  {
   "cell_type": "markdown",
   "id": "80fd0267",
   "metadata": {},
   "source": [
    "#### Checking the Number of Rows without a First Category"
   ]
  },
  {
   "cell_type": "code",
   "execution_count": 24,
   "id": "57e758f3",
   "metadata": {},
   "outputs": [
    {
     "name": "stdout",
     "output_type": "stream",
     "text": [
      "There are 32146 entries without any known_for category.\n"
     ]
    },
    {
     "data": {
      "application/javascript": [
       "\n",
       "            setTimeout(function() {\n",
       "                var nbb_cell_id = 24;\n",
       "                var nbb_unformatted_code = \"# Checking the number of rows without a first category\\nprint(\\n    f'There are {len(df[df[\\\"num_categories\\\"]==0])} entries without any known_for category.'\\n)\";\n",
       "                var nbb_formatted_code = \"# Checking the number of rows without a first category\\nprint(\\n    f'There are {len(df[df[\\\"num_categories\\\"]==0])} entries without any known_for category.'\\n)\";\n",
       "                var nbb_cells = Jupyter.notebook.get_cells();\n",
       "                for (var i = 0; i < nbb_cells.length; ++i) {\n",
       "                    if (nbb_cells[i].input_prompt_number == nbb_cell_id) {\n",
       "                        if (nbb_cells[i].get_text() == nbb_unformatted_code) {\n",
       "                             nbb_cells[i].set_text(nbb_formatted_code);\n",
       "                        }\n",
       "                        break;\n",
       "                    }\n",
       "                }\n",
       "            }, 500);\n",
       "            "
      ],
      "text/plain": [
       "<IPython.core.display.Javascript object>"
      ]
     },
     "metadata": {},
     "output_type": "display_data"
    }
   ],
   "source": [
    "# Checking the number of rows without a first category\n",
    "print(\n",
    "    f'There are {len(df[df[\"num_categories\"]==0])} entries without any known_for category.'\n",
    ")"
   ]
  },
  {
   "cell_type": "markdown",
   "id": "8c53a585",
   "metadata": {},
   "source": [
    "#### Observations:\n",
    "- We will proceed to rebuild `known_for_dict` for the next iteration."
   ]
  },
  {
   "cell_type": "markdown",
   "id": "9ba2a3a7",
   "metadata": {},
   "source": [
    "#### Finding `known_for` Roles in `info_2`"
   ]
  },
  {
   "cell_type": "code",
   "execution_count": 25,
   "id": "5ec9c8e4",
   "metadata": {},
   "outputs": [
    {
     "data": {
      "application/javascript": [
       "\n",
       "            setTimeout(function() {\n",
       "                var nbb_cell_id = 25;\n",
       "                var nbb_unformatted_code = \"# # Obtaining values for column and their counts\\n# roles_list = df[\\\"info_2\\\"].value_counts(ascending=True).index.tolist()\";\n",
       "                var nbb_formatted_code = \"# # Obtaining values for column and their counts\\n# roles_list = df[\\\"info_2\\\"].value_counts(ascending=True).index.tolist()\";\n",
       "                var nbb_cells = Jupyter.notebook.get_cells();\n",
       "                for (var i = 0; i < nbb_cells.length; ++i) {\n",
       "                    if (nbb_cells[i].input_prompt_number == nbb_cell_id) {\n",
       "                        if (nbb_cells[i].get_text() == nbb_unformatted_code) {\n",
       "                             nbb_cells[i].set_text(nbb_formatted_code);\n",
       "                        }\n",
       "                        break;\n",
       "                    }\n",
       "                }\n",
       "            }, 500);\n",
       "            "
      ],
      "text/plain": [
       "<IPython.core.display.Javascript object>"
      ]
     },
     "metadata": {},
     "output_type": "display_data"
    }
   ],
   "source": [
    "# # Obtaining values for column and their counts\n",
    "# roles_list = df[\"info_2\"].value_counts(ascending=True).index.tolist()"
   ]
  },
  {
   "cell_type": "code",
   "execution_count": 26,
   "id": "9ba5ca05",
   "metadata": {},
   "outputs": [
    {
     "data": {
      "application/javascript": [
       "\n",
       "            setTimeout(function() {\n",
       "                var nbb_cell_id = 26;\n",
       "                var nbb_unformatted_code = \"# # Code to check each value\\n# roles_list.pop()\";\n",
       "                var nbb_formatted_code = \"# # Code to check each value\\n# roles_list.pop()\";\n",
       "                var nbb_cells = Jupyter.notebook.get_cells();\n",
       "                for (var i = 0; i < nbb_cells.length; ++i) {\n",
       "                    if (nbb_cells[i].input_prompt_number == nbb_cell_id) {\n",
       "                        if (nbb_cells[i].get_text() == nbb_unformatted_code) {\n",
       "                             nbb_cells[i].set_text(nbb_formatted_code);\n",
       "                        }\n",
       "                        break;\n",
       "                    }\n",
       "                }\n",
       "            }, 500);\n",
       "            "
      ],
      "text/plain": [
       "<IPython.core.display.Javascript object>"
      ]
     },
     "metadata": {},
     "output_type": "display_data"
    }
   ],
   "source": [
    "# # Code to check each value\n",
    "# roles_list.pop()"
   ]
  },
  {
   "cell_type": "code",
   "execution_count": 27,
   "id": "28dade2d",
   "metadata": {},
   "outputs": [
    {
     "data": {
      "application/javascript": [
       "\n",
       "            setTimeout(function() {\n",
       "                var nbb_cell_id = 27;\n",
       "                var nbb_unformatted_code = \"# # Create specific_roles_list for above popped value\\n# specific_roles_list = (\\n#     df.loc[\\n#         [index for index in df.index if \\\"football coach\\\" in df.loc[index, \\\"info\\\"]],\\n#         \\\"info_2\\\",\\n#     ]\\n#     .value_counts()\\n#     .index.tolist()\\n# )\";\n",
       "                var nbb_formatted_code = \"# # Create specific_roles_list for above popped value\\n# specific_roles_list = (\\n#     df.loc[\\n#         [index for index in df.index if \\\"football coach\\\" in df.loc[index, \\\"info\\\"]],\\n#         \\\"info_2\\\",\\n#     ]\\n#     .value_counts()\\n#     .index.tolist()\\n# )\";\n",
       "                var nbb_cells = Jupyter.notebook.get_cells();\n",
       "                for (var i = 0; i < nbb_cells.length; ++i) {\n",
       "                    if (nbb_cells[i].input_prompt_number == nbb_cell_id) {\n",
       "                        if (nbb_cells[i].get_text() == nbb_unformatted_code) {\n",
       "                             nbb_cells[i].set_text(nbb_formatted_code);\n",
       "                        }\n",
       "                        break;\n",
       "                    }\n",
       "                }\n",
       "            }, 500);\n",
       "            "
      ],
      "text/plain": [
       "<IPython.core.display.Javascript object>"
      ]
     },
     "metadata": {},
     "output_type": "display_data"
    }
   ],
   "source": [
    "# # Create specific_roles_list for above popped value\n",
    "# specific_roles_list = (\n",
    "#     df.loc[\n",
    "#         [index for index in df.index if \"football coach\" in df.loc[index, \"info\"]],\n",
    "#         \"info_2\",\n",
    "#     ]\n",
    "#     .value_counts()\n",
    "#     .index.tolist()\n",
    "# )"
   ]
  },
  {
   "cell_type": "code",
   "execution_count": 28,
   "id": "e0f1409c",
   "metadata": {},
   "outputs": [
    {
     "data": {
      "application/javascript": [
       "\n",
       "            setTimeout(function() {\n",
       "                var nbb_cell_id = 28;\n",
       "                var nbb_unformatted_code = \"# # Code to check each specific value\\n# specific_roles_list.pop()\";\n",
       "                var nbb_formatted_code = \"# # Code to check each specific value\\n# specific_roles_list.pop()\";\n",
       "                var nbb_cells = Jupyter.notebook.get_cells();\n",
       "                for (var i = 0; i < nbb_cells.length; ++i) {\n",
       "                    if (nbb_cells[i].input_prompt_number == nbb_cell_id) {\n",
       "                        if (nbb_cells[i].get_text() == nbb_unformatted_code) {\n",
       "                             nbb_cells[i].set_text(nbb_formatted_code);\n",
       "                        }\n",
       "                        break;\n",
       "                    }\n",
       "                }\n",
       "            }, 500);\n",
       "            "
      ],
      "text/plain": [
       "<IPython.core.display.Javascript object>"
      ]
     },
     "metadata": {},
     "output_type": "display_data"
    }
   ],
   "source": [
    "# # Code to check each specific value\n",
    "# specific_roles_list.pop()"
   ]
  },
  {
   "cell_type": "code",
   "execution_count": 29,
   "id": "1464176f",
   "metadata": {},
   "outputs": [
    {
     "data": {
      "application/javascript": [
       "\n",
       "            setTimeout(function() {\n",
       "                var nbb_cell_id = 29;\n",
       "                var nbb_unformatted_code = \"# # Example code to quick-screen values that may overlap categories\\n# df.loc[\\n#     [\\n#         index\\n#         for index in df.index\\n#         if \\\"football coach and executive\\\" in df.loc[index, \\\"info\\\"]\\n#     ]\\n# ]\";\n",
       "                var nbb_formatted_code = \"# # Example code to quick-screen values that may overlap categories\\n# df.loc[\\n#     [\\n#         index\\n#         for index in df.index\\n#         if \\\"football coach and executive\\\" in df.loc[index, \\\"info\\\"]\\n#     ]\\n# ]\";\n",
       "                var nbb_cells = Jupyter.notebook.get_cells();\n",
       "                for (var i = 0; i < nbb_cells.length; ++i) {\n",
       "                    if (nbb_cells[i].input_prompt_number == nbb_cell_id) {\n",
       "                        if (nbb_cells[i].get_text() == nbb_unformatted_code) {\n",
       "                             nbb_cells[i].set_text(nbb_formatted_code);\n",
       "                        }\n",
       "                        break;\n",
       "                    }\n",
       "                }\n",
       "            }, 500);\n",
       "            "
      ],
      "text/plain": [
       "<IPython.core.display.Javascript object>"
      ]
     },
     "metadata": {},
     "output_type": "display_data"
    }
   ],
   "source": [
    "# # Example code to quick-screen values that may overlap categories\n",
    "# df.loc[\n",
    "#     [\n",
    "#         index\n",
    "#         for index in df.index\n",
    "#         if \"football coach and executive\" in df.loc[index, \"info\"]\n",
    "#     ]\n",
    "# ]"
   ]
  },
  {
   "cell_type": "code",
   "execution_count": 30,
   "id": "3ef987b8",
   "metadata": {},
   "outputs": [
    {
     "data": {
      "application/javascript": [
       "\n",
       "            setTimeout(function() {\n",
       "                var nbb_cell_id = 30;\n",
       "                var nbb_unformatted_code = \"# # Example code to quick-screen values that may overlap categories\\n# df.loc[\\n#     [\\n#         index\\n#         for index in df.index\\n#         if \\\"outlaw country music singer songwriter\\\" in df.loc[index, \\\"info\\\"]\\n#     ]\\n# ]\";\n",
       "                var nbb_formatted_code = \"# # Example code to quick-screen values that may overlap categories\\n# df.loc[\\n#     [\\n#         index\\n#         for index in df.index\\n#         if \\\"outlaw country music singer songwriter\\\" in df.loc[index, \\\"info\\\"]\\n#     ]\\n# ]\";\n",
       "                var nbb_cells = Jupyter.notebook.get_cells();\n",
       "                for (var i = 0; i < nbb_cells.length; ++i) {\n",
       "                    if (nbb_cells[i].input_prompt_number == nbb_cell_id) {\n",
       "                        if (nbb_cells[i].get_text() == nbb_unformatted_code) {\n",
       "                             nbb_cells[i].set_text(nbb_formatted_code);\n",
       "                        }\n",
       "                        break;\n",
       "                    }\n",
       "                }\n",
       "            }, 500);\n",
       "            "
      ],
      "text/plain": [
       "<IPython.core.display.Javascript object>"
      ]
     },
     "metadata": {},
     "output_type": "display_data"
    }
   ],
   "source": [
    "# # Example code to quick-screen values that may overlap categories\n",
    "# df.loc[\n",
    "#     [\n",
    "#         index\n",
    "#         for index in df.index\n",
    "#         if \"outlaw country music singer songwriter\" in df.loc[index, \"info\"]\n",
    "#     ]\n",
    "# ]"
   ]
  },
  {
   "cell_type": "code",
   "execution_count": 31,
   "id": "0b42c32e",
   "metadata": {},
   "outputs": [
    {
     "data": {
      "application/javascript": [
       "\n",
       "            setTimeout(function() {\n",
       "                var nbb_cell_id = 31;\n",
       "                var nbb_unformatted_code = \"# # Example code to quick-check a specific entry\\n# df[df[\\\"info_2\\\"] == \\\"college football coach and administrator\\\"]\";\n",
       "                var nbb_formatted_code = \"# # Example code to quick-check a specific entry\\n# df[df[\\\"info_2\\\"] == \\\"college football coach and administrator\\\"]\";\n",
       "                var nbb_cells = Jupyter.notebook.get_cells();\n",
       "                for (var i = 0; i < nbb_cells.length; ++i) {\n",
       "                    if (nbb_cells[i].input_prompt_number == nbb_cell_id) {\n",
       "                        if (nbb_cells[i].get_text() == nbb_unformatted_code) {\n",
       "                             nbb_cells[i].set_text(nbb_formatted_code);\n",
       "                        }\n",
       "                        break;\n",
       "                    }\n",
       "                }\n",
       "            }, 500);\n",
       "            "
      ],
      "text/plain": [
       "<IPython.core.display.Javascript object>"
      ]
     },
     "metadata": {},
     "output_type": "display_data"
    }
   ],
   "source": [
    "# # Example code to quick-check a specific entry\n",
    "# df[df[\"info_2\"] == \"college football coach and administrator\"]"
   ]
  },
  {
   "cell_type": "code",
   "execution_count": 32,
   "id": "1b03fe73",
   "metadata": {},
   "outputs": [
    {
     "data": {
      "application/javascript": [
       "\n",
       "            setTimeout(function() {\n",
       "                var nbb_cell_id = 32;\n",
       "                var nbb_unformatted_code = \"# Dropping entry for relation of individual whose page link points to\\nindex = df[df[\\\"link\\\"] == \\\"https://en.wikipedia.org/wiki/Lola_Wasserstein\\\"].index\\ndf.drop(index, inplace=True)\\ndf.reset_index(inplace=True, drop=True)\";\n",
       "                var nbb_formatted_code = \"# Dropping entry for relation of individual whose page link points to\\nindex = df[df[\\\"link\\\"] == \\\"https://en.wikipedia.org/wiki/Lola_Wasserstein\\\"].index\\ndf.drop(index, inplace=True)\\ndf.reset_index(inplace=True, drop=True)\";\n",
       "                var nbb_cells = Jupyter.notebook.get_cells();\n",
       "                for (var i = 0; i < nbb_cells.length; ++i) {\n",
       "                    if (nbb_cells[i].input_prompt_number == nbb_cell_id) {\n",
       "                        if (nbb_cells[i].get_text() == nbb_unformatted_code) {\n",
       "                             nbb_cells[i].set_text(nbb_formatted_code);\n",
       "                        }\n",
       "                        break;\n",
       "                    }\n",
       "                }\n",
       "            }, 500);\n",
       "            "
      ],
      "text/plain": [
       "<IPython.core.display.Javascript object>"
      ]
     },
     "metadata": {},
     "output_type": "display_data"
    }
   ],
   "source": [
    "# Dropping entry for relation of individual whose page link points to\n",
    "index = df[df[\"link\"] == \"https://en.wikipedia.org/wiki/Lola_Wasserstein\"].index\n",
    "df.drop(index, inplace=True)\n",
    "df.reset_index(inplace=True, drop=True)"
   ]
  },
  {
   "cell_type": "markdown",
   "id": "155ba07e",
   "metadata": {},
   "source": [
    "#### Creating Lists for Each `known_for` Category"
   ]
  },
  {
   "cell_type": "code",
   "execution_count": 33,
   "id": "27b0fcbe",
   "metadata": {},
   "outputs": [
    {
     "data": {
      "application/javascript": [
       "\n",
       "            setTimeout(function() {\n",
       "                var nbb_cell_id = 33;\n",
       "                var nbb_unformatted_code = \"# Creating lists for each category\\npolitics_govt_law = []\\n\\narts = [\\n    'playwright and lyricist of \\\"Arrivederci Roma\\\" and other songs',\\n    \\\"film and theater director and playwright\\\",\\n    \\\"Pulitzer Prize winning playwright\\\",\\n    \\\"theatre producer and playwright\\\",\\n    \\\"theatre director and playwright\\\",\\n    \\\"playwright and theatre director\\\",\\n    \\\"theatre critic and playwright\\\",\\n    \\\"film lyricist and playwright\\\",\\n    \\\"playwright and broadcaster\\\",\\n    \\\"playwright and TV producer\\\",\\n    \\\"dramatist and playwright\\\",\\n    \\\"filmmaker and playwright\\\",\\n    \\\"playwright and dramatist\\\",\\n    \\\"playwright and memoirist\\\",\\n    \\\"playwright and humorist\\\",\\n    \\\"lyricist and playwright\\\",\\n    \\\"playwright and lyricist\\\",\\n    \\\"comedian and playwright\\\",\\n    \\\"playwright and director\\\",\\n    \\\"Assiniboine playwright\\\",\\n    \\\"playwright and theatre\\\",\\n    \\\"playwright and critic\\\",\\n    \\\"playwright and\\\",\\n    \\\"and playwright\\\",\\n    \\\"playwright\\\",\\n]\\nsports = [\\n    \\\"three time Super Bowl winning football coach of the San Francisco ers and member of the Pro Football Hall of Fame\\\",\\n    \\\"football coach and member of the Pro Football Hall of Fame\\\",\\n    \\\"Hall of Fame football coach and administrator\\\",\\n    \\\"college football coach and athletic director\\\",\\n    \\\"football coach at Amherst College for years\\\",\\n    \\\"football coach and athletic administrator\\\",\\n    \\\"college football coach and administrator\\\",\\n    \\\"National Football League football coach\\\",\\n    \\\"high school and college football coach\\\",\\n    \\\"college and high school football coach\\\",\\n    \\\"Northwestern University football coach\\\",\\n    \\\"head football coach at Ithaca College\\\",\\n    \\\"football coach for Indiana University\\\",\\n    \\\"college football coach and NFL player\\\",\\n    \\\"football coach and athletic director\\\",\\n    \\\"Hall of Fame college football coach\\\",\\n    \\\"football coach and administrator\\\",\\n    \\\"former national football coach\\\",\\n    \\\"football coach and team owner\\\",\\n    \\\"football coach and executive\\\",\\n    \\\"Hall of Fame football coach\\\",\\n    \\\"NCAA and CFL football coach\\\",\\n    \\\"high school football coach\\\",\\n    \\\"football coach and manager\\\",\\n    \\\"association football coach\\\",\\n    \\\"football coach and player\\\",\\n    \\\"football coach of West y\\\",\\n    \\\"gridiron football coach\\\",\\n    \\\"college football coach\\\",\\n    \\\"East football coach\\\",\\n    \\\"football coach and\\\",\\n    \\\"and football coach\\\",\\n    \\\"football coach\\\",\\n]\\nsciences = []\\n\\nbusiness_farming = []\\nacademia_humanities = []\\nlaw_enf_military_operator = []\\nspiritual = []\\nsocial = []\\ncrime = []\\nevent_record_other = []\\nother_species = []\";\n",
       "                var nbb_formatted_code = \"# Creating lists for each category\\npolitics_govt_law = []\\n\\narts = [\\n    'playwright and lyricist of \\\"Arrivederci Roma\\\" and other songs',\\n    \\\"film and theater director and playwright\\\",\\n    \\\"Pulitzer Prize winning playwright\\\",\\n    \\\"theatre producer and playwright\\\",\\n    \\\"theatre director and playwright\\\",\\n    \\\"playwright and theatre director\\\",\\n    \\\"theatre critic and playwright\\\",\\n    \\\"film lyricist and playwright\\\",\\n    \\\"playwright and broadcaster\\\",\\n    \\\"playwright and TV producer\\\",\\n    \\\"dramatist and playwright\\\",\\n    \\\"filmmaker and playwright\\\",\\n    \\\"playwright and dramatist\\\",\\n    \\\"playwright and memoirist\\\",\\n    \\\"playwright and humorist\\\",\\n    \\\"lyricist and playwright\\\",\\n    \\\"playwright and lyricist\\\",\\n    \\\"comedian and playwright\\\",\\n    \\\"playwright and director\\\",\\n    \\\"Assiniboine playwright\\\",\\n    \\\"playwright and theatre\\\",\\n    \\\"playwright and critic\\\",\\n    \\\"playwright and\\\",\\n    \\\"and playwright\\\",\\n    \\\"playwright\\\",\\n]\\nsports = [\\n    \\\"three time Super Bowl winning football coach of the San Francisco ers and member of the Pro Football Hall of Fame\\\",\\n    \\\"football coach and member of the Pro Football Hall of Fame\\\",\\n    \\\"Hall of Fame football coach and administrator\\\",\\n    \\\"college football coach and athletic director\\\",\\n    \\\"football coach at Amherst College for years\\\",\\n    \\\"football coach and athletic administrator\\\",\\n    \\\"college football coach and administrator\\\",\\n    \\\"National Football League football coach\\\",\\n    \\\"high school and college football coach\\\",\\n    \\\"college and high school football coach\\\",\\n    \\\"Northwestern University football coach\\\",\\n    \\\"head football coach at Ithaca College\\\",\\n    \\\"football coach for Indiana University\\\",\\n    \\\"college football coach and NFL player\\\",\\n    \\\"football coach and athletic director\\\",\\n    \\\"Hall of Fame college football coach\\\",\\n    \\\"football coach and administrator\\\",\\n    \\\"former national football coach\\\",\\n    \\\"football coach and team owner\\\",\\n    \\\"football coach and executive\\\",\\n    \\\"Hall of Fame football coach\\\",\\n    \\\"NCAA and CFL football coach\\\",\\n    \\\"high school football coach\\\",\\n    \\\"football coach and manager\\\",\\n    \\\"association football coach\\\",\\n    \\\"football coach and player\\\",\\n    \\\"football coach of West y\\\",\\n    \\\"gridiron football coach\\\",\\n    \\\"college football coach\\\",\\n    \\\"East football coach\\\",\\n    \\\"football coach and\\\",\\n    \\\"and football coach\\\",\\n    \\\"football coach\\\",\\n]\\nsciences = []\\n\\nbusiness_farming = []\\nacademia_humanities = []\\nlaw_enf_military_operator = []\\nspiritual = []\\nsocial = []\\ncrime = []\\nevent_record_other = []\\nother_species = []\";\n",
       "                var nbb_cells = Jupyter.notebook.get_cells();\n",
       "                for (var i = 0; i < nbb_cells.length; ++i) {\n",
       "                    if (nbb_cells[i].input_prompt_number == nbb_cell_id) {\n",
       "                        if (nbb_cells[i].get_text() == nbb_unformatted_code) {\n",
       "                             nbb_cells[i].set_text(nbb_formatted_code);\n",
       "                        }\n",
       "                        break;\n",
       "                    }\n",
       "                }\n",
       "            }, 500);\n",
       "            "
      ],
      "text/plain": [
       "<IPython.core.display.Javascript object>"
      ]
     },
     "metadata": {},
     "output_type": "display_data"
    }
   ],
   "source": [
    "# Creating lists for each category\n",
    "politics_govt_law = []\n",
    "\n",
    "arts = [\n",
    "    'playwright and lyricist of \"Arrivederci Roma\" and other songs',\n",
    "    \"film and theater director and playwright\",\n",
    "    \"Pulitzer Prize winning playwright\",\n",
    "    \"theatre producer and playwright\",\n",
    "    \"theatre director and playwright\",\n",
    "    \"playwright and theatre director\",\n",
    "    \"theatre critic and playwright\",\n",
    "    \"film lyricist and playwright\",\n",
    "    \"playwright and broadcaster\",\n",
    "    \"playwright and TV producer\",\n",
    "    \"dramatist and playwright\",\n",
    "    \"filmmaker and playwright\",\n",
    "    \"playwright and dramatist\",\n",
    "    \"playwright and memoirist\",\n",
    "    \"playwright and humorist\",\n",
    "    \"lyricist and playwright\",\n",
    "    \"playwright and lyricist\",\n",
    "    \"comedian and playwright\",\n",
    "    \"playwright and director\",\n",
    "    \"Assiniboine playwright\",\n",
    "    \"playwright and theatre\",\n",
    "    \"playwright and critic\",\n",
    "    \"playwright and\",\n",
    "    \"and playwright\",\n",
    "    \"playwright\",\n",
    "]\n",
    "sports = [\n",
    "    \"three time Super Bowl winning football coach of the San Francisco ers and member of the Pro Football Hall of Fame\",\n",
    "    \"football coach and member of the Pro Football Hall of Fame\",\n",
    "    \"Hall of Fame football coach and administrator\",\n",
    "    \"college football coach and athletic director\",\n",
    "    \"football coach at Amherst College for years\",\n",
    "    \"football coach and athletic administrator\",\n",
    "    \"college football coach and administrator\",\n",
    "    \"National Football League football coach\",\n",
    "    \"high school and college football coach\",\n",
    "    \"college and high school football coach\",\n",
    "    \"Northwestern University football coach\",\n",
    "    \"head football coach at Ithaca College\",\n",
    "    \"football coach for Indiana University\",\n",
    "    \"college football coach and NFL player\",\n",
    "    \"football coach and athletic director\",\n",
    "    \"Hall of Fame college football coach\",\n",
    "    \"football coach and administrator\",\n",
    "    \"former national football coach\",\n",
    "    \"football coach and team owner\",\n",
    "    \"football coach and executive\",\n",
    "    \"Hall of Fame football coach\",\n",
    "    \"NCAA and CFL football coach\",\n",
    "    \"high school football coach\",\n",
    "    \"football coach and manager\",\n",
    "    \"association football coach\",\n",
    "    \"football coach and player\",\n",
    "    \"football coach of West y\",\n",
    "    \"gridiron football coach\",\n",
    "    \"college football coach\",\n",
    "    \"East football coach\",\n",
    "    \"football coach and\",\n",
    "    \"and football coach\",\n",
    "    \"football coach\",\n",
    "]\n",
    "sciences = []\n",
    "\n",
    "business_farming = []\n",
    "academia_humanities = []\n",
    "law_enf_military_operator = []\n",
    "spiritual = []\n",
    "social = []\n",
    "crime = []\n",
    "event_record_other = []\n",
    "other_species = []"
   ]
  },
  {
   "cell_type": "markdown",
   "id": "9ae976ee",
   "metadata": {},
   "source": [
    "#### Creating `known_for_dict` Dictionary of Category Keys and Specific Role Lists of Values"
   ]
  },
  {
   "cell_type": "code",
   "execution_count": 34,
   "id": "27b4d090",
   "metadata": {},
   "outputs": [
    {
     "data": {
      "application/javascript": [
       "\n",
       "            setTimeout(function() {\n",
       "                var nbb_cell_id = 34;\n",
       "                var nbb_unformatted_code = \"# Combining separate lists into one dictionary\\nknown_for_dict = {\\n    \\\"social\\\": social,\\n    \\\"spiritual\\\": spiritual,\\n    \\\"academia_humanities\\\": academia_humanities,\\n    \\\"business_farming\\\": business_farming,\\n    \\\"sciences\\\": sciences,\\n    \\\"politics_govt_law\\\": politics_govt_law,\\n    \\\"law_enf_military_operator\\\": law_enf_military_operator,\\n    \\\"crime\\\": crime,\\n    \\\"event_record_other\\\": event_record_other,\\n    \\\"other_species\\\": other_species,\\n    \\\"arts\\\": arts,\\n    \\\"sports\\\": sports,\\n}\";\n",
       "                var nbb_formatted_code = \"# Combining separate lists into one dictionary\\nknown_for_dict = {\\n    \\\"social\\\": social,\\n    \\\"spiritual\\\": spiritual,\\n    \\\"academia_humanities\\\": academia_humanities,\\n    \\\"business_farming\\\": business_farming,\\n    \\\"sciences\\\": sciences,\\n    \\\"politics_govt_law\\\": politics_govt_law,\\n    \\\"law_enf_military_operator\\\": law_enf_military_operator,\\n    \\\"crime\\\": crime,\\n    \\\"event_record_other\\\": event_record_other,\\n    \\\"other_species\\\": other_species,\\n    \\\"arts\\\": arts,\\n    \\\"sports\\\": sports,\\n}\";\n",
       "                var nbb_cells = Jupyter.notebook.get_cells();\n",
       "                for (var i = 0; i < nbb_cells.length; ++i) {\n",
       "                    if (nbb_cells[i].input_prompt_number == nbb_cell_id) {\n",
       "                        if (nbb_cells[i].get_text() == nbb_unformatted_code) {\n",
       "                             nbb_cells[i].set_text(nbb_formatted_code);\n",
       "                        }\n",
       "                        break;\n",
       "                    }\n",
       "                }\n",
       "            }, 500);\n",
       "            "
      ],
      "text/plain": [
       "<IPython.core.display.Javascript object>"
      ]
     },
     "metadata": {},
     "output_type": "display_data"
    }
   ],
   "source": [
    "# Combining separate lists into one dictionary\n",
    "known_for_dict = {\n",
    "    \"social\": social,\n",
    "    \"spiritual\": spiritual,\n",
    "    \"academia_humanities\": academia_humanities,\n",
    "    \"business_farming\": business_farming,\n",
    "    \"sciences\": sciences,\n",
    "    \"politics_govt_law\": politics_govt_law,\n",
    "    \"law_enf_military_operator\": law_enf_military_operator,\n",
    "    \"crime\": crime,\n",
    "    \"event_record_other\": event_record_other,\n",
    "    \"other_species\": other_species,\n",
    "    \"arts\": arts,\n",
    "    \"sports\": sports,\n",
    "}"
   ]
  },
  {
   "cell_type": "markdown",
   "id": "24210e86",
   "metadata": {},
   "source": [
    "#### Extracting Category from `info_2`"
   ]
  },
  {
   "cell_type": "code",
   "execution_count": 35,
   "id": "971e1dc5",
   "metadata": {},
   "outputs": [
    {
     "name": "stdout",
     "output_type": "stream",
     "text": [
      "CPU times: total: 29.2 s\n",
      "Wall time: 29.2 s\n"
     ]
    },
    {
     "data": {
      "text/html": [
       "<div>\n",
       "<style scoped>\n",
       "    .dataframe tbody tr th:only-of-type {\n",
       "        vertical-align: middle;\n",
       "    }\n",
       "\n",
       "    .dataframe tbody tr th {\n",
       "        vertical-align: top;\n",
       "    }\n",
       "\n",
       "    .dataframe thead th {\n",
       "        text-align: right;\n",
       "    }\n",
       "</style>\n",
       "<table border=\"1\" class=\"dataframe\">\n",
       "  <thead>\n",
       "    <tr style=\"text-align: right;\">\n",
       "      <th></th>\n",
       "      <th>day</th>\n",
       "      <th>name</th>\n",
       "      <th>info</th>\n",
       "      <th>link</th>\n",
       "      <th>num_references</th>\n",
       "      <th>year</th>\n",
       "      <th>month</th>\n",
       "      <th>info_parenth</th>\n",
       "      <th>info_1</th>\n",
       "      <th>info_2</th>\n",
       "      <th>info_3</th>\n",
       "      <th>info_4</th>\n",
       "      <th>info_5</th>\n",
       "      <th>info_6</th>\n",
       "      <th>info_7</th>\n",
       "      <th>info_8</th>\n",
       "      <th>info_9</th>\n",
       "      <th>info_10</th>\n",
       "      <th>info_11</th>\n",
       "      <th>age</th>\n",
       "      <th>cause_of_death</th>\n",
       "      <th>place_1</th>\n",
       "      <th>place_2</th>\n",
       "      <th>info_parenth_copy</th>\n",
       "      <th>log_num_references</th>\n",
       "      <th>sciences</th>\n",
       "      <th>social</th>\n",
       "      <th>spiritual</th>\n",
       "      <th>academia_humanities</th>\n",
       "      <th>business_farming</th>\n",
       "      <th>arts</th>\n",
       "      <th>sports</th>\n",
       "      <th>law_enf_military_operator</th>\n",
       "      <th>politics_govt_law</th>\n",
       "      <th>crime</th>\n",
       "      <th>event_record_other</th>\n",
       "      <th>other_species</th>\n",
       "      <th>num_categories</th>\n",
       "    </tr>\n",
       "  </thead>\n",
       "  <tbody>\n",
       "    <tr>\n",
       "      <th>58863</th>\n",
       "      <td>25</td>\n",
       "      <td>Hal Lear</td>\n",
       "      <td>, 81, American basketball player .</td>\n",
       "      <td>https://en.wikipedia.org/wiki/Hal_Lear</td>\n",
       "      <td>6</td>\n",
       "      <td>2016</td>\n",
       "      <td>June</td>\n",
       "      <td>Temple University</td>\n",
       "      <td>None</td>\n",
       "      <td></td>\n",
       "      <td>None</td>\n",
       "      <td>None</td>\n",
       "      <td>None</td>\n",
       "      <td>None</td>\n",
       "      <td>None</td>\n",
       "      <td>None</td>\n",
       "      <td>None</td>\n",
       "      <td>None</td>\n",
       "      <td>None</td>\n",
       "      <td>81.0</td>\n",
       "      <td>None</td>\n",
       "      <td>United States of America</td>\n",
       "      <td>None</td>\n",
       "      <td>Temple University</td>\n",
       "      <td>1.94591</td>\n",
       "      <td>0</td>\n",
       "      <td>0</td>\n",
       "      <td>0</td>\n",
       "      <td>0</td>\n",
       "      <td>0</td>\n",
       "      <td>0</td>\n",
       "      <td>1</td>\n",
       "      <td>0</td>\n",
       "      <td>0</td>\n",
       "      <td>0</td>\n",
       "      <td>0</td>\n",
       "      <td>0</td>\n",
       "      <td>1</td>\n",
       "    </tr>\n",
       "    <tr>\n",
       "      <th>45445</th>\n",
       "      <td>4</td>\n",
       "      <td>Elfed Morris</td>\n",
       "      <td>, 71, Welsh footballer .</td>\n",
       "      <td>https://en.wikipedia.org/wiki/Elfed_Morris</td>\n",
       "      <td>6</td>\n",
       "      <td>2013</td>\n",
       "      <td>November</td>\n",
       "      <td>Chester City</td>\n",
       "      <td>None</td>\n",
       "      <td></td>\n",
       "      <td>None</td>\n",
       "      <td>None</td>\n",
       "      <td>None</td>\n",
       "      <td>None</td>\n",
       "      <td>None</td>\n",
       "      <td>None</td>\n",
       "      <td>None</td>\n",
       "      <td>None</td>\n",
       "      <td>None</td>\n",
       "      <td>71.0</td>\n",
       "      <td>None</td>\n",
       "      <td>Wales</td>\n",
       "      <td>None</td>\n",
       "      <td>Chester City</td>\n",
       "      <td>1.94591</td>\n",
       "      <td>0</td>\n",
       "      <td>0</td>\n",
       "      <td>0</td>\n",
       "      <td>0</td>\n",
       "      <td>0</td>\n",
       "      <td>0</td>\n",
       "      <td>1</td>\n",
       "      <td>0</td>\n",
       "      <td>0</td>\n",
       "      <td>0</td>\n",
       "      <td>0</td>\n",
       "      <td>0</td>\n",
       "      <td>1</td>\n",
       "    </tr>\n",
       "  </tbody>\n",
       "</table>\n",
       "</div>"
      ],
      "text/plain": [
       "      day          name                                info  \\\n",
       "58863  25      Hal Lear  , 81, American basketball player .   \n",
       "45445   4  Elfed Morris            , 71, Welsh footballer .   \n",
       "\n",
       "                                             link  num_references  year  \\\n",
       "58863      https://en.wikipedia.org/wiki/Hal_Lear               6  2016   \n",
       "45445  https://en.wikipedia.org/wiki/Elfed_Morris               6  2013   \n",
       "\n",
       "          month       info_parenth info_1 info_2 info_3 info_4 info_5 info_6  \\\n",
       "58863      June  Temple University   None          None   None   None   None   \n",
       "45445  November       Chester City   None          None   None   None   None   \n",
       "\n",
       "      info_7 info_8 info_9 info_10 info_11   age cause_of_death  \\\n",
       "58863   None   None   None    None    None  81.0           None   \n",
       "45445   None   None   None    None    None  71.0           None   \n",
       "\n",
       "                        place_1 place_2  info_parenth_copy  \\\n",
       "58863  United States of America    None  Temple University   \n",
       "45445                     Wales    None       Chester City   \n",
       "\n",
       "       log_num_references  sciences  social  spiritual  academia_humanities  \\\n",
       "58863             1.94591         0       0          0                    0   \n",
       "45445             1.94591         0       0          0                    0   \n",
       "\n",
       "       business_farming  arts  sports  law_enf_military_operator  \\\n",
       "58863                 0     0       1                          0   \n",
       "45445                 0     0       1                          0   \n",
       "\n",
       "       politics_govt_law  crime  event_record_other  other_species  \\\n",
       "58863                  0      0                   0              0   \n",
       "45445                  0      0                   0              0   \n",
       "\n",
       "       num_categories  \n",
       "58863               1  \n",
       "45445               1  "
      ]
     },
     "execution_count": 35,
     "metadata": {},
     "output_type": "execute_result"
    },
    {
     "data": {
      "application/javascript": [
       "\n",
       "            setTimeout(function() {\n",
       "                var nbb_cell_id = 35;\n",
       "                var nbb_unformatted_code = \"%%time\\n\\n# Dictionary version\\nsearch_dict = known_for_dict\\n\\n# Column to check\\ncolumn = 'info_2'\\n\\n# Dataframe\\ndataframe = df[column].notna()\\n\\n# For loop to find role in column and extract it as category\\nfor category, category_lst in search_dict.items():\\n    for role in category_lst:\\n        for index in dataframe.index:\\n            item = df.loc[index, column]\\n            if item:\\n                if role in item:\\n                    df.loc[index, category] = 1\\n                    df.loc[index, column] = item.replace(role, '').strip()\\n\\n# Updating num_categories\\ndf[\\\"num_categories\\\"] = df[known_for_dict.keys()].sum(axis=1)\\n\\n# Checking a sample of rows\\ndf[df['sports'] ==1].sample(2)\";\n",
       "                var nbb_formatted_code = \"%%time\\n\\n# Dictionary version\\nsearch_dict = known_for_dict\\n\\n# Column to check\\ncolumn = 'info_2'\\n\\n# Dataframe\\ndataframe = df[column].notna()\\n\\n# For loop to find role in column and extract it as category\\nfor category, category_lst in search_dict.items():\\n    for role in category_lst:\\n        for index in dataframe.index:\\n            item = df.loc[index, column]\\n            if item:\\n                if role in item:\\n                    df.loc[index, category] = 1\\n                    df.loc[index, column] = item.replace(role, '').strip()\\n\\n# Updating num_categories\\ndf[\\\"num_categories\\\"] = df[known_for_dict.keys()].sum(axis=1)\\n\\n# Checking a sample of rows\\ndf[df['sports'] ==1].sample(2)\";\n",
       "                var nbb_cells = Jupyter.notebook.get_cells();\n",
       "                for (var i = 0; i < nbb_cells.length; ++i) {\n",
       "                    if (nbb_cells[i].input_prompt_number == nbb_cell_id) {\n",
       "                        if (nbb_cells[i].get_text() == nbb_unformatted_code) {\n",
       "                             nbb_cells[i].set_text(nbb_formatted_code);\n",
       "                        }\n",
       "                        break;\n",
       "                    }\n",
       "                }\n",
       "            }, 500);\n",
       "            "
      ],
      "text/plain": [
       "<IPython.core.display.Javascript object>"
      ]
     },
     "metadata": {},
     "output_type": "display_data"
    }
   ],
   "source": [
    "%%time\n",
    "\n",
    "# Dictionary version\n",
    "search_dict = known_for_dict\n",
    "\n",
    "# Column to check\n",
    "column = 'info_2'\n",
    "\n",
    "# Dataframe\n",
    "dataframe = df[column].notna()\n",
    "\n",
    "# For loop to find role in column and extract it as category\n",
    "for category, category_lst in search_dict.items():\n",
    "    for role in category_lst:\n",
    "        for index in dataframe.index:\n",
    "            item = df.loc[index, column]\n",
    "            if item:\n",
    "                if role in item:\n",
    "                    df.loc[index, category] = 1\n",
    "                    df.loc[index, column] = item.replace(role, '').strip()\n",
    "\n",
    "# Updating num_categories\n",
    "df[\"num_categories\"] = df[known_for_dict.keys()].sum(axis=1)\n",
    "\n",
    "# Checking a sample of rows\n",
    "df[df['sports'] ==1].sample(2)"
   ]
  },
  {
   "cell_type": "markdown",
   "id": "82bb9c8a",
   "metadata": {},
   "source": [
    "#### Checking the Number of Rows without a First Category"
   ]
  },
  {
   "cell_type": "code",
   "execution_count": 36,
   "id": "d9aea1ac",
   "metadata": {},
   "outputs": [
    {
     "name": "stdout",
     "output_type": "stream",
     "text": [
      "There are 31674 entries without any known_for category.\n"
     ]
    },
    {
     "data": {
      "application/javascript": [
       "\n",
       "            setTimeout(function() {\n",
       "                var nbb_cell_id = 36;\n",
       "                var nbb_unformatted_code = \"# Checking the number of rows without a first category\\nprint(\\n    f'There are {len(df[df[\\\"num_categories\\\"]==0])} entries without any known_for category.'\\n)\";\n",
       "                var nbb_formatted_code = \"# Checking the number of rows without a first category\\nprint(\\n    f'There are {len(df[df[\\\"num_categories\\\"]==0])} entries without any known_for category.'\\n)\";\n",
       "                var nbb_cells = Jupyter.notebook.get_cells();\n",
       "                for (var i = 0; i < nbb_cells.length; ++i) {\n",
       "                    if (nbb_cells[i].input_prompt_number == nbb_cell_id) {\n",
       "                        if (nbb_cells[i].get_text() == nbb_unformatted_code) {\n",
       "                             nbb_cells[i].set_text(nbb_formatted_code);\n",
       "                        }\n",
       "                        break;\n",
       "                    }\n",
       "                }\n",
       "            }, 500);\n",
       "            "
      ],
      "text/plain": [
       "<IPython.core.display.Javascript object>"
      ]
     },
     "metadata": {},
     "output_type": "display_data"
    }
   ],
   "source": [
    "# Checking the number of rows without a first category\n",
    "print(\n",
    "    f'There are {len(df[df[\"num_categories\"]==0])} entries without any known_for category.'\n",
    ")"
   ]
  },
  {
   "cell_type": "markdown",
   "id": "24804cd2",
   "metadata": {},
   "source": [
    "#### Observations:\n",
    "- We will proceed to rebuild `known_for_dict` for the next iteration."
   ]
  },
  {
   "cell_type": "markdown",
   "id": "35e0fa7e",
   "metadata": {},
   "source": [
    "#### Finding `known_for` Roles in `info_2`"
   ]
  },
  {
   "cell_type": "code",
   "execution_count": 37,
   "id": "0b07c8c2",
   "metadata": {},
   "outputs": [
    {
     "data": {
      "application/javascript": [
       "\n",
       "            setTimeout(function() {\n",
       "                var nbb_cell_id = 37;\n",
       "                var nbb_unformatted_code = \"# # Obtaining values for column and their counts\\n# roles_list = df[\\\"info_2\\\"].value_counts(ascending=True).index.tolist()\";\n",
       "                var nbb_formatted_code = \"# # Obtaining values for column and their counts\\n# roles_list = df[\\\"info_2\\\"].value_counts(ascending=True).index.tolist()\";\n",
       "                var nbb_cells = Jupyter.notebook.get_cells();\n",
       "                for (var i = 0; i < nbb_cells.length; ++i) {\n",
       "                    if (nbb_cells[i].input_prompt_number == nbb_cell_id) {\n",
       "                        if (nbb_cells[i].get_text() == nbb_unformatted_code) {\n",
       "                             nbb_cells[i].set_text(nbb_formatted_code);\n",
       "                        }\n",
       "                        break;\n",
       "                    }\n",
       "                }\n",
       "            }, 500);\n",
       "            "
      ],
      "text/plain": [
       "<IPython.core.display.Javascript object>"
      ]
     },
     "metadata": {},
     "output_type": "display_data"
    }
   ],
   "source": [
    "# # Obtaining values for column and their counts\n",
    "# roles_list = df[\"info_2\"].value_counts(ascending=True).index.tolist()"
   ]
  },
  {
   "cell_type": "code",
   "execution_count": 38,
   "id": "36582ebe",
   "metadata": {},
   "outputs": [
    {
     "data": {
      "application/javascript": [
       "\n",
       "            setTimeout(function() {\n",
       "                var nbb_cell_id = 38;\n",
       "                var nbb_unformatted_code = \"# # Code to check each value\\n# roles_list.pop()\";\n",
       "                var nbb_formatted_code = \"# # Code to check each value\\n# roles_list.pop()\";\n",
       "                var nbb_cells = Jupyter.notebook.get_cells();\n",
       "                for (var i = 0; i < nbb_cells.length; ++i) {\n",
       "                    if (nbb_cells[i].input_prompt_number == nbb_cell_id) {\n",
       "                        if (nbb_cells[i].get_text() == nbb_unformatted_code) {\n",
       "                             nbb_cells[i].set_text(nbb_formatted_code);\n",
       "                        }\n",
       "                        break;\n",
       "                    }\n",
       "                }\n",
       "            }, 500);\n",
       "            "
      ],
      "text/plain": [
       "<IPython.core.display.Javascript object>"
      ]
     },
     "metadata": {},
     "output_type": "display_data"
    }
   ],
   "source": [
    "# # Code to check each value\n",
    "# roles_list.pop()"
   ]
  },
  {
   "cell_type": "code",
   "execution_count": 39,
   "id": "c4ac3526",
   "metadata": {},
   "outputs": [
    {
     "data": {
      "application/javascript": [
       "\n",
       "            setTimeout(function() {\n",
       "                var nbb_cell_id = 39;\n",
       "                var nbb_unformatted_code = \"# # Create specific_roles_list for above popped value\\n# specific_roles_list = (\\n#     df.loc[\\n#         [index for index in df.index if \\\"archaeologist\\\" in df.loc[index, \\\"info\\\"]],\\n#         \\\"info_2\\\",\\n#     ]\\n#     .value_counts()\\n#     .index.tolist()\\n# )\";\n",
       "                var nbb_formatted_code = \"# # Create specific_roles_list for above popped value\\n# specific_roles_list = (\\n#     df.loc[\\n#         [index for index in df.index if \\\"archaeologist\\\" in df.loc[index, \\\"info\\\"]],\\n#         \\\"info_2\\\",\\n#     ]\\n#     .value_counts()\\n#     .index.tolist()\\n# )\";\n",
       "                var nbb_cells = Jupyter.notebook.get_cells();\n",
       "                for (var i = 0; i < nbb_cells.length; ++i) {\n",
       "                    if (nbb_cells[i].input_prompt_number == nbb_cell_id) {\n",
       "                        if (nbb_cells[i].get_text() == nbb_unformatted_code) {\n",
       "                             nbb_cells[i].set_text(nbb_formatted_code);\n",
       "                        }\n",
       "                        break;\n",
       "                    }\n",
       "                }\n",
       "            }, 500);\n",
       "            "
      ],
      "text/plain": [
       "<IPython.core.display.Javascript object>"
      ]
     },
     "metadata": {},
     "output_type": "display_data"
    }
   ],
   "source": [
    "# # Create specific_roles_list for above popped value\n",
    "# specific_roles_list = (\n",
    "#     df.loc[\n",
    "#         [index for index in df.index if \"archaeologist\" in df.loc[index, \"info\"]],\n",
    "#         \"info_2\",\n",
    "#     ]\n",
    "#     .value_counts()\n",
    "#     .index.tolist()\n",
    "# )"
   ]
  },
  {
   "cell_type": "code",
   "execution_count": 40,
   "id": "53388566",
   "metadata": {},
   "outputs": [
    {
     "data": {
      "application/javascript": [
       "\n",
       "            setTimeout(function() {\n",
       "                var nbb_cell_id = 40;\n",
       "                var nbb_unformatted_code = \"# # Code to check each specific value\\n# specific_roles_list.pop()\";\n",
       "                var nbb_formatted_code = \"# # Code to check each specific value\\n# specific_roles_list.pop()\";\n",
       "                var nbb_cells = Jupyter.notebook.get_cells();\n",
       "                for (var i = 0; i < nbb_cells.length; ++i) {\n",
       "                    if (nbb_cells[i].input_prompt_number == nbb_cell_id) {\n",
       "                        if (nbb_cells[i].get_text() == nbb_unformatted_code) {\n",
       "                             nbb_cells[i].set_text(nbb_formatted_code);\n",
       "                        }\n",
       "                        break;\n",
       "                    }\n",
       "                }\n",
       "            }, 500);\n",
       "            "
      ],
      "text/plain": [
       "<IPython.core.display.Javascript object>"
      ]
     },
     "metadata": {},
     "output_type": "display_data"
    }
   ],
   "source": [
    "# # Code to check each specific value\n",
    "# specific_roles_list.pop()"
   ]
  },
  {
   "cell_type": "code",
   "execution_count": 41,
   "id": "a653af2a",
   "metadata": {},
   "outputs": [
    {
     "data": {
      "application/javascript": [
       "\n",
       "            setTimeout(function() {\n",
       "                var nbb_cell_id = 41;\n",
       "                var nbb_unformatted_code = \"# # Example code to quick-screen values that may overlap categories\\n# df.loc[[index for index in df.index if \\\"osteologist\\\" in df.loc[index, \\\"info\\\"]]]\";\n",
       "                var nbb_formatted_code = \"# # Example code to quick-screen values that may overlap categories\\n# df.loc[[index for index in df.index if \\\"osteologist\\\" in df.loc[index, \\\"info\\\"]]]\";\n",
       "                var nbb_cells = Jupyter.notebook.get_cells();\n",
       "                for (var i = 0; i < nbb_cells.length; ++i) {\n",
       "                    if (nbb_cells[i].input_prompt_number == nbb_cell_id) {\n",
       "                        if (nbb_cells[i].get_text() == nbb_unformatted_code) {\n",
       "                             nbb_cells[i].set_text(nbb_formatted_code);\n",
       "                        }\n",
       "                        break;\n",
       "                    }\n",
       "                }\n",
       "            }, 500);\n",
       "            "
      ],
      "text/plain": [
       "<IPython.core.display.Javascript object>"
      ]
     },
     "metadata": {},
     "output_type": "display_data"
    }
   ],
   "source": [
    "# # Example code to quick-screen values that may overlap categories\n",
    "# df.loc[[index for index in df.index if \"osteologist\" in df.loc[index, \"info\"]]]"
   ]
  },
  {
   "cell_type": "code",
   "execution_count": 42,
   "id": "2ea58322",
   "metadata": {},
   "outputs": [
    {
     "data": {
      "application/javascript": [
       "\n",
       "            setTimeout(function() {\n",
       "                var nbb_cell_id = 42;\n",
       "                var nbb_unformatted_code = \"# # Example code to quick-check a specific entry\\n# df[df[\\\"info_2\\\"] == \\\"nuclear archaeologist\\\"]\";\n",
       "                var nbb_formatted_code = \"# # Example code to quick-check a specific entry\\n# df[df[\\\"info_2\\\"] == \\\"nuclear archaeologist\\\"]\";\n",
       "                var nbb_cells = Jupyter.notebook.get_cells();\n",
       "                for (var i = 0; i < nbb_cells.length; ++i) {\n",
       "                    if (nbb_cells[i].input_prompt_number == nbb_cell_id) {\n",
       "                        if (nbb_cells[i].get_text() == nbb_unformatted_code) {\n",
       "                             nbb_cells[i].set_text(nbb_formatted_code);\n",
       "                        }\n",
       "                        break;\n",
       "                    }\n",
       "                }\n",
       "            }, 500);\n",
       "            "
      ],
      "text/plain": [
       "<IPython.core.display.Javascript object>"
      ]
     },
     "metadata": {},
     "output_type": "display_data"
    }
   ],
   "source": [
    "# # Example code to quick-check a specific entry\n",
    "# df[df[\"info_2\"] == \"nuclear archaeologist\"]"
   ]
  },
  {
   "cell_type": "markdown",
   "id": "b64db38f",
   "metadata": {},
   "source": [
    "#### Creating Lists for Each `known_for` Category"
   ]
  },
  {
   "cell_type": "code",
   "execution_count": 43,
   "id": "df956841",
   "metadata": {},
   "outputs": [
    {
     "data": {
      "application/javascript": [
       "\n",
       "            setTimeout(function() {\n",
       "                var nbb_cell_id = 43;\n",
       "                var nbb_unformatted_code = \"# Creating lists for each category\\npolitics_govt_law = [\\n    \\\"civil servant and United Nations disarmament official\\\",\\n    \\\"colonial civil servant and governor Ruanda Urundi\\\",\\n    \\\"Coast Salish tribal leader and civil servant\\\",\\n    \\\"civil servant and mental health campaigner\\\",\\n    \\\"civil servant and countryside campaigner\\\",\\n    \\\"civil servant and presidential advisor\\\",\\n    \\\"civil servant and policy advisor\\\",\\n    \\\"and international civil servant\\\",\\n    \\\"civil servant and whistleblower\\\",\\n    \\\"Channel Islander civil servant\\\",\\n    \\\"civil servant from Providence\\\",\\n    \\\"civil servant and magistrate\\\",\\n    \\\"prosecutor and civil servant\\\",\\n    \\\"civil servant and bureaucrat\\\",\\n    \\\"international civil servant\\\",\\n    \\\"barrister and civil servant\\\",\\n    \\\"life peer and civil servant\\\",\\n    \\\"civil servant and planner\\\",\\n    \\\"civil servant and public\\\",\\n    \\\"civil servant and peer\\\",\\n    \\\"and civil servant\\\",\\n    \\\"civil servant and\\\",\\n    \\\"civil servant\\\",\\n]\\n\\narts = []\\nsports = []\\nsciences = [\\n    \\\"osteologist\\\",\\n]\\n\\nbusiness_farming = []\\nacademia_humanities = [\\n    \\\"museum curator and archaeologist who was director of the Museum of\\\",\\n    \\\"archaeologist specializing in Etruscan civilization and art\\\",\\n    \\\"archaeologist at the University of Sheffield\\\",\\n    \\\"Middle Eastern archaeologist and professor\\\",\\n    \\\"archaeologist and art preservationist\\\",\\n    \\\"classical scholar and archaeologist\\\",\\n    \\\"archaeologist and classical scholar\\\",\\n    \\\"archaeologist at the University of\\\",\\n    \\\"archaeologist of sites in Anatolia\\\",\\n    \\\"art conservator and archaeologist\\\",\\n    \\\"Coptic scholar and archaeologist\\\",\\n    \\\"anthropologist and archaeologist\\\",\\n    \\\"archaeologist and anthropologist\\\",\\n    \\\"archaeologist and Byzantinist\\\",\\n    \\\"archaeologist and numismatist\\\",\\n    \\\"archaeologist and philologist\\\",\\n    \\\"archaeologist and classicist\\\",\\n    \\\"archaeologist and sinologist\\\",\\n    \\\"archaeologist and professor\\\",\\n    \\\"classical archaeologist and\\\",\\n    \\\"archaeologist and curator\\\",\\n    \\\"archaeologist and scholar\\\",\\n    \\\"historical archaeologist\\\",\\n    \\\"underwater archaeologist\\\",\\n    \\\"classical archaeologist\\\",\\n    \\\"landscape archaeologist\\\",\\n    \\\"nuclear archaeologist\\\",\\n    \\\"Meso archaeologist\\\",\\n    \\\"zooarchaeologist\\\",\\n    \\\"archaeologist and\\\",\\n    \\\"and archaeologist\\\",\\n    \\\"archaeologist\\\",\\n]\\nlaw_enf_military_operator = [\\n    \\\"recruiter of spies\\\",\\n]\\nspiritual = []\\nsocial = []\\ncrime = []\\nevent_record_other = []\\nother_species = []\";\n",
       "                var nbb_formatted_code = \"# Creating lists for each category\\npolitics_govt_law = [\\n    \\\"civil servant and United Nations disarmament official\\\",\\n    \\\"colonial civil servant and governor Ruanda Urundi\\\",\\n    \\\"Coast Salish tribal leader and civil servant\\\",\\n    \\\"civil servant and mental health campaigner\\\",\\n    \\\"civil servant and countryside campaigner\\\",\\n    \\\"civil servant and presidential advisor\\\",\\n    \\\"civil servant and policy advisor\\\",\\n    \\\"and international civil servant\\\",\\n    \\\"civil servant and whistleblower\\\",\\n    \\\"Channel Islander civil servant\\\",\\n    \\\"civil servant from Providence\\\",\\n    \\\"civil servant and magistrate\\\",\\n    \\\"prosecutor and civil servant\\\",\\n    \\\"civil servant and bureaucrat\\\",\\n    \\\"international civil servant\\\",\\n    \\\"barrister and civil servant\\\",\\n    \\\"life peer and civil servant\\\",\\n    \\\"civil servant and planner\\\",\\n    \\\"civil servant and public\\\",\\n    \\\"civil servant and peer\\\",\\n    \\\"and civil servant\\\",\\n    \\\"civil servant and\\\",\\n    \\\"civil servant\\\",\\n]\\n\\narts = []\\nsports = []\\nsciences = [\\n    \\\"osteologist\\\",\\n]\\n\\nbusiness_farming = []\\nacademia_humanities = [\\n    \\\"museum curator and archaeologist who was director of the Museum of\\\",\\n    \\\"archaeologist specializing in Etruscan civilization and art\\\",\\n    \\\"archaeologist at the University of Sheffield\\\",\\n    \\\"Middle Eastern archaeologist and professor\\\",\\n    \\\"archaeologist and art preservationist\\\",\\n    \\\"classical scholar and archaeologist\\\",\\n    \\\"archaeologist and classical scholar\\\",\\n    \\\"archaeologist at the University of\\\",\\n    \\\"archaeologist of sites in Anatolia\\\",\\n    \\\"art conservator and archaeologist\\\",\\n    \\\"Coptic scholar and archaeologist\\\",\\n    \\\"anthropologist and archaeologist\\\",\\n    \\\"archaeologist and anthropologist\\\",\\n    \\\"archaeologist and Byzantinist\\\",\\n    \\\"archaeologist and numismatist\\\",\\n    \\\"archaeologist and philologist\\\",\\n    \\\"archaeologist and classicist\\\",\\n    \\\"archaeologist and sinologist\\\",\\n    \\\"archaeologist and professor\\\",\\n    \\\"classical archaeologist and\\\",\\n    \\\"archaeologist and curator\\\",\\n    \\\"archaeologist and scholar\\\",\\n    \\\"historical archaeologist\\\",\\n    \\\"underwater archaeologist\\\",\\n    \\\"classical archaeologist\\\",\\n    \\\"landscape archaeologist\\\",\\n    \\\"nuclear archaeologist\\\",\\n    \\\"Meso archaeologist\\\",\\n    \\\"zooarchaeologist\\\",\\n    \\\"archaeologist and\\\",\\n    \\\"and archaeologist\\\",\\n    \\\"archaeologist\\\",\\n]\\nlaw_enf_military_operator = [\\n    \\\"recruiter of spies\\\",\\n]\\nspiritual = []\\nsocial = []\\ncrime = []\\nevent_record_other = []\\nother_species = []\";\n",
       "                var nbb_cells = Jupyter.notebook.get_cells();\n",
       "                for (var i = 0; i < nbb_cells.length; ++i) {\n",
       "                    if (nbb_cells[i].input_prompt_number == nbb_cell_id) {\n",
       "                        if (nbb_cells[i].get_text() == nbb_unformatted_code) {\n",
       "                             nbb_cells[i].set_text(nbb_formatted_code);\n",
       "                        }\n",
       "                        break;\n",
       "                    }\n",
       "                }\n",
       "            }, 500);\n",
       "            "
      ],
      "text/plain": [
       "<IPython.core.display.Javascript object>"
      ]
     },
     "metadata": {},
     "output_type": "display_data"
    }
   ],
   "source": [
    "# Creating lists for each category\n",
    "politics_govt_law = [\n",
    "    \"civil servant and United Nations disarmament official\",\n",
    "    \"colonial civil servant and governor Ruanda Urundi\",\n",
    "    \"Coast Salish tribal leader and civil servant\",\n",
    "    \"civil servant and mental health campaigner\",\n",
    "    \"civil servant and countryside campaigner\",\n",
    "    \"civil servant and presidential advisor\",\n",
    "    \"civil servant and policy advisor\",\n",
    "    \"and international civil servant\",\n",
    "    \"civil servant and whistleblower\",\n",
    "    \"Channel Islander civil servant\",\n",
    "    \"civil servant from Providence\",\n",
    "    \"civil servant and magistrate\",\n",
    "    \"prosecutor and civil servant\",\n",
    "    \"civil servant and bureaucrat\",\n",
    "    \"international civil servant\",\n",
    "    \"barrister and civil servant\",\n",
    "    \"life peer and civil servant\",\n",
    "    \"civil servant and planner\",\n",
    "    \"civil servant and public\",\n",
    "    \"civil servant and peer\",\n",
    "    \"and civil servant\",\n",
    "    \"civil servant and\",\n",
    "    \"civil servant\",\n",
    "]\n",
    "\n",
    "arts = []\n",
    "sports = []\n",
    "sciences = [\n",
    "    \"osteologist\",\n",
    "]\n",
    "\n",
    "business_farming = []\n",
    "academia_humanities = [\n",
    "    \"museum curator and archaeologist who was director of the Museum of\",\n",
    "    \"archaeologist specializing in Etruscan civilization and art\",\n",
    "    \"archaeologist at the University of Sheffield\",\n",
    "    \"Middle Eastern archaeologist and professor\",\n",
    "    \"archaeologist and art preservationist\",\n",
    "    \"classical scholar and archaeologist\",\n",
    "    \"archaeologist and classical scholar\",\n",
    "    \"archaeologist at the University of\",\n",
    "    \"archaeologist of sites in Anatolia\",\n",
    "    \"art conservator and archaeologist\",\n",
    "    \"Coptic scholar and archaeologist\",\n",
    "    \"anthropologist and archaeologist\",\n",
    "    \"archaeologist and anthropologist\",\n",
    "    \"archaeologist and Byzantinist\",\n",
    "    \"archaeologist and numismatist\",\n",
    "    \"archaeologist and philologist\",\n",
    "    \"archaeologist and classicist\",\n",
    "    \"archaeologist and sinologist\",\n",
    "    \"archaeologist and professor\",\n",
    "    \"classical archaeologist and\",\n",
    "    \"archaeologist and curator\",\n",
    "    \"archaeologist and scholar\",\n",
    "    \"historical archaeologist\",\n",
    "    \"underwater archaeologist\",\n",
    "    \"classical archaeologist\",\n",
    "    \"landscape archaeologist\",\n",
    "    \"nuclear archaeologist\",\n",
    "    \"Meso archaeologist\",\n",
    "    \"zooarchaeologist\",\n",
    "    \"archaeologist and\",\n",
    "    \"and archaeologist\",\n",
    "    \"archaeologist\",\n",
    "]\n",
    "law_enf_military_operator = [\n",
    "    \"recruiter of spies\",\n",
    "]\n",
    "spiritual = []\n",
    "social = []\n",
    "crime = []\n",
    "event_record_other = []\n",
    "other_species = []"
   ]
  },
  {
   "cell_type": "markdown",
   "id": "28223745",
   "metadata": {},
   "source": [
    "#### Creating `known_for_dict` Dictionary of Category Keys and Specific Role Lists of Values"
   ]
  },
  {
   "cell_type": "code",
   "execution_count": 44,
   "id": "3beaac8e",
   "metadata": {},
   "outputs": [
    {
     "data": {
      "application/javascript": [
       "\n",
       "            setTimeout(function() {\n",
       "                var nbb_cell_id = 44;\n",
       "                var nbb_unformatted_code = \"# Combining separate lists into one dictionary\\nknown_for_dict = {\\n    \\\"social\\\": social,\\n    \\\"spiritual\\\": spiritual,\\n    \\\"academia_humanities\\\": academia_humanities,\\n    \\\"business_farming\\\": business_farming,\\n    \\\"sciences\\\": sciences,\\n    \\\"politics_govt_law\\\": politics_govt_law,\\n    \\\"law_enf_military_operator\\\": law_enf_military_operator,\\n    \\\"crime\\\": crime,\\n    \\\"event_record_other\\\": event_record_other,\\n    \\\"other_species\\\": other_species,\\n    \\\"arts\\\": arts,\\n    \\\"sports\\\": sports,\\n}\";\n",
       "                var nbb_formatted_code = \"# Combining separate lists into one dictionary\\nknown_for_dict = {\\n    \\\"social\\\": social,\\n    \\\"spiritual\\\": spiritual,\\n    \\\"academia_humanities\\\": academia_humanities,\\n    \\\"business_farming\\\": business_farming,\\n    \\\"sciences\\\": sciences,\\n    \\\"politics_govt_law\\\": politics_govt_law,\\n    \\\"law_enf_military_operator\\\": law_enf_military_operator,\\n    \\\"crime\\\": crime,\\n    \\\"event_record_other\\\": event_record_other,\\n    \\\"other_species\\\": other_species,\\n    \\\"arts\\\": arts,\\n    \\\"sports\\\": sports,\\n}\";\n",
       "                var nbb_cells = Jupyter.notebook.get_cells();\n",
       "                for (var i = 0; i < nbb_cells.length; ++i) {\n",
       "                    if (nbb_cells[i].input_prompt_number == nbb_cell_id) {\n",
       "                        if (nbb_cells[i].get_text() == nbb_unformatted_code) {\n",
       "                             nbb_cells[i].set_text(nbb_formatted_code);\n",
       "                        }\n",
       "                        break;\n",
       "                    }\n",
       "                }\n",
       "            }, 500);\n",
       "            "
      ],
      "text/plain": [
       "<IPython.core.display.Javascript object>"
      ]
     },
     "metadata": {},
     "output_type": "display_data"
    }
   ],
   "source": [
    "# Combining separate lists into one dictionary\n",
    "known_for_dict = {\n",
    "    \"social\": social,\n",
    "    \"spiritual\": spiritual,\n",
    "    \"academia_humanities\": academia_humanities,\n",
    "    \"business_farming\": business_farming,\n",
    "    \"sciences\": sciences,\n",
    "    \"politics_govt_law\": politics_govt_law,\n",
    "    \"law_enf_military_operator\": law_enf_military_operator,\n",
    "    \"crime\": crime,\n",
    "    \"event_record_other\": event_record_other,\n",
    "    \"other_species\": other_species,\n",
    "    \"arts\": arts,\n",
    "    \"sports\": sports,\n",
    "}"
   ]
  },
  {
   "cell_type": "markdown",
   "id": "338db45e",
   "metadata": {},
   "source": [
    "#### Extracting Category from `info_2`"
   ]
  },
  {
   "cell_type": "code",
   "execution_count": 45,
   "id": "4a7c6b3b",
   "metadata": {},
   "outputs": [
    {
     "name": "stdout",
     "output_type": "stream",
     "text": [
      "CPU times: total: 29.3 s\n",
      "Wall time: 29.3 s\n"
     ]
    },
    {
     "data": {
      "text/html": [
       "<div>\n",
       "<style scoped>\n",
       "    .dataframe tbody tr th:only-of-type {\n",
       "        vertical-align: middle;\n",
       "    }\n",
       "\n",
       "    .dataframe tbody tr th {\n",
       "        vertical-align: top;\n",
       "    }\n",
       "\n",
       "    .dataframe thead th {\n",
       "        text-align: right;\n",
       "    }\n",
       "</style>\n",
       "<table border=\"1\" class=\"dataframe\">\n",
       "  <thead>\n",
       "    <tr style=\"text-align: right;\">\n",
       "      <th></th>\n",
       "      <th>day</th>\n",
       "      <th>name</th>\n",
       "      <th>info</th>\n",
       "      <th>link</th>\n",
       "      <th>num_references</th>\n",
       "      <th>year</th>\n",
       "      <th>month</th>\n",
       "      <th>info_parenth</th>\n",
       "      <th>info_1</th>\n",
       "      <th>info_2</th>\n",
       "      <th>info_3</th>\n",
       "      <th>info_4</th>\n",
       "      <th>info_5</th>\n",
       "      <th>info_6</th>\n",
       "      <th>info_7</th>\n",
       "      <th>info_8</th>\n",
       "      <th>info_9</th>\n",
       "      <th>info_10</th>\n",
       "      <th>info_11</th>\n",
       "      <th>age</th>\n",
       "      <th>cause_of_death</th>\n",
       "      <th>place_1</th>\n",
       "      <th>place_2</th>\n",
       "      <th>info_parenth_copy</th>\n",
       "      <th>log_num_references</th>\n",
       "      <th>sciences</th>\n",
       "      <th>social</th>\n",
       "      <th>spiritual</th>\n",
       "      <th>academia_humanities</th>\n",
       "      <th>business_farming</th>\n",
       "      <th>arts</th>\n",
       "      <th>sports</th>\n",
       "      <th>law_enf_military_operator</th>\n",
       "      <th>politics_govt_law</th>\n",
       "      <th>crime</th>\n",
       "      <th>event_record_other</th>\n",
       "      <th>other_species</th>\n",
       "      <th>num_categories</th>\n",
       "    </tr>\n",
       "  </thead>\n",
       "  <tbody>\n",
       "    <tr>\n",
       "      <th>48199</th>\n",
       "      <td>22</td>\n",
       "      <td>Mehroo Bengalee</td>\n",
       "      <td>, 84, Indian academic.</td>\n",
       "      <td>https://en.wikipedia.org/wiki/Mehroo_Bengalee</td>\n",
       "      <td>4</td>\n",
       "      <td>2014</td>\n",
       "      <td>May</td>\n",
       "      <td>None</td>\n",
       "      <td>None</td>\n",
       "      <td></td>\n",
       "      <td>None</td>\n",
       "      <td>None</td>\n",
       "      <td>None</td>\n",
       "      <td>None</td>\n",
       "      <td>None</td>\n",
       "      <td>None</td>\n",
       "      <td>None</td>\n",
       "      <td>None</td>\n",
       "      <td>None</td>\n",
       "      <td>84.0</td>\n",
       "      <td>None</td>\n",
       "      <td>India</td>\n",
       "      <td>None</td>\n",
       "      <td>None</td>\n",
       "      <td>1.609438</td>\n",
       "      <td>0</td>\n",
       "      <td>0</td>\n",
       "      <td>0</td>\n",
       "      <td>1</td>\n",
       "      <td>0</td>\n",
       "      <td>0</td>\n",
       "      <td>0</td>\n",
       "      <td>0</td>\n",
       "      <td>0</td>\n",
       "      <td>0</td>\n",
       "      <td>0</td>\n",
       "      <td>0</td>\n",
       "      <td>1</td>\n",
       "    </tr>\n",
       "    <tr>\n",
       "      <th>58511</th>\n",
       "      <td>31</td>\n",
       "      <td>James Campbell</td>\n",
       "      <td>, 81, English historian.</td>\n",
       "      <td>https://en.wikipedia.org/wiki/James_Campbell_(historian)</td>\n",
       "      <td>10</td>\n",
       "      <td>2016</td>\n",
       "      <td>May</td>\n",
       "      <td>None</td>\n",
       "      <td>None</td>\n",
       "      <td></td>\n",
       "      <td>None</td>\n",
       "      <td>None</td>\n",
       "      <td>None</td>\n",
       "      <td>None</td>\n",
       "      <td>None</td>\n",
       "      <td>None</td>\n",
       "      <td>None</td>\n",
       "      <td>None</td>\n",
       "      <td>None</td>\n",
       "      <td>81.0</td>\n",
       "      <td>None</td>\n",
       "      <td>United Kingdom of Great Britain and Northern Ireland</td>\n",
       "      <td>None</td>\n",
       "      <td>None</td>\n",
       "      <td>2.397895</td>\n",
       "      <td>0</td>\n",
       "      <td>0</td>\n",
       "      <td>0</td>\n",
       "      <td>1</td>\n",
       "      <td>0</td>\n",
       "      <td>0</td>\n",
       "      <td>0</td>\n",
       "      <td>0</td>\n",
       "      <td>0</td>\n",
       "      <td>0</td>\n",
       "      <td>0</td>\n",
       "      <td>0</td>\n",
       "      <td>1</td>\n",
       "    </tr>\n",
       "  </tbody>\n",
       "</table>\n",
       "</div>"
      ],
      "text/plain": [
       "      day             name                      info  \\\n",
       "48199  22  Mehroo Bengalee    , 84, Indian academic.   \n",
       "58511  31   James Campbell  , 81, English historian.   \n",
       "\n",
       "                                                           link  \\\n",
       "48199             https://en.wikipedia.org/wiki/Mehroo_Bengalee   \n",
       "58511  https://en.wikipedia.org/wiki/James_Campbell_(historian)   \n",
       "\n",
       "       num_references  year month info_parenth info_1 info_2 info_3 info_4  \\\n",
       "48199               4  2014   May         None   None          None   None   \n",
       "58511              10  2016   May         None   None          None   None   \n",
       "\n",
       "      info_5 info_6 info_7 info_8 info_9 info_10 info_11   age cause_of_death  \\\n",
       "48199   None   None   None   None   None    None    None  84.0           None   \n",
       "58511   None   None   None   None   None    None    None  81.0           None   \n",
       "\n",
       "                                                    place_1 place_2  \\\n",
       "48199                                                 India    None   \n",
       "58511  United Kingdom of Great Britain and Northern Ireland    None   \n",
       "\n",
       "      info_parenth_copy  log_num_references  sciences  social  spiritual  \\\n",
       "48199              None            1.609438         0       0          0   \n",
       "58511              None            2.397895         0       0          0   \n",
       "\n",
       "       academia_humanities  business_farming  arts  sports  \\\n",
       "48199                    1                 0     0       0   \n",
       "58511                    1                 0     0       0   \n",
       "\n",
       "       law_enf_military_operator  politics_govt_law  crime  \\\n",
       "48199                          0                  0      0   \n",
       "58511                          0                  0      0   \n",
       "\n",
       "       event_record_other  other_species  num_categories  \n",
       "48199                   0              0               1  \n",
       "58511                   0              0               1  "
      ]
     },
     "execution_count": 45,
     "metadata": {},
     "output_type": "execute_result"
    },
    {
     "data": {
      "application/javascript": [
       "\n",
       "            setTimeout(function() {\n",
       "                var nbb_cell_id = 45;\n",
       "                var nbb_unformatted_code = \"%%time\\n\\n# Dictionary version\\nsearch_dict = known_for_dict\\n\\n# Column to check\\ncolumn = 'info_2'\\n\\n# Dataframe\\ndataframe = df[column].notna()\\n\\n# For loop to find role in column and extract it as category\\nfor category, category_lst in search_dict.items():\\n    for role in category_lst:\\n        for index in dataframe.index:\\n            item = df.loc[index, column]\\n            if item:\\n                if role in item:\\n                    df.loc[index, category] = 1\\n                    df.loc[index, column] = item.replace(role, '').strip()\\n\\n# Updating num_categories\\ndf[\\\"num_categories\\\"] = df[known_for_dict.keys()].sum(axis=1)\\n\\n# Checking a sample of rows\\ndf[df['academia_humanities'] ==1].sample(2)\";\n",
       "                var nbb_formatted_code = \"%%time\\n\\n# Dictionary version\\nsearch_dict = known_for_dict\\n\\n# Column to check\\ncolumn = 'info_2'\\n\\n# Dataframe\\ndataframe = df[column].notna()\\n\\n# For loop to find role in column and extract it as category\\nfor category, category_lst in search_dict.items():\\n    for role in category_lst:\\n        for index in dataframe.index:\\n            item = df.loc[index, column]\\n            if item:\\n                if role in item:\\n                    df.loc[index, category] = 1\\n                    df.loc[index, column] = item.replace(role, '').strip()\\n\\n# Updating num_categories\\ndf[\\\"num_categories\\\"] = df[known_for_dict.keys()].sum(axis=1)\\n\\n# Checking a sample of rows\\ndf[df['academia_humanities'] ==1].sample(2)\";\n",
       "                var nbb_cells = Jupyter.notebook.get_cells();\n",
       "                for (var i = 0; i < nbb_cells.length; ++i) {\n",
       "                    if (nbb_cells[i].input_prompt_number == nbb_cell_id) {\n",
       "                        if (nbb_cells[i].get_text() == nbb_unformatted_code) {\n",
       "                             nbb_cells[i].set_text(nbb_formatted_code);\n",
       "                        }\n",
       "                        break;\n",
       "                    }\n",
       "                }\n",
       "            }, 500);\n",
       "            "
      ],
      "text/plain": [
       "<IPython.core.display.Javascript object>"
      ]
     },
     "metadata": {},
     "output_type": "display_data"
    }
   ],
   "source": [
    "%%time\n",
    "\n",
    "# Dictionary version\n",
    "search_dict = known_for_dict\n",
    "\n",
    "# Column to check\n",
    "column = 'info_2'\n",
    "\n",
    "# Dataframe\n",
    "dataframe = df[column].notna()\n",
    "\n",
    "# For loop to find role in column and extract it as category\n",
    "for category, category_lst in search_dict.items():\n",
    "    for role in category_lst:\n",
    "        for index in dataframe.index:\n",
    "            item = df.loc[index, column]\n",
    "            if item:\n",
    "                if role in item:\n",
    "                    df.loc[index, category] = 1\n",
    "                    df.loc[index, column] = item.replace(role, '').strip()\n",
    "\n",
    "# Updating num_categories\n",
    "df[\"num_categories\"] = df[known_for_dict.keys()].sum(axis=1)\n",
    "\n",
    "# Checking a sample of rows\n",
    "df[df['academia_humanities'] ==1].sample(2)"
   ]
  },
  {
   "cell_type": "markdown",
   "id": "cedd72dd",
   "metadata": {},
   "source": [
    "#### Checking the Number of Rows without a First Category"
   ]
  },
  {
   "cell_type": "code",
   "execution_count": 46,
   "id": "6aca20cf",
   "metadata": {},
   "outputs": [
    {
     "name": "stdout",
     "output_type": "stream",
     "text": [
      "There are 31260 entries without any known_for category.\n"
     ]
    },
    {
     "data": {
      "application/javascript": [
       "\n",
       "            setTimeout(function() {\n",
       "                var nbb_cell_id = 46;\n",
       "                var nbb_unformatted_code = \"# Checking the number of rows without a first category\\nprint(\\n    f'There are {len(df[df[\\\"num_categories\\\"]==0])} entries without any known_for category.'\\n)\";\n",
       "                var nbb_formatted_code = \"# Checking the number of rows without a first category\\nprint(\\n    f'There are {len(df[df[\\\"num_categories\\\"]==0])} entries without any known_for category.'\\n)\";\n",
       "                var nbb_cells = Jupyter.notebook.get_cells();\n",
       "                for (var i = 0; i < nbb_cells.length; ++i) {\n",
       "                    if (nbb_cells[i].input_prompt_number == nbb_cell_id) {\n",
       "                        if (nbb_cells[i].get_text() == nbb_unformatted_code) {\n",
       "                             nbb_cells[i].set_text(nbb_formatted_code);\n",
       "                        }\n",
       "                        break;\n",
       "                    }\n",
       "                }\n",
       "            }, 500);\n",
       "            "
      ],
      "text/plain": [
       "<IPython.core.display.Javascript object>"
      ]
     },
     "metadata": {},
     "output_type": "display_data"
    }
   ],
   "source": [
    "# Checking the number of rows without a first category\n",
    "print(\n",
    "    f'There are {len(df[df[\"num_categories\"]==0])} entries without any known_for category.'\n",
    ")"
   ]
  },
  {
   "cell_type": "markdown",
   "id": "7292df92",
   "metadata": {},
   "source": [
    "#### Observations:\n",
    "- We will proceed to rebuild `known_for_dict` for the next iteration."
   ]
  },
  {
   "cell_type": "markdown",
   "id": "c20121a9",
   "metadata": {},
   "source": [
    "#### Finding `known_for` Roles in `info_2`"
   ]
  },
  {
   "cell_type": "code",
   "execution_count": 47,
   "id": "618b2cc7",
   "metadata": {},
   "outputs": [
    {
     "data": {
      "application/javascript": [
       "\n",
       "            setTimeout(function() {\n",
       "                var nbb_cell_id = 47;\n",
       "                var nbb_unformatted_code = \"# # Obtaining values for column and their counts\\n# roles_list = df[\\\"info_2\\\"].value_counts(ascending=True).index.tolist()\";\n",
       "                var nbb_formatted_code = \"# # Obtaining values for column and their counts\\n# roles_list = df[\\\"info_2\\\"].value_counts(ascending=True).index.tolist()\";\n",
       "                var nbb_cells = Jupyter.notebook.get_cells();\n",
       "                for (var i = 0; i < nbb_cells.length; ++i) {\n",
       "                    if (nbb_cells[i].input_prompt_number == nbb_cell_id) {\n",
       "                        if (nbb_cells[i].get_text() == nbb_unformatted_code) {\n",
       "                             nbb_cells[i].set_text(nbb_formatted_code);\n",
       "                        }\n",
       "                        break;\n",
       "                    }\n",
       "                }\n",
       "            }, 500);\n",
       "            "
      ],
      "text/plain": [
       "<IPython.core.display.Javascript object>"
      ]
     },
     "metadata": {},
     "output_type": "display_data"
    }
   ],
   "source": [
    "# # Obtaining values for column and their counts\n",
    "# roles_list = df[\"info_2\"].value_counts(ascending=True).index.tolist()"
   ]
  },
  {
   "cell_type": "code",
   "execution_count": 48,
   "id": "4f4c38c8",
   "metadata": {},
   "outputs": [
    {
     "data": {
      "application/javascript": [
       "\n",
       "            setTimeout(function() {\n",
       "                var nbb_cell_id = 48;\n",
       "                var nbb_unformatted_code = \"# # Code to check each value\\n# roles_list.pop()\";\n",
       "                var nbb_formatted_code = \"# # Code to check each value\\n# roles_list.pop()\";\n",
       "                var nbb_cells = Jupyter.notebook.get_cells();\n",
       "                for (var i = 0; i < nbb_cells.length; ++i) {\n",
       "                    if (nbb_cells[i].input_prompt_number == nbb_cell_id) {\n",
       "                        if (nbb_cells[i].get_text() == nbb_unformatted_code) {\n",
       "                             nbb_cells[i].set_text(nbb_formatted_code);\n",
       "                        }\n",
       "                        break;\n",
       "                    }\n",
       "                }\n",
       "            }, 500);\n",
       "            "
      ],
      "text/plain": [
       "<IPython.core.display.Javascript object>"
      ]
     },
     "metadata": {},
     "output_type": "display_data"
    }
   ],
   "source": [
    "# # Code to check each value\n",
    "# roles_list.pop()"
   ]
  },
  {
   "cell_type": "code",
   "execution_count": 49,
   "id": "e8b95a6b",
   "metadata": {},
   "outputs": [
    {
     "data": {
      "application/javascript": [
       "\n",
       "            setTimeout(function() {\n",
       "                var nbb_cell_id = 49;\n",
       "                var nbb_unformatted_code = \"# # Create specific_roles_list for above popped value\\n# specific_roles_list = (\\n#     df.loc[\\n#         [index for index in df.index if \\\"racing driver\\\" in df.loc[index, \\\"info\\\"]],\\n#         \\\"info_2\\\",\\n#     ]\\n#     .value_counts()\\n#     .index.tolist()\\n# )\";\n",
       "                var nbb_formatted_code = \"# # Create specific_roles_list for above popped value\\n# specific_roles_list = (\\n#     df.loc[\\n#         [index for index in df.index if \\\"racing driver\\\" in df.loc[index, \\\"info\\\"]],\\n#         \\\"info_2\\\",\\n#     ]\\n#     .value_counts()\\n#     .index.tolist()\\n# )\";\n",
       "                var nbb_cells = Jupyter.notebook.get_cells();\n",
       "                for (var i = 0; i < nbb_cells.length; ++i) {\n",
       "                    if (nbb_cells[i].input_prompt_number == nbb_cell_id) {\n",
       "                        if (nbb_cells[i].get_text() == nbb_unformatted_code) {\n",
       "                             nbb_cells[i].set_text(nbb_formatted_code);\n",
       "                        }\n",
       "                        break;\n",
       "                    }\n",
       "                }\n",
       "            }, 500);\n",
       "            "
      ],
      "text/plain": [
       "<IPython.core.display.Javascript object>"
      ]
     },
     "metadata": {},
     "output_type": "display_data"
    }
   ],
   "source": [
    "# # Create specific_roles_list for above popped value\n",
    "# specific_roles_list = (\n",
    "#     df.loc[\n",
    "#         [index for index in df.index if \"racing driver\" in df.loc[index, \"info\"]],\n",
    "#         \"info_2\",\n",
    "#     ]\n",
    "#     .value_counts()\n",
    "#     .index.tolist()\n",
    "# )"
   ]
  },
  {
   "cell_type": "code",
   "execution_count": 50,
   "id": "fde9cf7b",
   "metadata": {},
   "outputs": [
    {
     "data": {
      "application/javascript": [
       "\n",
       "            setTimeout(function() {\n",
       "                var nbb_cell_id = 50;\n",
       "                var nbb_unformatted_code = \"# # Code to check each specific value\\n# specific_roles_list.pop()\";\n",
       "                var nbb_formatted_code = \"# # Code to check each specific value\\n# specific_roles_list.pop()\";\n",
       "                var nbb_cells = Jupyter.notebook.get_cells();\n",
       "                for (var i = 0; i < nbb_cells.length; ++i) {\n",
       "                    if (nbb_cells[i].input_prompt_number == nbb_cell_id) {\n",
       "                        if (nbb_cells[i].get_text() == nbb_unformatted_code) {\n",
       "                             nbb_cells[i].set_text(nbb_formatted_code);\n",
       "                        }\n",
       "                        break;\n",
       "                    }\n",
       "                }\n",
       "            }, 500);\n",
       "            "
      ],
      "text/plain": [
       "<IPython.core.display.Javascript object>"
      ]
     },
     "metadata": {},
     "output_type": "display_data"
    }
   ],
   "source": [
    "# # Code to check each specific value\n",
    "# specific_roles_list.pop()"
   ]
  },
  {
   "cell_type": "code",
   "execution_count": 51,
   "id": "42661620",
   "metadata": {},
   "outputs": [
    {
     "data": {
      "application/javascript": [
       "\n",
       "            setTimeout(function() {\n",
       "                var nbb_cell_id = 51;\n",
       "                var nbb_unformatted_code = \"# # Example code to quick-check a specific entry\\n# df[df[\\\"info_2\\\"] == \\\"racing driver and executive coach\\\"]\";\n",
       "                var nbb_formatted_code = \"# # Example code to quick-check a specific entry\\n# df[df[\\\"info_2\\\"] == \\\"racing driver and executive coach\\\"]\";\n",
       "                var nbb_cells = Jupyter.notebook.get_cells();\n",
       "                for (var i = 0; i < nbb_cells.length; ++i) {\n",
       "                    if (nbb_cells[i].input_prompt_number == nbb_cell_id) {\n",
       "                        if (nbb_cells[i].get_text() == nbb_unformatted_code) {\n",
       "                             nbb_cells[i].set_text(nbb_formatted_code);\n",
       "                        }\n",
       "                        break;\n",
       "                    }\n",
       "                }\n",
       "            }, 500);\n",
       "            "
      ],
      "text/plain": [
       "<IPython.core.display.Javascript object>"
      ]
     },
     "metadata": {},
     "output_type": "display_data"
    }
   ],
   "source": [
    "# # Example code to quick-check a specific entry\n",
    "# df[df[\"info_2\"] == \"racing driver and executive coach\"]"
   ]
  },
  {
   "cell_type": "code",
   "execution_count": 52,
   "id": "395227eb",
   "metadata": {},
   "outputs": [
    {
     "data": {
      "application/javascript": [
       "\n",
       "            setTimeout(function() {\n",
       "                var nbb_cell_id = 52;\n",
       "                var nbb_unformatted_code = \"# Hard-coding cause_of_death for entry with value in info_2\\nindex = df[df[\\\"link\\\"] == \\\"https://en.wikipedia.org/wiki/Roy_Barraclough\\\"].index\\ndf.loc[index, \\\"cause_of_death\\\"] = \\\"short illness\\\"\\n\\n# Hard-coding engineer for entry for correct categorization\\nindex = df[df[\\\"link\\\"] == \\\"https://en.wikipedia.org/wiki/Archie_Butterworth\\\"].index\\ndf.loc[index, \\\"info_3\\\"] = \\\"engineer\\\"\";\n",
       "                var nbb_formatted_code = \"# Hard-coding cause_of_death for entry with value in info_2\\nindex = df[df[\\\"link\\\"] == \\\"https://en.wikipedia.org/wiki/Roy_Barraclough\\\"].index\\ndf.loc[index, \\\"cause_of_death\\\"] = \\\"short illness\\\"\\n\\n# Hard-coding engineer for entry for correct categorization\\nindex = df[df[\\\"link\\\"] == \\\"https://en.wikipedia.org/wiki/Archie_Butterworth\\\"].index\\ndf.loc[index, \\\"info_3\\\"] = \\\"engineer\\\"\";\n",
       "                var nbb_cells = Jupyter.notebook.get_cells();\n",
       "                for (var i = 0; i < nbb_cells.length; ++i) {\n",
       "                    if (nbb_cells[i].input_prompt_number == nbb_cell_id) {\n",
       "                        if (nbb_cells[i].get_text() == nbb_unformatted_code) {\n",
       "                             nbb_cells[i].set_text(nbb_formatted_code);\n",
       "                        }\n",
       "                        break;\n",
       "                    }\n",
       "                }\n",
       "            }, 500);\n",
       "            "
      ],
      "text/plain": [
       "<IPython.core.display.Javascript object>"
      ]
     },
     "metadata": {},
     "output_type": "display_data"
    }
   ],
   "source": [
    "# Hard-coding cause_of_death for entry with value in info_2\n",
    "index = df[df[\"link\"] == \"https://en.wikipedia.org/wiki/Roy_Barraclough\"].index\n",
    "df.loc[index, \"cause_of_death\"] = \"short illness\"\n",
    "\n",
    "# Hard-coding engineer for entry for correct categorization\n",
    "index = df[df[\"link\"] == \"https://en.wikipedia.org/wiki/Archie_Butterworth\"].index\n",
    "df.loc[index, \"info_3\"] = \"engineer\""
   ]
  },
  {
   "cell_type": "markdown",
   "id": "36f744db",
   "metadata": {},
   "source": [
    "#### Creating Lists for Each `known_for` Category"
   ]
  },
  {
   "cell_type": "code",
   "execution_count": 53,
   "id": "7dcd9410",
   "metadata": {},
   "outputs": [
    {
     "data": {
      "application/javascript": [
       "\n",
       "            setTimeout(function() {\n",
       "                var nbb_cell_id = 53;\n",
       "                var nbb_unformatted_code = \"# Creating lists for each category\\npolitics_govt_law = []\\n\\narts = [\\n    'comedian dubbed \\\"Uncle Miltie\\\" and \\\"Mr Television\\\"',\\n    \\\"Grammy winning comedian and JFK impersonator\\\",\\n    \\\"comedian and reality television contestant\\\",\\n    \\\"comedian and classical music satirist\\\",\\n    \\\"comedian and television personality\\\",\\n    \\\"comedian and television presenter\\\",\\n    \\\"music hall performer and comedian\\\",\\n    \\\"television producer and comedian\\\",\\n    \\\"theater director and comedian\\\",\\n    \\\"comedian respiratory problems\\\",\\n    \\\"radio presenter and comedian\\\",\\n    \\\"television host and comedian\\\",\\n    \\\"comedian and television host\\\",\\n    \\\"Oneida Mohawk Cree comedian\\\",\\n    \\\"comedian and opera director\\\",\\n    \\\"comedian and game show host\\\",\\n    \\\"comedian and impressionist\\\",\\n    \\\"ventriloquist and comedian\\\",\\n    \\\"TV celebrity and comedian\\\",\\n    \\\"comedian and entertainer\\\",\\n    \\\"entertainer and comedian\\\",\\n    \\\"broadcaster and comedian\\\",\\n    \\\"improvisational comedian\\\",\\n    \\\"Wiere Brothers comedian\\\",\\n    \\\"comedian and radio host\\\",\\n    \\\"comedian and satirist\\\",\\n    \\\"Borscht Belt comedian\\\",\\n    \\\"comedian and pianist\\\",\\n    \\\"ice skating comedian\\\",\\n    \\\"comedian and dancer\\\",\\n    \\\"xiangsheng comedian\\\",\\n    \\\"East comedian\\\",\\n    \\\"film comedian\\\",\\n    \\\"and comedian\\\",\\n    \\\"comedian and\\\",\\n    \\\"comedian\\\",\\n]\\nsports = [\\n    \\\"racing driver and last living participant in the first F World Championship race\\\",\\n    \\\"Grand Prix motorcycle road racer and racing driver\\\",\\n    \\\"former Grand Prix racing driver and constructor\\\",\\n    \\\"racing driver and Formula One team principal\\\",\\n    \\\"racing driver and motorsport administrator\\\",\\n    \\\"Hall of Fame racing driver and instructor\\\",\\n    \\\"record setting harness racing driver\\\",\\n    \\\"motor racing driver and team leader\\\",\\n    \\\"racing driver and racing team owner\\\",\\n    \\\"Hall of Fame harness racing driver\\\",\\n    \\\"racing driver and car constructor\\\",\\n    \\\"racing driver and team manager\\\",\\n    \\\"racing driver and rally driver\\\",\\n    \\\"racing driver and instructor\\\",\\n    \\\"racing driver and team owner\\\",\\n    \\\"Hall of Fame racing driver\\\",\\n    \\\"racing driver and designer\\\",\\n    \\\"Indianapolis racing driver\\\",\\n    \\\"professional racing driver\\\",\\n    \\\"and amateur racing driver\\\",\\n    \\\"Formula One racing driver\\\",\\n    \\\"Grand Prix racing driver\\\",\\n    \\\"open wheel racing driver\\\",\\n    \\\"sprint car racing driver\\\",\\n    \\\"stock car racing driver\\\",\\n    \\\"off road racing driver\\\",\\n    \\\"racing driver champion\\\",\\n    \\\"amateur racing driver\\\",\\n    \\\"motor racing driver\\\",\\n    \\\"auto racing driver\\\",\\n    \\\"drag racing driver\\\",\\n    \\\"VLN racing driver\\\",\\n    \\\"racing driver and\\\",\\n    \\\"and racing driver\\\",\\n    \\\"racing driver\\\",\\n]\\nsciences = []\\n\\nbusiness_farming = []\\nacademia_humanities = []\\nlaw_enf_military_operator = []\\nspiritual = []\\nsocial = []\\ncrime = []\\nevent_record_other = []\\nother_species = []\";\n",
       "                var nbb_formatted_code = \"# Creating lists for each category\\npolitics_govt_law = []\\n\\narts = [\\n    'comedian dubbed \\\"Uncle Miltie\\\" and \\\"Mr Television\\\"',\\n    \\\"Grammy winning comedian and JFK impersonator\\\",\\n    \\\"comedian and reality television contestant\\\",\\n    \\\"comedian and classical music satirist\\\",\\n    \\\"comedian and television personality\\\",\\n    \\\"comedian and television presenter\\\",\\n    \\\"music hall performer and comedian\\\",\\n    \\\"television producer and comedian\\\",\\n    \\\"theater director and comedian\\\",\\n    \\\"comedian respiratory problems\\\",\\n    \\\"radio presenter and comedian\\\",\\n    \\\"television host and comedian\\\",\\n    \\\"comedian and television host\\\",\\n    \\\"Oneida Mohawk Cree comedian\\\",\\n    \\\"comedian and opera director\\\",\\n    \\\"comedian and game show host\\\",\\n    \\\"comedian and impressionist\\\",\\n    \\\"ventriloquist and comedian\\\",\\n    \\\"TV celebrity and comedian\\\",\\n    \\\"comedian and entertainer\\\",\\n    \\\"entertainer and comedian\\\",\\n    \\\"broadcaster and comedian\\\",\\n    \\\"improvisational comedian\\\",\\n    \\\"Wiere Brothers comedian\\\",\\n    \\\"comedian and radio host\\\",\\n    \\\"comedian and satirist\\\",\\n    \\\"Borscht Belt comedian\\\",\\n    \\\"comedian and pianist\\\",\\n    \\\"ice skating comedian\\\",\\n    \\\"comedian and dancer\\\",\\n    \\\"xiangsheng comedian\\\",\\n    \\\"East comedian\\\",\\n    \\\"film comedian\\\",\\n    \\\"and comedian\\\",\\n    \\\"comedian and\\\",\\n    \\\"comedian\\\",\\n]\\nsports = [\\n    \\\"racing driver and last living participant in the first F World Championship race\\\",\\n    \\\"Grand Prix motorcycle road racer and racing driver\\\",\\n    \\\"former Grand Prix racing driver and constructor\\\",\\n    \\\"racing driver and Formula One team principal\\\",\\n    \\\"racing driver and motorsport administrator\\\",\\n    \\\"Hall of Fame racing driver and instructor\\\",\\n    \\\"record setting harness racing driver\\\",\\n    \\\"motor racing driver and team leader\\\",\\n    \\\"racing driver and racing team owner\\\",\\n    \\\"Hall of Fame harness racing driver\\\",\\n    \\\"racing driver and car constructor\\\",\\n    \\\"racing driver and team manager\\\",\\n    \\\"racing driver and rally driver\\\",\\n    \\\"racing driver and instructor\\\",\\n    \\\"racing driver and team owner\\\",\\n    \\\"Hall of Fame racing driver\\\",\\n    \\\"racing driver and designer\\\",\\n    \\\"Indianapolis racing driver\\\",\\n    \\\"professional racing driver\\\",\\n    \\\"and amateur racing driver\\\",\\n    \\\"Formula One racing driver\\\",\\n    \\\"Grand Prix racing driver\\\",\\n    \\\"open wheel racing driver\\\",\\n    \\\"sprint car racing driver\\\",\\n    \\\"stock car racing driver\\\",\\n    \\\"off road racing driver\\\",\\n    \\\"racing driver champion\\\",\\n    \\\"amateur racing driver\\\",\\n    \\\"motor racing driver\\\",\\n    \\\"auto racing driver\\\",\\n    \\\"drag racing driver\\\",\\n    \\\"VLN racing driver\\\",\\n    \\\"racing driver and\\\",\\n    \\\"and racing driver\\\",\\n    \\\"racing driver\\\",\\n]\\nsciences = []\\n\\nbusiness_farming = []\\nacademia_humanities = []\\nlaw_enf_military_operator = []\\nspiritual = []\\nsocial = []\\ncrime = []\\nevent_record_other = []\\nother_species = []\";\n",
       "                var nbb_cells = Jupyter.notebook.get_cells();\n",
       "                for (var i = 0; i < nbb_cells.length; ++i) {\n",
       "                    if (nbb_cells[i].input_prompt_number == nbb_cell_id) {\n",
       "                        if (nbb_cells[i].get_text() == nbb_unformatted_code) {\n",
       "                             nbb_cells[i].set_text(nbb_formatted_code);\n",
       "                        }\n",
       "                        break;\n",
       "                    }\n",
       "                }\n",
       "            }, 500);\n",
       "            "
      ],
      "text/plain": [
       "<IPython.core.display.Javascript object>"
      ]
     },
     "metadata": {},
     "output_type": "display_data"
    }
   ],
   "source": [
    "# Creating lists for each category\n",
    "politics_govt_law = []\n",
    "\n",
    "arts = [\n",
    "    'comedian dubbed \"Uncle Miltie\" and \"Mr Television\"',\n",
    "    \"Grammy winning comedian and JFK impersonator\",\n",
    "    \"comedian and reality television contestant\",\n",
    "    \"comedian and classical music satirist\",\n",
    "    \"comedian and television personality\",\n",
    "    \"comedian and television presenter\",\n",
    "    \"music hall performer and comedian\",\n",
    "    \"television producer and comedian\",\n",
    "    \"theater director and comedian\",\n",
    "    \"comedian respiratory problems\",\n",
    "    \"radio presenter and comedian\",\n",
    "    \"television host and comedian\",\n",
    "    \"comedian and television host\",\n",
    "    \"Oneida Mohawk Cree comedian\",\n",
    "    \"comedian and opera director\",\n",
    "    \"comedian and game show host\",\n",
    "    \"comedian and impressionist\",\n",
    "    \"ventriloquist and comedian\",\n",
    "    \"TV celebrity and comedian\",\n",
    "    \"comedian and entertainer\",\n",
    "    \"entertainer and comedian\",\n",
    "    \"broadcaster and comedian\",\n",
    "    \"improvisational comedian\",\n",
    "    \"Wiere Brothers comedian\",\n",
    "    \"comedian and radio host\",\n",
    "    \"comedian and satirist\",\n",
    "    \"Borscht Belt comedian\",\n",
    "    \"comedian and pianist\",\n",
    "    \"ice skating comedian\",\n",
    "    \"comedian and dancer\",\n",
    "    \"xiangsheng comedian\",\n",
    "    \"East comedian\",\n",
    "    \"film comedian\",\n",
    "    \"and comedian\",\n",
    "    \"comedian and\",\n",
    "    \"comedian\",\n",
    "]\n",
    "sports = [\n",
    "    \"racing driver and last living participant in the first F World Championship race\",\n",
    "    \"Grand Prix motorcycle road racer and racing driver\",\n",
    "    \"former Grand Prix racing driver and constructor\",\n",
    "    \"racing driver and Formula One team principal\",\n",
    "    \"racing driver and motorsport administrator\",\n",
    "    \"Hall of Fame racing driver and instructor\",\n",
    "    \"record setting harness racing driver\",\n",
    "    \"motor racing driver and team leader\",\n",
    "    \"racing driver and racing team owner\",\n",
    "    \"Hall of Fame harness racing driver\",\n",
    "    \"racing driver and car constructor\",\n",
    "    \"racing driver and team manager\",\n",
    "    \"racing driver and rally driver\",\n",
    "    \"racing driver and instructor\",\n",
    "    \"racing driver and team owner\",\n",
    "    \"Hall of Fame racing driver\",\n",
    "    \"racing driver and designer\",\n",
    "    \"Indianapolis racing driver\",\n",
    "    \"professional racing driver\",\n",
    "    \"and amateur racing driver\",\n",
    "    \"Formula One racing driver\",\n",
    "    \"Grand Prix racing driver\",\n",
    "    \"open wheel racing driver\",\n",
    "    \"sprint car racing driver\",\n",
    "    \"stock car racing driver\",\n",
    "    \"off road racing driver\",\n",
    "    \"racing driver champion\",\n",
    "    \"amateur racing driver\",\n",
    "    \"motor racing driver\",\n",
    "    \"auto racing driver\",\n",
    "    \"drag racing driver\",\n",
    "    \"VLN racing driver\",\n",
    "    \"racing driver and\",\n",
    "    \"and racing driver\",\n",
    "    \"racing driver\",\n",
    "]\n",
    "sciences = []\n",
    "\n",
    "business_farming = []\n",
    "academia_humanities = []\n",
    "law_enf_military_operator = []\n",
    "spiritual = []\n",
    "social = []\n",
    "crime = []\n",
    "event_record_other = []\n",
    "other_species = []"
   ]
  },
  {
   "cell_type": "markdown",
   "id": "c17f4dac",
   "metadata": {},
   "source": [
    "#### Creating `known_for_dict` Dictionary of Category Keys and Specific Role Lists of Values"
   ]
  },
  {
   "cell_type": "code",
   "execution_count": 54,
   "id": "208a2d93",
   "metadata": {},
   "outputs": [
    {
     "data": {
      "application/javascript": [
       "\n",
       "            setTimeout(function() {\n",
       "                var nbb_cell_id = 54;\n",
       "                var nbb_unformatted_code = \"# Combining separate lists into one dictionary\\nknown_for_dict = {\\n    \\\"social\\\": social,\\n    \\\"spiritual\\\": spiritual,\\n    \\\"academia_humanities\\\": academia_humanities,\\n    \\\"business_farming\\\": business_farming,\\n    \\\"sciences\\\": sciences,\\n    \\\"politics_govt_law\\\": politics_govt_law,\\n    \\\"law_enf_military_operator\\\": law_enf_military_operator,\\n    \\\"crime\\\": crime,\\n    \\\"event_record_other\\\": event_record_other,\\n    \\\"other_species\\\": other_species,\\n    \\\"arts\\\": arts,\\n    \\\"sports\\\": sports,\\n}\";\n",
       "                var nbb_formatted_code = \"# Combining separate lists into one dictionary\\nknown_for_dict = {\\n    \\\"social\\\": social,\\n    \\\"spiritual\\\": spiritual,\\n    \\\"academia_humanities\\\": academia_humanities,\\n    \\\"business_farming\\\": business_farming,\\n    \\\"sciences\\\": sciences,\\n    \\\"politics_govt_law\\\": politics_govt_law,\\n    \\\"law_enf_military_operator\\\": law_enf_military_operator,\\n    \\\"crime\\\": crime,\\n    \\\"event_record_other\\\": event_record_other,\\n    \\\"other_species\\\": other_species,\\n    \\\"arts\\\": arts,\\n    \\\"sports\\\": sports,\\n}\";\n",
       "                var nbb_cells = Jupyter.notebook.get_cells();\n",
       "                for (var i = 0; i < nbb_cells.length; ++i) {\n",
       "                    if (nbb_cells[i].input_prompt_number == nbb_cell_id) {\n",
       "                        if (nbb_cells[i].get_text() == nbb_unformatted_code) {\n",
       "                             nbb_cells[i].set_text(nbb_formatted_code);\n",
       "                        }\n",
       "                        break;\n",
       "                    }\n",
       "                }\n",
       "            }, 500);\n",
       "            "
      ],
      "text/plain": [
       "<IPython.core.display.Javascript object>"
      ]
     },
     "metadata": {},
     "output_type": "display_data"
    }
   ],
   "source": [
    "# Combining separate lists into one dictionary\n",
    "known_for_dict = {\n",
    "    \"social\": social,\n",
    "    \"spiritual\": spiritual,\n",
    "    \"academia_humanities\": academia_humanities,\n",
    "    \"business_farming\": business_farming,\n",
    "    \"sciences\": sciences,\n",
    "    \"politics_govt_law\": politics_govt_law,\n",
    "    \"law_enf_military_operator\": law_enf_military_operator,\n",
    "    \"crime\": crime,\n",
    "    \"event_record_other\": event_record_other,\n",
    "    \"other_species\": other_species,\n",
    "    \"arts\": arts,\n",
    "    \"sports\": sports,\n",
    "}"
   ]
  },
  {
   "cell_type": "markdown",
   "id": "503f61f3",
   "metadata": {},
   "source": [
    "#### Extracting Category from `info_2`"
   ]
  },
  {
   "cell_type": "code",
   "execution_count": 55,
   "id": "f6d11677",
   "metadata": {},
   "outputs": [
    {
     "name": "stdout",
     "output_type": "stream",
     "text": [
      "CPU times: total: 37.4 s\n",
      "Wall time: 37.4 s\n"
     ]
    },
    {
     "data": {
      "text/html": [
       "<div>\n",
       "<style scoped>\n",
       "    .dataframe tbody tr th:only-of-type {\n",
       "        vertical-align: middle;\n",
       "    }\n",
       "\n",
       "    .dataframe tbody tr th {\n",
       "        vertical-align: top;\n",
       "    }\n",
       "\n",
       "    .dataframe thead th {\n",
       "        text-align: right;\n",
       "    }\n",
       "</style>\n",
       "<table border=\"1\" class=\"dataframe\">\n",
       "  <thead>\n",
       "    <tr style=\"text-align: right;\">\n",
       "      <th></th>\n",
       "      <th>day</th>\n",
       "      <th>name</th>\n",
       "      <th>info</th>\n",
       "      <th>link</th>\n",
       "      <th>num_references</th>\n",
       "      <th>year</th>\n",
       "      <th>month</th>\n",
       "      <th>info_parenth</th>\n",
       "      <th>info_1</th>\n",
       "      <th>info_2</th>\n",
       "      <th>info_3</th>\n",
       "      <th>info_4</th>\n",
       "      <th>info_5</th>\n",
       "      <th>info_6</th>\n",
       "      <th>info_7</th>\n",
       "      <th>info_8</th>\n",
       "      <th>info_9</th>\n",
       "      <th>info_10</th>\n",
       "      <th>info_11</th>\n",
       "      <th>age</th>\n",
       "      <th>cause_of_death</th>\n",
       "      <th>place_1</th>\n",
       "      <th>place_2</th>\n",
       "      <th>info_parenth_copy</th>\n",
       "      <th>log_num_references</th>\n",
       "      <th>sciences</th>\n",
       "      <th>social</th>\n",
       "      <th>spiritual</th>\n",
       "      <th>academia_humanities</th>\n",
       "      <th>business_farming</th>\n",
       "      <th>arts</th>\n",
       "      <th>sports</th>\n",
       "      <th>law_enf_military_operator</th>\n",
       "      <th>politics_govt_law</th>\n",
       "      <th>crime</th>\n",
       "      <th>event_record_other</th>\n",
       "      <th>other_species</th>\n",
       "      <th>num_categories</th>\n",
       "    </tr>\n",
       "  </thead>\n",
       "  <tbody>\n",
       "    <tr>\n",
       "      <th>32670</th>\n",
       "      <td>4</td>\n",
       "      <td>Peter Warr</td>\n",
       "      <td>, 72, British racing driver and Formula One team principal , heart attack.</td>\n",
       "      <td>https://en.wikipedia.org/wiki/Peter_Warr</td>\n",
       "      <td>9</td>\n",
       "      <td>2010</td>\n",
       "      <td>October</td>\n",
       "      <td>Lotus</td>\n",
       "      <td>None</td>\n",
       "      <td></td>\n",
       "      <td>heart attack</td>\n",
       "      <td>None</td>\n",
       "      <td>None</td>\n",
       "      <td>None</td>\n",
       "      <td>None</td>\n",
       "      <td>None</td>\n",
       "      <td>None</td>\n",
       "      <td>None</td>\n",
       "      <td>None</td>\n",
       "      <td>72.0</td>\n",
       "      <td>None</td>\n",
       "      <td>United Kingdom of Great Britain and Northern Ireland</td>\n",
       "      <td>None</td>\n",
       "      <td>Lotus</td>\n",
       "      <td>2.302585</td>\n",
       "      <td>0</td>\n",
       "      <td>0</td>\n",
       "      <td>0</td>\n",
       "      <td>0</td>\n",
       "      <td>0</td>\n",
       "      <td>0</td>\n",
       "      <td>1</td>\n",
       "      <td>0</td>\n",
       "      <td>0</td>\n",
       "      <td>0</td>\n",
       "      <td>0</td>\n",
       "      <td>0</td>\n",
       "      <td>1</td>\n",
       "    </tr>\n",
       "    <tr>\n",
       "      <th>81181</th>\n",
       "      <td>24</td>\n",
       "      <td>Roger Tattersall</td>\n",
       "      <td>, 68, English cricketer .</td>\n",
       "      <td>https://en.wikipedia.org/wiki/Roger_Tattersall</td>\n",
       "      <td>6</td>\n",
       "      <td>2020</td>\n",
       "      <td>April</td>\n",
       "      <td>Lancashire</td>\n",
       "      <td>None</td>\n",
       "      <td></td>\n",
       "      <td>None</td>\n",
       "      <td>None</td>\n",
       "      <td>None</td>\n",
       "      <td>None</td>\n",
       "      <td>None</td>\n",
       "      <td>None</td>\n",
       "      <td>None</td>\n",
       "      <td>None</td>\n",
       "      <td>None</td>\n",
       "      <td>68.0</td>\n",
       "      <td>None</td>\n",
       "      <td>United Kingdom of Great Britain and Northern Ireland</td>\n",
       "      <td>None</td>\n",
       "      <td>Lancashire</td>\n",
       "      <td>1.945910</td>\n",
       "      <td>0</td>\n",
       "      <td>0</td>\n",
       "      <td>0</td>\n",
       "      <td>0</td>\n",
       "      <td>0</td>\n",
       "      <td>0</td>\n",
       "      <td>1</td>\n",
       "      <td>0</td>\n",
       "      <td>0</td>\n",
       "      <td>0</td>\n",
       "      <td>0</td>\n",
       "      <td>0</td>\n",
       "      <td>1</td>\n",
       "    </tr>\n",
       "  </tbody>\n",
       "</table>\n",
       "</div>"
      ],
      "text/plain": [
       "      day              name  \\\n",
       "32670   4        Peter Warr   \n",
       "81181  24  Roger Tattersall   \n",
       "\n",
       "                                                                             info  \\\n",
       "32670  , 72, British racing driver and Formula One team principal , heart attack.   \n",
       "81181                                                   , 68, English cricketer .   \n",
       "\n",
       "                                                 link  num_references  year  \\\n",
       "32670        https://en.wikipedia.org/wiki/Peter_Warr               9  2010   \n",
       "81181  https://en.wikipedia.org/wiki/Roger_Tattersall               6  2020   \n",
       "\n",
       "         month info_parenth info_1 info_2        info_3 info_4 info_5 info_6  \\\n",
       "32670  October        Lotus   None         heart attack   None   None   None   \n",
       "81181    April   Lancashire   None                 None   None   None   None   \n",
       "\n",
       "      info_7 info_8 info_9 info_10 info_11   age cause_of_death  \\\n",
       "32670   None   None   None    None    None  72.0           None   \n",
       "81181   None   None   None    None    None  68.0           None   \n",
       "\n",
       "                                                    place_1 place_2  \\\n",
       "32670  United Kingdom of Great Britain and Northern Ireland    None   \n",
       "81181  United Kingdom of Great Britain and Northern Ireland    None   \n",
       "\n",
       "      info_parenth_copy  log_num_references  sciences  social  spiritual  \\\n",
       "32670             Lotus            2.302585         0       0          0   \n",
       "81181        Lancashire            1.945910         0       0          0   \n",
       "\n",
       "       academia_humanities  business_farming  arts  sports  \\\n",
       "32670                    0                 0     0       1   \n",
       "81181                    0                 0     0       1   \n",
       "\n",
       "       law_enf_military_operator  politics_govt_law  crime  \\\n",
       "32670                          0                  0      0   \n",
       "81181                          0                  0      0   \n",
       "\n",
       "       event_record_other  other_species  num_categories  \n",
       "32670                   0              0               1  \n",
       "81181                   0              0               1  "
      ]
     },
     "execution_count": 55,
     "metadata": {},
     "output_type": "execute_result"
    },
    {
     "data": {
      "application/javascript": [
       "\n",
       "            setTimeout(function() {\n",
       "                var nbb_cell_id = 55;\n",
       "                var nbb_unformatted_code = \"%%time\\n\\n# Dictionary version\\nsearch_dict = known_for_dict\\n\\n# Column to check\\ncolumn = 'info_2'\\n\\n# Dataframe\\ndataframe = df[column].notna()\\n\\n# For loop to find role in column and extract it as category\\nfor category, category_lst in search_dict.items():\\n    for role in category_lst:\\n        for index in dataframe.index:\\n            item = df.loc[index, column]\\n            if item:\\n                if role in item:\\n                    df.loc[index, category] = 1\\n                    df.loc[index, column] = item.replace(role, '').strip()\\n\\n# Updating num_categories\\ndf[\\\"num_categories\\\"] = df[known_for_dict.keys()].sum(axis=1)\\n\\n# Checking a sample of rows\\ndf[df['sports'] ==1].sample(2)\";\n",
       "                var nbb_formatted_code = \"%%time\\n\\n# Dictionary version\\nsearch_dict = known_for_dict\\n\\n# Column to check\\ncolumn = 'info_2'\\n\\n# Dataframe\\ndataframe = df[column].notna()\\n\\n# For loop to find role in column and extract it as category\\nfor category, category_lst in search_dict.items():\\n    for role in category_lst:\\n        for index in dataframe.index:\\n            item = df.loc[index, column]\\n            if item:\\n                if role in item:\\n                    df.loc[index, category] = 1\\n                    df.loc[index, column] = item.replace(role, '').strip()\\n\\n# Updating num_categories\\ndf[\\\"num_categories\\\"] = df[known_for_dict.keys()].sum(axis=1)\\n\\n# Checking a sample of rows\\ndf[df['sports'] ==1].sample(2)\";\n",
       "                var nbb_cells = Jupyter.notebook.get_cells();\n",
       "                for (var i = 0; i < nbb_cells.length; ++i) {\n",
       "                    if (nbb_cells[i].input_prompt_number == nbb_cell_id) {\n",
       "                        if (nbb_cells[i].get_text() == nbb_unformatted_code) {\n",
       "                             nbb_cells[i].set_text(nbb_formatted_code);\n",
       "                        }\n",
       "                        break;\n",
       "                    }\n",
       "                }\n",
       "            }, 500);\n",
       "            "
      ],
      "text/plain": [
       "<IPython.core.display.Javascript object>"
      ]
     },
     "metadata": {},
     "output_type": "display_data"
    }
   ],
   "source": [
    "%%time\n",
    "\n",
    "# Dictionary version\n",
    "search_dict = known_for_dict\n",
    "\n",
    "# Column to check\n",
    "column = 'info_2'\n",
    "\n",
    "# Dataframe\n",
    "dataframe = df[column].notna()\n",
    "\n",
    "# For loop to find role in column and extract it as category\n",
    "for category, category_lst in search_dict.items():\n",
    "    for role in category_lst:\n",
    "        for index in dataframe.index:\n",
    "            item = df.loc[index, column]\n",
    "            if item:\n",
    "                if role in item:\n",
    "                    df.loc[index, category] = 1\n",
    "                    df.loc[index, column] = item.replace(role, '').strip()\n",
    "\n",
    "# Updating num_categories\n",
    "df[\"num_categories\"] = df[known_for_dict.keys()].sum(axis=1)\n",
    "\n",
    "# Checking a sample of rows\n",
    "df[df['sports'] ==1].sample(2)"
   ]
  },
  {
   "cell_type": "markdown",
   "id": "5853abbc",
   "metadata": {},
   "source": [
    "#### Checking the Number of Rows without a First Category"
   ]
  },
  {
   "cell_type": "code",
   "execution_count": 56,
   "id": "f12ea4ba",
   "metadata": {},
   "outputs": [
    {
     "name": "stdout",
     "output_type": "stream",
     "text": [
      "There are 30808 entries without any known_for category.\n"
     ]
    },
    {
     "data": {
      "application/javascript": [
       "\n",
       "            setTimeout(function() {\n",
       "                var nbb_cell_id = 56;\n",
       "                var nbb_unformatted_code = \"# Checking the number of rows without a first category\\nprint(\\n    f'There are {len(df[df[\\\"num_categories\\\"]==0])} entries without any known_for category.'\\n)\";\n",
       "                var nbb_formatted_code = \"# Checking the number of rows without a first category\\nprint(\\n    f'There are {len(df[df[\\\"num_categories\\\"]==0])} entries without any known_for category.'\\n)\";\n",
       "                var nbb_cells = Jupyter.notebook.get_cells();\n",
       "                for (var i = 0; i < nbb_cells.length; ++i) {\n",
       "                    if (nbb_cells[i].input_prompt_number == nbb_cell_id) {\n",
       "                        if (nbb_cells[i].get_text() == nbb_unformatted_code) {\n",
       "                             nbb_cells[i].set_text(nbb_formatted_code);\n",
       "                        }\n",
       "                        break;\n",
       "                    }\n",
       "                }\n",
       "            }, 500);\n",
       "            "
      ],
      "text/plain": [
       "<IPython.core.display.Javascript object>"
      ]
     },
     "metadata": {},
     "output_type": "display_data"
    }
   ],
   "source": [
    "# Checking the number of rows without a first category\n",
    "print(\n",
    "    f'There are {len(df[df[\"num_categories\"]==0])} entries without any known_for category.'\n",
    ")"
   ]
  },
  {
   "cell_type": "markdown",
   "id": "9364bdd7",
   "metadata": {},
   "source": [
    "#### Observations:\n",
    "- We will proceed to rebuild `known_for_dict` for the next iteration."
   ]
  },
  {
   "cell_type": "markdown",
   "id": "12af6140",
   "metadata": {},
   "source": [
    "#### Finding `known_for` Roles in `info_2`"
   ]
  },
  {
   "cell_type": "code",
   "execution_count": 57,
   "id": "c61e4afd",
   "metadata": {},
   "outputs": [
    {
     "data": {
      "application/javascript": [
       "\n",
       "            setTimeout(function() {\n",
       "                var nbb_cell_id = 57;\n",
       "                var nbb_unformatted_code = \"# # Obtaining values for column and their counts\\n# roles_list = df[\\\"info_2\\\"].value_counts(ascending=True).index.tolist()\";\n",
       "                var nbb_formatted_code = \"# # Obtaining values for column and their counts\\n# roles_list = df[\\\"info_2\\\"].value_counts(ascending=True).index.tolist()\";\n",
       "                var nbb_cells = Jupyter.notebook.get_cells();\n",
       "                for (var i = 0; i < nbb_cells.length; ++i) {\n",
       "                    if (nbb_cells[i].input_prompt_number == nbb_cell_id) {\n",
       "                        if (nbb_cells[i].get_text() == nbb_unformatted_code) {\n",
       "                             nbb_cells[i].set_text(nbb_formatted_code);\n",
       "                        }\n",
       "                        break;\n",
       "                    }\n",
       "                }\n",
       "            }, 500);\n",
       "            "
      ],
      "text/plain": [
       "<IPython.core.display.Javascript object>"
      ]
     },
     "metadata": {},
     "output_type": "display_data"
    }
   ],
   "source": [
    "# # Obtaining values for column and their counts\n",
    "# roles_list = df[\"info_2\"].value_counts(ascending=True).index.tolist()"
   ]
  },
  {
   "cell_type": "code",
   "execution_count": 58,
   "id": "45d894db",
   "metadata": {},
   "outputs": [
    {
     "data": {
      "application/javascript": [
       "\n",
       "            setTimeout(function() {\n",
       "                var nbb_cell_id = 58;\n",
       "                var nbb_unformatted_code = \"# # Code to check each value\\n# roles_list.pop()\";\n",
       "                var nbb_formatted_code = \"# # Code to check each value\\n# roles_list.pop()\";\n",
       "                var nbb_cells = Jupyter.notebook.get_cells();\n",
       "                for (var i = 0; i < nbb_cells.length; ++i) {\n",
       "                    if (nbb_cells[i].input_prompt_number == nbb_cell_id) {\n",
       "                        if (nbb_cells[i].get_text() == nbb_unformatted_code) {\n",
       "                             nbb_cells[i].set_text(nbb_formatted_code);\n",
       "                        }\n",
       "                        break;\n",
       "                    }\n",
       "                }\n",
       "            }, 500);\n",
       "            "
      ],
      "text/plain": [
       "<IPython.core.display.Javascript object>"
      ]
     },
     "metadata": {},
     "output_type": "display_data"
    }
   ],
   "source": [
    "# # Code to check each value\n",
    "# roles_list.pop()"
   ]
  },
  {
   "cell_type": "code",
   "execution_count": 59,
   "id": "818c1253",
   "metadata": {},
   "outputs": [
    {
     "data": {
      "application/javascript": [
       "\n",
       "            setTimeout(function() {\n",
       "                var nbb_cell_id = 59;\n",
       "                var nbb_unformatted_code = \"# # Create specific_roles_list for above popped value\\n# specific_roles_list = (\\n#     df.loc[\\n#         [\\n#             index\\n#             for index in df[df[\\\"info_2\\\"].notna()].index\\n#             if \\\"art\\\" in df.loc[index, \\\"info_2\\\"]\\n#         ],\\n#         \\\"info_2\\\",\\n#     ]\\n#     .value_counts()\\n#     .index.tolist()\\n# )\";\n",
       "                var nbb_formatted_code = \"# # Create specific_roles_list for above popped value\\n# specific_roles_list = (\\n#     df.loc[\\n#         [\\n#             index\\n#             for index in df[df[\\\"info_2\\\"].notna()].index\\n#             if \\\"art\\\" in df.loc[index, \\\"info_2\\\"]\\n#         ],\\n#         \\\"info_2\\\",\\n#     ]\\n#     .value_counts()\\n#     .index.tolist()\\n# )\";\n",
       "                var nbb_cells = Jupyter.notebook.get_cells();\n",
       "                for (var i = 0; i < nbb_cells.length; ++i) {\n",
       "                    if (nbb_cells[i].input_prompt_number == nbb_cell_id) {\n",
       "                        if (nbb_cells[i].get_text() == nbb_unformatted_code) {\n",
       "                             nbb_cells[i].set_text(nbb_formatted_code);\n",
       "                        }\n",
       "                        break;\n",
       "                    }\n",
       "                }\n",
       "            }, 500);\n",
       "            "
      ],
      "text/plain": [
       "<IPython.core.display.Javascript object>"
      ]
     },
     "metadata": {},
     "output_type": "display_data"
    }
   ],
   "source": [
    "# # Create specific_roles_list for above popped value\n",
    "# specific_roles_list = (\n",
    "#     df.loc[\n",
    "#         [\n",
    "#             index\n",
    "#             for index in df[df[\"info_2\"].notna()].index\n",
    "#             if \"art\" in df.loc[index, \"info_2\"]\n",
    "#         ],\n",
    "#         \"info_2\",\n",
    "#     ]\n",
    "#     .value_counts()\n",
    "#     .index.tolist()\n",
    "# )"
   ]
  },
  {
   "cell_type": "code",
   "execution_count": 60,
   "id": "9699df75",
   "metadata": {},
   "outputs": [
    {
     "data": {
      "application/javascript": [
       "\n",
       "            setTimeout(function() {\n",
       "                var nbb_cell_id = 60;\n",
       "                var nbb_unformatted_code = \"# # Code to check each specific value\\n# specific_roles_list.pop()\";\n",
       "                var nbb_formatted_code = \"# # Code to check each specific value\\n# specific_roles_list.pop()\";\n",
       "                var nbb_cells = Jupyter.notebook.get_cells();\n",
       "                for (var i = 0; i < nbb_cells.length; ++i) {\n",
       "                    if (nbb_cells[i].input_prompt_number == nbb_cell_id) {\n",
       "                        if (nbb_cells[i].get_text() == nbb_unformatted_code) {\n",
       "                             nbb_cells[i].set_text(nbb_formatted_code);\n",
       "                        }\n",
       "                        break;\n",
       "                    }\n",
       "                }\n",
       "            }, 500);\n",
       "            "
      ],
      "text/plain": [
       "<IPython.core.display.Javascript object>"
      ]
     },
     "metadata": {},
     "output_type": "display_data"
    }
   ],
   "source": [
    "# # Code to check each specific value\n",
    "# specific_roles_list.pop()"
   ]
  },
  {
   "cell_type": "code",
   "execution_count": 61,
   "id": "b9e3d5de",
   "metadata": {},
   "outputs": [
    {
     "data": {
      "application/javascript": [
       "\n",
       "            setTimeout(function() {\n",
       "                var nbb_cell_id = 61;\n",
       "                var nbb_unformatted_code = \"# # Example code to quick-screen values that may overlap categories\\n# df.loc[[index for index in df.index if \\\"martial\\\" in df.loc[index, \\\"info\\\"]]]\";\n",
       "                var nbb_formatted_code = \"# # Example code to quick-screen values that may overlap categories\\n# df.loc[[index for index in df.index if \\\"martial\\\" in df.loc[index, \\\"info\\\"]]]\";\n",
       "                var nbb_cells = Jupyter.notebook.get_cells();\n",
       "                for (var i = 0; i < nbb_cells.length; ++i) {\n",
       "                    if (nbb_cells[i].input_prompt_number == nbb_cell_id) {\n",
       "                        if (nbb_cells[i].get_text() == nbb_unformatted_code) {\n",
       "                             nbb_cells[i].set_text(nbb_formatted_code);\n",
       "                        }\n",
       "                        break;\n",
       "                    }\n",
       "                }\n",
       "            }, 500);\n",
       "            "
      ],
      "text/plain": [
       "<IPython.core.display.Javascript object>"
      ]
     },
     "metadata": {},
     "output_type": "display_data"
    }
   ],
   "source": [
    "# # Example code to quick-screen values that may overlap categories\n",
    "# df.loc[[index for index in df.index if \"martial\" in df.loc[index, \"info\"]]]"
   ]
  },
  {
   "cell_type": "code",
   "execution_count": 62,
   "id": "7f9d6080",
   "metadata": {},
   "outputs": [
    {
     "data": {
      "application/javascript": [
       "\n",
       "            setTimeout(function() {\n",
       "                var nbb_cell_id = 62;\n",
       "                var nbb_unformatted_code = \"# # Example code to quick-check a specific entry\\n# df[df[\\\"info_2\\\"] == \\\"art instructor\\\"]\";\n",
       "                var nbb_formatted_code = \"# # Example code to quick-check a specific entry\\n# df[df[\\\"info_2\\\"] == \\\"art instructor\\\"]\";\n",
       "                var nbb_cells = Jupyter.notebook.get_cells();\n",
       "                for (var i = 0; i < nbb_cells.length; ++i) {\n",
       "                    if (nbb_cells[i].input_prompt_number == nbb_cell_id) {\n",
       "                        if (nbb_cells[i].get_text() == nbb_unformatted_code) {\n",
       "                             nbb_cells[i].set_text(nbb_formatted_code);\n",
       "                        }\n",
       "                        break;\n",
       "                    }\n",
       "                }\n",
       "            }, 500);\n",
       "            "
      ],
      "text/plain": [
       "<IPython.core.display.Javascript object>"
      ]
     },
     "metadata": {},
     "output_type": "display_data"
    }
   ],
   "source": [
    "# # Example code to quick-check a specific entry\n",
    "# df[df[\"info_2\"] == \"art instructor\"]"
   ]
  },
  {
   "cell_type": "markdown",
   "id": "de06342f",
   "metadata": {},
   "source": [
    "#### Creating Lists for Each `known_for` Category"
   ]
  },
  {
   "cell_type": "code",
   "execution_count": 63,
   "id": "59463ca5",
   "metadata": {},
   "outputs": [
    {
     "data": {
      "application/javascript": [
       "\n",
       "            setTimeout(function() {\n",
       "                var nbb_cell_id = 63;\n",
       "                var nbb_unformatted_code = \"# Creating lists for each category\\npolitics_govt_law = [\\n    \\\"first female major party candidate to run for Governor of North Carolina\\\",\\n    \\\"Principal Speaker of Green Party of and and Oxford City Councillor\\\",\\n    \\\"who trained Martin Luther King Jr and other civil rights leaders\\\",\\n    \\\"chairman of the Communist Party of and International Brigades\\\",\\n    \\\"presidential candidate for the Alliance for Democracy party\\\",\\n    \\\"threatened by McCarthyism and championed by Edward R Murrow\\\",\\n    \\\"Democratic Party member of the House of Representatives\\\",\\n    \\\"labor leader and parliamentarian for the Peronist party\\\",  # before arts\\n    \\\"convert and partner of nationalist Subhas Chandra Bose\\\",\\n    \\\"assistant secretary of the Department of Commerce and\\\",\\n    \\\"trade unionist and member of the Communist Party of\\\",\\n    \\\"presidential candidate for the Libertarian Party\\\",\\n    \\\"leader of the Islamic Renaissance Party of istan\\\",\\n    \\\"labor leader and chairman of the Communist Party\\\",\\n    \\\"first female chair of Michigan Republican Party\\\",\\n    \\\"peer and proponent of the Hollow Earth concept\\\",\\n    \\\"Secretary of Treasury from under Jimmy Carter\\\",\\n    \\\"Party student leader and later a neo figure\\\",\\n    \\\"political leader of the Communist Party of\\\",\\n    \\\"Press Secretary for President Jimmy Carter\\\",\\n    \\\"and romantic partner to Princess Margaret\\\",\\n    \\\"leader of the Progressive Unionist Party\\\",\\n    \\\"Green Party member of the House of Lords\\\",\\n    \\\"leader of the Black Panther Party\\\",\\n    \\\"leader of Beijing Communist Party\\\",\\n    \\\"member of the Bonaparte dynasty\\\",\\n    \\\"and anti apartheid campaigner\\\",\\n    \\\"State Department official and\\\",\\n    \\\"Conservative Party chairman\\\",\\n    \\\"Black Panther Party member\\\",\\n    \\\"Republican party official\\\",\\n    \\\"Communist party secretary\\\",\\n    \\\"anti apartheid campaigner\\\",\\n    \\\"anti communist partisan\\\",\\n    \\\"revolutionary thinker\\\",\\n    \\\"Yukon Party Leader\\\",\\n    \\\"Labour Party MP\\\",\\n    \\\"Communist Party\\\",\\n    \\\"party official\\\",\\n    \\\"partisan and\\\",\\n    \\\"partisan\\\",\\n]\\n\\narts = [\\n    \\\"last living member of the Carter Family country music group\\\",\\n    \\\"former bass player for Tom Petty and the Heartbreakers\\\",\\n    \\\"violinist and founder of the Amadeus Quartet\\\",\\n    \\\"animator for Betty Boop and Superman cartoons\\\",\\n    \\\"daredevil and flat Earth conspiracy theorist\\\",\\n    \\\"art collector and friend of Pablo Picasso\\\",\\n    \\\"film art director and production designer\\\",\\n    \\\"film production designer and art director\\\",\\n    \\\"arts administrator and opera director\\\",\\n    \\\"television producer and art collector\\\",\\n    \\\"art dealer and wife of Marcel Duchamp\\\",\\n    \\\"abstract expressionist art collector\\\",\\n    \\\"production designer and art director\\\",\\n    \\\"art director and production designer\\\",\\n    \\\"music critic and arts administrator\\\",\\n    \\\"Academy Awards winning art director\\\",\\n    \\\"bassist for the Modern Jazz Quartet\\\",\\n    \\\"arts administrator and music critic\\\",\\n    \\\"fashion designer and art collector\\\",\\n    \\\"filmmaker and pioneer of video art\\\",\\n    \\\"film set designer and art director\\\",\\n    \\\"art director and costume designer\\\",\\n    \\\"graphic designer and art director\\\",\\n    \\\"art publisher and magazine editor\\\",\\n    \\\"costume designer and art director\\\",\\n    \\\"horticulturalist and arts patron\\\",\\n    \\\"art critic and opera librettist\\\",\\n    \\\"art collector and gallery owner\\\",\\n    \\\"art dealer and gallery director\\\",\\n    \\\"Yup'ik artisan and craftswoman\\\",\\n    \\\"reality television participant\\\",\\n    \\\"art director ; designer of the\\\",\\n    \\\"essayist and visual art critic\\\",\\n    \\\"who specialized in Coptic art\\\",\\n    \\\"art director and set designer\\\",\\n    \\\"set designer and art director\\\",\\n    \\\"M\\u0101ori performing arts leader\\\",\\n    \\\"performing arts producer and\\\",\\n    \\\"psychiatric patient and art\\\",\\n    \\\"advertiser and art director\\\",\\n    \\\"art critic and radio host\\\",\\n    \\\"art director and designer\\\",\\n    \\\"media executive and arts\\\",\\n    \\\"art collector and patron\\\",\\n    \\\"stylist and art director\\\",\\n    \\\"film fight choreographer\\\",\\n    \\\"international art dealer\\\",\\n    \\\"theatre director and art\\\",\\n    \\\"art  Picasso biographer\\\",\\n    \\\"art and antiques dealer\\\",\\n    \\\"advocate of Native arts\\\",\\n    \\\"art theatre personality\\\",\\n    \\\"literary editor and art\\\",\\n    \\\"of art and art history\\\",\\n    \\\"and patron of the arts\\\",\\n    \\\"heiress and art patron\\\",\\n    \\\"watercolorist and art\\\",\\n    \\\"art  gallery director\\\",\\n    \\\"artisanal cheesemaker\\\",\\n    \\\"supporter of the arts\\\",\\n    \\\"modern art collector\\\",\\n    \\\"fine arts collector\\\",\\n    \\\"born art dealer and\\\",\\n    \\\"Republic art critic\\\",\\n    \\\"film and art critic\\\",\\n    \\\"biographer and art\\\",\\n    \\\"art critic and art\\\",\\n    \\\"patron of the arts\\\",\\n    \\\"arts administrator\\\",\\n    \\\"art gallery owner\\\",\\n    \\\"art collector and\\\",\\n    \\\"and art collector\\\",\\n    \\\"and arts patron\\\",\\n    \\\"art  art critic\\\",\\n    \\\"arts campaigner\\\",\\n    \\\"and art critic\\\",\\n    \\\"indigenous art\\\",\\n    \\\"art critic and\\\",\\n    \\\"art patron and\\\",\\n    \\\"art dealer and\\\",\\n    \\\"arts executive\\\",\\n    \\\"art  collector\\\",\\n    \\\"arts advocate\\\",\\n    \\\"art gallerist\\\",\\n    \\\"art director\\\",\\n    \\\"art designer\\\",\\n    \\\"art heiress\\\",\\n    \\\"arts leader\\\",\\n    \\\"art dealer\\\",\\n    \\\"arts patron\\\",\\n    \\\"art critic\\\",\\n    \\\"art patron\\\",\\n    \\\"art expert\\\",\\n    \\\"bartender\\\",\\n    \\\"and arts\\\",\\n    \\\"of arts\\\",\\n    \\\"artisan\\\",\\n    \\\"arts\\\",\\n    \\\"and art\\\",\\n    \\\"art and\\\",\\n    \\\"art\\\",\\n]\\nsports = [\\n    \\\"baseball memorabilia collector and limited partner for the Yankees\\\",  # before arts\\n    \\\"quarterback for UCLA Bruins football and the Baltimore Colts\\\",\\n    \\\"mixed martial arts fighter and UFC middleweight champion\\\",\\n    \\\"NASCAR stock car driver and partial team owner\\\",\\n    \\\"Hall of Fame Quarter Horse equestrian\\\",\\n    \\\"Football League quarterback and coach\\\",\\n    \\\"wrestler; patriarch of Hart wrestling\\\",\\n    \\\"football quarterback and halfback\\\",\\n    \\\"part owner of the Atlanta Braves\\\",\\n    \\\"mixed martial arts competitor\\\",\\n    \\\"partially quadriplegic sailor\\\",\\n    \\\"mixed martial arts fighter\\\",\\n    \\\"mixed martial arts trainer\\\",\\n    \\\"Hall of Fame darts player\\\",\\n    \\\"mixed martial art fighter\\\",\\n    \\\"baseball team part owner\\\",\\n    \\\"football quarterback and\\\",\\n    \\\"martial arts grandmaster\\\",\\n    \\\"martial arts master and\\\",\\n    \\\"martial arts instructor\\\",\\n    \\\"sports team part owner\\\",\\n    \\\"and Rangers part owner\\\",\\n    \\\"football quarterback\\\",\\n    \\\"martial arts teacher\\\",\\n    \\\"martial arts master\\\",\\n    \\\"martial arts expert\\\",\\n    \\\"darts administrator\\\",\\n    \\\"woman darts player\\\",\\n    \\\"darts player\\\",\\n    \\\"martial arts\\\",\\n    \\\"martial\\\",\\n    \\\"darts\\\",\\n]\\nsciences = [\\n    \\\"cardiothoracic surgeon who refined John Gibbon heart lung bypass machine\\\",\\n    \\\"software designer and a pioneer in artificial intelligence and robotics\\\",\\n    \\\"geomorphologist and expert on the geology of Earth and Mars\\\",\\n    \\\"doctor and inventor of the Dodrill GMR heart machine\\\",\\n    \\\"independent researcher in artificial intelligence\\\",\\n    \\\"professor of geology and earthquake expert\\\",\\n    \\\"surgeon and open heart surgery pioneer\\\",\\n    \\\"researcher in artificial intelligence\\\",\\n    \\\"astronomer at Swarthmore College\\\",\\n    \\\"geographer and cartographer\\\",\\n    \\\"cartographer and geographer\\\",\\n    \\\"heart surgeon and inventor\\\",\\n    \\\"oceanographic cartographer\\\",  # before arts\\n    \\\"pioneering heart surgeon\\\",\\n    \\\"paediatric heart surgeon\\\",\\n    \\\"and cartographer\\\",\\n    \\\"cartographer and\\\",\\n    \\\"heart surgeon\\\",\\n    \\\"cartographer\\\",\\n]\\n\\nbusiness_farming = [\\n    \\\"businesswoman; chairperson of the Clerys department store\\\",\\n    \\\"billionaire department store and hotel owner\\\",\\n    \\\"and son of Wal Mart founder Sam Walton\\\",\\n    \\\"widow of Wal Mart founder Sam Walton\\\",\\n    \\\"transportation and parts executive\\\",\\n    \\\"industrial parts executive\\\",\\n    \\\"owner of Dart Drugs Chain\\\",  # before arts\\n    \\\"and chartered accountant\\\",\\n    \\\"auto parts executive\\\",\\n    \\\"chartered accountant\\\",\\n    \\\"CEO of Earthlink\\\",\\n]\\nacademia_humanities = [\\n    \\\"professor at George Mason University\\\",\\n    \\\"and professor of Asian art history\\\",  # before arts\\n    \\\"art conservator\\\",\\n]\\nlaw_enf_military_operator = [\\n    \\\"World War I soldier and the last surviving soldier to have taken part in the Christmas truce of\\\",\\n    \\\"Deputy Director of the Department of State Office of Security\\\",\\n    \\\"police commissioner of the Philadelphia Police Department\\\",\\n    \\\"Marine Corps sergeant and recipient of nine purple hearts\\\",  # before arts\\n    \\\"World War II Jewish partisan fighter and anti avenger\\\",\\n    \\\"leader of the Bielski partisans during World War II\\\",\\n    \\\"Secretary of the Navy in the Carter administration\\\",\\n    \\\"Wehrmacht artillery and General Staff officer\\\",\\n    \\\"Navy Chief Quartermaster and aquanaut\\\",\\n    \\\"and World War II partisan fighter\\\",\\n    \\\"partisan and liaison officer\\\",\\n    \\\"partisan during World War II\\\",\\n    \\\"Sparta Battalion commander\\\",\\n    \\\"World War II partisan and\\\",\\n    \\\"wartime firefighter\\\",\\n    \\\"wartime codebreaker\\\",\\n    \\\"and quartermaster\\\",\\n    \\\"wartime commander\\\",\\n    \\\"Jewish partisan\\\",\\n    \\\"wartime spy\\\",\\n    \\\"Partisan\\\",\\n    \\\"partisan\\\",\\n]\\nspiritual = [\\n    \\\"priest who participated in the exorcism on which was based\\\",\\n    \\\"Anglican priest and Dean of Hobart from to\\\",\\n    \\\"young earth creationist leader\\\",  # before arts\\n    \\\"young Earth creationist\\\",\\n    \\\"Young Earth creationist\\\",\\n    \\\"Carthusian monk\\\",\\n    \\\"flat earther\\\",\\n]\\nsocial = []\\ncrime = [\\n    \\\"suspected drug lord and high ranking leader of the Sinaloa Cartel\\\",\\n    \\\"convict and assassin of Martin Luther King Jr\\\",\\n    \\\"drug trafficker for the Sinaloa Cartel\\\",\\n    \\\"who assassinated official Wilhelm Kube\\\",\\n    \\\"narco and member of the Cali Cartel\\\",\\n    \\\"drug lord and Sinaloa Cartel leader\\\",\\n    \\\"reputed organized crime figure and\\\",\\n    \\\"member of the Detroit Partnership\\\",  # before arts\\n    \\\"part of Watergate scandal\\\",\\n    \\\"Neturei Karta rabbi and\\\",\\n    \\\"convicted art thief\\\",\\n    \\\"drug cartel leader\\\",\\n    \\\"cartel leader\\\",\\n]\\nevent_record_other = [\\n    \\\"heart and lung patient whose wrong transplant made headlines\\\",\\n    \\\"recipient of the first artificial heart transplant\\\",  # before arts\\n]\\nother_species = []\";\n",
       "                var nbb_formatted_code = \"# Creating lists for each category\\npolitics_govt_law = [\\n    \\\"first female major party candidate to run for Governor of North Carolina\\\",\\n    \\\"Principal Speaker of Green Party of and and Oxford City Councillor\\\",\\n    \\\"who trained Martin Luther King Jr and other civil rights leaders\\\",\\n    \\\"chairman of the Communist Party of and International Brigades\\\",\\n    \\\"presidential candidate for the Alliance for Democracy party\\\",\\n    \\\"threatened by McCarthyism and championed by Edward R Murrow\\\",\\n    \\\"Democratic Party member of the House of Representatives\\\",\\n    \\\"labor leader and parliamentarian for the Peronist party\\\",  # before arts\\n    \\\"convert and partner of nationalist Subhas Chandra Bose\\\",\\n    \\\"assistant secretary of the Department of Commerce and\\\",\\n    \\\"trade unionist and member of the Communist Party of\\\",\\n    \\\"presidential candidate for the Libertarian Party\\\",\\n    \\\"leader of the Islamic Renaissance Party of istan\\\",\\n    \\\"labor leader and chairman of the Communist Party\\\",\\n    \\\"first female chair of Michigan Republican Party\\\",\\n    \\\"peer and proponent of the Hollow Earth concept\\\",\\n    \\\"Secretary of Treasury from under Jimmy Carter\\\",\\n    \\\"Party student leader and later a neo figure\\\",\\n    \\\"political leader of the Communist Party of\\\",\\n    \\\"Press Secretary for President Jimmy Carter\\\",\\n    \\\"and romantic partner to Princess Margaret\\\",\\n    \\\"leader of the Progressive Unionist Party\\\",\\n    \\\"Green Party member of the House of Lords\\\",\\n    \\\"leader of the Black Panther Party\\\",\\n    \\\"leader of Beijing Communist Party\\\",\\n    \\\"member of the Bonaparte dynasty\\\",\\n    \\\"and anti apartheid campaigner\\\",\\n    \\\"State Department official and\\\",\\n    \\\"Conservative Party chairman\\\",\\n    \\\"Black Panther Party member\\\",\\n    \\\"Republican party official\\\",\\n    \\\"Communist party secretary\\\",\\n    \\\"anti apartheid campaigner\\\",\\n    \\\"anti communist partisan\\\",\\n    \\\"revolutionary thinker\\\",\\n    \\\"Yukon Party Leader\\\",\\n    \\\"Labour Party MP\\\",\\n    \\\"Communist Party\\\",\\n    \\\"party official\\\",\\n    \\\"partisan and\\\",\\n    \\\"partisan\\\",\\n]\\n\\narts = [\\n    \\\"last living member of the Carter Family country music group\\\",\\n    \\\"former bass player for Tom Petty and the Heartbreakers\\\",\\n    \\\"violinist and founder of the Amadeus Quartet\\\",\\n    \\\"animator for Betty Boop and Superman cartoons\\\",\\n    \\\"daredevil and flat Earth conspiracy theorist\\\",\\n    \\\"art collector and friend of Pablo Picasso\\\",\\n    \\\"film art director and production designer\\\",\\n    \\\"film production designer and art director\\\",\\n    \\\"arts administrator and opera director\\\",\\n    \\\"television producer and art collector\\\",\\n    \\\"art dealer and wife of Marcel Duchamp\\\",\\n    \\\"abstract expressionist art collector\\\",\\n    \\\"production designer and art director\\\",\\n    \\\"art director and production designer\\\",\\n    \\\"music critic and arts administrator\\\",\\n    \\\"Academy Awards winning art director\\\",\\n    \\\"bassist for the Modern Jazz Quartet\\\",\\n    \\\"arts administrator and music critic\\\",\\n    \\\"fashion designer and art collector\\\",\\n    \\\"filmmaker and pioneer of video art\\\",\\n    \\\"film set designer and art director\\\",\\n    \\\"art director and costume designer\\\",\\n    \\\"graphic designer and art director\\\",\\n    \\\"art publisher and magazine editor\\\",\\n    \\\"costume designer and art director\\\",\\n    \\\"horticulturalist and arts patron\\\",\\n    \\\"art critic and opera librettist\\\",\\n    \\\"art collector and gallery owner\\\",\\n    \\\"art dealer and gallery director\\\",\\n    \\\"Yup'ik artisan and craftswoman\\\",\\n    \\\"reality television participant\\\",\\n    \\\"art director ; designer of the\\\",\\n    \\\"essayist and visual art critic\\\",\\n    \\\"who specialized in Coptic art\\\",\\n    \\\"art director and set designer\\\",\\n    \\\"set designer and art director\\\",\\n    \\\"M\\u0101ori performing arts leader\\\",\\n    \\\"performing arts producer and\\\",\\n    \\\"psychiatric patient and art\\\",\\n    \\\"advertiser and art director\\\",\\n    \\\"art critic and radio host\\\",\\n    \\\"art director and designer\\\",\\n    \\\"media executive and arts\\\",\\n    \\\"art collector and patron\\\",\\n    \\\"stylist and art director\\\",\\n    \\\"film fight choreographer\\\",\\n    \\\"international art dealer\\\",\\n    \\\"theatre director and art\\\",\\n    \\\"art  Picasso biographer\\\",\\n    \\\"art and antiques dealer\\\",\\n    \\\"advocate of Native arts\\\",\\n    \\\"art theatre personality\\\",\\n    \\\"literary editor and art\\\",\\n    \\\"of art and art history\\\",\\n    \\\"and patron of the arts\\\",\\n    \\\"heiress and art patron\\\",\\n    \\\"watercolorist and art\\\",\\n    \\\"art  gallery director\\\",\\n    \\\"artisanal cheesemaker\\\",\\n    \\\"supporter of the arts\\\",\\n    \\\"modern art collector\\\",\\n    \\\"fine arts collector\\\",\\n    \\\"born art dealer and\\\",\\n    \\\"Republic art critic\\\",\\n    \\\"film and art critic\\\",\\n    \\\"biographer and art\\\",\\n    \\\"art critic and art\\\",\\n    \\\"patron of the arts\\\",\\n    \\\"arts administrator\\\",\\n    \\\"art gallery owner\\\",\\n    \\\"art collector and\\\",\\n    \\\"and art collector\\\",\\n    \\\"and arts patron\\\",\\n    \\\"art  art critic\\\",\\n    \\\"arts campaigner\\\",\\n    \\\"and art critic\\\",\\n    \\\"indigenous art\\\",\\n    \\\"art critic and\\\",\\n    \\\"art patron and\\\",\\n    \\\"art dealer and\\\",\\n    \\\"arts executive\\\",\\n    \\\"art  collector\\\",\\n    \\\"arts advocate\\\",\\n    \\\"art gallerist\\\",\\n    \\\"art director\\\",\\n    \\\"art designer\\\",\\n    \\\"art heiress\\\",\\n    \\\"arts leader\\\",\\n    \\\"art dealer\\\",\\n    \\\"arts patron\\\",\\n    \\\"art critic\\\",\\n    \\\"art patron\\\",\\n    \\\"art expert\\\",\\n    \\\"bartender\\\",\\n    \\\"and arts\\\",\\n    \\\"of arts\\\",\\n    \\\"artisan\\\",\\n    \\\"arts\\\",\\n    \\\"and art\\\",\\n    \\\"art and\\\",\\n    \\\"art\\\",\\n]\\nsports = [\\n    \\\"baseball memorabilia collector and limited partner for the Yankees\\\",  # before arts\\n    \\\"quarterback for UCLA Bruins football and the Baltimore Colts\\\",\\n    \\\"mixed martial arts fighter and UFC middleweight champion\\\",\\n    \\\"NASCAR stock car driver and partial team owner\\\",\\n    \\\"Hall of Fame Quarter Horse equestrian\\\",\\n    \\\"Football League quarterback and coach\\\",\\n    \\\"wrestler; patriarch of Hart wrestling\\\",\\n    \\\"football quarterback and halfback\\\",\\n    \\\"part owner of the Atlanta Braves\\\",\\n    \\\"mixed martial arts competitor\\\",\\n    \\\"partially quadriplegic sailor\\\",\\n    \\\"mixed martial arts fighter\\\",\\n    \\\"mixed martial arts trainer\\\",\\n    \\\"Hall of Fame darts player\\\",\\n    \\\"mixed martial art fighter\\\",\\n    \\\"baseball team part owner\\\",\\n    \\\"football quarterback and\\\",\\n    \\\"martial arts grandmaster\\\",\\n    \\\"martial arts master and\\\",\\n    \\\"martial arts instructor\\\",\\n    \\\"sports team part owner\\\",\\n    \\\"and Rangers part owner\\\",\\n    \\\"football quarterback\\\",\\n    \\\"martial arts teacher\\\",\\n    \\\"martial arts master\\\",\\n    \\\"martial arts expert\\\",\\n    \\\"darts administrator\\\",\\n    \\\"woman darts player\\\",\\n    \\\"darts player\\\",\\n    \\\"martial arts\\\",\\n    \\\"martial\\\",\\n    \\\"darts\\\",\\n]\\nsciences = [\\n    \\\"cardiothoracic surgeon who refined John Gibbon heart lung bypass machine\\\",\\n    \\\"software designer and a pioneer in artificial intelligence and robotics\\\",\\n    \\\"geomorphologist and expert on the geology of Earth and Mars\\\",\\n    \\\"doctor and inventor of the Dodrill GMR heart machine\\\",\\n    \\\"independent researcher in artificial intelligence\\\",\\n    \\\"professor of geology and earthquake expert\\\",\\n    \\\"surgeon and open heart surgery pioneer\\\",\\n    \\\"researcher in artificial intelligence\\\",\\n    \\\"astronomer at Swarthmore College\\\",\\n    \\\"geographer and cartographer\\\",\\n    \\\"cartographer and geographer\\\",\\n    \\\"heart surgeon and inventor\\\",\\n    \\\"oceanographic cartographer\\\",  # before arts\\n    \\\"pioneering heart surgeon\\\",\\n    \\\"paediatric heart surgeon\\\",\\n    \\\"and cartographer\\\",\\n    \\\"cartographer and\\\",\\n    \\\"heart surgeon\\\",\\n    \\\"cartographer\\\",\\n]\\n\\nbusiness_farming = [\\n    \\\"businesswoman; chairperson of the Clerys department store\\\",\\n    \\\"billionaire department store and hotel owner\\\",\\n    \\\"and son of Wal Mart founder Sam Walton\\\",\\n    \\\"widow of Wal Mart founder Sam Walton\\\",\\n    \\\"transportation and parts executive\\\",\\n    \\\"industrial parts executive\\\",\\n    \\\"owner of Dart Drugs Chain\\\",  # before arts\\n    \\\"and chartered accountant\\\",\\n    \\\"auto parts executive\\\",\\n    \\\"chartered accountant\\\",\\n    \\\"CEO of Earthlink\\\",\\n]\\nacademia_humanities = [\\n    \\\"professor at George Mason University\\\",\\n    \\\"and professor of Asian art history\\\",  # before arts\\n    \\\"art conservator\\\",\\n]\\nlaw_enf_military_operator = [\\n    \\\"World War I soldier and the last surviving soldier to have taken part in the Christmas truce of\\\",\\n    \\\"Deputy Director of the Department of State Office of Security\\\",\\n    \\\"police commissioner of the Philadelphia Police Department\\\",\\n    \\\"Marine Corps sergeant and recipient of nine purple hearts\\\",  # before arts\\n    \\\"World War II Jewish partisan fighter and anti avenger\\\",\\n    \\\"leader of the Bielski partisans during World War II\\\",\\n    \\\"Secretary of the Navy in the Carter administration\\\",\\n    \\\"Wehrmacht artillery and General Staff officer\\\",\\n    \\\"Navy Chief Quartermaster and aquanaut\\\",\\n    \\\"and World War II partisan fighter\\\",\\n    \\\"partisan and liaison officer\\\",\\n    \\\"partisan during World War II\\\",\\n    \\\"Sparta Battalion commander\\\",\\n    \\\"World War II partisan and\\\",\\n    \\\"wartime firefighter\\\",\\n    \\\"wartime codebreaker\\\",\\n    \\\"and quartermaster\\\",\\n    \\\"wartime commander\\\",\\n    \\\"Jewish partisan\\\",\\n    \\\"wartime spy\\\",\\n    \\\"Partisan\\\",\\n    \\\"partisan\\\",\\n]\\nspiritual = [\\n    \\\"priest who participated in the exorcism on which was based\\\",\\n    \\\"Anglican priest and Dean of Hobart from to\\\",\\n    \\\"young earth creationist leader\\\",  # before arts\\n    \\\"young Earth creationist\\\",\\n    \\\"Young Earth creationist\\\",\\n    \\\"Carthusian monk\\\",\\n    \\\"flat earther\\\",\\n]\\nsocial = []\\ncrime = [\\n    \\\"suspected drug lord and high ranking leader of the Sinaloa Cartel\\\",\\n    \\\"convict and assassin of Martin Luther King Jr\\\",\\n    \\\"drug trafficker for the Sinaloa Cartel\\\",\\n    \\\"who assassinated official Wilhelm Kube\\\",\\n    \\\"narco and member of the Cali Cartel\\\",\\n    \\\"drug lord and Sinaloa Cartel leader\\\",\\n    \\\"reputed organized crime figure and\\\",\\n    \\\"member of the Detroit Partnership\\\",  # before arts\\n    \\\"part of Watergate scandal\\\",\\n    \\\"Neturei Karta rabbi and\\\",\\n    \\\"convicted art thief\\\",\\n    \\\"drug cartel leader\\\",\\n    \\\"cartel leader\\\",\\n]\\nevent_record_other = [\\n    \\\"heart and lung patient whose wrong transplant made headlines\\\",\\n    \\\"recipient of the first artificial heart transplant\\\",  # before arts\\n]\\nother_species = []\";\n",
       "                var nbb_cells = Jupyter.notebook.get_cells();\n",
       "                for (var i = 0; i < nbb_cells.length; ++i) {\n",
       "                    if (nbb_cells[i].input_prompt_number == nbb_cell_id) {\n",
       "                        if (nbb_cells[i].get_text() == nbb_unformatted_code) {\n",
       "                             nbb_cells[i].set_text(nbb_formatted_code);\n",
       "                        }\n",
       "                        break;\n",
       "                    }\n",
       "                }\n",
       "            }, 500);\n",
       "            "
      ],
      "text/plain": [
       "<IPython.core.display.Javascript object>"
      ]
     },
     "metadata": {},
     "output_type": "display_data"
    }
   ],
   "source": [
    "# Creating lists for each category\n",
    "politics_govt_law = [\n",
    "    \"first female major party candidate to run for Governor of North Carolina\",\n",
    "    \"Principal Speaker of Green Party of and and Oxford City Councillor\",\n",
    "    \"who trained Martin Luther King Jr and other civil rights leaders\",\n",
    "    \"chairman of the Communist Party of and International Brigades\",\n",
    "    \"presidential candidate for the Alliance for Democracy party\",\n",
    "    \"threatened by McCarthyism and championed by Edward R Murrow\",\n",
    "    \"Democratic Party member of the House of Representatives\",\n",
    "    \"labor leader and parliamentarian for the Peronist party\",  # before arts\n",
    "    \"convert and partner of nationalist Subhas Chandra Bose\",\n",
    "    \"assistant secretary of the Department of Commerce and\",\n",
    "    \"trade unionist and member of the Communist Party of\",\n",
    "    \"presidential candidate for the Libertarian Party\",\n",
    "    \"leader of the Islamic Renaissance Party of istan\",\n",
    "    \"labor leader and chairman of the Communist Party\",\n",
    "    \"first female chair of Michigan Republican Party\",\n",
    "    \"peer and proponent of the Hollow Earth concept\",\n",
    "    \"Secretary of Treasury from under Jimmy Carter\",\n",
    "    \"Party student leader and later a neo figure\",\n",
    "    \"political leader of the Communist Party of\",\n",
    "    \"Press Secretary for President Jimmy Carter\",\n",
    "    \"and romantic partner to Princess Margaret\",\n",
    "    \"leader of the Progressive Unionist Party\",\n",
    "    \"Green Party member of the House of Lords\",\n",
    "    \"leader of the Black Panther Party\",\n",
    "    \"leader of Beijing Communist Party\",\n",
    "    \"member of the Bonaparte dynasty\",\n",
    "    \"and anti apartheid campaigner\",\n",
    "    \"State Department official and\",\n",
    "    \"Conservative Party chairman\",\n",
    "    \"Black Panther Party member\",\n",
    "    \"Republican party official\",\n",
    "    \"Communist party secretary\",\n",
    "    \"anti apartheid campaigner\",\n",
    "    \"anti communist partisan\",\n",
    "    \"revolutionary thinker\",\n",
    "    \"Yukon Party Leader\",\n",
    "    \"Labour Party MP\",\n",
    "    \"Communist Party\",\n",
    "    \"party official\",\n",
    "    \"partisan and\",\n",
    "    \"partisan\",\n",
    "]\n",
    "\n",
    "arts = [\n",
    "    \"last living member of the Carter Family country music group\",\n",
    "    \"former bass player for Tom Petty and the Heartbreakers\",\n",
    "    \"violinist and founder of the Amadeus Quartet\",\n",
    "    \"animator for Betty Boop and Superman cartoons\",\n",
    "    \"daredevil and flat Earth conspiracy theorist\",\n",
    "    \"art collector and friend of Pablo Picasso\",\n",
    "    \"film art director and production designer\",\n",
    "    \"film production designer and art director\",\n",
    "    \"arts administrator and opera director\",\n",
    "    \"television producer and art collector\",\n",
    "    \"art dealer and wife of Marcel Duchamp\",\n",
    "    \"abstract expressionist art collector\",\n",
    "    \"production designer and art director\",\n",
    "    \"art director and production designer\",\n",
    "    \"music critic and arts administrator\",\n",
    "    \"Academy Awards winning art director\",\n",
    "    \"bassist for the Modern Jazz Quartet\",\n",
    "    \"arts administrator and music critic\",\n",
    "    \"fashion designer and art collector\",\n",
    "    \"filmmaker and pioneer of video art\",\n",
    "    \"film set designer and art director\",\n",
    "    \"art director and costume designer\",\n",
    "    \"graphic designer and art director\",\n",
    "    \"art publisher and magazine editor\",\n",
    "    \"costume designer and art director\",\n",
    "    \"horticulturalist and arts patron\",\n",
    "    \"art critic and opera librettist\",\n",
    "    \"art collector and gallery owner\",\n",
    "    \"art dealer and gallery director\",\n",
    "    \"Yup'ik artisan and craftswoman\",\n",
    "    \"reality television participant\",\n",
    "    \"art director ; designer of the\",\n",
    "    \"essayist and visual art critic\",\n",
    "    \"who specialized in Coptic art\",\n",
    "    \"art director and set designer\",\n",
    "    \"set designer and art director\",\n",
    "    \"Māori performing arts leader\",\n",
    "    \"performing arts producer and\",\n",
    "    \"psychiatric patient and art\",\n",
    "    \"advertiser and art director\",\n",
    "    \"art critic and radio host\",\n",
    "    \"art director and designer\",\n",
    "    \"media executive and arts\",\n",
    "    \"art collector and patron\",\n",
    "    \"stylist and art director\",\n",
    "    \"film fight choreographer\",\n",
    "    \"international art dealer\",\n",
    "    \"theatre director and art\",\n",
    "    \"art  Picasso biographer\",\n",
    "    \"art and antiques dealer\",\n",
    "    \"advocate of Native arts\",\n",
    "    \"art theatre personality\",\n",
    "    \"literary editor and art\",\n",
    "    \"of art and art history\",\n",
    "    \"and patron of the arts\",\n",
    "    \"heiress and art patron\",\n",
    "    \"watercolorist and art\",\n",
    "    \"art  gallery director\",\n",
    "    \"artisanal cheesemaker\",\n",
    "    \"supporter of the arts\",\n",
    "    \"modern art collector\",\n",
    "    \"fine arts collector\",\n",
    "    \"born art dealer and\",\n",
    "    \"Republic art critic\",\n",
    "    \"film and art critic\",\n",
    "    \"biographer and art\",\n",
    "    \"art critic and art\",\n",
    "    \"patron of the arts\",\n",
    "    \"arts administrator\",\n",
    "    \"art gallery owner\",\n",
    "    \"art collector and\",\n",
    "    \"and art collector\",\n",
    "    \"and arts patron\",\n",
    "    \"art  art critic\",\n",
    "    \"arts campaigner\",\n",
    "    \"and art critic\",\n",
    "    \"indigenous art\",\n",
    "    \"art critic and\",\n",
    "    \"art patron and\",\n",
    "    \"art dealer and\",\n",
    "    \"arts executive\",\n",
    "    \"art  collector\",\n",
    "    \"arts advocate\",\n",
    "    \"art gallerist\",\n",
    "    \"art director\",\n",
    "    \"art designer\",\n",
    "    \"art heiress\",\n",
    "    \"arts leader\",\n",
    "    \"art dealer\",\n",
    "    \"arts patron\",\n",
    "    \"art critic\",\n",
    "    \"art patron\",\n",
    "    \"art expert\",\n",
    "    \"bartender\",\n",
    "    \"and arts\",\n",
    "    \"of arts\",\n",
    "    \"artisan\",\n",
    "    \"arts\",\n",
    "    \"and art\",\n",
    "    \"art and\",\n",
    "    \"art\",\n",
    "]\n",
    "sports = [\n",
    "    \"baseball memorabilia collector and limited partner for the Yankees\",  # before arts\n",
    "    \"quarterback for UCLA Bruins football and the Baltimore Colts\",\n",
    "    \"mixed martial arts fighter and UFC middleweight champion\",\n",
    "    \"NASCAR stock car driver and partial team owner\",\n",
    "    \"Hall of Fame Quarter Horse equestrian\",\n",
    "    \"Football League quarterback and coach\",\n",
    "    \"wrestler; patriarch of Hart wrestling\",\n",
    "    \"football quarterback and halfback\",\n",
    "    \"part owner of the Atlanta Braves\",\n",
    "    \"mixed martial arts competitor\",\n",
    "    \"partially quadriplegic sailor\",\n",
    "    \"mixed martial arts fighter\",\n",
    "    \"mixed martial arts trainer\",\n",
    "    \"Hall of Fame darts player\",\n",
    "    \"mixed martial art fighter\",\n",
    "    \"baseball team part owner\",\n",
    "    \"football quarterback and\",\n",
    "    \"martial arts grandmaster\",\n",
    "    \"martial arts master and\",\n",
    "    \"martial arts instructor\",\n",
    "    \"sports team part owner\",\n",
    "    \"and Rangers part owner\",\n",
    "    \"football quarterback\",\n",
    "    \"martial arts teacher\",\n",
    "    \"martial arts master\",\n",
    "    \"martial arts expert\",\n",
    "    \"darts administrator\",\n",
    "    \"woman darts player\",\n",
    "    \"darts player\",\n",
    "    \"martial arts\",\n",
    "    \"martial\",\n",
    "    \"darts\",\n",
    "]\n",
    "sciences = [\n",
    "    \"cardiothoracic surgeon who refined John Gibbon heart lung bypass machine\",\n",
    "    \"software designer and a pioneer in artificial intelligence and robotics\",\n",
    "    \"geomorphologist and expert on the geology of Earth and Mars\",\n",
    "    \"doctor and inventor of the Dodrill GMR heart machine\",\n",
    "    \"independent researcher in artificial intelligence\",\n",
    "    \"professor of geology and earthquake expert\",\n",
    "    \"surgeon and open heart surgery pioneer\",\n",
    "    \"researcher in artificial intelligence\",\n",
    "    \"astronomer at Swarthmore College\",\n",
    "    \"geographer and cartographer\",\n",
    "    \"cartographer and geographer\",\n",
    "    \"heart surgeon and inventor\",\n",
    "    \"oceanographic cartographer\",  # before arts\n",
    "    \"pioneering heart surgeon\",\n",
    "    \"paediatric heart surgeon\",\n",
    "    \"and cartographer\",\n",
    "    \"cartographer and\",\n",
    "    \"heart surgeon\",\n",
    "    \"cartographer\",\n",
    "]\n",
    "\n",
    "business_farming = [\n",
    "    \"businesswoman; chairperson of the Clerys department store\",\n",
    "    \"billionaire department store and hotel owner\",\n",
    "    \"and son of Wal Mart founder Sam Walton\",\n",
    "    \"widow of Wal Mart founder Sam Walton\",\n",
    "    \"transportation and parts executive\",\n",
    "    \"industrial parts executive\",\n",
    "    \"owner of Dart Drugs Chain\",  # before arts\n",
    "    \"and chartered accountant\",\n",
    "    \"auto parts executive\",\n",
    "    \"chartered accountant\",\n",
    "    \"CEO of Earthlink\",\n",
    "]\n",
    "academia_humanities = [\n",
    "    \"professor at George Mason University\",\n",
    "    \"and professor of Asian art history\",  # before arts\n",
    "    \"art conservator\",\n",
    "]\n",
    "law_enf_military_operator = [\n",
    "    \"World War I soldier and the last surviving soldier to have taken part in the Christmas truce of\",\n",
    "    \"Deputy Director of the Department of State Office of Security\",\n",
    "    \"police commissioner of the Philadelphia Police Department\",\n",
    "    \"Marine Corps sergeant and recipient of nine purple hearts\",  # before arts\n",
    "    \"World War II Jewish partisan fighter and anti avenger\",\n",
    "    \"leader of the Bielski partisans during World War II\",\n",
    "    \"Secretary of the Navy in the Carter administration\",\n",
    "    \"Wehrmacht artillery and General Staff officer\",\n",
    "    \"Navy Chief Quartermaster and aquanaut\",\n",
    "    \"and World War II partisan fighter\",\n",
    "    \"partisan and liaison officer\",\n",
    "    \"partisan during World War II\",\n",
    "    \"Sparta Battalion commander\",\n",
    "    \"World War II partisan and\",\n",
    "    \"wartime firefighter\",\n",
    "    \"wartime codebreaker\",\n",
    "    \"and quartermaster\",\n",
    "    \"wartime commander\",\n",
    "    \"Jewish partisan\",\n",
    "    \"wartime spy\",\n",
    "    \"Partisan\",\n",
    "    \"partisan\",\n",
    "]\n",
    "spiritual = [\n",
    "    \"priest who participated in the exorcism on which was based\",\n",
    "    \"Anglican priest and Dean of Hobart from to\",\n",
    "    \"young earth creationist leader\",  # before arts\n",
    "    \"young Earth creationist\",\n",
    "    \"Young Earth creationist\",\n",
    "    \"Carthusian monk\",\n",
    "    \"flat earther\",\n",
    "]\n",
    "social = []\n",
    "crime = [\n",
    "    \"suspected drug lord and high ranking leader of the Sinaloa Cartel\",\n",
    "    \"convict and assassin of Martin Luther King Jr\",\n",
    "    \"drug trafficker for the Sinaloa Cartel\",\n",
    "    \"who assassinated official Wilhelm Kube\",\n",
    "    \"narco and member of the Cali Cartel\",\n",
    "    \"drug lord and Sinaloa Cartel leader\",\n",
    "    \"reputed organized crime figure and\",\n",
    "    \"member of the Detroit Partnership\",  # before arts\n",
    "    \"part of Watergate scandal\",\n",
    "    \"Neturei Karta rabbi and\",\n",
    "    \"convicted art thief\",\n",
    "    \"drug cartel leader\",\n",
    "    \"cartel leader\",\n",
    "]\n",
    "event_record_other = [\n",
    "    \"heart and lung patient whose wrong transplant made headlines\",\n",
    "    \"recipient of the first artificial heart transplant\",  # before arts\n",
    "]\n",
    "other_species = []"
   ]
  },
  {
   "cell_type": "markdown",
   "id": "4f4aea72",
   "metadata": {},
   "source": [
    "#### Creating `known_for_dict` Dictionary of Category Keys and Specific Role Lists of Values"
   ]
  },
  {
   "cell_type": "code",
   "execution_count": 64,
   "id": "4ed308e2",
   "metadata": {},
   "outputs": [
    {
     "data": {
      "application/javascript": [
       "\n",
       "            setTimeout(function() {\n",
       "                var nbb_cell_id = 64;\n",
       "                var nbb_unformatted_code = \"# Combining separate lists into one dictionary\\nknown_for_dict = {\\n    \\\"social\\\": social,\\n    \\\"spiritual\\\": spiritual,\\n    \\\"academia_humanities\\\": academia_humanities,\\n    \\\"business_farming\\\": business_farming,\\n    \\\"sciences\\\": sciences,\\n    \\\"politics_govt_law\\\": politics_govt_law,\\n    \\\"law_enf_military_operator\\\": law_enf_military_operator,\\n    \\\"crime\\\": crime,\\n    \\\"event_record_other\\\": event_record_other,\\n    \\\"other_species\\\": other_species,\\n    \\\"sports\\\": sports,\\n    \\\"arts\\\": arts,\\n}\";\n",
       "                var nbb_formatted_code = \"# Combining separate lists into one dictionary\\nknown_for_dict = {\\n    \\\"social\\\": social,\\n    \\\"spiritual\\\": spiritual,\\n    \\\"academia_humanities\\\": academia_humanities,\\n    \\\"business_farming\\\": business_farming,\\n    \\\"sciences\\\": sciences,\\n    \\\"politics_govt_law\\\": politics_govt_law,\\n    \\\"law_enf_military_operator\\\": law_enf_military_operator,\\n    \\\"crime\\\": crime,\\n    \\\"event_record_other\\\": event_record_other,\\n    \\\"other_species\\\": other_species,\\n    \\\"sports\\\": sports,\\n    \\\"arts\\\": arts,\\n}\";\n",
       "                var nbb_cells = Jupyter.notebook.get_cells();\n",
       "                for (var i = 0; i < nbb_cells.length; ++i) {\n",
       "                    if (nbb_cells[i].input_prompt_number == nbb_cell_id) {\n",
       "                        if (nbb_cells[i].get_text() == nbb_unformatted_code) {\n",
       "                             nbb_cells[i].set_text(nbb_formatted_code);\n",
       "                        }\n",
       "                        break;\n",
       "                    }\n",
       "                }\n",
       "            }, 500);\n",
       "            "
      ],
      "text/plain": [
       "<IPython.core.display.Javascript object>"
      ]
     },
     "metadata": {},
     "output_type": "display_data"
    }
   ],
   "source": [
    "# Combining separate lists into one dictionary\n",
    "known_for_dict = {\n",
    "    \"social\": social,\n",
    "    \"spiritual\": spiritual,\n",
    "    \"academia_humanities\": academia_humanities,\n",
    "    \"business_farming\": business_farming,\n",
    "    \"sciences\": sciences,\n",
    "    \"politics_govt_law\": politics_govt_law,\n",
    "    \"law_enf_military_operator\": law_enf_military_operator,\n",
    "    \"crime\": crime,\n",
    "    \"event_record_other\": event_record_other,\n",
    "    \"other_species\": other_species,\n",
    "    \"sports\": sports,\n",
    "    \"arts\": arts,\n",
    "}"
   ]
  },
  {
   "cell_type": "markdown",
   "id": "dcb19186",
   "metadata": {},
   "source": [
    "#### Extracting Category from `info_2`"
   ]
  },
  {
   "cell_type": "code",
   "execution_count": 65,
   "id": "518b6445",
   "metadata": {},
   "outputs": [
    {
     "name": "stdout",
     "output_type": "stream",
     "text": [
      "CPU times: total: 2min 13s\n",
      "Wall time: 2min 13s\n"
     ]
    },
    {
     "data": {
      "text/html": [
       "<div>\n",
       "<style scoped>\n",
       "    .dataframe tbody tr th:only-of-type {\n",
       "        vertical-align: middle;\n",
       "    }\n",
       "\n",
       "    .dataframe tbody tr th {\n",
       "        vertical-align: top;\n",
       "    }\n",
       "\n",
       "    .dataframe thead th {\n",
       "        text-align: right;\n",
       "    }\n",
       "</style>\n",
       "<table border=\"1\" class=\"dataframe\">\n",
       "  <thead>\n",
       "    <tr style=\"text-align: right;\">\n",
       "      <th></th>\n",
       "      <th>day</th>\n",
       "      <th>name</th>\n",
       "      <th>info</th>\n",
       "      <th>link</th>\n",
       "      <th>num_references</th>\n",
       "      <th>year</th>\n",
       "      <th>month</th>\n",
       "      <th>info_parenth</th>\n",
       "      <th>info_1</th>\n",
       "      <th>info_2</th>\n",
       "      <th>info_3</th>\n",
       "      <th>info_4</th>\n",
       "      <th>info_5</th>\n",
       "      <th>info_6</th>\n",
       "      <th>info_7</th>\n",
       "      <th>info_8</th>\n",
       "      <th>info_9</th>\n",
       "      <th>info_10</th>\n",
       "      <th>info_11</th>\n",
       "      <th>age</th>\n",
       "      <th>cause_of_death</th>\n",
       "      <th>place_1</th>\n",
       "      <th>place_2</th>\n",
       "      <th>info_parenth_copy</th>\n",
       "      <th>log_num_references</th>\n",
       "      <th>sciences</th>\n",
       "      <th>social</th>\n",
       "      <th>spiritual</th>\n",
       "      <th>academia_humanities</th>\n",
       "      <th>business_farming</th>\n",
       "      <th>arts</th>\n",
       "      <th>sports</th>\n",
       "      <th>law_enf_military_operator</th>\n",
       "      <th>politics_govt_law</th>\n",
       "      <th>crime</th>\n",
       "      <th>event_record_other</th>\n",
       "      <th>other_species</th>\n",
       "      <th>num_categories</th>\n",
       "    </tr>\n",
       "  </thead>\n",
       "  <tbody>\n",
       "    <tr>\n",
       "      <th>2555</th>\n",
       "      <td>7</td>\n",
       "      <td>Thomas Tyra</td>\n",
       "      <td>, 62, American composer, arranger, and bandmaster.</td>\n",
       "      <td>https://en.wikipedia.org/wiki/Thomas_Tyra</td>\n",
       "      <td>19</td>\n",
       "      <td>1995</td>\n",
       "      <td>July</td>\n",
       "      <td>None</td>\n",
       "      <td>None</td>\n",
       "      <td></td>\n",
       "      <td>arranger</td>\n",
       "      <td>and bandmaster</td>\n",
       "      <td>None</td>\n",
       "      <td>None</td>\n",
       "      <td>None</td>\n",
       "      <td>None</td>\n",
       "      <td>None</td>\n",
       "      <td>None</td>\n",
       "      <td>None</td>\n",
       "      <td>62.0</td>\n",
       "      <td>None</td>\n",
       "      <td>United States of America</td>\n",
       "      <td>None</td>\n",
       "      <td>None</td>\n",
       "      <td>2.995732</td>\n",
       "      <td>0</td>\n",
       "      <td>0</td>\n",
       "      <td>0</td>\n",
       "      <td>0</td>\n",
       "      <td>0</td>\n",
       "      <td>1</td>\n",
       "      <td>0</td>\n",
       "      <td>0</td>\n",
       "      <td>0</td>\n",
       "      <td>0</td>\n",
       "      <td>0</td>\n",
       "      <td>0</td>\n",
       "      <td>1</td>\n",
       "    </tr>\n",
       "    <tr>\n",
       "      <th>23470</th>\n",
       "      <td>5</td>\n",
       "      <td>Povel Ramel</td>\n",
       "      <td>, 85, Swedish artist, singer, pianist, comedian, actor, author.</td>\n",
       "      <td>https://en.wikipedia.org/wiki/Povel_Ramel</td>\n",
       "      <td>4</td>\n",
       "      <td>2007</td>\n",
       "      <td>June</td>\n",
       "      <td>None</td>\n",
       "      <td>None</td>\n",
       "      <td></td>\n",
       "      <td>singer</td>\n",
       "      <td>pianist</td>\n",
       "      <td>comedian</td>\n",
       "      <td>actor</td>\n",
       "      <td>author</td>\n",
       "      <td>None</td>\n",
       "      <td>None</td>\n",
       "      <td>None</td>\n",
       "      <td>None</td>\n",
       "      <td>85.0</td>\n",
       "      <td>None</td>\n",
       "      <td>Sweden</td>\n",
       "      <td>None</td>\n",
       "      <td>None</td>\n",
       "      <td>1.609438</td>\n",
       "      <td>0</td>\n",
       "      <td>0</td>\n",
       "      <td>0</td>\n",
       "      <td>0</td>\n",
       "      <td>0</td>\n",
       "      <td>1</td>\n",
       "      <td>0</td>\n",
       "      <td>0</td>\n",
       "      <td>0</td>\n",
       "      <td>0</td>\n",
       "      <td>0</td>\n",
       "      <td>0</td>\n",
       "      <td>1</td>\n",
       "    </tr>\n",
       "  </tbody>\n",
       "</table>\n",
       "</div>"
      ],
      "text/plain": [
       "      day         name  \\\n",
       "2555    7  Thomas Tyra   \n",
       "23470   5  Povel Ramel   \n",
       "\n",
       "                                                                  info  \\\n",
       "2555                , 62, American composer, arranger, and bandmaster.   \n",
       "23470  , 85, Swedish artist, singer, pianist, comedian, actor, author.   \n",
       "\n",
       "                                            link  num_references  year month  \\\n",
       "2555   https://en.wikipedia.org/wiki/Thomas_Tyra              19  1995  July   \n",
       "23470  https://en.wikipedia.org/wiki/Povel_Ramel               4  2007  June   \n",
       "\n",
       "      info_parenth info_1 info_2    info_3          info_4    info_5 info_6  \\\n",
       "2555          None   None         arranger  and bandmaster      None   None   \n",
       "23470         None   None           singer         pianist  comedian  actor   \n",
       "\n",
       "       info_7 info_8 info_9 info_10 info_11   age cause_of_death  \\\n",
       "2555     None   None   None    None    None  62.0           None   \n",
       "23470  author   None   None    None    None  85.0           None   \n",
       "\n",
       "                        place_1 place_2 info_parenth_copy  log_num_references  \\\n",
       "2555   United States of America    None              None            2.995732   \n",
       "23470                    Sweden    None              None            1.609438   \n",
       "\n",
       "       sciences  social  spiritual  academia_humanities  business_farming  \\\n",
       "2555          0       0          0                    0                 0   \n",
       "23470         0       0          0                    0                 0   \n",
       "\n",
       "       arts  sports  law_enf_military_operator  politics_govt_law  crime  \\\n",
       "2555      1       0                          0                  0      0   \n",
       "23470     1       0                          0                  0      0   \n",
       "\n",
       "       event_record_other  other_species  num_categories  \n",
       "2555                    0              0               1  \n",
       "23470                   0              0               1  "
      ]
     },
     "execution_count": 65,
     "metadata": {},
     "output_type": "execute_result"
    },
    {
     "data": {
      "application/javascript": [
       "\n",
       "            setTimeout(function() {\n",
       "                var nbb_cell_id = 65;\n",
       "                var nbb_unformatted_code = \"%%time\\n\\n# Dictionary version\\nsearch_dict = known_for_dict\\n\\n# Column to check\\ncolumn = 'info_2'\\n\\n# Dataframe\\ndataframe = df[column].notna()\\n\\n# For loop to find role in column and extract it as category\\nfor category, category_lst in search_dict.items():\\n    for role in category_lst:\\n        for index in dataframe.index:\\n            item = df.loc[index, column]\\n            if item:\\n                if role in item:\\n                    df.loc[index, category] = 1\\n                    df.loc[index, column] = item.replace(role, '').strip()\\n\\n# Updating num_categories\\ndf[\\\"num_categories\\\"] = df[known_for_dict.keys()].sum(axis=1)\\n\\n# Checking a sample of rows\\ndf[df['arts'] ==1].sample(2)\";\n",
       "                var nbb_formatted_code = \"%%time\\n\\n# Dictionary version\\nsearch_dict = known_for_dict\\n\\n# Column to check\\ncolumn = 'info_2'\\n\\n# Dataframe\\ndataframe = df[column].notna()\\n\\n# For loop to find role in column and extract it as category\\nfor category, category_lst in search_dict.items():\\n    for role in category_lst:\\n        for index in dataframe.index:\\n            item = df.loc[index, column]\\n            if item:\\n                if role in item:\\n                    df.loc[index, category] = 1\\n                    df.loc[index, column] = item.replace(role, '').strip()\\n\\n# Updating num_categories\\ndf[\\\"num_categories\\\"] = df[known_for_dict.keys()].sum(axis=1)\\n\\n# Checking a sample of rows\\ndf[df['arts'] ==1].sample(2)\";\n",
       "                var nbb_cells = Jupyter.notebook.get_cells();\n",
       "                for (var i = 0; i < nbb_cells.length; ++i) {\n",
       "                    if (nbb_cells[i].input_prompt_number == nbb_cell_id) {\n",
       "                        if (nbb_cells[i].get_text() == nbb_unformatted_code) {\n",
       "                             nbb_cells[i].set_text(nbb_formatted_code);\n",
       "                        }\n",
       "                        break;\n",
       "                    }\n",
       "                }\n",
       "            }, 500);\n",
       "            "
      ],
      "text/plain": [
       "<IPython.core.display.Javascript object>"
      ]
     },
     "metadata": {},
     "output_type": "display_data"
    }
   ],
   "source": [
    "%%time\n",
    "\n",
    "# Dictionary version\n",
    "search_dict = known_for_dict\n",
    "\n",
    "# Column to check\n",
    "column = 'info_2'\n",
    "\n",
    "# Dataframe\n",
    "dataframe = df[column].notna()\n",
    "\n",
    "# For loop to find role in column and extract it as category\n",
    "for category, category_lst in search_dict.items():\n",
    "    for role in category_lst:\n",
    "        for index in dataframe.index:\n",
    "            item = df.loc[index, column]\n",
    "            if item:\n",
    "                if role in item:\n",
    "                    df.loc[index, category] = 1\n",
    "                    df.loc[index, column] = item.replace(role, '').strip()\n",
    "\n",
    "# Updating num_categories\n",
    "df[\"num_categories\"] = df[known_for_dict.keys()].sum(axis=1)\n",
    "\n",
    "# Checking a sample of rows\n",
    "df[df['arts'] ==1].sample(2)"
   ]
  },
  {
   "cell_type": "markdown",
   "id": "e4fb97c9",
   "metadata": {},
   "source": [
    "#### Checking the Number of Rows without a First Category"
   ]
  },
  {
   "cell_type": "code",
   "execution_count": 66,
   "id": "bbb2e185",
   "metadata": {},
   "outputs": [
    {
     "name": "stdout",
     "output_type": "stream",
     "text": [
      "There are 30451 entries without any known_for category.\n"
     ]
    },
    {
     "data": {
      "application/javascript": [
       "\n",
       "            setTimeout(function() {\n",
       "                var nbb_cell_id = 66;\n",
       "                var nbb_unformatted_code = \"# Checking the number of rows without a first category\\nprint(\\n    f'There are {len(df[df[\\\"num_categories\\\"]==0])} entries without any known_for category.'\\n)\";\n",
       "                var nbb_formatted_code = \"# Checking the number of rows without a first category\\nprint(\\n    f'There are {len(df[df[\\\"num_categories\\\"]==0])} entries without any known_for category.'\\n)\";\n",
       "                var nbb_cells = Jupyter.notebook.get_cells();\n",
       "                for (var i = 0; i < nbb_cells.length; ++i) {\n",
       "                    if (nbb_cells[i].input_prompt_number == nbb_cell_id) {\n",
       "                        if (nbb_cells[i].get_text() == nbb_unformatted_code) {\n",
       "                             nbb_cells[i].set_text(nbb_formatted_code);\n",
       "                        }\n",
       "                        break;\n",
       "                    }\n",
       "                }\n",
       "            }, 500);\n",
       "            "
      ],
      "text/plain": [
       "<IPython.core.display.Javascript object>"
      ]
     },
     "metadata": {},
     "output_type": "display_data"
    }
   ],
   "source": [
    "# Checking the number of rows without a first category\n",
    "print(\n",
    "    f'There are {len(df[df[\"num_categories\"]==0])} entries without any known_for category.'\n",
    ")"
   ]
  },
  {
   "cell_type": "markdown",
   "id": "111b30af",
   "metadata": {},
   "source": [
    "#### Observations:\n",
    "- We will proceed to rebuild `known_for_dict` for the next iteration."
   ]
  },
  {
   "cell_type": "markdown",
   "id": "c14d8557",
   "metadata": {},
   "source": [
    "#### Finding `known_for` Roles in `info_2`"
   ]
  },
  {
   "cell_type": "code",
   "execution_count": 67,
   "id": "382ce3a3",
   "metadata": {},
   "outputs": [
    {
     "data": {
      "application/javascript": [
       "\n",
       "            setTimeout(function() {\n",
       "                var nbb_cell_id = 67;\n",
       "                var nbb_unformatted_code = \"# # Obtaining values for column and their counts\\n# roles_list = df[\\\"info_2\\\"].value_counts(ascending=True).index.tolist()\";\n",
       "                var nbb_formatted_code = \"# # Obtaining values for column and their counts\\n# roles_list = df[\\\"info_2\\\"].value_counts(ascending=True).index.tolist()\";\n",
       "                var nbb_cells = Jupyter.notebook.get_cells();\n",
       "                for (var i = 0; i < nbb_cells.length; ++i) {\n",
       "                    if (nbb_cells[i].input_prompt_number == nbb_cell_id) {\n",
       "                        if (nbb_cells[i].get_text() == nbb_unformatted_code) {\n",
       "                             nbb_cells[i].set_text(nbb_formatted_code);\n",
       "                        }\n",
       "                        break;\n",
       "                    }\n",
       "                }\n",
       "            }, 500);\n",
       "            "
      ],
      "text/plain": [
       "<IPython.core.display.Javascript object>"
      ]
     },
     "metadata": {},
     "output_type": "display_data"
    }
   ],
   "source": [
    "# # Obtaining values for column and their counts\n",
    "# roles_list = df[\"info_2\"].value_counts(ascending=True).index.tolist()"
   ]
  },
  {
   "cell_type": "code",
   "execution_count": 68,
   "id": "b59a2abe",
   "metadata": {},
   "outputs": [
    {
     "data": {
      "application/javascript": [
       "\n",
       "            setTimeout(function() {\n",
       "                var nbb_cell_id = 68;\n",
       "                var nbb_unformatted_code = \"# # Code to check each value\\n# roles_list.pop()\";\n",
       "                var nbb_formatted_code = \"# # Code to check each value\\n# roles_list.pop()\";\n",
       "                var nbb_cells = Jupyter.notebook.get_cells();\n",
       "                for (var i = 0; i < nbb_cells.length; ++i) {\n",
       "                    if (nbb_cells[i].input_prompt_number == nbb_cell_id) {\n",
       "                        if (nbb_cells[i].get_text() == nbb_unformatted_code) {\n",
       "                             nbb_cells[i].set_text(nbb_formatted_code);\n",
       "                        }\n",
       "                        break;\n",
       "                    }\n",
       "                }\n",
       "            }, 500);\n",
       "            "
      ],
      "text/plain": [
       "<IPython.core.display.Javascript object>"
      ]
     },
     "metadata": {},
     "output_type": "display_data"
    }
   ],
   "source": [
    "# # Code to check each value\n",
    "# roles_list.pop()"
   ]
  },
  {
   "cell_type": "code",
   "execution_count": 69,
   "id": "43730815",
   "metadata": {},
   "outputs": [
    {
     "data": {
      "application/javascript": [
       "\n",
       "            setTimeout(function() {\n",
       "                var nbb_cell_id = 69;\n",
       "                var nbb_unformatted_code = \"# # Create specific_roles_list for above popped value\\n# specific_roles_list = (\\n#     df.loc[\\n#         [\\n#             index\\n#             for index in df[df[\\\"info_2\\\"].notna()].index\\n#             if \\\"entrepreneur\\\" in df.loc[index, \\\"info_2\\\"]\\n#         ],\\n#         \\\"info_2\\\",\\n#     ]\\n#     .value_counts()\\n#     .index.tolist()\\n# )\";\n",
       "                var nbb_formatted_code = \"# # Create specific_roles_list for above popped value\\n# specific_roles_list = (\\n#     df.loc[\\n#         [\\n#             index\\n#             for index in df[df[\\\"info_2\\\"].notna()].index\\n#             if \\\"entrepreneur\\\" in df.loc[index, \\\"info_2\\\"]\\n#         ],\\n#         \\\"info_2\\\",\\n#     ]\\n#     .value_counts()\\n#     .index.tolist()\\n# )\";\n",
       "                var nbb_cells = Jupyter.notebook.get_cells();\n",
       "                for (var i = 0; i < nbb_cells.length; ++i) {\n",
       "                    if (nbb_cells[i].input_prompt_number == nbb_cell_id) {\n",
       "                        if (nbb_cells[i].get_text() == nbb_unformatted_code) {\n",
       "                             nbb_cells[i].set_text(nbb_formatted_code);\n",
       "                        }\n",
       "                        break;\n",
       "                    }\n",
       "                }\n",
       "            }, 500);\n",
       "            "
      ],
      "text/plain": [
       "<IPython.core.display.Javascript object>"
      ]
     },
     "metadata": {},
     "output_type": "display_data"
    }
   ],
   "source": [
    "# # Create specific_roles_list for above popped value\n",
    "# specific_roles_list = (\n",
    "#     df.loc[\n",
    "#         [\n",
    "#             index\n",
    "#             for index in df[df[\"info_2\"].notna()].index\n",
    "#             if \"entrepreneur\" in df.loc[index, \"info_2\"]\n",
    "#         ],\n",
    "#         \"info_2\",\n",
    "#     ]\n",
    "#     .value_counts()\n",
    "#     .index.tolist()\n",
    "# )"
   ]
  },
  {
   "cell_type": "code",
   "execution_count": 70,
   "id": "c495d235",
   "metadata": {},
   "outputs": [
    {
     "data": {
      "application/javascript": [
       "\n",
       "            setTimeout(function() {\n",
       "                var nbb_cell_id = 70;\n",
       "                var nbb_unformatted_code = \"# # Code to check each specific value\\n# specific_roles_list.pop()\";\n",
       "                var nbb_formatted_code = \"# # Code to check each specific value\\n# specific_roles_list.pop()\";\n",
       "                var nbb_cells = Jupyter.notebook.get_cells();\n",
       "                for (var i = 0; i < nbb_cells.length; ++i) {\n",
       "                    if (nbb_cells[i].input_prompt_number == nbb_cell_id) {\n",
       "                        if (nbb_cells[i].get_text() == nbb_unformatted_code) {\n",
       "                             nbb_cells[i].set_text(nbb_formatted_code);\n",
       "                        }\n",
       "                        break;\n",
       "                    }\n",
       "                }\n",
       "            }, 500);\n",
       "            "
      ],
      "text/plain": [
       "<IPython.core.display.Javascript object>"
      ]
     },
     "metadata": {},
     "output_type": "display_data"
    }
   ],
   "source": [
    "# # Code to check each specific value\n",
    "# specific_roles_list.pop()"
   ]
  },
  {
   "cell_type": "code",
   "execution_count": 71,
   "id": "f6def57c",
   "metadata": {},
   "outputs": [
    {
     "data": {
      "application/javascript": [
       "\n",
       "            setTimeout(function() {\n",
       "                var nbb_cell_id = 71;\n",
       "                var nbb_unformatted_code = \"# # Example code to quick-screen values that may overlap categories\\n# df.loc[[index for index in df.index if \\\"Internet\\\" in df.loc[index, \\\"info\\\"]]]\";\n",
       "                var nbb_formatted_code = \"# # Example code to quick-screen values that may overlap categories\\n# df.loc[[index for index in df.index if \\\"Internet\\\" in df.loc[index, \\\"info\\\"]]]\";\n",
       "                var nbb_cells = Jupyter.notebook.get_cells();\n",
       "                for (var i = 0; i < nbb_cells.length; ++i) {\n",
       "                    if (nbb_cells[i].input_prompt_number == nbb_cell_id) {\n",
       "                        if (nbb_cells[i].get_text() == nbb_unformatted_code) {\n",
       "                             nbb_cells[i].set_text(nbb_formatted_code);\n",
       "                        }\n",
       "                        break;\n",
       "                    }\n",
       "                }\n",
       "            }, 500);\n",
       "            "
      ],
      "text/plain": [
       "<IPython.core.display.Javascript object>"
      ]
     },
     "metadata": {},
     "output_type": "display_data"
    }
   ],
   "source": [
    "# # Example code to quick-screen values that may overlap categories\n",
    "# df.loc[[index for index in df.index if \"Internet\" in df.loc[index, \"info\"]]]"
   ]
  },
  {
   "cell_type": "code",
   "execution_count": 72,
   "id": "2c8e5880",
   "metadata": {},
   "outputs": [
    {
     "data": {
      "application/javascript": [
       "\n",
       "            setTimeout(function() {\n",
       "                var nbb_cell_id = 72;\n",
       "                var nbb_unformatted_code = \"# # Example code to quick-check a specific entry\\n# df[df[\\\"info_2\\\"] == \\\"entrepreneur and ceremonial officer\\\"]\";\n",
       "                var nbb_formatted_code = \"# # Example code to quick-check a specific entry\\n# df[df[\\\"info_2\\\"] == \\\"entrepreneur and ceremonial officer\\\"]\";\n",
       "                var nbb_cells = Jupyter.notebook.get_cells();\n",
       "                for (var i = 0; i < nbb_cells.length; ++i) {\n",
       "                    if (nbb_cells[i].input_prompt_number == nbb_cell_id) {\n",
       "                        if (nbb_cells[i].get_text() == nbb_unformatted_code) {\n",
       "                             nbb_cells[i].set_text(nbb_formatted_code);\n",
       "                        }\n",
       "                        break;\n",
       "                    }\n",
       "                }\n",
       "            }, 500);\n",
       "            "
      ],
      "text/plain": [
       "<IPython.core.display.Javascript object>"
      ]
     },
     "metadata": {},
     "output_type": "display_data"
    }
   ],
   "source": [
    "# # Example code to quick-check a specific entry\n",
    "# df[df[\"info_2\"] == \"entrepreneur and ceremonial officer\"]"
   ]
  },
  {
   "cell_type": "markdown",
   "id": "fd105b27",
   "metadata": {},
   "source": [
    "#### Creating Lists for Each `known_for` Category"
   ]
  },
  {
   "cell_type": "code",
   "execution_count": 73,
   "id": "b2850025",
   "metadata": {},
   "outputs": [
    {
     "data": {
      "application/javascript": [
       "\n",
       "            setTimeout(function() {\n",
       "                var nbb_cell_id = 73;\n",
       "                var nbb_unformatted_code = \"# Creating lists for each category\\npolitics_govt_law = []\\n\\narts = []\\nsports = []\\nsciences = []\\n\\nbusiness_farming = [\\n    \\\"entrepreneur and one of the founders of commercial TV broadcasting in the\\\",\\n    \\\"entrepreneur and the founder of Peet Coffee & Tea\\\",\\n    \\\"entrepreneur and joint founder of Ryanair\\\",\\n    \\\"entrepreneur and founder of The Body Shop\\\",\\n    \\\"entrepreneur and pioneer of microlending\\\",\\n    \\\"entrepreneur and real estate developer\\\",\\n    \\\"entrepreneur and founder of Herbalife\\\",\\n    \\\"industrial and financial entrepreneur\\\",\\n    \\\"entrepreneur and ceremonial officer\\\",\\n    \\\"real estate broker and entrepreneur\\\",\\n    \\\"entrepreneur and president of Fiat\\\",\\n    \\\"entrepreneur and business magnate\\\",\\n    \\\"fashion retailer and entrepreneur\\\",\\n    \\\"entrepreneur and founder of Naza\\\",\\n    \\\"angel investor and entrepreneur\\\",\\n    \\\"billionaire mining entrepreneur\\\",\\n    \\\"entrepreneur and industrialist\\\",\\n    \\\"businesswoman and entrepreneur\\\",\\n    \\\"entrepreneur and co founder of\\\",\\n    \\\"entrepreneur and billionaire\\\",\\n    \\\"opinion polling entrepreneur\\\",\\n    \\\"oil and mining entrepreneur\\\",\\n    \\\"entrepreneur and winemaker\\\",\\n    \\\"entrepreneur and executive\\\",\\n    \\\"cocktail bar entrepreneur\\\",\\n    \\\"computer entrepreneur and\\\",\\n    \\\"real estate entrepreneur\\\",\\n    \\\"marketing entrepreneur\\\",\\n    \\\"financial entrepreneur\\\",\\n    \\\"mini golf entrepreneur\\\",\\n    \\\"entrepreneur in Darwin\\\",\\n    \\\"property entrepreneur\\\",\\n    \\\"aviation entrepreneur\\\",\\n    \\\"tourism entrepreneur\\\",\\n    \\\"Arabian entrepreneur\\\",\\n    \\\"travel entrepreneur\\\",\\n    \\\"timber entrepreneur\\\",\\n    \\\"serial entrepreneur\\\",\\n    \\\"wine entrepreneur\\\",\\n    \\\"ATM entrepreneur\\\",\\n    \\\"and entrepreneur\\\",\\n    \\\"entrepreneur and\\\",\\n    \\\"entrepreneur\\\",\\n]\\nacademia_humanities = []\\nlaw_enf_military_operator = []\\nspiritual = []\\nsocial = []\\ncrime = []\\nevent_record_other = [\\n    \\\"wrongfully convicted of murder\\\",\\n]\\nother_species = []\";\n",
       "                var nbb_formatted_code = \"# Creating lists for each category\\npolitics_govt_law = []\\n\\narts = []\\nsports = []\\nsciences = []\\n\\nbusiness_farming = [\\n    \\\"entrepreneur and one of the founders of commercial TV broadcasting in the\\\",\\n    \\\"entrepreneur and the founder of Peet Coffee & Tea\\\",\\n    \\\"entrepreneur and joint founder of Ryanair\\\",\\n    \\\"entrepreneur and founder of The Body Shop\\\",\\n    \\\"entrepreneur and pioneer of microlending\\\",\\n    \\\"entrepreneur and real estate developer\\\",\\n    \\\"entrepreneur and founder of Herbalife\\\",\\n    \\\"industrial and financial entrepreneur\\\",\\n    \\\"entrepreneur and ceremonial officer\\\",\\n    \\\"real estate broker and entrepreneur\\\",\\n    \\\"entrepreneur and president of Fiat\\\",\\n    \\\"entrepreneur and business magnate\\\",\\n    \\\"fashion retailer and entrepreneur\\\",\\n    \\\"entrepreneur and founder of Naza\\\",\\n    \\\"angel investor and entrepreneur\\\",\\n    \\\"billionaire mining entrepreneur\\\",\\n    \\\"entrepreneur and industrialist\\\",\\n    \\\"businesswoman and entrepreneur\\\",\\n    \\\"entrepreneur and co founder of\\\",\\n    \\\"entrepreneur and billionaire\\\",\\n    \\\"opinion polling entrepreneur\\\",\\n    \\\"oil and mining entrepreneur\\\",\\n    \\\"entrepreneur and winemaker\\\",\\n    \\\"entrepreneur and executive\\\",\\n    \\\"cocktail bar entrepreneur\\\",\\n    \\\"computer entrepreneur and\\\",\\n    \\\"real estate entrepreneur\\\",\\n    \\\"marketing entrepreneur\\\",\\n    \\\"financial entrepreneur\\\",\\n    \\\"mini golf entrepreneur\\\",\\n    \\\"entrepreneur in Darwin\\\",\\n    \\\"property entrepreneur\\\",\\n    \\\"aviation entrepreneur\\\",\\n    \\\"tourism entrepreneur\\\",\\n    \\\"Arabian entrepreneur\\\",\\n    \\\"travel entrepreneur\\\",\\n    \\\"timber entrepreneur\\\",\\n    \\\"serial entrepreneur\\\",\\n    \\\"wine entrepreneur\\\",\\n    \\\"ATM entrepreneur\\\",\\n    \\\"and entrepreneur\\\",\\n    \\\"entrepreneur and\\\",\\n    \\\"entrepreneur\\\",\\n]\\nacademia_humanities = []\\nlaw_enf_military_operator = []\\nspiritual = []\\nsocial = []\\ncrime = []\\nevent_record_other = [\\n    \\\"wrongfully convicted of murder\\\",\\n]\\nother_species = []\";\n",
       "                var nbb_cells = Jupyter.notebook.get_cells();\n",
       "                for (var i = 0; i < nbb_cells.length; ++i) {\n",
       "                    if (nbb_cells[i].input_prompt_number == nbb_cell_id) {\n",
       "                        if (nbb_cells[i].get_text() == nbb_unformatted_code) {\n",
       "                             nbb_cells[i].set_text(nbb_formatted_code);\n",
       "                        }\n",
       "                        break;\n",
       "                    }\n",
       "                }\n",
       "            }, 500);\n",
       "            "
      ],
      "text/plain": [
       "<IPython.core.display.Javascript object>"
      ]
     },
     "metadata": {},
     "output_type": "display_data"
    }
   ],
   "source": [
    "# Creating lists for each category\n",
    "politics_govt_law = []\n",
    "\n",
    "arts = []\n",
    "sports = []\n",
    "sciences = []\n",
    "\n",
    "business_farming = [\n",
    "    \"entrepreneur and one of the founders of commercial TV broadcasting in the\",\n",
    "    \"entrepreneur and the founder of Peet Coffee & Tea\",\n",
    "    \"entrepreneur and joint founder of Ryanair\",\n",
    "    \"entrepreneur and founder of The Body Shop\",\n",
    "    \"entrepreneur and pioneer of microlending\",\n",
    "    \"entrepreneur and real estate developer\",\n",
    "    \"entrepreneur and founder of Herbalife\",\n",
    "    \"industrial and financial entrepreneur\",\n",
    "    \"entrepreneur and ceremonial officer\",\n",
    "    \"real estate broker and entrepreneur\",\n",
    "    \"entrepreneur and president of Fiat\",\n",
    "    \"entrepreneur and business magnate\",\n",
    "    \"fashion retailer and entrepreneur\",\n",
    "    \"entrepreneur and founder of Naza\",\n",
    "    \"angel investor and entrepreneur\",\n",
    "    \"billionaire mining entrepreneur\",\n",
    "    \"entrepreneur and industrialist\",\n",
    "    \"businesswoman and entrepreneur\",\n",
    "    \"entrepreneur and co founder of\",\n",
    "    \"entrepreneur and billionaire\",\n",
    "    \"opinion polling entrepreneur\",\n",
    "    \"oil and mining entrepreneur\",\n",
    "    \"entrepreneur and winemaker\",\n",
    "    \"entrepreneur and executive\",\n",
    "    \"cocktail bar entrepreneur\",\n",
    "    \"computer entrepreneur and\",\n",
    "    \"real estate entrepreneur\",\n",
    "    \"marketing entrepreneur\",\n",
    "    \"financial entrepreneur\",\n",
    "    \"mini golf entrepreneur\",\n",
    "    \"entrepreneur in Darwin\",\n",
    "    \"property entrepreneur\",\n",
    "    \"aviation entrepreneur\",\n",
    "    \"tourism entrepreneur\",\n",
    "    \"Arabian entrepreneur\",\n",
    "    \"travel entrepreneur\",\n",
    "    \"timber entrepreneur\",\n",
    "    \"serial entrepreneur\",\n",
    "    \"wine entrepreneur\",\n",
    "    \"ATM entrepreneur\",\n",
    "    \"and entrepreneur\",\n",
    "    \"entrepreneur and\",\n",
    "    \"entrepreneur\",\n",
    "]\n",
    "academia_humanities = []\n",
    "law_enf_military_operator = []\n",
    "spiritual = []\n",
    "social = []\n",
    "crime = []\n",
    "event_record_other = [\n",
    "    \"wrongfully convicted of murder\",\n",
    "]\n",
    "other_species = []"
   ]
  },
  {
   "cell_type": "markdown",
   "id": "0a405cb3",
   "metadata": {},
   "source": [
    "#### Creating `known_for_dict` Dictionary of Category Keys and Specific Role Lists of Values"
   ]
  },
  {
   "cell_type": "code",
   "execution_count": 74,
   "id": "44c7d9cd",
   "metadata": {},
   "outputs": [
    {
     "data": {
      "application/javascript": [
       "\n",
       "            setTimeout(function() {\n",
       "                var nbb_cell_id = 74;\n",
       "                var nbb_unformatted_code = \"# Combining separate lists into one dictionary\\nknown_for_dict = {\\n    \\\"social\\\": social,\\n    \\\"spiritual\\\": spiritual,\\n    \\\"academia_humanities\\\": academia_humanities,\\n    \\\"business_farming\\\": business_farming,\\n    \\\"sciences\\\": sciences,\\n    \\\"politics_govt_law\\\": politics_govt_law,\\n    \\\"law_enf_military_operator\\\": law_enf_military_operator,\\n    \\\"crime\\\": crime,\\n    \\\"event_record_other\\\": event_record_other,\\n    \\\"other_species\\\": other_species,\\n    \\\"arts\\\": arts,\\n    \\\"sports\\\": sports,\\n}\";\n",
       "                var nbb_formatted_code = \"# Combining separate lists into one dictionary\\nknown_for_dict = {\\n    \\\"social\\\": social,\\n    \\\"spiritual\\\": spiritual,\\n    \\\"academia_humanities\\\": academia_humanities,\\n    \\\"business_farming\\\": business_farming,\\n    \\\"sciences\\\": sciences,\\n    \\\"politics_govt_law\\\": politics_govt_law,\\n    \\\"law_enf_military_operator\\\": law_enf_military_operator,\\n    \\\"crime\\\": crime,\\n    \\\"event_record_other\\\": event_record_other,\\n    \\\"other_species\\\": other_species,\\n    \\\"arts\\\": arts,\\n    \\\"sports\\\": sports,\\n}\";\n",
       "                var nbb_cells = Jupyter.notebook.get_cells();\n",
       "                for (var i = 0; i < nbb_cells.length; ++i) {\n",
       "                    if (nbb_cells[i].input_prompt_number == nbb_cell_id) {\n",
       "                        if (nbb_cells[i].get_text() == nbb_unformatted_code) {\n",
       "                             nbb_cells[i].set_text(nbb_formatted_code);\n",
       "                        }\n",
       "                        break;\n",
       "                    }\n",
       "                }\n",
       "            }, 500);\n",
       "            "
      ],
      "text/plain": [
       "<IPython.core.display.Javascript object>"
      ]
     },
     "metadata": {},
     "output_type": "display_data"
    }
   ],
   "source": [
    "# Combining separate lists into one dictionary\n",
    "known_for_dict = {\n",
    "    \"social\": social,\n",
    "    \"spiritual\": spiritual,\n",
    "    \"academia_humanities\": academia_humanities,\n",
    "    \"business_farming\": business_farming,\n",
    "    \"sciences\": sciences,\n",
    "    \"politics_govt_law\": politics_govt_law,\n",
    "    \"law_enf_military_operator\": law_enf_military_operator,\n",
    "    \"crime\": crime,\n",
    "    \"event_record_other\": event_record_other,\n",
    "    \"other_species\": other_species,\n",
    "    \"arts\": arts,\n",
    "    \"sports\": sports,\n",
    "}"
   ]
  },
  {
   "cell_type": "markdown",
   "id": "25cb6bf5",
   "metadata": {},
   "source": [
    "#### Extracting Category from `info_2`"
   ]
  },
  {
   "cell_type": "code",
   "execution_count": 75,
   "id": "5fc6e695",
   "metadata": {},
   "outputs": [
    {
     "name": "stdout",
     "output_type": "stream",
     "text": [
      "CPU times: total: 22.8 s\n",
      "Wall time: 22.9 s\n"
     ]
    },
    {
     "data": {
      "text/html": [
       "<div>\n",
       "<style scoped>\n",
       "    .dataframe tbody tr th:only-of-type {\n",
       "        vertical-align: middle;\n",
       "    }\n",
       "\n",
       "    .dataframe tbody tr th {\n",
       "        vertical-align: top;\n",
       "    }\n",
       "\n",
       "    .dataframe thead th {\n",
       "        text-align: right;\n",
       "    }\n",
       "</style>\n",
       "<table border=\"1\" class=\"dataframe\">\n",
       "  <thead>\n",
       "    <tr style=\"text-align: right;\">\n",
       "      <th></th>\n",
       "      <th>day</th>\n",
       "      <th>name</th>\n",
       "      <th>info</th>\n",
       "      <th>link</th>\n",
       "      <th>num_references</th>\n",
       "      <th>year</th>\n",
       "      <th>month</th>\n",
       "      <th>info_parenth</th>\n",
       "      <th>info_1</th>\n",
       "      <th>info_2</th>\n",
       "      <th>info_3</th>\n",
       "      <th>info_4</th>\n",
       "      <th>info_5</th>\n",
       "      <th>info_6</th>\n",
       "      <th>info_7</th>\n",
       "      <th>info_8</th>\n",
       "      <th>info_9</th>\n",
       "      <th>info_10</th>\n",
       "      <th>info_11</th>\n",
       "      <th>age</th>\n",
       "      <th>cause_of_death</th>\n",
       "      <th>place_1</th>\n",
       "      <th>place_2</th>\n",
       "      <th>info_parenth_copy</th>\n",
       "      <th>log_num_references</th>\n",
       "      <th>sciences</th>\n",
       "      <th>social</th>\n",
       "      <th>spiritual</th>\n",
       "      <th>academia_humanities</th>\n",
       "      <th>business_farming</th>\n",
       "      <th>arts</th>\n",
       "      <th>sports</th>\n",
       "      <th>law_enf_military_operator</th>\n",
       "      <th>politics_govt_law</th>\n",
       "      <th>crime</th>\n",
       "      <th>event_record_other</th>\n",
       "      <th>other_species</th>\n",
       "      <th>num_categories</th>\n",
       "    </tr>\n",
       "  </thead>\n",
       "  <tbody>\n",
       "    <tr>\n",
       "      <th>1314</th>\n",
       "      <td>11</td>\n",
       "      <td>Bob Miner</td>\n",
       "      <td>, 52, American businessman, mesothelioma.</td>\n",
       "      <td>https://en.wikipedia.org/wiki/Bob_Miner</td>\n",
       "      <td>12</td>\n",
       "      <td>1994</td>\n",
       "      <td>November</td>\n",
       "      <td>None</td>\n",
       "      <td>None</td>\n",
       "      <td></td>\n",
       "      <td>mesothelioma</td>\n",
       "      <td>None</td>\n",
       "      <td>None</td>\n",
       "      <td>None</td>\n",
       "      <td>None</td>\n",
       "      <td>None</td>\n",
       "      <td>None</td>\n",
       "      <td>None</td>\n",
       "      <td>None</td>\n",
       "      <td>52.0</td>\n",
       "      <td>None</td>\n",
       "      <td>United States of America</td>\n",
       "      <td>None</td>\n",
       "      <td>None</td>\n",
       "      <td>2.564949</td>\n",
       "      <td>0</td>\n",
       "      <td>0</td>\n",
       "      <td>0</td>\n",
       "      <td>0</td>\n",
       "      <td>1</td>\n",
       "      <td>0</td>\n",
       "      <td>0</td>\n",
       "      <td>0</td>\n",
       "      <td>0</td>\n",
       "      <td>0</td>\n",
       "      <td>0</td>\n",
       "      <td>0</td>\n",
       "      <td>1</td>\n",
       "    </tr>\n",
       "    <tr>\n",
       "      <th>29469</th>\n",
       "      <td>10</td>\n",
       "      <td>Lionel Pincus</td>\n",
       "      <td>, 78, American businessman, founder of Warburg Pincus.</td>\n",
       "      <td>https://en.wikipedia.org/wiki/Lionel_Pincus</td>\n",
       "      <td>30</td>\n",
       "      <td>2009</td>\n",
       "      <td>October</td>\n",
       "      <td>None</td>\n",
       "      <td>None</td>\n",
       "      <td></td>\n",
       "      <td>founder of Warburg Pincus</td>\n",
       "      <td>None</td>\n",
       "      <td>None</td>\n",
       "      <td>None</td>\n",
       "      <td>None</td>\n",
       "      <td>None</td>\n",
       "      <td>None</td>\n",
       "      <td>None</td>\n",
       "      <td>None</td>\n",
       "      <td>78.0</td>\n",
       "      <td>None</td>\n",
       "      <td>United States of America</td>\n",
       "      <td>None</td>\n",
       "      <td>None</td>\n",
       "      <td>3.433987</td>\n",
       "      <td>0</td>\n",
       "      <td>0</td>\n",
       "      <td>0</td>\n",
       "      <td>0</td>\n",
       "      <td>1</td>\n",
       "      <td>0</td>\n",
       "      <td>0</td>\n",
       "      <td>0</td>\n",
       "      <td>0</td>\n",
       "      <td>0</td>\n",
       "      <td>0</td>\n",
       "      <td>0</td>\n",
       "      <td>1</td>\n",
       "    </tr>\n",
       "  </tbody>\n",
       "</table>\n",
       "</div>"
      ],
      "text/plain": [
       "      day           name  \\\n",
       "1314   11      Bob Miner   \n",
       "29469  10  Lionel Pincus   \n",
       "\n",
       "                                                         info  \\\n",
       "1314                , 52, American businessman, mesothelioma.   \n",
       "29469  , 78, American businessman, founder of Warburg Pincus.   \n",
       "\n",
       "                                              link  num_references  year  \\\n",
       "1314       https://en.wikipedia.org/wiki/Bob_Miner              12  1994   \n",
       "29469  https://en.wikipedia.org/wiki/Lionel_Pincus              30  2009   \n",
       "\n",
       "          month info_parenth info_1 info_2                     info_3 info_4  \\\n",
       "1314   November         None   None                      mesothelioma   None   \n",
       "29469   October         None   None         founder of Warburg Pincus   None   \n",
       "\n",
       "      info_5 info_6 info_7 info_8 info_9 info_10 info_11   age cause_of_death  \\\n",
       "1314    None   None   None   None   None    None    None  52.0           None   \n",
       "29469   None   None   None   None   None    None    None  78.0           None   \n",
       "\n",
       "                        place_1 place_2 info_parenth_copy  log_num_references  \\\n",
       "1314   United States of America    None              None            2.564949   \n",
       "29469  United States of America    None              None            3.433987   \n",
       "\n",
       "       sciences  social  spiritual  academia_humanities  business_farming  \\\n",
       "1314          0       0          0                    0                 1   \n",
       "29469         0       0          0                    0                 1   \n",
       "\n",
       "       arts  sports  law_enf_military_operator  politics_govt_law  crime  \\\n",
       "1314      0       0                          0                  0      0   \n",
       "29469     0       0                          0                  0      0   \n",
       "\n",
       "       event_record_other  other_species  num_categories  \n",
       "1314                    0              0               1  \n",
       "29469                   0              0               1  "
      ]
     },
     "execution_count": 75,
     "metadata": {},
     "output_type": "execute_result"
    },
    {
     "data": {
      "application/javascript": [
       "\n",
       "            setTimeout(function() {\n",
       "                var nbb_cell_id = 75;\n",
       "                var nbb_unformatted_code = \"%%time\\n\\n# Dictionary version\\nsearch_dict = known_for_dict\\n\\n# Column to check\\ncolumn = 'info_2'\\n\\n# Dataframe\\ndataframe = df[column].notna()\\n\\n# For loop to find role in column and extract it as category\\nfor category, category_lst in search_dict.items():\\n    for role in category_lst:\\n        for index in dataframe.index:\\n            item = df.loc[index, column]\\n            if item:\\n                if role in item:\\n                    df.loc[index, category] = 1\\n                    df.loc[index, column] = item.replace(role, '').strip()\\n\\n# Updating num_categories\\ndf[\\\"num_categories\\\"] = df[known_for_dict.keys()].sum(axis=1)\\n\\n# Checking a sample of rows\\ndf[df['business_farming'] ==1].sample(2)\";\n",
       "                var nbb_formatted_code = \"%%time\\n\\n# Dictionary version\\nsearch_dict = known_for_dict\\n\\n# Column to check\\ncolumn = 'info_2'\\n\\n# Dataframe\\ndataframe = df[column].notna()\\n\\n# For loop to find role in column and extract it as category\\nfor category, category_lst in search_dict.items():\\n    for role in category_lst:\\n        for index in dataframe.index:\\n            item = df.loc[index, column]\\n            if item:\\n                if role in item:\\n                    df.loc[index, category] = 1\\n                    df.loc[index, column] = item.replace(role, '').strip()\\n\\n# Updating num_categories\\ndf[\\\"num_categories\\\"] = df[known_for_dict.keys()].sum(axis=1)\\n\\n# Checking a sample of rows\\ndf[df['business_farming'] ==1].sample(2)\";\n",
       "                var nbb_cells = Jupyter.notebook.get_cells();\n",
       "                for (var i = 0; i < nbb_cells.length; ++i) {\n",
       "                    if (nbb_cells[i].input_prompt_number == nbb_cell_id) {\n",
       "                        if (nbb_cells[i].get_text() == nbb_unformatted_code) {\n",
       "                             nbb_cells[i].set_text(nbb_formatted_code);\n",
       "                        }\n",
       "                        break;\n",
       "                    }\n",
       "                }\n",
       "            }, 500);\n",
       "            "
      ],
      "text/plain": [
       "<IPython.core.display.Javascript object>"
      ]
     },
     "metadata": {},
     "output_type": "display_data"
    }
   ],
   "source": [
    "%%time\n",
    "\n",
    "# Dictionary version\n",
    "search_dict = known_for_dict\n",
    "\n",
    "# Column to check\n",
    "column = 'info_2'\n",
    "\n",
    "# Dataframe\n",
    "dataframe = df[column].notna()\n",
    "\n",
    "# For loop to find role in column and extract it as category\n",
    "for category, category_lst in search_dict.items():\n",
    "    for role in category_lst:\n",
    "        for index in dataframe.index:\n",
    "            item = df.loc[index, column]\n",
    "            if item:\n",
    "                if role in item:\n",
    "                    df.loc[index, category] = 1\n",
    "                    df.loc[index, column] = item.replace(role, '').strip()\n",
    "\n",
    "# Updating num_categories\n",
    "df[\"num_categories\"] = df[known_for_dict.keys()].sum(axis=1)\n",
    "\n",
    "# Checking a sample of rows\n",
    "df[df['business_farming'] ==1].sample(2)"
   ]
  },
  {
   "cell_type": "markdown",
   "id": "36504d6e",
   "metadata": {},
   "source": [
    "#### Checking the Number of Rows without a First Category"
   ]
  },
  {
   "cell_type": "code",
   "execution_count": 76,
   "id": "a9ff246d",
   "metadata": {},
   "outputs": [
    {
     "name": "stdout",
     "output_type": "stream",
     "text": [
      "There are 30254 entries without any known_for category.\n"
     ]
    },
    {
     "data": {
      "application/javascript": [
       "\n",
       "            setTimeout(function() {\n",
       "                var nbb_cell_id = 76;\n",
       "                var nbb_unformatted_code = \"# Checking the number of rows without a first category\\nprint(\\n    f'There are {len(df[df[\\\"num_categories\\\"]==0])} entries without any known_for category.'\\n)\";\n",
       "                var nbb_formatted_code = \"# Checking the number of rows without a first category\\nprint(\\n    f'There are {len(df[df[\\\"num_categories\\\"]==0])} entries without any known_for category.'\\n)\";\n",
       "                var nbb_cells = Jupyter.notebook.get_cells();\n",
       "                for (var i = 0; i < nbb_cells.length; ++i) {\n",
       "                    if (nbb_cells[i].input_prompt_number == nbb_cell_id) {\n",
       "                        if (nbb_cells[i].get_text() == nbb_unformatted_code) {\n",
       "                             nbb_cells[i].set_text(nbb_formatted_code);\n",
       "                        }\n",
       "                        break;\n",
       "                    }\n",
       "                }\n",
       "            }, 500);\n",
       "            "
      ],
      "text/plain": [
       "<IPython.core.display.Javascript object>"
      ]
     },
     "metadata": {},
     "output_type": "display_data"
    }
   ],
   "source": [
    "# Checking the number of rows without a first category\n",
    "print(\n",
    "    f'There are {len(df[df[\"num_categories\"]==0])} entries without any known_for category.'\n",
    ")"
   ]
  },
  {
   "cell_type": "markdown",
   "id": "ccce705c",
   "metadata": {},
   "source": [
    "#### Observations:\n",
    "- We will proceed to rebuild `known_for_dict` for the next iteration."
   ]
  },
  {
   "cell_type": "markdown",
   "id": "a3a8aa6c",
   "metadata": {},
   "source": [
    "#### Finding `known_for` Roles in `info_2`"
   ]
  },
  {
   "cell_type": "code",
   "execution_count": 77,
   "id": "15ce8ff7",
   "metadata": {},
   "outputs": [
    {
     "data": {
      "application/javascript": [
       "\n",
       "            setTimeout(function() {\n",
       "                var nbb_cell_id = 77;\n",
       "                var nbb_unformatted_code = \"# Obtaining values for column and their counts\\nroles_list = df[\\\"info_2\\\"].value_counts(ascending=True).index.tolist()\";\n",
       "                var nbb_formatted_code = \"# Obtaining values for column and their counts\\nroles_list = df[\\\"info_2\\\"].value_counts(ascending=True).index.tolist()\";\n",
       "                var nbb_cells = Jupyter.notebook.get_cells();\n",
       "                for (var i = 0; i < nbb_cells.length; ++i) {\n",
       "                    if (nbb_cells[i].input_prompt_number == nbb_cell_id) {\n",
       "                        if (nbb_cells[i].get_text() == nbb_unformatted_code) {\n",
       "                             nbb_cells[i].set_text(nbb_formatted_code);\n",
       "                        }\n",
       "                        break;\n",
       "                    }\n",
       "                }\n",
       "            }, 500);\n",
       "            "
      ],
      "text/plain": [
       "<IPython.core.display.Javascript object>"
      ]
     },
     "metadata": {},
     "output_type": "display_data"
    }
   ],
   "source": [
    "# Obtaining values for column and their counts\n",
    "roles_list = df[\"info_2\"].value_counts(ascending=True).index.tolist()"
   ]
  },
  {
   "cell_type": "code",
   "execution_count": 78,
   "id": "289a0068",
   "metadata": {},
   "outputs": [
    {
     "data": {
      "application/javascript": [
       "\n",
       "            setTimeout(function() {\n",
       "                var nbb_cell_id = 78;\n",
       "                var nbb_unformatted_code = \"# # Code to check each value\\n# roles_list.pop()\";\n",
       "                var nbb_formatted_code = \"# # Code to check each value\\n# roles_list.pop()\";\n",
       "                var nbb_cells = Jupyter.notebook.get_cells();\n",
       "                for (var i = 0; i < nbb_cells.length; ++i) {\n",
       "                    if (nbb_cells[i].input_prompt_number == nbb_cell_id) {\n",
       "                        if (nbb_cells[i].get_text() == nbb_unformatted_code) {\n",
       "                             nbb_cells[i].set_text(nbb_formatted_code);\n",
       "                        }\n",
       "                        break;\n",
       "                    }\n",
       "                }\n",
       "            }, 500);\n",
       "            "
      ],
      "text/plain": [
       "<IPython.core.display.Javascript object>"
      ]
     },
     "metadata": {},
     "output_type": "display_data"
    }
   ],
   "source": [
    "# # Code to check each value\n",
    "# roles_list.pop()"
   ]
  },
  {
   "cell_type": "code",
   "execution_count": 79,
   "id": "ccc64624",
   "metadata": {},
   "outputs": [
    {
     "data": {
      "application/javascript": [
       "\n",
       "            setTimeout(function() {\n",
       "                var nbb_cell_id = 79;\n",
       "                var nbb_unformatted_code = \"# # Create specific_roles_list for above popped value\\n# specific_roles_list = (\\n#     df.loc[\\n#         [\\n#             index\\n#             for index in df[df[\\\"info_2\\\"].notna()].index\\n#             if \\\"soldier\\\" in df.loc[index, \\\"info_2\\\"]\\n#         ],\\n#         \\\"info_2\\\",\\n#     ]\\n#     .value_counts()\\n#     .index.tolist()\\n# )\";\n",
       "                var nbb_formatted_code = \"# # Create specific_roles_list for above popped value\\n# specific_roles_list = (\\n#     df.loc[\\n#         [\\n#             index\\n#             for index in df[df[\\\"info_2\\\"].notna()].index\\n#             if \\\"soldier\\\" in df.loc[index, \\\"info_2\\\"]\\n#         ],\\n#         \\\"info_2\\\",\\n#     ]\\n#     .value_counts()\\n#     .index.tolist()\\n# )\";\n",
       "                var nbb_cells = Jupyter.notebook.get_cells();\n",
       "                for (var i = 0; i < nbb_cells.length; ++i) {\n",
       "                    if (nbb_cells[i].input_prompt_number == nbb_cell_id) {\n",
       "                        if (nbb_cells[i].get_text() == nbb_unformatted_code) {\n",
       "                             nbb_cells[i].set_text(nbb_formatted_code);\n",
       "                        }\n",
       "                        break;\n",
       "                    }\n",
       "                }\n",
       "            }, 500);\n",
       "            "
      ],
      "text/plain": [
       "<IPython.core.display.Javascript object>"
      ]
     },
     "metadata": {},
     "output_type": "display_data"
    }
   ],
   "source": [
    "# # Create specific_roles_list for above popped value\n",
    "# specific_roles_list = (\n",
    "#     df.loc[\n",
    "#         [\n",
    "#             index\n",
    "#             for index in df[df[\"info_2\"].notna()].index\n",
    "#             if \"soldier\" in df.loc[index, \"info_2\"]\n",
    "#         ],\n",
    "#         \"info_2\",\n",
    "#     ]\n",
    "#     .value_counts()\n",
    "#     .index.tolist()\n",
    "# )"
   ]
  },
  {
   "cell_type": "code",
   "execution_count": 80,
   "id": "4f2e4146",
   "metadata": {},
   "outputs": [
    {
     "data": {
      "application/javascript": [
       "\n",
       "            setTimeout(function() {\n",
       "                var nbb_cell_id = 80;\n",
       "                var nbb_unformatted_code = \"# # Code to check each specific value\\n# specific_roles_list.pop()\";\n",
       "                var nbb_formatted_code = \"# # Code to check each specific value\\n# specific_roles_list.pop()\";\n",
       "                var nbb_cells = Jupyter.notebook.get_cells();\n",
       "                for (var i = 0; i < nbb_cells.length; ++i) {\n",
       "                    if (nbb_cells[i].input_prompt_number == nbb_cell_id) {\n",
       "                        if (nbb_cells[i].get_text() == nbb_unformatted_code) {\n",
       "                             nbb_cells[i].set_text(nbb_formatted_code);\n",
       "                        }\n",
       "                        break;\n",
       "                    }\n",
       "                }\n",
       "            }, 500);\n",
       "            "
      ],
      "text/plain": [
       "<IPython.core.display.Javascript object>"
      ]
     },
     "metadata": {},
     "output_type": "display_data"
    }
   ],
   "source": [
    "# # Code to check each specific value\n",
    "# specific_roles_list.pop()"
   ]
  },
  {
   "cell_type": "code",
   "execution_count": 81,
   "id": "914c6d94",
   "metadata": {},
   "outputs": [
    {
     "data": {
      "application/javascript": [
       "\n",
       "            setTimeout(function() {\n",
       "                var nbb_cell_id = 81;\n",
       "                var nbb_unformatted_code = \"# # Example code to quick-check a specific entry\\n# df[df[\\\"info_2\\\"] == \\\"child soldier\\\"]\";\n",
       "                var nbb_formatted_code = \"# # Example code to quick-check a specific entry\\n# df[df[\\\"info_2\\\"] == \\\"child soldier\\\"]\";\n",
       "                var nbb_cells = Jupyter.notebook.get_cells();\n",
       "                for (var i = 0; i < nbb_cells.length; ++i) {\n",
       "                    if (nbb_cells[i].input_prompt_number == nbb_cell_id) {\n",
       "                        if (nbb_cells[i].get_text() == nbb_unformatted_code) {\n",
       "                             nbb_cells[i].set_text(nbb_formatted_code);\n",
       "                        }\n",
       "                        break;\n",
       "                    }\n",
       "                }\n",
       "            }, 500);\n",
       "            "
      ],
      "text/plain": [
       "<IPython.core.display.Javascript object>"
      ]
     },
     "metadata": {},
     "output_type": "display_data"
    }
   ],
   "source": [
    "# # Example code to quick-check a specific entry\n",
    "# df[df[\"info_2\"] == \"child soldier\"]"
   ]
  },
  {
   "cell_type": "markdown",
   "id": "44ee0314",
   "metadata": {},
   "source": [
    "#### Creating Lists for Each `known_for` Category"
   ]
  },
  {
   "cell_type": "code",
   "execution_count": 82,
   "id": "c39943e1",
   "metadata": {},
   "outputs": [
    {
     "data": {
      "application/javascript": [
       "\n",
       "            setTimeout(function() {\n",
       "                var nbb_cell_id = 82;\n",
       "                var nbb_unformatted_code = \"# Creating lists for each category\\npolitics_govt_law = [\\n    \\\"Her Majesty Representative at Ascot\\\",\\n]\\n\\narts = []\\nsports = []\\nsciences = []\\n\\nbusiness_farming = []\\nacademia_humanities = []\\nlaw_enf_military_operator = [\\n    \\\"soldier during World War II and recipient of the Victoria Cross\\\",\\n    \\\"soldier and member of a Special Forces Airborne Reserve Unit\\\",\\n    \\\"Army soldier awarded the Medal of Honor during World War II\\\",\\n    \\\"Army World War II soldier who received the Medal of Honor\\\",\\n    \\\"soldier and Medal of Honor recipient for actions in War\\\",\\n    \\\"World War II soldier portrayed by Donnie Wahlberg in\\\",\\n    \\\"World War II soldier and Legion of honour recipient\\\",\\n    \\\"Army soldier who was killed by the Taliban in istan\\\",\\n    \\\"Army soldier and a recipient of the Medal of Honor\\\",\\n    \\\"Army soldier and recipient of the Medal of Honor\\\",\\n    \\\"World War II Waffen SS soldier and Panzer ace\\\",\\n    \\\"Army soldier and recipient the Medal of Honor\\\",\\n    \\\"soldier and recipient of the Medal of Honor\\\",\\n    \\\"soldier and recipient of the Victoria Cross\\\",\\n    \\\"SAS soldier involved in the Embassy Siege\\\",\\n    \\\"Army soldier and Medal of Honor recipient\\\",\\n    \\\"World War II soldier and prisoner of war\\\",\\n    \\\"soldier and Medal of Honor recipient\\\",\\n    \\\"soldier and Victoria Cross recipient\\\",\\n    \\\"Army soldier during World War II\\\",\\n    \\\"soldier and World War I veteran\\\",\\n    \\\"soldier and airborne mechanic\\\",\\n    \\\"soldier serving in the War\\\",\\n    \\\"soldier and member of the\\\",\\n    \\\"Nagorno Karabakh soldier\\\",\\n    \\\"soldier and game warden\\\",\\n    \\\"soldier during the War\\\",\\n    \\\"Army infantry soldier\\\",\\n    \\\"soldier and military\\\",\\n    \\\"World War II soldier\\\",\\n    \\\"soldier in the Army\\\",\\n    \\\"Danzig soldier and\\\",\\n    \\\"Navy SEAL soldier\\\",\\n    \\\"volunteer soldier\\\",\\n    \\\"decorated soldier\\\",\\n    \\\"Army and soldier\\\",\\n    \\\"Army soldier and\\\",\\n    \\\"combat soldier\\\",\\n    \\\"Gurkha soldier\\\",\\n    \\\"rebel soldier\\\",\\n    \\\"child soldier\\\",\\n    \\\"WWII soldier\\\",\\n    \\\"army soldier\\\",\\n    \\\"Army soldier\\\",\\n    \\\"soldier and\\\",\\n    \\\"and soldier\\\",\\n    \\\"soldier\\\",\\n]\\nspiritual = []\\nsocial = []\\ncrime = []\\nevent_record_other = []\\nother_species = []\";\n",
       "                var nbb_formatted_code = \"# Creating lists for each category\\npolitics_govt_law = [\\n    \\\"Her Majesty Representative at Ascot\\\",\\n]\\n\\narts = []\\nsports = []\\nsciences = []\\n\\nbusiness_farming = []\\nacademia_humanities = []\\nlaw_enf_military_operator = [\\n    \\\"soldier during World War II and recipient of the Victoria Cross\\\",\\n    \\\"soldier and member of a Special Forces Airborne Reserve Unit\\\",\\n    \\\"Army soldier awarded the Medal of Honor during World War II\\\",\\n    \\\"Army World War II soldier who received the Medal of Honor\\\",\\n    \\\"soldier and Medal of Honor recipient for actions in War\\\",\\n    \\\"World War II soldier portrayed by Donnie Wahlberg in\\\",\\n    \\\"World War II soldier and Legion of honour recipient\\\",\\n    \\\"Army soldier who was killed by the Taliban in istan\\\",\\n    \\\"Army soldier and a recipient of the Medal of Honor\\\",\\n    \\\"Army soldier and recipient of the Medal of Honor\\\",\\n    \\\"World War II Waffen SS soldier and Panzer ace\\\",\\n    \\\"Army soldier and recipient the Medal of Honor\\\",\\n    \\\"soldier and recipient of the Medal of Honor\\\",\\n    \\\"soldier and recipient of the Victoria Cross\\\",\\n    \\\"SAS soldier involved in the Embassy Siege\\\",\\n    \\\"Army soldier and Medal of Honor recipient\\\",\\n    \\\"World War II soldier and prisoner of war\\\",\\n    \\\"soldier and Medal of Honor recipient\\\",\\n    \\\"soldier and Victoria Cross recipient\\\",\\n    \\\"Army soldier during World War II\\\",\\n    \\\"soldier and World War I veteran\\\",\\n    \\\"soldier and airborne mechanic\\\",\\n    \\\"soldier serving in the War\\\",\\n    \\\"soldier and member of the\\\",\\n    \\\"Nagorno Karabakh soldier\\\",\\n    \\\"soldier and game warden\\\",\\n    \\\"soldier during the War\\\",\\n    \\\"Army infantry soldier\\\",\\n    \\\"soldier and military\\\",\\n    \\\"World War II soldier\\\",\\n    \\\"soldier in the Army\\\",\\n    \\\"Danzig soldier and\\\",\\n    \\\"Navy SEAL soldier\\\",\\n    \\\"volunteer soldier\\\",\\n    \\\"decorated soldier\\\",\\n    \\\"Army and soldier\\\",\\n    \\\"Army soldier and\\\",\\n    \\\"combat soldier\\\",\\n    \\\"Gurkha soldier\\\",\\n    \\\"rebel soldier\\\",\\n    \\\"child soldier\\\",\\n    \\\"WWII soldier\\\",\\n    \\\"army soldier\\\",\\n    \\\"Army soldier\\\",\\n    \\\"soldier and\\\",\\n    \\\"and soldier\\\",\\n    \\\"soldier\\\",\\n]\\nspiritual = []\\nsocial = []\\ncrime = []\\nevent_record_other = []\\nother_species = []\";\n",
       "                var nbb_cells = Jupyter.notebook.get_cells();\n",
       "                for (var i = 0; i < nbb_cells.length; ++i) {\n",
       "                    if (nbb_cells[i].input_prompt_number == nbb_cell_id) {\n",
       "                        if (nbb_cells[i].get_text() == nbb_unformatted_code) {\n",
       "                             nbb_cells[i].set_text(nbb_formatted_code);\n",
       "                        }\n",
       "                        break;\n",
       "                    }\n",
       "                }\n",
       "            }, 500);\n",
       "            "
      ],
      "text/plain": [
       "<IPython.core.display.Javascript object>"
      ]
     },
     "metadata": {},
     "output_type": "display_data"
    }
   ],
   "source": [
    "# Creating lists for each category\n",
    "politics_govt_law = [\n",
    "    \"Her Majesty Representative at Ascot\",\n",
    "]\n",
    "\n",
    "arts = []\n",
    "sports = []\n",
    "sciences = []\n",
    "\n",
    "business_farming = []\n",
    "academia_humanities = []\n",
    "law_enf_military_operator = [\n",
    "    \"soldier during World War II and recipient of the Victoria Cross\",\n",
    "    \"soldier and member of a Special Forces Airborne Reserve Unit\",\n",
    "    \"Army soldier awarded the Medal of Honor during World War II\",\n",
    "    \"Army World War II soldier who received the Medal of Honor\",\n",
    "    \"soldier and Medal of Honor recipient for actions in War\",\n",
    "    \"World War II soldier portrayed by Donnie Wahlberg in\",\n",
    "    \"World War II soldier and Legion of honour recipient\",\n",
    "    \"Army soldier who was killed by the Taliban in istan\",\n",
    "    \"Army soldier and a recipient of the Medal of Honor\",\n",
    "    \"Army soldier and recipient of the Medal of Honor\",\n",
    "    \"World War II Waffen SS soldier and Panzer ace\",\n",
    "    \"Army soldier and recipient the Medal of Honor\",\n",
    "    \"soldier and recipient of the Medal of Honor\",\n",
    "    \"soldier and recipient of the Victoria Cross\",\n",
    "    \"SAS soldier involved in the Embassy Siege\",\n",
    "    \"Army soldier and Medal of Honor recipient\",\n",
    "    \"World War II soldier and prisoner of war\",\n",
    "    \"soldier and Medal of Honor recipient\",\n",
    "    \"soldier and Victoria Cross recipient\",\n",
    "    \"Army soldier during World War II\",\n",
    "    \"soldier and World War I veteran\",\n",
    "    \"soldier and airborne mechanic\",\n",
    "    \"soldier serving in the War\",\n",
    "    \"soldier and member of the\",\n",
    "    \"Nagorno Karabakh soldier\",\n",
    "    \"soldier and game warden\",\n",
    "    \"soldier during the War\",\n",
    "    \"Army infantry soldier\",\n",
    "    \"soldier and military\",\n",
    "    \"World War II soldier\",\n",
    "    \"soldier in the Army\",\n",
    "    \"Danzig soldier and\",\n",
    "    \"Navy SEAL soldier\",\n",
    "    \"volunteer soldier\",\n",
    "    \"decorated soldier\",\n",
    "    \"Army and soldier\",\n",
    "    \"Army soldier and\",\n",
    "    \"combat soldier\",\n",
    "    \"Gurkha soldier\",\n",
    "    \"rebel soldier\",\n",
    "    \"child soldier\",\n",
    "    \"WWII soldier\",\n",
    "    \"army soldier\",\n",
    "    \"Army soldier\",\n",
    "    \"soldier and\",\n",
    "    \"and soldier\",\n",
    "    \"soldier\",\n",
    "]\n",
    "spiritual = []\n",
    "social = []\n",
    "crime = []\n",
    "event_record_other = []\n",
    "other_species = []"
   ]
  },
  {
   "cell_type": "markdown",
   "id": "0203fdbd",
   "metadata": {},
   "source": [
    "#### Creating `known_for_dict` Dictionary of Category Keys and Specific Role Lists of Values"
   ]
  },
  {
   "cell_type": "code",
   "execution_count": 83,
   "id": "ad585675",
   "metadata": {},
   "outputs": [
    {
     "data": {
      "application/javascript": [
       "\n",
       "            setTimeout(function() {\n",
       "                var nbb_cell_id = 83;\n",
       "                var nbb_unformatted_code = \"# Combining separate lists into one dictionary\\nknown_for_dict = {\\n    \\\"social\\\": social,\\n    \\\"spiritual\\\": spiritual,\\n    \\\"academia_humanities\\\": academia_humanities,\\n    \\\"business_farming\\\": business_farming,\\n    \\\"sciences\\\": sciences,\\n    \\\"politics_govt_law\\\": politics_govt_law,\\n    \\\"law_enf_military_operator\\\": law_enf_military_operator,\\n    \\\"crime\\\": crime,\\n    \\\"event_record_other\\\": event_record_other,\\n    \\\"other_species\\\": other_species,\\n    \\\"arts\\\": arts,\\n    \\\"sports\\\": sports,\\n}\";\n",
       "                var nbb_formatted_code = \"# Combining separate lists into one dictionary\\nknown_for_dict = {\\n    \\\"social\\\": social,\\n    \\\"spiritual\\\": spiritual,\\n    \\\"academia_humanities\\\": academia_humanities,\\n    \\\"business_farming\\\": business_farming,\\n    \\\"sciences\\\": sciences,\\n    \\\"politics_govt_law\\\": politics_govt_law,\\n    \\\"law_enf_military_operator\\\": law_enf_military_operator,\\n    \\\"crime\\\": crime,\\n    \\\"event_record_other\\\": event_record_other,\\n    \\\"other_species\\\": other_species,\\n    \\\"arts\\\": arts,\\n    \\\"sports\\\": sports,\\n}\";\n",
       "                var nbb_cells = Jupyter.notebook.get_cells();\n",
       "                for (var i = 0; i < nbb_cells.length; ++i) {\n",
       "                    if (nbb_cells[i].input_prompt_number == nbb_cell_id) {\n",
       "                        if (nbb_cells[i].get_text() == nbb_unformatted_code) {\n",
       "                             nbb_cells[i].set_text(nbb_formatted_code);\n",
       "                        }\n",
       "                        break;\n",
       "                    }\n",
       "                }\n",
       "            }, 500);\n",
       "            "
      ],
      "text/plain": [
       "<IPython.core.display.Javascript object>"
      ]
     },
     "metadata": {},
     "output_type": "display_data"
    }
   ],
   "source": [
    "# Combining separate lists into one dictionary\n",
    "known_for_dict = {\n",
    "    \"social\": social,\n",
    "    \"spiritual\": spiritual,\n",
    "    \"academia_humanities\": academia_humanities,\n",
    "    \"business_farming\": business_farming,\n",
    "    \"sciences\": sciences,\n",
    "    \"politics_govt_law\": politics_govt_law,\n",
    "    \"law_enf_military_operator\": law_enf_military_operator,\n",
    "    \"crime\": crime,\n",
    "    \"event_record_other\": event_record_other,\n",
    "    \"other_species\": other_species,\n",
    "    \"arts\": arts,\n",
    "    \"sports\": sports,\n",
    "}"
   ]
  },
  {
   "cell_type": "markdown",
   "id": "6742bae8",
   "metadata": {},
   "source": [
    "#### Extracting Category from `info_2`"
   ]
  },
  {
   "cell_type": "code",
   "execution_count": 84,
   "id": "400f7b53",
   "metadata": {},
   "outputs": [
    {
     "name": "stdout",
     "output_type": "stream",
     "text": [
      "CPU times: total: 25.3 s\n",
      "Wall time: 25.3 s\n"
     ]
    },
    {
     "data": {
      "text/html": [
       "<div>\n",
       "<style scoped>\n",
       "    .dataframe tbody tr th:only-of-type {\n",
       "        vertical-align: middle;\n",
       "    }\n",
       "\n",
       "    .dataframe tbody tr th {\n",
       "        vertical-align: top;\n",
       "    }\n",
       "\n",
       "    .dataframe thead th {\n",
       "        text-align: right;\n",
       "    }\n",
       "</style>\n",
       "<table border=\"1\" class=\"dataframe\">\n",
       "  <thead>\n",
       "    <tr style=\"text-align: right;\">\n",
       "      <th></th>\n",
       "      <th>day</th>\n",
       "      <th>name</th>\n",
       "      <th>info</th>\n",
       "      <th>link</th>\n",
       "      <th>num_references</th>\n",
       "      <th>year</th>\n",
       "      <th>month</th>\n",
       "      <th>info_parenth</th>\n",
       "      <th>info_1</th>\n",
       "      <th>info_2</th>\n",
       "      <th>info_3</th>\n",
       "      <th>info_4</th>\n",
       "      <th>info_5</th>\n",
       "      <th>info_6</th>\n",
       "      <th>info_7</th>\n",
       "      <th>info_8</th>\n",
       "      <th>info_9</th>\n",
       "      <th>info_10</th>\n",
       "      <th>info_11</th>\n",
       "      <th>age</th>\n",
       "      <th>cause_of_death</th>\n",
       "      <th>place_1</th>\n",
       "      <th>place_2</th>\n",
       "      <th>info_parenth_copy</th>\n",
       "      <th>log_num_references</th>\n",
       "      <th>sciences</th>\n",
       "      <th>social</th>\n",
       "      <th>spiritual</th>\n",
       "      <th>academia_humanities</th>\n",
       "      <th>business_farming</th>\n",
       "      <th>arts</th>\n",
       "      <th>sports</th>\n",
       "      <th>law_enf_military_operator</th>\n",
       "      <th>politics_govt_law</th>\n",
       "      <th>crime</th>\n",
       "      <th>event_record_other</th>\n",
       "      <th>other_species</th>\n",
       "      <th>num_categories</th>\n",
       "    </tr>\n",
       "  </thead>\n",
       "  <tbody>\n",
       "    <tr>\n",
       "      <th>11272</th>\n",
       "      <td>21</td>\n",
       "      <td>Maria Kleschar-Samokhvalova</td>\n",
       "      <td>, 84, Soviet Russian painter and graphic artist.</td>\n",
       "      <td>https://en.wikipedia.org/wiki/Maria_Kleschar-Samokhvalova</td>\n",
       "      <td>23</td>\n",
       "      <td>2000</td>\n",
       "      <td>July</td>\n",
       "      <td>None</td>\n",
       "      <td>None</td>\n",
       "      <td></td>\n",
       "      <td>None</td>\n",
       "      <td>None</td>\n",
       "      <td>None</td>\n",
       "      <td>None</td>\n",
       "      <td>None</td>\n",
       "      <td>None</td>\n",
       "      <td>None</td>\n",
       "      <td>None</td>\n",
       "      <td>None</td>\n",
       "      <td>84.0</td>\n",
       "      <td>None</td>\n",
       "      <td>United Socialist Soviet Republic</td>\n",
       "      <td>Russia</td>\n",
       "      <td>None</td>\n",
       "      <td>3.178054</td>\n",
       "      <td>0</td>\n",
       "      <td>0</td>\n",
       "      <td>0</td>\n",
       "      <td>0</td>\n",
       "      <td>0</td>\n",
       "      <td>1</td>\n",
       "      <td>0</td>\n",
       "      <td>0</td>\n",
       "      <td>0</td>\n",
       "      <td>0</td>\n",
       "      <td>0</td>\n",
       "      <td>0</td>\n",
       "      <td>1</td>\n",
       "    </tr>\n",
       "    <tr>\n",
       "      <th>30556</th>\n",
       "      <td>12</td>\n",
       "      <td>Ken Emerson</td>\n",
       "      <td>, 82, Australian cartoonist .</td>\n",
       "      <td>https://en.wikipedia.org/wiki/Ken_Emerson</td>\n",
       "      <td>7</td>\n",
       "      <td>2010</td>\n",
       "      <td>February</td>\n",
       "      <td></td>\n",
       "      <td>None</td>\n",
       "      <td></td>\n",
       "      <td>None</td>\n",
       "      <td>None</td>\n",
       "      <td>None</td>\n",
       "      <td>None</td>\n",
       "      <td>None</td>\n",
       "      <td>None</td>\n",
       "      <td>None</td>\n",
       "      <td>None</td>\n",
       "      <td>None</td>\n",
       "      <td>82.0</td>\n",
       "      <td>None</td>\n",
       "      <td>Australia</td>\n",
       "      <td>None</td>\n",
       "      <td></td>\n",
       "      <td>2.079442</td>\n",
       "      <td>0</td>\n",
       "      <td>0</td>\n",
       "      <td>0</td>\n",
       "      <td>0</td>\n",
       "      <td>0</td>\n",
       "      <td>1</td>\n",
       "      <td>0</td>\n",
       "      <td>0</td>\n",
       "      <td>0</td>\n",
       "      <td>0</td>\n",
       "      <td>0</td>\n",
       "      <td>0</td>\n",
       "      <td>1</td>\n",
       "    </tr>\n",
       "  </tbody>\n",
       "</table>\n",
       "</div>"
      ],
      "text/plain": [
       "      day                         name  \\\n",
       "11272  21  Maria Kleschar-Samokhvalova   \n",
       "30556  12                  Ken Emerson   \n",
       "\n",
       "                                                   info  \\\n",
       "11272  , 84, Soviet Russian painter and graphic artist.   \n",
       "30556                     , 82, Australian cartoonist .   \n",
       "\n",
       "                                                            link  \\\n",
       "11272  https://en.wikipedia.org/wiki/Maria_Kleschar-Samokhvalova   \n",
       "30556                  https://en.wikipedia.org/wiki/Ken_Emerson   \n",
       "\n",
       "       num_references  year     month info_parenth info_1 info_2 info_3  \\\n",
       "11272              23  2000      July         None   None          None   \n",
       "30556               7  2010  February                None          None   \n",
       "\n",
       "      info_4 info_5 info_6 info_7 info_8 info_9 info_10 info_11   age  \\\n",
       "11272   None   None   None   None   None   None    None    None  84.0   \n",
       "30556   None   None   None   None   None   None    None    None  82.0   \n",
       "\n",
       "      cause_of_death                           place_1 place_2  \\\n",
       "11272           None  United Socialist Soviet Republic  Russia   \n",
       "30556           None                         Australia    None   \n",
       "\n",
       "      info_parenth_copy  log_num_references  sciences  social  spiritual  \\\n",
       "11272              None            3.178054         0       0          0   \n",
       "30556                              2.079442         0       0          0   \n",
       "\n",
       "       academia_humanities  business_farming  arts  sports  \\\n",
       "11272                    0                 0     1       0   \n",
       "30556                    0                 0     1       0   \n",
       "\n",
       "       law_enf_military_operator  politics_govt_law  crime  \\\n",
       "11272                          0                  0      0   \n",
       "30556                          0                  0      0   \n",
       "\n",
       "       event_record_other  other_species  num_categories  \n",
       "11272                   0              0               1  \n",
       "30556                   0              0               1  "
      ]
     },
     "execution_count": 84,
     "metadata": {},
     "output_type": "execute_result"
    },
    {
     "data": {
      "application/javascript": [
       "\n",
       "            setTimeout(function() {\n",
       "                var nbb_cell_id = 84;\n",
       "                var nbb_unformatted_code = \"%%time\\n\\n# Dictionary version\\nsearch_dict = known_for_dict\\n\\n# Column to check\\ncolumn = 'info_2'\\n\\n# Dataframe\\ndataframe = df[column].notna()\\n\\n# For loop to find role in column and extract it as category\\nfor category, category_lst in search_dict.items():\\n    for role in category_lst:\\n        for index in dataframe.index:\\n            item = df.loc[index, column]\\n            if item:\\n                if role in item:\\n                    df.loc[index, category] = 1\\n                    df.loc[index, column] = item.replace(role, '').strip()\\n\\n# Updating num_categories\\ndf[\\\"num_categories\\\"] = df[known_for_dict.keys()].sum(axis=1)\\n\\n# Checking a sample of rows\\ndf[df['arts'] ==1].sample(2)\";\n",
       "                var nbb_formatted_code = \"%%time\\n\\n# Dictionary version\\nsearch_dict = known_for_dict\\n\\n# Column to check\\ncolumn = 'info_2'\\n\\n# Dataframe\\ndataframe = df[column].notna()\\n\\n# For loop to find role in column and extract it as category\\nfor category, category_lst in search_dict.items():\\n    for role in category_lst:\\n        for index in dataframe.index:\\n            item = df.loc[index, column]\\n            if item:\\n                if role in item:\\n                    df.loc[index, category] = 1\\n                    df.loc[index, column] = item.replace(role, '').strip()\\n\\n# Updating num_categories\\ndf[\\\"num_categories\\\"] = df[known_for_dict.keys()].sum(axis=1)\\n\\n# Checking a sample of rows\\ndf[df['arts'] ==1].sample(2)\";\n",
       "                var nbb_cells = Jupyter.notebook.get_cells();\n",
       "                for (var i = 0; i < nbb_cells.length; ++i) {\n",
       "                    if (nbb_cells[i].input_prompt_number == nbb_cell_id) {\n",
       "                        if (nbb_cells[i].get_text() == nbb_unformatted_code) {\n",
       "                             nbb_cells[i].set_text(nbb_formatted_code);\n",
       "                        }\n",
       "                        break;\n",
       "                    }\n",
       "                }\n",
       "            }, 500);\n",
       "            "
      ],
      "text/plain": [
       "<IPython.core.display.Javascript object>"
      ]
     },
     "metadata": {},
     "output_type": "display_data"
    }
   ],
   "source": [
    "%%time\n",
    "\n",
    "# Dictionary version\n",
    "search_dict = known_for_dict\n",
    "\n",
    "# Column to check\n",
    "column = 'info_2'\n",
    "\n",
    "# Dataframe\n",
    "dataframe = df[column].notna()\n",
    "\n",
    "# For loop to find role in column and extract it as category\n",
    "for category, category_lst in search_dict.items():\n",
    "    for role in category_lst:\n",
    "        for index in dataframe.index:\n",
    "            item = df.loc[index, column]\n",
    "            if item:\n",
    "                if role in item:\n",
    "                    df.loc[index, category] = 1\n",
    "                    df.loc[index, column] = item.replace(role, '').strip()\n",
    "\n",
    "# Updating num_categories\n",
    "df[\"num_categories\"] = df[known_for_dict.keys()].sum(axis=1)\n",
    "\n",
    "# Checking a sample of rows\n",
    "df[df['arts'] ==1].sample(2)"
   ]
  },
  {
   "cell_type": "markdown",
   "id": "796d1fcc",
   "metadata": {},
   "source": [
    "#### Checking the Number of Rows without a First Category"
   ]
  },
  {
   "cell_type": "code",
   "execution_count": 85,
   "id": "d1eadb2e",
   "metadata": {},
   "outputs": [
    {
     "name": "stdout",
     "output_type": "stream",
     "text": [
      "There are 30044 entries without any known_for category.\n"
     ]
    },
    {
     "data": {
      "application/javascript": [
       "\n",
       "            setTimeout(function() {\n",
       "                var nbb_cell_id = 85;\n",
       "                var nbb_unformatted_code = \"# Checking the number of rows without a first category\\nprint(\\n    f'There are {len(df[df[\\\"num_categories\\\"]==0])} entries without any known_for category.'\\n)\";\n",
       "                var nbb_formatted_code = \"# Checking the number of rows without a first category\\nprint(\\n    f'There are {len(df[df[\\\"num_categories\\\"]==0])} entries without any known_for category.'\\n)\";\n",
       "                var nbb_cells = Jupyter.notebook.get_cells();\n",
       "                for (var i = 0; i < nbb_cells.length; ++i) {\n",
       "                    if (nbb_cells[i].input_prompt_number == nbb_cell_id) {\n",
       "                        if (nbb_cells[i].get_text() == nbb_unformatted_code) {\n",
       "                             nbb_cells[i].set_text(nbb_formatted_code);\n",
       "                        }\n",
       "                        break;\n",
       "                    }\n",
       "                }\n",
       "            }, 500);\n",
       "            "
      ],
      "text/plain": [
       "<IPython.core.display.Javascript object>"
      ]
     },
     "metadata": {},
     "output_type": "display_data"
    }
   ],
   "source": [
    "# Checking the number of rows without a first category\n",
    "print(\n",
    "    f'There are {len(df[df[\"num_categories\"]==0])} entries without any known_for category.'\n",
    ")"
   ]
  },
  {
   "cell_type": "markdown",
   "id": "765f302e",
   "metadata": {},
   "source": [
    "#### Observations:\n",
    "- We will proceed to rebuild `known_for_dict` for the next iteration."
   ]
  },
  {
   "cell_type": "markdown",
   "id": "50f445ce",
   "metadata": {},
   "source": [
    "#### Finding `known_for` Roles in `info_2`"
   ]
  },
  {
   "cell_type": "code",
   "execution_count": 86,
   "id": "9c6c4fef",
   "metadata": {},
   "outputs": [
    {
     "data": {
      "application/javascript": [
       "\n",
       "            setTimeout(function() {\n",
       "                var nbb_cell_id = 86;\n",
       "                var nbb_unformatted_code = \"# # Obtaining values for column and their counts\\n# roles_list = df[\\\"info_2\\\"].value_counts(ascending=True).index.tolist()\";\n",
       "                var nbb_formatted_code = \"# # Obtaining values for column and their counts\\n# roles_list = df[\\\"info_2\\\"].value_counts(ascending=True).index.tolist()\";\n",
       "                var nbb_cells = Jupyter.notebook.get_cells();\n",
       "                for (var i = 0; i < nbb_cells.length; ++i) {\n",
       "                    if (nbb_cells[i].input_prompt_number == nbb_cell_id) {\n",
       "                        if (nbb_cells[i].get_text() == nbb_unformatted_code) {\n",
       "                             nbb_cells[i].set_text(nbb_formatted_code);\n",
       "                        }\n",
       "                        break;\n",
       "                    }\n",
       "                }\n",
       "            }, 500);\n",
       "            "
      ],
      "text/plain": [
       "<IPython.core.display.Javascript object>"
      ]
     },
     "metadata": {},
     "output_type": "display_data"
    }
   ],
   "source": [
    "# # Obtaining values for column and their counts\n",
    "# roles_list = df[\"info_2\"].value_counts(ascending=True).index.tolist()"
   ]
  },
  {
   "cell_type": "code",
   "execution_count": 87,
   "id": "1216c469",
   "metadata": {},
   "outputs": [
    {
     "data": {
      "application/javascript": [
       "\n",
       "            setTimeout(function() {\n",
       "                var nbb_cell_id = 87;\n",
       "                var nbb_unformatted_code = \"# # Code to check each value\\n# roles_list.pop()\";\n",
       "                var nbb_formatted_code = \"# # Code to check each value\\n# roles_list.pop()\";\n",
       "                var nbb_cells = Jupyter.notebook.get_cells();\n",
       "                for (var i = 0; i < nbb_cells.length; ++i) {\n",
       "                    if (nbb_cells[i].input_prompt_number == nbb_cell_id) {\n",
       "                        if (nbb_cells[i].get_text() == nbb_unformatted_code) {\n",
       "                             nbb_cells[i].set_text(nbb_formatted_code);\n",
       "                        }\n",
       "                        break;\n",
       "                    }\n",
       "                }\n",
       "            }, 500);\n",
       "            "
      ],
      "text/plain": [
       "<IPython.core.display.Javascript object>"
      ]
     },
     "metadata": {},
     "output_type": "display_data"
    }
   ],
   "source": [
    "# # Code to check each value\n",
    "# roles_list.pop()"
   ]
  },
  {
   "cell_type": "code",
   "execution_count": 88,
   "id": "3863e883",
   "metadata": {},
   "outputs": [
    {
     "data": {
      "application/javascript": [
       "\n",
       "            setTimeout(function() {\n",
       "                var nbb_cell_id = 88;\n",
       "                var nbb_unformatted_code = \"# # Create specific_roles_list for above popped value\\n# specific_roles_list = (\\n#     df.loc[\\n#         [\\n#             index\\n#             for index in df[df[\\\"info_2\\\"].notna()].index\\n#             if \\\"conductor\\\" in df.loc[index, \\\"info_2\\\"]\\n#         ],\\n#         \\\"info_2\\\",\\n#     ]\\n#     .value_counts()\\n#     .index.tolist()\\n# )\";\n",
       "                var nbb_formatted_code = \"# # Create specific_roles_list for above popped value\\n# specific_roles_list = (\\n#     df.loc[\\n#         [\\n#             index\\n#             for index in df[df[\\\"info_2\\\"].notna()].index\\n#             if \\\"conductor\\\" in df.loc[index, \\\"info_2\\\"]\\n#         ],\\n#         \\\"info_2\\\",\\n#     ]\\n#     .value_counts()\\n#     .index.tolist()\\n# )\";\n",
       "                var nbb_cells = Jupyter.notebook.get_cells();\n",
       "                for (var i = 0; i < nbb_cells.length; ++i) {\n",
       "                    if (nbb_cells[i].input_prompt_number == nbb_cell_id) {\n",
       "                        if (nbb_cells[i].get_text() == nbb_unformatted_code) {\n",
       "                             nbb_cells[i].set_text(nbb_formatted_code);\n",
       "                        }\n",
       "                        break;\n",
       "                    }\n",
       "                }\n",
       "            }, 500);\n",
       "            "
      ],
      "text/plain": [
       "<IPython.core.display.Javascript object>"
      ]
     },
     "metadata": {},
     "output_type": "display_data"
    }
   ],
   "source": [
    "# # Create specific_roles_list for above popped value\n",
    "# specific_roles_list = (\n",
    "#     df.loc[\n",
    "#         [\n",
    "#             index\n",
    "#             for index in df[df[\"info_2\"].notna()].index\n",
    "#             if \"conductor\" in df.loc[index, \"info_2\"]\n",
    "#         ],\n",
    "#         \"info_2\",\n",
    "#     ]\n",
    "#     .value_counts()\n",
    "#     .index.tolist()\n",
    "# )"
   ]
  },
  {
   "cell_type": "code",
   "execution_count": 89,
   "id": "f0771867",
   "metadata": {},
   "outputs": [
    {
     "data": {
      "application/javascript": [
       "\n",
       "            setTimeout(function() {\n",
       "                var nbb_cell_id = 89;\n",
       "                var nbb_unformatted_code = \"# # Code to check each specific value\\n# specific_roles_list.pop()\";\n",
       "                var nbb_formatted_code = \"# # Code to check each specific value\\n# specific_roles_list.pop()\";\n",
       "                var nbb_cells = Jupyter.notebook.get_cells();\n",
       "                for (var i = 0; i < nbb_cells.length; ++i) {\n",
       "                    if (nbb_cells[i].input_prompt_number == nbb_cell_id) {\n",
       "                        if (nbb_cells[i].get_text() == nbb_unformatted_code) {\n",
       "                             nbb_cells[i].set_text(nbb_formatted_code);\n",
       "                        }\n",
       "                        break;\n",
       "                    }\n",
       "                }\n",
       "            }, 500);\n",
       "            "
      ],
      "text/plain": [
       "<IPython.core.display.Javascript object>"
      ]
     },
     "metadata": {},
     "output_type": "display_data"
    }
   ],
   "source": [
    "# # Code to check each specific value\n",
    "# specific_roles_list.pop()"
   ]
  },
  {
   "cell_type": "code",
   "execution_count": 90,
   "id": "63f3abc1",
   "metadata": {},
   "outputs": [
    {
     "data": {
      "application/javascript": [
       "\n",
       "            setTimeout(function() {\n",
       "                var nbb_cell_id = 90;\n",
       "                var nbb_unformatted_code = \"# # Example code to quick-screen values that may overlap categories\\n# df.loc[[index for index in df.index if \\\"and science writer\\\" in df.loc[index, \\\"info\\\"]]]\";\n",
       "                var nbb_formatted_code = \"# # Example code to quick-screen values that may overlap categories\\n# df.loc[[index for index in df.index if \\\"and science writer\\\" in df.loc[index, \\\"info\\\"]]]\";\n",
       "                var nbb_cells = Jupyter.notebook.get_cells();\n",
       "                for (var i = 0; i < nbb_cells.length; ++i) {\n",
       "                    if (nbb_cells[i].input_prompt_number == nbb_cell_id) {\n",
       "                        if (nbb_cells[i].get_text() == nbb_unformatted_code) {\n",
       "                             nbb_cells[i].set_text(nbb_formatted_code);\n",
       "                        }\n",
       "                        break;\n",
       "                    }\n",
       "                }\n",
       "            }, 500);\n",
       "            "
      ],
      "text/plain": [
       "<IPython.core.display.Javascript object>"
      ]
     },
     "metadata": {},
     "output_type": "display_data"
    }
   ],
   "source": [
    "# # Example code to quick-screen values that may overlap categories\n",
    "# df.loc[[index for index in df.index if \"and science writer\" in df.loc[index, \"info\"]]]"
   ]
  },
  {
   "cell_type": "code",
   "execution_count": 91,
   "id": "a5ff87fd",
   "metadata": {},
   "outputs": [
    {
     "data": {
      "application/javascript": [
       "\n",
       "            setTimeout(function() {\n",
       "                var nbb_cell_id = 91;\n",
       "                var nbb_unformatted_code = \"# # Example code to quick-screen values that may overlap categories\\n# df.loc[\\n#     [\\n#         index\\n#         for index in df.index\\n#         if \\\"outlaw country music singer songwriter\\\" in df.loc[index, \\\"info\\\"]\\n#     ]\\n# ]\";\n",
       "                var nbb_formatted_code = \"# # Example code to quick-screen values that may overlap categories\\n# df.loc[\\n#     [\\n#         index\\n#         for index in df.index\\n#         if \\\"outlaw country music singer songwriter\\\" in df.loc[index, \\\"info\\\"]\\n#     ]\\n# ]\";\n",
       "                var nbb_cells = Jupyter.notebook.get_cells();\n",
       "                for (var i = 0; i < nbb_cells.length; ++i) {\n",
       "                    if (nbb_cells[i].input_prompt_number == nbb_cell_id) {\n",
       "                        if (nbb_cells[i].get_text() == nbb_unformatted_code) {\n",
       "                             nbb_cells[i].set_text(nbb_formatted_code);\n",
       "                        }\n",
       "                        break;\n",
       "                    }\n",
       "                }\n",
       "            }, 500);\n",
       "            "
      ],
      "text/plain": [
       "<IPython.core.display.Javascript object>"
      ]
     },
     "metadata": {},
     "output_type": "display_data"
    }
   ],
   "source": [
    "# # Example code to quick-screen values that may overlap categories\n",
    "# df.loc[\n",
    "#     [\n",
    "#         index\n",
    "#         for index in df.index\n",
    "#         if \"outlaw country music singer songwriter\" in df.loc[index, \"info\"]\n",
    "#     ]\n",
    "# ]"
   ]
  },
  {
   "cell_type": "code",
   "execution_count": 92,
   "id": "edda07ad",
   "metadata": {},
   "outputs": [
    {
     "data": {
      "application/javascript": [
       "\n",
       "            setTimeout(function() {\n",
       "                var nbb_cell_id = 92;\n",
       "                var nbb_unformatted_code = \"# # Example code to quick-check a specific entry\\n# df[df[\\\"info_2\\\"] == \\\"conductor and music administrator\\\"]\";\n",
       "                var nbb_formatted_code = \"# # Example code to quick-check a specific entry\\n# df[df[\\\"info_2\\\"] == \\\"conductor and music administrator\\\"]\";\n",
       "                var nbb_cells = Jupyter.notebook.get_cells();\n",
       "                for (var i = 0; i < nbb_cells.length; ++i) {\n",
       "                    if (nbb_cells[i].input_prompt_number == nbb_cell_id) {\n",
       "                        if (nbb_cells[i].get_text() == nbb_unformatted_code) {\n",
       "                             nbb_cells[i].set_text(nbb_formatted_code);\n",
       "                        }\n",
       "                        break;\n",
       "                    }\n",
       "                }\n",
       "            }, 500);\n",
       "            "
      ],
      "text/plain": [
       "<IPython.core.display.Javascript object>"
      ]
     },
     "metadata": {},
     "output_type": "display_data"
    }
   ],
   "source": [
    "# # Example code to quick-check a specific entry\n",
    "# df[df[\"info_2\"] == \"conductor and music administrator\"]"
   ]
  },
  {
   "cell_type": "markdown",
   "id": "7501df8c",
   "metadata": {},
   "source": [
    "#### Creating Lists for Each `known_for` Category"
   ]
  },
  {
   "cell_type": "code",
   "execution_count": 93,
   "id": "efce53e8",
   "metadata": {},
   "outputs": [
    {
     "data": {
      "application/javascript": [
       "\n",
       "            setTimeout(function() {\n",
       "                var nbb_cell_id = 93;\n",
       "                var nbb_unformatted_code = \"# Creating lists for each category\\npolitics_govt_law = []\\n\\narts = [\\n    \\\"music director and conductor of the Nashville Symphony Orchestra\\\",\\n    \\\"conductor and founder of the Philharmonia Virtuosi\\\",\\n    \\\"choral conductor and Baroque music specialist\\\",\\n    \\\"Grammy Award winning conductor and director\\\",\\n    \\\"conductor and director of the City Opera\\\",\\n    \\\"conductor and founder of the Boys Choir\\\",\\n    \\\"music director and choral conductor\\\",\\n    \\\"choir conductor and choral editor\\\",\\n    \\\"conductor and music administrator\\\",\\n    \\\"orchestral and opera conductor\\\",\\n    \\\"conductor and musical director\\\",\\n    \\\"choral conductor and teacher\\\",\\n    \\\"harpsichordist and conductor\\\",\\n    \\\"operatic tenor and conductor\\\",\\n    \\\"conductor of classical music\\\",\\n    \\\"symphony orchestra conductor\\\",\\n    \\\"music producer and conductor\\\",\\n    \\\"conductor and music director\\\",\\n    \\\"chorus master and conductor\\\",\\n    \\\"jazz conductor and arranger\\\",\\n    \\\"choral conductor and music\\\",\\n    \\\"conductor and viola player\\\",\\n    \\\"conductor of popular music\\\",\\n    \\\"conductor and accordionist\\\",\\n    \\\"conductor and broadcaster\\\",\\n    \\\"horn player and conductor\\\",\\n    \\\"clarinetist and conductor\\\",\\n    \\\"violinist and conductor\\\",\\n    \\\"conductor and violinist\\\",\\n    \\\"timpanist and conductor\\\",\\n    \\\"flautist and conductor\\\",\\n    \\\"organist and conductor\\\",\\n    \\\"baritone and conductor\\\",\\n    \\\"flutist and conductor\\\",\\n    \\\"conductor and violist\\\",\\n    \\\"violist and conductor\\\",\\n    \\\"cellist and conductor\\\",\\n    \\\"pianist and conductor\\\",\\n    \\\"conductor and cellist\\\",\\n    \\\"conductor and pianist\\\",\\n    \\\"orchestral conductor\\\",\\n    \\\"orchestra conductor\\\",\\n    \\\"and choir conductor\\\",\\n    \\\"classical conductor\\\",\\n    \\\"conductor  musicals\\\",\\n    \\\"conductor and music\\\",\\n    \\\"symphony conductor\\\",\\n    \\\"musical conductor\\\",\\n    \\\"choral conductor\\\",\\n    \\\"opera conductor\\\",\\n    \\\"music conductor\\\",\\n    \\\"and conductor\\\",\\n    \\\"conductor and\\\",\\n    \\\"conductor\\\",\\n]\\nsports = []\\nsciences = [\\n    \\\"pioneer in the semiconductor industry\\\",\\n]\\n\\nbusiness_farming = []\\nacademia_humanities = []\\nlaw_enf_military_operator = []\\nspiritual = []\\nsocial = []\\ncrime = []\\nevent_record_other = []\\nother_species = []\";\n",
       "                var nbb_formatted_code = \"# Creating lists for each category\\npolitics_govt_law = []\\n\\narts = [\\n    \\\"music director and conductor of the Nashville Symphony Orchestra\\\",\\n    \\\"conductor and founder of the Philharmonia Virtuosi\\\",\\n    \\\"choral conductor and Baroque music specialist\\\",\\n    \\\"Grammy Award winning conductor and director\\\",\\n    \\\"conductor and director of the City Opera\\\",\\n    \\\"conductor and founder of the Boys Choir\\\",\\n    \\\"music director and choral conductor\\\",\\n    \\\"choir conductor and choral editor\\\",\\n    \\\"conductor and music administrator\\\",\\n    \\\"orchestral and opera conductor\\\",\\n    \\\"conductor and musical director\\\",\\n    \\\"choral conductor and teacher\\\",\\n    \\\"harpsichordist and conductor\\\",\\n    \\\"operatic tenor and conductor\\\",\\n    \\\"conductor of classical music\\\",\\n    \\\"symphony orchestra conductor\\\",\\n    \\\"music producer and conductor\\\",\\n    \\\"conductor and music director\\\",\\n    \\\"chorus master and conductor\\\",\\n    \\\"jazz conductor and arranger\\\",\\n    \\\"choral conductor and music\\\",\\n    \\\"conductor and viola player\\\",\\n    \\\"conductor of popular music\\\",\\n    \\\"conductor and accordionist\\\",\\n    \\\"conductor and broadcaster\\\",\\n    \\\"horn player and conductor\\\",\\n    \\\"clarinetist and conductor\\\",\\n    \\\"violinist and conductor\\\",\\n    \\\"conductor and violinist\\\",\\n    \\\"timpanist and conductor\\\",\\n    \\\"flautist and conductor\\\",\\n    \\\"organist and conductor\\\",\\n    \\\"baritone and conductor\\\",\\n    \\\"flutist and conductor\\\",\\n    \\\"conductor and violist\\\",\\n    \\\"violist and conductor\\\",\\n    \\\"cellist and conductor\\\",\\n    \\\"pianist and conductor\\\",\\n    \\\"conductor and cellist\\\",\\n    \\\"conductor and pianist\\\",\\n    \\\"orchestral conductor\\\",\\n    \\\"orchestra conductor\\\",\\n    \\\"and choir conductor\\\",\\n    \\\"classical conductor\\\",\\n    \\\"conductor  musicals\\\",\\n    \\\"conductor and music\\\",\\n    \\\"symphony conductor\\\",\\n    \\\"musical conductor\\\",\\n    \\\"choral conductor\\\",\\n    \\\"opera conductor\\\",\\n    \\\"music conductor\\\",\\n    \\\"and conductor\\\",\\n    \\\"conductor and\\\",\\n    \\\"conductor\\\",\\n]\\nsports = []\\nsciences = [\\n    \\\"pioneer in the semiconductor industry\\\",\\n]\\n\\nbusiness_farming = []\\nacademia_humanities = []\\nlaw_enf_military_operator = []\\nspiritual = []\\nsocial = []\\ncrime = []\\nevent_record_other = []\\nother_species = []\";\n",
       "                var nbb_cells = Jupyter.notebook.get_cells();\n",
       "                for (var i = 0; i < nbb_cells.length; ++i) {\n",
       "                    if (nbb_cells[i].input_prompt_number == nbb_cell_id) {\n",
       "                        if (nbb_cells[i].get_text() == nbb_unformatted_code) {\n",
       "                             nbb_cells[i].set_text(nbb_formatted_code);\n",
       "                        }\n",
       "                        break;\n",
       "                    }\n",
       "                }\n",
       "            }, 500);\n",
       "            "
      ],
      "text/plain": [
       "<IPython.core.display.Javascript object>"
      ]
     },
     "metadata": {},
     "output_type": "display_data"
    }
   ],
   "source": [
    "# Creating lists for each category\n",
    "politics_govt_law = []\n",
    "\n",
    "arts = [\n",
    "    \"music director and conductor of the Nashville Symphony Orchestra\",\n",
    "    \"conductor and founder of the Philharmonia Virtuosi\",\n",
    "    \"choral conductor and Baroque music specialist\",\n",
    "    \"Grammy Award winning conductor and director\",\n",
    "    \"conductor and director of the City Opera\",\n",
    "    \"conductor and founder of the Boys Choir\",\n",
    "    \"music director and choral conductor\",\n",
    "    \"choir conductor and choral editor\",\n",
    "    \"conductor and music administrator\",\n",
    "    \"orchestral and opera conductor\",\n",
    "    \"conductor and musical director\",\n",
    "    \"choral conductor and teacher\",\n",
    "    \"harpsichordist and conductor\",\n",
    "    \"operatic tenor and conductor\",\n",
    "    \"conductor of classical music\",\n",
    "    \"symphony orchestra conductor\",\n",
    "    \"music producer and conductor\",\n",
    "    \"conductor and music director\",\n",
    "    \"chorus master and conductor\",\n",
    "    \"jazz conductor and arranger\",\n",
    "    \"choral conductor and music\",\n",
    "    \"conductor and viola player\",\n",
    "    \"conductor of popular music\",\n",
    "    \"conductor and accordionist\",\n",
    "    \"conductor and broadcaster\",\n",
    "    \"horn player and conductor\",\n",
    "    \"clarinetist and conductor\",\n",
    "    \"violinist and conductor\",\n",
    "    \"conductor and violinist\",\n",
    "    \"timpanist and conductor\",\n",
    "    \"flautist and conductor\",\n",
    "    \"organist and conductor\",\n",
    "    \"baritone and conductor\",\n",
    "    \"flutist and conductor\",\n",
    "    \"conductor and violist\",\n",
    "    \"violist and conductor\",\n",
    "    \"cellist and conductor\",\n",
    "    \"pianist and conductor\",\n",
    "    \"conductor and cellist\",\n",
    "    \"conductor and pianist\",\n",
    "    \"orchestral conductor\",\n",
    "    \"orchestra conductor\",\n",
    "    \"and choir conductor\",\n",
    "    \"classical conductor\",\n",
    "    \"conductor  musicals\",\n",
    "    \"conductor and music\",\n",
    "    \"symphony conductor\",\n",
    "    \"musical conductor\",\n",
    "    \"choral conductor\",\n",
    "    \"opera conductor\",\n",
    "    \"music conductor\",\n",
    "    \"and conductor\",\n",
    "    \"conductor and\",\n",
    "    \"conductor\",\n",
    "]\n",
    "sports = []\n",
    "sciences = [\n",
    "    \"pioneer in the semiconductor industry\",\n",
    "]\n",
    "\n",
    "business_farming = []\n",
    "academia_humanities = []\n",
    "law_enf_military_operator = []\n",
    "spiritual = []\n",
    "social = []\n",
    "crime = []\n",
    "event_record_other = []\n",
    "other_species = []"
   ]
  },
  {
   "cell_type": "markdown",
   "id": "c0324b74",
   "metadata": {},
   "source": [
    "#### Creating `known_for_dict` Dictionary of Category Keys and Specific Role Lists of Values"
   ]
  },
  {
   "cell_type": "code",
   "execution_count": 94,
   "id": "b6cf287e",
   "metadata": {},
   "outputs": [
    {
     "data": {
      "application/javascript": [
       "\n",
       "            setTimeout(function() {\n",
       "                var nbb_cell_id = 94;\n",
       "                var nbb_unformatted_code = \"# Combining separate lists into one dictionary\\nknown_for_dict = {\\n    \\\"social\\\": social,\\n    \\\"spiritual\\\": spiritual,\\n    \\\"academia_humanities\\\": academia_humanities,\\n    \\\"business_farming\\\": business_farming,\\n    \\\"sciences\\\": sciences,\\n    \\\"politics_govt_law\\\": politics_govt_law,\\n    \\\"law_enf_military_operator\\\": law_enf_military_operator,\\n    \\\"crime\\\": crime,\\n    \\\"event_record_other\\\": event_record_other,\\n    \\\"other_species\\\": other_species,\\n    \\\"arts\\\": arts,\\n    \\\"sports\\\": sports,\\n}\";\n",
       "                var nbb_formatted_code = \"# Combining separate lists into one dictionary\\nknown_for_dict = {\\n    \\\"social\\\": social,\\n    \\\"spiritual\\\": spiritual,\\n    \\\"academia_humanities\\\": academia_humanities,\\n    \\\"business_farming\\\": business_farming,\\n    \\\"sciences\\\": sciences,\\n    \\\"politics_govt_law\\\": politics_govt_law,\\n    \\\"law_enf_military_operator\\\": law_enf_military_operator,\\n    \\\"crime\\\": crime,\\n    \\\"event_record_other\\\": event_record_other,\\n    \\\"other_species\\\": other_species,\\n    \\\"arts\\\": arts,\\n    \\\"sports\\\": sports,\\n}\";\n",
       "                var nbb_cells = Jupyter.notebook.get_cells();\n",
       "                for (var i = 0; i < nbb_cells.length; ++i) {\n",
       "                    if (nbb_cells[i].input_prompt_number == nbb_cell_id) {\n",
       "                        if (nbb_cells[i].get_text() == nbb_unformatted_code) {\n",
       "                             nbb_cells[i].set_text(nbb_formatted_code);\n",
       "                        }\n",
       "                        break;\n",
       "                    }\n",
       "                }\n",
       "            }, 500);\n",
       "            "
      ],
      "text/plain": [
       "<IPython.core.display.Javascript object>"
      ]
     },
     "metadata": {},
     "output_type": "display_data"
    }
   ],
   "source": [
    "# Combining separate lists into one dictionary\n",
    "known_for_dict = {\n",
    "    \"social\": social,\n",
    "    \"spiritual\": spiritual,\n",
    "    \"academia_humanities\": academia_humanities,\n",
    "    \"business_farming\": business_farming,\n",
    "    \"sciences\": sciences,\n",
    "    \"politics_govt_law\": politics_govt_law,\n",
    "    \"law_enf_military_operator\": law_enf_military_operator,\n",
    "    \"crime\": crime,\n",
    "    \"event_record_other\": event_record_other,\n",
    "    \"other_species\": other_species,\n",
    "    \"arts\": arts,\n",
    "    \"sports\": sports,\n",
    "}"
   ]
  },
  {
   "cell_type": "markdown",
   "id": "37935aaf",
   "metadata": {},
   "source": [
    "#### Extracting Category from `info_2`"
   ]
  },
  {
   "cell_type": "code",
   "execution_count": 95,
   "id": "5fdd467b",
   "metadata": {},
   "outputs": [
    {
     "name": "stdout",
     "output_type": "stream",
     "text": [
      "CPU times: total: 28.3 s\n",
      "Wall time: 28.3 s\n"
     ]
    },
    {
     "data": {
      "text/html": [
       "<div>\n",
       "<style scoped>\n",
       "    .dataframe tbody tr th:only-of-type {\n",
       "        vertical-align: middle;\n",
       "    }\n",
       "\n",
       "    .dataframe tbody tr th {\n",
       "        vertical-align: top;\n",
       "    }\n",
       "\n",
       "    .dataframe thead th {\n",
       "        text-align: right;\n",
       "    }\n",
       "</style>\n",
       "<table border=\"1\" class=\"dataframe\">\n",
       "  <thead>\n",
       "    <tr style=\"text-align: right;\">\n",
       "      <th></th>\n",
       "      <th>day</th>\n",
       "      <th>name</th>\n",
       "      <th>info</th>\n",
       "      <th>link</th>\n",
       "      <th>num_references</th>\n",
       "      <th>year</th>\n",
       "      <th>month</th>\n",
       "      <th>info_parenth</th>\n",
       "      <th>info_1</th>\n",
       "      <th>info_2</th>\n",
       "      <th>info_3</th>\n",
       "      <th>info_4</th>\n",
       "      <th>info_5</th>\n",
       "      <th>info_6</th>\n",
       "      <th>info_7</th>\n",
       "      <th>info_8</th>\n",
       "      <th>info_9</th>\n",
       "      <th>info_10</th>\n",
       "      <th>info_11</th>\n",
       "      <th>age</th>\n",
       "      <th>cause_of_death</th>\n",
       "      <th>place_1</th>\n",
       "      <th>place_2</th>\n",
       "      <th>info_parenth_copy</th>\n",
       "      <th>log_num_references</th>\n",
       "      <th>sciences</th>\n",
       "      <th>social</th>\n",
       "      <th>spiritual</th>\n",
       "      <th>academia_humanities</th>\n",
       "      <th>business_farming</th>\n",
       "      <th>arts</th>\n",
       "      <th>sports</th>\n",
       "      <th>law_enf_military_operator</th>\n",
       "      <th>politics_govt_law</th>\n",
       "      <th>crime</th>\n",
       "      <th>event_record_other</th>\n",
       "      <th>other_species</th>\n",
       "      <th>num_categories</th>\n",
       "    </tr>\n",
       "  </thead>\n",
       "  <tbody>\n",
       "    <tr>\n",
       "      <th>68521</th>\n",
       "      <td>11</td>\n",
       "      <td>Polixeni Papapetrou</td>\n",
       "      <td>, 57, Australian photographer, breast cancer.</td>\n",
       "      <td>https://en.wikipedia.org/wiki/Polixeni_Papapetrou</td>\n",
       "      <td>48</td>\n",
       "      <td>2018</td>\n",
       "      <td>April</td>\n",
       "      <td>None</td>\n",
       "      <td>None</td>\n",
       "      <td></td>\n",
       "      <td>breast cancer</td>\n",
       "      <td>None</td>\n",
       "      <td>None</td>\n",
       "      <td>None</td>\n",
       "      <td>None</td>\n",
       "      <td>None</td>\n",
       "      <td>None</td>\n",
       "      <td>None</td>\n",
       "      <td>None</td>\n",
       "      <td>57.0</td>\n",
       "      <td>None</td>\n",
       "      <td>Australia</td>\n",
       "      <td>None</td>\n",
       "      <td>None</td>\n",
       "      <td>3.891820</td>\n",
       "      <td>0</td>\n",
       "      <td>0</td>\n",
       "      <td>0</td>\n",
       "      <td>0</td>\n",
       "      <td>0</td>\n",
       "      <td>1</td>\n",
       "      <td>0</td>\n",
       "      <td>0</td>\n",
       "      <td>0</td>\n",
       "      <td>0</td>\n",
       "      <td>0</td>\n",
       "      <td>0</td>\n",
       "      <td>1</td>\n",
       "    </tr>\n",
       "    <tr>\n",
       "      <th>88367</th>\n",
       "      <td>11</td>\n",
       "      <td>Jewlia Eisenberg</td>\n",
       "      <td>, 50, American singer , GATA2 deficiency.</td>\n",
       "      <td>https://en.wikipedia.org/wiki/Jewlia_Eisenberg</td>\n",
       "      <td>8</td>\n",
       "      <td>2021</td>\n",
       "      <td>March</td>\n",
       "      <td>Charming Hostess</td>\n",
       "      <td>None</td>\n",
       "      <td></td>\n",
       "      <td>GATA deficiency</td>\n",
       "      <td>None</td>\n",
       "      <td>None</td>\n",
       "      <td>None</td>\n",
       "      <td>None</td>\n",
       "      <td>None</td>\n",
       "      <td>None</td>\n",
       "      <td>None</td>\n",
       "      <td>None</td>\n",
       "      <td>50.0</td>\n",
       "      <td>None</td>\n",
       "      <td>United States of America</td>\n",
       "      <td>None</td>\n",
       "      <td>Charming Hostess</td>\n",
       "      <td>2.197225</td>\n",
       "      <td>0</td>\n",
       "      <td>0</td>\n",
       "      <td>0</td>\n",
       "      <td>0</td>\n",
       "      <td>0</td>\n",
       "      <td>1</td>\n",
       "      <td>0</td>\n",
       "      <td>0</td>\n",
       "      <td>0</td>\n",
       "      <td>0</td>\n",
       "      <td>0</td>\n",
       "      <td>0</td>\n",
       "      <td>1</td>\n",
       "    </tr>\n",
       "  </tbody>\n",
       "</table>\n",
       "</div>"
      ],
      "text/plain": [
       "      day                 name                                           info  \\\n",
       "68521  11  Polixeni Papapetrou  , 57, Australian photographer, breast cancer.   \n",
       "88367  11     Jewlia Eisenberg      , 50, American singer , GATA2 deficiency.   \n",
       "\n",
       "                                                    link  num_references  \\\n",
       "68521  https://en.wikipedia.org/wiki/Polixeni_Papapetrou              48   \n",
       "88367     https://en.wikipedia.org/wiki/Jewlia_Eisenberg               8   \n",
       "\n",
       "       year  month      info_parenth info_1 info_2           info_3 info_4  \\\n",
       "68521  2018  April              None   None           breast cancer   None   \n",
       "88367  2021  March  Charming Hostess   None         GATA deficiency   None   \n",
       "\n",
       "      info_5 info_6 info_7 info_8 info_9 info_10 info_11   age cause_of_death  \\\n",
       "68521   None   None   None   None   None    None    None  57.0           None   \n",
       "88367   None   None   None   None   None    None    None  50.0           None   \n",
       "\n",
       "                        place_1 place_2 info_parenth_copy  log_num_references  \\\n",
       "68521                 Australia    None              None            3.891820   \n",
       "88367  United States of America    None  Charming Hostess            2.197225   \n",
       "\n",
       "       sciences  social  spiritual  academia_humanities  business_farming  \\\n",
       "68521         0       0          0                    0                 0   \n",
       "88367         0       0          0                    0                 0   \n",
       "\n",
       "       arts  sports  law_enf_military_operator  politics_govt_law  crime  \\\n",
       "68521     1       0                          0                  0      0   \n",
       "88367     1       0                          0                  0      0   \n",
       "\n",
       "       event_record_other  other_species  num_categories  \n",
       "68521                   0              0               1  \n",
       "88367                   0              0               1  "
      ]
     },
     "execution_count": 95,
     "metadata": {},
     "output_type": "execute_result"
    },
    {
     "data": {
      "application/javascript": [
       "\n",
       "            setTimeout(function() {\n",
       "                var nbb_cell_id = 95;\n",
       "                var nbb_unformatted_code = \"%%time\\n\\n# Dictionary version\\nsearch_dict = known_for_dict\\n\\n# Column to check\\ncolumn = 'info_2'\\n\\n# Dataframe\\ndataframe = df[column].notna()\\n\\n# For loop to find role in column and extract it as category\\nfor category, category_lst in search_dict.items():\\n    for role in category_lst:\\n        for index in dataframe.index:\\n            item = df.loc[index, column]\\n            if item:\\n                if role in item:\\n                    df.loc[index, category] = 1\\n                    df.loc[index, column] = item.replace(role, '').strip()\\n\\n# Updating num_categories\\ndf[\\\"num_categories\\\"] = df[known_for_dict.keys()].sum(axis=1)\\n\\n# Checking a sample of rows\\ndf[df['arts'] ==1].sample(2)\";\n",
       "                var nbb_formatted_code = \"%%time\\n\\n# Dictionary version\\nsearch_dict = known_for_dict\\n\\n# Column to check\\ncolumn = 'info_2'\\n\\n# Dataframe\\ndataframe = df[column].notna()\\n\\n# For loop to find role in column and extract it as category\\nfor category, category_lst in search_dict.items():\\n    for role in category_lst:\\n        for index in dataframe.index:\\n            item = df.loc[index, column]\\n            if item:\\n                if role in item:\\n                    df.loc[index, category] = 1\\n                    df.loc[index, column] = item.replace(role, '').strip()\\n\\n# Updating num_categories\\ndf[\\\"num_categories\\\"] = df[known_for_dict.keys()].sum(axis=1)\\n\\n# Checking a sample of rows\\ndf[df['arts'] ==1].sample(2)\";\n",
       "                var nbb_cells = Jupyter.notebook.get_cells();\n",
       "                for (var i = 0; i < nbb_cells.length; ++i) {\n",
       "                    if (nbb_cells[i].input_prompt_number == nbb_cell_id) {\n",
       "                        if (nbb_cells[i].get_text() == nbb_unformatted_code) {\n",
       "                             nbb_cells[i].set_text(nbb_formatted_code);\n",
       "                        }\n",
       "                        break;\n",
       "                    }\n",
       "                }\n",
       "            }, 500);\n",
       "            "
      ],
      "text/plain": [
       "<IPython.core.display.Javascript object>"
      ]
     },
     "metadata": {},
     "output_type": "display_data"
    }
   ],
   "source": [
    "%%time\n",
    "\n",
    "# Dictionary version\n",
    "search_dict = known_for_dict\n",
    "\n",
    "# Column to check\n",
    "column = 'info_2'\n",
    "\n",
    "# Dataframe\n",
    "dataframe = df[column].notna()\n",
    "\n",
    "# For loop to find role in column and extract it as category\n",
    "for category, category_lst in search_dict.items():\n",
    "    for role in category_lst:\n",
    "        for index in dataframe.index:\n",
    "            item = df.loc[index, column]\n",
    "            if item:\n",
    "                if role in item:\n",
    "                    df.loc[index, category] = 1\n",
    "                    df.loc[index, column] = item.replace(role, '').strip()\n",
    "\n",
    "# Updating num_categories\n",
    "df[\"num_categories\"] = df[known_for_dict.keys()].sum(axis=1)\n",
    "\n",
    "# Checking a sample of rows\n",
    "df[df['arts'] ==1].sample(2)"
   ]
  },
  {
   "cell_type": "markdown",
   "id": "6da739f9",
   "metadata": {},
   "source": [
    "#### Checking the Number of Rows without a First Category"
   ]
  },
  {
   "cell_type": "code",
   "execution_count": 96,
   "id": "5658a44e",
   "metadata": {},
   "outputs": [
    {
     "name": "stdout",
     "output_type": "stream",
     "text": [
      "There are 29791 entries without any known_for category.\n"
     ]
    },
    {
     "data": {
      "application/javascript": [
       "\n",
       "            setTimeout(function() {\n",
       "                var nbb_cell_id = 96;\n",
       "                var nbb_unformatted_code = \"# Checking the number of rows without a first category\\nprint(\\n    f'There are {len(df[df[\\\"num_categories\\\"]==0])} entries without any known_for category.'\\n)\";\n",
       "                var nbb_formatted_code = \"# Checking the number of rows without a first category\\nprint(\\n    f'There are {len(df[df[\\\"num_categories\\\"]==0])} entries without any known_for category.'\\n)\";\n",
       "                var nbb_cells = Jupyter.notebook.get_cells();\n",
       "                for (var i = 0; i < nbb_cells.length; ++i) {\n",
       "                    if (nbb_cells[i].input_prompt_number == nbb_cell_id) {\n",
       "                        if (nbb_cells[i].get_text() == nbb_unformatted_code) {\n",
       "                             nbb_cells[i].set_text(nbb_formatted_code);\n",
       "                        }\n",
       "                        break;\n",
       "                    }\n",
       "                }\n",
       "            }, 500);\n",
       "            "
      ],
      "text/plain": [
       "<IPython.core.display.Javascript object>"
      ]
     },
     "metadata": {},
     "output_type": "display_data"
    }
   ],
   "source": [
    "# Checking the number of rows without a first category\n",
    "print(\n",
    "    f'There are {len(df[df[\"num_categories\"]==0])} entries without any known_for category.'\n",
    ")"
   ]
  },
  {
   "cell_type": "markdown",
   "id": "35a0d2aa",
   "metadata": {},
   "source": [
    "#### Observations:\n",
    "- We will proceed to rebuild `known_for_dict` for the next iteration."
   ]
  },
  {
   "cell_type": "markdown",
   "id": "8ab6cd25",
   "metadata": {},
   "source": [
    "#### Finding `known_for` Roles in `info_2`"
   ]
  },
  {
   "cell_type": "code",
   "execution_count": 97,
   "id": "97026b08",
   "metadata": {},
   "outputs": [
    {
     "data": {
      "application/javascript": [
       "\n",
       "            setTimeout(function() {\n",
       "                var nbb_cell_id = 97;\n",
       "                var nbb_unformatted_code = \"# # Obtaining values for column and their counts\\n# roles_list = df[\\\"info_2\\\"].value_counts(ascending=True).index.tolist()\";\n",
       "                var nbb_formatted_code = \"# # Obtaining values for column and their counts\\n# roles_list = df[\\\"info_2\\\"].value_counts(ascending=True).index.tolist()\";\n",
       "                var nbb_cells = Jupyter.notebook.get_cells();\n",
       "                for (var i = 0; i < nbb_cells.length; ++i) {\n",
       "                    if (nbb_cells[i].input_prompt_number == nbb_cell_id) {\n",
       "                        if (nbb_cells[i].get_text() == nbb_unformatted_code) {\n",
       "                             nbb_cells[i].set_text(nbb_formatted_code);\n",
       "                        }\n",
       "                        break;\n",
       "                    }\n",
       "                }\n",
       "            }, 500);\n",
       "            "
      ],
      "text/plain": [
       "<IPython.core.display.Javascript object>"
      ]
     },
     "metadata": {},
     "output_type": "display_data"
    }
   ],
   "source": [
    "# # Obtaining values for column and their counts\n",
    "# roles_list = df[\"info_2\"].value_counts(ascending=True).index.tolist()"
   ]
  },
  {
   "cell_type": "code",
   "execution_count": 98,
   "id": "f618020e",
   "metadata": {},
   "outputs": [
    {
     "data": {
      "application/javascript": [
       "\n",
       "            setTimeout(function() {\n",
       "                var nbb_cell_id = 98;\n",
       "                var nbb_unformatted_code = \"# # Code to check each value\\n# roles_list.pop()\";\n",
       "                var nbb_formatted_code = \"# # Code to check each value\\n# roles_list.pop()\";\n",
       "                var nbb_cells = Jupyter.notebook.get_cells();\n",
       "                for (var i = 0; i < nbb_cells.length; ++i) {\n",
       "                    if (nbb_cells[i].input_prompt_number == nbb_cell_id) {\n",
       "                        if (nbb_cells[i].get_text() == nbb_unformatted_code) {\n",
       "                             nbb_cells[i].set_text(nbb_formatted_code);\n",
       "                        }\n",
       "                        break;\n",
       "                    }\n",
       "                }\n",
       "            }, 500);\n",
       "            "
      ],
      "text/plain": [
       "<IPython.core.display.Javascript object>"
      ]
     },
     "metadata": {},
     "output_type": "display_data"
    }
   ],
   "source": [
    "# # Code to check each value\n",
    "# roles_list.pop()"
   ]
  },
  {
   "cell_type": "code",
   "execution_count": 99,
   "id": "6d0fbb34",
   "metadata": {},
   "outputs": [
    {
     "data": {
      "application/javascript": [
       "\n",
       "            setTimeout(function() {\n",
       "                var nbb_cell_id = 99;\n",
       "                var nbb_unformatted_code = \"# # Create specific_roles_list for above popped value\\n# specific_roles_list = (\\n#     df.loc[\\n#         [\\n#             index\\n#             for index in df[df[\\\"info_2\\\"].notna()].index\\n#             if \\\"pianist\\\" in df.loc[index, \\\"info_2\\\"]\\n#         ],\\n#         \\\"info_2\\\",\\n#     ]\\n#     .value_counts()\\n#     .index.tolist()\\n# )\";\n",
       "                var nbb_formatted_code = \"# # Create specific_roles_list for above popped value\\n# specific_roles_list = (\\n#     df.loc[\\n#         [\\n#             index\\n#             for index in df[df[\\\"info_2\\\"].notna()].index\\n#             if \\\"pianist\\\" in df.loc[index, \\\"info_2\\\"]\\n#         ],\\n#         \\\"info_2\\\",\\n#     ]\\n#     .value_counts()\\n#     .index.tolist()\\n# )\";\n",
       "                var nbb_cells = Jupyter.notebook.get_cells();\n",
       "                for (var i = 0; i < nbb_cells.length; ++i) {\n",
       "                    if (nbb_cells[i].input_prompt_number == nbb_cell_id) {\n",
       "                        if (nbb_cells[i].get_text() == nbb_unformatted_code) {\n",
       "                             nbb_cells[i].set_text(nbb_formatted_code);\n",
       "                        }\n",
       "                        break;\n",
       "                    }\n",
       "                }\n",
       "            }, 500);\n",
       "            "
      ],
      "text/plain": [
       "<IPython.core.display.Javascript object>"
      ]
     },
     "metadata": {},
     "output_type": "display_data"
    }
   ],
   "source": [
    "# # Create specific_roles_list for above popped value\n",
    "# specific_roles_list = (\n",
    "#     df.loc[\n",
    "#         [\n",
    "#             index\n",
    "#             for index in df[df[\"info_2\"].notna()].index\n",
    "#             if \"pianist\" in df.loc[index, \"info_2\"]\n",
    "#         ],\n",
    "#         \"info_2\",\n",
    "#     ]\n",
    "#     .value_counts()\n",
    "#     .index.tolist()\n",
    "# )"
   ]
  },
  {
   "cell_type": "code",
   "execution_count": 100,
   "id": "2af1d0bc",
   "metadata": {},
   "outputs": [
    {
     "data": {
      "application/javascript": [
       "\n",
       "            setTimeout(function() {\n",
       "                var nbb_cell_id = 100;\n",
       "                var nbb_unformatted_code = \"# # Code to check each specific value\\n# specific_roles_list.pop()\";\n",
       "                var nbb_formatted_code = \"# # Code to check each specific value\\n# specific_roles_list.pop()\";\n",
       "                var nbb_cells = Jupyter.notebook.get_cells();\n",
       "                for (var i = 0; i < nbb_cells.length; ++i) {\n",
       "                    if (nbb_cells[i].input_prompt_number == nbb_cell_id) {\n",
       "                        if (nbb_cells[i].get_text() == nbb_unformatted_code) {\n",
       "                             nbb_cells[i].set_text(nbb_formatted_code);\n",
       "                        }\n",
       "                        break;\n",
       "                    }\n",
       "                }\n",
       "            }, 500);\n",
       "            "
      ],
      "text/plain": [
       "<IPython.core.display.Javascript object>"
      ]
     },
     "metadata": {},
     "output_type": "display_data"
    }
   ],
   "source": [
    "# # Code to check each specific value\n",
    "# specific_roles_list.pop()"
   ]
  },
  {
   "cell_type": "code",
   "execution_count": 101,
   "id": "daa3e233",
   "metadata": {},
   "outputs": [
    {
     "data": {
      "application/javascript": [
       "\n",
       "            setTimeout(function() {\n",
       "                var nbb_cell_id = 101;\n",
       "                var nbb_unformatted_code = \"# # Example code to quick-screen values that may overlap categories\\n# df.loc[\\n#     [\\n#         index\\n#         for index in df.index\\n#         if \\\"director of music academies\\\" in df.loc[index, \\\"info\\\"]\\n#     ]\\n# ]\";\n",
       "                var nbb_formatted_code = \"# # Example code to quick-screen values that may overlap categories\\n# df.loc[\\n#     [\\n#         index\\n#         for index in df.index\\n#         if \\\"director of music academies\\\" in df.loc[index, \\\"info\\\"]\\n#     ]\\n# ]\";\n",
       "                var nbb_cells = Jupyter.notebook.get_cells();\n",
       "                for (var i = 0; i < nbb_cells.length; ++i) {\n",
       "                    if (nbb_cells[i].input_prompt_number == nbb_cell_id) {\n",
       "                        if (nbb_cells[i].get_text() == nbb_unformatted_code) {\n",
       "                             nbb_cells[i].set_text(nbb_formatted_code);\n",
       "                        }\n",
       "                        break;\n",
       "                    }\n",
       "                }\n",
       "            }, 500);\n",
       "            "
      ],
      "text/plain": [
       "<IPython.core.display.Javascript object>"
      ]
     },
     "metadata": {},
     "output_type": "display_data"
    }
   ],
   "source": [
    "# # Example code to quick-screen values that may overlap categories\n",
    "# df.loc[\n",
    "#     [\n",
    "#         index\n",
    "#         for index in df.index\n",
    "#         if \"director of music academies\" in df.loc[index, \"info\"]\n",
    "#     ]\n",
    "# ]"
   ]
  },
  {
   "cell_type": "code",
   "execution_count": 102,
   "id": "f0baa298",
   "metadata": {},
   "outputs": [
    {
     "data": {
      "application/javascript": [
       "\n",
       "            setTimeout(function() {\n",
       "                var nbb_cell_id = 102;\n",
       "                var nbb_unformatted_code = \"# # Example code to quick-check a specific entry\\n# df[df[\\\"info_2\\\"] == \\\"pianist and director of music academies\\\"]\";\n",
       "                var nbb_formatted_code = \"# # Example code to quick-check a specific entry\\n# df[df[\\\"info_2\\\"] == \\\"pianist and director of music academies\\\"]\";\n",
       "                var nbb_cells = Jupyter.notebook.get_cells();\n",
       "                for (var i = 0; i < nbb_cells.length; ++i) {\n",
       "                    if (nbb_cells[i].input_prompt_number == nbb_cell_id) {\n",
       "                        if (nbb_cells[i].get_text() == nbb_unformatted_code) {\n",
       "                             nbb_cells[i].set_text(nbb_formatted_code);\n",
       "                        }\n",
       "                        break;\n",
       "                    }\n",
       "                }\n",
       "            }, 500);\n",
       "            "
      ],
      "text/plain": [
       "<IPython.core.display.Javascript object>"
      ]
     },
     "metadata": {},
     "output_type": "display_data"
    }
   ],
   "source": [
    "# # Example code to quick-check a specific entry\n",
    "# df[df[\"info_2\"] == \"pianist and director of music academies\"]"
   ]
  },
  {
   "cell_type": "markdown",
   "id": "4ea20370",
   "metadata": {},
   "source": [
    "#### Creating Lists for Each `known_for` Category"
   ]
  },
  {
   "cell_type": "code",
   "execution_count": 103,
   "id": "86ec5bf7",
   "metadata": {},
   "outputs": [
    {
     "data": {
      "application/javascript": [
       "\n",
       "            setTimeout(function() {\n",
       "                var nbb_cell_id = 103;\n",
       "                var nbb_unformatted_code = \"# Creating lists for each category\\npolitics_govt_law = []\\n\\narts = [\\n    \\\"music theorist and pianist specializing in Bach\\\",\\n    \\\"jazz pianist who played with Benny Goodman\\\",\\n    \\\"jazz pianist and record company executive\\\",\\n    \\\"Jewish pianist portrayed in the film\\\",\\n    \\\"concert pianist and record producer\\\",\\n    \\\"pianist and musical stage performer\\\",\\n    \\\"pianist and Grammy winning arranger\\\",\\n    \\\"festival promoter and jazz pianist\\\",\\n    \\\"free jazz pianist and vibraphonist\\\",\\n    \\\"jazz and R&B pianist and organist\\\",\\n    \\\"jazz pianist and radio presenter\\\",\\n    \\\"East Coast blues and R&B pianist\\\",\\n    \\\"harpsichordist and fortepianist\\\",\\n    \\\"jazz pianist and music arranger\\\",\\n    \\\"jazz pianist and accordionist\\\",\\n    \\\"cafe pianist and entertainer\\\",\\n    \\\"Hall of Fame country pianist\\\",\\n    \\\"jazz pianist and bandleader\\\",\\n    \\\"jazz bandleader and pianist\\\",\\n    \\\"pianist and opera director\\\",\\n    \\\"Moravian classical pianist\\\",\\n    \\\"blues pianist and organist\\\",\\n    \\\"pianist and harpsichordist\\\",\\n    \\\"jazz pianist and arranger\\\",\\n    \\\"jazz pianist and organist\\\",\\n    \\\"pianist for Frank Sinatra\\\",\\n    \\\"jazz pianist and vocalist\\\",\\n    \\\"pianist and vocal coach\\\",\\n    \\\"blues and swing pianist\\\",\\n    \\\"pianist and accompanist\\\",\\n    \\\"bandleader and pianist\\\",\\n    \\\"pianist and bandleader\\\",\\n    \\\"swing era jazz pianist\\\",\\n    \\\"blues and jazz pianist\\\",\\n    \\\"puppeteer and pianist\\\",\\n    \\\"post bop jazz pianist\\\",\\n    \\\"boogie woogie pianist\\\",\\n    \\\"popular music pianist\\\",\\n    \\\"pianist and organist\\\",\\n    \\\"classical pianist and\\\",\\n    \\\"pianist and arranger\\\",\\n    \\\"pianist and vocalist\\\",\\n    \\\"and concert pianist\\\",\\n    \\\"pianist and critic\\\",\\n    \\\"bebop jazz pianist\\\",\\n    \\\"free jazz pianist\\\",\\n    \\\"pianist and piano\\\",\\n    \\\"jazz funk pianist\\\",\\n    \\\"pianist and music\\\",\\n    \\\"classical pianist\\\",\\n    \\\"jazz pianist and\\\",\\n    \\\"concert pianist\\\",\\n    \\\"music  pianist\\\",\\n    \\\"tango pianist\\\",\\n    \\\"music pianist\\\",\\n    \\\"blues pianist\\\",\\n    \\\"rock pianist\\\",\\n    \\\"jazz pianist\\\",\\n    \\\"R&B pianist\\\",\\n    \\\"pianist and\\\",\\n    \\\"and pianist\\\",\\n    \\\"pianist\\\",\\n]\\nsports = [\\n    \\\"Olympic champion at the Summer Olympics\\\",\\n]\\nsciences = []\\n\\nbusiness_farming = []\\nacademia_humanities = [\\n    \\\"director of music academies\\\",\\n]\\nlaw_enf_military_operator = []\\nspiritual = []\\nsocial = []\\ncrime = []\\nevent_record_other = []\\nother_species = []\";\n",
       "                var nbb_formatted_code = \"# Creating lists for each category\\npolitics_govt_law = []\\n\\narts = [\\n    \\\"music theorist and pianist specializing in Bach\\\",\\n    \\\"jazz pianist who played with Benny Goodman\\\",\\n    \\\"jazz pianist and record company executive\\\",\\n    \\\"Jewish pianist portrayed in the film\\\",\\n    \\\"concert pianist and record producer\\\",\\n    \\\"pianist and musical stage performer\\\",\\n    \\\"pianist and Grammy winning arranger\\\",\\n    \\\"festival promoter and jazz pianist\\\",\\n    \\\"free jazz pianist and vibraphonist\\\",\\n    \\\"jazz and R&B pianist and organist\\\",\\n    \\\"jazz pianist and radio presenter\\\",\\n    \\\"East Coast blues and R&B pianist\\\",\\n    \\\"harpsichordist and fortepianist\\\",\\n    \\\"jazz pianist and music arranger\\\",\\n    \\\"jazz pianist and accordionist\\\",\\n    \\\"cafe pianist and entertainer\\\",\\n    \\\"Hall of Fame country pianist\\\",\\n    \\\"jazz pianist and bandleader\\\",\\n    \\\"jazz bandleader and pianist\\\",\\n    \\\"pianist and opera director\\\",\\n    \\\"Moravian classical pianist\\\",\\n    \\\"blues pianist and organist\\\",\\n    \\\"pianist and harpsichordist\\\",\\n    \\\"jazz pianist and arranger\\\",\\n    \\\"jazz pianist and organist\\\",\\n    \\\"pianist for Frank Sinatra\\\",\\n    \\\"jazz pianist and vocalist\\\",\\n    \\\"pianist and vocal coach\\\",\\n    \\\"blues and swing pianist\\\",\\n    \\\"pianist and accompanist\\\",\\n    \\\"bandleader and pianist\\\",\\n    \\\"pianist and bandleader\\\",\\n    \\\"swing era jazz pianist\\\",\\n    \\\"blues and jazz pianist\\\",\\n    \\\"puppeteer and pianist\\\",\\n    \\\"post bop jazz pianist\\\",\\n    \\\"boogie woogie pianist\\\",\\n    \\\"popular music pianist\\\",\\n    \\\"pianist and organist\\\",\\n    \\\"classical pianist and\\\",\\n    \\\"pianist and arranger\\\",\\n    \\\"pianist and vocalist\\\",\\n    \\\"and concert pianist\\\",\\n    \\\"pianist and critic\\\",\\n    \\\"bebop jazz pianist\\\",\\n    \\\"free jazz pianist\\\",\\n    \\\"pianist and piano\\\",\\n    \\\"jazz funk pianist\\\",\\n    \\\"pianist and music\\\",\\n    \\\"classical pianist\\\",\\n    \\\"jazz pianist and\\\",\\n    \\\"concert pianist\\\",\\n    \\\"music  pianist\\\",\\n    \\\"tango pianist\\\",\\n    \\\"music pianist\\\",\\n    \\\"blues pianist\\\",\\n    \\\"rock pianist\\\",\\n    \\\"jazz pianist\\\",\\n    \\\"R&B pianist\\\",\\n    \\\"pianist and\\\",\\n    \\\"and pianist\\\",\\n    \\\"pianist\\\",\\n]\\nsports = [\\n    \\\"Olympic champion at the Summer Olympics\\\",\\n]\\nsciences = []\\n\\nbusiness_farming = []\\nacademia_humanities = [\\n    \\\"director of music academies\\\",\\n]\\nlaw_enf_military_operator = []\\nspiritual = []\\nsocial = []\\ncrime = []\\nevent_record_other = []\\nother_species = []\";\n",
       "                var nbb_cells = Jupyter.notebook.get_cells();\n",
       "                for (var i = 0; i < nbb_cells.length; ++i) {\n",
       "                    if (nbb_cells[i].input_prompt_number == nbb_cell_id) {\n",
       "                        if (nbb_cells[i].get_text() == nbb_unformatted_code) {\n",
       "                             nbb_cells[i].set_text(nbb_formatted_code);\n",
       "                        }\n",
       "                        break;\n",
       "                    }\n",
       "                }\n",
       "            }, 500);\n",
       "            "
      ],
      "text/plain": [
       "<IPython.core.display.Javascript object>"
      ]
     },
     "metadata": {},
     "output_type": "display_data"
    }
   ],
   "source": [
    "# Creating lists for each category\n",
    "politics_govt_law = []\n",
    "\n",
    "arts = [\n",
    "    \"music theorist and pianist specializing in Bach\",\n",
    "    \"jazz pianist who played with Benny Goodman\",\n",
    "    \"jazz pianist and record company executive\",\n",
    "    \"Jewish pianist portrayed in the film\",\n",
    "    \"concert pianist and record producer\",\n",
    "    \"pianist and musical stage performer\",\n",
    "    \"pianist and Grammy winning arranger\",\n",
    "    \"festival promoter and jazz pianist\",\n",
    "    \"free jazz pianist and vibraphonist\",\n",
    "    \"jazz and R&B pianist and organist\",\n",
    "    \"jazz pianist and radio presenter\",\n",
    "    \"East Coast blues and R&B pianist\",\n",
    "    \"harpsichordist and fortepianist\",\n",
    "    \"jazz pianist and music arranger\",\n",
    "    \"jazz pianist and accordionist\",\n",
    "    \"cafe pianist and entertainer\",\n",
    "    \"Hall of Fame country pianist\",\n",
    "    \"jazz pianist and bandleader\",\n",
    "    \"jazz bandleader and pianist\",\n",
    "    \"pianist and opera director\",\n",
    "    \"Moravian classical pianist\",\n",
    "    \"blues pianist and organist\",\n",
    "    \"pianist and harpsichordist\",\n",
    "    \"jazz pianist and arranger\",\n",
    "    \"jazz pianist and organist\",\n",
    "    \"pianist for Frank Sinatra\",\n",
    "    \"jazz pianist and vocalist\",\n",
    "    \"pianist and vocal coach\",\n",
    "    \"blues and swing pianist\",\n",
    "    \"pianist and accompanist\",\n",
    "    \"bandleader and pianist\",\n",
    "    \"pianist and bandleader\",\n",
    "    \"swing era jazz pianist\",\n",
    "    \"blues and jazz pianist\",\n",
    "    \"puppeteer and pianist\",\n",
    "    \"post bop jazz pianist\",\n",
    "    \"boogie woogie pianist\",\n",
    "    \"popular music pianist\",\n",
    "    \"pianist and organist\",\n",
    "    \"classical pianist and\",\n",
    "    \"pianist and arranger\",\n",
    "    \"pianist and vocalist\",\n",
    "    \"and concert pianist\",\n",
    "    \"pianist and critic\",\n",
    "    \"bebop jazz pianist\",\n",
    "    \"free jazz pianist\",\n",
    "    \"pianist and piano\",\n",
    "    \"jazz funk pianist\",\n",
    "    \"pianist and music\",\n",
    "    \"classical pianist\",\n",
    "    \"jazz pianist and\",\n",
    "    \"concert pianist\",\n",
    "    \"music  pianist\",\n",
    "    \"tango pianist\",\n",
    "    \"music pianist\",\n",
    "    \"blues pianist\",\n",
    "    \"rock pianist\",\n",
    "    \"jazz pianist\",\n",
    "    \"R&B pianist\",\n",
    "    \"pianist and\",\n",
    "    \"and pianist\",\n",
    "    \"pianist\",\n",
    "]\n",
    "sports = [\n",
    "    \"Olympic champion at the Summer Olympics\",\n",
    "]\n",
    "sciences = []\n",
    "\n",
    "business_farming = []\n",
    "academia_humanities = [\n",
    "    \"director of music academies\",\n",
    "]\n",
    "law_enf_military_operator = []\n",
    "spiritual = []\n",
    "social = []\n",
    "crime = []\n",
    "event_record_other = []\n",
    "other_species = []"
   ]
  },
  {
   "cell_type": "code",
   "execution_count": 104,
   "id": "ca2e5e1e",
   "metadata": {},
   "outputs": [
    {
     "data": {
      "application/javascript": [
       "\n",
       "            setTimeout(function() {\n",
       "                var nbb_cell_id = 104;\n",
       "                var nbb_unformatted_code = \"# Dropping entry with link that points to page for husband of entry\\nindex = df[df[\\\"link\\\"] == \\\"https://en.wikipedia.org/wiki/Sylvia_Straus\\\"].index\\ndf.drop(index, inplace=True)\\ndf.reset_index(inplace=True, drop=True)\";\n",
       "                var nbb_formatted_code = \"# Dropping entry with link that points to page for husband of entry\\nindex = df[df[\\\"link\\\"] == \\\"https://en.wikipedia.org/wiki/Sylvia_Straus\\\"].index\\ndf.drop(index, inplace=True)\\ndf.reset_index(inplace=True, drop=True)\";\n",
       "                var nbb_cells = Jupyter.notebook.get_cells();\n",
       "                for (var i = 0; i < nbb_cells.length; ++i) {\n",
       "                    if (nbb_cells[i].input_prompt_number == nbb_cell_id) {\n",
       "                        if (nbb_cells[i].get_text() == nbb_unformatted_code) {\n",
       "                             nbb_cells[i].set_text(nbb_formatted_code);\n",
       "                        }\n",
       "                        break;\n",
       "                    }\n",
       "                }\n",
       "            }, 500);\n",
       "            "
      ],
      "text/plain": [
       "<IPython.core.display.Javascript object>"
      ]
     },
     "metadata": {},
     "output_type": "display_data"
    }
   ],
   "source": [
    "# Dropping entry with link that points to page for husband of entry\n",
    "index = df[df[\"link\"] == \"https://en.wikipedia.org/wiki/Sylvia_Straus\"].index\n",
    "df.drop(index, inplace=True)\n",
    "df.reset_index(inplace=True, drop=True)"
   ]
  },
  {
   "cell_type": "markdown",
   "id": "6b198298",
   "metadata": {},
   "source": [
    "#### Creating `known_for_dict` Dictionary of Category Keys and Specific Role Lists of Values"
   ]
  },
  {
   "cell_type": "code",
   "execution_count": 105,
   "id": "b609dda0",
   "metadata": {},
   "outputs": [
    {
     "data": {
      "application/javascript": [
       "\n",
       "            setTimeout(function() {\n",
       "                var nbb_cell_id = 105;\n",
       "                var nbb_unformatted_code = \"# Combining separate lists into one dictionary\\nknown_for_dict = {\\n    \\\"social\\\": social,\\n    \\\"spiritual\\\": spiritual,\\n    \\\"academia_humanities\\\": academia_humanities,\\n    \\\"business_farming\\\": business_farming,\\n    \\\"sciences\\\": sciences,\\n    \\\"politics_govt_law\\\": politics_govt_law,\\n    \\\"law_enf_military_operator\\\": law_enf_military_operator,\\n    \\\"crime\\\": crime,\\n    \\\"event_record_other\\\": event_record_other,\\n    \\\"other_species\\\": other_species,\\n    \\\"arts\\\": arts,\\n    \\\"sports\\\": sports,\\n}\";\n",
       "                var nbb_formatted_code = \"# Combining separate lists into one dictionary\\nknown_for_dict = {\\n    \\\"social\\\": social,\\n    \\\"spiritual\\\": spiritual,\\n    \\\"academia_humanities\\\": academia_humanities,\\n    \\\"business_farming\\\": business_farming,\\n    \\\"sciences\\\": sciences,\\n    \\\"politics_govt_law\\\": politics_govt_law,\\n    \\\"law_enf_military_operator\\\": law_enf_military_operator,\\n    \\\"crime\\\": crime,\\n    \\\"event_record_other\\\": event_record_other,\\n    \\\"other_species\\\": other_species,\\n    \\\"arts\\\": arts,\\n    \\\"sports\\\": sports,\\n}\";\n",
       "                var nbb_cells = Jupyter.notebook.get_cells();\n",
       "                for (var i = 0; i < nbb_cells.length; ++i) {\n",
       "                    if (nbb_cells[i].input_prompt_number == nbb_cell_id) {\n",
       "                        if (nbb_cells[i].get_text() == nbb_unformatted_code) {\n",
       "                             nbb_cells[i].set_text(nbb_formatted_code);\n",
       "                        }\n",
       "                        break;\n",
       "                    }\n",
       "                }\n",
       "            }, 500);\n",
       "            "
      ],
      "text/plain": [
       "<IPython.core.display.Javascript object>"
      ]
     },
     "metadata": {},
     "output_type": "display_data"
    }
   ],
   "source": [
    "# Combining separate lists into one dictionary\n",
    "known_for_dict = {\n",
    "    \"social\": social,\n",
    "    \"spiritual\": spiritual,\n",
    "    \"academia_humanities\": academia_humanities,\n",
    "    \"business_farming\": business_farming,\n",
    "    \"sciences\": sciences,\n",
    "    \"politics_govt_law\": politics_govt_law,\n",
    "    \"law_enf_military_operator\": law_enf_military_operator,\n",
    "    \"crime\": crime,\n",
    "    \"event_record_other\": event_record_other,\n",
    "    \"other_species\": other_species,\n",
    "    \"arts\": arts,\n",
    "    \"sports\": sports,\n",
    "}"
   ]
  },
  {
   "cell_type": "markdown",
   "id": "99411a8b",
   "metadata": {},
   "source": [
    "#### Extracting Category from `info_2`"
   ]
  },
  {
   "cell_type": "code",
   "execution_count": 106,
   "id": "0f7f1451",
   "metadata": {},
   "outputs": [
    {
     "name": "stdout",
     "output_type": "stream",
     "text": [
      "CPU times: total: 33.3 s\n",
      "Wall time: 33.3 s\n"
     ]
    },
    {
     "data": {
      "text/html": [
       "<div>\n",
       "<style scoped>\n",
       "    .dataframe tbody tr th:only-of-type {\n",
       "        vertical-align: middle;\n",
       "    }\n",
       "\n",
       "    .dataframe tbody tr th {\n",
       "        vertical-align: top;\n",
       "    }\n",
       "\n",
       "    .dataframe thead th {\n",
       "        text-align: right;\n",
       "    }\n",
       "</style>\n",
       "<table border=\"1\" class=\"dataframe\">\n",
       "  <thead>\n",
       "    <tr style=\"text-align: right;\">\n",
       "      <th></th>\n",
       "      <th>day</th>\n",
       "      <th>name</th>\n",
       "      <th>info</th>\n",
       "      <th>link</th>\n",
       "      <th>num_references</th>\n",
       "      <th>year</th>\n",
       "      <th>month</th>\n",
       "      <th>info_parenth</th>\n",
       "      <th>info_1</th>\n",
       "      <th>info_2</th>\n",
       "      <th>info_3</th>\n",
       "      <th>info_4</th>\n",
       "      <th>info_5</th>\n",
       "      <th>info_6</th>\n",
       "      <th>info_7</th>\n",
       "      <th>info_8</th>\n",
       "      <th>info_9</th>\n",
       "      <th>info_10</th>\n",
       "      <th>info_11</th>\n",
       "      <th>age</th>\n",
       "      <th>cause_of_death</th>\n",
       "      <th>place_1</th>\n",
       "      <th>place_2</th>\n",
       "      <th>info_parenth_copy</th>\n",
       "      <th>log_num_references</th>\n",
       "      <th>sciences</th>\n",
       "      <th>social</th>\n",
       "      <th>spiritual</th>\n",
       "      <th>academia_humanities</th>\n",
       "      <th>business_farming</th>\n",
       "      <th>arts</th>\n",
       "      <th>sports</th>\n",
       "      <th>law_enf_military_operator</th>\n",
       "      <th>politics_govt_law</th>\n",
       "      <th>crime</th>\n",
       "      <th>event_record_other</th>\n",
       "      <th>other_species</th>\n",
       "      <th>num_categories</th>\n",
       "    </tr>\n",
       "  </thead>\n",
       "  <tbody>\n",
       "    <tr>\n",
       "      <th>52626</th>\n",
       "      <td>27</td>\n",
       "      <td>Olga Syahputra</td>\n",
       "      <td>, 32, Indonesian actor, comedian, singer and television host, meningitis.</td>\n",
       "      <td>https://en.wikipedia.org/wiki/Olga_Syahputra</td>\n",
       "      <td>9</td>\n",
       "      <td>2015</td>\n",
       "      <td>March</td>\n",
       "      <td>None</td>\n",
       "      <td>None</td>\n",
       "      <td></td>\n",
       "      <td>comedian</td>\n",
       "      <td>singer and television host</td>\n",
       "      <td>meningitis</td>\n",
       "      <td>None</td>\n",
       "      <td>None</td>\n",
       "      <td>None</td>\n",
       "      <td>None</td>\n",
       "      <td>None</td>\n",
       "      <td>None</td>\n",
       "      <td>32.0</td>\n",
       "      <td>None</td>\n",
       "      <td>Indonesia</td>\n",
       "      <td>None</td>\n",
       "      <td>None</td>\n",
       "      <td>2.302585</td>\n",
       "      <td>0</td>\n",
       "      <td>0</td>\n",
       "      <td>0</td>\n",
       "      <td>0</td>\n",
       "      <td>0</td>\n",
       "      <td>1</td>\n",
       "      <td>0</td>\n",
       "      <td>0</td>\n",
       "      <td>0</td>\n",
       "      <td>0</td>\n",
       "      <td>0</td>\n",
       "      <td>0</td>\n",
       "      <td>1</td>\n",
       "    </tr>\n",
       "    <tr>\n",
       "      <th>92389</th>\n",
       "      <td>29</td>\n",
       "      <td>Rodney Rice</td>\n",
       "      <td>, 76, Irish journalist and broadcaster.</td>\n",
       "      <td>https://en.wikipedia.org/wiki/Rodney_Rice_(broadcaster)</td>\n",
       "      <td>4</td>\n",
       "      <td>2021</td>\n",
       "      <td>August</td>\n",
       "      <td>None</td>\n",
       "      <td>None</td>\n",
       "      <td></td>\n",
       "      <td>None</td>\n",
       "      <td>None</td>\n",
       "      <td>None</td>\n",
       "      <td>None</td>\n",
       "      <td>None</td>\n",
       "      <td>None</td>\n",
       "      <td>None</td>\n",
       "      <td>None</td>\n",
       "      <td>None</td>\n",
       "      <td>76.0</td>\n",
       "      <td>None</td>\n",
       "      <td>Ireland</td>\n",
       "      <td>None</td>\n",
       "      <td>None</td>\n",
       "      <td>1.609438</td>\n",
       "      <td>0</td>\n",
       "      <td>0</td>\n",
       "      <td>0</td>\n",
       "      <td>0</td>\n",
       "      <td>0</td>\n",
       "      <td>1</td>\n",
       "      <td>0</td>\n",
       "      <td>0</td>\n",
       "      <td>0</td>\n",
       "      <td>0</td>\n",
       "      <td>0</td>\n",
       "      <td>0</td>\n",
       "      <td>1</td>\n",
       "    </tr>\n",
       "  </tbody>\n",
       "</table>\n",
       "</div>"
      ],
      "text/plain": [
       "      day            name  \\\n",
       "52626  27  Olga Syahputra   \n",
       "92389  29     Rodney Rice   \n",
       "\n",
       "                                                                            info  \\\n",
       "52626  , 32, Indonesian actor, comedian, singer and television host, meningitis.   \n",
       "92389                                    , 76, Irish journalist and broadcaster.   \n",
       "\n",
       "                                                          link  \\\n",
       "52626             https://en.wikipedia.org/wiki/Olga_Syahputra   \n",
       "92389  https://en.wikipedia.org/wiki/Rodney_Rice_(broadcaster)   \n",
       "\n",
       "       num_references  year   month info_parenth info_1 info_2    info_3  \\\n",
       "52626               9  2015   March         None   None         comedian   \n",
       "92389               4  2021  August         None   None             None   \n",
       "\n",
       "                           info_4      info_5 info_6 info_7 info_8 info_9  \\\n",
       "52626  singer and television host  meningitis   None   None   None   None   \n",
       "92389                        None        None   None   None   None   None   \n",
       "\n",
       "      info_10 info_11   age cause_of_death    place_1 place_2  \\\n",
       "52626    None    None  32.0           None  Indonesia    None   \n",
       "92389    None    None  76.0           None    Ireland    None   \n",
       "\n",
       "      info_parenth_copy  log_num_references  sciences  social  spiritual  \\\n",
       "52626              None            2.302585         0       0          0   \n",
       "92389              None            1.609438         0       0          0   \n",
       "\n",
       "       academia_humanities  business_farming  arts  sports  \\\n",
       "52626                    0                 0     1       0   \n",
       "92389                    0                 0     1       0   \n",
       "\n",
       "       law_enf_military_operator  politics_govt_law  crime  \\\n",
       "52626                          0                  0      0   \n",
       "92389                          0                  0      0   \n",
       "\n",
       "       event_record_other  other_species  num_categories  \n",
       "52626                   0              0               1  \n",
       "92389                   0              0               1  "
      ]
     },
     "execution_count": 106,
     "metadata": {},
     "output_type": "execute_result"
    },
    {
     "data": {
      "application/javascript": [
       "\n",
       "            setTimeout(function() {\n",
       "                var nbb_cell_id = 106;\n",
       "                var nbb_unformatted_code = \"%%time\\n\\n# Dictionary version\\nsearch_dict = known_for_dict\\n\\n# Column to check\\ncolumn = 'info_2'\\n\\n# Dataframe\\ndataframe = df[column].notna()\\n\\n# For loop to find role in column and extract it as category\\nfor category, category_lst in search_dict.items():\\n    for role in category_lst:\\n        for index in dataframe.index:\\n            item = df.loc[index, column]\\n            if item:\\n                if role in item:\\n                    df.loc[index, category] = 1\\n                    df.loc[index, column] = item.replace(role, '').strip()\\n\\n# Updating num_categories\\ndf[\\\"num_categories\\\"] = df[known_for_dict.keys()].sum(axis=1)\\n\\n# Checking a sample of rows\\ndf[df['arts'] ==1].sample(2)\";\n",
       "                var nbb_formatted_code = \"%%time\\n\\n# Dictionary version\\nsearch_dict = known_for_dict\\n\\n# Column to check\\ncolumn = 'info_2'\\n\\n# Dataframe\\ndataframe = df[column].notna()\\n\\n# For loop to find role in column and extract it as category\\nfor category, category_lst in search_dict.items():\\n    for role in category_lst:\\n        for index in dataframe.index:\\n            item = df.loc[index, column]\\n            if item:\\n                if role in item:\\n                    df.loc[index, category] = 1\\n                    df.loc[index, column] = item.replace(role, '').strip()\\n\\n# Updating num_categories\\ndf[\\\"num_categories\\\"] = df[known_for_dict.keys()].sum(axis=1)\\n\\n# Checking a sample of rows\\ndf[df['arts'] ==1].sample(2)\";\n",
       "                var nbb_cells = Jupyter.notebook.get_cells();\n",
       "                for (var i = 0; i < nbb_cells.length; ++i) {\n",
       "                    if (nbb_cells[i].input_prompt_number == nbb_cell_id) {\n",
       "                        if (nbb_cells[i].get_text() == nbb_unformatted_code) {\n",
       "                             nbb_cells[i].set_text(nbb_formatted_code);\n",
       "                        }\n",
       "                        break;\n",
       "                    }\n",
       "                }\n",
       "            }, 500);\n",
       "            "
      ],
      "text/plain": [
       "<IPython.core.display.Javascript object>"
      ]
     },
     "metadata": {},
     "output_type": "display_data"
    }
   ],
   "source": [
    "%%time\n",
    "\n",
    "# Dictionary version\n",
    "search_dict = known_for_dict\n",
    "\n",
    "# Column to check\n",
    "column = 'info_2'\n",
    "\n",
    "# Dataframe\n",
    "dataframe = df[column].notna()\n",
    "\n",
    "# For loop to find role in column and extract it as category\n",
    "for category, category_lst in search_dict.items():\n",
    "    for role in category_lst:\n",
    "        for index in dataframe.index:\n",
    "            item = df.loc[index, column]\n",
    "            if item:\n",
    "                if role in item:\n",
    "                    df.loc[index, category] = 1\n",
    "                    df.loc[index, column] = item.replace(role, '').strip()\n",
    "\n",
    "# Updating num_categories\n",
    "df[\"num_categories\"] = df[known_for_dict.keys()].sum(axis=1)\n",
    "\n",
    "# Checking a sample of rows\n",
    "df[df['arts'] ==1].sample(2)"
   ]
  },
  {
   "cell_type": "markdown",
   "id": "bfcec692",
   "metadata": {},
   "source": [
    "#### Checking the Number of Rows without a First Category"
   ]
  },
  {
   "cell_type": "code",
   "execution_count": 107,
   "id": "d184f709",
   "metadata": {},
   "outputs": [
    {
     "name": "stdout",
     "output_type": "stream",
     "text": [
      "There are 29417 entries without any known_for category.\n"
     ]
    },
    {
     "data": {
      "application/javascript": [
       "\n",
       "            setTimeout(function() {\n",
       "                var nbb_cell_id = 107;\n",
       "                var nbb_unformatted_code = \"# Checking the number of rows without a first category\\nprint(\\n    f'There are {len(df[df[\\\"num_categories\\\"]==0])} entries without any known_for category.'\\n)\";\n",
       "                var nbb_formatted_code = \"# Checking the number of rows without a first category\\nprint(\\n    f'There are {len(df[df[\\\"num_categories\\\"]==0])} entries without any known_for category.'\\n)\";\n",
       "                var nbb_cells = Jupyter.notebook.get_cells();\n",
       "                for (var i = 0; i < nbb_cells.length; ++i) {\n",
       "                    if (nbb_cells[i].input_prompt_number == nbb_cell_id) {\n",
       "                        if (nbb_cells[i].get_text() == nbb_unformatted_code) {\n",
       "                             nbb_cells[i].set_text(nbb_formatted_code);\n",
       "                        }\n",
       "                        break;\n",
       "                    }\n",
       "                }\n",
       "            }, 500);\n",
       "            "
      ],
      "text/plain": [
       "<IPython.core.display.Javascript object>"
      ]
     },
     "metadata": {},
     "output_type": "display_data"
    }
   ],
   "source": [
    "# Checking the number of rows without a first category\n",
    "print(\n",
    "    f'There are {len(df[df[\"num_categories\"]==0])} entries without any known_for category.'\n",
    ")"
   ]
  },
  {
   "cell_type": "markdown",
   "id": "38fb82dc",
   "metadata": {},
   "source": [
    "#### Observations:\n",
    "- We will proceed to rebuild `known_for_dict` for the next iteration."
   ]
  },
  {
   "cell_type": "markdown",
   "id": "d71430ef",
   "metadata": {},
   "source": [
    "#### Finding `known_for` Roles in `info_2`"
   ]
  },
  {
   "cell_type": "code",
   "execution_count": 108,
   "id": "0fb8e84a",
   "metadata": {},
   "outputs": [
    {
     "data": {
      "application/javascript": [
       "\n",
       "            setTimeout(function() {\n",
       "                var nbb_cell_id = 108;\n",
       "                var nbb_unformatted_code = \"# # Obtaining values for column and their counts\\n# roles_list = df[\\\"info_2\\\"].value_counts(ascending=True).index.tolist()\";\n",
       "                var nbb_formatted_code = \"# # Obtaining values for column and their counts\\n# roles_list = df[\\\"info_2\\\"].value_counts(ascending=True).index.tolist()\";\n",
       "                var nbb_cells = Jupyter.notebook.get_cells();\n",
       "                for (var i = 0; i < nbb_cells.length; ++i) {\n",
       "                    if (nbb_cells[i].input_prompt_number == nbb_cell_id) {\n",
       "                        if (nbb_cells[i].get_text() == nbb_unformatted_code) {\n",
       "                             nbb_cells[i].set_text(nbb_formatted_code);\n",
       "                        }\n",
       "                        break;\n",
       "                    }\n",
       "                }\n",
       "            }, 500);\n",
       "            "
      ],
      "text/plain": [
       "<IPython.core.display.Javascript object>"
      ]
     },
     "metadata": {},
     "output_type": "display_data"
    }
   ],
   "source": [
    "# # Obtaining values for column and their counts\n",
    "# roles_list = df[\"info_2\"].value_counts(ascending=True).index.tolist()"
   ]
  },
  {
   "cell_type": "code",
   "execution_count": 109,
   "id": "1c577798",
   "metadata": {},
   "outputs": [
    {
     "data": {
      "application/javascript": [
       "\n",
       "            setTimeout(function() {\n",
       "                var nbb_cell_id = 109;\n",
       "                var nbb_unformatted_code = \"# # Code to check each value\\n# roles_list.pop()\";\n",
       "                var nbb_formatted_code = \"# # Code to check each value\\n# roles_list.pop()\";\n",
       "                var nbb_cells = Jupyter.notebook.get_cells();\n",
       "                for (var i = 0; i < nbb_cells.length; ++i) {\n",
       "                    if (nbb_cells[i].input_prompt_number == nbb_cell_id) {\n",
       "                        if (nbb_cells[i].get_text() == nbb_unformatted_code) {\n",
       "                             nbb_cells[i].set_text(nbb_formatted_code);\n",
       "                        }\n",
       "                        break;\n",
       "                    }\n",
       "                }\n",
       "            }, 500);\n",
       "            "
      ],
      "text/plain": [
       "<IPython.core.display.Javascript object>"
      ]
     },
     "metadata": {},
     "output_type": "display_data"
    }
   ],
   "source": [
    "# # Code to check each value\n",
    "# roles_list.pop()"
   ]
  },
  {
   "cell_type": "code",
   "execution_count": 110,
   "id": "f881be65",
   "metadata": {},
   "outputs": [
    {
     "data": {
      "application/javascript": [
       "\n",
       "            setTimeout(function() {\n",
       "                var nbb_cell_id = 110;\n",
       "                var nbb_unformatted_code = \"# # Create specific_roles_list for above popped value\\n# specific_roles_list = (\\n#     df.loc[\\n#         [\\n#             index\\n#             for index in df[df[\\\"info_2\\\"].notna()].index\\n#             if \\\"tennis player\\\" in df.loc[index, \\\"info_2\\\"]\\n#         ],\\n#         \\\"info_2\\\",\\n#     ]\\n#     .value_counts()\\n#     .index.tolist()\\n# )\";\n",
       "                var nbb_formatted_code = \"# # Create specific_roles_list for above popped value\\n# specific_roles_list = (\\n#     df.loc[\\n#         [\\n#             index\\n#             for index in df[df[\\\"info_2\\\"].notna()].index\\n#             if \\\"tennis player\\\" in df.loc[index, \\\"info_2\\\"]\\n#         ],\\n#         \\\"info_2\\\",\\n#     ]\\n#     .value_counts()\\n#     .index.tolist()\\n# )\";\n",
       "                var nbb_cells = Jupyter.notebook.get_cells();\n",
       "                for (var i = 0; i < nbb_cells.length; ++i) {\n",
       "                    if (nbb_cells[i].input_prompt_number == nbb_cell_id) {\n",
       "                        if (nbb_cells[i].get_text() == nbb_unformatted_code) {\n",
       "                             nbb_cells[i].set_text(nbb_formatted_code);\n",
       "                        }\n",
       "                        break;\n",
       "                    }\n",
       "                }\n",
       "            }, 500);\n",
       "            "
      ],
      "text/plain": [
       "<IPython.core.display.Javascript object>"
      ]
     },
     "metadata": {},
     "output_type": "display_data"
    }
   ],
   "source": [
    "# # Create specific_roles_list for above popped value\n",
    "# specific_roles_list = (\n",
    "#     df.loc[\n",
    "#         [\n",
    "#             index\n",
    "#             for index in df[df[\"info_2\"].notna()].index\n",
    "#             if \"tennis player\" in df.loc[index, \"info_2\"]\n",
    "#         ],\n",
    "#         \"info_2\",\n",
    "#     ]\n",
    "#     .value_counts()\n",
    "#     .index.tolist()\n",
    "# )"
   ]
  },
  {
   "cell_type": "code",
   "execution_count": 111,
   "id": "e6ea839f",
   "metadata": {},
   "outputs": [
    {
     "data": {
      "application/javascript": [
       "\n",
       "            setTimeout(function() {\n",
       "                var nbb_cell_id = 111;\n",
       "                var nbb_unformatted_code = \"# # Code to check each specific value\\n# specific_roles_list.pop()\";\n",
       "                var nbb_formatted_code = \"# # Code to check each specific value\\n# specific_roles_list.pop()\";\n",
       "                var nbb_cells = Jupyter.notebook.get_cells();\n",
       "                for (var i = 0; i < nbb_cells.length; ++i) {\n",
       "                    if (nbb_cells[i].input_prompt_number == nbb_cell_id) {\n",
       "                        if (nbb_cells[i].get_text() == nbb_unformatted_code) {\n",
       "                             nbb_cells[i].set_text(nbb_formatted_code);\n",
       "                        }\n",
       "                        break;\n",
       "                    }\n",
       "                }\n",
       "            }, 500);\n",
       "            "
      ],
      "text/plain": [
       "<IPython.core.display.Javascript object>"
      ]
     },
     "metadata": {},
     "output_type": "display_data"
    }
   ],
   "source": [
    "# # Code to check each specific value\n",
    "# specific_roles_list.pop()"
   ]
  },
  {
   "cell_type": "code",
   "execution_count": 112,
   "id": "bdea6335",
   "metadata": {},
   "outputs": [
    {
     "data": {
      "application/javascript": [
       "\n",
       "            setTimeout(function() {\n",
       "                var nbb_cell_id = 112;\n",
       "                var nbb_unformatted_code = \"# # Example code to quick-screen values that may overlap categories\\n# df.loc[[index for index in df.index if \\\"and science writer\\\" in df.loc[index, \\\"info\\\"]]]\";\n",
       "                var nbb_formatted_code = \"# # Example code to quick-screen values that may overlap categories\\n# df.loc[[index for index in df.index if \\\"and science writer\\\" in df.loc[index, \\\"info\\\"]]]\";\n",
       "                var nbb_cells = Jupyter.notebook.get_cells();\n",
       "                for (var i = 0; i < nbb_cells.length; ++i) {\n",
       "                    if (nbb_cells[i].input_prompt_number == nbb_cell_id) {\n",
       "                        if (nbb_cells[i].get_text() == nbb_unformatted_code) {\n",
       "                             nbb_cells[i].set_text(nbb_formatted_code);\n",
       "                        }\n",
       "                        break;\n",
       "                    }\n",
       "                }\n",
       "            }, 500);\n",
       "            "
      ],
      "text/plain": [
       "<IPython.core.display.Javascript object>"
      ]
     },
     "metadata": {},
     "output_type": "display_data"
    }
   ],
   "source": [
    "# # Example code to quick-screen values that may overlap categories\n",
    "# df.loc[[index for index in df.index if \"and science writer\" in df.loc[index, \"info\"]]]"
   ]
  },
  {
   "cell_type": "code",
   "execution_count": 113,
   "id": "0f08a3a6",
   "metadata": {},
   "outputs": [
    {
     "data": {
      "application/javascript": [
       "\n",
       "            setTimeout(function() {\n",
       "                var nbb_cell_id = 113;\n",
       "                var nbb_unformatted_code = \"# # Example code to quick-screen values that may overlap categories\\n# df.loc[\\n#     [\\n#         index\\n#         for index in df.index\\n#         if \\\"outlaw country music singer songwriter\\\" in df.loc[index, \\\"info\\\"]\\n#     ]\\n# ]\";\n",
       "                var nbb_formatted_code = \"# # Example code to quick-screen values that may overlap categories\\n# df.loc[\\n#     [\\n#         index\\n#         for index in df.index\\n#         if \\\"outlaw country music singer songwriter\\\" in df.loc[index, \\\"info\\\"]\\n#     ]\\n# ]\";\n",
       "                var nbb_cells = Jupyter.notebook.get_cells();\n",
       "                for (var i = 0; i < nbb_cells.length; ++i) {\n",
       "                    if (nbb_cells[i].input_prompt_number == nbb_cell_id) {\n",
       "                        if (nbb_cells[i].get_text() == nbb_unformatted_code) {\n",
       "                             nbb_cells[i].set_text(nbb_formatted_code);\n",
       "                        }\n",
       "                        break;\n",
       "                    }\n",
       "                }\n",
       "            }, 500);\n",
       "            "
      ],
      "text/plain": [
       "<IPython.core.display.Javascript object>"
      ]
     },
     "metadata": {},
     "output_type": "display_data"
    }
   ],
   "source": [
    "# # Example code to quick-screen values that may overlap categories\n",
    "# df.loc[\n",
    "#     [\n",
    "#         index\n",
    "#         for index in df.index\n",
    "#         if \"outlaw country music singer songwriter\" in df.loc[index, \"info\"]\n",
    "#     ]\n",
    "# ]"
   ]
  },
  {
   "cell_type": "code",
   "execution_count": 114,
   "id": "07549557",
   "metadata": {},
   "outputs": [
    {
     "data": {
      "application/javascript": [
       "\n",
       "            setTimeout(function() {\n",
       "                var nbb_cell_id = 114;\n",
       "                var nbb_unformatted_code = \"# # Example code to quick-check a specific entry\\n# df[df[\\\"info_2\\\"] == \\\"tennis player and administrator\\\"]\";\n",
       "                var nbb_formatted_code = \"# # Example code to quick-check a specific entry\\n# df[df[\\\"info_2\\\"] == \\\"tennis player and administrator\\\"]\";\n",
       "                var nbb_cells = Jupyter.notebook.get_cells();\n",
       "                for (var i = 0; i < nbb_cells.length; ++i) {\n",
       "                    if (nbb_cells[i].input_prompt_number == nbb_cell_id) {\n",
       "                        if (nbb_cells[i].get_text() == nbb_unformatted_code) {\n",
       "                             nbb_cells[i].set_text(nbb_formatted_code);\n",
       "                        }\n",
       "                        break;\n",
       "                    }\n",
       "                }\n",
       "            }, 500);\n",
       "            "
      ],
      "text/plain": [
       "<IPython.core.display.Javascript object>"
      ]
     },
     "metadata": {},
     "output_type": "display_data"
    }
   ],
   "source": [
    "# # Example code to quick-check a specific entry\n",
    "# df[df[\"info_2\"] == \"tennis player and administrator\"]"
   ]
  },
  {
   "cell_type": "markdown",
   "id": "eb24a172",
   "metadata": {},
   "source": [
    "#### Creating Lists for Each `known_for` Category"
   ]
  },
  {
   "cell_type": "code",
   "execution_count": 115,
   "id": "45790d25",
   "metadata": {},
   "outputs": [
    {
     "data": {
      "application/javascript": [
       "\n",
       "            setTimeout(function() {\n",
       "                var nbb_cell_id = 115;\n",
       "                var nbb_unformatted_code = \"# Creating lists for each category\\npolitics_govt_law = []\\n\\narts = []\\nsports = [\\n    \\\"wheelchair table tennis player and Paralympian gold medalist\\\",\\n    \\\"Paralympic wheelchair tennis player and powerlifter\\\",\\n    \\\"table tennis player and assistant racehorse trainer\\\",\\n    \\\"wheelchair tennis player and Paralympic athlete\\\",\\n    \\\"tennis player and sports administrator\\\",\\n    \\\"Male international table tennis player\\\",\\n    \\\"handball and tennis player and coach\\\",\\n    \\\"tennis player and administrator\\\",\\n    \\\"table tennis and tennis player\\\",\\n    \\\"table tennis player and coach\\\",\\n    \\\"tennis player and instructor\\\",\\n    \\\"tennis player in the s and s\\\",\\n    \\\"badminton and tennis player\\\",\\n    \\\"Olympic table tennis player\\\",\\n    \\\"Hall of Fame tennis player\\\",\\n    \\\"Female tennis player from\\\",\\n    \\\"hockey and tennis player\\\",\\n    \\\"wheelchair tennis player\\\",\\n    \\\"squash and tennis player\\\",\\n    \\\"tennis player and sports\\\",\\n    \\\"tennis player and coach\\\",\\n    \\\"chess and tennis player\\\",\\n    \\\"female tennis player\\\",\\n    \\\"table tennis player\\\",\\n    \\\"tennis player and\\\",\\n    \\\"and tennis player\\\",\\n    \\\"tennis player\\\",\\n]\\nsciences = []\\n\\nbusiness_farming = []\\nacademia_humanities = []\\nlaw_enf_military_operator = []\\nspiritual = []\\nsocial = []\\ncrime = []\\nevent_record_other = []\\nother_species = []\";\n",
       "                var nbb_formatted_code = \"# Creating lists for each category\\npolitics_govt_law = []\\n\\narts = []\\nsports = [\\n    \\\"wheelchair table tennis player and Paralympian gold medalist\\\",\\n    \\\"Paralympic wheelchair tennis player and powerlifter\\\",\\n    \\\"table tennis player and assistant racehorse trainer\\\",\\n    \\\"wheelchair tennis player and Paralympic athlete\\\",\\n    \\\"tennis player and sports administrator\\\",\\n    \\\"Male international table tennis player\\\",\\n    \\\"handball and tennis player and coach\\\",\\n    \\\"tennis player and administrator\\\",\\n    \\\"table tennis and tennis player\\\",\\n    \\\"table tennis player and coach\\\",\\n    \\\"tennis player and instructor\\\",\\n    \\\"tennis player in the s and s\\\",\\n    \\\"badminton and tennis player\\\",\\n    \\\"Olympic table tennis player\\\",\\n    \\\"Hall of Fame tennis player\\\",\\n    \\\"Female tennis player from\\\",\\n    \\\"hockey and tennis player\\\",\\n    \\\"wheelchair tennis player\\\",\\n    \\\"squash and tennis player\\\",\\n    \\\"tennis player and sports\\\",\\n    \\\"tennis player and coach\\\",\\n    \\\"chess and tennis player\\\",\\n    \\\"female tennis player\\\",\\n    \\\"table tennis player\\\",\\n    \\\"tennis player and\\\",\\n    \\\"and tennis player\\\",\\n    \\\"tennis player\\\",\\n]\\nsciences = []\\n\\nbusiness_farming = []\\nacademia_humanities = []\\nlaw_enf_military_operator = []\\nspiritual = []\\nsocial = []\\ncrime = []\\nevent_record_other = []\\nother_species = []\";\n",
       "                var nbb_cells = Jupyter.notebook.get_cells();\n",
       "                for (var i = 0; i < nbb_cells.length; ++i) {\n",
       "                    if (nbb_cells[i].input_prompt_number == nbb_cell_id) {\n",
       "                        if (nbb_cells[i].get_text() == nbb_unformatted_code) {\n",
       "                             nbb_cells[i].set_text(nbb_formatted_code);\n",
       "                        }\n",
       "                        break;\n",
       "                    }\n",
       "                }\n",
       "            }, 500);\n",
       "            "
      ],
      "text/plain": [
       "<IPython.core.display.Javascript object>"
      ]
     },
     "metadata": {},
     "output_type": "display_data"
    }
   ],
   "source": [
    "# Creating lists for each category\n",
    "politics_govt_law = []\n",
    "\n",
    "arts = []\n",
    "sports = [\n",
    "    \"wheelchair table tennis player and Paralympian gold medalist\",\n",
    "    \"Paralympic wheelchair tennis player and powerlifter\",\n",
    "    \"table tennis player and assistant racehorse trainer\",\n",
    "    \"wheelchair tennis player and Paralympic athlete\",\n",
    "    \"tennis player and sports administrator\",\n",
    "    \"Male international table tennis player\",\n",
    "    \"handball and tennis player and coach\",\n",
    "    \"tennis player and administrator\",\n",
    "    \"table tennis and tennis player\",\n",
    "    \"table tennis player and coach\",\n",
    "    \"tennis player and instructor\",\n",
    "    \"tennis player in the s and s\",\n",
    "    \"badminton and tennis player\",\n",
    "    \"Olympic table tennis player\",\n",
    "    \"Hall of Fame tennis player\",\n",
    "    \"Female tennis player from\",\n",
    "    \"hockey and tennis player\",\n",
    "    \"wheelchair tennis player\",\n",
    "    \"squash and tennis player\",\n",
    "    \"tennis player and sports\",\n",
    "    \"tennis player and coach\",\n",
    "    \"chess and tennis player\",\n",
    "    \"female tennis player\",\n",
    "    \"table tennis player\",\n",
    "    \"tennis player and\",\n",
    "    \"and tennis player\",\n",
    "    \"tennis player\",\n",
    "]\n",
    "sciences = []\n",
    "\n",
    "business_farming = []\n",
    "academia_humanities = []\n",
    "law_enf_military_operator = []\n",
    "spiritual = []\n",
    "social = []\n",
    "crime = []\n",
    "event_record_other = []\n",
    "other_species = []"
   ]
  },
  {
   "cell_type": "markdown",
   "id": "1f02fcc5",
   "metadata": {},
   "source": [
    "#### Creating `known_for_dict` Dictionary of Category Keys and Specific Role Lists of Values"
   ]
  },
  {
   "cell_type": "code",
   "execution_count": 116,
   "id": "eabad22b",
   "metadata": {},
   "outputs": [
    {
     "data": {
      "application/javascript": [
       "\n",
       "            setTimeout(function() {\n",
       "                var nbb_cell_id = 116;\n",
       "                var nbb_unformatted_code = \"# Combining separate lists into one dictionary\\nknown_for_dict = {\\n    \\\"social\\\": social,\\n    \\\"spiritual\\\": spiritual,\\n    \\\"academia_humanities\\\": academia_humanities,\\n    \\\"business_farming\\\": business_farming,\\n    \\\"sciences\\\": sciences,\\n    \\\"politics_govt_law\\\": politics_govt_law,\\n    \\\"law_enf_military_operator\\\": law_enf_military_operator,\\n    \\\"crime\\\": crime,\\n    \\\"event_record_other\\\": event_record_other,\\n    \\\"other_species\\\": other_species,\\n    \\\"arts\\\": arts,\\n    \\\"sports\\\": sports,\\n}\";\n",
       "                var nbb_formatted_code = \"# Combining separate lists into one dictionary\\nknown_for_dict = {\\n    \\\"social\\\": social,\\n    \\\"spiritual\\\": spiritual,\\n    \\\"academia_humanities\\\": academia_humanities,\\n    \\\"business_farming\\\": business_farming,\\n    \\\"sciences\\\": sciences,\\n    \\\"politics_govt_law\\\": politics_govt_law,\\n    \\\"law_enf_military_operator\\\": law_enf_military_operator,\\n    \\\"crime\\\": crime,\\n    \\\"event_record_other\\\": event_record_other,\\n    \\\"other_species\\\": other_species,\\n    \\\"arts\\\": arts,\\n    \\\"sports\\\": sports,\\n}\";\n",
       "                var nbb_cells = Jupyter.notebook.get_cells();\n",
       "                for (var i = 0; i < nbb_cells.length; ++i) {\n",
       "                    if (nbb_cells[i].input_prompt_number == nbb_cell_id) {\n",
       "                        if (nbb_cells[i].get_text() == nbb_unformatted_code) {\n",
       "                             nbb_cells[i].set_text(nbb_formatted_code);\n",
       "                        }\n",
       "                        break;\n",
       "                    }\n",
       "                }\n",
       "            }, 500);\n",
       "            "
      ],
      "text/plain": [
       "<IPython.core.display.Javascript object>"
      ]
     },
     "metadata": {},
     "output_type": "display_data"
    }
   ],
   "source": [
    "# Combining separate lists into one dictionary\n",
    "known_for_dict = {\n",
    "    \"social\": social,\n",
    "    \"spiritual\": spiritual,\n",
    "    \"academia_humanities\": academia_humanities,\n",
    "    \"business_farming\": business_farming,\n",
    "    \"sciences\": sciences,\n",
    "    \"politics_govt_law\": politics_govt_law,\n",
    "    \"law_enf_military_operator\": law_enf_military_operator,\n",
    "    \"crime\": crime,\n",
    "    \"event_record_other\": event_record_other,\n",
    "    \"other_species\": other_species,\n",
    "    \"arts\": arts,\n",
    "    \"sports\": sports,\n",
    "}"
   ]
  },
  {
   "cell_type": "markdown",
   "id": "d5154331",
   "metadata": {},
   "source": [
    "#### Extracting Category from `info_2`"
   ]
  },
  {
   "cell_type": "code",
   "execution_count": 117,
   "id": "98cd7a69",
   "metadata": {},
   "outputs": [
    {
     "name": "stdout",
     "output_type": "stream",
     "text": [
      "CPU times: total: 14.5 s\n",
      "Wall time: 14.5 s\n"
     ]
    },
    {
     "data": {
      "text/html": [
       "<div>\n",
       "<style scoped>\n",
       "    .dataframe tbody tr th:only-of-type {\n",
       "        vertical-align: middle;\n",
       "    }\n",
       "\n",
       "    .dataframe tbody tr th {\n",
       "        vertical-align: top;\n",
       "    }\n",
       "\n",
       "    .dataframe thead th {\n",
       "        text-align: right;\n",
       "    }\n",
       "</style>\n",
       "<table border=\"1\" class=\"dataframe\">\n",
       "  <thead>\n",
       "    <tr style=\"text-align: right;\">\n",
       "      <th></th>\n",
       "      <th>day</th>\n",
       "      <th>name</th>\n",
       "      <th>info</th>\n",
       "      <th>link</th>\n",
       "      <th>num_references</th>\n",
       "      <th>year</th>\n",
       "      <th>month</th>\n",
       "      <th>info_parenth</th>\n",
       "      <th>info_1</th>\n",
       "      <th>info_2</th>\n",
       "      <th>info_3</th>\n",
       "      <th>info_4</th>\n",
       "      <th>info_5</th>\n",
       "      <th>info_6</th>\n",
       "      <th>info_7</th>\n",
       "      <th>info_8</th>\n",
       "      <th>info_9</th>\n",
       "      <th>info_10</th>\n",
       "      <th>info_11</th>\n",
       "      <th>age</th>\n",
       "      <th>cause_of_death</th>\n",
       "      <th>place_1</th>\n",
       "      <th>place_2</th>\n",
       "      <th>info_parenth_copy</th>\n",
       "      <th>log_num_references</th>\n",
       "      <th>sciences</th>\n",
       "      <th>social</th>\n",
       "      <th>spiritual</th>\n",
       "      <th>academia_humanities</th>\n",
       "      <th>business_farming</th>\n",
       "      <th>arts</th>\n",
       "      <th>sports</th>\n",
       "      <th>law_enf_military_operator</th>\n",
       "      <th>politics_govt_law</th>\n",
       "      <th>crime</th>\n",
       "      <th>event_record_other</th>\n",
       "      <th>other_species</th>\n",
       "      <th>num_categories</th>\n",
       "    </tr>\n",
       "  </thead>\n",
       "  <tbody>\n",
       "    <tr>\n",
       "      <th>5815</th>\n",
       "      <td>29</td>\n",
       "      <td>Jack Parkinson</td>\n",
       "      <td>, 73, American basketball player, brain tumor, brain cancer.</td>\n",
       "      <td>https://en.wikipedia.org/wiki/Jack_Parkinson_(basketball)</td>\n",
       "      <td>7</td>\n",
       "      <td>1997</td>\n",
       "      <td>May</td>\n",
       "      <td>None</td>\n",
       "      <td>None</td>\n",
       "      <td></td>\n",
       "      <td>brain tumor</td>\n",
       "      <td>brain cancer</td>\n",
       "      <td>None</td>\n",
       "      <td>None</td>\n",
       "      <td>None</td>\n",
       "      <td>None</td>\n",
       "      <td>None</td>\n",
       "      <td>None</td>\n",
       "      <td>None</td>\n",
       "      <td>73.0</td>\n",
       "      <td>None</td>\n",
       "      <td>United States of America</td>\n",
       "      <td>None</td>\n",
       "      <td>None</td>\n",
       "      <td>2.079442</td>\n",
       "      <td>0</td>\n",
       "      <td>0</td>\n",
       "      <td>0</td>\n",
       "      <td>0</td>\n",
       "      <td>0</td>\n",
       "      <td>0</td>\n",
       "      <td>1</td>\n",
       "      <td>0</td>\n",
       "      <td>0</td>\n",
       "      <td>0</td>\n",
       "      <td>0</td>\n",
       "      <td>0</td>\n",
       "      <td>1</td>\n",
       "    </tr>\n",
       "    <tr>\n",
       "      <th>29294</th>\n",
       "      <td>16</td>\n",
       "      <td>Monte Clark</td>\n",
       "      <td>, 72, American football player and coach , cancer.</td>\n",
       "      <td>https://en.wikipedia.org/wiki/Monte_Clark</td>\n",
       "      <td>14</td>\n",
       "      <td>2009</td>\n",
       "      <td>September</td>\n",
       "      <td>Detroit Lions</td>\n",
       "      <td>None</td>\n",
       "      <td></td>\n",
       "      <td>cancer</td>\n",
       "      <td>None</td>\n",
       "      <td>None</td>\n",
       "      <td>None</td>\n",
       "      <td>None</td>\n",
       "      <td>None</td>\n",
       "      <td>None</td>\n",
       "      <td>None</td>\n",
       "      <td>None</td>\n",
       "      <td>72.0</td>\n",
       "      <td>None</td>\n",
       "      <td>United States of America</td>\n",
       "      <td>None</td>\n",
       "      <td>Detroit Lions</td>\n",
       "      <td>2.708050</td>\n",
       "      <td>0</td>\n",
       "      <td>0</td>\n",
       "      <td>0</td>\n",
       "      <td>0</td>\n",
       "      <td>0</td>\n",
       "      <td>0</td>\n",
       "      <td>1</td>\n",
       "      <td>0</td>\n",
       "      <td>0</td>\n",
       "      <td>0</td>\n",
       "      <td>0</td>\n",
       "      <td>0</td>\n",
       "      <td>1</td>\n",
       "    </tr>\n",
       "  </tbody>\n",
       "</table>\n",
       "</div>"
      ],
      "text/plain": [
       "      day            name  \\\n",
       "5815   29  Jack Parkinson   \n",
       "29294  16     Monte Clark   \n",
       "\n",
       "                                                               info  \\\n",
       "5815   , 73, American basketball player, brain tumor, brain cancer.   \n",
       "29294            , 72, American football player and coach , cancer.   \n",
       "\n",
       "                                                            link  \\\n",
       "5815   https://en.wikipedia.org/wiki/Jack_Parkinson_(basketball)   \n",
       "29294                  https://en.wikipedia.org/wiki/Monte_Clark   \n",
       "\n",
       "       num_references  year      month   info_parenth info_1 info_2  \\\n",
       "5815                7  1997        May           None   None          \n",
       "29294              14  2009  September  Detroit Lions   None          \n",
       "\n",
       "            info_3        info_4 info_5 info_6 info_7 info_8 info_9 info_10  \\\n",
       "5815   brain tumor  brain cancer   None   None   None   None   None    None   \n",
       "29294       cancer          None   None   None   None   None   None    None   \n",
       "\n",
       "      info_11   age cause_of_death                   place_1 place_2  \\\n",
       "5815     None  73.0           None  United States of America    None   \n",
       "29294    None  72.0           None  United States of America    None   \n",
       "\n",
       "      info_parenth_copy  log_num_references  sciences  social  spiritual  \\\n",
       "5815               None            2.079442         0       0          0   \n",
       "29294     Detroit Lions            2.708050         0       0          0   \n",
       "\n",
       "       academia_humanities  business_farming  arts  sports  \\\n",
       "5815                     0                 0     0       1   \n",
       "29294                    0                 0     0       1   \n",
       "\n",
       "       law_enf_military_operator  politics_govt_law  crime  \\\n",
       "5815                           0                  0      0   \n",
       "29294                          0                  0      0   \n",
       "\n",
       "       event_record_other  other_species  num_categories  \n",
       "5815                    0              0               1  \n",
       "29294                   0              0               1  "
      ]
     },
     "execution_count": 117,
     "metadata": {},
     "output_type": "execute_result"
    },
    {
     "data": {
      "application/javascript": [
       "\n",
       "            setTimeout(function() {\n",
       "                var nbb_cell_id = 117;\n",
       "                var nbb_unformatted_code = \"%%time\\n\\n# Dictionary version\\nsearch_dict = known_for_dict\\n\\n# Column to check\\ncolumn = 'info_2'\\n\\n# Dataframe\\ndataframe = df[column].notna()\\n\\n# For loop to find role in column and extract it as category\\nfor category, category_lst in search_dict.items():\\n    for role in category_lst:\\n        for index in dataframe.index:\\n            item = df.loc[index, column]\\n            if item:\\n                if role in item:\\n                    df.loc[index, category] = 1\\n                    df.loc[index, column] = item.replace(role, '').strip()\\n\\n# Updating num_categories\\ndf[\\\"num_categories\\\"] = df[known_for_dict.keys()].sum(axis=1)\\n\\n# Checking a sample of rows\\ndf[df['sports'] ==1].sample(2)\";\n",
       "                var nbb_formatted_code = \"%%time\\n\\n# Dictionary version\\nsearch_dict = known_for_dict\\n\\n# Column to check\\ncolumn = 'info_2'\\n\\n# Dataframe\\ndataframe = df[column].notna()\\n\\n# For loop to find role in column and extract it as category\\nfor category, category_lst in search_dict.items():\\n    for role in category_lst:\\n        for index in dataframe.index:\\n            item = df.loc[index, column]\\n            if item:\\n                if role in item:\\n                    df.loc[index, category] = 1\\n                    df.loc[index, column] = item.replace(role, '').strip()\\n\\n# Updating num_categories\\ndf[\\\"num_categories\\\"] = df[known_for_dict.keys()].sum(axis=1)\\n\\n# Checking a sample of rows\\ndf[df['sports'] ==1].sample(2)\";\n",
       "                var nbb_cells = Jupyter.notebook.get_cells();\n",
       "                for (var i = 0; i < nbb_cells.length; ++i) {\n",
       "                    if (nbb_cells[i].input_prompt_number == nbb_cell_id) {\n",
       "                        if (nbb_cells[i].get_text() == nbb_unformatted_code) {\n",
       "                             nbb_cells[i].set_text(nbb_formatted_code);\n",
       "                        }\n",
       "                        break;\n",
       "                    }\n",
       "                }\n",
       "            }, 500);\n",
       "            "
      ],
      "text/plain": [
       "<IPython.core.display.Javascript object>"
      ]
     },
     "metadata": {},
     "output_type": "display_data"
    }
   ],
   "source": [
    "%%time\n",
    "\n",
    "# Dictionary version\n",
    "search_dict = known_for_dict\n",
    "\n",
    "# Column to check\n",
    "column = 'info_2'\n",
    "\n",
    "# Dataframe\n",
    "dataframe = df[column].notna()\n",
    "\n",
    "# For loop to find role in column and extract it as category\n",
    "for category, category_lst in search_dict.items():\n",
    "    for role in category_lst:\n",
    "        for index in dataframe.index:\n",
    "            item = df.loc[index, column]\n",
    "            if item:\n",
    "                if role in item:\n",
    "                    df.loc[index, category] = 1\n",
    "                    df.loc[index, column] = item.replace(role, '').strip()\n",
    "\n",
    "# Updating num_categories\n",
    "df[\"num_categories\"] = df[known_for_dict.keys()].sum(axis=1)\n",
    "\n",
    "# Checking a sample of rows\n",
    "df[df['sports'] ==1].sample(2)"
   ]
  },
  {
   "cell_type": "markdown",
   "id": "bd2a95f5",
   "metadata": {},
   "source": [
    "#### Checking the Number of Rows without a First Category"
   ]
  },
  {
   "cell_type": "code",
   "execution_count": 118,
   "id": "8b64e5c8",
   "metadata": {},
   "outputs": [
    {
     "name": "stdout",
     "output_type": "stream",
     "text": [
      "There are 29163 entries without any known_for category.\n"
     ]
    },
    {
     "data": {
      "application/javascript": [
       "\n",
       "            setTimeout(function() {\n",
       "                var nbb_cell_id = 118;\n",
       "                var nbb_unformatted_code = \"# Checking the number of rows without a first category\\nprint(\\n    f'There are {len(df[df[\\\"num_categories\\\"]==0])} entries without any known_for category.'\\n)\";\n",
       "                var nbb_formatted_code = \"# Checking the number of rows without a first category\\nprint(\\n    f'There are {len(df[df[\\\"num_categories\\\"]==0])} entries without any known_for category.'\\n)\";\n",
       "                var nbb_cells = Jupyter.notebook.get_cells();\n",
       "                for (var i = 0; i < nbb_cells.length; ++i) {\n",
       "                    if (nbb_cells[i].input_prompt_number == nbb_cell_id) {\n",
       "                        if (nbb_cells[i].get_text() == nbb_unformatted_code) {\n",
       "                             nbb_cells[i].set_text(nbb_formatted_code);\n",
       "                        }\n",
       "                        break;\n",
       "                    }\n",
       "                }\n",
       "            }, 500);\n",
       "            "
      ],
      "text/plain": [
       "<IPython.core.display.Javascript object>"
      ]
     },
     "metadata": {},
     "output_type": "display_data"
    }
   ],
   "source": [
    "# Checking the number of rows without a first category\n",
    "print(\n",
    "    f'There are {len(df[df[\"num_categories\"]==0])} entries without any known_for category.'\n",
    ")"
   ]
  },
  {
   "cell_type": "markdown",
   "id": "2a0a6d88",
   "metadata": {},
   "source": [
    "#### Observations:\n",
    "- We will proceed to rebuild `known_for_dict` for the next iteration."
   ]
  },
  {
   "cell_type": "markdown",
   "id": "465ae9b0",
   "metadata": {},
   "source": [
    "#### Finding `known_for` Roles in `info_2`"
   ]
  },
  {
   "cell_type": "code",
   "execution_count": 119,
   "id": "08d31a0a",
   "metadata": {},
   "outputs": [
    {
     "data": {
      "application/javascript": [
       "\n",
       "            setTimeout(function() {\n",
       "                var nbb_cell_id = 119;\n",
       "                var nbb_unformatted_code = \"# # Obtaining values for column and their counts\\n# roles_list = df[\\\"info_2\\\"].value_counts(ascending=True).index.tolist()\";\n",
       "                var nbb_formatted_code = \"# # Obtaining values for column and their counts\\n# roles_list = df[\\\"info_2\\\"].value_counts(ascending=True).index.tolist()\";\n",
       "                var nbb_cells = Jupyter.notebook.get_cells();\n",
       "                for (var i = 0; i < nbb_cells.length; ++i) {\n",
       "                    if (nbb_cells[i].input_prompt_number == nbb_cell_id) {\n",
       "                        if (nbb_cells[i].get_text() == nbb_unformatted_code) {\n",
       "                             nbb_cells[i].set_text(nbb_formatted_code);\n",
       "                        }\n",
       "                        break;\n",
       "                    }\n",
       "                }\n",
       "            }, 500);\n",
       "            "
      ],
      "text/plain": [
       "<IPython.core.display.Javascript object>"
      ]
     },
     "metadata": {},
     "output_type": "display_data"
    }
   ],
   "source": [
    "# # Obtaining values for column and their counts\n",
    "# roles_list = df[\"info_2\"].value_counts(ascending=True).index.tolist()"
   ]
  },
  {
   "cell_type": "code",
   "execution_count": 120,
   "id": "2cb4fff8",
   "metadata": {},
   "outputs": [
    {
     "data": {
      "application/javascript": [
       "\n",
       "            setTimeout(function() {\n",
       "                var nbb_cell_id = 120;\n",
       "                var nbb_unformatted_code = \"# # Code to check each value\\n# roles_list.pop()\";\n",
       "                var nbb_formatted_code = \"# # Code to check each value\\n# roles_list.pop()\";\n",
       "                var nbb_cells = Jupyter.notebook.get_cells();\n",
       "                for (var i = 0; i < nbb_cells.length; ++i) {\n",
       "                    if (nbb_cells[i].input_prompt_number == nbb_cell_id) {\n",
       "                        if (nbb_cells[i].get_text() == nbb_unformatted_code) {\n",
       "                             nbb_cells[i].set_text(nbb_formatted_code);\n",
       "                        }\n",
       "                        break;\n",
       "                    }\n",
       "                }\n",
       "            }, 500);\n",
       "            "
      ],
      "text/plain": [
       "<IPython.core.display.Javascript object>"
      ]
     },
     "metadata": {},
     "output_type": "display_data"
    }
   ],
   "source": [
    "# # Code to check each value\n",
    "# roles_list.pop()"
   ]
  },
  {
   "cell_type": "code",
   "execution_count": 121,
   "id": "b459a1a5",
   "metadata": {},
   "outputs": [
    {
     "data": {
      "application/javascript": [
       "\n",
       "            setTimeout(function() {\n",
       "                var nbb_cell_id = 121;\n",
       "                var nbb_unformatted_code = \"# # Create specific_roles_list for above popped value\\n# specific_roles_list = (\\n#     df.loc[\\n#         [\\n#             index\\n#             for index in df[df[\\\"info_2\\\"].notna()].index\\n#             if \\\"convicted murderer\\\" in df.loc[index, \\\"info_2\\\"]\\n#         ],\\n#         \\\"info_2\\\",\\n#     ]\\n#     .value_counts()\\n#     .index.tolist()\\n# )\";\n",
       "                var nbb_formatted_code = \"# # Create specific_roles_list for above popped value\\n# specific_roles_list = (\\n#     df.loc[\\n#         [\\n#             index\\n#             for index in df[df[\\\"info_2\\\"].notna()].index\\n#             if \\\"convicted murderer\\\" in df.loc[index, \\\"info_2\\\"]\\n#         ],\\n#         \\\"info_2\\\",\\n#     ]\\n#     .value_counts()\\n#     .index.tolist()\\n# )\";\n",
       "                var nbb_cells = Jupyter.notebook.get_cells();\n",
       "                for (var i = 0; i < nbb_cells.length; ++i) {\n",
       "                    if (nbb_cells[i].input_prompt_number == nbb_cell_id) {\n",
       "                        if (nbb_cells[i].get_text() == nbb_unformatted_code) {\n",
       "                             nbb_cells[i].set_text(nbb_formatted_code);\n",
       "                        }\n",
       "                        break;\n",
       "                    }\n",
       "                }\n",
       "            }, 500);\n",
       "            "
      ],
      "text/plain": [
       "<IPython.core.display.Javascript object>"
      ]
     },
     "metadata": {},
     "output_type": "display_data"
    }
   ],
   "source": [
    "# # Create specific_roles_list for above popped value\n",
    "# specific_roles_list = (\n",
    "#     df.loc[\n",
    "#         [\n",
    "#             index\n",
    "#             for index in df[df[\"info_2\"].notna()].index\n",
    "#             if \"convicted murderer\" in df.loc[index, \"info_2\"]\n",
    "#         ],\n",
    "#         \"info_2\",\n",
    "#     ]\n",
    "#     .value_counts()\n",
    "#     .index.tolist()\n",
    "# )"
   ]
  },
  {
   "cell_type": "code",
   "execution_count": 122,
   "id": "5e60b065",
   "metadata": {},
   "outputs": [
    {
     "data": {
      "application/javascript": [
       "\n",
       "            setTimeout(function() {\n",
       "                var nbb_cell_id = 122;\n",
       "                var nbb_unformatted_code = \"# # Code to check each specific value\\n# specific_roles_list.pop()\";\n",
       "                var nbb_formatted_code = \"# # Code to check each specific value\\n# specific_roles_list.pop()\";\n",
       "                var nbb_cells = Jupyter.notebook.get_cells();\n",
       "                for (var i = 0; i < nbb_cells.length; ++i) {\n",
       "                    if (nbb_cells[i].input_prompt_number == nbb_cell_id) {\n",
       "                        if (nbb_cells[i].get_text() == nbb_unformatted_code) {\n",
       "                             nbb_cells[i].set_text(nbb_formatted_code);\n",
       "                        }\n",
       "                        break;\n",
       "                    }\n",
       "                }\n",
       "            }, 500);\n",
       "            "
      ],
      "text/plain": [
       "<IPython.core.display.Javascript object>"
      ]
     },
     "metadata": {},
     "output_type": "display_data"
    }
   ],
   "source": [
    "# # Code to check each specific value\n",
    "# specific_roles_list.pop()"
   ]
  },
  {
   "cell_type": "code",
   "execution_count": 123,
   "id": "2cc267e6",
   "metadata": {},
   "outputs": [
    {
     "data": {
      "application/javascript": [
       "\n",
       "            setTimeout(function() {\n",
       "                var nbb_cell_id = 123;\n",
       "                var nbb_unformatted_code = \"# # Example code to quick-screen values that may overlap categories\\n# df.loc[\\n#     [\\n#         index\\n#         for index in df.index\\n#         if \\\"Marine veteran of the War\\\" in df.loc[index, \\\"info\\\"]\\n#     ]\\n# ]\";\n",
       "                var nbb_formatted_code = \"# # Example code to quick-screen values that may overlap categories\\n# df.loc[\\n#     [\\n#         index\\n#         for index in df.index\\n#         if \\\"Marine veteran of the War\\\" in df.loc[index, \\\"info\\\"]\\n#     ]\\n# ]\";\n",
       "                var nbb_cells = Jupyter.notebook.get_cells();\n",
       "                for (var i = 0; i < nbb_cells.length; ++i) {\n",
       "                    if (nbb_cells[i].input_prompt_number == nbb_cell_id) {\n",
       "                        if (nbb_cells[i].get_text() == nbb_unformatted_code) {\n",
       "                             nbb_cells[i].set_text(nbb_formatted_code);\n",
       "                        }\n",
       "                        break;\n",
       "                    }\n",
       "                }\n",
       "            }, 500);\n",
       "            "
      ],
      "text/plain": [
       "<IPython.core.display.Javascript object>"
      ]
     },
     "metadata": {},
     "output_type": "display_data"
    }
   ],
   "source": [
    "# # Example code to quick-screen values that may overlap categories\n",
    "# df.loc[\n",
    "#     [\n",
    "#         index\n",
    "#         for index in df.index\n",
    "#         if \"Marine veteran of the War\" in df.loc[index, \"info\"]\n",
    "#     ]\n",
    "# ]"
   ]
  },
  {
   "cell_type": "code",
   "execution_count": 124,
   "id": "35423985",
   "metadata": {},
   "outputs": [
    {
     "data": {
      "application/javascript": [
       "\n",
       "            setTimeout(function() {\n",
       "                var nbb_cell_id = 124;\n",
       "                var nbb_unformatted_code = \"# # Example code to quick-check a specific entry\\n# df[df[\\\"info_2\\\"] == \\\"convicted murderer and botched execution survivor\\\"]\";\n",
       "                var nbb_formatted_code = \"# # Example code to quick-check a specific entry\\n# df[df[\\\"info_2\\\"] == \\\"convicted murderer and botched execution survivor\\\"]\";\n",
       "                var nbb_cells = Jupyter.notebook.get_cells();\n",
       "                for (var i = 0; i < nbb_cells.length; ++i) {\n",
       "                    if (nbb_cells[i].input_prompt_number == nbb_cell_id) {\n",
       "                        if (nbb_cells[i].get_text() == nbb_unformatted_code) {\n",
       "                             nbb_cells[i].set_text(nbb_formatted_code);\n",
       "                        }\n",
       "                        break;\n",
       "                    }\n",
       "                }\n",
       "            }, 500);\n",
       "            "
      ],
      "text/plain": [
       "<IPython.core.display.Javascript object>"
      ]
     },
     "metadata": {},
     "output_type": "display_data"
    }
   ],
   "source": [
    "# # Example code to quick-check a specific entry\n",
    "# df[df[\"info_2\"] == \"convicted murderer and botched execution survivor\"]"
   ]
  },
  {
   "cell_type": "markdown",
   "id": "723968e3",
   "metadata": {},
   "source": [
    "#### Creating Lists for Each `known_for` Category"
   ]
  },
  {
   "cell_type": "code",
   "execution_count": 125,
   "id": "93de5e4e",
   "metadata": {},
   "outputs": [
    {
     "data": {
      "application/javascript": [
       "\n",
       "            setTimeout(function() {\n",
       "                var nbb_cell_id = 125;\n",
       "                var nbb_unformatted_code = \"# Creating lists for each category\\npolitics_govt_law = [\\n    \\\"Corsican nationalist\\\",\\n]\\n\\narts = []\\nsports = []\\nsciences = []\\n\\nbusiness_farming = []\\nacademia_humanities = []\\nlaw_enf_military_operator = [\\n    \\\"Marine veteran of the War\\\",\\n]\\nspiritual = []\\nsocial = []\\ncrime = [\\n    \\\"and convicted murderer executed by hanging at dawn in Changi Prison for manipulating and hiring a minor who\\\",\\n    \\\"convicted murderer and suspected serial killer\\\",\\n    \\\"convicted murderer and prison escapee\\\",\\n    \\\"terrorist and convicted murderer\\\",\\n    \\\"gangster and convicted murderer\\\",\\n    \\\"convicted murderer and fugitive\\\",\\n    \\\"and convicted murderer\\\",\\n    \\\"convicted murderer and\\\",\\n    \\\"convicted murderer\\\",\\n]\\nevent_record_other = [\\n    \\\"botched execution survivor\\\",\\n]\\nother_species = []\";\n",
       "                var nbb_formatted_code = \"# Creating lists for each category\\npolitics_govt_law = [\\n    \\\"Corsican nationalist\\\",\\n]\\n\\narts = []\\nsports = []\\nsciences = []\\n\\nbusiness_farming = []\\nacademia_humanities = []\\nlaw_enf_military_operator = [\\n    \\\"Marine veteran of the War\\\",\\n]\\nspiritual = []\\nsocial = []\\ncrime = [\\n    \\\"and convicted murderer executed by hanging at dawn in Changi Prison for manipulating and hiring a minor who\\\",\\n    \\\"convicted murderer and suspected serial killer\\\",\\n    \\\"convicted murderer and prison escapee\\\",\\n    \\\"terrorist and convicted murderer\\\",\\n    \\\"gangster and convicted murderer\\\",\\n    \\\"convicted murderer and fugitive\\\",\\n    \\\"and convicted murderer\\\",\\n    \\\"convicted murderer and\\\",\\n    \\\"convicted murderer\\\",\\n]\\nevent_record_other = [\\n    \\\"botched execution survivor\\\",\\n]\\nother_species = []\";\n",
       "                var nbb_cells = Jupyter.notebook.get_cells();\n",
       "                for (var i = 0; i < nbb_cells.length; ++i) {\n",
       "                    if (nbb_cells[i].input_prompt_number == nbb_cell_id) {\n",
       "                        if (nbb_cells[i].get_text() == nbb_unformatted_code) {\n",
       "                             nbb_cells[i].set_text(nbb_formatted_code);\n",
       "                        }\n",
       "                        break;\n",
       "                    }\n",
       "                }\n",
       "            }, 500);\n",
       "            "
      ],
      "text/plain": [
       "<IPython.core.display.Javascript object>"
      ]
     },
     "metadata": {},
     "output_type": "display_data"
    }
   ],
   "source": [
    "# Creating lists for each category\n",
    "politics_govt_law = [\n",
    "    \"Corsican nationalist\",\n",
    "]\n",
    "\n",
    "arts = []\n",
    "sports = []\n",
    "sciences = []\n",
    "\n",
    "business_farming = []\n",
    "academia_humanities = []\n",
    "law_enf_military_operator = [\n",
    "    \"Marine veteran of the War\",\n",
    "]\n",
    "spiritual = []\n",
    "social = []\n",
    "crime = [\n",
    "    \"and convicted murderer executed by hanging at dawn in Changi Prison for manipulating and hiring a minor who\",\n",
    "    \"convicted murderer and suspected serial killer\",\n",
    "    \"convicted murderer and prison escapee\",\n",
    "    \"terrorist and convicted murderer\",\n",
    "    \"gangster and convicted murderer\",\n",
    "    \"convicted murderer and fugitive\",\n",
    "    \"and convicted murderer\",\n",
    "    \"convicted murderer and\",\n",
    "    \"convicted murderer\",\n",
    "]\n",
    "event_record_other = [\n",
    "    \"botched execution survivor\",\n",
    "]\n",
    "other_species = []"
   ]
  },
  {
   "cell_type": "code",
   "execution_count": 126,
   "id": "e6883431",
   "metadata": {},
   "outputs": [
    {
     "data": {
      "application/javascript": [
       "\n",
       "            setTimeout(function() {\n",
       "                var nbb_cell_id = 126;\n",
       "                var nbb_unformatted_code = \"# Hard-coding cause_of_death for entry with value in info_2\\nindex = df[df[\\\"link\\\"] == \\\"https://en.wikipedia.org/wiki/Anthony_Ler\\\"].index\\ndf.loc[index, \\\"cause_of_death\\\"] = \\\"executed\\\"\";\n",
       "                var nbb_formatted_code = \"# Hard-coding cause_of_death for entry with value in info_2\\nindex = df[df[\\\"link\\\"] == \\\"https://en.wikipedia.org/wiki/Anthony_Ler\\\"].index\\ndf.loc[index, \\\"cause_of_death\\\"] = \\\"executed\\\"\";\n",
       "                var nbb_cells = Jupyter.notebook.get_cells();\n",
       "                for (var i = 0; i < nbb_cells.length; ++i) {\n",
       "                    if (nbb_cells[i].input_prompt_number == nbb_cell_id) {\n",
       "                        if (nbb_cells[i].get_text() == nbb_unformatted_code) {\n",
       "                             nbb_cells[i].set_text(nbb_formatted_code);\n",
       "                        }\n",
       "                        break;\n",
       "                    }\n",
       "                }\n",
       "            }, 500);\n",
       "            "
      ],
      "text/plain": [
       "<IPython.core.display.Javascript object>"
      ]
     },
     "metadata": {},
     "output_type": "display_data"
    }
   ],
   "source": [
    "# Hard-coding cause_of_death for entry with value in info_2\n",
    "index = df[df[\"link\"] == \"https://en.wikipedia.org/wiki/Anthony_Ler\"].index\n",
    "df.loc[index, \"cause_of_death\"] = \"executed\""
   ]
  },
  {
   "cell_type": "markdown",
   "id": "d3aae5ea",
   "metadata": {},
   "source": [
    "#### Creating `known_for_dict` Dictionary of Category Keys and Specific Role Lists of Values"
   ]
  },
  {
   "cell_type": "code",
   "execution_count": 127,
   "id": "e7691e85",
   "metadata": {},
   "outputs": [
    {
     "data": {
      "application/javascript": [
       "\n",
       "            setTimeout(function() {\n",
       "                var nbb_cell_id = 127;\n",
       "                var nbb_unformatted_code = \"# Combining separate lists into one dictionary\\nknown_for_dict = {\\n    \\\"social\\\": social,\\n    \\\"spiritual\\\": spiritual,\\n    \\\"academia_humanities\\\": academia_humanities,\\n    \\\"business_farming\\\": business_farming,\\n    \\\"sciences\\\": sciences,\\n    \\\"politics_govt_law\\\": politics_govt_law,\\n    \\\"law_enf_military_operator\\\": law_enf_military_operator,\\n    \\\"crime\\\": crime,\\n    \\\"event_record_other\\\": event_record_other,\\n    \\\"other_species\\\": other_species,\\n    \\\"arts\\\": arts,\\n    \\\"sports\\\": sports,\\n}\";\n",
       "                var nbb_formatted_code = \"# Combining separate lists into one dictionary\\nknown_for_dict = {\\n    \\\"social\\\": social,\\n    \\\"spiritual\\\": spiritual,\\n    \\\"academia_humanities\\\": academia_humanities,\\n    \\\"business_farming\\\": business_farming,\\n    \\\"sciences\\\": sciences,\\n    \\\"politics_govt_law\\\": politics_govt_law,\\n    \\\"law_enf_military_operator\\\": law_enf_military_operator,\\n    \\\"crime\\\": crime,\\n    \\\"event_record_other\\\": event_record_other,\\n    \\\"other_species\\\": other_species,\\n    \\\"arts\\\": arts,\\n    \\\"sports\\\": sports,\\n}\";\n",
       "                var nbb_cells = Jupyter.notebook.get_cells();\n",
       "                for (var i = 0; i < nbb_cells.length; ++i) {\n",
       "                    if (nbb_cells[i].input_prompt_number == nbb_cell_id) {\n",
       "                        if (nbb_cells[i].get_text() == nbb_unformatted_code) {\n",
       "                             nbb_cells[i].set_text(nbb_formatted_code);\n",
       "                        }\n",
       "                        break;\n",
       "                    }\n",
       "                }\n",
       "            }, 500);\n",
       "            "
      ],
      "text/plain": [
       "<IPython.core.display.Javascript object>"
      ]
     },
     "metadata": {},
     "output_type": "display_data"
    }
   ],
   "source": [
    "# Combining separate lists into one dictionary\n",
    "known_for_dict = {\n",
    "    \"social\": social,\n",
    "    \"spiritual\": spiritual,\n",
    "    \"academia_humanities\": academia_humanities,\n",
    "    \"business_farming\": business_farming,\n",
    "    \"sciences\": sciences,\n",
    "    \"politics_govt_law\": politics_govt_law,\n",
    "    \"law_enf_military_operator\": law_enf_military_operator,\n",
    "    \"crime\": crime,\n",
    "    \"event_record_other\": event_record_other,\n",
    "    \"other_species\": other_species,\n",
    "    \"arts\": arts,\n",
    "    \"sports\": sports,\n",
    "}"
   ]
  },
  {
   "cell_type": "markdown",
   "id": "e78aa343",
   "metadata": {},
   "source": [
    "#### Extracting Category from `info_2`"
   ]
  },
  {
   "cell_type": "code",
   "execution_count": 128,
   "id": "d947be54",
   "metadata": {},
   "outputs": [
    {
     "name": "stdout",
     "output_type": "stream",
     "text": [
      "CPU times: total: 6.42 s\n",
      "Wall time: 6.41 s\n"
     ]
    },
    {
     "data": {
      "text/html": [
       "<div>\n",
       "<style scoped>\n",
       "    .dataframe tbody tr th:only-of-type {\n",
       "        vertical-align: middle;\n",
       "    }\n",
       "\n",
       "    .dataframe tbody tr th {\n",
       "        vertical-align: top;\n",
       "    }\n",
       "\n",
       "    .dataframe thead th {\n",
       "        text-align: right;\n",
       "    }\n",
       "</style>\n",
       "<table border=\"1\" class=\"dataframe\">\n",
       "  <thead>\n",
       "    <tr style=\"text-align: right;\">\n",
       "      <th></th>\n",
       "      <th>day</th>\n",
       "      <th>name</th>\n",
       "      <th>info</th>\n",
       "      <th>link</th>\n",
       "      <th>num_references</th>\n",
       "      <th>year</th>\n",
       "      <th>month</th>\n",
       "      <th>info_parenth</th>\n",
       "      <th>info_1</th>\n",
       "      <th>info_2</th>\n",
       "      <th>info_3</th>\n",
       "      <th>info_4</th>\n",
       "      <th>info_5</th>\n",
       "      <th>info_6</th>\n",
       "      <th>info_7</th>\n",
       "      <th>info_8</th>\n",
       "      <th>info_9</th>\n",
       "      <th>info_10</th>\n",
       "      <th>info_11</th>\n",
       "      <th>age</th>\n",
       "      <th>cause_of_death</th>\n",
       "      <th>place_1</th>\n",
       "      <th>place_2</th>\n",
       "      <th>info_parenth_copy</th>\n",
       "      <th>log_num_references</th>\n",
       "      <th>sciences</th>\n",
       "      <th>social</th>\n",
       "      <th>spiritual</th>\n",
       "      <th>academia_humanities</th>\n",
       "      <th>business_farming</th>\n",
       "      <th>arts</th>\n",
       "      <th>sports</th>\n",
       "      <th>law_enf_military_operator</th>\n",
       "      <th>politics_govt_law</th>\n",
       "      <th>crime</th>\n",
       "      <th>event_record_other</th>\n",
       "      <th>other_species</th>\n",
       "      <th>num_categories</th>\n",
       "    </tr>\n",
       "  </thead>\n",
       "  <tbody>\n",
       "    <tr>\n",
       "      <th>13347</th>\n",
       "      <td>28</td>\n",
       "      <td>James Homer Elledge</td>\n",
       "      <td>, 58, American convicted murderer, executed by lethal injection in Washington.</td>\n",
       "      <td>https://en.wikipedia.org/wiki/James_Homer_Elledge</td>\n",
       "      <td>8</td>\n",
       "      <td>2001</td>\n",
       "      <td>August</td>\n",
       "      <td>None</td>\n",
       "      <td>None</td>\n",
       "      <td></td>\n",
       "      <td>executed by lethal injection in Washington</td>\n",
       "      <td>None</td>\n",
       "      <td>None</td>\n",
       "      <td>None</td>\n",
       "      <td>None</td>\n",
       "      <td>None</td>\n",
       "      <td>None</td>\n",
       "      <td>None</td>\n",
       "      <td>None</td>\n",
       "      <td>58.0</td>\n",
       "      <td>None</td>\n",
       "      <td>United States of America</td>\n",
       "      <td>None</td>\n",
       "      <td>None</td>\n",
       "      <td>2.197225</td>\n",
       "      <td>0</td>\n",
       "      <td>0</td>\n",
       "      <td>0</td>\n",
       "      <td>0</td>\n",
       "      <td>0</td>\n",
       "      <td>0</td>\n",
       "      <td>0</td>\n",
       "      <td>0</td>\n",
       "      <td>0</td>\n",
       "      <td>1</td>\n",
       "      <td>0</td>\n",
       "      <td>0</td>\n",
       "      <td>1</td>\n",
       "    </tr>\n",
       "    <tr>\n",
       "      <th>68934</th>\n",
       "      <td>8</td>\n",
       "      <td>James Scott</td>\n",
       "      <td>, 71, American light-heavyweight boxer and convicted murderer.</td>\n",
       "      <td>https://en.wikipedia.org/wiki/James_Scott_(boxer)</td>\n",
       "      <td>12</td>\n",
       "      <td>2018</td>\n",
       "      <td>May</td>\n",
       "      <td>None</td>\n",
       "      <td>None</td>\n",
       "      <td></td>\n",
       "      <td>None</td>\n",
       "      <td>None</td>\n",
       "      <td>None</td>\n",
       "      <td>None</td>\n",
       "      <td>None</td>\n",
       "      <td>None</td>\n",
       "      <td>None</td>\n",
       "      <td>None</td>\n",
       "      <td>None</td>\n",
       "      <td>71.0</td>\n",
       "      <td>None</td>\n",
       "      <td>United States of America</td>\n",
       "      <td>None</td>\n",
       "      <td>None</td>\n",
       "      <td>2.564949</td>\n",
       "      <td>0</td>\n",
       "      <td>0</td>\n",
       "      <td>0</td>\n",
       "      <td>0</td>\n",
       "      <td>0</td>\n",
       "      <td>0</td>\n",
       "      <td>1</td>\n",
       "      <td>0</td>\n",
       "      <td>0</td>\n",
       "      <td>1</td>\n",
       "      <td>0</td>\n",
       "      <td>0</td>\n",
       "      <td>2</td>\n",
       "    </tr>\n",
       "  </tbody>\n",
       "</table>\n",
       "</div>"
      ],
      "text/plain": [
       "      day                 name  \\\n",
       "13347  28  James Homer Elledge   \n",
       "68934   8          James Scott   \n",
       "\n",
       "                                                                                 info  \\\n",
       "13347  , 58, American convicted murderer, executed by lethal injection in Washington.   \n",
       "68934                  , 71, American light-heavyweight boxer and convicted murderer.   \n",
       "\n",
       "                                                    link  num_references  \\\n",
       "13347  https://en.wikipedia.org/wiki/James_Homer_Elledge               8   \n",
       "68934  https://en.wikipedia.org/wiki/James_Scott_(boxer)              12   \n",
       "\n",
       "       year   month info_parenth info_1 info_2  \\\n",
       "13347  2001  August         None   None          \n",
       "68934  2018     May         None   None          \n",
       "\n",
       "                                           info_3 info_4 info_5 info_6 info_7  \\\n",
       "13347  executed by lethal injection in Washington   None   None   None   None   \n",
       "68934                                        None   None   None   None   None   \n",
       "\n",
       "      info_8 info_9 info_10 info_11   age cause_of_death  \\\n",
       "13347   None   None    None    None  58.0           None   \n",
       "68934   None   None    None    None  71.0           None   \n",
       "\n",
       "                        place_1 place_2 info_parenth_copy  log_num_references  \\\n",
       "13347  United States of America    None              None            2.197225   \n",
       "68934  United States of America    None              None            2.564949   \n",
       "\n",
       "       sciences  social  spiritual  academia_humanities  business_farming  \\\n",
       "13347         0       0          0                    0                 0   \n",
       "68934         0       0          0                    0                 0   \n",
       "\n",
       "       arts  sports  law_enf_military_operator  politics_govt_law  crime  \\\n",
       "13347     0       0                          0                  0      1   \n",
       "68934     0       1                          0                  0      1   \n",
       "\n",
       "       event_record_other  other_species  num_categories  \n",
       "13347                   0              0               1  \n",
       "68934                   0              0               2  "
      ]
     },
     "execution_count": 128,
     "metadata": {},
     "output_type": "execute_result"
    },
    {
     "data": {
      "application/javascript": [
       "\n",
       "            setTimeout(function() {\n",
       "                var nbb_cell_id = 128;\n",
       "                var nbb_unformatted_code = \"%%time\\n\\n# Dictionary version\\nsearch_dict = known_for_dict\\n\\n# Column to check\\ncolumn = 'info_2'\\n\\n# Dataframe\\ndataframe = df[column].notna()\\n\\n# For loop to find role in column and extract it as category\\nfor category, category_lst in search_dict.items():\\n    for role in category_lst:\\n        for index in dataframe.index:\\n            item = df.loc[index, column]\\n            if item:\\n                if role in item:\\n                    df.loc[index, category] = 1\\n                    df.loc[index, column] = item.replace(role, '').strip()\\n\\n# Updating num_categories\\ndf[\\\"num_categories\\\"] = df[known_for_dict.keys()].sum(axis=1)\\n\\n# Checking a sample of rows\\ndf[df['crime'] ==1].sample(2)\";\n",
       "                var nbb_formatted_code = \"%%time\\n\\n# Dictionary version\\nsearch_dict = known_for_dict\\n\\n# Column to check\\ncolumn = 'info_2'\\n\\n# Dataframe\\ndataframe = df[column].notna()\\n\\n# For loop to find role in column and extract it as category\\nfor category, category_lst in search_dict.items():\\n    for role in category_lst:\\n        for index in dataframe.index:\\n            item = df.loc[index, column]\\n            if item:\\n                if role in item:\\n                    df.loc[index, category] = 1\\n                    df.loc[index, column] = item.replace(role, '').strip()\\n\\n# Updating num_categories\\ndf[\\\"num_categories\\\"] = df[known_for_dict.keys()].sum(axis=1)\\n\\n# Checking a sample of rows\\ndf[df['crime'] ==1].sample(2)\";\n",
       "                var nbb_cells = Jupyter.notebook.get_cells();\n",
       "                for (var i = 0; i < nbb_cells.length; ++i) {\n",
       "                    if (nbb_cells[i].input_prompt_number == nbb_cell_id) {\n",
       "                        if (nbb_cells[i].get_text() == nbb_unformatted_code) {\n",
       "                             nbb_cells[i].set_text(nbb_formatted_code);\n",
       "                        }\n",
       "                        break;\n",
       "                    }\n",
       "                }\n",
       "            }, 500);\n",
       "            "
      ],
      "text/plain": [
       "<IPython.core.display.Javascript object>"
      ]
     },
     "metadata": {},
     "output_type": "display_data"
    }
   ],
   "source": [
    "%%time\n",
    "\n",
    "# Dictionary version\n",
    "search_dict = known_for_dict\n",
    "\n",
    "# Column to check\n",
    "column = 'info_2'\n",
    "\n",
    "# Dataframe\n",
    "dataframe = df[column].notna()\n",
    "\n",
    "# For loop to find role in column and extract it as category\n",
    "for category, category_lst in search_dict.items():\n",
    "    for role in category_lst:\n",
    "        for index in dataframe.index:\n",
    "            item = df.loc[index, column]\n",
    "            if item:\n",
    "                if role in item:\n",
    "                    df.loc[index, category] = 1\n",
    "                    df.loc[index, column] = item.replace(role, '').strip()\n",
    "\n",
    "# Updating num_categories\n",
    "df[\"num_categories\"] = df[known_for_dict.keys()].sum(axis=1)\n",
    "\n",
    "# Checking a sample of rows\n",
    "df[df['crime'] ==1].sample(2)"
   ]
  },
  {
   "cell_type": "markdown",
   "id": "4fa6311f",
   "metadata": {},
   "source": [
    "#### Checking the Number of Rows without a First Category"
   ]
  },
  {
   "cell_type": "code",
   "execution_count": 129,
   "id": "1b1ac098",
   "metadata": {},
   "outputs": [
    {
     "name": "stdout",
     "output_type": "stream",
     "text": [
      "There are 29000 entries without any known_for category.\n"
     ]
    },
    {
     "data": {
      "application/javascript": [
       "\n",
       "            setTimeout(function() {\n",
       "                var nbb_cell_id = 129;\n",
       "                var nbb_unformatted_code = \"# Checking the number of rows without a first category\\nprint(\\n    f'There are {len(df[df[\\\"num_categories\\\"]==0])} entries without any known_for category.'\\n)\";\n",
       "                var nbb_formatted_code = \"# Checking the number of rows without a first category\\nprint(\\n    f'There are {len(df[df[\\\"num_categories\\\"]==0])} entries without any known_for category.'\\n)\";\n",
       "                var nbb_cells = Jupyter.notebook.get_cells();\n",
       "                for (var i = 0; i < nbb_cells.length; ++i) {\n",
       "                    if (nbb_cells[i].input_prompt_number == nbb_cell_id) {\n",
       "                        if (nbb_cells[i].get_text() == nbb_unformatted_code) {\n",
       "                             nbb_cells[i].set_text(nbb_formatted_code);\n",
       "                        }\n",
       "                        break;\n",
       "                    }\n",
       "                }\n",
       "            }, 500);\n",
       "            "
      ],
      "text/plain": [
       "<IPython.core.display.Javascript object>"
      ]
     },
     "metadata": {},
     "output_type": "display_data"
    }
   ],
   "source": [
    "# Checking the number of rows without a first category\n",
    "print(\n",
    "    f'There are {len(df[df[\"num_categories\"]==0])} entries without any known_for category.'\n",
    ")"
   ]
  },
  {
   "cell_type": "markdown",
   "id": "3851e54a",
   "metadata": {},
   "source": [
    "#### Observations:\n",
    "- We will proceed to rebuild `known_for_dict` for the next iteration."
   ]
  },
  {
   "cell_type": "markdown",
   "id": "bc14c89e",
   "metadata": {},
   "source": [
    "#### Finding `known_for` Roles in `info_2`"
   ]
  },
  {
   "cell_type": "code",
   "execution_count": 130,
   "id": "588d9dc8",
   "metadata": {},
   "outputs": [
    {
     "data": {
      "application/javascript": [
       "\n",
       "            setTimeout(function() {\n",
       "                var nbb_cell_id = 130;\n",
       "                var nbb_unformatted_code = \"# # Obtaining values for column and their counts\\n# roles_list = df[\\\"info_2\\\"].value_counts(ascending=True).index.tolist()\";\n",
       "                var nbb_formatted_code = \"# # Obtaining values for column and their counts\\n# roles_list = df[\\\"info_2\\\"].value_counts(ascending=True).index.tolist()\";\n",
       "                var nbb_cells = Jupyter.notebook.get_cells();\n",
       "                for (var i = 0; i < nbb_cells.length; ++i) {\n",
       "                    if (nbb_cells[i].input_prompt_number == nbb_cell_id) {\n",
       "                        if (nbb_cells[i].get_text() == nbb_unformatted_code) {\n",
       "                             nbb_cells[i].set_text(nbb_formatted_code);\n",
       "                        }\n",
       "                        break;\n",
       "                    }\n",
       "                }\n",
       "            }, 500);\n",
       "            "
      ],
      "text/plain": [
       "<IPython.core.display.Javascript object>"
      ]
     },
     "metadata": {},
     "output_type": "display_data"
    }
   ],
   "source": [
    "# # Obtaining values for column and their counts\n",
    "# roles_list = df[\"info_2\"].value_counts(ascending=True).index.tolist()"
   ]
  },
  {
   "cell_type": "code",
   "execution_count": 131,
   "id": "9f8587b1",
   "metadata": {},
   "outputs": [
    {
     "data": {
      "application/javascript": [
       "\n",
       "            setTimeout(function() {\n",
       "                var nbb_cell_id = 131;\n",
       "                var nbb_unformatted_code = \"# # Code to check each value\\n# roles_list.pop()\";\n",
       "                var nbb_formatted_code = \"# # Code to check each value\\n# roles_list.pop()\";\n",
       "                var nbb_cells = Jupyter.notebook.get_cells();\n",
       "                for (var i = 0; i < nbb_cells.length; ++i) {\n",
       "                    if (nbb_cells[i].input_prompt_number == nbb_cell_id) {\n",
       "                        if (nbb_cells[i].get_text() == nbb_unformatted_code) {\n",
       "                             nbb_cells[i].set_text(nbb_formatted_code);\n",
       "                        }\n",
       "                        break;\n",
       "                    }\n",
       "                }\n",
       "            }, 500);\n",
       "            "
      ],
      "text/plain": [
       "<IPython.core.display.Javascript object>"
      ]
     },
     "metadata": {},
     "output_type": "display_data"
    }
   ],
   "source": [
    "# # Code to check each value\n",
    "# roles_list.pop()"
   ]
  },
  {
   "cell_type": "code",
   "execution_count": 132,
   "id": "cec88be3",
   "metadata": {},
   "outputs": [
    {
     "data": {
      "application/javascript": [
       "\n",
       "            setTimeout(function() {\n",
       "                var nbb_cell_id = 132;\n",
       "                var nbb_unformatted_code = \"# # Create specific_roles_list for above popped value\\n# specific_roles_list = (\\n#     df.loc[\\n#         [\\n#             index\\n#             for index in df[df[\\\"info_2\\\"].notna()].index\\n#             if \\\"general\\\" in df.loc[index, \\\"info_2\\\"]\\n#         ],\\n#         \\\"info_2\\\",\\n#     ]\\n#     .value_counts()\\n#     .index.tolist()\\n# )\";\n",
       "                var nbb_formatted_code = \"# # Create specific_roles_list for above popped value\\n# specific_roles_list = (\\n#     df.loc[\\n#         [\\n#             index\\n#             for index in df[df[\\\"info_2\\\"].notna()].index\\n#             if \\\"general\\\" in df.loc[index, \\\"info_2\\\"]\\n#         ],\\n#         \\\"info_2\\\",\\n#     ]\\n#     .value_counts()\\n#     .index.tolist()\\n# )\";\n",
       "                var nbb_cells = Jupyter.notebook.get_cells();\n",
       "                for (var i = 0; i < nbb_cells.length; ++i) {\n",
       "                    if (nbb_cells[i].input_prompt_number == nbb_cell_id) {\n",
       "                        if (nbb_cells[i].get_text() == nbb_unformatted_code) {\n",
       "                             nbb_cells[i].set_text(nbb_formatted_code);\n",
       "                        }\n",
       "                        break;\n",
       "                    }\n",
       "                }\n",
       "            }, 500);\n",
       "            "
      ],
      "text/plain": [
       "<IPython.core.display.Javascript object>"
      ]
     },
     "metadata": {},
     "output_type": "display_data"
    }
   ],
   "source": [
    "# # Create specific_roles_list for above popped value\n",
    "# specific_roles_list = (\n",
    "#     df.loc[\n",
    "#         [\n",
    "#             index\n",
    "#             for index in df[df[\"info_2\"].notna()].index\n",
    "#             if \"general\" in df.loc[index, \"info_2\"]\n",
    "#         ],\n",
    "#         \"info_2\",\n",
    "#     ]\n",
    "#     .value_counts()\n",
    "#     .index.tolist()\n",
    "# )"
   ]
  },
  {
   "cell_type": "code",
   "execution_count": 133,
   "id": "413ab954",
   "metadata": {},
   "outputs": [
    {
     "data": {
      "application/javascript": [
       "\n",
       "            setTimeout(function() {\n",
       "                var nbb_cell_id = 133;\n",
       "                var nbb_unformatted_code = \"# # Code to check each specific value\\n# specific_roles_list.pop()\";\n",
       "                var nbb_formatted_code = \"# # Code to check each specific value\\n# specific_roles_list.pop()\";\n",
       "                var nbb_cells = Jupyter.notebook.get_cells();\n",
       "                for (var i = 0; i < nbb_cells.length; ++i) {\n",
       "                    if (nbb_cells[i].input_prompt_number == nbb_cell_id) {\n",
       "                        if (nbb_cells[i].get_text() == nbb_unformatted_code) {\n",
       "                             nbb_cells[i].set_text(nbb_formatted_code);\n",
       "                        }\n",
       "                        break;\n",
       "                    }\n",
       "                }\n",
       "            }, 500);\n",
       "            "
      ],
      "text/plain": [
       "<IPython.core.display.Javascript object>"
      ]
     },
     "metadata": {},
     "output_type": "display_data"
    }
   ],
   "source": [
    "# # Code to check each specific value\n",
    "# specific_roles_list.pop()"
   ]
  },
  {
   "cell_type": "code",
   "execution_count": 134,
   "id": "69e98ca5",
   "metadata": {},
   "outputs": [
    {
     "data": {
      "application/javascript": [
       "\n",
       "            setTimeout(function() {\n",
       "                var nbb_cell_id = 134;\n",
       "                var nbb_unformatted_code = \"# # # Example code to quick-screen values that may overlap categories\\n# df.loc[[index for index in df.index if \\\"director general of\\\" in df.loc[index, \\\"info\\\"]]]\";\n",
       "                var nbb_formatted_code = \"# # # Example code to quick-screen values that may overlap categories\\n# df.loc[[index for index in df.index if \\\"director general of\\\" in df.loc[index, \\\"info\\\"]]]\";\n",
       "                var nbb_cells = Jupyter.notebook.get_cells();\n",
       "                for (var i = 0; i < nbb_cells.length; ++i) {\n",
       "                    if (nbb_cells[i].input_prompt_number == nbb_cell_id) {\n",
       "                        if (nbb_cells[i].get_text() == nbb_unformatted_code) {\n",
       "                             nbb_cells[i].set_text(nbb_formatted_code);\n",
       "                        }\n",
       "                        break;\n",
       "                    }\n",
       "                }\n",
       "            }, 500);\n",
       "            "
      ],
      "text/plain": [
       "<IPython.core.display.Javascript object>"
      ]
     },
     "metadata": {},
     "output_type": "display_data"
    }
   ],
   "source": [
    "# # # Example code to quick-screen values that may overlap categories\n",
    "# df.loc[[index for index in df.index if \"director general of\" in df.loc[index, \"info\"]]]"
   ]
  },
  {
   "cell_type": "code",
   "execution_count": 135,
   "id": "d335ef9c",
   "metadata": {},
   "outputs": [
    {
     "data": {
      "application/javascript": [
       "\n",
       "            setTimeout(function() {\n",
       "                var nbb_cell_id = 135;\n",
       "                var nbb_unformatted_code = \"# # Example code to quick-check a specific entry\\n# df[df[\\\"info_2\\\"] == \\\"volleyball player and general\\\"]\";\n",
       "                var nbb_formatted_code = \"# # Example code to quick-check a specific entry\\n# df[df[\\\"info_2\\\"] == \\\"volleyball player and general\\\"]\";\n",
       "                var nbb_cells = Jupyter.notebook.get_cells();\n",
       "                for (var i = 0; i < nbb_cells.length; ++i) {\n",
       "                    if (nbb_cells[i].input_prompt_number == nbb_cell_id) {\n",
       "                        if (nbb_cells[i].get_text() == nbb_unformatted_code) {\n",
       "                             nbb_cells[i].set_text(nbb_formatted_code);\n",
       "                        }\n",
       "                        break;\n",
       "                    }\n",
       "                }\n",
       "            }, 500);\n",
       "            "
      ],
      "text/plain": [
       "<IPython.core.display.Javascript object>"
      ]
     },
     "metadata": {},
     "output_type": "display_data"
    }
   ],
   "source": [
    "# # Example code to quick-check a specific entry\n",
    "# df[df[\"info_2\"] == \"volleyball player and general\"]"
   ]
  },
  {
   "cell_type": "markdown",
   "id": "96a1ff9a",
   "metadata": {},
   "source": [
    "#### Creating Lists for Each `known_for` Category"
   ]
  },
  {
   "cell_type": "code",
   "execution_count": 136,
   "id": "44b6e580",
   "metadata": {},
   "outputs": [
    {
     "data": {
      "application/javascript": [
       "\n",
       "            setTimeout(function() {\n",
       "                var nbb_cell_id = 136;\n",
       "                var nbb_unformatted_code = \"# Creating lists for each category\\npolitics_govt_law = [\\n    \\\"general secretary of the National Union of\\\",\\n    \\\"involved in the Algiers putsch of\\\",\\n    \\\"senator and attorney general\\\",\\n    \\\"Governor general of the\\\",\\n    \\\"attorney general\\\",  # before law_enf_military_operator\\n    \\\"prefect and\\\",\\n]\\n\\narts = [\\n    \\\"founder and general manager of Montreux Jazz Festival\\\",\\n    \\\"general manager of the Metropolitan Opera\\\",\\n    \\\"director general of\\\",  # before law_enf_military_operator\\n]\\nsports = [\\n    \\\"executive and general manager of the National Basketball Association Sacramento Kings\\\",\\n    \\\"president and general manager of the Dallas Cowboys professional football team\\\",  # before law_enf_military_operator\\n    \\\"basketball coach and secretary general of the Basketball Association of the\\\",\\n    \\\"general manager of the Pittsburgh Pirates and Baltimore Orioles\\\",\\n    \\\"former Baseball general manager with the Baltimore Orioles\\\",\\n    \\\"former general manager of Montreal Canadiens\\\",\\n    \\\"general manager for the Galaxy soccer team\\\",\\n    \\\"baseball executive and general manager\\\",\\n    \\\"baseball Hall of Fame general manager\\\",\\n    \\\"ice hockey coach and general manager\\\",\\n    \\\"ice hockey general manager\\\",\\n    \\\"general secretary of FIFA\\\",\\n    \\\"baseball general manager\\\",\\n]\\nsciences = [\\n    \\\"general topologist\\\",  # before law_enf_military_operator\\n    \\\"general practitioner\\\",\\n]\\n\\nbusiness_farming = []\\nacademia_humanities = [\\n    \\\"Teachers since\\\",\\n]\\nlaw_enf_military_operator = [\\n    \\\"Air Force four star general and commander of the World War II Tuskegee Airmen\\\",\\n    \\\"army lieutenant general and presidential military advisor\\\",\\n    \\\"lieutenant general in the Air Force and WW II flying ace\\\",\\n    \\\"Air Force general and commander of Tactical Air Command\\\",\\n    \\\"Air Force general and recipient of the Medal of Honor\\\",\\n    \\\"Air Force major general and double Hero of the Union\\\",\\n    \\\"general and commander of the nd Airborne Division\\\",\\n    \\\"bomber and Wehrmacht general during World War II\\\",\\n    \\\"lieutenant general in the People Liberation Army\\\",\\n    \\\"Air Force general and World War II flying ace\\\",\\n    \\\"army general Adjutant General to the Forces\\\",\\n    \\\"Army Air Forces general during World War II\\\",\\n    \\\"flying ace and general during World War II\\\",\\n    \\\"general in the National Revolutionary Army\\\",\\n    \\\"Air Force brigadier general and test pilot\\\",\\n    \\\"flying ace during World War II and general\\\",\\n    \\\"nazi Wehrmacht general during World War II\\\",\\n    \\\"brigadier general and RAF radio operator\\\",\\n    \\\"Air Force officer and brigadier general\\\",\\n    \\\"former head of general security in Gaza\\\",\\n    \\\"lieutenant general in the Marine Corps\\\",\\n    \\\"general and commander in the Viet Cong\\\",\\n    \\\"general and commander of the air force\\\",\\n    \\\"general in the People Liberation Army\\\",\\n    \\\"brigadier general in the Marine Corps\\\",\\n    \\\"Waffen SS general during World War II\\\",\\n    \\\"Army general and son of George Patton\\\",\\n    \\\"Air Force general and aviator pioneer\\\",\\n    \\\"Wehrmacht general during World War II\\\",\\n    \\\"army general and intelligence chief\\\",\\n    \\\"army general Commander of the Army\\\",\\n    \\\"brigadier general in the Air Force\\\",\\n    \\\"general and military junta leader\\\",\\n    \\\"major general in the Marine Corps\\\",\\n    \\\"general and commander of the Army\\\",\\n    \\\"Army general and Defense Minister\\\",\\n    \\\"general for South during the War\\\",\\n    \\\"Air National Guard major general\\\",\\n    \\\"Marine Corps lieutenant general\\\",\\n    \\\"People Liberation Army general\\\",\\n    \\\"major general in the Air Force\\\",\\n    \\\"SS general during World War II\\\",\\n    \\\"resistance fighter and general\\\",\\n    \\\"Republican Guard major general\\\",\\n    \\\"Marine Corps four star general\\\",\\n    \\\"Marine Corps brigadier general\\\",\\n    \\\"general in the People Army of\\\",\\n    \\\"Nationalist military general\\\",\\n    \\\"general during the dirty war\\\",\\n    \\\"air force lieutenant general\\\",\\n    \\\"Air Force lieutenant general\\\",\\n    \\\"Army general during the War\\\",\\n    \\\"military lieutenant general\\\",\\n    \\\"Air Force four star general\\\",\\n    \\\"general during World War II\\\",\\n    \\\"major general and astronaut\\\",\\n    \\\"air force brigadier general\\\",\\n    \\\"Marine Corps major general\\\",\\n    \\\"Illinois inspector general\\\",\\n    \\\"lieutenant general and spy\\\",\\n    \\\"general and navy commander\\\",\\n    \\\"pilot and airforce general\\\",\\n    \\\"general in the y Wehrmacht\\\",\\n    \\\"and a general of the Army\\\",\\n    \\\"Air Force general officer\\\",\\n    \\\"marines brigadier general\\\",\\n    \\\"army general and military\\\",\\n    \\\"major general in the Army\\\",\\n    \\\"general in the Air Force\\\",\\n    \\\"Air Force major general\\\",\\n    \\\"army lieutenant general\\\",\\n    \\\"Army lieutenant general\\\",\\n    \\\"USMC brigadier general\\\",\\n    \\\"army brigadier general\\\",\\n    \\\"Army brigadier general\\\",\\n    \\\"lieutenant general and\\\",\\n    \\\"airforce major general\\\",\\n    \\\"and a brigade general\\\",\\n    \\\"the Air Force general\\\",\\n    \\\"army colonel general\\\",\\n    \\\"general and military\\\",\\n    \\\"retired army general\\\",\\n    \\\"Marine Corps general\\\",\\n    \\\"army major general\\\",\\n    \\\"Army major general\\\",\\n    \\\"Bundeswehr general\\\",\\n    \\\"lieutenant general\\\",\\n    \\\"air force general\\\",\\n    \\\"Air Force general\\\",\\n    \\\"brigadier general\\\",\\n    \\\"major general and\\\",\\n    \\\"inspector general\\\",\\n    \\\"ieutenant general\\\",\\n    \\\"military general\\\",\\n    \\\"Army general and\\\",\\n    \\\"army general and\\\",\\n    \\\"general officer\\\",\\n    \\\"Colonel general\\\",\\n    \\\"colonel general\\\",\\n    \\\"police general\\\",\\n    \\\"general in the\\\",\\n    \\\"major general\\\",\\n    \\\"South general\\\",\\n    \\\"Stasi general\\\",\\n    \\\"ARVN general\\\",\\n    \\\"Serb general\\\",\\n    \\\"USMC general\\\",\\n    \\\"Army general\\\",\\n    \\\"army general\\\",\\n    \\\"general and\\\",\\n    \\\"and general\\\",\\n    \\\"general\\\",\\n]\\nspiritual = [\\n    \\\"Church of the Nazarene minister and general superintendent\\\",  # before law_enf_military_operator\\n]\\nsocial = []\\ncrime = []\\nevent_record_other = []\\nother_species = []\";\n",
       "                var nbb_formatted_code = \"# Creating lists for each category\\npolitics_govt_law = [\\n    \\\"general secretary of the National Union of\\\",\\n    \\\"involved in the Algiers putsch of\\\",\\n    \\\"senator and attorney general\\\",\\n    \\\"Governor general of the\\\",\\n    \\\"attorney general\\\",  # before law_enf_military_operator\\n    \\\"prefect and\\\",\\n]\\n\\narts = [\\n    \\\"founder and general manager of Montreux Jazz Festival\\\",\\n    \\\"general manager of the Metropolitan Opera\\\",\\n    \\\"director general of\\\",  # before law_enf_military_operator\\n]\\nsports = [\\n    \\\"executive and general manager of the National Basketball Association Sacramento Kings\\\",\\n    \\\"president and general manager of the Dallas Cowboys professional football team\\\",  # before law_enf_military_operator\\n    \\\"basketball coach and secretary general of the Basketball Association of the\\\",\\n    \\\"general manager of the Pittsburgh Pirates and Baltimore Orioles\\\",\\n    \\\"former Baseball general manager with the Baltimore Orioles\\\",\\n    \\\"former general manager of Montreal Canadiens\\\",\\n    \\\"general manager for the Galaxy soccer team\\\",\\n    \\\"baseball executive and general manager\\\",\\n    \\\"baseball Hall of Fame general manager\\\",\\n    \\\"ice hockey coach and general manager\\\",\\n    \\\"ice hockey general manager\\\",\\n    \\\"general secretary of FIFA\\\",\\n    \\\"baseball general manager\\\",\\n]\\nsciences = [\\n    \\\"general topologist\\\",  # before law_enf_military_operator\\n    \\\"general practitioner\\\",\\n]\\n\\nbusiness_farming = []\\nacademia_humanities = [\\n    \\\"Teachers since\\\",\\n]\\nlaw_enf_military_operator = [\\n    \\\"Air Force four star general and commander of the World War II Tuskegee Airmen\\\",\\n    \\\"army lieutenant general and presidential military advisor\\\",\\n    \\\"lieutenant general in the Air Force and WW II flying ace\\\",\\n    \\\"Air Force general and commander of Tactical Air Command\\\",\\n    \\\"Air Force general and recipient of the Medal of Honor\\\",\\n    \\\"Air Force major general and double Hero of the Union\\\",\\n    \\\"general and commander of the nd Airborne Division\\\",\\n    \\\"bomber and Wehrmacht general during World War II\\\",\\n    \\\"lieutenant general in the People Liberation Army\\\",\\n    \\\"Air Force general and World War II flying ace\\\",\\n    \\\"army general Adjutant General to the Forces\\\",\\n    \\\"Army Air Forces general during World War II\\\",\\n    \\\"flying ace and general during World War II\\\",\\n    \\\"general in the National Revolutionary Army\\\",\\n    \\\"Air Force brigadier general and test pilot\\\",\\n    \\\"flying ace during World War II and general\\\",\\n    \\\"nazi Wehrmacht general during World War II\\\",\\n    \\\"brigadier general and RAF radio operator\\\",\\n    \\\"Air Force officer and brigadier general\\\",\\n    \\\"former head of general security in Gaza\\\",\\n    \\\"lieutenant general in the Marine Corps\\\",\\n    \\\"general and commander in the Viet Cong\\\",\\n    \\\"general and commander of the air force\\\",\\n    \\\"general in the People Liberation Army\\\",\\n    \\\"brigadier general in the Marine Corps\\\",\\n    \\\"Waffen SS general during World War II\\\",\\n    \\\"Army general and son of George Patton\\\",\\n    \\\"Air Force general and aviator pioneer\\\",\\n    \\\"Wehrmacht general during World War II\\\",\\n    \\\"army general and intelligence chief\\\",\\n    \\\"army general Commander of the Army\\\",\\n    \\\"brigadier general in the Air Force\\\",\\n    \\\"general and military junta leader\\\",\\n    \\\"major general in the Marine Corps\\\",\\n    \\\"general and commander of the Army\\\",\\n    \\\"Army general and Defense Minister\\\",\\n    \\\"general for South during the War\\\",\\n    \\\"Air National Guard major general\\\",\\n    \\\"Marine Corps lieutenant general\\\",\\n    \\\"People Liberation Army general\\\",\\n    \\\"major general in the Air Force\\\",\\n    \\\"SS general during World War II\\\",\\n    \\\"resistance fighter and general\\\",\\n    \\\"Republican Guard major general\\\",\\n    \\\"Marine Corps four star general\\\",\\n    \\\"Marine Corps brigadier general\\\",\\n    \\\"general in the People Army of\\\",\\n    \\\"Nationalist military general\\\",\\n    \\\"general during the dirty war\\\",\\n    \\\"air force lieutenant general\\\",\\n    \\\"Air Force lieutenant general\\\",\\n    \\\"Army general during the War\\\",\\n    \\\"military lieutenant general\\\",\\n    \\\"Air Force four star general\\\",\\n    \\\"general during World War II\\\",\\n    \\\"major general and astronaut\\\",\\n    \\\"air force brigadier general\\\",\\n    \\\"Marine Corps major general\\\",\\n    \\\"Illinois inspector general\\\",\\n    \\\"lieutenant general and spy\\\",\\n    \\\"general and navy commander\\\",\\n    \\\"pilot and airforce general\\\",\\n    \\\"general in the y Wehrmacht\\\",\\n    \\\"and a general of the Army\\\",\\n    \\\"Air Force general officer\\\",\\n    \\\"marines brigadier general\\\",\\n    \\\"army general and military\\\",\\n    \\\"major general in the Army\\\",\\n    \\\"general in the Air Force\\\",\\n    \\\"Air Force major general\\\",\\n    \\\"army lieutenant general\\\",\\n    \\\"Army lieutenant general\\\",\\n    \\\"USMC brigadier general\\\",\\n    \\\"army brigadier general\\\",\\n    \\\"Army brigadier general\\\",\\n    \\\"lieutenant general and\\\",\\n    \\\"airforce major general\\\",\\n    \\\"and a brigade general\\\",\\n    \\\"the Air Force general\\\",\\n    \\\"army colonel general\\\",\\n    \\\"general and military\\\",\\n    \\\"retired army general\\\",\\n    \\\"Marine Corps general\\\",\\n    \\\"army major general\\\",\\n    \\\"Army major general\\\",\\n    \\\"Bundeswehr general\\\",\\n    \\\"lieutenant general\\\",\\n    \\\"air force general\\\",\\n    \\\"Air Force general\\\",\\n    \\\"brigadier general\\\",\\n    \\\"major general and\\\",\\n    \\\"inspector general\\\",\\n    \\\"ieutenant general\\\",\\n    \\\"military general\\\",\\n    \\\"Army general and\\\",\\n    \\\"army general and\\\",\\n    \\\"general officer\\\",\\n    \\\"Colonel general\\\",\\n    \\\"colonel general\\\",\\n    \\\"police general\\\",\\n    \\\"general in the\\\",\\n    \\\"major general\\\",\\n    \\\"South general\\\",\\n    \\\"Stasi general\\\",\\n    \\\"ARVN general\\\",\\n    \\\"Serb general\\\",\\n    \\\"USMC general\\\",\\n    \\\"Army general\\\",\\n    \\\"army general\\\",\\n    \\\"general and\\\",\\n    \\\"and general\\\",\\n    \\\"general\\\",\\n]\\nspiritual = [\\n    \\\"Church of the Nazarene minister and general superintendent\\\",  # before law_enf_military_operator\\n]\\nsocial = []\\ncrime = []\\nevent_record_other = []\\nother_species = []\";\n",
       "                var nbb_cells = Jupyter.notebook.get_cells();\n",
       "                for (var i = 0; i < nbb_cells.length; ++i) {\n",
       "                    if (nbb_cells[i].input_prompt_number == nbb_cell_id) {\n",
       "                        if (nbb_cells[i].get_text() == nbb_unformatted_code) {\n",
       "                             nbb_cells[i].set_text(nbb_formatted_code);\n",
       "                        }\n",
       "                        break;\n",
       "                    }\n",
       "                }\n",
       "            }, 500);\n",
       "            "
      ],
      "text/plain": [
       "<IPython.core.display.Javascript object>"
      ]
     },
     "metadata": {},
     "output_type": "display_data"
    }
   ],
   "source": [
    "# Creating lists for each category\n",
    "politics_govt_law = [\n",
    "    \"general secretary of the National Union of\",\n",
    "    \"involved in the Algiers putsch of\",\n",
    "    \"senator and attorney general\",\n",
    "    \"Governor general of the\",\n",
    "    \"attorney general\",  # before law_enf_military_operator\n",
    "    \"prefect and\",\n",
    "]\n",
    "\n",
    "arts = [\n",
    "    \"founder and general manager of Montreux Jazz Festival\",\n",
    "    \"general manager of the Metropolitan Opera\",\n",
    "    \"director general of\",  # before law_enf_military_operator\n",
    "]\n",
    "sports = [\n",
    "    \"executive and general manager of the National Basketball Association Sacramento Kings\",\n",
    "    \"president and general manager of the Dallas Cowboys professional football team\",  # before law_enf_military_operator\n",
    "    \"basketball coach and secretary general of the Basketball Association of the\",\n",
    "    \"general manager of the Pittsburgh Pirates and Baltimore Orioles\",\n",
    "    \"former Baseball general manager with the Baltimore Orioles\",\n",
    "    \"former general manager of Montreal Canadiens\",\n",
    "    \"general manager for the Galaxy soccer team\",\n",
    "    \"baseball executive and general manager\",\n",
    "    \"baseball Hall of Fame general manager\",\n",
    "    \"ice hockey coach and general manager\",\n",
    "    \"ice hockey general manager\",\n",
    "    \"general secretary of FIFA\",\n",
    "    \"baseball general manager\",\n",
    "]\n",
    "sciences = [\n",
    "    \"general topologist\",  # before law_enf_military_operator\n",
    "    \"general practitioner\",\n",
    "]\n",
    "\n",
    "business_farming = []\n",
    "academia_humanities = [\n",
    "    \"Teachers since\",\n",
    "]\n",
    "law_enf_military_operator = [\n",
    "    \"Air Force four star general and commander of the World War II Tuskegee Airmen\",\n",
    "    \"army lieutenant general and presidential military advisor\",\n",
    "    \"lieutenant general in the Air Force and WW II flying ace\",\n",
    "    \"Air Force general and commander of Tactical Air Command\",\n",
    "    \"Air Force general and recipient of the Medal of Honor\",\n",
    "    \"Air Force major general and double Hero of the Union\",\n",
    "    \"general and commander of the nd Airborne Division\",\n",
    "    \"bomber and Wehrmacht general during World War II\",\n",
    "    \"lieutenant general in the People Liberation Army\",\n",
    "    \"Air Force general and World War II flying ace\",\n",
    "    \"army general Adjutant General to the Forces\",\n",
    "    \"Army Air Forces general during World War II\",\n",
    "    \"flying ace and general during World War II\",\n",
    "    \"general in the National Revolutionary Army\",\n",
    "    \"Air Force brigadier general and test pilot\",\n",
    "    \"flying ace during World War II and general\",\n",
    "    \"nazi Wehrmacht general during World War II\",\n",
    "    \"brigadier general and RAF radio operator\",\n",
    "    \"Air Force officer and brigadier general\",\n",
    "    \"former head of general security in Gaza\",\n",
    "    \"lieutenant general in the Marine Corps\",\n",
    "    \"general and commander in the Viet Cong\",\n",
    "    \"general and commander of the air force\",\n",
    "    \"general in the People Liberation Army\",\n",
    "    \"brigadier general in the Marine Corps\",\n",
    "    \"Waffen SS general during World War II\",\n",
    "    \"Army general and son of George Patton\",\n",
    "    \"Air Force general and aviator pioneer\",\n",
    "    \"Wehrmacht general during World War II\",\n",
    "    \"army general and intelligence chief\",\n",
    "    \"army general Commander of the Army\",\n",
    "    \"brigadier general in the Air Force\",\n",
    "    \"general and military junta leader\",\n",
    "    \"major general in the Marine Corps\",\n",
    "    \"general and commander of the Army\",\n",
    "    \"Army general and Defense Minister\",\n",
    "    \"general for South during the War\",\n",
    "    \"Air National Guard major general\",\n",
    "    \"Marine Corps lieutenant general\",\n",
    "    \"People Liberation Army general\",\n",
    "    \"major general in the Air Force\",\n",
    "    \"SS general during World War II\",\n",
    "    \"resistance fighter and general\",\n",
    "    \"Republican Guard major general\",\n",
    "    \"Marine Corps four star general\",\n",
    "    \"Marine Corps brigadier general\",\n",
    "    \"general in the People Army of\",\n",
    "    \"Nationalist military general\",\n",
    "    \"general during the dirty war\",\n",
    "    \"air force lieutenant general\",\n",
    "    \"Air Force lieutenant general\",\n",
    "    \"Army general during the War\",\n",
    "    \"military lieutenant general\",\n",
    "    \"Air Force four star general\",\n",
    "    \"general during World War II\",\n",
    "    \"major general and astronaut\",\n",
    "    \"air force brigadier general\",\n",
    "    \"Marine Corps major general\",\n",
    "    \"Illinois inspector general\",\n",
    "    \"lieutenant general and spy\",\n",
    "    \"general and navy commander\",\n",
    "    \"pilot and airforce general\",\n",
    "    \"general in the y Wehrmacht\",\n",
    "    \"and a general of the Army\",\n",
    "    \"Air Force general officer\",\n",
    "    \"marines brigadier general\",\n",
    "    \"army general and military\",\n",
    "    \"major general in the Army\",\n",
    "    \"general in the Air Force\",\n",
    "    \"Air Force major general\",\n",
    "    \"army lieutenant general\",\n",
    "    \"Army lieutenant general\",\n",
    "    \"USMC brigadier general\",\n",
    "    \"army brigadier general\",\n",
    "    \"Army brigadier general\",\n",
    "    \"lieutenant general and\",\n",
    "    \"airforce major general\",\n",
    "    \"and a brigade general\",\n",
    "    \"the Air Force general\",\n",
    "    \"army colonel general\",\n",
    "    \"general and military\",\n",
    "    \"retired army general\",\n",
    "    \"Marine Corps general\",\n",
    "    \"army major general\",\n",
    "    \"Army major general\",\n",
    "    \"Bundeswehr general\",\n",
    "    \"lieutenant general\",\n",
    "    \"air force general\",\n",
    "    \"Air Force general\",\n",
    "    \"brigadier general\",\n",
    "    \"major general and\",\n",
    "    \"inspector general\",\n",
    "    \"ieutenant general\",\n",
    "    \"military general\",\n",
    "    \"Army general and\",\n",
    "    \"army general and\",\n",
    "    \"general officer\",\n",
    "    \"Colonel general\",\n",
    "    \"colonel general\",\n",
    "    \"police general\",\n",
    "    \"general in the\",\n",
    "    \"major general\",\n",
    "    \"South general\",\n",
    "    \"Stasi general\",\n",
    "    \"ARVN general\",\n",
    "    \"Serb general\",\n",
    "    \"USMC general\",\n",
    "    \"Army general\",\n",
    "    \"army general\",\n",
    "    \"general and\",\n",
    "    \"and general\",\n",
    "    \"general\",\n",
    "]\n",
    "spiritual = [\n",
    "    \"Church of the Nazarene minister and general superintendent\",  # before law_enf_military_operator\n",
    "]\n",
    "social = []\n",
    "crime = []\n",
    "event_record_other = []\n",
    "other_species = []"
   ]
  },
  {
   "cell_type": "markdown",
   "id": "6207a0f2",
   "metadata": {},
   "source": [
    "#### Creating `known_for_dict` Dictionary of Category Keys and Specific Role Lists of Values"
   ]
  },
  {
   "cell_type": "code",
   "execution_count": 137,
   "id": "2d2d5031",
   "metadata": {},
   "outputs": [
    {
     "data": {
      "application/javascript": [
       "\n",
       "            setTimeout(function() {\n",
       "                var nbb_cell_id = 137;\n",
       "                var nbb_unformatted_code = \"# Combining separate lists into one dictionary\\nknown_for_dict = {\\n    \\\"social\\\": social,\\n    \\\"spiritual\\\": spiritual,\\n    \\\"academia_humanities\\\": academia_humanities,\\n    \\\"business_farming\\\": business_farming,\\n    \\\"sciences\\\": sciences,\\n    \\\"politics_govt_law\\\": politics_govt_law,\\n    \\\"crime\\\": crime,\\n    \\\"event_record_other\\\": event_record_other,\\n    \\\"other_species\\\": other_species,\\n    \\\"arts\\\": arts,\\n    \\\"sports\\\": sports,\\n    \\\"law_enf_military_operator\\\": law_enf_military_operator,\\n}\";\n",
       "                var nbb_formatted_code = \"# Combining separate lists into one dictionary\\nknown_for_dict = {\\n    \\\"social\\\": social,\\n    \\\"spiritual\\\": spiritual,\\n    \\\"academia_humanities\\\": academia_humanities,\\n    \\\"business_farming\\\": business_farming,\\n    \\\"sciences\\\": sciences,\\n    \\\"politics_govt_law\\\": politics_govt_law,\\n    \\\"crime\\\": crime,\\n    \\\"event_record_other\\\": event_record_other,\\n    \\\"other_species\\\": other_species,\\n    \\\"arts\\\": arts,\\n    \\\"sports\\\": sports,\\n    \\\"law_enf_military_operator\\\": law_enf_military_operator,\\n}\";\n",
       "                var nbb_cells = Jupyter.notebook.get_cells();\n",
       "                for (var i = 0; i < nbb_cells.length; ++i) {\n",
       "                    if (nbb_cells[i].input_prompt_number == nbb_cell_id) {\n",
       "                        if (nbb_cells[i].get_text() == nbb_unformatted_code) {\n",
       "                             nbb_cells[i].set_text(nbb_formatted_code);\n",
       "                        }\n",
       "                        break;\n",
       "                    }\n",
       "                }\n",
       "            }, 500);\n",
       "            "
      ],
      "text/plain": [
       "<IPython.core.display.Javascript object>"
      ]
     },
     "metadata": {},
     "output_type": "display_data"
    }
   ],
   "source": [
    "# Combining separate lists into one dictionary\n",
    "known_for_dict = {\n",
    "    \"social\": social,\n",
    "    \"spiritual\": spiritual,\n",
    "    \"academia_humanities\": academia_humanities,\n",
    "    \"business_farming\": business_farming,\n",
    "    \"sciences\": sciences,\n",
    "    \"politics_govt_law\": politics_govt_law,\n",
    "    \"crime\": crime,\n",
    "    \"event_record_other\": event_record_other,\n",
    "    \"other_species\": other_species,\n",
    "    \"arts\": arts,\n",
    "    \"sports\": sports,\n",
    "    \"law_enf_military_operator\": law_enf_military_operator,\n",
    "}"
   ]
  },
  {
   "cell_type": "markdown",
   "id": "2e0dbff6",
   "metadata": {},
   "source": [
    "#### Extracting Category from `info_2`"
   ]
  },
  {
   "cell_type": "code",
   "execution_count": 138,
   "id": "a9a52d5c",
   "metadata": {},
   "outputs": [
    {
     "name": "stdout",
     "output_type": "stream",
     "text": [
      "CPU times: total: 1min 11s\n",
      "Wall time: 1min 11s\n"
     ]
    },
    {
     "data": {
      "text/html": [
       "<div>\n",
       "<style scoped>\n",
       "    .dataframe tbody tr th:only-of-type {\n",
       "        vertical-align: middle;\n",
       "    }\n",
       "\n",
       "    .dataframe tbody tr th {\n",
       "        vertical-align: top;\n",
       "    }\n",
       "\n",
       "    .dataframe thead th {\n",
       "        text-align: right;\n",
       "    }\n",
       "</style>\n",
       "<table border=\"1\" class=\"dataframe\">\n",
       "  <thead>\n",
       "    <tr style=\"text-align: right;\">\n",
       "      <th></th>\n",
       "      <th>day</th>\n",
       "      <th>name</th>\n",
       "      <th>info</th>\n",
       "      <th>link</th>\n",
       "      <th>num_references</th>\n",
       "      <th>year</th>\n",
       "      <th>month</th>\n",
       "      <th>info_parenth</th>\n",
       "      <th>info_1</th>\n",
       "      <th>info_2</th>\n",
       "      <th>info_3</th>\n",
       "      <th>info_4</th>\n",
       "      <th>info_5</th>\n",
       "      <th>info_6</th>\n",
       "      <th>info_7</th>\n",
       "      <th>info_8</th>\n",
       "      <th>info_9</th>\n",
       "      <th>info_10</th>\n",
       "      <th>info_11</th>\n",
       "      <th>age</th>\n",
       "      <th>cause_of_death</th>\n",
       "      <th>place_1</th>\n",
       "      <th>place_2</th>\n",
       "      <th>info_parenth_copy</th>\n",
       "      <th>log_num_references</th>\n",
       "      <th>sciences</th>\n",
       "      <th>social</th>\n",
       "      <th>spiritual</th>\n",
       "      <th>academia_humanities</th>\n",
       "      <th>business_farming</th>\n",
       "      <th>arts</th>\n",
       "      <th>sports</th>\n",
       "      <th>law_enf_military_operator</th>\n",
       "      <th>politics_govt_law</th>\n",
       "      <th>crime</th>\n",
       "      <th>event_record_other</th>\n",
       "      <th>other_species</th>\n",
       "      <th>num_categories</th>\n",
       "    </tr>\n",
       "  </thead>\n",
       "  <tbody>\n",
       "    <tr>\n",
       "      <th>86706</th>\n",
       "      <td>11</td>\n",
       "      <td>Benoît Sinzogan</td>\n",
       "      <td>, 90, Beninese military officer and politician, minister of foreign affairs .</td>\n",
       "      <td>https://en.wikipedia.org/wiki/Beno%C3%AEt_Sinzogan</td>\n",
       "      <td>9</td>\n",
       "      <td>2021</td>\n",
       "      <td>January</td>\n",
       "      <td>and member of the Military Directorate</td>\n",
       "      <td>None</td>\n",
       "      <td></td>\n",
       "      <td>minister of foreign affairs</td>\n",
       "      <td>None</td>\n",
       "      <td>None</td>\n",
       "      <td>None</td>\n",
       "      <td>None</td>\n",
       "      <td>None</td>\n",
       "      <td>None</td>\n",
       "      <td>None</td>\n",
       "      <td>None</td>\n",
       "      <td>90.0</td>\n",
       "      <td>None</td>\n",
       "      <td>Benin</td>\n",
       "      <td>None</td>\n",
       "      <td>1967 1968 and member of the Military Directorate 1969 1970</td>\n",
       "      <td>2.302585</td>\n",
       "      <td>0</td>\n",
       "      <td>0</td>\n",
       "      <td>0</td>\n",
       "      <td>0</td>\n",
       "      <td>0</td>\n",
       "      <td>0</td>\n",
       "      <td>0</td>\n",
       "      <td>1</td>\n",
       "      <td>1</td>\n",
       "      <td>0</td>\n",
       "      <td>0</td>\n",
       "      <td>0</td>\n",
       "      <td>2</td>\n",
       "    </tr>\n",
       "    <tr>\n",
       "      <th>52269</th>\n",
       "      <td>3</td>\n",
       "      <td>Joseph T. Palastra, Jr.</td>\n",
       "      <td>, 83, American army general.</td>\n",
       "      <td>https://en.wikipedia.org/wiki/Joseph_T._Palastra,_Jr.</td>\n",
       "      <td>3</td>\n",
       "      <td>2015</td>\n",
       "      <td>March</td>\n",
       "      <td>None</td>\n",
       "      <td>None</td>\n",
       "      <td></td>\n",
       "      <td>None</td>\n",
       "      <td>None</td>\n",
       "      <td>None</td>\n",
       "      <td>None</td>\n",
       "      <td>None</td>\n",
       "      <td>None</td>\n",
       "      <td>None</td>\n",
       "      <td>None</td>\n",
       "      <td>None</td>\n",
       "      <td>83.0</td>\n",
       "      <td>None</td>\n",
       "      <td>United States of America</td>\n",
       "      <td>None</td>\n",
       "      <td>None</td>\n",
       "      <td>1.386294</td>\n",
       "      <td>0</td>\n",
       "      <td>0</td>\n",
       "      <td>0</td>\n",
       "      <td>0</td>\n",
       "      <td>0</td>\n",
       "      <td>0</td>\n",
       "      <td>0</td>\n",
       "      <td>1</td>\n",
       "      <td>0</td>\n",
       "      <td>0</td>\n",
       "      <td>0</td>\n",
       "      <td>0</td>\n",
       "      <td>1</td>\n",
       "    </tr>\n",
       "  </tbody>\n",
       "</table>\n",
       "</div>"
      ],
      "text/plain": [
       "      day                     name  \\\n",
       "86706  11          Benoît Sinzogan   \n",
       "52269   3  Joseph T. Palastra, Jr.   \n",
       "\n",
       "                                                                                info  \\\n",
       "86706  , 90, Beninese military officer and politician, minister of foreign affairs .   \n",
       "52269                                                   , 83, American army general.   \n",
       "\n",
       "                                                        link  num_references  \\\n",
       "86706     https://en.wikipedia.org/wiki/Beno%C3%AEt_Sinzogan               9   \n",
       "52269  https://en.wikipedia.org/wiki/Joseph_T._Palastra,_Jr.               3   \n",
       "\n",
       "       year    month                            info_parenth info_1 info_2  \\\n",
       "86706  2021  January  and member of the Military Directorate   None          \n",
       "52269  2015    March                                    None   None          \n",
       "\n",
       "                            info_3 info_4 info_5 info_6 info_7 info_8 info_9  \\\n",
       "86706  minister of foreign affairs   None   None   None   None   None   None   \n",
       "52269                         None   None   None   None   None   None   None   \n",
       "\n",
       "      info_10 info_11   age cause_of_death                   place_1 place_2  \\\n",
       "86706    None    None  90.0           None                     Benin    None   \n",
       "52269    None    None  83.0           None  United States of America    None   \n",
       "\n",
       "                                                info_parenth_copy  \\\n",
       "86706  1967 1968 and member of the Military Directorate 1969 1970   \n",
       "52269                                                        None   \n",
       "\n",
       "       log_num_references  sciences  social  spiritual  academia_humanities  \\\n",
       "86706            2.302585         0       0          0                    0   \n",
       "52269            1.386294         0       0          0                    0   \n",
       "\n",
       "       business_farming  arts  sports  law_enf_military_operator  \\\n",
       "86706                 0     0       0                          1   \n",
       "52269                 0     0       0                          1   \n",
       "\n",
       "       politics_govt_law  crime  event_record_other  other_species  \\\n",
       "86706                  1      0                   0              0   \n",
       "52269                  0      0                   0              0   \n",
       "\n",
       "       num_categories  \n",
       "86706               2  \n",
       "52269               1  "
      ]
     },
     "execution_count": 138,
     "metadata": {},
     "output_type": "execute_result"
    },
    {
     "data": {
      "application/javascript": [
       "\n",
       "            setTimeout(function() {\n",
       "                var nbb_cell_id = 138;\n",
       "                var nbb_unformatted_code = \"%%time\\n\\n# Dictionary version\\nsearch_dict = known_for_dict\\n\\n# Column to check\\ncolumn = 'info_2'\\n\\n# Dataframe\\ndataframe = df[column].notna()\\n\\n# For loop to find role in column and extract it as category\\nfor category, category_lst in search_dict.items():\\n    for role in category_lst:\\n        for index in dataframe.index:\\n            item = df.loc[index, column]\\n            if item:\\n                if role in item:\\n                    df.loc[index, category] = 1\\n                    df.loc[index, column] = item.replace(role, '').strip()\\n\\n# Updating num_categories\\ndf[\\\"num_categories\\\"] = df[known_for_dict.keys()].sum(axis=1)\\n\\n# Checking a sample of rows\\ndf[df['law_enf_military_operator'] ==1].sample(2)\";\n",
       "                var nbb_formatted_code = \"%%time\\n\\n# Dictionary version\\nsearch_dict = known_for_dict\\n\\n# Column to check\\ncolumn = 'info_2'\\n\\n# Dataframe\\ndataframe = df[column].notna()\\n\\n# For loop to find role in column and extract it as category\\nfor category, category_lst in search_dict.items():\\n    for role in category_lst:\\n        for index in dataframe.index:\\n            item = df.loc[index, column]\\n            if item:\\n                if role in item:\\n                    df.loc[index, category] = 1\\n                    df.loc[index, column] = item.replace(role, '').strip()\\n\\n# Updating num_categories\\ndf[\\\"num_categories\\\"] = df[known_for_dict.keys()].sum(axis=1)\\n\\n# Checking a sample of rows\\ndf[df['law_enf_military_operator'] ==1].sample(2)\";\n",
       "                var nbb_cells = Jupyter.notebook.get_cells();\n",
       "                for (var i = 0; i < nbb_cells.length; ++i) {\n",
       "                    if (nbb_cells[i].input_prompt_number == nbb_cell_id) {\n",
       "                        if (nbb_cells[i].get_text() == nbb_unformatted_code) {\n",
       "                             nbb_cells[i].set_text(nbb_formatted_code);\n",
       "                        }\n",
       "                        break;\n",
       "                    }\n",
       "                }\n",
       "            }, 500);\n",
       "            "
      ],
      "text/plain": [
       "<IPython.core.display.Javascript object>"
      ]
     },
     "metadata": {},
     "output_type": "display_data"
    }
   ],
   "source": [
    "%%time\n",
    "\n",
    "# Dictionary version\n",
    "search_dict = known_for_dict\n",
    "\n",
    "# Column to check\n",
    "column = 'info_2'\n",
    "\n",
    "# Dataframe\n",
    "dataframe = df[column].notna()\n",
    "\n",
    "# For loop to find role in column and extract it as category\n",
    "for category, category_lst in search_dict.items():\n",
    "    for role in category_lst:\n",
    "        for index in dataframe.index:\n",
    "            item = df.loc[index, column]\n",
    "            if item:\n",
    "                if role in item:\n",
    "                    df.loc[index, category] = 1\n",
    "                    df.loc[index, column] = item.replace(role, '').strip()\n",
    "\n",
    "# Updating num_categories\n",
    "df[\"num_categories\"] = df[known_for_dict.keys()].sum(axis=1)\n",
    "\n",
    "# Checking a sample of rows\n",
    "df[df['law_enf_military_operator'] ==1].sample(2)"
   ]
  },
  {
   "cell_type": "markdown",
   "id": "d8c3daad",
   "metadata": {},
   "source": [
    "#### Checking the Number of Rows without a First Category"
   ]
  },
  {
   "cell_type": "code",
   "execution_count": 139,
   "id": "92b43d5f",
   "metadata": {},
   "outputs": [
    {
     "name": "stdout",
     "output_type": "stream",
     "text": [
      "There are 28469 entries without any known_for category.\n"
     ]
    },
    {
     "data": {
      "application/javascript": [
       "\n",
       "            setTimeout(function() {\n",
       "                var nbb_cell_id = 139;\n",
       "                var nbb_unformatted_code = \"# Checking the number of rows without a first category\\nprint(\\n    f'There are {len(df[df[\\\"num_categories\\\"]==0])} entries without any known_for category.'\\n)\";\n",
       "                var nbb_formatted_code = \"# Checking the number of rows without a first category\\nprint(\\n    f'There are {len(df[df[\\\"num_categories\\\"]==0])} entries without any known_for category.'\\n)\";\n",
       "                var nbb_cells = Jupyter.notebook.get_cells();\n",
       "                for (var i = 0; i < nbb_cells.length; ++i) {\n",
       "                    if (nbb_cells[i].input_prompt_number == nbb_cell_id) {\n",
       "                        if (nbb_cells[i].get_text() == nbb_unformatted_code) {\n",
       "                             nbb_cells[i].set_text(nbb_formatted_code);\n",
       "                        }\n",
       "                        break;\n",
       "                    }\n",
       "                }\n",
       "            }, 500);\n",
       "            "
      ],
      "text/plain": [
       "<IPython.core.display.Javascript object>"
      ]
     },
     "metadata": {},
     "output_type": "display_data"
    }
   ],
   "source": [
    "# Checking the number of rows without a first category\n",
    "print(\n",
    "    f'There are {len(df[df[\"num_categories\"]==0])} entries without any known_for category.'\n",
    ")"
   ]
  },
  {
   "cell_type": "markdown",
   "id": "0f66697e",
   "metadata": {},
   "source": [
    "#### Observations:\n",
    "- It is time to export our dataframe and start a new notebook."
   ]
  },
  {
   "cell_type": "markdown",
   "id": "1113a242",
   "metadata": {},
   "source": [
    "### Exporting Dataset to SQLite Database [wp_life_expect_clean9.db](https://github.com/teresahanak/wikipedia-life-expectancy/blob/main/wp_life_expect_clean9.db)"
   ]
  },
  {
   "cell_type": "code",
   "execution_count": 140,
   "id": "6008ac61",
   "metadata": {},
   "outputs": [
    {
     "data": {
      "application/javascript": [
       "\n",
       "            setTimeout(function() {\n",
       "                var nbb_cell_id = 140;\n",
       "                var nbb_unformatted_code = \"# Exporting dataframe\\n\\n# Saving dataset in a SQLite database\\nconn = sql.connect(\\\"wp_life_expect_clean9.db\\\")\\ndf.to_sql(\\\"wp_life_expect_clean9\\\", conn, index=False)\\n\\n# Chime notification when cell executes\\nchime.success()\";\n",
       "                var nbb_formatted_code = \"# Exporting dataframe\\n\\n# Saving dataset in a SQLite database\\nconn = sql.connect(\\\"wp_life_expect_clean9.db\\\")\\ndf.to_sql(\\\"wp_life_expect_clean9\\\", conn, index=False)\\n\\n# Chime notification when cell executes\\nchime.success()\";\n",
       "                var nbb_cells = Jupyter.notebook.get_cells();\n",
       "                for (var i = 0; i < nbb_cells.length; ++i) {\n",
       "                    if (nbb_cells[i].input_prompt_number == nbb_cell_id) {\n",
       "                        if (nbb_cells[i].get_text() == nbb_unformatted_code) {\n",
       "                             nbb_cells[i].set_text(nbb_formatted_code);\n",
       "                        }\n",
       "                        break;\n",
       "                    }\n",
       "                }\n",
       "            }, 500);\n",
       "            "
      ],
      "text/plain": [
       "<IPython.core.display.Javascript object>"
      ]
     },
     "metadata": {},
     "output_type": "display_data"
    }
   ],
   "source": [
    "# Exporting dataframe\n",
    "\n",
    "# Saving dataset in a SQLite database\n",
    "conn = sql.connect(\"wp_life_expect_clean9.db\")\n",
    "df.to_sql(\"wp_life_expect_clean9\", conn, index=False)\n",
    "\n",
    "# Chime notification when cell executes\n",
    "chime.success()"
   ]
  },
  {
   "cell_type": "markdown",
   "id": "11aacfcc",
   "metadata": {},
   "source": [
    "# [Proceed to Data Cleaning Part 10](https://github.com/teresahanak/wikipedia-life-expectancy/blob/main/wp_life_expect_data_clean10_thanak_2022_08_01.ipynb)"
   ]
  }
 ],
 "metadata": {
  "kernelspec": {
   "display_name": "Python 3 (ipykernel)",
   "language": "python",
   "name": "python3"
  },
  "language_info": {
   "codemirror_mode": {
    "name": "ipython",
    "version": 3
   },
   "file_extension": ".py",
   "mimetype": "text/x-python",
   "name": "python",
   "nbconvert_exporter": "python",
   "pygments_lexer": "ipython3",
   "version": "3.9.12"
  }
 },
 "nbformat": 4,
 "nbformat_minor": 5
}
