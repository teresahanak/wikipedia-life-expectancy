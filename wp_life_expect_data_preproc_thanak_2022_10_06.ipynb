{
 "cells": [
  {
   "cell_type": "markdown",
   "id": "316a0779",
   "metadata": {},
   "source": [
    "# Wikipedia Notable Life Expectancies\n",
    "# [Notebook 10: Data Pre-processing ](https://github.com/teresahanak/wikipedia-life-expectancy/blob/main/wp_life_expect_data_preproc_2022_10_06.ipynb)\n",
    "### Context\n",
    "\n",
    "The\n",
    "### Objective\n",
    "\n",
    "The\n",
    "### Data Dictionary\n",
    "- Feature: Description"
   ]
  },
  {
   "cell_type": "markdown",
   "id": "99245d51",
   "metadata": {},
   "source": [
    "### Importing Libraries"
   ]
  },
  {
   "cell_type": "code",
   "execution_count": 1,
   "id": "453bba83",
   "metadata": {},
   "outputs": [
    {
     "data": {
      "application/javascript": [
       "\n",
       "            setTimeout(function() {\n",
       "                var nbb_cell_id = 1;\n",
       "                var nbb_unformatted_code = \"# To structure code automatically\\n%load_ext nb_black\\n\\n# To import/export sqlite databases\\n# import sqlite3 as sql\\n\\n# To save/open python objects in pickle file\\nimport pickle\\n\\n# To help with reading, cleaning, and manipulating data\\nimport pandas as pd\\nimport numpy as np\\n\\n# To help with data visualization\\nimport matplotlib.pyplot as plt\\nimport seaborn as sns\\n\\n# randomized data splitting\\nfrom sklearn.model_selection import train_test_split\\n\\n# To define maximum number of columns to be displayed in a dataframe\\npd.set_option(\\\"display.max_columns\\\", None)\\n# To define the maximum number of rows to be displayed in a dataframe\\npd.set_option(\\\"display.max_rows\\\", 211)\\n\\n# To set some dataframe visualization attributes\\npd.set_option(\\\"max_colwidth\\\", 150)\\n\\n# To supress scientific notations for a dataframe\\npd.set_option(\\\"display.float_format\\\", lambda x: \\\"%.3f\\\" % x)\\n\\n# To supress warnings\\n# import warnings\\n\\n# warnings.filterwarnings(\\\"ignore\\\")\\n\\n# To set some plot visualization attributes\\nsns.set_theme()\\nsns.set(font_scale=1.4)\\nsns.set_palette(\\n    (\\n        \\\"midnightblue\\\",\\n        \\\"goldenrod\\\",\\n        \\\"maroon\\\",\\n        \\\"darkolivegreen\\\",\\n        \\\"cadetblue\\\",\\n        \\\"tab:purple\\\",\\n        \\\"yellowgreen\\\",\\n    )\\n)\\n# plt.rc(\\\"font\\\", size=12)\\n# plt.rc(\\\"axes\\\", titlesize=15)\\n# plt.rc(\\\"axes\\\", labelsize=14)\\n# plt.rc(\\\"xtick\\\", labelsize=13)\\n# plt.rc(\\\"ytick\\\", labelsize=13)\\n# plt.rc(\\\"legend\\\", fontsize=13)\\n# plt.rc(\\\"legend\\\", fontsize=14)\\n# plt.rc(\\\"figure\\\", titlesize=16)\\n\\n# To play auditory cue when cell has executed, has warning, or has error and set chime theme\\nimport chime\\n\\nchime.theme(\\\"zelda\\\")\";\n",
       "                var nbb_formatted_code = \"# To structure code automatically\\n%load_ext nb_black\\n\\n# To import/export sqlite databases\\n# import sqlite3 as sql\\n\\n# To save/open python objects in pickle file\\nimport pickle\\n\\n# To help with reading, cleaning, and manipulating data\\nimport pandas as pd\\nimport numpy as np\\n\\n# To help with data visualization\\nimport matplotlib.pyplot as plt\\nimport seaborn as sns\\n\\n# randomized data splitting\\nfrom sklearn.model_selection import train_test_split\\n\\n# To define maximum number of columns to be displayed in a dataframe\\npd.set_option(\\\"display.max_columns\\\", None)\\n# To define the maximum number of rows to be displayed in a dataframe\\npd.set_option(\\\"display.max_rows\\\", 211)\\n\\n# To set some dataframe visualization attributes\\npd.set_option(\\\"max_colwidth\\\", 150)\\n\\n# To supress scientific notations for a dataframe\\npd.set_option(\\\"display.float_format\\\", lambda x: \\\"%.3f\\\" % x)\\n\\n# To supress warnings\\n# import warnings\\n\\n# warnings.filterwarnings(\\\"ignore\\\")\\n\\n# To set some plot visualization attributes\\nsns.set_theme()\\nsns.set(font_scale=1.4)\\nsns.set_palette(\\n    (\\n        \\\"midnightblue\\\",\\n        \\\"goldenrod\\\",\\n        \\\"maroon\\\",\\n        \\\"darkolivegreen\\\",\\n        \\\"cadetblue\\\",\\n        \\\"tab:purple\\\",\\n        \\\"yellowgreen\\\",\\n    )\\n)\\n# plt.rc(\\\"font\\\", size=12)\\n# plt.rc(\\\"axes\\\", titlesize=15)\\n# plt.rc(\\\"axes\\\", labelsize=14)\\n# plt.rc(\\\"xtick\\\", labelsize=13)\\n# plt.rc(\\\"ytick\\\", labelsize=13)\\n# plt.rc(\\\"legend\\\", fontsize=13)\\n# plt.rc(\\\"legend\\\", fontsize=14)\\n# plt.rc(\\\"figure\\\", titlesize=16)\\n\\n# To play auditory cue when cell has executed, has warning, or has error and set chime theme\\nimport chime\\n\\nchime.theme(\\\"zelda\\\")\";\n",
       "                var nbb_cells = Jupyter.notebook.get_cells();\n",
       "                for (var i = 0; i < nbb_cells.length; ++i) {\n",
       "                    if (nbb_cells[i].input_prompt_number == nbb_cell_id) {\n",
       "                        if (nbb_cells[i].get_text() == nbb_unformatted_code) {\n",
       "                             nbb_cells[i].set_text(nbb_formatted_code);\n",
       "                        }\n",
       "                        break;\n",
       "                    }\n",
       "                }\n",
       "            }, 500);\n",
       "            "
      ],
      "text/plain": [
       "<IPython.core.display.Javascript object>"
      ]
     },
     "metadata": {},
     "output_type": "display_data"
    }
   ],
   "source": [
    "# To structure code automatically\n",
    "%load_ext nb_black\n",
    "\n",
    "# To import/export sqlite databases\n",
    "# import sqlite3 as sql\n",
    "\n",
    "# To save/open python objects in pickle file\n",
    "import pickle\n",
    "\n",
    "# To help with reading, cleaning, and manipulating data\n",
    "import pandas as pd\n",
    "import numpy as np\n",
    "\n",
    "# To help with data visualization\n",
    "import matplotlib.pyplot as plt\n",
    "import seaborn as sns\n",
    "\n",
    "# randomized data splitting\n",
    "from sklearn.model_selection import train_test_split\n",
    "\n",
    "# To define maximum number of columns to be displayed in a dataframe\n",
    "pd.set_option(\"display.max_columns\", None)\n",
    "# To define the maximum number of rows to be displayed in a dataframe\n",
    "pd.set_option(\"display.max_rows\", 211)\n",
    "\n",
    "# To set some dataframe visualization attributes\n",
    "pd.set_option(\"max_colwidth\", 150)\n",
    "\n",
    "# To supress scientific notations for a dataframe\n",
    "pd.set_option(\"display.float_format\", lambda x: \"%.3f\" % x)\n",
    "\n",
    "# To supress warnings\n",
    "# import warnings\n",
    "\n",
    "# warnings.filterwarnings(\"ignore\")\n",
    "\n",
    "# To set some plot visualization attributes\n",
    "sns.set_theme()\n",
    "sns.set(font_scale=1.4)\n",
    "sns.set_palette(\n",
    "    (\n",
    "        \"midnightblue\",\n",
    "        \"goldenrod\",\n",
    "        \"maroon\",\n",
    "        \"darkolivegreen\",\n",
    "        \"cadetblue\",\n",
    "        \"tab:purple\",\n",
    "        \"yellowgreen\",\n",
    "    )\n",
    ")\n",
    "# plt.rc(\"font\", size=12)\n",
    "# plt.rc(\"axes\", titlesize=15)\n",
    "# plt.rc(\"axes\", labelsize=14)\n",
    "# plt.rc(\"xtick\", labelsize=13)\n",
    "# plt.rc(\"ytick\", labelsize=13)\n",
    "# plt.rc(\"legend\", fontsize=13)\n",
    "# plt.rc(\"legend\", fontsize=14)\n",
    "# plt.rc(\"figure\", titlesize=16)\n",
    "\n",
    "# To play auditory cue when cell has executed, has warning, or has error and set chime theme\n",
    "import chime\n",
    "\n",
    "chime.theme(\"zelda\")"
   ]
  },
  {
   "cell_type": "markdown",
   "id": "cc818a82",
   "metadata": {},
   "source": [
    "## Data Overview"
   ]
  },
  {
   "cell_type": "markdown",
   "id": "0ed005f6",
   "metadata": {},
   "source": [
    "### [Reading](https://github.com/teresahanak/wikipedia-life-expectancy/blob/main/wp_life_expect_train.csv), Sampling, and Checking Data Shape"
   ]
  },
  {
   "cell_type": "code",
   "execution_count": 2,
   "id": "0ca58a95",
   "metadata": {},
   "outputs": [
    {
     "name": "stdout",
     "output_type": "stream",
     "text": [
      "There are 78040 rows and 25 columns.\n"
     ]
    },
    {
     "data": {
      "text/html": [
       "<div>\n",
       "<style scoped>\n",
       "    .dataframe tbody tr th:only-of-type {\n",
       "        vertical-align: middle;\n",
       "    }\n",
       "\n",
       "    .dataframe tbody tr th {\n",
       "        vertical-align: top;\n",
       "    }\n",
       "\n",
       "    .dataframe thead th {\n",
       "        text-align: right;\n",
       "    }\n",
       "</style>\n",
       "<table border=\"1\" class=\"dataframe\">\n",
       "  <thead>\n",
       "    <tr style=\"text-align: right;\">\n",
       "      <th></th>\n",
       "      <th>info</th>\n",
       "      <th>link</th>\n",
       "      <th>num_references</th>\n",
       "      <th>year</th>\n",
       "      <th>info_parenth</th>\n",
       "      <th>age</th>\n",
       "      <th>cause_of_death</th>\n",
       "      <th>place_1</th>\n",
       "      <th>place_2</th>\n",
       "      <th>sciences</th>\n",
       "      <th>social</th>\n",
       "      <th>spiritual</th>\n",
       "      <th>academia_humanities</th>\n",
       "      <th>business_farming</th>\n",
       "      <th>arts</th>\n",
       "      <th>sports</th>\n",
       "      <th>law_enf_military_operator</th>\n",
       "      <th>politics_govt_law</th>\n",
       "      <th>crime</th>\n",
       "      <th>event_record_other</th>\n",
       "      <th>num_categories</th>\n",
       "      <th>recip_num_references</th>\n",
       "      <th>region</th>\n",
       "      <th>prior_region</th>\n",
       "      <th>known_for</th>\n",
       "    </tr>\n",
       "  </thead>\n",
       "  <tbody>\n",
       "    <tr>\n",
       "      <th>0</th>\n",
       "      <td>, 73, British Anglican prelate, Bishop of Tonbridge.</td>\n",
       "      <td>https://en.wikipedia.org/wiki/David_Bartleet</td>\n",
       "      <td>4</td>\n",
       "      <td>2002</td>\n",
       "      <td>NaN</td>\n",
       "      <td>73.000</td>\n",
       "      <td>NaN</td>\n",
       "      <td>United Kingdom of Great Britain and Northern Ireland</td>\n",
       "      <td>NaN</td>\n",
       "      <td>0</td>\n",
       "      <td>0</td>\n",
       "      <td>1</td>\n",
       "      <td>0</td>\n",
       "      <td>0</td>\n",
       "      <td>0</td>\n",
       "      <td>0</td>\n",
       "      <td>0</td>\n",
       "      <td>0</td>\n",
       "      <td>0</td>\n",
       "      <td>0</td>\n",
       "      <td>1</td>\n",
       "      <td>0.250</td>\n",
       "      <td>Europe</td>\n",
       "      <td>No Prior Region</td>\n",
       "      <td>spiritual</td>\n",
       "    </tr>\n",
       "    <tr>\n",
       "      <th>1</th>\n",
       "      <td>, 90, American radiologist and university professor.</td>\n",
       "      <td>https://en.wikipedia.org/wiki/Eugene_Saenger</td>\n",
       "      <td>3</td>\n",
       "      <td>2007</td>\n",
       "      <td>NaN</td>\n",
       "      <td>90.000</td>\n",
       "      <td>NaN</td>\n",
       "      <td>United States of America</td>\n",
       "      <td>NaN</td>\n",
       "      <td>1</td>\n",
       "      <td>0</td>\n",
       "      <td>0</td>\n",
       "      <td>1</td>\n",
       "      <td>0</td>\n",
       "      <td>0</td>\n",
       "      <td>0</td>\n",
       "      <td>0</td>\n",
       "      <td>0</td>\n",
       "      <td>0</td>\n",
       "      <td>0</td>\n",
       "      <td>2</td>\n",
       "      <td>0.333</td>\n",
       "      <td>North America</td>\n",
       "      <td>No Prior Region</td>\n",
       "      <td>two</td>\n",
       "    </tr>\n",
       "  </tbody>\n",
       "</table>\n",
       "</div>"
      ],
      "text/plain": [
       "                                                   info  \\\n",
       "0  , 73, British Anglican prelate, Bishop of Tonbridge.   \n",
       "1  , 90, American radiologist and university professor.   \n",
       "\n",
       "                                           link  num_references  year  \\\n",
       "0  https://en.wikipedia.org/wiki/David_Bartleet               4  2002   \n",
       "1  https://en.wikipedia.org/wiki/Eugene_Saenger               3  2007   \n",
       "\n",
       "  info_parenth    age cause_of_death  \\\n",
       "0          NaN 73.000            NaN   \n",
       "1          NaN 90.000            NaN   \n",
       "\n",
       "                                                place_1 place_2  sciences  \\\n",
       "0  United Kingdom of Great Britain and Northern Ireland     NaN         0   \n",
       "1                              United States of America     NaN         1   \n",
       "\n",
       "   social  spiritual  academia_humanities  business_farming  arts  sports  \\\n",
       "0       0          1                    0                 0     0       0   \n",
       "1       0          0                    1                 0     0       0   \n",
       "\n",
       "   law_enf_military_operator  politics_govt_law  crime  event_record_other  \\\n",
       "0                          0                  0      0                   0   \n",
       "1                          0                  0      0                   0   \n",
       "\n",
       "   num_categories  recip_num_references         region     prior_region  \\\n",
       "0               1                 0.250         Europe  No Prior Region   \n",
       "1               2                 0.333  North America  No Prior Region   \n",
       "\n",
       "   known_for  \n",
       "0  spiritual  \n",
       "1        two  "
      ]
     },
     "execution_count": 2,
     "metadata": {},
     "output_type": "execute_result"
    },
    {
     "data": {
      "application/javascript": [
       "\n",
       "            setTimeout(function() {\n",
       "                var nbb_cell_id = 2;\n",
       "                var nbb_unformatted_code = \"# Reading the train set\\ndata = pd.read_csv(\\\"wp_life_expect_train.csv\\\")\\n\\n# Making a working copy\\ndf = data.copy()\\n\\n# Checking the shape\\nprint(f\\\"There are {df.shape[0]} rows and {df.shape[1]} columns.\\\")\\n\\n# Checking first 2 rows of the data\\ndf.head(2)\";\n",
       "                var nbb_formatted_code = \"# Reading the train set\\ndata = pd.read_csv(\\\"wp_life_expect_train.csv\\\")\\n\\n# Making a working copy\\ndf = data.copy()\\n\\n# Checking the shape\\nprint(f\\\"There are {df.shape[0]} rows and {df.shape[1]} columns.\\\")\\n\\n# Checking first 2 rows of the data\\ndf.head(2)\";\n",
       "                var nbb_cells = Jupyter.notebook.get_cells();\n",
       "                for (var i = 0; i < nbb_cells.length; ++i) {\n",
       "                    if (nbb_cells[i].input_prompt_number == nbb_cell_id) {\n",
       "                        if (nbb_cells[i].get_text() == nbb_unformatted_code) {\n",
       "                             nbb_cells[i].set_text(nbb_formatted_code);\n",
       "                        }\n",
       "                        break;\n",
       "                    }\n",
       "                }\n",
       "            }, 500);\n",
       "            "
      ],
      "text/plain": [
       "<IPython.core.display.Javascript object>"
      ]
     },
     "metadata": {},
     "output_type": "display_data"
    }
   ],
   "source": [
    "# Reading the train set\n",
    "data = pd.read_csv(\"wp_life_expect_train.csv\")\n",
    "\n",
    "# Making a working copy\n",
    "df = data.copy()\n",
    "\n",
    "# Checking the shape\n",
    "print(f\"There are {df.shape[0]} rows and {df.shape[1]} columns.\")\n",
    "\n",
    "# Checking first 2 rows of the data\n",
    "df.head(2)"
   ]
  },
  {
   "cell_type": "code",
   "execution_count": 3,
   "id": "6cca416f",
   "metadata": {},
   "outputs": [
    {
     "data": {
      "text/html": [
       "<div>\n",
       "<style scoped>\n",
       "    .dataframe tbody tr th:only-of-type {\n",
       "        vertical-align: middle;\n",
       "    }\n",
       "\n",
       "    .dataframe tbody tr th {\n",
       "        vertical-align: top;\n",
       "    }\n",
       "\n",
       "    .dataframe thead th {\n",
       "        text-align: right;\n",
       "    }\n",
       "</style>\n",
       "<table border=\"1\" class=\"dataframe\">\n",
       "  <thead>\n",
       "    <tr style=\"text-align: right;\">\n",
       "      <th></th>\n",
       "      <th>info</th>\n",
       "      <th>link</th>\n",
       "      <th>num_references</th>\n",
       "      <th>year</th>\n",
       "      <th>info_parenth</th>\n",
       "      <th>age</th>\n",
       "      <th>cause_of_death</th>\n",
       "      <th>place_1</th>\n",
       "      <th>place_2</th>\n",
       "      <th>sciences</th>\n",
       "      <th>social</th>\n",
       "      <th>spiritual</th>\n",
       "      <th>academia_humanities</th>\n",
       "      <th>business_farming</th>\n",
       "      <th>arts</th>\n",
       "      <th>sports</th>\n",
       "      <th>law_enf_military_operator</th>\n",
       "      <th>politics_govt_law</th>\n",
       "      <th>crime</th>\n",
       "      <th>event_record_other</th>\n",
       "      <th>num_categories</th>\n",
       "      <th>recip_num_references</th>\n",
       "      <th>region</th>\n",
       "      <th>prior_region</th>\n",
       "      <th>known_for</th>\n",
       "    </tr>\n",
       "  </thead>\n",
       "  <tbody>\n",
       "    <tr>\n",
       "      <th>78038</th>\n",
       "      <td>, 74, Canadian journalist and author.</td>\n",
       "      <td>https://en.wikipedia.org/wiki/Charles_Lynch_(journalist)</td>\n",
       "      <td>7</td>\n",
       "      <td>1994</td>\n",
       "      <td>NaN</td>\n",
       "      <td>74.000</td>\n",
       "      <td>NaN</td>\n",
       "      <td>Canada</td>\n",
       "      <td>NaN</td>\n",
       "      <td>0</td>\n",
       "      <td>0</td>\n",
       "      <td>0</td>\n",
       "      <td>0</td>\n",
       "      <td>0</td>\n",
       "      <td>1</td>\n",
       "      <td>0</td>\n",
       "      <td>0</td>\n",
       "      <td>0</td>\n",
       "      <td>0</td>\n",
       "      <td>0</td>\n",
       "      <td>1</td>\n",
       "      <td>0.143</td>\n",
       "      <td>North America</td>\n",
       "      <td>No Prior Region</td>\n",
       "      <td>arts</td>\n",
       "    </tr>\n",
       "    <tr>\n",
       "      <th>78039</th>\n",
       "      <td>, 92, English cricketer and squash player.</td>\n",
       "      <td>https://en.wikipedia.org/wiki/Edward_Harrison_(cricketer)</td>\n",
       "      <td>5</td>\n",
       "      <td>2002</td>\n",
       "      <td>NaN</td>\n",
       "      <td>92.000</td>\n",
       "      <td>NaN</td>\n",
       "      <td>United Kingdom of Great Britain and Northern Ireland</td>\n",
       "      <td>NaN</td>\n",
       "      <td>0</td>\n",
       "      <td>0</td>\n",
       "      <td>0</td>\n",
       "      <td>0</td>\n",
       "      <td>0</td>\n",
       "      <td>0</td>\n",
       "      <td>1</td>\n",
       "      <td>0</td>\n",
       "      <td>0</td>\n",
       "      <td>0</td>\n",
       "      <td>0</td>\n",
       "      <td>1</td>\n",
       "      <td>0.200</td>\n",
       "      <td>Europe</td>\n",
       "      <td>No Prior Region</td>\n",
       "      <td>sports</td>\n",
       "    </tr>\n",
       "  </tbody>\n",
       "</table>\n",
       "</div>"
      ],
      "text/plain": [
       "                                             info  \\\n",
       "78038       , 74, Canadian journalist and author.   \n",
       "78039  , 92, English cricketer and squash player.   \n",
       "\n",
       "                                                            link  \\\n",
       "78038   https://en.wikipedia.org/wiki/Charles_Lynch_(journalist)   \n",
       "78039  https://en.wikipedia.org/wiki/Edward_Harrison_(cricketer)   \n",
       "\n",
       "       num_references  year info_parenth    age cause_of_death  \\\n",
       "78038               7  1994          NaN 74.000            NaN   \n",
       "78039               5  2002          NaN 92.000            NaN   \n",
       "\n",
       "                                                    place_1 place_2  sciences  \\\n",
       "78038                                                Canada     NaN         0   \n",
       "78039  United Kingdom of Great Britain and Northern Ireland     NaN         0   \n",
       "\n",
       "       social  spiritual  academia_humanities  business_farming  arts  sports  \\\n",
       "78038       0          0                    0                 0     1       0   \n",
       "78039       0          0                    0                 0     0       1   \n",
       "\n",
       "       law_enf_military_operator  politics_govt_law  crime  \\\n",
       "78038                          0                  0      0   \n",
       "78039                          0                  0      0   \n",
       "\n",
       "       event_record_other  num_categories  recip_num_references  \\\n",
       "78038                   0               1                 0.143   \n",
       "78039                   0               1                 0.200   \n",
       "\n",
       "              region     prior_region known_for  \n",
       "78038  North America  No Prior Region      arts  \n",
       "78039         Europe  No Prior Region    sports  "
      ]
     },
     "execution_count": 3,
     "metadata": {},
     "output_type": "execute_result"
    },
    {
     "data": {
      "application/javascript": [
       "\n",
       "            setTimeout(function() {\n",
       "                var nbb_cell_id = 3;\n",
       "                var nbb_unformatted_code = \"# Checking last 2 rows of the data\\ndf.tail(2)\";\n",
       "                var nbb_formatted_code = \"# Checking last 2 rows of the data\\ndf.tail(2)\";\n",
       "                var nbb_cells = Jupyter.notebook.get_cells();\n",
       "                for (var i = 0; i < nbb_cells.length; ++i) {\n",
       "                    if (nbb_cells[i].input_prompt_number == nbb_cell_id) {\n",
       "                        if (nbb_cells[i].get_text() == nbb_unformatted_code) {\n",
       "                             nbb_cells[i].set_text(nbb_formatted_code);\n",
       "                        }\n",
       "                        break;\n",
       "                    }\n",
       "                }\n",
       "            }, 500);\n",
       "            "
      ],
      "text/plain": [
       "<IPython.core.display.Javascript object>"
      ]
     },
     "metadata": {},
     "output_type": "display_data"
    }
   ],
   "source": [
    "# Checking last 2 rows of the data\n",
    "df.tail(2)"
   ]
  },
  {
   "cell_type": "code",
   "execution_count": 4,
   "id": "de6e8ee5",
   "metadata": {},
   "outputs": [
    {
     "data": {
      "text/html": [
       "<div>\n",
       "<style scoped>\n",
       "    .dataframe tbody tr th:only-of-type {\n",
       "        vertical-align: middle;\n",
       "    }\n",
       "\n",
       "    .dataframe tbody tr th {\n",
       "        vertical-align: top;\n",
       "    }\n",
       "\n",
       "    .dataframe thead th {\n",
       "        text-align: right;\n",
       "    }\n",
       "</style>\n",
       "<table border=\"1\" class=\"dataframe\">\n",
       "  <thead>\n",
       "    <tr style=\"text-align: right;\">\n",
       "      <th></th>\n",
       "      <th>info</th>\n",
       "      <th>link</th>\n",
       "      <th>num_references</th>\n",
       "      <th>year</th>\n",
       "      <th>info_parenth</th>\n",
       "      <th>age</th>\n",
       "      <th>cause_of_death</th>\n",
       "      <th>place_1</th>\n",
       "      <th>place_2</th>\n",
       "      <th>sciences</th>\n",
       "      <th>social</th>\n",
       "      <th>spiritual</th>\n",
       "      <th>academia_humanities</th>\n",
       "      <th>business_farming</th>\n",
       "      <th>arts</th>\n",
       "      <th>sports</th>\n",
       "      <th>law_enf_military_operator</th>\n",
       "      <th>politics_govt_law</th>\n",
       "      <th>crime</th>\n",
       "      <th>event_record_other</th>\n",
       "      <th>num_categories</th>\n",
       "      <th>recip_num_references</th>\n",
       "      <th>region</th>\n",
       "      <th>prior_region</th>\n",
       "      <th>known_for</th>\n",
       "    </tr>\n",
       "  </thead>\n",
       "  <tbody>\n",
       "    <tr>\n",
       "      <th>2158</th>\n",
       "      <td>, 69, Dutch pastor.</td>\n",
       "      <td>https://en.wikipedia.org/wiki/Klaas_Hendrikse</td>\n",
       "      <td>6</td>\n",
       "      <td>2018</td>\n",
       "      <td>NaN</td>\n",
       "      <td>69.000</td>\n",
       "      <td>NaN</td>\n",
       "      <td>Netherlands</td>\n",
       "      <td>NaN</td>\n",
       "      <td>0</td>\n",
       "      <td>0</td>\n",
       "      <td>1</td>\n",
       "      <td>0</td>\n",
       "      <td>0</td>\n",
       "      <td>0</td>\n",
       "      <td>0</td>\n",
       "      <td>0</td>\n",
       "      <td>0</td>\n",
       "      <td>0</td>\n",
       "      <td>0</td>\n",
       "      <td>1</td>\n",
       "      <td>0.167</td>\n",
       "      <td>Europe</td>\n",
       "      <td>No Prior Region</td>\n",
       "      <td>spiritual</td>\n",
       "    </tr>\n",
       "    <tr>\n",
       "      <th>43718</th>\n",
       "      <td>, 89, American sports executive , heart condition.</td>\n",
       "      <td>https://en.wikipedia.org/wiki/Bob_Howsam</td>\n",
       "      <td>8</td>\n",
       "      <td>2008</td>\n",
       "      <td>Denver Broncos, Cincinnati Reds</td>\n",
       "      <td>89.000</td>\n",
       "      <td>heart condition</td>\n",
       "      <td>United States of America</td>\n",
       "      <td>NaN</td>\n",
       "      <td>0</td>\n",
       "      <td>0</td>\n",
       "      <td>0</td>\n",
       "      <td>0</td>\n",
       "      <td>0</td>\n",
       "      <td>0</td>\n",
       "      <td>1</td>\n",
       "      <td>0</td>\n",
       "      <td>0</td>\n",
       "      <td>0</td>\n",
       "      <td>0</td>\n",
       "      <td>1</td>\n",
       "      <td>0.125</td>\n",
       "      <td>North America</td>\n",
       "      <td>No Prior Region</td>\n",
       "      <td>sports</td>\n",
       "    </tr>\n",
       "    <tr>\n",
       "      <th>8367</th>\n",
       "      <td>, 84, Swedish royal, third son of King Gustaf VI Adolf.</td>\n",
       "      <td>https://en.wikipedia.org/wiki/Prince_Bertil,_Duke_of_Halland</td>\n",
       "      <td>15</td>\n",
       "      <td>1997</td>\n",
       "      <td>NaN</td>\n",
       "      <td>84.000</td>\n",
       "      <td>NaN</td>\n",
       "      <td>Sweden</td>\n",
       "      <td>NaN</td>\n",
       "      <td>0</td>\n",
       "      <td>0</td>\n",
       "      <td>0</td>\n",
       "      <td>0</td>\n",
       "      <td>0</td>\n",
       "      <td>0</td>\n",
       "      <td>0</td>\n",
       "      <td>0</td>\n",
       "      <td>1</td>\n",
       "      <td>0</td>\n",
       "      <td>0</td>\n",
       "      <td>1</td>\n",
       "      <td>0.067</td>\n",
       "      <td>Europe</td>\n",
       "      <td>No Prior Region</td>\n",
       "      <td>politics_govt_law</td>\n",
       "    </tr>\n",
       "    <tr>\n",
       "      <th>25992</th>\n",
       "      <td>, 63, Spanish politician, mayor of Gavà .</td>\n",
       "      <td>https://en.wikipedia.org/wiki/D%C3%ADdac_Pesta%C3%B1a_Rodr%C3%ADguez</td>\n",
       "      <td>9</td>\n",
       "      <td>2021</td>\n",
       "      <td>1985 2005 and member of the Parliament of Catalonia 2010</td>\n",
       "      <td>63.000</td>\n",
       "      <td>NaN</td>\n",
       "      <td>Spain</td>\n",
       "      <td>NaN</td>\n",
       "      <td>0</td>\n",
       "      <td>0</td>\n",
       "      <td>0</td>\n",
       "      <td>0</td>\n",
       "      <td>0</td>\n",
       "      <td>0</td>\n",
       "      <td>0</td>\n",
       "      <td>0</td>\n",
       "      <td>1</td>\n",
       "      <td>0</td>\n",
       "      <td>0</td>\n",
       "      <td>1</td>\n",
       "      <td>0.111</td>\n",
       "      <td>Europe</td>\n",
       "      <td>No Prior Region</td>\n",
       "      <td>politics_govt_law</td>\n",
       "    </tr>\n",
       "    <tr>\n",
       "      <th>68043</th>\n",
       "      <td>, 85, Chilian politician, cardiovascular disease.</td>\n",
       "      <td>https://en.wikipedia.org/wiki/Bernardo_Leighton</td>\n",
       "      <td>5</td>\n",
       "      <td>1995</td>\n",
       "      <td>NaN</td>\n",
       "      <td>85.000</td>\n",
       "      <td>cardiovascular disease</td>\n",
       "      <td>Chile</td>\n",
       "      <td>NaN</td>\n",
       "      <td>0</td>\n",
       "      <td>0</td>\n",
       "      <td>0</td>\n",
       "      <td>0</td>\n",
       "      <td>0</td>\n",
       "      <td>0</td>\n",
       "      <td>0</td>\n",
       "      <td>0</td>\n",
       "      <td>1</td>\n",
       "      <td>0</td>\n",
       "      <td>0</td>\n",
       "      <td>1</td>\n",
       "      <td>0.200</td>\n",
       "      <td>South America</td>\n",
       "      <td>No Prior Region</td>\n",
       "      <td>politics_govt_law</td>\n",
       "    </tr>\n",
       "  </tbody>\n",
       "</table>\n",
       "</div>"
      ],
      "text/plain": [
       "                                                          info  \\\n",
       "2158                                       , 69, Dutch pastor.   \n",
       "43718       , 89, American sports executive , heart condition.   \n",
       "8367   , 84, Swedish royal, third son of King Gustaf VI Adolf.   \n",
       "25992                , 63, Spanish politician, mayor of Gavà .   \n",
       "68043        , 85, Chilian politician, cardiovascular disease.   \n",
       "\n",
       "                                                                       link  \\\n",
       "2158                          https://en.wikipedia.org/wiki/Klaas_Hendrikse   \n",
       "43718                              https://en.wikipedia.org/wiki/Bob_Howsam   \n",
       "8367           https://en.wikipedia.org/wiki/Prince_Bertil,_Duke_of_Halland   \n",
       "25992  https://en.wikipedia.org/wiki/D%C3%ADdac_Pesta%C3%B1a_Rodr%C3%ADguez   \n",
       "68043                       https://en.wikipedia.org/wiki/Bernardo_Leighton   \n",
       "\n",
       "       num_references  year  \\\n",
       "2158                6  2018   \n",
       "43718               8  2008   \n",
       "8367               15  1997   \n",
       "25992               9  2021   \n",
       "68043               5  1995   \n",
       "\n",
       "                                                   info_parenth    age  \\\n",
       "2158                                                        NaN 69.000   \n",
       "43718                           Denver Broncos, Cincinnati Reds 89.000   \n",
       "8367                                                        NaN 84.000   \n",
       "25992  1985 2005 and member of the Parliament of Catalonia 2010 63.000   \n",
       "68043                                                       NaN 85.000   \n",
       "\n",
       "               cause_of_death                   place_1 place_2  sciences  \\\n",
       "2158                      NaN               Netherlands     NaN         0   \n",
       "43718         heart condition  United States of America     NaN         0   \n",
       "8367                      NaN                    Sweden     NaN         0   \n",
       "25992                     NaN                     Spain     NaN         0   \n",
       "68043  cardiovascular disease                     Chile     NaN         0   \n",
       "\n",
       "       social  spiritual  academia_humanities  business_farming  arts  sports  \\\n",
       "2158        0          1                    0                 0     0       0   \n",
       "43718       0          0                    0                 0     0       1   \n",
       "8367        0          0                    0                 0     0       0   \n",
       "25992       0          0                    0                 0     0       0   \n",
       "68043       0          0                    0                 0     0       0   \n",
       "\n",
       "       law_enf_military_operator  politics_govt_law  crime  \\\n",
       "2158                           0                  0      0   \n",
       "43718                          0                  0      0   \n",
       "8367                           0                  1      0   \n",
       "25992                          0                  1      0   \n",
       "68043                          0                  1      0   \n",
       "\n",
       "       event_record_other  num_categories  recip_num_references  \\\n",
       "2158                    0               1                 0.167   \n",
       "43718                   0               1                 0.125   \n",
       "8367                    0               1                 0.067   \n",
       "25992                   0               1                 0.111   \n",
       "68043                   0               1                 0.200   \n",
       "\n",
       "              region     prior_region          known_for  \n",
       "2158          Europe  No Prior Region          spiritual  \n",
       "43718  North America  No Prior Region             sports  \n",
       "8367          Europe  No Prior Region  politics_govt_law  \n",
       "25992         Europe  No Prior Region  politics_govt_law  \n",
       "68043  South America  No Prior Region  politics_govt_law  "
      ]
     },
     "execution_count": 4,
     "metadata": {},
     "output_type": "execute_result"
    },
    {
     "data": {
      "application/javascript": [
       "\n",
       "            setTimeout(function() {\n",
       "                var nbb_cell_id = 4;\n",
       "                var nbb_unformatted_code = \"# Checking a sample of the data\\ndf.sample(5)\";\n",
       "                var nbb_formatted_code = \"# Checking a sample of the data\\ndf.sample(5)\";\n",
       "                var nbb_cells = Jupyter.notebook.get_cells();\n",
       "                for (var i = 0; i < nbb_cells.length; ++i) {\n",
       "                    if (nbb_cells[i].input_prompt_number == nbb_cell_id) {\n",
       "                        if (nbb_cells[i].get_text() == nbb_unformatted_code) {\n",
       "                             nbb_cells[i].set_text(nbb_formatted_code);\n",
       "                        }\n",
       "                        break;\n",
       "                    }\n",
       "                }\n",
       "            }, 500);\n",
       "            "
      ],
      "text/plain": [
       "<IPython.core.display.Javascript object>"
      ]
     },
     "metadata": {},
     "output_type": "display_data"
    }
   ],
   "source": [
    "# Checking a sample of the data\n",
    "df.sample(5)"
   ]
  },
  {
   "cell_type": "markdown",
   "id": "8d5f29da",
   "metadata": {},
   "source": [
    "### Checking Data Types and Null Values"
   ]
  },
  {
   "cell_type": "code",
   "execution_count": 5,
   "id": "bf505f87",
   "metadata": {},
   "outputs": [
    {
     "name": "stdout",
     "output_type": "stream",
     "text": [
      "<class 'pandas.core.frame.DataFrame'>\n",
      "RangeIndex: 78040 entries, 0 to 78039\n",
      "Data columns (total 25 columns):\n",
      " #   Column                     Non-Null Count  Dtype  \n",
      "---  ------                     --------------  -----  \n",
      " 0   info                       78040 non-null  object \n",
      " 1   link                       78040 non-null  object \n",
      " 2   num_references             78040 non-null  int64  \n",
      " 3   year                       78040 non-null  int64  \n",
      " 4   info_parenth               26884 non-null  object \n",
      " 5   age                        78040 non-null  float64\n",
      " 6   cause_of_death             26604 non-null  object \n",
      " 7   place_1                    77919 non-null  object \n",
      " 8   place_2                    4339 non-null   object \n",
      " 9   sciences                   78040 non-null  int64  \n",
      " 10  social                     78040 non-null  int64  \n",
      " 11  spiritual                  78040 non-null  int64  \n",
      " 12  academia_humanities        78040 non-null  int64  \n",
      " 13  business_farming           78040 non-null  int64  \n",
      " 14  arts                       78040 non-null  int64  \n",
      " 15  sports                     78040 non-null  int64  \n",
      " 16  law_enf_military_operator  78040 non-null  int64  \n",
      " 17  politics_govt_law          78040 non-null  int64  \n",
      " 18  crime                      78040 non-null  int64  \n",
      " 19  event_record_other         78040 non-null  int64  \n",
      " 20  num_categories             78040 non-null  int64  \n",
      " 21  recip_num_references       78040 non-null  float64\n",
      " 22  region                     77919 non-null  object \n",
      " 23  prior_region               78040 non-null  object \n",
      " 24  known_for                  78040 non-null  object \n",
      "dtypes: float64(2), int64(14), object(9)\n",
      "memory usage: 14.9+ MB\n"
     ]
    },
    {
     "data": {
      "application/javascript": [
       "\n",
       "            setTimeout(function() {\n",
       "                var nbb_cell_id = 5;\n",
       "                var nbb_unformatted_code = \"# Checking data types and null values\\ndf.info()\";\n",
       "                var nbb_formatted_code = \"# Checking data types and null values\\ndf.info()\";\n",
       "                var nbb_cells = Jupyter.notebook.get_cells();\n",
       "                for (var i = 0; i < nbb_cells.length; ++i) {\n",
       "                    if (nbb_cells[i].input_prompt_number == nbb_cell_id) {\n",
       "                        if (nbb_cells[i].get_text() == nbb_unformatted_code) {\n",
       "                             nbb_cells[i].set_text(nbb_formatted_code);\n",
       "                        }\n",
       "                        break;\n",
       "                    }\n",
       "                }\n",
       "            }, 500);\n",
       "            "
      ],
      "text/plain": [
       "<IPython.core.display.Javascript object>"
      ]
     },
     "metadata": {},
     "output_type": "display_data"
    }
   ],
   "source": [
    "# Checking data types and null values\n",
    "df.info()"
   ]
  },
  {
   "cell_type": "code",
   "execution_count": 6,
   "id": "957cc04a",
   "metadata": {},
   "outputs": [
    {
     "data": {
      "text/plain": [
       "info                             0\n",
       "link                             0\n",
       "num_references                   0\n",
       "year                             0\n",
       "info_parenth                 51156\n",
       "age                              0\n",
       "cause_of_death               51436\n",
       "place_1                        121\n",
       "place_2                      73701\n",
       "sciences                         0\n",
       "social                           0\n",
       "spiritual                        0\n",
       "academia_humanities              0\n",
       "business_farming                 0\n",
       "arts                             0\n",
       "sports                           0\n",
       "law_enf_military_operator        0\n",
       "politics_govt_law                0\n",
       "crime                            0\n",
       "event_record_other               0\n",
       "num_categories                   0\n",
       "recip_num_references             0\n",
       "region                         121\n",
       "prior_region                     0\n",
       "known_for                        0\n",
       "dtype: int64"
      ]
     },
     "execution_count": 6,
     "metadata": {},
     "output_type": "execute_result"
    },
    {
     "data": {
      "application/javascript": [
       "\n",
       "            setTimeout(function() {\n",
       "                var nbb_cell_id = 6;\n",
       "                var nbb_unformatted_code = \"# Checking sum of null values by column\\ndf.isnull().sum()\";\n",
       "                var nbb_formatted_code = \"# Checking sum of null values by column\\ndf.isnull().sum()\";\n",
       "                var nbb_cells = Jupyter.notebook.get_cells();\n",
       "                for (var i = 0; i < nbb_cells.length; ++i) {\n",
       "                    if (nbb_cells[i].input_prompt_number == nbb_cell_id) {\n",
       "                        if (nbb_cells[i].get_text() == nbb_unformatted_code) {\n",
       "                             nbb_cells[i].set_text(nbb_formatted_code);\n",
       "                        }\n",
       "                        break;\n",
       "                    }\n",
       "                }\n",
       "            }, 500);\n",
       "            "
      ],
      "text/plain": [
       "<IPython.core.display.Javascript object>"
      ]
     },
     "metadata": {},
     "output_type": "display_data"
    }
   ],
   "source": [
    "# Checking sum of null values by column\n",
    "df.isnull().sum()"
   ]
  },
  {
   "cell_type": "markdown",
   "id": "fe2b47d0",
   "metadata": {},
   "source": [
    "## Data Pre-processing\n",
    "- There are 78,040 rows and 25 columns in the training set.\n",
    "- We will need to typecast our categorical columns again.\n",
    "- At the outset, we can drop the following columns:\n",
    "    - `num_references`\n",
    "    - `cause_of_death`\n",
    "    - `place_1`\n",
    "    - `place_2`\n",
    "- We can also drop the entries with `event_record_other` as their sole `known for` category.\n",
    "- Let us convert `year` to elapsed `years`, equating 1994 with 0, and assigning the accumulated years.\n",
    "- We will make a decision regarding `known_for`, `num_categories`, and `known for` category columns and drop the extraneous columns after treatment.\n",
    "- After outlier detection is complete, we can drop `info`, `info_parenth`, and `link` columns.\n",
    "- The missing values for `region` will need treatment."
   ]
  },
  {
   "cell_type": "markdown",
   "id": "26290d1c",
   "metadata": {},
   "source": [
    "#### Dropping Unnecessary Columns"
   ]
  },
  {
   "cell_type": "code",
   "execution_count": 7,
   "id": "7557eb7f",
   "metadata": {},
   "outputs": [
    {
     "name": "stdout",
     "output_type": "stream",
     "text": [
      "There are 78040 rows and 21 columns.\n"
     ]
    },
    {
     "data": {
      "application/javascript": [
       "\n",
       "            setTimeout(function() {\n",
       "                var nbb_cell_id = 7;\n",
       "                var nbb_unformatted_code = \"# Dropping unnecessary columns\\ncols_to_drop = [\\n    \\\"num_references\\\",\\n    \\\"cause_of_death\\\",\\n    \\\"place_1\\\",\\n    \\\"place_2\\\",\\n]\\ndf.drop(cols_to_drop, axis=1, inplace=True)\\n\\n# Checking new shape\\nprint(f\\\"There are {df.shape[0]} rows and {df.shape[1]} columns.\\\")\";\n",
       "                var nbb_formatted_code = \"# Dropping unnecessary columns\\ncols_to_drop = [\\n    \\\"num_references\\\",\\n    \\\"cause_of_death\\\",\\n    \\\"place_1\\\",\\n    \\\"place_2\\\",\\n]\\ndf.drop(cols_to_drop, axis=1, inplace=True)\\n\\n# Checking new shape\\nprint(f\\\"There are {df.shape[0]} rows and {df.shape[1]} columns.\\\")\";\n",
       "                var nbb_cells = Jupyter.notebook.get_cells();\n",
       "                for (var i = 0; i < nbb_cells.length; ++i) {\n",
       "                    if (nbb_cells[i].input_prompt_number == nbb_cell_id) {\n",
       "                        if (nbb_cells[i].get_text() == nbb_unformatted_code) {\n",
       "                             nbb_cells[i].set_text(nbb_formatted_code);\n",
       "                        }\n",
       "                        break;\n",
       "                    }\n",
       "                }\n",
       "            }, 500);\n",
       "            "
      ],
      "text/plain": [
       "<IPython.core.display.Javascript object>"
      ]
     },
     "metadata": {},
     "output_type": "display_data"
    }
   ],
   "source": [
    "# Dropping unnecessary columns\n",
    "cols_to_drop = [\n",
    "    \"num_references\",\n",
    "    \"cause_of_death\",\n",
    "    \"place_1\",\n",
    "    \"place_2\",\n",
    "]\n",
    "df.drop(cols_to_drop, axis=1, inplace=True)\n",
    "\n",
    "# Checking new shape\n",
    "print(f\"There are {df.shape[0]} rows and {df.shape[1]} columns.\")"
   ]
  },
  {
   "cell_type": "markdown",
   "id": "26547b1a",
   "metadata": {},
   "source": [
    "#### Dropping Entries with `event_record_other` as Sole Category"
   ]
  },
  {
   "cell_type": "code",
   "execution_count": 8,
   "id": "cd72c5a8",
   "metadata": {},
   "outputs": [
    {
     "name": "stdout",
     "output_type": "stream",
     "text": [
      "There are 77662 rows and 21 columns.\n"
     ]
    },
    {
     "data": {
      "application/javascript": [
       "\n",
       "            setTimeout(function() {\n",
       "                var nbb_cell_id = 8;\n",
       "                var nbb_unformatted_code = \"# Dropping entries with event_record_other as sole category\\nindex = df[df[\\\"known_for\\\"] == \\\"event_record_other\\\"].index\\ndf.drop(index, inplace=True)\\ndf.reset_index(inplace=True, drop=True)\\n\\n# Check new shape\\nprint(f\\\"There are {df.shape[0]} rows and {df.shape[1]} columns.\\\")\";\n",
       "                var nbb_formatted_code = \"# Dropping entries with event_record_other as sole category\\nindex = df[df[\\\"known_for\\\"] == \\\"event_record_other\\\"].index\\ndf.drop(index, inplace=True)\\ndf.reset_index(inplace=True, drop=True)\\n\\n# Check new shape\\nprint(f\\\"There are {df.shape[0]} rows and {df.shape[1]} columns.\\\")\";\n",
       "                var nbb_cells = Jupyter.notebook.get_cells();\n",
       "                for (var i = 0; i < nbb_cells.length; ++i) {\n",
       "                    if (nbb_cells[i].input_prompt_number == nbb_cell_id) {\n",
       "                        if (nbb_cells[i].get_text() == nbb_unformatted_code) {\n",
       "                             nbb_cells[i].set_text(nbb_formatted_code);\n",
       "                        }\n",
       "                        break;\n",
       "                    }\n",
       "                }\n",
       "            }, 500);\n",
       "            "
      ],
      "text/plain": [
       "<IPython.core.display.Javascript object>"
      ]
     },
     "metadata": {},
     "output_type": "display_data"
    }
   ],
   "source": [
    "# Dropping entries with event_record_other as sole category\n",
    "index = df[df[\"known_for\"] == \"event_record_other\"].index\n",
    "df.drop(index, inplace=True)\n",
    "df.reset_index(inplace=True, drop=True)\n",
    "\n",
    "# Check new shape\n",
    "print(f\"There are {df.shape[0]} rows and {df.shape[1]} columns.\")"
   ]
  },
  {
   "cell_type": "markdown",
   "id": "12d5d60a",
   "metadata": {},
   "source": [
    "#### Typecasting Categorical Columns"
   ]
  },
  {
   "cell_type": "code",
   "execution_count": 9,
   "id": "e68ad931",
   "metadata": {},
   "outputs": [
    {
     "data": {
      "application/javascript": [
       "\n",
       "            setTimeout(function() {\n",
       "                var nbb_cell_id = 9;\n",
       "                var nbb_unformatted_code = \"# Typecasting categorical columns\\ncols_to_cast = [\\\"region\\\", \\\"prior_region\\\", \\\"known_for\\\"]\\ndf[cols_to_cast] = df[cols_to_cast].astype(\\\"category\\\")\";\n",
       "                var nbb_formatted_code = \"# Typecasting categorical columns\\ncols_to_cast = [\\\"region\\\", \\\"prior_region\\\", \\\"known_for\\\"]\\ndf[cols_to_cast] = df[cols_to_cast].astype(\\\"category\\\")\";\n",
       "                var nbb_cells = Jupyter.notebook.get_cells();\n",
       "                for (var i = 0; i < nbb_cells.length; ++i) {\n",
       "                    if (nbb_cells[i].input_prompt_number == nbb_cell_id) {\n",
       "                        if (nbb_cells[i].get_text() == nbb_unformatted_code) {\n",
       "                             nbb_cells[i].set_text(nbb_formatted_code);\n",
       "                        }\n",
       "                        break;\n",
       "                    }\n",
       "                }\n",
       "            }, 500);\n",
       "            "
      ],
      "text/plain": [
       "<IPython.core.display.Javascript object>"
      ]
     },
     "metadata": {},
     "output_type": "display_data"
    }
   ],
   "source": [
    "# Typecasting categorical columns\n",
    "cols_to_cast = [\"region\", \"prior_region\", \"known_for\"]\n",
    "df[cols_to_cast] = df[cols_to_cast].astype(\"category\")"
   ]
  },
  {
   "cell_type": "markdown",
   "id": "5b031bd7",
   "metadata": {},
   "source": [
    "#### Adding `years`"
   ]
  },
  {
   "cell_type": "code",
   "execution_count": 10,
   "id": "b9dad781",
   "metadata": {},
   "outputs": [
    {
     "data": {
      "text/html": [
       "<div>\n",
       "<style scoped>\n",
       "    .dataframe tbody tr th:only-of-type {\n",
       "        vertical-align: middle;\n",
       "    }\n",
       "\n",
       "    .dataframe tbody tr th {\n",
       "        vertical-align: top;\n",
       "    }\n",
       "\n",
       "    .dataframe thead th {\n",
       "        text-align: right;\n",
       "    }\n",
       "</style>\n",
       "<table border=\"1\" class=\"dataframe\">\n",
       "  <thead>\n",
       "    <tr style=\"text-align: right;\">\n",
       "      <th></th>\n",
       "      <th>info</th>\n",
       "      <th>link</th>\n",
       "      <th>year</th>\n",
       "      <th>info_parenth</th>\n",
       "      <th>age</th>\n",
       "      <th>sciences</th>\n",
       "      <th>social</th>\n",
       "      <th>spiritual</th>\n",
       "      <th>academia_humanities</th>\n",
       "      <th>business_farming</th>\n",
       "      <th>arts</th>\n",
       "      <th>sports</th>\n",
       "      <th>law_enf_military_operator</th>\n",
       "      <th>politics_govt_law</th>\n",
       "      <th>crime</th>\n",
       "      <th>event_record_other</th>\n",
       "      <th>num_categories</th>\n",
       "      <th>recip_num_references</th>\n",
       "      <th>region</th>\n",
       "      <th>prior_region</th>\n",
       "      <th>known_for</th>\n",
       "      <th>years</th>\n",
       "    </tr>\n",
       "  </thead>\n",
       "  <tbody>\n",
       "    <tr>\n",
       "      <th>26166</th>\n",
       "      <td>, 69, British businessman, co-founder of Psygnosis.</td>\n",
       "      <td>https://en.wikipedia.org/wiki/Ian_Hetherington</td>\n",
       "      <td>2021</td>\n",
       "      <td>NaN</td>\n",
       "      <td>69.000</td>\n",
       "      <td>0</td>\n",
       "      <td>0</td>\n",
       "      <td>0</td>\n",
       "      <td>0</td>\n",
       "      <td>1</td>\n",
       "      <td>0</td>\n",
       "      <td>0</td>\n",
       "      <td>0</td>\n",
       "      <td>0</td>\n",
       "      <td>0</td>\n",
       "      <td>0</td>\n",
       "      <td>1</td>\n",
       "      <td>0.200</td>\n",
       "      <td>Europe</td>\n",
       "      <td>No Prior Region</td>\n",
       "      <td>business_farming</td>\n",
       "      <td>27</td>\n",
       "    </tr>\n",
       "    <tr>\n",
       "      <th>14558</th>\n",
       "      <td>, 78, American academic, President of the University of New Hampshire , traffic collision.</td>\n",
       "      <td>https://en.wikipedia.org/wiki/Evelyn_Handler</td>\n",
       "      <td>2011</td>\n",
       "      <td>1980 1983 and Brandeis University 1983 1991</td>\n",
       "      <td>78.000</td>\n",
       "      <td>0</td>\n",
       "      <td>0</td>\n",
       "      <td>0</td>\n",
       "      <td>1</td>\n",
       "      <td>0</td>\n",
       "      <td>0</td>\n",
       "      <td>0</td>\n",
       "      <td>0</td>\n",
       "      <td>0</td>\n",
       "      <td>0</td>\n",
       "      <td>0</td>\n",
       "      <td>1</td>\n",
       "      <td>0.333</td>\n",
       "      <td>North America</td>\n",
       "      <td>No Prior Region</td>\n",
       "      <td>academia_humanities</td>\n",
       "      <td>17</td>\n",
       "    </tr>\n",
       "  </tbody>\n",
       "</table>\n",
       "</div>"
      ],
      "text/plain": [
       "                                                                                             info  \\\n",
       "26166                                         , 69, British businessman, co-founder of Psygnosis.   \n",
       "14558  , 78, American academic, President of the University of New Hampshire , traffic collision.   \n",
       "\n",
       "                                                 link  year  \\\n",
       "26166  https://en.wikipedia.org/wiki/Ian_Hetherington  2021   \n",
       "14558    https://en.wikipedia.org/wiki/Evelyn_Handler  2011   \n",
       "\n",
       "                                      info_parenth    age  sciences  social  \\\n",
       "26166                                          NaN 69.000         0       0   \n",
       "14558  1980 1983 and Brandeis University 1983 1991 78.000         0       0   \n",
       "\n",
       "       spiritual  academia_humanities  business_farming  arts  sports  \\\n",
       "26166          0                    0                 1     0       0   \n",
       "14558          0                    1                 0     0       0   \n",
       "\n",
       "       law_enf_military_operator  politics_govt_law  crime  \\\n",
       "26166                          0                  0      0   \n",
       "14558                          0                  0      0   \n",
       "\n",
       "       event_record_other  num_categories  recip_num_references  \\\n",
       "26166                   0               1                 0.200   \n",
       "14558                   0               1                 0.333   \n",
       "\n",
       "              region     prior_region            known_for  years  \n",
       "26166         Europe  No Prior Region     business_farming     27  \n",
       "14558  North America  No Prior Region  academia_humanities     17  "
      ]
     },
     "execution_count": 10,
     "metadata": {},
     "output_type": "execute_result"
    },
    {
     "data": {
      "application/javascript": [
       "\n",
       "            setTimeout(function() {\n",
       "                var nbb_cell_id = 10;\n",
       "                var nbb_unformatted_code = \"# Adding years_elapsed column\\ndf[\\\"years\\\"] = df[\\\"year\\\"].apply(lambda x: x - 1994)\\n\\n# Checking a sample\\ndf.sample(2)\";\n",
       "                var nbb_formatted_code = \"# Adding years_elapsed column\\ndf[\\\"years\\\"] = df[\\\"year\\\"].apply(lambda x: x - 1994)\\n\\n# Checking a sample\\ndf.sample(2)\";\n",
       "                var nbb_cells = Jupyter.notebook.get_cells();\n",
       "                for (var i = 0; i < nbb_cells.length; ++i) {\n",
       "                    if (nbb_cells[i].input_prompt_number == nbb_cell_id) {\n",
       "                        if (nbb_cells[i].get_text() == nbb_unformatted_code) {\n",
       "                             nbb_cells[i].set_text(nbb_formatted_code);\n",
       "                        }\n",
       "                        break;\n",
       "                    }\n",
       "                }\n",
       "            }, 500);\n",
       "            "
      ],
      "text/plain": [
       "<IPython.core.display.Javascript object>"
      ]
     },
     "metadata": {},
     "output_type": "display_data"
    }
   ],
   "source": [
    "# Adding years_elapsed column\n",
    "df[\"years\"] = df[\"year\"].apply(lambda x: x - 1994)\n",
    "\n",
    "# Checking a sample\n",
    "df.sample(2)"
   ]
  },
  {
   "cell_type": "markdown",
   "id": "e90e9569",
   "metadata": {},
   "source": [
    "#### Dropping `year`"
   ]
  },
  {
   "cell_type": "code",
   "execution_count": 11,
   "id": "c2baa2f0",
   "metadata": {},
   "outputs": [
    {
     "data": {
      "application/javascript": [
       "\n",
       "            setTimeout(function() {\n",
       "                var nbb_cell_id = 11;\n",
       "                var nbb_unformatted_code = \"# Dropping year column\\ndf.drop(\\\"year\\\", axis=1, inplace=True)\";\n",
       "                var nbb_formatted_code = \"# Dropping year column\\ndf.drop(\\\"year\\\", axis=1, inplace=True)\";\n",
       "                var nbb_cells = Jupyter.notebook.get_cells();\n",
       "                for (var i = 0; i < nbb_cells.length; ++i) {\n",
       "                    if (nbb_cells[i].input_prompt_number == nbb_cell_id) {\n",
       "                        if (nbb_cells[i].get_text() == nbb_unformatted_code) {\n",
       "                             nbb_cells[i].set_text(nbb_formatted_code);\n",
       "                        }\n",
       "                        break;\n",
       "                    }\n",
       "                }\n",
       "            }, 500);\n",
       "            "
      ],
      "text/plain": [
       "<IPython.core.display.Javascript object>"
      ]
     },
     "metadata": {},
     "output_type": "display_data"
    }
   ],
   "source": [
    "# Dropping year column\n",
    "df.drop(\"year\", axis=1, inplace=True)"
   ]
  },
  {
   "cell_type": "markdown",
   "id": "efca7a46",
   "metadata": {},
   "source": [
    "### `known for` Category Columns\n",
    "Keeping the combined `known_for` column and dropping the `known for` categories and `num_categories` columns is the most straightforward approach.  Recall that the additional categories of `two` and `three_to_five` capture entries with multiple categories, while sole categories match the original column name. \n",
    "\n",
    "We will need to add this column to the test set and one hot encode it for both sets when modeling."
   ]
  },
  {
   "cell_type": "markdown",
   "id": "cb8c30c1",
   "metadata": {},
   "source": [
    "#### Dropping `known for` Category Columns and `num_categories`"
   ]
  },
  {
   "cell_type": "code",
   "execution_count": 12,
   "id": "216467ae",
   "metadata": {},
   "outputs": [
    {
     "data": {
      "text/plain": [
       "Index(['info', 'link', 'info_parenth', 'age', 'sciences', 'social',\n",
       "       'spiritual', 'academia_humanities', 'business_farming', 'arts',\n",
       "       'sports', 'law_enf_military_operator', 'politics_govt_law', 'crime',\n",
       "       'event_record_other', 'num_categories', 'recip_num_references',\n",
       "       'region', 'prior_region', 'known_for', 'years'],\n",
       "      dtype='object')"
      ]
     },
     "execution_count": 12,
     "metadata": {},
     "output_type": "execute_result"
    },
    {
     "data": {
      "application/javascript": [
       "\n",
       "            setTimeout(function() {\n",
       "                var nbb_cell_id = 12;\n",
       "                var nbb_unformatted_code = \"df.columns\";\n",
       "                var nbb_formatted_code = \"df.columns\";\n",
       "                var nbb_cells = Jupyter.notebook.get_cells();\n",
       "                for (var i = 0; i < nbb_cells.length; ++i) {\n",
       "                    if (nbb_cells[i].input_prompt_number == nbb_cell_id) {\n",
       "                        if (nbb_cells[i].get_text() == nbb_unformatted_code) {\n",
       "                             nbb_cells[i].set_text(nbb_formatted_code);\n",
       "                        }\n",
       "                        break;\n",
       "                    }\n",
       "                }\n",
       "            }, 500);\n",
       "            "
      ],
      "text/plain": [
       "<IPython.core.display.Javascript object>"
      ]
     },
     "metadata": {},
     "output_type": "display_data"
    }
   ],
   "source": [
    "df.columns"
   ]
  },
  {
   "cell_type": "code",
   "execution_count": 13,
   "id": "7febefda",
   "metadata": {},
   "outputs": [
    {
     "data": {
      "application/javascript": [
       "\n",
       "            setTimeout(function() {\n",
       "                var nbb_cell_id = 13;\n",
       "                var nbb_unformatted_code = \"# Dropping known for category and num_categories columns\\ncols_to_drop = [\\n    \\\"sciences\\\",\\n    \\\"social\\\",\\n    \\\"spiritual\\\",\\n    \\\"academia_humanities\\\",\\n    \\\"business_farming\\\",\\n    \\\"arts\\\",\\n    \\\"sports\\\",\\n    \\\"law_enf_military_operator\\\",\\n    \\\"politics_govt_law\\\",\\n    \\\"crime\\\",\\n    \\\"event_record_other\\\",\\n    \\\"num_categories\\\",\\n]\\ndf.drop(cols_to_drop, axis=1, inplace=True)\";\n",
       "                var nbb_formatted_code = \"# Dropping known for category and num_categories columns\\ncols_to_drop = [\\n    \\\"sciences\\\",\\n    \\\"social\\\",\\n    \\\"spiritual\\\",\\n    \\\"academia_humanities\\\",\\n    \\\"business_farming\\\",\\n    \\\"arts\\\",\\n    \\\"sports\\\",\\n    \\\"law_enf_military_operator\\\",\\n    \\\"politics_govt_law\\\",\\n    \\\"crime\\\",\\n    \\\"event_record_other\\\",\\n    \\\"num_categories\\\",\\n]\\ndf.drop(cols_to_drop, axis=1, inplace=True)\";\n",
       "                var nbb_cells = Jupyter.notebook.get_cells();\n",
       "                for (var i = 0; i < nbb_cells.length; ++i) {\n",
       "                    if (nbb_cells[i].input_prompt_number == nbb_cell_id) {\n",
       "                        if (nbb_cells[i].get_text() == nbb_unformatted_code) {\n",
       "                             nbb_cells[i].set_text(nbb_formatted_code);\n",
       "                        }\n",
       "                        break;\n",
       "                    }\n",
       "                }\n",
       "            }, 500);\n",
       "            "
      ],
      "text/plain": [
       "<IPython.core.display.Javascript object>"
      ]
     },
     "metadata": {},
     "output_type": "display_data"
    }
   ],
   "source": [
    "# Dropping known for category and num_categories columns\n",
    "cols_to_drop = [\n",
    "    \"sciences\",\n",
    "    \"social\",\n",
    "    \"spiritual\",\n",
    "    \"academia_humanities\",\n",
    "    \"business_farming\",\n",
    "    \"arts\",\n",
    "    \"sports\",\n",
    "    \"law_enf_military_operator\",\n",
    "    \"politics_govt_law\",\n",
    "    \"crime\",\n",
    "    \"event_record_other\",\n",
    "    \"num_categories\",\n",
    "]\n",
    "df.drop(cols_to_drop, axis=1, inplace=True)"
   ]
  },
  {
   "cell_type": "markdown",
   "id": "b89e52cf",
   "metadata": {},
   "source": [
    "#### Confirming Updated Columns"
   ]
  },
  {
   "cell_type": "code",
   "execution_count": 14,
   "id": "e2383034",
   "metadata": {},
   "outputs": [
    {
     "name": "stdout",
     "output_type": "stream",
     "text": [
      "<class 'pandas.core.frame.DataFrame'>\n",
      "RangeIndex: 77662 entries, 0 to 77661\n",
      "Data columns (total 9 columns):\n",
      " #   Column                Non-Null Count  Dtype   \n",
      "---  ------                --------------  -----   \n",
      " 0   info                  77662 non-null  object  \n",
      " 1   link                  77662 non-null  object  \n",
      " 2   info_parenth          26865 non-null  object  \n",
      " 3   age                   77662 non-null  float64 \n",
      " 4   recip_num_references  77662 non-null  float64 \n",
      " 5   region                77546 non-null  category\n",
      " 6   prior_region          77662 non-null  category\n",
      " 7   known_for             77662 non-null  category\n",
      " 8   years                 77662 non-null  int64   \n",
      "dtypes: category(3), float64(2), int64(1), object(3)\n",
      "memory usage: 3.8+ MB\n"
     ]
    },
    {
     "data": {
      "application/javascript": [
       "\n",
       "            setTimeout(function() {\n",
       "                var nbb_cell_id = 14;\n",
       "                var nbb_unformatted_code = \"# Recheck info\\ndf.info()\";\n",
       "                var nbb_formatted_code = \"# Recheck info\\ndf.info()\";\n",
       "                var nbb_cells = Jupyter.notebook.get_cells();\n",
       "                for (var i = 0; i < nbb_cells.length; ++i) {\n",
       "                    if (nbb_cells[i].input_prompt_number == nbb_cell_id) {\n",
       "                        if (nbb_cells[i].get_text() == nbb_unformatted_code) {\n",
       "                             nbb_cells[i].set_text(nbb_formatted_code);\n",
       "                        }\n",
       "                        break;\n",
       "                    }\n",
       "                }\n",
       "            }, 500);\n",
       "            "
      ],
      "text/plain": [
       "<IPython.core.display.Javascript object>"
      ]
     },
     "metadata": {},
     "output_type": "display_data"
    }
   ],
   "source": [
    "# Recheck info\n",
    "df.info()"
   ]
  },
  {
   "cell_type": "markdown",
   "id": "82e011c3",
   "metadata": {},
   "source": [
    "## Outlier Detection and Treatment"
   ]
  },
  {
   "cell_type": "markdown",
   "id": "06f48557",
   "metadata": {},
   "source": [
    "#### Function to View Outliers for Each Predictor Column"
   ]
  },
  {
   "cell_type": "code",
   "execution_count": 15,
   "id": "d7cb21c0",
   "metadata": {},
   "outputs": [
    {
     "data": {
      "application/javascript": [
       "\n",
       "            setTimeout(function() {\n",
       "                var nbb_cell_id = 15;\n",
       "                var nbb_unformatted_code = \"# Define a function that returns new dataframe of count and percentage of outliers of input dataframe columns\\ndef outside_IQRends_pls1pt5(dataframe):\\n    \\\"\\\"\\\"\\n    Takes input numeric dataframe and returns a dataframe of the column count \\n    and percentage of values that are outliers, defined by \\n    x < (Q1 - 1.5*IQR) \\u222a (Q3 + 1.5*IQR) > x, where x is the value of the outlier.\\n\\n    \\\"\\\"\\\"\\n    count_lst = []\\n    perc_lst = []\\n\\n    for column in dataframe:\\n        Q1 = dataframe[column].quantile(0.25)\\n        Q3 = dataframe[column].quantile(0.75)\\n        IQR = Q3 - Q1\\n        lower_whisker = Q1 - 1.5 * IQR\\n        upper_whisker = Q3 + 1.5 * IQR\\n\\n        count = len(\\n            dataframe[\\n                (dataframe[column] < lower_whisker)\\n                | (dataframe[column] > upper_whisker)\\n            ]\\n        )\\n        percentage = round(count / len(dataframe[column]) * 100, 2)\\n\\n        count_lst.append(count)\\n        perc_lst.append(percentage)\\n\\n    outlier_dict = {\\\"outlier_count\\\": count_lst, \\\"percentage_outliers\\\": perc_lst}\\n\\n    return pd.DataFrame(data=outlier_dict, index=dataframe.columns).sort_values(\\n        by=\\\"outlier_count\\\", ascending=False\\n    )\";\n",
       "                var nbb_formatted_code = \"# Define a function that returns new dataframe of count and percentage of outliers of input dataframe columns\\ndef outside_IQRends_pls1pt5(dataframe):\\n    \\\"\\\"\\\"\\n    Takes input numeric dataframe and returns a dataframe of the column count \\n    and percentage of values that are outliers, defined by \\n    x < (Q1 - 1.5*IQR) \\u222a (Q3 + 1.5*IQR) > x, where x is the value of the outlier.\\n\\n    \\\"\\\"\\\"\\n    count_lst = []\\n    perc_lst = []\\n\\n    for column in dataframe:\\n        Q1 = dataframe[column].quantile(0.25)\\n        Q3 = dataframe[column].quantile(0.75)\\n        IQR = Q3 - Q1\\n        lower_whisker = Q1 - 1.5 * IQR\\n        upper_whisker = Q3 + 1.5 * IQR\\n\\n        count = len(\\n            dataframe[\\n                (dataframe[column] < lower_whisker)\\n                | (dataframe[column] > upper_whisker)\\n            ]\\n        )\\n        percentage = round(count / len(dataframe[column]) * 100, 2)\\n\\n        count_lst.append(count)\\n        perc_lst.append(percentage)\\n\\n    outlier_dict = {\\\"outlier_count\\\": count_lst, \\\"percentage_outliers\\\": perc_lst}\\n\\n    return pd.DataFrame(data=outlier_dict, index=dataframe.columns).sort_values(\\n        by=\\\"outlier_count\\\", ascending=False\\n    )\";\n",
       "                var nbb_cells = Jupyter.notebook.get_cells();\n",
       "                for (var i = 0; i < nbb_cells.length; ++i) {\n",
       "                    if (nbb_cells[i].input_prompt_number == nbb_cell_id) {\n",
       "                        if (nbb_cells[i].get_text() == nbb_unformatted_code) {\n",
       "                             nbb_cells[i].set_text(nbb_formatted_code);\n",
       "                        }\n",
       "                        break;\n",
       "                    }\n",
       "                }\n",
       "            }, 500);\n",
       "            "
      ],
      "text/plain": [
       "<IPython.core.display.Javascript object>"
      ]
     },
     "metadata": {},
     "output_type": "display_data"
    }
   ],
   "source": [
    "# Define a function that returns new dataframe of count and percentage of outliers of input dataframe columns\n",
    "def outside_IQRends_pls1pt5(dataframe):\n",
    "    \"\"\"\n",
    "    Takes input numeric dataframe and returns a dataframe of the column count \n",
    "    and percentage of values that are outliers, defined by \n",
    "    x < (Q1 - 1.5*IQR) ∪ (Q3 + 1.5*IQR) > x, where x is the value of the outlier.\n",
    "\n",
    "    \"\"\"\n",
    "    count_lst = []\n",
    "    perc_lst = []\n",
    "\n",
    "    for column in dataframe:\n",
    "        Q1 = dataframe[column].quantile(0.25)\n",
    "        Q3 = dataframe[column].quantile(0.75)\n",
    "        IQR = Q3 - Q1\n",
    "        lower_whisker = Q1 - 1.5 * IQR\n",
    "        upper_whisker = Q3 + 1.5 * IQR\n",
    "\n",
    "        count = len(\n",
    "            dataframe[\n",
    "                (dataframe[column] < lower_whisker)\n",
    "                | (dataframe[column] > upper_whisker)\n",
    "            ]\n",
    "        )\n",
    "        percentage = round(count / len(dataframe[column]) * 100, 2)\n",
    "\n",
    "        count_lst.append(count)\n",
    "        perc_lst.append(percentage)\n",
    "\n",
    "    outlier_dict = {\"outlier_count\": count_lst, \"percentage_outliers\": perc_lst}\n",
    "\n",
    "    return pd.DataFrame(data=outlier_dict, index=dataframe.columns).sort_values(\n",
    "        by=\"outlier_count\", ascending=False\n",
    "    )"
   ]
  },
  {
   "cell_type": "markdown",
   "id": "10eda386",
   "metadata": {},
   "source": [
    "#### Visualization of outliers"
   ]
  },
  {
   "cell_type": "code",
   "execution_count": 16,
   "id": "feaaed4e",
   "metadata": {
    "scrolled": false
   },
   "outputs": [
    {
     "data": {
      "image/png": "[encoded data removed]",
      "text/plain": [
       "<Figure size 1440x576 with 3 Axes>"
      ]
     },
     "metadata": {},
     "output_type": "display_data"
    },
    {
     "data": {
      "text/html": [
       "<div>\n",
       "<style scoped>\n",
       "    .dataframe tbody tr th:only-of-type {\n",
       "        vertical-align: middle;\n",
       "    }\n",
       "\n",
       "    .dataframe tbody tr th {\n",
       "        vertical-align: top;\n",
       "    }\n",
       "\n",
       "    .dataframe thead th {\n",
       "        text-align: right;\n",
       "    }\n",
       "</style>\n",
       "<table border=\"1\" class=\"dataframe\">\n",
       "  <thead>\n",
       "    <tr style=\"text-align: right;\">\n",
       "      <th></th>\n",
       "      <th>outlier_count</th>\n",
       "      <th>percentage_outliers</th>\n",
       "    </tr>\n",
       "  </thead>\n",
       "  <tbody>\n",
       "    <tr>\n",
       "      <th>age</th>\n",
       "      <td>3096</td>\n",
       "      <td>3.990</td>\n",
       "    </tr>\n",
       "    <tr>\n",
       "      <th>recip_num_references</th>\n",
       "      <td>0</td>\n",
       "      <td>0.000</td>\n",
       "    </tr>\n",
       "    <tr>\n",
       "      <th>years</th>\n",
       "      <td>0</td>\n",
       "      <td>0.000</td>\n",
       "    </tr>\n",
       "  </tbody>\n",
       "</table>\n",
       "</div>"
      ],
      "text/plain": [
       "                      outlier_count  percentage_outliers\n",
       "age                            3096                3.990\n",
       "recip_num_references              0                0.000\n",
       "years                             0                0.000"
      ]
     },
     "execution_count": 16,
     "metadata": {},
     "output_type": "execute_result"
    },
    {
     "data": {
      "application/javascript": [
       "\n",
       "            setTimeout(function() {\n",
       "                var nbb_cell_id = 16;\n",
       "                var nbb_unformatted_code = \"# Boxplots of numerical features to view outliers\\ndf[[\\\"age\\\", \\\"recip_num_references\\\", \\\"years\\\"]].plot.box(\\n    subplots=True, figsize=(20, 8), layout=(1, 3)\\n)\\nplt.show()\\n\\n# Outliers outside of IQR ends +/- 1.5 * IQR for each numerical column\\noutside_IQRends_pls1pt5(df[[\\\"age\\\", \\\"recip_num_references\\\", \\\"years\\\"]])\";\n",
       "                var nbb_formatted_code = \"# Boxplots of numerical features to view outliers\\ndf[[\\\"age\\\", \\\"recip_num_references\\\", \\\"years\\\"]].plot.box(\\n    subplots=True, figsize=(20, 8), layout=(1, 3)\\n)\\nplt.show()\\n\\n# Outliers outside of IQR ends +/- 1.5 * IQR for each numerical column\\noutside_IQRends_pls1pt5(df[[\\\"age\\\", \\\"recip_num_references\\\", \\\"years\\\"]])\";\n",
       "                var nbb_cells = Jupyter.notebook.get_cells();\n",
       "                for (var i = 0; i < nbb_cells.length; ++i) {\n",
       "                    if (nbb_cells[i].input_prompt_number == nbb_cell_id) {\n",
       "                        if (nbb_cells[i].get_text() == nbb_unformatted_code) {\n",
       "                             nbb_cells[i].set_text(nbb_formatted_code);\n",
       "                        }\n",
       "                        break;\n",
       "                    }\n",
       "                }\n",
       "            }, 500);\n",
       "            "
      ],
      "text/plain": [
       "<IPython.core.display.Javascript object>"
      ]
     },
     "metadata": {},
     "output_type": "display_data"
    }
   ],
   "source": [
    "# Boxplots of numerical features to view outliers\n",
    "df[[\"age\", \"recip_num_references\", \"years\"]].plot.box(\n",
    "    subplots=True, figsize=(20, 8), layout=(1, 3)\n",
    ")\n",
    "plt.show()\n",
    "\n",
    "# Outliers outside of IQR ends +/- 1.5 * IQR for each numerical column\n",
    "outside_IQRends_pls1pt5(df[[\"age\", \"recip_num_references\", \"years\"]])"
   ]
  },
  {
   "cell_type": "markdown",
   "id": "bb77df2f",
   "metadata": {},
   "source": [
    "#### Observations:\n",
    "- Our numeric predictors do not have any outliers.  Recall that `recip_num_references` is already a multiplicative inverse ransformation.\n",
    "- The target, `age`, has at least one upper-end outlier and numerous lower-end outliers.\n",
    "- In general, we would not treat the target's outliers.  However, the two most extreme values, one on either end, are worth examining more closely as they don't follow the trend of the data."
   ]
  },
  {
   "cell_type": "markdown",
   "id": "fa5cbe22",
   "metadata": {},
   "source": [
    "#### Examining the Most Extreme Values for Target `age`"
   ]
  },
  {
   "cell_type": "code",
   "execution_count": 17,
   "id": "ef719f63",
   "metadata": {},
   "outputs": [
    {
     "data": {
      "text/html": [
       "<div>\n",
       "<style scoped>\n",
       "    .dataframe tbody tr th:only-of-type {\n",
       "        vertical-align: middle;\n",
       "    }\n",
       "\n",
       "    .dataframe tbody tr th {\n",
       "        vertical-align: top;\n",
       "    }\n",
       "\n",
       "    .dataframe thead th {\n",
       "        text-align: right;\n",
       "    }\n",
       "</style>\n",
       "<table border=\"1\" class=\"dataframe\">\n",
       "  <thead>\n",
       "    <tr style=\"text-align: right;\">\n",
       "      <th></th>\n",
       "      <th>info</th>\n",
       "      <th>link</th>\n",
       "      <th>info_parenth</th>\n",
       "      <th>age</th>\n",
       "      <th>recip_num_references</th>\n",
       "      <th>region</th>\n",
       "      <th>prior_region</th>\n",
       "      <th>known_for</th>\n",
       "      <th>years</th>\n",
       "    </tr>\n",
       "  </thead>\n",
       "  <tbody>\n",
       "    <tr>\n",
       "      <th>45752</th>\n",
       "      <td>, 6, American child beauty queen, asphyxia by strangulation and craniocerebral trauma.</td>\n",
       "      <td>https://en.wikipedia.org/wiki/Killing_of_JonBen%C3%A9t_Ramsey</td>\n",
       "      <td>NaN</td>\n",
       "      <td>6.000</td>\n",
       "      <td>0.009</td>\n",
       "      <td>North America</td>\n",
       "      <td>No Prior Region</td>\n",
       "      <td>arts</td>\n",
       "      <td>2</td>\n",
       "    </tr>\n",
       "    <tr>\n",
       "      <th>47182</th>\n",
       "      <td>, 122 .</td>\n",
       "      <td>https://en.wikipedia.org/wiki/Sudhakar_Chaturvedi</td>\n",
       "      <td>claimed, Indian Vedic scholar and courier Mahatma Gandhi</td>\n",
       "      <td>122.000</td>\n",
       "      <td>0.027</td>\n",
       "      <td>Asia</td>\n",
       "      <td>No Prior Region</td>\n",
       "      <td>two</td>\n",
       "      <td>26</td>\n",
       "    </tr>\n",
       "  </tbody>\n",
       "</table>\n",
       "</div>"
      ],
      "text/plain": [
       "                                                                                         info  \\\n",
       "45752  , 6, American child beauty queen, asphyxia by strangulation and craniocerebral trauma.   \n",
       "47182                                                                                 , 122 .   \n",
       "\n",
       "                                                                link  \\\n",
       "45752  https://en.wikipedia.org/wiki/Killing_of_JonBen%C3%A9t_Ramsey   \n",
       "47182              https://en.wikipedia.org/wiki/Sudhakar_Chaturvedi   \n",
       "\n",
       "                                                   info_parenth     age  \\\n",
       "45752                                                       NaN   6.000   \n",
       "47182  claimed, Indian Vedic scholar and courier Mahatma Gandhi 122.000   \n",
       "\n",
       "       recip_num_references         region     prior_region known_for  years  \n",
       "45752                 0.009  North America  No Prior Region      arts      2  \n",
       "47182                 0.027           Asia  No Prior Region       two     26  "
      ]
     },
     "execution_count": 17,
     "metadata": {},
     "output_type": "execute_result"
    },
    {
     "data": {
      "application/javascript": [
       "\n",
       "            setTimeout(function() {\n",
       "                var nbb_cell_id = 17;\n",
       "                var nbb_unformatted_code = \"df[(df[\\\"age\\\"] > 120) | (df[\\\"age\\\"] < 7)]\";\n",
       "                var nbb_formatted_code = \"df[(df[\\\"age\\\"] > 120) | (df[\\\"age\\\"] < 7)]\";\n",
       "                var nbb_cells = Jupyter.notebook.get_cells();\n",
       "                for (var i = 0; i < nbb_cells.length; ++i) {\n",
       "                    if (nbb_cells[i].input_prompt_number == nbb_cell_id) {\n",
       "                        if (nbb_cells[i].get_text() == nbb_unformatted_code) {\n",
       "                             nbb_cells[i].set_text(nbb_formatted_code);\n",
       "                        }\n",
       "                        break;\n",
       "                    }\n",
       "                }\n",
       "            }, 500);\n",
       "            "
      ],
      "text/plain": [
       "<IPython.core.display.Javascript object>"
      ]
     },
     "metadata": {},
     "output_type": "display_data"
    }
   ],
   "source": [
    "df[(df[\"age\"] > 120) | (df[\"age\"] < 7)]"
   ]
  },
  {
   "cell_type": "markdown",
   "id": "ebcfcfee",
   "metadata": {},
   "source": [
    "#### Observations:\n",
    "- We will drop the lower end outlier as the entry is more correctly categorized solely as `event_record_other`.  It is unlikely the individual would have been known if not for the manner of her death.\n",
    "- In contrast, we will keep the upper-end outlier, who was noteworthy in life beyond his exceptional age alone."
   ]
  },
  {
   "cell_type": "markdown",
   "id": "c9f865f7",
   "metadata": {},
   "source": [
    "#### Dropping Lower-end Outlier for `age`"
   ]
  },
  {
   "cell_type": "code",
   "execution_count": 18,
   "id": "84a338b4",
   "metadata": {},
   "outputs": [
    {
     "data": {
      "application/javascript": [
       "\n",
       "            setTimeout(function() {\n",
       "                var nbb_cell_id = 18;\n",
       "                var nbb_unformatted_code = \"# Dropping single entry with lowest age\\nindex = df[\\n    df[\\\"link\\\"] == \\\"https://en.wikipedia.org/wiki/Killing_of_JonBen%C3%A9t_Ramsey\\\"\\n].index\\ndf.drop(index, inplace=True)\\ndf.reset_index(inplace=True, drop=True)\";\n",
       "                var nbb_formatted_code = \"# Dropping single entry with lowest age\\nindex = df[\\n    df[\\\"link\\\"] == \\\"https://en.wikipedia.org/wiki/Killing_of_JonBen%C3%A9t_Ramsey\\\"\\n].index\\ndf.drop(index, inplace=True)\\ndf.reset_index(inplace=True, drop=True)\";\n",
       "                var nbb_cells = Jupyter.notebook.get_cells();\n",
       "                for (var i = 0; i < nbb_cells.length; ++i) {\n",
       "                    if (nbb_cells[i].input_prompt_number == nbb_cell_id) {\n",
       "                        if (nbb_cells[i].get_text() == nbb_unformatted_code) {\n",
       "                             nbb_cells[i].set_text(nbb_formatted_code);\n",
       "                        }\n",
       "                        break;\n",
       "                    }\n",
       "                }\n",
       "            }, 500);\n",
       "            "
      ],
      "text/plain": [
       "<IPython.core.display.Javascript object>"
      ]
     },
     "metadata": {},
     "output_type": "display_data"
    }
   ],
   "source": [
    "# Dropping single entry with lowest age\n",
    "index = df[\n",
    "    df[\"link\"] == \"https://en.wikipedia.org/wiki/Killing_of_JonBen%C3%A9t_Ramsey\"\n",
    "].index\n",
    "df.drop(index, inplace=True)\n",
    "df.reset_index(inplace=True, drop=True)"
   ]
  },
  {
   "cell_type": "markdown",
   "id": "9a9b17cb",
   "metadata": {},
   "source": [
    "#### Visualization of Outliers after Treatment"
   ]
  },
  {
   "cell_type": "code",
   "execution_count": 19,
   "id": "14047694",
   "metadata": {
    "scrolled": false
   },
   "outputs": [
    {
     "data": {
      "image/png": "[encoded data removed]",
      "text/plain": [
       "<Figure size 1440x576 with 3 Axes>"
      ]
     },
     "metadata": {},
     "output_type": "display_data"
    },
    {
     "data": {
      "text/html": [
       "<div>\n",
       "<style scoped>\n",
       "    .dataframe tbody tr th:only-of-type {\n",
       "        vertical-align: middle;\n",
       "    }\n",
       "\n",
       "    .dataframe tbody tr th {\n",
       "        vertical-align: top;\n",
       "    }\n",
       "\n",
       "    .dataframe thead th {\n",
       "        text-align: right;\n",
       "    }\n",
       "</style>\n",
       "<table border=\"1\" class=\"dataframe\">\n",
       "  <thead>\n",
       "    <tr style=\"text-align: right;\">\n",
       "      <th></th>\n",
       "      <th>outlier_count</th>\n",
       "      <th>percentage_outliers</th>\n",
       "    </tr>\n",
       "  </thead>\n",
       "  <tbody>\n",
       "    <tr>\n",
       "      <th>age</th>\n",
       "      <td>3095</td>\n",
       "      <td>3.990</td>\n",
       "    </tr>\n",
       "    <tr>\n",
       "      <th>recip_num_references</th>\n",
       "      <td>0</td>\n",
       "      <td>0.000</td>\n",
       "    </tr>\n",
       "    <tr>\n",
       "      <th>years</th>\n",
       "      <td>0</td>\n",
       "      <td>0.000</td>\n",
       "    </tr>\n",
       "  </tbody>\n",
       "</table>\n",
       "</div>"
      ],
      "text/plain": [
       "                      outlier_count  percentage_outliers\n",
       "age                            3095                3.990\n",
       "recip_num_references              0                0.000\n",
       "years                             0                0.000"
      ]
     },
     "execution_count": 19,
     "metadata": {},
     "output_type": "execute_result"
    },
    {
     "data": {
      "application/javascript": [
       "\n",
       "            setTimeout(function() {\n",
       "                var nbb_cell_id = 19;\n",
       "                var nbb_unformatted_code = \"# Boxplots of numerical features to view outliers\\ndf[[\\\"age\\\", \\\"recip_num_references\\\", \\\"years\\\"]].plot.box(\\n    subplots=True, figsize=(20, 8), layout=(1, 3)\\n)\\nplt.show()\\n\\n# Outliers outside of IQR ends +/- 1.5 * IQR for each numerical column\\noutside_IQRends_pls1pt5(df[[\\\"age\\\", \\\"recip_num_references\\\", \\\"years\\\"]])\";\n",
       "                var nbb_formatted_code = \"# Boxplots of numerical features to view outliers\\ndf[[\\\"age\\\", \\\"recip_num_references\\\", \\\"years\\\"]].plot.box(\\n    subplots=True, figsize=(20, 8), layout=(1, 3)\\n)\\nplt.show()\\n\\n# Outliers outside of IQR ends +/- 1.5 * IQR for each numerical column\\noutside_IQRends_pls1pt5(df[[\\\"age\\\", \\\"recip_num_references\\\", \\\"years\\\"]])\";\n",
       "                var nbb_cells = Jupyter.notebook.get_cells();\n",
       "                for (var i = 0; i < nbb_cells.length; ++i) {\n",
       "                    if (nbb_cells[i].input_prompt_number == nbb_cell_id) {\n",
       "                        if (nbb_cells[i].get_text() == nbb_unformatted_code) {\n",
       "                             nbb_cells[i].set_text(nbb_formatted_code);\n",
       "                        }\n",
       "                        break;\n",
       "                    }\n",
       "                }\n",
       "            }, 500);\n",
       "            "
      ],
      "text/plain": [
       "<IPython.core.display.Javascript object>"
      ]
     },
     "metadata": {},
     "output_type": "display_data"
    }
   ],
   "source": [
    "# Boxplots of numerical features to view outliers\n",
    "df[[\"age\", \"recip_num_references\", \"years\"]].plot.box(\n",
    "    subplots=True, figsize=(20, 8), layout=(1, 3)\n",
    ")\n",
    "plt.show()\n",
    "\n",
    "# Outliers outside of IQR ends +/- 1.5 * IQR for each numerical column\n",
    "outside_IQRends_pls1pt5(df[[\"age\", \"recip_num_references\", \"years\"]])"
   ]
  },
  {
   "cell_type": "markdown",
   "id": "217e50f0",
   "metadata": {},
   "source": [
    "#### Dropping `info`, `info_parenth`, and `link`"
   ]
  },
  {
   "cell_type": "code",
   "execution_count": 20,
   "id": "63024dd2",
   "metadata": {},
   "outputs": [
    {
     "name": "stdout",
     "output_type": "stream",
     "text": [
      "There are 77661 rows and 6 columns.\n"
     ]
    },
    {
     "data": {
      "application/javascript": [
       "\n",
       "            setTimeout(function() {\n",
       "                var nbb_cell_id = 20;\n",
       "                var nbb_unformatted_code = \"# Dropping info, info_parenth, and link\\ncols_to_drop = [\\\"info\\\", \\\"info_parenth\\\", \\\"link\\\"]\\ndf.drop(cols_to_drop, axis=1, inplace=True)\\n\\n# Re-check shape\\nprint(f\\\"There are {df.shape[0]} rows and {df.shape[1]} columns.\\\")\";\n",
       "                var nbb_formatted_code = \"# Dropping info, info_parenth, and link\\ncols_to_drop = [\\\"info\\\", \\\"info_parenth\\\", \\\"link\\\"]\\ndf.drop(cols_to_drop, axis=1, inplace=True)\\n\\n# Re-check shape\\nprint(f\\\"There are {df.shape[0]} rows and {df.shape[1]} columns.\\\")\";\n",
       "                var nbb_cells = Jupyter.notebook.get_cells();\n",
       "                for (var i = 0; i < nbb_cells.length; ++i) {\n",
       "                    if (nbb_cells[i].input_prompt_number == nbb_cell_id) {\n",
       "                        if (nbb_cells[i].get_text() == nbb_unformatted_code) {\n",
       "                             nbb_cells[i].set_text(nbb_formatted_code);\n",
       "                        }\n",
       "                        break;\n",
       "                    }\n",
       "                }\n",
       "            }, 500);\n",
       "            "
      ],
      "text/plain": [
       "<IPython.core.display.Javascript object>"
      ]
     },
     "metadata": {},
     "output_type": "display_data"
    }
   ],
   "source": [
    "# Dropping info, info_parenth, and link\n",
    "cols_to_drop = [\"info\", \"info_parenth\", \"link\"]\n",
    "df.drop(cols_to_drop, axis=1, inplace=True)\n",
    "\n",
    "# Re-check shape\n",
    "print(f\"There are {df.shape[0]} rows and {df.shape[1]} columns.\")"
   ]
  },
  {
   "cell_type": "markdown",
   "id": "72e49e67",
   "metadata": {},
   "source": [
    "#### Checking Remaining Columns"
   ]
  },
  {
   "cell_type": "code",
   "execution_count": 21,
   "id": "f3202f1d",
   "metadata": {},
   "outputs": [
    {
     "name": "stdout",
     "output_type": "stream",
     "text": [
      "<class 'pandas.core.frame.DataFrame'>\n",
      "RangeIndex: 77661 entries, 0 to 77660\n",
      "Data columns (total 6 columns):\n",
      " #   Column                Non-Null Count  Dtype   \n",
      "---  ------                --------------  -----   \n",
      " 0   age                   77661 non-null  float64 \n",
      " 1   recip_num_references  77661 non-null  float64 \n",
      " 2   region                77545 non-null  category\n",
      " 3   prior_region          77661 non-null  category\n",
      " 4   known_for             77661 non-null  category\n",
      " 5   years                 77661 non-null  int64   \n",
      "dtypes: category(3), float64(2), int64(1)\n",
      "memory usage: 2.0 MB\n"
     ]
    },
    {
     "data": {
      "application/javascript": [
       "\n",
       "            setTimeout(function() {\n",
       "                var nbb_cell_id = 21;\n",
       "                var nbb_unformatted_code = \"# Checking remaining columns\\ndf.info()\";\n",
       "                var nbb_formatted_code = \"# Checking remaining columns\\ndf.info()\";\n",
       "                var nbb_cells = Jupyter.notebook.get_cells();\n",
       "                for (var i = 0; i < nbb_cells.length; ++i) {\n",
       "                    if (nbb_cells[i].input_prompt_number == nbb_cell_id) {\n",
       "                        if (nbb_cells[i].get_text() == nbb_unformatted_code) {\n",
       "                             nbb_cells[i].set_text(nbb_formatted_code);\n",
       "                        }\n",
       "                        break;\n",
       "                    }\n",
       "                }\n",
       "            }, 500);\n",
       "            "
      ],
      "text/plain": [
       "<IPython.core.display.Javascript object>"
      ]
     },
     "metadata": {},
     "output_type": "display_data"
    }
   ],
   "source": [
    "# Checking remaining columns\n",
    "df.info()"
   ]
  },
  {
   "cell_type": "markdown",
   "id": "b73ffed4",
   "metadata": {},
   "source": [
    "#### Observations:\n",
    "- We are finished with the outliers and have dropped `info`, `info_parenth`, and `link` columns and are down to our target variable and the 5 predictors that we will retain for modeling.\n",
    "- After briefly revisiting EDA, we will proceed to treat missing values."
   ]
  },
  {
   "cell_type": "markdown",
   "id": "6eba0e9d",
   "metadata": {},
   "source": [
    "## EDA Revisited"
   ]
  },
  {
   "cell_type": "markdown",
   "id": "d5ce8c18",
   "metadata": {},
   "source": [
    "### Correlation"
   ]
  },
  {
   "cell_type": "markdown",
   "id": "2eba9642",
   "metadata": {},
   "source": [
    "#### Pairplot of Numerical Features w.r.t. `known_for`"
   ]
  },
  {
   "cell_type": "code",
   "execution_count": 22,
   "id": "e7d9b4d6",
   "metadata": {},
   "outputs": [
    {
     "data": {
      "image/png": "[encoded data removed]",
      "text/plain": [
       "<Figure size 771.69x540 with 12 Axes>"
      ]
     },
     "metadata": {},
     "output_type": "display_data"
    },
    {
     "data": {
      "application/javascript": [
       "\n",
       "            setTimeout(function() {\n",
       "                var nbb_cell_id = 22;\n",
       "                var nbb_unformatted_code = \"# Pairplot of numerical features w.r.t. known_for\\nsns.pairplot(df, hue=\\\"known_for\\\", palette=\\\"CMRmap\\\")\\nplt.show()\";\n",
       "                var nbb_formatted_code = \"# Pairplot of numerical features w.r.t. known_for\\nsns.pairplot(df, hue=\\\"known_for\\\", palette=\\\"CMRmap\\\")\\nplt.show()\";\n",
       "                var nbb_cells = Jupyter.notebook.get_cells();\n",
       "                for (var i = 0; i < nbb_cells.length; ++i) {\n",
       "                    if (nbb_cells[i].input_prompt_number == nbb_cell_id) {\n",
       "                        if (nbb_cells[i].get_text() == nbb_unformatted_code) {\n",
       "                             nbb_cells[i].set_text(nbb_formatted_code);\n",
       "                        }\n",
       "                        break;\n",
       "                    }\n",
       "                }\n",
       "            }, 500);\n",
       "            "
      ],
      "text/plain": [
       "<IPython.core.display.Javascript object>"
      ]
     },
     "metadata": {},
     "output_type": "display_data"
    }
   ],
   "source": [
    "# Pairplot of numerical features w.r.t. known_for\n",
    "sns.pairplot(df, hue=\"known_for\", palette=\"CMRmap\")\n",
    "plt.show()"
   ]
  },
  {
   "cell_type": "markdown",
   "id": "65410fd6",
   "metadata": {},
   "source": [
    "#### Heatmap of Correlation of Numerical Features"
   ]
  },
  {
   "cell_type": "code",
   "execution_count": 23,
   "id": "eb324ad6",
   "metadata": {},
   "outputs": [
    {
     "data": {
      "image/png": "[encoded data removed]",
      "text/plain": [
       "<Figure size 720x576 with 2 Axes>"
      ]
     },
     "metadata": {},
     "output_type": "display_data"
    },
    {
     "data": {
      "application/javascript": [
       "\n",
       "            setTimeout(function() {\n",
       "                var nbb_cell_id = 23;\n",
       "                var nbb_unformatted_code = \"# Pairplot of numerical features\\nplt.figure(figsize=(10, 8))\\ncorr = df.corr()\\nmask = np.triu(np.ones_like(corr, dtype=bool))\\nsns.heatmap(\\n    corr,\\n    annot=True,\\n    fmt=(\\\".2f\\\"),\\n    annot_kws={\\\"size\\\": 14},\\n    cmap=\\\"BrBG\\\",\\n    vmin=-1,\\n    vmax=1,\\n    mask=mask,\\n    linewidth=1,\\n)\\nplt.show()\";\n",
       "                var nbb_formatted_code = \"# Pairplot of numerical features\\nplt.figure(figsize=(10, 8))\\ncorr = df.corr()\\nmask = np.triu(np.ones_like(corr, dtype=bool))\\nsns.heatmap(\\n    corr,\\n    annot=True,\\n    fmt=(\\\".2f\\\"),\\n    annot_kws={\\\"size\\\": 14},\\n    cmap=\\\"BrBG\\\",\\n    vmin=-1,\\n    vmax=1,\\n    mask=mask,\\n    linewidth=1,\\n)\\nplt.show()\";\n",
       "                var nbb_cells = Jupyter.notebook.get_cells();\n",
       "                for (var i = 0; i < nbb_cells.length; ++i) {\n",
       "                    if (nbb_cells[i].input_prompt_number == nbb_cell_id) {\n",
       "                        if (nbb_cells[i].get_text() == nbb_unformatted_code) {\n",
       "                             nbb_cells[i].set_text(nbb_formatted_code);\n",
       "                        }\n",
       "                        break;\n",
       "                    }\n",
       "                }\n",
       "            }, 500);\n",
       "            "
      ],
      "text/plain": [
       "<IPython.core.display.Javascript object>"
      ]
     },
     "metadata": {},
     "output_type": "display_data"
    }
   ],
   "source": [
    "# Pairplot of numerical features\n",
    "plt.figure(figsize=(10, 8))\n",
    "corr = df.corr()\n",
    "mask = np.triu(np.ones_like(corr, dtype=bool))\n",
    "sns.heatmap(\n",
    "    corr,\n",
    "    annot=True,\n",
    "    fmt=(\".2f\"),\n",
    "    annot_kws={\"size\": 14},\n",
    "    cmap=\"BrBG\",\n",
    "    vmin=-1,\n",
    "    vmax=1,\n",
    "    mask=mask,\n",
    "    linewidth=1,\n",
    ")\n",
    "plt.show()"
   ]
  },
  {
   "cell_type": "markdown",
   "id": "f7d26758",
   "metadata": {},
   "source": [
    "#### Observations:\n",
    "- There is very little observable variation in the pairplot, which indicates we do not have any strong predictors.\n",
    "- Likewise, there is essentially no correlation between the numerical features on the heatmap."
   ]
  },
  {
   "cell_type": "markdown",
   "id": "9c79f2a9",
   "metadata": {},
   "source": [
    "## Missing Values\n",
    "There is only the one column, `region`, to treat.  However, we will proceed with the exercise of programmatically assessing missing values for any column.  \n",
    "\n",
    "We will group entries by `known_for`, then impute missing `region` with the mode for the group."
   ]
  },
  {
   "cell_type": "markdown",
   "id": "a165c254",
   "metadata": {},
   "source": [
    "### Imputation of Missing Values"
   ]
  },
  {
   "cell_type": "markdown",
   "id": "aa6044a6",
   "metadata": {},
   "source": [
    "#### Function to Return Columns with Missing Values and Their Missing Value Counts"
   ]
  },
  {
   "cell_type": "code",
   "execution_count": 24,
   "id": "5d8901e0",
   "metadata": {},
   "outputs": [
    {
     "data": {
      "application/javascript": [
       "\n",
       "            setTimeout(function() {\n",
       "                var nbb_cell_id = 24;\n",
       "                var nbb_unformatted_code = \"# Define a function to return Series of columns of dataframe with null values and their null value counts\\ndef null_count_4col(dataframe):\\n    \\\"\\\"\\\"\\n    Takes input dataframe and returns Series of columns with missing values and their missing value counts\\n    \\\"\\\"\\\"\\n    null_cols = dataframe.isnull().sum()[df.isnull().sum() > 0].index.to_list()\\n    if len(null_cols) > 0:\\n        return dataframe[null_cols].isnull().sum()\\n    else:\\n        print(\\n            f\\\"There are {dataframe.isnull().sum().sum()} remaining missing values in the dataframe.\\\"\\n        )\";\n",
       "                var nbb_formatted_code = \"# Define a function to return Series of columns of dataframe with null values and their null value counts\\ndef null_count_4col(dataframe):\\n    \\\"\\\"\\\"\\n    Takes input dataframe and returns Series of columns with missing values and their missing value counts\\n    \\\"\\\"\\\"\\n    null_cols = dataframe.isnull().sum()[df.isnull().sum() > 0].index.to_list()\\n    if len(null_cols) > 0:\\n        return dataframe[null_cols].isnull().sum()\\n    else:\\n        print(\\n            f\\\"There are {dataframe.isnull().sum().sum()} remaining missing values in the dataframe.\\\"\\n        )\";\n",
       "                var nbb_cells = Jupyter.notebook.get_cells();\n",
       "                for (var i = 0; i < nbb_cells.length; ++i) {\n",
       "                    if (nbb_cells[i].input_prompt_number == nbb_cell_id) {\n",
       "                        if (nbb_cells[i].get_text() == nbb_unformatted_code) {\n",
       "                             nbb_cells[i].set_text(nbb_formatted_code);\n",
       "                        }\n",
       "                        break;\n",
       "                    }\n",
       "                }\n",
       "            }, 500);\n",
       "            "
      ],
      "text/plain": [
       "<IPython.core.display.Javascript object>"
      ]
     },
     "metadata": {},
     "output_type": "display_data"
    }
   ],
   "source": [
    "# Define a function to return Series of columns of dataframe with null values and their null value counts\n",
    "def null_count_4col(dataframe):\n",
    "    \"\"\"\n",
    "    Takes input dataframe and returns Series of columns with missing values and their missing value counts\n",
    "    \"\"\"\n",
    "    null_cols = dataframe.isnull().sum()[df.isnull().sum() > 0].index.to_list()\n",
    "    if len(null_cols) > 0:\n",
    "        return dataframe[null_cols].isnull().sum()\n",
    "    else:\n",
    "        print(\n",
    "            f\"There are {dataframe.isnull().sum().sum()} remaining missing values in the dataframe.\"\n",
    "        )"
   ]
  },
  {
   "cell_type": "markdown",
   "id": "336e3e46",
   "metadata": {},
   "source": [
    "#### Function to Make a List of Column Names with Missing Values"
   ]
  },
  {
   "cell_type": "code",
   "execution_count": 25,
   "id": "66265263",
   "metadata": {},
   "outputs": [
    {
     "data": {
      "application/javascript": [
       "\n",
       "            setTimeout(function() {\n",
       "                var nbb_cell_id = 25;\n",
       "                var nbb_unformatted_code = \"# Define a function to create list of columns with missing values\\ndef null_cols(dataframe):\\n    \\\"\\\"\\\"\\n    Takes input dataframe and returns list of column names that contain null values\\n    \\\"\\\"\\\"\\n    null_cols = dataframe.isnull().sum()[dataframe.isnull().sum() > 0].index.to_list()\\n    return null_cols\";\n",
       "                var nbb_formatted_code = \"# Define a function to create list of columns with missing values\\ndef null_cols(dataframe):\\n    \\\"\\\"\\\"\\n    Takes input dataframe and returns list of column names that contain null values\\n    \\\"\\\"\\\"\\n    null_cols = dataframe.isnull().sum()[dataframe.isnull().sum() > 0].index.to_list()\\n    return null_cols\";\n",
       "                var nbb_cells = Jupyter.notebook.get_cells();\n",
       "                for (var i = 0; i < nbb_cells.length; ++i) {\n",
       "                    if (nbb_cells[i].input_prompt_number == nbb_cell_id) {\n",
       "                        if (nbb_cells[i].get_text() == nbb_unformatted_code) {\n",
       "                             nbb_cells[i].set_text(nbb_formatted_code);\n",
       "                        }\n",
       "                        break;\n",
       "                    }\n",
       "                }\n",
       "            }, 500);\n",
       "            "
      ],
      "text/plain": [
       "<IPython.core.display.Javascript object>"
      ]
     },
     "metadata": {},
     "output_type": "display_data"
    }
   ],
   "source": [
    "# Define a function to create list of columns with missing values\n",
    "def null_cols(dataframe):\n",
    "    \"\"\"\n",
    "    Takes input dataframe and returns list of column names that contain null values\n",
    "    \"\"\"\n",
    "    null_cols = dataframe.isnull().sum()[dataframe.isnull().sum() > 0].index.to_list()\n",
    "    return null_cols"
   ]
  },
  {
   "cell_type": "markdown",
   "id": "6be43680",
   "metadata": {},
   "source": [
    "#### Function to Impute Missing Values in a Dataframe by the Mode of Rows Grouped by Other Selected Columns"
   ]
  },
  {
   "cell_type": "code",
   "execution_count": 26,
   "id": "4f768db9",
   "metadata": {},
   "outputs": [
    {
     "data": {
      "application/javascript": [
       "\n",
       "            setTimeout(function() {\n",
       "                var nbb_cell_id = 26;\n",
       "                var nbb_unformatted_code = \"# Define a function to impute missing values in a dataframe by the median\\n# of rows grouped by other selected columns\\ndef impute_mode(dataframe, groupby_lst, null_cols_lst):\\n    \\\"\\\"\\\"\\n    A function to impute missing values in a dataframe by their column median\\n    of rows grouped by other selected columns\\n    \\n    dataframe: dataframe\\n    groupby_lst: columns to group by for calculating median for imputation\\n    null_cols_list: columns to have missing values treated with imputation\\n    \\\"\\\"\\\"\\n    dataframe[null_cols_lst] = dataframe.groupby(groupby_lst)[null_cols_lst].transform(\\n        lambda x: x.fillna(x.mode().iloc[0])\\n    )\\n    return dataframe\";\n",
       "                var nbb_formatted_code = \"# Define a function to impute missing values in a dataframe by the median\\n# of rows grouped by other selected columns\\ndef impute_mode(dataframe, groupby_lst, null_cols_lst):\\n    \\\"\\\"\\\"\\n    A function to impute missing values in a dataframe by their column median\\n    of rows grouped by other selected columns\\n    \\n    dataframe: dataframe\\n    groupby_lst: columns to group by for calculating median for imputation\\n    null_cols_list: columns to have missing values treated with imputation\\n    \\\"\\\"\\\"\\n    dataframe[null_cols_lst] = dataframe.groupby(groupby_lst)[null_cols_lst].transform(\\n        lambda x: x.fillna(x.mode().iloc[0])\\n    )\\n    return dataframe\";\n",
       "                var nbb_cells = Jupyter.notebook.get_cells();\n",
       "                for (var i = 0; i < nbb_cells.length; ++i) {\n",
       "                    if (nbb_cells[i].input_prompt_number == nbb_cell_id) {\n",
       "                        if (nbb_cells[i].get_text() == nbb_unformatted_code) {\n",
       "                             nbb_cells[i].set_text(nbb_formatted_code);\n",
       "                        }\n",
       "                        break;\n",
       "                    }\n",
       "                }\n",
       "            }, 500);\n",
       "            "
      ],
      "text/plain": [
       "<IPython.core.display.Javascript object>"
      ]
     },
     "metadata": {},
     "output_type": "display_data"
    }
   ],
   "source": [
    "# Define a function to impute missing values in a dataframe by the median\n",
    "# of rows grouped by other selected columns\n",
    "def impute_mode(dataframe, groupby_lst, null_cols_lst):\n",
    "    \"\"\"\n",
    "    A function to impute missing values in a dataframe by their column median\n",
    "    of rows grouped by other selected columns\n",
    "    \n",
    "    dataframe: dataframe\n",
    "    groupby_lst: columns to group by for calculating median for imputation\n",
    "    null_cols_list: columns to have missing values treated with imputation\n",
    "    \"\"\"\n",
    "    dataframe[null_cols_lst] = dataframe.groupby(groupby_lst)[null_cols_lst].transform(\n",
    "        lambda x: x.fillna(x.mode().iloc[0])\n",
    "    )\n",
    "    return dataframe"
   ]
  },
  {
   "cell_type": "markdown",
   "id": "d1c6cf38",
   "metadata": {},
   "source": [
    "#### Missing Values Before Treatment"
   ]
  },
  {
   "cell_type": "code",
   "execution_count": 27,
   "id": "6d6f4dc0",
   "metadata": {},
   "outputs": [
    {
     "data": {
      "text/plain": [
       "region    116\n",
       "dtype: int64"
      ]
     },
     "execution_count": 27,
     "metadata": {},
     "output_type": "execute_result"
    },
    {
     "data": {
      "application/javascript": [
       "\n",
       "            setTimeout(function() {\n",
       "                var nbb_cell_id = 27;\n",
       "                var nbb_unformatted_code = \"# display missing values prior to imputation\\nnull_count_4col(df)\";\n",
       "                var nbb_formatted_code = \"# display missing values prior to imputation\\nnull_count_4col(df)\";\n",
       "                var nbb_cells = Jupyter.notebook.get_cells();\n",
       "                for (var i = 0; i < nbb_cells.length; ++i) {\n",
       "                    if (nbb_cells[i].input_prompt_number == nbb_cell_id) {\n",
       "                        if (nbb_cells[i].get_text() == nbb_unformatted_code) {\n",
       "                             nbb_cells[i].set_text(nbb_formatted_code);\n",
       "                        }\n",
       "                        break;\n",
       "                    }\n",
       "                }\n",
       "            }, 500);\n",
       "            "
      ],
      "text/plain": [
       "<IPython.core.display.Javascript object>"
      ]
     },
     "metadata": {},
     "output_type": "display_data"
    }
   ],
   "source": [
    "# display missing values prior to imputation\n",
    "null_count_4col(df)"
   ]
  },
  {
   "cell_type": "markdown",
   "id": "8b92296f",
   "metadata": {},
   "source": [
    "#### Imputing Missing Values"
   ]
  },
  {
   "cell_type": "code",
   "execution_count": 28,
   "id": "7921a4ed",
   "metadata": {},
   "outputs": [
    {
     "name": "stdout",
     "output_type": "stream",
     "text": [
      "There are 0 remaining missing values in the dataframe.\n"
     ]
    },
    {
     "data": {
      "application/javascript": [
       "\n",
       "            setTimeout(function() {\n",
       "                var nbb_cell_id = 28;\n",
       "                var nbb_unformatted_code = \"# Using above functions to impute missing values using mode of rows grouped by known_for\\ngroupby_lst = [\\\"known_for\\\"]\\nnull_cols_lst = null_cols(df)\\n\\nimpute_mode(df, groupby_lst, null_cols_lst)\\n\\nnull_count_4col(df)\";\n",
       "                var nbb_formatted_code = \"# Using above functions to impute missing values using mode of rows grouped by known_for\\ngroupby_lst = [\\\"known_for\\\"]\\nnull_cols_lst = null_cols(df)\\n\\nimpute_mode(df, groupby_lst, null_cols_lst)\\n\\nnull_count_4col(df)\";\n",
       "                var nbb_cells = Jupyter.notebook.get_cells();\n",
       "                for (var i = 0; i < nbb_cells.length; ++i) {\n",
       "                    if (nbb_cells[i].input_prompt_number == nbb_cell_id) {\n",
       "                        if (nbb_cells[i].get_text() == nbb_unformatted_code) {\n",
       "                             nbb_cells[i].set_text(nbb_formatted_code);\n",
       "                        }\n",
       "                        break;\n",
       "                    }\n",
       "                }\n",
       "            }, 500);\n",
       "            "
      ],
      "text/plain": [
       "<IPython.core.display.Javascript object>"
      ]
     },
     "metadata": {},
     "output_type": "display_data"
    }
   ],
   "source": [
    "# Using above functions to impute missing values using mode of rows grouped by known_for\n",
    "groupby_lst = [\"known_for\"]\n",
    "null_cols_lst = null_cols(df)\n",
    "\n",
    "impute_mode(df, groupby_lst, null_cols_lst)\n",
    "\n",
    "null_count_4col(df)"
   ]
  },
  {
   "cell_type": "markdown",
   "id": "d93b63e1",
   "metadata": {},
   "source": [
    "#### Observations:\n",
    "- We have treated the missing values.\n",
    "- The additional functions were included here to illustrate an approach for a dataset with more columns with missing values.\n",
    "- Missing mean or median values could be handled similarly and we will include the above treatment for the `test` set, but using the modes from `train`.\n",
    "- Let us check our columns once more before exporting the dataset."
   ]
  },
  {
   "cell_type": "markdown",
   "id": "f3fe5531",
   "metadata": {},
   "source": [
    "#### Confirming Final Columns"
   ]
  },
  {
   "cell_type": "code",
   "execution_count": 29,
   "id": "097fa330",
   "metadata": {},
   "outputs": [
    {
     "name": "stdout",
     "output_type": "stream",
     "text": [
      "<class 'pandas.core.frame.DataFrame'>\n",
      "RangeIndex: 77661 entries, 0 to 77660\n",
      "Data columns (total 6 columns):\n",
      " #   Column                Non-Null Count  Dtype   \n",
      "---  ------                --------------  -----   \n",
      " 0   age                   77661 non-null  float64 \n",
      " 1   recip_num_references  77661 non-null  float64 \n",
      " 2   region                77661 non-null  category\n",
      " 3   prior_region          77661 non-null  category\n",
      " 4   known_for             77661 non-null  category\n",
      " 5   years                 77661 non-null  int64   \n",
      "dtypes: category(3), float64(2), int64(1)\n",
      "memory usage: 2.0 MB\n"
     ]
    },
    {
     "data": {
      "application/javascript": [
       "\n",
       "            setTimeout(function() {\n",
       "                var nbb_cell_id = 29;\n",
       "                var nbb_unformatted_code = \"df.info()\";\n",
       "                var nbb_formatted_code = \"df.info()\";\n",
       "                var nbb_cells = Jupyter.notebook.get_cells();\n",
       "                for (var i = 0; i < nbb_cells.length; ++i) {\n",
       "                    if (nbb_cells[i].input_prompt_number == nbb_cell_id) {\n",
       "                        if (nbb_cells[i].get_text() == nbb_unformatted_code) {\n",
       "                             nbb_cells[i].set_text(nbb_formatted_code);\n",
       "                        }\n",
       "                        break;\n",
       "                    }\n",
       "                }\n",
       "            }, 500);\n",
       "            "
      ],
      "text/plain": [
       "<IPython.core.display.Javascript object>"
      ]
     },
     "metadata": {},
     "output_type": "display_data"
    }
   ],
   "source": [
    "df.info()"
   ]
  },
  {
   "cell_type": "markdown",
   "id": "0f66697e",
   "metadata": {},
   "source": [
    "#### Observations:\n",
    "- We will now save our dataset and pick back up in a new notebook."
   ]
  },
  {
   "cell_type": "markdown",
   "id": "1113a242",
   "metadata": {},
   "source": [
    "### Saving Dataset to [wp_life_expect_preproc.csv](https://github.com/teresahanak/wikipedia-life-expectancy/blob/main/wp_life_expect_preproc.csv)"
   ]
  },
  {
   "cell_type": "code",
   "execution_count": 30,
   "id": "6008ac61",
   "metadata": {},
   "outputs": [
    {
     "data": {
      "application/javascript": [
       "\n",
       "            setTimeout(function() {\n",
       "                var nbb_cell_id = 30;\n",
       "                var nbb_unformatted_code = \"# Saving dataset to csv\\ndf.to_csv(\\\"wp_life_expect_preproc.csv\\\", index=False)\";\n",
       "                var nbb_formatted_code = \"# Saving dataset to csv\\ndf.to_csv(\\\"wp_life_expect_preproc.csv\\\", index=False)\";\n",
       "                var nbb_cells = Jupyter.notebook.get_cells();\n",
       "                for (var i = 0; i < nbb_cells.length; ++i) {\n",
       "                    if (nbb_cells[i].input_prompt_number == nbb_cell_id) {\n",
       "                        if (nbb_cells[i].get_text() == nbb_unformatted_code) {\n",
       "                             nbb_cells[i].set_text(nbb_formatted_code);\n",
       "                        }\n",
       "                        break;\n",
       "                    }\n",
       "                }\n",
       "            }, 500);\n",
       "            "
      ],
      "text/plain": [
       "<IPython.core.display.Javascript object>"
      ]
     },
     "metadata": {},
     "output_type": "display_data"
    }
   ],
   "source": [
    "# Saving dataset to csv\n",
    "df.to_csv(\"wp_life_expect_preproc.csv\", index=False)"
   ]
  },
  {
   "cell_type": "code",
   "execution_count": 31,
   "id": "a36c0663",
   "metadata": {},
   "outputs": [
    {
     "name": "stdout",
     "output_type": "stream",
     "text": [
      "Complete\n"
     ]
    },
    {
     "data": {
      "application/javascript": [
       "\n",
       "            setTimeout(function() {\n",
       "                var nbb_cell_id = 31;\n",
       "                var nbb_unformatted_code = \"print(\\\"Complete\\\")\\n\\n# Chime notification when cell executes\\nchime.success()\";\n",
       "                var nbb_formatted_code = \"print(\\\"Complete\\\")\\n\\n# Chime notification when cell executes\\nchime.success()\";\n",
       "                var nbb_cells = Jupyter.notebook.get_cells();\n",
       "                for (var i = 0; i < nbb_cells.length; ++i) {\n",
       "                    if (nbb_cells[i].input_prompt_number == nbb_cell_id) {\n",
       "                        if (nbb_cells[i].get_text() == nbb_unformatted_code) {\n",
       "                             nbb_cells[i].set_text(nbb_formatted_code);\n",
       "                        }\n",
       "                        break;\n",
       "                    }\n",
       "                }\n",
       "            }, 500);\n",
       "            "
      ],
      "text/plain": [
       "<IPython.core.display.Javascript object>"
      ]
     },
     "metadata": {},
     "output_type": "display_data"
    }
   ],
   "source": [
    "print(\"Complete\")\n",
    "\n",
    "# Chime notification when cell executes\n",
    "chime.success()"
   ]
  },
  {
   "cell_type": "markdown",
   "id": "11aacfcc",
   "metadata": {},
   "source": [
    "# [Proceed to Modeling ](https://github.com/teresahanak/wikipedia-life-expectancy/blob/main/wp_life_expect_data_modeling_thanak_2022_10_9.ipynb)"
   ]
  }
 ],
 "metadata": {
  "kernelspec": {
   "display_name": "Python 3 (ipykernel)",
   "language": "python",
   "name": "python3"
  },
  "language_info": {
   "codemirror_mode": {
    "name": "ipython",
    "version": 3
   },
   "file_extension": ".py",
   "mimetype": "text/x-python",
   "name": "python",
   "nbconvert_exporter": "python",
   "pygments_lexer": "ipython3",
   "version": "3.9.12"
  }
 },
 "nbformat": 4,
 "nbformat_minor": 5
}
