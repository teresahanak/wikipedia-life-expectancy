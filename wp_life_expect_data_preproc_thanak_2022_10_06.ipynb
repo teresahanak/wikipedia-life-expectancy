{
 "cells": [
  {
   "cell_type": "markdown",
   "id": "316a0779",
   "metadata": {},
   "source": [
    "# Wikipedia Notable Life Expectancies\n",
    "# [Notebook 11: Data Pre-processing ](https://github.com/teresahanak/wikipedia-life-expectancy/blob/main/wp_life_expect_data_preproc_2022_10_06.ipynb)\n",
    "### Context\n",
    "\n",
    "The\n",
    "### Objective\n",
    "\n",
    "The\n",
    "### Data Dictionary\n",
    "- Feature: Description"
   ]
  },
  {
   "cell_type": "markdown",
   "id": "99245d51",
   "metadata": {},
   "source": [
    "### Importing Libraries"
   ]
  },
  {
   "cell_type": "code",
   "execution_count": 1,
   "id": "453bba83",
   "metadata": {},
   "outputs": [
    {
     "data": {
      "application/javascript": [
       "\n",
       "            setTimeout(function() {\n",
       "                var nbb_cell_id = 1;\n",
       "                var nbb_unformatted_code = \"# To structure code automatically\\n%load_ext nb_black\\n\\n# To import/export sqlite databases\\n# import sqlite3 as sql\\n\\n# To save/open python objects in pickle file\\nimport pickle\\n\\n# To help with reading, cleaning, and manipulating data\\nimport pandas as pd\\nimport numpy as np\\n\\n# To help with data visualization\\nimport matplotlib.pyplot as plt\\nimport seaborn as sns\\n\\n# randomized data splitting\\nfrom sklearn.model_selection import train_test_split\\n\\n# To define maximum number of columns to be displayed in a dataframe\\npd.set_option(\\\"display.max_columns\\\", None)\\n# To define the maximum number of rows to be displayed in a dataframe\\npd.set_option(\\\"display.max_rows\\\", 211)\\n\\n# To set some dataframe visualization attributes\\npd.set_option(\\\"max_colwidth\\\", 150)\\n\\n# To supress scientific notations for a dataframe\\npd.set_option(\\\"display.float_format\\\", lambda x: \\\"%.3f\\\" % x)\\n\\n# To supress warnings\\n# import warnings\\n\\n# warnings.filterwarnings(\\\"ignore\\\")\\n\\n# To set some plot visualization attributes\\nsns.set_theme()\\nsns.set(font_scale=1.4)\\nsns.set_palette(\\n    (\\n        \\\"midnightblue\\\",\\n        \\\"goldenrod\\\",\\n        \\\"maroon\\\",\\n        \\\"darkolivegreen\\\",\\n        \\\"cadetblue\\\",\\n        \\\"tab:purple\\\",\\n        \\\"yellowgreen\\\",\\n    )\\n)\\n# plt.rc(\\\"font\\\", size=12)\\n# plt.rc(\\\"axes\\\", titlesize=15)\\n# plt.rc(\\\"axes\\\", labelsize=14)\\n# plt.rc(\\\"xtick\\\", labelsize=13)\\n# plt.rc(\\\"ytick\\\", labelsize=13)\\n# plt.rc(\\\"legend\\\", fontsize=13)\\n# plt.rc(\\\"legend\\\", fontsize=14)\\n# plt.rc(\\\"figure\\\", titlesize=16)\\n\\n# To play auditory cue when cell has executed, has warning, or has error and set chime theme\\nimport chime\\n\\nchime.theme(\\\"zelda\\\")\";\n",
       "                var nbb_formatted_code = \"# To structure code automatically\\n%load_ext nb_black\\n\\n# To import/export sqlite databases\\n# import sqlite3 as sql\\n\\n# To save/open python objects in pickle file\\nimport pickle\\n\\n# To help with reading, cleaning, and manipulating data\\nimport pandas as pd\\nimport numpy as np\\n\\n# To help with data visualization\\nimport matplotlib.pyplot as plt\\nimport seaborn as sns\\n\\n# randomized data splitting\\nfrom sklearn.model_selection import train_test_split\\n\\n# To define maximum number of columns to be displayed in a dataframe\\npd.set_option(\\\"display.max_columns\\\", None)\\n# To define the maximum number of rows to be displayed in a dataframe\\npd.set_option(\\\"display.max_rows\\\", 211)\\n\\n# To set some dataframe visualization attributes\\npd.set_option(\\\"max_colwidth\\\", 150)\\n\\n# To supress scientific notations for a dataframe\\npd.set_option(\\\"display.float_format\\\", lambda x: \\\"%.3f\\\" % x)\\n\\n# To supress warnings\\n# import warnings\\n\\n# warnings.filterwarnings(\\\"ignore\\\")\\n\\n# To set some plot visualization attributes\\nsns.set_theme()\\nsns.set(font_scale=1.4)\\nsns.set_palette(\\n    (\\n        \\\"midnightblue\\\",\\n        \\\"goldenrod\\\",\\n        \\\"maroon\\\",\\n        \\\"darkolivegreen\\\",\\n        \\\"cadetblue\\\",\\n        \\\"tab:purple\\\",\\n        \\\"yellowgreen\\\",\\n    )\\n)\\n# plt.rc(\\\"font\\\", size=12)\\n# plt.rc(\\\"axes\\\", titlesize=15)\\n# plt.rc(\\\"axes\\\", labelsize=14)\\n# plt.rc(\\\"xtick\\\", labelsize=13)\\n# plt.rc(\\\"ytick\\\", labelsize=13)\\n# plt.rc(\\\"legend\\\", fontsize=13)\\n# plt.rc(\\\"legend\\\", fontsize=14)\\n# plt.rc(\\\"figure\\\", titlesize=16)\\n\\n# To play auditory cue when cell has executed, has warning, or has error and set chime theme\\nimport chime\\n\\nchime.theme(\\\"zelda\\\")\";\n",
       "                var nbb_cells = Jupyter.notebook.get_cells();\n",
       "                for (var i = 0; i < nbb_cells.length; ++i) {\n",
       "                    if (nbb_cells[i].input_prompt_number == nbb_cell_id) {\n",
       "                        if (nbb_cells[i].get_text() == nbb_unformatted_code) {\n",
       "                             nbb_cells[i].set_text(nbb_formatted_code);\n",
       "                        }\n",
       "                        break;\n",
       "                    }\n",
       "                }\n",
       "            }, 500);\n",
       "            "
      ],
      "text/plain": [
       "<IPython.core.display.Javascript object>"
      ]
     },
     "metadata": {},
     "output_type": "display_data"
    }
   ],
   "source": [
    "# To structure code automatically\n",
    "%load_ext nb_black\n",
    "\n",
    "# To import/export sqlite databases\n",
    "# import sqlite3 as sql\n",
    "\n",
    "# To save/open python objects in pickle file\n",
    "import pickle\n",
    "\n",
    "# To help with reading, cleaning, and manipulating data\n",
    "import pandas as pd\n",
    "import numpy as np\n",
    "\n",
    "# To help with data visualization\n",
    "import matplotlib.pyplot as plt\n",
    "import seaborn as sns\n",
    "\n",
    "# randomized data splitting\n",
    "from sklearn.model_selection import train_test_split\n",
    "\n",
    "# To define maximum number of columns to be displayed in a dataframe\n",
    "pd.set_option(\"display.max_columns\", None)\n",
    "# To define the maximum number of rows to be displayed in a dataframe\n",
    "pd.set_option(\"display.max_rows\", 211)\n",
    "\n",
    "# To set some dataframe visualization attributes\n",
    "pd.set_option(\"max_colwidth\", 150)\n",
    "\n",
    "# To supress scientific notations for a dataframe\n",
    "pd.set_option(\"display.float_format\", lambda x: \"%.3f\" % x)\n",
    "\n",
    "# To supress warnings\n",
    "# import warnings\n",
    "\n",
    "# warnings.filterwarnings(\"ignore\")\n",
    "\n",
    "# To set some plot visualization attributes\n",
    "sns.set_theme()\n",
    "sns.set(font_scale=1.4)\n",
    "sns.set_palette(\n",
    "    (\n",
    "        \"midnightblue\",\n",
    "        \"goldenrod\",\n",
    "        \"maroon\",\n",
    "        \"darkolivegreen\",\n",
    "        \"cadetblue\",\n",
    "        \"tab:purple\",\n",
    "        \"yellowgreen\",\n",
    "    )\n",
    ")\n",
    "# plt.rc(\"font\", size=12)\n",
    "# plt.rc(\"axes\", titlesize=15)\n",
    "# plt.rc(\"axes\", labelsize=14)\n",
    "# plt.rc(\"xtick\", labelsize=13)\n",
    "# plt.rc(\"ytick\", labelsize=13)\n",
    "# plt.rc(\"legend\", fontsize=13)\n",
    "# plt.rc(\"legend\", fontsize=14)\n",
    "# plt.rc(\"figure\", titlesize=16)\n",
    "\n",
    "# To play auditory cue when cell has executed, has warning, or has error and set chime theme\n",
    "import chime\n",
    "\n",
    "chime.theme(\"zelda\")"
   ]
  },
  {
   "cell_type": "markdown",
   "id": "cc818a82",
   "metadata": {},
   "source": [
    "## Data Overview"
   ]
  },
  {
   "cell_type": "markdown",
   "id": "0ed005f6",
   "metadata": {},
   "source": [
    "### [Reading](https://github.com/teresahanak/wikipedia-life-expectancy/blob/main/wp_life_expect_train.csv), Sampling, and Checking Data Shape"
   ]
  },
  {
   "cell_type": "code",
   "execution_count": 2,
   "id": "0ca58a95",
   "metadata": {},
   "outputs": [
    {
     "name": "stdout",
     "output_type": "stream",
     "text": [
      "There are 78040 rows and 25 columns.\n"
     ]
    },
    {
     "data": {
      "text/html": [
       "<div>\n",
       "<style scoped>\n",
       "    .dataframe tbody tr th:only-of-type {\n",
       "        vertical-align: middle;\n",
       "    }\n",
       "\n",
       "    .dataframe tbody tr th {\n",
       "        vertical-align: top;\n",
       "    }\n",
       "\n",
       "    .dataframe thead th {\n",
       "        text-align: right;\n",
       "    }\n",
       "</style>\n",
       "<table border=\"1\" class=\"dataframe\">\n",
       "  <thead>\n",
       "    <tr style=\"text-align: right;\">\n",
       "      <th></th>\n",
       "      <th>info</th>\n",
       "      <th>link</th>\n",
       "      <th>num_references</th>\n",
       "      <th>year</th>\n",
       "      <th>info_parenth</th>\n",
       "      <th>age</th>\n",
       "      <th>cause_of_death</th>\n",
       "      <th>place_1</th>\n",
       "      <th>place_2</th>\n",
       "      <th>sciences</th>\n",
       "      <th>social</th>\n",
       "      <th>spiritual</th>\n",
       "      <th>academia_humanities</th>\n",
       "      <th>business_farming</th>\n",
       "      <th>arts</th>\n",
       "      <th>sports</th>\n",
       "      <th>law_enf_military_operator</th>\n",
       "      <th>politics_govt_law</th>\n",
       "      <th>crime</th>\n",
       "      <th>event_record_other</th>\n",
       "      <th>num_categories</th>\n",
       "      <th>recip_num_references</th>\n",
       "      <th>region</th>\n",
       "      <th>prior_region</th>\n",
       "      <th>known_for</th>\n",
       "    </tr>\n",
       "  </thead>\n",
       "  <tbody>\n",
       "    <tr>\n",
       "      <th>0</th>\n",
       "      <td>, 73, British Anglican prelate, Bishop of Tonbridge.</td>\n",
       "      <td>https://en.wikipedia.org/wiki/David_Bartleet</td>\n",
       "      <td>4</td>\n",
       "      <td>2002</td>\n",
       "      <td>NaN</td>\n",
       "      <td>73.000</td>\n",
       "      <td>NaN</td>\n",
       "      <td>United Kingdom of Great Britain and Northern Ireland</td>\n",
       "      <td>NaN</td>\n",
       "      <td>0</td>\n",
       "      <td>0</td>\n",
       "      <td>1</td>\n",
       "      <td>0</td>\n",
       "      <td>0</td>\n",
       "      <td>0</td>\n",
       "      <td>0</td>\n",
       "      <td>0</td>\n",
       "      <td>0</td>\n",
       "      <td>0</td>\n",
       "      <td>0</td>\n",
       "      <td>1</td>\n",
       "      <td>0.250</td>\n",
       "      <td>Europe</td>\n",
       "      <td>No Prior Region</td>\n",
       "      <td>spiritual</td>\n",
       "    </tr>\n",
       "    <tr>\n",
       "      <th>1</th>\n",
       "      <td>, 90, American radiologist and university professor.</td>\n",
       "      <td>https://en.wikipedia.org/wiki/Eugene_Saenger</td>\n",
       "      <td>3</td>\n",
       "      <td>2007</td>\n",
       "      <td>NaN</td>\n",
       "      <td>90.000</td>\n",
       "      <td>NaN</td>\n",
       "      <td>United States of America</td>\n",
       "      <td>NaN</td>\n",
       "      <td>1</td>\n",
       "      <td>0</td>\n",
       "      <td>0</td>\n",
       "      <td>1</td>\n",
       "      <td>0</td>\n",
       "      <td>0</td>\n",
       "      <td>0</td>\n",
       "      <td>0</td>\n",
       "      <td>0</td>\n",
       "      <td>0</td>\n",
       "      <td>0</td>\n",
       "      <td>2</td>\n",
       "      <td>0.333</td>\n",
       "      <td>North America</td>\n",
       "      <td>No Prior Region</td>\n",
       "      <td>two</td>\n",
       "    </tr>\n",
       "  </tbody>\n",
       "</table>\n",
       "</div>"
      ],
      "text/plain": [
       "                                                   info  \\\n",
       "0  , 73, British Anglican prelate, Bishop of Tonbridge.   \n",
       "1  , 90, American radiologist and university professor.   \n",
       "\n",
       "                                           link  num_references  year  \\\n",
       "0  https://en.wikipedia.org/wiki/David_Bartleet               4  2002   \n",
       "1  https://en.wikipedia.org/wiki/Eugene_Saenger               3  2007   \n",
       "\n",
       "  info_parenth    age cause_of_death  \\\n",
       "0          NaN 73.000            NaN   \n",
       "1          NaN 90.000            NaN   \n",
       "\n",
       "                                                place_1 place_2  sciences  \\\n",
       "0  United Kingdom of Great Britain and Northern Ireland     NaN         0   \n",
       "1                              United States of America     NaN         1   \n",
       "\n",
       "   social  spiritual  academia_humanities  business_farming  arts  sports  \\\n",
       "0       0          1                    0                 0     0       0   \n",
       "1       0          0                    1                 0     0       0   \n",
       "\n",
       "   law_enf_military_operator  politics_govt_law  crime  event_record_other  \\\n",
       "0                          0                  0      0                   0   \n",
       "1                          0                  0      0                   0   \n",
       "\n",
       "   num_categories  recip_num_references         region     prior_region  \\\n",
       "0               1                 0.250         Europe  No Prior Region   \n",
       "1               2                 0.333  North America  No Prior Region   \n",
       "\n",
       "   known_for  \n",
       "0  spiritual  \n",
       "1        two  "
      ]
     },
     "execution_count": 2,
     "metadata": {},
     "output_type": "execute_result"
    },
    {
     "data": {
      "application/javascript": [
       "\n",
       "            setTimeout(function() {\n",
       "                var nbb_cell_id = 2;\n",
       "                var nbb_unformatted_code = \"# Reading the train set\\ndata = pd.read_csv(\\\"wp_life_expect_train.csv\\\")\\n\\n# Making a working copy\\ndf = data.copy()\\n\\n# Checking the shape\\nprint(f\\\"There are {df.shape[0]} rows and {df.shape[1]} columns.\\\")\\n\\n# Checking first 2 rows of the data\\ndf.head(2)\";\n",
       "                var nbb_formatted_code = \"# Reading the train set\\ndata = pd.read_csv(\\\"wp_life_expect_train.csv\\\")\\n\\n# Making a working copy\\ndf = data.copy()\\n\\n# Checking the shape\\nprint(f\\\"There are {df.shape[0]} rows and {df.shape[1]} columns.\\\")\\n\\n# Checking first 2 rows of the data\\ndf.head(2)\";\n",
       "                var nbb_cells = Jupyter.notebook.get_cells();\n",
       "                for (var i = 0; i < nbb_cells.length; ++i) {\n",
       "                    if (nbb_cells[i].input_prompt_number == nbb_cell_id) {\n",
       "                        if (nbb_cells[i].get_text() == nbb_unformatted_code) {\n",
       "                             nbb_cells[i].set_text(nbb_formatted_code);\n",
       "                        }\n",
       "                        break;\n",
       "                    }\n",
       "                }\n",
       "            }, 500);\n",
       "            "
      ],
      "text/plain": [
       "<IPython.core.display.Javascript object>"
      ]
     },
     "metadata": {},
     "output_type": "display_data"
    }
   ],
   "source": [
    "# Reading the train set\n",
    "data = pd.read_csv(\"wp_life_expect_train.csv\")\n",
    "\n",
    "# Making a working copy\n",
    "df = data.copy()\n",
    "\n",
    "# Checking the shape\n",
    "print(f\"There are {df.shape[0]} rows and {df.shape[1]} columns.\")\n",
    "\n",
    "# Checking first 2 rows of the data\n",
    "df.head(2)"
   ]
  },
  {
   "cell_type": "code",
   "execution_count": 3,
   "id": "6cca416f",
   "metadata": {},
   "outputs": [
    {
     "data": {
      "text/html": [
       "<div>\n",
       "<style scoped>\n",
       "    .dataframe tbody tr th:only-of-type {\n",
       "        vertical-align: middle;\n",
       "    }\n",
       "\n",
       "    .dataframe tbody tr th {\n",
       "        vertical-align: top;\n",
       "    }\n",
       "\n",
       "    .dataframe thead th {\n",
       "        text-align: right;\n",
       "    }\n",
       "</style>\n",
       "<table border=\"1\" class=\"dataframe\">\n",
       "  <thead>\n",
       "    <tr style=\"text-align: right;\">\n",
       "      <th></th>\n",
       "      <th>info</th>\n",
       "      <th>link</th>\n",
       "      <th>num_references</th>\n",
       "      <th>year</th>\n",
       "      <th>info_parenth</th>\n",
       "      <th>age</th>\n",
       "      <th>cause_of_death</th>\n",
       "      <th>place_1</th>\n",
       "      <th>place_2</th>\n",
       "      <th>sciences</th>\n",
       "      <th>social</th>\n",
       "      <th>spiritual</th>\n",
       "      <th>academia_humanities</th>\n",
       "      <th>business_farming</th>\n",
       "      <th>arts</th>\n",
       "      <th>sports</th>\n",
       "      <th>law_enf_military_operator</th>\n",
       "      <th>politics_govt_law</th>\n",
       "      <th>crime</th>\n",
       "      <th>event_record_other</th>\n",
       "      <th>num_categories</th>\n",
       "      <th>recip_num_references</th>\n",
       "      <th>region</th>\n",
       "      <th>prior_region</th>\n",
       "      <th>known_for</th>\n",
       "    </tr>\n",
       "  </thead>\n",
       "  <tbody>\n",
       "    <tr>\n",
       "      <th>78038</th>\n",
       "      <td>, 74, Canadian journalist and author.</td>\n",
       "      <td>https://en.wikipedia.org/wiki/Charles_Lynch_(journalist)</td>\n",
       "      <td>7</td>\n",
       "      <td>1994</td>\n",
       "      <td>NaN</td>\n",
       "      <td>74.000</td>\n",
       "      <td>NaN</td>\n",
       "      <td>Canada</td>\n",
       "      <td>NaN</td>\n",
       "      <td>0</td>\n",
       "      <td>0</td>\n",
       "      <td>0</td>\n",
       "      <td>0</td>\n",
       "      <td>0</td>\n",
       "      <td>1</td>\n",
       "      <td>0</td>\n",
       "      <td>0</td>\n",
       "      <td>0</td>\n",
       "      <td>0</td>\n",
       "      <td>0</td>\n",
       "      <td>1</td>\n",
       "      <td>0.143</td>\n",
       "      <td>North America</td>\n",
       "      <td>No Prior Region</td>\n",
       "      <td>arts</td>\n",
       "    </tr>\n",
       "    <tr>\n",
       "      <th>78039</th>\n",
       "      <td>, 92, English cricketer and squash player.</td>\n",
       "      <td>https://en.wikipedia.org/wiki/Edward_Harrison_(cricketer)</td>\n",
       "      <td>5</td>\n",
       "      <td>2002</td>\n",
       "      <td>NaN</td>\n",
       "      <td>92.000</td>\n",
       "      <td>NaN</td>\n",
       "      <td>United Kingdom of Great Britain and Northern Ireland</td>\n",
       "      <td>NaN</td>\n",
       "      <td>0</td>\n",
       "      <td>0</td>\n",
       "      <td>0</td>\n",
       "      <td>0</td>\n",
       "      <td>0</td>\n",
       "      <td>0</td>\n",
       "      <td>1</td>\n",
       "      <td>0</td>\n",
       "      <td>0</td>\n",
       "      <td>0</td>\n",
       "      <td>0</td>\n",
       "      <td>1</td>\n",
       "      <td>0.200</td>\n",
       "      <td>Europe</td>\n",
       "      <td>No Prior Region</td>\n",
       "      <td>sports</td>\n",
       "    </tr>\n",
       "  </tbody>\n",
       "</table>\n",
       "</div>"
      ],
      "text/plain": [
       "                                             info  \\\n",
       "78038       , 74, Canadian journalist and author.   \n",
       "78039  , 92, English cricketer and squash player.   \n",
       "\n",
       "                                                            link  \\\n",
       "78038   https://en.wikipedia.org/wiki/Charles_Lynch_(journalist)   \n",
       "78039  https://en.wikipedia.org/wiki/Edward_Harrison_(cricketer)   \n",
       "\n",
       "       num_references  year info_parenth    age cause_of_death  \\\n",
       "78038               7  1994          NaN 74.000            NaN   \n",
       "78039               5  2002          NaN 92.000            NaN   \n",
       "\n",
       "                                                    place_1 place_2  sciences  \\\n",
       "78038                                                Canada     NaN         0   \n",
       "78039  United Kingdom of Great Britain and Northern Ireland     NaN         0   \n",
       "\n",
       "       social  spiritual  academia_humanities  business_farming  arts  sports  \\\n",
       "78038       0          0                    0                 0     1       0   \n",
       "78039       0          0                    0                 0     0       1   \n",
       "\n",
       "       law_enf_military_operator  politics_govt_law  crime  \\\n",
       "78038                          0                  0      0   \n",
       "78039                          0                  0      0   \n",
       "\n",
       "       event_record_other  num_categories  recip_num_references  \\\n",
       "78038                   0               1                 0.143   \n",
       "78039                   0               1                 0.200   \n",
       "\n",
       "              region     prior_region known_for  \n",
       "78038  North America  No Prior Region      arts  \n",
       "78039         Europe  No Prior Region    sports  "
      ]
     },
     "execution_count": 3,
     "metadata": {},
     "output_type": "execute_result"
    },
    {
     "data": {
      "application/javascript": [
       "\n",
       "            setTimeout(function() {\n",
       "                var nbb_cell_id = 3;\n",
       "                var nbb_unformatted_code = \"# Checking last 2 rows of the data\\ndf.tail(2)\";\n",
       "                var nbb_formatted_code = \"# Checking last 2 rows of the data\\ndf.tail(2)\";\n",
       "                var nbb_cells = Jupyter.notebook.get_cells();\n",
       "                for (var i = 0; i < nbb_cells.length; ++i) {\n",
       "                    if (nbb_cells[i].input_prompt_number == nbb_cell_id) {\n",
       "                        if (nbb_cells[i].get_text() == nbb_unformatted_code) {\n",
       "                             nbb_cells[i].set_text(nbb_formatted_code);\n",
       "                        }\n",
       "                        break;\n",
       "                    }\n",
       "                }\n",
       "            }, 500);\n",
       "            "
      ],
      "text/plain": [
       "<IPython.core.display.Javascript object>"
      ]
     },
     "metadata": {},
     "output_type": "display_data"
    }
   ],
   "source": [
    "# Checking last 2 rows of the data\n",
    "df.tail(2)"
   ]
  },
  {
   "cell_type": "code",
   "execution_count": 4,
   "id": "de6e8ee5",
   "metadata": {},
   "outputs": [
    {
     "data": {
      "text/html": [
       "<div>\n",
       "<style scoped>\n",
       "    .dataframe tbody tr th:only-of-type {\n",
       "        vertical-align: middle;\n",
       "    }\n",
       "\n",
       "    .dataframe tbody tr th {\n",
       "        vertical-align: top;\n",
       "    }\n",
       "\n",
       "    .dataframe thead th {\n",
       "        text-align: right;\n",
       "    }\n",
       "</style>\n",
       "<table border=\"1\" class=\"dataframe\">\n",
       "  <thead>\n",
       "    <tr style=\"text-align: right;\">\n",
       "      <th></th>\n",
       "      <th>info</th>\n",
       "      <th>link</th>\n",
       "      <th>num_references</th>\n",
       "      <th>year</th>\n",
       "      <th>info_parenth</th>\n",
       "      <th>age</th>\n",
       "      <th>cause_of_death</th>\n",
       "      <th>place_1</th>\n",
       "      <th>place_2</th>\n",
       "      <th>sciences</th>\n",
       "      <th>social</th>\n",
       "      <th>spiritual</th>\n",
       "      <th>academia_humanities</th>\n",
       "      <th>business_farming</th>\n",
       "      <th>arts</th>\n",
       "      <th>sports</th>\n",
       "      <th>law_enf_military_operator</th>\n",
       "      <th>politics_govt_law</th>\n",
       "      <th>crime</th>\n",
       "      <th>event_record_other</th>\n",
       "      <th>num_categories</th>\n",
       "      <th>recip_num_references</th>\n",
       "      <th>region</th>\n",
       "      <th>prior_region</th>\n",
       "      <th>known_for</th>\n",
       "    </tr>\n",
       "  </thead>\n",
       "  <tbody>\n",
       "    <tr>\n",
       "      <th>37194</th>\n",
       "      <td>, 83, British linguist.</td>\n",
       "      <td>https://en.wikipedia.org/wiki/Roy_Harris_(linguist)</td>\n",
       "      <td>5</td>\n",
       "      <td>2015</td>\n",
       "      <td>NaN</td>\n",
       "      <td>83.000</td>\n",
       "      <td>NaN</td>\n",
       "      <td>United Kingdom of Great Britain and Northern Ireland</td>\n",
       "      <td>NaN</td>\n",
       "      <td>0</td>\n",
       "      <td>0</td>\n",
       "      <td>0</td>\n",
       "      <td>1</td>\n",
       "      <td>0</td>\n",
       "      <td>0</td>\n",
       "      <td>0</td>\n",
       "      <td>0</td>\n",
       "      <td>0</td>\n",
       "      <td>0</td>\n",
       "      <td>0</td>\n",
       "      <td>1</td>\n",
       "      <td>0.200</td>\n",
       "      <td>Europe</td>\n",
       "      <td>No Prior Region</td>\n",
       "      <td>academia_humanities</td>\n",
       "    </tr>\n",
       "    <tr>\n",
       "      <th>6141</th>\n",
       "      <td>, 87, Dutch Antillean politician, Prime Minister of the Netherlands Antilles .</td>\n",
       "      <td>https://en.wikipedia.org/wiki/Lucina_da_Costa_Gomez-Matheeuws</td>\n",
       "      <td>4</td>\n",
       "      <td>2017</td>\n",
       "      <td>1977</td>\n",
       "      <td>87.000</td>\n",
       "      <td>NaN</td>\n",
       "      <td>Netherlands</td>\n",
       "      <td>NaN</td>\n",
       "      <td>0</td>\n",
       "      <td>0</td>\n",
       "      <td>0</td>\n",
       "      <td>0</td>\n",
       "      <td>0</td>\n",
       "      <td>0</td>\n",
       "      <td>0</td>\n",
       "      <td>0</td>\n",
       "      <td>1</td>\n",
       "      <td>0</td>\n",
       "      <td>0</td>\n",
       "      <td>1</td>\n",
       "      <td>0.250</td>\n",
       "      <td>Europe</td>\n",
       "      <td>No Prior Region</td>\n",
       "      <td>politics_govt_law</td>\n",
       "    </tr>\n",
       "    <tr>\n",
       "      <th>6917</th>\n",
       "      <td>, 69, Australian politician, MP for Robertson , and judge, cancer.</td>\n",
       "      <td>https://en.wikipedia.org/wiki/Frank_Walker_(Australian_politician)</td>\n",
       "      <td>10</td>\n",
       "      <td>2012</td>\n",
       "      <td>1990 1996</td>\n",
       "      <td>69.000</td>\n",
       "      <td>cancer</td>\n",
       "      <td>Australia</td>\n",
       "      <td>NaN</td>\n",
       "      <td>0</td>\n",
       "      <td>0</td>\n",
       "      <td>0</td>\n",
       "      <td>0</td>\n",
       "      <td>0</td>\n",
       "      <td>0</td>\n",
       "      <td>0</td>\n",
       "      <td>0</td>\n",
       "      <td>1</td>\n",
       "      <td>0</td>\n",
       "      <td>0</td>\n",
       "      <td>1</td>\n",
       "      <td>0.100</td>\n",
       "      <td>Oceania</td>\n",
       "      <td>No Prior Region</td>\n",
       "      <td>politics_govt_law</td>\n",
       "    </tr>\n",
       "    <tr>\n",
       "      <th>31561</th>\n",
       "      <td>, 72, American mathematician.</td>\n",
       "      <td>https://en.wikipedia.org/wiki/Peter_Montgomery_(mathematician)</td>\n",
       "      <td>6</td>\n",
       "      <td>2020</td>\n",
       "      <td>NaN</td>\n",
       "      <td>72.000</td>\n",
       "      <td>NaN</td>\n",
       "      <td>United States of America</td>\n",
       "      <td>NaN</td>\n",
       "      <td>1</td>\n",
       "      <td>0</td>\n",
       "      <td>0</td>\n",
       "      <td>0</td>\n",
       "      <td>0</td>\n",
       "      <td>0</td>\n",
       "      <td>0</td>\n",
       "      <td>0</td>\n",
       "      <td>0</td>\n",
       "      <td>0</td>\n",
       "      <td>0</td>\n",
       "      <td>1</td>\n",
       "      <td>0.167</td>\n",
       "      <td>North America</td>\n",
       "      <td>No Prior Region</td>\n",
       "      <td>sciences</td>\n",
       "    </tr>\n",
       "    <tr>\n",
       "      <th>60190</th>\n",
       "      <td>, 42, American yachtsman, paralympian gold medallist , Lou Gehrig's disease.</td>\n",
       "      <td>https://en.wikipedia.org/wiki/Nick_Scandone</td>\n",
       "      <td>3</td>\n",
       "      <td>2009</td>\n",
       "      <td>2008</td>\n",
       "      <td>42.000</td>\n",
       "      <td>Lou Gehrig disease</td>\n",
       "      <td>United States of America</td>\n",
       "      <td>NaN</td>\n",
       "      <td>0</td>\n",
       "      <td>0</td>\n",
       "      <td>0</td>\n",
       "      <td>0</td>\n",
       "      <td>0</td>\n",
       "      <td>0</td>\n",
       "      <td>1</td>\n",
       "      <td>0</td>\n",
       "      <td>0</td>\n",
       "      <td>0</td>\n",
       "      <td>0</td>\n",
       "      <td>1</td>\n",
       "      <td>0.333</td>\n",
       "      <td>North America</td>\n",
       "      <td>No Prior Region</td>\n",
       "      <td>sports</td>\n",
       "    </tr>\n",
       "  </tbody>\n",
       "</table>\n",
       "</div>"
      ],
      "text/plain": [
       "                                                                                 info  \\\n",
       "37194                                                         , 83, British linguist.   \n",
       "6141   , 87, Dutch Antillean politician, Prime Minister of the Netherlands Antilles .   \n",
       "6917               , 69, Australian politician, MP for Robertson , and judge, cancer.   \n",
       "31561                                                   , 72, American mathematician.   \n",
       "60190    , 42, American yachtsman, paralympian gold medallist , Lou Gehrig's disease.   \n",
       "\n",
       "                                                                     link  \\\n",
       "37194                 https://en.wikipedia.org/wiki/Roy_Harris_(linguist)   \n",
       "6141        https://en.wikipedia.org/wiki/Lucina_da_Costa_Gomez-Matheeuws   \n",
       "6917   https://en.wikipedia.org/wiki/Frank_Walker_(Australian_politician)   \n",
       "31561      https://en.wikipedia.org/wiki/Peter_Montgomery_(mathematician)   \n",
       "60190                         https://en.wikipedia.org/wiki/Nick_Scandone   \n",
       "\n",
       "       num_references  year info_parenth    age      cause_of_death  \\\n",
       "37194               5  2015          NaN 83.000                 NaN   \n",
       "6141                4  2017         1977 87.000                 NaN   \n",
       "6917               10  2012    1990 1996 69.000              cancer   \n",
       "31561               6  2020          NaN 72.000                 NaN   \n",
       "60190               3  2009         2008 42.000  Lou Gehrig disease   \n",
       "\n",
       "                                                    place_1 place_2  sciences  \\\n",
       "37194  United Kingdom of Great Britain and Northern Ireland     NaN         0   \n",
       "6141                                            Netherlands     NaN         0   \n",
       "6917                                              Australia     NaN         0   \n",
       "31561                              United States of America     NaN         1   \n",
       "60190                              United States of America     NaN         0   \n",
       "\n",
       "       social  spiritual  academia_humanities  business_farming  arts  sports  \\\n",
       "37194       0          0                    1                 0     0       0   \n",
       "6141        0          0                    0                 0     0       0   \n",
       "6917        0          0                    0                 0     0       0   \n",
       "31561       0          0                    0                 0     0       0   \n",
       "60190       0          0                    0                 0     0       1   \n",
       "\n",
       "       law_enf_military_operator  politics_govt_law  crime  \\\n",
       "37194                          0                  0      0   \n",
       "6141                           0                  1      0   \n",
       "6917                           0                  1      0   \n",
       "31561                          0                  0      0   \n",
       "60190                          0                  0      0   \n",
       "\n",
       "       event_record_other  num_categories  recip_num_references  \\\n",
       "37194                   0               1                 0.200   \n",
       "6141                    0               1                 0.250   \n",
       "6917                    0               1                 0.100   \n",
       "31561                   0               1                 0.167   \n",
       "60190                   0               1                 0.333   \n",
       "\n",
       "              region     prior_region            known_for  \n",
       "37194         Europe  No Prior Region  academia_humanities  \n",
       "6141          Europe  No Prior Region    politics_govt_law  \n",
       "6917         Oceania  No Prior Region    politics_govt_law  \n",
       "31561  North America  No Prior Region             sciences  \n",
       "60190  North America  No Prior Region               sports  "
      ]
     },
     "execution_count": 4,
     "metadata": {},
     "output_type": "execute_result"
    },
    {
     "data": {
      "application/javascript": [
       "\n",
       "            setTimeout(function() {\n",
       "                var nbb_cell_id = 4;\n",
       "                var nbb_unformatted_code = \"# Checking a sample of the data\\ndf.sample(5)\";\n",
       "                var nbb_formatted_code = \"# Checking a sample of the data\\ndf.sample(5)\";\n",
       "                var nbb_cells = Jupyter.notebook.get_cells();\n",
       "                for (var i = 0; i < nbb_cells.length; ++i) {\n",
       "                    if (nbb_cells[i].input_prompt_number == nbb_cell_id) {\n",
       "                        if (nbb_cells[i].get_text() == nbb_unformatted_code) {\n",
       "                             nbb_cells[i].set_text(nbb_formatted_code);\n",
       "                        }\n",
       "                        break;\n",
       "                    }\n",
       "                }\n",
       "            }, 500);\n",
       "            "
      ],
      "text/plain": [
       "<IPython.core.display.Javascript object>"
      ]
     },
     "metadata": {},
     "output_type": "display_data"
    }
   ],
   "source": [
    "# Checking a sample of the data\n",
    "df.sample(5)"
   ]
  },
  {
   "cell_type": "markdown",
   "id": "8d5f29da",
   "metadata": {},
   "source": [
    "### Checking Data Types and Null Values"
   ]
  },
  {
   "cell_type": "code",
   "execution_count": 5,
   "id": "bf505f87",
   "metadata": {},
   "outputs": [
    {
     "name": "stdout",
     "output_type": "stream",
     "text": [
      "<class 'pandas.core.frame.DataFrame'>\n",
      "RangeIndex: 78040 entries, 0 to 78039\n",
      "Data columns (total 25 columns):\n",
      " #   Column                     Non-Null Count  Dtype  \n",
      "---  ------                     --------------  -----  \n",
      " 0   info                       78040 non-null  object \n",
      " 1   link                       78040 non-null  object \n",
      " 2   num_references             78040 non-null  int64  \n",
      " 3   year                       78040 non-null  int64  \n",
      " 4   info_parenth               26884 non-null  object \n",
      " 5   age                        78040 non-null  float64\n",
      " 6   cause_of_death             26604 non-null  object \n",
      " 7   place_1                    77919 non-null  object \n",
      " 8   place_2                    4339 non-null   object \n",
      " 9   sciences                   78040 non-null  int64  \n",
      " 10  social                     78040 non-null  int64  \n",
      " 11  spiritual                  78040 non-null  int64  \n",
      " 12  academia_humanities        78040 non-null  int64  \n",
      " 13  business_farming           78040 non-null  int64  \n",
      " 14  arts                       78040 non-null  int64  \n",
      " 15  sports                     78040 non-null  int64  \n",
      " 16  law_enf_military_operator  78040 non-null  int64  \n",
      " 17  politics_govt_law          78040 non-null  int64  \n",
      " 18  crime                      78040 non-null  int64  \n",
      " 19  event_record_other         78040 non-null  int64  \n",
      " 20  num_categories             78040 non-null  int64  \n",
      " 21  recip_num_references       78040 non-null  float64\n",
      " 22  region                     77919 non-null  object \n",
      " 23  prior_region               78040 non-null  object \n",
      " 24  known_for                  78040 non-null  object \n",
      "dtypes: float64(2), int64(14), object(9)\n",
      "memory usage: 14.9+ MB\n"
     ]
    },
    {
     "data": {
      "application/javascript": [
       "\n",
       "            setTimeout(function() {\n",
       "                var nbb_cell_id = 5;\n",
       "                var nbb_unformatted_code = \"# Checking data types and null values\\ndf.info()\";\n",
       "                var nbb_formatted_code = \"# Checking data types and null values\\ndf.info()\";\n",
       "                var nbb_cells = Jupyter.notebook.get_cells();\n",
       "                for (var i = 0; i < nbb_cells.length; ++i) {\n",
       "                    if (nbb_cells[i].input_prompt_number == nbb_cell_id) {\n",
       "                        if (nbb_cells[i].get_text() == nbb_unformatted_code) {\n",
       "                             nbb_cells[i].set_text(nbb_formatted_code);\n",
       "                        }\n",
       "                        break;\n",
       "                    }\n",
       "                }\n",
       "            }, 500);\n",
       "            "
      ],
      "text/plain": [
       "<IPython.core.display.Javascript object>"
      ]
     },
     "metadata": {},
     "output_type": "display_data"
    }
   ],
   "source": [
    "# Checking data types and null values\n",
    "df.info()"
   ]
  },
  {
   "cell_type": "code",
   "execution_count": 6,
   "id": "957cc04a",
   "metadata": {},
   "outputs": [
    {
     "data": {
      "text/plain": [
       "info                             0\n",
       "link                             0\n",
       "num_references                   0\n",
       "year                             0\n",
       "info_parenth                 51156\n",
       "age                              0\n",
       "cause_of_death               51436\n",
       "place_1                        121\n",
       "place_2                      73701\n",
       "sciences                         0\n",
       "social                           0\n",
       "spiritual                        0\n",
       "academia_humanities              0\n",
       "business_farming                 0\n",
       "arts                             0\n",
       "sports                           0\n",
       "law_enf_military_operator        0\n",
       "politics_govt_law                0\n",
       "crime                            0\n",
       "event_record_other               0\n",
       "num_categories                   0\n",
       "recip_num_references             0\n",
       "region                         121\n",
       "prior_region                     0\n",
       "known_for                        0\n",
       "dtype: int64"
      ]
     },
     "execution_count": 6,
     "metadata": {},
     "output_type": "execute_result"
    },
    {
     "data": {
      "application/javascript": [
       "\n",
       "            setTimeout(function() {\n",
       "                var nbb_cell_id = 6;\n",
       "                var nbb_unformatted_code = \"# Checking sum of null values by column\\ndf.isnull().sum()\";\n",
       "                var nbb_formatted_code = \"# Checking sum of null values by column\\ndf.isnull().sum()\";\n",
       "                var nbb_cells = Jupyter.notebook.get_cells();\n",
       "                for (var i = 0; i < nbb_cells.length; ++i) {\n",
       "                    if (nbb_cells[i].input_prompt_number == nbb_cell_id) {\n",
       "                        if (nbb_cells[i].get_text() == nbb_unformatted_code) {\n",
       "                             nbb_cells[i].set_text(nbb_formatted_code);\n",
       "                        }\n",
       "                        break;\n",
       "                    }\n",
       "                }\n",
       "            }, 500);\n",
       "            "
      ],
      "text/plain": [
       "<IPython.core.display.Javascript object>"
      ]
     },
     "metadata": {},
     "output_type": "display_data"
    }
   ],
   "source": [
    "# Checking sum of null values by column\n",
    "df.isnull().sum()"
   ]
  },
  {
   "cell_type": "markdown",
   "id": "fe2b47d0",
   "metadata": {},
   "source": [
    "## Data Pre-processing\n",
    "- There are 78,040 rows and 25 columns in the training set.\n",
    "- We will need to typecast our categorical columns again.\n",
    "- At the outset, we can drop the following columns:\n",
    "    - `num_references`\n",
    "    - `cause_of_death`\n",
    "    - `place_1`\n",
    "    - `place_2`\n",
    "- We can also drop the entries with `event_record_other` as their sole `known for` category.\n",
    "- Let us convert `year` to elapsed `years`, equating 1994 with 0, and assigning the accumulated years.\n",
    "- We will make a decision regarding `known_for`, `num_categories`, and `known for` category columns and drop the extraneous columns after treatment.\n",
    "- After outlier detection is complete, we can drop `info`, `info_parenth`, and `link` columns.\n",
    "- The missing values for `region` will need treatment."
   ]
  },
  {
   "cell_type": "markdown",
   "id": "26290d1c",
   "metadata": {},
   "source": [
    "#### Dropping Unnecessary Columns"
   ]
  },
  {
   "cell_type": "code",
   "execution_count": 7,
   "id": "7557eb7f",
   "metadata": {},
   "outputs": [
    {
     "name": "stdout",
     "output_type": "stream",
     "text": [
      "There are 78040 rows and 21 columns.\n"
     ]
    },
    {
     "data": {
      "application/javascript": [
       "\n",
       "            setTimeout(function() {\n",
       "                var nbb_cell_id = 7;\n",
       "                var nbb_unformatted_code = \"# Dropping unnecessary columns\\ncols_to_drop = [\\\"num_references\\\", \\\"cause_of_death\\\", \\\"place_1\\\", \\\"place_2\\\"]\\ndf.drop(cols_to_drop, axis=1, inplace=True)\\n\\n# Checking new shape\\nprint(f\\\"There are {df.shape[0]} rows and {df.shape[1]} columns.\\\")\";\n",
       "                var nbb_formatted_code = \"# Dropping unnecessary columns\\ncols_to_drop = [\\\"num_references\\\", \\\"cause_of_death\\\", \\\"place_1\\\", \\\"place_2\\\"]\\ndf.drop(cols_to_drop, axis=1, inplace=True)\\n\\n# Checking new shape\\nprint(f\\\"There are {df.shape[0]} rows and {df.shape[1]} columns.\\\")\";\n",
       "                var nbb_cells = Jupyter.notebook.get_cells();\n",
       "                for (var i = 0; i < nbb_cells.length; ++i) {\n",
       "                    if (nbb_cells[i].input_prompt_number == nbb_cell_id) {\n",
       "                        if (nbb_cells[i].get_text() == nbb_unformatted_code) {\n",
       "                             nbb_cells[i].set_text(nbb_formatted_code);\n",
       "                        }\n",
       "                        break;\n",
       "                    }\n",
       "                }\n",
       "            }, 500);\n",
       "            "
      ],
      "text/plain": [
       "<IPython.core.display.Javascript object>"
      ]
     },
     "metadata": {},
     "output_type": "display_data"
    }
   ],
   "source": [
    "# Dropping unnecessary columns\n",
    "cols_to_drop = [\"num_references\", \"cause_of_death\", \"place_1\", \"place_2\"]\n",
    "df.drop(cols_to_drop, axis=1, inplace=True)\n",
    "\n",
    "# Checking new shape\n",
    "print(f\"There are {df.shape[0]} rows and {df.shape[1]} columns.\")"
   ]
  },
  {
   "cell_type": "markdown",
   "id": "26547b1a",
   "metadata": {},
   "source": [
    "#### Dropping Entries with `event_record_other` as Sole Category"
   ]
  },
  {
   "cell_type": "code",
   "execution_count": 8,
   "id": "cd72c5a8",
   "metadata": {},
   "outputs": [
    {
     "name": "stdout",
     "output_type": "stream",
     "text": [
      "There are 77662 rows and 21 columns.\n"
     ]
    },
    {
     "data": {
      "application/javascript": [
       "\n",
       "            setTimeout(function() {\n",
       "                var nbb_cell_id = 8;\n",
       "                var nbb_unformatted_code = \"# Dropping entries with event_record_other as sole category\\nindex = df[df[\\\"known_for\\\"] == \\\"event_record_other\\\"].index\\ndf.drop(index, inplace=True)\\ndf.reset_index(inplace=True, drop=True)\\n\\n# Check new shape\\nprint(f\\\"There are {df.shape[0]} rows and {df.shape[1]} columns.\\\")\";\n",
       "                var nbb_formatted_code = \"# Dropping entries with event_record_other as sole category\\nindex = df[df[\\\"known_for\\\"] == \\\"event_record_other\\\"].index\\ndf.drop(index, inplace=True)\\ndf.reset_index(inplace=True, drop=True)\\n\\n# Check new shape\\nprint(f\\\"There are {df.shape[0]} rows and {df.shape[1]} columns.\\\")\";\n",
       "                var nbb_cells = Jupyter.notebook.get_cells();\n",
       "                for (var i = 0; i < nbb_cells.length; ++i) {\n",
       "                    if (nbb_cells[i].input_prompt_number == nbb_cell_id) {\n",
       "                        if (nbb_cells[i].get_text() == nbb_unformatted_code) {\n",
       "                             nbb_cells[i].set_text(nbb_formatted_code);\n",
       "                        }\n",
       "                        break;\n",
       "                    }\n",
       "                }\n",
       "            }, 500);\n",
       "            "
      ],
      "text/plain": [
       "<IPython.core.display.Javascript object>"
      ]
     },
     "metadata": {},
     "output_type": "display_data"
    }
   ],
   "source": [
    "# Dropping entries with event_record_other as sole category\n",
    "index = df[df[\"known_for\"] == \"event_record_other\"].index\n",
    "df.drop(index, inplace=True)\n",
    "df.reset_index(inplace=True, drop=True)\n",
    "\n",
    "# Check new shape\n",
    "print(f\"There are {df.shape[0]} rows and {df.shape[1]} columns.\")"
   ]
  },
  {
   "cell_type": "markdown",
   "id": "12d5d60a",
   "metadata": {},
   "source": [
    "#### Typecasting Categorical Columns"
   ]
  },
  {
   "cell_type": "code",
   "execution_count": 9,
   "id": "e68ad931",
   "metadata": {},
   "outputs": [
    {
     "data": {
      "application/javascript": [
       "\n",
       "            setTimeout(function() {\n",
       "                var nbb_cell_id = 9;\n",
       "                var nbb_unformatted_code = \"# Typecasting categorical columns\\ncols_to_cast = [\\\"region\\\", \\\"prior_region\\\", \\\"known_for\\\"]\\ndf[cols_to_cast] = df[cols_to_cast].astype(\\\"category\\\")\";\n",
       "                var nbb_formatted_code = \"# Typecasting categorical columns\\ncols_to_cast = [\\\"region\\\", \\\"prior_region\\\", \\\"known_for\\\"]\\ndf[cols_to_cast] = df[cols_to_cast].astype(\\\"category\\\")\";\n",
       "                var nbb_cells = Jupyter.notebook.get_cells();\n",
       "                for (var i = 0; i < nbb_cells.length; ++i) {\n",
       "                    if (nbb_cells[i].input_prompt_number == nbb_cell_id) {\n",
       "                        if (nbb_cells[i].get_text() == nbb_unformatted_code) {\n",
       "                             nbb_cells[i].set_text(nbb_formatted_code);\n",
       "                        }\n",
       "                        break;\n",
       "                    }\n",
       "                }\n",
       "            }, 500);\n",
       "            "
      ],
      "text/plain": [
       "<IPython.core.display.Javascript object>"
      ]
     },
     "metadata": {},
     "output_type": "display_data"
    }
   ],
   "source": [
    "# Typecasting categorical columns\n",
    "cols_to_cast = [\"region\", \"prior_region\", \"known_for\"]\n",
    "df[cols_to_cast] = df[cols_to_cast].astype(\"category\")"
   ]
  },
  {
   "cell_type": "markdown",
   "id": "5b031bd7",
   "metadata": {},
   "source": [
    "#### Adding `years`"
   ]
  },
  {
   "cell_type": "code",
   "execution_count": 10,
   "id": "b9dad781",
   "metadata": {},
   "outputs": [
    {
     "data": {
      "text/html": [
       "<div>\n",
       "<style scoped>\n",
       "    .dataframe tbody tr th:only-of-type {\n",
       "        vertical-align: middle;\n",
       "    }\n",
       "\n",
       "    .dataframe tbody tr th {\n",
       "        vertical-align: top;\n",
       "    }\n",
       "\n",
       "    .dataframe thead th {\n",
       "        text-align: right;\n",
       "    }\n",
       "</style>\n",
       "<table border=\"1\" class=\"dataframe\">\n",
       "  <thead>\n",
       "    <tr style=\"text-align: right;\">\n",
       "      <th></th>\n",
       "      <th>info</th>\n",
       "      <th>link</th>\n",
       "      <th>year</th>\n",
       "      <th>info_parenth</th>\n",
       "      <th>age</th>\n",
       "      <th>sciences</th>\n",
       "      <th>social</th>\n",
       "      <th>spiritual</th>\n",
       "      <th>academia_humanities</th>\n",
       "      <th>business_farming</th>\n",
       "      <th>arts</th>\n",
       "      <th>sports</th>\n",
       "      <th>law_enf_military_operator</th>\n",
       "      <th>politics_govt_law</th>\n",
       "      <th>crime</th>\n",
       "      <th>event_record_other</th>\n",
       "      <th>num_categories</th>\n",
       "      <th>recip_num_references</th>\n",
       "      <th>region</th>\n",
       "      <th>prior_region</th>\n",
       "      <th>known_for</th>\n",
       "      <th>years</th>\n",
       "    </tr>\n",
       "  </thead>\n",
       "  <tbody>\n",
       "    <tr>\n",
       "      <th>68486</th>\n",
       "      <td>, 36, Scottish singer, songwriter and guitarist .</td>\n",
       "      <td>https://en.wikipedia.org/wiki/Scott_Hutchison</td>\n",
       "      <td>2018</td>\n",
       "      <td>Frightened Rabbit, Mastersystem, The Fruit Tree Foundation</td>\n",
       "      <td>36.000</td>\n",
       "      <td>0</td>\n",
       "      <td>0</td>\n",
       "      <td>0</td>\n",
       "      <td>0</td>\n",
       "      <td>0</td>\n",
       "      <td>1</td>\n",
       "      <td>0</td>\n",
       "      <td>0</td>\n",
       "      <td>0</td>\n",
       "      <td>0</td>\n",
       "      <td>0</td>\n",
       "      <td>1</td>\n",
       "      <td>0.017</td>\n",
       "      <td>Europe</td>\n",
       "      <td>No Prior Region</td>\n",
       "      <td>arts</td>\n",
       "      <td>24</td>\n",
       "    </tr>\n",
       "    <tr>\n",
       "      <th>68766</th>\n",
       "      <td>, 76, American actress, congestive heart failure and coronary artery disease.</td>\n",
       "      <td>https://en.wikipedia.org/wiki/Irene_Vernon</td>\n",
       "      <td>1998</td>\n",
       "      <td>NaN</td>\n",
       "      <td>76.000</td>\n",
       "      <td>0</td>\n",
       "      <td>0</td>\n",
       "      <td>0</td>\n",
       "      <td>0</td>\n",
       "      <td>0</td>\n",
       "      <td>1</td>\n",
       "      <td>0</td>\n",
       "      <td>0</td>\n",
       "      <td>0</td>\n",
       "      <td>0</td>\n",
       "      <td>0</td>\n",
       "      <td>1</td>\n",
       "      <td>0.250</td>\n",
       "      <td>North America</td>\n",
       "      <td>No Prior Region</td>\n",
       "      <td>arts</td>\n",
       "      <td>4</td>\n",
       "    </tr>\n",
       "  </tbody>\n",
       "</table>\n",
       "</div>"
      ],
      "text/plain": [
       "                                                                                info  \\\n",
       "68486                              , 36, Scottish singer, songwriter and guitarist .   \n",
       "68766  , 76, American actress, congestive heart failure and coronary artery disease.   \n",
       "\n",
       "                                                link  year  \\\n",
       "68486  https://en.wikipedia.org/wiki/Scott_Hutchison  2018   \n",
       "68766     https://en.wikipedia.org/wiki/Irene_Vernon  1998   \n",
       "\n",
       "                                                     info_parenth    age  \\\n",
       "68486  Frightened Rabbit, Mastersystem, The Fruit Tree Foundation 36.000   \n",
       "68766                                                         NaN 76.000   \n",
       "\n",
       "       sciences  social  spiritual  academia_humanities  business_farming  \\\n",
       "68486         0       0          0                    0                 0   \n",
       "68766         0       0          0                    0                 0   \n",
       "\n",
       "       arts  sports  law_enf_military_operator  politics_govt_law  crime  \\\n",
       "68486     1       0                          0                  0      0   \n",
       "68766     1       0                          0                  0      0   \n",
       "\n",
       "       event_record_other  num_categories  recip_num_references  \\\n",
       "68486                   0               1                 0.017   \n",
       "68766                   0               1                 0.250   \n",
       "\n",
       "              region     prior_region known_for  years  \n",
       "68486         Europe  No Prior Region      arts     24  \n",
       "68766  North America  No Prior Region      arts      4  "
      ]
     },
     "execution_count": 10,
     "metadata": {},
     "output_type": "execute_result"
    },
    {
     "data": {
      "application/javascript": [
       "\n",
       "            setTimeout(function() {\n",
       "                var nbb_cell_id = 10;\n",
       "                var nbb_unformatted_code = \"# Adding years_elapsed column\\ndf[\\\"years\\\"] = df[\\\"year\\\"].apply(lambda x: x - 1994)\\n\\n# Checking a sample\\ndf.sample(2)\";\n",
       "                var nbb_formatted_code = \"# Adding years_elapsed column\\ndf[\\\"years\\\"] = df[\\\"year\\\"].apply(lambda x: x - 1994)\\n\\n# Checking a sample\\ndf.sample(2)\";\n",
       "                var nbb_cells = Jupyter.notebook.get_cells();\n",
       "                for (var i = 0; i < nbb_cells.length; ++i) {\n",
       "                    if (nbb_cells[i].input_prompt_number == nbb_cell_id) {\n",
       "                        if (nbb_cells[i].get_text() == nbb_unformatted_code) {\n",
       "                             nbb_cells[i].set_text(nbb_formatted_code);\n",
       "                        }\n",
       "                        break;\n",
       "                    }\n",
       "                }\n",
       "            }, 500);\n",
       "            "
      ],
      "text/plain": [
       "<IPython.core.display.Javascript object>"
      ]
     },
     "metadata": {},
     "output_type": "display_data"
    }
   ],
   "source": [
    "# Adding years_elapsed column\n",
    "df[\"years\"] = df[\"year\"].apply(lambda x: x - 1994)\n",
    "\n",
    "# Checking a sample\n",
    "df.sample(2)"
   ]
  },
  {
   "cell_type": "markdown",
   "id": "e90e9569",
   "metadata": {},
   "source": [
    "#### Dropping `year`"
   ]
  },
  {
   "cell_type": "code",
   "execution_count": 11,
   "id": "c2baa2f0",
   "metadata": {},
   "outputs": [
    {
     "data": {
      "application/javascript": [
       "\n",
       "            setTimeout(function() {\n",
       "                var nbb_cell_id = 11;\n",
       "                var nbb_unformatted_code = \"# Dropping year column\\ndf.drop(\\\"year\\\", axis=1, inplace=True)\";\n",
       "                var nbb_formatted_code = \"# Dropping year column\\ndf.drop(\\\"year\\\", axis=1, inplace=True)\";\n",
       "                var nbb_cells = Jupyter.notebook.get_cells();\n",
       "                for (var i = 0; i < nbb_cells.length; ++i) {\n",
       "                    if (nbb_cells[i].input_prompt_number == nbb_cell_id) {\n",
       "                        if (nbb_cells[i].get_text() == nbb_unformatted_code) {\n",
       "                             nbb_cells[i].set_text(nbb_formatted_code);\n",
       "                        }\n",
       "                        break;\n",
       "                    }\n",
       "                }\n",
       "            }, 500);\n",
       "            "
      ],
      "text/plain": [
       "<IPython.core.display.Javascript object>"
      ]
     },
     "metadata": {},
     "output_type": "display_data"
    }
   ],
   "source": [
    "# Dropping year column\n",
    "df.drop(\"year\", axis=1, inplace=True)"
   ]
  },
  {
   "cell_type": "markdown",
   "id": "efca7a46",
   "metadata": {},
   "source": [
    "### Treating `known for` Category Columns\n",
    "We will take the approach of directly treating the individual `known for` category columns, and dropping the combined `known_for` column added during EDA.\n",
    "\n",
    "We will replace each value with its value divided by then entries total `num_categories`.  So, the resulting `num_categories` for any individual will equal 1.  Entries with multiple categories will have evenly split values for their respective `known for` categories.  Strictly speaking, it's not feasible to accurately assign proportions of these categories, which is why the approach of creating a single `known_for` column was applied during EDA, with additional categories for individuals with multiple categories.  The thought process here is that relatively more information is lost with that approach than noise will be introduced with equal division between categories."
   ]
  },
  {
   "cell_type": "markdown",
   "id": "02af6601",
   "metadata": {},
   "source": [
    "#### Dividing `known for` Category Column Value by `num_categories`"
   ]
  },
  {
   "cell_type": "code",
   "execution_count": 12,
   "id": "37152f97",
   "metadata": {},
   "outputs": [
    {
     "name": "stdout",
     "output_type": "stream",
     "text": [
      "Unique values in num_categories:\n",
      "\n",
      " 1.000    77662\n",
      "Name: num_categories, dtype: int64\n"
     ]
    },
    {
     "data": {
      "text/html": [
       "<div>\n",
       "<style scoped>\n",
       "    .dataframe tbody tr th:only-of-type {\n",
       "        vertical-align: middle;\n",
       "    }\n",
       "\n",
       "    .dataframe tbody tr th {\n",
       "        vertical-align: top;\n",
       "    }\n",
       "\n",
       "    .dataframe thead th {\n",
       "        text-align: right;\n",
       "    }\n",
       "</style>\n",
       "<table border=\"1\" class=\"dataframe\">\n",
       "  <thead>\n",
       "    <tr style=\"text-align: right;\">\n",
       "      <th></th>\n",
       "      <th>info</th>\n",
       "      <th>link</th>\n",
       "      <th>info_parenth</th>\n",
       "      <th>age</th>\n",
       "      <th>sciences</th>\n",
       "      <th>social</th>\n",
       "      <th>spiritual</th>\n",
       "      <th>academia_humanities</th>\n",
       "      <th>business_farming</th>\n",
       "      <th>arts</th>\n",
       "      <th>sports</th>\n",
       "      <th>law_enf_military_operator</th>\n",
       "      <th>politics_govt_law</th>\n",
       "      <th>crime</th>\n",
       "      <th>event_record_other</th>\n",
       "      <th>num_categories</th>\n",
       "      <th>recip_num_references</th>\n",
       "      <th>region</th>\n",
       "      <th>prior_region</th>\n",
       "      <th>known_for</th>\n",
       "      <th>years</th>\n",
       "    </tr>\n",
       "  </thead>\n",
       "  <tbody>\n",
       "    <tr>\n",
       "      <th>3444</th>\n",
       "      <td>, 80, American artist, pulmonary embolism.</td>\n",
       "      <td>https://en.wikipedia.org/wiki/Brigid_Berlin</td>\n",
       "      <td>NaN</td>\n",
       "      <td>80.000</td>\n",
       "      <td>0.000</td>\n",
       "      <td>0.000</td>\n",
       "      <td>0.000</td>\n",
       "      <td>0.000</td>\n",
       "      <td>0.000</td>\n",
       "      <td>1.000</td>\n",
       "      <td>0.000</td>\n",
       "      <td>0.000</td>\n",
       "      <td>0.000</td>\n",
       "      <td>0.000</td>\n",
       "      <td>0.000</td>\n",
       "      <td>1.000</td>\n",
       "      <td>0.042</td>\n",
       "      <td>North America</td>\n",
       "      <td>No Prior Region</td>\n",
       "      <td>arts</td>\n",
       "      <td>26</td>\n",
       "    </tr>\n",
       "    <tr>\n",
       "      <th>16223</th>\n",
       "      <td>, 33, Russian military officer, participant in the War in Donbass, IED explosion.</td>\n",
       "      <td>https://en.wikipedia.org/wiki/Arsen_Pavlov</td>\n",
       "      <td>NaN</td>\n",
       "      <td>33.000</td>\n",
       "      <td>0.000</td>\n",
       "      <td>0.000</td>\n",
       "      <td>0.000</td>\n",
       "      <td>0.000</td>\n",
       "      <td>0.000</td>\n",
       "      <td>0.000</td>\n",
       "      <td>0.000</td>\n",
       "      <td>1.000</td>\n",
       "      <td>0.000</td>\n",
       "      <td>0.000</td>\n",
       "      <td>0.000</td>\n",
       "      <td>1.000</td>\n",
       "      <td>0.026</td>\n",
       "      <td>Russian Federation</td>\n",
       "      <td>No Prior Region</td>\n",
       "      <td>law_enf_military_operator</td>\n",
       "      <td>22</td>\n",
       "    </tr>\n",
       "  </tbody>\n",
       "</table>\n",
       "</div>"
      ],
      "text/plain": [
       "                                                                                    info  \\\n",
       "3444                                          , 80, American artist, pulmonary embolism.   \n",
       "16223  , 33, Russian military officer, participant in the War in Donbass, IED explosion.   \n",
       "\n",
       "                                              link info_parenth    age  \\\n",
       "3444   https://en.wikipedia.org/wiki/Brigid_Berlin          NaN 80.000   \n",
       "16223   https://en.wikipedia.org/wiki/Arsen_Pavlov          NaN 33.000   \n",
       "\n",
       "       sciences  social  spiritual  academia_humanities  business_farming  \\\n",
       "3444      0.000   0.000      0.000                0.000             0.000   \n",
       "16223     0.000   0.000      0.000                0.000             0.000   \n",
       "\n",
       "       arts  sports  law_enf_military_operator  politics_govt_law  crime  \\\n",
       "3444  1.000   0.000                      0.000              0.000  0.000   \n",
       "16223 0.000   0.000                      1.000              0.000  0.000   \n",
       "\n",
       "       event_record_other  num_categories  recip_num_references  \\\n",
       "3444                0.000           1.000                 0.042   \n",
       "16223               0.000           1.000                 0.026   \n",
       "\n",
       "                   region     prior_region                  known_for  years  \n",
       "3444        North America  No Prior Region                       arts     26  \n",
       "16223  Russian Federation  No Prior Region  law_enf_military_operator     22  "
      ]
     },
     "execution_count": 12,
     "metadata": {},
     "output_type": "execute_result"
    },
    {
     "data": {
      "application/javascript": [
       "\n",
       "            setTimeout(function() {\n",
       "                var nbb_cell_id = 12;\n",
       "                var nbb_unformatted_code = \"# Replacing known for category column values with value/num_categories\\ncategory_cols = [\\n    \\\"sciences\\\",\\n    \\\"social\\\",\\n    \\\"spiritual\\\",\\n    \\\"academia_humanities\\\",\\n    \\\"business_farming\\\",\\n    \\\"arts\\\",\\n    \\\"sports\\\",\\n    \\\"law_enf_military_operator\\\",\\n    \\\"politics_govt_law\\\",\\n    \\\"crime\\\",\\n    \\\"event_record_other\\\",\\n]\\n\\n# For loop to calculate new known for value for entries with multiple categories\\nfor column in category_cols:\\n    for index in df[\\n        (df[\\\"known_for\\\"] == \\\"three_to_five\\\") | (df[\\\"known_for\\\"] == \\\"two\\\")\\n    ].index:\\n        value = df.loc[index, column]\\n        total = df.loc[index, \\\"num_categories\\\"]\\n        df.loc[index, column] = value / total\\n\\n# Updating num_references column\\ndf[\\\"num_categories\\\"] = df[category_cols].sum(axis=1)\\n\\n# Checking unique values in num_categories\\nprint(\\\"Unique values in num_categories:\\\\n\\\\n\\\", df[\\\"num_categories\\\"].value_counts())\\n\\n# Checking a sample of rows\\ndf.sample(2)\";\n",
       "                var nbb_formatted_code = \"# Replacing known for category column values with value/num_categories\\ncategory_cols = [\\n    \\\"sciences\\\",\\n    \\\"social\\\",\\n    \\\"spiritual\\\",\\n    \\\"academia_humanities\\\",\\n    \\\"business_farming\\\",\\n    \\\"arts\\\",\\n    \\\"sports\\\",\\n    \\\"law_enf_military_operator\\\",\\n    \\\"politics_govt_law\\\",\\n    \\\"crime\\\",\\n    \\\"event_record_other\\\",\\n]\\n\\n# For loop to calculate new known for value for entries with multiple categories\\nfor column in category_cols:\\n    for index in df[\\n        (df[\\\"known_for\\\"] == \\\"three_to_five\\\") | (df[\\\"known_for\\\"] == \\\"two\\\")\\n    ].index:\\n        value = df.loc[index, column]\\n        total = df.loc[index, \\\"num_categories\\\"]\\n        df.loc[index, column] = value / total\\n\\n# Updating num_references column\\ndf[\\\"num_categories\\\"] = df[category_cols].sum(axis=1)\\n\\n# Checking unique values in num_categories\\nprint(\\\"Unique values in num_categories:\\\\n\\\\n\\\", df[\\\"num_categories\\\"].value_counts())\\n\\n# Checking a sample of rows\\ndf.sample(2)\";\n",
       "                var nbb_cells = Jupyter.notebook.get_cells();\n",
       "                for (var i = 0; i < nbb_cells.length; ++i) {\n",
       "                    if (nbb_cells[i].input_prompt_number == nbb_cell_id) {\n",
       "                        if (nbb_cells[i].get_text() == nbb_unformatted_code) {\n",
       "                             nbb_cells[i].set_text(nbb_formatted_code);\n",
       "                        }\n",
       "                        break;\n",
       "                    }\n",
       "                }\n",
       "            }, 500);\n",
       "            "
      ],
      "text/plain": [
       "<IPython.core.display.Javascript object>"
      ]
     },
     "metadata": {},
     "output_type": "display_data"
    }
   ],
   "source": [
    "# Replacing known for category column values with value/num_categories\n",
    "category_cols = [\n",
    "    \"sciences\",\n",
    "    \"social\",\n",
    "    \"spiritual\",\n",
    "    \"academia_humanities\",\n",
    "    \"business_farming\",\n",
    "    \"arts\",\n",
    "    \"sports\",\n",
    "    \"law_enf_military_operator\",\n",
    "    \"politics_govt_law\",\n",
    "    \"crime\",\n",
    "    \"event_record_other\",\n",
    "]\n",
    "\n",
    "# For loop to calculate new known for value for entries with multiple categories\n",
    "for column in category_cols:\n",
    "    for index in df[\n",
    "        (df[\"known_for\"] == \"three_to_five\") | (df[\"known_for\"] == \"two\")\n",
    "    ].index:\n",
    "        value = df.loc[index, column]\n",
    "        total = df.loc[index, \"num_categories\"]\n",
    "        df.loc[index, column] = value / total\n",
    "\n",
    "# Updating num_references column\n",
    "df[\"num_categories\"] = df[category_cols].sum(axis=1)\n",
    "\n",
    "# Checking unique values in num_categories\n",
    "print(\"Unique values in num_categories:\\n\\n\", df[\"num_categories\"].value_counts())\n",
    "\n",
    "# Checking a sample of rows\n",
    "df.sample(2)"
   ]
  },
  {
   "cell_type": "markdown",
   "id": "21a3e3fc",
   "metadata": {},
   "source": [
    "#### Observations:\n",
    "- With the updated `known for` category column values, we can proceed to drop `num_categories`."
   ]
  },
  {
   "cell_type": "markdown",
   "id": "85566095",
   "metadata": {},
   "source": [
    "#### Dropping `num_categories` and `known_for`"
   ]
  },
  {
   "cell_type": "code",
   "execution_count": 13,
   "id": "13f9d1d1",
   "metadata": {},
   "outputs": [
    {
     "name": "stdout",
     "output_type": "stream",
     "text": [
      "There are 77662 rows and 19 columns.\n"
     ]
    },
    {
     "data": {
      "application/javascript": [
       "\n",
       "            setTimeout(function() {\n",
       "                var nbb_cell_id = 13;\n",
       "                var nbb_unformatted_code = \"# Dropping num_categories and known-for columns\\ncols_to_drop = [\\\"num_categories\\\", \\\"known_for\\\"]\\ndf.drop(cols_to_drop, axis=1, inplace=True)\\n\\n# Check new shape\\nprint(f\\\"There are {df.shape[0]} rows and {df.shape[1]} columns.\\\")\";\n",
       "                var nbb_formatted_code = \"# Dropping num_categories and known-for columns\\ncols_to_drop = [\\\"num_categories\\\", \\\"known_for\\\"]\\ndf.drop(cols_to_drop, axis=1, inplace=True)\\n\\n# Check new shape\\nprint(f\\\"There are {df.shape[0]} rows and {df.shape[1]} columns.\\\")\";\n",
       "                var nbb_cells = Jupyter.notebook.get_cells();\n",
       "                for (var i = 0; i < nbb_cells.length; ++i) {\n",
       "                    if (nbb_cells[i].input_prompt_number == nbb_cell_id) {\n",
       "                        if (nbb_cells[i].get_text() == nbb_unformatted_code) {\n",
       "                             nbb_cells[i].set_text(nbb_formatted_code);\n",
       "                        }\n",
       "                        break;\n",
       "                    }\n",
       "                }\n",
       "            }, 500);\n",
       "            "
      ],
      "text/plain": [
       "<IPython.core.display.Javascript object>"
      ]
     },
     "metadata": {},
     "output_type": "display_data"
    }
   ],
   "source": [
    "# Dropping num_categories and known-for columns\n",
    "cols_to_drop = [\"num_categories\", \"known_for\"]\n",
    "df.drop(cols_to_drop, axis=1, inplace=True)\n",
    "\n",
    "# Check new shape\n",
    "print(f\"There are {df.shape[0]} rows and {df.shape[1]} columns.\")"
   ]
  },
  {
   "cell_type": "markdown",
   "id": "b89e52cf",
   "metadata": {},
   "source": [
    "#### Confirming Updated Columns"
   ]
  },
  {
   "cell_type": "code",
   "execution_count": 14,
   "id": "e2383034",
   "metadata": {},
   "outputs": [
    {
     "name": "stdout",
     "output_type": "stream",
     "text": [
      "<class 'pandas.core.frame.DataFrame'>\n",
      "RangeIndex: 77662 entries, 0 to 77661\n",
      "Data columns (total 19 columns):\n",
      " #   Column                     Non-Null Count  Dtype   \n",
      "---  ------                     --------------  -----   \n",
      " 0   info                       77662 non-null  object  \n",
      " 1   link                       77662 non-null  object  \n",
      " 2   info_parenth               26865 non-null  object  \n",
      " 3   age                        77662 non-null  float64 \n",
      " 4   sciences                   77662 non-null  float64 \n",
      " 5   social                     77662 non-null  float64 \n",
      " 6   spiritual                  77662 non-null  float64 \n",
      " 7   academia_humanities        77662 non-null  float64 \n",
      " 8   business_farming           77662 non-null  float64 \n",
      " 9   arts                       77662 non-null  float64 \n",
      " 10  sports                     77662 non-null  float64 \n",
      " 11  law_enf_military_operator  77662 non-null  float64 \n",
      " 12  politics_govt_law          77662 non-null  float64 \n",
      " 13  crime                      77662 non-null  float64 \n",
      " 14  event_record_other         77662 non-null  float64 \n",
      " 15  recip_num_references       77662 non-null  float64 \n",
      " 16  region                     77546 non-null  category\n",
      " 17  prior_region               77662 non-null  category\n",
      " 18  years                      77662 non-null  int64   \n",
      "dtypes: category(2), float64(13), int64(1), object(3)\n",
      "memory usage: 10.2+ MB\n"
     ]
    },
    {
     "data": {
      "application/javascript": [
       "\n",
       "            setTimeout(function() {\n",
       "                var nbb_cell_id = 14;\n",
       "                var nbb_unformatted_code = \"# Recheck info\\ndf.info()\";\n",
       "                var nbb_formatted_code = \"# Recheck info\\ndf.info()\";\n",
       "                var nbb_cells = Jupyter.notebook.get_cells();\n",
       "                for (var i = 0; i < nbb_cells.length; ++i) {\n",
       "                    if (nbb_cells[i].input_prompt_number == nbb_cell_id) {\n",
       "                        if (nbb_cells[i].get_text() == nbb_unformatted_code) {\n",
       "                             nbb_cells[i].set_text(nbb_formatted_code);\n",
       "                        }\n",
       "                        break;\n",
       "                    }\n",
       "                }\n",
       "            }, 500);\n",
       "            "
      ],
      "text/plain": [
       "<IPython.core.display.Javascript object>"
      ]
     },
     "metadata": {},
     "output_type": "display_data"
    }
   ],
   "source": [
    "# Recheck info\n",
    "df.info()"
   ]
  },
  {
   "cell_type": "markdown",
   "id": "82e011c3",
   "metadata": {},
   "source": [
    "## Outlier Detection and Treatment"
   ]
  },
  {
   "cell_type": "markdown",
   "id": "06f48557",
   "metadata": {},
   "source": [
    "#### Function to View Outliers for Each Predictor Column"
   ]
  },
  {
   "cell_type": "code",
   "execution_count": 15,
   "id": "d7cb21c0",
   "metadata": {},
   "outputs": [
    {
     "data": {
      "application/javascript": [
       "\n",
       "            setTimeout(function() {\n",
       "                var nbb_cell_id = 15;\n",
       "                var nbb_unformatted_code = \"# Define a function that returns new dataframe of count and percentage of outliers of input dataframe columns\\ndef outside_IQRends_pls1pt5(dataframe):\\n    \\\"\\\"\\\"\\n    Takes input numeric dataframe and returns a dataframe of the column count \\n    and percentage of values that are outliers, defined by \\n    x < (Q1 - 1.5*IQR) \\u222a (Q3 + 1.5*IQR) > x, where x is the value of the outlier.\\n\\n    \\\"\\\"\\\"\\n    count_lst = []\\n    perc_lst = []\\n\\n    for column in dataframe:\\n        Q1 = dataframe[column].quantile(0.25)\\n        Q3 = dataframe[column].quantile(0.75)\\n        IQR = Q3 - Q1\\n        lower_whisker = Q1 - 1.5 * IQR\\n        upper_whisker = Q3 + 1.5 * IQR\\n\\n        count = len(\\n            dataframe[\\n                (dataframe[column] < lower_whisker)\\n                | (dataframe[column] > upper_whisker)\\n            ]\\n        )\\n        percentage = round(count / len(dataframe[column]) * 100, 2)\\n\\n        count_lst.append(count)\\n        perc_lst.append(percentage)\\n\\n    outlier_dict = {\\\"outlier_count\\\": count_lst, \\\"percentage_outliers\\\": perc_lst}\\n\\n    return pd.DataFrame(data=outlier_dict, index=dataframe.columns).sort_values(\\n        by=\\\"outlier_count\\\", ascending=False\\n    )\";\n",
       "                var nbb_formatted_code = \"# Define a function that returns new dataframe of count and percentage of outliers of input dataframe columns\\ndef outside_IQRends_pls1pt5(dataframe):\\n    \\\"\\\"\\\"\\n    Takes input numeric dataframe and returns a dataframe of the column count \\n    and percentage of values that are outliers, defined by \\n    x < (Q1 - 1.5*IQR) \\u222a (Q3 + 1.5*IQR) > x, where x is the value of the outlier.\\n\\n    \\\"\\\"\\\"\\n    count_lst = []\\n    perc_lst = []\\n\\n    for column in dataframe:\\n        Q1 = dataframe[column].quantile(0.25)\\n        Q3 = dataframe[column].quantile(0.75)\\n        IQR = Q3 - Q1\\n        lower_whisker = Q1 - 1.5 * IQR\\n        upper_whisker = Q3 + 1.5 * IQR\\n\\n        count = len(\\n            dataframe[\\n                (dataframe[column] < lower_whisker)\\n                | (dataframe[column] > upper_whisker)\\n            ]\\n        )\\n        percentage = round(count / len(dataframe[column]) * 100, 2)\\n\\n        count_lst.append(count)\\n        perc_lst.append(percentage)\\n\\n    outlier_dict = {\\\"outlier_count\\\": count_lst, \\\"percentage_outliers\\\": perc_lst}\\n\\n    return pd.DataFrame(data=outlier_dict, index=dataframe.columns).sort_values(\\n        by=\\\"outlier_count\\\", ascending=False\\n    )\";\n",
       "                var nbb_cells = Jupyter.notebook.get_cells();\n",
       "                for (var i = 0; i < nbb_cells.length; ++i) {\n",
       "                    if (nbb_cells[i].input_prompt_number == nbb_cell_id) {\n",
       "                        if (nbb_cells[i].get_text() == nbb_unformatted_code) {\n",
       "                             nbb_cells[i].set_text(nbb_formatted_code);\n",
       "                        }\n",
       "                        break;\n",
       "                    }\n",
       "                }\n",
       "            }, 500);\n",
       "            "
      ],
      "text/plain": [
       "<IPython.core.display.Javascript object>"
      ]
     },
     "metadata": {},
     "output_type": "display_data"
    }
   ],
   "source": [
    "# Define a function that returns new dataframe of count and percentage of outliers of input dataframe columns\n",
    "def outside_IQRends_pls1pt5(dataframe):\n",
    "    \"\"\"\n",
    "    Takes input numeric dataframe and returns a dataframe of the column count \n",
    "    and percentage of values that are outliers, defined by \n",
    "    x < (Q1 - 1.5*IQR) ∪ (Q3 + 1.5*IQR) > x, where x is the value of the outlier.\n",
    "\n",
    "    \"\"\"\n",
    "    count_lst = []\n",
    "    perc_lst = []\n",
    "\n",
    "    for column in dataframe:\n",
    "        Q1 = dataframe[column].quantile(0.25)\n",
    "        Q3 = dataframe[column].quantile(0.75)\n",
    "        IQR = Q3 - Q1\n",
    "        lower_whisker = Q1 - 1.5 * IQR\n",
    "        upper_whisker = Q3 + 1.5 * IQR\n",
    "\n",
    "        count = len(\n",
    "            dataframe[\n",
    "                (dataframe[column] < lower_whisker)\n",
    "                | (dataframe[column] > upper_whisker)\n",
    "            ]\n",
    "        )\n",
    "        percentage = round(count / len(dataframe[column]) * 100, 2)\n",
    "\n",
    "        count_lst.append(count)\n",
    "        perc_lst.append(percentage)\n",
    "\n",
    "    outlier_dict = {\"outlier_count\": count_lst, \"percentage_outliers\": perc_lst}\n",
    "\n",
    "    return pd.DataFrame(data=outlier_dict, index=dataframe.columns).sort_values(\n",
    "        by=\"outlier_count\", ascending=False\n",
    "    )"
   ]
  },
  {
   "cell_type": "markdown",
   "id": "10eda386",
   "metadata": {},
   "source": [
    "#### Visualization of outliers"
   ]
  },
  {
   "cell_type": "code",
   "execution_count": 16,
   "id": "feaaed4e",
   "metadata": {
    "scrolled": false
   },
   "outputs": [
    {
     "data": {
      "image/png": "[encoded data removed]",
      "text/plain": [
       "<Figure size 1440x576 with 3 Axes>"
      ]
     },
     "metadata": {},
     "output_type": "display_data"
    },
    {
     "data": {
      "text/html": [
       "<div>\n",
       "<style scoped>\n",
       "    .dataframe tbody tr th:only-of-type {\n",
       "        vertical-align: middle;\n",
       "    }\n",
       "\n",
       "    .dataframe tbody tr th {\n",
       "        vertical-align: top;\n",
       "    }\n",
       "\n",
       "    .dataframe thead th {\n",
       "        text-align: right;\n",
       "    }\n",
       "</style>\n",
       "<table border=\"1\" class=\"dataframe\">\n",
       "  <thead>\n",
       "    <tr style=\"text-align: right;\">\n",
       "      <th></th>\n",
       "      <th>outlier_count</th>\n",
       "      <th>percentage_outliers</th>\n",
       "    </tr>\n",
       "  </thead>\n",
       "  <tbody>\n",
       "    <tr>\n",
       "      <th>age</th>\n",
       "      <td>3096</td>\n",
       "      <td>3.990</td>\n",
       "    </tr>\n",
       "    <tr>\n",
       "      <th>recip_num_references</th>\n",
       "      <td>0</td>\n",
       "      <td>0.000</td>\n",
       "    </tr>\n",
       "    <tr>\n",
       "      <th>years</th>\n",
       "      <td>0</td>\n",
       "      <td>0.000</td>\n",
       "    </tr>\n",
       "  </tbody>\n",
       "</table>\n",
       "</div>"
      ],
      "text/plain": [
       "                      outlier_count  percentage_outliers\n",
       "age                            3096                3.990\n",
       "recip_num_references              0                0.000\n",
       "years                             0                0.000"
      ]
     },
     "execution_count": 16,
     "metadata": {},
     "output_type": "execute_result"
    },
    {
     "data": {
      "application/javascript": [
       "\n",
       "            setTimeout(function() {\n",
       "                var nbb_cell_id = 16;\n",
       "                var nbb_unformatted_code = \"# Boxplots of numerical features to view outliers\\ndf[[\\\"age\\\", \\\"recip_num_references\\\", \\\"years\\\"]].plot.box(\\n    subplots=True, figsize=(20, 8), layout=(1, 3)\\n)\\nplt.show()\\n\\n# Outliers outside of IQR ends +/- 1.5 * IQR for each numerical column\\noutside_IQRends_pls1pt5(df[[\\\"age\\\", \\\"recip_num_references\\\", \\\"years\\\"]])\";\n",
       "                var nbb_formatted_code = \"# Boxplots of numerical features to view outliers\\ndf[[\\\"age\\\", \\\"recip_num_references\\\", \\\"years\\\"]].plot.box(\\n    subplots=True, figsize=(20, 8), layout=(1, 3)\\n)\\nplt.show()\\n\\n# Outliers outside of IQR ends +/- 1.5 * IQR for each numerical column\\noutside_IQRends_pls1pt5(df[[\\\"age\\\", \\\"recip_num_references\\\", \\\"years\\\"]])\";\n",
       "                var nbb_cells = Jupyter.notebook.get_cells();\n",
       "                for (var i = 0; i < nbb_cells.length; ++i) {\n",
       "                    if (nbb_cells[i].input_prompt_number == nbb_cell_id) {\n",
       "                        if (nbb_cells[i].get_text() == nbb_unformatted_code) {\n",
       "                             nbb_cells[i].set_text(nbb_formatted_code);\n",
       "                        }\n",
       "                        break;\n",
       "                    }\n",
       "                }\n",
       "            }, 500);\n",
       "            "
      ],
      "text/plain": [
       "<IPython.core.display.Javascript object>"
      ]
     },
     "metadata": {},
     "output_type": "display_data"
    }
   ],
   "source": [
    "# Boxplots of numerical features to view outliers\n",
    "df[[\"age\", \"recip_num_references\", \"years\"]].plot.box(\n",
    "    subplots=True, figsize=(20, 8), layout=(1, 3)\n",
    ")\n",
    "plt.show()\n",
    "\n",
    "# Outliers outside of IQR ends +/- 1.5 * IQR for each numerical column\n",
    "outside_IQRends_pls1pt5(df[[\"age\", \"recip_num_references\", \"years\"]])"
   ]
  },
  {
   "cell_type": "markdown",
   "id": "bb77df2f",
   "metadata": {},
   "source": [
    "#### Observations:\n",
    "- Our numeric predictors do not have any outliers.  Recall that `recip_num_references` is already a multiplicative inverse ransformation.\n",
    "- The target, `age`, has at least one upper-end outlier and numerous lower-end outliers.\n",
    "- In general, we would not treat the target's outliers.  However, the two most extreme values, one on either end, are worth examining more closely as they don't follow the trend of the data."
   ]
  },
  {
   "cell_type": "markdown",
   "id": "fa5cbe22",
   "metadata": {},
   "source": [
    "#### Examining the Most Extreme Values for Target `age`"
   ]
  },
  {
   "cell_type": "code",
   "execution_count": 17,
   "id": "ef719f63",
   "metadata": {},
   "outputs": [
    {
     "data": {
      "text/html": [
       "<div>\n",
       "<style scoped>\n",
       "    .dataframe tbody tr th:only-of-type {\n",
       "        vertical-align: middle;\n",
       "    }\n",
       "\n",
       "    .dataframe tbody tr th {\n",
       "        vertical-align: top;\n",
       "    }\n",
       "\n",
       "    .dataframe thead th {\n",
       "        text-align: right;\n",
       "    }\n",
       "</style>\n",
       "<table border=\"1\" class=\"dataframe\">\n",
       "  <thead>\n",
       "    <tr style=\"text-align: right;\">\n",
       "      <th></th>\n",
       "      <th>info</th>\n",
       "      <th>link</th>\n",
       "      <th>info_parenth</th>\n",
       "      <th>age</th>\n",
       "      <th>sciences</th>\n",
       "      <th>social</th>\n",
       "      <th>spiritual</th>\n",
       "      <th>academia_humanities</th>\n",
       "      <th>business_farming</th>\n",
       "      <th>arts</th>\n",
       "      <th>sports</th>\n",
       "      <th>law_enf_military_operator</th>\n",
       "      <th>politics_govt_law</th>\n",
       "      <th>crime</th>\n",
       "      <th>event_record_other</th>\n",
       "      <th>recip_num_references</th>\n",
       "      <th>region</th>\n",
       "      <th>prior_region</th>\n",
       "      <th>years</th>\n",
       "    </tr>\n",
       "  </thead>\n",
       "  <tbody>\n",
       "    <tr>\n",
       "      <th>45752</th>\n",
       "      <td>, 6, American child beauty queen, asphyxia by strangulation and craniocerebral trauma.</td>\n",
       "      <td>https://en.wikipedia.org/wiki/Killing_of_JonBen%C3%A9t_Ramsey</td>\n",
       "      <td>NaN</td>\n",
       "      <td>6.000</td>\n",
       "      <td>0.000</td>\n",
       "      <td>0.000</td>\n",
       "      <td>0.000</td>\n",
       "      <td>0.000</td>\n",
       "      <td>0.000</td>\n",
       "      <td>1.000</td>\n",
       "      <td>0.000</td>\n",
       "      <td>0.000</td>\n",
       "      <td>0.000</td>\n",
       "      <td>0.000</td>\n",
       "      <td>0.000</td>\n",
       "      <td>0.009</td>\n",
       "      <td>North America</td>\n",
       "      <td>No Prior Region</td>\n",
       "      <td>2</td>\n",
       "    </tr>\n",
       "    <tr>\n",
       "      <th>47182</th>\n",
       "      <td>, 122 .</td>\n",
       "      <td>https://en.wikipedia.org/wiki/Sudhakar_Chaturvedi</td>\n",
       "      <td>claimed, Indian Vedic scholar and courier Mahatma Gandhi</td>\n",
       "      <td>122.000</td>\n",
       "      <td>0.000</td>\n",
       "      <td>0.000</td>\n",
       "      <td>0.000</td>\n",
       "      <td>0.500</td>\n",
       "      <td>0.000</td>\n",
       "      <td>0.000</td>\n",
       "      <td>0.000</td>\n",
       "      <td>0.000</td>\n",
       "      <td>0.500</td>\n",
       "      <td>0.000</td>\n",
       "      <td>0.000</td>\n",
       "      <td>0.027</td>\n",
       "      <td>Asia</td>\n",
       "      <td>No Prior Region</td>\n",
       "      <td>26</td>\n",
       "    </tr>\n",
       "  </tbody>\n",
       "</table>\n",
       "</div>"
      ],
      "text/plain": [
       "                                                                                         info  \\\n",
       "45752  , 6, American child beauty queen, asphyxia by strangulation and craniocerebral trauma.   \n",
       "47182                                                                                 , 122 .   \n",
       "\n",
       "                                                                link  \\\n",
       "45752  https://en.wikipedia.org/wiki/Killing_of_JonBen%C3%A9t_Ramsey   \n",
       "47182              https://en.wikipedia.org/wiki/Sudhakar_Chaturvedi   \n",
       "\n",
       "                                                   info_parenth     age  \\\n",
       "45752                                                       NaN   6.000   \n",
       "47182  claimed, Indian Vedic scholar and courier Mahatma Gandhi 122.000   \n",
       "\n",
       "       sciences  social  spiritual  academia_humanities  business_farming  \\\n",
       "45752     0.000   0.000      0.000                0.000             0.000   \n",
       "47182     0.000   0.000      0.000                0.500             0.000   \n",
       "\n",
       "       arts  sports  law_enf_military_operator  politics_govt_law  crime  \\\n",
       "45752 1.000   0.000                      0.000              0.000  0.000   \n",
       "47182 0.000   0.000                      0.000              0.500  0.000   \n",
       "\n",
       "       event_record_other  recip_num_references         region  \\\n",
       "45752               0.000                 0.009  North America   \n",
       "47182               0.000                 0.027           Asia   \n",
       "\n",
       "          prior_region  years  \n",
       "45752  No Prior Region      2  \n",
       "47182  No Prior Region     26  "
      ]
     },
     "execution_count": 17,
     "metadata": {},
     "output_type": "execute_result"
    },
    {
     "data": {
      "application/javascript": [
       "\n",
       "            setTimeout(function() {\n",
       "                var nbb_cell_id = 17;\n",
       "                var nbb_unformatted_code = \"df[(df[\\\"age\\\"] > 120) | (df[\\\"age\\\"] < 7)]\";\n",
       "                var nbb_formatted_code = \"df[(df[\\\"age\\\"] > 120) | (df[\\\"age\\\"] < 7)]\";\n",
       "                var nbb_cells = Jupyter.notebook.get_cells();\n",
       "                for (var i = 0; i < nbb_cells.length; ++i) {\n",
       "                    if (nbb_cells[i].input_prompt_number == nbb_cell_id) {\n",
       "                        if (nbb_cells[i].get_text() == nbb_unformatted_code) {\n",
       "                             nbb_cells[i].set_text(nbb_formatted_code);\n",
       "                        }\n",
       "                        break;\n",
       "                    }\n",
       "                }\n",
       "            }, 500);\n",
       "            "
      ],
      "text/plain": [
       "<IPython.core.display.Javascript object>"
      ]
     },
     "metadata": {},
     "output_type": "display_data"
    }
   ],
   "source": [
    "df[(df[\"age\"] > 120) | (df[\"age\"] < 7)]"
   ]
  },
  {
   "cell_type": "markdown",
   "id": "ebcfcfee",
   "metadata": {},
   "source": [
    "#### Observations:\n",
    "- We will drop the lower end outlier as the entry is more correctly categorized solely as `event_record_other`.  It is unlikely the individual would have been known if not for the manner of her death.\n",
    "- In contrast, we will keep the upper-end outlier, who was noteworthy in life beyond his exceptional age alone."
   ]
  },
  {
   "cell_type": "markdown",
   "id": "c9f865f7",
   "metadata": {},
   "source": [
    "#### Dropping Lower-end Outlier for `age`"
   ]
  },
  {
   "cell_type": "code",
   "execution_count": 18,
   "id": "84a338b4",
   "metadata": {},
   "outputs": [
    {
     "data": {
      "application/javascript": [
       "\n",
       "            setTimeout(function() {\n",
       "                var nbb_cell_id = 18;\n",
       "                var nbb_unformatted_code = \"# Dropping single entry with lowest age\\nindex = df[\\n    df[\\\"link\\\"] == \\\"https://en.wikipedia.org/wiki/Killing_of_JonBen%C3%A9t_Ramsey\\\"\\n].index\\ndf.drop(index, inplace=True)\\ndf.reset_index(inplace=True, drop=True)\";\n",
       "                var nbb_formatted_code = \"# Dropping single entry with lowest age\\nindex = df[\\n    df[\\\"link\\\"] == \\\"https://en.wikipedia.org/wiki/Killing_of_JonBen%C3%A9t_Ramsey\\\"\\n].index\\ndf.drop(index, inplace=True)\\ndf.reset_index(inplace=True, drop=True)\";\n",
       "                var nbb_cells = Jupyter.notebook.get_cells();\n",
       "                for (var i = 0; i < nbb_cells.length; ++i) {\n",
       "                    if (nbb_cells[i].input_prompt_number == nbb_cell_id) {\n",
       "                        if (nbb_cells[i].get_text() == nbb_unformatted_code) {\n",
       "                             nbb_cells[i].set_text(nbb_formatted_code);\n",
       "                        }\n",
       "                        break;\n",
       "                    }\n",
       "                }\n",
       "            }, 500);\n",
       "            "
      ],
      "text/plain": [
       "<IPython.core.display.Javascript object>"
      ]
     },
     "metadata": {},
     "output_type": "display_data"
    }
   ],
   "source": [
    "# Dropping single entry with lowest age\n",
    "index = df[\n",
    "    df[\"link\"] == \"https://en.wikipedia.org/wiki/Killing_of_JonBen%C3%A9t_Ramsey\"\n",
    "].index\n",
    "df.drop(index, inplace=True)\n",
    "df.reset_index(inplace=True, drop=True)"
   ]
  },
  {
   "cell_type": "markdown",
   "id": "9a9b17cb",
   "metadata": {},
   "source": [
    "#### Visualization of Outliers after Treatment"
   ]
  },
  {
   "cell_type": "code",
   "execution_count": 19,
   "id": "14047694",
   "metadata": {
    "scrolled": false
   },
   "outputs": [
    {
     "data": {
      "image/png": "[encoded data removed]",
      "text/plain": [
       "<Figure size 1440x576 with 3 Axes>"
      ]
     },
     "metadata": {},
     "output_type": "display_data"
    },
    {
     "data": {
      "text/html": [
       "<div>\n",
       "<style scoped>\n",
       "    .dataframe tbody tr th:only-of-type {\n",
       "        vertical-align: middle;\n",
       "    }\n",
       "\n",
       "    .dataframe tbody tr th {\n",
       "        vertical-align: top;\n",
       "    }\n",
       "\n",
       "    .dataframe thead th {\n",
       "        text-align: right;\n",
       "    }\n",
       "</style>\n",
       "<table border=\"1\" class=\"dataframe\">\n",
       "  <thead>\n",
       "    <tr style=\"text-align: right;\">\n",
       "      <th></th>\n",
       "      <th>outlier_count</th>\n",
       "      <th>percentage_outliers</th>\n",
       "    </tr>\n",
       "  </thead>\n",
       "  <tbody>\n",
       "    <tr>\n",
       "      <th>age</th>\n",
       "      <td>3095</td>\n",
       "      <td>3.990</td>\n",
       "    </tr>\n",
       "    <tr>\n",
       "      <th>recip_num_references</th>\n",
       "      <td>0</td>\n",
       "      <td>0.000</td>\n",
       "    </tr>\n",
       "    <tr>\n",
       "      <th>years</th>\n",
       "      <td>0</td>\n",
       "      <td>0.000</td>\n",
       "    </tr>\n",
       "  </tbody>\n",
       "</table>\n",
       "</div>"
      ],
      "text/plain": [
       "                      outlier_count  percentage_outliers\n",
       "age                            3095                3.990\n",
       "recip_num_references              0                0.000\n",
       "years                             0                0.000"
      ]
     },
     "execution_count": 19,
     "metadata": {},
     "output_type": "execute_result"
    },
    {
     "data": {
      "application/javascript": [
       "\n",
       "            setTimeout(function() {\n",
       "                var nbb_cell_id = 19;\n",
       "                var nbb_unformatted_code = \"# Boxplots of numerical features to view outliers\\ndf[[\\\"age\\\", \\\"recip_num_references\\\", \\\"years\\\"]].plot.box(\\n    subplots=True, figsize=(20, 8), layout=(1, 3)\\n)\\nplt.show()\\n\\n# Outliers outside of IQR ends +/- 1.5 * IQR for each numerical column\\noutside_IQRends_pls1pt5(df[[\\\"age\\\", \\\"recip_num_references\\\", \\\"years\\\"]])\";\n",
       "                var nbb_formatted_code = \"# Boxplots of numerical features to view outliers\\ndf[[\\\"age\\\", \\\"recip_num_references\\\", \\\"years\\\"]].plot.box(\\n    subplots=True, figsize=(20, 8), layout=(1, 3)\\n)\\nplt.show()\\n\\n# Outliers outside of IQR ends +/- 1.5 * IQR for each numerical column\\noutside_IQRends_pls1pt5(df[[\\\"age\\\", \\\"recip_num_references\\\", \\\"years\\\"]])\";\n",
       "                var nbb_cells = Jupyter.notebook.get_cells();\n",
       "                for (var i = 0; i < nbb_cells.length; ++i) {\n",
       "                    if (nbb_cells[i].input_prompt_number == nbb_cell_id) {\n",
       "                        if (nbb_cells[i].get_text() == nbb_unformatted_code) {\n",
       "                             nbb_cells[i].set_text(nbb_formatted_code);\n",
       "                        }\n",
       "                        break;\n",
       "                    }\n",
       "                }\n",
       "            }, 500);\n",
       "            "
      ],
      "text/plain": [
       "<IPython.core.display.Javascript object>"
      ]
     },
     "metadata": {},
     "output_type": "display_data"
    }
   ],
   "source": [
    "# Boxplots of numerical features to view outliers\n",
    "df[[\"age\", \"recip_num_references\", \"years\"]].plot.box(\n",
    "    subplots=True, figsize=(20, 8), layout=(1, 3)\n",
    ")\n",
    "plt.show()\n",
    "\n",
    "# Outliers outside of IQR ends +/- 1.5 * IQR for each numerical column\n",
    "outside_IQRends_pls1pt5(df[[\"age\", \"recip_num_references\", \"years\"]])"
   ]
  },
  {
   "cell_type": "markdown",
   "id": "217e50f0",
   "metadata": {},
   "source": [
    "#### Dropping `info`, `info_parenth`, and `link`"
   ]
  },
  {
   "cell_type": "code",
   "execution_count": 20,
   "id": "63024dd2",
   "metadata": {},
   "outputs": [
    {
     "name": "stdout",
     "output_type": "stream",
     "text": [
      "There are 77661 rows and 16 columns.\n"
     ]
    },
    {
     "data": {
      "application/javascript": [
       "\n",
       "            setTimeout(function() {\n",
       "                var nbb_cell_id = 20;\n",
       "                var nbb_unformatted_code = \"# Dropping info, info_parenth, and link\\ncols_to_drop = [\\\"info\\\", \\\"info_parenth\\\", \\\"link\\\"]\\ndf.drop(cols_to_drop, axis=1, inplace=True)\\n\\n# Re-check shape\\nprint(f\\\"There are {df.shape[0]} rows and {df.shape[1]} columns.\\\")\";\n",
       "                var nbb_formatted_code = \"# Dropping info, info_parenth, and link\\ncols_to_drop = [\\\"info\\\", \\\"info_parenth\\\", \\\"link\\\"]\\ndf.drop(cols_to_drop, axis=1, inplace=True)\\n\\n# Re-check shape\\nprint(f\\\"There are {df.shape[0]} rows and {df.shape[1]} columns.\\\")\";\n",
       "                var nbb_cells = Jupyter.notebook.get_cells();\n",
       "                for (var i = 0; i < nbb_cells.length; ++i) {\n",
       "                    if (nbb_cells[i].input_prompt_number == nbb_cell_id) {\n",
       "                        if (nbb_cells[i].get_text() == nbb_unformatted_code) {\n",
       "                             nbb_cells[i].set_text(nbb_formatted_code);\n",
       "                        }\n",
       "                        break;\n",
       "                    }\n",
       "                }\n",
       "            }, 500);\n",
       "            "
      ],
      "text/plain": [
       "<IPython.core.display.Javascript object>"
      ]
     },
     "metadata": {},
     "output_type": "display_data"
    }
   ],
   "source": [
    "# Dropping info, info_parenth, and link\n",
    "cols_to_drop = [\"info\", \"info_parenth\", \"link\"]\n",
    "df.drop(cols_to_drop, axis=1, inplace=True)\n",
    "\n",
    "# Re-check shape\n",
    "print(f\"There are {df.shape[0]} rows and {df.shape[1]} columns.\")"
   ]
  },
  {
   "cell_type": "markdown",
   "id": "72e49e67",
   "metadata": {},
   "source": [
    "#### Checking Remaining Columns"
   ]
  },
  {
   "cell_type": "code",
   "execution_count": 21,
   "id": "f3202f1d",
   "metadata": {},
   "outputs": [
    {
     "name": "stdout",
     "output_type": "stream",
     "text": [
      "<class 'pandas.core.frame.DataFrame'>\n",
      "RangeIndex: 77661 entries, 0 to 77660\n",
      "Data columns (total 16 columns):\n",
      " #   Column                     Non-Null Count  Dtype   \n",
      "---  ------                     --------------  -----   \n",
      " 0   age                        77661 non-null  float64 \n",
      " 1   sciences                   77661 non-null  float64 \n",
      " 2   social                     77661 non-null  float64 \n",
      " 3   spiritual                  77661 non-null  float64 \n",
      " 4   academia_humanities        77661 non-null  float64 \n",
      " 5   business_farming           77661 non-null  float64 \n",
      " 6   arts                       77661 non-null  float64 \n",
      " 7   sports                     77661 non-null  float64 \n",
      " 8   law_enf_military_operator  77661 non-null  float64 \n",
      " 9   politics_govt_law          77661 non-null  float64 \n",
      " 10  crime                      77661 non-null  float64 \n",
      " 11  event_record_other         77661 non-null  float64 \n",
      " 12  recip_num_references       77661 non-null  float64 \n",
      " 13  region                     77545 non-null  category\n",
      " 14  prior_region               77661 non-null  category\n",
      " 15  years                      77661 non-null  int64   \n",
      "dtypes: category(2), float64(13), int64(1)\n",
      "memory usage: 8.4 MB\n"
     ]
    },
    {
     "data": {
      "application/javascript": [
       "\n",
       "            setTimeout(function() {\n",
       "                var nbb_cell_id = 21;\n",
       "                var nbb_unformatted_code = \"# Checking remaining columns\\ndf.info()\";\n",
       "                var nbb_formatted_code = \"# Checking remaining columns\\ndf.info()\";\n",
       "                var nbb_cells = Jupyter.notebook.get_cells();\n",
       "                for (var i = 0; i < nbb_cells.length; ++i) {\n",
       "                    if (nbb_cells[i].input_prompt_number == nbb_cell_id) {\n",
       "                        if (nbb_cells[i].get_text() == nbb_unformatted_code) {\n",
       "                             nbb_cells[i].set_text(nbb_formatted_code);\n",
       "                        }\n",
       "                        break;\n",
       "                    }\n",
       "                }\n",
       "            }, 500);\n",
       "            "
      ],
      "text/plain": [
       "<IPython.core.display.Javascript object>"
      ]
     },
     "metadata": {},
     "output_type": "display_data"
    }
   ],
   "source": [
    "# Checking remaining columns\n",
    "df.info()"
   ]
  },
  {
   "cell_type": "markdown",
   "id": "b73ffed4",
   "metadata": {},
   "source": [
    "#### Observations:\n",
    "- We are finished with the outliers and have dropped `info`, `info_parenth`, and `link` columns and are down to our target variable and the 15 predictors that we will retain for modeling.\n",
    "- After briefly revisiting EDA, we will proceed to treat missing values."
   ]
  },
  {
   "cell_type": "markdown",
   "id": "6eba0e9d",
   "metadata": {},
   "source": [
    "## EDA Revisited"
   ]
  },
  {
   "cell_type": "markdown",
   "id": "d5ce8c18",
   "metadata": {},
   "source": [
    "### Correlation"
   ]
  },
  {
   "cell_type": "code",
   "execution_count": 22,
   "id": "eb324ad6",
   "metadata": {},
   "outputs": [
    {
     "data": {
      "image/png": "[encoded data removed]",
      "text/plain": [
       "<Figure size 1008x864 with 2 Axes>"
      ]
     },
     "metadata": {},
     "output_type": "display_data"
    },
    {
     "data": {
      "application/javascript": [
       "\n",
       "            setTimeout(function() {\n",
       "                var nbb_cell_id = 22;\n",
       "                var nbb_unformatted_code = \"# Pairplot of numerical features\\nplt.figure(figsize=(14, 12))\\ncorr = df.corr()\\nmask = np.triu(np.ones_like(corr, dtype=bool))\\nsns.heatmap(\\n    corr,\\n    annot=True,\\n    fmt=(\\\".2f\\\"),\\n    annot_kws={\\\"size\\\": 14},\\n    cmap=\\\"BrBG\\\",\\n    vmin=-1,\\n    vmax=1,\\n    mask=mask,\\n    linewidth=1,\\n)\\nplt.show()\";\n",
       "                var nbb_formatted_code = \"# Pairplot of numerical features\\nplt.figure(figsize=(14, 12))\\ncorr = df.corr()\\nmask = np.triu(np.ones_like(corr, dtype=bool))\\nsns.heatmap(\\n    corr,\\n    annot=True,\\n    fmt=(\\\".2f\\\"),\\n    annot_kws={\\\"size\\\": 14},\\n    cmap=\\\"BrBG\\\",\\n    vmin=-1,\\n    vmax=1,\\n    mask=mask,\\n    linewidth=1,\\n)\\nplt.show()\";\n",
       "                var nbb_cells = Jupyter.notebook.get_cells();\n",
       "                for (var i = 0; i < nbb_cells.length; ++i) {\n",
       "                    if (nbb_cells[i].input_prompt_number == nbb_cell_id) {\n",
       "                        if (nbb_cells[i].get_text() == nbb_unformatted_code) {\n",
       "                             nbb_cells[i].set_text(nbb_formatted_code);\n",
       "                        }\n",
       "                        break;\n",
       "                    }\n",
       "                }\n",
       "            }, 500);\n",
       "            "
      ],
      "text/plain": [
       "<IPython.core.display.Javascript object>"
      ]
     },
     "metadata": {},
     "output_type": "display_data"
    }
   ],
   "source": [
    "# Pairplot of numerical features\n",
    "plt.figure(figsize=(14, 12))\n",
    "corr = df.corr()\n",
    "mask = np.triu(np.ones_like(corr, dtype=bool))\n",
    "sns.heatmap(\n",
    "    corr,\n",
    "    annot=True,\n",
    "    fmt=(\".2f\"),\n",
    "    annot_kws={\"size\": 14},\n",
    "    cmap=\"BrBG\",\n",
    "    vmin=-1,\n",
    "    vmax=1,\n",
    "    mask=mask,\n",
    "    linewidth=1,\n",
    ")\n",
    "plt.show()"
   ]
  },
  {
   "cell_type": "markdown",
   "id": "f7d26758",
   "metadata": {},
   "source": [
    "#### Observations:\n",
    "- We see little to no correlation with any individual numeric predictor and our target, `age`, which is not ideal for predictive modeling.  However, we do anticipate stronger relationships with the target with the predictors in combination.\n",
    "- Conversely, the predictors overall show little correlation between each other, which is beneficial for modeling.\n",
    "- The negative correlations between `arts` and `sports`(moderate), `arts` and `politics_govt_law` (moderate), and `sports` and `politics_govt_law` (mild) are comparable to those before treatment.\n",
    "-  Compared to the same portion of the initial EDA correlation heatmap, there is more color intensity here, including with the `age` column.  Correlations have overall intensified with treatment, albeit slightly.\n",
    "- Next, we will revisit the `known for` categories vs `region`."
   ]
  },
  {
   "cell_type": "markdown",
   "id": "68eccf22",
   "metadata": {},
   "source": [
    "### `region` vs ` known for` Category"
   ]
  },
  {
   "cell_type": "code",
   "execution_count": 23,
   "id": "e69a82cb",
   "metadata": {},
   "outputs": [
    {
     "data": {
      "image/png": "[encoded data removed]",
      "text/plain": [
       "<Figure size 1080x864 with 2 Axes>"
      ]
     },
     "metadata": {},
     "output_type": "display_data"
    },
    {
     "data": {
      "application/javascript": [
       "\n",
       "            setTimeout(function() {\n",
       "                var nbb_cell_id = 23;\n",
       "                var nbb_unformatted_code = \"cols = [\\n    \\\"sciences\\\",\\n    \\\"social\\\",\\n    \\\"spiritual\\\",\\n    \\\"academia_humanities\\\",\\n    \\\"business_farming\\\",\\n    \\\"arts\\\",\\n    \\\"sports\\\",\\n    \\\"law_enf_military_operator\\\",\\n    \\\"politics_govt_law\\\",\\n    \\\"crime\\\",\\n    \\\"event_record_other\\\",\\n    \\\"region\\\",\\n]\\nplt.figure(figsize=(15, 12))\\nsns.heatmap(\\n    df[cols].pivot_table(index=\\\"region\\\"),\\n    annot=True,\\n    fmt=\\\".2f\\\",\\n    cmap=\\\"YlGnBu\\\",\\n    linecolor=\\\"darkgray\\\",\\n    linewidth=2,\\n)\\nplt.title(\\\"Mean known for Category Values by region\\\")\\nplt.show()\";\n",
       "                var nbb_formatted_code = \"cols = [\\n    \\\"sciences\\\",\\n    \\\"social\\\",\\n    \\\"spiritual\\\",\\n    \\\"academia_humanities\\\",\\n    \\\"business_farming\\\",\\n    \\\"arts\\\",\\n    \\\"sports\\\",\\n    \\\"law_enf_military_operator\\\",\\n    \\\"politics_govt_law\\\",\\n    \\\"crime\\\",\\n    \\\"event_record_other\\\",\\n    \\\"region\\\",\\n]\\nplt.figure(figsize=(15, 12))\\nsns.heatmap(\\n    df[cols].pivot_table(index=\\\"region\\\"),\\n    annot=True,\\n    fmt=\\\".2f\\\",\\n    cmap=\\\"YlGnBu\\\",\\n    linecolor=\\\"darkgray\\\",\\n    linewidth=2,\\n)\\nplt.title(\\\"Mean known for Category Values by region\\\")\\nplt.show()\";\n",
       "                var nbb_cells = Jupyter.notebook.get_cells();\n",
       "                for (var i = 0; i < nbb_cells.length; ++i) {\n",
       "                    if (nbb_cells[i].input_prompt_number == nbb_cell_id) {\n",
       "                        if (nbb_cells[i].get_text() == nbb_unformatted_code) {\n",
       "                             nbb_cells[i].set_text(nbb_formatted_code);\n",
       "                        }\n",
       "                        break;\n",
       "                    }\n",
       "                }\n",
       "            }, 500);\n",
       "            "
      ],
      "text/plain": [
       "<IPython.core.display.Javascript object>"
      ]
     },
     "metadata": {},
     "output_type": "display_data"
    }
   ],
   "source": [
    "cols = [\n",
    "    \"sciences\",\n",
    "    \"social\",\n",
    "    \"spiritual\",\n",
    "    \"academia_humanities\",\n",
    "    \"business_farming\",\n",
    "    \"arts\",\n",
    "    \"sports\",\n",
    "    \"law_enf_military_operator\",\n",
    "    \"politics_govt_law\",\n",
    "    \"crime\",\n",
    "    \"event_record_other\",\n",
    "    \"region\",\n",
    "]\n",
    "plt.figure(figsize=(15, 12))\n",
    "sns.heatmap(\n",
    "    df[cols].pivot_table(index=\"region\"),\n",
    "    annot=True,\n",
    "    fmt=\".2f\",\n",
    "    cmap=\"YlGnBu\",\n",
    "    linecolor=\"darkgray\",\n",
    "    linewidth=2,\n",
    ")\n",
    "plt.title(\"Mean known for Category Values by region\")\n",
    "plt.show()"
   ]
  },
  {
   "cell_type": "markdown",
   "id": "132a3247",
   "metadata": {},
   "source": [
    "#### Observations:\n",
    "- This heatmap is analogous to the comparison during initial EDA, but the comparison is generated from different direction.\n",
    "- Here, we see the mean treated values for the `known for` category columns by `region`.\n",
    "- If there were no relationship between `region` and `known for` category, we would expect the values and colors within a column to be consistent.\n",
    "- In general, they are consistent, but we see increased variation for `politics_govt_law`, `sports`, and `arts`, indicative of some dependency.\n",
    "- As such, we will group entries based on `known for`, to determine the mode of the respective groups to use for imputation of missing values."
   ]
  },
  {
   "cell_type": "markdown",
   "id": "9c79f2a9",
   "metadata": {},
   "source": [
    "## Missing Values\n",
    "There is only the one column, `region`, to treat.  However, we will proceed with the exercise of programmatically assessing missing values for any column.  \n",
    "\n",
    "If an entry has only one `known for` category, we will group it by its category and impute the missing values for `region` with the mode of the group.  Entries with multiple `known for` categories will have imputation of missing values using the column mode."
   ]
  },
  {
   "cell_type": "markdown",
   "id": "a165c254",
   "metadata": {},
   "source": [
    "### Imputation of Missing Values"
   ]
  },
  {
   "cell_type": "markdown",
   "id": "aa6044a6",
   "metadata": {},
   "source": [
    "#### Function to Return Columns with Missing Values and Their Missing Value Counts"
   ]
  },
  {
   "cell_type": "code",
   "execution_count": 24,
   "id": "5d8901e0",
   "metadata": {},
   "outputs": [
    {
     "data": {
      "application/javascript": [
       "\n",
       "            setTimeout(function() {\n",
       "                var nbb_cell_id = 24;\n",
       "                var nbb_unformatted_code = \"# Define a function to return Series of columns of dataframe with null values and their null value counts\\ndef null_count_4col(dataframe):\\n    \\\"\\\"\\\"\\n    Takes input dataframe and returns Series of columns with missing values and their missing value counts\\n    \\\"\\\"\\\"\\n    null_cols = dataframe.isnull().sum()[df.isnull().sum() > 0].index.to_list()\\n    if len(null_cols) > 0:\\n        return dataframe[null_cols].isnull().sum()\\n    else:\\n        print(\\n            f\\\"There are {dataframe.isnull().sum().sum()} remaining missing values in the dataframe.\\\"\\n        )\";\n",
       "                var nbb_formatted_code = \"# Define a function to return Series of columns of dataframe with null values and their null value counts\\ndef null_count_4col(dataframe):\\n    \\\"\\\"\\\"\\n    Takes input dataframe and returns Series of columns with missing values and their missing value counts\\n    \\\"\\\"\\\"\\n    null_cols = dataframe.isnull().sum()[df.isnull().sum() > 0].index.to_list()\\n    if len(null_cols) > 0:\\n        return dataframe[null_cols].isnull().sum()\\n    else:\\n        print(\\n            f\\\"There are {dataframe.isnull().sum().sum()} remaining missing values in the dataframe.\\\"\\n        )\";\n",
       "                var nbb_cells = Jupyter.notebook.get_cells();\n",
       "                for (var i = 0; i < nbb_cells.length; ++i) {\n",
       "                    if (nbb_cells[i].input_prompt_number == nbb_cell_id) {\n",
       "                        if (nbb_cells[i].get_text() == nbb_unformatted_code) {\n",
       "                             nbb_cells[i].set_text(nbb_formatted_code);\n",
       "                        }\n",
       "                        break;\n",
       "                    }\n",
       "                }\n",
       "            }, 500);\n",
       "            "
      ],
      "text/plain": [
       "<IPython.core.display.Javascript object>"
      ]
     },
     "metadata": {},
     "output_type": "display_data"
    }
   ],
   "source": [
    "# Define a function to return Series of columns of dataframe with null values and their null value counts\n",
    "def null_count_4col(dataframe):\n",
    "    \"\"\"\n",
    "    Takes input dataframe and returns Series of columns with missing values and their missing value counts\n",
    "    \"\"\"\n",
    "    null_cols = dataframe.isnull().sum()[df.isnull().sum() > 0].index.to_list()\n",
    "    if len(null_cols) > 0:\n",
    "        return dataframe[null_cols].isnull().sum()\n",
    "    else:\n",
    "        print(\n",
    "            f\"There are {dataframe.isnull().sum().sum()} remaining missing values in the dataframe.\"\n",
    "        )"
   ]
  },
  {
   "cell_type": "markdown",
   "id": "336e3e46",
   "metadata": {},
   "source": [
    "#### Function to Make a List of Column Names with Missing Values"
   ]
  },
  {
   "cell_type": "code",
   "execution_count": 25,
   "id": "66265263",
   "metadata": {},
   "outputs": [
    {
     "data": {
      "application/javascript": [
       "\n",
       "            setTimeout(function() {\n",
       "                var nbb_cell_id = 25;\n",
       "                var nbb_unformatted_code = \"# Define a function to create list of columns with missing values\\ndef null_cols(dataframe):\\n    \\\"\\\"\\\"\\n    Takes input dataframe and returns list of column names that contain null values\\n    \\\"\\\"\\\"\\n    null_cols = dataframe.isnull().sum()[dataframe.isnull().sum() > 0].index.to_list()\\n    return null_cols\";\n",
       "                var nbb_formatted_code = \"# Define a function to create list of columns with missing values\\ndef null_cols(dataframe):\\n    \\\"\\\"\\\"\\n    Takes input dataframe and returns list of column names that contain null values\\n    \\\"\\\"\\\"\\n    null_cols = dataframe.isnull().sum()[dataframe.isnull().sum() > 0].index.to_list()\\n    return null_cols\";\n",
       "                var nbb_cells = Jupyter.notebook.get_cells();\n",
       "                for (var i = 0; i < nbb_cells.length; ++i) {\n",
       "                    if (nbb_cells[i].input_prompt_number == nbb_cell_id) {\n",
       "                        if (nbb_cells[i].get_text() == nbb_unformatted_code) {\n",
       "                             nbb_cells[i].set_text(nbb_formatted_code);\n",
       "                        }\n",
       "                        break;\n",
       "                    }\n",
       "                }\n",
       "            }, 500);\n",
       "            "
      ],
      "text/plain": [
       "<IPython.core.display.Javascript object>"
      ]
     },
     "metadata": {},
     "output_type": "display_data"
    }
   ],
   "source": [
    "# Define a function to create list of columns with missing values\n",
    "def null_cols(dataframe):\n",
    "    \"\"\"\n",
    "    Takes input dataframe and returns list of column names that contain null values\n",
    "    \"\"\"\n",
    "    null_cols = dataframe.isnull().sum()[dataframe.isnull().sum() > 0].index.to_list()\n",
    "    return null_cols"
   ]
  },
  {
   "cell_type": "markdown",
   "id": "d1c6cf38",
   "metadata": {},
   "source": [
    "#### Missing Values Before Treatment"
   ]
  },
  {
   "cell_type": "code",
   "execution_count": 26,
   "id": "6d6f4dc0",
   "metadata": {},
   "outputs": [
    {
     "data": {
      "text/plain": [
       "region    116\n",
       "dtype: int64"
      ]
     },
     "execution_count": 26,
     "metadata": {},
     "output_type": "execute_result"
    },
    {
     "data": {
      "application/javascript": [
       "\n",
       "            setTimeout(function() {\n",
       "                var nbb_cell_id = 26;\n",
       "                var nbb_unformatted_code = \"# display missing values prior to imputation\\nnull_count_4col(df)\";\n",
       "                var nbb_formatted_code = \"# display missing values prior to imputation\\nnull_count_4col(df)\";\n",
       "                var nbb_cells = Jupyter.notebook.get_cells();\n",
       "                for (var i = 0; i < nbb_cells.length; ++i) {\n",
       "                    if (nbb_cells[i].input_prompt_number == nbb_cell_id) {\n",
       "                        if (nbb_cells[i].get_text() == nbb_unformatted_code) {\n",
       "                             nbb_cells[i].set_text(nbb_formatted_code);\n",
       "                        }\n",
       "                        break;\n",
       "                    }\n",
       "                }\n",
       "            }, 500);\n",
       "            "
      ],
      "text/plain": [
       "<IPython.core.display.Javascript object>"
      ]
     },
     "metadata": {},
     "output_type": "display_data"
    }
   ],
   "source": [
    "# display missing values prior to imputation\n",
    "null_count_4col(df)"
   ]
  },
  {
   "cell_type": "markdown",
   "id": "8b92296f",
   "metadata": {},
   "source": [
    "#### Imputing Missing Values for Entries with Single `known for` Category Group Mode or Column Mode"
   ]
  },
  {
   "cell_type": "code",
   "execution_count": 27,
   "id": "7acae3c7",
   "metadata": {},
   "outputs": [
    {
     "data": {
      "application/javascript": [
       "\n",
       "            setTimeout(function() {\n",
       "                var nbb_cell_id = 27;\n",
       "                var nbb_unformatted_code = \"# List of known for known for category columns excluding event_record_other as no remaining entries as sole category\\ncols = [\\n    \\\"sciences\\\",\\n    \\\"social\\\",\\n    \\\"spiritual\\\",\\n    \\\"academia_humanities\\\",\\n    \\\"business_farming\\\",\\n    \\\"arts\\\",\\n    \\\"sports\\\",\\n    \\\"law_enf_military_operator\\\",\\n    \\\"politics_govt_law\\\",\\n    \\\"crime\\\",\\n]\\n\\n# Calling function to create list of columns with null values\\nnull_cols_lst = null_cols(df)\\n\\n# For loop to impute missing values with mode of rows with matching sole known for category\\n# or column mode if entry has multiple known for categories\\nfor column in cols:\\n    for null_col in null_cols_lst:\\n        column_mode = df[null_col].mode()[0]\\n        group_rows = df[df[column] == 1].index.tolist()\\n        group_mode = df.loc[group_rows, null_col].mode()[0]\\n        df.loc[group_rows, null_col] = df.loc[group_rows, null_col].fillna(group_mode)\\n        df[null_col].fillna(column_mode, inplace=True)\";\n",
       "                var nbb_formatted_code = \"# List of known for known for category columns excluding event_record_other as no remaining entries as sole category\\ncols = [\\n    \\\"sciences\\\",\\n    \\\"social\\\",\\n    \\\"spiritual\\\",\\n    \\\"academia_humanities\\\",\\n    \\\"business_farming\\\",\\n    \\\"arts\\\",\\n    \\\"sports\\\",\\n    \\\"law_enf_military_operator\\\",\\n    \\\"politics_govt_law\\\",\\n    \\\"crime\\\",\\n]\\n\\n# Calling function to create list of columns with null values\\nnull_cols_lst = null_cols(df)\\n\\n# For loop to impute missing values with mode of rows with matching sole known for category\\n# or column mode if entry has multiple known for categories\\nfor column in cols:\\n    for null_col in null_cols_lst:\\n        column_mode = df[null_col].mode()[0]\\n        group_rows = df[df[column] == 1].index.tolist()\\n        group_mode = df.loc[group_rows, null_col].mode()[0]\\n        df.loc[group_rows, null_col] = df.loc[group_rows, null_col].fillna(group_mode)\\n        df[null_col].fillna(column_mode, inplace=True)\";\n",
       "                var nbb_cells = Jupyter.notebook.get_cells();\n",
       "                for (var i = 0; i < nbb_cells.length; ++i) {\n",
       "                    if (nbb_cells[i].input_prompt_number == nbb_cell_id) {\n",
       "                        if (nbb_cells[i].get_text() == nbb_unformatted_code) {\n",
       "                             nbb_cells[i].set_text(nbb_formatted_code);\n",
       "                        }\n",
       "                        break;\n",
       "                    }\n",
       "                }\n",
       "            }, 500);\n",
       "            "
      ],
      "text/plain": [
       "<IPython.core.display.Javascript object>"
      ]
     },
     "metadata": {},
     "output_type": "display_data"
    }
   ],
   "source": [
    "# List of known for known for category columns excluding event_record_other as no remaining entries as sole category\n",
    "cols = [\n",
    "    \"sciences\",\n",
    "    \"social\",\n",
    "    \"spiritual\",\n",
    "    \"academia_humanities\",\n",
    "    \"business_farming\",\n",
    "    \"arts\",\n",
    "    \"sports\",\n",
    "    \"law_enf_military_operator\",\n",
    "    \"politics_govt_law\",\n",
    "    \"crime\",\n",
    "]\n",
    "\n",
    "# Calling function to create list of columns with null values\n",
    "null_cols_lst = null_cols(df)\n",
    "\n",
    "# For loop to impute missing values with mode of rows with matching sole known for category\n",
    "# or column mode if entry has multiple known for categories\n",
    "for column in cols:\n",
    "    for null_col in null_cols_lst:\n",
    "        column_mode = df[null_col].mode()[0]\n",
    "        group_rows = df[df[column] == 1].index.tolist()\n",
    "        group_mode = df.loc[group_rows, null_col].mode()[0]\n",
    "        df.loc[group_rows, null_col] = df.loc[group_rows, null_col].fillna(group_mode)\n",
    "        df[null_col].fillna(column_mode, inplace=True)"
   ]
  },
  {
   "cell_type": "code",
   "execution_count": 28,
   "id": "f970cd24",
   "metadata": {},
   "outputs": [
    {
     "name": "stdout",
     "output_type": "stream",
     "text": [
      "There are 0 remaining missing values in the dataframe.\n"
     ]
    },
    {
     "data": {
      "application/javascript": [
       "\n",
       "            setTimeout(function() {\n",
       "                var nbb_cell_id = 28;\n",
       "                var nbb_unformatted_code = \"# Display missing values after first imputation\\nnull_count_4col(df)\";\n",
       "                var nbb_formatted_code = \"# Display missing values after first imputation\\nnull_count_4col(df)\";\n",
       "                var nbb_cells = Jupyter.notebook.get_cells();\n",
       "                for (var i = 0; i < nbb_cells.length; ++i) {\n",
       "                    if (nbb_cells[i].input_prompt_number == nbb_cell_id) {\n",
       "                        if (nbb_cells[i].get_text() == nbb_unformatted_code) {\n",
       "                             nbb_cells[i].set_text(nbb_formatted_code);\n",
       "                        }\n",
       "                        break;\n",
       "                    }\n",
       "                }\n",
       "            }, 500);\n",
       "            "
      ],
      "text/plain": [
       "<IPython.core.display.Javascript object>"
      ]
     },
     "metadata": {},
     "output_type": "display_data"
    }
   ],
   "source": [
    "# Display missing values after first imputation\n",
    "null_count_4col(df)"
   ]
  },
  {
   "cell_type": "markdown",
   "id": "d93b63e1",
   "metadata": {},
   "source": [
    "#### Observations:\n",
    "- We have treated the missing values.\n",
    "- The additional functions were included here to illustrate an approach for a dataset with more columns with missing values.\n",
    "- Missing mean or median values could be handled similarly and we will include the above treatment for the `test` set and production pipeline.\n",
    "- Let us check our columns once more before exporting the dataset."
   ]
  },
  {
   "cell_type": "markdown",
   "id": "f3fe5531",
   "metadata": {},
   "source": [
    "#### Confirming Final Columns"
   ]
  },
  {
   "cell_type": "code",
   "execution_count": 29,
   "id": "097fa330",
   "metadata": {},
   "outputs": [
    {
     "name": "stdout",
     "output_type": "stream",
     "text": [
      "<class 'pandas.core.frame.DataFrame'>\n",
      "RangeIndex: 77661 entries, 0 to 77660\n",
      "Data columns (total 16 columns):\n",
      " #   Column                     Non-Null Count  Dtype   \n",
      "---  ------                     --------------  -----   \n",
      " 0   age                        77661 non-null  float64 \n",
      " 1   sciences                   77661 non-null  float64 \n",
      " 2   social                     77661 non-null  float64 \n",
      " 3   spiritual                  77661 non-null  float64 \n",
      " 4   academia_humanities        77661 non-null  float64 \n",
      " 5   business_farming           77661 non-null  float64 \n",
      " 6   arts                       77661 non-null  float64 \n",
      " 7   sports                     77661 non-null  float64 \n",
      " 8   law_enf_military_operator  77661 non-null  float64 \n",
      " 9   politics_govt_law          77661 non-null  float64 \n",
      " 10  crime                      77661 non-null  float64 \n",
      " 11  event_record_other         77661 non-null  float64 \n",
      " 12  recip_num_references       77661 non-null  float64 \n",
      " 13  region                     77661 non-null  category\n",
      " 14  prior_region               77661 non-null  category\n",
      " 15  years                      77661 non-null  int64   \n",
      "dtypes: category(2), float64(13), int64(1)\n",
      "memory usage: 8.4 MB\n"
     ]
    },
    {
     "data": {
      "application/javascript": [
       "\n",
       "            setTimeout(function() {\n",
       "                var nbb_cell_id = 29;\n",
       "                var nbb_unformatted_code = \"df.info()\";\n",
       "                var nbb_formatted_code = \"df.info()\";\n",
       "                var nbb_cells = Jupyter.notebook.get_cells();\n",
       "                for (var i = 0; i < nbb_cells.length; ++i) {\n",
       "                    if (nbb_cells[i].input_prompt_number == nbb_cell_id) {\n",
       "                        if (nbb_cells[i].get_text() == nbb_unformatted_code) {\n",
       "                             nbb_cells[i].set_text(nbb_formatted_code);\n",
       "                        }\n",
       "                        break;\n",
       "                    }\n",
       "                }\n",
       "            }, 500);\n",
       "            "
      ],
      "text/plain": [
       "<IPython.core.display.Javascript object>"
      ]
     },
     "metadata": {},
     "output_type": "display_data"
    }
   ],
   "source": [
    "df.info()"
   ]
  },
  {
   "cell_type": "markdown",
   "id": "0f66697e",
   "metadata": {},
   "source": [
    "#### Observations:\n",
    "- We will now save our dataset and pick back up in a new notebook."
   ]
  },
  {
   "cell_type": "markdown",
   "id": "1113a242",
   "metadata": {},
   "source": [
    "### Saving Dataset to [wp_life_expect_preproc.csv](https://github.com/teresahanak/wikipedia-life-expectancy/blob/main/wp_life_expect_preproc.csv)"
   ]
  },
  {
   "cell_type": "code",
   "execution_count": 30,
   "id": "6008ac61",
   "metadata": {},
   "outputs": [
    {
     "data": {
      "application/javascript": [
       "\n",
       "            setTimeout(function() {\n",
       "                var nbb_cell_id = 30;\n",
       "                var nbb_unformatted_code = \"# Saving dataset to csv\\ndf.to_csv('wp_life_expect_preproc.csv', index=False)\";\n",
       "                var nbb_formatted_code = \"# Saving dataset to csv\\ndf.to_csv(\\\"wp_life_expect_preproc.csv\\\", index=False)\";\n",
       "                var nbb_cells = Jupyter.notebook.get_cells();\n",
       "                for (var i = 0; i < nbb_cells.length; ++i) {\n",
       "                    if (nbb_cells[i].input_prompt_number == nbb_cell_id) {\n",
       "                        if (nbb_cells[i].get_text() == nbb_unformatted_code) {\n",
       "                             nbb_cells[i].set_text(nbb_formatted_code);\n",
       "                        }\n",
       "                        break;\n",
       "                    }\n",
       "                }\n",
       "            }, 500);\n",
       "            "
      ],
      "text/plain": [
       "<IPython.core.display.Javascript object>"
      ]
     },
     "metadata": {},
     "output_type": "display_data"
    }
   ],
   "source": [
    "# Saving dataset to csv\n",
    "df.to_csv(\"wp_life_expect_preproc.csv\", index=False)"
   ]
  },
  {
   "cell_type": "code",
   "execution_count": 31,
   "id": "a36c0663",
   "metadata": {},
   "outputs": [
    {
     "name": "stdout",
     "output_type": "stream",
     "text": [
      "Complete\n"
     ]
    },
    {
     "data": {
      "application/javascript": [
       "\n",
       "            setTimeout(function() {\n",
       "                var nbb_cell_id = 31;\n",
       "                var nbb_unformatted_code = \"print('Complete')\\n\\n# Chime notification when cell executes\\nchime.success()\";\n",
       "                var nbb_formatted_code = \"print(\\\"Complete\\\")\\n\\n# Chime notification when cell executes\\nchime.success()\";\n",
       "                var nbb_cells = Jupyter.notebook.get_cells();\n",
       "                for (var i = 0; i < nbb_cells.length; ++i) {\n",
       "                    if (nbb_cells[i].input_prompt_number == nbb_cell_id) {\n",
       "                        if (nbb_cells[i].get_text() == nbb_unformatted_code) {\n",
       "                             nbb_cells[i].set_text(nbb_formatted_code);\n",
       "                        }\n",
       "                        break;\n",
       "                    }\n",
       "                }\n",
       "            }, 500);\n",
       "            "
      ],
      "text/plain": [
       "<IPython.core.display.Javascript object>"
      ]
     },
     "metadata": {},
     "output_type": "display_data"
    }
   ],
   "source": [
    "print(\"Complete\")\n",
    "\n",
    "# Chime notification when cell executes\n",
    "chime.success()"
   ]
  },
  {
   "cell_type": "markdown",
   "id": "11aacfcc",
   "metadata": {},
   "source": [
    "# [Proceed to Modeling ]()"
   ]
  }
 ],
 "metadata": {
  "kernelspec": {
   "display_name": "Python 3 (ipykernel)",
   "language": "python",
   "name": "python3"
  },
  "language_info": {
   "codemirror_mode": {
    "name": "ipython",
    "version": 3
   },
   "file_extension": ".py",
   "mimetype": "text/x-python",
   "name": "python",
   "nbconvert_exporter": "python",
   "pygments_lexer": "ipython3",
   "version": "3.9.12"
  }
 },
 "nbformat": 4,
 "nbformat_minor": 5
}
