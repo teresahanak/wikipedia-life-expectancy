{
 "cells": [
  {
   "cell_type": "markdown",
   "id": "eeeb934a",
   "metadata": {},
   "source": [
    "#### [Return to README ](https://github.com/teresahanak/wikipedia-life-expectancy#explore-the-project)"
   ]
  },
  {
   "cell_type": "markdown",
   "id": "316a0779",
   "metadata": {},
   "source": [
    "# Wikipedia Notable Life Expectancies\n",
    "## Notebook  14: Model User Interface\n",
    "### Contents\n",
    "\n",
    "This notebook covers:\n",
    "- An example Gradio user interface for using or testing the productionized model.\n",
    "\n",
    "### Instructions\n",
    "Options for Running this Notebook:  \n",
    "1. Clone the repository:   \n",
    "    - Navigate to the cloned repository in Jupyter and open the notebook to run it.\n",
    "    - Refer to [Application and Package Versions](https://github.com/teresahanak/wikipedia-life-expectancy#application-and-package-versions).\n",
    "2. Save the notebook and files below to the same working directory:<sup>1</sup>\n",
    "    - Download the notebook:\n",
    "        - Click on <kbd>Raw</kbd> above.\n",
    "        - Save <kbd>Ctrl</kbd> + <kbd>S</kbd>\n",
    "    - Follow the link to the pkl file and click <kbd>Download</kbd>, then move file to the same directory as the notebook:\n",
    "        - [production_model.pkl]()\n",
    "    - In Jupyter, navigate to the directory in which the notebook and file are saved, to open and run the notebook.  \n",
    "    - Refer to [Application and Package Versions](https://github.com/teresahanak/wikipedia-life-expectancy#application-and-package-versions).\n",
    "\n",
    "    \n",
    "\n",
    "### Production Model Features Dictionary\n",
    "- **num_references**:  Number of references for individual's page\n",
    "- **years**: Translation of year pf death($year - 1994$)\n",
    "- **sciences**: (0 for no or 1 for yes) individual known for sciences (math, physics, chemistry, engineering, mechanics, etc.)\n",
    "- **social**: (0 for no or 1 for yes) individual known for social action (philanthropy, fund-raising for social cause, founder of charity, etc.)\n",
    "- **spiritual**: (0 for no or 1 for yes) individual known for spiritual association (religious association, traditional healing, self-help/motivational instructor, etc.)\n",
    "- **academia_humanities**: (0 for no or 1 for yes) individual known for education activity (educator, education administration, lecturer, etc.; excludes sports-related instruction/coaching, but includes art/performing arts instruction; includes museum-related activities; classics, archeology, linguistics, anthropology, etc.)\n",
    "- **business_farming**: (0 for no or 1 for yes) individual known for business or farming (includes marketing, millionaire/billionaire, manufacturing, oil/energy)\n",
    "- **arts**: (0 for no or 1 for yes) individual known for arts-related activity (fine and performing arts, journalism, writing, arts administration, art patronage, collecting, etc.; gallery owners/founders are included; museum-related is excluded; stunt performers included)\n",
    "- **sports**: (0 for no or 1 for yes) individual known for sports-related activity (traditional sports participation/instruction/coaching/ownership/fandom/commentator and anything competition-based, including non-physical games, such as chess; sportswriter, etc. would have dual category of arts)\n",
    "- **law_enf_military_operator**: (0 for no or 1 for yes) individual known for law enforcement, military/paramilitary association/activity, or specialized equipment operation (pilot, ship captain (non-sport), radio operator, etc.); category aims to reflect individual's proximity to activity and/or weapons/equipment or decision-making that could impact life span, independent of legality of activity\n",
    "- **politics_govt_law**: (0 for no or 1 for yes) individual known for political activity (official or activism), participation in legal system (lawyer, judge, etc.), nobility or inherited status; directly or by marriage; union activity is included\n",
    "- **crime**: (0 for no or 1 for yes) individual known for criminal activity; category aims for \"innocent until proven guilty\"; includes convicted criminals (can be for a different crime); includes individuals labeled \"terrorist\", but generally excludes individuals awaiting trial\n",
    "- **num_categories**: Total number of known for categories for individual\n",
    "- **region_**: One hot encoded (0 for no or 1 for yes) ultimate geographical region of residency as follows:\n",
    "    - **region_Asia**\n",
    "    - **region_Central Asia**\n",
    "    - **region_Europe**\n",
    "    - **region_Mid-Cent America/Caribbean**\n",
    "    - **region_Middle East**\n",
    "    - **region_North America**\n",
    "    - **region_Oceania**\n",
    "    - **region_Russian Federation**\n",
    "    - **region_South America**\n",
    "    - **region_South East Asia**\n",
    "- **prior_region_**: One hot encoded (0 for no or 1 for yes) prior geographical region of residency, with option of \"No Prior Region\", as follows:\n",
    "    - **prior_region_Asia**\n",
    "    - **prior_region_Central Asia**\n",
    "    - **prior_region_Europe**\n",
    "    - **prior_region_Mid-Cent America/Caribbean**\n",
    "    - **prior_region_Middle East**\n",
    "    - **prior_region_No Prior Region**\n",
    "    - **prior_region_North America**\n",
    "    - **prior_region_Oceania**\n",
    "    - **prior_region_Russian Federation**\n",
    "    - **prior_region_South America**\n",
    "    - **prior_region_South East Asia**"
   ]
  },
  {
   "cell_type": "markdown",
   "id": "99245d51",
   "metadata": {},
   "source": [
    "### Importing Libraries"
   ]
  },
  {
   "cell_type": "code",
   "execution_count": 20,
   "id": "453bba83",
   "metadata": {},
   "outputs": [
    {
     "name": "stdout",
     "output_type": "stream",
     "text": [
      "The nb_black extension is already loaded. To reload it, use:\n",
      "  %reload_ext nb_black\n"
     ]
    },
    {
     "data": {
      "application/javascript": [
       "\n",
       "            setTimeout(function() {\n",
       "                var nbb_cell_id = 20;\n",
       "                var nbb_unformatted_code = \"# To structure code automatically\\n%load_ext nb_black\\n\\n# To import/export sqlite databases\\n# import sqlite3 as sql\\n\\n# To save/open python objects in pickle file\\nimport pickle\\n\\n# To help with reading, cleaning, and manipulating data\\nimport pandas as pd\\nimport numpy as np\\n\\n# To create user interface for predictions\\nimport gradio as gr\\nfrom gradio.components import Slider\\n\\n# To define maximum number of columns to be displayed in a dataframe\\n# pd.set_option(\\\"display.max_columns\\\", None)\\n# To define the maximum number of rows to be displayed in a dataframe\\n# pd.set_option(\\\"display.max_rows\\\", 200)\\n\\n# To supress warnings\\n# import warnings\\n\\n# warnings.filterwarnings(\\\"ignore\\\")\\n\\n# To set some visualization attributes\\n# pd.set_option(\\\"max_colwidth\\\", 150)\\n\\n# To play auditory cue when cell has executed, has warning, or has error and set chime theme\\nimport chime\\n\\nchime.theme(\\\"zelda\\\")\";\n",
       "                var nbb_formatted_code = \"# To structure code automatically\\n%load_ext nb_black\\n\\n# To import/export sqlite databases\\n# import sqlite3 as sql\\n\\n# To save/open python objects in pickle file\\nimport pickle\\n\\n# To help with reading, cleaning, and manipulating data\\nimport pandas as pd\\nimport numpy as np\\n\\n# To create user interface for predictions\\nimport gradio as gr\\nfrom gradio.components import Slider\\n\\n# To define maximum number of columns to be displayed in a dataframe\\n# pd.set_option(\\\"display.max_columns\\\", None)\\n# To define the maximum number of rows to be displayed in a dataframe\\n# pd.set_option(\\\"display.max_rows\\\", 200)\\n\\n# To supress warnings\\n# import warnings\\n\\n# warnings.filterwarnings(\\\"ignore\\\")\\n\\n# To set some visualization attributes\\n# pd.set_option(\\\"max_colwidth\\\", 150)\\n\\n# To play auditory cue when cell has executed, has warning, or has error and set chime theme\\nimport chime\\n\\nchime.theme(\\\"zelda\\\")\";\n",
       "                var nbb_cells = Jupyter.notebook.get_cells();\n",
       "                for (var i = 0; i < nbb_cells.length; ++i) {\n",
       "                    if (nbb_cells[i].input_prompt_number == nbb_cell_id) {\n",
       "                        if (nbb_cells[i].get_text() == nbb_unformatted_code) {\n",
       "                             nbb_cells[i].set_text(nbb_formatted_code);\n",
       "                        }\n",
       "                        break;\n",
       "                    }\n",
       "                }\n",
       "            }, 500);\n",
       "            "
      ],
      "text/plain": [
       "<IPython.core.display.Javascript object>"
      ]
     },
     "metadata": {},
     "output_type": "display_data"
    }
   ],
   "source": [
    "# To structure code automatically\n",
    "%load_ext nb_black\n",
    "\n",
    "# To import/export sqlite databases\n",
    "# import sqlite3 as sql\n",
    "\n",
    "# To save/open python objects in pickle file\n",
    "import pickle\n",
    "\n",
    "# To help with reading, cleaning, and manipulating data\n",
    "import pandas as pd\n",
    "import numpy as np\n",
    "\n",
    "# To create user interface for predictions\n",
    "import gradio as gr\n",
    "from gradio.components import Slider\n",
    "\n",
    "# To define maximum number of columns to be displayed in a dataframe\n",
    "# pd.set_option(\"display.max_columns\", None)\n",
    "# To define the maximum number of rows to be displayed in a dataframe\n",
    "# pd.set_option(\"display.max_rows\", 200)\n",
    "\n",
    "# To supress warnings\n",
    "# import warnings\n",
    "\n",
    "# warnings.filterwarnings(\"ignore\")\n",
    "\n",
    "# To set some visualization attributes\n",
    "# pd.set_option(\"max_colwidth\", 150)\n",
    "\n",
    "# To play auditory cue when cell has executed, has warning, or has error and set chime theme\n",
    "import chime\n",
    "\n",
    "chime.theme(\"zelda\")"
   ]
  },
  {
   "cell_type": "markdown",
   "id": "44b31484",
   "metadata": {},
   "source": [
    "### Loading Productionized Model"
   ]
  },
  {
   "cell_type": "code",
   "execution_count": 3,
   "id": "20e3b930",
   "metadata": {},
   "outputs": [
    {
     "data": {
      "application/javascript": [
       "\n",
       "            setTimeout(function() {\n",
       "                var nbb_cell_id = 3;\n",
       "                var nbb_unformatted_code = \"# Loading Productionized Model\\nwith open(\\\"production_model.pkl\\\", \\\"rb\\\") as f:\\n    production_model = pickle.load(f)\";\n",
       "                var nbb_formatted_code = \"# Loading Productionized Model\\nwith open(\\\"production_model.pkl\\\", \\\"rb\\\") as f:\\n    production_model = pickle.load(f)\";\n",
       "                var nbb_cells = Jupyter.notebook.get_cells();\n",
       "                for (var i = 0; i < nbb_cells.length; ++i) {\n",
       "                    if (nbb_cells[i].input_prompt_number == nbb_cell_id) {\n",
       "                        if (nbb_cells[i].get_text() == nbb_unformatted_code) {\n",
       "                             nbb_cells[i].set_text(nbb_formatted_code);\n",
       "                        }\n",
       "                        break;\n",
       "                    }\n",
       "                }\n",
       "            }, 500);\n",
       "            "
      ],
      "text/plain": [
       "<IPython.core.display.Javascript object>"
      ]
     },
     "metadata": {},
     "output_type": "display_data"
    }
   ],
   "source": [
    "# Loading Productionized Model\n",
    "with open(\"production_model.pkl\", \"rb\") as f:\n",
    "    production_model = pickle.load(f)"
   ]
  },
  {
   "cell_type": "markdown",
   "id": "b0762df9",
   "metadata": {},
   "source": [
    "### Loading `region_place_dict`"
   ]
  },
  {
   "cell_type": "code",
   "execution_count": 67,
   "id": "05136fad",
   "metadata": {},
   "outputs": [
    {
     "data": {
      "text/plain": [
       "{'North America': ['Canada', 'United States of America', 'North America'],\n",
       " 'Mid-Cent America/Caribbean': ['Martinique',\n",
       "  'Saint Vincent and the Grenadines',\n",
       "  'Antigua and Barbuda',\n",
       "  'Saint Kitts and Nevis',\n",
       "  'Saint Lucia',\n",
       "  'Grenada',\n",
       "  'Belize',\n",
       "  'The Bahamas',\n",
       "  'El Salvador',\n",
       "  'Nicaragua',\n",
       "  'Panama',\n",
       "  'Costa Rica',\n",
       "  'Barbados',\n",
       "  'Guatemala',\n",
       "  'Haiti',\n",
       "  'Honduras',\n",
       "  'Central America and the Caribbean',\n",
       "  'Dominican Republic',\n",
       "  'Trinidad and Tobago',\n",
       "  'Puerto Rico',\n",
       "  'Cuba',\n",
       "  'Jamaica',\n",
       "  'Mexico'],\n",
       " 'South America': ['Suriname',\n",
       "  'Paraguay',\n",
       "  'Bolivia',\n",
       "  'Guyana',\n",
       "  'Ecuador',\n",
       "  'Peru',\n",
       "  'Uruguay',\n",
       "  'Venezuela',\n",
       "  'Colombia',\n",
       "  'Chile',\n",
       "  'Argentina',\n",
       "  'Brazil'],\n",
       " 'Europe': ['Vatican City State',\n",
       "  'Gibraltar',\n",
       "  'Liechtenstein',\n",
       "  'San Marino',\n",
       "  'Andorra',\n",
       "  'Monaco',\n",
       "  'Luxembourg',\n",
       "  'Montenegro',\n",
       "  'Moldova',\n",
       "  'Europe',\n",
       "  'Macedonia, Republic of',\n",
       "  'Malta',\n",
       "  'Latvia',\n",
       "  'Iceland',\n",
       "  'Belarus',\n",
       "  'Slovakia',\n",
       "  'Bosnia and Herzegovina',\n",
       "  'Albania',\n",
       "  'Lithuania',\n",
       "  'Slovenia',\n",
       "  'Estonia',\n",
       "  'Bulgaria',\n",
       "  'Portugal',\n",
       "  'Croatia',\n",
       "  'Denmark',\n",
       "  'Finland',\n",
       "  'Greece',\n",
       "  'Ukraine',\n",
       "  'Serbia',\n",
       "  'Switzerland',\n",
       "  'Romania',\n",
       "  'Czech Republic',\n",
       "  'Wales',\n",
       "  'Belgium',\n",
       "  'Hungary',\n",
       "  'Austria',\n",
       "  'Sweden',\n",
       "  'Poland',\n",
       "  'Netherlands',\n",
       "  'Norway',\n",
       "  'Spain',\n",
       "  'Scotland',\n",
       "  'Ireland',\n",
       "  'Italy',\n",
       "  'Germany',\n",
       "  'France',\n",
       "  'United Kingdom of Great Britain and Northern Ireland'],\n",
       " 'Russian Federation': ['United Socialist Soviet Republic', 'Russia'],\n",
       " 'Africa': ['Lesotho',\n",
       "  'São Tomé and Príncipe',\n",
       "  'Comoros',\n",
       "  'Djibouti',\n",
       "  'Seychelles',\n",
       "  'Guinea Bissau',\n",
       "  'South Sudan',\n",
       "  'Eritrea',\n",
       "  'Equatorial Guinea',\n",
       "  'Botswana',\n",
       "  'Swaziland',\n",
       "  'Burundi',\n",
       "  'Central African Republic',\n",
       "  'Chad',\n",
       "  'Mauritania',\n",
       "  'Niger',\n",
       "  'Cabo Verde',\n",
       "  'Gambia, The',\n",
       "  'Gabon',\n",
       "  'Togo',\n",
       "  'Burkina Faso',\n",
       "  'Mozambique',\n",
       "  'Madagascar',\n",
       "  'Rwanda',\n",
       "  'Liberia',\n",
       "  'Mauritius',\n",
       "  'Benin',\n",
       "  'Guinea',\n",
       "  'Sierra Leone',\n",
       "  'Mali',\n",
       "  'Libya',\n",
       "  'Angola',\n",
       "  'Sudan',\n",
       "  'Malawi',\n",
       "  'Ivory Coast',\n",
       "  'Somalia',\n",
       "  'Senegal',\n",
       "  'Ethiopia',\n",
       "  'Zambia',\n",
       "  'Tanzania',\n",
       "  'Namibia',\n",
       "  'Cameroon',\n",
       "  'Africa',\n",
       "  'Tunisia',\n",
       "  'Uganda',\n",
       "  'Congo, Republic of the',\n",
       "  'Morocco',\n",
       "  'Zimbabwe',\n",
       "  'Algeria',\n",
       "  'Kenya',\n",
       "  'Ghana',\n",
       "  'Egypt',\n",
       "  'Nigeria',\n",
       "  'South Africa'],\n",
       " 'Middle East': ['Oman',\n",
       "  'Qatar',\n",
       "  'Bahrain',\n",
       "  'United Arab Emirates',\n",
       "  'Kuwait',\n",
       "  'Yemen',\n",
       "  'Jordan',\n",
       "  'Saudi Arabia',\n",
       "  'Cyprus',\n",
       "  'Palestine',\n",
       "  'Syria',\n",
       "  'Armenia',\n",
       "  'Azerbaijan',\n",
       "  'Georgia',\n",
       "  'Georgia',\n",
       "  'Lebanon',\n",
       "  'Iraq',\n",
       "  'Iran',\n",
       "  'Turkey',\n",
       "  'Israel',\n",
       "  'Middle East'],\n",
       " 'Central Asia': ['Turkmenistan',\n",
       "  'Tajikistan',\n",
       "  'Kyrgyzstan',\n",
       "  'Uzbekistan',\n",
       "  'Kazakhstan'],\n",
       " 'Asia': ['Indian Ocean',\n",
       "  'Bhutan',\n",
       "  'Indian subcontinent',\n",
       "  'Maldives',\n",
       "  'Mongolia',\n",
       "  'Asia',\n",
       "  'North Korea',\n",
       "  'Afghanistan',\n",
       "  'Nepal',\n",
       "  'Armenia',\n",
       "  'South Korea',\n",
       "  'Taiwan',\n",
       "  'Sri Lanka',\n",
       "  'Bangladesh',\n",
       "  'Pakistan',\n",
       "  \"China, People's Republic of\",\n",
       "  'Japan',\n",
       "  'India'],\n",
       " 'South East Asia': ['Brunei',\n",
       "  'Timor Leste',\n",
       "  'Cambodia',\n",
       "  'Singapore',\n",
       "  'Burma',\n",
       "  'Vietnam',\n",
       "  'Thailand',\n",
       "  'Malaysia',\n",
       "  'Indonesia',\n",
       "  'Philippines'],\n",
       " 'Oceania': ['Tokelau',\n",
       "  'South Pacific',\n",
       "  'Kiribati',\n",
       "  'Palau',\n",
       "  'Nauru',\n",
       "  'Vanuatu',\n",
       "  'Micronesia, Federated States of',\n",
       "  'Marshall Islands',\n",
       "  'Laos',\n",
       "  'Northern Mariana Islands',\n",
       "  'Tuvalu',\n",
       "  'Solomon Islands',\n",
       "  'Tonga',\n",
       "  'Samoa',\n",
       "  'Papua New Guinea',\n",
       "  'Oceania',\n",
       "  'Fiji',\n",
       "  'New Zealand',\n",
       "  'Australia']}"
      ]
     },
     "execution_count": 67,
     "metadata": {},
     "output_type": "execute_result"
    },
    {
     "data": {
      "application/javascript": [
       "\n",
       "            setTimeout(function() {\n",
       "                var nbb_cell_id = 67;\n",
       "                var nbb_unformatted_code = \"# Loading region_place_dict\\nwith open(\\\"region_place_dict.pkl\\\", \\\"rb\\\") as f:\\n    region_place_dict = pickle.load(f)\\n\\n# Checking region_place_dict\\nregion_place_dict\";\n",
       "                var nbb_formatted_code = \"# Loading region_place_dict\\nwith open(\\\"region_place_dict.pkl\\\", \\\"rb\\\") as f:\\n    region_place_dict = pickle.load(f)\\n\\n# Checking region_place_dict\\nregion_place_dict\";\n",
       "                var nbb_cells = Jupyter.notebook.get_cells();\n",
       "                for (var i = 0; i < nbb_cells.length; ++i) {\n",
       "                    if (nbb_cells[i].input_prompt_number == nbb_cell_id) {\n",
       "                        if (nbb_cells[i].get_text() == nbb_unformatted_code) {\n",
       "                             nbb_cells[i].set_text(nbb_formatted_code);\n",
       "                        }\n",
       "                        break;\n",
       "                    }\n",
       "                }\n",
       "            }, 500);\n",
       "            "
      ],
      "text/plain": [
       "<IPython.core.display.Javascript object>"
      ]
     },
     "metadata": {},
     "output_type": "display_data"
    }
   ],
   "source": [
    "# Loading region_place_dict\n",
    "with open(\"region_place_dict.pkl\", \"rb\") as f:\n",
    "    region_place_dict = pickle.load(f)\n",
    "\n",
    "# Checking region_place_dict\n",
    "region_place_dict"
   ]
  },
  {
   "cell_type": "code",
   "execution_count": 87,
   "id": "48468b83",
   "metadata": {},
   "outputs": [
    {
     "data": {
      "application/javascript": [
       "\n",
       "            setTimeout(function() {\n",
       "                var nbb_cell_id = 87;\n",
       "                var nbb_unformatted_code = \"# Creating places list\\nplaces = sorted([place for region in region_place_dict.values() for place in region])\\n\\n# Creating known_for categories list\\nknown_for = [\\n    \\\"sciences\\\",\\n    \\\"social\\\",\\n    \\\"spiritual\\\",\\n    \\\"academia_humanities\\\",\\n    \\\"business_farming\\\",\\n    \\\"arts\\\",\\n    \\\"sports\\\",\\n    \\\"law_enf_military_operator\\\",\\n    \\\"politics_govt_law\\\",\\n    \\\"crime\\\",\\n]\";\n",
       "                var nbb_formatted_code = \"# Creating places list\\nplaces = sorted([place for region in region_place_dict.values() for place in region])\\n\\n# Creating known_for categories list\\nknown_for = [\\n    \\\"sciences\\\",\\n    \\\"social\\\",\\n    \\\"spiritual\\\",\\n    \\\"academia_humanities\\\",\\n    \\\"business_farming\\\",\\n    \\\"arts\\\",\\n    \\\"sports\\\",\\n    \\\"law_enf_military_operator\\\",\\n    \\\"politics_govt_law\\\",\\n    \\\"crime\\\",\\n]\";\n",
       "                var nbb_cells = Jupyter.notebook.get_cells();\n",
       "                for (var i = 0; i < nbb_cells.length; ++i) {\n",
       "                    if (nbb_cells[i].input_prompt_number == nbb_cell_id) {\n",
       "                        if (nbb_cells[i].get_text() == nbb_unformatted_code) {\n",
       "                             nbb_cells[i].set_text(nbb_formatted_code);\n",
       "                        }\n",
       "                        break;\n",
       "                    }\n",
       "                }\n",
       "            }, 500);\n",
       "            "
      ],
      "text/plain": [
       "<IPython.core.display.Javascript object>"
      ]
     },
     "metadata": {},
     "output_type": "display_data"
    }
   ],
   "source": [
    "# Creating places list\n",
    "places = sorted([place for region in region_place_dict.values() for place in region])\n",
    "\n",
    "# Creating known_for categories list\n",
    "known_for = [\n",
    "    \"sciences\",\n",
    "    \"social\",\n",
    "    \"spiritual\",\n",
    "    \"academia_humanities\",\n",
    "    \"business_farming\",\n",
    "    \"arts\",\n",
    "    \"sports\",\n",
    "    \"law_enf_military_operator\",\n",
    "    \"politics_govt_law\",\n",
    "    \"crime\",\n",
    "]"
   ]
  },
  {
   "cell_type": "code",
   "execution_count": 88,
   "id": "c7761533",
   "metadata": {},
   "outputs": [
    {
     "data": {
      "application/javascript": [
       "\n",
       "            setTimeout(function() {\n",
       "                var nbb_cell_id = 88;\n",
       "                var nbb_unformatted_code = \"def predict_age(\\n    num_references,\\n    sciences,\\n    social,\\n    spiritual,\\n    academia_humanities,\\n    business_farming,\\n    arts,\\n    sports,\\n    law_enf_military_operator,\\n    politics_govt_law,\\n    crime,\\n    num_categories,\\n    years,\\n    region,\\n    prior_region,\\n):\\n    X = pd.DataFrame(\\n        {\\n            \\\"num_references\\\": num_references,\\n            \\\"years\\\": (year - 1994),\\n            \\\"sciences\\\": sciences,\\n            \\\"social\\\": social,\\n            \\\"spiritual\\\": spiritual,\\n            \\\"academia_humanities\\\": academia_humanities,\\n            \\\"business_farming\\\": business_farming,\\n            \\\"arts\\\": arts,\\n            \\\"sports\\\": sports,\\n            \\\"law_enf_military_operator\\\": law_enf_military_operator,\\n            \\\"politics_govt_law\\\": politics_govt_law,\\n            \\\"crime\\\": crime,\\n            \\\"num_categories\\\": num_categories,\\n            \\\"region_Asia\\\": region_Asia,\\n            \\\"region_Central Asia\\\": region_Central_Asia,\\n            \\\"region_Europe\\\": region_Europe,\\n            \\\"region_Mid-Cent America/Caribbean\\\": region_Mid_Cent_Amer_Caribb,\\n            \\\"region_Middle East\\\": region_Middle_East,\\n            \\\"region_North America\\\": region_North_America,\\n            \\\"region_Oceania\\\": region_Oceania,\\n            \\\"region_Russian Federation\\\": region_Russian_Federation,\\n            \\\"region_South America\\\": region_South_America,\\n            \\\"region_South East Asia\\\": region_SE_Asia,\\n            \\\"prior_region_Asia\\\": prior_region_Asia,\\n            \\\"prior_region_Central Asia\\\": prior_region_Central_Asia,\\n            \\\"prior_region_Europe\\\": prior_region_Europe,\\n            \\\"prior_region_Mid-Cent America/Caribbean\\\": prior_region_Mid_Cent_Amer_Caribb,\\n            \\\"prior_region_Middle East\\\": prior_region_Middle_East,\\n            \\\"prior_region_No Prior Region\\\": prior_region_None,\\n            \\\"prior_region_North America\\\": prior_region_North_America,\\n            \\\"prior_region_Oceania\\\": prior_region_Oceania,\\n            \\\"prior_region_Russian Federation\\\": prior_region_Russian_Federation,\\n            \\\"prior_region_South America\\\": prior_region_South_America,\\n            \\\"prior_region_South East Asia\\\": prior_region_SE_Asia,\\n        }\\n    )\\n    return X\";\n",
       "                var nbb_formatted_code = \"def predict_age(\\n    num_references,\\n    sciences,\\n    social,\\n    spiritual,\\n    academia_humanities,\\n    business_farming,\\n    arts,\\n    sports,\\n    law_enf_military_operator,\\n    politics_govt_law,\\n    crime,\\n    num_categories,\\n    years,\\n    region,\\n    prior_region,\\n):\\n    X = pd.DataFrame(\\n        {\\n            \\\"num_references\\\": num_references,\\n            \\\"years\\\": (year - 1994),\\n            \\\"sciences\\\": sciences,\\n            \\\"social\\\": social,\\n            \\\"spiritual\\\": spiritual,\\n            \\\"academia_humanities\\\": academia_humanities,\\n            \\\"business_farming\\\": business_farming,\\n            \\\"arts\\\": arts,\\n            \\\"sports\\\": sports,\\n            \\\"law_enf_military_operator\\\": law_enf_military_operator,\\n            \\\"politics_govt_law\\\": politics_govt_law,\\n            \\\"crime\\\": crime,\\n            \\\"num_categories\\\": num_categories,\\n            \\\"region_Asia\\\": region_Asia,\\n            \\\"region_Central Asia\\\": region_Central_Asia,\\n            \\\"region_Europe\\\": region_Europe,\\n            \\\"region_Mid-Cent America/Caribbean\\\": region_Mid_Cent_Amer_Caribb,\\n            \\\"region_Middle East\\\": region_Middle_East,\\n            \\\"region_North America\\\": region_North_America,\\n            \\\"region_Oceania\\\": region_Oceania,\\n            \\\"region_Russian Federation\\\": region_Russian_Federation,\\n            \\\"region_South America\\\": region_South_America,\\n            \\\"region_South East Asia\\\": region_SE_Asia,\\n            \\\"prior_region_Asia\\\": prior_region_Asia,\\n            \\\"prior_region_Central Asia\\\": prior_region_Central_Asia,\\n            \\\"prior_region_Europe\\\": prior_region_Europe,\\n            \\\"prior_region_Mid-Cent America/Caribbean\\\": prior_region_Mid_Cent_Amer_Caribb,\\n            \\\"prior_region_Middle East\\\": prior_region_Middle_East,\\n            \\\"prior_region_No Prior Region\\\": prior_region_None,\\n            \\\"prior_region_North America\\\": prior_region_North_America,\\n            \\\"prior_region_Oceania\\\": prior_region_Oceania,\\n            \\\"prior_region_Russian Federation\\\": prior_region_Russian_Federation,\\n            \\\"prior_region_South America\\\": prior_region_South_America,\\n            \\\"prior_region_South East Asia\\\": prior_region_SE_Asia,\\n        }\\n    )\\n    return X\";\n",
       "                var nbb_cells = Jupyter.notebook.get_cells();\n",
       "                for (var i = 0; i < nbb_cells.length; ++i) {\n",
       "                    if (nbb_cells[i].input_prompt_number == nbb_cell_id) {\n",
       "                        if (nbb_cells[i].get_text() == nbb_unformatted_code) {\n",
       "                             nbb_cells[i].set_text(nbb_formatted_code);\n",
       "                        }\n",
       "                        break;\n",
       "                    }\n",
       "                }\n",
       "            }, 500);\n",
       "            "
      ],
      "text/plain": [
       "<IPython.core.display.Javascript object>"
      ]
     },
     "metadata": {},
     "output_type": "display_data"
    }
   ],
   "source": [
    "def predict_age(\n",
    "    num_references,\n",
    "    sciences,\n",
    "    social,\n",
    "    spiritual,\n",
    "    academia_humanities,\n",
    "    business_farming,\n",
    "    arts,\n",
    "    sports,\n",
    "    law_enf_military_operator,\n",
    "    politics_govt_law,\n",
    "    crime,\n",
    "    num_categories,\n",
    "    years,\n",
    "    region,\n",
    "    prior_region,\n",
    "):\n",
    "    X = pd.DataFrame(\n",
    "        {\n",
    "            \"num_references\": num_references,\n",
    "            \"years\": (year - 1994),\n",
    "            \"sciences\": sciences,\n",
    "            \"social\": social,\n",
    "            \"spiritual\": spiritual,\n",
    "            \"academia_humanities\": academia_humanities,\n",
    "            \"business_farming\": business_farming,\n",
    "            \"arts\": arts,\n",
    "            \"sports\": sports,\n",
    "            \"law_enf_military_operator\": law_enf_military_operator,\n",
    "            \"politics_govt_law\": politics_govt_law,\n",
    "            \"crime\": crime,\n",
    "            \"num_categories\": num_categories,\n",
    "            \"region_Asia\": region_Asia,\n",
    "            \"region_Central Asia\": region_Central_Asia,\n",
    "            \"region_Europe\": region_Europe,\n",
    "            \"region_Mid-Cent America/Caribbean\": region_Mid_Cent_Amer_Caribb,\n",
    "            \"region_Middle East\": region_Middle_East,\n",
    "            \"region_North America\": region_North_America,\n",
    "            \"region_Oceania\": region_Oceania,\n",
    "            \"region_Russian Federation\": region_Russian_Federation,\n",
    "            \"region_South America\": region_South_America,\n",
    "            \"region_South East Asia\": region_SE_Asia,\n",
    "            \"prior_region_Asia\": prior_region_Asia,\n",
    "            \"prior_region_Central Asia\": prior_region_Central_Asia,\n",
    "            \"prior_region_Europe\": prior_region_Europe,\n",
    "            \"prior_region_Mid-Cent America/Caribbean\": prior_region_Mid_Cent_Amer_Caribb,\n",
    "            \"prior_region_Middle East\": prior_region_Middle_East,\n",
    "            \"prior_region_No Prior Region\": prior_region_None,\n",
    "            \"prior_region_North America\": prior_region_North_America,\n",
    "            \"prior_region_Oceania\": prior_region_Oceania,\n",
    "            \"prior_region_Russian Federation\": prior_region_Russian_Federation,\n",
    "            \"prior_region_South America\": prior_region_South_America,\n",
    "            \"prior_region_South East Asia\": prior_region_SE_Asia,\n",
    "        }\n",
    "    )\n",
    "    return X"
   ]
  },
  {
   "cell_type": "code",
   "execution_count": 136,
   "id": "ba9f5f85",
   "metadata": {},
   "outputs": [
    {
     "data": {
      "application/javascript": [
       "\n",
       "            setTimeout(function() {\n",
       "                var nbb_cell_id = 136;\n",
       "                var nbb_unformatted_code = \"def summary(year, num_references, prior_region, region, known_for_boxes):\\n    return f\\\"You are predicting the life span for a Wikipedia Notable, who died in {year}, with {num_references} references, originally from {prior_region}, and who ultimately resided in {region}.  The individual was known for: {known_for_boxes}.\\\"\";\n",
       "                var nbb_formatted_code = \"def summary(year, num_references, prior_region, region, known_for_boxes):\\n    return f\\\"You are predicting the life span for a Wikipedia Notable, who died in {year}, with {num_references} references, originally from {prior_region}, and who ultimately resided in {region}.  The individual was known for: {known_for_boxes}.\\\"\";\n",
       "                var nbb_cells = Jupyter.notebook.get_cells();\n",
       "                for (var i = 0; i < nbb_cells.length; ++i) {\n",
       "                    if (nbb_cells[i].input_prompt_number == nbb_cell_id) {\n",
       "                        if (nbb_cells[i].get_text() == nbb_unformatted_code) {\n",
       "                             nbb_cells[i].set_text(nbb_formatted_code);\n",
       "                        }\n",
       "                        break;\n",
       "                    }\n",
       "                }\n",
       "            }, 500);\n",
       "            "
      ],
      "text/plain": [
       "<IPython.core.display.Javascript object>"
      ]
     },
     "metadata": {},
     "output_type": "display_data"
    }
   ],
   "source": [
    "def summary(year, num_references, prior_region, region, known_for_boxes):\n",
    "    return f\"You are predicting the life span for a Wikipedia Notable, who died in {year}, with {num_references} references, originally from {prior_region}, and who ultimately resided in {region}.  The individual was known for: {known_for_boxes}.\""
   ]
  },
  {
   "cell_type": "code",
   "execution_count": 138,
   "id": "ab063940",
   "metadata": {
    "scrolled": false
   },
   "outputs": [
    {
     "name": "stdout",
     "output_type": "stream",
     "text": [
      "Running on local URL:  http://127.0.0.1:7918\n",
      "\n",
      "To create a public link, set `share=True` in `launch()`.\n"
     ]
    },
    {
     "data": {
      "text/html": [
       "<div><iframe src=\"http://127.0.0.1:7918/\" width=\"100%\" height=\"500\" allow=\"autoplay; camera; microphone; clipboard-read; clipboard-write;\" frameborder=\"0\" allowfullscreen></iframe></div>"
      ],
      "text/plain": [
       "<IPython.core.display.HTML object>"
      ]
     },
     "metadata": {},
     "output_type": "display_data"
    },
    {
     "data": {
      "text/plain": [
       "(<gradio.routes.App at 0x20af4fd5f70>, 'http://127.0.0.1:7918/', None)"
      ]
     },
     "execution_count": 138,
     "metadata": {},
     "output_type": "execute_result"
    },
    {
     "data": {
      "application/javascript": [
       "\n",
       "            setTimeout(function() {\n",
       "                var nbb_cell_id = 138;\n",
       "                var nbb_unformatted_code = \"with gr.Blocks() as demo:\\n    gr.Markdown(\\\"Make age predictions for Wikipedia Notables using production model.\\\")\\n    year = Slider(1994, 2022, label=\\\"Year of Notable's Death\\\", interactive=True, step=1)\\n    num_references = Slider(\\n        0,\\n        700,\\n        label=\\\"Number of references on Notable's individual Wikipedia page\\\",\\n        interactive=True,\\n        step=1,\\n    )\\n    region = gr.Dropdown(\\n        choices=places, label=\\\"Notable's ultimate geographical location of residency\\\"\\n    )\\n    prior_region = gr.Dropdown(\\n        choices=places, label=\\\"Notable's geographical location of residency at birth\\\"\\n    )\\n    known_for_boxes = gr.CheckboxGroup(\\n        choices=known_for,\\n        label=\\\"Category or categories for which the Notable was known (see category definitions in model features dictionary; Example: sports broadcaster would have categories of sports and arts)\\\",\\n    )\\n    output = gr.Textbox(label=\\\"Summary of Input\\\")\\n    predict_btn = gr.Button(\\\"Predict Notable's Age\\\")\\n    predict_btn.click(\\n        fn=summary,\\n        inputs=[year, num_references, region, prior_region, known_for_boxes],\\n        outputs=output,\\n    )\\n\\n\\ndemo.launch()\";\n",
       "                var nbb_formatted_code = \"with gr.Blocks() as demo:\\n    gr.Markdown(\\\"Make age predictions for Wikipedia Notables using production model.\\\")\\n    year = Slider(1994, 2022, label=\\\"Year of Notable's Death\\\", interactive=True, step=1)\\n    num_references = Slider(\\n        0,\\n        700,\\n        label=\\\"Number of references on Notable's individual Wikipedia page\\\",\\n        interactive=True,\\n        step=1,\\n    )\\n    region = gr.Dropdown(\\n        choices=places, label=\\\"Notable's ultimate geographical location of residency\\\"\\n    )\\n    prior_region = gr.Dropdown(\\n        choices=places, label=\\\"Notable's geographical location of residency at birth\\\"\\n    )\\n    known_for_boxes = gr.CheckboxGroup(\\n        choices=known_for,\\n        label=\\\"Category or categories for which the Notable was known (see category definitions in model features dictionary; Example: sports broadcaster would have categories of sports and arts)\\\",\\n    )\\n    output = gr.Textbox(label=\\\"Summary of Input\\\")\\n    predict_btn = gr.Button(\\\"Predict Notable's Age\\\")\\n    predict_btn.click(\\n        fn=summary,\\n        inputs=[year, num_references, region, prior_region, known_for_boxes],\\n        outputs=output,\\n    )\\n\\n\\ndemo.launch()\";\n",
       "                var nbb_cells = Jupyter.notebook.get_cells();\n",
       "                for (var i = 0; i < nbb_cells.length; ++i) {\n",
       "                    if (nbb_cells[i].input_prompt_number == nbb_cell_id) {\n",
       "                        if (nbb_cells[i].get_text() == nbb_unformatted_code) {\n",
       "                             nbb_cells[i].set_text(nbb_formatted_code);\n",
       "                        }\n",
       "                        break;\n",
       "                    }\n",
       "                }\n",
       "            }, 500);\n",
       "            "
      ],
      "text/plain": [
       "<IPython.core.display.Javascript object>"
      ]
     },
     "metadata": {},
     "output_type": "display_data"
    }
   ],
   "source": [
    "with gr.Blocks() as demo:\n",
    "    gr.Markdown(\"Make age predictions for Wikipedia Notables using production model.\")\n",
    "    year = Slider(1994, 2022, label=\"Year of Notable's Death\", interactive=True, step=1)\n",
    "    num_references = Slider(\n",
    "        0,\n",
    "        700,\n",
    "        label=\"Number of references on Notable's individual Wikipedia page\",\n",
    "        interactive=True,\n",
    "        step=1,\n",
    "    )\n",
    "    region = gr.Dropdown(\n",
    "        choices=places, label=\"Notable's ultimate geographical location of residency\"\n",
    "    )\n",
    "    prior_region = gr.Dropdown(\n",
    "        choices=places, label=\"Notable's geographical location of residency at birth\"\n",
    "    )\n",
    "    known_for_boxes = gr.CheckboxGroup(\n",
    "        choices=known_for,\n",
    "        label=\"Category or categories for which the Notable was known (see category definitions in model features dictionary; Example: sports broadcaster would have categories of sports and arts)\",\n",
    "    )\n",
    "    output = gr.Textbox(label=\"Summary of Input\")\n",
    "    predict_btn = gr.Button(\"Predict Notable's Age\")\n",
    "    predict_btn.click(\n",
    "        fn=summary,\n",
    "        inputs=[year, num_references, region, prior_region, known_for_boxes],\n",
    "        outputs=output,\n",
    "    )\n",
    "\n",
    "\n",
    "demo.launch()"
   ]
  },
  {
   "cell_type": "code",
   "execution_count": null,
   "id": "13ab8896",
   "metadata": {},
   "outputs": [],
   "source": []
  },
  {
   "cell_type": "code",
   "execution_count": null,
   "id": "562037b1",
   "metadata": {},
   "outputs": [],
   "source": []
  },
  {
   "cell_type": "code",
   "execution_count": null,
   "id": "8316968a",
   "metadata": {},
   "outputs": [],
   "source": []
  },
  {
   "cell_type": "code",
   "execution_count": null,
   "id": "a36c0663",
   "metadata": {},
   "outputs": [],
   "source": [
    "print('Complete')\n",
    "\n",
    "# Chime notification when cell executes\n",
    "chime.success()"
   ]
  },
  {
   "cell_type": "markdown",
   "id": "11aacfcc",
   "metadata": {},
   "source": [
    "#### [Return to README ](https://github.com/teresahanak/wikipedia-life-expectancy#explore-the-project)"
   ]
  }
 ],
 "metadata": {
  "kernelspec": {
   "display_name": "Python 3 (ipykernel)",
   "language": "python",
   "name": "python3"
  },
  "language_info": {
   "codemirror_mode": {
    "name": "ipython",
    "version": 3
   },
   "file_extension": ".py",
   "mimetype": "text/x-python",
   "name": "python",
   "nbconvert_exporter": "python",
   "pygments_lexer": "ipython3",
   "version": "3.9.12"
  }
 },
 "nbformat": 4,
 "nbformat_minor": 5
}
