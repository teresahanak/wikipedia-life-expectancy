{
 "cells": [
  {
   "cell_type": "markdown",
   "id": "96e02c6d",
   "metadata": {},
   "source": [
    "# Wikipedia Notable Life Expectancies\n",
    "# [Notebook 7 : Data Cleaning Part 6](https://github.com/teresahanak/wikipedia-life-expectancy/blob/main/wp_life_expect_data_clean6_thanak_2022_07_24.ipynb)\n",
    "### Context\n",
    "\n",
    "The\n",
    "### Objective\n",
    "\n",
    "The\n",
    "### Data Dictionary\n",
    "- Feature: Description"
   ]
  },
  {
   "cell_type": "markdown",
   "id": "59c5677f",
   "metadata": {},
   "source": [
    "### Importing Libraries"
   ]
  },
  {
   "cell_type": "code",
   "execution_count": 1,
   "id": "c941fe69",
   "metadata": {},
   "outputs": [
    {
     "data": {
      "application/javascript": [
       "\n",
       "            setTimeout(function() {\n",
       "                var nbb_cell_id = 1;\n",
       "                var nbb_unformatted_code = \"# To structure code automatically\\n%load_ext nb_black\\n\\n# To import/export sqlite databases\\nimport sqlite3 as sql\\n\\n# To save/open python objects in pickle file\\nimport pickle\\n\\n# To help with reading, cleaning, and manipulating data\\nimport pandas as pd\\nimport numpy as np\\nimport re\\n\\n# To define maximum number of columns to be displayed in a dataframe\\npd.set_option(\\\"display.max_columns\\\", None)\\n# To define the maximum number of rows to be displayed in a dataframe\\npd.set_option(\\\"display.max_rows\\\", 200)\\n\\n# To supress warnings\\n# import warnings\\n\\n# warnings.filterwarnings(\\\"ignore\\\")\\n\\n# To set some visualization attributes\\npd.set_option(\\\"max_colwidth\\\", 150)\\n\\n# To play auditory cue when cell has executed, has warning, or has error and set chime theme\\nimport chime\\n\\nchime.theme(\\\"zelda\\\")\";\n",
       "                var nbb_formatted_code = \"# To structure code automatically\\n%load_ext nb_black\\n\\n# To import/export sqlite databases\\nimport sqlite3 as sql\\n\\n# To save/open python objects in pickle file\\nimport pickle\\n\\n# To help with reading, cleaning, and manipulating data\\nimport pandas as pd\\nimport numpy as np\\nimport re\\n\\n# To define maximum number of columns to be displayed in a dataframe\\npd.set_option(\\\"display.max_columns\\\", None)\\n# To define the maximum number of rows to be displayed in a dataframe\\npd.set_option(\\\"display.max_rows\\\", 200)\\n\\n# To supress warnings\\n# import warnings\\n\\n# warnings.filterwarnings(\\\"ignore\\\")\\n\\n# To set some visualization attributes\\npd.set_option(\\\"max_colwidth\\\", 150)\\n\\n# To play auditory cue when cell has executed, has warning, or has error and set chime theme\\nimport chime\\n\\nchime.theme(\\\"zelda\\\")\";\n",
       "                var nbb_cells = Jupyter.notebook.get_cells();\n",
       "                for (var i = 0; i < nbb_cells.length; ++i) {\n",
       "                    if (nbb_cells[i].input_prompt_number == nbb_cell_id) {\n",
       "                        if (nbb_cells[i].get_text() == nbb_unformatted_code) {\n",
       "                             nbb_cells[i].set_text(nbb_formatted_code);\n",
       "                        }\n",
       "                        break;\n",
       "                    }\n",
       "                }\n",
       "            }, 500);\n",
       "            "
      ],
      "text/plain": [
       "<IPython.core.display.Javascript object>"
      ]
     },
     "metadata": {},
     "output_type": "display_data"
    }
   ],
   "source": [
    "# To structure code automatically\n",
    "%load_ext nb_black\n",
    "\n",
    "# To import/export sqlite databases\n",
    "import sqlite3 as sql\n",
    "\n",
    "# To save/open python objects in pickle file\n",
    "import pickle\n",
    "\n",
    "# To help with reading, cleaning, and manipulating data\n",
    "import pandas as pd\n",
    "import numpy as np\n",
    "import re\n",
    "\n",
    "# To define maximum number of columns to be displayed in a dataframe\n",
    "pd.set_option(\"display.max_columns\", None)\n",
    "# To define the maximum number of rows to be displayed in a dataframe\n",
    "pd.set_option(\"display.max_rows\", 200)\n",
    "\n",
    "# To supress warnings\n",
    "# import warnings\n",
    "\n",
    "# warnings.filterwarnings(\"ignore\")\n",
    "\n",
    "# To set some visualization attributes\n",
    "pd.set_option(\"max_colwidth\", 150)\n",
    "\n",
    "# To play auditory cue when cell has executed, has warning, or has error and set chime theme\n",
    "import chime\n",
    "\n",
    "chime.theme(\"zelda\")"
   ]
  },
  {
   "cell_type": "markdown",
   "id": "8f8af59a",
   "metadata": {},
   "source": [
    "## Data Overview"
   ]
  },
  {
   "cell_type": "markdown",
   "id": "1d92bc54",
   "metadata": {},
   "source": [
    "### Reading, Sampling, and Checking Data Shape"
   ]
  },
  {
   "cell_type": "code",
   "execution_count": 2,
   "id": "7bcd83d0",
   "metadata": {},
   "outputs": [
    {
     "name": "stdout",
     "output_type": "stream",
     "text": [
      "There are 98060 rows and 38 columns.\n"
     ]
    },
    {
     "data": {
      "text/html": [
       "<div>\n",
       "<style scoped>\n",
       "    .dataframe tbody tr th:only-of-type {\n",
       "        vertical-align: middle;\n",
       "    }\n",
       "\n",
       "    .dataframe tbody tr th {\n",
       "        vertical-align: top;\n",
       "    }\n",
       "\n",
       "    .dataframe thead th {\n",
       "        text-align: right;\n",
       "    }\n",
       "</style>\n",
       "<table border=\"1\" class=\"dataframe\">\n",
       "  <thead>\n",
       "    <tr style=\"text-align: right;\">\n",
       "      <th></th>\n",
       "      <th>day</th>\n",
       "      <th>name</th>\n",
       "      <th>info</th>\n",
       "      <th>link</th>\n",
       "      <th>num_references</th>\n",
       "      <th>year</th>\n",
       "      <th>month</th>\n",
       "      <th>info_parenth</th>\n",
       "      <th>info_1</th>\n",
       "      <th>info_2</th>\n",
       "      <th>info_3</th>\n",
       "      <th>info_4</th>\n",
       "      <th>info_5</th>\n",
       "      <th>info_6</th>\n",
       "      <th>info_7</th>\n",
       "      <th>info_8</th>\n",
       "      <th>info_9</th>\n",
       "      <th>info_10</th>\n",
       "      <th>info_11</th>\n",
       "      <th>age</th>\n",
       "      <th>cause_of_death</th>\n",
       "      <th>place_1</th>\n",
       "      <th>place_2</th>\n",
       "      <th>info_parenth_copy</th>\n",
       "      <th>log_num_references</th>\n",
       "      <th>sciences</th>\n",
       "      <th>social</th>\n",
       "      <th>spiritual</th>\n",
       "      <th>academia_humanities</th>\n",
       "      <th>business_farming</th>\n",
       "      <th>arts</th>\n",
       "      <th>sports</th>\n",
       "      <th>law_enf_military_operator</th>\n",
       "      <th>politics_govt_law</th>\n",
       "      <th>crime</th>\n",
       "      <th>event_record_other</th>\n",
       "      <th>other_species</th>\n",
       "      <th>num_categories</th>\n",
       "    </tr>\n",
       "  </thead>\n",
       "  <tbody>\n",
       "    <tr>\n",
       "      <th>0</th>\n",
       "      <td>1</td>\n",
       "      <td>William Chappell</td>\n",
       "      <td>, 86, British dancer, ballet designer and director.</td>\n",
       "      <td>https://en.wikipedia.org/wiki/William_Chappell_(dancer)</td>\n",
       "      <td>21</td>\n",
       "      <td>1994</td>\n",
       "      <td>January</td>\n",
       "      <td>None</td>\n",
       "      <td>None</td>\n",
       "      <td>dancer</td>\n",
       "      <td>ballet designer and director</td>\n",
       "      <td>None</td>\n",
       "      <td>None</td>\n",
       "      <td>None</td>\n",
       "      <td>None</td>\n",
       "      <td>None</td>\n",
       "      <td>None</td>\n",
       "      <td>None</td>\n",
       "      <td>None</td>\n",
       "      <td>86.0</td>\n",
       "      <td>None</td>\n",
       "      <td>United Kingdom of Great Britain and Northern Ireland</td>\n",
       "      <td>None</td>\n",
       "      <td>None</td>\n",
       "      <td>3.091042</td>\n",
       "      <td>0</td>\n",
       "      <td>0</td>\n",
       "      <td>0</td>\n",
       "      <td>0</td>\n",
       "      <td>0</td>\n",
       "      <td>0</td>\n",
       "      <td>0</td>\n",
       "      <td>0</td>\n",
       "      <td>0</td>\n",
       "      <td>0</td>\n",
       "      <td>0</td>\n",
       "      <td>0</td>\n",
       "      <td>0</td>\n",
       "    </tr>\n",
       "    <tr>\n",
       "      <th>1</th>\n",
       "      <td>1</td>\n",
       "      <td>Raymond Crotty</td>\n",
       "      <td>, 68, Irish economist, writer, and academic.</td>\n",
       "      <td>https://en.wikipedia.org/wiki/Raymond_Crotty</td>\n",
       "      <td>12</td>\n",
       "      <td>1994</td>\n",
       "      <td>January</td>\n",
       "      <td>None</td>\n",
       "      <td>None</td>\n",
       "      <td>economist</td>\n",
       "      <td>writer</td>\n",
       "      <td>and academic</td>\n",
       "      <td>None</td>\n",
       "      <td>None</td>\n",
       "      <td>None</td>\n",
       "      <td>None</td>\n",
       "      <td>None</td>\n",
       "      <td>None</td>\n",
       "      <td>None</td>\n",
       "      <td>68.0</td>\n",
       "      <td>None</td>\n",
       "      <td>Ireland</td>\n",
       "      <td>None</td>\n",
       "      <td>None</td>\n",
       "      <td>2.564949</td>\n",
       "      <td>0</td>\n",
       "      <td>0</td>\n",
       "      <td>0</td>\n",
       "      <td>0</td>\n",
       "      <td>0</td>\n",
       "      <td>0</td>\n",
       "      <td>0</td>\n",
       "      <td>0</td>\n",
       "      <td>0</td>\n",
       "      <td>0</td>\n",
       "      <td>0</td>\n",
       "      <td>0</td>\n",
       "      <td>0</td>\n",
       "    </tr>\n",
       "  </tbody>\n",
       "</table>\n",
       "</div>"
      ],
      "text/plain": [
       "  day              name                                                 info  \\\n",
       "0   1  William Chappell  , 86, British dancer, ballet designer and director.   \n",
       "1   1    Raymond Crotty         , 68, Irish economist, writer, and academic.   \n",
       "\n",
       "                                                      link  num_references  \\\n",
       "0  https://en.wikipedia.org/wiki/William_Chappell_(dancer)              21   \n",
       "1             https://en.wikipedia.org/wiki/Raymond_Crotty              12   \n",
       "\n",
       "   year    month info_parenth info_1     info_2                        info_3  \\\n",
       "0  1994  January         None   None     dancer  ballet designer and director   \n",
       "1  1994  January         None   None  economist                        writer   \n",
       "\n",
       "         info_4 info_5 info_6 info_7 info_8 info_9 info_10 info_11   age  \\\n",
       "0          None   None   None   None   None   None    None    None  86.0   \n",
       "1  and academic   None   None   None   None   None    None    None  68.0   \n",
       "\n",
       "  cause_of_death                                               place_1  \\\n",
       "0           None  United Kingdom of Great Britain and Northern Ireland   \n",
       "1           None                                               Ireland   \n",
       "\n",
       "  place_2 info_parenth_copy  log_num_references  sciences  social  spiritual  \\\n",
       "0    None              None            3.091042         0       0          0   \n",
       "1    None              None            2.564949         0       0          0   \n",
       "\n",
       "   academia_humanities  business_farming  arts  sports  \\\n",
       "0                    0                 0     0       0   \n",
       "1                    0                 0     0       0   \n",
       "\n",
       "   law_enf_military_operator  politics_govt_law  crime  event_record_other  \\\n",
       "0                          0                  0      0                   0   \n",
       "1                          0                  0      0                   0   \n",
       "\n",
       "   other_species  num_categories  \n",
       "0              0               0  \n",
       "1              0               0  "
      ]
     },
     "execution_count": 2,
     "metadata": {},
     "output_type": "execute_result"
    },
    {
     "data": {
      "application/javascript": [
       "\n",
       "            setTimeout(function() {\n",
       "                var nbb_cell_id = 2;\n",
       "                var nbb_unformatted_code = \"# Reading the dataset\\nconn = sql.connect(\\\"wp_life_expect_clean5.db\\\")\\ndata = pd.read_sql(\\\"SELECT * FROM wp_life_expect_clean5\\\", conn)\\n\\n# Making a working copy\\ndf = data.copy()\\n\\n# Checking the shape\\nprint(f\\\"There are {df.shape[0]} rows and {df.shape[1]} columns.\\\")\\n\\n# Checking first 2 rows of the data\\ndf.head(2)\";\n",
       "                var nbb_formatted_code = \"# Reading the dataset\\nconn = sql.connect(\\\"wp_life_expect_clean5.db\\\")\\ndata = pd.read_sql(\\\"SELECT * FROM wp_life_expect_clean5\\\", conn)\\n\\n# Making a working copy\\ndf = data.copy()\\n\\n# Checking the shape\\nprint(f\\\"There are {df.shape[0]} rows and {df.shape[1]} columns.\\\")\\n\\n# Checking first 2 rows of the data\\ndf.head(2)\";\n",
       "                var nbb_cells = Jupyter.notebook.get_cells();\n",
       "                for (var i = 0; i < nbb_cells.length; ++i) {\n",
       "                    if (nbb_cells[i].input_prompt_number == nbb_cell_id) {\n",
       "                        if (nbb_cells[i].get_text() == nbb_unformatted_code) {\n",
       "                             nbb_cells[i].set_text(nbb_formatted_code);\n",
       "                        }\n",
       "                        break;\n",
       "                    }\n",
       "                }\n",
       "            }, 500);\n",
       "            "
      ],
      "text/plain": [
       "<IPython.core.display.Javascript object>"
      ]
     },
     "metadata": {},
     "output_type": "display_data"
    }
   ],
   "source": [
    "# Reading the dataset\n",
    "conn = sql.connect(\"wp_life_expect_clean5.db\")\n",
    "data = pd.read_sql(\"SELECT * FROM wp_life_expect_clean5\", conn)\n",
    "\n",
    "# Making a working copy\n",
    "df = data.copy()\n",
    "\n",
    "# Checking the shape\n",
    "print(f\"There are {df.shape[0]} rows and {df.shape[1]} columns.\")\n",
    "\n",
    "# Checking first 2 rows of the data\n",
    "df.head(2)"
   ]
  },
  {
   "cell_type": "code",
   "execution_count": 3,
   "id": "6a12f2cd",
   "metadata": {},
   "outputs": [
    {
     "data": {
      "text/html": [
       "<div>\n",
       "<style scoped>\n",
       "    .dataframe tbody tr th:only-of-type {\n",
       "        vertical-align: middle;\n",
       "    }\n",
       "\n",
       "    .dataframe tbody tr th {\n",
       "        vertical-align: top;\n",
       "    }\n",
       "\n",
       "    .dataframe thead th {\n",
       "        text-align: right;\n",
       "    }\n",
       "</style>\n",
       "<table border=\"1\" class=\"dataframe\">\n",
       "  <thead>\n",
       "    <tr style=\"text-align: right;\">\n",
       "      <th></th>\n",
       "      <th>day</th>\n",
       "      <th>name</th>\n",
       "      <th>info</th>\n",
       "      <th>link</th>\n",
       "      <th>num_references</th>\n",
       "      <th>year</th>\n",
       "      <th>month</th>\n",
       "      <th>info_parenth</th>\n",
       "      <th>info_1</th>\n",
       "      <th>info_2</th>\n",
       "      <th>info_3</th>\n",
       "      <th>info_4</th>\n",
       "      <th>info_5</th>\n",
       "      <th>info_6</th>\n",
       "      <th>info_7</th>\n",
       "      <th>info_8</th>\n",
       "      <th>info_9</th>\n",
       "      <th>info_10</th>\n",
       "      <th>info_11</th>\n",
       "      <th>age</th>\n",
       "      <th>cause_of_death</th>\n",
       "      <th>place_1</th>\n",
       "      <th>place_2</th>\n",
       "      <th>info_parenth_copy</th>\n",
       "      <th>log_num_references</th>\n",
       "      <th>sciences</th>\n",
       "      <th>social</th>\n",
       "      <th>spiritual</th>\n",
       "      <th>academia_humanities</th>\n",
       "      <th>business_farming</th>\n",
       "      <th>arts</th>\n",
       "      <th>sports</th>\n",
       "      <th>law_enf_military_operator</th>\n",
       "      <th>politics_govt_law</th>\n",
       "      <th>crime</th>\n",
       "      <th>event_record_other</th>\n",
       "      <th>other_species</th>\n",
       "      <th>num_categories</th>\n",
       "    </tr>\n",
       "  </thead>\n",
       "  <tbody>\n",
       "    <tr>\n",
       "      <th>98058</th>\n",
       "      <td>9</td>\n",
       "      <td>Aamir Liaquat Hussain</td>\n",
       "      <td>, 50, Pakistani journalist and politician, MNA .</td>\n",
       "      <td>https://en.wikipedia.org/wiki/Aamir_Liaquat_Hussain</td>\n",
       "      <td>99</td>\n",
       "      <td>2022</td>\n",
       "      <td>June</td>\n",
       "      <td>, since</td>\n",
       "      <td>None</td>\n",
       "      <td></td>\n",
       "      <td>MNA</td>\n",
       "      <td>None</td>\n",
       "      <td>None</td>\n",
       "      <td>None</td>\n",
       "      <td>None</td>\n",
       "      <td>None</td>\n",
       "      <td>None</td>\n",
       "      <td>None</td>\n",
       "      <td>None</td>\n",
       "      <td>50.0</td>\n",
       "      <td>None</td>\n",
       "      <td>Pakistan</td>\n",
       "      <td>None</td>\n",
       "      <td>2002 2007, since 2018</td>\n",
       "      <td>4.605170</td>\n",
       "      <td>0</td>\n",
       "      <td>0</td>\n",
       "      <td>0</td>\n",
       "      <td>0</td>\n",
       "      <td>0</td>\n",
       "      <td>1</td>\n",
       "      <td>0</td>\n",
       "      <td>0</td>\n",
       "      <td>1</td>\n",
       "      <td>0</td>\n",
       "      <td>0</td>\n",
       "      <td>0</td>\n",
       "      <td>2</td>\n",
       "    </tr>\n",
       "    <tr>\n",
       "      <th>98059</th>\n",
       "      <td>9</td>\n",
       "      <td>Zou Jing</td>\n",
       "      <td>, 86, Chinese engineer, member of the Chinese Academy of Engineering.</td>\n",
       "      <td>https://en.wikipedia.org/wiki/Zou_Jing_(engineer)</td>\n",
       "      <td>3</td>\n",
       "      <td>2022</td>\n",
       "      <td>June</td>\n",
       "      <td>None</td>\n",
       "      <td>None</td>\n",
       "      <td>engineer</td>\n",
       "      <td>member of the Academy of Engineering</td>\n",
       "      <td>None</td>\n",
       "      <td>None</td>\n",
       "      <td>None</td>\n",
       "      <td>None</td>\n",
       "      <td>None</td>\n",
       "      <td>None</td>\n",
       "      <td>None</td>\n",
       "      <td>None</td>\n",
       "      <td>86.0</td>\n",
       "      <td>None</td>\n",
       "      <td>China, People's Republic of</td>\n",
       "      <td>None</td>\n",
       "      <td>None</td>\n",
       "      <td>1.386294</td>\n",
       "      <td>0</td>\n",
       "      <td>0</td>\n",
       "      <td>0</td>\n",
       "      <td>0</td>\n",
       "      <td>0</td>\n",
       "      <td>0</td>\n",
       "      <td>0</td>\n",
       "      <td>0</td>\n",
       "      <td>0</td>\n",
       "      <td>0</td>\n",
       "      <td>0</td>\n",
       "      <td>0</td>\n",
       "      <td>0</td>\n",
       "    </tr>\n",
       "  </tbody>\n",
       "</table>\n",
       "</div>"
      ],
      "text/plain": [
       "      day                   name  \\\n",
       "98058   9  Aamir Liaquat Hussain   \n",
       "98059   9               Zou Jing   \n",
       "\n",
       "                                                                        info  \\\n",
       "98058                       , 50, Pakistani journalist and politician, MNA .   \n",
       "98059  , 86, Chinese engineer, member of the Chinese Academy of Engineering.   \n",
       "\n",
       "                                                      link  num_references  \\\n",
       "98058  https://en.wikipedia.org/wiki/Aamir_Liaquat_Hussain              99   \n",
       "98059    https://en.wikipedia.org/wiki/Zou_Jing_(engineer)               3   \n",
       "\n",
       "       year month info_parenth info_1    info_2  \\\n",
       "98058  2022  June      , since   None             \n",
       "98059  2022  June         None   None  engineer   \n",
       "\n",
       "                                     info_3 info_4 info_5 info_6 info_7  \\\n",
       "98058                                   MNA   None   None   None   None   \n",
       "98059  member of the Academy of Engineering   None   None   None   None   \n",
       "\n",
       "      info_8 info_9 info_10 info_11   age cause_of_death  \\\n",
       "98058   None   None    None    None  50.0           None   \n",
       "98059   None   None    None    None  86.0           None   \n",
       "\n",
       "                           place_1 place_2      info_parenth_copy  \\\n",
       "98058                     Pakistan    None  2002 2007, since 2018   \n",
       "98059  China, People's Republic of    None                   None   \n",
       "\n",
       "       log_num_references  sciences  social  spiritual  academia_humanities  \\\n",
       "98058            4.605170         0       0          0                    0   \n",
       "98059            1.386294         0       0          0                    0   \n",
       "\n",
       "       business_farming  arts  sports  law_enf_military_operator  \\\n",
       "98058                 0     1       0                          0   \n",
       "98059                 0     0       0                          0   \n",
       "\n",
       "       politics_govt_law  crime  event_record_other  other_species  \\\n",
       "98058                  1      0                   0              0   \n",
       "98059                  0      0                   0              0   \n",
       "\n",
       "       num_categories  \n",
       "98058               2  \n",
       "98059               0  "
      ]
     },
     "execution_count": 3,
     "metadata": {},
     "output_type": "execute_result"
    },
    {
     "data": {
      "application/javascript": [
       "\n",
       "            setTimeout(function() {\n",
       "                var nbb_cell_id = 3;\n",
       "                var nbb_unformatted_code = \"# Checking last 2 rows of the data\\ndf.tail(2)\";\n",
       "                var nbb_formatted_code = \"# Checking last 2 rows of the data\\ndf.tail(2)\";\n",
       "                var nbb_cells = Jupyter.notebook.get_cells();\n",
       "                for (var i = 0; i < nbb_cells.length; ++i) {\n",
       "                    if (nbb_cells[i].input_prompt_number == nbb_cell_id) {\n",
       "                        if (nbb_cells[i].get_text() == nbb_unformatted_code) {\n",
       "                             nbb_cells[i].set_text(nbb_formatted_code);\n",
       "                        }\n",
       "                        break;\n",
       "                    }\n",
       "                }\n",
       "            }, 500);\n",
       "            "
      ],
      "text/plain": [
       "<IPython.core.display.Javascript object>"
      ]
     },
     "metadata": {},
     "output_type": "display_data"
    }
   ],
   "source": [
    "# Checking last 2 rows of the data\n",
    "df.tail(2)"
   ]
  },
  {
   "cell_type": "code",
   "execution_count": 4,
   "id": "cbd77172",
   "metadata": {},
   "outputs": [
    {
     "data": {
      "text/html": [
       "<div>\n",
       "<style scoped>\n",
       "    .dataframe tbody tr th:only-of-type {\n",
       "        vertical-align: middle;\n",
       "    }\n",
       "\n",
       "    .dataframe tbody tr th {\n",
       "        vertical-align: top;\n",
       "    }\n",
       "\n",
       "    .dataframe thead th {\n",
       "        text-align: right;\n",
       "    }\n",
       "</style>\n",
       "<table border=\"1\" class=\"dataframe\">\n",
       "  <thead>\n",
       "    <tr style=\"text-align: right;\">\n",
       "      <th></th>\n",
       "      <th>day</th>\n",
       "      <th>name</th>\n",
       "      <th>info</th>\n",
       "      <th>link</th>\n",
       "      <th>num_references</th>\n",
       "      <th>year</th>\n",
       "      <th>month</th>\n",
       "      <th>info_parenth</th>\n",
       "      <th>info_1</th>\n",
       "      <th>info_2</th>\n",
       "      <th>info_3</th>\n",
       "      <th>info_4</th>\n",
       "      <th>info_5</th>\n",
       "      <th>info_6</th>\n",
       "      <th>info_7</th>\n",
       "      <th>info_8</th>\n",
       "      <th>info_9</th>\n",
       "      <th>info_10</th>\n",
       "      <th>info_11</th>\n",
       "      <th>age</th>\n",
       "      <th>cause_of_death</th>\n",
       "      <th>place_1</th>\n",
       "      <th>place_2</th>\n",
       "      <th>info_parenth_copy</th>\n",
       "      <th>log_num_references</th>\n",
       "      <th>sciences</th>\n",
       "      <th>social</th>\n",
       "      <th>spiritual</th>\n",
       "      <th>academia_humanities</th>\n",
       "      <th>business_farming</th>\n",
       "      <th>arts</th>\n",
       "      <th>sports</th>\n",
       "      <th>law_enf_military_operator</th>\n",
       "      <th>politics_govt_law</th>\n",
       "      <th>crime</th>\n",
       "      <th>event_record_other</th>\n",
       "      <th>other_species</th>\n",
       "      <th>num_categories</th>\n",
       "    </tr>\n",
       "  </thead>\n",
       "  <tbody>\n",
       "    <tr>\n",
       "      <th>52561</th>\n",
       "      <td>23</td>\n",
       "      <td>Søren Kam</td>\n",
       "      <td>, 93, Danish Nazi war criminal.</td>\n",
       "      <td>https://en.wikipedia.org/wiki/S%C3%B8ren_Kam</td>\n",
       "      <td>27</td>\n",
       "      <td>2015</td>\n",
       "      <td>March</td>\n",
       "      <td>None</td>\n",
       "      <td>None</td>\n",
       "      <td>war criminal</td>\n",
       "      <td>None</td>\n",
       "      <td>None</td>\n",
       "      <td>None</td>\n",
       "      <td>None</td>\n",
       "      <td>None</td>\n",
       "      <td>None</td>\n",
       "      <td>None</td>\n",
       "      <td>None</td>\n",
       "      <td>None</td>\n",
       "      <td>93.0</td>\n",
       "      <td>None</td>\n",
       "      <td>Denmark</td>\n",
       "      <td>Germany</td>\n",
       "      <td>None</td>\n",
       "      <td>3.332205</td>\n",
       "      <td>0</td>\n",
       "      <td>0</td>\n",
       "      <td>0</td>\n",
       "      <td>0</td>\n",
       "      <td>0</td>\n",
       "      <td>0</td>\n",
       "      <td>0</td>\n",
       "      <td>0</td>\n",
       "      <td>0</td>\n",
       "      <td>0</td>\n",
       "      <td>0</td>\n",
       "      <td>0</td>\n",
       "      <td>0</td>\n",
       "    </tr>\n",
       "    <tr>\n",
       "      <th>21487</th>\n",
       "      <td>29</td>\n",
       "      <td>Omeljan Pritsak</td>\n",
       "      <td>, 87, Austrian-born American Harvard professor, scholar and authority on Ukraine.</td>\n",
       "      <td>https://en.wikipedia.org/wiki/Omeljan_Pritsak</td>\n",
       "      <td>8</td>\n",
       "      <td>2006</td>\n",
       "      <td>May</td>\n",
       "      <td>None</td>\n",
       "      <td>None</td>\n",
       "      <td>professor</td>\n",
       "      <td>scholar and authority on</td>\n",
       "      <td>None</td>\n",
       "      <td>None</td>\n",
       "      <td>None</td>\n",
       "      <td>None</td>\n",
       "      <td>None</td>\n",
       "      <td>None</td>\n",
       "      <td>None</td>\n",
       "      <td>None</td>\n",
       "      <td>87.0</td>\n",
       "      <td>None</td>\n",
       "      <td>Austria</td>\n",
       "      <td>United States of America</td>\n",
       "      <td>None</td>\n",
       "      <td>2.197225</td>\n",
       "      <td>0</td>\n",
       "      <td>0</td>\n",
       "      <td>0</td>\n",
       "      <td>0</td>\n",
       "      <td>0</td>\n",
       "      <td>0</td>\n",
       "      <td>0</td>\n",
       "      <td>0</td>\n",
       "      <td>0</td>\n",
       "      <td>0</td>\n",
       "      <td>0</td>\n",
       "      <td>0</td>\n",
       "      <td>0</td>\n",
       "    </tr>\n",
       "    <tr>\n",
       "      <th>63947</th>\n",
       "      <td>8</td>\n",
       "      <td>Jill Singer</td>\n",
       "      <td>, 60, Australian journalist , .</td>\n",
       "      <td>https://en.wikipedia.org/wiki/Jill_Singer</td>\n",
       "      <td>10</td>\n",
       "      <td>2017</td>\n",
       "      <td>June</td>\n",
       "      <td>ABC, Seven, AL amyloidosis</td>\n",
       "      <td>None</td>\n",
       "      <td></td>\n",
       "      <td>None</td>\n",
       "      <td>None</td>\n",
       "      <td>None</td>\n",
       "      <td>None</td>\n",
       "      <td>None</td>\n",
       "      <td>None</td>\n",
       "      <td>None</td>\n",
       "      <td>None</td>\n",
       "      <td>None</td>\n",
       "      <td>60.0</td>\n",
       "      <td>None</td>\n",
       "      <td>Australia</td>\n",
       "      <td>None</td>\n",
       "      <td>ABC, Seven, AL amyloidosis</td>\n",
       "      <td>2.397895</td>\n",
       "      <td>0</td>\n",
       "      <td>0</td>\n",
       "      <td>0</td>\n",
       "      <td>0</td>\n",
       "      <td>0</td>\n",
       "      <td>1</td>\n",
       "      <td>0</td>\n",
       "      <td>0</td>\n",
       "      <td>0</td>\n",
       "      <td>0</td>\n",
       "      <td>0</td>\n",
       "      <td>0</td>\n",
       "      <td>1</td>\n",
       "    </tr>\n",
       "    <tr>\n",
       "      <th>37758</th>\n",
       "      <td>14</td>\n",
       "      <td>Pierre Schoendoerffer</td>\n",
       "      <td>, 83, French director , surgical complications.</td>\n",
       "      <td>https://en.wikipedia.org/wiki/Pierre_Schoendoerffer</td>\n",
       "      <td>10</td>\n",
       "      <td>2012</td>\n",
       "      <td>March</td>\n",
       "      <td></td>\n",
       "      <td>None</td>\n",
       "      <td>director</td>\n",
       "      <td>surgical complications</td>\n",
       "      <td>None</td>\n",
       "      <td>None</td>\n",
       "      <td>None</td>\n",
       "      <td>None</td>\n",
       "      <td>None</td>\n",
       "      <td>None</td>\n",
       "      <td>None</td>\n",
       "      <td>None</td>\n",
       "      <td>83.0</td>\n",
       "      <td>None</td>\n",
       "      <td>France</td>\n",
       "      <td>None</td>\n",
       "      <td></td>\n",
       "      <td>2.397895</td>\n",
       "      <td>0</td>\n",
       "      <td>0</td>\n",
       "      <td>0</td>\n",
       "      <td>0</td>\n",
       "      <td>0</td>\n",
       "      <td>0</td>\n",
       "      <td>0</td>\n",
       "      <td>0</td>\n",
       "      <td>0</td>\n",
       "      <td>0</td>\n",
       "      <td>0</td>\n",
       "      <td>0</td>\n",
       "      <td>0</td>\n",
       "    </tr>\n",
       "    <tr>\n",
       "      <th>4488</th>\n",
       "      <td>1</td>\n",
       "      <td>Karl Kehrle</td>\n",
       "      <td>, 98, German-British Benedictine monk and bee breeding authority.</td>\n",
       "      <td>https://en.wikipedia.org/wiki/Karl_Kehrle</td>\n",
       "      <td>4</td>\n",
       "      <td>1996</td>\n",
       "      <td>September</td>\n",
       "      <td>None</td>\n",
       "      <td>None</td>\n",
       "      <td>Benedictine monk</td>\n",
       "      <td>None</td>\n",
       "      <td>None</td>\n",
       "      <td>None</td>\n",
       "      <td>None</td>\n",
       "      <td>None</td>\n",
       "      <td>None</td>\n",
       "      <td>None</td>\n",
       "      <td>None</td>\n",
       "      <td>None</td>\n",
       "      <td>98.0</td>\n",
       "      <td>None</td>\n",
       "      <td>Germany</td>\n",
       "      <td>United Kingdom of Great Britain and Northern Ireland</td>\n",
       "      <td>None</td>\n",
       "      <td>1.609438</td>\n",
       "      <td>1</td>\n",
       "      <td>0</td>\n",
       "      <td>0</td>\n",
       "      <td>0</td>\n",
       "      <td>0</td>\n",
       "      <td>0</td>\n",
       "      <td>0</td>\n",
       "      <td>0</td>\n",
       "      <td>0</td>\n",
       "      <td>0</td>\n",
       "      <td>0</td>\n",
       "      <td>0</td>\n",
       "      <td>1</td>\n",
       "    </tr>\n",
       "  </tbody>\n",
       "</table>\n",
       "</div>"
      ],
      "text/plain": [
       "      day                   name  \\\n",
       "52561  23              Søren Kam   \n",
       "21487  29        Omeljan Pritsak   \n",
       "63947   8            Jill Singer   \n",
       "37758  14  Pierre Schoendoerffer   \n",
       "4488    1            Karl Kehrle   \n",
       "\n",
       "                                                                                    info  \\\n",
       "52561                                                    , 93, Danish Nazi war criminal.   \n",
       "21487  , 87, Austrian-born American Harvard professor, scholar and authority on Ukraine.   \n",
       "63947                                                    , 60, Australian journalist , .   \n",
       "37758                                    , 83, French director , surgical complications.   \n",
       "4488                   , 98, German-British Benedictine monk and bee breeding authority.   \n",
       "\n",
       "                                                      link  num_references  \\\n",
       "52561         https://en.wikipedia.org/wiki/S%C3%B8ren_Kam              27   \n",
       "21487        https://en.wikipedia.org/wiki/Omeljan_Pritsak               8   \n",
       "63947            https://en.wikipedia.org/wiki/Jill_Singer              10   \n",
       "37758  https://en.wikipedia.org/wiki/Pierre_Schoendoerffer              10   \n",
       "4488             https://en.wikipedia.org/wiki/Karl_Kehrle               4   \n",
       "\n",
       "       year      month                info_parenth info_1            info_2  \\\n",
       "52561  2015      March                        None   None      war criminal   \n",
       "21487  2006        May                        None   None         professor   \n",
       "63947  2017       June  ABC, Seven, AL amyloidosis   None                     \n",
       "37758  2012      March                               None          director   \n",
       "4488   1996  September                        None   None  Benedictine monk   \n",
       "\n",
       "                         info_3 info_4 info_5 info_6 info_7 info_8 info_9  \\\n",
       "52561                      None   None   None   None   None   None   None   \n",
       "21487  scholar and authority on   None   None   None   None   None   None   \n",
       "63947                      None   None   None   None   None   None   None   \n",
       "37758    surgical complications   None   None   None   None   None   None   \n",
       "4488                       None   None   None   None   None   None   None   \n",
       "\n",
       "      info_10 info_11   age cause_of_death    place_1  \\\n",
       "52561    None    None  93.0           None    Denmark   \n",
       "21487    None    None  87.0           None    Austria   \n",
       "63947    None    None  60.0           None  Australia   \n",
       "37758    None    None  83.0           None     France   \n",
       "4488     None    None  98.0           None    Germany   \n",
       "\n",
       "                                                    place_2  \\\n",
       "52561                                               Germany   \n",
       "21487                              United States of America   \n",
       "63947                                                  None   \n",
       "37758                                                  None   \n",
       "4488   United Kingdom of Great Britain and Northern Ireland   \n",
       "\n",
       "                info_parenth_copy  log_num_references  sciences  social  \\\n",
       "52561                        None            3.332205         0       0   \n",
       "21487                        None            2.197225         0       0   \n",
       "63947  ABC, Seven, AL amyloidosis            2.397895         0       0   \n",
       "37758                                        2.397895         0       0   \n",
       "4488                         None            1.609438         1       0   \n",
       "\n",
       "       spiritual  academia_humanities  business_farming  arts  sports  \\\n",
       "52561          0                    0                 0     0       0   \n",
       "21487          0                    0                 0     0       0   \n",
       "63947          0                    0                 0     1       0   \n",
       "37758          0                    0                 0     0       0   \n",
       "4488           0                    0                 0     0       0   \n",
       "\n",
       "       law_enf_military_operator  politics_govt_law  crime  \\\n",
       "52561                          0                  0      0   \n",
       "21487                          0                  0      0   \n",
       "63947                          0                  0      0   \n",
       "37758                          0                  0      0   \n",
       "4488                           0                  0      0   \n",
       "\n",
       "       event_record_other  other_species  num_categories  \n",
       "52561                   0              0               0  \n",
       "21487                   0              0               0  \n",
       "63947                   0              0               1  \n",
       "37758                   0              0               0  \n",
       "4488                    0              0               1  "
      ]
     },
     "execution_count": 4,
     "metadata": {},
     "output_type": "execute_result"
    },
    {
     "data": {
      "application/javascript": [
       "\n",
       "            setTimeout(function() {\n",
       "                var nbb_cell_id = 4;\n",
       "                var nbb_unformatted_code = \"# Checking a sample of the data\\ndf.sample(5)\";\n",
       "                var nbb_formatted_code = \"# Checking a sample of the data\\ndf.sample(5)\";\n",
       "                var nbb_cells = Jupyter.notebook.get_cells();\n",
       "                for (var i = 0; i < nbb_cells.length; ++i) {\n",
       "                    if (nbb_cells[i].input_prompt_number == nbb_cell_id) {\n",
       "                        if (nbb_cells[i].get_text() == nbb_unformatted_code) {\n",
       "                             nbb_cells[i].set_text(nbb_formatted_code);\n",
       "                        }\n",
       "                        break;\n",
       "                    }\n",
       "                }\n",
       "            }, 500);\n",
       "            "
      ],
      "text/plain": [
       "<IPython.core.display.Javascript object>"
      ]
     },
     "metadata": {},
     "output_type": "display_data"
    }
   ],
   "source": [
    "# Checking a sample of the data\n",
    "df.sample(5)"
   ]
  },
  {
   "cell_type": "markdown",
   "id": "83ffdc13",
   "metadata": {},
   "source": [
    "### Checking Data Types, Duplicates, and Null Values"
   ]
  },
  {
   "cell_type": "code",
   "execution_count": 5,
   "id": "ef1c9b11",
   "metadata": {},
   "outputs": [
    {
     "name": "stdout",
     "output_type": "stream",
     "text": [
      "<class 'pandas.core.frame.DataFrame'>\n",
      "RangeIndex: 98060 entries, 0 to 98059\n",
      "Data columns (total 38 columns):\n",
      " #   Column                     Non-Null Count  Dtype  \n",
      "---  ------                     --------------  -----  \n",
      " 0   day                        98060 non-null  object \n",
      " 1   name                       98060 non-null  object \n",
      " 2   info                       98060 non-null  object \n",
      " 3   link                       98060 non-null  object \n",
      " 4   num_references             98060 non-null  int64  \n",
      " 5   year                       98060 non-null  int64  \n",
      " 6   month                      98060 non-null  object \n",
      " 7   info_parenth               36661 non-null  object \n",
      " 8   info_1                     22 non-null     object \n",
      " 9   info_2                     98028 non-null  object \n",
      " 10  info_3                     48896 non-null  object \n",
      " 11  info_4                     10264 non-null  object \n",
      " 12  info_5                     1265 non-null   object \n",
      " 13  info_6                     181 non-null    object \n",
      " 14  info_7                     27 non-null     object \n",
      " 15  info_8                     5 non-null      object \n",
      " 16  info_9                     1 non-null      object \n",
      " 17  info_10                    1 non-null      object \n",
      " 18  info_11                    1 non-null      object \n",
      " 19  age                        98060 non-null  float64\n",
      " 20  cause_of_death             4 non-null      object \n",
      " 21  place_1                    97908 non-null  object \n",
      " 22  place_2                    8124 non-null   object \n",
      " 23  info_parenth_copy          36661 non-null  object \n",
      " 24  log_num_references         98060 non-null  float64\n",
      " 25  sciences                   98060 non-null  int64  \n",
      " 26  social                     98060 non-null  int64  \n",
      " 27  spiritual                  98060 non-null  int64  \n",
      " 28  academia_humanities        98060 non-null  int64  \n",
      " 29  business_farming           98060 non-null  int64  \n",
      " 30  arts                       98060 non-null  int64  \n",
      " 31  sports                     98060 non-null  int64  \n",
      " 32  law_enf_military_operator  98060 non-null  int64  \n",
      " 33  politics_govt_law          98060 non-null  int64  \n",
      " 34  crime                      98060 non-null  int64  \n",
      " 35  event_record_other         98060 non-null  int64  \n",
      " 36  other_species              98060 non-null  int64  \n",
      " 37  num_categories             98060 non-null  int64  \n",
      "dtypes: float64(2), int64(15), object(21)\n",
      "memory usage: 28.4+ MB\n"
     ]
    },
    {
     "data": {
      "application/javascript": [
       "\n",
       "            setTimeout(function() {\n",
       "                var nbb_cell_id = 5;\n",
       "                var nbb_unformatted_code = \"# Checking data types and null values\\ndf.info()\";\n",
       "                var nbb_formatted_code = \"# Checking data types and null values\\ndf.info()\";\n",
       "                var nbb_cells = Jupyter.notebook.get_cells();\n",
       "                for (var i = 0; i < nbb_cells.length; ++i) {\n",
       "                    if (nbb_cells[i].input_prompt_number == nbb_cell_id) {\n",
       "                        if (nbb_cells[i].get_text() == nbb_unformatted_code) {\n",
       "                             nbb_cells[i].set_text(nbb_formatted_code);\n",
       "                        }\n",
       "                        break;\n",
       "                    }\n",
       "                }\n",
       "            }, 500);\n",
       "            "
      ],
      "text/plain": [
       "<IPython.core.display.Javascript object>"
      ]
     },
     "metadata": {},
     "output_type": "display_data"
    }
   ],
   "source": [
    "# Checking data types and null values\n",
    "df.info()"
   ]
  },
  {
   "cell_type": "markdown",
   "id": "54cfe61b",
   "metadata": {},
   "source": [
    "#### Observations:\n",
    "- With our dataset loaded, we can pick up where we left off with extracting known_for values by creating `known_for_dict_14`."
   ]
  },
  {
   "cell_type": "markdown",
   "id": "b8451831",
   "metadata": {},
   "source": [
    "### Extracting `known_for` Continued"
   ]
  },
  {
   "cell_type": "markdown",
   "id": "e598674e",
   "metadata": {},
   "source": [
    "#### Finding `known_for` Roles in `info_2`"
   ]
  },
  {
   "cell_type": "code",
   "execution_count": 6,
   "id": "62a666b7",
   "metadata": {},
   "outputs": [
    {
     "data": {
      "application/javascript": [
       "\n",
       "            setTimeout(function() {\n",
       "                var nbb_cell_id = 6;\n",
       "                var nbb_unformatted_code = \"# Obtaining values for column and their counts\\nroles_list = df[\\\"info_2\\\"].value_counts(ascending=True).index.tolist()\";\n",
       "                var nbb_formatted_code = \"# Obtaining values for column and their counts\\nroles_list = df[\\\"info_2\\\"].value_counts(ascending=True).index.tolist()\";\n",
       "                var nbb_cells = Jupyter.notebook.get_cells();\n",
       "                for (var i = 0; i < nbb_cells.length; ++i) {\n",
       "                    if (nbb_cells[i].input_prompt_number == nbb_cell_id) {\n",
       "                        if (nbb_cells[i].get_text() == nbb_unformatted_code) {\n",
       "                             nbb_cells[i].set_text(nbb_formatted_code);\n",
       "                        }\n",
       "                        break;\n",
       "                    }\n",
       "                }\n",
       "            }, 500);\n",
       "            "
      ],
      "text/plain": [
       "<IPython.core.display.Javascript object>"
      ]
     },
     "metadata": {},
     "output_type": "display_data"
    }
   ],
   "source": [
    "# Obtaining values for column and their counts\n",
    "roles_list = df[\"info_2\"].value_counts(ascending=True).index.tolist()"
   ]
  },
  {
   "cell_type": "code",
   "execution_count": 7,
   "id": "7b494753",
   "metadata": {},
   "outputs": [
    {
     "data": {
      "application/javascript": [
       "\n",
       "            setTimeout(function() {\n",
       "                var nbb_cell_id = 7;\n",
       "                var nbb_unformatted_code = \"# # Code to check each value\\n# roles_list.pop()\";\n",
       "                var nbb_formatted_code = \"# # Code to check each value\\n# roles_list.pop()\";\n",
       "                var nbb_cells = Jupyter.notebook.get_cells();\n",
       "                for (var i = 0; i < nbb_cells.length; ++i) {\n",
       "                    if (nbb_cells[i].input_prompt_number == nbb_cell_id) {\n",
       "                        if (nbb_cells[i].get_text() == nbb_unformatted_code) {\n",
       "                             nbb_cells[i].set_text(nbb_formatted_code);\n",
       "                        }\n",
       "                        break;\n",
       "                    }\n",
       "                }\n",
       "            }, 500);\n",
       "            "
      ],
      "text/plain": [
       "<IPython.core.display.Javascript object>"
      ]
     },
     "metadata": {},
     "output_type": "display_data"
    }
   ],
   "source": [
    "# # Code to check each value\n",
    "# roles_list.pop()"
   ]
  },
  {
   "cell_type": "code",
   "execution_count": 8,
   "id": "e925a454",
   "metadata": {},
   "outputs": [
    {
     "data": {
      "application/javascript": [
       "\n",
       "            setTimeout(function() {\n",
       "                var nbb_cell_id = 8;\n",
       "                var nbb_unformatted_code = \"# # Create specific_roles_list for above popped value\\n# specific_roles_list = (\\n#     df.loc[[index for index in df.index if \\\"poet\\\" in df.loc[index, \\\"info\\\"]], \\\"info_2\\\",]\\n#     .value_counts()\\n#     .index.tolist()\\n# )\";\n",
       "                var nbb_formatted_code = \"# # Create specific_roles_list for above popped value\\n# specific_roles_list = (\\n#     df.loc[[index for index in df.index if \\\"poet\\\" in df.loc[index, \\\"info\\\"]], \\\"info_2\\\",]\\n#     .value_counts()\\n#     .index.tolist()\\n# )\";\n",
       "                var nbb_cells = Jupyter.notebook.get_cells();\n",
       "                for (var i = 0; i < nbb_cells.length; ++i) {\n",
       "                    if (nbb_cells[i].input_prompt_number == nbb_cell_id) {\n",
       "                        if (nbb_cells[i].get_text() == nbb_unformatted_code) {\n",
       "                             nbb_cells[i].set_text(nbb_formatted_code);\n",
       "                        }\n",
       "                        break;\n",
       "                    }\n",
       "                }\n",
       "            }, 500);\n",
       "            "
      ],
      "text/plain": [
       "<IPython.core.display.Javascript object>"
      ]
     },
     "metadata": {},
     "output_type": "display_data"
    }
   ],
   "source": [
    "# # Create specific_roles_list for above popped value\n",
    "# specific_roles_list = (\n",
    "#     df.loc[[index for index in df.index if \"poet\" in df.loc[index, \"info\"]], \"info_2\",]\n",
    "#     .value_counts()\n",
    "#     .index.tolist()\n",
    "# )"
   ]
  },
  {
   "cell_type": "code",
   "execution_count": 9,
   "id": "6fba6755",
   "metadata": {},
   "outputs": [
    {
     "data": {
      "application/javascript": [
       "\n",
       "            setTimeout(function() {\n",
       "                var nbb_cell_id = 9;\n",
       "                var nbb_unformatted_code = \"# # Code to check each specific value\\n# specific_roles_list.pop()\";\n",
       "                var nbb_formatted_code = \"# # Code to check each specific value\\n# specific_roles_list.pop()\";\n",
       "                var nbb_cells = Jupyter.notebook.get_cells();\n",
       "                for (var i = 0; i < nbb_cells.length; ++i) {\n",
       "                    if (nbb_cells[i].input_prompt_number == nbb_cell_id) {\n",
       "                        if (nbb_cells[i].get_text() == nbb_unformatted_code) {\n",
       "                             nbb_cells[i].set_text(nbb_formatted_code);\n",
       "                        }\n",
       "                        break;\n",
       "                    }\n",
       "                }\n",
       "            }, 500);\n",
       "            "
      ],
      "text/plain": [
       "<IPython.core.display.Javascript object>"
      ]
     },
     "metadata": {},
     "output_type": "display_data"
    }
   ],
   "source": [
    "# # Code to check each specific value\n",
    "# specific_roles_list.pop()"
   ]
  },
  {
   "cell_type": "code",
   "execution_count": 10,
   "id": "065e8725",
   "metadata": {},
   "outputs": [
    {
     "data": {
      "application/javascript": [
       "\n",
       "            setTimeout(function() {\n",
       "                var nbb_cell_id = 10;\n",
       "                var nbb_unformatted_code = \"# # Example code to quick-screen values that may overlap categories\\n# df.loc[[index for index in df.index if \\\"poet and poetry\\\" in df.loc[index, \\\"info\\\"]]]\";\n",
       "                var nbb_formatted_code = \"# # Example code to quick-screen values that may overlap categories\\n# df.loc[[index for index in df.index if \\\"poet and poetry\\\" in df.loc[index, \\\"info\\\"]]]\";\n",
       "                var nbb_cells = Jupyter.notebook.get_cells();\n",
       "                for (var i = 0; i < nbb_cells.length; ++i) {\n",
       "                    if (nbb_cells[i].input_prompt_number == nbb_cell_id) {\n",
       "                        if (nbb_cells[i].get_text() == nbb_unformatted_code) {\n",
       "                             nbb_cells[i].set_text(nbb_formatted_code);\n",
       "                        }\n",
       "                        break;\n",
       "                    }\n",
       "                }\n",
       "            }, 500);\n",
       "            "
      ],
      "text/plain": [
       "<IPython.core.display.Javascript object>"
      ]
     },
     "metadata": {},
     "output_type": "display_data"
    }
   ],
   "source": [
    "# # Example code to quick-screen values that may overlap categories\n",
    "# df.loc[[index for index in df.index if \"poet and poetry\" in df.loc[index, \"info\"]]]"
   ]
  },
  {
   "cell_type": "code",
   "execution_count": 11,
   "id": "67311d63",
   "metadata": {},
   "outputs": [
    {
     "data": {
      "application/javascript": [
       "\n",
       "            setTimeout(function() {\n",
       "                var nbb_cell_id = 11;\n",
       "                var nbb_unformatted_code = \"# # Example code to quick-screen values that may overlap categories\\n# df.loc[\\n#     [\\n#         index\\n#         for index in df.index\\n#         if \\\"outlaw country music singer songwriter\\\" in df.loc[index, \\\"info\\\"]\\n#     ]\\n# ]\";\n",
       "                var nbb_formatted_code = \"# # Example code to quick-screen values that may overlap categories\\n# df.loc[\\n#     [\\n#         index\\n#         for index in df.index\\n#         if \\\"outlaw country music singer songwriter\\\" in df.loc[index, \\\"info\\\"]\\n#     ]\\n# ]\";\n",
       "                var nbb_cells = Jupyter.notebook.get_cells();\n",
       "                for (var i = 0; i < nbb_cells.length; ++i) {\n",
       "                    if (nbb_cells[i].input_prompt_number == nbb_cell_id) {\n",
       "                        if (nbb_cells[i].get_text() == nbb_unformatted_code) {\n",
       "                             nbb_cells[i].set_text(nbb_formatted_code);\n",
       "                        }\n",
       "                        break;\n",
       "                    }\n",
       "                }\n",
       "            }, 500);\n",
       "            "
      ],
      "text/plain": [
       "<IPython.core.display.Javascript object>"
      ]
     },
     "metadata": {},
     "output_type": "display_data"
    }
   ],
   "source": [
    "# # Example code to quick-screen values that may overlap categories\n",
    "# df.loc[\n",
    "#     [\n",
    "#         index\n",
    "#         for index in df.index\n",
    "#         if \"outlaw country music singer songwriter\" in df.loc[index, \"info\"]\n",
    "#     ]\n",
    "# ]"
   ]
  },
  {
   "cell_type": "code",
   "execution_count": 12,
   "id": "b024a030",
   "metadata": {},
   "outputs": [
    {
     "data": {
      "application/javascript": [
       "\n",
       "            setTimeout(function() {\n",
       "                var nbb_cell_id = 12;\n",
       "                var nbb_unformatted_code = \"# # Example code to quick-check a specific entry\\n# df[df[\\\"info_2\\\"] == \\\"poet and fy worker\\\"]\";\n",
       "                var nbb_formatted_code = \"# # Example code to quick-check a specific entry\\n# df[df[\\\"info_2\\\"] == \\\"poet and fy worker\\\"]\";\n",
       "                var nbb_cells = Jupyter.notebook.get_cells();\n",
       "                for (var i = 0; i < nbb_cells.length; ++i) {\n",
       "                    if (nbb_cells[i].input_prompt_number == nbb_cell_id) {\n",
       "                        if (nbb_cells[i].get_text() == nbb_unformatted_code) {\n",
       "                             nbb_cells[i].set_text(nbb_formatted_code);\n",
       "                        }\n",
       "                        break;\n",
       "                    }\n",
       "                }\n",
       "            }, 500);\n",
       "            "
      ],
      "text/plain": [
       "<IPython.core.display.Javascript object>"
      ]
     },
     "metadata": {},
     "output_type": "display_data"
    }
   ],
   "source": [
    "# # Example code to quick-check a specific entry\n",
    "# df[df[\"info_2\"] == \"poet and fy worker\"]"
   ]
  },
  {
   "cell_type": "markdown",
   "id": "a45e0e52",
   "metadata": {},
   "source": [
    "#### Creating Lists for Each `known_for` Category"
   ]
  },
  {
   "cell_type": "code",
   "execution_count": 13,
   "id": "f02f1577",
   "metadata": {},
   "outputs": [
    {
     "data": {
      "application/javascript": [
       "\n",
       "            setTimeout(function() {\n",
       "                var nbb_cell_id = 13;\n",
       "                var nbb_unformatted_code = \"# Creating lists for each category\\npolitics_govt_law = []\\n\\narts = [\\n    \\\"Pulitzer Prize winning poet and former poet laureate\\\",\\n    \\\"poet of the School\\\",\\n    \\\"poet and dramatist\\\",\\n    \\\"Nuyorican poet and playwright\\\",\\n    \\\"poet and memoirist\\\",\\n    \\\"poet and BBC producer\\\",\\n    \\\"Mi'kmaq poet\\\",\\n    \\\"poet and Pulitzer Prize winner\\\",\\n    \\\"poet and arts critic\\\",\\n    \\\"poet and radio host\\\",\\n    \\\"novelist and poetry promoter\\\",\\n    \\\"poet and diarist\\\",\\n    \\\"poet and broadcaster\\\",\\n    \\\"surrealist poet\\\",\\n    \\\"Chicano poet\\\",\\n    \\\"Martiniquan poet\\\",\\n    \\\"M\\u0101ori poet\\\",\\n    \\\"poet who wrote about the Dust Bowl\\\",\\n    \\\"vocalist and poet\\\",\\n    \\\"satirist and humorist poet of\\\",\\n    \\\"Movement poet\\\",\\n    \\\"avant garde poet and visual artist\\\",\\n    \\\"poet and literary book publisher\\\",\\n    \\\"poet of the Beat Generation\\\",\\n    \\\"Latino poet\\\",\\n    \\\"contemporary poet\\\",\\n    \\\"film maker and poet\\\",\\n    \\\"beat poet\\\",\\n    \\\"biographer and poet\\\",\\n    \\\"poet and jazz musician\\\",\\n    \\\"poet and architecture critic\\\",\\n    \\\"K'iche' Maya poet\\\",\\n    \\\"visual artist and poet\\\",\\n    \\\"poet and biographer\\\",\\n    \\\"jazz pianist and poet\\\",\\n    \\\"rhythm poet and musician\\\",\\n    \\\"dub poet\\\",\\n    \\\"percussionist and poet\\\",\\n    \\\"poet and jazz pianist\\\",\\n    \\\"poet and spoken word musician\\\",\\n    \\\"poet and sculptor\\\",\\n    \\\"experimental poet\\\",\\n    \\\"poet and radio broadcaster\\\",\\n    \\\"Marathi ghazal poet\\\",\\n    \\\"poet and co founder of interstitial lung disease\\\",\\n    \\\"avant garde composer and poet\\\",\\n    \\\"magazine publisher and poet\\\",\\n    \\\"literary critic and poet\\\",\\n    \\\"sculptor and poet\\\",\\n    \\\"poet and proofreader\\\",\\n    \\\"Odia poet\\\",\\n    \\\"folk musician and poet\\\",\\n    \\\"Ulster Scots poet\\\",\\n    \\\"vernacular poet\\\",\\n    \\\"Pashto poet\\\",\\n    \\\"poet and recording artist\\\",\\n    \\\"poet and disc jockey\\\",\\n    \\\"Kannada language poet\\\",\\n    \\\"and spoken word poet\\\",\\n    \\\"poet and film producer\\\",\\n    \\\"Nuyorican poet\\\",\\n    \\\"Kannada poet\\\",\\n    \\\"surrealist poet and art critic\\\",\\n    \\\"director and poet\\\",\\n    \\\"Kashubian poet\\\",\\n    \\\"poet and poetry\\\",\\n    \\\"art critic and poet\\\",\\n    \\\"poet and art critic\\\",\\n    \\\"jazz musician and poet\\\",\\n    \\\"Native poet\\\",\\n    \\\"poet and composer\\\",\\n    \\\"poet and cartoonist\\\",\\n    \\\"poet and filmmaker\\\",\\n    \\\"Pulitzer Prize winning poet\\\",\\n    \\\"photographer and poet\\\",\\n    \\\"poet and visual artist\\\",\\n    \\\"musician and poet\\\",\\n    \\\"poet and performance artist\\\",\\n    \\\"poet and musician\\\",\\n    \\\"lyricist and poet\\\",\\n    \\\"painter and poet\\\",\\n    \\\"poet and artist\\\",\\n    \\\"poet and publisher\\\",\\n    \\\"playwright and poet\\\",\\n    \\\"poet and painter\\\",\\n    \\\"poet and lyricist\\\",\\n    \\\"Urdu poet and\\\",\\n    \\\"Urdu poet\\\",\\n    \\\"poet and essayist\\\",\\n    \\\"artist and poet\\\",\\n    \\\"poet and critic\\\",\\n    \\\"poet and editor\\\",\\n    \\\"poet and literary critic\\\",\\n    \\\"novelist and poet\\\",\\n    \\\"poet and playwright\\\",\\n    \\\"poet and novelist\\\",\\n    \\\"Occitan language poet and\\\",\\n    \\\"language poet\\\",\\n    \\\"Arabian poet and\\\",\\n    \\\"poetess\\\",\\n    \\\"poet and literary\\\",\\n    \\\"Beat generation poet and\\\",\\n    \\\"Beat Generation poet\\\",\\n    \\\"Beat poet\\\",\\n    \\\"prize winning poet and\\\",\\n    \\\"n poet\\\",\\n    \\\"poet laureate\\\",\\n    \\\"poet and\\\",\\n    \\\"and poet\\\",\\n    \\\"poets\\\",\\n    \\\"poet\\\",\\n]\\nsports = []\\nsciences = []\\n\\nbusiness_farming = []\\nacademia_humanities = []\\nlaw_enf_military_operator = []\\nspiritual = []\\nsocial = []\\ncrime = []\\nevent_record_other = []\\nother_species = []\";\n",
       "                var nbb_formatted_code = \"# Creating lists for each category\\npolitics_govt_law = []\\n\\narts = [\\n    \\\"Pulitzer Prize winning poet and former poet laureate\\\",\\n    \\\"poet of the School\\\",\\n    \\\"poet and dramatist\\\",\\n    \\\"Nuyorican poet and playwright\\\",\\n    \\\"poet and memoirist\\\",\\n    \\\"poet and BBC producer\\\",\\n    \\\"Mi'kmaq poet\\\",\\n    \\\"poet and Pulitzer Prize winner\\\",\\n    \\\"poet and arts critic\\\",\\n    \\\"poet and radio host\\\",\\n    \\\"novelist and poetry promoter\\\",\\n    \\\"poet and diarist\\\",\\n    \\\"poet and broadcaster\\\",\\n    \\\"surrealist poet\\\",\\n    \\\"Chicano poet\\\",\\n    \\\"Martiniquan poet\\\",\\n    \\\"M\\u0101ori poet\\\",\\n    \\\"poet who wrote about the Dust Bowl\\\",\\n    \\\"vocalist and poet\\\",\\n    \\\"satirist and humorist poet of\\\",\\n    \\\"Movement poet\\\",\\n    \\\"avant garde poet and visual artist\\\",\\n    \\\"poet and literary book publisher\\\",\\n    \\\"poet of the Beat Generation\\\",\\n    \\\"Latino poet\\\",\\n    \\\"contemporary poet\\\",\\n    \\\"film maker and poet\\\",\\n    \\\"beat poet\\\",\\n    \\\"biographer and poet\\\",\\n    \\\"poet and jazz musician\\\",\\n    \\\"poet and architecture critic\\\",\\n    \\\"K'iche' Maya poet\\\",\\n    \\\"visual artist and poet\\\",\\n    \\\"poet and biographer\\\",\\n    \\\"jazz pianist and poet\\\",\\n    \\\"rhythm poet and musician\\\",\\n    \\\"dub poet\\\",\\n    \\\"percussionist and poet\\\",\\n    \\\"poet and jazz pianist\\\",\\n    \\\"poet and spoken word musician\\\",\\n    \\\"poet and sculptor\\\",\\n    \\\"experimental poet\\\",\\n    \\\"poet and radio broadcaster\\\",\\n    \\\"Marathi ghazal poet\\\",\\n    \\\"poet and co founder of interstitial lung disease\\\",\\n    \\\"avant garde composer and poet\\\",\\n    \\\"magazine publisher and poet\\\",\\n    \\\"literary critic and poet\\\",\\n    \\\"sculptor and poet\\\",\\n    \\\"poet and proofreader\\\",\\n    \\\"Odia poet\\\",\\n    \\\"folk musician and poet\\\",\\n    \\\"Ulster Scots poet\\\",\\n    \\\"vernacular poet\\\",\\n    \\\"Pashto poet\\\",\\n    \\\"poet and recording artist\\\",\\n    \\\"poet and disc jockey\\\",\\n    \\\"Kannada language poet\\\",\\n    \\\"and spoken word poet\\\",\\n    \\\"poet and film producer\\\",\\n    \\\"Nuyorican poet\\\",\\n    \\\"Kannada poet\\\",\\n    \\\"surrealist poet and art critic\\\",\\n    \\\"director and poet\\\",\\n    \\\"Kashubian poet\\\",\\n    \\\"poet and poetry\\\",\\n    \\\"art critic and poet\\\",\\n    \\\"poet and art critic\\\",\\n    \\\"jazz musician and poet\\\",\\n    \\\"Native poet\\\",\\n    \\\"poet and composer\\\",\\n    \\\"poet and cartoonist\\\",\\n    \\\"poet and filmmaker\\\",\\n    \\\"Pulitzer Prize winning poet\\\",\\n    \\\"photographer and poet\\\",\\n    \\\"poet and visual artist\\\",\\n    \\\"musician and poet\\\",\\n    \\\"poet and performance artist\\\",\\n    \\\"poet and musician\\\",\\n    \\\"lyricist and poet\\\",\\n    \\\"painter and poet\\\",\\n    \\\"poet and artist\\\",\\n    \\\"poet and publisher\\\",\\n    \\\"playwright and poet\\\",\\n    \\\"poet and painter\\\",\\n    \\\"poet and lyricist\\\",\\n    \\\"Urdu poet and\\\",\\n    \\\"Urdu poet\\\",\\n    \\\"poet and essayist\\\",\\n    \\\"artist and poet\\\",\\n    \\\"poet and critic\\\",\\n    \\\"poet and editor\\\",\\n    \\\"poet and literary critic\\\",\\n    \\\"novelist and poet\\\",\\n    \\\"poet and playwright\\\",\\n    \\\"poet and novelist\\\",\\n    \\\"Occitan language poet and\\\",\\n    \\\"language poet\\\",\\n    \\\"Arabian poet and\\\",\\n    \\\"poetess\\\",\\n    \\\"poet and literary\\\",\\n    \\\"Beat generation poet and\\\",\\n    \\\"Beat Generation poet\\\",\\n    \\\"Beat poet\\\",\\n    \\\"prize winning poet and\\\",\\n    \\\"n poet\\\",\\n    \\\"poet laureate\\\",\\n    \\\"poet and\\\",\\n    \\\"and poet\\\",\\n    \\\"poets\\\",\\n    \\\"poet\\\",\\n]\\nsports = []\\nsciences = []\\n\\nbusiness_farming = []\\nacademia_humanities = []\\nlaw_enf_military_operator = []\\nspiritual = []\\nsocial = []\\ncrime = []\\nevent_record_other = []\\nother_species = []\";\n",
       "                var nbb_cells = Jupyter.notebook.get_cells();\n",
       "                for (var i = 0; i < nbb_cells.length; ++i) {\n",
       "                    if (nbb_cells[i].input_prompt_number == nbb_cell_id) {\n",
       "                        if (nbb_cells[i].get_text() == nbb_unformatted_code) {\n",
       "                             nbb_cells[i].set_text(nbb_formatted_code);\n",
       "                        }\n",
       "                        break;\n",
       "                    }\n",
       "                }\n",
       "            }, 500);\n",
       "            "
      ],
      "text/plain": [
       "<IPython.core.display.Javascript object>"
      ]
     },
     "metadata": {},
     "output_type": "display_data"
    }
   ],
   "source": [
    "# Creating lists for each category\n",
    "politics_govt_law = []\n",
    "\n",
    "arts = [\n",
    "    \"Pulitzer Prize winning poet and former poet laureate\",\n",
    "    \"poet of the School\",\n",
    "    \"poet and dramatist\",\n",
    "    \"Nuyorican poet and playwright\",\n",
    "    \"poet and memoirist\",\n",
    "    \"poet and BBC producer\",\n",
    "    \"Mi'kmaq poet\",\n",
    "    \"poet and Pulitzer Prize winner\",\n",
    "    \"poet and arts critic\",\n",
    "    \"poet and radio host\",\n",
    "    \"novelist and poetry promoter\",\n",
    "    \"poet and diarist\",\n",
    "    \"poet and broadcaster\",\n",
    "    \"surrealist poet\",\n",
    "    \"Chicano poet\",\n",
    "    \"Martiniquan poet\",\n",
    "    \"Māori poet\",\n",
    "    \"poet who wrote about the Dust Bowl\",\n",
    "    \"vocalist and poet\",\n",
    "    \"satirist and humorist poet of\",\n",
    "    \"Movement poet\",\n",
    "    \"avant garde poet and visual artist\",\n",
    "    \"poet and literary book publisher\",\n",
    "    \"poet of the Beat Generation\",\n",
    "    \"Latino poet\",\n",
    "    \"contemporary poet\",\n",
    "    \"film maker and poet\",\n",
    "    \"beat poet\",\n",
    "    \"biographer and poet\",\n",
    "    \"poet and jazz musician\",\n",
    "    \"poet and architecture critic\",\n",
    "    \"K'iche' Maya poet\",\n",
    "    \"visual artist and poet\",\n",
    "    \"poet and biographer\",\n",
    "    \"jazz pianist and poet\",\n",
    "    \"rhythm poet and musician\",\n",
    "    \"dub poet\",\n",
    "    \"percussionist and poet\",\n",
    "    \"poet and jazz pianist\",\n",
    "    \"poet and spoken word musician\",\n",
    "    \"poet and sculptor\",\n",
    "    \"experimental poet\",\n",
    "    \"poet and radio broadcaster\",\n",
    "    \"Marathi ghazal poet\",\n",
    "    \"poet and co founder of interstitial lung disease\",\n",
    "    \"avant garde composer and poet\",\n",
    "    \"magazine publisher and poet\",\n",
    "    \"literary critic and poet\",\n",
    "    \"sculptor and poet\",\n",
    "    \"poet and proofreader\",\n",
    "    \"Odia poet\",\n",
    "    \"folk musician and poet\",\n",
    "    \"Ulster Scots poet\",\n",
    "    \"vernacular poet\",\n",
    "    \"Pashto poet\",\n",
    "    \"poet and recording artist\",\n",
    "    \"poet and disc jockey\",\n",
    "    \"Kannada language poet\",\n",
    "    \"and spoken word poet\",\n",
    "    \"poet and film producer\",\n",
    "    \"Nuyorican poet\",\n",
    "    \"Kannada poet\",\n",
    "    \"surrealist poet and art critic\",\n",
    "    \"director and poet\",\n",
    "    \"Kashubian poet\",\n",
    "    \"poet and poetry\",\n",
    "    \"art critic and poet\",\n",
    "    \"poet and art critic\",\n",
    "    \"jazz musician and poet\",\n",
    "    \"Native poet\",\n",
    "    \"poet and composer\",\n",
    "    \"poet and cartoonist\",\n",
    "    \"poet and filmmaker\",\n",
    "    \"Pulitzer Prize winning poet\",\n",
    "    \"photographer and poet\",\n",
    "    \"poet and visual artist\",\n",
    "    \"musician and poet\",\n",
    "    \"poet and performance artist\",\n",
    "    \"poet and musician\",\n",
    "    \"lyricist and poet\",\n",
    "    \"painter and poet\",\n",
    "    \"poet and artist\",\n",
    "    \"poet and publisher\",\n",
    "    \"playwright and poet\",\n",
    "    \"poet and painter\",\n",
    "    \"poet and lyricist\",\n",
    "    \"Urdu poet and\",\n",
    "    \"Urdu poet\",\n",
    "    \"poet and essayist\",\n",
    "    \"artist and poet\",\n",
    "    \"poet and critic\",\n",
    "    \"poet and editor\",\n",
    "    \"poet and literary critic\",\n",
    "    \"novelist and poet\",\n",
    "    \"poet and playwright\",\n",
    "    \"poet and novelist\",\n",
    "    \"Occitan language poet and\",\n",
    "    \"language poet\",\n",
    "    \"Arabian poet and\",\n",
    "    \"poetess\",\n",
    "    \"poet and literary\",\n",
    "    \"Beat generation poet and\",\n",
    "    \"Beat Generation poet\",\n",
    "    \"Beat poet\",\n",
    "    \"prize winning poet and\",\n",
    "    \"n poet\",\n",
    "    \"poet laureate\",\n",
    "    \"poet and\",\n",
    "    \"and poet\",\n",
    "    \"poets\",\n",
    "    \"poet\",\n",
    "]\n",
    "sports = []\n",
    "sciences = []\n",
    "\n",
    "business_farming = []\n",
    "academia_humanities = []\n",
    "law_enf_military_operator = []\n",
    "spiritual = []\n",
    "social = []\n",
    "crime = []\n",
    "event_record_other = []\n",
    "other_species = []"
   ]
  },
  {
   "cell_type": "code",
   "execution_count": 14,
   "id": "0bc2c6f2",
   "metadata": {},
   "outputs": [
    {
     "data": {
      "application/javascript": [
       "\n",
       "            setTimeout(function() {\n",
       "                var nbb_cell_id = 14;\n",
       "                var nbb_unformatted_code = \"# Hard-coding cause_of_death value found in info_2\\nindex = df[df[\\\"link\\\"] == \\\"https://en.wikipedia.org/wiki/Lawrence_Ferlinghetti\\\"].index\\ndf.loc[index, \\\"cause_of_death\\\"] = \\\"interstitial lung disease\\\"\";\n",
       "                var nbb_formatted_code = \"# Hard-coding cause_of_death value found in info_2\\nindex = df[df[\\\"link\\\"] == \\\"https://en.wikipedia.org/wiki/Lawrence_Ferlinghetti\\\"].index\\ndf.loc[index, \\\"cause_of_death\\\"] = \\\"interstitial lung disease\\\"\";\n",
       "                var nbb_cells = Jupyter.notebook.get_cells();\n",
       "                for (var i = 0; i < nbb_cells.length; ++i) {\n",
       "                    if (nbb_cells[i].input_prompt_number == nbb_cell_id) {\n",
       "                        if (nbb_cells[i].get_text() == nbb_unformatted_code) {\n",
       "                             nbb_cells[i].set_text(nbb_formatted_code);\n",
       "                        }\n",
       "                        break;\n",
       "                    }\n",
       "                }\n",
       "            }, 500);\n",
       "            "
      ],
      "text/plain": [
       "<IPython.core.display.Javascript object>"
      ]
     },
     "metadata": {},
     "output_type": "display_data"
    }
   ],
   "source": [
    "# Hard-coding cause_of_death value found in info_2\n",
    "index = df[df[\"link\"] == \"https://en.wikipedia.org/wiki/Lawrence_Ferlinghetti\"].index\n",
    "df.loc[index, \"cause_of_death\"] = \"interstitial lung disease\""
   ]
  },
  {
   "cell_type": "markdown",
   "id": "6dda8844",
   "metadata": {},
   "source": [
    "#### Creating `known_for_dict_14` Dictionary of Category Keys and Specific Role Lists of Values"
   ]
  },
  {
   "cell_type": "code",
   "execution_count": 15,
   "id": "21ebe62f",
   "metadata": {},
   "outputs": [
    {
     "data": {
      "application/javascript": [
       "\n",
       "            setTimeout(function() {\n",
       "                var nbb_cell_id = 15;\n",
       "                var nbb_unformatted_code = \"# Combining separate lists into one dictionary\\nknown_for_dict_14 = {\\n    \\\"social\\\": social,\\n    \\\"spiritual\\\": spiritual,\\n    \\\"academia_humanities\\\": academia_humanities,\\n    \\\"business_farming\\\": business_farming,\\n    \\\"sciences\\\": sciences,\\n    \\\"politics_govt_law\\\": politics_govt_law,\\n    \\\"law_enf_military_operator\\\": law_enf_military_operator,\\n    \\\"crime\\\": crime,\\n    \\\"event_record_other\\\": event_record_other,\\n    \\\"other_species\\\": other_species,\\n    \\\"arts\\\": arts,\\n    \\\"sports\\\": sports,\\n}\";\n",
       "                var nbb_formatted_code = \"# Combining separate lists into one dictionary\\nknown_for_dict_14 = {\\n    \\\"social\\\": social,\\n    \\\"spiritual\\\": spiritual,\\n    \\\"academia_humanities\\\": academia_humanities,\\n    \\\"business_farming\\\": business_farming,\\n    \\\"sciences\\\": sciences,\\n    \\\"politics_govt_law\\\": politics_govt_law,\\n    \\\"law_enf_military_operator\\\": law_enf_military_operator,\\n    \\\"crime\\\": crime,\\n    \\\"event_record_other\\\": event_record_other,\\n    \\\"other_species\\\": other_species,\\n    \\\"arts\\\": arts,\\n    \\\"sports\\\": sports,\\n}\";\n",
       "                var nbb_cells = Jupyter.notebook.get_cells();\n",
       "                for (var i = 0; i < nbb_cells.length; ++i) {\n",
       "                    if (nbb_cells[i].input_prompt_number == nbb_cell_id) {\n",
       "                        if (nbb_cells[i].get_text() == nbb_unformatted_code) {\n",
       "                             nbb_cells[i].set_text(nbb_formatted_code);\n",
       "                        }\n",
       "                        break;\n",
       "                    }\n",
       "                }\n",
       "            }, 500);\n",
       "            "
      ],
      "text/plain": [
       "<IPython.core.display.Javascript object>"
      ]
     },
     "metadata": {},
     "output_type": "display_data"
    }
   ],
   "source": [
    "# Combining separate lists into one dictionary\n",
    "known_for_dict_14 = {\n",
    "    \"social\": social,\n",
    "    \"spiritual\": spiritual,\n",
    "    \"academia_humanities\": academia_humanities,\n",
    "    \"business_farming\": business_farming,\n",
    "    \"sciences\": sciences,\n",
    "    \"politics_govt_law\": politics_govt_law,\n",
    "    \"law_enf_military_operator\": law_enf_military_operator,\n",
    "    \"crime\": crime,\n",
    "    \"event_record_other\": event_record_other,\n",
    "    \"other_species\": other_species,\n",
    "    \"arts\": arts,\n",
    "    \"sports\": sports,\n",
    "}"
   ]
  },
  {
   "cell_type": "markdown",
   "id": "0365f2df",
   "metadata": {},
   "source": [
    "#### Extracting Category from `info_2`"
   ]
  },
  {
   "cell_type": "code",
   "execution_count": 16,
   "id": "50a906a3",
   "metadata": {},
   "outputs": [
    {
     "name": "stdout",
     "output_type": "stream",
     "text": [
      "CPU times: total: 1min\n",
      "Wall time: 1min\n"
     ]
    },
    {
     "data": {
      "text/html": [
       "<div>\n",
       "<style scoped>\n",
       "    .dataframe tbody tr th:only-of-type {\n",
       "        vertical-align: middle;\n",
       "    }\n",
       "\n",
       "    .dataframe tbody tr th {\n",
       "        vertical-align: top;\n",
       "    }\n",
       "\n",
       "    .dataframe thead th {\n",
       "        text-align: right;\n",
       "    }\n",
       "</style>\n",
       "<table border=\"1\" class=\"dataframe\">\n",
       "  <thead>\n",
       "    <tr style=\"text-align: right;\">\n",
       "      <th></th>\n",
       "      <th>day</th>\n",
       "      <th>name</th>\n",
       "      <th>info</th>\n",
       "      <th>link</th>\n",
       "      <th>num_references</th>\n",
       "      <th>year</th>\n",
       "      <th>month</th>\n",
       "      <th>info_parenth</th>\n",
       "      <th>info_1</th>\n",
       "      <th>info_2</th>\n",
       "      <th>info_3</th>\n",
       "      <th>info_4</th>\n",
       "      <th>info_5</th>\n",
       "      <th>info_6</th>\n",
       "      <th>info_7</th>\n",
       "      <th>info_8</th>\n",
       "      <th>info_9</th>\n",
       "      <th>info_10</th>\n",
       "      <th>info_11</th>\n",
       "      <th>age</th>\n",
       "      <th>cause_of_death</th>\n",
       "      <th>place_1</th>\n",
       "      <th>place_2</th>\n",
       "      <th>info_parenth_copy</th>\n",
       "      <th>log_num_references</th>\n",
       "      <th>sciences</th>\n",
       "      <th>social</th>\n",
       "      <th>spiritual</th>\n",
       "      <th>academia_humanities</th>\n",
       "      <th>business_farming</th>\n",
       "      <th>arts</th>\n",
       "      <th>sports</th>\n",
       "      <th>law_enf_military_operator</th>\n",
       "      <th>politics_govt_law</th>\n",
       "      <th>crime</th>\n",
       "      <th>event_record_other</th>\n",
       "      <th>other_species</th>\n",
       "      <th>num_categories</th>\n",
       "    </tr>\n",
       "  </thead>\n",
       "  <tbody>\n",
       "    <tr>\n",
       "      <th>51605</th>\n",
       "      <td>15</td>\n",
       "      <td>Ervin Drake</td>\n",
       "      <td>, 95, American songwriter , bladder cancer.</td>\n",
       "      <td>https://en.wikipedia.org/wiki/Ervin_Drake</td>\n",
       "      <td>15</td>\n",
       "      <td>2015</td>\n",
       "      <td>January</td>\n",
       "      <td>\"It Was a Very Good Year\", \"I Believe\", \"Good Morning Heartache\"</td>\n",
       "      <td>None</td>\n",
       "      <td></td>\n",
       "      <td>bladder cancer</td>\n",
       "      <td>None</td>\n",
       "      <td>None</td>\n",
       "      <td>None</td>\n",
       "      <td>None</td>\n",
       "      <td>None</td>\n",
       "      <td>None</td>\n",
       "      <td>None</td>\n",
       "      <td>None</td>\n",
       "      <td>95.0</td>\n",
       "      <td>None</td>\n",
       "      <td>United States of America</td>\n",
       "      <td>None</td>\n",
       "      <td>\"It Was a Very Good Year\", \"I Believe\", \"Good Morning Heartache\"</td>\n",
       "      <td>2.772589</td>\n",
       "      <td>0</td>\n",
       "      <td>0</td>\n",
       "      <td>0</td>\n",
       "      <td>0</td>\n",
       "      <td>0</td>\n",
       "      <td>1</td>\n",
       "      <td>0</td>\n",
       "      <td>0</td>\n",
       "      <td>0</td>\n",
       "      <td>0</td>\n",
       "      <td>0</td>\n",
       "      <td>0</td>\n",
       "      <td>1</td>\n",
       "    </tr>\n",
       "    <tr>\n",
       "      <th>3773</th>\n",
       "      <td>1</td>\n",
       "      <td>Khan Abdul Ghani Khan</td>\n",
       "      <td>, 82, Pakistani poet, artist, writer and politician.</td>\n",
       "      <td>https://en.wikipedia.org/wiki/Abdul_Ghani_Khan</td>\n",
       "      <td>6</td>\n",
       "      <td>1996</td>\n",
       "      <td>March</td>\n",
       "      <td>None</td>\n",
       "      <td>None</td>\n",
       "      <td></td>\n",
       "      <td>artist</td>\n",
       "      <td>writer and politician</td>\n",
       "      <td>None</td>\n",
       "      <td>None</td>\n",
       "      <td>None</td>\n",
       "      <td>None</td>\n",
       "      <td>None</td>\n",
       "      <td>None</td>\n",
       "      <td>None</td>\n",
       "      <td>82.0</td>\n",
       "      <td>None</td>\n",
       "      <td>Pakistan</td>\n",
       "      <td>None</td>\n",
       "      <td>None</td>\n",
       "      <td>1.945910</td>\n",
       "      <td>0</td>\n",
       "      <td>0</td>\n",
       "      <td>0</td>\n",
       "      <td>0</td>\n",
       "      <td>0</td>\n",
       "      <td>1</td>\n",
       "      <td>0</td>\n",
       "      <td>0</td>\n",
       "      <td>0</td>\n",
       "      <td>0</td>\n",
       "      <td>0</td>\n",
       "      <td>0</td>\n",
       "      <td>0</td>\n",
       "    </tr>\n",
       "  </tbody>\n",
       "</table>\n",
       "</div>"
      ],
      "text/plain": [
       "      day                   name  \\\n",
       "51605  15            Ervin Drake   \n",
       "3773    1  Khan Abdul Ghani Khan   \n",
       "\n",
       "                                                       info  \\\n",
       "51605           , 95, American songwriter , bladder cancer.   \n",
       "3773   , 82, Pakistani poet, artist, writer and politician.   \n",
       "\n",
       "                                                 link  num_references  year  \\\n",
       "51605       https://en.wikipedia.org/wiki/Ervin_Drake              15  2015   \n",
       "3773   https://en.wikipedia.org/wiki/Abdul_Ghani_Khan               6  1996   \n",
       "\n",
       "         month  \\\n",
       "51605  January   \n",
       "3773     March   \n",
       "\n",
       "                                                           info_parenth  \\\n",
       "51605  \"It Was a Very Good Year\", \"I Believe\", \"Good Morning Heartache\"   \n",
       "3773                                                               None   \n",
       "\n",
       "      info_1 info_2          info_3                 info_4 info_5 info_6  \\\n",
       "51605   None         bladder cancer                   None   None   None   \n",
       "3773    None                 artist  writer and politician   None   None   \n",
       "\n",
       "      info_7 info_8 info_9 info_10 info_11   age cause_of_death  \\\n",
       "51605   None   None   None    None    None  95.0           None   \n",
       "3773    None   None   None    None    None  82.0           None   \n",
       "\n",
       "                        place_1 place_2  \\\n",
       "51605  United States of America    None   \n",
       "3773                   Pakistan    None   \n",
       "\n",
       "                                                      info_parenth_copy  \\\n",
       "51605  \"It Was a Very Good Year\", \"I Believe\", \"Good Morning Heartache\"   \n",
       "3773                                                               None   \n",
       "\n",
       "       log_num_references  sciences  social  spiritual  academia_humanities  \\\n",
       "51605            2.772589         0       0          0                    0   \n",
       "3773             1.945910         0       0          0                    0   \n",
       "\n",
       "       business_farming  arts  sports  law_enf_military_operator  \\\n",
       "51605                 0     1       0                          0   \n",
       "3773                  0     1       0                          0   \n",
       "\n",
       "       politics_govt_law  crime  event_record_other  other_species  \\\n",
       "51605                  0      0                   0              0   \n",
       "3773                   0      0                   0              0   \n",
       "\n",
       "       num_categories  \n",
       "51605               1  \n",
       "3773                0  "
      ]
     },
     "execution_count": 16,
     "metadata": {},
     "output_type": "execute_result"
    },
    {
     "data": {
      "application/javascript": [
       "\n",
       "            setTimeout(function() {\n",
       "                var nbb_cell_id = 16;\n",
       "                var nbb_unformatted_code = \"%%time\\n\\n# Dictionary version\\nsearch_dict = known_for_dict_14\\n\\n# Column to check\\ncolumn = 'info_2'\\n\\n# Dataframe\\ndataframe = df[column].notna()\\n\\n# For loop to find role in column and extract it as category\\nfor category, category_lst in search_dict.items():\\n    for role in category_lst:\\n        for index in dataframe.index:\\n            item = df.loc[index, column]\\n            if item:\\n                if role in item:\\n                    df.loc[index, category] = 1\\n                    df.loc[index, column] = item.replace(role, '').strip()\\n\\n# Checking a sample of rows\\ndf[df['arts'] ==1].sample(2)\";\n",
       "                var nbb_formatted_code = \"%%time\\n\\n# Dictionary version\\nsearch_dict = known_for_dict_14\\n\\n# Column to check\\ncolumn = 'info_2'\\n\\n# Dataframe\\ndataframe = df[column].notna()\\n\\n# For loop to find role in column and extract it as category\\nfor category, category_lst in search_dict.items():\\n    for role in category_lst:\\n        for index in dataframe.index:\\n            item = df.loc[index, column]\\n            if item:\\n                if role in item:\\n                    df.loc[index, category] = 1\\n                    df.loc[index, column] = item.replace(role, '').strip()\\n\\n# Checking a sample of rows\\ndf[df['arts'] ==1].sample(2)\";\n",
       "                var nbb_cells = Jupyter.notebook.get_cells();\n",
       "                for (var i = 0; i < nbb_cells.length; ++i) {\n",
       "                    if (nbb_cells[i].input_prompt_number == nbb_cell_id) {\n",
       "                        if (nbb_cells[i].get_text() == nbb_unformatted_code) {\n",
       "                             nbb_cells[i].set_text(nbb_formatted_code);\n",
       "                        }\n",
       "                        break;\n",
       "                    }\n",
       "                }\n",
       "            }, 500);\n",
       "            "
      ],
      "text/plain": [
       "<IPython.core.display.Javascript object>"
      ]
     },
     "metadata": {},
     "output_type": "display_data"
    }
   ],
   "source": [
    "%%time\n",
    "\n",
    "# Dictionary version\n",
    "search_dict = known_for_dict_14\n",
    "\n",
    "# Column to check\n",
    "column = 'info_2'\n",
    "\n",
    "# Dataframe\n",
    "dataframe = df[column].notna()\n",
    "\n",
    "# For loop to find role in column and extract it as category\n",
    "for category, category_lst in search_dict.items():\n",
    "    for role in category_lst:\n",
    "        for index in dataframe.index:\n",
    "            item = df.loc[index, column]\n",
    "            if item:\n",
    "                if role in item:\n",
    "                    df.loc[index, category] = 1\n",
    "                    df.loc[index, column] = item.replace(role, '').strip()\n",
    "\n",
    "# Checking a sample of rows\n",
    "df[df['arts'] ==1].sample(2)"
   ]
  },
  {
   "cell_type": "markdown",
   "id": "4f98a513",
   "metadata": {},
   "source": [
    "#### Checking the Number of Rows without a First Category"
   ]
  },
  {
   "cell_type": "code",
   "execution_count": 17,
   "id": "b04e786d",
   "metadata": {},
   "outputs": [
    {
     "name": "stdout",
     "output_type": "stream",
     "text": [
      "There are 53857 entries without any known_for category.\n"
     ]
    },
    {
     "data": {
      "application/javascript": [
       "\n",
       "            setTimeout(function() {\n",
       "                var nbb_cell_id = 17;\n",
       "                var nbb_unformatted_code = \"#### Checking the number of rows without a first category\\ndf[\\\"num_categories\\\"] = df[known_for_dict_14.keys()].sum(axis=1)\\n\\nprint(\\n    f'There are {len(df[df[\\\"num_categories\\\"]==0])} entries without any known_for category.'\\n)\";\n",
       "                var nbb_formatted_code = \"#### Checking the number of rows without a first category\\ndf[\\\"num_categories\\\"] = df[known_for_dict_14.keys()].sum(axis=1)\\n\\nprint(\\n    f'There are {len(df[df[\\\"num_categories\\\"]==0])} entries without any known_for category.'\\n)\";\n",
       "                var nbb_cells = Jupyter.notebook.get_cells();\n",
       "                for (var i = 0; i < nbb_cells.length; ++i) {\n",
       "                    if (nbb_cells[i].input_prompt_number == nbb_cell_id) {\n",
       "                        if (nbb_cells[i].get_text() == nbb_unformatted_code) {\n",
       "                             nbb_cells[i].set_text(nbb_formatted_code);\n",
       "                        }\n",
       "                        break;\n",
       "                    }\n",
       "                }\n",
       "            }, 500);\n",
       "            "
      ],
      "text/plain": [
       "<IPython.core.display.Javascript object>"
      ]
     },
     "metadata": {},
     "output_type": "display_data"
    }
   ],
   "source": [
    "#### Checking the number of rows without a first category\n",
    "df[\"num_categories\"] = df[known_for_dict_14.keys()].sum(axis=1)\n",
    "\n",
    "print(\n",
    "    f'There are {len(df[df[\"num_categories\"]==0])} entries without any known_for category.'\n",
    ")"
   ]
  },
  {
   "cell_type": "markdown",
   "id": "e1d30445",
   "metadata": {},
   "source": [
    "#### Observations:\n",
    "- We will proceed to build `known_for_dict_15` for the next iteration."
   ]
  },
  {
   "cell_type": "markdown",
   "id": "64c823e0",
   "metadata": {},
   "source": [
    "#### Finding `known_for` Roles in `info_2`"
   ]
  },
  {
   "cell_type": "code",
   "execution_count": 18,
   "id": "b474b2e5",
   "metadata": {},
   "outputs": [
    {
     "data": {
      "application/javascript": [
       "\n",
       "            setTimeout(function() {\n",
       "                var nbb_cell_id = 18;\n",
       "                var nbb_unformatted_code = \"# Obtaining values for column and their counts\\nroles_list = df[\\\"info_2\\\"].value_counts(ascending=True).index.tolist()\";\n",
       "                var nbb_formatted_code = \"# Obtaining values for column and their counts\\nroles_list = df[\\\"info_2\\\"].value_counts(ascending=True).index.tolist()\";\n",
       "                var nbb_cells = Jupyter.notebook.get_cells();\n",
       "                for (var i = 0; i < nbb_cells.length; ++i) {\n",
       "                    if (nbb_cells[i].input_prompt_number == nbb_cell_id) {\n",
       "                        if (nbb_cells[i].get_text() == nbb_unformatted_code) {\n",
       "                             nbb_cells[i].set_text(nbb_formatted_code);\n",
       "                        }\n",
       "                        break;\n",
       "                    }\n",
       "                }\n",
       "            }, 500);\n",
       "            "
      ],
      "text/plain": [
       "<IPython.core.display.Javascript object>"
      ]
     },
     "metadata": {},
     "output_type": "display_data"
    }
   ],
   "source": [
    "# Obtaining values for column and their counts\n",
    "roles_list = df[\"info_2\"].value_counts(ascending=True).index.tolist()"
   ]
  },
  {
   "cell_type": "code",
   "execution_count": 19,
   "id": "6e3467cf",
   "metadata": {},
   "outputs": [
    {
     "data": {
      "application/javascript": [
       "\n",
       "            setTimeout(function() {\n",
       "                var nbb_cell_id = 19;\n",
       "                var nbb_unformatted_code = \"# # Code to check each value\\n# roles_list.pop()\";\n",
       "                var nbb_formatted_code = \"# # Code to check each value\\n# roles_list.pop()\";\n",
       "                var nbb_cells = Jupyter.notebook.get_cells();\n",
       "                for (var i = 0; i < nbb_cells.length; ++i) {\n",
       "                    if (nbb_cells[i].input_prompt_number == nbb_cell_id) {\n",
       "                        if (nbb_cells[i].get_text() == nbb_unformatted_code) {\n",
       "                             nbb_cells[i].set_text(nbb_formatted_code);\n",
       "                        }\n",
       "                        break;\n",
       "                    }\n",
       "                }\n",
       "            }, 500);\n",
       "            "
      ],
      "text/plain": [
       "<IPython.core.display.Javascript object>"
      ]
     },
     "metadata": {},
     "output_type": "display_data"
    }
   ],
   "source": [
    "# # Code to check each value\n",
    "# roles_list.pop()"
   ]
  },
  {
   "cell_type": "code",
   "execution_count": 20,
   "id": "13b8f25b",
   "metadata": {},
   "outputs": [
    {
     "data": {
      "application/javascript": [
       "\n",
       "            setTimeout(function() {\n",
       "                var nbb_cell_id = 20;\n",
       "                var nbb_unformatted_code = \"# # Create specific_roles_list for above popped value\\n# specific_roles_list = (\\n#     df.loc[\\n#         [index for index in df.index if \\\"artist\\\" in df.loc[index, \\\"info\\\"]], \\\"info_2\\\",\\n#     ]\\n#     .value_counts()\\n#     .index.tolist()\\n# )\";\n",
       "                var nbb_formatted_code = \"# # Create specific_roles_list for above popped value\\n# specific_roles_list = (\\n#     df.loc[\\n#         [index for index in df.index if \\\"artist\\\" in df.loc[index, \\\"info\\\"]], \\\"info_2\\\",\\n#     ]\\n#     .value_counts()\\n#     .index.tolist()\\n# )\";\n",
       "                var nbb_cells = Jupyter.notebook.get_cells();\n",
       "                for (var i = 0; i < nbb_cells.length; ++i) {\n",
       "                    if (nbb_cells[i].input_prompt_number == nbb_cell_id) {\n",
       "                        if (nbb_cells[i].get_text() == nbb_unformatted_code) {\n",
       "                             nbb_cells[i].set_text(nbb_formatted_code);\n",
       "                        }\n",
       "                        break;\n",
       "                    }\n",
       "                }\n",
       "            }, 500);\n",
       "            "
      ],
      "text/plain": [
       "<IPython.core.display.Javascript object>"
      ]
     },
     "metadata": {},
     "output_type": "display_data"
    }
   ],
   "source": [
    "# # Create specific_roles_list for above popped value\n",
    "# specific_roles_list = (\n",
    "#     df.loc[\n",
    "#         [index for index in df.index if \"artist\" in df.loc[index, \"info\"]], \"info_2\",\n",
    "#     ]\n",
    "#     .value_counts()\n",
    "#     .index.tolist()\n",
    "# )"
   ]
  },
  {
   "cell_type": "code",
   "execution_count": 21,
   "id": "ff553289",
   "metadata": {},
   "outputs": [
    {
     "data": {
      "application/javascript": [
       "\n",
       "            setTimeout(function() {\n",
       "                var nbb_cell_id = 21;\n",
       "                var nbb_unformatted_code = \"# # Code to check each specific value\\n# specific_roles_list.pop()\";\n",
       "                var nbb_formatted_code = \"# # Code to check each specific value\\n# specific_roles_list.pop()\";\n",
       "                var nbb_cells = Jupyter.notebook.get_cells();\n",
       "                for (var i = 0; i < nbb_cells.length; ++i) {\n",
       "                    if (nbb_cells[i].input_prompt_number == nbb_cell_id) {\n",
       "                        if (nbb_cells[i].get_text() == nbb_unformatted_code) {\n",
       "                             nbb_cells[i].set_text(nbb_formatted_code);\n",
       "                        }\n",
       "                        break;\n",
       "                    }\n",
       "                }\n",
       "            }, 500);\n",
       "            "
      ],
      "text/plain": [
       "<IPython.core.display.Javascript object>"
      ]
     },
     "metadata": {},
     "output_type": "display_data"
    }
   ],
   "source": [
    "# # Code to check each specific value\n",
    "# specific_roles_list.pop()"
   ]
  },
  {
   "cell_type": "code",
   "execution_count": 22,
   "id": "f734b792",
   "metadata": {},
   "outputs": [
    {
     "data": {
      "application/javascript": [
       "\n",
       "            setTimeout(function() {\n",
       "                var nbb_cell_id = 22;\n",
       "                var nbb_unformatted_code = \"# # Example code to quick-screen values that may overlap categories\\n# df.loc[[index for index in df.index if \\\"artist and art\\\" in df.loc[index, \\\"info\\\"]]]\";\n",
       "                var nbb_formatted_code = \"# # Example code to quick-screen values that may overlap categories\\n# df.loc[[index for index in df.index if \\\"artist and art\\\" in df.loc[index, \\\"info\\\"]]]\";\n",
       "                var nbb_cells = Jupyter.notebook.get_cells();\n",
       "                for (var i = 0; i < nbb_cells.length; ++i) {\n",
       "                    if (nbb_cells[i].input_prompt_number == nbb_cell_id) {\n",
       "                        if (nbb_cells[i].get_text() == nbb_unformatted_code) {\n",
       "                             nbb_cells[i].set_text(nbb_formatted_code);\n",
       "                        }\n",
       "                        break;\n",
       "                    }\n",
       "                }\n",
       "            }, 500);\n",
       "            "
      ],
      "text/plain": [
       "<IPython.core.display.Javascript object>"
      ]
     },
     "metadata": {},
     "output_type": "display_data"
    }
   ],
   "source": [
    "# # Example code to quick-screen values that may overlap categories\n",
    "# df.loc[[index for index in df.index if \"artist and art\" in df.loc[index, \"info\"]]]"
   ]
  },
  {
   "cell_type": "code",
   "execution_count": 23,
   "id": "dbee0c3f",
   "metadata": {},
   "outputs": [
    {
     "data": {
      "application/javascript": [
       "\n",
       "            setTimeout(function() {\n",
       "                var nbb_cell_id = 23;\n",
       "                var nbb_unformatted_code = \"# # Example code to quick-screen values that may overlap categories\\n# df.loc[\\n#     [\\n#         index\\n#         for index in df.index\\n#         if \\\"outlaw country music singer songwriter\\\" in df.loc[index, \\\"info\\\"]\\n#     ]\\n# ]\";\n",
       "                var nbb_formatted_code = \"# # Example code to quick-screen values that may overlap categories\\n# df.loc[\\n#     [\\n#         index\\n#         for index in df.index\\n#         if \\\"outlaw country music singer songwriter\\\" in df.loc[index, \\\"info\\\"]\\n#     ]\\n# ]\";\n",
       "                var nbb_cells = Jupyter.notebook.get_cells();\n",
       "                for (var i = 0; i < nbb_cells.length; ++i) {\n",
       "                    if (nbb_cells[i].input_prompt_number == nbb_cell_id) {\n",
       "                        if (nbb_cells[i].get_text() == nbb_unformatted_code) {\n",
       "                             nbb_cells[i].set_text(nbb_formatted_code);\n",
       "                        }\n",
       "                        break;\n",
       "                    }\n",
       "                }\n",
       "            }, 500);\n",
       "            "
      ],
      "text/plain": [
       "<IPython.core.display.Javascript object>"
      ]
     },
     "metadata": {},
     "output_type": "display_data"
    }
   ],
   "source": [
    "# # Example code to quick-screen values that may overlap categories\n",
    "# df.loc[\n",
    "#     [\n",
    "#         index\n",
    "#         for index in df.index\n",
    "#         if \"outlaw country music singer songwriter\" in df.loc[index, \"info\"]\n",
    "#     ]\n",
    "# ]"
   ]
  },
  {
   "cell_type": "code",
   "execution_count": 24,
   "id": "bbe5a4a2",
   "metadata": {},
   "outputs": [
    {
     "data": {
      "application/javascript": [
       "\n",
       "            setTimeout(function() {\n",
       "                var nbb_cell_id = 24;\n",
       "                var nbb_unformatted_code = \"# # Example code to quick-check a specific entry\\n# df[df[\\\"info_2\\\"] == \\\"martial artist and teacher\\\"]\";\n",
       "                var nbb_formatted_code = \"# # Example code to quick-check a specific entry\\n# df[df[\\\"info_2\\\"] == \\\"martial artist and teacher\\\"]\";\n",
       "                var nbb_cells = Jupyter.notebook.get_cells();\n",
       "                for (var i = 0; i < nbb_cells.length; ++i) {\n",
       "                    if (nbb_cells[i].input_prompt_number == nbb_cell_id) {\n",
       "                        if (nbb_cells[i].get_text() == nbb_unformatted_code) {\n",
       "                             nbb_cells[i].set_text(nbb_formatted_code);\n",
       "                        }\n",
       "                        break;\n",
       "                    }\n",
       "                }\n",
       "            }, 500);\n",
       "            "
      ],
      "text/plain": [
       "<IPython.core.display.Javascript object>"
      ]
     },
     "metadata": {},
     "output_type": "display_data"
    }
   ],
   "source": [
    "# # Example code to quick-check a specific entry\n",
    "# df[df[\"info_2\"] == \"martial artist and teacher\"]"
   ]
  },
  {
   "cell_type": "markdown",
   "id": "52fd3cab",
   "metadata": {},
   "source": [
    "#### Creating Lists for Each `known_for` Category"
   ]
  },
  {
   "cell_type": "code",
   "execution_count": 25,
   "id": "d1437d9e",
   "metadata": {},
   "outputs": [
    {
     "data": {
      "application/javascript": [
       "\n",
       "            setTimeout(function() {\n",
       "                var nbb_cell_id = 25;\n",
       "                var nbb_unformatted_code = \"# Creating lists for each category\\npolitics_govt_law = []\\n\\narts = [\\n    \\\"based graffiti artist whose works were included in the Venice Biennale\\\",\\n    \\\"game artist\\\",\\n    \\\"Oscar winning make up artist\\\",\\n    \\\"choreographer appointed as Sydney Dance Company artistic director\\\",\\n    \\\"based pop artist\\\",\\n    \\\"artist and wife of Joaqu\\u00edn Torres Garc\\u00eda\\\",\\n    \\\"botanical artist\\\",\\n    \\\"television make up artist\\\",\\n    \\\"artist and industrial designer\\\",\\n    \\\"movie poster artist\\\",\\n    \\\"courtroom artist\\\",\\n    \\\"artist and engraver\\\",\\n    \\\"graphic designer and psychedelic artist\\\",\\n    \\\"special effects and make up artist\\\",\\n    \\\"comic book artist and publisher\\\",\\n    \\\"artist and theatre designer\\\",\\n    \\\"pop artist and director\\\",\\n    \\\"artistic draughtsman\\\",\\n    \\\"artist known for his role in the Conceptualism and Minimalism movements\\\",\\n    \\\"aboriginal artist\\\",\\n    \\\"native artist\\\",\\n    \\\"musician and artist\\\",\\n    \\\"ballet dancer and artistic director of Ballet\\\",\\n    \\\"master potter and artist\\\",\\n    \\\"drag queen music artist\\\",\\n    \\\"internationally recognized graphic artist\\\",\\n    \\\"fantasy and science fiction artist and illustrator\\\",\\n    \\\"internationally exhibited Navajo artist\\\",\\n    \\\"comic book artist and co founder of\\\",\\n    \\\"artist who was a member of the Regina Five\\\",\\n    \\\"animator and layout artist\\\",\\n    \\\"colorist and cover production artist for DC Comics\\\",\\n    \\\"special effects artist and pedal steel guitarist\\\",\\n    \\\"comic book colourist and artist\\\",\\n    \\\"based architect and artist\\\",\\n    \\\"installation artist and assemblage sculptor\\\",\\n    \\\"artist and television presenter\\\",\\n    \\\"movie artist and illustrator\\\",\\n    \\\"artist and watercolourist\\\",\\n    \\\"na\\u00efve artist\\\",\\n    \\\"transgender artist\\\",\\n    \\\"special effects artist and producer\\\",\\n    \\\"artist and musical performer\\\",\\n    \\\"and butter sculpture artist\\\",\\n    \\\"artist and print maker\\\",\\n    \\\"pop artist and sculptor\\\",\\n    \\\"experimental music artist\\\",\\n    \\\"blues musician and artist\\\",\\n    \\\"comic book artist and reputed creator of\\\",\\n    \\\"artist and composer\\\",\\n    \\\"ceramic artist and designer\\\",\\n    \\\"video game concept artist\\\",\\n    \\\"artist and reporter\\\",\\n    \\\"performance artist and playwright\\\",\\n    \\\"artist and muralist\\\",\\n    \\\"animation artist and character designer\\\",\\n    \\\"blues artist\\\",\\n    \\\"Academy Award winning visual effects artist\\\",\\n    \\\"vocalist and bassist and solo artist\\\",\\n    \\\"artist of origin\\\",\\n    \\\"neo mannerist artist\\\",\\n    \\\"shadow play artist\\\",\\n    \\\"sculptor and conceptual artist\\\",\\n    \\\"film make up artist\\\",\\n    \\\"tapestry and textile artist\\\",\\n    \\\"Golden Age comic book artist\\\",\\n    \\\"rock musician and artist\\\",\\n    \\\"strip artist\\\",\\n    \\\"wood carving artist\\\",\\n    \\\"plastic artist and illustrator\\\",\\n    \\\"artist and banknote designer\\\",\\n    \\\"textile artist and printmaker\\\",\\n    \\\"fantasy and science fiction artist\\\",\\n    \\\"figurative expressionist artist\\\",\\n    \\\"hip hop musician and graffiti artist\\\",\\n    \\\"Navajo artist\\\",\\n    \\\"wet folding origami artist\\\",\\n    \\\"Route artist\\\",\\n    \\\"animator and comic book artist\\\",\\n    \\\"R&B artist\\\",\\n    \\\"mural artist\\\",\\n    \\\"makeup artist and tenor\\\",\\n    \\\"artist and lecturer\\\",\\n    \\\"artist and ceramicist\\\",\\n    \\\"experimental visual artist\\\",\\n    \\\"vocalist and session artist\\\",\\n    \\\"artists' model and memoirist\\\",\\n    \\\"comic book and comic strip artist\\\",\\n    \\\"comic strip artist and editor\\\",\\n    \\\"Native artist and potter\\\",\\n    \\\"West Coast artist\\\",\\n    \\\"artist and comic book creator\\\",\\n    \\\"graphic artist and sculptor\\\",\\n    \\\"painter and visual artist\\\",\\n    \\\"New Realist artist\\\",\\n    \\\"motion picture matte artist\\\",\\n    \\\"artist and novelist\\\",\\n    \\\"abstract and representational artist\\\",\\n    \\\"broadcaster and comic book artist\\\",\\n    \\\"neo conceptual artist\\\",\\n    \\\"painter and pioneering manhua artist\\\",\\n    \\\"hillbilly and bluegrass artist\\\",\\n    \\\"artist and member of the Fluxus movement\\\",\\n    \\\"artist and member of the Ultra Lettrist movement\\\",\\n    \\\"graphic artist and printmaker\\\",\\n    \\\"musician and recording artist\\\",\\n    \\\"textile artist who specialized in embroidery\\\",\\n    \\\"ink artist and wife of Walt Disney\\\",\\n    \\\"artist and art collector\\\",\\n    \\\"n artist from Utopia\\\",\\n    \\\"Chicano artist\\\",\\n    \\\"artist of origins\\\",\\n    \\\"artist and doll maker\\\",\\n    \\\"conceptual and performance artist\\\",\\n    \\\"studio potter and ceramic artist\\\",\\n    \\\"tenor and artist\\\",\\n    \\\"country music artist\\\",\\n    \\\"visual artist known for her still lives and landscapes\\\",\\n    \\\"film and video artist\\\",\\n    \\\"artist and watercolor master\\\",\\n    \\\"painter and comics artist\\\",\\n    \\\"vocalist and recording artist\\\",\\n    \\\"comic book artist born\\\",\\n    \\\"science fiction and fantasy artist\\\",\\n    \\\"novelist and artist\\\",\\n    \\\"conductor and recording artist\\\",\\n    \\\"botanical artist and art critic\\\",\\n    \\\"carving artist\\\",\\n    \\\"visual artist and conceptual sculptor\\\",\\n    \\\"contemperary artist\\\",\\n    'sculptor and \\\"one of the nation most accomplished medallic artists\\\"',\\n    \\\"cartoonist and comic artist\\\",\\n    \\\"rock artist\\\",\\n    \\\"psychedelic artist\\\",\\n    \\\"animation and comic book artist\\\",\\n    \\\"textile artist and embroiderer\\\",\\n    \\\"artist and experimental photographer\\\",\\n    \\\"cartoonist and comic book artist\\\",\\n    \\\"potter and ceramic artist\\\",\\n    \\\"artist anddesigner\\\",\\n    \\\"born artist\\\",\\n    \\\"sculptor and stained glass artist\\\",\\n    \\\"equine artist\\\",\\n    \\\"typographer and graphic artist\\\",\\n    \\\"visual artist and jewelry and fashion designer\\\",\\n    \\\"visual artist and prot\\u00e9g\\u00e9 of Salvador Dal\\u00ed\\\",\\n    \\\"reggae artist\\\",\\n    \\\"artist and Army art correspondent\\\",\\n    \\\"film special effects artist\\\",\\n    \\\"vocalist and artist\\\",\\n    \\\"experimental filmmaker and artist\\\",\\n    \\\"fine artist and art editor\\\",\\n    \\\"comic book artist and book illustrator\\\",\\n    \\\"Les Automatistes artist and a member of\\\",\\n    \\\"comic book artist and co creator of Jonah Hex and Black Orchid\\\",\\n    \\\"Papunya Tula artist\\\",\\n    \\\"graphic artist and postage stamp designer\\\",\\n    \\\"artist and metalsmith\\\",\\n    \\\"manhua artist\\\",\\n    \\\"illustrator and storyboard artist\\\",\\n    \\\"Western artist\\\",\\n    \\\"artist and architectural designer\\\",\\n    \\\"graphic artist and banknote designer\\\",\\n    \\\"artist in wood\\\",\\n    \\\"Yakshagana artist\\\",\\n    \\\"trapeze artist\\\",\\n    \\\"newspaper artist and cartoonist\\\",\\n    \\\"artist and puppeteer\\\",\\n    \\\"ceramic artist and sculptor\\\",\\n    \\\"furniture designer and artist\\\",\\n    \\\"rock album cover artist\\\",\\n    \\\"stateless auto destructive artist\\\",\\n    \\\"indigenous artist and printmaker\\\",\\n    \\\"computer artist\\\",\\n    \\\"watercolour artist\\\",\\n    \\\"media artist and designer\\\",\\n    \\\"artist and landscape architect\\\",\\n    \\\"Eurodance artist\\\",\\n    \\\"musician and comic book artist\\\",\\n    \\\"graphic artist and game designer\\\",\\n    \\\"comics artist and graphic novelist\\\",\\n    \\\"hologram artist\\\",\\n    \\\"cartoonist and comics artist\\\",\\n    \\\"comics artist and animator\\\",\\n    \\\"reggae artist and comedian\\\",\\n    \\\"sound installation artist and musician\\\",\\n    \\\"artist and potter\\\",\\n    \\\"artist and film production illustrator\\\",\\n    \\\"multimedia artist and painter\\\",\\n    \\\"film animator\\\",\\n    \\\"artist photographer\\\",\\n    \\\"experimental filmmaker and visual artist\\\",\\n    \\\"artist and jewelry designer\\\",\\n    \\\"graphic designer and film poster artist\\\",\\n    \\\"fetish artist\\\",\\n    \\\"avant garde installation artist and sculptor\\\",\\n    \\\"courtroom sketch artist\\\",\\n    \\\"sketch artist\\\",\\n    \\\"caricaturist and comics artist\\\",\\n    \\\"I\\u00f1upiat artist\\\",\\n    \\\"hand shadow artist\\\",\\n    \\\"Indigenous artist\\\",\\n    \\\"musical Thavil artist\\\",\\n    \\\"ceramist and textile artist\\\",\\n    \\\"radio presenter and artist\\\",\\n    \\\"comics artist and cartoonist\\\",\\n    \\\"lianhuanhua artist\\\",\\n    \\\"multi media artist\\\",\\n    \\\"animator and comics artist\\\",\\n    \\\"artist and cultural figure\\\",\\n    \\\"typographer and visual artist\\\",\\n    \\\"graphic designer and album artist\\\",\\n    \\\"pencil artist\\\",\\n    \\\"theatre artist and playwright\\\",\\n    \\\"comic artist and illustrator\\\",\\n    \\\"motorsports artist\\\",\\n    \\\"voice over and recording artist\\\",\\n    \\\"bassist and artist\\\",\\n    \\\"comic creator and cover artist\\\",\\n    \\\"tattoo artist and reality show personality\\\",\\n    \\\"cartoonist and street artist\\\",\\n    \\\"sand artist\\\",\\n    \\\"architect and light artist\\\",\\n    \\\"media producer and makeup artist\\\",\\n    \\\"Kiowa artist\\\",\\n    \\\"Peking opera artist\\\",\\n    \\\"electronic music artist and MC\\\",\\n    \\\"graphic design artist\\\",\\n    \\\"impressionist artist\\\",\\n    \\\"graphic designer and street artist\\\",\\n    \\\"illustrator of children books and cartoon artist\\\",\\n    \\\"artist and animator\\\",\\n    \\\"record producer and artist\\\",\\n    \\\"rock concert graphic poster artist\\\",\\n    \\\"land artist\\\",\\n    \\\"video and visualization artist\\\",\\n    \\\"artist and weaver\\\",\\n    \\\"painter and plastic artist\\\",\\n    \\\"fantasy gaming artist\\\",\\n    \\\"Madhubani painter and artist\\\",\\n    \\\"animation director and storyboard artist\\\",\\n    \\\"conceptual artist and photographer\\\",\\n    \\\"fantasy artist and album cover designer\\\",\\n    \\\"design artist and painter\\\",\\n    \\\"theatre artiste\\\",\\n    \\\"thangka artist\\\",\\n    \\\"artist and Alghoza player\\\",\\n    \\\"fantasy coffin artist\\\",\\n    \\\"film concept artist\\\",\\n    \\\"wildlife artist and illustrator\\\",\\n    \\\"theatre personality and artist\\\",\\n    \\\"visual artist and fashion designer\\\",\\n    \\\"artist and fashion designer\\\",\\n    \\\"comedic artist\\\",\\n    \\\"sculptor and artistic director\\\",\\n    \\\"graphic designer and album cover artist\\\",\\n    \\\"artist and trading card illustrator\\\",\\n    \\\"geometric artist\\\",\\n    \\\"founder and artistic director of the Melbourne Theatre Company\\\",\\n    \\\"indigenous artist\\\",\\n    \\\"artist and book cover illustrator\\\",\\n    \\\"punk graphic designer and artistic director\\\",\\n    \\\"television host and recording artist\\\",\\n    \\\"artistic director and live performance organizer\\\",\\n    \\\"weaving artist\\\",\\n    \\\"pop and minimalist artist\\\",\\n    \\\"dubbing artist\\\",\\n    \\\"monumentalist artist\\\",\\n    \\\"sound artist and electronic music composer\\\",\\n    \\\"highwire artiste\\\",\\n    \\\"pixel artist\\\",\\n    \\\"conceptual and digital artist\\\",\\n    \\\"artist and inventor of the plastic pink flamingo\\\",\\n    \\\"batik artist\\\",\\n    \\\"enamel artist\\\",\\n    \\\"operatic tenor and artistic director\\\",\\n    \\\"sound artist and radio presenter\\\",\\n    \\\"sound artist\\\",\\n    \\\"conductor and artistic director\\\",\\n    \\\"graphic artist and designer\\\",\\n    \\\"quilt artist\\\",\\n    \\\"comic strip artist and cartoonist\\\",\\n    \\\"painter and installation artist\\\",\\n    \\\"graphic artist and cartoonist\\\",\\n    \\\"recording artist and vocalist\\\",\\n    \\\"circus artist and animal trainer\\\",\\n    \\\"Kunqu artist\\\",\\n    \\\"surrealist artist\\\",\\n    \\\"harmonism artist\\\",\\n    \\\"graphic designer and poster artist\\\",\\n    \\\"marine artist\\\",\\n    \\\"commercial artist and illustrator\\\",\\n    \\\"commercial artist\\\",\\n    \\\"plastic artist\\\",\\n    \\\"color abstract artist\\\",\\n    \\\"special effects make up artist\\\",\\n    \\\"underground graffiti artist\\\",\\n    \\\"ballet master and artistic director\\\",\\n    \\\"animation background artist\\\",\\n    \\\"hymnist and visual artist\\\",\\n    \\\"recording artist\\\",\\n    \\\"visual artist and photographer\\\",\\n    \\\"World War II artist\\\",\\n    \\\"painter and kinetic artist\\\",\\n    \\\"muralist and pictorial artist\\\",\\n    \\\"cartoonist and artist\\\",\\n    \\\"sculptor and graphic artist\\\",\\n    \\\"visual artist and musician\\\",\\n    \\\"artists' model\\\",\\n    \\\"abstract expressionist artist and\\\",\\n    \\\"abstract expressionist artist\\\",\\n    \\\"artist and printmaker\\\",\\n    \\\"sculptor and installation artist\\\",\\n    \\\"installation artist\\\",\\n    \\\"filmmaker and artist\\\",\\n    \\\"comic book artist and painter\\\",\\n    \\\"sculptor and performance artist\\\",\\n    \\\"artist and set designer\\\",\\n    \\\"comic book artist and editor\\\",\\n    \\\"cabaret artist\\\",\\n    \\\"environmental artist\\\",\\n    \\\"expressionist artist\\\",\\n    \\\"comic book and advertising artist\\\",\\n    \\\"kinetic artist\\\",\\n    \\\"concept artist\\\",\\n    \\\"fantasy artist\\\",\\n    \\\"heraldic artist\\\",\\n    \\\"Ojibwe artist\\\",\\n    \\\"First Nations artist\\\",\\n    \\\"ballet dancer and artistic director\\\",\\n    \\\"mime artist\\\",\\n    \\\"contemporary visual artist\\\",\\n    \\\"psychedelic poster artist\\\",\\n    \\\"tattoo artist\\\",\\n    \\\"artist and art critic\\\",\\n    \\\"hip hop artist\\\",\\n    \\\"forensic artist\\\",\\n    \\\"illustrator and comics artist\\\",\\n    \\\"Hall of Fame comic book artist\\\",\\n    \\\"Inuk artist\\\",\\n    \\\"figurative artist\\\",\\n    \\\"folk artist\\\",\\n    \\\"artist and filmmaker\\\",\\n    \\\"voice over artist\\\",\\n    \\\"minimalist artist\\\",\\n    \\\"artist and graphic designer\\\",\\n    \\\"nonconformist artist\\\",\\n    \\\"portrait artist\\\",\\n    \\\"pottery artist\\\",\\n    \\\"film poster artist\\\",\\n    \\\"fiber artist\\\",\\n    \\\"Kathakali artist\\\",\\n    \\\"illustrator and comic book artist\\\",\\n    \\\"science fiction artist\\\",\\n    \\\"watercolor artist\\\",\\n    \\\"comic book artist and cartoonist\\\",\\n    \\\"artist and cartoonist\\\",\\n    \\\"avant garde artist\\\",\\n    \\\"realist painter and graphic artist\\\",\\n    \\\"comics artist and illustrator\\\",\\n    \\\"ceramics artist\\\",\\n    \\\"outsider artist\\\",\\n    \\\"architect and artist\\\",\\n    \\\"street artist\\\",\\n    \\\"video artist and\\\",\\n    \\\"video artist\\\",\\n    \\\"contemporary artist\\\",\\n    \\\"Inuit artist\\\",\\n    \\\"painter and artist\\\",\\n    \\\"voice artist\\\",\\n    \\\"rap artist\\\",\\n    \\\"graffiti artist\\\",\\n    \\\"special effects artist\\\",\\n    \\\"visual effects artist and\\\",\\n    \\\"visual effects artist\\\",\\n    \\\"and landscape artist\\\",\\n    \\\"landscape artist\\\",\\n    \\\"stained glass artist\\\",\\n    \\\"graphic designer and artist\\\",\\n    \\\"designer and artist\\\",\\n    \\\"war artist\\\",\\n    \\\"comic strip artist\\\",\\n    \\\"artistic director\\\",\\n    \\\"pop artist\\\",\\n    \\\"make up artist and\\\",\\n    \\\"make up artist\\\",\\n    \\\"comic artist\\\",\\n    \\\"wildlife artist\\\",\\n    \\\"artist and photographer\\\",\\n    \\\"sculptor and artist\\\",\\n    \\\"artist and musician\\\",\\n    \\\"makeup artist\\\",\\n    \\\"artist and architect\\\",\\n    \\\"ceramic artist and\\\",\\n    \\\"ceramic artist\\\",\\n    \\\"glass artist\\\",\\n    \\\"textile artist\\\",\\n    \\\"artist and designer\\\",\\n    \\\"artist and painter\\\",\\n    \\\"artist and sculptor\\\",\\n    \\\"performance artist and\\\",\\n    \\\"and performance artist\\\",\\n    \\\"performance artist\\\",\\n    \\\"artist and illustrator\\\",\\n    \\\"painter and graphic artist\\\",\\n    \\\"and graphic artist\\\",\\n    \\\"graphic artist and\\\",\\n    \\\"graphic artist\\\",\\n    \\\"conceptual artist\\\",\\n    \\\"abstract artist\\\",\\n    \\\"manga artist and\\\",\\n    \\\"manga artist\\\",\\n    \\\"comics artist and\\\",\\n    \\\"and comics artist\\\",\\n    \\\"comics artist\\\",\\n    \\\"visual artist and art\\\",\\n    \\\"and visual artist\\\",\\n    \\\"visual artist and\\\",\\n    \\\"visual artist\\\",\\n    \\\"comic book artist and\\\",\\n    \\\"comic book artist\\\",\\n    \\\"woodcut artist and\\\",\\n    \\\"poster artist and\\\",\\n    \\\"poster artist\\\",\\n    \\\"and storyboard artist\\\",\\n    \\\"storyboard artist\\\",\\n    \\\"modern artist and\\\",\\n    \\\"and fish skin artist\\\",\\n    \\\"and artist\\\",\\n    \\\"artist and\\\",\\n    \\\"n artist\\\",\\n    'music artist',\\n    \\\"artist\\\",\\n]\\nsports = [\\n    \\\"Muay martial artist\\\",  # before arts\\n    \\\"martial artist and Isshinryu karate pioneer\\\",\\n    \\\"professional wrestler and mixed martial artist\\\",\\n    \\\"martial artist and founder of Modern Arnis\\\",\\n    \\\"Olympic artistic gymnast\\\",\\n    \\\"professional wrestler and martial artist\\\",\\n    \\\"artistic gymnastics coach\\\",\\n    \\\"mixed martial artist and kickboxer\\\",\\n    \\\"artistic gymnast and Olympian\\\",\\n    \\\"mixed martial artist and grappler\\\",\\n    \\\"super heavyweight kickboxing champion and mixed martial artist\\\",\\n    \\\"Olympic taekwondo martial artist\\\",\\n    \\\"mixed martial artist and professional wrestler\\\",\\n    \\\"martial artist and teacher\\\",\\n    \\\"kickboxer and mixed martial artist\\\",\\n    \\\"artistic gymnast\\\",\\n    \\\"mixed martial artist\\\",\\n    \\\"martial artist and\\\",\\n    \\\"and martial artist\\\",\\n    \\\"martial artist\\\",\\n]\\nsciences = []\\n\\nbusiness_farming = []\\nacademia_humanities = []\\nlaw_enf_military_operator = [\\n    \\\"first civilian to receive the Intelligence Medal of Merit\\\"\\n]\\nspiritual = [\\\"modern primitive proponent\\\"]\\nsocial = []\\ncrime = [\\\"scam artist\\\", \\\"con artist and\\\", \\\"art forger\\\"]  # before arts\\nevent_record_other = []\\nother_species = []\";\n",
       "                var nbb_formatted_code = \"# Creating lists for each category\\npolitics_govt_law = []\\n\\narts = [\\n    \\\"based graffiti artist whose works were included in the Venice Biennale\\\",\\n    \\\"game artist\\\",\\n    \\\"Oscar winning make up artist\\\",\\n    \\\"choreographer appointed as Sydney Dance Company artistic director\\\",\\n    \\\"based pop artist\\\",\\n    \\\"artist and wife of Joaqu\\u00edn Torres Garc\\u00eda\\\",\\n    \\\"botanical artist\\\",\\n    \\\"television make up artist\\\",\\n    \\\"artist and industrial designer\\\",\\n    \\\"movie poster artist\\\",\\n    \\\"courtroom artist\\\",\\n    \\\"artist and engraver\\\",\\n    \\\"graphic designer and psychedelic artist\\\",\\n    \\\"special effects and make up artist\\\",\\n    \\\"comic book artist and publisher\\\",\\n    \\\"artist and theatre designer\\\",\\n    \\\"pop artist and director\\\",\\n    \\\"artistic draughtsman\\\",\\n    \\\"artist known for his role in the Conceptualism and Minimalism movements\\\",\\n    \\\"aboriginal artist\\\",\\n    \\\"native artist\\\",\\n    \\\"musician and artist\\\",\\n    \\\"ballet dancer and artistic director of Ballet\\\",\\n    \\\"master potter and artist\\\",\\n    \\\"drag queen music artist\\\",\\n    \\\"internationally recognized graphic artist\\\",\\n    \\\"fantasy and science fiction artist and illustrator\\\",\\n    \\\"internationally exhibited Navajo artist\\\",\\n    \\\"comic book artist and co founder of\\\",\\n    \\\"artist who was a member of the Regina Five\\\",\\n    \\\"animator and layout artist\\\",\\n    \\\"colorist and cover production artist for DC Comics\\\",\\n    \\\"special effects artist and pedal steel guitarist\\\",\\n    \\\"comic book colourist and artist\\\",\\n    \\\"based architect and artist\\\",\\n    \\\"installation artist and assemblage sculptor\\\",\\n    \\\"artist and television presenter\\\",\\n    \\\"movie artist and illustrator\\\",\\n    \\\"artist and watercolourist\\\",\\n    \\\"na\\u00efve artist\\\",\\n    \\\"transgender artist\\\",\\n    \\\"special effects artist and producer\\\",\\n    \\\"artist and musical performer\\\",\\n    \\\"and butter sculpture artist\\\",\\n    \\\"artist and print maker\\\",\\n    \\\"pop artist and sculptor\\\",\\n    \\\"experimental music artist\\\",\\n    \\\"blues musician and artist\\\",\\n    \\\"comic book artist and reputed creator of\\\",\\n    \\\"artist and composer\\\",\\n    \\\"ceramic artist and designer\\\",\\n    \\\"video game concept artist\\\",\\n    \\\"artist and reporter\\\",\\n    \\\"performance artist and playwright\\\",\\n    \\\"artist and muralist\\\",\\n    \\\"animation artist and character designer\\\",\\n    \\\"blues artist\\\",\\n    \\\"Academy Award winning visual effects artist\\\",\\n    \\\"vocalist and bassist and solo artist\\\",\\n    \\\"artist of origin\\\",\\n    \\\"neo mannerist artist\\\",\\n    \\\"shadow play artist\\\",\\n    \\\"sculptor and conceptual artist\\\",\\n    \\\"film make up artist\\\",\\n    \\\"tapestry and textile artist\\\",\\n    \\\"Golden Age comic book artist\\\",\\n    \\\"rock musician and artist\\\",\\n    \\\"strip artist\\\",\\n    \\\"wood carving artist\\\",\\n    \\\"plastic artist and illustrator\\\",\\n    \\\"artist and banknote designer\\\",\\n    \\\"textile artist and printmaker\\\",\\n    \\\"fantasy and science fiction artist\\\",\\n    \\\"figurative expressionist artist\\\",\\n    \\\"hip hop musician and graffiti artist\\\",\\n    \\\"Navajo artist\\\",\\n    \\\"wet folding origami artist\\\",\\n    \\\"Route artist\\\",\\n    \\\"animator and comic book artist\\\",\\n    \\\"R&B artist\\\",\\n    \\\"mural artist\\\",\\n    \\\"makeup artist and tenor\\\",\\n    \\\"artist and lecturer\\\",\\n    \\\"artist and ceramicist\\\",\\n    \\\"experimental visual artist\\\",\\n    \\\"vocalist and session artist\\\",\\n    \\\"artists' model and memoirist\\\",\\n    \\\"comic book and comic strip artist\\\",\\n    \\\"comic strip artist and editor\\\",\\n    \\\"Native artist and potter\\\",\\n    \\\"West Coast artist\\\",\\n    \\\"artist and comic book creator\\\",\\n    \\\"graphic artist and sculptor\\\",\\n    \\\"painter and visual artist\\\",\\n    \\\"New Realist artist\\\",\\n    \\\"motion picture matte artist\\\",\\n    \\\"artist and novelist\\\",\\n    \\\"abstract and representational artist\\\",\\n    \\\"broadcaster and comic book artist\\\",\\n    \\\"neo conceptual artist\\\",\\n    \\\"painter and pioneering manhua artist\\\",\\n    \\\"hillbilly and bluegrass artist\\\",\\n    \\\"artist and member of the Fluxus movement\\\",\\n    \\\"artist and member of the Ultra Lettrist movement\\\",\\n    \\\"graphic artist and printmaker\\\",\\n    \\\"musician and recording artist\\\",\\n    \\\"textile artist who specialized in embroidery\\\",\\n    \\\"ink artist and wife of Walt Disney\\\",\\n    \\\"artist and art collector\\\",\\n    \\\"n artist from Utopia\\\",\\n    \\\"Chicano artist\\\",\\n    \\\"artist of origins\\\",\\n    \\\"artist and doll maker\\\",\\n    \\\"conceptual and performance artist\\\",\\n    \\\"studio potter and ceramic artist\\\",\\n    \\\"tenor and artist\\\",\\n    \\\"country music artist\\\",\\n    \\\"visual artist known for her still lives and landscapes\\\",\\n    \\\"film and video artist\\\",\\n    \\\"artist and watercolor master\\\",\\n    \\\"painter and comics artist\\\",\\n    \\\"vocalist and recording artist\\\",\\n    \\\"comic book artist born\\\",\\n    \\\"science fiction and fantasy artist\\\",\\n    \\\"novelist and artist\\\",\\n    \\\"conductor and recording artist\\\",\\n    \\\"botanical artist and art critic\\\",\\n    \\\"carving artist\\\",\\n    \\\"visual artist and conceptual sculptor\\\",\\n    \\\"contemperary artist\\\",\\n    'sculptor and \\\"one of the nation most accomplished medallic artists\\\"',\\n    \\\"cartoonist and comic artist\\\",\\n    \\\"rock artist\\\",\\n    \\\"psychedelic artist\\\",\\n    \\\"animation and comic book artist\\\",\\n    \\\"textile artist and embroiderer\\\",\\n    \\\"artist and experimental photographer\\\",\\n    \\\"cartoonist and comic book artist\\\",\\n    \\\"potter and ceramic artist\\\",\\n    \\\"artist anddesigner\\\",\\n    \\\"born artist\\\",\\n    \\\"sculptor and stained glass artist\\\",\\n    \\\"equine artist\\\",\\n    \\\"typographer and graphic artist\\\",\\n    \\\"visual artist and jewelry and fashion designer\\\",\\n    \\\"visual artist and prot\\u00e9g\\u00e9 of Salvador Dal\\u00ed\\\",\\n    \\\"reggae artist\\\",\\n    \\\"artist and Army art correspondent\\\",\\n    \\\"film special effects artist\\\",\\n    \\\"vocalist and artist\\\",\\n    \\\"experimental filmmaker and artist\\\",\\n    \\\"fine artist and art editor\\\",\\n    \\\"comic book artist and book illustrator\\\",\\n    \\\"Les Automatistes artist and a member of\\\",\\n    \\\"comic book artist and co creator of Jonah Hex and Black Orchid\\\",\\n    \\\"Papunya Tula artist\\\",\\n    \\\"graphic artist and postage stamp designer\\\",\\n    \\\"artist and metalsmith\\\",\\n    \\\"manhua artist\\\",\\n    \\\"illustrator and storyboard artist\\\",\\n    \\\"Western artist\\\",\\n    \\\"artist and architectural designer\\\",\\n    \\\"graphic artist and banknote designer\\\",\\n    \\\"artist in wood\\\",\\n    \\\"Yakshagana artist\\\",\\n    \\\"trapeze artist\\\",\\n    \\\"newspaper artist and cartoonist\\\",\\n    \\\"artist and puppeteer\\\",\\n    \\\"ceramic artist and sculptor\\\",\\n    \\\"furniture designer and artist\\\",\\n    \\\"rock album cover artist\\\",\\n    \\\"stateless auto destructive artist\\\",\\n    \\\"indigenous artist and printmaker\\\",\\n    \\\"computer artist\\\",\\n    \\\"watercolour artist\\\",\\n    \\\"media artist and designer\\\",\\n    \\\"artist and landscape architect\\\",\\n    \\\"Eurodance artist\\\",\\n    \\\"musician and comic book artist\\\",\\n    \\\"graphic artist and game designer\\\",\\n    \\\"comics artist and graphic novelist\\\",\\n    \\\"hologram artist\\\",\\n    \\\"cartoonist and comics artist\\\",\\n    \\\"comics artist and animator\\\",\\n    \\\"reggae artist and comedian\\\",\\n    \\\"sound installation artist and musician\\\",\\n    \\\"artist and potter\\\",\\n    \\\"artist and film production illustrator\\\",\\n    \\\"multimedia artist and painter\\\",\\n    \\\"film animator\\\",\\n    \\\"artist photographer\\\",\\n    \\\"experimental filmmaker and visual artist\\\",\\n    \\\"artist and jewelry designer\\\",\\n    \\\"graphic designer and film poster artist\\\",\\n    \\\"fetish artist\\\",\\n    \\\"avant garde installation artist and sculptor\\\",\\n    \\\"courtroom sketch artist\\\",\\n    \\\"sketch artist\\\",\\n    \\\"caricaturist and comics artist\\\",\\n    \\\"I\\u00f1upiat artist\\\",\\n    \\\"hand shadow artist\\\",\\n    \\\"Indigenous artist\\\",\\n    \\\"musical Thavil artist\\\",\\n    \\\"ceramist and textile artist\\\",\\n    \\\"radio presenter and artist\\\",\\n    \\\"comics artist and cartoonist\\\",\\n    \\\"lianhuanhua artist\\\",\\n    \\\"multi media artist\\\",\\n    \\\"animator and comics artist\\\",\\n    \\\"artist and cultural figure\\\",\\n    \\\"typographer and visual artist\\\",\\n    \\\"graphic designer and album artist\\\",\\n    \\\"pencil artist\\\",\\n    \\\"theatre artist and playwright\\\",\\n    \\\"comic artist and illustrator\\\",\\n    \\\"motorsports artist\\\",\\n    \\\"voice over and recording artist\\\",\\n    \\\"bassist and artist\\\",\\n    \\\"comic creator and cover artist\\\",\\n    \\\"tattoo artist and reality show personality\\\",\\n    \\\"cartoonist and street artist\\\",\\n    \\\"sand artist\\\",\\n    \\\"architect and light artist\\\",\\n    \\\"media producer and makeup artist\\\",\\n    \\\"Kiowa artist\\\",\\n    \\\"Peking opera artist\\\",\\n    \\\"electronic music artist and MC\\\",\\n    \\\"graphic design artist\\\",\\n    \\\"impressionist artist\\\",\\n    \\\"graphic designer and street artist\\\",\\n    \\\"illustrator of children books and cartoon artist\\\",\\n    \\\"artist and animator\\\",\\n    \\\"record producer and artist\\\",\\n    \\\"rock concert graphic poster artist\\\",\\n    \\\"land artist\\\",\\n    \\\"video and visualization artist\\\",\\n    \\\"artist and weaver\\\",\\n    \\\"painter and plastic artist\\\",\\n    \\\"fantasy gaming artist\\\",\\n    \\\"Madhubani painter and artist\\\",\\n    \\\"animation director and storyboard artist\\\",\\n    \\\"conceptual artist and photographer\\\",\\n    \\\"fantasy artist and album cover designer\\\",\\n    \\\"design artist and painter\\\",\\n    \\\"theatre artiste\\\",\\n    \\\"thangka artist\\\",\\n    \\\"artist and Alghoza player\\\",\\n    \\\"fantasy coffin artist\\\",\\n    \\\"film concept artist\\\",\\n    \\\"wildlife artist and illustrator\\\",\\n    \\\"theatre personality and artist\\\",\\n    \\\"visual artist and fashion designer\\\",\\n    \\\"artist and fashion designer\\\",\\n    \\\"comedic artist\\\",\\n    \\\"sculptor and artistic director\\\",\\n    \\\"graphic designer and album cover artist\\\",\\n    \\\"artist and trading card illustrator\\\",\\n    \\\"geometric artist\\\",\\n    \\\"founder and artistic director of the Melbourne Theatre Company\\\",\\n    \\\"indigenous artist\\\",\\n    \\\"artist and book cover illustrator\\\",\\n    \\\"punk graphic designer and artistic director\\\",\\n    \\\"television host and recording artist\\\",\\n    \\\"artistic director and live performance organizer\\\",\\n    \\\"weaving artist\\\",\\n    \\\"pop and minimalist artist\\\",\\n    \\\"dubbing artist\\\",\\n    \\\"monumentalist artist\\\",\\n    \\\"sound artist and electronic music composer\\\",\\n    \\\"highwire artiste\\\",\\n    \\\"pixel artist\\\",\\n    \\\"conceptual and digital artist\\\",\\n    \\\"artist and inventor of the plastic pink flamingo\\\",\\n    \\\"batik artist\\\",\\n    \\\"enamel artist\\\",\\n    \\\"operatic tenor and artistic director\\\",\\n    \\\"sound artist and radio presenter\\\",\\n    \\\"sound artist\\\",\\n    \\\"conductor and artistic director\\\",\\n    \\\"graphic artist and designer\\\",\\n    \\\"quilt artist\\\",\\n    \\\"comic strip artist and cartoonist\\\",\\n    \\\"painter and installation artist\\\",\\n    \\\"graphic artist and cartoonist\\\",\\n    \\\"recording artist and vocalist\\\",\\n    \\\"circus artist and animal trainer\\\",\\n    \\\"Kunqu artist\\\",\\n    \\\"surrealist artist\\\",\\n    \\\"harmonism artist\\\",\\n    \\\"graphic designer and poster artist\\\",\\n    \\\"marine artist\\\",\\n    \\\"commercial artist and illustrator\\\",\\n    \\\"commercial artist\\\",\\n    \\\"plastic artist\\\",\\n    \\\"color abstract artist\\\",\\n    \\\"special effects make up artist\\\",\\n    \\\"underground graffiti artist\\\",\\n    \\\"ballet master and artistic director\\\",\\n    \\\"animation background artist\\\",\\n    \\\"hymnist and visual artist\\\",\\n    \\\"recording artist\\\",\\n    \\\"visual artist and photographer\\\",\\n    \\\"World War II artist\\\",\\n    \\\"painter and kinetic artist\\\",\\n    \\\"muralist and pictorial artist\\\",\\n    \\\"cartoonist and artist\\\",\\n    \\\"sculptor and graphic artist\\\",\\n    \\\"visual artist and musician\\\",\\n    \\\"artists' model\\\",\\n    \\\"abstract expressionist artist and\\\",\\n    \\\"abstract expressionist artist\\\",\\n    \\\"artist and printmaker\\\",\\n    \\\"sculptor and installation artist\\\",\\n    \\\"installation artist\\\",\\n    \\\"filmmaker and artist\\\",\\n    \\\"comic book artist and painter\\\",\\n    \\\"sculptor and performance artist\\\",\\n    \\\"artist and set designer\\\",\\n    \\\"comic book artist and editor\\\",\\n    \\\"cabaret artist\\\",\\n    \\\"environmental artist\\\",\\n    \\\"expressionist artist\\\",\\n    \\\"comic book and advertising artist\\\",\\n    \\\"kinetic artist\\\",\\n    \\\"concept artist\\\",\\n    \\\"fantasy artist\\\",\\n    \\\"heraldic artist\\\",\\n    \\\"Ojibwe artist\\\",\\n    \\\"First Nations artist\\\",\\n    \\\"ballet dancer and artistic director\\\",\\n    \\\"mime artist\\\",\\n    \\\"contemporary visual artist\\\",\\n    \\\"psychedelic poster artist\\\",\\n    \\\"tattoo artist\\\",\\n    \\\"artist and art critic\\\",\\n    \\\"hip hop artist\\\",\\n    \\\"forensic artist\\\",\\n    \\\"illustrator and comics artist\\\",\\n    \\\"Hall of Fame comic book artist\\\",\\n    \\\"Inuk artist\\\",\\n    \\\"figurative artist\\\",\\n    \\\"folk artist\\\",\\n    \\\"artist and filmmaker\\\",\\n    \\\"voice over artist\\\",\\n    \\\"minimalist artist\\\",\\n    \\\"artist and graphic designer\\\",\\n    \\\"nonconformist artist\\\",\\n    \\\"portrait artist\\\",\\n    \\\"pottery artist\\\",\\n    \\\"film poster artist\\\",\\n    \\\"fiber artist\\\",\\n    \\\"Kathakali artist\\\",\\n    \\\"illustrator and comic book artist\\\",\\n    \\\"science fiction artist\\\",\\n    \\\"watercolor artist\\\",\\n    \\\"comic book artist and cartoonist\\\",\\n    \\\"artist and cartoonist\\\",\\n    \\\"avant garde artist\\\",\\n    \\\"realist painter and graphic artist\\\",\\n    \\\"comics artist and illustrator\\\",\\n    \\\"ceramics artist\\\",\\n    \\\"outsider artist\\\",\\n    \\\"architect and artist\\\",\\n    \\\"street artist\\\",\\n    \\\"video artist and\\\",\\n    \\\"video artist\\\",\\n    \\\"contemporary artist\\\",\\n    \\\"Inuit artist\\\",\\n    \\\"painter and artist\\\",\\n    \\\"voice artist\\\",\\n    \\\"rap artist\\\",\\n    \\\"graffiti artist\\\",\\n    \\\"special effects artist\\\",\\n    \\\"visual effects artist and\\\",\\n    \\\"visual effects artist\\\",\\n    \\\"and landscape artist\\\",\\n    \\\"landscape artist\\\",\\n    \\\"stained glass artist\\\",\\n    \\\"graphic designer and artist\\\",\\n    \\\"designer and artist\\\",\\n    \\\"war artist\\\",\\n    \\\"comic strip artist\\\",\\n    \\\"artistic director\\\",\\n    \\\"pop artist\\\",\\n    \\\"make up artist and\\\",\\n    \\\"make up artist\\\",\\n    \\\"comic artist\\\",\\n    \\\"wildlife artist\\\",\\n    \\\"artist and photographer\\\",\\n    \\\"sculptor and artist\\\",\\n    \\\"artist and musician\\\",\\n    \\\"makeup artist\\\",\\n    \\\"artist and architect\\\",\\n    \\\"ceramic artist and\\\",\\n    \\\"ceramic artist\\\",\\n    \\\"glass artist\\\",\\n    \\\"textile artist\\\",\\n    \\\"artist and designer\\\",\\n    \\\"artist and painter\\\",\\n    \\\"artist and sculptor\\\",\\n    \\\"performance artist and\\\",\\n    \\\"and performance artist\\\",\\n    \\\"performance artist\\\",\\n    \\\"artist and illustrator\\\",\\n    \\\"painter and graphic artist\\\",\\n    \\\"and graphic artist\\\",\\n    \\\"graphic artist and\\\",\\n    \\\"graphic artist\\\",\\n    \\\"conceptual artist\\\",\\n    \\\"abstract artist\\\",\\n    \\\"manga artist and\\\",\\n    \\\"manga artist\\\",\\n    \\\"comics artist and\\\",\\n    \\\"and comics artist\\\",\\n    \\\"comics artist\\\",\\n    \\\"visual artist and art\\\",\\n    \\\"and visual artist\\\",\\n    \\\"visual artist and\\\",\\n    \\\"visual artist\\\",\\n    \\\"comic book artist and\\\",\\n    \\\"comic book artist\\\",\\n    \\\"woodcut artist and\\\",\\n    \\\"poster artist and\\\",\\n    \\\"poster artist\\\",\\n    \\\"and storyboard artist\\\",\\n    \\\"storyboard artist\\\",\\n    \\\"modern artist and\\\",\\n    \\\"and fish skin artist\\\",\\n    \\\"and artist\\\",\\n    \\\"artist and\\\",\\n    \\\"n artist\\\",\\n    \\\"music artist\\\",\\n    \\\"artist\\\",\\n]\\nsports = [\\n    \\\"Muay martial artist\\\",  # before arts\\n    \\\"martial artist and Isshinryu karate pioneer\\\",\\n    \\\"professional wrestler and mixed martial artist\\\",\\n    \\\"martial artist and founder of Modern Arnis\\\",\\n    \\\"Olympic artistic gymnast\\\",\\n    \\\"professional wrestler and martial artist\\\",\\n    \\\"artistic gymnastics coach\\\",\\n    \\\"mixed martial artist and kickboxer\\\",\\n    \\\"artistic gymnast and Olympian\\\",\\n    \\\"mixed martial artist and grappler\\\",\\n    \\\"super heavyweight kickboxing champion and mixed martial artist\\\",\\n    \\\"Olympic taekwondo martial artist\\\",\\n    \\\"mixed martial artist and professional wrestler\\\",\\n    \\\"martial artist and teacher\\\",\\n    \\\"kickboxer and mixed martial artist\\\",\\n    \\\"artistic gymnast\\\",\\n    \\\"mixed martial artist\\\",\\n    \\\"martial artist and\\\",\\n    \\\"and martial artist\\\",\\n    \\\"martial artist\\\",\\n]\\nsciences = []\\n\\nbusiness_farming = []\\nacademia_humanities = []\\nlaw_enf_military_operator = [\\n    \\\"first civilian to receive the Intelligence Medal of Merit\\\"\\n]\\nspiritual = [\\\"modern primitive proponent\\\"]\\nsocial = []\\ncrime = [\\\"scam artist\\\", \\\"con artist and\\\", \\\"art forger\\\"]  # before arts\\nevent_record_other = []\\nother_species = []\";\n",
       "                var nbb_cells = Jupyter.notebook.get_cells();\n",
       "                for (var i = 0; i < nbb_cells.length; ++i) {\n",
       "                    if (nbb_cells[i].input_prompt_number == nbb_cell_id) {\n",
       "                        if (nbb_cells[i].get_text() == nbb_unformatted_code) {\n",
       "                             nbb_cells[i].set_text(nbb_formatted_code);\n",
       "                        }\n",
       "                        break;\n",
       "                    }\n",
       "                }\n",
       "            }, 500);\n",
       "            "
      ],
      "text/plain": [
       "<IPython.core.display.Javascript object>"
      ]
     },
     "metadata": {},
     "output_type": "display_data"
    }
   ],
   "source": [
    "# Creating lists for each category\n",
    "politics_govt_law = []\n",
    "\n",
    "arts = [\n",
    "    \"based graffiti artist whose works were included in the Venice Biennale\",\n",
    "    \"game artist\",\n",
    "    \"Oscar winning make up artist\",\n",
    "    \"choreographer appointed as Sydney Dance Company artistic director\",\n",
    "    \"based pop artist\",\n",
    "    \"artist and wife of Joaquín Torres García\",\n",
    "    \"botanical artist\",\n",
    "    \"television make up artist\",\n",
    "    \"artist and industrial designer\",\n",
    "    \"movie poster artist\",\n",
    "    \"courtroom artist\",\n",
    "    \"artist and engraver\",\n",
    "    \"graphic designer and psychedelic artist\",\n",
    "    \"special effects and make up artist\",\n",
    "    \"comic book artist and publisher\",\n",
    "    \"artist and theatre designer\",\n",
    "    \"pop artist and director\",\n",
    "    \"artistic draughtsman\",\n",
    "    \"artist known for his role in the Conceptualism and Minimalism movements\",\n",
    "    \"aboriginal artist\",\n",
    "    \"native artist\",\n",
    "    \"musician and artist\",\n",
    "    \"ballet dancer and artistic director of Ballet\",\n",
    "    \"master potter and artist\",\n",
    "    \"drag queen music artist\",\n",
    "    \"internationally recognized graphic artist\",\n",
    "    \"fantasy and science fiction artist and illustrator\",\n",
    "    \"internationally exhibited Navajo artist\",\n",
    "    \"comic book artist and co founder of\",\n",
    "    \"artist who was a member of the Regina Five\",\n",
    "    \"animator and layout artist\",\n",
    "    \"colorist and cover production artist for DC Comics\",\n",
    "    \"special effects artist and pedal steel guitarist\",\n",
    "    \"comic book colourist and artist\",\n",
    "    \"based architect and artist\",\n",
    "    \"installation artist and assemblage sculptor\",\n",
    "    \"artist and television presenter\",\n",
    "    \"movie artist and illustrator\",\n",
    "    \"artist and watercolourist\",\n",
    "    \"naïve artist\",\n",
    "    \"transgender artist\",\n",
    "    \"special effects artist and producer\",\n",
    "    \"artist and musical performer\",\n",
    "    \"and butter sculpture artist\",\n",
    "    \"artist and print maker\",\n",
    "    \"pop artist and sculptor\",\n",
    "    \"experimental music artist\",\n",
    "    \"blues musician and artist\",\n",
    "    \"comic book artist and reputed creator of\",\n",
    "    \"artist and composer\",\n",
    "    \"ceramic artist and designer\",\n",
    "    \"video game concept artist\",\n",
    "    \"artist and reporter\",\n",
    "    \"performance artist and playwright\",\n",
    "    \"artist and muralist\",\n",
    "    \"animation artist and character designer\",\n",
    "    \"blues artist\",\n",
    "    \"Academy Award winning visual effects artist\",\n",
    "    \"vocalist and bassist and solo artist\",\n",
    "    \"artist of origin\",\n",
    "    \"neo mannerist artist\",\n",
    "    \"shadow play artist\",\n",
    "    \"sculptor and conceptual artist\",\n",
    "    \"film make up artist\",\n",
    "    \"tapestry and textile artist\",\n",
    "    \"Golden Age comic book artist\",\n",
    "    \"rock musician and artist\",\n",
    "    \"strip artist\",\n",
    "    \"wood carving artist\",\n",
    "    \"plastic artist and illustrator\",\n",
    "    \"artist and banknote designer\",\n",
    "    \"textile artist and printmaker\",\n",
    "    \"fantasy and science fiction artist\",\n",
    "    \"figurative expressionist artist\",\n",
    "    \"hip hop musician and graffiti artist\",\n",
    "    \"Navajo artist\",\n",
    "    \"wet folding origami artist\",\n",
    "    \"Route artist\",\n",
    "    \"animator and comic book artist\",\n",
    "    \"R&B artist\",\n",
    "    \"mural artist\",\n",
    "    \"makeup artist and tenor\",\n",
    "    \"artist and lecturer\",\n",
    "    \"artist and ceramicist\",\n",
    "    \"experimental visual artist\",\n",
    "    \"vocalist and session artist\",\n",
    "    \"artists' model and memoirist\",\n",
    "    \"comic book and comic strip artist\",\n",
    "    \"comic strip artist and editor\",\n",
    "    \"Native artist and potter\",\n",
    "    \"West Coast artist\",\n",
    "    \"artist and comic book creator\",\n",
    "    \"graphic artist and sculptor\",\n",
    "    \"painter and visual artist\",\n",
    "    \"New Realist artist\",\n",
    "    \"motion picture matte artist\",\n",
    "    \"artist and novelist\",\n",
    "    \"abstract and representational artist\",\n",
    "    \"broadcaster and comic book artist\",\n",
    "    \"neo conceptual artist\",\n",
    "    \"painter and pioneering manhua artist\",\n",
    "    \"hillbilly and bluegrass artist\",\n",
    "    \"artist and member of the Fluxus movement\",\n",
    "    \"artist and member of the Ultra Lettrist movement\",\n",
    "    \"graphic artist and printmaker\",\n",
    "    \"musician and recording artist\",\n",
    "    \"textile artist who specialized in embroidery\",\n",
    "    \"ink artist and wife of Walt Disney\",\n",
    "    \"artist and art collector\",\n",
    "    \"n artist from Utopia\",\n",
    "    \"Chicano artist\",\n",
    "    \"artist of origins\",\n",
    "    \"artist and doll maker\",\n",
    "    \"conceptual and performance artist\",\n",
    "    \"studio potter and ceramic artist\",\n",
    "    \"tenor and artist\",\n",
    "    \"country music artist\",\n",
    "    \"visual artist known for her still lives and landscapes\",\n",
    "    \"film and video artist\",\n",
    "    \"artist and watercolor master\",\n",
    "    \"painter and comics artist\",\n",
    "    \"vocalist and recording artist\",\n",
    "    \"comic book artist born\",\n",
    "    \"science fiction and fantasy artist\",\n",
    "    \"novelist and artist\",\n",
    "    \"conductor and recording artist\",\n",
    "    \"botanical artist and art critic\",\n",
    "    \"carving artist\",\n",
    "    \"visual artist and conceptual sculptor\",\n",
    "    \"contemperary artist\",\n",
    "    'sculptor and \"one of the nation most accomplished medallic artists\"',\n",
    "    \"cartoonist and comic artist\",\n",
    "    \"rock artist\",\n",
    "    \"psychedelic artist\",\n",
    "    \"animation and comic book artist\",\n",
    "    \"textile artist and embroiderer\",\n",
    "    \"artist and experimental photographer\",\n",
    "    \"cartoonist and comic book artist\",\n",
    "    \"potter and ceramic artist\",\n",
    "    \"artist anddesigner\",\n",
    "    \"born artist\",\n",
    "    \"sculptor and stained glass artist\",\n",
    "    \"equine artist\",\n",
    "    \"typographer and graphic artist\",\n",
    "    \"visual artist and jewelry and fashion designer\",\n",
    "    \"visual artist and protégé of Salvador Dalí\",\n",
    "    \"reggae artist\",\n",
    "    \"artist and Army art correspondent\",\n",
    "    \"film special effects artist\",\n",
    "    \"vocalist and artist\",\n",
    "    \"experimental filmmaker and artist\",\n",
    "    \"fine artist and art editor\",\n",
    "    \"comic book artist and book illustrator\",\n",
    "    \"Les Automatistes artist and a member of\",\n",
    "    \"comic book artist and co creator of Jonah Hex and Black Orchid\",\n",
    "    \"Papunya Tula artist\",\n",
    "    \"graphic artist and postage stamp designer\",\n",
    "    \"artist and metalsmith\",\n",
    "    \"manhua artist\",\n",
    "    \"illustrator and storyboard artist\",\n",
    "    \"Western artist\",\n",
    "    \"artist and architectural designer\",\n",
    "    \"graphic artist and banknote designer\",\n",
    "    \"artist in wood\",\n",
    "    \"Yakshagana artist\",\n",
    "    \"trapeze artist\",\n",
    "    \"newspaper artist and cartoonist\",\n",
    "    \"artist and puppeteer\",\n",
    "    \"ceramic artist and sculptor\",\n",
    "    \"furniture designer and artist\",\n",
    "    \"rock album cover artist\",\n",
    "    \"stateless auto destructive artist\",\n",
    "    \"indigenous artist and printmaker\",\n",
    "    \"computer artist\",\n",
    "    \"watercolour artist\",\n",
    "    \"media artist and designer\",\n",
    "    \"artist and landscape architect\",\n",
    "    \"Eurodance artist\",\n",
    "    \"musician and comic book artist\",\n",
    "    \"graphic artist and game designer\",\n",
    "    \"comics artist and graphic novelist\",\n",
    "    \"hologram artist\",\n",
    "    \"cartoonist and comics artist\",\n",
    "    \"comics artist and animator\",\n",
    "    \"reggae artist and comedian\",\n",
    "    \"sound installation artist and musician\",\n",
    "    \"artist and potter\",\n",
    "    \"artist and film production illustrator\",\n",
    "    \"multimedia artist and painter\",\n",
    "    \"film animator\",\n",
    "    \"artist photographer\",\n",
    "    \"experimental filmmaker and visual artist\",\n",
    "    \"artist and jewelry designer\",\n",
    "    \"graphic designer and film poster artist\",\n",
    "    \"fetish artist\",\n",
    "    \"avant garde installation artist and sculptor\",\n",
    "    \"courtroom sketch artist\",\n",
    "    \"sketch artist\",\n",
    "    \"caricaturist and comics artist\",\n",
    "    \"Iñupiat artist\",\n",
    "    \"hand shadow artist\",\n",
    "    \"Indigenous artist\",\n",
    "    \"musical Thavil artist\",\n",
    "    \"ceramist and textile artist\",\n",
    "    \"radio presenter and artist\",\n",
    "    \"comics artist and cartoonist\",\n",
    "    \"lianhuanhua artist\",\n",
    "    \"multi media artist\",\n",
    "    \"animator and comics artist\",\n",
    "    \"artist and cultural figure\",\n",
    "    \"typographer and visual artist\",\n",
    "    \"graphic designer and album artist\",\n",
    "    \"pencil artist\",\n",
    "    \"theatre artist and playwright\",\n",
    "    \"comic artist and illustrator\",\n",
    "    \"motorsports artist\",\n",
    "    \"voice over and recording artist\",\n",
    "    \"bassist and artist\",\n",
    "    \"comic creator and cover artist\",\n",
    "    \"tattoo artist and reality show personality\",\n",
    "    \"cartoonist and street artist\",\n",
    "    \"sand artist\",\n",
    "    \"architect and light artist\",\n",
    "    \"media producer and makeup artist\",\n",
    "    \"Kiowa artist\",\n",
    "    \"Peking opera artist\",\n",
    "    \"electronic music artist and MC\",\n",
    "    \"graphic design artist\",\n",
    "    \"impressionist artist\",\n",
    "    \"graphic designer and street artist\",\n",
    "    \"illustrator of children books and cartoon artist\",\n",
    "    \"artist and animator\",\n",
    "    \"record producer and artist\",\n",
    "    \"rock concert graphic poster artist\",\n",
    "    \"land artist\",\n",
    "    \"video and visualization artist\",\n",
    "    \"artist and weaver\",\n",
    "    \"painter and plastic artist\",\n",
    "    \"fantasy gaming artist\",\n",
    "    \"Madhubani painter and artist\",\n",
    "    \"animation director and storyboard artist\",\n",
    "    \"conceptual artist and photographer\",\n",
    "    \"fantasy artist and album cover designer\",\n",
    "    \"design artist and painter\",\n",
    "    \"theatre artiste\",\n",
    "    \"thangka artist\",\n",
    "    \"artist and Alghoza player\",\n",
    "    \"fantasy coffin artist\",\n",
    "    \"film concept artist\",\n",
    "    \"wildlife artist and illustrator\",\n",
    "    \"theatre personality and artist\",\n",
    "    \"visual artist and fashion designer\",\n",
    "    \"artist and fashion designer\",\n",
    "    \"comedic artist\",\n",
    "    \"sculptor and artistic director\",\n",
    "    \"graphic designer and album cover artist\",\n",
    "    \"artist and trading card illustrator\",\n",
    "    \"geometric artist\",\n",
    "    \"founder and artistic director of the Melbourne Theatre Company\",\n",
    "    \"indigenous artist\",\n",
    "    \"artist and book cover illustrator\",\n",
    "    \"punk graphic designer and artistic director\",\n",
    "    \"television host and recording artist\",\n",
    "    \"artistic director and live performance organizer\",\n",
    "    \"weaving artist\",\n",
    "    \"pop and minimalist artist\",\n",
    "    \"dubbing artist\",\n",
    "    \"monumentalist artist\",\n",
    "    \"sound artist and electronic music composer\",\n",
    "    \"highwire artiste\",\n",
    "    \"pixel artist\",\n",
    "    \"conceptual and digital artist\",\n",
    "    \"artist and inventor of the plastic pink flamingo\",\n",
    "    \"batik artist\",\n",
    "    \"enamel artist\",\n",
    "    \"operatic tenor and artistic director\",\n",
    "    \"sound artist and radio presenter\",\n",
    "    \"sound artist\",\n",
    "    \"conductor and artistic director\",\n",
    "    \"graphic artist and designer\",\n",
    "    \"quilt artist\",\n",
    "    \"comic strip artist and cartoonist\",\n",
    "    \"painter and installation artist\",\n",
    "    \"graphic artist and cartoonist\",\n",
    "    \"recording artist and vocalist\",\n",
    "    \"circus artist and animal trainer\",\n",
    "    \"Kunqu artist\",\n",
    "    \"surrealist artist\",\n",
    "    \"harmonism artist\",\n",
    "    \"graphic designer and poster artist\",\n",
    "    \"marine artist\",\n",
    "    \"commercial artist and illustrator\",\n",
    "    \"commercial artist\",\n",
    "    \"plastic artist\",\n",
    "    \"color abstract artist\",\n",
    "    \"special effects make up artist\",\n",
    "    \"underground graffiti artist\",\n",
    "    \"ballet master and artistic director\",\n",
    "    \"animation background artist\",\n",
    "    \"hymnist and visual artist\",\n",
    "    \"recording artist\",\n",
    "    \"visual artist and photographer\",\n",
    "    \"World War II artist\",\n",
    "    \"painter and kinetic artist\",\n",
    "    \"muralist and pictorial artist\",\n",
    "    \"cartoonist and artist\",\n",
    "    \"sculptor and graphic artist\",\n",
    "    \"visual artist and musician\",\n",
    "    \"artists' model\",\n",
    "    \"abstract expressionist artist and\",\n",
    "    \"abstract expressionist artist\",\n",
    "    \"artist and printmaker\",\n",
    "    \"sculptor and installation artist\",\n",
    "    \"installation artist\",\n",
    "    \"filmmaker and artist\",\n",
    "    \"comic book artist and painter\",\n",
    "    \"sculptor and performance artist\",\n",
    "    \"artist and set designer\",\n",
    "    \"comic book artist and editor\",\n",
    "    \"cabaret artist\",\n",
    "    \"environmental artist\",\n",
    "    \"expressionist artist\",\n",
    "    \"comic book and advertising artist\",\n",
    "    \"kinetic artist\",\n",
    "    \"concept artist\",\n",
    "    \"fantasy artist\",\n",
    "    \"heraldic artist\",\n",
    "    \"Ojibwe artist\",\n",
    "    \"First Nations artist\",\n",
    "    \"ballet dancer and artistic director\",\n",
    "    \"mime artist\",\n",
    "    \"contemporary visual artist\",\n",
    "    \"psychedelic poster artist\",\n",
    "    \"tattoo artist\",\n",
    "    \"artist and art critic\",\n",
    "    \"hip hop artist\",\n",
    "    \"forensic artist\",\n",
    "    \"illustrator and comics artist\",\n",
    "    \"Hall of Fame comic book artist\",\n",
    "    \"Inuk artist\",\n",
    "    \"figurative artist\",\n",
    "    \"folk artist\",\n",
    "    \"artist and filmmaker\",\n",
    "    \"voice over artist\",\n",
    "    \"minimalist artist\",\n",
    "    \"artist and graphic designer\",\n",
    "    \"nonconformist artist\",\n",
    "    \"portrait artist\",\n",
    "    \"pottery artist\",\n",
    "    \"film poster artist\",\n",
    "    \"fiber artist\",\n",
    "    \"Kathakali artist\",\n",
    "    \"illustrator and comic book artist\",\n",
    "    \"science fiction artist\",\n",
    "    \"watercolor artist\",\n",
    "    \"comic book artist and cartoonist\",\n",
    "    \"artist and cartoonist\",\n",
    "    \"avant garde artist\",\n",
    "    \"realist painter and graphic artist\",\n",
    "    \"comics artist and illustrator\",\n",
    "    \"ceramics artist\",\n",
    "    \"outsider artist\",\n",
    "    \"architect and artist\",\n",
    "    \"street artist\",\n",
    "    \"video artist and\",\n",
    "    \"video artist\",\n",
    "    \"contemporary artist\",\n",
    "    \"Inuit artist\",\n",
    "    \"painter and artist\",\n",
    "    \"voice artist\",\n",
    "    \"rap artist\",\n",
    "    \"graffiti artist\",\n",
    "    \"special effects artist\",\n",
    "    \"visual effects artist and\",\n",
    "    \"visual effects artist\",\n",
    "    \"and landscape artist\",\n",
    "    \"landscape artist\",\n",
    "    \"stained glass artist\",\n",
    "    \"graphic designer and artist\",\n",
    "    \"designer and artist\",\n",
    "    \"war artist\",\n",
    "    \"comic strip artist\",\n",
    "    \"artistic director\",\n",
    "    \"pop artist\",\n",
    "    \"make up artist and\",\n",
    "    \"make up artist\",\n",
    "    \"comic artist\",\n",
    "    \"wildlife artist\",\n",
    "    \"artist and photographer\",\n",
    "    \"sculptor and artist\",\n",
    "    \"artist and musician\",\n",
    "    \"makeup artist\",\n",
    "    \"artist and architect\",\n",
    "    \"ceramic artist and\",\n",
    "    \"ceramic artist\",\n",
    "    \"glass artist\",\n",
    "    \"textile artist\",\n",
    "    \"artist and designer\",\n",
    "    \"artist and painter\",\n",
    "    \"artist and sculptor\",\n",
    "    \"performance artist and\",\n",
    "    \"and performance artist\",\n",
    "    \"performance artist\",\n",
    "    \"artist and illustrator\",\n",
    "    \"painter and graphic artist\",\n",
    "    \"and graphic artist\",\n",
    "    \"graphic artist and\",\n",
    "    \"graphic artist\",\n",
    "    \"conceptual artist\",\n",
    "    \"abstract artist\",\n",
    "    \"manga artist and\",\n",
    "    \"manga artist\",\n",
    "    \"comics artist and\",\n",
    "    \"and comics artist\",\n",
    "    \"comics artist\",\n",
    "    \"visual artist and art\",\n",
    "    \"and visual artist\",\n",
    "    \"visual artist and\",\n",
    "    \"visual artist\",\n",
    "    \"comic book artist and\",\n",
    "    \"comic book artist\",\n",
    "    \"woodcut artist and\",\n",
    "    \"poster artist and\",\n",
    "    \"poster artist\",\n",
    "    \"and storyboard artist\",\n",
    "    \"storyboard artist\",\n",
    "    \"modern artist and\",\n",
    "    \"and fish skin artist\",\n",
    "    \"and artist\",\n",
    "    \"artist and\",\n",
    "    \"n artist\",\n",
    "    \"music artist\",\n",
    "    \"artist\",\n",
    "]\n",
    "sports = [\n",
    "    \"Muay martial artist\",  # before arts\n",
    "    \"martial artist and Isshinryu karate pioneer\",\n",
    "    \"professional wrestler and mixed martial artist\",\n",
    "    \"martial artist and founder of Modern Arnis\",\n",
    "    \"Olympic artistic gymnast\",\n",
    "    \"professional wrestler and martial artist\",\n",
    "    \"artistic gymnastics coach\",\n",
    "    \"mixed martial artist and kickboxer\",\n",
    "    \"artistic gymnast and Olympian\",\n",
    "    \"mixed martial artist and grappler\",\n",
    "    \"super heavyweight kickboxing champion and mixed martial artist\",\n",
    "    \"Olympic taekwondo martial artist\",\n",
    "    \"mixed martial artist and professional wrestler\",\n",
    "    \"martial artist and teacher\",\n",
    "    \"kickboxer and mixed martial artist\",\n",
    "    \"artistic gymnast\",\n",
    "    \"mixed martial artist\",\n",
    "    \"martial artist and\",\n",
    "    \"and martial artist\",\n",
    "    \"martial artist\",\n",
    "]\n",
    "sciences = []\n",
    "\n",
    "business_farming = []\n",
    "academia_humanities = []\n",
    "law_enf_military_operator = [\n",
    "    \"first civilian to receive the Intelligence Medal of Merit\"\n",
    "]\n",
    "spiritual = [\"modern primitive proponent\"]\n",
    "social = []\n",
    "crime = [\"scam artist\", \"con artist and\", \"art forger\"]  # before arts\n",
    "event_record_other = []\n",
    "other_species = []"
   ]
  },
  {
   "cell_type": "markdown",
   "id": "8897c102",
   "metadata": {},
   "source": [
    "#### Creating `known_for_dict_15` Dictionary of Category Keys and Specific Role Lists of Values"
   ]
  },
  {
   "cell_type": "code",
   "execution_count": 26,
   "id": "3929ff23",
   "metadata": {},
   "outputs": [
    {
     "data": {
      "application/javascript": [
       "\n",
       "            setTimeout(function() {\n",
       "                var nbb_cell_id = 26;\n",
       "                var nbb_unformatted_code = \"# Combining separate lists into one dictionary\\nknown_for_dict_15 = {\\n    \\\"social\\\": social,\\n    \\\"spiritual\\\": spiritual,\\n    \\\"academia_humanities\\\": academia_humanities,\\n    \\\"business_farming\\\": business_farming,\\n    \\\"sciences\\\": sciences,\\n    \\\"politics_govt_law\\\": politics_govt_law,\\n    \\\"law_enf_military_operator\\\": law_enf_military_operator,\\n    \\\"crime\\\": crime,\\n    \\\"event_record_other\\\": event_record_other,\\n    \\\"other_species\\\": other_species,\\n    \\\"sports\\\": sports,\\n    \\\"arts\\\": arts,\\n}\";\n",
       "                var nbb_formatted_code = \"# Combining separate lists into one dictionary\\nknown_for_dict_15 = {\\n    \\\"social\\\": social,\\n    \\\"spiritual\\\": spiritual,\\n    \\\"academia_humanities\\\": academia_humanities,\\n    \\\"business_farming\\\": business_farming,\\n    \\\"sciences\\\": sciences,\\n    \\\"politics_govt_law\\\": politics_govt_law,\\n    \\\"law_enf_military_operator\\\": law_enf_military_operator,\\n    \\\"crime\\\": crime,\\n    \\\"event_record_other\\\": event_record_other,\\n    \\\"other_species\\\": other_species,\\n    \\\"sports\\\": sports,\\n    \\\"arts\\\": arts,\\n}\";\n",
       "                var nbb_cells = Jupyter.notebook.get_cells();\n",
       "                for (var i = 0; i < nbb_cells.length; ++i) {\n",
       "                    if (nbb_cells[i].input_prompt_number == nbb_cell_id) {\n",
       "                        if (nbb_cells[i].get_text() == nbb_unformatted_code) {\n",
       "                             nbb_cells[i].set_text(nbb_formatted_code);\n",
       "                        }\n",
       "                        break;\n",
       "                    }\n",
       "                }\n",
       "            }, 500);\n",
       "            "
      ],
      "text/plain": [
       "<IPython.core.display.Javascript object>"
      ]
     },
     "metadata": {},
     "output_type": "display_data"
    }
   ],
   "source": [
    "# Combining separate lists into one dictionary\n",
    "known_for_dict_15 = {\n",
    "    \"social\": social,\n",
    "    \"spiritual\": spiritual,\n",
    "    \"academia_humanities\": academia_humanities,\n",
    "    \"business_farming\": business_farming,\n",
    "    \"sciences\": sciences,\n",
    "    \"politics_govt_law\": politics_govt_law,\n",
    "    \"law_enf_military_operator\": law_enf_military_operator,\n",
    "    \"crime\": crime,\n",
    "    \"event_record_other\": event_record_other,\n",
    "    \"other_species\": other_species,\n",
    "    \"sports\": sports,\n",
    "    \"arts\": arts,\n",
    "}"
   ]
  },
  {
   "cell_type": "markdown",
   "id": "fad1e365",
   "metadata": {},
   "source": [
    "#### Extracting Category from `info_2`"
   ]
  },
  {
   "cell_type": "code",
   "execution_count": 27,
   "id": "4db0f3fe",
   "metadata": {},
   "outputs": [
    {
     "name": "stdout",
     "output_type": "stream",
     "text": [
      "CPU times: total: 3min 58s\n",
      "Wall time: 3min 58s\n"
     ]
    },
    {
     "data": {
      "text/html": [
       "<div>\n",
       "<style scoped>\n",
       "    .dataframe tbody tr th:only-of-type {\n",
       "        vertical-align: middle;\n",
       "    }\n",
       "\n",
       "    .dataframe tbody tr th {\n",
       "        vertical-align: top;\n",
       "    }\n",
       "\n",
       "    .dataframe thead th {\n",
       "        text-align: right;\n",
       "    }\n",
       "</style>\n",
       "<table border=\"1\" class=\"dataframe\">\n",
       "  <thead>\n",
       "    <tr style=\"text-align: right;\">\n",
       "      <th></th>\n",
       "      <th>day</th>\n",
       "      <th>name</th>\n",
       "      <th>info</th>\n",
       "      <th>link</th>\n",
       "      <th>num_references</th>\n",
       "      <th>year</th>\n",
       "      <th>month</th>\n",
       "      <th>info_parenth</th>\n",
       "      <th>info_1</th>\n",
       "      <th>info_2</th>\n",
       "      <th>info_3</th>\n",
       "      <th>info_4</th>\n",
       "      <th>info_5</th>\n",
       "      <th>info_6</th>\n",
       "      <th>info_7</th>\n",
       "      <th>info_8</th>\n",
       "      <th>info_9</th>\n",
       "      <th>info_10</th>\n",
       "      <th>info_11</th>\n",
       "      <th>age</th>\n",
       "      <th>cause_of_death</th>\n",
       "      <th>place_1</th>\n",
       "      <th>place_2</th>\n",
       "      <th>info_parenth_copy</th>\n",
       "      <th>log_num_references</th>\n",
       "      <th>sciences</th>\n",
       "      <th>social</th>\n",
       "      <th>spiritual</th>\n",
       "      <th>academia_humanities</th>\n",
       "      <th>business_farming</th>\n",
       "      <th>arts</th>\n",
       "      <th>sports</th>\n",
       "      <th>law_enf_military_operator</th>\n",
       "      <th>politics_govt_law</th>\n",
       "      <th>crime</th>\n",
       "      <th>event_record_other</th>\n",
       "      <th>other_species</th>\n",
       "      <th>num_categories</th>\n",
       "    </tr>\n",
       "  </thead>\n",
       "  <tbody>\n",
       "    <tr>\n",
       "      <th>79219</th>\n",
       "      <td>7</td>\n",
       "      <td>Nexhmije Pagarusha</td>\n",
       "      <td>, 86, Albanian singer and actress.</td>\n",
       "      <td>https://en.wikipedia.org/wiki/Nexhmije_Pagarusha</td>\n",
       "      <td>10</td>\n",
       "      <td>2020</td>\n",
       "      <td>February</td>\n",
       "      <td>None</td>\n",
       "      <td>None</td>\n",
       "      <td></td>\n",
       "      <td>None</td>\n",
       "      <td>None</td>\n",
       "      <td>None</td>\n",
       "      <td>None</td>\n",
       "      <td>None</td>\n",
       "      <td>None</td>\n",
       "      <td>None</td>\n",
       "      <td>None</td>\n",
       "      <td>None</td>\n",
       "      <td>86.0</td>\n",
       "      <td>None</td>\n",
       "      <td>Albania</td>\n",
       "      <td>None</td>\n",
       "      <td>None</td>\n",
       "      <td>2.397895</td>\n",
       "      <td>0</td>\n",
       "      <td>0</td>\n",
       "      <td>0</td>\n",
       "      <td>0</td>\n",
       "      <td>0</td>\n",
       "      <td>1</td>\n",
       "      <td>0</td>\n",
       "      <td>0</td>\n",
       "      <td>0</td>\n",
       "      <td>0</td>\n",
       "      <td>0</td>\n",
       "      <td>0</td>\n",
       "      <td>1</td>\n",
       "    </tr>\n",
       "    <tr>\n",
       "      <th>45834</th>\n",
       "      <td>7</td>\n",
       "      <td>Alan Bridges</td>\n",
       "      <td>, 86, English film and television director .</td>\n",
       "      <td>https://en.wikipedia.org/wiki/Alan_Bridges</td>\n",
       "      <td>6</td>\n",
       "      <td>2013</td>\n",
       "      <td>December</td>\n",
       "      <td></td>\n",
       "      <td>None</td>\n",
       "      <td></td>\n",
       "      <td>None</td>\n",
       "      <td>None</td>\n",
       "      <td>None</td>\n",
       "      <td>None</td>\n",
       "      <td>None</td>\n",
       "      <td>None</td>\n",
       "      <td>None</td>\n",
       "      <td>None</td>\n",
       "      <td>None</td>\n",
       "      <td>86.0</td>\n",
       "      <td>None</td>\n",
       "      <td>United Kingdom of Great Britain and Northern Ireland</td>\n",
       "      <td>None</td>\n",
       "      <td></td>\n",
       "      <td>1.945910</td>\n",
       "      <td>0</td>\n",
       "      <td>0</td>\n",
       "      <td>0</td>\n",
       "      <td>0</td>\n",
       "      <td>0</td>\n",
       "      <td>1</td>\n",
       "      <td>0</td>\n",
       "      <td>0</td>\n",
       "      <td>0</td>\n",
       "      <td>0</td>\n",
       "      <td>0</td>\n",
       "      <td>0</td>\n",
       "      <td>1</td>\n",
       "    </tr>\n",
       "  </tbody>\n",
       "</table>\n",
       "</div>"
      ],
      "text/plain": [
       "      day                name                                          info  \\\n",
       "79219   7  Nexhmije Pagarusha            , 86, Albanian singer and actress.   \n",
       "45834   7        Alan Bridges  , 86, English film and television director .   \n",
       "\n",
       "                                                   link  num_references  year  \\\n",
       "79219  https://en.wikipedia.org/wiki/Nexhmije_Pagarusha              10  2020   \n",
       "45834        https://en.wikipedia.org/wiki/Alan_Bridges               6  2013   \n",
       "\n",
       "          month info_parenth info_1 info_2 info_3 info_4 info_5 info_6 info_7  \\\n",
       "79219  February         None   None          None   None   None   None   None   \n",
       "45834  December                None          None   None   None   None   None   \n",
       "\n",
       "      info_8 info_9 info_10 info_11   age cause_of_death  \\\n",
       "79219   None   None    None    None  86.0           None   \n",
       "45834   None   None    None    None  86.0           None   \n",
       "\n",
       "                                                    place_1 place_2  \\\n",
       "79219                                               Albania    None   \n",
       "45834  United Kingdom of Great Britain and Northern Ireland    None   \n",
       "\n",
       "      info_parenth_copy  log_num_references  sciences  social  spiritual  \\\n",
       "79219              None            2.397895         0       0          0   \n",
       "45834                              1.945910         0       0          0   \n",
       "\n",
       "       academia_humanities  business_farming  arts  sports  \\\n",
       "79219                    0                 0     1       0   \n",
       "45834                    0                 0     1       0   \n",
       "\n",
       "       law_enf_military_operator  politics_govt_law  crime  \\\n",
       "79219                          0                  0      0   \n",
       "45834                          0                  0      0   \n",
       "\n",
       "       event_record_other  other_species  num_categories  \n",
       "79219                   0              0               1  \n",
       "45834                   0              0               1  "
      ]
     },
     "execution_count": 27,
     "metadata": {},
     "output_type": "execute_result"
    },
    {
     "data": {
      "application/javascript": [
       "\n",
       "            setTimeout(function() {\n",
       "                var nbb_cell_id = 27;\n",
       "                var nbb_unformatted_code = \"%%time\\n\\n# Dictionary version\\nsearch_dict = known_for_dict_15\\n\\n# Column to check\\ncolumn = 'info_2'\\n\\n# Dataframe\\ndataframe = df[column].notna()\\n\\n# For loop to find role in column and extract it as category\\nfor category, category_lst in search_dict.items():\\n    for role in category_lst:\\n        for index in dataframe.index:\\n            item = df.loc[index, column]\\n            if item:\\n                if role in item:\\n                    df.loc[index, category] = 1\\n                    df.loc[index, column] = item.replace(role, '').strip()\\n\\n# Checking a sample of rows\\ndf[df['arts'] ==1].sample(2)\";\n",
       "                var nbb_formatted_code = \"%%time\\n\\n# Dictionary version\\nsearch_dict = known_for_dict_15\\n\\n# Column to check\\ncolumn = 'info_2'\\n\\n# Dataframe\\ndataframe = df[column].notna()\\n\\n# For loop to find role in column and extract it as category\\nfor category, category_lst in search_dict.items():\\n    for role in category_lst:\\n        for index in dataframe.index:\\n            item = df.loc[index, column]\\n            if item:\\n                if role in item:\\n                    df.loc[index, category] = 1\\n                    df.loc[index, column] = item.replace(role, '').strip()\\n\\n# Checking a sample of rows\\ndf[df['arts'] ==1].sample(2)\";\n",
       "                var nbb_cells = Jupyter.notebook.get_cells();\n",
       "                for (var i = 0; i < nbb_cells.length; ++i) {\n",
       "                    if (nbb_cells[i].input_prompt_number == nbb_cell_id) {\n",
       "                        if (nbb_cells[i].get_text() == nbb_unformatted_code) {\n",
       "                             nbb_cells[i].set_text(nbb_formatted_code);\n",
       "                        }\n",
       "                        break;\n",
       "                    }\n",
       "                }\n",
       "            }, 500);\n",
       "            "
      ],
      "text/plain": [
       "<IPython.core.display.Javascript object>"
      ]
     },
     "metadata": {},
     "output_type": "display_data"
    }
   ],
   "source": [
    "%%time\n",
    "\n",
    "# Dictionary version\n",
    "search_dict = known_for_dict_15\n",
    "\n",
    "# Column to check\n",
    "column = 'info_2'\n",
    "\n",
    "# Dataframe\n",
    "dataframe = df[column].notna()\n",
    "\n",
    "# For loop to find role in column and extract it as category\n",
    "for category, category_lst in search_dict.items():\n",
    "    for role in category_lst:\n",
    "        for index in dataframe.index:\n",
    "            item = df.loc[index, column]\n",
    "            if item:\n",
    "                if role in item:\n",
    "                    df.loc[index, category] = 1\n",
    "                    df.loc[index, column] = item.replace(role, '').strip()\n",
    "\n",
    "# Checking a sample of rows\n",
    "df[df['arts'] ==1].sample(2)"
   ]
  },
  {
   "cell_type": "markdown",
   "id": "fd4efae5",
   "metadata": {},
   "source": [
    "#### Checking the Number of Rows without a First Category"
   ]
  },
  {
   "cell_type": "code",
   "execution_count": 28,
   "id": "34315a0f",
   "metadata": {},
   "outputs": [
    {
     "name": "stdout",
     "output_type": "stream",
     "text": [
      "There are 51956 entries without any known_for category.\n"
     ]
    },
    {
     "data": {
      "application/javascript": [
       "\n",
       "            setTimeout(function() {\n",
       "                var nbb_cell_id = 28;\n",
       "                var nbb_unformatted_code = \"#### Checking the number of rows without a first category\\ndf[\\\"num_categories\\\"] = df[known_for_dict_15.keys()].sum(axis=1)\\n\\nprint(\\n    f'There are {len(df[df[\\\"num_categories\\\"]==0])} entries without any known_for category.'\\n)\";\n",
       "                var nbb_formatted_code = \"#### Checking the number of rows without a first category\\ndf[\\\"num_categories\\\"] = df[known_for_dict_15.keys()].sum(axis=1)\\n\\nprint(\\n    f'There are {len(df[df[\\\"num_categories\\\"]==0])} entries without any known_for category.'\\n)\";\n",
       "                var nbb_cells = Jupyter.notebook.get_cells();\n",
       "                for (var i = 0; i < nbb_cells.length; ++i) {\n",
       "                    if (nbb_cells[i].input_prompt_number == nbb_cell_id) {\n",
       "                        if (nbb_cells[i].get_text() == nbb_unformatted_code) {\n",
       "                             nbb_cells[i].set_text(nbb_formatted_code);\n",
       "                        }\n",
       "                        break;\n",
       "                    }\n",
       "                }\n",
       "            }, 500);\n",
       "            "
      ],
      "text/plain": [
       "<IPython.core.display.Javascript object>"
      ]
     },
     "metadata": {},
     "output_type": "display_data"
    }
   ],
   "source": [
    "#### Checking the number of rows without a first category\n",
    "df[\"num_categories\"] = df[known_for_dict_15.keys()].sum(axis=1)\n",
    "\n",
    "print(\n",
    "    f'There are {len(df[df[\"num_categories\"]==0])} entries without any known_for category.'\n",
    ")"
   ]
  },
  {
   "cell_type": "markdown",
   "id": "a1592db2",
   "metadata": {},
   "source": [
    "#### Observations:\n",
    "- We will proceed to build `known_for_dict_16` for the next iteration."
   ]
  },
  {
   "cell_type": "markdown",
   "id": "e7fee864",
   "metadata": {},
   "source": [
    "#### Finding `known_for` Roles in `info_2`"
   ]
  },
  {
   "cell_type": "code",
   "execution_count": 29,
   "id": "7f9a3e29",
   "metadata": {},
   "outputs": [
    {
     "data": {
      "application/javascript": [
       "\n",
       "            setTimeout(function() {\n",
       "                var nbb_cell_id = 29;\n",
       "                var nbb_unformatted_code = \"# Obtaining values for column and their counts\\nroles_list = df[\\\"info_2\\\"].value_counts(ascending=True).index.tolist()\";\n",
       "                var nbb_formatted_code = \"# Obtaining values for column and their counts\\nroles_list = df[\\\"info_2\\\"].value_counts(ascending=True).index.tolist()\";\n",
       "                var nbb_cells = Jupyter.notebook.get_cells();\n",
       "                for (var i = 0; i < nbb_cells.length; ++i) {\n",
       "                    if (nbb_cells[i].input_prompt_number == nbb_cell_id) {\n",
       "                        if (nbb_cells[i].get_text() == nbb_unformatted_code) {\n",
       "                             nbb_cells[i].set_text(nbb_formatted_code);\n",
       "                        }\n",
       "                        break;\n",
       "                    }\n",
       "                }\n",
       "            }, 500);\n",
       "            "
      ],
      "text/plain": [
       "<IPython.core.display.Javascript object>"
      ]
     },
     "metadata": {},
     "output_type": "display_data"
    }
   ],
   "source": [
    "# Obtaining values for column and their counts\n",
    "roles_list = df[\"info_2\"].value_counts(ascending=True).index.tolist()"
   ]
  },
  {
   "cell_type": "code",
   "execution_count": 30,
   "id": "5bc25207",
   "metadata": {},
   "outputs": [
    {
     "data": {
      "application/javascript": [
       "\n",
       "            setTimeout(function() {\n",
       "                var nbb_cell_id = 30;\n",
       "                var nbb_unformatted_code = \"# # Code to check each value\\n# roles_list.pop()\";\n",
       "                var nbb_formatted_code = \"# # Code to check each value\\n# roles_list.pop()\";\n",
       "                var nbb_cells = Jupyter.notebook.get_cells();\n",
       "                for (var i = 0; i < nbb_cells.length; ++i) {\n",
       "                    if (nbb_cells[i].input_prompt_number == nbb_cell_id) {\n",
       "                        if (nbb_cells[i].get_text() == nbb_unformatted_code) {\n",
       "                             nbb_cells[i].set_text(nbb_formatted_code);\n",
       "                        }\n",
       "                        break;\n",
       "                    }\n",
       "                }\n",
       "            }, 500);\n",
       "            "
      ],
      "text/plain": [
       "<IPython.core.display.Javascript object>"
      ]
     },
     "metadata": {},
     "output_type": "display_data"
    }
   ],
   "source": [
    "# # Code to check each value\n",
    "# roles_list.pop()"
   ]
  },
  {
   "cell_type": "code",
   "execution_count": 31,
   "id": "fbed1990",
   "metadata": {},
   "outputs": [
    {
     "data": {
      "application/javascript": [
       "\n",
       "            setTimeout(function() {\n",
       "                var nbb_cell_id = 31;\n",
       "                var nbb_unformatted_code = \"# # Create specific_roles_list for above popped value\\n# specific_roles_list = (\\n#     df.loc[\\n#         [index for index in df.index if \\\"painter\\\" in df.loc[index, \\\"info\\\"]], \\\"info_2\\\",\\n#     ]\\n#     .value_counts()\\n#     .index.tolist()\\n# )\";\n",
       "                var nbb_formatted_code = \"# # Create specific_roles_list for above popped value\\n# specific_roles_list = (\\n#     df.loc[\\n#         [index for index in df.index if \\\"painter\\\" in df.loc[index, \\\"info\\\"]], \\\"info_2\\\",\\n#     ]\\n#     .value_counts()\\n#     .index.tolist()\\n# )\";\n",
       "                var nbb_cells = Jupyter.notebook.get_cells();\n",
       "                for (var i = 0; i < nbb_cells.length; ++i) {\n",
       "                    if (nbb_cells[i].input_prompt_number == nbb_cell_id) {\n",
       "                        if (nbb_cells[i].get_text() == nbb_unformatted_code) {\n",
       "                             nbb_cells[i].set_text(nbb_formatted_code);\n",
       "                        }\n",
       "                        break;\n",
       "                    }\n",
       "                }\n",
       "            }, 500);\n",
       "            "
      ],
      "text/plain": [
       "<IPython.core.display.Javascript object>"
      ]
     },
     "metadata": {},
     "output_type": "display_data"
    }
   ],
   "source": [
    "# # Create specific_roles_list for above popped value\n",
    "# specific_roles_list = (\n",
    "#     df.loc[\n",
    "#         [index for index in df.index if \"painter\" in df.loc[index, \"info\"]], \"info_2\",\n",
    "#     ]\n",
    "#     .value_counts()\n",
    "#     .index.tolist()\n",
    "# )"
   ]
  },
  {
   "cell_type": "code",
   "execution_count": 32,
   "id": "4e8e7d15",
   "metadata": {},
   "outputs": [
    {
     "data": {
      "application/javascript": [
       "\n",
       "            setTimeout(function() {\n",
       "                var nbb_cell_id = 32;\n",
       "                var nbb_unformatted_code = \"# # Code to check each specific value\\n# specific_roles_list.pop()\";\n",
       "                var nbb_formatted_code = \"# # Code to check each specific value\\n# specific_roles_list.pop()\";\n",
       "                var nbb_cells = Jupyter.notebook.get_cells();\n",
       "                for (var i = 0; i < nbb_cells.length; ++i) {\n",
       "                    if (nbb_cells[i].input_prompt_number == nbb_cell_id) {\n",
       "                        if (nbb_cells[i].get_text() == nbb_unformatted_code) {\n",
       "                             nbb_cells[i].set_text(nbb_formatted_code);\n",
       "                        }\n",
       "                        break;\n",
       "                    }\n",
       "                }\n",
       "            }, 500);\n",
       "            "
      ],
      "text/plain": [
       "<IPython.core.display.Javascript object>"
      ]
     },
     "metadata": {},
     "output_type": "display_data"
    }
   ],
   "source": [
    "# # Code to check each specific value\n",
    "# specific_roles_list.pop()"
   ]
  },
  {
   "cell_type": "code",
   "execution_count": 33,
   "id": "9e064770",
   "metadata": {},
   "outputs": [
    {
     "data": {
      "application/javascript": [
       "\n",
       "            setTimeout(function() {\n",
       "                var nbb_cell_id = 33;\n",
       "                var nbb_unformatted_code = \"# # Example code to quick-screen values that may overlap categories\\n# df.loc[[index for index in df.index if \\\"provocateur\\\" in df.loc[index, \\\"info\\\"]]]\";\n",
       "                var nbb_formatted_code = \"# # Example code to quick-screen values that may overlap categories\\n# df.loc[[index for index in df.index if \\\"provocateur\\\" in df.loc[index, \\\"info\\\"]]]\";\n",
       "                var nbb_cells = Jupyter.notebook.get_cells();\n",
       "                for (var i = 0; i < nbb_cells.length; ++i) {\n",
       "                    if (nbb_cells[i].input_prompt_number == nbb_cell_id) {\n",
       "                        if (nbb_cells[i].get_text() == nbb_unformatted_code) {\n",
       "                             nbb_cells[i].set_text(nbb_formatted_code);\n",
       "                        }\n",
       "                        break;\n",
       "                    }\n",
       "                }\n",
       "            }, 500);\n",
       "            "
      ],
      "text/plain": [
       "<IPython.core.display.Javascript object>"
      ]
     },
     "metadata": {},
     "output_type": "display_data"
    }
   ],
   "source": [
    "# # Example code to quick-screen values that may overlap categories\n",
    "# df.loc[[index for index in df.index if \"provocateur\" in df.loc[index, \"info\"]]]"
   ]
  },
  {
   "cell_type": "code",
   "execution_count": 34,
   "id": "0e6d3ee5",
   "metadata": {},
   "outputs": [
    {
     "data": {
      "application/javascript": [
       "\n",
       "            setTimeout(function() {\n",
       "                var nbb_cell_id = 34;\n",
       "                var nbb_unformatted_code = \"# # Example code to quick-screen values that may overlap categories\\n# df.loc[\\n#     [\\n#         index\\n#         for index in df.index\\n#         if \\\"outlaw country music singer songwriter\\\" in df.loc[index, \\\"info\\\"]\\n#     ]\\n# ]\";\n",
       "                var nbb_formatted_code = \"# # Example code to quick-screen values that may overlap categories\\n# df.loc[\\n#     [\\n#         index\\n#         for index in df.index\\n#         if \\\"outlaw country music singer songwriter\\\" in df.loc[index, \\\"info\\\"]\\n#     ]\\n# ]\";\n",
       "                var nbb_cells = Jupyter.notebook.get_cells();\n",
       "                for (var i = 0; i < nbb_cells.length; ++i) {\n",
       "                    if (nbb_cells[i].input_prompt_number == nbb_cell_id) {\n",
       "                        if (nbb_cells[i].get_text() == nbb_unformatted_code) {\n",
       "                             nbb_cells[i].set_text(nbb_formatted_code);\n",
       "                        }\n",
       "                        break;\n",
       "                    }\n",
       "                }\n",
       "            }, 500);\n",
       "            "
      ],
      "text/plain": [
       "<IPython.core.display.Javascript object>"
      ]
     },
     "metadata": {},
     "output_type": "display_data"
    }
   ],
   "source": [
    "# # Example code to quick-screen values that may overlap categories\n",
    "# df.loc[\n",
    "#     [\n",
    "#         index\n",
    "#         for index in df.index\n",
    "#         if \"outlaw country music singer songwriter\" in df.loc[index, \"info\"]\n",
    "#     ]\n",
    "# ]"
   ]
  },
  {
   "cell_type": "code",
   "execution_count": 35,
   "id": "4a822f83",
   "metadata": {},
   "outputs": [
    {
     "data": {
      "application/javascript": [
       "\n",
       "            setTimeout(function() {\n",
       "                var nbb_cell_id = 35;\n",
       "                var nbb_unformatted_code = \"# # Example code to quick-check a specific entry\\n# df[df[\\\"info_2\\\"] == \\\"painter and chess composer\\\"]\";\n",
       "                var nbb_formatted_code = \"# # Example code to quick-check a specific entry\\n# df[df[\\\"info_2\\\"] == \\\"painter and chess composer\\\"]\";\n",
       "                var nbb_cells = Jupyter.notebook.get_cells();\n",
       "                for (var i = 0; i < nbb_cells.length; ++i) {\n",
       "                    if (nbb_cells[i].input_prompt_number == nbb_cell_id) {\n",
       "                        if (nbb_cells[i].get_text() == nbb_unformatted_code) {\n",
       "                             nbb_cells[i].set_text(nbb_formatted_code);\n",
       "                        }\n",
       "                        break;\n",
       "                    }\n",
       "                }\n",
       "            }, 500);\n",
       "            "
      ],
      "text/plain": [
       "<IPython.core.display.Javascript object>"
      ]
     },
     "metadata": {},
     "output_type": "display_data"
    }
   ],
   "source": [
    "# # Example code to quick-check a specific entry\n",
    "# df[df[\"info_2\"] == \"painter and chess composer\"]"
   ]
  },
  {
   "cell_type": "markdown",
   "id": "974cec0d",
   "metadata": {},
   "source": [
    "#### Creating Lists for Each `known_for` Category"
   ]
  },
  {
   "cell_type": "code",
   "execution_count": 36,
   "id": "1874c296",
   "metadata": {},
   "outputs": [
    {
     "data": {
      "application/javascript": [
       "\n",
       "            setTimeout(function() {\n",
       "                var nbb_cell_id = 36;\n",
       "                var nbb_unformatted_code = \"# Creating lists for each category\\npolitics_govt_law = [\\n    \\\"provocateur\\\",\\n]\\n\\narts = [\\n    \\\"painter and drawer\\\",\\n    \\\"Native painter\\\",\\n    \\\"rock musician and painter\\\",\\n    \\\"na\\u00efve painter\\\",\\n    \\\"Puerto Ricanpainter and art\\\",\\n    \\\"playwright and painter\\\",\\n    \\\"born painter\\\",\\n    \\\"architect and painter\\\",\\n    \\\"engraver and painter\\\",\\n    \\\"outback painter\\\",\\n    \\\"Cubist painter\\\",\\n    \\\"cityscape painter\\\",\\n    \\\"painter and Cultural Medallion winner\\\",\\n    \\\"film critic and painter\\\",\\n    \\\"art critic and surrealist painter\\\",\\n    \\\"painter of mystical Jewish works\\\",\\n    \\\"color field painter\\\",\\n    \\\"painter and lecturer\\\",\\n    \\\"Andalusian painter and illustrator\\\",\\n    \\\"painter and glass sculptor\\\",\\n    \\\"aboriginal painter\\\",\\n    \\\"Delftware painter\\\",\\n    \\\"barn painter\\\",\\n    \\\"abstract painter and printmaker\\\",\\n    \\\"figurative painter and arts\\\",\\n    \\\"television painter\\\",\\n    \\\"draughtsman and painter\\\",\\n    \\\"mixed media painter\\\",\\n    \\\"enameller and painter\\\",\\n    \\\"landscape painter and watercolorist\\\",\\n    \\\"painter and watercolorist\\\",\\n    \\\"painter and television host\\\",\\n    \\\"folk art painter\\\",\\n    \\\"portrait painter and sculptor\\\",\\n    \\\"Realist painter\\\",\\n    \\\"Y\\u014dga painter\\\",\\n    \\\"photographer and portrait painter\\\",\\n    \\\"portrait and landscape painter\\\",\\n    \\\"figurative painter and draftsman\\\",\\n    \\\"painter and prot\\u00e9g\\u00e9 of Pablo Picasso\\\",\\n    \\\"painter and calligrapher\\\",\\n    \\\"painter and ceramicist\\\",\\n    \\\"painter and scenographer\\\",\\n    \\\"watercolour painter\\\",\\n    \\\"painter and draftsman\\\",\\n    \\\"animator and painter\\\",\\n    \\\"painter and weaver\\\",\\n    \\\"painter and lithographer\\\",\\n    \\\"painter and cartoonist\\\",\\n    \\\"Ojibwe painter\\\",\\n    \\\"cartoonist and painter\\\",\\n    \\\"stage designer and painter\\\",\\n    \\\"surrealistic painter\\\",\\n    \\\"painter and cinematographer\\\",\\n    \\\"painter and draughtsman\\\",\\n    \\\"painter and theatre director\\\",\\n    \\\"icon painter\\\",\\n    \\\"Coptic painter\\\",\\n    \\\"fashion designer and painter\\\",\\n    \\\"designer and painter\\\",\\n    \\\"composer and painter\\\",\\n    \\\"signpainter\\\",\\n    \\\"painter and television presenter\\\",\\n    \\\"representational painter\\\",\\n    \\\"painter and print maker\\\",\\n    \\\"figurative painter\\\",\\n    \\\"painter and animator\\\",\\n    \\\"abstract painter and print maker\\\",\\n    \\\"painter and composer\\\",\\n    \\\"painter and children book illustrator\\\",\\n    \\\"art critic and painter\\\",\\n    \\\"painter of themes\\\",\\n    \\\"yodeler and painter\\\",\\n    \\\"geometric abstractionist painter\\\",\\n    \\\"scenographer and painter\\\",\\n    \\\"impressionist painter\\\",\\n    \\\"Yolngu painter\\\",\\n    \\\"painter and ceramist\\\",\\n    \\\"magic realist painter\\\",\\n    \\\"painter and dancer\\\",\\n    \\\"photorealist painter\\\",\\n    \\\"watercolor painter\\\",\\n    \\\"jazz musician and painter\\\",\\n    \\\"musician and painter\\\",\\n    \\\"painter and graphic designer\\\",\\n    \\\"modernist painter\\\",\\n    \\\"muralist and painter\\\",\\n    \\\"avant garde painter\\\",\\n    \\\"COBRA painter\\\",\\n    \\\"painter and muralist\\\",\\n    \\\"abstract painter and sculptor\\\",\\n    \\\"painter and novelist\\\",\\n    \\\"painter and musician\\\",\\n    \\\"photographer and painter\\\",\\n    \\\"portrait painter\\\",\\n    \\\"painter and designer\\\",\\n    \\\"and realist painter\\\",\\n    \\\"realist painter and\\\",\\n    \\\"surrealist painter\\\",\\n    \\\"realist painter\\\",\\n    \\\"illustrator and painter\\\",\\n    \\\"abstract expressionist painter\\\",\\n    \\\"expressionist painter\\\",\\n    \\\"landscape painter\\\",\\n    \\\"painter and engraver\\\",\\n    \\\"painter and photographer\\\",\\n    \\\"painter and illustrator\\\",\\n    \\\"abstract painter\\\",\\n    \\\"sculptor and painter\\\",\\n    \\\"painter and printmaker\\\",\\n    \\\"painter and sculptor\\\",\\n    \\\"painter and\\\",\\n    \\\"and painter\\\",\\n    \\\"painter\\\",\\n]\\nsports = [\\\"chess composer\\\"]\\nsciences = []\\n\\nbusiness_farming = []\\nacademia_humanities = [\\\"theatre school director\\\"]\\nlaw_enf_military_operator = []\\nspiritual = []\\nsocial = []\\ncrime = []\\nevent_record_other = []\\nother_species = []\";\n",
       "                var nbb_formatted_code = \"# Creating lists for each category\\npolitics_govt_law = [\\n    \\\"provocateur\\\",\\n]\\n\\narts = [\\n    \\\"painter and drawer\\\",\\n    \\\"Native painter\\\",\\n    \\\"rock musician and painter\\\",\\n    \\\"na\\u00efve painter\\\",\\n    \\\"Puerto Ricanpainter and art\\\",\\n    \\\"playwright and painter\\\",\\n    \\\"born painter\\\",\\n    \\\"architect and painter\\\",\\n    \\\"engraver and painter\\\",\\n    \\\"outback painter\\\",\\n    \\\"Cubist painter\\\",\\n    \\\"cityscape painter\\\",\\n    \\\"painter and Cultural Medallion winner\\\",\\n    \\\"film critic and painter\\\",\\n    \\\"art critic and surrealist painter\\\",\\n    \\\"painter of mystical Jewish works\\\",\\n    \\\"color field painter\\\",\\n    \\\"painter and lecturer\\\",\\n    \\\"Andalusian painter and illustrator\\\",\\n    \\\"painter and glass sculptor\\\",\\n    \\\"aboriginal painter\\\",\\n    \\\"Delftware painter\\\",\\n    \\\"barn painter\\\",\\n    \\\"abstract painter and printmaker\\\",\\n    \\\"figurative painter and arts\\\",\\n    \\\"television painter\\\",\\n    \\\"draughtsman and painter\\\",\\n    \\\"mixed media painter\\\",\\n    \\\"enameller and painter\\\",\\n    \\\"landscape painter and watercolorist\\\",\\n    \\\"painter and watercolorist\\\",\\n    \\\"painter and television host\\\",\\n    \\\"folk art painter\\\",\\n    \\\"portrait painter and sculptor\\\",\\n    \\\"Realist painter\\\",\\n    \\\"Y\\u014dga painter\\\",\\n    \\\"photographer and portrait painter\\\",\\n    \\\"portrait and landscape painter\\\",\\n    \\\"figurative painter and draftsman\\\",\\n    \\\"painter and prot\\u00e9g\\u00e9 of Pablo Picasso\\\",\\n    \\\"painter and calligrapher\\\",\\n    \\\"painter and ceramicist\\\",\\n    \\\"painter and scenographer\\\",\\n    \\\"watercolour painter\\\",\\n    \\\"painter and draftsman\\\",\\n    \\\"animator and painter\\\",\\n    \\\"painter and weaver\\\",\\n    \\\"painter and lithographer\\\",\\n    \\\"painter and cartoonist\\\",\\n    \\\"Ojibwe painter\\\",\\n    \\\"cartoonist and painter\\\",\\n    \\\"stage designer and painter\\\",\\n    \\\"surrealistic painter\\\",\\n    \\\"painter and cinematographer\\\",\\n    \\\"painter and draughtsman\\\",\\n    \\\"painter and theatre director\\\",\\n    \\\"icon painter\\\",\\n    \\\"Coptic painter\\\",\\n    \\\"fashion designer and painter\\\",\\n    \\\"designer and painter\\\",\\n    \\\"composer and painter\\\",\\n    \\\"signpainter\\\",\\n    \\\"painter and television presenter\\\",\\n    \\\"representational painter\\\",\\n    \\\"painter and print maker\\\",\\n    \\\"figurative painter\\\",\\n    \\\"painter and animator\\\",\\n    \\\"abstract painter and print maker\\\",\\n    \\\"painter and composer\\\",\\n    \\\"painter and children book illustrator\\\",\\n    \\\"art critic and painter\\\",\\n    \\\"painter of themes\\\",\\n    \\\"yodeler and painter\\\",\\n    \\\"geometric abstractionist painter\\\",\\n    \\\"scenographer and painter\\\",\\n    \\\"impressionist painter\\\",\\n    \\\"Yolngu painter\\\",\\n    \\\"painter and ceramist\\\",\\n    \\\"magic realist painter\\\",\\n    \\\"painter and dancer\\\",\\n    \\\"photorealist painter\\\",\\n    \\\"watercolor painter\\\",\\n    \\\"jazz musician and painter\\\",\\n    \\\"musician and painter\\\",\\n    \\\"painter and graphic designer\\\",\\n    \\\"modernist painter\\\",\\n    \\\"muralist and painter\\\",\\n    \\\"avant garde painter\\\",\\n    \\\"COBRA painter\\\",\\n    \\\"painter and muralist\\\",\\n    \\\"abstract painter and sculptor\\\",\\n    \\\"painter and novelist\\\",\\n    \\\"painter and musician\\\",\\n    \\\"photographer and painter\\\",\\n    \\\"portrait painter\\\",\\n    \\\"painter and designer\\\",\\n    \\\"and realist painter\\\",\\n    \\\"realist painter and\\\",\\n    \\\"surrealist painter\\\",\\n    \\\"realist painter\\\",\\n    \\\"illustrator and painter\\\",\\n    \\\"abstract expressionist painter\\\",\\n    \\\"expressionist painter\\\",\\n    \\\"landscape painter\\\",\\n    \\\"painter and engraver\\\",\\n    \\\"painter and photographer\\\",\\n    \\\"painter and illustrator\\\",\\n    \\\"abstract painter\\\",\\n    \\\"sculptor and painter\\\",\\n    \\\"painter and printmaker\\\",\\n    \\\"painter and sculptor\\\",\\n    \\\"painter and\\\",\\n    \\\"and painter\\\",\\n    \\\"painter\\\",\\n]\\nsports = [\\\"chess composer\\\"]\\nsciences = []\\n\\nbusiness_farming = []\\nacademia_humanities = [\\\"theatre school director\\\"]\\nlaw_enf_military_operator = []\\nspiritual = []\\nsocial = []\\ncrime = []\\nevent_record_other = []\\nother_species = []\";\n",
       "                var nbb_cells = Jupyter.notebook.get_cells();\n",
       "                for (var i = 0; i < nbb_cells.length; ++i) {\n",
       "                    if (nbb_cells[i].input_prompt_number == nbb_cell_id) {\n",
       "                        if (nbb_cells[i].get_text() == nbb_unformatted_code) {\n",
       "                             nbb_cells[i].set_text(nbb_formatted_code);\n",
       "                        }\n",
       "                        break;\n",
       "                    }\n",
       "                }\n",
       "            }, 500);\n",
       "            "
      ],
      "text/plain": [
       "<IPython.core.display.Javascript object>"
      ]
     },
     "metadata": {},
     "output_type": "display_data"
    }
   ],
   "source": [
    "# Creating lists for each category\n",
    "politics_govt_law = [\n",
    "    \"provocateur\",\n",
    "]\n",
    "\n",
    "arts = [\n",
    "    \"painter and drawer\",\n",
    "    \"Native painter\",\n",
    "    \"rock musician and painter\",\n",
    "    \"naïve painter\",\n",
    "    \"Puerto Ricanpainter and art\",\n",
    "    \"playwright and painter\",\n",
    "    \"born painter\",\n",
    "    \"architect and painter\",\n",
    "    \"engraver and painter\",\n",
    "    \"outback painter\",\n",
    "    \"Cubist painter\",\n",
    "    \"cityscape painter\",\n",
    "    \"painter and Cultural Medallion winner\",\n",
    "    \"film critic and painter\",\n",
    "    \"art critic and surrealist painter\",\n",
    "    \"painter of mystical Jewish works\",\n",
    "    \"color field painter\",\n",
    "    \"painter and lecturer\",\n",
    "    \"Andalusian painter and illustrator\",\n",
    "    \"painter and glass sculptor\",\n",
    "    \"aboriginal painter\",\n",
    "    \"Delftware painter\",\n",
    "    \"barn painter\",\n",
    "    \"abstract painter and printmaker\",\n",
    "    \"figurative painter and arts\",\n",
    "    \"television painter\",\n",
    "    \"draughtsman and painter\",\n",
    "    \"mixed media painter\",\n",
    "    \"enameller and painter\",\n",
    "    \"landscape painter and watercolorist\",\n",
    "    \"painter and watercolorist\",\n",
    "    \"painter and television host\",\n",
    "    \"folk art painter\",\n",
    "    \"portrait painter and sculptor\",\n",
    "    \"Realist painter\",\n",
    "    \"Yōga painter\",\n",
    "    \"photographer and portrait painter\",\n",
    "    \"portrait and landscape painter\",\n",
    "    \"figurative painter and draftsman\",\n",
    "    \"painter and protégé of Pablo Picasso\",\n",
    "    \"painter and calligrapher\",\n",
    "    \"painter and ceramicist\",\n",
    "    \"painter and scenographer\",\n",
    "    \"watercolour painter\",\n",
    "    \"painter and draftsman\",\n",
    "    \"animator and painter\",\n",
    "    \"painter and weaver\",\n",
    "    \"painter and lithographer\",\n",
    "    \"painter and cartoonist\",\n",
    "    \"Ojibwe painter\",\n",
    "    \"cartoonist and painter\",\n",
    "    \"stage designer and painter\",\n",
    "    \"surrealistic painter\",\n",
    "    \"painter and cinematographer\",\n",
    "    \"painter and draughtsman\",\n",
    "    \"painter and theatre director\",\n",
    "    \"icon painter\",\n",
    "    \"Coptic painter\",\n",
    "    \"fashion designer and painter\",\n",
    "    \"designer and painter\",\n",
    "    \"composer and painter\",\n",
    "    \"signpainter\",\n",
    "    \"painter and television presenter\",\n",
    "    \"representational painter\",\n",
    "    \"painter and print maker\",\n",
    "    \"figurative painter\",\n",
    "    \"painter and animator\",\n",
    "    \"abstract painter and print maker\",\n",
    "    \"painter and composer\",\n",
    "    \"painter and children book illustrator\",\n",
    "    \"art critic and painter\",\n",
    "    \"painter of themes\",\n",
    "    \"yodeler and painter\",\n",
    "    \"geometric abstractionist painter\",\n",
    "    \"scenographer and painter\",\n",
    "    \"impressionist painter\",\n",
    "    \"Yolngu painter\",\n",
    "    \"painter and ceramist\",\n",
    "    \"magic realist painter\",\n",
    "    \"painter and dancer\",\n",
    "    \"photorealist painter\",\n",
    "    \"watercolor painter\",\n",
    "    \"jazz musician and painter\",\n",
    "    \"musician and painter\",\n",
    "    \"painter and graphic designer\",\n",
    "    \"modernist painter\",\n",
    "    \"muralist and painter\",\n",
    "    \"avant garde painter\",\n",
    "    \"COBRA painter\",\n",
    "    \"painter and muralist\",\n",
    "    \"abstract painter and sculptor\",\n",
    "    \"painter and novelist\",\n",
    "    \"painter and musician\",\n",
    "    \"photographer and painter\",\n",
    "    \"portrait painter\",\n",
    "    \"painter and designer\",\n",
    "    \"and realist painter\",\n",
    "    \"realist painter and\",\n",
    "    \"surrealist painter\",\n",
    "    \"realist painter\",\n",
    "    \"illustrator and painter\",\n",
    "    \"abstract expressionist painter\",\n",
    "    \"expressionist painter\",\n",
    "    \"landscape painter\",\n",
    "    \"painter and engraver\",\n",
    "    \"painter and photographer\",\n",
    "    \"painter and illustrator\",\n",
    "    \"abstract painter\",\n",
    "    \"sculptor and painter\",\n",
    "    \"painter and printmaker\",\n",
    "    \"painter and sculptor\",\n",
    "    \"painter and\",\n",
    "    \"and painter\",\n",
    "    \"painter\",\n",
    "]\n",
    "sports = [\"chess composer\"]\n",
    "sciences = []\n",
    "\n",
    "business_farming = []\n",
    "academia_humanities = [\"theatre school director\"]\n",
    "law_enf_military_operator = []\n",
    "spiritual = []\n",
    "social = []\n",
    "crime = []\n",
    "event_record_other = []\n",
    "other_species = []"
   ]
  },
  {
   "cell_type": "markdown",
   "id": "193c536d",
   "metadata": {},
   "source": [
    "#### Creating `known_for_dict_7` Dictionary of Category Keys and Specific Role Lists of Values"
   ]
  },
  {
   "cell_type": "code",
   "execution_count": 37,
   "id": "73a04b14",
   "metadata": {},
   "outputs": [
    {
     "data": {
      "application/javascript": [
       "\n",
       "            setTimeout(function() {\n",
       "                var nbb_cell_id = 37;\n",
       "                var nbb_unformatted_code = \"# Combining separate lists into one dictionary\\nknown_for_dict_16 = {\\n    \\\"social\\\": social,\\n    \\\"spiritual\\\": spiritual,\\n    \\\"academia_humanities\\\": academia_humanities,\\n    \\\"business_farming\\\": business_farming,\\n    \\\"sciences\\\": sciences,\\n    \\\"politics_govt_law\\\": politics_govt_law,\\n    \\\"law_enf_military_operator\\\": law_enf_military_operator,\\n    \\\"crime\\\": crime,\\n    \\\"event_record_other\\\": event_record_other,\\n    \\\"other_species\\\": other_species,\\n    \\\"arts\\\": arts,\\n    \\\"sports\\\": sports,\\n}\";\n",
       "                var nbb_formatted_code = \"# Combining separate lists into one dictionary\\nknown_for_dict_16 = {\\n    \\\"social\\\": social,\\n    \\\"spiritual\\\": spiritual,\\n    \\\"academia_humanities\\\": academia_humanities,\\n    \\\"business_farming\\\": business_farming,\\n    \\\"sciences\\\": sciences,\\n    \\\"politics_govt_law\\\": politics_govt_law,\\n    \\\"law_enf_military_operator\\\": law_enf_military_operator,\\n    \\\"crime\\\": crime,\\n    \\\"event_record_other\\\": event_record_other,\\n    \\\"other_species\\\": other_species,\\n    \\\"arts\\\": arts,\\n    \\\"sports\\\": sports,\\n}\";\n",
       "                var nbb_cells = Jupyter.notebook.get_cells();\n",
       "                for (var i = 0; i < nbb_cells.length; ++i) {\n",
       "                    if (nbb_cells[i].input_prompt_number == nbb_cell_id) {\n",
       "                        if (nbb_cells[i].get_text() == nbb_unformatted_code) {\n",
       "                             nbb_cells[i].set_text(nbb_formatted_code);\n",
       "                        }\n",
       "                        break;\n",
       "                    }\n",
       "                }\n",
       "            }, 500);\n",
       "            "
      ],
      "text/plain": [
       "<IPython.core.display.Javascript object>"
      ]
     },
     "metadata": {},
     "output_type": "display_data"
    }
   ],
   "source": [
    "# Combining separate lists into one dictionary\n",
    "known_for_dict_16 = {\n",
    "    \"social\": social,\n",
    "    \"spiritual\": spiritual,\n",
    "    \"academia_humanities\": academia_humanities,\n",
    "    \"business_farming\": business_farming,\n",
    "    \"sciences\": sciences,\n",
    "    \"politics_govt_law\": politics_govt_law,\n",
    "    \"law_enf_military_operator\": law_enf_military_operator,\n",
    "    \"crime\": crime,\n",
    "    \"event_record_other\": event_record_other,\n",
    "    \"other_species\": other_species,\n",
    "    \"arts\": arts,\n",
    "    \"sports\": sports,\n",
    "}"
   ]
  },
  {
   "cell_type": "markdown",
   "id": "b9f5917b",
   "metadata": {},
   "source": [
    "#### Extracting Category from `info_2`"
   ]
  },
  {
   "cell_type": "code",
   "execution_count": 38,
   "id": "7034b202",
   "metadata": {},
   "outputs": [
    {
     "name": "stdout",
     "output_type": "stream",
     "text": [
      "CPU times: total: 1min 1s\n",
      "Wall time: 1min 1s\n"
     ]
    },
    {
     "data": {
      "text/html": [
       "<div>\n",
       "<style scoped>\n",
       "    .dataframe tbody tr th:only-of-type {\n",
       "        vertical-align: middle;\n",
       "    }\n",
       "\n",
       "    .dataframe tbody tr th {\n",
       "        vertical-align: top;\n",
       "    }\n",
       "\n",
       "    .dataframe thead th {\n",
       "        text-align: right;\n",
       "    }\n",
       "</style>\n",
       "<table border=\"1\" class=\"dataframe\">\n",
       "  <thead>\n",
       "    <tr style=\"text-align: right;\">\n",
       "      <th></th>\n",
       "      <th>day</th>\n",
       "      <th>name</th>\n",
       "      <th>info</th>\n",
       "      <th>link</th>\n",
       "      <th>num_references</th>\n",
       "      <th>year</th>\n",
       "      <th>month</th>\n",
       "      <th>info_parenth</th>\n",
       "      <th>info_1</th>\n",
       "      <th>info_2</th>\n",
       "      <th>info_3</th>\n",
       "      <th>info_4</th>\n",
       "      <th>info_5</th>\n",
       "      <th>info_6</th>\n",
       "      <th>info_7</th>\n",
       "      <th>info_8</th>\n",
       "      <th>info_9</th>\n",
       "      <th>info_10</th>\n",
       "      <th>info_11</th>\n",
       "      <th>age</th>\n",
       "      <th>cause_of_death</th>\n",
       "      <th>place_1</th>\n",
       "      <th>place_2</th>\n",
       "      <th>info_parenth_copy</th>\n",
       "      <th>log_num_references</th>\n",
       "      <th>sciences</th>\n",
       "      <th>social</th>\n",
       "      <th>spiritual</th>\n",
       "      <th>academia_humanities</th>\n",
       "      <th>business_farming</th>\n",
       "      <th>arts</th>\n",
       "      <th>sports</th>\n",
       "      <th>law_enf_military_operator</th>\n",
       "      <th>politics_govt_law</th>\n",
       "      <th>crime</th>\n",
       "      <th>event_record_other</th>\n",
       "      <th>other_species</th>\n",
       "      <th>num_categories</th>\n",
       "    </tr>\n",
       "  </thead>\n",
       "  <tbody>\n",
       "    <tr>\n",
       "      <th>25260</th>\n",
       "      <td>21</td>\n",
       "      <td>Ilyas Shurpayev</td>\n",
       "      <td>, 32, Russian journalist responsible for North Caucasus news on Channel One, murder by strangulation.</td>\n",
       "      <td>https://en.wikipedia.org/wiki/Ilyas_Shurpayev</td>\n",
       "      <td>5</td>\n",
       "      <td>2008</td>\n",
       "      <td>March</td>\n",
       "      <td>None</td>\n",
       "      <td>None</td>\n",
       "      <td></td>\n",
       "      <td>murder by strangulation</td>\n",
       "      <td>None</td>\n",
       "      <td>None</td>\n",
       "      <td>None</td>\n",
       "      <td>None</td>\n",
       "      <td>None</td>\n",
       "      <td>None</td>\n",
       "      <td>None</td>\n",
       "      <td>None</td>\n",
       "      <td>32.0</td>\n",
       "      <td>None</td>\n",
       "      <td>Russia</td>\n",
       "      <td>None</td>\n",
       "      <td>None</td>\n",
       "      <td>1.791759</td>\n",
       "      <td>0</td>\n",
       "      <td>0</td>\n",
       "      <td>0</td>\n",
       "      <td>0</td>\n",
       "      <td>0</td>\n",
       "      <td>1</td>\n",
       "      <td>0</td>\n",
       "      <td>0</td>\n",
       "      <td>0</td>\n",
       "      <td>0</td>\n",
       "      <td>0</td>\n",
       "      <td>0</td>\n",
       "      <td>1</td>\n",
       "    </tr>\n",
       "    <tr>\n",
       "      <th>89662</th>\n",
       "      <td>30</td>\n",
       "      <td>Ray Reyes</td>\n",
       "      <td>, 51, Puerto Rican singer , heart attack.</td>\n",
       "      <td>https://en.wikipedia.org/wiki/Ray_Reyes</td>\n",
       "      <td>5</td>\n",
       "      <td>2021</td>\n",
       "      <td>April</td>\n",
       "      <td>Menudo, El Reencuentro</td>\n",
       "      <td>None</td>\n",
       "      <td></td>\n",
       "      <td>heart attack</td>\n",
       "      <td>None</td>\n",
       "      <td>None</td>\n",
       "      <td>None</td>\n",
       "      <td>None</td>\n",
       "      <td>None</td>\n",
       "      <td>None</td>\n",
       "      <td>None</td>\n",
       "      <td>None</td>\n",
       "      <td>51.0</td>\n",
       "      <td>None</td>\n",
       "      <td>Puerto Rico</td>\n",
       "      <td>None</td>\n",
       "      <td>Menudo, El Reencuentro</td>\n",
       "      <td>1.791759</td>\n",
       "      <td>0</td>\n",
       "      <td>0</td>\n",
       "      <td>0</td>\n",
       "      <td>0</td>\n",
       "      <td>0</td>\n",
       "      <td>1</td>\n",
       "      <td>0</td>\n",
       "      <td>0</td>\n",
       "      <td>0</td>\n",
       "      <td>0</td>\n",
       "      <td>0</td>\n",
       "      <td>0</td>\n",
       "      <td>1</td>\n",
       "    </tr>\n",
       "  </tbody>\n",
       "</table>\n",
       "</div>"
      ],
      "text/plain": [
       "      day             name  \\\n",
       "25260  21  Ilyas Shurpayev   \n",
       "89662  30        Ray Reyes   \n",
       "\n",
       "                                                                                                        info  \\\n",
       "25260  , 32, Russian journalist responsible for North Caucasus news on Channel One, murder by strangulation.   \n",
       "89662                                                              , 51, Puerto Rican singer , heart attack.   \n",
       "\n",
       "                                                link  num_references  year  \\\n",
       "25260  https://en.wikipedia.org/wiki/Ilyas_Shurpayev               5  2008   \n",
       "89662        https://en.wikipedia.org/wiki/Ray_Reyes               5  2021   \n",
       "\n",
       "       month            info_parenth info_1 info_2                   info_3  \\\n",
       "25260  March                    None   None         murder by strangulation   \n",
       "89662  April  Menudo, El Reencuentro   None                    heart attack   \n",
       "\n",
       "      info_4 info_5 info_6 info_7 info_8 info_9 info_10 info_11   age  \\\n",
       "25260   None   None   None   None   None   None    None    None  32.0   \n",
       "89662   None   None   None   None   None   None    None    None  51.0   \n",
       "\n",
       "      cause_of_death      place_1 place_2       info_parenth_copy  \\\n",
       "25260           None       Russia    None                    None   \n",
       "89662           None  Puerto Rico    None  Menudo, El Reencuentro   \n",
       "\n",
       "       log_num_references  sciences  social  spiritual  academia_humanities  \\\n",
       "25260            1.791759         0       0          0                    0   \n",
       "89662            1.791759         0       0          0                    0   \n",
       "\n",
       "       business_farming  arts  sports  law_enf_military_operator  \\\n",
       "25260                 0     1       0                          0   \n",
       "89662                 0     1       0                          0   \n",
       "\n",
       "       politics_govt_law  crime  event_record_other  other_species  \\\n",
       "25260                  0      0                   0              0   \n",
       "89662                  0      0                   0              0   \n",
       "\n",
       "       num_categories  \n",
       "25260               1  \n",
       "89662               1  "
      ]
     },
     "execution_count": 38,
     "metadata": {},
     "output_type": "execute_result"
    },
    {
     "data": {
      "application/javascript": [
       "\n",
       "            setTimeout(function() {\n",
       "                var nbb_cell_id = 38;\n",
       "                var nbb_unformatted_code = \"%%time\\n\\n# Dictionary version\\nsearch_dict = known_for_dict_16\\n\\n# Column to check\\ncolumn = 'info_2'\\n\\n# Dataframe\\ndataframe = df[column].notna()\\n\\n# For loop to find role in column and extract it as category\\nfor category, category_lst in search_dict.items():\\n    for role in category_lst:\\n        for index in dataframe.index:\\n            item = df.loc[index, column]\\n            if item:\\n                if role in item:\\n                    df.loc[index, category] = 1\\n                    df.loc[index, column] = item.replace(role, '').strip()\\n\\n# Checking a sample of rows\\ndf[df['arts'] ==1].sample(2)\";\n",
       "                var nbb_formatted_code = \"%%time\\n\\n# Dictionary version\\nsearch_dict = known_for_dict_16\\n\\n# Column to check\\ncolumn = 'info_2'\\n\\n# Dataframe\\ndataframe = df[column].notna()\\n\\n# For loop to find role in column and extract it as category\\nfor category, category_lst in search_dict.items():\\n    for role in category_lst:\\n        for index in dataframe.index:\\n            item = df.loc[index, column]\\n            if item:\\n                if role in item:\\n                    df.loc[index, category] = 1\\n                    df.loc[index, column] = item.replace(role, '').strip()\\n\\n# Checking a sample of rows\\ndf[df['arts'] ==1].sample(2)\";\n",
       "                var nbb_cells = Jupyter.notebook.get_cells();\n",
       "                for (var i = 0; i < nbb_cells.length; ++i) {\n",
       "                    if (nbb_cells[i].input_prompt_number == nbb_cell_id) {\n",
       "                        if (nbb_cells[i].get_text() == nbb_unformatted_code) {\n",
       "                             nbb_cells[i].set_text(nbb_formatted_code);\n",
       "                        }\n",
       "                        break;\n",
       "                    }\n",
       "                }\n",
       "            }, 500);\n",
       "            "
      ],
      "text/plain": [
       "<IPython.core.display.Javascript object>"
      ]
     },
     "metadata": {},
     "output_type": "display_data"
    }
   ],
   "source": [
    "%%time\n",
    "\n",
    "# Dictionary version\n",
    "search_dict = known_for_dict_16\n",
    "\n",
    "# Column to check\n",
    "column = 'info_2'\n",
    "\n",
    "# Dataframe\n",
    "dataframe = df[column].notna()\n",
    "\n",
    "# For loop to find role in column and extract it as category\n",
    "for category, category_lst in search_dict.items():\n",
    "    for role in category_lst:\n",
    "        for index in dataframe.index:\n",
    "            item = df.loc[index, column]\n",
    "            if item:\n",
    "                if role in item:\n",
    "                    df.loc[index, category] = 1\n",
    "                    df.loc[index, column] = item.replace(role, '').strip()\n",
    "\n",
    "# Checking a sample of rows\n",
    "df[df['arts'] ==1].sample(2)"
   ]
  },
  {
   "cell_type": "markdown",
   "id": "71651287",
   "metadata": {},
   "source": [
    "#### Checking the Number of Rows without a First Category"
   ]
  },
  {
   "cell_type": "code",
   "execution_count": 39,
   "id": "d66386e2",
   "metadata": {},
   "outputs": [
    {
     "name": "stdout",
     "output_type": "stream",
     "text": [
      "There are 51002 entries without any known_for category.\n"
     ]
    },
    {
     "data": {
      "application/javascript": [
       "\n",
       "            setTimeout(function() {\n",
       "                var nbb_cell_id = 39;\n",
       "                var nbb_unformatted_code = \"#### Checking the number of rows without a first category\\ndf[\\\"num_categories\\\"] = df[known_for_dict_16.keys()].sum(axis=1)\\n\\nprint(\\n    f'There are {len(df[df[\\\"num_categories\\\"]==0])} entries without any known_for category.'\\n)\";\n",
       "                var nbb_formatted_code = \"#### Checking the number of rows without a first category\\ndf[\\\"num_categories\\\"] = df[known_for_dict_16.keys()].sum(axis=1)\\n\\nprint(\\n    f'There are {len(df[df[\\\"num_categories\\\"]==0])} entries without any known_for category.'\\n)\";\n",
       "                var nbb_cells = Jupyter.notebook.get_cells();\n",
       "                for (var i = 0; i < nbb_cells.length; ++i) {\n",
       "                    if (nbb_cells[i].input_prompt_number == nbb_cell_id) {\n",
       "                        if (nbb_cells[i].get_text() == nbb_unformatted_code) {\n",
       "                             nbb_cells[i].set_text(nbb_formatted_code);\n",
       "                        }\n",
       "                        break;\n",
       "                    }\n",
       "                }\n",
       "            }, 500);\n",
       "            "
      ],
      "text/plain": [
       "<IPython.core.display.Javascript object>"
      ]
     },
     "metadata": {},
     "output_type": "display_data"
    }
   ],
   "source": [
    "#### Checking the number of rows without a first category\n",
    "df[\"num_categories\"] = df[known_for_dict_16.keys()].sum(axis=1)\n",
    "\n",
    "print(\n",
    "    f'There are {len(df[df[\"num_categories\"]==0])} entries without any known_for category.'\n",
    ")"
   ]
  },
  {
   "cell_type": "markdown",
   "id": "92450a32",
   "metadata": {},
   "source": [
    "#### Observations:\n",
    "- We will proceed to build `known_for_dict_17` for the next iteration."
   ]
  },
  {
   "cell_type": "markdown",
   "id": "51c8cef1",
   "metadata": {},
   "source": [
    "#### Finding `known_for` Roles in `info_2`"
   ]
  },
  {
   "cell_type": "code",
   "execution_count": 40,
   "id": "34c45e0f",
   "metadata": {},
   "outputs": [
    {
     "data": {
      "application/javascript": [
       "\n",
       "            setTimeout(function() {\n",
       "                var nbb_cell_id = 40;\n",
       "                var nbb_unformatted_code = \"# Obtaining values for column and their counts\\nroles_list = df[\\\"info_2\\\"].value_counts(ascending=True).index.tolist()\";\n",
       "                var nbb_formatted_code = \"# Obtaining values for column and their counts\\nroles_list = df[\\\"info_2\\\"].value_counts(ascending=True).index.tolist()\";\n",
       "                var nbb_cells = Jupyter.notebook.get_cells();\n",
       "                for (var i = 0; i < nbb_cells.length; ++i) {\n",
       "                    if (nbb_cells[i].input_prompt_number == nbb_cell_id) {\n",
       "                        if (nbb_cells[i].get_text() == nbb_unformatted_code) {\n",
       "                             nbb_cells[i].set_text(nbb_formatted_code);\n",
       "                        }\n",
       "                        break;\n",
       "                    }\n",
       "                }\n",
       "            }, 500);\n",
       "            "
      ],
      "text/plain": [
       "<IPython.core.display.Javascript object>"
      ]
     },
     "metadata": {},
     "output_type": "display_data"
    }
   ],
   "source": [
    "# Obtaining values for column and their counts\n",
    "roles_list = df[\"info_2\"].value_counts(ascending=True).index.tolist()"
   ]
  },
  {
   "cell_type": "code",
   "execution_count": 41,
   "id": "a3a728ba",
   "metadata": {},
   "outputs": [
    {
     "data": {
      "application/javascript": [
       "\n",
       "            setTimeout(function() {\n",
       "                var nbb_cell_id = 41;\n",
       "                var nbb_unformatted_code = \"# # Code to check each value\\n# roles_list.pop()\";\n",
       "                var nbb_formatted_code = \"# # Code to check each value\\n# roles_list.pop()\";\n",
       "                var nbb_cells = Jupyter.notebook.get_cells();\n",
       "                for (var i = 0; i < nbb_cells.length; ++i) {\n",
       "                    if (nbb_cells[i].input_prompt_number == nbb_cell_id) {\n",
       "                        if (nbb_cells[i].get_text() == nbb_unformatted_code) {\n",
       "                             nbb_cells[i].set_text(nbb_formatted_code);\n",
       "                        }\n",
       "                        break;\n",
       "                    }\n",
       "                }\n",
       "            }, 500);\n",
       "            "
      ],
      "text/plain": [
       "<IPython.core.display.Javascript object>"
      ]
     },
     "metadata": {},
     "output_type": "display_data"
    }
   ],
   "source": [
    "# # Code to check each value\n",
    "# roles_list.pop()"
   ]
  },
  {
   "cell_type": "code",
   "execution_count": 42,
   "id": "b4e8809e",
   "metadata": {},
   "outputs": [
    {
     "data": {
      "application/javascript": [
       "\n",
       "            setTimeout(function() {\n",
       "                var nbb_cell_id = 42;\n",
       "                var nbb_unformatted_code = \"# # Create specific_roles_list for above popped value\\n# specific_roles_list = (\\n#     df.loc[\\n#         [index for index in df.index if \\\"musician\\\" in df.loc[index, \\\"info\\\"]], \\\"info_2\\\",\\n#     ]\\n#     .value_counts()\\n#     .index.tolist()\\n# )\";\n",
       "                var nbb_formatted_code = \"# # Create specific_roles_list for above popped value\\n# specific_roles_list = (\\n#     df.loc[\\n#         [index for index in df.index if \\\"musician\\\" in df.loc[index, \\\"info\\\"]], \\\"info_2\\\",\\n#     ]\\n#     .value_counts()\\n#     .index.tolist()\\n# )\";\n",
       "                var nbb_cells = Jupyter.notebook.get_cells();\n",
       "                for (var i = 0; i < nbb_cells.length; ++i) {\n",
       "                    if (nbb_cells[i].input_prompt_number == nbb_cell_id) {\n",
       "                        if (nbb_cells[i].get_text() == nbb_unformatted_code) {\n",
       "                             nbb_cells[i].set_text(nbb_formatted_code);\n",
       "                        }\n",
       "                        break;\n",
       "                    }\n",
       "                }\n",
       "            }, 500);\n",
       "            "
      ],
      "text/plain": [
       "<IPython.core.display.Javascript object>"
      ]
     },
     "metadata": {},
     "output_type": "display_data"
    }
   ],
   "source": [
    "# # Create specific_roles_list for above popped value\n",
    "# specific_roles_list = (\n",
    "#     df.loc[\n",
    "#         [index for index in df.index if \"musician\" in df.loc[index, \"info\"]], \"info_2\",\n",
    "#     ]\n",
    "#     .value_counts()\n",
    "#     .index.tolist()\n",
    "# )"
   ]
  },
  {
   "cell_type": "code",
   "execution_count": 43,
   "id": "fd3481f5",
   "metadata": {},
   "outputs": [
    {
     "data": {
      "application/javascript": [
       "\n",
       "            setTimeout(function() {\n",
       "                var nbb_cell_id = 43;\n",
       "                var nbb_unformatted_code = \"# # Code to check each specific value\\n# specific_roles_list.pop()\";\n",
       "                var nbb_formatted_code = \"# # Code to check each specific value\\n# specific_roles_list.pop()\";\n",
       "                var nbb_cells = Jupyter.notebook.get_cells();\n",
       "                for (var i = 0; i < nbb_cells.length; ++i) {\n",
       "                    if (nbb_cells[i].input_prompt_number == nbb_cell_id) {\n",
       "                        if (nbb_cells[i].get_text() == nbb_unformatted_code) {\n",
       "                             nbb_cells[i].set_text(nbb_formatted_code);\n",
       "                        }\n",
       "                        break;\n",
       "                    }\n",
       "                }\n",
       "            }, 500);\n",
       "            "
      ],
      "text/plain": [
       "<IPython.core.display.Javascript object>"
      ]
     },
     "metadata": {},
     "output_type": "display_data"
    }
   ],
   "source": [
    "# # Code to check each specific value\n",
    "# specific_roles_list.pop()"
   ]
  },
  {
   "cell_type": "code",
   "execution_count": 44,
   "id": "0820434a",
   "metadata": {},
   "outputs": [
    {
     "data": {
      "application/javascript": [
       "\n",
       "            setTimeout(function() {\n",
       "                var nbb_cell_id = 44;\n",
       "                var nbb_unformatted_code = \"# # Example code to quick-screen values that may overlap categories\\n# df.loc[[index for index in df.index if \\\"Shinshu\\\" in df.loc[index, \\\"info\\\"]]]\";\n",
       "                var nbb_formatted_code = \"# # Example code to quick-screen values that may overlap categories\\n# df.loc[[index for index in df.index if \\\"Shinshu\\\" in df.loc[index, \\\"info\\\"]]]\";\n",
       "                var nbb_cells = Jupyter.notebook.get_cells();\n",
       "                for (var i = 0; i < nbb_cells.length; ++i) {\n",
       "                    if (nbb_cells[i].input_prompt_number == nbb_cell_id) {\n",
       "                        if (nbb_cells[i].get_text() == nbb_unformatted_code) {\n",
       "                             nbb_cells[i].set_text(nbb_formatted_code);\n",
       "                        }\n",
       "                        break;\n",
       "                    }\n",
       "                }\n",
       "            }, 500);\n",
       "            "
      ],
      "text/plain": [
       "<IPython.core.display.Javascript object>"
      ]
     },
     "metadata": {},
     "output_type": "display_data"
    }
   ],
   "source": [
    "# # Example code to quick-screen values that may overlap categories\n",
    "# df.loc[[index for index in df.index if \"Shinshu\" in df.loc[index, \"info\"]]]"
   ]
  },
  {
   "cell_type": "code",
   "execution_count": 45,
   "id": "072a4789",
   "metadata": {},
   "outputs": [
    {
     "data": {
      "application/javascript": [
       "\n",
       "            setTimeout(function() {\n",
       "                var nbb_cell_id = 45;\n",
       "                var nbb_unformatted_code = \"# # Example code to quick-screen values that may overlap categories\\n# df.loc[\\n#     [\\n#         index\\n#         for index in df.index\\n#         if \\\"outlaw country music singer songwriter\\\" in df.loc[index, \\\"info\\\"]\\n#     ]\\n# ]\";\n",
       "                var nbb_formatted_code = \"# # Example code to quick-screen values that may overlap categories\\n# df.loc[\\n#     [\\n#         index\\n#         for index in df.index\\n#         if \\\"outlaw country music singer songwriter\\\" in df.loc[index, \\\"info\\\"]\\n#     ]\\n# ]\";\n",
       "                var nbb_cells = Jupyter.notebook.get_cells();\n",
       "                for (var i = 0; i < nbb_cells.length; ++i) {\n",
       "                    if (nbb_cells[i].input_prompt_number == nbb_cell_id) {\n",
       "                        if (nbb_cells[i].get_text() == nbb_unformatted_code) {\n",
       "                             nbb_cells[i].set_text(nbb_formatted_code);\n",
       "                        }\n",
       "                        break;\n",
       "                    }\n",
       "                }\n",
       "            }, 500);\n",
       "            "
      ],
      "text/plain": [
       "<IPython.core.display.Javascript object>"
      ]
     },
     "metadata": {},
     "output_type": "display_data"
    }
   ],
   "source": [
    "# # Example code to quick-screen values that may overlap categories\n",
    "# df.loc[\n",
    "#     [\n",
    "#         index\n",
    "#         for index in df.index\n",
    "#         if \"outlaw country music singer songwriter\" in df.loc[index, \"info\"]\n",
    "#     ]\n",
    "# ]"
   ]
  },
  {
   "cell_type": "code",
   "execution_count": 46,
   "id": "b944a557",
   "metadata": {},
   "outputs": [
    {
     "data": {
      "application/javascript": [
       "\n",
       "            setTimeout(function() {\n",
       "                var nbb_cell_id = 46;\n",
       "                var nbb_unformatted_code = \"# # Example code to quick-check a specific entry\\n# df[df[\\\"info_2\\\"] == \\\"stalker of musician Bj\\u00f6rk\\\"]\";\n",
       "                var nbb_formatted_code = \"# # Example code to quick-check a specific entry\\n# df[df[\\\"info_2\\\"] == \\\"stalker of musician Bj\\u00f6rk\\\"]\";\n",
       "                var nbb_cells = Jupyter.notebook.get_cells();\n",
       "                for (var i = 0; i < nbb_cells.length; ++i) {\n",
       "                    if (nbb_cells[i].input_prompt_number == nbb_cell_id) {\n",
       "                        if (nbb_cells[i].get_text() == nbb_unformatted_code) {\n",
       "                             nbb_cells[i].set_text(nbb_formatted_code);\n",
       "                        }\n",
       "                        break;\n",
       "                    }\n",
       "                }\n",
       "            }, 500);\n",
       "            "
      ],
      "text/plain": [
       "<IPython.core.display.Javascript object>"
      ]
     },
     "metadata": {},
     "output_type": "display_data"
    }
   ],
   "source": [
    "# # Example code to quick-check a specific entry\n",
    "# df[df[\"info_2\"] == \"stalker of musician Björk\"]"
   ]
  },
  {
   "cell_type": "markdown",
   "id": "f318d8d9",
   "metadata": {},
   "source": [
    "#### Creating Lists for Each `known_for` Category"
   ]
  },
  {
   "cell_type": "code",
   "execution_count": 47,
   "id": "804b2a9e",
   "metadata": {},
   "outputs": [
    {
     "data": {
      "application/javascript": [
       "\n",
       "            setTimeout(function() {\n",
       "                var nbb_cell_id = 47;\n",
       "                var nbb_unformatted_code = \"# Creating lists for each category\\npolitics_govt_law = []\\n\\narts = [\\n    \\\"musician known for his work with the Beatles\\\",\\n    \\\"musician and host of\\\",\\n    \\\"musician with the Bothy Band\\\",\\n    \\\"award winning blues musician\\\",\\n    \\\"shehnai musician and Bharat Ratna winner\\\",\\n    \\\"musician known for his work on the theme\\\",\\n    \\\"musician who played at the Johannesburg Live concert\\\",\\n    \\\"jazz musician and widow of John Coltrane\\\",\\n    \\\"musician and husband of Celia Cruz\\\",\\n    \\\"musician and founding conductor of Brooklyn Philharmonic Orchestra\\\",\\n    \\\"musician and entertainer\\\",\\n    'musician known as \\\"Saint Thomas\\\"',\\n    \\\"theme song composer and jazz musician\\\",\\n    \\\"composer and jazz musician\\\",\\n    \\\"Benga musician\\\",\\n    \\\"musician credited with creating mambo\\\",\\n    \\\"saxophone and clarinet musician\\\",\\n    \\\"musician and composer from the band Savage Rose\\\",\\n    \\\"musician and founder of the band Bathory\\\",\\n    \\\"musician and playwright\\\",\\n    \\\"Celtic musician\\\",\\n    \\\"Rockabilly musician\\\",\\n    \\\"R&B and country & western musician\\\",\\n    \\\"Tony nominated orchestrator and musician\\\",\\n    \\\"fiddle player and bluegrass musician\\\",\\n    \\\"musician with the hardcore punk band Big Boys\\\",\\n    \\\"musician and founding member of The Vandals\\\",\\n    \\\"musician for acoustic rock band Plush\\\",\\n    \\\"steel pan musician\\\",\\n    \\\"musician and bagpiper\\\",\\n    \\\"musician and essayist with the stage name Buddy Blue\\\",\\n    \\\"vocal jazz musician\\\",\\n    \\\"dancehall garage musician\\\",\\n    \\\"Romani musician\\\",\\n    \\\"cartoonist and musician\\\",\\n    \\\"soca musician\\\",\\n    \\\"musician and one man band\\\",\\n    \\\"cajun musician\\\",\\n    \\\"rapper and musician\\\",\\n    \\\"country musician and producer\\\",\\n    \\\"soul and disco musician\\\",\\n    \\\"street musician\\\",\\n    \\\"Grammy Award winning jazz producer\\\",\\n    \\\"Indorock musician\\\",\\n    \\\"musician and festival organiser\\\",\\n    \\\"comedian and musician\\\",\\n    \\\"musician and band manager\\\",\\n    \\\"jazz musician and jazz critic\\\",\\n    \\\"traditional jazz musician\\\",\\n    \\\"country musician and trumpet player\\\",\\n    \\\"soul and funk musician\\\",\\n    \\\"country musician and comedian\\\",\\n    \\\"musician and comedian\\\",\\n    \\\"hip hop DJ and musician\\\",\\n    \\\"musician and patron of the arts\\\",\\n    \\\"club disc jockey and musician\\\",\\n    \\\"Reggae musician and composer\\\",\\n    \\\"musician and hula expert\\\",\\n    \\\"jazz and rock musician\\\",\\n    \\\"garage punk musician\\\",\\n    \\\"jazz musician and accordionist\\\",\\n    \\\"musician and sound recordist\\\",\\n    \\\"jazz guitarist and studio musician\\\",\\n    \\\"Classical musician\\\",\\n    \\\"country musician and television and radio host\\\",\\n    \\\"keyboardist and session musician\\\",\\n    \\\"musician and radio and TV personality\\\",\\n    \\\"Country & Western musician\\\",\\n    \\\"rock and R&B musician\\\",\\n    \\\"R&B and jazz musician\\\",\\n    \\\"rock 'n roll musician\\\",\\n    \\\"musician and music business executive\\\",\\n    \\\"country music and rockabilly musician\\\",\\n    \\\"dixieland jazz musician\\\",\\n    \\\"guitarist and studio musician\\\",\\n    \\\"musician and inventor of board game Cluedo\\\",\\n    \\\"classical musician and tabla player\\\",\\n    \\\"soul musician and a guitarist\\\",\\n    \\\"reggae musician and Rastafarian\\\",\\n    \\\"concert and easy listening musician\\\",\\n    \\\"blues and folk musician\\\",\\n    \\\"J\\u00f9j\\u00fa musician\\\",\\n    \\\"country blues musician\\\",\\n    \\\"musician and music publisher\\\",\\n    \\\"kadongo kamu musician\\\",\\n    \\\"reggae musician and producer\\\",\\n    \\\"musician and creator of the seggae genre\\\",\\n    'jazz musician known as \\\"Mr Swing\\\"',\\n    \\\"musician of music\\\",\\n    \\\"children musician\\\",\\n    \\\"musician and DJ of Run DMC\\\",\\n    \\\"skiffle musician\\\",\\n    \\\"musician and star of the Buena Vista Social Club\\\",\\n    \\\"string band fiddler and mandolinist and country blues musician\\\",\\n    \\\"musician composer and arranger\\\",\\n    \\\"rockabilly composer and musician\\\",\\n    \\\"soul musician and brother of Marvin Gaye\\\",\\n    \\\"musician and serial\\\",\\n    \\\"Volksmusik musician and collector\\\",\\n    \\\"musician and pioneer of the musical genres of and\\\",\\n    \\\"bluegrass and folk musician\\\",\\n    \\\"bandleader and musician\\\",\\n    \\\"big band style musician\\\",\\n    \\\"Jibaro musician\\\",\\n    \\\"folk musician and composer\\\",\\n    \\\"musician and vocal session arranger\\\",\\n    \\\"musician and composer of electronic music\\\",\\n    \\\"musician and former member of The Beatles\\\",\\n    \\\"Tejano musician\\\",\\n    \\\"jazz fusion musician\\\",\\n    \\\"entertainer and musician\\\",\\n    \\\"outsider musician\\\",\\n    \\\"trumpeter and session musician\\\",\\n    \\\"architect and musician\\\",\\n    \\\"electronic musician and radio host\\\",\\n    \\\"sound designer and musician\\\",\\n    \\\"electronic dance musician and record producer\\\",\\n    \\\"jazz musician and arranger\\\",\\n    \\\"Nazrul Sangeet musician\\\",\\n    \\\"musician and publisher\\\",\\n    \\\"Indigenous musician\\\",\\n    \\\"folk and bluegrass musician\\\",\\n    \\\"punk and new wave musician\\\",\\n    \\\"trance music producer and musician\\\",\\n    \\\"Carnatic musician and composer\\\",\\n    \\\"Hindustani musician\\\",\\n    \\\"jazz musician and band leader\\\",\\n    \\\"shehnai musician\\\",\\n    \\\"rap musician\\\",\\n    \\\"avant garde musician\\\",\\n    \\\"ska and mento musician\\\",\\n    \\\"synthesizer musician\\\",\\n    \\\"musician and choral conductor\\\",\\n    \\\"samba musician\\\",\\n    \\\"khyal musician\\\",\\n    \\\"kwaito musician\\\",\\n    \\\"acid house musician\\\",\\n    \\\"photographer and musician\\\",\\n    \\\"minimalist musician\\\",\\n    \\\"trumpeter and brass band musician\\\",\\n    \\\"soundtrack composer and musician\\\",\\n    \\\"grime musician\\\",\\n    \\\"folk rock musician and composer\\\",\\n    \\\"disc jockey and musician\\\",\\n    \\\"funk and R&B musician\\\",\\n    \\\"Grammy award winning musician\\\",\\n    \\\"musician and organist\\\",\\n    \\\"blues and rock musician\\\",\\n    \\\"musician and radio presenter\\\",\\n    \\\"Hall of Fame instrumental and surf rock musician\\\",\\n    \\\"surf rock musician\\\",\\n    \\\"Bubu musician\\\",\\n    \\\"musician and dancer\\\",\\n    \\\"Andean cumbia musician\\\",\\n    \\\"ashik musician\\\",\\n    \\\"Hall of Fame blues musician\\\",\\n    \\\"sculptor and musician\\\",\\n    \\\"experimental musician\\\",\\n    \\\"jazz musician and Shinshu Buddhist\\\",\\n    \\\"mbira musician\\\",\\n    \\\"theatre director and musician\\\",\\n    \\\"jazz musician and producer\\\",\\n    \\\"Steelpan musician and arranger\\\",\\n    \\\"country musician and radio broadcaster\\\",\\n    \\\"musician and arranger\\\",\\n    \\\"punk rock musician and\\\",\\n    \\\"punk rock musician\\\",\\n    \\\"carnatic musician and music director\\\",\\n    \\\"musician and music director\\\",\\n    \\\"steelpan musician and designer\\\",\\n    \\\"steelpan musician\\\",\\n    \\\"Tuvan musician\\\",\\n    \\\"bossa nova musician\\\",\\n    \\\"vallenato musician\\\",\\n    \\\"music manager and musician\\\",\\n    \\\"contra dance musician\\\",\\n    \\\"bluegrass musician and banjo player\\\",\\n    \\\"country and rockabilly musician\\\",\\n    \\\"roots musician and entertainment critic\\\",\\n    \\\"roots musician\\\",\\n    \\\"jazz musician and manager\\\",\\n    \\\"jazz musician and radio show host\\\",\\n    \\\"electronic musician and television producer\\\",\\n    \\\"jazz musician and vocal coach involved in the Wrong Door Raid\\\",\\n    \\\"Detroit blues musician\\\",\\n    \\\"folk musician and yueqin player\\\",\\n    \\\"blues and country musician\\\",\\n    \\\"heavy metal musician\\\",\\n    \\\"rock and roll session musician\\\",\\n    \\\"jazz musician and architect\\\",\\n    \\\"musician and radio and television personality\\\",\\n    \\\"Hall of Fame bluegrass musician\\\",\\n    \\\"oud musician\\\",\\n    \\\"music  musician\\\",\\n    \\\"cumbia musician\\\",\\n    \\\"book and album cover designer and jazz musician\\\",\\n    \\\"salsa musician and composer\\\",\\n    \\\"musician and percussion mallet manufacturer\\\",\\n    \\\"Gnawa musician\\\",\\n    \\\"blues rock musician\\\",\\n    \\\"musician and music publishing executive\\\",\\n    \\\"musician and television show host\\\",\\n    \\\"composer and electronic musician\\\",\\n    \\\"M\\u0101ori musician\\\",\\n    \\\"and Manager of Jazz musician Erroll Garner\\\",\\n    \\\"musician and house music producer\\\",\\n    \\\"mariachi musician and\\\",\\n    \\\"mariachi musician\\\",\\n    \\\"merengue and salsa musician\\\",\\n    \\\"pop musician and producer\\\",\\n    \\\"reggae cross over musician\\\",\\n    \\\"Grammy Award winning jazz and new age musician\\\",\\n    \\\"classical dancer and musician\\\",\\n    \\\"dancer and musician\\\",\\n    \\\"musician and film composer\\\",\\n    \\\"rhythm and blues musician\\\",\\n    \\\"jazz and pop musician\\\",\\n    \\\"musician and music producer\\\",\\n    \\\"electric blues musician\\\",\\n    \\\"musician and DJ\\\",\\n    \\\"tango musician\\\",\\n    \\\"Igbo highlife musician\\\",\\n    \\\"dancehall musician\\\",\\n    \\\"ska musician\\\",\\n    \\\"calypso musician\\\",\\n    \\\"soul musician\\\",\\n    \\\"session musician\\\",\\n    \\\"ambient musician\\\",\\n    \\\"Chicago blues musician\\\",\\n    \\\"Hall of Fame musician and record producer\\\",\\n    \\\"big band musician\\\",\\n    \\\"electronic musician and composer\\\",\\n    \\\"folk rock musician\\\",\\n    \\\"Cajun musician\\\",\\n    \\\"Grammy Award winning musician\\\",\\n    \\\"jazz and blues musician\\\",\\n    \\\"traditional musician\\\",\\n    \\\"reggae musician and record producer\\\",\\n    \\\"jazz musician and bandleader\\\",\\n    \\\"musician and bandleader\\\",\\n    \\\"pop musician\\\",\\n    \\\"polka musician\\\",\\n    \\\"musician and conductor\\\",\\n    \\\"Carnatic musician\\\",\\n    \\\"punk musician\\\",\\n    \\\"broadcaster and musician\\\",\\n    \\\"rock and roll musician\\\",\\n    \\\"R&B musician\\\",\\n    \\\"highlife musician\\\",\\n    \\\"hip hop musician\\\",\\n    \\\"record producer and musician\\\",\\n    \\\"musician and producer\\\",\\n    \\\"classical musician and\\\",\\n    \\\"classical musician\\\",\\n    \\\"Hall of Fame musician\\\",\\n    \\\"rockabilly musician\\\",\\n    \\\"electronic musician\\\",\\n    \\\"jazz musician and composer\\\",\\n    \\\"reggae musician\\\",\\n    \\\"musician and record producer\\\",\\n    \\\"country musician\\\",\\n    \\\"and bluegrass musician\\\",\\n    \\\"bluegrass musician\\\",\\n    \\\"composer and musician\\\",\\n    \\\"musician and composer\\\",\\n    \\\"and traditional folk musician\\\",\\n    \\\"folk musician and\\\",\\n    \\\"and folk musician\\\",\\n    \\\"folk musician\\\",\\n    \\\"and rock musician\\\",\\n    \\\"rock musician\\\",\\n    \\\"blues musician and\\\",\\n    \\\"blues musician\\\",\\n    \\\"and jazz musician\\\",\\n    \\\"jazz musician\\\",\\n    \\\"benga musician and\\\",\\n    \\\"musician and television\\\",\\n    \\\"Native musician and\\\",\\n    \\\"musician from\\\",\\n    \\\"and musician\\\",\\n    \\\"musician and\\\",\\n    \\\"musician\\\",\\n]\\nsports = []\\nsciences = []\\n\\nbusiness_farming = []\\nacademia_humanities = []\\nlaw_enf_military_operator = []\\nspiritual = []\\nsocial = []\\ncrime = [\\n    \\\"stalker of musician Bj\\u00f6rk\\\",  # before arts\\n]\\nevent_record_other = []\\nother_species = []\";\n",
       "                var nbb_formatted_code = \"# Creating lists for each category\\npolitics_govt_law = []\\n\\narts = [\\n    \\\"musician known for his work with the Beatles\\\",\\n    \\\"musician and host of\\\",\\n    \\\"musician with the Bothy Band\\\",\\n    \\\"award winning blues musician\\\",\\n    \\\"shehnai musician and Bharat Ratna winner\\\",\\n    \\\"musician known for his work on the theme\\\",\\n    \\\"musician who played at the Johannesburg Live concert\\\",\\n    \\\"jazz musician and widow of John Coltrane\\\",\\n    \\\"musician and husband of Celia Cruz\\\",\\n    \\\"musician and founding conductor of Brooklyn Philharmonic Orchestra\\\",\\n    \\\"musician and entertainer\\\",\\n    'musician known as \\\"Saint Thomas\\\"',\\n    \\\"theme song composer and jazz musician\\\",\\n    \\\"composer and jazz musician\\\",\\n    \\\"Benga musician\\\",\\n    \\\"musician credited with creating mambo\\\",\\n    \\\"saxophone and clarinet musician\\\",\\n    \\\"musician and composer from the band Savage Rose\\\",\\n    \\\"musician and founder of the band Bathory\\\",\\n    \\\"musician and playwright\\\",\\n    \\\"Celtic musician\\\",\\n    \\\"Rockabilly musician\\\",\\n    \\\"R&B and country & western musician\\\",\\n    \\\"Tony nominated orchestrator and musician\\\",\\n    \\\"fiddle player and bluegrass musician\\\",\\n    \\\"musician with the hardcore punk band Big Boys\\\",\\n    \\\"musician and founding member of The Vandals\\\",\\n    \\\"musician for acoustic rock band Plush\\\",\\n    \\\"steel pan musician\\\",\\n    \\\"musician and bagpiper\\\",\\n    \\\"musician and essayist with the stage name Buddy Blue\\\",\\n    \\\"vocal jazz musician\\\",\\n    \\\"dancehall garage musician\\\",\\n    \\\"Romani musician\\\",\\n    \\\"cartoonist and musician\\\",\\n    \\\"soca musician\\\",\\n    \\\"musician and one man band\\\",\\n    \\\"cajun musician\\\",\\n    \\\"rapper and musician\\\",\\n    \\\"country musician and producer\\\",\\n    \\\"soul and disco musician\\\",\\n    \\\"street musician\\\",\\n    \\\"Grammy Award winning jazz producer\\\",\\n    \\\"Indorock musician\\\",\\n    \\\"musician and festival organiser\\\",\\n    \\\"comedian and musician\\\",\\n    \\\"musician and band manager\\\",\\n    \\\"jazz musician and jazz critic\\\",\\n    \\\"traditional jazz musician\\\",\\n    \\\"country musician and trumpet player\\\",\\n    \\\"soul and funk musician\\\",\\n    \\\"country musician and comedian\\\",\\n    \\\"musician and comedian\\\",\\n    \\\"hip hop DJ and musician\\\",\\n    \\\"musician and patron of the arts\\\",\\n    \\\"club disc jockey and musician\\\",\\n    \\\"Reggae musician and composer\\\",\\n    \\\"musician and hula expert\\\",\\n    \\\"jazz and rock musician\\\",\\n    \\\"garage punk musician\\\",\\n    \\\"jazz musician and accordionist\\\",\\n    \\\"musician and sound recordist\\\",\\n    \\\"jazz guitarist and studio musician\\\",\\n    \\\"Classical musician\\\",\\n    \\\"country musician and television and radio host\\\",\\n    \\\"keyboardist and session musician\\\",\\n    \\\"musician and radio and TV personality\\\",\\n    \\\"Country & Western musician\\\",\\n    \\\"rock and R&B musician\\\",\\n    \\\"R&B and jazz musician\\\",\\n    \\\"rock 'n roll musician\\\",\\n    \\\"musician and music business executive\\\",\\n    \\\"country music and rockabilly musician\\\",\\n    \\\"dixieland jazz musician\\\",\\n    \\\"guitarist and studio musician\\\",\\n    \\\"musician and inventor of board game Cluedo\\\",\\n    \\\"classical musician and tabla player\\\",\\n    \\\"soul musician and a guitarist\\\",\\n    \\\"reggae musician and Rastafarian\\\",\\n    \\\"concert and easy listening musician\\\",\\n    \\\"blues and folk musician\\\",\\n    \\\"J\\u00f9j\\u00fa musician\\\",\\n    \\\"country blues musician\\\",\\n    \\\"musician and music publisher\\\",\\n    \\\"kadongo kamu musician\\\",\\n    \\\"reggae musician and producer\\\",\\n    \\\"musician and creator of the seggae genre\\\",\\n    'jazz musician known as \\\"Mr Swing\\\"',\\n    \\\"musician of music\\\",\\n    \\\"children musician\\\",\\n    \\\"musician and DJ of Run DMC\\\",\\n    \\\"skiffle musician\\\",\\n    \\\"musician and star of the Buena Vista Social Club\\\",\\n    \\\"string band fiddler and mandolinist and country blues musician\\\",\\n    \\\"musician composer and arranger\\\",\\n    \\\"rockabilly composer and musician\\\",\\n    \\\"soul musician and brother of Marvin Gaye\\\",\\n    \\\"musician and serial\\\",\\n    \\\"Volksmusik musician and collector\\\",\\n    \\\"musician and pioneer of the musical genres of and\\\",\\n    \\\"bluegrass and folk musician\\\",\\n    \\\"bandleader and musician\\\",\\n    \\\"big band style musician\\\",\\n    \\\"Jibaro musician\\\",\\n    \\\"folk musician and composer\\\",\\n    \\\"musician and vocal session arranger\\\",\\n    \\\"musician and composer of electronic music\\\",\\n    \\\"musician and former member of The Beatles\\\",\\n    \\\"Tejano musician\\\",\\n    \\\"jazz fusion musician\\\",\\n    \\\"entertainer and musician\\\",\\n    \\\"outsider musician\\\",\\n    \\\"trumpeter and session musician\\\",\\n    \\\"architect and musician\\\",\\n    \\\"electronic musician and radio host\\\",\\n    \\\"sound designer and musician\\\",\\n    \\\"electronic dance musician and record producer\\\",\\n    \\\"jazz musician and arranger\\\",\\n    \\\"Nazrul Sangeet musician\\\",\\n    \\\"musician and publisher\\\",\\n    \\\"Indigenous musician\\\",\\n    \\\"folk and bluegrass musician\\\",\\n    \\\"punk and new wave musician\\\",\\n    \\\"trance music producer and musician\\\",\\n    \\\"Carnatic musician and composer\\\",\\n    \\\"Hindustani musician\\\",\\n    \\\"jazz musician and band leader\\\",\\n    \\\"shehnai musician\\\",\\n    \\\"rap musician\\\",\\n    \\\"avant garde musician\\\",\\n    \\\"ska and mento musician\\\",\\n    \\\"synthesizer musician\\\",\\n    \\\"musician and choral conductor\\\",\\n    \\\"samba musician\\\",\\n    \\\"khyal musician\\\",\\n    \\\"kwaito musician\\\",\\n    \\\"acid house musician\\\",\\n    \\\"photographer and musician\\\",\\n    \\\"minimalist musician\\\",\\n    \\\"trumpeter and brass band musician\\\",\\n    \\\"soundtrack composer and musician\\\",\\n    \\\"grime musician\\\",\\n    \\\"folk rock musician and composer\\\",\\n    \\\"disc jockey and musician\\\",\\n    \\\"funk and R&B musician\\\",\\n    \\\"Grammy award winning musician\\\",\\n    \\\"musician and organist\\\",\\n    \\\"blues and rock musician\\\",\\n    \\\"musician and radio presenter\\\",\\n    \\\"Hall of Fame instrumental and surf rock musician\\\",\\n    \\\"surf rock musician\\\",\\n    \\\"Bubu musician\\\",\\n    \\\"musician and dancer\\\",\\n    \\\"Andean cumbia musician\\\",\\n    \\\"ashik musician\\\",\\n    \\\"Hall of Fame blues musician\\\",\\n    \\\"sculptor and musician\\\",\\n    \\\"experimental musician\\\",\\n    \\\"jazz musician and Shinshu Buddhist\\\",\\n    \\\"mbira musician\\\",\\n    \\\"theatre director and musician\\\",\\n    \\\"jazz musician and producer\\\",\\n    \\\"Steelpan musician and arranger\\\",\\n    \\\"country musician and radio broadcaster\\\",\\n    \\\"musician and arranger\\\",\\n    \\\"punk rock musician and\\\",\\n    \\\"punk rock musician\\\",\\n    \\\"carnatic musician and music director\\\",\\n    \\\"musician and music director\\\",\\n    \\\"steelpan musician and designer\\\",\\n    \\\"steelpan musician\\\",\\n    \\\"Tuvan musician\\\",\\n    \\\"bossa nova musician\\\",\\n    \\\"vallenato musician\\\",\\n    \\\"music manager and musician\\\",\\n    \\\"contra dance musician\\\",\\n    \\\"bluegrass musician and banjo player\\\",\\n    \\\"country and rockabilly musician\\\",\\n    \\\"roots musician and entertainment critic\\\",\\n    \\\"roots musician\\\",\\n    \\\"jazz musician and manager\\\",\\n    \\\"jazz musician and radio show host\\\",\\n    \\\"electronic musician and television producer\\\",\\n    \\\"jazz musician and vocal coach involved in the Wrong Door Raid\\\",\\n    \\\"Detroit blues musician\\\",\\n    \\\"folk musician and yueqin player\\\",\\n    \\\"blues and country musician\\\",\\n    \\\"heavy metal musician\\\",\\n    \\\"rock and roll session musician\\\",\\n    \\\"jazz musician and architect\\\",\\n    \\\"musician and radio and television personality\\\",\\n    \\\"Hall of Fame bluegrass musician\\\",\\n    \\\"oud musician\\\",\\n    \\\"music  musician\\\",\\n    \\\"cumbia musician\\\",\\n    \\\"book and album cover designer and jazz musician\\\",\\n    \\\"salsa musician and composer\\\",\\n    \\\"musician and percussion mallet manufacturer\\\",\\n    \\\"Gnawa musician\\\",\\n    \\\"blues rock musician\\\",\\n    \\\"musician and music publishing executive\\\",\\n    \\\"musician and television show host\\\",\\n    \\\"composer and electronic musician\\\",\\n    \\\"M\\u0101ori musician\\\",\\n    \\\"and Manager of Jazz musician Erroll Garner\\\",\\n    \\\"musician and house music producer\\\",\\n    \\\"mariachi musician and\\\",\\n    \\\"mariachi musician\\\",\\n    \\\"merengue and salsa musician\\\",\\n    \\\"pop musician and producer\\\",\\n    \\\"reggae cross over musician\\\",\\n    \\\"Grammy Award winning jazz and new age musician\\\",\\n    \\\"classical dancer and musician\\\",\\n    \\\"dancer and musician\\\",\\n    \\\"musician and film composer\\\",\\n    \\\"rhythm and blues musician\\\",\\n    \\\"jazz and pop musician\\\",\\n    \\\"musician and music producer\\\",\\n    \\\"electric blues musician\\\",\\n    \\\"musician and DJ\\\",\\n    \\\"tango musician\\\",\\n    \\\"Igbo highlife musician\\\",\\n    \\\"dancehall musician\\\",\\n    \\\"ska musician\\\",\\n    \\\"calypso musician\\\",\\n    \\\"soul musician\\\",\\n    \\\"session musician\\\",\\n    \\\"ambient musician\\\",\\n    \\\"Chicago blues musician\\\",\\n    \\\"Hall of Fame musician and record producer\\\",\\n    \\\"big band musician\\\",\\n    \\\"electronic musician and composer\\\",\\n    \\\"folk rock musician\\\",\\n    \\\"Cajun musician\\\",\\n    \\\"Grammy Award winning musician\\\",\\n    \\\"jazz and blues musician\\\",\\n    \\\"traditional musician\\\",\\n    \\\"reggae musician and record producer\\\",\\n    \\\"jazz musician and bandleader\\\",\\n    \\\"musician and bandleader\\\",\\n    \\\"pop musician\\\",\\n    \\\"polka musician\\\",\\n    \\\"musician and conductor\\\",\\n    \\\"Carnatic musician\\\",\\n    \\\"punk musician\\\",\\n    \\\"broadcaster and musician\\\",\\n    \\\"rock and roll musician\\\",\\n    \\\"R&B musician\\\",\\n    \\\"highlife musician\\\",\\n    \\\"hip hop musician\\\",\\n    \\\"record producer and musician\\\",\\n    \\\"musician and producer\\\",\\n    \\\"classical musician and\\\",\\n    \\\"classical musician\\\",\\n    \\\"Hall of Fame musician\\\",\\n    \\\"rockabilly musician\\\",\\n    \\\"electronic musician\\\",\\n    \\\"jazz musician and composer\\\",\\n    \\\"reggae musician\\\",\\n    \\\"musician and record producer\\\",\\n    \\\"country musician\\\",\\n    \\\"and bluegrass musician\\\",\\n    \\\"bluegrass musician\\\",\\n    \\\"composer and musician\\\",\\n    \\\"musician and composer\\\",\\n    \\\"and traditional folk musician\\\",\\n    \\\"folk musician and\\\",\\n    \\\"and folk musician\\\",\\n    \\\"folk musician\\\",\\n    \\\"and rock musician\\\",\\n    \\\"rock musician\\\",\\n    \\\"blues musician and\\\",\\n    \\\"blues musician\\\",\\n    \\\"and jazz musician\\\",\\n    \\\"jazz musician\\\",\\n    \\\"benga musician and\\\",\\n    \\\"musician and television\\\",\\n    \\\"Native musician and\\\",\\n    \\\"musician from\\\",\\n    \\\"and musician\\\",\\n    \\\"musician and\\\",\\n    \\\"musician\\\",\\n]\\nsports = []\\nsciences = []\\n\\nbusiness_farming = []\\nacademia_humanities = []\\nlaw_enf_military_operator = []\\nspiritual = []\\nsocial = []\\ncrime = [\\n    \\\"stalker of musician Bj\\u00f6rk\\\",  # before arts\\n]\\nevent_record_other = []\\nother_species = []\";\n",
       "                var nbb_cells = Jupyter.notebook.get_cells();\n",
       "                for (var i = 0; i < nbb_cells.length; ++i) {\n",
       "                    if (nbb_cells[i].input_prompt_number == nbb_cell_id) {\n",
       "                        if (nbb_cells[i].get_text() == nbb_unformatted_code) {\n",
       "                             nbb_cells[i].set_text(nbb_formatted_code);\n",
       "                        }\n",
       "                        break;\n",
       "                    }\n",
       "                }\n",
       "            }, 500);\n",
       "            "
      ],
      "text/plain": [
       "<IPython.core.display.Javascript object>"
      ]
     },
     "metadata": {},
     "output_type": "display_data"
    }
   ],
   "source": [
    "# Creating lists for each category\n",
    "politics_govt_law = []\n",
    "\n",
    "arts = [\n",
    "    \"musician known for his work with the Beatles\",\n",
    "    \"musician and host of\",\n",
    "    \"musician with the Bothy Band\",\n",
    "    \"award winning blues musician\",\n",
    "    \"shehnai musician and Bharat Ratna winner\",\n",
    "    \"musician known for his work on the theme\",\n",
    "    \"musician who played at the Johannesburg Live concert\",\n",
    "    \"jazz musician and widow of John Coltrane\",\n",
    "    \"musician and husband of Celia Cruz\",\n",
    "    \"musician and founding conductor of Brooklyn Philharmonic Orchestra\",\n",
    "    \"musician and entertainer\",\n",
    "    'musician known as \"Saint Thomas\"',\n",
    "    \"theme song composer and jazz musician\",\n",
    "    \"composer and jazz musician\",\n",
    "    \"Benga musician\",\n",
    "    \"musician credited with creating mambo\",\n",
    "    \"saxophone and clarinet musician\",\n",
    "    \"musician and composer from the band Savage Rose\",\n",
    "    \"musician and founder of the band Bathory\",\n",
    "    \"musician and playwright\",\n",
    "    \"Celtic musician\",\n",
    "    \"Rockabilly musician\",\n",
    "    \"R&B and country & western musician\",\n",
    "    \"Tony nominated orchestrator and musician\",\n",
    "    \"fiddle player and bluegrass musician\",\n",
    "    \"musician with the hardcore punk band Big Boys\",\n",
    "    \"musician and founding member of The Vandals\",\n",
    "    \"musician for acoustic rock band Plush\",\n",
    "    \"steel pan musician\",\n",
    "    \"musician and bagpiper\",\n",
    "    \"musician and essayist with the stage name Buddy Blue\",\n",
    "    \"vocal jazz musician\",\n",
    "    \"dancehall garage musician\",\n",
    "    \"Romani musician\",\n",
    "    \"cartoonist and musician\",\n",
    "    \"soca musician\",\n",
    "    \"musician and one man band\",\n",
    "    \"cajun musician\",\n",
    "    \"rapper and musician\",\n",
    "    \"country musician and producer\",\n",
    "    \"soul and disco musician\",\n",
    "    \"street musician\",\n",
    "    \"Grammy Award winning jazz producer\",\n",
    "    \"Indorock musician\",\n",
    "    \"musician and festival organiser\",\n",
    "    \"comedian and musician\",\n",
    "    \"musician and band manager\",\n",
    "    \"jazz musician and jazz critic\",\n",
    "    \"traditional jazz musician\",\n",
    "    \"country musician and trumpet player\",\n",
    "    \"soul and funk musician\",\n",
    "    \"country musician and comedian\",\n",
    "    \"musician and comedian\",\n",
    "    \"hip hop DJ and musician\",\n",
    "    \"musician and patron of the arts\",\n",
    "    \"club disc jockey and musician\",\n",
    "    \"Reggae musician and composer\",\n",
    "    \"musician and hula expert\",\n",
    "    \"jazz and rock musician\",\n",
    "    \"garage punk musician\",\n",
    "    \"jazz musician and accordionist\",\n",
    "    \"musician and sound recordist\",\n",
    "    \"jazz guitarist and studio musician\",\n",
    "    \"Classical musician\",\n",
    "    \"country musician and television and radio host\",\n",
    "    \"keyboardist and session musician\",\n",
    "    \"musician and radio and TV personality\",\n",
    "    \"Country & Western musician\",\n",
    "    \"rock and R&B musician\",\n",
    "    \"R&B and jazz musician\",\n",
    "    \"rock 'n roll musician\",\n",
    "    \"musician and music business executive\",\n",
    "    \"country music and rockabilly musician\",\n",
    "    \"dixieland jazz musician\",\n",
    "    \"guitarist and studio musician\",\n",
    "    \"musician and inventor of board game Cluedo\",\n",
    "    \"classical musician and tabla player\",\n",
    "    \"soul musician and a guitarist\",\n",
    "    \"reggae musician and Rastafarian\",\n",
    "    \"concert and easy listening musician\",\n",
    "    \"blues and folk musician\",\n",
    "    \"Jùjú musician\",\n",
    "    \"country blues musician\",\n",
    "    \"musician and music publisher\",\n",
    "    \"kadongo kamu musician\",\n",
    "    \"reggae musician and producer\",\n",
    "    \"musician and creator of the seggae genre\",\n",
    "    'jazz musician known as \"Mr Swing\"',\n",
    "    \"musician of music\",\n",
    "    \"children musician\",\n",
    "    \"musician and DJ of Run DMC\",\n",
    "    \"skiffle musician\",\n",
    "    \"musician and star of the Buena Vista Social Club\",\n",
    "    \"string band fiddler and mandolinist and country blues musician\",\n",
    "    \"musician composer and arranger\",\n",
    "    \"rockabilly composer and musician\",\n",
    "    \"soul musician and brother of Marvin Gaye\",\n",
    "    \"musician and serial\",\n",
    "    \"Volksmusik musician and collector\",\n",
    "    \"musician and pioneer of the musical genres of and\",\n",
    "    \"bluegrass and folk musician\",\n",
    "    \"bandleader and musician\",\n",
    "    \"big band style musician\",\n",
    "    \"Jibaro musician\",\n",
    "    \"folk musician and composer\",\n",
    "    \"musician and vocal session arranger\",\n",
    "    \"musician and composer of electronic music\",\n",
    "    \"musician and former member of The Beatles\",\n",
    "    \"Tejano musician\",\n",
    "    \"jazz fusion musician\",\n",
    "    \"entertainer and musician\",\n",
    "    \"outsider musician\",\n",
    "    \"trumpeter and session musician\",\n",
    "    \"architect and musician\",\n",
    "    \"electronic musician and radio host\",\n",
    "    \"sound designer and musician\",\n",
    "    \"electronic dance musician and record producer\",\n",
    "    \"jazz musician and arranger\",\n",
    "    \"Nazrul Sangeet musician\",\n",
    "    \"musician and publisher\",\n",
    "    \"Indigenous musician\",\n",
    "    \"folk and bluegrass musician\",\n",
    "    \"punk and new wave musician\",\n",
    "    \"trance music producer and musician\",\n",
    "    \"Carnatic musician and composer\",\n",
    "    \"Hindustani musician\",\n",
    "    \"jazz musician and band leader\",\n",
    "    \"shehnai musician\",\n",
    "    \"rap musician\",\n",
    "    \"avant garde musician\",\n",
    "    \"ska and mento musician\",\n",
    "    \"synthesizer musician\",\n",
    "    \"musician and choral conductor\",\n",
    "    \"samba musician\",\n",
    "    \"khyal musician\",\n",
    "    \"kwaito musician\",\n",
    "    \"acid house musician\",\n",
    "    \"photographer and musician\",\n",
    "    \"minimalist musician\",\n",
    "    \"trumpeter and brass band musician\",\n",
    "    \"soundtrack composer and musician\",\n",
    "    \"grime musician\",\n",
    "    \"folk rock musician and composer\",\n",
    "    \"disc jockey and musician\",\n",
    "    \"funk and R&B musician\",\n",
    "    \"Grammy award winning musician\",\n",
    "    \"musician and organist\",\n",
    "    \"blues and rock musician\",\n",
    "    \"musician and radio presenter\",\n",
    "    \"Hall of Fame instrumental and surf rock musician\",\n",
    "    \"surf rock musician\",\n",
    "    \"Bubu musician\",\n",
    "    \"musician and dancer\",\n",
    "    \"Andean cumbia musician\",\n",
    "    \"ashik musician\",\n",
    "    \"Hall of Fame blues musician\",\n",
    "    \"sculptor and musician\",\n",
    "    \"experimental musician\",\n",
    "    \"jazz musician and Shinshu Buddhist\",\n",
    "    \"mbira musician\",\n",
    "    \"theatre director and musician\",\n",
    "    \"jazz musician and producer\",\n",
    "    \"Steelpan musician and arranger\",\n",
    "    \"country musician and radio broadcaster\",\n",
    "    \"musician and arranger\",\n",
    "    \"punk rock musician and\",\n",
    "    \"punk rock musician\",\n",
    "    \"carnatic musician and music director\",\n",
    "    \"musician and music director\",\n",
    "    \"steelpan musician and designer\",\n",
    "    \"steelpan musician\",\n",
    "    \"Tuvan musician\",\n",
    "    \"bossa nova musician\",\n",
    "    \"vallenato musician\",\n",
    "    \"music manager and musician\",\n",
    "    \"contra dance musician\",\n",
    "    \"bluegrass musician and banjo player\",\n",
    "    \"country and rockabilly musician\",\n",
    "    \"roots musician and entertainment critic\",\n",
    "    \"roots musician\",\n",
    "    \"jazz musician and manager\",\n",
    "    \"jazz musician and radio show host\",\n",
    "    \"electronic musician and television producer\",\n",
    "    \"jazz musician and vocal coach involved in the Wrong Door Raid\",\n",
    "    \"Detroit blues musician\",\n",
    "    \"folk musician and yueqin player\",\n",
    "    \"blues and country musician\",\n",
    "    \"heavy metal musician\",\n",
    "    \"rock and roll session musician\",\n",
    "    \"jazz musician and architect\",\n",
    "    \"musician and radio and television personality\",\n",
    "    \"Hall of Fame bluegrass musician\",\n",
    "    \"oud musician\",\n",
    "    \"music  musician\",\n",
    "    \"cumbia musician\",\n",
    "    \"book and album cover designer and jazz musician\",\n",
    "    \"salsa musician and composer\",\n",
    "    \"musician and percussion mallet manufacturer\",\n",
    "    \"Gnawa musician\",\n",
    "    \"blues rock musician\",\n",
    "    \"musician and music publishing executive\",\n",
    "    \"musician and television show host\",\n",
    "    \"composer and electronic musician\",\n",
    "    \"Māori musician\",\n",
    "    \"and Manager of Jazz musician Erroll Garner\",\n",
    "    \"musician and house music producer\",\n",
    "    \"mariachi musician and\",\n",
    "    \"mariachi musician\",\n",
    "    \"merengue and salsa musician\",\n",
    "    \"pop musician and producer\",\n",
    "    \"reggae cross over musician\",\n",
    "    \"Grammy Award winning jazz and new age musician\",\n",
    "    \"classical dancer and musician\",\n",
    "    \"dancer and musician\",\n",
    "    \"musician and film composer\",\n",
    "    \"rhythm and blues musician\",\n",
    "    \"jazz and pop musician\",\n",
    "    \"musician and music producer\",\n",
    "    \"electric blues musician\",\n",
    "    \"musician and DJ\",\n",
    "    \"tango musician\",\n",
    "    \"Igbo highlife musician\",\n",
    "    \"dancehall musician\",\n",
    "    \"ska musician\",\n",
    "    \"calypso musician\",\n",
    "    \"soul musician\",\n",
    "    \"session musician\",\n",
    "    \"ambient musician\",\n",
    "    \"Chicago blues musician\",\n",
    "    \"Hall of Fame musician and record producer\",\n",
    "    \"big band musician\",\n",
    "    \"electronic musician and composer\",\n",
    "    \"folk rock musician\",\n",
    "    \"Cajun musician\",\n",
    "    \"Grammy Award winning musician\",\n",
    "    \"jazz and blues musician\",\n",
    "    \"traditional musician\",\n",
    "    \"reggae musician and record producer\",\n",
    "    \"jazz musician and bandleader\",\n",
    "    \"musician and bandleader\",\n",
    "    \"pop musician\",\n",
    "    \"polka musician\",\n",
    "    \"musician and conductor\",\n",
    "    \"Carnatic musician\",\n",
    "    \"punk musician\",\n",
    "    \"broadcaster and musician\",\n",
    "    \"rock and roll musician\",\n",
    "    \"R&B musician\",\n",
    "    \"highlife musician\",\n",
    "    \"hip hop musician\",\n",
    "    \"record producer and musician\",\n",
    "    \"musician and producer\",\n",
    "    \"classical musician and\",\n",
    "    \"classical musician\",\n",
    "    \"Hall of Fame musician\",\n",
    "    \"rockabilly musician\",\n",
    "    \"electronic musician\",\n",
    "    \"jazz musician and composer\",\n",
    "    \"reggae musician\",\n",
    "    \"musician and record producer\",\n",
    "    \"country musician\",\n",
    "    \"and bluegrass musician\",\n",
    "    \"bluegrass musician\",\n",
    "    \"composer and musician\",\n",
    "    \"musician and composer\",\n",
    "    \"and traditional folk musician\",\n",
    "    \"folk musician and\",\n",
    "    \"and folk musician\",\n",
    "    \"folk musician\",\n",
    "    \"and rock musician\",\n",
    "    \"rock musician\",\n",
    "    \"blues musician and\",\n",
    "    \"blues musician\",\n",
    "    \"and jazz musician\",\n",
    "    \"jazz musician\",\n",
    "    \"benga musician and\",\n",
    "    \"musician and television\",\n",
    "    \"Native musician and\",\n",
    "    \"musician from\",\n",
    "    \"and musician\",\n",
    "    \"musician and\",\n",
    "    \"musician\",\n",
    "]\n",
    "sports = []\n",
    "sciences = []\n",
    "\n",
    "business_farming = []\n",
    "academia_humanities = []\n",
    "law_enf_military_operator = []\n",
    "spiritual = []\n",
    "social = []\n",
    "crime = [\n",
    "    \"stalker of musician Björk\",  # before arts\n",
    "]\n",
    "event_record_other = []\n",
    "other_species = []"
   ]
  },
  {
   "cell_type": "markdown",
   "id": "49a26ef5",
   "metadata": {},
   "source": [
    "#### Creating `known_for_dict_17` Dictionary of Category Keys and Specific Role Lists of Values"
   ]
  },
  {
   "cell_type": "code",
   "execution_count": 48,
   "id": "0f682dc3",
   "metadata": {},
   "outputs": [
    {
     "data": {
      "application/javascript": [
       "\n",
       "            setTimeout(function() {\n",
       "                var nbb_cell_id = 48;\n",
       "                var nbb_unformatted_code = \"# Combining separate lists into one dictionary\\nknown_for_dict_17 = {\\n    \\\"social\\\": social,\\n    \\\"spiritual\\\": spiritual,\\n    \\\"academia_humanities\\\": academia_humanities,\\n    \\\"business_farming\\\": business_farming,\\n    \\\"sciences\\\": sciences,\\n    \\\"politics_govt_law\\\": politics_govt_law,\\n    \\\"law_enf_military_operator\\\": law_enf_military_operator,\\n    \\\"crime\\\": crime,\\n    \\\"event_record_other\\\": event_record_other,\\n    \\\"other_species\\\": other_species,\\n    \\\"arts\\\": arts,\\n    \\\"sports\\\": sports,\\n}\";\n",
       "                var nbb_formatted_code = \"# Combining separate lists into one dictionary\\nknown_for_dict_17 = {\\n    \\\"social\\\": social,\\n    \\\"spiritual\\\": spiritual,\\n    \\\"academia_humanities\\\": academia_humanities,\\n    \\\"business_farming\\\": business_farming,\\n    \\\"sciences\\\": sciences,\\n    \\\"politics_govt_law\\\": politics_govt_law,\\n    \\\"law_enf_military_operator\\\": law_enf_military_operator,\\n    \\\"crime\\\": crime,\\n    \\\"event_record_other\\\": event_record_other,\\n    \\\"other_species\\\": other_species,\\n    \\\"arts\\\": arts,\\n    \\\"sports\\\": sports,\\n}\";\n",
       "                var nbb_cells = Jupyter.notebook.get_cells();\n",
       "                for (var i = 0; i < nbb_cells.length; ++i) {\n",
       "                    if (nbb_cells[i].input_prompt_number == nbb_cell_id) {\n",
       "                        if (nbb_cells[i].get_text() == nbb_unformatted_code) {\n",
       "                             nbb_cells[i].set_text(nbb_formatted_code);\n",
       "                        }\n",
       "                        break;\n",
       "                    }\n",
       "                }\n",
       "            }, 500);\n",
       "            "
      ],
      "text/plain": [
       "<IPython.core.display.Javascript object>"
      ]
     },
     "metadata": {},
     "output_type": "display_data"
    }
   ],
   "source": [
    "# Combining separate lists into one dictionary\n",
    "known_for_dict_17 = {\n",
    "    \"social\": social,\n",
    "    \"spiritual\": spiritual,\n",
    "    \"academia_humanities\": academia_humanities,\n",
    "    \"business_farming\": business_farming,\n",
    "    \"sciences\": sciences,\n",
    "    \"politics_govt_law\": politics_govt_law,\n",
    "    \"law_enf_military_operator\": law_enf_military_operator,\n",
    "    \"crime\": crime,\n",
    "    \"event_record_other\": event_record_other,\n",
    "    \"other_species\": other_species,\n",
    "    \"arts\": arts,\n",
    "    \"sports\": sports,\n",
    "}"
   ]
  },
  {
   "cell_type": "markdown",
   "id": "6704dbd2",
   "metadata": {},
   "source": [
    "#### Extracting Category from `info_2`"
   ]
  },
  {
   "cell_type": "code",
   "execution_count": 49,
   "id": "32f4fd36",
   "metadata": {},
   "outputs": [
    {
     "name": "stdout",
     "output_type": "stream",
     "text": [
      "CPU times: total: 2min 28s\n",
      "Wall time: 2min 28s\n"
     ]
    },
    {
     "data": {
      "text/html": [
       "<div>\n",
       "<style scoped>\n",
       "    .dataframe tbody tr th:only-of-type {\n",
       "        vertical-align: middle;\n",
       "    }\n",
       "\n",
       "    .dataframe tbody tr th {\n",
       "        vertical-align: top;\n",
       "    }\n",
       "\n",
       "    .dataframe thead th {\n",
       "        text-align: right;\n",
       "    }\n",
       "</style>\n",
       "<table border=\"1\" class=\"dataframe\">\n",
       "  <thead>\n",
       "    <tr style=\"text-align: right;\">\n",
       "      <th></th>\n",
       "      <th>day</th>\n",
       "      <th>name</th>\n",
       "      <th>info</th>\n",
       "      <th>link</th>\n",
       "      <th>num_references</th>\n",
       "      <th>year</th>\n",
       "      <th>month</th>\n",
       "      <th>info_parenth</th>\n",
       "      <th>info_1</th>\n",
       "      <th>info_2</th>\n",
       "      <th>info_3</th>\n",
       "      <th>info_4</th>\n",
       "      <th>info_5</th>\n",
       "      <th>info_6</th>\n",
       "      <th>info_7</th>\n",
       "      <th>info_8</th>\n",
       "      <th>info_9</th>\n",
       "      <th>info_10</th>\n",
       "      <th>info_11</th>\n",
       "      <th>age</th>\n",
       "      <th>cause_of_death</th>\n",
       "      <th>place_1</th>\n",
       "      <th>place_2</th>\n",
       "      <th>info_parenth_copy</th>\n",
       "      <th>log_num_references</th>\n",
       "      <th>sciences</th>\n",
       "      <th>social</th>\n",
       "      <th>spiritual</th>\n",
       "      <th>academia_humanities</th>\n",
       "      <th>business_farming</th>\n",
       "      <th>arts</th>\n",
       "      <th>sports</th>\n",
       "      <th>law_enf_military_operator</th>\n",
       "      <th>politics_govt_law</th>\n",
       "      <th>crime</th>\n",
       "      <th>event_record_other</th>\n",
       "      <th>other_species</th>\n",
       "      <th>num_categories</th>\n",
       "    </tr>\n",
       "  </thead>\n",
       "  <tbody>\n",
       "    <tr>\n",
       "      <th>24840</th>\n",
       "      <td>22</td>\n",
       "      <td>Diane Chenery-Wickens</td>\n",
       "      <td>, 48, British television make-up artist, murder .</td>\n",
       "      <td>https://en.wikipedia.org/wiki/Diane_Chenery-Wickens</td>\n",
       "      <td>12</td>\n",
       "      <td>2008</td>\n",
       "      <td>January</td>\n",
       "      <td>last seen alive on this date</td>\n",
       "      <td>None</td>\n",
       "      <td></td>\n",
       "      <td>murder</td>\n",
       "      <td>None</td>\n",
       "      <td>None</td>\n",
       "      <td>None</td>\n",
       "      <td>None</td>\n",
       "      <td>None</td>\n",
       "      <td>None</td>\n",
       "      <td>None</td>\n",
       "      <td>None</td>\n",
       "      <td>48.0</td>\n",
       "      <td>None</td>\n",
       "      <td>United Kingdom of Great Britain and Northern Ireland</td>\n",
       "      <td>None</td>\n",
       "      <td>last seen alive on this date</td>\n",
       "      <td>2.564949</td>\n",
       "      <td>0</td>\n",
       "      <td>0</td>\n",
       "      <td>0</td>\n",
       "      <td>0</td>\n",
       "      <td>0</td>\n",
       "      <td>1</td>\n",
       "      <td>0</td>\n",
       "      <td>0</td>\n",
       "      <td>0</td>\n",
       "      <td>0</td>\n",
       "      <td>0</td>\n",
       "      <td>0</td>\n",
       "      <td>1</td>\n",
       "    </tr>\n",
       "    <tr>\n",
       "      <th>75883</th>\n",
       "      <td>22</td>\n",
       "      <td>Leon Marr</td>\n",
       "      <td>, 71, Canadian film director .</td>\n",
       "      <td>https://en.wikipedia.org/wiki/Leon_Marr</td>\n",
       "      <td>9</td>\n",
       "      <td>2019</td>\n",
       "      <td>July</td>\n",
       "      <td></td>\n",
       "      <td>None</td>\n",
       "      <td></td>\n",
       "      <td>None</td>\n",
       "      <td>None</td>\n",
       "      <td>None</td>\n",
       "      <td>None</td>\n",
       "      <td>None</td>\n",
       "      <td>None</td>\n",
       "      <td>None</td>\n",
       "      <td>None</td>\n",
       "      <td>None</td>\n",
       "      <td>71.0</td>\n",
       "      <td>None</td>\n",
       "      <td>Canada</td>\n",
       "      <td>None</td>\n",
       "      <td></td>\n",
       "      <td>2.302585</td>\n",
       "      <td>0</td>\n",
       "      <td>0</td>\n",
       "      <td>0</td>\n",
       "      <td>0</td>\n",
       "      <td>0</td>\n",
       "      <td>1</td>\n",
       "      <td>0</td>\n",
       "      <td>0</td>\n",
       "      <td>0</td>\n",
       "      <td>0</td>\n",
       "      <td>0</td>\n",
       "      <td>0</td>\n",
       "      <td>1</td>\n",
       "    </tr>\n",
       "  </tbody>\n",
       "</table>\n",
       "</div>"
      ],
      "text/plain": [
       "      day                   name  \\\n",
       "24840  22  Diane Chenery-Wickens   \n",
       "75883  22              Leon Marr   \n",
       "\n",
       "                                                    info  \\\n",
       "24840  , 48, British television make-up artist, murder .   \n",
       "75883                     , 71, Canadian film director .   \n",
       "\n",
       "                                                      link  num_references  \\\n",
       "24840  https://en.wikipedia.org/wiki/Diane_Chenery-Wickens              12   \n",
       "75883              https://en.wikipedia.org/wiki/Leon_Marr               9   \n",
       "\n",
       "       year    month                  info_parenth info_1 info_2  info_3  \\\n",
       "24840  2008  January  last seen alive on this date   None         murder   \n",
       "75883  2019     July                                 None           None   \n",
       "\n",
       "      info_4 info_5 info_6 info_7 info_8 info_9 info_10 info_11   age  \\\n",
       "24840   None   None   None   None   None   None    None    None  48.0   \n",
       "75883   None   None   None   None   None   None    None    None  71.0   \n",
       "\n",
       "      cause_of_death                                               place_1  \\\n",
       "24840           None  United Kingdom of Great Britain and Northern Ireland   \n",
       "75883           None                                                Canada   \n",
       "\n",
       "      place_2             info_parenth_copy  log_num_references  sciences  \\\n",
       "24840    None  last seen alive on this date            2.564949         0   \n",
       "75883    None                                          2.302585         0   \n",
       "\n",
       "       social  spiritual  academia_humanities  business_farming  arts  sports  \\\n",
       "24840       0          0                    0                 0     1       0   \n",
       "75883       0          0                    0                 0     1       0   \n",
       "\n",
       "       law_enf_military_operator  politics_govt_law  crime  \\\n",
       "24840                          0                  0      0   \n",
       "75883                          0                  0      0   \n",
       "\n",
       "       event_record_other  other_species  num_categories  \n",
       "24840                   0              0               1  \n",
       "75883                   0              0               1  "
      ]
     },
     "execution_count": 49,
     "metadata": {},
     "output_type": "execute_result"
    },
    {
     "data": {
      "application/javascript": [
       "\n",
       "            setTimeout(function() {\n",
       "                var nbb_cell_id = 49;\n",
       "                var nbb_unformatted_code = \"%%time\\n\\n# Dictionary version\\nsearch_dict = known_for_dict_17\\n\\n# Column to check\\ncolumn = 'info_2'\\n\\n# Dataframe\\ndataframe = df[column].notna()\\n\\n# For loop to find role in column and extract it as category\\nfor category, category_lst in search_dict.items():\\n    for role in category_lst:\\n        for index in dataframe.index:\\n            item = df.loc[index, column]\\n            if item:\\n                if role in item:\\n                    df.loc[index, category] = 1\\n                    df.loc[index, column] = item.replace(role, '').strip()\\n\\n# Checking a sample of rows\\ndf[df['arts'] ==1].sample(2)\";\n",
       "                var nbb_formatted_code = \"%%time\\n\\n# Dictionary version\\nsearch_dict = known_for_dict_17\\n\\n# Column to check\\ncolumn = 'info_2'\\n\\n# Dataframe\\ndataframe = df[column].notna()\\n\\n# For loop to find role in column and extract it as category\\nfor category, category_lst in search_dict.items():\\n    for role in category_lst:\\n        for index in dataframe.index:\\n            item = df.loc[index, column]\\n            if item:\\n                if role in item:\\n                    df.loc[index, category] = 1\\n                    df.loc[index, column] = item.replace(role, '').strip()\\n\\n# Checking a sample of rows\\ndf[df['arts'] ==1].sample(2)\";\n",
       "                var nbb_cells = Jupyter.notebook.get_cells();\n",
       "                for (var i = 0; i < nbb_cells.length; ++i) {\n",
       "                    if (nbb_cells[i].input_prompt_number == nbb_cell_id) {\n",
       "                        if (nbb_cells[i].get_text() == nbb_unformatted_code) {\n",
       "                             nbb_cells[i].set_text(nbb_formatted_code);\n",
       "                        }\n",
       "                        break;\n",
       "                    }\n",
       "                }\n",
       "            }, 500);\n",
       "            "
      ],
      "text/plain": [
       "<IPython.core.display.Javascript object>"
      ]
     },
     "metadata": {},
     "output_type": "display_data"
    }
   ],
   "source": [
    "%%time\n",
    "\n",
    "# Dictionary version\n",
    "search_dict = known_for_dict_17\n",
    "\n",
    "# Column to check\n",
    "column = 'info_2'\n",
    "\n",
    "# Dataframe\n",
    "dataframe = df[column].notna()\n",
    "\n",
    "# For loop to find role in column and extract it as category\n",
    "for category, category_lst in search_dict.items():\n",
    "    for role in category_lst:\n",
    "        for index in dataframe.index:\n",
    "            item = df.loc[index, column]\n",
    "            if item:\n",
    "                if role in item:\n",
    "                    df.loc[index, category] = 1\n",
    "                    df.loc[index, column] = item.replace(role, '').strip()\n",
    "\n",
    "# Checking a sample of rows\n",
    "df[df['arts'] ==1].sample(2)"
   ]
  },
  {
   "cell_type": "markdown",
   "id": "64dc2e50",
   "metadata": {},
   "source": [
    "#### Checking the Number of Rows without a First Category"
   ]
  },
  {
   "cell_type": "code",
   "execution_count": 50,
   "id": "05f6e24e",
   "metadata": {},
   "outputs": [
    {
     "name": "stdout",
     "output_type": "stream",
     "text": [
      "There are 49640 entries without any known_for category.\n"
     ]
    },
    {
     "data": {
      "application/javascript": [
       "\n",
       "            setTimeout(function() {\n",
       "                var nbb_cell_id = 50;\n",
       "                var nbb_unformatted_code = \"#### Checking the number of rows without a first category\\ndf[\\\"num_categories\\\"] = df[known_for_dict_17.keys()].sum(axis=1)\\n\\nprint(\\n    f'There are {len(df[df[\\\"num_categories\\\"]==0])} entries without any known_for category.'\\n)\";\n",
       "                var nbb_formatted_code = \"#### Checking the number of rows without a first category\\ndf[\\\"num_categories\\\"] = df[known_for_dict_17.keys()].sum(axis=1)\\n\\nprint(\\n    f'There are {len(df[df[\\\"num_categories\\\"]==0])} entries without any known_for category.'\\n)\";\n",
       "                var nbb_cells = Jupyter.notebook.get_cells();\n",
       "                for (var i = 0; i < nbb_cells.length; ++i) {\n",
       "                    if (nbb_cells[i].input_prompt_number == nbb_cell_id) {\n",
       "                        if (nbb_cells[i].get_text() == nbb_unformatted_code) {\n",
       "                             nbb_cells[i].set_text(nbb_formatted_code);\n",
       "                        }\n",
       "                        break;\n",
       "                    }\n",
       "                }\n",
       "            }, 500);\n",
       "            "
      ],
      "text/plain": [
       "<IPython.core.display.Javascript object>"
      ]
     },
     "metadata": {},
     "output_type": "display_data"
    }
   ],
   "source": [
    "#### Checking the number of rows without a first category\n",
    "df[\"num_categories\"] = df[known_for_dict_17.keys()].sum(axis=1)\n",
    "\n",
    "print(\n",
    "    f'There are {len(df[df[\"num_categories\"]==0])} entries without any known_for category.'\n",
    ")"
   ]
  },
  {
   "cell_type": "markdown",
   "id": "2f5304ae",
   "metadata": {},
   "source": [
    "#### Observations:\n",
    "- We will proceed to build `known_for_dict_18` for the next iteration."
   ]
  },
  {
   "cell_type": "markdown",
   "id": "70875d8b",
   "metadata": {},
   "source": [
    "#### Finding `known_for` Roles in `info_2`"
   ]
  },
  {
   "cell_type": "code",
   "execution_count": 52,
   "id": "e5a02579",
   "metadata": {},
   "outputs": [
    {
     "data": {
      "application/javascript": [
       "\n",
       "            setTimeout(function() {\n",
       "                var nbb_cell_id = 52;\n",
       "                var nbb_unformatted_code = \"# Obtaining values for column and their counts\\nroles_list = df[\\\"info_2\\\"].value_counts(ascending=True).index.tolist()\";\n",
       "                var nbb_formatted_code = \"# Obtaining values for column and their counts\\nroles_list = df[\\\"info_2\\\"].value_counts(ascending=True).index.tolist()\";\n",
       "                var nbb_cells = Jupyter.notebook.get_cells();\n",
       "                for (var i = 0; i < nbb_cells.length; ++i) {\n",
       "                    if (nbb_cells[i].input_prompt_number == nbb_cell_id) {\n",
       "                        if (nbb_cells[i].get_text() == nbb_unformatted_code) {\n",
       "                             nbb_cells[i].set_text(nbb_formatted_code);\n",
       "                        }\n",
       "                        break;\n",
       "                    }\n",
       "                }\n",
       "            }, 500);\n",
       "            "
      ],
      "text/plain": [
       "<IPython.core.display.Javascript object>"
      ]
     },
     "metadata": {},
     "output_type": "display_data"
    }
   ],
   "source": [
    "# Obtaining values for column and their counts\n",
    "roles_list = df[\"info_2\"].value_counts(ascending=True).index.tolist()"
   ]
  },
  {
   "cell_type": "code",
   "execution_count": 238,
   "id": "7e075bf4",
   "metadata": {},
   "outputs": [
    {
     "data": {
      "application/javascript": [
       "\n",
       "            setTimeout(function() {\n",
       "                var nbb_cell_id = 238;\n",
       "                var nbb_unformatted_code = \"# # Code to check each value\\n# roles_list.pop()\";\n",
       "                var nbb_formatted_code = \"# # Code to check each value\\n# roles_list.pop()\";\n",
       "                var nbb_cells = Jupyter.notebook.get_cells();\n",
       "                for (var i = 0; i < nbb_cells.length; ++i) {\n",
       "                    if (nbb_cells[i].input_prompt_number == nbb_cell_id) {\n",
       "                        if (nbb_cells[i].get_text() == nbb_unformatted_code) {\n",
       "                             nbb_cells[i].set_text(nbb_formatted_code);\n",
       "                        }\n",
       "                        break;\n",
       "                    }\n",
       "                }\n",
       "            }, 500);\n",
       "            "
      ],
      "text/plain": [
       "<IPython.core.display.Javascript object>"
      ]
     },
     "metadata": {},
     "output_type": "display_data"
    }
   ],
   "source": [
    "# # Code to check each value\n",
    "# roles_list.pop()"
   ]
  },
  {
   "cell_type": "code",
   "execution_count": 237,
   "id": "99e33573",
   "metadata": {},
   "outputs": [
    {
     "data": {
      "application/javascript": [
       "\n",
       "            setTimeout(function() {\n",
       "                var nbb_cell_id = 237;\n",
       "                var nbb_unformatted_code = \"# # Create specific_roles_list for above popped value\\n# specific_roles_list = (\\n#     df.loc[\\n#         [index for index in df.index if \\\"diplomat\\\" in df.loc[index, \\\"info\\\"]], \\\"info_2\\\",\\n#     ]\\n#     .value_counts()\\n#     .index.tolist()\\n# )\";\n",
       "                var nbb_formatted_code = \"# # Create specific_roles_list for above popped value\\n# specific_roles_list = (\\n#     df.loc[\\n#         [index for index in df.index if \\\"diplomat\\\" in df.loc[index, \\\"info\\\"]], \\\"info_2\\\",\\n#     ]\\n#     .value_counts()\\n#     .index.tolist()\\n# )\";\n",
       "                var nbb_cells = Jupyter.notebook.get_cells();\n",
       "                for (var i = 0; i < nbb_cells.length; ++i) {\n",
       "                    if (nbb_cells[i].input_prompt_number == nbb_cell_id) {\n",
       "                        if (nbb_cells[i].get_text() == nbb_unformatted_code) {\n",
       "                             nbb_cells[i].set_text(nbb_formatted_code);\n",
       "                        }\n",
       "                        break;\n",
       "                    }\n",
       "                }\n",
       "            }, 500);\n",
       "            "
      ],
      "text/plain": [
       "<IPython.core.display.Javascript object>"
      ]
     },
     "metadata": {},
     "output_type": "display_data"
    }
   ],
   "source": [
    "# # Create specific_roles_list for above popped value\n",
    "# specific_roles_list = (\n",
    "#     df.loc[\n",
    "#         [index for index in df.index if \"diplomat\" in df.loc[index, \"info\"]], \"info_2\",\n",
    "#     ]\n",
    "#     .value_counts()\n",
    "#     .index.tolist()\n",
    "# )"
   ]
  },
  {
   "cell_type": "code",
   "execution_count": 235,
   "id": "4c54231c",
   "metadata": {},
   "outputs": [
    {
     "data": {
      "application/javascript": [
       "\n",
       "            setTimeout(function() {\n",
       "                var nbb_cell_id = 235;\n",
       "                var nbb_unformatted_code = \"# # Code to check each specific value\\n# specific_roles_list.pop()\";\n",
       "                var nbb_formatted_code = \"# # Code to check each specific value\\n# specific_roles_list.pop()\";\n",
       "                var nbb_cells = Jupyter.notebook.get_cells();\n",
       "                for (var i = 0; i < nbb_cells.length; ++i) {\n",
       "                    if (nbb_cells[i].input_prompt_number == nbb_cell_id) {\n",
       "                        if (nbb_cells[i].get_text() == nbb_unformatted_code) {\n",
       "                             nbb_cells[i].set_text(nbb_formatted_code);\n",
       "                        }\n",
       "                        break;\n",
       "                    }\n",
       "                }\n",
       "            }, 500);\n",
       "            "
      ],
      "text/plain": [
       "<IPython.core.display.Javascript object>"
      ]
     },
     "metadata": {},
     "output_type": "display_data"
    }
   ],
   "source": [
    "# # Code to check each specific value\n",
    "# specific_roles_list.pop()"
   ]
  },
  {
   "cell_type": "code",
   "execution_count": 236,
   "id": "a7785336",
   "metadata": {},
   "outputs": [
    {
     "data": {
      "application/javascript": [
       "\n",
       "            setTimeout(function() {\n",
       "                var nbb_cell_id = 236;\n",
       "                var nbb_unformatted_code = \"# # Example code to quick-screen values that may overlap categories\\n# df.loc[\\n#     [index for index in df.index if \\\"and kidnapping survivor\\\" in df.loc[index, \\\"info\\\"]]\\n# ]\";\n",
       "                var nbb_formatted_code = \"# # Example code to quick-screen values that may overlap categories\\n# df.loc[\\n#     [index for index in df.index if \\\"and kidnapping survivor\\\" in df.loc[index, \\\"info\\\"]]\\n# ]\";\n",
       "                var nbb_cells = Jupyter.notebook.get_cells();\n",
       "                for (var i = 0; i < nbb_cells.length; ++i) {\n",
       "                    if (nbb_cells[i].input_prompt_number == nbb_cell_id) {\n",
       "                        if (nbb_cells[i].get_text() == nbb_unformatted_code) {\n",
       "                             nbb_cells[i].set_text(nbb_formatted_code);\n",
       "                        }\n",
       "                        break;\n",
       "                    }\n",
       "                }\n",
       "            }, 500);\n",
       "            "
      ],
      "text/plain": [
       "<IPython.core.display.Javascript object>"
      ]
     },
     "metadata": {},
     "output_type": "display_data"
    }
   ],
   "source": [
    "# # Example code to quick-screen values that may overlap categories\n",
    "# df.loc[\n",
    "#     [index for index in df.index if \"and kidnapping survivor\" in df.loc[index, \"info\"]]\n",
    "# ]"
   ]
  },
  {
   "cell_type": "code",
   "execution_count": null,
   "id": "f2cf7051",
   "metadata": {},
   "outputs": [],
   "source": [
    "# # Example code to quick-screen values that may overlap categories\n",
    "# df.loc[\n",
    "#     [\n",
    "#         index\n",
    "#         for index in df.index\n",
    "#         if \"outlaw country music singer songwriter\" in df.loc[index, \"info\"]\n",
    "#     ]\n",
    "# ]"
   ]
  },
  {
   "cell_type": "code",
   "execution_count": null,
   "id": "f95fb1c1",
   "metadata": {},
   "outputs": [],
   "source": [
    "# # Example code to quick-check a specific entry\n",
    "# df[df[\"info_2\"] == \"outlaw country music singer songwriter\"]"
   ]
  },
  {
   "cell_type": "markdown",
   "id": "3511f2ff",
   "metadata": {},
   "source": [
    "#### Creating Lists for Each `known_for` Category"
   ]
  },
  {
   "cell_type": "code",
   "execution_count": 239,
   "id": "acef6c60",
   "metadata": {},
   "outputs": [
    {
     "data": {
      "application/javascript": [
       "\n",
       "            setTimeout(function() {\n",
       "                var nbb_cell_id = 239;\n",
       "                var nbb_unformatted_code = \"# Creating lists for each category\\npolitics_govt_law = [\\n    'environmentalist and diplomat',\\n    'husband of Queen Beatrix of the and diplomat',\\n    'diplomat and employee of Agency for International Development',\\n    'Foreign Service Officer and diplomat',\\n    'diplomat and Apostolic Nuncio to the Republic of',\\n    'diplomat and Cold War arms negotiator',\\n    'diplomat and foreign minister',\\n    'diplomat and ambassador to Arabia',\\n    'federal judge and diplomat',\\n    'first female diplomat and ambassador',\\n    'aristocrat and diplomat',\\n    'diplomatic clerk',\\n    'diplomat and Governor of New South',\\n    'diplomatand ambassador',\\n    'diplomat and State Department official',\\n    'diplomat and High Commissioner of',\\n    'diplomat with the Department of State',\\n    'diplomat and Minister of Foreign Affairs',\\n    'diplomat and st Secretary General of UNCTAD',\\n    'diplomat and defector',\\n    'and diplomat for the Holy See',\\n    'diplomat and Medal of Freedom recipient',\\n    'diplomat and attorney',\\n    'career diplomat',\\n    'government diplomat and governor',\\n    'social advocate and diplomat',\\n    'diplomat and government official',\\n    'political aide and diplomat',\\n    'peer and diplomat',\\n    'diplomat and courtier',\\n    'diplomat and life peer',\\n    'diplomat and independentism leader',\\n    'political scientist and diplomat',\\n    'ambassador and diplomat',\\n    'diplomat and diplomatic analyst',\\n    'Chickasaw Nation diplomat',\\n    'diplomat and economist',\\n    'diplomat and adviser',\\n    'political  diplomat',\\n    'diplomat and legal',\\n    'political figure and diplomat',\\n    'diplomat and peer',\\n    'diplomat and activist',\\n    'attorney and diplomat',\\n    'diplomat and political analyst',\\n    'jurist and diplomat',\\n    'diplomat and jurist',\\n    'diplomat and civil servant',\\n    'diplomat and aristocrat',\\n    'diplomat and colonial administrator',\\n    'diplomat and political scientist',\\n    'diplomat and lawyer',\\n    'civil servant and diplomat',\\n    'diplomat and public servant',\\n    'economist and diplomat',\\n    'lawyer and diplomat',\\n    'public servant and diplomat',\\n    'diplomat and ambassador',\\n    'diplomat serving in',\\n    'diplomat Ambassador to',\\n    'and diplomatic advisor',\\n    'and diplomat in the',\\n    'diplomat to',\\n    'diplomat and',\\n    'and diplomat',\\n    'diplomat'\\n]\\n\\narts = []\\nsports = [\\n\\n\\n]\\nsciences = []\\n\\nbusiness_farming = []\\nacademia_humanities = []\\nlaw_enf_military_operator = []\\nspiritual = []\\nsocial = []\\ncrime = []\\nevent_record_other = [\\n    'and kidnapping survivor'\\n]\\nother_species = []\";\n",
       "                var nbb_formatted_code = \"# Creating lists for each category\\npolitics_govt_law = [\\n    \\\"environmentalist and diplomat\\\",\\n    \\\"husband of Queen Beatrix of the and diplomat\\\",\\n    \\\"diplomat and employee of Agency for International Development\\\",\\n    \\\"Foreign Service Officer and diplomat\\\",\\n    \\\"diplomat and Apostolic Nuncio to the Republic of\\\",\\n    \\\"diplomat and Cold War arms negotiator\\\",\\n    \\\"diplomat and foreign minister\\\",\\n    \\\"diplomat and ambassador to Arabia\\\",\\n    \\\"federal judge and diplomat\\\",\\n    \\\"first female diplomat and ambassador\\\",\\n    \\\"aristocrat and diplomat\\\",\\n    \\\"diplomatic clerk\\\",\\n    \\\"diplomat and Governor of New South\\\",\\n    \\\"diplomatand ambassador\\\",\\n    \\\"diplomat and State Department official\\\",\\n    \\\"diplomat and High Commissioner of\\\",\\n    \\\"diplomat with the Department of State\\\",\\n    \\\"diplomat and Minister of Foreign Affairs\\\",\\n    \\\"diplomat and st Secretary General of UNCTAD\\\",\\n    \\\"diplomat and defector\\\",\\n    \\\"and diplomat for the Holy See\\\",\\n    \\\"diplomat and Medal of Freedom recipient\\\",\\n    \\\"diplomat and attorney\\\",\\n    \\\"career diplomat\\\",\\n    \\\"government diplomat and governor\\\",\\n    \\\"social advocate and diplomat\\\",\\n    \\\"diplomat and government official\\\",\\n    \\\"political aide and diplomat\\\",\\n    \\\"peer and diplomat\\\",\\n    \\\"diplomat and courtier\\\",\\n    \\\"diplomat and life peer\\\",\\n    \\\"diplomat and independentism leader\\\",\\n    \\\"political scientist and diplomat\\\",\\n    \\\"ambassador and diplomat\\\",\\n    \\\"diplomat and diplomatic analyst\\\",\\n    \\\"Chickasaw Nation diplomat\\\",\\n    \\\"diplomat and economist\\\",\\n    \\\"diplomat and adviser\\\",\\n    \\\"political  diplomat\\\",\\n    \\\"diplomat and legal\\\",\\n    \\\"political figure and diplomat\\\",\\n    \\\"diplomat and peer\\\",\\n    \\\"diplomat and activist\\\",\\n    \\\"attorney and diplomat\\\",\\n    \\\"diplomat and political analyst\\\",\\n    \\\"jurist and diplomat\\\",\\n    \\\"diplomat and jurist\\\",\\n    \\\"diplomat and civil servant\\\",\\n    \\\"diplomat and aristocrat\\\",\\n    \\\"diplomat and colonial administrator\\\",\\n    \\\"diplomat and political scientist\\\",\\n    \\\"diplomat and lawyer\\\",\\n    \\\"civil servant and diplomat\\\",\\n    \\\"diplomat and public servant\\\",\\n    \\\"economist and diplomat\\\",\\n    \\\"lawyer and diplomat\\\",\\n    \\\"public servant and diplomat\\\",\\n    \\\"diplomat and ambassador\\\",\\n    \\\"diplomat serving in\\\",\\n    \\\"diplomat Ambassador to\\\",\\n    \\\"and diplomatic advisor\\\",\\n    \\\"and diplomat in the\\\",\\n    \\\"diplomat to\\\",\\n    \\\"diplomat and\\\",\\n    \\\"and diplomat\\\",\\n    \\\"diplomat\\\",\\n]\\n\\narts = []\\nsports = []\\nsciences = []\\n\\nbusiness_farming = []\\nacademia_humanities = []\\nlaw_enf_military_operator = []\\nspiritual = []\\nsocial = []\\ncrime = []\\nevent_record_other = [\\\"and kidnapping survivor\\\"]\\nother_species = []\";\n",
       "                var nbb_cells = Jupyter.notebook.get_cells();\n",
       "                for (var i = 0; i < nbb_cells.length; ++i) {\n",
       "                    if (nbb_cells[i].input_prompt_number == nbb_cell_id) {\n",
       "                        if (nbb_cells[i].get_text() == nbb_unformatted_code) {\n",
       "                             nbb_cells[i].set_text(nbb_formatted_code);\n",
       "                        }\n",
       "                        break;\n",
       "                    }\n",
       "                }\n",
       "            }, 500);\n",
       "            "
      ],
      "text/plain": [
       "<IPython.core.display.Javascript object>"
      ]
     },
     "metadata": {},
     "output_type": "display_data"
    }
   ],
   "source": [
    "# Creating lists for each category\n",
    "politics_govt_law = [\n",
    "    \"environmentalist and diplomat\",\n",
    "    \"husband of Queen Beatrix of the and diplomat\",\n",
    "    \"diplomat and employee of Agency for International Development\",\n",
    "    \"Foreign Service Officer and diplomat\",\n",
    "    \"diplomat and Apostolic Nuncio to the Republic of\",\n",
    "    \"diplomat and Cold War arms negotiator\",\n",
    "    \"diplomat and foreign minister\",\n",
    "    \"diplomat and ambassador to Arabia\",\n",
    "    \"federal judge and diplomat\",\n",
    "    \"first female diplomat and ambassador\",\n",
    "    \"aristocrat and diplomat\",\n",
    "    \"diplomatic clerk\",\n",
    "    \"diplomat and Governor of New South\",\n",
    "    \"diplomatand ambassador\",\n",
    "    \"diplomat and State Department official\",\n",
    "    \"diplomat and High Commissioner of\",\n",
    "    \"diplomat with the Department of State\",\n",
    "    \"diplomat and Minister of Foreign Affairs\",\n",
    "    \"diplomat and st Secretary General of UNCTAD\",\n",
    "    \"diplomat and defector\",\n",
    "    \"and diplomat for the Holy See\",\n",
    "    \"diplomat and Medal of Freedom recipient\",\n",
    "    \"diplomat and attorney\",\n",
    "    \"career diplomat\",\n",
    "    \"government diplomat and governor\",\n",
    "    \"social advocate and diplomat\",\n",
    "    \"diplomat and government official\",\n",
    "    \"political aide and diplomat\",\n",
    "    \"peer and diplomat\",\n",
    "    \"diplomat and courtier\",\n",
    "    \"diplomat and life peer\",\n",
    "    \"diplomat and independentism leader\",\n",
    "    \"political scientist and diplomat\",\n",
    "    \"ambassador and diplomat\",\n",
    "    \"diplomat and diplomatic analyst\",\n",
    "    \"Chickasaw Nation diplomat\",\n",
    "    \"diplomat and economist\",\n",
    "    \"diplomat and adviser\",\n",
    "    \"political  diplomat\",\n",
    "    \"diplomat and legal\",\n",
    "    \"political figure and diplomat\",\n",
    "    \"diplomat and peer\",\n",
    "    \"diplomat and activist\",\n",
    "    \"attorney and diplomat\",\n",
    "    \"diplomat and political analyst\",\n",
    "    \"jurist and diplomat\",\n",
    "    \"diplomat and jurist\",\n",
    "    \"diplomat and civil servant\",\n",
    "    \"diplomat and aristocrat\",\n",
    "    \"diplomat and colonial administrator\",\n",
    "    \"diplomat and political scientist\",\n",
    "    \"diplomat and lawyer\",\n",
    "    \"civil servant and diplomat\",\n",
    "    \"diplomat and public servant\",\n",
    "    \"economist and diplomat\",\n",
    "    \"lawyer and diplomat\",\n",
    "    \"public servant and diplomat\",\n",
    "    \"diplomat and ambassador\",\n",
    "    \"diplomat serving in\",\n",
    "    \"diplomat Ambassador to\",\n",
    "    \"and diplomatic advisor\",\n",
    "    \"and diplomat in the\",\n",
    "    \"diplomat to\",\n",
    "    \"diplomat and\",\n",
    "    \"and diplomat\",\n",
    "    \"diplomat\",\n",
    "]\n",
    "\n",
    "arts = []\n",
    "sports = []\n",
    "sciences = []\n",
    "\n",
    "business_farming = []\n",
    "academia_humanities = []\n",
    "law_enf_military_operator = []\n",
    "spiritual = []\n",
    "social = []\n",
    "crime = []\n",
    "event_record_other = [\"and kidnapping survivor\"]\n",
    "other_species = []"
   ]
  },
  {
   "cell_type": "markdown",
   "id": "e1715c52",
   "metadata": {},
   "source": [
    "#### Creating `known_for_dict_7` Dictionary of Category Keys and Specific Role Lists of Values"
   ]
  },
  {
   "cell_type": "code",
   "execution_count": 240,
   "id": "1d98b25d",
   "metadata": {},
   "outputs": [
    {
     "data": {
      "application/javascript": [
       "\n",
       "            setTimeout(function() {\n",
       "                var nbb_cell_id = 240;\n",
       "                var nbb_unformatted_code = \"# Combining separate lists into one dictionary\\nknown_for_dict_18 = {\\n    \\\"social\\\": social,\\n    \\\"spiritual\\\": spiritual,\\n    \\\"academia_humanities\\\": academia_humanities,\\n    \\\"business_farming\\\": business_farming,\\n    \\\"sciences\\\": sciences,\\n    \\\"politics_govt_law\\\": politics_govt_law,\\n    \\\"law_enf_military_operator\\\": law_enf_military_operator,\\n    \\\"crime\\\": crime,\\n    \\\"event_record_other\\\": event_record_other,\\n    \\\"other_species\\\": other_species,\\n    \\\"arts\\\": arts,\\n    \\\"sports\\\": sports,\\n}\";\n",
       "                var nbb_formatted_code = \"# Combining separate lists into one dictionary\\nknown_for_dict_18 = {\\n    \\\"social\\\": social,\\n    \\\"spiritual\\\": spiritual,\\n    \\\"academia_humanities\\\": academia_humanities,\\n    \\\"business_farming\\\": business_farming,\\n    \\\"sciences\\\": sciences,\\n    \\\"politics_govt_law\\\": politics_govt_law,\\n    \\\"law_enf_military_operator\\\": law_enf_military_operator,\\n    \\\"crime\\\": crime,\\n    \\\"event_record_other\\\": event_record_other,\\n    \\\"other_species\\\": other_species,\\n    \\\"arts\\\": arts,\\n    \\\"sports\\\": sports,\\n}\";\n",
       "                var nbb_cells = Jupyter.notebook.get_cells();\n",
       "                for (var i = 0; i < nbb_cells.length; ++i) {\n",
       "                    if (nbb_cells[i].input_prompt_number == nbb_cell_id) {\n",
       "                        if (nbb_cells[i].get_text() == nbb_unformatted_code) {\n",
       "                             nbb_cells[i].set_text(nbb_formatted_code);\n",
       "                        }\n",
       "                        break;\n",
       "                    }\n",
       "                }\n",
       "            }, 500);\n",
       "            "
      ],
      "text/plain": [
       "<IPython.core.display.Javascript object>"
      ]
     },
     "metadata": {},
     "output_type": "display_data"
    }
   ],
   "source": [
    "# Combining separate lists into one dictionary\n",
    "known_for_dict_18 = {\n",
    "    \"social\": social,\n",
    "    \"spiritual\": spiritual,\n",
    "    \"academia_humanities\": academia_humanities,\n",
    "    \"business_farming\": business_farming,\n",
    "    \"sciences\": sciences,\n",
    "    \"politics_govt_law\": politics_govt_law,\n",
    "    \"law_enf_military_operator\": law_enf_military_operator,\n",
    "    \"crime\": crime,\n",
    "    \"event_record_other\": event_record_other,\n",
    "    \"other_species\": other_species,\n",
    "    \"arts\": arts,\n",
    "    \"sports\": sports,\n",
    "}"
   ]
  },
  {
   "cell_type": "markdown",
   "id": "922df838",
   "metadata": {},
   "source": [
    "#### Extracting Category from `info_2`"
   ]
  },
  {
   "cell_type": "code",
   "execution_count": 242,
   "id": "2fe74f52",
   "metadata": {},
   "outputs": [
    {
     "name": "stdout",
     "output_type": "stream",
     "text": [
      "CPU times: total: 36.2 s\n",
      "Wall time: 36.2 s\n"
     ]
    },
    {
     "data": {
      "text/html": [
       "<div>\n",
       "<style scoped>\n",
       "    .dataframe tbody tr th:only-of-type {\n",
       "        vertical-align: middle;\n",
       "    }\n",
       "\n",
       "    .dataframe tbody tr th {\n",
       "        vertical-align: top;\n",
       "    }\n",
       "\n",
       "    .dataframe thead th {\n",
       "        text-align: right;\n",
       "    }\n",
       "</style>\n",
       "<table border=\"1\" class=\"dataframe\">\n",
       "  <thead>\n",
       "    <tr style=\"text-align: right;\">\n",
       "      <th></th>\n",
       "      <th>day</th>\n",
       "      <th>name</th>\n",
       "      <th>info</th>\n",
       "      <th>link</th>\n",
       "      <th>num_references</th>\n",
       "      <th>year</th>\n",
       "      <th>month</th>\n",
       "      <th>info_parenth</th>\n",
       "      <th>info_1</th>\n",
       "      <th>info_2</th>\n",
       "      <th>info_3</th>\n",
       "      <th>info_4</th>\n",
       "      <th>info_5</th>\n",
       "      <th>info_6</th>\n",
       "      <th>info_7</th>\n",
       "      <th>info_8</th>\n",
       "      <th>info_9</th>\n",
       "      <th>info_10</th>\n",
       "      <th>info_11</th>\n",
       "      <th>age</th>\n",
       "      <th>cause_of_death</th>\n",
       "      <th>place_1</th>\n",
       "      <th>place_2</th>\n",
       "      <th>info_parenth_copy</th>\n",
       "      <th>log_num_references</th>\n",
       "      <th>sciences</th>\n",
       "      <th>social</th>\n",
       "      <th>spiritual</th>\n",
       "      <th>academia_humanities</th>\n",
       "      <th>business_farming</th>\n",
       "      <th>arts</th>\n",
       "      <th>sports</th>\n",
       "      <th>law_enf_military_operator</th>\n",
       "      <th>politics_govt_law</th>\n",
       "      <th>crime</th>\n",
       "      <th>event_record_other</th>\n",
       "      <th>other_species</th>\n",
       "      <th>num_categories</th>\n",
       "    </tr>\n",
       "  </thead>\n",
       "  <tbody>\n",
       "    <tr>\n",
       "      <th>21130</th>\n",
       "      <td>14</td>\n",
       "      <td>Lennart Meri</td>\n",
       "      <td>, 76, Estonian politician, writer, film director and statesman, former President of Estonia.</td>\n",
       "      <td>https://en.wikipedia.org/wiki/Lennart_Meri</td>\n",
       "      <td>12</td>\n",
       "      <td>2006</td>\n",
       "      <td>March</td>\n",
       "      <td>None</td>\n",
       "      <td>None</td>\n",
       "      <td></td>\n",
       "      <td>writer</td>\n",
       "      <td>film director and statesman</td>\n",
       "      <td>former President of</td>\n",
       "      <td>None</td>\n",
       "      <td>None</td>\n",
       "      <td>None</td>\n",
       "      <td>None</td>\n",
       "      <td>None</td>\n",
       "      <td>None</td>\n",
       "      <td>76.0</td>\n",
       "      <td>None</td>\n",
       "      <td>Estonia</td>\n",
       "      <td>None</td>\n",
       "      <td>None</td>\n",
       "      <td>2.564949</td>\n",
       "      <td>0</td>\n",
       "      <td>0</td>\n",
       "      <td>0</td>\n",
       "      <td>0</td>\n",
       "      <td>0</td>\n",
       "      <td>0</td>\n",
       "      <td>0</td>\n",
       "      <td>0</td>\n",
       "      <td>1</td>\n",
       "      <td>0</td>\n",
       "      <td>0</td>\n",
       "      <td>0</td>\n",
       "      <td>1</td>\n",
       "    </tr>\n",
       "    <tr>\n",
       "      <th>76439</th>\n",
       "      <td>27</td>\n",
       "      <td>Rajnish Kumar</td>\n",
       "      <td>, 59, Indian politician, member of the Punjab Legislative Assembly .</td>\n",
       "      <td>https://en.wikipedia.org/wiki/Rajnish_Kumar_(politician)</td>\n",
       "      <td>8</td>\n",
       "      <td>2019</td>\n",
       "      <td>August</td>\n",
       "      <td>since</td>\n",
       "      <td>None</td>\n",
       "      <td></td>\n",
       "      <td>member of the Punjab Legislative Assembly</td>\n",
       "      <td>None</td>\n",
       "      <td>None</td>\n",
       "      <td>None</td>\n",
       "      <td>None</td>\n",
       "      <td>None</td>\n",
       "      <td>None</td>\n",
       "      <td>None</td>\n",
       "      <td>None</td>\n",
       "      <td>59.0</td>\n",
       "      <td>None</td>\n",
       "      <td>India</td>\n",
       "      <td>None</td>\n",
       "      <td>since 2012</td>\n",
       "      <td>2.197225</td>\n",
       "      <td>0</td>\n",
       "      <td>0</td>\n",
       "      <td>0</td>\n",
       "      <td>0</td>\n",
       "      <td>0</td>\n",
       "      <td>0</td>\n",
       "      <td>0</td>\n",
       "      <td>0</td>\n",
       "      <td>1</td>\n",
       "      <td>0</td>\n",
       "      <td>0</td>\n",
       "      <td>0</td>\n",
       "      <td>1</td>\n",
       "    </tr>\n",
       "  </tbody>\n",
       "</table>\n",
       "</div>"
      ],
      "text/plain": [
       "      day           name  \\\n",
       "21130  14   Lennart Meri   \n",
       "76439  27  Rajnish Kumar   \n",
       "\n",
       "                                                                                               info  \\\n",
       "21130  , 76, Estonian politician, writer, film director and statesman, former President of Estonia.   \n",
       "76439                          , 59, Indian politician, member of the Punjab Legislative Assembly .   \n",
       "\n",
       "                                                           link  \\\n",
       "21130                https://en.wikipedia.org/wiki/Lennart_Meri   \n",
       "76439  https://en.wikipedia.org/wiki/Rajnish_Kumar_(politician)   \n",
       "\n",
       "       num_references  year   month info_parenth info_1 info_2  \\\n",
       "21130              12  2006   March         None   None          \n",
       "76439               8  2019  August        since   None          \n",
       "\n",
       "                                          info_3                       info_4  \\\n",
       "21130                                     writer  film director and statesman   \n",
       "76439  member of the Punjab Legislative Assembly                         None   \n",
       "\n",
       "                    info_5 info_6 info_7 info_8 info_9 info_10 info_11   age  \\\n",
       "21130  former President of   None   None   None   None    None    None  76.0   \n",
       "76439                 None   None   None   None   None    None    None  59.0   \n",
       "\n",
       "      cause_of_death  place_1 place_2 info_parenth_copy  log_num_references  \\\n",
       "21130           None  Estonia    None              None            2.564949   \n",
       "76439           None    India    None        since 2012            2.197225   \n",
       "\n",
       "       sciences  social  spiritual  academia_humanities  business_farming  \\\n",
       "21130         0       0          0                    0                 0   \n",
       "76439         0       0          0                    0                 0   \n",
       "\n",
       "       arts  sports  law_enf_military_operator  politics_govt_law  crime  \\\n",
       "21130     0       0                          0                  1      0   \n",
       "76439     0       0                          0                  1      0   \n",
       "\n",
       "       event_record_other  other_species  num_categories  \n",
       "21130                   0              0               1  \n",
       "76439                   0              0               1  "
      ]
     },
     "execution_count": 242,
     "metadata": {},
     "output_type": "execute_result"
    },
    {
     "data": {
      "application/javascript": [
       "\n",
       "            setTimeout(function() {\n",
       "                var nbb_cell_id = 242;\n",
       "                var nbb_unformatted_code = \"%%time\\n\\n# Dictionary version\\nsearch_dict = known_for_dict_18\\n\\n# Column to check\\ncolumn = 'info_2'\\n\\n# Dataframe\\ndataframe = df[column].notna()\\n\\n# For loop to find role in column and extract it as category\\nfor category, category_lst in search_dict.items():\\n    for role in category_lst:\\n        for index in dataframe.index:\\n            item = df.loc[index, column]\\n            if item:\\n                if role in item:\\n                    df.loc[index, category] = 1\\n                    df.loc[index, column] = item.replace(role, '').strip()\\n\\n# Checking a sample of rows\\ndf[df['politics_govt_law'] ==1].sample(2)\";\n",
       "                var nbb_formatted_code = \"%%time\\n\\n# Dictionary version\\nsearch_dict = known_for_dict_18\\n\\n# Column to check\\ncolumn = 'info_2'\\n\\n# Dataframe\\ndataframe = df[column].notna()\\n\\n# For loop to find role in column and extract it as category\\nfor category, category_lst in search_dict.items():\\n    for role in category_lst:\\n        for index in dataframe.index:\\n            item = df.loc[index, column]\\n            if item:\\n                if role in item:\\n                    df.loc[index, category] = 1\\n                    df.loc[index, column] = item.replace(role, '').strip()\\n\\n# Checking a sample of rows\\ndf[df['politics_govt_law'] ==1].sample(2)\";\n",
       "                var nbb_cells = Jupyter.notebook.get_cells();\n",
       "                for (var i = 0; i < nbb_cells.length; ++i) {\n",
       "                    if (nbb_cells[i].input_prompt_number == nbb_cell_id) {\n",
       "                        if (nbb_cells[i].get_text() == nbb_unformatted_code) {\n",
       "                             nbb_cells[i].set_text(nbb_formatted_code);\n",
       "                        }\n",
       "                        break;\n",
       "                    }\n",
       "                }\n",
       "            }, 500);\n",
       "            "
      ],
      "text/plain": [
       "<IPython.core.display.Javascript object>"
      ]
     },
     "metadata": {},
     "output_type": "display_data"
    }
   ],
   "source": [
    "%%time\n",
    "\n",
    "# Dictionary version\n",
    "search_dict = known_for_dict_18\n",
    "\n",
    "# Column to check\n",
    "column = 'info_2'\n",
    "\n",
    "# Dataframe\n",
    "dataframe = df[column].notna()\n",
    "\n",
    "# For loop to find role in column and extract it as category\n",
    "for category, category_lst in search_dict.items():\n",
    "    for role in category_lst:\n",
    "        for index in dataframe.index:\n",
    "            item = df.loc[index, column]\n",
    "            if item:\n",
    "                if role in item:\n",
    "                    df.loc[index, category] = 1\n",
    "                    df.loc[index, column] = item.replace(role, '').strip()\n",
    "\n",
    "# Checking a sample of rows\n",
    "df[df['politics_govt_law'] ==1].sample(2)"
   ]
  },
  {
   "cell_type": "markdown",
   "id": "4ac83364",
   "metadata": {},
   "source": [
    "#### Checking the Number of Rows without a First Category"
   ]
  },
  {
   "cell_type": "code",
   "execution_count": 243,
   "id": "1c99a334",
   "metadata": {},
   "outputs": [
    {
     "name": "stdout",
     "output_type": "stream",
     "text": [
      "There are 48883 entries without any known_for category.\n"
     ]
    },
    {
     "data": {
      "application/javascript": [
       "\n",
       "            setTimeout(function() {\n",
       "                var nbb_cell_id = 243;\n",
       "                var nbb_unformatted_code = \"#### Checking the number of rows without a first category\\ndf[\\\"num_categories\\\"] = df[known_for_dict_18.keys()].sum(axis=1)\\n\\nprint(\\n    f'There are {len(df[df[\\\"num_categories\\\"]==0])} entries without any known_for category.'\\n)\";\n",
       "                var nbb_formatted_code = \"#### Checking the number of rows without a first category\\ndf[\\\"num_categories\\\"] = df[known_for_dict_18.keys()].sum(axis=1)\\n\\nprint(\\n    f'There are {len(df[df[\\\"num_categories\\\"]==0])} entries without any known_for category.'\\n)\";\n",
       "                var nbb_cells = Jupyter.notebook.get_cells();\n",
       "                for (var i = 0; i < nbb_cells.length; ++i) {\n",
       "                    if (nbb_cells[i].input_prompt_number == nbb_cell_id) {\n",
       "                        if (nbb_cells[i].get_text() == nbb_unformatted_code) {\n",
       "                             nbb_cells[i].set_text(nbb_formatted_code);\n",
       "                        }\n",
       "                        break;\n",
       "                    }\n",
       "                }\n",
       "            }, 500);\n",
       "            "
      ],
      "text/plain": [
       "<IPython.core.display.Javascript object>"
      ]
     },
     "metadata": {},
     "output_type": "display_data"
    }
   ],
   "source": [
    "#### Checking the number of rows without a first category\n",
    "df[\"num_categories\"] = df[known_for_dict_18.keys()].sum(axis=1)\n",
    "\n",
    "print(\n",
    "    f'There are {len(df[df[\"num_categories\"]==0])} entries without any known_for category.'\n",
    ")"
   ]
  },
  {
   "cell_type": "markdown",
   "id": "e146182d",
   "metadata": {},
   "source": [
    "#### Observations:\n",
    "- We will proceed to build `known_for_dict_19` for the next iteration."
   ]
  },
  {
   "cell_type": "markdown",
   "id": "e7ba1dc6",
   "metadata": {},
   "source": [
    "#### Finding `known_for` Roles in `info_2`"
   ]
  },
  {
   "cell_type": "code",
   "execution_count": 245,
   "id": "db235b53",
   "metadata": {},
   "outputs": [
    {
     "data": {
      "application/javascript": [
       "\n",
       "            setTimeout(function() {\n",
       "                var nbb_cell_id = 245;\n",
       "                var nbb_unformatted_code = \"# Obtaining values for column and their counts\\nroles_list = df[\\\"info_2\\\"].value_counts(ascending=True).index.tolist()\";\n",
       "                var nbb_formatted_code = \"# Obtaining values for column and their counts\\nroles_list = df[\\\"info_2\\\"].value_counts(ascending=True).index.tolist()\";\n",
       "                var nbb_cells = Jupyter.notebook.get_cells();\n",
       "                for (var i = 0; i < nbb_cells.length; ++i) {\n",
       "                    if (nbb_cells[i].input_prompt_number == nbb_cell_id) {\n",
       "                        if (nbb_cells[i].get_text() == nbb_unformatted_code) {\n",
       "                             nbb_cells[i].set_text(nbb_formatted_code);\n",
       "                        }\n",
       "                        break;\n",
       "                    }\n",
       "                }\n",
       "            }, 500);\n",
       "            "
      ],
      "text/plain": [
       "<IPython.core.display.Javascript object>"
      ]
     },
     "metadata": {},
     "output_type": "display_data"
    }
   ],
   "source": [
    "# Obtaining values for column and their counts\n",
    "roles_list = df[\"info_2\"].value_counts(ascending=True).index.tolist()"
   ]
  },
  {
   "cell_type": "code",
   "execution_count": 558,
   "id": "41342667",
   "metadata": {},
   "outputs": [
    {
     "data": {
      "application/javascript": [
       "\n",
       "            setTimeout(function() {\n",
       "                var nbb_cell_id = 558;\n",
       "                var nbb_unformatted_code = \"# # Code to check each value\\n# roles_list.pop()\";\n",
       "                var nbb_formatted_code = \"# # Code to check each value\\n# roles_list.pop()\";\n",
       "                var nbb_cells = Jupyter.notebook.get_cells();\n",
       "                for (var i = 0; i < nbb_cells.length; ++i) {\n",
       "                    if (nbb_cells[i].input_prompt_number == nbb_cell_id) {\n",
       "                        if (nbb_cells[i].get_text() == nbb_unformatted_code) {\n",
       "                             nbb_cells[i].set_text(nbb_formatted_code);\n",
       "                        }\n",
       "                        break;\n",
       "                    }\n",
       "                }\n",
       "            }, 500);\n",
       "            "
      ],
      "text/plain": [
       "<IPython.core.display.Javascript object>"
      ]
     },
     "metadata": {},
     "output_type": "display_data"
    }
   ],
   "source": [
    "# # Code to check each value\n",
    "# roles_list.pop()"
   ]
  },
  {
   "cell_type": "code",
   "execution_count": 557,
   "id": "4cabfb80",
   "metadata": {},
   "outputs": [
    {
     "data": {
      "application/javascript": [
       "\n",
       "            setTimeout(function() {\n",
       "                var nbb_cell_id = 557;\n",
       "                var nbb_unformatted_code = \"# # Create specific_roles_list for above popped value\\n# specific_roles_list = (\\n#     df.loc[\\n#         [index for index in df.index if \\\"composer\\\" in df.loc[index, \\\"info\\\"]], \\\"info_2\\\",\\n#     ]\\n#     .value_counts()\\n#     .index.tolist()\\n# )\";\n",
       "                var nbb_formatted_code = \"# # Create specific_roles_list for above popped value\\n# specific_roles_list = (\\n#     df.loc[\\n#         [index for index in df.index if \\\"composer\\\" in df.loc[index, \\\"info\\\"]], \\\"info_2\\\",\\n#     ]\\n#     .value_counts()\\n#     .index.tolist()\\n# )\";\n",
       "                var nbb_cells = Jupyter.notebook.get_cells();\n",
       "                for (var i = 0; i < nbb_cells.length; ++i) {\n",
       "                    if (nbb_cells[i].input_prompt_number == nbb_cell_id) {\n",
       "                        if (nbb_cells[i].get_text() == nbb_unformatted_code) {\n",
       "                             nbb_cells[i].set_text(nbb_formatted_code);\n",
       "                        }\n",
       "                        break;\n",
       "                    }\n",
       "                }\n",
       "            }, 500);\n",
       "            "
      ],
      "text/plain": [
       "<IPython.core.display.Javascript object>"
      ]
     },
     "metadata": {},
     "output_type": "display_data"
    }
   ],
   "source": [
    "# # Create specific_roles_list for above popped value\n",
    "# specific_roles_list = (\n",
    "#     df.loc[\n",
    "#         [index for index in df.index if \"composer\" in df.loc[index, \"info\"]], \"info_2\",\n",
    "#     ]\n",
    "#     .value_counts()\n",
    "#     .index.tolist()\n",
    "# )"
   ]
  },
  {
   "cell_type": "code",
   "execution_count": 556,
   "id": "da083da8",
   "metadata": {},
   "outputs": [
    {
     "data": {
      "application/javascript": [
       "\n",
       "            setTimeout(function() {\n",
       "                var nbb_cell_id = 556;\n",
       "                var nbb_unformatted_code = \"# # Code to check each specific value\\n# specific_roles_list.pop()\";\n",
       "                var nbb_formatted_code = \"# # Code to check each specific value\\n# specific_roles_list.pop()\";\n",
       "                var nbb_cells = Jupyter.notebook.get_cells();\n",
       "                for (var i = 0; i < nbb_cells.length; ++i) {\n",
       "                    if (nbb_cells[i].input_prompt_number == nbb_cell_id) {\n",
       "                        if (nbb_cells[i].get_text() == nbb_unformatted_code) {\n",
       "                             nbb_cells[i].set_text(nbb_formatted_code);\n",
       "                        }\n",
       "                        break;\n",
       "                    }\n",
       "                }\n",
       "            }, 500);\n",
       "            "
      ],
      "text/plain": [
       "<IPython.core.display.Javascript object>"
      ]
     },
     "metadata": {},
     "output_type": "display_data"
    }
   ],
   "source": [
    "# # Code to check each specific value\n",
    "# specific_roles_list.pop()"
   ]
  },
  {
   "cell_type": "code",
   "execution_count": 555,
   "id": "c5a1b791",
   "metadata": {},
   "outputs": [
    {
     "data": {
      "application/javascript": [
       "\n",
       "            setTimeout(function() {\n",
       "                var nbb_cell_id = 555;\n",
       "                var nbb_unformatted_code = \"# # Example code to quick-screen values that may overlap categories\\n# df.loc[[index for index in df.index if \\\"composer and sound\\\" in df.loc[index, \\\"info\\\"]]]\";\n",
       "                var nbb_formatted_code = \"# # Example code to quick-screen values that may overlap categories\\n# df.loc[[index for index in df.index if \\\"composer and sound\\\" in df.loc[index, \\\"info\\\"]]]\";\n",
       "                var nbb_cells = Jupyter.notebook.get_cells();\n",
       "                for (var i = 0; i < nbb_cells.length; ++i) {\n",
       "                    if (nbb_cells[i].input_prompt_number == nbb_cell_id) {\n",
       "                        if (nbb_cells[i].get_text() == nbb_unformatted_code) {\n",
       "                             nbb_cells[i].set_text(nbb_formatted_code);\n",
       "                        }\n",
       "                        break;\n",
       "                    }\n",
       "                }\n",
       "            }, 500);\n",
       "            "
      ],
      "text/plain": [
       "<IPython.core.display.Javascript object>"
      ]
     },
     "metadata": {},
     "output_type": "display_data"
    }
   ],
   "source": [
    "# # Example code to quick-screen values that may overlap categories\n",
    "# df.loc[[index for index in df.index if \"composer and sound\" in df.loc[index, \"info\"]]]"
   ]
  },
  {
   "cell_type": "code",
   "execution_count": null,
   "id": "f7de3ad1",
   "metadata": {},
   "outputs": [],
   "source": [
    "# # Example code to quick-screen values that may overlap categories\n",
    "# df.loc[\n",
    "#     [\n",
    "#         index\n",
    "#         for index in df.index\n",
    "#         if \"outlaw country music singer songwriter\" in df.loc[index, \"info\"]\n",
    "#     ]\n",
    "# ]"
   ]
  },
  {
   "cell_type": "code",
   "execution_count": 554,
   "id": "557557ed",
   "metadata": {},
   "outputs": [
    {
     "data": {
      "application/javascript": [
       "\n",
       "            setTimeout(function() {\n",
       "                var nbb_cell_id = 554;\n",
       "                var nbb_unformatted_code = \"# # Example code to quick-check a specific entry\\n# df[df[\\\"info_2\\\"] == \\\"Filin composer and interpreter\\\"]\";\n",
       "                var nbb_formatted_code = \"# # Example code to quick-check a specific entry\\n# df[df[\\\"info_2\\\"] == \\\"Filin composer and interpreter\\\"]\";\n",
       "                var nbb_cells = Jupyter.notebook.get_cells();\n",
       "                for (var i = 0; i < nbb_cells.length; ++i) {\n",
       "                    if (nbb_cells[i].input_prompt_number == nbb_cell_id) {\n",
       "                        if (nbb_cells[i].get_text() == nbb_unformatted_code) {\n",
       "                             nbb_cells[i].set_text(nbb_formatted_code);\n",
       "                        }\n",
       "                        break;\n",
       "                    }\n",
       "                }\n",
       "            }, 500);\n",
       "            "
      ],
      "text/plain": [
       "<IPython.core.display.Javascript object>"
      ]
     },
     "metadata": {},
     "output_type": "display_data"
    }
   ],
   "source": [
    "# # Example code to quick-check a specific entry\n",
    "# df[df[\"info_2\"] == \"Filin composer and interpreter\"]"
   ]
  },
  {
   "cell_type": "markdown",
   "id": "09d4f68e",
   "metadata": {},
   "source": [
    "#### Creating Lists for Each `known_for` Category"
   ]
  },
  {
   "cell_type": "code",
   "execution_count": 553,
   "id": "714256e6",
   "metadata": {},
   "outputs": [
    {
     "data": {
      "application/javascript": [
       "\n",
       "            setTimeout(function() {\n",
       "                var nbb_cell_id = 553;\n",
       "                var nbb_unformatted_code = \"# Creating lists for each category\\npolitics_govt_law = []\\n\\narts = [\\n    'composer and free jazz violinist',\\n    'Academy Award winning film score composer',\\n    'experimental music composer',\\n    'composer and lyricist of',\\n    'Emmy award winning composer and lyricist',\\n    'jazz pianist composer',\\n    'film composer and music supervisor',\\n    'Broadway composer and TV producer',\\n    'composer best known for work on Robotech',\\n    \\\"blues and rock n' roll guitarist and composer\\\",\\n    'composer of Broadway musicals',\\n    'composer of classic film music such as',\\n    'movie and television composer',\\n    'jazz soprano saxophonist and composer',\\n    'composer of feature films and television movie scores',\\n    'composer and organist choirmaster Washington National Cathedral',\\n    'orchestrator and composer of film and television scores',\\n    'composer of film and television scores',\\n    'composer and choirmaster',\\n    'guitarist and composer and best known for his work with Van Morrison',\\n    'composer and musical director',\\n    'musical theater composer',\\n    'violist and composer of electronic music',\\n    'composer and television host',\\n    'contemporary classical music composer',\\n    'contemporary classical composer',\\n    'hip hop composer',\\n    'jingle composer',\\n    'composer of background music for and',\\n    'experimental composer',\\n    'sitarist and composer',\\n    'fiddler and composer',\\n    'progressive rock bassist and composer',\\n    'Academy Award winning film composer',\\n    'composer and jazz trombonist',\\n    'architect and composer',\\n    'composer of film and television theme music',\\n    'orchestrator and film composer',\\n    'composer of Catholic liturgical songs',\\n    'jazz keyboardist and composer',\\n    'film music composer and conductor',\\n    'swing and hard bop trumpeter and composer',\\n    'film composer and conductor',\\n    'composer and bassoonist',\\n    'composer and playwright',\\n    'composer prolific in film music',\\n    'composer of orchestral',\\n    'concert band conductor and composer',\\n    'composer of classical music and conductor',\\n    'composer and librettist',\\n    'violist and composer of classical music',\\n    'music composer and arranger',\\n    'composer of orchestral and choral works',\\n    'guitarist and composer in classical',\\n    'composer and clarinetist',\\n    'experimental composer and pianist',\\n    'bandleader and composer for film and television',\\n    'jazz composer and saxophonist',\\n    'classical guitar composer',\\n    'composer and pioneer of electronic and computer music',\\n    'migrant composer',\\n    'jazz trumpet player and composer',\\n    'producer and composer of radio jingles',\\n    'television and film composer',\\n    'composer and music administrator',\\n    'composer of music and film scores',\\n    'composer and winner of the Pulitzer Prize',\\n    'composer and filmmaker',\\n    'born jazz pianist and composer',\\n    'jazz composer and alto saxophonist',\\n    'tango composer and pianist',\\n    'composer and bandleader',\\n    'composer and television producer',\\n    'composer and orchestrator',\\n    'composer and sculptor',\\n    'video game composer',\\n    'composer and sound',\\n    'music composer and film scorer',\\n    'jazz and R&B composer',\\n    'composer and big band leader',\\n    'composer and clarinet player',\\n    'composer and musical producer',\\n    'keyboard player and composer',\\n    'jazz trombonist and film composer',\\n    'saxophonist and film composer',\\n    'orchestral and choral composer',\\n    'orchestra conductor and composer',\\n    'composer and accordionist',\\n    'jazz composer and bandleader',\\n    'film score composer and music director',\\n    'microtonal composer',\\n    'composer and flutist',\\n    'composer and founding general director of Michigan Opera Theatre',\\n    'video game music composer',\\n    'brass band arranger and composer',\\n    'playwright and composer',\\n    'jazz alto saxophonist and composer',\\n    'composer and music producer',\\n    'violist and composer',\\n    'sitar player and composer',\\n    'jazz clarinetist and composer',\\n    'composer and jazz saxophonist',\\n    'M\\u0101ori composer',\\n    'Filin composer and interpreter',\\n    'composer and biographer',\\n    'film composer and pianist',\\n    'composer and keyboard player',\\n    'choirmaster and composer',\\n    'country music composer',\\n    'musical composer and performer',\\n    'composer and performer',\\n    'new age pianist and composer',\\n    'Tony Award winning producer and composer',\\n    'composer and sound editor',\\n    'jazz pianist and film composer',\\n    'orchestra leader and composer',\\n    'classical and flamenco guitarist and composer',\\n    'composer and music industry executive',\\n    'television score composer',\\n    'erhu master and composer',\\n    'rock and jazz drummer and composer',\\n    'jazz drummer and composer',\\n    'composer and essayist',\\n    'classical oboist and composer',\\n    'Tony Award winning composer',\\n    'ragtime pianist and composer',\\n    'composer and jazz trumpeter',\\n    'classical composer and flautist',\\n    'bluesman and composer',\\n    'composer and fiddler',\\n    'composer and choir director',\\n    'jazz cellist and composer',\\n    'composer and novelist',\\n    'jazz guitarist',\\n    'composer and music critic',\\n    'music director and composer',\\n    'jazz trumpeter and composer',\\n    'trumpeter and composer',\\n    'composer and music director',\\n    'percussionist and composer',\\n    'composer and choral director',\\n    'cellist and composer',\\n    'electronic music composer',\\n    'Pulitzer Prize winning composer',\\n    'composer of film scores',\\n    'composer and orchestra leader',\\n    'jazz composer and arranger',\\n    'harpist and composer',\\n    'flautist and composer',\\n    'classical composer and conductor',\\n    'composer and jazz pianist',\\n    'choral conductor and composer',\\n    'classical guitarist and composer',\\n    'avant garde composer and pianist',\\n    'avant garde composer',\\n    'film and television music composer',\\n    'concert pianist and composer',\\n    'composer and cellist',\\n    'composer and guitarist',\\n    'musical director and composer',\\n    'composer and record producer',\\n    'composer of contemporary classical music',\\n    'composer and violist',\\n    'bassist and composer',\\n    'composer and violinist',\\n    'classical music composer',\\n    'jazz composer',\\n    'opera composer',\\n    'composer and arranger',\\n    'jazz guitarist and composer',\\n    'composer of classical music',\\n    'lyricist and composer',\\n    'film music composer',\\n    'and computer music composer',\\n    'music composer and',\\n    'music composer',\\n    'jazz saxophonist and composer',\\n    'saxophonist and composer',\\n    'classical composer',\\n    'classical pianist and composer',\\n    'composer and organist',\\n    'violinist and composer',\\n    'film and television composer',\\n    'television composer',\\n    'composer and lyricist',\\n    'film score composer',\\n    'organist and composer',\\n    'guitarist and composer',\\n    'film composer',\\n    'conductor and composer',\\n    'jazz pianist and composer',\\n    'pianist and composer',\\n    'composer and pianist',\\n    'composer and conductor',\\n    'composer of musicals',\\n    'musical composer and',\\n    'musical composer',\\n    'composer and',\\n    'and composer',\\n    'composer'\\n]\\nsports = [\\n\\n\\n]\\nsciences = []\\n\\nbusiness_farming = []\\nacademia_humanities = [\\n    'ethnomusicologist and wife of composer Henry Cowell', # before arts\\n]\\nlaw_enf_military_operator = []\\nspiritual = []\\nsocial = []\\ncrime = []\\nevent_record_other = []\\nother_species = []\";\n",
       "                var nbb_formatted_code = \"# Creating lists for each category\\npolitics_govt_law = []\\n\\narts = [\\n    \\\"composer and free jazz violinist\\\",\\n    \\\"Academy Award winning film score composer\\\",\\n    \\\"experimental music composer\\\",\\n    \\\"composer and lyricist of\\\",\\n    \\\"Emmy award winning composer and lyricist\\\",\\n    \\\"jazz pianist composer\\\",\\n    \\\"film composer and music supervisor\\\",\\n    \\\"Broadway composer and TV producer\\\",\\n    \\\"composer best known for work on Robotech\\\",\\n    \\\"blues and rock n' roll guitarist and composer\\\",\\n    \\\"composer of Broadway musicals\\\",\\n    \\\"composer of classic film music such as\\\",\\n    \\\"movie and television composer\\\",\\n    \\\"jazz soprano saxophonist and composer\\\",\\n    \\\"composer of feature films and television movie scores\\\",\\n    \\\"composer and organist choirmaster Washington National Cathedral\\\",\\n    \\\"orchestrator and composer of film and television scores\\\",\\n    \\\"composer of film and television scores\\\",\\n    \\\"composer and choirmaster\\\",\\n    \\\"guitarist and composer and best known for his work with Van Morrison\\\",\\n    \\\"composer and musical director\\\",\\n    \\\"musical theater composer\\\",\\n    \\\"violist and composer of electronic music\\\",\\n    \\\"composer and television host\\\",\\n    \\\"contemporary classical music composer\\\",\\n    \\\"contemporary classical composer\\\",\\n    \\\"hip hop composer\\\",\\n    \\\"jingle composer\\\",\\n    \\\"composer of background music for and\\\",\\n    \\\"experimental composer\\\",\\n    \\\"sitarist and composer\\\",\\n    \\\"fiddler and composer\\\",\\n    \\\"progressive rock bassist and composer\\\",\\n    \\\"Academy Award winning film composer\\\",\\n    \\\"composer and jazz trombonist\\\",\\n    \\\"architect and composer\\\",\\n    \\\"composer of film and television theme music\\\",\\n    \\\"orchestrator and film composer\\\",\\n    \\\"composer of Catholic liturgical songs\\\",\\n    \\\"jazz keyboardist and composer\\\",\\n    \\\"film music composer and conductor\\\",\\n    \\\"swing and hard bop trumpeter and composer\\\",\\n    \\\"film composer and conductor\\\",\\n    \\\"composer and bassoonist\\\",\\n    \\\"composer and playwright\\\",\\n    \\\"composer prolific in film music\\\",\\n    \\\"composer of orchestral\\\",\\n    \\\"concert band conductor and composer\\\",\\n    \\\"composer of classical music and conductor\\\",\\n    \\\"composer and librettist\\\",\\n    \\\"violist and composer of classical music\\\",\\n    \\\"music composer and arranger\\\",\\n    \\\"composer of orchestral and choral works\\\",\\n    \\\"guitarist and composer in classical\\\",\\n    \\\"composer and clarinetist\\\",\\n    \\\"experimental composer and pianist\\\",\\n    \\\"bandleader and composer for film and television\\\",\\n    \\\"jazz composer and saxophonist\\\",\\n    \\\"classical guitar composer\\\",\\n    \\\"composer and pioneer of electronic and computer music\\\",\\n    \\\"migrant composer\\\",\\n    \\\"jazz trumpet player and composer\\\",\\n    \\\"producer and composer of radio jingles\\\",\\n    \\\"television and film composer\\\",\\n    \\\"composer and music administrator\\\",\\n    \\\"composer of music and film scores\\\",\\n    \\\"composer and winner of the Pulitzer Prize\\\",\\n    \\\"composer and filmmaker\\\",\\n    \\\"born jazz pianist and composer\\\",\\n    \\\"jazz composer and alto saxophonist\\\",\\n    \\\"tango composer and pianist\\\",\\n    \\\"composer and bandleader\\\",\\n    \\\"composer and television producer\\\",\\n    \\\"composer and orchestrator\\\",\\n    \\\"composer and sculptor\\\",\\n    \\\"video game composer\\\",\\n    \\\"composer and sound\\\",\\n    \\\"music composer and film scorer\\\",\\n    \\\"jazz and R&B composer\\\",\\n    \\\"composer and big band leader\\\",\\n    \\\"composer and clarinet player\\\",\\n    \\\"composer and musical producer\\\",\\n    \\\"keyboard player and composer\\\",\\n    \\\"jazz trombonist and film composer\\\",\\n    \\\"saxophonist and film composer\\\",\\n    \\\"orchestral and choral composer\\\",\\n    \\\"orchestra conductor and composer\\\",\\n    \\\"composer and accordionist\\\",\\n    \\\"jazz composer and bandleader\\\",\\n    \\\"film score composer and music director\\\",\\n    \\\"microtonal composer\\\",\\n    \\\"composer and flutist\\\",\\n    \\\"composer and founding general director of Michigan Opera Theatre\\\",\\n    \\\"video game music composer\\\",\\n    \\\"brass band arranger and composer\\\",\\n    \\\"playwright and composer\\\",\\n    \\\"jazz alto saxophonist and composer\\\",\\n    \\\"composer and music producer\\\",\\n    \\\"violist and composer\\\",\\n    \\\"sitar player and composer\\\",\\n    \\\"jazz clarinetist and composer\\\",\\n    \\\"composer and jazz saxophonist\\\",\\n    \\\"M\\u0101ori composer\\\",\\n    \\\"Filin composer and interpreter\\\",\\n    \\\"composer and biographer\\\",\\n    \\\"film composer and pianist\\\",\\n    \\\"composer and keyboard player\\\",\\n    \\\"choirmaster and composer\\\",\\n    \\\"country music composer\\\",\\n    \\\"musical composer and performer\\\",\\n    \\\"composer and performer\\\",\\n    \\\"new age pianist and composer\\\",\\n    \\\"Tony Award winning producer and composer\\\",\\n    \\\"composer and sound editor\\\",\\n    \\\"jazz pianist and film composer\\\",\\n    \\\"orchestra leader and composer\\\",\\n    \\\"classical and flamenco guitarist and composer\\\",\\n    \\\"composer and music industry executive\\\",\\n    \\\"television score composer\\\",\\n    \\\"erhu master and composer\\\",\\n    \\\"rock and jazz drummer and composer\\\",\\n    \\\"jazz drummer and composer\\\",\\n    \\\"composer and essayist\\\",\\n    \\\"classical oboist and composer\\\",\\n    \\\"Tony Award winning composer\\\",\\n    \\\"ragtime pianist and composer\\\",\\n    \\\"composer and jazz trumpeter\\\",\\n    \\\"classical composer and flautist\\\",\\n    \\\"bluesman and composer\\\",\\n    \\\"composer and fiddler\\\",\\n    \\\"composer and choir director\\\",\\n    \\\"jazz cellist and composer\\\",\\n    \\\"composer and novelist\\\",\\n    \\\"jazz guitarist\\\",\\n    \\\"composer and music critic\\\",\\n    \\\"music director and composer\\\",\\n    \\\"jazz trumpeter and composer\\\",\\n    \\\"trumpeter and composer\\\",\\n    \\\"composer and music director\\\",\\n    \\\"percussionist and composer\\\",\\n    \\\"composer and choral director\\\",\\n    \\\"cellist and composer\\\",\\n    \\\"electronic music composer\\\",\\n    \\\"Pulitzer Prize winning composer\\\",\\n    \\\"composer of film scores\\\",\\n    \\\"composer and orchestra leader\\\",\\n    \\\"jazz composer and arranger\\\",\\n    \\\"harpist and composer\\\",\\n    \\\"flautist and composer\\\",\\n    \\\"classical composer and conductor\\\",\\n    \\\"composer and jazz pianist\\\",\\n    \\\"choral conductor and composer\\\",\\n    \\\"classical guitarist and composer\\\",\\n    \\\"avant garde composer and pianist\\\",\\n    \\\"avant garde composer\\\",\\n    \\\"film and television music composer\\\",\\n    \\\"concert pianist and composer\\\",\\n    \\\"composer and cellist\\\",\\n    \\\"composer and guitarist\\\",\\n    \\\"musical director and composer\\\",\\n    \\\"composer and record producer\\\",\\n    \\\"composer of contemporary classical music\\\",\\n    \\\"composer and violist\\\",\\n    \\\"bassist and composer\\\",\\n    \\\"composer and violinist\\\",\\n    \\\"classical music composer\\\",\\n    \\\"jazz composer\\\",\\n    \\\"opera composer\\\",\\n    \\\"composer and arranger\\\",\\n    \\\"jazz guitarist and composer\\\",\\n    \\\"composer of classical music\\\",\\n    \\\"lyricist and composer\\\",\\n    \\\"film music composer\\\",\\n    \\\"and computer music composer\\\",\\n    \\\"music composer and\\\",\\n    \\\"music composer\\\",\\n    \\\"jazz saxophonist and composer\\\",\\n    \\\"saxophonist and composer\\\",\\n    \\\"classical composer\\\",\\n    \\\"classical pianist and composer\\\",\\n    \\\"composer and organist\\\",\\n    \\\"violinist and composer\\\",\\n    \\\"film and television composer\\\",\\n    \\\"television composer\\\",\\n    \\\"composer and lyricist\\\",\\n    \\\"film score composer\\\",\\n    \\\"organist and composer\\\",\\n    \\\"guitarist and composer\\\",\\n    \\\"film composer\\\",\\n    \\\"conductor and composer\\\",\\n    \\\"jazz pianist and composer\\\",\\n    \\\"pianist and composer\\\",\\n    \\\"composer and pianist\\\",\\n    \\\"composer and conductor\\\",\\n    \\\"composer of musicals\\\",\\n    \\\"musical composer and\\\",\\n    \\\"musical composer\\\",\\n    \\\"composer and\\\",\\n    \\\"and composer\\\",\\n    \\\"composer\\\",\\n]\\nsports = []\\nsciences = []\\n\\nbusiness_farming = []\\nacademia_humanities = [\\n    \\\"ethnomusicologist and wife of composer Henry Cowell\\\",  # before arts\\n]\\nlaw_enf_military_operator = []\\nspiritual = []\\nsocial = []\\ncrime = []\\nevent_record_other = []\\nother_species = []\";\n",
       "                var nbb_cells = Jupyter.notebook.get_cells();\n",
       "                for (var i = 0; i < nbb_cells.length; ++i) {\n",
       "                    if (nbb_cells[i].input_prompt_number == nbb_cell_id) {\n",
       "                        if (nbb_cells[i].get_text() == nbb_unformatted_code) {\n",
       "                             nbb_cells[i].set_text(nbb_formatted_code);\n",
       "                        }\n",
       "                        break;\n",
       "                    }\n",
       "                }\n",
       "            }, 500);\n",
       "            "
      ],
      "text/plain": [
       "<IPython.core.display.Javascript object>"
      ]
     },
     "metadata": {},
     "output_type": "display_data"
    }
   ],
   "source": [
    "# Creating lists for each category\n",
    "politics_govt_law = []\n",
    "\n",
    "arts = [\n",
    "    \"composer and free jazz violinist\",\n",
    "    \"Academy Award winning film score composer\",\n",
    "    \"experimental music composer\",\n",
    "    \"composer and lyricist of\",\n",
    "    \"Emmy award winning composer and lyricist\",\n",
    "    \"jazz pianist composer\",\n",
    "    \"film composer and music supervisor\",\n",
    "    \"Broadway composer and TV producer\",\n",
    "    \"composer best known for work on Robotech\",\n",
    "    \"blues and rock n' roll guitarist and composer\",\n",
    "    \"composer of Broadway musicals\",\n",
    "    \"composer of classic film music such as\",\n",
    "    \"movie and television composer\",\n",
    "    \"jazz soprano saxophonist and composer\",\n",
    "    \"composer of feature films and television movie scores\",\n",
    "    \"composer and organist choirmaster Washington National Cathedral\",\n",
    "    \"orchestrator and composer of film and television scores\",\n",
    "    \"composer of film and television scores\",\n",
    "    \"composer and choirmaster\",\n",
    "    \"guitarist and composer and best known for his work with Van Morrison\",\n",
    "    \"composer and musical director\",\n",
    "    \"musical theater composer\",\n",
    "    \"violist and composer of electronic music\",\n",
    "    \"composer and television host\",\n",
    "    \"contemporary classical music composer\",\n",
    "    \"contemporary classical composer\",\n",
    "    \"hip hop composer\",\n",
    "    \"jingle composer\",\n",
    "    \"composer of background music for and\",\n",
    "    \"experimental composer\",\n",
    "    \"sitarist and composer\",\n",
    "    \"fiddler and composer\",\n",
    "    \"progressive rock bassist and composer\",\n",
    "    \"Academy Award winning film composer\",\n",
    "    \"composer and jazz trombonist\",\n",
    "    \"architect and composer\",\n",
    "    \"composer of film and television theme music\",\n",
    "    \"orchestrator and film composer\",\n",
    "    \"composer of Catholic liturgical songs\",\n",
    "    \"jazz keyboardist and composer\",\n",
    "    \"film music composer and conductor\",\n",
    "    \"swing and hard bop trumpeter and composer\",\n",
    "    \"film composer and conductor\",\n",
    "    \"composer and bassoonist\",\n",
    "    \"composer and playwright\",\n",
    "    \"composer prolific in film music\",\n",
    "    \"composer of orchestral\",\n",
    "    \"concert band conductor and composer\",\n",
    "    \"composer of classical music and conductor\",\n",
    "    \"composer and librettist\",\n",
    "    \"violist and composer of classical music\",\n",
    "    \"music composer and arranger\",\n",
    "    \"composer of orchestral and choral works\",\n",
    "    \"guitarist and composer in classical\",\n",
    "    \"composer and clarinetist\",\n",
    "    \"experimental composer and pianist\",\n",
    "    \"bandleader and composer for film and television\",\n",
    "    \"jazz composer and saxophonist\",\n",
    "    \"classical guitar composer\",\n",
    "    \"composer and pioneer of electronic and computer music\",\n",
    "    \"migrant composer\",\n",
    "    \"jazz trumpet player and composer\",\n",
    "    \"producer and composer of radio jingles\",\n",
    "    \"television and film composer\",\n",
    "    \"composer and music administrator\",\n",
    "    \"composer of music and film scores\",\n",
    "    \"composer and winner of the Pulitzer Prize\",\n",
    "    \"composer and filmmaker\",\n",
    "    \"born jazz pianist and composer\",\n",
    "    \"jazz composer and alto saxophonist\",\n",
    "    \"tango composer and pianist\",\n",
    "    \"composer and bandleader\",\n",
    "    \"composer and television producer\",\n",
    "    \"composer and orchestrator\",\n",
    "    \"composer and sculptor\",\n",
    "    \"video game composer\",\n",
    "    \"composer and sound\",\n",
    "    \"music composer and film scorer\",\n",
    "    \"jazz and R&B composer\",\n",
    "    \"composer and big band leader\",\n",
    "    \"composer and clarinet player\",\n",
    "    \"composer and musical producer\",\n",
    "    \"keyboard player and composer\",\n",
    "    \"jazz trombonist and film composer\",\n",
    "    \"saxophonist and film composer\",\n",
    "    \"orchestral and choral composer\",\n",
    "    \"orchestra conductor and composer\",\n",
    "    \"composer and accordionist\",\n",
    "    \"jazz composer and bandleader\",\n",
    "    \"film score composer and music director\",\n",
    "    \"microtonal composer\",\n",
    "    \"composer and flutist\",\n",
    "    \"composer and founding general director of Michigan Opera Theatre\",\n",
    "    \"video game music composer\",\n",
    "    \"brass band arranger and composer\",\n",
    "    \"playwright and composer\",\n",
    "    \"jazz alto saxophonist and composer\",\n",
    "    \"composer and music producer\",\n",
    "    \"violist and composer\",\n",
    "    \"sitar player and composer\",\n",
    "    \"jazz clarinetist and composer\",\n",
    "    \"composer and jazz saxophonist\",\n",
    "    \"Māori composer\",\n",
    "    \"Filin composer and interpreter\",\n",
    "    \"composer and biographer\",\n",
    "    \"film composer and pianist\",\n",
    "    \"composer and keyboard player\",\n",
    "    \"choirmaster and composer\",\n",
    "    \"country music composer\",\n",
    "    \"musical composer and performer\",\n",
    "    \"composer and performer\",\n",
    "    \"new age pianist and composer\",\n",
    "    \"Tony Award winning producer and composer\",\n",
    "    \"composer and sound editor\",\n",
    "    \"jazz pianist and film composer\",\n",
    "    \"orchestra leader and composer\",\n",
    "    \"classical and flamenco guitarist and composer\",\n",
    "    \"composer and music industry executive\",\n",
    "    \"television score composer\",\n",
    "    \"erhu master and composer\",\n",
    "    \"rock and jazz drummer and composer\",\n",
    "    \"jazz drummer and composer\",\n",
    "    \"composer and essayist\",\n",
    "    \"classical oboist and composer\",\n",
    "    \"Tony Award winning composer\",\n",
    "    \"ragtime pianist and composer\",\n",
    "    \"composer and jazz trumpeter\",\n",
    "    \"classical composer and flautist\",\n",
    "    \"bluesman and composer\",\n",
    "    \"composer and fiddler\",\n",
    "    \"composer and choir director\",\n",
    "    \"jazz cellist and composer\",\n",
    "    \"composer and novelist\",\n",
    "    \"jazz guitarist\",\n",
    "    \"composer and music critic\",\n",
    "    \"music director and composer\",\n",
    "    \"jazz trumpeter and composer\",\n",
    "    \"trumpeter and composer\",\n",
    "    \"composer and music director\",\n",
    "    \"percussionist and composer\",\n",
    "    \"composer and choral director\",\n",
    "    \"cellist and composer\",\n",
    "    \"electronic music composer\",\n",
    "    \"Pulitzer Prize winning composer\",\n",
    "    \"composer of film scores\",\n",
    "    \"composer and orchestra leader\",\n",
    "    \"jazz composer and arranger\",\n",
    "    \"harpist and composer\",\n",
    "    \"flautist and composer\",\n",
    "    \"classical composer and conductor\",\n",
    "    \"composer and jazz pianist\",\n",
    "    \"choral conductor and composer\",\n",
    "    \"classical guitarist and composer\",\n",
    "    \"avant garde composer and pianist\",\n",
    "    \"avant garde composer\",\n",
    "    \"film and television music composer\",\n",
    "    \"concert pianist and composer\",\n",
    "    \"composer and cellist\",\n",
    "    \"composer and guitarist\",\n",
    "    \"musical director and composer\",\n",
    "    \"composer and record producer\",\n",
    "    \"composer of contemporary classical music\",\n",
    "    \"composer and violist\",\n",
    "    \"bassist and composer\",\n",
    "    \"composer and violinist\",\n",
    "    \"classical music composer\",\n",
    "    \"jazz composer\",\n",
    "    \"opera composer\",\n",
    "    \"composer and arranger\",\n",
    "    \"jazz guitarist and composer\",\n",
    "    \"composer of classical music\",\n",
    "    \"lyricist and composer\",\n",
    "    \"film music composer\",\n",
    "    \"and computer music composer\",\n",
    "    \"music composer and\",\n",
    "    \"music composer\",\n",
    "    \"jazz saxophonist and composer\",\n",
    "    \"saxophonist and composer\",\n",
    "    \"classical composer\",\n",
    "    \"classical pianist and composer\",\n",
    "    \"composer and organist\",\n",
    "    \"violinist and composer\",\n",
    "    \"film and television composer\",\n",
    "    \"television composer\",\n",
    "    \"composer and lyricist\",\n",
    "    \"film score composer\",\n",
    "    \"organist and composer\",\n",
    "    \"guitarist and composer\",\n",
    "    \"film composer\",\n",
    "    \"conductor and composer\",\n",
    "    \"jazz pianist and composer\",\n",
    "    \"pianist and composer\",\n",
    "    \"composer and pianist\",\n",
    "    \"composer and conductor\",\n",
    "    \"composer of musicals\",\n",
    "    \"musical composer and\",\n",
    "    \"musical composer\",\n",
    "    \"composer and\",\n",
    "    \"and composer\",\n",
    "    \"composer\",\n",
    "]\n",
    "sports = []\n",
    "sciences = []\n",
    "\n",
    "business_farming = []\n",
    "academia_humanities = [\n",
    "    \"ethnomusicologist and wife of composer Henry Cowell\",  # before arts\n",
    "]\n",
    "law_enf_military_operator = []\n",
    "spiritual = []\n",
    "social = []\n",
    "crime = []\n",
    "event_record_other = []\n",
    "other_species = []"
   ]
  },
  {
   "cell_type": "markdown",
   "id": "f0765c61",
   "metadata": {},
   "source": [
    "#### Creating `known_for_dict_19` Dictionary of Category Keys and Specific Role Lists of Values"
   ]
  },
  {
   "cell_type": "code",
   "execution_count": 559,
   "id": "14a5102a",
   "metadata": {},
   "outputs": [
    {
     "data": {
      "application/javascript": [
       "\n",
       "            setTimeout(function() {\n",
       "                var nbb_cell_id = 559;\n",
       "                var nbb_unformatted_code = \"# Combining separate lists into one dictionary\\nknown_for_dict_19 = {\\n    \\\"social\\\": social,\\n    \\\"spiritual\\\": spiritual,\\n    \\\"academia_humanities\\\": academia_humanities,\\n    \\\"business_farming\\\": business_farming,\\n    \\\"sciences\\\": sciences,\\n    \\\"politics_govt_law\\\": politics_govt_law,\\n    \\\"law_enf_military_operator\\\": law_enf_military_operator,\\n    \\\"crime\\\": crime,\\n    \\\"event_record_other\\\": event_record_other,\\n    \\\"other_species\\\": other_species,\\n    \\\"arts\\\": arts,\\n    \\\"sports\\\": sports,\\n}\";\n",
       "                var nbb_formatted_code = \"# Combining separate lists into one dictionary\\nknown_for_dict_19 = {\\n    \\\"social\\\": social,\\n    \\\"spiritual\\\": spiritual,\\n    \\\"academia_humanities\\\": academia_humanities,\\n    \\\"business_farming\\\": business_farming,\\n    \\\"sciences\\\": sciences,\\n    \\\"politics_govt_law\\\": politics_govt_law,\\n    \\\"law_enf_military_operator\\\": law_enf_military_operator,\\n    \\\"crime\\\": crime,\\n    \\\"event_record_other\\\": event_record_other,\\n    \\\"other_species\\\": other_species,\\n    \\\"arts\\\": arts,\\n    \\\"sports\\\": sports,\\n}\";\n",
       "                var nbb_cells = Jupyter.notebook.get_cells();\n",
       "                for (var i = 0; i < nbb_cells.length; ++i) {\n",
       "                    if (nbb_cells[i].input_prompt_number == nbb_cell_id) {\n",
       "                        if (nbb_cells[i].get_text() == nbb_unformatted_code) {\n",
       "                             nbb_cells[i].set_text(nbb_formatted_code);\n",
       "                        }\n",
       "                        break;\n",
       "                    }\n",
       "                }\n",
       "            }, 500);\n",
       "            "
      ],
      "text/plain": [
       "<IPython.core.display.Javascript object>"
      ]
     },
     "metadata": {},
     "output_type": "display_data"
    }
   ],
   "source": [
    "# Combining separate lists into one dictionary\n",
    "known_for_dict_19 = {\n",
    "    \"social\": social,\n",
    "    \"spiritual\": spiritual,\n",
    "    \"academia_humanities\": academia_humanities,\n",
    "    \"business_farming\": business_farming,\n",
    "    \"sciences\": sciences,\n",
    "    \"politics_govt_law\": politics_govt_law,\n",
    "    \"law_enf_military_operator\": law_enf_military_operator,\n",
    "    \"crime\": crime,\n",
    "    \"event_record_other\": event_record_other,\n",
    "    \"other_species\": other_species,\n",
    "    \"arts\": arts,\n",
    "    \"sports\": sports,\n",
    "}"
   ]
  },
  {
   "cell_type": "markdown",
   "id": "a77d0895",
   "metadata": {},
   "source": [
    "#### Extracting Category from `info_2`"
   ]
  },
  {
   "cell_type": "code",
   "execution_count": 560,
   "id": "ef917709",
   "metadata": {},
   "outputs": [
    {
     "name": "stdout",
     "output_type": "stream",
     "text": [
      "CPU times: total: 1min 48s\n",
      "Wall time: 1min 48s\n"
     ]
    },
    {
     "data": {
      "text/html": [
       "<div>\n",
       "<style scoped>\n",
       "    .dataframe tbody tr th:only-of-type {\n",
       "        vertical-align: middle;\n",
       "    }\n",
       "\n",
       "    .dataframe tbody tr th {\n",
       "        vertical-align: top;\n",
       "    }\n",
       "\n",
       "    .dataframe thead th {\n",
       "        text-align: right;\n",
       "    }\n",
       "</style>\n",
       "<table border=\"1\" class=\"dataframe\">\n",
       "  <thead>\n",
       "    <tr style=\"text-align: right;\">\n",
       "      <th></th>\n",
       "      <th>day</th>\n",
       "      <th>name</th>\n",
       "      <th>info</th>\n",
       "      <th>link</th>\n",
       "      <th>num_references</th>\n",
       "      <th>year</th>\n",
       "      <th>month</th>\n",
       "      <th>info_parenth</th>\n",
       "      <th>info_1</th>\n",
       "      <th>info_2</th>\n",
       "      <th>info_3</th>\n",
       "      <th>info_4</th>\n",
       "      <th>info_5</th>\n",
       "      <th>info_6</th>\n",
       "      <th>info_7</th>\n",
       "      <th>info_8</th>\n",
       "      <th>info_9</th>\n",
       "      <th>info_10</th>\n",
       "      <th>info_11</th>\n",
       "      <th>age</th>\n",
       "      <th>cause_of_death</th>\n",
       "      <th>place_1</th>\n",
       "      <th>place_2</th>\n",
       "      <th>info_parenth_copy</th>\n",
       "      <th>log_num_references</th>\n",
       "      <th>sciences</th>\n",
       "      <th>social</th>\n",
       "      <th>spiritual</th>\n",
       "      <th>academia_humanities</th>\n",
       "      <th>business_farming</th>\n",
       "      <th>arts</th>\n",
       "      <th>sports</th>\n",
       "      <th>law_enf_military_operator</th>\n",
       "      <th>politics_govt_law</th>\n",
       "      <th>crime</th>\n",
       "      <th>event_record_other</th>\n",
       "      <th>other_species</th>\n",
       "      <th>num_categories</th>\n",
       "    </tr>\n",
       "  </thead>\n",
       "  <tbody>\n",
       "    <tr>\n",
       "      <th>94502</th>\n",
       "      <td>8</td>\n",
       "      <td>Barry Harris</td>\n",
       "      <td>, 91, American jazz musician, complications from COVID-19.</td>\n",
       "      <td>https://en.wikipedia.org/wiki/Barry_Harris</td>\n",
       "      <td>17</td>\n",
       "      <td>2021</td>\n",
       "      <td>December</td>\n",
       "      <td>None</td>\n",
       "      <td>None</td>\n",
       "      <td></td>\n",
       "      <td>complications from COVID</td>\n",
       "      <td>None</td>\n",
       "      <td>None</td>\n",
       "      <td>None</td>\n",
       "      <td>None</td>\n",
       "      <td>None</td>\n",
       "      <td>None</td>\n",
       "      <td>None</td>\n",
       "      <td>None</td>\n",
       "      <td>91.0</td>\n",
       "      <td>None</td>\n",
       "      <td>United States of America</td>\n",
       "      <td>None</td>\n",
       "      <td>None</td>\n",
       "      <td>2.890372</td>\n",
       "      <td>0</td>\n",
       "      <td>0</td>\n",
       "      <td>0</td>\n",
       "      <td>0</td>\n",
       "      <td>0</td>\n",
       "      <td>1</td>\n",
       "      <td>0</td>\n",
       "      <td>0</td>\n",
       "      <td>0</td>\n",
       "      <td>0</td>\n",
       "      <td>0</td>\n",
       "      <td>0</td>\n",
       "      <td>1</td>\n",
       "    </tr>\n",
       "    <tr>\n",
       "      <th>21380</th>\n",
       "      <td>10</td>\n",
       "      <td>Marie Hartley</td>\n",
       "      <td>, 100, British author and illustrator.</td>\n",
       "      <td>https://en.wikipedia.org/wiki/Marie_Hartley</td>\n",
       "      <td>3</td>\n",
       "      <td>2006</td>\n",
       "      <td>May</td>\n",
       "      <td>None</td>\n",
       "      <td>None</td>\n",
       "      <td></td>\n",
       "      <td>None</td>\n",
       "      <td>None</td>\n",
       "      <td>None</td>\n",
       "      <td>None</td>\n",
       "      <td>None</td>\n",
       "      <td>None</td>\n",
       "      <td>None</td>\n",
       "      <td>None</td>\n",
       "      <td>None</td>\n",
       "      <td>100.0</td>\n",
       "      <td>None</td>\n",
       "      <td>United Kingdom of Great Britain and Northern Ireland</td>\n",
       "      <td>None</td>\n",
       "      <td>None</td>\n",
       "      <td>1.386294</td>\n",
       "      <td>0</td>\n",
       "      <td>0</td>\n",
       "      <td>0</td>\n",
       "      <td>0</td>\n",
       "      <td>0</td>\n",
       "      <td>1</td>\n",
       "      <td>0</td>\n",
       "      <td>0</td>\n",
       "      <td>0</td>\n",
       "      <td>0</td>\n",
       "      <td>0</td>\n",
       "      <td>0</td>\n",
       "      <td>1</td>\n",
       "    </tr>\n",
       "  </tbody>\n",
       "</table>\n",
       "</div>"
      ],
      "text/plain": [
       "      day           name  \\\n",
       "94502   8   Barry Harris   \n",
       "21380  10  Marie Hartley   \n",
       "\n",
       "                                                             info  \\\n",
       "94502  , 91, American jazz musician, complications from COVID-19.   \n",
       "21380                      , 100, British author and illustrator.   \n",
       "\n",
       "                                              link  num_references  year  \\\n",
       "94502   https://en.wikipedia.org/wiki/Barry_Harris              17  2021   \n",
       "21380  https://en.wikipedia.org/wiki/Marie_Hartley               3  2006   \n",
       "\n",
       "          month info_parenth info_1 info_2                    info_3 info_4  \\\n",
       "94502  December         None   None         complications from COVID   None   \n",
       "21380       May         None   None                             None   None   \n",
       "\n",
       "      info_5 info_6 info_7 info_8 info_9 info_10 info_11    age  \\\n",
       "94502   None   None   None   None   None    None    None   91.0   \n",
       "21380   None   None   None   None   None    None    None  100.0   \n",
       "\n",
       "      cause_of_death                                               place_1  \\\n",
       "94502           None                              United States of America   \n",
       "21380           None  United Kingdom of Great Britain and Northern Ireland   \n",
       "\n",
       "      place_2 info_parenth_copy  log_num_references  sciences  social  \\\n",
       "94502    None              None            2.890372         0       0   \n",
       "21380    None              None            1.386294         0       0   \n",
       "\n",
       "       spiritual  academia_humanities  business_farming  arts  sports  \\\n",
       "94502          0                    0                 0     1       0   \n",
       "21380          0                    0                 0     1       0   \n",
       "\n",
       "       law_enf_military_operator  politics_govt_law  crime  \\\n",
       "94502                          0                  0      0   \n",
       "21380                          0                  0      0   \n",
       "\n",
       "       event_record_other  other_species  num_categories  \n",
       "94502                   0              0               1  \n",
       "21380                   0              0               1  "
      ]
     },
     "execution_count": 560,
     "metadata": {},
     "output_type": "execute_result"
    },
    {
     "data": {
      "application/javascript": [
       "\n",
       "            setTimeout(function() {\n",
       "                var nbb_cell_id = 560;\n",
       "                var nbb_unformatted_code = \"%%time\\n\\n# Dictionary version\\nsearch_dict = known_for_dict_19\\n\\n# Column to check\\ncolumn = 'info_2'\\n\\n# Dataframe\\ndataframe = df[column].notna()\\n\\n# For loop to find role in column and extract it as category\\nfor category, category_lst in search_dict.items():\\n    for role in category_lst:\\n        for index in dataframe.index:\\n            item = df.loc[index, column]\\n            if item:\\n                if role in item:\\n                    df.loc[index, category] = 1\\n                    df.loc[index, column] = item.replace(role, '').strip()\\n\\n# Checking a sample of rows\\ndf[df['arts'] ==1].sample(2)\";\n",
       "                var nbb_formatted_code = \"%%time\\n\\n# Dictionary version\\nsearch_dict = known_for_dict_19\\n\\n# Column to check\\ncolumn = 'info_2'\\n\\n# Dataframe\\ndataframe = df[column].notna()\\n\\n# For loop to find role in column and extract it as category\\nfor category, category_lst in search_dict.items():\\n    for role in category_lst:\\n        for index in dataframe.index:\\n            item = df.loc[index, column]\\n            if item:\\n                if role in item:\\n                    df.loc[index, category] = 1\\n                    df.loc[index, column] = item.replace(role, '').strip()\\n\\n# Checking a sample of rows\\ndf[df['arts'] ==1].sample(2)\";\n",
       "                var nbb_cells = Jupyter.notebook.get_cells();\n",
       "                for (var i = 0; i < nbb_cells.length; ++i) {\n",
       "                    if (nbb_cells[i].input_prompt_number == nbb_cell_id) {\n",
       "                        if (nbb_cells[i].get_text() == nbb_unformatted_code) {\n",
       "                             nbb_cells[i].set_text(nbb_formatted_code);\n",
       "                        }\n",
       "                        break;\n",
       "                    }\n",
       "                }\n",
       "            }, 500);\n",
       "            "
      ],
      "text/plain": [
       "<IPython.core.display.Javascript object>"
      ]
     },
     "metadata": {},
     "output_type": "display_data"
    }
   ],
   "source": [
    "%%time\n",
    "\n",
    "# Dictionary version\n",
    "search_dict = known_for_dict_19\n",
    "\n",
    "# Column to check\n",
    "column = 'info_2'\n",
    "\n",
    "# Dataframe\n",
    "dataframe = df[column].notna()\n",
    "\n",
    "# For loop to find role in column and extract it as category\n",
    "for category, category_lst in search_dict.items():\n",
    "    for role in category_lst:\n",
    "        for index in dataframe.index:\n",
    "            item = df.loc[index, column]\n",
    "            if item:\n",
    "                if role in item:\n",
    "                    df.loc[index, category] = 1\n",
    "                    df.loc[index, column] = item.replace(role, '').strip()\n",
    "\n",
    "# Checking a sample of rows\n",
    "df[df['arts'] ==1].sample(2)"
   ]
  },
  {
   "cell_type": "markdown",
   "id": "404a65b1",
   "metadata": {},
   "source": [
    "#### Checking the Number of Rows without a First Category"
   ]
  },
  {
   "cell_type": "code",
   "execution_count": 561,
   "id": "329a2eed",
   "metadata": {},
   "outputs": [
    {
     "name": "stdout",
     "output_type": "stream",
     "text": [
      "There are 47693 entries without any known_for category.\n"
     ]
    },
    {
     "data": {
      "application/javascript": [
       "\n",
       "            setTimeout(function() {\n",
       "                var nbb_cell_id = 561;\n",
       "                var nbb_unformatted_code = \"#### Checking the number of rows without a first category\\ndf[\\\"num_categories\\\"] = df[known_for_dict_19.keys()].sum(axis=1)\\n\\nprint(\\n    f'There are {len(df[df[\\\"num_categories\\\"]==0])} entries without any known_for category.'\\n)\";\n",
       "                var nbb_formatted_code = \"#### Checking the number of rows without a first category\\ndf[\\\"num_categories\\\"] = df[known_for_dict_19.keys()].sum(axis=1)\\n\\nprint(\\n    f'There are {len(df[df[\\\"num_categories\\\"]==0])} entries without any known_for category.'\\n)\";\n",
       "                var nbb_cells = Jupyter.notebook.get_cells();\n",
       "                for (var i = 0; i < nbb_cells.length; ++i) {\n",
       "                    if (nbb_cells[i].input_prompt_number == nbb_cell_id) {\n",
       "                        if (nbb_cells[i].get_text() == nbb_unformatted_code) {\n",
       "                             nbb_cells[i].set_text(nbb_formatted_code);\n",
       "                        }\n",
       "                        break;\n",
       "                    }\n",
       "                }\n",
       "            }, 500);\n",
       "            "
      ],
      "text/plain": [
       "<IPython.core.display.Javascript object>"
      ]
     },
     "metadata": {},
     "output_type": "display_data"
    }
   ],
   "source": [
    "#### Checking the number of rows without a first category\n",
    "df[\"num_categories\"] = df[known_for_dict_19.keys()].sum(axis=1)\n",
    "\n",
    "print(\n",
    "    f'There are {len(df[df[\"num_categories\"]==0])} entries without any known_for category.'\n",
    ")"
   ]
  },
  {
   "cell_type": "markdown",
   "id": "96ca2328",
   "metadata": {},
   "source": [
    "#### Observations:\n",
    "- We will proceed to build `known_for_dict_20` for the next iteration."
   ]
  },
  {
   "cell_type": "markdown",
   "id": "8e46391c",
   "metadata": {},
   "source": [
    "#### Finding `known_for` Roles in `info_2`"
   ]
  },
  {
   "cell_type": "code",
   "execution_count": 563,
   "id": "5a44c0eb",
   "metadata": {},
   "outputs": [
    {
     "data": {
      "application/javascript": [
       "\n",
       "            setTimeout(function() {\n",
       "                var nbb_cell_id = 563;\n",
       "                var nbb_unformatted_code = \"# Obtaining values for column and their counts\\nroles_list = df[\\\"info_2\\\"].value_counts(ascending=True).index.tolist()\";\n",
       "                var nbb_formatted_code = \"# Obtaining values for column and their counts\\nroles_list = df[\\\"info_2\\\"].value_counts(ascending=True).index.tolist()\";\n",
       "                var nbb_cells = Jupyter.notebook.get_cells();\n",
       "                for (var i = 0; i < nbb_cells.length; ++i) {\n",
       "                    if (nbb_cells[i].input_prompt_number == nbb_cell_id) {\n",
       "                        if (nbb_cells[i].get_text() == nbb_unformatted_code) {\n",
       "                             nbb_cells[i].set_text(nbb_formatted_code);\n",
       "                        }\n",
       "                        break;\n",
       "                    }\n",
       "                }\n",
       "            }, 500);\n",
       "            "
      ],
      "text/plain": [
       "<IPython.core.display.Javascript object>"
      ]
     },
     "metadata": {},
     "output_type": "display_data"
    }
   ],
   "source": [
    "# Obtaining values for column and their counts\n",
    "roles_list = df[\"info_2\"].value_counts(ascending=True).index.tolist()"
   ]
  },
  {
   "cell_type": "code",
   "execution_count": 997,
   "id": "c90a18b1",
   "metadata": {},
   "outputs": [
    {
     "data": {
      "application/javascript": [
       "\n",
       "            setTimeout(function() {\n",
       "                var nbb_cell_id = 997;\n",
       "                var nbb_unformatted_code = \"# # Code to check each value\\n# roles_list.pop()\";\n",
       "                var nbb_formatted_code = \"# # Code to check each value\\n# roles_list.pop()\";\n",
       "                var nbb_cells = Jupyter.notebook.get_cells();\n",
       "                for (var i = 0; i < nbb_cells.length; ++i) {\n",
       "                    if (nbb_cells[i].input_prompt_number == nbb_cell_id) {\n",
       "                        if (nbb_cells[i].get_text() == nbb_unformatted_code) {\n",
       "                             nbb_cells[i].set_text(nbb_formatted_code);\n",
       "                        }\n",
       "                        break;\n",
       "                    }\n",
       "                }\n",
       "            }, 500);\n",
       "            "
      ],
      "text/plain": [
       "<IPython.core.display.Javascript object>"
      ]
     },
     "metadata": {},
     "output_type": "display_data"
    }
   ],
   "source": [
    "# # Code to check each value\n",
    "# roles_list.pop()"
   ]
  },
  {
   "cell_type": "code",
   "execution_count": 996,
   "id": "1a25c571",
   "metadata": {},
   "outputs": [
    {
     "data": {
      "application/javascript": [
       "\n",
       "            setTimeout(function() {\n",
       "                var nbb_cell_id = 996;\n",
       "                var nbb_unformatted_code = \"# # Create specific_roles_list for above popped value\\n# specific_roles_list = (\\n#     df.loc[\\n#         [index for index in df.index if \\\"academic\\\" in df.loc[index, \\\"info\\\"]], \\\"info_2\\\",\\n#     ]\\n#     .value_counts()\\n#     .index.tolist()\\n# )\";\n",
       "                var nbb_formatted_code = \"# # Create specific_roles_list for above popped value\\n# specific_roles_list = (\\n#     df.loc[\\n#         [index for index in df.index if \\\"academic\\\" in df.loc[index, \\\"info\\\"]], \\\"info_2\\\",\\n#     ]\\n#     .value_counts()\\n#     .index.tolist()\\n# )\";\n",
       "                var nbb_cells = Jupyter.notebook.get_cells();\n",
       "                for (var i = 0; i < nbb_cells.length; ++i) {\n",
       "                    if (nbb_cells[i].input_prompt_number == nbb_cell_id) {\n",
       "                        if (nbb_cells[i].get_text() == nbb_unformatted_code) {\n",
       "                             nbb_cells[i].set_text(nbb_formatted_code);\n",
       "                        }\n",
       "                        break;\n",
       "                    }\n",
       "                }\n",
       "            }, 500);\n",
       "            "
      ],
      "text/plain": [
       "<IPython.core.display.Javascript object>"
      ]
     },
     "metadata": {},
     "output_type": "display_data"
    }
   ],
   "source": [
    "# # Create specific_roles_list for above popped value\n",
    "# specific_roles_list = (\n",
    "#     df.loc[\n",
    "#         [index for index in df.index if \"academic\" in df.loc[index, \"info\"]], \"info_2\",\n",
    "#     ]\n",
    "#     .value_counts()\n",
    "#     .index.tolist()\n",
    "# )"
   ]
  },
  {
   "cell_type": "code",
   "execution_count": 995,
   "id": "694db90e",
   "metadata": {},
   "outputs": [
    {
     "data": {
      "application/javascript": [
       "\n",
       "            setTimeout(function() {\n",
       "                var nbb_cell_id = 995;\n",
       "                var nbb_unformatted_code = \"# # Code to check each specific value\\n# specific_roles_list.pop()\";\n",
       "                var nbb_formatted_code = \"# # Code to check each specific value\\n# specific_roles_list.pop()\";\n",
       "                var nbb_cells = Jupyter.notebook.get_cells();\n",
       "                for (var i = 0; i < nbb_cells.length; ++i) {\n",
       "                    if (nbb_cells[i].input_prompt_number == nbb_cell_id) {\n",
       "                        if (nbb_cells[i].get_text() == nbb_unformatted_code) {\n",
       "                             nbb_cells[i].set_text(nbb_formatted_code);\n",
       "                        }\n",
       "                        break;\n",
       "                    }\n",
       "                }\n",
       "            }, 500);\n",
       "            "
      ],
      "text/plain": [
       "<IPython.core.display.Javascript object>"
      ]
     },
     "metadata": {},
     "output_type": "display_data"
    }
   ],
   "source": [
    "# # Code to check each specific value\n",
    "# specific_roles_list.pop()"
   ]
  },
  {
   "cell_type": "code",
   "execution_count": 992,
   "id": "ce021482",
   "metadata": {},
   "outputs": [
    {
     "data": {
      "application/javascript": [
       "\n",
       "            setTimeout(function() {\n",
       "                var nbb_cell_id = 992;\n",
       "                var nbb_unformatted_code = \"# # Example code to quick-screen values that may overlap categories\\n# df.loc[\\n#     [index for index in df.index if \\\"and academic fraudster\\\" in df.loc[index, \\\"info\\\"]]\\n# ]\";\n",
       "                var nbb_formatted_code = \"# # Example code to quick-screen values that may overlap categories\\n# df.loc[\\n#     [index for index in df.index if \\\"and academic fraudster\\\" in df.loc[index, \\\"info\\\"]]\\n# ]\";\n",
       "                var nbb_cells = Jupyter.notebook.get_cells();\n",
       "                for (var i = 0; i < nbb_cells.length; ++i) {\n",
       "                    if (nbb_cells[i].input_prompt_number == nbb_cell_id) {\n",
       "                        if (nbb_cells[i].get_text() == nbb_unformatted_code) {\n",
       "                             nbb_cells[i].set_text(nbb_formatted_code);\n",
       "                        }\n",
       "                        break;\n",
       "                    }\n",
       "                }\n",
       "            }, 500);\n",
       "            "
      ],
      "text/plain": [
       "<IPython.core.display.Javascript object>"
      ]
     },
     "metadata": {},
     "output_type": "display_data"
    }
   ],
   "source": [
    "# # Example code to quick-screen values that may overlap categories\n",
    "# df.loc[\n",
    "#     [index for index in df.index if \"and academic fraudster\" in df.loc[index, \"info\"]]\n",
    "# ]"
   ]
  },
  {
   "cell_type": "code",
   "execution_count": null,
   "id": "73c6dc52",
   "metadata": {},
   "outputs": [],
   "source": [
    "# # Example code to quick-screen values that may overlap categories\n",
    "# df.loc[\n",
    "#     [\n",
    "#         index\n",
    "#         for index in df.index\n",
    "#         if \"outlaw country music singer songwriter\" in df.loc[index, \"info\"]\n",
    "#     ]\n",
    "# ]"
   ]
  },
  {
   "cell_type": "code",
   "execution_count": 991,
   "id": "7eb254c6",
   "metadata": {},
   "outputs": [
    {
     "data": {
      "application/javascript": [
       "\n",
       "            setTimeout(function() {\n",
       "                var nbb_cell_id = 991;\n",
       "                var nbb_unformatted_code = \"# # Example code to quick-check a specific entry\\n# df[df[\\\"info_2\\\"] == \\\"academician and Judaica scholar\\\"]\";\n",
       "                var nbb_formatted_code = \"# # Example code to quick-check a specific entry\\n# df[df[\\\"info_2\\\"] == \\\"academician and Judaica scholar\\\"]\";\n",
       "                var nbb_cells = Jupyter.notebook.get_cells();\n",
       "                for (var i = 0; i < nbb_cells.length; ++i) {\n",
       "                    if (nbb_cells[i].input_prompt_number == nbb_cell_id) {\n",
       "                        if (nbb_cells[i].get_text() == nbb_unformatted_code) {\n",
       "                             nbb_cells[i].set_text(nbb_formatted_code);\n",
       "                        }\n",
       "                        break;\n",
       "                    }\n",
       "                }\n",
       "            }, 500);\n",
       "            "
      ],
      "text/plain": [
       "<IPython.core.display.Javascript object>"
      ]
     },
     "metadata": {},
     "output_type": "display_data"
    }
   ],
   "source": [
    "# # Example code to quick-check a specific entry\n",
    "# df[df[\"info_2\"] == \"academician and Judaica scholar\"]"
   ]
  },
  {
   "cell_type": "markdown",
   "id": "2311c9ae",
   "metadata": {},
   "source": [
    "#### Creating Lists for Each `known_for` Category"
   ]
  },
  {
   "cell_type": "code",
   "execution_count": 998,
   "id": "cbc4a1c7",
   "metadata": {},
   "outputs": [
    {
     "data": {
      "application/javascript": [
       "\n",
       "            setTimeout(function() {\n",
       "                var nbb_cell_id = 998;\n",
       "                var nbb_unformatted_code = \"# Creating lists for each category\\npolitics_govt_law = [\\\"intelligence theorist\\\"]\\n\\narts = [\\n    \\\"and academic fraudster\\\",  # before academia_humanities\\n]\\nsports = []\\nsciences = [\\\"and shoe expert\\\", \\\"cyber security expert\\\"]\\n\\nbusiness_farming = []\\nacademia_humanities = [\\n    \\\"Three Affiliated Tribes academic\\\",\\n    \\\"grammar academic\\\",\\n    \\\"academic and librarian\\\",\\n    \\\"university administrator and academic\\\",\\n    \\\"academic and redologist\\\",\\n    \\\"academic and professor\\\",\\n    \\\"educationalist and academic\\\",\\n    \\\"Druze academic\\\",\\n    \\\"academic and sinologist\\\",\\n    \\\"academic and educationalist\\\",\\n    \\\"academic director\\\",\\n    \\\"Blackfoot academic administrator\\\",\\n    \\\"medievalist and academic\\\",\\n    \\\"academic and college president;\\\",\\n    \\\"Creole academic\\\",\\n    \\\"anthropologist who founded the academic journal\\\",\\n    \\\"professor and academic\\\",\\n    \\\"academic and university president\\\",\\n    \\\"interpreter and academic\\\",\\n    \\\"university academic and administrator\\\",\\n    \\\"academic and administrator\\\",\\n    \\\"and medical academic\\\",\\n    \\\"law expert and academic\\\",\\n    \\\"academic of descent\\\",\\n    \\\"teacher and academic\\\",\\n    \\\"academic and philosopher\\\",\\n    \\\"ans academic\\\",\\n    \\\"academic leader and\\\",\\n    \\\"academic philosopher\\\",\\n    \\\"and academic Parkinson disease\\\",\\n    \\\"fat studies academic and\\\",\\n    \\\"and tax academic\\\",\\n    \\\"theorist and academic\\\",\\n    \\\"linguist and academic administrator\\\",\\n    \\\"classics and ancient history academic\\\",\\n    \\\"Africanist and academic\\\",\\n    \\\"archivist and academic administrator\\\",\\n    \\\"Orientalist and academic\\\",\\n    \\\"and religious academic\\\",\\n    \\\"scholar and academic administrator\\\",\\n    \\\"and nursing academic\\\",\\n    \\\"curator and academic administrator\\\",\\n    \\\"professor and academic administrator\\\",\\n    \\\"Meso epigraphist and academic\\\",\\n    \\\"academic and Quechua translator\\\",\\n    \\\"and culture academic\\\",\\n    \\\"academician and educator\\\",\\n    \\\"philosopher and acedemician\\\",\\n    \\\"Opaskwayak academic\\\",\\n    \\\"geographer and academic\\\",\\n    \\\"academic and university administrator\\\",\\n    \\\"translator and academic\\\",\\n    \\\"academic and linguist\\\",\\n    \\\"academic and scholar\\\",\\n    \\\"folklorist and academic\\\",\\n    \\\"educator and academic administrator\\\",\\n    \\\"classicist and academic\\\",\\n    \\\"archaeologist and academic\\\",\\n    \\\"M\\u0101ori language academic\\\",\\n    \\\"academic and translator\\\",\\n    \\\"librarian and academic\\\",\\n    \\\"educator and academic\\\",\\n    \\\"linguist and academic\\\",\\n    \\\"academic and educator\\\",\\n    \\\"philosopher and academic\\\",\\n    \\\"scholar and academic\\\",\\n    \\\"and an academic teacher\\\",\\n    \\\"academician and\\\",\\n    \\\"academic and professor of\\\",\\n    \\\"and academic teacher\\\",\\n    \\\"and an academic\\\",\\n    \\\"and academic administrator\\\",\\n    \\\"and academician\\\",\\n    \\\"academician\\\",\\n    \\\"academic professor and\\\",\\n    \\\"academic administrator and\\\",\\n    \\\"academic administrator\\\",\\n    \\\"and academic\\\",\\n    \\\"academic and\\\",\\n    \\\"academic\\\",\\n]\\nlaw_enf_military_operator = []\\nspiritual = []\\nsocial = []\\ncrime = []\\nevent_record_other = []\\nother_species = []\";\n",
       "                var nbb_formatted_code = \"# Creating lists for each category\\npolitics_govt_law = [\\\"intelligence theorist\\\"]\\n\\narts = [\\n    \\\"and academic fraudster\\\",  # before academia_humanities\\n]\\nsports = []\\nsciences = [\\\"and shoe expert\\\", \\\"cyber security expert\\\"]\\n\\nbusiness_farming = []\\nacademia_humanities = [\\n    \\\"Three Affiliated Tribes academic\\\",\\n    \\\"grammar academic\\\",\\n    \\\"academic and librarian\\\",\\n    \\\"university administrator and academic\\\",\\n    \\\"academic and redologist\\\",\\n    \\\"academic and professor\\\",\\n    \\\"educationalist and academic\\\",\\n    \\\"Druze academic\\\",\\n    \\\"academic and sinologist\\\",\\n    \\\"academic and educationalist\\\",\\n    \\\"academic director\\\",\\n    \\\"Blackfoot academic administrator\\\",\\n    \\\"medievalist and academic\\\",\\n    \\\"academic and college president;\\\",\\n    \\\"Creole academic\\\",\\n    \\\"anthropologist who founded the academic journal\\\",\\n    \\\"professor and academic\\\",\\n    \\\"academic and university president\\\",\\n    \\\"interpreter and academic\\\",\\n    \\\"university academic and administrator\\\",\\n    \\\"academic and administrator\\\",\\n    \\\"and medical academic\\\",\\n    \\\"law expert and academic\\\",\\n    \\\"academic of descent\\\",\\n    \\\"teacher and academic\\\",\\n    \\\"academic and philosopher\\\",\\n    \\\"ans academic\\\",\\n    \\\"academic leader and\\\",\\n    \\\"academic philosopher\\\",\\n    \\\"and academic Parkinson disease\\\",\\n    \\\"fat studies academic and\\\",\\n    \\\"and tax academic\\\",\\n    \\\"theorist and academic\\\",\\n    \\\"linguist and academic administrator\\\",\\n    \\\"classics and ancient history academic\\\",\\n    \\\"Africanist and academic\\\",\\n    \\\"archivist and academic administrator\\\",\\n    \\\"Orientalist and academic\\\",\\n    \\\"and religious academic\\\",\\n    \\\"scholar and academic administrator\\\",\\n    \\\"and nursing academic\\\",\\n    \\\"curator and academic administrator\\\",\\n    \\\"professor and academic administrator\\\",\\n    \\\"Meso epigraphist and academic\\\",\\n    \\\"academic and Quechua translator\\\",\\n    \\\"and culture academic\\\",\\n    \\\"academician and educator\\\",\\n    \\\"philosopher and acedemician\\\",\\n    \\\"Opaskwayak academic\\\",\\n    \\\"geographer and academic\\\",\\n    \\\"academic and university administrator\\\",\\n    \\\"translator and academic\\\",\\n    \\\"academic and linguist\\\",\\n    \\\"academic and scholar\\\",\\n    \\\"folklorist and academic\\\",\\n    \\\"educator and academic administrator\\\",\\n    \\\"classicist and academic\\\",\\n    \\\"archaeologist and academic\\\",\\n    \\\"M\\u0101ori language academic\\\",\\n    \\\"academic and translator\\\",\\n    \\\"librarian and academic\\\",\\n    \\\"educator and academic\\\",\\n    \\\"linguist and academic\\\",\\n    \\\"academic and educator\\\",\\n    \\\"philosopher and academic\\\",\\n    \\\"scholar and academic\\\",\\n    \\\"and an academic teacher\\\",\\n    \\\"academician and\\\",\\n    \\\"academic and professor of\\\",\\n    \\\"and academic teacher\\\",\\n    \\\"and an academic\\\",\\n    \\\"and academic administrator\\\",\\n    \\\"and academician\\\",\\n    \\\"academician\\\",\\n    \\\"academic professor and\\\",\\n    \\\"academic administrator and\\\",\\n    \\\"academic administrator\\\",\\n    \\\"and academic\\\",\\n    \\\"academic and\\\",\\n    \\\"academic\\\",\\n]\\nlaw_enf_military_operator = []\\nspiritual = []\\nsocial = []\\ncrime = []\\nevent_record_other = []\\nother_species = []\";\n",
       "                var nbb_cells = Jupyter.notebook.get_cells();\n",
       "                for (var i = 0; i < nbb_cells.length; ++i) {\n",
       "                    if (nbb_cells[i].input_prompt_number == nbb_cell_id) {\n",
       "                        if (nbb_cells[i].get_text() == nbb_unformatted_code) {\n",
       "                             nbb_cells[i].set_text(nbb_formatted_code);\n",
       "                        }\n",
       "                        break;\n",
       "                    }\n",
       "                }\n",
       "            }, 500);\n",
       "            "
      ],
      "text/plain": [
       "<IPython.core.display.Javascript object>"
      ]
     },
     "metadata": {},
     "output_type": "display_data"
    }
   ],
   "source": [
    "# Creating lists for each category\n",
    "politics_govt_law = [\"intelligence theorist\"]\n",
    "\n",
    "arts = [\n",
    "    \"and academic fraudster\",  # before academia_humanities\n",
    "]\n",
    "sports = []\n",
    "sciences = [\"and shoe expert\", \"cyber security expert\"]\n",
    "\n",
    "business_farming = []\n",
    "academia_humanities = [\n",
    "    \"Three Affiliated Tribes academic\",\n",
    "    \"grammar academic\",\n",
    "    \"academic and librarian\",\n",
    "    \"university administrator and academic\",\n",
    "    \"academic and redologist\",\n",
    "    \"academic and professor\",\n",
    "    \"educationalist and academic\",\n",
    "    \"Druze academic\",\n",
    "    \"academic and sinologist\",\n",
    "    \"academic and educationalist\",\n",
    "    \"academic director\",\n",
    "    \"Blackfoot academic administrator\",\n",
    "    \"medievalist and academic\",\n",
    "    \"academic and college president;\",\n",
    "    \"Creole academic\",\n",
    "    \"anthropologist who founded the academic journal\",\n",
    "    \"professor and academic\",\n",
    "    \"academic and university president\",\n",
    "    \"interpreter and academic\",\n",
    "    \"university academic and administrator\",\n",
    "    \"academic and administrator\",\n",
    "    \"and medical academic\",\n",
    "    \"law expert and academic\",\n",
    "    \"academic of descent\",\n",
    "    \"teacher and academic\",\n",
    "    \"academic and philosopher\",\n",
    "    \"ans academic\",\n",
    "    \"academic leader and\",\n",
    "    \"academic philosopher\",\n",
    "    \"and academic Parkinson disease\",\n",
    "    \"fat studies academic and\",\n",
    "    \"and tax academic\",\n",
    "    \"theorist and academic\",\n",
    "    \"linguist and academic administrator\",\n",
    "    \"classics and ancient history academic\",\n",
    "    \"Africanist and academic\",\n",
    "    \"archivist and academic administrator\",\n",
    "    \"Orientalist and academic\",\n",
    "    \"and religious academic\",\n",
    "    \"scholar and academic administrator\",\n",
    "    \"and nursing academic\",\n",
    "    \"curator and academic administrator\",\n",
    "    \"professor and academic administrator\",\n",
    "    \"Meso epigraphist and academic\",\n",
    "    \"academic and Quechua translator\",\n",
    "    \"and culture academic\",\n",
    "    \"academician and educator\",\n",
    "    \"philosopher and acedemician\",\n",
    "    \"Opaskwayak academic\",\n",
    "    \"geographer and academic\",\n",
    "    \"academic and university administrator\",\n",
    "    \"translator and academic\",\n",
    "    \"academic and linguist\",\n",
    "    \"academic and scholar\",\n",
    "    \"folklorist and academic\",\n",
    "    \"educator and academic administrator\",\n",
    "    \"classicist and academic\",\n",
    "    \"archaeologist and academic\",\n",
    "    \"Māori language academic\",\n",
    "    \"academic and translator\",\n",
    "    \"librarian and academic\",\n",
    "    \"educator and academic\",\n",
    "    \"linguist and academic\",\n",
    "    \"academic and educator\",\n",
    "    \"philosopher and academic\",\n",
    "    \"scholar and academic\",\n",
    "    \"and an academic teacher\",\n",
    "    \"academician and\",\n",
    "    \"academic and professor of\",\n",
    "    \"and academic teacher\",\n",
    "    \"and an academic\",\n",
    "    \"and academic administrator\",\n",
    "    \"and academician\",\n",
    "    \"academician\",\n",
    "    \"academic professor and\",\n",
    "    \"academic administrator and\",\n",
    "    \"academic administrator\",\n",
    "    \"and academic\",\n",
    "    \"academic and\",\n",
    "    \"academic\",\n",
    "]\n",
    "law_enf_military_operator = []\n",
    "spiritual = []\n",
    "social = []\n",
    "crime = []\n",
    "event_record_other = []\n",
    "other_species = []"
   ]
  },
  {
   "cell_type": "code",
   "execution_count": 999,
   "id": "0a4d1005",
   "metadata": {},
   "outputs": [
    {
     "data": {
      "application/javascript": [
       "\n",
       "            setTimeout(function() {\n",
       "                var nbb_cell_id = 999;\n",
       "                var nbb_unformatted_code = \"# Hard-coding cause_of_death for entry with value in info_2\\nindex = df[df['link'] == 'https://en.wikipedia.org/wiki/Rutherford_Aris'].index\\ndf.loc[index, 'cause_of_death'] = 'Parkinson disease'\";\n",
       "                var nbb_formatted_code = \"# Hard-coding cause_of_death for entry with value in info_2\\nindex = df[df[\\\"link\\\"] == \\\"https://en.wikipedia.org/wiki/Rutherford_Aris\\\"].index\\ndf.loc[index, \\\"cause_of_death\\\"] = \\\"Parkinson disease\\\"\";\n",
       "                var nbb_cells = Jupyter.notebook.get_cells();\n",
       "                for (var i = 0; i < nbb_cells.length; ++i) {\n",
       "                    if (nbb_cells[i].input_prompt_number == nbb_cell_id) {\n",
       "                        if (nbb_cells[i].get_text() == nbb_unformatted_code) {\n",
       "                             nbb_cells[i].set_text(nbb_formatted_code);\n",
       "                        }\n",
       "                        break;\n",
       "                    }\n",
       "                }\n",
       "            }, 500);\n",
       "            "
      ],
      "text/plain": [
       "<IPython.core.display.Javascript object>"
      ]
     },
     "metadata": {},
     "output_type": "display_data"
    }
   ],
   "source": [
    "# Hard-coding cause_of_death for entry with value in info_2\n",
    "index = df[df[\"link\"] == \"https://en.wikipedia.org/wiki/Rutherford_Aris\"].index\n",
    "df.loc[index, \"cause_of_death\"] = \"Parkinson disease\""
   ]
  },
  {
   "cell_type": "markdown",
   "id": "8a97cfa7",
   "metadata": {},
   "source": [
    "#### Creating `known_for_dict_20` Dictionary of Category Keys and Specific Role Lists of Values"
   ]
  },
  {
   "cell_type": "code",
   "execution_count": 1000,
   "id": "ba069057",
   "metadata": {},
   "outputs": [
    {
     "data": {
      "application/javascript": [
       "\n",
       "            setTimeout(function() {\n",
       "                var nbb_cell_id = 1000;\n",
       "                var nbb_unformatted_code = \"# Combining separate lists into one dictionary\\nknown_for_dict_20 = {\\n    \\\"social\\\": social,\\n    \\\"spiritual\\\": spiritual,\\n    \\\"arts\\\": arts,\\n    \\\"academia_humanities\\\": academia_humanities,\\n    \\\"business_farming\\\": business_farming,\\n    \\\"sciences\\\": sciences,\\n    \\\"politics_govt_law\\\": politics_govt_law,\\n    \\\"law_enf_military_operator\\\": law_enf_military_operator,\\n    \\\"crime\\\": crime,\\n    \\\"event_record_other\\\": event_record_other,\\n    \\\"other_species\\\": other_species,\\n    \\\"sports\\\": sports,\\n}\";\n",
       "                var nbb_formatted_code = \"# Combining separate lists into one dictionary\\nknown_for_dict_20 = {\\n    \\\"social\\\": social,\\n    \\\"spiritual\\\": spiritual,\\n    \\\"arts\\\": arts,\\n    \\\"academia_humanities\\\": academia_humanities,\\n    \\\"business_farming\\\": business_farming,\\n    \\\"sciences\\\": sciences,\\n    \\\"politics_govt_law\\\": politics_govt_law,\\n    \\\"law_enf_military_operator\\\": law_enf_military_operator,\\n    \\\"crime\\\": crime,\\n    \\\"event_record_other\\\": event_record_other,\\n    \\\"other_species\\\": other_species,\\n    \\\"sports\\\": sports,\\n}\";\n",
       "                var nbb_cells = Jupyter.notebook.get_cells();\n",
       "                for (var i = 0; i < nbb_cells.length; ++i) {\n",
       "                    if (nbb_cells[i].input_prompt_number == nbb_cell_id) {\n",
       "                        if (nbb_cells[i].get_text() == nbb_unformatted_code) {\n",
       "                             nbb_cells[i].set_text(nbb_formatted_code);\n",
       "                        }\n",
       "                        break;\n",
       "                    }\n",
       "                }\n",
       "            }, 500);\n",
       "            "
      ],
      "text/plain": [
       "<IPython.core.display.Javascript object>"
      ]
     },
     "metadata": {},
     "output_type": "display_data"
    }
   ],
   "source": [
    "# Combining separate lists into one dictionary\n",
    "known_for_dict_20 = {\n",
    "    \"social\": social,\n",
    "    \"spiritual\": spiritual,\n",
    "    \"arts\": arts,\n",
    "    \"academia_humanities\": academia_humanities,\n",
    "    \"business_farming\": business_farming,\n",
    "    \"sciences\": sciences,\n",
    "    \"politics_govt_law\": politics_govt_law,\n",
    "    \"law_enf_military_operator\": law_enf_military_operator,\n",
    "    \"crime\": crime,\n",
    "    \"event_record_other\": event_record_other,\n",
    "    \"other_species\": other_species,\n",
    "    \"sports\": sports,\n",
    "}"
   ]
  },
  {
   "cell_type": "markdown",
   "id": "0c4fa750",
   "metadata": {},
   "source": [
    "#### Extracting Category from `info_2`"
   ]
  },
  {
   "cell_type": "code",
   "execution_count": 1001,
   "id": "4d8e3620",
   "metadata": {},
   "outputs": [
    {
     "name": "stdout",
     "output_type": "stream",
     "text": [
      "CPU times: total: 42.9 s\n",
      "Wall time: 42.9 s\n"
     ]
    },
    {
     "data": {
      "text/html": [
       "<div>\n",
       "<style scoped>\n",
       "    .dataframe tbody tr th:only-of-type {\n",
       "        vertical-align: middle;\n",
       "    }\n",
       "\n",
       "    .dataframe tbody tr th {\n",
       "        vertical-align: top;\n",
       "    }\n",
       "\n",
       "    .dataframe thead th {\n",
       "        text-align: right;\n",
       "    }\n",
       "</style>\n",
       "<table border=\"1\" class=\"dataframe\">\n",
       "  <thead>\n",
       "    <tr style=\"text-align: right;\">\n",
       "      <th></th>\n",
       "      <th>day</th>\n",
       "      <th>name</th>\n",
       "      <th>info</th>\n",
       "      <th>link</th>\n",
       "      <th>num_references</th>\n",
       "      <th>year</th>\n",
       "      <th>month</th>\n",
       "      <th>info_parenth</th>\n",
       "      <th>info_1</th>\n",
       "      <th>info_2</th>\n",
       "      <th>info_3</th>\n",
       "      <th>info_4</th>\n",
       "      <th>info_5</th>\n",
       "      <th>info_6</th>\n",
       "      <th>info_7</th>\n",
       "      <th>info_8</th>\n",
       "      <th>info_9</th>\n",
       "      <th>info_10</th>\n",
       "      <th>info_11</th>\n",
       "      <th>age</th>\n",
       "      <th>cause_of_death</th>\n",
       "      <th>place_1</th>\n",
       "      <th>place_2</th>\n",
       "      <th>info_parenth_copy</th>\n",
       "      <th>log_num_references</th>\n",
       "      <th>sciences</th>\n",
       "      <th>social</th>\n",
       "      <th>spiritual</th>\n",
       "      <th>academia_humanities</th>\n",
       "      <th>business_farming</th>\n",
       "      <th>arts</th>\n",
       "      <th>sports</th>\n",
       "      <th>law_enf_military_operator</th>\n",
       "      <th>politics_govt_law</th>\n",
       "      <th>crime</th>\n",
       "      <th>event_record_other</th>\n",
       "      <th>other_species</th>\n",
       "      <th>num_categories</th>\n",
       "    </tr>\n",
       "  </thead>\n",
       "  <tbody>\n",
       "    <tr>\n",
       "      <th>30693</th>\n",
       "      <td>27</td>\n",
       "      <td>Anna Fárová</td>\n",
       "      <td>, 81, Czech photography historian and advocate, Charter 77 signatory.</td>\n",
       "      <td>https://en.wikipedia.org/wiki/Anna_F%C3%A1rov%C3%A1</td>\n",
       "      <td>7</td>\n",
       "      <td>2010</td>\n",
       "      <td>February</td>\n",
       "      <td>None</td>\n",
       "      <td>None</td>\n",
       "      <td>photography</td>\n",
       "      <td>Charter signatory</td>\n",
       "      <td>None</td>\n",
       "      <td>None</td>\n",
       "      <td>None</td>\n",
       "      <td>None</td>\n",
       "      <td>None</td>\n",
       "      <td>None</td>\n",
       "      <td>None</td>\n",
       "      <td>None</td>\n",
       "      <td>81.0</td>\n",
       "      <td>None</td>\n",
       "      <td>Czech Republic</td>\n",
       "      <td>None</td>\n",
       "      <td>None</td>\n",
       "      <td>2.079442</td>\n",
       "      <td>0</td>\n",
       "      <td>0</td>\n",
       "      <td>0</td>\n",
       "      <td>1</td>\n",
       "      <td>0</td>\n",
       "      <td>0</td>\n",
       "      <td>0</td>\n",
       "      <td>0</td>\n",
       "      <td>0</td>\n",
       "      <td>0</td>\n",
       "      <td>0</td>\n",
       "      <td>0</td>\n",
       "      <td>1</td>\n",
       "    </tr>\n",
       "    <tr>\n",
       "      <th>14305</th>\n",
       "      <td>10</td>\n",
       "      <td>John Erickson</td>\n",
       "      <td>, 72, British historian, a leading authority on the Soviet Union and Russia.</td>\n",
       "      <td>https://en.wikipedia.org/wiki/John_Erickson_(historian)</td>\n",
       "      <td>11</td>\n",
       "      <td>2002</td>\n",
       "      <td>February</td>\n",
       "      <td>None</td>\n",
       "      <td>None</td>\n",
       "      <td></td>\n",
       "      <td>a leading authority on the Union and</td>\n",
       "      <td>None</td>\n",
       "      <td>None</td>\n",
       "      <td>None</td>\n",
       "      <td>None</td>\n",
       "      <td>None</td>\n",
       "      <td>None</td>\n",
       "      <td>None</td>\n",
       "      <td>None</td>\n",
       "      <td>72.0</td>\n",
       "      <td>None</td>\n",
       "      <td>United Kingdom of Great Britain and Northern Ireland</td>\n",
       "      <td>None</td>\n",
       "      <td>None</td>\n",
       "      <td>2.484907</td>\n",
       "      <td>0</td>\n",
       "      <td>0</td>\n",
       "      <td>0</td>\n",
       "      <td>1</td>\n",
       "      <td>0</td>\n",
       "      <td>0</td>\n",
       "      <td>0</td>\n",
       "      <td>0</td>\n",
       "      <td>0</td>\n",
       "      <td>0</td>\n",
       "      <td>0</td>\n",
       "      <td>0</td>\n",
       "      <td>1</td>\n",
       "    </tr>\n",
       "  </tbody>\n",
       "</table>\n",
       "</div>"
      ],
      "text/plain": [
       "      day           name  \\\n",
       "30693  27    Anna Fárová   \n",
       "14305  10  John Erickson   \n",
       "\n",
       "                                                                               info  \\\n",
       "30693         , 81, Czech photography historian and advocate, Charter 77 signatory.   \n",
       "14305  , 72, British historian, a leading authority on the Soviet Union and Russia.   \n",
       "\n",
       "                                                          link  \\\n",
       "30693      https://en.wikipedia.org/wiki/Anna_F%C3%A1rov%C3%A1   \n",
       "14305  https://en.wikipedia.org/wiki/John_Erickson_(historian)   \n",
       "\n",
       "       num_references  year     month info_parenth info_1       info_2  \\\n",
       "30693               7  2010  February         None   None  photography   \n",
       "14305              11  2002  February         None   None                \n",
       "\n",
       "                                     info_3 info_4 info_5 info_6 info_7  \\\n",
       "30693                     Charter signatory   None   None   None   None   \n",
       "14305  a leading authority on the Union and   None   None   None   None   \n",
       "\n",
       "      info_8 info_9 info_10 info_11   age cause_of_death  \\\n",
       "30693   None   None    None    None  81.0           None   \n",
       "14305   None   None    None    None  72.0           None   \n",
       "\n",
       "                                                    place_1 place_2  \\\n",
       "30693                                        Czech Republic    None   \n",
       "14305  United Kingdom of Great Britain and Northern Ireland    None   \n",
       "\n",
       "      info_parenth_copy  log_num_references  sciences  social  spiritual  \\\n",
       "30693              None            2.079442         0       0          0   \n",
       "14305              None            2.484907         0       0          0   \n",
       "\n",
       "       academia_humanities  business_farming  arts  sports  \\\n",
       "30693                    1                 0     0       0   \n",
       "14305                    1                 0     0       0   \n",
       "\n",
       "       law_enf_military_operator  politics_govt_law  crime  \\\n",
       "30693                          0                  0      0   \n",
       "14305                          0                  0      0   \n",
       "\n",
       "       event_record_other  other_species  num_categories  \n",
       "30693                   0              0               1  \n",
       "14305                   0              0               1  "
      ]
     },
     "execution_count": 1001,
     "metadata": {},
     "output_type": "execute_result"
    },
    {
     "data": {
      "application/javascript": [
       "\n",
       "            setTimeout(function() {\n",
       "                var nbb_cell_id = 1001;\n",
       "                var nbb_unformatted_code = \"%%time\\n\\n# Dictionary version\\nsearch_dict = known_for_dict_20\\n\\n# Column to check\\ncolumn = 'info_2'\\n\\n# Dataframe\\ndataframe = df[column].notna()\\n\\n# For loop to find role in column and extract it as category\\nfor category, category_lst in search_dict.items():\\n    for role in category_lst:\\n        for index in dataframe.index:\\n            item = df.loc[index, column]\\n            if item:\\n                if role in item:\\n                    df.loc[index, category] = 1\\n                    df.loc[index, column] = item.replace(role, '').strip()\\n\\n# Checking a sample of rows\\ndf[df['academia_humanities'] ==1].sample(2)\";\n",
       "                var nbb_formatted_code = \"%%time\\n\\n# Dictionary version\\nsearch_dict = known_for_dict_20\\n\\n# Column to check\\ncolumn = 'info_2'\\n\\n# Dataframe\\ndataframe = df[column].notna()\\n\\n# For loop to find role in column and extract it as category\\nfor category, category_lst in search_dict.items():\\n    for role in category_lst:\\n        for index in dataframe.index:\\n            item = df.loc[index, column]\\n            if item:\\n                if role in item:\\n                    df.loc[index, category] = 1\\n                    df.loc[index, column] = item.replace(role, '').strip()\\n\\n# Checking a sample of rows\\ndf[df['academia_humanities'] ==1].sample(2)\";\n",
       "                var nbb_cells = Jupyter.notebook.get_cells();\n",
       "                for (var i = 0; i < nbb_cells.length; ++i) {\n",
       "                    if (nbb_cells[i].input_prompt_number == nbb_cell_id) {\n",
       "                        if (nbb_cells[i].get_text() == nbb_unformatted_code) {\n",
       "                             nbb_cells[i].set_text(nbb_formatted_code);\n",
       "                        }\n",
       "                        break;\n",
       "                    }\n",
       "                }\n",
       "            }, 500);\n",
       "            "
      ],
      "text/plain": [
       "<IPython.core.display.Javascript object>"
      ]
     },
     "metadata": {},
     "output_type": "display_data"
    }
   ],
   "source": [
    "%%time\n",
    "\n",
    "# Dictionary version\n",
    "search_dict = known_for_dict_20\n",
    "\n",
    "# Column to check\n",
    "column = 'info_2'\n",
    "\n",
    "# Dataframe\n",
    "dataframe = df[column].notna()\n",
    "\n",
    "# For loop to find role in column and extract it as category\n",
    "for category, category_lst in search_dict.items():\n",
    "    for role in category_lst:\n",
    "        for index in dataframe.index:\n",
    "            item = df.loc[index, column]\n",
    "            if item:\n",
    "                if role in item:\n",
    "                    df.loc[index, category] = 1\n",
    "                    df.loc[index, column] = item.replace(role, '').strip()\n",
    "\n",
    "# Checking a sample of rows\n",
    "df[df['academia_humanities'] ==1].sample(2)"
   ]
  },
  {
   "cell_type": "markdown",
   "id": "4491d8aa",
   "metadata": {},
   "source": [
    "#### Checking the Number of Rows without a First Category"
   ]
  },
  {
   "cell_type": "code",
   "execution_count": 1002,
   "id": "c1fe9cf6",
   "metadata": {},
   "outputs": [
    {
     "name": "stdout",
     "output_type": "stream",
     "text": [
      "There are 46805 entries without any known_for category.\n"
     ]
    },
    {
     "data": {
      "application/javascript": [
       "\n",
       "            setTimeout(function() {\n",
       "                var nbb_cell_id = 1002;\n",
       "                var nbb_unformatted_code = \"#### Checking the number of rows without a first category\\ndf[\\\"num_categories\\\"] = df[known_for_dict_20.keys()].sum(axis=1)\\n\\nprint(\\n    f'There are {len(df[df[\\\"num_categories\\\"]==0])} entries without any known_for category.'\\n)\";\n",
       "                var nbb_formatted_code = \"#### Checking the number of rows without a first category\\ndf[\\\"num_categories\\\"] = df[known_for_dict_20.keys()].sum(axis=1)\\n\\nprint(\\n    f'There are {len(df[df[\\\"num_categories\\\"]==0])} entries without any known_for category.'\\n)\";\n",
       "                var nbb_cells = Jupyter.notebook.get_cells();\n",
       "                for (var i = 0; i < nbb_cells.length; ++i) {\n",
       "                    if (nbb_cells[i].input_prompt_number == nbb_cell_id) {\n",
       "                        if (nbb_cells[i].get_text() == nbb_unformatted_code) {\n",
       "                             nbb_cells[i].set_text(nbb_formatted_code);\n",
       "                        }\n",
       "                        break;\n",
       "                    }\n",
       "                }\n",
       "            }, 500);\n",
       "            "
      ],
      "text/plain": [
       "<IPython.core.display.Javascript object>"
      ]
     },
     "metadata": {},
     "output_type": "display_data"
    }
   ],
   "source": [
    "#### Checking the number of rows without a first category\n",
    "df[\"num_categories\"] = df[known_for_dict_20.keys()].sum(axis=1)\n",
    "\n",
    "print(\n",
    "    f'There are {len(df[df[\"num_categories\"]==0])} entries without any known_for category.'\n",
    ")"
   ]
  },
  {
   "cell_type": "markdown",
   "id": "999f96e4",
   "metadata": {},
   "source": [
    "#### Observations:\n",
    "- We will proceed to build `known_for_dict_21` for the next iteration."
   ]
  },
  {
   "cell_type": "markdown",
   "id": "ad8398a3",
   "metadata": {},
   "source": [
    "#### Finding `known_for` Roles in `info_2`"
   ]
  },
  {
   "cell_type": "code",
   "execution_count": 1004,
   "id": "542eb4cb",
   "metadata": {},
   "outputs": [
    {
     "data": {
      "application/javascript": [
       "\n",
       "            setTimeout(function() {\n",
       "                var nbb_cell_id = 1004;\n",
       "                var nbb_unformatted_code = \"# Obtaining values for column and their counts\\nroles_list = df[\\\"info_2\\\"].value_counts(ascending=True).index.tolist()\";\n",
       "                var nbb_formatted_code = \"# Obtaining values for column and their counts\\nroles_list = df[\\\"info_2\\\"].value_counts(ascending=True).index.tolist()\";\n",
       "                var nbb_cells = Jupyter.notebook.get_cells();\n",
       "                for (var i = 0; i < nbb_cells.length; ++i) {\n",
       "                    if (nbb_cells[i].input_prompt_number == nbb_cell_id) {\n",
       "                        if (nbb_cells[i].get_text() == nbb_unformatted_code) {\n",
       "                             nbb_cells[i].set_text(nbb_formatted_code);\n",
       "                        }\n",
       "                        break;\n",
       "                    }\n",
       "                }\n",
       "            }, 500);\n",
       "            "
      ],
      "text/plain": [
       "<IPython.core.display.Javascript object>"
      ]
     },
     "metadata": {},
     "output_type": "display_data"
    }
   ],
   "source": [
    "# Obtaining values for column and their counts\n",
    "roles_list = df[\"info_2\"].value_counts(ascending=True).index.tolist()"
   ]
  },
  {
   "cell_type": "code",
   "execution_count": 1106,
   "id": "1637bbd4",
   "metadata": {},
   "outputs": [
    {
     "data": {
      "application/javascript": [
       "\n",
       "            setTimeout(function() {\n",
       "                var nbb_cell_id = 1106;\n",
       "                var nbb_unformatted_code = \"# # Code to check each value\\n# roles_list.pop()\";\n",
       "                var nbb_formatted_code = \"# # Code to check each value\\n# roles_list.pop()\";\n",
       "                var nbb_cells = Jupyter.notebook.get_cells();\n",
       "                for (var i = 0; i < nbb_cells.length; ++i) {\n",
       "                    if (nbb_cells[i].input_prompt_number == nbb_cell_id) {\n",
       "                        if (nbb_cells[i].get_text() == nbb_unformatted_code) {\n",
       "                             nbb_cells[i].set_text(nbb_formatted_code);\n",
       "                        }\n",
       "                        break;\n",
       "                    }\n",
       "                }\n",
       "            }, 500);\n",
       "            "
      ],
      "text/plain": [
       "<IPython.core.display.Javascript object>"
      ]
     },
     "metadata": {},
     "output_type": "display_data"
    }
   ],
   "source": [
    "# # Code to check each value\n",
    "# roles_list.pop()"
   ]
  },
  {
   "cell_type": "code",
   "execution_count": 1105,
   "id": "b9ed4d8b",
   "metadata": {},
   "outputs": [
    {
     "data": {
      "application/javascript": [
       "\n",
       "            setTimeout(function() {\n",
       "                var nbb_cell_id = 1105;\n",
       "                var nbb_unformatted_code = \"# # Create specific_roles_list for above popped value\\n# specific_roles_list = (\\n#     df.loc[\\n#         [index for index in df.index if \\\"mathematician\\\" in df.loc[index, \\\"info\\\"]],\\n#         \\\"info_2\\\",\\n#     ]\\n#     .value_counts()\\n#     .index.tolist()\\n# )\";\n",
       "                var nbb_formatted_code = \"# # Create specific_roles_list for above popped value\\n# specific_roles_list = (\\n#     df.loc[\\n#         [index for index in df.index if \\\"mathematician\\\" in df.loc[index, \\\"info\\\"]],\\n#         \\\"info_2\\\",\\n#     ]\\n#     .value_counts()\\n#     .index.tolist()\\n# )\";\n",
       "                var nbb_cells = Jupyter.notebook.get_cells();\n",
       "                for (var i = 0; i < nbb_cells.length; ++i) {\n",
       "                    if (nbb_cells[i].input_prompt_number == nbb_cell_id) {\n",
       "                        if (nbb_cells[i].get_text() == nbb_unformatted_code) {\n",
       "                             nbb_cells[i].set_text(nbb_formatted_code);\n",
       "                        }\n",
       "                        break;\n",
       "                    }\n",
       "                }\n",
       "            }, 500);\n",
       "            "
      ],
      "text/plain": [
       "<IPython.core.display.Javascript object>"
      ]
     },
     "metadata": {},
     "output_type": "display_data"
    }
   ],
   "source": [
    "# # Create specific_roles_list for above popped value\n",
    "# specific_roles_list = (\n",
    "#     df.loc[\n",
    "#         [index for index in df.index if \"mathematician\" in df.loc[index, \"info\"]],\n",
    "#         \"info_2\",\n",
    "#     ]\n",
    "#     .value_counts()\n",
    "#     .index.tolist()\n",
    "# )"
   ]
  },
  {
   "cell_type": "code",
   "execution_count": 1104,
   "id": "3e63d70a",
   "metadata": {},
   "outputs": [
    {
     "ename": "IndexError",
     "evalue": "pop from empty list",
     "output_type": "error",
     "traceback": [
      "\u001b[1;31m---------------------------------------------------------------------------\u001b[0m",
      "\u001b[1;31mIndexError\u001b[0m                                Traceback (most recent call last)",
      "Input \u001b[1;32mIn [1104]\u001b[0m, in \u001b[0;36m<cell line: 2>\u001b[1;34m()\u001b[0m\n\u001b[0;32m      1\u001b[0m \u001b[38;5;66;03m# Code to check each specific value\u001b[39;00m\n\u001b[1;32m----> 2\u001b[0m \u001b[43mspecific_roles_list\u001b[49m\u001b[38;5;241;43m.\u001b[39;49m\u001b[43mpop\u001b[49m\u001b[43m(\u001b[49m\u001b[43m)\u001b[49m\n",
      "\u001b[1;31mIndexError\u001b[0m: pop from empty list"
     ]
    },
    {
     "data": {
      "application/javascript": [
       "\n",
       "            setTimeout(function() {\n",
       "                var nbb_cell_id = 1104;\n",
       "                var nbb_unformatted_code = \"# Code to check each specific value\\nspecific_roles_list.pop()\";\n",
       "                var nbb_formatted_code = \"# Code to check each specific value\\nspecific_roles_list.pop()\";\n",
       "                var nbb_cells = Jupyter.notebook.get_cells();\n",
       "                for (var i = 0; i < nbb_cells.length; ++i) {\n",
       "                    if (nbb_cells[i].input_prompt_number == nbb_cell_id) {\n",
       "                        if (nbb_cells[i].get_text() == nbb_unformatted_code) {\n",
       "                             nbb_cells[i].set_text(nbb_formatted_code);\n",
       "                        }\n",
       "                        break;\n",
       "                    }\n",
       "                }\n",
       "            }, 500);\n",
       "            "
      ],
      "text/plain": [
       "<IPython.core.display.Javascript object>"
      ]
     },
     "metadata": {},
     "output_type": "display_data"
    }
   ],
   "source": [
    "# Code to check each specific value\n",
    "specific_roles_list.pop()"
   ]
  },
  {
   "cell_type": "code",
   "execution_count": 1102,
   "id": "c52366f1",
   "metadata": {},
   "outputs": [
    {
     "data": {
      "application/javascript": [
       "\n",
       "            setTimeout(function() {\n",
       "                var nbb_cell_id = 1102;\n",
       "                var nbb_unformatted_code = \"# # Example code to quick-screen values that may overlap categories\\n# df.loc[\\n#     [\\n#         index\\n#         for index in df.index\\n#         if \\\"mathematician and journal editor\\\" in df.loc[index, \\\"info\\\"]\\n#     ]\\n# ]\";\n",
       "                var nbb_formatted_code = \"# # Example code to quick-screen values that may overlap categories\\n# df.loc[\\n#     [\\n#         index\\n#         for index in df.index\\n#         if \\\"mathematician and journal editor\\\" in df.loc[index, \\\"info\\\"]\\n#     ]\\n# ]\";\n",
       "                var nbb_cells = Jupyter.notebook.get_cells();\n",
       "                for (var i = 0; i < nbb_cells.length; ++i) {\n",
       "                    if (nbb_cells[i].input_prompt_number == nbb_cell_id) {\n",
       "                        if (nbb_cells[i].get_text() == nbb_unformatted_code) {\n",
       "                             nbb_cells[i].set_text(nbb_formatted_code);\n",
       "                        }\n",
       "                        break;\n",
       "                    }\n",
       "                }\n",
       "            }, 500);\n",
       "            "
      ],
      "text/plain": [
       "<IPython.core.display.Javascript object>"
      ]
     },
     "metadata": {},
     "output_type": "display_data"
    }
   ],
   "source": [
    "# # Example code to quick-screen values that may overlap categories\n",
    "# df.loc[\n",
    "#     [\n",
    "#         index\n",
    "#         for index in df.index\n",
    "#         if \"mathematician and journal editor\" in df.loc[index, \"info\"]\n",
    "#     ]\n",
    "# ]"
   ]
  },
  {
   "cell_type": "code",
   "execution_count": null,
   "id": "80789246",
   "metadata": {},
   "outputs": [],
   "source": [
    "# # Example code to quick-screen values that may overlap categories\n",
    "# df.loc[\n",
    "#     [\n",
    "#         index\n",
    "#         for index in df.index\n",
    "#         if \"outlaw country music singer songwriter\" in df.loc[index, \"info\"]\n",
    "#     ]\n",
    "# ]"
   ]
  },
  {
   "cell_type": "code",
   "execution_count": 1101,
   "id": "374e3feb",
   "metadata": {},
   "outputs": [
    {
     "data": {
      "application/javascript": [
       "\n",
       "            setTimeout(function() {\n",
       "                var nbb_cell_id = 1101;\n",
       "                var nbb_unformatted_code = \"# # Example code to quick-check a specific entry\\n# df[df[\\\"info_2\\\"] == \\\"mathematician of ancestry\\\"]\";\n",
       "                var nbb_formatted_code = \"# # Example code to quick-check a specific entry\\n# df[df[\\\"info_2\\\"] == \\\"mathematician of ancestry\\\"]\";\n",
       "                var nbb_cells = Jupyter.notebook.get_cells();\n",
       "                for (var i = 0; i < nbb_cells.length; ++i) {\n",
       "                    if (nbb_cells[i].input_prompt_number == nbb_cell_id) {\n",
       "                        if (nbb_cells[i].get_text() == nbb_unformatted_code) {\n",
       "                             nbb_cells[i].set_text(nbb_formatted_code);\n",
       "                        }\n",
       "                        break;\n",
       "                    }\n",
       "                }\n",
       "            }, 500);\n",
       "            "
      ],
      "text/plain": [
       "<IPython.core.display.Javascript object>"
      ]
     },
     "metadata": {},
     "output_type": "display_data"
    }
   ],
   "source": [
    "# # Example code to quick-check a specific entry\n",
    "# df[df[\"info_2\"] == \"mathematician of ancestry\"]"
   ]
  },
  {
   "cell_type": "markdown",
   "id": "a0609e35",
   "metadata": {},
   "source": [
    "#### Creating Lists for Each `known_for` Category"
   ]
  },
  {
   "cell_type": "code",
   "execution_count": 1100,
   "id": "2d1e87a7",
   "metadata": {},
   "outputs": [
    {
     "data": {
      "application/javascript": [
       "\n",
       "            setTimeout(function() {\n",
       "                var nbb_cell_id = 1100;\n",
       "                var nbb_unformatted_code = \"# Creating lists for each category\\npolitics_govt_law = []\\n\\narts = []\\nsports = [\\n\\n\\n]\\nsciences = [\\n    'mathematician of ancestry',\\n    'mathematician and physicist known as \\\"The Voice of JPL\\\"',\\n    'mathematician & cosmologist; co advocate of the Steady State theory',\\n    'mathematician at the University of Chicago',\\n    'mathematician and computer pioneer',\\n    'physicist and applied mathematician',\\n    'mathematician and computer scientist developed diehard tests',\\n    'mathematician and systems engineer',\\n    'mathematician  mathematics',\\n    'mathematician and nuclear scientist',\\n    'geophysicist and mathematician',\\n    'mathematician specialising in group theory',\\n    'mathematician and aerodynamicist',\\n    'mathematician and theoretical astronomer',\\n    'mathematician known for his contribution to graph theory',\\n    'mathematical physicist and mathematician',\\n    'and later mathematician',\\n    'mathematician and Doctor of Medicine',\\n    'civil engineer and mathematician',\\n    'mathematician and pioneering computer scientist',\\n    'statistician and mathematician',\\n    'theoretical physicist and mathematician',\\n    'born mathematician and',\\n    'mathematician and engineering',\\n    'engineer and mathematician',\\n    'mathematician and astronomer',\\n    'pure mathematician',\\n    'mathematician and computer programmer',\\n    'amateur mathematician',\\n    'scientist and mathematician',\\n    'mathematician and astrophysicist',\\n    'mathematician and futurist',\\n    'mathematician and scientist',\\n    'mathematician and theoretical computer scientist',\\n    'mathematician and inventor',\\n    'mathematician and rheologist',\\n    'research chemist and mathematician',\\n    'mathematician and journal editor',\\n    'mathematician and logician',\\n    'mathematician and oceanographer',\\n    'mathematician and engineer',\\n    'mathematician and mathematics',\\n    'mathematician and statistician',\\n    'astronomer and mathematician',\\n    'physicist and mathematician',\\n    'mathematician and physicist',\\n    'mathematician and computer scientist',\\n    'applied mathematician and',\\n    'applied mathematician',\\n    'mathematician and',\\n    'and mathematician',\\n    'mathematician'\\n    \\n]\\n\\nbusiness_farming = []\\nacademia_humanities = []\\nlaw_enf_military_operator = [\\n    'cryptanalyst', \\n    'radar engineer',\\n]\\nspiritual = []\\nsocial = []\\ncrime = []\\nevent_record_other = []\\nother_species = []\";\n",
       "                var nbb_formatted_code = \"# Creating lists for each category\\npolitics_govt_law = []\\n\\narts = []\\nsports = []\\nsciences = [\\n    \\\"mathematician of ancestry\\\",\\n    'mathematician and physicist known as \\\"The Voice of JPL\\\"',\\n    \\\"mathematician & cosmologist; co advocate of the Steady State theory\\\",\\n    \\\"mathematician at the University of Chicago\\\",\\n    \\\"mathematician and computer pioneer\\\",\\n    \\\"physicist and applied mathematician\\\",\\n    \\\"mathematician and computer scientist developed diehard tests\\\",\\n    \\\"mathematician and systems engineer\\\",\\n    \\\"mathematician  mathematics\\\",\\n    \\\"mathematician and nuclear scientist\\\",\\n    \\\"geophysicist and mathematician\\\",\\n    \\\"mathematician specialising in group theory\\\",\\n    \\\"mathematician and aerodynamicist\\\",\\n    \\\"mathematician and theoretical astronomer\\\",\\n    \\\"mathematician known for his contribution to graph theory\\\",\\n    \\\"mathematical physicist and mathematician\\\",\\n    \\\"and later mathematician\\\",\\n    \\\"mathematician and Doctor of Medicine\\\",\\n    \\\"civil engineer and mathematician\\\",\\n    \\\"mathematician and pioneering computer scientist\\\",\\n    \\\"statistician and mathematician\\\",\\n    \\\"theoretical physicist and mathematician\\\",\\n    \\\"born mathematician and\\\",\\n    \\\"mathematician and engineering\\\",\\n    \\\"engineer and mathematician\\\",\\n    \\\"mathematician and astronomer\\\",\\n    \\\"pure mathematician\\\",\\n    \\\"mathematician and computer programmer\\\",\\n    \\\"amateur mathematician\\\",\\n    \\\"scientist and mathematician\\\",\\n    \\\"mathematician and astrophysicist\\\",\\n    \\\"mathematician and futurist\\\",\\n    \\\"mathematician and scientist\\\",\\n    \\\"mathematician and theoretical computer scientist\\\",\\n    \\\"mathematician and inventor\\\",\\n    \\\"mathematician and rheologist\\\",\\n    \\\"research chemist and mathematician\\\",\\n    \\\"mathematician and journal editor\\\",\\n    \\\"mathematician and logician\\\",\\n    \\\"mathematician and oceanographer\\\",\\n    \\\"mathematician and engineer\\\",\\n    \\\"mathematician and mathematics\\\",\\n    \\\"mathematician and statistician\\\",\\n    \\\"astronomer and mathematician\\\",\\n    \\\"physicist and mathematician\\\",\\n    \\\"mathematician and physicist\\\",\\n    \\\"mathematician and computer scientist\\\",\\n    \\\"applied mathematician and\\\",\\n    \\\"applied mathematician\\\",\\n    \\\"mathematician and\\\",\\n    \\\"and mathematician\\\",\\n    \\\"mathematician\\\",\\n]\\n\\nbusiness_farming = []\\nacademia_humanities = []\\nlaw_enf_military_operator = [\\n    \\\"cryptanalyst\\\",\\n    \\\"radar engineer\\\",\\n]\\nspiritual = []\\nsocial = []\\ncrime = []\\nevent_record_other = []\\nother_species = []\";\n",
       "                var nbb_cells = Jupyter.notebook.get_cells();\n",
       "                for (var i = 0; i < nbb_cells.length; ++i) {\n",
       "                    if (nbb_cells[i].input_prompt_number == nbb_cell_id) {\n",
       "                        if (nbb_cells[i].get_text() == nbb_unformatted_code) {\n",
       "                             nbb_cells[i].set_text(nbb_formatted_code);\n",
       "                        }\n",
       "                        break;\n",
       "                    }\n",
       "                }\n",
       "            }, 500);\n",
       "            "
      ],
      "text/plain": [
       "<IPython.core.display.Javascript object>"
      ]
     },
     "metadata": {},
     "output_type": "display_data"
    }
   ],
   "source": [
    "# Creating lists for each category\n",
    "politics_govt_law = []\n",
    "\n",
    "arts = []\n",
    "sports = []\n",
    "sciences = [\n",
    "    \"mathematician of ancestry\",\n",
    "    'mathematician and physicist known as \"The Voice of JPL\"',\n",
    "    \"mathematician & cosmologist; co advocate of the Steady State theory\",\n",
    "    \"mathematician at the University of Chicago\",\n",
    "    \"mathematician and computer pioneer\",\n",
    "    \"physicist and applied mathematician\",\n",
    "    \"mathematician and computer scientist developed diehard tests\",\n",
    "    \"mathematician and systems engineer\",\n",
    "    \"mathematician  mathematics\",\n",
    "    \"mathematician and nuclear scientist\",\n",
    "    \"geophysicist and mathematician\",\n",
    "    \"mathematician specialising in group theory\",\n",
    "    \"mathematician and aerodynamicist\",\n",
    "    \"mathematician and theoretical astronomer\",\n",
    "    \"mathematician known for his contribution to graph theory\",\n",
    "    \"mathematical physicist and mathematician\",\n",
    "    \"and later mathematician\",\n",
    "    \"mathematician and Doctor of Medicine\",\n",
    "    \"civil engineer and mathematician\",\n",
    "    \"mathematician and pioneering computer scientist\",\n",
    "    \"statistician and mathematician\",\n",
    "    \"theoretical physicist and mathematician\",\n",
    "    \"born mathematician and\",\n",
    "    \"mathematician and engineering\",\n",
    "    \"engineer and mathematician\",\n",
    "    \"mathematician and astronomer\",\n",
    "    \"pure mathematician\",\n",
    "    \"mathematician and computer programmer\",\n",
    "    \"amateur mathematician\",\n",
    "    \"scientist and mathematician\",\n",
    "    \"mathematician and astrophysicist\",\n",
    "    \"mathematician and futurist\",\n",
    "    \"mathematician and scientist\",\n",
    "    \"mathematician and theoretical computer scientist\",\n",
    "    \"mathematician and inventor\",\n",
    "    \"mathematician and rheologist\",\n",
    "    \"research chemist and mathematician\",\n",
    "    \"mathematician and journal editor\",\n",
    "    \"mathematician and logician\",\n",
    "    \"mathematician and oceanographer\",\n",
    "    \"mathematician and engineer\",\n",
    "    \"mathematician and mathematics\",\n",
    "    \"mathematician and statistician\",\n",
    "    \"astronomer and mathematician\",\n",
    "    \"physicist and mathematician\",\n",
    "    \"mathematician and physicist\",\n",
    "    \"mathematician and computer scientist\",\n",
    "    \"applied mathematician and\",\n",
    "    \"applied mathematician\",\n",
    "    \"mathematician and\",\n",
    "    \"and mathematician\",\n",
    "    \"mathematician\",\n",
    "]\n",
    "\n",
    "business_farming = []\n",
    "academia_humanities = []\n",
    "law_enf_military_operator = [\n",
    "    \"cryptanalyst\",\n",
    "    \"radar engineer\",\n",
    "]\n",
    "spiritual = []\n",
    "social = []\n",
    "crime = []\n",
    "event_record_other = []\n",
    "other_species = []"
   ]
  },
  {
   "cell_type": "markdown",
   "id": "72e8682a",
   "metadata": {},
   "source": [
    "#### Creating `known_for_dict_21` Dictionary of Category Keys and Specific Role Lists of Values"
   ]
  },
  {
   "cell_type": "code",
   "execution_count": null,
   "id": "f4d6e8c9",
   "metadata": {},
   "outputs": [],
   "source": [
    "# Combining separate lists into one dictionary\n",
    "known_for_dict_21 = {\n",
    "    \"social\": social,\n",
    "    \"spiritual\": spiritual,\n",
    "    \"academia_humanities\": academia_humanities,\n",
    "    \"business_farming\": business_farming,\n",
    "    \"sciences\": sciences,\n",
    "    \"politics_govt_law\": politics_govt_law,\n",
    "    \"law_enf_military_operator\": law_enf_military_operator,\n",
    "    \"crime\": crime,\n",
    "    \"event_record_other\": event_record_other,\n",
    "    \"other_species\": other_species,\n",
    "    \"arts\": arts,\n",
    "    \"sports\": sports,\n",
    "}"
   ]
  },
  {
   "cell_type": "markdown",
   "id": "f826cccc",
   "metadata": {},
   "source": [
    "#### Extracting Category from `info_2`"
   ]
  },
  {
   "cell_type": "code",
   "execution_count": null,
   "id": "73d18ac4",
   "metadata": {},
   "outputs": [],
   "source": [
    "%%time\n",
    "\n",
    "# Dictionary version\n",
    "search_dict = known_for_dict_21\n",
    "\n",
    "# Column to check\n",
    "column = 'info_2'\n",
    "\n",
    "# Dataframe\n",
    "dataframe = df[column].notna()\n",
    "\n",
    "# For loop to find role in column and extract it as category\n",
    "for category, category_lst in search_dict.items():\n",
    "    for role in category_lst:\n",
    "        for index in dataframe.index:\n",
    "            item = df.loc[index, column]\n",
    "            if item:\n",
    "                if role in item:\n",
    "                    df.loc[index, category] = 1\n",
    "                    df.loc[index, column] = item.replace(role, '').strip()\n",
    "\n",
    "# Checking a sample of rows\n",
    "df[df['sciences'] ==1].sample(2)"
   ]
  },
  {
   "cell_type": "markdown",
   "id": "6b68f400",
   "metadata": {},
   "source": [
    "#### Checking the Number of Rows without a First Category"
   ]
  },
  {
   "cell_type": "code",
   "execution_count": null,
   "id": "1de2da76",
   "metadata": {},
   "outputs": [],
   "source": [
    "#### Checking the number of rows without a first category\n",
    "df[\"num_categories\"] = df[known_for_dict_21.keys()].sum(axis=1)\n",
    "\n",
    "print(\n",
    "    f'There are {len(df[df[\"num_categories\"]==0])} entries without any known_for category.'\n",
    ")"
   ]
  },
  {
   "cell_type": "markdown",
   "id": "37ce88f6",
   "metadata": {},
   "source": [
    "#### Observations:\n",
    "- We will proceed to build `known_for_dict_22` for the next iteration."
   ]
  },
  {
   "cell_type": "code",
   "execution_count": null,
   "id": "44c521de",
   "metadata": {},
   "outputs": [],
   "source": []
  },
  {
   "cell_type": "code",
   "execution_count": 1003,
   "id": "7e624bca",
   "metadata": {},
   "outputs": [
    {
     "name": "stdout",
     "output_type": "stream",
     "text": [
      "dunzo!\n"
     ]
    },
    {
     "data": {
      "application/javascript": [
       "\n",
       "            setTimeout(function() {\n",
       "                var nbb_cell_id = 1003;\n",
       "                var nbb_unformatted_code = \"print(\\\"dunzo!\\\")\\n\\n# Sound notification when cell executes\\nchime.success()\";\n",
       "                var nbb_formatted_code = \"print(\\\"dunzo!\\\")\\n\\n# Sound notification when cell executes\\nchime.success()\";\n",
       "                var nbb_cells = Jupyter.notebook.get_cells();\n",
       "                for (var i = 0; i < nbb_cells.length; ++i) {\n",
       "                    if (nbb_cells[i].input_prompt_number == nbb_cell_id) {\n",
       "                        if (nbb_cells[i].get_text() == nbb_unformatted_code) {\n",
       "                             nbb_cells[i].set_text(nbb_formatted_code);\n",
       "                        }\n",
       "                        break;\n",
       "                    }\n",
       "                }\n",
       "            }, 500);\n",
       "            "
      ],
      "text/plain": [
       "<IPython.core.display.Javascript object>"
      ]
     },
     "metadata": {},
     "output_type": "display_data"
    }
   ],
   "source": [
    "print(\"dunzo!\")\n",
    "\n",
    "# Sound notification when cell executes\n",
    "chime.success()"
   ]
  },
  {
   "cell_type": "code",
   "execution_count": null,
   "id": "c4e312e4",
   "metadata": {},
   "outputs": [],
   "source": []
  },
  {
   "cell_type": "code",
   "execution_count": null,
   "id": "2496199d",
   "metadata": {},
   "outputs": [],
   "source": []
  },
  {
   "cell_type": "code",
   "execution_count": null,
   "id": "528cbe30",
   "metadata": {},
   "outputs": [],
   "source": []
  },
  {
   "cell_type": "code",
   "execution_count": null,
   "id": "4ad6ff49",
   "metadata": {},
   "outputs": [],
   "source": []
  },
  {
   "cell_type": "markdown",
   "id": "05f79459",
   "metadata": {},
   "source": [
    "#### Finding `known_for` Roles in `info_2`"
   ]
  },
  {
   "cell_type": "code",
   "execution_count": null,
   "id": "42b455db",
   "metadata": {},
   "outputs": [],
   "source": [
    "# Obtaining values for column and their counts\n",
    "roles_list = df[\"info_2\"].value_counts(ascending=True).index.tolist()"
   ]
  },
  {
   "cell_type": "code",
   "execution_count": null,
   "id": "1f27f16d",
   "metadata": {},
   "outputs": [],
   "source": [
    "# Code to check each value\n",
    "roles_list.pop()"
   ]
  },
  {
   "cell_type": "code",
   "execution_count": null,
   "id": "e3d9b47c",
   "metadata": {},
   "outputs": [],
   "source": [
    "# # Create specific_roles_list for above popped value\n",
    "# specific_roles_list = (\n",
    "#     df.loc[\n",
    "#         [index for index in df.index if \"writer\" in df.loc[index, \"info\"]], \"info_2\",\n",
    "#     ]\n",
    "#     .value_counts()\n",
    "#     .index.tolist()\n",
    "# )"
   ]
  },
  {
   "cell_type": "code",
   "execution_count": null,
   "id": "2af59948",
   "metadata": {},
   "outputs": [],
   "source": [
    "# # Code to check each specific value\n",
    "# specific_roles_list.pop()"
   ]
  },
  {
   "cell_type": "code",
   "execution_count": null,
   "id": "98c5618e",
   "metadata": {},
   "outputs": [],
   "source": [
    "# # Example code to quick-screen values that may overlap categories\n",
    "# df.loc[[index for index in df.index if \"and science writer\" in df.loc[index, \"info\"]]]"
   ]
  },
  {
   "cell_type": "code",
   "execution_count": null,
   "id": "064f2be9",
   "metadata": {},
   "outputs": [],
   "source": [
    "# # Example code to quick-screen values that may overlap categories\n",
    "# df.loc[\n",
    "#     [\n",
    "#         index\n",
    "#         for index in df.index\n",
    "#         if \"outlaw country music singer songwriter\" in df.loc[index, \"info\"]\n",
    "#     ]\n",
    "# ]"
   ]
  },
  {
   "cell_type": "code",
   "execution_count": null,
   "id": "de7bd08b",
   "metadata": {},
   "outputs": [],
   "source": [
    "# # Example code to quick-check a specific entry\n",
    "# df[df[\"info_2\"] == \"outlaw country music singer songwriter\"]"
   ]
  },
  {
   "cell_type": "markdown",
   "id": "61d7cebc",
   "metadata": {},
   "source": [
    "#### Creating Lists for Each `known_for` Category"
   ]
  },
  {
   "cell_type": "code",
   "execution_count": null,
   "id": "ba7fd337",
   "metadata": {},
   "outputs": [],
   "source": [
    "# Creating lists for each category\n",
    "politics_govt_law = []\n",
    "\n",
    "arts = []\n",
    "sports = [\n",
    "\n",
    "\n",
    "]\n",
    "sciences = []\n",
    "\n",
    "business_farming = []\n",
    "academia_humanities = []\n",
    "law_enf_military_operator = []\n",
    "spiritual = []\n",
    "social = []\n",
    "crime = []\n",
    "event_record_other = []\n",
    "other_species = []"
   ]
  },
  {
   "cell_type": "markdown",
   "id": "be6265aa",
   "metadata": {},
   "source": [
    "#### Creating `known_for_dict_7` Dictionary of Category Keys and Specific Role Lists of Values"
   ]
  },
  {
   "cell_type": "code",
   "execution_count": null,
   "id": "5b69e518",
   "metadata": {},
   "outputs": [],
   "source": [
    "# Combining separate lists into one dictionary\n",
    "known_for_dict_7 = {\n",
    "    \"social\": social,\n",
    "    \"spiritual\": spiritual,\n",
    "    \"academia_humanities\": academia_humanities,\n",
    "    \"business_farming\": business_farming,\n",
    "    \"sciences\": sciences,\n",
    "    \"politics_govt_law\": politics_govt_law,\n",
    "    \"law_enf_military_operator\": law_enf_military_operator,\n",
    "    \"crime\": crime,\n",
    "    \"event_record_other\": event_record_other,\n",
    "    \"other_species\": other_species,\n",
    "    \"arts\": arts,\n",
    "    \"sports\": sports,\n",
    "}"
   ]
  },
  {
   "cell_type": "markdown",
   "id": "cded90e9",
   "metadata": {},
   "source": [
    "#### Extracting Category from `info_2`"
   ]
  },
  {
   "cell_type": "code",
   "execution_count": null,
   "id": "80131867",
   "metadata": {},
   "outputs": [],
   "source": [
    "%%time\n",
    "\n",
    "# Dictionary version\n",
    "search_dict = known_for_dict_7\n",
    "\n",
    "# Column to check\n",
    "column = 'info_2'\n",
    "\n",
    "# Dataframe\n",
    "dataframe = df[column].notna()\n",
    "\n",
    "# For loop to find role in column and extract it as category\n",
    "for category, category_lst in search_dict.items():\n",
    "    for role in category_lst:\n",
    "        for index in dataframe.index:\n",
    "            item = df.loc[index, column]\n",
    "            if item:\n",
    "                if role in item:\n",
    "                    df.loc[index, category] = 1\n",
    "                    df.loc[index, column] = item.replace(role, '').strip()\n",
    "\n",
    "# Checking a sample of rows\n",
    "df[df['arts'] ==1].sample(2)"
   ]
  },
  {
   "cell_type": "markdown",
   "id": "e9f4f34b",
   "metadata": {},
   "source": [
    "#### Checking the Number of Rows without a First Category"
   ]
  },
  {
   "cell_type": "code",
   "execution_count": null,
   "id": "6a0933e5",
   "metadata": {},
   "outputs": [],
   "source": [
    "#### Checking the number of rows without a first category\n",
    "df[\"num_categories\"] = df[known_for_dict_7.keys()].sum(axis=1)\n",
    "\n",
    "print(\n",
    "    f'There are {len(df[df[\"num_categories\"]==0])} entries without any known_for category.'\n",
    ")"
   ]
  },
  {
   "cell_type": "markdown",
   "id": "12950102",
   "metadata": {},
   "source": [
    "#### Observations:\n",
    "- We will proceed to build `known_for_dict_8` for the next iteration."
   ]
  }
 ],
 "metadata": {
  "kernelspec": {
   "display_name": "Python 3 (ipykernel)",
   "language": "python",
   "name": "python3"
  },
  "language_info": {
   "codemirror_mode": {
    "name": "ipython",
    "version": 3
   },
   "file_extension": ".py",
   "mimetype": "text/x-python",
   "name": "python",
   "nbconvert_exporter": "python",
   "pygments_lexer": "ipython3",
   "version": "3.9.12"
  }
 },
 "nbformat": 4,
 "nbformat_minor": 5
}
