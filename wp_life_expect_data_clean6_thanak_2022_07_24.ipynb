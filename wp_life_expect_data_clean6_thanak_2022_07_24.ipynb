{
 "cells": [
  {
   "cell_type": "markdown",
   "id": "9aff304e",
   "metadata": {},
   "source": [
    "# Wikipedia Notable Life Expectancies\n",
    "# [Notebook 7 : Data Cleaning Part 6](https://github.com/teresahanak/wikipedia-life-expectancy/blob/main/wp_life_expect_data_clean6_thanak_2022_07_24.ipynb)\n",
    "### Context\n",
    "\n",
    "The\n",
    "### Objective\n",
    "\n",
    "The\n",
    "### Data Dictionary\n",
    "- Feature: Description"
   ]
  },
  {
   "cell_type": "markdown",
   "id": "61001f01",
   "metadata": {},
   "source": [
    "### Importing Libraries"
   ]
  },
  {
   "cell_type": "code",
   "execution_count": 1,
   "id": "6b86dfd6",
   "metadata": {},
   "outputs": [
    {
     "data": {
      "application/javascript": [
       "\n",
       "            setTimeout(function() {\n",
       "                var nbb_cell_id = 1;\n",
       "                var nbb_unformatted_code = \"# To structure code automatically\\n%load_ext nb_black\\n\\n# To import/export sqlite databases\\nimport sqlite3 as sql\\n\\n# To save/open python objects in pickle file\\nimport pickle\\n\\n# To help with reading, cleaning, and manipulating data\\nimport pandas as pd\\nimport numpy as np\\nimport re\\n\\n# To define maximum number of columns to be displayed in a dataframe\\npd.set_option(\\\"display.max_columns\\\", None)\\n# To define the maximum number of rows to be displayed in a dataframe\\npd.set_option(\\\"display.max_rows\\\", 200)\\n\\n# To supress warnings\\n# import warnings\\n\\n# warnings.filterwarnings(\\\"ignore\\\")\\n\\n# To set some visualization attributes\\npd.set_option(\\\"max_colwidth\\\", 150)\\n\\n# To play auditory cue when cell has executed, has warning, or has error and set chime theme\\nimport chime\\n\\nchime.theme(\\\"zelda\\\")\";\n",
       "                var nbb_formatted_code = \"# To structure code automatically\\n%load_ext nb_black\\n\\n# To import/export sqlite databases\\nimport sqlite3 as sql\\n\\n# To save/open python objects in pickle file\\nimport pickle\\n\\n# To help with reading, cleaning, and manipulating data\\nimport pandas as pd\\nimport numpy as np\\nimport re\\n\\n# To define maximum number of columns to be displayed in a dataframe\\npd.set_option(\\\"display.max_columns\\\", None)\\n# To define the maximum number of rows to be displayed in a dataframe\\npd.set_option(\\\"display.max_rows\\\", 200)\\n\\n# To supress warnings\\n# import warnings\\n\\n# warnings.filterwarnings(\\\"ignore\\\")\\n\\n# To set some visualization attributes\\npd.set_option(\\\"max_colwidth\\\", 150)\\n\\n# To play auditory cue when cell has executed, has warning, or has error and set chime theme\\nimport chime\\n\\nchime.theme(\\\"zelda\\\")\";\n",
       "                var nbb_cells = Jupyter.notebook.get_cells();\n",
       "                for (var i = 0; i < nbb_cells.length; ++i) {\n",
       "                    if (nbb_cells[i].input_prompt_number == nbb_cell_id) {\n",
       "                        if (nbb_cells[i].get_text() == nbb_unformatted_code) {\n",
       "                             nbb_cells[i].set_text(nbb_formatted_code);\n",
       "                        }\n",
       "                        break;\n",
       "                    }\n",
       "                }\n",
       "            }, 500);\n",
       "            "
      ],
      "text/plain": [
       "<IPython.core.display.Javascript object>"
      ]
     },
     "metadata": {},
     "output_type": "display_data"
    }
   ],
   "source": [
    "# To structure code automatically\n",
    "%load_ext nb_black\n",
    "\n",
    "# To import/export sqlite databases\n",
    "import sqlite3 as sql\n",
    "\n",
    "# To save/open python objects in pickle file\n",
    "import pickle\n",
    "\n",
    "# To help with reading, cleaning, and manipulating data\n",
    "import pandas as pd\n",
    "import numpy as np\n",
    "import re\n",
    "\n",
    "# To define maximum number of columns to be displayed in a dataframe\n",
    "pd.set_option(\"display.max_columns\", None)\n",
    "# To define the maximum number of rows to be displayed in a dataframe\n",
    "pd.set_option(\"display.max_rows\", 200)\n",
    "\n",
    "# To supress warnings\n",
    "# import warnings\n",
    "\n",
    "# warnings.filterwarnings(\"ignore\")\n",
    "\n",
    "# To set some visualization attributes\n",
    "pd.set_option(\"max_colwidth\", 150)\n",
    "\n",
    "# To play auditory cue when cell has executed, has warning, or has error and set chime theme\n",
    "import chime\n",
    "\n",
    "chime.theme(\"zelda\")"
   ]
  },
  {
   "cell_type": "markdown",
   "id": "47415d2d",
   "metadata": {},
   "source": [
    "## Data Overview"
   ]
  },
  {
   "cell_type": "markdown",
   "id": "0a0c8105",
   "metadata": {},
   "source": [
    "### Reading, Sampling, and Checking Data Shape"
   ]
  },
  {
   "cell_type": "code",
   "execution_count": 2,
   "id": "2bfbed11",
   "metadata": {},
   "outputs": [
    {
     "name": "stdout",
     "output_type": "stream",
     "text": [
      "There are 98060 rows and 38 columns.\n"
     ]
    },
    {
     "data": {
      "text/html": [
       "<div>\n",
       "<style scoped>\n",
       "    .dataframe tbody tr th:only-of-type {\n",
       "        vertical-align: middle;\n",
       "    }\n",
       "\n",
       "    .dataframe tbody tr th {\n",
       "        vertical-align: top;\n",
       "    }\n",
       "\n",
       "    .dataframe thead th {\n",
       "        text-align: right;\n",
       "    }\n",
       "</style>\n",
       "<table border=\"1\" class=\"dataframe\">\n",
       "  <thead>\n",
       "    <tr style=\"text-align: right;\">\n",
       "      <th></th>\n",
       "      <th>day</th>\n",
       "      <th>name</th>\n",
       "      <th>info</th>\n",
       "      <th>link</th>\n",
       "      <th>num_references</th>\n",
       "      <th>year</th>\n",
       "      <th>month</th>\n",
       "      <th>info_parenth</th>\n",
       "      <th>info_1</th>\n",
       "      <th>info_2</th>\n",
       "      <th>info_3</th>\n",
       "      <th>info_4</th>\n",
       "      <th>info_5</th>\n",
       "      <th>info_6</th>\n",
       "      <th>info_7</th>\n",
       "      <th>info_8</th>\n",
       "      <th>info_9</th>\n",
       "      <th>info_10</th>\n",
       "      <th>info_11</th>\n",
       "      <th>age</th>\n",
       "      <th>cause_of_death</th>\n",
       "      <th>place_1</th>\n",
       "      <th>place_2</th>\n",
       "      <th>info_parenth_copy</th>\n",
       "      <th>log_num_references</th>\n",
       "      <th>sciences</th>\n",
       "      <th>social</th>\n",
       "      <th>spiritual</th>\n",
       "      <th>academia_humanities</th>\n",
       "      <th>business_farming</th>\n",
       "      <th>arts</th>\n",
       "      <th>sports</th>\n",
       "      <th>law_enf_military_operator</th>\n",
       "      <th>politics_govt_law</th>\n",
       "      <th>crime</th>\n",
       "      <th>event_record_other</th>\n",
       "      <th>other_species</th>\n",
       "      <th>num_categories</th>\n",
       "    </tr>\n",
       "  </thead>\n",
       "  <tbody>\n",
       "    <tr>\n",
       "      <th>0</th>\n",
       "      <td>1</td>\n",
       "      <td>William Chappell</td>\n",
       "      <td>, 86, British dancer, ballet designer and director.</td>\n",
       "      <td>https://en.wikipedia.org/wiki/William_Chappell_(dancer)</td>\n",
       "      <td>21</td>\n",
       "      <td>1994</td>\n",
       "      <td>January</td>\n",
       "      <td>None</td>\n",
       "      <td>None</td>\n",
       "      <td>dancer</td>\n",
       "      <td>ballet designer and director</td>\n",
       "      <td>None</td>\n",
       "      <td>None</td>\n",
       "      <td>None</td>\n",
       "      <td>None</td>\n",
       "      <td>None</td>\n",
       "      <td>None</td>\n",
       "      <td>None</td>\n",
       "      <td>None</td>\n",
       "      <td>86.0</td>\n",
       "      <td>None</td>\n",
       "      <td>United Kingdom of Great Britain and Northern Ireland</td>\n",
       "      <td>None</td>\n",
       "      <td>None</td>\n",
       "      <td>3.091042</td>\n",
       "      <td>0</td>\n",
       "      <td>0</td>\n",
       "      <td>0</td>\n",
       "      <td>0</td>\n",
       "      <td>0</td>\n",
       "      <td>0</td>\n",
       "      <td>0</td>\n",
       "      <td>0</td>\n",
       "      <td>0</td>\n",
       "      <td>0</td>\n",
       "      <td>0</td>\n",
       "      <td>0</td>\n",
       "      <td>0</td>\n",
       "    </tr>\n",
       "    <tr>\n",
       "      <th>1</th>\n",
       "      <td>1</td>\n",
       "      <td>Raymond Crotty</td>\n",
       "      <td>, 68, Irish economist, writer, and academic.</td>\n",
       "      <td>https://en.wikipedia.org/wiki/Raymond_Crotty</td>\n",
       "      <td>12</td>\n",
       "      <td>1994</td>\n",
       "      <td>January</td>\n",
       "      <td>None</td>\n",
       "      <td>None</td>\n",
       "      <td>economist</td>\n",
       "      <td>writer</td>\n",
       "      <td>and academic</td>\n",
       "      <td>None</td>\n",
       "      <td>None</td>\n",
       "      <td>None</td>\n",
       "      <td>None</td>\n",
       "      <td>None</td>\n",
       "      <td>None</td>\n",
       "      <td>None</td>\n",
       "      <td>68.0</td>\n",
       "      <td>None</td>\n",
       "      <td>Ireland</td>\n",
       "      <td>None</td>\n",
       "      <td>None</td>\n",
       "      <td>2.564949</td>\n",
       "      <td>0</td>\n",
       "      <td>0</td>\n",
       "      <td>0</td>\n",
       "      <td>0</td>\n",
       "      <td>0</td>\n",
       "      <td>0</td>\n",
       "      <td>0</td>\n",
       "      <td>0</td>\n",
       "      <td>0</td>\n",
       "      <td>0</td>\n",
       "      <td>0</td>\n",
       "      <td>0</td>\n",
       "      <td>0</td>\n",
       "    </tr>\n",
       "  </tbody>\n",
       "</table>\n",
       "</div>"
      ],
      "text/plain": [
       "  day              name                                                 info  \\\n",
       "0   1  William Chappell  , 86, British dancer, ballet designer and director.   \n",
       "1   1    Raymond Crotty         , 68, Irish economist, writer, and academic.   \n",
       "\n",
       "                                                      link  num_references  \\\n",
       "0  https://en.wikipedia.org/wiki/William_Chappell_(dancer)              21   \n",
       "1             https://en.wikipedia.org/wiki/Raymond_Crotty              12   \n",
       "\n",
       "   year    month info_parenth info_1     info_2                        info_3  \\\n",
       "0  1994  January         None   None     dancer  ballet designer and director   \n",
       "1  1994  January         None   None  economist                        writer   \n",
       "\n",
       "         info_4 info_5 info_6 info_7 info_8 info_9 info_10 info_11   age  \\\n",
       "0          None   None   None   None   None   None    None    None  86.0   \n",
       "1  and academic   None   None   None   None   None    None    None  68.0   \n",
       "\n",
       "  cause_of_death                                               place_1  \\\n",
       "0           None  United Kingdom of Great Britain and Northern Ireland   \n",
       "1           None                                               Ireland   \n",
       "\n",
       "  place_2 info_parenth_copy  log_num_references  sciences  social  spiritual  \\\n",
       "0    None              None            3.091042         0       0          0   \n",
       "1    None              None            2.564949         0       0          0   \n",
       "\n",
       "   academia_humanities  business_farming  arts  sports  \\\n",
       "0                    0                 0     0       0   \n",
       "1                    0                 0     0       0   \n",
       "\n",
       "   law_enf_military_operator  politics_govt_law  crime  event_record_other  \\\n",
       "0                          0                  0      0                   0   \n",
       "1                          0                  0      0                   0   \n",
       "\n",
       "   other_species  num_categories  \n",
       "0              0               0  \n",
       "1              0               0  "
      ]
     },
     "execution_count": 2,
     "metadata": {},
     "output_type": "execute_result"
    },
    {
     "data": {
      "application/javascript": [
       "\n",
       "            setTimeout(function() {\n",
       "                var nbb_cell_id = 2;\n",
       "                var nbb_unformatted_code = \"# Reading the dataset\\nconn = sql.connect(\\\"wp_life_expect_clean5.db\\\")\\ndata = pd.read_sql(\\\"SELECT * FROM wp_life_expect_clean5\\\", conn)\\n\\n# Making a working copy\\ndf = data.copy()\\n\\n# Checking the shape\\nprint(f\\\"There are {df.shape[0]} rows and {df.shape[1]} columns.\\\")\\n\\n# Checking first 2 rows of the data\\ndf.head(2)\";\n",
       "                var nbb_formatted_code = \"# Reading the dataset\\nconn = sql.connect(\\\"wp_life_expect_clean5.db\\\")\\ndata = pd.read_sql(\\\"SELECT * FROM wp_life_expect_clean5\\\", conn)\\n\\n# Making a working copy\\ndf = data.copy()\\n\\n# Checking the shape\\nprint(f\\\"There are {df.shape[0]} rows and {df.shape[1]} columns.\\\")\\n\\n# Checking first 2 rows of the data\\ndf.head(2)\";\n",
       "                var nbb_cells = Jupyter.notebook.get_cells();\n",
       "                for (var i = 0; i < nbb_cells.length; ++i) {\n",
       "                    if (nbb_cells[i].input_prompt_number == nbb_cell_id) {\n",
       "                        if (nbb_cells[i].get_text() == nbb_unformatted_code) {\n",
       "                             nbb_cells[i].set_text(nbb_formatted_code);\n",
       "                        }\n",
       "                        break;\n",
       "                    }\n",
       "                }\n",
       "            }, 500);\n",
       "            "
      ],
      "text/plain": [
       "<IPython.core.display.Javascript object>"
      ]
     },
     "metadata": {},
     "output_type": "display_data"
    }
   ],
   "source": [
    "# Reading the dataset\n",
    "conn = sql.connect(\"wp_life_expect_clean5.db\")\n",
    "data = pd.read_sql(\"SELECT * FROM wp_life_expect_clean5\", conn)\n",
    "\n",
    "# Making a working copy\n",
    "df = data.copy()\n",
    "\n",
    "# Checking the shape\n",
    "print(f\"There are {df.shape[0]} rows and {df.shape[1]} columns.\")\n",
    "\n",
    "# Checking first 2 rows of the data\n",
    "df.head(2)"
   ]
  },
  {
   "cell_type": "code",
   "execution_count": 3,
   "id": "dce919fb",
   "metadata": {},
   "outputs": [
    {
     "data": {
      "text/html": [
       "<div>\n",
       "<style scoped>\n",
       "    .dataframe tbody tr th:only-of-type {\n",
       "        vertical-align: middle;\n",
       "    }\n",
       "\n",
       "    .dataframe tbody tr th {\n",
       "        vertical-align: top;\n",
       "    }\n",
       "\n",
       "    .dataframe thead th {\n",
       "        text-align: right;\n",
       "    }\n",
       "</style>\n",
       "<table border=\"1\" class=\"dataframe\">\n",
       "  <thead>\n",
       "    <tr style=\"text-align: right;\">\n",
       "      <th></th>\n",
       "      <th>day</th>\n",
       "      <th>name</th>\n",
       "      <th>info</th>\n",
       "      <th>link</th>\n",
       "      <th>num_references</th>\n",
       "      <th>year</th>\n",
       "      <th>month</th>\n",
       "      <th>info_parenth</th>\n",
       "      <th>info_1</th>\n",
       "      <th>info_2</th>\n",
       "      <th>info_3</th>\n",
       "      <th>info_4</th>\n",
       "      <th>info_5</th>\n",
       "      <th>info_6</th>\n",
       "      <th>info_7</th>\n",
       "      <th>info_8</th>\n",
       "      <th>info_9</th>\n",
       "      <th>info_10</th>\n",
       "      <th>info_11</th>\n",
       "      <th>age</th>\n",
       "      <th>cause_of_death</th>\n",
       "      <th>place_1</th>\n",
       "      <th>place_2</th>\n",
       "      <th>info_parenth_copy</th>\n",
       "      <th>log_num_references</th>\n",
       "      <th>sciences</th>\n",
       "      <th>social</th>\n",
       "      <th>spiritual</th>\n",
       "      <th>academia_humanities</th>\n",
       "      <th>business_farming</th>\n",
       "      <th>arts</th>\n",
       "      <th>sports</th>\n",
       "      <th>law_enf_military_operator</th>\n",
       "      <th>politics_govt_law</th>\n",
       "      <th>crime</th>\n",
       "      <th>event_record_other</th>\n",
       "      <th>other_species</th>\n",
       "      <th>num_categories</th>\n",
       "    </tr>\n",
       "  </thead>\n",
       "  <tbody>\n",
       "    <tr>\n",
       "      <th>98058</th>\n",
       "      <td>9</td>\n",
       "      <td>Aamir Liaquat Hussain</td>\n",
       "      <td>, 50, Pakistani journalist and politician, MNA .</td>\n",
       "      <td>https://en.wikipedia.org/wiki/Aamir_Liaquat_Hussain</td>\n",
       "      <td>99</td>\n",
       "      <td>2022</td>\n",
       "      <td>June</td>\n",
       "      <td>, since</td>\n",
       "      <td>None</td>\n",
       "      <td></td>\n",
       "      <td>MNA</td>\n",
       "      <td>None</td>\n",
       "      <td>None</td>\n",
       "      <td>None</td>\n",
       "      <td>None</td>\n",
       "      <td>None</td>\n",
       "      <td>None</td>\n",
       "      <td>None</td>\n",
       "      <td>None</td>\n",
       "      <td>50.0</td>\n",
       "      <td>None</td>\n",
       "      <td>Pakistan</td>\n",
       "      <td>None</td>\n",
       "      <td>2002 2007, since 2018</td>\n",
       "      <td>4.605170</td>\n",
       "      <td>0</td>\n",
       "      <td>0</td>\n",
       "      <td>0</td>\n",
       "      <td>0</td>\n",
       "      <td>0</td>\n",
       "      <td>1</td>\n",
       "      <td>0</td>\n",
       "      <td>0</td>\n",
       "      <td>1</td>\n",
       "      <td>0</td>\n",
       "      <td>0</td>\n",
       "      <td>0</td>\n",
       "      <td>2</td>\n",
       "    </tr>\n",
       "    <tr>\n",
       "      <th>98059</th>\n",
       "      <td>9</td>\n",
       "      <td>Zou Jing</td>\n",
       "      <td>, 86, Chinese engineer, member of the Chinese Academy of Engineering.</td>\n",
       "      <td>https://en.wikipedia.org/wiki/Zou_Jing_(engineer)</td>\n",
       "      <td>3</td>\n",
       "      <td>2022</td>\n",
       "      <td>June</td>\n",
       "      <td>None</td>\n",
       "      <td>None</td>\n",
       "      <td>engineer</td>\n",
       "      <td>member of the Academy of Engineering</td>\n",
       "      <td>None</td>\n",
       "      <td>None</td>\n",
       "      <td>None</td>\n",
       "      <td>None</td>\n",
       "      <td>None</td>\n",
       "      <td>None</td>\n",
       "      <td>None</td>\n",
       "      <td>None</td>\n",
       "      <td>86.0</td>\n",
       "      <td>None</td>\n",
       "      <td>China, People's Republic of</td>\n",
       "      <td>None</td>\n",
       "      <td>None</td>\n",
       "      <td>1.386294</td>\n",
       "      <td>0</td>\n",
       "      <td>0</td>\n",
       "      <td>0</td>\n",
       "      <td>0</td>\n",
       "      <td>0</td>\n",
       "      <td>0</td>\n",
       "      <td>0</td>\n",
       "      <td>0</td>\n",
       "      <td>0</td>\n",
       "      <td>0</td>\n",
       "      <td>0</td>\n",
       "      <td>0</td>\n",
       "      <td>0</td>\n",
       "    </tr>\n",
       "  </tbody>\n",
       "</table>\n",
       "</div>"
      ],
      "text/plain": [
       "      day                   name  \\\n",
       "98058   9  Aamir Liaquat Hussain   \n",
       "98059   9               Zou Jing   \n",
       "\n",
       "                                                                        info  \\\n",
       "98058                       , 50, Pakistani journalist and politician, MNA .   \n",
       "98059  , 86, Chinese engineer, member of the Chinese Academy of Engineering.   \n",
       "\n",
       "                                                      link  num_references  \\\n",
       "98058  https://en.wikipedia.org/wiki/Aamir_Liaquat_Hussain              99   \n",
       "98059    https://en.wikipedia.org/wiki/Zou_Jing_(engineer)               3   \n",
       "\n",
       "       year month info_parenth info_1    info_2  \\\n",
       "98058  2022  June      , since   None             \n",
       "98059  2022  June         None   None  engineer   \n",
       "\n",
       "                                     info_3 info_4 info_5 info_6 info_7  \\\n",
       "98058                                   MNA   None   None   None   None   \n",
       "98059  member of the Academy of Engineering   None   None   None   None   \n",
       "\n",
       "      info_8 info_9 info_10 info_11   age cause_of_death  \\\n",
       "98058   None   None    None    None  50.0           None   \n",
       "98059   None   None    None    None  86.0           None   \n",
       "\n",
       "                           place_1 place_2      info_parenth_copy  \\\n",
       "98058                     Pakistan    None  2002 2007, since 2018   \n",
       "98059  China, People's Republic of    None                   None   \n",
       "\n",
       "       log_num_references  sciences  social  spiritual  academia_humanities  \\\n",
       "98058            4.605170         0       0          0                    0   \n",
       "98059            1.386294         0       0          0                    0   \n",
       "\n",
       "       business_farming  arts  sports  law_enf_military_operator  \\\n",
       "98058                 0     1       0                          0   \n",
       "98059                 0     0       0                          0   \n",
       "\n",
       "       politics_govt_law  crime  event_record_other  other_species  \\\n",
       "98058                  1      0                   0              0   \n",
       "98059                  0      0                   0              0   \n",
       "\n",
       "       num_categories  \n",
       "98058               2  \n",
       "98059               0  "
      ]
     },
     "execution_count": 3,
     "metadata": {},
     "output_type": "execute_result"
    },
    {
     "data": {
      "application/javascript": [
       "\n",
       "            setTimeout(function() {\n",
       "                var nbb_cell_id = 3;\n",
       "                var nbb_unformatted_code = \"# Checking last 2 rows of the data\\ndf.tail(2)\";\n",
       "                var nbb_formatted_code = \"# Checking last 2 rows of the data\\ndf.tail(2)\";\n",
       "                var nbb_cells = Jupyter.notebook.get_cells();\n",
       "                for (var i = 0; i < nbb_cells.length; ++i) {\n",
       "                    if (nbb_cells[i].input_prompt_number == nbb_cell_id) {\n",
       "                        if (nbb_cells[i].get_text() == nbb_unformatted_code) {\n",
       "                             nbb_cells[i].set_text(nbb_formatted_code);\n",
       "                        }\n",
       "                        break;\n",
       "                    }\n",
       "                }\n",
       "            }, 500);\n",
       "            "
      ],
      "text/plain": [
       "<IPython.core.display.Javascript object>"
      ]
     },
     "metadata": {},
     "output_type": "display_data"
    }
   ],
   "source": [
    "# Checking last 2 rows of the data\n",
    "df.tail(2)"
   ]
  },
  {
   "cell_type": "code",
   "execution_count": 4,
   "id": "4426da59",
   "metadata": {},
   "outputs": [
    {
     "data": {
      "text/html": [
       "<div>\n",
       "<style scoped>\n",
       "    .dataframe tbody tr th:only-of-type {\n",
       "        vertical-align: middle;\n",
       "    }\n",
       "\n",
       "    .dataframe tbody tr th {\n",
       "        vertical-align: top;\n",
       "    }\n",
       "\n",
       "    .dataframe thead th {\n",
       "        text-align: right;\n",
       "    }\n",
       "</style>\n",
       "<table border=\"1\" class=\"dataframe\">\n",
       "  <thead>\n",
       "    <tr style=\"text-align: right;\">\n",
       "      <th></th>\n",
       "      <th>day</th>\n",
       "      <th>name</th>\n",
       "      <th>info</th>\n",
       "      <th>link</th>\n",
       "      <th>num_references</th>\n",
       "      <th>year</th>\n",
       "      <th>month</th>\n",
       "      <th>info_parenth</th>\n",
       "      <th>info_1</th>\n",
       "      <th>info_2</th>\n",
       "      <th>info_3</th>\n",
       "      <th>info_4</th>\n",
       "      <th>info_5</th>\n",
       "      <th>info_6</th>\n",
       "      <th>info_7</th>\n",
       "      <th>info_8</th>\n",
       "      <th>info_9</th>\n",
       "      <th>info_10</th>\n",
       "      <th>info_11</th>\n",
       "      <th>age</th>\n",
       "      <th>cause_of_death</th>\n",
       "      <th>place_1</th>\n",
       "      <th>place_2</th>\n",
       "      <th>info_parenth_copy</th>\n",
       "      <th>log_num_references</th>\n",
       "      <th>sciences</th>\n",
       "      <th>social</th>\n",
       "      <th>spiritual</th>\n",
       "      <th>academia_humanities</th>\n",
       "      <th>business_farming</th>\n",
       "      <th>arts</th>\n",
       "      <th>sports</th>\n",
       "      <th>law_enf_military_operator</th>\n",
       "      <th>politics_govt_law</th>\n",
       "      <th>crime</th>\n",
       "      <th>event_record_other</th>\n",
       "      <th>other_species</th>\n",
       "      <th>num_categories</th>\n",
       "    </tr>\n",
       "  </thead>\n",
       "  <tbody>\n",
       "    <tr>\n",
       "      <th>59486</th>\n",
       "      <td>7</td>\n",
       "      <td>Bryan Clauson</td>\n",
       "      <td>, 27, American racing driver, race collision.</td>\n",
       "      <td>https://en.wikipedia.org/wiki/Bryan_Clauson</td>\n",
       "      <td>23</td>\n",
       "      <td>2016</td>\n",
       "      <td>August</td>\n",
       "      <td>None</td>\n",
       "      <td>None</td>\n",
       "      <td>racing driver</td>\n",
       "      <td>race collision</td>\n",
       "      <td>None</td>\n",
       "      <td>None</td>\n",
       "      <td>None</td>\n",
       "      <td>None</td>\n",
       "      <td>None</td>\n",
       "      <td>None</td>\n",
       "      <td>None</td>\n",
       "      <td>None</td>\n",
       "      <td>27.0</td>\n",
       "      <td>None</td>\n",
       "      <td>United States of America</td>\n",
       "      <td>None</td>\n",
       "      <td>None</td>\n",
       "      <td>3.178054</td>\n",
       "      <td>0</td>\n",
       "      <td>0</td>\n",
       "      <td>0</td>\n",
       "      <td>0</td>\n",
       "      <td>0</td>\n",
       "      <td>0</td>\n",
       "      <td>0</td>\n",
       "      <td>0</td>\n",
       "      <td>0</td>\n",
       "      <td>0</td>\n",
       "      <td>0</td>\n",
       "      <td>0</td>\n",
       "      <td>0</td>\n",
       "    </tr>\n",
       "    <tr>\n",
       "      <th>54846</th>\n",
       "      <td>14</td>\n",
       "      <td>Adam Purple</td>\n",
       "      <td>, 84, American environmental activist, heart attack.</td>\n",
       "      <td>https://en.wikipedia.org/wiki/Adam_Purple</td>\n",
       "      <td>21</td>\n",
       "      <td>2015</td>\n",
       "      <td>September</td>\n",
       "      <td>None</td>\n",
       "      <td>None</td>\n",
       "      <td>environmental activist</td>\n",
       "      <td>heart attack</td>\n",
       "      <td>None</td>\n",
       "      <td>None</td>\n",
       "      <td>None</td>\n",
       "      <td>None</td>\n",
       "      <td>None</td>\n",
       "      <td>None</td>\n",
       "      <td>None</td>\n",
       "      <td>None</td>\n",
       "      <td>84.0</td>\n",
       "      <td>None</td>\n",
       "      <td>United States of America</td>\n",
       "      <td>None</td>\n",
       "      <td>None</td>\n",
       "      <td>3.091042</td>\n",
       "      <td>0</td>\n",
       "      <td>0</td>\n",
       "      <td>0</td>\n",
       "      <td>0</td>\n",
       "      <td>0</td>\n",
       "      <td>0</td>\n",
       "      <td>0</td>\n",
       "      <td>0</td>\n",
       "      <td>0</td>\n",
       "      <td>0</td>\n",
       "      <td>0</td>\n",
       "      <td>0</td>\n",
       "      <td>0</td>\n",
       "    </tr>\n",
       "    <tr>\n",
       "      <th>59185</th>\n",
       "      <td>18</td>\n",
       "      <td>Nikolaus Messmer</td>\n",
       "      <td>, 61, Kazakh-born Kyrgyz Roman Catholic prelate, Apostolic Administrator of Kyrgyzstan .</td>\n",
       "      <td>https://en.wikipedia.org/wiki/Nikolaus_Messmer</td>\n",
       "      <td>3</td>\n",
       "      <td>2016</td>\n",
       "      <td>July</td>\n",
       "      <td>since</td>\n",
       "      <td>None</td>\n",
       "      <td>Catholic prelate</td>\n",
       "      <td>Apostolic Administrator of</td>\n",
       "      <td>None</td>\n",
       "      <td>None</td>\n",
       "      <td>None</td>\n",
       "      <td>None</td>\n",
       "      <td>None</td>\n",
       "      <td>None</td>\n",
       "      <td>None</td>\n",
       "      <td>None</td>\n",
       "      <td>61.0</td>\n",
       "      <td>None</td>\n",
       "      <td>Kazakhstan</td>\n",
       "      <td>Kyrgyzstan</td>\n",
       "      <td>since 2006</td>\n",
       "      <td>1.386294</td>\n",
       "      <td>0</td>\n",
       "      <td>0</td>\n",
       "      <td>0</td>\n",
       "      <td>0</td>\n",
       "      <td>0</td>\n",
       "      <td>0</td>\n",
       "      <td>0</td>\n",
       "      <td>0</td>\n",
       "      <td>0</td>\n",
       "      <td>0</td>\n",
       "      <td>0</td>\n",
       "      <td>0</td>\n",
       "      <td>0</td>\n",
       "    </tr>\n",
       "    <tr>\n",
       "      <th>31181</th>\n",
       "      <td>19</td>\n",
       "      <td>Dylan Meier</td>\n",
       "      <td>, 26, American college football player, climbing accident.</td>\n",
       "      <td>https://en.wikipedia.org/wiki/Dylan_Meier</td>\n",
       "      <td>8</td>\n",
       "      <td>2010</td>\n",
       "      <td>April</td>\n",
       "      <td>None</td>\n",
       "      <td>None</td>\n",
       "      <td></td>\n",
       "      <td>climbing accident</td>\n",
       "      <td>None</td>\n",
       "      <td>None</td>\n",
       "      <td>None</td>\n",
       "      <td>None</td>\n",
       "      <td>None</td>\n",
       "      <td>None</td>\n",
       "      <td>None</td>\n",
       "      <td>None</td>\n",
       "      <td>26.0</td>\n",
       "      <td>None</td>\n",
       "      <td>United States of America</td>\n",
       "      <td>None</td>\n",
       "      <td>None</td>\n",
       "      <td>2.197225</td>\n",
       "      <td>0</td>\n",
       "      <td>0</td>\n",
       "      <td>0</td>\n",
       "      <td>0</td>\n",
       "      <td>0</td>\n",
       "      <td>0</td>\n",
       "      <td>1</td>\n",
       "      <td>0</td>\n",
       "      <td>0</td>\n",
       "      <td>0</td>\n",
       "      <td>0</td>\n",
       "      <td>0</td>\n",
       "      <td>1</td>\n",
       "    </tr>\n",
       "    <tr>\n",
       "      <th>49319</th>\n",
       "      <td>11</td>\n",
       "      <td>Vladimir Beara</td>\n",
       "      <td>, 85, Yugoslav football player .</td>\n",
       "      <td>https://en.wikipedia.org/wiki/Vladimir_Beara</td>\n",
       "      <td>12</td>\n",
       "      <td>2014</td>\n",
       "      <td>August</td>\n",
       "      <td>national team and manager, Olympic silver medalist</td>\n",
       "      <td>None</td>\n",
       "      <td></td>\n",
       "      <td>None</td>\n",
       "      <td>None</td>\n",
       "      <td>None</td>\n",
       "      <td>None</td>\n",
       "      <td>None</td>\n",
       "      <td>None</td>\n",
       "      <td>None</td>\n",
       "      <td>None</td>\n",
       "      <td>None</td>\n",
       "      <td>85.0</td>\n",
       "      <td>None</td>\n",
       "      <td>Serbia</td>\n",
       "      <td>None</td>\n",
       "      <td>national team and manager, Olympic silver medalist 1952</td>\n",
       "      <td>2.564949</td>\n",
       "      <td>0</td>\n",
       "      <td>0</td>\n",
       "      <td>0</td>\n",
       "      <td>0</td>\n",
       "      <td>0</td>\n",
       "      <td>0</td>\n",
       "      <td>1</td>\n",
       "      <td>0</td>\n",
       "      <td>0</td>\n",
       "      <td>0</td>\n",
       "      <td>0</td>\n",
       "      <td>0</td>\n",
       "      <td>1</td>\n",
       "    </tr>\n",
       "  </tbody>\n",
       "</table>\n",
       "</div>"
      ],
      "text/plain": [
       "      day              name  \\\n",
       "59486   7     Bryan Clauson   \n",
       "54846  14       Adam Purple   \n",
       "59185  18  Nikolaus Messmer   \n",
       "31181  19       Dylan Meier   \n",
       "49319  11    Vladimir Beara   \n",
       "\n",
       "                                                                                           info  \\\n",
       "59486                                             , 27, American racing driver, race collision.   \n",
       "54846                                      , 84, American environmental activist, heart attack.   \n",
       "59185  , 61, Kazakh-born Kyrgyz Roman Catholic prelate, Apostolic Administrator of Kyrgyzstan .   \n",
       "31181                                , 26, American college football player, climbing accident.   \n",
       "49319                                                          , 85, Yugoslav football player .   \n",
       "\n",
       "                                                 link  num_references  year  \\\n",
       "59486     https://en.wikipedia.org/wiki/Bryan_Clauson              23  2016   \n",
       "54846       https://en.wikipedia.org/wiki/Adam_Purple              21  2015   \n",
       "59185  https://en.wikipedia.org/wiki/Nikolaus_Messmer               3  2016   \n",
       "31181       https://en.wikipedia.org/wiki/Dylan_Meier               8  2010   \n",
       "49319    https://en.wikipedia.org/wiki/Vladimir_Beara              12  2014   \n",
       "\n",
       "           month                                        info_parenth info_1  \\\n",
       "59486     August                                                None   None   \n",
       "54846  September                                                None   None   \n",
       "59185       July                                               since   None   \n",
       "31181      April                                                None   None   \n",
       "49319     August  national team and manager, Olympic silver medalist   None   \n",
       "\n",
       "                       info_2                      info_3 info_4 info_5  \\\n",
       "59486           racing driver              race collision   None   None   \n",
       "54846  environmental activist                heart attack   None   None   \n",
       "59185        Catholic prelate  Apostolic Administrator of   None   None   \n",
       "31181                                   climbing accident   None   None   \n",
       "49319                                                None   None   None   \n",
       "\n",
       "      info_6 info_7 info_8 info_9 info_10 info_11   age cause_of_death  \\\n",
       "59486   None   None   None   None    None    None  27.0           None   \n",
       "54846   None   None   None   None    None    None  84.0           None   \n",
       "59185   None   None   None   None    None    None  61.0           None   \n",
       "31181   None   None   None   None    None    None  26.0           None   \n",
       "49319   None   None   None   None    None    None  85.0           None   \n",
       "\n",
       "                        place_1     place_2  \\\n",
       "59486  United States of America        None   \n",
       "54846  United States of America        None   \n",
       "59185                Kazakhstan  Kyrgyzstan   \n",
       "31181  United States of America        None   \n",
       "49319                    Serbia        None   \n",
       "\n",
       "                                             info_parenth_copy  \\\n",
       "59486                                                     None   \n",
       "54846                                                     None   \n",
       "59185                                               since 2006   \n",
       "31181                                                     None   \n",
       "49319  national team and manager, Olympic silver medalist 1952   \n",
       "\n",
       "       log_num_references  sciences  social  spiritual  academia_humanities  \\\n",
       "59486            3.178054         0       0          0                    0   \n",
       "54846            3.091042         0       0          0                    0   \n",
       "59185            1.386294         0       0          0                    0   \n",
       "31181            2.197225         0       0          0                    0   \n",
       "49319            2.564949         0       0          0                    0   \n",
       "\n",
       "       business_farming  arts  sports  law_enf_military_operator  \\\n",
       "59486                 0     0       0                          0   \n",
       "54846                 0     0       0                          0   \n",
       "59185                 0     0       0                          0   \n",
       "31181                 0     0       1                          0   \n",
       "49319                 0     0       1                          0   \n",
       "\n",
       "       politics_govt_law  crime  event_record_other  other_species  \\\n",
       "59486                  0      0                   0              0   \n",
       "54846                  0      0                   0              0   \n",
       "59185                  0      0                   0              0   \n",
       "31181                  0      0                   0              0   \n",
       "49319                  0      0                   0              0   \n",
       "\n",
       "       num_categories  \n",
       "59486               0  \n",
       "54846               0  \n",
       "59185               0  \n",
       "31181               1  \n",
       "49319               1  "
      ]
     },
     "execution_count": 4,
     "metadata": {},
     "output_type": "execute_result"
    },
    {
     "data": {
      "application/javascript": [
       "\n",
       "            setTimeout(function() {\n",
       "                var nbb_cell_id = 4;\n",
       "                var nbb_unformatted_code = \"# Checking a sample of the data\\ndf.sample(5)\";\n",
       "                var nbb_formatted_code = \"# Checking a sample of the data\\ndf.sample(5)\";\n",
       "                var nbb_cells = Jupyter.notebook.get_cells();\n",
       "                for (var i = 0; i < nbb_cells.length; ++i) {\n",
       "                    if (nbb_cells[i].input_prompt_number == nbb_cell_id) {\n",
       "                        if (nbb_cells[i].get_text() == nbb_unformatted_code) {\n",
       "                             nbb_cells[i].set_text(nbb_formatted_code);\n",
       "                        }\n",
       "                        break;\n",
       "                    }\n",
       "                }\n",
       "            }, 500);\n",
       "            "
      ],
      "text/plain": [
       "<IPython.core.display.Javascript object>"
      ]
     },
     "metadata": {},
     "output_type": "display_data"
    }
   ],
   "source": [
    "# Checking a sample of the data\n",
    "df.sample(5)"
   ]
  },
  {
   "cell_type": "markdown",
   "id": "4b6fec3c",
   "metadata": {},
   "source": [
    "### Checking Data Types, Duplicates, and Null Values"
   ]
  },
  {
   "cell_type": "code",
   "execution_count": 5,
   "id": "624fa882",
   "metadata": {},
   "outputs": [
    {
     "name": "stdout",
     "output_type": "stream",
     "text": [
      "<class 'pandas.core.frame.DataFrame'>\n",
      "RangeIndex: 98060 entries, 0 to 98059\n",
      "Data columns (total 38 columns):\n",
      " #   Column                     Non-Null Count  Dtype  \n",
      "---  ------                     --------------  -----  \n",
      " 0   day                        98060 non-null  object \n",
      " 1   name                       98060 non-null  object \n",
      " 2   info                       98060 non-null  object \n",
      " 3   link                       98060 non-null  object \n",
      " 4   num_references             98060 non-null  int64  \n",
      " 5   year                       98060 non-null  int64  \n",
      " 6   month                      98060 non-null  object \n",
      " 7   info_parenth               36661 non-null  object \n",
      " 8   info_1                     22 non-null     object \n",
      " 9   info_2                     98028 non-null  object \n",
      " 10  info_3                     48896 non-null  object \n",
      " 11  info_4                     10264 non-null  object \n",
      " 12  info_5                     1265 non-null   object \n",
      " 13  info_6                     181 non-null    object \n",
      " 14  info_7                     27 non-null     object \n",
      " 15  info_8                     5 non-null      object \n",
      " 16  info_9                     1 non-null      object \n",
      " 17  info_10                    1 non-null      object \n",
      " 18  info_11                    1 non-null      object \n",
      " 19  age                        98060 non-null  float64\n",
      " 20  cause_of_death             4 non-null      object \n",
      " 21  place_1                    97906 non-null  object \n",
      " 22  place_2                    8115 non-null   object \n",
      " 23  info_parenth_copy          36661 non-null  object \n",
      " 24  log_num_references         98060 non-null  float64\n",
      " 25  sciences                   98060 non-null  int64  \n",
      " 26  social                     98060 non-null  int64  \n",
      " 27  spiritual                  98060 non-null  int64  \n",
      " 28  academia_humanities        98060 non-null  int64  \n",
      " 29  business_farming           98060 non-null  int64  \n",
      " 30  arts                       98060 non-null  int64  \n",
      " 31  sports                     98060 non-null  int64  \n",
      " 32  law_enf_military_operator  98060 non-null  int64  \n",
      " 33  politics_govt_law          98060 non-null  int64  \n",
      " 34  crime                      98060 non-null  int64  \n",
      " 35  event_record_other         98060 non-null  int64  \n",
      " 36  other_species              98060 non-null  int64  \n",
      " 37  num_categories             98060 non-null  int64  \n",
      "dtypes: float64(2), int64(15), object(21)\n",
      "memory usage: 28.4+ MB\n"
     ]
    },
    {
     "data": {
      "application/javascript": [
       "\n",
       "            setTimeout(function() {\n",
       "                var nbb_cell_id = 5;\n",
       "                var nbb_unformatted_code = \"# Checking data types and null values\\ndf.info()\";\n",
       "                var nbb_formatted_code = \"# Checking data types and null values\\ndf.info()\";\n",
       "                var nbb_cells = Jupyter.notebook.get_cells();\n",
       "                for (var i = 0; i < nbb_cells.length; ++i) {\n",
       "                    if (nbb_cells[i].input_prompt_number == nbb_cell_id) {\n",
       "                        if (nbb_cells[i].get_text() == nbb_unformatted_code) {\n",
       "                             nbb_cells[i].set_text(nbb_formatted_code);\n",
       "                        }\n",
       "                        break;\n",
       "                    }\n",
       "                }\n",
       "            }, 500);\n",
       "            "
      ],
      "text/plain": [
       "<IPython.core.display.Javascript object>"
      ]
     },
     "metadata": {},
     "output_type": "display_data"
    }
   ],
   "source": [
    "# Checking data types and null values\n",
    "df.info()"
   ]
  },
  {
   "cell_type": "markdown",
   "id": "30008198",
   "metadata": {},
   "source": [
    "#### Observations:\n",
    "- With our dataset loaded, we can pick up where we left off with extracting known_for values by rebuilding `known_for_dict`."
   ]
  },
  {
   "cell_type": "markdown",
   "id": "527c2714",
   "metadata": {},
   "source": [
    "### Extracting `known_for` Continued"
   ]
  },
  {
   "cell_type": "markdown",
   "id": "765a0a93",
   "metadata": {},
   "source": [
    "#### Finding `known_for` Roles in `info_2`"
   ]
  },
  {
   "cell_type": "code",
   "execution_count": 6,
   "id": "7df40025",
   "metadata": {},
   "outputs": [
    {
     "data": {
      "application/javascript": [
       "\n",
       "            setTimeout(function() {\n",
       "                var nbb_cell_id = 6;\n",
       "                var nbb_unformatted_code = \"# Obtaining values for column and their counts\\nroles_list = df[\\\"info_2\\\"].value_counts(ascending=True).index.tolist()\";\n",
       "                var nbb_formatted_code = \"# Obtaining values for column and their counts\\nroles_list = df[\\\"info_2\\\"].value_counts(ascending=True).index.tolist()\";\n",
       "                var nbb_cells = Jupyter.notebook.get_cells();\n",
       "                for (var i = 0; i < nbb_cells.length; ++i) {\n",
       "                    if (nbb_cells[i].input_prompt_number == nbb_cell_id) {\n",
       "                        if (nbb_cells[i].get_text() == nbb_unformatted_code) {\n",
       "                             nbb_cells[i].set_text(nbb_formatted_code);\n",
       "                        }\n",
       "                        break;\n",
       "                    }\n",
       "                }\n",
       "            }, 500);\n",
       "            "
      ],
      "text/plain": [
       "<IPython.core.display.Javascript object>"
      ]
     },
     "metadata": {},
     "output_type": "display_data"
    }
   ],
   "source": [
    "# Obtaining values for column and their counts\n",
    "roles_list = df[\"info_2\"].value_counts(ascending=True).index.tolist()"
   ]
  },
  {
   "cell_type": "code",
   "execution_count": 7,
   "id": "a563dec8",
   "metadata": {},
   "outputs": [
    {
     "data": {
      "application/javascript": [
       "\n",
       "            setTimeout(function() {\n",
       "                var nbb_cell_id = 7;\n",
       "                var nbb_unformatted_code = \"# # Code to check each value\\n# roles_list.pop()\";\n",
       "                var nbb_formatted_code = \"# # Code to check each value\\n# roles_list.pop()\";\n",
       "                var nbb_cells = Jupyter.notebook.get_cells();\n",
       "                for (var i = 0; i < nbb_cells.length; ++i) {\n",
       "                    if (nbb_cells[i].input_prompt_number == nbb_cell_id) {\n",
       "                        if (nbb_cells[i].get_text() == nbb_unformatted_code) {\n",
       "                             nbb_cells[i].set_text(nbb_formatted_code);\n",
       "                        }\n",
       "                        break;\n",
       "                    }\n",
       "                }\n",
       "            }, 500);\n",
       "            "
      ],
      "text/plain": [
       "<IPython.core.display.Javascript object>"
      ]
     },
     "metadata": {},
     "output_type": "display_data"
    }
   ],
   "source": [
    "# # Code to check each value\n",
    "# roles_list.pop()"
   ]
  },
  {
   "cell_type": "code",
   "execution_count": 8,
   "id": "0dcf964c",
   "metadata": {},
   "outputs": [
    {
     "data": {
      "application/javascript": [
       "\n",
       "            setTimeout(function() {\n",
       "                var nbb_cell_id = 8;\n",
       "                var nbb_unformatted_code = \"# # Create specific_roles_list for above popped value\\n# specific_roles_list = (\\n#     df.loc[[index for index in df.index if \\\"poet\\\" in df.loc[index, \\\"info\\\"]], \\\"info_2\\\",]\\n#     .value_counts()\\n#     .index.tolist()\\n# )\";\n",
       "                var nbb_formatted_code = \"# # Create specific_roles_list for above popped value\\n# specific_roles_list = (\\n#     df.loc[[index for index in df.index if \\\"poet\\\" in df.loc[index, \\\"info\\\"]], \\\"info_2\\\",]\\n#     .value_counts()\\n#     .index.tolist()\\n# )\";\n",
       "                var nbb_cells = Jupyter.notebook.get_cells();\n",
       "                for (var i = 0; i < nbb_cells.length; ++i) {\n",
       "                    if (nbb_cells[i].input_prompt_number == nbb_cell_id) {\n",
       "                        if (nbb_cells[i].get_text() == nbb_unformatted_code) {\n",
       "                             nbb_cells[i].set_text(nbb_formatted_code);\n",
       "                        }\n",
       "                        break;\n",
       "                    }\n",
       "                }\n",
       "            }, 500);\n",
       "            "
      ],
      "text/plain": [
       "<IPython.core.display.Javascript object>"
      ]
     },
     "metadata": {},
     "output_type": "display_data"
    }
   ],
   "source": [
    "# # Create specific_roles_list for above popped value\n",
    "# specific_roles_list = (\n",
    "#     df.loc[[index for index in df.index if \"poet\" in df.loc[index, \"info\"]], \"info_2\",]\n",
    "#     .value_counts()\n",
    "#     .index.tolist()\n",
    "# )"
   ]
  },
  {
   "cell_type": "code",
   "execution_count": 9,
   "id": "ac8fc91d",
   "metadata": {},
   "outputs": [
    {
     "data": {
      "application/javascript": [
       "\n",
       "            setTimeout(function() {\n",
       "                var nbb_cell_id = 9;\n",
       "                var nbb_unformatted_code = \"# # Code to check each specific value\\n# specific_roles_list.pop()\";\n",
       "                var nbb_formatted_code = \"# # Code to check each specific value\\n# specific_roles_list.pop()\";\n",
       "                var nbb_cells = Jupyter.notebook.get_cells();\n",
       "                for (var i = 0; i < nbb_cells.length; ++i) {\n",
       "                    if (nbb_cells[i].input_prompt_number == nbb_cell_id) {\n",
       "                        if (nbb_cells[i].get_text() == nbb_unformatted_code) {\n",
       "                             nbb_cells[i].set_text(nbb_formatted_code);\n",
       "                        }\n",
       "                        break;\n",
       "                    }\n",
       "                }\n",
       "            }, 500);\n",
       "            "
      ],
      "text/plain": [
       "<IPython.core.display.Javascript object>"
      ]
     },
     "metadata": {},
     "output_type": "display_data"
    }
   ],
   "source": [
    "# # Code to check each specific value\n",
    "# specific_roles_list.pop()"
   ]
  },
  {
   "cell_type": "code",
   "execution_count": 10,
   "id": "4aea17e9",
   "metadata": {},
   "outputs": [
    {
     "data": {
      "application/javascript": [
       "\n",
       "            setTimeout(function() {\n",
       "                var nbb_cell_id = 10;\n",
       "                var nbb_unformatted_code = \"# # Example code to quick-screen values that may overlap categories\\n# df.loc[[index for index in df.index if \\\"poet and poetry\\\" in df.loc[index, \\\"info\\\"]]]\";\n",
       "                var nbb_formatted_code = \"# # Example code to quick-screen values that may overlap categories\\n# df.loc[[index for index in df.index if \\\"poet and poetry\\\" in df.loc[index, \\\"info\\\"]]]\";\n",
       "                var nbb_cells = Jupyter.notebook.get_cells();\n",
       "                for (var i = 0; i < nbb_cells.length; ++i) {\n",
       "                    if (nbb_cells[i].input_prompt_number == nbb_cell_id) {\n",
       "                        if (nbb_cells[i].get_text() == nbb_unformatted_code) {\n",
       "                             nbb_cells[i].set_text(nbb_formatted_code);\n",
       "                        }\n",
       "                        break;\n",
       "                    }\n",
       "                }\n",
       "            }, 500);\n",
       "            "
      ],
      "text/plain": [
       "<IPython.core.display.Javascript object>"
      ]
     },
     "metadata": {},
     "output_type": "display_data"
    }
   ],
   "source": [
    "# # Example code to quick-screen values that may overlap categories\n",
    "# df.loc[[index for index in df.index if \"poet and poetry\" in df.loc[index, \"info\"]]]"
   ]
  },
  {
   "cell_type": "code",
   "execution_count": 11,
   "id": "2b283fcd",
   "metadata": {},
   "outputs": [
    {
     "data": {
      "application/javascript": [
       "\n",
       "            setTimeout(function() {\n",
       "                var nbb_cell_id = 11;\n",
       "                var nbb_unformatted_code = \"# # Example code to quick-screen values that may overlap categories\\n# df.loc[\\n#     [\\n#         index\\n#         for index in df.index\\n#         if \\\"outlaw country music singer songwriter\\\" in df.loc[index, \\\"info\\\"]\\n#     ]\\n# ]\";\n",
       "                var nbb_formatted_code = \"# # Example code to quick-screen values that may overlap categories\\n# df.loc[\\n#     [\\n#         index\\n#         for index in df.index\\n#         if \\\"outlaw country music singer songwriter\\\" in df.loc[index, \\\"info\\\"]\\n#     ]\\n# ]\";\n",
       "                var nbb_cells = Jupyter.notebook.get_cells();\n",
       "                for (var i = 0; i < nbb_cells.length; ++i) {\n",
       "                    if (nbb_cells[i].input_prompt_number == nbb_cell_id) {\n",
       "                        if (nbb_cells[i].get_text() == nbb_unformatted_code) {\n",
       "                             nbb_cells[i].set_text(nbb_formatted_code);\n",
       "                        }\n",
       "                        break;\n",
       "                    }\n",
       "                }\n",
       "            }, 500);\n",
       "            "
      ],
      "text/plain": [
       "<IPython.core.display.Javascript object>"
      ]
     },
     "metadata": {},
     "output_type": "display_data"
    }
   ],
   "source": [
    "# # Example code to quick-screen values that may overlap categories\n",
    "# df.loc[\n",
    "#     [\n",
    "#         index\n",
    "#         for index in df.index\n",
    "#         if \"outlaw country music singer songwriter\" in df.loc[index, \"info\"]\n",
    "#     ]\n",
    "# ]"
   ]
  },
  {
   "cell_type": "code",
   "execution_count": 12,
   "id": "e38fba1a",
   "metadata": {},
   "outputs": [
    {
     "data": {
      "application/javascript": [
       "\n",
       "            setTimeout(function() {\n",
       "                var nbb_cell_id = 12;\n",
       "                var nbb_unformatted_code = \"# # Example code to quick-check a specific entry\\n# df[df[\\\"info_2\\\"] == \\\"n poet\\\"]\";\n",
       "                var nbb_formatted_code = \"# # Example code to quick-check a specific entry\\n# df[df[\\\"info_2\\\"] == \\\"n poet\\\"]\";\n",
       "                var nbb_cells = Jupyter.notebook.get_cells();\n",
       "                for (var i = 0; i < nbb_cells.length; ++i) {\n",
       "                    if (nbb_cells[i].input_prompt_number == nbb_cell_id) {\n",
       "                        if (nbb_cells[i].get_text() == nbb_unformatted_code) {\n",
       "                             nbb_cells[i].set_text(nbb_formatted_code);\n",
       "                        }\n",
       "                        break;\n",
       "                    }\n",
       "                }\n",
       "            }, 500);\n",
       "            "
      ],
      "text/plain": [
       "<IPython.core.display.Javascript object>"
      ]
     },
     "metadata": {},
     "output_type": "display_data"
    }
   ],
   "source": [
    "# # Example code to quick-check a specific entry\n",
    "# df[df[\"info_2\"] == \"n poet\"]"
   ]
  },
  {
   "cell_type": "markdown",
   "id": "1d3c170e",
   "metadata": {},
   "source": [
    "#### Creating Lists for Each `known_for` Category"
   ]
  },
  {
   "cell_type": "code",
   "execution_count": 13,
   "id": "4e7f5576",
   "metadata": {},
   "outputs": [
    {
     "data": {
      "application/javascript": [
       "\n",
       "            setTimeout(function() {\n",
       "                var nbb_cell_id = 13;\n",
       "                var nbb_unformatted_code = \"# Creating lists for each category\\npolitics_govt_law = []\\n\\narts = [\\n    \\\"Pulitzer Prize winning poet and former poet laureate\\\",\\n    \\\"poet of the School\\\",\\n    \\\"poet and dramatist\\\",\\n    \\\"Nuyorican poet and playwright\\\",\\n    \\\"poet and memoirist\\\",\\n    \\\"poet and BBC producer\\\",\\n    \\\"Mi'kmaq poet\\\",\\n    \\\"poet and Pulitzer Prize winner\\\",\\n    \\\"poet and arts critic\\\",\\n    \\\"poet and radio host\\\",\\n    \\\"novelist and poetry promoter\\\",\\n    \\\"poet and diarist\\\",\\n    \\\"poet and broadcaster\\\",\\n    \\\"surrealist poet\\\",\\n    \\\"Chicano poet\\\",\\n    \\\"Martiniquan poet\\\",\\n    \\\"M\\u0101ori poet\\\",\\n    \\\"poet who wrote about the Dust Bowl\\\",\\n    \\\"vocalist and poet\\\",\\n    \\\"satirist and humorist poet of\\\",\\n    \\\"Movement poet\\\",\\n    \\\"avant garde poet and visual artist\\\",\\n    \\\"poet and literary book publisher\\\",\\n    \\\"poet of the Beat Generation\\\",\\n    \\\"Latino poet\\\",\\n    \\\"contemporary poet\\\",\\n    \\\"film maker and poet\\\",\\n    \\\"beat poet\\\",\\n    \\\"biographer and poet\\\",\\n    \\\"poet and jazz musician\\\",\\n    \\\"poet and architecture critic\\\",\\n    \\\"K'iche' Maya poet\\\",\\n    \\\"visual artist and poet\\\",\\n    \\\"poet and biographer\\\",\\n    \\\"jazz pianist and poet\\\",\\n    \\\"rhythm poet and musician\\\",\\n    \\\"dub poet\\\",\\n    \\\"percussionist and poet\\\",\\n    \\\"poet and jazz pianist\\\",\\n    \\\"poet and spoken word musician\\\",\\n    \\\"poet and sculptor\\\",\\n    \\\"experimental poet\\\",\\n    \\\"poet and radio broadcaster\\\",\\n    \\\"Marathi ghazal poet\\\",\\n    \\\"poet and co founder of interstitial lung disease\\\",\\n    \\\"avant garde composer and poet\\\",\\n    \\\"magazine publisher and poet\\\",\\n    \\\"literary critic and poet\\\",\\n    \\\"sculptor and poet\\\",\\n    \\\"poet and proofreader\\\",\\n    \\\"Odia poet\\\",\\n    \\\"folk musician and poet\\\",\\n    \\\"Ulster Scots poet\\\",\\n    \\\"vernacular poet\\\",\\n    \\\"Pashto poet\\\",\\n    \\\"poet and recording artist\\\",\\n    \\\"poet and disc jockey\\\",\\n    \\\"Kannada language poet\\\",\\n    \\\"and spoken word poet\\\",\\n    \\\"poet and film producer\\\",\\n    \\\"Nuyorican poet\\\",\\n    \\\"Kannada poet\\\",\\n    \\\"surrealist poet and art critic\\\",\\n    \\\"director and poet\\\",\\n    \\\"Kashubian poet\\\",\\n    \\\"poet and poetry\\\",\\n    \\\"art critic and poet\\\",\\n    \\\"poet and art critic\\\",\\n    \\\"jazz musician and poet\\\",\\n    \\\"Native poet\\\",\\n    \\\"poet and composer\\\",\\n    \\\"poet and cartoonist\\\",\\n    \\\"poet and filmmaker\\\",\\n    \\\"Pulitzer Prize winning poet\\\",\\n    \\\"photographer and poet\\\",\\n    \\\"poet and visual artist\\\",\\n    \\\"musician and poet\\\",\\n    \\\"poet and performance artist\\\",\\n    \\\"poet and musician\\\",\\n    \\\"lyricist and poet\\\",\\n    \\\"painter and poet\\\",\\n    \\\"poet and artist\\\",\\n    \\\"poet and publisher\\\",\\n    \\\"playwright and poet\\\",\\n    \\\"poet and painter\\\",\\n    \\\"poet and lyricist\\\",\\n    \\\"Urdu poet and\\\",\\n    \\\"Urdu poet\\\",\\n    \\\"poet and essayist\\\",\\n    \\\"artist and poet\\\",\\n    \\\"poet and critic\\\",\\n    \\\"poet and editor\\\",\\n    \\\"poet and literary critic\\\",\\n    \\\"novelist and poet\\\",\\n    \\\"poet and playwright\\\",\\n    \\\"poet and novelist\\\",\\n    \\\"Occitan language poet and\\\",\\n    \\\"language poet\\\",\\n    \\\"Arabian poet and\\\",\\n    \\\"poetess\\\",\\n    \\\"poet and literary\\\",\\n    \\\"Beat generation poet and\\\",\\n    \\\"Beat Generation poet\\\",\\n    \\\"Beat poet\\\",\\n    \\\"prize winning poet and\\\",\\n    \\\"n poet\\\",\\n    \\\"poet laureate\\\",\\n    \\\"poet and\\\",\\n    \\\"and poet\\\",\\n    \\\"poets\\\",\\n    \\\"poet\\\",\\n]\\nsports = []\\nsciences = []\\n\\nbusiness_farming = []\\nacademia_humanities = []\\nlaw_enf_military_operator = []\\nspiritual = []\\nsocial = []\\ncrime = []\\nevent_record_other = []\\nother_species = []\";\n",
       "                var nbb_formatted_code = \"# Creating lists for each category\\npolitics_govt_law = []\\n\\narts = [\\n    \\\"Pulitzer Prize winning poet and former poet laureate\\\",\\n    \\\"poet of the School\\\",\\n    \\\"poet and dramatist\\\",\\n    \\\"Nuyorican poet and playwright\\\",\\n    \\\"poet and memoirist\\\",\\n    \\\"poet and BBC producer\\\",\\n    \\\"Mi'kmaq poet\\\",\\n    \\\"poet and Pulitzer Prize winner\\\",\\n    \\\"poet and arts critic\\\",\\n    \\\"poet and radio host\\\",\\n    \\\"novelist and poetry promoter\\\",\\n    \\\"poet and diarist\\\",\\n    \\\"poet and broadcaster\\\",\\n    \\\"surrealist poet\\\",\\n    \\\"Chicano poet\\\",\\n    \\\"Martiniquan poet\\\",\\n    \\\"M\\u0101ori poet\\\",\\n    \\\"poet who wrote about the Dust Bowl\\\",\\n    \\\"vocalist and poet\\\",\\n    \\\"satirist and humorist poet of\\\",\\n    \\\"Movement poet\\\",\\n    \\\"avant garde poet and visual artist\\\",\\n    \\\"poet and literary book publisher\\\",\\n    \\\"poet of the Beat Generation\\\",\\n    \\\"Latino poet\\\",\\n    \\\"contemporary poet\\\",\\n    \\\"film maker and poet\\\",\\n    \\\"beat poet\\\",\\n    \\\"biographer and poet\\\",\\n    \\\"poet and jazz musician\\\",\\n    \\\"poet and architecture critic\\\",\\n    \\\"K'iche' Maya poet\\\",\\n    \\\"visual artist and poet\\\",\\n    \\\"poet and biographer\\\",\\n    \\\"jazz pianist and poet\\\",\\n    \\\"rhythm poet and musician\\\",\\n    \\\"dub poet\\\",\\n    \\\"percussionist and poet\\\",\\n    \\\"poet and jazz pianist\\\",\\n    \\\"poet and spoken word musician\\\",\\n    \\\"poet and sculptor\\\",\\n    \\\"experimental poet\\\",\\n    \\\"poet and radio broadcaster\\\",\\n    \\\"Marathi ghazal poet\\\",\\n    \\\"poet and co founder of interstitial lung disease\\\",\\n    \\\"avant garde composer and poet\\\",\\n    \\\"magazine publisher and poet\\\",\\n    \\\"literary critic and poet\\\",\\n    \\\"sculptor and poet\\\",\\n    \\\"poet and proofreader\\\",\\n    \\\"Odia poet\\\",\\n    \\\"folk musician and poet\\\",\\n    \\\"Ulster Scots poet\\\",\\n    \\\"vernacular poet\\\",\\n    \\\"Pashto poet\\\",\\n    \\\"poet and recording artist\\\",\\n    \\\"poet and disc jockey\\\",\\n    \\\"Kannada language poet\\\",\\n    \\\"and spoken word poet\\\",\\n    \\\"poet and film producer\\\",\\n    \\\"Nuyorican poet\\\",\\n    \\\"Kannada poet\\\",\\n    \\\"surrealist poet and art critic\\\",\\n    \\\"director and poet\\\",\\n    \\\"Kashubian poet\\\",\\n    \\\"poet and poetry\\\",\\n    \\\"art critic and poet\\\",\\n    \\\"poet and art critic\\\",\\n    \\\"jazz musician and poet\\\",\\n    \\\"Native poet\\\",\\n    \\\"poet and composer\\\",\\n    \\\"poet and cartoonist\\\",\\n    \\\"poet and filmmaker\\\",\\n    \\\"Pulitzer Prize winning poet\\\",\\n    \\\"photographer and poet\\\",\\n    \\\"poet and visual artist\\\",\\n    \\\"musician and poet\\\",\\n    \\\"poet and performance artist\\\",\\n    \\\"poet and musician\\\",\\n    \\\"lyricist and poet\\\",\\n    \\\"painter and poet\\\",\\n    \\\"poet and artist\\\",\\n    \\\"poet and publisher\\\",\\n    \\\"playwright and poet\\\",\\n    \\\"poet and painter\\\",\\n    \\\"poet and lyricist\\\",\\n    \\\"Urdu poet and\\\",\\n    \\\"Urdu poet\\\",\\n    \\\"poet and essayist\\\",\\n    \\\"artist and poet\\\",\\n    \\\"poet and critic\\\",\\n    \\\"poet and editor\\\",\\n    \\\"poet and literary critic\\\",\\n    \\\"novelist and poet\\\",\\n    \\\"poet and playwright\\\",\\n    \\\"poet and novelist\\\",\\n    \\\"Occitan language poet and\\\",\\n    \\\"language poet\\\",\\n    \\\"Arabian poet and\\\",\\n    \\\"poetess\\\",\\n    \\\"poet and literary\\\",\\n    \\\"Beat generation poet and\\\",\\n    \\\"Beat Generation poet\\\",\\n    \\\"Beat poet\\\",\\n    \\\"prize winning poet and\\\",\\n    \\\"n poet\\\",\\n    \\\"poet laureate\\\",\\n    \\\"poet and\\\",\\n    \\\"and poet\\\",\\n    \\\"poets\\\",\\n    \\\"poet\\\",\\n]\\nsports = []\\nsciences = []\\n\\nbusiness_farming = []\\nacademia_humanities = []\\nlaw_enf_military_operator = []\\nspiritual = []\\nsocial = []\\ncrime = []\\nevent_record_other = []\\nother_species = []\";\n",
       "                var nbb_cells = Jupyter.notebook.get_cells();\n",
       "                for (var i = 0; i < nbb_cells.length; ++i) {\n",
       "                    if (nbb_cells[i].input_prompt_number == nbb_cell_id) {\n",
       "                        if (nbb_cells[i].get_text() == nbb_unformatted_code) {\n",
       "                             nbb_cells[i].set_text(nbb_formatted_code);\n",
       "                        }\n",
       "                        break;\n",
       "                    }\n",
       "                }\n",
       "            }, 500);\n",
       "            "
      ],
      "text/plain": [
       "<IPython.core.display.Javascript object>"
      ]
     },
     "metadata": {},
     "output_type": "display_data"
    }
   ],
   "source": [
    "# Creating lists for each category\n",
    "politics_govt_law = []\n",
    "\n",
    "arts = [\n",
    "    \"Pulitzer Prize winning poet and former poet laureate\",\n",
    "    \"poet of the School\",\n",
    "    \"poet and dramatist\",\n",
    "    \"Nuyorican poet and playwright\",\n",
    "    \"poet and memoirist\",\n",
    "    \"poet and BBC producer\",\n",
    "    \"Mi'kmaq poet\",\n",
    "    \"poet and Pulitzer Prize winner\",\n",
    "    \"poet and arts critic\",\n",
    "    \"poet and radio host\",\n",
    "    \"novelist and poetry promoter\",\n",
    "    \"poet and diarist\",\n",
    "    \"poet and broadcaster\",\n",
    "    \"surrealist poet\",\n",
    "    \"Chicano poet\",\n",
    "    \"Martiniquan poet\",\n",
    "    \"Māori poet\",\n",
    "    \"poet who wrote about the Dust Bowl\",\n",
    "    \"vocalist and poet\",\n",
    "    \"satirist and humorist poet of\",\n",
    "    \"Movement poet\",\n",
    "    \"avant garde poet and visual artist\",\n",
    "    \"poet and literary book publisher\",\n",
    "    \"poet of the Beat Generation\",\n",
    "    \"Latino poet\",\n",
    "    \"contemporary poet\",\n",
    "    \"film maker and poet\",\n",
    "    \"beat poet\",\n",
    "    \"biographer and poet\",\n",
    "    \"poet and jazz musician\",\n",
    "    \"poet and architecture critic\",\n",
    "    \"K'iche' Maya poet\",\n",
    "    \"visual artist and poet\",\n",
    "    \"poet and biographer\",\n",
    "    \"jazz pianist and poet\",\n",
    "    \"rhythm poet and musician\",\n",
    "    \"dub poet\",\n",
    "    \"percussionist and poet\",\n",
    "    \"poet and jazz pianist\",\n",
    "    \"poet and spoken word musician\",\n",
    "    \"poet and sculptor\",\n",
    "    \"experimental poet\",\n",
    "    \"poet and radio broadcaster\",\n",
    "    \"Marathi ghazal poet\",\n",
    "    \"poet and co founder of interstitial lung disease\",\n",
    "    \"avant garde composer and poet\",\n",
    "    \"magazine publisher and poet\",\n",
    "    \"literary critic and poet\",\n",
    "    \"sculptor and poet\",\n",
    "    \"poet and proofreader\",\n",
    "    \"Odia poet\",\n",
    "    \"folk musician and poet\",\n",
    "    \"Ulster Scots poet\",\n",
    "    \"vernacular poet\",\n",
    "    \"Pashto poet\",\n",
    "    \"poet and recording artist\",\n",
    "    \"poet and disc jockey\",\n",
    "    \"Kannada language poet\",\n",
    "    \"and spoken word poet\",\n",
    "    \"poet and film producer\",\n",
    "    \"Nuyorican poet\",\n",
    "    \"Kannada poet\",\n",
    "    \"surrealist poet and art critic\",\n",
    "    \"director and poet\",\n",
    "    \"Kashubian poet\",\n",
    "    \"poet and poetry\",\n",
    "    \"art critic and poet\",\n",
    "    \"poet and art critic\",\n",
    "    \"jazz musician and poet\",\n",
    "    \"Native poet\",\n",
    "    \"poet and composer\",\n",
    "    \"poet and cartoonist\",\n",
    "    \"poet and filmmaker\",\n",
    "    \"Pulitzer Prize winning poet\",\n",
    "    \"photographer and poet\",\n",
    "    \"poet and visual artist\",\n",
    "    \"musician and poet\",\n",
    "    \"poet and performance artist\",\n",
    "    \"poet and musician\",\n",
    "    \"lyricist and poet\",\n",
    "    \"painter and poet\",\n",
    "    \"poet and artist\",\n",
    "    \"poet and publisher\",\n",
    "    \"playwright and poet\",\n",
    "    \"poet and painter\",\n",
    "    \"poet and lyricist\",\n",
    "    \"Urdu poet and\",\n",
    "    \"Urdu poet\",\n",
    "    \"poet and essayist\",\n",
    "    \"artist and poet\",\n",
    "    \"poet and critic\",\n",
    "    \"poet and editor\",\n",
    "    \"poet and literary critic\",\n",
    "    \"novelist and poet\",\n",
    "    \"poet and playwright\",\n",
    "    \"poet and novelist\",\n",
    "    \"Occitan language poet and\",\n",
    "    \"language poet\",\n",
    "    \"Arabian poet and\",\n",
    "    \"poetess\",\n",
    "    \"poet and literary\",\n",
    "    \"Beat generation poet and\",\n",
    "    \"Beat Generation poet\",\n",
    "    \"Beat poet\",\n",
    "    \"prize winning poet and\",\n",
    "    \"n poet\",\n",
    "    \"poet laureate\",\n",
    "    \"poet and\",\n",
    "    \"and poet\",\n",
    "    \"poets\",\n",
    "    \"poet\",\n",
    "]\n",
    "sports = []\n",
    "sciences = []\n",
    "\n",
    "business_farming = []\n",
    "academia_humanities = []\n",
    "law_enf_military_operator = []\n",
    "spiritual = []\n",
    "social = []\n",
    "crime = []\n",
    "event_record_other = []\n",
    "other_species = []"
   ]
  },
  {
   "cell_type": "code",
   "execution_count": 14,
   "id": "2787c2f3",
   "metadata": {},
   "outputs": [
    {
     "data": {
      "application/javascript": [
       "\n",
       "            setTimeout(function() {\n",
       "                var nbb_cell_id = 14;\n",
       "                var nbb_unformatted_code = \"# Hard-coding cause_of_death value found in info_2\\nindex = df[df[\\\"link\\\"] == \\\"https://en.wikipedia.org/wiki/Lawrence_Ferlinghetti\\\"].index\\ndf.loc[index, \\\"cause_of_death\\\"] = \\\"interstitial lung disease\\\"\";\n",
       "                var nbb_formatted_code = \"# Hard-coding cause_of_death value found in info_2\\nindex = df[df[\\\"link\\\"] == \\\"https://en.wikipedia.org/wiki/Lawrence_Ferlinghetti\\\"].index\\ndf.loc[index, \\\"cause_of_death\\\"] = \\\"interstitial lung disease\\\"\";\n",
       "                var nbb_cells = Jupyter.notebook.get_cells();\n",
       "                for (var i = 0; i < nbb_cells.length; ++i) {\n",
       "                    if (nbb_cells[i].input_prompt_number == nbb_cell_id) {\n",
       "                        if (nbb_cells[i].get_text() == nbb_unformatted_code) {\n",
       "                             nbb_cells[i].set_text(nbb_formatted_code);\n",
       "                        }\n",
       "                        break;\n",
       "                    }\n",
       "                }\n",
       "            }, 500);\n",
       "            "
      ],
      "text/plain": [
       "<IPython.core.display.Javascript object>"
      ]
     },
     "metadata": {},
     "output_type": "display_data"
    }
   ],
   "source": [
    "# Hard-coding cause_of_death value found in info_2\n",
    "index = df[df[\"link\"] == \"https://en.wikipedia.org/wiki/Lawrence_Ferlinghetti\"].index\n",
    "df.loc[index, \"cause_of_death\"] = \"interstitial lung disease\""
   ]
  },
  {
   "cell_type": "markdown",
   "id": "bf7c0e48",
   "metadata": {},
   "source": [
    "#### Creating `known_for_dict` Dictionary of Category Keys and Specific Role Lists of Values"
   ]
  },
  {
   "cell_type": "code",
   "execution_count": 15,
   "id": "dbe8fef7",
   "metadata": {},
   "outputs": [
    {
     "data": {
      "application/javascript": [
       "\n",
       "            setTimeout(function() {\n",
       "                var nbb_cell_id = 15;\n",
       "                var nbb_unformatted_code = \"# Combining separate lists into one dictionary\\nknown_for_dict = {\\n    \\\"social\\\": social,\\n    \\\"spiritual\\\": spiritual,\\n    \\\"academia_humanities\\\": academia_humanities,\\n    \\\"business_farming\\\": business_farming,\\n    \\\"sciences\\\": sciences,\\n    \\\"politics_govt_law\\\": politics_govt_law,\\n    \\\"law_enf_military_operator\\\": law_enf_military_operator,\\n    \\\"crime\\\": crime,\\n    \\\"event_record_other\\\": event_record_other,\\n    \\\"other_species\\\": other_species,\\n    \\\"arts\\\": arts,\\n    \\\"sports\\\": sports,\\n}\";\n",
       "                var nbb_formatted_code = \"# Combining separate lists into one dictionary\\nknown_for_dict = {\\n    \\\"social\\\": social,\\n    \\\"spiritual\\\": spiritual,\\n    \\\"academia_humanities\\\": academia_humanities,\\n    \\\"business_farming\\\": business_farming,\\n    \\\"sciences\\\": sciences,\\n    \\\"politics_govt_law\\\": politics_govt_law,\\n    \\\"law_enf_military_operator\\\": law_enf_military_operator,\\n    \\\"crime\\\": crime,\\n    \\\"event_record_other\\\": event_record_other,\\n    \\\"other_species\\\": other_species,\\n    \\\"arts\\\": arts,\\n    \\\"sports\\\": sports,\\n}\";\n",
       "                var nbb_cells = Jupyter.notebook.get_cells();\n",
       "                for (var i = 0; i < nbb_cells.length; ++i) {\n",
       "                    if (nbb_cells[i].input_prompt_number == nbb_cell_id) {\n",
       "                        if (nbb_cells[i].get_text() == nbb_unformatted_code) {\n",
       "                             nbb_cells[i].set_text(nbb_formatted_code);\n",
       "                        }\n",
       "                        break;\n",
       "                    }\n",
       "                }\n",
       "            }, 500);\n",
       "            "
      ],
      "text/plain": [
       "<IPython.core.display.Javascript object>"
      ]
     },
     "metadata": {},
     "output_type": "display_data"
    }
   ],
   "source": [
    "# Combining separate lists into one dictionary\n",
    "known_for_dict = {\n",
    "    \"social\": social,\n",
    "    \"spiritual\": spiritual,\n",
    "    \"academia_humanities\": academia_humanities,\n",
    "    \"business_farming\": business_farming,\n",
    "    \"sciences\": sciences,\n",
    "    \"politics_govt_law\": politics_govt_law,\n",
    "    \"law_enf_military_operator\": law_enf_military_operator,\n",
    "    \"crime\": crime,\n",
    "    \"event_record_other\": event_record_other,\n",
    "    \"other_species\": other_species,\n",
    "    \"arts\": arts,\n",
    "    \"sports\": sports,\n",
    "}"
   ]
  },
  {
   "cell_type": "markdown",
   "id": "bc23693a",
   "metadata": {},
   "source": [
    "#### Extracting Category from `info_2`"
   ]
  },
  {
   "cell_type": "code",
   "execution_count": 16,
   "id": "e6314036",
   "metadata": {},
   "outputs": [
    {
     "name": "stdout",
     "output_type": "stream",
     "text": [
      "CPU times: total: 57.4 s\n",
      "Wall time: 57.4 s\n"
     ]
    },
    {
     "data": {
      "text/html": [
       "<div>\n",
       "<style scoped>\n",
       "    .dataframe tbody tr th:only-of-type {\n",
       "        vertical-align: middle;\n",
       "    }\n",
       "\n",
       "    .dataframe tbody tr th {\n",
       "        vertical-align: top;\n",
       "    }\n",
       "\n",
       "    .dataframe thead th {\n",
       "        text-align: right;\n",
       "    }\n",
       "</style>\n",
       "<table border=\"1\" class=\"dataframe\">\n",
       "  <thead>\n",
       "    <tr style=\"text-align: right;\">\n",
       "      <th></th>\n",
       "      <th>day</th>\n",
       "      <th>name</th>\n",
       "      <th>info</th>\n",
       "      <th>link</th>\n",
       "      <th>num_references</th>\n",
       "      <th>year</th>\n",
       "      <th>month</th>\n",
       "      <th>info_parenth</th>\n",
       "      <th>info_1</th>\n",
       "      <th>info_2</th>\n",
       "      <th>info_3</th>\n",
       "      <th>info_4</th>\n",
       "      <th>info_5</th>\n",
       "      <th>info_6</th>\n",
       "      <th>info_7</th>\n",
       "      <th>info_8</th>\n",
       "      <th>info_9</th>\n",
       "      <th>info_10</th>\n",
       "      <th>info_11</th>\n",
       "      <th>age</th>\n",
       "      <th>cause_of_death</th>\n",
       "      <th>place_1</th>\n",
       "      <th>place_2</th>\n",
       "      <th>info_parenth_copy</th>\n",
       "      <th>log_num_references</th>\n",
       "      <th>sciences</th>\n",
       "      <th>social</th>\n",
       "      <th>spiritual</th>\n",
       "      <th>academia_humanities</th>\n",
       "      <th>business_farming</th>\n",
       "      <th>arts</th>\n",
       "      <th>sports</th>\n",
       "      <th>law_enf_military_operator</th>\n",
       "      <th>politics_govt_law</th>\n",
       "      <th>crime</th>\n",
       "      <th>event_record_other</th>\n",
       "      <th>other_species</th>\n",
       "      <th>num_categories</th>\n",
       "    </tr>\n",
       "  </thead>\n",
       "  <tbody>\n",
       "    <tr>\n",
       "      <th>62046</th>\n",
       "      <td>4</td>\n",
       "      <td>Georgy Taratorkin</td>\n",
       "      <td>, 72, Russian stage and film actor.</td>\n",
       "      <td>https://en.wikipedia.org/wiki/Georgy_Taratorkin</td>\n",
       "      <td>5</td>\n",
       "      <td>2017</td>\n",
       "      <td>February</td>\n",
       "      <td>None</td>\n",
       "      <td>None</td>\n",
       "      <td></td>\n",
       "      <td>None</td>\n",
       "      <td>None</td>\n",
       "      <td>None</td>\n",
       "      <td>None</td>\n",
       "      <td>None</td>\n",
       "      <td>None</td>\n",
       "      <td>None</td>\n",
       "      <td>None</td>\n",
       "      <td>None</td>\n",
       "      <td>72.0</td>\n",
       "      <td>None</td>\n",
       "      <td>Russia</td>\n",
       "      <td>None</td>\n",
       "      <td>None</td>\n",
       "      <td>1.791759</td>\n",
       "      <td>0</td>\n",
       "      <td>0</td>\n",
       "      <td>0</td>\n",
       "      <td>0</td>\n",
       "      <td>0</td>\n",
       "      <td>1</td>\n",
       "      <td>0</td>\n",
       "      <td>0</td>\n",
       "      <td>0</td>\n",
       "      <td>0</td>\n",
       "      <td>0</td>\n",
       "      <td>0</td>\n",
       "      <td>1</td>\n",
       "    </tr>\n",
       "    <tr>\n",
       "      <th>13989</th>\n",
       "      <td>20</td>\n",
       "      <td>Joan Wheeler</td>\n",
       "      <td>, 88, American actress.</td>\n",
       "      <td>https://en.wikipedia.org/wiki/Joan_Wheeler</td>\n",
       "      <td>9</td>\n",
       "      <td>2001</td>\n",
       "      <td>December</td>\n",
       "      <td>None</td>\n",
       "      <td>None</td>\n",
       "      <td></td>\n",
       "      <td>None</td>\n",
       "      <td>None</td>\n",
       "      <td>None</td>\n",
       "      <td>None</td>\n",
       "      <td>None</td>\n",
       "      <td>None</td>\n",
       "      <td>None</td>\n",
       "      <td>None</td>\n",
       "      <td>None</td>\n",
       "      <td>88.0</td>\n",
       "      <td>None</td>\n",
       "      <td>United States of America</td>\n",
       "      <td>None</td>\n",
       "      <td>None</td>\n",
       "      <td>2.302585</td>\n",
       "      <td>0</td>\n",
       "      <td>0</td>\n",
       "      <td>0</td>\n",
       "      <td>0</td>\n",
       "      <td>0</td>\n",
       "      <td>1</td>\n",
       "      <td>0</td>\n",
       "      <td>0</td>\n",
       "      <td>0</td>\n",
       "      <td>0</td>\n",
       "      <td>0</td>\n",
       "      <td>0</td>\n",
       "      <td>1</td>\n",
       "    </tr>\n",
       "  </tbody>\n",
       "</table>\n",
       "</div>"
      ],
      "text/plain": [
       "      day               name                                 info  \\\n",
       "62046   4  Georgy Taratorkin  , 72, Russian stage and film actor.   \n",
       "13989  20       Joan Wheeler              , 88, American actress.   \n",
       "\n",
       "                                                  link  num_references  year  \\\n",
       "62046  https://en.wikipedia.org/wiki/Georgy_Taratorkin               5  2017   \n",
       "13989       https://en.wikipedia.org/wiki/Joan_Wheeler               9  2001   \n",
       "\n",
       "          month info_parenth info_1 info_2 info_3 info_4 info_5 info_6 info_7  \\\n",
       "62046  February         None   None          None   None   None   None   None   \n",
       "13989  December         None   None          None   None   None   None   None   \n",
       "\n",
       "      info_8 info_9 info_10 info_11   age cause_of_death  \\\n",
       "62046   None   None    None    None  72.0           None   \n",
       "13989   None   None    None    None  88.0           None   \n",
       "\n",
       "                        place_1 place_2 info_parenth_copy  log_num_references  \\\n",
       "62046                    Russia    None              None            1.791759   \n",
       "13989  United States of America    None              None            2.302585   \n",
       "\n",
       "       sciences  social  spiritual  academia_humanities  business_farming  \\\n",
       "62046         0       0          0                    0                 0   \n",
       "13989         0       0          0                    0                 0   \n",
       "\n",
       "       arts  sports  law_enf_military_operator  politics_govt_law  crime  \\\n",
       "62046     1       0                          0                  0      0   \n",
       "13989     1       0                          0                  0      0   \n",
       "\n",
       "       event_record_other  other_species  num_categories  \n",
       "62046                   0              0               1  \n",
       "13989                   0              0               1  "
      ]
     },
     "execution_count": 16,
     "metadata": {},
     "output_type": "execute_result"
    },
    {
     "data": {
      "application/javascript": [
       "\n",
       "            setTimeout(function() {\n",
       "                var nbb_cell_id = 16;\n",
       "                var nbb_unformatted_code = \"%%time\\n\\n# Dictionary version\\nsearch_dict = known_for_dict\\n\\n# Column to check\\ncolumn = 'info_2'\\n\\n# Dataframe\\ndataframe = df[column].notna()\\n\\n# For loop to find role in column and extract it as category\\nfor category, category_lst in search_dict.items():\\n    for role in category_lst:\\n        for index in dataframe.index:\\n            item = df.loc[index, column]\\n            if item:\\n                if role in item:\\n                    df.loc[index, category] = 1\\n                    df.loc[index, column] = item.replace(role, '').strip()\\n\\n                    \\n# Updating num_categories\\ndf[\\\"num_categories\\\"] = df[known_for_dict.keys()].sum(axis=1)\\n\\n# Checking a sample of rows\\ndf[df['arts'] ==1].sample(2)\";\n",
       "                var nbb_formatted_code = \"%%time\\n\\n# Dictionary version\\nsearch_dict = known_for_dict\\n\\n# Column to check\\ncolumn = 'info_2'\\n\\n# Dataframe\\ndataframe = df[column].notna()\\n\\n# For loop to find role in column and extract it as category\\nfor category, category_lst in search_dict.items():\\n    for role in category_lst:\\n        for index in dataframe.index:\\n            item = df.loc[index, column]\\n            if item:\\n                if role in item:\\n                    df.loc[index, category] = 1\\n                    df.loc[index, column] = item.replace(role, '').strip()\\n\\n                    \\n# Updating num_categories\\ndf[\\\"num_categories\\\"] = df[known_for_dict.keys()].sum(axis=1)\\n\\n# Checking a sample of rows\\ndf[df['arts'] ==1].sample(2)\";\n",
       "                var nbb_cells = Jupyter.notebook.get_cells();\n",
       "                for (var i = 0; i < nbb_cells.length; ++i) {\n",
       "                    if (nbb_cells[i].input_prompt_number == nbb_cell_id) {\n",
       "                        if (nbb_cells[i].get_text() == nbb_unformatted_code) {\n",
       "                             nbb_cells[i].set_text(nbb_formatted_code);\n",
       "                        }\n",
       "                        break;\n",
       "                    }\n",
       "                }\n",
       "            }, 500);\n",
       "            "
      ],
      "text/plain": [
       "<IPython.core.display.Javascript object>"
      ]
     },
     "metadata": {},
     "output_type": "display_data"
    }
   ],
   "source": [
    "%%time\n",
    "\n",
    "# Dictionary version\n",
    "search_dict = known_for_dict\n",
    "\n",
    "# Column to check\n",
    "column = 'info_2'\n",
    "\n",
    "# Dataframe\n",
    "dataframe = df[column].notna()\n",
    "\n",
    "# For loop to find role in column and extract it as category\n",
    "for category, category_lst in search_dict.items():\n",
    "    for role in category_lst:\n",
    "        for index in dataframe.index:\n",
    "            item = df.loc[index, column]\n",
    "            if item:\n",
    "                if role in item:\n",
    "                    df.loc[index, category] = 1\n",
    "                    df.loc[index, column] = item.replace(role, '').strip()\n",
    "\n",
    "                    \n",
    "# Updating num_categories\n",
    "df[\"num_categories\"] = df[known_for_dict.keys()].sum(axis=1)\n",
    "\n",
    "# Checking a sample of rows\n",
    "df[df['arts'] ==1].sample(2)"
   ]
  },
  {
   "cell_type": "markdown",
   "id": "0b2d3969",
   "metadata": {},
   "source": [
    "#### Checking the Number of Rows without a First Category"
   ]
  },
  {
   "cell_type": "code",
   "execution_count": 17,
   "id": "699ef1ac",
   "metadata": {},
   "outputs": [
    {
     "name": "stdout",
     "output_type": "stream",
     "text": [
      "There are 53857 entries without any known_for category.\n"
     ]
    },
    {
     "data": {
      "application/javascript": [
       "\n",
       "            setTimeout(function() {\n",
       "                var nbb_cell_id = 17;\n",
       "                var nbb_unformatted_code = \"#### Checking the number of rows without a first category\\nprint(\\n    f'There are {len(df[df[\\\"num_categories\\\"]==0])} entries without any known_for category.'\\n)\";\n",
       "                var nbb_formatted_code = \"#### Checking the number of rows without a first category\\nprint(\\n    f'There are {len(df[df[\\\"num_categories\\\"]==0])} entries without any known_for category.'\\n)\";\n",
       "                var nbb_cells = Jupyter.notebook.get_cells();\n",
       "                for (var i = 0; i < nbb_cells.length; ++i) {\n",
       "                    if (nbb_cells[i].input_prompt_number == nbb_cell_id) {\n",
       "                        if (nbb_cells[i].get_text() == nbb_unformatted_code) {\n",
       "                             nbb_cells[i].set_text(nbb_formatted_code);\n",
       "                        }\n",
       "                        break;\n",
       "                    }\n",
       "                }\n",
       "            }, 500);\n",
       "            "
      ],
      "text/plain": [
       "<IPython.core.display.Javascript object>"
      ]
     },
     "metadata": {},
     "output_type": "display_data"
    }
   ],
   "source": [
    "#### Checking the number of rows without a first category\n",
    "print(\n",
    "    f'There are {len(df[df[\"num_categories\"]==0])} entries without any known_for category.'\n",
    ")"
   ]
  },
  {
   "cell_type": "markdown",
   "id": "bc523bb1",
   "metadata": {},
   "source": [
    "#### Observations:\n",
    "- We will proceed to rebuild `known_for_dict` for the next iteration."
   ]
  },
  {
   "cell_type": "markdown",
   "id": "7fbc5408",
   "metadata": {},
   "source": [
    "#### Finding `known_for` Roles in `info_2`"
   ]
  },
  {
   "cell_type": "code",
   "execution_count": 18,
   "id": "da437dda",
   "metadata": {},
   "outputs": [
    {
     "data": {
      "application/javascript": [
       "\n",
       "            setTimeout(function() {\n",
       "                var nbb_cell_id = 18;\n",
       "                var nbb_unformatted_code = \"# Obtaining values for column and their counts\\nroles_list = df[\\\"info_2\\\"].value_counts(ascending=True).index.tolist()\";\n",
       "                var nbb_formatted_code = \"# Obtaining values for column and their counts\\nroles_list = df[\\\"info_2\\\"].value_counts(ascending=True).index.tolist()\";\n",
       "                var nbb_cells = Jupyter.notebook.get_cells();\n",
       "                for (var i = 0; i < nbb_cells.length; ++i) {\n",
       "                    if (nbb_cells[i].input_prompt_number == nbb_cell_id) {\n",
       "                        if (nbb_cells[i].get_text() == nbb_unformatted_code) {\n",
       "                             nbb_cells[i].set_text(nbb_formatted_code);\n",
       "                        }\n",
       "                        break;\n",
       "                    }\n",
       "                }\n",
       "            }, 500);\n",
       "            "
      ],
      "text/plain": [
       "<IPython.core.display.Javascript object>"
      ]
     },
     "metadata": {},
     "output_type": "display_data"
    }
   ],
   "source": [
    "# Obtaining values for column and their counts\n",
    "roles_list = df[\"info_2\"].value_counts(ascending=True).index.tolist()"
   ]
  },
  {
   "cell_type": "code",
   "execution_count": 19,
   "id": "a16fb6f8",
   "metadata": {},
   "outputs": [
    {
     "data": {
      "application/javascript": [
       "\n",
       "            setTimeout(function() {\n",
       "                var nbb_cell_id = 19;\n",
       "                var nbb_unformatted_code = \"# # Code to check each value\\n# roles_list.pop()\";\n",
       "                var nbb_formatted_code = \"# # Code to check each value\\n# roles_list.pop()\";\n",
       "                var nbb_cells = Jupyter.notebook.get_cells();\n",
       "                for (var i = 0; i < nbb_cells.length; ++i) {\n",
       "                    if (nbb_cells[i].input_prompt_number == nbb_cell_id) {\n",
       "                        if (nbb_cells[i].get_text() == nbb_unformatted_code) {\n",
       "                             nbb_cells[i].set_text(nbb_formatted_code);\n",
       "                        }\n",
       "                        break;\n",
       "                    }\n",
       "                }\n",
       "            }, 500);\n",
       "            "
      ],
      "text/plain": [
       "<IPython.core.display.Javascript object>"
      ]
     },
     "metadata": {},
     "output_type": "display_data"
    }
   ],
   "source": [
    "# # Code to check each value\n",
    "# roles_list.pop()"
   ]
  },
  {
   "cell_type": "code",
   "execution_count": 20,
   "id": "819cc693",
   "metadata": {},
   "outputs": [
    {
     "data": {
      "application/javascript": [
       "\n",
       "            setTimeout(function() {\n",
       "                var nbb_cell_id = 20;\n",
       "                var nbb_unformatted_code = \"# # Create specific_roles_list for above popped value\\n# specific_roles_list = (\\n#     df.loc[\\n#         [index for index in df.index if \\\"artist\\\" in df.loc[index, \\\"info\\\"]], \\\"info_2\\\",\\n#     ]\\n#     .value_counts()\\n#     .index.tolist()\\n# )\";\n",
       "                var nbb_formatted_code = \"# # Create specific_roles_list for above popped value\\n# specific_roles_list = (\\n#     df.loc[\\n#         [index for index in df.index if \\\"artist\\\" in df.loc[index, \\\"info\\\"]], \\\"info_2\\\",\\n#     ]\\n#     .value_counts()\\n#     .index.tolist()\\n# )\";\n",
       "                var nbb_cells = Jupyter.notebook.get_cells();\n",
       "                for (var i = 0; i < nbb_cells.length; ++i) {\n",
       "                    if (nbb_cells[i].input_prompt_number == nbb_cell_id) {\n",
       "                        if (nbb_cells[i].get_text() == nbb_unformatted_code) {\n",
       "                             nbb_cells[i].set_text(nbb_formatted_code);\n",
       "                        }\n",
       "                        break;\n",
       "                    }\n",
       "                }\n",
       "            }, 500);\n",
       "            "
      ],
      "text/plain": [
       "<IPython.core.display.Javascript object>"
      ]
     },
     "metadata": {},
     "output_type": "display_data"
    }
   ],
   "source": [
    "# # Create specific_roles_list for above popped value\n",
    "# specific_roles_list = (\n",
    "#     df.loc[\n",
    "#         [index for index in df.index if \"artist\" in df.loc[index, \"info\"]], \"info_2\",\n",
    "#     ]\n",
    "#     .value_counts()\n",
    "#     .index.tolist()\n",
    "# )"
   ]
  },
  {
   "cell_type": "code",
   "execution_count": 21,
   "id": "39c2df81",
   "metadata": {},
   "outputs": [
    {
     "data": {
      "application/javascript": [
       "\n",
       "            setTimeout(function() {\n",
       "                var nbb_cell_id = 21;\n",
       "                var nbb_unformatted_code = \"# # Code to check each specific value\\n# specific_roles_list.pop()\";\n",
       "                var nbb_formatted_code = \"# # Code to check each specific value\\n# specific_roles_list.pop()\";\n",
       "                var nbb_cells = Jupyter.notebook.get_cells();\n",
       "                for (var i = 0; i < nbb_cells.length; ++i) {\n",
       "                    if (nbb_cells[i].input_prompt_number == nbb_cell_id) {\n",
       "                        if (nbb_cells[i].get_text() == nbb_unformatted_code) {\n",
       "                             nbb_cells[i].set_text(nbb_formatted_code);\n",
       "                        }\n",
       "                        break;\n",
       "                    }\n",
       "                }\n",
       "            }, 500);\n",
       "            "
      ],
      "text/plain": [
       "<IPython.core.display.Javascript object>"
      ]
     },
     "metadata": {},
     "output_type": "display_data"
    }
   ],
   "source": [
    "# # Code to check each specific value\n",
    "# specific_roles_list.pop()"
   ]
  },
  {
   "cell_type": "code",
   "execution_count": 22,
   "id": "23244d9a",
   "metadata": {},
   "outputs": [
    {
     "data": {
      "application/javascript": [
       "\n",
       "            setTimeout(function() {\n",
       "                var nbb_cell_id = 22;\n",
       "                var nbb_unformatted_code = \"# # Example code to quick-screen values that may overlap categories\\n# df.loc[[index for index in df.index if \\\"artist and art\\\" in df.loc[index, \\\"info\\\"]]]\";\n",
       "                var nbb_formatted_code = \"# # Example code to quick-screen values that may overlap categories\\n# df.loc[[index for index in df.index if \\\"artist and art\\\" in df.loc[index, \\\"info\\\"]]]\";\n",
       "                var nbb_cells = Jupyter.notebook.get_cells();\n",
       "                for (var i = 0; i < nbb_cells.length; ++i) {\n",
       "                    if (nbb_cells[i].input_prompt_number == nbb_cell_id) {\n",
       "                        if (nbb_cells[i].get_text() == nbb_unformatted_code) {\n",
       "                             nbb_cells[i].set_text(nbb_formatted_code);\n",
       "                        }\n",
       "                        break;\n",
       "                    }\n",
       "                }\n",
       "            }, 500);\n",
       "            "
      ],
      "text/plain": [
       "<IPython.core.display.Javascript object>"
      ]
     },
     "metadata": {},
     "output_type": "display_data"
    }
   ],
   "source": [
    "# # Example code to quick-screen values that may overlap categories\n",
    "# df.loc[[index for index in df.index if \"artist and art\" in df.loc[index, \"info\"]]]"
   ]
  },
  {
   "cell_type": "code",
   "execution_count": 23,
   "id": "65a88087",
   "metadata": {},
   "outputs": [
    {
     "data": {
      "application/javascript": [
       "\n",
       "            setTimeout(function() {\n",
       "                var nbb_cell_id = 23;\n",
       "                var nbb_unformatted_code = \"# # Example code to quick-screen values that may overlap categories\\n# df.loc[\\n#     [\\n#         index\\n#         for index in df.index\\n#         if \\\"outlaw country music singer songwriter\\\" in df.loc[index, \\\"info\\\"]\\n#     ]\\n# ]\";\n",
       "                var nbb_formatted_code = \"# # Example code to quick-screen values that may overlap categories\\n# df.loc[\\n#     [\\n#         index\\n#         for index in df.index\\n#         if \\\"outlaw country music singer songwriter\\\" in df.loc[index, \\\"info\\\"]\\n#     ]\\n# ]\";\n",
       "                var nbb_cells = Jupyter.notebook.get_cells();\n",
       "                for (var i = 0; i < nbb_cells.length; ++i) {\n",
       "                    if (nbb_cells[i].input_prompt_number == nbb_cell_id) {\n",
       "                        if (nbb_cells[i].get_text() == nbb_unformatted_code) {\n",
       "                             nbb_cells[i].set_text(nbb_formatted_code);\n",
       "                        }\n",
       "                        break;\n",
       "                    }\n",
       "                }\n",
       "            }, 500);\n",
       "            "
      ],
      "text/plain": [
       "<IPython.core.display.Javascript object>"
      ]
     },
     "metadata": {},
     "output_type": "display_data"
    }
   ],
   "source": [
    "# # Example code to quick-screen values that may overlap categories\n",
    "# df.loc[\n",
    "#     [\n",
    "#         index\n",
    "#         for index in df.index\n",
    "#         if \"outlaw country music singer songwriter\" in df.loc[index, \"info\"]\n",
    "#     ]\n",
    "# ]"
   ]
  },
  {
   "cell_type": "code",
   "execution_count": 24,
   "id": "b1a84e4a",
   "metadata": {},
   "outputs": [
    {
     "data": {
      "application/javascript": [
       "\n",
       "            setTimeout(function() {\n",
       "                var nbb_cell_id = 24;\n",
       "                var nbb_unformatted_code = \"# # Example code to quick-check a specific entry\\n# df[df[\\\"info_2\\\"] == \\\"n artist\\\"]\";\n",
       "                var nbb_formatted_code = \"# # Example code to quick-check a specific entry\\n# df[df[\\\"info_2\\\"] == \\\"n artist\\\"]\";\n",
       "                var nbb_cells = Jupyter.notebook.get_cells();\n",
       "                for (var i = 0; i < nbb_cells.length; ++i) {\n",
       "                    if (nbb_cells[i].input_prompt_number == nbb_cell_id) {\n",
       "                        if (nbb_cells[i].get_text() == nbb_unformatted_code) {\n",
       "                             nbb_cells[i].set_text(nbb_formatted_code);\n",
       "                        }\n",
       "                        break;\n",
       "                    }\n",
       "                }\n",
       "            }, 500);\n",
       "            "
      ],
      "text/plain": [
       "<IPython.core.display.Javascript object>"
      ]
     },
     "metadata": {},
     "output_type": "display_data"
    }
   ],
   "source": [
    "# # Example code to quick-check a specific entry\n",
    "# df[df[\"info_2\"] == \"n artist\"]"
   ]
  },
  {
   "cell_type": "markdown",
   "id": "45587f65",
   "metadata": {},
   "source": [
    "#### Creating Lists for Each `known_for` Category"
   ]
  },
  {
   "cell_type": "code",
   "execution_count": 25,
   "id": "c9979452",
   "metadata": {},
   "outputs": [
    {
     "data": {
      "application/javascript": [
       "\n",
       "            setTimeout(function() {\n",
       "                var nbb_cell_id = 25;\n",
       "                var nbb_unformatted_code = \"# Creating lists for each category\\npolitics_govt_law = []\\n\\narts = [\\n    \\\"based graffiti artist whose works were included in the Venice Biennale\\\",\\n    \\\"game artist\\\",\\n    \\\"Oscar winning make up artist\\\",\\n    \\\"choreographer appointed as Sydney Dance Company artistic director\\\",\\n    \\\"based pop artist\\\",\\n    \\\"artist and wife of Joaqu\\u00edn Torres Garc\\u00eda\\\",\\n    \\\"botanical artist\\\",\\n    \\\"television make up artist\\\",\\n    \\\"movie poster artist\\\",\\n    \\\"courtroom artist\\\",\\n    \\\"artist and engraver\\\",\\n    \\\"graphic designer and psychedelic artist\\\",\\n    \\\"special effects and make up artist\\\",\\n    \\\"comic book artist and publisher\\\",\\n    \\\"artist and theatre designer\\\",\\n    \\\"pop artist and director\\\",\\n    \\\"artistic draughtsman\\\",\\n    \\\"artist known for his role in the Conceptualism and Minimalism movements\\\",\\n    \\\"aboriginal artist\\\",\\n    \\\"native artist\\\",\\n    \\\"musician and artist\\\",\\n    \\\"ballet dancer and artistic director of Ballet\\\",\\n    \\\"master potter and artist\\\",\\n    \\\"drag queen music artist\\\",\\n    \\\"internationally recognized graphic artist\\\",\\n    \\\"fantasy and science fiction artist and illustrator\\\",\\n    \\\"internationally exhibited Navajo artist\\\",\\n    \\\"comic book artist and co founder of\\\",\\n    \\\"artist who was a member of the Regina Five\\\",\\n    \\\"animator and layout artist\\\",\\n    \\\"colorist and cover production artist for DC Comics\\\",\\n    \\\"special effects artist and pedal steel guitarist\\\",\\n    \\\"comic book colourist and artist\\\",\\n    \\\"based architect and artist\\\",\\n    \\\"installation artist and assemblage sculptor\\\",\\n    \\\"artist and television presenter\\\",\\n    \\\"movie artist and illustrator\\\",\\n    \\\"artist and watercolourist\\\",\\n    \\\"na\\u00efve artist\\\",\\n    \\\"transgender artist\\\",\\n    \\\"special effects artist and producer\\\",\\n    \\\"artist and musical performer\\\",\\n    \\\"and butter sculpture artist\\\",\\n    \\\"artist and print maker\\\",\\n    \\\"pop artist and sculptor\\\",\\n    \\\"experimental music artist\\\",\\n    \\\"blues musician and artist\\\",\\n    \\\"comic book artist and reputed creator of\\\",\\n    \\\"artist and composer\\\",\\n    \\\"ceramic artist and designer\\\",\\n    \\\"video game concept artist\\\",\\n    \\\"artist and reporter\\\",\\n    \\\"performance artist and playwright\\\",\\n    \\\"artist and muralist\\\",\\n    \\\"animation artist and character designer\\\",\\n    \\\"blues artist\\\",\\n    \\\"Academy Award winning visual effects artist\\\",\\n    \\\"vocalist and bassist and solo artist\\\",\\n    \\\"artist of origin\\\",\\n    \\\"neo mannerist artist\\\",\\n    \\\"shadow play artist\\\",\\n    \\\"sculptor and conceptual artist\\\",\\n    \\\"film make up artist\\\",\\n    \\\"tapestry and textile artist\\\",\\n    \\\"Golden Age comic book artist\\\",\\n    \\\"rock musician and artist\\\",\\n    \\\"strip artist\\\",\\n    \\\"wood carving artist\\\",\\n    \\\"plastic artist and illustrator\\\",\\n    \\\"artist and banknote designer\\\",\\n    \\\"textile artist and printmaker\\\",\\n    \\\"fantasy and science fiction artist\\\",\\n    \\\"figurative expressionist artist\\\",\\n    \\\"hip hop musician and graffiti artist\\\",\\n    \\\"Navajo artist\\\",\\n    \\\"wet folding origami artist\\\",\\n    \\\"Route artist\\\",\\n    \\\"animator and comic book artist\\\",\\n    \\\"R&B artist\\\",\\n    \\\"mural artist\\\",\\n    \\\"makeup artist and tenor\\\",\\n    \\\"artist and lecturer\\\",\\n    \\\"artist and ceramicist\\\",\\n    \\\"experimental visual artist\\\",\\n    \\\"vocalist and session artist\\\",\\n    \\\"artists' model and memoirist\\\",\\n    \\\"comic book and comic strip artist\\\",\\n    \\\"comic strip artist and editor\\\",\\n    \\\"Native artist and potter\\\",\\n    \\\"West Coast artist\\\",\\n    \\\"artist and comic book creator\\\",\\n    \\\"graphic artist and sculptor\\\",\\n    \\\"painter and visual artist\\\",\\n    \\\"New Realist artist\\\",\\n    \\\"motion picture matte artist\\\",\\n    \\\"artist and novelist\\\",\\n    \\\"abstract and representational artist\\\",\\n    \\\"broadcaster and comic book artist\\\",\\n    \\\"neo conceptual artist\\\",\\n    \\\"painter and pioneering manhua artist\\\",\\n    \\\"hillbilly and bluegrass artist\\\",\\n    \\\"artist and member of the Fluxus movement\\\",\\n    \\\"artist and member of the Ultra Lettrist movement\\\",\\n    \\\"graphic artist and printmaker\\\",\\n    \\\"musician and recording artist\\\",\\n    \\\"textile artist who specialized in embroidery\\\",\\n    \\\"ink artist and wife of Walt Disney\\\",\\n    \\\"artist and art collector\\\",\\n    \\\"n artist from Utopia\\\",\\n    \\\"Chicano artist\\\",\\n    \\\"artist of origins\\\",\\n    \\\"artist and doll maker\\\",\\n    \\\"conceptual and performance artist\\\",\\n    \\\"studio potter and ceramic artist\\\",\\n    \\\"tenor and artist\\\",\\n    \\\"country music artist\\\",\\n    \\\"visual artist known for her still lives and landscapes\\\",\\n    \\\"film and video artist\\\",\\n    \\\"artist and watercolor master\\\",\\n    \\\"painter and comics artist\\\",\\n    \\\"vocalist and recording artist\\\",\\n    \\\"comic book artist born\\\",\\n    \\\"science fiction and fantasy artist\\\",\\n    \\\"novelist and artist\\\",\\n    \\\"conductor and recording artist\\\",\\n    \\\"botanical artist and art critic\\\",\\n    \\\"carving artist\\\",\\n    \\\"visual artist and conceptual sculptor\\\",\\n    \\\"contemperary artist\\\",\\n    'sculptor and \\\"one of the nation most accomplished medallic artists\\\"',\\n    \\\"cartoonist and comic artist\\\",\\n    \\\"rock artist\\\",\\n    \\\"psychedelic artist\\\",\\n    \\\"animation and comic book artist\\\",\\n    \\\"textile artist and embroiderer\\\",\\n    \\\"artist and experimental photographer\\\",\\n    \\\"cartoonist and comic book artist\\\",\\n    \\\"potter and ceramic artist\\\",\\n    \\\"artist anddesigner\\\",\\n    \\\"born artist\\\",\\n    \\\"sculptor and stained glass artist\\\",\\n    \\\"equine artist\\\",\\n    \\\"typographer and graphic artist\\\",\\n    \\\"visual artist and jewelry and fashion designer\\\",\\n    \\\"visual artist and prot\\u00e9g\\u00e9 of Salvador Dal\\u00ed\\\",\\n    \\\"reggae artist\\\",\\n    \\\"artist and Army art correspondent\\\",\\n    \\\"film special effects artist\\\",\\n    \\\"vocalist and artist\\\",\\n    \\\"experimental filmmaker and artist\\\",\\n    \\\"fine artist and art editor\\\",\\n    \\\"comic book artist and book illustrator\\\",\\n    \\\"Les Automatistes artist and a member of\\\",\\n    \\\"comic book artist and co creator of Jonah Hex and Black Orchid\\\",\\n    \\\"Papunya Tula artist\\\",\\n    \\\"graphic artist and postage stamp designer\\\",\\n    \\\"artist and metalsmith\\\",\\n    \\\"manhua artist\\\",\\n    \\\"illustrator and storyboard artist\\\",\\n    \\\"Western artist\\\",\\n    \\\"artist and architectural designer\\\",\\n    \\\"graphic artist and banknote designer\\\",\\n    \\\"artist in wood\\\",\\n    \\\"Yakshagana artist\\\",\\n    \\\"trapeze artist\\\",\\n    \\\"newspaper artist and cartoonist\\\",\\n    \\\"artist and puppeteer\\\",\\n    \\\"ceramic artist and sculptor\\\",\\n    \\\"furniture designer and artist\\\",\\n    \\\"rock album cover artist\\\",\\n    \\\"stateless auto destructive artist\\\",\\n    \\\"indigenous artist and printmaker\\\",\\n    \\\"computer artist\\\",\\n    \\\"watercolour artist\\\",\\n    \\\"media artist and designer\\\",\\n    \\\"artist and landscape architect\\\",\\n    \\\"Eurodance artist\\\",\\n    \\\"musician and comic book artist\\\",\\n    \\\"graphic artist and game designer\\\",\\n    \\\"comics artist and graphic novelist\\\",\\n    \\\"hologram artist\\\",\\n    \\\"cartoonist and comics artist\\\",\\n    \\\"comics artist and animator\\\",\\n    \\\"reggae artist and comedian\\\",\\n    \\\"sound installation artist and musician\\\",\\n    \\\"artist and potter\\\",\\n    \\\"artist and film production illustrator\\\",\\n    \\\"multimedia artist and painter\\\",\\n    \\\"film animator\\\",\\n    \\\"artist photographer\\\",\\n    \\\"experimental filmmaker and visual artist\\\",\\n    \\\"artist and jewelry designer\\\",\\n    \\\"graphic designer and film poster artist\\\",\\n    \\\"fetish artist\\\",\\n    \\\"avant garde installation artist and sculptor\\\",\\n    \\\"courtroom sketch artist\\\",\\n    \\\"sketch artist\\\",\\n    \\\"caricaturist and comics artist\\\",\\n    \\\"I\\u00f1upiat artist\\\",\\n    \\\"hand shadow artist\\\",\\n    \\\"Indigenous artist\\\",\\n    \\\"musical Thavil artist\\\",\\n    \\\"ceramist and textile artist\\\",\\n    \\\"radio presenter and artist\\\",\\n    \\\"comics artist and cartoonist\\\",\\n    \\\"lianhuanhua artist\\\",\\n    \\\"multi media artist\\\",\\n    \\\"animator and comics artist\\\",\\n    \\\"artist and cultural figure\\\",\\n    \\\"typographer and visual artist\\\",\\n    \\\"graphic designer and album artist\\\",\\n    \\\"pencil artist\\\",\\n    \\\"theatre artist and playwright\\\",\\n    \\\"comic artist and illustrator\\\",\\n    \\\"motorsports artist\\\",\\n    \\\"voice over and recording artist\\\",\\n    \\\"bassist and artist\\\",\\n    \\\"comic creator and cover artist\\\",\\n    \\\"tattoo artist and reality show personality\\\",\\n    \\\"cartoonist and street artist\\\",\\n    \\\"sand artist\\\",\\n    \\\"architect and light artist\\\",\\n    \\\"media producer and makeup artist\\\",\\n    \\\"Kiowa artist\\\",\\n    \\\"Peking opera artist\\\",\\n    \\\"electronic music artist and MC\\\",\\n    \\\"graphic design artist\\\",\\n    \\\"impressionist artist\\\",\\n    \\\"graphic designer and street artist\\\",\\n    \\\"illustrator of children books and cartoon artist\\\",\\n    \\\"artist and animator\\\",\\n    \\\"record producer and artist\\\",\\n    \\\"rock concert graphic poster artist\\\",\\n    \\\"land artist\\\",\\n    \\\"video and visualization artist\\\",\\n    \\\"artist and weaver\\\",\\n    \\\"painter and plastic artist\\\",\\n    \\\"fantasy gaming artist\\\",\\n    \\\"Madhubani painter and artist\\\",\\n    \\\"animation director and storyboard artist\\\",\\n    \\\"conceptual artist and photographer\\\",\\n    \\\"fantasy artist and album cover designer\\\",\\n    \\\"design artist and painter\\\",\\n    \\\"theatre artiste\\\",\\n    \\\"thangka artist\\\",\\n    \\\"artist and Alghoza player\\\",\\n    \\\"fantasy coffin artist\\\",\\n    \\\"film concept artist\\\",\\n    \\\"wildlife artist and illustrator\\\",\\n    \\\"theatre personality and artist\\\",\\n    \\\"visual artist and fashion designer\\\",\\n    \\\"artist and fashion designer\\\",\\n    \\\"comedic artist\\\",\\n    \\\"sculptor and artistic director\\\",\\n    \\\"graphic designer and album cover artist\\\",\\n    \\\"artist and trading card illustrator\\\",\\n    \\\"geometric artist\\\",\\n    \\\"founder and artistic director of the Melbourne Theatre Company\\\",\\n    \\\"indigenous artist\\\",\\n    \\\"artist and book cover illustrator\\\",\\n    \\\"punk graphic designer and artistic director\\\",\\n    \\\"television host and recording artist\\\",\\n    \\\"artistic director and live performance organizer\\\",\\n    \\\"weaving artist\\\",\\n    \\\"pop and minimalist artist\\\",\\n    \\\"dubbing artist\\\",\\n    \\\"monumentalist artist\\\",\\n    \\\"sound artist and electronic music composer\\\",\\n    \\\"highwire artiste\\\",\\n    \\\"pixel artist\\\",\\n    \\\"conceptual and digital artist\\\",\\n    \\\"artist and inventor of the plastic pink flamingo\\\",\\n    \\\"batik artist\\\",\\n    \\\"enamel artist\\\",\\n    \\\"operatic tenor and artistic director\\\",\\n    \\\"sound artist and radio presenter\\\",\\n    \\\"sound artist\\\",\\n    \\\"conductor and artistic director\\\",\\n    \\\"graphic artist and designer\\\",\\n    \\\"quilt artist\\\",\\n    \\\"comic strip artist and cartoonist\\\",\\n    \\\"painter and installation artist\\\",\\n    \\\"graphic artist and cartoonist\\\",\\n    \\\"recording artist and vocalist\\\",\\n    \\\"circus artist and animal trainer\\\",\\n    \\\"Kunqu artist\\\",\\n    \\\"surrealist artist\\\",\\n    \\\"harmonism artist\\\",\\n    \\\"graphic designer and poster artist\\\",\\n    \\\"marine artist\\\",\\n    \\\"commercial artist and illustrator\\\",\\n    \\\"commercial artist\\\",\\n    \\\"plastic artist\\\",\\n    \\\"color abstract artist\\\",\\n    \\\"special effects make up artist\\\",\\n    \\\"underground graffiti artist\\\",\\n    \\\"ballet master and artistic director\\\",\\n    \\\"animation background artist\\\",\\n    \\\"hymnist and visual artist\\\",\\n    \\\"recording artist\\\",\\n    \\\"visual artist and photographer\\\",\\n    \\\"World War II artist\\\",\\n    \\\"painter and kinetic artist\\\",\\n    \\\"muralist and pictorial artist\\\",\\n    \\\"cartoonist and artist\\\",\\n    \\\"sculptor and graphic artist\\\",\\n    \\\"visual artist and musician\\\",\\n    \\\"artists' model\\\",\\n    \\\"abstract expressionist artist and\\\",\\n    \\\"abstract expressionist artist\\\",\\n    \\\"artist and printmaker\\\",\\n    \\\"sculptor and installation artist\\\",\\n    \\\"installation artist\\\",\\n    \\\"filmmaker and artist\\\",\\n    \\\"comic book artist and painter\\\",\\n    \\\"sculptor and performance artist\\\",\\n    \\\"artist and set designer\\\",\\n    \\\"comic book artist and editor\\\",\\n    \\\"cabaret artist\\\",\\n    \\\"environmental artist\\\",\\n    \\\"expressionist artist\\\",\\n    \\\"comic book and advertising artist\\\",\\n    \\\"kinetic artist\\\",\\n    \\\"concept artist\\\",\\n    \\\"fantasy artist\\\",\\n    \\\"heraldic artist\\\",\\n    \\\"Ojibwe artist\\\",\\n    \\\"First Nations artist\\\",\\n    \\\"ballet dancer and artistic director\\\",\\n    \\\"mime artist\\\",\\n    \\\"contemporary visual artist\\\",\\n    \\\"psychedelic poster artist\\\",\\n    \\\"tattoo artist\\\",\\n    \\\"artist and art critic\\\",\\n    \\\"hip hop artist\\\",\\n    \\\"forensic artist\\\",\\n    \\\"illustrator and comics artist\\\",\\n    \\\"Hall of Fame comic book artist\\\",\\n    \\\"Inuk artist\\\",\\n    \\\"figurative artist\\\",\\n    \\\"folk artist\\\",\\n    \\\"artist and filmmaker\\\",\\n    \\\"voice over artist\\\",\\n    \\\"minimalist artist\\\",\\n    \\\"artist and graphic designer\\\",\\n    \\\"nonconformist artist\\\",\\n    \\\"portrait artist\\\",\\n    \\\"pottery artist\\\",\\n    \\\"film poster artist\\\",\\n    \\\"fiber artist\\\",\\n    \\\"Kathakali artist\\\",\\n    \\\"illustrator and comic book artist\\\",\\n    \\\"science fiction artist\\\",\\n    \\\"watercolor artist\\\",\\n    \\\"comic book artist and cartoonist\\\",\\n    \\\"artist and cartoonist\\\",\\n    \\\"avant garde artist\\\",\\n    \\\"realist painter and graphic artist\\\",\\n    \\\"comics artist and illustrator\\\",\\n    \\\"ceramics artist\\\",\\n    \\\"outsider artist\\\",\\n    \\\"architect and artist\\\",\\n    \\\"street artist\\\",\\n    \\\"video artist and\\\",\\n    \\\"video artist\\\",\\n    \\\"contemporary artist\\\",\\n    \\\"Inuit artist\\\",\\n    \\\"painter and artist\\\",\\n    \\\"voice artist\\\",\\n    \\\"rap artist\\\",\\n    \\\"graffiti artist\\\",\\n    \\\"special effects artist\\\",\\n    \\\"visual effects artist and\\\",\\n    \\\"visual effects artist\\\",\\n    \\\"and landscape artist\\\",\\n    \\\"landscape artist\\\",\\n    \\\"stained glass artist\\\",\\n    \\\"graphic designer and artist\\\",\\n    \\\"designer and artist\\\",\\n    \\\"war artist\\\",\\n    \\\"comic strip artist\\\",\\n    \\\"artistic director\\\",\\n    \\\"pop artist\\\",\\n    \\\"make up artist and\\\",\\n    \\\"make up artist\\\",\\n    \\\"comic artist\\\",\\n    \\\"wildlife artist\\\",\\n    \\\"artist and photographer\\\",\\n    \\\"sculptor and artist\\\",\\n    \\\"artist and musician\\\",\\n    \\\"makeup artist\\\",\\n    \\\"artist and architect\\\",\\n    \\\"ceramic artist and\\\",\\n    \\\"ceramic artist\\\",\\n    \\\"glass artist\\\",\\n    \\\"textile artist\\\",\\n    \\\"artist and designer\\\",\\n    \\\"artist and painter\\\",\\n    \\\"artist and sculptor\\\",\\n    \\\"performance artist and\\\",\\n    \\\"and performance artist\\\",\\n    \\\"performance artist\\\",\\n    \\\"artist and illustrator\\\",\\n    \\\"painter and graphic artist\\\",\\n    \\\"and graphic artist\\\",\\n    \\\"graphic artist and\\\",\\n    \\\"graphic artist\\\",\\n    \\\"conceptual artist\\\",\\n    \\\"abstract artist\\\",\\n    \\\"manga artist and\\\",\\n    \\\"manga artist\\\",\\n    \\\"comics artist and\\\",\\n    \\\"and comics artist\\\",\\n    \\\"comics artist\\\",\\n    \\\"visual artist and art\\\",\\n    \\\"and visual artist\\\",\\n    \\\"visual artist and\\\",\\n    \\\"visual artist\\\",\\n    \\\"comic book artist and\\\",\\n    \\\"comic book artist\\\",\\n    \\\"woodcut artist and\\\",\\n    \\\"poster artist and\\\",\\n    \\\"poster artist\\\",\\n    \\\"and storyboard artist\\\",\\n    \\\"storyboard artist\\\",\\n    \\\"modern artist and\\\",\\n    \\\"and fish skin artist\\\",\\n    \\\"and artist\\\",\\n    \\\"artist and\\\",\\n    \\\"n artist\\\",\\n    \\\"music artist\\\",\\n    \\\"artist\\\",\\n]\\nsports = [\\n    \\\"Muay martial artist\\\",  # before arts\\n    \\\"martial artist and Isshinryu karate pioneer\\\",\\n    \\\"professional wrestler and mixed martial artist\\\",\\n    \\\"martial artist and founder of Modern Arnis\\\",\\n    \\\"Olympic artistic gymnast\\\",\\n    \\\"professional wrestler and martial artist\\\",\\n    \\\"artistic gymnastics coach\\\",\\n    \\\"mixed martial artist and kickboxer\\\",\\n    \\\"artistic gymnast and Olympian\\\",\\n    \\\"mixed martial artist and grappler\\\",\\n    \\\"super heavyweight kickboxing champion and mixed martial artist\\\",\\n    \\\"Olympic taekwondo martial artist\\\",\\n    \\\"mixed martial artist and professional wrestler\\\",\\n    \\\"martial artist and teacher\\\",\\n    \\\"kickboxer and mixed martial artist\\\",\\n    \\\"artistic gymnast\\\",\\n    \\\"mixed martial artist\\\",\\n    \\\"martial artist and\\\",\\n    \\\"and martial artist\\\",\\n    \\\"martial artist\\\",\\n]\\nsciences = []\\n\\nbusiness_farming = []\\nacademia_humanities = []\\nlaw_enf_military_operator = [\\n    \\\"first civilian to receive the Intelligence Medal of Merit\\\"\\n]\\nspiritual = [\\\"modern primitive proponent\\\"]\\nsocial = []\\ncrime = [\\\"scam artist\\\", \\\"con artist and\\\", \\\"art forger\\\"]  # before arts\\nevent_record_other = []\\nother_species = []\";\n",
       "                var nbb_formatted_code = \"# Creating lists for each category\\npolitics_govt_law = []\\n\\narts = [\\n    \\\"based graffiti artist whose works were included in the Venice Biennale\\\",\\n    \\\"game artist\\\",\\n    \\\"Oscar winning make up artist\\\",\\n    \\\"choreographer appointed as Sydney Dance Company artistic director\\\",\\n    \\\"based pop artist\\\",\\n    \\\"artist and wife of Joaqu\\u00edn Torres Garc\\u00eda\\\",\\n    \\\"botanical artist\\\",\\n    \\\"television make up artist\\\",\\n    \\\"movie poster artist\\\",\\n    \\\"courtroom artist\\\",\\n    \\\"artist and engraver\\\",\\n    \\\"graphic designer and psychedelic artist\\\",\\n    \\\"special effects and make up artist\\\",\\n    \\\"comic book artist and publisher\\\",\\n    \\\"artist and theatre designer\\\",\\n    \\\"pop artist and director\\\",\\n    \\\"artistic draughtsman\\\",\\n    \\\"artist known for his role in the Conceptualism and Minimalism movements\\\",\\n    \\\"aboriginal artist\\\",\\n    \\\"native artist\\\",\\n    \\\"musician and artist\\\",\\n    \\\"ballet dancer and artistic director of Ballet\\\",\\n    \\\"master potter and artist\\\",\\n    \\\"drag queen music artist\\\",\\n    \\\"internationally recognized graphic artist\\\",\\n    \\\"fantasy and science fiction artist and illustrator\\\",\\n    \\\"internationally exhibited Navajo artist\\\",\\n    \\\"comic book artist and co founder of\\\",\\n    \\\"artist who was a member of the Regina Five\\\",\\n    \\\"animator and layout artist\\\",\\n    \\\"colorist and cover production artist for DC Comics\\\",\\n    \\\"special effects artist and pedal steel guitarist\\\",\\n    \\\"comic book colourist and artist\\\",\\n    \\\"based architect and artist\\\",\\n    \\\"installation artist and assemblage sculptor\\\",\\n    \\\"artist and television presenter\\\",\\n    \\\"movie artist and illustrator\\\",\\n    \\\"artist and watercolourist\\\",\\n    \\\"na\\u00efve artist\\\",\\n    \\\"transgender artist\\\",\\n    \\\"special effects artist and producer\\\",\\n    \\\"artist and musical performer\\\",\\n    \\\"and butter sculpture artist\\\",\\n    \\\"artist and print maker\\\",\\n    \\\"pop artist and sculptor\\\",\\n    \\\"experimental music artist\\\",\\n    \\\"blues musician and artist\\\",\\n    \\\"comic book artist and reputed creator of\\\",\\n    \\\"artist and composer\\\",\\n    \\\"ceramic artist and designer\\\",\\n    \\\"video game concept artist\\\",\\n    \\\"artist and reporter\\\",\\n    \\\"performance artist and playwright\\\",\\n    \\\"artist and muralist\\\",\\n    \\\"animation artist and character designer\\\",\\n    \\\"blues artist\\\",\\n    \\\"Academy Award winning visual effects artist\\\",\\n    \\\"vocalist and bassist and solo artist\\\",\\n    \\\"artist of origin\\\",\\n    \\\"neo mannerist artist\\\",\\n    \\\"shadow play artist\\\",\\n    \\\"sculptor and conceptual artist\\\",\\n    \\\"film make up artist\\\",\\n    \\\"tapestry and textile artist\\\",\\n    \\\"Golden Age comic book artist\\\",\\n    \\\"rock musician and artist\\\",\\n    \\\"strip artist\\\",\\n    \\\"wood carving artist\\\",\\n    \\\"plastic artist and illustrator\\\",\\n    \\\"artist and banknote designer\\\",\\n    \\\"textile artist and printmaker\\\",\\n    \\\"fantasy and science fiction artist\\\",\\n    \\\"figurative expressionist artist\\\",\\n    \\\"hip hop musician and graffiti artist\\\",\\n    \\\"Navajo artist\\\",\\n    \\\"wet folding origami artist\\\",\\n    \\\"Route artist\\\",\\n    \\\"animator and comic book artist\\\",\\n    \\\"R&B artist\\\",\\n    \\\"mural artist\\\",\\n    \\\"makeup artist and tenor\\\",\\n    \\\"artist and lecturer\\\",\\n    \\\"artist and ceramicist\\\",\\n    \\\"experimental visual artist\\\",\\n    \\\"vocalist and session artist\\\",\\n    \\\"artists' model and memoirist\\\",\\n    \\\"comic book and comic strip artist\\\",\\n    \\\"comic strip artist and editor\\\",\\n    \\\"Native artist and potter\\\",\\n    \\\"West Coast artist\\\",\\n    \\\"artist and comic book creator\\\",\\n    \\\"graphic artist and sculptor\\\",\\n    \\\"painter and visual artist\\\",\\n    \\\"New Realist artist\\\",\\n    \\\"motion picture matte artist\\\",\\n    \\\"artist and novelist\\\",\\n    \\\"abstract and representational artist\\\",\\n    \\\"broadcaster and comic book artist\\\",\\n    \\\"neo conceptual artist\\\",\\n    \\\"painter and pioneering manhua artist\\\",\\n    \\\"hillbilly and bluegrass artist\\\",\\n    \\\"artist and member of the Fluxus movement\\\",\\n    \\\"artist and member of the Ultra Lettrist movement\\\",\\n    \\\"graphic artist and printmaker\\\",\\n    \\\"musician and recording artist\\\",\\n    \\\"textile artist who specialized in embroidery\\\",\\n    \\\"ink artist and wife of Walt Disney\\\",\\n    \\\"artist and art collector\\\",\\n    \\\"n artist from Utopia\\\",\\n    \\\"Chicano artist\\\",\\n    \\\"artist of origins\\\",\\n    \\\"artist and doll maker\\\",\\n    \\\"conceptual and performance artist\\\",\\n    \\\"studio potter and ceramic artist\\\",\\n    \\\"tenor and artist\\\",\\n    \\\"country music artist\\\",\\n    \\\"visual artist known for her still lives and landscapes\\\",\\n    \\\"film and video artist\\\",\\n    \\\"artist and watercolor master\\\",\\n    \\\"painter and comics artist\\\",\\n    \\\"vocalist and recording artist\\\",\\n    \\\"comic book artist born\\\",\\n    \\\"science fiction and fantasy artist\\\",\\n    \\\"novelist and artist\\\",\\n    \\\"conductor and recording artist\\\",\\n    \\\"botanical artist and art critic\\\",\\n    \\\"carving artist\\\",\\n    \\\"visual artist and conceptual sculptor\\\",\\n    \\\"contemperary artist\\\",\\n    'sculptor and \\\"one of the nation most accomplished medallic artists\\\"',\\n    \\\"cartoonist and comic artist\\\",\\n    \\\"rock artist\\\",\\n    \\\"psychedelic artist\\\",\\n    \\\"animation and comic book artist\\\",\\n    \\\"textile artist and embroiderer\\\",\\n    \\\"artist and experimental photographer\\\",\\n    \\\"cartoonist and comic book artist\\\",\\n    \\\"potter and ceramic artist\\\",\\n    \\\"artist anddesigner\\\",\\n    \\\"born artist\\\",\\n    \\\"sculptor and stained glass artist\\\",\\n    \\\"equine artist\\\",\\n    \\\"typographer and graphic artist\\\",\\n    \\\"visual artist and jewelry and fashion designer\\\",\\n    \\\"visual artist and prot\\u00e9g\\u00e9 of Salvador Dal\\u00ed\\\",\\n    \\\"reggae artist\\\",\\n    \\\"artist and Army art correspondent\\\",\\n    \\\"film special effects artist\\\",\\n    \\\"vocalist and artist\\\",\\n    \\\"experimental filmmaker and artist\\\",\\n    \\\"fine artist and art editor\\\",\\n    \\\"comic book artist and book illustrator\\\",\\n    \\\"Les Automatistes artist and a member of\\\",\\n    \\\"comic book artist and co creator of Jonah Hex and Black Orchid\\\",\\n    \\\"Papunya Tula artist\\\",\\n    \\\"graphic artist and postage stamp designer\\\",\\n    \\\"artist and metalsmith\\\",\\n    \\\"manhua artist\\\",\\n    \\\"illustrator and storyboard artist\\\",\\n    \\\"Western artist\\\",\\n    \\\"artist and architectural designer\\\",\\n    \\\"graphic artist and banknote designer\\\",\\n    \\\"artist in wood\\\",\\n    \\\"Yakshagana artist\\\",\\n    \\\"trapeze artist\\\",\\n    \\\"newspaper artist and cartoonist\\\",\\n    \\\"artist and puppeteer\\\",\\n    \\\"ceramic artist and sculptor\\\",\\n    \\\"furniture designer and artist\\\",\\n    \\\"rock album cover artist\\\",\\n    \\\"stateless auto destructive artist\\\",\\n    \\\"indigenous artist and printmaker\\\",\\n    \\\"computer artist\\\",\\n    \\\"watercolour artist\\\",\\n    \\\"media artist and designer\\\",\\n    \\\"artist and landscape architect\\\",\\n    \\\"Eurodance artist\\\",\\n    \\\"musician and comic book artist\\\",\\n    \\\"graphic artist and game designer\\\",\\n    \\\"comics artist and graphic novelist\\\",\\n    \\\"hologram artist\\\",\\n    \\\"cartoonist and comics artist\\\",\\n    \\\"comics artist and animator\\\",\\n    \\\"reggae artist and comedian\\\",\\n    \\\"sound installation artist and musician\\\",\\n    \\\"artist and potter\\\",\\n    \\\"artist and film production illustrator\\\",\\n    \\\"multimedia artist and painter\\\",\\n    \\\"film animator\\\",\\n    \\\"artist photographer\\\",\\n    \\\"experimental filmmaker and visual artist\\\",\\n    \\\"artist and jewelry designer\\\",\\n    \\\"graphic designer and film poster artist\\\",\\n    \\\"fetish artist\\\",\\n    \\\"avant garde installation artist and sculptor\\\",\\n    \\\"courtroom sketch artist\\\",\\n    \\\"sketch artist\\\",\\n    \\\"caricaturist and comics artist\\\",\\n    \\\"I\\u00f1upiat artist\\\",\\n    \\\"hand shadow artist\\\",\\n    \\\"Indigenous artist\\\",\\n    \\\"musical Thavil artist\\\",\\n    \\\"ceramist and textile artist\\\",\\n    \\\"radio presenter and artist\\\",\\n    \\\"comics artist and cartoonist\\\",\\n    \\\"lianhuanhua artist\\\",\\n    \\\"multi media artist\\\",\\n    \\\"animator and comics artist\\\",\\n    \\\"artist and cultural figure\\\",\\n    \\\"typographer and visual artist\\\",\\n    \\\"graphic designer and album artist\\\",\\n    \\\"pencil artist\\\",\\n    \\\"theatre artist and playwright\\\",\\n    \\\"comic artist and illustrator\\\",\\n    \\\"motorsports artist\\\",\\n    \\\"voice over and recording artist\\\",\\n    \\\"bassist and artist\\\",\\n    \\\"comic creator and cover artist\\\",\\n    \\\"tattoo artist and reality show personality\\\",\\n    \\\"cartoonist and street artist\\\",\\n    \\\"sand artist\\\",\\n    \\\"architect and light artist\\\",\\n    \\\"media producer and makeup artist\\\",\\n    \\\"Kiowa artist\\\",\\n    \\\"Peking opera artist\\\",\\n    \\\"electronic music artist and MC\\\",\\n    \\\"graphic design artist\\\",\\n    \\\"impressionist artist\\\",\\n    \\\"graphic designer and street artist\\\",\\n    \\\"illustrator of children books and cartoon artist\\\",\\n    \\\"artist and animator\\\",\\n    \\\"record producer and artist\\\",\\n    \\\"rock concert graphic poster artist\\\",\\n    \\\"land artist\\\",\\n    \\\"video and visualization artist\\\",\\n    \\\"artist and weaver\\\",\\n    \\\"painter and plastic artist\\\",\\n    \\\"fantasy gaming artist\\\",\\n    \\\"Madhubani painter and artist\\\",\\n    \\\"animation director and storyboard artist\\\",\\n    \\\"conceptual artist and photographer\\\",\\n    \\\"fantasy artist and album cover designer\\\",\\n    \\\"design artist and painter\\\",\\n    \\\"theatre artiste\\\",\\n    \\\"thangka artist\\\",\\n    \\\"artist and Alghoza player\\\",\\n    \\\"fantasy coffin artist\\\",\\n    \\\"film concept artist\\\",\\n    \\\"wildlife artist and illustrator\\\",\\n    \\\"theatre personality and artist\\\",\\n    \\\"visual artist and fashion designer\\\",\\n    \\\"artist and fashion designer\\\",\\n    \\\"comedic artist\\\",\\n    \\\"sculptor and artistic director\\\",\\n    \\\"graphic designer and album cover artist\\\",\\n    \\\"artist and trading card illustrator\\\",\\n    \\\"geometric artist\\\",\\n    \\\"founder and artistic director of the Melbourne Theatre Company\\\",\\n    \\\"indigenous artist\\\",\\n    \\\"artist and book cover illustrator\\\",\\n    \\\"punk graphic designer and artistic director\\\",\\n    \\\"television host and recording artist\\\",\\n    \\\"artistic director and live performance organizer\\\",\\n    \\\"weaving artist\\\",\\n    \\\"pop and minimalist artist\\\",\\n    \\\"dubbing artist\\\",\\n    \\\"monumentalist artist\\\",\\n    \\\"sound artist and electronic music composer\\\",\\n    \\\"highwire artiste\\\",\\n    \\\"pixel artist\\\",\\n    \\\"conceptual and digital artist\\\",\\n    \\\"artist and inventor of the plastic pink flamingo\\\",\\n    \\\"batik artist\\\",\\n    \\\"enamel artist\\\",\\n    \\\"operatic tenor and artistic director\\\",\\n    \\\"sound artist and radio presenter\\\",\\n    \\\"sound artist\\\",\\n    \\\"conductor and artistic director\\\",\\n    \\\"graphic artist and designer\\\",\\n    \\\"quilt artist\\\",\\n    \\\"comic strip artist and cartoonist\\\",\\n    \\\"painter and installation artist\\\",\\n    \\\"graphic artist and cartoonist\\\",\\n    \\\"recording artist and vocalist\\\",\\n    \\\"circus artist and animal trainer\\\",\\n    \\\"Kunqu artist\\\",\\n    \\\"surrealist artist\\\",\\n    \\\"harmonism artist\\\",\\n    \\\"graphic designer and poster artist\\\",\\n    \\\"marine artist\\\",\\n    \\\"commercial artist and illustrator\\\",\\n    \\\"commercial artist\\\",\\n    \\\"plastic artist\\\",\\n    \\\"color abstract artist\\\",\\n    \\\"special effects make up artist\\\",\\n    \\\"underground graffiti artist\\\",\\n    \\\"ballet master and artistic director\\\",\\n    \\\"animation background artist\\\",\\n    \\\"hymnist and visual artist\\\",\\n    \\\"recording artist\\\",\\n    \\\"visual artist and photographer\\\",\\n    \\\"World War II artist\\\",\\n    \\\"painter and kinetic artist\\\",\\n    \\\"muralist and pictorial artist\\\",\\n    \\\"cartoonist and artist\\\",\\n    \\\"sculptor and graphic artist\\\",\\n    \\\"visual artist and musician\\\",\\n    \\\"artists' model\\\",\\n    \\\"abstract expressionist artist and\\\",\\n    \\\"abstract expressionist artist\\\",\\n    \\\"artist and printmaker\\\",\\n    \\\"sculptor and installation artist\\\",\\n    \\\"installation artist\\\",\\n    \\\"filmmaker and artist\\\",\\n    \\\"comic book artist and painter\\\",\\n    \\\"sculptor and performance artist\\\",\\n    \\\"artist and set designer\\\",\\n    \\\"comic book artist and editor\\\",\\n    \\\"cabaret artist\\\",\\n    \\\"environmental artist\\\",\\n    \\\"expressionist artist\\\",\\n    \\\"comic book and advertising artist\\\",\\n    \\\"kinetic artist\\\",\\n    \\\"concept artist\\\",\\n    \\\"fantasy artist\\\",\\n    \\\"heraldic artist\\\",\\n    \\\"Ojibwe artist\\\",\\n    \\\"First Nations artist\\\",\\n    \\\"ballet dancer and artistic director\\\",\\n    \\\"mime artist\\\",\\n    \\\"contemporary visual artist\\\",\\n    \\\"psychedelic poster artist\\\",\\n    \\\"tattoo artist\\\",\\n    \\\"artist and art critic\\\",\\n    \\\"hip hop artist\\\",\\n    \\\"forensic artist\\\",\\n    \\\"illustrator and comics artist\\\",\\n    \\\"Hall of Fame comic book artist\\\",\\n    \\\"Inuk artist\\\",\\n    \\\"figurative artist\\\",\\n    \\\"folk artist\\\",\\n    \\\"artist and filmmaker\\\",\\n    \\\"voice over artist\\\",\\n    \\\"minimalist artist\\\",\\n    \\\"artist and graphic designer\\\",\\n    \\\"nonconformist artist\\\",\\n    \\\"portrait artist\\\",\\n    \\\"pottery artist\\\",\\n    \\\"film poster artist\\\",\\n    \\\"fiber artist\\\",\\n    \\\"Kathakali artist\\\",\\n    \\\"illustrator and comic book artist\\\",\\n    \\\"science fiction artist\\\",\\n    \\\"watercolor artist\\\",\\n    \\\"comic book artist and cartoonist\\\",\\n    \\\"artist and cartoonist\\\",\\n    \\\"avant garde artist\\\",\\n    \\\"realist painter and graphic artist\\\",\\n    \\\"comics artist and illustrator\\\",\\n    \\\"ceramics artist\\\",\\n    \\\"outsider artist\\\",\\n    \\\"architect and artist\\\",\\n    \\\"street artist\\\",\\n    \\\"video artist and\\\",\\n    \\\"video artist\\\",\\n    \\\"contemporary artist\\\",\\n    \\\"Inuit artist\\\",\\n    \\\"painter and artist\\\",\\n    \\\"voice artist\\\",\\n    \\\"rap artist\\\",\\n    \\\"graffiti artist\\\",\\n    \\\"special effects artist\\\",\\n    \\\"visual effects artist and\\\",\\n    \\\"visual effects artist\\\",\\n    \\\"and landscape artist\\\",\\n    \\\"landscape artist\\\",\\n    \\\"stained glass artist\\\",\\n    \\\"graphic designer and artist\\\",\\n    \\\"designer and artist\\\",\\n    \\\"war artist\\\",\\n    \\\"comic strip artist\\\",\\n    \\\"artistic director\\\",\\n    \\\"pop artist\\\",\\n    \\\"make up artist and\\\",\\n    \\\"make up artist\\\",\\n    \\\"comic artist\\\",\\n    \\\"wildlife artist\\\",\\n    \\\"artist and photographer\\\",\\n    \\\"sculptor and artist\\\",\\n    \\\"artist and musician\\\",\\n    \\\"makeup artist\\\",\\n    \\\"artist and architect\\\",\\n    \\\"ceramic artist and\\\",\\n    \\\"ceramic artist\\\",\\n    \\\"glass artist\\\",\\n    \\\"textile artist\\\",\\n    \\\"artist and designer\\\",\\n    \\\"artist and painter\\\",\\n    \\\"artist and sculptor\\\",\\n    \\\"performance artist and\\\",\\n    \\\"and performance artist\\\",\\n    \\\"performance artist\\\",\\n    \\\"artist and illustrator\\\",\\n    \\\"painter and graphic artist\\\",\\n    \\\"and graphic artist\\\",\\n    \\\"graphic artist and\\\",\\n    \\\"graphic artist\\\",\\n    \\\"conceptual artist\\\",\\n    \\\"abstract artist\\\",\\n    \\\"manga artist and\\\",\\n    \\\"manga artist\\\",\\n    \\\"comics artist and\\\",\\n    \\\"and comics artist\\\",\\n    \\\"comics artist\\\",\\n    \\\"visual artist and art\\\",\\n    \\\"and visual artist\\\",\\n    \\\"visual artist and\\\",\\n    \\\"visual artist\\\",\\n    \\\"comic book artist and\\\",\\n    \\\"comic book artist\\\",\\n    \\\"woodcut artist and\\\",\\n    \\\"poster artist and\\\",\\n    \\\"poster artist\\\",\\n    \\\"and storyboard artist\\\",\\n    \\\"storyboard artist\\\",\\n    \\\"modern artist and\\\",\\n    \\\"and fish skin artist\\\",\\n    \\\"and artist\\\",\\n    \\\"artist and\\\",\\n    \\\"n artist\\\",\\n    \\\"music artist\\\",\\n    \\\"artist\\\",\\n]\\nsports = [\\n    \\\"Muay martial artist\\\",  # before arts\\n    \\\"martial artist and Isshinryu karate pioneer\\\",\\n    \\\"professional wrestler and mixed martial artist\\\",\\n    \\\"martial artist and founder of Modern Arnis\\\",\\n    \\\"Olympic artistic gymnast\\\",\\n    \\\"professional wrestler and martial artist\\\",\\n    \\\"artistic gymnastics coach\\\",\\n    \\\"mixed martial artist and kickboxer\\\",\\n    \\\"artistic gymnast and Olympian\\\",\\n    \\\"mixed martial artist and grappler\\\",\\n    \\\"super heavyweight kickboxing champion and mixed martial artist\\\",\\n    \\\"Olympic taekwondo martial artist\\\",\\n    \\\"mixed martial artist and professional wrestler\\\",\\n    \\\"martial artist and teacher\\\",\\n    \\\"kickboxer and mixed martial artist\\\",\\n    \\\"artistic gymnast\\\",\\n    \\\"mixed martial artist\\\",\\n    \\\"martial artist and\\\",\\n    \\\"and martial artist\\\",\\n    \\\"martial artist\\\",\\n]\\nsciences = []\\n\\nbusiness_farming = []\\nacademia_humanities = []\\nlaw_enf_military_operator = [\\n    \\\"first civilian to receive the Intelligence Medal of Merit\\\"\\n]\\nspiritual = [\\\"modern primitive proponent\\\"]\\nsocial = []\\ncrime = [\\\"scam artist\\\", \\\"con artist and\\\", \\\"art forger\\\"]  # before arts\\nevent_record_other = []\\nother_species = []\";\n",
       "                var nbb_cells = Jupyter.notebook.get_cells();\n",
       "                for (var i = 0; i < nbb_cells.length; ++i) {\n",
       "                    if (nbb_cells[i].input_prompt_number == nbb_cell_id) {\n",
       "                        if (nbb_cells[i].get_text() == nbb_unformatted_code) {\n",
       "                             nbb_cells[i].set_text(nbb_formatted_code);\n",
       "                        }\n",
       "                        break;\n",
       "                    }\n",
       "                }\n",
       "            }, 500);\n",
       "            "
      ],
      "text/plain": [
       "<IPython.core.display.Javascript object>"
      ]
     },
     "metadata": {},
     "output_type": "display_data"
    }
   ],
   "source": [
    "# Creating lists for each category\n",
    "politics_govt_law = []\n",
    "\n",
    "arts = [\n",
    "    \"based graffiti artist whose works were included in the Venice Biennale\",\n",
    "    \"game artist\",\n",
    "    \"Oscar winning make up artist\",\n",
    "    \"choreographer appointed as Sydney Dance Company artistic director\",\n",
    "    \"based pop artist\",\n",
    "    \"artist and wife of Joaquín Torres García\",\n",
    "    \"botanical artist\",\n",
    "    \"television make up artist\",\n",
    "    \"movie poster artist\",\n",
    "    \"courtroom artist\",\n",
    "    \"artist and engraver\",\n",
    "    \"graphic designer and psychedelic artist\",\n",
    "    \"special effects and make up artist\",\n",
    "    \"comic book artist and publisher\",\n",
    "    \"artist and theatre designer\",\n",
    "    \"pop artist and director\",\n",
    "    \"artistic draughtsman\",\n",
    "    \"artist known for his role in the Conceptualism and Minimalism movements\",\n",
    "    \"aboriginal artist\",\n",
    "    \"native artist\",\n",
    "    \"musician and artist\",\n",
    "    \"ballet dancer and artistic director of Ballet\",\n",
    "    \"master potter and artist\",\n",
    "    \"drag queen music artist\",\n",
    "    \"internationally recognized graphic artist\",\n",
    "    \"fantasy and science fiction artist and illustrator\",\n",
    "    \"internationally exhibited Navajo artist\",\n",
    "    \"comic book artist and co founder of\",\n",
    "    \"artist who was a member of the Regina Five\",\n",
    "    \"animator and layout artist\",\n",
    "    \"colorist and cover production artist for DC Comics\",\n",
    "    \"special effects artist and pedal steel guitarist\",\n",
    "    \"comic book colourist and artist\",\n",
    "    \"based architect and artist\",\n",
    "    \"installation artist and assemblage sculptor\",\n",
    "    \"artist and television presenter\",\n",
    "    \"movie artist and illustrator\",\n",
    "    \"artist and watercolourist\",\n",
    "    \"naïve artist\",\n",
    "    \"transgender artist\",\n",
    "    \"special effects artist and producer\",\n",
    "    \"artist and musical performer\",\n",
    "    \"and butter sculpture artist\",\n",
    "    \"artist and print maker\",\n",
    "    \"pop artist and sculptor\",\n",
    "    \"experimental music artist\",\n",
    "    \"blues musician and artist\",\n",
    "    \"comic book artist and reputed creator of\",\n",
    "    \"artist and composer\",\n",
    "    \"ceramic artist and designer\",\n",
    "    \"video game concept artist\",\n",
    "    \"artist and reporter\",\n",
    "    \"performance artist and playwright\",\n",
    "    \"artist and muralist\",\n",
    "    \"animation artist and character designer\",\n",
    "    \"blues artist\",\n",
    "    \"Academy Award winning visual effects artist\",\n",
    "    \"vocalist and bassist and solo artist\",\n",
    "    \"artist of origin\",\n",
    "    \"neo mannerist artist\",\n",
    "    \"shadow play artist\",\n",
    "    \"sculptor and conceptual artist\",\n",
    "    \"film make up artist\",\n",
    "    \"tapestry and textile artist\",\n",
    "    \"Golden Age comic book artist\",\n",
    "    \"rock musician and artist\",\n",
    "    \"strip artist\",\n",
    "    \"wood carving artist\",\n",
    "    \"plastic artist and illustrator\",\n",
    "    \"artist and banknote designer\",\n",
    "    \"textile artist and printmaker\",\n",
    "    \"fantasy and science fiction artist\",\n",
    "    \"figurative expressionist artist\",\n",
    "    \"hip hop musician and graffiti artist\",\n",
    "    \"Navajo artist\",\n",
    "    \"wet folding origami artist\",\n",
    "    \"Route artist\",\n",
    "    \"animator and comic book artist\",\n",
    "    \"R&B artist\",\n",
    "    \"mural artist\",\n",
    "    \"makeup artist and tenor\",\n",
    "    \"artist and lecturer\",\n",
    "    \"artist and ceramicist\",\n",
    "    \"experimental visual artist\",\n",
    "    \"vocalist and session artist\",\n",
    "    \"artists' model and memoirist\",\n",
    "    \"comic book and comic strip artist\",\n",
    "    \"comic strip artist and editor\",\n",
    "    \"Native artist and potter\",\n",
    "    \"West Coast artist\",\n",
    "    \"artist and comic book creator\",\n",
    "    \"graphic artist and sculptor\",\n",
    "    \"painter and visual artist\",\n",
    "    \"New Realist artist\",\n",
    "    \"motion picture matte artist\",\n",
    "    \"artist and novelist\",\n",
    "    \"abstract and representational artist\",\n",
    "    \"broadcaster and comic book artist\",\n",
    "    \"neo conceptual artist\",\n",
    "    \"painter and pioneering manhua artist\",\n",
    "    \"hillbilly and bluegrass artist\",\n",
    "    \"artist and member of the Fluxus movement\",\n",
    "    \"artist and member of the Ultra Lettrist movement\",\n",
    "    \"graphic artist and printmaker\",\n",
    "    \"musician and recording artist\",\n",
    "    \"textile artist who specialized in embroidery\",\n",
    "    \"ink artist and wife of Walt Disney\",\n",
    "    \"artist and art collector\",\n",
    "    \"n artist from Utopia\",\n",
    "    \"Chicano artist\",\n",
    "    \"artist of origins\",\n",
    "    \"artist and doll maker\",\n",
    "    \"conceptual and performance artist\",\n",
    "    \"studio potter and ceramic artist\",\n",
    "    \"tenor and artist\",\n",
    "    \"country music artist\",\n",
    "    \"visual artist known for her still lives and landscapes\",\n",
    "    \"film and video artist\",\n",
    "    \"artist and watercolor master\",\n",
    "    \"painter and comics artist\",\n",
    "    \"vocalist and recording artist\",\n",
    "    \"comic book artist born\",\n",
    "    \"science fiction and fantasy artist\",\n",
    "    \"novelist and artist\",\n",
    "    \"conductor and recording artist\",\n",
    "    \"botanical artist and art critic\",\n",
    "    \"carving artist\",\n",
    "    \"visual artist and conceptual sculptor\",\n",
    "    \"contemperary artist\",\n",
    "    'sculptor and \"one of the nation most accomplished medallic artists\"',\n",
    "    \"cartoonist and comic artist\",\n",
    "    \"rock artist\",\n",
    "    \"psychedelic artist\",\n",
    "    \"animation and comic book artist\",\n",
    "    \"textile artist and embroiderer\",\n",
    "    \"artist and experimental photographer\",\n",
    "    \"cartoonist and comic book artist\",\n",
    "    \"potter and ceramic artist\",\n",
    "    \"artist anddesigner\",\n",
    "    \"born artist\",\n",
    "    \"sculptor and stained glass artist\",\n",
    "    \"equine artist\",\n",
    "    \"typographer and graphic artist\",\n",
    "    \"visual artist and jewelry and fashion designer\",\n",
    "    \"visual artist and protégé of Salvador Dalí\",\n",
    "    \"reggae artist\",\n",
    "    \"artist and Army art correspondent\",\n",
    "    \"film special effects artist\",\n",
    "    \"vocalist and artist\",\n",
    "    \"experimental filmmaker and artist\",\n",
    "    \"fine artist and art editor\",\n",
    "    \"comic book artist and book illustrator\",\n",
    "    \"Les Automatistes artist and a member of\",\n",
    "    \"comic book artist and co creator of Jonah Hex and Black Orchid\",\n",
    "    \"Papunya Tula artist\",\n",
    "    \"graphic artist and postage stamp designer\",\n",
    "    \"artist and metalsmith\",\n",
    "    \"manhua artist\",\n",
    "    \"illustrator and storyboard artist\",\n",
    "    \"Western artist\",\n",
    "    \"artist and architectural designer\",\n",
    "    \"graphic artist and banknote designer\",\n",
    "    \"artist in wood\",\n",
    "    \"Yakshagana artist\",\n",
    "    \"trapeze artist\",\n",
    "    \"newspaper artist and cartoonist\",\n",
    "    \"artist and puppeteer\",\n",
    "    \"ceramic artist and sculptor\",\n",
    "    \"furniture designer and artist\",\n",
    "    \"rock album cover artist\",\n",
    "    \"stateless auto destructive artist\",\n",
    "    \"indigenous artist and printmaker\",\n",
    "    \"computer artist\",\n",
    "    \"watercolour artist\",\n",
    "    \"media artist and designer\",\n",
    "    \"artist and landscape architect\",\n",
    "    \"Eurodance artist\",\n",
    "    \"musician and comic book artist\",\n",
    "    \"graphic artist and game designer\",\n",
    "    \"comics artist and graphic novelist\",\n",
    "    \"hologram artist\",\n",
    "    \"cartoonist and comics artist\",\n",
    "    \"comics artist and animator\",\n",
    "    \"reggae artist and comedian\",\n",
    "    \"sound installation artist and musician\",\n",
    "    \"artist and potter\",\n",
    "    \"artist and film production illustrator\",\n",
    "    \"multimedia artist and painter\",\n",
    "    \"film animator\",\n",
    "    \"artist photographer\",\n",
    "    \"experimental filmmaker and visual artist\",\n",
    "    \"artist and jewelry designer\",\n",
    "    \"graphic designer and film poster artist\",\n",
    "    \"fetish artist\",\n",
    "    \"avant garde installation artist and sculptor\",\n",
    "    \"courtroom sketch artist\",\n",
    "    \"sketch artist\",\n",
    "    \"caricaturist and comics artist\",\n",
    "    \"Iñupiat artist\",\n",
    "    \"hand shadow artist\",\n",
    "    \"Indigenous artist\",\n",
    "    \"musical Thavil artist\",\n",
    "    \"ceramist and textile artist\",\n",
    "    \"radio presenter and artist\",\n",
    "    \"comics artist and cartoonist\",\n",
    "    \"lianhuanhua artist\",\n",
    "    \"multi media artist\",\n",
    "    \"animator and comics artist\",\n",
    "    \"artist and cultural figure\",\n",
    "    \"typographer and visual artist\",\n",
    "    \"graphic designer and album artist\",\n",
    "    \"pencil artist\",\n",
    "    \"theatre artist and playwright\",\n",
    "    \"comic artist and illustrator\",\n",
    "    \"motorsports artist\",\n",
    "    \"voice over and recording artist\",\n",
    "    \"bassist and artist\",\n",
    "    \"comic creator and cover artist\",\n",
    "    \"tattoo artist and reality show personality\",\n",
    "    \"cartoonist and street artist\",\n",
    "    \"sand artist\",\n",
    "    \"architect and light artist\",\n",
    "    \"media producer and makeup artist\",\n",
    "    \"Kiowa artist\",\n",
    "    \"Peking opera artist\",\n",
    "    \"electronic music artist and MC\",\n",
    "    \"graphic design artist\",\n",
    "    \"impressionist artist\",\n",
    "    \"graphic designer and street artist\",\n",
    "    \"illustrator of children books and cartoon artist\",\n",
    "    \"artist and animator\",\n",
    "    \"record producer and artist\",\n",
    "    \"rock concert graphic poster artist\",\n",
    "    \"land artist\",\n",
    "    \"video and visualization artist\",\n",
    "    \"artist and weaver\",\n",
    "    \"painter and plastic artist\",\n",
    "    \"fantasy gaming artist\",\n",
    "    \"Madhubani painter and artist\",\n",
    "    \"animation director and storyboard artist\",\n",
    "    \"conceptual artist and photographer\",\n",
    "    \"fantasy artist and album cover designer\",\n",
    "    \"design artist and painter\",\n",
    "    \"theatre artiste\",\n",
    "    \"thangka artist\",\n",
    "    \"artist and Alghoza player\",\n",
    "    \"fantasy coffin artist\",\n",
    "    \"film concept artist\",\n",
    "    \"wildlife artist and illustrator\",\n",
    "    \"theatre personality and artist\",\n",
    "    \"visual artist and fashion designer\",\n",
    "    \"artist and fashion designer\",\n",
    "    \"comedic artist\",\n",
    "    \"sculptor and artistic director\",\n",
    "    \"graphic designer and album cover artist\",\n",
    "    \"artist and trading card illustrator\",\n",
    "    \"geometric artist\",\n",
    "    \"founder and artistic director of the Melbourne Theatre Company\",\n",
    "    \"indigenous artist\",\n",
    "    \"artist and book cover illustrator\",\n",
    "    \"punk graphic designer and artistic director\",\n",
    "    \"television host and recording artist\",\n",
    "    \"artistic director and live performance organizer\",\n",
    "    \"weaving artist\",\n",
    "    \"pop and minimalist artist\",\n",
    "    \"dubbing artist\",\n",
    "    \"monumentalist artist\",\n",
    "    \"sound artist and electronic music composer\",\n",
    "    \"highwire artiste\",\n",
    "    \"pixel artist\",\n",
    "    \"conceptual and digital artist\",\n",
    "    \"artist and inventor of the plastic pink flamingo\",\n",
    "    \"batik artist\",\n",
    "    \"enamel artist\",\n",
    "    \"operatic tenor and artistic director\",\n",
    "    \"sound artist and radio presenter\",\n",
    "    \"sound artist\",\n",
    "    \"conductor and artistic director\",\n",
    "    \"graphic artist and designer\",\n",
    "    \"quilt artist\",\n",
    "    \"comic strip artist and cartoonist\",\n",
    "    \"painter and installation artist\",\n",
    "    \"graphic artist and cartoonist\",\n",
    "    \"recording artist and vocalist\",\n",
    "    \"circus artist and animal trainer\",\n",
    "    \"Kunqu artist\",\n",
    "    \"surrealist artist\",\n",
    "    \"harmonism artist\",\n",
    "    \"graphic designer and poster artist\",\n",
    "    \"marine artist\",\n",
    "    \"commercial artist and illustrator\",\n",
    "    \"commercial artist\",\n",
    "    \"plastic artist\",\n",
    "    \"color abstract artist\",\n",
    "    \"special effects make up artist\",\n",
    "    \"underground graffiti artist\",\n",
    "    \"ballet master and artistic director\",\n",
    "    \"animation background artist\",\n",
    "    \"hymnist and visual artist\",\n",
    "    \"recording artist\",\n",
    "    \"visual artist and photographer\",\n",
    "    \"World War II artist\",\n",
    "    \"painter and kinetic artist\",\n",
    "    \"muralist and pictorial artist\",\n",
    "    \"cartoonist and artist\",\n",
    "    \"sculptor and graphic artist\",\n",
    "    \"visual artist and musician\",\n",
    "    \"artists' model\",\n",
    "    \"abstract expressionist artist and\",\n",
    "    \"abstract expressionist artist\",\n",
    "    \"artist and printmaker\",\n",
    "    \"sculptor and installation artist\",\n",
    "    \"installation artist\",\n",
    "    \"filmmaker and artist\",\n",
    "    \"comic book artist and painter\",\n",
    "    \"sculptor and performance artist\",\n",
    "    \"artist and set designer\",\n",
    "    \"comic book artist and editor\",\n",
    "    \"cabaret artist\",\n",
    "    \"environmental artist\",\n",
    "    \"expressionist artist\",\n",
    "    \"comic book and advertising artist\",\n",
    "    \"kinetic artist\",\n",
    "    \"concept artist\",\n",
    "    \"fantasy artist\",\n",
    "    \"heraldic artist\",\n",
    "    \"Ojibwe artist\",\n",
    "    \"First Nations artist\",\n",
    "    \"ballet dancer and artistic director\",\n",
    "    \"mime artist\",\n",
    "    \"contemporary visual artist\",\n",
    "    \"psychedelic poster artist\",\n",
    "    \"tattoo artist\",\n",
    "    \"artist and art critic\",\n",
    "    \"hip hop artist\",\n",
    "    \"forensic artist\",\n",
    "    \"illustrator and comics artist\",\n",
    "    \"Hall of Fame comic book artist\",\n",
    "    \"Inuk artist\",\n",
    "    \"figurative artist\",\n",
    "    \"folk artist\",\n",
    "    \"artist and filmmaker\",\n",
    "    \"voice over artist\",\n",
    "    \"minimalist artist\",\n",
    "    \"artist and graphic designer\",\n",
    "    \"nonconformist artist\",\n",
    "    \"portrait artist\",\n",
    "    \"pottery artist\",\n",
    "    \"film poster artist\",\n",
    "    \"fiber artist\",\n",
    "    \"Kathakali artist\",\n",
    "    \"illustrator and comic book artist\",\n",
    "    \"science fiction artist\",\n",
    "    \"watercolor artist\",\n",
    "    \"comic book artist and cartoonist\",\n",
    "    \"artist and cartoonist\",\n",
    "    \"avant garde artist\",\n",
    "    \"realist painter and graphic artist\",\n",
    "    \"comics artist and illustrator\",\n",
    "    \"ceramics artist\",\n",
    "    \"outsider artist\",\n",
    "    \"architect and artist\",\n",
    "    \"street artist\",\n",
    "    \"video artist and\",\n",
    "    \"video artist\",\n",
    "    \"contemporary artist\",\n",
    "    \"Inuit artist\",\n",
    "    \"painter and artist\",\n",
    "    \"voice artist\",\n",
    "    \"rap artist\",\n",
    "    \"graffiti artist\",\n",
    "    \"special effects artist\",\n",
    "    \"visual effects artist and\",\n",
    "    \"visual effects artist\",\n",
    "    \"and landscape artist\",\n",
    "    \"landscape artist\",\n",
    "    \"stained glass artist\",\n",
    "    \"graphic designer and artist\",\n",
    "    \"designer and artist\",\n",
    "    \"war artist\",\n",
    "    \"comic strip artist\",\n",
    "    \"artistic director\",\n",
    "    \"pop artist\",\n",
    "    \"make up artist and\",\n",
    "    \"make up artist\",\n",
    "    \"comic artist\",\n",
    "    \"wildlife artist\",\n",
    "    \"artist and photographer\",\n",
    "    \"sculptor and artist\",\n",
    "    \"artist and musician\",\n",
    "    \"makeup artist\",\n",
    "    \"artist and architect\",\n",
    "    \"ceramic artist and\",\n",
    "    \"ceramic artist\",\n",
    "    \"glass artist\",\n",
    "    \"textile artist\",\n",
    "    \"artist and designer\",\n",
    "    \"artist and painter\",\n",
    "    \"artist and sculptor\",\n",
    "    \"performance artist and\",\n",
    "    \"and performance artist\",\n",
    "    \"performance artist\",\n",
    "    \"artist and illustrator\",\n",
    "    \"painter and graphic artist\",\n",
    "    \"and graphic artist\",\n",
    "    \"graphic artist and\",\n",
    "    \"graphic artist\",\n",
    "    \"conceptual artist\",\n",
    "    \"abstract artist\",\n",
    "    \"manga artist and\",\n",
    "    \"manga artist\",\n",
    "    \"comics artist and\",\n",
    "    \"and comics artist\",\n",
    "    \"comics artist\",\n",
    "    \"visual artist and art\",\n",
    "    \"and visual artist\",\n",
    "    \"visual artist and\",\n",
    "    \"visual artist\",\n",
    "    \"comic book artist and\",\n",
    "    \"comic book artist\",\n",
    "    \"woodcut artist and\",\n",
    "    \"poster artist and\",\n",
    "    \"poster artist\",\n",
    "    \"and storyboard artist\",\n",
    "    \"storyboard artist\",\n",
    "    \"modern artist and\",\n",
    "    \"and fish skin artist\",\n",
    "    \"and artist\",\n",
    "    \"artist and\",\n",
    "    \"n artist\",\n",
    "    \"music artist\",\n",
    "    \"artist\",\n",
    "]\n",
    "sports = [\n",
    "    \"Muay martial artist\",  # before arts\n",
    "    \"martial artist and Isshinryu karate pioneer\",\n",
    "    \"professional wrestler and mixed martial artist\",\n",
    "    \"martial artist and founder of Modern Arnis\",\n",
    "    \"Olympic artistic gymnast\",\n",
    "    \"professional wrestler and martial artist\",\n",
    "    \"artistic gymnastics coach\",\n",
    "    \"mixed martial artist and kickboxer\",\n",
    "    \"artistic gymnast and Olympian\",\n",
    "    \"mixed martial artist and grappler\",\n",
    "    \"super heavyweight kickboxing champion and mixed martial artist\",\n",
    "    \"Olympic taekwondo martial artist\",\n",
    "    \"mixed martial artist and professional wrestler\",\n",
    "    \"martial artist and teacher\",\n",
    "    \"kickboxer and mixed martial artist\",\n",
    "    \"artistic gymnast\",\n",
    "    \"mixed martial artist\",\n",
    "    \"martial artist and\",\n",
    "    \"and martial artist\",\n",
    "    \"martial artist\",\n",
    "]\n",
    "sciences = []\n",
    "\n",
    "business_farming = []\n",
    "academia_humanities = []\n",
    "law_enf_military_operator = [\n",
    "    \"first civilian to receive the Intelligence Medal of Merit\"\n",
    "]\n",
    "spiritual = [\"modern primitive proponent\"]\n",
    "social = []\n",
    "crime = [\"scam artist\", \"con artist and\", \"art forger\"]  # before arts\n",
    "event_record_other = []\n",
    "other_species = []"
   ]
  },
  {
   "cell_type": "markdown",
   "id": "bfadcbf9",
   "metadata": {},
   "source": [
    "#### Creating `known_for_dict` Dictionary of Category Keys and Specific Role Lists of Values"
   ]
  },
  {
   "cell_type": "code",
   "execution_count": 26,
   "id": "ebc542b7",
   "metadata": {},
   "outputs": [
    {
     "data": {
      "application/javascript": [
       "\n",
       "            setTimeout(function() {\n",
       "                var nbb_cell_id = 26;\n",
       "                var nbb_unformatted_code = \"# Combining separate lists into one dictionary\\nknown_for_dict = {\\n    \\\"social\\\": social,\\n    \\\"spiritual\\\": spiritual,\\n    \\\"academia_humanities\\\": academia_humanities,\\n    \\\"business_farming\\\": business_farming,\\n    \\\"sciences\\\": sciences,\\n    \\\"politics_govt_law\\\": politics_govt_law,\\n    \\\"law_enf_military_operator\\\": law_enf_military_operator,\\n    \\\"crime\\\": crime,\\n    \\\"event_record_other\\\": event_record_other,\\n    \\\"other_species\\\": other_species,\\n    \\\"sports\\\": sports,\\n    \\\"arts\\\": arts,\\n}\";\n",
       "                var nbb_formatted_code = \"# Combining separate lists into one dictionary\\nknown_for_dict = {\\n    \\\"social\\\": social,\\n    \\\"spiritual\\\": spiritual,\\n    \\\"academia_humanities\\\": academia_humanities,\\n    \\\"business_farming\\\": business_farming,\\n    \\\"sciences\\\": sciences,\\n    \\\"politics_govt_law\\\": politics_govt_law,\\n    \\\"law_enf_military_operator\\\": law_enf_military_operator,\\n    \\\"crime\\\": crime,\\n    \\\"event_record_other\\\": event_record_other,\\n    \\\"other_species\\\": other_species,\\n    \\\"sports\\\": sports,\\n    \\\"arts\\\": arts,\\n}\";\n",
       "                var nbb_cells = Jupyter.notebook.get_cells();\n",
       "                for (var i = 0; i < nbb_cells.length; ++i) {\n",
       "                    if (nbb_cells[i].input_prompt_number == nbb_cell_id) {\n",
       "                        if (nbb_cells[i].get_text() == nbb_unformatted_code) {\n",
       "                             nbb_cells[i].set_text(nbb_formatted_code);\n",
       "                        }\n",
       "                        break;\n",
       "                    }\n",
       "                }\n",
       "            }, 500);\n",
       "            "
      ],
      "text/plain": [
       "<IPython.core.display.Javascript object>"
      ]
     },
     "metadata": {},
     "output_type": "display_data"
    }
   ],
   "source": [
    "# Combining separate lists into one dictionary\n",
    "known_for_dict = {\n",
    "    \"social\": social,\n",
    "    \"spiritual\": spiritual,\n",
    "    \"academia_humanities\": academia_humanities,\n",
    "    \"business_farming\": business_farming,\n",
    "    \"sciences\": sciences,\n",
    "    \"politics_govt_law\": politics_govt_law,\n",
    "    \"law_enf_military_operator\": law_enf_military_operator,\n",
    "    \"crime\": crime,\n",
    "    \"event_record_other\": event_record_other,\n",
    "    \"other_species\": other_species,\n",
    "    \"sports\": sports,\n",
    "    \"arts\": arts,\n",
    "}"
   ]
  },
  {
   "cell_type": "markdown",
   "id": "b950db00",
   "metadata": {},
   "source": [
    "#### Extracting Category from `info_2`"
   ]
  },
  {
   "cell_type": "code",
   "execution_count": 27,
   "id": "72c5caac",
   "metadata": {},
   "outputs": [
    {
     "name": "stdout",
     "output_type": "stream",
     "text": [
      "CPU times: total: 3min 57s\n",
      "Wall time: 3min 57s\n"
     ]
    },
    {
     "data": {
      "text/html": [
       "<div>\n",
       "<style scoped>\n",
       "    .dataframe tbody tr th:only-of-type {\n",
       "        vertical-align: middle;\n",
       "    }\n",
       "\n",
       "    .dataframe tbody tr th {\n",
       "        vertical-align: top;\n",
       "    }\n",
       "\n",
       "    .dataframe thead th {\n",
       "        text-align: right;\n",
       "    }\n",
       "</style>\n",
       "<table border=\"1\" class=\"dataframe\">\n",
       "  <thead>\n",
       "    <tr style=\"text-align: right;\">\n",
       "      <th></th>\n",
       "      <th>day</th>\n",
       "      <th>name</th>\n",
       "      <th>info</th>\n",
       "      <th>link</th>\n",
       "      <th>num_references</th>\n",
       "      <th>year</th>\n",
       "      <th>month</th>\n",
       "      <th>info_parenth</th>\n",
       "      <th>info_1</th>\n",
       "      <th>info_2</th>\n",
       "      <th>info_3</th>\n",
       "      <th>info_4</th>\n",
       "      <th>info_5</th>\n",
       "      <th>info_6</th>\n",
       "      <th>info_7</th>\n",
       "      <th>info_8</th>\n",
       "      <th>info_9</th>\n",
       "      <th>info_10</th>\n",
       "      <th>info_11</th>\n",
       "      <th>age</th>\n",
       "      <th>cause_of_death</th>\n",
       "      <th>place_1</th>\n",
       "      <th>place_2</th>\n",
       "      <th>info_parenth_copy</th>\n",
       "      <th>log_num_references</th>\n",
       "      <th>sciences</th>\n",
       "      <th>social</th>\n",
       "      <th>spiritual</th>\n",
       "      <th>academia_humanities</th>\n",
       "      <th>business_farming</th>\n",
       "      <th>arts</th>\n",
       "      <th>sports</th>\n",
       "      <th>law_enf_military_operator</th>\n",
       "      <th>politics_govt_law</th>\n",
       "      <th>crime</th>\n",
       "      <th>event_record_other</th>\n",
       "      <th>other_species</th>\n",
       "      <th>num_categories</th>\n",
       "    </tr>\n",
       "  </thead>\n",
       "  <tbody>\n",
       "    <tr>\n",
       "      <th>27042</th>\n",
       "      <td>4</td>\n",
       "      <td>Richard Van Allan</td>\n",
       "      <td>, 73, British opera singer, lung cancer.</td>\n",
       "      <td>https://en.wikipedia.org/wiki/Richard_Van_Allan</td>\n",
       "      <td>5</td>\n",
       "      <td>2008</td>\n",
       "      <td>December</td>\n",
       "      <td>None</td>\n",
       "      <td>None</td>\n",
       "      <td></td>\n",
       "      <td>lung cancer</td>\n",
       "      <td>None</td>\n",
       "      <td>None</td>\n",
       "      <td>None</td>\n",
       "      <td>None</td>\n",
       "      <td>None</td>\n",
       "      <td>None</td>\n",
       "      <td>None</td>\n",
       "      <td>None</td>\n",
       "      <td>73.0</td>\n",
       "      <td>None</td>\n",
       "      <td>United Kingdom of Great Britain and Northern Ireland</td>\n",
       "      <td>None</td>\n",
       "      <td>None</td>\n",
       "      <td>1.791759</td>\n",
       "      <td>0</td>\n",
       "      <td>0</td>\n",
       "      <td>0</td>\n",
       "      <td>0</td>\n",
       "      <td>0</td>\n",
       "      <td>1</td>\n",
       "      <td>0</td>\n",
       "      <td>0</td>\n",
       "      <td>0</td>\n",
       "      <td>0</td>\n",
       "      <td>0</td>\n",
       "      <td>0</td>\n",
       "      <td>1</td>\n",
       "    </tr>\n",
       "    <tr>\n",
       "      <th>74919</th>\n",
       "      <td>22</td>\n",
       "      <td>Surya Prakash</td>\n",
       "      <td>, 79, Indian artist.</td>\n",
       "      <td>https://en.wikipedia.org/wiki/Surya_Prakash_(artist)</td>\n",
       "      <td>4</td>\n",
       "      <td>2019</td>\n",
       "      <td>May</td>\n",
       "      <td>None</td>\n",
       "      <td>None</td>\n",
       "      <td></td>\n",
       "      <td>None</td>\n",
       "      <td>None</td>\n",
       "      <td>None</td>\n",
       "      <td>None</td>\n",
       "      <td>None</td>\n",
       "      <td>None</td>\n",
       "      <td>None</td>\n",
       "      <td>None</td>\n",
       "      <td>None</td>\n",
       "      <td>79.0</td>\n",
       "      <td>None</td>\n",
       "      <td>India</td>\n",
       "      <td>None</td>\n",
       "      <td>None</td>\n",
       "      <td>1.609438</td>\n",
       "      <td>0</td>\n",
       "      <td>0</td>\n",
       "      <td>0</td>\n",
       "      <td>0</td>\n",
       "      <td>0</td>\n",
       "      <td>1</td>\n",
       "      <td>0</td>\n",
       "      <td>0</td>\n",
       "      <td>0</td>\n",
       "      <td>0</td>\n",
       "      <td>0</td>\n",
       "      <td>0</td>\n",
       "      <td>1</td>\n",
       "    </tr>\n",
       "  </tbody>\n",
       "</table>\n",
       "</div>"
      ],
      "text/plain": [
       "      day               name                                      info  \\\n",
       "27042   4  Richard Van Allan  , 73, British opera singer, lung cancer.   \n",
       "74919  22      Surya Prakash                      , 79, Indian artist.   \n",
       "\n",
       "                                                       link  num_references  \\\n",
       "27042       https://en.wikipedia.org/wiki/Richard_Van_Allan               5   \n",
       "74919  https://en.wikipedia.org/wiki/Surya_Prakash_(artist)               4   \n",
       "\n",
       "       year     month info_parenth info_1 info_2       info_3 info_4 info_5  \\\n",
       "27042  2008  December         None   None         lung cancer   None   None   \n",
       "74919  2019       May         None   None                None   None   None   \n",
       "\n",
       "      info_6 info_7 info_8 info_9 info_10 info_11   age cause_of_death  \\\n",
       "27042   None   None   None   None    None    None  73.0           None   \n",
       "74919   None   None   None   None    None    None  79.0           None   \n",
       "\n",
       "                                                    place_1 place_2  \\\n",
       "27042  United Kingdom of Great Britain and Northern Ireland    None   \n",
       "74919                                                 India    None   \n",
       "\n",
       "      info_parenth_copy  log_num_references  sciences  social  spiritual  \\\n",
       "27042              None            1.791759         0       0          0   \n",
       "74919              None            1.609438         0       0          0   \n",
       "\n",
       "       academia_humanities  business_farming  arts  sports  \\\n",
       "27042                    0                 0     1       0   \n",
       "74919                    0                 0     1       0   \n",
       "\n",
       "       law_enf_military_operator  politics_govt_law  crime  \\\n",
       "27042                          0                  0      0   \n",
       "74919                          0                  0      0   \n",
       "\n",
       "       event_record_other  other_species  num_categories  \n",
       "27042                   0              0               1  \n",
       "74919                   0              0               1  "
      ]
     },
     "execution_count": 27,
     "metadata": {},
     "output_type": "execute_result"
    },
    {
     "data": {
      "application/javascript": [
       "\n",
       "            setTimeout(function() {\n",
       "                var nbb_cell_id = 27;\n",
       "                var nbb_unformatted_code = \"%%time\\n\\n# Dictionary version\\nsearch_dict = known_for_dict\\n\\n# Column to check\\ncolumn = 'info_2'\\n\\n# Dataframe\\ndataframe = df[column].notna()\\n\\n# For loop to find role in column and extract it as category\\nfor category, category_lst in search_dict.items():\\n    for role in category_lst:\\n        for index in dataframe.index:\\n            item = df.loc[index, column]\\n            if item:\\n                if role in item:\\n                    df.loc[index, category] = 1\\n                    df.loc[index, column] = item.replace(role, '').strip()\\n\\n                    \\n# Updating num_categories\\ndf[\\\"num_categories\\\"] = df[known_for_dict.keys()].sum(axis=1)\\n\\n# Checking a sample of rows\\ndf[df['arts'] ==1].sample(2)\";\n",
       "                var nbb_formatted_code = \"%%time\\n\\n# Dictionary version\\nsearch_dict = known_for_dict\\n\\n# Column to check\\ncolumn = 'info_2'\\n\\n# Dataframe\\ndataframe = df[column].notna()\\n\\n# For loop to find role in column and extract it as category\\nfor category, category_lst in search_dict.items():\\n    for role in category_lst:\\n        for index in dataframe.index:\\n            item = df.loc[index, column]\\n            if item:\\n                if role in item:\\n                    df.loc[index, category] = 1\\n                    df.loc[index, column] = item.replace(role, '').strip()\\n\\n                    \\n# Updating num_categories\\ndf[\\\"num_categories\\\"] = df[known_for_dict.keys()].sum(axis=1)\\n\\n# Checking a sample of rows\\ndf[df['arts'] ==1].sample(2)\";\n",
       "                var nbb_cells = Jupyter.notebook.get_cells();\n",
       "                for (var i = 0; i < nbb_cells.length; ++i) {\n",
       "                    if (nbb_cells[i].input_prompt_number == nbb_cell_id) {\n",
       "                        if (nbb_cells[i].get_text() == nbb_unformatted_code) {\n",
       "                             nbb_cells[i].set_text(nbb_formatted_code);\n",
       "                        }\n",
       "                        break;\n",
       "                    }\n",
       "                }\n",
       "            }, 500);\n",
       "            "
      ],
      "text/plain": [
       "<IPython.core.display.Javascript object>"
      ]
     },
     "metadata": {},
     "output_type": "display_data"
    }
   ],
   "source": [
    "%%time\n",
    "\n",
    "# Dictionary version\n",
    "search_dict = known_for_dict\n",
    "\n",
    "# Column to check\n",
    "column = 'info_2'\n",
    "\n",
    "# Dataframe\n",
    "dataframe = df[column].notna()\n",
    "\n",
    "# For loop to find role in column and extract it as category\n",
    "for category, category_lst in search_dict.items():\n",
    "    for role in category_lst:\n",
    "        for index in dataframe.index:\n",
    "            item = df.loc[index, column]\n",
    "            if item:\n",
    "                if role in item:\n",
    "                    df.loc[index, category] = 1\n",
    "                    df.loc[index, column] = item.replace(role, '').strip()\n",
    "\n",
    "                    \n",
    "# Updating num_categories\n",
    "df[\"num_categories\"] = df[known_for_dict.keys()].sum(axis=1)\n",
    "\n",
    "# Checking a sample of rows\n",
    "df[df['arts'] ==1].sample(2)"
   ]
  },
  {
   "cell_type": "markdown",
   "id": "22dddcc6",
   "metadata": {},
   "source": [
    "#### Checking the Number of Rows without a First Category"
   ]
  },
  {
   "cell_type": "code",
   "execution_count": 28,
   "id": "0e5d40dd",
   "metadata": {},
   "outputs": [
    {
     "name": "stdout",
     "output_type": "stream",
     "text": [
      "There are 51956 entries without any known_for category.\n"
     ]
    },
    {
     "data": {
      "application/javascript": [
       "\n",
       "            setTimeout(function() {\n",
       "                var nbb_cell_id = 28;\n",
       "                var nbb_unformatted_code = \"#### Checking the number of rows without a first category\\nprint(\\n    f'There are {len(df[df[\\\"num_categories\\\"]==0])} entries without any known_for category.'\\n)\";\n",
       "                var nbb_formatted_code = \"#### Checking the number of rows without a first category\\nprint(\\n    f'There are {len(df[df[\\\"num_categories\\\"]==0])} entries without any known_for category.'\\n)\";\n",
       "                var nbb_cells = Jupyter.notebook.get_cells();\n",
       "                for (var i = 0; i < nbb_cells.length; ++i) {\n",
       "                    if (nbb_cells[i].input_prompt_number == nbb_cell_id) {\n",
       "                        if (nbb_cells[i].get_text() == nbb_unformatted_code) {\n",
       "                             nbb_cells[i].set_text(nbb_formatted_code);\n",
       "                        }\n",
       "                        break;\n",
       "                    }\n",
       "                }\n",
       "            }, 500);\n",
       "            "
      ],
      "text/plain": [
       "<IPython.core.display.Javascript object>"
      ]
     },
     "metadata": {},
     "output_type": "display_data"
    }
   ],
   "source": [
    "#### Checking the number of rows without a first category\n",
    "print(\n",
    "    f'There are {len(df[df[\"num_categories\"]==0])} entries without any known_for category.'\n",
    ")"
   ]
  },
  {
   "cell_type": "markdown",
   "id": "3eb16cd5",
   "metadata": {},
   "source": [
    "#### Observations:\n",
    "- We will proceed to rebuild `known_for_dict` for the next iteration."
   ]
  },
  {
   "cell_type": "markdown",
   "id": "9eae8bd5",
   "metadata": {},
   "source": [
    "#### Finding `known_for` Roles in `info_2`"
   ]
  },
  {
   "cell_type": "code",
   "execution_count": 29,
   "id": "12c1e6f3",
   "metadata": {},
   "outputs": [
    {
     "data": {
      "application/javascript": [
       "\n",
       "            setTimeout(function() {\n",
       "                var nbb_cell_id = 29;\n",
       "                var nbb_unformatted_code = \"# Obtaining values for column and their counts\\nroles_list = df[\\\"info_2\\\"].value_counts(ascending=True).index.tolist()\";\n",
       "                var nbb_formatted_code = \"# Obtaining values for column and their counts\\nroles_list = df[\\\"info_2\\\"].value_counts(ascending=True).index.tolist()\";\n",
       "                var nbb_cells = Jupyter.notebook.get_cells();\n",
       "                for (var i = 0; i < nbb_cells.length; ++i) {\n",
       "                    if (nbb_cells[i].input_prompt_number == nbb_cell_id) {\n",
       "                        if (nbb_cells[i].get_text() == nbb_unformatted_code) {\n",
       "                             nbb_cells[i].set_text(nbb_formatted_code);\n",
       "                        }\n",
       "                        break;\n",
       "                    }\n",
       "                }\n",
       "            }, 500);\n",
       "            "
      ],
      "text/plain": [
       "<IPython.core.display.Javascript object>"
      ]
     },
     "metadata": {},
     "output_type": "display_data"
    }
   ],
   "source": [
    "# Obtaining values for column and their counts\n",
    "roles_list = df[\"info_2\"].value_counts(ascending=True).index.tolist()"
   ]
  },
  {
   "cell_type": "code",
   "execution_count": 30,
   "id": "f8450226",
   "metadata": {},
   "outputs": [
    {
     "data": {
      "application/javascript": [
       "\n",
       "            setTimeout(function() {\n",
       "                var nbb_cell_id = 30;\n",
       "                var nbb_unformatted_code = \"# # Code to check each value\\n# roles_list.pop()\";\n",
       "                var nbb_formatted_code = \"# # Code to check each value\\n# roles_list.pop()\";\n",
       "                var nbb_cells = Jupyter.notebook.get_cells();\n",
       "                for (var i = 0; i < nbb_cells.length; ++i) {\n",
       "                    if (nbb_cells[i].input_prompt_number == nbb_cell_id) {\n",
       "                        if (nbb_cells[i].get_text() == nbb_unformatted_code) {\n",
       "                             nbb_cells[i].set_text(nbb_formatted_code);\n",
       "                        }\n",
       "                        break;\n",
       "                    }\n",
       "                }\n",
       "            }, 500);\n",
       "            "
      ],
      "text/plain": [
       "<IPython.core.display.Javascript object>"
      ]
     },
     "metadata": {},
     "output_type": "display_data"
    }
   ],
   "source": [
    "# # Code to check each value\n",
    "# roles_list.pop()"
   ]
  },
  {
   "cell_type": "code",
   "execution_count": 31,
   "id": "6af3fbdb",
   "metadata": {},
   "outputs": [
    {
     "data": {
      "application/javascript": [
       "\n",
       "            setTimeout(function() {\n",
       "                var nbb_cell_id = 31;\n",
       "                var nbb_unformatted_code = \"# # Create specific_roles_list for above popped value\\n# specific_roles_list = (\\n#     df.loc[\\n#         [index for index in df.index if \\\"painter\\\" in df.loc[index, \\\"info\\\"]], \\\"info_2\\\",\\n#     ]\\n#     .value_counts()\\n#     .index.tolist()\\n# )\";\n",
       "                var nbb_formatted_code = \"# # Create specific_roles_list for above popped value\\n# specific_roles_list = (\\n#     df.loc[\\n#         [index for index in df.index if \\\"painter\\\" in df.loc[index, \\\"info\\\"]], \\\"info_2\\\",\\n#     ]\\n#     .value_counts()\\n#     .index.tolist()\\n# )\";\n",
       "                var nbb_cells = Jupyter.notebook.get_cells();\n",
       "                for (var i = 0; i < nbb_cells.length; ++i) {\n",
       "                    if (nbb_cells[i].input_prompt_number == nbb_cell_id) {\n",
       "                        if (nbb_cells[i].get_text() == nbb_unformatted_code) {\n",
       "                             nbb_cells[i].set_text(nbb_formatted_code);\n",
       "                        }\n",
       "                        break;\n",
       "                    }\n",
       "                }\n",
       "            }, 500);\n",
       "            "
      ],
      "text/plain": [
       "<IPython.core.display.Javascript object>"
      ]
     },
     "metadata": {},
     "output_type": "display_data"
    }
   ],
   "source": [
    "# # Create specific_roles_list for above popped value\n",
    "# specific_roles_list = (\n",
    "#     df.loc[\n",
    "#         [index for index in df.index if \"painter\" in df.loc[index, \"info\"]], \"info_2\",\n",
    "#     ]\n",
    "#     .value_counts()\n",
    "#     .index.tolist()\n",
    "# )"
   ]
  },
  {
   "cell_type": "code",
   "execution_count": 32,
   "id": "b5ebd939",
   "metadata": {},
   "outputs": [
    {
     "data": {
      "application/javascript": [
       "\n",
       "            setTimeout(function() {\n",
       "                var nbb_cell_id = 32;\n",
       "                var nbb_unformatted_code = \"# # Code to check each specific value\\n# specific_roles_list.pop()\";\n",
       "                var nbb_formatted_code = \"# # Code to check each specific value\\n# specific_roles_list.pop()\";\n",
       "                var nbb_cells = Jupyter.notebook.get_cells();\n",
       "                for (var i = 0; i < nbb_cells.length; ++i) {\n",
       "                    if (nbb_cells[i].input_prompt_number == nbb_cell_id) {\n",
       "                        if (nbb_cells[i].get_text() == nbb_unformatted_code) {\n",
       "                             nbb_cells[i].set_text(nbb_formatted_code);\n",
       "                        }\n",
       "                        break;\n",
       "                    }\n",
       "                }\n",
       "            }, 500);\n",
       "            "
      ],
      "text/plain": [
       "<IPython.core.display.Javascript object>"
      ]
     },
     "metadata": {},
     "output_type": "display_data"
    }
   ],
   "source": [
    "# # Code to check each specific value\n",
    "# specific_roles_list.pop()"
   ]
  },
  {
   "cell_type": "code",
   "execution_count": 33,
   "id": "93afe8df",
   "metadata": {},
   "outputs": [
    {
     "data": {
      "application/javascript": [
       "\n",
       "            setTimeout(function() {\n",
       "                var nbb_cell_id = 33;\n",
       "                var nbb_unformatted_code = \"# # Example code to quick-screen values that may overlap categories\\n# df.loc[[index for index in df.index if \\\"provocateur\\\" in df.loc[index, \\\"info\\\"]]]\";\n",
       "                var nbb_formatted_code = \"# # Example code to quick-screen values that may overlap categories\\n# df.loc[[index for index in df.index if \\\"provocateur\\\" in df.loc[index, \\\"info\\\"]]]\";\n",
       "                var nbb_cells = Jupyter.notebook.get_cells();\n",
       "                for (var i = 0; i < nbb_cells.length; ++i) {\n",
       "                    if (nbb_cells[i].input_prompt_number == nbb_cell_id) {\n",
       "                        if (nbb_cells[i].get_text() == nbb_unformatted_code) {\n",
       "                             nbb_cells[i].set_text(nbb_formatted_code);\n",
       "                        }\n",
       "                        break;\n",
       "                    }\n",
       "                }\n",
       "            }, 500);\n",
       "            "
      ],
      "text/plain": [
       "<IPython.core.display.Javascript object>"
      ]
     },
     "metadata": {},
     "output_type": "display_data"
    }
   ],
   "source": [
    "# # Example code to quick-screen values that may overlap categories\n",
    "# df.loc[[index for index in df.index if \"provocateur\" in df.loc[index, \"info\"]]]"
   ]
  },
  {
   "cell_type": "code",
   "execution_count": 34,
   "id": "475836d6",
   "metadata": {},
   "outputs": [
    {
     "data": {
      "application/javascript": [
       "\n",
       "            setTimeout(function() {\n",
       "                var nbb_cell_id = 34;\n",
       "                var nbb_unformatted_code = \"# # Example code to quick-screen values that may overlap categories\\n# df.loc[\\n#     [\\n#         index\\n#         for index in df.index\\n#         if \\\"outlaw country music singer songwriter\\\" in df.loc[index, \\\"info\\\"]\\n#     ]\\n# ]\";\n",
       "                var nbb_formatted_code = \"# # Example code to quick-screen values that may overlap categories\\n# df.loc[\\n#     [\\n#         index\\n#         for index in df.index\\n#         if \\\"outlaw country music singer songwriter\\\" in df.loc[index, \\\"info\\\"]\\n#     ]\\n# ]\";\n",
       "                var nbb_cells = Jupyter.notebook.get_cells();\n",
       "                for (var i = 0; i < nbb_cells.length; ++i) {\n",
       "                    if (nbb_cells[i].input_prompt_number == nbb_cell_id) {\n",
       "                        if (nbb_cells[i].get_text() == nbb_unformatted_code) {\n",
       "                             nbb_cells[i].set_text(nbb_formatted_code);\n",
       "                        }\n",
       "                        break;\n",
       "                    }\n",
       "                }\n",
       "            }, 500);\n",
       "            "
      ],
      "text/plain": [
       "<IPython.core.display.Javascript object>"
      ]
     },
     "metadata": {},
     "output_type": "display_data"
    }
   ],
   "source": [
    "# # Example code to quick-screen values that may overlap categories\n",
    "# df.loc[\n",
    "#     [\n",
    "#         index\n",
    "#         for index in df.index\n",
    "#         if \"outlaw country music singer songwriter\" in df.loc[index, \"info\"]\n",
    "#     ]\n",
    "# ]"
   ]
  },
  {
   "cell_type": "code",
   "execution_count": 35,
   "id": "0f9be695",
   "metadata": {},
   "outputs": [
    {
     "data": {
      "application/javascript": [
       "\n",
       "            setTimeout(function() {\n",
       "                var nbb_cell_id = 35;\n",
       "                var nbb_unformatted_code = \"# # Example code to quick-check a specific entry\\n# df[df[\\\"info_2\\\"] == \\\"painter and chess composer\\\"]\";\n",
       "                var nbb_formatted_code = \"# # Example code to quick-check a specific entry\\n# df[df[\\\"info_2\\\"] == \\\"painter and chess composer\\\"]\";\n",
       "                var nbb_cells = Jupyter.notebook.get_cells();\n",
       "                for (var i = 0; i < nbb_cells.length; ++i) {\n",
       "                    if (nbb_cells[i].input_prompt_number == nbb_cell_id) {\n",
       "                        if (nbb_cells[i].get_text() == nbb_unformatted_code) {\n",
       "                             nbb_cells[i].set_text(nbb_formatted_code);\n",
       "                        }\n",
       "                        break;\n",
       "                    }\n",
       "                }\n",
       "            }, 500);\n",
       "            "
      ],
      "text/plain": [
       "<IPython.core.display.Javascript object>"
      ]
     },
     "metadata": {},
     "output_type": "display_data"
    }
   ],
   "source": [
    "# # Example code to quick-check a specific entry\n",
    "# df[df[\"info_2\"] == \"painter and chess composer\"]"
   ]
  },
  {
   "cell_type": "markdown",
   "id": "f2b2bc27",
   "metadata": {},
   "source": [
    "#### Creating Lists for Each `known_for` Category"
   ]
  },
  {
   "cell_type": "code",
   "execution_count": 36,
   "id": "ce4cd9d9",
   "metadata": {},
   "outputs": [
    {
     "data": {
      "application/javascript": [
       "\n",
       "            setTimeout(function() {\n",
       "                var nbb_cell_id = 36;\n",
       "                var nbb_unformatted_code = \"# Creating lists for each category\\npolitics_govt_law = [\\n    \\\"provocateur\\\",\\n]\\n\\narts = [\\n    \\\"painter and drawer\\\",\\n    \\\"Native painter\\\",\\n    \\\"rock musician and painter\\\",\\n    \\\"na\\u00efve painter\\\",\\n    \\\"Puerto Ricanpainter and art\\\",\\n    \\\"playwright and painter\\\",\\n    \\\"born painter\\\",\\n    \\\"architect and painter\\\",\\n    \\\"engraver and painter\\\",\\n    \\\"outback painter\\\",\\n    \\\"Cubist painter\\\",\\n    \\\"cityscape painter\\\",\\n    \\\"painter and Cultural Medallion winner\\\",\\n    \\\"film critic and painter\\\",\\n    \\\"art critic and surrealist painter\\\",\\n    \\\"painter of mystical Jewish works\\\",\\n    \\\"color field painter\\\",\\n    \\\"painter and lecturer\\\",\\n    \\\"Andalusian painter and illustrator\\\",\\n    \\\"painter and glass sculptor\\\",\\n    \\\"aboriginal painter\\\",\\n    \\\"Delftware painter\\\",\\n    \\\"barn painter\\\",\\n    \\\"abstract painter and printmaker\\\",\\n    \\\"figurative painter and arts\\\",\\n    \\\"television painter\\\",\\n    \\\"draughtsman and painter\\\",\\n    \\\"mixed media painter\\\",\\n    \\\"enameller and painter\\\",\\n    \\\"landscape painter and watercolorist\\\",\\n    \\\"painter and watercolorist\\\",\\n    \\\"painter and television host\\\",\\n    \\\"folk art painter\\\",\\n    \\\"portrait painter and sculptor\\\",\\n    \\\"Realist painter\\\",\\n    \\\"Y\\u014dga painter\\\",\\n    \\\"photographer and portrait painter\\\",\\n    \\\"portrait and landscape painter\\\",\\n    \\\"figurative painter and draftsman\\\",\\n    \\\"painter and prot\\u00e9g\\u00e9 of Pablo Picasso\\\",\\n    \\\"painter and calligrapher\\\",\\n    \\\"painter and ceramicist\\\",\\n    \\\"painter and scenographer\\\",\\n    \\\"watercolour painter\\\",\\n    \\\"painter and draftsman\\\",\\n    \\\"animator and painter\\\",\\n    \\\"painter and weaver\\\",\\n    \\\"painter and lithographer\\\",\\n    \\\"painter and cartoonist\\\",\\n    \\\"Ojibwe painter\\\",\\n    \\\"cartoonist and painter\\\",\\n    \\\"stage designer and painter\\\",\\n    \\\"surrealistic painter\\\",\\n    \\\"painter and cinematographer\\\",\\n    \\\"painter and draughtsman\\\",\\n    \\\"painter and theatre director\\\",\\n    \\\"icon painter\\\",\\n    \\\"Coptic painter\\\",\\n    \\\"fashion designer and painter\\\",\\n    \\\"designer and painter\\\",\\n    \\\"composer and painter\\\",\\n    \\\"signpainter\\\",\\n    \\\"painter and television presenter\\\",\\n    \\\"representational painter\\\",\\n    \\\"painter and print maker\\\",\\n    \\\"figurative painter\\\",\\n    \\\"painter and animator\\\",\\n    \\\"abstract painter and print maker\\\",\\n    \\\"painter and composer\\\",\\n    \\\"painter and children book illustrator\\\",\\n    \\\"art critic and painter\\\",\\n    \\\"painter of themes\\\",\\n    \\\"yodeler and painter\\\",\\n    \\\"geometric abstractionist painter\\\",\\n    \\\"scenographer and painter\\\",\\n    \\\"impressionist painter\\\",\\n    \\\"Yolngu painter\\\",\\n    \\\"painter and ceramist\\\",\\n    \\\"magic realist painter\\\",\\n    \\\"painter and dancer\\\",\\n    \\\"photorealist painter\\\",\\n    \\\"watercolor painter\\\",\\n    \\\"jazz musician and painter\\\",\\n    \\\"musician and painter\\\",\\n    \\\"painter and graphic designer\\\",\\n    \\\"modernist painter\\\",\\n    \\\"muralist and painter\\\",\\n    \\\"avant garde painter\\\",\\n    \\\"COBRA painter\\\",\\n    \\\"painter and muralist\\\",\\n    \\\"abstract painter and sculptor\\\",\\n    \\\"painter and novelist\\\",\\n    \\\"painter and musician\\\",\\n    \\\"photographer and painter\\\",\\n    \\\"portrait painter\\\",\\n    \\\"painter and designer\\\",\\n    \\\"and realist painter\\\",\\n    \\\"realist painter and\\\",\\n    \\\"surrealist painter\\\",\\n    \\\"realist painter\\\",\\n    \\\"illustrator and painter\\\",\\n    \\\"abstract expressionist painter\\\",\\n    \\\"expressionist painter\\\",\\n    \\\"landscape painter\\\",\\n    \\\"painter and engraver\\\",\\n    \\\"painter and photographer\\\",\\n    \\\"painter and illustrator\\\",\\n    \\\"abstract painter\\\",\\n    \\\"sculptor and painter\\\",\\n    \\\"painter and printmaker\\\",\\n    \\\"painter and sculptor\\\",\\n    \\\"painter and\\\",\\n    \\\"and painter\\\",\\n    \\\"painter\\\",\\n]\\nsports = [\\\"chess composer\\\"]\\nsciences = []\\n\\nbusiness_farming = []\\nacademia_humanities = [\\\"theatre school director\\\"]\\nlaw_enf_military_operator = []\\nspiritual = []\\nsocial = []\\ncrime = []\\nevent_record_other = []\\nother_species = []\";\n",
       "                var nbb_formatted_code = \"# Creating lists for each category\\npolitics_govt_law = [\\n    \\\"provocateur\\\",\\n]\\n\\narts = [\\n    \\\"painter and drawer\\\",\\n    \\\"Native painter\\\",\\n    \\\"rock musician and painter\\\",\\n    \\\"na\\u00efve painter\\\",\\n    \\\"Puerto Ricanpainter and art\\\",\\n    \\\"playwright and painter\\\",\\n    \\\"born painter\\\",\\n    \\\"architect and painter\\\",\\n    \\\"engraver and painter\\\",\\n    \\\"outback painter\\\",\\n    \\\"Cubist painter\\\",\\n    \\\"cityscape painter\\\",\\n    \\\"painter and Cultural Medallion winner\\\",\\n    \\\"film critic and painter\\\",\\n    \\\"art critic and surrealist painter\\\",\\n    \\\"painter of mystical Jewish works\\\",\\n    \\\"color field painter\\\",\\n    \\\"painter and lecturer\\\",\\n    \\\"Andalusian painter and illustrator\\\",\\n    \\\"painter and glass sculptor\\\",\\n    \\\"aboriginal painter\\\",\\n    \\\"Delftware painter\\\",\\n    \\\"barn painter\\\",\\n    \\\"abstract painter and printmaker\\\",\\n    \\\"figurative painter and arts\\\",\\n    \\\"television painter\\\",\\n    \\\"draughtsman and painter\\\",\\n    \\\"mixed media painter\\\",\\n    \\\"enameller and painter\\\",\\n    \\\"landscape painter and watercolorist\\\",\\n    \\\"painter and watercolorist\\\",\\n    \\\"painter and television host\\\",\\n    \\\"folk art painter\\\",\\n    \\\"portrait painter and sculptor\\\",\\n    \\\"Realist painter\\\",\\n    \\\"Y\\u014dga painter\\\",\\n    \\\"photographer and portrait painter\\\",\\n    \\\"portrait and landscape painter\\\",\\n    \\\"figurative painter and draftsman\\\",\\n    \\\"painter and prot\\u00e9g\\u00e9 of Pablo Picasso\\\",\\n    \\\"painter and calligrapher\\\",\\n    \\\"painter and ceramicist\\\",\\n    \\\"painter and scenographer\\\",\\n    \\\"watercolour painter\\\",\\n    \\\"painter and draftsman\\\",\\n    \\\"animator and painter\\\",\\n    \\\"painter and weaver\\\",\\n    \\\"painter and lithographer\\\",\\n    \\\"painter and cartoonist\\\",\\n    \\\"Ojibwe painter\\\",\\n    \\\"cartoonist and painter\\\",\\n    \\\"stage designer and painter\\\",\\n    \\\"surrealistic painter\\\",\\n    \\\"painter and cinematographer\\\",\\n    \\\"painter and draughtsman\\\",\\n    \\\"painter and theatre director\\\",\\n    \\\"icon painter\\\",\\n    \\\"Coptic painter\\\",\\n    \\\"fashion designer and painter\\\",\\n    \\\"designer and painter\\\",\\n    \\\"composer and painter\\\",\\n    \\\"signpainter\\\",\\n    \\\"painter and television presenter\\\",\\n    \\\"representational painter\\\",\\n    \\\"painter and print maker\\\",\\n    \\\"figurative painter\\\",\\n    \\\"painter and animator\\\",\\n    \\\"abstract painter and print maker\\\",\\n    \\\"painter and composer\\\",\\n    \\\"painter and children book illustrator\\\",\\n    \\\"art critic and painter\\\",\\n    \\\"painter of themes\\\",\\n    \\\"yodeler and painter\\\",\\n    \\\"geometric abstractionist painter\\\",\\n    \\\"scenographer and painter\\\",\\n    \\\"impressionist painter\\\",\\n    \\\"Yolngu painter\\\",\\n    \\\"painter and ceramist\\\",\\n    \\\"magic realist painter\\\",\\n    \\\"painter and dancer\\\",\\n    \\\"photorealist painter\\\",\\n    \\\"watercolor painter\\\",\\n    \\\"jazz musician and painter\\\",\\n    \\\"musician and painter\\\",\\n    \\\"painter and graphic designer\\\",\\n    \\\"modernist painter\\\",\\n    \\\"muralist and painter\\\",\\n    \\\"avant garde painter\\\",\\n    \\\"COBRA painter\\\",\\n    \\\"painter and muralist\\\",\\n    \\\"abstract painter and sculptor\\\",\\n    \\\"painter and novelist\\\",\\n    \\\"painter and musician\\\",\\n    \\\"photographer and painter\\\",\\n    \\\"portrait painter\\\",\\n    \\\"painter and designer\\\",\\n    \\\"and realist painter\\\",\\n    \\\"realist painter and\\\",\\n    \\\"surrealist painter\\\",\\n    \\\"realist painter\\\",\\n    \\\"illustrator and painter\\\",\\n    \\\"abstract expressionist painter\\\",\\n    \\\"expressionist painter\\\",\\n    \\\"landscape painter\\\",\\n    \\\"painter and engraver\\\",\\n    \\\"painter and photographer\\\",\\n    \\\"painter and illustrator\\\",\\n    \\\"abstract painter\\\",\\n    \\\"sculptor and painter\\\",\\n    \\\"painter and printmaker\\\",\\n    \\\"painter and sculptor\\\",\\n    \\\"painter and\\\",\\n    \\\"and painter\\\",\\n    \\\"painter\\\",\\n]\\nsports = [\\\"chess composer\\\"]\\nsciences = []\\n\\nbusiness_farming = []\\nacademia_humanities = [\\\"theatre school director\\\"]\\nlaw_enf_military_operator = []\\nspiritual = []\\nsocial = []\\ncrime = []\\nevent_record_other = []\\nother_species = []\";\n",
       "                var nbb_cells = Jupyter.notebook.get_cells();\n",
       "                for (var i = 0; i < nbb_cells.length; ++i) {\n",
       "                    if (nbb_cells[i].input_prompt_number == nbb_cell_id) {\n",
       "                        if (nbb_cells[i].get_text() == nbb_unformatted_code) {\n",
       "                             nbb_cells[i].set_text(nbb_formatted_code);\n",
       "                        }\n",
       "                        break;\n",
       "                    }\n",
       "                }\n",
       "            }, 500);\n",
       "            "
      ],
      "text/plain": [
       "<IPython.core.display.Javascript object>"
      ]
     },
     "metadata": {},
     "output_type": "display_data"
    }
   ],
   "source": [
    "# Creating lists for each category\n",
    "politics_govt_law = [\n",
    "    \"provocateur\",\n",
    "]\n",
    "\n",
    "arts = [\n",
    "    \"painter and drawer\",\n",
    "    \"Native painter\",\n",
    "    \"rock musician and painter\",\n",
    "    \"naïve painter\",\n",
    "    \"Puerto Ricanpainter and art\",\n",
    "    \"playwright and painter\",\n",
    "    \"born painter\",\n",
    "    \"architect and painter\",\n",
    "    \"engraver and painter\",\n",
    "    \"outback painter\",\n",
    "    \"Cubist painter\",\n",
    "    \"cityscape painter\",\n",
    "    \"painter and Cultural Medallion winner\",\n",
    "    \"film critic and painter\",\n",
    "    \"art critic and surrealist painter\",\n",
    "    \"painter of mystical Jewish works\",\n",
    "    \"color field painter\",\n",
    "    \"painter and lecturer\",\n",
    "    \"Andalusian painter and illustrator\",\n",
    "    \"painter and glass sculptor\",\n",
    "    \"aboriginal painter\",\n",
    "    \"Delftware painter\",\n",
    "    \"barn painter\",\n",
    "    \"abstract painter and printmaker\",\n",
    "    \"figurative painter and arts\",\n",
    "    \"television painter\",\n",
    "    \"draughtsman and painter\",\n",
    "    \"mixed media painter\",\n",
    "    \"enameller and painter\",\n",
    "    \"landscape painter and watercolorist\",\n",
    "    \"painter and watercolorist\",\n",
    "    \"painter and television host\",\n",
    "    \"folk art painter\",\n",
    "    \"portrait painter and sculptor\",\n",
    "    \"Realist painter\",\n",
    "    \"Yōga painter\",\n",
    "    \"photographer and portrait painter\",\n",
    "    \"portrait and landscape painter\",\n",
    "    \"figurative painter and draftsman\",\n",
    "    \"painter and protégé of Pablo Picasso\",\n",
    "    \"painter and calligrapher\",\n",
    "    \"painter and ceramicist\",\n",
    "    \"painter and scenographer\",\n",
    "    \"watercolour painter\",\n",
    "    \"painter and draftsman\",\n",
    "    \"animator and painter\",\n",
    "    \"painter and weaver\",\n",
    "    \"painter and lithographer\",\n",
    "    \"painter and cartoonist\",\n",
    "    \"Ojibwe painter\",\n",
    "    \"cartoonist and painter\",\n",
    "    \"stage designer and painter\",\n",
    "    \"surrealistic painter\",\n",
    "    \"painter and cinematographer\",\n",
    "    \"painter and draughtsman\",\n",
    "    \"painter and theatre director\",\n",
    "    \"icon painter\",\n",
    "    \"Coptic painter\",\n",
    "    \"fashion designer and painter\",\n",
    "    \"designer and painter\",\n",
    "    \"composer and painter\",\n",
    "    \"signpainter\",\n",
    "    \"painter and television presenter\",\n",
    "    \"representational painter\",\n",
    "    \"painter and print maker\",\n",
    "    \"figurative painter\",\n",
    "    \"painter and animator\",\n",
    "    \"abstract painter and print maker\",\n",
    "    \"painter and composer\",\n",
    "    \"painter and children book illustrator\",\n",
    "    \"art critic and painter\",\n",
    "    \"painter of themes\",\n",
    "    \"yodeler and painter\",\n",
    "    \"geometric abstractionist painter\",\n",
    "    \"scenographer and painter\",\n",
    "    \"impressionist painter\",\n",
    "    \"Yolngu painter\",\n",
    "    \"painter and ceramist\",\n",
    "    \"magic realist painter\",\n",
    "    \"painter and dancer\",\n",
    "    \"photorealist painter\",\n",
    "    \"watercolor painter\",\n",
    "    \"jazz musician and painter\",\n",
    "    \"musician and painter\",\n",
    "    \"painter and graphic designer\",\n",
    "    \"modernist painter\",\n",
    "    \"muralist and painter\",\n",
    "    \"avant garde painter\",\n",
    "    \"COBRA painter\",\n",
    "    \"painter and muralist\",\n",
    "    \"abstract painter and sculptor\",\n",
    "    \"painter and novelist\",\n",
    "    \"painter and musician\",\n",
    "    \"photographer and painter\",\n",
    "    \"portrait painter\",\n",
    "    \"painter and designer\",\n",
    "    \"and realist painter\",\n",
    "    \"realist painter and\",\n",
    "    \"surrealist painter\",\n",
    "    \"realist painter\",\n",
    "    \"illustrator and painter\",\n",
    "    \"abstract expressionist painter\",\n",
    "    \"expressionist painter\",\n",
    "    \"landscape painter\",\n",
    "    \"painter and engraver\",\n",
    "    \"painter and photographer\",\n",
    "    \"painter and illustrator\",\n",
    "    \"abstract painter\",\n",
    "    \"sculptor and painter\",\n",
    "    \"painter and printmaker\",\n",
    "    \"painter and sculptor\",\n",
    "    \"painter and\",\n",
    "    \"and painter\",\n",
    "    \"painter\",\n",
    "]\n",
    "sports = [\"chess composer\"]\n",
    "sciences = []\n",
    "\n",
    "business_farming = []\n",
    "academia_humanities = [\"theatre school director\"]\n",
    "law_enf_military_operator = []\n",
    "spiritual = []\n",
    "social = []\n",
    "crime = []\n",
    "event_record_other = []\n",
    "other_species = []"
   ]
  },
  {
   "cell_type": "markdown",
   "id": "6a2e8554",
   "metadata": {},
   "source": [
    "#### Creating `known_for_dict` Dictionary of Category Keys and Specific Role Lists of Values"
   ]
  },
  {
   "cell_type": "code",
   "execution_count": 37,
   "id": "b62da238",
   "metadata": {},
   "outputs": [
    {
     "data": {
      "application/javascript": [
       "\n",
       "            setTimeout(function() {\n",
       "                var nbb_cell_id = 37;\n",
       "                var nbb_unformatted_code = \"# Combining separate lists into one dictionary\\nknown_for_dict = {\\n    \\\"social\\\": social,\\n    \\\"spiritual\\\": spiritual,\\n    \\\"academia_humanities\\\": academia_humanities,\\n    \\\"business_farming\\\": business_farming,\\n    \\\"sciences\\\": sciences,\\n    \\\"politics_govt_law\\\": politics_govt_law,\\n    \\\"law_enf_military_operator\\\": law_enf_military_operator,\\n    \\\"crime\\\": crime,\\n    \\\"event_record_other\\\": event_record_other,\\n    \\\"other_species\\\": other_species,\\n    \\\"arts\\\": arts,\\n    \\\"sports\\\": sports,\\n}\";\n",
       "                var nbb_formatted_code = \"# Combining separate lists into one dictionary\\nknown_for_dict = {\\n    \\\"social\\\": social,\\n    \\\"spiritual\\\": spiritual,\\n    \\\"academia_humanities\\\": academia_humanities,\\n    \\\"business_farming\\\": business_farming,\\n    \\\"sciences\\\": sciences,\\n    \\\"politics_govt_law\\\": politics_govt_law,\\n    \\\"law_enf_military_operator\\\": law_enf_military_operator,\\n    \\\"crime\\\": crime,\\n    \\\"event_record_other\\\": event_record_other,\\n    \\\"other_species\\\": other_species,\\n    \\\"arts\\\": arts,\\n    \\\"sports\\\": sports,\\n}\";\n",
       "                var nbb_cells = Jupyter.notebook.get_cells();\n",
       "                for (var i = 0; i < nbb_cells.length; ++i) {\n",
       "                    if (nbb_cells[i].input_prompt_number == nbb_cell_id) {\n",
       "                        if (nbb_cells[i].get_text() == nbb_unformatted_code) {\n",
       "                             nbb_cells[i].set_text(nbb_formatted_code);\n",
       "                        }\n",
       "                        break;\n",
       "                    }\n",
       "                }\n",
       "            }, 500);\n",
       "            "
      ],
      "text/plain": [
       "<IPython.core.display.Javascript object>"
      ]
     },
     "metadata": {},
     "output_type": "display_data"
    }
   ],
   "source": [
    "# Combining separate lists into one dictionary\n",
    "known_for_dict = {\n",
    "    \"social\": social,\n",
    "    \"spiritual\": spiritual,\n",
    "    \"academia_humanities\": academia_humanities,\n",
    "    \"business_farming\": business_farming,\n",
    "    \"sciences\": sciences,\n",
    "    \"politics_govt_law\": politics_govt_law,\n",
    "    \"law_enf_military_operator\": law_enf_military_operator,\n",
    "    \"crime\": crime,\n",
    "    \"event_record_other\": event_record_other,\n",
    "    \"other_species\": other_species,\n",
    "    \"arts\": arts,\n",
    "    \"sports\": sports,\n",
    "}"
   ]
  },
  {
   "cell_type": "markdown",
   "id": "d625bceb",
   "metadata": {},
   "source": [
    "#### Extracting Category from `info_2`"
   ]
  },
  {
   "cell_type": "code",
   "execution_count": 38,
   "id": "8ee52093",
   "metadata": {},
   "outputs": [
    {
     "name": "stdout",
     "output_type": "stream",
     "text": [
      "CPU times: total: 1min 4s\n",
      "Wall time: 1min 4s\n"
     ]
    },
    {
     "data": {
      "text/html": [
       "<div>\n",
       "<style scoped>\n",
       "    .dataframe tbody tr th:only-of-type {\n",
       "        vertical-align: middle;\n",
       "    }\n",
       "\n",
       "    .dataframe tbody tr th {\n",
       "        vertical-align: top;\n",
       "    }\n",
       "\n",
       "    .dataframe thead th {\n",
       "        text-align: right;\n",
       "    }\n",
       "</style>\n",
       "<table border=\"1\" class=\"dataframe\">\n",
       "  <thead>\n",
       "    <tr style=\"text-align: right;\">\n",
       "      <th></th>\n",
       "      <th>day</th>\n",
       "      <th>name</th>\n",
       "      <th>info</th>\n",
       "      <th>link</th>\n",
       "      <th>num_references</th>\n",
       "      <th>year</th>\n",
       "      <th>month</th>\n",
       "      <th>info_parenth</th>\n",
       "      <th>info_1</th>\n",
       "      <th>info_2</th>\n",
       "      <th>info_3</th>\n",
       "      <th>info_4</th>\n",
       "      <th>info_5</th>\n",
       "      <th>info_6</th>\n",
       "      <th>info_7</th>\n",
       "      <th>info_8</th>\n",
       "      <th>info_9</th>\n",
       "      <th>info_10</th>\n",
       "      <th>info_11</th>\n",
       "      <th>age</th>\n",
       "      <th>cause_of_death</th>\n",
       "      <th>place_1</th>\n",
       "      <th>place_2</th>\n",
       "      <th>info_parenth_copy</th>\n",
       "      <th>log_num_references</th>\n",
       "      <th>sciences</th>\n",
       "      <th>social</th>\n",
       "      <th>spiritual</th>\n",
       "      <th>academia_humanities</th>\n",
       "      <th>business_farming</th>\n",
       "      <th>arts</th>\n",
       "      <th>sports</th>\n",
       "      <th>law_enf_military_operator</th>\n",
       "      <th>politics_govt_law</th>\n",
       "      <th>crime</th>\n",
       "      <th>event_record_other</th>\n",
       "      <th>other_species</th>\n",
       "      <th>num_categories</th>\n",
       "    </tr>\n",
       "  </thead>\n",
       "  <tbody>\n",
       "    <tr>\n",
       "      <th>93345</th>\n",
       "      <td>12</td>\n",
       "      <td>Srikanth</td>\n",
       "      <td>, 81, Indian actor .</td>\n",
       "      <td>https://en.wikipedia.org/wiki/Srikanth_(Tamil_actor,_born_1940)</td>\n",
       "      <td>9</td>\n",
       "      <td>2021</td>\n",
       "      <td>October</td>\n",
       "      <td>, ,</td>\n",
       "      <td>None</td>\n",
       "      <td></td>\n",
       "      <td>None</td>\n",
       "      <td>None</td>\n",
       "      <td>None</td>\n",
       "      <td>None</td>\n",
       "      <td>None</td>\n",
       "      <td>None</td>\n",
       "      <td>None</td>\n",
       "      <td>None</td>\n",
       "      <td>None</td>\n",
       "      <td>81.0</td>\n",
       "      <td>None</td>\n",
       "      <td>India</td>\n",
       "      <td>None</td>\n",
       "      <td>, ,</td>\n",
       "      <td>2.302585</td>\n",
       "      <td>0</td>\n",
       "      <td>0</td>\n",
       "      <td>0</td>\n",
       "      <td>0</td>\n",
       "      <td>0</td>\n",
       "      <td>1</td>\n",
       "      <td>0</td>\n",
       "      <td>0</td>\n",
       "      <td>0</td>\n",
       "      <td>0</td>\n",
       "      <td>0</td>\n",
       "      <td>0</td>\n",
       "      <td>1</td>\n",
       "    </tr>\n",
       "    <tr>\n",
       "      <th>720</th>\n",
       "      <td>13</td>\n",
       "      <td>K. T. Stevens</td>\n",
       "      <td>, 74, American actress, lung cancer.</td>\n",
       "      <td>https://en.wikipedia.org/wiki/K._T._Stevens</td>\n",
       "      <td>3</td>\n",
       "      <td>1994</td>\n",
       "      <td>June</td>\n",
       "      <td>None</td>\n",
       "      <td>None</td>\n",
       "      <td></td>\n",
       "      <td>lung cancer</td>\n",
       "      <td>None</td>\n",
       "      <td>None</td>\n",
       "      <td>None</td>\n",
       "      <td>None</td>\n",
       "      <td>None</td>\n",
       "      <td>None</td>\n",
       "      <td>None</td>\n",
       "      <td>None</td>\n",
       "      <td>74.0</td>\n",
       "      <td>None</td>\n",
       "      <td>United States of America</td>\n",
       "      <td>None</td>\n",
       "      <td>None</td>\n",
       "      <td>1.386294</td>\n",
       "      <td>0</td>\n",
       "      <td>0</td>\n",
       "      <td>0</td>\n",
       "      <td>0</td>\n",
       "      <td>0</td>\n",
       "      <td>1</td>\n",
       "      <td>0</td>\n",
       "      <td>0</td>\n",
       "      <td>0</td>\n",
       "      <td>0</td>\n",
       "      <td>0</td>\n",
       "      <td>0</td>\n",
       "      <td>1</td>\n",
       "    </tr>\n",
       "  </tbody>\n",
       "</table>\n",
       "</div>"
      ],
      "text/plain": [
       "      day           name                                  info  \\\n",
       "93345  12       Srikanth                  , 81, Indian actor .   \n",
       "720    13  K. T. Stevens  , 74, American actress, lung cancer.   \n",
       "\n",
       "                                                                  link  \\\n",
       "93345  https://en.wikipedia.org/wiki/Srikanth_(Tamil_actor,_born_1940)   \n",
       "720                        https://en.wikipedia.org/wiki/K._T._Stevens   \n",
       "\n",
       "       num_references  year    month info_parenth info_1 info_2       info_3  \\\n",
       "93345               9  2021  October          , ,   None                None   \n",
       "720                 3  1994     June         None   None         lung cancer   \n",
       "\n",
       "      info_4 info_5 info_6 info_7 info_8 info_9 info_10 info_11   age  \\\n",
       "93345   None   None   None   None   None   None    None    None  81.0   \n",
       "720     None   None   None   None   None   None    None    None  74.0   \n",
       "\n",
       "      cause_of_death                   place_1 place_2 info_parenth_copy  \\\n",
       "93345           None                     India    None               , ,   \n",
       "720             None  United States of America    None              None   \n",
       "\n",
       "       log_num_references  sciences  social  spiritual  academia_humanities  \\\n",
       "93345            2.302585         0       0          0                    0   \n",
       "720              1.386294         0       0          0                    0   \n",
       "\n",
       "       business_farming  arts  sports  law_enf_military_operator  \\\n",
       "93345                 0     1       0                          0   \n",
       "720                   0     1       0                          0   \n",
       "\n",
       "       politics_govt_law  crime  event_record_other  other_species  \\\n",
       "93345                  0      0                   0              0   \n",
       "720                    0      0                   0              0   \n",
       "\n",
       "       num_categories  \n",
       "93345               1  \n",
       "720                 1  "
      ]
     },
     "execution_count": 38,
     "metadata": {},
     "output_type": "execute_result"
    },
    {
     "data": {
      "application/javascript": [
       "\n",
       "            setTimeout(function() {\n",
       "                var nbb_cell_id = 38;\n",
       "                var nbb_unformatted_code = \"%%time\\n\\n# Dictionary version\\nsearch_dict = known_for_dict\\n\\n# Column to check\\ncolumn = 'info_2'\\n\\n# Dataframe\\ndataframe = df[column].notna()\\n\\n# For loop to find role in column and extract it as category\\nfor category, category_lst in search_dict.items():\\n    for role in category_lst:\\n        for index in dataframe.index:\\n            item = df.loc[index, column]\\n            if item:\\n                if role in item:\\n                    df.loc[index, category] = 1\\n                    df.loc[index, column] = item.replace(role, '').strip()\\n\\n# Updating num_categories\\ndf[\\\"num_categories\\\"] = df[known_for_dict.keys()].sum(axis=1)                    \\n                    \\n# Checking a sample of rows\\ndf[df['arts'] ==1].sample(2)\";\n",
       "                var nbb_formatted_code = \"%%time\\n\\n# Dictionary version\\nsearch_dict = known_for_dict\\n\\n# Column to check\\ncolumn = 'info_2'\\n\\n# Dataframe\\ndataframe = df[column].notna()\\n\\n# For loop to find role in column and extract it as category\\nfor category, category_lst in search_dict.items():\\n    for role in category_lst:\\n        for index in dataframe.index:\\n            item = df.loc[index, column]\\n            if item:\\n                if role in item:\\n                    df.loc[index, category] = 1\\n                    df.loc[index, column] = item.replace(role, '').strip()\\n\\n# Updating num_categories\\ndf[\\\"num_categories\\\"] = df[known_for_dict.keys()].sum(axis=1)                    \\n                    \\n# Checking a sample of rows\\ndf[df['arts'] ==1].sample(2)\";\n",
       "                var nbb_cells = Jupyter.notebook.get_cells();\n",
       "                for (var i = 0; i < nbb_cells.length; ++i) {\n",
       "                    if (nbb_cells[i].input_prompt_number == nbb_cell_id) {\n",
       "                        if (nbb_cells[i].get_text() == nbb_unformatted_code) {\n",
       "                             nbb_cells[i].set_text(nbb_formatted_code);\n",
       "                        }\n",
       "                        break;\n",
       "                    }\n",
       "                }\n",
       "            }, 500);\n",
       "            "
      ],
      "text/plain": [
       "<IPython.core.display.Javascript object>"
      ]
     },
     "metadata": {},
     "output_type": "display_data"
    }
   ],
   "source": [
    "%%time\n",
    "\n",
    "# Dictionary version\n",
    "search_dict = known_for_dict\n",
    "\n",
    "# Column to check\n",
    "column = 'info_2'\n",
    "\n",
    "# Dataframe\n",
    "dataframe = df[column].notna()\n",
    "\n",
    "# For loop to find role in column and extract it as category\n",
    "for category, category_lst in search_dict.items():\n",
    "    for role in category_lst:\n",
    "        for index in dataframe.index:\n",
    "            item = df.loc[index, column]\n",
    "            if item:\n",
    "                if role in item:\n",
    "                    df.loc[index, category] = 1\n",
    "                    df.loc[index, column] = item.replace(role, '').strip()\n",
    "\n",
    "# Updating num_categories\n",
    "df[\"num_categories\"] = df[known_for_dict.keys()].sum(axis=1)                    \n",
    "                    \n",
    "# Checking a sample of rows\n",
    "df[df['arts'] ==1].sample(2)"
   ]
  },
  {
   "cell_type": "markdown",
   "id": "5a76711e",
   "metadata": {},
   "source": [
    "#### Checking the Number of Rows without a First Category"
   ]
  },
  {
   "cell_type": "code",
   "execution_count": 39,
   "id": "840e8267",
   "metadata": {},
   "outputs": [
    {
     "name": "stdout",
     "output_type": "stream",
     "text": [
      "There are 51002 entries without any known_for category.\n"
     ]
    },
    {
     "data": {
      "application/javascript": [
       "\n",
       "            setTimeout(function() {\n",
       "                var nbb_cell_id = 39;\n",
       "                var nbb_unformatted_code = \"#### Checking the number of rows without a first category\\nprint(\\n    f'There are {len(df[df[\\\"num_categories\\\"]==0])} entries without any known_for category.'\\n)\";\n",
       "                var nbb_formatted_code = \"#### Checking the number of rows without a first category\\nprint(\\n    f'There are {len(df[df[\\\"num_categories\\\"]==0])} entries without any known_for category.'\\n)\";\n",
       "                var nbb_cells = Jupyter.notebook.get_cells();\n",
       "                for (var i = 0; i < nbb_cells.length; ++i) {\n",
       "                    if (nbb_cells[i].input_prompt_number == nbb_cell_id) {\n",
       "                        if (nbb_cells[i].get_text() == nbb_unformatted_code) {\n",
       "                             nbb_cells[i].set_text(nbb_formatted_code);\n",
       "                        }\n",
       "                        break;\n",
       "                    }\n",
       "                }\n",
       "            }, 500);\n",
       "            "
      ],
      "text/plain": [
       "<IPython.core.display.Javascript object>"
      ]
     },
     "metadata": {},
     "output_type": "display_data"
    }
   ],
   "source": [
    "#### Checking the number of rows without a first category\n",
    "print(\n",
    "    f'There are {len(df[df[\"num_categories\"]==0])} entries without any known_for category.'\n",
    ")"
   ]
  },
  {
   "cell_type": "markdown",
   "id": "00688b13",
   "metadata": {},
   "source": [
    "#### Observations:\n",
    "- We will proceed to rebuild `known_for_dict` for the next iteration."
   ]
  },
  {
   "cell_type": "markdown",
   "id": "d4b7fbd5",
   "metadata": {},
   "source": [
    "#### Finding `known_for` Roles in `info_2`"
   ]
  },
  {
   "cell_type": "code",
   "execution_count": 40,
   "id": "72fee848",
   "metadata": {},
   "outputs": [
    {
     "data": {
      "application/javascript": [
       "\n",
       "            setTimeout(function() {\n",
       "                var nbb_cell_id = 40;\n",
       "                var nbb_unformatted_code = \"# Obtaining values for column and their counts\\nroles_list = df[\\\"info_2\\\"].value_counts(ascending=True).index.tolist()\";\n",
       "                var nbb_formatted_code = \"# Obtaining values for column and their counts\\nroles_list = df[\\\"info_2\\\"].value_counts(ascending=True).index.tolist()\";\n",
       "                var nbb_cells = Jupyter.notebook.get_cells();\n",
       "                for (var i = 0; i < nbb_cells.length; ++i) {\n",
       "                    if (nbb_cells[i].input_prompt_number == nbb_cell_id) {\n",
       "                        if (nbb_cells[i].get_text() == nbb_unformatted_code) {\n",
       "                             nbb_cells[i].set_text(nbb_formatted_code);\n",
       "                        }\n",
       "                        break;\n",
       "                    }\n",
       "                }\n",
       "            }, 500);\n",
       "            "
      ],
      "text/plain": [
       "<IPython.core.display.Javascript object>"
      ]
     },
     "metadata": {},
     "output_type": "display_data"
    }
   ],
   "source": [
    "# Obtaining values for column and their counts\n",
    "roles_list = df[\"info_2\"].value_counts(ascending=True).index.tolist()"
   ]
  },
  {
   "cell_type": "code",
   "execution_count": 41,
   "id": "fe33c2d3",
   "metadata": {},
   "outputs": [
    {
     "data": {
      "application/javascript": [
       "\n",
       "            setTimeout(function() {\n",
       "                var nbb_cell_id = 41;\n",
       "                var nbb_unformatted_code = \"# # Code to check each value\\n# roles_list.pop()\";\n",
       "                var nbb_formatted_code = \"# # Code to check each value\\n# roles_list.pop()\";\n",
       "                var nbb_cells = Jupyter.notebook.get_cells();\n",
       "                for (var i = 0; i < nbb_cells.length; ++i) {\n",
       "                    if (nbb_cells[i].input_prompt_number == nbb_cell_id) {\n",
       "                        if (nbb_cells[i].get_text() == nbb_unformatted_code) {\n",
       "                             nbb_cells[i].set_text(nbb_formatted_code);\n",
       "                        }\n",
       "                        break;\n",
       "                    }\n",
       "                }\n",
       "            }, 500);\n",
       "            "
      ],
      "text/plain": [
       "<IPython.core.display.Javascript object>"
      ]
     },
     "metadata": {},
     "output_type": "display_data"
    }
   ],
   "source": [
    "# # Code to check each value\n",
    "# roles_list.pop()"
   ]
  },
  {
   "cell_type": "code",
   "execution_count": 42,
   "id": "23a331a4",
   "metadata": {},
   "outputs": [
    {
     "data": {
      "application/javascript": [
       "\n",
       "            setTimeout(function() {\n",
       "                var nbb_cell_id = 42;\n",
       "                var nbb_unformatted_code = \"# # Create specific_roles_list for above popped value\\n# specific_roles_list = (\\n#     df.loc[\\n#         [index for index in df.index if \\\"musician\\\" in df.loc[index, \\\"info\\\"]], \\\"info_2\\\",\\n#     ]\\n#     .value_counts()\\n#     .index.tolist()\\n# )\";\n",
       "                var nbb_formatted_code = \"# # Create specific_roles_list for above popped value\\n# specific_roles_list = (\\n#     df.loc[\\n#         [index for index in df.index if \\\"musician\\\" in df.loc[index, \\\"info\\\"]], \\\"info_2\\\",\\n#     ]\\n#     .value_counts()\\n#     .index.tolist()\\n# )\";\n",
       "                var nbb_cells = Jupyter.notebook.get_cells();\n",
       "                for (var i = 0; i < nbb_cells.length; ++i) {\n",
       "                    if (nbb_cells[i].input_prompt_number == nbb_cell_id) {\n",
       "                        if (nbb_cells[i].get_text() == nbb_unformatted_code) {\n",
       "                             nbb_cells[i].set_text(nbb_formatted_code);\n",
       "                        }\n",
       "                        break;\n",
       "                    }\n",
       "                }\n",
       "            }, 500);\n",
       "            "
      ],
      "text/plain": [
       "<IPython.core.display.Javascript object>"
      ]
     },
     "metadata": {},
     "output_type": "display_data"
    }
   ],
   "source": [
    "# # Create specific_roles_list for above popped value\n",
    "# specific_roles_list = (\n",
    "#     df.loc[\n",
    "#         [index for index in df.index if \"musician\" in df.loc[index, \"info\"]], \"info_2\",\n",
    "#     ]\n",
    "#     .value_counts()\n",
    "#     .index.tolist()\n",
    "# )"
   ]
  },
  {
   "cell_type": "code",
   "execution_count": 43,
   "id": "942887fe",
   "metadata": {},
   "outputs": [
    {
     "data": {
      "application/javascript": [
       "\n",
       "            setTimeout(function() {\n",
       "                var nbb_cell_id = 43;\n",
       "                var nbb_unformatted_code = \"# # Code to check each specific value\\n# specific_roles_list.pop()\";\n",
       "                var nbb_formatted_code = \"# # Code to check each specific value\\n# specific_roles_list.pop()\";\n",
       "                var nbb_cells = Jupyter.notebook.get_cells();\n",
       "                for (var i = 0; i < nbb_cells.length; ++i) {\n",
       "                    if (nbb_cells[i].input_prompt_number == nbb_cell_id) {\n",
       "                        if (nbb_cells[i].get_text() == nbb_unformatted_code) {\n",
       "                             nbb_cells[i].set_text(nbb_formatted_code);\n",
       "                        }\n",
       "                        break;\n",
       "                    }\n",
       "                }\n",
       "            }, 500);\n",
       "            "
      ],
      "text/plain": [
       "<IPython.core.display.Javascript object>"
      ]
     },
     "metadata": {},
     "output_type": "display_data"
    }
   ],
   "source": [
    "# # Code to check each specific value\n",
    "# specific_roles_list.pop()"
   ]
  },
  {
   "cell_type": "code",
   "execution_count": 44,
   "id": "c6dda649",
   "metadata": {},
   "outputs": [
    {
     "data": {
      "application/javascript": [
       "\n",
       "            setTimeout(function() {\n",
       "                var nbb_cell_id = 44;\n",
       "                var nbb_unformatted_code = \"# # Example code to quick-screen values that may overlap categories\\n# df.loc[[index for index in df.index if \\\"Shinshu\\\" in df.loc[index, \\\"info\\\"]]]\";\n",
       "                var nbb_formatted_code = \"# # Example code to quick-screen values that may overlap categories\\n# df.loc[[index for index in df.index if \\\"Shinshu\\\" in df.loc[index, \\\"info\\\"]]]\";\n",
       "                var nbb_cells = Jupyter.notebook.get_cells();\n",
       "                for (var i = 0; i < nbb_cells.length; ++i) {\n",
       "                    if (nbb_cells[i].input_prompt_number == nbb_cell_id) {\n",
       "                        if (nbb_cells[i].get_text() == nbb_unformatted_code) {\n",
       "                             nbb_cells[i].set_text(nbb_formatted_code);\n",
       "                        }\n",
       "                        break;\n",
       "                    }\n",
       "                }\n",
       "            }, 500);\n",
       "            "
      ],
      "text/plain": [
       "<IPython.core.display.Javascript object>"
      ]
     },
     "metadata": {},
     "output_type": "display_data"
    }
   ],
   "source": [
    "# # Example code to quick-screen values that may overlap categories\n",
    "# df.loc[[index for index in df.index if \"Shinshu\" in df.loc[index, \"info\"]]]"
   ]
  },
  {
   "cell_type": "code",
   "execution_count": 45,
   "id": "431e6a0a",
   "metadata": {},
   "outputs": [
    {
     "data": {
      "application/javascript": [
       "\n",
       "            setTimeout(function() {\n",
       "                var nbb_cell_id = 45;\n",
       "                var nbb_unformatted_code = \"# # Example code to quick-screen values that may overlap categories\\n# df.loc[\\n#     [\\n#         index\\n#         for index in df.index\\n#         if \\\"outlaw country music singer songwriter\\\" in df.loc[index, \\\"info\\\"]\\n#     ]\\n# ]\";\n",
       "                var nbb_formatted_code = \"# # Example code to quick-screen values that may overlap categories\\n# df.loc[\\n#     [\\n#         index\\n#         for index in df.index\\n#         if \\\"outlaw country music singer songwriter\\\" in df.loc[index, \\\"info\\\"]\\n#     ]\\n# ]\";\n",
       "                var nbb_cells = Jupyter.notebook.get_cells();\n",
       "                for (var i = 0; i < nbb_cells.length; ++i) {\n",
       "                    if (nbb_cells[i].input_prompt_number == nbb_cell_id) {\n",
       "                        if (nbb_cells[i].get_text() == nbb_unformatted_code) {\n",
       "                             nbb_cells[i].set_text(nbb_formatted_code);\n",
       "                        }\n",
       "                        break;\n",
       "                    }\n",
       "                }\n",
       "            }, 500);\n",
       "            "
      ],
      "text/plain": [
       "<IPython.core.display.Javascript object>"
      ]
     },
     "metadata": {},
     "output_type": "display_data"
    }
   ],
   "source": [
    "# # Example code to quick-screen values that may overlap categories\n",
    "# df.loc[\n",
    "#     [\n",
    "#         index\n",
    "#         for index in df.index\n",
    "#         if \"outlaw country music singer songwriter\" in df.loc[index, \"info\"]\n",
    "#     ]\n",
    "# ]"
   ]
  },
  {
   "cell_type": "code",
   "execution_count": 46,
   "id": "c017172f",
   "metadata": {},
   "outputs": [
    {
     "data": {
      "application/javascript": [
       "\n",
       "            setTimeout(function() {\n",
       "                var nbb_cell_id = 46;\n",
       "                var nbb_unformatted_code = \"# # Example code to quick-check a specific entry\\n# df[df[\\\"info_2\\\"] == \\\"stalker of musician Bj\\u00f6rk\\\"]\";\n",
       "                var nbb_formatted_code = \"# # Example code to quick-check a specific entry\\n# df[df[\\\"info_2\\\"] == \\\"stalker of musician Bj\\u00f6rk\\\"]\";\n",
       "                var nbb_cells = Jupyter.notebook.get_cells();\n",
       "                for (var i = 0; i < nbb_cells.length; ++i) {\n",
       "                    if (nbb_cells[i].input_prompt_number == nbb_cell_id) {\n",
       "                        if (nbb_cells[i].get_text() == nbb_unformatted_code) {\n",
       "                             nbb_cells[i].set_text(nbb_formatted_code);\n",
       "                        }\n",
       "                        break;\n",
       "                    }\n",
       "                }\n",
       "            }, 500);\n",
       "            "
      ],
      "text/plain": [
       "<IPython.core.display.Javascript object>"
      ]
     },
     "metadata": {},
     "output_type": "display_data"
    }
   ],
   "source": [
    "# # Example code to quick-check a specific entry\n",
    "# df[df[\"info_2\"] == \"stalker of musician Björk\"]"
   ]
  },
  {
   "cell_type": "markdown",
   "id": "968f6ad2",
   "metadata": {},
   "source": [
    "#### Creating Lists for Each `known_for` Category"
   ]
  },
  {
   "cell_type": "code",
   "execution_count": 47,
   "id": "c1dbe296",
   "metadata": {},
   "outputs": [
    {
     "data": {
      "application/javascript": [
       "\n",
       "            setTimeout(function() {\n",
       "                var nbb_cell_id = 47;\n",
       "                var nbb_unformatted_code = \"# Creating lists for each category\\npolitics_govt_law = []\\n\\narts = [\\n    \\\"musician known for his work with the Beatles\\\",\\n    \\\"musician and host of\\\",\\n    \\\"musician with the Bothy Band\\\",\\n    \\\"award winning blues musician\\\",\\n    \\\"shehnai musician and Bharat Ratna winner\\\",\\n    \\\"musician known for his work on the theme\\\",\\n    \\\"musician who played at the Johannesburg Live concert\\\",\\n    \\\"jazz musician and widow of John Coltrane\\\",\\n    \\\"musician and husband of Celia Cruz\\\",\\n    \\\"musician and founding conductor of Brooklyn Philharmonic Orchestra\\\",\\n    \\\"musician and entertainer\\\",\\n    'musician known as \\\"Saint Thomas\\\"',\\n    \\\"theme song composer and jazz musician\\\",\\n    \\\"composer and jazz musician\\\",\\n    \\\"Benga musician\\\",\\n    \\\"musician credited with creating mambo\\\",\\n    \\\"saxophone and clarinet musician\\\",\\n    \\\"musician and composer from the band Savage Rose\\\",\\n    \\\"musician and founder of the band Bathory\\\",\\n    \\\"musician and playwright\\\",\\n    \\\"Celtic musician\\\",\\n    \\\"Rockabilly musician\\\",\\n    \\\"R&B and country & western musician\\\",\\n    \\\"Tony nominated orchestrator and musician\\\",\\n    \\\"fiddle player and bluegrass musician\\\",\\n    \\\"musician with the hardcore punk band Big Boys\\\",\\n    \\\"musician and founding member of The Vandals\\\",\\n    \\\"musician for acoustic rock band Plush\\\",\\n    \\\"steel pan musician\\\",\\n    \\\"musician and bagpiper\\\",\\n    \\\"musician and essayist with the stage name Buddy Blue\\\",\\n    \\\"vocal jazz musician\\\",\\n    \\\"dancehall garage musician\\\",\\n    \\\"Romani musician\\\",\\n    \\\"cartoonist and musician\\\",\\n    \\\"soca musician\\\",\\n    \\\"musician and one man band\\\",\\n    \\\"cajun musician\\\",\\n    \\\"rapper and musician\\\",\\n    \\\"country musician and producer\\\",\\n    \\\"soul and disco musician\\\",\\n    \\\"street musician\\\",\\n    \\\"Grammy Award winning jazz producer\\\",\\n    \\\"Indorock musician\\\",\\n    \\\"musician and festival organiser\\\",\\n    \\\"comedian and musician\\\",\\n    \\\"musician and band manager\\\",\\n    \\\"jazz musician and jazz critic\\\",\\n    \\\"traditional jazz musician\\\",\\n    \\\"country musician and trumpet player\\\",\\n    \\\"soul and funk musician\\\",\\n    \\\"country musician and comedian\\\",\\n    \\\"musician and comedian\\\",\\n    \\\"hip hop DJ and musician\\\",\\n    \\\"musician and patron of the arts\\\",\\n    \\\"club disc jockey and musician\\\",\\n    \\\"Reggae musician and composer\\\",\\n    \\\"musician and hula expert\\\",\\n    \\\"jazz and rock musician\\\",\\n    \\\"garage punk musician\\\",\\n    \\\"jazz musician and accordionist\\\",\\n    \\\"musician and sound recordist\\\",\\n    \\\"jazz guitarist and studio musician\\\",\\n    \\\"Classical musician\\\",\\n    \\\"country musician and television and radio host\\\",\\n    \\\"keyboardist and session musician\\\",\\n    \\\"musician and radio and TV personality\\\",\\n    \\\"Country & Western musician\\\",\\n    \\\"rock and R&B musician\\\",\\n    \\\"R&B and jazz musician\\\",\\n    \\\"rock 'n roll musician\\\",\\n    \\\"musician and music business executive\\\",\\n    \\\"country music and rockabilly musician\\\",\\n    \\\"dixieland jazz musician\\\",\\n    \\\"guitarist and studio musician\\\",\\n    \\\"musician and inventor of board game Cluedo\\\",\\n    \\\"classical musician and tabla player\\\",\\n    \\\"soul musician and a guitarist\\\",\\n    \\\"reggae musician and Rastafarian\\\",\\n    \\\"concert and easy listening musician\\\",\\n    \\\"blues and folk musician\\\",\\n    \\\"J\\u00f9j\\u00fa musician\\\",\\n    \\\"country blues musician\\\",\\n    \\\"musician and music publisher\\\",\\n    \\\"kadongo kamu musician\\\",\\n    \\\"reggae musician and producer\\\",\\n    \\\"musician and creator of the seggae genre\\\",\\n    'jazz musician known as \\\"Mr Swing\\\"',\\n    \\\"musician of music\\\",\\n    \\\"children musician\\\",\\n    \\\"musician and DJ of Run DMC\\\",\\n    \\\"skiffle musician\\\",\\n    \\\"musician and star of the Buena Vista Social Club\\\",\\n    \\\"string band fiddler and mandolinist and country blues musician\\\",\\n    \\\"musician composer and arranger\\\",\\n    \\\"rockabilly composer and musician\\\",\\n    \\\"soul musician and brother of Marvin Gaye\\\",\\n    \\\"musician and serial\\\",\\n    \\\"Volksmusik musician and collector\\\",\\n    \\\"musician and pioneer of the musical genres of and\\\",\\n    \\\"bluegrass and folk musician\\\",\\n    \\\"bandleader and musician\\\",\\n    \\\"big band style musician\\\",\\n    \\\"Jibaro musician\\\",\\n    \\\"folk musician and composer\\\",\\n    \\\"musician and vocal session arranger\\\",\\n    \\\"musician and composer of electronic music\\\",\\n    \\\"musician and former member of The Beatles\\\",\\n    \\\"Tejano musician\\\",\\n    \\\"jazz fusion musician\\\",\\n    \\\"entertainer and musician\\\",\\n    \\\"outsider musician\\\",\\n    \\\"trumpeter and session musician\\\",\\n    \\\"architect and musician\\\",\\n    \\\"electronic musician and radio host\\\",\\n    \\\"sound designer and musician\\\",\\n    \\\"electronic dance musician and record producer\\\",\\n    \\\"jazz musician and arranger\\\",\\n    \\\"Nazrul Sangeet musician\\\",\\n    \\\"musician and publisher\\\",\\n    \\\"Indigenous musician\\\",\\n    \\\"folk and bluegrass musician\\\",\\n    \\\"punk and new wave musician\\\",\\n    \\\"trance music producer and musician\\\",\\n    \\\"Carnatic musician and composer\\\",\\n    \\\"Hindustani musician\\\",\\n    \\\"jazz musician and band leader\\\",\\n    \\\"shehnai musician\\\",\\n    \\\"rap musician\\\",\\n    \\\"avant garde musician\\\",\\n    \\\"ska and mento musician\\\",\\n    \\\"synthesizer musician\\\",\\n    \\\"musician and choral conductor\\\",\\n    \\\"samba musician\\\",\\n    \\\"khyal musician\\\",\\n    \\\"kwaito musician\\\",\\n    \\\"acid house musician\\\",\\n    \\\"photographer and musician\\\",\\n    \\\"minimalist musician\\\",\\n    \\\"trumpeter and brass band musician\\\",\\n    \\\"soundtrack composer and musician\\\",\\n    \\\"grime musician\\\",\\n    \\\"folk rock musician and composer\\\",\\n    \\\"disc jockey and musician\\\",\\n    \\\"funk and R&B musician\\\",\\n    \\\"Grammy award winning musician\\\",\\n    \\\"musician and organist\\\",\\n    \\\"blues and rock musician\\\",\\n    \\\"musician and radio presenter\\\",\\n    \\\"Hall of Fame instrumental and surf rock musician\\\",\\n    \\\"surf rock musician\\\",\\n    \\\"Bubu musician\\\",\\n    \\\"musician and dancer\\\",\\n    \\\"Andean cumbia musician\\\",\\n    \\\"ashik musician\\\",\\n    \\\"Hall of Fame blues musician\\\",\\n    \\\"sculptor and musician\\\",\\n    \\\"experimental musician\\\",\\n    \\\"jazz musician and Shinshu Buddhist\\\",\\n    \\\"mbira musician\\\",\\n    \\\"theatre director and musician\\\",\\n    \\\"jazz musician and producer\\\",\\n    \\\"Steelpan musician and arranger\\\",\\n    \\\"country musician and radio broadcaster\\\",\\n    \\\"musician and arranger\\\",\\n    \\\"punk rock musician and\\\",\\n    \\\"punk rock musician\\\",\\n    \\\"carnatic musician and music director\\\",\\n    \\\"musician and music director\\\",\\n    \\\"steelpan musician and designer\\\",\\n    \\\"steelpan musician\\\",\\n    \\\"Tuvan musician\\\",\\n    \\\"bossa nova musician\\\",\\n    \\\"vallenato musician\\\",\\n    \\\"music manager and musician\\\",\\n    \\\"contra dance musician\\\",\\n    \\\"bluegrass musician and banjo player\\\",\\n    \\\"country and rockabilly musician\\\",\\n    \\\"roots musician and entertainment critic\\\",\\n    \\\"roots musician\\\",\\n    \\\"jazz musician and manager\\\",\\n    \\\"jazz musician and radio show host\\\",\\n    \\\"electronic musician and television producer\\\",\\n    \\\"jazz musician and vocal coach involved in the Wrong Door Raid\\\",\\n    \\\"Detroit blues musician\\\",\\n    \\\"folk musician and yueqin player\\\",\\n    \\\"blues and country musician\\\",\\n    \\\"heavy metal musician\\\",\\n    \\\"rock and roll session musician\\\",\\n    \\\"jazz musician and architect\\\",\\n    \\\"musician and radio and television personality\\\",\\n    \\\"Hall of Fame bluegrass musician\\\",\\n    \\\"oud musician\\\",\\n    \\\"music  musician\\\",\\n    \\\"cumbia musician\\\",\\n    \\\"book and album cover designer and jazz musician\\\",\\n    \\\"salsa musician and composer\\\",\\n    \\\"musician and percussion mallet manufacturer\\\",\\n    \\\"Gnawa musician\\\",\\n    \\\"blues rock musician\\\",\\n    \\\"musician and music publishing executive\\\",\\n    \\\"musician and television show host\\\",\\n    \\\"composer and electronic musician\\\",\\n    \\\"M\\u0101ori musician\\\",\\n    \\\"and Manager of Jazz musician Erroll Garner\\\",\\n    \\\"musician and house music producer\\\",\\n    \\\"mariachi musician and\\\",\\n    \\\"mariachi musician\\\",\\n    \\\"merengue and salsa musician\\\",\\n    \\\"pop musician and producer\\\",\\n    \\\"reggae cross over musician\\\",\\n    \\\"Grammy Award winning jazz and new age musician\\\",\\n    \\\"classical dancer and musician\\\",\\n    \\\"dancer and musician\\\",\\n    \\\"musician and film composer\\\",\\n    \\\"rhythm and blues musician\\\",\\n    \\\"jazz and pop musician\\\",\\n    \\\"musician and music producer\\\",\\n    \\\"electric blues musician\\\",\\n    \\\"musician and DJ\\\",\\n    \\\"tango musician\\\",\\n    \\\"Igbo highlife musician\\\",\\n    \\\"dancehall musician\\\",\\n    \\\"ska musician\\\",\\n    \\\"calypso musician\\\",\\n    \\\"soul musician\\\",\\n    \\\"session musician\\\",\\n    \\\"ambient musician\\\",\\n    \\\"Chicago blues musician\\\",\\n    \\\"Hall of Fame musician and record producer\\\",\\n    \\\"big band musician\\\",\\n    \\\"electronic musician and composer\\\",\\n    \\\"folk rock musician\\\",\\n    \\\"Cajun musician\\\",\\n    \\\"Grammy Award winning musician\\\",\\n    \\\"jazz and blues musician\\\",\\n    \\\"traditional musician\\\",\\n    \\\"reggae musician and record producer\\\",\\n    \\\"jazz musician and bandleader\\\",\\n    \\\"musician and bandleader\\\",\\n    \\\"pop musician\\\",\\n    \\\"polka musician\\\",\\n    \\\"musician and conductor\\\",\\n    \\\"Carnatic musician\\\",\\n    \\\"punk musician\\\",\\n    \\\"broadcaster and musician\\\",\\n    \\\"rock and roll musician\\\",\\n    \\\"R&B musician\\\",\\n    \\\"highlife musician\\\",\\n    \\\"hip hop musician\\\",\\n    \\\"record producer and musician\\\",\\n    \\\"musician and producer\\\",\\n    \\\"classical musician and\\\",\\n    \\\"classical musician\\\",\\n    \\\"Hall of Fame musician\\\",\\n    \\\"rockabilly musician\\\",\\n    \\\"electronic musician\\\",\\n    \\\"jazz musician and composer\\\",\\n    \\\"reggae musician\\\",\\n    \\\"musician and record producer\\\",\\n    \\\"country musician\\\",\\n    \\\"and bluegrass musician\\\",\\n    \\\"bluegrass musician\\\",\\n    \\\"composer and musician\\\",\\n    \\\"musician and composer\\\",\\n    \\\"and traditional folk musician\\\",\\n    \\\"folk musician and\\\",\\n    \\\"and folk musician\\\",\\n    \\\"folk musician\\\",\\n    \\\"and rock musician\\\",\\n    \\\"rock musician\\\",\\n    \\\"blues musician and\\\",\\n    \\\"blues musician\\\",\\n    \\\"and jazz musician\\\",\\n    \\\"jazz musician\\\",\\n    \\\"benga musician and\\\",\\n    \\\"musician and television\\\",\\n    \\\"Native musician and\\\",\\n    \\\"musician from\\\",\\n    \\\"and musician\\\",\\n    \\\"musician and\\\",\\n    \\\"musician\\\",\\n]\\nsports = []\\nsciences = []\\n\\nbusiness_farming = []\\nacademia_humanities = []\\nlaw_enf_military_operator = []\\nspiritual = []\\nsocial = []\\ncrime = [\\n    \\\"stalker of musician Bj\\u00f6rk\\\",  # before arts\\n]\\nevent_record_other = []\\nother_species = []\";\n",
       "                var nbb_formatted_code = \"# Creating lists for each category\\npolitics_govt_law = []\\n\\narts = [\\n    \\\"musician known for his work with the Beatles\\\",\\n    \\\"musician and host of\\\",\\n    \\\"musician with the Bothy Band\\\",\\n    \\\"award winning blues musician\\\",\\n    \\\"shehnai musician and Bharat Ratna winner\\\",\\n    \\\"musician known for his work on the theme\\\",\\n    \\\"musician who played at the Johannesburg Live concert\\\",\\n    \\\"jazz musician and widow of John Coltrane\\\",\\n    \\\"musician and husband of Celia Cruz\\\",\\n    \\\"musician and founding conductor of Brooklyn Philharmonic Orchestra\\\",\\n    \\\"musician and entertainer\\\",\\n    'musician known as \\\"Saint Thomas\\\"',\\n    \\\"theme song composer and jazz musician\\\",\\n    \\\"composer and jazz musician\\\",\\n    \\\"Benga musician\\\",\\n    \\\"musician credited with creating mambo\\\",\\n    \\\"saxophone and clarinet musician\\\",\\n    \\\"musician and composer from the band Savage Rose\\\",\\n    \\\"musician and founder of the band Bathory\\\",\\n    \\\"musician and playwright\\\",\\n    \\\"Celtic musician\\\",\\n    \\\"Rockabilly musician\\\",\\n    \\\"R&B and country & western musician\\\",\\n    \\\"Tony nominated orchestrator and musician\\\",\\n    \\\"fiddle player and bluegrass musician\\\",\\n    \\\"musician with the hardcore punk band Big Boys\\\",\\n    \\\"musician and founding member of The Vandals\\\",\\n    \\\"musician for acoustic rock band Plush\\\",\\n    \\\"steel pan musician\\\",\\n    \\\"musician and bagpiper\\\",\\n    \\\"musician and essayist with the stage name Buddy Blue\\\",\\n    \\\"vocal jazz musician\\\",\\n    \\\"dancehall garage musician\\\",\\n    \\\"Romani musician\\\",\\n    \\\"cartoonist and musician\\\",\\n    \\\"soca musician\\\",\\n    \\\"musician and one man band\\\",\\n    \\\"cajun musician\\\",\\n    \\\"rapper and musician\\\",\\n    \\\"country musician and producer\\\",\\n    \\\"soul and disco musician\\\",\\n    \\\"street musician\\\",\\n    \\\"Grammy Award winning jazz producer\\\",\\n    \\\"Indorock musician\\\",\\n    \\\"musician and festival organiser\\\",\\n    \\\"comedian and musician\\\",\\n    \\\"musician and band manager\\\",\\n    \\\"jazz musician and jazz critic\\\",\\n    \\\"traditional jazz musician\\\",\\n    \\\"country musician and trumpet player\\\",\\n    \\\"soul and funk musician\\\",\\n    \\\"country musician and comedian\\\",\\n    \\\"musician and comedian\\\",\\n    \\\"hip hop DJ and musician\\\",\\n    \\\"musician and patron of the arts\\\",\\n    \\\"club disc jockey and musician\\\",\\n    \\\"Reggae musician and composer\\\",\\n    \\\"musician and hula expert\\\",\\n    \\\"jazz and rock musician\\\",\\n    \\\"garage punk musician\\\",\\n    \\\"jazz musician and accordionist\\\",\\n    \\\"musician and sound recordist\\\",\\n    \\\"jazz guitarist and studio musician\\\",\\n    \\\"Classical musician\\\",\\n    \\\"country musician and television and radio host\\\",\\n    \\\"keyboardist and session musician\\\",\\n    \\\"musician and radio and TV personality\\\",\\n    \\\"Country & Western musician\\\",\\n    \\\"rock and R&B musician\\\",\\n    \\\"R&B and jazz musician\\\",\\n    \\\"rock 'n roll musician\\\",\\n    \\\"musician and music business executive\\\",\\n    \\\"country music and rockabilly musician\\\",\\n    \\\"dixieland jazz musician\\\",\\n    \\\"guitarist and studio musician\\\",\\n    \\\"musician and inventor of board game Cluedo\\\",\\n    \\\"classical musician and tabla player\\\",\\n    \\\"soul musician and a guitarist\\\",\\n    \\\"reggae musician and Rastafarian\\\",\\n    \\\"concert and easy listening musician\\\",\\n    \\\"blues and folk musician\\\",\\n    \\\"J\\u00f9j\\u00fa musician\\\",\\n    \\\"country blues musician\\\",\\n    \\\"musician and music publisher\\\",\\n    \\\"kadongo kamu musician\\\",\\n    \\\"reggae musician and producer\\\",\\n    \\\"musician and creator of the seggae genre\\\",\\n    'jazz musician known as \\\"Mr Swing\\\"',\\n    \\\"musician of music\\\",\\n    \\\"children musician\\\",\\n    \\\"musician and DJ of Run DMC\\\",\\n    \\\"skiffle musician\\\",\\n    \\\"musician and star of the Buena Vista Social Club\\\",\\n    \\\"string band fiddler and mandolinist and country blues musician\\\",\\n    \\\"musician composer and arranger\\\",\\n    \\\"rockabilly composer and musician\\\",\\n    \\\"soul musician and brother of Marvin Gaye\\\",\\n    \\\"musician and serial\\\",\\n    \\\"Volksmusik musician and collector\\\",\\n    \\\"musician and pioneer of the musical genres of and\\\",\\n    \\\"bluegrass and folk musician\\\",\\n    \\\"bandleader and musician\\\",\\n    \\\"big band style musician\\\",\\n    \\\"Jibaro musician\\\",\\n    \\\"folk musician and composer\\\",\\n    \\\"musician and vocal session arranger\\\",\\n    \\\"musician and composer of electronic music\\\",\\n    \\\"musician and former member of The Beatles\\\",\\n    \\\"Tejano musician\\\",\\n    \\\"jazz fusion musician\\\",\\n    \\\"entertainer and musician\\\",\\n    \\\"outsider musician\\\",\\n    \\\"trumpeter and session musician\\\",\\n    \\\"architect and musician\\\",\\n    \\\"electronic musician and radio host\\\",\\n    \\\"sound designer and musician\\\",\\n    \\\"electronic dance musician and record producer\\\",\\n    \\\"jazz musician and arranger\\\",\\n    \\\"Nazrul Sangeet musician\\\",\\n    \\\"musician and publisher\\\",\\n    \\\"Indigenous musician\\\",\\n    \\\"folk and bluegrass musician\\\",\\n    \\\"punk and new wave musician\\\",\\n    \\\"trance music producer and musician\\\",\\n    \\\"Carnatic musician and composer\\\",\\n    \\\"Hindustani musician\\\",\\n    \\\"jazz musician and band leader\\\",\\n    \\\"shehnai musician\\\",\\n    \\\"rap musician\\\",\\n    \\\"avant garde musician\\\",\\n    \\\"ska and mento musician\\\",\\n    \\\"synthesizer musician\\\",\\n    \\\"musician and choral conductor\\\",\\n    \\\"samba musician\\\",\\n    \\\"khyal musician\\\",\\n    \\\"kwaito musician\\\",\\n    \\\"acid house musician\\\",\\n    \\\"photographer and musician\\\",\\n    \\\"minimalist musician\\\",\\n    \\\"trumpeter and brass band musician\\\",\\n    \\\"soundtrack composer and musician\\\",\\n    \\\"grime musician\\\",\\n    \\\"folk rock musician and composer\\\",\\n    \\\"disc jockey and musician\\\",\\n    \\\"funk and R&B musician\\\",\\n    \\\"Grammy award winning musician\\\",\\n    \\\"musician and organist\\\",\\n    \\\"blues and rock musician\\\",\\n    \\\"musician and radio presenter\\\",\\n    \\\"Hall of Fame instrumental and surf rock musician\\\",\\n    \\\"surf rock musician\\\",\\n    \\\"Bubu musician\\\",\\n    \\\"musician and dancer\\\",\\n    \\\"Andean cumbia musician\\\",\\n    \\\"ashik musician\\\",\\n    \\\"Hall of Fame blues musician\\\",\\n    \\\"sculptor and musician\\\",\\n    \\\"experimental musician\\\",\\n    \\\"jazz musician and Shinshu Buddhist\\\",\\n    \\\"mbira musician\\\",\\n    \\\"theatre director and musician\\\",\\n    \\\"jazz musician and producer\\\",\\n    \\\"Steelpan musician and arranger\\\",\\n    \\\"country musician and radio broadcaster\\\",\\n    \\\"musician and arranger\\\",\\n    \\\"punk rock musician and\\\",\\n    \\\"punk rock musician\\\",\\n    \\\"carnatic musician and music director\\\",\\n    \\\"musician and music director\\\",\\n    \\\"steelpan musician and designer\\\",\\n    \\\"steelpan musician\\\",\\n    \\\"Tuvan musician\\\",\\n    \\\"bossa nova musician\\\",\\n    \\\"vallenato musician\\\",\\n    \\\"music manager and musician\\\",\\n    \\\"contra dance musician\\\",\\n    \\\"bluegrass musician and banjo player\\\",\\n    \\\"country and rockabilly musician\\\",\\n    \\\"roots musician and entertainment critic\\\",\\n    \\\"roots musician\\\",\\n    \\\"jazz musician and manager\\\",\\n    \\\"jazz musician and radio show host\\\",\\n    \\\"electronic musician and television producer\\\",\\n    \\\"jazz musician and vocal coach involved in the Wrong Door Raid\\\",\\n    \\\"Detroit blues musician\\\",\\n    \\\"folk musician and yueqin player\\\",\\n    \\\"blues and country musician\\\",\\n    \\\"heavy metal musician\\\",\\n    \\\"rock and roll session musician\\\",\\n    \\\"jazz musician and architect\\\",\\n    \\\"musician and radio and television personality\\\",\\n    \\\"Hall of Fame bluegrass musician\\\",\\n    \\\"oud musician\\\",\\n    \\\"music  musician\\\",\\n    \\\"cumbia musician\\\",\\n    \\\"book and album cover designer and jazz musician\\\",\\n    \\\"salsa musician and composer\\\",\\n    \\\"musician and percussion mallet manufacturer\\\",\\n    \\\"Gnawa musician\\\",\\n    \\\"blues rock musician\\\",\\n    \\\"musician and music publishing executive\\\",\\n    \\\"musician and television show host\\\",\\n    \\\"composer and electronic musician\\\",\\n    \\\"M\\u0101ori musician\\\",\\n    \\\"and Manager of Jazz musician Erroll Garner\\\",\\n    \\\"musician and house music producer\\\",\\n    \\\"mariachi musician and\\\",\\n    \\\"mariachi musician\\\",\\n    \\\"merengue and salsa musician\\\",\\n    \\\"pop musician and producer\\\",\\n    \\\"reggae cross over musician\\\",\\n    \\\"Grammy Award winning jazz and new age musician\\\",\\n    \\\"classical dancer and musician\\\",\\n    \\\"dancer and musician\\\",\\n    \\\"musician and film composer\\\",\\n    \\\"rhythm and blues musician\\\",\\n    \\\"jazz and pop musician\\\",\\n    \\\"musician and music producer\\\",\\n    \\\"electric blues musician\\\",\\n    \\\"musician and DJ\\\",\\n    \\\"tango musician\\\",\\n    \\\"Igbo highlife musician\\\",\\n    \\\"dancehall musician\\\",\\n    \\\"ska musician\\\",\\n    \\\"calypso musician\\\",\\n    \\\"soul musician\\\",\\n    \\\"session musician\\\",\\n    \\\"ambient musician\\\",\\n    \\\"Chicago blues musician\\\",\\n    \\\"Hall of Fame musician and record producer\\\",\\n    \\\"big band musician\\\",\\n    \\\"electronic musician and composer\\\",\\n    \\\"folk rock musician\\\",\\n    \\\"Cajun musician\\\",\\n    \\\"Grammy Award winning musician\\\",\\n    \\\"jazz and blues musician\\\",\\n    \\\"traditional musician\\\",\\n    \\\"reggae musician and record producer\\\",\\n    \\\"jazz musician and bandleader\\\",\\n    \\\"musician and bandleader\\\",\\n    \\\"pop musician\\\",\\n    \\\"polka musician\\\",\\n    \\\"musician and conductor\\\",\\n    \\\"Carnatic musician\\\",\\n    \\\"punk musician\\\",\\n    \\\"broadcaster and musician\\\",\\n    \\\"rock and roll musician\\\",\\n    \\\"R&B musician\\\",\\n    \\\"highlife musician\\\",\\n    \\\"hip hop musician\\\",\\n    \\\"record producer and musician\\\",\\n    \\\"musician and producer\\\",\\n    \\\"classical musician and\\\",\\n    \\\"classical musician\\\",\\n    \\\"Hall of Fame musician\\\",\\n    \\\"rockabilly musician\\\",\\n    \\\"electronic musician\\\",\\n    \\\"jazz musician and composer\\\",\\n    \\\"reggae musician\\\",\\n    \\\"musician and record producer\\\",\\n    \\\"country musician\\\",\\n    \\\"and bluegrass musician\\\",\\n    \\\"bluegrass musician\\\",\\n    \\\"composer and musician\\\",\\n    \\\"musician and composer\\\",\\n    \\\"and traditional folk musician\\\",\\n    \\\"folk musician and\\\",\\n    \\\"and folk musician\\\",\\n    \\\"folk musician\\\",\\n    \\\"and rock musician\\\",\\n    \\\"rock musician\\\",\\n    \\\"blues musician and\\\",\\n    \\\"blues musician\\\",\\n    \\\"and jazz musician\\\",\\n    \\\"jazz musician\\\",\\n    \\\"benga musician and\\\",\\n    \\\"musician and television\\\",\\n    \\\"Native musician and\\\",\\n    \\\"musician from\\\",\\n    \\\"and musician\\\",\\n    \\\"musician and\\\",\\n    \\\"musician\\\",\\n]\\nsports = []\\nsciences = []\\n\\nbusiness_farming = []\\nacademia_humanities = []\\nlaw_enf_military_operator = []\\nspiritual = []\\nsocial = []\\ncrime = [\\n    \\\"stalker of musician Bj\\u00f6rk\\\",  # before arts\\n]\\nevent_record_other = []\\nother_species = []\";\n",
       "                var nbb_cells = Jupyter.notebook.get_cells();\n",
       "                for (var i = 0; i < nbb_cells.length; ++i) {\n",
       "                    if (nbb_cells[i].input_prompt_number == nbb_cell_id) {\n",
       "                        if (nbb_cells[i].get_text() == nbb_unformatted_code) {\n",
       "                             nbb_cells[i].set_text(nbb_formatted_code);\n",
       "                        }\n",
       "                        break;\n",
       "                    }\n",
       "                }\n",
       "            }, 500);\n",
       "            "
      ],
      "text/plain": [
       "<IPython.core.display.Javascript object>"
      ]
     },
     "metadata": {},
     "output_type": "display_data"
    }
   ],
   "source": [
    "# Creating lists for each category\n",
    "politics_govt_law = []\n",
    "\n",
    "arts = [\n",
    "    \"musician known for his work with the Beatles\",\n",
    "    \"musician and host of\",\n",
    "    \"musician with the Bothy Band\",\n",
    "    \"award winning blues musician\",\n",
    "    \"shehnai musician and Bharat Ratna winner\",\n",
    "    \"musician known for his work on the theme\",\n",
    "    \"musician who played at the Johannesburg Live concert\",\n",
    "    \"jazz musician and widow of John Coltrane\",\n",
    "    \"musician and husband of Celia Cruz\",\n",
    "    \"musician and founding conductor of Brooklyn Philharmonic Orchestra\",\n",
    "    \"musician and entertainer\",\n",
    "    'musician known as \"Saint Thomas\"',\n",
    "    \"theme song composer and jazz musician\",\n",
    "    \"composer and jazz musician\",\n",
    "    \"Benga musician\",\n",
    "    \"musician credited with creating mambo\",\n",
    "    \"saxophone and clarinet musician\",\n",
    "    \"musician and composer from the band Savage Rose\",\n",
    "    \"musician and founder of the band Bathory\",\n",
    "    \"musician and playwright\",\n",
    "    \"Celtic musician\",\n",
    "    \"Rockabilly musician\",\n",
    "    \"R&B and country & western musician\",\n",
    "    \"Tony nominated orchestrator and musician\",\n",
    "    \"fiddle player and bluegrass musician\",\n",
    "    \"musician with the hardcore punk band Big Boys\",\n",
    "    \"musician and founding member of The Vandals\",\n",
    "    \"musician for acoustic rock band Plush\",\n",
    "    \"steel pan musician\",\n",
    "    \"musician and bagpiper\",\n",
    "    \"musician and essayist with the stage name Buddy Blue\",\n",
    "    \"vocal jazz musician\",\n",
    "    \"dancehall garage musician\",\n",
    "    \"Romani musician\",\n",
    "    \"cartoonist and musician\",\n",
    "    \"soca musician\",\n",
    "    \"musician and one man band\",\n",
    "    \"cajun musician\",\n",
    "    \"rapper and musician\",\n",
    "    \"country musician and producer\",\n",
    "    \"soul and disco musician\",\n",
    "    \"street musician\",\n",
    "    \"Grammy Award winning jazz producer\",\n",
    "    \"Indorock musician\",\n",
    "    \"musician and festival organiser\",\n",
    "    \"comedian and musician\",\n",
    "    \"musician and band manager\",\n",
    "    \"jazz musician and jazz critic\",\n",
    "    \"traditional jazz musician\",\n",
    "    \"country musician and trumpet player\",\n",
    "    \"soul and funk musician\",\n",
    "    \"country musician and comedian\",\n",
    "    \"musician and comedian\",\n",
    "    \"hip hop DJ and musician\",\n",
    "    \"musician and patron of the arts\",\n",
    "    \"club disc jockey and musician\",\n",
    "    \"Reggae musician and composer\",\n",
    "    \"musician and hula expert\",\n",
    "    \"jazz and rock musician\",\n",
    "    \"garage punk musician\",\n",
    "    \"jazz musician and accordionist\",\n",
    "    \"musician and sound recordist\",\n",
    "    \"jazz guitarist and studio musician\",\n",
    "    \"Classical musician\",\n",
    "    \"country musician and television and radio host\",\n",
    "    \"keyboardist and session musician\",\n",
    "    \"musician and radio and TV personality\",\n",
    "    \"Country & Western musician\",\n",
    "    \"rock and R&B musician\",\n",
    "    \"R&B and jazz musician\",\n",
    "    \"rock 'n roll musician\",\n",
    "    \"musician and music business executive\",\n",
    "    \"country music and rockabilly musician\",\n",
    "    \"dixieland jazz musician\",\n",
    "    \"guitarist and studio musician\",\n",
    "    \"musician and inventor of board game Cluedo\",\n",
    "    \"classical musician and tabla player\",\n",
    "    \"soul musician and a guitarist\",\n",
    "    \"reggae musician and Rastafarian\",\n",
    "    \"concert and easy listening musician\",\n",
    "    \"blues and folk musician\",\n",
    "    \"Jùjú musician\",\n",
    "    \"country blues musician\",\n",
    "    \"musician and music publisher\",\n",
    "    \"kadongo kamu musician\",\n",
    "    \"reggae musician and producer\",\n",
    "    \"musician and creator of the seggae genre\",\n",
    "    'jazz musician known as \"Mr Swing\"',\n",
    "    \"musician of music\",\n",
    "    \"children musician\",\n",
    "    \"musician and DJ of Run DMC\",\n",
    "    \"skiffle musician\",\n",
    "    \"musician and star of the Buena Vista Social Club\",\n",
    "    \"string band fiddler and mandolinist and country blues musician\",\n",
    "    \"musician composer and arranger\",\n",
    "    \"rockabilly composer and musician\",\n",
    "    \"soul musician and brother of Marvin Gaye\",\n",
    "    \"musician and serial\",\n",
    "    \"Volksmusik musician and collector\",\n",
    "    \"musician and pioneer of the musical genres of and\",\n",
    "    \"bluegrass and folk musician\",\n",
    "    \"bandleader and musician\",\n",
    "    \"big band style musician\",\n",
    "    \"Jibaro musician\",\n",
    "    \"folk musician and composer\",\n",
    "    \"musician and vocal session arranger\",\n",
    "    \"musician and composer of electronic music\",\n",
    "    \"musician and former member of The Beatles\",\n",
    "    \"Tejano musician\",\n",
    "    \"jazz fusion musician\",\n",
    "    \"entertainer and musician\",\n",
    "    \"outsider musician\",\n",
    "    \"trumpeter and session musician\",\n",
    "    \"architect and musician\",\n",
    "    \"electronic musician and radio host\",\n",
    "    \"sound designer and musician\",\n",
    "    \"electronic dance musician and record producer\",\n",
    "    \"jazz musician and arranger\",\n",
    "    \"Nazrul Sangeet musician\",\n",
    "    \"musician and publisher\",\n",
    "    \"Indigenous musician\",\n",
    "    \"folk and bluegrass musician\",\n",
    "    \"punk and new wave musician\",\n",
    "    \"trance music producer and musician\",\n",
    "    \"Carnatic musician and composer\",\n",
    "    \"Hindustani musician\",\n",
    "    \"jazz musician and band leader\",\n",
    "    \"shehnai musician\",\n",
    "    \"rap musician\",\n",
    "    \"avant garde musician\",\n",
    "    \"ska and mento musician\",\n",
    "    \"synthesizer musician\",\n",
    "    \"musician and choral conductor\",\n",
    "    \"samba musician\",\n",
    "    \"khyal musician\",\n",
    "    \"kwaito musician\",\n",
    "    \"acid house musician\",\n",
    "    \"photographer and musician\",\n",
    "    \"minimalist musician\",\n",
    "    \"trumpeter and brass band musician\",\n",
    "    \"soundtrack composer and musician\",\n",
    "    \"grime musician\",\n",
    "    \"folk rock musician and composer\",\n",
    "    \"disc jockey and musician\",\n",
    "    \"funk and R&B musician\",\n",
    "    \"Grammy award winning musician\",\n",
    "    \"musician and organist\",\n",
    "    \"blues and rock musician\",\n",
    "    \"musician and radio presenter\",\n",
    "    \"Hall of Fame instrumental and surf rock musician\",\n",
    "    \"surf rock musician\",\n",
    "    \"Bubu musician\",\n",
    "    \"musician and dancer\",\n",
    "    \"Andean cumbia musician\",\n",
    "    \"ashik musician\",\n",
    "    \"Hall of Fame blues musician\",\n",
    "    \"sculptor and musician\",\n",
    "    \"experimental musician\",\n",
    "    \"jazz musician and Shinshu Buddhist\",\n",
    "    \"mbira musician\",\n",
    "    \"theatre director and musician\",\n",
    "    \"jazz musician and producer\",\n",
    "    \"Steelpan musician and arranger\",\n",
    "    \"country musician and radio broadcaster\",\n",
    "    \"musician and arranger\",\n",
    "    \"punk rock musician and\",\n",
    "    \"punk rock musician\",\n",
    "    \"carnatic musician and music director\",\n",
    "    \"musician and music director\",\n",
    "    \"steelpan musician and designer\",\n",
    "    \"steelpan musician\",\n",
    "    \"Tuvan musician\",\n",
    "    \"bossa nova musician\",\n",
    "    \"vallenato musician\",\n",
    "    \"music manager and musician\",\n",
    "    \"contra dance musician\",\n",
    "    \"bluegrass musician and banjo player\",\n",
    "    \"country and rockabilly musician\",\n",
    "    \"roots musician and entertainment critic\",\n",
    "    \"roots musician\",\n",
    "    \"jazz musician and manager\",\n",
    "    \"jazz musician and radio show host\",\n",
    "    \"electronic musician and television producer\",\n",
    "    \"jazz musician and vocal coach involved in the Wrong Door Raid\",\n",
    "    \"Detroit blues musician\",\n",
    "    \"folk musician and yueqin player\",\n",
    "    \"blues and country musician\",\n",
    "    \"heavy metal musician\",\n",
    "    \"rock and roll session musician\",\n",
    "    \"jazz musician and architect\",\n",
    "    \"musician and radio and television personality\",\n",
    "    \"Hall of Fame bluegrass musician\",\n",
    "    \"oud musician\",\n",
    "    \"music  musician\",\n",
    "    \"cumbia musician\",\n",
    "    \"book and album cover designer and jazz musician\",\n",
    "    \"salsa musician and composer\",\n",
    "    \"musician and percussion mallet manufacturer\",\n",
    "    \"Gnawa musician\",\n",
    "    \"blues rock musician\",\n",
    "    \"musician and music publishing executive\",\n",
    "    \"musician and television show host\",\n",
    "    \"composer and electronic musician\",\n",
    "    \"Māori musician\",\n",
    "    \"and Manager of Jazz musician Erroll Garner\",\n",
    "    \"musician and house music producer\",\n",
    "    \"mariachi musician and\",\n",
    "    \"mariachi musician\",\n",
    "    \"merengue and salsa musician\",\n",
    "    \"pop musician and producer\",\n",
    "    \"reggae cross over musician\",\n",
    "    \"Grammy Award winning jazz and new age musician\",\n",
    "    \"classical dancer and musician\",\n",
    "    \"dancer and musician\",\n",
    "    \"musician and film composer\",\n",
    "    \"rhythm and blues musician\",\n",
    "    \"jazz and pop musician\",\n",
    "    \"musician and music producer\",\n",
    "    \"electric blues musician\",\n",
    "    \"musician and DJ\",\n",
    "    \"tango musician\",\n",
    "    \"Igbo highlife musician\",\n",
    "    \"dancehall musician\",\n",
    "    \"ska musician\",\n",
    "    \"calypso musician\",\n",
    "    \"soul musician\",\n",
    "    \"session musician\",\n",
    "    \"ambient musician\",\n",
    "    \"Chicago blues musician\",\n",
    "    \"Hall of Fame musician and record producer\",\n",
    "    \"big band musician\",\n",
    "    \"electronic musician and composer\",\n",
    "    \"folk rock musician\",\n",
    "    \"Cajun musician\",\n",
    "    \"Grammy Award winning musician\",\n",
    "    \"jazz and blues musician\",\n",
    "    \"traditional musician\",\n",
    "    \"reggae musician and record producer\",\n",
    "    \"jazz musician and bandleader\",\n",
    "    \"musician and bandleader\",\n",
    "    \"pop musician\",\n",
    "    \"polka musician\",\n",
    "    \"musician and conductor\",\n",
    "    \"Carnatic musician\",\n",
    "    \"punk musician\",\n",
    "    \"broadcaster and musician\",\n",
    "    \"rock and roll musician\",\n",
    "    \"R&B musician\",\n",
    "    \"highlife musician\",\n",
    "    \"hip hop musician\",\n",
    "    \"record producer and musician\",\n",
    "    \"musician and producer\",\n",
    "    \"classical musician and\",\n",
    "    \"classical musician\",\n",
    "    \"Hall of Fame musician\",\n",
    "    \"rockabilly musician\",\n",
    "    \"electronic musician\",\n",
    "    \"jazz musician and composer\",\n",
    "    \"reggae musician\",\n",
    "    \"musician and record producer\",\n",
    "    \"country musician\",\n",
    "    \"and bluegrass musician\",\n",
    "    \"bluegrass musician\",\n",
    "    \"composer and musician\",\n",
    "    \"musician and composer\",\n",
    "    \"and traditional folk musician\",\n",
    "    \"folk musician and\",\n",
    "    \"and folk musician\",\n",
    "    \"folk musician\",\n",
    "    \"and rock musician\",\n",
    "    \"rock musician\",\n",
    "    \"blues musician and\",\n",
    "    \"blues musician\",\n",
    "    \"and jazz musician\",\n",
    "    \"jazz musician\",\n",
    "    \"benga musician and\",\n",
    "    \"musician and television\",\n",
    "    \"Native musician and\",\n",
    "    \"musician from\",\n",
    "    \"and musician\",\n",
    "    \"musician and\",\n",
    "    \"musician\",\n",
    "]\n",
    "sports = []\n",
    "sciences = []\n",
    "\n",
    "business_farming = []\n",
    "academia_humanities = []\n",
    "law_enf_military_operator = []\n",
    "spiritual = []\n",
    "social = []\n",
    "crime = [\n",
    "    \"stalker of musician Björk\",  # before arts\n",
    "]\n",
    "event_record_other = []\n",
    "other_species = []"
   ]
  },
  {
   "cell_type": "markdown",
   "id": "e8e19229",
   "metadata": {},
   "source": [
    "#### Creating `known_for_dict` Dictionary of Category Keys and Specific Role Lists of Values"
   ]
  },
  {
   "cell_type": "code",
   "execution_count": 48,
   "id": "67b94f08",
   "metadata": {},
   "outputs": [
    {
     "data": {
      "application/javascript": [
       "\n",
       "            setTimeout(function() {\n",
       "                var nbb_cell_id = 48;\n",
       "                var nbb_unformatted_code = \"# Combining separate lists into one dictionary\\nknown_for_dict = {\\n    \\\"social\\\": social,\\n    \\\"spiritual\\\": spiritual,\\n    \\\"academia_humanities\\\": academia_humanities,\\n    \\\"business_farming\\\": business_farming,\\n    \\\"sciences\\\": sciences,\\n    \\\"politics_govt_law\\\": politics_govt_law,\\n    \\\"law_enf_military_operator\\\": law_enf_military_operator,\\n    \\\"crime\\\": crime,\\n    \\\"event_record_other\\\": event_record_other,\\n    \\\"other_species\\\": other_species,\\n    \\\"arts\\\": arts,\\n    \\\"sports\\\": sports,\\n}\";\n",
       "                var nbb_formatted_code = \"# Combining separate lists into one dictionary\\nknown_for_dict = {\\n    \\\"social\\\": social,\\n    \\\"spiritual\\\": spiritual,\\n    \\\"academia_humanities\\\": academia_humanities,\\n    \\\"business_farming\\\": business_farming,\\n    \\\"sciences\\\": sciences,\\n    \\\"politics_govt_law\\\": politics_govt_law,\\n    \\\"law_enf_military_operator\\\": law_enf_military_operator,\\n    \\\"crime\\\": crime,\\n    \\\"event_record_other\\\": event_record_other,\\n    \\\"other_species\\\": other_species,\\n    \\\"arts\\\": arts,\\n    \\\"sports\\\": sports,\\n}\";\n",
       "                var nbb_cells = Jupyter.notebook.get_cells();\n",
       "                for (var i = 0; i < nbb_cells.length; ++i) {\n",
       "                    if (nbb_cells[i].input_prompt_number == nbb_cell_id) {\n",
       "                        if (nbb_cells[i].get_text() == nbb_unformatted_code) {\n",
       "                             nbb_cells[i].set_text(nbb_formatted_code);\n",
       "                        }\n",
       "                        break;\n",
       "                    }\n",
       "                }\n",
       "            }, 500);\n",
       "            "
      ],
      "text/plain": [
       "<IPython.core.display.Javascript object>"
      ]
     },
     "metadata": {},
     "output_type": "display_data"
    }
   ],
   "source": [
    "# Combining separate lists into one dictionary\n",
    "known_for_dict = {\n",
    "    \"social\": social,\n",
    "    \"spiritual\": spiritual,\n",
    "    \"academia_humanities\": academia_humanities,\n",
    "    \"business_farming\": business_farming,\n",
    "    \"sciences\": sciences,\n",
    "    \"politics_govt_law\": politics_govt_law,\n",
    "    \"law_enf_military_operator\": law_enf_military_operator,\n",
    "    \"crime\": crime,\n",
    "    \"event_record_other\": event_record_other,\n",
    "    \"other_species\": other_species,\n",
    "    \"arts\": arts,\n",
    "    \"sports\": sports,\n",
    "}"
   ]
  },
  {
   "cell_type": "markdown",
   "id": "611779af",
   "metadata": {},
   "source": [
    "#### Extracting Category from `info_2`"
   ]
  },
  {
   "cell_type": "code",
   "execution_count": 49,
   "id": "0ba477c8",
   "metadata": {},
   "outputs": [
    {
     "name": "stdout",
     "output_type": "stream",
     "text": [
      "CPU times: total: 2min 28s\n",
      "Wall time: 2min 28s\n"
     ]
    },
    {
     "data": {
      "text/html": [
       "<div>\n",
       "<style scoped>\n",
       "    .dataframe tbody tr th:only-of-type {\n",
       "        vertical-align: middle;\n",
       "    }\n",
       "\n",
       "    .dataframe tbody tr th {\n",
       "        vertical-align: top;\n",
       "    }\n",
       "\n",
       "    .dataframe thead th {\n",
       "        text-align: right;\n",
       "    }\n",
       "</style>\n",
       "<table border=\"1\" class=\"dataframe\">\n",
       "  <thead>\n",
       "    <tr style=\"text-align: right;\">\n",
       "      <th></th>\n",
       "      <th>day</th>\n",
       "      <th>name</th>\n",
       "      <th>info</th>\n",
       "      <th>link</th>\n",
       "      <th>num_references</th>\n",
       "      <th>year</th>\n",
       "      <th>month</th>\n",
       "      <th>info_parenth</th>\n",
       "      <th>info_1</th>\n",
       "      <th>info_2</th>\n",
       "      <th>info_3</th>\n",
       "      <th>info_4</th>\n",
       "      <th>info_5</th>\n",
       "      <th>info_6</th>\n",
       "      <th>info_7</th>\n",
       "      <th>info_8</th>\n",
       "      <th>info_9</th>\n",
       "      <th>info_10</th>\n",
       "      <th>info_11</th>\n",
       "      <th>age</th>\n",
       "      <th>cause_of_death</th>\n",
       "      <th>place_1</th>\n",
       "      <th>place_2</th>\n",
       "      <th>info_parenth_copy</th>\n",
       "      <th>log_num_references</th>\n",
       "      <th>sciences</th>\n",
       "      <th>social</th>\n",
       "      <th>spiritual</th>\n",
       "      <th>academia_humanities</th>\n",
       "      <th>business_farming</th>\n",
       "      <th>arts</th>\n",
       "      <th>sports</th>\n",
       "      <th>law_enf_military_operator</th>\n",
       "      <th>politics_govt_law</th>\n",
       "      <th>crime</th>\n",
       "      <th>event_record_other</th>\n",
       "      <th>other_species</th>\n",
       "      <th>num_categories</th>\n",
       "    </tr>\n",
       "  </thead>\n",
       "  <tbody>\n",
       "    <tr>\n",
       "      <th>19808</th>\n",
       "      <td>5</td>\n",
       "      <td>Bele Bachem</td>\n",
       "      <td>, 89, German graphic artist, book illustrator and writer.</td>\n",
       "      <td>https://en.wikipedia.org/wiki/Bele_Bachem</td>\n",
       "      <td>4</td>\n",
       "      <td>2005</td>\n",
       "      <td>June</td>\n",
       "      <td>None</td>\n",
       "      <td>None</td>\n",
       "      <td></td>\n",
       "      <td>book illustrator and writer</td>\n",
       "      <td>None</td>\n",
       "      <td>None</td>\n",
       "      <td>None</td>\n",
       "      <td>None</td>\n",
       "      <td>None</td>\n",
       "      <td>None</td>\n",
       "      <td>None</td>\n",
       "      <td>None</td>\n",
       "      <td>89.0</td>\n",
       "      <td>None</td>\n",
       "      <td>Germany</td>\n",
       "      <td>None</td>\n",
       "      <td>None</td>\n",
       "      <td>1.609438</td>\n",
       "      <td>0</td>\n",
       "      <td>0</td>\n",
       "      <td>0</td>\n",
       "      <td>0</td>\n",
       "      <td>0</td>\n",
       "      <td>1</td>\n",
       "      <td>0</td>\n",
       "      <td>0</td>\n",
       "      <td>0</td>\n",
       "      <td>0</td>\n",
       "      <td>0</td>\n",
       "      <td>0</td>\n",
       "      <td>1</td>\n",
       "    </tr>\n",
       "    <tr>\n",
       "      <th>15894</th>\n",
       "      <td>1</td>\n",
       "      <td>Cyril Shaps</td>\n",
       "      <td>, 79, British actor .</td>\n",
       "      <td>https://en.wikipedia.org/wiki/Cyril_Shaps</td>\n",
       "      <td>9</td>\n",
       "      <td>2003</td>\n",
       "      <td>January</td>\n",
       "      <td>, ,</td>\n",
       "      <td>None</td>\n",
       "      <td></td>\n",
       "      <td>None</td>\n",
       "      <td>None</td>\n",
       "      <td>None</td>\n",
       "      <td>None</td>\n",
       "      <td>None</td>\n",
       "      <td>None</td>\n",
       "      <td>None</td>\n",
       "      <td>None</td>\n",
       "      <td>None</td>\n",
       "      <td>79.0</td>\n",
       "      <td>None</td>\n",
       "      <td>United Kingdom of Great Britain and Northern Ireland</td>\n",
       "      <td>None</td>\n",
       "      <td>, ,</td>\n",
       "      <td>2.302585</td>\n",
       "      <td>0</td>\n",
       "      <td>0</td>\n",
       "      <td>0</td>\n",
       "      <td>0</td>\n",
       "      <td>0</td>\n",
       "      <td>1</td>\n",
       "      <td>0</td>\n",
       "      <td>0</td>\n",
       "      <td>0</td>\n",
       "      <td>0</td>\n",
       "      <td>0</td>\n",
       "      <td>0</td>\n",
       "      <td>1</td>\n",
       "    </tr>\n",
       "  </tbody>\n",
       "</table>\n",
       "</div>"
      ],
      "text/plain": [
       "      day         name  \\\n",
       "19808   5  Bele Bachem   \n",
       "15894   1  Cyril Shaps   \n",
       "\n",
       "                                                            info  \\\n",
       "19808  , 89, German graphic artist, book illustrator and writer.   \n",
       "15894                                      , 79, British actor .   \n",
       "\n",
       "                                            link  num_references  year  \\\n",
       "19808  https://en.wikipedia.org/wiki/Bele_Bachem               4  2005   \n",
       "15894  https://en.wikipedia.org/wiki/Cyril_Shaps               9  2003   \n",
       "\n",
       "         month info_parenth info_1 info_2                       info_3 info_4  \\\n",
       "19808     June         None   None         book illustrator and writer   None   \n",
       "15894  January          , ,   None                                None   None   \n",
       "\n",
       "      info_5 info_6 info_7 info_8 info_9 info_10 info_11   age cause_of_death  \\\n",
       "19808   None   None   None   None   None    None    None  89.0           None   \n",
       "15894   None   None   None   None   None    None    None  79.0           None   \n",
       "\n",
       "                                                    place_1 place_2  \\\n",
       "19808                                               Germany    None   \n",
       "15894  United Kingdom of Great Britain and Northern Ireland    None   \n",
       "\n",
       "      info_parenth_copy  log_num_references  sciences  social  spiritual  \\\n",
       "19808              None            1.609438         0       0          0   \n",
       "15894               , ,            2.302585         0       0          0   \n",
       "\n",
       "       academia_humanities  business_farming  arts  sports  \\\n",
       "19808                    0                 0     1       0   \n",
       "15894                    0                 0     1       0   \n",
       "\n",
       "       law_enf_military_operator  politics_govt_law  crime  \\\n",
       "19808                          0                  0      0   \n",
       "15894                          0                  0      0   \n",
       "\n",
       "       event_record_other  other_species  num_categories  \n",
       "19808                   0              0               1  \n",
       "15894                   0              0               1  "
      ]
     },
     "execution_count": 49,
     "metadata": {},
     "output_type": "execute_result"
    },
    {
     "data": {
      "application/javascript": [
       "\n",
       "            setTimeout(function() {\n",
       "                var nbb_cell_id = 49;\n",
       "                var nbb_unformatted_code = \"%%time\\n\\n# Dictionary version\\nsearch_dict = known_for_dict\\n\\n# Column to check\\ncolumn = 'info_2'\\n\\n# Dataframe\\ndataframe = df[column].notna()\\n\\n# For loop to find role in column and extract it as category\\nfor category, category_lst in search_dict.items():\\n    for role in category_lst:\\n        for index in dataframe.index:\\n            item = df.loc[index, column]\\n            if item:\\n                if role in item:\\n                    df.loc[index, category] = 1\\n                    df.loc[index, column] = item.replace(role, '').strip()\\n                    \\n# Updating num_categories\\ndf[\\\"num_categories\\\"] = df[known_for_dict.keys()].sum(axis=1)\\n\\n# Checking a sample of rows\\ndf[df['arts'] ==1].sample(2)\";\n",
       "                var nbb_formatted_code = \"%%time\\n\\n# Dictionary version\\nsearch_dict = known_for_dict\\n\\n# Column to check\\ncolumn = 'info_2'\\n\\n# Dataframe\\ndataframe = df[column].notna()\\n\\n# For loop to find role in column and extract it as category\\nfor category, category_lst in search_dict.items():\\n    for role in category_lst:\\n        for index in dataframe.index:\\n            item = df.loc[index, column]\\n            if item:\\n                if role in item:\\n                    df.loc[index, category] = 1\\n                    df.loc[index, column] = item.replace(role, '').strip()\\n                    \\n# Updating num_categories\\ndf[\\\"num_categories\\\"] = df[known_for_dict.keys()].sum(axis=1)\\n\\n# Checking a sample of rows\\ndf[df['arts'] ==1].sample(2)\";\n",
       "                var nbb_cells = Jupyter.notebook.get_cells();\n",
       "                for (var i = 0; i < nbb_cells.length; ++i) {\n",
       "                    if (nbb_cells[i].input_prompt_number == nbb_cell_id) {\n",
       "                        if (nbb_cells[i].get_text() == nbb_unformatted_code) {\n",
       "                             nbb_cells[i].set_text(nbb_formatted_code);\n",
       "                        }\n",
       "                        break;\n",
       "                    }\n",
       "                }\n",
       "            }, 500);\n",
       "            "
      ],
      "text/plain": [
       "<IPython.core.display.Javascript object>"
      ]
     },
     "metadata": {},
     "output_type": "display_data"
    }
   ],
   "source": [
    "%%time\n",
    "\n",
    "# Dictionary version\n",
    "search_dict = known_for_dict\n",
    "\n",
    "# Column to check\n",
    "column = 'info_2'\n",
    "\n",
    "# Dataframe\n",
    "dataframe = df[column].notna()\n",
    "\n",
    "# For loop to find role in column and extract it as category\n",
    "for category, category_lst in search_dict.items():\n",
    "    for role in category_lst:\n",
    "        for index in dataframe.index:\n",
    "            item = df.loc[index, column]\n",
    "            if item:\n",
    "                if role in item:\n",
    "                    df.loc[index, category] = 1\n",
    "                    df.loc[index, column] = item.replace(role, '').strip()\n",
    "                    \n",
    "# Updating num_categories\n",
    "df[\"num_categories\"] = df[known_for_dict.keys()].sum(axis=1)\n",
    "\n",
    "# Checking a sample of rows\n",
    "df[df['arts'] ==1].sample(2)"
   ]
  },
  {
   "cell_type": "markdown",
   "id": "a4222df7",
   "metadata": {},
   "source": [
    "#### Checking the Number of Rows without a First Category"
   ]
  },
  {
   "cell_type": "code",
   "execution_count": 50,
   "id": "cdd03d49",
   "metadata": {},
   "outputs": [
    {
     "name": "stdout",
     "output_type": "stream",
     "text": [
      "There are 49640 entries without any known_for category.\n"
     ]
    },
    {
     "data": {
      "application/javascript": [
       "\n",
       "            setTimeout(function() {\n",
       "                var nbb_cell_id = 50;\n",
       "                var nbb_unformatted_code = \"#### Checking the number of rows without a first category\\nprint(\\n    f'There are {len(df[df[\\\"num_categories\\\"]==0])} entries without any known_for category.'\\n)\";\n",
       "                var nbb_formatted_code = \"#### Checking the number of rows without a first category\\nprint(\\n    f'There are {len(df[df[\\\"num_categories\\\"]==0])} entries without any known_for category.'\\n)\";\n",
       "                var nbb_cells = Jupyter.notebook.get_cells();\n",
       "                for (var i = 0; i < nbb_cells.length; ++i) {\n",
       "                    if (nbb_cells[i].input_prompt_number == nbb_cell_id) {\n",
       "                        if (nbb_cells[i].get_text() == nbb_unformatted_code) {\n",
       "                             nbb_cells[i].set_text(nbb_formatted_code);\n",
       "                        }\n",
       "                        break;\n",
       "                    }\n",
       "                }\n",
       "            }, 500);\n",
       "            "
      ],
      "text/plain": [
       "<IPython.core.display.Javascript object>"
      ]
     },
     "metadata": {},
     "output_type": "display_data"
    }
   ],
   "source": [
    "#### Checking the number of rows without a first category\n",
    "print(\n",
    "    f'There are {len(df[df[\"num_categories\"]==0])} entries without any known_for category.'\n",
    ")"
   ]
  },
  {
   "cell_type": "markdown",
   "id": "774649b8",
   "metadata": {},
   "source": [
    "#### Observations:\n",
    "- We will proceed to rebuild `known_for_dict` for the next iteration."
   ]
  },
  {
   "cell_type": "markdown",
   "id": "f2ff678c",
   "metadata": {},
   "source": [
    "#### Finding `known_for` Roles in `info_2`"
   ]
  },
  {
   "cell_type": "code",
   "execution_count": 51,
   "id": "c6d68a7b",
   "metadata": {},
   "outputs": [
    {
     "data": {
      "application/javascript": [
       "\n",
       "            setTimeout(function() {\n",
       "                var nbb_cell_id = 51;\n",
       "                var nbb_unformatted_code = \"# Obtaining values for column and their counts\\nroles_list = df[\\\"info_2\\\"].value_counts(ascending=True).index.tolist()\";\n",
       "                var nbb_formatted_code = \"# Obtaining values for column and their counts\\nroles_list = df[\\\"info_2\\\"].value_counts(ascending=True).index.tolist()\";\n",
       "                var nbb_cells = Jupyter.notebook.get_cells();\n",
       "                for (var i = 0; i < nbb_cells.length; ++i) {\n",
       "                    if (nbb_cells[i].input_prompt_number == nbb_cell_id) {\n",
       "                        if (nbb_cells[i].get_text() == nbb_unformatted_code) {\n",
       "                             nbb_cells[i].set_text(nbb_formatted_code);\n",
       "                        }\n",
       "                        break;\n",
       "                    }\n",
       "                }\n",
       "            }, 500);\n",
       "            "
      ],
      "text/plain": [
       "<IPython.core.display.Javascript object>"
      ]
     },
     "metadata": {},
     "output_type": "display_data"
    }
   ],
   "source": [
    "# Obtaining values for column and their counts\n",
    "roles_list = df[\"info_2\"].value_counts(ascending=True).index.tolist()"
   ]
  },
  {
   "cell_type": "code",
   "execution_count": 52,
   "id": "00d13ba5",
   "metadata": {},
   "outputs": [
    {
     "data": {
      "application/javascript": [
       "\n",
       "            setTimeout(function() {\n",
       "                var nbb_cell_id = 52;\n",
       "                var nbb_unformatted_code = \"# # Code to check each value\\n# roles_list.pop()\";\n",
       "                var nbb_formatted_code = \"# # Code to check each value\\n# roles_list.pop()\";\n",
       "                var nbb_cells = Jupyter.notebook.get_cells();\n",
       "                for (var i = 0; i < nbb_cells.length; ++i) {\n",
       "                    if (nbb_cells[i].input_prompt_number == nbb_cell_id) {\n",
       "                        if (nbb_cells[i].get_text() == nbb_unformatted_code) {\n",
       "                             nbb_cells[i].set_text(nbb_formatted_code);\n",
       "                        }\n",
       "                        break;\n",
       "                    }\n",
       "                }\n",
       "            }, 500);\n",
       "            "
      ],
      "text/plain": [
       "<IPython.core.display.Javascript object>"
      ]
     },
     "metadata": {},
     "output_type": "display_data"
    }
   ],
   "source": [
    "# # Code to check each value\n",
    "# roles_list.pop()"
   ]
  },
  {
   "cell_type": "code",
   "execution_count": 53,
   "id": "0cfeeb84",
   "metadata": {},
   "outputs": [
    {
     "data": {
      "application/javascript": [
       "\n",
       "            setTimeout(function() {\n",
       "                var nbb_cell_id = 53;\n",
       "                var nbb_unformatted_code = \"# # Create specific_roles_list for above popped value\\n# specific_roles_list = (\\n#     df.loc[\\n#         [index for index in df.index if \\\"diplomat\\\" in df.loc[index, \\\"info\\\"]], \\\"info_2\\\",\\n#     ]\\n#     .value_counts()\\n#     .index.tolist()\\n# )\";\n",
       "                var nbb_formatted_code = \"# # Create specific_roles_list for above popped value\\n# specific_roles_list = (\\n#     df.loc[\\n#         [index for index in df.index if \\\"diplomat\\\" in df.loc[index, \\\"info\\\"]], \\\"info_2\\\",\\n#     ]\\n#     .value_counts()\\n#     .index.tolist()\\n# )\";\n",
       "                var nbb_cells = Jupyter.notebook.get_cells();\n",
       "                for (var i = 0; i < nbb_cells.length; ++i) {\n",
       "                    if (nbb_cells[i].input_prompt_number == nbb_cell_id) {\n",
       "                        if (nbb_cells[i].get_text() == nbb_unformatted_code) {\n",
       "                             nbb_cells[i].set_text(nbb_formatted_code);\n",
       "                        }\n",
       "                        break;\n",
       "                    }\n",
       "                }\n",
       "            }, 500);\n",
       "            "
      ],
      "text/plain": [
       "<IPython.core.display.Javascript object>"
      ]
     },
     "metadata": {},
     "output_type": "display_data"
    }
   ],
   "source": [
    "# # Create specific_roles_list for above popped value\n",
    "# specific_roles_list = (\n",
    "#     df.loc[\n",
    "#         [index for index in df.index if \"diplomat\" in df.loc[index, \"info\"]], \"info_2\",\n",
    "#     ]\n",
    "#     .value_counts()\n",
    "#     .index.tolist()\n",
    "# )"
   ]
  },
  {
   "cell_type": "code",
   "execution_count": 54,
   "id": "f21232a3",
   "metadata": {},
   "outputs": [
    {
     "data": {
      "application/javascript": [
       "\n",
       "            setTimeout(function() {\n",
       "                var nbb_cell_id = 54;\n",
       "                var nbb_unformatted_code = \"# # Code to check each specific value\\n# specific_roles_list.pop()\";\n",
       "                var nbb_formatted_code = \"# # Code to check each specific value\\n# specific_roles_list.pop()\";\n",
       "                var nbb_cells = Jupyter.notebook.get_cells();\n",
       "                for (var i = 0; i < nbb_cells.length; ++i) {\n",
       "                    if (nbb_cells[i].input_prompt_number == nbb_cell_id) {\n",
       "                        if (nbb_cells[i].get_text() == nbb_unformatted_code) {\n",
       "                             nbb_cells[i].set_text(nbb_formatted_code);\n",
       "                        }\n",
       "                        break;\n",
       "                    }\n",
       "                }\n",
       "            }, 500);\n",
       "            "
      ],
      "text/plain": [
       "<IPython.core.display.Javascript object>"
      ]
     },
     "metadata": {},
     "output_type": "display_data"
    }
   ],
   "source": [
    "# # Code to check each specific value\n",
    "# specific_roles_list.pop()"
   ]
  },
  {
   "cell_type": "code",
   "execution_count": 55,
   "id": "966a6187",
   "metadata": {},
   "outputs": [
    {
     "data": {
      "application/javascript": [
       "\n",
       "            setTimeout(function() {\n",
       "                var nbb_cell_id = 55;\n",
       "                var nbb_unformatted_code = \"# # Example code to quick-screen values that may overlap categories\\n# df.loc[\\n#     [index for index in df.index if \\\"and kidnapping survivor\\\" in df.loc[index, \\\"info\\\"]]\\n# ]\";\n",
       "                var nbb_formatted_code = \"# # Example code to quick-screen values that may overlap categories\\n# df.loc[\\n#     [index for index in df.index if \\\"and kidnapping survivor\\\" in df.loc[index, \\\"info\\\"]]\\n# ]\";\n",
       "                var nbb_cells = Jupyter.notebook.get_cells();\n",
       "                for (var i = 0; i < nbb_cells.length; ++i) {\n",
       "                    if (nbb_cells[i].input_prompt_number == nbb_cell_id) {\n",
       "                        if (nbb_cells[i].get_text() == nbb_unformatted_code) {\n",
       "                             nbb_cells[i].set_text(nbb_formatted_code);\n",
       "                        }\n",
       "                        break;\n",
       "                    }\n",
       "                }\n",
       "            }, 500);\n",
       "            "
      ],
      "text/plain": [
       "<IPython.core.display.Javascript object>"
      ]
     },
     "metadata": {},
     "output_type": "display_data"
    }
   ],
   "source": [
    "# # Example code to quick-screen values that may overlap categories\n",
    "# df.loc[\n",
    "#     [index for index in df.index if \"and kidnapping survivor\" in df.loc[index, \"info\"]]\n",
    "# ]"
   ]
  },
  {
   "cell_type": "code",
   "execution_count": 56,
   "id": "e31efec1",
   "metadata": {},
   "outputs": [
    {
     "data": {
      "application/javascript": [
       "\n",
       "            setTimeout(function() {\n",
       "                var nbb_cell_id = 56;\n",
       "                var nbb_unformatted_code = \"# # Example code to quick-screen values that may overlap categories\\n# df.loc[\\n#     [\\n#         index\\n#         for index in df.index\\n#         if \\\"outlaw country music singer songwriter\\\" in df.loc[index, \\\"info\\\"]\\n#     ]\\n# ]\";\n",
       "                var nbb_formatted_code = \"# # Example code to quick-screen values that may overlap categories\\n# df.loc[\\n#     [\\n#         index\\n#         for index in df.index\\n#         if \\\"outlaw country music singer songwriter\\\" in df.loc[index, \\\"info\\\"]\\n#     ]\\n# ]\";\n",
       "                var nbb_cells = Jupyter.notebook.get_cells();\n",
       "                for (var i = 0; i < nbb_cells.length; ++i) {\n",
       "                    if (nbb_cells[i].input_prompt_number == nbb_cell_id) {\n",
       "                        if (nbb_cells[i].get_text() == nbb_unformatted_code) {\n",
       "                             nbb_cells[i].set_text(nbb_formatted_code);\n",
       "                        }\n",
       "                        break;\n",
       "                    }\n",
       "                }\n",
       "            }, 500);\n",
       "            "
      ],
      "text/plain": [
       "<IPython.core.display.Javascript object>"
      ]
     },
     "metadata": {},
     "output_type": "display_data"
    }
   ],
   "source": [
    "# # Example code to quick-screen values that may overlap categories\n",
    "# df.loc[\n",
    "#     [\n",
    "#         index\n",
    "#         for index in df.index\n",
    "#         if \"outlaw country music singer songwriter\" in df.loc[index, \"info\"]\n",
    "#     ]\n",
    "# ]"
   ]
  },
  {
   "cell_type": "code",
   "execution_count": 57,
   "id": "42c6ee5c",
   "metadata": {},
   "outputs": [
    {
     "data": {
      "application/javascript": [
       "\n",
       "            setTimeout(function() {\n",
       "                var nbb_cell_id = 57;\n",
       "                var nbb_unformatted_code = \"# # Example code to quick-check a specific entry\\n# df[df[\\\"info_2\\\"] == \\\"outlaw country music singer songwriter\\\"]\";\n",
       "                var nbb_formatted_code = \"# # Example code to quick-check a specific entry\\n# df[df[\\\"info_2\\\"] == \\\"outlaw country music singer songwriter\\\"]\";\n",
       "                var nbb_cells = Jupyter.notebook.get_cells();\n",
       "                for (var i = 0; i < nbb_cells.length; ++i) {\n",
       "                    if (nbb_cells[i].input_prompt_number == nbb_cell_id) {\n",
       "                        if (nbb_cells[i].get_text() == nbb_unformatted_code) {\n",
       "                             nbb_cells[i].set_text(nbb_formatted_code);\n",
       "                        }\n",
       "                        break;\n",
       "                    }\n",
       "                }\n",
       "            }, 500);\n",
       "            "
      ],
      "text/plain": [
       "<IPython.core.display.Javascript object>"
      ]
     },
     "metadata": {},
     "output_type": "display_data"
    }
   ],
   "source": [
    "# # Example code to quick-check a specific entry\n",
    "# df[df[\"info_2\"] == \"outlaw country music singer songwriter\"]"
   ]
  },
  {
   "cell_type": "markdown",
   "id": "0953f772",
   "metadata": {},
   "source": [
    "#### Creating Lists for Each `known_for` Category"
   ]
  },
  {
   "cell_type": "code",
   "execution_count": 58,
   "id": "7c396a63",
   "metadata": {},
   "outputs": [
    {
     "data": {
      "application/javascript": [
       "\n",
       "            setTimeout(function() {\n",
       "                var nbb_cell_id = 58;\n",
       "                var nbb_unformatted_code = \"# Creating lists for each category\\npolitics_govt_law = [\\n    \\\"environmentalist and diplomat\\\",\\n    \\\"husband of Queen Beatrix of the and diplomat\\\",\\n    \\\"diplomat and employee of Agency for International Development\\\",\\n    \\\"Foreign Service Officer and diplomat\\\",\\n    \\\"diplomat and Apostolic Nuncio to the Republic of\\\",\\n    \\\"diplomat and Cold War arms negotiator\\\",\\n    \\\"diplomat and foreign minister\\\",\\n    \\\"diplomat and ambassador to Arabia\\\",\\n    \\\"federal judge and diplomat\\\",\\n    \\\"first female diplomat and ambassador\\\",\\n    \\\"aristocrat and diplomat\\\",\\n    \\\"diplomatic clerk\\\",\\n    \\\"diplomat and Governor of New South\\\",\\n    \\\"diplomatand ambassador\\\",\\n    \\\"diplomat and State Department official\\\",\\n    \\\"diplomat and High Commissioner of\\\",\\n    \\\"diplomat with the Department of State\\\",\\n    \\\"diplomat and Minister of Foreign Affairs\\\",\\n    \\\"diplomat and st Secretary General of UNCTAD\\\",\\n    \\\"diplomat and defector\\\",\\n    \\\"and diplomat for the Holy See\\\",\\n    \\\"diplomat and Medal of Freedom recipient\\\",\\n    \\\"diplomat and attorney\\\",\\n    \\\"career diplomat\\\",\\n    \\\"government diplomat and governor\\\",\\n    \\\"social advocate and diplomat\\\",\\n    \\\"diplomat and government official\\\",\\n    \\\"political aide and diplomat\\\",\\n    \\\"peer and diplomat\\\",\\n    \\\"diplomat and courtier\\\",\\n    \\\"diplomat and life peer\\\",\\n    \\\"diplomat and independentism leader\\\",\\n    \\\"political scientist and diplomat\\\",\\n    \\\"ambassador and diplomat\\\",\\n    \\\"diplomat and diplomatic analyst\\\",\\n    \\\"Chickasaw Nation diplomat\\\",\\n    \\\"diplomat and economist\\\",\\n    \\\"diplomat and adviser\\\",\\n    \\\"political  diplomat\\\",\\n    \\\"diplomat and legal\\\",\\n    \\\"political figure and diplomat\\\",\\n    \\\"diplomat and peer\\\",\\n    \\\"diplomat and activist\\\",\\n    \\\"attorney and diplomat\\\",\\n    \\\"diplomat and political analyst\\\",\\n    \\\"jurist and diplomat\\\",\\n    \\\"diplomat and jurist\\\",\\n    \\\"diplomat and civil servant\\\",\\n    \\\"diplomat and aristocrat\\\",\\n    \\\"diplomat and colonial administrator\\\",\\n    \\\"diplomat and political scientist\\\",\\n    \\\"diplomat and lawyer\\\",\\n    \\\"civil servant and diplomat\\\",\\n    \\\"diplomat and public servant\\\",\\n    \\\"economist and diplomat\\\",\\n    \\\"lawyer and diplomat\\\",\\n    \\\"public servant and diplomat\\\",\\n    \\\"diplomat and ambassador\\\",\\n    \\\"diplomat serving in\\\",\\n    \\\"diplomat Ambassador to\\\",\\n    \\\"and diplomatic advisor\\\",\\n    \\\"and diplomat in the\\\",\\n    \\\"diplomat to\\\",\\n    \\\"diplomat and\\\",\\n    \\\"and diplomat\\\",\\n    \\\"diplomat\\\",\\n]\\n\\narts = []\\nsports = []\\nsciences = []\\n\\nbusiness_farming = []\\nacademia_humanities = []\\nlaw_enf_military_operator = []\\nspiritual = []\\nsocial = []\\ncrime = []\\nevent_record_other = [\\\"and kidnapping survivor\\\"]\\nother_species = []\";\n",
       "                var nbb_formatted_code = \"# Creating lists for each category\\npolitics_govt_law = [\\n    \\\"environmentalist and diplomat\\\",\\n    \\\"husband of Queen Beatrix of the and diplomat\\\",\\n    \\\"diplomat and employee of Agency for International Development\\\",\\n    \\\"Foreign Service Officer and diplomat\\\",\\n    \\\"diplomat and Apostolic Nuncio to the Republic of\\\",\\n    \\\"diplomat and Cold War arms negotiator\\\",\\n    \\\"diplomat and foreign minister\\\",\\n    \\\"diplomat and ambassador to Arabia\\\",\\n    \\\"federal judge and diplomat\\\",\\n    \\\"first female diplomat and ambassador\\\",\\n    \\\"aristocrat and diplomat\\\",\\n    \\\"diplomatic clerk\\\",\\n    \\\"diplomat and Governor of New South\\\",\\n    \\\"diplomatand ambassador\\\",\\n    \\\"diplomat and State Department official\\\",\\n    \\\"diplomat and High Commissioner of\\\",\\n    \\\"diplomat with the Department of State\\\",\\n    \\\"diplomat and Minister of Foreign Affairs\\\",\\n    \\\"diplomat and st Secretary General of UNCTAD\\\",\\n    \\\"diplomat and defector\\\",\\n    \\\"and diplomat for the Holy See\\\",\\n    \\\"diplomat and Medal of Freedom recipient\\\",\\n    \\\"diplomat and attorney\\\",\\n    \\\"career diplomat\\\",\\n    \\\"government diplomat and governor\\\",\\n    \\\"social advocate and diplomat\\\",\\n    \\\"diplomat and government official\\\",\\n    \\\"political aide and diplomat\\\",\\n    \\\"peer and diplomat\\\",\\n    \\\"diplomat and courtier\\\",\\n    \\\"diplomat and life peer\\\",\\n    \\\"diplomat and independentism leader\\\",\\n    \\\"political scientist and diplomat\\\",\\n    \\\"ambassador and diplomat\\\",\\n    \\\"diplomat and diplomatic analyst\\\",\\n    \\\"Chickasaw Nation diplomat\\\",\\n    \\\"diplomat and economist\\\",\\n    \\\"diplomat and adviser\\\",\\n    \\\"political  diplomat\\\",\\n    \\\"diplomat and legal\\\",\\n    \\\"political figure and diplomat\\\",\\n    \\\"diplomat and peer\\\",\\n    \\\"diplomat and activist\\\",\\n    \\\"attorney and diplomat\\\",\\n    \\\"diplomat and political analyst\\\",\\n    \\\"jurist and diplomat\\\",\\n    \\\"diplomat and jurist\\\",\\n    \\\"diplomat and civil servant\\\",\\n    \\\"diplomat and aristocrat\\\",\\n    \\\"diplomat and colonial administrator\\\",\\n    \\\"diplomat and political scientist\\\",\\n    \\\"diplomat and lawyer\\\",\\n    \\\"civil servant and diplomat\\\",\\n    \\\"diplomat and public servant\\\",\\n    \\\"economist and diplomat\\\",\\n    \\\"lawyer and diplomat\\\",\\n    \\\"public servant and diplomat\\\",\\n    \\\"diplomat and ambassador\\\",\\n    \\\"diplomat serving in\\\",\\n    \\\"diplomat Ambassador to\\\",\\n    \\\"and diplomatic advisor\\\",\\n    \\\"and diplomat in the\\\",\\n    \\\"diplomat to\\\",\\n    \\\"diplomat and\\\",\\n    \\\"and diplomat\\\",\\n    \\\"diplomat\\\",\\n]\\n\\narts = []\\nsports = []\\nsciences = []\\n\\nbusiness_farming = []\\nacademia_humanities = []\\nlaw_enf_military_operator = []\\nspiritual = []\\nsocial = []\\ncrime = []\\nevent_record_other = [\\\"and kidnapping survivor\\\"]\\nother_species = []\";\n",
       "                var nbb_cells = Jupyter.notebook.get_cells();\n",
       "                for (var i = 0; i < nbb_cells.length; ++i) {\n",
       "                    if (nbb_cells[i].input_prompt_number == nbb_cell_id) {\n",
       "                        if (nbb_cells[i].get_text() == nbb_unformatted_code) {\n",
       "                             nbb_cells[i].set_text(nbb_formatted_code);\n",
       "                        }\n",
       "                        break;\n",
       "                    }\n",
       "                }\n",
       "            }, 500);\n",
       "            "
      ],
      "text/plain": [
       "<IPython.core.display.Javascript object>"
      ]
     },
     "metadata": {},
     "output_type": "display_data"
    }
   ],
   "source": [
    "# Creating lists for each category\n",
    "politics_govt_law = [\n",
    "    \"environmentalist and diplomat\",\n",
    "    \"husband of Queen Beatrix of the and diplomat\",\n",
    "    \"diplomat and employee of Agency for International Development\",\n",
    "    \"Foreign Service Officer and diplomat\",\n",
    "    \"diplomat and Apostolic Nuncio to the Republic of\",\n",
    "    \"diplomat and Cold War arms negotiator\",\n",
    "    \"diplomat and foreign minister\",\n",
    "    \"diplomat and ambassador to Arabia\",\n",
    "    \"federal judge and diplomat\",\n",
    "    \"first female diplomat and ambassador\",\n",
    "    \"aristocrat and diplomat\",\n",
    "    \"diplomatic clerk\",\n",
    "    \"diplomat and Governor of New South\",\n",
    "    \"diplomatand ambassador\",\n",
    "    \"diplomat and State Department official\",\n",
    "    \"diplomat and High Commissioner of\",\n",
    "    \"diplomat with the Department of State\",\n",
    "    \"diplomat and Minister of Foreign Affairs\",\n",
    "    \"diplomat and st Secretary General of UNCTAD\",\n",
    "    \"diplomat and defector\",\n",
    "    \"and diplomat for the Holy See\",\n",
    "    \"diplomat and Medal of Freedom recipient\",\n",
    "    \"diplomat and attorney\",\n",
    "    \"career diplomat\",\n",
    "    \"government diplomat and governor\",\n",
    "    \"social advocate and diplomat\",\n",
    "    \"diplomat and government official\",\n",
    "    \"political aide and diplomat\",\n",
    "    \"peer and diplomat\",\n",
    "    \"diplomat and courtier\",\n",
    "    \"diplomat and life peer\",\n",
    "    \"diplomat and independentism leader\",\n",
    "    \"political scientist and diplomat\",\n",
    "    \"ambassador and diplomat\",\n",
    "    \"diplomat and diplomatic analyst\",\n",
    "    \"Chickasaw Nation diplomat\",\n",
    "    \"diplomat and economist\",\n",
    "    \"diplomat and adviser\",\n",
    "    \"political  diplomat\",\n",
    "    \"diplomat and legal\",\n",
    "    \"political figure and diplomat\",\n",
    "    \"diplomat and peer\",\n",
    "    \"diplomat and activist\",\n",
    "    \"attorney and diplomat\",\n",
    "    \"diplomat and political analyst\",\n",
    "    \"jurist and diplomat\",\n",
    "    \"diplomat and jurist\",\n",
    "    \"diplomat and civil servant\",\n",
    "    \"diplomat and aristocrat\",\n",
    "    \"diplomat and colonial administrator\",\n",
    "    \"diplomat and political scientist\",\n",
    "    \"diplomat and lawyer\",\n",
    "    \"civil servant and diplomat\",\n",
    "    \"diplomat and public servant\",\n",
    "    \"economist and diplomat\",\n",
    "    \"lawyer and diplomat\",\n",
    "    \"public servant and diplomat\",\n",
    "    \"diplomat and ambassador\",\n",
    "    \"diplomat serving in\",\n",
    "    \"diplomat Ambassador to\",\n",
    "    \"and diplomatic advisor\",\n",
    "    \"and diplomat in the\",\n",
    "    \"diplomat to\",\n",
    "    \"diplomat and\",\n",
    "    \"and diplomat\",\n",
    "    \"diplomat\",\n",
    "]\n",
    "\n",
    "arts = []\n",
    "sports = []\n",
    "sciences = []\n",
    "\n",
    "business_farming = []\n",
    "academia_humanities = []\n",
    "law_enf_military_operator = []\n",
    "spiritual = []\n",
    "social = []\n",
    "crime = []\n",
    "event_record_other = [\"and kidnapping survivor\"]\n",
    "other_species = []"
   ]
  },
  {
   "cell_type": "markdown",
   "id": "c08b95c2",
   "metadata": {},
   "source": [
    "#### Creating `known_for_dict` Dictionary of Category Keys and Specific Role Lists of Values"
   ]
  },
  {
   "cell_type": "code",
   "execution_count": 59,
   "id": "c629d8c5",
   "metadata": {},
   "outputs": [
    {
     "data": {
      "application/javascript": [
       "\n",
       "            setTimeout(function() {\n",
       "                var nbb_cell_id = 59;\n",
       "                var nbb_unformatted_code = \"# Combining separate lists into one dictionary\\nknown_for_dict = {\\n    \\\"social\\\": social,\\n    \\\"spiritual\\\": spiritual,\\n    \\\"academia_humanities\\\": academia_humanities,\\n    \\\"business_farming\\\": business_farming,\\n    \\\"sciences\\\": sciences,\\n    \\\"politics_govt_law\\\": politics_govt_law,\\n    \\\"law_enf_military_operator\\\": law_enf_military_operator,\\n    \\\"crime\\\": crime,\\n    \\\"event_record_other\\\": event_record_other,\\n    \\\"other_species\\\": other_species,\\n    \\\"arts\\\": arts,\\n    \\\"sports\\\": sports,\\n}\";\n",
       "                var nbb_formatted_code = \"# Combining separate lists into one dictionary\\nknown_for_dict = {\\n    \\\"social\\\": social,\\n    \\\"spiritual\\\": spiritual,\\n    \\\"academia_humanities\\\": academia_humanities,\\n    \\\"business_farming\\\": business_farming,\\n    \\\"sciences\\\": sciences,\\n    \\\"politics_govt_law\\\": politics_govt_law,\\n    \\\"law_enf_military_operator\\\": law_enf_military_operator,\\n    \\\"crime\\\": crime,\\n    \\\"event_record_other\\\": event_record_other,\\n    \\\"other_species\\\": other_species,\\n    \\\"arts\\\": arts,\\n    \\\"sports\\\": sports,\\n}\";\n",
       "                var nbb_cells = Jupyter.notebook.get_cells();\n",
       "                for (var i = 0; i < nbb_cells.length; ++i) {\n",
       "                    if (nbb_cells[i].input_prompt_number == nbb_cell_id) {\n",
       "                        if (nbb_cells[i].get_text() == nbb_unformatted_code) {\n",
       "                             nbb_cells[i].set_text(nbb_formatted_code);\n",
       "                        }\n",
       "                        break;\n",
       "                    }\n",
       "                }\n",
       "            }, 500);\n",
       "            "
      ],
      "text/plain": [
       "<IPython.core.display.Javascript object>"
      ]
     },
     "metadata": {},
     "output_type": "display_data"
    }
   ],
   "source": [
    "# Combining separate lists into one dictionary\n",
    "known_for_dict = {\n",
    "    \"social\": social,\n",
    "    \"spiritual\": spiritual,\n",
    "    \"academia_humanities\": academia_humanities,\n",
    "    \"business_farming\": business_farming,\n",
    "    \"sciences\": sciences,\n",
    "    \"politics_govt_law\": politics_govt_law,\n",
    "    \"law_enf_military_operator\": law_enf_military_operator,\n",
    "    \"crime\": crime,\n",
    "    \"event_record_other\": event_record_other,\n",
    "    \"other_species\": other_species,\n",
    "    \"arts\": arts,\n",
    "    \"sports\": sports,\n",
    "}"
   ]
  },
  {
   "cell_type": "markdown",
   "id": "b1354eca",
   "metadata": {},
   "source": [
    "#### Extracting Category from `info_2`"
   ]
  },
  {
   "cell_type": "code",
   "execution_count": 60,
   "id": "10a9f2f8",
   "metadata": {},
   "outputs": [
    {
     "name": "stdout",
     "output_type": "stream",
     "text": [
      "CPU times: total: 35.7 s\n",
      "Wall time: 35.7 s\n"
     ]
    },
    {
     "data": {
      "text/html": [
       "<div>\n",
       "<style scoped>\n",
       "    .dataframe tbody tr th:only-of-type {\n",
       "        vertical-align: middle;\n",
       "    }\n",
       "\n",
       "    .dataframe tbody tr th {\n",
       "        vertical-align: top;\n",
       "    }\n",
       "\n",
       "    .dataframe thead th {\n",
       "        text-align: right;\n",
       "    }\n",
       "</style>\n",
       "<table border=\"1\" class=\"dataframe\">\n",
       "  <thead>\n",
       "    <tr style=\"text-align: right;\">\n",
       "      <th></th>\n",
       "      <th>day</th>\n",
       "      <th>name</th>\n",
       "      <th>info</th>\n",
       "      <th>link</th>\n",
       "      <th>num_references</th>\n",
       "      <th>year</th>\n",
       "      <th>month</th>\n",
       "      <th>info_parenth</th>\n",
       "      <th>info_1</th>\n",
       "      <th>info_2</th>\n",
       "      <th>info_3</th>\n",
       "      <th>info_4</th>\n",
       "      <th>info_5</th>\n",
       "      <th>info_6</th>\n",
       "      <th>info_7</th>\n",
       "      <th>info_8</th>\n",
       "      <th>info_9</th>\n",
       "      <th>info_10</th>\n",
       "      <th>info_11</th>\n",
       "      <th>age</th>\n",
       "      <th>cause_of_death</th>\n",
       "      <th>place_1</th>\n",
       "      <th>place_2</th>\n",
       "      <th>info_parenth_copy</th>\n",
       "      <th>log_num_references</th>\n",
       "      <th>sciences</th>\n",
       "      <th>social</th>\n",
       "      <th>spiritual</th>\n",
       "      <th>academia_humanities</th>\n",
       "      <th>business_farming</th>\n",
       "      <th>arts</th>\n",
       "      <th>sports</th>\n",
       "      <th>law_enf_military_operator</th>\n",
       "      <th>politics_govt_law</th>\n",
       "      <th>crime</th>\n",
       "      <th>event_record_other</th>\n",
       "      <th>other_species</th>\n",
       "      <th>num_categories</th>\n",
       "    </tr>\n",
       "  </thead>\n",
       "  <tbody>\n",
       "    <tr>\n",
       "      <th>93906</th>\n",
       "      <td>9</td>\n",
       "      <td>Aldo Rizzo</td>\n",
       "      <td>, 86, Italian politician and magistrate, deputy .</td>\n",
       "      <td>https://en.wikipedia.org/wiki/Aldo_Rizzo</td>\n",
       "      <td>6</td>\n",
       "      <td>2021</td>\n",
       "      <td>November</td>\n",
       "      <td>and mayor of Palermo</td>\n",
       "      <td>None</td>\n",
       "      <td></td>\n",
       "      <td>deputy</td>\n",
       "      <td>None</td>\n",
       "      <td>None</td>\n",
       "      <td>None</td>\n",
       "      <td>None</td>\n",
       "      <td>None</td>\n",
       "      <td>None</td>\n",
       "      <td>None</td>\n",
       "      <td>None</td>\n",
       "      <td>86.0</td>\n",
       "      <td>None</td>\n",
       "      <td>Italy</td>\n",
       "      <td>None</td>\n",
       "      <td>1979 1992 and mayor of Palermo 1992</td>\n",
       "      <td>1.945910</td>\n",
       "      <td>0</td>\n",
       "      <td>0</td>\n",
       "      <td>0</td>\n",
       "      <td>0</td>\n",
       "      <td>0</td>\n",
       "      <td>0</td>\n",
       "      <td>0</td>\n",
       "      <td>0</td>\n",
       "      <td>1</td>\n",
       "      <td>0</td>\n",
       "      <td>0</td>\n",
       "      <td>0</td>\n",
       "      <td>1</td>\n",
       "    </tr>\n",
       "    <tr>\n",
       "      <th>84316</th>\n",
       "      <td>22</td>\n",
       "      <td>Adamu Daramani Sakande</td>\n",
       "      <td>, 58, Ghanaian politician, MP .</td>\n",
       "      <td>https://en.wikipedia.org/wiki/Adamu_Daramani_Sakande</td>\n",
       "      <td>8</td>\n",
       "      <td>2020</td>\n",
       "      <td>September</td>\n",
       "      <td></td>\n",
       "      <td>None</td>\n",
       "      <td></td>\n",
       "      <td>MP</td>\n",
       "      <td>None</td>\n",
       "      <td>None</td>\n",
       "      <td>None</td>\n",
       "      <td>None</td>\n",
       "      <td>None</td>\n",
       "      <td>None</td>\n",
       "      <td>None</td>\n",
       "      <td>None</td>\n",
       "      <td>58.0</td>\n",
       "      <td>None</td>\n",
       "      <td>Ghana</td>\n",
       "      <td>None</td>\n",
       "      <td>2009 2013</td>\n",
       "      <td>2.197225</td>\n",
       "      <td>0</td>\n",
       "      <td>0</td>\n",
       "      <td>0</td>\n",
       "      <td>0</td>\n",
       "      <td>0</td>\n",
       "      <td>0</td>\n",
       "      <td>0</td>\n",
       "      <td>0</td>\n",
       "      <td>1</td>\n",
       "      <td>0</td>\n",
       "      <td>0</td>\n",
       "      <td>0</td>\n",
       "      <td>1</td>\n",
       "    </tr>\n",
       "  </tbody>\n",
       "</table>\n",
       "</div>"
      ],
      "text/plain": [
       "      day                    name  \\\n",
       "93906   9              Aldo Rizzo   \n",
       "84316  22  Adamu Daramani Sakande   \n",
       "\n",
       "                                                    info  \\\n",
       "93906  , 86, Italian politician and magistrate, deputy .   \n",
       "84316                    , 58, Ghanaian politician, MP .   \n",
       "\n",
       "                                                       link  num_references  \\\n",
       "93906              https://en.wikipedia.org/wiki/Aldo_Rizzo               6   \n",
       "84316  https://en.wikipedia.org/wiki/Adamu_Daramani_Sakande               8   \n",
       "\n",
       "       year      month          info_parenth info_1 info_2  info_3 info_4  \\\n",
       "93906  2021   November  and mayor of Palermo   None         deputy   None   \n",
       "84316  2020  September                         None             MP   None   \n",
       "\n",
       "      info_5 info_6 info_7 info_8 info_9 info_10 info_11   age cause_of_death  \\\n",
       "93906   None   None   None   None   None    None    None  86.0           None   \n",
       "84316   None   None   None   None   None    None    None  58.0           None   \n",
       "\n",
       "      place_1 place_2                    info_parenth_copy  \\\n",
       "93906   Italy    None  1979 1992 and mayor of Palermo 1992   \n",
       "84316   Ghana    None                            2009 2013   \n",
       "\n",
       "       log_num_references  sciences  social  spiritual  academia_humanities  \\\n",
       "93906            1.945910         0       0          0                    0   \n",
       "84316            2.197225         0       0          0                    0   \n",
       "\n",
       "       business_farming  arts  sports  law_enf_military_operator  \\\n",
       "93906                 0     0       0                          0   \n",
       "84316                 0     0       0                          0   \n",
       "\n",
       "       politics_govt_law  crime  event_record_other  other_species  \\\n",
       "93906                  1      0                   0              0   \n",
       "84316                  1      0                   0              0   \n",
       "\n",
       "       num_categories  \n",
       "93906               1  \n",
       "84316               1  "
      ]
     },
     "execution_count": 60,
     "metadata": {},
     "output_type": "execute_result"
    },
    {
     "data": {
      "application/javascript": [
       "\n",
       "            setTimeout(function() {\n",
       "                var nbb_cell_id = 60;\n",
       "                var nbb_unformatted_code = \"%%time\\n\\n# Dictionary version\\nsearch_dict = known_for_dict\\n\\n# Column to check\\ncolumn = 'info_2'\\n\\n# Dataframe\\ndataframe = df[column].notna()\\n\\n# For loop to find role in column and extract it as category\\nfor category, category_lst in search_dict.items():\\n    for role in category_lst:\\n        for index in dataframe.index:\\n            item = df.loc[index, column]\\n            if item:\\n                if role in item:\\n                    df.loc[index, category] = 1\\n                    df.loc[index, column] = item.replace(role, '').strip()\\n                    \\n# Updating num_categories\\ndf[\\\"num_categories\\\"] = df[known_for_dict.keys()].sum(axis=1)\\n                    \\n# Checking a sample of rows\\ndf[df['politics_govt_law'] ==1].sample(2)\";\n",
       "                var nbb_formatted_code = \"%%time\\n\\n# Dictionary version\\nsearch_dict = known_for_dict\\n\\n# Column to check\\ncolumn = 'info_2'\\n\\n# Dataframe\\ndataframe = df[column].notna()\\n\\n# For loop to find role in column and extract it as category\\nfor category, category_lst in search_dict.items():\\n    for role in category_lst:\\n        for index in dataframe.index:\\n            item = df.loc[index, column]\\n            if item:\\n                if role in item:\\n                    df.loc[index, category] = 1\\n                    df.loc[index, column] = item.replace(role, '').strip()\\n                    \\n# Updating num_categories\\ndf[\\\"num_categories\\\"] = df[known_for_dict.keys()].sum(axis=1)\\n                    \\n# Checking a sample of rows\\ndf[df['politics_govt_law'] ==1].sample(2)\";\n",
       "                var nbb_cells = Jupyter.notebook.get_cells();\n",
       "                for (var i = 0; i < nbb_cells.length; ++i) {\n",
       "                    if (nbb_cells[i].input_prompt_number == nbb_cell_id) {\n",
       "                        if (nbb_cells[i].get_text() == nbb_unformatted_code) {\n",
       "                             nbb_cells[i].set_text(nbb_formatted_code);\n",
       "                        }\n",
       "                        break;\n",
       "                    }\n",
       "                }\n",
       "            }, 500);\n",
       "            "
      ],
      "text/plain": [
       "<IPython.core.display.Javascript object>"
      ]
     },
     "metadata": {},
     "output_type": "display_data"
    }
   ],
   "source": [
    "%%time\n",
    "\n",
    "# Dictionary version\n",
    "search_dict = known_for_dict\n",
    "\n",
    "# Column to check\n",
    "column = 'info_2'\n",
    "\n",
    "# Dataframe\n",
    "dataframe = df[column].notna()\n",
    "\n",
    "# For loop to find role in column and extract it as category\n",
    "for category, category_lst in search_dict.items():\n",
    "    for role in category_lst:\n",
    "        for index in dataframe.index:\n",
    "            item = df.loc[index, column]\n",
    "            if item:\n",
    "                if role in item:\n",
    "                    df.loc[index, category] = 1\n",
    "                    df.loc[index, column] = item.replace(role, '').strip()\n",
    "                    \n",
    "# Updating num_categories\n",
    "df[\"num_categories\"] = df[known_for_dict.keys()].sum(axis=1)\n",
    "                    \n",
    "# Checking a sample of rows\n",
    "df[df['politics_govt_law'] ==1].sample(2)"
   ]
  },
  {
   "cell_type": "markdown",
   "id": "e18b2523",
   "metadata": {},
   "source": [
    "#### Checking the Number of Rows without a First Category"
   ]
  },
  {
   "cell_type": "code",
   "execution_count": 61,
   "id": "bee55c92",
   "metadata": {},
   "outputs": [
    {
     "name": "stdout",
     "output_type": "stream",
     "text": [
      "There are 48883 entries without any known_for category.\n"
     ]
    },
    {
     "data": {
      "application/javascript": [
       "\n",
       "            setTimeout(function() {\n",
       "                var nbb_cell_id = 61;\n",
       "                var nbb_unformatted_code = \"#### Checking the number of rows without a first category\\nprint(\\n    f'There are {len(df[df[\\\"num_categories\\\"]==0])} entries without any known_for category.'\\n)\";\n",
       "                var nbb_formatted_code = \"#### Checking the number of rows without a first category\\nprint(\\n    f'There are {len(df[df[\\\"num_categories\\\"]==0])} entries without any known_for category.'\\n)\";\n",
       "                var nbb_cells = Jupyter.notebook.get_cells();\n",
       "                for (var i = 0; i < nbb_cells.length; ++i) {\n",
       "                    if (nbb_cells[i].input_prompt_number == nbb_cell_id) {\n",
       "                        if (nbb_cells[i].get_text() == nbb_unformatted_code) {\n",
       "                             nbb_cells[i].set_text(nbb_formatted_code);\n",
       "                        }\n",
       "                        break;\n",
       "                    }\n",
       "                }\n",
       "            }, 500);\n",
       "            "
      ],
      "text/plain": [
       "<IPython.core.display.Javascript object>"
      ]
     },
     "metadata": {},
     "output_type": "display_data"
    }
   ],
   "source": [
    "#### Checking the number of rows without a first category\n",
    "print(\n",
    "    f'There are {len(df[df[\"num_categories\"]==0])} entries without any known_for category.'\n",
    ")"
   ]
  },
  {
   "cell_type": "markdown",
   "id": "fb39eeaa",
   "metadata": {},
   "source": [
    "#### Observations:\n",
    "- We will proceed to rebuild `known_for_dict` for the next iteration."
   ]
  },
  {
   "cell_type": "markdown",
   "id": "3e772c06",
   "metadata": {},
   "source": [
    "#### Finding `known_for` Roles in `info_2`"
   ]
  },
  {
   "cell_type": "code",
   "execution_count": 62,
   "id": "393e618f",
   "metadata": {},
   "outputs": [
    {
     "data": {
      "application/javascript": [
       "\n",
       "            setTimeout(function() {\n",
       "                var nbb_cell_id = 62;\n",
       "                var nbb_unformatted_code = \"# Obtaining values for column and their counts\\nroles_list = df[\\\"info_2\\\"].value_counts(ascending=True).index.tolist()\";\n",
       "                var nbb_formatted_code = \"# Obtaining values for column and their counts\\nroles_list = df[\\\"info_2\\\"].value_counts(ascending=True).index.tolist()\";\n",
       "                var nbb_cells = Jupyter.notebook.get_cells();\n",
       "                for (var i = 0; i < nbb_cells.length; ++i) {\n",
       "                    if (nbb_cells[i].input_prompt_number == nbb_cell_id) {\n",
       "                        if (nbb_cells[i].get_text() == nbb_unformatted_code) {\n",
       "                             nbb_cells[i].set_text(nbb_formatted_code);\n",
       "                        }\n",
       "                        break;\n",
       "                    }\n",
       "                }\n",
       "            }, 500);\n",
       "            "
      ],
      "text/plain": [
       "<IPython.core.display.Javascript object>"
      ]
     },
     "metadata": {},
     "output_type": "display_data"
    }
   ],
   "source": [
    "# Obtaining values for column and their counts\n",
    "roles_list = df[\"info_2\"].value_counts(ascending=True).index.tolist()"
   ]
  },
  {
   "cell_type": "code",
   "execution_count": 63,
   "id": "c79383c1",
   "metadata": {},
   "outputs": [
    {
     "data": {
      "application/javascript": [
       "\n",
       "            setTimeout(function() {\n",
       "                var nbb_cell_id = 63;\n",
       "                var nbb_unformatted_code = \"# # Code to check each value\\n# roles_list.pop()\";\n",
       "                var nbb_formatted_code = \"# # Code to check each value\\n# roles_list.pop()\";\n",
       "                var nbb_cells = Jupyter.notebook.get_cells();\n",
       "                for (var i = 0; i < nbb_cells.length; ++i) {\n",
       "                    if (nbb_cells[i].input_prompt_number == nbb_cell_id) {\n",
       "                        if (nbb_cells[i].get_text() == nbb_unformatted_code) {\n",
       "                             nbb_cells[i].set_text(nbb_formatted_code);\n",
       "                        }\n",
       "                        break;\n",
       "                    }\n",
       "                }\n",
       "            }, 500);\n",
       "            "
      ],
      "text/plain": [
       "<IPython.core.display.Javascript object>"
      ]
     },
     "metadata": {},
     "output_type": "display_data"
    }
   ],
   "source": [
    "# # Code to check each value\n",
    "# roles_list.pop()"
   ]
  },
  {
   "cell_type": "code",
   "execution_count": 64,
   "id": "37c97e11",
   "metadata": {},
   "outputs": [
    {
     "data": {
      "application/javascript": [
       "\n",
       "            setTimeout(function() {\n",
       "                var nbb_cell_id = 64;\n",
       "                var nbb_unformatted_code = \"# # Create specific_roles_list for above popped value\\n# specific_roles_list = (\\n#     df.loc[\\n#         [index for index in df.index if \\\"composer\\\" in df.loc[index, \\\"info\\\"]], \\\"info_2\\\",\\n#     ]\\n#     .value_counts()\\n#     .index.tolist()\\n# )\";\n",
       "                var nbb_formatted_code = \"# # Create specific_roles_list for above popped value\\n# specific_roles_list = (\\n#     df.loc[\\n#         [index for index in df.index if \\\"composer\\\" in df.loc[index, \\\"info\\\"]], \\\"info_2\\\",\\n#     ]\\n#     .value_counts()\\n#     .index.tolist()\\n# )\";\n",
       "                var nbb_cells = Jupyter.notebook.get_cells();\n",
       "                for (var i = 0; i < nbb_cells.length; ++i) {\n",
       "                    if (nbb_cells[i].input_prompt_number == nbb_cell_id) {\n",
       "                        if (nbb_cells[i].get_text() == nbb_unformatted_code) {\n",
       "                             nbb_cells[i].set_text(nbb_formatted_code);\n",
       "                        }\n",
       "                        break;\n",
       "                    }\n",
       "                }\n",
       "            }, 500);\n",
       "            "
      ],
      "text/plain": [
       "<IPython.core.display.Javascript object>"
      ]
     },
     "metadata": {},
     "output_type": "display_data"
    }
   ],
   "source": [
    "# # Create specific_roles_list for above popped value\n",
    "# specific_roles_list = (\n",
    "#     df.loc[\n",
    "#         [index for index in df.index if \"composer\" in df.loc[index, \"info\"]], \"info_2\",\n",
    "#     ]\n",
    "#     .value_counts()\n",
    "#     .index.tolist()\n",
    "# )"
   ]
  },
  {
   "cell_type": "code",
   "execution_count": 65,
   "id": "b3b2e59c",
   "metadata": {},
   "outputs": [
    {
     "data": {
      "application/javascript": [
       "\n",
       "            setTimeout(function() {\n",
       "                var nbb_cell_id = 65;\n",
       "                var nbb_unformatted_code = \"# # Code to check each specific value\\n# specific_roles_list.pop()\";\n",
       "                var nbb_formatted_code = \"# # Code to check each specific value\\n# specific_roles_list.pop()\";\n",
       "                var nbb_cells = Jupyter.notebook.get_cells();\n",
       "                for (var i = 0; i < nbb_cells.length; ++i) {\n",
       "                    if (nbb_cells[i].input_prompt_number == nbb_cell_id) {\n",
       "                        if (nbb_cells[i].get_text() == nbb_unformatted_code) {\n",
       "                             nbb_cells[i].set_text(nbb_formatted_code);\n",
       "                        }\n",
       "                        break;\n",
       "                    }\n",
       "                }\n",
       "            }, 500);\n",
       "            "
      ],
      "text/plain": [
       "<IPython.core.display.Javascript object>"
      ]
     },
     "metadata": {},
     "output_type": "display_data"
    }
   ],
   "source": [
    "# # Code to check each specific value\n",
    "# specific_roles_list.pop()"
   ]
  },
  {
   "cell_type": "code",
   "execution_count": 66,
   "id": "ce28e0ac",
   "metadata": {},
   "outputs": [
    {
     "data": {
      "application/javascript": [
       "\n",
       "            setTimeout(function() {\n",
       "                var nbb_cell_id = 66;\n",
       "                var nbb_unformatted_code = \"# # Example code to quick-screen values that may overlap categories\\n# df.loc[[index for index in df.index if \\\"composer and sound\\\" in df.loc[index, \\\"info\\\"]]]\";\n",
       "                var nbb_formatted_code = \"# # Example code to quick-screen values that may overlap categories\\n# df.loc[[index for index in df.index if \\\"composer and sound\\\" in df.loc[index, \\\"info\\\"]]]\";\n",
       "                var nbb_cells = Jupyter.notebook.get_cells();\n",
       "                for (var i = 0; i < nbb_cells.length; ++i) {\n",
       "                    if (nbb_cells[i].input_prompt_number == nbb_cell_id) {\n",
       "                        if (nbb_cells[i].get_text() == nbb_unformatted_code) {\n",
       "                             nbb_cells[i].set_text(nbb_formatted_code);\n",
       "                        }\n",
       "                        break;\n",
       "                    }\n",
       "                }\n",
       "            }, 500);\n",
       "            "
      ],
      "text/plain": [
       "<IPython.core.display.Javascript object>"
      ]
     },
     "metadata": {},
     "output_type": "display_data"
    }
   ],
   "source": [
    "# # Example code to quick-screen values that may overlap categories\n",
    "# df.loc[[index for index in df.index if \"composer and sound\" in df.loc[index, \"info\"]]]"
   ]
  },
  {
   "cell_type": "code",
   "execution_count": 67,
   "id": "7a68724b",
   "metadata": {},
   "outputs": [
    {
     "data": {
      "application/javascript": [
       "\n",
       "            setTimeout(function() {\n",
       "                var nbb_cell_id = 67;\n",
       "                var nbb_unformatted_code = \"# # Example code to quick-screen values that may overlap categories\\n# df.loc[\\n#     [\\n#         index\\n#         for index in df.index\\n#         if \\\"outlaw country music singer songwriter\\\" in df.loc[index, \\\"info\\\"]\\n#     ]\\n# ]\";\n",
       "                var nbb_formatted_code = \"# # Example code to quick-screen values that may overlap categories\\n# df.loc[\\n#     [\\n#         index\\n#         for index in df.index\\n#         if \\\"outlaw country music singer songwriter\\\" in df.loc[index, \\\"info\\\"]\\n#     ]\\n# ]\";\n",
       "                var nbb_cells = Jupyter.notebook.get_cells();\n",
       "                for (var i = 0; i < nbb_cells.length; ++i) {\n",
       "                    if (nbb_cells[i].input_prompt_number == nbb_cell_id) {\n",
       "                        if (nbb_cells[i].get_text() == nbb_unformatted_code) {\n",
       "                             nbb_cells[i].set_text(nbb_formatted_code);\n",
       "                        }\n",
       "                        break;\n",
       "                    }\n",
       "                }\n",
       "            }, 500);\n",
       "            "
      ],
      "text/plain": [
       "<IPython.core.display.Javascript object>"
      ]
     },
     "metadata": {},
     "output_type": "display_data"
    }
   ],
   "source": [
    "# # Example code to quick-screen values that may overlap categories\n",
    "# df.loc[\n",
    "#     [\n",
    "#         index\n",
    "#         for index in df.index\n",
    "#         if \"outlaw country music singer songwriter\" in df.loc[index, \"info\"]\n",
    "#     ]\n",
    "# ]"
   ]
  },
  {
   "cell_type": "code",
   "execution_count": 68,
   "id": "616737c1",
   "metadata": {},
   "outputs": [
    {
     "data": {
      "application/javascript": [
       "\n",
       "            setTimeout(function() {\n",
       "                var nbb_cell_id = 68;\n",
       "                var nbb_unformatted_code = \"# # Example code to quick-check a specific entry\\n# df[df[\\\"info_2\\\"] == \\\"Filin composer and interpreter\\\"]\";\n",
       "                var nbb_formatted_code = \"# # Example code to quick-check a specific entry\\n# df[df[\\\"info_2\\\"] == \\\"Filin composer and interpreter\\\"]\";\n",
       "                var nbb_cells = Jupyter.notebook.get_cells();\n",
       "                for (var i = 0; i < nbb_cells.length; ++i) {\n",
       "                    if (nbb_cells[i].input_prompt_number == nbb_cell_id) {\n",
       "                        if (nbb_cells[i].get_text() == nbb_unformatted_code) {\n",
       "                             nbb_cells[i].set_text(nbb_formatted_code);\n",
       "                        }\n",
       "                        break;\n",
       "                    }\n",
       "                }\n",
       "            }, 500);\n",
       "            "
      ],
      "text/plain": [
       "<IPython.core.display.Javascript object>"
      ]
     },
     "metadata": {},
     "output_type": "display_data"
    }
   ],
   "source": [
    "# # Example code to quick-check a specific entry\n",
    "# df[df[\"info_2\"] == \"Filin composer and interpreter\"]"
   ]
  },
  {
   "cell_type": "markdown",
   "id": "dad717e1",
   "metadata": {},
   "source": [
    "#### Creating Lists for Each `known_for` Category"
   ]
  },
  {
   "cell_type": "code",
   "execution_count": 69,
   "id": "742f6e5d",
   "metadata": {},
   "outputs": [
    {
     "data": {
      "application/javascript": [
       "\n",
       "            setTimeout(function() {\n",
       "                var nbb_cell_id = 69;\n",
       "                var nbb_unformatted_code = \"# Creating lists for each category\\npolitics_govt_law = []\\n\\narts = [\\n    \\\"composer and free jazz violinist\\\",\\n    \\\"Academy Award winning film score composer\\\",\\n    \\\"experimental music composer\\\",\\n    \\\"composer and lyricist of\\\",\\n    \\\"Emmy award winning composer and lyricist\\\",\\n    \\\"jazz pianist composer\\\",\\n    \\\"film composer and music supervisor\\\",\\n    \\\"Broadway composer and TV producer\\\",\\n    \\\"composer best known for work on Robotech\\\",\\n    \\\"blues and rock n' roll guitarist and composer\\\",\\n    \\\"composer of Broadway musicals\\\",\\n    \\\"composer of classic film music such as\\\",\\n    \\\"movie and television composer\\\",\\n    \\\"jazz soprano saxophonist and composer\\\",\\n    \\\"composer of feature films and television movie scores\\\",\\n    \\\"composer and organist choirmaster Washington National Cathedral\\\",\\n    \\\"orchestrator and composer of film and television scores\\\",\\n    \\\"composer of film and television scores\\\",\\n    \\\"composer and choirmaster\\\",\\n    \\\"guitarist and composer and best known for his work with Van Morrison\\\",\\n    \\\"composer and musical director\\\",\\n    \\\"musical theater composer\\\",\\n    \\\"violist and composer of electronic music\\\",\\n    \\\"composer and television host\\\",\\n    \\\"contemporary classical music composer\\\",\\n    \\\"contemporary classical composer\\\",\\n    \\\"hip hop composer\\\",\\n    \\\"jingle composer\\\",\\n    \\\"composer of background music for and\\\",\\n    \\\"experimental composer\\\",\\n    \\\"sitarist and composer\\\",\\n    \\\"fiddler and composer\\\",\\n    \\\"progressive rock bassist and composer\\\",\\n    \\\"Academy Award winning film composer\\\",\\n    \\\"composer and jazz trombonist\\\",\\n    \\\"architect and composer\\\",\\n    \\\"composer of film and television theme music\\\",\\n    \\\"orchestrator and film composer\\\",\\n    \\\"composer of Catholic liturgical songs\\\",\\n    \\\"jazz keyboardist and composer\\\",\\n    \\\"film music composer and conductor\\\",\\n    \\\"swing and hard bop trumpeter and composer\\\",\\n    \\\"film composer and conductor\\\",\\n    \\\"composer and bassoonist\\\",\\n    \\\"composer and playwright\\\",\\n    \\\"composer prolific in film music\\\",\\n    \\\"composer of orchestral\\\",\\n    \\\"concert band conductor and composer\\\",\\n    \\\"composer of classical music and conductor\\\",\\n    \\\"composer and librettist\\\",\\n    \\\"violist and composer of classical music\\\",\\n    \\\"music composer and arranger\\\",\\n    \\\"composer of orchestral and choral works\\\",\\n    \\\"guitarist and composer in classical\\\",\\n    \\\"composer and clarinetist\\\",\\n    \\\"experimental composer and pianist\\\",\\n    \\\"bandleader and composer for film and television\\\",\\n    \\\"jazz composer and saxophonist\\\",\\n    \\\"classical guitar composer\\\",\\n    \\\"composer and pioneer of electronic and computer music\\\",\\n    \\\"migrant composer\\\",\\n    \\\"jazz trumpet player and composer\\\",\\n    \\\"producer and composer of radio jingles\\\",\\n    \\\"television and film composer\\\",\\n    \\\"composer and music administrator\\\",\\n    \\\"composer of music and film scores\\\",\\n    \\\"composer and winner of the Pulitzer Prize\\\",\\n    \\\"composer and filmmaker\\\",\\n    \\\"born jazz pianist and composer\\\",\\n    \\\"jazz composer and alto saxophonist\\\",\\n    \\\"tango composer and pianist\\\",\\n    \\\"composer and bandleader\\\",\\n    \\\"composer and television producer\\\",\\n    \\\"composer and orchestrator\\\",\\n    \\\"composer and sculptor\\\",\\n    \\\"video game composer\\\",\\n    \\\"composer and sound\\\",\\n    \\\"music composer and film scorer\\\",\\n    \\\"jazz and R&B composer\\\",\\n    \\\"composer and big band leader\\\",\\n    \\\"composer and clarinet player\\\",\\n    \\\"composer and musical producer\\\",\\n    \\\"keyboard player and composer\\\",\\n    \\\"jazz trombonist and film composer\\\",\\n    \\\"saxophonist and film composer\\\",\\n    \\\"orchestral and choral composer\\\",\\n    \\\"orchestra conductor and composer\\\",\\n    \\\"composer and accordionist\\\",\\n    \\\"jazz composer and bandleader\\\",\\n    \\\"film score composer and music director\\\",\\n    \\\"microtonal composer\\\",\\n    \\\"composer and flutist\\\",\\n    \\\"composer and founding general director of Michigan Opera Theatre\\\",\\n    \\\"video game music composer\\\",\\n    \\\"brass band arranger and composer\\\",\\n    \\\"playwright and composer\\\",\\n    \\\"jazz alto saxophonist and composer\\\",\\n    \\\"composer and music producer\\\",\\n    \\\"violist and composer\\\",\\n    \\\"sitar player and composer\\\",\\n    \\\"jazz clarinetist and composer\\\",\\n    \\\"composer and jazz saxophonist\\\",\\n    \\\"M\\u0101ori composer\\\",\\n    \\\"Filin composer and interpreter\\\",\\n    \\\"composer and biographer\\\",\\n    \\\"film composer and pianist\\\",\\n    \\\"composer and keyboard player\\\",\\n    \\\"choirmaster and composer\\\",\\n    \\\"country music composer\\\",\\n    \\\"musical composer and performer\\\",\\n    \\\"composer and performer\\\",\\n    \\\"new age pianist and composer\\\",\\n    \\\"Tony Award winning producer and composer\\\",\\n    \\\"composer and sound editor\\\",\\n    \\\"jazz pianist and film composer\\\",\\n    \\\"orchestra leader and composer\\\",\\n    \\\"classical and flamenco guitarist and composer\\\",\\n    \\\"composer and music industry executive\\\",\\n    \\\"television score composer\\\",\\n    \\\"erhu master and composer\\\",\\n    \\\"rock and jazz drummer and composer\\\",\\n    \\\"jazz drummer and composer\\\",\\n    \\\"composer and essayist\\\",\\n    \\\"classical oboist and composer\\\",\\n    \\\"Tony Award winning composer\\\",\\n    \\\"ragtime pianist and composer\\\",\\n    \\\"composer and jazz trumpeter\\\",\\n    \\\"classical composer and flautist\\\",\\n    \\\"bluesman and composer\\\",\\n    \\\"composer and fiddler\\\",\\n    \\\"composer and choir director\\\",\\n    \\\"jazz cellist and composer\\\",\\n    \\\"composer and novelist\\\",\\n    \\\"jazz guitarist\\\",\\n    \\\"composer and music critic\\\",\\n    \\\"music director and composer\\\",\\n    \\\"jazz trumpeter and composer\\\",\\n    \\\"trumpeter and composer\\\",\\n    \\\"composer and music director\\\",\\n    \\\"percussionist and composer\\\",\\n    \\\"composer and choral director\\\",\\n    \\\"cellist and composer\\\",\\n    \\\"electronic music composer\\\",\\n    \\\"Pulitzer Prize winning composer\\\",\\n    \\\"composer of film scores\\\",\\n    \\\"composer and orchestra leader\\\",\\n    \\\"jazz composer and arranger\\\",\\n    \\\"harpist and composer\\\",\\n    \\\"flautist and composer\\\",\\n    \\\"classical composer and conductor\\\",\\n    \\\"composer and jazz pianist\\\",\\n    \\\"choral conductor and composer\\\",\\n    \\\"classical guitarist and composer\\\",\\n    \\\"avant garde composer and pianist\\\",\\n    \\\"avant garde composer\\\",\\n    \\\"film and television music composer\\\",\\n    \\\"concert pianist and composer\\\",\\n    \\\"composer and cellist\\\",\\n    \\\"composer and guitarist\\\",\\n    \\\"musical director and composer\\\",\\n    \\\"composer and record producer\\\",\\n    \\\"composer of contemporary classical music\\\",\\n    \\\"composer and violist\\\",\\n    \\\"bassist and composer\\\",\\n    \\\"composer and violinist\\\",\\n    \\\"classical music composer\\\",\\n    \\\"jazz composer\\\",\\n    \\\"opera composer\\\",\\n    \\\"composer and arranger\\\",\\n    \\\"jazz guitarist and composer\\\",\\n    \\\"composer of classical music\\\",\\n    \\\"lyricist and composer\\\",\\n    \\\"film music composer\\\",\\n    \\\"and computer music composer\\\",\\n    \\\"music composer and\\\",\\n    \\\"music composer\\\",\\n    \\\"jazz saxophonist and composer\\\",\\n    \\\"saxophonist and composer\\\",\\n    \\\"classical composer\\\",\\n    \\\"classical pianist and composer\\\",\\n    \\\"composer and organist\\\",\\n    \\\"violinist and composer\\\",\\n    \\\"film and television composer\\\",\\n    \\\"television composer\\\",\\n    \\\"composer and lyricist\\\",\\n    \\\"film score composer\\\",\\n    \\\"organist and composer\\\",\\n    \\\"guitarist and composer\\\",\\n    \\\"film composer\\\",\\n    \\\"conductor and composer\\\",\\n    \\\"jazz pianist and composer\\\",\\n    \\\"pianist and composer\\\",\\n    \\\"composer and pianist\\\",\\n    \\\"composer and conductor\\\",\\n    \\\"composer of musicals\\\",\\n    \\\"musical composer and\\\",\\n    \\\"musical composer\\\",\\n    \\\"composer and\\\",\\n    \\\"and composer\\\",\\n    \\\"composer\\\",\\n]\\nsports = []\\nsciences = []\\n\\nbusiness_farming = []\\nacademia_humanities = [\\n    \\\"ethnomusicologist and wife of composer Henry Cowell\\\",  # before arts\\n]\\nlaw_enf_military_operator = []\\nspiritual = []\\nsocial = []\\ncrime = []\\nevent_record_other = []\\nother_species = []\";\n",
       "                var nbb_formatted_code = \"# Creating lists for each category\\npolitics_govt_law = []\\n\\narts = [\\n    \\\"composer and free jazz violinist\\\",\\n    \\\"Academy Award winning film score composer\\\",\\n    \\\"experimental music composer\\\",\\n    \\\"composer and lyricist of\\\",\\n    \\\"Emmy award winning composer and lyricist\\\",\\n    \\\"jazz pianist composer\\\",\\n    \\\"film composer and music supervisor\\\",\\n    \\\"Broadway composer and TV producer\\\",\\n    \\\"composer best known for work on Robotech\\\",\\n    \\\"blues and rock n' roll guitarist and composer\\\",\\n    \\\"composer of Broadway musicals\\\",\\n    \\\"composer of classic film music such as\\\",\\n    \\\"movie and television composer\\\",\\n    \\\"jazz soprano saxophonist and composer\\\",\\n    \\\"composer of feature films and television movie scores\\\",\\n    \\\"composer and organist choirmaster Washington National Cathedral\\\",\\n    \\\"orchestrator and composer of film and television scores\\\",\\n    \\\"composer of film and television scores\\\",\\n    \\\"composer and choirmaster\\\",\\n    \\\"guitarist and composer and best known for his work with Van Morrison\\\",\\n    \\\"composer and musical director\\\",\\n    \\\"musical theater composer\\\",\\n    \\\"violist and composer of electronic music\\\",\\n    \\\"composer and television host\\\",\\n    \\\"contemporary classical music composer\\\",\\n    \\\"contemporary classical composer\\\",\\n    \\\"hip hop composer\\\",\\n    \\\"jingle composer\\\",\\n    \\\"composer of background music for and\\\",\\n    \\\"experimental composer\\\",\\n    \\\"sitarist and composer\\\",\\n    \\\"fiddler and composer\\\",\\n    \\\"progressive rock bassist and composer\\\",\\n    \\\"Academy Award winning film composer\\\",\\n    \\\"composer and jazz trombonist\\\",\\n    \\\"architect and composer\\\",\\n    \\\"composer of film and television theme music\\\",\\n    \\\"orchestrator and film composer\\\",\\n    \\\"composer of Catholic liturgical songs\\\",\\n    \\\"jazz keyboardist and composer\\\",\\n    \\\"film music composer and conductor\\\",\\n    \\\"swing and hard bop trumpeter and composer\\\",\\n    \\\"film composer and conductor\\\",\\n    \\\"composer and bassoonist\\\",\\n    \\\"composer and playwright\\\",\\n    \\\"composer prolific in film music\\\",\\n    \\\"composer of orchestral\\\",\\n    \\\"concert band conductor and composer\\\",\\n    \\\"composer of classical music and conductor\\\",\\n    \\\"composer and librettist\\\",\\n    \\\"violist and composer of classical music\\\",\\n    \\\"music composer and arranger\\\",\\n    \\\"composer of orchestral and choral works\\\",\\n    \\\"guitarist and composer in classical\\\",\\n    \\\"composer and clarinetist\\\",\\n    \\\"experimental composer and pianist\\\",\\n    \\\"bandleader and composer for film and television\\\",\\n    \\\"jazz composer and saxophonist\\\",\\n    \\\"classical guitar composer\\\",\\n    \\\"composer and pioneer of electronic and computer music\\\",\\n    \\\"migrant composer\\\",\\n    \\\"jazz trumpet player and composer\\\",\\n    \\\"producer and composer of radio jingles\\\",\\n    \\\"television and film composer\\\",\\n    \\\"composer and music administrator\\\",\\n    \\\"composer of music and film scores\\\",\\n    \\\"composer and winner of the Pulitzer Prize\\\",\\n    \\\"composer and filmmaker\\\",\\n    \\\"born jazz pianist and composer\\\",\\n    \\\"jazz composer and alto saxophonist\\\",\\n    \\\"tango composer and pianist\\\",\\n    \\\"composer and bandleader\\\",\\n    \\\"composer and television producer\\\",\\n    \\\"composer and orchestrator\\\",\\n    \\\"composer and sculptor\\\",\\n    \\\"video game composer\\\",\\n    \\\"composer and sound\\\",\\n    \\\"music composer and film scorer\\\",\\n    \\\"jazz and R&B composer\\\",\\n    \\\"composer and big band leader\\\",\\n    \\\"composer and clarinet player\\\",\\n    \\\"composer and musical producer\\\",\\n    \\\"keyboard player and composer\\\",\\n    \\\"jazz trombonist and film composer\\\",\\n    \\\"saxophonist and film composer\\\",\\n    \\\"orchestral and choral composer\\\",\\n    \\\"orchestra conductor and composer\\\",\\n    \\\"composer and accordionist\\\",\\n    \\\"jazz composer and bandleader\\\",\\n    \\\"film score composer and music director\\\",\\n    \\\"microtonal composer\\\",\\n    \\\"composer and flutist\\\",\\n    \\\"composer and founding general director of Michigan Opera Theatre\\\",\\n    \\\"video game music composer\\\",\\n    \\\"brass band arranger and composer\\\",\\n    \\\"playwright and composer\\\",\\n    \\\"jazz alto saxophonist and composer\\\",\\n    \\\"composer and music producer\\\",\\n    \\\"violist and composer\\\",\\n    \\\"sitar player and composer\\\",\\n    \\\"jazz clarinetist and composer\\\",\\n    \\\"composer and jazz saxophonist\\\",\\n    \\\"M\\u0101ori composer\\\",\\n    \\\"Filin composer and interpreter\\\",\\n    \\\"composer and biographer\\\",\\n    \\\"film composer and pianist\\\",\\n    \\\"composer and keyboard player\\\",\\n    \\\"choirmaster and composer\\\",\\n    \\\"country music composer\\\",\\n    \\\"musical composer and performer\\\",\\n    \\\"composer and performer\\\",\\n    \\\"new age pianist and composer\\\",\\n    \\\"Tony Award winning producer and composer\\\",\\n    \\\"composer and sound editor\\\",\\n    \\\"jazz pianist and film composer\\\",\\n    \\\"orchestra leader and composer\\\",\\n    \\\"classical and flamenco guitarist and composer\\\",\\n    \\\"composer and music industry executive\\\",\\n    \\\"television score composer\\\",\\n    \\\"erhu master and composer\\\",\\n    \\\"rock and jazz drummer and composer\\\",\\n    \\\"jazz drummer and composer\\\",\\n    \\\"composer and essayist\\\",\\n    \\\"classical oboist and composer\\\",\\n    \\\"Tony Award winning composer\\\",\\n    \\\"ragtime pianist and composer\\\",\\n    \\\"composer and jazz trumpeter\\\",\\n    \\\"classical composer and flautist\\\",\\n    \\\"bluesman and composer\\\",\\n    \\\"composer and fiddler\\\",\\n    \\\"composer and choir director\\\",\\n    \\\"jazz cellist and composer\\\",\\n    \\\"composer and novelist\\\",\\n    \\\"jazz guitarist\\\",\\n    \\\"composer and music critic\\\",\\n    \\\"music director and composer\\\",\\n    \\\"jazz trumpeter and composer\\\",\\n    \\\"trumpeter and composer\\\",\\n    \\\"composer and music director\\\",\\n    \\\"percussionist and composer\\\",\\n    \\\"composer and choral director\\\",\\n    \\\"cellist and composer\\\",\\n    \\\"electronic music composer\\\",\\n    \\\"Pulitzer Prize winning composer\\\",\\n    \\\"composer of film scores\\\",\\n    \\\"composer and orchestra leader\\\",\\n    \\\"jazz composer and arranger\\\",\\n    \\\"harpist and composer\\\",\\n    \\\"flautist and composer\\\",\\n    \\\"classical composer and conductor\\\",\\n    \\\"composer and jazz pianist\\\",\\n    \\\"choral conductor and composer\\\",\\n    \\\"classical guitarist and composer\\\",\\n    \\\"avant garde composer and pianist\\\",\\n    \\\"avant garde composer\\\",\\n    \\\"film and television music composer\\\",\\n    \\\"concert pianist and composer\\\",\\n    \\\"composer and cellist\\\",\\n    \\\"composer and guitarist\\\",\\n    \\\"musical director and composer\\\",\\n    \\\"composer and record producer\\\",\\n    \\\"composer of contemporary classical music\\\",\\n    \\\"composer and violist\\\",\\n    \\\"bassist and composer\\\",\\n    \\\"composer and violinist\\\",\\n    \\\"classical music composer\\\",\\n    \\\"jazz composer\\\",\\n    \\\"opera composer\\\",\\n    \\\"composer and arranger\\\",\\n    \\\"jazz guitarist and composer\\\",\\n    \\\"composer of classical music\\\",\\n    \\\"lyricist and composer\\\",\\n    \\\"film music composer\\\",\\n    \\\"and computer music composer\\\",\\n    \\\"music composer and\\\",\\n    \\\"music composer\\\",\\n    \\\"jazz saxophonist and composer\\\",\\n    \\\"saxophonist and composer\\\",\\n    \\\"classical composer\\\",\\n    \\\"classical pianist and composer\\\",\\n    \\\"composer and organist\\\",\\n    \\\"violinist and composer\\\",\\n    \\\"film and television composer\\\",\\n    \\\"television composer\\\",\\n    \\\"composer and lyricist\\\",\\n    \\\"film score composer\\\",\\n    \\\"organist and composer\\\",\\n    \\\"guitarist and composer\\\",\\n    \\\"film composer\\\",\\n    \\\"conductor and composer\\\",\\n    \\\"jazz pianist and composer\\\",\\n    \\\"pianist and composer\\\",\\n    \\\"composer and pianist\\\",\\n    \\\"composer and conductor\\\",\\n    \\\"composer of musicals\\\",\\n    \\\"musical composer and\\\",\\n    \\\"musical composer\\\",\\n    \\\"composer and\\\",\\n    \\\"and composer\\\",\\n    \\\"composer\\\",\\n]\\nsports = []\\nsciences = []\\n\\nbusiness_farming = []\\nacademia_humanities = [\\n    \\\"ethnomusicologist and wife of composer Henry Cowell\\\",  # before arts\\n]\\nlaw_enf_military_operator = []\\nspiritual = []\\nsocial = []\\ncrime = []\\nevent_record_other = []\\nother_species = []\";\n",
       "                var nbb_cells = Jupyter.notebook.get_cells();\n",
       "                for (var i = 0; i < nbb_cells.length; ++i) {\n",
       "                    if (nbb_cells[i].input_prompt_number == nbb_cell_id) {\n",
       "                        if (nbb_cells[i].get_text() == nbb_unformatted_code) {\n",
       "                             nbb_cells[i].set_text(nbb_formatted_code);\n",
       "                        }\n",
       "                        break;\n",
       "                    }\n",
       "                }\n",
       "            }, 500);\n",
       "            "
      ],
      "text/plain": [
       "<IPython.core.display.Javascript object>"
      ]
     },
     "metadata": {},
     "output_type": "display_data"
    }
   ],
   "source": [
    "# Creating lists for each category\n",
    "politics_govt_law = []\n",
    "\n",
    "arts = [\n",
    "    \"composer and free jazz violinist\",\n",
    "    \"Academy Award winning film score composer\",\n",
    "    \"experimental music composer\",\n",
    "    \"composer and lyricist of\",\n",
    "    \"Emmy award winning composer and lyricist\",\n",
    "    \"jazz pianist composer\",\n",
    "    \"film composer and music supervisor\",\n",
    "    \"Broadway composer and TV producer\",\n",
    "    \"composer best known for work on Robotech\",\n",
    "    \"blues and rock n' roll guitarist and composer\",\n",
    "    \"composer of Broadway musicals\",\n",
    "    \"composer of classic film music such as\",\n",
    "    \"movie and television composer\",\n",
    "    \"jazz soprano saxophonist and composer\",\n",
    "    \"composer of feature films and television movie scores\",\n",
    "    \"composer and organist choirmaster Washington National Cathedral\",\n",
    "    \"orchestrator and composer of film and television scores\",\n",
    "    \"composer of film and television scores\",\n",
    "    \"composer and choirmaster\",\n",
    "    \"guitarist and composer and best known for his work with Van Morrison\",\n",
    "    \"composer and musical director\",\n",
    "    \"musical theater composer\",\n",
    "    \"violist and composer of electronic music\",\n",
    "    \"composer and television host\",\n",
    "    \"contemporary classical music composer\",\n",
    "    \"contemporary classical composer\",\n",
    "    \"hip hop composer\",\n",
    "    \"jingle composer\",\n",
    "    \"composer of background music for and\",\n",
    "    \"experimental composer\",\n",
    "    \"sitarist and composer\",\n",
    "    \"fiddler and composer\",\n",
    "    \"progressive rock bassist and composer\",\n",
    "    \"Academy Award winning film composer\",\n",
    "    \"composer and jazz trombonist\",\n",
    "    \"architect and composer\",\n",
    "    \"composer of film and television theme music\",\n",
    "    \"orchestrator and film composer\",\n",
    "    \"composer of Catholic liturgical songs\",\n",
    "    \"jazz keyboardist and composer\",\n",
    "    \"film music composer and conductor\",\n",
    "    \"swing and hard bop trumpeter and composer\",\n",
    "    \"film composer and conductor\",\n",
    "    \"composer and bassoonist\",\n",
    "    \"composer and playwright\",\n",
    "    \"composer prolific in film music\",\n",
    "    \"composer of orchestral\",\n",
    "    \"concert band conductor and composer\",\n",
    "    \"composer of classical music and conductor\",\n",
    "    \"composer and librettist\",\n",
    "    \"violist and composer of classical music\",\n",
    "    \"music composer and arranger\",\n",
    "    \"composer of orchestral and choral works\",\n",
    "    \"guitarist and composer in classical\",\n",
    "    \"composer and clarinetist\",\n",
    "    \"experimental composer and pianist\",\n",
    "    \"bandleader and composer for film and television\",\n",
    "    \"jazz composer and saxophonist\",\n",
    "    \"classical guitar composer\",\n",
    "    \"composer and pioneer of electronic and computer music\",\n",
    "    \"migrant composer\",\n",
    "    \"jazz trumpet player and composer\",\n",
    "    \"producer and composer of radio jingles\",\n",
    "    \"television and film composer\",\n",
    "    \"composer and music administrator\",\n",
    "    \"composer of music and film scores\",\n",
    "    \"composer and winner of the Pulitzer Prize\",\n",
    "    \"composer and filmmaker\",\n",
    "    \"born jazz pianist and composer\",\n",
    "    \"jazz composer and alto saxophonist\",\n",
    "    \"tango composer and pianist\",\n",
    "    \"composer and bandleader\",\n",
    "    \"composer and television producer\",\n",
    "    \"composer and orchestrator\",\n",
    "    \"composer and sculptor\",\n",
    "    \"video game composer\",\n",
    "    \"composer and sound\",\n",
    "    \"music composer and film scorer\",\n",
    "    \"jazz and R&B composer\",\n",
    "    \"composer and big band leader\",\n",
    "    \"composer and clarinet player\",\n",
    "    \"composer and musical producer\",\n",
    "    \"keyboard player and composer\",\n",
    "    \"jazz trombonist and film composer\",\n",
    "    \"saxophonist and film composer\",\n",
    "    \"orchestral and choral composer\",\n",
    "    \"orchestra conductor and composer\",\n",
    "    \"composer and accordionist\",\n",
    "    \"jazz composer and bandleader\",\n",
    "    \"film score composer and music director\",\n",
    "    \"microtonal composer\",\n",
    "    \"composer and flutist\",\n",
    "    \"composer and founding general director of Michigan Opera Theatre\",\n",
    "    \"video game music composer\",\n",
    "    \"brass band arranger and composer\",\n",
    "    \"playwright and composer\",\n",
    "    \"jazz alto saxophonist and composer\",\n",
    "    \"composer and music producer\",\n",
    "    \"violist and composer\",\n",
    "    \"sitar player and composer\",\n",
    "    \"jazz clarinetist and composer\",\n",
    "    \"composer and jazz saxophonist\",\n",
    "    \"Māori composer\",\n",
    "    \"Filin composer and interpreter\",\n",
    "    \"composer and biographer\",\n",
    "    \"film composer and pianist\",\n",
    "    \"composer and keyboard player\",\n",
    "    \"choirmaster and composer\",\n",
    "    \"country music composer\",\n",
    "    \"musical composer and performer\",\n",
    "    \"composer and performer\",\n",
    "    \"new age pianist and composer\",\n",
    "    \"Tony Award winning producer and composer\",\n",
    "    \"composer and sound editor\",\n",
    "    \"jazz pianist and film composer\",\n",
    "    \"orchestra leader and composer\",\n",
    "    \"classical and flamenco guitarist and composer\",\n",
    "    \"composer and music industry executive\",\n",
    "    \"television score composer\",\n",
    "    \"erhu master and composer\",\n",
    "    \"rock and jazz drummer and composer\",\n",
    "    \"jazz drummer and composer\",\n",
    "    \"composer and essayist\",\n",
    "    \"classical oboist and composer\",\n",
    "    \"Tony Award winning composer\",\n",
    "    \"ragtime pianist and composer\",\n",
    "    \"composer and jazz trumpeter\",\n",
    "    \"classical composer and flautist\",\n",
    "    \"bluesman and composer\",\n",
    "    \"composer and fiddler\",\n",
    "    \"composer and choir director\",\n",
    "    \"jazz cellist and composer\",\n",
    "    \"composer and novelist\",\n",
    "    \"jazz guitarist\",\n",
    "    \"composer and music critic\",\n",
    "    \"music director and composer\",\n",
    "    \"jazz trumpeter and composer\",\n",
    "    \"trumpeter and composer\",\n",
    "    \"composer and music director\",\n",
    "    \"percussionist and composer\",\n",
    "    \"composer and choral director\",\n",
    "    \"cellist and composer\",\n",
    "    \"electronic music composer\",\n",
    "    \"Pulitzer Prize winning composer\",\n",
    "    \"composer of film scores\",\n",
    "    \"composer and orchestra leader\",\n",
    "    \"jazz composer and arranger\",\n",
    "    \"harpist and composer\",\n",
    "    \"flautist and composer\",\n",
    "    \"classical composer and conductor\",\n",
    "    \"composer and jazz pianist\",\n",
    "    \"choral conductor and composer\",\n",
    "    \"classical guitarist and composer\",\n",
    "    \"avant garde composer and pianist\",\n",
    "    \"avant garde composer\",\n",
    "    \"film and television music composer\",\n",
    "    \"concert pianist and composer\",\n",
    "    \"composer and cellist\",\n",
    "    \"composer and guitarist\",\n",
    "    \"musical director and composer\",\n",
    "    \"composer and record producer\",\n",
    "    \"composer of contemporary classical music\",\n",
    "    \"composer and violist\",\n",
    "    \"bassist and composer\",\n",
    "    \"composer and violinist\",\n",
    "    \"classical music composer\",\n",
    "    \"jazz composer\",\n",
    "    \"opera composer\",\n",
    "    \"composer and arranger\",\n",
    "    \"jazz guitarist and composer\",\n",
    "    \"composer of classical music\",\n",
    "    \"lyricist and composer\",\n",
    "    \"film music composer\",\n",
    "    \"and computer music composer\",\n",
    "    \"music composer and\",\n",
    "    \"music composer\",\n",
    "    \"jazz saxophonist and composer\",\n",
    "    \"saxophonist and composer\",\n",
    "    \"classical composer\",\n",
    "    \"classical pianist and composer\",\n",
    "    \"composer and organist\",\n",
    "    \"violinist and composer\",\n",
    "    \"film and television composer\",\n",
    "    \"television composer\",\n",
    "    \"composer and lyricist\",\n",
    "    \"film score composer\",\n",
    "    \"organist and composer\",\n",
    "    \"guitarist and composer\",\n",
    "    \"film composer\",\n",
    "    \"conductor and composer\",\n",
    "    \"jazz pianist and composer\",\n",
    "    \"pianist and composer\",\n",
    "    \"composer and pianist\",\n",
    "    \"composer and conductor\",\n",
    "    \"composer of musicals\",\n",
    "    \"musical composer and\",\n",
    "    \"musical composer\",\n",
    "    \"composer and\",\n",
    "    \"and composer\",\n",
    "    \"composer\",\n",
    "]\n",
    "sports = []\n",
    "sciences = []\n",
    "\n",
    "business_farming = []\n",
    "academia_humanities = [\n",
    "    \"ethnomusicologist and wife of composer Henry Cowell\",  # before arts\n",
    "]\n",
    "law_enf_military_operator = []\n",
    "spiritual = []\n",
    "social = []\n",
    "crime = []\n",
    "event_record_other = []\n",
    "other_species = []"
   ]
  },
  {
   "cell_type": "markdown",
   "id": "b0460402",
   "metadata": {},
   "source": [
    "#### Creating `known_for_dict` Dictionary of Category Keys and Specific Role Lists of Values"
   ]
  },
  {
   "cell_type": "code",
   "execution_count": 70,
   "id": "dca25257",
   "metadata": {},
   "outputs": [
    {
     "data": {
      "application/javascript": [
       "\n",
       "            setTimeout(function() {\n",
       "                var nbb_cell_id = 70;\n",
       "                var nbb_unformatted_code = \"# Combining separate lists into one dictionary\\nknown_for_dict = {\\n    \\\"social\\\": social,\\n    \\\"spiritual\\\": spiritual,\\n    \\\"academia_humanities\\\": academia_humanities,\\n    \\\"business_farming\\\": business_farming,\\n    \\\"sciences\\\": sciences,\\n    \\\"politics_govt_law\\\": politics_govt_law,\\n    \\\"law_enf_military_operator\\\": law_enf_military_operator,\\n    \\\"crime\\\": crime,\\n    \\\"event_record_other\\\": event_record_other,\\n    \\\"other_species\\\": other_species,\\n    \\\"arts\\\": arts,\\n    \\\"sports\\\": sports,\\n}\";\n",
       "                var nbb_formatted_code = \"# Combining separate lists into one dictionary\\nknown_for_dict = {\\n    \\\"social\\\": social,\\n    \\\"spiritual\\\": spiritual,\\n    \\\"academia_humanities\\\": academia_humanities,\\n    \\\"business_farming\\\": business_farming,\\n    \\\"sciences\\\": sciences,\\n    \\\"politics_govt_law\\\": politics_govt_law,\\n    \\\"law_enf_military_operator\\\": law_enf_military_operator,\\n    \\\"crime\\\": crime,\\n    \\\"event_record_other\\\": event_record_other,\\n    \\\"other_species\\\": other_species,\\n    \\\"arts\\\": arts,\\n    \\\"sports\\\": sports,\\n}\";\n",
       "                var nbb_cells = Jupyter.notebook.get_cells();\n",
       "                for (var i = 0; i < nbb_cells.length; ++i) {\n",
       "                    if (nbb_cells[i].input_prompt_number == nbb_cell_id) {\n",
       "                        if (nbb_cells[i].get_text() == nbb_unformatted_code) {\n",
       "                             nbb_cells[i].set_text(nbb_formatted_code);\n",
       "                        }\n",
       "                        break;\n",
       "                    }\n",
       "                }\n",
       "            }, 500);\n",
       "            "
      ],
      "text/plain": [
       "<IPython.core.display.Javascript object>"
      ]
     },
     "metadata": {},
     "output_type": "display_data"
    }
   ],
   "source": [
    "# Combining separate lists into one dictionary\n",
    "known_for_dict = {\n",
    "    \"social\": social,\n",
    "    \"spiritual\": spiritual,\n",
    "    \"academia_humanities\": academia_humanities,\n",
    "    \"business_farming\": business_farming,\n",
    "    \"sciences\": sciences,\n",
    "    \"politics_govt_law\": politics_govt_law,\n",
    "    \"law_enf_military_operator\": law_enf_military_operator,\n",
    "    \"crime\": crime,\n",
    "    \"event_record_other\": event_record_other,\n",
    "    \"other_species\": other_species,\n",
    "    \"arts\": arts,\n",
    "    \"sports\": sports,\n",
    "}"
   ]
  },
  {
   "cell_type": "markdown",
   "id": "31767702",
   "metadata": {},
   "source": [
    "#### Extracting Category from `info_2`"
   ]
  },
  {
   "cell_type": "code",
   "execution_count": 71,
   "id": "c157b7de",
   "metadata": {},
   "outputs": [
    {
     "name": "stdout",
     "output_type": "stream",
     "text": [
      "CPU times: total: 1min 49s\n",
      "Wall time: 1min 49s\n"
     ]
    },
    {
     "data": {
      "text/html": [
       "<div>\n",
       "<style scoped>\n",
       "    .dataframe tbody tr th:only-of-type {\n",
       "        vertical-align: middle;\n",
       "    }\n",
       "\n",
       "    .dataframe tbody tr th {\n",
       "        vertical-align: top;\n",
       "    }\n",
       "\n",
       "    .dataframe thead th {\n",
       "        text-align: right;\n",
       "    }\n",
       "</style>\n",
       "<table border=\"1\" class=\"dataframe\">\n",
       "  <thead>\n",
       "    <tr style=\"text-align: right;\">\n",
       "      <th></th>\n",
       "      <th>day</th>\n",
       "      <th>name</th>\n",
       "      <th>info</th>\n",
       "      <th>link</th>\n",
       "      <th>num_references</th>\n",
       "      <th>year</th>\n",
       "      <th>month</th>\n",
       "      <th>info_parenth</th>\n",
       "      <th>info_1</th>\n",
       "      <th>info_2</th>\n",
       "      <th>info_3</th>\n",
       "      <th>info_4</th>\n",
       "      <th>info_5</th>\n",
       "      <th>info_6</th>\n",
       "      <th>info_7</th>\n",
       "      <th>info_8</th>\n",
       "      <th>info_9</th>\n",
       "      <th>info_10</th>\n",
       "      <th>info_11</th>\n",
       "      <th>age</th>\n",
       "      <th>cause_of_death</th>\n",
       "      <th>place_1</th>\n",
       "      <th>place_2</th>\n",
       "      <th>info_parenth_copy</th>\n",
       "      <th>log_num_references</th>\n",
       "      <th>sciences</th>\n",
       "      <th>social</th>\n",
       "      <th>spiritual</th>\n",
       "      <th>academia_humanities</th>\n",
       "      <th>business_farming</th>\n",
       "      <th>arts</th>\n",
       "      <th>sports</th>\n",
       "      <th>law_enf_military_operator</th>\n",
       "      <th>politics_govt_law</th>\n",
       "      <th>crime</th>\n",
       "      <th>event_record_other</th>\n",
       "      <th>other_species</th>\n",
       "      <th>num_categories</th>\n",
       "    </tr>\n",
       "  </thead>\n",
       "  <tbody>\n",
       "    <tr>\n",
       "      <th>45920</th>\n",
       "      <td>14</td>\n",
       "      <td>C. N. Karunakaran</td>\n",
       "      <td>, 73, Indian painter.</td>\n",
       "      <td>https://en.wikipedia.org/wiki/C._N._Karunakaran</td>\n",
       "      <td>22</td>\n",
       "      <td>2013</td>\n",
       "      <td>December</td>\n",
       "      <td>None</td>\n",
       "      <td>None</td>\n",
       "      <td></td>\n",
       "      <td>None</td>\n",
       "      <td>None</td>\n",
       "      <td>None</td>\n",
       "      <td>None</td>\n",
       "      <td>None</td>\n",
       "      <td>None</td>\n",
       "      <td>None</td>\n",
       "      <td>None</td>\n",
       "      <td>None</td>\n",
       "      <td>73.0</td>\n",
       "      <td>None</td>\n",
       "      <td>India</td>\n",
       "      <td>None</td>\n",
       "      <td>None</td>\n",
       "      <td>3.135494</td>\n",
       "      <td>0</td>\n",
       "      <td>0</td>\n",
       "      <td>0</td>\n",
       "      <td>0</td>\n",
       "      <td>0</td>\n",
       "      <td>1</td>\n",
       "      <td>0</td>\n",
       "      <td>0</td>\n",
       "      <td>0</td>\n",
       "      <td>0</td>\n",
       "      <td>0</td>\n",
       "      <td>0</td>\n",
       "      <td>1</td>\n",
       "    </tr>\n",
       "    <tr>\n",
       "      <th>69350</th>\n",
       "      <td>5</td>\n",
       "      <td>Daša Drndić</td>\n",
       "      <td>, 71, Croatian radio playwright  and author, cancer.</td>\n",
       "      <td>https://en.wikipedia.org/wiki/Da%C5%A1a_Drndi%C4%87</td>\n",
       "      <td>9</td>\n",
       "      <td>2018</td>\n",
       "      <td>June</td>\n",
       "      <td>Radio Belgrade</td>\n",
       "      <td>None</td>\n",
       "      <td></td>\n",
       "      <td>cancer</td>\n",
       "      <td>None</td>\n",
       "      <td>None</td>\n",
       "      <td>None</td>\n",
       "      <td>None</td>\n",
       "      <td>None</td>\n",
       "      <td>None</td>\n",
       "      <td>None</td>\n",
       "      <td>None</td>\n",
       "      <td>71.0</td>\n",
       "      <td>None</td>\n",
       "      <td>Croatia</td>\n",
       "      <td>None</td>\n",
       "      <td>Radio Belgrade</td>\n",
       "      <td>2.302585</td>\n",
       "      <td>0</td>\n",
       "      <td>0</td>\n",
       "      <td>0</td>\n",
       "      <td>0</td>\n",
       "      <td>0</td>\n",
       "      <td>1</td>\n",
       "      <td>0</td>\n",
       "      <td>0</td>\n",
       "      <td>0</td>\n",
       "      <td>0</td>\n",
       "      <td>0</td>\n",
       "      <td>0</td>\n",
       "      <td>1</td>\n",
       "    </tr>\n",
       "  </tbody>\n",
       "</table>\n",
       "</div>"
      ],
      "text/plain": [
       "      day               name  \\\n",
       "45920  14  C. N. Karunakaran   \n",
       "69350   5        Daša Drndić   \n",
       "\n",
       "                                                       info  \\\n",
       "45920                                 , 73, Indian painter.   \n",
       "69350  , 71, Croatian radio playwright  and author, cancer.   \n",
       "\n",
       "                                                      link  num_references  \\\n",
       "45920      https://en.wikipedia.org/wiki/C._N._Karunakaran              22   \n",
       "69350  https://en.wikipedia.org/wiki/Da%C5%A1a_Drndi%C4%87               9   \n",
       "\n",
       "       year     month    info_parenth info_1 info_2  info_3 info_4 info_5  \\\n",
       "45920  2013  December            None   None           None   None   None   \n",
       "69350  2018      June  Radio Belgrade   None         cancer   None   None   \n",
       "\n",
       "      info_6 info_7 info_8 info_9 info_10 info_11   age cause_of_death  \\\n",
       "45920   None   None   None   None    None    None  73.0           None   \n",
       "69350   None   None   None   None    None    None  71.0           None   \n",
       "\n",
       "       place_1 place_2 info_parenth_copy  log_num_references  sciences  \\\n",
       "45920    India    None              None            3.135494         0   \n",
       "69350  Croatia    None    Radio Belgrade            2.302585         0   \n",
       "\n",
       "       social  spiritual  academia_humanities  business_farming  arts  sports  \\\n",
       "45920       0          0                    0                 0     1       0   \n",
       "69350       0          0                    0                 0     1       0   \n",
       "\n",
       "       law_enf_military_operator  politics_govt_law  crime  \\\n",
       "45920                          0                  0      0   \n",
       "69350                          0                  0      0   \n",
       "\n",
       "       event_record_other  other_species  num_categories  \n",
       "45920                   0              0               1  \n",
       "69350                   0              0               1  "
      ]
     },
     "execution_count": 71,
     "metadata": {},
     "output_type": "execute_result"
    },
    {
     "data": {
      "application/javascript": [
       "\n",
       "            setTimeout(function() {\n",
       "                var nbb_cell_id = 71;\n",
       "                var nbb_unformatted_code = \"%%time\\n\\n# Dictionary version\\nsearch_dict = known_for_dict\\n\\n# Column to check\\ncolumn = 'info_2'\\n\\n# Dataframe\\ndataframe = df[column].notna()\\n\\n# For loop to find role in column and extract it as category\\nfor category, category_lst in search_dict.items():\\n    for role in category_lst:\\n        for index in dataframe.index:\\n            item = df.loc[index, column]\\n            if item:\\n                if role in item:\\n                    df.loc[index, category] = 1\\n                    df.loc[index, column] = item.replace(role, '').strip()\\n\\n# Updating num_categories\\ndf[\\\"num_categories\\\"] = df[known_for_dict.keys()].sum(axis=1)\\n                    \\n# Checking a sample of rows\\ndf[df['arts'] ==1].sample(2)\";\n",
       "                var nbb_formatted_code = \"%%time\\n\\n# Dictionary version\\nsearch_dict = known_for_dict\\n\\n# Column to check\\ncolumn = 'info_2'\\n\\n# Dataframe\\ndataframe = df[column].notna()\\n\\n# For loop to find role in column and extract it as category\\nfor category, category_lst in search_dict.items():\\n    for role in category_lst:\\n        for index in dataframe.index:\\n            item = df.loc[index, column]\\n            if item:\\n                if role in item:\\n                    df.loc[index, category] = 1\\n                    df.loc[index, column] = item.replace(role, '').strip()\\n\\n# Updating num_categories\\ndf[\\\"num_categories\\\"] = df[known_for_dict.keys()].sum(axis=1)\\n                    \\n# Checking a sample of rows\\ndf[df['arts'] ==1].sample(2)\";\n",
       "                var nbb_cells = Jupyter.notebook.get_cells();\n",
       "                for (var i = 0; i < nbb_cells.length; ++i) {\n",
       "                    if (nbb_cells[i].input_prompt_number == nbb_cell_id) {\n",
       "                        if (nbb_cells[i].get_text() == nbb_unformatted_code) {\n",
       "                             nbb_cells[i].set_text(nbb_formatted_code);\n",
       "                        }\n",
       "                        break;\n",
       "                    }\n",
       "                }\n",
       "            }, 500);\n",
       "            "
      ],
      "text/plain": [
       "<IPython.core.display.Javascript object>"
      ]
     },
     "metadata": {},
     "output_type": "display_data"
    }
   ],
   "source": [
    "%%time\n",
    "\n",
    "# Dictionary version\n",
    "search_dict = known_for_dict\n",
    "\n",
    "# Column to check\n",
    "column = 'info_2'\n",
    "\n",
    "# Dataframe\n",
    "dataframe = df[column].notna()\n",
    "\n",
    "# For loop to find role in column and extract it as category\n",
    "for category, category_lst in search_dict.items():\n",
    "    for role in category_lst:\n",
    "        for index in dataframe.index:\n",
    "            item = df.loc[index, column]\n",
    "            if item:\n",
    "                if role in item:\n",
    "                    df.loc[index, category] = 1\n",
    "                    df.loc[index, column] = item.replace(role, '').strip()\n",
    "\n",
    "# Updating num_categories\n",
    "df[\"num_categories\"] = df[known_for_dict.keys()].sum(axis=1)\n",
    "                    \n",
    "# Checking a sample of rows\n",
    "df[df['arts'] ==1].sample(2)"
   ]
  },
  {
   "cell_type": "markdown",
   "id": "41e42331",
   "metadata": {},
   "source": [
    "#### Checking the Number of Rows without a First Category"
   ]
  },
  {
   "cell_type": "code",
   "execution_count": 72,
   "id": "fc6e878f",
   "metadata": {},
   "outputs": [
    {
     "name": "stdout",
     "output_type": "stream",
     "text": [
      "There are 47693 entries without any known_for category.\n"
     ]
    },
    {
     "data": {
      "application/javascript": [
       "\n",
       "            setTimeout(function() {\n",
       "                var nbb_cell_id = 72;\n",
       "                var nbb_unformatted_code = \"#### Checking the number of rows without a first category\\nprint(\\n    f'There are {len(df[df[\\\"num_categories\\\"]==0])} entries without any known_for category.'\\n)\";\n",
       "                var nbb_formatted_code = \"#### Checking the number of rows without a first category\\nprint(\\n    f'There are {len(df[df[\\\"num_categories\\\"]==0])} entries without any known_for category.'\\n)\";\n",
       "                var nbb_cells = Jupyter.notebook.get_cells();\n",
       "                for (var i = 0; i < nbb_cells.length; ++i) {\n",
       "                    if (nbb_cells[i].input_prompt_number == nbb_cell_id) {\n",
       "                        if (nbb_cells[i].get_text() == nbb_unformatted_code) {\n",
       "                             nbb_cells[i].set_text(nbb_formatted_code);\n",
       "                        }\n",
       "                        break;\n",
       "                    }\n",
       "                }\n",
       "            }, 500);\n",
       "            "
      ],
      "text/plain": [
       "<IPython.core.display.Javascript object>"
      ]
     },
     "metadata": {},
     "output_type": "display_data"
    }
   ],
   "source": [
    "#### Checking the number of rows without a first category\n",
    "print(\n",
    "    f'There are {len(df[df[\"num_categories\"]==0])} entries without any known_for category.'\n",
    ")"
   ]
  },
  {
   "cell_type": "markdown",
   "id": "435a3499",
   "metadata": {},
   "source": [
    "#### Observations:\n",
    "- We will proceed to rebuild `known_for_dict` for the next iteration."
   ]
  },
  {
   "cell_type": "markdown",
   "id": "d3daaf53",
   "metadata": {},
   "source": [
    "#### Finding `known_for` Roles in `info_2`"
   ]
  },
  {
   "cell_type": "code",
   "execution_count": 73,
   "id": "17ddd4ec",
   "metadata": {},
   "outputs": [
    {
     "data": {
      "application/javascript": [
       "\n",
       "            setTimeout(function() {\n",
       "                var nbb_cell_id = 73;\n",
       "                var nbb_unformatted_code = \"# Obtaining values for column and their counts\\nroles_list = df[\\\"info_2\\\"].value_counts(ascending=True).index.tolist()\";\n",
       "                var nbb_formatted_code = \"# Obtaining values for column and their counts\\nroles_list = df[\\\"info_2\\\"].value_counts(ascending=True).index.tolist()\";\n",
       "                var nbb_cells = Jupyter.notebook.get_cells();\n",
       "                for (var i = 0; i < nbb_cells.length; ++i) {\n",
       "                    if (nbb_cells[i].input_prompt_number == nbb_cell_id) {\n",
       "                        if (nbb_cells[i].get_text() == nbb_unformatted_code) {\n",
       "                             nbb_cells[i].set_text(nbb_formatted_code);\n",
       "                        }\n",
       "                        break;\n",
       "                    }\n",
       "                }\n",
       "            }, 500);\n",
       "            "
      ],
      "text/plain": [
       "<IPython.core.display.Javascript object>"
      ]
     },
     "metadata": {},
     "output_type": "display_data"
    }
   ],
   "source": [
    "# Obtaining values for column and their counts\n",
    "roles_list = df[\"info_2\"].value_counts(ascending=True).index.tolist()"
   ]
  },
  {
   "cell_type": "code",
   "execution_count": 74,
   "id": "71877789",
   "metadata": {},
   "outputs": [
    {
     "data": {
      "application/javascript": [
       "\n",
       "            setTimeout(function() {\n",
       "                var nbb_cell_id = 74;\n",
       "                var nbb_unformatted_code = \"# # Code to check each value\\n# roles_list.pop()\";\n",
       "                var nbb_formatted_code = \"# # Code to check each value\\n# roles_list.pop()\";\n",
       "                var nbb_cells = Jupyter.notebook.get_cells();\n",
       "                for (var i = 0; i < nbb_cells.length; ++i) {\n",
       "                    if (nbb_cells[i].input_prompt_number == nbb_cell_id) {\n",
       "                        if (nbb_cells[i].get_text() == nbb_unformatted_code) {\n",
       "                             nbb_cells[i].set_text(nbb_formatted_code);\n",
       "                        }\n",
       "                        break;\n",
       "                    }\n",
       "                }\n",
       "            }, 500);\n",
       "            "
      ],
      "text/plain": [
       "<IPython.core.display.Javascript object>"
      ]
     },
     "metadata": {},
     "output_type": "display_data"
    }
   ],
   "source": [
    "# # Code to check each value\n",
    "# roles_list.pop()"
   ]
  },
  {
   "cell_type": "code",
   "execution_count": 75,
   "id": "784cf344",
   "metadata": {},
   "outputs": [
    {
     "data": {
      "application/javascript": [
       "\n",
       "            setTimeout(function() {\n",
       "                var nbb_cell_id = 75;\n",
       "                var nbb_unformatted_code = \"# # Create specific_roles_list for above popped value\\n# specific_roles_list = (\\n#     df.loc[\\n#         [index for index in df.index if \\\"academic\\\" in df.loc[index, \\\"info\\\"]], \\\"info_2\\\",\\n#     ]\\n#     .value_counts()\\n#     .index.tolist()\\n# )\";\n",
       "                var nbb_formatted_code = \"# # Create specific_roles_list for above popped value\\n# specific_roles_list = (\\n#     df.loc[\\n#         [index for index in df.index if \\\"academic\\\" in df.loc[index, \\\"info\\\"]], \\\"info_2\\\",\\n#     ]\\n#     .value_counts()\\n#     .index.tolist()\\n# )\";\n",
       "                var nbb_cells = Jupyter.notebook.get_cells();\n",
       "                for (var i = 0; i < nbb_cells.length; ++i) {\n",
       "                    if (nbb_cells[i].input_prompt_number == nbb_cell_id) {\n",
       "                        if (nbb_cells[i].get_text() == nbb_unformatted_code) {\n",
       "                             nbb_cells[i].set_text(nbb_formatted_code);\n",
       "                        }\n",
       "                        break;\n",
       "                    }\n",
       "                }\n",
       "            }, 500);\n",
       "            "
      ],
      "text/plain": [
       "<IPython.core.display.Javascript object>"
      ]
     },
     "metadata": {},
     "output_type": "display_data"
    }
   ],
   "source": [
    "# # Create specific_roles_list for above popped value\n",
    "# specific_roles_list = (\n",
    "#     df.loc[\n",
    "#         [index for index in df.index if \"academic\" in df.loc[index, \"info\"]], \"info_2\",\n",
    "#     ]\n",
    "#     .value_counts()\n",
    "#     .index.tolist()\n",
    "# )"
   ]
  },
  {
   "cell_type": "code",
   "execution_count": 76,
   "id": "7e19a885",
   "metadata": {},
   "outputs": [
    {
     "data": {
      "application/javascript": [
       "\n",
       "            setTimeout(function() {\n",
       "                var nbb_cell_id = 76;\n",
       "                var nbb_unformatted_code = \"# # Code to check each specific value\\n# specific_roles_list.pop()\";\n",
       "                var nbb_formatted_code = \"# # Code to check each specific value\\n# specific_roles_list.pop()\";\n",
       "                var nbb_cells = Jupyter.notebook.get_cells();\n",
       "                for (var i = 0; i < nbb_cells.length; ++i) {\n",
       "                    if (nbb_cells[i].input_prompt_number == nbb_cell_id) {\n",
       "                        if (nbb_cells[i].get_text() == nbb_unformatted_code) {\n",
       "                             nbb_cells[i].set_text(nbb_formatted_code);\n",
       "                        }\n",
       "                        break;\n",
       "                    }\n",
       "                }\n",
       "            }, 500);\n",
       "            "
      ],
      "text/plain": [
       "<IPython.core.display.Javascript object>"
      ]
     },
     "metadata": {},
     "output_type": "display_data"
    }
   ],
   "source": [
    "# # Code to check each specific value\n",
    "# specific_roles_list.pop()"
   ]
  },
  {
   "cell_type": "code",
   "execution_count": 77,
   "id": "ac0990fd",
   "metadata": {},
   "outputs": [
    {
     "data": {
      "application/javascript": [
       "\n",
       "            setTimeout(function() {\n",
       "                var nbb_cell_id = 77;\n",
       "                var nbb_unformatted_code = \"# # Example code to quick-screen values that may overlap categories\\n# df.loc[\\n#     [index for index in df.index if \\\"and academic fraudster\\\" in df.loc[index, \\\"info\\\"]]\\n# ]\";\n",
       "                var nbb_formatted_code = \"# # Example code to quick-screen values that may overlap categories\\n# df.loc[\\n#     [index for index in df.index if \\\"and academic fraudster\\\" in df.loc[index, \\\"info\\\"]]\\n# ]\";\n",
       "                var nbb_cells = Jupyter.notebook.get_cells();\n",
       "                for (var i = 0; i < nbb_cells.length; ++i) {\n",
       "                    if (nbb_cells[i].input_prompt_number == nbb_cell_id) {\n",
       "                        if (nbb_cells[i].get_text() == nbb_unformatted_code) {\n",
       "                             nbb_cells[i].set_text(nbb_formatted_code);\n",
       "                        }\n",
       "                        break;\n",
       "                    }\n",
       "                }\n",
       "            }, 500);\n",
       "            "
      ],
      "text/plain": [
       "<IPython.core.display.Javascript object>"
      ]
     },
     "metadata": {},
     "output_type": "display_data"
    }
   ],
   "source": [
    "# # Example code to quick-screen values that may overlap categories\n",
    "# df.loc[\n",
    "#     [index for index in df.index if \"and academic fraudster\" in df.loc[index, \"info\"]]\n",
    "# ]"
   ]
  },
  {
   "cell_type": "code",
   "execution_count": 78,
   "id": "6508667c",
   "metadata": {},
   "outputs": [
    {
     "data": {
      "application/javascript": [
       "\n",
       "            setTimeout(function() {\n",
       "                var nbb_cell_id = 78;\n",
       "                var nbb_unformatted_code = \"# # Example code to quick-screen values that may overlap categories\\n# df.loc[\\n#     [\\n#         index\\n#         for index in df.index\\n#         if \\\"outlaw country music singer songwriter\\\" in df.loc[index, \\\"info\\\"]\\n#     ]\\n# ]\";\n",
       "                var nbb_formatted_code = \"# # Example code to quick-screen values that may overlap categories\\n# df.loc[\\n#     [\\n#         index\\n#         for index in df.index\\n#         if \\\"outlaw country music singer songwriter\\\" in df.loc[index, \\\"info\\\"]\\n#     ]\\n# ]\";\n",
       "                var nbb_cells = Jupyter.notebook.get_cells();\n",
       "                for (var i = 0; i < nbb_cells.length; ++i) {\n",
       "                    if (nbb_cells[i].input_prompt_number == nbb_cell_id) {\n",
       "                        if (nbb_cells[i].get_text() == nbb_unformatted_code) {\n",
       "                             nbb_cells[i].set_text(nbb_formatted_code);\n",
       "                        }\n",
       "                        break;\n",
       "                    }\n",
       "                }\n",
       "            }, 500);\n",
       "            "
      ],
      "text/plain": [
       "<IPython.core.display.Javascript object>"
      ]
     },
     "metadata": {},
     "output_type": "display_data"
    }
   ],
   "source": [
    "# # Example code to quick-screen values that may overlap categories\n",
    "# df.loc[\n",
    "#     [\n",
    "#         index\n",
    "#         for index in df.index\n",
    "#         if \"outlaw country music singer songwriter\" in df.loc[index, \"info\"]\n",
    "#     ]\n",
    "# ]"
   ]
  },
  {
   "cell_type": "code",
   "execution_count": 79,
   "id": "f33c321b",
   "metadata": {},
   "outputs": [
    {
     "data": {
      "application/javascript": [
       "\n",
       "            setTimeout(function() {\n",
       "                var nbb_cell_id = 79;\n",
       "                var nbb_unformatted_code = \"# # Example code to quick-check a specific entry\\n# df[df[\\\"info_2\\\"] == \\\"academician and Judaica scholar\\\"]\";\n",
       "                var nbb_formatted_code = \"# # Example code to quick-check a specific entry\\n# df[df[\\\"info_2\\\"] == \\\"academician and Judaica scholar\\\"]\";\n",
       "                var nbb_cells = Jupyter.notebook.get_cells();\n",
       "                for (var i = 0; i < nbb_cells.length; ++i) {\n",
       "                    if (nbb_cells[i].input_prompt_number == nbb_cell_id) {\n",
       "                        if (nbb_cells[i].get_text() == nbb_unformatted_code) {\n",
       "                             nbb_cells[i].set_text(nbb_formatted_code);\n",
       "                        }\n",
       "                        break;\n",
       "                    }\n",
       "                }\n",
       "            }, 500);\n",
       "            "
      ],
      "text/plain": [
       "<IPython.core.display.Javascript object>"
      ]
     },
     "metadata": {},
     "output_type": "display_data"
    }
   ],
   "source": [
    "# # Example code to quick-check a specific entry\n",
    "# df[df[\"info_2\"] == \"academician and Judaica scholar\"]"
   ]
  },
  {
   "cell_type": "markdown",
   "id": "2eaedb9c",
   "metadata": {},
   "source": [
    "#### Creating Lists for Each `known_for` Category"
   ]
  },
  {
   "cell_type": "code",
   "execution_count": 80,
   "id": "9c909eb5",
   "metadata": {},
   "outputs": [
    {
     "data": {
      "application/javascript": [
       "\n",
       "            setTimeout(function() {\n",
       "                var nbb_cell_id = 80;\n",
       "                var nbb_unformatted_code = \"# Creating lists for each category\\npolitics_govt_law = [\\\"intelligence theorist\\\"]\\n\\narts = [\\n    \\\"and academic fraudster\\\",  # before academia_humanities\\n]\\nsports = []\\nsciences = [\\\"and shoe expert\\\", \\\"cyber security expert\\\"]\\n\\nbusiness_farming = []\\nacademia_humanities = [\\n    \\\"Three Affiliated Tribes academic\\\",\\n    \\\"grammar academic\\\",\\n    \\\"academic and librarian\\\",\\n    \\\"university administrator and academic\\\",\\n    \\\"academic and redologist\\\",\\n    \\\"academic and professor\\\",\\n    \\\"educationalist and academic\\\",\\n    \\\"Druze academic\\\",\\n    \\\"academic and sinologist\\\",\\n    \\\"academic and educationalist\\\",\\n    \\\"academic director\\\",\\n    \\\"Blackfoot academic administrator\\\",\\n    \\\"medievalist and academic\\\",\\n    \\\"academic and college president;\\\",\\n    \\\"Creole academic\\\",\\n    \\\"anthropologist who founded the academic journal\\\",\\n    \\\"professor and academic\\\",\\n    \\\"academic and university president\\\",\\n    \\\"interpreter and academic\\\",\\n    \\\"university academic and administrator\\\",\\n    \\\"academic and administrator\\\",\\n    \\\"and medical academic\\\",\\n    \\\"law expert and academic\\\",\\n    \\\"academic of descent\\\",\\n    \\\"teacher and academic\\\",\\n    \\\"academic and philosopher\\\",\\n    \\\"ans academic\\\",\\n    \\\"academic leader and\\\",\\n    \\\"academic philosopher\\\",\\n    \\\"and academic Parkinson disease\\\",\\n    \\\"fat studies academic and\\\",\\n    \\\"and tax academic\\\",\\n    \\\"theorist and academic\\\",\\n    \\\"linguist and academic administrator\\\",\\n    \\\"classics and ancient history academic\\\",\\n    \\\"Africanist and academic\\\",\\n    \\\"archivist and academic administrator\\\",\\n    \\\"Orientalist and academic\\\",\\n    \\\"and religious academic\\\",\\n    \\\"scholar and academic administrator\\\",\\n    \\\"and nursing academic\\\",\\n    \\\"curator and academic administrator\\\",\\n    \\\"professor and academic administrator\\\",\\n    \\\"Meso epigraphist and academic\\\",\\n    \\\"academic and Quechua translator\\\",\\n    \\\"and culture academic\\\",\\n    \\\"academician and educator\\\",\\n    \\\"philosopher and acedemician\\\",\\n    \\\"Opaskwayak academic\\\",\\n    \\\"geographer and academic\\\",\\n    \\\"academic and university administrator\\\",\\n    \\\"translator and academic\\\",\\n    \\\"academic and linguist\\\",\\n    \\\"academic and scholar\\\",\\n    \\\"folklorist and academic\\\",\\n    \\\"educator and academic administrator\\\",\\n    \\\"classicist and academic\\\",\\n    \\\"archaeologist and academic\\\",\\n    \\\"M\\u0101ori language academic\\\",\\n    \\\"academic and translator\\\",\\n    \\\"librarian and academic\\\",\\n    \\\"educator and academic\\\",\\n    \\\"linguist and academic\\\",\\n    \\\"academic and educator\\\",\\n    \\\"philosopher and academic\\\",\\n    \\\"scholar and academic\\\",\\n    \\\"and an academic teacher\\\",\\n    \\\"academician and\\\",\\n    \\\"academic and professor of\\\",\\n    \\\"and academic teacher\\\",\\n    \\\"and an academic\\\",\\n    \\\"and academic administrator\\\",\\n    \\\"and academician\\\",\\n    \\\"academician\\\",\\n    \\\"academic professor and\\\",\\n    \\\"academic administrator and\\\",\\n    \\\"academic administrator\\\",\\n    \\\"and academic\\\",\\n    \\\"academic and\\\",\\n    \\\"academic\\\",\\n]\\nlaw_enf_military_operator = []\\nspiritual = []\\nsocial = []\\ncrime = []\\nevent_record_other = []\\nother_species = []\";\n",
       "                var nbb_formatted_code = \"# Creating lists for each category\\npolitics_govt_law = [\\\"intelligence theorist\\\"]\\n\\narts = [\\n    \\\"and academic fraudster\\\",  # before academia_humanities\\n]\\nsports = []\\nsciences = [\\\"and shoe expert\\\", \\\"cyber security expert\\\"]\\n\\nbusiness_farming = []\\nacademia_humanities = [\\n    \\\"Three Affiliated Tribes academic\\\",\\n    \\\"grammar academic\\\",\\n    \\\"academic and librarian\\\",\\n    \\\"university administrator and academic\\\",\\n    \\\"academic and redologist\\\",\\n    \\\"academic and professor\\\",\\n    \\\"educationalist and academic\\\",\\n    \\\"Druze academic\\\",\\n    \\\"academic and sinologist\\\",\\n    \\\"academic and educationalist\\\",\\n    \\\"academic director\\\",\\n    \\\"Blackfoot academic administrator\\\",\\n    \\\"medievalist and academic\\\",\\n    \\\"academic and college president;\\\",\\n    \\\"Creole academic\\\",\\n    \\\"anthropologist who founded the academic journal\\\",\\n    \\\"professor and academic\\\",\\n    \\\"academic and university president\\\",\\n    \\\"interpreter and academic\\\",\\n    \\\"university academic and administrator\\\",\\n    \\\"academic and administrator\\\",\\n    \\\"and medical academic\\\",\\n    \\\"law expert and academic\\\",\\n    \\\"academic of descent\\\",\\n    \\\"teacher and academic\\\",\\n    \\\"academic and philosopher\\\",\\n    \\\"ans academic\\\",\\n    \\\"academic leader and\\\",\\n    \\\"academic philosopher\\\",\\n    \\\"and academic Parkinson disease\\\",\\n    \\\"fat studies academic and\\\",\\n    \\\"and tax academic\\\",\\n    \\\"theorist and academic\\\",\\n    \\\"linguist and academic administrator\\\",\\n    \\\"classics and ancient history academic\\\",\\n    \\\"Africanist and academic\\\",\\n    \\\"archivist and academic administrator\\\",\\n    \\\"Orientalist and academic\\\",\\n    \\\"and religious academic\\\",\\n    \\\"scholar and academic administrator\\\",\\n    \\\"and nursing academic\\\",\\n    \\\"curator and academic administrator\\\",\\n    \\\"professor and academic administrator\\\",\\n    \\\"Meso epigraphist and academic\\\",\\n    \\\"academic and Quechua translator\\\",\\n    \\\"and culture academic\\\",\\n    \\\"academician and educator\\\",\\n    \\\"philosopher and acedemician\\\",\\n    \\\"Opaskwayak academic\\\",\\n    \\\"geographer and academic\\\",\\n    \\\"academic and university administrator\\\",\\n    \\\"translator and academic\\\",\\n    \\\"academic and linguist\\\",\\n    \\\"academic and scholar\\\",\\n    \\\"folklorist and academic\\\",\\n    \\\"educator and academic administrator\\\",\\n    \\\"classicist and academic\\\",\\n    \\\"archaeologist and academic\\\",\\n    \\\"M\\u0101ori language academic\\\",\\n    \\\"academic and translator\\\",\\n    \\\"librarian and academic\\\",\\n    \\\"educator and academic\\\",\\n    \\\"linguist and academic\\\",\\n    \\\"academic and educator\\\",\\n    \\\"philosopher and academic\\\",\\n    \\\"scholar and academic\\\",\\n    \\\"and an academic teacher\\\",\\n    \\\"academician and\\\",\\n    \\\"academic and professor of\\\",\\n    \\\"and academic teacher\\\",\\n    \\\"and an academic\\\",\\n    \\\"and academic administrator\\\",\\n    \\\"and academician\\\",\\n    \\\"academician\\\",\\n    \\\"academic professor and\\\",\\n    \\\"academic administrator and\\\",\\n    \\\"academic administrator\\\",\\n    \\\"and academic\\\",\\n    \\\"academic and\\\",\\n    \\\"academic\\\",\\n]\\nlaw_enf_military_operator = []\\nspiritual = []\\nsocial = []\\ncrime = []\\nevent_record_other = []\\nother_species = []\";\n",
       "                var nbb_cells = Jupyter.notebook.get_cells();\n",
       "                for (var i = 0; i < nbb_cells.length; ++i) {\n",
       "                    if (nbb_cells[i].input_prompt_number == nbb_cell_id) {\n",
       "                        if (nbb_cells[i].get_text() == nbb_unformatted_code) {\n",
       "                             nbb_cells[i].set_text(nbb_formatted_code);\n",
       "                        }\n",
       "                        break;\n",
       "                    }\n",
       "                }\n",
       "            }, 500);\n",
       "            "
      ],
      "text/plain": [
       "<IPython.core.display.Javascript object>"
      ]
     },
     "metadata": {},
     "output_type": "display_data"
    }
   ],
   "source": [
    "# Creating lists for each category\n",
    "politics_govt_law = [\"intelligence theorist\"]\n",
    "\n",
    "arts = [\n",
    "    \"and academic fraudster\",  # before academia_humanities\n",
    "]\n",
    "sports = []\n",
    "sciences = [\"and shoe expert\", \"cyber security expert\"]\n",
    "\n",
    "business_farming = []\n",
    "academia_humanities = [\n",
    "    \"Three Affiliated Tribes academic\",\n",
    "    \"grammar academic\",\n",
    "    \"academic and librarian\",\n",
    "    \"university administrator and academic\",\n",
    "    \"academic and redologist\",\n",
    "    \"academic and professor\",\n",
    "    \"educationalist and academic\",\n",
    "    \"Druze academic\",\n",
    "    \"academic and sinologist\",\n",
    "    \"academic and educationalist\",\n",
    "    \"academic director\",\n",
    "    \"Blackfoot academic administrator\",\n",
    "    \"medievalist and academic\",\n",
    "    \"academic and college president;\",\n",
    "    \"Creole academic\",\n",
    "    \"anthropologist who founded the academic journal\",\n",
    "    \"professor and academic\",\n",
    "    \"academic and university president\",\n",
    "    \"interpreter and academic\",\n",
    "    \"university academic and administrator\",\n",
    "    \"academic and administrator\",\n",
    "    \"and medical academic\",\n",
    "    \"law expert and academic\",\n",
    "    \"academic of descent\",\n",
    "    \"teacher and academic\",\n",
    "    \"academic and philosopher\",\n",
    "    \"ans academic\",\n",
    "    \"academic leader and\",\n",
    "    \"academic philosopher\",\n",
    "    \"and academic Parkinson disease\",\n",
    "    \"fat studies academic and\",\n",
    "    \"and tax academic\",\n",
    "    \"theorist and academic\",\n",
    "    \"linguist and academic administrator\",\n",
    "    \"classics and ancient history academic\",\n",
    "    \"Africanist and academic\",\n",
    "    \"archivist and academic administrator\",\n",
    "    \"Orientalist and academic\",\n",
    "    \"and religious academic\",\n",
    "    \"scholar and academic administrator\",\n",
    "    \"and nursing academic\",\n",
    "    \"curator and academic administrator\",\n",
    "    \"professor and academic administrator\",\n",
    "    \"Meso epigraphist and academic\",\n",
    "    \"academic and Quechua translator\",\n",
    "    \"and culture academic\",\n",
    "    \"academician and educator\",\n",
    "    \"philosopher and acedemician\",\n",
    "    \"Opaskwayak academic\",\n",
    "    \"geographer and academic\",\n",
    "    \"academic and university administrator\",\n",
    "    \"translator and academic\",\n",
    "    \"academic and linguist\",\n",
    "    \"academic and scholar\",\n",
    "    \"folklorist and academic\",\n",
    "    \"educator and academic administrator\",\n",
    "    \"classicist and academic\",\n",
    "    \"archaeologist and academic\",\n",
    "    \"Māori language academic\",\n",
    "    \"academic and translator\",\n",
    "    \"librarian and academic\",\n",
    "    \"educator and academic\",\n",
    "    \"linguist and academic\",\n",
    "    \"academic and educator\",\n",
    "    \"philosopher and academic\",\n",
    "    \"scholar and academic\",\n",
    "    \"and an academic teacher\",\n",
    "    \"academician and\",\n",
    "    \"academic and professor of\",\n",
    "    \"and academic teacher\",\n",
    "    \"and an academic\",\n",
    "    \"and academic administrator\",\n",
    "    \"and academician\",\n",
    "    \"academician\",\n",
    "    \"academic professor and\",\n",
    "    \"academic administrator and\",\n",
    "    \"academic administrator\",\n",
    "    \"and academic\",\n",
    "    \"academic and\",\n",
    "    \"academic\",\n",
    "]\n",
    "law_enf_military_operator = []\n",
    "spiritual = []\n",
    "social = []\n",
    "crime = []\n",
    "event_record_other = []\n",
    "other_species = []"
   ]
  },
  {
   "cell_type": "code",
   "execution_count": 81,
   "id": "9dd6d0ff",
   "metadata": {},
   "outputs": [
    {
     "data": {
      "application/javascript": [
       "\n",
       "            setTimeout(function() {\n",
       "                var nbb_cell_id = 81;\n",
       "                var nbb_unformatted_code = \"# Hard-coding cause_of_death for entry with value in info_2\\nindex = df[df[\\\"link\\\"] == \\\"https://en.wikipedia.org/wiki/Rutherford_Aris\\\"].index\\ndf.loc[index, \\\"cause_of_death\\\"] = \\\"Parkinson disease\\\"\";\n",
       "                var nbb_formatted_code = \"# Hard-coding cause_of_death for entry with value in info_2\\nindex = df[df[\\\"link\\\"] == \\\"https://en.wikipedia.org/wiki/Rutherford_Aris\\\"].index\\ndf.loc[index, \\\"cause_of_death\\\"] = \\\"Parkinson disease\\\"\";\n",
       "                var nbb_cells = Jupyter.notebook.get_cells();\n",
       "                for (var i = 0; i < nbb_cells.length; ++i) {\n",
       "                    if (nbb_cells[i].input_prompt_number == nbb_cell_id) {\n",
       "                        if (nbb_cells[i].get_text() == nbb_unformatted_code) {\n",
       "                             nbb_cells[i].set_text(nbb_formatted_code);\n",
       "                        }\n",
       "                        break;\n",
       "                    }\n",
       "                }\n",
       "            }, 500);\n",
       "            "
      ],
      "text/plain": [
       "<IPython.core.display.Javascript object>"
      ]
     },
     "metadata": {},
     "output_type": "display_data"
    }
   ],
   "source": [
    "# Hard-coding cause_of_death for entry with value in info_2\n",
    "index = df[df[\"link\"] == \"https://en.wikipedia.org/wiki/Rutherford_Aris\"].index\n",
    "df.loc[index, \"cause_of_death\"] = \"Parkinson disease\""
   ]
  },
  {
   "cell_type": "markdown",
   "id": "8539f83e",
   "metadata": {},
   "source": [
    "#### Creating `known_for_dict` Dictionary of Category Keys and Specific Role Lists of Values"
   ]
  },
  {
   "cell_type": "code",
   "execution_count": 82,
   "id": "cb54a18a",
   "metadata": {},
   "outputs": [
    {
     "data": {
      "application/javascript": [
       "\n",
       "            setTimeout(function() {\n",
       "                var nbb_cell_id = 82;\n",
       "                var nbb_unformatted_code = \"# Combining separate lists into one dictionary\\nknown_for_dict = {\\n    \\\"social\\\": social,\\n    \\\"spiritual\\\": spiritual,\\n    \\\"arts\\\": arts,\\n    \\\"academia_humanities\\\": academia_humanities,\\n    \\\"business_farming\\\": business_farming,\\n    \\\"sciences\\\": sciences,\\n    \\\"politics_govt_law\\\": politics_govt_law,\\n    \\\"law_enf_military_operator\\\": law_enf_military_operator,\\n    \\\"crime\\\": crime,\\n    \\\"event_record_other\\\": event_record_other,\\n    \\\"other_species\\\": other_species,\\n    \\\"sports\\\": sports,\\n}\";\n",
       "                var nbb_formatted_code = \"# Combining separate lists into one dictionary\\nknown_for_dict = {\\n    \\\"social\\\": social,\\n    \\\"spiritual\\\": spiritual,\\n    \\\"arts\\\": arts,\\n    \\\"academia_humanities\\\": academia_humanities,\\n    \\\"business_farming\\\": business_farming,\\n    \\\"sciences\\\": sciences,\\n    \\\"politics_govt_law\\\": politics_govt_law,\\n    \\\"law_enf_military_operator\\\": law_enf_military_operator,\\n    \\\"crime\\\": crime,\\n    \\\"event_record_other\\\": event_record_other,\\n    \\\"other_species\\\": other_species,\\n    \\\"sports\\\": sports,\\n}\";\n",
       "                var nbb_cells = Jupyter.notebook.get_cells();\n",
       "                for (var i = 0; i < nbb_cells.length; ++i) {\n",
       "                    if (nbb_cells[i].input_prompt_number == nbb_cell_id) {\n",
       "                        if (nbb_cells[i].get_text() == nbb_unformatted_code) {\n",
       "                             nbb_cells[i].set_text(nbb_formatted_code);\n",
       "                        }\n",
       "                        break;\n",
       "                    }\n",
       "                }\n",
       "            }, 500);\n",
       "            "
      ],
      "text/plain": [
       "<IPython.core.display.Javascript object>"
      ]
     },
     "metadata": {},
     "output_type": "display_data"
    }
   ],
   "source": [
    "# Combining separate lists into one dictionary\n",
    "known_for_dict = {\n",
    "    \"social\": social,\n",
    "    \"spiritual\": spiritual,\n",
    "    \"arts\": arts,\n",
    "    \"academia_humanities\": academia_humanities,\n",
    "    \"business_farming\": business_farming,\n",
    "    \"sciences\": sciences,\n",
    "    \"politics_govt_law\": politics_govt_law,\n",
    "    \"law_enf_military_operator\": law_enf_military_operator,\n",
    "    \"crime\": crime,\n",
    "    \"event_record_other\": event_record_other,\n",
    "    \"other_species\": other_species,\n",
    "    \"sports\": sports,\n",
    "}"
   ]
  },
  {
   "cell_type": "markdown",
   "id": "8c13ab67",
   "metadata": {},
   "source": [
    "#### Extracting Category from `info_2`"
   ]
  },
  {
   "cell_type": "code",
   "execution_count": 83,
   "id": "6a8bd298",
   "metadata": {},
   "outputs": [
    {
     "name": "stdout",
     "output_type": "stream",
     "text": [
      "CPU times: total: 49.2 s\n",
      "Wall time: 49.2 s\n"
     ]
    },
    {
     "data": {
      "text/html": [
       "<div>\n",
       "<style scoped>\n",
       "    .dataframe tbody tr th:only-of-type {\n",
       "        vertical-align: middle;\n",
       "    }\n",
       "\n",
       "    .dataframe tbody tr th {\n",
       "        vertical-align: top;\n",
       "    }\n",
       "\n",
       "    .dataframe thead th {\n",
       "        text-align: right;\n",
       "    }\n",
       "</style>\n",
       "<table border=\"1\" class=\"dataframe\">\n",
       "  <thead>\n",
       "    <tr style=\"text-align: right;\">\n",
       "      <th></th>\n",
       "      <th>day</th>\n",
       "      <th>name</th>\n",
       "      <th>info</th>\n",
       "      <th>link</th>\n",
       "      <th>num_references</th>\n",
       "      <th>year</th>\n",
       "      <th>month</th>\n",
       "      <th>info_parenth</th>\n",
       "      <th>info_1</th>\n",
       "      <th>info_2</th>\n",
       "      <th>info_3</th>\n",
       "      <th>info_4</th>\n",
       "      <th>info_5</th>\n",
       "      <th>info_6</th>\n",
       "      <th>info_7</th>\n",
       "      <th>info_8</th>\n",
       "      <th>info_9</th>\n",
       "      <th>info_10</th>\n",
       "      <th>info_11</th>\n",
       "      <th>age</th>\n",
       "      <th>cause_of_death</th>\n",
       "      <th>place_1</th>\n",
       "      <th>place_2</th>\n",
       "      <th>info_parenth_copy</th>\n",
       "      <th>log_num_references</th>\n",
       "      <th>sciences</th>\n",
       "      <th>social</th>\n",
       "      <th>spiritual</th>\n",
       "      <th>academia_humanities</th>\n",
       "      <th>business_farming</th>\n",
       "      <th>arts</th>\n",
       "      <th>sports</th>\n",
       "      <th>law_enf_military_operator</th>\n",
       "      <th>politics_govt_law</th>\n",
       "      <th>crime</th>\n",
       "      <th>event_record_other</th>\n",
       "      <th>other_species</th>\n",
       "      <th>num_categories</th>\n",
       "    </tr>\n",
       "  </thead>\n",
       "  <tbody>\n",
       "    <tr>\n",
       "      <th>57825</th>\n",
       "      <td>9</td>\n",
       "      <td>Patrick J. O'Donnell</td>\n",
       "      <td>, 68, Scottish academic.</td>\n",
       "      <td>https://en.wikipedia.org/wiki/Patrick_J._O%27Donnell</td>\n",
       "      <td>3</td>\n",
       "      <td>2016</td>\n",
       "      <td>April</td>\n",
       "      <td>None</td>\n",
       "      <td>None</td>\n",
       "      <td></td>\n",
       "      <td>None</td>\n",
       "      <td>None</td>\n",
       "      <td>None</td>\n",
       "      <td>None</td>\n",
       "      <td>None</td>\n",
       "      <td>None</td>\n",
       "      <td>None</td>\n",
       "      <td>None</td>\n",
       "      <td>None</td>\n",
       "      <td>68.0</td>\n",
       "      <td>None</td>\n",
       "      <td>Scotland</td>\n",
       "      <td>None</td>\n",
       "      <td>None</td>\n",
       "      <td>1.386294</td>\n",
       "      <td>0</td>\n",
       "      <td>0</td>\n",
       "      <td>0</td>\n",
       "      <td>1</td>\n",
       "      <td>0</td>\n",
       "      <td>0</td>\n",
       "      <td>0</td>\n",
       "      <td>0</td>\n",
       "      <td>0</td>\n",
       "      <td>0</td>\n",
       "      <td>0</td>\n",
       "      <td>0</td>\n",
       "      <td>1</td>\n",
       "    </tr>\n",
       "    <tr>\n",
       "      <th>40930</th>\n",
       "      <td>4</td>\n",
       "      <td>Tony Sweeney</td>\n",
       "      <td>, 81, Irish sports writer and historian, heart attack.</td>\n",
       "      <td>https://en.wikipedia.org/wiki/Tony_Sweeney</td>\n",
       "      <td>3</td>\n",
       "      <td>2012</td>\n",
       "      <td>December</td>\n",
       "      <td>None</td>\n",
       "      <td>None</td>\n",
       "      <td>sports</td>\n",
       "      <td>heart attack</td>\n",
       "      <td>None</td>\n",
       "      <td>None</td>\n",
       "      <td>None</td>\n",
       "      <td>None</td>\n",
       "      <td>None</td>\n",
       "      <td>None</td>\n",
       "      <td>None</td>\n",
       "      <td>None</td>\n",
       "      <td>81.0</td>\n",
       "      <td>None</td>\n",
       "      <td>Ireland</td>\n",
       "      <td>None</td>\n",
       "      <td>None</td>\n",
       "      <td>1.386294</td>\n",
       "      <td>0</td>\n",
       "      <td>0</td>\n",
       "      <td>0</td>\n",
       "      <td>1</td>\n",
       "      <td>0</td>\n",
       "      <td>1</td>\n",
       "      <td>0</td>\n",
       "      <td>0</td>\n",
       "      <td>0</td>\n",
       "      <td>0</td>\n",
       "      <td>0</td>\n",
       "      <td>0</td>\n",
       "      <td>2</td>\n",
       "    </tr>\n",
       "  </tbody>\n",
       "</table>\n",
       "</div>"
      ],
      "text/plain": [
       "      day                  name  \\\n",
       "57825   9  Patrick J. O'Donnell   \n",
       "40930   4          Tony Sweeney   \n",
       "\n",
       "                                                         info  \\\n",
       "57825                                , 68, Scottish academic.   \n",
       "40930  , 81, Irish sports writer and historian, heart attack.   \n",
       "\n",
       "                                                       link  num_references  \\\n",
       "57825  https://en.wikipedia.org/wiki/Patrick_J._O%27Donnell               3   \n",
       "40930            https://en.wikipedia.org/wiki/Tony_Sweeney               3   \n",
       "\n",
       "       year     month info_parenth info_1  info_2        info_3 info_4 info_5  \\\n",
       "57825  2016     April         None   None                  None   None   None   \n",
       "40930  2012  December         None   None  sports  heart attack   None   None   \n",
       "\n",
       "      info_6 info_7 info_8 info_9 info_10 info_11   age cause_of_death  \\\n",
       "57825   None   None   None   None    None    None  68.0           None   \n",
       "40930   None   None   None   None    None    None  81.0           None   \n",
       "\n",
       "        place_1 place_2 info_parenth_copy  log_num_references  sciences  \\\n",
       "57825  Scotland    None              None            1.386294         0   \n",
       "40930   Ireland    None              None            1.386294         0   \n",
       "\n",
       "       social  spiritual  academia_humanities  business_farming  arts  sports  \\\n",
       "57825       0          0                    1                 0     0       0   \n",
       "40930       0          0                    1                 0     1       0   \n",
       "\n",
       "       law_enf_military_operator  politics_govt_law  crime  \\\n",
       "57825                          0                  0      0   \n",
       "40930                          0                  0      0   \n",
       "\n",
       "       event_record_other  other_species  num_categories  \n",
       "57825                   0              0               1  \n",
       "40930                   0              0               2  "
      ]
     },
     "execution_count": 83,
     "metadata": {},
     "output_type": "execute_result"
    },
    {
     "data": {
      "application/javascript": [
       "\n",
       "            setTimeout(function() {\n",
       "                var nbb_cell_id = 83;\n",
       "                var nbb_unformatted_code = \"%%time\\n\\n# Dictionary version\\nsearch_dict = known_for_dict\\n\\n# Column to check\\ncolumn = 'info_2'\\n\\n# Dataframe\\ndataframe = df[column].notna()\\n\\n# For loop to find role in column and extract it as category\\nfor category, category_lst in search_dict.items():\\n    for role in category_lst:\\n        for index in dataframe.index:\\n            item = df.loc[index, column]\\n            if item:\\n                if role in item:\\n                    df.loc[index, category] = 1\\n                    df.loc[index, column] = item.replace(role, '').strip()\\n\\n# Updating num_categories\\ndf[\\\"num_categories\\\"] = df[known_for_dict.keys()].sum(axis=1)\\n\\n# Checking a sample of rows\\ndf[df['academia_humanities'] ==1].sample(2)\";\n",
       "                var nbb_formatted_code = \"%%time\\n\\n# Dictionary version\\nsearch_dict = known_for_dict\\n\\n# Column to check\\ncolumn = 'info_2'\\n\\n# Dataframe\\ndataframe = df[column].notna()\\n\\n# For loop to find role in column and extract it as category\\nfor category, category_lst in search_dict.items():\\n    for role in category_lst:\\n        for index in dataframe.index:\\n            item = df.loc[index, column]\\n            if item:\\n                if role in item:\\n                    df.loc[index, category] = 1\\n                    df.loc[index, column] = item.replace(role, '').strip()\\n\\n# Updating num_categories\\ndf[\\\"num_categories\\\"] = df[known_for_dict.keys()].sum(axis=1)\\n\\n# Checking a sample of rows\\ndf[df['academia_humanities'] ==1].sample(2)\";\n",
       "                var nbb_cells = Jupyter.notebook.get_cells();\n",
       "                for (var i = 0; i < nbb_cells.length; ++i) {\n",
       "                    if (nbb_cells[i].input_prompt_number == nbb_cell_id) {\n",
       "                        if (nbb_cells[i].get_text() == nbb_unformatted_code) {\n",
       "                             nbb_cells[i].set_text(nbb_formatted_code);\n",
       "                        }\n",
       "                        break;\n",
       "                    }\n",
       "                }\n",
       "            }, 500);\n",
       "            "
      ],
      "text/plain": [
       "<IPython.core.display.Javascript object>"
      ]
     },
     "metadata": {},
     "output_type": "display_data"
    }
   ],
   "source": [
    "%%time\n",
    "\n",
    "# Dictionary version\n",
    "search_dict = known_for_dict\n",
    "\n",
    "# Column to check\n",
    "column = 'info_2'\n",
    "\n",
    "# Dataframe\n",
    "dataframe = df[column].notna()\n",
    "\n",
    "# For loop to find role in column and extract it as category\n",
    "for category, category_lst in search_dict.items():\n",
    "    for role in category_lst:\n",
    "        for index in dataframe.index:\n",
    "            item = df.loc[index, column]\n",
    "            if item:\n",
    "                if role in item:\n",
    "                    df.loc[index, category] = 1\n",
    "                    df.loc[index, column] = item.replace(role, '').strip()\n",
    "\n",
    "# Updating num_categories\n",
    "df[\"num_categories\"] = df[known_for_dict.keys()].sum(axis=1)\n",
    "\n",
    "# Checking a sample of rows\n",
    "df[df['academia_humanities'] ==1].sample(2)"
   ]
  },
  {
   "cell_type": "markdown",
   "id": "892c63c3",
   "metadata": {},
   "source": [
    "#### Checking the Number of Rows without a First Category"
   ]
  },
  {
   "cell_type": "code",
   "execution_count": 84,
   "id": "37524c65",
   "metadata": {},
   "outputs": [
    {
     "name": "stdout",
     "output_type": "stream",
     "text": [
      "There are 46805 entries without any known_for category.\n"
     ]
    },
    {
     "data": {
      "application/javascript": [
       "\n",
       "            setTimeout(function() {\n",
       "                var nbb_cell_id = 84;\n",
       "                var nbb_unformatted_code = \"#### Checking the number of rows without a first category\\nprint(\\n    f'There are {len(df[df[\\\"num_categories\\\"]==0])} entries without any known_for category.'\\n)\";\n",
       "                var nbb_formatted_code = \"#### Checking the number of rows without a first category\\nprint(\\n    f'There are {len(df[df[\\\"num_categories\\\"]==0])} entries without any known_for category.'\\n)\";\n",
       "                var nbb_cells = Jupyter.notebook.get_cells();\n",
       "                for (var i = 0; i < nbb_cells.length; ++i) {\n",
       "                    if (nbb_cells[i].input_prompt_number == nbb_cell_id) {\n",
       "                        if (nbb_cells[i].get_text() == nbb_unformatted_code) {\n",
       "                             nbb_cells[i].set_text(nbb_formatted_code);\n",
       "                        }\n",
       "                        break;\n",
       "                    }\n",
       "                }\n",
       "            }, 500);\n",
       "            "
      ],
      "text/plain": [
       "<IPython.core.display.Javascript object>"
      ]
     },
     "metadata": {},
     "output_type": "display_data"
    }
   ],
   "source": [
    "#### Checking the number of rows without a first category\n",
    "print(\n",
    "    f'There are {len(df[df[\"num_categories\"]==0])} entries without any known_for category.'\n",
    ")"
   ]
  },
  {
   "cell_type": "markdown",
   "id": "9b86a2f1",
   "metadata": {},
   "source": [
    "#### Observations:\n",
    "- We will proceed to rebuild `known_for_dict` for the next iteration."
   ]
  },
  {
   "cell_type": "markdown",
   "id": "ec50cfea",
   "metadata": {},
   "source": [
    "#### Finding `known_for` Roles in `info_2`"
   ]
  },
  {
   "cell_type": "code",
   "execution_count": 85,
   "id": "c9acfa12",
   "metadata": {},
   "outputs": [
    {
     "data": {
      "application/javascript": [
       "\n",
       "            setTimeout(function() {\n",
       "                var nbb_cell_id = 85;\n",
       "                var nbb_unformatted_code = \"# Obtaining values for column and their counts\\nroles_list = df[\\\"info_2\\\"].value_counts(ascending=True).index.tolist()\";\n",
       "                var nbb_formatted_code = \"# Obtaining values for column and their counts\\nroles_list = df[\\\"info_2\\\"].value_counts(ascending=True).index.tolist()\";\n",
       "                var nbb_cells = Jupyter.notebook.get_cells();\n",
       "                for (var i = 0; i < nbb_cells.length; ++i) {\n",
       "                    if (nbb_cells[i].input_prompt_number == nbb_cell_id) {\n",
       "                        if (nbb_cells[i].get_text() == nbb_unformatted_code) {\n",
       "                             nbb_cells[i].set_text(nbb_formatted_code);\n",
       "                        }\n",
       "                        break;\n",
       "                    }\n",
       "                }\n",
       "            }, 500);\n",
       "            "
      ],
      "text/plain": [
       "<IPython.core.display.Javascript object>"
      ]
     },
     "metadata": {},
     "output_type": "display_data"
    }
   ],
   "source": [
    "# Obtaining values for column and their counts\n",
    "roles_list = df[\"info_2\"].value_counts(ascending=True).index.tolist()"
   ]
  },
  {
   "cell_type": "code",
   "execution_count": 86,
   "id": "6d09e0d7",
   "metadata": {},
   "outputs": [
    {
     "data": {
      "application/javascript": [
       "\n",
       "            setTimeout(function() {\n",
       "                var nbb_cell_id = 86;\n",
       "                var nbb_unformatted_code = \"# # Code to check each value\\n# roles_list.pop()\";\n",
       "                var nbb_formatted_code = \"# # Code to check each value\\n# roles_list.pop()\";\n",
       "                var nbb_cells = Jupyter.notebook.get_cells();\n",
       "                for (var i = 0; i < nbb_cells.length; ++i) {\n",
       "                    if (nbb_cells[i].input_prompt_number == nbb_cell_id) {\n",
       "                        if (nbb_cells[i].get_text() == nbb_unformatted_code) {\n",
       "                             nbb_cells[i].set_text(nbb_formatted_code);\n",
       "                        }\n",
       "                        break;\n",
       "                    }\n",
       "                }\n",
       "            }, 500);\n",
       "            "
      ],
      "text/plain": [
       "<IPython.core.display.Javascript object>"
      ]
     },
     "metadata": {},
     "output_type": "display_data"
    }
   ],
   "source": [
    "# # Code to check each value\n",
    "# roles_list.pop()"
   ]
  },
  {
   "cell_type": "code",
   "execution_count": 87,
   "id": "0a4d28e8",
   "metadata": {},
   "outputs": [
    {
     "data": {
      "application/javascript": [
       "\n",
       "            setTimeout(function() {\n",
       "                var nbb_cell_id = 87;\n",
       "                var nbb_unformatted_code = \"# # Create specific_roles_list for above popped value\\n# specific_roles_list = (\\n#     df.loc[\\n#         [index for index in df.index if \\\"mathematician\\\" in df.loc[index, \\\"info\\\"]],\\n#         \\\"info_2\\\",\\n#     ]\\n#     .value_counts()\\n#     .index.tolist()\\n# )\";\n",
       "                var nbb_formatted_code = \"# # Create specific_roles_list for above popped value\\n# specific_roles_list = (\\n#     df.loc[\\n#         [index for index in df.index if \\\"mathematician\\\" in df.loc[index, \\\"info\\\"]],\\n#         \\\"info_2\\\",\\n#     ]\\n#     .value_counts()\\n#     .index.tolist()\\n# )\";\n",
       "                var nbb_cells = Jupyter.notebook.get_cells();\n",
       "                for (var i = 0; i < nbb_cells.length; ++i) {\n",
       "                    if (nbb_cells[i].input_prompt_number == nbb_cell_id) {\n",
       "                        if (nbb_cells[i].get_text() == nbb_unformatted_code) {\n",
       "                             nbb_cells[i].set_text(nbb_formatted_code);\n",
       "                        }\n",
       "                        break;\n",
       "                    }\n",
       "                }\n",
       "            }, 500);\n",
       "            "
      ],
      "text/plain": [
       "<IPython.core.display.Javascript object>"
      ]
     },
     "metadata": {},
     "output_type": "display_data"
    }
   ],
   "source": [
    "# # Create specific_roles_list for above popped value\n",
    "# specific_roles_list = (\n",
    "#     df.loc[\n",
    "#         [index for index in df.index if \"mathematician\" in df.loc[index, \"info\"]],\n",
    "#         \"info_2\",\n",
    "#     ]\n",
    "#     .value_counts()\n",
    "#     .index.tolist()\n",
    "# )"
   ]
  },
  {
   "cell_type": "code",
   "execution_count": 88,
   "id": "4e29b30d",
   "metadata": {},
   "outputs": [
    {
     "data": {
      "application/javascript": [
       "\n",
       "            setTimeout(function() {\n",
       "                var nbb_cell_id = 88;\n",
       "                var nbb_unformatted_code = \"# # Code to check each specific value\\n# specific_roles_list.pop()\";\n",
       "                var nbb_formatted_code = \"# # Code to check each specific value\\n# specific_roles_list.pop()\";\n",
       "                var nbb_cells = Jupyter.notebook.get_cells();\n",
       "                for (var i = 0; i < nbb_cells.length; ++i) {\n",
       "                    if (nbb_cells[i].input_prompt_number == nbb_cell_id) {\n",
       "                        if (nbb_cells[i].get_text() == nbb_unformatted_code) {\n",
       "                             nbb_cells[i].set_text(nbb_formatted_code);\n",
       "                        }\n",
       "                        break;\n",
       "                    }\n",
       "                }\n",
       "            }, 500);\n",
       "            "
      ],
      "text/plain": [
       "<IPython.core.display.Javascript object>"
      ]
     },
     "metadata": {},
     "output_type": "display_data"
    }
   ],
   "source": [
    "# # Code to check each specific value\n",
    "# specific_roles_list.pop()"
   ]
  },
  {
   "cell_type": "code",
   "execution_count": 89,
   "id": "9ab3ae91",
   "metadata": {},
   "outputs": [
    {
     "data": {
      "application/javascript": [
       "\n",
       "            setTimeout(function() {\n",
       "                var nbb_cell_id = 89;\n",
       "                var nbb_unformatted_code = \"# # Example code to quick-screen values that may overlap categories\\n# df.loc[\\n#     [\\n#         index\\n#         for index in df.index\\n#         if \\\"mathematician and journal editor\\\" in df.loc[index, \\\"info\\\"]\\n#     ]\\n# ]\";\n",
       "                var nbb_formatted_code = \"# # Example code to quick-screen values that may overlap categories\\n# df.loc[\\n#     [\\n#         index\\n#         for index in df.index\\n#         if \\\"mathematician and journal editor\\\" in df.loc[index, \\\"info\\\"]\\n#     ]\\n# ]\";\n",
       "                var nbb_cells = Jupyter.notebook.get_cells();\n",
       "                for (var i = 0; i < nbb_cells.length; ++i) {\n",
       "                    if (nbb_cells[i].input_prompt_number == nbb_cell_id) {\n",
       "                        if (nbb_cells[i].get_text() == nbb_unformatted_code) {\n",
       "                             nbb_cells[i].set_text(nbb_formatted_code);\n",
       "                        }\n",
       "                        break;\n",
       "                    }\n",
       "                }\n",
       "            }, 500);\n",
       "            "
      ],
      "text/plain": [
       "<IPython.core.display.Javascript object>"
      ]
     },
     "metadata": {},
     "output_type": "display_data"
    }
   ],
   "source": [
    "# # Example code to quick-screen values that may overlap categories\n",
    "# df.loc[\n",
    "#     [\n",
    "#         index\n",
    "#         for index in df.index\n",
    "#         if \"mathematician and journal editor\" in df.loc[index, \"info\"]\n",
    "#     ]\n",
    "# ]"
   ]
  },
  {
   "cell_type": "code",
   "execution_count": 90,
   "id": "35052e7b",
   "metadata": {},
   "outputs": [
    {
     "data": {
      "application/javascript": [
       "\n",
       "            setTimeout(function() {\n",
       "                var nbb_cell_id = 90;\n",
       "                var nbb_unformatted_code = \"# # Example code to quick-screen values that may overlap categories\\n# df.loc[\\n#     [\\n#         index\\n#         for index in df.index\\n#         if \\\"outlaw country music singer songwriter\\\" in df.loc[index, \\\"info\\\"]\\n#     ]\\n# ]\";\n",
       "                var nbb_formatted_code = \"# # Example code to quick-screen values that may overlap categories\\n# df.loc[\\n#     [\\n#         index\\n#         for index in df.index\\n#         if \\\"outlaw country music singer songwriter\\\" in df.loc[index, \\\"info\\\"]\\n#     ]\\n# ]\";\n",
       "                var nbb_cells = Jupyter.notebook.get_cells();\n",
       "                for (var i = 0; i < nbb_cells.length; ++i) {\n",
       "                    if (nbb_cells[i].input_prompt_number == nbb_cell_id) {\n",
       "                        if (nbb_cells[i].get_text() == nbb_unformatted_code) {\n",
       "                             nbb_cells[i].set_text(nbb_formatted_code);\n",
       "                        }\n",
       "                        break;\n",
       "                    }\n",
       "                }\n",
       "            }, 500);\n",
       "            "
      ],
      "text/plain": [
       "<IPython.core.display.Javascript object>"
      ]
     },
     "metadata": {},
     "output_type": "display_data"
    }
   ],
   "source": [
    "# # Example code to quick-screen values that may overlap categories\n",
    "# df.loc[\n",
    "#     [\n",
    "#         index\n",
    "#         for index in df.index\n",
    "#         if \"outlaw country music singer songwriter\" in df.loc[index, \"info\"]\n",
    "#     ]\n",
    "# ]"
   ]
  },
  {
   "cell_type": "code",
   "execution_count": 91,
   "id": "df45b18a",
   "metadata": {},
   "outputs": [
    {
     "data": {
      "application/javascript": [
       "\n",
       "            setTimeout(function() {\n",
       "                var nbb_cell_id = 91;\n",
       "                var nbb_unformatted_code = \"# # Example code to quick-check a specific entry\\n# df[df[\\\"info_2\\\"] == \\\"mathematician of ancestry\\\"]\";\n",
       "                var nbb_formatted_code = \"# # Example code to quick-check a specific entry\\n# df[df[\\\"info_2\\\"] == \\\"mathematician of ancestry\\\"]\";\n",
       "                var nbb_cells = Jupyter.notebook.get_cells();\n",
       "                for (var i = 0; i < nbb_cells.length; ++i) {\n",
       "                    if (nbb_cells[i].input_prompt_number == nbb_cell_id) {\n",
       "                        if (nbb_cells[i].get_text() == nbb_unformatted_code) {\n",
       "                             nbb_cells[i].set_text(nbb_formatted_code);\n",
       "                        }\n",
       "                        break;\n",
       "                    }\n",
       "                }\n",
       "            }, 500);\n",
       "            "
      ],
      "text/plain": [
       "<IPython.core.display.Javascript object>"
      ]
     },
     "metadata": {},
     "output_type": "display_data"
    }
   ],
   "source": [
    "# # Example code to quick-check a specific entry\n",
    "# df[df[\"info_2\"] == \"mathematician of ancestry\"]"
   ]
  },
  {
   "cell_type": "markdown",
   "id": "a3061c35",
   "metadata": {},
   "source": [
    "#### Creating Lists for Each `known_for` Category"
   ]
  },
  {
   "cell_type": "code",
   "execution_count": 92,
   "id": "e3892809",
   "metadata": {},
   "outputs": [
    {
     "data": {
      "application/javascript": [
       "\n",
       "            setTimeout(function() {\n",
       "                var nbb_cell_id = 92;\n",
       "                var nbb_unformatted_code = \"# Creating lists for each category\\npolitics_govt_law = []\\n\\narts = []\\nsports = []\\nsciences = [\\n    \\\"mathematician of ancestry\\\",\\n    'mathematician and physicist known as \\\"The Voice of JPL\\\"',\\n    \\\"mathematician & cosmologist; co advocate of the Steady State theory\\\",\\n    \\\"mathematician at the University of Chicago\\\",\\n    \\\"mathematician and computer pioneer\\\",\\n    \\\"physicist and applied mathematician\\\",\\n    \\\"mathematician and computer scientist developed diehard tests\\\",\\n    \\\"mathematician and systems engineer\\\",\\n    \\\"mathematician  mathematics\\\",\\n    \\\"mathematician and nuclear scientist\\\",\\n    \\\"geophysicist and mathematician\\\",\\n    \\\"mathematician specialising in group theory\\\",\\n    \\\"mathematician and aerodynamicist\\\",\\n    \\\"mathematician and theoretical astronomer\\\",\\n    \\\"mathematician known for his contribution to graph theory\\\",\\n    \\\"mathematical physicist and mathematician\\\",\\n    \\\"and later mathematician\\\",\\n    \\\"mathematician and Doctor of Medicine\\\",\\n    \\\"civil engineer and mathematician\\\",\\n    \\\"mathematician and pioneering computer scientist\\\",\\n    \\\"statistician and mathematician\\\",\\n    \\\"theoretical physicist and mathematician\\\",\\n    \\\"born mathematician and\\\",\\n    \\\"mathematician and engineering\\\",\\n    \\\"engineer and mathematician\\\",\\n    \\\"mathematician and astronomer\\\",\\n    \\\"pure mathematician\\\",\\n    \\\"mathematician and computer programmer\\\",\\n    \\\"amateur mathematician\\\",\\n    \\\"scientist and mathematician\\\",\\n    \\\"mathematician and astrophysicist\\\",\\n    \\\"mathematician and futurist\\\",\\n    \\\"mathematician and scientist\\\",\\n    \\\"mathematician and theoretical computer scientist\\\",\\n    \\\"mathematician and inventor\\\",\\n    \\\"mathematician and rheologist\\\",\\n    \\\"research chemist and mathematician\\\",\\n    \\\"mathematician and journal editor\\\",\\n    \\\"mathematician and logician\\\",\\n    \\\"mathematician and oceanographer\\\",\\n    \\\"mathematician and engineer\\\",\\n    \\\"mathematician and mathematics\\\",\\n    \\\"mathematician and statistician\\\",\\n    \\\"astronomer and mathematician\\\",\\n    \\\"physicist and mathematician\\\",\\n    \\\"mathematician and physicist\\\",\\n    \\\"mathematician and computer scientist\\\",\\n    \\\"applied mathematician and\\\",\\n    \\\"applied mathematician\\\",\\n    \\\"mathematician and\\\",\\n    \\\"and mathematician\\\",\\n    \\\"mathematician\\\",\\n]\\n\\nbusiness_farming = []\\nacademia_humanities = []\\nlaw_enf_military_operator = [\\n    \\\"cryptanalyst\\\",\\n    \\\"radar engineer\\\",\\n]\\nspiritual = []\\nsocial = []\\ncrime = []\\nevent_record_other = []\\nother_species = []\";\n",
       "                var nbb_formatted_code = \"# Creating lists for each category\\npolitics_govt_law = []\\n\\narts = []\\nsports = []\\nsciences = [\\n    \\\"mathematician of ancestry\\\",\\n    'mathematician and physicist known as \\\"The Voice of JPL\\\"',\\n    \\\"mathematician & cosmologist; co advocate of the Steady State theory\\\",\\n    \\\"mathematician at the University of Chicago\\\",\\n    \\\"mathematician and computer pioneer\\\",\\n    \\\"physicist and applied mathematician\\\",\\n    \\\"mathematician and computer scientist developed diehard tests\\\",\\n    \\\"mathematician and systems engineer\\\",\\n    \\\"mathematician  mathematics\\\",\\n    \\\"mathematician and nuclear scientist\\\",\\n    \\\"geophysicist and mathematician\\\",\\n    \\\"mathematician specialising in group theory\\\",\\n    \\\"mathematician and aerodynamicist\\\",\\n    \\\"mathematician and theoretical astronomer\\\",\\n    \\\"mathematician known for his contribution to graph theory\\\",\\n    \\\"mathematical physicist and mathematician\\\",\\n    \\\"and later mathematician\\\",\\n    \\\"mathematician and Doctor of Medicine\\\",\\n    \\\"civil engineer and mathematician\\\",\\n    \\\"mathematician and pioneering computer scientist\\\",\\n    \\\"statistician and mathematician\\\",\\n    \\\"theoretical physicist and mathematician\\\",\\n    \\\"born mathematician and\\\",\\n    \\\"mathematician and engineering\\\",\\n    \\\"engineer and mathematician\\\",\\n    \\\"mathematician and astronomer\\\",\\n    \\\"pure mathematician\\\",\\n    \\\"mathematician and computer programmer\\\",\\n    \\\"amateur mathematician\\\",\\n    \\\"scientist and mathematician\\\",\\n    \\\"mathematician and astrophysicist\\\",\\n    \\\"mathematician and futurist\\\",\\n    \\\"mathematician and scientist\\\",\\n    \\\"mathematician and theoretical computer scientist\\\",\\n    \\\"mathematician and inventor\\\",\\n    \\\"mathematician and rheologist\\\",\\n    \\\"research chemist and mathematician\\\",\\n    \\\"mathematician and journal editor\\\",\\n    \\\"mathematician and logician\\\",\\n    \\\"mathematician and oceanographer\\\",\\n    \\\"mathematician and engineer\\\",\\n    \\\"mathematician and mathematics\\\",\\n    \\\"mathematician and statistician\\\",\\n    \\\"astronomer and mathematician\\\",\\n    \\\"physicist and mathematician\\\",\\n    \\\"mathematician and physicist\\\",\\n    \\\"mathematician and computer scientist\\\",\\n    \\\"applied mathematician and\\\",\\n    \\\"applied mathematician\\\",\\n    \\\"mathematician and\\\",\\n    \\\"and mathematician\\\",\\n    \\\"mathematician\\\",\\n]\\n\\nbusiness_farming = []\\nacademia_humanities = []\\nlaw_enf_military_operator = [\\n    \\\"cryptanalyst\\\",\\n    \\\"radar engineer\\\",\\n]\\nspiritual = []\\nsocial = []\\ncrime = []\\nevent_record_other = []\\nother_species = []\";\n",
       "                var nbb_cells = Jupyter.notebook.get_cells();\n",
       "                for (var i = 0; i < nbb_cells.length; ++i) {\n",
       "                    if (nbb_cells[i].input_prompt_number == nbb_cell_id) {\n",
       "                        if (nbb_cells[i].get_text() == nbb_unformatted_code) {\n",
       "                             nbb_cells[i].set_text(nbb_formatted_code);\n",
       "                        }\n",
       "                        break;\n",
       "                    }\n",
       "                }\n",
       "            }, 500);\n",
       "            "
      ],
      "text/plain": [
       "<IPython.core.display.Javascript object>"
      ]
     },
     "metadata": {},
     "output_type": "display_data"
    }
   ],
   "source": [
    "# Creating lists for each category\n",
    "politics_govt_law = []\n",
    "\n",
    "arts = []\n",
    "sports = []\n",
    "sciences = [\n",
    "    \"mathematician of ancestry\",\n",
    "    'mathematician and physicist known as \"The Voice of JPL\"',\n",
    "    \"mathematician & cosmologist; co advocate of the Steady State theory\",\n",
    "    \"mathematician at the University of Chicago\",\n",
    "    \"mathematician and computer pioneer\",\n",
    "    \"physicist and applied mathematician\",\n",
    "    \"mathematician and computer scientist developed diehard tests\",\n",
    "    \"mathematician and systems engineer\",\n",
    "    \"mathematician  mathematics\",\n",
    "    \"mathematician and nuclear scientist\",\n",
    "    \"geophysicist and mathematician\",\n",
    "    \"mathematician specialising in group theory\",\n",
    "    \"mathematician and aerodynamicist\",\n",
    "    \"mathematician and theoretical astronomer\",\n",
    "    \"mathematician known for his contribution to graph theory\",\n",
    "    \"mathematical physicist and mathematician\",\n",
    "    \"and later mathematician\",\n",
    "    \"mathematician and Doctor of Medicine\",\n",
    "    \"civil engineer and mathematician\",\n",
    "    \"mathematician and pioneering computer scientist\",\n",
    "    \"statistician and mathematician\",\n",
    "    \"theoretical physicist and mathematician\",\n",
    "    \"born mathematician and\",\n",
    "    \"mathematician and engineering\",\n",
    "    \"engineer and mathematician\",\n",
    "    \"mathematician and astronomer\",\n",
    "    \"pure mathematician\",\n",
    "    \"mathematician and computer programmer\",\n",
    "    \"amateur mathematician\",\n",
    "    \"scientist and mathematician\",\n",
    "    \"mathematician and astrophysicist\",\n",
    "    \"mathematician and futurist\",\n",
    "    \"mathematician and scientist\",\n",
    "    \"mathematician and theoretical computer scientist\",\n",
    "    \"mathematician and inventor\",\n",
    "    \"mathematician and rheologist\",\n",
    "    \"research chemist and mathematician\",\n",
    "    \"mathematician and journal editor\",\n",
    "    \"mathematician and logician\",\n",
    "    \"mathematician and oceanographer\",\n",
    "    \"mathematician and engineer\",\n",
    "    \"mathematician and mathematics\",\n",
    "    \"mathematician and statistician\",\n",
    "    \"astronomer and mathematician\",\n",
    "    \"physicist and mathematician\",\n",
    "    \"mathematician and physicist\",\n",
    "    \"mathematician and computer scientist\",\n",
    "    \"applied mathematician and\",\n",
    "    \"applied mathematician\",\n",
    "    \"mathematician and\",\n",
    "    \"and mathematician\",\n",
    "    \"mathematician\",\n",
    "]\n",
    "\n",
    "business_farming = []\n",
    "academia_humanities = []\n",
    "law_enf_military_operator = [\n",
    "    \"cryptanalyst\",\n",
    "    \"radar engineer\",\n",
    "]\n",
    "spiritual = []\n",
    "social = []\n",
    "crime = []\n",
    "event_record_other = []\n",
    "other_species = []"
   ]
  },
  {
   "cell_type": "markdown",
   "id": "7c22b052",
   "metadata": {},
   "source": [
    "#### Creating `known_for_dict` Dictionary of Category Keys and Specific Role Lists of Values"
   ]
  },
  {
   "cell_type": "code",
   "execution_count": 93,
   "id": "f9462f65",
   "metadata": {},
   "outputs": [
    {
     "data": {
      "application/javascript": [
       "\n",
       "            setTimeout(function() {\n",
       "                var nbb_cell_id = 93;\n",
       "                var nbb_unformatted_code = \"# Combining separate lists into one dictionary\\nknown_for_dict = {\\n    \\\"social\\\": social,\\n    \\\"spiritual\\\": spiritual,\\n    \\\"academia_humanities\\\": academia_humanities,\\n    \\\"business_farming\\\": business_farming,\\n    \\\"sciences\\\": sciences,\\n    \\\"politics_govt_law\\\": politics_govt_law,\\n    \\\"law_enf_military_operator\\\": law_enf_military_operator,\\n    \\\"crime\\\": crime,\\n    \\\"event_record_other\\\": event_record_other,\\n    \\\"other_species\\\": other_species,\\n    \\\"arts\\\": arts,\\n    \\\"sports\\\": sports,\\n}\";\n",
       "                var nbb_formatted_code = \"# Combining separate lists into one dictionary\\nknown_for_dict = {\\n    \\\"social\\\": social,\\n    \\\"spiritual\\\": spiritual,\\n    \\\"academia_humanities\\\": academia_humanities,\\n    \\\"business_farming\\\": business_farming,\\n    \\\"sciences\\\": sciences,\\n    \\\"politics_govt_law\\\": politics_govt_law,\\n    \\\"law_enf_military_operator\\\": law_enf_military_operator,\\n    \\\"crime\\\": crime,\\n    \\\"event_record_other\\\": event_record_other,\\n    \\\"other_species\\\": other_species,\\n    \\\"arts\\\": arts,\\n    \\\"sports\\\": sports,\\n}\";\n",
       "                var nbb_cells = Jupyter.notebook.get_cells();\n",
       "                for (var i = 0; i < nbb_cells.length; ++i) {\n",
       "                    if (nbb_cells[i].input_prompt_number == nbb_cell_id) {\n",
       "                        if (nbb_cells[i].get_text() == nbb_unformatted_code) {\n",
       "                             nbb_cells[i].set_text(nbb_formatted_code);\n",
       "                        }\n",
       "                        break;\n",
       "                    }\n",
       "                }\n",
       "            }, 500);\n",
       "            "
      ],
      "text/plain": [
       "<IPython.core.display.Javascript object>"
      ]
     },
     "metadata": {},
     "output_type": "display_data"
    }
   ],
   "source": [
    "# Combining separate lists into one dictionary\n",
    "known_for_dict = {\n",
    "    \"social\": social,\n",
    "    \"spiritual\": spiritual,\n",
    "    \"academia_humanities\": academia_humanities,\n",
    "    \"business_farming\": business_farming,\n",
    "    \"sciences\": sciences,\n",
    "    \"politics_govt_law\": politics_govt_law,\n",
    "    \"law_enf_military_operator\": law_enf_military_operator,\n",
    "    \"crime\": crime,\n",
    "    \"event_record_other\": event_record_other,\n",
    "    \"other_species\": other_species,\n",
    "    \"arts\": arts,\n",
    "    \"sports\": sports,\n",
    "}"
   ]
  },
  {
   "cell_type": "markdown",
   "id": "652c0a67",
   "metadata": {},
   "source": [
    "#### Extracting Category from `info_2`"
   ]
  },
  {
   "cell_type": "code",
   "execution_count": 94,
   "id": "051cf806",
   "metadata": {},
   "outputs": [
    {
     "name": "stdout",
     "output_type": "stream",
     "text": [
      "CPU times: total: 42.9 s\n",
      "Wall time: 43.1 s\n"
     ]
    },
    {
     "data": {
      "text/html": [
       "<div>\n",
       "<style scoped>\n",
       "    .dataframe tbody tr th:only-of-type {\n",
       "        vertical-align: middle;\n",
       "    }\n",
       "\n",
       "    .dataframe tbody tr th {\n",
       "        vertical-align: top;\n",
       "    }\n",
       "\n",
       "    .dataframe thead th {\n",
       "        text-align: right;\n",
       "    }\n",
       "</style>\n",
       "<table border=\"1\" class=\"dataframe\">\n",
       "  <thead>\n",
       "    <tr style=\"text-align: right;\">\n",
       "      <th></th>\n",
       "      <th>day</th>\n",
       "      <th>name</th>\n",
       "      <th>info</th>\n",
       "      <th>link</th>\n",
       "      <th>num_references</th>\n",
       "      <th>year</th>\n",
       "      <th>month</th>\n",
       "      <th>info_parenth</th>\n",
       "      <th>info_1</th>\n",
       "      <th>info_2</th>\n",
       "      <th>info_3</th>\n",
       "      <th>info_4</th>\n",
       "      <th>info_5</th>\n",
       "      <th>info_6</th>\n",
       "      <th>info_7</th>\n",
       "      <th>info_8</th>\n",
       "      <th>info_9</th>\n",
       "      <th>info_10</th>\n",
       "      <th>info_11</th>\n",
       "      <th>age</th>\n",
       "      <th>cause_of_death</th>\n",
       "      <th>place_1</th>\n",
       "      <th>place_2</th>\n",
       "      <th>info_parenth_copy</th>\n",
       "      <th>log_num_references</th>\n",
       "      <th>sciences</th>\n",
       "      <th>social</th>\n",
       "      <th>spiritual</th>\n",
       "      <th>academia_humanities</th>\n",
       "      <th>business_farming</th>\n",
       "      <th>arts</th>\n",
       "      <th>sports</th>\n",
       "      <th>law_enf_military_operator</th>\n",
       "      <th>politics_govt_law</th>\n",
       "      <th>crime</th>\n",
       "      <th>event_record_other</th>\n",
       "      <th>other_species</th>\n",
       "      <th>num_categories</th>\n",
       "    </tr>\n",
       "  </thead>\n",
       "  <tbody>\n",
       "    <tr>\n",
       "      <th>5278</th>\n",
       "      <td>5</td>\n",
       "      <td>Jürgen Neukirch</td>\n",
       "      <td>, 59, German mathematician.</td>\n",
       "      <td>https://en.wikipedia.org/wiki/J%C3%BCrgen_Neukirch</td>\n",
       "      <td>5</td>\n",
       "      <td>1997</td>\n",
       "      <td>February</td>\n",
       "      <td>None</td>\n",
       "      <td>None</td>\n",
       "      <td></td>\n",
       "      <td>None</td>\n",
       "      <td>None</td>\n",
       "      <td>None</td>\n",
       "      <td>None</td>\n",
       "      <td>None</td>\n",
       "      <td>None</td>\n",
       "      <td>None</td>\n",
       "      <td>None</td>\n",
       "      <td>None</td>\n",
       "      <td>59.0</td>\n",
       "      <td>None</td>\n",
       "      <td>Germany</td>\n",
       "      <td>None</td>\n",
       "      <td>None</td>\n",
       "      <td>1.791759</td>\n",
       "      <td>1</td>\n",
       "      <td>0</td>\n",
       "      <td>0</td>\n",
       "      <td>0</td>\n",
       "      <td>0</td>\n",
       "      <td>0</td>\n",
       "      <td>0</td>\n",
       "      <td>0</td>\n",
       "      <td>0</td>\n",
       "      <td>0</td>\n",
       "      <td>0</td>\n",
       "      <td>0</td>\n",
       "      <td>1</td>\n",
       "    </tr>\n",
       "    <tr>\n",
       "      <th>12159</th>\n",
       "      <td>20</td>\n",
       "      <td>Crispin Nash-Williams</td>\n",
       "      <td>, 68, British mathematician.</td>\n",
       "      <td>https://en.wikipedia.org/wiki/Crispin_Nash-Williams</td>\n",
       "      <td>3</td>\n",
       "      <td>2001</td>\n",
       "      <td>January</td>\n",
       "      <td>None</td>\n",
       "      <td>None</td>\n",
       "      <td></td>\n",
       "      <td>None</td>\n",
       "      <td>None</td>\n",
       "      <td>None</td>\n",
       "      <td>None</td>\n",
       "      <td>None</td>\n",
       "      <td>None</td>\n",
       "      <td>None</td>\n",
       "      <td>None</td>\n",
       "      <td>None</td>\n",
       "      <td>68.0</td>\n",
       "      <td>None</td>\n",
       "      <td>United Kingdom of Great Britain and Northern Ireland</td>\n",
       "      <td>None</td>\n",
       "      <td>None</td>\n",
       "      <td>1.386294</td>\n",
       "      <td>1</td>\n",
       "      <td>0</td>\n",
       "      <td>0</td>\n",
       "      <td>0</td>\n",
       "      <td>0</td>\n",
       "      <td>0</td>\n",
       "      <td>0</td>\n",
       "      <td>0</td>\n",
       "      <td>0</td>\n",
       "      <td>0</td>\n",
       "      <td>0</td>\n",
       "      <td>0</td>\n",
       "      <td>1</td>\n",
       "    </tr>\n",
       "  </tbody>\n",
       "</table>\n",
       "</div>"
      ],
      "text/plain": [
       "      day                   name                          info  \\\n",
       "5278    5        Jürgen Neukirch   , 59, German mathematician.   \n",
       "12159  20  Crispin Nash-Williams  , 68, British mathematician.   \n",
       "\n",
       "                                                      link  num_references  \\\n",
       "5278    https://en.wikipedia.org/wiki/J%C3%BCrgen_Neukirch               5   \n",
       "12159  https://en.wikipedia.org/wiki/Crispin_Nash-Williams               3   \n",
       "\n",
       "       year     month info_parenth info_1 info_2 info_3 info_4 info_5 info_6  \\\n",
       "5278   1997  February         None   None          None   None   None   None   \n",
       "12159  2001   January         None   None          None   None   None   None   \n",
       "\n",
       "      info_7 info_8 info_9 info_10 info_11   age cause_of_death  \\\n",
       "5278    None   None   None    None    None  59.0           None   \n",
       "12159   None   None   None    None    None  68.0           None   \n",
       "\n",
       "                                                    place_1 place_2  \\\n",
       "5278                                                Germany    None   \n",
       "12159  United Kingdom of Great Britain and Northern Ireland    None   \n",
       "\n",
       "      info_parenth_copy  log_num_references  sciences  social  spiritual  \\\n",
       "5278               None            1.791759         1       0          0   \n",
       "12159              None            1.386294         1       0          0   \n",
       "\n",
       "       academia_humanities  business_farming  arts  sports  \\\n",
       "5278                     0                 0     0       0   \n",
       "12159                    0                 0     0       0   \n",
       "\n",
       "       law_enf_military_operator  politics_govt_law  crime  \\\n",
       "5278                           0                  0      0   \n",
       "12159                          0                  0      0   \n",
       "\n",
       "       event_record_other  other_species  num_categories  \n",
       "5278                    0              0               1  \n",
       "12159                   0              0               1  "
      ]
     },
     "execution_count": 94,
     "metadata": {},
     "output_type": "execute_result"
    },
    {
     "data": {
      "application/javascript": [
       "\n",
       "            setTimeout(function() {\n",
       "                var nbb_cell_id = 94;\n",
       "                var nbb_unformatted_code = \"%%time\\n\\n# Dictionary version\\nsearch_dict = known_for_dict\\n\\n# Column to check\\ncolumn = 'info_2'\\n\\n# Dataframe\\ndataframe = df[column].notna()\\n\\n# For loop to find role in column and extract it as category\\nfor category, category_lst in search_dict.items():\\n    for role in category_lst:\\n        for index in dataframe.index:\\n            item = df.loc[index, column]\\n            if item:\\n                if role in item:\\n                    df.loc[index, category] = 1\\n                    df.loc[index, column] = item.replace(role, '').strip()\\n                    \\n# Updating num_categories\\ndf[\\\"num_categories\\\"] = df[known_for_dict.keys()].sum(axis=1)\\n\\n# Checking a sample of rows\\ndf[df['sciences'] ==1].sample(2)\";\n",
       "                var nbb_formatted_code = \"%%time\\n\\n# Dictionary version\\nsearch_dict = known_for_dict\\n\\n# Column to check\\ncolumn = 'info_2'\\n\\n# Dataframe\\ndataframe = df[column].notna()\\n\\n# For loop to find role in column and extract it as category\\nfor category, category_lst in search_dict.items():\\n    for role in category_lst:\\n        for index in dataframe.index:\\n            item = df.loc[index, column]\\n            if item:\\n                if role in item:\\n                    df.loc[index, category] = 1\\n                    df.loc[index, column] = item.replace(role, '').strip()\\n                    \\n# Updating num_categories\\ndf[\\\"num_categories\\\"] = df[known_for_dict.keys()].sum(axis=1)\\n\\n# Checking a sample of rows\\ndf[df['sciences'] ==1].sample(2)\";\n",
       "                var nbb_cells = Jupyter.notebook.get_cells();\n",
       "                for (var i = 0; i < nbb_cells.length; ++i) {\n",
       "                    if (nbb_cells[i].input_prompt_number == nbb_cell_id) {\n",
       "                        if (nbb_cells[i].get_text() == nbb_unformatted_code) {\n",
       "                             nbb_cells[i].set_text(nbb_formatted_code);\n",
       "                        }\n",
       "                        break;\n",
       "                    }\n",
       "                }\n",
       "            }, 500);\n",
       "            "
      ],
      "text/plain": [
       "<IPython.core.display.Javascript object>"
      ]
     },
     "metadata": {},
     "output_type": "display_data"
    }
   ],
   "source": [
    "%%time\n",
    "\n",
    "# Dictionary version\n",
    "search_dict = known_for_dict\n",
    "\n",
    "# Column to check\n",
    "column = 'info_2'\n",
    "\n",
    "# Dataframe\n",
    "dataframe = df[column].notna()\n",
    "\n",
    "# For loop to find role in column and extract it as category\n",
    "for category, category_lst in search_dict.items():\n",
    "    for role in category_lst:\n",
    "        for index in dataframe.index:\n",
    "            item = df.loc[index, column]\n",
    "            if item:\n",
    "                if role in item:\n",
    "                    df.loc[index, category] = 1\n",
    "                    df.loc[index, column] = item.replace(role, '').strip()\n",
    "                    \n",
    "# Updating num_categories\n",
    "df[\"num_categories\"] = df[known_for_dict.keys()].sum(axis=1)\n",
    "\n",
    "# Checking a sample of rows\n",
    "df[df['sciences'] ==1].sample(2)"
   ]
  },
  {
   "cell_type": "markdown",
   "id": "13c5833d",
   "metadata": {},
   "source": [
    "#### Checking the Number of Rows without a First Category"
   ]
  },
  {
   "cell_type": "code",
   "execution_count": 95,
   "id": "e304cf82",
   "metadata": {},
   "outputs": [
    {
     "name": "stdout",
     "output_type": "stream",
     "text": [
      "There are 46140 entries without any known_for category.\n"
     ]
    },
    {
     "data": {
      "application/javascript": [
       "\n",
       "            setTimeout(function() {\n",
       "                var nbb_cell_id = 95;\n",
       "                var nbb_unformatted_code = \"#### Checking the number of rows without a first category\\nprint(\\n    f'There are {len(df[df[\\\"num_categories\\\"]==0])} entries without any known_for category.'\\n)\";\n",
       "                var nbb_formatted_code = \"#### Checking the number of rows without a first category\\nprint(\\n    f'There are {len(df[df[\\\"num_categories\\\"]==0])} entries without any known_for category.'\\n)\";\n",
       "                var nbb_cells = Jupyter.notebook.get_cells();\n",
       "                for (var i = 0; i < nbb_cells.length; ++i) {\n",
       "                    if (nbb_cells[i].input_prompt_number == nbb_cell_id) {\n",
       "                        if (nbb_cells[i].get_text() == nbb_unformatted_code) {\n",
       "                             nbb_cells[i].set_text(nbb_formatted_code);\n",
       "                        }\n",
       "                        break;\n",
       "                    }\n",
       "                }\n",
       "            }, 500);\n",
       "            "
      ],
      "text/plain": [
       "<IPython.core.display.Javascript object>"
      ]
     },
     "metadata": {},
     "output_type": "display_data"
    }
   ],
   "source": [
    "#### Checking the number of rows without a first category\n",
    "print(\n",
    "    f'There are {len(df[df[\"num_categories\"]==0])} entries without any known_for category.'\n",
    ")"
   ]
  },
  {
   "cell_type": "markdown",
   "id": "81211d21",
   "metadata": {},
   "source": [
    "#### Observations:\n",
    "- We will proceed to rebuild `known_for_dict` for the next iteration."
   ]
  },
  {
   "cell_type": "markdown",
   "id": "d01a0320",
   "metadata": {},
   "source": [
    "#### Finding `known_for` Roles in `info_2`"
   ]
  },
  {
   "cell_type": "code",
   "execution_count": 96,
   "id": "3657e553",
   "metadata": {},
   "outputs": [
    {
     "data": {
      "application/javascript": [
       "\n",
       "            setTimeout(function() {\n",
       "                var nbb_cell_id = 96;\n",
       "                var nbb_unformatted_code = \"# Obtaining values for column and their counts\\nroles_list = df[\\\"info_2\\\"].value_counts(ascending=True).index.tolist()\";\n",
       "                var nbb_formatted_code = \"# Obtaining values for column and their counts\\nroles_list = df[\\\"info_2\\\"].value_counts(ascending=True).index.tolist()\";\n",
       "                var nbb_cells = Jupyter.notebook.get_cells();\n",
       "                for (var i = 0; i < nbb_cells.length; ++i) {\n",
       "                    if (nbb_cells[i].input_prompt_number == nbb_cell_id) {\n",
       "                        if (nbb_cells[i].get_text() == nbb_unformatted_code) {\n",
       "                             nbb_cells[i].set_text(nbb_formatted_code);\n",
       "                        }\n",
       "                        break;\n",
       "                    }\n",
       "                }\n",
       "            }, 500);\n",
       "            "
      ],
      "text/plain": [
       "<IPython.core.display.Javascript object>"
      ]
     },
     "metadata": {},
     "output_type": "display_data"
    }
   ],
   "source": [
    "# Obtaining values for column and their counts\n",
    "roles_list = df[\"info_2\"].value_counts(ascending=True).index.tolist()"
   ]
  },
  {
   "cell_type": "code",
   "execution_count": 97,
   "id": "0a0ef35b",
   "metadata": {},
   "outputs": [
    {
     "data": {
      "application/javascript": [
       "\n",
       "            setTimeout(function() {\n",
       "                var nbb_cell_id = 97;\n",
       "                var nbb_unformatted_code = \"# # Code to check each value\\n# roles_list.pop()\";\n",
       "                var nbb_formatted_code = \"# # Code to check each value\\n# roles_list.pop()\";\n",
       "                var nbb_cells = Jupyter.notebook.get_cells();\n",
       "                for (var i = 0; i < nbb_cells.length; ++i) {\n",
       "                    if (nbb_cells[i].input_prompt_number == nbb_cell_id) {\n",
       "                        if (nbb_cells[i].get_text() == nbb_unformatted_code) {\n",
       "                             nbb_cells[i].set_text(nbb_formatted_code);\n",
       "                        }\n",
       "                        break;\n",
       "                    }\n",
       "                }\n",
       "            }, 500);\n",
       "            "
      ],
      "text/plain": [
       "<IPython.core.display.Javascript object>"
      ]
     },
     "metadata": {},
     "output_type": "display_data"
    }
   ],
   "source": [
    "# # Code to check each value\n",
    "# roles_list.pop()"
   ]
  },
  {
   "cell_type": "code",
   "execution_count": 98,
   "id": "72bab4f9",
   "metadata": {},
   "outputs": [
    {
     "data": {
      "application/javascript": [
       "\n",
       "            setTimeout(function() {\n",
       "                var nbb_cell_id = 98;\n",
       "                var nbb_unformatted_code = \"# # Create specific_roles_list for above popped value\\n# specific_roles_list = (\\n#     df.loc[\\n#         [index for index in df.index if \\\"basketball player\\\" in df.loc[index, \\\"info\\\"]],\\n#         \\\"info_2\\\",\\n#     ]\\n#     .value_counts()\\n#     .index.tolist()\\n# )\";\n",
       "                var nbb_formatted_code = \"# # Create specific_roles_list for above popped value\\n# specific_roles_list = (\\n#     df.loc[\\n#         [index for index in df.index if \\\"basketball player\\\" in df.loc[index, \\\"info\\\"]],\\n#         \\\"info_2\\\",\\n#     ]\\n#     .value_counts()\\n#     .index.tolist()\\n# )\";\n",
       "                var nbb_cells = Jupyter.notebook.get_cells();\n",
       "                for (var i = 0; i < nbb_cells.length; ++i) {\n",
       "                    if (nbb_cells[i].input_prompt_number == nbb_cell_id) {\n",
       "                        if (nbb_cells[i].get_text() == nbb_unformatted_code) {\n",
       "                             nbb_cells[i].set_text(nbb_formatted_code);\n",
       "                        }\n",
       "                        break;\n",
       "                    }\n",
       "                }\n",
       "            }, 500);\n",
       "            "
      ],
      "text/plain": [
       "<IPython.core.display.Javascript object>"
      ]
     },
     "metadata": {},
     "output_type": "display_data"
    }
   ],
   "source": [
    "# # Create specific_roles_list for above popped value\n",
    "# specific_roles_list = (\n",
    "#     df.loc[\n",
    "#         [index for index in df.index if \"basketball player\" in df.loc[index, \"info\"]],\n",
    "#         \"info_2\",\n",
    "#     ]\n",
    "#     .value_counts()\n",
    "#     .index.tolist()\n",
    "# )"
   ]
  },
  {
   "cell_type": "code",
   "execution_count": 99,
   "id": "b704f82e",
   "metadata": {},
   "outputs": [
    {
     "data": {
      "application/javascript": [
       "\n",
       "            setTimeout(function() {\n",
       "                var nbb_cell_id = 99;\n",
       "                var nbb_unformatted_code = \"# # Code to check each specific value\\n# specific_roles_list.pop()\";\n",
       "                var nbb_formatted_code = \"# # Code to check each specific value\\n# specific_roles_list.pop()\";\n",
       "                var nbb_cells = Jupyter.notebook.get_cells();\n",
       "                for (var i = 0; i < nbb_cells.length; ++i) {\n",
       "                    if (nbb_cells[i].input_prompt_number == nbb_cell_id) {\n",
       "                        if (nbb_cells[i].get_text() == nbb_unformatted_code) {\n",
       "                             nbb_cells[i].set_text(nbb_formatted_code);\n",
       "                        }\n",
       "                        break;\n",
       "                    }\n",
       "                }\n",
       "            }, 500);\n",
       "            "
      ],
      "text/plain": [
       "<IPython.core.display.Javascript object>"
      ]
     },
     "metadata": {},
     "output_type": "display_data"
    }
   ],
   "source": [
    "# # Code to check each specific value\n",
    "# specific_roles_list.pop()"
   ]
  },
  {
   "cell_type": "code",
   "execution_count": 100,
   "id": "94931c84",
   "metadata": {},
   "outputs": [
    {
     "data": {
      "application/javascript": [
       "\n",
       "            setTimeout(function() {\n",
       "                var nbb_cell_id = 100;\n",
       "                var nbb_unformatted_code = \"# # Example code to quick-screen values that may overlap categories\\n# df.loc[\\n#     [\\n#         index\\n#         for index in df.index\\n#         if \\\"involved in Bob Knight controversy\\\" in df.loc[index, \\\"info\\\"]\\n#     ]\\n# ]\";\n",
       "                var nbb_formatted_code = \"# # Example code to quick-screen values that may overlap categories\\n# df.loc[\\n#     [\\n#         index\\n#         for index in df.index\\n#         if \\\"involved in Bob Knight controversy\\\" in df.loc[index, \\\"info\\\"]\\n#     ]\\n# ]\";\n",
       "                var nbb_cells = Jupyter.notebook.get_cells();\n",
       "                for (var i = 0; i < nbb_cells.length; ++i) {\n",
       "                    if (nbb_cells[i].input_prompt_number == nbb_cell_id) {\n",
       "                        if (nbb_cells[i].get_text() == nbb_unformatted_code) {\n",
       "                             nbb_cells[i].set_text(nbb_formatted_code);\n",
       "                        }\n",
       "                        break;\n",
       "                    }\n",
       "                }\n",
       "            }, 500);\n",
       "            "
      ],
      "text/plain": [
       "<IPython.core.display.Javascript object>"
      ]
     },
     "metadata": {},
     "output_type": "display_data"
    }
   ],
   "source": [
    "# # Example code to quick-screen values that may overlap categories\n",
    "# df.loc[\n",
    "#     [\n",
    "#         index\n",
    "#         for index in df.index\n",
    "#         if \"involved in Bob Knight controversy\" in df.loc[index, \"info\"]\n",
    "#     ]\n",
    "# ]"
   ]
  },
  {
   "cell_type": "code",
   "execution_count": 101,
   "id": "4afd7115",
   "metadata": {},
   "outputs": [
    {
     "data": {
      "application/javascript": [
       "\n",
       "            setTimeout(function() {\n",
       "                var nbb_cell_id = 101;\n",
       "                var nbb_unformatted_code = \"# # Example code to quick-screen values that may overlap categories\\n# df.loc[\\n#     [\\n#         index\\n#         for index in df.index\\n#         if \\\"outlaw country music singer songwriter\\\" in df.loc[index, \\\"info\\\"]\\n#     ]\\n# ]\";\n",
       "                var nbb_formatted_code = \"# # Example code to quick-screen values that may overlap categories\\n# df.loc[\\n#     [\\n#         index\\n#         for index in df.index\\n#         if \\\"outlaw country music singer songwriter\\\" in df.loc[index, \\\"info\\\"]\\n#     ]\\n# ]\";\n",
       "                var nbb_cells = Jupyter.notebook.get_cells();\n",
       "                for (var i = 0; i < nbb_cells.length; ++i) {\n",
       "                    if (nbb_cells[i].input_prompt_number == nbb_cell_id) {\n",
       "                        if (nbb_cells[i].get_text() == nbb_unformatted_code) {\n",
       "                             nbb_cells[i].set_text(nbb_formatted_code);\n",
       "                        }\n",
       "                        break;\n",
       "                    }\n",
       "                }\n",
       "            }, 500);\n",
       "            "
      ],
      "text/plain": [
       "<IPython.core.display.Javascript object>"
      ]
     },
     "metadata": {},
     "output_type": "display_data"
    }
   ],
   "source": [
    "# # Example code to quick-screen values that may overlap categories\n",
    "# df.loc[\n",
    "#     [\n",
    "#         index\n",
    "#         for index in df.index\n",
    "#         if \"outlaw country music singer songwriter\" in df.loc[index, \"info\"]\n",
    "#     ]\n",
    "# ]"
   ]
  },
  {
   "cell_type": "code",
   "execution_count": 102,
   "id": "a5605454",
   "metadata": {},
   "outputs": [
    {
     "data": {
      "application/javascript": [
       "\n",
       "            setTimeout(function() {\n",
       "                var nbb_cell_id = 102;\n",
       "                var nbb_unformatted_code = \"# # Example code to quick-check a specific entry\\n# df[df[\\\"info_2\\\"] == \\\"basketball player involved in Bob Knight controversy\\\"]\";\n",
       "                var nbb_formatted_code = \"# # Example code to quick-check a specific entry\\n# df[df[\\\"info_2\\\"] == \\\"basketball player involved in Bob Knight controversy\\\"]\";\n",
       "                var nbb_cells = Jupyter.notebook.get_cells();\n",
       "                for (var i = 0; i < nbb_cells.length; ++i) {\n",
       "                    if (nbb_cells[i].input_prompt_number == nbb_cell_id) {\n",
       "                        if (nbb_cells[i].get_text() == nbb_unformatted_code) {\n",
       "                             nbb_cells[i].set_text(nbb_formatted_code);\n",
       "                        }\n",
       "                        break;\n",
       "                    }\n",
       "                }\n",
       "            }, 500);\n",
       "            "
      ],
      "text/plain": [
       "<IPython.core.display.Javascript object>"
      ]
     },
     "metadata": {},
     "output_type": "display_data"
    }
   ],
   "source": [
    "# # Example code to quick-check a specific entry\n",
    "# df[df[\"info_2\"] == \"basketball player involved in Bob Knight controversy\"]"
   ]
  },
  {
   "cell_type": "markdown",
   "id": "eed0360e",
   "metadata": {},
   "source": [
    "#### Creating Lists for Each `known_for` Category"
   ]
  },
  {
   "cell_type": "code",
   "execution_count": 103,
   "id": "78f016fa",
   "metadata": {},
   "outputs": [
    {
     "data": {
      "application/javascript": [
       "\n",
       "            setTimeout(function() {\n",
       "                var nbb_cell_id = 103;\n",
       "                var nbb_unformatted_code = \"# Creating lists for each category\\npolitics_govt_law = []\\n\\narts = []\\nsports = [\\n    \\\"Hall of Fame Olympic basketball player and coach\\\",\\n    \\\"baseball and basketball player\\\",\\n    \\\"college baseball and basketball player and\\\",\\n    \\\"beach volleyball and basketball player\\\",\\n    \\\"NBA basketball player\\\",\\n    \\\"basketball player for Arabian Al Ittihad team\\\",\\n    \\\"basketball player of Seton Hall\\\",\\n    \\\"Olympic bronze medal winning basketball player\\\",\\n    \\\"All Star basketball player and coach\\\",\\n    \\\"basketball player and second highest scorer in Iowa State University history\\\",\\n    \\\"basketball player with the Boston Celtics and North Carolina State University\\\",\\n    \\\"Atlanta Hawks basketball player\\\",\\n    \\\"basketball player and former member of the National Basketball Team\\\",\\n    \\\"NBA and Ohio State University basketball player\\\",\\n    \\\"professional basketball player and sports\\\",\\n    \\\"Spaniard basketball player\\\",\\n    \\\"basketball player and Olympic athlete\\\",\\n    \\\"All basketball player for the Oklahoma Sooners and the AAU Phillips ers\\\",\\n    \\\"track athlete and basketball player\\\",\\n    \\\"women basketball player\\\",\\n    \\\"water polo and basketball player and coach\\\",\\n    \\\"basketball player and college coach\\\",\\n    \\\"basketball player and professional wrestler\\\",\\n    \\\"track and field athlete and basketball player\\\",\\n    \\\"Olympic basketball player and contributor\\\",\\n    \\\"basketball player and tennis coach\\\",\\n    \\\"softball and basketball player\\\",\\n    \\\"basketball player and athlete\\\",\\n    \\\"and wheelchair basketball player\\\",\\n    \\\"basketball player and Hall of Fame coach\\\",\\n    \\\"college basketball player and head coach\\\",\\n    \\\"Olympic champion basketball player\\\",\\n    \\\"gold medal winning Olympic basketball player\\\",\\n    \\\"Collegiate Hall of Fame basketball player\\\",\\n    \\\"Olympic silver medal winning basketball player\\\",\\n    \\\"Olympic gold medallist basketball player\\\",\\n    \\\"Olympic basketball player and coach\\\",\\n    \\\"football and basketball player and coach\\\",\\n    \\\"wheelchair basketball player\\\",\\n    \\\"Olympic gold medal winning basketball player\\\",\\n    \\\"college basketball player and coach\\\",\\n    \\\"Hall of Fame basketball player and coach\\\",\\n    \\\"Hall of Fame basketball player and\\\",\\n    \\\"Hall of Fame basketball player\\\",\\n    \\\"Olympic basketball player\\\",\\n    \\\"and basketball player and coach\\\",\\n    \\\"basketball player and coach\\\",\\n    \\\"college basketball player for the University of\\\",\\n    \\\"and college basketball player\\\",\\n    \\\"college basketball player\\\",\\n    \\\"professional basketball player\\\",\\n    \\\"basketball player and\\\",\\n    \\\"and basketball player\\\",\\n    \\\"basketball player\\\",\\n]\\nsciences = []\\n\\nbusiness_farming = []\\nacademia_humanities = []\\nlaw_enf_military_operator = []\\nspiritual = []\\nsocial = []\\ncrime = [\\\"involved in point shaving scandal\\\"]\\nevent_record_other = [\\n    \\\"involved in Bob Knight controversy\\\",\\n]\\nother_species = []\";\n",
       "                var nbb_formatted_code = \"# Creating lists for each category\\npolitics_govt_law = []\\n\\narts = []\\nsports = [\\n    \\\"Hall of Fame Olympic basketball player and coach\\\",\\n    \\\"baseball and basketball player\\\",\\n    \\\"college baseball and basketball player and\\\",\\n    \\\"beach volleyball and basketball player\\\",\\n    \\\"NBA basketball player\\\",\\n    \\\"basketball player for Arabian Al Ittihad team\\\",\\n    \\\"basketball player of Seton Hall\\\",\\n    \\\"Olympic bronze medal winning basketball player\\\",\\n    \\\"All Star basketball player and coach\\\",\\n    \\\"basketball player and second highest scorer in Iowa State University history\\\",\\n    \\\"basketball player with the Boston Celtics and North Carolina State University\\\",\\n    \\\"Atlanta Hawks basketball player\\\",\\n    \\\"basketball player and former member of the National Basketball Team\\\",\\n    \\\"NBA and Ohio State University basketball player\\\",\\n    \\\"professional basketball player and sports\\\",\\n    \\\"Spaniard basketball player\\\",\\n    \\\"basketball player and Olympic athlete\\\",\\n    \\\"All basketball player for the Oklahoma Sooners and the AAU Phillips ers\\\",\\n    \\\"track athlete and basketball player\\\",\\n    \\\"women basketball player\\\",\\n    \\\"water polo and basketball player and coach\\\",\\n    \\\"basketball player and college coach\\\",\\n    \\\"basketball player and professional wrestler\\\",\\n    \\\"track and field athlete and basketball player\\\",\\n    \\\"Olympic basketball player and contributor\\\",\\n    \\\"basketball player and tennis coach\\\",\\n    \\\"softball and basketball player\\\",\\n    \\\"basketball player and athlete\\\",\\n    \\\"and wheelchair basketball player\\\",\\n    \\\"basketball player and Hall of Fame coach\\\",\\n    \\\"college basketball player and head coach\\\",\\n    \\\"Olympic champion basketball player\\\",\\n    \\\"gold medal winning Olympic basketball player\\\",\\n    \\\"Collegiate Hall of Fame basketball player\\\",\\n    \\\"Olympic silver medal winning basketball player\\\",\\n    \\\"Olympic gold medallist basketball player\\\",\\n    \\\"Olympic basketball player and coach\\\",\\n    \\\"football and basketball player and coach\\\",\\n    \\\"wheelchair basketball player\\\",\\n    \\\"Olympic gold medal winning basketball player\\\",\\n    \\\"college basketball player and coach\\\",\\n    \\\"Hall of Fame basketball player and coach\\\",\\n    \\\"Hall of Fame basketball player and\\\",\\n    \\\"Hall of Fame basketball player\\\",\\n    \\\"Olympic basketball player\\\",\\n    \\\"and basketball player and coach\\\",\\n    \\\"basketball player and coach\\\",\\n    \\\"college basketball player for the University of\\\",\\n    \\\"and college basketball player\\\",\\n    \\\"college basketball player\\\",\\n    \\\"professional basketball player\\\",\\n    \\\"basketball player and\\\",\\n    \\\"and basketball player\\\",\\n    \\\"basketball player\\\",\\n]\\nsciences = []\\n\\nbusiness_farming = []\\nacademia_humanities = []\\nlaw_enf_military_operator = []\\nspiritual = []\\nsocial = []\\ncrime = [\\\"involved in point shaving scandal\\\"]\\nevent_record_other = [\\n    \\\"involved in Bob Knight controversy\\\",\\n]\\nother_species = []\";\n",
       "                var nbb_cells = Jupyter.notebook.get_cells();\n",
       "                for (var i = 0; i < nbb_cells.length; ++i) {\n",
       "                    if (nbb_cells[i].input_prompt_number == nbb_cell_id) {\n",
       "                        if (nbb_cells[i].get_text() == nbb_unformatted_code) {\n",
       "                             nbb_cells[i].set_text(nbb_formatted_code);\n",
       "                        }\n",
       "                        break;\n",
       "                    }\n",
       "                }\n",
       "            }, 500);\n",
       "            "
      ],
      "text/plain": [
       "<IPython.core.display.Javascript object>"
      ]
     },
     "metadata": {},
     "output_type": "display_data"
    }
   ],
   "source": [
    "# Creating lists for each category\n",
    "politics_govt_law = []\n",
    "\n",
    "arts = []\n",
    "sports = [\n",
    "    \"Hall of Fame Olympic basketball player and coach\",\n",
    "    \"baseball and basketball player\",\n",
    "    \"college baseball and basketball player and\",\n",
    "    \"beach volleyball and basketball player\",\n",
    "    \"NBA basketball player\",\n",
    "    \"basketball player for Arabian Al Ittihad team\",\n",
    "    \"basketball player of Seton Hall\",\n",
    "    \"Olympic bronze medal winning basketball player\",\n",
    "    \"All Star basketball player and coach\",\n",
    "    \"basketball player and second highest scorer in Iowa State University history\",\n",
    "    \"basketball player with the Boston Celtics and North Carolina State University\",\n",
    "    \"Atlanta Hawks basketball player\",\n",
    "    \"basketball player and former member of the National Basketball Team\",\n",
    "    \"NBA and Ohio State University basketball player\",\n",
    "    \"professional basketball player and sports\",\n",
    "    \"Spaniard basketball player\",\n",
    "    \"basketball player and Olympic athlete\",\n",
    "    \"All basketball player for the Oklahoma Sooners and the AAU Phillips ers\",\n",
    "    \"track athlete and basketball player\",\n",
    "    \"women basketball player\",\n",
    "    \"water polo and basketball player and coach\",\n",
    "    \"basketball player and college coach\",\n",
    "    \"basketball player and professional wrestler\",\n",
    "    \"track and field athlete and basketball player\",\n",
    "    \"Olympic basketball player and contributor\",\n",
    "    \"basketball player and tennis coach\",\n",
    "    \"softball and basketball player\",\n",
    "    \"basketball player and athlete\",\n",
    "    \"and wheelchair basketball player\",\n",
    "    \"basketball player and Hall of Fame coach\",\n",
    "    \"college basketball player and head coach\",\n",
    "    \"Olympic champion basketball player\",\n",
    "    \"gold medal winning Olympic basketball player\",\n",
    "    \"Collegiate Hall of Fame basketball player\",\n",
    "    \"Olympic silver medal winning basketball player\",\n",
    "    \"Olympic gold medallist basketball player\",\n",
    "    \"Olympic basketball player and coach\",\n",
    "    \"football and basketball player and coach\",\n",
    "    \"wheelchair basketball player\",\n",
    "    \"Olympic gold medal winning basketball player\",\n",
    "    \"college basketball player and coach\",\n",
    "    \"Hall of Fame basketball player and coach\",\n",
    "    \"Hall of Fame basketball player and\",\n",
    "    \"Hall of Fame basketball player\",\n",
    "    \"Olympic basketball player\",\n",
    "    \"and basketball player and coach\",\n",
    "    \"basketball player and coach\",\n",
    "    \"college basketball player for the University of\",\n",
    "    \"and college basketball player\",\n",
    "    \"college basketball player\",\n",
    "    \"professional basketball player\",\n",
    "    \"basketball player and\",\n",
    "    \"and basketball player\",\n",
    "    \"basketball player\",\n",
    "]\n",
    "sciences = []\n",
    "\n",
    "business_farming = []\n",
    "academia_humanities = []\n",
    "law_enf_military_operator = []\n",
    "spiritual = []\n",
    "social = []\n",
    "crime = [\"involved in point shaving scandal\"]\n",
    "event_record_other = [\n",
    "    \"involved in Bob Knight controversy\",\n",
    "]\n",
    "other_species = []"
   ]
  },
  {
   "cell_type": "markdown",
   "id": "63738dcb",
   "metadata": {},
   "source": [
    "#### Creating `known_for_dict` Dictionary of Category Keys and Specific Role Lists of Values"
   ]
  },
  {
   "cell_type": "code",
   "execution_count": 104,
   "id": "7b946eda",
   "metadata": {},
   "outputs": [
    {
     "data": {
      "application/javascript": [
       "\n",
       "            setTimeout(function() {\n",
       "                var nbb_cell_id = 104;\n",
       "                var nbb_unformatted_code = \"# Combining separate lists into one dictionary\\nknown_for_dict = {\\n    \\\"social\\\": social,\\n    \\\"spiritual\\\": spiritual,\\n    \\\"academia_humanities\\\": academia_humanities,\\n    \\\"business_farming\\\": business_farming,\\n    \\\"sciences\\\": sciences,\\n    \\\"politics_govt_law\\\": politics_govt_law,\\n    \\\"law_enf_military_operator\\\": law_enf_military_operator,\\n    \\\"crime\\\": crime,\\n    \\\"event_record_other\\\": event_record_other,\\n    \\\"other_species\\\": other_species,\\n    \\\"arts\\\": arts,\\n    \\\"sports\\\": sports,\\n}\";\n",
       "                var nbb_formatted_code = \"# Combining separate lists into one dictionary\\nknown_for_dict = {\\n    \\\"social\\\": social,\\n    \\\"spiritual\\\": spiritual,\\n    \\\"academia_humanities\\\": academia_humanities,\\n    \\\"business_farming\\\": business_farming,\\n    \\\"sciences\\\": sciences,\\n    \\\"politics_govt_law\\\": politics_govt_law,\\n    \\\"law_enf_military_operator\\\": law_enf_military_operator,\\n    \\\"crime\\\": crime,\\n    \\\"event_record_other\\\": event_record_other,\\n    \\\"other_species\\\": other_species,\\n    \\\"arts\\\": arts,\\n    \\\"sports\\\": sports,\\n}\";\n",
       "                var nbb_cells = Jupyter.notebook.get_cells();\n",
       "                for (var i = 0; i < nbb_cells.length; ++i) {\n",
       "                    if (nbb_cells[i].input_prompt_number == nbb_cell_id) {\n",
       "                        if (nbb_cells[i].get_text() == nbb_unformatted_code) {\n",
       "                             nbb_cells[i].set_text(nbb_formatted_code);\n",
       "                        }\n",
       "                        break;\n",
       "                    }\n",
       "                }\n",
       "            }, 500);\n",
       "            "
      ],
      "text/plain": [
       "<IPython.core.display.Javascript object>"
      ]
     },
     "metadata": {},
     "output_type": "display_data"
    }
   ],
   "source": [
    "# Combining separate lists into one dictionary\n",
    "known_for_dict = {\n",
    "    \"social\": social,\n",
    "    \"spiritual\": spiritual,\n",
    "    \"academia_humanities\": academia_humanities,\n",
    "    \"business_farming\": business_farming,\n",
    "    \"sciences\": sciences,\n",
    "    \"politics_govt_law\": politics_govt_law,\n",
    "    \"law_enf_military_operator\": law_enf_military_operator,\n",
    "    \"crime\": crime,\n",
    "    \"event_record_other\": event_record_other,\n",
    "    \"other_species\": other_species,\n",
    "    \"arts\": arts,\n",
    "    \"sports\": sports,\n",
    "}"
   ]
  },
  {
   "cell_type": "markdown",
   "id": "88f2fd3d",
   "metadata": {},
   "source": [
    "#### Extracting Category from `info_2`"
   ]
  },
  {
   "cell_type": "code",
   "execution_count": 105,
   "id": "1f161366",
   "metadata": {},
   "outputs": [
    {
     "name": "stdout",
     "output_type": "stream",
     "text": [
      "CPU times: total: 38.4 s\n",
      "Wall time: 38.4 s\n"
     ]
    },
    {
     "data": {
      "text/html": [
       "<div>\n",
       "<style scoped>\n",
       "    .dataframe tbody tr th:only-of-type {\n",
       "        vertical-align: middle;\n",
       "    }\n",
       "\n",
       "    .dataframe tbody tr th {\n",
       "        vertical-align: top;\n",
       "    }\n",
       "\n",
       "    .dataframe thead th {\n",
       "        text-align: right;\n",
       "    }\n",
       "</style>\n",
       "<table border=\"1\" class=\"dataframe\">\n",
       "  <thead>\n",
       "    <tr style=\"text-align: right;\">\n",
       "      <th></th>\n",
       "      <th>day</th>\n",
       "      <th>name</th>\n",
       "      <th>info</th>\n",
       "      <th>link</th>\n",
       "      <th>num_references</th>\n",
       "      <th>year</th>\n",
       "      <th>month</th>\n",
       "      <th>info_parenth</th>\n",
       "      <th>info_1</th>\n",
       "      <th>info_2</th>\n",
       "      <th>info_3</th>\n",
       "      <th>info_4</th>\n",
       "      <th>info_5</th>\n",
       "      <th>info_6</th>\n",
       "      <th>info_7</th>\n",
       "      <th>info_8</th>\n",
       "      <th>info_9</th>\n",
       "      <th>info_10</th>\n",
       "      <th>info_11</th>\n",
       "      <th>age</th>\n",
       "      <th>cause_of_death</th>\n",
       "      <th>place_1</th>\n",
       "      <th>place_2</th>\n",
       "      <th>info_parenth_copy</th>\n",
       "      <th>log_num_references</th>\n",
       "      <th>sciences</th>\n",
       "      <th>social</th>\n",
       "      <th>spiritual</th>\n",
       "      <th>academia_humanities</th>\n",
       "      <th>business_farming</th>\n",
       "      <th>arts</th>\n",
       "      <th>sports</th>\n",
       "      <th>law_enf_military_operator</th>\n",
       "      <th>politics_govt_law</th>\n",
       "      <th>crime</th>\n",
       "      <th>event_record_other</th>\n",
       "      <th>other_species</th>\n",
       "      <th>num_categories</th>\n",
       "    </tr>\n",
       "  </thead>\n",
       "  <tbody>\n",
       "    <tr>\n",
       "      <th>79351</th>\n",
       "      <td>14</td>\n",
       "      <td>Jimmy Conway</td>\n",
       "      <td>, 73, Irish footballer .</td>\n",
       "      <td>https://en.wikipedia.org/wiki/Jimmy_Conway_(footballer)</td>\n",
       "      <td>4</td>\n",
       "      <td>2020</td>\n",
       "      <td>February</td>\n",
       "      <td>Fulham, Portland Timbers, national team</td>\n",
       "      <td>None</td>\n",
       "      <td></td>\n",
       "      <td>None</td>\n",
       "      <td>None</td>\n",
       "      <td>None</td>\n",
       "      <td>None</td>\n",
       "      <td>None</td>\n",
       "      <td>None</td>\n",
       "      <td>None</td>\n",
       "      <td>None</td>\n",
       "      <td>None</td>\n",
       "      <td>73.0</td>\n",
       "      <td>None</td>\n",
       "      <td>Ireland</td>\n",
       "      <td>None</td>\n",
       "      <td>Fulham, Portland Timbers, national team</td>\n",
       "      <td>1.609438</td>\n",
       "      <td>0</td>\n",
       "      <td>0</td>\n",
       "      <td>0</td>\n",
       "      <td>0</td>\n",
       "      <td>0</td>\n",
       "      <td>0</td>\n",
       "      <td>1</td>\n",
       "      <td>0</td>\n",
       "      <td>0</td>\n",
       "      <td>0</td>\n",
       "      <td>0</td>\n",
       "      <td>0</td>\n",
       "      <td>1</td>\n",
       "    </tr>\n",
       "    <tr>\n",
       "      <th>25475</th>\n",
       "      <td>25</td>\n",
       "      <td>Sonny Grandelius</td>\n",
       "      <td>, 79, American football player and coach.</td>\n",
       "      <td>https://en.wikipedia.org/wiki/Sonny_Grandelius</td>\n",
       "      <td>16</td>\n",
       "      <td>2008</td>\n",
       "      <td>April</td>\n",
       "      <td>None</td>\n",
       "      <td>None</td>\n",
       "      <td></td>\n",
       "      <td>None</td>\n",
       "      <td>None</td>\n",
       "      <td>None</td>\n",
       "      <td>None</td>\n",
       "      <td>None</td>\n",
       "      <td>None</td>\n",
       "      <td>None</td>\n",
       "      <td>None</td>\n",
       "      <td>None</td>\n",
       "      <td>79.0</td>\n",
       "      <td>None</td>\n",
       "      <td>United States of America</td>\n",
       "      <td>None</td>\n",
       "      <td>None</td>\n",
       "      <td>2.833213</td>\n",
       "      <td>0</td>\n",
       "      <td>0</td>\n",
       "      <td>0</td>\n",
       "      <td>0</td>\n",
       "      <td>0</td>\n",
       "      <td>0</td>\n",
       "      <td>1</td>\n",
       "      <td>0</td>\n",
       "      <td>0</td>\n",
       "      <td>0</td>\n",
       "      <td>0</td>\n",
       "      <td>0</td>\n",
       "      <td>1</td>\n",
       "    </tr>\n",
       "  </tbody>\n",
       "</table>\n",
       "</div>"
      ],
      "text/plain": [
       "      day              name                                       info  \\\n",
       "79351  14      Jimmy Conway                   , 73, Irish footballer .   \n",
       "25475  25  Sonny Grandelius  , 79, American football player and coach.   \n",
       "\n",
       "                                                          link  \\\n",
       "79351  https://en.wikipedia.org/wiki/Jimmy_Conway_(footballer)   \n",
       "25475           https://en.wikipedia.org/wiki/Sonny_Grandelius   \n",
       "\n",
       "       num_references  year     month  \\\n",
       "79351               4  2020  February   \n",
       "25475              16  2008     April   \n",
       "\n",
       "                                  info_parenth info_1 info_2 info_3 info_4  \\\n",
       "79351  Fulham, Portland Timbers, national team   None          None   None   \n",
       "25475                                     None   None          None   None   \n",
       "\n",
       "      info_5 info_6 info_7 info_8 info_9 info_10 info_11   age cause_of_death  \\\n",
       "79351   None   None   None   None   None    None    None  73.0           None   \n",
       "25475   None   None   None   None   None    None    None  79.0           None   \n",
       "\n",
       "                        place_1 place_2  \\\n",
       "79351                   Ireland    None   \n",
       "25475  United States of America    None   \n",
       "\n",
       "                             info_parenth_copy  log_num_references  sciences  \\\n",
       "79351  Fulham, Portland Timbers, national team            1.609438         0   \n",
       "25475                                     None            2.833213         0   \n",
       "\n",
       "       social  spiritual  academia_humanities  business_farming  arts  sports  \\\n",
       "79351       0          0                    0                 0     0       1   \n",
       "25475       0          0                    0                 0     0       1   \n",
       "\n",
       "       law_enf_military_operator  politics_govt_law  crime  \\\n",
       "79351                          0                  0      0   \n",
       "25475                          0                  0      0   \n",
       "\n",
       "       event_record_other  other_species  num_categories  \n",
       "79351                   0              0               1  \n",
       "25475                   0              0               1  "
      ]
     },
     "execution_count": 105,
     "metadata": {},
     "output_type": "execute_result"
    },
    {
     "data": {
      "application/javascript": [
       "\n",
       "            setTimeout(function() {\n",
       "                var nbb_cell_id = 105;\n",
       "                var nbb_unformatted_code = \"%%time\\n\\n# Dictionary version\\nsearch_dict = known_for_dict\\n\\n# Column to check\\ncolumn = 'info_2'\\n\\n# Dataframe\\ndataframe = df[column].notna()\\n\\n# For loop to find role in column and extract it as category\\nfor category, category_lst in search_dict.items():\\n    for role in category_lst:\\n        for index in dataframe.index:\\n            item = df.loc[index, column]\\n            if item:\\n                if role in item:\\n                    df.loc[index, category] = 1\\n                    df.loc[index, column] = item.replace(role, '').strip()\\n\\n# Updating num_categories\\ndf[\\\"num_categories\\\"] = df[known_for_dict.keys()].sum(axis=1)\\n\\n# Checking a sample of rows\\ndf[df['sports'] ==1].sample(2)\";\n",
       "                var nbb_formatted_code = \"%%time\\n\\n# Dictionary version\\nsearch_dict = known_for_dict\\n\\n# Column to check\\ncolumn = 'info_2'\\n\\n# Dataframe\\ndataframe = df[column].notna()\\n\\n# For loop to find role in column and extract it as category\\nfor category, category_lst in search_dict.items():\\n    for role in category_lst:\\n        for index in dataframe.index:\\n            item = df.loc[index, column]\\n            if item:\\n                if role in item:\\n                    df.loc[index, category] = 1\\n                    df.loc[index, column] = item.replace(role, '').strip()\\n\\n# Updating num_categories\\ndf[\\\"num_categories\\\"] = df[known_for_dict.keys()].sum(axis=1)\\n\\n# Checking a sample of rows\\ndf[df['sports'] ==1].sample(2)\";\n",
       "                var nbb_cells = Jupyter.notebook.get_cells();\n",
       "                for (var i = 0; i < nbb_cells.length; ++i) {\n",
       "                    if (nbb_cells[i].input_prompt_number == nbb_cell_id) {\n",
       "                        if (nbb_cells[i].get_text() == nbb_unformatted_code) {\n",
       "                             nbb_cells[i].set_text(nbb_formatted_code);\n",
       "                        }\n",
       "                        break;\n",
       "                    }\n",
       "                }\n",
       "            }, 500);\n",
       "            "
      ],
      "text/plain": [
       "<IPython.core.display.Javascript object>"
      ]
     },
     "metadata": {},
     "output_type": "display_data"
    }
   ],
   "source": [
    "%%time\n",
    "\n",
    "# Dictionary version\n",
    "search_dict = known_for_dict\n",
    "\n",
    "# Column to check\n",
    "column = 'info_2'\n",
    "\n",
    "# Dataframe\n",
    "dataframe = df[column].notna()\n",
    "\n",
    "# For loop to find role in column and extract it as category\n",
    "for category, category_lst in search_dict.items():\n",
    "    for role in category_lst:\n",
    "        for index in dataframe.index:\n",
    "            item = df.loc[index, column]\n",
    "            if item:\n",
    "                if role in item:\n",
    "                    df.loc[index, category] = 1\n",
    "                    df.loc[index, column] = item.replace(role, '').strip()\n",
    "\n",
    "# Updating num_categories\n",
    "df[\"num_categories\"] = df[known_for_dict.keys()].sum(axis=1)\n",
    "\n",
    "# Checking a sample of rows\n",
    "df[df['sports'] ==1].sample(2)"
   ]
  },
  {
   "cell_type": "markdown",
   "id": "bab68e8a",
   "metadata": {},
   "source": [
    "#### Checking the Number of Rows without a First Category"
   ]
  },
  {
   "cell_type": "code",
   "execution_count": 106,
   "id": "d923d223",
   "metadata": {},
   "outputs": [
    {
     "name": "stdout",
     "output_type": "stream",
     "text": [
      "There are 45393 entries without any known_for category.\n"
     ]
    },
    {
     "data": {
      "application/javascript": [
       "\n",
       "            setTimeout(function() {\n",
       "                var nbb_cell_id = 106;\n",
       "                var nbb_unformatted_code = \"#### Checking the number of rows without a first category\\nprint(\\n    f'There are {len(df[df[\\\"num_categories\\\"]==0])} entries without any known_for category.'\\n)\";\n",
       "                var nbb_formatted_code = \"#### Checking the number of rows without a first category\\nprint(\\n    f'There are {len(df[df[\\\"num_categories\\\"]==0])} entries without any known_for category.'\\n)\";\n",
       "                var nbb_cells = Jupyter.notebook.get_cells();\n",
       "                for (var i = 0; i < nbb_cells.length; ++i) {\n",
       "                    if (nbb_cells[i].input_prompt_number == nbb_cell_id) {\n",
       "                        if (nbb_cells[i].get_text() == nbb_unformatted_code) {\n",
       "                             nbb_cells[i].set_text(nbb_formatted_code);\n",
       "                        }\n",
       "                        break;\n",
       "                    }\n",
       "                }\n",
       "            }, 500);\n",
       "            "
      ],
      "text/plain": [
       "<IPython.core.display.Javascript object>"
      ]
     },
     "metadata": {},
     "output_type": "display_data"
    }
   ],
   "source": [
    "#### Checking the number of rows without a first category\n",
    "print(\n",
    "    f'There are {len(df[df[\"num_categories\"]==0])} entries without any known_for category.'\n",
    ")"
   ]
  },
  {
   "cell_type": "markdown",
   "id": "b305ce43",
   "metadata": {},
   "source": [
    "#### Observations:\n",
    "- It is time to export our dataframe and start a new notebook."
   ]
  },
  {
   "cell_type": "markdown",
   "id": "714a6cca",
   "metadata": {},
   "source": [
    "### Exporting Dataset to SQLite Database [wp_life_expect_clean6.db](https://github.com/teresahanak/wikipedia-life-expectancy/blob/main/wp_life_expect_clean6.db)"
   ]
  },
  {
   "cell_type": "code",
   "execution_count": 107,
   "id": "7428ebbc",
   "metadata": {},
   "outputs": [
    {
     "data": {
      "application/javascript": [
       "\n",
       "            setTimeout(function() {\n",
       "                var nbb_cell_id = 107;\n",
       "                var nbb_unformatted_code = \"# Exporting dataframe\\n\\n# Saving dataset in a SQLite database\\nconn = sql.connect(\\\"wp_life_expect_clean6.db\\\")\\ndf.to_sql(\\\"wp_life_expect_clean6\\\", conn, index=False)\\n\\n# Chime notification when cell executes\\nchime.success()\";\n",
       "                var nbb_formatted_code = \"# Exporting dataframe\\n\\n# Saving dataset in a SQLite database\\nconn = sql.connect(\\\"wp_life_expect_clean6.db\\\")\\ndf.to_sql(\\\"wp_life_expect_clean6\\\", conn, index=False)\\n\\n# Chime notification when cell executes\\nchime.success()\";\n",
       "                var nbb_cells = Jupyter.notebook.get_cells();\n",
       "                for (var i = 0; i < nbb_cells.length; ++i) {\n",
       "                    if (nbb_cells[i].input_prompt_number == nbb_cell_id) {\n",
       "                        if (nbb_cells[i].get_text() == nbb_unformatted_code) {\n",
       "                             nbb_cells[i].set_text(nbb_formatted_code);\n",
       "                        }\n",
       "                        break;\n",
       "                    }\n",
       "                }\n",
       "            }, 500);\n",
       "            "
      ],
      "text/plain": [
       "<IPython.core.display.Javascript object>"
      ]
     },
     "metadata": {},
     "output_type": "display_data"
    }
   ],
   "source": [
    "# Exporting dataframe\n",
    "\n",
    "# Saving dataset in a SQLite database\n",
    "conn = sql.connect(\"wp_life_expect_clean6.db\")\n",
    "df.to_sql(\"wp_life_expect_clean6\", conn, index=False)\n",
    "\n",
    "# Chime notification when cell executes\n",
    "chime.success()"
   ]
  },
  {
   "cell_type": "markdown",
   "id": "588428ce",
   "metadata": {},
   "source": [
    "# [Proceed to Data Cleaning Part 7](https://github.com/teresahanak/wikipedia-life-expectancy/blob/main/wp_life_expect_data_clean7_thanak_2022_07_26.ipynb)"
   ]
  }
 ],
 "metadata": {
  "kernelspec": {
   "display_name": "Python 3 (ipykernel)",
   "language": "python",
   "name": "python3"
  },
  "language_info": {
   "codemirror_mode": {
    "name": "ipython",
    "version": 3
   },
   "file_extension": ".py",
   "mimetype": "text/x-python",
   "name": "python",
   "nbconvert_exporter": "python",
   "pygments_lexer": "ipython3",
   "version": "3.9.12"
  }
 },
 "nbformat": 4,
 "nbformat_minor": 5
}
