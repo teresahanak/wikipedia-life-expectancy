{
 "cells": [
  {
   "cell_type": "markdown",
   "id": "42f5ac22",
   "metadata": {},
   "source": [
    "# Wikipedia Notable Life Expectancies\n",
    "\n",
    "# [Notebook 2 of 4: Data Cleaning](https://github.com/teresahanak/wikipedia-life-expectancy/blob/main/wp_life_expect_data_clean_thanak_2022_06_13.ipynb)\n",
    "\n",
    "## Context\n",
    "\n",
    "The\n",
    "\n",
    "\n",
    "## Objective\n",
    "\n",
    "The\n",
    "\n",
    "### Data Dictionary\n",
    "\n",
    "- Feature: Description"
   ]
  },
  {
   "cell_type": "markdown",
   "id": "672ff54d",
   "metadata": {},
   "source": [
    "## Importing Necessary Libraries"
   ]
  },
  {
   "cell_type": "code",
   "execution_count": 1,
   "id": "6d142f76",
   "metadata": {},
   "outputs": [
    {
     "data": {
      "application/javascript": [
       "\n",
       "            setTimeout(function() {\n",
       "                var nbb_cell_id = 1;\n",
       "                var nbb_unformatted_code = \"# To structure code automatically\\n%load_ext nb_black\\n\\n# To import/export sqlite databases\\nimport sqlite3 as sql\\n\\n# To help with reading and manipulating data\\nimport pandas as pd\\nimport numpy as np\\nimport re\\n\\n# To define maximum number of columns to be displayed in a dataframe\\npd.set_option(\\\"display.max_columns\\\", None)\\n# To define the maximum number of rows to be displayed in a dataframe\\npd.set_option(\\\"display.max_rows\\\", 200)\\n\\n# To supress warnings\\n# import warnings\\n\\n# warnings.filterwarnings(\\\"ignore\\\")\\n\\n# To set some visualization attributes\\npd.set_option(\\\"max_colwidth\\\", 150)\";\n",
       "                var nbb_formatted_code = \"# To structure code automatically\\n%load_ext nb_black\\n\\n# To import/export sqlite databases\\nimport sqlite3 as sql\\n\\n# To help with reading and manipulating data\\nimport pandas as pd\\nimport numpy as np\\nimport re\\n\\n# To define maximum number of columns to be displayed in a dataframe\\npd.set_option(\\\"display.max_columns\\\", None)\\n# To define the maximum number of rows to be displayed in a dataframe\\npd.set_option(\\\"display.max_rows\\\", 200)\\n\\n# To supress warnings\\n# import warnings\\n\\n# warnings.filterwarnings(\\\"ignore\\\")\\n\\n# To set some visualization attributes\\npd.set_option(\\\"max_colwidth\\\", 150)\";\n",
       "                var nbb_cells = Jupyter.notebook.get_cells();\n",
       "                for (var i = 0; i < nbb_cells.length; ++i) {\n",
       "                    if (nbb_cells[i].input_prompt_number == nbb_cell_id) {\n",
       "                        if (nbb_cells[i].get_text() == nbb_unformatted_code) {\n",
       "                             nbb_cells[i].set_text(nbb_formatted_code);\n",
       "                        }\n",
       "                        break;\n",
       "                    }\n",
       "                }\n",
       "            }, 500);\n",
       "            "
      ],
      "text/plain": [
       "<IPython.core.display.Javascript object>"
      ]
     },
     "metadata": {},
     "output_type": "display_data"
    }
   ],
   "source": [
    "# To structure code automatically\n",
    "%load_ext nb_black\n",
    "\n",
    "# To import/export sqlite databases\n",
    "import sqlite3 as sql\n",
    "\n",
    "# To help with reading and manipulating data\n",
    "import pandas as pd\n",
    "import numpy as np\n",
    "import re\n",
    "\n",
    "# To define maximum number of columns to be displayed in a dataframe\n",
    "pd.set_option(\"display.max_columns\", None)\n",
    "# To define the maximum number of rows to be displayed in a dataframe\n",
    "pd.set_option(\"display.max_rows\", 200)\n",
    "\n",
    "# To supress warnings\n",
    "# import warnings\n",
    "\n",
    "# warnings.filterwarnings(\"ignore\")\n",
    "\n",
    "# To set some visualization attributes\n",
    "pd.set_option(\"max_colwidth\", 150)"
   ]
  },
  {
   "cell_type": "markdown",
   "id": "f4094f60",
   "metadata": {},
   "source": [
    "## Data Overview"
   ]
  },
  {
   "cell_type": "markdown",
   "id": "30f4044f",
   "metadata": {},
   "source": [
    "### Reading, Sampling, and Checking Data Shape"
   ]
  },
  {
   "cell_type": "code",
   "execution_count": 2,
   "id": "5df7987c",
   "metadata": {},
   "outputs": [
    {
     "name": "stdout",
     "output_type": "stream",
     "text": [
      "There are 133900 rows and 6 columns.\n"
     ]
    },
    {
     "data": {
      "text/html": [
       "<div>\n",
       "<style scoped>\n",
       "    .dataframe tbody tr th:only-of-type {\n",
       "        vertical-align: middle;\n",
       "    }\n",
       "\n",
       "    .dataframe tbody tr th {\n",
       "        vertical-align: top;\n",
       "    }\n",
       "\n",
       "    .dataframe thead th {\n",
       "        text-align: right;\n",
       "    }\n",
       "</style>\n",
       "<table border=\"1\" class=\"dataframe\">\n",
       "  <thead>\n",
       "    <tr style=\"text-align: right;\">\n",
       "      <th></th>\n",
       "      <th>month_year</th>\n",
       "      <th>day</th>\n",
       "      <th>name</th>\n",
       "      <th>info</th>\n",
       "      <th>link</th>\n",
       "      <th>num_references</th>\n",
       "    </tr>\n",
       "  </thead>\n",
       "  <tbody>\n",
       "    <tr>\n",
       "      <th>0</th>\n",
       "      <td>January 1994</td>\n",
       "      <td>1</td>\n",
       "      <td>William Chappell</td>\n",
       "      <td>, 86, British dancer, ballet designer and director.</td>\n",
       "      <td>https://en.wikipedia.org/wiki/William_Chappell_(dancer)</td>\n",
       "      <td>21</td>\n",
       "    </tr>\n",
       "    <tr>\n",
       "      <th>1</th>\n",
       "      <td>January 1994</td>\n",
       "      <td>1</td>\n",
       "      <td>Raymond Crotty</td>\n",
       "      <td>, 68, Irish economist, writer, and academic.</td>\n",
       "      <td>https://en.wikipedia.org/wiki/Raymond_Crotty</td>\n",
       "      <td>12</td>\n",
       "    </tr>\n",
       "  </tbody>\n",
       "</table>\n",
       "</div>"
      ],
      "text/plain": [
       "     month_year day              name  \\\n",
       "0  January 1994   1  William Chappell   \n",
       "1  January 1994   1    Raymond Crotty   \n",
       "\n",
       "                                                  info  \\\n",
       "0  , 86, British dancer, ballet designer and director.   \n",
       "1         , 68, Irish economist, writer, and academic.   \n",
       "\n",
       "                                                      link num_references  \n",
       "0  https://en.wikipedia.org/wiki/William_Chappell_(dancer)             21  \n",
       "1             https://en.wikipedia.org/wiki/Raymond_Crotty             12  "
      ]
     },
     "execution_count": 2,
     "metadata": {},
     "output_type": "execute_result"
    },
    {
     "data": {
      "application/javascript": [
       "\n",
       "            setTimeout(function() {\n",
       "                var nbb_cell_id = 2;\n",
       "                var nbb_unformatted_code = \"# Reading the wp_life_expect_raw_complete dataset\\nconn = sql.connect(\\\"wp_life_expect_raw_complete.db\\\")\\ndata = pd.read_sql(\\\"SELECT * FROM wp_life_expect_raw_complete\\\", conn)\\n\\n# Making a working copy\\ndf = data.copy()\\n\\n# Checking the shape\\nprint(f\\\"There are {df.shape[0]} rows and {df.shape[1]} columns.\\\")\\n\\n# Checking first 2 rows of the data\\ndf.head(2)\";\n",
       "                var nbb_formatted_code = \"# Reading the wp_life_expect_raw_complete dataset\\nconn = sql.connect(\\\"wp_life_expect_raw_complete.db\\\")\\ndata = pd.read_sql(\\\"SELECT * FROM wp_life_expect_raw_complete\\\", conn)\\n\\n# Making a working copy\\ndf = data.copy()\\n\\n# Checking the shape\\nprint(f\\\"There are {df.shape[0]} rows and {df.shape[1]} columns.\\\")\\n\\n# Checking first 2 rows of the data\\ndf.head(2)\";\n",
       "                var nbb_cells = Jupyter.notebook.get_cells();\n",
       "                for (var i = 0; i < nbb_cells.length; ++i) {\n",
       "                    if (nbb_cells[i].input_prompt_number == nbb_cell_id) {\n",
       "                        if (nbb_cells[i].get_text() == nbb_unformatted_code) {\n",
       "                             nbb_cells[i].set_text(nbb_formatted_code);\n",
       "                        }\n",
       "                        break;\n",
       "                    }\n",
       "                }\n",
       "            }, 500);\n",
       "            "
      ],
      "text/plain": [
       "<IPython.core.display.Javascript object>"
      ]
     },
     "metadata": {},
     "output_type": "display_data"
    }
   ],
   "source": [
    "# Reading the wp_life_expect_raw_complete dataset\n",
    "conn = sql.connect(\"wp_life_expect_raw_complete.db\")\n",
    "data = pd.read_sql(\"SELECT * FROM wp_life_expect_raw_complete\", conn)\n",
    "\n",
    "# Making a working copy\n",
    "df = data.copy()\n",
    "\n",
    "# Checking the shape\n",
    "print(f\"There are {df.shape[0]} rows and {df.shape[1]} columns.\")\n",
    "\n",
    "# Checking first 2 rows of the data\n",
    "df.head(2)"
   ]
  },
  {
   "cell_type": "code",
   "execution_count": 3,
   "id": "39479165",
   "metadata": {},
   "outputs": [
    {
     "data": {
      "text/html": [
       "<div>\n",
       "<style scoped>\n",
       "    .dataframe tbody tr th:only-of-type {\n",
       "        vertical-align: middle;\n",
       "    }\n",
       "\n",
       "    .dataframe tbody tr th {\n",
       "        vertical-align: top;\n",
       "    }\n",
       "\n",
       "    .dataframe thead th {\n",
       "        text-align: right;\n",
       "    }\n",
       "</style>\n",
       "<table border=\"1\" class=\"dataframe\">\n",
       "  <thead>\n",
       "    <tr style=\"text-align: right;\">\n",
       "      <th></th>\n",
       "      <th>month_year</th>\n",
       "      <th>day</th>\n",
       "      <th>name</th>\n",
       "      <th>info</th>\n",
       "      <th>link</th>\n",
       "      <th>num_references</th>\n",
       "    </tr>\n",
       "  </thead>\n",
       "  <tbody>\n",
       "    <tr>\n",
       "      <th>133898</th>\n",
       "      <td>June 2022</td>\n",
       "      <td>9</td>\n",
       "      <td>Oleg Moliboga</td>\n",
       "      <td>, 69, Russian volleyball player, Olympic champion (1980) and coach.</td>\n",
       "      <td>https://en.wikipedia.org/wiki/Oleg_Moliboga</td>\n",
       "      <td>2</td>\n",
       "    </tr>\n",
       "    <tr>\n",
       "      <th>133899</th>\n",
       "      <td>June 2022</td>\n",
       "      <td>9</td>\n",
       "      <td>Zou Jing</td>\n",
       "      <td>, 86, Chinese engineer, member of the Chinese Academy of Engineering.</td>\n",
       "      <td>https://en.wikipedia.org/wiki/Zou_Jing_(engineer)</td>\n",
       "      <td>3</td>\n",
       "    </tr>\n",
       "  </tbody>\n",
       "</table>\n",
       "</div>"
      ],
      "text/plain": [
       "       month_year day           name  \\\n",
       "133898  June 2022   9  Oleg Moliboga   \n",
       "133899  June 2022   9       Zou Jing   \n",
       "\n",
       "                                                                         info  \\\n",
       "133898    , 69, Russian volleyball player, Olympic champion (1980) and coach.   \n",
       "133899  , 86, Chinese engineer, member of the Chinese Academy of Engineering.   \n",
       "\n",
       "                                                     link num_references  \n",
       "133898        https://en.wikipedia.org/wiki/Oleg_Moliboga              2  \n",
       "133899  https://en.wikipedia.org/wiki/Zou_Jing_(engineer)              3  "
      ]
     },
     "execution_count": 3,
     "metadata": {},
     "output_type": "execute_result"
    },
    {
     "data": {
      "application/javascript": [
       "\n",
       "            setTimeout(function() {\n",
       "                var nbb_cell_id = 3;\n",
       "                var nbb_unformatted_code = \"# Checking last 2 rows of the data\\ndf.tail(2)\";\n",
       "                var nbb_formatted_code = \"# Checking last 2 rows of the data\\ndf.tail(2)\";\n",
       "                var nbb_cells = Jupyter.notebook.get_cells();\n",
       "                for (var i = 0; i < nbb_cells.length; ++i) {\n",
       "                    if (nbb_cells[i].input_prompt_number == nbb_cell_id) {\n",
       "                        if (nbb_cells[i].get_text() == nbb_unformatted_code) {\n",
       "                             nbb_cells[i].set_text(nbb_formatted_code);\n",
       "                        }\n",
       "                        break;\n",
       "                    }\n",
       "                }\n",
       "            }, 500);\n",
       "            "
      ],
      "text/plain": [
       "<IPython.core.display.Javascript object>"
      ]
     },
     "metadata": {},
     "output_type": "display_data"
    }
   ],
   "source": [
    "# Checking last 2 rows of the data\n",
    "df.tail(2)"
   ]
  },
  {
   "cell_type": "code",
   "execution_count": 4,
   "id": "0d3fd555",
   "metadata": {},
   "outputs": [
    {
     "data": {
      "text/html": [
       "<div>\n",
       "<style scoped>\n",
       "    .dataframe tbody tr th:only-of-type {\n",
       "        vertical-align: middle;\n",
       "    }\n",
       "\n",
       "    .dataframe tbody tr th {\n",
       "        vertical-align: top;\n",
       "    }\n",
       "\n",
       "    .dataframe thead th {\n",
       "        text-align: right;\n",
       "    }\n",
       "</style>\n",
       "<table border=\"1\" class=\"dataframe\">\n",
       "  <thead>\n",
       "    <tr style=\"text-align: right;\">\n",
       "      <th></th>\n",
       "      <th>month_year</th>\n",
       "      <th>day</th>\n",
       "      <th>name</th>\n",
       "      <th>info</th>\n",
       "      <th>link</th>\n",
       "      <th>num_references</th>\n",
       "    </tr>\n",
       "  </thead>\n",
       "  <tbody>\n",
       "    <tr>\n",
       "      <th>30971</th>\n",
       "      <td>June 2006</td>\n",
       "      <td>25</td>\n",
       "      <td>Kenneth Griffith</td>\n",
       "      <td>, 84, Welsh actor and documentary maker, Parkinson's disease.</td>\n",
       "      <td>https://en.wikipedia.org/wiki/Kenneth_Griffith</td>\n",
       "      <td>16</td>\n",
       "    </tr>\n",
       "    <tr>\n",
       "      <th>76803</th>\n",
       "      <td>June 2015</td>\n",
       "      <td>13</td>\n",
       "      <td>Russell J. Donnelly</td>\n",
       "      <td>, 85, Canadian physicist.</td>\n",
       "      <td>https://en.wikipedia.org/wiki/Russell_J._Donnelly</td>\n",
       "      <td>12</td>\n",
       "    </tr>\n",
       "    <tr>\n",
       "      <th>84069</th>\n",
       "      <td>July 2016</td>\n",
       "      <td>16</td>\n",
       "      <td>Robert Burren Morgan</td>\n",
       "      <td>, 90, American politician, member of the U.S. Senate for North Carolina (1975–1981), N.C. Senate (1955–1969) and Attorney General (1969–1974).</td>\n",
       "      <td>https://en.wikipedia.org/wiki/Robert_Burren_Morgan</td>\n",
       "      <td>11</td>\n",
       "    </tr>\n",
       "    <tr>\n",
       "      <th>22668</th>\n",
       "      <td>January 2003</td>\n",
       "      <td>20</td>\n",
       "      <td>Bill Werbeniuk</td>\n",
       "      <td>, 56, Canadian snooker player.</td>\n",
       "      <td>https://en.wikipedia.org/wiki/Bill_Werbeniuk</td>\n",
       "      <td>28</td>\n",
       "    </tr>\n",
       "    <tr>\n",
       "      <th>116754</th>\n",
       "      <td>October 2020</td>\n",
       "      <td>16</td>\n",
       "      <td>László Branikovits</td>\n",
       "      <td>, 70, Hungarian footballer, Olympic silver medalist (1972).</td>\n",
       "      <td>https://en.wikipedia.org/wiki/L%C3%A1szl%C3%B3_Branikovits</td>\n",
       "      <td>2</td>\n",
       "    </tr>\n",
       "  </tbody>\n",
       "</table>\n",
       "</div>"
      ],
      "text/plain": [
       "          month_year day                  name  \\\n",
       "30971      June 2006  25      Kenneth Griffith   \n",
       "76803      June 2015  13   Russell J. Donnelly   \n",
       "84069      July 2016  16  Robert Burren Morgan   \n",
       "22668   January 2003  20        Bill Werbeniuk   \n",
       "116754  October 2020  16    László Branikovits   \n",
       "\n",
       "                                                                                                                                                  info  \\\n",
       "30971                                                                                    , 84, Welsh actor and documentary maker, Parkinson's disease.   \n",
       "76803                                                                                                                        , 85, Canadian physicist.   \n",
       "84069   , 90, American politician, member of the U.S. Senate for North Carolina (1975–1981), N.C. Senate (1955–1969) and Attorney General (1969–1974).   \n",
       "22668                                                                                                                   , 56, Canadian snooker player.   \n",
       "116754                                                                                     , 70, Hungarian footballer, Olympic silver medalist (1972).   \n",
       "\n",
       "                                                              link  \\\n",
       "30971               https://en.wikipedia.org/wiki/Kenneth_Griffith   \n",
       "76803            https://en.wikipedia.org/wiki/Russell_J._Donnelly   \n",
       "84069           https://en.wikipedia.org/wiki/Robert_Burren_Morgan   \n",
       "22668                 https://en.wikipedia.org/wiki/Bill_Werbeniuk   \n",
       "116754  https://en.wikipedia.org/wiki/L%C3%A1szl%C3%B3_Branikovits   \n",
       "\n",
       "       num_references  \n",
       "30971              16  \n",
       "76803              12  \n",
       "84069              11  \n",
       "22668              28  \n",
       "116754              2  "
      ]
     },
     "execution_count": 4,
     "metadata": {},
     "output_type": "execute_result"
    },
    {
     "data": {
      "application/javascript": [
       "\n",
       "            setTimeout(function() {\n",
       "                var nbb_cell_id = 4;\n",
       "                var nbb_unformatted_code = \"# Checking a sample of the data\\ndf.sample(5)\";\n",
       "                var nbb_formatted_code = \"# Checking a sample of the data\\ndf.sample(5)\";\n",
       "                var nbb_cells = Jupyter.notebook.get_cells();\n",
       "                for (var i = 0; i < nbb_cells.length; ++i) {\n",
       "                    if (nbb_cells[i].input_prompt_number == nbb_cell_id) {\n",
       "                        if (nbb_cells[i].get_text() == nbb_unformatted_code) {\n",
       "                             nbb_cells[i].set_text(nbb_formatted_code);\n",
       "                        }\n",
       "                        break;\n",
       "                    }\n",
       "                }\n",
       "            }, 500);\n",
       "            "
      ],
      "text/plain": [
       "<IPython.core.display.Javascript object>"
      ]
     },
     "metadata": {},
     "output_type": "display_data"
    }
   ],
   "source": [
    "# Checking a sample of the data\n",
    "df.sample(5)"
   ]
  },
  {
   "cell_type": "markdown",
   "id": "ffdc752e",
   "metadata": {},
   "source": [
    "#### Observations:\n",
    "- There are 133,900 rows and 6 columns.\n",
    "- `month_year` contains the month and year of death, while `day` contains the day of the month of death.\n",
    "- `name` is the notable person's name.  It is a nominal feature that will not be used for analysis, but will be maintained for any referencing needs.\n",
    "- `info` contains multiple items including the notable person's \"age, country of citizenship at birth, subsequent country of citizenship (if applicable), reason for notability, (and) cause of death (if known).\"\n",
    "- `link` is typically the url to the notable person's individual Wikipedia page.  If such a page does not exist, there is either a non-working link (https://en.wikipedia.orgNone), or the link is to a page with a message that the page does not exist for that individual.  `link` is intended to be used as a unique identifier for all entries, except the 6 with the non-working link, which do have unique `name` values from each other.  We still need to verify that all other links are unique.\n",
    "- `num_references` contains the number of references on the notable person's individual Wikipedia page.  This feature serves as a proxy measure of notability.\n",
    "- Prior to EDA, our task will be to extract the individual elements that are comined in `month_year` and `info` columns."
   ]
  },
  {
   "cell_type": "markdown",
   "id": "99088219",
   "metadata": {},
   "source": [
    "### Checking Data Types, Duplicates, and Null Values"
   ]
  },
  {
   "cell_type": "code",
   "execution_count": 5,
   "id": "7c6c2786",
   "metadata": {},
   "outputs": [
    {
     "name": "stdout",
     "output_type": "stream",
     "text": [
      "<class 'pandas.core.frame.DataFrame'>\n",
      "RangeIndex: 133900 entries, 0 to 133899\n",
      "Data columns (total 6 columns):\n",
      " #   Column          Non-Null Count   Dtype \n",
      "---  ------          --------------   ----- \n",
      " 0   month_year      133900 non-null  object\n",
      " 1   day             133900 non-null  object\n",
      " 2   name            133894 non-null  object\n",
      " 3   info            133900 non-null  object\n",
      " 4   link            133900 non-null  object\n",
      " 5   num_references  133900 non-null  object\n",
      "dtypes: object(6)\n",
      "memory usage: 6.1+ MB\n"
     ]
    },
    {
     "data": {
      "application/javascript": [
       "\n",
       "            setTimeout(function() {\n",
       "                var nbb_cell_id = 5;\n",
       "                var nbb_unformatted_code = \"# Checking data types and null values\\ndf.info()\";\n",
       "                var nbb_formatted_code = \"# Checking data types and null values\\ndf.info()\";\n",
       "                var nbb_cells = Jupyter.notebook.get_cells();\n",
       "                for (var i = 0; i < nbb_cells.length; ++i) {\n",
       "                    if (nbb_cells[i].input_prompt_number == nbb_cell_id) {\n",
       "                        if (nbb_cells[i].get_text() == nbb_unformatted_code) {\n",
       "                             nbb_cells[i].set_text(nbb_formatted_code);\n",
       "                        }\n",
       "                        break;\n",
       "                    }\n",
       "                }\n",
       "            }, 500);\n",
       "            "
      ],
      "text/plain": [
       "<IPython.core.display.Javascript object>"
      ]
     },
     "metadata": {},
     "output_type": "display_data"
    }
   ],
   "source": [
    "# Checking data types and null values\n",
    "df.info()"
   ]
  },
  {
   "cell_type": "code",
   "execution_count": 6,
   "id": "d7d0d148",
   "metadata": {},
   "outputs": [
    {
     "data": {
      "text/plain": [
       "0"
      ]
     },
     "execution_count": 6,
     "metadata": {},
     "output_type": "execute_result"
    },
    {
     "data": {
      "application/javascript": [
       "\n",
       "            setTimeout(function() {\n",
       "                var nbb_cell_id = 6;\n",
       "                var nbb_unformatted_code = \"# Checking duplicate rows\\ndf.duplicated().sum()\";\n",
       "                var nbb_formatted_code = \"# Checking duplicate rows\\ndf.duplicated().sum()\";\n",
       "                var nbb_cells = Jupyter.notebook.get_cells();\n",
       "                for (var i = 0; i < nbb_cells.length; ++i) {\n",
       "                    if (nbb_cells[i].input_prompt_number == nbb_cell_id) {\n",
       "                        if (nbb_cells[i].get_text() == nbb_unformatted_code) {\n",
       "                             nbb_cells[i].set_text(nbb_formatted_code);\n",
       "                        }\n",
       "                        break;\n",
       "                    }\n",
       "                }\n",
       "            }, 500);\n",
       "            "
      ],
      "text/plain": [
       "<IPython.core.display.Javascript object>"
      ]
     },
     "metadata": {},
     "output_type": "display_data"
    }
   ],
   "source": [
    "# Checking duplicate rows\n",
    "df.duplicated().sum()"
   ]
  },
  {
   "cell_type": "code",
   "execution_count": 7,
   "id": "8319e43a",
   "metadata": {},
   "outputs": [
    {
     "data": {
      "text/plain": [
       "month_year        0.000000\n",
       "day               0.000000\n",
       "name              0.004481\n",
       "info              0.000000\n",
       "link              0.000000\n",
       "num_references    0.000000\n",
       "dtype: float64"
      ]
     },
     "execution_count": 7,
     "metadata": {},
     "output_type": "execute_result"
    },
    {
     "data": {
      "application/javascript": [
       "\n",
       "            setTimeout(function() {\n",
       "                var nbb_cell_id = 7;\n",
       "                var nbb_unformatted_code = \"# Check percentage of null values by column\\ndf.isnull().sum() / df.count() * 100\";\n",
       "                var nbb_formatted_code = \"# Check percentage of null values by column\\ndf.isnull().sum() / df.count() * 100\";\n",
       "                var nbb_cells = Jupyter.notebook.get_cells();\n",
       "                for (var i = 0; i < nbb_cells.length; ++i) {\n",
       "                    if (nbb_cells[i].input_prompt_number == nbb_cell_id) {\n",
       "                        if (nbb_cells[i].get_text() == nbb_unformatted_code) {\n",
       "                             nbb_cells[i].set_text(nbb_formatted_code);\n",
       "                        }\n",
       "                        break;\n",
       "                    }\n",
       "                }\n",
       "            }, 500);\n",
       "            "
      ],
      "text/plain": [
       "<IPython.core.display.Javascript object>"
      ]
     },
     "metadata": {},
     "output_type": "display_data"
    }
   ],
   "source": [
    "# Check percentage of null values by column\n",
    "df.isnull().sum() / df.count() * 100"
   ]
  },
  {
   "cell_type": "code",
   "execution_count": 8,
   "id": "067bf523",
   "metadata": {},
   "outputs": [
    {
     "data": {
      "text/plain": [
       "0    133894\n",
       "1         6\n",
       "dtype: int64"
      ]
     },
     "execution_count": 8,
     "metadata": {},
     "output_type": "execute_result"
    },
    {
     "data": {
      "application/javascript": [
       "\n",
       "            setTimeout(function() {\n",
       "                var nbb_cell_id = 8;\n",
       "                var nbb_unformatted_code = \"# Checking number of missing values per row\\ndf.isnull().sum(axis=1).value_counts()\";\n",
       "                var nbb_formatted_code = \"# Checking number of missing values per row\\ndf.isnull().sum(axis=1).value_counts()\";\n",
       "                var nbb_cells = Jupyter.notebook.get_cells();\n",
       "                for (var i = 0; i < nbb_cells.length; ++i) {\n",
       "                    if (nbb_cells[i].input_prompt_number == nbb_cell_id) {\n",
       "                        if (nbb_cells[i].get_text() == nbb_unformatted_code) {\n",
       "                             nbb_cells[i].set_text(nbb_formatted_code);\n",
       "                        }\n",
       "                        break;\n",
       "                    }\n",
       "                }\n",
       "            }, 500);\n",
       "            "
      ],
      "text/plain": [
       "<IPython.core.display.Javascript object>"
      ]
     },
     "metadata": {},
     "output_type": "display_data"
    }
   ],
   "source": [
    "# Checking number of missing values per row\n",
    "df.isnull().sum(axis=1).value_counts()"
   ]
  },
  {
   "cell_type": "markdown",
   "id": "f29c9f56",
   "metadata": {},
   "source": [
    "#### Observations:\n",
    "- Our dataset was saved to and read from the database without any hiccups.\n",
    "- As expected, we have 6 entries that are missing `name`, but we will find it in their `info` values.\n",
    "- All columns are currently of object type.  We will need to appropriately typecast them after separating the information in `month_year` and `info`.\n",
    "- We do not have any duplicate entries, but we will need to verify that all links are unique.  If an individual's death was entered on more than one date, there could be more than one entry for the individual."
   ]
  },
  {
   "cell_type": "markdown",
   "id": "a6617dd7",
   "metadata": {},
   "source": [
    "## Data Cleaning"
   ]
  },
  {
   "cell_type": "markdown",
   "id": "e8a26f3b",
   "metadata": {},
   "source": [
    "### Addressing Missing `name` Values"
   ]
  },
  {
   "cell_type": "code",
   "execution_count": 9,
   "id": "631fee06",
   "metadata": {},
   "outputs": [
    {
     "data": {
      "text/html": [
       "<div>\n",
       "<style scoped>\n",
       "    .dataframe tbody tr th:only-of-type {\n",
       "        vertical-align: middle;\n",
       "    }\n",
       "\n",
       "    .dataframe tbody tr th {\n",
       "        vertical-align: top;\n",
       "    }\n",
       "\n",
       "    .dataframe thead th {\n",
       "        text-align: right;\n",
       "    }\n",
       "</style>\n",
       "<table border=\"1\" class=\"dataframe\">\n",
       "  <thead>\n",
       "    <tr style=\"text-align: right;\">\n",
       "      <th></th>\n",
       "      <th>month_year</th>\n",
       "      <th>day</th>\n",
       "      <th>name</th>\n",
       "      <th>info</th>\n",
       "      <th>link</th>\n",
       "      <th>num_references</th>\n",
       "    </tr>\n",
       "  </thead>\n",
       "  <tbody>\n",
       "    <tr>\n",
       "      <th>18937</th>\n",
       "      <td>August 2001</td>\n",
       "      <td>11</td>\n",
       "      <td>None</td>\n",
       "      <td>Kevin Kowalcyk, 2, known for eating a hamburger contaminated with E. coli O157:H7.</td>\n",
       "      <td>https://en.wikipedia.orgNone</td>\n",
       "      <td>0</td>\n",
       "    </tr>\n",
       "    <tr>\n",
       "      <th>24985</th>\n",
       "      <td>January 2004</td>\n",
       "      <td>22</td>\n",
       "      <td>None</td>\n",
       "      <td>Vincent Palmer, 37, British criminal.</td>\n",
       "      <td>https://en.wikipedia.orgNone</td>\n",
       "      <td>0</td>\n",
       "    </tr>\n",
       "    <tr>\n",
       "      <th>27458</th>\n",
       "      <td>March 2005</td>\n",
       "      <td>1</td>\n",
       "      <td>None</td>\n",
       "      <td>Barry Stigler, 57, American voice actor.</td>\n",
       "      <td>https://en.wikipedia.orgNone</td>\n",
       "      <td>0</td>\n",
       "    </tr>\n",
       "    <tr>\n",
       "      <th>34077</th>\n",
       "      <td>July 2007</td>\n",
       "      <td>11</td>\n",
       "      <td>None</td>\n",
       "      <td>Nana Gualdi, 75, German singer and actress.</td>\n",
       "      <td>https://en.wikipedia.orgNone</td>\n",
       "      <td>0</td>\n",
       "    </tr>\n",
       "    <tr>\n",
       "      <th>64769</th>\n",
       "      <td>September 2013</td>\n",
       "      <td>29</td>\n",
       "      <td>None</td>\n",
       "      <td>Scott Workman, 47, American stuntman (, , ), cancer.</td>\n",
       "      <td>https://en.wikipedia.orgNone</td>\n",
       "      <td>0</td>\n",
       "    </tr>\n",
       "    <tr>\n",
       "      <th>106613</th>\n",
       "      <td>September 2019</td>\n",
       "      <td>12</td>\n",
       "      <td>None</td>\n",
       "      <td>Thami Shobede, 31, Singer Songwriter</td>\n",
       "      <td>https://en.wikipedia.orgNone</td>\n",
       "      <td>0</td>\n",
       "    </tr>\n",
       "  </tbody>\n",
       "</table>\n",
       "</div>"
      ],
      "text/plain": [
       "            month_year day  name  \\\n",
       "18937      August 2001  11  None   \n",
       "24985     January 2004  22  None   \n",
       "27458       March 2005   1  None   \n",
       "34077        July 2007  11  None   \n",
       "64769   September 2013  29  None   \n",
       "106613  September 2019  12  None   \n",
       "\n",
       "                                                                                      info  \\\n",
       "18937   Kevin Kowalcyk, 2, known for eating a hamburger contaminated with E. coli O157:H7.   \n",
       "24985                                                Vincent Palmer, 37, British criminal.   \n",
       "27458                                             Barry Stigler, 57, American voice actor.   \n",
       "34077                                          Nana Gualdi, 75, German singer and actress.   \n",
       "64769                                 Scott Workman, 47, American stuntman (, , ), cancer.   \n",
       "106613                                                Thami Shobede, 31, Singer Songwriter   \n",
       "\n",
       "                                link num_references  \n",
       "18937   https://en.wikipedia.orgNone              0  \n",
       "24985   https://en.wikipedia.orgNone              0  \n",
       "27458   https://en.wikipedia.orgNone              0  \n",
       "34077   https://en.wikipedia.orgNone              0  \n",
       "64769   https://en.wikipedia.orgNone              0  \n",
       "106613  https://en.wikipedia.orgNone              0  "
      ]
     },
     "execution_count": 9,
     "metadata": {},
     "output_type": "execute_result"
    },
    {
     "data": {
      "application/javascript": [
       "\n",
       "            setTimeout(function() {\n",
       "                var nbb_cell_id = 9;\n",
       "                var nbb_unformatted_code = \"# Checking rows with missing name values\\nmissing_name = df[df[\\\"name\\\"].isna()]\\nmissing_name\";\n",
       "                var nbb_formatted_code = \"# Checking rows with missing name values\\nmissing_name = df[df[\\\"name\\\"].isna()]\\nmissing_name\";\n",
       "                var nbb_cells = Jupyter.notebook.get_cells();\n",
       "                for (var i = 0; i < nbb_cells.length; ++i) {\n",
       "                    if (nbb_cells[i].input_prompt_number == nbb_cell_id) {\n",
       "                        if (nbb_cells[i].get_text() == nbb_unformatted_code) {\n",
       "                             nbb_cells[i].set_text(nbb_formatted_code);\n",
       "                        }\n",
       "                        break;\n",
       "                    }\n",
       "                }\n",
       "            }, 500);\n",
       "            "
      ],
      "text/plain": [
       "<IPython.core.display.Javascript object>"
      ]
     },
     "metadata": {},
     "output_type": "display_data"
    }
   ],
   "source": [
    "# Checking rows with missing name values\n",
    "missing_name = df[df[\"name\"].isna()]\n",
    "missing_name"
   ]
  },
  {
   "cell_type": "markdown",
   "id": "a8339d9b",
   "metadata": {},
   "source": [
    "#### Observations:\n",
    "- These rows vary from the main set as there is a substring containing the person's name at the start of the `info` string.\n",
    "- As there are so few rows missing `name`, let us address this issue first.\n",
    "- Within a for loop, we will split the `info` value into a list and extract `name` from the first list entry.  \n",
    "- Then we will replace the name with an empty string within `info`."
   ]
  },
  {
   "cell_type": "code",
   "execution_count": 10,
   "id": "7aa458c9",
   "metadata": {},
   "outputs": [
    {
     "data": {
      "text/html": [
       "<div>\n",
       "<style scoped>\n",
       "    .dataframe tbody tr th:only-of-type {\n",
       "        vertical-align: middle;\n",
       "    }\n",
       "\n",
       "    .dataframe tbody tr th {\n",
       "        vertical-align: top;\n",
       "    }\n",
       "\n",
       "    .dataframe thead th {\n",
       "        text-align: right;\n",
       "    }\n",
       "</style>\n",
       "<table border=\"1\" class=\"dataframe\">\n",
       "  <thead>\n",
       "    <tr style=\"text-align: right;\">\n",
       "      <th></th>\n",
       "      <th>month_year</th>\n",
       "      <th>day</th>\n",
       "      <th>name</th>\n",
       "      <th>info</th>\n",
       "      <th>link</th>\n",
       "      <th>num_references</th>\n",
       "    </tr>\n",
       "  </thead>\n",
       "  <tbody>\n",
       "    <tr>\n",
       "      <th>18937</th>\n",
       "      <td>August 2001</td>\n",
       "      <td>11</td>\n",
       "      <td>Kevin Kowalcyk</td>\n",
       "      <td>, 2, known for eating a hamburger contaminated with E. coli O157:H7.</td>\n",
       "      <td>https://en.wikipedia.orgNone</td>\n",
       "      <td>0</td>\n",
       "    </tr>\n",
       "    <tr>\n",
       "      <th>24985</th>\n",
       "      <td>January 2004</td>\n",
       "      <td>22</td>\n",
       "      <td>Vincent Palmer</td>\n",
       "      <td>, 37, British criminal.</td>\n",
       "      <td>https://en.wikipedia.orgNone</td>\n",
       "      <td>0</td>\n",
       "    </tr>\n",
       "    <tr>\n",
       "      <th>27458</th>\n",
       "      <td>March 2005</td>\n",
       "      <td>1</td>\n",
       "      <td>Barry Stigler</td>\n",
       "      <td>, 57, American voice actor.</td>\n",
       "      <td>https://en.wikipedia.orgNone</td>\n",
       "      <td>0</td>\n",
       "    </tr>\n",
       "    <tr>\n",
       "      <th>34077</th>\n",
       "      <td>July 2007</td>\n",
       "      <td>11</td>\n",
       "      <td>Nana Gualdi</td>\n",
       "      <td>, 75, German singer and actress.</td>\n",
       "      <td>https://en.wikipedia.orgNone</td>\n",
       "      <td>0</td>\n",
       "    </tr>\n",
       "    <tr>\n",
       "      <th>64769</th>\n",
       "      <td>September 2013</td>\n",
       "      <td>29</td>\n",
       "      <td>Scott Workman</td>\n",
       "      <td>, 47, American stuntman (, , ), cancer.</td>\n",
       "      <td>https://en.wikipedia.orgNone</td>\n",
       "      <td>0</td>\n",
       "    </tr>\n",
       "    <tr>\n",
       "      <th>106613</th>\n",
       "      <td>September 2019</td>\n",
       "      <td>12</td>\n",
       "      <td>Thami Shobede</td>\n",
       "      <td>, 31, Singer Songwriter</td>\n",
       "      <td>https://en.wikipedia.orgNone</td>\n",
       "      <td>0</td>\n",
       "    </tr>\n",
       "  </tbody>\n",
       "</table>\n",
       "</div>"
      ],
      "text/plain": [
       "            month_year day            name  \\\n",
       "18937      August 2001  11  Kevin Kowalcyk   \n",
       "24985     January 2004  22  Vincent Palmer   \n",
       "27458       March 2005   1   Barry Stigler   \n",
       "34077        July 2007  11     Nana Gualdi   \n",
       "64769   September 2013  29   Scott Workman   \n",
       "106613  September 2019  12   Thami Shobede   \n",
       "\n",
       "                                                                        info  \\\n",
       "18937   , 2, known for eating a hamburger contaminated with E. coli O157:H7.   \n",
       "24985                                                , 37, British criminal.   \n",
       "27458                                            , 57, American voice actor.   \n",
       "34077                                       , 75, German singer and actress.   \n",
       "64769                                , 47, American stuntman (, , ), cancer.   \n",
       "106613                                               , 31, Singer Songwriter   \n",
       "\n",
       "                                link num_references  \n",
       "18937   https://en.wikipedia.orgNone              0  \n",
       "24985   https://en.wikipedia.orgNone              0  \n",
       "27458   https://en.wikipedia.orgNone              0  \n",
       "34077   https://en.wikipedia.orgNone              0  \n",
       "64769   https://en.wikipedia.orgNone              0  \n",
       "106613  https://en.wikipedia.orgNone              0  "
      ]
     },
     "execution_count": 10,
     "metadata": {},
     "output_type": "execute_result"
    },
    {
     "data": {
      "application/javascript": [
       "\n",
       "            setTimeout(function() {\n",
       "                var nbb_cell_id = 10;\n",
       "                var nbb_unformatted_code = \"# For loop to copy name value from info value and remove name from info value\\ntreat_rows = missing_name.index\\nfor i in treat_rows:\\n    info = df.loc[i, \\\"info\\\"]\\n    info_lst = info.split(sep=\\\",\\\", maxsplit=1)\\n\\n    name = info_lst[0].strip()\\n    df.loc[i, \\\"name\\\"] = name\\n    df.loc[i, \\\"info\\\"] = re.sub(name, \\\"\\\", info).strip()\\n\\n# Re-check rows\\ndf.loc[treat_rows, :]\";\n",
       "                var nbb_formatted_code = \"# For loop to copy name value from info value and remove name from info value\\ntreat_rows = missing_name.index\\nfor i in treat_rows:\\n    info = df.loc[i, \\\"info\\\"]\\n    info_lst = info.split(sep=\\\",\\\", maxsplit=1)\\n\\n    name = info_lst[0].strip()\\n    df.loc[i, \\\"name\\\"] = name\\n    df.loc[i, \\\"info\\\"] = re.sub(name, \\\"\\\", info).strip()\\n\\n# Re-check rows\\ndf.loc[treat_rows, :]\";\n",
       "                var nbb_cells = Jupyter.notebook.get_cells();\n",
       "                for (var i = 0; i < nbb_cells.length; ++i) {\n",
       "                    if (nbb_cells[i].input_prompt_number == nbb_cell_id) {\n",
       "                        if (nbb_cells[i].get_text() == nbb_unformatted_code) {\n",
       "                             nbb_cells[i].set_text(nbb_formatted_code);\n",
       "                        }\n",
       "                        break;\n",
       "                    }\n",
       "                }\n",
       "            }, 500);\n",
       "            "
      ],
      "text/plain": [
       "<IPython.core.display.Javascript object>"
      ]
     },
     "metadata": {},
     "output_type": "display_data"
    }
   ],
   "source": [
    "# For loop to copy name value from info value and remove name from info value\n",
    "treat_rows = missing_name.index\n",
    "for i in treat_rows:\n",
    "    info = df.loc[i, \"info\"]\n",
    "    info_lst = info.split(sep=\",\", maxsplit=1)\n",
    "\n",
    "    name = info_lst[0].strip()\n",
    "    df.loc[i, \"name\"] = name\n",
    "    df.loc[i, \"info\"] = re.sub(name, \"\", info).strip()\n",
    "\n",
    "# Re-check rows\n",
    "df.loc[treat_rows, :]"
   ]
  },
  {
   "cell_type": "markdown",
   "id": "bb913aec",
   "metadata": {},
   "source": [
    "#### Observations:\n",
    "- Missing `name` values have been addressed and those names have been removed from `info` values.\n",
    "- Now, we can check for any duplicate links (aside from the 6 above) and remove entries that have duplicate links."
   ]
  },
  {
   "cell_type": "code",
   "execution_count": 11,
   "id": "b7ffb247",
   "metadata": {},
   "outputs": [
    {
     "name": "stdout",
     "output_type": "stream",
     "text": [
      "There are 125 individuals with repeated links.\n"
     ]
    },
    {
     "data": {
      "text/html": [
       "<div>\n",
       "<style scoped>\n",
       "    .dataframe tbody tr th:only-of-type {\n",
       "        vertical-align: middle;\n",
       "    }\n",
       "\n",
       "    .dataframe tbody tr th {\n",
       "        vertical-align: top;\n",
       "    }\n",
       "\n",
       "    .dataframe thead th {\n",
       "        text-align: right;\n",
       "    }\n",
       "</style>\n",
       "<table border=\"1\" class=\"dataframe\">\n",
       "  <thead>\n",
       "    <tr style=\"text-align: right;\">\n",
       "      <th></th>\n",
       "      <th>month_year</th>\n",
       "      <th>day</th>\n",
       "      <th>name</th>\n",
       "      <th>info</th>\n",
       "      <th>link</th>\n",
       "      <th>num_references</th>\n",
       "    </tr>\n",
       "  </thead>\n",
       "  <tbody>\n",
       "    <tr>\n",
       "      <th>26165</th>\n",
       "      <td>August 2004</td>\n",
       "      <td>21</td>\n",
       "      <td>Moshe Shamir</td>\n",
       "      <td>, 82, Israeli author, playwright and columnist.</td>\n",
       "      <td>https://en.wikipedia.org/wiki/Moshe_Shamir</td>\n",
       "      <td>4</td>\n",
       "    </tr>\n",
       "    <tr>\n",
       "      <th>65040</th>\n",
       "      <td>October 2013</td>\n",
       "      <td>17</td>\n",
       "      <td>Lou Scheimer</td>\n",
       "      <td>, 84, American television producer (Filmation, ), co-founder of , Parkinson's disease.</td>\n",
       "      <td>https://en.wikipedia.org/wiki/Lou_Scheimer</td>\n",
       "      <td>14</td>\n",
       "    </tr>\n",
       "    <tr>\n",
       "      <th>22711</th>\n",
       "      <td>January 2003</td>\n",
       "      <td>27</td>\n",
       "      <td>Lord Dacre of Glanton</td>\n",
       "      <td>, 89, British historian, authenticator of the hoaxed Hitler Diaries.</td>\n",
       "      <td>https://en.wikipedia.org/wiki/Hugh_Trevor-Roper</td>\n",
       "      <td>73</td>\n",
       "    </tr>\n",
       "    <tr>\n",
       "      <th>17490</th>\n",
       "      <td>January 2001</td>\n",
       "      <td>28</td>\n",
       "      <td>Sally Mansfield</td>\n",
       "      <td>, 80, American actress.</td>\n",
       "      <td>https://en.wikipedia.org/wiki/Sally_Mansfield</td>\n",
       "      <td>3</td>\n",
       "    </tr>\n",
       "    <tr>\n",
       "      <th>26725</th>\n",
       "      <td>November 2004</td>\n",
       "      <td>24</td>\n",
       "      <td>John Tosi</td>\n",
       "      <td>, 88, American football player.</td>\n",
       "      <td>https://en.wikipedia.org/wiki/John_Tosi</td>\n",
       "      <td>15</td>\n",
       "    </tr>\n",
       "  </tbody>\n",
       "</table>\n",
       "</div>"
      ],
      "text/plain": [
       "          month_year day                   name  \\\n",
       "26165    August 2004  21           Moshe Shamir   \n",
       "65040   October 2013  17           Lou Scheimer   \n",
       "22711   January 2003  27  Lord Dacre of Glanton   \n",
       "17490   January 2001  28        Sally Mansfield   \n",
       "26725  November 2004  24              John Tosi   \n",
       "\n",
       "                                                                                         info  \\\n",
       "26165                                         , 82, Israeli author, playwright and columnist.   \n",
       "65040  , 84, American television producer (Filmation, ), co-founder of , Parkinson's disease.   \n",
       "22711                    , 89, British historian, authenticator of the hoaxed Hitler Diaries.   \n",
       "17490                                                                 , 80, American actress.   \n",
       "26725                                                         , 88, American football player.   \n",
       "\n",
       "                                                  link num_references  \n",
       "26165       https://en.wikipedia.org/wiki/Moshe_Shamir              4  \n",
       "65040       https://en.wikipedia.org/wiki/Lou_Scheimer             14  \n",
       "22711  https://en.wikipedia.org/wiki/Hugh_Trevor-Roper             73  \n",
       "17490    https://en.wikipedia.org/wiki/Sally_Mansfield              3  \n",
       "26725          https://en.wikipedia.org/wiki/John_Tosi             15  "
      ]
     },
     "execution_count": 11,
     "metadata": {},
     "output_type": "execute_result"
    },
    {
     "data": {
      "application/javascript": [
       "\n",
       "            setTimeout(function() {\n",
       "                var nbb_cell_id = 11;\n",
       "                var nbb_unformatted_code = \"# Checking number and sample of rows with duplicate links\\nrows_to_check = df[\\n    (df[\\\"link\\\"].duplicated()) & (df[\\\"link\\\"] != \\\"https://en.wikipedia.orgNone\\\")\\n].index\\nprint(f\\\"There are {len(df.loc[rows_to_check, :])} individuals with repeated links.\\\")\\n\\n# Checking a sample of rows\\ndf.loc[rows_to_check, :].sample(5)\";\n",
       "                var nbb_formatted_code = \"# Checking number and sample of rows with duplicate links\\nrows_to_check = df[\\n    (df[\\\"link\\\"].duplicated()) & (df[\\\"link\\\"] != \\\"https://en.wikipedia.orgNone\\\")\\n].index\\nprint(f\\\"There are {len(df.loc[rows_to_check, :])} individuals with repeated links.\\\")\\n\\n# Checking a sample of rows\\ndf.loc[rows_to_check, :].sample(5)\";\n",
       "                var nbb_cells = Jupyter.notebook.get_cells();\n",
       "                for (var i = 0; i < nbb_cells.length; ++i) {\n",
       "                    if (nbb_cells[i].input_prompt_number == nbb_cell_id) {\n",
       "                        if (nbb_cells[i].get_text() == nbb_unformatted_code) {\n",
       "                             nbb_cells[i].set_text(nbb_formatted_code);\n",
       "                        }\n",
       "                        break;\n",
       "                    }\n",
       "                }\n",
       "            }, 500);\n",
       "            "
      ],
      "text/plain": [
       "<IPython.core.display.Javascript object>"
      ]
     },
     "metadata": {},
     "output_type": "display_data"
    }
   ],
   "source": [
    "# Checking number and sample of rows with duplicate links\n",
    "rows_to_check = df[\n",
    "    (df[\"link\"].duplicated()) & (df[\"link\"] != \"https://en.wikipedia.orgNone\")\n",
    "].index\n",
    "print(f\"There are {len(df.loc[rows_to_check, :])} individuals with repeated links.\")\n",
    "\n",
    "# Checking a sample of rows\n",
    "df.loc[rows_to_check, :].sample(5)"
   ]
  },
  {
   "cell_type": "markdown",
   "id": "23d240a1",
   "metadata": {},
   "source": [
    "#### Observations:\n",
    "- There are 125 individuals with more than one entry.\n",
    "- Let us take a look at an example."
   ]
  },
  {
   "cell_type": "code",
   "execution_count": 13,
   "id": "98db7247",
   "metadata": {},
   "outputs": [
    {
     "data": {
      "text/html": [
       "<div>\n",
       "<style scoped>\n",
       "    .dataframe tbody tr th:only-of-type {\n",
       "        vertical-align: middle;\n",
       "    }\n",
       "\n",
       "    .dataframe tbody tr th {\n",
       "        vertical-align: top;\n",
       "    }\n",
       "\n",
       "    .dataframe thead th {\n",
       "        text-align: right;\n",
       "    }\n",
       "</style>\n",
       "<table border=\"1\" class=\"dataframe\">\n",
       "  <thead>\n",
       "    <tr style=\"text-align: right;\">\n",
       "      <th></th>\n",
       "      <th>month_year</th>\n",
       "      <th>day</th>\n",
       "      <th>name</th>\n",
       "      <th>info</th>\n",
       "      <th>link</th>\n",
       "      <th>num_references</th>\n",
       "    </tr>\n",
       "  </thead>\n",
       "  <tbody>\n",
       "    <tr>\n",
       "      <th>17479</th>\n",
       "      <td>January 2001</td>\n",
       "      <td>27</td>\n",
       "      <td>Sally Mansfield</td>\n",
       "      <td>, 77, American actress, lung cancer.</td>\n",
       "      <td>https://en.wikipedia.org/wiki/Sally_Mansfield</td>\n",
       "      <td>3</td>\n",
       "    </tr>\n",
       "    <tr>\n",
       "      <th>17490</th>\n",
       "      <td>January 2001</td>\n",
       "      <td>28</td>\n",
       "      <td>Sally Mansfield</td>\n",
       "      <td>, 80, American actress.</td>\n",
       "      <td>https://en.wikipedia.org/wiki/Sally_Mansfield</td>\n",
       "      <td>3</td>\n",
       "    </tr>\n",
       "  </tbody>\n",
       "</table>\n",
       "</div>"
      ],
      "text/plain": [
       "         month_year day             name  \\\n",
       "17479  January 2001  27  Sally Mansfield   \n",
       "17490  January 2001  28  Sally Mansfield   \n",
       "\n",
       "                                       info  \\\n",
       "17479  , 77, American actress, lung cancer.   \n",
       "17490               , 80, American actress.   \n",
       "\n",
       "                                                link num_references  \n",
       "17479  https://en.wikipedia.org/wiki/Sally_Mansfield              3  \n",
       "17490  https://en.wikipedia.org/wiki/Sally_Mansfield              3  "
      ]
     },
     "execution_count": 13,
     "metadata": {},
     "output_type": "execute_result"
    },
    {
     "data": {
      "application/javascript": [
       "\n",
       "            setTimeout(function() {\n",
       "                var nbb_cell_id = 13;\n",
       "                var nbb_unformatted_code = \"# Checking an example of an individual with duplicate entries\\ndf[df[\\\"link\\\"] == \\\"https://en.wikipedia.org/wiki/Sally_Mansfield\\\"]\";\n",
       "                var nbb_formatted_code = \"# Checking an example of an individual with duplicate entries\\ndf[df[\\\"link\\\"] == \\\"https://en.wikipedia.org/wiki/Sally_Mansfield\\\"]\";\n",
       "                var nbb_cells = Jupyter.notebook.get_cells();\n",
       "                for (var i = 0; i < nbb_cells.length; ++i) {\n",
       "                    if (nbb_cells[i].input_prompt_number == nbb_cell_id) {\n",
       "                        if (nbb_cells[i].get_text() == nbb_unformatted_code) {\n",
       "                             nbb_cells[i].set_text(nbb_formatted_code);\n",
       "                        }\n",
       "                        break;\n",
       "                    }\n",
       "                }\n",
       "            }, 500);\n",
       "            "
      ],
      "text/plain": [
       "<IPython.core.display.Javascript object>"
      ]
     },
     "metadata": {},
     "output_type": "display_data"
    }
   ],
   "source": [
    "# Checking an example of an individual with duplicate entries\n",
    "df[df[\"link\"] == \"https://en.wikipedia.org/wiki/Sally_Mansfield\"]"
   ]
  },
  {
   "cell_type": "markdown",
   "id": "824b65fe",
   "metadata": {},
   "source": [
    "#### Observations:\n",
    "- We can see that the duplication is a result of the death being entered twice, on two different days, on Wikipedia.\n",
    "- It is also possible that some links appear more than once as they point to a page for an event or different associated person, but we will err on the side of avoiding repeating entries for one individual.\n",
    "- For entries with duplicate links, we will opt to keep the first entry and drop the others."
   ]
  },
  {
   "cell_type": "markdown",
   "id": "7a4e92df",
   "metadata": {},
   "source": [
    "#### Dropping Duplicate Rows for Entries with Duplicate `link`"
   ]
  },
  {
   "cell_type": "code",
   "execution_count": 14,
   "id": "afaac38b",
   "metadata": {},
   "outputs": [
    {
     "data": {
      "text/plain": [
       "(133775, 6)"
      ]
     },
     "execution_count": 14,
     "metadata": {},
     "output_type": "execute_result"
    },
    {
     "data": {
      "application/javascript": [
       "\n",
       "            setTimeout(function() {\n",
       "                var nbb_cell_id = 14;\n",
       "                var nbb_unformatted_code = \"# Dropping duplicate rows for entries for entries with duplicate link values\\nrows_to_drop = rows_to_check.copy()\\ndf.drop(rows_to_drop, inplace=True)\\ndf.reset_index(inplace=True, drop=True)\\ndf.shape\";\n",
       "                var nbb_formatted_code = \"# Dropping duplicate rows for entries for entries with duplicate link values\\nrows_to_drop = rows_to_check.copy()\\ndf.drop(rows_to_drop, inplace=True)\\ndf.reset_index(inplace=True, drop=True)\\ndf.shape\";\n",
       "                var nbb_cells = Jupyter.notebook.get_cells();\n",
       "                for (var i = 0; i < nbb_cells.length; ++i) {\n",
       "                    if (nbb_cells[i].input_prompt_number == nbb_cell_id) {\n",
       "                        if (nbb_cells[i].get_text() == nbb_unformatted_code) {\n",
       "                             nbb_cells[i].set_text(nbb_formatted_code);\n",
       "                        }\n",
       "                        break;\n",
       "                    }\n",
       "                }\n",
       "            }, 500);\n",
       "            "
      ],
      "text/plain": [
       "<IPython.core.display.Javascript object>"
      ]
     },
     "metadata": {},
     "output_type": "display_data"
    }
   ],
   "source": [
    "# Dropping duplicate rows for entries for entries with duplicate link values\n",
    "rows_to_drop = rows_to_check.copy()\n",
    "df.drop(rows_to_drop, inplace=True)\n",
    "df.reset_index(inplace=True, drop=True)\n",
    "df.shape"
   ]
  },
  {
   "cell_type": "code",
   "execution_count": 15,
   "id": "1d574e67",
   "metadata": {},
   "outputs": [
    {
     "name": "stdout",
     "output_type": "stream",
     "text": [
      "<class 'pandas.core.frame.DataFrame'>\n",
      "RangeIndex: 133775 entries, 0 to 133774\n",
      "Data columns (total 6 columns):\n",
      " #   Column          Non-Null Count   Dtype \n",
      "---  ------          --------------   ----- \n",
      " 0   month_year      133775 non-null  object\n",
      " 1   day             133775 non-null  object\n",
      " 2   name            133775 non-null  object\n",
      " 3   info            133775 non-null  object\n",
      " 4   link            133775 non-null  object\n",
      " 5   num_references  133775 non-null  object\n",
      "dtypes: object(6)\n",
      "memory usage: 6.1+ MB\n"
     ]
    },
    {
     "data": {
      "application/javascript": [
       "\n",
       "            setTimeout(function() {\n",
       "                var nbb_cell_id = 15;\n",
       "                var nbb_unformatted_code = \"# Re-check info\\ndf.info()\";\n",
       "                var nbb_formatted_code = \"# Re-check info\\ndf.info()\";\n",
       "                var nbb_cells = Jupyter.notebook.get_cells();\n",
       "                for (var i = 0; i < nbb_cells.length; ++i) {\n",
       "                    if (nbb_cells[i].input_prompt_number == nbb_cell_id) {\n",
       "                        if (nbb_cells[i].get_text() == nbb_unformatted_code) {\n",
       "                             nbb_cells[i].set_text(nbb_formatted_code);\n",
       "                        }\n",
       "                        break;\n",
       "                    }\n",
       "                }\n",
       "            }, 500);\n",
       "            "
      ],
      "text/plain": [
       "<IPython.core.display.Javascript object>"
      ]
     },
     "metadata": {},
     "output_type": "display_data"
    }
   ],
   "source": [
    "# Re-check info\n",
    "df.info()"
   ]
  },
  {
   "cell_type": "markdown",
   "id": "6cccf358",
   "metadata": {},
   "source": [
    "#### Observations:\n",
    "- We have no remaining missing values for the existing columns and the rows with duplicate `link` values have been dropped.\n",
    "- Let us treat the `month_year` column next, by separating into two new columns `year` and `month`."
   ]
  },
  {
   "cell_type": "markdown",
   "id": "38e39753",
   "metadata": {},
   "source": [
    "### Separating `month_year` into `month` and `year` and Dropping `month_year`"
   ]
  },
  {
   "cell_type": "code",
   "execution_count": 16,
   "id": "c2613d35",
   "metadata": {},
   "outputs": [
    {
     "data": {
      "text/html": [
       "<div>\n",
       "<style scoped>\n",
       "    .dataframe tbody tr th:only-of-type {\n",
       "        vertical-align: middle;\n",
       "    }\n",
       "\n",
       "    .dataframe tbody tr th {\n",
       "        vertical-align: top;\n",
       "    }\n",
       "\n",
       "    .dataframe thead th {\n",
       "        text-align: right;\n",
       "    }\n",
       "</style>\n",
       "<table border=\"1\" class=\"dataframe\">\n",
       "  <thead>\n",
       "    <tr style=\"text-align: right;\">\n",
       "      <th></th>\n",
       "      <th>month_year</th>\n",
       "      <th>day</th>\n",
       "      <th>name</th>\n",
       "      <th>info</th>\n",
       "      <th>link</th>\n",
       "      <th>num_references</th>\n",
       "      <th>year</th>\n",
       "      <th>month</th>\n",
       "    </tr>\n",
       "  </thead>\n",
       "  <tbody>\n",
       "    <tr>\n",
       "      <th>0</th>\n",
       "      <td>January 1994</td>\n",
       "      <td>1</td>\n",
       "      <td>William Chappell</td>\n",
       "      <td>, 86, British dancer, ballet designer and director.</td>\n",
       "      <td>https://en.wikipedia.org/wiki/William_Chappell_(dancer)</td>\n",
       "      <td>21</td>\n",
       "      <td>1994</td>\n",
       "      <td>January</td>\n",
       "    </tr>\n",
       "    <tr>\n",
       "      <th>1</th>\n",
       "      <td>January 1994</td>\n",
       "      <td>1</td>\n",
       "      <td>Raymond Crotty</td>\n",
       "      <td>, 68, Irish economist, writer, and academic.</td>\n",
       "      <td>https://en.wikipedia.org/wiki/Raymond_Crotty</td>\n",
       "      <td>12</td>\n",
       "      <td>1994</td>\n",
       "      <td>January</td>\n",
       "    </tr>\n",
       "  </tbody>\n",
       "</table>\n",
       "</div>"
      ],
      "text/plain": [
       "     month_year day              name  \\\n",
       "0  January 1994   1  William Chappell   \n",
       "1  January 1994   1    Raymond Crotty   \n",
       "\n",
       "                                                  info  \\\n",
       "0  , 86, British dancer, ballet designer and director.   \n",
       "1         , 68, Irish economist, writer, and academic.   \n",
       "\n",
       "                                                      link num_references  \\\n",
       "0  https://en.wikipedia.org/wiki/William_Chappell_(dancer)             21   \n",
       "1             https://en.wikipedia.org/wiki/Raymond_Crotty             12   \n",
       "\n",
       "   year    month  \n",
       "0  1994  January  \n",
       "1  1994  January  "
      ]
     },
     "execution_count": 16,
     "metadata": {},
     "output_type": "execute_result"
    },
    {
     "data": {
      "application/javascript": [
       "\n",
       "            setTimeout(function() {\n",
       "                var nbb_cell_id = 16;\n",
       "                var nbb_unformatted_code = \"# Separating month and year into 2 columns and typecasting year as integer\\ndf.loc[:, \\\"year\\\"] = df[\\\"month_year\\\"].apply(lambda x: x.split(sep=\\\" \\\")[1].strip())\\ndf[\\\"year\\\"] = df[\\\"year\\\"].apply(lambda x: int(x))\\n\\ndf.loc[:, \\\"month\\\"] = df[\\\"month_year\\\"].apply(lambda x: x.split(sep=\\\" \\\")[0])\\ndf.head(2)\";\n",
       "                var nbb_formatted_code = \"# Separating month and year into 2 columns and typecasting year as integer\\ndf.loc[:, \\\"year\\\"] = df[\\\"month_year\\\"].apply(lambda x: x.split(sep=\\\" \\\")[1].strip())\\ndf[\\\"year\\\"] = df[\\\"year\\\"].apply(lambda x: int(x))\\n\\ndf.loc[:, \\\"month\\\"] = df[\\\"month_year\\\"].apply(lambda x: x.split(sep=\\\" \\\")[0])\\ndf.head(2)\";\n",
       "                var nbb_cells = Jupyter.notebook.get_cells();\n",
       "                for (var i = 0; i < nbb_cells.length; ++i) {\n",
       "                    if (nbb_cells[i].input_prompt_number == nbb_cell_id) {\n",
       "                        if (nbb_cells[i].get_text() == nbb_unformatted_code) {\n",
       "                             nbb_cells[i].set_text(nbb_formatted_code);\n",
       "                        }\n",
       "                        break;\n",
       "                    }\n",
       "                }\n",
       "            }, 500);\n",
       "            "
      ],
      "text/plain": [
       "<IPython.core.display.Javascript object>"
      ]
     },
     "metadata": {},
     "output_type": "display_data"
    }
   ],
   "source": [
    "# Separating month and year into 2 columns and typecasting year as integer\n",
    "df.loc[:, \"year\"] = df[\"month_year\"].apply(lambda x: x.split(sep=\" \")[1].strip())\n",
    "df[\"year\"] = df[\"year\"].apply(lambda x: int(x))\n",
    "\n",
    "df.loc[:, \"month\"] = df[\"month_year\"].apply(lambda x: x.split(sep=\" \")[0])\n",
    "df.head(2)"
   ]
  },
  {
   "cell_type": "code",
   "execution_count": 17,
   "id": "6426bb65",
   "metadata": {},
   "outputs": [
    {
     "data": {
      "text/html": [
       "<div>\n",
       "<style scoped>\n",
       "    .dataframe tbody tr th:only-of-type {\n",
       "        vertical-align: middle;\n",
       "    }\n",
       "\n",
       "    .dataframe tbody tr th {\n",
       "        vertical-align: top;\n",
       "    }\n",
       "\n",
       "    .dataframe thead th {\n",
       "        text-align: right;\n",
       "    }\n",
       "</style>\n",
       "<table border=\"1\" class=\"dataframe\">\n",
       "  <thead>\n",
       "    <tr style=\"text-align: right;\">\n",
       "      <th></th>\n",
       "      <th>day</th>\n",
       "      <th>name</th>\n",
       "      <th>info</th>\n",
       "      <th>link</th>\n",
       "      <th>num_references</th>\n",
       "      <th>year</th>\n",
       "      <th>month</th>\n",
       "    </tr>\n",
       "  </thead>\n",
       "  <tbody>\n",
       "    <tr>\n",
       "      <th>0</th>\n",
       "      <td>1</td>\n",
       "      <td>William Chappell</td>\n",
       "      <td>, 86, British dancer, ballet designer and director.</td>\n",
       "      <td>https://en.wikipedia.org/wiki/William_Chappell_(dancer)</td>\n",
       "      <td>21</td>\n",
       "      <td>1994</td>\n",
       "      <td>January</td>\n",
       "    </tr>\n",
       "    <tr>\n",
       "      <th>1</th>\n",
       "      <td>1</td>\n",
       "      <td>Raymond Crotty</td>\n",
       "      <td>, 68, Irish economist, writer, and academic.</td>\n",
       "      <td>https://en.wikipedia.org/wiki/Raymond_Crotty</td>\n",
       "      <td>12</td>\n",
       "      <td>1994</td>\n",
       "      <td>January</td>\n",
       "    </tr>\n",
       "  </tbody>\n",
       "</table>\n",
       "</div>"
      ],
      "text/plain": [
       "  day              name                                                 info  \\\n",
       "0   1  William Chappell  , 86, British dancer, ballet designer and director.   \n",
       "1   1    Raymond Crotty         , 68, Irish economist, writer, and academic.   \n",
       "\n",
       "                                                      link num_references  \\\n",
       "0  https://en.wikipedia.org/wiki/William_Chappell_(dancer)             21   \n",
       "1             https://en.wikipedia.org/wiki/Raymond_Crotty             12   \n",
       "\n",
       "   year    month  \n",
       "0  1994  January  \n",
       "1  1994  January  "
      ]
     },
     "execution_count": 17,
     "metadata": {},
     "output_type": "execute_result"
    },
    {
     "data": {
      "application/javascript": [
       "\n",
       "            setTimeout(function() {\n",
       "                var nbb_cell_id = 17;\n",
       "                var nbb_unformatted_code = \"# Dropping month_year column\\ndf.drop(\\\"month_year\\\", axis=1, inplace=True)\\ndf.head(2)\";\n",
       "                var nbb_formatted_code = \"# Dropping month_year column\\ndf.drop(\\\"month_year\\\", axis=1, inplace=True)\\ndf.head(2)\";\n",
       "                var nbb_cells = Jupyter.notebook.get_cells();\n",
       "                for (var i = 0; i < nbb_cells.length; ++i) {\n",
       "                    if (nbb_cells[i].input_prompt_number == nbb_cell_id) {\n",
       "                        if (nbb_cells[i].get_text() == nbb_unformatted_code) {\n",
       "                             nbb_cells[i].set_text(nbb_formatted_code);\n",
       "                        }\n",
       "                        break;\n",
       "                    }\n",
       "                }\n",
       "            }, 500);\n",
       "            "
      ],
      "text/plain": [
       "<IPython.core.display.Javascript object>"
      ]
     },
     "metadata": {},
     "output_type": "display_data"
    }
   ],
   "source": [
    "# Dropping month_year column\n",
    "df.drop(\"month_year\", axis=1, inplace=True)\n",
    "df.head(2)"
   ]
  },
  {
   "cell_type": "markdown",
   "id": "8c7b3704",
   "metadata": {},
   "source": [
    "#### Observations:\n",
    "- With `month` and `year` separated, we can move on to treating the `info` column."
   ]
  },
  {
   "cell_type": "markdown",
   "id": "dd501ca7",
   "metadata": {},
   "source": [
    "### Treating `info`\n",
    "First, we will define two functions to help identify rows that match a given regular expression pattern or list of patterns.  Then, we will start by examining the `info` column in a sample of the dataset."
   ]
  },
  {
   "cell_type": "markdown",
   "id": "05989645",
   "metadata": {},
   "source": [
    "#### Function to Save Indices of Rows Matching Regular Expressions Pattern to a List and Print Number of Rows with Match"
   ]
  },
  {
   "cell_type": "code",
   "execution_count": 18,
   "id": "3513359b",
   "metadata": {},
   "outputs": [
    {
     "data": {
      "application/javascript": [
       "\n",
       "            setTimeout(function() {\n",
       "                var nbb_cell_id = 18;\n",
       "                var nbb_unformatted_code = \"# Define a function that takes dataframe, column name, and re pattern as arguments and returns list of indices\\n# for which column value matches re pattern\\ndef rows_with_pattern(dataframe, column, pattern):\\n    \\\"\\\"\\\"\\n    Takes input of dataframe, column name, and re pattern \\n    and returns list of indices for rows that contain match\\n    for pattern anywhere within value for given column.\\n    \\n    dataframe: dataframe\\n    column: column name\\n    pattern: re pattern\\n    \\\"\\\"\\\"\\n    index_list = []\\n\\n    for i in dataframe.index:\\n        item = dataframe.loc[i, column]\\n        match = re.search(pattern, item)\\n        if match:\\n            index_list.append(i)\\n    print(\\n        f\\\"There are {len(index_list)} rows with matching pattern in column '{column}'.\\\"\\n    )\\n    return index_list\";\n",
       "                var nbb_formatted_code = \"# Define a function that takes dataframe, column name, and re pattern as arguments and returns list of indices\\n# for which column value matches re pattern\\ndef rows_with_pattern(dataframe, column, pattern):\\n    \\\"\\\"\\\"\\n    Takes input of dataframe, column name, and re pattern \\n    and returns list of indices for rows that contain match\\n    for pattern anywhere within value for given column.\\n    \\n    dataframe: dataframe\\n    column: column name\\n    pattern: re pattern\\n    \\\"\\\"\\\"\\n    index_list = []\\n\\n    for i in dataframe.index:\\n        item = dataframe.loc[i, column]\\n        match = re.search(pattern, item)\\n        if match:\\n            index_list.append(i)\\n    print(\\n        f\\\"There are {len(index_list)} rows with matching pattern in column '{column}'.\\\"\\n    )\\n    return index_list\";\n",
       "                var nbb_cells = Jupyter.notebook.get_cells();\n",
       "                for (var i = 0; i < nbb_cells.length; ++i) {\n",
       "                    if (nbb_cells[i].input_prompt_number == nbb_cell_id) {\n",
       "                        if (nbb_cells[i].get_text() == nbb_unformatted_code) {\n",
       "                             nbb_cells[i].set_text(nbb_formatted_code);\n",
       "                        }\n",
       "                        break;\n",
       "                    }\n",
       "                }\n",
       "            }, 500);\n",
       "            "
      ],
      "text/plain": [
       "<IPython.core.display.Javascript object>"
      ]
     },
     "metadata": {},
     "output_type": "display_data"
    }
   ],
   "source": [
    "# Define a function that takes dataframe, column name, and re pattern as arguments and returns list of indices\n",
    "# for which column value matches re pattern\n",
    "def rows_with_pattern(dataframe, column, pattern):\n",
    "    \"\"\"\n",
    "    Takes input of dataframe, column name, and re pattern \n",
    "    and returns list of indices for rows that contain match\n",
    "    for pattern anywhere within value for given column.\n",
    "    \n",
    "    dataframe: dataframe\n",
    "    column: column name\n",
    "    pattern: re pattern\n",
    "    \"\"\"\n",
    "    index_list = []\n",
    "\n",
    "    for i in dataframe.index:\n",
    "        item = dataframe.loc[i, column]\n",
    "        match = re.search(pattern, item)\n",
    "        if match:\n",
    "            index_list.append(i)\n",
    "    print(\n",
    "        f\"There are {len(index_list)} rows with matching pattern in column '{column}'.\"\n",
    "    )\n",
    "    return index_list"
   ]
  },
  {
   "cell_type": "markdown",
   "id": "9999fc98",
   "metadata": {},
   "source": [
    "#### Function to Use rows_with_pattern Function for Multiple Regular Expression Patterns"
   ]
  },
  {
   "cell_type": "code",
   "execution_count": 19,
   "id": "7012c3cf",
   "metadata": {},
   "outputs": [
    {
     "data": {
      "application/javascript": [
       "\n",
       "            setTimeout(function() {\n",
       "                var nbb_cell_id = 19;\n",
       "                var nbb_unformatted_code = \"# Define a function that calls rows_with_pattern function for multiple re patterns\\n# returning a single list of indices for all rows with any pattern match\\n\\n\\ndef multiple_patterns(dataframe, column, patterns):\\n    \\\"\\\"\\\"\\n    Takes input dataframe, column, and list of re patterns and returns single list \\n    of indices for rows in which a match for any pattern is found with re.search\\n    \\n    dataframe: dataframe\\n    column: column name\\n    patterns: list of re patterns\\n    \\\"\\\"\\\"\\n    rows_combined = []\\n\\n    # For loop to check each pattern\\n    for pattern in patterns:\\n\\n        # List and number of rows matching each pattern\\n        print(pattern)\\n        rows_to_check = rows_with_pattern(dataframe, column, pattern)\\n        print(\\\"\\\")\\n\\n        # Add list for each pattern to combined list\\n        rows_combined += rows_to_check\\n\\n    return rows_combined\";\n",
       "                var nbb_formatted_code = \"# Define a function that calls rows_with_pattern function for multiple re patterns\\n# returning a single list of indices for all rows with any pattern match\\n\\n\\ndef multiple_patterns(dataframe, column, patterns):\\n    \\\"\\\"\\\"\\n    Takes input dataframe, column, and list of re patterns and returns single list \\n    of indices for rows in which a match for any pattern is found with re.search\\n    \\n    dataframe: dataframe\\n    column: column name\\n    patterns: list of re patterns\\n    \\\"\\\"\\\"\\n    rows_combined = []\\n\\n    # For loop to check each pattern\\n    for pattern in patterns:\\n\\n        # List and number of rows matching each pattern\\n        print(pattern)\\n        rows_to_check = rows_with_pattern(dataframe, column, pattern)\\n        print(\\\"\\\")\\n\\n        # Add list for each pattern to combined list\\n        rows_combined += rows_to_check\\n\\n    return rows_combined\";\n",
       "                var nbb_cells = Jupyter.notebook.get_cells();\n",
       "                for (var i = 0; i < nbb_cells.length; ++i) {\n",
       "                    if (nbb_cells[i].input_prompt_number == nbb_cell_id) {\n",
       "                        if (nbb_cells[i].get_text() == nbb_unformatted_code) {\n",
       "                             nbb_cells[i].set_text(nbb_formatted_code);\n",
       "                        }\n",
       "                        break;\n",
       "                    }\n",
       "                }\n",
       "            }, 500);\n",
       "            "
      ],
      "text/plain": [
       "<IPython.core.display.Javascript object>"
      ]
     },
     "metadata": {},
     "output_type": "display_data"
    }
   ],
   "source": [
    "# Define a function that calls rows_with_pattern function for multiple re patterns\n",
    "# returning a single list of indices for all rows with any pattern match\n",
    "\n",
    "\n",
    "def multiple_patterns(dataframe, column, patterns):\n",
    "    \"\"\"\n",
    "    Takes input dataframe, column, and list of re patterns and returns single list \n",
    "    of indices for rows in which a match for any pattern is found with re.search\n",
    "    \n",
    "    dataframe: dataframe\n",
    "    column: column name\n",
    "    patterns: list of re patterns\n",
    "    \"\"\"\n",
    "    rows_combined = []\n",
    "\n",
    "    # For loop to check each pattern\n",
    "    for pattern in patterns:\n",
    "\n",
    "        # List and number of rows matching each pattern\n",
    "        print(pattern)\n",
    "        rows_to_check = rows_with_pattern(dataframe, column, pattern)\n",
    "        print(\"\")\n",
    "\n",
    "        # Add list for each pattern to combined list\n",
    "        rows_combined += rows_to_check\n",
    "\n",
    "    return rows_combined"
   ]
  },
  {
   "cell_type": "markdown",
   "id": "59edd68c",
   "metadata": {},
   "source": [
    "#### Checking a Sample"
   ]
  },
  {
   "cell_type": "code",
   "execution_count": 20,
   "id": "a5c7e5aa",
   "metadata": {},
   "outputs": [
    {
     "data": {
      "text/html": [
       "<div>\n",
       "<style scoped>\n",
       "    .dataframe tbody tr th:only-of-type {\n",
       "        vertical-align: middle;\n",
       "    }\n",
       "\n",
       "    .dataframe tbody tr th {\n",
       "        vertical-align: top;\n",
       "    }\n",
       "\n",
       "    .dataframe thead th {\n",
       "        text-align: right;\n",
       "    }\n",
       "</style>\n",
       "<table border=\"1\" class=\"dataframe\">\n",
       "  <thead>\n",
       "    <tr style=\"text-align: right;\">\n",
       "      <th></th>\n",
       "      <th>day</th>\n",
       "      <th>name</th>\n",
       "      <th>info</th>\n",
       "      <th>link</th>\n",
       "      <th>num_references</th>\n",
       "      <th>year</th>\n",
       "      <th>month</th>\n",
       "    </tr>\n",
       "  </thead>\n",
       "  <tbody>\n",
       "    <tr>\n",
       "      <th>109780</th>\n",
       "      <td>11</td>\n",
       "      <td>Jacques Mehler</td>\n",
       "      <td>, 83, French cognitive psychologist.</td>\n",
       "      <td>https://en.wikipedia.org/wiki/Jacques_Mehler</td>\n",
       "      <td>8</td>\n",
       "      <td>2020</td>\n",
       "      <td>February</td>\n",
       "    </tr>\n",
       "    <tr>\n",
       "      <th>3</th>\n",
       "      <td>1</td>\n",
       "      <td>Arthur Porritt, Baron Porritt</td>\n",
       "      <td>, 93, New Zealand physician, statesman and athlete.</td>\n",
       "      <td>https://en.wikipedia.org/wiki/Arthur_Porritt,_Baron_Porritt</td>\n",
       "      <td>25</td>\n",
       "      <td>1994</td>\n",
       "      <td>January</td>\n",
       "    </tr>\n",
       "    <tr>\n",
       "      <th>11415</th>\n",
       "      <td>12</td>\n",
       "      <td>Graham Shaw</td>\n",
       "      <td>, 63, English footbal player.</td>\n",
       "      <td>https://en.wikipedia.org/wiki/Graham_Shaw_(footballer,_born_1934)</td>\n",
       "      <td>1</td>\n",
       "      <td>1998</td>\n",
       "      <td>May</td>\n",
       "    </tr>\n",
       "    <tr>\n",
       "      <th>67301</th>\n",
       "      <td>16</td>\n",
       "      <td>Robert J. Conley</td>\n",
       "      <td>, 73, American Cherokee author.</td>\n",
       "      <td>https://en.wikipedia.org/wiki/Robert_J._Conley</td>\n",
       "      <td>4</td>\n",
       "      <td>2014</td>\n",
       "      <td>February</td>\n",
       "    </tr>\n",
       "    <tr>\n",
       "      <th>65473</th>\n",
       "      <td>17</td>\n",
       "      <td>Zeke Bella</td>\n",
       "      <td>, 83, American baseball player (New York Yankees, Kansas City Athletics), complications from stroke and fall.</td>\n",
       "      <td>https://en.wikipedia.org/wiki/Zeke_Bella</td>\n",
       "      <td>8</td>\n",
       "      <td>2013</td>\n",
       "      <td>November</td>\n",
       "    </tr>\n",
       "  </tbody>\n",
       "</table>\n",
       "</div>"
      ],
      "text/plain": [
       "       day                           name  \\\n",
       "109780  11                 Jacques Mehler   \n",
       "3        1  Arthur Porritt, Baron Porritt   \n",
       "11415   12                    Graham Shaw   \n",
       "67301   16               Robert J. Conley   \n",
       "65473   17                     Zeke Bella   \n",
       "\n",
       "                                                                                                                 info  \\\n",
       "109780                                                                           , 83, French cognitive psychologist.   \n",
       "3                                                                 , 93, New Zealand physician, statesman and athlete.   \n",
       "11415                                                                                   , 63, English footbal player.   \n",
       "67301                                                                                 , 73, American Cherokee author.   \n",
       "65473   , 83, American baseball player (New York Yankees, Kansas City Athletics), complications from stroke and fall.   \n",
       "\n",
       "                                                                     link  \\\n",
       "109780                       https://en.wikipedia.org/wiki/Jacques_Mehler   \n",
       "3             https://en.wikipedia.org/wiki/Arthur_Porritt,_Baron_Porritt   \n",
       "11415   https://en.wikipedia.org/wiki/Graham_Shaw_(footballer,_born_1934)   \n",
       "67301                      https://en.wikipedia.org/wiki/Robert_J._Conley   \n",
       "65473                            https://en.wikipedia.org/wiki/Zeke_Bella   \n",
       "\n",
       "       num_references  year     month  \n",
       "109780              8  2020  February  \n",
       "3                  25  1994   January  \n",
       "11415               1  1998       May  \n",
       "67301               4  2014  February  \n",
       "65473               8  2013  November  "
      ]
     },
     "execution_count": 20,
     "metadata": {},
     "output_type": "execute_result"
    },
    {
     "data": {
      "application/javascript": [
       "\n",
       "            setTimeout(function() {\n",
       "                var nbb_cell_id = 20;\n",
       "                var nbb_unformatted_code = \"# Checking a sample of info\\ndf.sample(5)\";\n",
       "                var nbb_formatted_code = \"# Checking a sample of info\\ndf.sample(5)\";\n",
       "                var nbb_cells = Jupyter.notebook.get_cells();\n",
       "                for (var i = 0; i < nbb_cells.length; ++i) {\n",
       "                    if (nbb_cells[i].input_prompt_number == nbb_cell_id) {\n",
       "                        if (nbb_cells[i].get_text() == nbb_unformatted_code) {\n",
       "                             nbb_cells[i].set_text(nbb_formatted_code);\n",
       "                        }\n",
       "                        break;\n",
       "                    }\n",
       "                }\n",
       "            }, 500);\n",
       "            "
      ],
      "text/plain": [
       "<IPython.core.display.Javascript object>"
      ]
     },
     "metadata": {},
     "output_type": "display_data"
    }
   ],
   "source": [
    "# Checking a sample of info\n",
    "df.sample(5)"
   ]
  },
  {
   "cell_type": "markdown",
   "id": "c052f2c2",
   "metadata": {},
   "source": [
    "#### Observations:\n",
    "- We can see that `info` has variety, so will take some cleaning effort:\n",
    "    - There are number values for years in addition to ages.\n",
    "    - There is extra information inside of parentheses, that we likely don't need.\n",
    "    - Some entries lack cause of death.\n",
    "    - Some entries have multiple roles listed, with separating commas.\n",
    "    - There are nationalities with multiple words.\n",
    "    - `info` contains capital letters that are not part of citizenship.\n",
    "- A strategic approach to cleaning the `info` column is needed, as follows:\n",
    "    1. Drop all entries that are lacking digits in `info`, as they are missing the target `age` information.\n",
    "    2. Extract any parentheses and their contents from `info` to new column `info_parenth`, as it likely won't be needed but we will preserve it, for now.\n",
    "    3. Split `info` on \",\" and save to numbered new `info` columns left to right.\n",
    "    3. Begin extracting age data from `info_0` and proceed left to right through the numbered `info` columns."
   ]
  },
  {
   "cell_type": "markdown",
   "id": "fdc1b411",
   "metadata": {},
   "source": [
    "#### Step 1: Checking and Dropping Rows Lacking Digits (and therefore Age Data) within `info`"
   ]
  },
  {
   "cell_type": "code",
   "execution_count": 21,
   "id": "bb94bb3a",
   "metadata": {},
   "outputs": [
    {
     "name": "stdout",
     "output_type": "stream",
     "text": [
      "There are 132852 rows with matching pattern in column 'info'.\n",
      "\n",
      "There are 923 rows without numbers in the info column.\n"
     ]
    },
    {
     "data": {
      "text/plain": [
       "(132852, 7)"
      ]
     },
     "execution_count": 21,
     "metadata": {},
     "output_type": "execute_result"
    },
    {
     "data": {
      "application/javascript": [
       "\n",
       "            setTimeout(function() {\n",
       "                var nbb_cell_id = 21;\n",
       "                var nbb_unformatted_code = \"# Column to check\\ncolumn = \\\"info\\\"\\n\\n# Dataframe to check\\ndataframe = df\\n\\n# Pattern for re\\npattern = r\\\"\\\\d\\\"\\n\\n# Finding indices of rows that have pattern/digits and number of rows that do not have digits\\nhas_digits = rows_with_pattern(dataframe, column, pattern)\\nprint(\\n    f\\\"\\\\nThere are {len(df) - len(has_digits)} rows without numbers in the info column.\\\"\\n)\\n\\n# Overwriting df with only rows that contain a digit in info column, resetting index, and checking new shape\\ndf = df.loc[has_digits, :]\\ndf.reset_index(inplace=True, drop=True)\\ndf.shape\";\n",
       "                var nbb_formatted_code = \"# Column to check\\ncolumn = \\\"info\\\"\\n\\n# Dataframe to check\\ndataframe = df\\n\\n# Pattern for re\\npattern = r\\\"\\\\d\\\"\\n\\n# Finding indices of rows that have pattern/digits and number of rows that do not have digits\\nhas_digits = rows_with_pattern(dataframe, column, pattern)\\nprint(\\n    f\\\"\\\\nThere are {len(df) - len(has_digits)} rows without numbers in the info column.\\\"\\n)\\n\\n# Overwriting df with only rows that contain a digit in info column, resetting index, and checking new shape\\ndf = df.loc[has_digits, :]\\ndf.reset_index(inplace=True, drop=True)\\ndf.shape\";\n",
       "                var nbb_cells = Jupyter.notebook.get_cells();\n",
       "                for (var i = 0; i < nbb_cells.length; ++i) {\n",
       "                    if (nbb_cells[i].input_prompt_number == nbb_cell_id) {\n",
       "                        if (nbb_cells[i].get_text() == nbb_unformatted_code) {\n",
       "                             nbb_cells[i].set_text(nbb_formatted_code);\n",
       "                        }\n",
       "                        break;\n",
       "                    }\n",
       "                }\n",
       "            }, 500);\n",
       "            "
      ],
      "text/plain": [
       "<IPython.core.display.Javascript object>"
      ]
     },
     "metadata": {},
     "output_type": "display_data"
    }
   ],
   "source": [
    "# Column to check\n",
    "column = \"info\"\n",
    "\n",
    "# Dataframe to check\n",
    "dataframe = df\n",
    "\n",
    "# Pattern for re\n",
    "pattern = r\"\\d\"\n",
    "\n",
    "# Finding indices of rows that have pattern/digits and number of rows that do not have digits\n",
    "has_digits = rows_with_pattern(dataframe, column, pattern)\n",
    "print(\n",
    "    f\"\\nThere are {len(df) - len(has_digits)} rows without numbers in the info column.\"\n",
    ")\n",
    "\n",
    "# Overwriting df with only rows that contain a digit in info column, resetting index, and checking new shape\n",
    "df = df.loc[has_digits, :]\n",
    "df.reset_index(inplace=True, drop=True)\n",
    "df.shape"
   ]
  },
  {
   "cell_type": "markdown",
   "id": "e4c8803f",
   "metadata": {},
   "source": [
    "#### Observations:\n",
    "- 923 rows were removed as they lacked any digits and, therefore, the target data for `age`.\n",
    "- The resultant number of rows matches the rows containing digits.\n",
    "- Next, we will extract parentheses and their contents from `info` to a new column `info_parenth`."
   ]
  },
  {
   "cell_type": "markdown",
   "id": "cc839fab",
   "metadata": {},
   "source": [
    "#### Step 2: Removing Information within Parentheses from `info` and saving to new column `info_parenth`"
   ]
  },
  {
   "cell_type": "code",
   "execution_count": 22,
   "id": "eb91aae7",
   "metadata": {},
   "outputs": [
    {
     "name": "stdout",
     "output_type": "stream",
     "text": [
      "There are 50003 rows with matching pattern in column 'info'.\n"
     ]
    },
    {
     "data": {
      "text/html": [
       "<div>\n",
       "<style scoped>\n",
       "    .dataframe tbody tr th:only-of-type {\n",
       "        vertical-align: middle;\n",
       "    }\n",
       "\n",
       "    .dataframe tbody tr th {\n",
       "        vertical-align: top;\n",
       "    }\n",
       "\n",
       "    .dataframe thead th {\n",
       "        text-align: right;\n",
       "    }\n",
       "</style>\n",
       "<table border=\"1\" class=\"dataframe\">\n",
       "  <thead>\n",
       "    <tr style=\"text-align: right;\">\n",
       "      <th></th>\n",
       "      <th>day</th>\n",
       "      <th>name</th>\n",
       "      <th>info</th>\n",
       "      <th>link</th>\n",
       "      <th>num_references</th>\n",
       "      <th>year</th>\n",
       "      <th>month</th>\n",
       "    </tr>\n",
       "  </thead>\n",
       "  <tbody>\n",
       "    <tr>\n",
       "      <th>63231</th>\n",
       "      <td>9</td>\n",
       "      <td>Glen Hobbie</td>\n",
       "      <td>, 77, American baseball player (Chicago Cubs, St. Louis Cardinals).</td>\n",
       "      <td>https://en.wikipedia.org/wiki/Glen_Hobbie</td>\n",
       "      <td>2</td>\n",
       "      <td>2013</td>\n",
       "      <td>August</td>\n",
       "    </tr>\n",
       "    <tr>\n",
       "      <th>67047</th>\n",
       "      <td>4</td>\n",
       "      <td>Lawrence Patrick Henry</td>\n",
       "      <td>, 79, South African Roman Catholic prelate, Archbishop of Cape Town (1990–2009).</td>\n",
       "      <td>https://en.wikipedia.org/wiki/Lawrence_Patrick_Henry</td>\n",
       "      <td>1</td>\n",
       "      <td>2014</td>\n",
       "      <td>March</td>\n",
       "    </tr>\n",
       "  </tbody>\n",
       "</table>\n",
       "</div>"
      ],
      "text/plain": [
       "      day                    name  \\\n",
       "63231   9             Glen Hobbie   \n",
       "67047   4  Lawrence Patrick Henry   \n",
       "\n",
       "                                                                                   info  \\\n",
       "63231               , 77, American baseball player (Chicago Cubs, St. Louis Cardinals).   \n",
       "67047  , 79, South African Roman Catholic prelate, Archbishop of Cape Town (1990–2009).   \n",
       "\n",
       "                                                       link num_references  \\\n",
       "63231             https://en.wikipedia.org/wiki/Glen_Hobbie              2   \n",
       "67047  https://en.wikipedia.org/wiki/Lawrence_Patrick_Henry              1   \n",
       "\n",
       "       year   month  \n",
       "63231  2013  August  \n",
       "67047  2014   March  "
      ]
     },
     "execution_count": 22,
     "metadata": {},
     "output_type": "execute_result"
    },
    {
     "data": {
      "application/javascript": [
       "\n",
       "            setTimeout(function() {\n",
       "                var nbb_cell_id = 22;\n",
       "                var nbb_unformatted_code = \"# Column to check\\ncolumn = \\\"info\\\"\\n\\n# Dataframe to check\\ndataframe = df\\n\\n# Regular expression for parenthesis and its contents\\npattern = r\\\"\\\\(.*\\\\)\\\"\\n\\n# Finding indices of rows that have pattern\\nrows_to_check = rows_with_pattern(dataframe, column, pattern)\\n\\n# Checking a sample of rows\\ndf.loc[rows_to_check, :].sample(2)\";\n",
       "                var nbb_formatted_code = \"# Column to check\\ncolumn = \\\"info\\\"\\n\\n# Dataframe to check\\ndataframe = df\\n\\n# Regular expression for parenthesis and its contents\\npattern = r\\\"\\\\(.*\\\\)\\\"\\n\\n# Finding indices of rows that have pattern\\nrows_to_check = rows_with_pattern(dataframe, column, pattern)\\n\\n# Checking a sample of rows\\ndf.loc[rows_to_check, :].sample(2)\";\n",
       "                var nbb_cells = Jupyter.notebook.get_cells();\n",
       "                for (var i = 0; i < nbb_cells.length; ++i) {\n",
       "                    if (nbb_cells[i].input_prompt_number == nbb_cell_id) {\n",
       "                        if (nbb_cells[i].get_text() == nbb_unformatted_code) {\n",
       "                             nbb_cells[i].set_text(nbb_formatted_code);\n",
       "                        }\n",
       "                        break;\n",
       "                    }\n",
       "                }\n",
       "            }, 500);\n",
       "            "
      ],
      "text/plain": [
       "<IPython.core.display.Javascript object>"
      ]
     },
     "metadata": {},
     "output_type": "display_data"
    }
   ],
   "source": [
    "# Column to check\n",
    "column = \"info\"\n",
    "\n",
    "# Dataframe to check\n",
    "dataframe = df\n",
    "\n",
    "# Regular expression for parenthesis and its contents\n",
    "pattern = r\"\\(.*\\)\"\n",
    "\n",
    "# Finding indices of rows that have pattern\n",
    "rows_to_check = rows_with_pattern(dataframe, column, pattern)\n",
    "\n",
    "# Checking a sample of rows\n",
    "df.loc[rows_to_check, :].sample(2)"
   ]
  },
  {
   "cell_type": "code",
   "execution_count": 23,
   "id": "8e1f3143",
   "metadata": {},
   "outputs": [
    {
     "name": "stdout",
     "output_type": "stream",
     "text": [
      "There are 0 rows with matching pattern in column 'info'.\n"
     ]
    },
    {
     "data": {
      "text/html": [
       "<div>\n",
       "<style scoped>\n",
       "    .dataframe tbody tr th:only-of-type {\n",
       "        vertical-align: middle;\n",
       "    }\n",
       "\n",
       "    .dataframe tbody tr th {\n",
       "        vertical-align: top;\n",
       "    }\n",
       "\n",
       "    .dataframe thead th {\n",
       "        text-align: right;\n",
       "    }\n",
       "</style>\n",
       "<table border=\"1\" class=\"dataframe\">\n",
       "  <thead>\n",
       "    <tr style=\"text-align: right;\">\n",
       "      <th></th>\n",
       "      <th>day</th>\n",
       "      <th>name</th>\n",
       "      <th>info</th>\n",
       "      <th>link</th>\n",
       "      <th>num_references</th>\n",
       "      <th>year</th>\n",
       "      <th>month</th>\n",
       "      <th>info_parenth</th>\n",
       "    </tr>\n",
       "  </thead>\n",
       "  <tbody>\n",
       "    <tr>\n",
       "      <th>62593</th>\n",
       "      <td>5</td>\n",
       "      <td>Bud Asher</td>\n",
       "      <td>, 88, American politician and football coach, Mayor of Daytona Beach, Florida .</td>\n",
       "      <td>https://en.wikipedia.org/wiki/Bud_Asher</td>\n",
       "      <td>7</td>\n",
       "      <td>2013</td>\n",
       "      <td>July</td>\n",
       "      <td>(1995–2003)</td>\n",
       "    </tr>\n",
       "    <tr>\n",
       "      <th>50734</th>\n",
       "      <td>12</td>\n",
       "      <td>Ernie Johnson</td>\n",
       "      <td>, 87, American baseball player .</td>\n",
       "      <td>https://en.wikipedia.org/wiki/Ernie_Johnson_(pitcher)</td>\n",
       "      <td>2</td>\n",
       "      <td>2011</td>\n",
       "      <td>August</td>\n",
       "      <td>(Boston Braves/Milwaukee Braves, Baltimore Orioles) and broadcaster (Atlanta Braves)</td>\n",
       "    </tr>\n",
       "  </tbody>\n",
       "</table>\n",
       "</div>"
      ],
      "text/plain": [
       "      day           name  \\\n",
       "62593   5      Bud Asher   \n",
       "50734  12  Ernie Johnson   \n",
       "\n",
       "                                                                                  info  \\\n",
       "62593  , 88, American politician and football coach, Mayor of Daytona Beach, Florida .   \n",
       "50734                                                 , 87, American baseball player .   \n",
       "\n",
       "                                                        link num_references  \\\n",
       "62593                https://en.wikipedia.org/wiki/Bud_Asher              7   \n",
       "50734  https://en.wikipedia.org/wiki/Ernie_Johnson_(pitcher)              2   \n",
       "\n",
       "       year   month  \\\n",
       "62593  2013    July   \n",
       "50734  2011  August   \n",
       "\n",
       "                                                                               info_parenth  \n",
       "62593                                                                           (1995–2003)  \n",
       "50734  (Boston Braves/Milwaukee Braves, Baltimore Orioles) and broadcaster (Atlanta Braves)  "
      ]
     },
     "execution_count": 23,
     "metadata": {},
     "output_type": "execute_result"
    },
    {
     "data": {
      "application/javascript": [
       "\n",
       "            setTimeout(function() {\n",
       "                var nbb_cell_id = 23;\n",
       "                var nbb_unformatted_code = \"# For loop to extract parenthesis and its contents from info to info_parenth\\nfor index in rows_to_check:\\n    item = df.loc[index, column]\\n    match = re.search(pattern, item)\\n    if match:\\n        df.loc[index, \\\"info_parenth\\\"] = match.group(0)\\n        df.loc[index, column] = re.sub(pattern, \\\"\\\", df.loc[index, column])\\n\\n# Rechecking number and example rows after treatment\\nrecheck_rows = rows_with_pattern(dataframe, column, pattern)\\n\\n# Recheck a sample of treated rows\\ndf.loc[rows_to_check, :].sample(2)\";\n",
       "                var nbb_formatted_code = \"# For loop to extract parenthesis and its contents from info to info_parenth\\nfor index in rows_to_check:\\n    item = df.loc[index, column]\\n    match = re.search(pattern, item)\\n    if match:\\n        df.loc[index, \\\"info_parenth\\\"] = match.group(0)\\n        df.loc[index, column] = re.sub(pattern, \\\"\\\", df.loc[index, column])\\n\\n# Rechecking number and example rows after treatment\\nrecheck_rows = rows_with_pattern(dataframe, column, pattern)\\n\\n# Recheck a sample of treated rows\\ndf.loc[rows_to_check, :].sample(2)\";\n",
       "                var nbb_cells = Jupyter.notebook.get_cells();\n",
       "                for (var i = 0; i < nbb_cells.length; ++i) {\n",
       "                    if (nbb_cells[i].input_prompt_number == nbb_cell_id) {\n",
       "                        if (nbb_cells[i].get_text() == nbb_unformatted_code) {\n",
       "                             nbb_cells[i].set_text(nbb_formatted_code);\n",
       "                        }\n",
       "                        break;\n",
       "                    }\n",
       "                }\n",
       "            }, 500);\n",
       "            "
      ],
      "text/plain": [
       "<IPython.core.display.Javascript object>"
      ]
     },
     "metadata": {},
     "output_type": "display_data"
    }
   ],
   "source": [
    "# For loop to extract parenthesis and its contents from info to info_parenth\n",
    "for index in rows_to_check:\n",
    "    item = df.loc[index, column]\n",
    "    match = re.search(pattern, item)\n",
    "    if match:\n",
    "        df.loc[index, \"info_parenth\"] = match.group(0)\n",
    "        df.loc[index, column] = re.sub(pattern, \"\", df.loc[index, column])\n",
    "\n",
    "# Rechecking number and example rows after treatment\n",
    "recheck_rows = rows_with_pattern(dataframe, column, pattern)\n",
    "\n",
    "# Recheck a sample of treated rows\n",
    "df.loc[rows_to_check, :].sample(2)"
   ]
  },
  {
   "cell_type": "markdown",
   "id": "76b9ca78",
   "metadata": {},
   "source": [
    "#### Observations:\n",
    "- Parentheses and information within has been removed from `info` and assigned to `info_parenth`.\n",
    "- Next, we will iterate through the rows, splitting `info` on commas and assigining the respective list values to new individual columns `info_0`, `info_1`, and so on.  \n",
    "- Though we can keep in mind the Wikipedia-defined fields, we will take the general approach of treating column by column, after splitting `info`, varying as indicated to obtain specific feature information."
   ]
  },
  {
   "cell_type": "markdown",
   "id": "036b3151",
   "metadata": {},
   "source": [
    "#### Step 3: Splitting `info` on Commas into Separate Columns"
   ]
  },
  {
   "cell_type": "code",
   "execution_count": 24,
   "id": "1cb83a88",
   "metadata": {},
   "outputs": [
    {
     "data": {
      "text/html": [
       "<div>\n",
       "<style scoped>\n",
       "    .dataframe tbody tr th:only-of-type {\n",
       "        vertical-align: middle;\n",
       "    }\n",
       "\n",
       "    .dataframe tbody tr th {\n",
       "        vertical-align: top;\n",
       "    }\n",
       "\n",
       "    .dataframe thead th {\n",
       "        text-align: right;\n",
       "    }\n",
       "</style>\n",
       "<table border=\"1\" class=\"dataframe\">\n",
       "  <thead>\n",
       "    <tr style=\"text-align: right;\">\n",
       "      <th></th>\n",
       "      <th>day</th>\n",
       "      <th>name</th>\n",
       "      <th>info</th>\n",
       "      <th>link</th>\n",
       "      <th>num_references</th>\n",
       "      <th>year</th>\n",
       "      <th>month</th>\n",
       "      <th>info_parenth</th>\n",
       "      <th>info_0</th>\n",
       "      <th>info_1</th>\n",
       "      <th>info_2</th>\n",
       "      <th>info_3</th>\n",
       "      <th>info_4</th>\n",
       "      <th>info_5</th>\n",
       "      <th>info_6</th>\n",
       "      <th>info_7</th>\n",
       "      <th>info_8</th>\n",
       "      <th>info_9</th>\n",
       "      <th>info_10</th>\n",
       "      <th>info_11</th>\n",
       "    </tr>\n",
       "  </thead>\n",
       "  <tbody>\n",
       "    <tr>\n",
       "      <th>0</th>\n",
       "      <td>1</td>\n",
       "      <td>William Chappell</td>\n",
       "      <td>, 86, British dancer, ballet designer and director.</td>\n",
       "      <td>https://en.wikipedia.org/wiki/William_Chappell_(dancer)</td>\n",
       "      <td>21</td>\n",
       "      <td>1994</td>\n",
       "      <td>January</td>\n",
       "      <td>NaN</td>\n",
       "      <td></td>\n",
       "      <td>86</td>\n",
       "      <td>British dancer</td>\n",
       "      <td>ballet designer and director</td>\n",
       "      <td>NaN</td>\n",
       "      <td>NaN</td>\n",
       "      <td>NaN</td>\n",
       "      <td>NaN</td>\n",
       "      <td>NaN</td>\n",
       "      <td>NaN</td>\n",
       "      <td>NaN</td>\n",
       "      <td>NaN</td>\n",
       "    </tr>\n",
       "    <tr>\n",
       "      <th>1</th>\n",
       "      <td>1</td>\n",
       "      <td>Raymond Crotty</td>\n",
       "      <td>, 68, Irish economist, writer, and academic.</td>\n",
       "      <td>https://en.wikipedia.org/wiki/Raymond_Crotty</td>\n",
       "      <td>12</td>\n",
       "      <td>1994</td>\n",
       "      <td>January</td>\n",
       "      <td>NaN</td>\n",
       "      <td></td>\n",
       "      <td>68</td>\n",
       "      <td>Irish economist</td>\n",
       "      <td>writer</td>\n",
       "      <td>and academic</td>\n",
       "      <td>NaN</td>\n",
       "      <td>NaN</td>\n",
       "      <td>NaN</td>\n",
       "      <td>NaN</td>\n",
       "      <td>NaN</td>\n",
       "      <td>NaN</td>\n",
       "      <td>NaN</td>\n",
       "    </tr>\n",
       "  </tbody>\n",
       "</table>\n",
       "</div>"
      ],
      "text/plain": [
       "  day              name                                                 info  \\\n",
       "0   1  William Chappell  , 86, British dancer, ballet designer and director.   \n",
       "1   1    Raymond Crotty         , 68, Irish economist, writer, and academic.   \n",
       "\n",
       "                                                      link num_references  \\\n",
       "0  https://en.wikipedia.org/wiki/William_Chappell_(dancer)             21   \n",
       "1             https://en.wikipedia.org/wiki/Raymond_Crotty             12   \n",
       "\n",
       "   year    month info_parenth info_0 info_1           info_2  \\\n",
       "0  1994  January          NaN            86   British dancer   \n",
       "1  1994  January          NaN            68  Irish economist   \n",
       "\n",
       "                         info_3        info_4 info_5 info_6 info_7 info_8  \\\n",
       "0  ballet designer and director           NaN    NaN    NaN    NaN    NaN   \n",
       "1                        writer  and academic    NaN    NaN    NaN    NaN   \n",
       "\n",
       "  info_9 info_10 info_11  \n",
       "0    NaN     NaN     NaN  \n",
       "1    NaN     NaN     NaN  "
      ]
     },
     "execution_count": 24,
     "metadata": {},
     "output_type": "execute_result"
    },
    {
     "data": {
      "application/javascript": [
       "\n",
       "            setTimeout(function() {\n",
       "                var nbb_cell_id = 24;\n",
       "                var nbb_unformatted_code = \"# For loop to split info on commas and separate into respective new columns and removing leading/trailing white space and periods\\nfor i, item in enumerate(df[\\\"info\\\"]):\\n    info_lst = item.split(\\\",\\\")\\n\\n    for j in range(len(info_lst)):\\n        df.loc[i, f\\\"info_{j}\\\"] = info_lst[j].strip(\\\" .\\\")\\n\\n# Checking the first 2 rows\\ndf.head(2)\";\n",
       "                var nbb_formatted_code = \"# For loop to split info on commas and separate into respective new columns and removing leading/trailing white space and periods\\nfor i, item in enumerate(df[\\\"info\\\"]):\\n    info_lst = item.split(\\\",\\\")\\n\\n    for j in range(len(info_lst)):\\n        df.loc[i, f\\\"info_{j}\\\"] = info_lst[j].strip(\\\" .\\\")\\n\\n# Checking the first 2 rows\\ndf.head(2)\";\n",
       "                var nbb_cells = Jupyter.notebook.get_cells();\n",
       "                for (var i = 0; i < nbb_cells.length; ++i) {\n",
       "                    if (nbb_cells[i].input_prompt_number == nbb_cell_id) {\n",
       "                        if (nbb_cells[i].get_text() == nbb_unformatted_code) {\n",
       "                             nbb_cells[i].set_text(nbb_formatted_code);\n",
       "                        }\n",
       "                        break;\n",
       "                    }\n",
       "                }\n",
       "            }, 500);\n",
       "            "
      ],
      "text/plain": [
       "<IPython.core.display.Javascript object>"
      ]
     },
     "metadata": {},
     "output_type": "display_data"
    }
   ],
   "source": [
    "# For loop to split info on commas and separate into respective new columns and removing leading/trailing white space and periods\n",
    "for i, item in enumerate(df[\"info\"]):\n",
    "    info_lst = item.split(\",\")\n",
    "\n",
    "    for j in range(len(info_lst)):\n",
    "        df.loc[i, f\"info_{j}\"] = info_lst[j].strip(\" .\")\n",
    "\n",
    "# Checking the first 2 rows\n",
    "df.head(2)"
   ]
  },
  {
   "cell_type": "code",
   "execution_count": 25,
   "id": "6dd3620b",
   "metadata": {},
   "outputs": [
    {
     "data": {
      "text/html": [
       "<div>\n",
       "<style scoped>\n",
       "    .dataframe tbody tr th:only-of-type {\n",
       "        vertical-align: middle;\n",
       "    }\n",
       "\n",
       "    .dataframe tbody tr th {\n",
       "        vertical-align: top;\n",
       "    }\n",
       "\n",
       "    .dataframe thead th {\n",
       "        text-align: right;\n",
       "    }\n",
       "</style>\n",
       "<table border=\"1\" class=\"dataframe\">\n",
       "  <thead>\n",
       "    <tr style=\"text-align: right;\">\n",
       "      <th></th>\n",
       "      <th>day</th>\n",
       "      <th>name</th>\n",
       "      <th>info</th>\n",
       "      <th>link</th>\n",
       "      <th>num_references</th>\n",
       "      <th>year</th>\n",
       "      <th>month</th>\n",
       "      <th>info_parenth</th>\n",
       "      <th>info_0</th>\n",
       "      <th>info_1</th>\n",
       "      <th>info_2</th>\n",
       "      <th>info_3</th>\n",
       "      <th>info_4</th>\n",
       "      <th>info_5</th>\n",
       "      <th>info_6</th>\n",
       "      <th>info_7</th>\n",
       "      <th>info_8</th>\n",
       "      <th>info_9</th>\n",
       "      <th>info_10</th>\n",
       "      <th>info_11</th>\n",
       "    </tr>\n",
       "  </thead>\n",
       "  <tbody>\n",
       "    <tr>\n",
       "      <th>132850</th>\n",
       "      <td>9</td>\n",
       "      <td>Oleg Moliboga</td>\n",
       "      <td>, 69, Russian volleyball player, Olympic champion  and coach.</td>\n",
       "      <td>https://en.wikipedia.org/wiki/Oleg_Moliboga</td>\n",
       "      <td>2</td>\n",
       "      <td>2022</td>\n",
       "      <td>June</td>\n",
       "      <td>(1980)</td>\n",
       "      <td></td>\n",
       "      <td>69</td>\n",
       "      <td>Russian volleyball player</td>\n",
       "      <td>Olympic champion  and coach</td>\n",
       "      <td>NaN</td>\n",
       "      <td>NaN</td>\n",
       "      <td>NaN</td>\n",
       "      <td>NaN</td>\n",
       "      <td>NaN</td>\n",
       "      <td>NaN</td>\n",
       "      <td>NaN</td>\n",
       "      <td>NaN</td>\n",
       "    </tr>\n",
       "    <tr>\n",
       "      <th>132851</th>\n",
       "      <td>9</td>\n",
       "      <td>Zou Jing</td>\n",
       "      <td>, 86, Chinese engineer, member of the Chinese Academy of Engineering.</td>\n",
       "      <td>https://en.wikipedia.org/wiki/Zou_Jing_(engineer)</td>\n",
       "      <td>3</td>\n",
       "      <td>2022</td>\n",
       "      <td>June</td>\n",
       "      <td>NaN</td>\n",
       "      <td></td>\n",
       "      <td>86</td>\n",
       "      <td>Chinese engineer</td>\n",
       "      <td>member of the Chinese Academy of Engineering</td>\n",
       "      <td>NaN</td>\n",
       "      <td>NaN</td>\n",
       "      <td>NaN</td>\n",
       "      <td>NaN</td>\n",
       "      <td>NaN</td>\n",
       "      <td>NaN</td>\n",
       "      <td>NaN</td>\n",
       "      <td>NaN</td>\n",
       "    </tr>\n",
       "  </tbody>\n",
       "</table>\n",
       "</div>"
      ],
      "text/plain": [
       "       day           name  \\\n",
       "132850   9  Oleg Moliboga   \n",
       "132851   9       Zou Jing   \n",
       "\n",
       "                                                                         info  \\\n",
       "132850          , 69, Russian volleyball player, Olympic champion  and coach.   \n",
       "132851  , 86, Chinese engineer, member of the Chinese Academy of Engineering.   \n",
       "\n",
       "                                                     link num_references  \\\n",
       "132850        https://en.wikipedia.org/wiki/Oleg_Moliboga              2   \n",
       "132851  https://en.wikipedia.org/wiki/Zou_Jing_(engineer)              3   \n",
       "\n",
       "        year month info_parenth info_0 info_1                     info_2  \\\n",
       "132850  2022  June       (1980)            69  Russian volleyball player   \n",
       "132851  2022  June          NaN            86           Chinese engineer   \n",
       "\n",
       "                                              info_3 info_4 info_5 info_6  \\\n",
       "132850                   Olympic champion  and coach    NaN    NaN    NaN   \n",
       "132851  member of the Chinese Academy of Engineering    NaN    NaN    NaN   \n",
       "\n",
       "       info_7 info_8 info_9 info_10 info_11  \n",
       "132850    NaN    NaN    NaN     NaN     NaN  \n",
       "132851    NaN    NaN    NaN     NaN     NaN  "
      ]
     },
     "execution_count": 25,
     "metadata": {},
     "output_type": "execute_result"
    },
    {
     "data": {
      "application/javascript": [
       "\n",
       "            setTimeout(function() {\n",
       "                var nbb_cell_id = 25;\n",
       "                var nbb_unformatted_code = \"# Checking the last 2 rows\\ndf.tail(2)\";\n",
       "                var nbb_formatted_code = \"# Checking the last 2 rows\\ndf.tail(2)\";\n",
       "                var nbb_cells = Jupyter.notebook.get_cells();\n",
       "                for (var i = 0; i < nbb_cells.length; ++i) {\n",
       "                    if (nbb_cells[i].input_prompt_number == nbb_cell_id) {\n",
       "                        if (nbb_cells[i].get_text() == nbb_unformatted_code) {\n",
       "                             nbb_cells[i].set_text(nbb_formatted_code);\n",
       "                        }\n",
       "                        break;\n",
       "                    }\n",
       "                }\n",
       "            }, 500);\n",
       "            "
      ],
      "text/plain": [
       "<IPython.core.display.Javascript object>"
      ]
     },
     "metadata": {},
     "output_type": "display_data"
    }
   ],
   "source": [
    "# Checking the last 2 rows\n",
    "df.tail(2)"
   ]
  },
  {
   "cell_type": "markdown",
   "id": "782b48d0",
   "metadata": {},
   "source": [
    "#### Observations:\n",
    "- The `info` value is successfully divided and we can proceed through it column by column.\n",
    "- There are 12 resultant new rows for the sections of `info` divided by commas (`info_parenth` excluded), indicating that some entries are quite detailed.\n",
    "- We will now start our search for age data, starting with `info_0`."
   ]
  },
  {
   "cell_type": "markdown",
   "id": "2233a5fa",
   "metadata": {},
   "source": [
    "## Extracting Age Data"
   ]
  },
  {
   "cell_type": "markdown",
   "id": "2fcf7d87",
   "metadata": {},
   "source": [
    "### `info_0`"
   ]
  },
  {
   "cell_type": "code",
   "execution_count": null,
   "id": "59ace6ae",
   "metadata": {},
   "outputs": [],
   "source": [
    "# Checking unique value counts\n",
    "df[\"info_0\"].value_counts()"
   ]
  },
  {
   "cell_type": "markdown",
   "id": "753ef185",
   "metadata": {},
   "source": [
    "#### Observations:\n",
    "- The vast majority of rows have an empty string for `info_0`.\n",
    "- There is one row representing a group, rather than an individual, and we will drop it.\n",
    "- We should verify the name and age information for the remainder of unique values in `info_0`."
   ]
  },
  {
   "cell_type": "markdown",
   "id": "58fce724",
   "metadata": {},
   "source": [
    "#### Dropping Entry for Group"
   ]
  },
  {
   "cell_type": "code",
   "execution_count": null,
   "id": "92834b47",
   "metadata": {},
   "outputs": [],
   "source": [
    "# Checking the entry representing a group\n",
    "group_entry = df[\n",
    "    df[\"info_0\"]\n",
    "    == \"Notable ice hockey players and coaches among the 44 killed in the :\\n\"\n",
    "]\n",
    "group_entry"
   ]
  },
  {
   "cell_type": "code",
   "execution_count": null,
   "id": "b3356b2c",
   "metadata": {},
   "outputs": [],
   "source": [
    "# Dropping group entry, resetting index, and checking new shape of df\n",
    "df.drop(group_entry.index, inplace=True)\n",
    "df.reset_index(inplace=True, drop=True)\n",
    "df.shape"
   ]
  },
  {
   "cell_type": "markdown",
   "id": "f3d5810c",
   "metadata": {},
   "source": [
    "#### Examining Rows with Atypical `info_0` Values"
   ]
  },
  {
   "cell_type": "code",
   "execution_count": null,
   "id": "79f235ce",
   "metadata": {
    "scrolled": false
   },
   "outputs": [],
   "source": [
    "# Examining rows with atypical info_0 values\n",
    "list_to_check = df[\"info_0\"].value_counts().index.to_list()\n",
    "\n",
    "verify_df = pd.DataFrame()\n",
    "for item in list_to_check[1:]:\n",
    "    verify_df = pd.concat([verify_df, df[df[\"info_0\"] == item]])\n",
    "verify_df"
   ]
  },
  {
   "cell_type": "markdown",
   "id": "8876e699",
   "metadata": {},
   "source": [
    "#### Observations:\n",
    "- The majority of rows contain additional aliases or titles within `info_0`, that we don't need, but we can leave in place for now, as we can drop the column as a whole, later.  \n",
    "- There are a few rows that will need to be treated individually to correct the name value, as follows:\n",
    "    1. Entry is for Mike Alexander whose band was Evile.\n",
    "    2. Entry is for Herbert Wiere who performed slapstick comedy.\n",
    "    3. Entry is for Sarah-Jayne Mulvihill who was a Flight Lieutenant.\n",
    "    4. Entry is for Douglass Scott who was killed by Demetreus Nix.\n",
    "    5. Entry is for Kim Hwan-Sung who was a member of the band NRG.\n",
    "- We can replace the `name` value with the `info_0` value for these rows as well as proceed with hard-coding the correct values for info_2 and info_3 fields to match the Wikipedia pattern, but staying true to the information scraped.\n",
    "- The row with \"Nearly 3\" value for `info_0` also represents a group, rather than an individual, so will be dropped, after treating the above rows.\n",
    "- We will then proceed to extract age from `info_0` for the few rows that contain it here instead of in `info_1`."
   ]
  },
  {
   "cell_type": "markdown",
   "id": "2807ab32",
   "metadata": {},
   "source": [
    "#### Treating 5 rows with Name in `info_0`"
   ]
  },
  {
   "cell_type": "code",
   "execution_count": null,
   "id": "38e03fa3",
   "metadata": {},
   "outputs": [],
   "source": [
    "# List of names values in info_0\n",
    "values_lst = [\n",
    "    \"Mike Alexander\",\n",
    "    \"Herbert Wiere\",\n",
    "    \"Sarah-Jayne Mulvihill\",\n",
    "    \"Douglas Scott\",\n",
    "    \"Kim Hwan-Sung\",\n",
    "]"
   ]
  },
  {
   "cell_type": "code",
   "execution_count": null,
   "id": "3c3b826e",
   "metadata": {},
   "outputs": [],
   "source": [
    "# For loop to copy name from info_0 to name\n",
    "for i in df[df[\"info_0\"].isin(values_lst)].index.to_list():\n",
    "    df.loc[i, \"name\"] = df.loc[i, \"info_0\"]\n",
    "\n",
    "# Hard-coding info_2 and info_3 values for Kim Hwan-Sung\n",
    "index = df[\n",
    "    df[\"link\"] == \"https://en.wikipedia.org/wiki/NRG_(South_Korean_band)\"\n",
    "].index.to_list()\n",
    "df.loc[index, \"info_2\"] = \"South Korean musician\"\n",
    "\n",
    "df.loc[index, \"info_3\"] = \"respiratory illness\"\n",
    "\n",
    "# # Hard-coding info_2 and info_3 values for Douglass Scott\n",
    "index = df[\n",
    "    df[\"link\"]\n",
    "    == \"https://en.wikipedia.org/w/index.php?title=Demetreus_Nix&action=edit&redlink=1\"\n",
    "].index.to_list()\n",
    "df.loc[index, \"info_2\"] = \"student\"\n",
    "\n",
    "df.loc[index, \"info_3\"] = \"murdered\"\n",
    "\n",
    "# # Hard-coding info_2 and info_3 values for Sarah-Jayne Mulvihill\n",
    "index = df[\n",
    "    df[\"link\"] == \"https://en.wikipedia.org/wiki/Flight_Lieutenant\"\n",
    "].index.to_list()\n",
    "df.loc[index, \"info_2\"] = \"British servicewoman\"\n",
    "\n",
    "df.loc[index, \"info_3\"] = \"killed in action\""
   ]
  },
  {
   "cell_type": "code",
   "execution_count": null,
   "id": "0d895994",
   "metadata": {},
   "outputs": [],
   "source": [
    "# Rechecking updated rows\n",
    "df[df[\"info_0\"].isin(values_lst)]"
   ]
  },
  {
   "cell_type": "markdown",
   "id": "16f31c48",
   "metadata": {},
   "source": [
    "#### Dropping Entry for Group"
   ]
  },
  {
   "cell_type": "code",
   "execution_count": null,
   "id": "743821af",
   "metadata": {},
   "outputs": [],
   "source": [
    "# Checking the entry representing a group\n",
    "group_entry = df[df[\"info_0\"] == \"Nearly 3\"]\n",
    "group_entry"
   ]
  },
  {
   "cell_type": "code",
   "execution_count": null,
   "id": "96869bbb",
   "metadata": {},
   "outputs": [],
   "source": [
    "# Dropping group entry, resetting index, and checking new shape of df\n",
    "df.drop(group_entry.index, inplace=True)\n",
    "df.reset_index(inplace=True, drop=True)\n",
    "df.shape"
   ]
  },
  {
   "cell_type": "markdown",
   "id": "b671f0c1",
   "metadata": {},
   "source": [
    "#### Extracting `age` from `info_0`"
   ]
  },
  {
   "cell_type": "code",
   "execution_count": null,
   "id": "a00b24ae",
   "metadata": {},
   "outputs": [],
   "source": [
    "# Column to check\n",
    "column = \"info_0\"\n",
    "\n",
    "# Dataframe to check\n",
    "dataframe = df\n",
    "\n",
    "# Pattern for re\n",
    "pattern = r\"(\\d{1,3})\"\n",
    "\n",
    "# Checking rows with pattern\n",
    "rows_to_check = rows_with_pattern(dataframe, column, pattern)\n",
    "\n",
    "# Checking a sample of rows\n",
    "df.loc[rows_to_check, :].sample(2)"
   ]
  },
  {
   "cell_type": "code",
   "execution_count": null,
   "id": "6fea5d8a",
   "metadata": {},
   "outputs": [],
   "source": [
    "# For loop to extract age from info_0 to age\n",
    "for index in rows_to_check:\n",
    "    item = df.loc[index, column]\n",
    "    match = re.search(pattern, item)\n",
    "    if match:\n",
    "        df.loc[index, \"age\"] = int(match.group(1))\n",
    "        df.loc[index, column] = re.sub(pattern, \"\", df.loc[index, column])\n",
    "\n",
    "# Rechecking number and example rows after treatment\n",
    "recheck_rows = rows_with_pattern(dataframe, column, pattern)\n",
    "\n",
    "# Recheck a sample of treated rows\n",
    "df.loc[rows_to_check, :].sample(2)"
   ]
  },
  {
   "cell_type": "markdown",
   "id": "7b0cf851",
   "metadata": {},
   "source": [
    "#### Observations:\n",
    "- The new `age` column has been added successfully.\n",
    "- We are finished processing `info_0`, and we can drop it, as it no longer contains information that we need."
   ]
  },
  {
   "cell_type": "markdown",
   "id": "0b4f15b5",
   "metadata": {},
   "source": [
    "#### Re-checking Unique Values for `info_0` and Dropping the Column"
   ]
  },
  {
   "cell_type": "code",
   "execution_count": null,
   "id": "3aaebb6a",
   "metadata": {},
   "outputs": [],
   "source": [
    "# Re-checking unique values for info_0 prior to dropping it\n",
    "df[\"info_0\"].unique()"
   ]
  },
  {
   "cell_type": "code",
   "execution_count": null,
   "id": "4b16db8f",
   "metadata": {},
   "outputs": [],
   "source": [
    "# Dropping info_0\n",
    "df.drop(\"info_0\", axis=1, inplace=True)"
   ]
  },
  {
   "cell_type": "markdown",
   "id": "319df002",
   "metadata": {},
   "source": [
    "#### Observations:\n",
    "- All of the age values were extracted from `info_0` and the column has been dropped.\n",
    "- We are ready to move on to processing `info_1`, which should primarily consist of age values, per the defined Wikipedia fields."
   ]
  },
  {
   "cell_type": "markdown",
   "id": "193d8b10",
   "metadata": {},
   "source": [
    "### `info_1`"
   ]
  },
  {
   "cell_type": "markdown",
   "id": "96114fd4",
   "metadata": {},
   "source": [
    "#### Unique Values"
   ]
  },
  {
   "cell_type": "code",
   "execution_count": null,
   "id": "fdfbc26a",
   "metadata": {
    "scrolled": false
   },
   "outputs": [],
   "source": [
    "# Checking unique values\n",
    "df[\"info_1\"].unique()"
   ]
  },
  {
   "cell_type": "markdown",
   "id": "7557e0c9",
   "metadata": {},
   "source": [
    "#### Observations:\n",
    "- There is a lot of variety in `info_1` and in the format of the age data.\n",
    "- Also, this field contains several values that we would expect in info_2 and beyond.\n",
    "- Let us take the approach of extracting age values first."
   ]
  },
  {
   "cell_type": "markdown",
   "id": "fd5a8f12",
   "metadata": {},
   "source": [
    "#### Examining Unique Formats for Age Data"
   ]
  },
  {
   "cell_type": "code",
   "execution_count": null,
   "id": "b1309be1",
   "metadata": {},
   "outputs": [],
   "source": [
    "# Column to check\n",
    "column = \"info_1\"\n",
    "\n",
    "# Dataframe to check\n",
    "dataframe = df\n",
    "\n",
    "# Pattern for re\n",
    "pattern = r\"\\d\"\n",
    "\n",
    "# List and number of rows matching pattern\n",
    "rows_to_check = rows_with_pattern(dataframe, column, pattern)\n",
    "\n",
    "# Checking unique values for column\n",
    "df.loc[rows_to_check, :][column].unique()"
   ]
  },
  {
   "cell_type": "markdown",
   "id": "42e9d296",
   "metadata": {},
   "source": [
    "#### Observations:\n",
    "- The data for age within `info_1` is in the following formats:  \n",
    "    - single integer (\"age\", \"age \", \"age.\")\n",
    "    - range of 2 integers (separators '-', '–', '/', and ' or ')\n",
    "    - range of 2 integers with only unit value for second number ('age1/age2-2nd-digit')\n",
    "    - age in days or months ('age days', 'age-months')\n",
    "    - estimates ('c. age', 'c.age',  'age?', 'ages' (e.g. 80s), \"age+\"\n",
    "- There are some specific rows that need to be examined, with the following values for `info_1`:\n",
    "    - German Olympic sailor [1]\n",
    "    - Taiwanese failed assassin in the 3-19 shooting incident\n",
    "    - 255\n",
    "    - 176\n",
    "    - the first wild bear in Germany in 170 years\n",
    "    - c. 3500\n",
    "    - common chimpanzee 55\n",
    "    - Maltese 15\n",
    "    - c.1000\n",
    "    - Tree of the Year 150\n",
    "- There are additional 4-digit values that likely represent years or other information, such as flight number, etc.  Unless the information is preceded by 'c.' we will opt to exclude it.\n",
    "- We will need to be strategic in the order in which we extract age from `info_1`.\n",
    "- First, we will look at the atypical values listed above."
   ]
  },
  {
   "cell_type": "markdown",
   "id": "362ed9d1",
   "metadata": {},
   "source": [
    "#### Examining Rows with Digits and Atypical Values for `info_1`"
   ]
  },
  {
   "cell_type": "code",
   "execution_count": null,
   "id": "16aeb029",
   "metadata": {
    "scrolled": false
   },
   "outputs": [],
   "source": [
    "# List of atypical info_1 values for rows with digits\n",
    "values_lst = [\n",
    "    \"German Olympic sailor [1]\",\n",
    "    \"Taiwanese failed assassin in the 3-19 shooting incident\",\n",
    "    \"255\",\n",
    "    \"176\",\n",
    "    \"the first wild bear in Germany in 170 years\",\n",
    "    \"c. 3500\",\n",
    "    \"common chimpanzee 55\",\n",
    "    \"Maltese 15\",\n",
    "    \"c.1000\",\n",
    "    \"Tree of the Year 150\",\n",
    "]\n",
    "\n",
    "df[df[column].isin(values_lst)]"
   ]
  },
  {
   "cell_type": "markdown",
   "id": "62ebe146",
   "metadata": {},
   "source": [
    "#### Observations:\n",
    "- Age data is either missing or the entry is for a member of a non-human species (tortoise, chimpanzee, dog, or tree).\n",
    "- Where age data is missing, we will drop the entry.  Age is missing for all of the human entries and for the bear, above.\n",
    "- Let us maintain non-human entries, as they may be interesting examine in the future, but we should keep a list of non-human species to facilitate entry types later."
   ]
  },
  {
   "cell_type": "markdown",
   "id": "307b3ce0",
   "metadata": {},
   "source": [
    "#### Selecting and Dropping Additional Rows Missing Age Data and Creating `other_species` List"
   ]
  },
  {
   "cell_type": "code",
   "execution_count": null,
   "id": "5b428441",
   "metadata": {},
   "outputs": [],
   "source": [
    "# Creating a list for other non-human species\n",
    "other_species = [\"tortoise\", \"tree\", \"chimpanzee\", \"dog\"]\n",
    "\n",
    "# For loop to create list of rows to drop\n",
    "rows_to_drop = []\n",
    "for index in df[df[column].isin(values_lst)].index:\n",
    "    item = df.loc[index, \"info\"]\n",
    "    if not any(species in item for species in other_species):\n",
    "        rows_to_drop.append(index)\n",
    "\n",
    "# Check rows to drop\n",
    "df.loc[rows_to_drop, :]"
   ]
  },
  {
   "cell_type": "code",
   "execution_count": null,
   "id": "54076e08",
   "metadata": {},
   "outputs": [],
   "source": [
    "# Dropping rows, resetting index, and checking new shape of df\n",
    "df.drop(rows_to_drop, inplace=True)\n",
    "df.reset_index(inplace=True, drop=True)\n",
    "df.shape"
   ]
  },
  {
   "cell_type": "markdown",
   "id": "2be61d80",
   "metadata": {},
   "source": [
    "#### Adding \"bear\" to `other_species` list"
   ]
  },
  {
   "cell_type": "code",
   "execution_count": null,
   "id": "eaa33038",
   "metadata": {},
   "outputs": [],
   "source": [
    "# Adding bear to other_species list\n",
    "other_species.append(\"bear\")"
   ]
  },
  {
   "cell_type": "markdown",
   "id": "46fe3ce3",
   "metadata": {},
   "source": [
    "#### Observations:\n",
    "- With those rows addressed, we will begin extracting age in days and months and convert them to years."
   ]
  },
  {
   "cell_type": "markdown",
   "id": "fce96075",
   "metadata": {},
   "source": [
    "### Extracting `age` from `info_1`"
   ]
  },
  {
   "cell_type": "markdown",
   "id": "70f7887e",
   "metadata": {},
   "source": [
    "#### Step 1: Age in Years and Months"
   ]
  },
  {
   "cell_type": "code",
   "execution_count": null,
   "id": "e5e45728",
   "metadata": {},
   "outputs": [],
   "source": [
    "# Column to check\n",
    "column = \"info_1\"\n",
    "\n",
    "# Dataframe to check\n",
    "dataframe = df\n",
    "\n",
    "# Dictionary of patterns for days and months formats as keys and factor to convert to years\n",
    "patterns = {\n",
    "    r\"(\\d{1,3})( days)\": 365,\n",
    "    r\"(\\d{1,3})(-months)\": 12,\n",
    "    r\"(\\d{1,3})( months)\": 12,\n",
    "}\n",
    "\n",
    "# List and number of rows matching patterns\n",
    "rows_to_check = multiple_patterns(dataframe, column, patterns)\n",
    "\n",
    "# Checking rows\n",
    "df.loc[rows_to_check, :]"
   ]
  },
  {
   "cell_type": "code",
   "execution_count": null,
   "id": "ddf210f8",
   "metadata": {},
   "outputs": [],
   "source": [
    "# For loop to extract age in days and months fromm info_1 and convert to years and save in age\n",
    "for key, value in patterns.items():\n",
    "    for index in rows_to_check:\n",
    "        item = df.loc[index, column]\n",
    "        match = re.search(key, item)\n",
    "        if match:\n",
    "            age = int(match.group(1)) / value\n",
    "            df.loc[index, \"age\"] = age\n",
    "            df.loc[index, column] = re.sub(key, \"\", df.loc[index, column])\n",
    "\n",
    "# Re-check number of rows matching patterns\n",
    "recheck_rows = multiple_patterns(dataframe, column, patterns)\n",
    "\n",
    "# Checking treated rows\n",
    "df.loc[rows_to_check, :]"
   ]
  },
  {
   "cell_type": "markdown",
   "id": "b44e7f85",
   "metadata": {},
   "source": [
    "#### Observations:\n",
    "- We have successfully captured the age in days and months values and converted them to years.\n",
    "- Next, we will address entries that contain two age values as a range, starting first with those that have a single digit as the second number."
   ]
  },
  {
   "cell_type": "markdown",
   "id": "42fdf057",
   "metadata": {},
   "source": [
    "#### Step 2: Extracting `age` from `info_1` for Entries with Age Estimate Containing Age Range with 2 Values"
   ]
  },
  {
   "cell_type": "markdown",
   "id": "aa711a2a",
   "metadata": {},
   "source": [
    "#### Ranges with Single Digit as Upper-end"
   ]
  },
  {
   "cell_type": "code",
   "execution_count": null,
   "id": "14b3002f",
   "metadata": {},
   "outputs": [],
   "source": [
    "# Column to check\n",
    "column = \"info_1\"\n",
    "\n",
    "# Dataframe to check\n",
    "dataframe = df\n",
    "\n",
    "# Pattern for re\n",
    "pattern = r\"(\\d{1,3})(/)(\\d)\\b\"\n",
    "\n",
    "# List and number of rows matching pattern\n",
    "rows_to_check = rows_with_pattern(dataframe, column, pattern)\n",
    "\n",
    "# Checking sample of rows\n",
    "df.loc[rows_to_check, :].sample(2)"
   ]
  },
  {
   "cell_type": "code",
   "execution_count": null,
   "id": "4d66974c",
   "metadata": {},
   "outputs": [],
   "source": [
    "# For loop to find rows with values and pattern and calculate and extract age to age column and remove age from info_1\n",
    "for index in rows_to_check:\n",
    "    item = df.loc[index, column]\n",
    "    match = re.search(pattern, item)\n",
    "    if match:\n",
    "        age_1 = int(match.group(1))\n",
    "        age_2 = int(match.group(3))\n",
    "        units = ((age_1 % 10) + age_2) / 2\n",
    "        tens = age_1 - (age_1 % 10)\n",
    "        age = tens + units\n",
    "        df.loc[index, \"age\"] = age\n",
    "        df.loc[index, column] = re.sub(pattern, \"\", df.loc[index, column])\n",
    "\n",
    "# Re-check number of rows matching patterns\n",
    "recheck_rows = multiple_patterns(dataframe, column, patterns)\n",
    "\n",
    "# Checking a sample of treated rows\n",
    "df.loc[rows_to_check, :].sample(2)"
   ]
  },
  {
   "cell_type": "markdown",
   "id": "0cdbe971",
   "metadata": {},
   "source": [
    "#### Observations:\n",
    "- The age with split units has been updated to reflect the average of the two values.\n",
    "- Next we will address the age ranges with two complete integer values."
   ]
  },
  {
   "cell_type": "markdown",
   "id": "f2b65a9e",
   "metadata": {},
   "source": [
    "#### Other Ranges with Two Values"
   ]
  },
  {
   "cell_type": "code",
   "execution_count": null,
   "id": "284160ae",
   "metadata": {},
   "outputs": [],
   "source": [
    "# Column to check\n",
    "column = \"info_1\"\n",
    "\n",
    "# Dataframe to check\n",
    "dataframe = df\n",
    "\n",
    "# Pattern for re\n",
    "pattern = r\"(\\d{1,3})(-|–|/| or )(\\d{1,3})\"\n",
    "\n",
    "# List and number of rows matching pattern\n",
    "rows_to_check = rows_with_pattern(dataframe, column, pattern)\n",
    "\n",
    "# Checking sample of rows\n",
    "df.loc[rows_to_check, :].sample(2)"
   ]
  },
  {
   "cell_type": "code",
   "execution_count": null,
   "id": "239725d4",
   "metadata": {},
   "outputs": [],
   "source": [
    "# For loop to find rows with values and pattern and calculate and extract age to age column and remove age from info_1\n",
    "for index in rows_to_check:\n",
    "    item = df.loc[index, column]\n",
    "    match = re.search(pattern, item)\n",
    "    if match:\n",
    "        age = (int(match.group(1)) + int(match.group(3))) / 2\n",
    "        df.loc[index, \"age\"] = age\n",
    "        df.loc[index, column] = re.sub(pattern, \"\", df.loc[index, column])\n",
    "\n",
    "# Re-check number of rows matching patterns\n",
    "recheck_rows = multiple_patterns(dataframe, column, patterns)\n",
    "\n",
    "# Checking a sample of treated rows\n",
    "df.loc[rows_to_check, :].sample(2)"
   ]
  },
  {
   "cell_type": "markdown",
   "id": "28fef44d",
   "metadata": {},
   "source": [
    "#### Observations:\n",
    "- The two-integer age ranges have been successfully treated and saved as the average of the two values in `age`.\n",
    "- Next, we will extract from the entries with straightforward single integer age values, including the formats: \"age\", \"age \", 'age.'.\n",
    "- More vague estimates (including 'c.', '+', '?', and ending in 's') are excluded here to allow closer examination, as they are more likely to by atypical entries."
   ]
  },
  {
   "cell_type": "markdown",
   "id": "921fa764",
   "metadata": {},
   "source": [
    "#### Step 3: Age as Single Integer (Excluding Estimates)"
   ]
  },
  {
   "cell_type": "code",
   "execution_count": null,
   "id": "1ef8c3e8",
   "metadata": {},
   "outputs": [],
   "source": [
    "# Column to check\n",
    "column = \"info_1\"\n",
    "\n",
    "# Dataframe to check\n",
    "dataframe = df\n",
    "\n",
    "# List of patterns for age formats with single integer for age\n",
    "patterns = [r\"^(\\d{1,3})$\", r\"^(\\d{1,3})\\s\", r\"^(\\d{1,3})\\.\\s\"]\n",
    "\n",
    "# List and number of rows matching patterns\n",
    "rows_to_check = multiple_patterns(df, column, patterns)\n",
    "\n",
    "# Checking a sample of rows\n",
    "df.loc[rows_to_check, :].sample(2)"
   ]
  },
  {
   "cell_type": "code",
   "execution_count": null,
   "id": "83c7a17f",
   "metadata": {},
   "outputs": [],
   "source": [
    "# For loop to check age pattern in info_1, save age to age column, and remove from age from info_1\n",
    "for index in rows_to_check:\n",
    "    for pattern in patterns:\n",
    "        item = df.loc[index, column]\n",
    "        match = re.search(pattern, item)\n",
    "        if match:\n",
    "            age = int(match.group(1))\n",
    "            df.loc[index, \"age\"] = age\n",
    "            df.loc[index, column] = re.sub(pattern, \"\", df.loc[index, column])\n",
    "\n",
    "# Re-checking number of rows matching patterns\n",
    "recheck_rows = multiple_patterns(dataframe, column, patterns)\n",
    "\n",
    "# Checking first 2 rows\n",
    "df.head(2)"
   ]
  },
  {
   "cell_type": "code",
   "execution_count": null,
   "id": "b05fc3a1",
   "metadata": {},
   "outputs": [],
   "source": [
    "# Checking last 2 rows\n",
    "df.tail(2)"
   ]
  },
  {
   "cell_type": "code",
   "execution_count": null,
   "id": "fae96f14",
   "metadata": {},
   "outputs": [],
   "source": [
    "# Checking the number of remaining missing values for `age`\n",
    "print(f'There are {df[\"age\"].isna().sum()} remaining missing values for age.')"
   ]
  },
  {
   "cell_type": "markdown",
   "id": "af0bb535",
   "metadata": {},
   "source": [
    "#### Observations:\n",
    "- The rows with single integer age data have been addressed.\n",
    "- There are only 155 remaining missing values for `age` after extracting age in days, months, single integer years, and 2-integer year range values.\n",
    "- Let us check the rows containing 'c.', '+', or '?' in the age information.  We will do the ranges ending in 's', such as 80s, separately as we will treat the age value differently for those entries."
   ]
  },
  {
   "cell_type": "markdown",
   "id": "1fead163",
   "metadata": {},
   "source": [
    "#### Entries with Age Data Containing 'c.', '+', or '?' for Estimate"
   ]
  },
  {
   "cell_type": "code",
   "execution_count": null,
   "id": "8be0bcc4",
   "metadata": {
    "scrolled": false
   },
   "outputs": [],
   "source": [
    "# Column to check\n",
    "column = \"info_1\"\n",
    "\n",
    "# Dataframe to check\n",
    "dataframe = df\n",
    "\n",
    "# Pattern for re\n",
    "pattern = r\"(c\\.|\\+|\\?)\"\n",
    "\n",
    "# List and number of rows matching pattern\n",
    "rows_to_check = rows_with_pattern(dataframe, column, pattern)\n",
    "\n",
    "# Inspecting rows containing values\n",
    "df.loc[rows_to_check, :]"
   ]
  },
  {
   "cell_type": "markdown",
   "id": "9028995f",
   "metadata": {},
   "source": [
    "#### Observations:\n",
    "- Most of the entries are for people, but there are also one or more entries for the following:\n",
    "    - carp\n",
    "    - racehorse\n",
    "    - chimpanzee\n",
    "    - flamingo\n",
    "    - cat\n",
    "    - turkey\n",
    "- We will proceed to check `info_2` for these non-human-entry values and drop these and other rows representing members of these other species."
   ]
  },
  {
   "cell_type": "markdown",
   "id": "45339bc5",
   "metadata": {},
   "source": [
    "#### Checking for Cat, Racehorse, Chimpanzee, Carp, and Flamingo in `info_2`"
   ]
  },
  {
   "cell_type": "code",
   "execution_count": null,
   "id": "29a696a6",
   "metadata": {},
   "outputs": [],
   "source": [
    "# Column to check\n",
    "column = \"info_2\"\n",
    "\n",
    "# Dataframe to check\n",
    "dataframe = df[df[column].notna()]\n",
    "\n",
    "# pattern for re\n",
    "pattern = r\"\\b(cat|racehorse|chimpanzee|carp|flamingo|turkey)\\b\"\n",
    "\n",
    "# List and number of rows matching pattern\n",
    "rows_to_check = rows_with_pattern(dataframe, column, pattern)\n",
    "\n",
    "# Checking a sample of rows\n",
    "df.loc[rows_to_check, :].sample(2)"
   ]
  },
  {
   "cell_type": "markdown",
   "id": "8043ca3d",
   "metadata": {},
   "source": [
    "#### Observations:\n",
    "- There are sufficient rows to warrant checking species by species."
   ]
  },
  {
   "cell_type": "markdown",
   "id": "75af68e4",
   "metadata": {},
   "source": [
    "#### Cat Entries per `info_2`"
   ]
  },
  {
   "cell_type": "code",
   "execution_count": null,
   "id": "fa5ecb12",
   "metadata": {
    "scrolled": false
   },
   "outputs": [],
   "source": [
    "# Column to check\n",
    "column = \"info_2\"\n",
    "\n",
    "# Dataframe to check\n",
    "dataframe = df[df[column].notna()]\n",
    "\n",
    "# Pattern for re\n",
    "pattern = r\"\\b(cat)\\b\"\n",
    "\n",
    "# List and number of rows matching pattern\n",
    "rows_to_check = rows_with_pattern(dataframe, column, pattern)\n",
    "\n",
    "# Inpsecting rows with pattern\n",
    "df.loc[rows_to_check, :]"
   ]
  },
  {
   "cell_type": "markdown",
   "id": "7d92f7c8",
   "metadata": {},
   "source": [
    "#### Observations:\n",
    "- There is one person represented.  \n",
    "- We can proceed to drop the others, using \"cat\", \"cat of\", and \"cat in\" patterns."
   ]
  },
  {
   "cell_type": "markdown",
   "id": "d066dcff",
   "metadata": {},
   "source": [
    "#### Dropping Entries for Cats per `info_2`"
   ]
  },
  {
   "cell_type": "code",
   "execution_count": null,
   "id": "10b09816",
   "metadata": {
    "scrolled": false
   },
   "outputs": [],
   "source": [
    "column = \"info_2\"\n",
    "\n",
    "dataframe = df[df[column].notna()]\n",
    "\n",
    "# List of re patterns to find\n",
    "patterns = [r\"\\bcat$\", r\"\\b(cat of|cat in)\\b\"]\n",
    "\n",
    "# List and number of rows matching pattern\n",
    "rows_to_drop = multiple_patterns(dataframe, column, patterns)\n",
    "\n",
    "# Checking a sample of rows\n",
    "df.loc[rows_to_drop, :].sample(2)"
   ]
  },
  {
   "cell_type": "code",
   "execution_count": null,
   "id": "cab909e5",
   "metadata": {},
   "outputs": [],
   "source": [
    "# Dropping rows, resetting index, and checking new shape of df\n",
    "df.drop(rows_to_drop, inplace=True)\n",
    "df.reset_index(inplace=True, drop=True)\n",
    "df.shape"
   ]
  },
  {
   "cell_type": "markdown",
   "id": "5bd39a81",
   "metadata": {},
   "source": [
    "####  Racehorse Entries per `info_2`"
   ]
  },
  {
   "cell_type": "code",
   "execution_count": null,
   "id": "fa5fcb09",
   "metadata": {
    "scrolled": false
   },
   "outputs": [],
   "source": [
    "# Column to check\n",
    "column = \"info_2\"\n",
    "\n",
    "# Dataframe to check\n",
    "dataframe = df[df[column].notna()]\n",
    "\n",
    "# Pattern for re\n",
    "pattern = r\"\\bracehorse\\b\"\n",
    "\n",
    "# List and number of rows matching pattern\n",
    "rows_to_check = rows_with_pattern(dataframe, column, pattern)\n",
    "\n",
    "# Checking a sample of rows\n",
    "df.loc[rows_to_check, :].sample(10)"
   ]
  },
  {
   "cell_type": "markdown",
   "id": "18bba372",
   "metadata": {},
   "source": [
    "#### Observations:\n",
    "- There are several entries for people involved in the racehorse business.\n",
    "- Values that end in 'racehorse' and 'racehorse and sire' can be removed."
   ]
  },
  {
   "cell_type": "markdown",
   "id": "6fb3f762",
   "metadata": {},
   "source": [
    "#### Dropping Entries for Racehorses per `info_2`"
   ]
  },
  {
   "cell_type": "code",
   "execution_count": null,
   "id": "6b85122b",
   "metadata": {
    "scrolled": false
   },
   "outputs": [],
   "source": [
    "# Column to check\n",
    "column = \"info_2\"\n",
    "\n",
    "# Dataframe to check\n",
    "dataframe = df[df[column].notna()]\n",
    "\n",
    "# List of re patterns to find\n",
    "patterns = [r\"\\bracehorse$\", r\"\\b(racehorse and sire)$\"]\n",
    "\n",
    "# List and number of rows matching pattern\n",
    "rows_to_drop = multiple_patterns(dataframe, column, patterns)\n",
    "\n",
    "# Checking a sample of rows\n",
    "df.loc[rows_to_drop, :].sample(2)"
   ]
  },
  {
   "cell_type": "code",
   "execution_count": null,
   "id": "e1d45e22",
   "metadata": {},
   "outputs": [],
   "source": [
    "# Dropping rows, resetting index, and checking new shape of df\n",
    "df.drop(rows_to_drop, inplace=True)\n",
    "df.reset_index(inplace=True, drop=True)\n",
    "df.shape"
   ]
  },
  {
   "cell_type": "markdown",
   "id": "bf037fb4",
   "metadata": {},
   "source": [
    "####  Chimpanzee, Flamingo,  Carp, and Turkey Entries per `info_2`"
   ]
  },
  {
   "cell_type": "code",
   "execution_count": null,
   "id": "d1328ae5",
   "metadata": {
    "scrolled": false
   },
   "outputs": [],
   "source": [
    "# Column to check\n",
    "column = \"info_2\"\n",
    "\n",
    "# Dataframe to check\n",
    "dataframe = df[df[column].notna()]\n",
    "\n",
    "# Defining pattern for re\n",
    "pattern = r\"\\b(chimpanzee|flamingo|carp|turkey)\\b\"\n",
    "\n",
    "# List and number of rows matching pattern\n",
    "rows_to_check = rows_with_pattern(dataframe, column, pattern)\n",
    "\n",
    "# Inpsecting rows with pattern\n",
    "df.loc[rows_to_check, :]"
   ]
  },
  {
   "cell_type": "markdown",
   "id": "e01823b3",
   "metadata": {},
   "source": [
    "#### Observations:\n",
    "- All of these rows are for animals, so we will remove them."
   ]
  },
  {
   "cell_type": "markdown",
   "id": "42415803",
   "metadata": {},
   "source": [
    "#### Dropping Entries for Chimpanzees, Flamingos,  Carps, and Turkeys per `info_2`"
   ]
  },
  {
   "cell_type": "code",
   "execution_count": null,
   "id": "676d4edb",
   "metadata": {},
   "outputs": [],
   "source": [
    "# Dropping rows, resetting index, and checking new shape of df\n",
    "rows_to_drop = rows_to_check.copy()\n",
    "df.drop(rows_to_drop, inplace=True)\n",
    "df.reset_index(inplace=True, drop=True)\n",
    "df.shape"
   ]
  },
  {
   "cell_type": "markdown",
   "id": "4acffcc7",
   "metadata": {},
   "source": [
    "#### Observations:\n",
    "- With those non-human entries addressed, we can return to processing `info_1`.\n",
    "- We will need to be on the lookout for other non-human entries, in `info_2` and beyond.\n",
    "- Let us address the remaining entries with '?', '+', or 'c.', accepting the estimated age as `age`.\n",
    "- We will treat the age estimates ending in 's' similarly, but separately."
   ]
  },
  {
   "cell_type": "markdown",
   "id": "8d6af216",
   "metadata": {},
   "source": [
    "#### Extracting `age` from `info_1` for Entries with Age Estimate Containing '?', '+', or 'c.'"
   ]
  },
  {
   "cell_type": "code",
   "execution_count": null,
   "id": "3f1d3ecc",
   "metadata": {},
   "outputs": [],
   "source": [
    "# Column to check\n",
    "column = \"info_1\"\n",
    "\n",
    "# Dataframe to check\n",
    "dataframe = df[df[\"age\"].isna()]\n",
    "\n",
    "# Pattern for re\n",
    "pattern_1 = r\"(c\\.|\\+|\\?)\"\n",
    "\n",
    "# List and number of rows matching pattern_1\n",
    "rows_to_check = rows_with_pattern(dataframe, column, pattern_1)\n",
    "\n",
    "# Checking a sample of rows\n",
    "df.loc[rows_to_check, :].sample(2)"
   ]
  },
  {
   "cell_type": "code",
   "execution_count": null,
   "id": "a339c6f4",
   "metadata": {},
   "outputs": [],
   "source": [
    "# List to identify rows\n",
    "values = [\"c.\", \"+\", \"?\"]\n",
    "\n",
    "# Pattern for re\n",
    "pattern_2 = r\"\\b(\\d{1,3})\\b\"\n",
    "\n",
    "# For loop to find rows with values and pattern and extract age to age column and remove age from info_1\n",
    "for index in rows_to_check:\n",
    "    item = df.loc[index, column]\n",
    "    match = re.search(pattern_2, item)\n",
    "    if match:\n",
    "        age = int(match.group(1))\n",
    "        df.loc[index, \"age\"] = age\n",
    "        df.loc[index, column] = re.sub(pattern_2, \"\", df.loc[index, column])\n",
    "\n",
    "    for value in values:\n",
    "        df.loc[index, column] = df.loc[index, column].replace(value, \"\").strip()\n",
    "\n",
    "\n",
    "# Re-check number of rows matching pattern_1 and pattern_2\n",
    "recheck_rows = rows_with_pattern(df.loc[rows_to_check, :], column, pattern_2)\n",
    "\n",
    "# Checking a sample of treated rows\n",
    "df.loc[rows_to_check, :].sample(2)"
   ]
  },
  {
   "cell_type": "markdown",
   "id": "b2a1564a",
   "metadata": {},
   "source": [
    "#### Observations:\n",
    "- With those values treated, ages ending in 's' should be the only ones remaining in the `info_1` column.\n",
    "- We will examine those now."
   ]
  },
  {
   "cell_type": "markdown",
   "id": "f1a2fa8b",
   "metadata": {},
   "source": [
    "#### Extracting `age` from `info_1` for Entries with Age Estimate ending in 's'"
   ]
  },
  {
   "cell_type": "code",
   "execution_count": null,
   "id": "f51c247a",
   "metadata": {},
   "outputs": [],
   "source": [
    "# Column to check\n",
    "column = \"info_1\"\n",
    "\n",
    "# Dataframe to check\n",
    "dataframe = df\n",
    "\n",
    "# Defining pattern for re\n",
    "pattern = r\"\\b(\\d{1,3})s\\b\"\n",
    "\n",
    "# List and number of rows matching pattern\n",
    "rows_to_check = rows_with_pattern(dataframe, column, pattern)\n",
    "\n",
    "# Inpsecting rows with pattern\n",
    "df.loc[rows_to_check, :]"
   ]
  },
  {
   "cell_type": "markdown",
   "id": "751fe8b4",
   "metadata": {},
   "source": [
    "#### Observations:\n",
    "- They are all for people, so we can extract `age` from `info` and set it to the middle value of the range.\n",
    "- We will also replace the age-associated qualifier `early` from `info_1` with an empty string."
   ]
  },
  {
   "cell_type": "code",
   "execution_count": null,
   "id": "98aca1f2",
   "metadata": {},
   "outputs": [],
   "source": [
    "# For loop to find rows with values and pattern and extract age to age column and remove age from info_1\n",
    "for index in rows_to_check:\n",
    "    item = df.loc[index, column]\n",
    "    match = re.search(pattern, item)\n",
    "    if match:\n",
    "        age = int(match.group(1))\n",
    "        df.loc[index, \"age\"] = age + 5\n",
    "        df.loc[index, column] = re.sub(pattern, \"\", df.loc[index, column])\n",
    "    if \"early \" in item:\n",
    "        df.loc[index, column] = df.loc[index, column].replace(\"early \", \"\")\n",
    "\n",
    "# Re-checking number of rows matching pattern\n",
    "recheck_rows = rows_with_pattern(dataframe, column, pattern)\n",
    "\n",
    "# Checking a sample of treated rows\n",
    "df.loc[rows_to_check, :].sample(2)"
   ]
  },
  {
   "cell_type": "markdown",
   "id": "cea706f5",
   "metadata": {},
   "source": [
    "#### Observations:\n",
    "- All of the age data contained in `info_1` should now be extracted.\n",
    "- We will verify and check the number of remaining missing values for `age`."
   ]
  },
  {
   "cell_type": "markdown",
   "id": "bc426758",
   "metadata": {},
   "source": [
    "### Checking for Any Missed Digits in `info_1` and for Remaining Missing Values for `age`"
   ]
  },
  {
   "cell_type": "code",
   "execution_count": null,
   "id": "c78daa6d",
   "metadata": {},
   "outputs": [],
   "source": [
    "# Column to check\n",
    "column = \"info_1\"\n",
    "\n",
    "# Dataframe to check\n",
    "dataframe = df\n",
    "\n",
    "# Pattern for re\n",
    "pattern = r\"\\d\"\n",
    "\n",
    "# Re-checking number of rows matching pattern\n",
    "rows_to_check = rows_with_pattern(dataframe, column, pattern)\n",
    "\n",
    "# Checking number of missing values for age\n",
    "print(f'\\nThere are {df[\"age\"].isna().sum()} remaining missing values for age.')"
   ]
  },
  {
   "cell_type": "markdown",
   "id": "d4af1a15",
   "metadata": {},
   "source": [
    "### Observations:\n",
    "- All of the age data that had been in `info_1` has been successfully extracted.\n",
    "- There are 79 remaining missing values for `age` that we hope to find in the other info columns.\n",
    "- We will include the remaining values in `info_1` when we extract citizenship and role information.\n",
    "- It is time to export the current dataframe to a SQLite database, so we can start a third notebook."
   ]
  },
  {
   "cell_type": "markdown",
   "id": "76e11174",
   "metadata": {},
   "source": [
    "### Exporting Dataset to SQLite Database [wp_life_expect_clean1.db](https://github.com/teresahanak/wikipedia-life-expectancy/blob/main/wp_life_expect_clean1.db)"
   ]
  },
  {
   "cell_type": "code",
   "execution_count": null,
   "id": "d48e1d40",
   "metadata": {},
   "outputs": [],
   "source": [
    "# Saving complete raw dataset in a SQLite database\n",
    "conn = sql.connect(\"wp_life_expect_clean1.db\")\n",
    "df.to_sql(\"wp_life_expect_clean1\", conn, index=False)"
   ]
  },
  {
   "cell_type": "markdown",
   "id": "921edb5f",
   "metadata": {},
   "source": [
    "# [Proceed to Notebook 3 of  4:  Data Cleaning Part 2](https://github.com/teresahanak/wikipedia-life-expectancy/blob/main/wp_life_expect_data_clean2_thanak_2022_06_17.ipynb)"
   ]
  }
 ],
 "metadata": {
  "kernelspec": {
   "display_name": "Python 3 (ipykernel)",
   "language": "python",
   "name": "python3"
  },
  "language_info": {
   "codemirror_mode": {
    "name": "ipython",
    "version": 3
   },
   "file_extension": ".py",
   "mimetype": "text/x-python",
   "name": "python",
   "nbconvert_exporter": "python",
   "pygments_lexer": "ipython3",
   "version": "3.9.12"
  }
 },
 "nbformat": 4,
 "nbformat_minor": 5
}
